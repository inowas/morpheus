{
 "cells": [
  {
   "cell_type": "code",
   "execution_count": 1,
   "id": "ba6761fae9d5e5cb",
   "metadata": {
    "ExecuteTime": {
     "end_time": "2024-05-14T08:14:14.751300Z",
     "start_time": "2024-05-14T08:14:14.746994Z"
    },
    "collapsed": false,
    "execution": {
     "iopub.execute_input": "2024-05-15T16:00:20.009842Z",
     "iopub.status.busy": "2024-05-15T16:00:20.009296Z",
     "iopub.status.idle": "2024-05-15T16:00:20.015947Z",
     "shell.execute_reply": "2024-05-15T16:00:20.015237Z"
    },
    "papermill": {
     "duration": 0.027046,
     "end_time": "2024-05-15T16:00:20.018250",
     "exception": false,
     "start_time": "2024-05-15T16:00:19.991204",
     "status": "completed"
    },
    "tags": []
   },
   "source": [
    "import sys\n",
    "\n",
    "sys.path.insert(0, '..')"
   ],
   "outputs": []
  },
  {
   "cell_type": "markdown",
   "id": "5ede1ba5e0993dd1",
   "metadata": {
    "collapsed": false,
    "papermill": {
     "duration": 0.006957,
     "end_time": "2024-05-15T16:00:20.033136",
     "exception": false,
     "start_time": "2024-05-15T16:00:20.026179",
     "status": "completed"
    },
    "tags": []
   },
   "source": [
    "## Setup the model area"
   ]
  },
  {
   "cell_type": "code",
   "execution_count": 2,
   "id": "2f69504ab35487aa",
   "metadata": {
    "ExecuteTime": {
     "end_time": "2024-05-14T08:14:15.306330Z",
     "start_time": "2024-05-14T08:14:14.753633Z"
    },
    "collapsed": false,
    "execution": {
     "iopub.execute_input": "2024-05-15T16:00:20.044027Z",
     "iopub.status.busy": "2024-05-15T16:00:20.043735Z",
     "iopub.status.idle": "2024-05-15T16:00:20.642851Z",
     "shell.execute_reply": "2024-05-15T16:00:20.642562Z"
    },
    "papermill": {
     "duration": 0.605925,
     "end_time": "2024-05-15T16:00:20.643891",
     "exception": false,
     "start_time": "2024-05-15T16:00:20.037966",
     "status": "completed"
    },
    "tags": []
   },
   "source": [
    "from morpheus.project.types.discretization import SpatialDiscretization\n",
    "from morpheus.project.types.discretization.spatial import Rotation, Grid, Crs\n",
    "from morpheus.project.types.geometry import Polygon\n",
    "\n",
    "polygon = Polygon(\n",
    "  type='Polygon',\n",
    "  coordinates=[[\n",
    "    (13.92, 50.964),\n",
    "    (13.92, 50.966),\n",
    "    (13.925, 50.966),\n",
    "    (13.925, 50.964),\n",
    "    (13.92, 50.964)\n",
    "  ]]\n",
    ")\n",
    "\n",
    "rotation = Rotation(0)\n",
    "\n",
    "grid = Grid.cartesian_from_polygon(polygon=polygon, n_cols=100, n_rows=50, rotation=rotation)\n",
    "spatial_discretization = SpatialDiscretization.from_geometry_with_grid(\n",
    "  geometry=polygon,\n",
    "  grid=grid,\n",
    "  crs=Crs.from_str('EPSG:4326')\n",
    ")"
   ],
   "outputs": []
  },
  {
   "cell_type": "markdown",
   "id": "fa27e67f9d801845",
   "metadata": {
    "collapsed": false,
    "papermill": {
     "duration": 0.001924,
     "end_time": "2024-05-15T16:00:20.648120",
     "exception": false,
     "start_time": "2024-05-15T16:00:20.646196",
     "status": "completed"
    },
    "tags": []
   },
   "source": [
    "## Setup Time Discretization"
   ]
  },
  {
   "cell_type": "code",
   "execution_count": 3,
   "id": "8e4e63dd138db9fc",
   "metadata": {
    "ExecuteTime": {
     "end_time": "2024-05-14T08:14:15.309794Z",
     "start_time": "2024-05-14T08:14:15.306910Z"
    },
    "collapsed": false,
    "execution": {
     "iopub.execute_input": "2024-05-15T16:00:20.652543Z",
     "iopub.status.busy": "2024-05-15T16:00:20.652403Z",
     "iopub.status.idle": "2024-05-15T16:00:20.654806Z",
     "shell.execute_reply": "2024-05-15T16:00:20.654561Z"
    },
    "papermill": {
     "duration": 0.005579,
     "end_time": "2024-05-15T16:00:20.655575",
     "exception": false,
     "start_time": "2024-05-15T16:00:20.649996",
     "status": "completed"
    },
    "tags": []
   },
   "source": [
    "from morpheus.project.types.discretization.time.TimeUnit import TimeUnit\n",
    "from morpheus.project.types.discretization.time.Stressperiods import StartDateTime, StressPeriodCollection, \\\n",
    "  StressPeriod, NumberOfTimeSteps, TimeStepMultiplier, IsSteadyState\n",
    "from morpheus.project.types.discretization.time import TimeDiscretization\n",
    "from datetime import datetime\n",
    "\n",
    "time_discretization = TimeDiscretization(\n",
    "  start_date_time=StartDateTime.from_datetime(datetime(2020, 1, 1)),\n",
    "  end_date_time=StartDateTime.from_datetime(datetime(2020, 12, 31)),\n",
    "  stress_periods=StressPeriodCollection([\n",
    "    StressPeriod(\n",
    "      start_date_time=StartDateTime.from_datetime(datetime(2020, 1, 1)),\n",
    "      number_of_time_steps=NumberOfTimeSteps(1),\n",
    "      time_step_multiplier=TimeStepMultiplier(1),\n",
    "      steady_state=IsSteadyState.yes()\n",
    "    ),\n",
    "  ]),\n",
    "  time_unit=TimeUnit.days()\n",
    ")"
   ],
   "outputs": []
  },
  {
   "cell_type": "markdown",
   "id": "963ba8729f09fcec",
   "metadata": {
    "collapsed": false,
    "papermill": {
     "duration": 0.001877,
     "end_time": "2024-05-15T16:00:20.659494",
     "exception": false,
     "start_time": "2024-05-15T16:00:20.657617",
     "status": "completed"
    },
    "tags": []
   },
   "source": [
    "# Setup Model"
   ]
  },
  {
   "cell_type": "code",
   "execution_count": 4,
   "id": "1d5c9125b1b9360b",
   "metadata": {
    "ExecuteTime": {
     "end_time": "2024-05-14T08:14:15.708957Z",
     "start_time": "2024-05-14T08:14:15.310808Z"
    },
    "collapsed": false,
    "execution": {
     "iopub.execute_input": "2024-05-15T16:00:20.663780Z",
     "iopub.status.busy": "2024-05-15T16:00:20.663675Z",
     "iopub.status.idle": "2024-05-15T16:00:21.016919Z",
     "shell.execute_reply": "2024-05-15T16:00:21.016481Z"
    },
    "papermill": {
     "duration": 0.356823,
     "end_time": "2024-05-15T16:00:21.018225",
     "exception": false,
     "start_time": "2024-05-15T16:00:20.661402",
     "status": "completed"
    },
    "tags": []
   },
   "source": [
    "from morpheus.project.types.Model import Model\n",
    "\n",
    "model = Model.new()\n",
    "model = model.with_updated_time_discretization(time_discretization)\n",
    "model = model.with_updated_spatial_discretization(spatial_discretization=spatial_discretization)"
   ],
   "outputs": []
  },
  {
   "cell_type": "code",
   "execution_count": 5,
   "id": "1540b870ae83f298",
   "metadata": {
    "ExecuteTime": {
     "end_time": "2024-05-14T08:14:15.885016Z",
     "start_time": "2024-05-14T08:14:15.710589Z"
    },
    "collapsed": false,
    "execution": {
     "iopub.execute_input": "2024-05-15T16:00:21.023845Z",
     "iopub.status.busy": "2024-05-15T16:00:21.023592Z",
     "iopub.status.idle": "2024-05-15T16:00:21.183171Z",
     "shell.execute_reply": "2024-05-15T16:00:21.182918Z"
    },
    "papermill": {
     "duration": 0.163417,
     "end_time": "2024-05-15T16:00:21.184092",
     "exception": false,
     "start_time": "2024-05-15T16:00:21.020675",
     "status": "completed"
    },
    "tags": []
   },
   "source": [
    "import folium\n",
    "\n",
    "m = folium.Map(tiles=\"cartodbpositron\", crs=\"EPSG3857\", zoom_start=12, location=[50.965, 13.922])\n",
    "m.add_child(folium.GeoJson(polygon.as_geojson()))\n",
    "\n",
    "m.fit_bounds(m.get_bounds())\n",
    "m"
   ],
   "outputs": []
  },
  {
   "cell_type": "markdown",
   "id": "6e0618c988efcbfa",
   "metadata": {
    "collapsed": false,
    "papermill": {
     "duration": 0.002109,
     "end_time": "2024-05-15T16:00:21.188543",
     "exception": false,
     "start_time": "2024-05-15T16:00:21.186434",
     "status": "completed"
    },
    "tags": []
   },
   "source": [
    "# Setup Wells"
   ]
  },
  {
   "cell_type": "code",
   "execution_count": 6,
   "id": "1e553190d145e2ba",
   "metadata": {
    "ExecuteTime": {
     "end_time": "2024-05-14T08:14:17.058611Z",
     "start_time": "2024-05-14T08:14:15.885621Z"
    },
    "collapsed": false,
    "execution": {
     "iopub.execute_input": "2024-05-15T16:00:21.193372Z",
     "iopub.status.busy": "2024-05-15T16:00:21.193136Z",
     "iopub.status.idle": "2024-05-15T16:00:22.437904Z",
     "shell.execute_reply": "2024-05-15T16:00:22.437177Z"
    },
    "papermill": {
     "duration": 1.251084,
     "end_time": "2024-05-15T16:00:22.441693",
     "exception": false,
     "start_time": "2024-05-15T16:00:21.190609",
     "status": "completed"
    },
    "tags": []
   },
   "source": [
    "from morpheus.project.types.boundaries.WellObservation import WellRawDataItem, PumpingRate\n",
    "from morpheus.project.types.geometry import Point\n",
    "from morpheus.project.types.boundaries.Boundary import BoundaryName, BoundaryCollection, WellBoundary\n",
    "\n",
    "boundary_collection = BoundaryCollection.new()\n",
    "\n",
    "well_boundary_1 = WellBoundary.from_geometry(\n",
    "  name=BoundaryName('well_1'),\n",
    "  geometry=Point((13.921, 50.965)),\n",
    "  grid=grid,\n",
    "  affected_layers=[model.layers[0].layer_id],\n",
    "  data=[\n",
    "    WellRawDataItem(\n",
    "      date_time=StartDateTime.from_datetime(datetime(2019, 1, 1)),\n",
    "      pumping_rate=PumpingRate.from_float(-1000),\n",
    "    ),\n",
    "    WellRawDataItem(\n",
    "      date_time=StartDateTime.from_datetime(datetime(2021, 12, 31)),\n",
    "      pumping_rate=PumpingRate.from_float(-1000),\n",
    "    ),\n",
    "  ]\n",
    ")\n",
    "\n",
    "well_boundary_2 = WellBoundary.from_geometry(\n",
    "  name=BoundaryName('well_2'),\n",
    "  geometry=Point((13.923, 50.9655)),\n",
    "  grid=grid,\n",
    "  affected_layers=[model.layers[0].layer_id],\n",
    "  data=[\n",
    "    WellRawDataItem(\n",
    "      date_time=StartDateTime.from_datetime(datetime(2019, 1, 1)),\n",
    "      pumping_rate=PumpingRate.from_float(1000),\n",
    "    ),\n",
    "    WellRawDataItem(\n",
    "      date_time=StartDateTime.from_datetime(datetime(2021, 12, 31)),\n",
    "      pumping_rate=PumpingRate.from_float(1000),\n",
    "    ),\n",
    "  ]\n",
    ")\n",
    "\n",
    "boundary_collection.add_boundary(well_boundary_1)\n",
    "boundary_collection.add_boundary(well_boundary_2)\n",
    "\n",
    "model = model.with_updated_boundaries(boundaries=boundary_collection)\n",
    "\n",
    "m.add_child(folium.GeoJson(well_boundary_1.as_geojson()))\n",
    "m.add_child(folium.GeoJson(well_boundary_1.affected_cells.to_geojson(grid).as_geojson()))\n",
    "m.add_child(folium.GeoJson(well_boundary_2.as_geojson()))\n",
    "m.add_child(folium.GeoJson(well_boundary_2.affected_cells.to_geojson(grid).as_geojson()))\n",
    "\n",
    "m.fit_bounds(m.get_bounds())\n",
    "m"
   ],
   "outputs": []
  },
  {
   "cell_type": "code",
   "execution_count": 7,
   "id": "dc338472e1887a13",
   "metadata": {
    "ExecuteTime": {
     "end_time": "2024-05-14T08:14:17.432443Z",
     "start_time": "2024-05-14T08:14:17.059257Z"
    },
    "collapsed": false,
    "execution": {
     "iopub.execute_input": "2024-05-15T16:00:22.451215Z",
     "iopub.status.busy": "2024-05-15T16:00:22.450962Z",
     "iopub.status.idle": "2024-05-15T16:00:22.747057Z",
     "shell.execute_reply": "2024-05-15T16:00:22.746782Z"
    },
    "papermill": {
     "duration": 0.302808,
     "end_time": "2024-05-15T16:00:22.747922",
     "exception": false,
     "start_time": "2024-05-15T16:00:22.445114",
     "status": "completed"
    },
    "tags": []
   },
   "source": [
    "from morpheus.project.infrastructure.calculation.engines.modflow_2005.packages.WelPackageMapper import \\\n",
    "  calculate_wel_boundary_stress_period_data\n",
    "\n",
    "result = calculate_wel_boundary_stress_period_data(\n",
    "  spatial_discretization=spatial_discretization,\n",
    "  time_discretization=time_discretization,\n",
    "  layers=model.layers,\n",
    "  wel_boundary=well_boundary_1,\n",
    ")\n",
    "print(result.to_dict())\n",
    "\n",
    "result = calculate_wel_boundary_stress_period_data(\n",
    "  spatial_discretization=spatial_discretization,\n",
    "  time_discretization=time_discretization,\n",
    "  layers=model.layers,\n",
    "  wel_boundary=well_boundary_2,\n",
    ")\n",
    "print(result.to_dict())"
   ],
   "outputs": []
  },
  {
   "cell_type": "markdown",
   "id": "42d948d145a8457a",
   "metadata": {
    "collapsed": false,
    "papermill": {
     "duration": 0.002295,
     "end_time": "2024-05-15T16:00:22.752788",
     "exception": false,
     "start_time": "2024-05-15T16:00:22.750493",
     "status": "completed"
    },
    "tags": []
   },
   "source": [
    "## Calculate"
   ]
  },
  {
   "cell_type": "code",
   "execution_count": 8,
   "id": "56ccabee86e2397e",
   "metadata": {
    "ExecuteTime": {
     "end_time": "2024-05-14T08:14:17.445399Z",
     "start_time": "2024-05-14T08:14:17.433092Z"
    },
    "collapsed": false,
    "execution": {
     "iopub.execute_input": "2024-05-15T16:00:22.758018Z",
     "iopub.status.busy": "2024-05-15T16:00:22.757757Z",
     "iopub.status.idle": "2024-05-15T16:00:22.787536Z",
     "shell.execute_reply": "2024-05-15T16:00:22.787205Z"
    },
    "papermill": {
     "duration": 0.033632,
     "end_time": "2024-05-15T16:00:22.788623",
     "exception": false,
     "start_time": "2024-05-15T16:00:22.754991",
     "status": "completed"
    },
    "tags": []
   },
   "source": [
    "from morpheus.project.types.calculation.CalculationProfile import CalculationProfile, CalculationEngineType\n",
    "from morpheus.project.types.calculation.Calculation import Calculation\n",
    "\n",
    "calculation_profile = CalculationProfile.new(CalculationEngineType.MF2005)\n",
    "calculation = Calculation.new(model=model, calculation_profile=calculation_profile)"
   ],
   "outputs": []
  },
  {
   "cell_type": "code",
   "execution_count": 9,
   "id": "f3878c1fabdf0fcb",
   "metadata": {
    "ExecuteTime": {
     "end_time": "2024-05-14T08:14:17.448479Z",
     "start_time": "2024-05-14T08:14:17.446070Z"
    },
    "execution": {
     "iopub.execute_input": "2024-05-15T16:00:22.796371Z",
     "iopub.status.busy": "2024-05-15T16:00:22.795950Z",
     "iopub.status.idle": "2024-05-15T16:00:22.799215Z",
     "shell.execute_reply": "2024-05-15T16:00:22.798777Z"
    },
    "papermill": {
     "duration": 0.007797,
     "end_time": "2024-05-15T16:00:22.800111",
     "exception": false,
     "start_time": "2024-05-15T16:00:22.792314",
     "status": "completed"
    },
    "tags": []
   },
   "source": [
    "model.layers[0].properties.to_dict()"
   ],
   "outputs": []
  },
  {
   "cell_type": "code",
   "execution_count": 10,
   "id": "e09d94e0a94315cb",
   "metadata": {
    "ExecuteTime": {
     "end_time": "2024-05-14T08:14:17.480950Z",
     "start_time": "2024-05-14T08:14:17.449064Z"
    },
    "collapsed": false,
    "execution": {
     "iopub.execute_input": "2024-05-15T16:00:22.811395Z",
     "iopub.status.busy": "2024-05-15T16:00:22.811224Z",
     "iopub.status.idle": "2024-05-15T16:00:22.816955Z",
     "shell.execute_reply": "2024-05-15T16:00:22.816713Z"
    },
    "papermill": {
     "duration": 0.014679,
     "end_time": "2024-05-15T16:00:22.817762",
     "exception": false,
     "start_time": "2024-05-15T16:00:22.803083",
     "status": "completed"
    },
    "tags": []
   },
   "source": [
    "calculation = Calculation.from_dict(calculation.to_dict())\n",
    "calculation.calculation_id"
   ],
   "outputs": []
  },
  {
   "cell_type": "code",
   "execution_count": 11,
   "id": "672007fb90753c4c",
   "metadata": {
    "ExecuteTime": {
     "end_time": "2024-05-14T08:14:18.096611Z",
     "start_time": "2024-05-14T08:14:17.497756Z"
    },
    "collapsed": false,
    "execution": {
     "iopub.execute_input": "2024-05-15T16:00:22.823804Z",
     "iopub.status.busy": "2024-05-15T16:00:22.823690Z",
     "iopub.status.idle": "2024-05-15T16:00:23.166069Z",
     "shell.execute_reply": "2024-05-15T16:00:23.165750Z"
    },
    "papermill": {
     "duration": 0.346984,
     "end_time": "2024-05-15T16:00:23.167388",
     "exception": false,
     "start_time": "2024-05-15T16:00:22.820404",
     "status": "completed"
    },
    "tags": []
   },
   "source": [
    "from morpheus.project.infrastructure.calculation.services.CalculationService import CalculationService\n",
    "\n",
    "calculation_service = CalculationService.from_calculation(calculation)\n",
    "calculation_service.calculate()"
   ],
   "outputs": []
  },
  {
   "cell_type": "code",
   "execution_count": 12,
   "id": "a52d1dd3a1574032",
   "metadata": {
    "ExecuteTime": {
     "end_time": "2024-05-14T08:14:18.106155Z",
     "start_time": "2024-05-14T08:14:18.103387Z"
    },
    "collapsed": false,
    "execution": {
     "iopub.execute_input": "2024-05-15T16:00:23.174605Z",
     "iopub.status.busy": "2024-05-15T16:00:23.174210Z",
     "iopub.status.idle": "2024-05-15T16:00:23.176712Z",
     "shell.execute_reply": "2024-05-15T16:00:23.176502Z"
    },
    "papermill": {
     "duration": 0.00686,
     "end_time": "2024-05-15T16:00:23.177539",
     "exception": false,
     "start_time": "2024-05-15T16:00:23.170679",
     "status": "completed"
    },
    "tags": []
   },
   "source": [
    "result = calculation_service.get_result()\n",
    "result"
   ],
   "outputs": []
  },
  {
   "cell_type": "code",
   "execution_count": 13,
   "id": "cc43ad077c7a81d0",
   "metadata": {
    "ExecuteTime": {
     "end_time": "2024-05-14T08:14:18.108959Z",
     "start_time": "2024-05-14T08:14:18.106689Z"
    },
    "collapsed": false,
    "execution": {
     "iopub.execute_input": "2024-05-15T16:00:23.183902Z",
     "iopub.status.busy": "2024-05-15T16:00:23.183802Z",
     "iopub.status.idle": "2024-05-15T16:00:23.185961Z",
     "shell.execute_reply": "2024-05-15T16:00:23.185734Z"
    },
    "papermill": {
     "duration": 0.00622,
     "end_time": "2024-05-15T16:00:23.186767",
     "exception": false,
     "start_time": "2024-05-15T16:00:23.180547",
     "status": "completed"
    },
    "tags": []
   },
   "source": [
    "head = calculation_service.read_head(0, 0)"
   ],
   "outputs": []
  },
  {
   "cell_type": "code",
   "execution_count": 14,
   "id": "12454cc4d9e18de5",
   "metadata": {
    "ExecuteTime": {
     "end_time": "2024-05-14T08:14:18.116035Z",
     "start_time": "2024-05-14T08:14:18.110940Z"
    },
    "collapsed": false,
    "execution": {
     "iopub.execute_input": "2024-05-15T16:00:23.193103Z",
     "iopub.status.busy": "2024-05-15T16:00:23.192997Z",
     "iopub.status.idle": "2024-05-15T16:00:23.198002Z",
     "shell.execute_reply": "2024-05-15T16:00:23.197761Z"
    },
    "papermill": {
     "duration": 0.009004,
     "end_time": "2024-05-15T16:00:23.198741",
     "exception": false,
     "start_time": "2024-05-15T16:00:23.189737",
     "status": "completed"
    },
    "tags": []
   },
   "source": [
    "import simplejson as json\n",
    "\n",
    "json = json.dumps(head, ignore_nan=True)\n",
    "json"
   ],
   "outputs": []
  },
  {
   "cell_type": "code",
   "execution_count": 15,
   "id": "df7dfd8ff0308815",
   "metadata": {
    "ExecuteTime": {
     "end_time": "2024-05-14T08:14:18.118708Z",
     "start_time": "2024-05-14T08:14:18.116558Z"
    },
    "collapsed": false,
    "execution": {
     "iopub.execute_input": "2024-05-15T16:00:23.206226Z",
     "iopub.status.busy": "2024-05-15T16:00:23.206101Z",
     "iopub.status.idle": "2024-05-15T16:00:23.208607Z",
     "shell.execute_reply": "2024-05-15T16:00:23.208085Z"
    },
    "papermill": {
     "duration": 0.00843,
     "end_time": "2024-05-15T16:00:23.210664",
     "exception": false,
     "start_time": "2024-05-15T16:00:23.202234",
     "status": "completed"
    },
    "tags": []
   },
   "source": [
    "calculation_service.read_drawdown(0, 0)"
   ],
   "outputs": []
  },
  {
   "cell_type": "code",
   "execution_count": 16,
   "id": "b233f4066b56c174",
   "metadata": {
    "ExecuteTime": {
     "end_time": "2024-05-14T08:14:18.122571Z",
     "start_time": "2024-05-14T08:14:18.119179Z"
    },
    "collapsed": false,
    "execution": {
     "iopub.execute_input": "2024-05-15T16:00:23.223028Z",
     "iopub.status.busy": "2024-05-15T16:00:23.222845Z",
     "iopub.status.idle": "2024-05-15T16:00:23.226472Z",
     "shell.execute_reply": "2024-05-15T16:00:23.226236Z"
    },
    "papermill": {
     "duration": 0.012651,
     "end_time": "2024-05-15T16:00:23.227230",
     "exception": false,
     "start_time": "2024-05-15T16:00:23.214579",
     "status": "completed"
    },
    "tags": []
   },
   "source": [
    "calculation_service.read_budget(0, False)"
   ],
   "outputs": []
  },
  {
   "cell_type": "code",
   "execution_count": 17,
   "id": "634709d741f5c252",
   "metadata": {
    "ExecuteTime": {
     "end_time": "2024-05-14T08:14:18.126305Z",
     "start_time": "2024-05-14T08:14:18.123167Z"
    },
    "collapsed": false,
    "execution": {
     "iopub.execute_input": "2024-05-15T16:00:23.234660Z",
     "iopub.status.busy": "2024-05-15T16:00:23.234553Z",
     "iopub.status.idle": "2024-05-15T16:00:23.237536Z",
     "shell.execute_reply": "2024-05-15T16:00:23.237320Z"
    },
    "papermill": {
     "duration": 0.007626,
     "end_time": "2024-05-15T16:00:23.238404",
     "exception": false,
     "start_time": "2024-05-15T16:00:23.230778",
     "status": "completed"
    },
    "tags": []
   },
   "source": [
    "calculation_service.read_budget(0, True)"
   ],
   "outputs": []
  },
  {
   "cell_type": "code",
   "execution_count": 18,
   "id": "26523066436690e6",
   "metadata": {
    "ExecuteTime": {
     "end_time": "2024-05-14T08:14:18.128717Z",
     "start_time": "2024-05-14T08:14:18.126897Z"
    },
    "collapsed": false,
    "execution": {
     "iopub.execute_input": "2024-05-15T16:00:23.245520Z",
     "iopub.status.busy": "2024-05-15T16:00:23.245424Z",
     "iopub.status.idle": "2024-05-15T16:00:23.247306Z",
     "shell.execute_reply": "2024-05-15T16:00:23.247098Z"
    },
    "papermill": {
     "duration": 0.006226,
     "end_time": "2024-05-15T16:00:23.248070",
     "exception": false,
     "start_time": "2024-05-15T16:00:23.241844",
     "status": "completed"
    },
    "tags": []
   },
   "source": [
    "calculation_service.get_result()"
   ],
   "outputs": []
  },
  {
   "cell_type": "code",
   "execution_count": 19,
   "id": "160abd7d290c83f7",
   "metadata": {
    "ExecuteTime": {
     "end_time": "2024-05-14T08:14:18.302962Z",
     "start_time": "2024-05-14T08:14:18.129155Z"
    },
    "collapsed": false,
    "execution": {
     "iopub.execute_input": "2024-05-15T16:00:23.255616Z",
     "iopub.status.busy": "2024-05-15T16:00:23.255497Z",
     "iopub.status.idle": "2024-05-15T16:00:23.356361Z",
     "shell.execute_reply": "2024-05-15T16:00:23.354656Z"
    },
    "papermill": {
     "duration": 0.107988,
     "end_time": "2024-05-15T16:00:23.359540",
     "exception": false,
     "start_time": "2024-05-15T16:00:23.251552",
     "status": "completed"
    },
    "tags": []
   },
   "source": [
    "import matplotlib.pyplot as plt\n",
    "\n",
    "heads = calculation_service.read_head(0, 0)\n",
    "plt.subplot(2, 1, 1)\n",
    "plt.imshow(heads, cmap='jet_r')\n",
    "plt.colorbar()\n",
    "plt.show()"
   ],
   "outputs": []
  },
  {
   "cell_type": "code",
   "execution_count": null,
   "id": "ef44b4e751045607",
   "metadata": {
    "ExecuteTime": {
     "end_time": "2024-05-14T08:14:18.309013Z",
     "start_time": "2024-05-14T08:14:18.305575Z"
    },
    "papermill": {
     "duration": 0.00707,
     "end_time": "2024-05-15T16:00:23.372268",
     "exception": false,
     "start_time": "2024-05-15T16:00:23.365198",
     "status": "completed"
    },
    "tags": []
   },
   "source": [],
   "outputs": []
  }
 ],
 "metadata": {
  "kernelspec": {
   "display_name": "Python 3",
   "language": "python",
   "name": "python3"
  },
  "language_info": {
   "codemirror_mode": {
    "name": "ipython",
    "version": 3
   },
   "file_extension": ".py",
   "mimetype": "text/x-python",
   "name": "python",
   "nbconvert_exporter": "python",
   "pygments_lexer": "ipython3",
   "version": "3.12.2"
  },
  "papermill": {
   "default_parameters": {},
   "duration": 4.627444,
   "end_time": "2024-05-15T16:00:23.908631",
   "environment_variables": {},
   "exception": null,
   "input_path": "./notebooks/Test_WellBoundary.ipynb",
   "output_path": "./notebooks/Test_WellBoundary.ipynb",
   "parameters": {},
   "start_time": "2024-05-15T16:00:19.281187",
   "version": "2.6.0"
  }
 },
 "nbformat": 4,
 "nbformat_minor": 5
}
