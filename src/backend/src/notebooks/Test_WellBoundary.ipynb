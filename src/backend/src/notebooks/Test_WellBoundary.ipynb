{
 "cells": [
  {
   "cell_type": "code",
   "execution_count": 1,
   "id": "ba6761fae9d5e5cb",
   "metadata": {
    "ExecuteTime": {
     "end_time": "2024-06-20T17:44:27.942379Z",
     "start_time": "2024-06-20T17:44:27.937854Z"
    },
    "collapsed": false,
    "execution": {
     "iopub.execute_input": "2024-06-20T19:02:11.435704Z",
     "iopub.status.busy": "2024-06-20T19:02:11.435130Z",
     "iopub.status.idle": "2024-06-20T19:02:11.441317Z",
     "shell.execute_reply": "2024-06-20T19:02:11.440617Z"
    },
    "papermill": {
     "duration": 0.023524,
     "end_time": "2024-06-20T19:02:11.443873",
     "exception": false,
     "start_time": "2024-06-20T19:02:11.420349",
     "status": "completed"
    },
    "tags": []
   },
   "outputs": [],
   "source": [
    "import sys\n",
    "\n",
    "sys.path.insert(0, '..')"
   ]
  },
  {
   "cell_type": "markdown",
   "id": "5ede1ba5e0993dd1",
   "metadata": {
    "collapsed": false,
    "papermill": {
     "duration": 0.005527,
     "end_time": "2024-06-20T19:02:11.456088",
     "exception": false,
     "start_time": "2024-06-20T19:02:11.450561",
     "status": "completed"
    },
    "tags": []
   },
   "source": [
    "## Setup the model area"
   ]
  },
  {
   "cell_type": "code",
   "execution_count": 2,
   "id": "2f69504ab35487aa",
   "metadata": {
    "ExecuteTime": {
     "end_time": "2024-06-20T17:44:30.667937Z",
     "start_time": "2024-06-20T17:44:30.136973Z"
    },
    "collapsed": false,
    "execution": {
     "iopub.execute_input": "2024-06-20T19:02:11.466214Z",
     "iopub.status.busy": "2024-06-20T19:02:11.465932Z",
     "iopub.status.idle": "2024-06-20T19:02:12.017315Z",
     "shell.execute_reply": "2024-06-20T19:02:12.017014Z"
    },
    "papermill": {
     "duration": 0.557434,
     "end_time": "2024-06-20T19:02:12.018393",
     "exception": false,
     "start_time": "2024-06-20T19:02:11.460959",
     "status": "completed"
    },
    "tags": []
   },
   "outputs": [],
   "source": [
    "from morpheus.project.types.discretization import SpatialDiscretization\n",
    "from morpheus.project.types.discretization.spatial import Rotation, Grid, Crs\n",
    "from morpheus.project.types.geometry import Polygon\n",
    "\n",
    "polygon = Polygon(\n",
    "  type='Polygon',\n",
    "  coordinates=[[\n",
    "    (13.92, 50.964),\n",
    "    (13.92, 50.966),\n",
    "    (13.925, 50.966),\n",
    "    (13.925, 50.964),\n",
    "    (13.92, 50.964)\n",
    "  ]]\n",
    ")\n",
    "\n",
    "rotation = Rotation(0)\n",
    "\n",
    "grid = Grid.cartesian_from_polygon(polygon=polygon, n_cols=100, n_rows=50, rotation=rotation)\n",
    "spatial_discretization = SpatialDiscretization.from_geometry_with_grid(\n",
    "  geometry=polygon,\n",
    "  grid=grid,\n",
    "  crs=Crs.from_str('EPSG:4326')\n",
    ")"
   ]
  },
  {
   "cell_type": "markdown",
   "id": "fa27e67f9d801845",
   "metadata": {
    "collapsed": false,
    "papermill": {
     "duration": 0.001786,
     "end_time": "2024-06-20T19:02:12.022223",
     "exception": false,
     "start_time": "2024-06-20T19:02:12.020437",
     "status": "completed"
    },
    "tags": []
   },
   "source": [
    "## Setup Time Discretization"
   ]
  },
  {
   "cell_type": "code",
   "execution_count": 3,
   "id": "8e4e63dd138db9fc",
   "metadata": {
    "ExecuteTime": {
     "end_time": "2024-06-20T17:44:33.766454Z",
     "start_time": "2024-06-20T17:44:33.761638Z"
    },
    "collapsed": false,
    "execution": {
     "iopub.execute_input": "2024-06-20T19:02:12.026394Z",
     "iopub.status.busy": "2024-06-20T19:02:12.026232Z",
     "iopub.status.idle": "2024-06-20T19:02:12.028712Z",
     "shell.execute_reply": "2024-06-20T19:02:12.028474Z"
    },
    "papermill": {
     "duration": 0.005536,
     "end_time": "2024-06-20T19:02:12.029497",
     "exception": false,
     "start_time": "2024-06-20T19:02:12.023961",
     "status": "completed"
    },
    "tags": []
   },
   "outputs": [],
   "source": [
    "from morpheus.project.types.discretization.time.TimeUnit import TimeUnit\n",
    "from morpheus.project.types.discretization.time.Stressperiods import StartDateTime, StressPeriodCollection, \\\n",
    "  StressPeriod, NumberOfTimeSteps, TimeStepMultiplier, IsSteadyState\n",
    "from morpheus.project.types.discretization.time import TimeDiscretization\n",
    "from datetime import datetime\n",
    "\n",
    "time_discretization = TimeDiscretization(\n",
    "  start_date_time=StartDateTime.from_datetime(datetime(2020, 1, 1)),\n",
    "  end_date_time=StartDateTime.from_datetime(datetime(2020, 12, 31)),\n",
    "  stress_periods=StressPeriodCollection([\n",
    "    StressPeriod(\n",
    "      start_date_time=StartDateTime.from_datetime(datetime(2020, 1, 1)),\n",
    "      number_of_time_steps=NumberOfTimeSteps(1),\n",
    "      time_step_multiplier=TimeStepMultiplier(1),\n",
    "      steady_state=IsSteadyState.yes()\n",
    "    ),\n",
    "  ]),\n",
    "  time_unit=TimeUnit.days()\n",
    ")"
   ]
  },
  {
   "cell_type": "markdown",
   "id": "963ba8729f09fcec",
   "metadata": {
    "collapsed": false,
    "papermill": {
     "duration": 0.00171,
     "end_time": "2024-06-20T19:02:12.032986",
     "exception": false,
     "start_time": "2024-06-20T19:02:12.031276",
     "status": "completed"
    },
    "tags": []
   },
   "source": [
    "# Setup Model"
   ]
  },
  {
   "cell_type": "code",
   "execution_count": 4,
   "id": "1d5c9125b1b9360b",
   "metadata": {
    "ExecuteTime": {
     "end_time": "2024-06-20T17:44:35.498264Z",
     "start_time": "2024-06-20T17:44:35.041475Z"
    },
    "collapsed": false,
    "execution": {
     "iopub.execute_input": "2024-06-20T19:02:12.037004Z",
     "iopub.status.busy": "2024-06-20T19:02:12.036877Z",
     "iopub.status.idle": "2024-06-20T19:02:12.360831Z",
     "shell.execute_reply": "2024-06-20T19:02:12.360370Z"
    },
    "papermill": {
     "duration": 0.327627,
     "end_time": "2024-06-20T19:02:12.362231",
     "exception": false,
     "start_time": "2024-06-20T19:02:12.034604",
     "status": "completed"
    },
    "tags": []
   },
   "outputs": [],
   "source": [
    "from morpheus.project.types.Model import Model\n",
    "\n",
    "model = Model.new()\n",
    "model = model.with_updated_time_discretization(time_discretization)\n",
    "model = model.with_updated_spatial_discretization(spatial_discretization=spatial_discretization)"
   ]
  },
  {
   "cell_type": "code",
   "execution_count": 5,
   "id": "1540b870ae83f298",
   "metadata": {
    "ExecuteTime": {
     "end_time": "2024-06-20T17:44:46.317589Z",
     "start_time": "2024-06-20T17:44:46.283467Z"
    },
    "collapsed": false,
    "execution": {
     "iopub.execute_input": "2024-06-20T19:02:12.367085Z",
     "iopub.status.busy": "2024-06-20T19:02:12.366784Z",
     "iopub.status.idle": "2024-06-20T19:02:12.538092Z",
     "shell.execute_reply": "2024-06-20T19:02:12.537413Z"
    },
    "papermill": {
     "duration": 0.175575,
     "end_time": "2024-06-20T19:02:12.539931",
     "exception": false,
     "start_time": "2024-06-20T19:02:12.364356",
     "status": "completed"
    },
    "tags": []
   },
   "outputs": [
    {
     "data": {
      "text/html": [
       "<div style=\"width:100%;\"><div style=\"position:relative;width:100%;height:0;padding-bottom:60%;\"><span style=\"color:#565656\">Make this Notebook Trusted to load map: File -> Trust Notebook</span><iframe srcdoc=\"&lt;!DOCTYPE html&gt;\n",
       "&lt;html&gt;\n",
       "&lt;head&gt;\n",
       "    \n",
       "    &lt;meta http-equiv=&quot;content-type&quot; content=&quot;text/html; charset=UTF-8&quot; /&gt;\n",
       "    \n",
       "        &lt;script&gt;\n",
       "            L_NO_TOUCH = false;\n",
       "            L_DISABLE_3D = false;\n",
       "        &lt;/script&gt;\n",
       "    \n",
       "    &lt;style&gt;html, body {width: 100%;height: 100%;margin: 0;padding: 0;}&lt;/style&gt;\n",
       "    &lt;style&gt;#map {position:absolute;top:0;bottom:0;right:0;left:0;}&lt;/style&gt;\n",
       "    &lt;script src=&quot;https://cdn.jsdelivr.net/npm/leaflet@1.9.3/dist/leaflet.js&quot;&gt;&lt;/script&gt;\n",
       "    &lt;script src=&quot;https://code.jquery.com/jquery-3.7.1.min.js&quot;&gt;&lt;/script&gt;\n",
       "    &lt;script src=&quot;https://cdn.jsdelivr.net/npm/bootstrap@5.2.2/dist/js/bootstrap.bundle.min.js&quot;&gt;&lt;/script&gt;\n",
       "    &lt;script src=&quot;https://cdnjs.cloudflare.com/ajax/libs/Leaflet.awesome-markers/2.0.2/leaflet.awesome-markers.js&quot;&gt;&lt;/script&gt;\n",
       "    &lt;link rel=&quot;stylesheet&quot; href=&quot;https://cdn.jsdelivr.net/npm/leaflet@1.9.3/dist/leaflet.css&quot;/&gt;\n",
       "    &lt;link rel=&quot;stylesheet&quot; href=&quot;https://cdn.jsdelivr.net/npm/bootstrap@5.2.2/dist/css/bootstrap.min.css&quot;/&gt;\n",
       "    &lt;link rel=&quot;stylesheet&quot; href=&quot;https://netdna.bootstrapcdn.com/bootstrap/3.0.0/css/bootstrap.min.css&quot;/&gt;\n",
       "    &lt;link rel=&quot;stylesheet&quot; href=&quot;https://cdn.jsdelivr.net/npm/@fortawesome/fontawesome-free@6.2.0/css/all.min.css&quot;/&gt;\n",
       "    &lt;link rel=&quot;stylesheet&quot; href=&quot;https://cdnjs.cloudflare.com/ajax/libs/Leaflet.awesome-markers/2.0.2/leaflet.awesome-markers.css&quot;/&gt;\n",
       "    &lt;link rel=&quot;stylesheet&quot; href=&quot;https://cdn.jsdelivr.net/gh/python-visualization/folium/folium/templates/leaflet.awesome.rotate.min.css&quot;/&gt;\n",
       "    \n",
       "            &lt;meta name=&quot;viewport&quot; content=&quot;width=device-width,\n",
       "                initial-scale=1.0, maximum-scale=1.0, user-scalable=no&quot; /&gt;\n",
       "            &lt;style&gt;\n",
       "                #map_1099b055a7f92a5592025210082125e1 {\n",
       "                    position: relative;\n",
       "                    width: 100.0%;\n",
       "                    height: 100.0%;\n",
       "                    left: 0.0%;\n",
       "                    top: 0.0%;\n",
       "                }\n",
       "                .leaflet-container { font-size: 1rem; }\n",
       "            &lt;/style&gt;\n",
       "        \n",
       "&lt;/head&gt;\n",
       "&lt;body&gt;\n",
       "    \n",
       "    \n",
       "            &lt;div class=&quot;folium-map&quot; id=&quot;map_1099b055a7f92a5592025210082125e1&quot; &gt;&lt;/div&gt;\n",
       "        \n",
       "&lt;/body&gt;\n",
       "&lt;script&gt;\n",
       "    \n",
       "    \n",
       "            var map_1099b055a7f92a5592025210082125e1 = L.map(\n",
       "                &quot;map_1099b055a7f92a5592025210082125e1&quot;,\n",
       "                {\n",
       "                    center: [50.965, 13.922],\n",
       "                    crs: L.CRS.EPSG3857,\n",
       "                    zoom: 12,\n",
       "                    zoomControl: true,\n",
       "                    preferCanvas: false,\n",
       "                }\n",
       "            );\n",
       "\n",
       "            \n",
       "\n",
       "        \n",
       "    \n",
       "            var tile_layer_0720f62a31def104abeff5ebb8d0c022 = L.tileLayer(\n",
       "                &quot;https://{s}.basemaps.cartocdn.com/light_all/{z}/{x}/{y}{r}.png&quot;,\n",
       "                {&quot;attribution&quot;: &quot;\\u0026copy; \\u003ca href=\\&quot;https://www.openstreetmap.org/copyright\\&quot;\\u003eOpenStreetMap\\u003c/a\\u003e contributors \\u0026copy; \\u003ca href=\\&quot;https://carto.com/attributions\\&quot;\\u003eCARTO\\u003c/a\\u003e&quot;, &quot;detectRetina&quot;: false, &quot;maxNativeZoom&quot;: 20, &quot;maxZoom&quot;: 20, &quot;minZoom&quot;: 0, &quot;noWrap&quot;: false, &quot;opacity&quot;: 1, &quot;subdomains&quot;: &quot;abcd&quot;, &quot;tms&quot;: false}\n",
       "            );\n",
       "        \n",
       "    \n",
       "            tile_layer_0720f62a31def104abeff5ebb8d0c022.addTo(map_1099b055a7f92a5592025210082125e1);\n",
       "        \n",
       "    \n",
       "\n",
       "        function geo_json_a3217d9beeb7e3859405a16cfcaa5283_onEachFeature(feature, layer) {\n",
       "            layer.on({\n",
       "            });\n",
       "        };\n",
       "        var geo_json_a3217d9beeb7e3859405a16cfcaa5283 = L.geoJson(null, {\n",
       "                onEachFeature: geo_json_a3217d9beeb7e3859405a16cfcaa5283_onEachFeature,\n",
       "            \n",
       "        });\n",
       "\n",
       "        function geo_json_a3217d9beeb7e3859405a16cfcaa5283_add (data) {\n",
       "            geo_json_a3217d9beeb7e3859405a16cfcaa5283\n",
       "                .addData(data);\n",
       "        }\n",
       "            geo_json_a3217d9beeb7e3859405a16cfcaa5283_add({&quot;coordinates&quot;: [[[13.92, 50.964], [13.92, 50.966], [13.925, 50.966], [13.925, 50.964], [13.92, 50.964]]], &quot;type&quot;: &quot;Polygon&quot;});\n",
       "\n",
       "        \n",
       "    \n",
       "            geo_json_a3217d9beeb7e3859405a16cfcaa5283.addTo(map_1099b055a7f92a5592025210082125e1);\n",
       "        \n",
       "    \n",
       "            map_1099b055a7f92a5592025210082125e1.fitBounds(\n",
       "                [[50.964, 13.92], [50.966, 13.925]],\n",
       "                {}\n",
       "            );\n",
       "        \n",
       "&lt;/script&gt;\n",
       "&lt;/html&gt;\" style=\"position:absolute;width:100%;height:100%;left:0;top:0;border:none !important;\" allowfullscreen webkitallowfullscreen mozallowfullscreen></iframe></div></div>"
      ],
      "text/plain": [
       "<folium.folium.Map at 0x12366dbb0>"
      ]
     },
     "execution_count": 5,
     "metadata": {},
     "output_type": "execute_result"
    }
   ],
   "source": [
    "import folium\n",
    "\n",
    "m = folium.Map(tiles=\"cartodbpositron\", crs=\"EPSG3857\", zoom_start=12, location=[50.965, 13.922])\n",
    "m.add_child(folium.GeoJson(polygon.as_geojson()))\n",
    "\n",
    "m.fit_bounds(m.get_bounds())\n",
    "m"
   ]
  },
  {
   "cell_type": "markdown",
   "id": "6e0618c988efcbfa",
   "metadata": {
    "collapsed": false,
    "papermill": {
     "duration": 0.00596,
     "end_time": "2024-06-20T19:02:12.548135",
     "exception": false,
     "start_time": "2024-06-20T19:02:12.542175",
     "status": "completed"
    },
    "tags": []
   },
   "source": [
    "# Setup Wells"
   ]
  },
  {
   "cell_type": "code",
   "execution_count": 6,
   "id": "1e553190d145e2ba",
   "metadata": {
    "ExecuteTime": {
     "end_time": "2024-06-20T17:44:49.655477Z",
     "start_time": "2024-06-20T17:44:48.566608Z"
    },
    "collapsed": false,
    "execution": {
     "iopub.execute_input": "2024-06-20T19:02:12.557152Z",
     "iopub.status.busy": "2024-06-20T19:02:12.556911Z",
     "iopub.status.idle": "2024-06-20T19:02:13.531823Z",
     "shell.execute_reply": "2024-06-20T19:02:13.531558Z"
    },
    "papermill": {
     "duration": 0.979842,
     "end_time": "2024-06-20T19:02:13.532726",
     "exception": false,
     "start_time": "2024-06-20T19:02:12.552884",
     "status": "completed"
    },
    "tags": []
   },
   "outputs": [
    {
     "data": {
      "text/html": [
       "<div style=\"width:100%;\"><div style=\"position:relative;width:100%;height:0;padding-bottom:60%;\"><span style=\"color:#565656\">Make this Notebook Trusted to load map: File -> Trust Notebook</span><iframe srcdoc=\"&lt;!DOCTYPE html&gt;\n",
       "&lt;html&gt;\n",
       "&lt;head&gt;\n",
       "    \n",
       "    &lt;meta http-equiv=&quot;content-type&quot; content=&quot;text/html; charset=UTF-8&quot; /&gt;\n",
       "    \n",
       "        &lt;script&gt;\n",
       "            L_NO_TOUCH = false;\n",
       "            L_DISABLE_3D = false;\n",
       "        &lt;/script&gt;\n",
       "    \n",
       "    &lt;style&gt;html, body {width: 100%;height: 100%;margin: 0;padding: 0;}&lt;/style&gt;\n",
       "    &lt;style&gt;#map {position:absolute;top:0;bottom:0;right:0;left:0;}&lt;/style&gt;\n",
       "    &lt;script src=&quot;https://cdn.jsdelivr.net/npm/leaflet@1.9.3/dist/leaflet.js&quot;&gt;&lt;/script&gt;\n",
       "    &lt;script src=&quot;https://code.jquery.com/jquery-3.7.1.min.js&quot;&gt;&lt;/script&gt;\n",
       "    &lt;script src=&quot;https://cdn.jsdelivr.net/npm/bootstrap@5.2.2/dist/js/bootstrap.bundle.min.js&quot;&gt;&lt;/script&gt;\n",
       "    &lt;script src=&quot;https://cdnjs.cloudflare.com/ajax/libs/Leaflet.awesome-markers/2.0.2/leaflet.awesome-markers.js&quot;&gt;&lt;/script&gt;\n",
       "    &lt;link rel=&quot;stylesheet&quot; href=&quot;https://cdn.jsdelivr.net/npm/leaflet@1.9.3/dist/leaflet.css&quot;/&gt;\n",
       "    &lt;link rel=&quot;stylesheet&quot; href=&quot;https://cdn.jsdelivr.net/npm/bootstrap@5.2.2/dist/css/bootstrap.min.css&quot;/&gt;\n",
       "    &lt;link rel=&quot;stylesheet&quot; href=&quot;https://netdna.bootstrapcdn.com/bootstrap/3.0.0/css/bootstrap.min.css&quot;/&gt;\n",
       "    &lt;link rel=&quot;stylesheet&quot; href=&quot;https://cdn.jsdelivr.net/npm/@fortawesome/fontawesome-free@6.2.0/css/all.min.css&quot;/&gt;\n",
       "    &lt;link rel=&quot;stylesheet&quot; href=&quot;https://cdnjs.cloudflare.com/ajax/libs/Leaflet.awesome-markers/2.0.2/leaflet.awesome-markers.css&quot;/&gt;\n",
       "    &lt;link rel=&quot;stylesheet&quot; href=&quot;https://cdn.jsdelivr.net/gh/python-visualization/folium/folium/templates/leaflet.awesome.rotate.min.css&quot;/&gt;\n",
       "    \n",
       "            &lt;meta name=&quot;viewport&quot; content=&quot;width=device-width,\n",
       "                initial-scale=1.0, maximum-scale=1.0, user-scalable=no&quot; /&gt;\n",
       "            &lt;style&gt;\n",
       "                #map_1099b055a7f92a5592025210082125e1 {\n",
       "                    position: relative;\n",
       "                    width: 100.0%;\n",
       "                    height: 100.0%;\n",
       "                    left: 0.0%;\n",
       "                    top: 0.0%;\n",
       "                }\n",
       "                .leaflet-container { font-size: 1rem; }\n",
       "            &lt;/style&gt;\n",
       "        \n",
       "&lt;/head&gt;\n",
       "&lt;body&gt;\n",
       "    \n",
       "    \n",
       "            &lt;div class=&quot;folium-map&quot; id=&quot;map_1099b055a7f92a5592025210082125e1&quot; &gt;&lt;/div&gt;\n",
       "        \n",
       "&lt;/body&gt;\n",
       "&lt;script&gt;\n",
       "    \n",
       "    \n",
       "            var map_1099b055a7f92a5592025210082125e1 = L.map(\n",
       "                &quot;map_1099b055a7f92a5592025210082125e1&quot;,\n",
       "                {\n",
       "                    center: [50.965, 13.922],\n",
       "                    crs: L.CRS.EPSG3857,\n",
       "                    zoom: 12,\n",
       "                    zoomControl: true,\n",
       "                    preferCanvas: false,\n",
       "                }\n",
       "            );\n",
       "\n",
       "            \n",
       "\n",
       "        \n",
       "    \n",
       "            var tile_layer_0720f62a31def104abeff5ebb8d0c022 = L.tileLayer(\n",
       "                &quot;https://{s}.basemaps.cartocdn.com/light_all/{z}/{x}/{y}{r}.png&quot;,\n",
       "                {&quot;attribution&quot;: &quot;\\u0026copy; \\u003ca href=\\&quot;https://www.openstreetmap.org/copyright\\&quot;\\u003eOpenStreetMap\\u003c/a\\u003e contributors \\u0026copy; \\u003ca href=\\&quot;https://carto.com/attributions\\&quot;\\u003eCARTO\\u003c/a\\u003e&quot;, &quot;detectRetina&quot;: false, &quot;maxNativeZoom&quot;: 20, &quot;maxZoom&quot;: 20, &quot;minZoom&quot;: 0, &quot;noWrap&quot;: false, &quot;opacity&quot;: 1, &quot;subdomains&quot;: &quot;abcd&quot;, &quot;tms&quot;: false}\n",
       "            );\n",
       "        \n",
       "    \n",
       "            tile_layer_0720f62a31def104abeff5ebb8d0c022.addTo(map_1099b055a7f92a5592025210082125e1);\n",
       "        \n",
       "    \n",
       "\n",
       "        function geo_json_a3217d9beeb7e3859405a16cfcaa5283_onEachFeature(feature, layer) {\n",
       "            layer.on({\n",
       "            });\n",
       "        };\n",
       "        var geo_json_a3217d9beeb7e3859405a16cfcaa5283 = L.geoJson(null, {\n",
       "                onEachFeature: geo_json_a3217d9beeb7e3859405a16cfcaa5283_onEachFeature,\n",
       "            \n",
       "        });\n",
       "\n",
       "        function geo_json_a3217d9beeb7e3859405a16cfcaa5283_add (data) {\n",
       "            geo_json_a3217d9beeb7e3859405a16cfcaa5283\n",
       "                .addData(data);\n",
       "        }\n",
       "            geo_json_a3217d9beeb7e3859405a16cfcaa5283_add({&quot;coordinates&quot;: [[[13.92, 50.964], [13.92, 50.966], [13.925, 50.966], [13.925, 50.964], [13.92, 50.964]]], &quot;type&quot;: &quot;Polygon&quot;});\n",
       "\n",
       "        \n",
       "    \n",
       "            geo_json_a3217d9beeb7e3859405a16cfcaa5283.addTo(map_1099b055a7f92a5592025210082125e1);\n",
       "        \n",
       "    \n",
       "            map_1099b055a7f92a5592025210082125e1.fitBounds(\n",
       "                [[50.964, 13.92], [50.966, 13.925]],\n",
       "                {}\n",
       "            );\n",
       "        \n",
       "    \n",
       "            tile_layer_0720f62a31def104abeff5ebb8d0c022.addTo(map_1099b055a7f92a5592025210082125e1);\n",
       "        \n",
       "    \n",
       "            geo_json_a3217d9beeb7e3859405a16cfcaa5283.addTo(map_1099b055a7f92a5592025210082125e1);\n",
       "        \n",
       "    \n",
       "\n",
       "        function geo_json_32a8851ac97a42160c9468e2f8e2f4e4_onEachFeature(feature, layer) {\n",
       "            layer.on({\n",
       "            });\n",
       "        };\n",
       "        var geo_json_32a8851ac97a42160c9468e2f8e2f4e4 = L.geoJson(null, {\n",
       "                onEachFeature: geo_json_32a8851ac97a42160c9468e2f8e2f4e4_onEachFeature,\n",
       "            \n",
       "        });\n",
       "\n",
       "        function geo_json_32a8851ac97a42160c9468e2f8e2f4e4_add (data) {\n",
       "            geo_json_32a8851ac97a42160c9468e2f8e2f4e4\n",
       "                .addData(data);\n",
       "        }\n",
       "            geo_json_32a8851ac97a42160c9468e2f8e2f4e4_add({&quot;coordinates&quot;: [13.921, 50.965], &quot;type&quot;: &quot;Point&quot;});\n",
       "\n",
       "        \n",
       "    \n",
       "            geo_json_32a8851ac97a42160c9468e2f8e2f4e4.addTo(map_1099b055a7f92a5592025210082125e1);\n",
       "        \n",
       "    \n",
       "\n",
       "        function geo_json_ecaceb265c0b888d2bc64f3c34487e2a_onEachFeature(feature, layer) {\n",
       "            layer.on({\n",
       "            });\n",
       "        };\n",
       "        var geo_json_ecaceb265c0b888d2bc64f3c34487e2a = L.geoJson(null, {\n",
       "                onEachFeature: geo_json_ecaceb265c0b888d2bc64f3c34487e2a_onEachFeature,\n",
       "            \n",
       "        });\n",
       "\n",
       "        function geo_json_ecaceb265c0b888d2bc64f3c34487e2a_add (data) {\n",
       "            geo_json_ecaceb265c0b888d2bc64f3c34487e2a\n",
       "                .addData(data);\n",
       "        }\n",
       "            geo_json_ecaceb265c0b888d2bc64f3c34487e2a_add({&quot;geometries&quot;: [{&quot;coordinates&quot;: [[[13.920950000000003, 50.96500001076305], [13.921000000000001, 50.96500001076305], [13.921000000000001, 50.964960010745834], [13.920950000000003, 50.964960010745834], [13.920950000000003, 50.96500001076305]]], &quot;type&quot;: &quot;Polygon&quot;}], &quot;type&quot;: &quot;GeometryCollection&quot;});\n",
       "\n",
       "        \n",
       "    \n",
       "            geo_json_ecaceb265c0b888d2bc64f3c34487e2a.addTo(map_1099b055a7f92a5592025210082125e1);\n",
       "        \n",
       "    \n",
       "\n",
       "        function geo_json_2e6cf526cd8e3563eef95f57f93864ed_onEachFeature(feature, layer) {\n",
       "            layer.on({\n",
       "            });\n",
       "        };\n",
       "        var geo_json_2e6cf526cd8e3563eef95f57f93864ed = L.geoJson(null, {\n",
       "                onEachFeature: geo_json_2e6cf526cd8e3563eef95f57f93864ed_onEachFeature,\n",
       "            \n",
       "        });\n",
       "\n",
       "        function geo_json_2e6cf526cd8e3563eef95f57f93864ed_add (data) {\n",
       "            geo_json_2e6cf526cd8e3563eef95f57f93864ed\n",
       "                .addData(data);\n",
       "        }\n",
       "            geo_json_2e6cf526cd8e3563eef95f57f93864ed_add({&quot;coordinates&quot;: [13.923, 50.9655], &quot;type&quot;: &quot;Point&quot;});\n",
       "\n",
       "        \n",
       "    \n",
       "            geo_json_2e6cf526cd8e3563eef95f57f93864ed.addTo(map_1099b055a7f92a5592025210082125e1);\n",
       "        \n",
       "    \n",
       "\n",
       "        function geo_json_88b604edda9263379fa56381ccc61d54_onEachFeature(feature, layer) {\n",
       "            layer.on({\n",
       "            });\n",
       "        };\n",
       "        var geo_json_88b604edda9263379fa56381ccc61d54 = L.geoJson(null, {\n",
       "                onEachFeature: geo_json_88b604edda9263379fa56381ccc61d54_onEachFeature,\n",
       "            \n",
       "        });\n",
       "\n",
       "        function geo_json_88b604edda9263379fa56381ccc61d54_add (data) {\n",
       "            geo_json_88b604edda9263379fa56381ccc61d54\n",
       "                .addData(data);\n",
       "        }\n",
       "            geo_json_88b604edda9263379fa56381ccc61d54_add({&quot;geometries&quot;: [{&quot;coordinates&quot;: [[[13.922950000000002, 50.96552000785271], [13.923000000000002, 50.96552000785271], [13.923000000000002, 50.96548000828324], [13.922950000000002, 50.96548000828324], [13.922950000000002, 50.96552000785271]]], &quot;type&quot;: &quot;Polygon&quot;}], &quot;type&quot;: &quot;GeometryCollection&quot;});\n",
       "\n",
       "        \n",
       "    \n",
       "            geo_json_88b604edda9263379fa56381ccc61d54.addTo(map_1099b055a7f92a5592025210082125e1);\n",
       "        \n",
       "    \n",
       "            map_1099b055a7f92a5592025210082125e1.fitBounds(\n",
       "                [[50.964, 13.92], [50.966, 13.925]],\n",
       "                {}\n",
       "            );\n",
       "        \n",
       "&lt;/script&gt;\n",
       "&lt;/html&gt;\" style=\"position:absolute;width:100%;height:100%;left:0;top:0;border:none !important;\" allowfullscreen webkitallowfullscreen mozallowfullscreen></iframe></div></div>"
      ],
      "text/plain": [
       "<folium.folium.Map at 0x12366dbb0>"
      ]
     },
     "execution_count": 6,
     "metadata": {},
     "output_type": "execute_result"
    }
   ],
   "source": [
    "from morpheus.project.types.boundaries.WellObservation import WellRawDataItem, PumpingRate\n",
    "from morpheus.project.types.geometry import Point\n",
    "from morpheus.project.types.boundaries.Boundary import BoundaryName, BoundaryCollection, WellBoundary\n",
    "\n",
    "boundary_collection = BoundaryCollection.new()\n",
    "\n",
    "well_boundary_1 = WellBoundary.from_geometry(\n",
    "  name=BoundaryName('well_1'),\n",
    "  geometry=Point((13.921, 50.965)),\n",
    "  grid=grid,\n",
    "  affected_layers=[model.layers[0].layer_id],\n",
    "  data=[\n",
    "    WellRawDataItem(\n",
    "      date_time=StartDateTime.from_datetime(datetime(2019, 1, 1)),\n",
    "      pumping_rate=PumpingRate.from_float(-1000),\n",
    "    ),\n",
    "    WellRawDataItem(\n",
    "      date_time=StartDateTime.from_datetime(datetime(2021, 12, 31)),\n",
    "      pumping_rate=PumpingRate.from_float(-1000),\n",
    "    ),\n",
    "  ]\n",
    ")\n",
    "\n",
    "well_boundary_2 = WellBoundary.from_geometry(\n",
    "  name=BoundaryName('well_2'),\n",
    "  geometry=Point((13.923, 50.9655)),\n",
    "  grid=grid,\n",
    "  affected_layers=[model.layers[0].layer_id],\n",
    "  data=[\n",
    "    WellRawDataItem(\n",
    "      date_time=StartDateTime.from_datetime(datetime(2019, 1, 1)),\n",
    "      pumping_rate=PumpingRate.from_float(1000),\n",
    "    ),\n",
    "    WellRawDataItem(\n",
    "      date_time=StartDateTime.from_datetime(datetime(2021, 12, 31)),\n",
    "      pumping_rate=PumpingRate.from_float(1000),\n",
    "    ),\n",
    "  ]\n",
    ")\n",
    "\n",
    "boundary_collection.add_boundary(well_boundary_1)\n",
    "boundary_collection.add_boundary(well_boundary_2)\n",
    "\n",
    "model = model.with_updated_boundaries(boundaries=boundary_collection)\n",
    "\n",
    "m.add_child(folium.GeoJson(well_boundary_1.as_geojson()))\n",
    "m.add_child(folium.GeoJson(well_boundary_1.affected_cells.to_geojson(grid).as_geojson()))\n",
    "m.add_child(folium.GeoJson(well_boundary_2.as_geojson()))\n",
    "m.add_child(folium.GeoJson(well_boundary_2.affected_cells.to_geojson(grid).as_geojson()))\n",
    "\n",
    "m.fit_bounds(m.get_bounds())\n",
    "m"
   ]
  },
  {
   "cell_type": "code",
   "execution_count": 7,
   "id": "dc338472e1887a13",
   "metadata": {
    "ExecuteTime": {
     "end_time": "2024-06-20T17:44:50.249919Z",
     "start_time": "2024-06-20T17:44:49.658777Z"
    },
    "collapsed": false,
    "execution": {
     "iopub.execute_input": "2024-06-20T19:02:13.537398Z",
     "iopub.status.busy": "2024-06-20T19:02:13.537280Z",
     "iopub.status.idle": "2024-06-20T19:02:13.827165Z",
     "shell.execute_reply": "2024-06-20T19:02:13.826845Z"
    },
    "papermill": {
     "duration": 0.293233,
     "end_time": "2024-06-20T19:02:13.828150",
     "exception": false,
     "start_time": "2024-06-20T19:02:13.534917",
     "status": "completed"
    },
    "tags": []
   },
   "outputs": [
    {
     "name": "stdout",
     "output_type": "stream",
     "text": [
      "{0: [[0, 25, 19, -1000.0]]}\n",
      "{0: [[0, 12, 59, 1000.0]]}\n"
     ]
    }
   ],
   "source": [
    "from morpheus.project.infrastructure.calculation.engines.modflow_2005.packages.WelPackageMapper import \\\n",
    "  calculate_wel_boundary_stress_period_data\n",
    "\n",
    "result = calculate_wel_boundary_stress_period_data(\n",
    "  spatial_discretization=spatial_discretization,\n",
    "  time_discretization=time_discretization,\n",
    "  layers=model.layers,\n",
    "  wel_boundary=well_boundary_1,\n",
    ")\n",
    "print(result.to_dict())\n",
    "\n",
    "result = calculate_wel_boundary_stress_period_data(\n",
    "  spatial_discretization=spatial_discretization,\n",
    "  time_discretization=time_discretization,\n",
    "  layers=model.layers,\n",
    "  wel_boundary=well_boundary_2,\n",
    ")\n",
    "print(result.to_dict())"
   ]
  },
  {
   "cell_type": "markdown",
   "id": "42d948d145a8457a",
   "metadata": {
    "collapsed": false,
    "papermill": {
     "duration": 0.002211,
     "end_time": "2024-06-20T19:02:13.832799",
     "exception": false,
     "start_time": "2024-06-20T19:02:13.830588",
     "status": "completed"
    },
    "tags": []
   },
   "source": [
    "## Calculate"
   ]
  },
  {
   "cell_type": "code",
   "execution_count": 8,
   "id": "56ccabee86e2397e",
   "metadata": {
    "ExecuteTime": {
     "end_time": "2024-06-20T17:44:52.192549Z",
     "start_time": "2024-06-20T17:44:51.905884Z"
    },
    "collapsed": false,
    "execution": {
     "iopub.execute_input": "2024-06-20T19:02:13.840973Z",
     "iopub.status.busy": "2024-06-20T19:02:13.840579Z",
     "iopub.status.idle": "2024-06-20T19:02:14.069659Z",
     "shell.execute_reply": "2024-06-20T19:02:14.069410Z"
    },
    "papermill": {
     "duration": 0.235292,
     "end_time": "2024-06-20T19:02:14.070531",
     "exception": false,
     "start_time": "2024-06-20T19:02:13.835239",
     "status": "completed"
    },
    "tags": []
   },
   "outputs": [
    {
     "data": {
      "text/plain": [
       "['type,package,k,i,j,value,desc']"
      ]
     },
     "execution_count": 8,
     "metadata": {},
     "output_type": "execute_result"
    }
   ],
   "source": [
    "from morpheus.project.infrastructure.calculation.engines.base.CalculationEngineFactory import CalculationEngineFactory\n",
    "from morpheus.project.types.calculation.CalculationProfile import CalculationProfile, CalculationEngineType\n",
    "from morpheus.project.types.calculation.Calculation import CalculationId\n",
    "\n",
    "calculation_id = CalculationId.new()\n",
    "calculation_profile = CalculationProfile.new(CalculationEngineType.MF2005)\n",
    "engine = CalculationEngineFactory.create_engine(calculation_id=calculation_id, engine_type=calculation_profile.engine_type)\n",
    "check_model_log = engine.preprocess(model, calculation_profile)\n",
    "check_model_log.to_list()"
   ]
  },
  {
   "cell_type": "code",
   "execution_count": 9,
   "id": "672007fb90753c4c",
   "metadata": {
    "ExecuteTime": {
     "end_time": "2024-06-20T17:44:53.086494Z",
     "start_time": "2024-06-20T17:44:52.990520Z"
    },
    "collapsed": false,
    "execution": {
     "iopub.execute_input": "2024-06-20T19:02:14.075194Z",
     "iopub.status.busy": "2024-06-20T19:02:14.075081Z",
     "iopub.status.idle": "2024-06-20T19:02:14.120921Z",
     "shell.execute_reply": "2024-06-20T19:02:14.120634Z"
    },
    "papermill": {
     "duration": 0.049139,
     "end_time": "2024-06-20T19:02:14.121793",
     "exception": false,
     "start_time": "2024-06-20T19:02:14.072654",
     "status": "completed"
    },
    "tags": []
   },
   "outputs": [
    {
     "name": "stdout",
     "output_type": "stream",
     "text": [
      "FloPy is using the following executable to run the model: ../../../../../../../src/backend/.venv/bin/mf2005\n",
      "\n",
      "                                  MODFLOW-2005     \n",
      "    U.S. GEOLOGICAL SURVEY MODULAR FINITE-DIFFERENCE GROUND-WATER FLOW MODEL\n",
      "                             Version 1.12.00 2/3/2017                        \n",
      "\n",
      " Using NAME file: da8d4801-b6de-4679-b2bb-99aad2ac662e.nam \n",
      " Run start date and time (yyyy/mm/dd hh:mm:ss): 2024/06/20 21:02:14\n",
      "\n",
      " Solving:  Stress period:     1    Time step:     1    Ground-Water Flow Eqn.\n",
      " Run end date and time (yyyy/mm/dd hh:mm:ss): 2024/06/20 21:02:14\n",
      " Elapsed run time:  0.015 Seconds\n",
      "\n",
      "  Normal termination of simulation\n"
     ]
    }
   ],
   "source": [
    "log, result = engine.run(model=model, calculation_profile=calculation_profile)"
   ]
  },
  {
   "cell_type": "code",
   "execution_count": 10,
   "id": "8e9a57703f13f3ad",
   "metadata": {
    "ExecuteTime": {
     "end_time": "2024-06-20T17:45:01.687031Z",
     "start_time": "2024-06-20T17:45:01.681765Z"
    },
    "execution": {
     "iopub.execute_input": "2024-06-20T19:02:14.126616Z",
     "iopub.status.busy": "2024-06-20T19:02:14.126486Z",
     "iopub.status.idle": "2024-06-20T19:02:14.128817Z",
     "shell.execute_reply": "2024-06-20T19:02:14.128600Z"
    },
    "papermill": {
     "duration": 0.005633,
     "end_time": "2024-06-20T19:02:14.129599",
     "exception": false,
     "start_time": "2024-06-20T19:02:14.123966",
     "status": "completed"
    },
    "tags": []
   },
   "outputs": [
    {
     "data": {
      "text/plain": [
       "CalculationResult(type=<CalculationResultType.SUCCESS: 'success'>, message='Calculation finished successfully', files=['da8d4801-b6de-4679-b2bb-99aad2ac662e.hds', 'da8d4801-b6de-4679-b2bb-99aad2ac662e.wel', 'da8d4801-b6de-4679-b2bb-99aad2ac662e.pcg', 'da8d4801-b6de-4679-b2bb-99aad2ac662e.oc', 'da8d4801-b6de-4679-b2bb-99aad2ac662e.bas', 'da8d4801-b6de-4679-b2bb-99aad2ac662e.nam', 'da8d4801-b6de-4679-b2bb-99aad2ac662e.lpf', 'da8d4801-b6de-4679-b2bb-99aad2ac662e.dis', 'da8d4801-b6de-4679-b2bb-99aad2ac662e.list'], flow_head_results=AvailableResults(times=[365.0], kstpkper=[(0, 0)], number_of_layers=1, number_of_observations=0), flow_drawdown_results=None, flow_budget_results=AvailableResults(times=[365.0], kstpkper=[(0, 0)], number_of_layers=0, number_of_observations=0), transport_concentration_results=None, transport_budget_results=None, package_list=['DIS', 'BAS6', 'WEL', 'PCG', 'LPF', 'OC'])"
      ]
     },
     "execution_count": 10,
     "metadata": {},
     "output_type": "execute_result"
    }
   ],
   "source": [
    "result"
   ]
  },
  {
   "cell_type": "code",
   "execution_count": 11,
   "id": "cbe89991d76d3c36",
   "metadata": {
    "ExecuteTime": {
     "end_time": "2024-06-20T17:45:02.131106Z",
     "start_time": "2024-06-20T17:45:02.127744Z"
    },
    "execution": {
     "iopub.execute_input": "2024-06-20T19:02:14.134120Z",
     "iopub.status.busy": "2024-06-20T19:02:14.134020Z",
     "iopub.status.idle": "2024-06-20T19:02:14.136132Z",
     "shell.execute_reply": "2024-06-20T19:02:14.135918Z"
    },
    "papermill": {
     "duration": 0.005183,
     "end_time": "2024-06-20T19:02:14.136850",
     "exception": false,
     "start_time": "2024-06-20T19:02:14.131667",
     "status": "completed"
    },
    "tags": []
   },
   "outputs": [],
   "source": [
    "head = engine.read_flow_head(idx=0, layer=0)"
   ]
  },
  {
   "cell_type": "code",
   "execution_count": 12,
   "id": "89bc3f3f36171fce",
   "metadata": {
    "ExecuteTime": {
     "end_time": "2024-06-20T17:45:02.975374Z",
     "start_time": "2024-06-20T17:45:02.797535Z"
    },
    "execution": {
     "iopub.execute_input": "2024-06-20T19:02:14.141417Z",
     "iopub.status.busy": "2024-06-20T19:02:14.141318Z",
     "iopub.status.idle": "2024-06-20T19:02:14.216749Z",
     "shell.execute_reply": "2024-06-20T19:02:14.216044Z"
    },
    "papermill": {
     "duration": 0.079805,
     "end_time": "2024-06-20T19:02:14.218685",
     "exception": false,
     "start_time": "2024-06-20T19:02:14.138880",
     "status": "completed"
    },
    "tags": []
   },
   "outputs": [
    {
     "data": {
      "image/png": "[encoded data removed]",
      "text/plain": [
       "<Figure size 640x480 with 2 Axes>"
      ]
     },
     "metadata": {},
     "output_type": "display_data"
    }
   ],
   "source": [
    "import matplotlib.pyplot as plt\n",
    "\n",
    "plt.subplot(2, 1, 1)\n",
    "plt.imshow(head, cmap='jet_r')\n",
    "plt.colorbar()\n",
    "plt.show()"
   ]
  },
  {
   "cell_type": "code",
   "execution_count": 13,
   "id": "d039773d5a766b1f",
   "metadata": {
    "execution": {
     "iopub.execute_input": "2024-06-20T19:02:14.231529Z",
     "iopub.status.busy": "2024-06-20T19:02:14.231202Z",
     "iopub.status.idle": "2024-06-20T19:02:14.236296Z",
     "shell.execute_reply": "2024-06-20T19:02:14.235567Z"
    },
    "papermill": {
     "duration": 0.015653,
     "end_time": "2024-06-20T19:02:14.241026",
     "exception": false,
     "start_time": "2024-06-20T19:02:14.225373",
     "status": "completed"
    },
    "tags": []
   },
   "outputs": [
    {
     "data": {
      "text/plain": [
       "[]"
      ]
     },
     "execution_count": 13,
     "metadata": {},
     "output_type": "execute_result"
    }
   ],
   "source": [
    "engine.read_flow_drawdown(idx=0, layer=0)"
   ]
  },
  {
   "cell_type": "code",
   "execution_count": 14,
   "id": "3614168e5506a7ca",
   "metadata": {
    "execution": {
     "iopub.execute_input": "2024-06-20T19:02:14.254013Z",
     "iopub.status.busy": "2024-06-20T19:02:14.253692Z",
     "iopub.status.idle": "2024-06-20T19:02:14.261868Z",
     "shell.execute_reply": "2024-06-20T19:02:14.261098Z"
    },
    "papermill": {
     "duration": 0.016971,
     "end_time": "2024-06-20T19:02:14.264695",
     "exception": false,
     "start_time": "2024-06-20T19:02:14.247724",
     "status": "completed"
    },
    "tags": []
   },
   "outputs": [
    {
     "data": {
      "text/plain": [
       "{'STORAGE_IN': 0.0,\n",
       " 'CONSTANT_HEAD_IN': 0.0,\n",
       " 'WELLS_IN': 365000.0,\n",
       " 'TOTAL_IN': 365000.0,\n",
       " 'STORAGE_OUT': -0.0,\n",
       " 'CONSTANT_HEAD_OUT': -0.0,\n",
       " 'WELLS_OUT': -365000.0,\n",
       " 'TOTAL_OUT': -365000.0,\n",
       " 'IN-OUT': 0.0,\n",
       " 'PERCENT_DISCREPANCY': 0.0,\n",
       " 'tslen': 0.75149995}"
      ]
     },
     "execution_count": 14,
     "metadata": {},
     "output_type": "execute_result"
    }
   ],
   "source": [
    "engine.read_flow_budget(idx=0, incremental=False)"
   ]
  },
  {
   "cell_type": "code",
   "execution_count": 15,
   "id": "97d5e06c5c037d21",
   "metadata": {
    "execution": {
     "iopub.execute_input": "2024-06-20T19:02:14.298253Z",
     "iopub.status.busy": "2024-06-20T19:02:14.297713Z",
     "iopub.status.idle": "2024-06-20T19:02:14.305138Z",
     "shell.execute_reply": "2024-06-20T19:02:14.304566Z"
    },
    "papermill": {
     "duration": 0.016246,
     "end_time": "2024-06-20T19:02:14.309428",
     "exception": false,
     "start_time": "2024-06-20T19:02:14.293182",
     "status": "completed"
    },
    "tags": []
   },
   "outputs": [
    {
     "data": {
      "text/plain": [
       "{'STORAGE_IN': 0.0,\n",
       " 'CONSTANT_HEAD_IN': 0.0,\n",
       " 'WELLS_IN': 1000.0,\n",
       " 'TOTAL_IN': 1000.0,\n",
       " 'STORAGE_OUT': -0.0,\n",
       " 'CONSTANT_HEAD_OUT': -0.0,\n",
       " 'WELLS_OUT': -1000.0,\n",
       " 'TOTAL_OUT': -1000.0,\n",
       " 'IN-OUT': 0.0,\n",
       " 'PERCENT_DISCREPANCY': 0.0,\n",
       " 'tslen': 365.0}"
      ]
     },
     "execution_count": 15,
     "metadata": {},
     "output_type": "execute_result"
    }
   ],
   "source": [
    "engine.read_flow_budget(idx=0, incremental=True)"
   ]
  },
  {
   "cell_type": "code",
   "execution_count": null,
   "id": "ba131de3ae680b67",
   "metadata": {
    "papermill": {
     "duration": 0.00484,
     "end_time": "2024-06-20T19:02:14.321773",
     "exception": false,
     "start_time": "2024-06-20T19:02:14.316933",
     "status": "completed"
    },
    "tags": []
   },
   "outputs": [],
   "source": []
  }
 ],
 "metadata": {
  "kernelspec": {
   "display_name": "Python 3",
   "language": "python",
   "name": "python3"
  },
  "language_info": {
   "codemirror_mode": {
    "name": "ipython",
    "version": 3
   },
   "file_extension": ".py",
   "mimetype": "text/x-python",
   "name": "python",
   "nbconvert_exporter": "python",
   "pygments_lexer": "ipython3",
   "version": "3.12.2"
  },
  "papermill": {
   "default_parameters": {},
   "duration": 3.723806,
   "end_time": "2024-06-20T19:02:14.652583",
   "environment_variables": {},
   "exception": null,
   "input_path": "./notebooks/Test_WellBoundary.ipynb",
   "output_path": "./notebooks/Test_WellBoundary.ipynb",
   "parameters": {},
   "start_time": "2024-06-20T19:02:10.928777",
   "version": "2.6.0"
  }
 },
 "nbformat": 4,
 "nbformat_minor": 5
}