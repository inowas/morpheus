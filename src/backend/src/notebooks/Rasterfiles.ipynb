{
 "cells": [
  {
   "cell_type": "markdown",
   "id": "6c79bbd4d7bfb16e",
   "metadata": {
    "papermill": {
     "duration": 0.016091,
     "end_time": "2024-06-19T09:31:07.911006",
     "exception": false,
     "start_time": "2024-06-19T09:31:07.894915",
     "status": "completed"
    },
    "tags": []
   },
   "source": [
    "# Read geotiff file"
   ]
  },
  {
   "cell_type": "code",
   "execution_count": 1,
   "id": "d124aedbafdcc040",
   "metadata": {
    "ExecuteTime": {
     "end_time": "2024-05-15T15:44:46.736131Z",
     "start_time": "2024-05-15T15:44:46.414938Z"
    },
    "collapsed": false,
    "execution": {
     "iopub.execute_input": "2024-06-19T09:31:07.930952Z",
     "iopub.status.busy": "2024-06-19T09:31:07.930361Z",
     "iopub.status.idle": "2024-06-19T09:31:08.091894Z",
     "shell.execute_reply": "2024-06-19T09:31:08.091591Z"
    },
    "papermill": {
     "duration": 0.171956,
     "end_time": "2024-06-19T09:31:08.092947",
     "exception": false,
     "start_time": "2024-06-19T09:31:07.920991",
     "status": "completed"
    },
    "tags": []
   },
   "outputs": [],
   "source": [
    "import geotiff as gt\n",
    "import numpy as np\n",
    "import os\n",
    "\n",
    "notebook_path = os.getcwd()\n",
    "if not notebook_path.endswith('notebooks'):\n",
    "  notebook_path = os.path.join(notebook_path, 'notebooks')\n",
    "    \n",
    "# Read the shapefile\n",
    "raster_file = os.path.join(notebook_path, 'assets', 'rasterfiles', 'recharge.tif')\n",
    "geotiff = gt.GeoTiff(raster_file, as_crs=4326)"
   ]
  },
  {
   "cell_type": "markdown",
   "id": "2de26a206614ed77",
   "metadata": {
    "collapsed": false,
    "papermill": {
     "duration": 0.001602,
     "end_time": "2024-06-19T09:31:08.096486",
     "exception": false,
     "start_time": "2024-06-19T09:31:08.094884",
     "status": "completed"
    },
    "tags": []
   },
   "source": [
    "## Get the metadata"
   ]
  },
  {
   "cell_type": "code",
   "execution_count": 2,
   "id": "5fc42d0083445cdf",
   "metadata": {
    "ExecuteTime": {
     "end_time": "2024-05-15T15:44:46.743775Z",
     "start_time": "2024-05-15T15:44:46.738841Z"
    },
    "collapsed": false,
    "execution": {
     "iopub.execute_input": "2024-06-19T09:31:08.100364Z",
     "iopub.status.busy": "2024-06-19T09:31:08.100139Z",
     "iopub.status.idle": "2024-06-19T09:31:08.103346Z",
     "shell.execute_reply": "2024-06-19T09:31:08.103090Z"
    },
    "papermill": {
     "duration": 0.006065,
     "end_time": "2024-06-19T09:31:08.104116",
     "exception": false,
     "start_time": "2024-06-19T09:31:08.098051",
     "status": "completed"
    },
    "tags": []
   },
   "outputs": [
    {
     "data": {
      "text/plain": [
       "[225, 463]"
      ]
     },
     "execution_count": 2,
     "metadata": {},
     "output_type": "execute_result"
    }
   ],
   "source": [
    "# Shape of the geotiff\n",
    "geotiff.tif_shape"
   ]
  },
  {
   "cell_type": "code",
   "execution_count": 3,
   "id": "897de7d64d68d836",
   "metadata": {
    "ExecuteTime": {
     "end_time": "2024-05-15T15:44:46.771410Z",
     "start_time": "2024-05-15T15:44:46.745092Z"
    },
    "execution": {
     "iopub.execute_input": "2024-06-19T09:31:08.108021Z",
     "iopub.status.busy": "2024-06-19T09:31:08.107919Z",
     "iopub.status.idle": "2024-06-19T09:31:08.116308Z",
     "shell.execute_reply": "2024-06-19T09:31:08.116099Z"
    },
    "papermill": {
     "duration": 0.0113,
     "end_time": "2024-06-19T09:31:08.117092",
     "exception": false,
     "start_time": "2024-06-19T09:31:08.105792",
     "status": "completed"
    },
    "tags": []
   },
   "outputs": [
    {
     "data": {
      "text/plain": [
       "((62, 97), (432, 207))"
      ]
     },
     "execution_count": 3,
     "metadata": {},
     "output_type": "execute_result"
    }
   ],
   "source": [
    "geotiff.get_int_box(bBox=((32.9, 34.62), (33.0, 34.65)))"
   ]
  },
  {
   "cell_type": "code",
   "execution_count": 4,
   "id": "55a2dddb75753e25",
   "metadata": {
    "ExecuteTime": {
     "end_time": "2024-05-15T15:44:46.779640Z",
     "start_time": "2024-05-15T15:44:46.774870Z"
    },
    "collapsed": false,
    "execution": {
     "iopub.execute_input": "2024-06-19T09:31:08.121097Z",
     "iopub.status.busy": "2024-06-19T09:31:08.120998Z",
     "iopub.status.idle": "2024-06-19T09:31:08.122859Z",
     "shell.execute_reply": "2024-06-19T09:31:08.122655Z"
    },
    "papermill": {
     "duration": 0.004681,
     "end_time": "2024-06-19T09:31:08.123598",
     "exception": false,
     "start_time": "2024-06-19T09:31:08.118917",
     "status": "completed"
    },
    "tags": []
   },
   "outputs": [
    {
     "data": {
      "text/plain": [
       "((32.88334, 34.6761), (33.00835, 34.61535))"
      ]
     },
     "execution_count": 4,
     "metadata": {},
     "output_type": "execute_result"
    }
   ],
   "source": [
    "# Bounding box of the geotiff\n",
    "geotiff.tif_bBox"
   ]
  },
  {
   "cell_type": "code",
   "execution_count": 5,
   "id": "4cc35f33cd026584",
   "metadata": {
    "ExecuteTime": {
     "end_time": "2024-05-15T15:44:46.791257Z",
     "start_time": "2024-05-15T15:44:46.780697Z"
    },
    "execution": {
     "iopub.execute_input": "2024-06-19T09:31:08.127533Z",
     "iopub.status.busy": "2024-06-19T09:31:08.127427Z",
     "iopub.status.idle": "2024-06-19T09:31:08.134602Z",
     "shell.execute_reply": "2024-06-19T09:31:08.134378Z"
    },
    "papermill": {
     "duration": 0.010025,
     "end_time": "2024-06-19T09:31:08.135405",
     "exception": false,
     "start_time": "2024-06-19T09:31:08.125380",
     "status": "completed"
    },
    "tags": []
   },
   "outputs": [
    {
     "data": {
      "text/plain": [
       "[225, 463]"
      ]
     },
     "execution_count": 5,
     "metadata": {},
     "output_type": "execute_result"
    }
   ],
   "source": [
    "geotiff.get_coord_arrays()\n",
    "geotiff.tif_shape"
   ]
  },
  {
   "cell_type": "code",
   "execution_count": 6,
   "id": "df4be66e24ef322a",
   "metadata": {
    "ExecuteTime": {
     "end_time": "2024-05-15T15:44:46.802513Z",
     "start_time": "2024-05-15T15:44:46.792765Z"
    },
    "execution": {
     "iopub.execute_input": "2024-06-19T09:31:08.139691Z",
     "iopub.status.busy": "2024-06-19T09:31:08.139589Z",
     "iopub.status.idle": "2024-06-19T09:31:08.146675Z",
     "shell.execute_reply": "2024-06-19T09:31:08.146444Z"
    },
    "papermill": {
     "duration": 0.010088,
     "end_time": "2024-06-19T09:31:08.147469",
     "exception": false,
     "start_time": "2024-06-19T09:31:08.137381",
     "status": "completed"
    },
    "tags": []
   },
   "outputs": [
    {
     "data": {
      "text/plain": [
       "463"
      ]
     },
     "execution_count": 6,
     "metadata": {},
     "output_type": "execute_result"
    }
   ],
   "source": [
    "len(geotiff.get_coord_arrays()[0][0])"
   ]
  },
  {
   "cell_type": "code",
   "execution_count": 7,
   "id": "a1340348ef42d52c",
   "metadata": {
    "ExecuteTime": {
     "end_time": "2024-05-15T15:44:46.822346Z",
     "start_time": "2024-05-15T15:44:46.803592Z"
    },
    "collapsed": false,
    "execution": {
     "iopub.execute_input": "2024-06-19T09:31:08.151719Z",
     "iopub.status.busy": "2024-06-19T09:31:08.151607Z",
     "iopub.status.idle": "2024-06-19T09:31:08.162704Z",
     "shell.execute_reply": "2024-06-19T09:31:08.162486Z"
    },
    "papermill": {
     "duration": 0.014094,
     "end_time": "2024-06-19T09:31:08.163488",
     "exception": false,
     "start_time": "2024-06-19T09:31:08.149394",
     "status": "completed"
    },
    "tags": []
   },
   "outputs": [
    {
     "data": {
      "text/plain": [
       "(array([34.64991, 34.64964, 34.64937, 34.6491 , 34.64883, 34.64856,\n",
       "        34.64829, 34.64802, 34.64775, 34.64748, 34.64721, 34.64694,\n",
       "        34.64667, 34.6464 , 34.64613, 34.64586, 34.64559, 34.64532,\n",
       "        34.64505, 34.64478, 34.64451, 34.64424, 34.64397, 34.6437 ,\n",
       "        34.64343, 34.64316, 34.64289, 34.64262, 34.64235, 34.64208,\n",
       "        34.64181, 34.64154, 34.64127, 34.641  , 34.64073, 34.64046,\n",
       "        34.64019, 34.63992, 34.63965, 34.63938, 34.63911, 34.63884,\n",
       "        34.63857, 34.6383 , 34.63803, 34.63776, 34.63749, 34.63722,\n",
       "        34.63695, 34.63668, 34.63641, 34.63614, 34.63587, 34.6356 ,\n",
       "        34.63533, 34.63506, 34.63479, 34.63452, 34.63425, 34.63398,\n",
       "        34.63371, 34.63344, 34.63317, 34.6329 , 34.63263, 34.63236,\n",
       "        34.63209, 34.63182, 34.63155, 34.63128, 34.63101, 34.63074,\n",
       "        34.63047, 34.6302 , 34.62993, 34.62966, 34.62939, 34.62912,\n",
       "        34.62885, 34.62858, 34.62831, 34.62804, 34.62777, 34.6275 ,\n",
       "        34.62723, 34.62696, 34.62669, 34.62642, 34.62615, 34.62588,\n",
       "        34.62561, 34.62534, 34.62507, 34.6248 , 34.62453, 34.62426,\n",
       "        34.62399, 34.62372, 34.62345, 34.62318, 34.62291, 34.62264,\n",
       "        34.62237, 34.6221 , 34.62183, 34.62156, 34.62129, 34.62102,\n",
       "        34.62075, 34.62048]),\n",
       " array([34.64991, 34.64964, 34.64937, 34.6491 , 34.64883, 34.64856,\n",
       "        34.64829, 34.64802, 34.64775, 34.64748, 34.64721, 34.64694,\n",
       "        34.64667, 34.6464 , 34.64613, 34.64586, 34.64559, 34.64532,\n",
       "        34.64505, 34.64478, 34.64451, 34.64424, 34.64397, 34.6437 ,\n",
       "        34.64343, 34.64316, 34.64289, 34.64262, 34.64235, 34.64208,\n",
       "        34.64181, 34.64154, 34.64127, 34.641  , 34.64073, 34.64046,\n",
       "        34.64019, 34.63992, 34.63965, 34.63938, 34.63911, 34.63884,\n",
       "        34.63857, 34.6383 , 34.63803, 34.63776, 34.63749, 34.63722,\n",
       "        34.63695, 34.63668, 34.63641, 34.63614, 34.63587, 34.6356 ,\n",
       "        34.63533, 34.63506, 34.63479, 34.63452, 34.63425, 34.63398,\n",
       "        34.63371, 34.63344, 34.63317, 34.6329 , 34.63263, 34.63236,\n",
       "        34.63209, 34.63182, 34.63155, 34.63128, 34.63101, 34.63074,\n",
       "        34.63047, 34.6302 , 34.62993, 34.62966, 34.62939, 34.62912,\n",
       "        34.62885, 34.62858, 34.62831, 34.62804, 34.62777, 34.6275 ,\n",
       "        34.62723, 34.62696, 34.62669, 34.62642, 34.62615, 34.62588,\n",
       "        34.62561, 34.62534, 34.62507, 34.6248 , 34.62453, 34.62426,\n",
       "        34.62399, 34.62372, 34.62345, 34.62318, 34.62291, 34.62264,\n",
       "        34.62237, 34.6221 , 34.62183, 34.62156, 34.62129, 34.62102,\n",
       "        34.62075, 34.62048]))"
      ]
     },
     "execution_count": 7,
     "metadata": {},
     "output_type": "execute_result"
    }
   ],
   "source": [
    "coord_arrays = geotiff.get_coord_arrays(bBox=((32.9, 34.62), (33.0, 34.65)))\n",
    "x_coord_array = coord_arrays[0]\n",
    "y_coord_array = coord_arrays[1]\n",
    "x_coords = x_coord_array[0]\n",
    "y_coords = y_coord_array[:, 0]\n",
    "\n",
    "y_coords, y_coords"
   ]
  },
  {
   "cell_type": "code",
   "execution_count": 8,
   "id": "c409f32b1a9d6733",
   "metadata": {
    "ExecuteTime": {
     "end_time": "2024-05-15T15:44:46.829403Z",
     "start_time": "2024-05-15T15:44:46.823099Z"
    },
    "collapsed": false,
    "execution": {
     "iopub.execute_input": "2024-06-19T09:31:08.167557Z",
     "iopub.status.busy": "2024-06-19T09:31:08.167448Z",
     "iopub.status.idle": "2024-06-19T09:31:08.170746Z",
     "shell.execute_reply": "2024-06-19T09:31:08.170516Z"
    },
    "papermill": {
     "duration": 0.006189,
     "end_time": "2024-06-19T09:31:08.171528",
     "exception": false,
     "start_time": "2024-06-19T09:31:08.165339",
     "status": "completed"
    },
    "tags": []
   },
   "outputs": [
    {
     "data": {
      "text/plain": [
       "(32.88361, 34.67583)"
      ]
     },
     "execution_count": 8,
     "metadata": {},
     "output_type": "execute_result"
    }
   ],
   "source": [
    "geotiff.get_coords(1, 1)"
   ]
  },
  {
   "cell_type": "markdown",
   "id": "2bed8ece29a38b05",
   "metadata": {
    "collapsed": false,
    "papermill": {
     "duration": 0.001732,
     "end_time": "2024-06-19T09:31:08.175129",
     "exception": false,
     "start_time": "2024-06-19T09:31:08.173397",
     "status": "completed"
    },
    "tags": []
   },
   "source": [
    "## Read date into a zarr array\n",
    "https://zarr.readthedocs.io/en/stable/index.html"
   ]
  },
  {
   "cell_type": "code",
   "execution_count": 9,
   "id": "86108ebbc59b4859",
   "metadata": {
    "ExecuteTime": {
     "end_time": "2024-05-15T15:44:46.835307Z",
     "start_time": "2024-05-15T15:44:46.830441Z"
    },
    "collapsed": false,
    "execution": {
     "iopub.execute_input": "2024-06-19T09:31:08.179057Z",
     "iopub.status.busy": "2024-06-19T09:31:08.178884Z",
     "iopub.status.idle": "2024-06-19T09:31:08.180869Z",
     "shell.execute_reply": "2024-06-19T09:31:08.180644Z"
    },
    "papermill": {
     "duration": 0.0048,
     "end_time": "2024-06-19T09:31:08.181628",
     "exception": false,
     "start_time": "2024-06-19T09:31:08.176828",
     "status": "completed"
    },
    "tags": []
   },
   "outputs": [
    {
     "data": {
      "text/plain": [
       "<zarr.core.Array (225, 463) float64 read-only>"
      ]
     },
     "execution_count": 9,
     "metadata": {},
     "output_type": "execute_result"
    }
   ],
   "source": [
    "data = geotiff.read()\n",
    "data"
   ]
  },
  {
   "cell_type": "code",
   "execution_count": 10,
   "id": "22d4b6849ed3c228",
   "metadata": {
    "ExecuteTime": {
     "end_time": "2024-05-15T15:44:46.867013Z",
     "start_time": "2024-05-15T15:44:46.860905Z"
    },
    "collapsed": false,
    "execution": {
     "iopub.execute_input": "2024-06-19T09:31:08.185628Z",
     "iopub.status.busy": "2024-06-19T09:31:08.185529Z",
     "iopub.status.idle": "2024-06-19T09:31:08.187587Z",
     "shell.execute_reply": "2024-06-19T09:31:08.187376Z"
    },
    "papermill": {
     "duration": 0.004971,
     "end_time": "2024-06-19T09:31:08.188363",
     "exception": false,
     "start_time": "2024-06-19T09:31:08.183392",
     "status": "completed"
    },
    "tags": []
   },
   "outputs": [
    {
     "data": {
      "text/html": [
       "<table class=\"zarr-info\"><tbody><tr><th style=\"text-align: left\">Type</th><td style=\"text-align: left\">zarr.core.Array</td></tr><tr><th style=\"text-align: left\">Data type</th><td style=\"text-align: left\">float64</td></tr><tr><th style=\"text-align: left\">Shape</th><td style=\"text-align: left\">(225, 463)</td></tr><tr><th style=\"text-align: left\">Chunk shape</th><td style=\"text-align: left\">(2, 463)</td></tr><tr><th style=\"text-align: left\">Order</th><td style=\"text-align: left\">C</td></tr><tr><th style=\"text-align: left\">Read-only</th><td style=\"text-align: left\">True</td></tr><tr><th style=\"text-align: left\">Compressor</th><td style=\"text-align: left\">None</td></tr><tr><th style=\"text-align: left\">Store type</th><td style=\"text-align: left\">zarr.storage.KVStore</td></tr><tr><th style=\"text-align: left\">No. bytes</th><td style=\"text-align: left\">833400 (813.9K)</td></tr><tr><th style=\"text-align: left\">No. bytes stored</th><td style=\"text-align: left\">212</td></tr><tr><th style=\"text-align: left\">Storage ratio</th><td style=\"text-align: left\">3931.1</td></tr><tr><th style=\"text-align: left\">Chunks initialized</th><td style=\"text-align: left\">0/113</td></tr></tbody></table>"
      ],
      "text/plain": [
       "Type               : zarr.core.Array\n",
       "Data type          : float64\n",
       "Shape              : (225, 463)\n",
       "Chunk shape        : (2, 463)\n",
       "Order              : C\n",
       "Read-only          : True\n",
       "Compressor         : None\n",
       "Store type         : zarr.storage.KVStore\n",
       "No. bytes          : 833400 (813.9K)\n",
       "No. bytes stored   : 212\n",
       "Storage ratio      : 3931.1\n",
       "Chunks initialized : 0/113"
      ]
     },
     "execution_count": 10,
     "metadata": {},
     "output_type": "execute_result"
    }
   ],
   "source": [
    "data.info"
   ]
  },
  {
   "cell_type": "code",
   "execution_count": 11,
   "id": "437cf70523a3f741",
   "metadata": {
    "ExecuteTime": {
     "end_time": "2024-05-15T15:44:46.880268Z",
     "start_time": "2024-05-15T15:44:46.868457Z"
    },
    "collapsed": false,
    "execution": {
     "iopub.execute_input": "2024-06-19T09:31:08.192525Z",
     "iopub.status.busy": "2024-06-19T09:31:08.192424Z",
     "iopub.status.idle": "2024-06-19T09:31:08.199381Z",
     "shell.execute_reply": "2024-06-19T09:31:08.199137Z"
    },
    "papermill": {
     "duration": 0.009906,
     "end_time": "2024-06-19T09:31:08.200153",
     "exception": false,
     "start_time": "2024-06-19T09:31:08.190247",
     "status": "completed"
    },
    "tags": []
   },
   "outputs": [
    {
     "data": {
      "text/plain": [
       "array([[-3.40282347e+38, -3.40282347e+38, -3.40282347e+38, ...,\n",
       "        -3.40282347e+38, -3.40282347e+38, -3.40282347e+38],\n",
       "       [-3.40282347e+38, -3.40282347e+38, -3.40282347e+38, ...,\n",
       "        -3.40282347e+38, -3.40282347e+38, -3.40282347e+38],\n",
       "       [-3.40282347e+38, -3.40282347e+38, -3.40282347e+38, ...,\n",
       "        -3.40282347e+38, -3.40282347e+38, -3.40282347e+38],\n",
       "       ...,\n",
       "       [-3.40282347e+38, -3.40282347e+38, -3.40282347e+38, ...,\n",
       "        -3.40282347e+38, -3.40282347e+38, -3.40282347e+38],\n",
       "       [-3.40282347e+38, -3.40282347e+38, -3.40282347e+38, ...,\n",
       "        -3.40282347e+38, -3.40282347e+38, -3.40282347e+38],\n",
       "       [-3.40282347e+38, -3.40282347e+38, -3.40282347e+38, ...,\n",
       "        -3.40282347e+38, -3.40282347e+38, -3.40282347e+38]])"
      ]
     },
     "execution_count": 11,
     "metadata": {},
     "output_type": "execute_result"
    }
   ],
   "source": [
    "np_data = np.array(data)\n",
    "np_data"
   ]
  },
  {
   "cell_type": "code",
   "execution_count": 12,
   "id": "a326b7fa8a81c3a7",
   "metadata": {
    "ExecuteTime": {
     "end_time": "2024-05-15T15:44:46.886306Z",
     "start_time": "2024-05-15T15:44:46.881862Z"
    },
    "collapsed": false,
    "execution": {
     "iopub.execute_input": "2024-06-19T09:31:08.204550Z",
     "iopub.status.busy": "2024-06-19T09:31:08.204456Z",
     "iopub.status.idle": "2024-06-19T09:31:08.206655Z",
     "shell.execute_reply": "2024-06-19T09:31:08.206454Z"
    },
    "papermill": {
     "duration": 0.005207,
     "end_time": "2024-06-19T09:31:08.207406",
     "exception": false,
     "start_time": "2024-06-19T09:31:08.202199",
     "status": "completed"
    },
    "tags": []
   },
   "outputs": [
    {
     "data": {
      "text/plain": [
       "array([[nan, nan, nan, ..., nan, nan, nan],\n",
       "       [nan, nan, nan, ..., nan, nan, nan],\n",
       "       [nan, nan, nan, ..., nan, nan, nan],\n",
       "       ...,\n",
       "       [nan, nan, nan, ..., nan, nan, nan],\n",
       "       [nan, nan, nan, ..., nan, nan, nan],\n",
       "       [nan, nan, nan, ..., nan, nan, nan]])"
      ]
     },
     "execution_count": 12,
     "metadata": {},
     "output_type": "execute_result"
    }
   ],
   "source": [
    "np_data[np_data < 0] = np.nan\n",
    "np_data"
   ]
  },
  {
   "cell_type": "code",
   "execution_count": 13,
   "id": "371c6d735964abe",
   "metadata": {
    "ExecuteTime": {
     "end_time": "2024-05-15T15:44:46.890843Z",
     "start_time": "2024-05-15T15:44:46.887087Z"
    },
    "collapsed": false,
    "execution": {
     "iopub.execute_input": "2024-06-19T09:31:08.211912Z",
     "iopub.status.busy": "2024-06-19T09:31:08.211724Z",
     "iopub.status.idle": "2024-06-19T09:31:08.213721Z",
     "shell.execute_reply": "2024-06-19T09:31:08.213515Z"
    },
    "papermill": {
     "duration": 0.005043,
     "end_time": "2024-06-19T09:31:08.214476",
     "exception": false,
     "start_time": "2024-06-19T09:31:08.209433",
     "status": "completed"
    },
    "tags": []
   },
   "outputs": [
    {
     "data": {
      "text/plain": [
       "nan"
      ]
     },
     "execution_count": 13,
     "metadata": {},
     "output_type": "execute_result"
    }
   ],
   "source": [
    "np_data.max()"
   ]
  },
  {
   "cell_type": "code",
   "execution_count": 14,
   "id": "bfbf4512bbaf2de1",
   "metadata": {
    "ExecuteTime": {
     "end_time": "2024-05-15T15:44:47.471881Z",
     "start_time": "2024-05-15T15:44:46.892260Z"
    },
    "collapsed": false,
    "execution": {
     "iopub.execute_input": "2024-06-19T09:31:08.218869Z",
     "iopub.status.busy": "2024-06-19T09:31:08.218770Z",
     "iopub.status.idle": "2024-06-19T09:31:08.558056Z",
     "shell.execute_reply": "2024-06-19T09:31:08.557302Z"
    },
    "papermill": {
     "duration": 0.344407,
     "end_time": "2024-06-19T09:31:08.560886",
     "exception": false,
     "start_time": "2024-06-19T09:31:08.216479",
     "status": "completed"
    },
    "tags": []
   },
   "outputs": [
    {
     "data": {
      "image/png": "[encoded data removed]",
      "text/plain": [
       "<Figure size 750x350 with 2 Axes>"
      ]
     },
     "metadata": {},
     "output_type": "display_data"
    }
   ],
   "source": [
    "from matplotlib import pyplot as plt\n",
    "\n",
    "plt.rcParams[\"figure.figsize\"] = [7.50, 3.50]\n",
    "plt.rcParams[\"figure.autolayout\"] = True\n",
    "\n",
    "im = plt.imshow(np_data, cmap='viridis')\n",
    "cbar = plt.colorbar(im)\n",
    "cbar.set_label(\"Recharge (mm/day)\")\n",
    "plt.show()"
   ]
  },
  {
   "cell_type": "code",
   "execution_count": null,
   "id": "5695507d76c6f24",
   "metadata": {
    "ExecuteTime": {
     "end_time": "2024-05-15T15:44:47.478761Z",
     "start_time": "2024-05-15T15:44:47.473914Z"
    },
    "papermill": {
     "duration": 0.005591,
     "end_time": "2024-06-19T09:31:08.573395",
     "exception": false,
     "start_time": "2024-06-19T09:31:08.567804",
     "status": "completed"
    },
    "tags": []
   },
   "outputs": [],
   "source": []
  }
 ],
 "metadata": {
  "kernelspec": {
   "display_name": "Python 3",
   "language": "python",
   "name": "python3"
  },
  "language_info": {
   "codemirror_mode": {
    "name": "ipython",
    "version": 3
   },
   "file_extension": ".py",
   "mimetype": "text/x-python",
   "name": "python",
   "nbconvert_exporter": "python",
   "pygments_lexer": "ipython3",
   "version": "3.12.2"
  },
  "papermill": {
   "default_parameters": {},
   "duration": 3.90177,
   "end_time": "2024-06-19T09:31:11.209082",
   "environment_variables": {},
   "exception": null,
   "input_path": "./notebooks/Rasterfiles.ipynb",
   "output_path": "./notebooks/Rasterfiles.ipynb",
   "parameters": {},
   "start_time": "2024-06-19T09:31:07.307312",
   "version": "2.6.0"
  }
 },
 "nbformat": 4,
 "nbformat_minor": 5
}