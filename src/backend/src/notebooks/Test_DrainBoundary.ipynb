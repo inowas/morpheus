{
 "cells": [
  {
   "cell_type": "code",
   "execution_count": 1,
   "id": "ba6761fae9d5e5cb",
   "metadata": {
    "ExecuteTime": {
     "end_time": "2024-05-14T08:10:09.522936Z",
     "start_time": "2024-05-14T08:10:09.520184Z"
    },
    "collapsed": false,
    "execution": {
     "iopub.execute_input": "2024-05-15T16:01:33.302509Z",
     "iopub.status.busy": "2024-05-15T16:01:33.302020Z",
     "iopub.status.idle": "2024-05-15T16:01:33.306226Z",
     "shell.execute_reply": "2024-05-15T16:01:33.305612Z"
    },
    "papermill": {
     "duration": 0.018116,
     "end_time": "2024-05-15T16:01:33.307906",
     "exception": false,
     "start_time": "2024-05-15T16:01:33.289790",
     "status": "completed"
    },
    "tags": []
   },
   "source": [
    "import sys\n",
    "\n",
    "sys.path.insert(0, '..')"
   ],
   "outputs": []
  },
  {
   "cell_type": "markdown",
   "id": "5ede1ba5e0993dd1",
   "metadata": {
    "collapsed": false,
    "papermill": {
     "duration": 0.004443,
     "end_time": "2024-05-15T16:01:33.318566",
     "exception": false,
     "start_time": "2024-05-15T16:01:33.314123",
     "status": "completed"
    },
    "tags": []
   },
   "source": [
    "## Setup the model area"
   ]
  },
  {
   "cell_type": "code",
   "execution_count": 2,
   "id": "2f69504ab35487aa",
   "metadata": {
    "ExecuteTime": {
     "end_time": "2024-05-14T08:10:10.149151Z",
     "start_time": "2024-05-14T08:10:09.524155Z"
    },
    "collapsed": false,
    "execution": {
     "iopub.execute_input": "2024-05-15T16:01:33.328620Z",
     "iopub.status.busy": "2024-05-15T16:01:33.328242Z",
     "iopub.status.idle": "2024-05-15T16:01:33.840771Z",
     "shell.execute_reply": "2024-05-15T16:01:33.840500Z"
    },
    "papermill": {
     "duration": 0.518518,
     "end_time": "2024-05-15T16:01:33.841681",
     "exception": false,
     "start_time": "2024-05-15T16:01:33.323163",
     "status": "completed"
    },
    "tags": []
   },
   "source": [
    "from morpheus.project.types.discretization import SpatialDiscretization\n",
    "from morpheus.project.types.discretization.spatial import Rotation, Grid, Crs\n",
    "from morpheus.project.types.geometry import Polygon, LineString\n",
    "\n",
    "polygon = Polygon(\n",
    "  type='Polygon',\n",
    "  coordinates=[[\n",
    "    (13.92, 50.964),\n",
    "    (13.92, 50.966),\n",
    "    (13.925, 50.966),\n",
    "    (13.925, 50.964),\n",
    "    (13.92, 50.964)\n",
    "  ]]\n",
    ")\n",
    "\n",
    "rotation = Rotation(0)\n",
    "\n",
    "grid = Grid.cartesian_from_polygon(polygon=polygon, n_cols=100, n_rows=50, rotation=rotation)\n",
    "spatial_discretization = SpatialDiscretization.from_geometry_with_grid(\n",
    "  geometry=polygon,\n",
    "  grid=grid,\n",
    "  crs=Crs.from_str('EPSG:4326')\n",
    ")\n",
    "grid"
   ],
   "outputs": []
  },
  {
   "cell_type": "markdown",
   "id": "fa27e67f9d801845",
   "metadata": {
    "collapsed": false,
    "papermill": {
     "duration": 0.002188,
     "end_time": "2024-05-15T16:01:33.846370",
     "exception": false,
     "start_time": "2024-05-15T16:01:33.844182",
     "status": "completed"
    },
    "tags": []
   },
   "source": [
    "## Setup Time Discretization"
   ]
  },
  {
   "cell_type": "code",
   "execution_count": 3,
   "id": "8e4e63dd138db9fc",
   "metadata": {
    "ExecuteTime": {
     "end_time": "2024-05-14T08:10:10.155863Z",
     "start_time": "2024-05-14T08:10:10.151461Z"
    },
    "collapsed": false,
    "execution": {
     "iopub.execute_input": "2024-05-15T16:01:33.851500Z",
     "iopub.status.busy": "2024-05-15T16:01:33.851229Z",
     "iopub.status.idle": "2024-05-15T16:01:33.853927Z",
     "shell.execute_reply": "2024-05-15T16:01:33.853684Z"
    },
    "papermill": {
     "duration": 0.00624,
     "end_time": "2024-05-15T16:01:33.854777",
     "exception": false,
     "start_time": "2024-05-15T16:01:33.848537",
     "status": "completed"
    },
    "tags": []
   },
   "source": [
    "from morpheus.project.types.discretization.time.TimeUnit import TimeUnit\n",
    "from morpheus.project.types.discretization.time.Stressperiods import StartDateTime, StressPeriodCollection, \\\n",
    "  StressPeriod, NumberOfTimeSteps, TimeStepMultiplier, IsSteadyState\n",
    "from morpheus.project.types.discretization.time import TimeDiscretization\n",
    "from datetime import datetime\n",
    "\n",
    "time_discretization = TimeDiscretization(\n",
    "  start_date_time=StartDateTime.from_datetime(datetime(2020, 1, 1)),\n",
    "  end_date_time=StartDateTime.from_datetime(datetime(2020, 12, 31)),\n",
    "  stress_periods=StressPeriodCollection([\n",
    "    StressPeriod(\n",
    "      start_date_time=StartDateTime.from_datetime(datetime(2020, 1, 1)),\n",
    "      number_of_time_steps=NumberOfTimeSteps(1),\n",
    "      time_step_multiplier=TimeStepMultiplier(1),\n",
    "      steady_state=IsSteadyState.yes()\n",
    "    ),\n",
    "  ]),\n",
    "  time_unit=TimeUnit.days()\n",
    ")"
   ],
   "outputs": []
  },
  {
   "cell_type": "markdown",
   "id": "963ba8729f09fcec",
   "metadata": {
    "collapsed": false,
    "papermill": {
     "duration": 0.002012,
     "end_time": "2024-05-15T16:01:33.858944",
     "exception": false,
     "start_time": "2024-05-15T16:01:33.856932",
     "status": "completed"
    },
    "tags": []
   },
   "source": [
    "# Setup Model"
   ]
  },
  {
   "cell_type": "code",
   "execution_count": 4,
   "id": "1d5c9125b1b9360b",
   "metadata": {
    "ExecuteTime": {
     "end_time": "2024-05-14T08:10:10.817806Z",
     "start_time": "2024-05-14T08:10:10.156760Z"
    },
    "collapsed": false,
    "execution": {
     "iopub.execute_input": "2024-05-15T16:01:33.863485Z",
     "iopub.status.busy": "2024-05-15T16:01:33.863376Z",
     "iopub.status.idle": "2024-05-15T16:01:34.223156Z",
     "shell.execute_reply": "2024-05-15T16:01:34.222806Z"
    },
    "papermill": {
     "duration": 0.363374,
     "end_time": "2024-05-15T16:01:34.224284",
     "exception": false,
     "start_time": "2024-05-15T16:01:33.860910",
     "status": "completed"
    },
    "tags": []
   },
   "source": [
    "from morpheus.project.types.Model import Model\n",
    "\n",
    "model = Model.new()\n",
    "model = model.with_updated_time_discretization(time_discretization)\n",
    "model = model.with_updated_spatial_discretization(spatial_discretization=spatial_discretization)"
   ],
   "outputs": []
  },
  {
   "cell_type": "code",
   "execution_count": 5,
   "id": "1540b870ae83f298",
   "metadata": {
    "ExecuteTime": {
     "end_time": "2024-05-14T08:10:11.478920Z",
     "start_time": "2024-05-14T08:10:10.833274Z"
    },
    "collapsed": false,
    "execution": {
     "iopub.execute_input": "2024-05-15T16:01:34.229664Z",
     "iopub.status.busy": "2024-05-15T16:01:34.229443Z",
     "iopub.status.idle": "2024-05-15T16:01:34.399417Z",
     "shell.execute_reply": "2024-05-15T16:01:34.399138Z"
    },
    "papermill": {
     "duration": 0.173591,
     "end_time": "2024-05-15T16:01:34.400338",
     "exception": false,
     "start_time": "2024-05-15T16:01:34.226747",
     "status": "completed"
    },
    "tags": []
   },
   "source": [
    "import folium\n",
    "\n",
    "m = folium.Map(tiles=\"cartodbpositron\", crs=\"EPSG3857\", zoom_start=12, location=[50.965, 13.922])\n",
    "m.add_child(folium.GeoJson(polygon.as_geojson()))\n",
    "\n",
    "m.fit_bounds(m.get_bounds())\n",
    "m"
   ],
   "outputs": []
  },
  {
   "cell_type": "markdown",
   "id": "62ae3587df801000",
   "metadata": {
    "collapsed": false,
    "papermill": {
     "duration": 0.002352,
     "end_time": "2024-05-15T16:01:34.405246",
     "exception": false,
     "start_time": "2024-05-15T16:01:34.402894",
     "status": "completed"
    },
    "tags": []
   },
   "source": [
    "# Setup drain boundary with two observations"
   ]
  },
  {
   "cell_type": "code",
   "execution_count": 6,
   "id": "53679913aee28ce9",
   "metadata": {
    "ExecuteTime": {
     "end_time": "2024-05-14T08:10:13.728965Z",
     "start_time": "2024-05-14T08:10:11.480809Z"
    },
    "collapsed": false,
    "execution": {
     "iopub.execute_input": "2024-05-15T16:01:34.410252Z",
     "iopub.status.busy": "2024-05-15T16:01:34.410035Z",
     "iopub.status.idle": "2024-05-15T16:01:35.444413Z",
     "shell.execute_reply": "2024-05-15T16:01:35.444114Z"
    },
    "papermill": {
     "duration": 1.038135,
     "end_time": "2024-05-15T16:01:35.445510",
     "exception": false,
     "start_time": "2024-05-15T16:01:34.407375",
     "status": "completed"
    },
    "tags": []
   },
   "source": [
    "from morpheus.project.types.boundaries.Observation import ObservationName\n",
    "from morpheus.project.types.boundaries.DrainObservation import DrainRawDataItem, \\\n",
    "  DrainObservation\n",
    "from morpheus.project.types.boundaries.GeneralHeadObservation import ObservationId, GeneralHeadRawDataItem, \\\n",
    "  GeneralHeadObservation, Stage, Conductance\n",
    "from morpheus.project.types.geometry import Point\n",
    "from morpheus.project.types.boundaries.Boundary import BoundaryName, BoundaryCollection\n",
    "from morpheus.project.types.layers import LayerId\n",
    "from morpheus.project.types.boundaries.Boundary import DrainBoundary, GeneralHeadBoundary\n",
    "\n",
    "layers_list = [LayerId.new()]\n",
    "\n",
    "drain_east = DrainBoundary.from_geometry(\n",
    "  name=BoundaryName('drain_east'),\n",
    "  geometry=LineString([\n",
    "    (13.92499, 50.966),\n",
    "    (13.92499, 50.964),\n",
    "  ]),\n",
    "  grid=grid,\n",
    "  affected_layers=[model.layers[0].layer_id],\n",
    "  observations=[\n",
    "    DrainObservation(\n",
    "      observation_id=ObservationId.new(),\n",
    "      observation_name=ObservationName.default(),\n",
    "      geometry=Point((13.92499, 50.966)),\n",
    "      data=[\n",
    "        DrainRawDataItem(\n",
    "          date_time=StartDateTime.from_datetime(datetime(2019, 1, 1)),\n",
    "          stage=Stage.from_float(.75),\n",
    "          conductance=Conductance.from_float(100),\n",
    "        ),\n",
    "        DrainRawDataItem(\n",
    "          date_time=StartDateTime.from_datetime(datetime(2021, 12, 31)),\n",
    "          stage=Stage.from_float(.75),\n",
    "          conductance=Conductance.from_float(100),\n",
    "        ),\n",
    "      ]\n",
    "    ),\n",
    "    DrainObservation(\n",
    "      observation_id=ObservationId.new(),\n",
    "      observation_name=ObservationName.default(),\n",
    "      geometry=Point((13.92499, 50.964)),\n",
    "      data=[\n",
    "        DrainRawDataItem(\n",
    "          date_time=StartDateTime.from_datetime(datetime(2019, 1, 1)),\n",
    "          stage=Stage.from_float(.5),\n",
    "          conductance=Conductance.from_float(200),\n",
    "        ),\n",
    "        DrainRawDataItem(\n",
    "          date_time=StartDateTime.from_datetime(datetime(2021, 12, 31)),\n",
    "          stage=Stage.from_float(.5),\n",
    "          conductance=Conductance.from_float(200),\n",
    "        ),\n",
    "      ]\n",
    "    ),\n",
    "  ]\n",
    ")\n",
    "\n",
    "general_head_west = GeneralHeadBoundary.from_geometry(\n",
    "  name=BoundaryName('general_head_west'),\n",
    "  geometry=LineString([\n",
    "    (13.92004, 50.96401),\n",
    "    (13.92004, 50.96599),\n",
    "  ]),\n",
    "  grid=grid,\n",
    "  affected_layers=[model.layers[0].layer_id],\n",
    "  observations=[\n",
    "    GeneralHeadObservation(\n",
    "      observation_id=ObservationId.new(),\n",
    "      observation_name=ObservationName.default(),\n",
    "      geometry=Point((13.92004, 50.96599)),\n",
    "      data=[\n",
    "        GeneralHeadRawDataItem(\n",
    "          date_time=StartDateTime.from_datetime(datetime(2019, 1, 1)),\n",
    "          stage=Stage.from_float(1),\n",
    "          conductance=Conductance.from_float(300),\n",
    "        ),\n",
    "        GeneralHeadRawDataItem(\n",
    "          date_time=StartDateTime.from_datetime(datetime(2021, 12, 31)),\n",
    "          stage=Stage.from_float(1),\n",
    "          conductance=Conductance.from_float(300),\n",
    "        ),\n",
    "      ]\n",
    "    ),\n",
    "    GeneralHeadObservation(\n",
    "      observation_id=ObservationId.new(),\n",
    "      observation_name=ObservationName.default(),\n",
    "      geometry=Point((13.92004, 50.96401)),\n",
    "      data=[\n",
    "        GeneralHeadRawDataItem(\n",
    "          date_time=StartDateTime.from_datetime(datetime(2019, 1, 1)),\n",
    "          stage=Stage.from_float(1),\n",
    "          conductance=Conductance.from_float(400),\n",
    "        ),\n",
    "        GeneralHeadRawDataItem(\n",
    "          date_time=StartDateTime.from_datetime(datetime(2021, 12, 31)),\n",
    "          stage=Stage.from_float(1),\n",
    "          conductance=Conductance.from_float(400),\n",
    "        ),\n",
    "      ]\n",
    "    ),\n",
    "  ]\n",
    ")\n",
    "\n",
    "boundary_collection = BoundaryCollection.new()\n",
    "boundary_collection.add_boundary(general_head_west)\n",
    "boundary_collection.add_boundary(drain_east)\n",
    "\n",
    "model = model.with_updated_boundaries(boundaries=boundary_collection)\n",
    "\n",
    "m.add_child(folium.GeoJson(drain_east.as_geojson()))\n",
    "m.add_child(folium.GeoJson(drain_east.affected_cells.to_geojson(grid).as_geojson()))\n",
    "for observation in drain_east.observations:\n",
    "  m.add_child(folium.GeoJson(observation.as_geojson()))\n",
    "\n",
    "m.add_child(folium.GeoJson(general_head_west.as_geojson()))\n",
    "m.add_child(folium.GeoJson(general_head_west.affected_cells.to_geojson(grid).as_geojson()))\n",
    "for observation in general_head_west.observations:\n",
    "  m.add_child(folium.GeoJson(observation.as_geojson()))\n",
    "m.fit_bounds(m.get_bounds())\n",
    "m"
   ],
   "outputs": []
  },
  {
   "cell_type": "code",
   "execution_count": 7,
   "id": "25b4324c4d166cd7",
   "metadata": {
    "ExecuteTime": {
     "end_time": "2024-05-14T08:10:13.734136Z",
     "start_time": "2024-05-14T08:10:13.730518Z"
    },
    "collapsed": false,
    "execution": {
     "iopub.execute_input": "2024-05-15T16:01:35.452162Z",
     "iopub.status.busy": "2024-05-15T16:01:35.452014Z",
     "iopub.status.idle": "2024-05-15T16:01:35.454175Z",
     "shell.execute_reply": "2024-05-15T16:01:35.453959Z"
    },
    "papermill": {
     "duration": 0.006435,
     "end_time": "2024-05-15T16:01:35.454967",
     "exception": false,
     "start_time": "2024-05-15T16:01:35.448532",
     "status": "completed"
    },
    "tags": []
   },
   "source": [
    "drain_east.observations"
   ],
   "outputs": []
  },
  {
   "cell_type": "code",
   "execution_count": 8,
   "id": "dc338472e1887a13",
   "metadata": {
    "ExecuteTime": {
     "end_time": "2024-05-14T08:10:14.449359Z",
     "start_time": "2024-05-14T08:10:13.736170Z"
    },
    "collapsed": false,
    "execution": {
     "iopub.execute_input": "2024-05-15T16:01:35.460511Z",
     "iopub.status.busy": "2024-05-15T16:01:35.460396Z",
     "iopub.status.idle": "2024-05-15T16:01:35.895248Z",
     "shell.execute_reply": "2024-05-15T16:01:35.894917Z"
    },
    "papermill": {
     "duration": 0.438868,
     "end_time": "2024-05-15T16:01:35.896380",
     "exception": false,
     "start_time": "2024-05-15T16:01:35.457512",
     "status": "completed"
    },
    "tags": []
   },
   "source": [
    "from morpheus.project.infrastructure.calculation.engines.modflow_2005.packages.GhbPackageMapper import \\\n",
    "  calculate_ghb_boundary_stress_period_data\n",
    "\n",
    "result = calculate_ghb_boundary_stress_period_data(\n",
    "  spatial_discretization=spatial_discretization,\n",
    "  time_discretization=time_discretization,\n",
    "  layers=model.layers,\n",
    "  ghb_boundary=general_head_west,\n",
    ")\n",
    "result.to_dict()"
   ],
   "outputs": []
  },
  {
   "cell_type": "code",
   "execution_count": 9,
   "id": "e7d13f116125151c",
   "metadata": {
    "ExecuteTime": {
     "end_time": "2024-05-14T08:10:14.601918Z",
     "start_time": "2024-05-14T08:10:14.450196Z"
    },
    "collapsed": false,
    "execution": {
     "iopub.execute_input": "2024-05-15T16:01:35.903750Z",
     "iopub.status.busy": "2024-05-15T16:01:35.903484Z",
     "iopub.status.idle": "2024-05-15T16:01:36.037644Z",
     "shell.execute_reply": "2024-05-15T16:01:36.037394Z"
    },
    "papermill": {
     "duration": 0.138967,
     "end_time": "2024-05-15T16:01:36.038553",
     "exception": false,
     "start_time": "2024-05-15T16:01:35.899586",
     "status": "completed"
    },
    "tags": []
   },
   "source": [
    "from morpheus.project.infrastructure.calculation.engines.modflow_2005.packages.DrnPackageMapper import \\\n",
    "  calculate_drn_boundary_stress_period_data\n",
    "\n",
    "result = calculate_drn_boundary_stress_period_data(\n",
    "  spatial_discretization=spatial_discretization,\n",
    "  time_discretization=time_discretization,\n",
    "  layers=model.layers,\n",
    "  drn_boundary=drain_east,\n",
    ")\n",
    "result.to_dict()"
   ],
   "outputs": []
  },
  {
   "cell_type": "markdown",
   "id": "42d948d145a8457a",
   "metadata": {
    "collapsed": false,
    "papermill": {
     "duration": 0.002671,
     "end_time": "2024-05-15T16:01:36.044400",
     "exception": false,
     "start_time": "2024-05-15T16:01:36.041729",
     "status": "completed"
    },
    "tags": []
   },
   "source": [
    "## Calculate"
   ]
  },
  {
   "cell_type": "code",
   "execution_count": 10,
   "id": "56ccabee86e2397e",
   "metadata": {
    "ExecuteTime": {
     "end_time": "2024-05-14T08:10:14.617657Z",
     "start_time": "2024-05-14T08:10:14.602697Z"
    },
    "collapsed": false,
    "execution": {
     "iopub.execute_input": "2024-05-15T16:01:36.049987Z",
     "iopub.status.busy": "2024-05-15T16:01:36.049877Z",
     "iopub.status.idle": "2024-05-15T16:01:36.061348Z",
     "shell.execute_reply": "2024-05-15T16:01:36.061088Z"
    },
    "papermill": {
     "duration": 0.015461,
     "end_time": "2024-05-15T16:01:36.062346",
     "exception": false,
     "start_time": "2024-05-15T16:01:36.046885",
     "status": "completed"
    },
    "tags": []
   },
   "source": [
    "from morpheus.project.types.calculation.CalculationProfile import CalculationProfile, CalculationEngineType\n",
    "from morpheus.project.types.calculation.Calculation import Calculation\n",
    "\n",
    "calculation_profile = CalculationProfile.new(CalculationEngineType.MF2005)\n",
    "calculation = Calculation.new(model=model, calculation_profile=calculation_profile)"
   ],
   "outputs": []
  },
  {
   "cell_type": "code",
   "execution_count": 11,
   "id": "e09d94e0a94315cb",
   "metadata": {
    "ExecuteTime": {
     "end_time": "2024-05-14T08:10:14.624309Z",
     "start_time": "2024-05-14T08:10:14.618273Z"
    },
    "collapsed": false,
    "execution": {
     "iopub.execute_input": "2024-05-15T16:01:36.068602Z",
     "iopub.status.busy": "2024-05-15T16:01:36.068471Z",
     "iopub.status.idle": "2024-05-15T16:01:36.073971Z",
     "shell.execute_reply": "2024-05-15T16:01:36.073736Z"
    },
    "papermill": {
     "duration": 0.009564,
     "end_time": "2024-05-15T16:01:36.074798",
     "exception": false,
     "start_time": "2024-05-15T16:01:36.065234",
     "status": "completed"
    },
    "tags": []
   },
   "source": [
    "calculation = Calculation.from_dict(calculation.to_dict())\n",
    "calculation.calculation_id"
   ],
   "outputs": []
  },
  {
   "cell_type": "code",
   "execution_count": 12,
   "id": "672007fb90753c4c",
   "metadata": {
    "ExecuteTime": {
     "end_time": "2024-05-14T08:10:15.631389Z",
     "start_time": "2024-05-14T08:10:14.625427Z"
    },
    "collapsed": false,
    "execution": {
     "iopub.execute_input": "2024-05-15T16:01:36.080898Z",
     "iopub.status.busy": "2024-05-15T16:01:36.080787Z",
     "iopub.status.idle": "2024-05-15T16:01:36.768303Z",
     "shell.execute_reply": "2024-05-15T16:01:36.767976Z"
    },
    "papermill": {
     "duration": 0.69182,
     "end_time": "2024-05-15T16:01:36.769492",
     "exception": false,
     "start_time": "2024-05-15T16:01:36.077672",
     "status": "completed"
    },
    "tags": []
   },
   "source": [
    "from morpheus.project.infrastructure.calculation.services.CalculationService import CalculationService\n",
    "\n",
    "calculation_service = CalculationService.from_calculation(calculation)\n",
    "calculation_service.calculate()"
   ],
   "outputs": []
  },
  {
   "cell_type": "code",
   "execution_count": 13,
   "id": "a52d1dd3a1574032",
   "metadata": {
    "ExecuteTime": {
     "end_time": "2024-05-14T08:10:15.643237Z",
     "start_time": "2024-05-14T08:10:15.638224Z"
    },
    "collapsed": false,
    "execution": {
     "iopub.execute_input": "2024-05-15T16:01:36.777464Z",
     "iopub.status.busy": "2024-05-15T16:01:36.777084Z",
     "iopub.status.idle": "2024-05-15T16:01:36.779778Z",
     "shell.execute_reply": "2024-05-15T16:01:36.779562Z"
    },
    "papermill": {
     "duration": 0.007364,
     "end_time": "2024-05-15T16:01:36.780557",
     "exception": false,
     "start_time": "2024-05-15T16:01:36.773193",
     "status": "completed"
    },
    "tags": []
   },
   "source": [
    "calculation_service.get_result()"
   ],
   "outputs": []
  },
  {
   "cell_type": "code",
   "execution_count": 14,
   "id": "cc43ad077c7a81d0",
   "metadata": {
    "ExecuteTime": {
     "end_time": "2024-05-14T08:10:15.647079Z",
     "start_time": "2024-05-14T08:10:15.643913Z"
    },
    "collapsed": false,
    "execution": {
     "iopub.execute_input": "2024-05-15T16:01:36.788372Z",
     "iopub.status.busy": "2024-05-15T16:01:36.788150Z",
     "iopub.status.idle": "2024-05-15T16:01:36.790682Z",
     "shell.execute_reply": "2024-05-15T16:01:36.790411Z"
    },
    "papermill": {
     "duration": 0.007427,
     "end_time": "2024-05-15T16:01:36.791462",
     "exception": false,
     "start_time": "2024-05-15T16:01:36.784035",
     "status": "completed"
    },
    "tags": []
   },
   "source": [
    "head = calculation_service.read_head(0, 0)"
   ],
   "outputs": []
  },
  {
   "cell_type": "code",
   "execution_count": 15,
   "id": "12454cc4d9e18de5",
   "metadata": {
    "ExecuteTime": {
     "end_time": "2024-05-14T08:10:15.654783Z",
     "start_time": "2024-05-14T08:10:15.647751Z"
    },
    "collapsed": false,
    "execution": {
     "iopub.execute_input": "2024-05-15T16:01:36.799057Z",
     "iopub.status.busy": "2024-05-15T16:01:36.798934Z",
     "iopub.status.idle": "2024-05-15T16:01:36.804361Z",
     "shell.execute_reply": "2024-05-15T16:01:36.804081Z"
    },
    "papermill": {
     "duration": 0.01022,
     "end_time": "2024-05-15T16:01:36.805232",
     "exception": false,
     "start_time": "2024-05-15T16:01:36.795012",
     "status": "completed"
    },
    "tags": []
   },
   "source": [
    "import simplejson as json\n",
    "\n",
    "json = json.dumps(head, ignore_nan=True)\n",
    "json"
   ],
   "outputs": []
  },
  {
   "cell_type": "code",
   "execution_count": 16,
   "id": "df7dfd8ff0308815",
   "metadata": {
    "ExecuteTime": {
     "end_time": "2024-05-14T08:10:15.657743Z",
     "start_time": "2024-05-14T08:10:15.655489Z"
    },
    "collapsed": false,
    "execution": {
     "iopub.execute_input": "2024-05-15T16:01:36.813383Z",
     "iopub.status.busy": "2024-05-15T16:01:36.813259Z",
     "iopub.status.idle": "2024-05-15T16:01:36.815534Z",
     "shell.execute_reply": "2024-05-15T16:01:36.815275Z"
    },
    "papermill": {
     "duration": 0.007213,
     "end_time": "2024-05-15T16:01:36.816295",
     "exception": false,
     "start_time": "2024-05-15T16:01:36.809082",
     "status": "completed"
    },
    "tags": []
   },
   "source": [
    "calculation_service.read_drawdown(0, 0)"
   ],
   "outputs": []
  },
  {
   "cell_type": "code",
   "execution_count": 17,
   "id": "b233f4066b56c174",
   "metadata": {
    "ExecuteTime": {
     "end_time": "2024-05-14T08:10:15.664274Z",
     "start_time": "2024-05-14T08:10:15.658218Z"
    },
    "collapsed": false,
    "execution": {
     "iopub.execute_input": "2024-05-15T16:01:36.824309Z",
     "iopub.status.busy": "2024-05-15T16:01:36.824188Z",
     "iopub.status.idle": "2024-05-15T16:01:36.827808Z",
     "shell.execute_reply": "2024-05-15T16:01:36.827585Z"
    },
    "papermill": {
     "duration": 0.008512,
     "end_time": "2024-05-15T16:01:36.828596",
     "exception": false,
     "start_time": "2024-05-15T16:01:36.820084",
     "status": "completed"
    },
    "tags": []
   },
   "source": [
    "calculation_service.read_budget(0, False)"
   ],
   "outputs": []
  },
  {
   "cell_type": "code",
   "execution_count": 18,
   "id": "634709d741f5c252",
   "metadata": {
    "ExecuteTime": {
     "end_time": "2024-05-14T08:10:15.701763Z",
     "start_time": "2024-05-14T08:10:15.667863Z"
    },
    "collapsed": false,
    "execution": {
     "iopub.execute_input": "2024-05-15T16:01:36.836919Z",
     "iopub.status.busy": "2024-05-15T16:01:36.836794Z",
     "iopub.status.idle": "2024-05-15T16:01:36.840255Z",
     "shell.execute_reply": "2024-05-15T16:01:36.840024Z"
    },
    "papermill": {
     "duration": 0.008543,
     "end_time": "2024-05-15T16:01:36.841026",
     "exception": false,
     "start_time": "2024-05-15T16:01:36.832483",
     "status": "completed"
    },
    "tags": []
   },
   "source": [
    "calculation_service.read_budget(0, True)"
   ],
   "outputs": []
  },
  {
   "cell_type": "code",
   "execution_count": 19,
   "id": "26523066436690e6",
   "metadata": {
    "ExecuteTime": {
     "end_time": "2024-05-14T08:10:15.725441Z",
     "start_time": "2024-05-14T08:10:15.706538Z"
    },
    "collapsed": false,
    "execution": {
     "iopub.execute_input": "2024-05-15T16:01:36.849398Z",
     "iopub.status.busy": "2024-05-15T16:01:36.849255Z",
     "iopub.status.idle": "2024-05-15T16:01:36.851469Z",
     "shell.execute_reply": "2024-05-15T16:01:36.851240Z"
    },
    "papermill": {
     "duration": 0.007393,
     "end_time": "2024-05-15T16:01:36.852288",
     "exception": false,
     "start_time": "2024-05-15T16:01:36.844895",
     "status": "completed"
    },
    "tags": []
   },
   "source": [
    "calculation_service.get_result()"
   ],
   "outputs": []
  },
  {
   "cell_type": "code",
   "execution_count": 20,
   "id": "160abd7d290c83f7",
   "metadata": {
    "ExecuteTime": {
     "end_time": "2024-05-14T08:10:15.949480Z",
     "start_time": "2024-05-14T08:10:15.732647Z"
    },
    "collapsed": false,
    "execution": {
     "iopub.execute_input": "2024-05-15T16:01:36.860651Z",
     "iopub.status.busy": "2024-05-15T16:01:36.860516Z",
     "iopub.status.idle": "2024-05-15T16:01:36.951675Z",
     "shell.execute_reply": "2024-05-15T16:01:36.950702Z"
    },
    "papermill": {
     "duration": 0.097763,
     "end_time": "2024-05-15T16:01:36.954002",
     "exception": false,
     "start_time": "2024-05-15T16:01:36.856239",
     "status": "completed"
    },
    "tags": []
   },
   "source": [
    "import matplotlib.pyplot as plt\n",
    "\n",
    "heads = calculation_service.read_head(0, 0)\n",
    "plt.subplot(2, 1, 1)\n",
    "plt.imshow(heads, cmap='jet_r')\n",
    "plt.colorbar()\n",
    "plt.show()"
   ],
   "outputs": []
  }
 ],
 "metadata": {
  "kernelspec": {
   "display_name": "Python 3",
   "language": "python",
   "name": "python3"
  },
  "language_info": {
   "codemirror_mode": {
    "name": "ipython",
    "version": 3
   },
   "file_extension": ".py",
   "mimetype": "text/x-python",
   "name": "python",
   "nbconvert_exporter": "python",
   "pygments_lexer": "ipython3",
   "version": "3.12.2"
  },
  "papermill": {
   "default_parameters": {},
   "duration": 5.131002,
   "end_time": "2024-05-15T16:01:37.892449",
   "environment_variables": {},
   "exception": null,
   "input_path": "./notebooks/Test_DrainBoundary.ipynb",
   "output_path": "./notebooks/Test_DrainBoundary.ipynb",
   "parameters": {},
   "start_time": "2024-05-15T16:01:32.761447",
   "version": "2.6.0"
  }
 },
 "nbformat": 4,
 "nbformat_minor": 5
}
