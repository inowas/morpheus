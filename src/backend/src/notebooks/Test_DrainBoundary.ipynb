{
 "cells": [
  {
   "cell_type": "code",
   "execution_count": 1,
   "id": "ba6761fae9d5e5cb",
   "metadata": {
    "ExecuteTime": {
     "end_time": "2024-08-18T21:16:24.970762Z",
     "start_time": "2024-08-18T21:16:24.967108Z"
    },
    "collapsed": false,
    "execution": {
     "iopub.execute_input": "2024-08-19T20:03:39.632378Z",
     "iopub.status.busy": "2024-08-19T20:03:39.631808Z",
     "iopub.status.idle": "2024-08-19T20:03:39.636753Z",
     "shell.execute_reply": "2024-08-19T20:03:39.636188Z"
    },
    "papermill": {
     "duration": 0.018376,
     "end_time": "2024-08-19T20:03:39.638772",
     "exception": false,
     "start_time": "2024-08-19T20:03:39.620396",
     "status": "completed"
    },
    "tags": []
   },
   "outputs": [],
   "source": [
    "import sys\n",
    "\n",
    "sys.path.insert(0, '..')"
   ]
  },
  {
   "cell_type": "markdown",
   "id": "5ede1ba5e0993dd1",
   "metadata": {
    "collapsed": false,
    "papermill": {
     "duration": 0.004499,
     "end_time": "2024-08-19T20:03:39.648586",
     "exception": false,
     "start_time": "2024-08-19T20:03:39.644087",
     "status": "completed"
    },
    "tags": []
   },
   "source": [
    "## Setup the model area"
   ]
  },
  {
   "cell_type": "code",
   "execution_count": 2,
   "id": "2f69504ab35487aa",
   "metadata": {
    "ExecuteTime": {
     "end_time": "2024-08-18T21:16:25.122251Z",
     "start_time": "2024-08-18T21:16:24.979380Z"
    },
    "collapsed": false,
    "execution": {
     "iopub.execute_input": "2024-08-19T20:03:39.657341Z",
     "iopub.status.busy": "2024-08-19T20:03:39.656925Z",
     "iopub.status.idle": "2024-08-19T20:03:39.809336Z",
     "shell.execute_reply": "2024-08-19T20:03:39.807826Z"
    },
    "papermill": {
     "duration": 0.160176,
     "end_time": "2024-08-19T20:03:39.812586",
     "exception": false,
     "start_time": "2024-08-19T20:03:39.652410",
     "status": "completed"
    },
    "tags": []
   },
   "outputs": [
    {
     "name": "stdout",
     "output_type": "stream",
     "text": [
      "[(0, 0)] [(99, 0)]\n",
      "[(0, 1)] [(99, 1)]\n",
      "[(0, 2)] [(99, 2)]\n",
      "[(0, 3)] [(99, 3)]\n",
      "[(0, 4)] [(99, 4)]\n",
      "[(0, 5)] [(99, 5)]\n",
      "[(0, 6)] [(99, 6)]\n",
      "[(0, 7)] [(99, 7)]\n",
      "[(0, 8)] [(99, 8)]\n",
      "[(0, 9)] [(99, 9)]\n",
      "[(0, 10)] [(99, 10)]\n",
      "[(0, 11)] [(99, 11)]\n",
      "[(0, 12)] [(99, 12)]\n",
      "[(0, 13)] [(99, 13)]\n",
      "[(0, 14)] [(99, 14)]\n",
      "[(0, 15)] [(99, 15)]\n",
      "[(0, 16)] [(99, 16)]\n",
      "[(0, 17)] [(99, 17)]\n",
      "[(0, 18)] [(99, 18)]\n",
      "[(0, 19)] [(99, 19)]\n",
      "[(0, 20)] [(99, 20)]\n",
      "[(0, 21)] [(99, 21)]\n",
      "[(0, 22)] [(99, 22)]\n",
      "[(0, 23)] [(99, 23)]\n",
      "[(0, 24)] [(99, 24)]\n",
      "[(0, 25)] [(99, 25)]\n",
      "[(0, 26)] [(99, 26)]\n",
      "[(0, 27)] [(99, 27)]\n",
      "[(0, 28)] [(99, 28)]\n",
      "[(0, 29)] [(99, 29)]\n",
      "[(0, 30)] [(99, 30)]\n",
      "[(0, 31)] [(99, 31)]\n",
      "[(0, 32)] [(99, 32)]\n",
      "[(0, 33)] [(99, 33)]\n",
      "[(0, 34)] [(99, 34)]\n",
      "[(0, 35)] [(99, 35)]\n",
      "[(0, 36)] [(99, 36)]\n",
      "[(0, 37)] [(99, 37)]\n",
      "[(0, 38)] [(99, 38)]\n",
      "[(0, 39)] [(99, 39)]\n",
      "[(0, 40)] [(99, 40)]\n",
      "[(0, 41)] [(99, 41)]\n",
      "[(0, 42)] [(99, 42)]\n",
      "[(0, 43)] [(99, 43)]\n",
      "[(0, 44)] [(99, 44)]\n",
      "[(0, 45)] [(99, 45)]\n",
      "[(0, 46)] [(99, 46)]\n",
      "[(0, 47)] [(99, 47)]\n",
      "[(0, 48)] [(99, 48)]\n",
      "[(0, 49)] [(99, 49)]\n"
     ]
    },
    {
     "data": {
      "text/plain": [
       "Grid(origin=Point(coordinates=(13.920000000000002, 50.965999999999994), type='Point'), col_widths=[5.565974539662712, 5.565974539662712, 5.565974539662712, 5.565974539662712, 5.565974539662712, 5.565974539662712, 5.565974539662712, 5.565974539662712, 5.5659745396627045, 5.565974539662719, 5.565974539662712, 5.565974539662712, 5.5659745396627045, 5.565974539662719, 5.5659745396627045, 5.565974539662719, 5.565974539662719, 5.56597453966269, 5.565974539662719, 5.565974539662719, 5.5659745396627045, 5.565974539662719, 5.565974539662719, 5.5659745396627045, 5.5659745396627045, 5.5659745396627045, 5.565974539662733, 5.5659745396627045, 5.5659745396627045, 5.5659745396627045, 5.5659745396627045, 5.565974539662733, 5.5659745396627045, 5.565974539662733, 5.565974539662676, 5.5659745396627045, 5.565974539662733, 5.5659745396627045, 5.565974539662733, 5.5659745396627045, 5.565974539662676, 5.565974539662733, 5.5659745396627045, 5.565974539662733, 5.5659745396627045, 5.565974539662733, 5.565974539662648, 5.565974539662761, 5.5659745396627045, 5.5659745396627045, 5.5659745396627045, 5.5659745396627045, 5.565974539662761, 5.5659745396627045, 5.5659745396627045, 5.5659745396627045, 5.565974539662648, 5.565974539662761, 5.5659745396627045, 5.5659745396627045, 5.5659745396627045, 5.5659745396627045, 5.565974539662761, 5.5659745396627045, 5.5659745396627045, 5.5659745396627045, 5.5659745396627045, 5.565974539662761, 5.565974539662648, 5.5659745396627045, 5.5659745396627045, 5.5659745396627045, 5.565974539662761, 5.5659745396627045, 5.5659745396627045, 5.5659745396627045, 5.5659745396627045, 5.565974539662761, 5.5659745396627045, 5.5659745396627045, 5.5659745396627045, 5.565974539662648, 5.565974539662761, 5.5659745396627045, 5.5659745396627045, 5.5659745396627045, 5.5659745396627045, 5.565974539662761, 5.5659745396627045, 5.5659745396627045, 5.5659745396627045, 5.565974539662761, 5.565974539662648, 5.565974539662648, 5.565974539662761, 5.565974539662761, 5.565974539662648, 5.565974539662761, 5.565974539662648, 5.565974539662761], total_width=556.5974539662711, row_heights=[7.07020474422723, 7.07020474422723, 7.070204744227231, 7.0702047442272296, 7.0702047442272296, 7.070204744227233, 7.070204744227233, 7.070204744227226, 7.070204744227226, 7.070204744227233, 7.07020474422724, 7.070204744227226, 7.070204744227226, 7.07020474422724, 7.070204744227226, 7.070204744227226, 7.07020474422724, 7.070204744227212, 7.07020474422724, 7.070204744227226, 7.070204744227226, 7.070204744227254, 7.070204744227226, 7.070204744227226, 7.070204744227226, 7.070204744227226, 7.070204744227254, 7.070204744227226, 7.070204744227198, 7.070204744227254, 7.070204744227226, 7.070204744227226, 7.070204744227254, 7.070204744227226, 7.070204744227198, 7.070204744227226, 7.070204744227254, 7.070204744227226, 7.070204744227226, 7.070204744227226, 7.070204744227226, 7.070204744227226, 7.070204744227226, 7.070204744227283, 7.070204744227226, 7.070204744227226, 7.070204744227169, 7.070204744227283, 7.070204744227226, 7.070204744227226], total_height=353.5102372113615, rotation=Rotation(value=0), length_unit=LengthUnit(unit=2))"
      ]
     },
     "execution_count": 2,
     "metadata": {},
     "output_type": "execute_result"
    }
   ],
   "source": [
    "from morpheus.project.types.discretization import SpatialDiscretization\n",
    "from morpheus.project.types.discretization.spatial import Rotation, Grid, Crs\n",
    "from morpheus.project.types.geometry import Polygon, LineString\n",
    "\n",
    "polygon = Polygon(\n",
    "  type='Polygon',\n",
    "  coordinates=[[\n",
    "    (13.92, 50.964),\n",
    "    (13.92, 50.966),\n",
    "    (13.925, 50.966),\n",
    "    (13.925, 50.964),\n",
    "    (13.92, 50.964)\n",
    "  ]]\n",
    ")\n",
    "\n",
    "rotation = Rotation(0)\n",
    "\n",
    "grid = Grid.cartesian_from_polygon(polygon=polygon, n_cols=100, n_rows=50, rotation=rotation)\n",
    "spatial_discretization = SpatialDiscretization.from_geometry_with_grid(\n",
    "  geometry=polygon,\n",
    "  grid=grid,\n",
    "  crs=Crs.from_str('EPSG:4326')\n",
    ")\n",
    "grid"
   ]
  },
  {
   "cell_type": "markdown",
   "id": "fa27e67f9d801845",
   "metadata": {
    "collapsed": false,
    "papermill": {
     "duration": 0.005548,
     "end_time": "2024-08-19T20:03:39.825025",
     "exception": false,
     "start_time": "2024-08-19T20:03:39.819477",
     "status": "completed"
    },
    "tags": []
   },
   "source": [
    "## Setup Time Discretization"
   ]
  },
  {
   "cell_type": "code",
   "execution_count": 3,
   "id": "8e4e63dd138db9fc",
   "metadata": {
    "ExecuteTime": {
     "end_time": "2024-08-18T21:16:25.299407Z",
     "start_time": "2024-08-18T21:16:25.295227Z"
    },
    "collapsed": false,
    "execution": {
     "iopub.execute_input": "2024-08-19T20:03:39.844075Z",
     "iopub.status.busy": "2024-08-19T20:03:39.843701Z",
     "iopub.status.idle": "2024-08-19T20:03:39.849303Z",
     "shell.execute_reply": "2024-08-19T20:03:39.848534Z"
    },
    "papermill": {
     "duration": 0.02162,
     "end_time": "2024-08-19T20:03:39.853047",
     "exception": false,
     "start_time": "2024-08-19T20:03:39.831427",
     "status": "completed"
    },
    "tags": []
   },
   "outputs": [],
   "source": [
    "from morpheus.project.types.discretization.time.TimeUnit import TimeUnit\n",
    "from morpheus.project.types.discretization.time.Stressperiods import StartDateTime, StressPeriodCollection, \\\n",
    "  StressPeriod, NumberOfTimeSteps, TimeStepMultiplier, IsSteadyState\n",
    "from morpheus.project.types.discretization.time import TimeDiscretization\n",
    "from datetime import datetime\n",
    "\n",
    "time_discretization = TimeDiscretization(\n",
    "  start_date_time=StartDateTime.from_datetime(datetime(2020, 1, 1)),\n",
    "  end_date_time=StartDateTime.from_datetime(datetime(2020, 12, 31)),\n",
    "  stress_periods=StressPeriodCollection([\n",
    "    StressPeriod(\n",
    "      start_date_time=StartDateTime.from_datetime(datetime(2020, 1, 1)),\n",
    "      number_of_time_steps=NumberOfTimeSteps(1),\n",
    "      time_step_multiplier=TimeStepMultiplier(1),\n",
    "      steady_state=IsSteadyState.yes()\n",
    "    ),\n",
    "  ]),\n",
    "  time_unit=TimeUnit.days()\n",
    ")"
   ]
  },
  {
   "cell_type": "markdown",
   "id": "963ba8729f09fcec",
   "metadata": {
    "collapsed": false,
    "papermill": {
     "duration": 0.004769,
     "end_time": "2024-08-19T20:03:39.864137",
     "exception": false,
     "start_time": "2024-08-19T20:03:39.859368",
     "status": "completed"
    },
    "tags": []
   },
   "source": [
    "# Setup Model"
   ]
  },
  {
   "cell_type": "code",
   "execution_count": 4,
   "id": "1d5c9125b1b9360b",
   "metadata": {
    "ExecuteTime": {
     "end_time": "2024-08-18T21:16:25.631385Z",
     "start_time": "2024-08-18T21:16:25.306414Z"
    },
    "collapsed": false,
    "execution": {
     "iopub.execute_input": "2024-08-19T20:03:39.876528Z",
     "iopub.status.busy": "2024-08-19T20:03:39.876186Z",
     "iopub.status.idle": "2024-08-19T20:03:40.279486Z",
     "shell.execute_reply": "2024-08-19T20:03:40.279137Z"
    },
    "papermill": {
     "duration": 0.410329,
     "end_time": "2024-08-19T20:03:40.280552",
     "exception": false,
     "start_time": "2024-08-19T20:03:39.870223",
     "status": "completed"
    },
    "tags": []
   },
   "outputs": [],
   "source": [
    "from morpheus.project.types.Model import Model\n",
    "\n",
    "model = Model.new()\n",
    "model = model.with_updated_time_discretization(time_discretization)\n",
    "model = model.with_updated_spatial_discretization(spatial_discretization=spatial_discretization)"
   ]
  },
  {
   "cell_type": "code",
   "execution_count": 5,
   "id": "1540b870ae83f298",
   "metadata": {
    "ExecuteTime": {
     "end_time": "2024-08-18T21:16:25.766632Z",
     "start_time": "2024-08-18T21:16:25.640255Z"
    },
    "collapsed": false,
    "execution": {
     "iopub.execute_input": "2024-08-19T20:03:40.285716Z",
     "iopub.status.busy": "2024-08-19T20:03:40.285501Z",
     "iopub.status.idle": "2024-08-19T20:03:40.414840Z",
     "shell.execute_reply": "2024-08-19T20:03:40.414575Z"
    },
    "papermill": {
     "duration": 0.13279,
     "end_time": "2024-08-19T20:03:40.415679",
     "exception": false,
     "start_time": "2024-08-19T20:03:40.282889",
     "status": "completed"
    },
    "tags": []
   },
   "outputs": [
    {
     "data": {
      "text/html": [
       "<div style=\"width:100%;\"><div style=\"position:relative;width:100%;height:0;padding-bottom:60%;\"><span style=\"color:#565656\">Make this Notebook Trusted to load map: File -> Trust Notebook</span><iframe srcdoc=\"&lt;!DOCTYPE html&gt;\n",
       "&lt;html&gt;\n",
       "&lt;head&gt;\n",
       "    \n",
       "    &lt;meta http-equiv=&quot;content-type&quot; content=&quot;text/html; charset=UTF-8&quot; /&gt;\n",
       "    \n",
       "        &lt;script&gt;\n",
       "            L_NO_TOUCH = false;\n",
       "            L_DISABLE_3D = false;\n",
       "        &lt;/script&gt;\n",
       "    \n",
       "    &lt;style&gt;html, body {width: 100%;height: 100%;margin: 0;padding: 0;}&lt;/style&gt;\n",
       "    &lt;style&gt;#map {position:absolute;top:0;bottom:0;right:0;left:0;}&lt;/style&gt;\n",
       "    &lt;script src=&quot;https://cdn.jsdelivr.net/npm/leaflet@1.9.3/dist/leaflet.js&quot;&gt;&lt;/script&gt;\n",
       "    &lt;script src=&quot;https://code.jquery.com/jquery-3.7.1.min.js&quot;&gt;&lt;/script&gt;\n",
       "    &lt;script src=&quot;https://cdn.jsdelivr.net/npm/bootstrap@5.2.2/dist/js/bootstrap.bundle.min.js&quot;&gt;&lt;/script&gt;\n",
       "    &lt;script src=&quot;https://cdnjs.cloudflare.com/ajax/libs/Leaflet.awesome-markers/2.0.2/leaflet.awesome-markers.js&quot;&gt;&lt;/script&gt;\n",
       "    &lt;link rel=&quot;stylesheet&quot; href=&quot;https://cdn.jsdelivr.net/npm/leaflet@1.9.3/dist/leaflet.css&quot;/&gt;\n",
       "    &lt;link rel=&quot;stylesheet&quot; href=&quot;https://cdn.jsdelivr.net/npm/bootstrap@5.2.2/dist/css/bootstrap.min.css&quot;/&gt;\n",
       "    &lt;link rel=&quot;stylesheet&quot; href=&quot;https://netdna.bootstrapcdn.com/bootstrap/3.0.0/css/bootstrap.min.css&quot;/&gt;\n",
       "    &lt;link rel=&quot;stylesheet&quot; href=&quot;https://cdn.jsdelivr.net/npm/@fortawesome/fontawesome-free@6.2.0/css/all.min.css&quot;/&gt;\n",
       "    &lt;link rel=&quot;stylesheet&quot; href=&quot;https://cdnjs.cloudflare.com/ajax/libs/Leaflet.awesome-markers/2.0.2/leaflet.awesome-markers.css&quot;/&gt;\n",
       "    &lt;link rel=&quot;stylesheet&quot; href=&quot;https://cdn.jsdelivr.net/gh/python-visualization/folium/folium/templates/leaflet.awesome.rotate.min.css&quot;/&gt;\n",
       "    \n",
       "            &lt;meta name=&quot;viewport&quot; content=&quot;width=device-width,\n",
       "                initial-scale=1.0, maximum-scale=1.0, user-scalable=no&quot; /&gt;\n",
       "            &lt;style&gt;\n",
       "                #map_1b256aa7aea68935ad9685c71af18cec {\n",
       "                    position: relative;\n",
       "                    width: 100.0%;\n",
       "                    height: 100.0%;\n",
       "                    left: 0.0%;\n",
       "                    top: 0.0%;\n",
       "                }\n",
       "                .leaflet-container { font-size: 1rem; }\n",
       "            &lt;/style&gt;\n",
       "        \n",
       "&lt;/head&gt;\n",
       "&lt;body&gt;\n",
       "    \n",
       "    \n",
       "            &lt;div class=&quot;folium-map&quot; id=&quot;map_1b256aa7aea68935ad9685c71af18cec&quot; &gt;&lt;/div&gt;\n",
       "        \n",
       "&lt;/body&gt;\n",
       "&lt;script&gt;\n",
       "    \n",
       "    \n",
       "            var map_1b256aa7aea68935ad9685c71af18cec = L.map(\n",
       "                &quot;map_1b256aa7aea68935ad9685c71af18cec&quot;,\n",
       "                {\n",
       "                    center: [50.965, 13.922],\n",
       "                    crs: L.CRS.EPSG3857,\n",
       "                    zoom: 12,\n",
       "                    zoomControl: true,\n",
       "                    preferCanvas: false,\n",
       "                }\n",
       "            );\n",
       "\n",
       "            \n",
       "\n",
       "        \n",
       "    \n",
       "            var tile_layer_10ed7b76a0e67886a3842eec59eb80b0 = L.tileLayer(\n",
       "                &quot;https://{s}.basemaps.cartocdn.com/light_all/{z}/{x}/{y}{r}.png&quot;,\n",
       "                {&quot;attribution&quot;: &quot;\\u0026copy; \\u003ca href=\\&quot;https://www.openstreetmap.org/copyright\\&quot;\\u003eOpenStreetMap\\u003c/a\\u003e contributors \\u0026copy; \\u003ca href=\\&quot;https://carto.com/attributions\\&quot;\\u003eCARTO\\u003c/a\\u003e&quot;, &quot;detectRetina&quot;: false, &quot;maxNativeZoom&quot;: 20, &quot;maxZoom&quot;: 20, &quot;minZoom&quot;: 0, &quot;noWrap&quot;: false, &quot;opacity&quot;: 1, &quot;subdomains&quot;: &quot;abcd&quot;, &quot;tms&quot;: false}\n",
       "            );\n",
       "        \n",
       "    \n",
       "            tile_layer_10ed7b76a0e67886a3842eec59eb80b0.addTo(map_1b256aa7aea68935ad9685c71af18cec);\n",
       "        \n",
       "    \n",
       "\n",
       "        function geo_json_89446045c167f31d63ebda0afe30424f_onEachFeature(feature, layer) {\n",
       "            layer.on({\n",
       "            });\n",
       "        };\n",
       "        var geo_json_89446045c167f31d63ebda0afe30424f = L.geoJson(null, {\n",
       "                onEachFeature: geo_json_89446045c167f31d63ebda0afe30424f_onEachFeature,\n",
       "            \n",
       "        });\n",
       "\n",
       "        function geo_json_89446045c167f31d63ebda0afe30424f_add (data) {\n",
       "            geo_json_89446045c167f31d63ebda0afe30424f\n",
       "                .addData(data);\n",
       "        }\n",
       "            geo_json_89446045c167f31d63ebda0afe30424f_add({&quot;coordinates&quot;: [[[13.92, 50.964], [13.92, 50.966], [13.925, 50.966], [13.925, 50.964], [13.92, 50.964]]], &quot;type&quot;: &quot;Polygon&quot;});\n",
       "\n",
       "        \n",
       "    \n",
       "            geo_json_89446045c167f31d63ebda0afe30424f.addTo(map_1b256aa7aea68935ad9685c71af18cec);\n",
       "        \n",
       "    \n",
       "            map_1b256aa7aea68935ad9685c71af18cec.fitBounds(\n",
       "                [[50.964, 13.92], [50.966, 13.925]],\n",
       "                {}\n",
       "            );\n",
       "        \n",
       "&lt;/script&gt;\n",
       "&lt;/html&gt;\" style=\"position:absolute;width:100%;height:100%;left:0;top:0;border:none !important;\" allowfullscreen webkitallowfullscreen mozallowfullscreen></iframe></div></div>"
      ],
      "text/plain": [
       "<folium.folium.Map at 0x154a2fef0>"
      ]
     },
     "execution_count": 5,
     "metadata": {},
     "output_type": "execute_result"
    }
   ],
   "source": [
    "import folium\n",
    "\n",
    "m = folium.Map(tiles=\"cartodbpositron\", crs=\"EPSG3857\", zoom_start=12, location=[50.965, 13.922])\n",
    "m.add_child(folium.GeoJson(polygon.as_geojson()))\n",
    "\n",
    "m.fit_bounds(m.get_bounds())\n",
    "m"
   ]
  },
  {
   "cell_type": "markdown",
   "id": "62ae3587df801000",
   "metadata": {
    "collapsed": false,
    "papermill": {
     "duration": 0.002103,
     "end_time": "2024-08-19T20:03:40.420137",
     "exception": false,
     "start_time": "2024-08-19T20:03:40.418034",
     "status": "completed"
    },
    "tags": []
   },
   "source": [
    "# Setup drain boundary with two observations"
   ]
  },
  {
   "cell_type": "code",
   "execution_count": 6,
   "id": "53679913aee28ce9",
   "metadata": {
    "ExecuteTime": {
     "end_time": "2024-08-18T21:16:26.644516Z",
     "start_time": "2024-08-18T21:16:25.773644Z"
    },
    "collapsed": false,
    "execution": {
     "iopub.execute_input": "2024-08-19T20:03:40.424953Z",
     "iopub.status.busy": "2024-08-19T20:03:40.424759Z",
     "iopub.status.idle": "2024-08-19T20:03:41.274563Z",
     "shell.execute_reply": "2024-08-19T20:03:41.274312Z"
    },
    "papermill": {
     "duration": 0.853304,
     "end_time": "2024-08-19T20:03:41.275455",
     "exception": false,
     "start_time": "2024-08-19T20:03:40.422151",
     "status": "completed"
    },
    "tags": []
   },
   "outputs": [
    {
     "data": {
      "text/html": [
       "<div style=\"width:100%;\"><div style=\"position:relative;width:100%;height:0;padding-bottom:60%;\"><span style=\"color:#565656\">Make this Notebook Trusted to load map: File -> Trust Notebook</span><iframe srcdoc=\"&lt;!DOCTYPE html&gt;\n",
       "&lt;html&gt;\n",
       "&lt;head&gt;\n",
       "    \n",
       "    &lt;meta http-equiv=&quot;content-type&quot; content=&quot;text/html; charset=UTF-8&quot; /&gt;\n",
       "    \n",
       "        &lt;script&gt;\n",
       "            L_NO_TOUCH = false;\n",
       "            L_DISABLE_3D = false;\n",
       "        &lt;/script&gt;\n",
       "    \n",
       "    &lt;style&gt;html, body {width: 100%;height: 100%;margin: 0;padding: 0;}&lt;/style&gt;\n",
       "    &lt;style&gt;#map {position:absolute;top:0;bottom:0;right:0;left:0;}&lt;/style&gt;\n",
       "    &lt;script src=&quot;https://cdn.jsdelivr.net/npm/leaflet@1.9.3/dist/leaflet.js&quot;&gt;&lt;/script&gt;\n",
       "    &lt;script src=&quot;https://code.jquery.com/jquery-3.7.1.min.js&quot;&gt;&lt;/script&gt;\n",
       "    &lt;script src=&quot;https://cdn.jsdelivr.net/npm/bootstrap@5.2.2/dist/js/bootstrap.bundle.min.js&quot;&gt;&lt;/script&gt;\n",
       "    &lt;script src=&quot;https://cdnjs.cloudflare.com/ajax/libs/Leaflet.awesome-markers/2.0.2/leaflet.awesome-markers.js&quot;&gt;&lt;/script&gt;\n",
       "    &lt;link rel=&quot;stylesheet&quot; href=&quot;https://cdn.jsdelivr.net/npm/leaflet@1.9.3/dist/leaflet.css&quot;/&gt;\n",
       "    &lt;link rel=&quot;stylesheet&quot; href=&quot;https://cdn.jsdelivr.net/npm/bootstrap@5.2.2/dist/css/bootstrap.min.css&quot;/&gt;\n",
       "    &lt;link rel=&quot;stylesheet&quot; href=&quot;https://netdna.bootstrapcdn.com/bootstrap/3.0.0/css/bootstrap.min.css&quot;/&gt;\n",
       "    &lt;link rel=&quot;stylesheet&quot; href=&quot;https://cdn.jsdelivr.net/npm/@fortawesome/fontawesome-free@6.2.0/css/all.min.css&quot;/&gt;\n",
       "    &lt;link rel=&quot;stylesheet&quot; href=&quot;https://cdnjs.cloudflare.com/ajax/libs/Leaflet.awesome-markers/2.0.2/leaflet.awesome-markers.css&quot;/&gt;\n",
       "    &lt;link rel=&quot;stylesheet&quot; href=&quot;https://cdn.jsdelivr.net/gh/python-visualization/folium/folium/templates/leaflet.awesome.rotate.min.css&quot;/&gt;\n",
       "    \n",
       "            &lt;meta name=&quot;viewport&quot; content=&quot;width=device-width,\n",
       "                initial-scale=1.0, maximum-scale=1.0, user-scalable=no&quot; /&gt;\n",
       "            &lt;style&gt;\n",
       "                #map_1b256aa7aea68935ad9685c71af18cec {\n",
       "                    position: relative;\n",
       "                    width: 100.0%;\n",
       "                    height: 100.0%;\n",
       "                    left: 0.0%;\n",
       "                    top: 0.0%;\n",
       "                }\n",
       "                .leaflet-container { font-size: 1rem; }\n",
       "            &lt;/style&gt;\n",
       "        \n",
       "&lt;/head&gt;\n",
       "&lt;body&gt;\n",
       "    \n",
       "    \n",
       "            &lt;div class=&quot;folium-map&quot; id=&quot;map_1b256aa7aea68935ad9685c71af18cec&quot; &gt;&lt;/div&gt;\n",
       "        \n",
       "&lt;/body&gt;\n",
       "&lt;script&gt;\n",
       "    \n",
       "    \n",
       "            var map_1b256aa7aea68935ad9685c71af18cec = L.map(\n",
       "                &quot;map_1b256aa7aea68935ad9685c71af18cec&quot;,\n",
       "                {\n",
       "                    center: [50.965, 13.922],\n",
       "                    crs: L.CRS.EPSG3857,\n",
       "                    zoom: 12,\n",
       "                    zoomControl: true,\n",
       "                    preferCanvas: false,\n",
       "                }\n",
       "            );\n",
       "\n",
       "            \n",
       "\n",
       "        \n",
       "    \n",
       "            var tile_layer_10ed7b76a0e67886a3842eec59eb80b0 = L.tileLayer(\n",
       "                &quot;https://{s}.basemaps.cartocdn.com/light_all/{z}/{x}/{y}{r}.png&quot;,\n",
       "                {&quot;attribution&quot;: &quot;\\u0026copy; \\u003ca href=\\&quot;https://www.openstreetmap.org/copyright\\&quot;\\u003eOpenStreetMap\\u003c/a\\u003e contributors \\u0026copy; \\u003ca href=\\&quot;https://carto.com/attributions\\&quot;\\u003eCARTO\\u003c/a\\u003e&quot;, &quot;detectRetina&quot;: false, &quot;maxNativeZoom&quot;: 20, &quot;maxZoom&quot;: 20, &quot;minZoom&quot;: 0, &quot;noWrap&quot;: false, &quot;opacity&quot;: 1, &quot;subdomains&quot;: &quot;abcd&quot;, &quot;tms&quot;: false}\n",
       "            );\n",
       "        \n",
       "    \n",
       "            tile_layer_10ed7b76a0e67886a3842eec59eb80b0.addTo(map_1b256aa7aea68935ad9685c71af18cec);\n",
       "        \n",
       "    \n",
       "\n",
       "        function geo_json_89446045c167f31d63ebda0afe30424f_onEachFeature(feature, layer) {\n",
       "            layer.on({\n",
       "            });\n",
       "        };\n",
       "        var geo_json_89446045c167f31d63ebda0afe30424f = L.geoJson(null, {\n",
       "                onEachFeature: geo_json_89446045c167f31d63ebda0afe30424f_onEachFeature,\n",
       "            \n",
       "        });\n",
       "\n",
       "        function geo_json_89446045c167f31d63ebda0afe30424f_add (data) {\n",
       "            geo_json_89446045c167f31d63ebda0afe30424f\n",
       "                .addData(data);\n",
       "        }\n",
       "            geo_json_89446045c167f31d63ebda0afe30424f_add({&quot;coordinates&quot;: [[[13.92, 50.964], [13.92, 50.966], [13.925, 50.966], [13.925, 50.964], [13.92, 50.964]]], &quot;type&quot;: &quot;Polygon&quot;});\n",
       "\n",
       "        \n",
       "    \n",
       "            geo_json_89446045c167f31d63ebda0afe30424f.addTo(map_1b256aa7aea68935ad9685c71af18cec);\n",
       "        \n",
       "    \n",
       "            map_1b256aa7aea68935ad9685c71af18cec.fitBounds(\n",
       "                [[50.964, 13.92], [50.966, 13.925]],\n",
       "                {}\n",
       "            );\n",
       "        \n",
       "    \n",
       "            tile_layer_10ed7b76a0e67886a3842eec59eb80b0.addTo(map_1b256aa7aea68935ad9685c71af18cec);\n",
       "        \n",
       "    \n",
       "            geo_json_89446045c167f31d63ebda0afe30424f.addTo(map_1b256aa7aea68935ad9685c71af18cec);\n",
       "        \n",
       "    \n",
       "\n",
       "        function geo_json_b281f3c70655e5ba09a8f7972c4a2add_onEachFeature(feature, layer) {\n",
       "            layer.on({\n",
       "            });\n",
       "        };\n",
       "        var geo_json_b281f3c70655e5ba09a8f7972c4a2add = L.geoJson(null, {\n",
       "                onEachFeature: geo_json_b281f3c70655e5ba09a8f7972c4a2add_onEachFeature,\n",
       "            \n",
       "        });\n",
       "\n",
       "        function geo_json_b281f3c70655e5ba09a8f7972c4a2add_add (data) {\n",
       "            geo_json_b281f3c70655e5ba09a8f7972c4a2add\n",
       "                .addData(data);\n",
       "        }\n",
       "            geo_json_b281f3c70655e5ba09a8f7972c4a2add_add({&quot;coordinates&quot;: [[13.92499, 50.966], [13.92499, 50.964]], &quot;type&quot;: &quot;LineString&quot;});\n",
       "\n",
       "        \n",
       "    \n",
       "            geo_json_b281f3c70655e5ba09a8f7972c4a2add.addTo(map_1b256aa7aea68935ad9685c71af18cec);\n",
       "        \n",
       "    \n",
       "\n",
       "        function geo_json_7c0a499c5af43579feaf319758aae0bb_onEachFeature(feature, layer) {\n",
       "            layer.on({\n",
       "            });\n",
       "        };\n",
       "        var geo_json_7c0a499c5af43579feaf319758aae0bb = L.geoJson(null, {\n",
       "                onEachFeature: geo_json_7c0a499c5af43579feaf319758aae0bb_onEachFeature,\n",
       "            \n",
       "        });\n",
       "\n",
       "        function geo_json_7c0a499c5af43579feaf319758aae0bb_add (data) {\n",
       "            geo_json_7c0a499c5af43579feaf319758aae0bb\n",
       "                .addData(data);\n",
       "        }\n",
       "            geo_json_7c0a499c5af43579feaf319758aae0bb_add({&quot;geometries&quot;: [{&quot;coordinates&quot;: [[[13.92495, 50.965999999999994], [13.925000000000002, 50.965999999999994], [13.925000000000002, 50.965960000843815], [13.92495, 50.965960000843815], [13.92495, 50.965999999999994]]], &quot;type&quot;: &quot;Polygon&quot;}, {&quot;coordinates&quot;: [[[13.92495, 50.965960000843815], [13.925000000000002, 50.965960000843815], [13.925000000000002, 50.965920001653195], [13.92495, 50.965920001653195], [13.92495, 50.965960000843815]]], &quot;type&quot;: &quot;Polygon&quot;}, {&quot;coordinates&quot;: [[[13.92495, 50.965920001653195], [13.925000000000002, 50.965920001653195], [13.925000000000002, 50.965880002428136], [13.92495, 50.965880002428136], [13.92495, 50.965920001653195]]], &quot;type&quot;: &quot;Polygon&quot;}, {&quot;coordinates&quot;: [[[13.92495, 50.965880002428136], [13.925000000000002, 50.965880002428136], [13.925000000000002, 50.96584000316863], [13.92495, 50.96584000316863], [13.92495, 50.965880002428136]]], &quot;type&quot;: &quot;Polygon&quot;}, {&quot;coordinates&quot;: [[[13.92495, 50.96584000316863], [13.925000000000002, 50.96584000316863], [13.925000000000002, 50.96580000387468], [13.92495, 50.96580000387468], [13.92495, 50.96584000316863]]], &quot;type&quot;: &quot;Polygon&quot;}, {&quot;coordinates&quot;: [[[13.92495, 50.96580000387468], [13.925000000000002, 50.96580000387468], [13.925000000000002, 50.965760004546304], [13.92495, 50.965760004546304], [13.92495, 50.96580000387468]]], &quot;type&quot;: &quot;Polygon&quot;}, {&quot;coordinates&quot;: [[[13.92495, 50.965760004546304], [13.925000000000002, 50.965760004546304], [13.925000000000002, 50.96572000518347], [13.92495, 50.96572000518347], [13.92495, 50.965760004546304]]], &quot;type&quot;: &quot;Polygon&quot;}, {&quot;coordinates&quot;: [[[13.92495, 50.96572000518347], [13.925000000000002, 50.96572000518347], [13.925000000000002, 50.9656800057862], [13.92495, 50.9656800057862], [13.92495, 50.96572000518347]]], &quot;type&quot;: &quot;Polygon&quot;}, {&quot;coordinates&quot;: [[[13.92495, 50.9656800057862], [13.925000000000002, 50.9656800057862], [13.925000000000002, 50.9656400063545], [13.92495, 50.9656400063545], [13.92495, 50.9656800057862]]], &quot;type&quot;: &quot;Polygon&quot;}, {&quot;coordinates&quot;: [[[13.92495, 50.9656400063545], [13.925000000000002, 50.9656400063545], [13.925000000000002, 50.965600006888344], [13.92495, 50.965600006888344], [13.92495, 50.9656400063545]]], &quot;type&quot;: &quot;Polygon&quot;}, {&quot;coordinates&quot;: [[[13.92495, 50.965600006888344], [13.925000000000002, 50.965600006888344], [13.925000000000002, 50.965560007387744], [13.92495, 50.965560007387744], [13.92495, 50.965600006888344]]], &quot;type&quot;: &quot;Polygon&quot;}, {&quot;coordinates&quot;: [[[13.92495, 50.965560007387744], [13.925000000000002, 50.965560007387744], [13.925000000000002, 50.96552000785271], [13.92495, 50.96552000785271], [13.92495, 50.965560007387744]]], &quot;type&quot;: &quot;Polygon&quot;}, {&quot;coordinates&quot;: [[[13.92495, 50.96552000785271], [13.925000000000002, 50.96552000785271], [13.925000000000002, 50.96548000828324], [13.92495, 50.96548000828324], [13.92495, 50.96552000785271]]], &quot;type&quot;: &quot;Polygon&quot;}, {&quot;coordinates&quot;: [[[13.92495, 50.96548000828324], [13.925000000000002, 50.96548000828324], [13.925000000000002, 50.965440008679316], [13.92495, 50.965440008679316], [13.92495, 50.96548000828324]]], &quot;type&quot;: &quot;Polygon&quot;}, {&quot;coordinates&quot;: [[[13.92495, 50.965440008679316], [13.925000000000002, 50.965440008679316], [13.925000000000002, 50.965400009040955], [13.92495, 50.965400009040955], [13.92495, 50.965440008679316]]], &quot;type&quot;: &quot;Polygon&quot;}, {&quot;coordinates&quot;: [[[13.92495, 50.965400009040955], [13.925000000000002, 50.965400009040955], [13.925000000000002, 50.965360009368155], [13.92495, 50.965360009368155], [13.92495, 50.965400009040955]]], &quot;type&quot;: &quot;Polygon&quot;}, {&quot;coordinates&quot;: [[[13.92495, 50.965360009368155], [13.925000000000002, 50.965360009368155], [13.925000000000002, 50.96532000966091], [13.92495, 50.96532000966091], [13.92495, 50.965360009368155]]], &quot;type&quot;: &quot;Polygon&quot;}, {&quot;coordinates&quot;: [[[13.92495, 50.96532000966091], [13.925000000000002, 50.96532000966091], [13.925000000000002, 50.965280009919226], [13.92495, 50.965280009919226], [13.92495, 50.96532000966091]]], &quot;type&quot;: &quot;Polygon&quot;}, {&quot;coordinates&quot;: [[[13.92495, 50.965280009919226], [13.925000000000002, 50.965280009919226], [13.925000000000002, 50.96524001014309], [13.92495, 50.96524001014309], [13.92495, 50.965280009919226]]], &quot;type&quot;: &quot;Polygon&quot;}, {&quot;coordinates&quot;: [[[13.92495, 50.96524001014309], [13.925000000000002, 50.96524001014309], [13.925000000000002, 50.96520001033253], [13.92495, 50.96520001033253], [13.92495, 50.96524001014309]]], &quot;type&quot;: &quot;Polygon&quot;}, {&quot;coordinates&quot;: [[[13.92495, 50.96520001033253], [13.925000000000002, 50.96520001033253], [13.925000000000002, 50.965160010487516], [13.92495, 50.965160010487516], [13.92495, 50.96520001033253]]], &quot;type&quot;: &quot;Polygon&quot;}, {&quot;coordinates&quot;: [[[13.92495, 50.965160010487516], [13.925000000000002, 50.965160010487516], [13.925000000000002, 50.96512001060807], [13.92495, 50.96512001060807], [13.92495, 50.965160010487516]]], &quot;type&quot;: &quot;Polygon&quot;}, {&quot;coordinates&quot;: [[[13.92495, 50.96512001060807], [13.925000000000002, 50.96512001060807], [13.925000000000002, 50.96508001069417], [13.92495, 50.96508001069417], [13.92495, 50.96512001060807]]], &quot;type&quot;: &quot;Polygon&quot;}, {&quot;coordinates&quot;: [[[13.92495, 50.96508001069417], [13.925000000000002, 50.96508001069417], [13.925000000000002, 50.96504001074583], [13.92495, 50.96504001074583], [13.92495, 50.96508001069417]]], &quot;type&quot;: &quot;Polygon&quot;}, {&quot;coordinates&quot;: [[[13.92495, 50.96504001074583], [13.925000000000002, 50.96504001074583], [13.925000000000002, 50.96500001076305], [13.92495, 50.96500001076305], [13.92495, 50.96504001074583]]], &quot;type&quot;: &quot;Polygon&quot;}, {&quot;coordinates&quot;: [[[13.92495, 50.96500001076305], [13.925000000000002, 50.96500001076305], [13.925000000000002, 50.964960010745834], [13.92495, 50.964960010745834], [13.92495, 50.96500001076305]]], &quot;type&quot;: &quot;Polygon&quot;}, {&quot;coordinates&quot;: [[[13.92495, 50.964960010745834], [13.925000000000002, 50.964960010745834], [13.925000000000002, 50.96492001069418], [13.92495, 50.96492001069418], [13.92495, 50.964960010745834]]], &quot;type&quot;: &quot;Polygon&quot;}, {&quot;coordinates&quot;: [[[13.92495, 50.96492001069418], [13.925000000000002, 50.96492001069418], [13.925000000000002, 50.96488001060807], [13.92495, 50.96488001060807], [13.92495, 50.96492001069418]]], &quot;type&quot;: &quot;Polygon&quot;}, {&quot;coordinates&quot;: [[[13.92495, 50.96488001060807], [13.925000000000002, 50.96488001060807], [13.925000000000002, 50.96484001048752], [13.92495, 50.96484001048752], [13.92495, 50.96488001060807]]], &quot;type&quot;: &quot;Polygon&quot;}, {&quot;coordinates&quot;: [[[13.92495, 50.96484001048752], [13.925000000000002, 50.96484001048752], [13.925000000000002, 50.964800010332546], [13.92495, 50.964800010332546], [13.92495, 50.96484001048752]]], &quot;type&quot;: &quot;Polygon&quot;}, {&quot;coordinates&quot;: [[[13.92495, 50.964800010332546], [13.925000000000002, 50.964800010332546], [13.925000000000002, 50.96476001014311], [13.92495, 50.96476001014311], [13.92495, 50.964800010332546]]], &quot;type&quot;: &quot;Polygon&quot;}, {&quot;coordinates&quot;: [[[13.92495, 50.96476001014311], [13.925000000000002, 50.96476001014311], [13.925000000000002, 50.96472000991924], [13.92495, 50.96472000991924], [13.92495, 50.96476001014311]]], &quot;type&quot;: &quot;Polygon&quot;}, {&quot;coordinates&quot;: [[[13.92495, 50.96472000991924], [13.925000000000002, 50.96472000991924], [13.925000000000002, 50.964680009660924], [13.92495, 50.964680009660924], [13.92495, 50.96472000991924]]], &quot;type&quot;: &quot;Polygon&quot;}, {&quot;coordinates&quot;: [[[13.92495, 50.964680009660924], [13.925000000000002, 50.964680009660924], [13.925000000000002, 50.96464000936817], [13.92495, 50.96464000936817], [13.92495, 50.964680009660924]]], &quot;type&quot;: &quot;Polygon&quot;}, {&quot;coordinates&quot;: [[[13.92495, 50.96464000936817], [13.925000000000002, 50.96464000936817], [13.925000000000002, 50.96460000904097], [13.92495, 50.96460000904097], [13.92495, 50.96464000936817]]], &quot;type&quot;: &quot;Polygon&quot;}, {&quot;coordinates&quot;: [[[13.92495, 50.96460000904097], [13.925000000000002, 50.96460000904097], [13.925000000000002, 50.96456000867934], [13.92495, 50.96456000867934], [13.92495, 50.96460000904097]]], &quot;type&quot;: &quot;Polygon&quot;}, {&quot;coordinates&quot;: [[[13.92495, 50.96456000867934], [13.925000000000002, 50.96456000867934], [13.925000000000002, 50.96452000828325], [13.92495, 50.96452000828325], [13.92495, 50.96456000867934]]], &quot;type&quot;: &quot;Polygon&quot;}, {&quot;coordinates&quot;: [[[13.92495, 50.96452000828325], [13.925000000000002, 50.96452000828325], [13.925000000000002, 50.964480007852735], [13.92495, 50.964480007852735], [13.92495, 50.96452000828325]]], &quot;type&quot;: &quot;Polygon&quot;}, {&quot;coordinates&quot;: [[[13.92495, 50.964480007852735], [13.925000000000002, 50.964480007852735], [13.925000000000002, 50.96444000738777], [13.92495, 50.96444000738777], [13.92495, 50.964480007852735]]], &quot;type&quot;: &quot;Polygon&quot;}, {&quot;coordinates&quot;: [[[13.92495, 50.96444000738777], [13.925000000000002, 50.96444000738777], [13.925000000000002, 50.96440000688836], [13.92495, 50.96440000688836], [13.92495, 50.96444000738777]]], &quot;type&quot;: &quot;Polygon&quot;}, {&quot;coordinates&quot;: [[[13.92495, 50.96440000688836], [13.925000000000002, 50.96440000688836], [13.925000000000002, 50.96436000635452], [13.92495, 50.96436000635452], [13.92495, 50.96440000688836]]], &quot;type&quot;: &quot;Polygon&quot;}, {&quot;coordinates&quot;: [[[13.92495, 50.96436000635452], [13.925000000000002, 50.96436000635452], [13.925000000000002, 50.96432000578623], [13.92495, 50.96432000578623], [13.92495, 50.96436000635452]]], &quot;type&quot;: &quot;Polygon&quot;}, {&quot;coordinates&quot;: [[[13.92495, 50.96432000578623], [13.925000000000002, 50.96432000578623], [13.925000000000002, 50.9642800051835], [13.92495, 50.9642800051835], [13.92495, 50.96432000578623]]], &quot;type&quot;: &quot;Polygon&quot;}, {&quot;coordinates&quot;: [[[13.92495, 50.9642800051835], [13.925000000000002, 50.9642800051835], [13.925000000000002, 50.96424000454632], [13.92495, 50.96424000454632], [13.92495, 50.9642800051835]]], &quot;type&quot;: &quot;Polygon&quot;}, {&quot;coordinates&quot;: [[[13.92495, 50.96424000454632], [13.925000000000002, 50.96424000454632], [13.925000000000002, 50.96420000387471], [13.92495, 50.96420000387471], [13.92495, 50.96424000454632]]], &quot;type&quot;: &quot;Polygon&quot;}, {&quot;coordinates&quot;: [[[13.92495, 50.96420000387471], [13.925000000000002, 50.96420000387471], [13.925000000000002, 50.964160003168644], [13.92495, 50.964160003168644], [13.92495, 50.96420000387471]]], &quot;type&quot;: &quot;Polygon&quot;}, {&quot;coordinates&quot;: [[[13.92495, 50.964160003168644], [13.925000000000002, 50.964160003168644], [13.925000000000002, 50.964120002428146], [13.92495, 50.964120002428146], [13.92495, 50.964160003168644]]], &quot;type&quot;: &quot;Polygon&quot;}, {&quot;coordinates&quot;: [[[13.92495, 50.964120002428146], [13.925000000000002, 50.964120002428146], [13.925000000000002, 50.96408000165321], [13.92495, 50.96408000165321], [13.92495, 50.964120002428146]]], &quot;type&quot;: &quot;Polygon&quot;}, {&quot;coordinates&quot;: [[[13.92495, 50.96408000165321], [13.925000000000002, 50.96408000165321], [13.925000000000002, 50.964040000843816], [13.92495, 50.964040000843816], [13.92495, 50.96408000165321]]], &quot;type&quot;: &quot;Polygon&quot;}, {&quot;coordinates&quot;: [[[13.92495, 50.964040000843816], [13.925000000000002, 50.964040000843816], [13.925000000000002, 50.96399999999999], [13.92495, 50.96399999999999], [13.92495, 50.964040000843816]]], &quot;type&quot;: &quot;Polygon&quot;}], &quot;type&quot;: &quot;GeometryCollection&quot;});\n",
       "\n",
       "        \n",
       "    \n",
       "            geo_json_7c0a499c5af43579feaf319758aae0bb.addTo(map_1b256aa7aea68935ad9685c71af18cec);\n",
       "        \n",
       "    \n",
       "\n",
       "        function geo_json_6a6d743deef61c2bf366266cdb92a2cc_onEachFeature(feature, layer) {\n",
       "            layer.on({\n",
       "            });\n",
       "        };\n",
       "        var geo_json_6a6d743deef61c2bf366266cdb92a2cc = L.geoJson(null, {\n",
       "                onEachFeature: geo_json_6a6d743deef61c2bf366266cdb92a2cc_onEachFeature,\n",
       "            \n",
       "        });\n",
       "\n",
       "        function geo_json_6a6d743deef61c2bf366266cdb92a2cc_add (data) {\n",
       "            geo_json_6a6d743deef61c2bf366266cdb92a2cc\n",
       "                .addData(data);\n",
       "        }\n",
       "            geo_json_6a6d743deef61c2bf366266cdb92a2cc_add({&quot;coordinates&quot;: [13.92499, 50.966], &quot;type&quot;: &quot;Point&quot;});\n",
       "\n",
       "        \n",
       "    \n",
       "            geo_json_6a6d743deef61c2bf366266cdb92a2cc.addTo(map_1b256aa7aea68935ad9685c71af18cec);\n",
       "        \n",
       "    \n",
       "\n",
       "        function geo_json_4c490dd9d570f019336946d5ed643f12_onEachFeature(feature, layer) {\n",
       "            layer.on({\n",
       "            });\n",
       "        };\n",
       "        var geo_json_4c490dd9d570f019336946d5ed643f12 = L.geoJson(null, {\n",
       "                onEachFeature: geo_json_4c490dd9d570f019336946d5ed643f12_onEachFeature,\n",
       "            \n",
       "        });\n",
       "\n",
       "        function geo_json_4c490dd9d570f019336946d5ed643f12_add (data) {\n",
       "            geo_json_4c490dd9d570f019336946d5ed643f12\n",
       "                .addData(data);\n",
       "        }\n",
       "            geo_json_4c490dd9d570f019336946d5ed643f12_add({&quot;coordinates&quot;: [13.92499, 50.964], &quot;type&quot;: &quot;Point&quot;});\n",
       "\n",
       "        \n",
       "    \n",
       "            geo_json_4c490dd9d570f019336946d5ed643f12.addTo(map_1b256aa7aea68935ad9685c71af18cec);\n",
       "        \n",
       "    \n",
       "\n",
       "        function geo_json_3fae6de016a4c3064b403ed8c5a5f71a_onEachFeature(feature, layer) {\n",
       "            layer.on({\n",
       "            });\n",
       "        };\n",
       "        var geo_json_3fae6de016a4c3064b403ed8c5a5f71a = L.geoJson(null, {\n",
       "                onEachFeature: geo_json_3fae6de016a4c3064b403ed8c5a5f71a_onEachFeature,\n",
       "            \n",
       "        });\n",
       "\n",
       "        function geo_json_3fae6de016a4c3064b403ed8c5a5f71a_add (data) {\n",
       "            geo_json_3fae6de016a4c3064b403ed8c5a5f71a\n",
       "                .addData(data);\n",
       "        }\n",
       "            geo_json_3fae6de016a4c3064b403ed8c5a5f71a_add({&quot;coordinates&quot;: [[13.92004, 50.96401], [13.92004, 50.96599]], &quot;type&quot;: &quot;LineString&quot;});\n",
       "\n",
       "        \n",
       "    \n",
       "            geo_json_3fae6de016a4c3064b403ed8c5a5f71a.addTo(map_1b256aa7aea68935ad9685c71af18cec);\n",
       "        \n",
       "    \n",
       "\n",
       "        function geo_json_e8a2d19943661fba78c6fc5cc0a5c8af_onEachFeature(feature, layer) {\n",
       "            layer.on({\n",
       "            });\n",
       "        };\n",
       "        var geo_json_e8a2d19943661fba78c6fc5cc0a5c8af = L.geoJson(null, {\n",
       "                onEachFeature: geo_json_e8a2d19943661fba78c6fc5cc0a5c8af_onEachFeature,\n",
       "            \n",
       "        });\n",
       "\n",
       "        function geo_json_e8a2d19943661fba78c6fc5cc0a5c8af_add (data) {\n",
       "            geo_json_e8a2d19943661fba78c6fc5cc0a5c8af\n",
       "                .addData(data);\n",
       "        }\n",
       "            geo_json_e8a2d19943661fba78c6fc5cc0a5c8af_add({&quot;geometries&quot;: [{&quot;coordinates&quot;: [[[13.920000000000002, 50.965999999999994], [13.920050000000002, 50.965999999999994], [13.920050000000002, 50.965960000843815], [13.920000000000002, 50.965960000843815], [13.920000000000002, 50.965999999999994]]], &quot;type&quot;: &quot;Polygon&quot;}, {&quot;coordinates&quot;: [[[13.920000000000002, 50.965960000843815], [13.920050000000002, 50.965960000843815], [13.920050000000002, 50.965920001653195], [13.920000000000002, 50.965920001653195], [13.920000000000002, 50.965960000843815]]], &quot;type&quot;: &quot;Polygon&quot;}, {&quot;coordinates&quot;: [[[13.920000000000002, 50.965920001653195], [13.920050000000002, 50.965920001653195], [13.920050000000002, 50.965880002428136], [13.920000000000002, 50.965880002428136], [13.920000000000002, 50.965920001653195]]], &quot;type&quot;: &quot;Polygon&quot;}, {&quot;coordinates&quot;: [[[13.920000000000002, 50.965880002428136], [13.920050000000002, 50.965880002428136], [13.920050000000002, 50.96584000316863], [13.920000000000002, 50.96584000316863], [13.920000000000002, 50.965880002428136]]], &quot;type&quot;: &quot;Polygon&quot;}, {&quot;coordinates&quot;: [[[13.920000000000002, 50.96584000316863], [13.920050000000002, 50.96584000316863], [13.920050000000002, 50.96580000387468], [13.920000000000002, 50.96580000387468], [13.920000000000002, 50.96584000316863]]], &quot;type&quot;: &quot;Polygon&quot;}, {&quot;coordinates&quot;: [[[13.920000000000002, 50.96580000387468], [13.920050000000002, 50.96580000387468], [13.920050000000002, 50.965760004546304], [13.920000000000002, 50.965760004546304], [13.920000000000002, 50.96580000387468]]], &quot;type&quot;: &quot;Polygon&quot;}, {&quot;coordinates&quot;: [[[13.920000000000002, 50.965760004546304], [13.920050000000002, 50.965760004546304], [13.920050000000002, 50.96572000518347], [13.920000000000002, 50.96572000518347], [13.920000000000002, 50.965760004546304]]], &quot;type&quot;: &quot;Polygon&quot;}, {&quot;coordinates&quot;: [[[13.920000000000002, 50.96572000518347], [13.920050000000002, 50.96572000518347], [13.920050000000002, 50.9656800057862], [13.920000000000002, 50.9656800057862], [13.920000000000002, 50.96572000518347]]], &quot;type&quot;: &quot;Polygon&quot;}, {&quot;coordinates&quot;: [[[13.920000000000002, 50.9656800057862], [13.920050000000002, 50.9656800057862], [13.920050000000002, 50.9656400063545], [13.920000000000002, 50.9656400063545], [13.920000000000002, 50.9656800057862]]], &quot;type&quot;: &quot;Polygon&quot;}, {&quot;coordinates&quot;: [[[13.920000000000002, 50.9656400063545], [13.920050000000002, 50.9656400063545], [13.920050000000002, 50.965600006888344], [13.920000000000002, 50.965600006888344], [13.920000000000002, 50.9656400063545]]], &quot;type&quot;: &quot;Polygon&quot;}, {&quot;coordinates&quot;: [[[13.920000000000002, 50.965600006888344], [13.920050000000002, 50.965600006888344], [13.920050000000002, 50.965560007387744], [13.920000000000002, 50.965560007387744], [13.920000000000002, 50.965600006888344]]], &quot;type&quot;: &quot;Polygon&quot;}, {&quot;coordinates&quot;: [[[13.920000000000002, 50.965560007387744], [13.920050000000002, 50.965560007387744], [13.920050000000002, 50.96552000785271], [13.920000000000002, 50.96552000785271], [13.920000000000002, 50.965560007387744]]], &quot;type&quot;: &quot;Polygon&quot;}, {&quot;coordinates&quot;: [[[13.920000000000002, 50.96552000785271], [13.920050000000002, 50.96552000785271], [13.920050000000002, 50.96548000828324], [13.920000000000002, 50.96548000828324], [13.920000000000002, 50.96552000785271]]], &quot;type&quot;: &quot;Polygon&quot;}, {&quot;coordinates&quot;: [[[13.920000000000002, 50.96548000828324], [13.920050000000002, 50.96548000828324], [13.920050000000002, 50.965440008679316], [13.920000000000002, 50.965440008679316], [13.920000000000002, 50.96548000828324]]], &quot;type&quot;: &quot;Polygon&quot;}, {&quot;coordinates&quot;: [[[13.920000000000002, 50.965440008679316], [13.920050000000002, 50.965440008679316], [13.920050000000002, 50.965400009040955], [13.920000000000002, 50.965400009040955], [13.920000000000002, 50.965440008679316]]], &quot;type&quot;: &quot;Polygon&quot;}, {&quot;coordinates&quot;: [[[13.920000000000002, 50.965400009040955], [13.920050000000002, 50.965400009040955], [13.920050000000002, 50.965360009368155], [13.920000000000002, 50.965360009368155], [13.920000000000002, 50.965400009040955]]], &quot;type&quot;: &quot;Polygon&quot;}, {&quot;coordinates&quot;: [[[13.920000000000002, 50.965360009368155], [13.920050000000002, 50.965360009368155], [13.920050000000002, 50.96532000966091], [13.920000000000002, 50.96532000966091], [13.920000000000002, 50.965360009368155]]], &quot;type&quot;: &quot;Polygon&quot;}, {&quot;coordinates&quot;: [[[13.920000000000002, 50.96532000966091], [13.920050000000002, 50.96532000966091], [13.920050000000002, 50.965280009919226], [13.920000000000002, 50.965280009919226], [13.920000000000002, 50.96532000966091]]], &quot;type&quot;: &quot;Polygon&quot;}, {&quot;coordinates&quot;: [[[13.920000000000002, 50.965280009919226], [13.920050000000002, 50.965280009919226], [13.920050000000002, 50.96524001014309], [13.920000000000002, 50.96524001014309], [13.920000000000002, 50.965280009919226]]], &quot;type&quot;: &quot;Polygon&quot;}, {&quot;coordinates&quot;: [[[13.920000000000002, 50.96524001014309], [13.920050000000002, 50.96524001014309], [13.920050000000002, 50.96520001033253], [13.920000000000002, 50.96520001033253], [13.920000000000002, 50.96524001014309]]], &quot;type&quot;: &quot;Polygon&quot;}, {&quot;coordinates&quot;: [[[13.920000000000002, 50.96520001033253], [13.920050000000002, 50.96520001033253], [13.920050000000002, 50.965160010487516], [13.920000000000002, 50.965160010487516], [13.920000000000002, 50.96520001033253]]], &quot;type&quot;: &quot;Polygon&quot;}, {&quot;coordinates&quot;: [[[13.920000000000002, 50.965160010487516], [13.920050000000002, 50.965160010487516], [13.920050000000002, 50.96512001060807], [13.920000000000002, 50.96512001060807], [13.920000000000002, 50.965160010487516]]], &quot;type&quot;: &quot;Polygon&quot;}, {&quot;coordinates&quot;: [[[13.920000000000002, 50.96512001060807], [13.920050000000002, 50.96512001060807], [13.920050000000002, 50.96508001069417], [13.920000000000002, 50.96508001069417], [13.920000000000002, 50.96512001060807]]], &quot;type&quot;: &quot;Polygon&quot;}, {&quot;coordinates&quot;: [[[13.920000000000002, 50.96508001069417], [13.920050000000002, 50.96508001069417], [13.920050000000002, 50.96504001074583], [13.920000000000002, 50.96504001074583], [13.920000000000002, 50.96508001069417]]], &quot;type&quot;: &quot;Polygon&quot;}, {&quot;coordinates&quot;: [[[13.920000000000002, 50.96504001074583], [13.920050000000002, 50.96504001074583], [13.920050000000002, 50.96500001076305], [13.920000000000002, 50.96500001076305], [13.920000000000002, 50.96504001074583]]], &quot;type&quot;: &quot;Polygon&quot;}, {&quot;coordinates&quot;: [[[13.920000000000002, 50.96500001076305], [13.920050000000002, 50.96500001076305], [13.920050000000002, 50.964960010745834], [13.920000000000002, 50.964960010745834], [13.920000000000002, 50.96500001076305]]], &quot;type&quot;: &quot;Polygon&quot;}, {&quot;coordinates&quot;: [[[13.920000000000002, 50.964960010745834], [13.920050000000002, 50.964960010745834], [13.920050000000002, 50.96492001069418], [13.920000000000002, 50.96492001069418], [13.920000000000002, 50.964960010745834]]], &quot;type&quot;: &quot;Polygon&quot;}, {&quot;coordinates&quot;: [[[13.920000000000002, 50.96492001069418], [13.920050000000002, 50.96492001069418], [13.920050000000002, 50.96488001060807], [13.920000000000002, 50.96488001060807], [13.920000000000002, 50.96492001069418]]], &quot;type&quot;: &quot;Polygon&quot;}, {&quot;coordinates&quot;: [[[13.920000000000002, 50.96488001060807], [13.920050000000002, 50.96488001060807], [13.920050000000002, 50.96484001048752], [13.920000000000002, 50.96484001048752], [13.920000000000002, 50.96488001060807]]], &quot;type&quot;: &quot;Polygon&quot;}, {&quot;coordinates&quot;: [[[13.920000000000002, 50.96484001048752], [13.920050000000002, 50.96484001048752], [13.920050000000002, 50.964800010332546], [13.920000000000002, 50.964800010332546], [13.920000000000002, 50.96484001048752]]], &quot;type&quot;: &quot;Polygon&quot;}, {&quot;coordinates&quot;: [[[13.920000000000002, 50.964800010332546], [13.920050000000002, 50.964800010332546], [13.920050000000002, 50.96476001014311], [13.920000000000002, 50.96476001014311], [13.920000000000002, 50.964800010332546]]], &quot;type&quot;: &quot;Polygon&quot;}, {&quot;coordinates&quot;: [[[13.920000000000002, 50.96476001014311], [13.920050000000002, 50.96476001014311], [13.920050000000002, 50.96472000991924], [13.920000000000002, 50.96472000991924], [13.920000000000002, 50.96476001014311]]], &quot;type&quot;: &quot;Polygon&quot;}, {&quot;coordinates&quot;: [[[13.920000000000002, 50.96472000991924], [13.920050000000002, 50.96472000991924], [13.920050000000002, 50.964680009660924], [13.920000000000002, 50.964680009660924], [13.920000000000002, 50.96472000991924]]], &quot;type&quot;: &quot;Polygon&quot;}, {&quot;coordinates&quot;: [[[13.920000000000002, 50.964680009660924], [13.920050000000002, 50.964680009660924], [13.920050000000002, 50.96464000936817], [13.920000000000002, 50.96464000936817], [13.920000000000002, 50.964680009660924]]], &quot;type&quot;: &quot;Polygon&quot;}, {&quot;coordinates&quot;: [[[13.920000000000002, 50.96464000936817], [13.920050000000002, 50.96464000936817], [13.920050000000002, 50.96460000904097], [13.920000000000002, 50.96460000904097], [13.920000000000002, 50.96464000936817]]], &quot;type&quot;: &quot;Polygon&quot;}, {&quot;coordinates&quot;: [[[13.920000000000002, 50.96460000904097], [13.920050000000002, 50.96460000904097], [13.920050000000002, 50.96456000867934], [13.920000000000002, 50.96456000867934], [13.920000000000002, 50.96460000904097]]], &quot;type&quot;: &quot;Polygon&quot;}, {&quot;coordinates&quot;: [[[13.920000000000002, 50.96456000867934], [13.920050000000002, 50.96456000867934], [13.920050000000002, 50.96452000828325], [13.920000000000002, 50.96452000828325], [13.920000000000002, 50.96456000867934]]], &quot;type&quot;: &quot;Polygon&quot;}, {&quot;coordinates&quot;: [[[13.920000000000002, 50.96452000828325], [13.920050000000002, 50.96452000828325], [13.920050000000002, 50.964480007852735], [13.920000000000002, 50.964480007852735], [13.920000000000002, 50.96452000828325]]], &quot;type&quot;: &quot;Polygon&quot;}, {&quot;coordinates&quot;: [[[13.920000000000002, 50.964480007852735], [13.920050000000002, 50.964480007852735], [13.920050000000002, 50.96444000738777], [13.920000000000002, 50.96444000738777], [13.920000000000002, 50.964480007852735]]], &quot;type&quot;: &quot;Polygon&quot;}, {&quot;coordinates&quot;: [[[13.920000000000002, 50.96444000738777], [13.920050000000002, 50.96444000738777], [13.920050000000002, 50.96440000688836], [13.920000000000002, 50.96440000688836], [13.920000000000002, 50.96444000738777]]], &quot;type&quot;: &quot;Polygon&quot;}, {&quot;coordinates&quot;: [[[13.920000000000002, 50.96440000688836], [13.920050000000002, 50.96440000688836], [13.920050000000002, 50.96436000635452], [13.920000000000002, 50.96436000635452], [13.920000000000002, 50.96440000688836]]], &quot;type&quot;: &quot;Polygon&quot;}, {&quot;coordinates&quot;: [[[13.920000000000002, 50.96436000635452], [13.920050000000002, 50.96436000635452], [13.920050000000002, 50.96432000578623], [13.920000000000002, 50.96432000578623], [13.920000000000002, 50.96436000635452]]], &quot;type&quot;: &quot;Polygon&quot;}, {&quot;coordinates&quot;: [[[13.920000000000002, 50.96432000578623], [13.920050000000002, 50.96432000578623], [13.920050000000002, 50.9642800051835], [13.920000000000002, 50.9642800051835], [13.920000000000002, 50.96432000578623]]], &quot;type&quot;: &quot;Polygon&quot;}, {&quot;coordinates&quot;: [[[13.920000000000002, 50.9642800051835], [13.920050000000002, 50.9642800051835], [13.920050000000002, 50.96424000454632], [13.920000000000002, 50.96424000454632], [13.920000000000002, 50.9642800051835]]], &quot;type&quot;: &quot;Polygon&quot;}, {&quot;coordinates&quot;: [[[13.920000000000002, 50.96424000454632], [13.920050000000002, 50.96424000454632], [13.920050000000002, 50.96420000387471], [13.920000000000002, 50.96420000387471], [13.920000000000002, 50.96424000454632]]], &quot;type&quot;: &quot;Polygon&quot;}, {&quot;coordinates&quot;: [[[13.920000000000002, 50.96420000387471], [13.920050000000002, 50.96420000387471], [13.920050000000002, 50.964160003168644], [13.920000000000002, 50.964160003168644], [13.920000000000002, 50.96420000387471]]], &quot;type&quot;: &quot;Polygon&quot;}, {&quot;coordinates&quot;: [[[13.920000000000002, 50.964160003168644], [13.920050000000002, 50.964160003168644], [13.920050000000002, 50.964120002428146], [13.920000000000002, 50.964120002428146], [13.920000000000002, 50.964160003168644]]], &quot;type&quot;: &quot;Polygon&quot;}, {&quot;coordinates&quot;: [[[13.920000000000002, 50.964120002428146], [13.920050000000002, 50.964120002428146], [13.920050000000002, 50.96408000165321], [13.920000000000002, 50.96408000165321], [13.920000000000002, 50.964120002428146]]], &quot;type&quot;: &quot;Polygon&quot;}, {&quot;coordinates&quot;: [[[13.920000000000002, 50.96408000165321], [13.920050000000002, 50.96408000165321], [13.920050000000002, 50.964040000843816], [13.920000000000002, 50.964040000843816], [13.920000000000002, 50.96408000165321]]], &quot;type&quot;: &quot;Polygon&quot;}, {&quot;coordinates&quot;: [[[13.920000000000002, 50.964040000843816], [13.920050000000002, 50.964040000843816], [13.920050000000002, 50.96399999999999], [13.920000000000002, 50.96399999999999], [13.920000000000002, 50.964040000843816]]], &quot;type&quot;: &quot;Polygon&quot;}], &quot;type&quot;: &quot;GeometryCollection&quot;});\n",
       "\n",
       "        \n",
       "    \n",
       "            geo_json_e8a2d19943661fba78c6fc5cc0a5c8af.addTo(map_1b256aa7aea68935ad9685c71af18cec);\n",
       "        \n",
       "    \n",
       "\n",
       "        function geo_json_4c5225c5eb2c69b93238cbb5bde314b1_onEachFeature(feature, layer) {\n",
       "            layer.on({\n",
       "            });\n",
       "        };\n",
       "        var geo_json_4c5225c5eb2c69b93238cbb5bde314b1 = L.geoJson(null, {\n",
       "                onEachFeature: geo_json_4c5225c5eb2c69b93238cbb5bde314b1_onEachFeature,\n",
       "            \n",
       "        });\n",
       "\n",
       "        function geo_json_4c5225c5eb2c69b93238cbb5bde314b1_add (data) {\n",
       "            geo_json_4c5225c5eb2c69b93238cbb5bde314b1\n",
       "                .addData(data);\n",
       "        }\n",
       "            geo_json_4c5225c5eb2c69b93238cbb5bde314b1_add({&quot;coordinates&quot;: [13.92004, 50.96599], &quot;type&quot;: &quot;Point&quot;});\n",
       "\n",
       "        \n",
       "    \n",
       "            geo_json_4c5225c5eb2c69b93238cbb5bde314b1.addTo(map_1b256aa7aea68935ad9685c71af18cec);\n",
       "        \n",
       "    \n",
       "\n",
       "        function geo_json_c4f28c347f17f0f9620499365fd7b50d_onEachFeature(feature, layer) {\n",
       "            layer.on({\n",
       "            });\n",
       "        };\n",
       "        var geo_json_c4f28c347f17f0f9620499365fd7b50d = L.geoJson(null, {\n",
       "                onEachFeature: geo_json_c4f28c347f17f0f9620499365fd7b50d_onEachFeature,\n",
       "            \n",
       "        });\n",
       "\n",
       "        function geo_json_c4f28c347f17f0f9620499365fd7b50d_add (data) {\n",
       "            geo_json_c4f28c347f17f0f9620499365fd7b50d\n",
       "                .addData(data);\n",
       "        }\n",
       "            geo_json_c4f28c347f17f0f9620499365fd7b50d_add({&quot;coordinates&quot;: [13.92004, 50.96401], &quot;type&quot;: &quot;Point&quot;});\n",
       "\n",
       "        \n",
       "    \n",
       "            geo_json_c4f28c347f17f0f9620499365fd7b50d.addTo(map_1b256aa7aea68935ad9685c71af18cec);\n",
       "        \n",
       "    \n",
       "            map_1b256aa7aea68935ad9685c71af18cec.fitBounds(\n",
       "                [[50.964, 13.92], [50.966, 13.925000000000002]],\n",
       "                {}\n",
       "            );\n",
       "        \n",
       "&lt;/script&gt;\n",
       "&lt;/html&gt;\" style=\"position:absolute;width:100%;height:100%;left:0;top:0;border:none !important;\" allowfullscreen webkitallowfullscreen mozallowfullscreen></iframe></div></div>"
      ],
      "text/plain": [
       "<folium.folium.Map at 0x154a2fef0>"
      ]
     },
     "execution_count": 6,
     "metadata": {},
     "output_type": "execute_result"
    }
   ],
   "source": [
    "from morpheus.project.types.boundaries.Observation import ObservationName\n",
    "from morpheus.project.types.boundaries.DrainObservation import DrainRawDataItem, \\\n",
    "  DrainObservation\n",
    "from morpheus.project.types.boundaries.GeneralHeadObservation import ObservationId, GeneralHeadRawDataItem, \\\n",
    "  GeneralHeadObservation, Stage, Conductance\n",
    "from morpheus.project.types.geometry import Point\n",
    "from morpheus.project.types.boundaries.Boundary import BoundaryName, BoundaryCollection\n",
    "from morpheus.project.types.layers import LayerId\n",
    "from morpheus.project.types.boundaries.Boundary import DrainBoundary, GeneralHeadBoundary\n",
    "\n",
    "layers_list = [LayerId.new()]\n",
    "\n",
    "drain_east = DrainBoundary.from_geometry(\n",
    "  name=BoundaryName('drain_east'),\n",
    "  geometry=LineString([\n",
    "    (13.92499, 50.966),\n",
    "    (13.92499, 50.964),\n",
    "  ]),\n",
    "  grid=grid,\n",
    "  affected_layers=[model.layers[0].layer_id],\n",
    "  observations=[\n",
    "    DrainObservation(\n",
    "      observation_id=ObservationId.new(),\n",
    "      observation_name=ObservationName.default(),\n",
    "      geometry=Point((13.92499, 50.966)),\n",
    "      data=[\n",
    "        DrainRawDataItem(\n",
    "          date_time=StartDateTime.from_datetime(datetime(2019, 1, 1)),\n",
    "          stage=Stage.from_float(.75),\n",
    "          conductance=Conductance.from_float(100),\n",
    "        ),\n",
    "        DrainRawDataItem(\n",
    "          date_time=StartDateTime.from_datetime(datetime(2021, 12, 31)),\n",
    "          stage=Stage.from_float(.75),\n",
    "          conductance=Conductance.from_float(100),\n",
    "        ),\n",
    "      ]\n",
    "    ),\n",
    "    DrainObservation(\n",
    "      observation_id=ObservationId.new(),\n",
    "      observation_name=ObservationName.default(),\n",
    "      geometry=Point((13.92499, 50.964)),\n",
    "      data=[\n",
    "        DrainRawDataItem(\n",
    "          date_time=StartDateTime.from_datetime(datetime(2019, 1, 1)),\n",
    "          stage=Stage.from_float(.5),\n",
    "          conductance=Conductance.from_float(200),\n",
    "        ),\n",
    "        DrainRawDataItem(\n",
    "          date_time=StartDateTime.from_datetime(datetime(2021, 12, 31)),\n",
    "          stage=Stage.from_float(.5),\n",
    "          conductance=Conductance.from_float(200),\n",
    "        ),\n",
    "      ]\n",
    "    ),\n",
    "  ]\n",
    ")\n",
    "\n",
    "general_head_west = GeneralHeadBoundary.from_geometry(\n",
    "  name=BoundaryName('general_head_west'),\n",
    "  geometry=LineString([\n",
    "    (13.92004, 50.96401),\n",
    "    (13.92004, 50.96599),\n",
    "  ]),\n",
    "  grid=grid,\n",
    "  affected_layers=[model.layers[0].layer_id],\n",
    "  observations=[\n",
    "    GeneralHeadObservation(\n",
    "      observation_id=ObservationId.new(),\n",
    "      observation_name=ObservationName.default(),\n",
    "      geometry=Point((13.92004, 50.96599)),\n",
    "      data=[\n",
    "        GeneralHeadRawDataItem(\n",
    "          date_time=StartDateTime.from_datetime(datetime(2019, 1, 1)),\n",
    "          stage=Stage.from_float(1),\n",
    "          conductance=Conductance.from_float(300),\n",
    "        ),\n",
    "        GeneralHeadRawDataItem(\n",
    "          date_time=StartDateTime.from_datetime(datetime(2021, 12, 31)),\n",
    "          stage=Stage.from_float(1),\n",
    "          conductance=Conductance.from_float(300),\n",
    "        ),\n",
    "      ]\n",
    "    ),\n",
    "    GeneralHeadObservation(\n",
    "      observation_id=ObservationId.new(),\n",
    "      observation_name=ObservationName.default(),\n",
    "      geometry=Point((13.92004, 50.96401)),\n",
    "      data=[\n",
    "        GeneralHeadRawDataItem(\n",
    "          date_time=StartDateTime.from_datetime(datetime(2019, 1, 1)),\n",
    "          stage=Stage.from_float(1),\n",
    "          conductance=Conductance.from_float(400),\n",
    "        ),\n",
    "        GeneralHeadRawDataItem(\n",
    "          date_time=StartDateTime.from_datetime(datetime(2021, 12, 31)),\n",
    "          stage=Stage.from_float(1),\n",
    "          conductance=Conductance.from_float(400),\n",
    "        ),\n",
    "      ]\n",
    "    ),\n",
    "  ]\n",
    ")\n",
    "\n",
    "boundary_collection = BoundaryCollection.new()\n",
    "boundary_collection.add_boundary(general_head_west)\n",
    "boundary_collection.add_boundary(drain_east)\n",
    "\n",
    "model = model.with_updated_boundaries(boundaries=boundary_collection)\n",
    "\n",
    "m.add_child(folium.GeoJson(drain_east.as_geojson()))\n",
    "m.add_child(folium.GeoJson(drain_east.affected_cells.to_geojson(grid).as_geojson()))\n",
    "for observation in drain_east.observations:\n",
    "  m.add_child(folium.GeoJson(observation.as_geojson()))\n",
    "\n",
    "m.add_child(folium.GeoJson(general_head_west.as_geojson()))\n",
    "m.add_child(folium.GeoJson(general_head_west.affected_cells.to_geojson(grid).as_geojson()))\n",
    "for observation in general_head_west.observations:\n",
    "  m.add_child(folium.GeoJson(observation.as_geojson()))\n",
    "m.fit_bounds(m.get_bounds())\n",
    "m"
   ]
  },
  {
   "cell_type": "code",
   "execution_count": 7,
   "id": "25b4324c4d166cd7",
   "metadata": {
    "ExecuteTime": {
     "end_time": "2024-08-18T21:16:26.656650Z",
     "start_time": "2024-08-18T21:16:26.652616Z"
    },
    "collapsed": false,
    "execution": {
     "iopub.execute_input": "2024-08-19T20:03:41.281105Z",
     "iopub.status.busy": "2024-08-19T20:03:41.280979Z",
     "iopub.status.idle": "2024-08-19T20:03:41.283151Z",
     "shell.execute_reply": "2024-08-19T20:03:41.282936Z"
    },
    "papermill": {
     "duration": 0.005859,
     "end_time": "2024-08-19T20:03:41.283920",
     "exception": false,
     "start_time": "2024-08-19T20:03:41.278061",
     "status": "completed"
    },
    "tags": []
   },
   "outputs": [
    {
     "data": {
      "text/plain": [
       "[DrainObservation(observation_id=ObservationId(value='be0bf9c0-951e-436a-ae41-980887a0ca47'), observation_name=ObservationName(value='Observation Point 1'), geometry=Point(coordinates=(13.92499, 50.966), type='Point'), data=[DrainRawDataItem(date_time=StartDateTime(value=datetime.datetime(2019, 1, 1, 0, 0, tzinfo=datetime.timezone.utc)), stage=Stage(value=0.75), conductance=Conductance(value=100)), DrainRawDataItem(date_time=StartDateTime(value=datetime.datetime(2021, 12, 31, 0, 0, tzinfo=datetime.timezone.utc)), stage=Stage(value=0.75), conductance=Conductance(value=100))]),\n",
       " DrainObservation(observation_id=ObservationId(value='1aee9f0d-93a1-4665-8400-c156907eecb1'), observation_name=ObservationName(value='Observation Point 1'), geometry=Point(coordinates=(13.92499, 50.964), type='Point'), data=[DrainRawDataItem(date_time=StartDateTime(value=datetime.datetime(2019, 1, 1, 0, 0, tzinfo=datetime.timezone.utc)), stage=Stage(value=0.5), conductance=Conductance(value=200)), DrainRawDataItem(date_time=StartDateTime(value=datetime.datetime(2021, 12, 31, 0, 0, tzinfo=datetime.timezone.utc)), stage=Stage(value=0.5), conductance=Conductance(value=200))])]"
      ]
     },
     "execution_count": 7,
     "metadata": {},
     "output_type": "execute_result"
    }
   ],
   "source": [
    "drain_east.observations"
   ]
  },
  {
   "cell_type": "code",
   "execution_count": 8,
   "id": "dc338472e1887a13",
   "metadata": {
    "ExecuteTime": {
     "end_time": "2024-08-18T21:16:27.154347Z",
     "start_time": "2024-08-18T21:16:26.664922Z"
    },
    "collapsed": false,
    "execution": {
     "iopub.execute_input": "2024-08-19T20:03:41.289340Z",
     "iopub.status.busy": "2024-08-19T20:03:41.289223Z",
     "iopub.status.idle": "2024-08-19T20:03:41.753894Z",
     "shell.execute_reply": "2024-08-19T20:03:41.753603Z"
    },
    "papermill": {
     "duration": 0.468415,
     "end_time": "2024-08-19T20:03:41.754805",
     "exception": false,
     "start_time": "2024-08-19T20:03:41.286390",
     "status": "completed"
    },
    "tags": []
   },
   "outputs": [
    {
     "data": {
      "text/plain": [
       "{0: [[0, 0, 0, 1.0, 300.5050289789967],\n",
       "  [0, 1, 0, 1.0, 302.5251892522284],\n",
       "  [0, 2, 0, 1.0, 304.54535126413674],\n",
       "  [0, 3, 0, 1.0, 306.5655150157982],\n",
       "  [0, 4, 0, 1.0, 308.5856805068539],\n",
       "  [0, 5, 0, 1.0, 310.60584773730386],\n",
       "  [0, 6, 0, 1.0, 312.62601670750695],\n",
       "  [0, 7, 0, 1.0, 314.6461874167454],\n",
       "  [0, 8, 0, 1.0, 316.66635986573704],\n",
       "  [0, 9, 0, 1.0, 318.68653405412294],\n",
       "  [0, 10, 0, 1.0, 320.70670998226194],\n",
       "  [0, 11, 0, 1.0, 322.72688764979523],\n",
       "  [0, 12, 0, 1.0, 324.7470670563639],\n",
       "  [0, 13, 0, 1.0, 326.7672482030445],\n",
       "  [0, 14, 0, 1.0, 328.7874310884017],\n",
       "  [0, 15, 0, 1.0, 330.80761571422977],\n",
       "  [0, 16, 0, 1.0, 332.8278020790932],\n",
       "  [0, 17, 0, 1.0, 334.847990182992],\n",
       "  [0, 18, 0, 1.0, 336.8681800270029],\n",
       "  [0, 19, 0, 1.0, 338.88837161040794],\n",
       "  [0, 20, 0, 1.0, 340.90856493284844],\n",
       "  [0, 21, 0, 1.0, 342.9287599954009],\n",
       "  [0, 22, 0, 1.0, 344.9489567969888],\n",
       "  [0, 23, 0, 1.0, 346.9691553383298],\n",
       "  [0, 24, 0, 1.0, 348.9893556187062],\n",
       "  [0, 25, 0, 1.0, 351.0095576388357],\n",
       "  [0, 26, 0, 1.0, 353.0297613983595],\n",
       "  [0, 27, 0, 1.0, 355.0499668976364],\n",
       "  [0, 28, 0, 1.0, 357.07017413630757],\n",
       "  [0, 29, 0, 1.0, 359.090383114373],\n",
       "  [0, 30, 0, 1.0, 361.1105938318327],\n",
       "  [0, 31, 0, 1.0, 363.1308062890455],\n",
       "  [0, 32, 0, 1.0, 365.1510204856526],\n",
       "  [0, 33, 0, 1.0, 367.17123642165393],\n",
       "  [0, 34, 0, 1.0, 369.1914540970496],\n",
       "  [0, 35, 0, 1.0, 371.2116735118394],\n",
       "  [0, 36, 0, 1.0, 373.23189466638246],\n",
       "  [0, 37, 0, 1.0, 375.2521175603197],\n",
       "  [0, 38, 0, 1.0, 377.27234219401004],\n",
       "  [0, 39, 0, 1.0, 379.29256856745354],\n",
       "  [0, 40, 0, 1.0, 381.31279667957364],\n",
       "  [0, 41, 0, 1.0, 383.33302653144676],\n",
       "  [0, 42, 0, 1.0, 385.35325812271424],\n",
       "  [0, 43, 0, 1.0, 387.3734914540936],\n",
       "  [0, 44, 0, 1.0, 389.39372652450845],\n",
       "  [0, 45, 0, 1.0, 391.4139633343175],\n",
       "  [0, 46, 0, 1.0, 393.4342018838797],\n",
       "  [0, 47, 0, 1.0, 395.45444217247734],\n",
       "  [0, 48, 0, 1.0, 397.4746842011869],\n",
       "  [0, 49, 0, 1.0, 399.4949279689319]]}"
      ]
     },
     "execution_count": 8,
     "metadata": {},
     "output_type": "execute_result"
    }
   ],
   "source": [
    "from morpheus.project.infrastructure.calculation.engines.modflow_2005.packages.GhbPackageMapper import \\\n",
    "  calculate_ghb_boundary_stress_period_data\n",
    "\n",
    "result = calculate_ghb_boundary_stress_period_data(\n",
    "  spatial_discretization=spatial_discretization,\n",
    "  time_discretization=time_discretization,\n",
    "  layers=model.layers,\n",
    "  ghb_boundary=general_head_west,\n",
    ")\n",
    "result.to_dict()"
   ]
  },
  {
   "cell_type": "code",
   "execution_count": 9,
   "id": "e7d13f116125151c",
   "metadata": {
    "ExecuteTime": {
     "end_time": "2024-08-18T21:16:27.440106Z",
     "start_time": "2024-08-18T21:16:27.220121Z"
    },
    "collapsed": false,
    "execution": {
     "iopub.execute_input": "2024-08-19T20:03:41.760653Z",
     "iopub.status.busy": "2024-08-19T20:03:41.760473Z",
     "iopub.status.idle": "2024-08-19T20:03:41.965301Z",
     "shell.execute_reply": "2024-08-19T20:03:41.965011Z"
    },
    "papermill": {
     "duration": 0.208683,
     "end_time": "2024-08-19T20:03:41.966193",
     "exception": false,
     "start_time": "2024-08-19T20:03:41.757510",
     "status": "completed"
    },
    "tags": []
   },
   "outputs": [
    {
     "data": {
      "text/plain": [
       "{0: [[0, 0, 99, 0.7475000532765921, 100.99997868936319],\n",
       "  [0, 1, 99, 0.7425001566003594, 102.99993735985626],\n",
       "  [0, 2, 99, 0.7375002556209023, 104.99989775163911],\n",
       "  [0, 3, 99, 0.7325003503355562, 106.99985986577755],\n",
       "  [0, 4, 99, 0.7275004407452093, 108.99982370191631],\n",
       "  [0, 5, 99, 0.7225005268498615, 110.9997892600554],\n",
       "  [0, 6, 99, 0.7175006086486249, 112.99975654055007],\n",
       "  [0, 7, 99, 0.7125006861432756, 114.99972554268979],\n",
       "  [0, 8, 99, 0.7075007593320373, 116.9996962671851],\n",
       "  [0, 9, 99, 0.7025008282157982, 118.99966871368073],\n",
       "  [0, 10, 99, 0.6975008927936701, 120.99964288253196],\n",
       "  [0, 11, 99, 0.6925009530665412, 122.9996187733835],\n",
       "  [0, 12, 99, 0.6875010090352998, 124.9995963858801],\n",
       "  [0, 13, 99, 0.6825010606972811, 126.99957572108755],\n",
       "  [0, 14, 99, 0.677501108056038, 128.9995567775848],\n",
       "  [0, 15, 99, 0.6725011511071296, 130.99953955714815],\n",
       "  [0, 16, 99, 0.6675011898541086, 132.99952405835657],\n",
       "  [0, 17, 99, 0.6625012242969749, 134.99951028121004],\n",
       "  [0, 18, 99, 0.6575012544330641, 136.99949822677436],\n",
       "  [0, 19, 99, 0.6525012802641524, 138.999487894339],\n",
       "  [0, 20, 99, 0.6475013017911282, 140.9994792835487],\n",
       "  [0, 21, 99, 0.6425013190113268, 142.99947239546927],\n",
       "  [0, 22, 99, 0.6375013319274128, 144.99946722903488],\n",
       "  [0, 23, 99, 0.6325013405376099, 146.99946378495608],\n",
       "  [0, 24, 99, 0.6275013448436941, 148.99946206252233],\n",
       "  [0, 25, 99, 0.6225013448438896, 150.99946206244417],\n",
       "  [0, 26, 99, 0.6175013405390841, 152.99946378436633],\n",
       "  [0, 27, 99, 0.6125013319283898, 154.99946722864408],\n",
       "  [0, 28, 99, 0.6075013190126946, 156.99947239492215],\n",
       "  [0, 29, 99, 0.6025013017919987, 158.99947928320054],\n",
       "  [0, 30, 99, 0.5975012802663019, 160.99948789347926],\n",
       "  [0, 31, 99, 0.5925012544347161, 162.99949822611356],\n",
       "  [0, 32, 99, 0.5875012242981296, 164.99951028074815],\n",
       "  [0, 33, 99, 0.5825011898565422, 166.99952405738313],\n",
       "  [0, 34, 99, 0.577501151109954, 168.9995395560184],\n",
       "  [0, 35, 99, 0.5725011080583651, 170.99955677665398],\n",
       "  [0, 36, 99, 0.5675010607008871, 172.99957571964515],\n",
       "  [0, 37, 99, 0.5625010090384084, 174.99959638463665],\n",
       "  [0, 38, 99, 0.5575009530700407, 176.9996187719837],\n",
       "  [0, 39, 99, 0.552500892795784, 178.9996428816864],\n",
       "  [0, 40, 99, 0.5475008282183028, 180.99966871267887],\n",
       "  [0, 41, 99, 0.5425007593349327, 182.99969626602692],\n",
       "  [0, 42, 99, 0.5375006861465618, 184.9997255413753],\n",
       "  [0, 43, 99, 0.5325006086514137, 186.99975653943451],\n",
       "  [0, 44, 99, 0.527500526852153, 188.9997892591388],\n",
       "  [0, 45, 99, 0.5225004407478915, 190.9998237008434],\n",
       "  [0, 46, 99, 0.517500350337741, 192.99985986490358],\n",
       "  [0, 47, 99, 0.5125002556234779, 194.99989775060882],\n",
       "  [0, 48, 99, 0.5075001566024377, 196.99993735902493],\n",
       "  [0, 49, 99, 0.5025000532772848, 198.99997868908608]]}"
      ]
     },
     "execution_count": 9,
     "metadata": {},
     "output_type": "execute_result"
    }
   ],
   "source": [
    "from morpheus.project.infrastructure.calculation.engines.modflow_2005.packages.DrnPackageMapper import \\\n",
    "  calculate_drn_boundary_stress_period_data\n",
    "\n",
    "result = calculate_drn_boundary_stress_period_data(\n",
    "  spatial_discretization=spatial_discretization,\n",
    "  time_discretization=time_discretization,\n",
    "  layers=model.layers,\n",
    "  drn_boundary=drain_east,\n",
    ")\n",
    "result.to_dict()"
   ]
  },
  {
   "cell_type": "markdown",
   "id": "42d948d145a8457a",
   "metadata": {
    "collapsed": false,
    "papermill": {
     "duration": 0.002395,
     "end_time": "2024-08-19T20:03:41.971408",
     "exception": false,
     "start_time": "2024-08-19T20:03:41.969013",
     "status": "completed"
    },
    "tags": []
   },
   "source": [
    "## Calculate"
   ]
  },
  {
   "cell_type": "code",
   "execution_count": 10,
   "id": "56ccabee86e2397e",
   "metadata": {
    "ExecuteTime": {
     "end_time": "2024-08-18T21:16:28.201571Z",
     "start_time": "2024-08-18T21:16:27.507710Z"
    },
    "collapsed": false,
    "execution": {
     "iopub.execute_input": "2024-08-19T20:03:41.976698Z",
     "iopub.status.busy": "2024-08-19T20:03:41.976583Z",
     "iopub.status.idle": "2024-08-19T20:03:42.674391Z",
     "shell.execute_reply": "2024-08-19T20:03:42.674157Z"
    },
    "papermill": {
     "duration": 0.701537,
     "end_time": "2024-08-19T20:03:42.675273",
     "exception": false,
     "start_time": "2024-08-19T20:03:41.973736",
     "status": "completed"
    },
    "tags": []
   },
   "outputs": [
    {
     "data": {
      "text/plain": [
       "['type,package,k,i,j,value,desc']"
      ]
     },
     "execution_count": 10,
     "metadata": {},
     "output_type": "execute_result"
    }
   ],
   "source": [
    "from morpheus.project.infrastructure.calculation.engines.base.CalculationEngineFactory import CalculationEngineFactory\n",
    "from morpheus.project.types.calculation.CalculationProfile import CalculationProfile, CalculationEngineType\n",
    "from morpheus.project.types.calculation.Calculation import CalculationId\n",
    "\n",
    "calculation_id = CalculationId.new()\n",
    "calculation_profile = CalculationProfile.new(CalculationEngineType.MF2005)\n",
    "engine = CalculationEngineFactory.create_engine(calculation_id=calculation_id, engine_type=calculation_profile.engine_type)\n",
    "check_model_log = engine.preprocess(model, calculation_profile)\n",
    "check_model_log.to_list()"
   ]
  },
  {
   "cell_type": "code",
   "execution_count": 11,
   "id": "672007fb90753c4c",
   "metadata": {
    "ExecuteTime": {
     "end_time": "2024-08-18T21:16:28.662068Z",
     "start_time": "2024-08-18T21:16:28.207943Z"
    },
    "collapsed": false,
    "execution": {
     "iopub.execute_input": "2024-08-19T20:03:42.680997Z",
     "iopub.status.busy": "2024-08-19T20:03:42.680890Z",
     "iopub.status.idle": "2024-08-19T20:03:43.171807Z",
     "shell.execute_reply": "2024-08-19T20:03:43.171474Z"
    },
    "papermill": {
     "duration": 0.494668,
     "end_time": "2024-08-19T20:03:43.172675",
     "exception": false,
     "start_time": "2024-08-19T20:03:42.678007",
     "status": "completed"
    },
    "tags": []
   },
   "outputs": [
    {
     "name": "stdout",
     "output_type": "stream",
     "text": [
      "FloPy is using the following executable to run the model: ../../../../../../../src/backend/.venv/bin/mf2005\n",
      "\n",
      "                                  MODFLOW-2005     \n",
      "    U.S. GEOLOGICAL SURVEY MODULAR FINITE-DIFFERENCE GROUND-WATER FLOW MODEL\n",
      "                             Version 1.12.00 2/3/2017                        \n",
      "\n",
      " Using NAME file: mf2005.nam \n",
      " Run start date and time (yyyy/mm/dd hh:mm:ss): 2024/08/19 22:03:43\n",
      "\n",
      " Solving:  Stress period:     1    Time step:     1    Ground-Water Flow Eqn.\n",
      " Run end date and time (yyyy/mm/dd hh:mm:ss): 2024/08/19 22:03:43\n",
      " Elapsed run time:  0.027 Seconds\n",
      "\n",
      "  Normal termination of simulation\n"
     ]
    }
   ],
   "source": [
    "log, result = engine.run(model=model, calculation_profile=calculation_profile)"
   ]
  },
  {
   "cell_type": "code",
   "execution_count": 12,
   "id": "a52d1dd3a1574032",
   "metadata": {
    "ExecuteTime": {
     "end_time": "2024-08-18T21:16:28.672767Z",
     "start_time": "2024-08-18T21:16:28.670362Z"
    },
    "collapsed": false,
    "execution": {
     "iopub.execute_input": "2024-08-19T20:03:43.178919Z",
     "iopub.status.busy": "2024-08-19T20:03:43.178768Z",
     "iopub.status.idle": "2024-08-19T20:03:43.181129Z",
     "shell.execute_reply": "2024-08-19T20:03:43.180918Z"
    },
    "papermill": {
     "duration": 0.006288,
     "end_time": "2024-08-19T20:03:43.181871",
     "exception": false,
     "start_time": "2024-08-19T20:03:43.175583",
     "status": "completed"
    },
    "tags": []
   },
   "outputs": [
    {
     "data": {
      "text/plain": [
       "CalculationResult(type=<CalculationResultType.SUCCESS: 'success'>, message='Calculation finished successfully', files=['mf2005.list', 'mf2005.ghb', 'mf2005.drn', 'mf2005.dis', 'mf2005.nam', 'mf2005.bas', 'mf2005.lpf', 'mf2005.pcg', 'mf2005.oc', 'mf2005.hds'], flow_head_results=AvailableResults(times=[365.0], kstpkper=[(0, 0)], number_of_layers=1, number_of_observations=0, min_value=0.5026057362556458, max_value=0.9999876022338867), flow_drawdown_results=None, flow_budget_results=AvailableResults(times=[365.0], kstpkper=[(0, 0)], number_of_layers=0, number_of_observations=0, min_value=None, max_value=None), transport_concentration_results=None, transport_budget_results=None, packages=['DIS', 'BAS6', 'DRN', 'GHB', 'PCG', 'LPF', 'OC'])"
      ]
     },
     "execution_count": 12,
     "metadata": {},
     "output_type": "execute_result"
    }
   ],
   "source": [
    "result"
   ]
  },
  {
   "cell_type": "code",
   "execution_count": 13,
   "id": "cc43ad077c7a81d0",
   "metadata": {
    "ExecuteTime": {
     "end_time": "2024-08-18T21:16:28.682309Z",
     "start_time": "2024-08-18T21:16:28.678891Z"
    },
    "collapsed": false,
    "execution": {
     "iopub.execute_input": "2024-08-19T20:03:43.187891Z",
     "iopub.status.busy": "2024-08-19T20:03:43.187770Z",
     "iopub.status.idle": "2024-08-19T20:03:43.190081Z",
     "shell.execute_reply": "2024-08-19T20:03:43.189866Z"
    },
    "papermill": {
     "duration": 0.006289,
     "end_time": "2024-08-19T20:03:43.190884",
     "exception": false,
     "start_time": "2024-08-19T20:03:43.184595",
     "status": "completed"
    },
    "tags": []
   },
   "outputs": [],
   "source": [
    "head = engine.read_flow_head(idx=0, layer=0)"
   ]
  },
  {
   "cell_type": "code",
   "execution_count": 14,
   "id": "12454cc4d9e18de5",
   "metadata": {
    "ExecuteTime": {
     "end_time": "2024-08-18T21:16:28.694466Z",
     "start_time": "2024-08-18T21:16:28.688209Z"
    },
    "collapsed": false,
    "execution": {
     "iopub.execute_input": "2024-08-19T20:03:43.196637Z",
     "iopub.status.busy": "2024-08-19T20:03:43.196525Z",
     "iopub.status.idle": "2024-08-19T20:03:43.202735Z",
     "shell.execute_reply": "2024-08-19T20:03:43.202515Z"
    },
    "papermill": {
     "duration": 0.009989,
     "end_time": "2024-08-19T20:03:43.203493",
     "exception": false,
     "start_time": "2024-08-19T20:03:43.193504",
     "status": "completed"
    },
    "tags": []
   },
   "outputs": [
    {
     "data": {
      "text/plain": [
       "'[[1.0, 0.9962000250816345, 0.9923999905586243, 0.9886999726295471, 0.9848999977111816, 0.9811000227928162, 0.977400004863739, 0.9735999703407288, 0.9697999954223633, 0.9660999774932861, 0.9623000025749207, 0.9585000276565552, 0.954800009727478, 0.9509999752044678, 0.9473000168800354, 0.9434999823570251, 0.9398000240325928, 0.9359999895095825, 0.9322999715805054, 0.9284999966621399, 0.9247999787330627, 0.9211000204086304, 0.9172999858856201, 0.9136000275611877, 0.9099000096321106, 0.9061999917030334, 0.9024999737739563, 0.8988000154495239, 0.8950999975204468, 0.8913999795913696, 0.8877000212669373, 0.8840000033378601, 0.880299985408783, 0.8766999840736389, 0.8730000257492065, 0.8694000244140625, 0.8657000064849854, 0.8621000051498413, 0.8585000038146973, 0.8549000024795532, 0.8513000011444092, 0.8476999998092651, 0.8440999984741211, 0.8406000137329102, 0.8370000123977661, 0.8335000276565552, 0.8299999833106995, 0.8264999985694885, 0.8230000138282776, 0.8195000290870667, 0.8159999847412109, 0.8126000165939331, 0.8091999888420105, 0.8058000206947327, 0.8025000095367432, 0.7990999817848206, 0.795799970626831, 0.7925000190734863, 0.7892000079154968, 0.7860000133514404, 0.782800018787384, 0.7796000242233276, 0.7764999866485596, 0.7732999920845032, 0.7702999711036682, 0.7671999931335449, 0.76419997215271, 0.7613000273704529, 0.758400022983551, 0.7555000185966492, 0.7526999711990356, 0.7498999834060669, 0.7472000122070312, 0.7444999814033508, 0.7419000267982483, 0.739300012588501, 0.7368999719619751, 0.7343999743461609, 0.7321000099182129, 0.7297999858856201, 0.7275999784469604, 0.7254999876022339, 0.7233999967575073, 0.7214999794960022, 0.7196000218391418, 0.7178000211715698, 0.7160999774932861, 0.7145000100135803, 0.7129999995231628, 0.7117000222206116, 0.7103999853134155, 0.7092000246047974, 0.7081999778747559, 0.7073000073432922, 0.7064999938011169, 0.7057999968528748, 0.705299973487854, 0.7049000263214111, 0.7045999765396118, 0.7045000195503235], [1.0, 0.9962000250816345, 0.9923999905586243, 0.9886999726295471, 0.9848999977111816, 0.9811000227928162, 0.977400004863739, 0.9735999703407288, 0.9697999954223633, 0.9660999774932861, 0.9623000025749207, 0.9585000276565552, 0.954800009727478, 0.9509999752044678, 0.9473000168800354, 0.9434999823570251, 0.9398000240325928, 0.9359999895095825, 0.9322999715805054, 0.9284999966621399, 0.9247999787330627, 0.9211000204086304, 0.9172999858856201, 0.9136000275611877, 0.9099000096321106, 0.9061999917030334, 0.9024999737739563, 0.8986999988555908, 0.8949999809265137, 0.8913999795913696, 0.8877000212669373, 0.8840000033378601, 0.880299985408783, 0.8766999840736389, 0.8730000257492065, 0.8693000078201294, 0.8657000064849854, 0.8621000051498413, 0.8585000038146973, 0.8547999858856201, 0.8513000011444092, 0.8476999998092651, 0.8440999984741211, 0.840499997138977, 0.8370000123977661, 0.8334000110626221, 0.8299000263214111, 0.8263999819755554, 0.8228999972343445, 0.8195000290870667, 0.8159999847412109, 0.8126000165939331, 0.8091999888420105, 0.8058000206947327, 0.8023999929428101, 0.7990999817848206, 0.7957000136375427, 0.7925000190734863, 0.7892000079154968, 0.7858999967575073, 0.7827000021934509, 0.7795000076293945, 0.7764000296592712, 0.7732999920845032, 0.7702000141143799, 0.7671999931335449, 0.76419997215271, 0.7612000107765198, 0.7583000063896179, 0.7554000020027161, 0.7526000142097473, 0.7498000264167786, 0.7470999956130981, 0.7444000244140625, 0.7418000102043152, 0.7391999959945679, 0.7368000149726868, 0.7343000173568726, 0.7319999933242798, 0.7297000288963318, 0.7275000214576721, 0.7253000140190125, 0.7232999801635742, 0.7213000059127808, 0.7193999886512756, 0.7175999879837036, 0.7159000039100647, 0.7143999934196472, 0.7128999829292297, 0.7114999890327454, 0.7102000117301941, 0.7089999914169312, 0.7080000042915344, 0.707099974155426, 0.7063000202178955, 0.7056000232696533, 0.7050999999046326, 0.7046999931335449, 0.7044000029563904, 0.7042999863624573], [1.0, 0.9962000250816345, 0.9923999905586243, 0.9886999726295471, 0.9848999977111816, 0.9811000227928162, 0.977400004863739, 0.9735999703407288, 0.9697999954223633, 0.9660999774932861, 0.9623000025749207, 0.9585000276565552, 0.954800009727478, 0.9509999752044678, 0.9473000168800354, 0.9434999823570251, 0.9398000240325928, 0.9359999895095825, 0.9322999715805054, 0.9284999966621399, 0.9247999787330627, 0.9210000038146973, 0.9172999858856201, 0.9136000275611877, 0.9099000096321106, 0.9060999751091003, 0.902400016784668, 0.8986999988555908, 0.8949999809265137, 0.8913000226020813, 0.8876000046730042, 0.8840000033378601, 0.880299985408783, 0.8766000270843506, 0.8730000257492065, 0.8693000078201294, 0.8657000064849854, 0.8619999885559082, 0.8583999872207642, 0.8547999858856201, 0.8511999845504761, 0.847599983215332, 0.843999981880188, 0.840499997138977, 0.836899995803833, 0.8334000110626221, 0.8299000263214111, 0.8263999819755554, 0.8228999972343445, 0.8194000124931335, 0.8159999847412109, 0.8125, 0.8090999722480774, 0.8057000041007996, 0.802299976348877, 0.7990000247955322, 0.7957000136375427, 0.7924000024795532, 0.7890999913215637, 0.7857999801635742, 0.7825999855995178, 0.7793999910354614, 0.7763000130653381, 0.7731999754905701, 0.7700999975204468, 0.7670000195503235, 0.7639999985694885, 0.7610999941825867, 0.7580999732017517, 0.755299985408783, 0.7523999810218811, 0.7495999932289124, 0.7469000220298767, 0.7441999912261963, 0.741599977016449, 0.7390000224113464, 0.7365000247955322, 0.7340999841690063, 0.7317000031471252, 0.7293999791145325, 0.7271999716758728, 0.7250999808311462, 0.7229999899864197, 0.7210000157356262, 0.7190999984741211, 0.7172999978065491, 0.7156000137329102, 0.7139999866485596, 0.7124999761581421, 0.7110999822616577, 0.7098000049591064, 0.7087000012397766, 0.7075999975204468, 0.7067000269889832, 0.7059000134468079, 0.7052000164985657, 0.7046999931335449, 0.7042999863624573, 0.7039999961853027, 0.7038999795913696], [1.0, 0.9962000250816345, 0.9923999905586243, 0.9886999726295471, 0.9848999977111816, 0.9811000227928162, 0.977400004863739, 0.9735999703407288, 0.9697999954223633, 0.9660999774932861, 0.9623000025749207, 0.9585000276565552, 0.954800009727478, 0.9509999752044678, 0.9472000002861023, 0.9434999823570251, 0.9397000074386597, 0.9359999895095825, 0.932200014591217, 0.9284999966621399, 0.9247999787330627, 0.9210000038146973, 0.9172999858856201, 0.9136000275611877, 0.9097999930381775, 0.9060999751091003, 0.902400016784668, 0.8986999988555908, 0.8949999809265137, 0.8913000226020813, 0.8876000046730042, 0.883899986743927, 0.880299985408783, 0.8766000270843506, 0.8729000091552734, 0.8693000078201294, 0.8655999898910522, 0.8619999885559082, 0.8583999872207642, 0.8547999858856201, 0.8511999845504761, 0.847599983215332, 0.843999981880188, 0.840399980545044, 0.836899995803833, 0.833299994468689, 0.829800009727478, 0.8263000249862671, 0.8227999806404114, 0.8192999958992004, 0.8159000277519226, 0.8123999834060669, 0.8090000152587891, 0.8055999875068665, 0.8022000193595886, 0.7989000082015991, 0.7954999804496765, 0.7922000288963318, 0.7889999747276306, 0.7857000231742859, 0.7825000286102295, 0.7792999744415283, 0.7760999798774719, 0.7730000019073486, 0.7699000239372253, 0.7667999863624573, 0.7638000249862671, 0.7609000205993652, 0.7578999996185303, 0.7549999952316284, 0.7522000074386597, 0.7494000196456909, 0.7465999722480774, 0.7440000176429749, 0.7412999868392944, 0.7386999726295471, 0.7361999750137329, 0.7337999939918518, 0.7314000129699707, 0.7290999889373779, 0.7268000245094299, 0.7246999740600586, 0.722599983215332, 0.7206000089645386, 0.7186999917030334, 0.7168999910354614, 0.7150999903678894, 0.7135000228881836, 0.7120000123977661, 0.7106000185012817, 0.7092999815940857, 0.7081000208854675, 0.7070000171661377, 0.7060999870300293, 0.705299973487854, 0.7045999765396118, 0.7039999961853027, 0.7035999894142151, 0.7032999992370605, 0.7031999826431274], [1.0, 0.9962000250816345, 0.9923999905586243, 0.9886999726295471, 0.9848999977111816, 0.9811000227928162, 0.9772999882698059, 0.9735999703407288, 0.9697999954223633, 0.9660000205039978, 0.9623000025749207, 0.9585000276565552, 0.9546999931335449, 0.9509999752044678, 0.9472000002861023, 0.9434999823570251, 0.9397000074386597, 0.9359999895095825, 0.932200014591217, 0.9284999966621399, 0.9247000217437744, 0.9210000038146973, 0.9172999858856201, 0.9135000109672546, 0.9097999930381775, 0.9060999751091003, 0.902400016784668, 0.8986999988555908, 0.8949999809265137, 0.8913000226020813, 0.8876000046730042, 0.883899986743927, 0.8802000284194946, 0.8765000104904175, 0.8729000091552734, 0.8691999912261963, 0.8655999898910522, 0.8618999719619751, 0.858299970626831, 0.8547000288963318, 0.8511000275611877, 0.8475000262260437, 0.8439000248908997, 0.8403000235557556, 0.8367999792098999, 0.8331999778747559, 0.8296999931335449, 0.826200008392334, 0.822700023651123, 0.8191999793052673, 0.8156999945640564, 0.8123000264167786, 0.808899998664856, 0.8054999709129333, 0.8021000027656555, 0.7986999750137329, 0.7954000234603882, 0.7921000123023987, 0.7888000011444092, 0.7854999899864197, 0.7822999954223633, 0.7791000008583069, 0.7759000062942505, 0.7728000283241272, 0.7696999907493591, 0.7666000127792358, 0.7635999917984009, 0.7605999708175659, 0.7576000094413757, 0.7547000050544739, 0.7519000172615051, 0.7491000294685364, 0.7462999820709229, 0.7436000108718872, 0.7408999800682068, 0.7383000254631042, 0.73580002784729, 0.733299970626831, 0.73089998960495, 0.728600025177002, 0.7263000011444092, 0.7242000102996826, 0.722100019454956, 0.7200000286102295, 0.7181000113487244, 0.7163000106811523, 0.7145000100135803, 0.7128999829292297, 0.7113000154495239, 0.7099000215530396, 0.7085000276565552, 0.7073000073432922, 0.7062000036239624, 0.705299973487854, 0.7044000029563904, 0.7037000060081482, 0.7031999826431274, 0.7027000188827515, 0.7024999856948853, 0.7023000121116638], [1.0, 0.9962000250816345, 0.9923999905586243, 0.9886999726295471, 0.9848999977111816, 0.9811000227928162, 0.9772999882698059, 0.9735999703407288, 0.9697999954223633, 0.9660000205039978, 0.9623000025749207, 0.9585000276565552, 0.9546999931335449, 0.9509999752044678, 0.9472000002861023, 0.9434999823570251, 0.9397000074386597, 0.9358999729156494, 0.932200014591217, 0.9283999800682068, 0.9247000217437744, 0.9210000038146973, 0.9172000288963318, 0.9135000109672546, 0.9097999930381775, 0.906000018119812, 0.9023000001907349, 0.8985999822616577, 0.8949000239372253, 0.8912000060081482, 0.887499988079071, 0.8838000297546387, 0.8801000118255615, 0.8765000104904175, 0.8727999925613403, 0.8690999746322632, 0.8654999732971191, 0.8618999719619751, 0.8582000136375427, 0.8546000123023987, 0.8510000109672546, 0.8474000096321106, 0.8438000082969666, 0.8402000069618225, 0.8367000222206116, 0.8331000208854675, 0.8295999765396118, 0.8260999917984009, 0.8226000070571899, 0.819100022315979, 0.8155999779701233, 0.8120999932289124, 0.8087000250816345, 0.8052999973297119, 0.8019000291824341, 0.7985000014305115, 0.795199990272522, 0.7918000221252441, 0.7885000109672546, 0.7853000164031982, 0.7820000052452087, 0.7788000106811523, 0.775600016117096, 0.7724999785423279, 0.7694000005722046, 0.7663000226020813, 0.7631999850273132, 0.760200023651123, 0.7573000192642212, 0.7542999982833862, 0.7515000104904175, 0.7486000061035156, 0.7458999752998352, 0.7430999875068665, 0.7404999732971191, 0.7378000020980835, 0.7353000044822693, 0.7328000068664551, 0.730400025844574, 0.7279999852180481, 0.7257000207901001, 0.7235000133514404, 0.7214000225067139, 0.7192999720573425, 0.7174000144004822, 0.715499997138977, 0.713699996471405, 0.7120000123977661, 0.7103999853134155, 0.7089999914169312, 0.7075999975204468, 0.7063999772071838, 0.705299973487854, 0.7042999863624573, 0.7034000158309937, 0.7027000188827515, 0.7020999789237976, 0.7016000151634216, 0.7013000249862671, 0.701200008392334], [1.0, 0.9962000250816345, 0.9923999905586243, 0.9886999726295471, 0.9848999977111816, 0.9811000227928162, 0.9772999882698059, 0.9735999703407288, 0.9697999954223633, 0.9660000205039978, 0.9621999859809875, 0.9585000276565552, 0.9546999931335449, 0.9509000182151794, 0.9472000002861023, 0.9434000253677368, 0.9397000074386597, 0.9358999729156494, 0.932200014591217, 0.9283999800682068, 0.9247000217437744, 0.9208999872207642, 0.9172000288963318, 0.9135000109672546, 0.9096999764442444, 0.906000018119812, 0.9023000001907349, 0.8985999822616577, 0.8949000239372253, 0.8910999894142151, 0.8873999714851379, 0.8838000297546387, 0.8801000118255615, 0.8763999938964844, 0.8726999759674072, 0.8690999746322632, 0.8654000163078308, 0.8618000149726868, 0.8580999970436096, 0.8544999957084656, 0.8508999943733215, 0.8472999930381775, 0.8436999917030334, 0.8400999903678894, 0.8364999890327454, 0.8330000042915344, 0.8294000029563904, 0.8259000182151794, 0.8223999738693237, 0.8188999891281128, 0.8154000043869019, 0.8119000196456909, 0.8084999918937683, 0.8051000237464905, 0.8016999959945679, 0.79830002784729, 0.7949000000953674, 0.7915999889373779, 0.7882999777793884, 0.7850000262260437, 0.7817000150680542, 0.7785000205039978, 0.7753000259399414, 0.7720999717712402, 0.7689999938011169, 0.7659000158309937, 0.7627999782562256, 0.7598000168800354, 0.7567999958992004, 0.7538999915122986, 0.7509999871253967, 0.7480999827384949, 0.7452999949455261, 0.7426000237464905, 0.7398999929428101, 0.7372999787330627, 0.7347000241279602, 0.7321000099182129, 0.7297000288963318, 0.7272999882698059, 0.7250000238418579, 0.7226999998092651, 0.7206000089645386, 0.718500018119812, 0.7164999842643738, 0.7146000266075134, 0.7127000093460083, 0.7110000252723694, 0.7093999981880188, 0.7078999876976013, 0.7064999938011169, 0.7052000164985657, 0.7041000127792358, 0.703000009059906, 0.7020999789237976, 0.7013999819755554, 0.7008000016212463, 0.7002999782562256, 0.699999988079071, 0.6998000144958496], [1.0, 0.9962000250816345, 0.9923999905586243, 0.9886999726295471, 0.9848999977111816, 0.9811000227928162, 0.9772999882698059, 0.9735000133514404, 0.9697999954223633, 0.9660000205039978, 0.9621999859809875, 0.9585000276565552, 0.9546999931335449, 0.9509000182151794, 0.9472000002861023, 0.9434000253677368, 0.9395999908447266, 0.9358999729156494, 0.9320999979972839, 0.9283999800682068, 0.9246000051498413, 0.9208999872207642, 0.9171000123023987, 0.9133999943733215, 0.9096999764442444, 0.9059000015258789, 0.9021999835968018, 0.8985000252723694, 0.8948000073432922, 0.8910999894142151, 0.8873999714851379, 0.8837000131607056, 0.8799999952316284, 0.8762999773025513, 0.8726000189781189, 0.8690000176429749, 0.8652999997138977, 0.8616999983787537, 0.8579999804496765, 0.8543999791145325, 0.8507999777793884, 0.847100019454956, 0.843500018119812, 0.839900016784668, 0.8363999724388123, 0.8327999711036682, 0.8292999863624573, 0.8256999850273132, 0.8222000002861023, 0.8187000155448914, 0.8151999711990356, 0.8116999864578247, 0.8083000183105469, 0.8047999739646912, 0.8014000058174133, 0.7979999780654907, 0.7946000099182129, 0.7912999987602234, 0.7879999876022339, 0.7846999764442444, 0.7814000248908997, 0.7781999707221985, 0.7749000191688538, 0.7717999815940857, 0.7685999870300293, 0.765500009059906, 0.7623999714851379, 0.7592999935150146, 0.7562999725341797, 0.7534000277519226, 0.7505000233650208, 0.7476000189781189, 0.744700014591217, 0.7419999837875366, 0.7391999959945679, 0.7365999817848206, 0.7339000105857849, 0.7314000129699707, 0.7289000153541565, 0.7264999747276306, 0.7240999937057495, 0.7218000292778015, 0.7196000218391418, 0.7174999713897705, 0.715399980545044, 0.7135000228881836, 0.7116000056266785, 0.7099000215530396, 0.7081999778747559, 0.70660001039505, 0.7052000164985657, 0.7038999795913696, 0.7027000188827515, 0.7016000151634216, 0.7006999850273132, 0.6998999714851379, 0.6991999745368958, 0.6987000107765198, 0.6984000205993652, 0.698199987411499], [1.0, 0.9962000250816345, 0.9923999905586243, 0.9886000156402588, 0.9848999977111816, 0.9811000227928162, 0.9772999882698059, 0.9735000133514404, 0.9697999954223633, 0.9660000205039978, 0.9621999859809875, 0.9584000110626221, 0.9546999931335449, 0.9509000182151794, 0.9470999836921692, 0.9434000253677368, 0.9395999908447266, 0.9358000159263611, 0.9320999979972839, 0.9283000230789185, 0.9246000051498413, 0.920799970626831, 0.9171000123023987, 0.9132999777793884, 0.909600019454956, 0.9059000015258789, 0.9021000266075134, 0.8984000086784363, 0.8946999907493591, 0.890999972820282, 0.8873000144958496, 0.8835999965667725, 0.8798999786376953, 0.8762000203132629, 0.8725000023841858, 0.8687999844551086, 0.8651999831199646, 0.8615000247955322, 0.8579000234603882, 0.854200005531311, 0.850600004196167, 0.847000002861023, 0.8434000015258789, 0.8398000001907349, 0.8361999988555908, 0.8325999975204468, 0.8291000127792358, 0.8255000114440918, 0.8220000267028809, 0.8184999823570251, 0.8149999976158142, 0.8115000128746033, 0.8080000281333923, 0.8046000003814697, 0.8011000156402588, 0.7976999878883362, 0.7943000197410583, 0.7910000085830688, 0.7875999808311462, 0.7843000292778015, 0.781000018119812, 0.7777000069618225, 0.7745000123977661, 0.7713000178337097, 0.7681000232696533, 0.7649999856948853, 0.761900007724762, 0.7588000297546387, 0.7558000087738037, 0.7527999877929688, 0.7498000264167786, 0.7469000220298767, 0.7440999746322632, 0.7412999868392944, 0.7384999990463257, 0.73580002784729, 0.7330999970436096, 0.7304999828338623, 0.7279999852180481, 0.7254999876022339, 0.7231000065803528, 0.72079998254776, 0.718500018119812, 0.7164000272750854, 0.7142999768257141, 0.7123000025749207, 0.7103000283241272, 0.7085000276565552, 0.7067999839782715, 0.7052000164985657, 0.7037000060081482, 0.7023000121116638, 0.7009999752044678, 0.6998999714851379, 0.6988999843597412, 0.6980999708175659, 0.6973999738693237, 0.6969000101089478, 0.6965000033378601, 0.696399986743927], [1.0, 0.9962000250816345, 0.9923999905586243, 0.9886000156402588, 0.9848999977111816, 0.9811000227928162, 0.9772999882698059, 0.9735000133514404, 0.9696999788284302, 0.9660000205039978, 0.9621999859809875, 0.9584000110626221, 0.9545999765396118, 0.9509000182151794, 0.9470999836921692, 0.9433000087738037, 0.9395999908447266, 0.9358000159263611, 0.9319999814033508, 0.9283000230789185, 0.9244999885559082, 0.920799970626831, 0.9169999957084656, 0.9132999777793884, 0.909500002861023, 0.9057999849319458, 0.9021000266075134, 0.8982999920845032, 0.894599974155426, 0.8909000158309937, 0.8871999979019165, 0.8834999799728394, 0.879800021648407, 0.8761000037193298, 0.8723999857902527, 0.8687000274658203, 0.8651000261306763, 0.8614000082015991, 0.857699990272522, 0.8540999889373779, 0.8503999710083008, 0.8468000292778015, 0.8432000279426575, 0.8396000266075134, 0.8360000252723694, 0.8324000239372253, 0.8288000226020813, 0.8252999782562256, 0.8216999769210815, 0.8181999921798706, 0.8147000074386597, 0.8112000226974487, 0.807699978351593, 0.8043000102043152, 0.8008000254631042, 0.7973999977111816, 0.7940000295639038, 0.7906000018119812, 0.7871999740600586, 0.7839000225067139, 0.7806000113487244, 0.7773000001907349, 0.7739999890327454, 0.770799994468689, 0.7675999999046326, 0.7644000053405762, 0.7613000273704529, 0.7581999897956848, 0.7551000118255615, 0.7520999908447266, 0.7491000294685364, 0.7462000250816345, 0.7433000206947327, 0.7404999732971191, 0.7376999855041504, 0.7348999977111816, 0.732200026512146, 0.7296000123023987, 0.7269999980926514, 0.7245000004768372, 0.722000002861023, 0.7196999788284302, 0.7172999978065491, 0.7150999903678894, 0.7129999995231628, 0.7109000086784363, 0.708899974822998, 0.7070000171661377, 0.7052000164985657, 0.7035999894142151, 0.7020000219345093, 0.7005000114440918, 0.6991999745368958, 0.6980000138282776, 0.6970000267028809, 0.6960999965667725, 0.6952999830245972, 0.6948000192642212, 0.6944000124931335, 0.6941999793052673], [1.0, 0.9962000250816345, 0.9923999905586243, 0.9886000156402588, 0.9847999811172485, 0.9811000227928162, 0.9772999882698059, 0.9735000133514404, 0.9696999788284302, 0.9659000039100647, 0.9621999859809875, 0.9584000110626221, 0.9545999765396118, 0.9508000016212463, 0.9470999836921692, 0.9433000087738037, 0.9394999742507935, 0.935699999332428, 0.9319999814033508, 0.9282000064849854, 0.9244999885559082, 0.9207000136375427, 0.9169999957084656, 0.9132000207901001, 0.909500002861023, 0.9057000279426575, 0.9020000100135803, 0.8982999920845032, 0.8945000171661377, 0.8907999992370605, 0.8870999813079834, 0.883400022983551, 0.8797000050544739, 0.8759999871253967, 0.8723000288009644, 0.8686000108718872, 0.8648999929428101, 0.8611999750137329, 0.8575999736785889, 0.8539000153541565, 0.8503000140190125, 0.8465999960899353, 0.8429999947547913, 0.8393999934196472, 0.8357999920845032, 0.8321999907493591, 0.8285999894142151, 0.824999988079071, 0.8215000033378601, 0.8179000020027161, 0.8144000172615051, 0.8108999729156494, 0.8073999881744385, 0.8039000034332275, 0.8004999756813049, 0.796999990940094, 0.7936000227928162, 0.7901999950408936, 0.7868000268936157, 0.7833999991416931, 0.7800999879837036, 0.7767999768257141, 0.7735000252723694, 0.7702999711036682, 0.7670000195503235, 0.7638000249862671, 0.760699987411499, 0.7576000094413757, 0.7544999718666077, 0.7513999938964844, 0.7483999729156494, 0.7454000115394592, 0.7425000071525574, 0.7396000027656555, 0.7366999983787537, 0.734000027179718, 0.7311999797821045, 0.7285000085830688, 0.7258999943733215, 0.7232999801635742, 0.72079998254776, 0.7184000015258789, 0.7160000205039978, 0.713699996471405, 0.7114999890327454, 0.7093999981880188, 0.7073000073432922, 0.7053999900817871, 0.703499972820282, 0.7017999887466431, 0.7001000046730042, 0.6985999941825867, 0.6972000002861023, 0.695900022983551, 0.6948000192642212, 0.6937999725341797, 0.6930000185966492, 0.6923999786376953, 0.6919999718666077, 0.6916999816894531], [1.0, 0.9962000250816345, 0.9923999905586243, 0.9886000156402588, 0.9847999811172485, 0.9810000061988831, 0.9772999882698059, 0.9735000133514404, 0.9696999788284302, 0.9659000039100647, 0.9621000289916992, 0.958299994468689, 0.9545999765396118, 0.9508000016212463, 0.9470000267028809, 0.9431999921798706, 0.9394999742507935, 0.935699999332428, 0.9319000244140625, 0.9282000064849854, 0.9243999719619751, 0.9205999970436096, 0.9168999791145325, 0.913100004196167, 0.9093999862670898, 0.9056000113487244, 0.9018999934196472, 0.8981999754905701, 0.8944000005722046, 0.8906999826431274, 0.8870000243186951, 0.8833000063896179, 0.8794999718666077, 0.8758000135421753, 0.8720999956130981, 0.868399977684021, 0.864799976348877, 0.8611000180244446, 0.8574000000953674, 0.8536999821662903, 0.8500999808311462, 0.8464000225067139, 0.8428000211715698, 0.8392000198364258, 0.8355000019073486, 0.8319000005722046, 0.8282999992370605, 0.8248000144958496, 0.8212000131607056, 0.8176000118255615, 0.8141000270843506, 0.8105999827384949, 0.8069999814033508, 0.803600013256073, 0.8001000285148621, 0.7965999841690063, 0.7932000160217285, 0.7896999716758728, 0.786300003528595, 0.7829999923706055, 0.7796000242233276, 0.7763000130653381, 0.7730000019073486, 0.7696999907493591, 0.7663999795913696, 0.7631999850273132, 0.7599999904632568, 0.7567999958992004, 0.7537000179290771, 0.7505999803543091, 0.7476000189781189, 0.7444999814033508, 0.741599977016449, 0.7386000156402588, 0.7357000112533569, 0.7329000234603882, 0.7300999760627747, 0.727400004863739, 0.7246999740600586, 0.722100019454956, 0.7195000052452087, 0.7170000076293945, 0.7146000266075134, 0.7121999859809875, 0.7099000215530396, 0.7077000141143799, 0.7056000232696533, 0.7035999894142151, 0.7016000151634216, 0.6998000144958496, 0.6980000138282776, 0.696399986743927, 0.6948999762535095, 0.6935999989509583, 0.692300021648407, 0.6912999749183655, 0.6904000043869019, 0.6897000074386597, 0.6891999840736389, 0.6888999938964844], [1.0, 0.9962000250816345, 0.9923999905586243, 0.9886000156402588, 0.9847999811172485, 0.9810000061988831, 0.9771999716758728, 0.9735000133514404, 0.9696999788284302, 0.9659000039100647, 0.9621000289916992, 0.958299994468689, 0.9545000195503235, 0.9506999850273132, 0.9470000267028809, 0.9431999921798706, 0.9394000172615051, 0.9355999827384949, 0.9319000244140625, 0.9280999898910522, 0.9243000149726868, 0.9205999970436096, 0.9168000221252441, 0.913100004196167, 0.9093000292778015, 0.9054999947547913, 0.9017999768257141, 0.8981000185012817, 0.8942999839782715, 0.8906000256538391, 0.886900007724762, 0.8830999732017517, 0.8794000148773193, 0.8756999969482422, 0.871999979019165, 0.8683000206947327, 0.8646000027656555, 0.8608999848365784, 0.857200026512146, 0.8535000085830688, 0.8499000072479248, 0.8461999893188477, 0.8425999879837036, 0.8389000296592712, 0.8353000283241272, 0.8317000269889832, 0.8281000256538391, 0.8245000243186951, 0.820900022983551, 0.817300021648407, 0.8137999773025513, 0.8101999759674072, 0.8066999912261963, 0.8032000064849854, 0.7997000217437744, 0.7961999773979187, 0.7926999926567078, 0.7893000245094299, 0.7857999801635742, 0.7824000120162964, 0.7789999842643738, 0.7756999731063843, 0.7723000049591064, 0.7689999938011169, 0.7657999992370605, 0.762499988079071, 0.7592999935150146, 0.7560999989509583, 0.7529000043869019, 0.7498000264167786, 0.7466999888420105, 0.7436000108718872, 0.7405999898910522, 0.7376000285148621, 0.7347000241279602, 0.7318000197410583, 0.7289000153541565, 0.7261000275611877, 0.7233999967575073, 0.7207000255584717, 0.7181000113487244, 0.715499997138977, 0.7129999995231628, 0.7106000185012817, 0.7081999778747559, 0.7059000134468079, 0.7037000060081482, 0.7016000151634216, 0.6995999813079834, 0.6976000070571899, 0.6958000063896179, 0.694100022315979, 0.6924999952316284, 0.6909999847412109, 0.6895999908447266, 0.6883999705314636, 0.6873999834060669, 0.6866000294685364, 0.6859999895095825, 0.685699999332428], [1.0, 0.9962000250816345, 0.9923999905586243, 0.9886000156402588, 0.9847999811172485, 0.9810000061988831, 0.9771999716758728, 0.9733999967575073, 0.9696000218391418, 0.9659000039100647, 0.9621000289916992, 0.958299994468689, 0.9545000195503235, 0.9506999850273132, 0.9469000101089478, 0.9430999755859375, 0.9394000172615051, 0.9355999827384949, 0.9318000078201294, 0.9279999732971191, 0.9243000149726868, 0.9204999804496765, 0.916700005531311, 0.9129999876022339, 0.9092000126838684, 0.9053999781608582, 0.9017000198364258, 0.8978999853134155, 0.8942000269889832, 0.890500009059906, 0.8866999745368958, 0.8830000162124634, 0.8792999982833862, 0.8755000233650208, 0.8718000054359436, 0.8680999875068665, 0.8644000291824341, 0.8607000112533569, 0.8569999933242798, 0.8532999753952026, 0.8496999740600586, 0.8460000157356262, 0.8422999978065491, 0.838699996471405, 0.8349999785423279, 0.8313999772071838, 0.8277999758720398, 0.8241999745368958, 0.8205999732017517, 0.8169999718666077, 0.8133999705314636, 0.8098000288009644, 0.8062999844551086, 0.8026999831199646, 0.7991999983787537, 0.7957000136375427, 0.7922000288963318, 0.7888000011444092, 0.7853000164031982, 0.7818999886512756, 0.7785000205039978, 0.7750999927520752, 0.7717000246047974, 0.7684000134468079, 0.7649999856948853, 0.7616999745368958, 0.7584999799728394, 0.7552000284194946, 0.7519999742507935, 0.7488999962806702, 0.7457000017166138, 0.7426000237464905, 0.7394999861717224, 0.7365000247955322, 0.7335000038146973, 0.7305999994277954, 0.7276999950408936, 0.7247999906539917, 0.722000002861023, 0.7192999720573425, 0.7166000008583069, 0.7139000296592712, 0.7113999724388123, 0.7088000178337097, 0.7063999772071838, 0.7039999961853027, 0.70169997215271, 0.6995000243186951, 0.6973999738693237, 0.6952999830245972, 0.6934000253677368, 0.6915000081062317, 0.6898000240325928, 0.6881999969482422, 0.6866999864578247, 0.6852999925613403, 0.6840999722480774, 0.6832000017166138, 0.6823999881744385, 0.6819999814033508], [1.0, 0.9962000250816345, 0.9923999905586243, 0.9886000156402588, 0.9847999811172485, 0.9810000061988831, 0.9771999716758728, 0.9733999967575073, 0.9696000218391418, 0.9657999873161316, 0.9620000123977661, 0.9581999778747559, 0.9544000029563904, 0.9506999850273132, 0.9469000101089478, 0.9430999755859375, 0.939300000667572, 0.9355000257492065, 0.9316999912261963, 0.9279999732971191, 0.9241999983787537, 0.9204000234603882, 0.9165999889373779, 0.9128999710083008, 0.9090999960899353, 0.9053000211715698, 0.9016000032424927, 0.8978000283241272, 0.89410001039505, 0.8902999758720398, 0.8866000175476074, 0.8827999830245972, 0.8791000247001648, 0.8754000067710876, 0.8716999888420105, 0.867900013923645, 0.8641999959945679, 0.8604999780654907, 0.8568000197410583, 0.8531000018119812, 0.849399983882904, 0.8457000255584717, 0.8421000242233276, 0.8384000062942505, 0.8346999883651733, 0.8310999870300293, 0.8274999856948853, 0.8238000273704529, 0.8202000260353088, 0.8166000247001648, 0.8130000233650208, 0.8094000220298767, 0.805899977684021, 0.802299976348877, 0.798799991607666, 0.795199990272522, 0.791700005531311, 0.7882000207901001, 0.7846999764442444, 0.7813000082969666, 0.7778000235557556, 0.774399995803833, 0.7710000276565552, 0.7675999999046326, 0.7642999887466431, 0.7609999775886536, 0.7576000094413757, 0.7544000148773193, 0.7511000037193298, 0.7479000091552734, 0.744700014591217, 0.741599977016449, 0.7383999824523926, 0.7354000210762024, 0.7322999835014343, 0.7293000221252441, 0.7263000011444092, 0.7233999967575073, 0.7206000089645386, 0.7177000045776367, 0.7149999737739563, 0.7121999859809875, 0.7095999717712402, 0.7070000171661377, 0.7045000195503235, 0.7020000219345093, 0.6995999813079834, 0.6973000168800354, 0.6949999928474426, 0.692799985408783, 0.6908000111579895, 0.6887999773025513, 0.6869000196456909, 0.6851000189781189, 0.6834999918937683, 0.6819000244140625, 0.6805999875068665, 0.6793000102043152, 0.6783000230789185, 0.6775000095367432], [1.0, 0.9962000250816345, 0.9923999905586243, 0.9886000156402588, 0.9847999811172485, 0.9810000061988831, 0.9771999716758728, 0.9733999967575073, 0.9696000218391418, 0.9657999873161316, 0.9620000123977661, 0.9581999778747559, 0.9544000029563904, 0.9506000280380249, 0.9467999935150146, 0.9430000185966492, 0.9391999840736389, 0.9355000257492065, 0.9316999912261963, 0.9279000163078308, 0.9240999817848206, 0.9203000068664551, 0.9164999723434448, 0.9128000140190125, 0.9089999794960022, 0.9052000045776367, 0.9014999866485596, 0.8977000117301941, 0.8938999772071838, 0.8902000188827515, 0.8863999843597412, 0.8827000260353088, 0.8788999915122986, 0.8751999735832214, 0.8715000152587891, 0.8676999807357788, 0.8640000224113464, 0.8603000044822693, 0.8565999865531921, 0.8529000282287598, 0.8492000102996826, 0.8454999923706055, 0.8417999744415283, 0.838100016117096, 0.8343999981880188, 0.8307999968528748, 0.8270999789237976, 0.8234999775886536, 0.8198000192642212, 0.8162000179290771, 0.8126000165939331, 0.8090000152587891, 0.805400013923645, 0.801800012588501, 0.79830002784729, 0.794700026512146, 0.7911999821662903, 0.7876999974250793, 0.7840999960899353, 0.7807000279426575, 0.7771999835968018, 0.7736999988555908, 0.7702999711036682, 0.7669000029563904, 0.7634999752044678, 0.7601000070571899, 0.7567999958992004, 0.7534999847412109, 0.7501999735832214, 0.7469000220298767, 0.7437000274658203, 0.7404999732971191, 0.7372999787330627, 0.7340999841690063, 0.7310000061988831, 0.7279999852180481, 0.7249000072479248, 0.722000002861023, 0.718999981880188, 0.7160999774932861, 0.7132999897003174, 0.7105000019073486, 0.7077000141143799, 0.7049999833106995, 0.7024000287055969, 0.6998000144958496, 0.6973000168800354, 0.6948999762535095, 0.6924999952316284, 0.6901999711990356, 0.6880000233650208, 0.6858999729156494, 0.683899998664856, 0.6819000244140625, 0.6801000237464905, 0.6783000230789185, 0.6766999959945679, 0.6751999855041504, 0.673799991607666, 0.6725000143051147], [1.0, 0.9962000250816345, 0.9923999905586243, 0.9886000156402588, 0.9847999811172485, 0.9810000061988831, 0.9771999716758728, 0.9733999967575073, 0.9696000218391418, 0.9657999873161316, 0.9620000123977661, 0.9581999778747559, 0.9544000029563904, 0.9506000280380249, 0.9467999935150146, 0.9430000185966492, 0.9391999840736389, 0.9354000091552734, 0.9315999746322632, 0.9277999997138977, 0.9240000247955322, 0.920199990272522, 0.9164999723434448, 0.9126999974250793, 0.9089000225067139, 0.9050999879837036, 0.9013000130653381, 0.897599995136261, 0.8938000202178955, 0.8899999856948853, 0.8863000273704529, 0.8824999928474426, 0.8787999749183655, 0.875, 0.8712999820709229, 0.8675000071525574, 0.8637999892234802, 0.8600999712944031, 0.8564000129699707, 0.8525999784469604, 0.8489000201225281, 0.8452000021934509, 0.8414999842643738, 0.8378000259399414, 0.8341000080108643, 0.8305000066757202, 0.8267999887466431, 0.8230999708175659, 0.8195000290870667, 0.8158000111579895, 0.8122000098228455, 0.8086000084877014, 0.8048999905586243, 0.8012999892234802, 0.7978000044822693, 0.7942000031471252, 0.7906000018119812, 0.7871000170707703, 0.7835000157356262, 0.7799999713897705, 0.7764999866485596, 0.7730000019073486, 0.7695000171661377, 0.7660999894142151, 0.7627000212669373, 0.7591999769210815, 0.7559000253677368, 0.7524999976158142, 0.7491999864578247, 0.7458000183105469, 0.7426000237464905, 0.739300012588501, 0.7361000180244446, 0.7329000234603882, 0.7297000288963318, 0.7265999913215637, 0.7235000133514404, 0.7203999757766724, 0.7174000144004822, 0.7143999934196472, 0.7114999890327454, 0.7085999846458435, 0.7057999968528748, 0.703000009059906, 0.7002999782562256, 0.6976000070571899, 0.6949999928474426, 0.6923999786376953, 0.6898999810218811, 0.6875, 0.6851000189781189, 0.6829000115394592, 0.6807000041007996, 0.678600013256073, 0.6765000224113464, 0.6746000051498413, 0.6726999878883362, 0.6708999872207642, 0.6692000031471252, 0.6675000190734863], [1.0, 0.9962000250816345, 0.9923999905586243, 0.9886000156402588, 0.9847999811172485, 0.98089998960495, 0.9771000146865845, 0.9732999801635742, 0.9695000052452087, 0.9656999707221985, 0.961899995803833, 0.9581000208854675, 0.9542999863624573, 0.9505000114440918, 0.9466999769210815, 0.9429000020027161, 0.9391000270843506, 0.9352999925613403, 0.9315000176429749, 0.9276999831199646, 0.9239000082015991, 0.9200999736785889, 0.9164000153541565, 0.9125999808311462, 0.9088000059127808, 0.9049999713897705, 0.901199996471405, 0.8974000215530396, 0.8937000036239624, 0.8899000287055969, 0.8860999941825867, 0.8823999762535095, 0.878600001335144, 0.8748000264167786, 0.8711000084877014, 0.8672999739646912, 0.8636000156402588, 0.8598999977111816, 0.8561000227928162, 0.852400004863739, 0.8486999869346619, 0.8449000120162964, 0.8411999940872192, 0.8374999761581421, 0.8338000178337097, 0.8300999999046326, 0.8263999819755554, 0.822700023651123, 0.819100022315979, 0.8154000043869019, 0.8116999864578247, 0.8080999851226807, 0.8044999837875366, 0.8008000254631042, 0.7972000241279602, 0.7936000227928162, 0.7900000214576721, 0.7864000201225281, 0.7828999757766724, 0.7792999744415283, 0.7757999897003174, 0.7723000049591064, 0.7688000202178955, 0.7652999758720398, 0.7617999911308289, 0.7583000063896179, 0.7548999786376953, 0.7515000104904175, 0.7480999827384949, 0.744700014591217, 0.7414000034332275, 0.738099992275238, 0.7347999811172485, 0.7315000295639038, 0.7282999753952026, 0.7250999808311462, 0.7218999862670898, 0.7188000082969666, 0.7156999707221985, 0.7127000093460083, 0.7095999717712402, 0.7067000269889832, 0.7037000060081482, 0.7008000016212463, 0.6980000138282776, 0.6952000260353088, 0.6924999952316284, 0.6898000240325928, 0.6872000098228455, 0.6845999956130981, 0.6820999979972839, 0.6797000169754028, 0.677299976348877, 0.675000011920929, 0.6728000044822693, 0.6707000136375427, 0.6685000061988831, 0.6664999723434448, 0.6644999980926514, 0.6625000238418579], [1.0, 0.9962000250816345, 0.9923999905586243, 0.9886000156402588, 0.9847000241279602, 0.98089998960495, 0.9771000146865845, 0.9732999801635742, 0.9695000052452087, 0.9656999707221985, 0.961899995803833, 0.9581000208854675, 0.9542999863624573, 0.9505000114440918, 0.9466999769210815, 0.942799985408783, 0.9390000104904175, 0.9351999759674072, 0.9314000010490417, 0.9276000261306763, 0.923799991607666, 0.9200000166893005, 0.9162999987602234, 0.9125000238418579, 0.9086999893188477, 0.9049000144004822, 0.9010999798774719, 0.8973000049591064, 0.8934999704360962, 0.8896999955177307, 0.8859999775886536, 0.8822000026702881, 0.8784000277519226, 0.8747000098228455, 0.8708999752998352, 0.8671000003814697, 0.8633999824523926, 0.8596000075340271, 0.85589998960495, 0.8521000146865845, 0.8483999967575073, 0.8446000218391418, 0.8409000039100647, 0.8371999859809875, 0.8335000276565552, 0.829800009727478, 0.8260999917984009, 0.8223999738693237, 0.8187000155448914, 0.8149999976158142, 0.8112999796867371, 0.8076000213623047, 0.8040000200271606, 0.8003000020980835, 0.7967000007629395, 0.7929999828338623, 0.7893999814987183, 0.7857999801635742, 0.7821999788284302, 0.7785999774932861, 0.7749999761581421, 0.7714999914169312, 0.7678999900817871, 0.7644000053405762, 0.7609000205993652, 0.7573999762535095, 0.7538999915122986, 0.7505000233650208, 0.746999979019165, 0.7436000108718872, 0.7401999831199646, 0.7368000149726868, 0.7335000038146973, 0.7301999926567078, 0.7268999814987183, 0.7235999703407288, 0.720300018787384, 0.7171000242233276, 0.7139999866485596, 0.7107999920845032, 0.7077000141143799, 0.7045999765396118, 0.7016000151634216, 0.6985999941825867, 0.6956999897956848, 0.692799985408783, 0.6898999810218811, 0.6870999932289124, 0.6844000220298767, 0.6816999912261963, 0.6790000200271606, 0.6764000058174133, 0.6739000082015991, 0.6714000105857849, 0.6690000295639038, 0.6665999889373779, 0.6643000245094299, 0.6620000004768372, 0.6597999930381775, 0.6575000286102295], [1.0, 0.9962000250816345, 0.9923999905586243, 0.9884999990463257, 0.9847000241279602, 0.98089998960495, 0.9771000146865845, 0.9732999801635742, 0.9695000052452087, 0.9656999707221985, 0.9617999792098999, 0.9580000042915344, 0.954200029373169, 0.9503999948501587, 0.9466000199317932, 0.942799985408783, 0.9390000104904175, 0.9351999759674072, 0.9314000010490417, 0.9276000261306763, 0.923799991607666, 0.9199000000953674, 0.916100025177002, 0.9122999906539917, 0.9085999727249146, 0.9047999978065491, 0.9010000228881836, 0.8971999883651733, 0.8934000134468079, 0.8895999789237976, 0.8858000040054321, 0.8820000290870667, 0.8781999945640564, 0.8744999766349792, 0.8707000017166138, 0.8669000267982483, 0.863099992275238, 0.8593999743461609, 0.8555999994277954, 0.8518999814987183, 0.8481000065803528, 0.8443999886512756, 0.8406000137329102, 0.836899995803833, 0.8331000208854675, 0.8294000029563904, 0.8256999850273132, 0.8220000267028809, 0.8181999921798706, 0.8144999742507935, 0.8108000159263611, 0.8070999979972839, 0.8034999966621399, 0.7997999787330627, 0.7961000204086304, 0.7924000024795532, 0.7888000011444092, 0.785099983215332, 0.781499981880188, 0.777899980545044, 0.7742999792098999, 0.7706999778747559, 0.7670999765396118, 0.7634999752044678, 0.7599999904632568, 0.7563999891281128, 0.7529000043869019, 0.7494000196456909, 0.7458999752998352, 0.7423999905586243, 0.7390000224113464, 0.7354999780654907, 0.7321000099182129, 0.7286999821662903, 0.7253999710083008, 0.722000002861023, 0.7186999917030334, 0.715399980545044, 0.7121999859809875, 0.708899974822998, 0.7056999802589417, 0.7026000022888184, 0.699400007724762, 0.6963000297546387, 0.6933000087738037, 0.6902999877929688, 0.6873000264167786, 0.6844000220298767, 0.6815000176429749, 0.678600013256073, 0.6758000254631042, 0.6730999946594238, 0.6704000234603882, 0.6676999926567078, 0.6650999784469604, 0.6625000238418579, 0.6600000262260437, 0.6575000286102295, 0.6549999713897705, 0.6524999737739563], [1.0, 0.9962000250816345, 0.9922999739646912, 0.9884999990463257, 0.9847000241279602, 0.98089998960495, 0.9771000146865845, 0.9732999801635742, 0.9693999886512756, 0.9656000137329102, 0.9617999792098999, 0.9580000042915344, 0.954200029373169, 0.9502999782562256, 0.9465000033378601, 0.9427000284194946, 0.9388999938964844, 0.9351000189781189, 0.9312999844551086, 0.9275000095367432, 0.9236999750137329, 0.9197999835014343, 0.9160000085830688, 0.9121999740600586, 0.9083999991416931, 0.9046000242233276, 0.9007999897003174, 0.8970000147819519, 0.8931999802589417, 0.8894000053405762, 0.8855999708175659, 0.8817999958992004, 0.878000020980835, 0.8743000030517578, 0.8705000281333923, 0.8666999936103821, 0.8629000186920166, 0.8590999841690063, 0.855400025844574, 0.8515999913215637, 0.8478000164031982, 0.843999981880188, 0.8403000235557556, 0.8364999890327454, 0.8327999711036682, 0.8289999961853027, 0.8252999782562256, 0.8215000033378601, 0.817799985408783, 0.8141000270843506, 0.8104000091552734, 0.8065999746322632, 0.8029000163078308, 0.7991999983787537, 0.7954999804496765, 0.7918000221252441, 0.788100004196167, 0.784500002861023, 0.7807999849319458, 0.7771999835968018, 0.7735000252723694, 0.7699000239372253, 0.7662000060081482, 0.7626000046730042, 0.7590000033378601, 0.7554000020027161, 0.7519000172615051, 0.7483000159263611, 0.7447999715805054, 0.7411999702453613, 0.7376999855041504, 0.7342000007629395, 0.7307000160217285, 0.7272999882698059, 0.723800003528595, 0.7203999757766724, 0.7170000076293945, 0.713699996471405, 0.7103000283241272, 0.7070000171661377, 0.7037000060081482, 0.7003999948501587, 0.6972000002861023, 0.6940000057220459, 0.6908000111579895, 0.6876999735832214, 0.6845999956130981, 0.6815000176429749, 0.6784999966621399, 0.6754999756813049, 0.6725999712944031, 0.669700026512146, 0.6668000221252441, 0.6639999747276306, 0.6611999869346619, 0.6583999991416931, 0.6556000113487244, 0.652899980545044, 0.6502000093460083, 0.6474999785423279], [1.0, 0.9962000250816345, 0.9922999739646912, 0.9884999990463257, 0.9847000241279602, 0.98089998960495, 0.9769999980926514, 0.9732000231742859, 0.9693999886512756, 0.9656000137329102, 0.9617999792098999, 0.9578999876976013, 0.9541000127792358, 0.9502999782562256, 0.9465000033378601, 0.9426000118255615, 0.9387999773025513, 0.9350000023841858, 0.9312000274658203, 0.9273999929428101, 0.9236000180244446, 0.919700026512146, 0.9158999919891357, 0.9121000170707703, 0.90829998254776, 0.9045000076293945, 0.9006999731063843, 0.8968999981880188, 0.8931000232696533, 0.8892999887466431, 0.8855000138282776, 0.8816999793052673, 0.8779000043869019, 0.8741000294685364, 0.8702999949455261, 0.8665000200271606, 0.8626999855041504, 0.8589000105857849, 0.8550999760627747, 0.8513000011444092, 0.8475000262260437, 0.8436999917030334, 0.8399999737739563, 0.8361999988555908, 0.8324000239372253, 0.8285999894142151, 0.8248999714851379, 0.8210999965667725, 0.8173999786376953, 0.8136000037193298, 0.8098999857902527, 0.8061000108718872, 0.8023999929428101, 0.7986999750137329, 0.7949000000953674, 0.7911999821662903, 0.7875000238418579, 0.7838000059127808, 0.7800999879837036, 0.7764000296592712, 0.7727000117301941, 0.7689999938011169, 0.7653999924659729, 0.7616999745368958, 0.7580999732017517, 0.7544000148773193, 0.7508000135421753, 0.7472000122070312, 0.7436000108718872, 0.7400000095367432, 0.7364000082015991, 0.7329000234603882, 0.7293000221252441, 0.7257999777793884, 0.7222999930381775, 0.7188000082969666, 0.7153000235557556, 0.7117999792098999, 0.7084000110626221, 0.7049999833106995, 0.7016000151634216, 0.698199987411499, 0.6948999762535095, 0.6916000247001648, 0.6883000135421753, 0.6851000189781189, 0.6818000078201294, 0.678600013256073, 0.6754999756813049, 0.6722999811172485, 0.6692000031471252, 0.6661999821662903, 0.663100004196167, 0.660099983215332, 0.6571000218391418, 0.65420001745224, 0.6513000130653381, 0.6482999920845032, 0.6453999876976013, 0.6424999833106995], [1.0, 0.9962000250816345, 0.9922999739646912, 0.9884999990463257, 0.9847000241279602, 0.9807999730110168, 0.9769999980926514, 0.9732000231742859, 0.9693999886512756, 0.965499997138977, 0.9617000222206116, 0.9578999876976013, 0.9541000127792358, 0.9502000212669373, 0.946399986743927, 0.9426000118255615, 0.9387999773025513, 0.9348999857902527, 0.9311000108718872, 0.927299976348877, 0.9235000014305115, 0.9196000099182129, 0.9157999753952026, 0.9120000004768372, 0.9082000255584717, 0.9043999910354614, 0.9004999995231628, 0.8967000246047974, 0.8928999900817871, 0.8891000151634216, 0.8852999806404114, 0.8815000057220459, 0.8776999711990356, 0.8737999796867371, 0.8700000047683716, 0.8661999702453613, 0.8623999953269958, 0.8586000204086304, 0.8547999858856201, 0.8510000109672546, 0.8471999764442444, 0.8434000015258789, 0.8396000266075134, 0.8357999920845032, 0.8320000171661377, 0.8282999992370605, 0.8245000243186951, 0.8206999897956848, 0.8169000148773193, 0.8130999803543091, 0.8094000220298767, 0.8055999875068665, 0.801800012588501, 0.7980999946594238, 0.7943000197410583, 0.7906000018119812, 0.7868000268936157, 0.7831000089645386, 0.7793999910354614, 0.775600016117096, 0.7718999981880188, 0.7681999802589417, 0.7645000219345093, 0.7608000040054321, 0.757099986076355, 0.7534000277519226, 0.7497000098228455, 0.7459999918937683, 0.7423999905586243, 0.7386999726295471, 0.7350999712944031, 0.7315000295639038, 0.7279000282287598, 0.7243000268936157, 0.7207000255584717, 0.7171000242233276, 0.7135000228881836, 0.7099999785423279, 0.7064999938011169, 0.703000009059906, 0.6995000243186951, 0.6959999799728394, 0.6926000118255615, 0.6891999840736389, 0.6858000159263611, 0.6823999881744385, 0.6790000200271606, 0.6757000088691711, 0.6723999977111816, 0.6690999865531921, 0.6658999919891357, 0.6625999808311462, 0.6593999862670898, 0.6563000082969666, 0.6531000137329102, 0.6499999761581421, 0.6467999815940857, 0.6437000036239624, 0.6406000256538391, 0.637499988079071], [1.0, 0.9962000250816345, 0.9922999739646912, 0.9884999990463257, 0.9847000241279602, 0.9807999730110168, 0.9769999980926514, 0.9732000231742859, 0.9692999720573425, 0.965499997138977, 0.9617000222206116, 0.9577999711036682, 0.9539999961853027, 0.9502000212669373, 0.9463000297546387, 0.9424999952316284, 0.9387000203132629, 0.9348999857902527, 0.9309999942779541, 0.9272000193595886, 0.9233999848365784, 0.9194999933242798, 0.9157000184059143, 0.911899983882904, 0.9081000089645386, 0.90420001745224, 0.9003999829292297, 0.8966000080108643, 0.892799973487854, 0.8888999819755554, 0.8851000070571899, 0.8812999725341797, 0.8774999976158142, 0.8736000061035156, 0.8697999715805054, 0.8659999966621399, 0.8622000217437744, 0.8583999872207642, 0.8544999957084656, 0.8507000207901001, 0.8468999862670898, 0.8431000113487244, 0.8392999768257141, 0.8355000019073486, 0.8317000269889832, 0.8278999924659729, 0.8241000175476074, 0.8202999830245972, 0.8165000081062317, 0.8126999735832214, 0.808899998664856, 0.8051000237464905, 0.8012999892234802, 0.7975000143051147, 0.7936999797821045, 0.789900004863739, 0.7861999869346619, 0.7824000120162964, 0.7785999774932861, 0.7748000025749207, 0.7710999846458435, 0.767300009727478, 0.7635999917984009, 0.7598000168800354, 0.7560999989509583, 0.7523000240325928, 0.7486000061035156, 0.7448999881744385, 0.7411999702453613, 0.737500011920929, 0.7337999939918518, 0.7300999760627747, 0.7264000177383423, 0.7226999998092651, 0.7190999984741211, 0.715399980545044, 0.7117999792098999, 0.7081000208854675, 0.7045000195503235, 0.7009000182151794, 0.6973000168800354, 0.6937999725341797, 0.6901999711990356, 0.6866999864578247, 0.6832000017166138, 0.6797000169754028, 0.6761999726295471, 0.6726999878883362, 0.6693000197410583, 0.6657999753952026, 0.6624000072479248, 0.6590999960899353, 0.6557000279426575, 0.6523000001907349, 0.6489999890327454, 0.6456999778747559, 0.6424000263214111, 0.6391000151634216, 0.6358000040054321, 0.6324999928474426], [1.0, 0.9961000084877014, 0.9922999739646912, 0.9884999990463257, 0.9846000075340271, 0.9807999730110168, 0.9769999980926514, 0.9731000065803528, 0.9692999720573425, 0.965499997138977, 0.9616000056266785, 0.9577999711036682, 0.9538999795913696, 0.9501000046730042, 0.9463000297546387, 0.9423999786376953, 0.9386000037193298, 0.9348000288009644, 0.930899977684021, 0.9271000027656555, 0.92330002784729, 0.9193999767303467, 0.9156000018119812, 0.9118000268936157, 0.9078999757766724, 0.9041000008583069, 0.9003000259399414, 0.896399974822998, 0.8925999999046326, 0.8888000249862671, 0.8848999738693237, 0.8810999989509583, 0.8773000240325928, 0.8733999729156494, 0.8695999979972839, 0.8658000230789185, 0.8618999719619751, 0.8580999970436096, 0.8543000221252441, 0.8503999710083008, 0.8465999960899353, 0.8428000211715698, 0.8389999866485596, 0.835099995136261, 0.8313000202178955, 0.8274999856948853, 0.8237000107765198, 0.8198000192642212, 0.8159999847412109, 0.8122000098228455, 0.8083999752998352, 0.8044999837875366, 0.8007000088691711, 0.7968999743461609, 0.7930999994277954, 0.7893000245094299, 0.7854999899864197, 0.7817000150680542, 0.777899980545044, 0.7741000056266785, 0.7702999711036682, 0.7664999961853027, 0.7627000212669373, 0.758899986743927, 0.7551000118255615, 0.7512999773025513, 0.7475000023841858, 0.7437000274658203, 0.7398999929428101, 0.7361999750137329, 0.7324000000953674, 0.7286999821662903, 0.7249000072479248, 0.7211999893188477, 0.7174000144004822, 0.713699996471405, 0.7099999785423279, 0.7062000036239624, 0.7024999856948853, 0.6988000273704529, 0.6952000260353088, 0.6915000081062317, 0.6877999901771545, 0.6841999888420105, 0.6804999709129333, 0.6769000291824341, 0.67330002784729, 0.669700026512146, 0.666100025177002, 0.6625000238418579, 0.6589999794960022, 0.6554999947547913, 0.6518999934196472, 0.6484000086784363, 0.6449000239372253, 0.6413999795913696, 0.6378999948501587, 0.6345000267028809, 0.6309999823570251, 0.6274999976158142], [1.0, 0.9961000084877014, 0.9922999739646912, 0.9884999990463257, 0.9846000075340271, 0.9807999730110168, 0.9768999814987183, 0.9731000065803528, 0.9692999720573425, 0.965399980545044, 0.9616000056266785, 0.9577000141143799, 0.9538999795913696, 0.9501000046730042, 0.9462000131607056, 0.9423999786376953, 0.9384999871253967, 0.9347000122070312, 0.9308000206947327, 0.9269999861717224, 0.9232000112533569, 0.9193000197410583, 0.9154999852180481, 0.9115999937057495, 0.907800018787384, 0.9039999842643738, 0.9000999927520752, 0.8963000178337097, 0.8924000263214111, 0.8885999917984009, 0.8847000002861023, 0.8809000253677368, 0.8770999908447266, 0.873199999332428, 0.8694000244140625, 0.8654999732971191, 0.8616999983787537, 0.8578000068664551, 0.8539999723434448, 0.8501999974250793, 0.8463000059127808, 0.8424999713897705, 0.8385999798774719, 0.8348000049591064, 0.8309000134468079, 0.8270999789237976, 0.823199987411499, 0.8194000124931335, 0.8155999779701233, 0.8116999864578247, 0.8079000115394592, 0.8040000200271606, 0.8001999855041504, 0.7962999939918518, 0.7925000190734863, 0.7886000275611877, 0.7847999930381775, 0.781000018119812, 0.7771000266075134, 0.7732999920845032, 0.7694000005722046, 0.7656000256538391, 0.7616999745368958, 0.7578999996185303, 0.7541000247001648, 0.7501999735832214, 0.746399998664856, 0.7425000071525574, 0.7386999726295471, 0.7348999977111816, 0.7311000227928162, 0.7271999716758728, 0.7233999967575073, 0.7196000218391418, 0.7157999873161316, 0.7120000123977661, 0.7081000208854675, 0.7042999863624573, 0.7005000114440918, 0.6966999769210815, 0.6930000185966492, 0.6891999840736389, 0.6854000091552734, 0.6815999746322632, 0.6779000163078308, 0.6740999817848206, 0.6704000234603882, 0.666700005531311, 0.6628999710083008, 0.6592000126838684, 0.6554999947547913, 0.6517999768257141, 0.6481000185012817, 0.6445000171661377, 0.6407999992370605, 0.6370999813079834, 0.6334999799728394, 0.629800021648407, 0.6262000203132629, 0.6225000023841858], [1.0, 0.9961000084877014, 0.9922999739646912, 0.9884999990463257, 0.9846000075340271, 0.9807999730110168, 0.9768999814987183, 0.9731000065803528, 0.9692000150680542, 0.965399980545044, 0.9614999890327454, 0.9577000141143799, 0.9538000226020813, 0.949999988079071, 0.9460999965667725, 0.942300021648407, 0.9384999871253967, 0.9345999956130981, 0.9308000206947327, 0.9269000291824341, 0.9230999946594238, 0.9192000031471252, 0.9154000282287598, 0.9114999771118164, 0.9077000021934509, 0.9038000106811523, 0.8999999761581421, 0.8960999846458435, 0.892300009727478, 0.8884000182151794, 0.8845999836921692, 0.8806999921798706, 0.8769000172615051, 0.8730000257492065, 0.8690999746322632, 0.8652999997138977, 0.8614000082015991, 0.8575999736785889, 0.8536999821662903, 0.8499000072479248, 0.8460000157356262, 0.8421000242233276, 0.8382999897003174, 0.8343999981880188, 0.8306000232696533, 0.82669997215271, 0.8227999806404114, 0.8190000057220459, 0.8151000142097473, 0.8112000226974487, 0.8073999881744385, 0.8034999966621399, 0.7996000051498413, 0.7957000136375427, 0.7918999791145325, 0.7879999876022339, 0.7840999960899353, 0.7802000045776367, 0.7764000296592712, 0.7724999785423279, 0.7685999870300293, 0.7646999955177307, 0.7608000040054321, 0.7569000124931335, 0.753000020980835, 0.7491999864578247, 0.7452999949455261, 0.7414000034332275, 0.737500011920929, 0.7336000204086304, 0.7297000288963318, 0.7257999777793884, 0.7218999862670898, 0.7179999947547913, 0.7141000032424927, 0.7102000117301941, 0.7063000202178955, 0.7024000287055969, 0.6984999775886536, 0.694599986076355, 0.6908000111579895, 0.6869000196456909, 0.6830000281333923, 0.679099977016449, 0.6751999855041504, 0.6712999939918518, 0.6675000190734863, 0.6636000275611877, 0.6596999764442444, 0.6559000015258789, 0.6520000100135803, 0.6481999754905701, 0.6442999839782715, 0.640500009059906, 0.6366999745368958, 0.6327999830245972, 0.6290000081062317, 0.6251999735832214, 0.621399998664856, 0.6175000071525574], [1.0, 0.9961000084877014, 0.9922999739646912, 0.9883999824523926, 0.9846000075340271, 0.9807000160217285, 0.9768999814987183, 0.9729999899864197, 0.9692000150680542, 0.9653000235557556, 0.9614999890327454, 0.9575999975204468, 0.9538000226020813, 0.9498999714851379, 0.9460999965667725, 0.9422000050544739, 0.9383999705314636, 0.934499979019165, 0.9307000041007996, 0.926800012588501, 0.9229999780654907, 0.9190999865531921, 0.9153000116348267, 0.9114000201225281, 0.9075000286102295, 0.9036999940872192, 0.8998000025749207, 0.8960000276565552, 0.8920999765396118, 0.8881999850273132, 0.8844000101089478, 0.8805000185966492, 0.8766999840736389, 0.8727999925613403, 0.8689000010490417, 0.8651000261306763, 0.8611999750137329, 0.8572999835014343, 0.8533999919891357, 0.8496000170707703, 0.8457000255584717, 0.8417999744415283, 0.8378999829292297, 0.8341000080108643, 0.8302000164985657, 0.8263000249862671, 0.8223999738693237, 0.8184999823570251, 0.8145999908447266, 0.810699999332428, 0.8069000244140625, 0.8029999732971191, 0.7990999817848206, 0.795199990272522, 0.7911999821662903, 0.7872999906539917, 0.7833999991416931, 0.7795000076293945, 0.775600016117096, 0.7717000246047974, 0.767799973487854, 0.7638000249862671, 0.7598999738693237, 0.7559999823570251, 0.7519999742507935, 0.7480999827384949, 0.7440999746322632, 0.7401999831199646, 0.7361999750137329, 0.7322999835014343, 0.7282999753952026, 0.724399983882904, 0.7203999757766724, 0.7164000272750854, 0.7124999761581421, 0.7085000276565552, 0.7045000195503235, 0.7005000114440918, 0.6965000033378601, 0.6924999952316284, 0.6884999871253967, 0.684499979019165, 0.6804999709129333, 0.6765000224113464, 0.6725000143051147, 0.6685000061988831, 0.6644999980926514, 0.6604999899864197, 0.656499981880188, 0.6524999737739563, 0.6485000252723694, 0.6445000171661377, 0.640500009059906, 0.6365000009536743, 0.6324999928474426, 0.6284999847412109, 0.6244999766349792, 0.6205000281333923, 0.6165000200271606, 0.612500011920929], [1.0, 0.9961000084877014, 0.9922999739646912, 0.9883999824523926, 0.9846000075340271, 0.9807000160217285, 0.9768999814987183, 0.9729999899864197, 0.9692000150680542, 0.9653000235557556, 0.9613999724388123, 0.9575999975204468, 0.9537000060081482, 0.9498999714851379, 0.9459999799728394, 0.9422000050544739, 0.9383000135421753, 0.9344000220298767, 0.9305999875068665, 0.9266999959945679, 0.9229000210762024, 0.9190000295639038, 0.9150999784469604, 0.911300003528595, 0.9074000120162964, 0.9035999774932861, 0.8996999859809875, 0.895799994468689, 0.8919000029563904, 0.8881000280380249, 0.8841999769210815, 0.880299985408783, 0.8765000104904175, 0.8726000189781189, 0.8687000274658203, 0.864799976348877, 0.8608999848365784, 0.8571000099182129, 0.8532000184059143, 0.8493000268936157, 0.8453999757766724, 0.8414999842643738, 0.8375999927520752, 0.8337000012397766, 0.829800009727478, 0.8259000182151794, 0.8220000267028809, 0.8180999755859375, 0.8141999840736389, 0.8102999925613403, 0.8064000010490417, 0.8023999929428101, 0.7985000014305115, 0.7946000099182129, 0.7906000018119812, 0.7867000102996826, 0.782800018787384, 0.7788000106811523, 0.7749000191688538, 0.7709000110626221, 0.7669000029563904, 0.7630000114440918, 0.7590000033378601, 0.7549999952316284, 0.7509999871253967, 0.746999979019165, 0.7429999709129333, 0.7390000224113464, 0.7350000143051147, 0.7310000061988831, 0.7269999980926514, 0.7228999733924866, 0.7189000248908997, 0.714900016784668, 0.7107999920845032, 0.7067000269889832, 0.7027000188827515, 0.6985999941825867, 0.6945000290870667, 0.6904000043869019, 0.6862999796867371, 0.682200014591217, 0.6780999898910522, 0.6740000247955322, 0.6699000000953674, 0.6657000184059143, 0.6615999937057495, 0.6575000286102295, 0.6532999873161316, 0.6492000222206116, 0.6449999809265137, 0.6409000158309937, 0.6366999745368958, 0.6324999928474426, 0.6284000277519226, 0.6241999864578247, 0.6200000047683716, 0.6158999800682068, 0.6116999983787537, 0.6075000166893005], [1.0, 0.9961000084877014, 0.9922999739646912, 0.9883999824523926, 0.9846000075340271, 0.9807000160217285, 0.9768000245094299, 0.9729999899864197, 0.9690999984741211, 0.9653000235557556, 0.9613999724388123, 0.9574999809265137, 0.9537000060081482, 0.9498000144958496, 0.9459999799728394, 0.9420999884605408, 0.9381999969482422, 0.9344000220298767, 0.9304999709129333, 0.9265999794006348, 0.9228000044822693, 0.9189000129699707, 0.9150000214576721, 0.9111999869346619, 0.9072999954223633, 0.9034000039100647, 0.8995000123977661, 0.8956999778747559, 0.8917999863624573, 0.8878999948501587, 0.8840000033378601, 0.8802000284194946, 0.8762999773025513, 0.8723999857902527, 0.8684999942779541, 0.8646000027656555, 0.8607000112533569, 0.8568000197410583, 0.8529000282287598, 0.8489999771118164, 0.8450999855995178, 0.8411999940872192, 0.8373000025749207, 0.8334000110626221, 0.8295000195503235, 0.8255000114440918, 0.8216000199317932, 0.8177000284194946, 0.8137000203132629, 0.8098000288009644, 0.805899977684021, 0.8019000291824341, 0.7979999780654907, 0.7940000295639038, 0.7900000214576721, 0.7860999703407288, 0.7821000218391418, 0.7781000137329102, 0.7741000056266785, 0.7700999975204468, 0.7660999894142151, 0.7620999813079834, 0.7580999732017517, 0.7541000247001648, 0.75, 0.7459999918937683, 0.7419000267982483, 0.7379000186920166, 0.7337999939918518, 0.7297000288963318, 0.725600004196167, 0.7214999794960022, 0.7174000144004822, 0.7132999897003174, 0.7092000246047974, 0.7049999833106995, 0.7009000182151794, 0.6966999769210815, 0.6924999952316284, 0.6883000135421753, 0.6840999722480774, 0.6798999905586243, 0.6757000088691711, 0.671500027179718, 0.6672000288963318, 0.6629999876022339, 0.6586999893188477, 0.6543999910354614, 0.6500999927520752, 0.645799994468689, 0.6414999961853027, 0.6371999979019165, 0.6328999996185303, 0.628600001335144, 0.6241999864578247, 0.6198999881744385, 0.6155999898910522, 0.6111999750137329, 0.6068999767303467, 0.6025000214576721], [1.0, 0.9961000084877014, 0.9922999739646912, 0.9883999824523926, 0.984499990940094, 0.9807000160217285, 0.9768000245094299, 0.9729999899864197, 0.9690999984741211, 0.9652000069618225, 0.9613999724388123, 0.9574999809265137, 0.9535999894142151, 0.9498000144958496, 0.945900022983551, 0.9419999718666077, 0.9381999969482422, 0.9343000054359436, 0.930400013923645, 0.9265000224113464, 0.9226999878883362, 0.9187999963760376, 0.914900004863739, 0.9110000133514404, 0.9071999788284302, 0.9032999873161316, 0.899399995803833, 0.8955000042915344, 0.8916000127792358, 0.8877999782562256, 0.883899986743927, 0.8799999952316284, 0.8761000037193298, 0.8722000122070312, 0.8683000206947327, 0.8644000291824341, 0.8604999780654907, 0.8565999865531921, 0.8525999784469604, 0.8486999869346619, 0.8447999954223633, 0.8409000039100647, 0.8370000123977661, 0.8330000042915344, 0.8291000127792358, 0.8252000212669373, 0.8212000131607056, 0.817300021648407, 0.8133000135421753, 0.8093000054359436, 0.805400013923645, 0.8014000058174133, 0.7973999977111816, 0.79339998960495, 0.7893999814987183, 0.7853999733924866, 0.7814000248908997, 0.777400016784668, 0.7734000086784363, 0.7694000005722046, 0.7652999758720398, 0.7613000273704529, 0.7572000026702881, 0.7530999779701233, 0.7490000128746033, 0.7450000047683716, 0.7408000230789185, 0.7366999983787537, 0.7325999736785889, 0.7285000085830688, 0.7243000268936157, 0.7200999855995178, 0.7160000205039978, 0.7117999792098999, 0.7074999809265137, 0.7032999992370605, 0.6991000175476074, 0.6948000192642212, 0.6905999779701233, 0.6862999796867371, 0.6819999814033508, 0.6776000261306763, 0.67330002784729, 0.6689000129699707, 0.6646000146865845, 0.6601999998092651, 0.6557999849319458, 0.6514000296592712, 0.6470000147819519, 0.6424999833106995, 0.6381000280380249, 0.6335999965667725, 0.6291000247001648, 0.6245999932289124, 0.6201000213623047, 0.6155999898910522, 0.6111000180244446, 0.6065999865531921, 0.6021000146865845, 0.5975000262260437], [1.0, 0.9961000084877014, 0.9922999739646912, 0.9883999824523926, 0.984499990940094, 0.9807000160217285, 0.9768000245094299, 0.9728999733924866, 0.9690999984741211, 0.9652000069618225, 0.9613000154495239, 0.9574999809265137, 0.9535999894142151, 0.9496999979019165, 0.9458000063896179, 0.9419999718666077, 0.9380999803543091, 0.9341999888420105, 0.9302999973297119, 0.9265000224113464, 0.9225999712944031, 0.9186999797821045, 0.9147999882698059, 0.9108999967575073, 0.9071000218391418, 0.9031999707221985, 0.8992999792098999, 0.8953999876976013, 0.8914999961853027, 0.8876000046730042, 0.8837000131607056, 0.879800021648407, 0.8758999705314636, 0.871999979019165, 0.8680999875068665, 0.8641999959945679, 0.8601999878883362, 0.8562999963760376, 0.852400004863739, 0.8485000133514404, 0.8445000052452087, 0.8406000137329102, 0.8366000056266785, 0.8327000141143799, 0.8287000060081482, 0.8248000144958496, 0.8208000063896179, 0.8167999982833862, 0.8129000067710876, 0.808899998664856, 0.8048999905586243, 0.8008999824523926, 0.7968999743461609, 0.792900025844574, 0.7889000177383423, 0.7847999930381775, 0.7807999849319458, 0.7767000198364258, 0.7727000117301941, 0.7685999870300293, 0.7645000219345093, 0.7603999972343445, 0.7562999725341797, 0.7522000074386597, 0.7480999827384949, 0.7439000010490417, 0.739799976348877, 0.7355999946594238, 0.7314000129699707, 0.7271999716758728, 0.7229999899864197, 0.7188000082969666, 0.7145000100135803, 0.7102000117301941, 0.7059999704360962, 0.7016000151634216, 0.6973000168800354, 0.6930000185966492, 0.6886000037193298, 0.6841999888420105, 0.6797999739646912, 0.6754000186920166, 0.6708999872207642, 0.6664999723434448, 0.6620000004768372, 0.6575000286102295, 0.652899980545044, 0.6484000086784363, 0.6438000202178955, 0.63919997215271, 0.6345999836921692, 0.6299999952316284, 0.6252999901771545, 0.6207000017166138, 0.6159999966621399, 0.611299991607666, 0.6065999865531921, 0.6018999814987183, 0.5971999764442444, 0.5924999713897705], [1.0, 0.9961000084877014, 0.9922000169754028, 0.9883999824523926, 0.984499990940094, 0.9805999994277954, 0.9768000245094299, 0.9728999733924866, 0.968999981880188, 0.9652000069618225, 0.9613000154495239, 0.9574000239372253, 0.953499972820282, 0.9496999979019165, 0.9458000063896179, 0.9419000148773193, 0.9380000233650208, 0.9340999722480774, 0.9302999973297119, 0.9264000058174133, 0.9225000143051147, 0.9186000227928162, 0.9146999716758728, 0.9107999801635742, 0.9068999886512756, 0.902999997138977, 0.8991000056266785, 0.8952000141143799, 0.8913000226020813, 0.8873999714851379, 0.8834999799728394, 0.8795999884605408, 0.8756999969482422, 0.8718000054359436, 0.867900013923645, 0.8639000058174133, 0.8600000143051147, 0.8561000227928162, 0.8521000146865845, 0.8482000231742859, 0.8442000150680542, 0.8403000235557556, 0.8363000154495239, 0.8324000239372253, 0.8284000158309937, 0.824400007724762, 0.8203999996185303, 0.8163999915122986, 0.8125, 0.8083999752998352, 0.8044000267982483, 0.8004000186920166, 0.7964000105857849, 0.7922999858856201, 0.7882999777793884, 0.7842000126838684, 0.7802000045776367, 0.7760999798774719, 0.7720000147819519, 0.7678999900817871, 0.7638000249862671, 0.7595999836921692, 0.7555000185966492, 0.7512999773025513, 0.7470999956130981, 0.742900013923645, 0.7386999726295471, 0.734499990940094, 0.7303000092506409, 0.7260000109672546, 0.7217000126838684, 0.7174000144004822, 0.713100016117096, 0.7088000178337097, 0.7044000029563904, 0.699999988079071, 0.6955999732017517, 0.691100001335144, 0.6866999864578247, 0.682200014591217, 0.6776999831199646, 0.6732000112533569, 0.6686000227928162, 0.6639999747276306, 0.6593999862670898, 0.654699981212616, 0.6500999927520752, 0.6453999876976013, 0.6406999826431274, 0.6359000205993652, 0.6312000155448914, 0.6263999938964844, 0.6215999722480774, 0.6166999936103821, 0.6118999719619751, 0.6069999933242798, 0.6021999716758728, 0.5972999930381775, 0.5924000144004822, 0.5874999761581421], [1.0, 0.9961000084877014, 0.9922000169754028, 0.9883999824523926, 0.984499990940094, 0.9805999994277954, 0.9767000079154968, 0.9728999733924866, 0.968999981880188, 0.9650999903678894, 0.9611999988555908, 0.9574000239372253, 0.953499972820282, 0.9495999813079834, 0.9456999897956848, 0.9417999982833862, 0.9380000233650208, 0.9340999722480774, 0.9301999807357788, 0.9262999892234802, 0.9223999977111816, 0.9185000061988831, 0.9146000146865845, 0.9107000231742859, 0.9067999720573425, 0.902899980545044, 0.8989999890327454, 0.8950999975204468, 0.8912000060081482, 0.8873000144958496, 0.883400022983551, 0.8794999718666077, 0.8755000233650208, 0.8715999722480774, 0.8676999807357788, 0.8636999726295471, 0.8597999811172485, 0.8557999730110168, 0.8518999814987183, 0.8478999733924866, 0.843999981880188, 0.8399999737739563, 0.8360000252723694, 0.832099974155426, 0.8281000256538391, 0.8241000175476074, 0.8201000094413757, 0.816100001335144, 0.8119999766349792, 0.8080000281333923, 0.8040000200271606, 0.7998999953269958, 0.7958999872207642, 0.7918000221252441, 0.7876999974250793, 0.7835999727249146, 0.7795000076293945, 0.7753999829292297, 0.7713000178337097, 0.7671999931335449, 0.7630000114440918, 0.7588000297546387, 0.7545999884605408, 0.7504000067710876, 0.7462000250816345, 0.7419999837875366, 0.7376999855041504, 0.7333999872207642, 0.7290999889373779, 0.7247999906539917, 0.7204999923706055, 0.7160999774932861, 0.7117000222206116, 0.7073000073432922, 0.7028999924659729, 0.6984000205993652, 0.6938999891281128, 0.6894000172615051, 0.6848000288009644, 0.6801999807357788, 0.675599992275238, 0.6710000038146973, 0.6662999987602234, 0.6615999937057495, 0.6567999720573425, 0.6521000266075134, 0.6473000049591064, 0.6424000263214111, 0.6376000046730042, 0.6327000260353088, 0.6277999877929688, 0.6227999925613403, 0.6177999973297119, 0.6128000020980835, 0.6078000068664551, 0.6028000116348267, 0.5976999998092651, 0.5927000045776367, 0.5875999927520752, 0.5824999809265137], [1.0, 0.9961000084877014, 0.9922000169754028, 0.9883999824523926, 0.984499990940094, 0.9805999994277954, 0.9767000079154968, 0.9728000164031982, 0.968999981880188, 0.9650999903678894, 0.9611999988555908, 0.9573000073432922, 0.9534000158309937, 0.9495999813079834, 0.9456999897956848, 0.9417999982833862, 0.9379000067710876, 0.9340000152587891, 0.9301000237464905, 0.9261999726295471, 0.9222999811172485, 0.91839998960495, 0.9144999980926514, 0.9106000065803528, 0.9067000150680542, 0.9028000235557556, 0.8988999724388123, 0.8949999809265137, 0.8910999894142151, 0.8870999813079834, 0.8831999897956848, 0.8792999982833862, 0.8754000067710876, 0.871399998664856, 0.8675000071525574, 0.8634999990463257, 0.8596000075340271, 0.8555999994277954, 0.8517000079154968, 0.8476999998092651, 0.8436999917030334, 0.8396999835968018, 0.8356999754905701, 0.8317999839782715, 0.8277000188827515, 0.8237000107765198, 0.8197000026702881, 0.8156999945640564, 0.8116999864578247, 0.8076000213623047, 0.8034999966621399, 0.7994999885559082, 0.7954000234603882, 0.7912999987602234, 0.7871999740600586, 0.7831000089645386, 0.7789999842643738, 0.7748000025749207, 0.7706000208854675, 0.7664999961853027, 0.7623000144958496, 0.7580999732017517, 0.7537999749183655, 0.7495999932289124, 0.7452999949455261, 0.7409999966621399, 0.7366999983787537, 0.7324000000953674, 0.7279999852180481, 0.7236999869346619, 0.7192999720573425, 0.7148000001907349, 0.7103999853134155, 0.7059000134468079, 0.7013999819755554, 0.6967999935150146, 0.6922000050544739, 0.6876000165939331, 0.6830000281333923, 0.6783000230789185, 0.6736000180244446, 0.6687999963760376, 0.6639999747276306, 0.6592000126838684, 0.6543999910354614, 0.6495000123977661, 0.6445000171661377, 0.6395000219345093, 0.6345000267028809, 0.6294999718666077, 0.6244000196456909, 0.6193000078201294, 0.6140999794006348, 0.609000027179718, 0.6037999987602234, 0.5985000133514404, 0.5932999849319458, 0.588100016117096, 0.5827999711036682, 0.5774999856948853], [1.0, 0.9961000084877014, 0.9922000169754028, 0.9883000254631042, 0.984499990940094, 0.9805999994277954, 0.9767000079154968, 0.9728000164031982, 0.9689000248908997, 0.9650999903678894, 0.9611999988555908, 0.9573000073432922, 0.9534000158309937, 0.9495000243186951, 0.9455999732017517, 0.9416999816894531, 0.9377999901771545, 0.933899998664856, 0.9300000071525574, 0.9261000156402588, 0.9222000241279602, 0.9182999730110168, 0.9143999814987183, 0.9104999899864197, 0.9065999984741211, 0.9027000069618225, 0.8988000154495239, 0.8949000239372253, 0.8909000158309937, 0.8870000243186951, 0.8830999732017517, 0.8791000247001648, 0.8751999735832214, 0.8712000250816345, 0.8672999739646912, 0.8633000254631042, 0.8593999743461609, 0.855400025844574, 0.8514000177383423, 0.8475000262260437, 0.843500018119812, 0.8395000100135803, 0.8355000019073486, 0.8314999938011169, 0.8274000287055969, 0.8234000205993652, 0.8194000124931335, 0.8152999877929688, 0.8112999796867371, 0.807200014591217, 0.8030999898910522, 0.7990000247955322, 0.7949000000953674, 0.7907999753952026, 0.7867000102996826, 0.7825000286102295, 0.7784000039100647, 0.7742000222206116, 0.7699999809265137, 0.7657999992370605, 0.7616000175476074, 0.7573000192642212, 0.7530999779701233, 0.7487999796867371, 0.7444999814033508, 0.7401000261306763, 0.73580002784729, 0.7314000129699707, 0.7269999980926514, 0.722599983215332, 0.7181000113487244, 0.7135999798774719, 0.7091000080108643, 0.7045000195503235, 0.6998999714851379, 0.6952999830245972, 0.6905999779701233, 0.6858999729156494, 0.6812000274658203, 0.6764000058174133, 0.6715999841690063, 0.6668000221252441, 0.661899983882904, 0.6568999886512756, 0.6518999934196472, 0.6468999981880188, 0.6417999863624573, 0.6366999745368958, 0.6315000057220459, 0.6262999773025513, 0.6211000084877014, 0.6158000230789185, 0.6104999780654907, 0.6050999760627747, 0.5997999906539917, 0.5942999720573425, 0.5889000296592712, 0.5835000276565552, 0.578000009059906, 0.5724999904632568], [1.0, 0.9961000084877014, 0.9922000169754028, 0.9883000254631042, 0.984499990940094, 0.9805999994277954, 0.9767000079154968, 0.9728000164031982, 0.9689000248908997, 0.9649999737739563, 0.9610999822616577, 0.9571999907493591, 0.9534000158309937, 0.9495000243186951, 0.9455999732017517, 0.9416999816894531, 0.9377999901771545, 0.933899998664856, 0.9300000071525574, 0.9261000156402588, 0.9222000241279602, 0.9182999730110168, 0.9143000245094299, 0.9103999733924866, 0.906499981880188, 0.9025999903678894, 0.8986999988555908, 0.8946999907493591, 0.8907999992370605, 0.886900007724762, 0.8828999996185303, 0.8790000081062317, 0.875, 0.8711000084877014, 0.8671000003814697, 0.8632000088691711, 0.8592000007629395, 0.8551999926567078, 0.8511999845504761, 0.8471999764442444, 0.8432000279426575, 0.8392000198364258, 0.8352000117301941, 0.8312000036239624, 0.8270999789237976, 0.8230999708175659, 0.819100022315979, 0.8149999976158142, 0.8108999729156494, 0.8068000078201294, 0.8026999831199646, 0.7986000180244446, 0.7944999933242798, 0.7904000282287598, 0.7861999869346619, 0.7820000052452087, 0.7778000235557556, 0.7735999822616577, 0.7694000005722046, 0.7652000188827515, 0.7609000205993652, 0.756600022315979, 0.7523000240325928, 0.7480000257492065, 0.7437000274658203, 0.739300012588501, 0.7348999977111816, 0.730400025844574, 0.7260000109672546, 0.7214999794960022, 0.7170000076293945, 0.7124000191688538, 0.7077999711036682, 0.7031999826431274, 0.6985999941825867, 0.6938999891281128, 0.6891000270843506, 0.6843000054359436, 0.6794999837875366, 0.6746000051498413, 0.669700026512146, 0.6647999882698059, 0.6596999764442444, 0.654699981212616, 0.6496000289916992, 0.6444000005722046, 0.63919997215271, 0.633899986743927, 0.628600001335144, 0.6233000159263611, 0.617900013923645, 0.6123999953269958, 0.6068999767303467, 0.6014000177383423, 0.59579998254776, 0.5902000069618225, 0.5845000147819519, 0.5788999795913696, 0.573199987411499, 0.5674999952316284], [1.0, 0.9961000084877014, 0.9922000169754028, 0.9883000254631042, 0.9843999743461609, 0.9805999994277954, 0.9767000079154968, 0.9728000164031982, 0.9689000248908997, 0.9649999737739563, 0.9610999822616577, 0.9571999907493591, 0.9532999992370605, 0.949400007724762, 0.9455000162124634, 0.9416000247001648, 0.9376999735832214, 0.9337999820709229, 0.9298999905586243, 0.9259999990463257, 0.9221000075340271, 0.9182000160217285, 0.9143000245094299, 0.9103000164031982, 0.9064000248908997, 0.9024999737739563, 0.8985999822616577, 0.894599974155426, 0.8906999826431274, 0.8866999745368958, 0.8827999830245972, 0.8787999749183655, 0.8748999834060669, 0.8708999752998352, 0.8669999837875366, 0.8629999756813049, 0.859000027179718, 0.8550000190734863, 0.8510000109672546, 0.847000002861023, 0.8429999947547913, 0.8389999866485596, 0.8349999785423279, 0.8309000134468079, 0.8269000053405762, 0.8227999806404114, 0.8187000155448914, 0.8147000074386597, 0.8105999827384949, 0.8065000176429749, 0.8023999929428101, 0.7982000112533569, 0.7940999865531921, 0.789900004863739, 0.7857000231742859, 0.781499981880188, 0.7773000001907349, 0.7731000185012817, 0.7688000202178955, 0.7645999789237976, 0.7602999806404114, 0.7559999823570251, 0.7516000270843506, 0.7473000288009644, 0.742900013923645, 0.7384999990463257, 0.734000027179718, 0.7294999957084656, 0.7250000238418579, 0.7204999923706055, 0.7159000039100647, 0.7113000154495239, 0.7067000269889832, 0.7020000219345093, 0.6972000002861023, 0.6924999952316284, 0.6876000165939331, 0.6827999949455261, 0.6779000163078308, 0.6729000210762024, 0.667900025844574, 0.6628000140190125, 0.6577000021934509, 0.6524999737739563, 0.6473000049591064, 0.6420000195503235, 0.6366999745368958, 0.6312999725341797, 0.6258000135421753, 0.6202999949455261, 0.6147000193595886, 0.609000027179718, 0.6033999919891357, 0.597599983215332, 0.5918999910354614, 0.5860000252723694, 0.5802000164985657, 0.5742999911308289, 0.5684000253677368, 0.5625], [1.0, 0.9961000084877014, 0.9922000169754028, 0.9883000254631042, 0.9843999743461609, 0.9804999828338623, 0.9765999913215637, 0.9728000164031982, 0.9689000248908997, 0.9649999737739563, 0.9610999822616577, 0.9571999907493591, 0.9532999992370605, 0.949400007724762, 0.9455000162124634, 0.9416000247001648, 0.9376999735832214, 0.9337999820709229, 0.9297999739646912, 0.9258999824523926, 0.921999990940094, 0.9180999994277954, 0.9142000079154968, 0.9103000164031982, 0.9063000082969666, 0.902400016784668, 0.8985000252723694, 0.8945000171661377, 0.8906000256538391, 0.8866000175476074, 0.8827000260353088, 0.8787000179290771, 0.8748000264167786, 0.8708000183105469, 0.8668000102043152, 0.8628000020980835, 0.8587999939918518, 0.8547999858856201, 0.8507999777793884, 0.8468000292778015, 0.8428000211715698, 0.8388000130653381, 0.8346999883651733, 0.8306999802589417, 0.8266000151634216, 0.8224999904632568, 0.8184999823570251, 0.8144000172615051, 0.8102999925613403, 0.8061000108718872, 0.8019999861717224, 0.7978000044822693, 0.7936999797821045, 0.7894999980926514, 0.7853000164031982, 0.7810999751091003, 0.7767999768257141, 0.772599995136261, 0.7682999968528748, 0.7639999985694885, 0.7597000002861023, 0.755299985408783, 0.7509999871253967, 0.7465999722480774, 0.7421000003814697, 0.7376999855041504, 0.7332000136375427, 0.7286999821662903, 0.7240999937057495, 0.7195000052452087, 0.714900016784668, 0.7102000117301941, 0.7055000066757202, 0.7008000016212463, 0.6959999799728394, 0.691100001335144, 0.6862999796867371, 0.6812999844551086, 0.6762999892234802, 0.6712999939918518, 0.6661999821662903, 0.6610000133514404, 0.6557999849319458, 0.6504999995231628, 0.6450999975204468, 0.6396999955177307, 0.6341999769210815, 0.6287000179290771, 0.6230000257492065, 0.6173999905586243, 0.6115999817848206, 0.6057999730110168, 0.5999000072479248, 0.593999981880188, 0.5879999995231628, 0.5820000171661377, 0.5759000182151794, 0.5698000192642212, 0.5637000203132629, 0.5575000047683716], [1.0, 0.9961000084877014, 0.9922000169754028, 0.9883000254631042, 0.9843999743461609, 0.9804999828338623, 0.9765999913215637, 0.9726999998092651, 0.9688000082969666, 0.964900016784668, 0.9610000252723694, 0.957099974155426, 0.9531999826431274, 0.9492999911308289, 0.9453999996185303, 0.9415000081062317, 0.9376000165939331, 0.9337000250816345, 0.9297999739646912, 0.9258999824523926, 0.921999990940094, 0.9179999828338623, 0.9140999913215637, 0.9101999998092651, 0.9061999917030334, 0.9023000001907349, 0.8984000086784363, 0.8944000005722046, 0.890500009059906, 0.8865000009536743, 0.8826000094413757, 0.878600001335144, 0.8745999932289124, 0.8705999851226807, 0.8666999936103821, 0.8626999855041504, 0.8586999773979187, 0.8547000288963318, 0.850600004196167, 0.8465999960899353, 0.8425999879837036, 0.8385999798774719, 0.8345000147819519, 0.8303999900817871, 0.8263999819755554, 0.8223000168800354, 0.8181999921798706, 0.8141000270843506, 0.8100000023841858, 0.8058000206947327, 0.8016999959945679, 0.7975000143051147, 0.7932999730110168, 0.7890999913215637, 0.7849000096321106, 0.7807000279426575, 0.7764000296592712, 0.7720999717712402, 0.767799973487854, 0.7634999752044678, 0.7591000199317932, 0.754800021648407, 0.7504000067710876, 0.7458999752998352, 0.7415000200271606, 0.7369999885559082, 0.7324000000953674, 0.7279000282287598, 0.7232999801635742, 0.7185999751091003, 0.7139999866485596, 0.7092000246047974, 0.7045000195503235, 0.6996999979019165, 0.6948000192642212, 0.6898999810218811, 0.6848999857902527, 0.6798999905586243, 0.6747999787330627, 0.669700026512146, 0.6644999980926514, 0.6593000292778015, 0.6539000272750854, 0.6485000252723694, 0.6430000066757202, 0.637499988079071, 0.6319000124931335, 0.6262000203132629, 0.6204000115394592, 0.6146000027656555, 0.6086000204086304, 0.6025999784469604, 0.5964999794960022, 0.590399980545044, 0.5842000246047974, 0.5778999924659729, 0.5716000199317932, 0.5652999877929688, 0.558899998664856, 0.5525000095367432], [1.0, 0.9961000084877014, 0.9922000169754028, 0.9883000254631042, 0.9843999743461609, 0.9804999828338623, 0.9765999913215637, 0.9726999998092651, 0.9688000082969666, 0.964900016784668, 0.9610000252723694, 0.957099974155426, 0.9531999826431274, 0.9492999911308289, 0.9453999996185303, 0.9415000081062317, 0.9376000165939331, 0.9337000250816345, 0.9297000169754028, 0.9258000254631042, 0.9218999743461609, 0.9179999828338623, 0.9139999747276306, 0.910099983215332, 0.9061999917030334, 0.9021999835968018, 0.8982999920845032, 0.8942999839782715, 0.8903999924659729, 0.8863999843597412, 0.8824999928474426, 0.8784999847412109, 0.8744999766349792, 0.8705000281333923, 0.8665000200271606, 0.862500011920929, 0.8585000038146973, 0.8544999957084656, 0.8504999876022339, 0.8464999794960022, 0.8424000144004822, 0.8384000062942505, 0.8342999815940857, 0.8302000164985657, 0.8260999917984009, 0.8220000267028809, 0.8179000020027161, 0.8137999773025513, 0.8097000122070312, 0.8054999709129333, 0.8014000058174133, 0.7972000241279602, 0.7929999828338623, 0.7888000011444092, 0.784500002861023, 0.7803000211715698, 0.7760000228881836, 0.7717000246047974, 0.767300009727478, 0.7630000114440918, 0.7585999965667725, 0.7541999816894531, 0.7498000264167786, 0.7452999949455261, 0.7408000230789185, 0.736299991607666, 0.7317000031471252, 0.7271000146865845, 0.7225000262260437, 0.7178000211715698, 0.713100016117096, 0.708299994468689, 0.703499972820282, 0.6985999941825867, 0.6937000155448914, 0.6887000203132629, 0.6837000250816345, 0.678600013256073, 0.6735000014305115, 0.6682999730110168, 0.6629999876022339, 0.6575999855995178, 0.6521999835968018, 0.6467000246047974, 0.6410999894142151, 0.6353999972343445, 0.6297000050544739, 0.6237999796867371, 0.617900013923645, 0.6118999719619751, 0.6057999730110168, 0.5996000170707703, 0.5932999849319458, 0.586899995803833, 0.5805000066757202, 0.5740000009536743, 0.5673999786376953, 0.5608000159263611, 0.5541999936103821, 0.5475000143051147], [1.0, 0.9961000084877014, 0.9922000169754028, 0.9883000254631042, 0.9843999743461609, 0.9804999828338623, 0.9765999913215637, 0.9726999998092651, 0.9688000082969666, 0.964900016784668, 0.9610000252723694, 0.957099974155426, 0.9531999826431274, 0.9492999911308289, 0.9453999996185303, 0.9413999915122986, 0.9375, 0.9336000084877014, 0.9297000169754028, 0.9258000254631042, 0.9218000173568726, 0.917900025844574, 0.9139999747276306, 0.9100000262260437, 0.9060999751091003, 0.9021999835968018, 0.8981999754905701, 0.8942999839782715, 0.8902999758720398, 0.8863000273704529, 0.8823999762535095, 0.8784000277519226, 0.8744000196456909, 0.8704000115394592, 0.8664000034332275, 0.8623999953269958, 0.8583999872207642, 0.8543999791145325, 0.8503000140190125, 0.8463000059127808, 0.842199981212616, 0.8381999731063843, 0.8341000080108643, 0.8299999833106995, 0.8259000182151794, 0.8217999935150146, 0.8177000284194946, 0.8136000037193298, 0.8094000220298767, 0.8052999973297119, 0.8011000156402588, 0.7968999743461609, 0.7926999926567078, 0.7883999943733215, 0.7842000126838684, 0.7799000144004822, 0.775600016117096, 0.7713000178337097, 0.7669000029563904, 0.762499988079071, 0.7580999732017517, 0.7537000179290771, 0.7493000030517578, 0.7447999715805054, 0.7401999831199646, 0.7357000112533569, 0.7311000227928162, 0.7264000177383423, 0.7218000292778015, 0.7170000076293945, 0.7123000025749207, 0.7074999809265137, 0.7026000022888184, 0.697700023651123, 0.6927000284194946, 0.6876999735832214, 0.6826000213623047, 0.6773999929428101, 0.6722000241279602, 0.6668999791145325, 0.6615999937057495, 0.6560999751091003, 0.650600016117096, 0.6449999809265137, 0.6392999887466431, 0.6334999799728394, 0.6276000142097473, 0.6215999722480774, 0.6154999732971191, 0.6093000173568726, 0.6031000018119812, 0.5967000126838684, 0.5902000069618225, 0.5835999846458435, 0.5769000053405762, 0.5701000094413757, 0.5633000135421753, 0.5564000010490417, 0.5494999885559082, 0.5425000190734863], [1.0, 0.9961000084877014, 0.9922000169754028, 0.9883000254631042, 0.9843999743461609, 0.9804999828338623, 0.9765999913215637, 0.9726999998092651, 0.9688000082969666, 0.964900016784668, 0.9610000252723694, 0.957099974155426, 0.9531999826431274, 0.9491999745368958, 0.9452999830245972, 0.9413999915122986, 0.9375, 0.9336000084877014, 0.9297000169754028, 0.9257000088691711, 0.9218000173568726, 0.917900025844574, 0.9139000177383423, 0.9100000262260437, 0.906000018119812, 0.9021000266075134, 0.8981000185012817, 0.8942000269889832, 0.8902000188827515, 0.8862000107765198, 0.8823000192642212, 0.8783000111579895, 0.8743000030517578, 0.8702999949455261, 0.8662999868392944, 0.8622999787330627, 0.858299970626831, 0.854200005531311, 0.8501999974250793, 0.8461999893188477, 0.8421000242233276, 0.8379999995231628, 0.833899974822998, 0.8299000263214111, 0.8258000016212463, 0.8216000199317932, 0.8174999952316284, 0.8133999705314636, 0.8091999888420105, 0.8050000071525574, 0.8008000254631042, 0.7965999841690063, 0.7924000024795532, 0.788100004196167, 0.7839000225067139, 0.7796000242233276, 0.7753000259399414, 0.7709000110626221, 0.7664999961853027, 0.7620999813079834, 0.7577000260353088, 0.7533000111579895, 0.7487999796867371, 0.7443000078201294, 0.7397000193595886, 0.7350999712944031, 0.7304999828338623, 0.7257999777793884, 0.7210999727249146, 0.7164000272750854, 0.7116000056266785, 0.7067000269889832, 0.7017999887466431, 0.6967999935150146, 0.6917999982833862, 0.6866999864578247, 0.6815999746322632, 0.6764000058174133, 0.6711000204086304, 0.6657000184059143, 0.6603000164031982, 0.654699981212616, 0.6491000056266785, 0.6434000134468079, 0.6376000046730042, 0.6316999793052673, 0.6256999969482422, 0.6195999979972839, 0.6133000254631042, 0.6069999933242798, 0.6004999876022339, 0.5939000248908997, 0.5871999859809875, 0.5803999900817871, 0.5734000205993652, 0.5663999915122986, 0.5593000054359436, 0.5521000027656555, 0.5447999835014343, 0.5375999808311462], [1.0, 0.9961000084877014, 0.9922000169754028, 0.9883000254631042, 0.9843999743461609, 0.9804999828338623, 0.9765999913215637, 0.9726999998092651, 0.9688000082969666, 0.964900016784668, 0.9610000252723694, 0.9570000171661377, 0.9531000256538391, 0.9491999745368958, 0.9452999830245972, 0.9413999915122986, 0.9375, 0.9334999918937683, 0.9296000003814697, 0.9257000088691711, 0.9218000173568726, 0.9178000092506409, 0.9139000177383423, 0.9099000096321106, 0.906000018119812, 0.9020000100135803, 0.8981000185012817, 0.89410001039505, 0.8901000022888184, 0.8862000107765198, 0.8822000026702881, 0.8781999945640564, 0.8741999864578247, 0.870199978351593, 0.8661999702453613, 0.8622000217437744, 0.8582000136375427, 0.8540999889373779, 0.8500999808311462, 0.8460000157356262, 0.8420000076293945, 0.8378999829292297, 0.8338000178337097, 0.8296999931335449, 0.8256000280380249, 0.8215000033378601, 0.817300021648407, 0.8131999969482422, 0.8090000152587891, 0.8047999739646912, 0.800599992275238, 0.7964000105857849, 0.7921000123023987, 0.7878999710083008, 0.7835999727249146, 0.7792999744415283, 0.7749000191688538, 0.7706000208854675, 0.7662000060081482, 0.7617999911308289, 0.7573000192642212, 0.7529000043869019, 0.7483999729156494, 0.7437999844551086, 0.739300012588501, 0.7346000075340271, 0.7300000190734863, 0.7253000140190125, 0.7204999923706055, 0.7157999873161316, 0.7109000086784363, 0.7059999704360962, 0.7010999917984009, 0.6960999965667725, 0.6909999847412109, 0.6858999729156494, 0.6807000041007996, 0.6754000186920166, 0.6700000166893005, 0.6646000146865845, 0.6590999960899353, 0.6535000205039978, 0.6478000283241272, 0.6420000195503235, 0.6360999941825867, 0.6301000118255615, 0.6238999962806702, 0.6176999807357788, 0.611299991607666, 0.6047999858856201, 0.5981000065803528, 0.5914000272750854, 0.5843999981880188, 0.5774000287055969, 0.5701000094413757, 0.5627999901771545, 0.555400013923645, 0.5478000044822693, 0.5401999950408936, 0.5325999855995178], [1.0, 0.9961000084877014, 0.9922000169754028, 0.9883000254631042, 0.9843999743461609, 0.9804999828338623, 0.9765999913215637, 0.9726999998092651, 0.9688000082969666, 0.9648000001907349, 0.9609000086784363, 0.9570000171661377, 0.9531000256538391, 0.9491999745368958, 0.9452999830245972, 0.9413999915122986, 0.9373999834060669, 0.9334999918937683, 0.9296000003814697, 0.9257000088691711, 0.9217000007629395, 0.9178000092506409, 0.9138000011444092, 0.9099000096321106, 0.9059000015258789, 0.9020000100135803, 0.8980000019073486, 0.89410001039505, 0.8901000022888184, 0.8860999941825867, 0.882099986076355, 0.8780999779701233, 0.8741000294685364, 0.8701000213623047, 0.866100013256073, 0.8621000051498413, 0.8580999970436096, 0.8539999723434448, 0.8500000238418579, 0.8458999991416931, 0.8417999744415283, 0.8378000259399414, 0.8337000012397766, 0.8295999765396118, 0.8253999948501587, 0.8213000297546387, 0.8172000050544739, 0.8130000233650208, 0.8087999820709229, 0.8046000003814697, 0.8004000186920166, 0.7961999773979187, 0.7918999791145325, 0.7875999808311462, 0.78329998254776, 0.7789999842643738, 0.7746999859809875, 0.7702999711036682, 0.7659000158309937, 0.7615000009536743, 0.7570000290870667, 0.7524999976158142, 0.7480000257492065, 0.743399977684021, 0.7389000058174133, 0.7342000007629395, 0.7294999957084656, 0.7247999906539917, 0.7200000286102295, 0.7152000069618225, 0.7103999853134155, 0.7053999900817871, 0.7003999948501587, 0.6953999996185303, 0.6902999877929688, 0.6851000189781189, 0.6798999905586243, 0.6744999885559082, 0.6690999865531921, 0.6636999845504761, 0.6581000089645386, 0.652400016784668, 0.6466000080108643, 0.6406999826431274, 0.6347000002861023, 0.628600001335144, 0.6223999857902527, 0.6159999966621399, 0.609499990940094, 0.6028000116348267, 0.5960000157356262, 0.5889999866485596, 0.5819000005722046, 0.5745999813079834, 0.5670999884605408, 0.5594000220298767, 0.5515999794006348, 0.5436999797821045, 0.5356000065803528, 0.5275999903678894], [1.0, 0.9961000084877014, 0.9922000169754028, 0.9883000254631042, 0.9843999743461609, 0.9804999828338623, 0.9765999913215637, 0.9726999998092651, 0.9686999917030334, 0.9648000001907349, 0.9609000086784363, 0.9570000171661377, 0.9531000256538391, 0.9491999745368958, 0.9452999830245972, 0.9412999749183655, 0.9373999834060669, 0.9334999918937683, 0.9296000003814697, 0.925599992275238, 0.9217000007629395, 0.9176999926567078, 0.9138000011444092, 0.9099000096321106, 0.9059000015258789, 0.9018999934196472, 0.8980000019073486, 0.8939999938011169, 0.8899999856948853, 0.8860999941825867, 0.882099986076355, 0.8780999779701233, 0.8741000294685364, 0.8701000213623047, 0.8659999966621399, 0.8619999885559082, 0.8579999804496765, 0.8539000153541565, 0.8499000072479248, 0.84579998254776, 0.8417999744415283, 0.8377000093460083, 0.8335999846458435, 0.8295000195503235, 0.8252999782562256, 0.8212000131607056, 0.8169999718666077, 0.8129000067710876, 0.8087000250816345, 0.8044999837875366, 0.8001999855041504, 0.7960000038146973, 0.791700005531311, 0.7875000238418579, 0.7832000255584717, 0.7788000106811523, 0.7745000123977661, 0.7700999975204468, 0.7656999826431274, 0.7612000107765198, 0.7567999958992004, 0.7522000074386597, 0.7476999759674072, 0.7430999875068665, 0.7384999990463257, 0.7339000105857849, 0.729200005531311, 0.724399983882904, 0.7196000218391418, 0.7148000001907349, 0.7099000215530396, 0.7049000263214111, 0.6998999714851379, 0.6948000192642212, 0.6897000074386597, 0.684499979019165, 0.6791999936103821, 0.673799991607666, 0.66839998960495, 0.6628000140190125, 0.6571999788284302, 0.6514999866485596, 0.6456000208854675, 0.6396999955177307, 0.6335999965667725, 0.6273999810218811, 0.6211000084877014, 0.6146000027656555, 0.6079000234603882, 0.6011000275611877, 0.5940999984741211, 0.5870000123977661, 0.5795999765396118, 0.5720000267028809, 0.5641999840736389, 0.5562000274658203, 0.5479999780654907, 0.5396999716758728, 0.5311999917030334, 0.522599995136261], [1.0, 0.9961000084877014, 0.9922000169754028, 0.9883000254631042, 0.9843999743461609, 0.9804999828338623, 0.9765999913215637, 0.972599983215332, 0.9686999917030334, 0.9648000001907349, 0.9609000086784363, 0.9570000171661377, 0.9531000256538391, 0.9491999745368958, 0.9452000260353088, 0.9412999749183655, 0.9373999834060669, 0.9334999918937683, 0.9294999837875366, 0.925599992275238, 0.9217000007629395, 0.9176999926567078, 0.9138000011444092, 0.9097999930381775, 0.9059000015258789, 0.9018999934196472, 0.8978999853134155, 0.8939999938011169, 0.8899999856948853, 0.8859999775886536, 0.8820000290870667, 0.878000020980835, 0.8740000128746033, 0.8700000047683716, 0.8659999966621399, 0.8619999885559082, 0.8579000234603882, 0.8539000153541565, 0.8497999906539917, 0.84579998254776, 0.84170001745224, 0.8375999927520752, 0.8335000276565552, 0.8294000029563904, 0.8252000212669373, 0.8210999965667725, 0.8169000148773193, 0.8127999901771545, 0.8086000084877014, 0.8043000102043152, 0.8001000285148621, 0.7958999872207642, 0.7915999889373779, 0.7872999906539917, 0.7829999923706055, 0.7785999774932861, 0.7742999792098999, 0.7699000239372253, 0.765500009059906, 0.7609999775886536, 0.7565000057220459, 0.7519999742507935, 0.7475000023841858, 0.742900013923645, 0.7382000088691711, 0.7336000204086304, 0.7289000153541565, 0.7240999937057495, 0.7192999720573425, 0.7143999934196472, 0.7095000147819519, 0.7045000195503235, 0.6995000243186951, 0.6944000124931335, 0.6891999840736389, 0.6840000152587891, 0.6786999702453613, 0.67330002784729, 0.6678000092506409, 0.6621999740600586, 0.656499981880188, 0.6506999731063843, 0.6448000073432922, 0.6388000249862671, 0.6327000260353088, 0.6263999938964844, 0.6200000047683716, 0.6133999824523926, 0.6065999865531921, 0.5996999740600586, 0.5925999879837036, 0.5852000117301941, 0.5777000188827515, 0.5698000192642212, 0.5618000030517578, 0.5533999800682068, 0.5447999835014343, 0.5358999967575073, 0.5267999768257141, 0.5175999999046326], [1.0, 0.9961000084877014, 0.9922000169754028, 0.9883000254631042, 0.9843999743461609, 0.9804999828338623, 0.9764999747276306, 0.972599983215332, 0.9686999917030334, 0.9648000001907349, 0.9609000086784363, 0.9570000171661377, 0.9531000256538391, 0.9491999745368958, 0.9452000260353088, 0.9412999749183655, 0.9373999834060669, 0.9334999918937683, 0.9294999837875366, 0.925599992275238, 0.9215999841690063, 0.9176999926567078, 0.9138000011444092, 0.9097999930381775, 0.9057999849319458, 0.9018999934196472, 0.8978999853134155, 0.8938999772071838, 0.8899999856948853, 0.8859999775886536, 0.8820000290870667, 0.878000020980835, 0.8740000128746033, 0.8700000047683716, 0.8658999800682068, 0.8618999719619751, 0.8579000234603882, 0.8537999987602234, 0.8497999906539917, 0.8457000255584717, 0.8416000008583069, 0.8374999761581421, 0.8334000110626221, 0.8292999863624573, 0.8252000212669373, 0.8209999799728394, 0.8167999982833862, 0.8126999735832214, 0.8084999918937683, 0.8043000102043152, 0.800000011920929, 0.795799970626831, 0.7914999723434448, 0.7871999740600586, 0.7828999757766724, 0.7785000205039978, 0.7741000056266785, 0.7696999907493591, 0.7652999758720398, 0.7609000205993652, 0.7563999891281128, 0.751800000667572, 0.7473000288009644, 0.7426999807357788, 0.7379999756813049, 0.733299970626831, 0.728600025177002, 0.723800003528595, 0.718999981880188, 0.7141000032424927, 0.7092000246047974, 0.704200029373169, 0.6991999745368958, 0.6940000057220459, 0.6888999938964844, 0.6836000084877014, 0.6782000064849854, 0.6728000044822693, 0.6672999858856201, 0.6617000102996826, 0.656000018119812, 0.6502000093460083, 0.6442000269889832, 0.6381999850273132, 0.6320000290870667, 0.6255999803543091, 0.6190999746322632, 0.612500011920929, 0.6055999994277954, 0.5985999703407288, 0.5913000106811523, 0.583899974822998, 0.5760999917984009, 0.5680999755859375, 0.5597000122070312, 0.5509999990463257, 0.5418999791145325, 0.5325000286102295, 0.522599995136261, 0.5126000046730042], [1.0, 0.9961000084877014, 0.9922000169754028, 0.9883000254631042, 0.9843999743461609, 0.9804999828338623, 0.9764999747276306, 0.972599983215332, 0.9686999917030334, 0.9648000001907349, 0.9609000086784363, 0.9570000171661377, 0.9531000256538391, 0.9491000175476074, 0.9452000260353088, 0.9412999749183655, 0.9373999834060669, 0.9333999752998352, 0.9294999837875366, 0.925599992275238, 0.9215999841690063, 0.9176999926567078, 0.9136999845504761, 0.9097999930381775, 0.9057999849319458, 0.9018999934196472, 0.8978999853134155, 0.8938999772071838, 0.8899000287055969, 0.8859999775886536, 0.8820000290870667, 0.878000020980835, 0.8740000128746033, 0.8698999881744385, 0.8658999800682068, 0.8618999719619751, 0.8578000068664551, 0.8537999987602234, 0.8496999740600586, 0.8457000255584717, 0.8416000008583069, 0.8374999761581421, 0.8334000110626221, 0.8292999863624573, 0.8251000046730042, 0.8209999799728394, 0.8167999982833862, 0.8126000165939331, 0.8083999752998352, 0.8041999936103821, 0.800000011920929, 0.7957000136375427, 0.7914000153541565, 0.7871000170707703, 0.782800018787384, 0.7784000039100647, 0.7741000056266785, 0.7696999907493591, 0.7652000188827515, 0.7608000040054321, 0.7562999725341797, 0.7516999840736389, 0.7470999956130981, 0.7425000071525574, 0.7379000186920166, 0.7332000136375427, 0.7285000085830688, 0.7236999869346619, 0.7188000082969666, 0.7139999866485596, 0.7089999914169312, 0.7039999961853027, 0.6988999843597412, 0.6937999725341797, 0.6886000037193298, 0.6833000183105469, 0.6779999732971191, 0.6725000143051147, 0.6669999957084656, 0.6614000201225281, 0.6556000113487244, 0.6498000025749207, 0.6438000202178955, 0.6377000212669373, 0.6315000057220459, 0.6251000165939331, 0.6186000108718872, 0.6118999719619751, 0.6050000190734863, 0.5978000164031982, 0.590499997138977, 0.5828999876976013, 0.574999988079071, 0.5667999982833862, 0.5582000017166138, 0.5491999983787537, 0.5396999716758728, 0.5296000242233276, 0.5188999772071838, 0.5076000094413757], [1.0, 0.9961000084877014, 0.9922000169754028, 0.9883000254631042, 0.9843999743461609, 0.9804999828338623, 0.9764999747276306, 0.972599983215332, 0.9686999917030334, 0.9648000001907349, 0.9609000086784363, 0.9570000171661377, 0.9531000256538391, 0.9491000175476074, 0.9452000260353088, 0.9412999749183655, 0.9373999834060669, 0.9333999752998352, 0.9294999837875366, 0.925599992275238, 0.9215999841690063, 0.9176999926567078, 0.9136999845504761, 0.9097999930381775, 0.9057999849319458, 0.9018999934196472, 0.8978999853134155, 0.8938999772071838, 0.8899000287055969, 0.8859000205993652, 0.8820000290870667, 0.878000020980835, 0.8738999962806702, 0.8698999881744385, 0.8658999800682068, 0.8618999719619751, 0.8578000068664551, 0.8537999987602234, 0.8496999740600586, 0.8456000089645386, 0.8416000008583069, 0.8374999761581421, 0.8334000110626221, 0.829200029373169, 0.8251000046730042, 0.820900022983551, 0.8167999982833862, 0.8126000165939331, 0.8083999752998352, 0.8041999936103821, 0.7998999953269958, 0.7957000136375427, 0.7914000153541565, 0.7871000170707703, 0.7827000021934509, 0.7784000039100647, 0.7739999890327454, 0.769599974155426, 0.7652000188827515, 0.760699987411499, 0.7562000155448914, 0.7516999840736389, 0.7470999956130981, 0.7425000071525574, 0.7378000020980835, 0.7330999970436096, 0.7283999919891357, 0.7235999703407288, 0.7188000082969666, 0.7139000296592712, 0.708899974822998, 0.7038999795913696, 0.6988000273704529, 0.6937000155448914, 0.6884999871253967, 0.6832000017166138, 0.6777999997138977, 0.6723999977111816, 0.6668000221252441, 0.6611999869346619, 0.6553999781608582, 0.6496000289916992, 0.6435999870300293, 0.637499988079071, 0.6312000155448914, 0.6248000264167786, 0.6183000206947327, 0.6115000247955322, 0.6046000123023987, 0.5975000262260437, 0.5900999903678894, 0.5824000239372253, 0.5745000243186951, 0.5662000179290771, 0.5573999881744385, 0.5482000112533569, 0.5383999943733215, 0.5278000235557556, 0.5160999894142151, 0.5026000142097473]]'"
      ]
     },
     "execution_count": 14,
     "metadata": {},
     "output_type": "execute_result"
    }
   ],
   "source": [
    "import simplejson as json\n",
    "\n",
    "json = json.dumps(head, ignore_nan=True)\n",
    "json"
   ]
  },
  {
   "cell_type": "code",
   "execution_count": 15,
   "id": "df7dfd8ff0308815",
   "metadata": {
    "ExecuteTime": {
     "end_time": "2024-08-18T21:16:28.706897Z",
     "start_time": "2024-08-18T21:16:28.704171Z"
    },
    "collapsed": false,
    "execution": {
     "iopub.execute_input": "2024-08-19T20:03:43.210106Z",
     "iopub.status.busy": "2024-08-19T20:03:43.209991Z",
     "iopub.status.idle": "2024-08-19T20:03:43.212181Z",
     "shell.execute_reply": "2024-08-19T20:03:43.211954Z"
    },
    "papermill": {
     "duration": 0.00633,
     "end_time": "2024-08-19T20:03:43.212911",
     "exception": false,
     "start_time": "2024-08-19T20:03:43.206581",
     "status": "completed"
    },
    "tags": []
   },
   "outputs": [
    {
     "data": {
      "text/plain": [
       "[]"
      ]
     },
     "execution_count": 15,
     "metadata": {},
     "output_type": "execute_result"
    }
   ],
   "source": [
    "engine.read_flow_drawdown(idx=0, layer=0)"
   ]
  },
  {
   "cell_type": "code",
   "execution_count": 16,
   "id": "b233f4066b56c174",
   "metadata": {
    "ExecuteTime": {
     "end_time": "2024-08-18T21:16:28.719231Z",
     "start_time": "2024-08-18T21:16:28.714744Z"
    },
    "collapsed": false,
    "execution": {
     "iopub.execute_input": "2024-08-19T20:03:43.219512Z",
     "iopub.status.busy": "2024-08-19T20:03:43.219329Z",
     "iopub.status.idle": "2024-08-19T20:03:43.222688Z",
     "shell.execute_reply": "2024-08-19T20:03:43.222477Z"
    },
    "papermill": {
     "duration": 0.007477,
     "end_time": "2024-08-19T20:03:43.223433",
     "exception": false,
     "start_time": "2024-08-19T20:03:43.215956",
     "status": "completed"
    },
    "tags": []
   },
   "outputs": [
    {
     "data": {
      "text/plain": [
       "{'STORAGE_IN': 0.0,\n",
       " 'CONSTANT_HEAD_IN': 0.0,\n",
       " 'DRAINS_IN': 0.0,\n",
       " 'HEAD_DEP_BOUNDS_IN': 88.9888,\n",
       " 'TOTAL_IN': 88.9888,\n",
       " 'STORAGE_OUT': -0.0,\n",
       " 'CONSTANT_HEAD_OUT': -0.0,\n",
       " 'DRAINS_OUT': -88.9949,\n",
       " 'HEAD_DEP_BOUNDS_OUT': -0.0,\n",
       " 'TOTAL_OUT': -88.9949,\n",
       " 'IN-OUT': -0.0061035,\n",
       " 'PERCENT_DISCREPANCY': -0.01,\n",
       " 'tslen': 365.0}"
      ]
     },
     "execution_count": 16,
     "metadata": {},
     "output_type": "execute_result"
    }
   ],
   "source": [
    "engine.read_flow_budget(idx=0, incremental=False)"
   ]
  },
  {
   "cell_type": "code",
   "execution_count": 17,
   "id": "634709d741f5c252",
   "metadata": {
    "ExecuteTime": {
     "end_time": "2024-08-18T21:16:28.791338Z",
     "start_time": "2024-08-18T21:16:28.786759Z"
    },
    "collapsed": false,
    "execution": {
     "iopub.execute_input": "2024-08-19T20:03:43.229804Z",
     "iopub.status.busy": "2024-08-19T20:03:43.229712Z",
     "iopub.status.idle": "2024-08-19T20:03:43.232933Z",
     "shell.execute_reply": "2024-08-19T20:03:43.232702Z"
    },
    "papermill": {
     "duration": 0.007281,
     "end_time": "2024-08-19T20:03:43.233709",
     "exception": false,
     "start_time": "2024-08-19T20:03:43.226428",
     "status": "completed"
    },
    "tags": []
   },
   "outputs": [
    {
     "data": {
      "text/plain": [
       "{'STORAGE_IN': 0.0,\n",
       " 'CONSTANT_HEAD_IN': 0.0,\n",
       " 'DRAINS_IN': 0.0,\n",
       " 'HEAD_DEP_BOUNDS_IN': 0.2438,\n",
       " 'TOTAL_IN': 0.2438,\n",
       " 'STORAGE_OUT': -0.0,\n",
       " 'CONSTANT_HEAD_OUT': -0.0,\n",
       " 'DRAINS_OUT': -0.2438,\n",
       " 'HEAD_DEP_BOUNDS_OUT': -0.0,\n",
       " 'TOTAL_OUT': -0.2438,\n",
       " 'IN-OUT': -1.6719e-05,\n",
       " 'PERCENT_DISCREPANCY': -0.01,\n",
       " 'tslen': 365.0}"
      ]
     },
     "execution_count": 17,
     "metadata": {},
     "output_type": "execute_result"
    }
   ],
   "source": [
    "engine.read_flow_budget(idx=0, incremental=True)"
   ]
  },
  {
   "cell_type": "code",
   "execution_count": 18,
   "id": "160abd7d290c83f7",
   "metadata": {
    "ExecuteTime": {
     "end_time": "2024-08-18T21:16:28.958526Z",
     "start_time": "2024-08-18T21:16:28.861410Z"
    },
    "collapsed": false,
    "execution": {
     "iopub.execute_input": "2024-08-19T20:03:43.240343Z",
     "iopub.status.busy": "2024-08-19T20:03:43.240245Z",
     "iopub.status.idle": "2024-08-19T20:03:43.324099Z",
     "shell.execute_reply": "2024-08-19T20:03:43.323341Z"
    },
    "papermill": {
     "duration": 0.095367,
     "end_time": "2024-08-19T20:03:43.332286",
     "exception": false,
     "start_time": "2024-08-19T20:03:43.236919",
     "status": "completed"
    },
    "tags": []
   },
   "outputs": [
    {
     "data": {
      "image/png": "[encoded data removed]",
      "text/plain": [
       "<Figure size 640x480 with 2 Axes>"
      ]
     },
     "metadata": {},
     "output_type": "display_data"
    }
   ],
   "source": [
    "import matplotlib.pyplot as plt\n",
    "\n",
    "heads = engine.read_flow_head(idx=0, layer=0)\n",
    "plt.subplot(2, 1, 1)\n",
    "plt.imshow(heads, cmap='jet_r')\n",
    "plt.colorbar()\n",
    "plt.show()"
   ]
  }
 ],
 "metadata": {
  "kernelspec": {
   "display_name": "Python 3",
   "language": "python",
   "name": "python3"
  },
  "language_info": {
   "codemirror_mode": {
    "name": "ipython",
    "version": 3
   },
   "file_extension": ".py",
   "mimetype": "text/x-python",
   "name": "python",
   "nbconvert_exporter": "python",
   "pygments_lexer": "ipython3",
   "version": "3.12.2"
  },
  "papermill": {
   "default_parameters": {},
   "duration": 4.615702,
   "end_time": "2024-08-19T20:03:43.669867",
   "environment_variables": {},
   "exception": null,
   "input_path": "./notebooks/Test_DrainBoundary.ipynb",
   "output_path": "./notebooks/Test_DrainBoundary.ipynb",
   "parameters": {},
   "start_time": "2024-08-19T20:03:39.054165",
   "version": "2.6.0"
  }
 },
 "nbformat": 4,
 "nbformat_minor": 5
}