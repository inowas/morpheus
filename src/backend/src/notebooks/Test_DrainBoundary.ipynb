{
 "cells": [
  {
   "cell_type": "code",
   "execution_count": 1,
   "id": "ba6761fae9d5e5cb",
   "metadata": {
    "ExecuteTime": {
     "end_time": "2024-06-20T18:59:11.155855Z",
     "start_time": "2024-06-20T18:59:11.153282Z"
    },
    "collapsed": false,
    "execution": {
     "iopub.execute_input": "2024-06-20T19:03:23.498310Z",
     "iopub.status.busy": "2024-06-20T19:03:23.497747Z",
     "iopub.status.idle": "2024-06-20T19:03:23.501866Z",
     "shell.execute_reply": "2024-06-20T19:03:23.501166Z"
    },
    "papermill": {
     "duration": 0.015475,
     "end_time": "2024-06-20T19:03:23.503982",
     "exception": false,
     "start_time": "2024-06-20T19:03:23.488507",
     "status": "completed"
    },
    "tags": []
   },
   "outputs": [],
   "source": [
    "import sys\n",
    "\n",
    "sys.path.insert(0, '..')"
   ]
  },
  {
   "cell_type": "markdown",
   "id": "5ede1ba5e0993dd1",
   "metadata": {
    "collapsed": false,
    "papermill": {
     "duration": 0.002024,
     "end_time": "2024-06-20T19:03:23.508922",
     "exception": false,
     "start_time": "2024-06-20T19:03:23.506898",
     "status": "completed"
    },
    "tags": []
   },
   "source": [
    "## Setup the model area"
   ]
  },
  {
   "cell_type": "code",
   "execution_count": 2,
   "id": "2f69504ab35487aa",
   "metadata": {
    "ExecuteTime": {
     "end_time": "2024-06-20T18:59:11.865845Z",
     "start_time": "2024-06-20T18:59:11.164712Z"
    },
    "collapsed": false,
    "execution": {
     "iopub.execute_input": "2024-06-20T19:03:23.513536Z",
     "iopub.status.busy": "2024-06-20T19:03:23.513400Z",
     "iopub.status.idle": "2024-06-20T19:03:24.036697Z",
     "shell.execute_reply": "2024-06-20T19:03:24.036385Z"
    },
    "papermill": {
     "duration": 0.52697,
     "end_time": "2024-06-20T19:03:24.037839",
     "exception": false,
     "start_time": "2024-06-20T19:03:23.510869",
     "status": "completed"
    },
    "tags": []
   },
   "outputs": [
    {
     "data": {
      "text/plain": [
       "Grid(origin=Point(coordinates=(13.920000000000002, 50.965999999999994), type='Point'), col_widths=[5.565974539662712, 5.565974539662712, 5.565974539662712, 5.565974539662712, 5.565974539662712, 5.565974539662712, 5.565974539662712, 5.565974539662712, 5.5659745396627045, 5.565974539662719, 5.565974539662712, 5.565974539662712, 5.5659745396627045, 5.565974539662719, 5.5659745396627045, 5.565974539662719, 5.565974539662719, 5.56597453966269, 5.565974539662719, 5.565974539662719, 5.5659745396627045, 5.565974539662719, 5.565974539662719, 5.5659745396627045, 5.5659745396627045, 5.5659745396627045, 5.565974539662733, 5.5659745396627045, 5.5659745396627045, 5.5659745396627045, 5.5659745396627045, 5.565974539662733, 5.5659745396627045, 5.565974539662733, 5.565974539662676, 5.5659745396627045, 5.565974539662733, 5.5659745396627045, 5.565974539662733, 5.5659745396627045, 5.565974539662676, 5.565974539662733, 5.5659745396627045, 5.565974539662733, 5.5659745396627045, 5.565974539662733, 5.565974539662648, 5.565974539662761, 5.5659745396627045, 5.5659745396627045, 5.5659745396627045, 5.5659745396627045, 5.565974539662761, 5.5659745396627045, 5.5659745396627045, 5.5659745396627045, 5.565974539662648, 5.565974539662761, 5.5659745396627045, 5.5659745396627045, 5.5659745396627045, 5.5659745396627045, 5.565974539662761, 5.5659745396627045, 5.5659745396627045, 5.5659745396627045, 5.5659745396627045, 5.565974539662761, 5.565974539662648, 5.5659745396627045, 5.5659745396627045, 5.5659745396627045, 5.565974539662761, 5.5659745396627045, 5.5659745396627045, 5.5659745396627045, 5.5659745396627045, 5.565974539662761, 5.5659745396627045, 5.5659745396627045, 5.5659745396627045, 5.565974539662648, 5.565974539662761, 5.5659745396627045, 5.5659745396627045, 5.5659745396627045, 5.5659745396627045, 5.565974539662761, 5.5659745396627045, 5.5659745396627045, 5.5659745396627045, 5.565974539662761, 5.565974539662648, 5.565974539662648, 5.565974539662761, 5.565974539662761, 5.565974539662648, 5.565974539662761, 5.565974539662648, 5.565974539662761], total_width=556.5974539662711, row_heights=[7.07020474422723, 7.07020474422723, 7.070204744227231, 7.0702047442272296, 7.0702047442272296, 7.070204744227233, 7.070204744227233, 7.070204744227226, 7.070204744227226, 7.070204744227233, 7.07020474422724, 7.070204744227226, 7.070204744227226, 7.07020474422724, 7.070204744227226, 7.070204744227226, 7.07020474422724, 7.070204744227212, 7.07020474422724, 7.070204744227226, 7.070204744227226, 7.070204744227254, 7.070204744227226, 7.070204744227226, 7.070204744227226, 7.070204744227226, 7.070204744227254, 7.070204744227226, 7.070204744227198, 7.070204744227254, 7.070204744227226, 7.070204744227226, 7.070204744227254, 7.070204744227226, 7.070204744227198, 7.070204744227226, 7.070204744227254, 7.070204744227226, 7.070204744227226, 7.070204744227226, 7.070204744227226, 7.070204744227226, 7.070204744227226, 7.070204744227283, 7.070204744227226, 7.070204744227226, 7.070204744227169, 7.070204744227283, 7.070204744227226, 7.070204744227226], total_height=353.5102372113615, rotation=Rotation(value=0), length_unit=LengthUnit(unit=2))"
      ]
     },
     "execution_count": 2,
     "metadata": {},
     "output_type": "execute_result"
    }
   ],
   "source": [
    "from morpheus.project.types.discretization import SpatialDiscretization\n",
    "from morpheus.project.types.discretization.spatial import Rotation, Grid, Crs\n",
    "from morpheus.project.types.geometry import Polygon, LineString\n",
    "\n",
    "polygon = Polygon(\n",
    "  type='Polygon',\n",
    "  coordinates=[[\n",
    "    (13.92, 50.964),\n",
    "    (13.92, 50.966),\n",
    "    (13.925, 50.966),\n",
    "    (13.925, 50.964),\n",
    "    (13.92, 50.964)\n",
    "  ]]\n",
    ")\n",
    "\n",
    "rotation = Rotation(0)\n",
    "\n",
    "grid = Grid.cartesian_from_polygon(polygon=polygon, n_cols=100, n_rows=50, rotation=rotation)\n",
    "spatial_discretization = SpatialDiscretization.from_geometry_with_grid(\n",
    "  geometry=polygon,\n",
    "  grid=grid,\n",
    "  crs=Crs.from_str('EPSG:4326')\n",
    ")\n",
    "grid"
   ]
  },
  {
   "cell_type": "markdown",
   "id": "fa27e67f9d801845",
   "metadata": {
    "collapsed": false,
    "papermill": {
     "duration": 0.001921,
     "end_time": "2024-06-20T19:03:24.042209",
     "exception": false,
     "start_time": "2024-06-20T19:03:24.040288",
     "status": "completed"
    },
    "tags": []
   },
   "source": [
    "## Setup Time Discretization"
   ]
  },
  {
   "cell_type": "code",
   "execution_count": 3,
   "id": "8e4e63dd138db9fc",
   "metadata": {
    "ExecuteTime": {
     "end_time": "2024-06-20T18:59:11.870188Z",
     "start_time": "2024-06-20T18:59:11.867276Z"
    },
    "collapsed": false,
    "execution": {
     "iopub.execute_input": "2024-06-20T19:03:24.046802Z",
     "iopub.status.busy": "2024-06-20T19:03:24.046550Z",
     "iopub.status.idle": "2024-06-20T19:03:24.049127Z",
     "shell.execute_reply": "2024-06-20T19:03:24.048871Z"
    },
    "papermill": {
     "duration": 0.005887,
     "end_time": "2024-06-20T19:03:24.049962",
     "exception": false,
     "start_time": "2024-06-20T19:03:24.044075",
     "status": "completed"
    },
    "tags": []
   },
   "outputs": [],
   "source": [
    "from morpheus.project.types.discretization.time.TimeUnit import TimeUnit\n",
    "from morpheus.project.types.discretization.time.Stressperiods import StartDateTime, StressPeriodCollection, \\\n",
    "  StressPeriod, NumberOfTimeSteps, TimeStepMultiplier, IsSteadyState\n",
    "from morpheus.project.types.discretization.time import TimeDiscretization\n",
    "from datetime import datetime\n",
    "\n",
    "time_discretization = TimeDiscretization(\n",
    "  start_date_time=StartDateTime.from_datetime(datetime(2020, 1, 1)),\n",
    "  end_date_time=StartDateTime.from_datetime(datetime(2020, 12, 31)),\n",
    "  stress_periods=StressPeriodCollection([\n",
    "    StressPeriod(\n",
    "      start_date_time=StartDateTime.from_datetime(datetime(2020, 1, 1)),\n",
    "      number_of_time_steps=NumberOfTimeSteps(1),\n",
    "      time_step_multiplier=TimeStepMultiplier(1),\n",
    "      steady_state=IsSteadyState.yes()\n",
    "    ),\n",
    "  ]),\n",
    "  time_unit=TimeUnit.days()\n",
    ")"
   ]
  },
  {
   "cell_type": "markdown",
   "id": "963ba8729f09fcec",
   "metadata": {
    "collapsed": false,
    "papermill": {
     "duration": 0.002186,
     "end_time": "2024-06-20T19:03:24.054238",
     "exception": false,
     "start_time": "2024-06-20T19:03:24.052052",
     "status": "completed"
    },
    "tags": []
   },
   "source": [
    "# Setup Model"
   ]
  },
  {
   "cell_type": "code",
   "execution_count": 4,
   "id": "1d5c9125b1b9360b",
   "metadata": {
    "ExecuteTime": {
     "end_time": "2024-06-20T18:59:12.322611Z",
     "start_time": "2024-06-20T18:59:11.870984Z"
    },
    "collapsed": false,
    "execution": {
     "iopub.execute_input": "2024-06-20T19:03:24.058776Z",
     "iopub.status.busy": "2024-06-20T19:03:24.058563Z",
     "iopub.status.idle": "2024-06-20T19:03:24.411484Z",
     "shell.execute_reply": "2024-06-20T19:03:24.411122Z"
    },
    "papermill": {
     "duration": 0.356372,
     "end_time": "2024-06-20T19:03:24.412566",
     "exception": false,
     "start_time": "2024-06-20T19:03:24.056194",
     "status": "completed"
    },
    "tags": []
   },
   "outputs": [],
   "source": [
    "from morpheus.project.types.Model import Model\n",
    "\n",
    "model = Model.new()\n",
    "model = model.with_updated_time_discretization(time_discretization)\n",
    "model = model.with_updated_spatial_discretization(spatial_discretization=spatial_discretization)"
   ]
  },
  {
   "cell_type": "code",
   "execution_count": 5,
   "id": "1540b870ae83f298",
   "metadata": {
    "ExecuteTime": {
     "end_time": "2024-06-20T18:59:12.519787Z",
     "start_time": "2024-06-20T18:59:12.324199Z"
    },
    "collapsed": false,
    "execution": {
     "iopub.execute_input": "2024-06-20T19:03:24.417450Z",
     "iopub.status.busy": "2024-06-20T19:03:24.417251Z",
     "iopub.status.idle": "2024-06-20T19:03:24.565279Z",
     "shell.execute_reply": "2024-06-20T19:03:24.565021Z"
    },
    "papermill": {
     "duration": 0.151408,
     "end_time": "2024-06-20T19:03:24.566164",
     "exception": false,
     "start_time": "2024-06-20T19:03:24.414756",
     "status": "completed"
    },
    "tags": []
   },
   "outputs": [
    {
     "data": {
      "text/html": [
       "<div style=\"width:100%;\"><div style=\"position:relative;width:100%;height:0;padding-bottom:60%;\"><span style=\"color:#565656\">Make this Notebook Trusted to load map: File -> Trust Notebook</span><iframe srcdoc=\"&lt;!DOCTYPE html&gt;\n",
       "&lt;html&gt;\n",
       "&lt;head&gt;\n",
       "    \n",
       "    &lt;meta http-equiv=&quot;content-type&quot; content=&quot;text/html; charset=UTF-8&quot; /&gt;\n",
       "    \n",
       "        &lt;script&gt;\n",
       "            L_NO_TOUCH = false;\n",
       "            L_DISABLE_3D = false;\n",
       "        &lt;/script&gt;\n",
       "    \n",
       "    &lt;style&gt;html, body {width: 100%;height: 100%;margin: 0;padding: 0;}&lt;/style&gt;\n",
       "    &lt;style&gt;#map {position:absolute;top:0;bottom:0;right:0;left:0;}&lt;/style&gt;\n",
       "    &lt;script src=&quot;https://cdn.jsdelivr.net/npm/leaflet@1.9.3/dist/leaflet.js&quot;&gt;&lt;/script&gt;\n",
       "    &lt;script src=&quot;https://code.jquery.com/jquery-3.7.1.min.js&quot;&gt;&lt;/script&gt;\n",
       "    &lt;script src=&quot;https://cdn.jsdelivr.net/npm/bootstrap@5.2.2/dist/js/bootstrap.bundle.min.js&quot;&gt;&lt;/script&gt;\n",
       "    &lt;script src=&quot;https://cdnjs.cloudflare.com/ajax/libs/Leaflet.awesome-markers/2.0.2/leaflet.awesome-markers.js&quot;&gt;&lt;/script&gt;\n",
       "    &lt;link rel=&quot;stylesheet&quot; href=&quot;https://cdn.jsdelivr.net/npm/leaflet@1.9.3/dist/leaflet.css&quot;/&gt;\n",
       "    &lt;link rel=&quot;stylesheet&quot; href=&quot;https://cdn.jsdelivr.net/npm/bootstrap@5.2.2/dist/css/bootstrap.min.css&quot;/&gt;\n",
       "    &lt;link rel=&quot;stylesheet&quot; href=&quot;https://netdna.bootstrapcdn.com/bootstrap/3.0.0/css/bootstrap.min.css&quot;/&gt;\n",
       "    &lt;link rel=&quot;stylesheet&quot; href=&quot;https://cdn.jsdelivr.net/npm/@fortawesome/fontawesome-free@6.2.0/css/all.min.css&quot;/&gt;\n",
       "    &lt;link rel=&quot;stylesheet&quot; href=&quot;https://cdnjs.cloudflare.com/ajax/libs/Leaflet.awesome-markers/2.0.2/leaflet.awesome-markers.css&quot;/&gt;\n",
       "    &lt;link rel=&quot;stylesheet&quot; href=&quot;https://cdn.jsdelivr.net/gh/python-visualization/folium/folium/templates/leaflet.awesome.rotate.min.css&quot;/&gt;\n",
       "    \n",
       "            &lt;meta name=&quot;viewport&quot; content=&quot;width=device-width,\n",
       "                initial-scale=1.0, maximum-scale=1.0, user-scalable=no&quot; /&gt;\n",
       "            &lt;style&gt;\n",
       "                #map_0b39569c8b4b3697dfdcac5446ca2cf1 {\n",
       "                    position: relative;\n",
       "                    width: 100.0%;\n",
       "                    height: 100.0%;\n",
       "                    left: 0.0%;\n",
       "                    top: 0.0%;\n",
       "                }\n",
       "                .leaflet-container { font-size: 1rem; }\n",
       "            &lt;/style&gt;\n",
       "        \n",
       "&lt;/head&gt;\n",
       "&lt;body&gt;\n",
       "    \n",
       "    \n",
       "            &lt;div class=&quot;folium-map&quot; id=&quot;map_0b39569c8b4b3697dfdcac5446ca2cf1&quot; &gt;&lt;/div&gt;\n",
       "        \n",
       "&lt;/body&gt;\n",
       "&lt;script&gt;\n",
       "    \n",
       "    \n",
       "            var map_0b39569c8b4b3697dfdcac5446ca2cf1 = L.map(\n",
       "                &quot;map_0b39569c8b4b3697dfdcac5446ca2cf1&quot;,\n",
       "                {\n",
       "                    center: [50.965, 13.922],\n",
       "                    crs: L.CRS.EPSG3857,\n",
       "                    zoom: 12,\n",
       "                    zoomControl: true,\n",
       "                    preferCanvas: false,\n",
       "                }\n",
       "            );\n",
       "\n",
       "            \n",
       "\n",
       "        \n",
       "    \n",
       "            var tile_layer_714e1ec5d3477448c9e8eb8b8b497096 = L.tileLayer(\n",
       "                &quot;https://{s}.basemaps.cartocdn.com/light_all/{z}/{x}/{y}{r}.png&quot;,\n",
       "                {&quot;attribution&quot;: &quot;\\u0026copy; \\u003ca href=\\&quot;https://www.openstreetmap.org/copyright\\&quot;\\u003eOpenStreetMap\\u003c/a\\u003e contributors \\u0026copy; \\u003ca href=\\&quot;https://carto.com/attributions\\&quot;\\u003eCARTO\\u003c/a\\u003e&quot;, &quot;detectRetina&quot;: false, &quot;maxNativeZoom&quot;: 20, &quot;maxZoom&quot;: 20, &quot;minZoom&quot;: 0, &quot;noWrap&quot;: false, &quot;opacity&quot;: 1, &quot;subdomains&quot;: &quot;abcd&quot;, &quot;tms&quot;: false}\n",
       "            );\n",
       "        \n",
       "    \n",
       "            tile_layer_714e1ec5d3477448c9e8eb8b8b497096.addTo(map_0b39569c8b4b3697dfdcac5446ca2cf1);\n",
       "        \n",
       "    \n",
       "\n",
       "        function geo_json_073ac0a4b1ef6957aac4a7ce218616cc_onEachFeature(feature, layer) {\n",
       "            layer.on({\n",
       "            });\n",
       "        };\n",
       "        var geo_json_073ac0a4b1ef6957aac4a7ce218616cc = L.geoJson(null, {\n",
       "                onEachFeature: geo_json_073ac0a4b1ef6957aac4a7ce218616cc_onEachFeature,\n",
       "            \n",
       "        });\n",
       "\n",
       "        function geo_json_073ac0a4b1ef6957aac4a7ce218616cc_add (data) {\n",
       "            geo_json_073ac0a4b1ef6957aac4a7ce218616cc\n",
       "                .addData(data);\n",
       "        }\n",
       "            geo_json_073ac0a4b1ef6957aac4a7ce218616cc_add({&quot;coordinates&quot;: [[[13.92, 50.964], [13.92, 50.966], [13.925, 50.966], [13.925, 50.964], [13.92, 50.964]]], &quot;type&quot;: &quot;Polygon&quot;});\n",
       "\n",
       "        \n",
       "    \n",
       "            geo_json_073ac0a4b1ef6957aac4a7ce218616cc.addTo(map_0b39569c8b4b3697dfdcac5446ca2cf1);\n",
       "        \n",
       "    \n",
       "            map_0b39569c8b4b3697dfdcac5446ca2cf1.fitBounds(\n",
       "                [[50.964, 13.92], [50.966, 13.925]],\n",
       "                {}\n",
       "            );\n",
       "        \n",
       "&lt;/script&gt;\n",
       "&lt;/html&gt;\" style=\"position:absolute;width:100%;height:100%;left:0;top:0;border:none !important;\" allowfullscreen webkitallowfullscreen mozallowfullscreen></iframe></div></div>"
      ],
      "text/plain": [
       "<folium.folium.Map at 0x13310b2c0>"
      ]
     },
     "execution_count": 5,
     "metadata": {},
     "output_type": "execute_result"
    }
   ],
   "source": [
    "import folium\n",
    "\n",
    "m = folium.Map(tiles=\"cartodbpositron\", crs=\"EPSG3857\", zoom_start=12, location=[50.965, 13.922])\n",
    "m.add_child(folium.GeoJson(polygon.as_geojson()))\n",
    "\n",
    "m.fit_bounds(m.get_bounds())\n",
    "m"
   ]
  },
  {
   "cell_type": "markdown",
   "id": "62ae3587df801000",
   "metadata": {
    "collapsed": false,
    "papermill": {
     "duration": 0.00202,
     "end_time": "2024-06-20T19:03:24.570538",
     "exception": false,
     "start_time": "2024-06-20T19:03:24.568518",
     "status": "completed"
    },
    "tags": []
   },
   "source": [
    "# Setup drain boundary with two observations"
   ]
  },
  {
   "cell_type": "code",
   "execution_count": 6,
   "id": "53679913aee28ce9",
   "metadata": {
    "ExecuteTime": {
     "end_time": "2024-06-20T18:59:13.525682Z",
     "start_time": "2024-06-20T18:59:12.522170Z"
    },
    "collapsed": false,
    "execution": {
     "iopub.execute_input": "2024-06-20T19:03:24.575300Z",
     "iopub.status.busy": "2024-06-20T19:03:24.575117Z",
     "iopub.status.idle": "2024-06-20T19:03:25.571679Z",
     "shell.execute_reply": "2024-06-20T19:03:25.571378Z"
    },
    "papermill": {
     "duration": 0.999879,
     "end_time": "2024-06-20T19:03:25.572522",
     "exception": false,
     "start_time": "2024-06-20T19:03:24.572643",
     "status": "completed"
    },
    "tags": []
   },
   "outputs": [
    {
     "data": {
      "text/html": [
       "<div style=\"width:100%;\"><div style=\"position:relative;width:100%;height:0;padding-bottom:60%;\"><span style=\"color:#565656\">Make this Notebook Trusted to load map: File -> Trust Notebook</span><iframe srcdoc=\"&lt;!DOCTYPE html&gt;\n",
       "&lt;html&gt;\n",
       "&lt;head&gt;\n",
       "    \n",
       "    &lt;meta http-equiv=&quot;content-type&quot; content=&quot;text/html; charset=UTF-8&quot; /&gt;\n",
       "    \n",
       "        &lt;script&gt;\n",
       "            L_NO_TOUCH = false;\n",
       "            L_DISABLE_3D = false;\n",
       "        &lt;/script&gt;\n",
       "    \n",
       "    &lt;style&gt;html, body {width: 100%;height: 100%;margin: 0;padding: 0;}&lt;/style&gt;\n",
       "    &lt;style&gt;#map {position:absolute;top:0;bottom:0;right:0;left:0;}&lt;/style&gt;\n",
       "    &lt;script src=&quot;https://cdn.jsdelivr.net/npm/leaflet@1.9.3/dist/leaflet.js&quot;&gt;&lt;/script&gt;\n",
       "    &lt;script src=&quot;https://code.jquery.com/jquery-3.7.1.min.js&quot;&gt;&lt;/script&gt;\n",
       "    &lt;script src=&quot;https://cdn.jsdelivr.net/npm/bootstrap@5.2.2/dist/js/bootstrap.bundle.min.js&quot;&gt;&lt;/script&gt;\n",
       "    &lt;script src=&quot;https://cdnjs.cloudflare.com/ajax/libs/Leaflet.awesome-markers/2.0.2/leaflet.awesome-markers.js&quot;&gt;&lt;/script&gt;\n",
       "    &lt;link rel=&quot;stylesheet&quot; href=&quot;https://cdn.jsdelivr.net/npm/leaflet@1.9.3/dist/leaflet.css&quot;/&gt;\n",
       "    &lt;link rel=&quot;stylesheet&quot; href=&quot;https://cdn.jsdelivr.net/npm/bootstrap@5.2.2/dist/css/bootstrap.min.css&quot;/&gt;\n",
       "    &lt;link rel=&quot;stylesheet&quot; href=&quot;https://netdna.bootstrapcdn.com/bootstrap/3.0.0/css/bootstrap.min.css&quot;/&gt;\n",
       "    &lt;link rel=&quot;stylesheet&quot; href=&quot;https://cdn.jsdelivr.net/npm/@fortawesome/fontawesome-free@6.2.0/css/all.min.css&quot;/&gt;\n",
       "    &lt;link rel=&quot;stylesheet&quot; href=&quot;https://cdnjs.cloudflare.com/ajax/libs/Leaflet.awesome-markers/2.0.2/leaflet.awesome-markers.css&quot;/&gt;\n",
       "    &lt;link rel=&quot;stylesheet&quot; href=&quot;https://cdn.jsdelivr.net/gh/python-visualization/folium/folium/templates/leaflet.awesome.rotate.min.css&quot;/&gt;\n",
       "    \n",
       "            &lt;meta name=&quot;viewport&quot; content=&quot;width=device-width,\n",
       "                initial-scale=1.0, maximum-scale=1.0, user-scalable=no&quot; /&gt;\n",
       "            &lt;style&gt;\n",
       "                #map_0b39569c8b4b3697dfdcac5446ca2cf1 {\n",
       "                    position: relative;\n",
       "                    width: 100.0%;\n",
       "                    height: 100.0%;\n",
       "                    left: 0.0%;\n",
       "                    top: 0.0%;\n",
       "                }\n",
       "                .leaflet-container { font-size: 1rem; }\n",
       "            &lt;/style&gt;\n",
       "        \n",
       "&lt;/head&gt;\n",
       "&lt;body&gt;\n",
       "    \n",
       "    \n",
       "            &lt;div class=&quot;folium-map&quot; id=&quot;map_0b39569c8b4b3697dfdcac5446ca2cf1&quot; &gt;&lt;/div&gt;\n",
       "        \n",
       "&lt;/body&gt;\n",
       "&lt;script&gt;\n",
       "    \n",
       "    \n",
       "            var map_0b39569c8b4b3697dfdcac5446ca2cf1 = L.map(\n",
       "                &quot;map_0b39569c8b4b3697dfdcac5446ca2cf1&quot;,\n",
       "                {\n",
       "                    center: [50.965, 13.922],\n",
       "                    crs: L.CRS.EPSG3857,\n",
       "                    zoom: 12,\n",
       "                    zoomControl: true,\n",
       "                    preferCanvas: false,\n",
       "                }\n",
       "            );\n",
       "\n",
       "            \n",
       "\n",
       "        \n",
       "    \n",
       "            var tile_layer_714e1ec5d3477448c9e8eb8b8b497096 = L.tileLayer(\n",
       "                &quot;https://{s}.basemaps.cartocdn.com/light_all/{z}/{x}/{y}{r}.png&quot;,\n",
       "                {&quot;attribution&quot;: &quot;\\u0026copy; \\u003ca href=\\&quot;https://www.openstreetmap.org/copyright\\&quot;\\u003eOpenStreetMap\\u003c/a\\u003e contributors \\u0026copy; \\u003ca href=\\&quot;https://carto.com/attributions\\&quot;\\u003eCARTO\\u003c/a\\u003e&quot;, &quot;detectRetina&quot;: false, &quot;maxNativeZoom&quot;: 20, &quot;maxZoom&quot;: 20, &quot;minZoom&quot;: 0, &quot;noWrap&quot;: false, &quot;opacity&quot;: 1, &quot;subdomains&quot;: &quot;abcd&quot;, &quot;tms&quot;: false}\n",
       "            );\n",
       "        \n",
       "    \n",
       "            tile_layer_714e1ec5d3477448c9e8eb8b8b497096.addTo(map_0b39569c8b4b3697dfdcac5446ca2cf1);\n",
       "        \n",
       "    \n",
       "\n",
       "        function geo_json_073ac0a4b1ef6957aac4a7ce218616cc_onEachFeature(feature, layer) {\n",
       "            layer.on({\n",
       "            });\n",
       "        };\n",
       "        var geo_json_073ac0a4b1ef6957aac4a7ce218616cc = L.geoJson(null, {\n",
       "                onEachFeature: geo_json_073ac0a4b1ef6957aac4a7ce218616cc_onEachFeature,\n",
       "            \n",
       "        });\n",
       "\n",
       "        function geo_json_073ac0a4b1ef6957aac4a7ce218616cc_add (data) {\n",
       "            geo_json_073ac0a4b1ef6957aac4a7ce218616cc\n",
       "                .addData(data);\n",
       "        }\n",
       "            geo_json_073ac0a4b1ef6957aac4a7ce218616cc_add({&quot;coordinates&quot;: [[[13.92, 50.964], [13.92, 50.966], [13.925, 50.966], [13.925, 50.964], [13.92, 50.964]]], &quot;type&quot;: &quot;Polygon&quot;});\n",
       "\n",
       "        \n",
       "    \n",
       "            geo_json_073ac0a4b1ef6957aac4a7ce218616cc.addTo(map_0b39569c8b4b3697dfdcac5446ca2cf1);\n",
       "        \n",
       "    \n",
       "            map_0b39569c8b4b3697dfdcac5446ca2cf1.fitBounds(\n",
       "                [[50.964, 13.92], [50.966, 13.925]],\n",
       "                {}\n",
       "            );\n",
       "        \n",
       "    \n",
       "            tile_layer_714e1ec5d3477448c9e8eb8b8b497096.addTo(map_0b39569c8b4b3697dfdcac5446ca2cf1);\n",
       "        \n",
       "    \n",
       "            geo_json_073ac0a4b1ef6957aac4a7ce218616cc.addTo(map_0b39569c8b4b3697dfdcac5446ca2cf1);\n",
       "        \n",
       "    \n",
       "\n",
       "        function geo_json_0c95c27892234a8df7943138dacc0cc2_onEachFeature(feature, layer) {\n",
       "            layer.on({\n",
       "            });\n",
       "        };\n",
       "        var geo_json_0c95c27892234a8df7943138dacc0cc2 = L.geoJson(null, {\n",
       "                onEachFeature: geo_json_0c95c27892234a8df7943138dacc0cc2_onEachFeature,\n",
       "            \n",
       "        });\n",
       "\n",
       "        function geo_json_0c95c27892234a8df7943138dacc0cc2_add (data) {\n",
       "            geo_json_0c95c27892234a8df7943138dacc0cc2\n",
       "                .addData(data);\n",
       "        }\n",
       "            geo_json_0c95c27892234a8df7943138dacc0cc2_add({&quot;coordinates&quot;: [[13.92499, 50.966], [13.92499, 50.964]], &quot;type&quot;: &quot;LineString&quot;});\n",
       "\n",
       "        \n",
       "    \n",
       "            geo_json_0c95c27892234a8df7943138dacc0cc2.addTo(map_0b39569c8b4b3697dfdcac5446ca2cf1);\n",
       "        \n",
       "    \n",
       "\n",
       "        function geo_json_3fee4416aa3daf6596b7165b5151cde3_onEachFeature(feature, layer) {\n",
       "            layer.on({\n",
       "            });\n",
       "        };\n",
       "        var geo_json_3fee4416aa3daf6596b7165b5151cde3 = L.geoJson(null, {\n",
       "                onEachFeature: geo_json_3fee4416aa3daf6596b7165b5151cde3_onEachFeature,\n",
       "            \n",
       "        });\n",
       "\n",
       "        function geo_json_3fee4416aa3daf6596b7165b5151cde3_add (data) {\n",
       "            geo_json_3fee4416aa3daf6596b7165b5151cde3\n",
       "                .addData(data);\n",
       "        }\n",
       "            geo_json_3fee4416aa3daf6596b7165b5151cde3_add({&quot;geometries&quot;: [{&quot;coordinates&quot;: [[[13.92495, 50.965999999999994], [13.925000000000002, 50.965999999999994], [13.925000000000002, 50.965960000843815], [13.92495, 50.965960000843815], [13.92495, 50.965999999999994]]], &quot;type&quot;: &quot;Polygon&quot;}, {&quot;coordinates&quot;: [[[13.92495, 50.965960000843815], [13.925000000000002, 50.965960000843815], [13.925000000000002, 50.965920001653195], [13.92495, 50.965920001653195], [13.92495, 50.965960000843815]]], &quot;type&quot;: &quot;Polygon&quot;}, {&quot;coordinates&quot;: [[[13.92495, 50.965920001653195], [13.925000000000002, 50.965920001653195], [13.925000000000002, 50.965880002428136], [13.92495, 50.965880002428136], [13.92495, 50.965920001653195]]], &quot;type&quot;: &quot;Polygon&quot;}, {&quot;coordinates&quot;: [[[13.92495, 50.965880002428136], [13.925000000000002, 50.965880002428136], [13.925000000000002, 50.96584000316863], [13.92495, 50.96584000316863], [13.92495, 50.965880002428136]]], &quot;type&quot;: &quot;Polygon&quot;}, {&quot;coordinates&quot;: [[[13.92495, 50.96584000316863], [13.925000000000002, 50.96584000316863], [13.925000000000002, 50.96580000387468], [13.92495, 50.96580000387468], [13.92495, 50.96584000316863]]], &quot;type&quot;: &quot;Polygon&quot;}, {&quot;coordinates&quot;: [[[13.92495, 50.96580000387468], [13.925000000000002, 50.96580000387468], [13.925000000000002, 50.965760004546304], [13.92495, 50.965760004546304], [13.92495, 50.96580000387468]]], &quot;type&quot;: &quot;Polygon&quot;}, {&quot;coordinates&quot;: [[[13.92495, 50.965760004546304], [13.925000000000002, 50.965760004546304], [13.925000000000002, 50.96572000518347], [13.92495, 50.96572000518347], [13.92495, 50.965760004546304]]], &quot;type&quot;: &quot;Polygon&quot;}, {&quot;coordinates&quot;: [[[13.92495, 50.96572000518347], [13.925000000000002, 50.96572000518347], [13.925000000000002, 50.9656800057862], [13.92495, 50.9656800057862], [13.92495, 50.96572000518347]]], &quot;type&quot;: &quot;Polygon&quot;}, {&quot;coordinates&quot;: [[[13.92495, 50.9656800057862], [13.925000000000002, 50.9656800057862], [13.925000000000002, 50.9656400063545], [13.92495, 50.9656400063545], [13.92495, 50.9656800057862]]], &quot;type&quot;: &quot;Polygon&quot;}, {&quot;coordinates&quot;: [[[13.92495, 50.9656400063545], [13.925000000000002, 50.9656400063545], [13.925000000000002, 50.965600006888344], [13.92495, 50.965600006888344], [13.92495, 50.9656400063545]]], &quot;type&quot;: &quot;Polygon&quot;}, {&quot;coordinates&quot;: [[[13.92495, 50.965600006888344], [13.925000000000002, 50.965600006888344], [13.925000000000002, 50.965560007387744], [13.92495, 50.965560007387744], [13.92495, 50.965600006888344]]], &quot;type&quot;: &quot;Polygon&quot;}, {&quot;coordinates&quot;: [[[13.92495, 50.965560007387744], [13.925000000000002, 50.965560007387744], [13.925000000000002, 50.96552000785271], [13.92495, 50.96552000785271], [13.92495, 50.965560007387744]]], &quot;type&quot;: &quot;Polygon&quot;}, {&quot;coordinates&quot;: [[[13.92495, 50.96552000785271], [13.925000000000002, 50.96552000785271], [13.925000000000002, 50.96548000828324], [13.92495, 50.96548000828324], [13.92495, 50.96552000785271]]], &quot;type&quot;: &quot;Polygon&quot;}, {&quot;coordinates&quot;: [[[13.92495, 50.96548000828324], [13.925000000000002, 50.96548000828324], [13.925000000000002, 50.965440008679316], [13.92495, 50.965440008679316], [13.92495, 50.96548000828324]]], &quot;type&quot;: &quot;Polygon&quot;}, {&quot;coordinates&quot;: [[[13.92495, 50.965440008679316], [13.925000000000002, 50.965440008679316], [13.925000000000002, 50.965400009040955], [13.92495, 50.965400009040955], [13.92495, 50.965440008679316]]], &quot;type&quot;: &quot;Polygon&quot;}, {&quot;coordinates&quot;: [[[13.92495, 50.965400009040955], [13.925000000000002, 50.965400009040955], [13.925000000000002, 50.965360009368155], [13.92495, 50.965360009368155], [13.92495, 50.965400009040955]]], &quot;type&quot;: &quot;Polygon&quot;}, {&quot;coordinates&quot;: [[[13.92495, 50.965360009368155], [13.925000000000002, 50.965360009368155], [13.925000000000002, 50.96532000966091], [13.92495, 50.96532000966091], [13.92495, 50.965360009368155]]], &quot;type&quot;: &quot;Polygon&quot;}, {&quot;coordinates&quot;: [[[13.92495, 50.96532000966091], [13.925000000000002, 50.96532000966091], [13.925000000000002, 50.965280009919226], [13.92495, 50.965280009919226], [13.92495, 50.96532000966091]]], &quot;type&quot;: &quot;Polygon&quot;}, {&quot;coordinates&quot;: [[[13.92495, 50.965280009919226], [13.925000000000002, 50.965280009919226], [13.925000000000002, 50.96524001014309], [13.92495, 50.96524001014309], [13.92495, 50.965280009919226]]], &quot;type&quot;: &quot;Polygon&quot;}, {&quot;coordinates&quot;: [[[13.92495, 50.96524001014309], [13.925000000000002, 50.96524001014309], [13.925000000000002, 50.96520001033253], [13.92495, 50.96520001033253], [13.92495, 50.96524001014309]]], &quot;type&quot;: &quot;Polygon&quot;}, {&quot;coordinates&quot;: [[[13.92495, 50.96520001033253], [13.925000000000002, 50.96520001033253], [13.925000000000002, 50.965160010487516], [13.92495, 50.965160010487516], [13.92495, 50.96520001033253]]], &quot;type&quot;: &quot;Polygon&quot;}, {&quot;coordinates&quot;: [[[13.92495, 50.965160010487516], [13.925000000000002, 50.965160010487516], [13.925000000000002, 50.96512001060807], [13.92495, 50.96512001060807], [13.92495, 50.965160010487516]]], &quot;type&quot;: &quot;Polygon&quot;}, {&quot;coordinates&quot;: [[[13.92495, 50.96512001060807], [13.925000000000002, 50.96512001060807], [13.925000000000002, 50.96508001069417], [13.92495, 50.96508001069417], [13.92495, 50.96512001060807]]], &quot;type&quot;: &quot;Polygon&quot;}, {&quot;coordinates&quot;: [[[13.92495, 50.96508001069417], [13.925000000000002, 50.96508001069417], [13.925000000000002, 50.96504001074583], [13.92495, 50.96504001074583], [13.92495, 50.96508001069417]]], &quot;type&quot;: &quot;Polygon&quot;}, {&quot;coordinates&quot;: [[[13.92495, 50.96504001074583], [13.925000000000002, 50.96504001074583], [13.925000000000002, 50.96500001076305], [13.92495, 50.96500001076305], [13.92495, 50.96504001074583]]], &quot;type&quot;: &quot;Polygon&quot;}, {&quot;coordinates&quot;: [[[13.92495, 50.96500001076305], [13.925000000000002, 50.96500001076305], [13.925000000000002, 50.964960010745834], [13.92495, 50.964960010745834], [13.92495, 50.96500001076305]]], &quot;type&quot;: &quot;Polygon&quot;}, {&quot;coordinates&quot;: [[[13.92495, 50.964960010745834], [13.925000000000002, 50.964960010745834], [13.925000000000002, 50.96492001069418], [13.92495, 50.96492001069418], [13.92495, 50.964960010745834]]], &quot;type&quot;: &quot;Polygon&quot;}, {&quot;coordinates&quot;: [[[13.92495, 50.96492001069418], [13.925000000000002, 50.96492001069418], [13.925000000000002, 50.96488001060807], [13.92495, 50.96488001060807], [13.92495, 50.96492001069418]]], &quot;type&quot;: &quot;Polygon&quot;}, {&quot;coordinates&quot;: [[[13.92495, 50.96488001060807], [13.925000000000002, 50.96488001060807], [13.925000000000002, 50.96484001048752], [13.92495, 50.96484001048752], [13.92495, 50.96488001060807]]], &quot;type&quot;: &quot;Polygon&quot;}, {&quot;coordinates&quot;: [[[13.92495, 50.96484001048752], [13.925000000000002, 50.96484001048752], [13.925000000000002, 50.964800010332546], [13.92495, 50.964800010332546], [13.92495, 50.96484001048752]]], &quot;type&quot;: &quot;Polygon&quot;}, {&quot;coordinates&quot;: [[[13.92495, 50.964800010332546], [13.925000000000002, 50.964800010332546], [13.925000000000002, 50.96476001014311], [13.92495, 50.96476001014311], [13.92495, 50.964800010332546]]], &quot;type&quot;: &quot;Polygon&quot;}, {&quot;coordinates&quot;: [[[13.92495, 50.96476001014311], [13.925000000000002, 50.96476001014311], [13.925000000000002, 50.96472000991924], [13.92495, 50.96472000991924], [13.92495, 50.96476001014311]]], &quot;type&quot;: &quot;Polygon&quot;}, {&quot;coordinates&quot;: [[[13.92495, 50.96472000991924], [13.925000000000002, 50.96472000991924], [13.925000000000002, 50.964680009660924], [13.92495, 50.964680009660924], [13.92495, 50.96472000991924]]], &quot;type&quot;: &quot;Polygon&quot;}, {&quot;coordinates&quot;: [[[13.92495, 50.964680009660924], [13.925000000000002, 50.964680009660924], [13.925000000000002, 50.96464000936817], [13.92495, 50.96464000936817], [13.92495, 50.964680009660924]]], &quot;type&quot;: &quot;Polygon&quot;}, {&quot;coordinates&quot;: [[[13.92495, 50.96464000936817], [13.925000000000002, 50.96464000936817], [13.925000000000002, 50.96460000904097], [13.92495, 50.96460000904097], [13.92495, 50.96464000936817]]], &quot;type&quot;: &quot;Polygon&quot;}, {&quot;coordinates&quot;: [[[13.92495, 50.96460000904097], [13.925000000000002, 50.96460000904097], [13.925000000000002, 50.96456000867934], [13.92495, 50.96456000867934], [13.92495, 50.96460000904097]]], &quot;type&quot;: &quot;Polygon&quot;}, {&quot;coordinates&quot;: [[[13.92495, 50.96456000867934], [13.925000000000002, 50.96456000867934], [13.925000000000002, 50.96452000828325], [13.92495, 50.96452000828325], [13.92495, 50.96456000867934]]], &quot;type&quot;: &quot;Polygon&quot;}, {&quot;coordinates&quot;: [[[13.92495, 50.96452000828325], [13.925000000000002, 50.96452000828325], [13.925000000000002, 50.964480007852735], [13.92495, 50.964480007852735], [13.92495, 50.96452000828325]]], &quot;type&quot;: &quot;Polygon&quot;}, {&quot;coordinates&quot;: [[[13.92495, 50.964480007852735], [13.925000000000002, 50.964480007852735], [13.925000000000002, 50.96444000738777], [13.92495, 50.96444000738777], [13.92495, 50.964480007852735]]], &quot;type&quot;: &quot;Polygon&quot;}, {&quot;coordinates&quot;: [[[13.92495, 50.96444000738777], [13.925000000000002, 50.96444000738777], [13.925000000000002, 50.96440000688836], [13.92495, 50.96440000688836], [13.92495, 50.96444000738777]]], &quot;type&quot;: &quot;Polygon&quot;}, {&quot;coordinates&quot;: [[[13.92495, 50.96440000688836], [13.925000000000002, 50.96440000688836], [13.925000000000002, 50.96436000635452], [13.92495, 50.96436000635452], [13.92495, 50.96440000688836]]], &quot;type&quot;: &quot;Polygon&quot;}, {&quot;coordinates&quot;: [[[13.92495, 50.96436000635452], [13.925000000000002, 50.96436000635452], [13.925000000000002, 50.96432000578623], [13.92495, 50.96432000578623], [13.92495, 50.96436000635452]]], &quot;type&quot;: &quot;Polygon&quot;}, {&quot;coordinates&quot;: [[[13.92495, 50.96432000578623], [13.925000000000002, 50.96432000578623], [13.925000000000002, 50.9642800051835], [13.92495, 50.9642800051835], [13.92495, 50.96432000578623]]], &quot;type&quot;: &quot;Polygon&quot;}, {&quot;coordinates&quot;: [[[13.92495, 50.9642800051835], [13.925000000000002, 50.9642800051835], [13.925000000000002, 50.96424000454632], [13.92495, 50.96424000454632], [13.92495, 50.9642800051835]]], &quot;type&quot;: &quot;Polygon&quot;}, {&quot;coordinates&quot;: [[[13.92495, 50.96424000454632], [13.925000000000002, 50.96424000454632], [13.925000000000002, 50.96420000387471], [13.92495, 50.96420000387471], [13.92495, 50.96424000454632]]], &quot;type&quot;: &quot;Polygon&quot;}, {&quot;coordinates&quot;: [[[13.92495, 50.96420000387471], [13.925000000000002, 50.96420000387471], [13.925000000000002, 50.964160003168644], [13.92495, 50.964160003168644], [13.92495, 50.96420000387471]]], &quot;type&quot;: &quot;Polygon&quot;}, {&quot;coordinates&quot;: [[[13.92495, 50.964160003168644], [13.925000000000002, 50.964160003168644], [13.925000000000002, 50.964120002428146], [13.92495, 50.964120002428146], [13.92495, 50.964160003168644]]], &quot;type&quot;: &quot;Polygon&quot;}, {&quot;coordinates&quot;: [[[13.92495, 50.964120002428146], [13.925000000000002, 50.964120002428146], [13.925000000000002, 50.96408000165321], [13.92495, 50.96408000165321], [13.92495, 50.964120002428146]]], &quot;type&quot;: &quot;Polygon&quot;}, {&quot;coordinates&quot;: [[[13.92495, 50.96408000165321], [13.925000000000002, 50.96408000165321], [13.925000000000002, 50.964040000843816], [13.92495, 50.964040000843816], [13.92495, 50.96408000165321]]], &quot;type&quot;: &quot;Polygon&quot;}, {&quot;coordinates&quot;: [[[13.92495, 50.964040000843816], [13.925000000000002, 50.964040000843816], [13.925000000000002, 50.96399999999999], [13.92495, 50.96399999999999], [13.92495, 50.964040000843816]]], &quot;type&quot;: &quot;Polygon&quot;}], &quot;type&quot;: &quot;GeometryCollection&quot;});\n",
       "\n",
       "        \n",
       "    \n",
       "            geo_json_3fee4416aa3daf6596b7165b5151cde3.addTo(map_0b39569c8b4b3697dfdcac5446ca2cf1);\n",
       "        \n",
       "    \n",
       "\n",
       "        function geo_json_fb9184149dfcb009e91febcf577dcbe2_onEachFeature(feature, layer) {\n",
       "            layer.on({\n",
       "            });\n",
       "        };\n",
       "        var geo_json_fb9184149dfcb009e91febcf577dcbe2 = L.geoJson(null, {\n",
       "                onEachFeature: geo_json_fb9184149dfcb009e91febcf577dcbe2_onEachFeature,\n",
       "            \n",
       "        });\n",
       "\n",
       "        function geo_json_fb9184149dfcb009e91febcf577dcbe2_add (data) {\n",
       "            geo_json_fb9184149dfcb009e91febcf577dcbe2\n",
       "                .addData(data);\n",
       "        }\n",
       "            geo_json_fb9184149dfcb009e91febcf577dcbe2_add({&quot;coordinates&quot;: [13.92499, 50.966], &quot;type&quot;: &quot;Point&quot;});\n",
       "\n",
       "        \n",
       "    \n",
       "            geo_json_fb9184149dfcb009e91febcf577dcbe2.addTo(map_0b39569c8b4b3697dfdcac5446ca2cf1);\n",
       "        \n",
       "    \n",
       "\n",
       "        function geo_json_27b4777f105557907f521c3ec6bb0737_onEachFeature(feature, layer) {\n",
       "            layer.on({\n",
       "            });\n",
       "        };\n",
       "        var geo_json_27b4777f105557907f521c3ec6bb0737 = L.geoJson(null, {\n",
       "                onEachFeature: geo_json_27b4777f105557907f521c3ec6bb0737_onEachFeature,\n",
       "            \n",
       "        });\n",
       "\n",
       "        function geo_json_27b4777f105557907f521c3ec6bb0737_add (data) {\n",
       "            geo_json_27b4777f105557907f521c3ec6bb0737\n",
       "                .addData(data);\n",
       "        }\n",
       "            geo_json_27b4777f105557907f521c3ec6bb0737_add({&quot;coordinates&quot;: [13.92499, 50.964], &quot;type&quot;: &quot;Point&quot;});\n",
       "\n",
       "        \n",
       "    \n",
       "            geo_json_27b4777f105557907f521c3ec6bb0737.addTo(map_0b39569c8b4b3697dfdcac5446ca2cf1);\n",
       "        \n",
       "    \n",
       "\n",
       "        function geo_json_d76d6f118bc6c9861b62a19f0e0f6959_onEachFeature(feature, layer) {\n",
       "            layer.on({\n",
       "            });\n",
       "        };\n",
       "        var geo_json_d76d6f118bc6c9861b62a19f0e0f6959 = L.geoJson(null, {\n",
       "                onEachFeature: geo_json_d76d6f118bc6c9861b62a19f0e0f6959_onEachFeature,\n",
       "            \n",
       "        });\n",
       "\n",
       "        function geo_json_d76d6f118bc6c9861b62a19f0e0f6959_add (data) {\n",
       "            geo_json_d76d6f118bc6c9861b62a19f0e0f6959\n",
       "                .addData(data);\n",
       "        }\n",
       "            geo_json_d76d6f118bc6c9861b62a19f0e0f6959_add({&quot;coordinates&quot;: [[13.92004, 50.96401], [13.92004, 50.96599]], &quot;type&quot;: &quot;LineString&quot;});\n",
       "\n",
       "        \n",
       "    \n",
       "            geo_json_d76d6f118bc6c9861b62a19f0e0f6959.addTo(map_0b39569c8b4b3697dfdcac5446ca2cf1);\n",
       "        \n",
       "    \n",
       "\n",
       "        function geo_json_6f9f478ce7a118347b7f7885c994b5ff_onEachFeature(feature, layer) {\n",
       "            layer.on({\n",
       "            });\n",
       "        };\n",
       "        var geo_json_6f9f478ce7a118347b7f7885c994b5ff = L.geoJson(null, {\n",
       "                onEachFeature: geo_json_6f9f478ce7a118347b7f7885c994b5ff_onEachFeature,\n",
       "            \n",
       "        });\n",
       "\n",
       "        function geo_json_6f9f478ce7a118347b7f7885c994b5ff_add (data) {\n",
       "            geo_json_6f9f478ce7a118347b7f7885c994b5ff\n",
       "                .addData(data);\n",
       "        }\n",
       "            geo_json_6f9f478ce7a118347b7f7885c994b5ff_add({&quot;geometries&quot;: [{&quot;coordinates&quot;: [[[13.920000000000002, 50.965999999999994], [13.920050000000002, 50.965999999999994], [13.920050000000002, 50.965960000843815], [13.920000000000002, 50.965960000843815], [13.920000000000002, 50.965999999999994]]], &quot;type&quot;: &quot;Polygon&quot;}, {&quot;coordinates&quot;: [[[13.920000000000002, 50.965960000843815], [13.920050000000002, 50.965960000843815], [13.920050000000002, 50.965920001653195], [13.920000000000002, 50.965920001653195], [13.920000000000002, 50.965960000843815]]], &quot;type&quot;: &quot;Polygon&quot;}, {&quot;coordinates&quot;: [[[13.920000000000002, 50.965920001653195], [13.920050000000002, 50.965920001653195], [13.920050000000002, 50.965880002428136], [13.920000000000002, 50.965880002428136], [13.920000000000002, 50.965920001653195]]], &quot;type&quot;: &quot;Polygon&quot;}, {&quot;coordinates&quot;: [[[13.920000000000002, 50.965880002428136], [13.920050000000002, 50.965880002428136], [13.920050000000002, 50.96584000316863], [13.920000000000002, 50.96584000316863], [13.920000000000002, 50.965880002428136]]], &quot;type&quot;: &quot;Polygon&quot;}, {&quot;coordinates&quot;: [[[13.920000000000002, 50.96584000316863], [13.920050000000002, 50.96584000316863], [13.920050000000002, 50.96580000387468], [13.920000000000002, 50.96580000387468], [13.920000000000002, 50.96584000316863]]], &quot;type&quot;: &quot;Polygon&quot;}, {&quot;coordinates&quot;: [[[13.920000000000002, 50.96580000387468], [13.920050000000002, 50.96580000387468], [13.920050000000002, 50.965760004546304], [13.920000000000002, 50.965760004546304], [13.920000000000002, 50.96580000387468]]], &quot;type&quot;: &quot;Polygon&quot;}, {&quot;coordinates&quot;: [[[13.920000000000002, 50.965760004546304], [13.920050000000002, 50.965760004546304], [13.920050000000002, 50.96572000518347], [13.920000000000002, 50.96572000518347], [13.920000000000002, 50.965760004546304]]], &quot;type&quot;: &quot;Polygon&quot;}, {&quot;coordinates&quot;: [[[13.920000000000002, 50.96572000518347], [13.920050000000002, 50.96572000518347], [13.920050000000002, 50.9656800057862], [13.920000000000002, 50.9656800057862], [13.920000000000002, 50.96572000518347]]], &quot;type&quot;: &quot;Polygon&quot;}, {&quot;coordinates&quot;: [[[13.920000000000002, 50.9656800057862], [13.920050000000002, 50.9656800057862], [13.920050000000002, 50.9656400063545], [13.920000000000002, 50.9656400063545], [13.920000000000002, 50.9656800057862]]], &quot;type&quot;: &quot;Polygon&quot;}, {&quot;coordinates&quot;: [[[13.920000000000002, 50.9656400063545], [13.920050000000002, 50.9656400063545], [13.920050000000002, 50.965600006888344], [13.920000000000002, 50.965600006888344], [13.920000000000002, 50.9656400063545]]], &quot;type&quot;: &quot;Polygon&quot;}, {&quot;coordinates&quot;: [[[13.920000000000002, 50.965600006888344], [13.920050000000002, 50.965600006888344], [13.920050000000002, 50.965560007387744], [13.920000000000002, 50.965560007387744], [13.920000000000002, 50.965600006888344]]], &quot;type&quot;: &quot;Polygon&quot;}, {&quot;coordinates&quot;: [[[13.920000000000002, 50.965560007387744], [13.920050000000002, 50.965560007387744], [13.920050000000002, 50.96552000785271], [13.920000000000002, 50.96552000785271], [13.920000000000002, 50.965560007387744]]], &quot;type&quot;: &quot;Polygon&quot;}, {&quot;coordinates&quot;: [[[13.920000000000002, 50.96552000785271], [13.920050000000002, 50.96552000785271], [13.920050000000002, 50.96548000828324], [13.920000000000002, 50.96548000828324], [13.920000000000002, 50.96552000785271]]], &quot;type&quot;: &quot;Polygon&quot;}, {&quot;coordinates&quot;: [[[13.920000000000002, 50.96548000828324], [13.920050000000002, 50.96548000828324], [13.920050000000002, 50.965440008679316], [13.920000000000002, 50.965440008679316], [13.920000000000002, 50.96548000828324]]], &quot;type&quot;: &quot;Polygon&quot;}, {&quot;coordinates&quot;: [[[13.920000000000002, 50.965440008679316], [13.920050000000002, 50.965440008679316], [13.920050000000002, 50.965400009040955], [13.920000000000002, 50.965400009040955], [13.920000000000002, 50.965440008679316]]], &quot;type&quot;: &quot;Polygon&quot;}, {&quot;coordinates&quot;: [[[13.920000000000002, 50.965400009040955], [13.920050000000002, 50.965400009040955], [13.920050000000002, 50.965360009368155], [13.920000000000002, 50.965360009368155], [13.920000000000002, 50.965400009040955]]], &quot;type&quot;: &quot;Polygon&quot;}, {&quot;coordinates&quot;: [[[13.920000000000002, 50.965360009368155], [13.920050000000002, 50.965360009368155], [13.920050000000002, 50.96532000966091], [13.920000000000002, 50.96532000966091], [13.920000000000002, 50.965360009368155]]], &quot;type&quot;: &quot;Polygon&quot;}, {&quot;coordinates&quot;: [[[13.920000000000002, 50.96532000966091], [13.920050000000002, 50.96532000966091], [13.920050000000002, 50.965280009919226], [13.920000000000002, 50.965280009919226], [13.920000000000002, 50.96532000966091]]], &quot;type&quot;: &quot;Polygon&quot;}, {&quot;coordinates&quot;: [[[13.920000000000002, 50.965280009919226], [13.920050000000002, 50.965280009919226], [13.920050000000002, 50.96524001014309], [13.920000000000002, 50.96524001014309], [13.920000000000002, 50.965280009919226]]], &quot;type&quot;: &quot;Polygon&quot;}, {&quot;coordinates&quot;: [[[13.920000000000002, 50.96524001014309], [13.920050000000002, 50.96524001014309], [13.920050000000002, 50.96520001033253], [13.920000000000002, 50.96520001033253], [13.920000000000002, 50.96524001014309]]], &quot;type&quot;: &quot;Polygon&quot;}, {&quot;coordinates&quot;: [[[13.920000000000002, 50.96520001033253], [13.920050000000002, 50.96520001033253], [13.920050000000002, 50.965160010487516], [13.920000000000002, 50.965160010487516], [13.920000000000002, 50.96520001033253]]], &quot;type&quot;: &quot;Polygon&quot;}, {&quot;coordinates&quot;: [[[13.920000000000002, 50.965160010487516], [13.920050000000002, 50.965160010487516], [13.920050000000002, 50.96512001060807], [13.920000000000002, 50.96512001060807], [13.920000000000002, 50.965160010487516]]], &quot;type&quot;: &quot;Polygon&quot;}, {&quot;coordinates&quot;: [[[13.920000000000002, 50.96512001060807], [13.920050000000002, 50.96512001060807], [13.920050000000002, 50.96508001069417], [13.920000000000002, 50.96508001069417], [13.920000000000002, 50.96512001060807]]], &quot;type&quot;: &quot;Polygon&quot;}, {&quot;coordinates&quot;: [[[13.920000000000002, 50.96508001069417], [13.920050000000002, 50.96508001069417], [13.920050000000002, 50.96504001074583], [13.920000000000002, 50.96504001074583], [13.920000000000002, 50.96508001069417]]], &quot;type&quot;: &quot;Polygon&quot;}, {&quot;coordinates&quot;: [[[13.920000000000002, 50.96504001074583], [13.920050000000002, 50.96504001074583], [13.920050000000002, 50.96500001076305], [13.920000000000002, 50.96500001076305], [13.920000000000002, 50.96504001074583]]], &quot;type&quot;: &quot;Polygon&quot;}, {&quot;coordinates&quot;: [[[13.920000000000002, 50.96500001076305], [13.920050000000002, 50.96500001076305], [13.920050000000002, 50.964960010745834], [13.920000000000002, 50.964960010745834], [13.920000000000002, 50.96500001076305]]], &quot;type&quot;: &quot;Polygon&quot;}, {&quot;coordinates&quot;: [[[13.920000000000002, 50.964960010745834], [13.920050000000002, 50.964960010745834], [13.920050000000002, 50.96492001069418], [13.920000000000002, 50.96492001069418], [13.920000000000002, 50.964960010745834]]], &quot;type&quot;: &quot;Polygon&quot;}, {&quot;coordinates&quot;: [[[13.920000000000002, 50.96492001069418], [13.920050000000002, 50.96492001069418], [13.920050000000002, 50.96488001060807], [13.920000000000002, 50.96488001060807], [13.920000000000002, 50.96492001069418]]], &quot;type&quot;: &quot;Polygon&quot;}, {&quot;coordinates&quot;: [[[13.920000000000002, 50.96488001060807], [13.920050000000002, 50.96488001060807], [13.920050000000002, 50.96484001048752], [13.920000000000002, 50.96484001048752], [13.920000000000002, 50.96488001060807]]], &quot;type&quot;: &quot;Polygon&quot;}, {&quot;coordinates&quot;: [[[13.920000000000002, 50.96484001048752], [13.920050000000002, 50.96484001048752], [13.920050000000002, 50.964800010332546], [13.920000000000002, 50.964800010332546], [13.920000000000002, 50.96484001048752]]], &quot;type&quot;: &quot;Polygon&quot;}, {&quot;coordinates&quot;: [[[13.920000000000002, 50.964800010332546], [13.920050000000002, 50.964800010332546], [13.920050000000002, 50.96476001014311], [13.920000000000002, 50.96476001014311], [13.920000000000002, 50.964800010332546]]], &quot;type&quot;: &quot;Polygon&quot;}, {&quot;coordinates&quot;: [[[13.920000000000002, 50.96476001014311], [13.920050000000002, 50.96476001014311], [13.920050000000002, 50.96472000991924], [13.920000000000002, 50.96472000991924], [13.920000000000002, 50.96476001014311]]], &quot;type&quot;: &quot;Polygon&quot;}, {&quot;coordinates&quot;: [[[13.920000000000002, 50.96472000991924], [13.920050000000002, 50.96472000991924], [13.920050000000002, 50.964680009660924], [13.920000000000002, 50.964680009660924], [13.920000000000002, 50.96472000991924]]], &quot;type&quot;: &quot;Polygon&quot;}, {&quot;coordinates&quot;: [[[13.920000000000002, 50.964680009660924], [13.920050000000002, 50.964680009660924], [13.920050000000002, 50.96464000936817], [13.920000000000002, 50.96464000936817], [13.920000000000002, 50.964680009660924]]], &quot;type&quot;: &quot;Polygon&quot;}, {&quot;coordinates&quot;: [[[13.920000000000002, 50.96464000936817], [13.920050000000002, 50.96464000936817], [13.920050000000002, 50.96460000904097], [13.920000000000002, 50.96460000904097], [13.920000000000002, 50.96464000936817]]], &quot;type&quot;: &quot;Polygon&quot;}, {&quot;coordinates&quot;: [[[13.920000000000002, 50.96460000904097], [13.920050000000002, 50.96460000904097], [13.920050000000002, 50.96456000867934], [13.920000000000002, 50.96456000867934], [13.920000000000002, 50.96460000904097]]], &quot;type&quot;: &quot;Polygon&quot;}, {&quot;coordinates&quot;: [[[13.920000000000002, 50.96456000867934], [13.920050000000002, 50.96456000867934], [13.920050000000002, 50.96452000828325], [13.920000000000002, 50.96452000828325], [13.920000000000002, 50.96456000867934]]], &quot;type&quot;: &quot;Polygon&quot;}, {&quot;coordinates&quot;: [[[13.920000000000002, 50.96452000828325], [13.920050000000002, 50.96452000828325], [13.920050000000002, 50.964480007852735], [13.920000000000002, 50.964480007852735], [13.920000000000002, 50.96452000828325]]], &quot;type&quot;: &quot;Polygon&quot;}, {&quot;coordinates&quot;: [[[13.920000000000002, 50.964480007852735], [13.920050000000002, 50.964480007852735], [13.920050000000002, 50.96444000738777], [13.920000000000002, 50.96444000738777], [13.920000000000002, 50.964480007852735]]], &quot;type&quot;: &quot;Polygon&quot;}, {&quot;coordinates&quot;: [[[13.920000000000002, 50.96444000738777], [13.920050000000002, 50.96444000738777], [13.920050000000002, 50.96440000688836], [13.920000000000002, 50.96440000688836], [13.920000000000002, 50.96444000738777]]], &quot;type&quot;: &quot;Polygon&quot;}, {&quot;coordinates&quot;: [[[13.920000000000002, 50.96440000688836], [13.920050000000002, 50.96440000688836], [13.920050000000002, 50.96436000635452], [13.920000000000002, 50.96436000635452], [13.920000000000002, 50.96440000688836]]], &quot;type&quot;: &quot;Polygon&quot;}, {&quot;coordinates&quot;: [[[13.920000000000002, 50.96436000635452], [13.920050000000002, 50.96436000635452], [13.920050000000002, 50.96432000578623], [13.920000000000002, 50.96432000578623], [13.920000000000002, 50.96436000635452]]], &quot;type&quot;: &quot;Polygon&quot;}, {&quot;coordinates&quot;: [[[13.920000000000002, 50.96432000578623], [13.920050000000002, 50.96432000578623], [13.920050000000002, 50.9642800051835], [13.920000000000002, 50.9642800051835], [13.920000000000002, 50.96432000578623]]], &quot;type&quot;: &quot;Polygon&quot;}, {&quot;coordinates&quot;: [[[13.920000000000002, 50.9642800051835], [13.920050000000002, 50.9642800051835], [13.920050000000002, 50.96424000454632], [13.920000000000002, 50.96424000454632], [13.920000000000002, 50.9642800051835]]], &quot;type&quot;: &quot;Polygon&quot;}, {&quot;coordinates&quot;: [[[13.920000000000002, 50.96424000454632], [13.920050000000002, 50.96424000454632], [13.920050000000002, 50.96420000387471], [13.920000000000002, 50.96420000387471], [13.920000000000002, 50.96424000454632]]], &quot;type&quot;: &quot;Polygon&quot;}, {&quot;coordinates&quot;: [[[13.920000000000002, 50.96420000387471], [13.920050000000002, 50.96420000387471], [13.920050000000002, 50.964160003168644], [13.920000000000002, 50.964160003168644], [13.920000000000002, 50.96420000387471]]], &quot;type&quot;: &quot;Polygon&quot;}, {&quot;coordinates&quot;: [[[13.920000000000002, 50.964160003168644], [13.920050000000002, 50.964160003168644], [13.920050000000002, 50.964120002428146], [13.920000000000002, 50.964120002428146], [13.920000000000002, 50.964160003168644]]], &quot;type&quot;: &quot;Polygon&quot;}, {&quot;coordinates&quot;: [[[13.920000000000002, 50.964120002428146], [13.920050000000002, 50.964120002428146], [13.920050000000002, 50.96408000165321], [13.920000000000002, 50.96408000165321], [13.920000000000002, 50.964120002428146]]], &quot;type&quot;: &quot;Polygon&quot;}, {&quot;coordinates&quot;: [[[13.920000000000002, 50.96408000165321], [13.920050000000002, 50.96408000165321], [13.920050000000002, 50.964040000843816], [13.920000000000002, 50.964040000843816], [13.920000000000002, 50.96408000165321]]], &quot;type&quot;: &quot;Polygon&quot;}, {&quot;coordinates&quot;: [[[13.920000000000002, 50.964040000843816], [13.920050000000002, 50.964040000843816], [13.920050000000002, 50.96399999999999], [13.920000000000002, 50.96399999999999], [13.920000000000002, 50.964040000843816]]], &quot;type&quot;: &quot;Polygon&quot;}], &quot;type&quot;: &quot;GeometryCollection&quot;});\n",
       "\n",
       "        \n",
       "    \n",
       "            geo_json_6f9f478ce7a118347b7f7885c994b5ff.addTo(map_0b39569c8b4b3697dfdcac5446ca2cf1);\n",
       "        \n",
       "    \n",
       "\n",
       "        function geo_json_f3b9a592b629d883f9d828c9308c72a5_onEachFeature(feature, layer) {\n",
       "            layer.on({\n",
       "            });\n",
       "        };\n",
       "        var geo_json_f3b9a592b629d883f9d828c9308c72a5 = L.geoJson(null, {\n",
       "                onEachFeature: geo_json_f3b9a592b629d883f9d828c9308c72a5_onEachFeature,\n",
       "            \n",
       "        });\n",
       "\n",
       "        function geo_json_f3b9a592b629d883f9d828c9308c72a5_add (data) {\n",
       "            geo_json_f3b9a592b629d883f9d828c9308c72a5\n",
       "                .addData(data);\n",
       "        }\n",
       "            geo_json_f3b9a592b629d883f9d828c9308c72a5_add({&quot;coordinates&quot;: [13.92004, 50.96599], &quot;type&quot;: &quot;Point&quot;});\n",
       "\n",
       "        \n",
       "    \n",
       "            geo_json_f3b9a592b629d883f9d828c9308c72a5.addTo(map_0b39569c8b4b3697dfdcac5446ca2cf1);\n",
       "        \n",
       "    \n",
       "\n",
       "        function geo_json_6974b6a890464de748869346e0b5ca69_onEachFeature(feature, layer) {\n",
       "            layer.on({\n",
       "            });\n",
       "        };\n",
       "        var geo_json_6974b6a890464de748869346e0b5ca69 = L.geoJson(null, {\n",
       "                onEachFeature: geo_json_6974b6a890464de748869346e0b5ca69_onEachFeature,\n",
       "            \n",
       "        });\n",
       "\n",
       "        function geo_json_6974b6a890464de748869346e0b5ca69_add (data) {\n",
       "            geo_json_6974b6a890464de748869346e0b5ca69\n",
       "                .addData(data);\n",
       "        }\n",
       "            geo_json_6974b6a890464de748869346e0b5ca69_add({&quot;coordinates&quot;: [13.92004, 50.96401], &quot;type&quot;: &quot;Point&quot;});\n",
       "\n",
       "        \n",
       "    \n",
       "            geo_json_6974b6a890464de748869346e0b5ca69.addTo(map_0b39569c8b4b3697dfdcac5446ca2cf1);\n",
       "        \n",
       "    \n",
       "            map_0b39569c8b4b3697dfdcac5446ca2cf1.fitBounds(\n",
       "                [[50.964, 13.92], [50.966, 13.925000000000002]],\n",
       "                {}\n",
       "            );\n",
       "        \n",
       "&lt;/script&gt;\n",
       "&lt;/html&gt;\" style=\"position:absolute;width:100%;height:100%;left:0;top:0;border:none !important;\" allowfullscreen webkitallowfullscreen mozallowfullscreen></iframe></div></div>"
      ],
      "text/plain": [
       "<folium.folium.Map at 0x13310b2c0>"
      ]
     },
     "execution_count": 6,
     "metadata": {},
     "output_type": "execute_result"
    }
   ],
   "source": [
    "from morpheus.project.types.boundaries.Observation import ObservationName\n",
    "from morpheus.project.types.boundaries.DrainObservation import DrainRawDataItem, \\\n",
    "  DrainObservation\n",
    "from morpheus.project.types.boundaries.GeneralHeadObservation import ObservationId, GeneralHeadRawDataItem, \\\n",
    "  GeneralHeadObservation, Stage, Conductance\n",
    "from morpheus.project.types.geometry import Point\n",
    "from morpheus.project.types.boundaries.Boundary import BoundaryName, BoundaryCollection\n",
    "from morpheus.project.types.layers import LayerId\n",
    "from morpheus.project.types.boundaries.Boundary import DrainBoundary, GeneralHeadBoundary\n",
    "\n",
    "layers_list = [LayerId.new()]\n",
    "\n",
    "drain_east = DrainBoundary.from_geometry(\n",
    "  name=BoundaryName('drain_east'),\n",
    "  geometry=LineString([\n",
    "    (13.92499, 50.966),\n",
    "    (13.92499, 50.964),\n",
    "  ]),\n",
    "  grid=grid,\n",
    "  affected_layers=[model.layers[0].layer_id],\n",
    "  observations=[\n",
    "    DrainObservation(\n",
    "      observation_id=ObservationId.new(),\n",
    "      observation_name=ObservationName.default(),\n",
    "      geometry=Point((13.92499, 50.966)),\n",
    "      data=[\n",
    "        DrainRawDataItem(\n",
    "          date_time=StartDateTime.from_datetime(datetime(2019, 1, 1)),\n",
    "          stage=Stage.from_float(.75),\n",
    "          conductance=Conductance.from_float(100),\n",
    "        ),\n",
    "        DrainRawDataItem(\n",
    "          date_time=StartDateTime.from_datetime(datetime(2021, 12, 31)),\n",
    "          stage=Stage.from_float(.75),\n",
    "          conductance=Conductance.from_float(100),\n",
    "        ),\n",
    "      ]\n",
    "    ),\n",
    "    DrainObservation(\n",
    "      observation_id=ObservationId.new(),\n",
    "      observation_name=ObservationName.default(),\n",
    "      geometry=Point((13.92499, 50.964)),\n",
    "      data=[\n",
    "        DrainRawDataItem(\n",
    "          date_time=StartDateTime.from_datetime(datetime(2019, 1, 1)),\n",
    "          stage=Stage.from_float(.5),\n",
    "          conductance=Conductance.from_float(200),\n",
    "        ),\n",
    "        DrainRawDataItem(\n",
    "          date_time=StartDateTime.from_datetime(datetime(2021, 12, 31)),\n",
    "          stage=Stage.from_float(.5),\n",
    "          conductance=Conductance.from_float(200),\n",
    "        ),\n",
    "      ]\n",
    "    ),\n",
    "  ]\n",
    ")\n",
    "\n",
    "general_head_west = GeneralHeadBoundary.from_geometry(\n",
    "  name=BoundaryName('general_head_west'),\n",
    "  geometry=LineString([\n",
    "    (13.92004, 50.96401),\n",
    "    (13.92004, 50.96599),\n",
    "  ]),\n",
    "  grid=grid,\n",
    "  affected_layers=[model.layers[0].layer_id],\n",
    "  observations=[\n",
    "    GeneralHeadObservation(\n",
    "      observation_id=ObservationId.new(),\n",
    "      observation_name=ObservationName.default(),\n",
    "      geometry=Point((13.92004, 50.96599)),\n",
    "      data=[\n",
    "        GeneralHeadRawDataItem(\n",
    "          date_time=StartDateTime.from_datetime(datetime(2019, 1, 1)),\n",
    "          stage=Stage.from_float(1),\n",
    "          conductance=Conductance.from_float(300),\n",
    "        ),\n",
    "        GeneralHeadRawDataItem(\n",
    "          date_time=StartDateTime.from_datetime(datetime(2021, 12, 31)),\n",
    "          stage=Stage.from_float(1),\n",
    "          conductance=Conductance.from_float(300),\n",
    "        ),\n",
    "      ]\n",
    "    ),\n",
    "    GeneralHeadObservation(\n",
    "      observation_id=ObservationId.new(),\n",
    "      observation_name=ObservationName.default(),\n",
    "      geometry=Point((13.92004, 50.96401)),\n",
    "      data=[\n",
    "        GeneralHeadRawDataItem(\n",
    "          date_time=StartDateTime.from_datetime(datetime(2019, 1, 1)),\n",
    "          stage=Stage.from_float(1),\n",
    "          conductance=Conductance.from_float(400),\n",
    "        ),\n",
    "        GeneralHeadRawDataItem(\n",
    "          date_time=StartDateTime.from_datetime(datetime(2021, 12, 31)),\n",
    "          stage=Stage.from_float(1),\n",
    "          conductance=Conductance.from_float(400),\n",
    "        ),\n",
    "      ]\n",
    "    ),\n",
    "  ]\n",
    ")\n",
    "\n",
    "boundary_collection = BoundaryCollection.new()\n",
    "boundary_collection.add_boundary(general_head_west)\n",
    "boundary_collection.add_boundary(drain_east)\n",
    "\n",
    "model = model.with_updated_boundaries(boundaries=boundary_collection)\n",
    "\n",
    "m.add_child(folium.GeoJson(drain_east.as_geojson()))\n",
    "m.add_child(folium.GeoJson(drain_east.affected_cells.to_geojson(grid).as_geojson()))\n",
    "for observation in drain_east.observations:\n",
    "  m.add_child(folium.GeoJson(observation.as_geojson()))\n",
    "\n",
    "m.add_child(folium.GeoJson(general_head_west.as_geojson()))\n",
    "m.add_child(folium.GeoJson(general_head_west.affected_cells.to_geojson(grid).as_geojson()))\n",
    "for observation in general_head_west.observations:\n",
    "  m.add_child(folium.GeoJson(observation.as_geojson()))\n",
    "m.fit_bounds(m.get_bounds())\n",
    "m"
   ]
  },
  {
   "cell_type": "code",
   "execution_count": 7,
   "id": "25b4324c4d166cd7",
   "metadata": {
    "ExecuteTime": {
     "end_time": "2024-06-20T18:59:13.529334Z",
     "start_time": "2024-06-20T18:59:13.526408Z"
    },
    "collapsed": false,
    "execution": {
     "iopub.execute_input": "2024-06-20T19:03:25.578427Z",
     "iopub.status.busy": "2024-06-20T19:03:25.578286Z",
     "iopub.status.idle": "2024-06-20T19:03:25.580458Z",
     "shell.execute_reply": "2024-06-20T19:03:25.580243Z"
    },
    "papermill": {
     "duration": 0.005953,
     "end_time": "2024-06-20T19:03:25.581298",
     "exception": false,
     "start_time": "2024-06-20T19:03:25.575345",
     "status": "completed"
    },
    "tags": []
   },
   "outputs": [
    {
     "data": {
      "text/plain": [
       "[DrainObservation(observation_id=ObservationId(value='cc60f106-1808-42fc-858a-b1aab0719ece'), observation_name=ObservationName(value='Observation Point 1'), geometry=Point(coordinates=(13.92499, 50.966), type='Point'), data=[DrainRawDataItem(date_time=StartDateTime(value=datetime.datetime(2019, 1, 1, 0, 0, tzinfo=datetime.timezone.utc)), stage=Stage(value=0.75), conductance=Conductance(value=100)), DrainRawDataItem(date_time=StartDateTime(value=datetime.datetime(2021, 12, 31, 0, 0, tzinfo=datetime.timezone.utc)), stage=Stage(value=0.75), conductance=Conductance(value=100))]),\n",
       " DrainObservation(observation_id=ObservationId(value='49f9c08f-40a8-447c-8b3d-535785b34067'), observation_name=ObservationName(value='Observation Point 1'), geometry=Point(coordinates=(13.92499, 50.964), type='Point'), data=[DrainRawDataItem(date_time=StartDateTime(value=datetime.datetime(2019, 1, 1, 0, 0, tzinfo=datetime.timezone.utc)), stage=Stage(value=0.5), conductance=Conductance(value=200)), DrainRawDataItem(date_time=StartDateTime(value=datetime.datetime(2021, 12, 31, 0, 0, tzinfo=datetime.timezone.utc)), stage=Stage(value=0.5), conductance=Conductance(value=200))])]"
      ]
     },
     "execution_count": 7,
     "metadata": {},
     "output_type": "execute_result"
    }
   ],
   "source": [
    "drain_east.observations"
   ]
  },
  {
   "cell_type": "code",
   "execution_count": 8,
   "id": "dc338472e1887a13",
   "metadata": {
    "ExecuteTime": {
     "end_time": "2024-06-20T18:59:14.015195Z",
     "start_time": "2024-06-20T18:59:13.530Z"
    },
    "collapsed": false,
    "execution": {
     "iopub.execute_input": "2024-06-20T19:03:25.586776Z",
     "iopub.status.busy": "2024-06-20T19:03:25.586656Z",
     "iopub.status.idle": "2024-06-20T19:03:25.983147Z",
     "shell.execute_reply": "2024-06-20T19:03:25.982880Z"
    },
    "papermill": {
     "duration": 0.400147,
     "end_time": "2024-06-20T19:03:25.984013",
     "exception": false,
     "start_time": "2024-06-20T19:03:25.583866",
     "status": "completed"
    },
    "tags": []
   },
   "outputs": [
    {
     "data": {
      "text/plain": [
       "{0: [[0, 0, 0, 1.0, 300.5050289789967],\n",
       "  [0, 1, 0, 1.0, 302.5251892522284],\n",
       "  [0, 2, 0, 1.0, 304.54535126413674],\n",
       "  [0, 3, 0, 1.0, 306.5655150157982],\n",
       "  [0, 4, 0, 1.0, 308.5856805068539],\n",
       "  [0, 5, 0, 1.0, 310.60584773730386],\n",
       "  [0, 6, 0, 1.0, 312.62601670750695],\n",
       "  [0, 7, 0, 1.0, 314.6461874167454],\n",
       "  [0, 8, 0, 1.0, 316.66635986573704],\n",
       "  [0, 9, 0, 1.0, 318.68653405412294],\n",
       "  [0, 10, 0, 1.0, 320.70670998226194],\n",
       "  [0, 11, 0, 1.0, 322.72688764979523],\n",
       "  [0, 12, 0, 1.0, 324.7470670563639],\n",
       "  [0, 13, 0, 1.0, 326.7672482030445],\n",
       "  [0, 14, 0, 1.0, 328.7874310884017],\n",
       "  [0, 15, 0, 1.0, 330.80761571422977],\n",
       "  [0, 16, 0, 1.0, 332.8278020790932],\n",
       "  [0, 17, 0, 1.0, 334.847990182992],\n",
       "  [0, 18, 0, 1.0, 336.8681800270029],\n",
       "  [0, 19, 0, 1.0, 338.88837161040794],\n",
       "  [0, 20, 0, 1.0, 340.90856493284844],\n",
       "  [0, 21, 0, 1.0, 342.9287599954009],\n",
       "  [0, 22, 0, 1.0, 344.9489567969888],\n",
       "  [0, 23, 0, 1.0, 346.9691553383298],\n",
       "  [0, 24, 0, 1.0, 348.9893556187062],\n",
       "  [0, 25, 0, 1.0, 351.0095576388357],\n",
       "  [0, 26, 0, 1.0, 353.0297613983595],\n",
       "  [0, 27, 0, 1.0, 355.0499668976364],\n",
       "  [0, 28, 0, 1.0, 357.07017413630757],\n",
       "  [0, 29, 0, 1.0, 359.090383114373],\n",
       "  [0, 30, 0, 1.0, 361.1105938318327],\n",
       "  [0, 31, 0, 1.0, 363.1308062890455],\n",
       "  [0, 32, 0, 1.0, 365.1510204856526],\n",
       "  [0, 33, 0, 1.0, 367.17123642165393],\n",
       "  [0, 34, 0, 1.0, 369.1914540970496],\n",
       "  [0, 35, 0, 1.0, 371.2116735118394],\n",
       "  [0, 36, 0, 1.0, 373.23189466638246],\n",
       "  [0, 37, 0, 1.0, 375.2521175603197],\n",
       "  [0, 38, 0, 1.0, 377.27234219401004],\n",
       "  [0, 39, 0, 1.0, 379.29256856745354],\n",
       "  [0, 40, 0, 1.0, 381.31279667957364],\n",
       "  [0, 41, 0, 1.0, 383.33302653144676],\n",
       "  [0, 42, 0, 1.0, 385.35325812271424],\n",
       "  [0, 43, 0, 1.0, 387.3734914540936],\n",
       "  [0, 44, 0, 1.0, 389.39372652450845],\n",
       "  [0, 45, 0, 1.0, 391.4139633343175],\n",
       "  [0, 46, 0, 1.0, 393.4342018838797],\n",
       "  [0, 47, 0, 1.0, 395.45444217247734],\n",
       "  [0, 48, 0, 1.0, 397.4746842011869],\n",
       "  [0, 49, 0, 1.0, 399.4949279689319]]}"
      ]
     },
     "execution_count": 8,
     "metadata": {},
     "output_type": "execute_result"
    }
   ],
   "source": [
    "from morpheus.project.infrastructure.calculation.engines.modflow_2005.packages.GhbPackageMapper import \\\n",
    "  calculate_ghb_boundary_stress_period_data\n",
    "\n",
    "result = calculate_ghb_boundary_stress_period_data(\n",
    "  spatial_discretization=spatial_discretization,\n",
    "  time_discretization=time_discretization,\n",
    "  layers=model.layers,\n",
    "  ghb_boundary=general_head_west,\n",
    ")\n",
    "result.to_dict()"
   ]
  },
  {
   "cell_type": "code",
   "execution_count": 9,
   "id": "e7d13f116125151c",
   "metadata": {
    "ExecuteTime": {
     "end_time": "2024-06-20T18:59:14.150875Z",
     "start_time": "2024-06-20T18:59:14.015872Z"
    },
    "collapsed": false,
    "execution": {
     "iopub.execute_input": "2024-06-20T19:03:25.990260Z",
     "iopub.status.busy": "2024-06-20T19:03:25.990005Z",
     "iopub.status.idle": "2024-06-20T19:03:26.125384Z",
     "shell.execute_reply": "2024-06-20T19:03:26.125144Z"
    },
    "papermill": {
     "duration": 0.139302,
     "end_time": "2024-06-20T19:03:26.126215",
     "exception": false,
     "start_time": "2024-06-20T19:03:25.986913",
     "status": "completed"
    },
    "tags": []
   },
   "outputs": [
    {
     "data": {
      "text/plain": [
       "{0: [[0, 0, 99, 0.7475000532765921, 100.99997868936319],\n",
       "  [0, 1, 99, 0.7425001566003594, 102.99993735985626],\n",
       "  [0, 2, 99, 0.7375002556209023, 104.99989775163911],\n",
       "  [0, 3, 99, 0.7325003503355562, 106.99985986577755],\n",
       "  [0, 4, 99, 0.7275004407452093, 108.99982370191631],\n",
       "  [0, 5, 99, 0.7225005268498615, 110.9997892600554],\n",
       "  [0, 6, 99, 0.7175006086486249, 112.99975654055007],\n",
       "  [0, 7, 99, 0.7125006861432756, 114.99972554268979],\n",
       "  [0, 8, 99, 0.7075007593320373, 116.9996962671851],\n",
       "  [0, 9, 99, 0.7025008282157982, 118.99966871368073],\n",
       "  [0, 10, 99, 0.6975008927936701, 120.99964288253196],\n",
       "  [0, 11, 99, 0.6925009530665412, 122.9996187733835],\n",
       "  [0, 12, 99, 0.6875010090352998, 124.9995963858801],\n",
       "  [0, 13, 99, 0.6825010606972811, 126.99957572108755],\n",
       "  [0, 14, 99, 0.677501108056038, 128.9995567775848],\n",
       "  [0, 15, 99, 0.6725011511071296, 130.99953955714815],\n",
       "  [0, 16, 99, 0.6675011898541086, 132.99952405835657],\n",
       "  [0, 17, 99, 0.6625012242969749, 134.99951028121004],\n",
       "  [0, 18, 99, 0.6575012544330641, 136.99949822677436],\n",
       "  [0, 19, 99, 0.6525012802641524, 138.999487894339],\n",
       "  [0, 20, 99, 0.6475013017911282, 140.9994792835487],\n",
       "  [0, 21, 99, 0.6425013190113268, 142.99947239546927],\n",
       "  [0, 22, 99, 0.6375013319274128, 144.99946722903488],\n",
       "  [0, 23, 99, 0.6325013405376099, 146.99946378495608],\n",
       "  [0, 24, 99, 0.6275013448436941, 148.99946206252233],\n",
       "  [0, 25, 99, 0.6225013448438896, 150.99946206244417],\n",
       "  [0, 26, 99, 0.6175013405390841, 152.99946378436633],\n",
       "  [0, 27, 99, 0.6125013319283898, 154.99946722864408],\n",
       "  [0, 28, 99, 0.6075013190126946, 156.99947239492215],\n",
       "  [0, 29, 99, 0.6025013017919987, 158.99947928320054],\n",
       "  [0, 30, 99, 0.5975012802663019, 160.99948789347926],\n",
       "  [0, 31, 99, 0.5925012544347161, 162.99949822611356],\n",
       "  [0, 32, 99, 0.5875012242981296, 164.99951028074815],\n",
       "  [0, 33, 99, 0.5825011898565422, 166.99952405738313],\n",
       "  [0, 34, 99, 0.577501151109954, 168.9995395560184],\n",
       "  [0, 35, 99, 0.5725011080583651, 170.99955677665398],\n",
       "  [0, 36, 99, 0.5675010607008871, 172.99957571964515],\n",
       "  [0, 37, 99, 0.5625010090384084, 174.99959638463665],\n",
       "  [0, 38, 99, 0.5575009530700407, 176.9996187719837],\n",
       "  [0, 39, 99, 0.552500892795784, 178.9996428816864],\n",
       "  [0, 40, 99, 0.5475008282183028, 180.99966871267887],\n",
       "  [0, 41, 99, 0.5425007593349327, 182.99969626602692],\n",
       "  [0, 42, 99, 0.5375006861465618, 184.9997255413753],\n",
       "  [0, 43, 99, 0.5325006086514137, 186.99975653943451],\n",
       "  [0, 44, 99, 0.527500526852153, 188.9997892591388],\n",
       "  [0, 45, 99, 0.5225004407478915, 190.9998237008434],\n",
       "  [0, 46, 99, 0.517500350337741, 192.99985986490358],\n",
       "  [0, 47, 99, 0.5125002556234779, 194.99989775060882],\n",
       "  [0, 48, 99, 0.5075001566024377, 196.99993735902493],\n",
       "  [0, 49, 99, 0.5025000532772848, 198.99997868908608]]}"
      ]
     },
     "execution_count": 9,
     "metadata": {},
     "output_type": "execute_result"
    }
   ],
   "source": [
    "from morpheus.project.infrastructure.calculation.engines.modflow_2005.packages.DrnPackageMapper import \\\n",
    "  calculate_drn_boundary_stress_period_data\n",
    "\n",
    "result = calculate_drn_boundary_stress_period_data(\n",
    "  spatial_discretization=spatial_discretization,\n",
    "  time_discretization=time_discretization,\n",
    "  layers=model.layers,\n",
    "  drn_boundary=drain_east,\n",
    ")\n",
    "result.to_dict()"
   ]
  },
  {
   "cell_type": "markdown",
   "id": "42d948d145a8457a",
   "metadata": {
    "collapsed": false,
    "papermill": {
     "duration": 0.00251,
     "end_time": "2024-06-20T19:03:26.131519",
     "exception": false,
     "start_time": "2024-06-20T19:03:26.129009",
     "status": "completed"
    },
    "tags": []
   },
   "source": [
    "## Calculate"
   ]
  },
  {
   "cell_type": "code",
   "execution_count": 10,
   "id": "56ccabee86e2397e",
   "metadata": {
    "ExecuteTime": {
     "end_time": "2024-06-20T18:59:14.674294Z",
     "start_time": "2024-06-20T18:59:14.151699Z"
    },
    "collapsed": false,
    "execution": {
     "iopub.execute_input": "2024-06-20T19:03:26.137033Z",
     "iopub.status.busy": "2024-06-20T19:03:26.136899Z",
     "iopub.status.idle": "2024-06-20T19:03:26.642295Z",
     "shell.execute_reply": "2024-06-20T19:03:26.642035Z"
    },
    "papermill": {
     "duration": 0.509211,
     "end_time": "2024-06-20T19:03:26.643216",
     "exception": false,
     "start_time": "2024-06-20T19:03:26.134005",
     "status": "completed"
    },
    "tags": []
   },
   "outputs": [
    {
     "data": {
      "text/plain": [
       "['type,package,k,i,j,value,desc']"
      ]
     },
     "execution_count": 10,
     "metadata": {},
     "output_type": "execute_result"
    }
   ],
   "source": [
    "from morpheus.project.infrastructure.calculation.engines.base.CalculationEngineFactory import CalculationEngineFactory\n",
    "from morpheus.project.types.calculation.CalculationProfile import CalculationProfile, CalculationEngineType\n",
    "from morpheus.project.types.calculation.Calculation import CalculationId\n",
    "\n",
    "calculation_id = CalculationId.new()\n",
    "calculation_profile = CalculationProfile.new(CalculationEngineType.MF2005)\n",
    "engine = CalculationEngineFactory.create_engine(calculation_id=calculation_id, engine_type=calculation_profile.engine_type)\n",
    "check_model_log = engine.preprocess(model, calculation_profile)\n",
    "check_model_log.to_list()"
   ]
  },
  {
   "cell_type": "code",
   "execution_count": 11,
   "id": "672007fb90753c4c",
   "metadata": {
    "ExecuteTime": {
     "end_time": "2024-06-20T18:59:15.003190Z",
     "start_time": "2024-06-20T18:59:14.676243Z"
    },
    "collapsed": false,
    "execution": {
     "iopub.execute_input": "2024-06-20T19:03:26.649017Z",
     "iopub.status.busy": "2024-06-20T19:03:26.648912Z",
     "iopub.status.idle": "2024-06-20T19:03:26.958955Z",
     "shell.execute_reply": "2024-06-20T19:03:26.958643Z"
    },
    "papermill": {
     "duration": 0.313889,
     "end_time": "2024-06-20T19:03:26.959884",
     "exception": false,
     "start_time": "2024-06-20T19:03:26.645995",
     "status": "completed"
    },
    "tags": []
   },
   "outputs": [
    {
     "name": "stdout",
     "output_type": "stream",
     "text": [
      "FloPy is using the following executable to run the model: ../../../../../../../src/backend/.venv/bin/mf2005\n",
      "\n",
      "                                  MODFLOW-2005     \n",
      "    U.S. GEOLOGICAL SURVEY MODULAR FINITE-DIFFERENCE GROUND-WATER FLOW MODEL\n",
      "                             Version 1.12.00 2/3/2017                        \n",
      "\n",
      " Using NAME file: 0cb15e79-ddcb-4303-ae23-a807a729f29a.nam \n",
      " Run start date and time (yyyy/mm/dd hh:mm:ss): 2024/06/20 21:03:26\n",
      "\n",
      " Solving:  Stress period:     1    Time step:     1    Ground-Water Flow Eqn.\n",
      " Run end date and time (yyyy/mm/dd hh:mm:ss): 2024/06/20 21:03:26\n",
      " Elapsed run time:  0.026 Seconds\n",
      "\n",
      "  Normal termination of simulation\n"
     ]
    }
   ],
   "source": [
    "log, result = engine.run(model=model, calculation_profile=calculation_profile)"
   ]
  },
  {
   "cell_type": "code",
   "execution_count": 12,
   "id": "a52d1dd3a1574032",
   "metadata": {
    "ExecuteTime": {
     "end_time": "2024-06-20T18:59:15.007204Z",
     "start_time": "2024-06-20T18:59:15.004076Z"
    },
    "collapsed": false,
    "execution": {
     "iopub.execute_input": "2024-06-20T19:03:26.965882Z",
     "iopub.status.busy": "2024-06-20T19:03:26.965753Z",
     "iopub.status.idle": "2024-06-20T19:03:26.967942Z",
     "shell.execute_reply": "2024-06-20T19:03:26.967719Z"
    },
    "papermill": {
     "duration": 0.006024,
     "end_time": "2024-06-20T19:03:26.968716",
     "exception": false,
     "start_time": "2024-06-20T19:03:26.962692",
     "status": "completed"
    },
    "tags": []
   },
   "outputs": [
    {
     "data": {
      "text/plain": [
       "CalculationResult(type=<CalculationResultType.SUCCESS: 'success'>, message='Calculation finished successfully', files=['0cb15e79-ddcb-4303-ae23-a807a729f29a.oc', '0cb15e79-ddcb-4303-ae23-a807a729f29a.hds', '0cb15e79-ddcb-4303-ae23-a807a729f29a.pcg', '0cb15e79-ddcb-4303-ae23-a807a729f29a.list', '0cb15e79-ddcb-4303-ae23-a807a729f29a.lpf', '0cb15e79-ddcb-4303-ae23-a807a729f29a.bas', '0cb15e79-ddcb-4303-ae23-a807a729f29a.nam', '0cb15e79-ddcb-4303-ae23-a807a729f29a.dis', '0cb15e79-ddcb-4303-ae23-a807a729f29a.ghb', '0cb15e79-ddcb-4303-ae23-a807a729f29a.drn'], flow_head_results=AvailableResults(times=[365.0], kstpkper=[(0, 0)], number_of_layers=1, number_of_observations=0), flow_drawdown_results=None, flow_budget_results=AvailableResults(times=[365.0], kstpkper=[(0, 0)], number_of_layers=0, number_of_observations=0), transport_concentration_results=None, transport_budget_results=None, package_list=['DIS', 'BAS6', 'DRN', 'GHB', 'PCG', 'LPF', 'OC'])"
      ]
     },
     "execution_count": 12,
     "metadata": {},
     "output_type": "execute_result"
    }
   ],
   "source": [
    "result"
   ]
  },
  {
   "cell_type": "code",
   "execution_count": 13,
   "id": "cc43ad077c7a81d0",
   "metadata": {
    "ExecuteTime": {
     "end_time": "2024-06-20T18:59:15.010970Z",
     "start_time": "2024-06-20T18:59:15.008123Z"
    },
    "collapsed": false,
    "execution": {
     "iopub.execute_input": "2024-06-20T19:03:26.974308Z",
     "iopub.status.busy": "2024-06-20T19:03:26.974206Z",
     "iopub.status.idle": "2024-06-20T19:03:26.976374Z",
     "shell.execute_reply": "2024-06-20T19:03:26.976156Z"
    },
    "papermill": {
     "duration": 0.005869,
     "end_time": "2024-06-20T19:03:26.977154",
     "exception": false,
     "start_time": "2024-06-20T19:03:26.971285",
     "status": "completed"
    },
    "tags": []
   },
   "outputs": [],
   "source": [
    "head = engine.read_flow_head(idx=0, layer=0)"
   ]
  },
  {
   "cell_type": "code",
   "execution_count": 14,
   "id": "12454cc4d9e18de5",
   "metadata": {
    "ExecuteTime": {
     "end_time": "2024-06-20T18:59:15.018236Z",
     "start_time": "2024-06-20T18:59:15.011637Z"
    },
    "collapsed": false,
    "execution": {
     "iopub.execute_input": "2024-06-20T19:03:26.982721Z",
     "iopub.status.busy": "2024-06-20T19:03:26.982623Z",
     "iopub.status.idle": "2024-06-20T19:03:26.988085Z",
     "shell.execute_reply": "2024-06-20T19:03:26.987862Z"
    },
    "papermill": {
     "duration": 0.009177,
     "end_time": "2024-06-20T19:03:26.988936",
     "exception": false,
     "start_time": "2024-06-20T19:03:26.979759",
     "status": "completed"
    },
    "tags": []
   },
   "outputs": [
    {
     "data": {
      "text/plain": [
       "'[[1.0, 0.9959999918937683, 0.9919999837875366, 0.9890000224113464, 0.9850000143051147, 0.9810000061988831, 0.9769999980926514, 0.9739999771118164, 0.9700000286102295, 0.9660000205039978, 0.9620000123977661, 0.9589999914169312, 0.9549999833106995, 0.9509999752044678, 0.9470000267028809, 0.9440000057220459, 0.9399999976158142, 0.9359999895095825, 0.9319999814033508, 0.9290000200271606, 0.925000011920929, 0.9210000038146973, 0.9169999957084656, 0.9139999747276306, 0.9100000262260437, 0.906000018119812, 0.9020000100135803, 0.8989999890327454, 0.8949999809265137, 0.890999972820282, 0.8880000114440918, 0.8840000033378601, 0.8799999952316284, 0.8769999742507935, 0.8730000257492065, 0.8690000176429749, 0.8659999966621399, 0.8619999885559082, 0.8579999804496765, 0.8550000190734863, 0.8510000109672546, 0.8479999899864197, 0.843999981880188, 0.8410000205039978, 0.8370000123977661, 0.8330000042915344, 0.8299999833106995, 0.8259999752044678, 0.8230000138282776, 0.8190000057220459, 0.8159999847412109, 0.8130000233650208, 0.8090000152587891, 0.8059999942779541, 0.8019999861717224, 0.7990000247955322, 0.7960000038146973, 0.7919999957084656, 0.7889999747276306, 0.7860000133514404, 0.7829999923706055, 0.7799999713897705, 0.7760000228881836, 0.7730000019073486, 0.7699999809265137, 0.7670000195503235, 0.7639999985694885, 0.7609999775886536, 0.7580000162124634, 0.7549999952316284, 0.753000020980835, 0.75, 0.746999979019165, 0.7450000047683716, 0.7419999837875366, 0.7390000224113464, 0.7369999885559082, 0.734000027179718, 0.7319999933242798, 0.7300000190734863, 0.7279999852180481, 0.7250000238418579, 0.7229999899864197, 0.7210000157356262, 0.7200000286102295, 0.7179999947547913, 0.7160000205039978, 0.7149999737739563, 0.7129999995231628, 0.7120000123977661, 0.7099999785423279, 0.7089999914169312, 0.7080000042915344, 0.7070000171661377, 0.7070000171661377, 0.7059999704360962, 0.7049999833106995, 0.7049999833106995, 0.7049999833106995, 0.7049999833106995], [1.0, 0.9959999918937683, 0.9919999837875366, 0.9890000224113464, 0.9850000143051147, 0.9810000061988831, 0.9769999980926514, 0.9739999771118164, 0.9700000286102295, 0.9660000205039978, 0.9620000123977661, 0.9589999914169312, 0.9549999833106995, 0.9509999752044678, 0.9470000267028809, 0.9440000057220459, 0.9399999976158142, 0.9359999895095825, 0.9319999814033508, 0.9290000200271606, 0.925000011920929, 0.9210000038146973, 0.9169999957084656, 0.9139999747276306, 0.9100000262260437, 0.906000018119812, 0.9020000100135803, 0.8989999890327454, 0.8949999809265137, 0.890999972820282, 0.8880000114440918, 0.8840000033378601, 0.8799999952316284, 0.8769999742507935, 0.8730000257492065, 0.8690000176429749, 0.8659999966621399, 0.8619999885559082, 0.8579999804496765, 0.8550000190734863, 0.8510000109672546, 0.8479999899864197, 0.843999981880188, 0.8410000205039978, 0.8370000123977661, 0.8330000042915344, 0.8299999833106995, 0.8259999752044678, 0.8230000138282776, 0.8190000057220459, 0.8159999847412109, 0.8130000233650208, 0.8090000152587891, 0.8059999942779541, 0.8019999861717224, 0.7990000247955322, 0.7960000038146973, 0.7919999957084656, 0.7889999747276306, 0.7860000133514404, 0.7829999923706055, 0.7799999713897705, 0.7760000228881836, 0.7730000019073486, 0.7699999809265137, 0.7670000195503235, 0.7639999985694885, 0.7609999775886536, 0.7580000162124634, 0.7549999952316284, 0.753000020980835, 0.75, 0.746999979019165, 0.7440000176429749, 0.7419999837875366, 0.7390000224113464, 0.7369999885559082, 0.734000027179718, 0.7319999933242798, 0.7300000190734863, 0.7269999980926514, 0.7250000238418579, 0.7229999899864197, 0.7210000157356262, 0.718999981880188, 0.7179999947547913, 0.7160000205039978, 0.7139999866485596, 0.7129999995231628, 0.7110000252723694, 0.7099999785423279, 0.7089999914169312, 0.7080000042915344, 0.7070000171661377, 0.7059999704360962, 0.7059999704360962, 0.7049999833106995, 0.7049999833106995, 0.7039999961853027, 0.7039999961853027], [1.0, 0.9959999918937683, 0.9919999837875366, 0.9890000224113464, 0.9850000143051147, 0.9810000061988831, 0.9769999980926514, 0.9739999771118164, 0.9700000286102295, 0.9660000205039978, 0.9620000123977661, 0.9589999914169312, 0.9549999833106995, 0.9509999752044678, 0.9470000267028809, 0.9440000057220459, 0.9399999976158142, 0.9359999895095825, 0.9319999814033508, 0.9290000200271606, 0.925000011920929, 0.9210000038146973, 0.9169999957084656, 0.9139999747276306, 0.9100000262260437, 0.906000018119812, 0.9020000100135803, 0.8989999890327454, 0.8949999809265137, 0.890999972820282, 0.8880000114440918, 0.8840000033378601, 0.8799999952316284, 0.8769999742507935, 0.8730000257492065, 0.8690000176429749, 0.8659999966621399, 0.8619999885559082, 0.8579999804496765, 0.8550000190734863, 0.8510000109672546, 0.8479999899864197, 0.843999981880188, 0.8399999737739563, 0.8370000123977661, 0.8330000042915344, 0.8299999833106995, 0.8259999752044678, 0.8230000138282776, 0.8190000057220459, 0.8159999847412109, 0.8130000233650208, 0.8090000152587891, 0.8059999942779541, 0.8019999861717224, 0.7990000247955322, 0.7960000038146973, 0.7919999957084656, 0.7889999747276306, 0.7860000133514404, 0.7829999923706055, 0.7789999842643738, 0.7760000228881836, 0.7730000019073486, 0.7699999809265137, 0.7670000195503235, 0.7639999985694885, 0.7609999775886536, 0.7580000162124634, 0.7549999952316284, 0.7519999742507935, 0.75, 0.746999979019165, 0.7440000176429749, 0.7419999837875366, 0.7390000224113464, 0.7369999885559082, 0.734000027179718, 0.7319999933242798, 0.7289999723434448, 0.7269999980926514, 0.7250000238418579, 0.7229999899864197, 0.7210000157356262, 0.718999981880188, 0.7170000076293945, 0.7160000205039978, 0.7139999866485596, 0.7129999995231628, 0.7110000252723694, 0.7099999785423279, 0.7089999914169312, 0.7080000042915344, 0.7070000171661377, 0.7059999704360962, 0.7049999833106995, 0.7049999833106995, 0.7039999961853027, 0.7039999961853027, 0.7039999961853027], [1.0, 0.9959999918937683, 0.9919999837875366, 0.9890000224113464, 0.9850000143051147, 0.9810000061988831, 0.9769999980926514, 0.9739999771118164, 0.9700000286102295, 0.9660000205039978, 0.9620000123977661, 0.9589999914169312, 0.9549999833106995, 0.9509999752044678, 0.9470000267028809, 0.9430000185966492, 0.9399999976158142, 0.9359999895095825, 0.9319999814033508, 0.9279999732971191, 0.925000011920929, 0.9210000038146973, 0.9169999957084656, 0.9139999747276306, 0.9100000262260437, 0.906000018119812, 0.9020000100135803, 0.8989999890327454, 0.8949999809265137, 0.890999972820282, 0.8880000114440918, 0.8840000033378601, 0.8799999952316284, 0.8769999742507935, 0.8730000257492065, 0.8690000176429749, 0.8659999966621399, 0.8619999885559082, 0.8579999804496765, 0.8550000190734863, 0.8510000109672546, 0.8479999899864197, 0.843999981880188, 0.8399999737739563, 0.8370000123977661, 0.8330000042915344, 0.8299999833106995, 0.8259999752044678, 0.8230000138282776, 0.8190000057220459, 0.8159999847412109, 0.8119999766349792, 0.8090000152587891, 0.8059999942779541, 0.8019999861717224, 0.7990000247955322, 0.7960000038146973, 0.7919999957084656, 0.7889999747276306, 0.7860000133514404, 0.7820000052452087, 0.7789999842643738, 0.7760000228881836, 0.7730000019073486, 0.7699999809265137, 0.7670000195503235, 0.7639999985694885, 0.7609999775886536, 0.7580000162124634, 0.7549999952316284, 0.7519999742507935, 0.7490000128746033, 0.746999979019165, 0.7440000176429749, 0.7409999966621399, 0.7390000224113464, 0.7360000014305115, 0.734000027179718, 0.7310000061988831, 0.7289999723434448, 0.7269999980926514, 0.7250000238418579, 0.7229999899864197, 0.7210000157356262, 0.718999981880188, 0.7170000076293945, 0.7149999737739563, 0.7139999866485596, 0.7120000123977661, 0.7110000252723694, 0.7089999914169312, 0.7080000042915344, 0.7070000171661377, 0.7059999704360962, 0.7049999833106995, 0.7049999833106995, 0.7039999961853027, 0.7039999961853027, 0.703000009059906, 0.703000009059906], [1.0, 0.9959999918937683, 0.9919999837875366, 0.9890000224113464, 0.9850000143051147, 0.9810000061988831, 0.9769999980926514, 0.9739999771118164, 0.9700000286102295, 0.9660000205039978, 0.9620000123977661, 0.9589999914169312, 0.9549999833106995, 0.9509999752044678, 0.9470000267028809, 0.9430000185966492, 0.9399999976158142, 0.9359999895095825, 0.9319999814033508, 0.9279999732971191, 0.925000011920929, 0.9210000038146973, 0.9169999957084656, 0.9139999747276306, 0.9100000262260437, 0.906000018119812, 0.9020000100135803, 0.8989999890327454, 0.8949999809265137, 0.890999972820282, 0.8880000114440918, 0.8840000033378601, 0.8799999952316284, 0.8769999742507935, 0.8730000257492065, 0.8690000176429749, 0.8659999966621399, 0.8619999885559082, 0.8579999804496765, 0.8550000190734863, 0.8510000109672546, 0.847000002861023, 0.843999981880188, 0.8399999737739563, 0.8370000123977661, 0.8330000042915344, 0.8299999833106995, 0.8259999752044678, 0.8230000138282776, 0.8190000057220459, 0.8159999847412109, 0.8119999766349792, 0.8090000152587891, 0.8050000071525574, 0.8019999861717224, 0.7990000247955322, 0.7950000166893005, 0.7919999957084656, 0.7889999747276306, 0.7860000133514404, 0.7820000052452087, 0.7789999842643738, 0.7760000228881836, 0.7730000019073486, 0.7699999809265137, 0.7670000195503235, 0.7639999985694885, 0.7609999775886536, 0.7580000162124634, 0.7549999952316284, 0.7519999742507935, 0.7490000128746033, 0.7459999918937683, 0.7440000176429749, 0.7409999966621399, 0.7379999756813049, 0.7360000014305115, 0.7329999804496765, 0.7310000061988831, 0.7289999723434448, 0.7260000109672546, 0.7239999771118164, 0.722000002861023, 0.7200000286102295, 0.7179999947547913, 0.7160000205039978, 0.7149999737739563, 0.7129999995231628, 0.7110000252723694, 0.7099999785423279, 0.7089999914169312, 0.7070000171661377, 0.7059999704360962, 0.7049999833106995, 0.7039999961853027, 0.7039999961853027, 0.703000009059906, 0.703000009059906, 0.7020000219345093, 0.7020000219345093], [1.0, 0.9959999918937683, 0.9919999837875366, 0.9890000224113464, 0.9850000143051147, 0.9810000061988831, 0.9769999980926514, 0.9739999771118164, 0.9700000286102295, 0.9660000205039978, 0.9620000123977661, 0.9580000042915344, 0.9549999833106995, 0.9509999752044678, 0.9470000267028809, 0.9430000185966492, 0.9399999976158142, 0.9359999895095825, 0.9319999814033508, 0.9279999732971191, 0.925000011920929, 0.9210000038146973, 0.9169999957084656, 0.9129999876022339, 0.9100000262260437, 0.906000018119812, 0.9020000100135803, 0.8989999890327454, 0.8949999809265137, 0.890999972820282, 0.8880000114440918, 0.8840000033378601, 0.8799999952316284, 0.8759999871253967, 0.8730000257492065, 0.8690000176429749, 0.8650000095367432, 0.8619999885559082, 0.8579999804496765, 0.8550000190734863, 0.8510000109672546, 0.847000002861023, 0.843999981880188, 0.8399999737739563, 0.8370000123977661, 0.8330000042915344, 0.8299999833106995, 0.8259999752044678, 0.8230000138282776, 0.8190000057220459, 0.8159999847412109, 0.8119999766349792, 0.8090000152587891, 0.8050000071525574, 0.8019999861717224, 0.7990000247955322, 0.7950000166893005, 0.7919999957084656, 0.7889999747276306, 0.7850000262260437, 0.7820000052452087, 0.7789999842643738, 0.7760000228881836, 0.7720000147819519, 0.7689999938011169, 0.765999972820282, 0.7630000114440918, 0.7599999904632568, 0.7570000290870667, 0.7540000081062317, 0.7509999871253967, 0.7490000128746033, 0.7459999918937683, 0.7429999709129333, 0.7400000095367432, 0.7379999756813049, 0.7350000143051147, 0.7329999804496765, 0.7300000190734863, 0.7279999852180481, 0.7260000109672546, 0.7239999771118164, 0.7210000157356262, 0.718999981880188, 0.7170000076293945, 0.7149999737739563, 0.7139999866485596, 0.7120000123977661, 0.7099999785423279, 0.7089999914169312, 0.7080000042915344, 0.7059999704360962, 0.7049999833106995, 0.7039999961853027, 0.703000009059906, 0.703000009059906, 0.7020000219345093, 0.7020000219345093, 0.7009999752044678, 0.7009999752044678], [1.0, 0.9959999918937683, 0.9919999837875366, 0.9890000224113464, 0.9850000143051147, 0.9810000061988831, 0.9769999980926514, 0.9739999771118164, 0.9700000286102295, 0.9660000205039978, 0.9620000123977661, 0.9580000042915344, 0.9549999833106995, 0.9509999752044678, 0.9470000267028809, 0.9430000185966492, 0.9399999976158142, 0.9359999895095825, 0.9319999814033508, 0.9279999732971191, 0.925000011920929, 0.9210000038146973, 0.9169999957084656, 0.9129999876022339, 0.9100000262260437, 0.906000018119812, 0.9020000100135803, 0.8989999890327454, 0.8949999809265137, 0.890999972820282, 0.8870000243186951, 0.8840000033378601, 0.8799999952316284, 0.8759999871253967, 0.8730000257492065, 0.8690000176429749, 0.8650000095367432, 0.8619999885559082, 0.8579999804496765, 0.8539999723434448, 0.8510000109672546, 0.847000002861023, 0.843999981880188, 0.8399999737739563, 0.8370000123977661, 0.8330000042915344, 0.8289999961853027, 0.8259999752044678, 0.8220000267028809, 0.8190000057220459, 0.8149999976158142, 0.8119999766349792, 0.8090000152587891, 0.8050000071525574, 0.8019999861717224, 0.7979999780654907, 0.7950000166893005, 0.7919999957084656, 0.7879999876022339, 0.7850000262260437, 0.7820000052452087, 0.7789999842643738, 0.7749999761581421, 0.7720000147819519, 0.7689999938011169, 0.765999972820282, 0.7630000114440918, 0.7599999904632568, 0.7570000290870667, 0.7540000081062317, 0.7509999871253967, 0.7480000257492065, 0.7450000047683716, 0.7429999709129333, 0.7400000095367432, 0.7369999885559082, 0.7350000143051147, 0.7319999933242798, 0.7300000190734863, 0.7269999980926514, 0.7250000238418579, 0.7229999899864197, 0.7210000157356262, 0.7179999947547913, 0.7160000205039978, 0.7149999737739563, 0.7129999995231628, 0.7110000252723694, 0.7089999914169312, 0.7080000042915344, 0.7059999704360962, 0.7049999833106995, 0.7039999961853027, 0.703000009059906, 0.7020000219345093, 0.7009999752044678, 0.7009999752044678, 0.699999988079071, 0.699999988079071, 0.699999988079071], [1.0, 0.9959999918937683, 0.9919999837875366, 0.9890000224113464, 0.9850000143051147, 0.9810000061988831, 0.9769999980926514, 0.9739999771118164, 0.9700000286102295, 0.9660000205039978, 0.9620000123977661, 0.9580000042915344, 0.9549999833106995, 0.9509999752044678, 0.9470000267028809, 0.9430000185966492, 0.9399999976158142, 0.9359999895095825, 0.9319999814033508, 0.9279999732971191, 0.925000011920929, 0.9210000038146973, 0.9169999957084656, 0.9129999876022339, 0.9100000262260437, 0.906000018119812, 0.9020000100135803, 0.8980000019073486, 0.8949999809265137, 0.890999972820282, 0.8870000243186951, 0.8840000033378601, 0.8799999952316284, 0.8759999871253967, 0.8730000257492065, 0.8690000176429749, 0.8650000095367432, 0.8619999885559082, 0.8579999804496765, 0.8539999723434448, 0.8510000109672546, 0.847000002861023, 0.843999981880188, 0.8399999737739563, 0.8360000252723694, 0.8330000042915344, 0.8289999961853027, 0.8259999752044678, 0.8220000267028809, 0.8190000057220459, 0.8149999976158142, 0.8119999766349792, 0.8080000281333923, 0.8050000071525574, 0.8009999990463257, 0.7979999780654907, 0.7950000166893005, 0.7910000085830688, 0.7879999876022339, 0.7850000262260437, 0.781000018119812, 0.777999997138977, 0.7749999761581421, 0.7720000147819519, 0.7689999938011169, 0.7649999856948853, 0.7620000243186951, 0.7590000033378601, 0.7559999823570251, 0.753000020980835, 0.75, 0.7480000257492065, 0.7450000047683716, 0.7419999837875366, 0.7390000224113464, 0.7369999885559082, 0.734000027179718, 0.7310000061988831, 0.7289999723434448, 0.7260000109672546, 0.7239999771118164, 0.722000002861023, 0.7200000286102295, 0.7170000076293945, 0.7149999737739563, 0.7129999995231628, 0.7120000123977661, 0.7099999785423279, 0.7080000042915344, 0.7070000171661377, 0.7049999833106995, 0.7039999961853027, 0.703000009059906, 0.7020000219345093, 0.7009999752044678, 0.699999988079071, 0.6990000009536743, 0.6990000009536743, 0.6980000138282776, 0.6980000138282776], [1.0, 0.9959999918937683, 0.9919999837875366, 0.9890000224113464, 0.9850000143051147, 0.9810000061988831, 0.9769999980926514, 0.9739999771118164, 0.9700000286102295, 0.9660000205039978, 0.9620000123977661, 0.9580000042915344, 0.9549999833106995, 0.9509999752044678, 0.9470000267028809, 0.9430000185966492, 0.9399999976158142, 0.9359999895095825, 0.9319999814033508, 0.9279999732971191, 0.925000011920929, 0.9210000038146973, 0.9169999957084656, 0.9129999876022339, 0.9100000262260437, 0.906000018119812, 0.9020000100135803, 0.8980000019073486, 0.8949999809265137, 0.890999972820282, 0.8870000243186951, 0.8840000033378601, 0.8799999952316284, 0.8759999871253967, 0.8730000257492065, 0.8690000176429749, 0.8650000095367432, 0.8619999885559082, 0.8579999804496765, 0.8539999723434448, 0.8510000109672546, 0.847000002861023, 0.8429999947547913, 0.8399999737739563, 0.8360000252723694, 0.8330000042915344, 0.8289999961853027, 0.8259999752044678, 0.8220000267028809, 0.8180000185966492, 0.8149999976158142, 0.8109999895095825, 0.8080000281333923, 0.8050000071525574, 0.8009999990463257, 0.7979999780654907, 0.7940000295639038, 0.7910000085830688, 0.7879999876022339, 0.7839999794960022, 0.781000018119812, 0.777999997138977, 0.7749999761581421, 0.7710000276565552, 0.7680000066757202, 0.7649999856948853, 0.7620000243186951, 0.7590000033378601, 0.7559999823570251, 0.753000020980835, 0.75, 0.746999979019165, 0.7440000176429749, 0.7409999966621399, 0.7379999756813049, 0.7360000014305115, 0.7329999804496765, 0.7310000061988831, 0.7279999852180481, 0.7260000109672546, 0.7229999899864197, 0.7210000157356262, 0.718999981880188, 0.7160000205039978, 0.7139999866485596, 0.7120000123977661, 0.7099999785423279, 0.7089999914169312, 0.7070000171661377, 0.7049999833106995, 0.7039999961853027, 0.7020000219345093, 0.7009999752044678, 0.699999988079071, 0.6990000009536743, 0.6980000138282776, 0.6970000267028809, 0.6970000267028809, 0.6970000267028809, 0.6959999799728394], [1.0, 0.9959999918937683, 0.9919999837875366, 0.9890000224113464, 0.9850000143051147, 0.9810000061988831, 0.9769999980926514, 0.9739999771118164, 0.9700000286102295, 0.9660000205039978, 0.9620000123977661, 0.9580000042915344, 0.9549999833106995, 0.9509999752044678, 0.9470000267028809, 0.9430000185966492, 0.9399999976158142, 0.9359999895095825, 0.9319999814033508, 0.9279999732971191, 0.925000011920929, 0.9210000038146973, 0.9169999957084656, 0.9129999876022339, 0.9100000262260437, 0.906000018119812, 0.9020000100135803, 0.8980000019073486, 0.8949999809265137, 0.890999972820282, 0.8870000243186951, 0.8830000162124634, 0.8799999952316284, 0.8759999871253967, 0.871999979019165, 0.8690000176429749, 0.8650000095367432, 0.8610000014305115, 0.8579999804496765, 0.8539999723434448, 0.8500000238418579, 0.847000002861023, 0.8429999947547913, 0.8399999737739563, 0.8360000252723694, 0.8320000171661377, 0.8289999961853027, 0.824999988079071, 0.8220000267028809, 0.8180000185966492, 0.8149999976158142, 0.8109999895095825, 0.8080000281333923, 0.8040000200271606, 0.8009999990463257, 0.796999990940094, 0.7940000295639038, 0.7910000085830688, 0.7870000004768372, 0.7839999794960022, 0.781000018119812, 0.7770000100135803, 0.7739999890327454, 0.7710000276565552, 0.7680000066757202, 0.7639999985694885, 0.7609999775886536, 0.7580000162124634, 0.7549999952316284, 0.7519999742507935, 0.7490000128746033, 0.7459999918937683, 0.7429999709129333, 0.7400000095367432, 0.7379999756813049, 0.7350000143051147, 0.7319999933242798, 0.7300000190734863, 0.7269999980926514, 0.7239999771118164, 0.722000002861023, 0.7200000286102295, 0.7170000076293945, 0.7149999737739563, 0.7129999995231628, 0.7110000252723694, 0.7089999914169312, 0.7070000171661377, 0.7049999833106995, 0.7039999961853027, 0.7020000219345093, 0.7009999752044678, 0.6990000009536743, 0.6980000138282776, 0.6970000267028809, 0.6959999799728394, 0.6949999928474426, 0.6949999928474426, 0.6940000057220459, 0.6940000057220459], [1.0, 0.9959999918937683, 0.9919999837875366, 0.9890000224113464, 0.9850000143051147, 0.9810000061988831, 0.9769999980926514, 0.9729999899864197, 0.9700000286102295, 0.9660000205039978, 0.9620000123977661, 0.9580000042915344, 0.9549999833106995, 0.9509999752044678, 0.9470000267028809, 0.9430000185966492, 0.9399999976158142, 0.9359999895095825, 0.9319999814033508, 0.9279999732971191, 0.9240000247955322, 0.9210000038146973, 0.9169999957084656, 0.9129999876022339, 0.9089999794960022, 0.906000018119812, 0.9020000100135803, 0.8980000019073486, 0.8949999809265137, 0.890999972820282, 0.8870000243186951, 0.8830000162124634, 0.8799999952316284, 0.8759999871253967, 0.871999979019165, 0.8690000176429749, 0.8650000095367432, 0.8610000014305115, 0.8579999804496765, 0.8539999723434448, 0.8500000238418579, 0.847000002861023, 0.8429999947547913, 0.8389999866485596, 0.8360000252723694, 0.8320000171661377, 0.8289999961853027, 0.824999988079071, 0.8209999799728394, 0.8180000185966492, 0.8140000104904175, 0.8109999895095825, 0.8069999814033508, 0.8040000200271606, 0.800000011920929, 0.796999990940094, 0.7940000295639038, 0.7900000214576721, 0.7870000004768372, 0.7829999923706055, 0.7799999713897705, 0.7770000100135803, 0.7739999890327454, 0.7699999809265137, 0.7670000195503235, 0.7639999985694885, 0.7609999775886536, 0.7580000162124634, 0.7540000081062317, 0.7509999871253967, 0.7480000257492065, 0.7450000047683716, 0.7419999837875366, 0.7400000095367432, 0.7369999885559082, 0.734000027179718, 0.7310000061988831, 0.7289999723434448, 0.7260000109672546, 0.7229999899864197, 0.7210000157356262, 0.7179999947547913, 0.7160000205039978, 0.7139999866485596, 0.7120000123977661, 0.7089999914169312, 0.7070000171661377, 0.7049999833106995, 0.7039999961853027, 0.7020000219345093, 0.699999988079071, 0.6990000009536743, 0.6970000267028809, 0.6959999799728394, 0.6949999928474426, 0.6940000057220459, 0.6930000185966492, 0.6919999718666077, 0.6919999718666077, 0.6919999718666077], [1.0, 0.9959999918937683, 0.9919999837875366, 0.9890000224113464, 0.9850000143051147, 0.9810000061988831, 0.9769999980926514, 0.9729999899864197, 0.9700000286102295, 0.9660000205039978, 0.9620000123977661, 0.9580000042915344, 0.9549999833106995, 0.9509999752044678, 0.9470000267028809, 0.9430000185966492, 0.9390000104904175, 0.9359999895095825, 0.9319999814033508, 0.9279999732971191, 0.9240000247955322, 0.9210000038146973, 0.9169999957084656, 0.9129999876022339, 0.9089999794960022, 0.906000018119812, 0.9020000100135803, 0.8980000019073486, 0.8939999938011169, 0.890999972820282, 0.8870000243186951, 0.8830000162124634, 0.8799999952316284, 0.8759999871253967, 0.871999979019165, 0.8679999709129333, 0.8650000095367432, 0.8610000014305115, 0.8569999933242798, 0.8539999723434448, 0.8500000238418579, 0.8460000157356262, 0.8429999947547913, 0.8389999866485596, 0.8360000252723694, 0.8320000171661377, 0.828000009059906, 0.824999988079071, 0.8209999799728394, 0.8180000185966492, 0.8140000104904175, 0.8109999895095825, 0.8069999814033508, 0.8040000200271606, 0.800000011920929, 0.796999990940094, 0.7929999828338623, 0.7900000214576721, 0.7860000133514404, 0.7829999923706055, 0.7799999713897705, 0.7760000228881836, 0.7730000019073486, 0.7699999809265137, 0.765999972820282, 0.7630000114440918, 0.7599999904632568, 0.7570000290870667, 0.7540000081062317, 0.7509999871253967, 0.7480000257492065, 0.7450000047683716, 0.7419999837875366, 0.7390000224113464, 0.7360000014305115, 0.7329999804496765, 0.7300000190734863, 0.7269999980926514, 0.7250000238418579, 0.722000002861023, 0.7200000286102295, 0.7170000076293945, 0.7149999737739563, 0.7120000123977661, 0.7099999785423279, 0.7080000042915344, 0.7059999704360962, 0.7039999961853027, 0.7020000219345093, 0.699999988079071, 0.6980000138282776, 0.6959999799728394, 0.6949999928474426, 0.6940000057220459, 0.6919999718666077, 0.6909999847412109, 0.6899999976158142, 0.6899999976158142, 0.6890000104904175, 0.6890000104904175], [1.0, 0.9959999918937683, 0.9919999837875366, 0.9890000224113464, 0.9850000143051147, 0.9810000061988831, 0.9769999980926514, 0.9729999899864197, 0.9700000286102295, 0.9660000205039978, 0.9620000123977661, 0.9580000042915344, 0.9549999833106995, 0.9509999752044678, 0.9470000267028809, 0.9430000185966492, 0.9390000104904175, 0.9359999895095825, 0.9319999814033508, 0.9279999732971191, 0.9240000247955322, 0.9210000038146973, 0.9169999957084656, 0.9129999876022339, 0.9089999794960022, 0.906000018119812, 0.9020000100135803, 0.8980000019073486, 0.8939999938011169, 0.890999972820282, 0.8870000243186951, 0.8830000162124634, 0.8790000081062317, 0.8759999871253967, 0.871999979019165, 0.8679999709129333, 0.8650000095367432, 0.8610000014305115, 0.8569999933242798, 0.8539999723434448, 0.8500000238418579, 0.8460000157356262, 0.8429999947547913, 0.8389999866485596, 0.8349999785423279, 0.8320000171661377, 0.828000009059906, 0.8240000009536743, 0.8209999799728394, 0.8169999718666077, 0.8140000104904175, 0.8100000023841858, 0.8069999814033508, 0.8029999732971191, 0.800000011920929, 0.7960000038146973, 0.7929999828338623, 0.7889999747276306, 0.7860000133514404, 0.7820000052452087, 0.7789999842643738, 0.7760000228881836, 0.7720000147819519, 0.7689999938011169, 0.765999972820282, 0.7620000243186951, 0.7590000033378601, 0.7559999823570251, 0.753000020980835, 0.75, 0.746999979019165, 0.7440000176429749, 0.7409999966621399, 0.7379999756813049, 0.7350000143051147, 0.7319999933242798, 0.7289999723434448, 0.7260000109672546, 0.7229999899864197, 0.7210000157356262, 0.7179999947547913, 0.7160000205039978, 0.7129999995231628, 0.7110000252723694, 0.7080000042915344, 0.7059999704360962, 0.7039999961853027, 0.7020000219345093, 0.699999988079071, 0.6980000138282776, 0.6959999799728394, 0.6940000057220459, 0.6919999718666077, 0.6909999847412109, 0.6899999976158142, 0.6880000233650208, 0.6869999766349792, 0.6869999766349792, 0.6859999895095825, 0.6859999895095825], [1.0, 0.9959999918937683, 0.9919999837875366, 0.9890000224113464, 0.9850000143051147, 0.9810000061988831, 0.9769999980926514, 0.9729999899864197, 0.9700000286102295, 0.9660000205039978, 0.9620000123977661, 0.9580000042915344, 0.9539999961853027, 0.9509999752044678, 0.9470000267028809, 0.9430000185966492, 0.9390000104904175, 0.9359999895095825, 0.9319999814033508, 0.9279999732971191, 0.9240000247955322, 0.9200000166893005, 0.9169999957084656, 0.9129999876022339, 0.9089999794960022, 0.9049999713897705, 0.9020000100135803, 0.8980000019073486, 0.8939999938011169, 0.8899999856948853, 0.8870000243186951, 0.8830000162124634, 0.8790000081062317, 0.8759999871253967, 0.871999979019165, 0.8679999709129333, 0.8640000224113464, 0.8610000014305115, 0.8569999933242798, 0.8529999852180481, 0.8500000238418579, 0.8460000157356262, 0.8420000076293945, 0.8389999866485596, 0.8349999785423279, 0.8309999704360962, 0.828000009059906, 0.8240000009536743, 0.8209999799728394, 0.8169999718666077, 0.8130000233650208, 0.8100000023841858, 0.8059999942779541, 0.8029999732971191, 0.7990000247955322, 0.7960000038146973, 0.7919999957084656, 0.7889999747276306, 0.7850000262260437, 0.7820000052452087, 0.777999997138977, 0.7749999761581421, 0.7720000147819519, 0.7680000066757202, 0.7649999856948853, 0.7620000243186951, 0.7580000162124634, 0.7549999952316284, 0.7519999742507935, 0.7490000128746033, 0.7459999918937683, 0.7429999709129333, 0.7400000095367432, 0.7369999885559082, 0.734000027179718, 0.7310000061988831, 0.7279999852180481, 0.7250000238418579, 0.722000002861023, 0.718999981880188, 0.7170000076293945, 0.7139999866485596, 0.7110000252723694, 0.7089999914169312, 0.7059999704360962, 0.7039999961853027, 0.7020000219345093, 0.6990000009536743, 0.6970000267028809, 0.6949999928474426, 0.6930000185966492, 0.6919999718666077, 0.6899999976158142, 0.6880000233650208, 0.6869999766349792, 0.6850000023841858, 0.6840000152587891, 0.6830000281333923, 0.6819999814033508, 0.6819999814033508], [1.0, 0.9959999918937683, 0.9919999837875366, 0.9890000224113464, 0.9850000143051147, 0.9810000061988831, 0.9769999980926514, 0.9729999899864197, 0.9700000286102295, 0.9660000205039978, 0.9620000123977661, 0.9580000042915344, 0.9539999961853027, 0.9509999752044678, 0.9470000267028809, 0.9430000185966492, 0.9390000104904175, 0.9359999895095825, 0.9319999814033508, 0.9279999732971191, 0.9240000247955322, 0.9200000166893005, 0.9169999957084656, 0.9129999876022339, 0.9089999794960022, 0.9049999713897705, 0.9020000100135803, 0.8980000019073486, 0.8939999938011169, 0.8899999856948853, 0.8870000243186951, 0.8830000162124634, 0.8790000081062317, 0.875, 0.871999979019165, 0.8679999709129333, 0.8640000224113464, 0.8610000014305115, 0.8569999933242798, 0.8529999852180481, 0.8489999771118164, 0.8460000157356262, 0.8420000076293945, 0.8379999995231628, 0.8349999785423279, 0.8309999704360962, 0.8270000219345093, 0.8240000009536743, 0.8199999928474426, 0.8169999718666077, 0.8130000233650208, 0.8090000152587891, 0.8059999942779541, 0.8019999861717224, 0.7990000247955322, 0.7950000166893005, 0.7919999957084656, 0.7879999876022339, 0.7850000262260437, 0.781000018119812, 0.777999997138977, 0.7739999890327454, 0.7710000276565552, 0.7680000066757202, 0.7639999985694885, 0.7609999775886536, 0.7580000162124634, 0.7540000081062317, 0.7509999871253967, 0.7480000257492065, 0.7450000047683716, 0.7419999837875366, 0.7379999756813049, 0.7350000143051147, 0.7319999933242798, 0.7289999723434448, 0.7260000109672546, 0.7229999899864197, 0.7210000157356262, 0.7179999947547913, 0.7149999737739563, 0.7120000123977661, 0.7099999785423279, 0.7070000171661377, 0.7039999961853027, 0.7020000219345093, 0.699999988079071, 0.6970000267028809, 0.6949999928474426, 0.6930000185966492, 0.6909999847412109, 0.6890000104904175, 0.6869999766349792, 0.6850000023841858, 0.6830000281333923, 0.6819999814033508, 0.6809999942779541, 0.6790000200271606, 0.6779999732971191, 0.6779999732971191], [1.0, 0.9959999918937683, 0.9919999837875366, 0.9890000224113464, 0.9850000143051147, 0.9810000061988831, 0.9769999980926514, 0.9729999899864197, 0.9700000286102295, 0.9660000205039978, 0.9620000123977661, 0.9580000042915344, 0.9539999961853027, 0.9509999752044678, 0.9470000267028809, 0.9430000185966492, 0.9390000104904175, 0.9350000023841858, 0.9319999814033508, 0.9279999732971191, 0.9240000247955322, 0.9200000166893005, 0.9169999957084656, 0.9129999876022339, 0.9089999794960022, 0.9049999713897705, 0.9010000228881836, 0.8980000019073486, 0.8939999938011169, 0.8899999856948853, 0.8859999775886536, 0.8830000162124634, 0.8790000081062317, 0.875, 0.8709999918937683, 0.8679999709129333, 0.8640000224113464, 0.8600000143051147, 0.8569999933242798, 0.8529999852180481, 0.8489999771118164, 0.8450000286102295, 0.8420000076293945, 0.8379999995231628, 0.8339999914169312, 0.8309999704360962, 0.8270000219345093, 0.8230000138282776, 0.8199999928474426, 0.8159999847412109, 0.8130000233650208, 0.8090000152587891, 0.8050000071525574, 0.8019999861717224, 0.7979999780654907, 0.7950000166893005, 0.7910000085830688, 0.7879999876022339, 0.7839999794960022, 0.781000018119812, 0.7770000100135803, 0.7739999890327454, 0.7699999809265137, 0.7670000195503235, 0.7630000114440918, 0.7599999904632568, 0.7570000290870667, 0.753000020980835, 0.75, 0.746999979019165, 0.7440000176429749, 0.7400000095367432, 0.7369999885559082, 0.734000027179718, 0.7310000061988831, 0.7279999852180481, 0.7250000238418579, 0.722000002861023, 0.718999981880188, 0.7160000205039978, 0.7129999995231628, 0.7099999785423279, 0.7080000042915344, 0.7049999833106995, 0.7020000219345093, 0.699999988079071, 0.6970000267028809, 0.6949999928474426, 0.6930000185966492, 0.6899999976158142, 0.6880000233650208, 0.6859999895095825, 0.6840000152587891, 0.6819999814033508, 0.6800000071525574, 0.6779999732971191, 0.6769999861717224, 0.675000011920929, 0.6740000247955322, 0.6729999780654907], [1.0, 0.9959999918937683, 0.9919999837875366, 0.9890000224113464, 0.9850000143051147, 0.9810000061988831, 0.9769999980926514, 0.9729999899864197, 0.9700000286102295, 0.9660000205039978, 0.9620000123977661, 0.9580000042915344, 0.9539999961853027, 0.9509999752044678, 0.9470000267028809, 0.9430000185966492, 0.9390000104904175, 0.9350000023841858, 0.9319999814033508, 0.9279999732971191, 0.9240000247955322, 0.9200000166893005, 0.9160000085830688, 0.9129999876022339, 0.9089999794960022, 0.9049999713897705, 0.9010000228881836, 0.8980000019073486, 0.8939999938011169, 0.8899999856948853, 0.8859999775886536, 0.8830000162124634, 0.8790000081062317, 0.875, 0.8709999918937683, 0.8679999709129333, 0.8640000224113464, 0.8600000143051147, 0.8560000061988831, 0.8529999852180481, 0.8489999771118164, 0.8450000286102295, 0.8420000076293945, 0.8379999995231628, 0.8339999914169312, 0.8299999833106995, 0.8270000219345093, 0.8230000138282776, 0.8190000057220459, 0.8159999847412109, 0.8119999766349792, 0.8090000152587891, 0.8050000071525574, 0.8009999990463257, 0.7979999780654907, 0.7940000295639038, 0.7910000085830688, 0.7870000004768372, 0.7839999794960022, 0.7799999713897705, 0.7760000228881836, 0.7730000019073486, 0.7699999809265137, 0.765999972820282, 0.7630000114440918, 0.7590000033378601, 0.7559999823570251, 0.7519999742507935, 0.7490000128746033, 0.7459999918937683, 0.7429999709129333, 0.7390000224113464, 0.7360000014305115, 0.7329999804496765, 0.7300000190734863, 0.7269999980926514, 0.7229999899864197, 0.7200000286102295, 0.7170000076293945, 0.7139999866485596, 0.7110000252723694, 0.7089999914169312, 0.7059999704360962, 0.703000009059906, 0.699999988079071, 0.6980000138282776, 0.6949999928474426, 0.6919999718666077, 0.6899999976158142, 0.6869999766349792, 0.6850000023841858, 0.6830000281333923, 0.6809999942779541, 0.6790000200271606, 0.6769999861717224, 0.675000011920929, 0.6729999780654907, 0.6710000038146973, 0.6690000295639038, 0.6679999828338623], [1.0, 0.9959999918937683, 0.9919999837875366, 0.9890000224113464, 0.9850000143051147, 0.9810000061988831, 0.9769999980926514, 0.9729999899864197, 0.9700000286102295, 0.9660000205039978, 0.9620000123977661, 0.9580000042915344, 0.9539999961853027, 0.9509999752044678, 0.9470000267028809, 0.9430000185966492, 0.9390000104904175, 0.9350000023841858, 0.9319999814033508, 0.9279999732971191, 0.9240000247955322, 0.9200000166893005, 0.9160000085830688, 0.9129999876022339, 0.9089999794960022, 0.9049999713897705, 0.9010000228881836, 0.8970000147819519, 0.8939999938011169, 0.8899999856948853, 0.8859999775886536, 0.8820000290870667, 0.8790000081062317, 0.875, 0.8709999918937683, 0.8669999837875366, 0.8640000224113464, 0.8600000143051147, 0.8560000061988831, 0.8519999980926514, 0.8489999771118164, 0.8450000286102295, 0.8410000205039978, 0.8379999995231628, 0.8339999914169312, 0.8299999833106995, 0.8259999752044678, 0.8230000138282776, 0.8190000057220459, 0.8149999976158142, 0.8119999766349792, 0.8080000281333923, 0.8040000200271606, 0.8009999990463257, 0.796999990940094, 0.7940000295639038, 0.7900000214576721, 0.7860000133514404, 0.7829999923706055, 0.7789999842643738, 0.7760000228881836, 0.7720000147819519, 0.7689999938011169, 0.7649999856948853, 0.7620000243186951, 0.7580000162124634, 0.7549999952316284, 0.7509999871253967, 0.7480000257492065, 0.7450000047683716, 0.7409999966621399, 0.7379999756813049, 0.7350000143051147, 0.7319999933242798, 0.7279999852180481, 0.7250000238418579, 0.722000002861023, 0.718999981880188, 0.7160000205039978, 0.7129999995231628, 0.7099999785423279, 0.7070000171661377, 0.7039999961853027, 0.7009999752044678, 0.6980000138282776, 0.6949999928474426, 0.6919999718666077, 0.6899999976158142, 0.6869999766349792, 0.6850000023841858, 0.6819999814033508, 0.6800000071525574, 0.6769999861717224, 0.675000011920929, 0.6729999780654907, 0.6710000038146973, 0.6690000295639038, 0.6669999957084656, 0.6639999747276306, 0.6629999876022339], [1.0, 0.9959999918937683, 0.9919999837875366, 0.9890000224113464, 0.9850000143051147, 0.9810000061988831, 0.9769999980926514, 0.9729999899864197, 0.968999981880188, 0.9660000205039978, 0.9620000123977661, 0.9580000042915344, 0.9539999961853027, 0.949999988079071, 0.9470000267028809, 0.9430000185966492, 0.9390000104904175, 0.9350000023841858, 0.9309999942779541, 0.9279999732971191, 0.9240000247955322, 0.9200000166893005, 0.9160000085830688, 0.9120000004768372, 0.9089999794960022, 0.9049999713897705, 0.9010000228881836, 0.8970000147819519, 0.8939999938011169, 0.8899999856948853, 0.8859999775886536, 0.8820000290870667, 0.878000020980835, 0.875, 0.8709999918937683, 0.8669999837875366, 0.8629999756813049, 0.8600000143051147, 0.8560000061988831, 0.8519999980926514, 0.8479999899864197, 0.8450000286102295, 0.8410000205039978, 0.8370000123977661, 0.8330000042915344, 0.8299999833106995, 0.8259999752044678, 0.8220000267028809, 0.8190000057220459, 0.8149999976158142, 0.8109999895095825, 0.8080000281333923, 0.8040000200271606, 0.800000011920929, 0.796999990940094, 0.7929999828338623, 0.7889999747276306, 0.7860000133514404, 0.7820000052452087, 0.7789999842643738, 0.7749999761581421, 0.7710000276565552, 0.7680000066757202, 0.7639999985694885, 0.7609999775886536, 0.7570000290870667, 0.7540000081062317, 0.75, 0.746999979019165, 0.7440000176429749, 0.7400000095367432, 0.7369999885559082, 0.7329999804496765, 0.7300000190734863, 0.7269999980926514, 0.7239999771118164, 0.7200000286102295, 0.7170000076293945, 0.7139999866485596, 0.7110000252723694, 0.7080000042915344, 0.7049999833106995, 0.7020000219345093, 0.6990000009536743, 0.6959999799728394, 0.6930000185966492, 0.6899999976158142, 0.6869999766349792, 0.6840000152587891, 0.6819999814033508, 0.6790000200271606, 0.6759999990463257, 0.6740000247955322, 0.6710000038146973, 0.6690000295639038, 0.6669999957084656, 0.6639999747276306, 0.6620000004768372, 0.6600000262260437, 0.6579999923706055], [1.0, 0.9959999918937683, 0.9919999837875366, 0.9890000224113464, 0.9850000143051147, 0.9810000061988831, 0.9769999980926514, 0.9729999899864197, 0.968999981880188, 0.9660000205039978, 0.9620000123977661, 0.9580000042915344, 0.9539999961853027, 0.949999988079071, 0.9470000267028809, 0.9430000185966492, 0.9390000104904175, 0.9350000023841858, 0.9309999942779541, 0.9279999732971191, 0.9240000247955322, 0.9200000166893005, 0.9160000085830688, 0.9120000004768372, 0.9089999794960022, 0.9049999713897705, 0.9010000228881836, 0.8970000147819519, 0.8930000066757202, 0.8899999856948853, 0.8859999775886536, 0.8820000290870667, 0.878000020980835, 0.8740000128746033, 0.8709999918937683, 0.8669999837875366, 0.8629999756813049, 0.859000027179718, 0.8560000061988831, 0.8519999980926514, 0.8479999899864197, 0.843999981880188, 0.8410000205039978, 0.8370000123977661, 0.8330000042915344, 0.8289999961853027, 0.8259999752044678, 0.8220000267028809, 0.8180000185966492, 0.8149999976158142, 0.8109999895095825, 0.8069999814033508, 0.8029999732971191, 0.800000011920929, 0.7960000038146973, 0.7919999957084656, 0.7889999747276306, 0.7850000262260437, 0.7820000052452087, 0.777999997138977, 0.7739999890327454, 0.7710000276565552, 0.7670000195503235, 0.7639999985694885, 0.7599999904632568, 0.7559999823570251, 0.753000020980835, 0.7490000128746033, 0.7459999918937683, 0.7419999837875366, 0.7390000224113464, 0.7360000014305115, 0.7319999933242798, 0.7289999723434448, 0.7250000238418579, 0.722000002861023, 0.718999981880188, 0.7149999737739563, 0.7120000123977661, 0.7089999914169312, 0.7059999704360962, 0.703000009059906, 0.6990000009536743, 0.6959999799728394, 0.6930000185966492, 0.6899999976158142, 0.6869999766349792, 0.6840000152587891, 0.6809999942779541, 0.6790000200271606, 0.6759999990463257, 0.6729999780654907, 0.6700000166893005, 0.6679999828338623, 0.6650000214576721, 0.6629999876022339, 0.6600000262260437, 0.6570000052452087, 0.6549999713897705, 0.652999997138977], [1.0, 0.9959999918937683, 0.9919999837875366, 0.9890000224113464, 0.9850000143051147, 0.9810000061988831, 0.9769999980926514, 0.9729999899864197, 0.968999981880188, 0.9660000205039978, 0.9620000123977661, 0.9580000042915344, 0.9539999961853027, 0.949999988079071, 0.9470000267028809, 0.9430000185966492, 0.9390000104904175, 0.9350000023841858, 0.9309999942779541, 0.9269999861717224, 0.9240000247955322, 0.9200000166893005, 0.9160000085830688, 0.9120000004768372, 0.9079999923706055, 0.9049999713897705, 0.9010000228881836, 0.8970000147819519, 0.8930000066757202, 0.8889999985694885, 0.8859999775886536, 0.8820000290870667, 0.878000020980835, 0.8740000128746033, 0.8700000047683716, 0.8669999837875366, 0.8629999756813049, 0.859000027179718, 0.8550000190734863, 0.8519999980926514, 0.8479999899864197, 0.843999981880188, 0.8399999737739563, 0.8370000123977661, 0.8330000042915344, 0.8289999961853027, 0.824999988079071, 0.8220000267028809, 0.8180000185966492, 0.8140000104904175, 0.8100000023841858, 0.8069999814033508, 0.8029999732971191, 0.7990000247955322, 0.7960000038146973, 0.7919999957084656, 0.7879999876022339, 0.7839999794960022, 0.781000018119812, 0.7770000100135803, 0.7739999890327454, 0.7699999809265137, 0.765999972820282, 0.7630000114440918, 0.7590000033378601, 0.7549999952316284, 0.7519999742507935, 0.7480000257492065, 0.7450000047683716, 0.7409999966621399, 0.7379999756813049, 0.734000027179718, 0.7310000061988831, 0.7269999980926514, 0.7239999771118164, 0.7200000286102295, 0.7170000076293945, 0.7139999866485596, 0.7099999785423279, 0.7070000171661377, 0.7039999961853027, 0.699999988079071, 0.6970000267028809, 0.6940000057220459, 0.6909999847412109, 0.6880000233650208, 0.6850000023841858, 0.6819999814033508, 0.6790000200271606, 0.6759999990463257, 0.6729999780654907, 0.6700000166893005, 0.6669999957084656, 0.6639999747276306, 0.6610000133514404, 0.6579999923706055, 0.656000018119812, 0.652999997138977, 0.6499999761581421, 0.6480000019073486], [1.0, 0.9959999918937683, 0.9919999837875366, 0.9890000224113464, 0.9850000143051147, 0.9810000061988831, 0.9769999980926514, 0.9729999899864197, 0.968999981880188, 0.9660000205039978, 0.9620000123977661, 0.9580000042915344, 0.9539999961853027, 0.949999988079071, 0.9459999799728394, 0.9430000185966492, 0.9390000104904175, 0.9350000023841858, 0.9309999942779541, 0.9269999861717224, 0.9240000247955322, 0.9200000166893005, 0.9160000085830688, 0.9120000004768372, 0.9079999923706055, 0.9039999842643738, 0.9010000228881836, 0.8970000147819519, 0.8930000066757202, 0.8889999985694885, 0.8849999904632568, 0.8820000290870667, 0.878000020980835, 0.8740000128746033, 0.8700000047683716, 0.8659999966621399, 0.8629999756813049, 0.859000027179718, 0.8550000190734863, 0.8510000109672546, 0.8479999899864197, 0.843999981880188, 0.8399999737739563, 0.8360000252723694, 0.8320000171661377, 0.8289999961853027, 0.824999988079071, 0.8209999799728394, 0.8169999718666077, 0.8140000104904175, 0.8100000023841858, 0.8059999942779541, 0.8019999861717224, 0.7990000247955322, 0.7950000166893005, 0.7910000085830688, 0.7870000004768372, 0.7839999794960022, 0.7799999713897705, 0.7760000228881836, 0.7730000019073486, 0.7689999938011169, 0.7649999856948853, 0.7620000243186951, 0.7580000162124634, 0.7540000081062317, 0.7509999871253967, 0.746999979019165, 0.7440000176429749, 0.7400000095367432, 0.7360000014305115, 0.7329999804496765, 0.7289999723434448, 0.7260000109672546, 0.722000002861023, 0.718999981880188, 0.7149999737739563, 0.7120000123977661, 0.7080000042915344, 0.7049999833106995, 0.7020000219345093, 0.6980000138282776, 0.6949999928474426, 0.6919999718666077, 0.6880000233650208, 0.6850000023841858, 0.6819999814033508, 0.6790000200271606, 0.675000011920929, 0.671999990940094, 0.6690000295639038, 0.6660000085830688, 0.6629999876022339, 0.6600000262260437, 0.6570000052452087, 0.6539999842643738, 0.6510000228881836, 0.6480000019073486, 0.6449999809265137, 0.6430000066757202], [1.0, 0.9959999918937683, 0.9919999837875366, 0.9890000224113464, 0.9850000143051147, 0.9810000061988831, 0.9769999980926514, 0.9729999899864197, 0.968999981880188, 0.9660000205039978, 0.9620000123977661, 0.9580000042915344, 0.9539999961853027, 0.949999988079071, 0.9459999799728394, 0.9430000185966492, 0.9390000104904175, 0.9350000023841858, 0.9309999942779541, 0.9269999861717224, 0.9229999780654907, 0.9200000166893005, 0.9160000085830688, 0.9120000004768372, 0.9079999923706055, 0.9039999842643738, 0.9010000228881836, 0.8970000147819519, 0.8930000066757202, 0.8889999985694885, 0.8849999904632568, 0.8809999823570251, 0.878000020980835, 0.8740000128746033, 0.8700000047683716, 0.8659999966621399, 0.8619999885559082, 0.859000027179718, 0.8550000190734863, 0.8510000109672546, 0.847000002861023, 0.8429999947547913, 0.8399999737739563, 0.8360000252723694, 0.8320000171661377, 0.828000009059906, 0.8240000009536743, 0.8209999799728394, 0.8169999718666077, 0.8130000233650208, 0.8090000152587891, 0.8059999942779541, 0.8019999861717224, 0.7979999780654907, 0.7940000295639038, 0.7910000085830688, 0.7870000004768372, 0.7829999923706055, 0.7789999842643738, 0.7760000228881836, 0.7720000147819519, 0.7680000066757202, 0.7639999985694885, 0.7609999775886536, 0.7570000290870667, 0.753000020980835, 0.75, 0.7459999918937683, 0.7419999837875366, 0.7390000224113464, 0.7350000143051147, 0.7310000061988831, 0.7279999852180481, 0.7239999771118164, 0.7210000157356262, 0.7170000076293945, 0.7139999866485596, 0.7099999785423279, 0.7059999704360962, 0.703000009059906, 0.6990000009536743, 0.6959999799728394, 0.6930000185966492, 0.6890000104904175, 0.6859999895095825, 0.6819999814033508, 0.6790000200271606, 0.6759999990463257, 0.671999990940094, 0.6690000295639038, 0.6660000085830688, 0.6629999876022339, 0.6589999794960022, 0.656000018119812, 0.652999997138977, 0.6499999761581421, 0.6470000147819519, 0.6439999938011169, 0.640999972820282, 0.6380000114440918], [1.0, 0.9959999918937683, 0.9919999837875366, 0.9879999756813049, 0.9850000143051147, 0.9810000061988831, 0.9769999980926514, 0.9729999899864197, 0.968999981880188, 0.9649999737739563, 0.9620000123977661, 0.9580000042915344, 0.9539999961853027, 0.949999988079071, 0.9459999799728394, 0.9430000185966492, 0.9390000104904175, 0.9350000023841858, 0.9309999942779541, 0.9269999861717224, 0.9229999780654907, 0.9200000166893005, 0.9160000085830688, 0.9120000004768372, 0.9079999923706055, 0.9039999842643738, 0.8999999761581421, 0.8970000147819519, 0.8930000066757202, 0.8889999985694885, 0.8849999904632568, 0.8809999823570251, 0.8769999742507935, 0.8740000128746033, 0.8700000047683716, 0.8659999966621399, 0.8619999885559082, 0.8579999804496765, 0.8550000190734863, 0.8510000109672546, 0.847000002861023, 0.8429999947547913, 0.8389999866485596, 0.8349999785423279, 0.8320000171661377, 0.828000009059906, 0.8240000009536743, 0.8199999928474426, 0.8159999847412109, 0.8130000233650208, 0.8090000152587891, 0.8050000071525574, 0.8009999990463257, 0.7979999780654907, 0.7940000295639038, 0.7900000214576721, 0.7860000133514404, 0.7820000052452087, 0.7789999842643738, 0.7749999761581421, 0.7710000276565552, 0.7670000195503235, 0.7639999985694885, 0.7599999904632568, 0.7559999823570251, 0.7519999742507935, 0.7490000128746033, 0.7450000047683716, 0.7409999966621399, 0.7369999885559082, 0.734000027179718, 0.7300000190734863, 0.7260000109672546, 0.7229999899864197, 0.718999981880188, 0.7149999737739563, 0.7120000123977661, 0.7080000042915344, 0.7049999833106995, 0.7009999752044678, 0.6970000267028809, 0.6940000057220459, 0.6899999976158142, 0.6869999766349792, 0.6830000281333923, 0.6800000071525574, 0.6759999990463257, 0.6729999780654907, 0.6690000295639038, 0.6660000085830688, 0.6620000004768372, 0.6589999794960022, 0.656000018119812, 0.6520000100135803, 0.6489999890327454, 0.6460000276565552, 0.6420000195503235, 0.6389999985694885, 0.6359999775886536, 0.6330000162124634], [1.0, 0.9959999918937683, 0.9919999837875366, 0.9879999756813049, 0.9850000143051147, 0.9810000061988831, 0.9769999980926514, 0.9729999899864197, 0.968999981880188, 0.9649999737739563, 0.9620000123977661, 0.9580000042915344, 0.9539999961853027, 0.949999988079071, 0.9459999799728394, 0.9419999718666077, 0.9390000104904175, 0.9350000023841858, 0.9309999942779541, 0.9269999861717224, 0.9229999780654907, 0.9190000295639038, 0.9160000085830688, 0.9120000004768372, 0.9079999923706055, 0.9039999842643738, 0.8999999761581421, 0.8960000276565552, 0.8930000066757202, 0.8889999985694885, 0.8849999904632568, 0.8809999823570251, 0.8769999742507935, 0.8730000257492065, 0.8700000047683716, 0.8659999966621399, 0.8619999885559082, 0.8579999804496765, 0.8539999723434448, 0.8500000238418579, 0.847000002861023, 0.8429999947547913, 0.8389999866485596, 0.8349999785423279, 0.8309999704360962, 0.8270000219345093, 0.8240000009536743, 0.8199999928474426, 0.8159999847412109, 0.8119999766349792, 0.8080000281333923, 0.8050000071525574, 0.8009999990463257, 0.796999990940094, 0.7929999828338623, 0.7889999747276306, 0.7850000262260437, 0.7820000052452087, 0.777999997138977, 0.7739999890327454, 0.7699999809265137, 0.765999972820282, 0.7630000114440918, 0.7590000033378601, 0.7549999952316284, 0.7509999871253967, 0.7480000257492065, 0.7440000176429749, 0.7400000095367432, 0.7360000014305115, 0.7319999933242798, 0.7289999723434448, 0.7250000238418579, 0.7210000157356262, 0.7170000076293945, 0.7139999866485596, 0.7099999785423279, 0.7059999704360962, 0.703000009059906, 0.6990000009536743, 0.6949999928474426, 0.6909999847412109, 0.6880000233650208, 0.6840000152587891, 0.6809999942779541, 0.6769999861717224, 0.6729999780654907, 0.6700000166893005, 0.6660000085830688, 0.6629999876022339, 0.6589999794960022, 0.6549999713897705, 0.6520000100135803, 0.6480000019073486, 0.6449999809265137, 0.640999972820282, 0.6380000114440918, 0.6340000033378601, 0.6309999823570251, 0.628000020980835], [1.0, 0.9959999918937683, 0.9919999837875366, 0.9879999756813049, 0.9850000143051147, 0.9810000061988831, 0.9769999980926514, 0.9729999899864197, 0.968999981880188, 0.9649999737739563, 0.9620000123977661, 0.9580000042915344, 0.9539999961853027, 0.949999988079071, 0.9459999799728394, 0.9419999718666077, 0.9390000104904175, 0.9350000023841858, 0.9309999942779541, 0.9269999861717224, 0.9229999780654907, 0.9190000295639038, 0.9150000214576721, 0.9120000004768372, 0.9079999923706055, 0.9039999842643738, 0.8999999761581421, 0.8960000276565552, 0.8920000195503235, 0.8889999985694885, 0.8849999904632568, 0.8809999823570251, 0.8769999742507935, 0.8730000257492065, 0.8690000176429749, 0.8659999966621399, 0.8619999885559082, 0.8579999804496765, 0.8539999723434448, 0.8500000238418579, 0.8460000157356262, 0.8420000076293945, 0.8389999866485596, 0.8349999785423279, 0.8309999704360962, 0.8270000219345093, 0.8230000138282776, 0.8190000057220459, 0.8159999847412109, 0.8119999766349792, 0.8080000281333923, 0.8040000200271606, 0.800000011920929, 0.7960000038146973, 0.7919999957084656, 0.7889999747276306, 0.7850000262260437, 0.781000018119812, 0.7770000100135803, 0.7730000019073486, 0.7689999938011169, 0.765999972820282, 0.7620000243186951, 0.7580000162124634, 0.7540000081062317, 0.75, 0.7459999918937683, 0.7429999709129333, 0.7390000224113464, 0.7350000143051147, 0.7310000061988831, 0.7269999980926514, 0.7229999899864197, 0.7200000286102295, 0.7160000205039978, 0.7120000123977661, 0.7080000042915344, 0.7039999961853027, 0.7009999752044678, 0.6970000267028809, 0.6930000185966492, 0.6890000104904175, 0.6850000023841858, 0.6819999814033508, 0.6779999732971191, 0.6740000247955322, 0.6700000166893005, 0.6669999957084656, 0.6629999876022339, 0.6589999794960022, 0.656000018119812, 0.6520000100135803, 0.6480000019073486, 0.6439999938011169, 0.640999972820282, 0.6370000243186951, 0.6330000162124634, 0.6299999952316284, 0.6259999871253967, 0.6230000257492065], [1.0, 0.9959999918937683, 0.9919999837875366, 0.9879999756813049, 0.9850000143051147, 0.9810000061988831, 0.9769999980926514, 0.9729999899864197, 0.968999981880188, 0.9649999737739563, 0.9620000123977661, 0.9580000042915344, 0.9539999961853027, 0.949999988079071, 0.9459999799728394, 0.9419999718666077, 0.9380000233650208, 0.9350000023841858, 0.9309999942779541, 0.9269999861717224, 0.9229999780654907, 0.9190000295639038, 0.9150000214576721, 0.9120000004768372, 0.9079999923706055, 0.9039999842643738, 0.8999999761581421, 0.8960000276565552, 0.8920000195503235, 0.8880000114440918, 0.8849999904632568, 0.8809999823570251, 0.8769999742507935, 0.8730000257492065, 0.8690000176429749, 0.8650000095367432, 0.8610000014305115, 0.8579999804496765, 0.8539999723434448, 0.8500000238418579, 0.8460000157356262, 0.8420000076293945, 0.8379999995231628, 0.8339999914169312, 0.8309999704360962, 0.8270000219345093, 0.8230000138282776, 0.8190000057220459, 0.8149999976158142, 0.8109999895095825, 0.8069999814033508, 0.8029999732971191, 0.800000011920929, 0.7960000038146973, 0.7919999957084656, 0.7879999876022339, 0.7839999794960022, 0.7799999713897705, 0.7760000228881836, 0.7720000147819519, 0.7689999938011169, 0.7649999856948853, 0.7609999775886536, 0.7570000290870667, 0.753000020980835, 0.7490000128746033, 0.7450000047683716, 0.7409999966621399, 0.7369999885559082, 0.734000027179718, 0.7300000190734863, 0.7260000109672546, 0.722000002861023, 0.7179999947547913, 0.7139999866485596, 0.7099999785423279, 0.7059999704360962, 0.7020000219345093, 0.6990000009536743, 0.6949999928474426, 0.6909999847412109, 0.6869999766349792, 0.6830000281333923, 0.6790000200271606, 0.675000011920929, 0.6710000038146973, 0.6669999957084656, 0.6639999747276306, 0.6600000262260437, 0.656000018119812, 0.6520000100135803, 0.6480000019073486, 0.6439999938011169, 0.6399999856948853, 0.6370000243186951, 0.6330000162124634, 0.6290000081062317, 0.625, 0.6209999918937683, 0.6179999709129333], [1.0, 0.9959999918937683, 0.9919999837875366, 0.9879999756813049, 0.9850000143051147, 0.9810000061988831, 0.9769999980926514, 0.9729999899864197, 0.968999981880188, 0.9649999737739563, 0.9610000252723694, 0.9580000042915344, 0.9539999961853027, 0.949999988079071, 0.9459999799728394, 0.9419999718666077, 0.9380000233650208, 0.9350000023841858, 0.9309999942779541, 0.9269999861717224, 0.9229999780654907, 0.9190000295639038, 0.9150000214576721, 0.9110000133514404, 0.9079999923706055, 0.9039999842643738, 0.8999999761581421, 0.8960000276565552, 0.8920000195503235, 0.8880000114440918, 0.8840000033378601, 0.8809999823570251, 0.8769999742507935, 0.8730000257492065, 0.8690000176429749, 0.8650000095367432, 0.8610000014305115, 0.8569999933242798, 0.8529999852180481, 0.8500000238418579, 0.8460000157356262, 0.8420000076293945, 0.8379999995231628, 0.8339999914169312, 0.8299999833106995, 0.8259999752044678, 0.8220000267028809, 0.8190000057220459, 0.8149999976158142, 0.8109999895095825, 0.8069999814033508, 0.8029999732971191, 0.7990000247955322, 0.7950000166893005, 0.7910000085830688, 0.7870000004768372, 0.7829999923706055, 0.7799999713897705, 0.7760000228881836, 0.7720000147819519, 0.7680000066757202, 0.7639999985694885, 0.7599999904632568, 0.7559999823570251, 0.7519999742507935, 0.7480000257492065, 0.7440000176429749, 0.7400000095367432, 0.7360000014305115, 0.7319999933242798, 0.7279999852180481, 0.7239999771118164, 0.7200000286102295, 0.7160000205039978, 0.7120000123977661, 0.7080000042915344, 0.7039999961853027, 0.7009999752044678, 0.6970000267028809, 0.6930000185966492, 0.6890000104904175, 0.6850000023841858, 0.6809999942779541, 0.6769999861717224, 0.6729999780654907, 0.6690000295639038, 0.6650000214576721, 0.6610000133514404, 0.6570000052452087, 0.652999997138977, 0.6489999890327454, 0.6449999809265137, 0.640999972820282, 0.6370000243186951, 0.6330000162124634, 0.6290000081062317, 0.625, 0.6209999918937683, 0.6169999837875366, 0.6129999756813049], [1.0, 0.9959999918937683, 0.9919999837875366, 0.9879999756813049, 0.9850000143051147, 0.9810000061988831, 0.9769999980926514, 0.9729999899864197, 0.968999981880188, 0.9649999737739563, 0.9610000252723694, 0.9580000042915344, 0.9539999961853027, 0.949999988079071, 0.9459999799728394, 0.9419999718666077, 0.9380000233650208, 0.9340000152587891, 0.9309999942779541, 0.9269999861717224, 0.9229999780654907, 0.9190000295639038, 0.9150000214576721, 0.9110000133514404, 0.9070000052452087, 0.9039999842643738, 0.8999999761581421, 0.8960000276565552, 0.8920000195503235, 0.8880000114440918, 0.8840000033378601, 0.8799999952316284, 0.8759999871253967, 0.8730000257492065, 0.8690000176429749, 0.8650000095367432, 0.8610000014305115, 0.8569999933242798, 0.8529999852180481, 0.8489999771118164, 0.8450000286102295, 0.8420000076293945, 0.8379999995231628, 0.8339999914169312, 0.8299999833106995, 0.8259999752044678, 0.8220000267028809, 0.8180000185966492, 0.8140000104904175, 0.8100000023841858, 0.8059999942779541, 0.8019999861717224, 0.7990000247955322, 0.7950000166893005, 0.7910000085830688, 0.7870000004768372, 0.7829999923706055, 0.7789999842643738, 0.7749999761581421, 0.7710000276565552, 0.7670000195503235, 0.7630000114440918, 0.7590000033378601, 0.7549999952316284, 0.7509999871253967, 0.746999979019165, 0.7429999709129333, 0.7390000224113464, 0.7350000143051147, 0.7310000061988831, 0.7269999980926514, 0.7229999899864197, 0.718999981880188, 0.7149999737739563, 0.7110000252723694, 0.7070000171661377, 0.703000009059906, 0.6990000009536743, 0.6949999928474426, 0.6899999976158142, 0.6859999895095825, 0.6819999814033508, 0.6779999732971191, 0.6740000247955322, 0.6700000166893005, 0.6660000085830688, 0.6620000004768372, 0.6570000052452087, 0.652999997138977, 0.6489999890327454, 0.6449999809265137, 0.640999972820282, 0.6370000243186951, 0.6330000162124634, 0.628000020980835, 0.6240000128746033, 0.6200000047683716, 0.6159999966621399, 0.6119999885559082, 0.6079999804496765], [1.0, 0.9959999918937683, 0.9919999837875366, 0.9879999756813049, 0.9850000143051147, 0.9810000061988831, 0.9769999980926514, 0.9729999899864197, 0.968999981880188, 0.9649999737739563, 0.9610000252723694, 0.9580000042915344, 0.9539999961853027, 0.949999988079071, 0.9459999799728394, 0.9419999718666077, 0.9380000233650208, 0.9340000152587891, 0.9309999942779541, 0.9269999861717224, 0.9229999780654907, 0.9190000295639038, 0.9150000214576721, 0.9110000133514404, 0.9070000052452087, 0.902999997138977, 0.8999999761581421, 0.8960000276565552, 0.8920000195503235, 0.8880000114440918, 0.8840000033378601, 0.8799999952316284, 0.8759999871253967, 0.871999979019165, 0.8679999709129333, 0.8650000095367432, 0.8610000014305115, 0.8569999933242798, 0.8529999852180481, 0.8489999771118164, 0.8450000286102295, 0.8410000205039978, 0.8370000123977661, 0.8330000042915344, 0.8289999961853027, 0.8259999752044678, 0.8220000267028809, 0.8180000185966492, 0.8140000104904175, 0.8100000023841858, 0.8059999942779541, 0.8019999861717224, 0.7979999780654907, 0.7940000295639038, 0.7900000214576721, 0.7860000133514404, 0.7820000052452087, 0.777999997138977, 0.7739999890327454, 0.7699999809265137, 0.765999972820282, 0.7620000243186951, 0.7580000162124634, 0.7540000081062317, 0.75, 0.7459999918937683, 0.7419999837875366, 0.7379999756813049, 0.734000027179718, 0.7300000190734863, 0.7260000109672546, 0.722000002861023, 0.7170000076293945, 0.7129999995231628, 0.7089999914169312, 0.7049999833106995, 0.7009999752044678, 0.6970000267028809, 0.6930000185966492, 0.6880000233650208, 0.6840000152587891, 0.6800000071525574, 0.6759999990463257, 0.6710000038146973, 0.6669999957084656, 0.6629999876022339, 0.6589999794960022, 0.6539999842643738, 0.6499999761581421, 0.6460000276565552, 0.6420000195503235, 0.6370000243186951, 0.6330000162124634, 0.6290000081062317, 0.6240000128746033, 0.6200000047683716, 0.6159999966621399, 0.6110000014305115, 0.6069999933242798, 0.6029999852180481], [1.0, 0.9959999918937683, 0.9919999837875366, 0.9879999756813049, 0.9850000143051147, 0.9810000061988831, 0.9769999980926514, 0.9729999899864197, 0.968999981880188, 0.9649999737739563, 0.9610000252723694, 0.9570000171661377, 0.9539999961853027, 0.949999988079071, 0.9459999799728394, 0.9419999718666077, 0.9380000233650208, 0.9340000152587891, 0.9300000071525574, 0.9269999861717224, 0.9229999780654907, 0.9190000295639038, 0.9150000214576721, 0.9110000133514404, 0.9070000052452087, 0.902999997138977, 0.8989999890327454, 0.8960000276565552, 0.8920000195503235, 0.8880000114440918, 0.8840000033378601, 0.8799999952316284, 0.8759999871253967, 0.871999979019165, 0.8679999709129333, 0.8640000224113464, 0.8600000143051147, 0.8569999933242798, 0.8529999852180481, 0.8489999771118164, 0.8450000286102295, 0.8410000205039978, 0.8370000123977661, 0.8330000042915344, 0.8289999961853027, 0.824999988079071, 0.8209999799728394, 0.8169999718666077, 0.8130000233650208, 0.8090000152587891, 0.8050000071525574, 0.8009999990463257, 0.796999990940094, 0.7929999828338623, 0.7889999747276306, 0.7850000262260437, 0.781000018119812, 0.7770000100135803, 0.7730000019073486, 0.7689999938011169, 0.7649999856948853, 0.7609999775886536, 0.7570000290870667, 0.753000020980835, 0.7490000128746033, 0.7450000047683716, 0.7409999966621399, 0.7369999885559082, 0.7329999804496765, 0.7279999852180481, 0.7239999771118164, 0.7200000286102295, 0.7160000205039978, 0.7120000123977661, 0.7080000042915344, 0.703000009059906, 0.6990000009536743, 0.6949999928474426, 0.6909999847412109, 0.6859999895095825, 0.6819999814033508, 0.6779999732971191, 0.6729999780654907, 0.6690000295639038, 0.6650000214576721, 0.6600000262260437, 0.656000018119812, 0.6510000228881836, 0.6470000147819519, 0.6430000066757202, 0.6380000114440918, 0.6340000033378601, 0.6290000081062317, 0.625, 0.6200000047683716, 0.6159999966621399, 0.6110000014305115, 0.6069999933242798, 0.6019999980926514, 0.5979999899864197], [1.0, 0.9959999918937683, 0.9919999837875366, 0.9879999756813049, 0.9850000143051147, 0.9810000061988831, 0.9769999980926514, 0.9729999899864197, 0.968999981880188, 0.9649999737739563, 0.9610000252723694, 0.9570000171661377, 0.9539999961853027, 0.949999988079071, 0.9459999799728394, 0.9419999718666077, 0.9380000233650208, 0.9340000152587891, 0.9300000071525574, 0.9259999990463257, 0.9229999780654907, 0.9190000295639038, 0.9150000214576721, 0.9110000133514404, 0.9070000052452087, 0.902999997138977, 0.8989999890327454, 0.8949999809265137, 0.890999972820282, 0.8880000114440918, 0.8840000033378601, 0.8799999952316284, 0.8759999871253967, 0.871999979019165, 0.8679999709129333, 0.8640000224113464, 0.8600000143051147, 0.8560000061988831, 0.8519999980926514, 0.8479999899864197, 0.8450000286102295, 0.8410000205039978, 0.8370000123977661, 0.8330000042915344, 0.8289999961853027, 0.824999988079071, 0.8209999799728394, 0.8169999718666077, 0.8130000233650208, 0.8090000152587891, 0.8050000071525574, 0.8009999990463257, 0.796999990940094, 0.7929999828338623, 0.7889999747276306, 0.7850000262260437, 0.781000018119812, 0.7770000100135803, 0.7730000019073486, 0.7689999938011169, 0.7649999856948853, 0.7599999904632568, 0.7559999823570251, 0.7519999742507935, 0.7480000257492065, 0.7440000176429749, 0.7400000095367432, 0.7360000014305115, 0.7310000061988831, 0.7269999980926514, 0.7229999899864197, 0.718999981880188, 0.7149999737739563, 0.7099999785423279, 0.7059999704360962, 0.7020000219345093, 0.6970000267028809, 0.6930000185966492, 0.6890000104904175, 0.6840000152587891, 0.6800000071525574, 0.675000011920929, 0.6710000038146973, 0.6660000085830688, 0.6620000004768372, 0.6570000052452087, 0.652999997138977, 0.6480000019073486, 0.6439999938011169, 0.6389999985694885, 0.6349999904632568, 0.6299999952316284, 0.625, 0.6209999918937683, 0.6159999966621399, 0.6110000014305115, 0.6069999933242798, 0.6019999980926514, 0.597000002861023, 0.5929999947547913], [1.0, 0.9959999918937683, 0.9919999837875366, 0.9879999756813049, 0.9850000143051147, 0.9810000061988831, 0.9769999980926514, 0.9729999899864197, 0.968999981880188, 0.9649999737739563, 0.9610000252723694, 0.9570000171661377, 0.9539999961853027, 0.949999988079071, 0.9459999799728394, 0.9419999718666077, 0.9380000233650208, 0.9340000152587891, 0.9300000071525574, 0.9259999990463257, 0.921999990940094, 0.9190000295639038, 0.9150000214576721, 0.9110000133514404, 0.9070000052452087, 0.902999997138977, 0.8989999890327454, 0.8949999809265137, 0.890999972820282, 0.8870000243186951, 0.8840000033378601, 0.8799999952316284, 0.8759999871253967, 0.871999979019165, 0.8679999709129333, 0.8640000224113464, 0.8600000143051147, 0.8560000061988831, 0.8519999980926514, 0.8479999899864197, 0.843999981880188, 0.8399999737739563, 0.8360000252723694, 0.8320000171661377, 0.828000009059906, 0.8240000009536743, 0.8199999928474426, 0.8159999847412109, 0.8119999766349792, 0.8080000281333923, 0.8040000200271606, 0.800000011920929, 0.7960000038146973, 0.7919999957084656, 0.7879999876022339, 0.7839999794960022, 0.7799999713897705, 0.7760000228881836, 0.7720000147819519, 0.7680000066757202, 0.7639999985694885, 0.7599999904632568, 0.7549999952316284, 0.7509999871253967, 0.746999979019165, 0.7429999709129333, 0.7390000224113464, 0.7350000143051147, 0.7300000190734863, 0.7260000109672546, 0.722000002861023, 0.7170000076293945, 0.7129999995231628, 0.7089999914169312, 0.7039999961853027, 0.699999988079071, 0.6959999799728394, 0.6909999847412109, 0.6869999766349792, 0.6819999814033508, 0.6779999732971191, 0.6729999780654907, 0.6690000295639038, 0.6639999747276306, 0.6589999794960022, 0.6549999713897705, 0.6499999761581421, 0.6449999809265137, 0.640999972820282, 0.6359999775886536, 0.6309999823570251, 0.6259999871253967, 0.621999979019165, 0.6169999837875366, 0.6119999885559082, 0.6069999933242798, 0.6019999980926514, 0.597000002861023, 0.5920000076293945, 0.5879999995231628], [1.0, 0.9959999918937683, 0.9919999837875366, 0.9879999756813049, 0.984000027179718, 0.9810000061988831, 0.9769999980926514, 0.9729999899864197, 0.968999981880188, 0.9649999737739563, 0.9610000252723694, 0.9570000171661377, 0.953000009059906, 0.949999988079071, 0.9459999799728394, 0.9419999718666077, 0.9380000233650208, 0.9340000152587891, 0.9300000071525574, 0.9259999990463257, 0.921999990940094, 0.9190000295639038, 0.9150000214576721, 0.9110000133514404, 0.9070000052452087, 0.902999997138977, 0.8989999890327454, 0.8949999809265137, 0.890999972820282, 0.8870000243186951, 0.8830000162124634, 0.8790000081062317, 0.8759999871253967, 0.871999979019165, 0.8679999709129333, 0.8640000224113464, 0.8600000143051147, 0.8560000061988831, 0.8519999980926514, 0.8479999899864197, 0.843999981880188, 0.8399999737739563, 0.8360000252723694, 0.8320000171661377, 0.828000009059906, 0.8240000009536743, 0.8199999928474426, 0.8159999847412109, 0.8119999766349792, 0.8080000281333923, 0.8040000200271606, 0.800000011920929, 0.7960000038146973, 0.7919999957084656, 0.7879999876022339, 0.7839999794960022, 0.7799999713897705, 0.7749999761581421, 0.7710000276565552, 0.7670000195503235, 0.7630000114440918, 0.7590000033378601, 0.7549999952316284, 0.75, 0.7459999918937683, 0.7419999837875366, 0.7379999756813049, 0.7329999804496765, 0.7289999723434448, 0.7250000238418579, 0.7200000286102295, 0.7160000205039978, 0.7120000123977661, 0.7070000171661377, 0.703000009059906, 0.6980000138282776, 0.6940000057220459, 0.6890000104904175, 0.6850000023841858, 0.6800000071525574, 0.6759999990463257, 0.6710000038146973, 0.6660000085830688, 0.6620000004768372, 0.6570000052452087, 0.6520000100135803, 0.6470000147819519, 0.6420000195503235, 0.6380000114440918, 0.6330000162124634, 0.628000020980835, 0.6230000257492065, 0.6179999709129333, 0.6129999756813049, 0.6079999804496765, 0.6029999852180481, 0.5979999899864197, 0.5929999947547913, 0.5879999995231628, 0.5830000042915344], [1.0, 0.9959999918937683, 0.9919999837875366, 0.9879999756813049, 0.984000027179718, 0.9810000061988831, 0.9769999980926514, 0.9729999899864197, 0.968999981880188, 0.9649999737739563, 0.9610000252723694, 0.9570000171661377, 0.953000009059906, 0.949999988079071, 0.9459999799728394, 0.9419999718666077, 0.9380000233650208, 0.9340000152587891, 0.9300000071525574, 0.9259999990463257, 0.921999990940094, 0.9179999828338623, 0.9150000214576721, 0.9110000133514404, 0.9070000052452087, 0.902999997138977, 0.8989999890327454, 0.8949999809265137, 0.890999972820282, 0.8870000243186951, 0.8830000162124634, 0.8790000081062317, 0.875, 0.8709999918937683, 0.8669999837875366, 0.8640000224113464, 0.8600000143051147, 0.8560000061988831, 0.8519999980926514, 0.8479999899864197, 0.843999981880188, 0.8399999737739563, 0.8360000252723694, 0.8320000171661377, 0.828000009059906, 0.8240000009536743, 0.8199999928474426, 0.8159999847412109, 0.8119999766349792, 0.8080000281333923, 0.8040000200271606, 0.7990000247955322, 0.7950000166893005, 0.7910000085830688, 0.7870000004768372, 0.7829999923706055, 0.7789999842643738, 0.7749999761581421, 0.7710000276565552, 0.765999972820282, 0.7620000243186951, 0.7580000162124634, 0.7540000081062317, 0.75, 0.7450000047683716, 0.7409999966621399, 0.7369999885559082, 0.7319999933242798, 0.7279999852180481, 0.7239999771118164, 0.718999981880188, 0.7149999737739563, 0.7099999785423279, 0.7059999704360962, 0.7009999752044678, 0.6970000267028809, 0.6919999718666077, 0.6880000233650208, 0.6830000281333923, 0.6779999732971191, 0.6740000247955322, 0.6690000295639038, 0.6639999747276306, 0.6589999794960022, 0.6539999842643738, 0.6489999890327454, 0.6449999809265137, 0.6399999856948853, 0.6349999904632568, 0.6290000081062317, 0.6240000128746033, 0.6190000176429749, 0.6140000224113464, 0.609000027179718, 0.6039999723434448, 0.5989999771118164, 0.5929999947547913, 0.5879999995231628, 0.5830000042915344, 0.578000009059906], [1.0, 0.9959999918937683, 0.9919999837875366, 0.9879999756813049, 0.984000027179718, 0.9810000061988831, 0.9769999980926514, 0.9729999899864197, 0.968999981880188, 0.9649999737739563, 0.9610000252723694, 0.9570000171661377, 0.953000009059906, 0.949999988079071, 0.9459999799728394, 0.9419999718666077, 0.9380000233650208, 0.9340000152587891, 0.9300000071525574, 0.9259999990463257, 0.921999990940094, 0.9179999828338623, 0.9139999747276306, 0.9110000133514404, 0.9070000052452087, 0.902999997138977, 0.8989999890327454, 0.8949999809265137, 0.890999972820282, 0.8870000243186951, 0.8830000162124634, 0.8790000081062317, 0.875, 0.8709999918937683, 0.8669999837875366, 0.8629999756813049, 0.859000027179718, 0.8550000190734863, 0.8510000109672546, 0.847000002861023, 0.8429999947547913, 0.8389999866485596, 0.8349999785423279, 0.8309999704360962, 0.8270000219345093, 0.8230000138282776, 0.8190000057220459, 0.8149999976158142, 0.8109999895095825, 0.8069999814033508, 0.8029999732971191, 0.7990000247955322, 0.7950000166893005, 0.7910000085830688, 0.7870000004768372, 0.7829999923706055, 0.777999997138977, 0.7739999890327454, 0.7699999809265137, 0.765999972820282, 0.7620000243186951, 0.7570000290870667, 0.753000020980835, 0.7490000128746033, 0.7440000176429749, 0.7400000095367432, 0.7360000014305115, 0.7310000061988831, 0.7269999980926514, 0.7229999899864197, 0.7179999947547913, 0.7139999866485596, 0.7089999914169312, 0.7049999833106995, 0.699999988079071, 0.6949999928474426, 0.6909999847412109, 0.6859999895095825, 0.6809999942779541, 0.6759999990463257, 0.671999990940094, 0.6669999957084656, 0.6620000004768372, 0.6570000052452087, 0.6520000100135803, 0.6470000147819519, 0.6420000195503235, 0.6370000243186951, 0.6320000290870667, 0.6259999871253967, 0.6209999918937683, 0.6159999966621399, 0.6100000143051147, 0.6050000190734863, 0.6000000238418579, 0.593999981880188, 0.5889999866485596, 0.5830000042915344, 0.578000009059906, 0.5730000138282776], [1.0, 0.9959999918937683, 0.9919999837875366, 0.9879999756813049, 0.984000027179718, 0.9810000061988831, 0.9769999980926514, 0.9729999899864197, 0.968999981880188, 0.9649999737739563, 0.9610000252723694, 0.9570000171661377, 0.953000009059906, 0.9490000009536743, 0.9459999799728394, 0.9419999718666077, 0.9380000233650208, 0.9340000152587891, 0.9300000071525574, 0.9259999990463257, 0.921999990940094, 0.9179999828338623, 0.9139999747276306, 0.9100000262260437, 0.9070000052452087, 0.902999997138977, 0.8989999890327454, 0.8949999809265137, 0.890999972820282, 0.8870000243186951, 0.8830000162124634, 0.8790000081062317, 0.875, 0.8709999918937683, 0.8669999837875366, 0.8629999756813049, 0.859000027179718, 0.8550000190734863, 0.8510000109672546, 0.847000002861023, 0.8429999947547913, 0.8389999866485596, 0.8349999785423279, 0.8309999704360962, 0.8270000219345093, 0.8230000138282776, 0.8190000057220459, 0.8149999976158142, 0.8109999895095825, 0.8069999814033508, 0.8029999732971191, 0.7990000247955322, 0.7940000295639038, 0.7900000214576721, 0.7860000133514404, 0.7820000052452087, 0.777999997138977, 0.7739999890327454, 0.7689999938011169, 0.7649999856948853, 0.7609999775886536, 0.7570000290870667, 0.7519999742507935, 0.7480000257492065, 0.7440000176429749, 0.7390000224113464, 0.7350000143051147, 0.7300000190734863, 0.7260000109672546, 0.7210000157356262, 0.7170000076293945, 0.7120000123977661, 0.7080000042915344, 0.703000009059906, 0.6990000009536743, 0.6940000057220459, 0.6890000104904175, 0.6840000152587891, 0.6800000071525574, 0.675000011920929, 0.6700000166893005, 0.6650000214576721, 0.6600000262260437, 0.6549999713897705, 0.6499999761581421, 0.6439999938011169, 0.6389999985694885, 0.6340000033378601, 0.6290000081062317, 0.6230000257492065, 0.6179999709129333, 0.6119999885559082, 0.6069999933242798, 0.6010000109672546, 0.5960000157356262, 0.5899999737739563, 0.5849999785423279, 0.5789999961853027, 0.5730000138282776, 0.5680000185966492], [1.0, 0.9959999918937683, 0.9919999837875366, 0.9879999756813049, 0.984000027179718, 0.9810000061988831, 0.9769999980926514, 0.9729999899864197, 0.968999981880188, 0.9649999737739563, 0.9610000252723694, 0.9570000171661377, 0.953000009059906, 0.9490000009536743, 0.9459999799728394, 0.9419999718666077, 0.9380000233650208, 0.9340000152587891, 0.9300000071525574, 0.9259999990463257, 0.921999990940094, 0.9179999828338623, 0.9139999747276306, 0.9100000262260437, 0.906000018119812, 0.9020000100135803, 0.8989999890327454, 0.8949999809265137, 0.890999972820282, 0.8870000243186951, 0.8830000162124634, 0.8790000081062317, 0.875, 0.8709999918937683, 0.8669999837875366, 0.8629999756813049, 0.859000027179718, 0.8550000190734863, 0.8510000109672546, 0.847000002861023, 0.8429999947547913, 0.8389999866485596, 0.8349999785423279, 0.8309999704360962, 0.8270000219345093, 0.8230000138282776, 0.8190000057220459, 0.8149999976158142, 0.8109999895095825, 0.8059999942779541, 0.8019999861717224, 0.7979999780654907, 0.7940000295639038, 0.7900000214576721, 0.7860000133514404, 0.7820000052452087, 0.7770000100135803, 0.7730000019073486, 0.7689999938011169, 0.7649999856948853, 0.7599999904632568, 0.7559999823570251, 0.7519999742507935, 0.746999979019165, 0.7429999709129333, 0.7379999756813049, 0.734000027179718, 0.7300000190734863, 0.7250000238418579, 0.7200000286102295, 0.7160000205039978, 0.7110000252723694, 0.7070000171661377, 0.7020000219345093, 0.6970000267028809, 0.6919999718666077, 0.6880000233650208, 0.6830000281333923, 0.6779999732971191, 0.6729999780654907, 0.6679999828338623, 0.6629999876022339, 0.6579999923706055, 0.652999997138977, 0.6470000147819519, 0.6420000195503235, 0.6370000243186951, 0.6309999823570251, 0.6259999871253967, 0.6200000047683716, 0.6150000095367432, 0.609000027179718, 0.6029999852180481, 0.5979999899864197, 0.5920000076293945, 0.5860000252723694, 0.5799999833106995, 0.5740000009536743, 0.5680000185966492, 0.5630000233650208], [1.0, 0.9959999918937683, 0.9919999837875366, 0.9879999756813049, 0.984000027179718, 0.9810000061988831, 0.9769999980926514, 0.9729999899864197, 0.968999981880188, 0.9649999737739563, 0.9610000252723694, 0.9570000171661377, 0.953000009059906, 0.9490000009536743, 0.9449999928474426, 0.9419999718666077, 0.9380000233650208, 0.9340000152587891, 0.9300000071525574, 0.9259999990463257, 0.921999990940094, 0.9179999828338623, 0.9139999747276306, 0.9100000262260437, 0.906000018119812, 0.9020000100135803, 0.8980000019073486, 0.8949999809265137, 0.890999972820282, 0.8870000243186951, 0.8830000162124634, 0.8790000081062317, 0.875, 0.8709999918937683, 0.8669999837875366, 0.8629999756813049, 0.859000027179718, 0.8550000190734863, 0.8510000109672546, 0.847000002861023, 0.8429999947547913, 0.8389999866485596, 0.8349999785423279, 0.8309999704360962, 0.8270000219345093, 0.8230000138282776, 0.8180000185966492, 0.8140000104904175, 0.8100000023841858, 0.8059999942779541, 0.8019999861717224, 0.7979999780654907, 0.7940000295639038, 0.7889999747276306, 0.7850000262260437, 0.781000018119812, 0.7770000100135803, 0.7730000019073486, 0.7680000066757202, 0.7639999985694885, 0.7599999904632568, 0.7549999952316284, 0.7509999871253967, 0.746999979019165, 0.7419999837875366, 0.7379999756813049, 0.7329999804496765, 0.7289999723434448, 0.7239999771118164, 0.7200000286102295, 0.7149999737739563, 0.7099999785423279, 0.7059999704360962, 0.7009999752044678, 0.6959999799728394, 0.6909999847412109, 0.6859999895095825, 0.6809999942779541, 0.6759999990463257, 0.6710000038146973, 0.6660000085830688, 0.6610000133514404, 0.656000018119812, 0.6499999761581421, 0.6449999809265137, 0.6399999856948853, 0.6340000033378601, 0.6290000081062317, 0.6230000257492065, 0.6169999837875366, 0.6119999885559082, 0.6060000061988831, 0.6000000238418579, 0.593999981880188, 0.5879999995231628, 0.5820000171661377, 0.5759999752044678, 0.5699999928474426, 0.5640000104904175, 0.5580000281333923], [1.0, 0.9959999918937683, 0.9919999837875366, 0.9879999756813049, 0.984000027179718, 0.9810000061988831, 0.9769999980926514, 0.9729999899864197, 0.968999981880188, 0.9649999737739563, 0.9610000252723694, 0.9570000171661377, 0.953000009059906, 0.9490000009536743, 0.9449999928474426, 0.9419999718666077, 0.9380000233650208, 0.9340000152587891, 0.9300000071525574, 0.9259999990463257, 0.921999990940094, 0.9179999828338623, 0.9139999747276306, 0.9100000262260437, 0.906000018119812, 0.9020000100135803, 0.8980000019073486, 0.8939999938011169, 0.8899999856948853, 0.8870000243186951, 0.8830000162124634, 0.8790000081062317, 0.875, 0.8709999918937683, 0.8669999837875366, 0.8629999756813049, 0.859000027179718, 0.8550000190734863, 0.8510000109672546, 0.847000002861023, 0.8429999947547913, 0.8389999866485596, 0.8349999785423279, 0.8299999833106995, 0.8259999752044678, 0.8220000267028809, 0.8180000185966492, 0.8140000104904175, 0.8100000023841858, 0.8059999942779541, 0.8019999861717224, 0.796999990940094, 0.7929999828338623, 0.7889999747276306, 0.7850000262260437, 0.781000018119812, 0.7760000228881836, 0.7720000147819519, 0.7680000066757202, 0.7630000114440918, 0.7590000033378601, 0.7549999952316284, 0.75, 0.7459999918937683, 0.7409999966621399, 0.7369999885559082, 0.7319999933242798, 0.7279999852180481, 0.7229999899864197, 0.718999981880188, 0.7139999866485596, 0.7089999914169312, 0.7039999961853027, 0.699999988079071, 0.6949999928474426, 0.6899999976158142, 0.6850000023841858, 0.6800000071525574, 0.675000011920929, 0.6700000166893005, 0.6650000214576721, 0.6589999794960022, 0.6539999842643738, 0.6489999890327454, 0.6430000066757202, 0.6380000114440918, 0.6320000290870667, 0.6259999871253967, 0.6200000047683716, 0.6150000095367432, 0.609000027179718, 0.6029999852180481, 0.597000002861023, 0.5899999737739563, 0.5839999914169312, 0.578000009059906, 0.5720000267028809, 0.5649999976158142, 0.5590000152587891, 0.5529999732971191], [1.0, 0.9959999918937683, 0.9919999837875366, 0.9879999756813049, 0.984000027179718, 0.9810000061988831, 0.9769999980926514, 0.9729999899864197, 0.968999981880188, 0.9649999737739563, 0.9610000252723694, 0.9570000171661377, 0.953000009059906, 0.9490000009536743, 0.9449999928474426, 0.9409999847412109, 0.9380000233650208, 0.9340000152587891, 0.9300000071525574, 0.9259999990463257, 0.921999990940094, 0.9179999828338623, 0.9139999747276306, 0.9100000262260437, 0.906000018119812, 0.9020000100135803, 0.8980000019073486, 0.8939999938011169, 0.8899999856948853, 0.8859999775886536, 0.8820000290870667, 0.878000020980835, 0.875, 0.8709999918937683, 0.8669999837875366, 0.8629999756813049, 0.859000027179718, 0.8550000190734863, 0.8500000238418579, 0.8460000157356262, 0.8420000076293945, 0.8379999995231628, 0.8339999914169312, 0.8299999833106995, 0.8259999752044678, 0.8220000267028809, 0.8180000185966492, 0.8140000104904175, 0.8100000023841858, 0.8059999942779541, 0.8009999990463257, 0.796999990940094, 0.7929999828338623, 0.7889999747276306, 0.7850000262260437, 0.7799999713897705, 0.7760000228881836, 0.7720000147819519, 0.7670000195503235, 0.7630000114440918, 0.7590000033378601, 0.7540000081062317, 0.75, 0.7450000047683716, 0.7409999966621399, 0.7360000014305115, 0.7319999933242798, 0.7269999980926514, 0.722000002861023, 0.7179999947547913, 0.7129999995231628, 0.7080000042915344, 0.7039999961853027, 0.6990000009536743, 0.6940000057220459, 0.6890000104904175, 0.6840000152587891, 0.6790000200271606, 0.6729999780654907, 0.6679999828338623, 0.6629999876022339, 0.6579999923706055, 0.6520000100135803, 0.6470000147819519, 0.640999972820282, 0.6349999904632568, 0.6299999952316284, 0.6240000128746033, 0.6179999709129333, 0.6119999885559082, 0.6060000061988831, 0.6000000238418579, 0.5929999947547913, 0.5870000123977661, 0.5799999833106995, 0.5740000009536743, 0.5669999718666077, 0.5609999895095825, 0.5540000200271606, 0.5479999780654907], [1.0, 0.9959999918937683, 0.9919999837875366, 0.9879999756813049, 0.984000027179718, 0.9800000190734863, 0.9769999980926514, 0.9729999899864197, 0.968999981880188, 0.9649999737739563, 0.9610000252723694, 0.9570000171661377, 0.953000009059906, 0.9490000009536743, 0.9449999928474426, 0.9409999847412109, 0.9380000233650208, 0.9340000152587891, 0.9300000071525574, 0.9259999990463257, 0.921999990940094, 0.9179999828338623, 0.9139999747276306, 0.9100000262260437, 0.906000018119812, 0.9020000100135803, 0.8980000019073486, 0.8939999938011169, 0.8899999856948853, 0.8859999775886536, 0.8820000290870667, 0.878000020980835, 0.8740000128746033, 0.8700000047683716, 0.8659999966621399, 0.8619999885559082, 0.8579999804496765, 0.8539999723434448, 0.8500000238418579, 0.8460000157356262, 0.8420000076293945, 0.8379999995231628, 0.8339999914169312, 0.8299999833106995, 0.8259999752044678, 0.8220000267028809, 0.8180000185966492, 0.8140000104904175, 0.8090000152587891, 0.8050000071525574, 0.8009999990463257, 0.796999990940094, 0.7929999828338623, 0.7879999876022339, 0.7839999794960022, 0.7799999713897705, 0.7760000228881836, 0.7710000276565552, 0.7670000195503235, 0.7630000114440918, 0.7580000162124634, 0.7540000081062317, 0.7490000128746033, 0.7450000047683716, 0.7400000095367432, 0.7360000014305115, 0.7310000061988831, 0.7260000109672546, 0.722000002861023, 0.7170000076293945, 0.7120000123977661, 0.7070000171661377, 0.703000009059906, 0.6980000138282776, 0.6930000185966492, 0.6880000233650208, 0.6830000281333923, 0.6769999861717224, 0.671999990940094, 0.6669999957084656, 0.6620000004768372, 0.656000018119812, 0.6510000228881836, 0.6449999809265137, 0.6389999985694885, 0.6330000162124634, 0.628000020980835, 0.621999979019165, 0.6159999966621399, 0.609000027179718, 0.6029999852180481, 0.597000002861023, 0.5899999737739563, 0.5839999914169312, 0.5770000219345093, 0.5699999928474426, 0.5630000233650208, 0.5559999942779541, 0.5490000247955322, 0.5429999828338623], [1.0, 0.9959999918937683, 0.9919999837875366, 0.9879999756813049, 0.984000027179718, 0.9800000190734863, 0.9769999980926514, 0.9729999899864197, 0.968999981880188, 0.9649999737739563, 0.9610000252723694, 0.9570000171661377, 0.953000009059906, 0.9490000009536743, 0.9449999928474426, 0.9409999847412109, 0.9369999766349792, 0.9340000152587891, 0.9300000071525574, 0.9259999990463257, 0.921999990940094, 0.9179999828338623, 0.9139999747276306, 0.9100000262260437, 0.906000018119812, 0.9020000100135803, 0.8980000019073486, 0.8939999938011169, 0.8899999856948853, 0.8859999775886536, 0.8820000290870667, 0.878000020980835, 0.8740000128746033, 0.8700000047683716, 0.8659999966621399, 0.8619999885559082, 0.8579999804496765, 0.8539999723434448, 0.8500000238418579, 0.8460000157356262, 0.8420000076293945, 0.8379999995231628, 0.8339999914169312, 0.8299999833106995, 0.8259999752044678, 0.8220000267028809, 0.8180000185966492, 0.8130000233650208, 0.8090000152587891, 0.8050000071525574, 0.8009999990463257, 0.796999990940094, 0.7919999957084656, 0.7879999876022339, 0.7839999794960022, 0.7799999713897705, 0.7749999761581421, 0.7710000276565552, 0.7670000195503235, 0.7620000243186951, 0.7580000162124634, 0.753000020980835, 0.7490000128746033, 0.7440000176429749, 0.7400000095367432, 0.7350000143051147, 0.7310000061988831, 0.7260000109672546, 0.7210000157356262, 0.7160000205039978, 0.7120000123977661, 0.7070000171661377, 0.7020000219345093, 0.6970000267028809, 0.6919999718666077, 0.6869999766349792, 0.6819999814033508, 0.6759999990463257, 0.6710000038146973, 0.6660000085830688, 0.6600000262260437, 0.6549999713897705, 0.6489999890327454, 0.6430000066757202, 0.6380000114440918, 0.6320000290870667, 0.6259999871253967, 0.6200000047683716, 0.6129999756813049, 0.6069999933242798, 0.6010000109672546, 0.593999981880188, 0.5870000123977661, 0.5799999833106995, 0.5730000138282776, 0.5659999847412109, 0.5590000152587891, 0.5519999861717224, 0.5450000166893005, 0.5379999876022339], [1.0, 0.9959999918937683, 0.9919999837875366, 0.9879999756813049, 0.984000027179718, 0.9800000190734863, 0.9769999980926514, 0.9729999899864197, 0.968999981880188, 0.9649999737739563, 0.9610000252723694, 0.9570000171661377, 0.953000009059906, 0.9490000009536743, 0.9449999928474426, 0.9409999847412109, 0.9369999766349792, 0.9340000152587891, 0.9300000071525574, 0.9259999990463257, 0.921999990940094, 0.9179999828338623, 0.9139999747276306, 0.9100000262260437, 0.906000018119812, 0.9020000100135803, 0.8980000019073486, 0.8939999938011169, 0.8899999856948853, 0.8859999775886536, 0.8820000290870667, 0.878000020980835, 0.8740000128746033, 0.8700000047683716, 0.8659999966621399, 0.8619999885559082, 0.8579999804496765, 0.8539999723434448, 0.8500000238418579, 0.8460000157356262, 0.8420000076293945, 0.8379999995231628, 0.8339999914169312, 0.8299999833106995, 0.8259999752044678, 0.8209999799728394, 0.8169999718666077, 0.8130000233650208, 0.8090000152587891, 0.8050000071525574, 0.8009999990463257, 0.7960000038146973, 0.7919999957084656, 0.7879999876022339, 0.7839999794960022, 0.7789999842643738, 0.7749999761581421, 0.7710000276565552, 0.765999972820282, 0.7620000243186951, 0.7570000290870667, 0.753000020980835, 0.7480000257492065, 0.7440000176429749, 0.7390000224113464, 0.7350000143051147, 0.7300000190734863, 0.7250000238418579, 0.7210000157356262, 0.7160000205039978, 0.7110000252723694, 0.7059999704360962, 0.7009999752044678, 0.6959999799728394, 0.6909999847412109, 0.6859999895095825, 0.6809999942779541, 0.675000011920929, 0.6700000166893005, 0.6650000214576721, 0.6589999794960022, 0.652999997138977, 0.6480000019073486, 0.6420000195503235, 0.6359999775886536, 0.6299999952316284, 0.6240000128746033, 0.6179999709129333, 0.6110000014305115, 0.6050000190734863, 0.5979999899864197, 0.5910000205039978, 0.5839999914169312, 0.5770000219345093, 0.5699999928474426, 0.5630000233650208, 0.5550000071525574, 0.5479999780654907, 0.5400000214576721, 0.5329999923706055], [1.0, 0.9959999918937683, 0.9919999837875366, 0.9879999756813049, 0.984000027179718, 0.9800000190734863, 0.9769999980926514, 0.9729999899864197, 0.968999981880188, 0.9649999737739563, 0.9610000252723694, 0.9570000171661377, 0.953000009059906, 0.9490000009536743, 0.9449999928474426, 0.9409999847412109, 0.9369999766349792, 0.9340000152587891, 0.9300000071525574, 0.9259999990463257, 0.921999990940094, 0.9179999828338623, 0.9139999747276306, 0.9100000262260437, 0.906000018119812, 0.9020000100135803, 0.8980000019073486, 0.8939999938011169, 0.8899999856948853, 0.8859999775886536, 0.8820000290870667, 0.878000020980835, 0.8740000128746033, 0.8700000047683716, 0.8659999966621399, 0.8619999885559082, 0.8579999804496765, 0.8539999723434448, 0.8500000238418579, 0.8460000157356262, 0.8420000076293945, 0.8379999995231628, 0.8339999914169312, 0.8299999833106995, 0.824999988079071, 0.8209999799728394, 0.8169999718666077, 0.8130000233650208, 0.8090000152587891, 0.8050000071525574, 0.800000011920929, 0.7960000038146973, 0.7919999957084656, 0.7879999876022339, 0.7829999923706055, 0.7789999842643738, 0.7749999761581421, 0.7699999809265137, 0.765999972820282, 0.7609999775886536, 0.7570000290870667, 0.753000020980835, 0.7480000257492065, 0.7429999709129333, 0.7390000224113464, 0.734000027179718, 0.7300000190734863, 0.7250000238418579, 0.7200000286102295, 0.7149999737739563, 0.7099999785423279, 0.7049999833106995, 0.699999988079071, 0.6949999928474426, 0.6899999976158142, 0.6850000023841858, 0.6800000071525574, 0.675000011920929, 0.6690000295639038, 0.6639999747276306, 0.6579999923706055, 0.6520000100135803, 0.6470000147819519, 0.640999972820282, 0.6349999904632568, 0.6290000081062317, 0.621999979019165, 0.6159999966621399, 0.609000027179718, 0.6029999852180481, 0.5960000157356262, 0.5889999866485596, 0.5820000171661377, 0.574999988079071, 0.5669999718666077, 0.5590000152587891, 0.5519999861717224, 0.5440000295639038, 0.5360000133514404, 0.527999997138977], [1.0, 0.9959999918937683, 0.9919999837875366, 0.9879999756813049, 0.984000027179718, 0.9800000190734863, 0.9769999980926514, 0.9729999899864197, 0.968999981880188, 0.9649999737739563, 0.9610000252723694, 0.9570000171661377, 0.953000009059906, 0.9490000009536743, 0.9449999928474426, 0.9409999847412109, 0.9369999766349792, 0.9330000281333923, 0.9300000071525574, 0.9259999990463257, 0.921999990940094, 0.9179999828338623, 0.9139999747276306, 0.9100000262260437, 0.906000018119812, 0.9020000100135803, 0.8980000019073486, 0.8939999938011169, 0.8899999856948853, 0.8859999775886536, 0.8820000290870667, 0.878000020980835, 0.8740000128746033, 0.8700000047683716, 0.8659999966621399, 0.8619999885559082, 0.8579999804496765, 0.8539999723434448, 0.8500000238418579, 0.8460000157356262, 0.8420000076293945, 0.8379999995231628, 0.8339999914169312, 0.8289999961853027, 0.824999988079071, 0.8209999799728394, 0.8169999718666077, 0.8130000233650208, 0.8090000152587891, 0.8040000200271606, 0.800000011920929, 0.7960000038146973, 0.7919999957084656, 0.7870000004768372, 0.7829999923706055, 0.7789999842643738, 0.7739999890327454, 0.7699999809265137, 0.765999972820282, 0.7609999775886536, 0.7570000290870667, 0.7519999742507935, 0.7480000257492065, 0.7429999709129333, 0.7390000224113464, 0.734000027179718, 0.7289999723434448, 0.7239999771118164, 0.7200000286102295, 0.7149999737739563, 0.7099999785423279, 0.7049999833106995, 0.699999988079071, 0.6949999928474426, 0.6899999976158142, 0.6840000152587891, 0.6790000200271606, 0.6740000247955322, 0.6679999828338623, 0.6629999876022339, 0.6570000052452087, 0.6510000228881836, 0.6460000276565552, 0.6399999856948853, 0.6340000033378601, 0.6269999742507935, 0.6209999918937683, 0.6150000095367432, 0.6079999804496765, 0.6010000109672546, 0.593999981880188, 0.5870000123977661, 0.5799999833106995, 0.5720000267028809, 0.5640000104904175, 0.5559999942779541, 0.5479999780654907, 0.5400000214576721, 0.531000018119812, 0.5230000019073486], [1.0, 0.9959999918937683, 0.9919999837875366, 0.9879999756813049, 0.984000027179718, 0.9800000190734863, 0.9769999980926514, 0.9729999899864197, 0.968999981880188, 0.9649999737739563, 0.9610000252723694, 0.9570000171661377, 0.953000009059906, 0.9490000009536743, 0.9449999928474426, 0.9409999847412109, 0.9369999766349792, 0.9330000281333923, 0.9300000071525574, 0.9259999990463257, 0.921999990940094, 0.9179999828338623, 0.9139999747276306, 0.9100000262260437, 0.906000018119812, 0.9020000100135803, 0.8980000019073486, 0.8939999938011169, 0.8899999856948853, 0.8859999775886536, 0.8820000290870667, 0.878000020980835, 0.8740000128746033, 0.8700000047683716, 0.8659999966621399, 0.8619999885559082, 0.8579999804496765, 0.8539999723434448, 0.8500000238418579, 0.8460000157356262, 0.8420000076293945, 0.8379999995231628, 0.8330000042915344, 0.8289999961853027, 0.824999988079071, 0.8209999799728394, 0.8169999718666077, 0.8130000233650208, 0.8090000152587891, 0.8040000200271606, 0.800000011920929, 0.7960000038146973, 0.7919999957084656, 0.7870000004768372, 0.7829999923706055, 0.7789999842643738, 0.7739999890327454, 0.7699999809265137, 0.7649999856948853, 0.7609999775886536, 0.7570000290870667, 0.7519999742507935, 0.746999979019165, 0.7429999709129333, 0.7379999756813049, 0.734000027179718, 0.7289999723434448, 0.7239999771118164, 0.718999981880188, 0.7139999866485596, 0.7089999914169312, 0.7049999833106995, 0.6990000009536743, 0.6940000057220459, 0.6890000104904175, 0.6840000152587891, 0.6790000200271606, 0.6729999780654907, 0.6679999828338623, 0.6620000004768372, 0.6570000052452087, 0.6510000228881836, 0.6449999809265137, 0.6389999985694885, 0.6330000162124634, 0.6259999871253967, 0.6200000047683716, 0.6129999756813049, 0.6069999933242798, 0.6000000238418579, 0.5929999947547913, 0.5849999785423279, 0.578000009059906, 0.5699999928474426, 0.5619999766349792, 0.5529999732971191, 0.5450000166893005, 0.5360000133514404, 0.5270000100135803, 0.5180000066757202], [1.0, 0.9959999918937683, 0.9919999837875366, 0.9879999756813049, 0.984000027179718, 0.9800000190734863, 0.9769999980926514, 0.9729999899864197, 0.968999981880188, 0.9649999737739563, 0.9610000252723694, 0.9570000171661377, 0.953000009059906, 0.9490000009536743, 0.9449999928474426, 0.9409999847412109, 0.9369999766349792, 0.9330000281333923, 0.9300000071525574, 0.9259999990463257, 0.921999990940094, 0.9179999828338623, 0.9139999747276306, 0.9100000262260437, 0.906000018119812, 0.9020000100135803, 0.8980000019073486, 0.8939999938011169, 0.8899999856948853, 0.8859999775886536, 0.8820000290870667, 0.878000020980835, 0.8740000128746033, 0.8700000047683716, 0.8659999966621399, 0.8619999885559082, 0.8579999804496765, 0.8539999723434448, 0.8500000238418579, 0.8460000157356262, 0.8420000076293945, 0.8379999995231628, 0.8330000042915344, 0.8289999961853027, 0.824999988079071, 0.8209999799728394, 0.8169999718666077, 0.8130000233650208, 0.8080000281333923, 0.8040000200271606, 0.800000011920929, 0.7960000038146973, 0.7910000085830688, 0.7870000004768372, 0.7829999923706055, 0.7789999842643738, 0.7739999890327454, 0.7699999809265137, 0.7649999856948853, 0.7609999775886536, 0.7559999823570251, 0.7519999742507935, 0.746999979019165, 0.7429999709129333, 0.7379999756813049, 0.7329999804496765, 0.7289999723434448, 0.7239999771118164, 0.718999981880188, 0.7139999866485596, 0.7089999914169312, 0.7039999961853027, 0.6990000009536743, 0.6940000057220459, 0.6890000104904175, 0.6840000152587891, 0.6779999732971191, 0.6729999780654907, 0.6669999957084656, 0.6620000004768372, 0.656000018119812, 0.6499999761581421, 0.6439999938011169, 0.6380000114440918, 0.6320000290870667, 0.6259999871253967, 0.6190000176429749, 0.6119999885559082, 0.6060000061988831, 0.5989999771118164, 0.5910000205039978, 0.5839999914169312, 0.5759999752044678, 0.5680000185966492, 0.5600000023841858, 0.5509999990463257, 0.5419999957084656, 0.5320000052452087, 0.5230000019073486, 0.5130000114440918], [1.0, 0.9959999918937683, 0.9919999837875366, 0.9879999756813049, 0.984000027179718, 0.9800000190734863, 0.9769999980926514, 0.9729999899864197, 0.968999981880188, 0.9649999737739563, 0.9610000252723694, 0.9570000171661377, 0.953000009059906, 0.9490000009536743, 0.9449999928474426, 0.9409999847412109, 0.9369999766349792, 0.9330000281333923, 0.9300000071525574, 0.9259999990463257, 0.921999990940094, 0.9179999828338623, 0.9139999747276306, 0.9100000262260437, 0.906000018119812, 0.9020000100135803, 0.8980000019073486, 0.8939999938011169, 0.8899999856948853, 0.8859999775886536, 0.8820000290870667, 0.878000020980835, 0.8740000128746033, 0.8700000047683716, 0.8659999966621399, 0.8619999885559082, 0.8579999804496765, 0.8539999723434448, 0.8500000238418579, 0.8460000157356262, 0.8420000076293945, 0.8370000123977661, 0.8330000042915344, 0.8289999961853027, 0.824999988079071, 0.8209999799728394, 0.8169999718666077, 0.8130000233650208, 0.8080000281333923, 0.8040000200271606, 0.800000011920929, 0.7960000038146973, 0.7910000085830688, 0.7870000004768372, 0.7829999923706055, 0.777999997138977, 0.7739999890327454, 0.7699999809265137, 0.7649999856948853, 0.7609999775886536, 0.7559999823570251, 0.7519999742507935, 0.746999979019165, 0.7429999709129333, 0.7379999756813049, 0.7329999804496765, 0.7279999852180481, 0.7239999771118164, 0.718999981880188, 0.7139999866485596, 0.7089999914169312, 0.7039999961853027, 0.6990000009536743, 0.6940000057220459, 0.6890000104904175, 0.6830000281333923, 0.6779999732971191, 0.6729999780654907, 0.6669999957084656, 0.6610000133514404, 0.656000018119812, 0.6499999761581421, 0.6439999938011169, 0.6380000114440918, 0.6309999823570251, 0.625, 0.6190000176429749, 0.6119999885559082, 0.6050000190734863, 0.5979999899864197, 0.5899999737739563, 0.5830000042915344, 0.574999988079071, 0.5669999718666077, 0.5580000281333923, 0.5490000247955322, 0.5400000214576721, 0.5299999713897705, 0.5189999938011169, 0.5080000162124634], [1.0, 0.9959999918937683, 0.9919999837875366, 0.9879999756813049, 0.984000027179718, 0.9800000190734863, 0.9769999980926514, 0.9729999899864197, 0.968999981880188, 0.9649999737739563, 0.9610000252723694, 0.9570000171661377, 0.953000009059906, 0.9490000009536743, 0.9449999928474426, 0.9409999847412109, 0.9369999766349792, 0.9330000281333923, 0.9300000071525574, 0.9259999990463257, 0.921999990940094, 0.9179999828338623, 0.9139999747276306, 0.9100000262260437, 0.906000018119812, 0.9020000100135803, 0.8980000019073486, 0.8939999938011169, 0.8899999856948853, 0.8859999775886536, 0.8820000290870667, 0.878000020980835, 0.8740000128746033, 0.8700000047683716, 0.8659999966621399, 0.8619999885559082, 0.8579999804496765, 0.8539999723434448, 0.8500000238418579, 0.8460000157356262, 0.8420000076293945, 0.8370000123977661, 0.8330000042915344, 0.8289999961853027, 0.824999988079071, 0.8209999799728394, 0.8169999718666077, 0.8130000233650208, 0.8080000281333923, 0.8040000200271606, 0.800000011920929, 0.7960000038146973, 0.7910000085830688, 0.7870000004768372, 0.7829999923706055, 0.777999997138977, 0.7739999890327454, 0.7699999809265137, 0.7649999856948853, 0.7609999775886536, 0.7559999823570251, 0.7519999742507935, 0.746999979019165, 0.7419999837875366, 0.7379999756813049, 0.7329999804496765, 0.7279999852180481, 0.7239999771118164, 0.718999981880188, 0.7139999866485596, 0.7089999914169312, 0.7039999961853027, 0.6990000009536743, 0.6940000057220459, 0.6880000233650208, 0.6830000281333923, 0.6779999732971191, 0.671999990940094, 0.6669999957084656, 0.6610000133514404, 0.6549999713897705, 0.6499999761581421, 0.6439999938011169, 0.6370000243186951, 0.6309999823570251, 0.625, 0.6179999709129333, 0.6119999885559082, 0.6050000190734863, 0.597000002861023, 0.5899999737739563, 0.5820000171661377, 0.5740000009536743, 0.5659999847412109, 0.5569999814033508, 0.5479999780654907, 0.5379999876022339, 0.527999997138977, 0.515999972820282, 0.503000020980835]]'"
      ]
     },
     "execution_count": 14,
     "metadata": {},
     "output_type": "execute_result"
    }
   ],
   "source": [
    "import simplejson as json\n",
    "\n",
    "json = json.dumps(head, ignore_nan=True)\n",
    "json"
   ]
  },
  {
   "cell_type": "code",
   "execution_count": 15,
   "id": "df7dfd8ff0308815",
   "metadata": {
    "ExecuteTime": {
     "end_time": "2024-06-20T18:59:15.021740Z",
     "start_time": "2024-06-20T18:59:15.019226Z"
    },
    "collapsed": false,
    "execution": {
     "iopub.execute_input": "2024-06-20T19:03:26.995256Z",
     "iopub.status.busy": "2024-06-20T19:03:26.995156Z",
     "iopub.status.idle": "2024-06-20T19:03:26.997222Z",
     "shell.execute_reply": "2024-06-20T19:03:26.996989Z"
    },
    "papermill": {
     "duration": 0.006086,
     "end_time": "2024-06-20T19:03:26.998001",
     "exception": false,
     "start_time": "2024-06-20T19:03:26.991915",
     "status": "completed"
    },
    "tags": []
   },
   "outputs": [
    {
     "data": {
      "text/plain": [
       "[]"
      ]
     },
     "execution_count": 15,
     "metadata": {},
     "output_type": "execute_result"
    }
   ],
   "source": [
    "engine.read_flow_drawdown(idx=0, layer=0)"
   ]
  },
  {
   "cell_type": "code",
   "execution_count": 16,
   "id": "b233f4066b56c174",
   "metadata": {
    "ExecuteTime": {
     "end_time": "2024-06-20T18:59:15.026809Z",
     "start_time": "2024-06-20T18:59:15.022386Z"
    },
    "collapsed": false,
    "execution": {
     "iopub.execute_input": "2024-06-20T19:03:27.004347Z",
     "iopub.status.busy": "2024-06-20T19:03:27.004249Z",
     "iopub.status.idle": "2024-06-20T19:03:27.007589Z",
     "shell.execute_reply": "2024-06-20T19:03:27.007346Z"
    },
    "papermill": {
     "duration": 0.00732,
     "end_time": "2024-06-20T19:03:27.008313",
     "exception": false,
     "start_time": "2024-06-20T19:03:27.000993",
     "status": "completed"
    },
    "tags": []
   },
   "outputs": [
    {
     "data": {
      "text/plain": [
       "{'STORAGE_IN': 0.0,\n",
       " 'CONSTANT_HEAD_IN': 0.0,\n",
       " 'DRAINS_IN': 0.0,\n",
       " 'HEAD_DEP_BOUNDS_IN': 88.9888,\n",
       " 'TOTAL_IN': 88.9888,\n",
       " 'STORAGE_OUT': -0.0,\n",
       " 'CONSTANT_HEAD_OUT': -0.0,\n",
       " 'DRAINS_OUT': -88.9949,\n",
       " 'HEAD_DEP_BOUNDS_OUT': -0.0,\n",
       " 'TOTAL_OUT': -88.9949,\n",
       " 'IN-OUT': -0.0061035,\n",
       " 'PERCENT_DISCREPANCY': -0.01,\n",
       " 'tslen': 365.0}"
      ]
     },
     "execution_count": 16,
     "metadata": {},
     "output_type": "execute_result"
    }
   ],
   "source": [
    "engine.read_flow_budget(idx=0, incremental=False)"
   ]
  },
  {
   "cell_type": "code",
   "execution_count": 17,
   "id": "634709d741f5c252",
   "metadata": {
    "ExecuteTime": {
     "end_time": "2024-06-20T18:59:15.032457Z",
     "start_time": "2024-06-20T18:59:15.027389Z"
    },
    "collapsed": false,
    "execution": {
     "iopub.execute_input": "2024-06-20T19:03:27.014645Z",
     "iopub.status.busy": "2024-06-20T19:03:27.014552Z",
     "iopub.status.idle": "2024-06-20T19:03:27.017742Z",
     "shell.execute_reply": "2024-06-20T19:03:27.017524Z"
    },
    "papermill": {
     "duration": 0.007249,
     "end_time": "2024-06-20T19:03:27.018512",
     "exception": false,
     "start_time": "2024-06-20T19:03:27.011263",
     "status": "completed"
    },
    "tags": []
   },
   "outputs": [
    {
     "data": {
      "text/plain": [
       "{'STORAGE_IN': 0.0,\n",
       " 'CONSTANT_HEAD_IN': 0.0,\n",
       " 'DRAINS_IN': 0.0,\n",
       " 'HEAD_DEP_BOUNDS_IN': 0.2438,\n",
       " 'TOTAL_IN': 0.2438,\n",
       " 'STORAGE_OUT': -0.0,\n",
       " 'CONSTANT_HEAD_OUT': -0.0,\n",
       " 'DRAINS_OUT': -0.2438,\n",
       " 'HEAD_DEP_BOUNDS_OUT': -0.0,\n",
       " 'TOTAL_OUT': -0.2438,\n",
       " 'IN-OUT': -1.6719e-05,\n",
       " 'PERCENT_DISCREPANCY': -0.01,\n",
       " 'tslen': 365.0}"
      ]
     },
     "execution_count": 17,
     "metadata": {},
     "output_type": "execute_result"
    }
   ],
   "source": [
    "engine.read_flow_budget(idx=0, incremental=True)"
   ]
  },
  {
   "cell_type": "code",
   "execution_count": 18,
   "id": "160abd7d290c83f7",
   "metadata": {
    "ExecuteTime": {
     "end_time": "2024-06-20T18:59:15.176761Z",
     "start_time": "2024-06-20T18:59:15.033107Z"
    },
    "collapsed": false,
    "execution": {
     "iopub.execute_input": "2024-06-20T19:03:27.024999Z",
     "iopub.status.busy": "2024-06-20T19:03:27.024894Z",
     "iopub.status.idle": "2024-06-20T19:03:27.216005Z",
     "shell.execute_reply": "2024-06-20T19:03:27.213801Z"
    },
    "papermill": {
     "duration": 0.199895,
     "end_time": "2024-06-20T19:03:27.221450",
     "exception": false,
     "start_time": "2024-06-20T19:03:27.021555",
     "status": "completed"
    },
    "tags": []
   },
   "outputs": [
    {
     "data": {
      "image/png": "[encoded data removed]",
      "text/plain": [
       "<Figure size 640x480 with 2 Axes>"
      ]
     },
     "metadata": {},
     "output_type": "display_data"
    }
   ],
   "source": [
    "import matplotlib.pyplot as plt\n",
    "\n",
    "heads = engine.read_flow_head(idx=0, layer=0)\n",
    "plt.subplot(2, 1, 1)\n",
    "plt.imshow(heads, cmap='jet_r')\n",
    "plt.colorbar()\n",
    "plt.show()"
   ]
  }
 ],
 "metadata": {
  "kernelspec": {
   "display_name": "Python 3",
   "language": "python",
   "name": "python3"
  },
  "language_info": {
   "codemirror_mode": {
    "name": "ipython",
    "version": 3
   },
   "file_extension": ".py",
   "mimetype": "text/x-python",
   "name": "python",
   "nbconvert_exporter": "python",
   "pygments_lexer": "ipython3",
   "version": "3.12.2"
  },
  "papermill": {
   "default_parameters": {},
   "duration": 4.8593,
   "end_time": "2024-06-20T19:03:27.571222",
   "environment_variables": {},
   "exception": null,
   "input_path": "./notebooks/Test_DrainBoundary.ipynb",
   "output_path": "./notebooks/Test_DrainBoundary.ipynb",
   "parameters": {},
   "start_time": "2024-06-20T19:03:22.711922",
   "version": "2.6.0"
  }
 },
 "nbformat": 4,
 "nbformat_minor": 5
}
