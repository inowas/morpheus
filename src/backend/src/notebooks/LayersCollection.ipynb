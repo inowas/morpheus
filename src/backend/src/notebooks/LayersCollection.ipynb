{
 "cells": [
  {
   "cell_type": "code",
   "execution_count": 1,
   "id": "initial_id",
   "metadata": {
    "ExecuteTime": {
     "end_time": "2024-05-14T07:56:59.238793Z",
     "start_time": "2024-05-14T07:56:59.099469Z"
    },
    "collapsed": true,
    "execution": {
     "iopub.execute_input": "2024-05-30T21:20:21.392547Z",
     "iopub.status.busy": "2024-05-30T21:20:21.391948Z",
     "iopub.status.idle": "2024-05-30T21:20:21.538402Z",
     "shell.execute_reply": "2024-05-30T21:20:21.537658Z"
    },
    "papermill": {
     "duration": 0.157585,
     "end_time": "2024-05-30T21:20:21.540993",
     "exception": false,
     "start_time": "2024-05-30T21:20:21.383408",
     "status": "completed"
    },
    "tags": []
   },
   "outputs": [
    {
     "data": {
      "text/plain": [
       "LayersCollection(layers=[Layer(layer_id=LayerId(value='9c14314e-caad-47a6-b910-d06f1a736341'), name=LayerName(value='Default'), description=LayerDescription(value='Default'), confinement=LayerConfinement(type='confined'), properties=LayerProperties(hk=LayerPropertyValues(value=LayerPropertyDefaultValue(value=1.0), raster=None, zones=None), hani=LayerPropertyValues(value=LayerPropertyDefaultValue(value=1.0), raster=None, zones=None), vka=LayerPropertyValues(value=LayerPropertyDefaultValue(value=1.0), raster=None, zones=None), specific_storage=LayerPropertyValues(value=LayerPropertyDefaultValue(value=0.0001), raster=None, zones=None), specific_yield=LayerPropertyValues(value=LayerPropertyDefaultValue(value=0.1), raster=None, zones=None), initial_head=LayerPropertyValues(value=LayerPropertyDefaultValue(value=1.0), raster=None, zones=None), top=LayerPropertyValues(value=LayerPropertyDefaultValue(value=1.0), raster=None, zones=None), bottom=LayerPropertyValues(value=LayerPropertyDefaultValue(value=0.0), raster=None, zones=None)))])"
      ]
     },
     "execution_count": 1,
     "metadata": {},
     "output_type": "execute_result"
    }
   ],
   "source": [
    "from morpheus.project.types.layers import LayersCollection\n",
    "\n",
    "layers = LayersCollection.new()\n",
    "default_layer_id = layers[0].layer_id\n",
    "layers"
   ]
  },
  {
   "cell_type": "code",
   "execution_count": 2,
   "id": "e2c2c86e95cd764b",
   "metadata": {
    "ExecuteTime": {
     "end_time": "2024-05-14T07:56:59.247021Z",
     "start_time": "2024-05-14T07:56:59.241235Z"
    },
    "execution": {
     "iopub.execute_input": "2024-05-30T21:20:21.549136Z",
     "iopub.status.busy": "2024-05-30T21:20:21.548485Z",
     "iopub.status.idle": "2024-05-30T21:20:21.556673Z",
     "shell.execute_reply": "2024-05-30T21:20:21.554487Z"
    },
    "papermill": {
     "duration": 0.016313,
     "end_time": "2024-05-30T21:20:21.559599",
     "exception": false,
     "start_time": "2024-05-30T21:20:21.543286",
     "status": "completed"
    },
    "tags": []
   },
   "outputs": [
    {
     "data": {
      "text/plain": [
       "2"
      ]
     },
     "execution_count": 2,
     "metadata": {},
     "output_type": "execute_result"
    }
   ],
   "source": [
    "from morpheus.project.types.layers import Layer\n",
    "\n",
    "new_layer = Layer.from_default()\n",
    "layers = layers.with_added_layer(new_layer)\n",
    "len(layers)"
   ]
  },
  {
   "cell_type": "code",
   "execution_count": 3,
   "id": "4d6e01c1a448b3fa",
   "metadata": {
    "ExecuteTime": {
     "end_time": "2024-05-14T07:56:59.254126Z",
     "start_time": "2024-05-14T07:56:59.248450Z"
    },
    "execution": {
     "iopub.execute_input": "2024-05-30T21:20:21.568929Z",
     "iopub.status.busy": "2024-05-30T21:20:21.568630Z",
     "iopub.status.idle": "2024-05-30T21:20:21.572967Z",
     "shell.execute_reply": "2024-05-30T21:20:21.572292Z"
    },
    "papermill": {
     "duration": 0.013224,
     "end_time": "2024-05-30T21:20:21.574786",
     "exception": false,
     "start_time": "2024-05-30T21:20:21.561562",
     "status": "completed"
    },
    "tags": []
   },
   "outputs": [
    {
     "data": {
      "text/plain": [
       "1"
      ]
     },
     "execution_count": 3,
     "metadata": {},
     "output_type": "execute_result"
    }
   ],
   "source": [
    "layers = layers.with_deleted_layer(default_layer_id)\n",
    "len(layers)"
   ]
  }
 ],
 "metadata": {
  "kernelspec": {
   "display_name": "Python 3",
   "language": "python",
   "name": "python3"
  },
  "language_info": {
   "codemirror_mode": {
    "name": "ipython",
    "version": 3
   },
   "file_extension": ".py",
   "mimetype": "text/x-python",
   "name": "python",
   "nbconvert_exporter": "python",
   "pygments_lexer": "ipython3",
   "version": "3.12.2"
  },
  "papermill": {
   "default_parameters": {},
   "duration": 0.997362,
   "end_time": "2024-05-30T21:20:21.693470",
   "environment_variables": {},
   "exception": null,
   "input_path": "./notebooks/LayersCollection.ipynb",
   "output_path": "./notebooks/LayersCollection.ipynb",
   "parameters": {},
   "start_time": "2024-05-30T21:20:20.696108",
   "version": "2.6.0"
  }
 },
 "nbformat": 4,
 "nbformat_minor": 5
}
