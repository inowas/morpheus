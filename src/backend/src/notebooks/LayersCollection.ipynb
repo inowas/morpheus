{
 "cells": [
  {
   "cell_type": "code",
   "id": "initial_id",
   "metadata": {
    "collapsed": true,
    "ExecuteTime": {
     "end_time": "2024-04-23T21:43:50.386600Z",
     "start_time": "2024-04-23T21:43:50.237986Z"
    }
   },
   "source": [
    "from morpheus.project.types.layers import LayersCollection\n",
    "\n",
    "layers = LayersCollection.new()\n",
    "default_layer_id = layers[0].id\n",
    "layers"
   ],
   "outputs": [
    {
     "data": {
      "text/plain": [
       "LayersCollection(layers=[Layer(id=LayerId(value='a7955d64-30c9-467f-8792-4722c3922a96'), name=LayerName(value='Default'), description=LayerDescription(value='Default'), type=LayerType(type='confined'), properties=LayerProperties(kx=LayerPropertyValue(value=LayerPropertyDefaultValue(value=1.0), raster=None, zones=None), ky=LayerPropertyValue(value=LayerPropertyDefaultValue(value=1.0), raster=None, zones=None), kz=LayerPropertyValue(value=LayerPropertyDefaultValue(value=1.0), raster=None, zones=None), hani=None, vani=None, specific_storage=LayerPropertyValue(value=LayerPropertyDefaultValue(value=0.0001), raster=None, zones=None), specific_yield=LayerPropertyValue(value=LayerPropertyDefaultValue(value=0.1), raster=None, zones=None), initial_head=LayerPropertyValue(value=LayerPropertyDefaultValue(value=1.0), raster=None, zones=None), top=LayerPropertyValue(value=LayerPropertyDefaultValue(value=1.0), raster=None, zones=None), bottom=LayerPropertyValue(value=LayerPropertyDefaultValue(value=0.0), raster=None, zones=None)))])"
      ]
     },
     "execution_count": 1,
     "metadata": {},
     "output_type": "execute_result"
    }
   ],
   "execution_count": 1
  },
  {
   "metadata": {
    "ExecuteTime": {
     "end_time": "2024-04-23T21:43:50.393848Z",
     "start_time": "2024-04-23T21:43:50.388984Z"
    }
   },
   "cell_type": "code",
   "source": [
    "from morpheus.project.types.layers import Layer\n",
    "\n",
    "new_layer = Layer.from_default()\n",
    "layers = layers.with_added_layer(new_layer)\n",
    "len(layers)"
   ],
   "id": "e2c2c86e95cd764b",
   "outputs": [
    {
     "data": {
      "text/plain": [
       "2"
      ]
     },
     "execution_count": 2,
     "metadata": {},
     "output_type": "execute_result"
    }
   ],
   "execution_count": 2
  },
  {
   "metadata": {
    "ExecuteTime": {
     "end_time": "2024-04-23T21:43:50.399877Z",
     "start_time": "2024-04-23T21:43:50.395470Z"
    }
   },
   "cell_type": "code",
   "source": [
    "layers = layers.with_deleted_layer(default_layer_id)\n",
    "len(layers)"
   ],
   "id": "4d6e01c1a448b3fa",
   "outputs": [
    {
     "data": {
      "text/plain": [
       "1"
      ]
     },
     "execution_count": 3,
     "metadata": {},
     "output_type": "execute_result"
    }
   ],
   "execution_count": 3
  },
  {
   "metadata": {
    "ExecuteTime": {
     "end_time": "2024-04-23T21:43:50.404590Z",
     "start_time": "2024-04-23T21:43:50.402080Z"
    }
   },
   "cell_type": "code",
   "source": "",
   "id": "e830151e11c9fff8",
   "outputs": [],
   "execution_count": 3
  }
 ],
 "metadata": {
  "kernelspec": {
   "display_name": "Python 3",
   "language": "python",
   "name": "python3"
  },
  "language_info": {
   "codemirror_mode": {
    "name": "ipython",
    "version": 2
   },
   "file_extension": ".py",
   "mimetype": "text/x-python",
   "name": "python",
   "nbconvert_exporter": "python",
   "pygments_lexer": "ipython2",
   "version": "2.7.6"
  }
 },
 "nbformat": 4,
 "nbformat_minor": 5
}
