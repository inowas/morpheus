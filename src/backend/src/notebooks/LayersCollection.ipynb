{
 "cells": [
  {
   "cell_type": "code",
   "execution_count": 1,
   "id": "initial_id",
   "metadata": {
    "ExecuteTime": {
     "end_time": "2024-05-14T07:56:59.238793Z",
     "start_time": "2024-05-14T07:56:59.099469Z"
    },
    "collapsed": true,
    "execution": {
     "iopub.execute_input": "2024-06-19T13:18:21.963656Z",
     "iopub.status.busy": "2024-06-19T13:18:21.962901Z",
     "iopub.status.idle": "2024-06-19T13:18:22.133238Z",
     "shell.execute_reply": "2024-06-19T13:18:22.119696Z"
    },
    "papermill": {
     "duration": 0.197845,
     "end_time": "2024-06-19T13:18:22.153142",
     "exception": false,
     "start_time": "2024-06-19T13:18:21.955297",
     "status": "completed"
    },
    "tags": []
   },
   "outputs": [
    {
     "data": {
      "text/plain": [
       "LayersCollection(layers=[Layer(layer_id=LayerId(value='f4cd1afe-1272-4257-aabd-83548f484b4d'), name=LayerName(value='Default'), description=LayerDescription(value='Default'), confinement=LayerConfinement(type='confined'), properties=LayerProperties(hk=LayerPropertyValues(value=LayerPropertyDefaultValue(value=1.0), raster=None, zones=None), hani=LayerPropertyValues(value=LayerPropertyDefaultValue(value=1.0), raster=None, zones=None), vka=LayerPropertyValues(value=LayerPropertyDefaultValue(value=1.0), raster=None, zones=None), specific_storage=LayerPropertyValues(value=LayerPropertyDefaultValue(value=0.0001), raster=None, zones=None), specific_yield=LayerPropertyValues(value=LayerPropertyDefaultValue(value=0.1), raster=None, zones=None), initial_head=LayerPropertyValues(value=LayerPropertyDefaultValue(value=1.0), raster=None, zones=None), top=LayerPropertyValues(value=LayerPropertyDefaultValue(value=1.0), raster=None, zones=None), bottom=LayerPropertyValues(value=LayerPropertyDefaultValue(value=0.0), raster=None, zones=None)))])"
      ]
     },
     "execution_count": 1,
     "metadata": {},
     "output_type": "execute_result"
    }
   ],
   "source": [
    "from morpheus.project.types.layers import LayersCollection\n",
    "\n",
    "layers = LayersCollection.new()\n",
    "default_layer_id = layers[0].layer_id\n",
    "layers"
   ]
  },
  {
   "cell_type": "code",
   "execution_count": 2,
   "id": "e2c2c86e95cd764b",
   "metadata": {
    "ExecuteTime": {
     "end_time": "2024-05-14T07:56:59.247021Z",
     "start_time": "2024-05-14T07:56:59.241235Z"
    },
    "execution": {
     "iopub.execute_input": "2024-06-19T13:18:22.164905Z",
     "iopub.status.busy": "2024-06-19T13:18:22.163145Z",
     "iopub.status.idle": "2024-06-19T13:18:22.188315Z",
     "shell.execute_reply": "2024-06-19T13:18:22.187140Z"
    },
    "papermill": {
     "duration": 0.03483,
     "end_time": "2024-06-19T13:18:22.190678",
     "exception": false,
     "start_time": "2024-06-19T13:18:22.155848",
     "status": "completed"
    },
    "tags": []
   },
   "outputs": [
    {
     "data": {
      "text/plain": [
       "2"
      ]
     },
     "execution_count": 2,
     "metadata": {},
     "output_type": "execute_result"
    }
   ],
   "source": [
    "from morpheus.project.types.layers import Layer\n",
    "\n",
    "new_layer = Layer.from_default()\n",
    "layers = layers.with_added_layer(new_layer)\n",
    "len(layers)"
   ]
  },
  {
   "cell_type": "code",
   "execution_count": 3,
   "id": "4d6e01c1a448b3fa",
   "metadata": {
    "ExecuteTime": {
     "end_time": "2024-05-14T07:56:59.254126Z",
     "start_time": "2024-05-14T07:56:59.248450Z"
    },
    "execution": {
     "iopub.execute_input": "2024-06-19T13:18:22.196387Z",
     "iopub.status.busy": "2024-06-19T13:18:22.196056Z",
     "iopub.status.idle": "2024-06-19T13:18:22.204066Z",
     "shell.execute_reply": "2024-06-19T13:18:22.203054Z"
    },
    "papermill": {
     "duration": 0.013362,
     "end_time": "2024-06-19T13:18:22.206288",
     "exception": false,
     "start_time": "2024-06-19T13:18:22.192926",
     "status": "completed"
    },
    "tags": []
   },
   "outputs": [
    {
     "data": {
      "text/plain": [
       "1"
      ]
     },
     "execution_count": 3,
     "metadata": {},
     "output_type": "execute_result"
    }
   ],
   "source": [
    "layers = layers.with_deleted_layer(default_layer_id)\n",
    "len(layers)"
   ]
  }
 ],
 "metadata": {
  "kernelspec": {
   "display_name": "Python 3",
   "language": "python",
   "name": "python3"
  },
  "language_info": {
   "codemirror_mode": {
    "name": "ipython",
    "version": 3
   },
   "file_extension": ".py",
   "mimetype": "text/x-python",
   "name": "python",
   "nbconvert_exporter": "python",
   "pygments_lexer": "ipython3",
   "version": "3.12.2"
  },
  "papermill": {
   "default_parameters": {},
   "duration": 1.087466,
   "end_time": "2024-06-19T13:18:22.326565",
   "environment_variables": {},
   "exception": null,
   "input_path": "./notebooks/LayersCollection.ipynb",
   "output_path": "./notebooks/LayersCollection.ipynb",
   "parameters": {},
   "start_time": "2024-06-19T13:18:21.239099",
   "version": "2.6.0"
  }
 },
 "nbformat": 4,
 "nbformat_minor": 5
}