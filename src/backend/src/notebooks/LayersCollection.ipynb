{
 "cells": [
  {
   "cell_type": "code",
   "execution_count": 1,
   "id": "initial_id",
   "metadata": {
    "ExecuteTime": {
     "end_time": "2024-08-19T09:44:42.031216Z",
     "start_time": "2024-08-19T09:44:41.876649Z"
    },
    "collapsed": true,
    "execution": {
     "iopub.execute_input": "2024-08-19T20:03:00.745867Z",
     "iopub.status.busy": "2024-08-19T20:03:00.745297Z",
     "iopub.status.idle": "2024-08-19T20:03:00.880827Z",
     "shell.execute_reply": "2024-08-19T20:03:00.879184Z"
    },
    "papermill": {
     "duration": 0.145016,
     "end_time": "2024-08-19T20:03:00.883516",
     "exception": false,
     "start_time": "2024-08-19T20:03:00.738500",
     "status": "completed"
    },
    "tags": []
   },
   "outputs": [
    {
     "data": {
      "text/plain": [
       "LayersCollection(layers=[Layer(layer_id=LayerId(value='6a5fbfea-17d9-469f-9c59-bc053c3612d5'), name=LayerName(value='Default'), description=LayerDescription(value='Default'), confinement=LayerConfinement(type='confined'), properties=LayerProperties(hk=LayerPropertyValues(value=LayerPropertyDefaultValue(value=1.0), raster=None, zones=None), hani=LayerPropertyValues(value=LayerPropertyDefaultValue(value=1.0), raster=None, zones=None), vka=LayerPropertyValues(value=LayerPropertyDefaultValue(value=1.0), raster=None, zones=None), specific_storage=LayerPropertyValues(value=LayerPropertyDefaultValue(value=0.0001), raster=None, zones=None), specific_yield=LayerPropertyValues(value=LayerPropertyDefaultValue(value=0.1), raster=None, zones=None), initial_head=LayerPropertyValues(value=LayerPropertyDefaultValue(value=1.0), raster=None, zones=None), top=LayerPropertyValues(value=LayerPropertyDefaultValue(value=1.0), raster=None, zones=None), bottom=LayerPropertyValues(value=LayerPropertyDefaultValue(value=0.0), raster=None, zones=None)))])"
      ]
     },
     "execution_count": 1,
     "metadata": {},
     "output_type": "execute_result"
    }
   ],
   "source": [
    "from morpheus.project.types.layers import LayersCollection\n",
    "\n",
    "layers = LayersCollection.new()\n",
    "default_layer_id = layers[0].layer_id\n",
    "layers"
   ]
  },
  {
   "cell_type": "code",
   "execution_count": 2,
   "id": "e2c2c86e95cd764b",
   "metadata": {
    "ExecuteTime": {
     "end_time": "2024-08-19T09:44:42.093297Z",
     "start_time": "2024-08-19T09:44:42.084802Z"
    },
    "execution": {
     "iopub.execute_input": "2024-08-19T20:03:00.889719Z",
     "iopub.status.busy": "2024-08-19T20:03:00.889161Z",
     "iopub.status.idle": "2024-08-19T20:03:00.898204Z",
     "shell.execute_reply": "2024-08-19T20:03:00.897530Z"
    },
    "papermill": {
     "duration": 0.015502,
     "end_time": "2024-08-19T20:03:00.901516",
     "exception": false,
     "start_time": "2024-08-19T20:03:00.886014",
     "status": "completed"
    },
    "tags": []
   },
   "outputs": [
    {
     "data": {
      "text/plain": [
       "2"
      ]
     },
     "execution_count": 2,
     "metadata": {},
     "output_type": "execute_result"
    }
   ],
   "source": [
    "from morpheus.project.types.layers import Layer\n",
    "\n",
    "new_layer = Layer.from_default()\n",
    "layers = layers.with_added_layer(new_layer)\n",
    "len(layers)"
   ]
  },
  {
   "cell_type": "code",
   "execution_count": 3,
   "id": "4d6e01c1a448b3fa",
   "metadata": {
    "ExecuteTime": {
     "end_time": "2024-08-19T09:44:42.103773Z",
     "start_time": "2024-08-19T09:44:42.095913Z"
    },
    "execution": {
     "iopub.execute_input": "2024-08-19T20:03:00.911885Z",
     "iopub.status.busy": "2024-08-19T20:03:00.911547Z",
     "iopub.status.idle": "2024-08-19T20:03:00.941182Z",
     "shell.execute_reply": "2024-08-19T20:03:00.929837Z"
    },
    "papermill": {
     "duration": 0.040595,
     "end_time": "2024-08-19T20:03:00.944319",
     "exception": false,
     "start_time": "2024-08-19T20:03:00.903724",
     "status": "completed"
    },
    "tags": []
   },
   "outputs": [
    {
     "data": {
      "text/plain": [
       "1"
      ]
     },
     "execution_count": 3,
     "metadata": {},
     "output_type": "execute_result"
    }
   ],
   "source": [
    "layers = layers.with_deleted_layer(default_layer_id)\n",
    "len(layers)"
   ]
  }
 ],
 "metadata": {
  "kernelspec": {
   "display_name": "Python 3",
   "language": "python",
   "name": "python3"
  },
  "language_info": {
   "codemirror_mode": {
    "name": "ipython",
    "version": 3
   },
   "file_extension": ".py",
   "mimetype": "text/x-python",
   "name": "python",
   "nbconvert_exporter": "python",
   "pygments_lexer": "ipython3",
   "version": "3.12.2"
  },
  "papermill": {
   "default_parameters": {},
   "duration": 1.157652,
   "end_time": "2024-08-19T20:03:01.166831",
   "environment_variables": {},
   "exception": null,
   "input_path": "./notebooks/LayersCollection.ipynb",
   "output_path": "./notebooks/LayersCollection.ipynb",
   "parameters": {},
   "start_time": "2024-08-19T20:03:00.009179",
   "version": "2.6.0"
  }
 },
 "nbformat": 4,
 "nbformat_minor": 5
}