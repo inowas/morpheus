{
 "cells": [
  {
   "cell_type": "code",
   "execution_count": 1,
   "id": "initial_id",
   "metadata": {
    "ExecuteTime": {
     "end_time": "2024-05-14T07:56:59.238793Z",
     "start_time": "2024-05-14T07:56:59.099469Z"
    },
    "collapsed": true,
    "execution": {
     "iopub.execute_input": "2024-05-15T16:00:53.589695Z",
     "iopub.status.busy": "2024-05-15T16:00:53.589151Z",
     "iopub.status.idle": "2024-05-15T16:00:53.738403Z",
     "shell.execute_reply": "2024-05-15T16:00:53.737522Z"
    },
    "papermill": {
     "duration": 0.155654,
     "end_time": "2024-05-15T16:00:53.740709",
     "exception": false,
     "start_time": "2024-05-15T16:00:53.585055",
     "status": "completed"
    },
    "tags": []
   },
   "outputs": [
    {
     "data": {
      "text/plain": [
       "LayersCollection(layers=[Layer(layer_id=LayerId(value='1f9f61f8-773d-47e8-9177-6ea6e36495e6'), name=LayerName(value='Default'), description=LayerDescription(value='Default'), confinement=LayerConfinement(type='confined'), properties=LayerProperties(hk=LayerPropertyValues(value=LayerPropertyDefaultValue(value=1.0), raster=None, zones=None), hani=LayerPropertyValues(value=LayerPropertyDefaultValue(value=1.0), raster=None, zones=None), vka=LayerPropertyValues(value=LayerPropertyDefaultValue(value=1.0), raster=None, zones=None), specific_storage=LayerPropertyValues(value=LayerPropertyDefaultValue(value=0.0001), raster=None, zones=None), specific_yield=LayerPropertyValues(value=LayerPropertyDefaultValue(value=0.1), raster=None, zones=None), initial_head=LayerPropertyValues(value=LayerPropertyDefaultValue(value=1.0), raster=None, zones=None), top=LayerPropertyValues(value=LayerPropertyDefaultValue(value=1.0), raster=None, zones=None), bottom=LayerPropertyValues(value=LayerPropertyDefaultValue(value=0.0), raster=None, zones=None)))])"
      ]
     },
     "execution_count": 1,
     "metadata": {},
     "output_type": "execute_result"
    }
   ],
   "source": [
    "from morpheus.project.types.layers import LayersCollection\n",
    "\n",
    "layers = LayersCollection.new()\n",
    "default_layer_id = layers[0].layer_id\n",
    "layers"
   ]
  },
  {
   "cell_type": "code",
   "execution_count": 2,
   "id": "e2c2c86e95cd764b",
   "metadata": {
    "ExecuteTime": {
     "end_time": "2024-05-14T07:56:59.247021Z",
     "start_time": "2024-05-14T07:56:59.241235Z"
    },
    "execution": {
     "iopub.execute_input": "2024-05-15T16:00:53.747292Z",
     "iopub.status.busy": "2024-05-15T16:00:53.746678Z",
     "iopub.status.idle": "2024-05-15T16:00:53.753365Z",
     "shell.execute_reply": "2024-05-15T16:00:53.752329Z"
    },
    "papermill": {
     "duration": 0.012307,
     "end_time": "2024-05-15T16:00:53.755517",
     "exception": false,
     "start_time": "2024-05-15T16:00:53.743210",
     "status": "completed"
    },
    "tags": []
   },
   "outputs": [
    {
     "data": {
      "text/plain": [
       "2"
      ]
     },
     "execution_count": 2,
     "metadata": {},
     "output_type": "execute_result"
    }
   ],
   "source": [
    "from morpheus.project.types.layers import Layer\n",
    "\n",
    "new_layer = Layer.from_default()\n",
    "layers = layers.with_added_layer(new_layer)\n",
    "len(layers)"
   ]
  },
  {
   "cell_type": "code",
   "execution_count": 3,
   "id": "4d6e01c1a448b3fa",
   "metadata": {
    "ExecuteTime": {
     "end_time": "2024-05-14T07:56:59.254126Z",
     "start_time": "2024-05-14T07:56:59.248450Z"
    },
    "execution": {
     "iopub.execute_input": "2024-05-15T16:00:53.761386Z",
     "iopub.status.busy": "2024-05-15T16:00:53.761070Z",
     "iopub.status.idle": "2024-05-15T16:00:53.766322Z",
     "shell.execute_reply": "2024-05-15T16:00:53.765379Z"
    },
    "papermill": {
     "duration": 0.010878,
     "end_time": "2024-05-15T16:00:53.768511",
     "exception": false,
     "start_time": "2024-05-15T16:00:53.757633",
     "status": "completed"
    },
    "tags": []
   },
   "outputs": [
    {
     "data": {
      "text/plain": [
       "1"
      ]
     },
     "execution_count": 3,
     "metadata": {},
     "output_type": "execute_result"
    }
   ],
   "source": [
    "layers = layers.with_deleted_layer(default_layer_id)\n",
    "len(layers)"
   ]
  }
 ],
 "metadata": {
  "kernelspec": {
   "display_name": "Python 3",
   "language": "python",
   "name": "python3"
  },
  "language_info": {
   "codemirror_mode": {
    "name": "ipython",
    "version": 3
   },
   "file_extension": ".py",
   "mimetype": "text/x-python",
   "name": "python",
   "nbconvert_exporter": "python",
   "pygments_lexer": "ipython3",
   "version": "3.12.2"
  },
  "papermill": {
   "default_parameters": {},
   "duration": 1.133253,
   "end_time": "2024-05-15T16:00:53.988831",
   "environment_variables": {},
   "exception": null,
   "input_path": "./notebooks/LayersCollection.ipynb",
   "output_path": "./notebooks/LayersCollection.ipynb",
   "parameters": {},
   "start_time": "2024-05-15T16:00:52.855578",
   "version": "2.6.0"
  }
 },
 "nbformat": 4,
 "nbformat_minor": 5
}