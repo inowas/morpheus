{
 "cells": [
  {
   "cell_type": "code",
   "execution_count": 1,
   "id": "initial_id",
   "metadata": {
    "ExecuteTime": {
     "end_time": "2024-08-19T09:44:42.031216Z",
     "start_time": "2024-08-19T09:44:41.876649Z"
    },
    "collapsed": true,
    "execution": {
     "iopub.execute_input": "2024-08-19T20:26:50.891648Z",
     "iopub.status.busy": "2024-08-19T20:26:50.891247Z",
     "iopub.status.idle": "2024-08-19T20:26:51.024643Z",
     "shell.execute_reply": "2024-08-19T20:26:51.024051Z"
    },
    "papermill": {
     "duration": 0.143043,
     "end_time": "2024-08-19T20:26:51.027773",
     "exception": false,
     "start_time": "2024-08-19T20:26:50.884730",
     "status": "completed"
    },
    "tags": []
   },
   "outputs": [
    {
     "data": {
      "text/plain": [
       "LayersCollection(layers=[Layer(layer_id=LayerId(value='06b8570d-f095-4821-b931-2a8b7f5a0e01'), name=LayerName(value='Default'), description=LayerDescription(value='Default'), confinement=LayerConfinement(type='confined'), properties=LayerProperties(hk=LayerPropertyValues(value=LayerPropertyDefaultValue(value=1.0), raster=None, zones=None), hani=LayerPropertyValues(value=LayerPropertyDefaultValue(value=1.0), raster=None, zones=None), vka=LayerPropertyValues(value=LayerPropertyDefaultValue(value=1.0), raster=None, zones=None), specific_storage=LayerPropertyValues(value=LayerPropertyDefaultValue(value=0.0001), raster=None, zones=None), specific_yield=LayerPropertyValues(value=LayerPropertyDefaultValue(value=0.1), raster=None, zones=None), initial_head=LayerPropertyValues(value=LayerPropertyDefaultValue(value=1.0), raster=None, zones=None), top=LayerPropertyValues(value=LayerPropertyDefaultValue(value=1.0), raster=None, zones=None), bottom=LayerPropertyValues(value=LayerPropertyDefaultValue(value=0.0), raster=None, zones=None)))])"
      ]
     },
     "execution_count": 1,
     "metadata": {},
     "output_type": "execute_result"
    }
   ],
   "source": [
    "from morpheus.project.types.layers import LayersCollection\n",
    "\n",
    "layers = LayersCollection.new()\n",
    "default_layer_id = layers[0].layer_id\n",
    "layers"
   ]
  },
  {
   "cell_type": "code",
   "execution_count": 2,
   "id": "e2c2c86e95cd764b",
   "metadata": {
    "ExecuteTime": {
     "end_time": "2024-08-19T09:44:42.093297Z",
     "start_time": "2024-08-19T09:44:42.084802Z"
    },
    "execution": {
     "iopub.execute_input": "2024-08-19T20:26:51.034403Z",
     "iopub.status.busy": "2024-08-19T20:26:51.033801Z",
     "iopub.status.idle": "2024-08-19T20:26:51.060936Z",
     "shell.execute_reply": "2024-08-19T20:26:51.049276Z"
    },
    "papermill": {
     "duration": 0.033593,
     "end_time": "2024-08-19T20:26:51.064265",
     "exception": false,
     "start_time": "2024-08-19T20:26:51.030672",
     "status": "completed"
    },
    "tags": []
   },
   "outputs": [
    {
     "data": {
      "text/plain": [
       "2"
      ]
     },
     "execution_count": 2,
     "metadata": {},
     "output_type": "execute_result"
    }
   ],
   "source": [
    "from morpheus.project.types.layers import Layer\n",
    "\n",
    "new_layer = Layer.from_default()\n",
    "layers = layers.with_added_layer(new_layer)\n",
    "len(layers)"
   ]
  },
  {
   "cell_type": "code",
   "execution_count": 3,
   "id": "4d6e01c1a448b3fa",
   "metadata": {
    "ExecuteTime": {
     "end_time": "2024-08-19T09:44:42.103773Z",
     "start_time": "2024-08-19T09:44:42.095913Z"
    },
    "execution": {
     "iopub.execute_input": "2024-08-19T20:26:51.072958Z",
     "iopub.status.busy": "2024-08-19T20:26:51.072277Z",
     "iopub.status.idle": "2024-08-19T20:26:51.080379Z",
     "shell.execute_reply": "2024-08-19T20:26:51.079557Z"
    },
    "papermill": {
     "duration": 0.016356,
     "end_time": "2024-08-19T20:26:51.082947",
     "exception": false,
     "start_time": "2024-08-19T20:26:51.066591",
     "status": "completed"
    },
    "tags": []
   },
   "outputs": [
    {
     "data": {
      "text/plain": [
       "1"
      ]
     },
     "execution_count": 3,
     "metadata": {},
     "output_type": "execute_result"
    }
   ],
   "source": [
    "layers = layers.with_deleted_layer(default_layer_id)\n",
    "len(layers)"
   ]
  }
 ],
 "metadata": {
  "kernelspec": {
   "display_name": "Python 3",
   "language": "python",
   "name": "python3"
  },
  "language_info": {
   "codemirror_mode": {
    "name": "ipython",
    "version": 3
   },
   "file_extension": ".py",
   "mimetype": "text/x-python",
   "name": "python",
   "nbconvert_exporter": "python",
   "pygments_lexer": "ipython3",
   "version": "3.12.2"
  },
  "papermill": {
   "default_parameters": {},
   "duration": 1.171564,
   "end_time": "2024-08-19T20:26:51.305347",
   "environment_variables": {},
   "exception": null,
   "input_path": "./notebooks/LayersCollection.ipynb",
   "output_path": "./notebooks/LayersCollection.ipynb",
   "parameters": {},
   "start_time": "2024-08-19T20:26:50.133783",
   "version": "2.6.0"
  }
 },
 "nbformat": 4,
 "nbformat_minor": 5
}