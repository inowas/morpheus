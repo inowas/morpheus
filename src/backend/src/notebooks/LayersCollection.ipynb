{
 "cells": [
  {
   "cell_type": "code",
   "id": "initial_id",
   "metadata": {
    "collapsed": true,
    "execution": {
     "iopub.execute_input": "2024-06-20T19:02:41.936331Z",
     "iopub.status.busy": "2024-06-20T19:02:41.935497Z",
     "iopub.status.idle": "2024-06-20T19:02:42.109909Z",
     "shell.execute_reply": "2024-06-20T19:02:42.109183Z"
    },
    "papermill": {
     "duration": 0.20109,
     "end_time": "2024-06-20T19:02:42.130605",
     "exception": false,
     "start_time": "2024-06-20T19:02:41.929515",
     "status": "completed"
    },
    "tags": [],
    "ExecuteTime": {
     "end_time": "2024-08-19T09:44:42.031216Z",
     "start_time": "2024-08-19T09:44:41.876649Z"
    }
   },
   "source": [
    "from morpheus.project.types.layers import LayersCollection\n",
    "\n",
    "layers = LayersCollection.new()\n",
    "default_layer_id = layers[0].layer_id\n",
    "layers"
   ],
   "outputs": [
    {
     "data": {
      "text/plain": [
       "LayersCollection(layers=[Layer(layer_id=LayerId(value='8cf86804-6640-455f-ad5e-5e6d78b5f6a0'), name=LayerName(value='Default'), description=LayerDescription(value='Default'), confinement=LayerConfinement(type='confined'), properties=LayerProperties(hk=LayerPropertyValues(value=LayerPropertyDefaultValue(value=1.0), raster=None, zones=None), hani=LayerPropertyValues(value=LayerPropertyDefaultValue(value=1.0), raster=None, zones=None), vka=LayerPropertyValues(value=LayerPropertyDefaultValue(value=1.0), raster=None, zones=None), specific_storage=LayerPropertyValues(value=LayerPropertyDefaultValue(value=0.0001), raster=None, zones=None), specific_yield=LayerPropertyValues(value=LayerPropertyDefaultValue(value=0.1), raster=None, zones=None), initial_head=LayerPropertyValues(value=LayerPropertyDefaultValue(value=1.0), raster=None, zones=None), top=LayerPropertyValues(value=LayerPropertyDefaultValue(value=1.0), raster=None, zones=None), bottom=LayerPropertyValues(value=LayerPropertyDefaultValue(value=0.0), raster=None, zones=None)))])"
      ]
     },
     "execution_count": 1,
     "metadata": {},
     "output_type": "execute_result"
    }
   ],
   "execution_count": 1
  },
  {
   "cell_type": "code",
   "id": "e2c2c86e95cd764b",
   "metadata": {
    "execution": {
     "iopub.execute_input": "2024-06-20T19:02:42.137400Z",
     "iopub.status.busy": "2024-06-20T19:02:42.137007Z",
     "iopub.status.idle": "2024-06-20T19:02:42.151668Z",
     "shell.execute_reply": "2024-06-20T19:02:42.150994Z"
    },
    "papermill": {
     "duration": 0.020536,
     "end_time": "2024-06-20T19:02:42.153679",
     "exception": false,
     "start_time": "2024-06-20T19:02:42.133143",
     "status": "completed"
    },
    "tags": [],
    "ExecuteTime": {
     "end_time": "2024-08-19T09:44:42.093297Z",
     "start_time": "2024-08-19T09:44:42.084802Z"
    }
   },
   "source": [
    "from morpheus.project.types.layers import Layer\n",
    "\n",
    "new_layer = Layer.from_default()\n",
    "layers = layers.with_added_layer(new_layer)\n",
    "len(layers)"
   ],
   "outputs": [
    {
     "data": {
      "text/plain": [
       "2"
      ]
     },
     "execution_count": 2,
     "metadata": {},
     "output_type": "execute_result"
    }
   ],
   "execution_count": 2
  },
  {
   "cell_type": "code",
   "id": "4d6e01c1a448b3fa",
   "metadata": {
    "execution": {
     "iopub.execute_input": "2024-06-20T19:02:42.160454Z",
     "iopub.status.busy": "2024-06-20T19:02:42.160136Z",
     "iopub.status.idle": "2024-06-20T19:02:42.166898Z",
     "shell.execute_reply": "2024-06-20T19:02:42.166219Z"
    },
    "papermill": {
     "duration": 0.013225,
     "end_time": "2024-06-20T19:02:42.169032",
     "exception": false,
     "start_time": "2024-06-20T19:02:42.155807",
     "status": "completed"
    },
    "tags": [],
    "ExecuteTime": {
     "end_time": "2024-08-19T09:44:42.103773Z",
     "start_time": "2024-08-19T09:44:42.095913Z"
    }
   },
   "source": [
    "layers = layers.with_deleted_layer(default_layer_id)\n",
    "len(layers)"
   ],
   "outputs": [
    {
     "data": {
      "text/plain": [
       "1"
      ]
     },
     "execution_count": 3,
     "metadata": {},
     "output_type": "execute_result"
    }
   ],
   "execution_count": 3
  }
 ],
 "metadata": {
  "kernelspec": {
   "display_name": "Python 3",
   "language": "python",
   "name": "python3"
  },
  "language_info": {
   "codemirror_mode": {
    "name": "ipython",
    "version": 3
   },
   "file_extension": ".py",
   "mimetype": "text/x-python",
   "name": "python",
   "nbconvert_exporter": "python",
   "pygments_lexer": "ipython3",
   "version": "3.12.2"
  },
  "papermill": {
   "default_parameters": {},
   "duration": 0.945266,
   "end_time": "2024-06-20T19:02:42.289821",
   "environment_variables": {},
   "exception": null,
   "input_path": "./notebooks/LayersCollection.ipynb",
   "output_path": "./notebooks/LayersCollection.ipynb",
   "parameters": {},
   "start_time": "2024-06-20T19:02:41.344555",
   "version": "2.6.0"
  }
 },
 "nbformat": 4,
 "nbformat_minor": 5
}
