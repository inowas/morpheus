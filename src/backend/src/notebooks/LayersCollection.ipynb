{
 "cells": [
  {
   "cell_type": "code",
   "execution_count": 1,
   "id": "initial_id",
   "metadata": {
    "ExecuteTime": {
     "end_time": "2024-05-14T07:56:59.238793Z",
     "start_time": "2024-05-14T07:56:59.099469Z"
    },
    "collapsed": true,
    "execution": {
     "iopub.execute_input": "2024-05-15T15:40:14.644643Z",
     "iopub.status.busy": "2024-05-15T15:40:14.644173Z",
     "iopub.status.idle": "2024-05-15T15:40:14.796183Z",
     "shell.execute_reply": "2024-05-15T15:40:14.795532Z"
    },
    "papermill": {
     "duration": 0.160807,
     "end_time": "2024-05-15T15:40:14.798582",
     "exception": false,
     "start_time": "2024-05-15T15:40:14.637775",
     "status": "completed"
    },
    "tags": []
   },
   "outputs": [
    {
     "data": {
      "text/plain": [
       "LayersCollection(layers=[Layer(layer_id=LayerId(value='9c655c83-a911-4cae-9f22-24996a6307f5'), name=LayerName(value='Default'), description=LayerDescription(value='Default'), confinement=LayerConfinement(type='confined'), properties=LayerProperties(hk=LayerPropertyValues(value=LayerPropertyDefaultValue(value=1.0), raster=None, zones=None), hani=LayerPropertyValues(value=LayerPropertyDefaultValue(value=1.0), raster=None, zones=None), vka=LayerPropertyValues(value=LayerPropertyDefaultValue(value=1.0), raster=None, zones=None), specific_storage=LayerPropertyValues(value=LayerPropertyDefaultValue(value=0.0001), raster=None, zones=None), specific_yield=LayerPropertyValues(value=LayerPropertyDefaultValue(value=0.1), raster=None, zones=None), initial_head=LayerPropertyValues(value=LayerPropertyDefaultValue(value=1.0), raster=None, zones=None), top=LayerPropertyValues(value=LayerPropertyDefaultValue(value=1.0), raster=None, zones=None), bottom=LayerPropertyValues(value=LayerPropertyDefaultValue(value=0.0), raster=None, zones=None)))])"
      ]
     },
     "execution_count": 1,
     "metadata": {},
     "output_type": "execute_result"
    }
   ],
   "source": [
    "from morpheus.project.types.layers import LayersCollection\n",
    "\n",
    "layers = LayersCollection.new()\n",
    "default_layer_id = layers[0].layer_id\n",
    "layers"
   ]
  },
  {
   "cell_type": "code",
   "execution_count": 2,
   "id": "e2c2c86e95cd764b",
   "metadata": {
    "ExecuteTime": {
     "end_time": "2024-05-14T07:56:59.247021Z",
     "start_time": "2024-05-14T07:56:59.241235Z"
    },
    "execution": {
     "iopub.execute_input": "2024-05-15T15:40:14.804005Z",
     "iopub.status.busy": "2024-05-15T15:40:14.803430Z",
     "iopub.status.idle": "2024-05-15T15:40:14.830784Z",
     "shell.execute_reply": "2024-05-15T15:40:14.814956Z"
    },
    "papermill": {
     "duration": 0.03256,
     "end_time": "2024-05-15T15:40:14.833472",
     "exception": false,
     "start_time": "2024-05-15T15:40:14.800912",
     "status": "completed"
    },
    "tags": []
   },
   "outputs": [
    {
     "data": {
      "text/plain": [
       "2"
      ]
     },
     "execution_count": 2,
     "metadata": {},
     "output_type": "execute_result"
    }
   ],
   "source": [
    "from morpheus.project.types.layers import Layer\n",
    "\n",
    "new_layer = Layer.from_default()\n",
    "layers = layers.with_added_layer(new_layer)\n",
    "len(layers)"
   ]
  },
  {
   "cell_type": "code",
   "execution_count": 3,
   "id": "4d6e01c1a448b3fa",
   "metadata": {
    "ExecuteTime": {
     "end_time": "2024-05-14T07:56:59.254126Z",
     "start_time": "2024-05-14T07:56:59.248450Z"
    },
    "execution": {
     "iopub.execute_input": "2024-05-15T15:40:14.837744Z",
     "iopub.status.busy": "2024-05-15T15:40:14.837422Z",
     "iopub.status.idle": "2024-05-15T15:40:14.848864Z",
     "shell.execute_reply": "2024-05-15T15:40:14.848198Z"
    },
    "papermill": {
     "duration": 0.016301,
     "end_time": "2024-05-15T15:40:14.851184",
     "exception": false,
     "start_time": "2024-05-15T15:40:14.834883",
     "status": "completed"
    },
    "tags": []
   },
   "outputs": [
    {
     "data": {
      "text/plain": [
       "1"
      ]
     },
     "execution_count": 3,
     "metadata": {},
     "output_type": "execute_result"
    }
   ],
   "source": [
    "layers = layers.with_deleted_layer(default_layer_id)\n",
    "len(layers)"
   ]
  }
 ],
 "metadata": {
  "kernelspec": {
   "display_name": "Python 3",
   "language": "python",
   "name": "python3"
  },
  "language_info": {
   "codemirror_mode": {
    "name": "ipython",
    "version": 3
   },
   "file_extension": ".py",
   "mimetype": "text/x-python",
   "name": "python",
   "nbconvert_exporter": "python",
   "pygments_lexer": "ipython3",
   "version": "3.12.2"
  },
  "papermill": {
   "default_parameters": {},
   "duration": 1.009525,
   "end_time": "2024-05-15T15:40:15.072603",
   "environment_variables": {},
   "exception": null,
   "input_path": "./notebooks/LayersCollection.ipynb",
   "output_path": "./notebooks/LayersCollection.ipynb",
   "parameters": {},
   "start_time": "2024-05-15T15:40:14.063078",
   "version": "2.6.0"
  }
 },
 "nbformat": 4,
 "nbformat_minor": 5
}