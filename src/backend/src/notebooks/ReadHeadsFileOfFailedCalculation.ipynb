{
 "cells": [
  {
   "cell_type": "code",
   "execution_count": 1,
   "id": "initial_id",
   "metadata": {
    "ExecuteTime": {
     "end_time": "2024-08-19T10:00:44.777655Z",
     "start_time": "2024-08-19T10:00:44.010061Z"
    },
    "collapsed": true,
    "execution": {
     "iopub.execute_input": "2024-08-19T20:02:28.788604Z",
     "iopub.status.busy": "2024-08-19T20:02:28.788243Z",
     "iopub.status.idle": "2024-08-19T20:02:29.409426Z",
     "shell.execute_reply": "2024-08-19T20:02:29.409075Z"
    },
    "papermill": {
     "duration": 0.630683,
     "end_time": "2024-08-19T20:02:29.410502",
     "exception": false,
     "start_time": "2024-08-19T20:02:28.779819",
     "status": "completed"
    },
    "tags": []
   },
   "outputs": [],
   "source": [
    "import numpy as np\n",
    "import os\n",
    "import flopy as fp\n",
    "\n",
    "notebook_path = os.getcwd()\n",
    "if not notebook_path.endswith('notebooks'):\n",
    "  notebook_path = os.path.join(notebook_path, 'notebooks')"
   ]
  },
  {
   "cell_type": "code",
   "execution_count": 2,
   "id": "db540e78b6fc73d9",
   "metadata": {
    "ExecuteTime": {
     "end_time": "2024-08-19T10:00:44.782389Z",
     "start_time": "2024-08-19T10:00:44.778799Z"
    },
    "execution": {
     "iopub.execute_input": "2024-08-19T20:02:29.413322Z",
     "iopub.status.busy": "2024-08-19T20:02:29.413166Z",
     "iopub.status.idle": "2024-08-19T20:02:29.416597Z",
     "shell.execute_reply": "2024-08-19T20:02:29.416355Z"
    },
    "papermill": {
     "duration": 0.005595,
     "end_time": "2024-08-19T20:02:29.417349",
     "exception": false,
     "start_time": "2024-08-19T20:02:29.411754",
     "status": "completed"
    },
    "tags": []
   },
   "outputs": [],
   "source": [
    "notebook_path = os.getcwd()\n",
    "if not notebook_path.endswith('notebooks'):\n",
    "  notebook_path = os.path.join(notebook_path, 'notebooks')\n",
    "    \n",
    "# Read the shapefile\n",
    "head_file = os.path.join(notebook_path, 'assets', 'headfiles', 'mf2005.hds')\n",
    "\n",
    "\n",
    "head_file = fp.utils.binaryfile.HeadFile(head_file)"
   ]
  },
  {
   "cell_type": "code",
   "execution_count": 3,
   "id": "5a4877e53bf682fd",
   "metadata": {
    "ExecuteTime": {
     "end_time": "2024-08-19T10:00:44.785074Z",
     "start_time": "2024-08-19T10:00:44.783076Z"
    },
    "execution": {
     "iopub.execute_input": "2024-08-19T20:02:29.419741Z",
     "iopub.status.busy": "2024-08-19T20:02:29.419623Z",
     "iopub.status.idle": "2024-08-19T20:02:29.421861Z",
     "shell.execute_reply": "2024-08-19T20:02:29.421577Z"
    },
    "papermill": {
     "duration": 0.004323,
     "end_time": "2024-08-19T20:02:29.422637",
     "exception": false,
     "start_time": "2024-08-19T20:02:29.418314",
     "status": "completed"
    },
    "tags": []
   },
   "outputs": [],
   "source": [
    "all_data = head_file.get_alldata()"
   ]
  },
  {
   "cell_type": "code",
   "execution_count": 4,
   "id": "b2235f452655509",
   "metadata": {
    "ExecuteTime": {
     "end_time": "2024-08-19T10:00:44.789228Z",
     "start_time": "2024-08-19T10:00:44.785587Z"
    },
    "execution": {
     "iopub.execute_input": "2024-08-19T20:02:29.425235Z",
     "iopub.status.busy": "2024-08-19T20:02:29.425044Z",
     "iopub.status.idle": "2024-08-19T20:02:29.428126Z",
     "shell.execute_reply": "2024-08-19T20:02:29.427916Z"
    },
    "papermill": {
     "duration": 0.005174,
     "end_time": "2024-08-19T20:02:29.428874",
     "exception": false,
     "start_time": "2024-08-19T20:02:29.423700",
     "status": "completed"
    },
    "tags": []
   },
   "outputs": [
    {
     "data": {
      "text/plain": [
       "(7, 1, 50, 100)"
      ]
     },
     "execution_count": 4,
     "metadata": {},
     "output_type": "execute_result"
    }
   ],
   "source": [
    "all_data.shape"
   ]
  },
  {
   "cell_type": "code",
   "execution_count": 5,
   "id": "ecbdd18940793ae",
   "metadata": {
    "ExecuteTime": {
     "end_time": "2024-08-19T10:00:44.793782Z",
     "start_time": "2024-08-19T10:00:44.791110Z"
    },
    "execution": {
     "iopub.execute_input": "2024-08-19T20:02:29.431330Z",
     "iopub.status.busy": "2024-08-19T20:02:29.431228Z",
     "iopub.status.idle": "2024-08-19T20:02:29.433345Z",
     "shell.execute_reply": "2024-08-19T20:02:29.433079Z"
    },
    "papermill": {
     "duration": 0.004268,
     "end_time": "2024-08-19T20:02:29.434171",
     "exception": false,
     "start_time": "2024-08-19T20:02:29.429903",
     "status": "completed"
    },
    "tags": []
   },
   "outputs": [
    {
     "data": {
      "text/plain": [
       "nan"
      ]
     },
     "execution_count": 5,
     "metadata": {},
     "output_type": "execute_result"
    }
   ],
   "source": [
    "min_value = np.nanmin(all_data)\n",
    "min_value"
   ]
  },
  {
   "cell_type": "code",
   "execution_count": 6,
   "id": "60da611fa4a41103",
   "metadata": {
    "ExecuteTime": {
     "end_time": "2024-08-19T10:00:44.803861Z",
     "start_time": "2024-08-19T10:00:44.794622Z"
    },
    "execution": {
     "iopub.execute_input": "2024-08-19T20:02:29.437742Z",
     "iopub.status.busy": "2024-08-19T20:02:29.437611Z",
     "iopub.status.idle": "2024-08-19T20:02:29.439610Z",
     "shell.execute_reply": "2024-08-19T20:02:29.439411Z"
    },
    "papermill": {
     "duration": 0.00499,
     "end_time": "2024-08-19T20:02:29.440439",
     "exception": false,
     "start_time": "2024-08-19T20:02:29.435449",
     "status": "completed"
    },
    "tags": []
   },
   "outputs": [
    {
     "data": {
      "text/plain": [
       "numpy.float32"
      ]
     },
     "execution_count": 6,
     "metadata": {},
     "output_type": "execute_result"
    }
   ],
   "source": [
    "type(min_value)"
   ]
  },
  {
   "cell_type": "code",
   "execution_count": 7,
   "id": "d739a966b6e1fa97",
   "metadata": {
    "ExecuteTime": {
     "end_time": "2024-08-19T10:00:44.807785Z",
     "start_time": "2024-08-19T10:00:44.804613Z"
    },
    "execution": {
     "iopub.execute_input": "2024-08-19T20:02:29.443299Z",
     "iopub.status.busy": "2024-08-19T20:02:29.443189Z",
     "iopub.status.idle": "2024-08-19T20:02:29.445101Z",
     "shell.execute_reply": "2024-08-19T20:02:29.444859Z"
    },
    "papermill": {
     "duration": 0.004658,
     "end_time": "2024-08-19T20:02:29.446229",
     "exception": false,
     "start_time": "2024-08-19T20:02:29.441571",
     "status": "completed"
    },
    "tags": []
   },
   "outputs": [
    {
     "data": {
      "text/plain": [
       "'nan'"
      ]
     },
     "execution_count": 7,
     "metadata": {},
     "output_type": "execute_result"
    }
   ],
   "source": [
    "str(min_value)"
   ]
  },
  {
   "cell_type": "code",
   "execution_count": 8,
   "id": "e17d2e26241ceba9",
   "metadata": {
    "ExecuteTime": {
     "end_time": "2024-08-19T10:00:44.811545Z",
     "start_time": "2024-08-19T10:00:44.808595Z"
    },
    "execution": {
     "iopub.execute_input": "2024-08-19T20:02:29.449330Z",
     "iopub.status.busy": "2024-08-19T20:02:29.449157Z",
     "iopub.status.idle": "2024-08-19T20:02:29.451386Z",
     "shell.execute_reply": "2024-08-19T20:02:29.451159Z"
    },
    "papermill": {
     "duration": 0.00471,
     "end_time": "2024-08-19T20:02:29.452164",
     "exception": false,
     "start_time": "2024-08-19T20:02:29.447454",
     "status": "completed"
    },
    "tags": []
   },
   "outputs": [
    {
     "data": {
      "text/plain": [
       "True"
      ]
     },
     "execution_count": 8,
     "metadata": {},
     "output_type": "execute_result"
    }
   ],
   "source": [
    "import math\n",
    "math.isnan(min_value)"
   ]
  }
 ],
 "metadata": {
  "kernelspec": {
   "display_name": "Python 3",
   "language": "python",
   "name": "python3"
  },
  "language_info": {
   "codemirror_mode": {
    "name": "ipython",
    "version": 3
   },
   "file_extension": ".py",
   "mimetype": "text/x-python",
   "name": "python",
   "nbconvert_exporter": "python",
   "pygments_lexer": "ipython3",
   "version": "3.12.2"
  },
  "papermill": {
   "default_parameters": {},
   "duration": 1.427952,
   "end_time": "2024-08-19T20:02:29.669811",
   "environment_variables": {},
   "exception": null,
   "input_path": "./notebooks/ReadHeadsFileOfFailedCalculation.ipynb",
   "output_path": "./notebooks/ReadHeadsFileOfFailedCalculation.ipynb",
   "parameters": {},
   "start_time": "2024-08-19T20:02:28.241859",
   "version": "2.6.0"
  }
 },
 "nbformat": 4,
 "nbformat_minor": 5
}