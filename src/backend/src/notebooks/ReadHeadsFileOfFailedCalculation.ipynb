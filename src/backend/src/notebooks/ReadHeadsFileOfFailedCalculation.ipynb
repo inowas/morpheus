{
 "cells": [
  {
   "cell_type": "code",
   "id": "initial_id",
   "metadata": {
    "collapsed": true,
    "ExecuteTime": {
     "end_time": "2024-06-28T21:29:46.359233Z",
     "start_time": "2024-06-28T21:29:45.489625Z"
    }
   },
   "source": [
    "import numpy as np\n",
    "import os\n",
    "import flopy as fp\n",
    "\n",
    "notebook_path = os.getcwd()\n",
    "if not notebook_path.endswith('notebooks'):\n",
    "  notebook_path = os.path.join(notebook_path, 'notebooks')"
   ],
   "outputs": [],
   "execution_count": 1
  },
  {
   "metadata": {
    "ExecuteTime": {
     "end_time": "2024-06-28T21:29:46.363149Z",
     "start_time": "2024-06-28T21:29:46.360222Z"
    }
   },
   "cell_type": "code",
   "source": [
    "notebook_path = os.getcwd()\n",
    "if not notebook_path.endswith('notebooks'):\n",
    "  notebook_path = os.path.join(notebook_path, 'notebooks')\n",
    "    \n",
    "# Read the shapefile\n",
    "head_file = os.path.join(notebook_path, 'assets', 'headfiles', 'mf2005.hds')\n",
    "\n",
    "\n",
    "head_file = fp.utils.binaryfile.HeadFile(head_file)"
   ],
   "id": "db540e78b6fc73d9",
   "outputs": [],
   "execution_count": 2
  },
  {
   "metadata": {
    "ExecuteTime": {
     "end_time": "2024-06-28T21:29:46.366844Z",
     "start_time": "2024-06-28T21:29:46.363858Z"
    }
   },
   "cell_type": "code",
   "source": "all_data = head_file.get_alldata()",
   "id": "5a4877e53bf682fd",
   "outputs": [],
   "execution_count": 3
  },
  {
   "metadata": {
    "ExecuteTime": {
     "end_time": "2024-06-28T21:29:46.371414Z",
     "start_time": "2024-06-28T21:29:46.367665Z"
    }
   },
   "cell_type": "code",
   "source": "all_data.shape",
   "id": "b2235f452655509",
   "outputs": [
    {
     "data": {
      "text/plain": [
       "(7, 1, 50, 100)"
      ]
     },
     "execution_count": 4,
     "metadata": {},
     "output_type": "execute_result"
    }
   ],
   "execution_count": 4
  },
  {
   "metadata": {
    "ExecuteTime": {
     "end_time": "2024-06-28T21:29:46.375264Z",
     "start_time": "2024-06-28T21:29:46.372745Z"
    }
   },
   "cell_type": "code",
   "source": [
    "min_value = np.nanmin(all_data)\n",
    "min_value"
   ],
   "id": "ecbdd18940793ae",
   "outputs": [
    {
     "data": {
      "text/plain": [
       "nan"
      ]
     },
     "execution_count": 5,
     "metadata": {},
     "output_type": "execute_result"
    }
   ],
   "execution_count": 5
  },
  {
   "metadata": {
    "ExecuteTime": {
     "end_time": "2024-06-28T21:29:46.377943Z",
     "start_time": "2024-06-28T21:29:46.375875Z"
    }
   },
   "cell_type": "code",
   "source": "type(min_value)",
   "id": "60da611fa4a41103",
   "outputs": [
    {
     "data": {
      "text/plain": [
       "numpy.float32"
      ]
     },
     "execution_count": 6,
     "metadata": {},
     "output_type": "execute_result"
    }
   ],
   "execution_count": 6
  },
  {
   "metadata": {
    "ExecuteTime": {
     "end_time": "2024-06-28T21:29:46.380708Z",
     "start_time": "2024-06-28T21:29:46.378691Z"
    }
   },
   "cell_type": "code",
   "source": "str(min_value)",
   "id": "d739a966b6e1fa97",
   "outputs": [
    {
     "data": {
      "text/plain": [
       "'nan'"
      ]
     },
     "execution_count": 7,
     "metadata": {},
     "output_type": "execute_result"
    }
   ],
   "execution_count": 7
  },
  {
   "metadata": {
    "ExecuteTime": {
     "end_time": "2024-06-28T21:29:46.383263Z",
     "start_time": "2024-06-28T21:29:46.381331Z"
    }
   },
   "cell_type": "code",
   "source": [
    "import math\n",
    "math.isnan(min_value)"
   ],
   "id": "e17d2e26241ceba9",
   "outputs": [
    {
     "data": {
      "text/plain": [
       "True"
      ]
     },
     "execution_count": 8,
     "metadata": {},
     "output_type": "execute_result"
    }
   ],
   "execution_count": 8
  }
 ],
 "metadata": {
  "kernelspec": {
   "display_name": "Python 3",
   "language": "python",
   "name": "python3"
  },
  "language_info": {
   "codemirror_mode": {
    "name": "ipython",
    "version": 2
   },
   "file_extension": ".py",
   "mimetype": "text/x-python",
   "name": "python",
   "nbconvert_exporter": "python",
   "pygments_lexer": "ipython2",
   "version": "2.7.6"
  }
 },
 "nbformat": 4,
 "nbformat_minor": 5
}
