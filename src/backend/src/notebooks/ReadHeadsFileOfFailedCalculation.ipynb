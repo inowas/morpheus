{
 "cells": [
  {
   "cell_type": "code",
   "execution_count": 1,
   "id": "initial_id",
   "metadata": {
    "ExecuteTime": {
     "end_time": "2024-08-19T10:00:44.777655Z",
     "start_time": "2024-08-19T10:00:44.010061Z"
    },
    "collapsed": true,
    "execution": {
     "iopub.execute_input": "2024-08-19T20:26:18.808887Z",
     "iopub.status.busy": "2024-08-19T20:26:18.808538Z",
     "iopub.status.idle": "2024-08-19T20:26:19.459998Z",
     "shell.execute_reply": "2024-08-19T20:26:19.459648Z"
    },
    "papermill": {
     "duration": 0.661493,
     "end_time": "2024-08-19T20:26:19.461294",
     "exception": false,
     "start_time": "2024-08-19T20:26:18.799801",
     "status": "completed"
    },
    "tags": []
   },
   "outputs": [],
   "source": [
    "import numpy as np\n",
    "import os\n",
    "import flopy as fp\n",
    "\n",
    "notebook_path = os.getcwd()\n",
    "if not notebook_path.endswith('notebooks'):\n",
    "  notebook_path = os.path.join(notebook_path, 'notebooks')"
   ]
  },
  {
   "cell_type": "code",
   "execution_count": 2,
   "id": "db540e78b6fc73d9",
   "metadata": {
    "ExecuteTime": {
     "end_time": "2024-08-19T10:00:44.782389Z",
     "start_time": "2024-08-19T10:00:44.778799Z"
    },
    "execution": {
     "iopub.execute_input": "2024-08-19T20:26:19.464399Z",
     "iopub.status.busy": "2024-08-19T20:26:19.464210Z",
     "iopub.status.idle": "2024-08-19T20:26:19.468346Z",
     "shell.execute_reply": "2024-08-19T20:26:19.468077Z"
    },
    "papermill": {
     "duration": 0.006614,
     "end_time": "2024-08-19T20:26:19.469271",
     "exception": false,
     "start_time": "2024-08-19T20:26:19.462657",
     "status": "completed"
    },
    "tags": []
   },
   "outputs": [],
   "source": [
    "notebook_path = os.getcwd()\n",
    "if not notebook_path.endswith('notebooks'):\n",
    "  notebook_path = os.path.join(notebook_path, 'notebooks')\n",
    "    \n",
    "# Read the shapefile\n",
    "head_file = os.path.join(notebook_path, 'assets', 'headfiles', 'mf2005.hds')\n",
    "\n",
    "\n",
    "head_file = fp.utils.binaryfile.HeadFile(head_file)"
   ]
  },
  {
   "cell_type": "code",
   "execution_count": 3,
   "id": "5a4877e53bf682fd",
   "metadata": {
    "ExecuteTime": {
     "end_time": "2024-08-19T10:00:44.785074Z",
     "start_time": "2024-08-19T10:00:44.783076Z"
    },
    "execution": {
     "iopub.execute_input": "2024-08-19T20:26:19.471881Z",
     "iopub.status.busy": "2024-08-19T20:26:19.471771Z",
     "iopub.status.idle": "2024-08-19T20:26:19.473972Z",
     "shell.execute_reply": "2024-08-19T20:26:19.473707Z"
    },
    "papermill": {
     "duration": 0.004397,
     "end_time": "2024-08-19T20:26:19.474794",
     "exception": false,
     "start_time": "2024-08-19T20:26:19.470397",
     "status": "completed"
    },
    "tags": []
   },
   "outputs": [],
   "source": [
    "all_data = head_file.get_alldata()"
   ]
  },
  {
   "cell_type": "code",
   "execution_count": 4,
   "id": "b2235f452655509",
   "metadata": {
    "ExecuteTime": {
     "end_time": "2024-08-19T10:00:44.789228Z",
     "start_time": "2024-08-19T10:00:44.785587Z"
    },
    "execution": {
     "iopub.execute_input": "2024-08-19T20:26:19.477615Z",
     "iopub.status.busy": "2024-08-19T20:26:19.477489Z",
     "iopub.status.idle": "2024-08-19T20:26:19.480501Z",
     "shell.execute_reply": "2024-08-19T20:26:19.480262Z"
    },
    "papermill": {
     "duration": 0.005588,
     "end_time": "2024-08-19T20:26:19.481478",
     "exception": false,
     "start_time": "2024-08-19T20:26:19.475890",
     "status": "completed"
    },
    "tags": []
   },
   "outputs": [
    {
     "data": {
      "text/plain": [
       "(7, 1, 50, 100)"
      ]
     },
     "execution_count": 4,
     "metadata": {},
     "output_type": "execute_result"
    }
   ],
   "source": [
    "all_data.shape"
   ]
  },
  {
   "cell_type": "code",
   "execution_count": 5,
   "id": "ecbdd18940793ae",
   "metadata": {
    "ExecuteTime": {
     "end_time": "2024-08-19T10:00:44.793782Z",
     "start_time": "2024-08-19T10:00:44.791110Z"
    },
    "execution": {
     "iopub.execute_input": "2024-08-19T20:26:19.484862Z",
     "iopub.status.busy": "2024-08-19T20:26:19.484381Z",
     "iopub.status.idle": "2024-08-19T20:26:19.487841Z",
     "shell.execute_reply": "2024-08-19T20:26:19.487176Z"
    },
    "papermill": {
     "duration": 0.006174,
     "end_time": "2024-08-19T20:26:19.488886",
     "exception": false,
     "start_time": "2024-08-19T20:26:19.482712",
     "status": "completed"
    },
    "tags": []
   },
   "outputs": [
    {
     "data": {
      "text/plain": [
       "nan"
      ]
     },
     "execution_count": 5,
     "metadata": {},
     "output_type": "execute_result"
    }
   ],
   "source": [
    "min_value = np.nanmin(all_data)\n",
    "min_value"
   ]
  },
  {
   "cell_type": "code",
   "execution_count": 6,
   "id": "60da611fa4a41103",
   "metadata": {
    "ExecuteTime": {
     "end_time": "2024-08-19T10:00:44.803861Z",
     "start_time": "2024-08-19T10:00:44.794622Z"
    },
    "execution": {
     "iopub.execute_input": "2024-08-19T20:26:19.492438Z",
     "iopub.status.busy": "2024-08-19T20:26:19.491938Z",
     "iopub.status.idle": "2024-08-19T20:26:19.497284Z",
     "shell.execute_reply": "2024-08-19T20:26:19.496991Z"
    },
    "papermill": {
     "duration": 0.00795,
     "end_time": "2024-08-19T20:26:19.498219",
     "exception": false,
     "start_time": "2024-08-19T20:26:19.490269",
     "status": "completed"
    },
    "tags": []
   },
   "outputs": [
    {
     "data": {
      "text/plain": [
       "numpy.float32"
      ]
     },
     "execution_count": 6,
     "metadata": {},
     "output_type": "execute_result"
    }
   ],
   "source": [
    "type(min_value)"
   ]
  },
  {
   "cell_type": "code",
   "execution_count": 7,
   "id": "d739a966b6e1fa97",
   "metadata": {
    "ExecuteTime": {
     "end_time": "2024-08-19T10:00:44.807785Z",
     "start_time": "2024-08-19T10:00:44.804613Z"
    },
    "execution": {
     "iopub.execute_input": "2024-08-19T20:26:19.501767Z",
     "iopub.status.busy": "2024-08-19T20:26:19.501606Z",
     "iopub.status.idle": "2024-08-19T20:26:19.503766Z",
     "shell.execute_reply": "2024-08-19T20:26:19.503536Z"
    },
    "papermill": {
     "duration": 0.004689,
     "end_time": "2024-08-19T20:26:19.504592",
     "exception": false,
     "start_time": "2024-08-19T20:26:19.499903",
     "status": "completed"
    },
    "tags": []
   },
   "outputs": [
    {
     "data": {
      "text/plain": [
       "'nan'"
      ]
     },
     "execution_count": 7,
     "metadata": {},
     "output_type": "execute_result"
    }
   ],
   "source": [
    "str(min_value)"
   ]
  },
  {
   "cell_type": "code",
   "execution_count": 8,
   "id": "e17d2e26241ceba9",
   "metadata": {
    "ExecuteTime": {
     "end_time": "2024-08-19T10:00:44.811545Z",
     "start_time": "2024-08-19T10:00:44.808595Z"
    },
    "execution": {
     "iopub.execute_input": "2024-08-19T20:26:19.508062Z",
     "iopub.status.busy": "2024-08-19T20:26:19.507919Z",
     "iopub.status.idle": "2024-08-19T20:26:19.511058Z",
     "shell.execute_reply": "2024-08-19T20:26:19.510185Z"
    },
    "papermill": {
     "duration": 0.006129,
     "end_time": "2024-08-19T20:26:19.512238",
     "exception": false,
     "start_time": "2024-08-19T20:26:19.506109",
     "status": "completed"
    },
    "tags": []
   },
   "outputs": [
    {
     "data": {
      "text/plain": [
       "True"
      ]
     },
     "execution_count": 8,
     "metadata": {},
     "output_type": "execute_result"
    }
   ],
   "source": [
    "import math\n",
    "math.isnan(min_value)"
   ]
  }
 ],
 "metadata": {
  "kernelspec": {
   "display_name": "Python 3",
   "language": "python",
   "name": "python3"
  },
  "language_info": {
   "codemirror_mode": {
    "name": "ipython",
    "version": 3
   },
   "file_extension": ".py",
   "mimetype": "text/x-python",
   "name": "python",
   "nbconvert_exporter": "python",
   "pygments_lexer": "ipython3",
   "version": "3.12.2"
  },
  "papermill": {
   "default_parameters": {},
   "duration": 1.641074,
   "end_time": "2024-08-19T20:26:19.732863",
   "environment_variables": {},
   "exception": null,
   "input_path": "./notebooks/ReadHeadsFileOfFailedCalculation.ipynb",
   "output_path": "./notebooks/ReadHeadsFileOfFailedCalculation.ipynb",
   "parameters": {},
   "start_time": "2024-08-19T20:26:18.091789",
   "version": "2.6.0"
  }
 },
 "nbformat": 4,
 "nbformat_minor": 5
}