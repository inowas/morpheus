{
 "cells": [
  {
   "cell_type": "code",
   "execution_count": 1,
   "id": "initial_id",
   "metadata": {
    "ExecuteTime": {
     "end_time": "2024-08-19T10:00:44.777655Z",
     "start_time": "2024-08-19T10:00:44.010061Z"
    },
    "collapsed": true,
    "execution": {
     "iopub.execute_input": "2024-08-21T20:29:23.270956Z",
     "iopub.status.busy": "2024-08-21T20:29:23.270777Z",
     "iopub.status.idle": "2024-08-21T20:29:23.933905Z",
     "shell.execute_reply": "2024-08-21T20:29:23.933645Z"
    },
    "papermill": {
     "duration": 0.66692,
     "end_time": "2024-08-21T20:29:23.934990",
     "exception": false,
     "start_time": "2024-08-21T20:29:23.268070",
     "status": "completed"
    },
    "tags": []
   },
   "outputs": [],
   "source": [
    "import numpy as np\n",
    "import os\n",
    "import flopy as fp\n",
    "\n",
    "notebook_path = os.getcwd()\n",
    "if not notebook_path.endswith('notebooks'):\n",
    "  notebook_path = os.path.join(notebook_path, 'notebooks')"
   ]
  },
  {
   "cell_type": "code",
   "execution_count": 2,
   "id": "db540e78b6fc73d9",
   "metadata": {
    "ExecuteTime": {
     "end_time": "2024-08-19T10:00:44.782389Z",
     "start_time": "2024-08-19T10:00:44.778799Z"
    },
    "execution": {
     "iopub.execute_input": "2024-08-21T20:29:23.937760Z",
     "iopub.status.busy": "2024-08-21T20:29:23.937519Z",
     "iopub.status.idle": "2024-08-21T20:29:23.941472Z",
     "shell.execute_reply": "2024-08-21T20:29:23.941254Z"
    },
    "papermill": {
     "duration": 0.006067,
     "end_time": "2024-08-21T20:29:23.942204",
     "exception": false,
     "start_time": "2024-08-21T20:29:23.936137",
     "status": "completed"
    },
    "tags": []
   },
   "outputs": [],
   "source": [
    "notebook_path = os.getcwd()\n",
    "if not notebook_path.endswith('notebooks'):\n",
    "  notebook_path = os.path.join(notebook_path, 'notebooks')\n",
    "    \n",
    "# Read the shapefile\n",
    "head_file = os.path.join(notebook_path, 'assets', 'headfiles', 'mf2005.hds')\n",
    "\n",
    "\n",
    "head_file = fp.utils.binaryfile.HeadFile(head_file)"
   ]
  },
  {
   "cell_type": "code",
   "execution_count": 3,
   "id": "5a4877e53bf682fd",
   "metadata": {
    "ExecuteTime": {
     "end_time": "2024-08-19T10:00:44.785074Z",
     "start_time": "2024-08-19T10:00:44.783076Z"
    },
    "execution": {
     "iopub.execute_input": "2024-08-21T20:29:23.944478Z",
     "iopub.status.busy": "2024-08-21T20:29:23.944370Z",
     "iopub.status.idle": "2024-08-21T20:29:23.946411Z",
     "shell.execute_reply": "2024-08-21T20:29:23.946186Z"
    },
    "papermill": {
     "duration": 0.004044,
     "end_time": "2024-08-21T20:29:23.947186",
     "exception": false,
     "start_time": "2024-08-21T20:29:23.943142",
     "status": "completed"
    },
    "tags": []
   },
   "outputs": [],
   "source": [
    "all_data = head_file.get_alldata()"
   ]
  },
  {
   "cell_type": "code",
   "execution_count": 4,
   "id": "b2235f452655509",
   "metadata": {
    "ExecuteTime": {
     "end_time": "2024-08-19T10:00:44.789228Z",
     "start_time": "2024-08-19T10:00:44.785587Z"
    },
    "execution": {
     "iopub.execute_input": "2024-08-21T20:29:23.949616Z",
     "iopub.status.busy": "2024-08-21T20:29:23.949430Z",
     "iopub.status.idle": "2024-08-21T20:29:23.952417Z",
     "shell.execute_reply": "2024-08-21T20:29:23.952192Z"
    },
    "papermill": {
     "duration": 0.005032,
     "end_time": "2024-08-21T20:29:23.953218",
     "exception": false,
     "start_time": "2024-08-21T20:29:23.948186",
     "status": "completed"
    },
    "tags": []
   },
   "outputs": [
    {
     "data": {
      "text/plain": [
       "(7, 1, 50, 100)"
      ]
     },
     "execution_count": 4,
     "metadata": {},
     "output_type": "execute_result"
    }
   ],
   "source": [
    "all_data.shape"
   ]
  },
  {
   "cell_type": "code",
   "execution_count": 5,
   "id": "ecbdd18940793ae",
   "metadata": {
    "ExecuteTime": {
     "end_time": "2024-08-19T10:00:44.793782Z",
     "start_time": "2024-08-19T10:00:44.791110Z"
    },
    "execution": {
     "iopub.execute_input": "2024-08-21T20:29:23.955640Z",
     "iopub.status.busy": "2024-08-21T20:29:23.955535Z",
     "iopub.status.idle": "2024-08-21T20:29:23.957594Z",
     "shell.execute_reply": "2024-08-21T20:29:23.957390Z"
    },
    "papermill": {
     "duration": 0.004132,
     "end_time": "2024-08-21T20:29:23.958353",
     "exception": false,
     "start_time": "2024-08-21T20:29:23.954221",
     "status": "completed"
    },
    "tags": []
   },
   "outputs": [
    {
     "data": {
      "text/plain": [
       "nan"
      ]
     },
     "execution_count": 5,
     "metadata": {},
     "output_type": "execute_result"
    }
   ],
   "source": [
    "min_value = np.nanmin(all_data)\n",
    "min_value"
   ]
  },
  {
   "cell_type": "code",
   "execution_count": 6,
   "id": "60da611fa4a41103",
   "metadata": {
    "ExecuteTime": {
     "end_time": "2024-08-19T10:00:44.803861Z",
     "start_time": "2024-08-19T10:00:44.794622Z"
    },
    "execution": {
     "iopub.execute_input": "2024-08-21T20:29:23.960900Z",
     "iopub.status.busy": "2024-08-21T20:29:23.960806Z",
     "iopub.status.idle": "2024-08-21T20:29:23.962785Z",
     "shell.execute_reply": "2024-08-21T20:29:23.962538Z"
    },
    "papermill": {
     "duration": 0.004131,
     "end_time": "2024-08-21T20:29:23.963589",
     "exception": false,
     "start_time": "2024-08-21T20:29:23.959458",
     "status": "completed"
    },
    "tags": []
   },
   "outputs": [
    {
     "data": {
      "text/plain": [
       "numpy.float32"
      ]
     },
     "execution_count": 6,
     "metadata": {},
     "output_type": "execute_result"
    }
   ],
   "source": [
    "type(min_value)"
   ]
  },
  {
   "cell_type": "code",
   "execution_count": 7,
   "id": "d739a966b6e1fa97",
   "metadata": {
    "ExecuteTime": {
     "end_time": "2024-08-19T10:00:44.807785Z",
     "start_time": "2024-08-19T10:00:44.804613Z"
    },
    "execution": {
     "iopub.execute_input": "2024-08-21T20:29:23.966633Z",
     "iopub.status.busy": "2024-08-21T20:29:23.966508Z",
     "iopub.status.idle": "2024-08-21T20:29:23.968393Z",
     "shell.execute_reply": "2024-08-21T20:29:23.968193Z"
    },
    "papermill": {
     "duration": 0.004428,
     "end_time": "2024-08-21T20:29:23.969164",
     "exception": false,
     "start_time": "2024-08-21T20:29:23.964736",
     "status": "completed"
    },
    "tags": []
   },
   "outputs": [
    {
     "data": {
      "text/plain": [
       "'nan'"
      ]
     },
     "execution_count": 7,
     "metadata": {},
     "output_type": "execute_result"
    }
   ],
   "source": [
    "str(min_value)"
   ]
  },
  {
   "cell_type": "code",
   "execution_count": 8,
   "id": "e17d2e26241ceba9",
   "metadata": {
    "ExecuteTime": {
     "end_time": "2024-08-19T10:00:44.811545Z",
     "start_time": "2024-08-19T10:00:44.808595Z"
    },
    "execution": {
     "iopub.execute_input": "2024-08-21T20:29:23.971954Z",
     "iopub.status.busy": "2024-08-21T20:29:23.971863Z",
     "iopub.status.idle": "2024-08-21T20:29:23.973709Z",
     "shell.execute_reply": "2024-08-21T20:29:23.973482Z"
    },
    "papermill": {
     "duration": 0.004092,
     "end_time": "2024-08-21T20:29:23.974483",
     "exception": false,
     "start_time": "2024-08-21T20:29:23.970391",
     "status": "completed"
    },
    "tags": []
   },
   "outputs": [
    {
     "data": {
      "text/plain": [
       "True"
      ]
     },
     "execution_count": 8,
     "metadata": {},
     "output_type": "execute_result"
    }
   ],
   "source": [
    "import math\n",
    "math.isnan(min_value)"
   ]
  }
 ],
 "metadata": {
  "kernelspec": {
   "display_name": "Python 3",
   "language": "python",
   "name": "python3"
  },
  "language_info": {
   "codemirror_mode": {
    "name": "ipython",
    "version": 3
   },
   "file_extension": ".py",
   "mimetype": "text/x-python",
   "name": "python",
   "nbconvert_exporter": "python",
   "pygments_lexer": "ipython3",
   "version": "3.12.2"
  },
  "papermill": {
   "default_parameters": {},
   "duration": 1.66916,
   "end_time": "2024-08-21T20:29:24.191583",
   "environment_variables": {},
   "exception": null,
   "input_path": "./notebooks/ReadHeadsFileOfFailedCalculation.ipynb",
   "output_path": "./notebooks/ReadHeadsFileOfFailedCalculation.ipynb",
   "parameters": {},
   "start_time": "2024-08-21T20:29:22.522423",
   "version": "2.6.0"
  }
 },
 "nbformat": 4,
 "nbformat_minor": 5
}