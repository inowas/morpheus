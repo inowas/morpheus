{
 "cells": [
  {
   "cell_type": "code",
   "source": [
    "import sys\n",
    "\n",
    "sys.path.insert(0, '..')\n",
    "\n",
    "#!{sys.executable} -m pip install folium\n",
    "#!{sys.executable} -m pip install openapi_core\n"
   ],
   "metadata": {
    "collapsed": false,
    "ExecuteTime": {
     "end_time": "2024-04-22T14:07:11.361565Z",
     "start_time": "2024-04-22T14:07:11.354796Z"
    }
   },
   "id": "ba6761fae9d5e5cb",
   "outputs": [],
   "execution_count": 1
  },
  {
   "cell_type": "code",
   "source": [
    "from morpheus.project.types.discretization.spatial import Rotation, LengthUnit, Grid\n",
    "from morpheus.project.types.geometry import Polygon\n",
    "\n",
    "polygon = Polygon(\n",
    "  type='Polygon',\n",
    "  coordinates=[[\n",
    "    (13.922514437551428, 50.964720483303836),\n",
    "    (13.925250781947113, 50.965228748412386),\n",
    "    (13.925036413951403, 50.96623732041704),\n",
    "    (13.92222441026388, 50.96609040370362),\n",
    "    (13.922514437551428, 50.964720483303836)\n",
    "  ]]\n",
    ")\n",
    "\n",
    "rotation = Rotation(20)\n",
    "length_unit = LengthUnit.meters()\n",
    "relative_col_coordinates = [0, 0.1, 0.21, 0.22, 0.23, 0.24, 0.25, 0.3, 0.4, 0.5, 0.6, 0.7, 0.8, 0.9, 1]\n",
    "relative_row_coordinates = [0, 0.2, 0.21, 0.22, 0.23, 0.24, 0.25, 0.3, 0.4, 0.5, 0.6, 0.7, 1]\n",
    "\n",
    "grid = Grid.from_polygon_with_relative_coordinates(\n",
    "  polygon=polygon,\n",
    "  relative_col_coordinates=relative_col_coordinates,\n",
    "  relative_row_coordinates=relative_row_coordinates,\n",
    "  rotation=rotation,\n",
    ")\n",
    "polygon"
   ],
   "metadata": {
    "collapsed": false,
    "ExecuteTime": {
     "end_time": "2024-04-22T14:07:11.539750Z",
     "start_time": "2024-04-22T14:07:11.363022Z"
    }
   },
   "id": "2f69504ab35487aa",
   "outputs": [
    {
     "data": {
      "text/plain": [
       "Polygon(coordinates=[[(13.922514437551428, 50.964720483303836), (13.925250781947113, 50.965228748412386), (13.925036413951403, 50.96623732041704), (13.92222441026388, 50.96609040370362), (13.922514437551428, 50.964720483303836)]], type='Polygon')"
      ]
     },
     "execution_count": 2,
     "metadata": {},
     "output_type": "execute_result"
    }
   ],
   "execution_count": 2
  },
  {
   "metadata": {
    "ExecuteTime": {
     "end_time": "2024-04-22T14:07:11.569089Z",
     "start_time": "2024-04-22T14:07:11.541878Z"
    }
   },
   "cell_type": "code",
   "source": "grid.get_wgs_coordinates()",
   "id": "632948c83a9e18e4",
   "outputs": [
    {
     "data": {
      "text/plain": [
       "([13.92201083954258,\n",
       "  13.922325948095247,\n",
       "  13.922506010125344,\n",
       "  13.922536020463694,\n",
       "  13.922566030802043,\n",
       "  13.922596041140393,\n",
       "  13.922686072155441,\n",
       "  13.92291114969306,\n",
       "  13.923211253076555,\n",
       "  13.923511356460047,\n",
       "  13.923811459843542,\n",
       "  13.924111563227036,\n",
       "  13.924411666610526,\n",
       "  13.92471176999402],\n",
       " [50.9658859127032,\n",
       "  50.96574170338251,\n",
       "  50.96572796913816,\n",
       "  50.96571423488973,\n",
       "  50.96570050063724,\n",
       "  50.96568676638068,\n",
       "  50.965645563586676,\n",
       "  50.96554255644179,\n",
       "  50.96540521322662,\n",
       "  50.9652678696054,\n",
       "  50.96513052557811,\n",
       "  50.96485583630537])"
      ]
     },
     "execution_count": 3,
     "metadata": {},
     "output_type": "execute_result"
    }
   ],
   "execution_count": 3
  },
  {
   "metadata": {
    "ExecuteTime": {
     "end_time": "2024-04-22T14:07:11.582098Z",
     "start_time": "2024-04-22T14:07:11.571814Z"
    }
   },
   "cell_type": "code",
   "source": "grid.bbox()",
   "id": "caf58b5c5e5d254e",
   "outputs": [
    {
     "data": {
      "text/plain": [
       "(13.921781413845427, 50.96461542216845, 13.925576187734443, 50.96667675655004)"
      ]
     },
     "execution_count": 4,
     "metadata": {},
     "output_type": "execute_result"
    }
   ],
   "execution_count": 4
  },
  {
   "metadata": {
    "ExecuteTime": {
     "end_time": "2024-04-22T14:07:11.587779Z",
     "start_time": "2024-04-22T14:07:11.585334Z"
    }
   },
   "cell_type": "code",
   "source": "",
   "id": "11bb24d116c634c4",
   "outputs": [],
   "execution_count": 4
  },
  {
   "metadata": {
    "ExecuteTime": {
     "end_time": "2024-04-22T14:07:11.594941Z",
     "start_time": "2024-04-22T14:07:11.590412Z"
    }
   },
   "cell_type": "code",
   "source": "",
   "id": "836bf81dcc3f9e55",
   "outputs": [],
   "execution_count": 4
  },
  {
   "cell_type": "code",
   "source": [
    "import folium\n",
    "\n",
    "m = folium.Map(crs=\"EPSG3857\", zoom_start=12, location=[50.965, 13.922])\n",
    "m.add_child(folium.GeoJson(polygon.as_geojson()))\n",
    "m.fit_bounds(m.get_bounds())\n",
    "m"
   ],
   "metadata": {
    "collapsed": false,
    "ExecuteTime": {
     "end_time": "2024-04-22T14:07:12.344820Z",
     "start_time": "2024-04-22T14:07:11.597118Z"
    }
   },
   "id": "1540b870ae83f298",
   "outputs": [
    {
     "data": {
      "text/plain": [
       "<folium.folium.Map at 0x10b1c6990>"
      ],
      "text/html": [
       "<div style=\"width:100%;\"><div style=\"position:relative;width:100%;height:0;padding-bottom:60%;\"><span style=\"color:#565656\">Make this Notebook Trusted to load map: File -> Trust Notebook</span><iframe srcdoc=\"&lt;!DOCTYPE html&gt;\n",
       "&lt;html&gt;\n",
       "&lt;head&gt;\n",
       "    \n",
       "    &lt;meta http-equiv=&quot;content-type&quot; content=&quot;text/html; charset=UTF-8&quot; /&gt;\n",
       "    \n",
       "        &lt;script&gt;\n",
       "            L_NO_TOUCH = false;\n",
       "            L_DISABLE_3D = false;\n",
       "        &lt;/script&gt;\n",
       "    \n",
       "    &lt;style&gt;html, body {width: 100%;height: 100%;margin: 0;padding: 0;}&lt;/style&gt;\n",
       "    &lt;style&gt;#map {position:absolute;top:0;bottom:0;right:0;left:0;}&lt;/style&gt;\n",
       "    &lt;script src=&quot;https://cdn.jsdelivr.net/npm/leaflet@1.9.3/dist/leaflet.js&quot;&gt;&lt;/script&gt;\n",
       "    &lt;script src=&quot;https://code.jquery.com/jquery-3.7.1.min.js&quot;&gt;&lt;/script&gt;\n",
       "    &lt;script src=&quot;https://cdn.jsdelivr.net/npm/bootstrap@5.2.2/dist/js/bootstrap.bundle.min.js&quot;&gt;&lt;/script&gt;\n",
       "    &lt;script src=&quot;https://cdnjs.cloudflare.com/ajax/libs/Leaflet.awesome-markers/2.0.2/leaflet.awesome-markers.js&quot;&gt;&lt;/script&gt;\n",
       "    &lt;link rel=&quot;stylesheet&quot; href=&quot;https://cdn.jsdelivr.net/npm/leaflet@1.9.3/dist/leaflet.css&quot;/&gt;\n",
       "    &lt;link rel=&quot;stylesheet&quot; href=&quot;https://cdn.jsdelivr.net/npm/bootstrap@5.2.2/dist/css/bootstrap.min.css&quot;/&gt;\n",
       "    &lt;link rel=&quot;stylesheet&quot; href=&quot;https://netdna.bootstrapcdn.com/bootstrap/3.0.0/css/bootstrap.min.css&quot;/&gt;\n",
       "    &lt;link rel=&quot;stylesheet&quot; href=&quot;https://cdn.jsdelivr.net/npm/@fortawesome/fontawesome-free@6.2.0/css/all.min.css&quot;/&gt;\n",
       "    &lt;link rel=&quot;stylesheet&quot; href=&quot;https://cdnjs.cloudflare.com/ajax/libs/Leaflet.awesome-markers/2.0.2/leaflet.awesome-markers.css&quot;/&gt;\n",
       "    &lt;link rel=&quot;stylesheet&quot; href=&quot;https://cdn.jsdelivr.net/gh/python-visualization/folium/folium/templates/leaflet.awesome.rotate.min.css&quot;/&gt;\n",
       "    \n",
       "            &lt;meta name=&quot;viewport&quot; content=&quot;width=device-width,\n",
       "                initial-scale=1.0, maximum-scale=1.0, user-scalable=no&quot; /&gt;\n",
       "            &lt;style&gt;\n",
       "                #map_7b6f3a6e65a19ac9af658573f06b56eb {\n",
       "                    position: relative;\n",
       "                    width: 100.0%;\n",
       "                    height: 100.0%;\n",
       "                    left: 0.0%;\n",
       "                    top: 0.0%;\n",
       "                }\n",
       "                .leaflet-container { font-size: 1rem; }\n",
       "            &lt;/style&gt;\n",
       "        \n",
       "&lt;/head&gt;\n",
       "&lt;body&gt;\n",
       "    \n",
       "    \n",
       "            &lt;div class=&quot;folium-map&quot; id=&quot;map_7b6f3a6e65a19ac9af658573f06b56eb&quot; &gt;&lt;/div&gt;\n",
       "        \n",
       "&lt;/body&gt;\n",
       "&lt;script&gt;\n",
       "    \n",
       "    \n",
       "            var map_7b6f3a6e65a19ac9af658573f06b56eb = L.map(\n",
       "                &quot;map_7b6f3a6e65a19ac9af658573f06b56eb&quot;,\n",
       "                {\n",
       "                    center: [50.965, 13.922],\n",
       "                    crs: L.CRS.EPSG3857,\n",
       "                    zoom: 12,\n",
       "                    zoomControl: true,\n",
       "                    preferCanvas: false,\n",
       "                }\n",
       "            );\n",
       "\n",
       "            \n",
       "\n",
       "        \n",
       "    \n",
       "            var tile_layer_beacc79fcabe254a62b98f292cf5a461 = L.tileLayer(\n",
       "                &quot;https://tile.openstreetmap.org/{z}/{x}/{y}.png&quot;,\n",
       "                {&quot;attribution&quot;: &quot;\\u0026copy; \\u003ca href=\\&quot;https://www.openstreetmap.org/copyright\\&quot;\\u003eOpenStreetMap\\u003c/a\\u003e contributors&quot;, &quot;detectRetina&quot;: false, &quot;maxNativeZoom&quot;: 19, &quot;maxZoom&quot;: 19, &quot;minZoom&quot;: 0, &quot;noWrap&quot;: false, &quot;opacity&quot;: 1, &quot;subdomains&quot;: &quot;abc&quot;, &quot;tms&quot;: false}\n",
       "            );\n",
       "        \n",
       "    \n",
       "            tile_layer_beacc79fcabe254a62b98f292cf5a461.addTo(map_7b6f3a6e65a19ac9af658573f06b56eb);\n",
       "        \n",
       "    \n",
       "\n",
       "        function geo_json_83c505a7aa058b45e88c89ecf390d491_onEachFeature(feature, layer) {\n",
       "            layer.on({\n",
       "            });\n",
       "        };\n",
       "        var geo_json_83c505a7aa058b45e88c89ecf390d491 = L.geoJson(null, {\n",
       "                onEachFeature: geo_json_83c505a7aa058b45e88c89ecf390d491_onEachFeature,\n",
       "            \n",
       "        });\n",
       "\n",
       "        function geo_json_83c505a7aa058b45e88c89ecf390d491_add (data) {\n",
       "            geo_json_83c505a7aa058b45e88c89ecf390d491\n",
       "                .addData(data);\n",
       "        }\n",
       "            geo_json_83c505a7aa058b45e88c89ecf390d491_add({&quot;coordinates&quot;: [[[13.922514437551428, 50.964720483303836], [13.925250781947113, 50.965228748412386], [13.925036413951403, 50.96623732041704], [13.92222441026388, 50.96609040370362], [13.922514437551428, 50.964720483303836]]], &quot;type&quot;: &quot;Polygon&quot;});\n",
       "\n",
       "        \n",
       "    \n",
       "            geo_json_83c505a7aa058b45e88c89ecf390d491.addTo(map_7b6f3a6e65a19ac9af658573f06b56eb);\n",
       "        \n",
       "    \n",
       "            map_7b6f3a6e65a19ac9af658573f06b56eb.fitBounds(\n",
       "                [[50.964720483303836, 13.92222441026388], [50.96623732041704, 13.925250781947113]],\n",
       "                {}\n",
       "            );\n",
       "        \n",
       "&lt;/script&gt;\n",
       "&lt;/html&gt;\" style=\"position:absolute;width:100%;height:100%;left:0;top:0;border:none !important;\" allowfullscreen webkitallowfullscreen mozallowfullscreen></iframe></div></div>"
      ]
     },
     "execution_count": 5,
     "metadata": {},
     "output_type": "execute_result"
    }
   ],
   "execution_count": 5
  },
  {
   "cell_type": "code",
   "source": [
    "m.add_child(folium.GeoJson(grid.bounding_box_geometry().as_geojson()))\n",
    "m.fit_bounds(m.get_bounds())\n",
    "m"
   ],
   "metadata": {
    "collapsed": false,
    "ExecuteTime": {
     "end_time": "2024-04-22T14:07:12.363344Z",
     "start_time": "2024-04-22T14:07:12.346703Z"
    }
   },
   "id": "24b5f006f83786e0",
   "outputs": [
    {
     "data": {
      "text/plain": [
       "<folium.folium.Map at 0x10b1c6990>"
      ],
      "text/html": [
       "<div style=\"width:100%;\"><div style=\"position:relative;width:100%;height:0;padding-bottom:60%;\"><span style=\"color:#565656\">Make this Notebook Trusted to load map: File -> Trust Notebook</span><iframe srcdoc=\"&lt;!DOCTYPE html&gt;\n",
       "&lt;html&gt;\n",
       "&lt;head&gt;\n",
       "    \n",
       "    &lt;meta http-equiv=&quot;content-type&quot; content=&quot;text/html; charset=UTF-8&quot; /&gt;\n",
       "    \n",
       "        &lt;script&gt;\n",
       "            L_NO_TOUCH = false;\n",
       "            L_DISABLE_3D = false;\n",
       "        &lt;/script&gt;\n",
       "    \n",
       "    &lt;style&gt;html, body {width: 100%;height: 100%;margin: 0;padding: 0;}&lt;/style&gt;\n",
       "    &lt;style&gt;#map {position:absolute;top:0;bottom:0;right:0;left:0;}&lt;/style&gt;\n",
       "    &lt;script src=&quot;https://cdn.jsdelivr.net/npm/leaflet@1.9.3/dist/leaflet.js&quot;&gt;&lt;/script&gt;\n",
       "    &lt;script src=&quot;https://code.jquery.com/jquery-3.7.1.min.js&quot;&gt;&lt;/script&gt;\n",
       "    &lt;script src=&quot;https://cdn.jsdelivr.net/npm/bootstrap@5.2.2/dist/js/bootstrap.bundle.min.js&quot;&gt;&lt;/script&gt;\n",
       "    &lt;script src=&quot;https://cdnjs.cloudflare.com/ajax/libs/Leaflet.awesome-markers/2.0.2/leaflet.awesome-markers.js&quot;&gt;&lt;/script&gt;\n",
       "    &lt;link rel=&quot;stylesheet&quot; href=&quot;https://cdn.jsdelivr.net/npm/leaflet@1.9.3/dist/leaflet.css&quot;/&gt;\n",
       "    &lt;link rel=&quot;stylesheet&quot; href=&quot;https://cdn.jsdelivr.net/npm/bootstrap@5.2.2/dist/css/bootstrap.min.css&quot;/&gt;\n",
       "    &lt;link rel=&quot;stylesheet&quot; href=&quot;https://netdna.bootstrapcdn.com/bootstrap/3.0.0/css/bootstrap.min.css&quot;/&gt;\n",
       "    &lt;link rel=&quot;stylesheet&quot; href=&quot;https://cdn.jsdelivr.net/npm/@fortawesome/fontawesome-free@6.2.0/css/all.min.css&quot;/&gt;\n",
       "    &lt;link rel=&quot;stylesheet&quot; href=&quot;https://cdnjs.cloudflare.com/ajax/libs/Leaflet.awesome-markers/2.0.2/leaflet.awesome-markers.css&quot;/&gt;\n",
       "    &lt;link rel=&quot;stylesheet&quot; href=&quot;https://cdn.jsdelivr.net/gh/python-visualization/folium/folium/templates/leaflet.awesome.rotate.min.css&quot;/&gt;\n",
       "    \n",
       "            &lt;meta name=&quot;viewport&quot; content=&quot;width=device-width,\n",
       "                initial-scale=1.0, maximum-scale=1.0, user-scalable=no&quot; /&gt;\n",
       "            &lt;style&gt;\n",
       "                #map_7b6f3a6e65a19ac9af658573f06b56eb {\n",
       "                    position: relative;\n",
       "                    width: 100.0%;\n",
       "                    height: 100.0%;\n",
       "                    left: 0.0%;\n",
       "                    top: 0.0%;\n",
       "                }\n",
       "                .leaflet-container { font-size: 1rem; }\n",
       "            &lt;/style&gt;\n",
       "        \n",
       "&lt;/head&gt;\n",
       "&lt;body&gt;\n",
       "    \n",
       "    \n",
       "            &lt;div class=&quot;folium-map&quot; id=&quot;map_7b6f3a6e65a19ac9af658573f06b56eb&quot; &gt;&lt;/div&gt;\n",
       "        \n",
       "&lt;/body&gt;\n",
       "&lt;script&gt;\n",
       "    \n",
       "    \n",
       "            var map_7b6f3a6e65a19ac9af658573f06b56eb = L.map(\n",
       "                &quot;map_7b6f3a6e65a19ac9af658573f06b56eb&quot;,\n",
       "                {\n",
       "                    center: [50.965, 13.922],\n",
       "                    crs: L.CRS.EPSG3857,\n",
       "                    zoom: 12,\n",
       "                    zoomControl: true,\n",
       "                    preferCanvas: false,\n",
       "                }\n",
       "            );\n",
       "\n",
       "            \n",
       "\n",
       "        \n",
       "    \n",
       "            var tile_layer_beacc79fcabe254a62b98f292cf5a461 = L.tileLayer(\n",
       "                &quot;https://tile.openstreetmap.org/{z}/{x}/{y}.png&quot;,\n",
       "                {&quot;attribution&quot;: &quot;\\u0026copy; \\u003ca href=\\&quot;https://www.openstreetmap.org/copyright\\&quot;\\u003eOpenStreetMap\\u003c/a\\u003e contributors&quot;, &quot;detectRetina&quot;: false, &quot;maxNativeZoom&quot;: 19, &quot;maxZoom&quot;: 19, &quot;minZoom&quot;: 0, &quot;noWrap&quot;: false, &quot;opacity&quot;: 1, &quot;subdomains&quot;: &quot;abc&quot;, &quot;tms&quot;: false}\n",
       "            );\n",
       "        \n",
       "    \n",
       "            tile_layer_beacc79fcabe254a62b98f292cf5a461.addTo(map_7b6f3a6e65a19ac9af658573f06b56eb);\n",
       "        \n",
       "    \n",
       "\n",
       "        function geo_json_83c505a7aa058b45e88c89ecf390d491_onEachFeature(feature, layer) {\n",
       "            layer.on({\n",
       "            });\n",
       "        };\n",
       "        var geo_json_83c505a7aa058b45e88c89ecf390d491 = L.geoJson(null, {\n",
       "                onEachFeature: geo_json_83c505a7aa058b45e88c89ecf390d491_onEachFeature,\n",
       "            \n",
       "        });\n",
       "\n",
       "        function geo_json_83c505a7aa058b45e88c89ecf390d491_add (data) {\n",
       "            geo_json_83c505a7aa058b45e88c89ecf390d491\n",
       "                .addData(data);\n",
       "        }\n",
       "            geo_json_83c505a7aa058b45e88c89ecf390d491_add({&quot;coordinates&quot;: [[[13.922514437551428, 50.964720483303836], [13.925250781947113, 50.965228748412386], [13.925036413951403, 50.96623732041704], [13.92222441026388, 50.96609040370362], [13.922514437551428, 50.964720483303836]]], &quot;type&quot;: &quot;Polygon&quot;});\n",
       "\n",
       "        \n",
       "    \n",
       "            geo_json_83c505a7aa058b45e88c89ecf390d491.addTo(map_7b6f3a6e65a19ac9af658573f06b56eb);\n",
       "        \n",
       "    \n",
       "            map_7b6f3a6e65a19ac9af658573f06b56eb.fitBounds(\n",
       "                [[50.964720483303836, 13.92222441026388], [50.96623732041704, 13.925250781947113]],\n",
       "                {}\n",
       "            );\n",
       "        \n",
       "    \n",
       "            tile_layer_beacc79fcabe254a62b98f292cf5a461.addTo(map_7b6f3a6e65a19ac9af658573f06b56eb);\n",
       "        \n",
       "    \n",
       "            geo_json_83c505a7aa058b45e88c89ecf390d491.addTo(map_7b6f3a6e65a19ac9af658573f06b56eb);\n",
       "        \n",
       "    \n",
       "\n",
       "        function geo_json_72596c67a35a388fab5f609f13c8f451_onEachFeature(feature, layer) {\n",
       "            layer.on({\n",
       "            });\n",
       "        };\n",
       "        var geo_json_72596c67a35a388fab5f609f13c8f451 = L.geoJson(null, {\n",
       "                onEachFeature: geo_json_72596c67a35a388fab5f609f13c8f451_onEachFeature,\n",
       "            \n",
       "        });\n",
       "\n",
       "        function geo_json_72596c67a35a388fab5f609f13c8f451_add (data) {\n",
       "            geo_json_72596c67a35a388fab5f609f13c8f451\n",
       "                .addData(data);\n",
       "        }\n",
       "            geo_json_72596c67a35a388fab5f609f13c8f451_add({&quot;geometry&quot;: {&quot;coordinates&quot;: [[[13.921781413845427, 50.96598885939762], [13.924782447680359, 50.96667675655004], [13.925576187734443, 50.965303339659016], [13.922575153899508, 50.96461542216845], [13.921781413845427, 50.96598885939762]]], &quot;type&quot;: &quot;Polygon&quot;}, &quot;properties&quot;: {&quot;col_widths&quot;: [35.55136551768519, 39.106502069453704, 3.555136551768527, 3.5551365517685127, 3.5551365517685127, 3.555136551768527, 17.775682758842592, 35.5513655176852, 35.551365517685184, 35.551365517685184, 35.551365517685184, 35.55136551768521, 35.55136551768521, 35.551365517685156], &quot;length_unit&quot;: &quot;meters&quot;, &quot;n_cols&quot;: 14, &quot;n_rows&quot;: 12, &quot;origin&quot;: {&quot;coordinates&quot;: [13.921781413845425, 50.96598885939761], &quot;type&quot;: &quot;Point&quot;}, &quot;rotation&quot;: 20, &quot;row_heights&quot;: [51.66873376723379, 2.5834366883616866, 2.5834366883616937, 2.5834366883616937, 2.5834366883616795, 2.5834366883616937, 12.917183441808447, 25.834366883616894, 25.834366883616894, 25.834366883616894, 25.834366883616894, 77.50310065085068], &quot;total_height&quot;: 258.34366883616894, &quot;total_width&quot;: 355.5136551768519, &quot;type&quot;: &quot;bounding_box&quot;}, &quot;type&quot;: &quot;Feature&quot;});\n",
       "\n",
       "        \n",
       "    \n",
       "            geo_json_72596c67a35a388fab5f609f13c8f451.addTo(map_7b6f3a6e65a19ac9af658573f06b56eb);\n",
       "        \n",
       "    \n",
       "            map_7b6f3a6e65a19ac9af658573f06b56eb.fitBounds(\n",
       "                [[50.96461542216845, 13.921781413845427], [50.96667675655004, 13.925576187734443]],\n",
       "                {}\n",
       "            );\n",
       "        \n",
       "&lt;/script&gt;\n",
       "&lt;/html&gt;\" style=\"position:absolute;width:100%;height:100%;left:0;top:0;border:none !important;\" allowfullscreen webkitallowfullscreen mozallowfullscreen></iframe></div></div>"
      ]
     },
     "execution_count": 6,
     "metadata": {},
     "output_type": "execute_result"
    }
   ],
   "execution_count": 6
  },
  {
   "cell_type": "code",
   "source": [
    "\n",
    "cell_geometries = grid.get_cell_geometries()\n",
    "\n",
    "n_x = grid.n_cols()\n",
    "n_y = grid.n_rows()\n",
    "\n",
    "for x in range(n_x):\n",
    "  for y in range(n_y):\n",
    "    cell_geometry = cell_geometries[x][y]\n",
    "    folium.GeoJson(cell_geometry.as_geojson()).add_to(m)\n",
    "\n",
    "m"
   ],
   "metadata": {
    "collapsed": false,
    "ExecuteTime": {
     "end_time": "2024-04-22T14:07:12.645606Z",
     "start_time": "2024-04-22T14:07:12.367704Z"
    }
   },
   "id": "b3149019e43290a8",
   "outputs": [
    {
     "ename": "IndexError",
     "evalue": "list index out of range",
     "output_type": "error",
     "traceback": [
      "\u001B[0;31m---------------------------------------------------------------------------\u001B[0m",
      "\u001B[0;31mIndexError\u001B[0m                                Traceback (most recent call last)",
      "Cell \u001B[0;32mIn[7], line 8\u001B[0m\n\u001B[1;32m      6\u001B[0m \u001B[38;5;28;01mfor\u001B[39;00m x \u001B[38;5;129;01min\u001B[39;00m \u001B[38;5;28mrange\u001B[39m(n_x):\n\u001B[1;32m      7\u001B[0m   \u001B[38;5;28;01mfor\u001B[39;00m y \u001B[38;5;129;01min\u001B[39;00m \u001B[38;5;28mrange\u001B[39m(n_y):\n\u001B[0;32m----> 8\u001B[0m     cell_geometry \u001B[38;5;241m=\u001B[39m \u001B[43mcell_geometries\u001B[49m\u001B[43m[\u001B[49m\u001B[43mx\u001B[49m\u001B[43m]\u001B[49m[y]\n\u001B[1;32m      9\u001B[0m     folium\u001B[38;5;241m.\u001B[39mGeoJson(cell_geometry\u001B[38;5;241m.\u001B[39mas_geojson())\u001B[38;5;241m.\u001B[39madd_to(m)\n\u001B[1;32m     11\u001B[0m m\n",
      "\u001B[0;31mIndexError\u001B[0m: list index out of range"
     ]
    }
   ],
   "execution_count": 7
  },
  {
   "metadata": {
    "ExecuteTime": {
     "end_time": "2024-04-22T14:07:12.668270Z",
     "start_time": "2024-04-22T14:07:12.668181Z"
    }
   },
   "cell_type": "code",
   "source": [
    "# Render GRid Rows and Columns\n",
    "from morpheus.project.types.discretization.spatial import ActiveCells\n",
    "\n",
    "cells = ActiveCells.from_polygon(polygon, grid)\n",
    "\n",
    "m = folium.Map(zoom_start=12, location=[50.965, 13.922])\n",
    "folium.GeoJson(polygon.as_geojson(), name=\"hello world\").add_to(m)\n",
    "folium.GeoJson(grid.to_geojson().as_geojson()).add_to(m)\n",
    "m.fit_bounds(m.get_bounds())\n",
    "m\n"
   ],
   "id": "2aa5f4b46690a267",
   "outputs": [],
   "execution_count": null
  },
  {
   "metadata": {},
   "cell_type": "code",
   "source": "",
   "id": "7c33d299f2735824",
   "outputs": [],
   "execution_count": null
  },
  {
   "cell_type": "code",
   "source": [
    "from morpheus.project.types.discretization.spatial import ActiveCells\n",
    "\n",
    "cells = ActiveCells.from_polygon(polygon, grid)\n",
    "cells_geometries = cells.to_geojson(grid)\n",
    "\n",
    "m = folium.Map(zoom_start=12, location=[50.965, 13.922])\n",
    "folium.GeoJson(polygon.as_geojson(), name=\"hello world\").add_to(m)\n",
    "folium.GeoJson(grid.bounding_box_geometry().as_geojson()).add_to(m)\n",
    "folium.GeoJson(cells_geometries.as_geojson()).add_to(m)\n",
    "m.fit_bounds(m.get_bounds())\n",
    "m"
   ],
   "metadata": {
    "collapsed": false
   },
   "id": "9d91fb7511793ba5",
   "outputs": [],
   "execution_count": null
  },
  {
   "cell_type": "code",
   "source": [
    "cells_outline = cells.outline_to_geojson(grid)\n",
    "\n",
    "m = folium.Map(zoom_start=12, location=[50.965, 13.922])\n",
    "folium.GeoJson(polygon.as_geojson()).add_to(m)\n",
    "folium.GeoJson(grid.bounding_box_geometry().as_geojson()).add_to(m)\n",
    "folium.GeoJson(cells_outline.as_geojson()).add_to(m)\n",
    "m.fit_bounds(m.get_bounds())\n",
    "\n",
    "m"
   ],
   "metadata": {
    "collapsed": false
   },
   "id": "555d8374002c645e",
   "outputs": [],
   "execution_count": null
  },
  {
   "metadata": {},
   "cell_type": "code",
   "source": "",
   "id": "7317705a7f5e8f16",
   "outputs": [],
   "execution_count": null
  }
 ],
 "metadata": {
  "kernelspec": {
   "display_name": "Python 3",
   "language": "python",
   "name": "python3"
  },
  "language_info": {
   "codemirror_mode": {
    "name": "ipython",
    "version": 2
   },
   "file_extension": ".py",
   "mimetype": "text/x-python",
   "name": "python",
   "nbconvert_exporter": "python",
   "pygments_lexer": "ipython2",
   "version": "2.7.6"
  }
 },
 "nbformat": 4,
 "nbformat_minor": 5
}
