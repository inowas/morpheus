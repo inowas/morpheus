{
 "cells": [
  {
   "cell_type": "markdown",
   "id": "643f6c4207bbc0b0",
   "metadata": {
    "papermill": {
     "duration": 0.017199,
     "end_time": "2024-06-20T19:02:43.013460",
     "exception": false,
     "start_time": "2024-06-20T19:02:42.996261",
     "status": "completed"
    },
    "tags": []
   },
   "source": [
    "# Initialize Morpheus"
   ]
  },
  {
   "cell_type": "code",
   "id": "9a429500dc402140",
   "metadata": {
    "execution": {
     "iopub.execute_input": "2024-06-20T19:02:43.033906Z",
     "iopub.status.busy": "2024-06-20T19:02:43.033551Z",
     "iopub.status.idle": "2024-06-20T19:02:44.341084Z",
     "shell.execute_reply": "2024-06-20T19:02:44.340773Z"
    },
    "papermill": {
     "duration": 1.318297,
     "end_time": "2024-06-20T19:02:44.342133",
     "exception": false,
     "start_time": "2024-06-20T19:02:43.023836",
     "status": "completed"
    },
    "tags": [],
    "ExecuteTime": {
     "end_time": "2024-08-19T09:42:39.531635Z",
     "start_time": "2024-08-19T09:42:37.424531Z"
    }
   },
   "source": [
    "from morpheus.project.application.write import project_command_bus"
   ],
   "outputs": [],
   "execution_count": 1
  },
  {
   "cell_type": "markdown",
   "id": "740a87482c1f1624",
   "metadata": {
    "collapsed": false,
    "papermill": {
     "duration": 0.0023,
     "end_time": "2024-06-20T19:02:44.347078",
     "exception": false,
     "start_time": "2024-06-20T19:02:44.344778",
     "status": "completed"
    },
    "tags": []
   },
   "source": [
    "# Create a Project"
   ]
  },
  {
   "cell_type": "code",
   "id": "932b4fe5bd839f2",
   "metadata": {
    "collapsed": false,
    "execution": {
     "iopub.execute_input": "2024-06-20T19:02:44.352981Z",
     "iopub.status.busy": "2024-06-20T19:02:44.352084Z",
     "iopub.status.idle": "2024-06-20T19:02:44.363756Z",
     "shell.execute_reply": "2024-06-20T19:02:44.363525Z"
    },
    "papermill": {
     "duration": 0.015232,
     "end_time": "2024-06-20T19:02:44.364533",
     "exception": false,
     "start_time": "2024-06-20T19:02:44.349301",
     "status": "completed"
    },
    "tags": [],
    "ExecuteTime": {
     "end_time": "2024-08-19T09:42:39.549007Z",
     "start_time": "2024-08-19T09:42:39.532895Z"
    }
   },
   "source": [
    "from morpheus.common.types.identity.Identity import UserId\n",
    "from morpheus.project.types.Project import ProjectId, Name, Description, Tags\n",
    "\n",
    "user_id = UserId.new()\n",
    "project_id = ProjectId.new()\n",
    "name = Name.from_str('Project 1')\n",
    "description = Description.from_str('Description 1')\n",
    "tags = Tags.from_list(['tag1', 'tag2'])\n",
    "\n",
    "from morpheus.project.application.write.Project import CreateProjectCommand\n",
    "\n",
    "create_project_command = CreateProjectCommand(\n",
    "  project_id=project_id,\n",
    "  name=name,\n",
    "  description=description,\n",
    "  tags=tags,\n",
    "  user_id=user_id\n",
    ")\n",
    "\n",
    "project_command_bus.dispatch(create_project_command)"
   ],
   "outputs": [],
   "execution_count": 2
  },
  {
   "cell_type": "markdown",
   "id": "9d52b120aa989d1f",
   "metadata": {
    "collapsed": false,
    "papermill": {
     "duration": 0.002295,
     "end_time": "2024-06-20T19:02:44.369293",
     "exception": false,
     "start_time": "2024-06-20T19:02:44.366998",
     "status": "completed"
    },
    "tags": []
   },
   "source": [
    "# Read ProjectList"
   ]
  },
  {
   "cell_type": "code",
   "id": "56155ec2f19c768d",
   "metadata": {
    "collapsed": false,
    "execution": {
     "iopub.execute_input": "2024-06-20T19:02:44.374376Z",
     "iopub.status.busy": "2024-06-20T19:02:44.374268Z",
     "iopub.status.idle": "2024-06-20T19:02:44.391052Z",
     "shell.execute_reply": "2024-06-20T19:02:44.390801Z"
    },
    "papermill": {
     "duration": 0.021102,
     "end_time": "2024-06-20T19:02:44.392688",
     "exception": false,
     "start_time": "2024-06-20T19:02:44.371586",
     "status": "completed"
    },
    "tags": [],
    "ExecuteTime": {
     "end_time": "2024-08-19T09:42:39.558577Z",
     "start_time": "2024-08-19T09:42:39.550Z"
    }
   },
   "source": [
    "from morpheus.common.types.identity.Identity import Identity\n",
    "from morpheus.project.application.read.ProjectReader import project_reader\n",
    "\n",
    "identity = Identity(user_id=UserId.new(), group_ids=[], is_admin=True)\n",
    "project_list = project_reader.get_project_summaries_with_user_privileges_for_identity(identity)\n",
    "project_list"
   ],
   "outputs": [
    {
     "data": {
      "text/plain": [
       "[(ProjectSummary(project_id=ProjectId(value='8cb9fced-e3d1-42f7-bcda-0e1aa4e4c70e'), project_name=Name(value='Rio Primero'), project_description=Description(value=''), project_tags=Tags(value=[]), owner_id=UserId(value='2e7a05ff-90f9-49a0-8d1a-fc28d8f64174'), visibility=<Visibility.PRIVATE: 'private'>, created_at=DateTime(value=datetime.datetime(2024, 7, 10, 10, 26, 32, 268323, tzinfo=datetime.timezone(datetime.timedelta(seconds=7200)))), updated_at=DateTime(value=datetime.datetime(2024, 7, 10, 10, 26, 32, 268323, tzinfo=datetime.timezone(datetime.timedelta(seconds=7200))))),\n",
       "  [<Privilege.VIEW_PROJECT: 'view_project'>,\n",
       "   <Privilege.EDIT_PROJECT: 'edit_project'>,\n",
       "   <Privilege.MANAGE_PROJECT: 'manage_project'>,\n",
       "   <Privilege.FULL_ACCESS: 'full_access'>]),\n",
       " (ProjectSummary(project_id=ProjectId(value='0823623b-6fc4-40ca-b851-6eb076670f5c'), project_name=Name(value='Test'), project_description=Description(value=''), project_tags=Tags(value=[]), owner_id=UserId(value='2e7a05ff-90f9-49a0-8d1a-fc28d8f64174'), visibility=<Visibility.PRIVATE: 'private'>, created_at=DateTime(value=datetime.datetime(2024, 7, 15, 13, 14, 17, 536861, tzinfo=datetime.timezone(datetime.timedelta(seconds=7200)))), updated_at=DateTime(value=datetime.datetime(2024, 7, 15, 13, 14, 17, 536861, tzinfo=datetime.timezone(datetime.timedelta(seconds=7200))))),\n",
       "  [<Privilege.VIEW_PROJECT: 'view_project'>,\n",
       "   <Privilege.EDIT_PROJECT: 'edit_project'>,\n",
       "   <Privilege.MANAGE_PROJECT: 'manage_project'>,\n",
       "   <Privilege.FULL_ACCESS: 'full_access'>]),\n",
       " (ProjectSummary(project_id=ProjectId(value='2a8caac3-1c25-4133-a7a5-91a9a1922acd'), project_name=Name(value='Project 0'), project_description=Description(value='Description 0'), project_tags=Tags(value=['tag0', 'tag1']), owner_id=UserId(value='7ae063d5-1769-49bb-8c44-a06ba47e897d'), visibility=<Visibility.PRIVATE: 'private'>, created_at=DateTime(value=datetime.datetime(2024, 8, 19, 11, 40, 7, 566448, tzinfo=datetime.timezone(datetime.timedelta(seconds=7200)))), updated_at=DateTime(value=datetime.datetime(2024, 8, 19, 11, 40, 7, 566448, tzinfo=datetime.timezone(datetime.timedelta(seconds=7200))))),\n",
       "  [<Privilege.VIEW_PROJECT: 'view_project'>,\n",
       "   <Privilege.EDIT_PROJECT: 'edit_project'>,\n",
       "   <Privilege.MANAGE_PROJECT: 'manage_project'>,\n",
       "   <Privilege.FULL_ACCESS: 'full_access'>]),\n",
       " (ProjectSummary(project_id=ProjectId(value='2aff8082-06bd-4f2b-a73a-e79dec3de6ef'), project_name=Name(value='Project 1'), project_description=Description(value='Description 1'), project_tags=Tags(value=['tag1', 'tag2']), owner_id=UserId(value='3a8ea0f1-1398-46f7-9a60-7c160a8bfb21'), visibility=<Visibility.PRIVATE: 'private'>, created_at=DateTime(value=datetime.datetime(2024, 8, 19, 11, 40, 7, 587290, tzinfo=datetime.timezone(datetime.timedelta(seconds=7200)))), updated_at=DateTime(value=datetime.datetime(2024, 8, 19, 11, 40, 7, 587290, tzinfo=datetime.timezone(datetime.timedelta(seconds=7200))))),\n",
       "  [<Privilege.VIEW_PROJECT: 'view_project'>,\n",
       "   <Privilege.EDIT_PROJECT: 'edit_project'>,\n",
       "   <Privilege.MANAGE_PROJECT: 'manage_project'>,\n",
       "   <Privilege.FULL_ACCESS: 'full_access'>]),\n",
       " (ProjectSummary(project_id=ProjectId(value='bb828686-eca0-49ab-aa16-e10141b80265'), project_name=Name(value='Project 2'), project_description=Description(value='Description 2'), project_tags=Tags(value=['tag2', 'tag3']), owner_id=UserId(value='8c6f503a-6005-4dfe-b867-d5a4808382bf'), visibility=<Visibility.PRIVATE: 'private'>, created_at=DateTime(value=datetime.datetime(2024, 8, 19, 11, 40, 7, 589498, tzinfo=datetime.timezone(datetime.timedelta(seconds=7200)))), updated_at=DateTime(value=datetime.datetime(2024, 8, 19, 11, 40, 7, 589498, tzinfo=datetime.timezone(datetime.timedelta(seconds=7200))))),\n",
       "  [<Privilege.VIEW_PROJECT: 'view_project'>,\n",
       "   <Privilege.EDIT_PROJECT: 'edit_project'>,\n",
       "   <Privilege.MANAGE_PROJECT: 'manage_project'>,\n",
       "   <Privilege.FULL_ACCESS: 'full_access'>]),\n",
       " (ProjectSummary(project_id=ProjectId(value='3fdc6d0b-eaff-4f47-9661-502d16b0bd69'), project_name=Name(value='Project 3'), project_description=Description(value='Description 3'), project_tags=Tags(value=['tag3', 'tag4']), owner_id=UserId(value='ebb8349e-8b6a-48e3-bd7d-b7235ccc6603'), visibility=<Visibility.PRIVATE: 'private'>, created_at=DateTime(value=datetime.datetime(2024, 8, 19, 11, 40, 7, 591553, tzinfo=datetime.timezone(datetime.timedelta(seconds=7200)))), updated_at=DateTime(value=datetime.datetime(2024, 8, 19, 11, 40, 7, 591553, tzinfo=datetime.timezone(datetime.timedelta(seconds=7200))))),\n",
       "  [<Privilege.VIEW_PROJECT: 'view_project'>,\n",
       "   <Privilege.EDIT_PROJECT: 'edit_project'>,\n",
       "   <Privilege.MANAGE_PROJECT: 'manage_project'>,\n",
       "   <Privilege.FULL_ACCESS: 'full_access'>]),\n",
       " (ProjectSummary(project_id=ProjectId(value='d4969478-8794-4f8b-94a2-a7665dbb2de1'), project_name=Name(value='Project 4'), project_description=Description(value='Description 4'), project_tags=Tags(value=['tag4', 'tag5']), owner_id=UserId(value='5f7dbcf1-ef7d-49dd-8351-5c3774701570'), visibility=<Visibility.PRIVATE: 'private'>, created_at=DateTime(value=datetime.datetime(2024, 8, 19, 11, 40, 7, 593618, tzinfo=datetime.timezone(datetime.timedelta(seconds=7200)))), updated_at=DateTime(value=datetime.datetime(2024, 8, 19, 11, 40, 7, 593618, tzinfo=datetime.timezone(datetime.timedelta(seconds=7200))))),\n",
       "  [<Privilege.VIEW_PROJECT: 'view_project'>,\n",
       "   <Privilege.EDIT_PROJECT: 'edit_project'>,\n",
       "   <Privilege.MANAGE_PROJECT: 'manage_project'>,\n",
       "   <Privilege.FULL_ACCESS: 'full_access'>]),\n",
       " (ProjectSummary(project_id=ProjectId(value='802728d2-26c6-493e-a676-5da1c475a6b7'), project_name=Name(value='Project 5'), project_description=Description(value='Description 5'), project_tags=Tags(value=['tag5', 'tag6']), owner_id=UserId(value='7e942a9c-d7a8-4ed6-ba01-4c220550cf76'), visibility=<Visibility.PRIVATE: 'private'>, created_at=DateTime(value=datetime.datetime(2024, 8, 19, 11, 40, 7, 595619, tzinfo=datetime.timezone(datetime.timedelta(seconds=7200)))), updated_at=DateTime(value=datetime.datetime(2024, 8, 19, 11, 40, 7, 595619, tzinfo=datetime.timezone(datetime.timedelta(seconds=7200))))),\n",
       "  [<Privilege.VIEW_PROJECT: 'view_project'>,\n",
       "   <Privilege.EDIT_PROJECT: 'edit_project'>,\n",
       "   <Privilege.MANAGE_PROJECT: 'manage_project'>,\n",
       "   <Privilege.FULL_ACCESS: 'full_access'>]),\n",
       " (ProjectSummary(project_id=ProjectId(value='a301367f-aca5-4bb3-9517-d873082279d9'), project_name=Name(value='Project 6'), project_description=Description(value='Description 6'), project_tags=Tags(value=['tag6', 'tag7']), owner_id=UserId(value='e7a429a8-ee2a-4fe7-b552-7fdb768d26b8'), visibility=<Visibility.PRIVATE: 'private'>, created_at=DateTime(value=datetime.datetime(2024, 8, 19, 11, 40, 7, 597472, tzinfo=datetime.timezone(datetime.timedelta(seconds=7200)))), updated_at=DateTime(value=datetime.datetime(2024, 8, 19, 11, 40, 7, 597472, tzinfo=datetime.timezone(datetime.timedelta(seconds=7200))))),\n",
       "  [<Privilege.VIEW_PROJECT: 'view_project'>,\n",
       "   <Privilege.EDIT_PROJECT: 'edit_project'>,\n",
       "   <Privilege.MANAGE_PROJECT: 'manage_project'>,\n",
       "   <Privilege.FULL_ACCESS: 'full_access'>]),\n",
       " (ProjectSummary(project_id=ProjectId(value='bd8e9ef9-443f-4281-8e36-79ee31317c2d'), project_name=Name(value='Project 7'), project_description=Description(value='Description 7'), project_tags=Tags(value=['tag7', 'tag8']), owner_id=UserId(value='1cda36d5-c1bc-40ec-aae5-c1f81c2d70a2'), visibility=<Visibility.PRIVATE: 'private'>, created_at=DateTime(value=datetime.datetime(2024, 8, 19, 11, 40, 7, 599804, tzinfo=datetime.timezone(datetime.timedelta(seconds=7200)))), updated_at=DateTime(value=datetime.datetime(2024, 8, 19, 11, 40, 7, 599804, tzinfo=datetime.timezone(datetime.timedelta(seconds=7200))))),\n",
       "  [<Privilege.VIEW_PROJECT: 'view_project'>,\n",
       "   <Privilege.EDIT_PROJECT: 'edit_project'>,\n",
       "   <Privilege.MANAGE_PROJECT: 'manage_project'>,\n",
       "   <Privilege.FULL_ACCESS: 'full_access'>]),\n",
       " (ProjectSummary(project_id=ProjectId(value='2795b484-e8fd-44a3-ab0e-4aa27dc7f803'), project_name=Name(value='Project 8'), project_description=Description(value='Description 8'), project_tags=Tags(value=['tag8', 'tag9']), owner_id=UserId(value='39260b30-fe5d-49bf-a3a6-203813ae17d5'), visibility=<Visibility.PRIVATE: 'private'>, created_at=DateTime(value=datetime.datetime(2024, 8, 19, 11, 40, 7, 602123, tzinfo=datetime.timezone(datetime.timedelta(seconds=7200)))), updated_at=DateTime(value=datetime.datetime(2024, 8, 19, 11, 40, 7, 602123, tzinfo=datetime.timezone(datetime.timedelta(seconds=7200))))),\n",
       "  [<Privilege.VIEW_PROJECT: 'view_project'>,\n",
       "   <Privilege.EDIT_PROJECT: 'edit_project'>,\n",
       "   <Privilege.MANAGE_PROJECT: 'manage_project'>,\n",
       "   <Privilege.FULL_ACCESS: 'full_access'>]),\n",
       " (ProjectSummary(project_id=ProjectId(value='9c3ec8ca-8871-499e-8403-b430784ca0dd'), project_name=Name(value='Project 9'), project_description=Description(value='Description 9'), project_tags=Tags(value=['tag9', 'tag10']), owner_id=UserId(value='2e86bc84-7bcb-4332-9712-ff76e597baba'), visibility=<Visibility.PRIVATE: 'private'>, created_at=DateTime(value=datetime.datetime(2024, 8, 19, 11, 40, 7, 604680, tzinfo=datetime.timezone(datetime.timedelta(seconds=7200)))), updated_at=DateTime(value=datetime.datetime(2024, 8, 19, 11, 40, 7, 604680, tzinfo=datetime.timezone(datetime.timedelta(seconds=7200))))),\n",
       "  [<Privilege.VIEW_PROJECT: 'view_project'>,\n",
       "   <Privilege.EDIT_PROJECT: 'edit_project'>,\n",
       "   <Privilege.MANAGE_PROJECT: 'manage_project'>,\n",
       "   <Privilege.FULL_ACCESS: 'full_access'>]),\n",
       " (ProjectSummary(project_id=ProjectId(value='28a73512-389c-44ca-9b56-f0350a77e273'), project_name=Name(value='Project 1'), project_description=Description(value='Description 1'), project_tags=Tags(value=['tag1', 'tag2']), owner_id=UserId(value='710ddd79-47d7-4477-b3f7-be20f326fa28'), visibility=<Visibility.PRIVATE: 'private'>, created_at=DateTime(value=datetime.datetime(2024, 8, 19, 11, 40, 25, 610977)), updated_at=DateTime(value=datetime.datetime(2024, 8, 19, 11, 40, 25, 610977))),\n",
       "  [<Privilege.VIEW_PROJECT: 'view_project'>,\n",
       "   <Privilege.EDIT_PROJECT: 'edit_project'>,\n",
       "   <Privilege.MANAGE_PROJECT: 'manage_project'>,\n",
       "   <Privilege.FULL_ACCESS: 'full_access'>]),\n",
       " (ProjectSummary(project_id=ProjectId(value='aa1645b6-780a-4948-bd18-87d1343f4f7a'), project_name=Name(value='Project 1'), project_description=Description(value='Description 1'), project_tags=Tags(value=['tag1', 'tag2']), owner_id=UserId(value='396b5cc8-93e0-47cf-bfe8-3238bc60992b'), visibility=<Visibility.PRIVATE: 'private'>, created_at=DateTime(value=datetime.datetime(2024, 8, 19, 11, 42, 14, 559930)), updated_at=DateTime(value=datetime.datetime(2024, 8, 19, 11, 42, 14, 559930))),\n",
       "  [<Privilege.VIEW_PROJECT: 'view_project'>,\n",
       "   <Privilege.EDIT_PROJECT: 'edit_project'>,\n",
       "   <Privilege.MANAGE_PROJECT: 'manage_project'>,\n",
       "   <Privilege.FULL_ACCESS: 'full_access'>]),\n",
       " (ProjectSummary(project_id=ProjectId(value='4c190e2a-effb-4103-859c-cc1a964e9dc4'), project_name=Name(value='Project 1'), project_description=Description(value='Description 1'), project_tags=Tags(value=['tag1', 'tag2']), owner_id=UserId(value='78a61eaa-0943-4187-9f71-2ab9dac542a5'), visibility=<Visibility.PRIVATE: 'private'>, created_at=DateTime(value=datetime.datetime(2024, 8, 19, 11, 42, 39, 534760)), updated_at=DateTime(value=datetime.datetime(2024, 8, 19, 11, 42, 39, 534760))),\n",
       "  [<Privilege.VIEW_PROJECT: 'view_project'>,\n",
       "   <Privilege.EDIT_PROJECT: 'edit_project'>,\n",
       "   <Privilege.MANAGE_PROJECT: 'manage_project'>,\n",
       "   <Privilege.FULL_ACCESS: 'full_access'>])]"
      ]
     },
     "execution_count": 3,
     "metadata": {},
     "output_type": "execute_result"
    }
   ],
   "execution_count": 3
  },
  {
   "cell_type": "markdown",
   "id": "22380477da429c5d",
   "metadata": {
    "collapsed": false,
    "papermill": {
     "duration": 0.003227,
     "end_time": "2024-06-20T19:02:44.399324",
     "exception": false,
     "start_time": "2024-06-20T19:02:44.396097",
     "status": "completed"
    },
    "tags": []
   },
   "source": [
    "# Create model"
   ]
  },
  {
   "cell_type": "code",
   "id": "7db50a89dc6391e5",
   "metadata": {
    "collapsed": false,
    "execution": {
     "iopub.execute_input": "2024-06-20T19:02:44.406180Z",
     "iopub.status.busy": "2024-06-20T19:02:44.406055Z",
     "iopub.status.idle": "2024-06-20T19:02:44.719381Z",
     "shell.execute_reply": "2024-06-20T19:02:44.719098Z"
    },
    "papermill": {
     "duration": 0.317996,
     "end_time": "2024-06-20T19:02:44.720450",
     "exception": false,
     "start_time": "2024-06-20T19:02:44.402454",
     "status": "completed"
    },
    "tags": [],
    "ExecuteTime": {
     "end_time": "2024-08-19T09:42:39.896098Z",
     "start_time": "2024-08-19T09:42:39.560325Z"
    }
   },
   "source": [
    "from morpheus.project.application.write.Model.General import CreateModelCommand\n",
    "from morpheus.project.types.discretization.spatial import Rotation\n",
    "from morpheus.project.types.geometry import Polygon\n",
    "from morpheus.project.types.Model import ModelId\n",
    "\n",
    "polygon = Polygon(\n",
    "  type='Polygon',\n",
    "  coordinates=[[\n",
    "    (13.922514437551428, 50.964720483303836),\n",
    "    (13.925250781947113, 50.965228748412386),\n",
    "    (13.925036413951403, 50.96623732041704),\n",
    "    (13.92222441026388, 50.96629040370362),\n",
    "    (13.922514437551428, 50.964720483303836)\n",
    "  ]]\n",
    ")\n",
    "\n",
    "n_cols = 100\n",
    "n_rows = 50\n",
    "rotation = 0.0\n",
    "\n",
    "command = CreateModelCommand(\n",
    "  project_id=project_id,\n",
    "  user_id=user_id,\n",
    "  model_id=ModelId.new(),\n",
    "  geometry=polygon,\n",
    "  n_cols=n_cols,\n",
    "  n_rows=n_rows,\n",
    "  rotation=Rotation.from_float(rotation),\n",
    ")\n",
    "\n",
    "project_command_bus.dispatch(command)"
   ],
   "outputs": [],
   "execution_count": 4
  },
  {
   "cell_type": "markdown",
   "id": "cde69ee770d30fc1",
   "metadata": {
    "collapsed": false,
    "papermill": {
     "duration": 0.003292,
     "end_time": "2024-06-20T19:02:44.728001",
     "exception": false,
     "start_time": "2024-06-20T19:02:44.724709",
     "status": "completed"
    },
    "tags": []
   },
   "source": [
    "# Read Latest Model"
   ]
  },
  {
   "cell_type": "code",
   "id": "d2717a59e00a53d1",
   "metadata": {
    "collapsed": false,
    "execution": {
     "iopub.execute_input": "2024-06-20T19:02:44.734871Z",
     "iopub.status.busy": "2024-06-20T19:02:44.734756Z",
     "iopub.status.idle": "2024-06-20T19:02:44.744443Z",
     "shell.execute_reply": "2024-06-20T19:02:44.744215Z"
    },
    "papermill": {
     "duration": 0.014206,
     "end_time": "2024-06-20T19:02:44.745342",
     "exception": false,
     "start_time": "2024-06-20T19:02:44.731136",
     "status": "completed"
    },
    "tags": [],
    "ExecuteTime": {
     "end_time": "2024-08-19T09:42:39.911001Z",
     "start_time": "2024-08-19T09:42:39.896758Z"
    }
   },
   "source": [
    "from morpheus.project.application.read.ModelReader import ModelReader\n",
    "\n",
    "model_reader = ModelReader()\n",
    "model = model_reader.get_latest_model(project_id)\n",
    "model"
   ],
   "outputs": [
    {
     "data": {
      "text/plain": [
       "Model(model_id=ModelId(value='c115f1b8-33ae-445f-8a41-944f82a48969'), spatial_discretization=SpatialDiscretization(geometry=Polygon(coordinates=[[[13.922514437551428, 50.964720483303836], [13.925250781947113, 50.965228748412386], [13.925036413951403, 50.96623732041704], [13.92222441026388, 50.96629040370362], [13.922514437551428, 50.964720483303836]]], type='Polygon'), grid=Grid(origin=Point(coordinates=[13.922224410263878, 50.9662904037036], type='Point'), col_widths=[3.3689415472885593, 3.3689415472885593, 3.3689415472885598, 3.368941547288559, 3.368941547288559, 3.3689415472885607, 3.3689415472885607, 3.368941547288557, 3.368941547288557, 3.3689415472885607, 3.368941547288564, 3.368941547288557, 3.368941547288557, 3.368941547288564, 3.368941547288557, 3.368941547288557, 3.368941547288564, 3.36894154728855, 3.368941547288564, 3.368941547288557, 3.368941547288557, 3.3689415472885713, 3.368941547288557, 3.368941547288557, 3.368941547288557, 3.368941547288557, 3.3689415472885713, 3.368941547288557, 3.368941547288543, 3.3689415472885713, 3.368941547288557, 3.368941547288557, 3.3689415472885713, 3.368941547288557, 3.368941547288543, 3.368941547288557, 3.3689415472885713, 3.368941547288557, 3.368941547288557, 3.368941547288557, 3.368941547288557, 3.368941547288557, 3.368941547288557, 3.3689415472885855, 3.368941547288557, 3.368941547288557, 3.3689415472885287, 3.3689415472885855, 3.368941547288557, 3.368941547288557, 3.368941547288557, 3.368941547288557, 3.3689415472885855, 3.368941547288557, 3.368941547288557, 3.368941547288557, 3.3689415472885287, 3.368941547288557, 3.368941547288557, 3.3689415472885855, 3.368941547288557, 3.368941547288557, 3.368941547288557, 3.368941547288557, 3.368941547288557, 3.3689415472885855, 3.368941547288557, 3.368941547288557, 3.3689415472885287, 3.368941547288557, 3.368941547288557, 3.368941547288557, 3.3689415472885855, 3.368941547288557, 3.368941547288557, 3.368941547288557, 3.368941547288557, 3.368941547288557, 3.368941547288557, 3.368941547288557, 3.368941547288614, 3.3689415472885003, 3.368941547288557, 3.368941547288557, 3.368941547288557, 3.368941547288557, 3.368941547288557, 3.368941547288614, 3.368941547288557, 3.368941547288557, 3.368941547288557, 3.368941547288557, 3.368941547288557, 3.3689415472885003, 3.368941547288614, 3.368941547288557, 3.368941547288557, 3.368941547288557, 3.368941547288557, 3.368941547288557], total_width=336.89415472885594, row_heights=[5.549889713171869, 5.549889713171869, 5.54988971317187, 5.5498897131718685, 5.549889713171872, 5.5498897131718685, 5.549889713171872, 5.549889713171865, 5.549889713171865, 5.549889713171879, 5.549889713171865, 5.549889713171872, 5.549889713171865, 5.549889713171879, 5.549889713171865, 5.549889713171865, 5.549889713171879, 5.549889713171851, 5.549889713171879, 5.549889713171879, 5.549889713171851, 5.549889713171879, 5.549889713171879, 5.549889713171865, 5.549889713171865, 5.549889713171865, 5.549889713171893, 5.549889713171865, 5.5498897131718365, 5.549889713171893, 5.549889713171865, 5.549889713171865, 5.549889713171893, 5.549889713171865, 5.5498897131718365, 5.549889713171865, 5.549889713171893, 5.549889713171865, 5.549889713171893, 5.549889713171865, 5.5498897131718365, 5.549889713171865, 5.549889713171893, 5.549889713171865, 5.549889713171865, 5.549889713171893, 5.549889713171808, 5.549889713171922, 5.549889713171865, 5.549889713171865], total_height=277.4944856585935, rotation=Rotation(value=0.0), length_unit=LengthUnit(unit=2)), affected_cells=ActiveCells(shape=[50, 100], data=[ActiveCell(col=0, row=0), ActiveCell(col=1, row=0), ActiveCell(col=2, row=0), ActiveCell(col=3, row=0), ActiveCell(col=4, row=0), ActiveCell(col=5, row=0), ActiveCell(col=6, row=0), ActiveCell(col=7, row=0), ActiveCell(col=8, row=0), ActiveCell(col=9, row=0), ActiveCell(col=10, row=0), ActiveCell(col=11, row=0), ActiveCell(col=12, row=0), ActiveCell(col=13, row=0), ActiveCell(col=14, row=0), ActiveCell(col=15, row=0), ActiveCell(col=16, row=0), ActiveCell(col=17, row=0), ActiveCell(col=18, row=0), ActiveCell(col=19, row=0), ActiveCell(col=20, row=0), ActiveCell(col=21, row=0), ActiveCell(col=22, row=0), ActiveCell(col=23, row=0), ActiveCell(col=24, row=0), ActiveCell(col=25, row=0), ActiveCell(col=26, row=0), ActiveCell(col=0, row=1), ActiveCell(col=1, row=1), ActiveCell(col=2, row=1), ActiveCell(col=3, row=1), ActiveCell(col=4, row=1), ActiveCell(col=5, row=1), ActiveCell(col=6, row=1), ActiveCell(col=7, row=1), ActiveCell(col=8, row=1), ActiveCell(col=9, row=1), ActiveCell(col=10, row=1), ActiveCell(col=11, row=1), ActiveCell(col=12, row=1), ActiveCell(col=13, row=1), ActiveCell(col=14, row=1), ActiveCell(col=15, row=1), ActiveCell(col=16, row=1), ActiveCell(col=17, row=1), ActiveCell(col=18, row=1), ActiveCell(col=19, row=1), ActiveCell(col=20, row=1), ActiveCell(col=21, row=1), ActiveCell(col=22, row=1), ActiveCell(col=23, row=1), ActiveCell(col=24, row=1), ActiveCell(col=25, row=1), ActiveCell(col=26, row=1), ActiveCell(col=27, row=1), ActiveCell(col=28, row=1), ActiveCell(col=29, row=1), ActiveCell(col=30, row=1), ActiveCell(col=31, row=1), ActiveCell(col=32, row=1), ActiveCell(col=33, row=1), ActiveCell(col=34, row=1), ActiveCell(col=35, row=1), ActiveCell(col=36, row=1), ActiveCell(col=37, row=1), ActiveCell(col=38, row=1), ActiveCell(col=39, row=1), ActiveCell(col=40, row=1), ActiveCell(col=41, row=1), ActiveCell(col=42, row=1), ActiveCell(col=43, row=1), ActiveCell(col=44, row=1), ActiveCell(col=45, row=1), ActiveCell(col=46, row=1), ActiveCell(col=47, row=1), ActiveCell(col=48, row=1), ActiveCell(col=49, row=1), ActiveCell(col=50, row=1), ActiveCell(col=51, row=1), ActiveCell(col=52, row=1), ActiveCell(col=53, row=1), ActiveCell(col=54, row=1), ActiveCell(col=55, row=1), ActiveCell(col=56, row=1), ActiveCell(col=57, row=1), ActiveCell(col=58, row=1), ActiveCell(col=59, row=1), ActiveCell(col=60, row=1), ActiveCell(col=61, row=1), ActiveCell(col=62, row=1), ActiveCell(col=63, row=1), ActiveCell(col=64, row=1), ActiveCell(col=65, row=1), ActiveCell(col=66, row=1), ActiveCell(col=67, row=1), ActiveCell(col=68, row=1), ActiveCell(col=69, row=1), ActiveCell(col=70, row=1), ActiveCell(col=71, row=1), ActiveCell(col=72, row=1), ActiveCell(col=73, row=1), ActiveCell(col=74, row=1), ActiveCell(col=75, row=1), ActiveCell(col=76, row=1), ActiveCell(col=77, row=1), ActiveCell(col=78, row=1), ActiveCell(col=79, row=1), ActiveCell(col=80, row=1), ActiveCell(col=81, row=1), ActiveCell(col=0, row=2), ActiveCell(col=1, row=2), ActiveCell(col=2, row=2), ActiveCell(col=3, row=2), ActiveCell(col=4, row=2), ActiveCell(col=5, row=2), ActiveCell(col=6, row=2), ActiveCell(col=7, row=2), ActiveCell(col=8, row=2), ActiveCell(col=9, row=2), ActiveCell(col=10, row=2), ActiveCell(col=11, row=2), ActiveCell(col=12, row=2), ActiveCell(col=13, row=2), ActiveCell(col=14, row=2), ActiveCell(col=15, row=2), ActiveCell(col=16, row=2), ActiveCell(col=17, row=2), ActiveCell(col=18, row=2), ActiveCell(col=19, row=2), ActiveCell(col=20, row=2), ActiveCell(col=21, row=2), ActiveCell(col=22, row=2), ActiveCell(col=23, row=2), ActiveCell(col=24, row=2), ActiveCell(col=25, row=2), ActiveCell(col=26, row=2), ActiveCell(col=27, row=2), ActiveCell(col=28, row=2), ActiveCell(col=29, row=2), ActiveCell(col=30, row=2), ActiveCell(col=31, row=2), ActiveCell(col=32, row=2), ActiveCell(col=33, row=2), ActiveCell(col=34, row=2), ActiveCell(col=35, row=2), ActiveCell(col=36, row=2), ActiveCell(col=37, row=2), ActiveCell(col=38, row=2), ActiveCell(col=39, row=2), ActiveCell(col=40, row=2), ActiveCell(col=41, row=2), ActiveCell(col=42, row=2), ActiveCell(col=43, row=2), ActiveCell(col=44, row=2), ActiveCell(col=45, row=2), ActiveCell(col=46, row=2), ActiveCell(col=47, row=2), ActiveCell(col=48, row=2), ActiveCell(col=49, row=2), ActiveCell(col=50, row=2), ActiveCell(col=51, row=2), ActiveCell(col=52, row=2), ActiveCell(col=53, row=2), ActiveCell(col=54, row=2), ActiveCell(col=55, row=2), ActiveCell(col=56, row=2), ActiveCell(col=57, row=2), ActiveCell(col=58, row=2), ActiveCell(col=59, row=2), ActiveCell(col=60, row=2), ActiveCell(col=61, row=2), ActiveCell(col=62, row=2), ActiveCell(col=63, row=2), ActiveCell(col=64, row=2), ActiveCell(col=65, row=2), ActiveCell(col=66, row=2), ActiveCell(col=67, row=2), ActiveCell(col=68, row=2), ActiveCell(col=69, row=2), ActiveCell(col=70, row=2), ActiveCell(col=71, row=2), ActiveCell(col=72, row=2), ActiveCell(col=73, row=2), ActiveCell(col=74, row=2), ActiveCell(col=75, row=2), ActiveCell(col=76, row=2), ActiveCell(col=77, row=2), ActiveCell(col=78, row=2), ActiveCell(col=79, row=2), ActiveCell(col=80, row=2), ActiveCell(col=81, row=2), ActiveCell(col=82, row=2), ActiveCell(col=83, row=2), ActiveCell(col=84, row=2), ActiveCell(col=85, row=2), ActiveCell(col=86, row=2), ActiveCell(col=87, row=2), ActiveCell(col=88, row=2), ActiveCell(col=89, row=2), ActiveCell(col=90, row=2), ActiveCell(col=91, row=2), ActiveCell(col=92, row=2), ActiveCell(col=1, row=3), ActiveCell(col=2, row=3), ActiveCell(col=3, row=3), ActiveCell(col=4, row=3), ActiveCell(col=5, row=3), ActiveCell(col=6, row=3), ActiveCell(col=7, row=3), ActiveCell(col=8, row=3), ActiveCell(col=9, row=3), ActiveCell(col=10, row=3), ActiveCell(col=11, row=3), ActiveCell(col=12, row=3), ActiveCell(col=13, row=3), ActiveCell(col=14, row=3), ActiveCell(col=15, row=3), ActiveCell(col=16, row=3), ActiveCell(col=17, row=3), ActiveCell(col=18, row=3), ActiveCell(col=19, row=3), ActiveCell(col=20, row=3), ActiveCell(col=21, row=3), ActiveCell(col=22, row=3), ActiveCell(col=23, row=3), ActiveCell(col=24, row=3), ActiveCell(col=25, row=3), ActiveCell(col=26, row=3), ActiveCell(col=27, row=3), ActiveCell(col=28, row=3), ActiveCell(col=29, row=3), ActiveCell(col=30, row=3), ActiveCell(col=31, row=3), ActiveCell(col=32, row=3), ActiveCell(col=33, row=3), ActiveCell(col=34, row=3), ActiveCell(col=35, row=3), ActiveCell(col=36, row=3), ActiveCell(col=37, row=3), ActiveCell(col=38, row=3), ActiveCell(col=39, row=3), ActiveCell(col=40, row=3), ActiveCell(col=41, row=3), ActiveCell(col=42, row=3), ActiveCell(col=43, row=3), ActiveCell(col=44, row=3), ActiveCell(col=45, row=3), ActiveCell(col=46, row=3), ActiveCell(col=47, row=3), ActiveCell(col=48, row=3), ActiveCell(col=49, row=3), ActiveCell(col=50, row=3), ActiveCell(col=51, row=3), ActiveCell(col=52, row=3), ActiveCell(col=53, row=3), ActiveCell(col=54, row=3), ActiveCell(col=55, row=3), ActiveCell(col=56, row=3), ActiveCell(col=57, row=3), ActiveCell(col=58, row=3), ActiveCell(col=59, row=3), ActiveCell(col=60, row=3), ActiveCell(col=61, row=3), ActiveCell(col=62, row=3), ActiveCell(col=63, row=3), ActiveCell(col=64, row=3), ActiveCell(col=65, row=3), ActiveCell(col=66, row=3), ActiveCell(col=67, row=3), ActiveCell(col=68, row=3), ActiveCell(col=69, row=3), ActiveCell(col=70, row=3), ActiveCell(col=71, row=3), ActiveCell(col=72, row=3), ActiveCell(col=73, row=3), ActiveCell(col=74, row=3), ActiveCell(col=75, row=3), ActiveCell(col=76, row=3), ActiveCell(col=77, row=3), ActiveCell(col=78, row=3), ActiveCell(col=79, row=3), ActiveCell(col=80, row=3), ActiveCell(col=81, row=3), ActiveCell(col=82, row=3), ActiveCell(col=83, row=3), ActiveCell(col=84, row=3), ActiveCell(col=85, row=3), ActiveCell(col=86, row=3), ActiveCell(col=87, row=3), ActiveCell(col=88, row=3), ActiveCell(col=89, row=3), ActiveCell(col=90, row=3), ActiveCell(col=91, row=3), ActiveCell(col=92, row=3), ActiveCell(col=1, row=4), ActiveCell(col=2, row=4), ActiveCell(col=3, row=4), ActiveCell(col=4, row=4), ActiveCell(col=5, row=4), ActiveCell(col=6, row=4), ActiveCell(col=7, row=4), ActiveCell(col=8, row=4), ActiveCell(col=9, row=4), ActiveCell(col=10, row=4), ActiveCell(col=11, row=4), ActiveCell(col=12, row=4), ActiveCell(col=13, row=4), ActiveCell(col=14, row=4), ActiveCell(col=15, row=4), ActiveCell(col=16, row=4), ActiveCell(col=17, row=4), ActiveCell(col=18, row=4), ActiveCell(col=19, row=4), ActiveCell(col=20, row=4), ActiveCell(col=21, row=4), ActiveCell(col=22, row=4), ActiveCell(col=23, row=4), ActiveCell(col=24, row=4), ActiveCell(col=25, row=4), ActiveCell(col=26, row=4), ActiveCell(col=27, row=4), ActiveCell(col=28, row=4), ActiveCell(col=29, row=4), ActiveCell(col=30, row=4), ActiveCell(col=31, row=4), ActiveCell(col=32, row=4), ActiveCell(col=33, row=4), ActiveCell(col=34, row=4), ActiveCell(col=35, row=4), ActiveCell(col=36, row=4), ActiveCell(col=37, row=4), ActiveCell(col=38, row=4), ActiveCell(col=39, row=4), ActiveCell(col=40, row=4), ActiveCell(col=41, row=4), ActiveCell(col=42, row=4), ActiveCell(col=43, row=4), ActiveCell(col=44, row=4), ActiveCell(col=45, row=4), ActiveCell(col=46, row=4), ActiveCell(col=47, row=4), ActiveCell(col=48, row=4), ActiveCell(col=49, row=4), ActiveCell(col=50, row=4), ActiveCell(col=51, row=4), ActiveCell(col=52, row=4), ActiveCell(col=53, row=4), ActiveCell(col=54, row=4), ActiveCell(col=55, row=4), ActiveCell(col=56, row=4), ActiveCell(col=57, row=4), ActiveCell(col=58, row=4), ActiveCell(col=59, row=4), ActiveCell(col=60, row=4), ActiveCell(col=61, row=4), ActiveCell(col=62, row=4), ActiveCell(col=63, row=4), ActiveCell(col=64, row=4), ActiveCell(col=65, row=4), ActiveCell(col=66, row=4), ActiveCell(col=67, row=4), ActiveCell(col=68, row=4), ActiveCell(col=69, row=4), ActiveCell(col=70, row=4), ActiveCell(col=71, row=4), ActiveCell(col=72, row=4), ActiveCell(col=73, row=4), ActiveCell(col=74, row=4), ActiveCell(col=75, row=4), ActiveCell(col=76, row=4), ActiveCell(col=77, row=4), ActiveCell(col=78, row=4), ActiveCell(col=79, row=4), ActiveCell(col=80, row=4), ActiveCell(col=81, row=4), ActiveCell(col=82, row=4), ActiveCell(col=83, row=4), ActiveCell(col=84, row=4), ActiveCell(col=85, row=4), ActiveCell(col=86, row=4), ActiveCell(col=87, row=4), ActiveCell(col=88, row=4), ActiveCell(col=89, row=4), ActiveCell(col=90, row=4), ActiveCell(col=91, row=4), ActiveCell(col=92, row=4), ActiveCell(col=93, row=4), ActiveCell(col=1, row=5), ActiveCell(col=2, row=5), ActiveCell(col=3, row=5), ActiveCell(col=4, row=5), ActiveCell(col=5, row=5), ActiveCell(col=6, row=5), ActiveCell(col=7, row=5), ActiveCell(col=8, row=5), ActiveCell(col=9, row=5), ActiveCell(col=10, row=5), ActiveCell(col=11, row=5), ActiveCell(col=12, row=5), ActiveCell(col=13, row=5), ActiveCell(col=14, row=5), ActiveCell(col=15, row=5), ActiveCell(col=16, row=5), ActiveCell(col=17, row=5), ActiveCell(col=18, row=5), ActiveCell(col=19, row=5), ActiveCell(col=20, row=5), ActiveCell(col=21, row=5), ActiveCell(col=22, row=5), ActiveCell(col=23, row=5), ActiveCell(col=24, row=5), ActiveCell(col=25, row=5), ActiveCell(col=26, row=5), ActiveCell(col=27, row=5), ActiveCell(col=28, row=5), ActiveCell(col=29, row=5), ActiveCell(col=30, row=5), ActiveCell(col=31, row=5), ActiveCell(col=32, row=5), ActiveCell(col=33, row=5), ActiveCell(col=34, row=5), ActiveCell(col=35, row=5), ActiveCell(col=36, row=5), ActiveCell(col=37, row=5), ActiveCell(col=38, row=5), ActiveCell(col=39, row=5), ActiveCell(col=40, row=5), ActiveCell(col=41, row=5), ActiveCell(col=42, row=5), ActiveCell(col=43, row=5), ActiveCell(col=44, row=5), ActiveCell(col=45, row=5), ActiveCell(col=46, row=5), ActiveCell(col=47, row=5), ActiveCell(col=48, row=5), ActiveCell(col=49, row=5), ActiveCell(col=50, row=5), ActiveCell(col=51, row=5), ActiveCell(col=52, row=5), ActiveCell(col=53, row=5), ActiveCell(col=54, row=5), ActiveCell(col=55, row=5), ActiveCell(col=56, row=5), ActiveCell(col=57, row=5), ActiveCell(col=58, row=5), ActiveCell(col=59, row=5), ActiveCell(col=60, row=5), ActiveCell(col=61, row=5), ActiveCell(col=62, row=5), ActiveCell(col=63, row=5), ActiveCell(col=64, row=5), ActiveCell(col=65, row=5), ActiveCell(col=66, row=5), ActiveCell(col=67, row=5), ActiveCell(col=68, row=5), ActiveCell(col=69, row=5), ActiveCell(col=70, row=5), ActiveCell(col=71, row=5), ActiveCell(col=72, row=5), ActiveCell(col=73, row=5), ActiveCell(col=74, row=5), ActiveCell(col=75, row=5), ActiveCell(col=76, row=5), ActiveCell(col=77, row=5), ActiveCell(col=78, row=5), ActiveCell(col=79, row=5), ActiveCell(col=80, row=5), ActiveCell(col=81, row=5), ActiveCell(col=82, row=5), ActiveCell(col=83, row=5), ActiveCell(col=84, row=5), ActiveCell(col=85, row=5), ActiveCell(col=86, row=5), ActiveCell(col=87, row=5), ActiveCell(col=88, row=5), ActiveCell(col=89, row=5), ActiveCell(col=90, row=5), ActiveCell(col=91, row=5), ActiveCell(col=92, row=5), ActiveCell(col=93, row=5), ActiveCell(col=1, row=6), ActiveCell(col=2, row=6), ActiveCell(col=3, row=6), ActiveCell(col=4, row=6), ActiveCell(col=5, row=6), ActiveCell(col=6, row=6), ActiveCell(col=7, row=6), ActiveCell(col=8, row=6), ActiveCell(col=9, row=6), ActiveCell(col=10, row=6), ActiveCell(col=11, row=6), ActiveCell(col=12, row=6), ActiveCell(col=13, row=6), ActiveCell(col=14, row=6), ActiveCell(col=15, row=6), ActiveCell(col=16, row=6), ActiveCell(col=17, row=6), ActiveCell(col=18, row=6), ActiveCell(col=19, row=6), ActiveCell(col=20, row=6), ActiveCell(col=21, row=6), ActiveCell(col=22, row=6), ActiveCell(col=23, row=6), ActiveCell(col=24, row=6), ActiveCell(col=25, row=6), ActiveCell(col=26, row=6), ActiveCell(col=27, row=6), ActiveCell(col=28, row=6), ActiveCell(col=29, row=6), ActiveCell(col=30, row=6), ActiveCell(col=31, row=6), ActiveCell(col=32, row=6), ActiveCell(col=33, row=6), ActiveCell(col=34, row=6), ActiveCell(col=35, row=6), ActiveCell(col=36, row=6), ActiveCell(col=37, row=6), ActiveCell(col=38, row=6), ActiveCell(col=39, row=6), ActiveCell(col=40, row=6), ActiveCell(col=41, row=6), ActiveCell(col=42, row=6), ActiveCell(col=43, row=6), ActiveCell(col=44, row=6), ActiveCell(col=45, row=6), ActiveCell(col=46, row=6), ActiveCell(col=47, row=6), ActiveCell(col=48, row=6), ActiveCell(col=49, row=6), ActiveCell(col=50, row=6), ActiveCell(col=51, row=6), ActiveCell(col=52, row=6), ActiveCell(col=53, row=6), ActiveCell(col=54, row=6), ActiveCell(col=55, row=6), ActiveCell(col=56, row=6), ActiveCell(col=57, row=6), ActiveCell(col=58, row=6), ActiveCell(col=59, row=6), ActiveCell(col=60, row=6), ActiveCell(col=61, row=6), ActiveCell(col=62, row=6), ActiveCell(col=63, row=6), ActiveCell(col=64, row=6), ActiveCell(col=65, row=6), ActiveCell(col=66, row=6), ActiveCell(col=67, row=6), ActiveCell(col=68, row=6), ActiveCell(col=69, row=6), ActiveCell(col=70, row=6), ActiveCell(col=71, row=6), ActiveCell(col=72, row=6), ActiveCell(col=73, row=6), ActiveCell(col=74, row=6), ActiveCell(col=75, row=6), ActiveCell(col=76, row=6), ActiveCell(col=77, row=6), ActiveCell(col=78, row=6), ActiveCell(col=79, row=6), ActiveCell(col=80, row=6), ActiveCell(col=81, row=6), ActiveCell(col=82, row=6), ActiveCell(col=83, row=6), ActiveCell(col=84, row=6), ActiveCell(col=85, row=6), ActiveCell(col=86, row=6), ActiveCell(col=87, row=6), ActiveCell(col=88, row=6), ActiveCell(col=89, row=6), ActiveCell(col=90, row=6), ActiveCell(col=91, row=6), ActiveCell(col=92, row=6), ActiveCell(col=93, row=6), ActiveCell(col=1, row=7), ActiveCell(col=2, row=7), ActiveCell(col=3, row=7), ActiveCell(col=4, row=7), ActiveCell(col=5, row=7), ActiveCell(col=6, row=7), ActiveCell(col=7, row=7), ActiveCell(col=8, row=7), ActiveCell(col=9, row=7), ActiveCell(col=10, row=7), ActiveCell(col=11, row=7), ActiveCell(col=12, row=7), ActiveCell(col=13, row=7), ActiveCell(col=14, row=7), ActiveCell(col=15, row=7), ActiveCell(col=16, row=7), ActiveCell(col=17, row=7), ActiveCell(col=18, row=7), ActiveCell(col=19, row=7), ActiveCell(col=20, row=7), ActiveCell(col=21, row=7), ActiveCell(col=22, row=7), ActiveCell(col=23, row=7), ActiveCell(col=24, row=7), ActiveCell(col=25, row=7), ActiveCell(col=26, row=7), ActiveCell(col=27, row=7), ActiveCell(col=28, row=7), ActiveCell(col=29, row=7), ActiveCell(col=30, row=7), ActiveCell(col=31, row=7), ActiveCell(col=32, row=7), ActiveCell(col=33, row=7), ActiveCell(col=34, row=7), ActiveCell(col=35, row=7), ActiveCell(col=36, row=7), ActiveCell(col=37, row=7), ActiveCell(col=38, row=7), ActiveCell(col=39, row=7), ActiveCell(col=40, row=7), ActiveCell(col=41, row=7), ActiveCell(col=42, row=7), ActiveCell(col=43, row=7), ActiveCell(col=44, row=7), ActiveCell(col=45, row=7), ActiveCell(col=46, row=7), ActiveCell(col=47, row=7), ActiveCell(col=48, row=7), ActiveCell(col=49, row=7), ActiveCell(col=50, row=7), ActiveCell(col=51, row=7), ActiveCell(col=52, row=7), ActiveCell(col=53, row=7), ActiveCell(col=54, row=7), ActiveCell(col=55, row=7), ActiveCell(col=56, row=7), ActiveCell(col=57, row=7), ActiveCell(col=58, row=7), ActiveCell(col=59, row=7), ActiveCell(col=60, row=7), ActiveCell(col=61, row=7), ActiveCell(col=62, row=7), ActiveCell(col=63, row=7), ActiveCell(col=64, row=7), ActiveCell(col=65, row=7), ActiveCell(col=66, row=7), ActiveCell(col=67, row=7), ActiveCell(col=68, row=7), ActiveCell(col=69, row=7), ActiveCell(col=70, row=7), ActiveCell(col=71, row=7), ActiveCell(col=72, row=7), ActiveCell(col=73, row=7), ActiveCell(col=74, row=7), ActiveCell(col=75, row=7), ActiveCell(col=76, row=7), ActiveCell(col=77, row=7), ActiveCell(col=78, row=7), ActiveCell(col=79, row=7), ActiveCell(col=80, row=7), ActiveCell(col=81, row=7), ActiveCell(col=82, row=7), ActiveCell(col=83, row=7), ActiveCell(col=84, row=7), ActiveCell(col=85, row=7), ActiveCell(col=86, row=7), ActiveCell(col=87, row=7), ActiveCell(col=88, row=7), ActiveCell(col=89, row=7), ActiveCell(col=90, row=7), ActiveCell(col=91, row=7), ActiveCell(col=92, row=7), ActiveCell(col=93, row=7), ActiveCell(col=2, row=8), ActiveCell(col=3, row=8), ActiveCell(col=4, row=8), ActiveCell(col=5, row=8), ActiveCell(col=6, row=8), ActiveCell(col=7, row=8), ActiveCell(col=8, row=8), ActiveCell(col=9, row=8), ActiveCell(col=10, row=8), ActiveCell(col=11, row=8), ActiveCell(col=12, row=8), ActiveCell(col=13, row=8), ActiveCell(col=14, row=8), ActiveCell(col=15, row=8), ActiveCell(col=16, row=8), ActiveCell(col=17, row=8), ActiveCell(col=18, row=8), ActiveCell(col=19, row=8), ActiveCell(col=20, row=8), ActiveCell(col=21, row=8), ActiveCell(col=22, row=8), ActiveCell(col=23, row=8), ActiveCell(col=24, row=8), ActiveCell(col=25, row=8), ActiveCell(col=26, row=8), ActiveCell(col=27, row=8), ActiveCell(col=28, row=8), ActiveCell(col=29, row=8), ActiveCell(col=30, row=8), ActiveCell(col=31, row=8), ActiveCell(col=32, row=8), ActiveCell(col=33, row=8), ActiveCell(col=34, row=8), ActiveCell(col=35, row=8), ActiveCell(col=36, row=8), ActiveCell(col=37, row=8), ActiveCell(col=38, row=8), ActiveCell(col=39, row=8), ActiveCell(col=40, row=8), ActiveCell(col=41, row=8), ActiveCell(col=42, row=8), ActiveCell(col=43, row=8), ActiveCell(col=44, row=8), ActiveCell(col=45, row=8), ActiveCell(col=46, row=8), ActiveCell(col=47, row=8), ActiveCell(col=48, row=8), ActiveCell(col=49, row=8), ActiveCell(col=50, row=8), ActiveCell(col=51, row=8), ActiveCell(col=52, row=8), ActiveCell(col=53, row=8), ActiveCell(col=54, row=8), ActiveCell(col=55, row=8), ActiveCell(col=56, row=8), ActiveCell(col=57, row=8), ActiveCell(col=58, row=8), ActiveCell(col=59, row=8), ActiveCell(col=60, row=8), ActiveCell(col=61, row=8), ActiveCell(col=62, row=8), ActiveCell(col=63, row=8), ActiveCell(col=64, row=8), ActiveCell(col=65, row=8), ActiveCell(col=66, row=8), ActiveCell(col=67, row=8), ActiveCell(col=68, row=8), ActiveCell(col=69, row=8), ActiveCell(col=70, row=8), ActiveCell(col=71, row=8), ActiveCell(col=72, row=8), ActiveCell(col=73, row=8), ActiveCell(col=74, row=8), ActiveCell(col=75, row=8), ActiveCell(col=76, row=8), ActiveCell(col=77, row=8), ActiveCell(col=78, row=8), ActiveCell(col=79, row=8), ActiveCell(col=80, row=8), ActiveCell(col=81, row=8), ActiveCell(col=82, row=8), ActiveCell(col=83, row=8), ActiveCell(col=84, row=8), ActiveCell(col=85, row=8), ActiveCell(col=86, row=8), ActiveCell(col=87, row=8), ActiveCell(col=88, row=8), ActiveCell(col=89, row=8), ActiveCell(col=90, row=8), ActiveCell(col=91, row=8), ActiveCell(col=92, row=8), ActiveCell(col=93, row=8), ActiveCell(col=2, row=9), ActiveCell(col=3, row=9), ActiveCell(col=4, row=9), ActiveCell(col=5, row=9), ActiveCell(col=6, row=9), ActiveCell(col=7, row=9), ActiveCell(col=8, row=9), ActiveCell(col=9, row=9), ActiveCell(col=10, row=9), ActiveCell(col=11, row=9), ActiveCell(col=12, row=9), ActiveCell(col=13, row=9), ActiveCell(col=14, row=9), ActiveCell(col=15, row=9), ActiveCell(col=16, row=9), ActiveCell(col=17, row=9), ActiveCell(col=18, row=9), ActiveCell(col=19, row=9), ActiveCell(col=20, row=9), ActiveCell(col=21, row=9), ActiveCell(col=22, row=9), ActiveCell(col=23, row=9), ActiveCell(col=24, row=9), ActiveCell(col=25, row=9), ActiveCell(col=26, row=9), ActiveCell(col=27, row=9), ActiveCell(col=28, row=9), ActiveCell(col=29, row=9), ActiveCell(col=30, row=9), ActiveCell(col=31, row=9), ActiveCell(col=32, row=9), ActiveCell(col=33, row=9), ActiveCell(col=34, row=9), ActiveCell(col=35, row=9), ActiveCell(col=36, row=9), ActiveCell(col=37, row=9), ActiveCell(col=38, row=9), ActiveCell(col=39, row=9), ActiveCell(col=40, row=9), ActiveCell(col=41, row=9), ActiveCell(col=42, row=9), ActiveCell(col=43, row=9), ActiveCell(col=44, row=9), ActiveCell(col=45, row=9), ActiveCell(col=46, row=9), ActiveCell(col=47, row=9), ActiveCell(col=48, row=9), ActiveCell(col=49, row=9), ActiveCell(col=50, row=9), ActiveCell(col=51, row=9), ActiveCell(col=52, row=9), ActiveCell(col=53, row=9), ActiveCell(col=54, row=9), ActiveCell(col=55, row=9), ActiveCell(col=56, row=9), ActiveCell(col=57, row=9), ActiveCell(col=58, row=9), ActiveCell(col=59, row=9), ActiveCell(col=60, row=9), ActiveCell(col=61, row=9), ActiveCell(col=62, row=9), ActiveCell(col=63, row=9), ActiveCell(col=64, row=9), ActiveCell(col=65, row=9), ActiveCell(col=66, row=9), ActiveCell(col=67, row=9), ActiveCell(col=68, row=9), ActiveCell(col=69, row=9), ActiveCell(col=70, row=9), ActiveCell(col=71, row=9), ActiveCell(col=72, row=9), ActiveCell(col=73, row=9), ActiveCell(col=74, row=9), ActiveCell(col=75, row=9), ActiveCell(col=76, row=9), ActiveCell(col=77, row=9), ActiveCell(col=78, row=9), ActiveCell(col=79, row=9), ActiveCell(col=80, row=9), ActiveCell(col=81, row=9), ActiveCell(col=82, row=9), ActiveCell(col=83, row=9), ActiveCell(col=84, row=9), ActiveCell(col=85, row=9), ActiveCell(col=86, row=9), ActiveCell(col=87, row=9), ActiveCell(col=88, row=9), ActiveCell(col=89, row=9), ActiveCell(col=90, row=9), ActiveCell(col=91, row=9), ActiveCell(col=92, row=9), ActiveCell(col=93, row=9), ActiveCell(col=94, row=9), ActiveCell(col=2, row=10), ActiveCell(col=3, row=10), ActiveCell(col=4, row=10), ActiveCell(col=5, row=10), ActiveCell(col=6, row=10), ActiveCell(col=7, row=10), ActiveCell(col=8, row=10), ActiveCell(col=9, row=10), ActiveCell(col=10, row=10), ActiveCell(col=11, row=10), ActiveCell(col=12, row=10), ActiveCell(col=13, row=10), ActiveCell(col=14, row=10), ActiveCell(col=15, row=10), ActiveCell(col=16, row=10), ActiveCell(col=17, row=10), ActiveCell(col=18, row=10), ActiveCell(col=19, row=10), ActiveCell(col=20, row=10), ActiveCell(col=21, row=10), ActiveCell(col=22, row=10), ActiveCell(col=23, row=10), ActiveCell(col=24, row=10), ActiveCell(col=25, row=10), ActiveCell(col=26, row=10), ActiveCell(col=27, row=10), ActiveCell(col=28, row=10), ActiveCell(col=29, row=10), ActiveCell(col=30, row=10), ActiveCell(col=31, row=10), ActiveCell(col=32, row=10), ActiveCell(col=33, row=10), ActiveCell(col=34, row=10), ActiveCell(col=35, row=10), ActiveCell(col=36, row=10), ActiveCell(col=37, row=10), ActiveCell(col=38, row=10), ActiveCell(col=39, row=10), ActiveCell(col=40, row=10), ActiveCell(col=41, row=10), ActiveCell(col=42, row=10), ActiveCell(col=43, row=10), ActiveCell(col=44, row=10), ActiveCell(col=45, row=10), ActiveCell(col=46, row=10), ActiveCell(col=47, row=10), ActiveCell(col=48, row=10), ActiveCell(col=49, row=10), ActiveCell(col=50, row=10), ActiveCell(col=51, row=10), ActiveCell(col=52, row=10), ActiveCell(col=53, row=10), ActiveCell(col=54, row=10), ActiveCell(col=55, row=10), ActiveCell(col=56, row=10), ActiveCell(col=57, row=10), ActiveCell(col=58, row=10), ActiveCell(col=59, row=10), ActiveCell(col=60, row=10), ActiveCell(col=61, row=10), ActiveCell(col=62, row=10), ActiveCell(col=63, row=10), ActiveCell(col=64, row=10), ActiveCell(col=65, row=10), ActiveCell(col=66, row=10), ActiveCell(col=67, row=10), ActiveCell(col=68, row=10), ActiveCell(col=69, row=10), ActiveCell(col=70, row=10), ActiveCell(col=71, row=10), ActiveCell(col=72, row=10), ActiveCell(col=73, row=10), ActiveCell(col=74, row=10), ActiveCell(col=75, row=10), ActiveCell(col=76, row=10), ActiveCell(col=77, row=10), ActiveCell(col=78, row=10), ActiveCell(col=79, row=10), ActiveCell(col=80, row=10), ActiveCell(col=81, row=10), ActiveCell(col=82, row=10), ActiveCell(col=83, row=10), ActiveCell(col=84, row=10), ActiveCell(col=85, row=10), ActiveCell(col=86, row=10), ActiveCell(col=87, row=10), ActiveCell(col=88, row=10), ActiveCell(col=89, row=10), ActiveCell(col=90, row=10), ActiveCell(col=91, row=10), ActiveCell(col=92, row=10), ActiveCell(col=93, row=10), ActiveCell(col=94, row=10), ActiveCell(col=2, row=11), ActiveCell(col=3, row=11), ActiveCell(col=4, row=11), ActiveCell(col=5, row=11), ActiveCell(col=6, row=11), ActiveCell(col=7, row=11), ActiveCell(col=8, row=11), ActiveCell(col=9, row=11), ActiveCell(col=10, row=11), ActiveCell(col=11, row=11), ActiveCell(col=12, row=11), ActiveCell(col=13, row=11), ActiveCell(col=14, row=11), ActiveCell(col=15, row=11), ActiveCell(col=16, row=11), ActiveCell(col=17, row=11), ActiveCell(col=18, row=11), ActiveCell(col=19, row=11), ActiveCell(col=20, row=11), ActiveCell(col=21, row=11), ActiveCell(col=22, row=11), ActiveCell(col=23, row=11), ActiveCell(col=24, row=11), ActiveCell(col=25, row=11), ActiveCell(col=26, row=11), ActiveCell(col=27, row=11), ActiveCell(col=28, row=11), ActiveCell(col=29, row=11), ActiveCell(col=30, row=11), ActiveCell(col=31, row=11), ActiveCell(col=32, row=11), ActiveCell(col=33, row=11), ActiveCell(col=34, row=11), ActiveCell(col=35, row=11), ActiveCell(col=36, row=11), ActiveCell(col=37, row=11), ActiveCell(col=38, row=11), ActiveCell(col=39, row=11), ActiveCell(col=40, row=11), ActiveCell(col=41, row=11), ActiveCell(col=42, row=11), ActiveCell(col=43, row=11), ActiveCell(col=44, row=11), ActiveCell(col=45, row=11), ActiveCell(col=46, row=11), ActiveCell(col=47, row=11), ActiveCell(col=48, row=11), ActiveCell(col=49, row=11), ActiveCell(col=50, row=11), ActiveCell(col=51, row=11), ActiveCell(col=52, row=11), ActiveCell(col=53, row=11), ActiveCell(col=54, row=11), ActiveCell(col=55, row=11), ActiveCell(col=56, row=11), ActiveCell(col=57, row=11), ActiveCell(col=58, row=11), ActiveCell(col=59, row=11), ActiveCell(col=60, row=11), ActiveCell(col=61, row=11), ActiveCell(col=62, row=11), ActiveCell(col=63, row=11), ActiveCell(col=64, row=11), ActiveCell(col=65, row=11), ActiveCell(col=66, row=11), ActiveCell(col=67, row=11), ActiveCell(col=68, row=11), ActiveCell(col=69, row=11), ActiveCell(col=70, row=11), ActiveCell(col=71, row=11), ActiveCell(col=72, row=11), ActiveCell(col=73, row=11), ActiveCell(col=74, row=11), ActiveCell(col=75, row=11), ActiveCell(col=76, row=11), ActiveCell(col=77, row=11), ActiveCell(col=78, row=11), ActiveCell(col=79, row=11), ActiveCell(col=80, row=11), ActiveCell(col=81, row=11), ActiveCell(col=82, row=11), ActiveCell(col=83, row=11), ActiveCell(col=84, row=11), ActiveCell(col=85, row=11), ActiveCell(col=86, row=11), ActiveCell(col=87, row=11), ActiveCell(col=88, row=11), ActiveCell(col=89, row=11), ActiveCell(col=90, row=11), ActiveCell(col=91, row=11), ActiveCell(col=92, row=11), ActiveCell(col=93, row=11), ActiveCell(col=94, row=11), ActiveCell(col=2, row=12), ActiveCell(col=3, row=12), ActiveCell(col=4, row=12), ActiveCell(col=5, row=12), ActiveCell(col=6, row=12), ActiveCell(col=7, row=12), ActiveCell(col=8, row=12), ActiveCell(col=9, row=12), ActiveCell(col=10, row=12), ActiveCell(col=11, row=12), ActiveCell(col=12, row=12), ActiveCell(col=13, row=12), ActiveCell(col=14, row=12), ActiveCell(col=15, row=12), ActiveCell(col=16, row=12), ActiveCell(col=17, row=12), ActiveCell(col=18, row=12), ActiveCell(col=19, row=12), ActiveCell(col=20, row=12), ActiveCell(col=21, row=12), ActiveCell(col=22, row=12), ActiveCell(col=23, row=12), ActiveCell(col=24, row=12), ActiveCell(col=25, row=12), ActiveCell(col=26, row=12), ActiveCell(col=27, row=12), ActiveCell(col=28, row=12), ActiveCell(col=29, row=12), ActiveCell(col=30, row=12), ActiveCell(col=31, row=12), ActiveCell(col=32, row=12), ActiveCell(col=33, row=12), ActiveCell(col=34, row=12), ActiveCell(col=35, row=12), ActiveCell(col=36, row=12), ActiveCell(col=37, row=12), ActiveCell(col=38, row=12), ActiveCell(col=39, row=12), ActiveCell(col=40, row=12), ActiveCell(col=41, row=12), ActiveCell(col=42, row=12), ActiveCell(col=43, row=12), ActiveCell(col=44, row=12), ActiveCell(col=45, row=12), ActiveCell(col=46, row=12), ActiveCell(col=47, row=12), ActiveCell(col=48, row=12), ActiveCell(col=49, row=12), ActiveCell(col=50, row=12), ActiveCell(col=51, row=12), ActiveCell(col=52, row=12), ActiveCell(col=53, row=12), ActiveCell(col=54, row=12), ActiveCell(col=55, row=12), ActiveCell(col=56, row=12), ActiveCell(col=57, row=12), ActiveCell(col=58, row=12), ActiveCell(col=59, row=12), ActiveCell(col=60, row=12), ActiveCell(col=61, row=12), ActiveCell(col=62, row=12), ActiveCell(col=63, row=12), ActiveCell(col=64, row=12), ActiveCell(col=65, row=12), ActiveCell(col=66, row=12), ActiveCell(col=67, row=12), ActiveCell(col=68, row=12), ActiveCell(col=69, row=12), ActiveCell(col=70, row=12), ActiveCell(col=71, row=12), ActiveCell(col=72, row=12), ActiveCell(col=73, row=12), ActiveCell(col=74, row=12), ActiveCell(col=75, row=12), ActiveCell(col=76, row=12), ActiveCell(col=77, row=12), ActiveCell(col=78, row=12), ActiveCell(col=79, row=12), ActiveCell(col=80, row=12), ActiveCell(col=81, row=12), ActiveCell(col=82, row=12), ActiveCell(col=83, row=12), ActiveCell(col=84, row=12), ActiveCell(col=85, row=12), ActiveCell(col=86, row=12), ActiveCell(col=87, row=12), ActiveCell(col=88, row=12), ActiveCell(col=89, row=12), ActiveCell(col=90, row=12), ActiveCell(col=91, row=12), ActiveCell(col=92, row=12), ActiveCell(col=93, row=12), ActiveCell(col=94, row=12), ActiveCell(col=3, row=13), ActiveCell(col=4, row=13), ActiveCell(col=5, row=13), ActiveCell(col=6, row=13), ActiveCell(col=7, row=13), ActiveCell(col=8, row=13), ActiveCell(col=9, row=13), ActiveCell(col=10, row=13), ActiveCell(col=11, row=13), ActiveCell(col=12, row=13), ActiveCell(col=13, row=13), ActiveCell(col=14, row=13), ActiveCell(col=15, row=13), ActiveCell(col=16, row=13), ActiveCell(col=17, row=13), ActiveCell(col=18, row=13), ActiveCell(col=19, row=13), ActiveCell(col=20, row=13), ActiveCell(col=21, row=13), ActiveCell(col=22, row=13), ActiveCell(col=23, row=13), ActiveCell(col=24, row=13), ActiveCell(col=25, row=13), ActiveCell(col=26, row=13), ActiveCell(col=27, row=13), ActiveCell(col=28, row=13), ActiveCell(col=29, row=13), ActiveCell(col=30, row=13), ActiveCell(col=31, row=13), ActiveCell(col=32, row=13), ActiveCell(col=33, row=13), ActiveCell(col=34, row=13), ActiveCell(col=35, row=13), ActiveCell(col=36, row=13), ActiveCell(col=37, row=13), ActiveCell(col=38, row=13), ActiveCell(col=39, row=13), ActiveCell(col=40, row=13), ActiveCell(col=41, row=13), ActiveCell(col=42, row=13), ActiveCell(col=43, row=13), ActiveCell(col=44, row=13), ActiveCell(col=45, row=13), ActiveCell(col=46, row=13), ActiveCell(col=47, row=13), ActiveCell(col=48, row=13), ActiveCell(col=49, row=13), ActiveCell(col=50, row=13), ActiveCell(col=51, row=13), ActiveCell(col=52, row=13), ActiveCell(col=53, row=13), ActiveCell(col=54, row=13), ActiveCell(col=55, row=13), ActiveCell(col=56, row=13), ActiveCell(col=57, row=13), ActiveCell(col=58, row=13), ActiveCell(col=59, row=13), ActiveCell(col=60, row=13), ActiveCell(col=61, row=13), ActiveCell(col=62, row=13), ActiveCell(col=63, row=13), ActiveCell(col=64, row=13), ActiveCell(col=65, row=13), ActiveCell(col=66, row=13), ActiveCell(col=67, row=13), ActiveCell(col=68, row=13), ActiveCell(col=69, row=13), ActiveCell(col=70, row=13), ActiveCell(col=71, row=13), ActiveCell(col=72, row=13), ActiveCell(col=73, row=13), ActiveCell(col=74, row=13), ActiveCell(col=75, row=13), ActiveCell(col=76, row=13), ActiveCell(col=77, row=13), ActiveCell(col=78, row=13), ActiveCell(col=79, row=13), ActiveCell(col=80, row=13), ActiveCell(col=81, row=13), ActiveCell(col=82, row=13), ActiveCell(col=83, row=13), ActiveCell(col=84, row=13), ActiveCell(col=85, row=13), ActiveCell(col=86, row=13), ActiveCell(col=87, row=13), ActiveCell(col=88, row=13), ActiveCell(col=89, row=13), ActiveCell(col=90, row=13), ActiveCell(col=91, row=13), ActiveCell(col=92, row=13), ActiveCell(col=93, row=13), ActiveCell(col=94, row=13), ActiveCell(col=95, row=13), ActiveCell(col=3, row=14), ActiveCell(col=4, row=14), ActiveCell(col=5, row=14), ActiveCell(col=6, row=14), ActiveCell(col=7, row=14), ActiveCell(col=8, row=14), ActiveCell(col=9, row=14), ActiveCell(col=10, row=14), ActiveCell(col=11, row=14), ActiveCell(col=12, row=14), ActiveCell(col=13, row=14), ActiveCell(col=14, row=14), ActiveCell(col=15, row=14), ActiveCell(col=16, row=14), ActiveCell(col=17, row=14), ActiveCell(col=18, row=14), ActiveCell(col=19, row=14), ActiveCell(col=20, row=14), ActiveCell(col=21, row=14), ActiveCell(col=22, row=14), ActiveCell(col=23, row=14), ActiveCell(col=24, row=14), ActiveCell(col=25, row=14), ActiveCell(col=26, row=14), ActiveCell(col=27, row=14), ActiveCell(col=28, row=14), ActiveCell(col=29, row=14), ActiveCell(col=30, row=14), ActiveCell(col=31, row=14), ActiveCell(col=32, row=14), ActiveCell(col=33, row=14), ActiveCell(col=34, row=14), ActiveCell(col=35, row=14), ActiveCell(col=36, row=14), ActiveCell(col=37, row=14), ActiveCell(col=38, row=14), ActiveCell(col=39, row=14), ActiveCell(col=40, row=14), ActiveCell(col=41, row=14), ActiveCell(col=42, row=14), ActiveCell(col=43, row=14), ActiveCell(col=44, row=14), ActiveCell(col=45, row=14), ActiveCell(col=46, row=14), ActiveCell(col=47, row=14), ActiveCell(col=48, row=14), ActiveCell(col=49, row=14), ActiveCell(col=50, row=14), ActiveCell(col=51, row=14), ActiveCell(col=52, row=14), ActiveCell(col=53, row=14), ActiveCell(col=54, row=14), ActiveCell(col=55, row=14), ActiveCell(col=56, row=14), ActiveCell(col=57, row=14), ActiveCell(col=58, row=14), ActiveCell(col=59, row=14), ActiveCell(col=60, row=14), ActiveCell(col=61, row=14), ActiveCell(col=62, row=14), ActiveCell(col=63, row=14), ActiveCell(col=64, row=14), ActiveCell(col=65, row=14), ActiveCell(col=66, row=14), ActiveCell(col=67, row=14), ActiveCell(col=68, row=14), ActiveCell(col=69, row=14), ActiveCell(col=70, row=14), ActiveCell(col=71, row=14), ActiveCell(col=72, row=14), ActiveCell(col=73, row=14), ActiveCell(col=74, row=14), ActiveCell(col=75, row=14), ActiveCell(col=76, row=14), ActiveCell(col=77, row=14), ActiveCell(col=78, row=14), ActiveCell(col=79, row=14), ActiveCell(col=80, row=14), ActiveCell(col=81, row=14), ActiveCell(col=82, row=14), ActiveCell(col=83, row=14), ActiveCell(col=84, row=14), ActiveCell(col=85, row=14), ActiveCell(col=86, row=14), ActiveCell(col=87, row=14), ActiveCell(col=88, row=14), ActiveCell(col=89, row=14), ActiveCell(col=90, row=14), ActiveCell(col=91, row=14), ActiveCell(col=92, row=14), ActiveCell(col=93, row=14), ActiveCell(col=94, row=14), ActiveCell(col=95, row=14), ActiveCell(col=3, row=15), ActiveCell(col=4, row=15), ActiveCell(col=5, row=15), ActiveCell(col=6, row=15), ActiveCell(col=7, row=15), ActiveCell(col=8, row=15), ActiveCell(col=9, row=15), ActiveCell(col=10, row=15), ActiveCell(col=11, row=15), ActiveCell(col=12, row=15), ActiveCell(col=13, row=15), ActiveCell(col=14, row=15), ActiveCell(col=15, row=15), ActiveCell(col=16, row=15), ActiveCell(col=17, row=15), ActiveCell(col=18, row=15), ActiveCell(col=19, row=15), ActiveCell(col=20, row=15), ActiveCell(col=21, row=15), ActiveCell(col=22, row=15), ActiveCell(col=23, row=15), ActiveCell(col=24, row=15), ActiveCell(col=25, row=15), ActiveCell(col=26, row=15), ActiveCell(col=27, row=15), ActiveCell(col=28, row=15), ActiveCell(col=29, row=15), ActiveCell(col=30, row=15), ActiveCell(col=31, row=15), ActiveCell(col=32, row=15), ActiveCell(col=33, row=15), ActiveCell(col=34, row=15), ActiveCell(col=35, row=15), ActiveCell(col=36, row=15), ActiveCell(col=37, row=15), ActiveCell(col=38, row=15), ActiveCell(col=39, row=15), ActiveCell(col=40, row=15), ActiveCell(col=41, row=15), ActiveCell(col=42, row=15), ActiveCell(col=43, row=15), ActiveCell(col=44, row=15), ActiveCell(col=45, row=15), ActiveCell(col=46, row=15), ActiveCell(col=47, row=15), ActiveCell(col=48, row=15), ActiveCell(col=49, row=15), ActiveCell(col=50, row=15), ActiveCell(col=51, row=15), ActiveCell(col=52, row=15), ActiveCell(col=53, row=15), ActiveCell(col=54, row=15), ActiveCell(col=55, row=15), ActiveCell(col=56, row=15), ActiveCell(col=57, row=15), ActiveCell(col=58, row=15), ActiveCell(col=59, row=15), ActiveCell(col=60, row=15), ActiveCell(col=61, row=15), ActiveCell(col=62, row=15), ActiveCell(col=63, row=15), ActiveCell(col=64, row=15), ActiveCell(col=65, row=15), ActiveCell(col=66, row=15), ActiveCell(col=67, row=15), ActiveCell(col=68, row=15), ActiveCell(col=69, row=15), ActiveCell(col=70, row=15), ActiveCell(col=71, row=15), ActiveCell(col=72, row=15), ActiveCell(col=73, row=15), ActiveCell(col=74, row=15), ActiveCell(col=75, row=15), ActiveCell(col=76, row=15), ActiveCell(col=77, row=15), ActiveCell(col=78, row=15), ActiveCell(col=79, row=15), ActiveCell(col=80, row=15), ActiveCell(col=81, row=15), ActiveCell(col=82, row=15), ActiveCell(col=83, row=15), ActiveCell(col=84, row=15), ActiveCell(col=85, row=15), ActiveCell(col=86, row=15), ActiveCell(col=87, row=15), ActiveCell(col=88, row=15), ActiveCell(col=89, row=15), ActiveCell(col=90, row=15), ActiveCell(col=91, row=15), ActiveCell(col=92, row=15), ActiveCell(col=93, row=15), ActiveCell(col=94, row=15), ActiveCell(col=95, row=15), ActiveCell(col=3, row=16), ActiveCell(col=4, row=16), ActiveCell(col=5, row=16), ActiveCell(col=6, row=16), ActiveCell(col=7, row=16), ActiveCell(col=8, row=16), ActiveCell(col=9, row=16), ActiveCell(col=10, row=16), ActiveCell(col=11, row=16), ActiveCell(col=12, row=16), ActiveCell(col=13, row=16), ActiveCell(col=14, row=16), ActiveCell(col=15, row=16), ActiveCell(col=16, row=16), ActiveCell(col=17, row=16), ActiveCell(col=18, row=16), ActiveCell(col=19, row=16), ActiveCell(col=20, row=16), ActiveCell(col=21, row=16), ActiveCell(col=22, row=16), ActiveCell(col=23, row=16), ActiveCell(col=24, row=16), ActiveCell(col=25, row=16), ActiveCell(col=26, row=16), ActiveCell(col=27, row=16), ActiveCell(col=28, row=16), ActiveCell(col=29, row=16), ActiveCell(col=30, row=16), ActiveCell(col=31, row=16), ActiveCell(col=32, row=16), ActiveCell(col=33, row=16), ActiveCell(col=34, row=16), ActiveCell(col=35, row=16), ActiveCell(col=36, row=16), ActiveCell(col=37, row=16), ActiveCell(col=38, row=16), ActiveCell(col=39, row=16), ActiveCell(col=40, row=16), ActiveCell(col=41, row=16), ActiveCell(col=42, row=16), ActiveCell(col=43, row=16), ActiveCell(col=44, row=16), ActiveCell(col=45, row=16), ActiveCell(col=46, row=16), ActiveCell(col=47, row=16), ActiveCell(col=48, row=16), ActiveCell(col=49, row=16), ActiveCell(col=50, row=16), ActiveCell(col=51, row=16), ActiveCell(col=52, row=16), ActiveCell(col=53, row=16), ActiveCell(col=54, row=16), ActiveCell(col=55, row=16), ActiveCell(col=56, row=16), ActiveCell(col=57, row=16), ActiveCell(col=58, row=16), ActiveCell(col=59, row=16), ActiveCell(col=60, row=16), ActiveCell(col=61, row=16), ActiveCell(col=62, row=16), ActiveCell(col=63, row=16), ActiveCell(col=64, row=16), ActiveCell(col=65, row=16), ActiveCell(col=66, row=16), ActiveCell(col=67, row=16), ActiveCell(col=68, row=16), ActiveCell(col=69, row=16), ActiveCell(col=70, row=16), ActiveCell(col=71, row=16), ActiveCell(col=72, row=16), ActiveCell(col=73, row=16), ActiveCell(col=74, row=16), ActiveCell(col=75, row=16), ActiveCell(col=76, row=16), ActiveCell(col=77, row=16), ActiveCell(col=78, row=16), ActiveCell(col=79, row=16), ActiveCell(col=80, row=16), ActiveCell(col=81, row=16), ActiveCell(col=82, row=16), ActiveCell(col=83, row=16), ActiveCell(col=84, row=16), ActiveCell(col=85, row=16), ActiveCell(col=86, row=16), ActiveCell(col=87, row=16), ActiveCell(col=88, row=16), ActiveCell(col=89, row=16), ActiveCell(col=90, row=16), ActiveCell(col=91, row=16), ActiveCell(col=92, row=16), ActiveCell(col=93, row=16), ActiveCell(col=94, row=16), ActiveCell(col=95, row=16), ActiveCell(col=3, row=17), ActiveCell(col=4, row=17), ActiveCell(col=5, row=17), ActiveCell(col=6, row=17), ActiveCell(col=7, row=17), ActiveCell(col=8, row=17), ActiveCell(col=9, row=17), ActiveCell(col=10, row=17), ActiveCell(col=11, row=17), ActiveCell(col=12, row=17), ActiveCell(col=13, row=17), ActiveCell(col=14, row=17), ActiveCell(col=15, row=17), ActiveCell(col=16, row=17), ActiveCell(col=17, row=17), ActiveCell(col=18, row=17), ActiveCell(col=19, row=17), ActiveCell(col=20, row=17), ActiveCell(col=21, row=17), ActiveCell(col=22, row=17), ActiveCell(col=23, row=17), ActiveCell(col=24, row=17), ActiveCell(col=25, row=17), ActiveCell(col=26, row=17), ActiveCell(col=27, row=17), ActiveCell(col=28, row=17), ActiveCell(col=29, row=17), ActiveCell(col=30, row=17), ActiveCell(col=31, row=17), ActiveCell(col=32, row=17), ActiveCell(col=33, row=17), ActiveCell(col=34, row=17), ActiveCell(col=35, row=17), ActiveCell(col=36, row=17), ActiveCell(col=37, row=17), ActiveCell(col=38, row=17), ActiveCell(col=39, row=17), ActiveCell(col=40, row=17), ActiveCell(col=41, row=17), ActiveCell(col=42, row=17), ActiveCell(col=43, row=17), ActiveCell(col=44, row=17), ActiveCell(col=45, row=17), ActiveCell(col=46, row=17), ActiveCell(col=47, row=17), ActiveCell(col=48, row=17), ActiveCell(col=49, row=17), ActiveCell(col=50, row=17), ActiveCell(col=51, row=17), ActiveCell(col=52, row=17), ActiveCell(col=53, row=17), ActiveCell(col=54, row=17), ActiveCell(col=55, row=17), ActiveCell(col=56, row=17), ActiveCell(col=57, row=17), ActiveCell(col=58, row=17), ActiveCell(col=59, row=17), ActiveCell(col=60, row=17), ActiveCell(col=61, row=17), ActiveCell(col=62, row=17), ActiveCell(col=63, row=17), ActiveCell(col=64, row=17), ActiveCell(col=65, row=17), ActiveCell(col=66, row=17), ActiveCell(col=67, row=17), ActiveCell(col=68, row=17), ActiveCell(col=69, row=17), ActiveCell(col=70, row=17), ActiveCell(col=71, row=17), ActiveCell(col=72, row=17), ActiveCell(col=73, row=17), ActiveCell(col=74, row=17), ActiveCell(col=75, row=17), ActiveCell(col=76, row=17), ActiveCell(col=77, row=17), ActiveCell(col=78, row=17), ActiveCell(col=79, row=17), ActiveCell(col=80, row=17), ActiveCell(col=81, row=17), ActiveCell(col=82, row=17), ActiveCell(col=83, row=17), ActiveCell(col=84, row=17), ActiveCell(col=85, row=17), ActiveCell(col=86, row=17), ActiveCell(col=87, row=17), ActiveCell(col=88, row=17), ActiveCell(col=89, row=17), ActiveCell(col=90, row=17), ActiveCell(col=91, row=17), ActiveCell(col=92, row=17), ActiveCell(col=93, row=17), ActiveCell(col=94, row=17), ActiveCell(col=95, row=17), ActiveCell(col=4, row=18), ActiveCell(col=5, row=18), ActiveCell(col=6, row=18), ActiveCell(col=7, row=18), ActiveCell(col=8, row=18), ActiveCell(col=9, row=18), ActiveCell(col=10, row=18), ActiveCell(col=11, row=18), ActiveCell(col=12, row=18), ActiveCell(col=13, row=18), ActiveCell(col=14, row=18), ActiveCell(col=15, row=18), ActiveCell(col=16, row=18), ActiveCell(col=17, row=18), ActiveCell(col=18, row=18), ActiveCell(col=19, row=18), ActiveCell(col=20, row=18), ActiveCell(col=21, row=18), ActiveCell(col=22, row=18), ActiveCell(col=23, row=18), ActiveCell(col=24, row=18), ActiveCell(col=25, row=18), ActiveCell(col=26, row=18), ActiveCell(col=27, row=18), ActiveCell(col=28, row=18), ActiveCell(col=29, row=18), ActiveCell(col=30, row=18), ActiveCell(col=31, row=18), ActiveCell(col=32, row=18), ActiveCell(col=33, row=18), ActiveCell(col=34, row=18), ActiveCell(col=35, row=18), ActiveCell(col=36, row=18), ActiveCell(col=37, row=18), ActiveCell(col=38, row=18), ActiveCell(col=39, row=18), ActiveCell(col=40, row=18), ActiveCell(col=41, row=18), ActiveCell(col=42, row=18), ActiveCell(col=43, row=18), ActiveCell(col=44, row=18), ActiveCell(col=45, row=18), ActiveCell(col=46, row=18), ActiveCell(col=47, row=18), ActiveCell(col=48, row=18), ActiveCell(col=49, row=18), ActiveCell(col=50, row=18), ActiveCell(col=51, row=18), ActiveCell(col=52, row=18), ActiveCell(col=53, row=18), ActiveCell(col=54, row=18), ActiveCell(col=55, row=18), ActiveCell(col=56, row=18), ActiveCell(col=57, row=18), ActiveCell(col=58, row=18), ActiveCell(col=59, row=18), ActiveCell(col=60, row=18), ActiveCell(col=61, row=18), ActiveCell(col=62, row=18), ActiveCell(col=63, row=18), ActiveCell(col=64, row=18), ActiveCell(col=65, row=18), ActiveCell(col=66, row=18), ActiveCell(col=67, row=18), ActiveCell(col=68, row=18), ActiveCell(col=69, row=18), ActiveCell(col=70, row=18), ActiveCell(col=71, row=18), ActiveCell(col=72, row=18), ActiveCell(col=73, row=18), ActiveCell(col=74, row=18), ActiveCell(col=75, row=18), ActiveCell(col=76, row=18), ActiveCell(col=77, row=18), ActiveCell(col=78, row=18), ActiveCell(col=79, row=18), ActiveCell(col=80, row=18), ActiveCell(col=81, row=18), ActiveCell(col=82, row=18), ActiveCell(col=83, row=18), ActiveCell(col=84, row=18), ActiveCell(col=85, row=18), ActiveCell(col=86, row=18), ActiveCell(col=87, row=18), ActiveCell(col=88, row=18), ActiveCell(col=89, row=18), ActiveCell(col=90, row=18), ActiveCell(col=91, row=18), ActiveCell(col=92, row=18), ActiveCell(col=93, row=18), ActiveCell(col=94, row=18), ActiveCell(col=95, row=18), ActiveCell(col=96, row=18), ActiveCell(col=4, row=19), ActiveCell(col=5, row=19), ActiveCell(col=6, row=19), ActiveCell(col=7, row=19), ActiveCell(col=8, row=19), ActiveCell(col=9, row=19), ActiveCell(col=10, row=19), ActiveCell(col=11, row=19), ActiveCell(col=12, row=19), ActiveCell(col=13, row=19), ActiveCell(col=14, row=19), ActiveCell(col=15, row=19), ActiveCell(col=16, row=19), ActiveCell(col=17, row=19), ActiveCell(col=18, row=19), ActiveCell(col=19, row=19), ActiveCell(col=20, row=19), ActiveCell(col=21, row=19), ActiveCell(col=22, row=19), ActiveCell(col=23, row=19), ActiveCell(col=24, row=19), ActiveCell(col=25, row=19), ActiveCell(col=26, row=19), ActiveCell(col=27, row=19), ActiveCell(col=28, row=19), ActiveCell(col=29, row=19), ActiveCell(col=30, row=19), ActiveCell(col=31, row=19), ActiveCell(col=32, row=19), ActiveCell(col=33, row=19), ActiveCell(col=34, row=19), ActiveCell(col=35, row=19), ActiveCell(col=36, row=19), ActiveCell(col=37, row=19), ActiveCell(col=38, row=19), ActiveCell(col=39, row=19), ActiveCell(col=40, row=19), ActiveCell(col=41, row=19), ActiveCell(col=42, row=19), ActiveCell(col=43, row=19), ActiveCell(col=44, row=19), ActiveCell(col=45, row=19), ActiveCell(col=46, row=19), ActiveCell(col=47, row=19), ActiveCell(col=48, row=19), ActiveCell(col=49, row=19), ActiveCell(col=50, row=19), ActiveCell(col=51, row=19), ActiveCell(col=52, row=19), ActiveCell(col=53, row=19), ActiveCell(col=54, row=19), ActiveCell(col=55, row=19), ActiveCell(col=56, row=19), ActiveCell(col=57, row=19), ActiveCell(col=58, row=19), ActiveCell(col=59, row=19), ActiveCell(col=60, row=19), ActiveCell(col=61, row=19), ActiveCell(col=62, row=19), ActiveCell(col=63, row=19), ActiveCell(col=64, row=19), ActiveCell(col=65, row=19), ActiveCell(col=66, row=19), ActiveCell(col=67, row=19), ActiveCell(col=68, row=19), ActiveCell(col=69, row=19), ActiveCell(col=70, row=19), ActiveCell(col=71, row=19), ActiveCell(col=72, row=19), ActiveCell(col=73, row=19), ActiveCell(col=74, row=19), ActiveCell(col=75, row=19), ActiveCell(col=76, row=19), ActiveCell(col=77, row=19), ActiveCell(col=78, row=19), ActiveCell(col=79, row=19), ActiveCell(col=80, row=19), ActiveCell(col=81, row=19), ActiveCell(col=82, row=19), ActiveCell(col=83, row=19), ActiveCell(col=84, row=19), ActiveCell(col=85, row=19), ActiveCell(col=86, row=19), ActiveCell(col=87, row=19), ActiveCell(col=88, row=19), ActiveCell(col=89, row=19), ActiveCell(col=90, row=19), ActiveCell(col=91, row=19), ActiveCell(col=92, row=19), ActiveCell(col=93, row=19), ActiveCell(col=94, row=19), ActiveCell(col=95, row=19), ActiveCell(col=96, row=19), ActiveCell(col=4, row=20), ActiveCell(col=5, row=20), ActiveCell(col=6, row=20), ActiveCell(col=7, row=20), ActiveCell(col=8, row=20), ActiveCell(col=9, row=20), ActiveCell(col=10, row=20), ActiveCell(col=11, row=20), ActiveCell(col=12, row=20), ActiveCell(col=13, row=20), ActiveCell(col=14, row=20), ActiveCell(col=15, row=20), ActiveCell(col=16, row=20), ActiveCell(col=17, row=20), ActiveCell(col=18, row=20), ActiveCell(col=19, row=20), ActiveCell(col=20, row=20), ActiveCell(col=21, row=20), ActiveCell(col=22, row=20), ActiveCell(col=23, row=20), ActiveCell(col=24, row=20), ActiveCell(col=25, row=20), ActiveCell(col=26, row=20), ActiveCell(col=27, row=20), ActiveCell(col=28, row=20), ActiveCell(col=29, row=20), ActiveCell(col=30, row=20), ActiveCell(col=31, row=20), ActiveCell(col=32, row=20), ActiveCell(col=33, row=20), ActiveCell(col=34, row=20), ActiveCell(col=35, row=20), ActiveCell(col=36, row=20), ActiveCell(col=37, row=20), ActiveCell(col=38, row=20), ActiveCell(col=39, row=20), ActiveCell(col=40, row=20), ActiveCell(col=41, row=20), ActiveCell(col=42, row=20), ActiveCell(col=43, row=20), ActiveCell(col=44, row=20), ActiveCell(col=45, row=20), ActiveCell(col=46, row=20), ActiveCell(col=47, row=20), ActiveCell(col=48, row=20), ActiveCell(col=49, row=20), ActiveCell(col=50, row=20), ActiveCell(col=51, row=20), ActiveCell(col=52, row=20), ActiveCell(col=53, row=20), ActiveCell(col=54, row=20), ActiveCell(col=55, row=20), ActiveCell(col=56, row=20), ActiveCell(col=57, row=20), ActiveCell(col=58, row=20), ActiveCell(col=59, row=20), ActiveCell(col=60, row=20), ActiveCell(col=61, row=20), ActiveCell(col=62, row=20), ActiveCell(col=63, row=20), ActiveCell(col=64, row=20), ActiveCell(col=65, row=20), ActiveCell(col=66, row=20), ActiveCell(col=67, row=20), ActiveCell(col=68, row=20), ActiveCell(col=69, row=20), ActiveCell(col=70, row=20), ActiveCell(col=71, row=20), ActiveCell(col=72, row=20), ActiveCell(col=73, row=20), ActiveCell(col=74, row=20), ActiveCell(col=75, row=20), ActiveCell(col=76, row=20), ActiveCell(col=77, row=20), ActiveCell(col=78, row=20), ActiveCell(col=79, row=20), ActiveCell(col=80, row=20), ActiveCell(col=81, row=20), ActiveCell(col=82, row=20), ActiveCell(col=83, row=20), ActiveCell(col=84, row=20), ActiveCell(col=85, row=20), ActiveCell(col=86, row=20), ActiveCell(col=87, row=20), ActiveCell(col=88, row=20), ActiveCell(col=89, row=20), ActiveCell(col=90, row=20), ActiveCell(col=91, row=20), ActiveCell(col=92, row=20), ActiveCell(col=93, row=20), ActiveCell(col=94, row=20), ActiveCell(col=95, row=20), ActiveCell(col=96, row=20), ActiveCell(col=4, row=21), ActiveCell(col=5, row=21), ActiveCell(col=6, row=21), ActiveCell(col=7, row=21), ActiveCell(col=8, row=21), ActiveCell(col=9, row=21), ActiveCell(col=10, row=21), ActiveCell(col=11, row=21), ActiveCell(col=12, row=21), ActiveCell(col=13, row=21), ActiveCell(col=14, row=21), ActiveCell(col=15, row=21), ActiveCell(col=16, row=21), ActiveCell(col=17, row=21), ActiveCell(col=18, row=21), ActiveCell(col=19, row=21), ActiveCell(col=20, row=21), ActiveCell(col=21, row=21), ActiveCell(col=22, row=21), ActiveCell(col=23, row=21), ActiveCell(col=24, row=21), ActiveCell(col=25, row=21), ActiveCell(col=26, row=21), ActiveCell(col=27, row=21), ActiveCell(col=28, row=21), ActiveCell(col=29, row=21), ActiveCell(col=30, row=21), ActiveCell(col=31, row=21), ActiveCell(col=32, row=21), ActiveCell(col=33, row=21), ActiveCell(col=34, row=21), ActiveCell(col=35, row=21), ActiveCell(col=36, row=21), ActiveCell(col=37, row=21), ActiveCell(col=38, row=21), ActiveCell(col=39, row=21), ActiveCell(col=40, row=21), ActiveCell(col=41, row=21), ActiveCell(col=42, row=21), ActiveCell(col=43, row=21), ActiveCell(col=44, row=21), ActiveCell(col=45, row=21), ActiveCell(col=46, row=21), ActiveCell(col=47, row=21), ActiveCell(col=48, row=21), ActiveCell(col=49, row=21), ActiveCell(col=50, row=21), ActiveCell(col=51, row=21), ActiveCell(col=52, row=21), ActiveCell(col=53, row=21), ActiveCell(col=54, row=21), ActiveCell(col=55, row=21), ActiveCell(col=56, row=21), ActiveCell(col=57, row=21), ActiveCell(col=58, row=21), ActiveCell(col=59, row=21), ActiveCell(col=60, row=21), ActiveCell(col=61, row=21), ActiveCell(col=62, row=21), ActiveCell(col=63, row=21), ActiveCell(col=64, row=21), ActiveCell(col=65, row=21), ActiveCell(col=66, row=21), ActiveCell(col=67, row=21), ActiveCell(col=68, row=21), ActiveCell(col=69, row=21), ActiveCell(col=70, row=21), ActiveCell(col=71, row=21), ActiveCell(col=72, row=21), ActiveCell(col=73, row=21), ActiveCell(col=74, row=21), ActiveCell(col=75, row=21), ActiveCell(col=76, row=21), ActiveCell(col=77, row=21), ActiveCell(col=78, row=21), ActiveCell(col=79, row=21), ActiveCell(col=80, row=21), ActiveCell(col=81, row=21), ActiveCell(col=82, row=21), ActiveCell(col=83, row=21), ActiveCell(col=84, row=21), ActiveCell(col=85, row=21), ActiveCell(col=86, row=21), ActiveCell(col=87, row=21), ActiveCell(col=88, row=21), ActiveCell(col=89, row=21), ActiveCell(col=90, row=21), ActiveCell(col=91, row=21), ActiveCell(col=92, row=21), ActiveCell(col=93, row=21), ActiveCell(col=94, row=21), ActiveCell(col=95, row=21), ActiveCell(col=96, row=21), ActiveCell(col=4, row=22), ActiveCell(col=5, row=22), ActiveCell(col=6, row=22), ActiveCell(col=7, row=22), ActiveCell(col=8, row=22), ActiveCell(col=9, row=22), ActiveCell(col=10, row=22), ActiveCell(col=11, row=22), ActiveCell(col=12, row=22), ActiveCell(col=13, row=22), ActiveCell(col=14, row=22), ActiveCell(col=15, row=22), ActiveCell(col=16, row=22), ActiveCell(col=17, row=22), ActiveCell(col=18, row=22), ActiveCell(col=19, row=22), ActiveCell(col=20, row=22), ActiveCell(col=21, row=22), ActiveCell(col=22, row=22), ActiveCell(col=23, row=22), ActiveCell(col=24, row=22), ActiveCell(col=25, row=22), ActiveCell(col=26, row=22), ActiveCell(col=27, row=22), ActiveCell(col=28, row=22), ActiveCell(col=29, row=22), ActiveCell(col=30, row=22), ActiveCell(col=31, row=22), ActiveCell(col=32, row=22), ActiveCell(col=33, row=22), ActiveCell(col=34, row=22), ActiveCell(col=35, row=22), ActiveCell(col=36, row=22), ActiveCell(col=37, row=22), ActiveCell(col=38, row=22), ActiveCell(col=39, row=22), ActiveCell(col=40, row=22), ActiveCell(col=41, row=22), ActiveCell(col=42, row=22), ActiveCell(col=43, row=22), ActiveCell(col=44, row=22), ActiveCell(col=45, row=22), ActiveCell(col=46, row=22), ActiveCell(col=47, row=22), ActiveCell(col=48, row=22), ActiveCell(col=49, row=22), ActiveCell(col=50, row=22), ActiveCell(col=51, row=22), ActiveCell(col=52, row=22), ActiveCell(col=53, row=22), ActiveCell(col=54, row=22), ActiveCell(col=55, row=22), ActiveCell(col=56, row=22), ActiveCell(col=57, row=22), ActiveCell(col=58, row=22), ActiveCell(col=59, row=22), ActiveCell(col=60, row=22), ActiveCell(col=61, row=22), ActiveCell(col=62, row=22), ActiveCell(col=63, row=22), ActiveCell(col=64, row=22), ActiveCell(col=65, row=22), ActiveCell(col=66, row=22), ActiveCell(col=67, row=22), ActiveCell(col=68, row=22), ActiveCell(col=69, row=22), ActiveCell(col=70, row=22), ActiveCell(col=71, row=22), ActiveCell(col=72, row=22), ActiveCell(col=73, row=22), ActiveCell(col=74, row=22), ActiveCell(col=75, row=22), ActiveCell(col=76, row=22), ActiveCell(col=77, row=22), ActiveCell(col=78, row=22), ActiveCell(col=79, row=22), ActiveCell(col=80, row=22), ActiveCell(col=81, row=22), ActiveCell(col=82, row=22), ActiveCell(col=83, row=22), ActiveCell(col=84, row=22), ActiveCell(col=85, row=22), ActiveCell(col=86, row=22), ActiveCell(col=87, row=22), ActiveCell(col=88, row=22), ActiveCell(col=89, row=22), ActiveCell(col=90, row=22), ActiveCell(col=91, row=22), ActiveCell(col=92, row=22), ActiveCell(col=93, row=22), ActiveCell(col=94, row=22), ActiveCell(col=95, row=22), ActiveCell(col=96, row=22), ActiveCell(col=97, row=22), ActiveCell(col=5, row=23), ActiveCell(col=6, row=23), ActiveCell(col=7, row=23), ActiveCell(col=8, row=23), ActiveCell(col=9, row=23), ActiveCell(col=10, row=23), ActiveCell(col=11, row=23), ActiveCell(col=12, row=23), ActiveCell(col=13, row=23), ActiveCell(col=14, row=23), ActiveCell(col=15, row=23), ActiveCell(col=16, row=23), ActiveCell(col=17, row=23), ActiveCell(col=18, row=23), ActiveCell(col=19, row=23), ActiveCell(col=20, row=23), ActiveCell(col=21, row=23), ActiveCell(col=22, row=23), ActiveCell(col=23, row=23), ActiveCell(col=24, row=23), ActiveCell(col=25, row=23), ActiveCell(col=26, row=23), ActiveCell(col=27, row=23), ActiveCell(col=28, row=23), ActiveCell(col=29, row=23), ActiveCell(col=30, row=23), ActiveCell(col=31, row=23), ActiveCell(col=32, row=23), ActiveCell(col=33, row=23), ActiveCell(col=34, row=23), ActiveCell(col=35, row=23), ActiveCell(col=36, row=23), ActiveCell(col=37, row=23), ActiveCell(col=38, row=23), ActiveCell(col=39, row=23), ActiveCell(col=40, row=23), ActiveCell(col=41, row=23), ActiveCell(col=42, row=23), ActiveCell(col=43, row=23), ActiveCell(col=44, row=23), ActiveCell(col=45, row=23), ActiveCell(col=46, row=23), ActiveCell(col=47, row=23), ActiveCell(col=48, row=23), ActiveCell(col=49, row=23), ActiveCell(col=50, row=23), ActiveCell(col=51, row=23), ActiveCell(col=52, row=23), ActiveCell(col=53, row=23), ActiveCell(col=54, row=23), ActiveCell(col=55, row=23), ActiveCell(col=56, row=23), ActiveCell(col=57, row=23), ActiveCell(col=58, row=23), ActiveCell(col=59, row=23), ActiveCell(col=60, row=23), ActiveCell(col=61, row=23), ActiveCell(col=62, row=23), ActiveCell(col=63, row=23), ActiveCell(col=64, row=23), ActiveCell(col=65, row=23), ActiveCell(col=66, row=23), ActiveCell(col=67, row=23), ActiveCell(col=68, row=23), ActiveCell(col=69, row=23), ActiveCell(col=70, row=23), ActiveCell(col=71, row=23), ActiveCell(col=72, row=23), ActiveCell(col=73, row=23), ActiveCell(col=74, row=23), ActiveCell(col=75, row=23), ActiveCell(col=76, row=23), ActiveCell(col=77, row=23), ActiveCell(col=78, row=23), ActiveCell(col=79, row=23), ActiveCell(col=80, row=23), ActiveCell(col=81, row=23), ActiveCell(col=82, row=23), ActiveCell(col=83, row=23), ActiveCell(col=84, row=23), ActiveCell(col=85, row=23), ActiveCell(col=86, row=23), ActiveCell(col=87, row=23), ActiveCell(col=88, row=23), ActiveCell(col=89, row=23), ActiveCell(col=90, row=23), ActiveCell(col=91, row=23), ActiveCell(col=92, row=23), ActiveCell(col=93, row=23), ActiveCell(col=94, row=23), ActiveCell(col=95, row=23), ActiveCell(col=96, row=23), ActiveCell(col=97, row=23), ActiveCell(col=5, row=24), ActiveCell(col=6, row=24), ActiveCell(col=7, row=24), ActiveCell(col=8, row=24), ActiveCell(col=9, row=24), ActiveCell(col=10, row=24), ActiveCell(col=11, row=24), ActiveCell(col=12, row=24), ActiveCell(col=13, row=24), ActiveCell(col=14, row=24), ActiveCell(col=15, row=24), ActiveCell(col=16, row=24), ActiveCell(col=17, row=24), ActiveCell(col=18, row=24), ActiveCell(col=19, row=24), ActiveCell(col=20, row=24), ActiveCell(col=21, row=24), ActiveCell(col=22, row=24), ActiveCell(col=23, row=24), ActiveCell(col=24, row=24), ActiveCell(col=25, row=24), ActiveCell(col=26, row=24), ActiveCell(col=27, row=24), ActiveCell(col=28, row=24), ActiveCell(col=29, row=24), ActiveCell(col=30, row=24), ActiveCell(col=31, row=24), ActiveCell(col=32, row=24), ActiveCell(col=33, row=24), ActiveCell(col=34, row=24), ActiveCell(col=35, row=24), ActiveCell(col=36, row=24), ActiveCell(col=37, row=24), ActiveCell(col=38, row=24), ActiveCell(col=39, row=24), ActiveCell(col=40, row=24), ActiveCell(col=41, row=24), ActiveCell(col=42, row=24), ActiveCell(col=43, row=24), ActiveCell(col=44, row=24), ActiveCell(col=45, row=24), ActiveCell(col=46, row=24), ActiveCell(col=47, row=24), ActiveCell(col=48, row=24), ActiveCell(col=49, row=24), ActiveCell(col=50, row=24), ActiveCell(col=51, row=24), ActiveCell(col=52, row=24), ActiveCell(col=53, row=24), ActiveCell(col=54, row=24), ActiveCell(col=55, row=24), ActiveCell(col=56, row=24), ActiveCell(col=57, row=24), ActiveCell(col=58, row=24), ActiveCell(col=59, row=24), ActiveCell(col=60, row=24), ActiveCell(col=61, row=24), ActiveCell(col=62, row=24), ActiveCell(col=63, row=24), ActiveCell(col=64, row=24), ActiveCell(col=65, row=24), ActiveCell(col=66, row=24), ActiveCell(col=67, row=24), ActiveCell(col=68, row=24), ActiveCell(col=69, row=24), ActiveCell(col=70, row=24), ActiveCell(col=71, row=24), ActiveCell(col=72, row=24), ActiveCell(col=73, row=24), ActiveCell(col=74, row=24), ActiveCell(col=75, row=24), ActiveCell(col=76, row=24), ActiveCell(col=77, row=24), ActiveCell(col=78, row=24), ActiveCell(col=79, row=24), ActiveCell(col=80, row=24), ActiveCell(col=81, row=24), ActiveCell(col=82, row=24), ActiveCell(col=83, row=24), ActiveCell(col=84, row=24), ActiveCell(col=85, row=24), ActiveCell(col=86, row=24), ActiveCell(col=87, row=24), ActiveCell(col=88, row=24), ActiveCell(col=89, row=24), ActiveCell(col=90, row=24), ActiveCell(col=91, row=24), ActiveCell(col=92, row=24), ActiveCell(col=93, row=24), ActiveCell(col=94, row=24), ActiveCell(col=95, row=24), ActiveCell(col=96, row=24), ActiveCell(col=97, row=24), ActiveCell(col=5, row=25), ActiveCell(col=6, row=25), ActiveCell(col=7, row=25), ActiveCell(col=8, row=25), ActiveCell(col=9, row=25), ActiveCell(col=10, row=25), ActiveCell(col=11, row=25), ActiveCell(col=12, row=25), ActiveCell(col=13, row=25), ActiveCell(col=14, row=25), ActiveCell(col=15, row=25), ActiveCell(col=16, row=25), ActiveCell(col=17, row=25), ActiveCell(col=18, row=25), ActiveCell(col=19, row=25), ActiveCell(col=20, row=25), ActiveCell(col=21, row=25), ActiveCell(col=22, row=25), ActiveCell(col=23, row=25), ActiveCell(col=24, row=25), ActiveCell(col=25, row=25), ActiveCell(col=26, row=25), ActiveCell(col=27, row=25), ActiveCell(col=28, row=25), ActiveCell(col=29, row=25), ActiveCell(col=30, row=25), ActiveCell(col=31, row=25), ActiveCell(col=32, row=25), ActiveCell(col=33, row=25), ActiveCell(col=34, row=25), ActiveCell(col=35, row=25), ActiveCell(col=36, row=25), ActiveCell(col=37, row=25), ActiveCell(col=38, row=25), ActiveCell(col=39, row=25), ActiveCell(col=40, row=25), ActiveCell(col=41, row=25), ActiveCell(col=42, row=25), ActiveCell(col=43, row=25), ActiveCell(col=44, row=25), ActiveCell(col=45, row=25), ActiveCell(col=46, row=25), ActiveCell(col=47, row=25), ActiveCell(col=48, row=25), ActiveCell(col=49, row=25), ActiveCell(col=50, row=25), ActiveCell(col=51, row=25), ActiveCell(col=52, row=25), ActiveCell(col=53, row=25), ActiveCell(col=54, row=25), ActiveCell(col=55, row=25), ActiveCell(col=56, row=25), ActiveCell(col=57, row=25), ActiveCell(col=58, row=25), ActiveCell(col=59, row=25), ActiveCell(col=60, row=25), ActiveCell(col=61, row=25), ActiveCell(col=62, row=25), ActiveCell(col=63, row=25), ActiveCell(col=64, row=25), ActiveCell(col=65, row=25), ActiveCell(col=66, row=25), ActiveCell(col=67, row=25), ActiveCell(col=68, row=25), ActiveCell(col=69, row=25), ActiveCell(col=70, row=25), ActiveCell(col=71, row=25), ActiveCell(col=72, row=25), ActiveCell(col=73, row=25), ActiveCell(col=74, row=25), ActiveCell(col=75, row=25), ActiveCell(col=76, row=25), ActiveCell(col=77, row=25), ActiveCell(col=78, row=25), ActiveCell(col=79, row=25), ActiveCell(col=80, row=25), ActiveCell(col=81, row=25), ActiveCell(col=82, row=25), ActiveCell(col=83, row=25), ActiveCell(col=84, row=25), ActiveCell(col=85, row=25), ActiveCell(col=86, row=25), ActiveCell(col=87, row=25), ActiveCell(col=88, row=25), ActiveCell(col=89, row=25), ActiveCell(col=90, row=25), ActiveCell(col=91, row=25), ActiveCell(col=92, row=25), ActiveCell(col=93, row=25), ActiveCell(col=94, row=25), ActiveCell(col=95, row=25), ActiveCell(col=96, row=25), ActiveCell(col=97, row=25), ActiveCell(col=5, row=26), ActiveCell(col=6, row=26), ActiveCell(col=7, row=26), ActiveCell(col=8, row=26), ActiveCell(col=9, row=26), ActiveCell(col=10, row=26), ActiveCell(col=11, row=26), ActiveCell(col=12, row=26), ActiveCell(col=13, row=26), ActiveCell(col=14, row=26), ActiveCell(col=15, row=26), ActiveCell(col=16, row=26), ActiveCell(col=17, row=26), ActiveCell(col=18, row=26), ActiveCell(col=19, row=26), ActiveCell(col=20, row=26), ActiveCell(col=21, row=26), ActiveCell(col=22, row=26), ActiveCell(col=23, row=26), ActiveCell(col=24, row=26), ActiveCell(col=25, row=26), ActiveCell(col=26, row=26), ActiveCell(col=27, row=26), ActiveCell(col=28, row=26), ActiveCell(col=29, row=26), ActiveCell(col=30, row=26), ActiveCell(col=31, row=26), ActiveCell(col=32, row=26), ActiveCell(col=33, row=26), ActiveCell(col=34, row=26), ActiveCell(col=35, row=26), ActiveCell(col=36, row=26), ActiveCell(col=37, row=26), ActiveCell(col=38, row=26), ActiveCell(col=39, row=26), ActiveCell(col=40, row=26), ActiveCell(col=41, row=26), ActiveCell(col=42, row=26), ActiveCell(col=43, row=26), ActiveCell(col=44, row=26), ActiveCell(col=45, row=26), ActiveCell(col=46, row=26), ActiveCell(col=47, row=26), ActiveCell(col=48, row=26), ActiveCell(col=49, row=26), ActiveCell(col=50, row=26), ActiveCell(col=51, row=26), ActiveCell(col=52, row=26), ActiveCell(col=53, row=26), ActiveCell(col=54, row=26), ActiveCell(col=55, row=26), ActiveCell(col=56, row=26), ActiveCell(col=57, row=26), ActiveCell(col=58, row=26), ActiveCell(col=59, row=26), ActiveCell(col=60, row=26), ActiveCell(col=61, row=26), ActiveCell(col=62, row=26), ActiveCell(col=63, row=26), ActiveCell(col=64, row=26), ActiveCell(col=65, row=26), ActiveCell(col=66, row=26), ActiveCell(col=67, row=26), ActiveCell(col=68, row=26), ActiveCell(col=69, row=26), ActiveCell(col=70, row=26), ActiveCell(col=71, row=26), ActiveCell(col=72, row=26), ActiveCell(col=73, row=26), ActiveCell(col=74, row=26), ActiveCell(col=75, row=26), ActiveCell(col=76, row=26), ActiveCell(col=77, row=26), ActiveCell(col=78, row=26), ActiveCell(col=79, row=26), ActiveCell(col=80, row=26), ActiveCell(col=81, row=26), ActiveCell(col=82, row=26), ActiveCell(col=83, row=26), ActiveCell(col=84, row=26), ActiveCell(col=85, row=26), ActiveCell(col=86, row=26), ActiveCell(col=87, row=26), ActiveCell(col=88, row=26), ActiveCell(col=89, row=26), ActiveCell(col=90, row=26), ActiveCell(col=91, row=26), ActiveCell(col=92, row=26), ActiveCell(col=93, row=26), ActiveCell(col=94, row=26), ActiveCell(col=95, row=26), ActiveCell(col=96, row=26), ActiveCell(col=97, row=26), ActiveCell(col=5, row=27), ActiveCell(col=6, row=27), ActiveCell(col=7, row=27), ActiveCell(col=8, row=27), ActiveCell(col=9, row=27), ActiveCell(col=10, row=27), ActiveCell(col=11, row=27), ActiveCell(col=12, row=27), ActiveCell(col=13, row=27), ActiveCell(col=14, row=27), ActiveCell(col=15, row=27), ActiveCell(col=16, row=27), ActiveCell(col=17, row=27), ActiveCell(col=18, row=27), ActiveCell(col=19, row=27), ActiveCell(col=20, row=27), ActiveCell(col=21, row=27), ActiveCell(col=22, row=27), ActiveCell(col=23, row=27), ActiveCell(col=24, row=27), ActiveCell(col=25, row=27), ActiveCell(col=26, row=27), ActiveCell(col=27, row=27), ActiveCell(col=28, row=27), ActiveCell(col=29, row=27), ActiveCell(col=30, row=27), ActiveCell(col=31, row=27), ActiveCell(col=32, row=27), ActiveCell(col=33, row=27), ActiveCell(col=34, row=27), ActiveCell(col=35, row=27), ActiveCell(col=36, row=27), ActiveCell(col=37, row=27), ActiveCell(col=38, row=27), ActiveCell(col=39, row=27), ActiveCell(col=40, row=27), ActiveCell(col=41, row=27), ActiveCell(col=42, row=27), ActiveCell(col=43, row=27), ActiveCell(col=44, row=27), ActiveCell(col=45, row=27), ActiveCell(col=46, row=27), ActiveCell(col=47, row=27), ActiveCell(col=48, row=27), ActiveCell(col=49, row=27), ActiveCell(col=50, row=27), ActiveCell(col=51, row=27), ActiveCell(col=52, row=27), ActiveCell(col=53, row=27), ActiveCell(col=54, row=27), ActiveCell(col=55, row=27), ActiveCell(col=56, row=27), ActiveCell(col=57, row=27), ActiveCell(col=58, row=27), ActiveCell(col=59, row=27), ActiveCell(col=60, row=27), ActiveCell(col=61, row=27), ActiveCell(col=62, row=27), ActiveCell(col=63, row=27), ActiveCell(col=64, row=27), ActiveCell(col=65, row=27), ActiveCell(col=66, row=27), ActiveCell(col=67, row=27), ActiveCell(col=68, row=27), ActiveCell(col=69, row=27), ActiveCell(col=70, row=27), ActiveCell(col=71, row=27), ActiveCell(col=72, row=27), ActiveCell(col=73, row=27), ActiveCell(col=74, row=27), ActiveCell(col=75, row=27), ActiveCell(col=76, row=27), ActiveCell(col=77, row=27), ActiveCell(col=78, row=27), ActiveCell(col=79, row=27), ActiveCell(col=80, row=27), ActiveCell(col=81, row=27), ActiveCell(col=82, row=27), ActiveCell(col=83, row=27), ActiveCell(col=84, row=27), ActiveCell(col=85, row=27), ActiveCell(col=86, row=27), ActiveCell(col=87, row=27), ActiveCell(col=88, row=27), ActiveCell(col=89, row=27), ActiveCell(col=90, row=27), ActiveCell(col=91, row=27), ActiveCell(col=92, row=27), ActiveCell(col=93, row=27), ActiveCell(col=94, row=27), ActiveCell(col=95, row=27), ActiveCell(col=96, row=27), ActiveCell(col=97, row=27), ActiveCell(col=98, row=27), ActiveCell(col=5, row=28), ActiveCell(col=6, row=28), ActiveCell(col=7, row=28), ActiveCell(col=8, row=28), ActiveCell(col=9, row=28), ActiveCell(col=10, row=28), ActiveCell(col=11, row=28), ActiveCell(col=12, row=28), ActiveCell(col=13, row=28), ActiveCell(col=14, row=28), ActiveCell(col=15, row=28), ActiveCell(col=16, row=28), ActiveCell(col=17, row=28), ActiveCell(col=18, row=28), ActiveCell(col=19, row=28), ActiveCell(col=20, row=28), ActiveCell(col=21, row=28), ActiveCell(col=22, row=28), ActiveCell(col=23, row=28), ActiveCell(col=24, row=28), ActiveCell(col=25, row=28), ActiveCell(col=26, row=28), ActiveCell(col=27, row=28), ActiveCell(col=28, row=28), ActiveCell(col=29, row=28), ActiveCell(col=30, row=28), ActiveCell(col=31, row=28), ActiveCell(col=32, row=28), ActiveCell(col=33, row=28), ActiveCell(col=34, row=28), ActiveCell(col=35, row=28), ActiveCell(col=36, row=28), ActiveCell(col=37, row=28), ActiveCell(col=38, row=28), ActiveCell(col=39, row=28), ActiveCell(col=40, row=28), ActiveCell(col=41, row=28), ActiveCell(col=42, row=28), ActiveCell(col=43, row=28), ActiveCell(col=44, row=28), ActiveCell(col=45, row=28), ActiveCell(col=46, row=28), ActiveCell(col=47, row=28), ActiveCell(col=48, row=28), ActiveCell(col=49, row=28), ActiveCell(col=50, row=28), ActiveCell(col=51, row=28), ActiveCell(col=52, row=28), ActiveCell(col=53, row=28), ActiveCell(col=54, row=28), ActiveCell(col=55, row=28), ActiveCell(col=56, row=28), ActiveCell(col=57, row=28), ActiveCell(col=58, row=28), ActiveCell(col=59, row=28), ActiveCell(col=60, row=28), ActiveCell(col=61, row=28), ActiveCell(col=62, row=28), ActiveCell(col=63, row=28), ActiveCell(col=64, row=28), ActiveCell(col=65, row=28), ActiveCell(col=66, row=28), ActiveCell(col=67, row=28), ActiveCell(col=68, row=28), ActiveCell(col=69, row=28), ActiveCell(col=70, row=28), ActiveCell(col=71, row=28), ActiveCell(col=72, row=28), ActiveCell(col=73, row=28), ActiveCell(col=74, row=28), ActiveCell(col=75, row=28), ActiveCell(col=76, row=28), ActiveCell(col=77, row=28), ActiveCell(col=78, row=28), ActiveCell(col=79, row=28), ActiveCell(col=80, row=28), ActiveCell(col=81, row=28), ActiveCell(col=82, row=28), ActiveCell(col=83, row=28), ActiveCell(col=84, row=28), ActiveCell(col=85, row=28), ActiveCell(col=86, row=28), ActiveCell(col=87, row=28), ActiveCell(col=88, row=28), ActiveCell(col=89, row=28), ActiveCell(col=90, row=28), ActiveCell(col=91, row=28), ActiveCell(col=92, row=28), ActiveCell(col=93, row=28), ActiveCell(col=94, row=28), ActiveCell(col=95, row=28), ActiveCell(col=96, row=28), ActiveCell(col=97, row=28), ActiveCell(col=98, row=28), ActiveCell(col=6, row=29), ActiveCell(col=7, row=29), ActiveCell(col=8, row=29), ActiveCell(col=9, row=29), ActiveCell(col=10, row=29), ActiveCell(col=11, row=29), ActiveCell(col=12, row=29), ActiveCell(col=13, row=29), ActiveCell(col=14, row=29), ActiveCell(col=15, row=29), ActiveCell(col=16, row=29), ActiveCell(col=17, row=29), ActiveCell(col=18, row=29), ActiveCell(col=19, row=29), ActiveCell(col=20, row=29), ActiveCell(col=21, row=29), ActiveCell(col=22, row=29), ActiveCell(col=23, row=29), ActiveCell(col=24, row=29), ActiveCell(col=25, row=29), ActiveCell(col=26, row=29), ActiveCell(col=27, row=29), ActiveCell(col=28, row=29), ActiveCell(col=29, row=29), ActiveCell(col=30, row=29), ActiveCell(col=31, row=29), ActiveCell(col=32, row=29), ActiveCell(col=33, row=29), ActiveCell(col=34, row=29), ActiveCell(col=35, row=29), ActiveCell(col=36, row=29), ActiveCell(col=37, row=29), ActiveCell(col=38, row=29), ActiveCell(col=39, row=29), ActiveCell(col=40, row=29), ActiveCell(col=41, row=29), ActiveCell(col=42, row=29), ActiveCell(col=43, row=29), ActiveCell(col=44, row=29), ActiveCell(col=45, row=29), ActiveCell(col=46, row=29), ActiveCell(col=47, row=29), ActiveCell(col=48, row=29), ActiveCell(col=49, row=29), ActiveCell(col=50, row=29), ActiveCell(col=51, row=29), ActiveCell(col=52, row=29), ActiveCell(col=53, row=29), ActiveCell(col=54, row=29), ActiveCell(col=55, row=29), ActiveCell(col=56, row=29), ActiveCell(col=57, row=29), ActiveCell(col=58, row=29), ActiveCell(col=59, row=29), ActiveCell(col=60, row=29), ActiveCell(col=61, row=29), ActiveCell(col=62, row=29), ActiveCell(col=63, row=29), ActiveCell(col=64, row=29), ActiveCell(col=65, row=29), ActiveCell(col=66, row=29), ActiveCell(col=67, row=29), ActiveCell(col=68, row=29), ActiveCell(col=69, row=29), ActiveCell(col=70, row=29), ActiveCell(col=71, row=29), ActiveCell(col=72, row=29), ActiveCell(col=73, row=29), ActiveCell(col=74, row=29), ActiveCell(col=75, row=29), ActiveCell(col=76, row=29), ActiveCell(col=77, row=29), ActiveCell(col=78, row=29), ActiveCell(col=79, row=29), ActiveCell(col=80, row=29), ActiveCell(col=81, row=29), ActiveCell(col=82, row=29), ActiveCell(col=83, row=29), ActiveCell(col=84, row=29), ActiveCell(col=85, row=29), ActiveCell(col=86, row=29), ActiveCell(col=87, row=29), ActiveCell(col=88, row=29), ActiveCell(col=89, row=29), ActiveCell(col=90, row=29), ActiveCell(col=91, row=29), ActiveCell(col=92, row=29), ActiveCell(col=93, row=29), ActiveCell(col=94, row=29), ActiveCell(col=95, row=29), ActiveCell(col=96, row=29), ActiveCell(col=97, row=29), ActiveCell(col=98, row=29), ActiveCell(col=6, row=30), ActiveCell(col=7, row=30), ActiveCell(col=8, row=30), ActiveCell(col=9, row=30), ActiveCell(col=10, row=30), ActiveCell(col=11, row=30), ActiveCell(col=12, row=30), ActiveCell(col=13, row=30), ActiveCell(col=14, row=30), ActiveCell(col=15, row=30), ActiveCell(col=16, row=30), ActiveCell(col=17, row=30), ActiveCell(col=18, row=30), ActiveCell(col=19, row=30), ActiveCell(col=20, row=30), ActiveCell(col=21, row=30), ActiveCell(col=22, row=30), ActiveCell(col=23, row=30), ActiveCell(col=24, row=30), ActiveCell(col=25, row=30), ActiveCell(col=26, row=30), ActiveCell(col=27, row=30), ActiveCell(col=28, row=30), ActiveCell(col=29, row=30), ActiveCell(col=30, row=30), ActiveCell(col=31, row=30), ActiveCell(col=32, row=30), ActiveCell(col=33, row=30), ActiveCell(col=34, row=30), ActiveCell(col=35, row=30), ActiveCell(col=36, row=30), ActiveCell(col=37, row=30), ActiveCell(col=38, row=30), ActiveCell(col=39, row=30), ActiveCell(col=40, row=30), ActiveCell(col=41, row=30), ActiveCell(col=42, row=30), ActiveCell(col=43, row=30), ActiveCell(col=44, row=30), ActiveCell(col=45, row=30), ActiveCell(col=46, row=30), ActiveCell(col=47, row=30), ActiveCell(col=48, row=30), ActiveCell(col=49, row=30), ActiveCell(col=50, row=30), ActiveCell(col=51, row=30), ActiveCell(col=52, row=30), ActiveCell(col=53, row=30), ActiveCell(col=54, row=30), ActiveCell(col=55, row=30), ActiveCell(col=56, row=30), ActiveCell(col=57, row=30), ActiveCell(col=58, row=30), ActiveCell(col=59, row=30), ActiveCell(col=60, row=30), ActiveCell(col=61, row=30), ActiveCell(col=62, row=30), ActiveCell(col=63, row=30), ActiveCell(col=64, row=30), ActiveCell(col=65, row=30), ActiveCell(col=66, row=30), ActiveCell(col=67, row=30), ActiveCell(col=68, row=30), ActiveCell(col=69, row=30), ActiveCell(col=70, row=30), ActiveCell(col=71, row=30), ActiveCell(col=72, row=30), ActiveCell(col=73, row=30), ActiveCell(col=74, row=30), ActiveCell(col=75, row=30), ActiveCell(col=76, row=30), ActiveCell(col=77, row=30), ActiveCell(col=78, row=30), ActiveCell(col=79, row=30), ActiveCell(col=80, row=30), ActiveCell(col=81, row=30), ActiveCell(col=82, row=30), ActiveCell(col=83, row=30), ActiveCell(col=84, row=30), ActiveCell(col=85, row=30), ActiveCell(col=86, row=30), ActiveCell(col=87, row=30), ActiveCell(col=88, row=30), ActiveCell(col=89, row=30), ActiveCell(col=90, row=30), ActiveCell(col=91, row=30), ActiveCell(col=92, row=30), ActiveCell(col=93, row=30), ActiveCell(col=94, row=30), ActiveCell(col=95, row=30), ActiveCell(col=96, row=30), ActiveCell(col=97, row=30), ActiveCell(col=98, row=30), ActiveCell(col=6, row=31), ActiveCell(col=7, row=31), ActiveCell(col=8, row=31), ActiveCell(col=9, row=31), ActiveCell(col=10, row=31), ActiveCell(col=11, row=31), ActiveCell(col=12, row=31), ActiveCell(col=13, row=31), ActiveCell(col=14, row=31), ActiveCell(col=15, row=31), ActiveCell(col=16, row=31), ActiveCell(col=17, row=31), ActiveCell(col=18, row=31), ActiveCell(col=19, row=31), ActiveCell(col=20, row=31), ActiveCell(col=21, row=31), ActiveCell(col=22, row=31), ActiveCell(col=23, row=31), ActiveCell(col=24, row=31), ActiveCell(col=25, row=31), ActiveCell(col=26, row=31), ActiveCell(col=27, row=31), ActiveCell(col=28, row=31), ActiveCell(col=29, row=31), ActiveCell(col=30, row=31), ActiveCell(col=31, row=31), ActiveCell(col=32, row=31), ActiveCell(col=33, row=31), ActiveCell(col=34, row=31), ActiveCell(col=35, row=31), ActiveCell(col=36, row=31), ActiveCell(col=37, row=31), ActiveCell(col=38, row=31), ActiveCell(col=39, row=31), ActiveCell(col=40, row=31), ActiveCell(col=41, row=31), ActiveCell(col=42, row=31), ActiveCell(col=43, row=31), ActiveCell(col=44, row=31), ActiveCell(col=45, row=31), ActiveCell(col=46, row=31), ActiveCell(col=47, row=31), ActiveCell(col=48, row=31), ActiveCell(col=49, row=31), ActiveCell(col=50, row=31), ActiveCell(col=51, row=31), ActiveCell(col=52, row=31), ActiveCell(col=53, row=31), ActiveCell(col=54, row=31), ActiveCell(col=55, row=31), ActiveCell(col=56, row=31), ActiveCell(col=57, row=31), ActiveCell(col=58, row=31), ActiveCell(col=59, row=31), ActiveCell(col=60, row=31), ActiveCell(col=61, row=31), ActiveCell(col=62, row=31), ActiveCell(col=63, row=31), ActiveCell(col=64, row=31), ActiveCell(col=65, row=31), ActiveCell(col=66, row=31), ActiveCell(col=67, row=31), ActiveCell(col=68, row=31), ActiveCell(col=69, row=31), ActiveCell(col=70, row=31), ActiveCell(col=71, row=31), ActiveCell(col=72, row=31), ActiveCell(col=73, row=31), ActiveCell(col=74, row=31), ActiveCell(col=75, row=31), ActiveCell(col=76, row=31), ActiveCell(col=77, row=31), ActiveCell(col=78, row=31), ActiveCell(col=79, row=31), ActiveCell(col=80, row=31), ActiveCell(col=81, row=31), ActiveCell(col=82, row=31), ActiveCell(col=83, row=31), ActiveCell(col=84, row=31), ActiveCell(col=85, row=31), ActiveCell(col=86, row=31), ActiveCell(col=87, row=31), ActiveCell(col=88, row=31), ActiveCell(col=89, row=31), ActiveCell(col=90, row=31), ActiveCell(col=91, row=31), ActiveCell(col=92, row=31), ActiveCell(col=93, row=31), ActiveCell(col=94, row=31), ActiveCell(col=95, row=31), ActiveCell(col=96, row=31), ActiveCell(col=97, row=31), ActiveCell(col=98, row=31), ActiveCell(col=6, row=32), ActiveCell(col=7, row=32), ActiveCell(col=8, row=32), ActiveCell(col=9, row=32), ActiveCell(col=10, row=32), ActiveCell(col=11, row=32), ActiveCell(col=12, row=32), ActiveCell(col=13, row=32), ActiveCell(col=14, row=32), ActiveCell(col=15, row=32), ActiveCell(col=16, row=32), ActiveCell(col=17, row=32), ActiveCell(col=18, row=32), ActiveCell(col=19, row=32), ActiveCell(col=20, row=32), ActiveCell(col=21, row=32), ActiveCell(col=22, row=32), ActiveCell(col=23, row=32), ActiveCell(col=24, row=32), ActiveCell(col=25, row=32), ActiveCell(col=26, row=32), ActiveCell(col=27, row=32), ActiveCell(col=28, row=32), ActiveCell(col=29, row=32), ActiveCell(col=30, row=32), ActiveCell(col=31, row=32), ActiveCell(col=32, row=32), ActiveCell(col=33, row=32), ActiveCell(col=34, row=32), ActiveCell(col=35, row=32), ActiveCell(col=36, row=32), ActiveCell(col=37, row=32), ActiveCell(col=38, row=32), ActiveCell(col=39, row=32), ActiveCell(col=40, row=32), ActiveCell(col=41, row=32), ActiveCell(col=42, row=32), ActiveCell(col=43, row=32), ActiveCell(col=44, row=32), ActiveCell(col=45, row=32), ActiveCell(col=46, row=32), ActiveCell(col=47, row=32), ActiveCell(col=48, row=32), ActiveCell(col=49, row=32), ActiveCell(col=50, row=32), ActiveCell(col=51, row=32), ActiveCell(col=52, row=32), ActiveCell(col=53, row=32), ActiveCell(col=54, row=32), ActiveCell(col=55, row=32), ActiveCell(col=56, row=32), ActiveCell(col=57, row=32), ActiveCell(col=58, row=32), ActiveCell(col=59, row=32), ActiveCell(col=60, row=32), ActiveCell(col=61, row=32), ActiveCell(col=62, row=32), ActiveCell(col=63, row=32), ActiveCell(col=64, row=32), ActiveCell(col=65, row=32), ActiveCell(col=66, row=32), ActiveCell(col=67, row=32), ActiveCell(col=68, row=32), ActiveCell(col=69, row=32), ActiveCell(col=70, row=32), ActiveCell(col=71, row=32), ActiveCell(col=72, row=32), ActiveCell(col=73, row=32), ActiveCell(col=74, row=32), ActiveCell(col=75, row=32), ActiveCell(col=76, row=32), ActiveCell(col=77, row=32), ActiveCell(col=78, row=32), ActiveCell(col=79, row=32), ActiveCell(col=80, row=32), ActiveCell(col=81, row=32), ActiveCell(col=82, row=32), ActiveCell(col=83, row=32), ActiveCell(col=84, row=32), ActiveCell(col=85, row=32), ActiveCell(col=86, row=32), ActiveCell(col=87, row=32), ActiveCell(col=88, row=32), ActiveCell(col=89, row=32), ActiveCell(col=90, row=32), ActiveCell(col=91, row=32), ActiveCell(col=92, row=32), ActiveCell(col=93, row=32), ActiveCell(col=94, row=32), ActiveCell(col=95, row=32), ActiveCell(col=96, row=32), ActiveCell(col=97, row=32), ActiveCell(col=98, row=32), ActiveCell(col=99, row=32), ActiveCell(col=6, row=33), ActiveCell(col=7, row=33), ActiveCell(col=8, row=33), ActiveCell(col=9, row=33), ActiveCell(col=10, row=33), ActiveCell(col=11, row=33), ActiveCell(col=12, row=33), ActiveCell(col=13, row=33), ActiveCell(col=14, row=33), ActiveCell(col=15, row=33), ActiveCell(col=16, row=33), ActiveCell(col=17, row=33), ActiveCell(col=18, row=33), ActiveCell(col=19, row=33), ActiveCell(col=20, row=33), ActiveCell(col=21, row=33), ActiveCell(col=22, row=33), ActiveCell(col=23, row=33), ActiveCell(col=24, row=33), ActiveCell(col=25, row=33), ActiveCell(col=26, row=33), ActiveCell(col=27, row=33), ActiveCell(col=28, row=33), ActiveCell(col=29, row=33), ActiveCell(col=30, row=33), ActiveCell(col=31, row=33), ActiveCell(col=32, row=33), ActiveCell(col=33, row=33), ActiveCell(col=34, row=33), ActiveCell(col=35, row=33), ActiveCell(col=36, row=33), ActiveCell(col=37, row=33), ActiveCell(col=38, row=33), ActiveCell(col=39, row=33), ActiveCell(col=40, row=33), ActiveCell(col=41, row=33), ActiveCell(col=42, row=33), ActiveCell(col=43, row=33), ActiveCell(col=44, row=33), ActiveCell(col=45, row=33), ActiveCell(col=46, row=33), ActiveCell(col=47, row=33), ActiveCell(col=48, row=33), ActiveCell(col=49, row=33), ActiveCell(col=50, row=33), ActiveCell(col=51, row=33), ActiveCell(col=52, row=33), ActiveCell(col=53, row=33), ActiveCell(col=54, row=33), ActiveCell(col=55, row=33), ActiveCell(col=56, row=33), ActiveCell(col=57, row=33), ActiveCell(col=58, row=33), ActiveCell(col=59, row=33), ActiveCell(col=60, row=33), ActiveCell(col=61, row=33), ActiveCell(col=62, row=33), ActiveCell(col=63, row=33), ActiveCell(col=64, row=33), ActiveCell(col=65, row=33), ActiveCell(col=66, row=33), ActiveCell(col=67, row=33), ActiveCell(col=68, row=33), ActiveCell(col=69, row=33), ActiveCell(col=70, row=33), ActiveCell(col=71, row=33), ActiveCell(col=72, row=33), ActiveCell(col=73, row=33), ActiveCell(col=74, row=33), ActiveCell(col=75, row=33), ActiveCell(col=76, row=33), ActiveCell(col=77, row=33), ActiveCell(col=78, row=33), ActiveCell(col=79, row=33), ActiveCell(col=80, row=33), ActiveCell(col=81, row=33), ActiveCell(col=82, row=33), ActiveCell(col=83, row=33), ActiveCell(col=84, row=33), ActiveCell(col=85, row=33), ActiveCell(col=86, row=33), ActiveCell(col=87, row=33), ActiveCell(col=88, row=33), ActiveCell(col=89, row=33), ActiveCell(col=90, row=33), ActiveCell(col=91, row=33), ActiveCell(col=92, row=33), ActiveCell(col=93, row=33), ActiveCell(col=94, row=33), ActiveCell(col=95, row=33), ActiveCell(col=96, row=33), ActiveCell(col=97, row=33), ActiveCell(col=98, row=33), ActiveCell(col=99, row=33), ActiveCell(col=7, row=34), ActiveCell(col=8, row=34), ActiveCell(col=9, row=34), ActiveCell(col=10, row=34), ActiveCell(col=11, row=34), ActiveCell(col=12, row=34), ActiveCell(col=13, row=34), ActiveCell(col=14, row=34), ActiveCell(col=15, row=34), ActiveCell(col=16, row=34), ActiveCell(col=17, row=34), ActiveCell(col=18, row=34), ActiveCell(col=19, row=34), ActiveCell(col=20, row=34), ActiveCell(col=21, row=34), ActiveCell(col=22, row=34), ActiveCell(col=23, row=34), ActiveCell(col=24, row=34), ActiveCell(col=25, row=34), ActiveCell(col=26, row=34), ActiveCell(col=27, row=34), ActiveCell(col=28, row=34), ActiveCell(col=29, row=34), ActiveCell(col=30, row=34), ActiveCell(col=31, row=34), ActiveCell(col=32, row=34), ActiveCell(col=33, row=34), ActiveCell(col=34, row=34), ActiveCell(col=35, row=34), ActiveCell(col=36, row=34), ActiveCell(col=37, row=34), ActiveCell(col=38, row=34), ActiveCell(col=39, row=34), ActiveCell(col=40, row=34), ActiveCell(col=41, row=34), ActiveCell(col=42, row=34), ActiveCell(col=43, row=34), ActiveCell(col=44, row=34), ActiveCell(col=45, row=34), ActiveCell(col=46, row=34), ActiveCell(col=47, row=34), ActiveCell(col=48, row=34), ActiveCell(col=49, row=34), ActiveCell(col=50, row=34), ActiveCell(col=51, row=34), ActiveCell(col=52, row=34), ActiveCell(col=53, row=34), ActiveCell(col=54, row=34), ActiveCell(col=55, row=34), ActiveCell(col=56, row=34), ActiveCell(col=57, row=34), ActiveCell(col=58, row=34), ActiveCell(col=59, row=34), ActiveCell(col=60, row=34), ActiveCell(col=61, row=34), ActiveCell(col=62, row=34), ActiveCell(col=63, row=34), ActiveCell(col=64, row=34), ActiveCell(col=65, row=34), ActiveCell(col=66, row=34), ActiveCell(col=67, row=34), ActiveCell(col=68, row=34), ActiveCell(col=69, row=34), ActiveCell(col=70, row=34), ActiveCell(col=71, row=34), ActiveCell(col=72, row=34), ActiveCell(col=73, row=34), ActiveCell(col=74, row=34), ActiveCell(col=75, row=34), ActiveCell(col=76, row=34), ActiveCell(col=77, row=34), ActiveCell(col=78, row=34), ActiveCell(col=79, row=34), ActiveCell(col=80, row=34), ActiveCell(col=81, row=34), ActiveCell(col=82, row=34), ActiveCell(col=83, row=34), ActiveCell(col=84, row=34), ActiveCell(col=85, row=34), ActiveCell(col=86, row=34), ActiveCell(col=87, row=34), ActiveCell(col=88, row=34), ActiveCell(col=89, row=34), ActiveCell(col=90, row=34), ActiveCell(col=91, row=34), ActiveCell(col=92, row=34), ActiveCell(col=93, row=34), ActiveCell(col=94, row=34), ActiveCell(col=95, row=34), ActiveCell(col=7, row=35), ActiveCell(col=8, row=35), ActiveCell(col=9, row=35), ActiveCell(col=10, row=35), ActiveCell(col=11, row=35), ActiveCell(col=12, row=35), ActiveCell(col=13, row=35), ActiveCell(col=14, row=35), ActiveCell(col=15, row=35), ActiveCell(col=16, row=35), ActiveCell(col=17, row=35), ActiveCell(col=18, row=35), ActiveCell(col=19, row=35), ActiveCell(col=20, row=35), ActiveCell(col=21, row=35), ActiveCell(col=22, row=35), ActiveCell(col=23, row=35), ActiveCell(col=24, row=35), ActiveCell(col=25, row=35), ActiveCell(col=26, row=35), ActiveCell(col=27, row=35), ActiveCell(col=28, row=35), ActiveCell(col=29, row=35), ActiveCell(col=30, row=35), ActiveCell(col=31, row=35), ActiveCell(col=32, row=35), ActiveCell(col=33, row=35), ActiveCell(col=34, row=35), ActiveCell(col=35, row=35), ActiveCell(col=36, row=35), ActiveCell(col=37, row=35), ActiveCell(col=38, row=35), ActiveCell(col=39, row=35), ActiveCell(col=40, row=35), ActiveCell(col=41, row=35), ActiveCell(col=42, row=35), ActiveCell(col=43, row=35), ActiveCell(col=44, row=35), ActiveCell(col=45, row=35), ActiveCell(col=46, row=35), ActiveCell(col=47, row=35), ActiveCell(col=48, row=35), ActiveCell(col=49, row=35), ActiveCell(col=50, row=35), ActiveCell(col=51, row=35), ActiveCell(col=52, row=35), ActiveCell(col=53, row=35), ActiveCell(col=54, row=35), ActiveCell(col=55, row=35), ActiveCell(col=56, row=35), ActiveCell(col=57, row=35), ActiveCell(col=58, row=35), ActiveCell(col=59, row=35), ActiveCell(col=60, row=35), ActiveCell(col=61, row=35), ActiveCell(col=62, row=35), ActiveCell(col=63, row=35), ActiveCell(col=64, row=35), ActiveCell(col=65, row=35), ActiveCell(col=66, row=35), ActiveCell(col=67, row=35), ActiveCell(col=68, row=35), ActiveCell(col=69, row=35), ActiveCell(col=70, row=35), ActiveCell(col=71, row=35), ActiveCell(col=72, row=35), ActiveCell(col=73, row=35), ActiveCell(col=74, row=35), ActiveCell(col=75, row=35), ActiveCell(col=76, row=35), ActiveCell(col=77, row=35), ActiveCell(col=78, row=35), ActiveCell(col=79, row=35), ActiveCell(col=80, row=35), ActiveCell(col=81, row=35), ActiveCell(col=82, row=35), ActiveCell(col=83, row=35), ActiveCell(col=84, row=35), ActiveCell(col=85, row=35), ActiveCell(col=86, row=35), ActiveCell(col=87, row=35), ActiveCell(col=88, row=35), ActiveCell(col=89, row=35), ActiveCell(col=90, row=35), ActiveCell(col=7, row=36), ActiveCell(col=8, row=36), ActiveCell(col=9, row=36), ActiveCell(col=10, row=36), ActiveCell(col=11, row=36), ActiveCell(col=12, row=36), ActiveCell(col=13, row=36), ActiveCell(col=14, row=36), ActiveCell(col=15, row=36), ActiveCell(col=16, row=36), ActiveCell(col=17, row=36), ActiveCell(col=18, row=36), ActiveCell(col=19, row=36), ActiveCell(col=20, row=36), ActiveCell(col=21, row=36), ActiveCell(col=22, row=36), ActiveCell(col=23, row=36), ActiveCell(col=24, row=36), ActiveCell(col=25, row=36), ActiveCell(col=26, row=36), ActiveCell(col=27, row=36), ActiveCell(col=28, row=36), ActiveCell(col=29, row=36), ActiveCell(col=30, row=36), ActiveCell(col=31, row=36), ActiveCell(col=32, row=36), ActiveCell(col=33, row=36), ActiveCell(col=34, row=36), ActiveCell(col=35, row=36), ActiveCell(col=36, row=36), ActiveCell(col=37, row=36), ActiveCell(col=38, row=36), ActiveCell(col=39, row=36), ActiveCell(col=40, row=36), ActiveCell(col=41, row=36), ActiveCell(col=42, row=36), ActiveCell(col=43, row=36), ActiveCell(col=44, row=36), ActiveCell(col=45, row=36), ActiveCell(col=46, row=36), ActiveCell(col=47, row=36), ActiveCell(col=48, row=36), ActiveCell(col=49, row=36), ActiveCell(col=50, row=36), ActiveCell(col=51, row=36), ActiveCell(col=52, row=36), ActiveCell(col=53, row=36), ActiveCell(col=54, row=36), ActiveCell(col=55, row=36), ActiveCell(col=56, row=36), ActiveCell(col=57, row=36), ActiveCell(col=58, row=36), ActiveCell(col=59, row=36), ActiveCell(col=60, row=36), ActiveCell(col=61, row=36), ActiveCell(col=62, row=36), ActiveCell(col=63, row=36), ActiveCell(col=64, row=36), ActiveCell(col=65, row=36), ActiveCell(col=66, row=36), ActiveCell(col=67, row=36), ActiveCell(col=68, row=36), ActiveCell(col=69, row=36), ActiveCell(col=70, row=36), ActiveCell(col=71, row=36), ActiveCell(col=72, row=36), ActiveCell(col=73, row=36), ActiveCell(col=74, row=36), ActiveCell(col=75, row=36), ActiveCell(col=76, row=36), ActiveCell(col=77, row=36), ActiveCell(col=78, row=36), ActiveCell(col=79, row=36), ActiveCell(col=80, row=36), ActiveCell(col=81, row=36), ActiveCell(col=82, row=36), ActiveCell(col=83, row=36), ActiveCell(col=84, row=36), ActiveCell(col=7, row=37), ActiveCell(col=8, row=37), ActiveCell(col=9, row=37), ActiveCell(col=10, row=37), ActiveCell(col=11, row=37), ActiveCell(col=12, row=37), ActiveCell(col=13, row=37), ActiveCell(col=14, row=37), ActiveCell(col=15, row=37), ActiveCell(col=16, row=37), ActiveCell(col=17, row=37), ActiveCell(col=18, row=37), ActiveCell(col=19, row=37), ActiveCell(col=20, row=37), ActiveCell(col=21, row=37), ActiveCell(col=22, row=37), ActiveCell(col=23, row=37), ActiveCell(col=24, row=37), ActiveCell(col=25, row=37), ActiveCell(col=26, row=37), ActiveCell(col=27, row=37), ActiveCell(col=28, row=37), ActiveCell(col=29, row=37), ActiveCell(col=30, row=37), ActiveCell(col=31, row=37), ActiveCell(col=32, row=37), ActiveCell(col=33, row=37), ActiveCell(col=34, row=37), ActiveCell(col=35, row=37), ActiveCell(col=36, row=37), ActiveCell(col=37, row=37), ActiveCell(col=38, row=37), ActiveCell(col=39, row=37), ActiveCell(col=40, row=37), ActiveCell(col=41, row=37), ActiveCell(col=42, row=37), ActiveCell(col=43, row=37), ActiveCell(col=44, row=37), ActiveCell(col=45, row=37), ActiveCell(col=46, row=37), ActiveCell(col=47, row=37), ActiveCell(col=48, row=37), ActiveCell(col=49, row=37), ActiveCell(col=50, row=37), ActiveCell(col=51, row=37), ActiveCell(col=52, row=37), ActiveCell(col=53, row=37), ActiveCell(col=54, row=37), ActiveCell(col=55, row=37), ActiveCell(col=56, row=37), ActiveCell(col=57, row=37), ActiveCell(col=58, row=37), ActiveCell(col=59, row=37), ActiveCell(col=60, row=37), ActiveCell(col=61, row=37), ActiveCell(col=62, row=37), ActiveCell(col=63, row=37), ActiveCell(col=64, row=37), ActiveCell(col=65, row=37), ActiveCell(col=66, row=37), ActiveCell(col=67, row=37), ActiveCell(col=68, row=37), ActiveCell(col=69, row=37), ActiveCell(col=70, row=37), ActiveCell(col=71, row=37), ActiveCell(col=72, row=37), ActiveCell(col=73, row=37), ActiveCell(col=74, row=37), ActiveCell(col=75, row=37), ActiveCell(col=76, row=37), ActiveCell(col=77, row=37), ActiveCell(col=78, row=37), ActiveCell(col=7, row=38), ActiveCell(col=8, row=38), ActiveCell(col=9, row=38), ActiveCell(col=10, row=38), ActiveCell(col=11, row=38), ActiveCell(col=12, row=38), ActiveCell(col=13, row=38), ActiveCell(col=14, row=38), ActiveCell(col=15, row=38), ActiveCell(col=16, row=38), ActiveCell(col=17, row=38), ActiveCell(col=18, row=38), ActiveCell(col=19, row=38), ActiveCell(col=20, row=38), ActiveCell(col=21, row=38), ActiveCell(col=22, row=38), ActiveCell(col=23, row=38), ActiveCell(col=24, row=38), ActiveCell(col=25, row=38), ActiveCell(col=26, row=38), ActiveCell(col=27, row=38), ActiveCell(col=28, row=38), ActiveCell(col=29, row=38), ActiveCell(col=30, row=38), ActiveCell(col=31, row=38), ActiveCell(col=32, row=38), ActiveCell(col=33, row=38), ActiveCell(col=34, row=38), ActiveCell(col=35, row=38), ActiveCell(col=36, row=38), ActiveCell(col=37, row=38), ActiveCell(col=38, row=38), ActiveCell(col=39, row=38), ActiveCell(col=40, row=38), ActiveCell(col=41, row=38), ActiveCell(col=42, row=38), ActiveCell(col=43, row=38), ActiveCell(col=44, row=38), ActiveCell(col=45, row=38), ActiveCell(col=46, row=38), ActiveCell(col=47, row=38), ActiveCell(col=48, row=38), ActiveCell(col=49, row=38), ActiveCell(col=50, row=38), ActiveCell(col=51, row=38), ActiveCell(col=52, row=38), ActiveCell(col=53, row=38), ActiveCell(col=54, row=38), ActiveCell(col=55, row=38), ActiveCell(col=56, row=38), ActiveCell(col=57, row=38), ActiveCell(col=58, row=38), ActiveCell(col=59, row=38), ActiveCell(col=60, row=38), ActiveCell(col=61, row=38), ActiveCell(col=62, row=38), ActiveCell(col=63, row=38), ActiveCell(col=64, row=38), ActiveCell(col=65, row=38), ActiveCell(col=66, row=38), ActiveCell(col=67, row=38), ActiveCell(col=68, row=38), ActiveCell(col=69, row=38), ActiveCell(col=70, row=38), ActiveCell(col=71, row=38), ActiveCell(col=72, row=38), ActiveCell(col=73, row=38), ActiveCell(col=8, row=39), ActiveCell(col=9, row=39), ActiveCell(col=10, row=39), ActiveCell(col=11, row=39), ActiveCell(col=12, row=39), ActiveCell(col=13, row=39), ActiveCell(col=14, row=39), ActiveCell(col=15, row=39), ActiveCell(col=16, row=39), ActiveCell(col=17, row=39), ActiveCell(col=18, row=39), ActiveCell(col=19, row=39), ActiveCell(col=20, row=39), ActiveCell(col=21, row=39), ActiveCell(col=22, row=39), ActiveCell(col=23, row=39), ActiveCell(col=24, row=39), ActiveCell(col=25, row=39), ActiveCell(col=26, row=39), ActiveCell(col=27, row=39), ActiveCell(col=28, row=39), ActiveCell(col=29, row=39), ActiveCell(col=30, row=39), ActiveCell(col=31, row=39), ActiveCell(col=32, row=39), ActiveCell(col=33, row=39), ActiveCell(col=34, row=39), ActiveCell(col=35, row=39), ActiveCell(col=36, row=39), ActiveCell(col=37, row=39), ActiveCell(col=38, row=39), ActiveCell(col=39, row=39), ActiveCell(col=40, row=39), ActiveCell(col=41, row=39), ActiveCell(col=42, row=39), ActiveCell(col=43, row=39), ActiveCell(col=44, row=39), ActiveCell(col=45, row=39), ActiveCell(col=46, row=39), ActiveCell(col=47, row=39), ActiveCell(col=48, row=39), ActiveCell(col=49, row=39), ActiveCell(col=50, row=39), ActiveCell(col=51, row=39), ActiveCell(col=52, row=39), ActiveCell(col=53, row=39), ActiveCell(col=54, row=39), ActiveCell(col=55, row=39), ActiveCell(col=56, row=39), ActiveCell(col=57, row=39), ActiveCell(col=58, row=39), ActiveCell(col=59, row=39), ActiveCell(col=60, row=39), ActiveCell(col=61, row=39), ActiveCell(col=62, row=39), ActiveCell(col=63, row=39), ActiveCell(col=64, row=39), ActiveCell(col=65, row=39), ActiveCell(col=66, row=39), ActiveCell(col=67, row=39), ActiveCell(col=8, row=40), ActiveCell(col=9, row=40), ActiveCell(col=10, row=40), ActiveCell(col=11, row=40), ActiveCell(col=12, row=40), ActiveCell(col=13, row=40), ActiveCell(col=14, row=40), ActiveCell(col=15, row=40), ActiveCell(col=16, row=40), ActiveCell(col=17, row=40), ActiveCell(col=18, row=40), ActiveCell(col=19, row=40), ActiveCell(col=20, row=40), ActiveCell(col=21, row=40), ActiveCell(col=22, row=40), ActiveCell(col=23, row=40), ActiveCell(col=24, row=40), ActiveCell(col=25, row=40), ActiveCell(col=26, row=40), ActiveCell(col=27, row=40), ActiveCell(col=28, row=40), ActiveCell(col=29, row=40), ActiveCell(col=30, row=40), ActiveCell(col=31, row=40), ActiveCell(col=32, row=40), ActiveCell(col=33, row=40), ActiveCell(col=34, row=40), ActiveCell(col=35, row=40), ActiveCell(col=36, row=40), ActiveCell(col=37, row=40), ActiveCell(col=38, row=40), ActiveCell(col=39, row=40), ActiveCell(col=40, row=40), ActiveCell(col=41, row=40), ActiveCell(col=42, row=40), ActiveCell(col=43, row=40), ActiveCell(col=44, row=40), ActiveCell(col=45, row=40), ActiveCell(col=46, row=40), ActiveCell(col=47, row=40), ActiveCell(col=48, row=40), ActiveCell(col=49, row=40), ActiveCell(col=50, row=40), ActiveCell(col=51, row=40), ActiveCell(col=52, row=40), ActiveCell(col=53, row=40), ActiveCell(col=54, row=40), ActiveCell(col=55, row=40), ActiveCell(col=56, row=40), ActiveCell(col=57, row=40), ActiveCell(col=58, row=40), ActiveCell(col=59, row=40), ActiveCell(col=60, row=40), ActiveCell(col=61, row=40), ActiveCell(col=62, row=40), ActiveCell(col=8, row=41), ActiveCell(col=9, row=41), ActiveCell(col=10, row=41), ActiveCell(col=11, row=41), ActiveCell(col=12, row=41), ActiveCell(col=13, row=41), ActiveCell(col=14, row=41), ActiveCell(col=15, row=41), ActiveCell(col=16, row=41), ActiveCell(col=17, row=41), ActiveCell(col=18, row=41), ActiveCell(col=19, row=41), ActiveCell(col=20, row=41), ActiveCell(col=21, row=41), ActiveCell(col=22, row=41), ActiveCell(col=23, row=41), ActiveCell(col=24, row=41), ActiveCell(col=25, row=41), ActiveCell(col=26, row=41), ActiveCell(col=27, row=41), ActiveCell(col=28, row=41), ActiveCell(col=29, row=41), ActiveCell(col=30, row=41), ActiveCell(col=31, row=41), ActiveCell(col=32, row=41), ActiveCell(col=33, row=41), ActiveCell(col=34, row=41), ActiveCell(col=35, row=41), ActiveCell(col=36, row=41), ActiveCell(col=37, row=41), ActiveCell(col=38, row=41), ActiveCell(col=39, row=41), ActiveCell(col=40, row=41), ActiveCell(col=41, row=41), ActiveCell(col=42, row=41), ActiveCell(col=43, row=41), ActiveCell(col=44, row=41), ActiveCell(col=45, row=41), ActiveCell(col=46, row=41), ActiveCell(col=47, row=41), ActiveCell(col=48, row=41), ActiveCell(col=49, row=41), ActiveCell(col=50, row=41), ActiveCell(col=51, row=41), ActiveCell(col=52, row=41), ActiveCell(col=53, row=41), ActiveCell(col=54, row=41), ActiveCell(col=55, row=41), ActiveCell(col=56, row=41), ActiveCell(col=8, row=42), ActiveCell(col=9, row=42), ActiveCell(col=10, row=42), ActiveCell(col=11, row=42), ActiveCell(col=12, row=42), ActiveCell(col=13, row=42), ActiveCell(col=14, row=42), ActiveCell(col=15, row=42), ActiveCell(col=16, row=42), ActiveCell(col=17, row=42), ActiveCell(col=18, row=42), ActiveCell(col=19, row=42), ActiveCell(col=20, row=42), ActiveCell(col=21, row=42), ActiveCell(col=22, row=42), ActiveCell(col=23, row=42), ActiveCell(col=24, row=42), ActiveCell(col=25, row=42), ActiveCell(col=26, row=42), ActiveCell(col=27, row=42), ActiveCell(col=28, row=42), ActiveCell(col=29, row=42), ActiveCell(col=30, row=42), ActiveCell(col=31, row=42), ActiveCell(col=32, row=42), ActiveCell(col=33, row=42), ActiveCell(col=34, row=42), ActiveCell(col=35, row=42), ActiveCell(col=36, row=42), ActiveCell(col=37, row=42), ActiveCell(col=38, row=42), ActiveCell(col=39, row=42), ActiveCell(col=40, row=42), ActiveCell(col=41, row=42), ActiveCell(col=42, row=42), ActiveCell(col=43, row=42), ActiveCell(col=44, row=42), ActiveCell(col=45, row=42), ActiveCell(col=46, row=42), ActiveCell(col=47, row=42), ActiveCell(col=48, row=42), ActiveCell(col=49, row=42), ActiveCell(col=50, row=42), ActiveCell(col=8, row=43), ActiveCell(col=9, row=43), ActiveCell(col=10, row=43), ActiveCell(col=11, row=43), ActiveCell(col=12, row=43), ActiveCell(col=13, row=43), ActiveCell(col=14, row=43), ActiveCell(col=15, row=43), ActiveCell(col=16, row=43), ActiveCell(col=17, row=43), ActiveCell(col=18, row=43), ActiveCell(col=19, row=43), ActiveCell(col=20, row=43), ActiveCell(col=21, row=43), ActiveCell(col=22, row=43), ActiveCell(col=23, row=43), ActiveCell(col=24, row=43), ActiveCell(col=25, row=43), ActiveCell(col=26, row=43), ActiveCell(col=27, row=43), ActiveCell(col=28, row=43), ActiveCell(col=29, row=43), ActiveCell(col=30, row=43), ActiveCell(col=31, row=43), ActiveCell(col=32, row=43), ActiveCell(col=33, row=43), ActiveCell(col=34, row=43), ActiveCell(col=35, row=43), ActiveCell(col=36, row=43), ActiveCell(col=37, row=43), ActiveCell(col=38, row=43), ActiveCell(col=39, row=43), ActiveCell(col=40, row=43), ActiveCell(col=41, row=43), ActiveCell(col=42, row=43), ActiveCell(col=43, row=43), ActiveCell(col=44, row=43), ActiveCell(col=45, row=43), ActiveCell(col=9, row=44), ActiveCell(col=10, row=44), ActiveCell(col=11, row=44), ActiveCell(col=12, row=44), ActiveCell(col=13, row=44), ActiveCell(col=14, row=44), ActiveCell(col=15, row=44), ActiveCell(col=16, row=44), ActiveCell(col=17, row=44), ActiveCell(col=18, row=44), ActiveCell(col=19, row=44), ActiveCell(col=20, row=44), ActiveCell(col=21, row=44), ActiveCell(col=22, row=44), ActiveCell(col=23, row=44), ActiveCell(col=24, row=44), ActiveCell(col=25, row=44), ActiveCell(col=26, row=44), ActiveCell(col=27, row=44), ActiveCell(col=28, row=44), ActiveCell(col=29, row=44), ActiveCell(col=30, row=44), ActiveCell(col=31, row=44), ActiveCell(col=32, row=44), ActiveCell(col=33, row=44), ActiveCell(col=34, row=44), ActiveCell(col=35, row=44), ActiveCell(col=36, row=44), ActiveCell(col=37, row=44), ActiveCell(col=38, row=44), ActiveCell(col=39, row=44), ActiveCell(col=9, row=45), ActiveCell(col=10, row=45), ActiveCell(col=11, row=45), ActiveCell(col=12, row=45), ActiveCell(col=13, row=45), ActiveCell(col=14, row=45), ActiveCell(col=15, row=45), ActiveCell(col=16, row=45), ActiveCell(col=17, row=45), ActiveCell(col=18, row=45), ActiveCell(col=19, row=45), ActiveCell(col=20, row=45), ActiveCell(col=21, row=45), ActiveCell(col=22, row=45), ActiveCell(col=23, row=45), ActiveCell(col=24, row=45), ActiveCell(col=25, row=45), ActiveCell(col=26, row=45), ActiveCell(col=27, row=45), ActiveCell(col=28, row=45), ActiveCell(col=29, row=45), ActiveCell(col=30, row=45), ActiveCell(col=31, row=45), ActiveCell(col=32, row=45), ActiveCell(col=33, row=45), ActiveCell(col=34, row=45), ActiveCell(col=9, row=46), ActiveCell(col=10, row=46), ActiveCell(col=11, row=46), ActiveCell(col=12, row=46), ActiveCell(col=13, row=46), ActiveCell(col=14, row=46), ActiveCell(col=15, row=46), ActiveCell(col=16, row=46), ActiveCell(col=17, row=46), ActiveCell(col=18, row=46), ActiveCell(col=19, row=46), ActiveCell(col=20, row=46), ActiveCell(col=21, row=46), ActiveCell(col=22, row=46), ActiveCell(col=23, row=46), ActiveCell(col=24, row=46), ActiveCell(col=25, row=46), ActiveCell(col=26, row=46), ActiveCell(col=27, row=46), ActiveCell(col=28, row=46), ActiveCell(col=9, row=47), ActiveCell(col=10, row=47), ActiveCell(col=11, row=47), ActiveCell(col=12, row=47), ActiveCell(col=13, row=47), ActiveCell(col=14, row=47), ActiveCell(col=15, row=47), ActiveCell(col=16, row=47), ActiveCell(col=17, row=47), ActiveCell(col=18, row=47), ActiveCell(col=19, row=47), ActiveCell(col=20, row=47), ActiveCell(col=21, row=47), ActiveCell(col=22, row=47), ActiveCell(col=23, row=47), ActiveCell(col=9, row=48), ActiveCell(col=10, row=48), ActiveCell(col=11, row=48), ActiveCell(col=12, row=48), ActiveCell(col=13, row=48), ActiveCell(col=14, row=48), ActiveCell(col=15, row=48), ActiveCell(col=16, row=48), ActiveCell(col=17, row=48), ActiveCell(col=9, row=49), ActiveCell(col=10, row=49), ActiveCell(col=11, row=49)])), time_discretization=TimeDiscretization(start_date_time=StartDateTime(value=datetime.datetime(2020, 1, 1, 0, 0, tzinfo=datetime.timezone.utc)), end_date_time=EndDateTime(value=datetime.datetime(2020, 1, 2, 0, 0, tzinfo=datetime.timezone.utc)), stress_periods=StressPeriodCollection(values=[StressPeriod(start_date_time=StartDateTime(value=datetime.datetime(2020, 1, 1, 0, 0, tzinfo=datetime.timezone.utc)), number_of_time_steps=NumberOfTimeSteps(value=1), time_step_multiplier=TimeStepMultiplier(value=1.0), steady_state=IsSteadyState(value=True))]), time_unit=TimeUnit(unit=4)), boundaries=BoundaryCollection(boundaries=[]), observations=ObservationCollection(observations=[]), layers=LayersCollection(layers=[Layer(layer_id=LayerId(value='3dca65da-8499-47dc-b606-ace15a901b7b'), name=LayerName(value='Default'), description=LayerDescription(value='Default'), confinement=LayerConfinement(type='confined'), properties=LayerProperties(hk=LayerPropertyValues(value=LayerPropertyDefaultValue(value=1.0), raster=None, zones=None), hani=LayerPropertyValues(value=LayerPropertyDefaultValue(value=1.0), raster=None, zones=None), vka=LayerPropertyValues(value=LayerPropertyDefaultValue(value=1.0), raster=None, zones=None), specific_storage=LayerPropertyValues(value=LayerPropertyDefaultValue(value=0.0001), raster=None, zones=None), specific_yield=LayerPropertyValues(value=LayerPropertyDefaultValue(value=0.1), raster=None, zones=None), initial_head=LayerPropertyValues(value=LayerPropertyDefaultValue(value=1.0), raster=None, zones=None), top=LayerPropertyValues(value=LayerPropertyDefaultValue(value=1.0), raster=None, zones=None), bottom=LayerPropertyValues(value=LayerPropertyDefaultValue(value=0.0), raster=None, zones=None)))]), transport=Transport(is_enabled=IsEnabled(value=False), substances=[]), variable_density=VariableDensityFlow(is_enabled=IsEnabled(value=False), viscosity_is_enabled=IsEnabled(value=False)))"
      ]
     },
     "execution_count": 5,
     "metadata": {},
     "output_type": "execute_result"
    }
   ],
   "execution_count": 5
  },
  {
   "cell_type": "markdown",
   "id": "572a7b334c101e6c",
   "metadata": {
    "collapsed": false,
    "papermill": {
     "duration": 0.003676,
     "end_time": "2024-06-20T19:02:44.752905",
     "exception": false,
     "start_time": "2024-06-20T19:02:44.749229",
     "status": "completed"
    },
    "tags": []
   },
   "source": [
    "## Update Model Geometry\n"
   ]
  },
  {
   "cell_type": "code",
   "id": "c38378d24fc310eb",
   "metadata": {
    "collapsed": false,
    "execution": {
     "iopub.execute_input": "2024-06-20T19:02:44.760694Z",
     "iopub.status.busy": "2024-06-20T19:02:44.760519Z",
     "iopub.status.idle": "2024-06-20T19:02:45.132482Z",
     "shell.execute_reply": "2024-06-20T19:02:45.132221Z"
    },
    "papermill": {
     "duration": 0.376791,
     "end_time": "2024-06-20T19:02:45.133321",
     "exception": false,
     "start_time": "2024-06-20T19:02:44.756530",
     "status": "completed"
    },
    "tags": [],
    "ExecuteTime": {
     "end_time": "2024-08-19T09:42:40.342992Z",
     "start_time": "2024-08-19T09:42:39.911697Z"
    }
   },
   "source": [
    "from morpheus.project.application.write.Model.Discretization import UpdateModelGeometryCommand\n",
    "\n",
    "new_polygon = Polygon(\n",
    "  type='Polygon',\n",
    "  coordinates=[[\n",
    "    (13.922, 50.965),\n",
    "    (13.925, 50.965),\n",
    "    (13.925, 50.966),\n",
    "    (13.922, 50.966),\n",
    "    (13.922, 50.965)\n",
    "  ]]\n",
    ")\n",
    "\n",
    "command = UpdateModelGeometryCommand(\n",
    "  project_id=project_id,\n",
    "  geometry=new_polygon,\n",
    "  user_id=user_id\n",
    ")\n",
    "\n",
    "project_command_bus.dispatch(command)\n",
    "\n",
    "model_reader = ModelReader()\n",
    "model = model_reader.get_latest_model(project_id)\n",
    "model.spatial_discretization.geometry"
   ],
   "outputs": [
    {
     "data": {
      "text/plain": [
       "Polygon(coordinates=[[[13.922, 50.965], [13.925, 50.965], [13.925, 50.966], [13.922, 50.966], [13.922, 50.965]]], type='Polygon')"
      ]
     },
     "execution_count": 6,
     "metadata": {},
     "output_type": "execute_result"
    }
   ],
   "execution_count": 6
  },
  {
   "cell_type": "markdown",
   "id": "91c1beb811cc5003",
   "metadata": {
    "collapsed": false,
    "papermill": {
     "duration": 0.003646,
     "end_time": "2024-06-20T19:02:45.141080",
     "exception": false,
     "start_time": "2024-06-20T19:02:45.137434",
     "status": "completed"
    },
    "tags": []
   },
   "source": [
    "## Update Model Grid Properties"
   ]
  },
  {
   "cell_type": "code",
   "id": "3eeeb70e09d71fba",
   "metadata": {
    "collapsed": false,
    "execution": {
     "iopub.execute_input": "2024-06-20T19:02:45.148738Z",
     "iopub.status.busy": "2024-06-20T19:02:45.148619Z",
     "iopub.status.idle": "2024-06-20T19:02:45.233472Z",
     "shell.execute_reply": "2024-06-20T19:02:45.232730Z"
    },
    "papermill": {
     "duration": 0.089796,
     "end_time": "2024-06-20T19:02:45.234398",
     "exception": false,
     "start_time": "2024-06-20T19:02:45.144602",
     "status": "completed"
    },
    "tags": [],
    "ExecuteTime": {
     "end_time": "2024-08-19T09:42:40.394728Z",
     "start_time": "2024-08-19T09:42:40.343631Z"
    }
   },
   "source": [
    "\n",
    "from morpheus.project.application.write.Model.Discretization import UpdateModelGridCommand\n",
    "\n",
    "new_del_col_relative = [0, 0.1, 0.2, 0.3, 0.4, 0.5, 0.6, 0.7, 0.8, 0.9, 1]\n",
    "new_del_row_relative = [0, 0.2, 0.4, 0.6, 0.8, 1]\n",
    "\n",
    "command = UpdateModelGridCommand(\n",
    "  project_id=project_id,\n",
    "  user_id=user_id,\n",
    "  n_cols=len(new_del_col_relative),\n",
    "  n_rows=len(new_del_row_relative),\n",
    "  rotation=10,\n",
    ")\n",
    "\n",
    "project_command_bus.dispatch(command)\n",
    "\n",
    "model_reader = ModelReader()\n",
    "model = model_reader.get_latest_model(project_id)\n",
    "print(model.spatial_discretization.geometry)\n",
    "print(model.spatial_discretization.grid)\n",
    "print(model.spatial_discretization.affected_cells.to_dict())"
   ],
   "outputs": [
    {
     "name": "stdout",
     "output_type": "stream",
     "text": [
      "Polygon(coordinates=[[[13.922, 50.965], [13.925, 50.965], [13.925, 50.966], [13.922, 50.966], [13.922, 50.965]]], type='Polygon')\n",
      "Grid(origin=Point(coordinates=[13.921728464165456, 50.96596984662515], type='Point'), col_widths=[32.68894794320857, 32.68894794320857, 32.68894794320856, 32.688947943208575, 32.6889479432086, 32.68894794320852, 32.6889479432086, 32.68894794320855, 32.68894794320863, 32.688947943208575, 32.68894794320852], total_width=359.57842737529427, row_heights=[38.67716080928221, 38.67716080928221, 38.67716080928221, 38.67716080928221, 38.677160809282185, 38.67716080928224], total_height=232.06296485569328, rotation=Rotation(value=10), length_unit=LengthUnit(unit=2))\n",
      "{'type': 'raster', 'empty_value': False, 'shape': [6, 11], 'data': [[False, True, True, True, False, False, False, False, False, False, False], [False, True, True, True, True, True, True, True, True, True, True], [True, True, True, True, True, True, True, True, True, True, True], [True, True, True, True, True, True, True, True, True, True, True], [True, True, True, True, True, True, True, True, True, True, False], [False, False, False, False, False, False, False, True, True, True, False]]}\n"
     ]
    }
   ],
   "execution_count": 7
  },
  {
   "cell_type": "markdown",
   "id": "2e17bfb7ad5edd8a",
   "metadata": {
    "collapsed": false,
    "papermill": {
     "duration": 0.004182,
     "end_time": "2024-06-20T19:02:45.243022",
     "exception": false,
     "start_time": "2024-06-20T19:02:45.238840",
     "status": "completed"
    },
    "tags": []
   },
   "source": [
    "## Update Model Affected Cells"
   ]
  },
  {
   "cell_type": "code",
   "id": "2125ecf138c64a88",
   "metadata": {
    "collapsed": false,
    "execution": {
     "iopub.execute_input": "2024-06-20T19:02:45.252255Z",
     "iopub.status.busy": "2024-06-20T19:02:45.251962Z",
     "iopub.status.idle": "2024-06-20T19:02:45.263942Z",
     "shell.execute_reply": "2024-06-20T19:02:45.263225Z"
    },
    "papermill": {
     "duration": 0.019232,
     "end_time": "2024-06-20T19:02:45.266101",
     "exception": false,
     "start_time": "2024-06-20T19:02:45.246869",
     "status": "completed"
    },
    "tags": [],
    "ExecuteTime": {
     "end_time": "2024-08-19T09:42:40.409108Z",
     "start_time": "2024-08-19T09:42:40.395586Z"
    }
   },
   "source": [
    "from morpheus.project.application.write.Model.Discretization import UpdateModelAffectedCellsCommand\n",
    "\n",
    "model_reader = ModelReader()\n",
    "model = model_reader.get_latest_model(project_id=project_id)\n",
    "affected_cells = model.spatial_discretization.affected_cells\n",
    "\n",
    "assert affected_cells.is_active(col=0, row=0) == False\n",
    "affected_cells.set_active(col=0, row=0)\n",
    "assert affected_cells.is_active(col=0, row=0) == True\n",
    "\n",
    "command = UpdateModelAffectedCellsCommand(\n",
    "  project_id=project_id,\n",
    "  affected_cells=affected_cells,\n",
    "  user_id=user_id\n",
    ")\n",
    "\n",
    "project_command_bus.dispatch(command)"
   ],
   "outputs": [],
   "execution_count": 8
  },
  {
   "cell_type": "code",
   "id": "181c8ad99124273c",
   "metadata": {
    "collapsed": false,
    "execution": {
     "iopub.execute_input": "2024-06-20T19:02:45.275405Z",
     "iopub.status.busy": "2024-06-20T19:02:45.275125Z",
     "iopub.status.idle": "2024-06-20T19:02:45.279422Z",
     "shell.execute_reply": "2024-06-20T19:02:45.279125Z"
    },
    "papermill": {
     "duration": 0.010067,
     "end_time": "2024-06-20T19:02:45.280441",
     "exception": false,
     "start_time": "2024-06-20T19:02:45.270374",
     "status": "completed"
    },
    "tags": [],
    "ExecuteTime": {
     "end_time": "2024-08-19T09:42:40.414547Z",
     "start_time": "2024-08-19T09:42:40.409820Z"
    }
   },
   "source": [
    "model_reader = ModelReader()\n",
    "model = model_reader.get_latest_model(project_id=project_id)\n",
    "affected_cells = model.spatial_discretization.affected_cells\n",
    "assert affected_cells.is_active(col=0, row=0) == True"
   ],
   "outputs": [],
   "execution_count": 9
  },
  {
   "cell_type": "markdown",
   "id": "accb680cfa47f091",
   "metadata": {
    "collapsed": false,
    "papermill": {
     "duration": 0.003994,
     "end_time": "2024-06-20T19:02:45.288597",
     "exception": false,
     "start_time": "2024-06-20T19:02:45.284603",
     "status": "completed"
    },
    "tags": []
   },
   "source": [
    "## Show Versions of Model so far"
   ]
  },
  {
   "cell_type": "code",
   "id": "cb4afb5b3dd54cea",
   "metadata": {
    "collapsed": false,
    "execution": {
     "iopub.execute_input": "2024-06-20T19:02:45.298095Z",
     "iopub.status.busy": "2024-06-20T19:02:45.297950Z",
     "iopub.status.idle": "2024-06-20T19:02:45.301385Z",
     "shell.execute_reply": "2024-06-20T19:02:45.301091Z"
    },
    "papermill": {
     "duration": 0.009682,
     "end_time": "2024-06-20T19:02:45.302441",
     "exception": false,
     "start_time": "2024-06-20T19:02:45.292759",
     "status": "completed"
    },
    "tags": [],
    "ExecuteTime": {
     "end_time": "2024-08-19T09:42:40.420819Z",
     "start_time": "2024-08-19T09:42:40.416702Z"
    }
   },
   "source": [
    "model_reader = ModelReader()\n",
    "model_reader.get_versions(project_id=project_id)"
   ],
   "outputs": [
    {
     "data": {
      "text/plain": [
       "[ModelVersion(version_id=VersionId(value='6d87eea7-7f84-43ee-9449-e567f59ee5d4'), tag=VersionTag(value='v0.0.0'), description=VersionDescription(value='Initial version'))]"
      ]
     },
     "execution_count": 10,
     "metadata": {},
     "output_type": "execute_result"
    }
   ],
   "execution_count": 10
  },
  {
   "cell_type": "markdown",
   "id": "c1e717aa2a462cbb",
   "metadata": {
    "collapsed": false,
    "papermill": {
     "duration": 0.003996,
     "end_time": "2024-06-20T19:02:45.310582",
     "exception": false,
     "start_time": "2024-06-20T19:02:45.306586",
     "status": "completed"
    },
    "tags": []
   },
   "source": [
    "## Tag Version"
   ]
  },
  {
   "cell_type": "code",
   "id": "f6001b161c3b63da",
   "metadata": {
    "collapsed": false,
    "execution": {
     "iopub.execute_input": "2024-06-20T19:02:45.319501Z",
     "iopub.status.busy": "2024-06-20T19:02:45.319356Z",
     "iopub.status.idle": "2024-06-20T19:02:45.333134Z",
     "shell.execute_reply": "2024-06-20T19:02:45.332635Z"
    },
    "papermill": {
     "duration": 0.020094,
     "end_time": "2024-06-20T19:02:45.334760",
     "exception": false,
     "start_time": "2024-06-20T19:02:45.314666",
     "status": "completed"
    },
    "tags": [],
    "ExecuteTime": {
     "end_time": "2024-08-19T09:42:40.434294Z",
     "start_time": "2024-08-19T09:42:40.421622Z"
    }
   },
   "source": [
    "from morpheus.project.application.write.Model.General import CreateModelVersionCommand\n",
    "from morpheus.project.types.ModelVersion import VersionTag, VersionDescription\n",
    "\n",
    "command = CreateModelVersionCommand(\n",
    "  project_id=project_id,\n",
    "  version_tag=VersionTag('v1.0.0'),\n",
    "  version_description=VersionDescription('Version 1.0.0'),\n",
    "  user_id=user_id\n",
    ")\n",
    "\n",
    "project_command_bus.dispatch(command)"
   ],
   "outputs": [],
   "execution_count": 11
  },
  {
   "cell_type": "code",
   "id": "91ce3ebddf8a88be",
   "metadata": {
    "collapsed": false,
    "execution": {
     "iopub.execute_input": "2024-06-20T19:02:45.344173Z",
     "iopub.status.busy": "2024-06-20T19:02:45.343892Z",
     "iopub.status.idle": "2024-06-20T19:02:45.347956Z",
     "shell.execute_reply": "2024-06-20T19:02:45.347629Z"
    },
    "papermill": {
     "duration": 0.009868,
     "end_time": "2024-06-20T19:02:45.348944",
     "exception": false,
     "start_time": "2024-06-20T19:02:45.339076",
     "status": "completed"
    },
    "tags": [],
    "ExecuteTime": {
     "end_time": "2024-08-19T09:42:40.438268Z",
     "start_time": "2024-08-19T09:42:40.435027Z"
    }
   },
   "source": [
    "model_reader.get_versions(project_id=project_id)"
   ],
   "outputs": [
    {
     "data": {
      "text/plain": [
       "[ModelVersion(version_id=VersionId(value='7e8e5e68-7e71-48c6-a95e-9c6cb7db19bf'), tag=VersionTag(value='v1.0.0'), description=VersionDescription(value='Version 1.0.0')),\n",
       " ModelVersion(version_id=VersionId(value='6d87eea7-7f84-43ee-9449-e567f59ee5d4'), tag=VersionTag(value='v0.0.0'), description=VersionDescription(value='Initial version'))]"
      ]
     },
     "execution_count": 12,
     "metadata": {},
     "output_type": "execute_result"
    }
   ],
   "execution_count": 12
  },
  {
   "cell_type": "code",
   "id": "98e0fcfb479f8ff8",
   "metadata": {
    "collapsed": false,
    "execution": {
     "iopub.execute_input": "2024-06-20T19:02:45.358204Z",
     "iopub.status.busy": "2024-06-20T19:02:45.357951Z",
     "iopub.status.idle": "2024-06-20T19:02:45.362221Z",
     "shell.execute_reply": "2024-06-20T19:02:45.361745Z"
    },
    "papermill": {
     "duration": 0.010892,
     "end_time": "2024-06-20T19:02:45.364095",
     "exception": false,
     "start_time": "2024-06-20T19:02:45.353203",
     "status": "completed"
    },
    "tags": [],
    "ExecuteTime": {
     "end_time": "2024-08-19T09:42:40.442442Z",
     "start_time": "2024-08-19T09:42:40.438873Z"
    }
   },
   "source": [
    "version = model_reader.get_version_by_tag(project_id=project_id, tag=VersionTag('v1.0.0'))\n",
    "version"
   ],
   "outputs": [
    {
     "data": {
      "text/plain": [
       "ModelVersion(version_id=VersionId(value='7e8e5e68-7e71-48c6-a95e-9c6cb7db19bf'), tag=VersionTag(value='v1.0.0'), description=VersionDescription(value='Version 1.0.0'))"
      ]
     },
     "execution_count": 13,
     "metadata": {},
     "output_type": "execute_result"
    }
   ],
   "execution_count": 13
  },
  {
   "cell_type": "code",
   "id": "d447991ac286684f",
   "metadata": {
    "collapsed": false,
    "execution": {
     "iopub.execute_input": "2024-06-20T19:02:45.375749Z",
     "iopub.status.busy": "2024-06-20T19:02:45.375568Z",
     "iopub.status.idle": "2024-06-20T19:02:45.381038Z",
     "shell.execute_reply": "2024-06-20T19:02:45.380743Z"
    },
    "papermill": {
     "duration": 0.011653,
     "end_time": "2024-06-20T19:02:45.382175",
     "exception": false,
     "start_time": "2024-06-20T19:02:45.370522",
     "status": "completed"
    },
    "tags": [],
    "ExecuteTime": {
     "end_time": "2024-08-19T09:42:40.450774Z",
     "start_time": "2024-08-19T09:42:40.443116Z"
    }
   },
   "source": [
    "from morpheus.project.application.write.Model.General import UpdateModelVersionDescriptionCommand\n",
    "\n",
    "command = UpdateModelVersionDescriptionCommand(\n",
    "  project_id=project_id,\n",
    "  version_id=version.version_id,\n",
    "  version_description=VersionDescription('Version 1.0.0 - Updated'),\n",
    "  user_id=user_id\n",
    ")\n",
    "\n",
    "project_command_bus.dispatch(command)"
   ],
   "outputs": [],
   "execution_count": 14
  },
  {
   "cell_type": "code",
   "id": "98bd0d67dcdef72c",
   "metadata": {
    "collapsed": false,
    "execution": {
     "iopub.execute_input": "2024-06-20T19:02:45.391509Z",
     "iopub.status.busy": "2024-06-20T19:02:45.391291Z",
     "iopub.status.idle": "2024-06-20T19:02:45.395032Z",
     "shell.execute_reply": "2024-06-20T19:02:45.394632Z"
    },
    "papermill": {
     "duration": 0.009807,
     "end_time": "2024-06-20T19:02:45.396271",
     "exception": false,
     "start_time": "2024-06-20T19:02:45.386464",
     "status": "completed"
    },
    "tags": [],
    "ExecuteTime": {
     "end_time": "2024-08-19T09:42:40.455933Z",
     "start_time": "2024-08-19T09:42:40.451718Z"
    }
   },
   "source": [
    "version = model_reader.get_version_by_tag(project_id=project_id, tag=VersionTag('v1.0.0'))\n",
    "version.description.to_str()"
   ],
   "outputs": [
    {
     "data": {
      "text/plain": [
       "'Version 1.0.0 - Updated'"
      ]
     },
     "execution_count": 15,
     "metadata": {},
     "output_type": "execute_result"
    }
   ],
   "execution_count": 15
  },
  {
   "cell_type": "markdown",
   "id": "d3450ee74861c27d",
   "metadata": {
    "papermill": {
     "duration": 0.004422,
     "end_time": "2024-06-20T19:02:45.405060",
     "exception": false,
     "start_time": "2024-06-20T19:02:45.400638",
     "status": "completed"
    },
    "tags": []
   },
   "source": [
    "# Add well boundary"
   ]
  },
  {
   "cell_type": "code",
   "id": "364435815cd6954f",
   "metadata": {
    "execution": {
     "iopub.execute_input": "2024-06-20T19:02:45.414303Z",
     "iopub.status.busy": "2024-06-20T19:02:45.414164Z",
     "iopub.status.idle": "2024-06-20T19:02:45.431849Z",
     "shell.execute_reply": "2024-06-20T19:02:45.431417Z"
    },
    "papermill": {
     "duration": 0.024292,
     "end_time": "2024-06-20T19:02:45.433590",
     "exception": false,
     "start_time": "2024-06-20T19:02:45.409298",
     "status": "completed"
    },
    "tags": [],
    "ExecuteTime": {
     "end_time": "2024-08-19T09:42:40.470809Z",
     "start_time": "2024-08-19T09:42:40.456517Z"
    }
   },
   "source": [
    "from morpheus.project.application.write.Model.Boundaries.AddModelBoundary import AddModelBoundaryCommandPayload, AddModelBoundaryCommand\n",
    "\n",
    "payload: AddModelBoundaryCommandPayload = {\n",
    "  'project_id': project_id.to_str(),\n",
    "  'model_id': model.model_id.to_str(),\n",
    "  'boundary_type': 'well',\n",
    "  'boundary_geometry': {\n",
    "    'type': 'Point',\n",
    "    'coordinates': [13.923, 50.965]\n",
    "  },\n",
    "}\n",
    "\n",
    "project_command_bus.dispatch(AddModelBoundaryCommand.from_payload(user_id=user_id, payload=payload))"
   ],
   "outputs": [],
   "execution_count": 16
  },
  {
   "cell_type": "markdown",
   "id": "14cbb28e7eba7481",
   "metadata": {
    "papermill": {
     "duration": 0.004254,
     "end_time": "2024-06-20T19:02:45.442156",
     "exception": false,
     "start_time": "2024-06-20T19:02:45.437902",
     "status": "completed"
    },
    "tags": []
   },
   "source": [
    "# Read Model Boundaries"
   ]
  },
  {
   "cell_type": "code",
   "id": "dde2c00f187dbc9c",
   "metadata": {
    "execution": {
     "iopub.execute_input": "2024-06-20T19:02:45.451726Z",
     "iopub.status.busy": "2024-06-20T19:02:45.451487Z",
     "iopub.status.idle": "2024-06-20T19:02:45.456973Z",
     "shell.execute_reply": "2024-06-20T19:02:45.456464Z"
    },
    "papermill": {
     "duration": 0.011549,
     "end_time": "2024-06-20T19:02:45.458041",
     "exception": false,
     "start_time": "2024-06-20T19:02:45.446492",
     "status": "completed"
    },
    "tags": [],
    "ExecuteTime": {
     "end_time": "2024-08-19T09:42:40.475651Z",
     "start_time": "2024-08-19T09:42:40.471607Z"
    }
   },
   "source": [
    "model = model_reader.get_latest_model(project_id=project_id)\n",
    "model.boundaries"
   ],
   "outputs": [
    {
     "data": {
      "text/plain": [
       "BoundaryCollection(boundaries=[WellBoundary(id=BoundaryId(value='2d02ceee-8a0e-4f7e-9339-a66f155d5743'), type=<BoundaryType.well: 'well'>, name=BoundaryName(value='new well boundary'), interpolation=<InterpolationType.forward_fill: 'forward_fill'>, tags=BoundaryTags(value=[]), geometry=Point(coordinates=[13.923, 50.965], type='Point'), affected_cells=ActiveCells(shape=[6, 11], data=[ActiveCell(col=3, row=5)]), affected_layers=[LayerId(value='3dca65da-8499-47dc-b606-ace15a901b7b')], observations=[WellObservation(observation_id=ObservationId(value='40ac9ea9-a3a0-4ddd-a3ef-6e2b5c0c36a4'), observation_name=ObservationName(value='Observation Point 1'), geometry=Point(coordinates=[13.923, 50.965], type='Point'), data=[WellObservationValue(date_time=StartDateTime(value=datetime.datetime(2020, 1, 1, 0, 0, tzinfo=datetime.timezone.utc)), pumping_rate=PumpingRate(value=0.0))])], enabled=True)])"
      ]
     },
     "execution_count": 17,
     "metadata": {},
     "output_type": "execute_result"
    }
   ],
   "execution_count": 17
  },
  {
   "cell_type": "markdown",
   "id": "23e3edd16ade53a",
   "metadata": {
    "papermill": {
     "duration": 0.004361,
     "end_time": "2024-06-20T19:02:45.466745",
     "exception": false,
     "start_time": "2024-06-20T19:02:45.462384",
     "status": "completed"
    },
    "tags": []
   },
   "source": [
    "# Remove Well Boundary"
   ]
  },
  {
   "cell_type": "code",
   "id": "1bae17b57bc0a1e0",
   "metadata": {
    "execution": {
     "iopub.execute_input": "2024-06-20T19:02:45.476408Z",
     "iopub.status.busy": "2024-06-20T19:02:45.476221Z",
     "iopub.status.idle": "2024-06-20T19:02:45.487173Z",
     "shell.execute_reply": "2024-06-20T19:02:45.486814Z"
    },
    "papermill": {
     "duration": 0.017478,
     "end_time": "2024-06-20T19:02:45.488602",
     "exception": false,
     "start_time": "2024-06-20T19:02:45.471124",
     "status": "completed"
    },
    "tags": [],
    "ExecuteTime": {
     "end_time": "2024-08-19T09:42:40.491188Z",
     "start_time": "2024-08-19T09:42:40.476300Z"
    }
   },
   "source": [
    "from morpheus.project.application.write.Model.Boundaries.RemoveModelBoundary import RemoveModelBoundaryCommandPayload, RemoveModelBoundaryCommand\n",
    "\n",
    "boundary_id = model.boundaries[0].id\n",
    "\n",
    "payload: RemoveModelBoundaryCommandPayload = {\n",
    "  'project_id': project_id.to_str(),\n",
    "  'model_id': model.model_id.to_str(),\n",
    "  'boundary_id': boundary_id.to_str(),\n",
    "}\n",
    "\n",
    "project_command_bus.dispatch(RemoveModelBoundaryCommand.from_payload(user_id=user_id, payload=payload))"
   ],
   "outputs": [],
   "execution_count": 18
  },
  {
   "cell_type": "code",
   "id": "db153e9460ab7bc6",
   "metadata": {
    "execution": {
     "iopub.execute_input": "2024-06-20T19:02:45.498449Z",
     "iopub.status.busy": "2024-06-20T19:02:45.498274Z",
     "iopub.status.idle": "2024-06-20T19:02:45.502726Z",
     "shell.execute_reply": "2024-06-20T19:02:45.502459Z"
    },
    "papermill": {
     "duration": 0.01064,
     "end_time": "2024-06-20T19:02:45.503792",
     "exception": false,
     "start_time": "2024-06-20T19:02:45.493152",
     "status": "completed"
    },
    "tags": [],
    "ExecuteTime": {
     "end_time": "2024-08-19T09:42:40.496946Z",
     "start_time": "2024-08-19T09:42:40.491845Z"
    }
   },
   "source": [
    "model = model_reader.get_latest_model(project_id=project_id)\n",
    "model.boundaries"
   ],
   "outputs": [
    {
     "data": {
      "text/plain": [
       "BoundaryCollection(boundaries=[])"
      ]
     },
     "execution_count": 19,
     "metadata": {},
     "output_type": "execute_result"
    }
   ],
   "execution_count": 19
  },
  {
   "cell_type": "code",
   "id": "dc20739afcda859d",
   "metadata": {
    "papermill": {
     "duration": 0.004469,
     "end_time": "2024-06-20T19:02:45.512636",
     "exception": false,
     "start_time": "2024-06-20T19:02:45.508167",
     "status": "completed"
    },
    "tags": [],
    "ExecuteTime": {
     "end_time": "2024-08-19T09:42:40.499201Z",
     "start_time": "2024-08-19T09:42:40.497837Z"
    }
   },
   "source": [],
   "outputs": [],
   "execution_count": 19
  }
 ],
 "metadata": {
  "kernelspec": {
   "display_name": "Python 3",
   "language": "python",
   "name": "python3"
  },
  "language_info": {
   "codemirror_mode": {
    "name": "ipython",
    "version": 3
   },
   "file_extension": ".py",
   "mimetype": "text/x-python",
   "name": "python",
   "nbconvert_exporter": "python",
   "pygments_lexer": "ipython3",
   "version": "3.12.2"
  },
  "papermill": {
   "default_parameters": {},
   "duration": 5.844633,
   "end_time": "2024-06-20T19:02:48.137523",
   "environment_variables": {},
   "exception": null,
   "input_path": "./notebooks/EventSourcingModel.ipynb",
   "output_path": "./notebooks/EventSourcingModel.ipynb",
   "parameters": {},
   "start_time": "2024-06-20T19:02:42.292890",
   "version": "2.6.0"
  }
 },
 "nbformat": 4,
 "nbformat_minor": 5
}
