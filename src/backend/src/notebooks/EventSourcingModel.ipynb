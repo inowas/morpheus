{
 "cells": [
  {
   "cell_type": "markdown",
   "id": "643f6c4207bbc0b0",
   "metadata": {
    "papermill": {
     "duration": 0.013015,
     "end_time": "2024-06-17T21:19:20.240324",
     "exception": false,
     "start_time": "2024-06-17T21:19:20.227309",
     "status": "completed"
    },
    "tags": []
   },
   "source": [
    "# Initialize Morpheus"
   ]
  },
  {
   "cell_type": "code",
   "execution_count": 1,
   "id": "9a429500dc402140",
   "metadata": {
    "ExecuteTime": {
     "end_time": "2024-06-17T20:53:14.831414Z",
     "start_time": "2024-06-17T20:53:13.229691Z"
    },
    "execution": {
     "iopub.execute_input": "2024-06-17T21:19:20.264290Z",
     "iopub.status.busy": "2024-06-17T21:19:20.263994Z",
     "iopub.status.idle": "2024-06-17T21:19:21.547179Z",
     "shell.execute_reply": "2024-06-17T21:19:21.546877Z"
    },
    "papermill": {
     "duration": 1.29504,
     "end_time": "2024-06-17T21:19:21.548232",
     "exception": false,
     "start_time": "2024-06-17T21:19:20.253192",
     "status": "completed"
    },
    "tags": []
   },
   "outputs": [],
   "source": [
    "from morpheus.project.application.write import project_command_bus"
   ]
  },
  {
   "cell_type": "markdown",
   "id": "740a87482c1f1624",
   "metadata": {
    "collapsed": false,
    "papermill": {
     "duration": 0.00224,
     "end_time": "2024-06-17T21:19:21.553120",
     "exception": false,
     "start_time": "2024-06-17T21:19:21.550880",
     "status": "completed"
    },
    "tags": []
   },
   "source": [
    "# Create a Project"
   ]
  },
  {
   "cell_type": "code",
   "execution_count": 2,
   "id": "932b4fe5bd839f2",
   "metadata": {
    "ExecuteTime": {
     "end_time": "2024-06-17T20:53:14.844897Z",
     "start_time": "2024-06-17T20:53:14.832385Z"
    },
    "collapsed": false,
    "execution": {
     "iopub.execute_input": "2024-06-17T21:19:21.558423Z",
     "iopub.status.busy": "2024-06-17T21:19:21.558147Z",
     "iopub.status.idle": "2024-06-17T21:19:21.566645Z",
     "shell.execute_reply": "2024-06-17T21:19:21.566414Z"
    },
    "papermill": {
     "duration": 0.012079,
     "end_time": "2024-06-17T21:19:21.567477",
     "exception": false,
     "start_time": "2024-06-17T21:19:21.555398",
     "status": "completed"
    },
    "tags": []
   },
   "outputs": [],
   "source": [
    "from morpheus.project.types.User import UserId\n",
    "from morpheus.project.types.Project import ProjectId, Name, Description, Tags\n",
    "\n",
    "user_id = UserId.new()\n",
    "project_id = ProjectId.new()\n",
    "name = Name.from_str('Project 1')\n",
    "description = Description.from_str('Description 1')\n",
    "tags = Tags.from_list(['tag1', 'tag2'])\n",
    "\n",
    "from morpheus.project.application.write.Project import CreateProjectCommand\n",
    "\n",
    "create_project_command = CreateProjectCommand(\n",
    "  project_id=project_id,\n",
    "  name=name,\n",
    "  description=description,\n",
    "  tags=tags,\n",
    "  user_id=user_id\n",
    ")\n",
    "\n",
    "project_command_bus.dispatch(create_project_command)"
   ]
  },
  {
   "cell_type": "markdown",
   "id": "9d52b120aa989d1f",
   "metadata": {
    "collapsed": false,
    "papermill": {
     "duration": 0.002336,
     "end_time": "2024-06-17T21:19:21.572347",
     "exception": false,
     "start_time": "2024-06-17T21:19:21.570011",
     "status": "completed"
    },
    "tags": []
   },
   "source": [
    "# Read ProjectList"
   ]
  },
  {
   "cell_type": "code",
   "execution_count": 3,
   "id": "56155ec2f19c768d",
   "metadata": {
    "ExecuteTime": {
     "end_time": "2024-06-17T20:53:14.852624Z",
     "start_time": "2024-06-17T20:53:14.845464Z"
    },
    "collapsed": false,
    "execution": {
     "iopub.execute_input": "2024-06-17T21:19:21.577818Z",
     "iopub.status.busy": "2024-06-17T21:19:21.577605Z",
     "iopub.status.idle": "2024-06-17T21:19:21.589568Z",
     "shell.execute_reply": "2024-06-17T21:19:21.589332Z"
    },
    "papermill": {
     "duration": 0.015726,
     "end_time": "2024-06-17T21:19:21.590421",
     "exception": false,
     "start_time": "2024-06-17T21:19:21.574695",
     "status": "completed"
    },
    "tags": []
   },
   "outputs": [
    {
     "data": {
      "text/plain": [
       "[ProjectSummary(project_id=ProjectId(value='8478ddf7-1c43-4aee-969e-af7dbdac18bc'), project_name=Name(value='Rio Primero 123'), project_description=Description(value='Rio Primero Project in Argentina'), project_tags=Tags(value=['rio primero', 'argentina']), owner_id=UserId(value='47e023c1-6939-480c-b47e-6bcae8442850'), visibility=<Visibility.PRIVATE: 'private'>, created_at=DateTime(value=datetime.datetime(2024, 5, 15, 17, 53, 42, 470799, tzinfo=datetime.timezone(datetime.timedelta(seconds=7200)))), updated_at=DateTime(value=datetime.datetime(2024, 5, 15, 17, 53, 42, 470799, tzinfo=datetime.timezone(datetime.timedelta(seconds=7200))))),\n",
       " ProjectSummary(project_id=ProjectId(value='e0166ed1-82ae-4f82-b154-9276aa81f1fa'), project_name=Name(value='Project 0'), project_description=Description(value='Description 0'), project_tags=Tags(value=['tag0', 'tag1']), owner_id=UserId(value='f31b40f5-309b-43f4-9f5a-fb9e5ba6ef40'), visibility=<Visibility.PRIVATE: 'private'>, created_at=DateTime(value=datetime.datetime(2024, 5, 15, 17, 54, 23, 911969, tzinfo=datetime.timezone(datetime.timedelta(seconds=7200)))), updated_at=DateTime(value=datetime.datetime(2024, 5, 15, 17, 54, 23, 911969, tzinfo=datetime.timezone(datetime.timedelta(seconds=7200))))),\n",
       " ProjectSummary(project_id=ProjectId(value='b27d541b-e183-4083-9071-8804fd5d1b25'), project_name=Name(value='Project 1'), project_description=Description(value='Description 1'), project_tags=Tags(value=['tag1', 'tag2']), owner_id=UserId(value='ae3762a8-2be7-4587-a474-b9eb057daa6c'), visibility=<Visibility.PRIVATE: 'private'>, created_at=DateTime(value=datetime.datetime(2024, 5, 15, 17, 54, 23, 915577, tzinfo=datetime.timezone(datetime.timedelta(seconds=7200)))), updated_at=DateTime(value=datetime.datetime(2024, 5, 15, 17, 54, 23, 915577, tzinfo=datetime.timezone(datetime.timedelta(seconds=7200))))),\n",
       " ProjectSummary(project_id=ProjectId(value='2ffca3ac-1fcc-4bd5-ac14-215f1a3da7a0'), project_name=Name(value='Project 2'), project_description=Description(value='Description 2'), project_tags=Tags(value=['tag2', 'tag3']), owner_id=UserId(value='bbab8b69-e886-45a1-bdda-e7f8580a0eab'), visibility=<Visibility.PRIVATE: 'private'>, created_at=DateTime(value=datetime.datetime(2024, 5, 15, 17, 54, 23, 918578, tzinfo=datetime.timezone(datetime.timedelta(seconds=7200)))), updated_at=DateTime(value=datetime.datetime(2024, 5, 15, 17, 54, 23, 918578, tzinfo=datetime.timezone(datetime.timedelta(seconds=7200))))),\n",
       " ProjectSummary(project_id=ProjectId(value='e5194429-1545-42f2-926c-08078c49cd0b'), project_name=Name(value='Project 3'), project_description=Description(value='Description 3'), project_tags=Tags(value=['tag3', 'tag4']), owner_id=UserId(value='505cc755-c867-458c-9328-c02486f3f2f4'), visibility=<Visibility.PRIVATE: 'private'>, created_at=DateTime(value=datetime.datetime(2024, 5, 15, 17, 54, 23, 920759, tzinfo=datetime.timezone(datetime.timedelta(seconds=7200)))), updated_at=DateTime(value=datetime.datetime(2024, 5, 15, 17, 54, 23, 920759, tzinfo=datetime.timezone(datetime.timedelta(seconds=7200))))),\n",
       " ProjectSummary(project_id=ProjectId(value='c08af565-d1c8-4679-927b-5de8f4e3aa00'), project_name=Name(value='Project 4'), project_description=Description(value='Description 4'), project_tags=Tags(value=['tag4', 'tag5']), owner_id=UserId(value='8829fc62-7743-43f7-9e12-6d83c1fc5859'), visibility=<Visibility.PRIVATE: 'private'>, created_at=DateTime(value=datetime.datetime(2024, 5, 15, 17, 54, 23, 922801, tzinfo=datetime.timezone(datetime.timedelta(seconds=7200)))), updated_at=DateTime(value=datetime.datetime(2024, 5, 15, 17, 54, 23, 922801, tzinfo=datetime.timezone(datetime.timedelta(seconds=7200))))),\n",
       " ProjectSummary(project_id=ProjectId(value='05c4a721-0b33-450a-85ff-1653b4864099'), project_name=Name(value='Project 5'), project_description=Description(value='Description 5'), project_tags=Tags(value=['tag5', 'tag6']), owner_id=UserId(value='0a8a0424-3681-466a-8278-1a5e84990def'), visibility=<Visibility.PRIVATE: 'private'>, created_at=DateTime(value=datetime.datetime(2024, 5, 15, 17, 54, 23, 924870, tzinfo=datetime.timezone(datetime.timedelta(seconds=7200)))), updated_at=DateTime(value=datetime.datetime(2024, 5, 15, 17, 54, 23, 924870, tzinfo=datetime.timezone(datetime.timedelta(seconds=7200))))),\n",
       " ProjectSummary(project_id=ProjectId(value='410442a3-a7b7-4748-8dc9-8d75ae41d0cd'), project_name=Name(value='Project 6'), project_description=Description(value='Description 6'), project_tags=Tags(value=['tag6', 'tag7']), owner_id=UserId(value='51d40249-878d-41e1-8dd0-cf6248824f99'), visibility=<Visibility.PRIVATE: 'private'>, created_at=DateTime(value=datetime.datetime(2024, 5, 15, 17, 54, 23, 927211, tzinfo=datetime.timezone(datetime.timedelta(seconds=7200)))), updated_at=DateTime(value=datetime.datetime(2024, 5, 15, 17, 54, 23, 927211, tzinfo=datetime.timezone(datetime.timedelta(seconds=7200))))),\n",
       " ProjectSummary(project_id=ProjectId(value='25212285-cc7e-4da7-a555-7a8dc2285ae7'), project_name=Name(value='Project 7'), project_description=Description(value='Description 7'), project_tags=Tags(value=['tag7', 'tag8']), owner_id=UserId(value='b9a74958-c135-4a2e-b349-34c92a6bf5c2'), visibility=<Visibility.PRIVATE: 'private'>, created_at=DateTime(value=datetime.datetime(2024, 5, 15, 17, 54, 23, 929731, tzinfo=datetime.timezone(datetime.timedelta(seconds=7200)))), updated_at=DateTime(value=datetime.datetime(2024, 5, 15, 17, 54, 23, 929731, tzinfo=datetime.timezone(datetime.timedelta(seconds=7200))))),\n",
       " ProjectSummary(project_id=ProjectId(value='f877bbc8-a10d-43d3-8f2f-0e05b52ad65c'), project_name=Name(value='Project 8'), project_description=Description(value='Description 8'), project_tags=Tags(value=['tag8', 'tag9']), owner_id=UserId(value='49ab3134-6af8-4b54-9496-3bb4308d2bcc'), visibility=<Visibility.PRIVATE: 'private'>, created_at=DateTime(value=datetime.datetime(2024, 5, 15, 17, 54, 23, 932228, tzinfo=datetime.timezone(datetime.timedelta(seconds=7200)))), updated_at=DateTime(value=datetime.datetime(2024, 5, 15, 17, 54, 23, 932228, tzinfo=datetime.timezone(datetime.timedelta(seconds=7200))))),\n",
       " ProjectSummary(project_id=ProjectId(value='5f62697c-8ad7-4749-8442-211c3e9dd64b'), project_name=Name(value='Project 9'), project_description=Description(value='Description 9'), project_tags=Tags(value=['tag9', 'tag10']), owner_id=UserId(value='2efdf859-dab5-4d5b-b134-27acca0db808'), visibility=<Visibility.PRIVATE: 'private'>, created_at=DateTime(value=datetime.datetime(2024, 5, 15, 17, 54, 23, 934704, tzinfo=datetime.timezone(datetime.timedelta(seconds=7200)))), updated_at=DateTime(value=datetime.datetime(2024, 5, 15, 17, 54, 23, 934704, tzinfo=datetime.timezone(datetime.timedelta(seconds=7200))))),\n",
       " ProjectSummary(project_id=ProjectId(value='b88a50eb-2ffc-4142-9dbf-7324ff5a0930'), project_name=Name(value='Project 1'), project_description=Description(value='Description 1'), project_tags=Tags(value=['tag1', 'tag2']), owner_id=UserId(value='1f59f357-4193-4b4a-8b9d-e895f3d5902c'), visibility=<Visibility.PRIVATE: 'private'>, created_at=DateTime(value=datetime.datetime(2024, 5, 15, 17, 54, 32, 283133, tzinfo=datetime.timezone(datetime.timedelta(seconds=7200)))), updated_at=DateTime(value=datetime.datetime(2024, 5, 15, 17, 54, 32, 283133, tzinfo=datetime.timezone(datetime.timedelta(seconds=7200))))),\n",
       " ProjectSummary(project_id=ProjectId(value='60610a3c-89f8-459d-aef4-8b415c51d216'), project_name=Name(value='Rio Primero 123'), project_description=Description(value='Rio Primero Project in Argentina'), project_tags=Tags(value=['rio primero', 'argentina']), owner_id=UserId(value='b1fb08b7-0c14-4b0a-aced-03f37e9696e9'), visibility=<Visibility.PRIVATE: 'private'>, created_at=DateTime(value=datetime.datetime(2024, 5, 15, 17, 55, 38, 175894, tzinfo=datetime.timezone(datetime.timedelta(seconds=7200)))), updated_at=DateTime(value=datetime.datetime(2024, 5, 15, 17, 55, 38, 175894, tzinfo=datetime.timezone(datetime.timedelta(seconds=7200))))),\n",
       " ProjectSummary(project_id=ProjectId(value='2f86c914-3848-4c4d-8893-c94777901be4'), project_name=Name(value='Project 0'), project_description=Description(value='Description 0'), project_tags=Tags(value=['tag0', 'tag1']), owner_id=UserId(value='baef60c8-e9b1-4681-ac00-d2feca78fc84'), visibility=<Visibility.PRIVATE: 'private'>, created_at=DateTime(value=datetime.datetime(2024, 5, 15, 17, 56, 19, 510356, tzinfo=datetime.timezone(datetime.timedelta(seconds=7200)))), updated_at=DateTime(value=datetime.datetime(2024, 5, 15, 17, 56, 19, 510356, tzinfo=datetime.timezone(datetime.timedelta(seconds=7200))))),\n",
       " ProjectSummary(project_id=ProjectId(value='15627578-1ebb-47da-9701-0a538aa892f7'), project_name=Name(value='Project 1'), project_description=Description(value='Description 1'), project_tags=Tags(value=['tag1', 'tag2']), owner_id=UserId(value='2686e5de-f309-4d98-a539-5c99cb4f92ab'), visibility=<Visibility.PRIVATE: 'private'>, created_at=DateTime(value=datetime.datetime(2024, 5, 15, 17, 56, 19, 537236, tzinfo=datetime.timezone(datetime.timedelta(seconds=7200)))), updated_at=DateTime(value=datetime.datetime(2024, 5, 15, 17, 56, 19, 537236, tzinfo=datetime.timezone(datetime.timedelta(seconds=7200))))),\n",
       " ProjectSummary(project_id=ProjectId(value='ec8bd73a-45c7-4d81-a338-228525e71357'), project_name=Name(value='Project 2'), project_description=Description(value='Description 2'), project_tags=Tags(value=['tag2', 'tag3']), owner_id=UserId(value='ce3d36c8-d9a1-4320-8601-960013cd74cd'), visibility=<Visibility.PRIVATE: 'private'>, created_at=DateTime(value=datetime.datetime(2024, 5, 15, 17, 56, 19, 543790, tzinfo=datetime.timezone(datetime.timedelta(seconds=7200)))), updated_at=DateTime(value=datetime.datetime(2024, 5, 15, 17, 56, 19, 543790, tzinfo=datetime.timezone(datetime.timedelta(seconds=7200))))),\n",
       " ProjectSummary(project_id=ProjectId(value='9ab27c4b-9c40-4068-b466-86c0a00ec256'), project_name=Name(value='Project 3'), project_description=Description(value='Description 3'), project_tags=Tags(value=['tag3', 'tag4']), owner_id=UserId(value='0fa5fc7f-9fb9-41f9-a672-e211f86e9444'), visibility=<Visibility.PRIVATE: 'private'>, created_at=DateTime(value=datetime.datetime(2024, 5, 15, 17, 56, 19, 554565, tzinfo=datetime.timezone(datetime.timedelta(seconds=7200)))), updated_at=DateTime(value=datetime.datetime(2024, 5, 15, 17, 56, 19, 554565, tzinfo=datetime.timezone(datetime.timedelta(seconds=7200))))),\n",
       " ProjectSummary(project_id=ProjectId(value='8095e4a4-27f5-4ec5-835a-164af8d93ba5'), project_name=Name(value='Project 4'), project_description=Description(value='Description 4'), project_tags=Tags(value=['tag4', 'tag5']), owner_id=UserId(value='d004f0a3-e1bd-4174-aa07-bbe8f8caa86c'), visibility=<Visibility.PRIVATE: 'private'>, created_at=DateTime(value=datetime.datetime(2024, 5, 15, 17, 56, 19, 559495, tzinfo=datetime.timezone(datetime.timedelta(seconds=7200)))), updated_at=DateTime(value=datetime.datetime(2024, 5, 15, 17, 56, 19, 559495, tzinfo=datetime.timezone(datetime.timedelta(seconds=7200))))),\n",
       " ProjectSummary(project_id=ProjectId(value='b4260bd7-1dad-4375-a8b3-97c87c13ecd8'), project_name=Name(value='Project 5'), project_description=Description(value='Description 5'), project_tags=Tags(value=['tag5', 'tag6']), owner_id=UserId(value='8808730d-abca-427d-99d0-aa409be7c8ae'), visibility=<Visibility.PRIVATE: 'private'>, created_at=DateTime(value=datetime.datetime(2024, 5, 15, 17, 56, 19, 565730, tzinfo=datetime.timezone(datetime.timedelta(seconds=7200)))), updated_at=DateTime(value=datetime.datetime(2024, 5, 15, 17, 56, 19, 565730, tzinfo=datetime.timezone(datetime.timedelta(seconds=7200))))),\n",
       " ProjectSummary(project_id=ProjectId(value='e0ae141e-2447-4daa-930e-cbaa48c27621'), project_name=Name(value='Project 6'), project_description=Description(value='Description 6'), project_tags=Tags(value=['tag6', 'tag7']), owner_id=UserId(value='19245430-5592-4988-9839-efec0852c454'), visibility=<Visibility.PRIVATE: 'private'>, created_at=DateTime(value=datetime.datetime(2024, 5, 15, 17, 56, 19, 571179, tzinfo=datetime.timezone(datetime.timedelta(seconds=7200)))), updated_at=DateTime(value=datetime.datetime(2024, 5, 15, 17, 56, 19, 571179, tzinfo=datetime.timezone(datetime.timedelta(seconds=7200))))),\n",
       " ProjectSummary(project_id=ProjectId(value='0f981386-5ee0-43e4-b000-b44004705616'), project_name=Name(value='Project 7'), project_description=Description(value='Description 7'), project_tags=Tags(value=['tag7', 'tag8']), owner_id=UserId(value='c8d07a14-97cf-47ce-bc58-aeb72f1ef947'), visibility=<Visibility.PRIVATE: 'private'>, created_at=DateTime(value=datetime.datetime(2024, 5, 15, 17, 56, 19, 577151, tzinfo=datetime.timezone(datetime.timedelta(seconds=7200)))), updated_at=DateTime(value=datetime.datetime(2024, 5, 15, 17, 56, 19, 577151, tzinfo=datetime.timezone(datetime.timedelta(seconds=7200))))),\n",
       " ProjectSummary(project_id=ProjectId(value='9bc4e70f-b084-4b74-8da0-8c493ab45371'), project_name=Name(value='Project 8'), project_description=Description(value='Description 8'), project_tags=Tags(value=['tag8', 'tag9']), owner_id=UserId(value='4a191c83-2d87-4186-b788-f39253275861'), visibility=<Visibility.PRIVATE: 'private'>, created_at=DateTime(value=datetime.datetime(2024, 5, 15, 17, 56, 19, 586233, tzinfo=datetime.timezone(datetime.timedelta(seconds=7200)))), updated_at=DateTime(value=datetime.datetime(2024, 5, 15, 17, 56, 19, 586233, tzinfo=datetime.timezone(datetime.timedelta(seconds=7200))))),\n",
       " ProjectSummary(project_id=ProjectId(value='37d7f4e7-cdcd-4c9f-afb3-d12fa9348b6a'), project_name=Name(value='Project 9'), project_description=Description(value='Description 9'), project_tags=Tags(value=['tag9', 'tag10']), owner_id=UserId(value='54953a06-bba2-4194-93be-26b1074d8097'), visibility=<Visibility.PRIVATE: 'private'>, created_at=DateTime(value=datetime.datetime(2024, 5, 15, 17, 56, 19, 598941, tzinfo=datetime.timezone(datetime.timedelta(seconds=7200)))), updated_at=DateTime(value=datetime.datetime(2024, 5, 15, 17, 56, 19, 598941, tzinfo=datetime.timezone(datetime.timedelta(seconds=7200))))),\n",
       " ProjectSummary(project_id=ProjectId(value='cdb89c26-ad0a-4ec6-9888-dc8423665a9c'), project_name=Name(value='Project 1'), project_description=Description(value='Description 1'), project_tags=Tags(value=['tag1', 'tag2']), owner_id=UserId(value='080cde7d-c77c-4546-a489-c3ac1a994c8b'), visibility=<Visibility.PRIVATE: 'private'>, created_at=DateTime(value=datetime.datetime(2024, 5, 15, 17, 56, 26, 916804, tzinfo=datetime.timezone(datetime.timedelta(seconds=7200)))), updated_at=DateTime(value=datetime.datetime(2024, 5, 15, 17, 56, 26, 916804, tzinfo=datetime.timezone(datetime.timedelta(seconds=7200))))),\n",
       " ProjectSummary(project_id=ProjectId(value='cf110691-5bb0-4975-873f-1365cf750a5b'), project_name=Name(value='Rio Primero 123'), project_description=Description(value='Rio Primero Project in Argentina'), project_tags=Tags(value=['rio primero', 'argentina']), owner_id=UserId(value='c943df61-4ce2-44e7-9d75-b912c045f11e'), visibility=<Visibility.PRIVATE: 'private'>, created_at=DateTime(value=datetime.datetime(2024, 5, 15, 18, 0, 4, 969203, tzinfo=datetime.timezone(datetime.timedelta(seconds=7200)))), updated_at=DateTime(value=datetime.datetime(2024, 5, 15, 18, 0, 4, 969203, tzinfo=datetime.timezone(datetime.timedelta(seconds=7200))))),\n",
       " ProjectSummary(project_id=ProjectId(value='41930a8c-6243-4acf-88d5-2918c57657b5'), project_name=Name(value='Project 0'), project_description=Description(value='Description 0'), project_tags=Tags(value=['tag0', 'tag1']), owner_id=UserId(value='c6919eab-81fe-4671-a662-480622bcec5e'), visibility=<Visibility.PRIVATE: 'private'>, created_at=DateTime(value=datetime.datetime(2024, 5, 15, 18, 0, 48, 474322, tzinfo=datetime.timezone(datetime.timedelta(seconds=7200)))), updated_at=DateTime(value=datetime.datetime(2024, 5, 15, 18, 0, 48, 474322, tzinfo=datetime.timezone(datetime.timedelta(seconds=7200))))),\n",
       " ProjectSummary(project_id=ProjectId(value='dce2b428-d81a-4b3b-bfde-bee8c0a53ded'), project_name=Name(value='Project 1'), project_description=Description(value='Description 1'), project_tags=Tags(value=['tag1', 'tag2']), owner_id=UserId(value='f9970ecf-45a1-45f9-a2f8-224f1f7c303b'), visibility=<Visibility.PRIVATE: 'private'>, created_at=DateTime(value=datetime.datetime(2024, 5, 15, 18, 0, 48, 480167, tzinfo=datetime.timezone(datetime.timedelta(seconds=7200)))), updated_at=DateTime(value=datetime.datetime(2024, 5, 15, 18, 0, 48, 480167, tzinfo=datetime.timezone(datetime.timedelta(seconds=7200))))),\n",
       " ProjectSummary(project_id=ProjectId(value='9473abcb-94b8-41b8-af16-941334d6efdb'), project_name=Name(value='Project 2'), project_description=Description(value='Description 2'), project_tags=Tags(value=['tag2', 'tag3']), owner_id=UserId(value='dbad63f1-7e1b-41d3-a287-0af8db4b4bd2'), visibility=<Visibility.PRIVATE: 'private'>, created_at=DateTime(value=datetime.datetime(2024, 5, 15, 18, 0, 48, 482502, tzinfo=datetime.timezone(datetime.timedelta(seconds=7200)))), updated_at=DateTime(value=datetime.datetime(2024, 5, 15, 18, 0, 48, 482502, tzinfo=datetime.timezone(datetime.timedelta(seconds=7200))))),\n",
       " ProjectSummary(project_id=ProjectId(value='2524cdc8-c285-4646-a2ea-97795e98f18e'), project_name=Name(value='Project 3'), project_description=Description(value='Description 3'), project_tags=Tags(value=['tag3', 'tag4']), owner_id=UserId(value='54afc36e-43af-426a-9d5d-c62aa0016345'), visibility=<Visibility.PRIVATE: 'private'>, created_at=DateTime(value=datetime.datetime(2024, 5, 15, 18, 0, 48, 484784, tzinfo=datetime.timezone(datetime.timedelta(seconds=7200)))), updated_at=DateTime(value=datetime.datetime(2024, 5, 15, 18, 0, 48, 484784, tzinfo=datetime.timezone(datetime.timedelta(seconds=7200))))),\n",
       " ProjectSummary(project_id=ProjectId(value='abd7ef98-2bb8-4322-832d-74b271045705'), project_name=Name(value='Project 4'), project_description=Description(value='Description 4'), project_tags=Tags(value=['tag4', 'tag5']), owner_id=UserId(value='13c26a58-8416-4f26-9dfb-c759327bdf3c'), visibility=<Visibility.PRIVATE: 'private'>, created_at=DateTime(value=datetime.datetime(2024, 5, 15, 18, 0, 48, 486981, tzinfo=datetime.timezone(datetime.timedelta(seconds=7200)))), updated_at=DateTime(value=datetime.datetime(2024, 5, 15, 18, 0, 48, 486981, tzinfo=datetime.timezone(datetime.timedelta(seconds=7200))))),\n",
       " ProjectSummary(project_id=ProjectId(value='b284652a-593f-4381-b534-a97cf70af02b'), project_name=Name(value='Project 5'), project_description=Description(value='Description 5'), project_tags=Tags(value=['tag5', 'tag6']), owner_id=UserId(value='eecb588f-216a-4a0f-aee2-0bc71edee7cf'), visibility=<Visibility.PRIVATE: 'private'>, created_at=DateTime(value=datetime.datetime(2024, 5, 15, 18, 0, 48, 489649, tzinfo=datetime.timezone(datetime.timedelta(seconds=7200)))), updated_at=DateTime(value=datetime.datetime(2024, 5, 15, 18, 0, 48, 489649, tzinfo=datetime.timezone(datetime.timedelta(seconds=7200))))),\n",
       " ProjectSummary(project_id=ProjectId(value='048146e7-0973-4876-ab69-c572dc5adbf3'), project_name=Name(value='Project 6'), project_description=Description(value='Description 6'), project_tags=Tags(value=['tag6', 'tag7']), owner_id=UserId(value='c111e8b2-7d05-4afb-9d99-2fbb9eb568dd'), visibility=<Visibility.PRIVATE: 'private'>, created_at=DateTime(value=datetime.datetime(2024, 5, 15, 18, 0, 48, 492217, tzinfo=datetime.timezone(datetime.timedelta(seconds=7200)))), updated_at=DateTime(value=datetime.datetime(2024, 5, 15, 18, 0, 48, 492217, tzinfo=datetime.timezone(datetime.timedelta(seconds=7200))))),\n",
       " ProjectSummary(project_id=ProjectId(value='adccb6ce-2f80-435c-a4e5-ea7ebb4bf36c'), project_name=Name(value='Project 7'), project_description=Description(value='Description 7'), project_tags=Tags(value=['tag7', 'tag8']), owner_id=UserId(value='5857e08c-a82d-43b2-83f9-2844d1b0ef48'), visibility=<Visibility.PRIVATE: 'private'>, created_at=DateTime(value=datetime.datetime(2024, 5, 15, 18, 0, 48, 494904, tzinfo=datetime.timezone(datetime.timedelta(seconds=7200)))), updated_at=DateTime(value=datetime.datetime(2024, 5, 15, 18, 0, 48, 494904, tzinfo=datetime.timezone(datetime.timedelta(seconds=7200))))),\n",
       " ProjectSummary(project_id=ProjectId(value='82cbdc52-1f69-4011-8dd2-1dc6655482cb'), project_name=Name(value='Project 8'), project_description=Description(value='Description 8'), project_tags=Tags(value=['tag8', 'tag9']), owner_id=UserId(value='f4dc9753-5647-4b94-8005-30815721ed07'), visibility=<Visibility.PRIVATE: 'private'>, created_at=DateTime(value=datetime.datetime(2024, 5, 15, 18, 0, 48, 497602, tzinfo=datetime.timezone(datetime.timedelta(seconds=7200)))), updated_at=DateTime(value=datetime.datetime(2024, 5, 15, 18, 0, 48, 497602, tzinfo=datetime.timezone(datetime.timedelta(seconds=7200))))),\n",
       " ProjectSummary(project_id=ProjectId(value='b2913fac-5b01-46d6-959c-6670b390c318'), project_name=Name(value='Project 9'), project_description=Description(value='Description 9'), project_tags=Tags(value=['tag9', 'tag10']), owner_id=UserId(value='e2cc8c5c-3c47-4472-aa25-d36e25cf757d'), visibility=<Visibility.PRIVATE: 'private'>, created_at=DateTime(value=datetime.datetime(2024, 5, 15, 18, 0, 48, 500174, tzinfo=datetime.timezone(datetime.timedelta(seconds=7200)))), updated_at=DateTime(value=datetime.datetime(2024, 5, 15, 18, 0, 48, 500174, tzinfo=datetime.timezone(datetime.timedelta(seconds=7200))))),\n",
       " ProjectSummary(project_id=ProjectId(value='d28ad2a5-f722-4c85-9b96-1f8d9497a7f1'), project_name=Name(value='Project 1'), project_description=Description(value='Description 1'), project_tags=Tags(value=['tag1', 'tag2']), owner_id=UserId(value='55ac2dcc-b640-4a04-9155-775b72a53453'), visibility=<Visibility.PRIVATE: 'private'>, created_at=DateTime(value=datetime.datetime(2024, 5, 15, 18, 0, 56, 91556, tzinfo=datetime.timezone(datetime.timedelta(seconds=7200)))), updated_at=DateTime(value=datetime.datetime(2024, 5, 15, 18, 0, 56, 91556, tzinfo=datetime.timezone(datetime.timedelta(seconds=7200))))),\n",
       " ProjectSummary(project_id=ProjectId(value='cc34afc0-4e02-47c1-8229-6426ee08c0f3'), project_name=Name(value='Rio Primero'), project_description=Description(value=''), project_tags=Tags(value=[]), owner_id=UserId(value='40c8daab-adb3-4d10-9ad9-12224a7a3ef2'), visibility=<Visibility.PRIVATE: 'private'>, created_at=DateTime(value=datetime.datetime(2024, 5, 15, 21, 54, 0, 394092, tzinfo=datetime.timezone(datetime.timedelta(seconds=7200)))), updated_at=DateTime(value=datetime.datetime(2024, 5, 15, 21, 54, 0, 394092, tzinfo=datetime.timezone(datetime.timedelta(seconds=7200))))),\n",
       " ProjectSummary(project_id=ProjectId(value='20c2b20e-5379-4600-a1bb-01778ec02eb7'), project_name=Name(value='Rio Primero 123'), project_description=Description(value='Rio Primero Project in Argentina'), project_tags=Tags(value=['rio primero', 'argentina']), owner_id=UserId(value='8db35ae8-370b-4e6b-ab36-2f3572c5fc21'), visibility=<Visibility.PRIVATE: 'private'>, created_at=DateTime(value=datetime.datetime(2024, 5, 30, 14, 11, 24, 922848, tzinfo=datetime.timezone(datetime.timedelta(seconds=7200)))), updated_at=DateTime(value=datetime.datetime(2024, 5, 30, 14, 11, 24, 922848, tzinfo=datetime.timezone(datetime.timedelta(seconds=7200))))),\n",
       " ProjectSummary(project_id=ProjectId(value='0864fc94-577d-4b16-968f-d13260163eea'), project_name=Name(value='Project 0'), project_description=Description(value='Description 0'), project_tags=Tags(value=['tag0', 'tag1']), owner_id=UserId(value='53ad6cef-cf0c-4eff-9281-ce4e02cc8496'), visibility=<Visibility.PRIVATE: 'private'>, created_at=DateTime(value=datetime.datetime(2024, 5, 30, 14, 12, 4, 568538, tzinfo=datetime.timezone(datetime.timedelta(seconds=7200)))), updated_at=DateTime(value=datetime.datetime(2024, 5, 30, 14, 12, 4, 568538, tzinfo=datetime.timezone(datetime.timedelta(seconds=7200))))),\n",
       " ProjectSummary(project_id=ProjectId(value='e12a71a1-c0ff-41ab-b051-481b0e697b8e'), project_name=Name(value='Project 1'), project_description=Description(value='Description 1'), project_tags=Tags(value=['tag1', 'tag2']), owner_id=UserId(value='f6d44e54-ce43-4606-8137-0260dd2688ce'), visibility=<Visibility.PRIVATE: 'private'>, created_at=DateTime(value=datetime.datetime(2024, 5, 30, 14, 12, 4, 572663, tzinfo=datetime.timezone(datetime.timedelta(seconds=7200)))), updated_at=DateTime(value=datetime.datetime(2024, 5, 30, 14, 12, 4, 572663, tzinfo=datetime.timezone(datetime.timedelta(seconds=7200))))),\n",
       " ProjectSummary(project_id=ProjectId(value='e9ce2ca1-e686-4210-8460-aa53719d3b16'), project_name=Name(value='Project 2'), project_description=Description(value='Description 2'), project_tags=Tags(value=['tag2', 'tag3']), owner_id=UserId(value='48affc9f-a97d-4f87-87fb-17c425debf78'), visibility=<Visibility.PRIVATE: 'private'>, created_at=DateTime(value=datetime.datetime(2024, 5, 30, 14, 12, 4, 575180, tzinfo=datetime.timezone(datetime.timedelta(seconds=7200)))), updated_at=DateTime(value=datetime.datetime(2024, 5, 30, 14, 12, 4, 575180, tzinfo=datetime.timezone(datetime.timedelta(seconds=7200))))),\n",
       " ProjectSummary(project_id=ProjectId(value='43129272-e07c-4c75-8b83-fa65a35e4405'), project_name=Name(value='Project 3'), project_description=Description(value='Description 3'), project_tags=Tags(value=['tag3', 'tag4']), owner_id=UserId(value='89fd4f4b-ebcf-4cde-8128-970870dc0049'), visibility=<Visibility.PRIVATE: 'private'>, created_at=DateTime(value=datetime.datetime(2024, 5, 30, 14, 12, 4, 577603, tzinfo=datetime.timezone(datetime.timedelta(seconds=7200)))), updated_at=DateTime(value=datetime.datetime(2024, 5, 30, 14, 12, 4, 577603, tzinfo=datetime.timezone(datetime.timedelta(seconds=7200))))),\n",
       " ProjectSummary(project_id=ProjectId(value='35521cd9-5f7e-48e9-9ff1-49ec35541b02'), project_name=Name(value='Project 4'), project_description=Description(value='Description 4'), project_tags=Tags(value=['tag4', 'tag5']), owner_id=UserId(value='0b8b0044-8735-423b-8866-d2ef8dff17e6'), visibility=<Visibility.PRIVATE: 'private'>, created_at=DateTime(value=datetime.datetime(2024, 5, 30, 14, 12, 4, 580154, tzinfo=datetime.timezone(datetime.timedelta(seconds=7200)))), updated_at=DateTime(value=datetime.datetime(2024, 5, 30, 14, 12, 4, 580154, tzinfo=datetime.timezone(datetime.timedelta(seconds=7200))))),\n",
       " ProjectSummary(project_id=ProjectId(value='b3e0205e-9f48-4ee0-a548-44d989ef9478'), project_name=Name(value='Project 5'), project_description=Description(value='Description 5'), project_tags=Tags(value=['tag5', 'tag6']), owner_id=UserId(value='c98f161f-ca64-48d9-a0aa-07e0135d7a9a'), visibility=<Visibility.PRIVATE: 'private'>, created_at=DateTime(value=datetime.datetime(2024, 5, 30, 14, 12, 4, 582737, tzinfo=datetime.timezone(datetime.timedelta(seconds=7200)))), updated_at=DateTime(value=datetime.datetime(2024, 5, 30, 14, 12, 4, 582737, tzinfo=datetime.timezone(datetime.timedelta(seconds=7200))))),\n",
       " ProjectSummary(project_id=ProjectId(value='629f3363-29b1-4f2f-88b0-44b8b29b6361'), project_name=Name(value='Project 6'), project_description=Description(value='Description 6'), project_tags=Tags(value=['tag6', 'tag7']), owner_id=UserId(value='71eba383-f02f-4500-85dc-158b645eb64a'), visibility=<Visibility.PRIVATE: 'private'>, created_at=DateTime(value=datetime.datetime(2024, 5, 30, 14, 12, 4, 585280, tzinfo=datetime.timezone(datetime.timedelta(seconds=7200)))), updated_at=DateTime(value=datetime.datetime(2024, 5, 30, 14, 12, 4, 585280, tzinfo=datetime.timezone(datetime.timedelta(seconds=7200))))),\n",
       " ProjectSummary(project_id=ProjectId(value='3a1e620d-4f9b-4d3f-89fe-04f739583bc2'), project_name=Name(value='Project 7'), project_description=Description(value='Description 7'), project_tags=Tags(value=['tag7', 'tag8']), owner_id=UserId(value='f27f9720-579c-4af4-84e2-b1fc2515758a'), visibility=<Visibility.PRIVATE: 'private'>, created_at=DateTime(value=datetime.datetime(2024, 5, 30, 14, 12, 4, 587970, tzinfo=datetime.timezone(datetime.timedelta(seconds=7200)))), updated_at=DateTime(value=datetime.datetime(2024, 5, 30, 14, 12, 4, 587970, tzinfo=datetime.timezone(datetime.timedelta(seconds=7200))))),\n",
       " ProjectSummary(project_id=ProjectId(value='e888f5b7-a6f9-48f4-ac04-d4b618c5c3a1'), project_name=Name(value='Project 8'), project_description=Description(value='Description 8'), project_tags=Tags(value=['tag8', 'tag9']), owner_id=UserId(value='1091707d-4fc3-4d97-995a-229fb16465a2'), visibility=<Visibility.PRIVATE: 'private'>, created_at=DateTime(value=datetime.datetime(2024, 5, 30, 14, 12, 4, 590719, tzinfo=datetime.timezone(datetime.timedelta(seconds=7200)))), updated_at=DateTime(value=datetime.datetime(2024, 5, 30, 14, 12, 4, 590719, tzinfo=datetime.timezone(datetime.timedelta(seconds=7200))))),\n",
       " ProjectSummary(project_id=ProjectId(value='5c3be0c6-ca97-40b6-8e6e-af9712c75d66'), project_name=Name(value='Project 9'), project_description=Description(value='Description 9'), project_tags=Tags(value=['tag9', 'tag10']), owner_id=UserId(value='b2f82cb2-1f07-49b7-9067-ad0949dadbab'), visibility=<Visibility.PRIVATE: 'private'>, created_at=DateTime(value=datetime.datetime(2024, 5, 30, 14, 12, 4, 593475, tzinfo=datetime.timezone(datetime.timedelta(seconds=7200)))), updated_at=DateTime(value=datetime.datetime(2024, 5, 30, 14, 12, 4, 593475, tzinfo=datetime.timezone(datetime.timedelta(seconds=7200))))),\n",
       " ProjectSummary(project_id=ProjectId(value='f5e6c26c-63d7-4d2c-9705-6adc01980fc8'), project_name=Name(value='Project 1'), project_description=Description(value='Description 1'), project_tags=Tags(value=['tag1', 'tag2']), owner_id=UserId(value='dc79fd0e-84eb-4eb6-9757-721086cca77c'), visibility=<Visibility.PRIVATE: 'private'>, created_at=DateTime(value=datetime.datetime(2024, 5, 30, 14, 12, 11, 816179, tzinfo=datetime.timezone(datetime.timedelta(seconds=7200)))), updated_at=DateTime(value=datetime.datetime(2024, 5, 30, 14, 12, 11, 816179, tzinfo=datetime.timezone(datetime.timedelta(seconds=7200))))),\n",
       " ProjectSummary(project_id=ProjectId(value='5be6f8ee-d2ac-4f4b-b0e3-49815f8603ad'), project_name=Name(value='Rio Primero 123'), project_description=Description(value='Rio Primero Project in Argentina'), project_tags=Tags(value=['rio primero', 'argentina']), owner_id=UserId(value='abca29e3-e710-43cf-ae5c-3a5d03d99802'), visibility=<Visibility.PRIVATE: 'private'>, created_at=DateTime(value=datetime.datetime(2024, 5, 30, 14, 33, 59, 485364, tzinfo=datetime.timezone(datetime.timedelta(seconds=7200)))), updated_at=DateTime(value=datetime.datetime(2024, 5, 30, 14, 33, 59, 485364, tzinfo=datetime.timezone(datetime.timedelta(seconds=7200))))),\n",
       " ProjectSummary(project_id=ProjectId(value='824c69b5-6466-4341-b475-0258471ebf61'), project_name=Name(value='Project 0'), project_description=Description(value='Description 0'), project_tags=Tags(value=['tag0', 'tag1']), owner_id=UserId(value='42adc499-7f16-4485-8228-5ab89f2286e5'), visibility=<Visibility.PRIVATE: 'private'>, created_at=DateTime(value=datetime.datetime(2024, 5, 30, 14, 34, 42, 915273, tzinfo=datetime.timezone(datetime.timedelta(seconds=7200)))), updated_at=DateTime(value=datetime.datetime(2024, 5, 30, 14, 34, 42, 915273, tzinfo=datetime.timezone(datetime.timedelta(seconds=7200))))),\n",
       " ProjectSummary(project_id=ProjectId(value='bc0ee988-1f33-4830-b0a7-6055f22a6fbb'), project_name=Name(value='Project 1'), project_description=Description(value='Description 1'), project_tags=Tags(value=['tag1', 'tag2']), owner_id=UserId(value='b6ac7375-5570-4d05-8f46-781d1fc1e56b'), visibility=<Visibility.PRIVATE: 'private'>, created_at=DateTime(value=datetime.datetime(2024, 5, 30, 14, 34, 42, 922807, tzinfo=datetime.timezone(datetime.timedelta(seconds=7200)))), updated_at=DateTime(value=datetime.datetime(2024, 5, 30, 14, 34, 42, 922807, tzinfo=datetime.timezone(datetime.timedelta(seconds=7200))))),\n",
       " ProjectSummary(project_id=ProjectId(value='b7653097-3380-4523-a7ad-f8eae956d4f3'), project_name=Name(value='Project 2'), project_description=Description(value='Description 2'), project_tags=Tags(value=['tag2', 'tag3']), owner_id=UserId(value='74a589a7-901a-4f4b-b4e3-ce6107686052'), visibility=<Visibility.PRIVATE: 'private'>, created_at=DateTime(value=datetime.datetime(2024, 5, 30, 14, 34, 42, 927579, tzinfo=datetime.timezone(datetime.timedelta(seconds=7200)))), updated_at=DateTime(value=datetime.datetime(2024, 5, 30, 14, 34, 42, 927579, tzinfo=datetime.timezone(datetime.timedelta(seconds=7200))))),\n",
       " ProjectSummary(project_id=ProjectId(value='c8be0a68-f951-4dc8-9452-43d88e7be0b7'), project_name=Name(value='Project 3'), project_description=Description(value='Description 3'), project_tags=Tags(value=['tag3', 'tag4']), owner_id=UserId(value='acee644c-3f16-4d45-a26b-7b54e1e1eb10'), visibility=<Visibility.PRIVATE: 'private'>, created_at=DateTime(value=datetime.datetime(2024, 5, 30, 14, 34, 42, 932502, tzinfo=datetime.timezone(datetime.timedelta(seconds=7200)))), updated_at=DateTime(value=datetime.datetime(2024, 5, 30, 14, 34, 42, 932502, tzinfo=datetime.timezone(datetime.timedelta(seconds=7200))))),\n",
       " ProjectSummary(project_id=ProjectId(value='097e6ec2-cd7e-415d-a3d8-81691d45acb7'), project_name=Name(value='Project 4'), project_description=Description(value='Description 4'), project_tags=Tags(value=['tag4', 'tag5']), owner_id=UserId(value='f7f5c60d-25af-4f57-98bc-427cc1869c74'), visibility=<Visibility.PRIVATE: 'private'>, created_at=DateTime(value=datetime.datetime(2024, 5, 30, 14, 34, 42, 939410, tzinfo=datetime.timezone(datetime.timedelta(seconds=7200)))), updated_at=DateTime(value=datetime.datetime(2024, 5, 30, 14, 34, 42, 939410, tzinfo=datetime.timezone(datetime.timedelta(seconds=7200))))),\n",
       " ProjectSummary(project_id=ProjectId(value='881b1371-4658-43c9-841b-c538f0adfcb8'), project_name=Name(value='Project 5'), project_description=Description(value='Description 5'), project_tags=Tags(value=['tag5', 'tag6']), owner_id=UserId(value='831dbd58-ebec-43aa-b956-8d97637fa66f'), visibility=<Visibility.PRIVATE: 'private'>, created_at=DateTime(value=datetime.datetime(2024, 5, 30, 14, 34, 42, 943454, tzinfo=datetime.timezone(datetime.timedelta(seconds=7200)))), updated_at=DateTime(value=datetime.datetime(2024, 5, 30, 14, 34, 42, 943454, tzinfo=datetime.timezone(datetime.timedelta(seconds=7200))))),\n",
       " ProjectSummary(project_id=ProjectId(value='5e6ad2e6-c69a-411e-b411-3115b2cedd6c'), project_name=Name(value='Project 6'), project_description=Description(value='Description 6'), project_tags=Tags(value=['tag6', 'tag7']), owner_id=UserId(value='ee804bcc-ee64-452b-8ee4-68e435e03662'), visibility=<Visibility.PRIVATE: 'private'>, created_at=DateTime(value=datetime.datetime(2024, 5, 30, 14, 34, 42, 947227, tzinfo=datetime.timezone(datetime.timedelta(seconds=7200)))), updated_at=DateTime(value=datetime.datetime(2024, 5, 30, 14, 34, 42, 947227, tzinfo=datetime.timezone(datetime.timedelta(seconds=7200))))),\n",
       " ProjectSummary(project_id=ProjectId(value='a932a284-2136-4dcc-ad78-8f1fbd8df852'), project_name=Name(value='Project 7'), project_description=Description(value='Description 7'), project_tags=Tags(value=['tag7', 'tag8']), owner_id=UserId(value='df61a479-e655-497b-b550-ec50f13caabd'), visibility=<Visibility.PRIVATE: 'private'>, created_at=DateTime(value=datetime.datetime(2024, 5, 30, 14, 34, 42, 950927, tzinfo=datetime.timezone(datetime.timedelta(seconds=7200)))), updated_at=DateTime(value=datetime.datetime(2024, 5, 30, 14, 34, 42, 950927, tzinfo=datetime.timezone(datetime.timedelta(seconds=7200))))),\n",
       " ProjectSummary(project_id=ProjectId(value='8bfa87ba-e588-4569-9e03-dc9a0d885842'), project_name=Name(value='Project 8'), project_description=Description(value='Description 8'), project_tags=Tags(value=['tag8', 'tag9']), owner_id=UserId(value='44b719d2-ded1-4d11-9cd9-025fe34d2c8d'), visibility=<Visibility.PRIVATE: 'private'>, created_at=DateTime(value=datetime.datetime(2024, 5, 30, 14, 34, 42, 954375, tzinfo=datetime.timezone(datetime.timedelta(seconds=7200)))), updated_at=DateTime(value=datetime.datetime(2024, 5, 30, 14, 34, 42, 954375, tzinfo=datetime.timezone(datetime.timedelta(seconds=7200))))),\n",
       " ProjectSummary(project_id=ProjectId(value='7b22be1a-a6c4-4286-ba40-8b4aa9f397f4'), project_name=Name(value='Project 9'), project_description=Description(value='Description 9'), project_tags=Tags(value=['tag9', 'tag10']), owner_id=UserId(value='bd793a69-4ab9-4075-892c-fbcb27a6660e'), visibility=<Visibility.PRIVATE: 'private'>, created_at=DateTime(value=datetime.datetime(2024, 5, 30, 14, 34, 42, 957778, tzinfo=datetime.timezone(datetime.timedelta(seconds=7200)))), updated_at=DateTime(value=datetime.datetime(2024, 5, 30, 14, 34, 42, 957778, tzinfo=datetime.timezone(datetime.timedelta(seconds=7200))))),\n",
       " ProjectSummary(project_id=ProjectId(value='5d3f5e5b-184f-420e-bf62-caa51a86f02a'), project_name=Name(value='Project 1'), project_description=Description(value='Description 1'), project_tags=Tags(value=['tag1', 'tag2']), owner_id=UserId(value='081d7033-187b-4d44-893e-854b7bd3bb77'), visibility=<Visibility.PRIVATE: 'private'>, created_at=DateTime(value=datetime.datetime(2024, 5, 30, 14, 35, 0, 239821, tzinfo=datetime.timezone(datetime.timedelta(seconds=7200)))), updated_at=DateTime(value=datetime.datetime(2024, 5, 30, 14, 35, 0, 239821, tzinfo=datetime.timezone(datetime.timedelta(seconds=7200))))),\n",
       " ProjectSummary(project_id=ProjectId(value='ebfe2ac6-7554-4d83-aae9-35ee876c1f6d'), project_name=Name(value='Rio Primero 123'), project_description=Description(value='Rio Primero Project in Argentina'), project_tags=Tags(value=['rio primero', 'argentina']), owner_id=UserId(value='5289c696-78ab-4e92-a62d-656f80f83f8e'), visibility=<Visibility.PRIVATE: 'private'>, created_at=DateTime(value=datetime.datetime(2024, 5, 30, 23, 19, 36, 201336, tzinfo=datetime.timezone(datetime.timedelta(seconds=7200)))), updated_at=DateTime(value=datetime.datetime(2024, 5, 30, 23, 19, 36, 201336, tzinfo=datetime.timezone(datetime.timedelta(seconds=7200))))),\n",
       " ProjectSummary(project_id=ProjectId(value='f02a4be9-19da-4334-8176-ff75d8fc2194'), project_name=Name(value='Project 0'), project_description=Description(value='Description 0'), project_tags=Tags(value=['tag0', 'tag1']), owner_id=UserId(value='bbd2026b-4072-466b-bf7c-4e25c5ab9728'), visibility=<Visibility.PRIVATE: 'private'>, created_at=DateTime(value=datetime.datetime(2024, 5, 30, 23, 20, 16, 522034, tzinfo=datetime.timezone(datetime.timedelta(seconds=7200)))), updated_at=DateTime(value=datetime.datetime(2024, 5, 30, 23, 20, 16, 522034, tzinfo=datetime.timezone(datetime.timedelta(seconds=7200))))),\n",
       " ProjectSummary(project_id=ProjectId(value='ed489685-d04a-481f-b454-6f9b11812bf4'), project_name=Name(value='Project 1'), project_description=Description(value='Description 1'), project_tags=Tags(value=['tag1', 'tag2']), owner_id=UserId(value='be0025e8-44f1-46eb-ba3f-984d693e2839'), visibility=<Visibility.PRIVATE: 'private'>, created_at=DateTime(value=datetime.datetime(2024, 5, 30, 23, 20, 16, 532177, tzinfo=datetime.timezone(datetime.timedelta(seconds=7200)))), updated_at=DateTime(value=datetime.datetime(2024, 5, 30, 23, 20, 16, 532177, tzinfo=datetime.timezone(datetime.timedelta(seconds=7200))))),\n",
       " ProjectSummary(project_id=ProjectId(value='df5f5629-97e8-4d12-bbdc-02b8b4ecc00f'), project_name=Name(value='Project 2'), project_description=Description(value='Description 2'), project_tags=Tags(value=['tag2', 'tag3']), owner_id=UserId(value='b3f668aa-ab4b-449f-b168-4cbfa3488772'), visibility=<Visibility.PRIVATE: 'private'>, created_at=DateTime(value=datetime.datetime(2024, 5, 30, 23, 20, 16, 537974, tzinfo=datetime.timezone(datetime.timedelta(seconds=7200)))), updated_at=DateTime(value=datetime.datetime(2024, 5, 30, 23, 20, 16, 537974, tzinfo=datetime.timezone(datetime.timedelta(seconds=7200))))),\n",
       " ProjectSummary(project_id=ProjectId(value='be3b3aa1-dcfc-49e0-a02f-67ce214b45b6'), project_name=Name(value='Project 3'), project_description=Description(value='Description 3'), project_tags=Tags(value=['tag3', 'tag4']), owner_id=UserId(value='ce56a9cd-a1bd-4376-9f53-3df51ee5e8b0'), visibility=<Visibility.PRIVATE: 'private'>, created_at=DateTime(value=datetime.datetime(2024, 5, 30, 23, 20, 16, 542658, tzinfo=datetime.timezone(datetime.timedelta(seconds=7200)))), updated_at=DateTime(value=datetime.datetime(2024, 5, 30, 23, 20, 16, 542658, tzinfo=datetime.timezone(datetime.timedelta(seconds=7200))))),\n",
       " ProjectSummary(project_id=ProjectId(value='d29b9022-5348-4fa5-b25e-bd667a831961'), project_name=Name(value='Project 4'), project_description=Description(value='Description 4'), project_tags=Tags(value=['tag4', 'tag5']), owner_id=UserId(value='50e051cb-07c0-4839-a309-d934973795b0'), visibility=<Visibility.PRIVATE: 'private'>, created_at=DateTime(value=datetime.datetime(2024, 5, 30, 23, 20, 16, 547493, tzinfo=datetime.timezone(datetime.timedelta(seconds=7200)))), updated_at=DateTime(value=datetime.datetime(2024, 5, 30, 23, 20, 16, 547493, tzinfo=datetime.timezone(datetime.timedelta(seconds=7200))))),\n",
       " ProjectSummary(project_id=ProjectId(value='fd0f29e2-45af-4281-9b58-89e3a9479aff'), project_name=Name(value='Project 5'), project_description=Description(value='Description 5'), project_tags=Tags(value=['tag5', 'tag6']), owner_id=UserId(value='4d49eaa4-2111-4a4e-af07-520579334081'), visibility=<Visibility.PRIVATE: 'private'>, created_at=DateTime(value=datetime.datetime(2024, 5, 30, 23, 20, 16, 552543, tzinfo=datetime.timezone(datetime.timedelta(seconds=7200)))), updated_at=DateTime(value=datetime.datetime(2024, 5, 30, 23, 20, 16, 552543, tzinfo=datetime.timezone(datetime.timedelta(seconds=7200))))),\n",
       " ProjectSummary(project_id=ProjectId(value='ed0c24d6-be84-493e-8954-8aeb39f6edc3'), project_name=Name(value='Project 6'), project_description=Description(value='Description 6'), project_tags=Tags(value=['tag6', 'tag7']), owner_id=UserId(value='21b26132-2421-4275-a0a8-df3bc4a881e5'), visibility=<Visibility.PRIVATE: 'private'>, created_at=DateTime(value=datetime.datetime(2024, 5, 30, 23, 20, 16, 556397, tzinfo=datetime.timezone(datetime.timedelta(seconds=7200)))), updated_at=DateTime(value=datetime.datetime(2024, 5, 30, 23, 20, 16, 556397, tzinfo=datetime.timezone(datetime.timedelta(seconds=7200))))),\n",
       " ProjectSummary(project_id=ProjectId(value='82183e32-d26c-4776-a08a-05a500c94172'), project_name=Name(value='Project 7'), project_description=Description(value='Description 7'), project_tags=Tags(value=['tag7', 'tag8']), owner_id=UserId(value='4df17f0c-b7a3-472f-80e1-25e466b8aaef'), visibility=<Visibility.PRIVATE: 'private'>, created_at=DateTime(value=datetime.datetime(2024, 5, 30, 23, 20, 16, 559558, tzinfo=datetime.timezone(datetime.timedelta(seconds=7200)))), updated_at=DateTime(value=datetime.datetime(2024, 5, 30, 23, 20, 16, 559558, tzinfo=datetime.timezone(datetime.timedelta(seconds=7200))))),\n",
       " ProjectSummary(project_id=ProjectId(value='b91d82d8-34fa-48eb-928f-395c3fdd3728'), project_name=Name(value='Project 8'), project_description=Description(value='Description 8'), project_tags=Tags(value=['tag8', 'tag9']), owner_id=UserId(value='43161756-ff5e-4cbb-9f7b-306d41219ece'), visibility=<Visibility.PRIVATE: 'private'>, created_at=DateTime(value=datetime.datetime(2024, 5, 30, 23, 20, 16, 562574, tzinfo=datetime.timezone(datetime.timedelta(seconds=7200)))), updated_at=DateTime(value=datetime.datetime(2024, 5, 30, 23, 20, 16, 562574, tzinfo=datetime.timezone(datetime.timedelta(seconds=7200))))),\n",
       " ProjectSummary(project_id=ProjectId(value='cfb06c1b-47e6-4e03-8f48-3e9e6f901254'), project_name=Name(value='Project 9'), project_description=Description(value='Description 9'), project_tags=Tags(value=['tag9', 'tag10']), owner_id=UserId(value='9ad6c160-b692-4e13-82ae-5fa9d0ae848d'), visibility=<Visibility.PRIVATE: 'private'>, created_at=DateTime(value=datetime.datetime(2024, 5, 30, 23, 20, 16, 565477, tzinfo=datetime.timezone(datetime.timedelta(seconds=7200)))), updated_at=DateTime(value=datetime.datetime(2024, 5, 30, 23, 20, 16, 565477, tzinfo=datetime.timezone(datetime.timedelta(seconds=7200))))),\n",
       " ProjectSummary(project_id=ProjectId(value='341257ef-7331-446f-98ac-7c1475f13b79'), project_name=Name(value='Project 1'), project_description=Description(value='Description 1'), project_tags=Tags(value=['tag1', 'tag2']), owner_id=UserId(value='86b246b8-d8ea-41e5-83e8-8a88eb5f95ac'), visibility=<Visibility.PRIVATE: 'private'>, created_at=DateTime(value=datetime.datetime(2024, 5, 30, 23, 20, 23, 593977, tzinfo=datetime.timezone(datetime.timedelta(seconds=7200)))), updated_at=DateTime(value=datetime.datetime(2024, 5, 30, 23, 20, 23, 593977, tzinfo=datetime.timezone(datetime.timedelta(seconds=7200))))),\n",
       " ProjectSummary(project_id=ProjectId(value='5769bee6-ec55-4bd1-8b18-09342ee0b1dd'), project_name=Name(value='Rio Primero 123'), project_description=Description(value='Rio Primero Project in Argentina'), project_tags=Tags(value=['rio primero', 'argentina']), owner_id=UserId(value='342b2e98-a484-4cbb-bc0f-a68b052ae39c'), visibility=<Visibility.PRIVATE: 'private'>, created_at=DateTime(value=datetime.datetime(2024, 6, 17, 22, 38, 15, 881417, tzinfo=datetime.timezone(datetime.timedelta(seconds=7200)))), updated_at=DateTime(value=datetime.datetime(2024, 6, 17, 22, 38, 15, 881417, tzinfo=datetime.timezone(datetime.timedelta(seconds=7200))))),\n",
       " ProjectSummary(project_id=ProjectId(value='062b2403-f819-4422-a8d6-c13b99dd5a3e'), project_name=Name(value='Project 0'), project_description=Description(value='Description 0'), project_tags=Tags(value=['tag0', 'tag1']), owner_id=UserId(value='a91ba1de-8ed8-4167-8760-6c6767bcc675'), visibility=<Visibility.PRIVATE: 'private'>, created_at=DateTime(value=datetime.datetime(2024, 6, 17, 22, 38, 57, 180873, tzinfo=datetime.timezone(datetime.timedelta(seconds=7200)))), updated_at=DateTime(value=datetime.datetime(2024, 6, 17, 22, 38, 57, 180873, tzinfo=datetime.timezone(datetime.timedelta(seconds=7200))))),\n",
       " ProjectSummary(project_id=ProjectId(value='e9066f3f-42aa-4863-844f-ac9f02556981'), project_name=Name(value='Project 1'), project_description=Description(value='Description 1'), project_tags=Tags(value=['tag1', 'tag2']), owner_id=UserId(value='833d3070-eed1-40b5-a66b-15a502e03858'), visibility=<Visibility.PRIVATE: 'private'>, created_at=DateTime(value=datetime.datetime(2024, 6, 17, 22, 38, 57, 190056, tzinfo=datetime.timezone(datetime.timedelta(seconds=7200)))), updated_at=DateTime(value=datetime.datetime(2024, 6, 17, 22, 38, 57, 190056, tzinfo=datetime.timezone(datetime.timedelta(seconds=7200))))),\n",
       " ProjectSummary(project_id=ProjectId(value='2ea0e06e-e21c-4ddb-9b23-697720345d83'), project_name=Name(value='Project 2'), project_description=Description(value='Description 2'), project_tags=Tags(value=['tag2', 'tag3']), owner_id=UserId(value='07b19787-fdce-4db7-a05e-ba63177ec371'), visibility=<Visibility.PRIVATE: 'private'>, created_at=DateTime(value=datetime.datetime(2024, 6, 17, 22, 38, 57, 194510, tzinfo=datetime.timezone(datetime.timedelta(seconds=7200)))), updated_at=DateTime(value=datetime.datetime(2024, 6, 17, 22, 38, 57, 194510, tzinfo=datetime.timezone(datetime.timedelta(seconds=7200))))),\n",
       " ProjectSummary(project_id=ProjectId(value='e50408f0-2922-4bd7-a756-c3d9a776c58b'), project_name=Name(value='Project 3'), project_description=Description(value='Description 3'), project_tags=Tags(value=['tag3', 'tag4']), owner_id=UserId(value='f2b1766e-9d17-49c8-b874-0ee807698f98'), visibility=<Visibility.PRIVATE: 'private'>, created_at=DateTime(value=datetime.datetime(2024, 6, 17, 22, 38, 57, 197178, tzinfo=datetime.timezone(datetime.timedelta(seconds=7200)))), updated_at=DateTime(value=datetime.datetime(2024, 6, 17, 22, 38, 57, 197178, tzinfo=datetime.timezone(datetime.timedelta(seconds=7200))))),\n",
       " ProjectSummary(project_id=ProjectId(value='90466bf3-14c3-40a0-9e21-053240edcf80'), project_name=Name(value='Project 4'), project_description=Description(value='Description 4'), project_tags=Tags(value=['tag4', 'tag5']), owner_id=UserId(value='79dce492-13e6-4cd4-8d8e-f691665311e4'), visibility=<Visibility.PRIVATE: 'private'>, created_at=DateTime(value=datetime.datetime(2024, 6, 17, 22, 38, 57, 199565, tzinfo=datetime.timezone(datetime.timedelta(seconds=7200)))), updated_at=DateTime(value=datetime.datetime(2024, 6, 17, 22, 38, 57, 199565, tzinfo=datetime.timezone(datetime.timedelta(seconds=7200))))),\n",
       " ProjectSummary(project_id=ProjectId(value='fd7c03d4-7c3f-4df0-acd1-b679a7339761'), project_name=Name(value='Project 5'), project_description=Description(value='Description 5'), project_tags=Tags(value=['tag5', 'tag6']), owner_id=UserId(value='50476185-cfa5-4250-8056-e3e8191575a2'), visibility=<Visibility.PRIVATE: 'private'>, created_at=DateTime(value=datetime.datetime(2024, 6, 17, 22, 38, 57, 202363, tzinfo=datetime.timezone(datetime.timedelta(seconds=7200)))), updated_at=DateTime(value=datetime.datetime(2024, 6, 17, 22, 38, 57, 202363, tzinfo=datetime.timezone(datetime.timedelta(seconds=7200))))),\n",
       " ProjectSummary(project_id=ProjectId(value='b076d52d-f270-4505-a214-b81b2dc0ef96'), project_name=Name(value='Project 6'), project_description=Description(value='Description 6'), project_tags=Tags(value=['tag6', 'tag7']), owner_id=UserId(value='ef671977-20ef-469a-8bc8-76c2f50ba5f2'), visibility=<Visibility.PRIVATE: 'private'>, created_at=DateTime(value=datetime.datetime(2024, 6, 17, 22, 38, 57, 205010, tzinfo=datetime.timezone(datetime.timedelta(seconds=7200)))), updated_at=DateTime(value=datetime.datetime(2024, 6, 17, 22, 38, 57, 205010, tzinfo=datetime.timezone(datetime.timedelta(seconds=7200))))),\n",
       " ProjectSummary(project_id=ProjectId(value='f03e9df0-89b2-435c-a684-1b62ef8def3b'), project_name=Name(value='Project 7'), project_description=Description(value='Description 7'), project_tags=Tags(value=['tag7', 'tag8']), owner_id=UserId(value='aa257916-b617-455e-89cd-b0ffe56001b6'), visibility=<Visibility.PRIVATE: 'private'>, created_at=DateTime(value=datetime.datetime(2024, 6, 17, 22, 38, 57, 207651, tzinfo=datetime.timezone(datetime.timedelta(seconds=7200)))), updated_at=DateTime(value=datetime.datetime(2024, 6, 17, 22, 38, 57, 207651, tzinfo=datetime.timezone(datetime.timedelta(seconds=7200))))),\n",
       " ProjectSummary(project_id=ProjectId(value='ce8bef5a-e358-41c8-9cfa-608cd2d324b4'), project_name=Name(value='Project 8'), project_description=Description(value='Description 8'), project_tags=Tags(value=['tag8', 'tag9']), owner_id=UserId(value='ced984aa-6850-4b6c-8739-25b5ab199565'), visibility=<Visibility.PRIVATE: 'private'>, created_at=DateTime(value=datetime.datetime(2024, 6, 17, 22, 38, 57, 210151, tzinfo=datetime.timezone(datetime.timedelta(seconds=7200)))), updated_at=DateTime(value=datetime.datetime(2024, 6, 17, 22, 38, 57, 210151, tzinfo=datetime.timezone(datetime.timedelta(seconds=7200))))),\n",
       " ProjectSummary(project_id=ProjectId(value='dda019ff-8b9e-4f24-adf1-cbf14ef7b494'), project_name=Name(value='Project 9'), project_description=Description(value='Description 9'), project_tags=Tags(value=['tag9', 'tag10']), owner_id=UserId(value='88b2aaa2-8f47-4624-b943-ab9b96001c67'), visibility=<Visibility.PRIVATE: 'private'>, created_at=DateTime(value=datetime.datetime(2024, 6, 17, 22, 38, 57, 212494, tzinfo=datetime.timezone(datetime.timedelta(seconds=7200)))), updated_at=DateTime(value=datetime.datetime(2024, 6, 17, 22, 38, 57, 212494, tzinfo=datetime.timezone(datetime.timedelta(seconds=7200))))),\n",
       " ProjectSummary(project_id=ProjectId(value='5ecb58a1-d41d-4cc7-b5c0-27212c5042e0'), project_name=Name(value='Project 1'), project_description=Description(value='Description 1'), project_tags=Tags(value=['tag1', 'tag2']), owner_id=UserId(value='a6bdcb6f-3842-446f-a719-dfefc30abe9e'), visibility=<Visibility.PRIVATE: 'private'>, created_at=DateTime(value=datetime.datetime(2024, 6, 17, 22, 39, 4, 646935, tzinfo=datetime.timezone(datetime.timedelta(seconds=7200)))), updated_at=DateTime(value=datetime.datetime(2024, 6, 17, 22, 39, 4, 646935, tzinfo=datetime.timezone(datetime.timedelta(seconds=7200))))),\n",
       " ProjectSummary(project_id=ProjectId(value='0b3dc8b1-1e30-4552-a5ad-ab8f591d814b'), project_name=Name(value='Project 1'), project_description=Description(value='Description 1'), project_tags=Tags(value=['tag1', 'tag2']), owner_id=UserId(value='23a415b2-89df-4913-9160-46b067cbde54'), visibility=<Visibility.PRIVATE: 'private'>, created_at=DateTime(value=datetime.datetime(2024, 6, 17, 22, 43, 13, 119312, tzinfo=datetime.timezone(datetime.timedelta(seconds=7200)))), updated_at=DateTime(value=datetime.datetime(2024, 6, 17, 22, 43, 13, 119312, tzinfo=datetime.timezone(datetime.timedelta(seconds=7200))))),\n",
       " ProjectSummary(project_id=ProjectId(value='f4e49a07-83b9-4f66-8d9e-7e3ce4470f82'), project_name=Name(value='Project 1'), project_description=Description(value='Description 1'), project_tags=Tags(value=['tag1', 'tag2']), owner_id=UserId(value='184a0e2a-8747-4bfa-87e8-3680c4b4daa2'), visibility=<Visibility.PRIVATE: 'private'>, created_at=DateTime(value=datetime.datetime(2024, 6, 17, 22, 52, 1, 970060, tzinfo=datetime.timezone(datetime.timedelta(seconds=7200)))), updated_at=DateTime(value=datetime.datetime(2024, 6, 17, 22, 52, 1, 970060, tzinfo=datetime.timezone(datetime.timedelta(seconds=7200))))),\n",
       " ProjectSummary(project_id=ProjectId(value='f2f11648-4bed-41f5-b61d-1feb35bd7a77'), project_name=Name(value='Project 1'), project_description=Description(value='Description 1'), project_tags=Tags(value=['tag1', 'tag2']), owner_id=UserId(value='09a694ec-06bb-4d58-8b3e-597e592352df'), visibility=<Visibility.PRIVATE: 'private'>, created_at=DateTime(value=datetime.datetime(2024, 6, 17, 22, 53, 0, 160400, tzinfo=datetime.timezone(datetime.timedelta(seconds=7200)))), updated_at=DateTime(value=datetime.datetime(2024, 6, 17, 22, 53, 0, 160400, tzinfo=datetime.timezone(datetime.timedelta(seconds=7200))))),\n",
       " ProjectSummary(project_id=ProjectId(value='ebb3edf1-9bbf-4611-8c3a-ff0b3d810fea'), project_name=Name(value='Project 1'), project_description=Description(value='Description 1'), project_tags=Tags(value=['tag1', 'tag2']), owner_id=UserId(value='31e9ac5f-9489-4f05-8159-39389c6c8c9e'), visibility=<Visibility.PRIVATE: 'private'>, created_at=DateTime(value=datetime.datetime(2024, 6, 17, 22, 53, 14, 833928, tzinfo=datetime.timezone(datetime.timedelta(seconds=7200)))), updated_at=DateTime(value=datetime.datetime(2024, 6, 17, 22, 53, 14, 833928, tzinfo=datetime.timezone(datetime.timedelta(seconds=7200))))),\n",
       " ProjectSummary(project_id=ProjectId(value='10cd88f6-c709-4c9a-8e55-2798323fce93'), project_name=Name(value='Rio Primero 123'), project_description=Description(value='Rio Primero Project in Argentina'), project_tags=Tags(value=['rio primero', 'argentina']), owner_id=UserId(value='5be090e1-4494-423d-b51f-d4f8edb7b359'), visibility=<Visibility.PRIVATE: 'private'>, created_at=DateTime(value=datetime.datetime(2024, 6, 17, 22, 53, 45, 694383, tzinfo=datetime.timezone(datetime.timedelta(seconds=7200)))), updated_at=DateTime(value=datetime.datetime(2024, 6, 17, 22, 53, 45, 694383, tzinfo=datetime.timezone(datetime.timedelta(seconds=7200))))),\n",
       " ProjectSummary(project_id=ProjectId(value='f8af94d6-4b47-4d7c-be6a-b378a1b69d93'), project_name=Name(value='Project 0'), project_description=Description(value='Description 0'), project_tags=Tags(value=['tag0', 'tag1']), owner_id=UserId(value='e010c2da-f161-4f4e-9064-c89fafdd8037'), visibility=<Visibility.PRIVATE: 'private'>, created_at=DateTime(value=datetime.datetime(2024, 6, 17, 22, 54, 24, 697330, tzinfo=datetime.timezone(datetime.timedelta(seconds=7200)))), updated_at=DateTime(value=datetime.datetime(2024, 6, 17, 22, 54, 24, 697330, tzinfo=datetime.timezone(datetime.timedelta(seconds=7200))))),\n",
       " ProjectSummary(project_id=ProjectId(value='4dfd778e-fc77-485f-8d29-c75acb7e3fbe'), project_name=Name(value='Project 1'), project_description=Description(value='Description 1'), project_tags=Tags(value=['tag1', 'tag2']), owner_id=UserId(value='6ade6e2a-00d7-4a4a-b264-4c84dda98adb'), visibility=<Visibility.PRIVATE: 'private'>, created_at=DateTime(value=datetime.datetime(2024, 6, 17, 22, 54, 24, 705034, tzinfo=datetime.timezone(datetime.timedelta(seconds=7200)))), updated_at=DateTime(value=datetime.datetime(2024, 6, 17, 22, 54, 24, 705034, tzinfo=datetime.timezone(datetime.timedelta(seconds=7200))))),\n",
       " ProjectSummary(project_id=ProjectId(value='efcd8b20-6931-4560-88dc-95cb96dedd01'), project_name=Name(value='Project 2'), project_description=Description(value='Description 2'), project_tags=Tags(value=['tag2', 'tag3']), owner_id=UserId(value='045ad647-e3eb-4dd7-82c5-70ace3c4897e'), visibility=<Visibility.PRIVATE: 'private'>, created_at=DateTime(value=datetime.datetime(2024, 6, 17, 22, 54, 24, 708550, tzinfo=datetime.timezone(datetime.timedelta(seconds=7200)))), updated_at=DateTime(value=datetime.datetime(2024, 6, 17, 22, 54, 24, 708550, tzinfo=datetime.timezone(datetime.timedelta(seconds=7200))))),\n",
       " ProjectSummary(project_id=ProjectId(value='7140ffd5-cf85-436e-9da6-e78d2c746bcb'), project_name=Name(value='Project 3'), project_description=Description(value='Description 3'), project_tags=Tags(value=['tag3', 'tag4']), owner_id=UserId(value='5a4f4f18-e9b3-4c1e-89ed-d93cbb5817d0'), visibility=<Visibility.PRIVATE: 'private'>, created_at=DateTime(value=datetime.datetime(2024, 6, 17, 22, 54, 24, 711099, tzinfo=datetime.timezone(datetime.timedelta(seconds=7200)))), updated_at=DateTime(value=datetime.datetime(2024, 6, 17, 22, 54, 24, 711099, tzinfo=datetime.timezone(datetime.timedelta(seconds=7200))))),\n",
       " ProjectSummary(project_id=ProjectId(value='112b64c9-98dc-4f00-86f0-54d7579b9e99'), project_name=Name(value='Project 4'), project_description=Description(value='Description 4'), project_tags=Tags(value=['tag4', 'tag5']), owner_id=UserId(value='cf198282-bb38-4c58-a6e0-dada4b02c95a'), visibility=<Visibility.PRIVATE: 'private'>, created_at=DateTime(value=datetime.datetime(2024, 6, 17, 22, 54, 24, 713560, tzinfo=datetime.timezone(datetime.timedelta(seconds=7200)))), updated_at=DateTime(value=datetime.datetime(2024, 6, 17, 22, 54, 24, 713560, tzinfo=datetime.timezone(datetime.timedelta(seconds=7200))))),\n",
       " ProjectSummary(project_id=ProjectId(value='4e37857b-bdde-485d-95d2-baad3462cab8'), project_name=Name(value='Project 5'), project_description=Description(value='Description 5'), project_tags=Tags(value=['tag5', 'tag6']), owner_id=UserId(value='c7cc4bc2-a8d7-4784-8bd6-b05fb09778bc'), visibility=<Visibility.PRIVATE: 'private'>, created_at=DateTime(value=datetime.datetime(2024, 6, 17, 22, 54, 24, 715907, tzinfo=datetime.timezone(datetime.timedelta(seconds=7200)))), updated_at=DateTime(value=datetime.datetime(2024, 6, 17, 22, 54, 24, 715907, tzinfo=datetime.timezone(datetime.timedelta(seconds=7200))))),\n",
       " ProjectSummary(project_id=ProjectId(value='1198a69a-d141-4a14-b25e-432490d197ac'), project_name=Name(value='Project 6'), project_description=Description(value='Description 6'), project_tags=Tags(value=['tag6', 'tag7']), owner_id=UserId(value='c7d6d89b-c58d-432d-b957-d26fd969b654'), visibility=<Visibility.PRIVATE: 'private'>, created_at=DateTime(value=datetime.datetime(2024, 6, 17, 22, 54, 24, 718273, tzinfo=datetime.timezone(datetime.timedelta(seconds=7200)))), updated_at=DateTime(value=datetime.datetime(2024, 6, 17, 22, 54, 24, 718273, tzinfo=datetime.timezone(datetime.timedelta(seconds=7200))))),\n",
       " ProjectSummary(project_id=ProjectId(value='5662eeb3-bc56-408d-9e67-9d02bd260c4d'), project_name=Name(value='Project 7'), project_description=Description(value='Description 7'), project_tags=Tags(value=['tag7', 'tag8']), owner_id=UserId(value='ab9a9190-84db-4b50-b8b4-9e1f7008365c'), visibility=<Visibility.PRIVATE: 'private'>, created_at=DateTime(value=datetime.datetime(2024, 6, 17, 22, 54, 24, 720641, tzinfo=datetime.timezone(datetime.timedelta(seconds=7200)))), updated_at=DateTime(value=datetime.datetime(2024, 6, 17, 22, 54, 24, 720641, tzinfo=datetime.timezone(datetime.timedelta(seconds=7200))))),\n",
       " ProjectSummary(project_id=ProjectId(value='24893093-31b3-4191-9bc9-ff58e0060c41'), project_name=Name(value='Project 8'), project_description=Description(value='Description 8'), project_tags=Tags(value=['tag8', 'tag9']), owner_id=UserId(value='fe84c934-3630-470c-8464-baed479d1fba'), visibility=<Visibility.PRIVATE: 'private'>, created_at=DateTime(value=datetime.datetime(2024, 6, 17, 22, 54, 24, 722975, tzinfo=datetime.timezone(datetime.timedelta(seconds=7200)))), updated_at=DateTime(value=datetime.datetime(2024, 6, 17, 22, 54, 24, 722975, tzinfo=datetime.timezone(datetime.timedelta(seconds=7200))))),\n",
       " ProjectSummary(project_id=ProjectId(value='0fcc1de3-2213-4e8f-b624-b46d28d57ebc'), project_name=Name(value='Project 9'), project_description=Description(value='Description 9'), project_tags=Tags(value=['tag9', 'tag10']), owner_id=UserId(value='6b97ead0-7dac-419c-a440-f54b0c83d9dd'), visibility=<Visibility.PRIVATE: 'private'>, created_at=DateTime(value=datetime.datetime(2024, 6, 17, 22, 54, 24, 725335, tzinfo=datetime.timezone(datetime.timedelta(seconds=7200)))), updated_at=DateTime(value=datetime.datetime(2024, 6, 17, 22, 54, 24, 725335, tzinfo=datetime.timezone(datetime.timedelta(seconds=7200))))),\n",
       " ProjectSummary(project_id=ProjectId(value='6dbcc003-ad25-4700-a685-73da9bd8a8a5'), project_name=Name(value='Project 1'), project_description=Description(value='Description 1'), project_tags=Tags(value=['tag1', 'tag2']), owner_id=UserId(value='976cd5d5-5039-4ef2-98ba-0221e2a99c6a'), visibility=<Visibility.PRIVATE: 'private'>, created_at=DateTime(value=datetime.datetime(2024, 6, 17, 22, 54, 32, 63442, tzinfo=datetime.timezone(datetime.timedelta(seconds=7200)))), updated_at=DateTime(value=datetime.datetime(2024, 6, 17, 22, 54, 32, 63442, tzinfo=datetime.timezone(datetime.timedelta(seconds=7200))))),\n",
       " ProjectSummary(project_id=ProjectId(value='5d8a4896-6a11-40ea-b1e6-b378ff6a7a69'), project_name=Name(value='Project 0'), project_description=Description(value='Description 0'), project_tags=Tags(value=['tag0', 'tag1']), owner_id=UserId(value='8f5cf26a-fbf7-433e-a701-780ca19d981c'), visibility=<Visibility.PRIVATE: 'private'>, created_at=DateTime(value=datetime.datetime(2024, 6, 17, 23, 1, 55, 25869, tzinfo=datetime.timezone(datetime.timedelta(seconds=7200)))), updated_at=DateTime(value=datetime.datetime(2024, 6, 17, 23, 1, 55, 25869, tzinfo=datetime.timezone(datetime.timedelta(seconds=7200))))),\n",
       " ProjectSummary(project_id=ProjectId(value='79f50802-708e-435c-bccc-f4482c6ded22'), project_name=Name(value='Project 1'), project_description=Description(value='Description 1'), project_tags=Tags(value=['tag1', 'tag2']), owner_id=UserId(value='fcf52ff6-3d50-43be-9e99-490b17861b50'), visibility=<Visibility.PRIVATE: 'private'>, created_at=DateTime(value=datetime.datetime(2024, 6, 17, 23, 1, 55, 34229, tzinfo=datetime.timezone(datetime.timedelta(seconds=7200)))), updated_at=DateTime(value=datetime.datetime(2024, 6, 17, 23, 1, 55, 34229, tzinfo=datetime.timezone(datetime.timedelta(seconds=7200))))),\n",
       " ProjectSummary(project_id=ProjectId(value='ddc68032-3812-4696-a165-504eaf559ab0'), project_name=Name(value='Project 2'), project_description=Description(value='Description 2'), project_tags=Tags(value=['tag2', 'tag3']), owner_id=UserId(value='6be4e8b3-62eb-499e-a579-97ee44beef09'), visibility=<Visibility.PRIVATE: 'private'>, created_at=DateTime(value=datetime.datetime(2024, 6, 17, 23, 1, 55, 36652, tzinfo=datetime.timezone(datetime.timedelta(seconds=7200)))), updated_at=DateTime(value=datetime.datetime(2024, 6, 17, 23, 1, 55, 36652, tzinfo=datetime.timezone(datetime.timedelta(seconds=7200))))),\n",
       " ProjectSummary(project_id=ProjectId(value='18074326-8321-4cca-b26a-1b4fe81dacfb'), project_name=Name(value='Project 3'), project_description=Description(value='Description 3'), project_tags=Tags(value=['tag3', 'tag4']), owner_id=UserId(value='1d213afe-fb44-4774-bb36-9792a0d88860'), visibility=<Visibility.PRIVATE: 'private'>, created_at=DateTime(value=datetime.datetime(2024, 6, 17, 23, 1, 55, 38930, tzinfo=datetime.timezone(datetime.timedelta(seconds=7200)))), updated_at=DateTime(value=datetime.datetime(2024, 6, 17, 23, 1, 55, 38930, tzinfo=datetime.timezone(datetime.timedelta(seconds=7200))))),\n",
       " ProjectSummary(project_id=ProjectId(value='c805c31e-90a9-471a-a81b-c72f74d4f7b2'), project_name=Name(value='Project 4'), project_description=Description(value='Description 4'), project_tags=Tags(value=['tag4', 'tag5']), owner_id=UserId(value='c352fa72-01d2-4d28-b7ba-a4dca2e5c08c'), visibility=<Visibility.PRIVATE: 'private'>, created_at=DateTime(value=datetime.datetime(2024, 6, 17, 23, 1, 55, 41737, tzinfo=datetime.timezone(datetime.timedelta(seconds=7200)))), updated_at=DateTime(value=datetime.datetime(2024, 6, 17, 23, 1, 55, 41737, tzinfo=datetime.timezone(datetime.timedelta(seconds=7200))))),\n",
       " ProjectSummary(project_id=ProjectId(value='34da131c-0233-4b68-b917-b214503ea409'), project_name=Name(value='Project 5'), project_description=Description(value='Description 5'), project_tags=Tags(value=['tag5', 'tag6']), owner_id=UserId(value='c211dc0d-33b0-463d-8121-43e4143d9955'), visibility=<Visibility.PRIVATE: 'private'>, created_at=DateTime(value=datetime.datetime(2024, 6, 17, 23, 1, 55, 44499, tzinfo=datetime.timezone(datetime.timedelta(seconds=7200)))), updated_at=DateTime(value=datetime.datetime(2024, 6, 17, 23, 1, 55, 44499, tzinfo=datetime.timezone(datetime.timedelta(seconds=7200))))),\n",
       " ProjectSummary(project_id=ProjectId(value='45a0788c-6018-4b76-88c6-bc67281dae75'), project_name=Name(value='Project 6'), project_description=Description(value='Description 6'), project_tags=Tags(value=['tag6', 'tag7']), owner_id=UserId(value='dcf82f39-d16a-4993-a2ef-903891dc4a02'), visibility=<Visibility.PRIVATE: 'private'>, created_at=DateTime(value=datetime.datetime(2024, 6, 17, 23, 1, 55, 47303, tzinfo=datetime.timezone(datetime.timedelta(seconds=7200)))), updated_at=DateTime(value=datetime.datetime(2024, 6, 17, 23, 1, 55, 47303, tzinfo=datetime.timezone(datetime.timedelta(seconds=7200))))),\n",
       " ProjectSummary(project_id=ProjectId(value='52e6bdd8-ef46-4e40-8e79-744571b66250'), project_name=Name(value='Project 7'), project_description=Description(value='Description 7'), project_tags=Tags(value=['tag7', 'tag8']), owner_id=UserId(value='e389a0f8-5d64-4338-a33d-6511056b3a54'), visibility=<Visibility.PRIVATE: 'private'>, created_at=DateTime(value=datetime.datetime(2024, 6, 17, 23, 1, 55, 50153, tzinfo=datetime.timezone(datetime.timedelta(seconds=7200)))), updated_at=DateTime(value=datetime.datetime(2024, 6, 17, 23, 1, 55, 50153, tzinfo=datetime.timezone(datetime.timedelta(seconds=7200))))),\n",
       " ProjectSummary(project_id=ProjectId(value='7bd3f854-5d55-4db7-952f-ea1146da3e93'), project_name=Name(value='Project 8'), project_description=Description(value='Description 8'), project_tags=Tags(value=['tag8', 'tag9']), owner_id=UserId(value='9bfe48d8-94ec-4b20-b167-199762392ae1'), visibility=<Visibility.PRIVATE: 'private'>, created_at=DateTime(value=datetime.datetime(2024, 6, 17, 23, 1, 55, 52979, tzinfo=datetime.timezone(datetime.timedelta(seconds=7200)))), updated_at=DateTime(value=datetime.datetime(2024, 6, 17, 23, 1, 55, 52979, tzinfo=datetime.timezone(datetime.timedelta(seconds=7200))))),\n",
       " ProjectSummary(project_id=ProjectId(value='ac1c7d8a-cd5e-435b-85c1-6629c5f51dfe'), project_name=Name(value='Project 9'), project_description=Description(value='Description 9'), project_tags=Tags(value=['tag9', 'tag10']), owner_id=UserId(value='18590012-8af5-49a2-9fdb-15718d8f5509'), visibility=<Visibility.PRIVATE: 'private'>, created_at=DateTime(value=datetime.datetime(2024, 6, 17, 23, 1, 55, 55879, tzinfo=datetime.timezone(datetime.timedelta(seconds=7200)))), updated_at=DateTime(value=datetime.datetime(2024, 6, 17, 23, 1, 55, 55879, tzinfo=datetime.timezone(datetime.timedelta(seconds=7200))))),\n",
       " ProjectSummary(project_id=ProjectId(value='0fcd57fc-9c50-42d5-8013-510be59e700a'), project_name=Name(value='Project 0'), project_description=Description(value='Description 0'), project_tags=Tags(value=['tag0', 'tag1']), owner_id=UserId(value='642d8464-5cea-4a03-a001-6e8ea9844055'), visibility=<Visibility.PRIVATE: 'private'>, created_at=DateTime(value=datetime.datetime(2024, 6, 17, 23, 4, 35, 387960, tzinfo=datetime.timezone(datetime.timedelta(seconds=7200)))), updated_at=DateTime(value=datetime.datetime(2024, 6, 17, 23, 4, 35, 387960, tzinfo=datetime.timezone(datetime.timedelta(seconds=7200))))),\n",
       " ProjectSummary(project_id=ProjectId(value='c1898d09-7a2e-40d3-bff9-4dbb6514b883'), project_name=Name(value='Project 1'), project_description=Description(value='Description 1'), project_tags=Tags(value=['tag1', 'tag2']), owner_id=UserId(value='b86d8e55-bafb-4ccb-928e-4ced6ea92c8b'), visibility=<Visibility.PRIVATE: 'private'>, created_at=DateTime(value=datetime.datetime(2024, 6, 17, 23, 4, 35, 392898, tzinfo=datetime.timezone(datetime.timedelta(seconds=7200)))), updated_at=DateTime(value=datetime.datetime(2024, 6, 17, 23, 4, 35, 392898, tzinfo=datetime.timezone(datetime.timedelta(seconds=7200))))),\n",
       " ProjectSummary(project_id=ProjectId(value='597dd703-8c10-46ec-a6f7-a186ba0c5964'), project_name=Name(value='Project 2'), project_description=Description(value='Description 2'), project_tags=Tags(value=['tag2', 'tag3']), owner_id=UserId(value='9982b748-ea64-4fee-b704-387c7c51e3db'), visibility=<Visibility.PRIVATE: 'private'>, created_at=DateTime(value=datetime.datetime(2024, 6, 17, 23, 4, 35, 395343, tzinfo=datetime.timezone(datetime.timedelta(seconds=7200)))), updated_at=DateTime(value=datetime.datetime(2024, 6, 17, 23, 4, 35, 395343, tzinfo=datetime.timezone(datetime.timedelta(seconds=7200))))),\n",
       " ProjectSummary(project_id=ProjectId(value='d9ceb32d-069b-430a-9cbb-a9083194f8d1'), project_name=Name(value='Project 3'), project_description=Description(value='Description 3'), project_tags=Tags(value=['tag3', 'tag4']), owner_id=UserId(value='44798d11-4696-4dae-86c1-06599618ecd5'), visibility=<Visibility.PRIVATE: 'private'>, created_at=DateTime(value=datetime.datetime(2024, 6, 17, 23, 4, 35, 397534, tzinfo=datetime.timezone(datetime.timedelta(seconds=7200)))), updated_at=DateTime(value=datetime.datetime(2024, 6, 17, 23, 4, 35, 397534, tzinfo=datetime.timezone(datetime.timedelta(seconds=7200))))),\n",
       " ProjectSummary(project_id=ProjectId(value='7fac2ff0-1845-47e3-9522-9132e51716f0'), project_name=Name(value='Project 4'), project_description=Description(value='Description 4'), project_tags=Tags(value=['tag4', 'tag5']), owner_id=UserId(value='55c73d0c-4d24-4bf1-ab1d-ecf87fba20da'), visibility=<Visibility.PRIVATE: 'private'>, created_at=DateTime(value=datetime.datetime(2024, 6, 17, 23, 4, 35, 399788, tzinfo=datetime.timezone(datetime.timedelta(seconds=7200)))), updated_at=DateTime(value=datetime.datetime(2024, 6, 17, 23, 4, 35, 399788, tzinfo=datetime.timezone(datetime.timedelta(seconds=7200))))),\n",
       " ProjectSummary(project_id=ProjectId(value='e7489cf4-6fab-4928-930b-32c436260cb3'), project_name=Name(value='Project 5'), project_description=Description(value='Description 5'), project_tags=Tags(value=['tag5', 'tag6']), owner_id=UserId(value='2e17f87c-3f72-49ec-892d-ff739e09f0dd'), visibility=<Visibility.PRIVATE: 'private'>, created_at=DateTime(value=datetime.datetime(2024, 6, 17, 23, 4, 35, 402310, tzinfo=datetime.timezone(datetime.timedelta(seconds=7200)))), updated_at=DateTime(value=datetime.datetime(2024, 6, 17, 23, 4, 35, 402310, tzinfo=datetime.timezone(datetime.timedelta(seconds=7200))))),\n",
       " ProjectSummary(project_id=ProjectId(value='ac4f67d0-3b32-4ad1-97d8-0ae97eb84707'), project_name=Name(value='Project 6'), project_description=Description(value='Description 6'), project_tags=Tags(value=['tag6', 'tag7']), owner_id=UserId(value='76efa2b6-9fbd-45d1-8f36-afa32fde3624'), visibility=<Visibility.PRIVATE: 'private'>, created_at=DateTime(value=datetime.datetime(2024, 6, 17, 23, 4, 35, 405075, tzinfo=datetime.timezone(datetime.timedelta(seconds=7200)))), updated_at=DateTime(value=datetime.datetime(2024, 6, 17, 23, 4, 35, 405075, tzinfo=datetime.timezone(datetime.timedelta(seconds=7200))))),\n",
       " ProjectSummary(project_id=ProjectId(value='28ad7efc-dfc4-48df-8005-903449908791'), project_name=Name(value='Project 7'), project_description=Description(value='Description 7'), project_tags=Tags(value=['tag7', 'tag8']), owner_id=UserId(value='76d8c0db-0c5b-4e11-86b8-26bc77132b08'), visibility=<Visibility.PRIVATE: 'private'>, created_at=DateTime(value=datetime.datetime(2024, 6, 17, 23, 4, 35, 407563, tzinfo=datetime.timezone(datetime.timedelta(seconds=7200)))), updated_at=DateTime(value=datetime.datetime(2024, 6, 17, 23, 4, 35, 407563, tzinfo=datetime.timezone(datetime.timedelta(seconds=7200))))),\n",
       " ProjectSummary(project_id=ProjectId(value='649d1b8d-6844-42a5-8c6f-b739f6308c36'), project_name=Name(value='Project 8'), project_description=Description(value='Description 8'), project_tags=Tags(value=['tag8', 'tag9']), owner_id=UserId(value='9842aa99-4ebf-451a-9202-81939f27274b'), visibility=<Visibility.PRIVATE: 'private'>, created_at=DateTime(value=datetime.datetime(2024, 6, 17, 23, 4, 35, 410115, tzinfo=datetime.timezone(datetime.timedelta(seconds=7200)))), updated_at=DateTime(value=datetime.datetime(2024, 6, 17, 23, 4, 35, 410115, tzinfo=datetime.timezone(datetime.timedelta(seconds=7200))))),\n",
       " ProjectSummary(project_id=ProjectId(value='76edcb1d-877f-4fe3-ad97-a93f79a583ff'), project_name=Name(value='Project 9'), project_description=Description(value='Description 9'), project_tags=Tags(value=['tag9', 'tag10']), owner_id=UserId(value='9413d1ef-6414-416a-8a83-1a0bd18b2f1e'), visibility=<Visibility.PRIVATE: 'private'>, created_at=DateTime(value=datetime.datetime(2024, 6, 17, 23, 4, 35, 412739, tzinfo=datetime.timezone(datetime.timedelta(seconds=7200)))), updated_at=DateTime(value=datetime.datetime(2024, 6, 17, 23, 4, 35, 412739, tzinfo=datetime.timezone(datetime.timedelta(seconds=7200))))),\n",
       " ProjectSummary(project_id=ProjectId(value='9dea4dfa-fee2-40fe-b35e-d728d5dea6f0'), project_name=Name(value='Project 0'), project_description=Description(value='Description 0'), project_tags=Tags(value=['tag0', 'tag1']), owner_id=UserId(value='a8e36764-bfb0-42c3-98a3-53a6bbaac4c2'), visibility=<Visibility.PRIVATE: 'private'>, created_at=DateTime(value=datetime.datetime(2024, 6, 17, 23, 4, 41, 442552, tzinfo=datetime.timezone(datetime.timedelta(seconds=7200)))), updated_at=DateTime(value=datetime.datetime(2024, 6, 17, 23, 4, 41, 442552, tzinfo=datetime.timezone(datetime.timedelta(seconds=7200))))),\n",
       " ProjectSummary(project_id=ProjectId(value='0c2f07e1-0235-4fd6-a69d-a29a8d0cb840'), project_name=Name(value='Project 1'), project_description=Description(value='Description 1'), project_tags=Tags(value=['tag1', 'tag2']), owner_id=UserId(value='a8de9d9a-3280-4078-b3f7-a441bc8e15b1'), visibility=<Visibility.PRIVATE: 'private'>, created_at=DateTime(value=datetime.datetime(2024, 6, 17, 23, 4, 41, 450827, tzinfo=datetime.timezone(datetime.timedelta(seconds=7200)))), updated_at=DateTime(value=datetime.datetime(2024, 6, 17, 23, 4, 41, 450827, tzinfo=datetime.timezone(datetime.timedelta(seconds=7200))))),\n",
       " ProjectSummary(project_id=ProjectId(value='76b5cb20-2dfa-4475-ae3f-b2b40c977518'), project_name=Name(value='Project 2'), project_description=Description(value='Description 2'), project_tags=Tags(value=['tag2', 'tag3']), owner_id=UserId(value='126ccf33-0b12-44b2-9c71-5ed5c2bc7e97'), visibility=<Visibility.PRIVATE: 'private'>, created_at=DateTime(value=datetime.datetime(2024, 6, 17, 23, 4, 41, 456011, tzinfo=datetime.timezone(datetime.timedelta(seconds=7200)))), updated_at=DateTime(value=datetime.datetime(2024, 6, 17, 23, 4, 41, 456011, tzinfo=datetime.timezone(datetime.timedelta(seconds=7200))))),\n",
       " ProjectSummary(project_id=ProjectId(value='e5b13887-d2c8-4e51-97f5-612dc032db70'), project_name=Name(value='Project 3'), project_description=Description(value='Description 3'), project_tags=Tags(value=['tag3', 'tag4']), owner_id=UserId(value='a23fa05d-20ec-4b56-a3b4-4a243346b237'), visibility=<Visibility.PRIVATE: 'private'>, created_at=DateTime(value=datetime.datetime(2024, 6, 17, 23, 4, 41, 461139, tzinfo=datetime.timezone(datetime.timedelta(seconds=7200)))), updated_at=DateTime(value=datetime.datetime(2024, 6, 17, 23, 4, 41, 461139, tzinfo=datetime.timezone(datetime.timedelta(seconds=7200))))),\n",
       " ProjectSummary(project_id=ProjectId(value='1c079fa8-a945-4db6-a14f-e0fd96933324'), project_name=Name(value='Project 4'), project_description=Description(value='Description 4'), project_tags=Tags(value=['tag4', 'tag5']), owner_id=UserId(value='776f5d70-2e2c-4516-823d-92e501111188'), visibility=<Visibility.PRIVATE: 'private'>, created_at=DateTime(value=datetime.datetime(2024, 6, 17, 23, 4, 41, 466361, tzinfo=datetime.timezone(datetime.timedelta(seconds=7200)))), updated_at=DateTime(value=datetime.datetime(2024, 6, 17, 23, 4, 41, 466361, tzinfo=datetime.timezone(datetime.timedelta(seconds=7200))))),\n",
       " ProjectSummary(project_id=ProjectId(value='e098fc94-6fa3-485e-bcd3-0e986c81f713'), project_name=Name(value='Project 5'), project_description=Description(value='Description 5'), project_tags=Tags(value=['tag5', 'tag6']), owner_id=UserId(value='8e51c019-31d2-4d0b-b389-73706e17596c'), visibility=<Visibility.PRIVATE: 'private'>, created_at=DateTime(value=datetime.datetime(2024, 6, 17, 23, 4, 41, 470824, tzinfo=datetime.timezone(datetime.timedelta(seconds=7200)))), updated_at=DateTime(value=datetime.datetime(2024, 6, 17, 23, 4, 41, 470824, tzinfo=datetime.timezone(datetime.timedelta(seconds=7200))))),\n",
       " ProjectSummary(project_id=ProjectId(value='c5e10006-1db2-428c-8e3b-bb1a06ae4c02'), project_name=Name(value='Project 6'), project_description=Description(value='Description 6'), project_tags=Tags(value=['tag6', 'tag7']), owner_id=UserId(value='9ac72d04-8a43-472e-a5fa-1f46b21f3092'), visibility=<Visibility.PRIVATE: 'private'>, created_at=DateTime(value=datetime.datetime(2024, 6, 17, 23, 4, 41, 475118, tzinfo=datetime.timezone(datetime.timedelta(seconds=7200)))), updated_at=DateTime(value=datetime.datetime(2024, 6, 17, 23, 4, 41, 475118, tzinfo=datetime.timezone(datetime.timedelta(seconds=7200))))),\n",
       " ProjectSummary(project_id=ProjectId(value='b32359d3-94a1-4059-98fe-e967796e1e5e'), project_name=Name(value='Project 7'), project_description=Description(value='Description 7'), project_tags=Tags(value=['tag7', 'tag8']), owner_id=UserId(value='d01efcd1-bde7-4580-989e-07a4b8793eda'), visibility=<Visibility.PRIVATE: 'private'>, created_at=DateTime(value=datetime.datetime(2024, 6, 17, 23, 4, 41, 479666, tzinfo=datetime.timezone(datetime.timedelta(seconds=7200)))), updated_at=DateTime(value=datetime.datetime(2024, 6, 17, 23, 4, 41, 479666, tzinfo=datetime.timezone(datetime.timedelta(seconds=7200))))),\n",
       " ProjectSummary(project_id=ProjectId(value='da6fbf9b-ec9e-43e7-84f9-df95ba94449a'), project_name=Name(value='Project 8'), project_description=Description(value='Description 8'), project_tags=Tags(value=['tag8', 'tag9']), owner_id=UserId(value='ce2ded15-97d3-4b16-b2e8-93c5345b4e5d'), visibility=<Visibility.PRIVATE: 'private'>, created_at=DateTime(value=datetime.datetime(2024, 6, 17, 23, 4, 41, 483864, tzinfo=datetime.timezone(datetime.timedelta(seconds=7200)))), updated_at=DateTime(value=datetime.datetime(2024, 6, 17, 23, 4, 41, 483864, tzinfo=datetime.timezone(datetime.timedelta(seconds=7200))))),\n",
       " ProjectSummary(project_id=ProjectId(value='a3bbd87e-7a46-40a4-9680-bde7d8969568'), project_name=Name(value='Project 9'), project_description=Description(value='Description 9'), project_tags=Tags(value=['tag9', 'tag10']), owner_id=UserId(value='314582cb-3bea-48b4-92c9-3132d5152199'), visibility=<Visibility.PRIVATE: 'private'>, created_at=DateTime(value=datetime.datetime(2024, 6, 17, 23, 4, 41, 487440, tzinfo=datetime.timezone(datetime.timedelta(seconds=7200)))), updated_at=DateTime(value=datetime.datetime(2024, 6, 17, 23, 4, 41, 487440, tzinfo=datetime.timezone(datetime.timedelta(seconds=7200))))),\n",
       " ProjectSummary(project_id=ProjectId(value='308f34fa-0d6d-4174-96fe-ea022e77252c'), project_name=Name(value='Project 0'), project_description=Description(value='Description 0'), project_tags=Tags(value=['tag0', 'tag1']), owner_id=UserId(value='4d37c260-9c00-4f03-9693-84ec26832485'), visibility=<Visibility.PRIVATE: 'private'>, created_at=DateTime(value=datetime.datetime(2024, 6, 17, 23, 5, 42, 547951, tzinfo=datetime.timezone(datetime.timedelta(seconds=7200)))), updated_at=DateTime(value=datetime.datetime(2024, 6, 17, 23, 5, 42, 547951, tzinfo=datetime.timezone(datetime.timedelta(seconds=7200))))),\n",
       " ProjectSummary(project_id=ProjectId(value='823cad55-e4cf-4564-9546-0026fa68f929'), project_name=Name(value='Project 1'), project_description=Description(value='Description 1'), project_tags=Tags(value=['tag1', 'tag2']), owner_id=UserId(value='7eafce3d-7250-435a-935b-61db88698798'), visibility=<Visibility.PRIVATE: 'private'>, created_at=DateTime(value=datetime.datetime(2024, 6, 17, 23, 5, 42, 558116, tzinfo=datetime.timezone(datetime.timedelta(seconds=7200)))), updated_at=DateTime(value=datetime.datetime(2024, 6, 17, 23, 5, 42, 558116, tzinfo=datetime.timezone(datetime.timedelta(seconds=7200))))),\n",
       " ProjectSummary(project_id=ProjectId(value='1dfe5314-5aaa-4f71-9d2d-dd455ae01cc4'), project_name=Name(value='Project 2'), project_description=Description(value='Description 2'), project_tags=Tags(value=['tag2', 'tag3']), owner_id=UserId(value='b45c9ccb-913d-44c8-90cf-40cd223c0e79'), visibility=<Visibility.PRIVATE: 'private'>, created_at=DateTime(value=datetime.datetime(2024, 6, 17, 23, 5, 42, 560904, tzinfo=datetime.timezone(datetime.timedelta(seconds=7200)))), updated_at=DateTime(value=datetime.datetime(2024, 6, 17, 23, 5, 42, 560904, tzinfo=datetime.timezone(datetime.timedelta(seconds=7200))))),\n",
       " ProjectSummary(project_id=ProjectId(value='ccbcfa97-e0c1-4fda-82c8-97dcff15b74b'), project_name=Name(value='Project 3'), project_description=Description(value='Description 3'), project_tags=Tags(value=['tag3', 'tag4']), owner_id=UserId(value='c329cb84-d723-4b70-84f0-0f7a20be9bf0'), visibility=<Visibility.PRIVATE: 'private'>, created_at=DateTime(value=datetime.datetime(2024, 6, 17, 23, 5, 42, 563733, tzinfo=datetime.timezone(datetime.timedelta(seconds=7200)))), updated_at=DateTime(value=datetime.datetime(2024, 6, 17, 23, 5, 42, 563733, tzinfo=datetime.timezone(datetime.timedelta(seconds=7200))))),\n",
       " ProjectSummary(project_id=ProjectId(value='305c3575-025f-411b-8707-bd63f95fa669'), project_name=Name(value='Project 4'), project_description=Description(value='Description 4'), project_tags=Tags(value=['tag4', 'tag5']), owner_id=UserId(value='acb33fa9-f2c7-45c0-92ba-e21becb133c7'), visibility=<Visibility.PRIVATE: 'private'>, created_at=DateTime(value=datetime.datetime(2024, 6, 17, 23, 5, 42, 565863, tzinfo=datetime.timezone(datetime.timedelta(seconds=7200)))), updated_at=DateTime(value=datetime.datetime(2024, 6, 17, 23, 5, 42, 565863, tzinfo=datetime.timezone(datetime.timedelta(seconds=7200))))),\n",
       " ProjectSummary(project_id=ProjectId(value='7f450df7-75b0-4799-93d4-d89a41279844'), project_name=Name(value='Project 5'), project_description=Description(value='Description 5'), project_tags=Tags(value=['tag5', 'tag6']), owner_id=UserId(value='7145f84b-9e8f-4273-b25c-d6a70704a57f'), visibility=<Visibility.PRIVATE: 'private'>, created_at=DateTime(value=datetime.datetime(2024, 6, 17, 23, 5, 42, 568231, tzinfo=datetime.timezone(datetime.timedelta(seconds=7200)))), updated_at=DateTime(value=datetime.datetime(2024, 6, 17, 23, 5, 42, 568231, tzinfo=datetime.timezone(datetime.timedelta(seconds=7200))))),\n",
       " ProjectSummary(project_id=ProjectId(value='ad999b88-6683-456d-96fe-06070e962bb7'), project_name=Name(value='Project 6'), project_description=Description(value='Description 6'), project_tags=Tags(value=['tag6', 'tag7']), owner_id=UserId(value='efb20e3a-731f-4a68-bddf-d220f66eb37a'), visibility=<Visibility.PRIVATE: 'private'>, created_at=DateTime(value=datetime.datetime(2024, 6, 17, 23, 5, 42, 570778, tzinfo=datetime.timezone(datetime.timedelta(seconds=7200)))), updated_at=DateTime(value=datetime.datetime(2024, 6, 17, 23, 5, 42, 570778, tzinfo=datetime.timezone(datetime.timedelta(seconds=7200))))),\n",
       " ProjectSummary(project_id=ProjectId(value='ad8b02fb-c85b-405d-9888-f7b5cec1a8a6'), project_name=Name(value='Project 7'), project_description=Description(value='Description 7'), project_tags=Tags(value=['tag7', 'tag8']), owner_id=UserId(value='9d16056e-96a3-496c-b7d5-05e02093e1ab'), visibility=<Visibility.PRIVATE: 'private'>, created_at=DateTime(value=datetime.datetime(2024, 6, 17, 23, 5, 42, 573459, tzinfo=datetime.timezone(datetime.timedelta(seconds=7200)))), updated_at=DateTime(value=datetime.datetime(2024, 6, 17, 23, 5, 42, 573459, tzinfo=datetime.timezone(datetime.timedelta(seconds=7200))))),\n",
       " ProjectSummary(project_id=ProjectId(value='cb43bcbf-e699-486b-aec6-97466a1dd2ea'), project_name=Name(value='Project 8'), project_description=Description(value='Description 8'), project_tags=Tags(value=['tag8', 'tag9']), owner_id=UserId(value='8e97d094-7798-49d4-8f04-439e7f83062a'), visibility=<Visibility.PRIVATE: 'private'>, created_at=DateTime(value=datetime.datetime(2024, 6, 17, 23, 5, 42, 576085, tzinfo=datetime.timezone(datetime.timedelta(seconds=7200)))), updated_at=DateTime(value=datetime.datetime(2024, 6, 17, 23, 5, 42, 576085, tzinfo=datetime.timezone(datetime.timedelta(seconds=7200))))),\n",
       " ProjectSummary(project_id=ProjectId(value='9b79ddfe-f7a9-40bc-b3bf-dd66767c3afc'), project_name=Name(value='Project 9'), project_description=Description(value='Description 9'), project_tags=Tags(value=['tag9', 'tag10']), owner_id=UserId(value='6751befa-fb91-416b-8877-c6bf11dafb59'), visibility=<Visibility.PRIVATE: 'private'>, created_at=DateTime(value=datetime.datetime(2024, 6, 17, 23, 5, 42, 578910, tzinfo=datetime.timezone(datetime.timedelta(seconds=7200)))), updated_at=DateTime(value=datetime.datetime(2024, 6, 17, 23, 5, 42, 578910, tzinfo=datetime.timezone(datetime.timedelta(seconds=7200))))),\n",
       " ProjectSummary(project_id=ProjectId(value='cfc17490-a236-44e1-a7ec-fb8e2d68b352'), project_name=Name(value='Rio Primero 123'), project_description=Description(value='Rio Primero Project in Argentina'), project_tags=Tags(value=['rio primero', 'argentina']), owner_id=UserId(value='3c1d3aa6-9c39-4107-9b5e-c142dc4ddd24'), visibility=<Visibility.PRIVATE: 'private'>, created_at=DateTime(value=datetime.datetime(2024, 6, 17, 23, 6, 21, 8439, tzinfo=datetime.timezone(datetime.timedelta(seconds=7200)))), updated_at=DateTime(value=datetime.datetime(2024, 6, 17, 23, 6, 21, 8439, tzinfo=datetime.timezone(datetime.timedelta(seconds=7200))))),\n",
       " ProjectSummary(project_id=ProjectId(value='0eacefc0-3057-494c-ad76-fcdb470fdb32'), project_name=Name(value='Project 0'), project_description=Description(value='Description 0'), project_tags=Tags(value=['tag0', 'tag1']), owner_id=UserId(value='5e594af9-2ce0-43e6-ac01-732f3ed584da'), visibility=<Visibility.PRIVATE: 'private'>, created_at=DateTime(value=datetime.datetime(2024, 6, 17, 23, 7, 0, 659873, tzinfo=datetime.timezone(datetime.timedelta(seconds=7200)))), updated_at=DateTime(value=datetime.datetime(2024, 6, 17, 23, 7, 0, 659873, tzinfo=datetime.timezone(datetime.timedelta(seconds=7200))))),\n",
       " ProjectSummary(project_id=ProjectId(value='49366852-238b-4b9c-8ea8-5ca8e90378c2'), project_name=Name(value='Project 1'), project_description=Description(value='Description 1'), project_tags=Tags(value=['tag1', 'tag2']), owner_id=UserId(value='e10b1203-9cda-4841-84a9-ee1168d787e4'), visibility=<Visibility.PRIVATE: 'private'>, created_at=DateTime(value=datetime.datetime(2024, 6, 17, 23, 7, 0, 667520, tzinfo=datetime.timezone(datetime.timedelta(seconds=7200)))), updated_at=DateTime(value=datetime.datetime(2024, 6, 17, 23, 7, 0, 667520, tzinfo=datetime.timezone(datetime.timedelta(seconds=7200))))),\n",
       " ProjectSummary(project_id=ProjectId(value='0166be68-5734-429b-9090-169a674a6e4d'), project_name=Name(value='Project 2'), project_description=Description(value='Description 2'), project_tags=Tags(value=['tag2', 'tag3']), owner_id=UserId(value='e7df7dc9-c5a0-4dcd-952c-a53a7230261c'), visibility=<Visibility.PRIVATE: 'private'>, created_at=DateTime(value=datetime.datetime(2024, 6, 17, 23, 7, 0, 672094, tzinfo=datetime.timezone(datetime.timedelta(seconds=7200)))), updated_at=DateTime(value=datetime.datetime(2024, 6, 17, 23, 7, 0, 672094, tzinfo=datetime.timezone(datetime.timedelta(seconds=7200))))),\n",
       " ProjectSummary(project_id=ProjectId(value='cd076f92-f809-44a8-9590-4147ca83875d'), project_name=Name(value='Project 3'), project_description=Description(value='Description 3'), project_tags=Tags(value=['tag3', 'tag4']), owner_id=UserId(value='c0bf5b39-628d-47b4-8e48-c96afc373e59'), visibility=<Visibility.PRIVATE: 'private'>, created_at=DateTime(value=datetime.datetime(2024, 6, 17, 23, 7, 0, 675068, tzinfo=datetime.timezone(datetime.timedelta(seconds=7200)))), updated_at=DateTime(value=datetime.datetime(2024, 6, 17, 23, 7, 0, 675068, tzinfo=datetime.timezone(datetime.timedelta(seconds=7200))))),\n",
       " ProjectSummary(project_id=ProjectId(value='180493e7-1708-40d8-886d-a41254892c4f'), project_name=Name(value='Project 4'), project_description=Description(value='Description 4'), project_tags=Tags(value=['tag4', 'tag5']), owner_id=UserId(value='4505a64b-440b-4efc-9f95-4ce2159c9f05'), visibility=<Visibility.PRIVATE: 'private'>, created_at=DateTime(value=datetime.datetime(2024, 6, 17, 23, 7, 0, 677585, tzinfo=datetime.timezone(datetime.timedelta(seconds=7200)))), updated_at=DateTime(value=datetime.datetime(2024, 6, 17, 23, 7, 0, 677585, tzinfo=datetime.timezone(datetime.timedelta(seconds=7200))))),\n",
       " ProjectSummary(project_id=ProjectId(value='ea4bd668-0f96-46d2-8ff5-af89d8e4b79f'), project_name=Name(value='Project 5'), project_description=Description(value='Description 5'), project_tags=Tags(value=['tag5', 'tag6']), owner_id=UserId(value='97bfab0d-4047-489b-8d4f-9c78799714d0'), visibility=<Visibility.PRIVATE: 'private'>, created_at=DateTime(value=datetime.datetime(2024, 6, 17, 23, 7, 0, 680035, tzinfo=datetime.timezone(datetime.timedelta(seconds=7200)))), updated_at=DateTime(value=datetime.datetime(2024, 6, 17, 23, 7, 0, 680035, tzinfo=datetime.timezone(datetime.timedelta(seconds=7200))))),\n",
       " ProjectSummary(project_id=ProjectId(value='44b584de-7737-4d3f-86e5-5101a0c8d7e5'), project_name=Name(value='Project 6'), project_description=Description(value='Description 6'), project_tags=Tags(value=['tag6', 'tag7']), owner_id=UserId(value='da11effd-0be1-4fab-8e7e-2540d65fc851'), visibility=<Visibility.PRIVATE: 'private'>, created_at=DateTime(value=datetime.datetime(2024, 6, 17, 23, 7, 0, 682532, tzinfo=datetime.timezone(datetime.timedelta(seconds=7200)))), updated_at=DateTime(value=datetime.datetime(2024, 6, 17, 23, 7, 0, 682532, tzinfo=datetime.timezone(datetime.timedelta(seconds=7200))))),\n",
       " ProjectSummary(project_id=ProjectId(value='db449944-9aa3-416f-90a0-e9c74456c23e'), project_name=Name(value='Project 7'), project_description=Description(value='Description 7'), project_tags=Tags(value=['tag7', 'tag8']), owner_id=UserId(value='6dc7c0e2-8894-4776-8612-f339b872cbd7'), visibility=<Visibility.PRIVATE: 'private'>, created_at=DateTime(value=datetime.datetime(2024, 6, 17, 23, 7, 0, 684951, tzinfo=datetime.timezone(datetime.timedelta(seconds=7200)))), updated_at=DateTime(value=datetime.datetime(2024, 6, 17, 23, 7, 0, 684951, tzinfo=datetime.timezone(datetime.timedelta(seconds=7200))))),\n",
       " ProjectSummary(project_id=ProjectId(value='9923b06f-4344-4738-bbbb-27d248baa991'), project_name=Name(value='Project 8'), project_description=Description(value='Description 8'), project_tags=Tags(value=['tag8', 'tag9']), owner_id=UserId(value='06675825-a981-4900-86f0-2afadbaebaf7'), visibility=<Visibility.PRIVATE: 'private'>, created_at=DateTime(value=datetime.datetime(2024, 6, 17, 23, 7, 0, 687391, tzinfo=datetime.timezone(datetime.timedelta(seconds=7200)))), updated_at=DateTime(value=datetime.datetime(2024, 6, 17, 23, 7, 0, 687391, tzinfo=datetime.timezone(datetime.timedelta(seconds=7200))))),\n",
       " ProjectSummary(project_id=ProjectId(value='d4c078aa-0368-4c66-aac3-8d246c659225'), project_name=Name(value='Project 9'), project_description=Description(value='Description 9'), project_tags=Tags(value=['tag9', 'tag10']), owner_id=UserId(value='87428be4-b35a-4de3-b897-dc6a98b29b23'), visibility=<Visibility.PRIVATE: 'private'>, created_at=DateTime(value=datetime.datetime(2024, 6, 17, 23, 7, 0, 689775, tzinfo=datetime.timezone(datetime.timedelta(seconds=7200)))), updated_at=DateTime(value=datetime.datetime(2024, 6, 17, 23, 7, 0, 689775, tzinfo=datetime.timezone(datetime.timedelta(seconds=7200))))),\n",
       " ProjectSummary(project_id=ProjectId(value='59d1116d-f9eb-482a-a62d-2e5a870530eb'), project_name=Name(value='Project 1'), project_description=Description(value='Description 1'), project_tags=Tags(value=['tag1', 'tag2']), owner_id=UserId(value='53d277d1-a239-4e2f-b54e-8c399e8774b9'), visibility=<Visibility.PRIVATE: 'private'>, created_at=DateTime(value=datetime.datetime(2024, 6, 17, 23, 7, 7, 822319, tzinfo=datetime.timezone(datetime.timedelta(seconds=7200)))), updated_at=DateTime(value=datetime.datetime(2024, 6, 17, 23, 7, 7, 822319, tzinfo=datetime.timezone(datetime.timedelta(seconds=7200))))),\n",
       " ProjectSummary(project_id=ProjectId(value='d3cb6206-cdbc-4ab0-bb2f-3709f1643712'), project_name=Name(value='Rio Primero 123'), project_description=Description(value='Rio Primero Project in Argentina'), project_tags=Tags(value=['rio primero', 'argentina']), owner_id=UserId(value='9b301669-4f35-4545-8582-e3579c13f50b'), visibility=<Visibility.PRIVATE: 'private'>, created_at=DateTime(value=datetime.datetime(2024, 6, 17, 23, 18, 34, 971655, tzinfo=datetime.timezone(datetime.timedelta(seconds=7200)))), updated_at=DateTime(value=datetime.datetime(2024, 6, 17, 23, 18, 34, 971655, tzinfo=datetime.timezone(datetime.timedelta(seconds=7200))))),\n",
       " ProjectSummary(project_id=ProjectId(value='4e186034-f589-47e7-843f-6a3c44d89068'), project_name=Name(value='Project 0'), project_description=Description(value='Description 0'), project_tags=Tags(value=['tag0', 'tag1']), owner_id=UserId(value='520b5f23-e39b-4f05-8262-e5cbd8b0bbe5'), visibility=<Visibility.PRIVATE: 'private'>, created_at=DateTime(value=datetime.datetime(2024, 6, 17, 23, 19, 13, 927496, tzinfo=datetime.timezone(datetime.timedelta(seconds=7200)))), updated_at=DateTime(value=datetime.datetime(2024, 6, 17, 23, 19, 13, 927496, tzinfo=datetime.timezone(datetime.timedelta(seconds=7200))))),\n",
       " ProjectSummary(project_id=ProjectId(value='aba437e9-0ef1-4c96-a7cf-e45f8d8c328d'), project_name=Name(value='Project 1'), project_description=Description(value='Description 1'), project_tags=Tags(value=['tag1', 'tag2']), owner_id=UserId(value='6d8a0dc7-6cfe-4853-be57-dc1c2bb3915b'), visibility=<Visibility.PRIVATE: 'private'>, created_at=DateTime(value=datetime.datetime(2024, 6, 17, 23, 19, 13, 935179, tzinfo=datetime.timezone(datetime.timedelta(seconds=7200)))), updated_at=DateTime(value=datetime.datetime(2024, 6, 17, 23, 19, 13, 935179, tzinfo=datetime.timezone(datetime.timedelta(seconds=7200))))),\n",
       " ProjectSummary(project_id=ProjectId(value='4d8325e6-2355-4773-bd18-c323f71dafc3'), project_name=Name(value='Project 2'), project_description=Description(value='Description 2'), project_tags=Tags(value=['tag2', 'tag3']), owner_id=UserId(value='e31ce40a-b510-42fb-8d27-a543aa78cfe3'), visibility=<Visibility.PRIVATE: 'private'>, created_at=DateTime(value=datetime.datetime(2024, 6, 17, 23, 19, 13, 939772, tzinfo=datetime.timezone(datetime.timedelta(seconds=7200)))), updated_at=DateTime(value=datetime.datetime(2024, 6, 17, 23, 19, 13, 939772, tzinfo=datetime.timezone(datetime.timedelta(seconds=7200))))),\n",
       " ProjectSummary(project_id=ProjectId(value='7b4b15e2-0992-4d2c-9b98-bb0330361ac0'), project_name=Name(value='Project 3'), project_description=Description(value='Description 3'), project_tags=Tags(value=['tag3', 'tag4']), owner_id=UserId(value='dafbc7c7-1979-4172-8e73-acdfa47ef493'), visibility=<Visibility.PRIVATE: 'private'>, created_at=DateTime(value=datetime.datetime(2024, 6, 17, 23, 19, 13, 942591, tzinfo=datetime.timezone(datetime.timedelta(seconds=7200)))), updated_at=DateTime(value=datetime.datetime(2024, 6, 17, 23, 19, 13, 942591, tzinfo=datetime.timezone(datetime.timedelta(seconds=7200))))),\n",
       " ProjectSummary(project_id=ProjectId(value='8ec1ea02-ccd5-41b2-a649-72e85d712484'), project_name=Name(value='Project 4'), project_description=Description(value='Description 4'), project_tags=Tags(value=['tag4', 'tag5']), owner_id=UserId(value='b7c5c999-36f7-4b43-94f9-b903017eb677'), visibility=<Visibility.PRIVATE: 'private'>, created_at=DateTime(value=datetime.datetime(2024, 6, 17, 23, 19, 13, 945165, tzinfo=datetime.timezone(datetime.timedelta(seconds=7200)))), updated_at=DateTime(value=datetime.datetime(2024, 6, 17, 23, 19, 13, 945165, tzinfo=datetime.timezone(datetime.timedelta(seconds=7200))))),\n",
       " ProjectSummary(project_id=ProjectId(value='f4abbf86-da48-42ee-b93c-e5287c615102'), project_name=Name(value='Project 5'), project_description=Description(value='Description 5'), project_tags=Tags(value=['tag5', 'tag6']), owner_id=UserId(value='49bff247-85ff-49b8-966d-33a29b80de89'), visibility=<Visibility.PRIVATE: 'private'>, created_at=DateTime(value=datetime.datetime(2024, 6, 17, 23, 19, 13, 947623, tzinfo=datetime.timezone(datetime.timedelta(seconds=7200)))), updated_at=DateTime(value=datetime.datetime(2024, 6, 17, 23, 19, 13, 947623, tzinfo=datetime.timezone(datetime.timedelta(seconds=7200))))),\n",
       " ProjectSummary(project_id=ProjectId(value='9cd669cc-597e-4b76-810f-56ed28bd939e'), project_name=Name(value='Project 6'), project_description=Description(value='Description 6'), project_tags=Tags(value=['tag6', 'tag7']), owner_id=UserId(value='28b68a1c-8c8f-4f11-bd60-b6d25dbc5781'), visibility=<Visibility.PRIVATE: 'private'>, created_at=DateTime(value=datetime.datetime(2024, 6, 17, 23, 19, 13, 950157, tzinfo=datetime.timezone(datetime.timedelta(seconds=7200)))), updated_at=DateTime(value=datetime.datetime(2024, 6, 17, 23, 19, 13, 950157, tzinfo=datetime.timezone(datetime.timedelta(seconds=7200))))),\n",
       " ProjectSummary(project_id=ProjectId(value='913a5aa3-d3b9-4fa3-ab42-1c95d6d28d02'), project_name=Name(value='Project 7'), project_description=Description(value='Description 7'), project_tags=Tags(value=['tag7', 'tag8']), owner_id=UserId(value='217ab21e-fb15-47e5-9291-bb9744ab2526'), visibility=<Visibility.PRIVATE: 'private'>, created_at=DateTime(value=datetime.datetime(2024, 6, 17, 23, 19, 13, 952511, tzinfo=datetime.timezone(datetime.timedelta(seconds=7200)))), updated_at=DateTime(value=datetime.datetime(2024, 6, 17, 23, 19, 13, 952511, tzinfo=datetime.timezone(datetime.timedelta(seconds=7200))))),\n",
       " ProjectSummary(project_id=ProjectId(value='348826e8-8648-485f-b6a6-3cb18349a6e6'), project_name=Name(value='Project 8'), project_description=Description(value='Description 8'), project_tags=Tags(value=['tag8', 'tag9']), owner_id=UserId(value='5e1d57db-9ad1-48ca-a38b-71f1603c2a30'), visibility=<Visibility.PRIVATE: 'private'>, created_at=DateTime(value=datetime.datetime(2024, 6, 17, 23, 19, 13, 954906, tzinfo=datetime.timezone(datetime.timedelta(seconds=7200)))), updated_at=DateTime(value=datetime.datetime(2024, 6, 17, 23, 19, 13, 954906, tzinfo=datetime.timezone(datetime.timedelta(seconds=7200))))),\n",
       " ProjectSummary(project_id=ProjectId(value='1d78c230-868e-440e-8a00-5fd7feb9a78b'), project_name=Name(value='Project 9'), project_description=Description(value='Description 9'), project_tags=Tags(value=['tag9', 'tag10']), owner_id=UserId(value='b3108401-1d17-4f08-8609-66df5d627a44'), visibility=<Visibility.PRIVATE: 'private'>, created_at=DateTime(value=datetime.datetime(2024, 6, 17, 23, 19, 13, 957226, tzinfo=datetime.timezone(datetime.timedelta(seconds=7200)))), updated_at=DateTime(value=datetime.datetime(2024, 6, 17, 23, 19, 13, 957226, tzinfo=datetime.timezone(datetime.timedelta(seconds=7200))))),\n",
       " ProjectSummary(project_id=ProjectId(value='f4ccb059-ad95-451b-b253-296ffbf3e728'), project_name=Name(value='Project 1'), project_description=Description(value='Description 1'), project_tags=Tags(value=['tag1', 'tag2']), owner_id=UserId(value='2a00a271-9621-421e-8233-cd5fe5c1873e'), visibility=<Visibility.PRIVATE: 'private'>, created_at=DateTime(value=datetime.datetime(2024, 6, 17, 23, 19, 21, 559702)), updated_at=DateTime(value=datetime.datetime(2024, 6, 17, 23, 19, 21, 559702)))]"
      ]
     },
     "execution_count": 3,
     "metadata": {},
     "output_type": "execute_result"
    }
   ],
   "source": [
    "from morpheus.project.application.read.ProjectReader import project_reader\n",
    "\n",
    "project_list = project_reader.get_project_summaries()\n",
    "project_list"
   ]
  },
  {
   "cell_type": "markdown",
   "id": "22380477da429c5d",
   "metadata": {
    "collapsed": false,
    "papermill": {
     "duration": 0.00268,
     "end_time": "2024-06-17T21:19:21.595973",
     "exception": false,
     "start_time": "2024-06-17T21:19:21.593293",
     "status": "completed"
    },
    "tags": []
   },
   "source": [
    "# Create model"
   ]
  },
  {
   "cell_type": "code",
   "execution_count": 4,
   "id": "7db50a89dc6391e5",
   "metadata": {
    "ExecuteTime": {
     "end_time": "2024-06-17T20:53:15.163645Z",
     "start_time": "2024-06-17T20:53:14.854131Z"
    },
    "collapsed": false,
    "execution": {
     "iopub.execute_input": "2024-06-17T21:19:21.601687Z",
     "iopub.status.busy": "2024-06-17T21:19:21.601587Z",
     "iopub.status.idle": "2024-06-17T21:19:21.894416Z",
     "shell.execute_reply": "2024-06-17T21:19:21.894114Z"
    },
    "papermill": {
     "duration": 0.296865,
     "end_time": "2024-06-17T21:19:21.895466",
     "exception": false,
     "start_time": "2024-06-17T21:19:21.598601",
     "status": "completed"
    },
    "tags": []
   },
   "outputs": [],
   "source": [
    "from morpheus.project.types.discretization.spatial import Rotation\n",
    "from morpheus.project.types.geometry import Polygon\n",
    "from morpheus.project.types.Model import ModelId\n",
    "from morpheus.project.application.write.Model import CreateModelCommand\n",
    "\n",
    "polygon = Polygon(\n",
    "  type='Polygon',\n",
    "  coordinates=[[\n",
    "    (13.922514437551428, 50.964720483303836),\n",
    "    (13.925250781947113, 50.965228748412386),\n",
    "    (13.925036413951403, 50.96623732041704),\n",
    "    (13.92222441026388, 50.96629040370362),\n",
    "    (13.922514437551428, 50.964720483303836)\n",
    "  ]]\n",
    ")\n",
    "\n",
    "n_cols = 100\n",
    "n_rows = 50\n",
    "rotation = 0.0\n",
    "\n",
    "command = CreateModelCommand(\n",
    "  project_id=project_id,\n",
    "  user_id=user_id,\n",
    "  model_id=ModelId.new(),\n",
    "  geometry=polygon,\n",
    "  n_cols=n_cols,\n",
    "  n_rows=n_rows,\n",
    "  rotation=Rotation.from_float(rotation),\n",
    ")\n",
    "\n",
    "project_command_bus.dispatch(command)"
   ]
  },
  {
   "cell_type": "markdown",
   "id": "cde69ee770d30fc1",
   "metadata": {
    "collapsed": false,
    "papermill": {
     "duration": 0.002856,
     "end_time": "2024-06-17T21:19:21.901543",
     "exception": false,
     "start_time": "2024-06-17T21:19:21.898687",
     "status": "completed"
    },
    "tags": []
   },
   "source": [
    "# Read Latest Model"
   ]
  },
  {
   "cell_type": "code",
   "execution_count": 5,
   "id": "d2717a59e00a53d1",
   "metadata": {
    "ExecuteTime": {
     "end_time": "2024-06-17T20:53:15.176787Z",
     "start_time": "2024-06-17T20:53:15.164307Z"
    },
    "collapsed": false,
    "execution": {
     "iopub.execute_input": "2024-06-17T21:19:21.908012Z",
     "iopub.status.busy": "2024-06-17T21:19:21.907802Z",
     "iopub.status.idle": "2024-06-17T21:19:21.918945Z",
     "shell.execute_reply": "2024-06-17T21:19:21.918517Z"
    },
    "papermill": {
     "duration": 0.015732,
     "end_time": "2024-06-17T21:19:21.920085",
     "exception": false,
     "start_time": "2024-06-17T21:19:21.904353",
     "status": "completed"
    },
    "tags": []
   },
   "outputs": [
    {
     "data": {
      "text/plain": [
       "Model(model_id=ModelId(value='84c2dfe7-ba96-4aa0-955e-ecb5c5ed76fb'), spatial_discretization=SpatialDiscretization(geometry=Polygon(coordinates=[[[13.922514437551428, 50.964720483303836], [13.925250781947113, 50.965228748412386], [13.925036413951403, 50.96623732041704], [13.92222441026388, 50.96629040370362], [13.922514437551428, 50.964720483303836]]], type='Polygon'), grid=Grid(origin=Point(coordinates=[13.922224410263878, 50.9662904037036], type='Point'), col_widths=[3.3689415472885593, 3.3689415472885593, 3.3689415472885598, 3.368941547288559, 3.368941547288559, 3.3689415472885607, 3.3689415472885607, 3.368941547288557, 3.368941547288557, 3.3689415472885607, 3.368941547288564, 3.368941547288557, 3.368941547288557, 3.368941547288564, 3.368941547288557, 3.368941547288557, 3.368941547288564, 3.36894154728855, 3.368941547288564, 3.368941547288557, 3.368941547288557, 3.3689415472885713, 3.368941547288557, 3.368941547288557, 3.368941547288557, 3.368941547288557, 3.3689415472885713, 3.368941547288557, 3.368941547288543, 3.3689415472885713, 3.368941547288557, 3.368941547288557, 3.3689415472885713, 3.368941547288557, 3.368941547288543, 3.368941547288557, 3.3689415472885713, 3.368941547288557, 3.368941547288557, 3.368941547288557, 3.368941547288557, 3.368941547288557, 3.368941547288557, 3.3689415472885855, 3.368941547288557, 3.368941547288557, 3.3689415472885287, 3.3689415472885855, 3.368941547288557, 3.368941547288557, 3.368941547288557, 3.368941547288557, 3.3689415472885855, 3.368941547288557, 3.368941547288557, 3.368941547288557, 3.3689415472885287, 3.368941547288557, 3.368941547288557, 3.3689415472885855, 3.368941547288557, 3.368941547288557, 3.368941547288557, 3.368941547288557, 3.368941547288557, 3.3689415472885855, 3.368941547288557, 3.368941547288557, 3.3689415472885287, 3.368941547288557, 3.368941547288557, 3.368941547288557, 3.3689415472885855, 3.368941547288557, 3.368941547288557, 3.368941547288557, 3.368941547288557, 3.368941547288557, 3.368941547288557, 3.368941547288557, 3.368941547288614, 3.3689415472885003, 3.368941547288557, 3.368941547288557, 3.368941547288557, 3.368941547288557, 3.368941547288557, 3.368941547288614, 3.368941547288557, 3.368941547288557, 3.368941547288557, 3.368941547288557, 3.368941547288557, 3.3689415472885003, 3.368941547288614, 3.368941547288557, 3.368941547288557, 3.368941547288557, 3.368941547288557, 3.368941547288557], total_width=336.89415472885594, row_heights=[5.549889713171869, 5.549889713171869, 5.54988971317187, 5.5498897131718685, 5.549889713171872, 5.5498897131718685, 5.549889713171872, 5.549889713171865, 5.549889713171865, 5.549889713171879, 5.549889713171865, 5.549889713171872, 5.549889713171865, 5.549889713171879, 5.549889713171865, 5.549889713171865, 5.549889713171879, 5.549889713171851, 5.549889713171879, 5.549889713171879, 5.549889713171851, 5.549889713171879, 5.549889713171879, 5.549889713171865, 5.549889713171865, 5.549889713171865, 5.549889713171893, 5.549889713171865, 5.5498897131718365, 5.549889713171893, 5.549889713171865, 5.549889713171865, 5.549889713171893, 5.549889713171865, 5.5498897131718365, 5.549889713171865, 5.549889713171893, 5.549889713171865, 5.549889713171893, 5.549889713171865, 5.5498897131718365, 5.549889713171865, 5.549889713171893, 5.549889713171865, 5.549889713171865, 5.549889713171893, 5.549889713171808, 5.549889713171922, 5.549889713171865, 5.549889713171865], total_height=277.4944856585935, rotation=Rotation(value=0.0), length_unit=LengthUnit(unit=2)), affected_cells=ActiveCells(shape=[50, 100], data=[ActiveCell(col=0, row=0), ActiveCell(col=1, row=0), ActiveCell(col=2, row=0), ActiveCell(col=3, row=0), ActiveCell(col=4, row=0), ActiveCell(col=5, row=0), ActiveCell(col=6, row=0), ActiveCell(col=7, row=0), ActiveCell(col=8, row=0), ActiveCell(col=9, row=0), ActiveCell(col=10, row=0), ActiveCell(col=11, row=0), ActiveCell(col=12, row=0), ActiveCell(col=13, row=0), ActiveCell(col=14, row=0), ActiveCell(col=15, row=0), ActiveCell(col=16, row=0), ActiveCell(col=17, row=0), ActiveCell(col=18, row=0), ActiveCell(col=19, row=0), ActiveCell(col=20, row=0), ActiveCell(col=21, row=0), ActiveCell(col=22, row=0), ActiveCell(col=23, row=0), ActiveCell(col=24, row=0), ActiveCell(col=25, row=0), ActiveCell(col=26, row=0), ActiveCell(col=0, row=1), ActiveCell(col=1, row=1), ActiveCell(col=2, row=1), ActiveCell(col=3, row=1), ActiveCell(col=4, row=1), ActiveCell(col=5, row=1), ActiveCell(col=6, row=1), ActiveCell(col=7, row=1), ActiveCell(col=8, row=1), ActiveCell(col=9, row=1), ActiveCell(col=10, row=1), ActiveCell(col=11, row=1), ActiveCell(col=12, row=1), ActiveCell(col=13, row=1), ActiveCell(col=14, row=1), ActiveCell(col=15, row=1), ActiveCell(col=16, row=1), ActiveCell(col=17, row=1), ActiveCell(col=18, row=1), ActiveCell(col=19, row=1), ActiveCell(col=20, row=1), ActiveCell(col=21, row=1), ActiveCell(col=22, row=1), ActiveCell(col=23, row=1), ActiveCell(col=24, row=1), ActiveCell(col=25, row=1), ActiveCell(col=26, row=1), ActiveCell(col=27, row=1), ActiveCell(col=28, row=1), ActiveCell(col=29, row=1), ActiveCell(col=30, row=1), ActiveCell(col=31, row=1), ActiveCell(col=32, row=1), ActiveCell(col=33, row=1), ActiveCell(col=34, row=1), ActiveCell(col=35, row=1), ActiveCell(col=36, row=1), ActiveCell(col=37, row=1), ActiveCell(col=38, row=1), ActiveCell(col=39, row=1), ActiveCell(col=40, row=1), ActiveCell(col=41, row=1), ActiveCell(col=42, row=1), ActiveCell(col=43, row=1), ActiveCell(col=44, row=1), ActiveCell(col=45, row=1), ActiveCell(col=46, row=1), ActiveCell(col=47, row=1), ActiveCell(col=48, row=1), ActiveCell(col=49, row=1), ActiveCell(col=50, row=1), ActiveCell(col=51, row=1), ActiveCell(col=52, row=1), ActiveCell(col=53, row=1), ActiveCell(col=54, row=1), ActiveCell(col=55, row=1), ActiveCell(col=56, row=1), ActiveCell(col=57, row=1), ActiveCell(col=58, row=1), ActiveCell(col=59, row=1), ActiveCell(col=60, row=1), ActiveCell(col=61, row=1), ActiveCell(col=62, row=1), ActiveCell(col=63, row=1), ActiveCell(col=64, row=1), ActiveCell(col=65, row=1), ActiveCell(col=66, row=1), ActiveCell(col=67, row=1), ActiveCell(col=68, row=1), ActiveCell(col=69, row=1), ActiveCell(col=70, row=1), ActiveCell(col=71, row=1), ActiveCell(col=72, row=1), ActiveCell(col=73, row=1), ActiveCell(col=74, row=1), ActiveCell(col=75, row=1), ActiveCell(col=76, row=1), ActiveCell(col=77, row=1), ActiveCell(col=78, row=1), ActiveCell(col=79, row=1), ActiveCell(col=80, row=1), ActiveCell(col=81, row=1), ActiveCell(col=0, row=2), ActiveCell(col=1, row=2), ActiveCell(col=2, row=2), ActiveCell(col=3, row=2), ActiveCell(col=4, row=2), ActiveCell(col=5, row=2), ActiveCell(col=6, row=2), ActiveCell(col=7, row=2), ActiveCell(col=8, row=2), ActiveCell(col=9, row=2), ActiveCell(col=10, row=2), ActiveCell(col=11, row=2), ActiveCell(col=12, row=2), ActiveCell(col=13, row=2), ActiveCell(col=14, row=2), ActiveCell(col=15, row=2), ActiveCell(col=16, row=2), ActiveCell(col=17, row=2), ActiveCell(col=18, row=2), ActiveCell(col=19, row=2), ActiveCell(col=20, row=2), ActiveCell(col=21, row=2), ActiveCell(col=22, row=2), ActiveCell(col=23, row=2), ActiveCell(col=24, row=2), ActiveCell(col=25, row=2), ActiveCell(col=26, row=2), ActiveCell(col=27, row=2), ActiveCell(col=28, row=2), ActiveCell(col=29, row=2), ActiveCell(col=30, row=2), ActiveCell(col=31, row=2), ActiveCell(col=32, row=2), ActiveCell(col=33, row=2), ActiveCell(col=34, row=2), ActiveCell(col=35, row=2), ActiveCell(col=36, row=2), ActiveCell(col=37, row=2), ActiveCell(col=38, row=2), ActiveCell(col=39, row=2), ActiveCell(col=40, row=2), ActiveCell(col=41, row=2), ActiveCell(col=42, row=2), ActiveCell(col=43, row=2), ActiveCell(col=44, row=2), ActiveCell(col=45, row=2), ActiveCell(col=46, row=2), ActiveCell(col=47, row=2), ActiveCell(col=48, row=2), ActiveCell(col=49, row=2), ActiveCell(col=50, row=2), ActiveCell(col=51, row=2), ActiveCell(col=52, row=2), ActiveCell(col=53, row=2), ActiveCell(col=54, row=2), ActiveCell(col=55, row=2), ActiveCell(col=56, row=2), ActiveCell(col=57, row=2), ActiveCell(col=58, row=2), ActiveCell(col=59, row=2), ActiveCell(col=60, row=2), ActiveCell(col=61, row=2), ActiveCell(col=62, row=2), ActiveCell(col=63, row=2), ActiveCell(col=64, row=2), ActiveCell(col=65, row=2), ActiveCell(col=66, row=2), ActiveCell(col=67, row=2), ActiveCell(col=68, row=2), ActiveCell(col=69, row=2), ActiveCell(col=70, row=2), ActiveCell(col=71, row=2), ActiveCell(col=72, row=2), ActiveCell(col=73, row=2), ActiveCell(col=74, row=2), ActiveCell(col=75, row=2), ActiveCell(col=76, row=2), ActiveCell(col=77, row=2), ActiveCell(col=78, row=2), ActiveCell(col=79, row=2), ActiveCell(col=80, row=2), ActiveCell(col=81, row=2), ActiveCell(col=82, row=2), ActiveCell(col=83, row=2), ActiveCell(col=84, row=2), ActiveCell(col=85, row=2), ActiveCell(col=86, row=2), ActiveCell(col=87, row=2), ActiveCell(col=88, row=2), ActiveCell(col=89, row=2), ActiveCell(col=90, row=2), ActiveCell(col=91, row=2), ActiveCell(col=92, row=2), ActiveCell(col=1, row=3), ActiveCell(col=2, row=3), ActiveCell(col=3, row=3), ActiveCell(col=4, row=3), ActiveCell(col=5, row=3), ActiveCell(col=6, row=3), ActiveCell(col=7, row=3), ActiveCell(col=8, row=3), ActiveCell(col=9, row=3), ActiveCell(col=10, row=3), ActiveCell(col=11, row=3), ActiveCell(col=12, row=3), ActiveCell(col=13, row=3), ActiveCell(col=14, row=3), ActiveCell(col=15, row=3), ActiveCell(col=16, row=3), ActiveCell(col=17, row=3), ActiveCell(col=18, row=3), ActiveCell(col=19, row=3), ActiveCell(col=20, row=3), ActiveCell(col=21, row=3), ActiveCell(col=22, row=3), ActiveCell(col=23, row=3), ActiveCell(col=24, row=3), ActiveCell(col=25, row=3), ActiveCell(col=26, row=3), ActiveCell(col=27, row=3), ActiveCell(col=28, row=3), ActiveCell(col=29, row=3), ActiveCell(col=30, row=3), ActiveCell(col=31, row=3), ActiveCell(col=32, row=3), ActiveCell(col=33, row=3), ActiveCell(col=34, row=3), ActiveCell(col=35, row=3), ActiveCell(col=36, row=3), ActiveCell(col=37, row=3), ActiveCell(col=38, row=3), ActiveCell(col=39, row=3), ActiveCell(col=40, row=3), ActiveCell(col=41, row=3), ActiveCell(col=42, row=3), ActiveCell(col=43, row=3), ActiveCell(col=44, row=3), ActiveCell(col=45, row=3), ActiveCell(col=46, row=3), ActiveCell(col=47, row=3), ActiveCell(col=48, row=3), ActiveCell(col=49, row=3), ActiveCell(col=50, row=3), ActiveCell(col=51, row=3), ActiveCell(col=52, row=3), ActiveCell(col=53, row=3), ActiveCell(col=54, row=3), ActiveCell(col=55, row=3), ActiveCell(col=56, row=3), ActiveCell(col=57, row=3), ActiveCell(col=58, row=3), ActiveCell(col=59, row=3), ActiveCell(col=60, row=3), ActiveCell(col=61, row=3), ActiveCell(col=62, row=3), ActiveCell(col=63, row=3), ActiveCell(col=64, row=3), ActiveCell(col=65, row=3), ActiveCell(col=66, row=3), ActiveCell(col=67, row=3), ActiveCell(col=68, row=3), ActiveCell(col=69, row=3), ActiveCell(col=70, row=3), ActiveCell(col=71, row=3), ActiveCell(col=72, row=3), ActiveCell(col=73, row=3), ActiveCell(col=74, row=3), ActiveCell(col=75, row=3), ActiveCell(col=76, row=3), ActiveCell(col=77, row=3), ActiveCell(col=78, row=3), ActiveCell(col=79, row=3), ActiveCell(col=80, row=3), ActiveCell(col=81, row=3), ActiveCell(col=82, row=3), ActiveCell(col=83, row=3), ActiveCell(col=84, row=3), ActiveCell(col=85, row=3), ActiveCell(col=86, row=3), ActiveCell(col=87, row=3), ActiveCell(col=88, row=3), ActiveCell(col=89, row=3), ActiveCell(col=90, row=3), ActiveCell(col=91, row=3), ActiveCell(col=92, row=3), ActiveCell(col=1, row=4), ActiveCell(col=2, row=4), ActiveCell(col=3, row=4), ActiveCell(col=4, row=4), ActiveCell(col=5, row=4), ActiveCell(col=6, row=4), ActiveCell(col=7, row=4), ActiveCell(col=8, row=4), ActiveCell(col=9, row=4), ActiveCell(col=10, row=4), ActiveCell(col=11, row=4), ActiveCell(col=12, row=4), ActiveCell(col=13, row=4), ActiveCell(col=14, row=4), ActiveCell(col=15, row=4), ActiveCell(col=16, row=4), ActiveCell(col=17, row=4), ActiveCell(col=18, row=4), ActiveCell(col=19, row=4), ActiveCell(col=20, row=4), ActiveCell(col=21, row=4), ActiveCell(col=22, row=4), ActiveCell(col=23, row=4), ActiveCell(col=24, row=4), ActiveCell(col=25, row=4), ActiveCell(col=26, row=4), ActiveCell(col=27, row=4), ActiveCell(col=28, row=4), ActiveCell(col=29, row=4), ActiveCell(col=30, row=4), ActiveCell(col=31, row=4), ActiveCell(col=32, row=4), ActiveCell(col=33, row=4), ActiveCell(col=34, row=4), ActiveCell(col=35, row=4), ActiveCell(col=36, row=4), ActiveCell(col=37, row=4), ActiveCell(col=38, row=4), ActiveCell(col=39, row=4), ActiveCell(col=40, row=4), ActiveCell(col=41, row=4), ActiveCell(col=42, row=4), ActiveCell(col=43, row=4), ActiveCell(col=44, row=4), ActiveCell(col=45, row=4), ActiveCell(col=46, row=4), ActiveCell(col=47, row=4), ActiveCell(col=48, row=4), ActiveCell(col=49, row=4), ActiveCell(col=50, row=4), ActiveCell(col=51, row=4), ActiveCell(col=52, row=4), ActiveCell(col=53, row=4), ActiveCell(col=54, row=4), ActiveCell(col=55, row=4), ActiveCell(col=56, row=4), ActiveCell(col=57, row=4), ActiveCell(col=58, row=4), ActiveCell(col=59, row=4), ActiveCell(col=60, row=4), ActiveCell(col=61, row=4), ActiveCell(col=62, row=4), ActiveCell(col=63, row=4), ActiveCell(col=64, row=4), ActiveCell(col=65, row=4), ActiveCell(col=66, row=4), ActiveCell(col=67, row=4), ActiveCell(col=68, row=4), ActiveCell(col=69, row=4), ActiveCell(col=70, row=4), ActiveCell(col=71, row=4), ActiveCell(col=72, row=4), ActiveCell(col=73, row=4), ActiveCell(col=74, row=4), ActiveCell(col=75, row=4), ActiveCell(col=76, row=4), ActiveCell(col=77, row=4), ActiveCell(col=78, row=4), ActiveCell(col=79, row=4), ActiveCell(col=80, row=4), ActiveCell(col=81, row=4), ActiveCell(col=82, row=4), ActiveCell(col=83, row=4), ActiveCell(col=84, row=4), ActiveCell(col=85, row=4), ActiveCell(col=86, row=4), ActiveCell(col=87, row=4), ActiveCell(col=88, row=4), ActiveCell(col=89, row=4), ActiveCell(col=90, row=4), ActiveCell(col=91, row=4), ActiveCell(col=92, row=4), ActiveCell(col=93, row=4), ActiveCell(col=1, row=5), ActiveCell(col=2, row=5), ActiveCell(col=3, row=5), ActiveCell(col=4, row=5), ActiveCell(col=5, row=5), ActiveCell(col=6, row=5), ActiveCell(col=7, row=5), ActiveCell(col=8, row=5), ActiveCell(col=9, row=5), ActiveCell(col=10, row=5), ActiveCell(col=11, row=5), ActiveCell(col=12, row=5), ActiveCell(col=13, row=5), ActiveCell(col=14, row=5), ActiveCell(col=15, row=5), ActiveCell(col=16, row=5), ActiveCell(col=17, row=5), ActiveCell(col=18, row=5), ActiveCell(col=19, row=5), ActiveCell(col=20, row=5), ActiveCell(col=21, row=5), ActiveCell(col=22, row=5), ActiveCell(col=23, row=5), ActiveCell(col=24, row=5), ActiveCell(col=25, row=5), ActiveCell(col=26, row=5), ActiveCell(col=27, row=5), ActiveCell(col=28, row=5), ActiveCell(col=29, row=5), ActiveCell(col=30, row=5), ActiveCell(col=31, row=5), ActiveCell(col=32, row=5), ActiveCell(col=33, row=5), ActiveCell(col=34, row=5), ActiveCell(col=35, row=5), ActiveCell(col=36, row=5), ActiveCell(col=37, row=5), ActiveCell(col=38, row=5), ActiveCell(col=39, row=5), ActiveCell(col=40, row=5), ActiveCell(col=41, row=5), ActiveCell(col=42, row=5), ActiveCell(col=43, row=5), ActiveCell(col=44, row=5), ActiveCell(col=45, row=5), ActiveCell(col=46, row=5), ActiveCell(col=47, row=5), ActiveCell(col=48, row=5), ActiveCell(col=49, row=5), ActiveCell(col=50, row=5), ActiveCell(col=51, row=5), ActiveCell(col=52, row=5), ActiveCell(col=53, row=5), ActiveCell(col=54, row=5), ActiveCell(col=55, row=5), ActiveCell(col=56, row=5), ActiveCell(col=57, row=5), ActiveCell(col=58, row=5), ActiveCell(col=59, row=5), ActiveCell(col=60, row=5), ActiveCell(col=61, row=5), ActiveCell(col=62, row=5), ActiveCell(col=63, row=5), ActiveCell(col=64, row=5), ActiveCell(col=65, row=5), ActiveCell(col=66, row=5), ActiveCell(col=67, row=5), ActiveCell(col=68, row=5), ActiveCell(col=69, row=5), ActiveCell(col=70, row=5), ActiveCell(col=71, row=5), ActiveCell(col=72, row=5), ActiveCell(col=73, row=5), ActiveCell(col=74, row=5), ActiveCell(col=75, row=5), ActiveCell(col=76, row=5), ActiveCell(col=77, row=5), ActiveCell(col=78, row=5), ActiveCell(col=79, row=5), ActiveCell(col=80, row=5), ActiveCell(col=81, row=5), ActiveCell(col=82, row=5), ActiveCell(col=83, row=5), ActiveCell(col=84, row=5), ActiveCell(col=85, row=5), ActiveCell(col=86, row=5), ActiveCell(col=87, row=5), ActiveCell(col=88, row=5), ActiveCell(col=89, row=5), ActiveCell(col=90, row=5), ActiveCell(col=91, row=5), ActiveCell(col=92, row=5), ActiveCell(col=93, row=5), ActiveCell(col=1, row=6), ActiveCell(col=2, row=6), ActiveCell(col=3, row=6), ActiveCell(col=4, row=6), ActiveCell(col=5, row=6), ActiveCell(col=6, row=6), ActiveCell(col=7, row=6), ActiveCell(col=8, row=6), ActiveCell(col=9, row=6), ActiveCell(col=10, row=6), ActiveCell(col=11, row=6), ActiveCell(col=12, row=6), ActiveCell(col=13, row=6), ActiveCell(col=14, row=6), ActiveCell(col=15, row=6), ActiveCell(col=16, row=6), ActiveCell(col=17, row=6), ActiveCell(col=18, row=6), ActiveCell(col=19, row=6), ActiveCell(col=20, row=6), ActiveCell(col=21, row=6), ActiveCell(col=22, row=6), ActiveCell(col=23, row=6), ActiveCell(col=24, row=6), ActiveCell(col=25, row=6), ActiveCell(col=26, row=6), ActiveCell(col=27, row=6), ActiveCell(col=28, row=6), ActiveCell(col=29, row=6), ActiveCell(col=30, row=6), ActiveCell(col=31, row=6), ActiveCell(col=32, row=6), ActiveCell(col=33, row=6), ActiveCell(col=34, row=6), ActiveCell(col=35, row=6), ActiveCell(col=36, row=6), ActiveCell(col=37, row=6), ActiveCell(col=38, row=6), ActiveCell(col=39, row=6), ActiveCell(col=40, row=6), ActiveCell(col=41, row=6), ActiveCell(col=42, row=6), ActiveCell(col=43, row=6), ActiveCell(col=44, row=6), ActiveCell(col=45, row=6), ActiveCell(col=46, row=6), ActiveCell(col=47, row=6), ActiveCell(col=48, row=6), ActiveCell(col=49, row=6), ActiveCell(col=50, row=6), ActiveCell(col=51, row=6), ActiveCell(col=52, row=6), ActiveCell(col=53, row=6), ActiveCell(col=54, row=6), ActiveCell(col=55, row=6), ActiveCell(col=56, row=6), ActiveCell(col=57, row=6), ActiveCell(col=58, row=6), ActiveCell(col=59, row=6), ActiveCell(col=60, row=6), ActiveCell(col=61, row=6), ActiveCell(col=62, row=6), ActiveCell(col=63, row=6), ActiveCell(col=64, row=6), ActiveCell(col=65, row=6), ActiveCell(col=66, row=6), ActiveCell(col=67, row=6), ActiveCell(col=68, row=6), ActiveCell(col=69, row=6), ActiveCell(col=70, row=6), ActiveCell(col=71, row=6), ActiveCell(col=72, row=6), ActiveCell(col=73, row=6), ActiveCell(col=74, row=6), ActiveCell(col=75, row=6), ActiveCell(col=76, row=6), ActiveCell(col=77, row=6), ActiveCell(col=78, row=6), ActiveCell(col=79, row=6), ActiveCell(col=80, row=6), ActiveCell(col=81, row=6), ActiveCell(col=82, row=6), ActiveCell(col=83, row=6), ActiveCell(col=84, row=6), ActiveCell(col=85, row=6), ActiveCell(col=86, row=6), ActiveCell(col=87, row=6), ActiveCell(col=88, row=6), ActiveCell(col=89, row=6), ActiveCell(col=90, row=6), ActiveCell(col=91, row=6), ActiveCell(col=92, row=6), ActiveCell(col=93, row=6), ActiveCell(col=1, row=7), ActiveCell(col=2, row=7), ActiveCell(col=3, row=7), ActiveCell(col=4, row=7), ActiveCell(col=5, row=7), ActiveCell(col=6, row=7), ActiveCell(col=7, row=7), ActiveCell(col=8, row=7), ActiveCell(col=9, row=7), ActiveCell(col=10, row=7), ActiveCell(col=11, row=7), ActiveCell(col=12, row=7), ActiveCell(col=13, row=7), ActiveCell(col=14, row=7), ActiveCell(col=15, row=7), ActiveCell(col=16, row=7), ActiveCell(col=17, row=7), ActiveCell(col=18, row=7), ActiveCell(col=19, row=7), ActiveCell(col=20, row=7), ActiveCell(col=21, row=7), ActiveCell(col=22, row=7), ActiveCell(col=23, row=7), ActiveCell(col=24, row=7), ActiveCell(col=25, row=7), ActiveCell(col=26, row=7), ActiveCell(col=27, row=7), ActiveCell(col=28, row=7), ActiveCell(col=29, row=7), ActiveCell(col=30, row=7), ActiveCell(col=31, row=7), ActiveCell(col=32, row=7), ActiveCell(col=33, row=7), ActiveCell(col=34, row=7), ActiveCell(col=35, row=7), ActiveCell(col=36, row=7), ActiveCell(col=37, row=7), ActiveCell(col=38, row=7), ActiveCell(col=39, row=7), ActiveCell(col=40, row=7), ActiveCell(col=41, row=7), ActiveCell(col=42, row=7), ActiveCell(col=43, row=7), ActiveCell(col=44, row=7), ActiveCell(col=45, row=7), ActiveCell(col=46, row=7), ActiveCell(col=47, row=7), ActiveCell(col=48, row=7), ActiveCell(col=49, row=7), ActiveCell(col=50, row=7), ActiveCell(col=51, row=7), ActiveCell(col=52, row=7), ActiveCell(col=53, row=7), ActiveCell(col=54, row=7), ActiveCell(col=55, row=7), ActiveCell(col=56, row=7), ActiveCell(col=57, row=7), ActiveCell(col=58, row=7), ActiveCell(col=59, row=7), ActiveCell(col=60, row=7), ActiveCell(col=61, row=7), ActiveCell(col=62, row=7), ActiveCell(col=63, row=7), ActiveCell(col=64, row=7), ActiveCell(col=65, row=7), ActiveCell(col=66, row=7), ActiveCell(col=67, row=7), ActiveCell(col=68, row=7), ActiveCell(col=69, row=7), ActiveCell(col=70, row=7), ActiveCell(col=71, row=7), ActiveCell(col=72, row=7), ActiveCell(col=73, row=7), ActiveCell(col=74, row=7), ActiveCell(col=75, row=7), ActiveCell(col=76, row=7), ActiveCell(col=77, row=7), ActiveCell(col=78, row=7), ActiveCell(col=79, row=7), ActiveCell(col=80, row=7), ActiveCell(col=81, row=7), ActiveCell(col=82, row=7), ActiveCell(col=83, row=7), ActiveCell(col=84, row=7), ActiveCell(col=85, row=7), ActiveCell(col=86, row=7), ActiveCell(col=87, row=7), ActiveCell(col=88, row=7), ActiveCell(col=89, row=7), ActiveCell(col=90, row=7), ActiveCell(col=91, row=7), ActiveCell(col=92, row=7), ActiveCell(col=93, row=7), ActiveCell(col=2, row=8), ActiveCell(col=3, row=8), ActiveCell(col=4, row=8), ActiveCell(col=5, row=8), ActiveCell(col=6, row=8), ActiveCell(col=7, row=8), ActiveCell(col=8, row=8), ActiveCell(col=9, row=8), ActiveCell(col=10, row=8), ActiveCell(col=11, row=8), ActiveCell(col=12, row=8), ActiveCell(col=13, row=8), ActiveCell(col=14, row=8), ActiveCell(col=15, row=8), ActiveCell(col=16, row=8), ActiveCell(col=17, row=8), ActiveCell(col=18, row=8), ActiveCell(col=19, row=8), ActiveCell(col=20, row=8), ActiveCell(col=21, row=8), ActiveCell(col=22, row=8), ActiveCell(col=23, row=8), ActiveCell(col=24, row=8), ActiveCell(col=25, row=8), ActiveCell(col=26, row=8), ActiveCell(col=27, row=8), ActiveCell(col=28, row=8), ActiveCell(col=29, row=8), ActiveCell(col=30, row=8), ActiveCell(col=31, row=8), ActiveCell(col=32, row=8), ActiveCell(col=33, row=8), ActiveCell(col=34, row=8), ActiveCell(col=35, row=8), ActiveCell(col=36, row=8), ActiveCell(col=37, row=8), ActiveCell(col=38, row=8), ActiveCell(col=39, row=8), ActiveCell(col=40, row=8), ActiveCell(col=41, row=8), ActiveCell(col=42, row=8), ActiveCell(col=43, row=8), ActiveCell(col=44, row=8), ActiveCell(col=45, row=8), ActiveCell(col=46, row=8), ActiveCell(col=47, row=8), ActiveCell(col=48, row=8), ActiveCell(col=49, row=8), ActiveCell(col=50, row=8), ActiveCell(col=51, row=8), ActiveCell(col=52, row=8), ActiveCell(col=53, row=8), ActiveCell(col=54, row=8), ActiveCell(col=55, row=8), ActiveCell(col=56, row=8), ActiveCell(col=57, row=8), ActiveCell(col=58, row=8), ActiveCell(col=59, row=8), ActiveCell(col=60, row=8), ActiveCell(col=61, row=8), ActiveCell(col=62, row=8), ActiveCell(col=63, row=8), ActiveCell(col=64, row=8), ActiveCell(col=65, row=8), ActiveCell(col=66, row=8), ActiveCell(col=67, row=8), ActiveCell(col=68, row=8), ActiveCell(col=69, row=8), ActiveCell(col=70, row=8), ActiveCell(col=71, row=8), ActiveCell(col=72, row=8), ActiveCell(col=73, row=8), ActiveCell(col=74, row=8), ActiveCell(col=75, row=8), ActiveCell(col=76, row=8), ActiveCell(col=77, row=8), ActiveCell(col=78, row=8), ActiveCell(col=79, row=8), ActiveCell(col=80, row=8), ActiveCell(col=81, row=8), ActiveCell(col=82, row=8), ActiveCell(col=83, row=8), ActiveCell(col=84, row=8), ActiveCell(col=85, row=8), ActiveCell(col=86, row=8), ActiveCell(col=87, row=8), ActiveCell(col=88, row=8), ActiveCell(col=89, row=8), ActiveCell(col=90, row=8), ActiveCell(col=91, row=8), ActiveCell(col=92, row=8), ActiveCell(col=93, row=8), ActiveCell(col=2, row=9), ActiveCell(col=3, row=9), ActiveCell(col=4, row=9), ActiveCell(col=5, row=9), ActiveCell(col=6, row=9), ActiveCell(col=7, row=9), ActiveCell(col=8, row=9), ActiveCell(col=9, row=9), ActiveCell(col=10, row=9), ActiveCell(col=11, row=9), ActiveCell(col=12, row=9), ActiveCell(col=13, row=9), ActiveCell(col=14, row=9), ActiveCell(col=15, row=9), ActiveCell(col=16, row=9), ActiveCell(col=17, row=9), ActiveCell(col=18, row=9), ActiveCell(col=19, row=9), ActiveCell(col=20, row=9), ActiveCell(col=21, row=9), ActiveCell(col=22, row=9), ActiveCell(col=23, row=9), ActiveCell(col=24, row=9), ActiveCell(col=25, row=9), ActiveCell(col=26, row=9), ActiveCell(col=27, row=9), ActiveCell(col=28, row=9), ActiveCell(col=29, row=9), ActiveCell(col=30, row=9), ActiveCell(col=31, row=9), ActiveCell(col=32, row=9), ActiveCell(col=33, row=9), ActiveCell(col=34, row=9), ActiveCell(col=35, row=9), ActiveCell(col=36, row=9), ActiveCell(col=37, row=9), ActiveCell(col=38, row=9), ActiveCell(col=39, row=9), ActiveCell(col=40, row=9), ActiveCell(col=41, row=9), ActiveCell(col=42, row=9), ActiveCell(col=43, row=9), ActiveCell(col=44, row=9), ActiveCell(col=45, row=9), ActiveCell(col=46, row=9), ActiveCell(col=47, row=9), ActiveCell(col=48, row=9), ActiveCell(col=49, row=9), ActiveCell(col=50, row=9), ActiveCell(col=51, row=9), ActiveCell(col=52, row=9), ActiveCell(col=53, row=9), ActiveCell(col=54, row=9), ActiveCell(col=55, row=9), ActiveCell(col=56, row=9), ActiveCell(col=57, row=9), ActiveCell(col=58, row=9), ActiveCell(col=59, row=9), ActiveCell(col=60, row=9), ActiveCell(col=61, row=9), ActiveCell(col=62, row=9), ActiveCell(col=63, row=9), ActiveCell(col=64, row=9), ActiveCell(col=65, row=9), ActiveCell(col=66, row=9), ActiveCell(col=67, row=9), ActiveCell(col=68, row=9), ActiveCell(col=69, row=9), ActiveCell(col=70, row=9), ActiveCell(col=71, row=9), ActiveCell(col=72, row=9), ActiveCell(col=73, row=9), ActiveCell(col=74, row=9), ActiveCell(col=75, row=9), ActiveCell(col=76, row=9), ActiveCell(col=77, row=9), ActiveCell(col=78, row=9), ActiveCell(col=79, row=9), ActiveCell(col=80, row=9), ActiveCell(col=81, row=9), ActiveCell(col=82, row=9), ActiveCell(col=83, row=9), ActiveCell(col=84, row=9), ActiveCell(col=85, row=9), ActiveCell(col=86, row=9), ActiveCell(col=87, row=9), ActiveCell(col=88, row=9), ActiveCell(col=89, row=9), ActiveCell(col=90, row=9), ActiveCell(col=91, row=9), ActiveCell(col=92, row=9), ActiveCell(col=93, row=9), ActiveCell(col=94, row=9), ActiveCell(col=2, row=10), ActiveCell(col=3, row=10), ActiveCell(col=4, row=10), ActiveCell(col=5, row=10), ActiveCell(col=6, row=10), ActiveCell(col=7, row=10), ActiveCell(col=8, row=10), ActiveCell(col=9, row=10), ActiveCell(col=10, row=10), ActiveCell(col=11, row=10), ActiveCell(col=12, row=10), ActiveCell(col=13, row=10), ActiveCell(col=14, row=10), ActiveCell(col=15, row=10), ActiveCell(col=16, row=10), ActiveCell(col=17, row=10), ActiveCell(col=18, row=10), ActiveCell(col=19, row=10), ActiveCell(col=20, row=10), ActiveCell(col=21, row=10), ActiveCell(col=22, row=10), ActiveCell(col=23, row=10), ActiveCell(col=24, row=10), ActiveCell(col=25, row=10), ActiveCell(col=26, row=10), ActiveCell(col=27, row=10), ActiveCell(col=28, row=10), ActiveCell(col=29, row=10), ActiveCell(col=30, row=10), ActiveCell(col=31, row=10), ActiveCell(col=32, row=10), ActiveCell(col=33, row=10), ActiveCell(col=34, row=10), ActiveCell(col=35, row=10), ActiveCell(col=36, row=10), ActiveCell(col=37, row=10), ActiveCell(col=38, row=10), ActiveCell(col=39, row=10), ActiveCell(col=40, row=10), ActiveCell(col=41, row=10), ActiveCell(col=42, row=10), ActiveCell(col=43, row=10), ActiveCell(col=44, row=10), ActiveCell(col=45, row=10), ActiveCell(col=46, row=10), ActiveCell(col=47, row=10), ActiveCell(col=48, row=10), ActiveCell(col=49, row=10), ActiveCell(col=50, row=10), ActiveCell(col=51, row=10), ActiveCell(col=52, row=10), ActiveCell(col=53, row=10), ActiveCell(col=54, row=10), ActiveCell(col=55, row=10), ActiveCell(col=56, row=10), ActiveCell(col=57, row=10), ActiveCell(col=58, row=10), ActiveCell(col=59, row=10), ActiveCell(col=60, row=10), ActiveCell(col=61, row=10), ActiveCell(col=62, row=10), ActiveCell(col=63, row=10), ActiveCell(col=64, row=10), ActiveCell(col=65, row=10), ActiveCell(col=66, row=10), ActiveCell(col=67, row=10), ActiveCell(col=68, row=10), ActiveCell(col=69, row=10), ActiveCell(col=70, row=10), ActiveCell(col=71, row=10), ActiveCell(col=72, row=10), ActiveCell(col=73, row=10), ActiveCell(col=74, row=10), ActiveCell(col=75, row=10), ActiveCell(col=76, row=10), ActiveCell(col=77, row=10), ActiveCell(col=78, row=10), ActiveCell(col=79, row=10), ActiveCell(col=80, row=10), ActiveCell(col=81, row=10), ActiveCell(col=82, row=10), ActiveCell(col=83, row=10), ActiveCell(col=84, row=10), ActiveCell(col=85, row=10), ActiveCell(col=86, row=10), ActiveCell(col=87, row=10), ActiveCell(col=88, row=10), ActiveCell(col=89, row=10), ActiveCell(col=90, row=10), ActiveCell(col=91, row=10), ActiveCell(col=92, row=10), ActiveCell(col=93, row=10), ActiveCell(col=94, row=10), ActiveCell(col=2, row=11), ActiveCell(col=3, row=11), ActiveCell(col=4, row=11), ActiveCell(col=5, row=11), ActiveCell(col=6, row=11), ActiveCell(col=7, row=11), ActiveCell(col=8, row=11), ActiveCell(col=9, row=11), ActiveCell(col=10, row=11), ActiveCell(col=11, row=11), ActiveCell(col=12, row=11), ActiveCell(col=13, row=11), ActiveCell(col=14, row=11), ActiveCell(col=15, row=11), ActiveCell(col=16, row=11), ActiveCell(col=17, row=11), ActiveCell(col=18, row=11), ActiveCell(col=19, row=11), ActiveCell(col=20, row=11), ActiveCell(col=21, row=11), ActiveCell(col=22, row=11), ActiveCell(col=23, row=11), ActiveCell(col=24, row=11), ActiveCell(col=25, row=11), ActiveCell(col=26, row=11), ActiveCell(col=27, row=11), ActiveCell(col=28, row=11), ActiveCell(col=29, row=11), ActiveCell(col=30, row=11), ActiveCell(col=31, row=11), ActiveCell(col=32, row=11), ActiveCell(col=33, row=11), ActiveCell(col=34, row=11), ActiveCell(col=35, row=11), ActiveCell(col=36, row=11), ActiveCell(col=37, row=11), ActiveCell(col=38, row=11), ActiveCell(col=39, row=11), ActiveCell(col=40, row=11), ActiveCell(col=41, row=11), ActiveCell(col=42, row=11), ActiveCell(col=43, row=11), ActiveCell(col=44, row=11), ActiveCell(col=45, row=11), ActiveCell(col=46, row=11), ActiveCell(col=47, row=11), ActiveCell(col=48, row=11), ActiveCell(col=49, row=11), ActiveCell(col=50, row=11), ActiveCell(col=51, row=11), ActiveCell(col=52, row=11), ActiveCell(col=53, row=11), ActiveCell(col=54, row=11), ActiveCell(col=55, row=11), ActiveCell(col=56, row=11), ActiveCell(col=57, row=11), ActiveCell(col=58, row=11), ActiveCell(col=59, row=11), ActiveCell(col=60, row=11), ActiveCell(col=61, row=11), ActiveCell(col=62, row=11), ActiveCell(col=63, row=11), ActiveCell(col=64, row=11), ActiveCell(col=65, row=11), ActiveCell(col=66, row=11), ActiveCell(col=67, row=11), ActiveCell(col=68, row=11), ActiveCell(col=69, row=11), ActiveCell(col=70, row=11), ActiveCell(col=71, row=11), ActiveCell(col=72, row=11), ActiveCell(col=73, row=11), ActiveCell(col=74, row=11), ActiveCell(col=75, row=11), ActiveCell(col=76, row=11), ActiveCell(col=77, row=11), ActiveCell(col=78, row=11), ActiveCell(col=79, row=11), ActiveCell(col=80, row=11), ActiveCell(col=81, row=11), ActiveCell(col=82, row=11), ActiveCell(col=83, row=11), ActiveCell(col=84, row=11), ActiveCell(col=85, row=11), ActiveCell(col=86, row=11), ActiveCell(col=87, row=11), ActiveCell(col=88, row=11), ActiveCell(col=89, row=11), ActiveCell(col=90, row=11), ActiveCell(col=91, row=11), ActiveCell(col=92, row=11), ActiveCell(col=93, row=11), ActiveCell(col=94, row=11), ActiveCell(col=2, row=12), ActiveCell(col=3, row=12), ActiveCell(col=4, row=12), ActiveCell(col=5, row=12), ActiveCell(col=6, row=12), ActiveCell(col=7, row=12), ActiveCell(col=8, row=12), ActiveCell(col=9, row=12), ActiveCell(col=10, row=12), ActiveCell(col=11, row=12), ActiveCell(col=12, row=12), ActiveCell(col=13, row=12), ActiveCell(col=14, row=12), ActiveCell(col=15, row=12), ActiveCell(col=16, row=12), ActiveCell(col=17, row=12), ActiveCell(col=18, row=12), ActiveCell(col=19, row=12), ActiveCell(col=20, row=12), ActiveCell(col=21, row=12), ActiveCell(col=22, row=12), ActiveCell(col=23, row=12), ActiveCell(col=24, row=12), ActiveCell(col=25, row=12), ActiveCell(col=26, row=12), ActiveCell(col=27, row=12), ActiveCell(col=28, row=12), ActiveCell(col=29, row=12), ActiveCell(col=30, row=12), ActiveCell(col=31, row=12), ActiveCell(col=32, row=12), ActiveCell(col=33, row=12), ActiveCell(col=34, row=12), ActiveCell(col=35, row=12), ActiveCell(col=36, row=12), ActiveCell(col=37, row=12), ActiveCell(col=38, row=12), ActiveCell(col=39, row=12), ActiveCell(col=40, row=12), ActiveCell(col=41, row=12), ActiveCell(col=42, row=12), ActiveCell(col=43, row=12), ActiveCell(col=44, row=12), ActiveCell(col=45, row=12), ActiveCell(col=46, row=12), ActiveCell(col=47, row=12), ActiveCell(col=48, row=12), ActiveCell(col=49, row=12), ActiveCell(col=50, row=12), ActiveCell(col=51, row=12), ActiveCell(col=52, row=12), ActiveCell(col=53, row=12), ActiveCell(col=54, row=12), ActiveCell(col=55, row=12), ActiveCell(col=56, row=12), ActiveCell(col=57, row=12), ActiveCell(col=58, row=12), ActiveCell(col=59, row=12), ActiveCell(col=60, row=12), ActiveCell(col=61, row=12), ActiveCell(col=62, row=12), ActiveCell(col=63, row=12), ActiveCell(col=64, row=12), ActiveCell(col=65, row=12), ActiveCell(col=66, row=12), ActiveCell(col=67, row=12), ActiveCell(col=68, row=12), ActiveCell(col=69, row=12), ActiveCell(col=70, row=12), ActiveCell(col=71, row=12), ActiveCell(col=72, row=12), ActiveCell(col=73, row=12), ActiveCell(col=74, row=12), ActiveCell(col=75, row=12), ActiveCell(col=76, row=12), ActiveCell(col=77, row=12), ActiveCell(col=78, row=12), ActiveCell(col=79, row=12), ActiveCell(col=80, row=12), ActiveCell(col=81, row=12), ActiveCell(col=82, row=12), ActiveCell(col=83, row=12), ActiveCell(col=84, row=12), ActiveCell(col=85, row=12), ActiveCell(col=86, row=12), ActiveCell(col=87, row=12), ActiveCell(col=88, row=12), ActiveCell(col=89, row=12), ActiveCell(col=90, row=12), ActiveCell(col=91, row=12), ActiveCell(col=92, row=12), ActiveCell(col=93, row=12), ActiveCell(col=94, row=12), ActiveCell(col=3, row=13), ActiveCell(col=4, row=13), ActiveCell(col=5, row=13), ActiveCell(col=6, row=13), ActiveCell(col=7, row=13), ActiveCell(col=8, row=13), ActiveCell(col=9, row=13), ActiveCell(col=10, row=13), ActiveCell(col=11, row=13), ActiveCell(col=12, row=13), ActiveCell(col=13, row=13), ActiveCell(col=14, row=13), ActiveCell(col=15, row=13), ActiveCell(col=16, row=13), ActiveCell(col=17, row=13), ActiveCell(col=18, row=13), ActiveCell(col=19, row=13), ActiveCell(col=20, row=13), ActiveCell(col=21, row=13), ActiveCell(col=22, row=13), ActiveCell(col=23, row=13), ActiveCell(col=24, row=13), ActiveCell(col=25, row=13), ActiveCell(col=26, row=13), ActiveCell(col=27, row=13), ActiveCell(col=28, row=13), ActiveCell(col=29, row=13), ActiveCell(col=30, row=13), ActiveCell(col=31, row=13), ActiveCell(col=32, row=13), ActiveCell(col=33, row=13), ActiveCell(col=34, row=13), ActiveCell(col=35, row=13), ActiveCell(col=36, row=13), ActiveCell(col=37, row=13), ActiveCell(col=38, row=13), ActiveCell(col=39, row=13), ActiveCell(col=40, row=13), ActiveCell(col=41, row=13), ActiveCell(col=42, row=13), ActiveCell(col=43, row=13), ActiveCell(col=44, row=13), ActiveCell(col=45, row=13), ActiveCell(col=46, row=13), ActiveCell(col=47, row=13), ActiveCell(col=48, row=13), ActiveCell(col=49, row=13), ActiveCell(col=50, row=13), ActiveCell(col=51, row=13), ActiveCell(col=52, row=13), ActiveCell(col=53, row=13), ActiveCell(col=54, row=13), ActiveCell(col=55, row=13), ActiveCell(col=56, row=13), ActiveCell(col=57, row=13), ActiveCell(col=58, row=13), ActiveCell(col=59, row=13), ActiveCell(col=60, row=13), ActiveCell(col=61, row=13), ActiveCell(col=62, row=13), ActiveCell(col=63, row=13), ActiveCell(col=64, row=13), ActiveCell(col=65, row=13), ActiveCell(col=66, row=13), ActiveCell(col=67, row=13), ActiveCell(col=68, row=13), ActiveCell(col=69, row=13), ActiveCell(col=70, row=13), ActiveCell(col=71, row=13), ActiveCell(col=72, row=13), ActiveCell(col=73, row=13), ActiveCell(col=74, row=13), ActiveCell(col=75, row=13), ActiveCell(col=76, row=13), ActiveCell(col=77, row=13), ActiveCell(col=78, row=13), ActiveCell(col=79, row=13), ActiveCell(col=80, row=13), ActiveCell(col=81, row=13), ActiveCell(col=82, row=13), ActiveCell(col=83, row=13), ActiveCell(col=84, row=13), ActiveCell(col=85, row=13), ActiveCell(col=86, row=13), ActiveCell(col=87, row=13), ActiveCell(col=88, row=13), ActiveCell(col=89, row=13), ActiveCell(col=90, row=13), ActiveCell(col=91, row=13), ActiveCell(col=92, row=13), ActiveCell(col=93, row=13), ActiveCell(col=94, row=13), ActiveCell(col=95, row=13), ActiveCell(col=3, row=14), ActiveCell(col=4, row=14), ActiveCell(col=5, row=14), ActiveCell(col=6, row=14), ActiveCell(col=7, row=14), ActiveCell(col=8, row=14), ActiveCell(col=9, row=14), ActiveCell(col=10, row=14), ActiveCell(col=11, row=14), ActiveCell(col=12, row=14), ActiveCell(col=13, row=14), ActiveCell(col=14, row=14), ActiveCell(col=15, row=14), ActiveCell(col=16, row=14), ActiveCell(col=17, row=14), ActiveCell(col=18, row=14), ActiveCell(col=19, row=14), ActiveCell(col=20, row=14), ActiveCell(col=21, row=14), ActiveCell(col=22, row=14), ActiveCell(col=23, row=14), ActiveCell(col=24, row=14), ActiveCell(col=25, row=14), ActiveCell(col=26, row=14), ActiveCell(col=27, row=14), ActiveCell(col=28, row=14), ActiveCell(col=29, row=14), ActiveCell(col=30, row=14), ActiveCell(col=31, row=14), ActiveCell(col=32, row=14), ActiveCell(col=33, row=14), ActiveCell(col=34, row=14), ActiveCell(col=35, row=14), ActiveCell(col=36, row=14), ActiveCell(col=37, row=14), ActiveCell(col=38, row=14), ActiveCell(col=39, row=14), ActiveCell(col=40, row=14), ActiveCell(col=41, row=14), ActiveCell(col=42, row=14), ActiveCell(col=43, row=14), ActiveCell(col=44, row=14), ActiveCell(col=45, row=14), ActiveCell(col=46, row=14), ActiveCell(col=47, row=14), ActiveCell(col=48, row=14), ActiveCell(col=49, row=14), ActiveCell(col=50, row=14), ActiveCell(col=51, row=14), ActiveCell(col=52, row=14), ActiveCell(col=53, row=14), ActiveCell(col=54, row=14), ActiveCell(col=55, row=14), ActiveCell(col=56, row=14), ActiveCell(col=57, row=14), ActiveCell(col=58, row=14), ActiveCell(col=59, row=14), ActiveCell(col=60, row=14), ActiveCell(col=61, row=14), ActiveCell(col=62, row=14), ActiveCell(col=63, row=14), ActiveCell(col=64, row=14), ActiveCell(col=65, row=14), ActiveCell(col=66, row=14), ActiveCell(col=67, row=14), ActiveCell(col=68, row=14), ActiveCell(col=69, row=14), ActiveCell(col=70, row=14), ActiveCell(col=71, row=14), ActiveCell(col=72, row=14), ActiveCell(col=73, row=14), ActiveCell(col=74, row=14), ActiveCell(col=75, row=14), ActiveCell(col=76, row=14), ActiveCell(col=77, row=14), ActiveCell(col=78, row=14), ActiveCell(col=79, row=14), ActiveCell(col=80, row=14), ActiveCell(col=81, row=14), ActiveCell(col=82, row=14), ActiveCell(col=83, row=14), ActiveCell(col=84, row=14), ActiveCell(col=85, row=14), ActiveCell(col=86, row=14), ActiveCell(col=87, row=14), ActiveCell(col=88, row=14), ActiveCell(col=89, row=14), ActiveCell(col=90, row=14), ActiveCell(col=91, row=14), ActiveCell(col=92, row=14), ActiveCell(col=93, row=14), ActiveCell(col=94, row=14), ActiveCell(col=95, row=14), ActiveCell(col=3, row=15), ActiveCell(col=4, row=15), ActiveCell(col=5, row=15), ActiveCell(col=6, row=15), ActiveCell(col=7, row=15), ActiveCell(col=8, row=15), ActiveCell(col=9, row=15), ActiveCell(col=10, row=15), ActiveCell(col=11, row=15), ActiveCell(col=12, row=15), ActiveCell(col=13, row=15), ActiveCell(col=14, row=15), ActiveCell(col=15, row=15), ActiveCell(col=16, row=15), ActiveCell(col=17, row=15), ActiveCell(col=18, row=15), ActiveCell(col=19, row=15), ActiveCell(col=20, row=15), ActiveCell(col=21, row=15), ActiveCell(col=22, row=15), ActiveCell(col=23, row=15), ActiveCell(col=24, row=15), ActiveCell(col=25, row=15), ActiveCell(col=26, row=15), ActiveCell(col=27, row=15), ActiveCell(col=28, row=15), ActiveCell(col=29, row=15), ActiveCell(col=30, row=15), ActiveCell(col=31, row=15), ActiveCell(col=32, row=15), ActiveCell(col=33, row=15), ActiveCell(col=34, row=15), ActiveCell(col=35, row=15), ActiveCell(col=36, row=15), ActiveCell(col=37, row=15), ActiveCell(col=38, row=15), ActiveCell(col=39, row=15), ActiveCell(col=40, row=15), ActiveCell(col=41, row=15), ActiveCell(col=42, row=15), ActiveCell(col=43, row=15), ActiveCell(col=44, row=15), ActiveCell(col=45, row=15), ActiveCell(col=46, row=15), ActiveCell(col=47, row=15), ActiveCell(col=48, row=15), ActiveCell(col=49, row=15), ActiveCell(col=50, row=15), ActiveCell(col=51, row=15), ActiveCell(col=52, row=15), ActiveCell(col=53, row=15), ActiveCell(col=54, row=15), ActiveCell(col=55, row=15), ActiveCell(col=56, row=15), ActiveCell(col=57, row=15), ActiveCell(col=58, row=15), ActiveCell(col=59, row=15), ActiveCell(col=60, row=15), ActiveCell(col=61, row=15), ActiveCell(col=62, row=15), ActiveCell(col=63, row=15), ActiveCell(col=64, row=15), ActiveCell(col=65, row=15), ActiveCell(col=66, row=15), ActiveCell(col=67, row=15), ActiveCell(col=68, row=15), ActiveCell(col=69, row=15), ActiveCell(col=70, row=15), ActiveCell(col=71, row=15), ActiveCell(col=72, row=15), ActiveCell(col=73, row=15), ActiveCell(col=74, row=15), ActiveCell(col=75, row=15), ActiveCell(col=76, row=15), ActiveCell(col=77, row=15), ActiveCell(col=78, row=15), ActiveCell(col=79, row=15), ActiveCell(col=80, row=15), ActiveCell(col=81, row=15), ActiveCell(col=82, row=15), ActiveCell(col=83, row=15), ActiveCell(col=84, row=15), ActiveCell(col=85, row=15), ActiveCell(col=86, row=15), ActiveCell(col=87, row=15), ActiveCell(col=88, row=15), ActiveCell(col=89, row=15), ActiveCell(col=90, row=15), ActiveCell(col=91, row=15), ActiveCell(col=92, row=15), ActiveCell(col=93, row=15), ActiveCell(col=94, row=15), ActiveCell(col=95, row=15), ActiveCell(col=3, row=16), ActiveCell(col=4, row=16), ActiveCell(col=5, row=16), ActiveCell(col=6, row=16), ActiveCell(col=7, row=16), ActiveCell(col=8, row=16), ActiveCell(col=9, row=16), ActiveCell(col=10, row=16), ActiveCell(col=11, row=16), ActiveCell(col=12, row=16), ActiveCell(col=13, row=16), ActiveCell(col=14, row=16), ActiveCell(col=15, row=16), ActiveCell(col=16, row=16), ActiveCell(col=17, row=16), ActiveCell(col=18, row=16), ActiveCell(col=19, row=16), ActiveCell(col=20, row=16), ActiveCell(col=21, row=16), ActiveCell(col=22, row=16), ActiveCell(col=23, row=16), ActiveCell(col=24, row=16), ActiveCell(col=25, row=16), ActiveCell(col=26, row=16), ActiveCell(col=27, row=16), ActiveCell(col=28, row=16), ActiveCell(col=29, row=16), ActiveCell(col=30, row=16), ActiveCell(col=31, row=16), ActiveCell(col=32, row=16), ActiveCell(col=33, row=16), ActiveCell(col=34, row=16), ActiveCell(col=35, row=16), ActiveCell(col=36, row=16), ActiveCell(col=37, row=16), ActiveCell(col=38, row=16), ActiveCell(col=39, row=16), ActiveCell(col=40, row=16), ActiveCell(col=41, row=16), ActiveCell(col=42, row=16), ActiveCell(col=43, row=16), ActiveCell(col=44, row=16), ActiveCell(col=45, row=16), ActiveCell(col=46, row=16), ActiveCell(col=47, row=16), ActiveCell(col=48, row=16), ActiveCell(col=49, row=16), ActiveCell(col=50, row=16), ActiveCell(col=51, row=16), ActiveCell(col=52, row=16), ActiveCell(col=53, row=16), ActiveCell(col=54, row=16), ActiveCell(col=55, row=16), ActiveCell(col=56, row=16), ActiveCell(col=57, row=16), ActiveCell(col=58, row=16), ActiveCell(col=59, row=16), ActiveCell(col=60, row=16), ActiveCell(col=61, row=16), ActiveCell(col=62, row=16), ActiveCell(col=63, row=16), ActiveCell(col=64, row=16), ActiveCell(col=65, row=16), ActiveCell(col=66, row=16), ActiveCell(col=67, row=16), ActiveCell(col=68, row=16), ActiveCell(col=69, row=16), ActiveCell(col=70, row=16), ActiveCell(col=71, row=16), ActiveCell(col=72, row=16), ActiveCell(col=73, row=16), ActiveCell(col=74, row=16), ActiveCell(col=75, row=16), ActiveCell(col=76, row=16), ActiveCell(col=77, row=16), ActiveCell(col=78, row=16), ActiveCell(col=79, row=16), ActiveCell(col=80, row=16), ActiveCell(col=81, row=16), ActiveCell(col=82, row=16), ActiveCell(col=83, row=16), ActiveCell(col=84, row=16), ActiveCell(col=85, row=16), ActiveCell(col=86, row=16), ActiveCell(col=87, row=16), ActiveCell(col=88, row=16), ActiveCell(col=89, row=16), ActiveCell(col=90, row=16), ActiveCell(col=91, row=16), ActiveCell(col=92, row=16), ActiveCell(col=93, row=16), ActiveCell(col=94, row=16), ActiveCell(col=95, row=16), ActiveCell(col=3, row=17), ActiveCell(col=4, row=17), ActiveCell(col=5, row=17), ActiveCell(col=6, row=17), ActiveCell(col=7, row=17), ActiveCell(col=8, row=17), ActiveCell(col=9, row=17), ActiveCell(col=10, row=17), ActiveCell(col=11, row=17), ActiveCell(col=12, row=17), ActiveCell(col=13, row=17), ActiveCell(col=14, row=17), ActiveCell(col=15, row=17), ActiveCell(col=16, row=17), ActiveCell(col=17, row=17), ActiveCell(col=18, row=17), ActiveCell(col=19, row=17), ActiveCell(col=20, row=17), ActiveCell(col=21, row=17), ActiveCell(col=22, row=17), ActiveCell(col=23, row=17), ActiveCell(col=24, row=17), ActiveCell(col=25, row=17), ActiveCell(col=26, row=17), ActiveCell(col=27, row=17), ActiveCell(col=28, row=17), ActiveCell(col=29, row=17), ActiveCell(col=30, row=17), ActiveCell(col=31, row=17), ActiveCell(col=32, row=17), ActiveCell(col=33, row=17), ActiveCell(col=34, row=17), ActiveCell(col=35, row=17), ActiveCell(col=36, row=17), ActiveCell(col=37, row=17), ActiveCell(col=38, row=17), ActiveCell(col=39, row=17), ActiveCell(col=40, row=17), ActiveCell(col=41, row=17), ActiveCell(col=42, row=17), ActiveCell(col=43, row=17), ActiveCell(col=44, row=17), ActiveCell(col=45, row=17), ActiveCell(col=46, row=17), ActiveCell(col=47, row=17), ActiveCell(col=48, row=17), ActiveCell(col=49, row=17), ActiveCell(col=50, row=17), ActiveCell(col=51, row=17), ActiveCell(col=52, row=17), ActiveCell(col=53, row=17), ActiveCell(col=54, row=17), ActiveCell(col=55, row=17), ActiveCell(col=56, row=17), ActiveCell(col=57, row=17), ActiveCell(col=58, row=17), ActiveCell(col=59, row=17), ActiveCell(col=60, row=17), ActiveCell(col=61, row=17), ActiveCell(col=62, row=17), ActiveCell(col=63, row=17), ActiveCell(col=64, row=17), ActiveCell(col=65, row=17), ActiveCell(col=66, row=17), ActiveCell(col=67, row=17), ActiveCell(col=68, row=17), ActiveCell(col=69, row=17), ActiveCell(col=70, row=17), ActiveCell(col=71, row=17), ActiveCell(col=72, row=17), ActiveCell(col=73, row=17), ActiveCell(col=74, row=17), ActiveCell(col=75, row=17), ActiveCell(col=76, row=17), ActiveCell(col=77, row=17), ActiveCell(col=78, row=17), ActiveCell(col=79, row=17), ActiveCell(col=80, row=17), ActiveCell(col=81, row=17), ActiveCell(col=82, row=17), ActiveCell(col=83, row=17), ActiveCell(col=84, row=17), ActiveCell(col=85, row=17), ActiveCell(col=86, row=17), ActiveCell(col=87, row=17), ActiveCell(col=88, row=17), ActiveCell(col=89, row=17), ActiveCell(col=90, row=17), ActiveCell(col=91, row=17), ActiveCell(col=92, row=17), ActiveCell(col=93, row=17), ActiveCell(col=94, row=17), ActiveCell(col=95, row=17), ActiveCell(col=4, row=18), ActiveCell(col=5, row=18), ActiveCell(col=6, row=18), ActiveCell(col=7, row=18), ActiveCell(col=8, row=18), ActiveCell(col=9, row=18), ActiveCell(col=10, row=18), ActiveCell(col=11, row=18), ActiveCell(col=12, row=18), ActiveCell(col=13, row=18), ActiveCell(col=14, row=18), ActiveCell(col=15, row=18), ActiveCell(col=16, row=18), ActiveCell(col=17, row=18), ActiveCell(col=18, row=18), ActiveCell(col=19, row=18), ActiveCell(col=20, row=18), ActiveCell(col=21, row=18), ActiveCell(col=22, row=18), ActiveCell(col=23, row=18), ActiveCell(col=24, row=18), ActiveCell(col=25, row=18), ActiveCell(col=26, row=18), ActiveCell(col=27, row=18), ActiveCell(col=28, row=18), ActiveCell(col=29, row=18), ActiveCell(col=30, row=18), ActiveCell(col=31, row=18), ActiveCell(col=32, row=18), ActiveCell(col=33, row=18), ActiveCell(col=34, row=18), ActiveCell(col=35, row=18), ActiveCell(col=36, row=18), ActiveCell(col=37, row=18), ActiveCell(col=38, row=18), ActiveCell(col=39, row=18), ActiveCell(col=40, row=18), ActiveCell(col=41, row=18), ActiveCell(col=42, row=18), ActiveCell(col=43, row=18), ActiveCell(col=44, row=18), ActiveCell(col=45, row=18), ActiveCell(col=46, row=18), ActiveCell(col=47, row=18), ActiveCell(col=48, row=18), ActiveCell(col=49, row=18), ActiveCell(col=50, row=18), ActiveCell(col=51, row=18), ActiveCell(col=52, row=18), ActiveCell(col=53, row=18), ActiveCell(col=54, row=18), ActiveCell(col=55, row=18), ActiveCell(col=56, row=18), ActiveCell(col=57, row=18), ActiveCell(col=58, row=18), ActiveCell(col=59, row=18), ActiveCell(col=60, row=18), ActiveCell(col=61, row=18), ActiveCell(col=62, row=18), ActiveCell(col=63, row=18), ActiveCell(col=64, row=18), ActiveCell(col=65, row=18), ActiveCell(col=66, row=18), ActiveCell(col=67, row=18), ActiveCell(col=68, row=18), ActiveCell(col=69, row=18), ActiveCell(col=70, row=18), ActiveCell(col=71, row=18), ActiveCell(col=72, row=18), ActiveCell(col=73, row=18), ActiveCell(col=74, row=18), ActiveCell(col=75, row=18), ActiveCell(col=76, row=18), ActiveCell(col=77, row=18), ActiveCell(col=78, row=18), ActiveCell(col=79, row=18), ActiveCell(col=80, row=18), ActiveCell(col=81, row=18), ActiveCell(col=82, row=18), ActiveCell(col=83, row=18), ActiveCell(col=84, row=18), ActiveCell(col=85, row=18), ActiveCell(col=86, row=18), ActiveCell(col=87, row=18), ActiveCell(col=88, row=18), ActiveCell(col=89, row=18), ActiveCell(col=90, row=18), ActiveCell(col=91, row=18), ActiveCell(col=92, row=18), ActiveCell(col=93, row=18), ActiveCell(col=94, row=18), ActiveCell(col=95, row=18), ActiveCell(col=96, row=18), ActiveCell(col=4, row=19), ActiveCell(col=5, row=19), ActiveCell(col=6, row=19), ActiveCell(col=7, row=19), ActiveCell(col=8, row=19), ActiveCell(col=9, row=19), ActiveCell(col=10, row=19), ActiveCell(col=11, row=19), ActiveCell(col=12, row=19), ActiveCell(col=13, row=19), ActiveCell(col=14, row=19), ActiveCell(col=15, row=19), ActiveCell(col=16, row=19), ActiveCell(col=17, row=19), ActiveCell(col=18, row=19), ActiveCell(col=19, row=19), ActiveCell(col=20, row=19), ActiveCell(col=21, row=19), ActiveCell(col=22, row=19), ActiveCell(col=23, row=19), ActiveCell(col=24, row=19), ActiveCell(col=25, row=19), ActiveCell(col=26, row=19), ActiveCell(col=27, row=19), ActiveCell(col=28, row=19), ActiveCell(col=29, row=19), ActiveCell(col=30, row=19), ActiveCell(col=31, row=19), ActiveCell(col=32, row=19), ActiveCell(col=33, row=19), ActiveCell(col=34, row=19), ActiveCell(col=35, row=19), ActiveCell(col=36, row=19), ActiveCell(col=37, row=19), ActiveCell(col=38, row=19), ActiveCell(col=39, row=19), ActiveCell(col=40, row=19), ActiveCell(col=41, row=19), ActiveCell(col=42, row=19), ActiveCell(col=43, row=19), ActiveCell(col=44, row=19), ActiveCell(col=45, row=19), ActiveCell(col=46, row=19), ActiveCell(col=47, row=19), ActiveCell(col=48, row=19), ActiveCell(col=49, row=19), ActiveCell(col=50, row=19), ActiveCell(col=51, row=19), ActiveCell(col=52, row=19), ActiveCell(col=53, row=19), ActiveCell(col=54, row=19), ActiveCell(col=55, row=19), ActiveCell(col=56, row=19), ActiveCell(col=57, row=19), ActiveCell(col=58, row=19), ActiveCell(col=59, row=19), ActiveCell(col=60, row=19), ActiveCell(col=61, row=19), ActiveCell(col=62, row=19), ActiveCell(col=63, row=19), ActiveCell(col=64, row=19), ActiveCell(col=65, row=19), ActiveCell(col=66, row=19), ActiveCell(col=67, row=19), ActiveCell(col=68, row=19), ActiveCell(col=69, row=19), ActiveCell(col=70, row=19), ActiveCell(col=71, row=19), ActiveCell(col=72, row=19), ActiveCell(col=73, row=19), ActiveCell(col=74, row=19), ActiveCell(col=75, row=19), ActiveCell(col=76, row=19), ActiveCell(col=77, row=19), ActiveCell(col=78, row=19), ActiveCell(col=79, row=19), ActiveCell(col=80, row=19), ActiveCell(col=81, row=19), ActiveCell(col=82, row=19), ActiveCell(col=83, row=19), ActiveCell(col=84, row=19), ActiveCell(col=85, row=19), ActiveCell(col=86, row=19), ActiveCell(col=87, row=19), ActiveCell(col=88, row=19), ActiveCell(col=89, row=19), ActiveCell(col=90, row=19), ActiveCell(col=91, row=19), ActiveCell(col=92, row=19), ActiveCell(col=93, row=19), ActiveCell(col=94, row=19), ActiveCell(col=95, row=19), ActiveCell(col=96, row=19), ActiveCell(col=4, row=20), ActiveCell(col=5, row=20), ActiveCell(col=6, row=20), ActiveCell(col=7, row=20), ActiveCell(col=8, row=20), ActiveCell(col=9, row=20), ActiveCell(col=10, row=20), ActiveCell(col=11, row=20), ActiveCell(col=12, row=20), ActiveCell(col=13, row=20), ActiveCell(col=14, row=20), ActiveCell(col=15, row=20), ActiveCell(col=16, row=20), ActiveCell(col=17, row=20), ActiveCell(col=18, row=20), ActiveCell(col=19, row=20), ActiveCell(col=20, row=20), ActiveCell(col=21, row=20), ActiveCell(col=22, row=20), ActiveCell(col=23, row=20), ActiveCell(col=24, row=20), ActiveCell(col=25, row=20), ActiveCell(col=26, row=20), ActiveCell(col=27, row=20), ActiveCell(col=28, row=20), ActiveCell(col=29, row=20), ActiveCell(col=30, row=20), ActiveCell(col=31, row=20), ActiveCell(col=32, row=20), ActiveCell(col=33, row=20), ActiveCell(col=34, row=20), ActiveCell(col=35, row=20), ActiveCell(col=36, row=20), ActiveCell(col=37, row=20), ActiveCell(col=38, row=20), ActiveCell(col=39, row=20), ActiveCell(col=40, row=20), ActiveCell(col=41, row=20), ActiveCell(col=42, row=20), ActiveCell(col=43, row=20), ActiveCell(col=44, row=20), ActiveCell(col=45, row=20), ActiveCell(col=46, row=20), ActiveCell(col=47, row=20), ActiveCell(col=48, row=20), ActiveCell(col=49, row=20), ActiveCell(col=50, row=20), ActiveCell(col=51, row=20), ActiveCell(col=52, row=20), ActiveCell(col=53, row=20), ActiveCell(col=54, row=20), ActiveCell(col=55, row=20), ActiveCell(col=56, row=20), ActiveCell(col=57, row=20), ActiveCell(col=58, row=20), ActiveCell(col=59, row=20), ActiveCell(col=60, row=20), ActiveCell(col=61, row=20), ActiveCell(col=62, row=20), ActiveCell(col=63, row=20), ActiveCell(col=64, row=20), ActiveCell(col=65, row=20), ActiveCell(col=66, row=20), ActiveCell(col=67, row=20), ActiveCell(col=68, row=20), ActiveCell(col=69, row=20), ActiveCell(col=70, row=20), ActiveCell(col=71, row=20), ActiveCell(col=72, row=20), ActiveCell(col=73, row=20), ActiveCell(col=74, row=20), ActiveCell(col=75, row=20), ActiveCell(col=76, row=20), ActiveCell(col=77, row=20), ActiveCell(col=78, row=20), ActiveCell(col=79, row=20), ActiveCell(col=80, row=20), ActiveCell(col=81, row=20), ActiveCell(col=82, row=20), ActiveCell(col=83, row=20), ActiveCell(col=84, row=20), ActiveCell(col=85, row=20), ActiveCell(col=86, row=20), ActiveCell(col=87, row=20), ActiveCell(col=88, row=20), ActiveCell(col=89, row=20), ActiveCell(col=90, row=20), ActiveCell(col=91, row=20), ActiveCell(col=92, row=20), ActiveCell(col=93, row=20), ActiveCell(col=94, row=20), ActiveCell(col=95, row=20), ActiveCell(col=96, row=20), ActiveCell(col=4, row=21), ActiveCell(col=5, row=21), ActiveCell(col=6, row=21), ActiveCell(col=7, row=21), ActiveCell(col=8, row=21), ActiveCell(col=9, row=21), ActiveCell(col=10, row=21), ActiveCell(col=11, row=21), ActiveCell(col=12, row=21), ActiveCell(col=13, row=21), ActiveCell(col=14, row=21), ActiveCell(col=15, row=21), ActiveCell(col=16, row=21), ActiveCell(col=17, row=21), ActiveCell(col=18, row=21), ActiveCell(col=19, row=21), ActiveCell(col=20, row=21), ActiveCell(col=21, row=21), ActiveCell(col=22, row=21), ActiveCell(col=23, row=21), ActiveCell(col=24, row=21), ActiveCell(col=25, row=21), ActiveCell(col=26, row=21), ActiveCell(col=27, row=21), ActiveCell(col=28, row=21), ActiveCell(col=29, row=21), ActiveCell(col=30, row=21), ActiveCell(col=31, row=21), ActiveCell(col=32, row=21), ActiveCell(col=33, row=21), ActiveCell(col=34, row=21), ActiveCell(col=35, row=21), ActiveCell(col=36, row=21), ActiveCell(col=37, row=21), ActiveCell(col=38, row=21), ActiveCell(col=39, row=21), ActiveCell(col=40, row=21), ActiveCell(col=41, row=21), ActiveCell(col=42, row=21), ActiveCell(col=43, row=21), ActiveCell(col=44, row=21), ActiveCell(col=45, row=21), ActiveCell(col=46, row=21), ActiveCell(col=47, row=21), ActiveCell(col=48, row=21), ActiveCell(col=49, row=21), ActiveCell(col=50, row=21), ActiveCell(col=51, row=21), ActiveCell(col=52, row=21), ActiveCell(col=53, row=21), ActiveCell(col=54, row=21), ActiveCell(col=55, row=21), ActiveCell(col=56, row=21), ActiveCell(col=57, row=21), ActiveCell(col=58, row=21), ActiveCell(col=59, row=21), ActiveCell(col=60, row=21), ActiveCell(col=61, row=21), ActiveCell(col=62, row=21), ActiveCell(col=63, row=21), ActiveCell(col=64, row=21), ActiveCell(col=65, row=21), ActiveCell(col=66, row=21), ActiveCell(col=67, row=21), ActiveCell(col=68, row=21), ActiveCell(col=69, row=21), ActiveCell(col=70, row=21), ActiveCell(col=71, row=21), ActiveCell(col=72, row=21), ActiveCell(col=73, row=21), ActiveCell(col=74, row=21), ActiveCell(col=75, row=21), ActiveCell(col=76, row=21), ActiveCell(col=77, row=21), ActiveCell(col=78, row=21), ActiveCell(col=79, row=21), ActiveCell(col=80, row=21), ActiveCell(col=81, row=21), ActiveCell(col=82, row=21), ActiveCell(col=83, row=21), ActiveCell(col=84, row=21), ActiveCell(col=85, row=21), ActiveCell(col=86, row=21), ActiveCell(col=87, row=21), ActiveCell(col=88, row=21), ActiveCell(col=89, row=21), ActiveCell(col=90, row=21), ActiveCell(col=91, row=21), ActiveCell(col=92, row=21), ActiveCell(col=93, row=21), ActiveCell(col=94, row=21), ActiveCell(col=95, row=21), ActiveCell(col=96, row=21), ActiveCell(col=4, row=22), ActiveCell(col=5, row=22), ActiveCell(col=6, row=22), ActiveCell(col=7, row=22), ActiveCell(col=8, row=22), ActiveCell(col=9, row=22), ActiveCell(col=10, row=22), ActiveCell(col=11, row=22), ActiveCell(col=12, row=22), ActiveCell(col=13, row=22), ActiveCell(col=14, row=22), ActiveCell(col=15, row=22), ActiveCell(col=16, row=22), ActiveCell(col=17, row=22), ActiveCell(col=18, row=22), ActiveCell(col=19, row=22), ActiveCell(col=20, row=22), ActiveCell(col=21, row=22), ActiveCell(col=22, row=22), ActiveCell(col=23, row=22), ActiveCell(col=24, row=22), ActiveCell(col=25, row=22), ActiveCell(col=26, row=22), ActiveCell(col=27, row=22), ActiveCell(col=28, row=22), ActiveCell(col=29, row=22), ActiveCell(col=30, row=22), ActiveCell(col=31, row=22), ActiveCell(col=32, row=22), ActiveCell(col=33, row=22), ActiveCell(col=34, row=22), ActiveCell(col=35, row=22), ActiveCell(col=36, row=22), ActiveCell(col=37, row=22), ActiveCell(col=38, row=22), ActiveCell(col=39, row=22), ActiveCell(col=40, row=22), ActiveCell(col=41, row=22), ActiveCell(col=42, row=22), ActiveCell(col=43, row=22), ActiveCell(col=44, row=22), ActiveCell(col=45, row=22), ActiveCell(col=46, row=22), ActiveCell(col=47, row=22), ActiveCell(col=48, row=22), ActiveCell(col=49, row=22), ActiveCell(col=50, row=22), ActiveCell(col=51, row=22), ActiveCell(col=52, row=22), ActiveCell(col=53, row=22), ActiveCell(col=54, row=22), ActiveCell(col=55, row=22), ActiveCell(col=56, row=22), ActiveCell(col=57, row=22), ActiveCell(col=58, row=22), ActiveCell(col=59, row=22), ActiveCell(col=60, row=22), ActiveCell(col=61, row=22), ActiveCell(col=62, row=22), ActiveCell(col=63, row=22), ActiveCell(col=64, row=22), ActiveCell(col=65, row=22), ActiveCell(col=66, row=22), ActiveCell(col=67, row=22), ActiveCell(col=68, row=22), ActiveCell(col=69, row=22), ActiveCell(col=70, row=22), ActiveCell(col=71, row=22), ActiveCell(col=72, row=22), ActiveCell(col=73, row=22), ActiveCell(col=74, row=22), ActiveCell(col=75, row=22), ActiveCell(col=76, row=22), ActiveCell(col=77, row=22), ActiveCell(col=78, row=22), ActiveCell(col=79, row=22), ActiveCell(col=80, row=22), ActiveCell(col=81, row=22), ActiveCell(col=82, row=22), ActiveCell(col=83, row=22), ActiveCell(col=84, row=22), ActiveCell(col=85, row=22), ActiveCell(col=86, row=22), ActiveCell(col=87, row=22), ActiveCell(col=88, row=22), ActiveCell(col=89, row=22), ActiveCell(col=90, row=22), ActiveCell(col=91, row=22), ActiveCell(col=92, row=22), ActiveCell(col=93, row=22), ActiveCell(col=94, row=22), ActiveCell(col=95, row=22), ActiveCell(col=96, row=22), ActiveCell(col=97, row=22), ActiveCell(col=5, row=23), ActiveCell(col=6, row=23), ActiveCell(col=7, row=23), ActiveCell(col=8, row=23), ActiveCell(col=9, row=23), ActiveCell(col=10, row=23), ActiveCell(col=11, row=23), ActiveCell(col=12, row=23), ActiveCell(col=13, row=23), ActiveCell(col=14, row=23), ActiveCell(col=15, row=23), ActiveCell(col=16, row=23), ActiveCell(col=17, row=23), ActiveCell(col=18, row=23), ActiveCell(col=19, row=23), ActiveCell(col=20, row=23), ActiveCell(col=21, row=23), ActiveCell(col=22, row=23), ActiveCell(col=23, row=23), ActiveCell(col=24, row=23), ActiveCell(col=25, row=23), ActiveCell(col=26, row=23), ActiveCell(col=27, row=23), ActiveCell(col=28, row=23), ActiveCell(col=29, row=23), ActiveCell(col=30, row=23), ActiveCell(col=31, row=23), ActiveCell(col=32, row=23), ActiveCell(col=33, row=23), ActiveCell(col=34, row=23), ActiveCell(col=35, row=23), ActiveCell(col=36, row=23), ActiveCell(col=37, row=23), ActiveCell(col=38, row=23), ActiveCell(col=39, row=23), ActiveCell(col=40, row=23), ActiveCell(col=41, row=23), ActiveCell(col=42, row=23), ActiveCell(col=43, row=23), ActiveCell(col=44, row=23), ActiveCell(col=45, row=23), ActiveCell(col=46, row=23), ActiveCell(col=47, row=23), ActiveCell(col=48, row=23), ActiveCell(col=49, row=23), ActiveCell(col=50, row=23), ActiveCell(col=51, row=23), ActiveCell(col=52, row=23), ActiveCell(col=53, row=23), ActiveCell(col=54, row=23), ActiveCell(col=55, row=23), ActiveCell(col=56, row=23), ActiveCell(col=57, row=23), ActiveCell(col=58, row=23), ActiveCell(col=59, row=23), ActiveCell(col=60, row=23), ActiveCell(col=61, row=23), ActiveCell(col=62, row=23), ActiveCell(col=63, row=23), ActiveCell(col=64, row=23), ActiveCell(col=65, row=23), ActiveCell(col=66, row=23), ActiveCell(col=67, row=23), ActiveCell(col=68, row=23), ActiveCell(col=69, row=23), ActiveCell(col=70, row=23), ActiveCell(col=71, row=23), ActiveCell(col=72, row=23), ActiveCell(col=73, row=23), ActiveCell(col=74, row=23), ActiveCell(col=75, row=23), ActiveCell(col=76, row=23), ActiveCell(col=77, row=23), ActiveCell(col=78, row=23), ActiveCell(col=79, row=23), ActiveCell(col=80, row=23), ActiveCell(col=81, row=23), ActiveCell(col=82, row=23), ActiveCell(col=83, row=23), ActiveCell(col=84, row=23), ActiveCell(col=85, row=23), ActiveCell(col=86, row=23), ActiveCell(col=87, row=23), ActiveCell(col=88, row=23), ActiveCell(col=89, row=23), ActiveCell(col=90, row=23), ActiveCell(col=91, row=23), ActiveCell(col=92, row=23), ActiveCell(col=93, row=23), ActiveCell(col=94, row=23), ActiveCell(col=95, row=23), ActiveCell(col=96, row=23), ActiveCell(col=97, row=23), ActiveCell(col=5, row=24), ActiveCell(col=6, row=24), ActiveCell(col=7, row=24), ActiveCell(col=8, row=24), ActiveCell(col=9, row=24), ActiveCell(col=10, row=24), ActiveCell(col=11, row=24), ActiveCell(col=12, row=24), ActiveCell(col=13, row=24), ActiveCell(col=14, row=24), ActiveCell(col=15, row=24), ActiveCell(col=16, row=24), ActiveCell(col=17, row=24), ActiveCell(col=18, row=24), ActiveCell(col=19, row=24), ActiveCell(col=20, row=24), ActiveCell(col=21, row=24), ActiveCell(col=22, row=24), ActiveCell(col=23, row=24), ActiveCell(col=24, row=24), ActiveCell(col=25, row=24), ActiveCell(col=26, row=24), ActiveCell(col=27, row=24), ActiveCell(col=28, row=24), ActiveCell(col=29, row=24), ActiveCell(col=30, row=24), ActiveCell(col=31, row=24), ActiveCell(col=32, row=24), ActiveCell(col=33, row=24), ActiveCell(col=34, row=24), ActiveCell(col=35, row=24), ActiveCell(col=36, row=24), ActiveCell(col=37, row=24), ActiveCell(col=38, row=24), ActiveCell(col=39, row=24), ActiveCell(col=40, row=24), ActiveCell(col=41, row=24), ActiveCell(col=42, row=24), ActiveCell(col=43, row=24), ActiveCell(col=44, row=24), ActiveCell(col=45, row=24), ActiveCell(col=46, row=24), ActiveCell(col=47, row=24), ActiveCell(col=48, row=24), ActiveCell(col=49, row=24), ActiveCell(col=50, row=24), ActiveCell(col=51, row=24), ActiveCell(col=52, row=24), ActiveCell(col=53, row=24), ActiveCell(col=54, row=24), ActiveCell(col=55, row=24), ActiveCell(col=56, row=24), ActiveCell(col=57, row=24), ActiveCell(col=58, row=24), ActiveCell(col=59, row=24), ActiveCell(col=60, row=24), ActiveCell(col=61, row=24), ActiveCell(col=62, row=24), ActiveCell(col=63, row=24), ActiveCell(col=64, row=24), ActiveCell(col=65, row=24), ActiveCell(col=66, row=24), ActiveCell(col=67, row=24), ActiveCell(col=68, row=24), ActiveCell(col=69, row=24), ActiveCell(col=70, row=24), ActiveCell(col=71, row=24), ActiveCell(col=72, row=24), ActiveCell(col=73, row=24), ActiveCell(col=74, row=24), ActiveCell(col=75, row=24), ActiveCell(col=76, row=24), ActiveCell(col=77, row=24), ActiveCell(col=78, row=24), ActiveCell(col=79, row=24), ActiveCell(col=80, row=24), ActiveCell(col=81, row=24), ActiveCell(col=82, row=24), ActiveCell(col=83, row=24), ActiveCell(col=84, row=24), ActiveCell(col=85, row=24), ActiveCell(col=86, row=24), ActiveCell(col=87, row=24), ActiveCell(col=88, row=24), ActiveCell(col=89, row=24), ActiveCell(col=90, row=24), ActiveCell(col=91, row=24), ActiveCell(col=92, row=24), ActiveCell(col=93, row=24), ActiveCell(col=94, row=24), ActiveCell(col=95, row=24), ActiveCell(col=96, row=24), ActiveCell(col=97, row=24), ActiveCell(col=5, row=25), ActiveCell(col=6, row=25), ActiveCell(col=7, row=25), ActiveCell(col=8, row=25), ActiveCell(col=9, row=25), ActiveCell(col=10, row=25), ActiveCell(col=11, row=25), ActiveCell(col=12, row=25), ActiveCell(col=13, row=25), ActiveCell(col=14, row=25), ActiveCell(col=15, row=25), ActiveCell(col=16, row=25), ActiveCell(col=17, row=25), ActiveCell(col=18, row=25), ActiveCell(col=19, row=25), ActiveCell(col=20, row=25), ActiveCell(col=21, row=25), ActiveCell(col=22, row=25), ActiveCell(col=23, row=25), ActiveCell(col=24, row=25), ActiveCell(col=25, row=25), ActiveCell(col=26, row=25), ActiveCell(col=27, row=25), ActiveCell(col=28, row=25), ActiveCell(col=29, row=25), ActiveCell(col=30, row=25), ActiveCell(col=31, row=25), ActiveCell(col=32, row=25), ActiveCell(col=33, row=25), ActiveCell(col=34, row=25), ActiveCell(col=35, row=25), ActiveCell(col=36, row=25), ActiveCell(col=37, row=25), ActiveCell(col=38, row=25), ActiveCell(col=39, row=25), ActiveCell(col=40, row=25), ActiveCell(col=41, row=25), ActiveCell(col=42, row=25), ActiveCell(col=43, row=25), ActiveCell(col=44, row=25), ActiveCell(col=45, row=25), ActiveCell(col=46, row=25), ActiveCell(col=47, row=25), ActiveCell(col=48, row=25), ActiveCell(col=49, row=25), ActiveCell(col=50, row=25), ActiveCell(col=51, row=25), ActiveCell(col=52, row=25), ActiveCell(col=53, row=25), ActiveCell(col=54, row=25), ActiveCell(col=55, row=25), ActiveCell(col=56, row=25), ActiveCell(col=57, row=25), ActiveCell(col=58, row=25), ActiveCell(col=59, row=25), ActiveCell(col=60, row=25), ActiveCell(col=61, row=25), ActiveCell(col=62, row=25), ActiveCell(col=63, row=25), ActiveCell(col=64, row=25), ActiveCell(col=65, row=25), ActiveCell(col=66, row=25), ActiveCell(col=67, row=25), ActiveCell(col=68, row=25), ActiveCell(col=69, row=25), ActiveCell(col=70, row=25), ActiveCell(col=71, row=25), ActiveCell(col=72, row=25), ActiveCell(col=73, row=25), ActiveCell(col=74, row=25), ActiveCell(col=75, row=25), ActiveCell(col=76, row=25), ActiveCell(col=77, row=25), ActiveCell(col=78, row=25), ActiveCell(col=79, row=25), ActiveCell(col=80, row=25), ActiveCell(col=81, row=25), ActiveCell(col=82, row=25), ActiveCell(col=83, row=25), ActiveCell(col=84, row=25), ActiveCell(col=85, row=25), ActiveCell(col=86, row=25), ActiveCell(col=87, row=25), ActiveCell(col=88, row=25), ActiveCell(col=89, row=25), ActiveCell(col=90, row=25), ActiveCell(col=91, row=25), ActiveCell(col=92, row=25), ActiveCell(col=93, row=25), ActiveCell(col=94, row=25), ActiveCell(col=95, row=25), ActiveCell(col=96, row=25), ActiveCell(col=97, row=25), ActiveCell(col=5, row=26), ActiveCell(col=6, row=26), ActiveCell(col=7, row=26), ActiveCell(col=8, row=26), ActiveCell(col=9, row=26), ActiveCell(col=10, row=26), ActiveCell(col=11, row=26), ActiveCell(col=12, row=26), ActiveCell(col=13, row=26), ActiveCell(col=14, row=26), ActiveCell(col=15, row=26), ActiveCell(col=16, row=26), ActiveCell(col=17, row=26), ActiveCell(col=18, row=26), ActiveCell(col=19, row=26), ActiveCell(col=20, row=26), ActiveCell(col=21, row=26), ActiveCell(col=22, row=26), ActiveCell(col=23, row=26), ActiveCell(col=24, row=26), ActiveCell(col=25, row=26), ActiveCell(col=26, row=26), ActiveCell(col=27, row=26), ActiveCell(col=28, row=26), ActiveCell(col=29, row=26), ActiveCell(col=30, row=26), ActiveCell(col=31, row=26), ActiveCell(col=32, row=26), ActiveCell(col=33, row=26), ActiveCell(col=34, row=26), ActiveCell(col=35, row=26), ActiveCell(col=36, row=26), ActiveCell(col=37, row=26), ActiveCell(col=38, row=26), ActiveCell(col=39, row=26), ActiveCell(col=40, row=26), ActiveCell(col=41, row=26), ActiveCell(col=42, row=26), ActiveCell(col=43, row=26), ActiveCell(col=44, row=26), ActiveCell(col=45, row=26), ActiveCell(col=46, row=26), ActiveCell(col=47, row=26), ActiveCell(col=48, row=26), ActiveCell(col=49, row=26), ActiveCell(col=50, row=26), ActiveCell(col=51, row=26), ActiveCell(col=52, row=26), ActiveCell(col=53, row=26), ActiveCell(col=54, row=26), ActiveCell(col=55, row=26), ActiveCell(col=56, row=26), ActiveCell(col=57, row=26), ActiveCell(col=58, row=26), ActiveCell(col=59, row=26), ActiveCell(col=60, row=26), ActiveCell(col=61, row=26), ActiveCell(col=62, row=26), ActiveCell(col=63, row=26), ActiveCell(col=64, row=26), ActiveCell(col=65, row=26), ActiveCell(col=66, row=26), ActiveCell(col=67, row=26), ActiveCell(col=68, row=26), ActiveCell(col=69, row=26), ActiveCell(col=70, row=26), ActiveCell(col=71, row=26), ActiveCell(col=72, row=26), ActiveCell(col=73, row=26), ActiveCell(col=74, row=26), ActiveCell(col=75, row=26), ActiveCell(col=76, row=26), ActiveCell(col=77, row=26), ActiveCell(col=78, row=26), ActiveCell(col=79, row=26), ActiveCell(col=80, row=26), ActiveCell(col=81, row=26), ActiveCell(col=82, row=26), ActiveCell(col=83, row=26), ActiveCell(col=84, row=26), ActiveCell(col=85, row=26), ActiveCell(col=86, row=26), ActiveCell(col=87, row=26), ActiveCell(col=88, row=26), ActiveCell(col=89, row=26), ActiveCell(col=90, row=26), ActiveCell(col=91, row=26), ActiveCell(col=92, row=26), ActiveCell(col=93, row=26), ActiveCell(col=94, row=26), ActiveCell(col=95, row=26), ActiveCell(col=96, row=26), ActiveCell(col=97, row=26), ActiveCell(col=5, row=27), ActiveCell(col=6, row=27), ActiveCell(col=7, row=27), ActiveCell(col=8, row=27), ActiveCell(col=9, row=27), ActiveCell(col=10, row=27), ActiveCell(col=11, row=27), ActiveCell(col=12, row=27), ActiveCell(col=13, row=27), ActiveCell(col=14, row=27), ActiveCell(col=15, row=27), ActiveCell(col=16, row=27), ActiveCell(col=17, row=27), ActiveCell(col=18, row=27), ActiveCell(col=19, row=27), ActiveCell(col=20, row=27), ActiveCell(col=21, row=27), ActiveCell(col=22, row=27), ActiveCell(col=23, row=27), ActiveCell(col=24, row=27), ActiveCell(col=25, row=27), ActiveCell(col=26, row=27), ActiveCell(col=27, row=27), ActiveCell(col=28, row=27), ActiveCell(col=29, row=27), ActiveCell(col=30, row=27), ActiveCell(col=31, row=27), ActiveCell(col=32, row=27), ActiveCell(col=33, row=27), ActiveCell(col=34, row=27), ActiveCell(col=35, row=27), ActiveCell(col=36, row=27), ActiveCell(col=37, row=27), ActiveCell(col=38, row=27), ActiveCell(col=39, row=27), ActiveCell(col=40, row=27), ActiveCell(col=41, row=27), ActiveCell(col=42, row=27), ActiveCell(col=43, row=27), ActiveCell(col=44, row=27), ActiveCell(col=45, row=27), ActiveCell(col=46, row=27), ActiveCell(col=47, row=27), ActiveCell(col=48, row=27), ActiveCell(col=49, row=27), ActiveCell(col=50, row=27), ActiveCell(col=51, row=27), ActiveCell(col=52, row=27), ActiveCell(col=53, row=27), ActiveCell(col=54, row=27), ActiveCell(col=55, row=27), ActiveCell(col=56, row=27), ActiveCell(col=57, row=27), ActiveCell(col=58, row=27), ActiveCell(col=59, row=27), ActiveCell(col=60, row=27), ActiveCell(col=61, row=27), ActiveCell(col=62, row=27), ActiveCell(col=63, row=27), ActiveCell(col=64, row=27), ActiveCell(col=65, row=27), ActiveCell(col=66, row=27), ActiveCell(col=67, row=27), ActiveCell(col=68, row=27), ActiveCell(col=69, row=27), ActiveCell(col=70, row=27), ActiveCell(col=71, row=27), ActiveCell(col=72, row=27), ActiveCell(col=73, row=27), ActiveCell(col=74, row=27), ActiveCell(col=75, row=27), ActiveCell(col=76, row=27), ActiveCell(col=77, row=27), ActiveCell(col=78, row=27), ActiveCell(col=79, row=27), ActiveCell(col=80, row=27), ActiveCell(col=81, row=27), ActiveCell(col=82, row=27), ActiveCell(col=83, row=27), ActiveCell(col=84, row=27), ActiveCell(col=85, row=27), ActiveCell(col=86, row=27), ActiveCell(col=87, row=27), ActiveCell(col=88, row=27), ActiveCell(col=89, row=27), ActiveCell(col=90, row=27), ActiveCell(col=91, row=27), ActiveCell(col=92, row=27), ActiveCell(col=93, row=27), ActiveCell(col=94, row=27), ActiveCell(col=95, row=27), ActiveCell(col=96, row=27), ActiveCell(col=97, row=27), ActiveCell(col=98, row=27), ActiveCell(col=5, row=28), ActiveCell(col=6, row=28), ActiveCell(col=7, row=28), ActiveCell(col=8, row=28), ActiveCell(col=9, row=28), ActiveCell(col=10, row=28), ActiveCell(col=11, row=28), ActiveCell(col=12, row=28), ActiveCell(col=13, row=28), ActiveCell(col=14, row=28), ActiveCell(col=15, row=28), ActiveCell(col=16, row=28), ActiveCell(col=17, row=28), ActiveCell(col=18, row=28), ActiveCell(col=19, row=28), ActiveCell(col=20, row=28), ActiveCell(col=21, row=28), ActiveCell(col=22, row=28), ActiveCell(col=23, row=28), ActiveCell(col=24, row=28), ActiveCell(col=25, row=28), ActiveCell(col=26, row=28), ActiveCell(col=27, row=28), ActiveCell(col=28, row=28), ActiveCell(col=29, row=28), ActiveCell(col=30, row=28), ActiveCell(col=31, row=28), ActiveCell(col=32, row=28), ActiveCell(col=33, row=28), ActiveCell(col=34, row=28), ActiveCell(col=35, row=28), ActiveCell(col=36, row=28), ActiveCell(col=37, row=28), ActiveCell(col=38, row=28), ActiveCell(col=39, row=28), ActiveCell(col=40, row=28), ActiveCell(col=41, row=28), ActiveCell(col=42, row=28), ActiveCell(col=43, row=28), ActiveCell(col=44, row=28), ActiveCell(col=45, row=28), ActiveCell(col=46, row=28), ActiveCell(col=47, row=28), ActiveCell(col=48, row=28), ActiveCell(col=49, row=28), ActiveCell(col=50, row=28), ActiveCell(col=51, row=28), ActiveCell(col=52, row=28), ActiveCell(col=53, row=28), ActiveCell(col=54, row=28), ActiveCell(col=55, row=28), ActiveCell(col=56, row=28), ActiveCell(col=57, row=28), ActiveCell(col=58, row=28), ActiveCell(col=59, row=28), ActiveCell(col=60, row=28), ActiveCell(col=61, row=28), ActiveCell(col=62, row=28), ActiveCell(col=63, row=28), ActiveCell(col=64, row=28), ActiveCell(col=65, row=28), ActiveCell(col=66, row=28), ActiveCell(col=67, row=28), ActiveCell(col=68, row=28), ActiveCell(col=69, row=28), ActiveCell(col=70, row=28), ActiveCell(col=71, row=28), ActiveCell(col=72, row=28), ActiveCell(col=73, row=28), ActiveCell(col=74, row=28), ActiveCell(col=75, row=28), ActiveCell(col=76, row=28), ActiveCell(col=77, row=28), ActiveCell(col=78, row=28), ActiveCell(col=79, row=28), ActiveCell(col=80, row=28), ActiveCell(col=81, row=28), ActiveCell(col=82, row=28), ActiveCell(col=83, row=28), ActiveCell(col=84, row=28), ActiveCell(col=85, row=28), ActiveCell(col=86, row=28), ActiveCell(col=87, row=28), ActiveCell(col=88, row=28), ActiveCell(col=89, row=28), ActiveCell(col=90, row=28), ActiveCell(col=91, row=28), ActiveCell(col=92, row=28), ActiveCell(col=93, row=28), ActiveCell(col=94, row=28), ActiveCell(col=95, row=28), ActiveCell(col=96, row=28), ActiveCell(col=97, row=28), ActiveCell(col=98, row=28), ActiveCell(col=6, row=29), ActiveCell(col=7, row=29), ActiveCell(col=8, row=29), ActiveCell(col=9, row=29), ActiveCell(col=10, row=29), ActiveCell(col=11, row=29), ActiveCell(col=12, row=29), ActiveCell(col=13, row=29), ActiveCell(col=14, row=29), ActiveCell(col=15, row=29), ActiveCell(col=16, row=29), ActiveCell(col=17, row=29), ActiveCell(col=18, row=29), ActiveCell(col=19, row=29), ActiveCell(col=20, row=29), ActiveCell(col=21, row=29), ActiveCell(col=22, row=29), ActiveCell(col=23, row=29), ActiveCell(col=24, row=29), ActiveCell(col=25, row=29), ActiveCell(col=26, row=29), ActiveCell(col=27, row=29), ActiveCell(col=28, row=29), ActiveCell(col=29, row=29), ActiveCell(col=30, row=29), ActiveCell(col=31, row=29), ActiveCell(col=32, row=29), ActiveCell(col=33, row=29), ActiveCell(col=34, row=29), ActiveCell(col=35, row=29), ActiveCell(col=36, row=29), ActiveCell(col=37, row=29), ActiveCell(col=38, row=29), ActiveCell(col=39, row=29), ActiveCell(col=40, row=29), ActiveCell(col=41, row=29), ActiveCell(col=42, row=29), ActiveCell(col=43, row=29), ActiveCell(col=44, row=29), ActiveCell(col=45, row=29), ActiveCell(col=46, row=29), ActiveCell(col=47, row=29), ActiveCell(col=48, row=29), ActiveCell(col=49, row=29), ActiveCell(col=50, row=29), ActiveCell(col=51, row=29), ActiveCell(col=52, row=29), ActiveCell(col=53, row=29), ActiveCell(col=54, row=29), ActiveCell(col=55, row=29), ActiveCell(col=56, row=29), ActiveCell(col=57, row=29), ActiveCell(col=58, row=29), ActiveCell(col=59, row=29), ActiveCell(col=60, row=29), ActiveCell(col=61, row=29), ActiveCell(col=62, row=29), ActiveCell(col=63, row=29), ActiveCell(col=64, row=29), ActiveCell(col=65, row=29), ActiveCell(col=66, row=29), ActiveCell(col=67, row=29), ActiveCell(col=68, row=29), ActiveCell(col=69, row=29), ActiveCell(col=70, row=29), ActiveCell(col=71, row=29), ActiveCell(col=72, row=29), ActiveCell(col=73, row=29), ActiveCell(col=74, row=29), ActiveCell(col=75, row=29), ActiveCell(col=76, row=29), ActiveCell(col=77, row=29), ActiveCell(col=78, row=29), ActiveCell(col=79, row=29), ActiveCell(col=80, row=29), ActiveCell(col=81, row=29), ActiveCell(col=82, row=29), ActiveCell(col=83, row=29), ActiveCell(col=84, row=29), ActiveCell(col=85, row=29), ActiveCell(col=86, row=29), ActiveCell(col=87, row=29), ActiveCell(col=88, row=29), ActiveCell(col=89, row=29), ActiveCell(col=90, row=29), ActiveCell(col=91, row=29), ActiveCell(col=92, row=29), ActiveCell(col=93, row=29), ActiveCell(col=94, row=29), ActiveCell(col=95, row=29), ActiveCell(col=96, row=29), ActiveCell(col=97, row=29), ActiveCell(col=98, row=29), ActiveCell(col=6, row=30), ActiveCell(col=7, row=30), ActiveCell(col=8, row=30), ActiveCell(col=9, row=30), ActiveCell(col=10, row=30), ActiveCell(col=11, row=30), ActiveCell(col=12, row=30), ActiveCell(col=13, row=30), ActiveCell(col=14, row=30), ActiveCell(col=15, row=30), ActiveCell(col=16, row=30), ActiveCell(col=17, row=30), ActiveCell(col=18, row=30), ActiveCell(col=19, row=30), ActiveCell(col=20, row=30), ActiveCell(col=21, row=30), ActiveCell(col=22, row=30), ActiveCell(col=23, row=30), ActiveCell(col=24, row=30), ActiveCell(col=25, row=30), ActiveCell(col=26, row=30), ActiveCell(col=27, row=30), ActiveCell(col=28, row=30), ActiveCell(col=29, row=30), ActiveCell(col=30, row=30), ActiveCell(col=31, row=30), ActiveCell(col=32, row=30), ActiveCell(col=33, row=30), ActiveCell(col=34, row=30), ActiveCell(col=35, row=30), ActiveCell(col=36, row=30), ActiveCell(col=37, row=30), ActiveCell(col=38, row=30), ActiveCell(col=39, row=30), ActiveCell(col=40, row=30), ActiveCell(col=41, row=30), ActiveCell(col=42, row=30), ActiveCell(col=43, row=30), ActiveCell(col=44, row=30), ActiveCell(col=45, row=30), ActiveCell(col=46, row=30), ActiveCell(col=47, row=30), ActiveCell(col=48, row=30), ActiveCell(col=49, row=30), ActiveCell(col=50, row=30), ActiveCell(col=51, row=30), ActiveCell(col=52, row=30), ActiveCell(col=53, row=30), ActiveCell(col=54, row=30), ActiveCell(col=55, row=30), ActiveCell(col=56, row=30), ActiveCell(col=57, row=30), ActiveCell(col=58, row=30), ActiveCell(col=59, row=30), ActiveCell(col=60, row=30), ActiveCell(col=61, row=30), ActiveCell(col=62, row=30), ActiveCell(col=63, row=30), ActiveCell(col=64, row=30), ActiveCell(col=65, row=30), ActiveCell(col=66, row=30), ActiveCell(col=67, row=30), ActiveCell(col=68, row=30), ActiveCell(col=69, row=30), ActiveCell(col=70, row=30), ActiveCell(col=71, row=30), ActiveCell(col=72, row=30), ActiveCell(col=73, row=30), ActiveCell(col=74, row=30), ActiveCell(col=75, row=30), ActiveCell(col=76, row=30), ActiveCell(col=77, row=30), ActiveCell(col=78, row=30), ActiveCell(col=79, row=30), ActiveCell(col=80, row=30), ActiveCell(col=81, row=30), ActiveCell(col=82, row=30), ActiveCell(col=83, row=30), ActiveCell(col=84, row=30), ActiveCell(col=85, row=30), ActiveCell(col=86, row=30), ActiveCell(col=87, row=30), ActiveCell(col=88, row=30), ActiveCell(col=89, row=30), ActiveCell(col=90, row=30), ActiveCell(col=91, row=30), ActiveCell(col=92, row=30), ActiveCell(col=93, row=30), ActiveCell(col=94, row=30), ActiveCell(col=95, row=30), ActiveCell(col=96, row=30), ActiveCell(col=97, row=30), ActiveCell(col=98, row=30), ActiveCell(col=6, row=31), ActiveCell(col=7, row=31), ActiveCell(col=8, row=31), ActiveCell(col=9, row=31), ActiveCell(col=10, row=31), ActiveCell(col=11, row=31), ActiveCell(col=12, row=31), ActiveCell(col=13, row=31), ActiveCell(col=14, row=31), ActiveCell(col=15, row=31), ActiveCell(col=16, row=31), ActiveCell(col=17, row=31), ActiveCell(col=18, row=31), ActiveCell(col=19, row=31), ActiveCell(col=20, row=31), ActiveCell(col=21, row=31), ActiveCell(col=22, row=31), ActiveCell(col=23, row=31), ActiveCell(col=24, row=31), ActiveCell(col=25, row=31), ActiveCell(col=26, row=31), ActiveCell(col=27, row=31), ActiveCell(col=28, row=31), ActiveCell(col=29, row=31), ActiveCell(col=30, row=31), ActiveCell(col=31, row=31), ActiveCell(col=32, row=31), ActiveCell(col=33, row=31), ActiveCell(col=34, row=31), ActiveCell(col=35, row=31), ActiveCell(col=36, row=31), ActiveCell(col=37, row=31), ActiveCell(col=38, row=31), ActiveCell(col=39, row=31), ActiveCell(col=40, row=31), ActiveCell(col=41, row=31), ActiveCell(col=42, row=31), ActiveCell(col=43, row=31), ActiveCell(col=44, row=31), ActiveCell(col=45, row=31), ActiveCell(col=46, row=31), ActiveCell(col=47, row=31), ActiveCell(col=48, row=31), ActiveCell(col=49, row=31), ActiveCell(col=50, row=31), ActiveCell(col=51, row=31), ActiveCell(col=52, row=31), ActiveCell(col=53, row=31), ActiveCell(col=54, row=31), ActiveCell(col=55, row=31), ActiveCell(col=56, row=31), ActiveCell(col=57, row=31), ActiveCell(col=58, row=31), ActiveCell(col=59, row=31), ActiveCell(col=60, row=31), ActiveCell(col=61, row=31), ActiveCell(col=62, row=31), ActiveCell(col=63, row=31), ActiveCell(col=64, row=31), ActiveCell(col=65, row=31), ActiveCell(col=66, row=31), ActiveCell(col=67, row=31), ActiveCell(col=68, row=31), ActiveCell(col=69, row=31), ActiveCell(col=70, row=31), ActiveCell(col=71, row=31), ActiveCell(col=72, row=31), ActiveCell(col=73, row=31), ActiveCell(col=74, row=31), ActiveCell(col=75, row=31), ActiveCell(col=76, row=31), ActiveCell(col=77, row=31), ActiveCell(col=78, row=31), ActiveCell(col=79, row=31), ActiveCell(col=80, row=31), ActiveCell(col=81, row=31), ActiveCell(col=82, row=31), ActiveCell(col=83, row=31), ActiveCell(col=84, row=31), ActiveCell(col=85, row=31), ActiveCell(col=86, row=31), ActiveCell(col=87, row=31), ActiveCell(col=88, row=31), ActiveCell(col=89, row=31), ActiveCell(col=90, row=31), ActiveCell(col=91, row=31), ActiveCell(col=92, row=31), ActiveCell(col=93, row=31), ActiveCell(col=94, row=31), ActiveCell(col=95, row=31), ActiveCell(col=96, row=31), ActiveCell(col=97, row=31), ActiveCell(col=98, row=31), ActiveCell(col=6, row=32), ActiveCell(col=7, row=32), ActiveCell(col=8, row=32), ActiveCell(col=9, row=32), ActiveCell(col=10, row=32), ActiveCell(col=11, row=32), ActiveCell(col=12, row=32), ActiveCell(col=13, row=32), ActiveCell(col=14, row=32), ActiveCell(col=15, row=32), ActiveCell(col=16, row=32), ActiveCell(col=17, row=32), ActiveCell(col=18, row=32), ActiveCell(col=19, row=32), ActiveCell(col=20, row=32), ActiveCell(col=21, row=32), ActiveCell(col=22, row=32), ActiveCell(col=23, row=32), ActiveCell(col=24, row=32), ActiveCell(col=25, row=32), ActiveCell(col=26, row=32), ActiveCell(col=27, row=32), ActiveCell(col=28, row=32), ActiveCell(col=29, row=32), ActiveCell(col=30, row=32), ActiveCell(col=31, row=32), ActiveCell(col=32, row=32), ActiveCell(col=33, row=32), ActiveCell(col=34, row=32), ActiveCell(col=35, row=32), ActiveCell(col=36, row=32), ActiveCell(col=37, row=32), ActiveCell(col=38, row=32), ActiveCell(col=39, row=32), ActiveCell(col=40, row=32), ActiveCell(col=41, row=32), ActiveCell(col=42, row=32), ActiveCell(col=43, row=32), ActiveCell(col=44, row=32), ActiveCell(col=45, row=32), ActiveCell(col=46, row=32), ActiveCell(col=47, row=32), ActiveCell(col=48, row=32), ActiveCell(col=49, row=32), ActiveCell(col=50, row=32), ActiveCell(col=51, row=32), ActiveCell(col=52, row=32), ActiveCell(col=53, row=32), ActiveCell(col=54, row=32), ActiveCell(col=55, row=32), ActiveCell(col=56, row=32), ActiveCell(col=57, row=32), ActiveCell(col=58, row=32), ActiveCell(col=59, row=32), ActiveCell(col=60, row=32), ActiveCell(col=61, row=32), ActiveCell(col=62, row=32), ActiveCell(col=63, row=32), ActiveCell(col=64, row=32), ActiveCell(col=65, row=32), ActiveCell(col=66, row=32), ActiveCell(col=67, row=32), ActiveCell(col=68, row=32), ActiveCell(col=69, row=32), ActiveCell(col=70, row=32), ActiveCell(col=71, row=32), ActiveCell(col=72, row=32), ActiveCell(col=73, row=32), ActiveCell(col=74, row=32), ActiveCell(col=75, row=32), ActiveCell(col=76, row=32), ActiveCell(col=77, row=32), ActiveCell(col=78, row=32), ActiveCell(col=79, row=32), ActiveCell(col=80, row=32), ActiveCell(col=81, row=32), ActiveCell(col=82, row=32), ActiveCell(col=83, row=32), ActiveCell(col=84, row=32), ActiveCell(col=85, row=32), ActiveCell(col=86, row=32), ActiveCell(col=87, row=32), ActiveCell(col=88, row=32), ActiveCell(col=89, row=32), ActiveCell(col=90, row=32), ActiveCell(col=91, row=32), ActiveCell(col=92, row=32), ActiveCell(col=93, row=32), ActiveCell(col=94, row=32), ActiveCell(col=95, row=32), ActiveCell(col=96, row=32), ActiveCell(col=97, row=32), ActiveCell(col=98, row=32), ActiveCell(col=99, row=32), ActiveCell(col=6, row=33), ActiveCell(col=7, row=33), ActiveCell(col=8, row=33), ActiveCell(col=9, row=33), ActiveCell(col=10, row=33), ActiveCell(col=11, row=33), ActiveCell(col=12, row=33), ActiveCell(col=13, row=33), ActiveCell(col=14, row=33), ActiveCell(col=15, row=33), ActiveCell(col=16, row=33), ActiveCell(col=17, row=33), ActiveCell(col=18, row=33), ActiveCell(col=19, row=33), ActiveCell(col=20, row=33), ActiveCell(col=21, row=33), ActiveCell(col=22, row=33), ActiveCell(col=23, row=33), ActiveCell(col=24, row=33), ActiveCell(col=25, row=33), ActiveCell(col=26, row=33), ActiveCell(col=27, row=33), ActiveCell(col=28, row=33), ActiveCell(col=29, row=33), ActiveCell(col=30, row=33), ActiveCell(col=31, row=33), ActiveCell(col=32, row=33), ActiveCell(col=33, row=33), ActiveCell(col=34, row=33), ActiveCell(col=35, row=33), ActiveCell(col=36, row=33), ActiveCell(col=37, row=33), ActiveCell(col=38, row=33), ActiveCell(col=39, row=33), ActiveCell(col=40, row=33), ActiveCell(col=41, row=33), ActiveCell(col=42, row=33), ActiveCell(col=43, row=33), ActiveCell(col=44, row=33), ActiveCell(col=45, row=33), ActiveCell(col=46, row=33), ActiveCell(col=47, row=33), ActiveCell(col=48, row=33), ActiveCell(col=49, row=33), ActiveCell(col=50, row=33), ActiveCell(col=51, row=33), ActiveCell(col=52, row=33), ActiveCell(col=53, row=33), ActiveCell(col=54, row=33), ActiveCell(col=55, row=33), ActiveCell(col=56, row=33), ActiveCell(col=57, row=33), ActiveCell(col=58, row=33), ActiveCell(col=59, row=33), ActiveCell(col=60, row=33), ActiveCell(col=61, row=33), ActiveCell(col=62, row=33), ActiveCell(col=63, row=33), ActiveCell(col=64, row=33), ActiveCell(col=65, row=33), ActiveCell(col=66, row=33), ActiveCell(col=67, row=33), ActiveCell(col=68, row=33), ActiveCell(col=69, row=33), ActiveCell(col=70, row=33), ActiveCell(col=71, row=33), ActiveCell(col=72, row=33), ActiveCell(col=73, row=33), ActiveCell(col=74, row=33), ActiveCell(col=75, row=33), ActiveCell(col=76, row=33), ActiveCell(col=77, row=33), ActiveCell(col=78, row=33), ActiveCell(col=79, row=33), ActiveCell(col=80, row=33), ActiveCell(col=81, row=33), ActiveCell(col=82, row=33), ActiveCell(col=83, row=33), ActiveCell(col=84, row=33), ActiveCell(col=85, row=33), ActiveCell(col=86, row=33), ActiveCell(col=87, row=33), ActiveCell(col=88, row=33), ActiveCell(col=89, row=33), ActiveCell(col=90, row=33), ActiveCell(col=91, row=33), ActiveCell(col=92, row=33), ActiveCell(col=93, row=33), ActiveCell(col=94, row=33), ActiveCell(col=95, row=33), ActiveCell(col=96, row=33), ActiveCell(col=97, row=33), ActiveCell(col=98, row=33), ActiveCell(col=99, row=33), ActiveCell(col=7, row=34), ActiveCell(col=8, row=34), ActiveCell(col=9, row=34), ActiveCell(col=10, row=34), ActiveCell(col=11, row=34), ActiveCell(col=12, row=34), ActiveCell(col=13, row=34), ActiveCell(col=14, row=34), ActiveCell(col=15, row=34), ActiveCell(col=16, row=34), ActiveCell(col=17, row=34), ActiveCell(col=18, row=34), ActiveCell(col=19, row=34), ActiveCell(col=20, row=34), ActiveCell(col=21, row=34), ActiveCell(col=22, row=34), ActiveCell(col=23, row=34), ActiveCell(col=24, row=34), ActiveCell(col=25, row=34), ActiveCell(col=26, row=34), ActiveCell(col=27, row=34), ActiveCell(col=28, row=34), ActiveCell(col=29, row=34), ActiveCell(col=30, row=34), ActiveCell(col=31, row=34), ActiveCell(col=32, row=34), ActiveCell(col=33, row=34), ActiveCell(col=34, row=34), ActiveCell(col=35, row=34), ActiveCell(col=36, row=34), ActiveCell(col=37, row=34), ActiveCell(col=38, row=34), ActiveCell(col=39, row=34), ActiveCell(col=40, row=34), ActiveCell(col=41, row=34), ActiveCell(col=42, row=34), ActiveCell(col=43, row=34), ActiveCell(col=44, row=34), ActiveCell(col=45, row=34), ActiveCell(col=46, row=34), ActiveCell(col=47, row=34), ActiveCell(col=48, row=34), ActiveCell(col=49, row=34), ActiveCell(col=50, row=34), ActiveCell(col=51, row=34), ActiveCell(col=52, row=34), ActiveCell(col=53, row=34), ActiveCell(col=54, row=34), ActiveCell(col=55, row=34), ActiveCell(col=56, row=34), ActiveCell(col=57, row=34), ActiveCell(col=58, row=34), ActiveCell(col=59, row=34), ActiveCell(col=60, row=34), ActiveCell(col=61, row=34), ActiveCell(col=62, row=34), ActiveCell(col=63, row=34), ActiveCell(col=64, row=34), ActiveCell(col=65, row=34), ActiveCell(col=66, row=34), ActiveCell(col=67, row=34), ActiveCell(col=68, row=34), ActiveCell(col=69, row=34), ActiveCell(col=70, row=34), ActiveCell(col=71, row=34), ActiveCell(col=72, row=34), ActiveCell(col=73, row=34), ActiveCell(col=74, row=34), ActiveCell(col=75, row=34), ActiveCell(col=76, row=34), ActiveCell(col=77, row=34), ActiveCell(col=78, row=34), ActiveCell(col=79, row=34), ActiveCell(col=80, row=34), ActiveCell(col=81, row=34), ActiveCell(col=82, row=34), ActiveCell(col=83, row=34), ActiveCell(col=84, row=34), ActiveCell(col=85, row=34), ActiveCell(col=86, row=34), ActiveCell(col=87, row=34), ActiveCell(col=88, row=34), ActiveCell(col=89, row=34), ActiveCell(col=90, row=34), ActiveCell(col=91, row=34), ActiveCell(col=92, row=34), ActiveCell(col=93, row=34), ActiveCell(col=94, row=34), ActiveCell(col=95, row=34), ActiveCell(col=7, row=35), ActiveCell(col=8, row=35), ActiveCell(col=9, row=35), ActiveCell(col=10, row=35), ActiveCell(col=11, row=35), ActiveCell(col=12, row=35), ActiveCell(col=13, row=35), ActiveCell(col=14, row=35), ActiveCell(col=15, row=35), ActiveCell(col=16, row=35), ActiveCell(col=17, row=35), ActiveCell(col=18, row=35), ActiveCell(col=19, row=35), ActiveCell(col=20, row=35), ActiveCell(col=21, row=35), ActiveCell(col=22, row=35), ActiveCell(col=23, row=35), ActiveCell(col=24, row=35), ActiveCell(col=25, row=35), ActiveCell(col=26, row=35), ActiveCell(col=27, row=35), ActiveCell(col=28, row=35), ActiveCell(col=29, row=35), ActiveCell(col=30, row=35), ActiveCell(col=31, row=35), ActiveCell(col=32, row=35), ActiveCell(col=33, row=35), ActiveCell(col=34, row=35), ActiveCell(col=35, row=35), ActiveCell(col=36, row=35), ActiveCell(col=37, row=35), ActiveCell(col=38, row=35), ActiveCell(col=39, row=35), ActiveCell(col=40, row=35), ActiveCell(col=41, row=35), ActiveCell(col=42, row=35), ActiveCell(col=43, row=35), ActiveCell(col=44, row=35), ActiveCell(col=45, row=35), ActiveCell(col=46, row=35), ActiveCell(col=47, row=35), ActiveCell(col=48, row=35), ActiveCell(col=49, row=35), ActiveCell(col=50, row=35), ActiveCell(col=51, row=35), ActiveCell(col=52, row=35), ActiveCell(col=53, row=35), ActiveCell(col=54, row=35), ActiveCell(col=55, row=35), ActiveCell(col=56, row=35), ActiveCell(col=57, row=35), ActiveCell(col=58, row=35), ActiveCell(col=59, row=35), ActiveCell(col=60, row=35), ActiveCell(col=61, row=35), ActiveCell(col=62, row=35), ActiveCell(col=63, row=35), ActiveCell(col=64, row=35), ActiveCell(col=65, row=35), ActiveCell(col=66, row=35), ActiveCell(col=67, row=35), ActiveCell(col=68, row=35), ActiveCell(col=69, row=35), ActiveCell(col=70, row=35), ActiveCell(col=71, row=35), ActiveCell(col=72, row=35), ActiveCell(col=73, row=35), ActiveCell(col=74, row=35), ActiveCell(col=75, row=35), ActiveCell(col=76, row=35), ActiveCell(col=77, row=35), ActiveCell(col=78, row=35), ActiveCell(col=79, row=35), ActiveCell(col=80, row=35), ActiveCell(col=81, row=35), ActiveCell(col=82, row=35), ActiveCell(col=83, row=35), ActiveCell(col=84, row=35), ActiveCell(col=85, row=35), ActiveCell(col=86, row=35), ActiveCell(col=87, row=35), ActiveCell(col=88, row=35), ActiveCell(col=89, row=35), ActiveCell(col=90, row=35), ActiveCell(col=7, row=36), ActiveCell(col=8, row=36), ActiveCell(col=9, row=36), ActiveCell(col=10, row=36), ActiveCell(col=11, row=36), ActiveCell(col=12, row=36), ActiveCell(col=13, row=36), ActiveCell(col=14, row=36), ActiveCell(col=15, row=36), ActiveCell(col=16, row=36), ActiveCell(col=17, row=36), ActiveCell(col=18, row=36), ActiveCell(col=19, row=36), ActiveCell(col=20, row=36), ActiveCell(col=21, row=36), ActiveCell(col=22, row=36), ActiveCell(col=23, row=36), ActiveCell(col=24, row=36), ActiveCell(col=25, row=36), ActiveCell(col=26, row=36), ActiveCell(col=27, row=36), ActiveCell(col=28, row=36), ActiveCell(col=29, row=36), ActiveCell(col=30, row=36), ActiveCell(col=31, row=36), ActiveCell(col=32, row=36), ActiveCell(col=33, row=36), ActiveCell(col=34, row=36), ActiveCell(col=35, row=36), ActiveCell(col=36, row=36), ActiveCell(col=37, row=36), ActiveCell(col=38, row=36), ActiveCell(col=39, row=36), ActiveCell(col=40, row=36), ActiveCell(col=41, row=36), ActiveCell(col=42, row=36), ActiveCell(col=43, row=36), ActiveCell(col=44, row=36), ActiveCell(col=45, row=36), ActiveCell(col=46, row=36), ActiveCell(col=47, row=36), ActiveCell(col=48, row=36), ActiveCell(col=49, row=36), ActiveCell(col=50, row=36), ActiveCell(col=51, row=36), ActiveCell(col=52, row=36), ActiveCell(col=53, row=36), ActiveCell(col=54, row=36), ActiveCell(col=55, row=36), ActiveCell(col=56, row=36), ActiveCell(col=57, row=36), ActiveCell(col=58, row=36), ActiveCell(col=59, row=36), ActiveCell(col=60, row=36), ActiveCell(col=61, row=36), ActiveCell(col=62, row=36), ActiveCell(col=63, row=36), ActiveCell(col=64, row=36), ActiveCell(col=65, row=36), ActiveCell(col=66, row=36), ActiveCell(col=67, row=36), ActiveCell(col=68, row=36), ActiveCell(col=69, row=36), ActiveCell(col=70, row=36), ActiveCell(col=71, row=36), ActiveCell(col=72, row=36), ActiveCell(col=73, row=36), ActiveCell(col=74, row=36), ActiveCell(col=75, row=36), ActiveCell(col=76, row=36), ActiveCell(col=77, row=36), ActiveCell(col=78, row=36), ActiveCell(col=79, row=36), ActiveCell(col=80, row=36), ActiveCell(col=81, row=36), ActiveCell(col=82, row=36), ActiveCell(col=83, row=36), ActiveCell(col=84, row=36), ActiveCell(col=7, row=37), ActiveCell(col=8, row=37), ActiveCell(col=9, row=37), ActiveCell(col=10, row=37), ActiveCell(col=11, row=37), ActiveCell(col=12, row=37), ActiveCell(col=13, row=37), ActiveCell(col=14, row=37), ActiveCell(col=15, row=37), ActiveCell(col=16, row=37), ActiveCell(col=17, row=37), ActiveCell(col=18, row=37), ActiveCell(col=19, row=37), ActiveCell(col=20, row=37), ActiveCell(col=21, row=37), ActiveCell(col=22, row=37), ActiveCell(col=23, row=37), ActiveCell(col=24, row=37), ActiveCell(col=25, row=37), ActiveCell(col=26, row=37), ActiveCell(col=27, row=37), ActiveCell(col=28, row=37), ActiveCell(col=29, row=37), ActiveCell(col=30, row=37), ActiveCell(col=31, row=37), ActiveCell(col=32, row=37), ActiveCell(col=33, row=37), ActiveCell(col=34, row=37), ActiveCell(col=35, row=37), ActiveCell(col=36, row=37), ActiveCell(col=37, row=37), ActiveCell(col=38, row=37), ActiveCell(col=39, row=37), ActiveCell(col=40, row=37), ActiveCell(col=41, row=37), ActiveCell(col=42, row=37), ActiveCell(col=43, row=37), ActiveCell(col=44, row=37), ActiveCell(col=45, row=37), ActiveCell(col=46, row=37), ActiveCell(col=47, row=37), ActiveCell(col=48, row=37), ActiveCell(col=49, row=37), ActiveCell(col=50, row=37), ActiveCell(col=51, row=37), ActiveCell(col=52, row=37), ActiveCell(col=53, row=37), ActiveCell(col=54, row=37), ActiveCell(col=55, row=37), ActiveCell(col=56, row=37), ActiveCell(col=57, row=37), ActiveCell(col=58, row=37), ActiveCell(col=59, row=37), ActiveCell(col=60, row=37), ActiveCell(col=61, row=37), ActiveCell(col=62, row=37), ActiveCell(col=63, row=37), ActiveCell(col=64, row=37), ActiveCell(col=65, row=37), ActiveCell(col=66, row=37), ActiveCell(col=67, row=37), ActiveCell(col=68, row=37), ActiveCell(col=69, row=37), ActiveCell(col=70, row=37), ActiveCell(col=71, row=37), ActiveCell(col=72, row=37), ActiveCell(col=73, row=37), ActiveCell(col=74, row=37), ActiveCell(col=75, row=37), ActiveCell(col=76, row=37), ActiveCell(col=77, row=37), ActiveCell(col=78, row=37), ActiveCell(col=7, row=38), ActiveCell(col=8, row=38), ActiveCell(col=9, row=38), ActiveCell(col=10, row=38), ActiveCell(col=11, row=38), ActiveCell(col=12, row=38), ActiveCell(col=13, row=38), ActiveCell(col=14, row=38), ActiveCell(col=15, row=38), ActiveCell(col=16, row=38), ActiveCell(col=17, row=38), ActiveCell(col=18, row=38), ActiveCell(col=19, row=38), ActiveCell(col=20, row=38), ActiveCell(col=21, row=38), ActiveCell(col=22, row=38), ActiveCell(col=23, row=38), ActiveCell(col=24, row=38), ActiveCell(col=25, row=38), ActiveCell(col=26, row=38), ActiveCell(col=27, row=38), ActiveCell(col=28, row=38), ActiveCell(col=29, row=38), ActiveCell(col=30, row=38), ActiveCell(col=31, row=38), ActiveCell(col=32, row=38), ActiveCell(col=33, row=38), ActiveCell(col=34, row=38), ActiveCell(col=35, row=38), ActiveCell(col=36, row=38), ActiveCell(col=37, row=38), ActiveCell(col=38, row=38), ActiveCell(col=39, row=38), ActiveCell(col=40, row=38), ActiveCell(col=41, row=38), ActiveCell(col=42, row=38), ActiveCell(col=43, row=38), ActiveCell(col=44, row=38), ActiveCell(col=45, row=38), ActiveCell(col=46, row=38), ActiveCell(col=47, row=38), ActiveCell(col=48, row=38), ActiveCell(col=49, row=38), ActiveCell(col=50, row=38), ActiveCell(col=51, row=38), ActiveCell(col=52, row=38), ActiveCell(col=53, row=38), ActiveCell(col=54, row=38), ActiveCell(col=55, row=38), ActiveCell(col=56, row=38), ActiveCell(col=57, row=38), ActiveCell(col=58, row=38), ActiveCell(col=59, row=38), ActiveCell(col=60, row=38), ActiveCell(col=61, row=38), ActiveCell(col=62, row=38), ActiveCell(col=63, row=38), ActiveCell(col=64, row=38), ActiveCell(col=65, row=38), ActiveCell(col=66, row=38), ActiveCell(col=67, row=38), ActiveCell(col=68, row=38), ActiveCell(col=69, row=38), ActiveCell(col=70, row=38), ActiveCell(col=71, row=38), ActiveCell(col=72, row=38), ActiveCell(col=73, row=38), ActiveCell(col=8, row=39), ActiveCell(col=9, row=39), ActiveCell(col=10, row=39), ActiveCell(col=11, row=39), ActiveCell(col=12, row=39), ActiveCell(col=13, row=39), ActiveCell(col=14, row=39), ActiveCell(col=15, row=39), ActiveCell(col=16, row=39), ActiveCell(col=17, row=39), ActiveCell(col=18, row=39), ActiveCell(col=19, row=39), ActiveCell(col=20, row=39), ActiveCell(col=21, row=39), ActiveCell(col=22, row=39), ActiveCell(col=23, row=39), ActiveCell(col=24, row=39), ActiveCell(col=25, row=39), ActiveCell(col=26, row=39), ActiveCell(col=27, row=39), ActiveCell(col=28, row=39), ActiveCell(col=29, row=39), ActiveCell(col=30, row=39), ActiveCell(col=31, row=39), ActiveCell(col=32, row=39), ActiveCell(col=33, row=39), ActiveCell(col=34, row=39), ActiveCell(col=35, row=39), ActiveCell(col=36, row=39), ActiveCell(col=37, row=39), ActiveCell(col=38, row=39), ActiveCell(col=39, row=39), ActiveCell(col=40, row=39), ActiveCell(col=41, row=39), ActiveCell(col=42, row=39), ActiveCell(col=43, row=39), ActiveCell(col=44, row=39), ActiveCell(col=45, row=39), ActiveCell(col=46, row=39), ActiveCell(col=47, row=39), ActiveCell(col=48, row=39), ActiveCell(col=49, row=39), ActiveCell(col=50, row=39), ActiveCell(col=51, row=39), ActiveCell(col=52, row=39), ActiveCell(col=53, row=39), ActiveCell(col=54, row=39), ActiveCell(col=55, row=39), ActiveCell(col=56, row=39), ActiveCell(col=57, row=39), ActiveCell(col=58, row=39), ActiveCell(col=59, row=39), ActiveCell(col=60, row=39), ActiveCell(col=61, row=39), ActiveCell(col=62, row=39), ActiveCell(col=63, row=39), ActiveCell(col=64, row=39), ActiveCell(col=65, row=39), ActiveCell(col=66, row=39), ActiveCell(col=67, row=39), ActiveCell(col=8, row=40), ActiveCell(col=9, row=40), ActiveCell(col=10, row=40), ActiveCell(col=11, row=40), ActiveCell(col=12, row=40), ActiveCell(col=13, row=40), ActiveCell(col=14, row=40), ActiveCell(col=15, row=40), ActiveCell(col=16, row=40), ActiveCell(col=17, row=40), ActiveCell(col=18, row=40), ActiveCell(col=19, row=40), ActiveCell(col=20, row=40), ActiveCell(col=21, row=40), ActiveCell(col=22, row=40), ActiveCell(col=23, row=40), ActiveCell(col=24, row=40), ActiveCell(col=25, row=40), ActiveCell(col=26, row=40), ActiveCell(col=27, row=40), ActiveCell(col=28, row=40), ActiveCell(col=29, row=40), ActiveCell(col=30, row=40), ActiveCell(col=31, row=40), ActiveCell(col=32, row=40), ActiveCell(col=33, row=40), ActiveCell(col=34, row=40), ActiveCell(col=35, row=40), ActiveCell(col=36, row=40), ActiveCell(col=37, row=40), ActiveCell(col=38, row=40), ActiveCell(col=39, row=40), ActiveCell(col=40, row=40), ActiveCell(col=41, row=40), ActiveCell(col=42, row=40), ActiveCell(col=43, row=40), ActiveCell(col=44, row=40), ActiveCell(col=45, row=40), ActiveCell(col=46, row=40), ActiveCell(col=47, row=40), ActiveCell(col=48, row=40), ActiveCell(col=49, row=40), ActiveCell(col=50, row=40), ActiveCell(col=51, row=40), ActiveCell(col=52, row=40), ActiveCell(col=53, row=40), ActiveCell(col=54, row=40), ActiveCell(col=55, row=40), ActiveCell(col=56, row=40), ActiveCell(col=57, row=40), ActiveCell(col=58, row=40), ActiveCell(col=59, row=40), ActiveCell(col=60, row=40), ActiveCell(col=61, row=40), ActiveCell(col=62, row=40), ActiveCell(col=8, row=41), ActiveCell(col=9, row=41), ActiveCell(col=10, row=41), ActiveCell(col=11, row=41), ActiveCell(col=12, row=41), ActiveCell(col=13, row=41), ActiveCell(col=14, row=41), ActiveCell(col=15, row=41), ActiveCell(col=16, row=41), ActiveCell(col=17, row=41), ActiveCell(col=18, row=41), ActiveCell(col=19, row=41), ActiveCell(col=20, row=41), ActiveCell(col=21, row=41), ActiveCell(col=22, row=41), ActiveCell(col=23, row=41), ActiveCell(col=24, row=41), ActiveCell(col=25, row=41), ActiveCell(col=26, row=41), ActiveCell(col=27, row=41), ActiveCell(col=28, row=41), ActiveCell(col=29, row=41), ActiveCell(col=30, row=41), ActiveCell(col=31, row=41), ActiveCell(col=32, row=41), ActiveCell(col=33, row=41), ActiveCell(col=34, row=41), ActiveCell(col=35, row=41), ActiveCell(col=36, row=41), ActiveCell(col=37, row=41), ActiveCell(col=38, row=41), ActiveCell(col=39, row=41), ActiveCell(col=40, row=41), ActiveCell(col=41, row=41), ActiveCell(col=42, row=41), ActiveCell(col=43, row=41), ActiveCell(col=44, row=41), ActiveCell(col=45, row=41), ActiveCell(col=46, row=41), ActiveCell(col=47, row=41), ActiveCell(col=48, row=41), ActiveCell(col=49, row=41), ActiveCell(col=50, row=41), ActiveCell(col=51, row=41), ActiveCell(col=52, row=41), ActiveCell(col=53, row=41), ActiveCell(col=54, row=41), ActiveCell(col=55, row=41), ActiveCell(col=56, row=41), ActiveCell(col=8, row=42), ActiveCell(col=9, row=42), ActiveCell(col=10, row=42), ActiveCell(col=11, row=42), ActiveCell(col=12, row=42), ActiveCell(col=13, row=42), ActiveCell(col=14, row=42), ActiveCell(col=15, row=42), ActiveCell(col=16, row=42), ActiveCell(col=17, row=42), ActiveCell(col=18, row=42), ActiveCell(col=19, row=42), ActiveCell(col=20, row=42), ActiveCell(col=21, row=42), ActiveCell(col=22, row=42), ActiveCell(col=23, row=42), ActiveCell(col=24, row=42), ActiveCell(col=25, row=42), ActiveCell(col=26, row=42), ActiveCell(col=27, row=42), ActiveCell(col=28, row=42), ActiveCell(col=29, row=42), ActiveCell(col=30, row=42), ActiveCell(col=31, row=42), ActiveCell(col=32, row=42), ActiveCell(col=33, row=42), ActiveCell(col=34, row=42), ActiveCell(col=35, row=42), ActiveCell(col=36, row=42), ActiveCell(col=37, row=42), ActiveCell(col=38, row=42), ActiveCell(col=39, row=42), ActiveCell(col=40, row=42), ActiveCell(col=41, row=42), ActiveCell(col=42, row=42), ActiveCell(col=43, row=42), ActiveCell(col=44, row=42), ActiveCell(col=45, row=42), ActiveCell(col=46, row=42), ActiveCell(col=47, row=42), ActiveCell(col=48, row=42), ActiveCell(col=49, row=42), ActiveCell(col=50, row=42), ActiveCell(col=8, row=43), ActiveCell(col=9, row=43), ActiveCell(col=10, row=43), ActiveCell(col=11, row=43), ActiveCell(col=12, row=43), ActiveCell(col=13, row=43), ActiveCell(col=14, row=43), ActiveCell(col=15, row=43), ActiveCell(col=16, row=43), ActiveCell(col=17, row=43), ActiveCell(col=18, row=43), ActiveCell(col=19, row=43), ActiveCell(col=20, row=43), ActiveCell(col=21, row=43), ActiveCell(col=22, row=43), ActiveCell(col=23, row=43), ActiveCell(col=24, row=43), ActiveCell(col=25, row=43), ActiveCell(col=26, row=43), ActiveCell(col=27, row=43), ActiveCell(col=28, row=43), ActiveCell(col=29, row=43), ActiveCell(col=30, row=43), ActiveCell(col=31, row=43), ActiveCell(col=32, row=43), ActiveCell(col=33, row=43), ActiveCell(col=34, row=43), ActiveCell(col=35, row=43), ActiveCell(col=36, row=43), ActiveCell(col=37, row=43), ActiveCell(col=38, row=43), ActiveCell(col=39, row=43), ActiveCell(col=40, row=43), ActiveCell(col=41, row=43), ActiveCell(col=42, row=43), ActiveCell(col=43, row=43), ActiveCell(col=44, row=43), ActiveCell(col=45, row=43), ActiveCell(col=9, row=44), ActiveCell(col=10, row=44), ActiveCell(col=11, row=44), ActiveCell(col=12, row=44), ActiveCell(col=13, row=44), ActiveCell(col=14, row=44), ActiveCell(col=15, row=44), ActiveCell(col=16, row=44), ActiveCell(col=17, row=44), ActiveCell(col=18, row=44), ActiveCell(col=19, row=44), ActiveCell(col=20, row=44), ActiveCell(col=21, row=44), ActiveCell(col=22, row=44), ActiveCell(col=23, row=44), ActiveCell(col=24, row=44), ActiveCell(col=25, row=44), ActiveCell(col=26, row=44), ActiveCell(col=27, row=44), ActiveCell(col=28, row=44), ActiveCell(col=29, row=44), ActiveCell(col=30, row=44), ActiveCell(col=31, row=44), ActiveCell(col=32, row=44), ActiveCell(col=33, row=44), ActiveCell(col=34, row=44), ActiveCell(col=35, row=44), ActiveCell(col=36, row=44), ActiveCell(col=37, row=44), ActiveCell(col=38, row=44), ActiveCell(col=39, row=44), ActiveCell(col=9, row=45), ActiveCell(col=10, row=45), ActiveCell(col=11, row=45), ActiveCell(col=12, row=45), ActiveCell(col=13, row=45), ActiveCell(col=14, row=45), ActiveCell(col=15, row=45), ActiveCell(col=16, row=45), ActiveCell(col=17, row=45), ActiveCell(col=18, row=45), ActiveCell(col=19, row=45), ActiveCell(col=20, row=45), ActiveCell(col=21, row=45), ActiveCell(col=22, row=45), ActiveCell(col=23, row=45), ActiveCell(col=24, row=45), ActiveCell(col=25, row=45), ActiveCell(col=26, row=45), ActiveCell(col=27, row=45), ActiveCell(col=28, row=45), ActiveCell(col=29, row=45), ActiveCell(col=30, row=45), ActiveCell(col=31, row=45), ActiveCell(col=32, row=45), ActiveCell(col=33, row=45), ActiveCell(col=34, row=45), ActiveCell(col=9, row=46), ActiveCell(col=10, row=46), ActiveCell(col=11, row=46), ActiveCell(col=12, row=46), ActiveCell(col=13, row=46), ActiveCell(col=14, row=46), ActiveCell(col=15, row=46), ActiveCell(col=16, row=46), ActiveCell(col=17, row=46), ActiveCell(col=18, row=46), ActiveCell(col=19, row=46), ActiveCell(col=20, row=46), ActiveCell(col=21, row=46), ActiveCell(col=22, row=46), ActiveCell(col=23, row=46), ActiveCell(col=24, row=46), ActiveCell(col=25, row=46), ActiveCell(col=26, row=46), ActiveCell(col=27, row=46), ActiveCell(col=28, row=46), ActiveCell(col=9, row=47), ActiveCell(col=10, row=47), ActiveCell(col=11, row=47), ActiveCell(col=12, row=47), ActiveCell(col=13, row=47), ActiveCell(col=14, row=47), ActiveCell(col=15, row=47), ActiveCell(col=16, row=47), ActiveCell(col=17, row=47), ActiveCell(col=18, row=47), ActiveCell(col=19, row=47), ActiveCell(col=20, row=47), ActiveCell(col=21, row=47), ActiveCell(col=22, row=47), ActiveCell(col=23, row=47), ActiveCell(col=9, row=48), ActiveCell(col=10, row=48), ActiveCell(col=11, row=48), ActiveCell(col=12, row=48), ActiveCell(col=13, row=48), ActiveCell(col=14, row=48), ActiveCell(col=15, row=48), ActiveCell(col=16, row=48), ActiveCell(col=17, row=48), ActiveCell(col=9, row=49), ActiveCell(col=10, row=49), ActiveCell(col=11, row=49)])), time_discretization=TimeDiscretization(start_date_time=StartDateTime(value=datetime.datetime(2020, 1, 1, 0, 0, tzinfo=datetime.timezone.utc)), end_date_time=EndDateTime(value=datetime.datetime(2020, 1, 2, 0, 0, tzinfo=datetime.timezone.utc)), stress_periods=StressPeriodCollection(values=[StressPeriod(start_date_time=StartDateTime(value=datetime.datetime(2020, 1, 1, 0, 0, tzinfo=datetime.timezone.utc)), number_of_time_steps=NumberOfTimeSteps(value=1), time_step_multiplier=TimeStepMultiplier(value=1.0), steady_state=IsSteadyState(value=True))]), time_unit=TimeUnit(unit=4)), boundaries=BoundaryCollection(boundaries=[]), observations=ObservationCollection(observations=[]), layers=LayersCollection(layers=[Layer(layer_id=LayerId(value='375d0b31-7308-4a25-845f-5538c769d8b6'), name=LayerName(value='Default'), description=LayerDescription(value='Default'), confinement=LayerConfinement(type='confined'), properties=LayerProperties(hk=LayerPropertyValues(value=LayerPropertyDefaultValue(value=1.0), raster=None, zones=None), hani=LayerPropertyValues(value=LayerPropertyDefaultValue(value=1.0), raster=None, zones=None), vka=LayerPropertyValues(value=LayerPropertyDefaultValue(value=1.0), raster=None, zones=None), specific_storage=LayerPropertyValues(value=LayerPropertyDefaultValue(value=0.0001), raster=None, zones=None), specific_yield=LayerPropertyValues(value=LayerPropertyDefaultValue(value=0.1), raster=None, zones=None), initial_head=LayerPropertyValues(value=LayerPropertyDefaultValue(value=1.0), raster=None, zones=None), top=LayerPropertyValues(value=LayerPropertyDefaultValue(value=1.0), raster=None, zones=None), bottom=LayerPropertyValues(value=LayerPropertyDefaultValue(value=0.0), raster=None, zones=None)))]), transport=Transport(is_enabled=IsEnabled(value=False), substances=[]), variable_density=VariableDensityFlow(is_enabled=IsEnabled(value=False), viscosity_is_enabled=IsEnabled(value=False)))"
      ]
     },
     "execution_count": 5,
     "metadata": {},
     "output_type": "execute_result"
    }
   ],
   "source": [
    "from morpheus.project.application.read.ModelReader import ModelReader\n",
    "\n",
    "model_reader = ModelReader()\n",
    "model = model_reader.get_latest_model(project_id)\n",
    "model"
   ]
  },
  {
   "cell_type": "markdown",
   "id": "572a7b334c101e6c",
   "metadata": {
    "collapsed": false,
    "papermill": {
     "duration": 0.003908,
     "end_time": "2024-06-17T21:19:21.927697",
     "exception": false,
     "start_time": "2024-06-17T21:19:21.923789",
     "status": "completed"
    },
    "tags": []
   },
   "source": [
    "## Update Model Geometry\n"
   ]
  },
  {
   "cell_type": "code",
   "execution_count": 6,
   "id": "c38378d24fc310eb",
   "metadata": {
    "ExecuteTime": {
     "end_time": "2024-06-17T20:53:15.553982Z",
     "start_time": "2024-06-17T20:53:15.177557Z"
    },
    "collapsed": false,
    "execution": {
     "iopub.execute_input": "2024-06-17T21:19:21.935464Z",
     "iopub.status.busy": "2024-06-17T21:19:21.935320Z",
     "iopub.status.idle": "2024-06-17T21:19:22.303847Z",
     "shell.execute_reply": "2024-06-17T21:19:22.303578Z"
    },
    "papermill": {
     "duration": 0.373319,
     "end_time": "2024-06-17T21:19:22.304689",
     "exception": false,
     "start_time": "2024-06-17T21:19:21.931370",
     "status": "completed"
    },
    "tags": []
   },
   "outputs": [
    {
     "data": {
      "text/plain": [
       "Polygon(coordinates=[[[13.922, 50.965], [13.925, 50.965], [13.925, 50.966], [13.922, 50.966], [13.922, 50.965]]], type='Polygon')"
      ]
     },
     "execution_count": 6,
     "metadata": {},
     "output_type": "execute_result"
    }
   ],
   "source": [
    "from morpheus.project.application.write.Model import UpdateModelGeometryCommand\n",
    "\n",
    "new_polygon = Polygon(\n",
    "  type='Polygon',\n",
    "  coordinates=[[\n",
    "    (13.922, 50.965),\n",
    "    (13.925, 50.965),\n",
    "    (13.925, 50.966),\n",
    "    (13.922, 50.966),\n",
    "    (13.922, 50.965)\n",
    "  ]]\n",
    ")\n",
    "\n",
    "command = UpdateModelGeometryCommand(\n",
    "  project_id=project_id,\n",
    "  geometry=new_polygon,\n",
    "  user_id=user_id\n",
    ")\n",
    "\n",
    "project_command_bus.dispatch(command)\n",
    "\n",
    "model_reader = ModelReader()\n",
    "model = model_reader.get_latest_model(project_id)\n",
    "model.spatial_discretization.geometry"
   ]
  },
  {
   "cell_type": "markdown",
   "id": "91c1beb811cc5003",
   "metadata": {
    "collapsed": false,
    "papermill": {
     "duration": 0.003171,
     "end_time": "2024-06-17T21:19:22.311427",
     "exception": false,
     "start_time": "2024-06-17T21:19:22.308256",
     "status": "completed"
    },
    "tags": []
   },
   "source": [
    "## Update Model Grid Properties"
   ]
  },
  {
   "cell_type": "code",
   "execution_count": 7,
   "id": "3eeeb70e09d71fba",
   "metadata": {
    "ExecuteTime": {
     "end_time": "2024-06-17T20:53:15.644751Z",
     "start_time": "2024-06-17T20:53:15.554668Z"
    },
    "collapsed": false,
    "execution": {
     "iopub.execute_input": "2024-06-17T21:19:22.318099Z",
     "iopub.status.busy": "2024-06-17T21:19:22.317982Z",
     "iopub.status.idle": "2024-06-17T21:19:22.398661Z",
     "shell.execute_reply": "2024-06-17T21:19:22.398404Z"
    },
    "papermill": {
     "duration": 0.085029,
     "end_time": "2024-06-17T21:19:22.399499",
     "exception": false,
     "start_time": "2024-06-17T21:19:22.314470",
     "status": "completed"
    },
    "tags": []
   },
   "outputs": [
    {
     "name": "stdout",
     "output_type": "stream",
     "text": [
      "Polygon(coordinates=[[[13.922, 50.965], [13.925, 50.965], [13.925, 50.966], [13.922, 50.966], [13.922, 50.965]]], type='Polygon')\n",
      "Grid(origin=Point(coordinates=[13.921728464165456, 50.96596984662515], type='Point'), col_widths=[32.68894794320857, 32.68894794320857, 32.68894794320856, 32.688947943208575, 32.6889479432086, 32.68894794320852, 32.6889479432086, 32.68894794320855, 32.68894794320863, 32.688947943208575, 32.68894794320852], total_width=359.57842737529427, row_heights=[38.67716080928221, 38.67716080928221, 38.67716080928221, 38.67716080928221, 38.677160809282185, 38.67716080928224], total_height=232.06296485569328, rotation=Rotation(value=10), length_unit=LengthUnit(unit=2))\n",
      "{'type': 'raster', 'empty_value': False, 'shape': [6, 11], 'data': [[False, True, True, True, False, False, False, False, False, False, False], [False, True, True, True, True, True, True, True, True, True, True], [True, True, True, True, True, True, True, True, True, True, True], [True, True, True, True, True, True, True, True, True, True, True], [True, True, True, True, True, True, True, True, True, True, False], [False, False, False, False, False, False, False, True, True, True, False]]}\n"
     ]
    }
   ],
   "source": [
    "from morpheus.project.application.write.Model import UpdateModelGridCommand\n",
    "\n",
    "new_del_col_relative = [0, 0.1, 0.2, 0.3, 0.4, 0.5, 0.6, 0.7, 0.8, 0.9, 1]\n",
    "new_del_row_relative = [0, 0.2, 0.4, 0.6, 0.8, 1]\n",
    "\n",
    "command = UpdateModelGridCommand(\n",
    "  project_id=project_id,\n",
    "  user_id=user_id,\n",
    "  n_cols=len(new_del_col_relative),\n",
    "  n_rows=len(new_del_row_relative),\n",
    "  rotation=10,\n",
    ")\n",
    "\n",
    "project_command_bus.dispatch(command)\n",
    "\n",
    "model_reader = ModelReader()\n",
    "model = model_reader.get_latest_model(project_id)\n",
    "print(model.spatial_discretization.geometry)\n",
    "print(model.spatial_discretization.grid)\n",
    "print(model.spatial_discretization.affected_cells.to_dict())"
   ]
  },
  {
   "cell_type": "markdown",
   "id": "2e17bfb7ad5edd8a",
   "metadata": {
    "collapsed": false,
    "papermill": {
     "duration": 0.003178,
     "end_time": "2024-06-17T21:19:22.406362",
     "exception": false,
     "start_time": "2024-06-17T21:19:22.403184",
     "status": "completed"
    },
    "tags": []
   },
   "source": [
    "## Update Model Affected Cells"
   ]
  },
  {
   "cell_type": "code",
   "execution_count": 8,
   "id": "2125ecf138c64a88",
   "metadata": {
    "ExecuteTime": {
     "end_time": "2024-06-17T20:53:15.659330Z",
     "start_time": "2024-06-17T20:53:15.645484Z"
    },
    "collapsed": false,
    "execution": {
     "iopub.execute_input": "2024-06-17T21:19:22.413346Z",
     "iopub.status.busy": "2024-06-17T21:19:22.413230Z",
     "iopub.status.idle": "2024-06-17T21:19:22.425546Z",
     "shell.execute_reply": "2024-06-17T21:19:22.425299Z"
    },
    "papermill": {
     "duration": 0.016768,
     "end_time": "2024-06-17T21:19:22.426351",
     "exception": false,
     "start_time": "2024-06-17T21:19:22.409583",
     "status": "completed"
    },
    "tags": []
   },
   "outputs": [],
   "source": [
    "from morpheus.project.application.write.Model import UpdateModelAffectedCellsCommand\n",
    "\n",
    "model_reader = ModelReader()\n",
    "model = model_reader.get_latest_model(project_id=project_id)\n",
    "affected_cells = model.spatial_discretization.affected_cells\n",
    "\n",
    "assert affected_cells.is_active(col=0, row=0) == False\n",
    "affected_cells.set_active(col=0, row=0)\n",
    "assert affected_cells.is_active(col=0, row=0) == True\n",
    "\n",
    "command = UpdateModelAffectedCellsCommand(\n",
    "  project_id=project_id,\n",
    "  affected_cells=affected_cells,\n",
    "  user_id=user_id\n",
    ")\n",
    "\n",
    "project_command_bus.dispatch(command)"
   ]
  },
  {
   "cell_type": "code",
   "execution_count": 9,
   "id": "181c8ad99124273c",
   "metadata": {
    "ExecuteTime": {
     "end_time": "2024-06-17T20:53:15.664543Z",
     "start_time": "2024-06-17T20:53:15.659977Z"
    },
    "collapsed": false,
    "execution": {
     "iopub.execute_input": "2024-06-17T21:19:22.433442Z",
     "iopub.status.busy": "2024-06-17T21:19:22.433333Z",
     "iopub.status.idle": "2024-06-17T21:19:22.437458Z",
     "shell.execute_reply": "2024-06-17T21:19:22.437231Z"
    },
    "papermill": {
     "duration": 0.008379,
     "end_time": "2024-06-17T21:19:22.438184",
     "exception": false,
     "start_time": "2024-06-17T21:19:22.429805",
     "status": "completed"
    },
    "tags": []
   },
   "outputs": [],
   "source": [
    "model_reader = ModelReader()\n",
    "model = model_reader.get_latest_model(project_id=project_id)\n",
    "affected_cells = model.spatial_discretization.affected_cells\n",
    "assert affected_cells.is_active(col=0, row=0) == True"
   ]
  },
  {
   "cell_type": "markdown",
   "id": "accb680cfa47f091",
   "metadata": {
    "collapsed": false,
    "papermill": {
     "duration": 0.003219,
     "end_time": "2024-06-17T21:19:22.444832",
     "exception": false,
     "start_time": "2024-06-17T21:19:22.441613",
     "status": "completed"
    },
    "tags": []
   },
   "source": [
    "## Show Versions of Model so far"
   ]
  },
  {
   "cell_type": "code",
   "execution_count": 10,
   "id": "cb4afb5b3dd54cea",
   "metadata": {
    "ExecuteTime": {
     "end_time": "2024-06-17T20:53:15.670035Z",
     "start_time": "2024-06-17T20:53:15.666616Z"
    },
    "collapsed": false,
    "execution": {
     "iopub.execute_input": "2024-06-17T21:19:22.452202Z",
     "iopub.status.busy": "2024-06-17T21:19:22.452077Z",
     "iopub.status.idle": "2024-06-17T21:19:22.455827Z",
     "shell.execute_reply": "2024-06-17T21:19:22.455580Z"
    },
    "papermill": {
     "duration": 0.008331,
     "end_time": "2024-06-17T21:19:22.456576",
     "exception": false,
     "start_time": "2024-06-17T21:19:22.448245",
     "status": "completed"
    },
    "tags": []
   },
   "outputs": [
    {
     "data": {
      "text/plain": [
       "[ModelVersion(version_id=VersionId(value='1c43d008-68a4-4632-be8d-ae90bfd1f0f3'), tag=VersionTag(value='v0.0.0'), description=VersionDescription(value='Initial version'))]"
      ]
     },
     "execution_count": 10,
     "metadata": {},
     "output_type": "execute_result"
    }
   ],
   "source": [
    "model_reader = ModelReader()\n",
    "model_reader.get_versions(project_id=project_id)"
   ]
  },
  {
   "cell_type": "markdown",
   "id": "c1e717aa2a462cbb",
   "metadata": {
    "collapsed": false,
    "papermill": {
     "duration": 0.003199,
     "end_time": "2024-06-17T21:19:22.463126",
     "exception": false,
     "start_time": "2024-06-17T21:19:22.459927",
     "status": "completed"
    },
    "tags": []
   },
   "source": [
    "## Tag Version"
   ]
  },
  {
   "cell_type": "code",
   "execution_count": 11,
   "id": "f6001b161c3b63da",
   "metadata": {
    "ExecuteTime": {
     "end_time": "2024-06-17T20:53:15.681047Z",
     "start_time": "2024-06-17T20:53:15.670575Z"
    },
    "collapsed": false,
    "execution": {
     "iopub.execute_input": "2024-06-17T21:19:22.470258Z",
     "iopub.status.busy": "2024-06-17T21:19:22.470132Z",
     "iopub.status.idle": "2024-06-17T21:19:22.483253Z",
     "shell.execute_reply": "2024-06-17T21:19:22.482984Z"
    },
    "papermill": {
     "duration": 0.017591,
     "end_time": "2024-06-17T21:19:22.484087",
     "exception": false,
     "start_time": "2024-06-17T21:19:22.466496",
     "status": "completed"
    },
    "tags": []
   },
   "outputs": [],
   "source": [
    "from morpheus.project.application.write.Model import CreateModelVersionCommand\n",
    "from morpheus.project.types.ModelVersion import VersionTag, VersionDescription\n",
    "\n",
    "command = CreateModelVersionCommand(\n",
    "  project_id=project_id,\n",
    "  version_tag=VersionTag('v1.0.0'),\n",
    "  version_description=VersionDescription('Version 1.0.0'),\n",
    "  user_id=user_id\n",
    ")\n",
    "\n",
    "project_command_bus.dispatch(command)"
   ]
  },
  {
   "cell_type": "code",
   "execution_count": 12,
   "id": "91ce3ebddf8a88be",
   "metadata": {
    "ExecuteTime": {
     "end_time": "2024-06-17T20:53:15.685135Z",
     "start_time": "2024-06-17T20:53:15.681737Z"
    },
    "collapsed": false,
    "execution": {
     "iopub.execute_input": "2024-06-17T21:19:22.491513Z",
     "iopub.status.busy": "2024-06-17T21:19:22.491359Z",
     "iopub.status.idle": "2024-06-17T21:19:22.494195Z",
     "shell.execute_reply": "2024-06-17T21:19:22.493946Z"
    },
    "papermill": {
     "duration": 0.007421,
     "end_time": "2024-06-17T21:19:22.495038",
     "exception": false,
     "start_time": "2024-06-17T21:19:22.487617",
     "status": "completed"
    },
    "tags": []
   },
   "outputs": [
    {
     "data": {
      "text/plain": [
       "[ModelVersion(version_id=VersionId(value='30f5c538-22ca-40db-953c-9022c00c9bcb'), tag=VersionTag(value='v1.0.0'), description=VersionDescription(value='Version 1.0.0')),\n",
       " ModelVersion(version_id=VersionId(value='1c43d008-68a4-4632-be8d-ae90bfd1f0f3'), tag=VersionTag(value='v0.0.0'), description=VersionDescription(value='Initial version'))]"
      ]
     },
     "execution_count": 12,
     "metadata": {},
     "output_type": "execute_result"
    }
   ],
   "source": [
    "model_reader.get_versions(project_id=project_id)"
   ]
  },
  {
   "cell_type": "code",
   "execution_count": 13,
   "id": "98e0fcfb479f8ff8",
   "metadata": {
    "ExecuteTime": {
     "end_time": "2024-06-17T20:53:15.688945Z",
     "start_time": "2024-06-17T20:53:15.685711Z"
    },
    "collapsed": false,
    "execution": {
     "iopub.execute_input": "2024-06-17T21:19:22.502041Z",
     "iopub.status.busy": "2024-06-17T21:19:22.501937Z",
     "iopub.status.idle": "2024-06-17T21:19:22.504714Z",
     "shell.execute_reply": "2024-06-17T21:19:22.504513Z"
    },
    "papermill": {
     "duration": 0.007149,
     "end_time": "2024-06-17T21:19:22.505494",
     "exception": false,
     "start_time": "2024-06-17T21:19:22.498345",
     "status": "completed"
    },
    "tags": []
   },
   "outputs": [
    {
     "data": {
      "text/plain": [
       "ModelVersion(version_id=VersionId(value='30f5c538-22ca-40db-953c-9022c00c9bcb'), tag=VersionTag(value='v1.0.0'), description=VersionDescription(value='Version 1.0.0'))"
      ]
     },
     "execution_count": 13,
     "metadata": {},
     "output_type": "execute_result"
    }
   ],
   "source": [
    "version = model_reader.get_version_by_tag(project_id=project_id, tag=VersionTag('v1.0.0'))\n",
    "version"
   ]
  },
  {
   "cell_type": "code",
   "execution_count": 14,
   "id": "d447991ac286684f",
   "metadata": {
    "ExecuteTime": {
     "end_time": "2024-06-17T20:53:15.694204Z",
     "start_time": "2024-06-17T20:53:15.689546Z"
    },
    "collapsed": false,
    "execution": {
     "iopub.execute_input": "2024-06-17T21:19:22.512754Z",
     "iopub.status.busy": "2024-06-17T21:19:22.512650Z",
     "iopub.status.idle": "2024-06-17T21:19:22.518407Z",
     "shell.execute_reply": "2024-06-17T21:19:22.518151Z"
    },
    "papermill": {
     "duration": 0.010213,
     "end_time": "2024-06-17T21:19:22.519188",
     "exception": false,
     "start_time": "2024-06-17T21:19:22.508975",
     "status": "completed"
    },
    "tags": []
   },
   "outputs": [],
   "source": [
    "from morpheus.project.application.write.Model import UpdateModelVersionDescriptionCommand\n",
    "\n",
    "command = UpdateModelVersionDescriptionCommand(\n",
    "  project_id=project_id,\n",
    "  version_id=version.version_id,\n",
    "  version_description=VersionDescription('Version 1.0.0 - Updated'),\n",
    "  user_id=user_id\n",
    ")\n",
    "\n",
    "project_command_bus.dispatch(command)"
   ]
  },
  {
   "cell_type": "code",
   "execution_count": 15,
   "id": "98bd0d67dcdef72c",
   "metadata": {
    "ExecuteTime": {
     "end_time": "2024-06-17T20:53:15.698736Z",
     "start_time": "2024-06-17T20:53:15.694799Z"
    },
    "collapsed": false,
    "execution": {
     "iopub.execute_input": "2024-06-17T21:19:22.526758Z",
     "iopub.status.busy": "2024-06-17T21:19:22.526650Z",
     "iopub.status.idle": "2024-06-17T21:19:22.529657Z",
     "shell.execute_reply": "2024-06-17T21:19:22.529461Z"
    },
    "papermill": {
     "duration": 0.007608,
     "end_time": "2024-06-17T21:19:22.530439",
     "exception": false,
     "start_time": "2024-06-17T21:19:22.522831",
     "status": "completed"
    },
    "tags": []
   },
   "outputs": [
    {
     "data": {
      "text/plain": [
       "'Version 1.0.0 - Updated'"
      ]
     },
     "execution_count": 15,
     "metadata": {},
     "output_type": "execute_result"
    }
   ],
   "source": [
    "version = model_reader.get_version_by_tag(project_id=project_id, tag=VersionTag('v1.0.0'))\n",
    "version.description.to_str()"
   ]
  },
  {
   "cell_type": "markdown",
   "id": "d3450ee74861c27d",
   "metadata": {
    "papermill": {
     "duration": 0.003276,
     "end_time": "2024-06-17T21:19:22.537016",
     "exception": false,
     "start_time": "2024-06-17T21:19:22.533740",
     "status": "completed"
    },
    "tags": []
   },
   "source": [
    "# Add well boundary"
   ]
  },
  {
   "cell_type": "code",
   "execution_count": 16,
   "id": "364435815cd6954f",
   "metadata": {
    "ExecuteTime": {
     "end_time": "2024-06-17T20:53:15.717528Z",
     "start_time": "2024-06-17T20:53:15.699408Z"
    },
    "execution": {
     "iopub.execute_input": "2024-06-17T21:19:22.543986Z",
     "iopub.status.busy": "2024-06-17T21:19:22.543876Z",
     "iopub.status.idle": "2024-06-17T21:19:22.564241Z",
     "shell.execute_reply": "2024-06-17T21:19:22.563998Z"
    },
    "papermill": {
     "duration": 0.02508,
     "end_time": "2024-06-17T21:19:22.565315",
     "exception": false,
     "start_time": "2024-06-17T21:19:22.540235",
     "status": "completed"
    },
    "tags": []
   },
   "outputs": [],
   "source": [
    "from morpheus.project.application.write.Model.AddModelBoundary import AddModelBoundaryCommandPayload\n",
    "from morpheus.project.application.write.Model import AddModelBoundaryCommand\n",
    "\n",
    "payload: AddModelBoundaryCommandPayload = {\n",
    "  'project_id': project_id.to_str(),\n",
    "  'model_id': model.model_id.to_str(),\n",
    "  'boundary_type': 'well',\n",
    "  'boundary_geometry': {\n",
    "    'type': 'Point',\n",
    "    'coordinates': [13.923, 50.965]\n",
    "  },\n",
    "}\n",
    "\n",
    "project_command_bus.dispatch(AddModelBoundaryCommand.from_payload(user_id=user_id, payload=payload))"
   ]
  },
  {
   "cell_type": "markdown",
   "id": "14cbb28e7eba7481",
   "metadata": {
    "papermill": {
     "duration": 0.003426,
     "end_time": "2024-06-17T21:19:22.572527",
     "exception": false,
     "start_time": "2024-06-17T21:19:22.569101",
     "status": "completed"
    },
    "tags": []
   },
   "source": [
    "# Read Model Boundaries"
   ]
  },
  {
   "cell_type": "code",
   "execution_count": 17,
   "id": "dde2c00f187dbc9c",
   "metadata": {
    "ExecuteTime": {
     "end_time": "2024-06-17T20:53:15.722102Z",
     "start_time": "2024-06-17T20:53:15.718487Z"
    },
    "execution": {
     "iopub.execute_input": "2024-06-17T21:19:22.579709Z",
     "iopub.status.busy": "2024-06-17T21:19:22.579538Z",
     "iopub.status.idle": "2024-06-17T21:19:22.585025Z",
     "shell.execute_reply": "2024-06-17T21:19:22.584793Z"
    },
    "papermill": {
     "duration": 0.009938,
     "end_time": "2024-06-17T21:19:22.585776",
     "exception": false,
     "start_time": "2024-06-17T21:19:22.575838",
     "status": "completed"
    },
    "tags": []
   },
   "outputs": [
    {
     "data": {
      "text/plain": [
       "BoundaryCollection(boundaries=[WellBoundary(boundary_id=BoundaryId(value='8f44097c-9a72-48e6-b9f5-e0a6041d9afa'), type=BoundaryType(type='well'), name=BoundaryName(value='new well boundary'), tags=BoundaryTags(value=[]), geometry=Point(coordinates=[13.923, 50.965], type='Point'), affected_cells=ActiveCells(shape=[6, 11], data=[ActiveCell(col=3, row=5)]), affected_layers=[LayerId(value='375d0b31-7308-4a25-845f-5538c769d8b6')], observations=[WellObservation(observation_id=ObservationId(value='3b077460-85ec-4e95-9f2c-ab85fe77989f'), observation_name=ObservationName(value='Observation Point 1'), geometry=Point(coordinates=[13.923, 50.965], type='Point'), data=[WellRawDataItem(date_time=StartDateTime(value=datetime.datetime(2020, 1, 1, 0, 0, tzinfo=datetime.timezone.utc)), pumping_rate=PumpingRate(value=0.0))])], enabled=True)])"
      ]
     },
     "execution_count": 17,
     "metadata": {},
     "output_type": "execute_result"
    }
   ],
   "source": [
    "model = model_reader.get_latest_model(project_id=project_id)\n",
    "model.boundaries"
   ]
  },
  {
   "cell_type": "markdown",
   "id": "23e3edd16ade53a",
   "metadata": {
    "papermill": {
     "duration": 0.003372,
     "end_time": "2024-06-17T21:19:22.592740",
     "exception": false,
     "start_time": "2024-06-17T21:19:22.589368",
     "status": "completed"
    },
    "tags": []
   },
   "source": [
    "# Remove Well Boundary"
   ]
  },
  {
   "cell_type": "code",
   "execution_count": 18,
   "id": "1bae17b57bc0a1e0",
   "metadata": {
    "ExecuteTime": {
     "end_time": "2024-06-17T20:53:15.733998Z",
     "start_time": "2024-06-17T20:53:15.722907Z"
    },
    "execution": {
     "iopub.execute_input": "2024-06-17T21:19:22.600027Z",
     "iopub.status.busy": "2024-06-17T21:19:22.599920Z",
     "iopub.status.idle": "2024-06-17T21:19:22.610303Z",
     "shell.execute_reply": "2024-06-17T21:19:22.610054Z"
    },
    "papermill": {
     "duration": 0.014987,
     "end_time": "2024-06-17T21:19:22.611109",
     "exception": false,
     "start_time": "2024-06-17T21:19:22.596122",
     "status": "completed"
    },
    "tags": []
   },
   "outputs": [],
   "source": [
    "from morpheus.project.application.write.Model.RemoveModelBoundary import RemoveModelBoundaryCommandPayload, RemoveModelBoundaryCommand\n",
    "\n",
    "boundary_id = model.boundaries[0].boundary_id\n",
    "\n",
    "payload: RemoveModelBoundaryCommandPayload = {\n",
    "  'project_id': project_id.to_str(),\n",
    "  'model_id': model.model_id.to_str(),\n",
    "  'boundary_id': boundary_id.to_str(),\n",
    "}\n",
    "\n",
    "project_command_bus.dispatch(RemoveModelBoundaryCommand.from_payload(user_id=user_id, payload=payload))"
   ]
  },
  {
   "cell_type": "code",
   "execution_count": 19,
   "id": "db153e9460ab7bc6",
   "metadata": {
    "ExecuteTime": {
     "end_time": "2024-06-17T20:53:15.739713Z",
     "start_time": "2024-06-17T20:53:15.734617Z"
    },
    "execution": {
     "iopub.execute_input": "2024-06-17T21:19:22.618555Z",
     "iopub.status.busy": "2024-06-17T21:19:22.618445Z",
     "iopub.status.idle": "2024-06-17T21:19:22.623174Z",
     "shell.execute_reply": "2024-06-17T21:19:22.622939Z"
    },
    "papermill": {
     "duration": 0.009166,
     "end_time": "2024-06-17T21:19:22.623879",
     "exception": false,
     "start_time": "2024-06-17T21:19:22.614713",
     "status": "completed"
    },
    "tags": []
   },
   "outputs": [
    {
     "data": {
      "text/plain": [
       "BoundaryCollection(boundaries=[])"
      ]
     },
     "execution_count": 19,
     "metadata": {},
     "output_type": "execute_result"
    }
   ],
   "source": [
    "model = model_reader.get_latest_model(project_id=project_id)\n",
    "model.boundaries"
   ]
  },
  {
   "cell_type": "code",
   "execution_count": null,
   "id": "dc20739afcda859d",
   "metadata": {
    "ExecuteTime": {
     "end_time": "2024-06-17T20:53:15.741881Z",
     "start_time": "2024-06-17T20:53:15.740524Z"
    },
    "papermill": {
     "duration": 0.003354,
     "end_time": "2024-06-17T21:19:22.630816",
     "exception": false,
     "start_time": "2024-06-17T21:19:22.627462",
     "status": "completed"
    },
    "tags": []
   },
   "outputs": [],
   "source": []
  }
 ],
 "metadata": {
  "kernelspec": {
   "display_name": "Python 3",
   "language": "python",
   "name": "python3"
  },
  "language_info": {
   "codemirror_mode": {
    "name": "ipython",
    "version": 3
   },
   "file_extension": ".py",
   "mimetype": "text/x-python",
   "name": "python",
   "nbconvert_exporter": "python",
   "pygments_lexer": "ipython3",
   "version": "3.12.2"
  },
  "papermill": {
   "default_parameters": {},
   "duration": 5.718087,
   "end_time": "2024-06-17T21:19:25.253896",
   "environment_variables": {},
   "exception": null,
   "input_path": "./notebooks/EventSourcingModel.ipynb",
   "output_path": "./notebooks/EventSourcingModel.ipynb",
   "parameters": {},
   "start_time": "2024-06-17T21:19:19.535809",
   "version": "2.6.0"
  }
 },
 "nbformat": 4,
 "nbformat_minor": 5
}
