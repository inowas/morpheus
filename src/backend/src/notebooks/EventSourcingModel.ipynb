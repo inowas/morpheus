{
 "cells": [
  {
   "cell_type": "markdown",
   "id": "643f6c4207bbc0b0",
   "metadata": {
    "papermill": {
     "duration": 0.009526,
     "end_time": "2024-05-15T16:00:54.545570",
     "exception": false,
     "start_time": "2024-05-15T16:00:54.536044",
     "status": "completed"
    },
    "tags": []
   },
   "source": [
    "# Initialize Morpheus"
   ]
  },
  {
   "cell_type": "code",
   "id": "9a429500dc402140",
   "metadata": {
    "execution": {
     "iopub.execute_input": "2024-05-15T16:00:54.558617Z",
     "iopub.status.busy": "2024-05-15T16:00:54.558359Z",
     "iopub.status.idle": "2024-05-15T16:00:56.078192Z",
     "shell.execute_reply": "2024-05-15T16:00:56.077902Z"
    },
    "papermill": {
     "duration": 1.526796,
     "end_time": "2024-05-15T16:00:56.079255",
     "exception": false,
     "start_time": "2024-05-15T16:00:54.552459",
     "status": "completed"
    },
    "tags": [],
    "ExecuteTime": {
     "end_time": "2024-06-20T11:48:54.157352Z",
     "start_time": "2024-06-20T11:48:54.154597Z"
    }
   },
   "source": [
    "from morpheus.project.application.write import project_command_bus"
   ],
   "outputs": [],
   "execution_count": 9
  },
  {
   "cell_type": "markdown",
   "id": "740a87482c1f1624",
   "metadata": {
    "collapsed": false,
    "papermill": {
     "duration": 0.002372,
     "end_time": "2024-05-15T16:00:56.084439",
     "exception": false,
     "start_time": "2024-05-15T16:00:56.082067",
     "status": "completed"
    },
    "tags": []
   },
   "source": [
    "# Create a Project"
   ]
  },
  {
   "cell_type": "code",
   "id": "932b4fe5bd839f2",
   "metadata": {
    "collapsed": false,
    "execution": {
     "iopub.execute_input": "2024-05-15T16:00:56.090238Z",
     "iopub.status.busy": "2024-05-15T16:00:56.089801Z",
     "iopub.status.idle": "2024-05-15T16:00:56.097043Z",
     "shell.execute_reply": "2024-05-15T16:00:56.096675Z"
    },
    "papermill": {
     "duration": 0.01123,
     "end_time": "2024-05-15T16:00:56.098014",
     "exception": false,
     "start_time": "2024-05-15T16:00:56.086784",
     "status": "completed"
    },
    "tags": [],
    "ExecuteTime": {
     "end_time": "2024-06-20T11:48:54.247855Z",
     "start_time": "2024-06-20T11:48:54.237344Z"
    }
   },
   "source": [
    "from morpheus.common.types.identity.Identity import UserId\n",
    "from morpheus.project.types.Project import ProjectId, Name, Description, Tags\n",
    "\n",
    "user_id = UserId.new()\n",
    "project_id = ProjectId.new()\n",
    "name = Name.from_str('Project 1')\n",
    "description = Description.from_str('Description 1')\n",
    "tags = Tags.from_list(['tag1', 'tag2'])\n",
    "\n",
    "from morpheus.project.application.write.Project import CreateProjectCommand\n",
    "\n",
    "create_project_command = CreateProjectCommand(\n",
    "  project_id=project_id,\n",
    "  name=name,\n",
    "  description=description,\n",
    "  tags=tags,\n",
    "  user_id=user_id\n",
    ")\n",
    "\n",
    "project_command_bus.dispatch(create_project_command)"
   ],
   "outputs": [],
   "execution_count": 10
  },
  {
   "cell_type": "markdown",
   "id": "9d52b120aa989d1f",
   "metadata": {
    "collapsed": false,
    "papermill": {
     "duration": 0.002429,
     "end_time": "2024-05-15T16:00:56.103084",
     "exception": false,
     "start_time": "2024-05-15T16:00:56.100655",
     "status": "completed"
    },
    "tags": []
   },
   "source": [
    "# Read ProjectList"
   ]
  },
  {
   "cell_type": "code",
   "id": "56155ec2f19c768d",
   "metadata": {
    "collapsed": false,
    "execution": {
     "iopub.execute_input": "2024-05-15T16:00:56.109460Z",
     "iopub.status.busy": "2024-05-15T16:00:56.108980Z",
     "iopub.status.idle": "2024-05-15T16:00:56.115776Z",
     "shell.execute_reply": "2024-05-15T16:00:56.115249Z"
    },
    "papermill": {
     "duration": 0.011532,
     "end_time": "2024-05-15T16:00:56.117008",
     "exception": false,
     "start_time": "2024-05-15T16:00:56.105476",
     "status": "completed"
    },
    "tags": [],
    "ExecuteTime": {
     "end_time": "2024-06-20T11:48:54.258578Z",
     "start_time": "2024-06-20T11:48:54.250247Z"
    }
   },
   "source": [
    "from morpheus.common.types.identity.Identity import Identity\n",
    "from morpheus.project.application.read.ProjectReader import project_reader\n",
    "\n",
    "identity = Identity(user_id=UserId.new(), group_ids=[], is_admin=True)\n",
    "project_list = project_reader.get_project_summaries_with_role_for_identity(identity)\n",
    "project_list"
   ],
   "outputs": [
    {
     "data": {
      "text/plain": [
       "[(ProjectSummary(project_id=ProjectId(value='256fbece-6fcf-43cc-9b52-363172dcabae'), project_name=Name(value='Notebook Project 1_0'), project_description=Description(value='This is project 1_0 created in a notebook'), project_tags=Tags(value=[]), owner_id=UserId(value='5b5a1041-a0df-4a27-8599-70aed87f8a5d'), visibility=<Visibility.PRIVATE: 'private'>, created_at=DateTime(value=datetime.datetime(2024, 6, 20, 9, 58, 16, 343155)), updated_at=DateTime(value=datetime.datetime(2024, 6, 20, 9, 58, 16, 343155))),\n",
       "  <Role.OWNER: 'owner'>),\n",
       " (ProjectSummary(project_id=ProjectId(value='c7efd6d9-e265-4dcc-915d-8625552d1b30'), project_name=Name(value='Notebook Project 1_1'), project_description=Description(value='This is project 1_1 created in a notebook'), project_tags=Tags(value=[]), owner_id=UserId(value='5b5a1041-a0df-4a27-8599-70aed87f8a5d'), visibility=<Visibility.PRIVATE: 'private'>, created_at=DateTime(value=datetime.datetime(2024, 6, 20, 9, 58, 16, 355237)), updated_at=DateTime(value=datetime.datetime(2024, 6, 20, 9, 58, 16, 355237))),\n",
       "  <Role.OWNER: 'owner'>),\n",
       " (ProjectSummary(project_id=ProjectId(value='6fca31f1-3d76-414b-ba12-39960e1a4644'), project_name=Name(value='Notebook Project 2_0'), project_description=Description(value='This is project 2_0 created in a notebook'), project_tags=Tags(value=[]), owner_id=UserId(value='ee4eb03c-a344-4a20-b8b7-9000d37df519'), visibility=<Visibility.PRIVATE: 'private'>, created_at=DateTime(value=datetime.datetime(2024, 6, 20, 9, 58, 16, 362097)), updated_at=DateTime(value=datetime.datetime(2024, 6, 20, 9, 58, 16, 362097))),\n",
       "  <Role.OWNER: 'owner'>),\n",
       " (ProjectSummary(project_id=ProjectId(value='a22e4231-da8f-40ba-aa84-d57d5fcc639e'), project_name=Name(value='Notebook Project 2_1'), project_description=Description(value='This is project 2_1 created in a notebook'), project_tags=Tags(value=[]), owner_id=UserId(value='ee4eb03c-a344-4a20-b8b7-9000d37df519'), visibility=<Visibility.PRIVATE: 'private'>, created_at=DateTime(value=datetime.datetime(2024, 6, 20, 9, 58, 16, 369520)), updated_at=DateTime(value=datetime.datetime(2024, 6, 20, 9, 58, 16, 369520))),\n",
       "  <Role.OWNER: 'owner'>),\n",
       " (ProjectSummary(project_id=ProjectId(value='6541bab0-6f0b-4a03-a6f5-f9534525d818'), project_name=Name(value='Notebook Project 2_2'), project_description=Description(value='This is project 2_2 created in a notebook'), project_tags=Tags(value=[]), owner_id=UserId(value='ee4eb03c-a344-4a20-b8b7-9000d37df519'), visibility=<Visibility.PRIVATE: 'private'>, created_at=DateTime(value=datetime.datetime(2024, 6, 20, 9, 58, 16, 379574)), updated_at=DateTime(value=datetime.datetime(2024, 6, 20, 9, 58, 16, 379574))),\n",
       "  <Role.OWNER: 'owner'>),\n",
       " (ProjectSummary(project_id=ProjectId(value='2946ac9b-ca3a-4dbf-8ffd-2b88113aacfa'), project_name=Name(value='Public Project'), project_description=Description(value='This is a public project created in a notebook'), project_tags=Tags(value=[]), owner_id=UserId(value='e1a04e67-ac0d-448c-b9a1-c97113a3fc29'), visibility=<Visibility.PUBLIC: 'public'>, created_at=DateTime(value=datetime.datetime(2024, 6, 20, 9, 58, 16, 394426)), updated_at=DateTime(value=datetime.datetime(2024, 6, 20, 9, 58, 16, 394426))),\n",
       "  <Role.OWNER: 'owner'>),\n",
       " (ProjectSummary(project_id=ProjectId(value='46fd9e25-8b4a-4653-b0be-885fe806ef52'), project_name=Name(value='Test1'), project_description=Description(value='My first project'), project_tags=Tags(value=['Wand', 'Schrank', 'Schüssel']), owner_id=UserId(value='271e33e5-7caf-4baa-90e9-c3ca50f9c1bf'), visibility=<Visibility.PRIVATE: 'private'>, created_at=DateTime(value=datetime.datetime(2024, 6, 20, 13, 44, 16, 924284)), updated_at=DateTime(value=datetime.datetime(2024, 6, 20, 13, 44, 16, 924284))),\n",
       "  <Role.OWNER: 'owner'>),\n",
       " (ProjectSummary(project_id=ProjectId(value='b31ddd89-79a1-473d-8935-a88c3c83921a'), project_name=Name(value='Project 1'), project_description=Description(value='Description 1'), project_tags=Tags(value=['tag1', 'tag2']), owner_id=UserId(value='7801e27e-e6b5-4b7e-9fd8-fe8a7a1a2a4c'), visibility=<Visibility.PRIVATE: 'private'>, created_at=DateTime(value=datetime.datetime(2024, 6, 20, 13, 48, 36, 405689)), updated_at=DateTime(value=datetime.datetime(2024, 6, 20, 13, 48, 36, 405689))),\n",
       "  <Role.OWNER: 'owner'>),\n",
       " (ProjectSummary(project_id=ProjectId(value='90759c79-218a-450e-9755-da3ab66e02fe'), project_name=Name(value='Project 1'), project_description=Description(value='Description 1'), project_tags=Tags(value=['tag1', 'tag2']), owner_id=UserId(value='45fa8087-1b19-4f1f-a9e2-bf4362392f94'), visibility=<Visibility.PRIVATE: 'private'>, created_at=DateTime(value=datetime.datetime(2024, 6, 20, 13, 48, 54, 239958)), updated_at=DateTime(value=datetime.datetime(2024, 6, 20, 13, 48, 54, 239958))),\n",
       "  <Role.OWNER: 'owner'>)]"
      ]
     },
     "execution_count": 11,
     "metadata": {},
     "output_type": "execute_result"
    }
   ],
   "execution_count": 11
  },
  {
   "cell_type": "markdown",
   "id": "22380477da429c5d",
   "metadata": {
    "collapsed": false,
    "papermill": {
     "duration": 0.002644,
     "end_time": "2024-05-15T16:00:56.122505",
     "exception": false,
     "start_time": "2024-05-15T16:00:56.119861",
     "status": "completed"
    },
    "tags": []
   },
   "source": [
    "# Create model"
   ]
  },
  {
   "cell_type": "code",
   "id": "7db50a89dc6391e5",
   "metadata": {
    "collapsed": false,
    "execution": {
     "iopub.execute_input": "2024-05-15T16:00:56.128276Z",
     "iopub.status.busy": "2024-05-15T16:00:56.128137Z",
     "iopub.status.idle": "2024-05-15T16:00:56.506646Z",
     "shell.execute_reply": "2024-05-15T16:00:56.506388Z"
    },
    "papermill": {
     "duration": 0.382629,
     "end_time": "2024-05-15T16:00:56.507650",
     "exception": false,
     "start_time": "2024-05-15T16:00:56.125021",
     "status": "completed"
    },
    "tags": [],
    "ExecuteTime": {
     "end_time": "2024-06-20T11:48:55.344617Z",
     "start_time": "2024-06-20T11:48:54.260984Z"
    }
   },
   "source": [
    "from morpheus.project.types.discretization.spatial import Rotation\n",
    "from morpheus.project.types.geometry import Polygon\n",
    "from morpheus.project.types.Model import ModelId\n",
    "from morpheus.project.application.write.Model import CreateModelCommand\n",
    "\n",
    "polygon = Polygon(\n",
    "  type='Polygon',\n",
    "  coordinates=[[\n",
    "    (13.922514437551428, 50.964720483303836),\n",
    "    (13.925250781947113, 50.965228748412386),\n",
    "    (13.925036413951403, 50.96623732041704),\n",
    "    (13.92222441026388, 50.96629040370362),\n",
    "    (13.922514437551428, 50.964720483303836)\n",
    "  ]]\n",
    ")\n",
    "\n",
    "n_cols = 100\n",
    "n_rows = 50\n",
    "rotation = 0.0\n",
    "\n",
    "command = CreateModelCommand(\n",
    "  project_id=project_id,\n",
    "  user_id=user_id,\n",
    "  model_id=ModelId.new(),\n",
    "  geometry=polygon,\n",
    "  n_cols=n_cols,\n",
    "  n_rows=n_rows,\n",
    "  rotation=Rotation.from_float(rotation),\n",
    ")\n",
    "\n",
    "project_command_bus.dispatch(command)"
   ],
   "outputs": [
    {
     "ename": "AttributeError",
     "evalue": "type object 'EventMetadata' has no attribute 'new'",
     "output_type": "error",
     "traceback": [
      "\u001B[0;31m---------------------------------------------------------------------------\u001B[0m",
      "\u001B[0;31mAttributeError\u001B[0m                            Traceback (most recent call last)",
      "Cell \u001B[0;32mIn[12], line 31\u001B[0m\n\u001B[1;32m     19\u001B[0m rotation \u001B[38;5;241m=\u001B[39m \u001B[38;5;241m0.0\u001B[39m\n\u001B[1;32m     21\u001B[0m command \u001B[38;5;241m=\u001B[39m CreateModelCommand(\n\u001B[1;32m     22\u001B[0m   project_id\u001B[38;5;241m=\u001B[39mproject_id,\n\u001B[1;32m     23\u001B[0m   user_id\u001B[38;5;241m=\u001B[39muser_id,\n\u001B[0;32m   (...)\u001B[0m\n\u001B[1;32m     28\u001B[0m   rotation\u001B[38;5;241m=\u001B[39mRotation\u001B[38;5;241m.\u001B[39mfrom_float(rotation),\n\u001B[1;32m     29\u001B[0m )\n\u001B[0;32m---> 31\u001B[0m \u001B[43mproject_command_bus\u001B[49m\u001B[38;5;241;43m.\u001B[39;49m\u001B[43mdispatch\u001B[49m\u001B[43m(\u001B[49m\u001B[43mcommand\u001B[49m\u001B[43m)\u001B[49m\n",
      "File \u001B[0;32m~/Gewerbe/Projekte/workspaces/inowas/morpheus/src/backend/src/morpheus/project/infrastructure/command_bus/CommandBus.py:17\u001B[0m, in \u001B[0;36mCommandBus.dispatch\u001B[0;34m(self, command)\u001B[0m\n\u001B[1;32m     15\u001B[0m \u001B[38;5;28;01mdef\u001B[39;00m \u001B[38;5;21mdispatch\u001B[39m(\u001B[38;5;28mself\u001B[39m, command: Type[CommandBase]):\n\u001B[1;32m     16\u001B[0m     handler \u001B[38;5;241m=\u001B[39m \u001B[38;5;28mself\u001B[39m\u001B[38;5;241m.\u001B[39m_command_handlers[command\u001B[38;5;241m.\u001B[39mcommand_name()]\n\u001B[0;32m---> 17\u001B[0m     \u001B[38;5;28;01mreturn\u001B[39;00m \u001B[43mhandler\u001B[49m\u001B[38;5;241;43m.\u001B[39;49m\u001B[43mhandle\u001B[49m\u001B[43m(\u001B[49m\u001B[43mcommand\u001B[49m\u001B[43m)\u001B[49m\n",
      "File \u001B[0;32m~/Gewerbe/Projekte/workspaces/inowas/morpheus/src/backend/src/morpheus/project/application/write/Model/CreateModel.py:102\u001B[0m, in \u001B[0;36mCreateModelCommandHandler.handle\u001B[0;34m(command)\u001B[0m\n\u001B[1;32m    100\u001B[0m default_calculation_profile \u001B[38;5;241m=\u001B[39m CalculationProfile\u001B[38;5;241m.\u001B[39mdefault()\n\u001B[1;32m    101\u001B[0m event \u001B[38;5;241m=\u001B[39m CalculationProfileAddedEvent\u001B[38;5;241m.\u001B[39mfrom_calculation_profile(project_id\u001B[38;5;241m=\u001B[39mproject_id, calculation_profile\u001B[38;5;241m=\u001B[39mdefault_calculation_profile, occurred_at\u001B[38;5;241m=\u001B[39mDateTime\u001B[38;5;241m.\u001B[39mnow())\n\u001B[0;32m--> 102\u001B[0m event_metadata \u001B[38;5;241m=\u001B[39m \u001B[43mEventMetadata\u001B[49m\u001B[38;5;241;43m.\u001B[39;49m\u001B[43mnew\u001B[49m(user_id\u001B[38;5;241m=\u001B[39mUuid\u001B[38;5;241m.\u001B[39mfrom_str(command\u001B[38;5;241m.\u001B[39muser_id\u001B[38;5;241m.\u001B[39mto_str()))\n\u001B[1;32m    103\u001B[0m envelope \u001B[38;5;241m=\u001B[39m EventEnvelope(event\u001B[38;5;241m=\u001B[39mevent, metadata\u001B[38;5;241m=\u001B[39mevent_metadata)\n\u001B[1;32m    104\u001B[0m project_event_bus\u001B[38;5;241m.\u001B[39mrecord(event_envelope\u001B[38;5;241m=\u001B[39menvelope)\n",
      "\u001B[0;31mAttributeError\u001B[0m: type object 'EventMetadata' has no attribute 'new'"
     ]
    }
   ],
   "execution_count": 12
  },
  {
   "cell_type": "markdown",
   "id": "cde69ee770d30fc1",
   "metadata": {
    "collapsed": false,
    "papermill": {
     "duration": 0.002555,
     "end_time": "2024-05-15T16:00:56.513254",
     "exception": false,
     "start_time": "2024-05-15T16:00:56.510699",
     "status": "completed"
    },
    "tags": []
   },
   "source": [
    "# Read Latest Model"
   ]
  },
  {
   "cell_type": "code",
   "id": "d2717a59e00a53d1",
   "metadata": {
    "collapsed": false,
    "execution": {
     "iopub.execute_input": "2024-05-15T16:00:56.518945Z",
     "iopub.status.busy": "2024-05-15T16:00:56.518817Z",
     "iopub.status.idle": "2024-05-15T16:00:56.529088Z",
     "shell.execute_reply": "2024-05-15T16:00:56.528849Z"
    },
    "papermill": {
     "duration": 0.01421,
     "end_time": "2024-05-15T16:00:56.529968",
     "exception": false,
     "start_time": "2024-05-15T16:00:56.515758",
     "status": "completed"
    },
    "tags": [],
    "ExecuteTime": {
     "end_time": "2024-06-20T11:48:55.348774Z",
     "start_time": "2024-06-20T11:48:55.348525Z"
    }
   },
   "source": [
    "from morpheus.project.application.read.ModelReader import ModelReader\n",
    "\n",
    "model_reader = ModelReader()\n",
    "model = model_reader.get_latest_model(project_id)\n",
    "model"
   ],
   "outputs": [],
   "execution_count": null
  },
  {
   "cell_type": "markdown",
   "id": "572a7b334c101e6c",
   "metadata": {
    "collapsed": false,
    "papermill": {
     "duration": 0.002803,
     "end_time": "2024-05-15T16:00:56.535801",
     "exception": false,
     "start_time": "2024-05-15T16:00:56.532998",
     "status": "completed"
    },
    "tags": []
   },
   "source": [
    "## Update Model Geometry\n"
   ]
  },
  {
   "cell_type": "code",
   "id": "c38378d24fc310eb",
   "metadata": {
    "collapsed": false,
    "execution": {
     "iopub.execute_input": "2024-05-15T16:00:56.541978Z",
     "iopub.status.busy": "2024-05-15T16:00:56.541826Z",
     "iopub.status.idle": "2024-05-15T16:00:56.929648Z",
     "shell.execute_reply": "2024-05-15T16:00:56.929350Z"
    },
    "papermill": {
     "duration": 0.391972,
     "end_time": "2024-05-15T16:00:56.930580",
     "exception": false,
     "start_time": "2024-05-15T16:00:56.538608",
     "status": "completed"
    },
    "tags": [],
    "ExecuteTime": {
     "end_time": "2024-06-20T11:49:03.258447Z",
     "start_time": "2024-06-20T11:49:02.288263Z"
    }
   },
   "source": [
    "from morpheus.project.application.write.Model import UpdateModelGeometryCommand\n",
    "\n",
    "new_polygon = Polygon(\n",
    "  type='Polygon',\n",
    "  coordinates=[[\n",
    "    (13.922, 50.965),\n",
    "    (13.925, 50.965),\n",
    "    (13.925, 50.966),\n",
    "    (13.922, 50.966),\n",
    "    (13.922, 50.965)\n",
    "  ]]\n",
    ")\n",
    "\n",
    "command = UpdateModelGeometryCommand(\n",
    "  project_id=project_id,\n",
    "  geometry=new_polygon,\n",
    "  user_id=user_id\n",
    ")\n",
    "\n",
    "project_command_bus.dispatch(command)\n",
    "\n",
    "model_reader = ModelReader()\n",
    "model = model_reader.get_latest_model(project_id)\n",
    "model.spatial_discretization.geometry"
   ],
   "outputs": [
    {
     "ename": "NameError",
     "evalue": "name 'ModelReader' is not defined",
     "output_type": "error",
     "traceback": [
      "\u001B[0;31m---------------------------------------------------------------------------\u001B[0m",
      "\u001B[0;31mNameError\u001B[0m                                 Traceback (most recent call last)",
      "Cell \u001B[0;32mIn[13], line 22\u001B[0m\n\u001B[1;32m     14\u001B[0m command \u001B[38;5;241m=\u001B[39m UpdateModelGeometryCommand(\n\u001B[1;32m     15\u001B[0m   project_id\u001B[38;5;241m=\u001B[39mproject_id,\n\u001B[1;32m     16\u001B[0m   geometry\u001B[38;5;241m=\u001B[39mnew_polygon,\n\u001B[1;32m     17\u001B[0m   user_id\u001B[38;5;241m=\u001B[39muser_id\n\u001B[1;32m     18\u001B[0m )\n\u001B[1;32m     20\u001B[0m project_command_bus\u001B[38;5;241m.\u001B[39mdispatch(command)\n\u001B[0;32m---> 22\u001B[0m model_reader \u001B[38;5;241m=\u001B[39m \u001B[43mModelReader\u001B[49m()\n\u001B[1;32m     23\u001B[0m model \u001B[38;5;241m=\u001B[39m model_reader\u001B[38;5;241m.\u001B[39mget_latest_model(project_id)\n\u001B[1;32m     24\u001B[0m model\u001B[38;5;241m.\u001B[39mspatial_discretization\u001B[38;5;241m.\u001B[39mgeometry\n",
      "\u001B[0;31mNameError\u001B[0m: name 'ModelReader' is not defined"
     ]
    }
   ],
   "execution_count": 13
  },
  {
   "cell_type": "markdown",
   "id": "91c1beb811cc5003",
   "metadata": {
    "collapsed": false,
    "papermill": {
     "duration": 0.003299,
     "end_time": "2024-05-15T16:00:56.937886",
     "exception": false,
     "start_time": "2024-05-15T16:00:56.934587",
     "status": "completed"
    },
    "tags": []
   },
   "source": [
    "## Update Model Grid Properties"
   ]
  },
  {
   "cell_type": "code",
   "id": "3eeeb70e09d71fba",
   "metadata": {
    "collapsed": false,
    "execution": {
     "iopub.execute_input": "2024-05-15T16:00:56.945079Z",
     "iopub.status.busy": "2024-05-15T16:00:56.944839Z",
     "iopub.status.idle": "2024-05-15T16:00:57.034642Z",
     "shell.execute_reply": "2024-05-15T16:00:57.034371Z"
    },
    "papermill": {
     "duration": 0.094489,
     "end_time": "2024-05-15T16:00:57.035543",
     "exception": false,
     "start_time": "2024-05-15T16:00:56.941054",
     "status": "completed"
    },
    "tags": []
   },
   "source": [
    "from morpheus.project.application.write.Model import UpdateModelGridCommand\n",
    "\n",
    "new_del_col_relative = [0, 0.1, 0.2, 0.3, 0.4, 0.5, 0.6, 0.7, 0.8, 0.9, 1]\n",
    "new_del_row_relative = [0, 0.2, 0.4, 0.6, 0.8, 1]\n",
    "\n",
    "command = UpdateModelGridCommand(\n",
    "  project_id=project_id,\n",
    "  user_id=user_id,\n",
    "  n_cols=len(new_del_col_relative),\n",
    "  n_rows=len(new_del_row_relative),\n",
    "  rotation=10,\n",
    ")\n",
    "\n",
    "project_command_bus.dispatch(command)\n",
    "\n",
    "model_reader = ModelReader()\n",
    "model = model_reader.get_latest_model(project_id)\n",
    "print(model.spatial_discretization.geometry)\n",
    "print(model.spatial_discretization.grid)\n",
    "print(model.spatial_discretization.affected_cells.to_dict())"
   ],
   "outputs": [],
   "execution_count": null
  },
  {
   "cell_type": "markdown",
   "id": "2e17bfb7ad5edd8a",
   "metadata": {
    "collapsed": false,
    "papermill": {
     "duration": 0.003009,
     "end_time": "2024-05-15T16:00:57.042122",
     "exception": false,
     "start_time": "2024-05-15T16:00:57.039113",
     "status": "completed"
    },
    "tags": []
   },
   "source": [
    "## Update Model Affected Cells"
   ]
  },
  {
   "cell_type": "code",
   "id": "2125ecf138c64a88",
   "metadata": {
    "collapsed": false,
    "execution": {
     "iopub.execute_input": "2024-05-15T16:00:57.049179Z",
     "iopub.status.busy": "2024-05-15T16:00:57.049042Z",
     "iopub.status.idle": "2024-05-15T16:00:57.066627Z",
     "shell.execute_reply": "2024-05-15T16:00:57.066350Z"
    },
    "papermill": {
     "duration": 0.022538,
     "end_time": "2024-05-15T16:00:57.067642",
     "exception": false,
     "start_time": "2024-05-15T16:00:57.045104",
     "status": "completed"
    },
    "tags": []
   },
   "source": [
    "from morpheus.project.application.write.Model import UpdateModelAffectedCellsCommand\n",
    "\n",
    "model_reader = ModelReader()\n",
    "model = model_reader.get_latest_model(project_id=project_id)\n",
    "affected_cells = model.spatial_discretization.affected_cells\n",
    "\n",
    "assert affected_cells.is_active(col=0, row=0) == False\n",
    "affected_cells.set_active(col=0, row=0)\n",
    "assert affected_cells.is_active(col=0, row=0) == True\n",
    "\n",
    "command = UpdateModelAffectedCellsCommand(\n",
    "  project_id=project_id,\n",
    "  affected_cells=affected_cells,\n",
    "  user_id=user_id\n",
    ")\n",
    "\n",
    "project_command_bus.dispatch(command)"
   ],
   "outputs": [],
   "execution_count": null
  },
  {
   "cell_type": "code",
   "id": "181c8ad99124273c",
   "metadata": {
    "collapsed": false,
    "execution": {
     "iopub.execute_input": "2024-05-15T16:00:57.075257Z",
     "iopub.status.busy": "2024-05-15T16:00:57.075141Z",
     "iopub.status.idle": "2024-05-15T16:00:57.079681Z",
     "shell.execute_reply": "2024-05-15T16:00:57.079437Z"
    },
    "papermill": {
     "duration": 0.009201,
     "end_time": "2024-05-15T16:00:57.080563",
     "exception": false,
     "start_time": "2024-05-15T16:00:57.071362",
     "status": "completed"
    },
    "tags": []
   },
   "source": [
    "model_reader = ModelReader()\n",
    "model = model_reader.get_latest_model(project_id=project_id)\n",
    "affected_cells = model.spatial_discretization.affected_cells\n",
    "assert affected_cells.is_active(col=0, row=0) == True"
   ],
   "outputs": [],
   "execution_count": null
  },
  {
   "cell_type": "markdown",
   "id": "accb680cfa47f091",
   "metadata": {
    "collapsed": false,
    "papermill": {
     "duration": 0.003321,
     "end_time": "2024-05-15T16:00:57.087320",
     "exception": false,
     "start_time": "2024-05-15T16:00:57.083999",
     "status": "completed"
    },
    "tags": []
   },
   "source": [
    "## Show Versions of Model so far"
   ]
  },
  {
   "cell_type": "code",
   "id": "cb4afb5b3dd54cea",
   "metadata": {
    "collapsed": false,
    "execution": {
     "iopub.execute_input": "2024-05-15T16:00:57.094347Z",
     "iopub.status.busy": "2024-05-15T16:00:57.094173Z",
     "iopub.status.idle": "2024-05-15T16:00:57.098811Z",
     "shell.execute_reply": "2024-05-15T16:00:57.098584Z"
    },
    "papermill": {
     "duration": 0.009005,
     "end_time": "2024-05-15T16:00:57.099555",
     "exception": false,
     "start_time": "2024-05-15T16:00:57.090550",
     "status": "completed"
    },
    "tags": []
   },
   "source": [
    "model_reader = ModelReader()\n",
    "model_reader.get_versions(project_id=project_id)"
   ],
   "outputs": [],
   "execution_count": null
  },
  {
   "cell_type": "markdown",
   "id": "c1e717aa2a462cbb",
   "metadata": {
    "collapsed": false,
    "papermill": {
     "duration": 0.003056,
     "end_time": "2024-05-15T16:00:57.105825",
     "exception": false,
     "start_time": "2024-05-15T16:00:57.102769",
     "status": "completed"
    },
    "tags": []
   },
   "source": [
    "## Tag Version"
   ]
  },
  {
   "cell_type": "code",
   "id": "f6001b161c3b63da",
   "metadata": {
    "collapsed": false,
    "execution": {
     "iopub.execute_input": "2024-05-15T16:00:57.112378Z",
     "iopub.status.busy": "2024-05-15T16:00:57.112275Z",
     "iopub.status.idle": "2024-05-15T16:00:57.133170Z",
     "shell.execute_reply": "2024-05-15T16:00:57.132912Z"
    },
    "papermill": {
     "duration": 0.025156,
     "end_time": "2024-05-15T16:00:57.134040",
     "exception": false,
     "start_time": "2024-05-15T16:00:57.108884",
     "status": "completed"
    },
    "tags": []
   },
   "source": [
    "from morpheus.project.application.write.Model import CreateModelVersionCommand\n",
    "from morpheus.project.types.ModelVersion import VersionTag, VersionDescription\n",
    "\n",
    "command = CreateModelVersionCommand(\n",
    "  project_id=project_id,\n",
    "  version_tag=VersionTag('v1.0.0'),\n",
    "  version_description=VersionDescription('Version 1.0.0'),\n",
    "  user_id=user_id\n",
    ")\n",
    "\n",
    "project_command_bus.dispatch(command)"
   ],
   "outputs": [],
   "execution_count": null
  },
  {
   "cell_type": "code",
   "id": "91ce3ebddf8a88be",
   "metadata": {
    "collapsed": false,
    "execution": {
     "iopub.execute_input": "2024-05-15T16:00:57.141804Z",
     "iopub.status.busy": "2024-05-15T16:00:57.141665Z",
     "iopub.status.idle": "2024-05-15T16:00:57.145528Z",
     "shell.execute_reply": "2024-05-15T16:00:57.145298Z"
    },
    "papermill": {
     "duration": 0.008674,
     "end_time": "2024-05-15T16:00:57.146340",
     "exception": false,
     "start_time": "2024-05-15T16:00:57.137666",
     "status": "completed"
    },
    "tags": []
   },
   "source": [
    "model_reader.get_versions(project_id=project_id)"
   ],
   "outputs": [],
   "execution_count": null
  },
  {
   "cell_type": "code",
   "id": "98e0fcfb479f8ff8",
   "metadata": {
    "collapsed": false,
    "execution": {
     "iopub.execute_input": "2024-05-15T16:00:57.153873Z",
     "iopub.status.busy": "2024-05-15T16:00:57.153745Z",
     "iopub.status.idle": "2024-05-15T16:00:57.157225Z",
     "shell.execute_reply": "2024-05-15T16:00:57.156990Z"
    },
    "papermill": {
     "duration": 0.008072,
     "end_time": "2024-05-15T16:00:57.158021",
     "exception": false,
     "start_time": "2024-05-15T16:00:57.149949",
     "status": "completed"
    },
    "tags": []
   },
   "source": [
    "version = model_reader.get_version_by_tag(project_id=project_id, tag=VersionTag('v1.0.0'))\n",
    "version"
   ],
   "outputs": [],
   "execution_count": null
  },
  {
   "cell_type": "code",
   "id": "d447991ac286684f",
   "metadata": {
    "collapsed": false,
    "execution": {
     "iopub.execute_input": "2024-05-15T16:00:57.165615Z",
     "iopub.status.busy": "2024-05-15T16:00:57.165438Z",
     "iopub.status.idle": "2024-05-15T16:00:57.174940Z",
     "shell.execute_reply": "2024-05-15T16:00:57.174686Z"
    },
    "papermill": {
     "duration": 0.014395,
     "end_time": "2024-05-15T16:00:57.175834",
     "exception": false,
     "start_time": "2024-05-15T16:00:57.161439",
     "status": "completed"
    },
    "tags": []
   },
   "source": [
    "from morpheus.project.application.write.Model import UpdateModelVersionDescriptionCommand\n",
    "\n",
    "command = UpdateModelVersionDescriptionCommand(\n",
    "  project_id=project_id,\n",
    "  version_id=version.version_id,\n",
    "  version_description=VersionDescription('Version 1.0.0 - Updated'),\n",
    "  user_id=user_id\n",
    ")\n",
    "\n",
    "project_command_bus.dispatch(command)"
   ],
   "outputs": [],
   "execution_count": null
  },
  {
   "cell_type": "code",
   "id": "98bd0d67dcdef72c",
   "metadata": {
    "collapsed": false,
    "execution": {
     "iopub.execute_input": "2024-05-15T16:00:57.183427Z",
     "iopub.status.busy": "2024-05-15T16:00:57.183315Z",
     "iopub.status.idle": "2024-05-15T16:00:57.187569Z",
     "shell.execute_reply": "2024-05-15T16:00:57.187344Z"
    },
    "papermill": {
     "duration": 0.008926,
     "end_time": "2024-05-15T16:00:57.188362",
     "exception": false,
     "start_time": "2024-05-15T16:00:57.179436",
     "status": "completed"
    },
    "tags": []
   },
   "source": [
    "version = model_reader.get_version_by_tag(project_id=project_id, tag=VersionTag('v1.0.0'))\n",
    "version.description.to_str()"
   ],
   "outputs": [],
   "execution_count": null
  },
  {
   "cell_type": "markdown",
   "id": "d3450ee74861c27d",
   "metadata": {
    "papermill": {
     "duration": 0.00319,
     "end_time": "2024-05-15T16:00:57.195060",
     "exception": false,
     "start_time": "2024-05-15T16:00:57.191870",
     "status": "completed"
    },
    "tags": []
   },
   "source": [
    "# Add well boundary"
   ]
  },
  {
   "cell_type": "code",
   "id": "364435815cd6954f",
   "metadata": {
    "execution": {
     "iopub.execute_input": "2024-05-15T16:00:57.201829Z",
     "iopub.status.busy": "2024-05-15T16:00:57.201723Z",
     "iopub.status.idle": "2024-05-15T16:00:57.223894Z",
     "shell.execute_reply": "2024-05-15T16:00:57.223623Z"
    },
    "papermill": {
     "duration": 0.026723,
     "end_time": "2024-05-15T16:00:57.224906",
     "exception": false,
     "start_time": "2024-05-15T16:00:57.198183",
     "status": "completed"
    },
    "tags": []
   },
   "source": [
    "from morpheus.project.application.write.Model.AddModelBoundary import AddModelBoundaryCommandPayload\n",
    "from morpheus.project.application.write.Model import AddModelBoundaryCommand\n",
    "\n",
    "payload: AddModelBoundaryCommandPayload = {\n",
    "  'project_id': project_id.to_str(),\n",
    "  'model_id': model.model_id.to_str(),\n",
    "  'boundary_type': 'well',\n",
    "  'boundary_geometry': {\n",
    "    'type': 'Point',\n",
    "    'coordinates': [13.923, 50.965]\n",
    "  },\n",
    "}\n",
    "\n",
    "project_command_bus.dispatch(AddModelBoundaryCommand.from_payload(user_id=user_id, payload=payload))"
   ],
   "outputs": [],
   "execution_count": null
  },
  {
   "cell_type": "markdown",
   "id": "14cbb28e7eba7481",
   "metadata": {
    "papermill": {
     "duration": 0.003434,
     "end_time": "2024-05-15T16:00:57.232316",
     "exception": false,
     "start_time": "2024-05-15T16:00:57.228882",
     "status": "completed"
    },
    "tags": []
   },
   "source": [
    "# Read Model Boundaries"
   ]
  },
  {
   "cell_type": "code",
   "id": "dde2c00f187dbc9c",
   "metadata": {
    "execution": {
     "iopub.execute_input": "2024-05-15T16:00:57.239675Z",
     "iopub.status.busy": "2024-05-15T16:00:57.239564Z",
     "iopub.status.idle": "2024-05-15T16:00:57.244053Z",
     "shell.execute_reply": "2024-05-15T16:00:57.243821Z"
    },
    "papermill": {
     "duration": 0.009178,
     "end_time": "2024-05-15T16:00:57.244882",
     "exception": false,
     "start_time": "2024-05-15T16:00:57.235704",
     "status": "completed"
    },
    "tags": []
   },
   "source": [
    "model = model_reader.get_latest_model(project_id=project_id)\n",
    "model.boundaries"
   ],
   "outputs": [],
   "execution_count": null
  },
  {
   "cell_type": "markdown",
   "id": "23e3edd16ade53a",
   "metadata": {
    "papermill": {
     "duration": 0.003295,
     "end_time": "2024-05-15T16:00:57.251645",
     "exception": false,
     "start_time": "2024-05-15T16:00:57.248350",
     "status": "completed"
    },
    "tags": []
   },
   "source": [
    "# Remove Well Boundary"
   ]
  },
  {
   "cell_type": "code",
   "id": "1bae17b57bc0a1e0",
   "metadata": {
    "execution": {
     "iopub.execute_input": "2024-05-15T16:00:57.258833Z",
     "iopub.status.busy": "2024-05-15T16:00:57.258711Z",
     "iopub.status.idle": "2024-05-15T16:00:57.272689Z",
     "shell.execute_reply": "2024-05-15T16:00:57.272399Z"
    },
    "papermill": {
     "duration": 0.018689,
     "end_time": "2024-05-15T16:00:57.273661",
     "exception": false,
     "start_time": "2024-05-15T16:00:57.254972",
     "status": "completed"
    },
    "tags": []
   },
   "source": [
    "from morpheus.project.application.write.Model.RemoveModelBoundary import RemoveModelBoundaryCommandPayload, RemoveModelBoundaryCommand\n",
    "\n",
    "boundary_id = model.boundaries[0].boundary_id\n",
    "\n",
    "payload: RemoveModelBoundaryCommandPayload = {\n",
    "  'project_id': project_id.to_str(),\n",
    "  'model_id': model.model_id.to_str(),\n",
    "  'boundary_id': boundary_id.to_str(),\n",
    "}\n",
    "\n",
    "project_command_bus.dispatch(RemoveModelBoundaryCommand.from_payload(user_id=user_id, payload=payload))"
   ],
   "outputs": [],
   "execution_count": null
  },
  {
   "cell_type": "code",
   "id": "db153e9460ab7bc6",
   "metadata": {
    "execution": {
     "iopub.execute_input": "2024-05-15T16:00:57.281235Z",
     "iopub.status.busy": "2024-05-15T16:00:57.281088Z",
     "iopub.status.idle": "2024-05-15T16:00:57.285536Z",
     "shell.execute_reply": "2024-05-15T16:00:57.285319Z"
    },
    "papermill": {
     "duration": 0.008995,
     "end_time": "2024-05-15T16:00:57.286311",
     "exception": false,
     "start_time": "2024-05-15T16:00:57.277316",
     "status": "completed"
    },
    "tags": []
   },
   "source": [
    "model = model_reader.get_latest_model(project_id=project_id)\n",
    "model.boundaries"
   ],
   "outputs": [],
   "execution_count": null
  },
  {
   "cell_type": "code",
   "id": "dc20739afcda859d",
   "metadata": {
    "papermill": {
     "duration": 0.00328,
     "end_time": "2024-05-15T16:00:57.292962",
     "exception": false,
     "start_time": "2024-05-15T16:00:57.289682",
     "status": "completed"
    },
    "tags": []
   },
   "source": [],
   "outputs": [],
   "execution_count": null
  }
 ],
 "metadata": {
  "kernelspec": {
   "display_name": "Python 3",
   "language": "python",
   "name": "python3"
  },
  "language_info": {
   "codemirror_mode": {
    "name": "ipython",
    "version": 3
   },
   "file_extension": ".py",
   "mimetype": "text/x-python",
   "name": "python",
   "nbconvert_exporter": "python",
   "pygments_lexer": "ipython3",
   "version": "3.12.2"
  },
  "papermill": {
   "default_parameters": {},
   "duration": 5.923435,
   "end_time": "2024-05-15T16:00:59.916127",
   "environment_variables": {},
   "exception": null,
   "input_path": "./notebooks/EventSourcingModel.ipynb",
   "output_path": "./notebooks/EventSourcingModel.ipynb",
   "parameters": {},
   "start_time": "2024-05-15T16:00:53.992692",
   "version": "2.6.0"
  }
 },
 "nbformat": 4,
 "nbformat_minor": 5
}
