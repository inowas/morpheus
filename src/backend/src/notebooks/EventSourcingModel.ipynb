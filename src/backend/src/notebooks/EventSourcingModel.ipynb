{
 "cells": [
  {
   "metadata": {},
   "cell_type": "code",
   "outputs": [],
   "execution_count": null,
   "source": "",
   "id": "c05846886bf4f9d4"
  },
  {
   "cell_type": "markdown",
   "id": "643f6c4207bbc0b0",
   "metadata": {
    "papermill": {
     "duration": 0.010263,
     "end_time": "2024-08-19T10:24:23.406606",
     "exception": false,
     "start_time": "2024-08-19T10:24:23.396343",
     "status": "completed"
    },
    "tags": []
   },
   "source": [
    "# Initialize Morpheus"
   ]
  },
  {
   "cell_type": "code",
   "id": "9a429500dc402140",
   "metadata": {
    "execution": {
     "iopub.execute_input": "2024-08-19T10:24:23.419367Z",
     "iopub.status.busy": "2024-08-19T10:24:23.419109Z",
     "iopub.status.idle": "2024-08-19T10:24:25.011564Z",
     "shell.execute_reply": "2024-08-19T10:24:25.011151Z"
    },
    "papermill": {
     "duration": 1.599658,
     "end_time": "2024-08-19T10:24:25.012702",
     "exception": false,
     "start_time": "2024-08-19T10:24:23.413044",
     "status": "completed"
    },
    "tags": [],
    "ExecuteTime": {
     "end_time": "2024-08-19T11:09:24.602045Z",
     "start_time": "2024-08-19T11:09:21.614295Z"
    }
   },
   "source": [
    "from morpheus.project.application.write import project_command_bus"
   ],
   "outputs": [],
   "execution_count": 1
  },
  {
   "cell_type": "markdown",
   "id": "740a87482c1f1624",
   "metadata": {
    "collapsed": false,
    "papermill": {
     "duration": 0.002675,
     "end_time": "2024-08-19T10:24:25.018278",
     "exception": false,
     "start_time": "2024-08-19T10:24:25.015603",
     "status": "completed"
    },
    "tags": []
   },
   "source": [
    "# Create a Project"
   ]
  },
  {
   "cell_type": "code",
   "id": "932b4fe5bd839f2",
   "metadata": {
    "collapsed": false,
    "execution": {
     "iopub.execute_input": "2024-08-19T10:24:25.024306Z",
     "iopub.status.busy": "2024-08-19T10:24:25.023974Z",
     "iopub.status.idle": "2024-08-19T10:24:25.036381Z",
     "shell.execute_reply": "2024-08-19T10:24:25.036065Z"
    },
    "papermill": {
     "duration": 0.016626,
     "end_time": "2024-08-19T10:24:25.037440",
     "exception": false,
     "start_time": "2024-08-19T10:24:25.020814",
     "status": "completed"
    },
    "tags": [],
    "ExecuteTime": {
     "end_time": "2024-08-19T11:09:24.632028Z",
     "start_time": "2024-08-19T11:09:24.604992Z"
    }
   },
   "source": [
    "from morpheus.common.types.identity.Identity import UserId\n",
    "from morpheus.project.types.Project import ProjectId, Name, Description, Tags\n",
    "\n",
    "user_id = UserId.new()\n",
    "project_id = ProjectId.new()\n",
    "name = Name.from_str('Project 1')\n",
    "description = Description.from_str('Description 1')\n",
    "tags = Tags.from_list(['tag1', 'tag2'])\n",
    "\n",
    "from morpheus.project.application.write.Project import CreateProjectCommand\n",
    "\n",
    "create_project_command = CreateProjectCommand(\n",
    "  project_id=project_id,\n",
    "  name=name,\n",
    "  description=description,\n",
    "  tags=tags,\n",
    "  user_id=user_id\n",
    ")\n",
    "\n",
    "project_command_bus.dispatch(create_project_command)"
   ],
   "outputs": [],
   "execution_count": 2
  },
  {
   "cell_type": "markdown",
   "id": "9d52b120aa989d1f",
   "metadata": {
    "collapsed": false,
    "papermill": {
     "duration": 0.002536,
     "end_time": "2024-08-19T10:24:25.042674",
     "exception": false,
     "start_time": "2024-08-19T10:24:25.040138",
     "status": "completed"
    },
    "tags": []
   },
   "source": [
    "# Read ProjectList"
   ]
  },
  {
   "cell_type": "code",
   "id": "56155ec2f19c768d",
   "metadata": {
    "collapsed": false,
    "execution": {
     "iopub.execute_input": "2024-08-19T10:24:25.048311Z",
     "iopub.status.busy": "2024-08-19T10:24:25.048176Z",
     "iopub.status.idle": "2024-08-19T10:24:25.055112Z",
     "shell.execute_reply": "2024-08-19T10:24:25.054871Z"
    },
    "papermill": {
     "duration": 0.010542,
     "end_time": "2024-08-19T10:24:25.055904",
     "exception": false,
     "start_time": "2024-08-19T10:24:25.045362",
     "status": "completed"
    },
    "tags": [],
    "ExecuteTime": {
     "end_time": "2024-08-19T11:09:24.651477Z",
     "start_time": "2024-08-19T11:09:24.634315Z"
    }
   },
   "source": [
    "from morpheus.common.types.identity.Identity import Identity\n",
    "from morpheus.project.application.read.ProjectReader import project_reader\n",
    "\n",
    "identity = Identity(user_id=UserId.new(), group_ids=[], is_admin=True)\n",
    "project_list = project_reader.get_project_summaries_with_user_privileges_for_identity(identity)\n",
    "project_list"
   ],
   "outputs": [
    {
     "data": {
      "text/plain": [
       "[(ProjectSummary(project_id=ProjectId(value='8cb9fced-e3d1-42f7-bcda-0e1aa4e4c70e'), project_name=Name(value='Rio Primero'), project_description=Description(value=''), project_tags=Tags(value=[]), owner_id=UserId(value='2e7a05ff-90f9-49a0-8d1a-fc28d8f64174'), visibility=<Visibility.PRIVATE: 'private'>, created_at=DateTime(value=datetime.datetime(2024, 7, 10, 10, 26, 32, 268323, tzinfo=datetime.timezone(datetime.timedelta(seconds=7200)))), updated_at=DateTime(value=datetime.datetime(2024, 7, 10, 10, 26, 32, 268323, tzinfo=datetime.timezone(datetime.timedelta(seconds=7200))))),\n",
       "  [<Privilege.VIEW_PROJECT: 'view_project'>,\n",
       "   <Privilege.EDIT_PROJECT: 'edit_project'>,\n",
       "   <Privilege.MANAGE_PROJECT: 'manage_project'>,\n",
       "   <Privilege.FULL_ACCESS: 'full_access'>]),\n",
       " (ProjectSummary(project_id=ProjectId(value='0823623b-6fc4-40ca-b851-6eb076670f5c'), project_name=Name(value='Test'), project_description=Description(value=''), project_tags=Tags(value=[]), owner_id=UserId(value='2e7a05ff-90f9-49a0-8d1a-fc28d8f64174'), visibility=<Visibility.PRIVATE: 'private'>, created_at=DateTime(value=datetime.datetime(2024, 7, 15, 13, 14, 17, 536861, tzinfo=datetime.timezone(datetime.timedelta(seconds=7200)))), updated_at=DateTime(value=datetime.datetime(2024, 7, 15, 13, 14, 17, 536861, tzinfo=datetime.timezone(datetime.timedelta(seconds=7200))))),\n",
       "  [<Privilege.VIEW_PROJECT: 'view_project'>,\n",
       "   <Privilege.EDIT_PROJECT: 'edit_project'>,\n",
       "   <Privilege.MANAGE_PROJECT: 'manage_project'>,\n",
       "   <Privilege.FULL_ACCESS: 'full_access'>]),\n",
       " (ProjectSummary(project_id=ProjectId(value='2a8caac3-1c25-4133-a7a5-91a9a1922acd'), project_name=Name(value='Project 0'), project_description=Description(value='Description 0'), project_tags=Tags(value=['tag0', 'tag1']), owner_id=UserId(value='7ae063d5-1769-49bb-8c44-a06ba47e897d'), visibility=<Visibility.PRIVATE: 'private'>, created_at=DateTime(value=datetime.datetime(2024, 8, 19, 11, 40, 7, 566448, tzinfo=datetime.timezone(datetime.timedelta(seconds=7200)))), updated_at=DateTime(value=datetime.datetime(2024, 8, 19, 11, 40, 7, 566448, tzinfo=datetime.timezone(datetime.timedelta(seconds=7200))))),\n",
       "  [<Privilege.VIEW_PROJECT: 'view_project'>,\n",
       "   <Privilege.EDIT_PROJECT: 'edit_project'>,\n",
       "   <Privilege.MANAGE_PROJECT: 'manage_project'>,\n",
       "   <Privilege.FULL_ACCESS: 'full_access'>]),\n",
       " (ProjectSummary(project_id=ProjectId(value='2aff8082-06bd-4f2b-a73a-e79dec3de6ef'), project_name=Name(value='Project 1'), project_description=Description(value='Description 1'), project_tags=Tags(value=['tag1', 'tag2']), owner_id=UserId(value='3a8ea0f1-1398-46f7-9a60-7c160a8bfb21'), visibility=<Visibility.PRIVATE: 'private'>, created_at=DateTime(value=datetime.datetime(2024, 8, 19, 11, 40, 7, 587290, tzinfo=datetime.timezone(datetime.timedelta(seconds=7200)))), updated_at=DateTime(value=datetime.datetime(2024, 8, 19, 11, 40, 7, 587290, tzinfo=datetime.timezone(datetime.timedelta(seconds=7200))))),\n",
       "  [<Privilege.VIEW_PROJECT: 'view_project'>,\n",
       "   <Privilege.EDIT_PROJECT: 'edit_project'>,\n",
       "   <Privilege.MANAGE_PROJECT: 'manage_project'>,\n",
       "   <Privilege.FULL_ACCESS: 'full_access'>]),\n",
       " (ProjectSummary(project_id=ProjectId(value='bb828686-eca0-49ab-aa16-e10141b80265'), project_name=Name(value='Project 2'), project_description=Description(value='Description 2'), project_tags=Tags(value=['tag2', 'tag3']), owner_id=UserId(value='8c6f503a-6005-4dfe-b867-d5a4808382bf'), visibility=<Visibility.PRIVATE: 'private'>, created_at=DateTime(value=datetime.datetime(2024, 8, 19, 11, 40, 7, 589498, tzinfo=datetime.timezone(datetime.timedelta(seconds=7200)))), updated_at=DateTime(value=datetime.datetime(2024, 8, 19, 11, 40, 7, 589498, tzinfo=datetime.timezone(datetime.timedelta(seconds=7200))))),\n",
       "  [<Privilege.VIEW_PROJECT: 'view_project'>,\n",
       "   <Privilege.EDIT_PROJECT: 'edit_project'>,\n",
       "   <Privilege.MANAGE_PROJECT: 'manage_project'>,\n",
       "   <Privilege.FULL_ACCESS: 'full_access'>]),\n",
       " (ProjectSummary(project_id=ProjectId(value='3fdc6d0b-eaff-4f47-9661-502d16b0bd69'), project_name=Name(value='Project 3'), project_description=Description(value='Description 3'), project_tags=Tags(value=['tag3', 'tag4']), owner_id=UserId(value='ebb8349e-8b6a-48e3-bd7d-b7235ccc6603'), visibility=<Visibility.PRIVATE: 'private'>, created_at=DateTime(value=datetime.datetime(2024, 8, 19, 11, 40, 7, 591553, tzinfo=datetime.timezone(datetime.timedelta(seconds=7200)))), updated_at=DateTime(value=datetime.datetime(2024, 8, 19, 11, 40, 7, 591553, tzinfo=datetime.timezone(datetime.timedelta(seconds=7200))))),\n",
       "  [<Privilege.VIEW_PROJECT: 'view_project'>,\n",
       "   <Privilege.EDIT_PROJECT: 'edit_project'>,\n",
       "   <Privilege.MANAGE_PROJECT: 'manage_project'>,\n",
       "   <Privilege.FULL_ACCESS: 'full_access'>]),\n",
       " (ProjectSummary(project_id=ProjectId(value='d4969478-8794-4f8b-94a2-a7665dbb2de1'), project_name=Name(value='Project 4'), project_description=Description(value='Description 4'), project_tags=Tags(value=['tag4', 'tag5']), owner_id=UserId(value='5f7dbcf1-ef7d-49dd-8351-5c3774701570'), visibility=<Visibility.PRIVATE: 'private'>, created_at=DateTime(value=datetime.datetime(2024, 8, 19, 11, 40, 7, 593618, tzinfo=datetime.timezone(datetime.timedelta(seconds=7200)))), updated_at=DateTime(value=datetime.datetime(2024, 8, 19, 11, 40, 7, 593618, tzinfo=datetime.timezone(datetime.timedelta(seconds=7200))))),\n",
       "  [<Privilege.VIEW_PROJECT: 'view_project'>,\n",
       "   <Privilege.EDIT_PROJECT: 'edit_project'>,\n",
       "   <Privilege.MANAGE_PROJECT: 'manage_project'>,\n",
       "   <Privilege.FULL_ACCESS: 'full_access'>]),\n",
       " (ProjectSummary(project_id=ProjectId(value='802728d2-26c6-493e-a676-5da1c475a6b7'), project_name=Name(value='Project 5'), project_description=Description(value='Description 5'), project_tags=Tags(value=['tag5', 'tag6']), owner_id=UserId(value='7e942a9c-d7a8-4ed6-ba01-4c220550cf76'), visibility=<Visibility.PRIVATE: 'private'>, created_at=DateTime(value=datetime.datetime(2024, 8, 19, 11, 40, 7, 595619, tzinfo=datetime.timezone(datetime.timedelta(seconds=7200)))), updated_at=DateTime(value=datetime.datetime(2024, 8, 19, 11, 40, 7, 595619, tzinfo=datetime.timezone(datetime.timedelta(seconds=7200))))),\n",
       "  [<Privilege.VIEW_PROJECT: 'view_project'>,\n",
       "   <Privilege.EDIT_PROJECT: 'edit_project'>,\n",
       "   <Privilege.MANAGE_PROJECT: 'manage_project'>,\n",
       "   <Privilege.FULL_ACCESS: 'full_access'>]),\n",
       " (ProjectSummary(project_id=ProjectId(value='a301367f-aca5-4bb3-9517-d873082279d9'), project_name=Name(value='Project 6'), project_description=Description(value='Description 6'), project_tags=Tags(value=['tag6', 'tag7']), owner_id=UserId(value='e7a429a8-ee2a-4fe7-b552-7fdb768d26b8'), visibility=<Visibility.PRIVATE: 'private'>, created_at=DateTime(value=datetime.datetime(2024, 8, 19, 11, 40, 7, 597472, tzinfo=datetime.timezone(datetime.timedelta(seconds=7200)))), updated_at=DateTime(value=datetime.datetime(2024, 8, 19, 11, 40, 7, 597472, tzinfo=datetime.timezone(datetime.timedelta(seconds=7200))))),\n",
       "  [<Privilege.VIEW_PROJECT: 'view_project'>,\n",
       "   <Privilege.EDIT_PROJECT: 'edit_project'>,\n",
       "   <Privilege.MANAGE_PROJECT: 'manage_project'>,\n",
       "   <Privilege.FULL_ACCESS: 'full_access'>]),\n",
       " (ProjectSummary(project_id=ProjectId(value='bd8e9ef9-443f-4281-8e36-79ee31317c2d'), project_name=Name(value='Project 7'), project_description=Description(value='Description 7'), project_tags=Tags(value=['tag7', 'tag8']), owner_id=UserId(value='1cda36d5-c1bc-40ec-aae5-c1f81c2d70a2'), visibility=<Visibility.PRIVATE: 'private'>, created_at=DateTime(value=datetime.datetime(2024, 8, 19, 11, 40, 7, 599804, tzinfo=datetime.timezone(datetime.timedelta(seconds=7200)))), updated_at=DateTime(value=datetime.datetime(2024, 8, 19, 11, 40, 7, 599804, tzinfo=datetime.timezone(datetime.timedelta(seconds=7200))))),\n",
       "  [<Privilege.VIEW_PROJECT: 'view_project'>,\n",
       "   <Privilege.EDIT_PROJECT: 'edit_project'>,\n",
       "   <Privilege.MANAGE_PROJECT: 'manage_project'>,\n",
       "   <Privilege.FULL_ACCESS: 'full_access'>]),\n",
       " (ProjectSummary(project_id=ProjectId(value='2795b484-e8fd-44a3-ab0e-4aa27dc7f803'), project_name=Name(value='Project 8'), project_description=Description(value='Description 8'), project_tags=Tags(value=['tag8', 'tag9']), owner_id=UserId(value='39260b30-fe5d-49bf-a3a6-203813ae17d5'), visibility=<Visibility.PRIVATE: 'private'>, created_at=DateTime(value=datetime.datetime(2024, 8, 19, 11, 40, 7, 602123, tzinfo=datetime.timezone(datetime.timedelta(seconds=7200)))), updated_at=DateTime(value=datetime.datetime(2024, 8, 19, 11, 40, 7, 602123, tzinfo=datetime.timezone(datetime.timedelta(seconds=7200))))),\n",
       "  [<Privilege.VIEW_PROJECT: 'view_project'>,\n",
       "   <Privilege.EDIT_PROJECT: 'edit_project'>,\n",
       "   <Privilege.MANAGE_PROJECT: 'manage_project'>,\n",
       "   <Privilege.FULL_ACCESS: 'full_access'>]),\n",
       " (ProjectSummary(project_id=ProjectId(value='9c3ec8ca-8871-499e-8403-b430784ca0dd'), project_name=Name(value='Project 9'), project_description=Description(value='Description 9'), project_tags=Tags(value=['tag9', 'tag10']), owner_id=UserId(value='2e86bc84-7bcb-4332-9712-ff76e597baba'), visibility=<Visibility.PRIVATE: 'private'>, created_at=DateTime(value=datetime.datetime(2024, 8, 19, 11, 40, 7, 604680, tzinfo=datetime.timezone(datetime.timedelta(seconds=7200)))), updated_at=DateTime(value=datetime.datetime(2024, 8, 19, 11, 40, 7, 604680, tzinfo=datetime.timezone(datetime.timedelta(seconds=7200))))),\n",
       "  [<Privilege.VIEW_PROJECT: 'view_project'>,\n",
       "   <Privilege.EDIT_PROJECT: 'edit_project'>,\n",
       "   <Privilege.MANAGE_PROJECT: 'manage_project'>,\n",
       "   <Privilege.FULL_ACCESS: 'full_access'>]),\n",
       " (ProjectSummary(project_id=ProjectId(value='28a73512-389c-44ca-9b56-f0350a77e273'), project_name=Name(value='Project 1'), project_description=Description(value='Description 1'), project_tags=Tags(value=['tag1', 'tag2']), owner_id=UserId(value='710ddd79-47d7-4477-b3f7-be20f326fa28'), visibility=<Visibility.PRIVATE: 'private'>, created_at=DateTime(value=datetime.datetime(2024, 8, 19, 11, 40, 25, 610977, tzinfo=datetime.timezone(datetime.timedelta(seconds=7200)))), updated_at=DateTime(value=datetime.datetime(2024, 8, 19, 11, 40, 25, 610977, tzinfo=datetime.timezone(datetime.timedelta(seconds=7200))))),\n",
       "  [<Privilege.VIEW_PROJECT: 'view_project'>,\n",
       "   <Privilege.EDIT_PROJECT: 'edit_project'>,\n",
       "   <Privilege.MANAGE_PROJECT: 'manage_project'>,\n",
       "   <Privilege.FULL_ACCESS: 'full_access'>]),\n",
       " (ProjectSummary(project_id=ProjectId(value='aa1645b6-780a-4948-bd18-87d1343f4f7a'), project_name=Name(value='Project 1'), project_description=Description(value='Description 1'), project_tags=Tags(value=['tag1', 'tag2']), owner_id=UserId(value='396b5cc8-93e0-47cf-bfe8-3238bc60992b'), visibility=<Visibility.PRIVATE: 'private'>, created_at=DateTime(value=datetime.datetime(2024, 8, 19, 11, 42, 14, 559930, tzinfo=datetime.timezone(datetime.timedelta(seconds=7200)))), updated_at=DateTime(value=datetime.datetime(2024, 8, 19, 11, 42, 14, 559930, tzinfo=datetime.timezone(datetime.timedelta(seconds=7200))))),\n",
       "  [<Privilege.VIEW_PROJECT: 'view_project'>,\n",
       "   <Privilege.EDIT_PROJECT: 'edit_project'>,\n",
       "   <Privilege.MANAGE_PROJECT: 'manage_project'>,\n",
       "   <Privilege.FULL_ACCESS: 'full_access'>]),\n",
       " (ProjectSummary(project_id=ProjectId(value='4c190e2a-effb-4103-859c-cc1a964e9dc4'), project_name=Name(value='Project 1'), project_description=Description(value='Description 1'), project_tags=Tags(value=['tag1', 'tag2']), owner_id=UserId(value='78a61eaa-0943-4187-9f71-2ab9dac542a5'), visibility=<Visibility.PRIVATE: 'private'>, created_at=DateTime(value=datetime.datetime(2024, 8, 19, 11, 42, 39, 534760, tzinfo=datetime.timezone(datetime.timedelta(seconds=7200)))), updated_at=DateTime(value=datetime.datetime(2024, 8, 19, 11, 42, 39, 534760, tzinfo=datetime.timezone(datetime.timedelta(seconds=7200))))),\n",
       "  [<Privilege.VIEW_PROJECT: 'view_project'>,\n",
       "   <Privilege.EDIT_PROJECT: 'edit_project'>,\n",
       "   <Privilege.MANAGE_PROJECT: 'manage_project'>,\n",
       "   <Privilege.FULL_ACCESS: 'full_access'>]),\n",
       " (ProjectSummary(project_id=ProjectId(value='9334b31f-3c71-4dfe-b3d3-2600ff110f3b'), project_name=Name(value='Rio Primero 123'), project_description=Description(value='Rio Primero Project in Argentina'), project_tags=Tags(value=['rio primero', 'argentina']), owner_id=UserId(value='3f8471e0-4f02-4e09-b1da-694fe232dea2'), visibility=<Visibility.PRIVATE: 'private'>, created_at=DateTime(value=datetime.datetime(2024, 8, 19, 12, 6, 38, 340174, tzinfo=datetime.timezone(datetime.timedelta(seconds=7200)))), updated_at=DateTime(value=datetime.datetime(2024, 8, 19, 12, 6, 38, 340174, tzinfo=datetime.timezone(datetime.timedelta(seconds=7200))))),\n",
       "  [<Privilege.VIEW_PROJECT: 'view_project'>,\n",
       "   <Privilege.EDIT_PROJECT: 'edit_project'>,\n",
       "   <Privilege.MANAGE_PROJECT: 'manage_project'>,\n",
       "   <Privilege.FULL_ACCESS: 'full_access'>]),\n",
       " (ProjectSummary(project_id=ProjectId(value='d91e2e77-a95f-4192-9d89-dcec7642f9c4'), project_name=Name(value='Rio Primero 123'), project_description=Description(value='Rio Primero Project in Argentina'), project_tags=Tags(value=['rio primero', 'argentina']), owner_id=UserId(value='3e1adbbb-d786-407f-b161-3b5536374a7e'), visibility=<Visibility.PRIVATE: 'private'>, created_at=DateTime(value=datetime.datetime(2024, 8, 19, 12, 23, 27, 870326, tzinfo=datetime.timezone(datetime.timedelta(seconds=7200)))), updated_at=DateTime(value=datetime.datetime(2024, 8, 19, 12, 23, 27, 870326, tzinfo=datetime.timezone(datetime.timedelta(seconds=7200))))),\n",
       "  [<Privilege.VIEW_PROJECT: 'view_project'>,\n",
       "   <Privilege.EDIT_PROJECT: 'edit_project'>,\n",
       "   <Privilege.MANAGE_PROJECT: 'manage_project'>,\n",
       "   <Privilege.FULL_ACCESS: 'full_access'>]),\n",
       " (ProjectSummary(project_id=ProjectId(value='891307a5-0027-4f03-8190-8b994eba1cdb'), project_name=Name(value='Project 0'), project_description=Description(value='Description 0'), project_tags=Tags(value=['tag0', 'tag1']), owner_id=UserId(value='9aacbea6-aaed-4672-9a01-e1ae73659d9a'), visibility=<Visibility.PRIVATE: 'private'>, created_at=DateTime(value=datetime.datetime(2024, 8, 19, 12, 24, 10, 148493, tzinfo=datetime.timezone(datetime.timedelta(seconds=7200)))), updated_at=DateTime(value=datetime.datetime(2024, 8, 19, 12, 24, 10, 148493, tzinfo=datetime.timezone(datetime.timedelta(seconds=7200))))),\n",
       "  [<Privilege.VIEW_PROJECT: 'view_project'>,\n",
       "   <Privilege.EDIT_PROJECT: 'edit_project'>,\n",
       "   <Privilege.MANAGE_PROJECT: 'manage_project'>,\n",
       "   <Privilege.FULL_ACCESS: 'full_access'>]),\n",
       " (ProjectSummary(project_id=ProjectId(value='42b4ed73-9e03-41c6-89e4-6b0ac0c42339'), project_name=Name(value='Project 1'), project_description=Description(value='Description 1'), project_tags=Tags(value=['tag1', 'tag2']), owner_id=UserId(value='77eb0cff-e79a-413d-a59b-01b5d086e57d'), visibility=<Visibility.PRIVATE: 'private'>, created_at=DateTime(value=datetime.datetime(2024, 8, 19, 12, 24, 10, 153813, tzinfo=datetime.timezone(datetime.timedelta(seconds=7200)))), updated_at=DateTime(value=datetime.datetime(2024, 8, 19, 12, 24, 10, 153813, tzinfo=datetime.timezone(datetime.timedelta(seconds=7200))))),\n",
       "  [<Privilege.VIEW_PROJECT: 'view_project'>,\n",
       "   <Privilege.EDIT_PROJECT: 'edit_project'>,\n",
       "   <Privilege.MANAGE_PROJECT: 'manage_project'>,\n",
       "   <Privilege.FULL_ACCESS: 'full_access'>]),\n",
       " (ProjectSummary(project_id=ProjectId(value='77116b03-e53e-4e89-91fe-45c263c94f0c'), project_name=Name(value='Project 2'), project_description=Description(value='Description 2'), project_tags=Tags(value=['tag2', 'tag3']), owner_id=UserId(value='ee3005ac-a3c8-4838-8f3e-063f3a477947'), visibility=<Visibility.PRIVATE: 'private'>, created_at=DateTime(value=datetime.datetime(2024, 8, 19, 12, 24, 10, 156249, tzinfo=datetime.timezone(datetime.timedelta(seconds=7200)))), updated_at=DateTime(value=datetime.datetime(2024, 8, 19, 12, 24, 10, 156249, tzinfo=datetime.timezone(datetime.timedelta(seconds=7200))))),\n",
       "  [<Privilege.VIEW_PROJECT: 'view_project'>,\n",
       "   <Privilege.EDIT_PROJECT: 'edit_project'>,\n",
       "   <Privilege.MANAGE_PROJECT: 'manage_project'>,\n",
       "   <Privilege.FULL_ACCESS: 'full_access'>]),\n",
       " (ProjectSummary(project_id=ProjectId(value='fe24050f-c015-4ec1-85b9-f345595609f6'), project_name=Name(value='Project 3'), project_description=Description(value='Description 3'), project_tags=Tags(value=['tag3', 'tag4']), owner_id=UserId(value='e5c4dada-622f-4981-b8af-1e5e5ed9b8bd'), visibility=<Visibility.PRIVATE: 'private'>, created_at=DateTime(value=datetime.datetime(2024, 8, 19, 12, 24, 10, 158539, tzinfo=datetime.timezone(datetime.timedelta(seconds=7200)))), updated_at=DateTime(value=datetime.datetime(2024, 8, 19, 12, 24, 10, 158539, tzinfo=datetime.timezone(datetime.timedelta(seconds=7200))))),\n",
       "  [<Privilege.VIEW_PROJECT: 'view_project'>,\n",
       "   <Privilege.EDIT_PROJECT: 'edit_project'>,\n",
       "   <Privilege.MANAGE_PROJECT: 'manage_project'>,\n",
       "   <Privilege.FULL_ACCESS: 'full_access'>]),\n",
       " (ProjectSummary(project_id=ProjectId(value='0bdd860d-7437-4767-b864-12fc35e1b2db'), project_name=Name(value='Project 4'), project_description=Description(value='Description 4'), project_tags=Tags(value=['tag4', 'tag5']), owner_id=UserId(value='9d2ab99f-91d2-49fe-90ce-e97b05da8e93'), visibility=<Visibility.PRIVATE: 'private'>, created_at=DateTime(value=datetime.datetime(2024, 8, 19, 12, 24, 10, 160917, tzinfo=datetime.timezone(datetime.timedelta(seconds=7200)))), updated_at=DateTime(value=datetime.datetime(2024, 8, 19, 12, 24, 10, 160917, tzinfo=datetime.timezone(datetime.timedelta(seconds=7200))))),\n",
       "  [<Privilege.VIEW_PROJECT: 'view_project'>,\n",
       "   <Privilege.EDIT_PROJECT: 'edit_project'>,\n",
       "   <Privilege.MANAGE_PROJECT: 'manage_project'>,\n",
       "   <Privilege.FULL_ACCESS: 'full_access'>]),\n",
       " (ProjectSummary(project_id=ProjectId(value='7b40ac54-18ad-4ec2-bc60-26ef28c77f81'), project_name=Name(value='Project 5'), project_description=Description(value='Description 5'), project_tags=Tags(value=['tag5', 'tag6']), owner_id=UserId(value='bbaf9d33-ac06-4484-ae12-8c859f602dcd'), visibility=<Visibility.PRIVATE: 'private'>, created_at=DateTime(value=datetime.datetime(2024, 8, 19, 12, 24, 10, 163455, tzinfo=datetime.timezone(datetime.timedelta(seconds=7200)))), updated_at=DateTime(value=datetime.datetime(2024, 8, 19, 12, 24, 10, 163455, tzinfo=datetime.timezone(datetime.timedelta(seconds=7200))))),\n",
       "  [<Privilege.VIEW_PROJECT: 'view_project'>,\n",
       "   <Privilege.EDIT_PROJECT: 'edit_project'>,\n",
       "   <Privilege.MANAGE_PROJECT: 'manage_project'>,\n",
       "   <Privilege.FULL_ACCESS: 'full_access'>]),\n",
       " (ProjectSummary(project_id=ProjectId(value='c9853104-637c-4e4e-81b7-057e2c53f0ca'), project_name=Name(value='Project 6'), project_description=Description(value='Description 6'), project_tags=Tags(value=['tag6', 'tag7']), owner_id=UserId(value='b3d35114-bdb5-4a6e-8a33-127252a72032'), visibility=<Visibility.PRIVATE: 'private'>, created_at=DateTime(value=datetime.datetime(2024, 8, 19, 12, 24, 10, 166126, tzinfo=datetime.timezone(datetime.timedelta(seconds=7200)))), updated_at=DateTime(value=datetime.datetime(2024, 8, 19, 12, 24, 10, 166126, tzinfo=datetime.timezone(datetime.timedelta(seconds=7200))))),\n",
       "  [<Privilege.VIEW_PROJECT: 'view_project'>,\n",
       "   <Privilege.EDIT_PROJECT: 'edit_project'>,\n",
       "   <Privilege.MANAGE_PROJECT: 'manage_project'>,\n",
       "   <Privilege.FULL_ACCESS: 'full_access'>]),\n",
       " (ProjectSummary(project_id=ProjectId(value='13a3fff6-c833-4156-bc4e-24cdb5eb492a'), project_name=Name(value='Project 7'), project_description=Description(value='Description 7'), project_tags=Tags(value=['tag7', 'tag8']), owner_id=UserId(value='751ab2a6-09eb-447e-8a88-41dfbaa3ef73'), visibility=<Visibility.PRIVATE: 'private'>, created_at=DateTime(value=datetime.datetime(2024, 8, 19, 12, 24, 10, 168802, tzinfo=datetime.timezone(datetime.timedelta(seconds=7200)))), updated_at=DateTime(value=datetime.datetime(2024, 8, 19, 12, 24, 10, 168802, tzinfo=datetime.timezone(datetime.timedelta(seconds=7200))))),\n",
       "  [<Privilege.VIEW_PROJECT: 'view_project'>,\n",
       "   <Privilege.EDIT_PROJECT: 'edit_project'>,\n",
       "   <Privilege.MANAGE_PROJECT: 'manage_project'>,\n",
       "   <Privilege.FULL_ACCESS: 'full_access'>]),\n",
       " (ProjectSummary(project_id=ProjectId(value='e405ddb5-3268-4b1f-9dfa-cc15578879d6'), project_name=Name(value='Project 8'), project_description=Description(value='Description 8'), project_tags=Tags(value=['tag8', 'tag9']), owner_id=UserId(value='0d281a80-bb6b-4998-8dd4-d84391a1c5bc'), visibility=<Visibility.PRIVATE: 'private'>, created_at=DateTime(value=datetime.datetime(2024, 8, 19, 12, 24, 10, 171479, tzinfo=datetime.timezone(datetime.timedelta(seconds=7200)))), updated_at=DateTime(value=datetime.datetime(2024, 8, 19, 12, 24, 10, 171479, tzinfo=datetime.timezone(datetime.timedelta(seconds=7200))))),\n",
       "  [<Privilege.VIEW_PROJECT: 'view_project'>,\n",
       "   <Privilege.EDIT_PROJECT: 'edit_project'>,\n",
       "   <Privilege.MANAGE_PROJECT: 'manage_project'>,\n",
       "   <Privilege.FULL_ACCESS: 'full_access'>]),\n",
       " (ProjectSummary(project_id=ProjectId(value='7be6f81f-c94f-424d-81e2-6aa3e5dfac72'), project_name=Name(value='Project 9'), project_description=Description(value='Description 9'), project_tags=Tags(value=['tag9', 'tag10']), owner_id=UserId(value='facee9bc-2e01-458b-897e-c8d4fcb648ce'), visibility=<Visibility.PRIVATE: 'private'>, created_at=DateTime(value=datetime.datetime(2024, 8, 19, 12, 24, 10, 174082, tzinfo=datetime.timezone(datetime.timedelta(seconds=7200)))), updated_at=DateTime(value=datetime.datetime(2024, 8, 19, 12, 24, 10, 174082, tzinfo=datetime.timezone(datetime.timedelta(seconds=7200))))),\n",
       "  [<Privilege.VIEW_PROJECT: 'view_project'>,\n",
       "   <Privilege.EDIT_PROJECT: 'edit_project'>,\n",
       "   <Privilege.MANAGE_PROJECT: 'manage_project'>,\n",
       "   <Privilege.FULL_ACCESS: 'full_access'>]),\n",
       " (ProjectSummary(project_id=ProjectId(value='e62e5ad3-70d8-44a0-9e6e-000db17a7e14'), project_name=Name(value='Project 1'), project_description=Description(value='Description 1'), project_tags=Tags(value=['tag1', 'tag2']), owner_id=UserId(value='1f5311c8-9b29-49e9-bbc9-3d74b39d8c7a'), visibility=<Visibility.PRIVATE: 'private'>, created_at=DateTime(value=datetime.datetime(2024, 8, 19, 12, 24, 25, 25677)), updated_at=DateTime(value=datetime.datetime(2024, 8, 19, 12, 24, 25, 25677))),\n",
       "  [<Privilege.VIEW_PROJECT: 'view_project'>,\n",
       "   <Privilege.EDIT_PROJECT: 'edit_project'>,\n",
       "   <Privilege.MANAGE_PROJECT: 'manage_project'>,\n",
       "   <Privilege.FULL_ACCESS: 'full_access'>]),\n",
       " (ProjectSummary(project_id=ProjectId(value='3ba47adc-f66f-4fe4-bdf3-90499e3c52e5'), project_name=Name(value='Project 1'), project_description=Description(value='Description 1'), project_tags=Tags(value=['tag1', 'tag2']), owner_id=UserId(value='b00d0816-1ea2-4929-ab69-153eb9c70d9a'), visibility=<Visibility.PRIVATE: 'private'>, created_at=DateTime(value=datetime.datetime(2024, 8, 19, 13, 8, 13, 364965)), updated_at=DateTime(value=datetime.datetime(2024, 8, 19, 13, 8, 13, 364965))),\n",
       "  [<Privilege.VIEW_PROJECT: 'view_project'>,\n",
       "   <Privilege.EDIT_PROJECT: 'edit_project'>,\n",
       "   <Privilege.MANAGE_PROJECT: 'manage_project'>,\n",
       "   <Privilege.FULL_ACCESS: 'full_access'>]),\n",
       " (ProjectSummary(project_id=ProjectId(value='871f2cd1-f0e4-434c-b553-745161b75e7d'), project_name=Name(value='Project 1'), project_description=Description(value='Description 1'), project_tags=Tags(value=['tag1', 'tag2']), owner_id=UserId(value='47949c3a-1f18-48e1-8fe6-43553752d863'), visibility=<Visibility.PRIVATE: 'private'>, created_at=DateTime(value=datetime.datetime(2024, 8, 19, 13, 9, 24, 611092)), updated_at=DateTime(value=datetime.datetime(2024, 8, 19, 13, 9, 24, 611092))),\n",
       "  [<Privilege.VIEW_PROJECT: 'view_project'>,\n",
       "   <Privilege.EDIT_PROJECT: 'edit_project'>,\n",
       "   <Privilege.MANAGE_PROJECT: 'manage_project'>,\n",
       "   <Privilege.FULL_ACCESS: 'full_access'>])]"
      ]
     },
     "execution_count": 3,
     "metadata": {},
     "output_type": "execute_result"
    }
   ],
   "execution_count": 3
  },
  {
   "cell_type": "markdown",
   "id": "22380477da429c5d",
   "metadata": {
    "collapsed": false,
    "papermill": {
     "duration": 0.00251,
     "end_time": "2024-08-19T10:24:25.061014",
     "exception": false,
     "start_time": "2024-08-19T10:24:25.058504",
     "status": "completed"
    },
    "tags": []
   },
   "source": [
    "# Create model"
   ]
  },
  {
   "cell_type": "code",
   "id": "7db50a89dc6391e5",
   "metadata": {
    "collapsed": false,
    "execution": {
     "iopub.execute_input": "2024-08-19T10:24:25.066423Z",
     "iopub.status.busy": "2024-08-19T10:24:25.066315Z",
     "iopub.status.idle": "2024-08-19T10:24:25.117192Z",
     "shell.execute_reply": "2024-08-19T10:24:25.116896Z"
    },
    "papermill": {
     "duration": 0.054637,
     "end_time": "2024-08-19T10:24:25.118090",
     "exception": false,
     "start_time": "2024-08-19T10:24:25.063453",
     "status": "completed"
    },
    "tags": [],
    "ExecuteTime": {
     "end_time": "2024-08-19T11:09:24.802157Z",
     "start_time": "2024-08-19T11:09:24.654518Z"
    }
   },
   "source": [
    "from morpheus.project.application.write.Model.General import CreateModelCommand\n",
    "from morpheus.project.types.discretization.spatial import Rotation\n",
    "from morpheus.project.types.geometry import Polygon\n",
    "from morpheus.project.types.Model import ModelId\n",
    "\n",
    "polygon = Polygon(\n",
    "  type='Polygon',\n",
    "  coordinates=[[\n",
    "    (13.922514437551428, 50.964720483303836),\n",
    "    (13.925250781947113, 50.965228748412386),\n",
    "    (13.925036413951403, 50.96623732041704),\n",
    "    (13.92222441026388, 50.96629040370362),\n",
    "    (13.922514437551428, 50.964720483303836)\n",
    "  ]]\n",
    ")\n",
    "\n",
    "n_cols = 100\n",
    "n_rows = 50\n",
    "rotation = 0.0\n",
    "\n",
    "command = CreateModelCommand(\n",
    "  project_id=project_id,\n",
    "  user_id=user_id,\n",
    "  model_id=ModelId.new(),\n",
    "  geometry=polygon,\n",
    "  n_cols=n_cols,\n",
    "  n_rows=n_rows,\n",
    "  rotation=Rotation.from_float(rotation),\n",
    ")\n",
    "\n",
    "project_command_bus.dispatch(command)"
   ],
   "outputs": [
    {
     "name": "stdout",
     "output_type": "stream",
     "text": [
      "[(0, 0)] [(27, 0)]\n",
      "[(0, 1)] [(82, 1)]\n",
      "[(0, 2)] [(93, 2)]\n",
      "[(0, 3)] [(93, 3)]\n",
      "[(0, 4)] [(93, 4)]\n",
      "[(1, 5)] [(93, 5)]\n",
      "[(1, 6)] [(93, 6)]\n",
      "[(1, 7)] [(94, 7)]\n",
      "[(1, 8)] [(94, 8)]\n",
      "[(1, 9)] [(94, 9)]\n",
      "[(2, 10)] [(94, 10)]\n",
      "[(2, 11)] [(95, 11)]\n",
      "[(2, 12)] [(95, 12)]\n",
      "[(2, 13)] [(95, 13)]\n",
      "[(2, 14)] [(95, 14)]\n",
      "[(2, 15)] [(95, 15)]\n",
      "[(3, 16)] [(96, 16)]\n",
      "[(3, 17)] [(96, 17)]\n",
      "[(3, 18)] [(96, 18)]\n",
      "[(3, 19)] [(96, 19)]\n",
      "[(3, 20)] [(97, 20)]\n",
      "[(4, 21)] [(97, 21)]\n",
      "[(4, 22)] [(97, 22)]\n",
      "[(4, 23)] [(97, 23)]\n",
      "[(4, 24)] [(97, 24)]\n",
      "[(4, 25)] [(98, 25)]\n",
      "[(5, 26)] [(98, 26)]\n",
      "[(5, 27)] [(98, 27)]\n",
      "[(5, 28)] [(98, 28)]\n",
      "[(5, 29)] [(99, 29)]\n",
      "[(5, 30)] [(99, 30)]\n",
      "[(6, 31)] [(99, 31)]\n",
      "[(6, 32)] [(99, 32)]\n",
      "[(6, 33)] [(99, 33)]\n",
      "[(6, 34)] [(96, 34)]\n",
      "[(6, 35)] [(90, 35)]\n",
      "[(6, 36)] [(84, 36)]\n",
      "[(7, 37)] [(79, 37)]\n",
      "[(7, 38)] [(73, 38)]\n",
      "[(7, 39)] [(68, 39)]\n",
      "[(7, 40)] [(62, 40)]\n",
      "[(7, 41)] [(57, 41)]\n",
      "[(8, 42)] [(51, 42)]\n",
      "[(8, 43)] [(45, 43)]\n",
      "[(8, 44)] [(40, 44)]\n",
      "[(8, 45)] [(34, 45)]\n",
      "[(8, 46)] [(29, 46)]\n",
      "[(9, 47)] [(23, 47)]\n",
      "[(9, 48)] [(17, 48)]\n",
      "[(9, 49)] [(12, 49)]\n"
     ]
    }
   ],
   "execution_count": 4
  },
  {
   "cell_type": "markdown",
   "id": "cde69ee770d30fc1",
   "metadata": {
    "collapsed": false,
    "papermill": {
     "duration": 0.003003,
     "end_time": "2024-08-19T10:24:25.124614",
     "exception": false,
     "start_time": "2024-08-19T10:24:25.121611",
     "status": "completed"
    },
    "tags": []
   },
   "source": [
    "# Read Latest Model"
   ]
  },
  {
   "cell_type": "code",
   "id": "d2717a59e00a53d1",
   "metadata": {
    "collapsed": false,
    "execution": {
     "iopub.execute_input": "2024-08-19T10:24:25.131130Z",
     "iopub.status.busy": "2024-08-19T10:24:25.130968Z",
     "iopub.status.idle": "2024-08-19T10:24:25.139056Z",
     "shell.execute_reply": "2024-08-19T10:24:25.138818Z"
    },
    "papermill": {
     "duration": 0.012382,
     "end_time": "2024-08-19T10:24:25.139828",
     "exception": false,
     "start_time": "2024-08-19T10:24:25.127446",
     "status": "completed"
    },
    "tags": [],
    "ExecuteTime": {
     "end_time": "2024-08-19T11:09:24.830367Z",
     "start_time": "2024-08-19T11:09:24.807787Z"
    }
   },
   "source": [
    "from morpheus.project.application.read.ModelReader import ModelReader\n",
    "\n",
    "model_reader = ModelReader()\n",
    "model = model_reader.get_latest_model(project_id)\n",
    "model"
   ],
   "outputs": [
    {
     "data": {
      "text/plain": [
       "Model(model_id=ModelId(value='8d393883-da97-47dc-a6f4-a9dd28777ec0'), spatial_discretization=SpatialDiscretization(geometry=Polygon(coordinates=[[[13.922514437551428, 50.964720483303836], [13.925250781947113, 50.965228748412386], [13.925036413951403, 50.96623732041704], [13.92222441026388, 50.96629040370362], [13.922514437551428, 50.964720483303836]]], type='Polygon'), grid=Grid(origin=Point(coordinates=[13.922224410263878, 50.9662904037036], type='Point'), col_widths=[3.3689415472885593, 3.3689415472885593, 3.3689415472885598, 3.368941547288559, 3.368941547288559, 3.3689415472885607, 3.3689415472885607, 3.368941547288557, 3.368941547288557, 3.3689415472885607, 3.368941547288564, 3.368941547288557, 3.368941547288557, 3.368941547288564, 3.368941547288557, 3.368941547288557, 3.368941547288564, 3.36894154728855, 3.368941547288564, 3.368941547288557, 3.368941547288557, 3.3689415472885713, 3.368941547288557, 3.368941547288557, 3.368941547288557, 3.368941547288557, 3.3689415472885713, 3.368941547288557, 3.368941547288543, 3.3689415472885713, 3.368941547288557, 3.368941547288557, 3.3689415472885713, 3.368941547288557, 3.368941547288543, 3.368941547288557, 3.3689415472885713, 3.368941547288557, 3.368941547288557, 3.368941547288557, 3.368941547288557, 3.368941547288557, 3.368941547288557, 3.3689415472885855, 3.368941547288557, 3.368941547288557, 3.3689415472885287, 3.3689415472885855, 3.368941547288557, 3.368941547288557, 3.368941547288557, 3.368941547288557, 3.3689415472885855, 3.368941547288557, 3.368941547288557, 3.368941547288557, 3.3689415472885287, 3.368941547288557, 3.368941547288557, 3.3689415472885855, 3.368941547288557, 3.368941547288557, 3.368941547288557, 3.368941547288557, 3.368941547288557, 3.3689415472885855, 3.368941547288557, 3.368941547288557, 3.3689415472885287, 3.368941547288557, 3.368941547288557, 3.368941547288557, 3.3689415472885855, 3.368941547288557, 3.368941547288557, 3.368941547288557, 3.368941547288557, 3.368941547288557, 3.368941547288557, 3.368941547288557, 3.368941547288614, 3.3689415472885003, 3.368941547288557, 3.368941547288557, 3.368941547288557, 3.368941547288557, 3.368941547288557, 3.368941547288614, 3.368941547288557, 3.368941547288557, 3.368941547288557, 3.368941547288557, 3.368941547288557, 3.3689415472885003, 3.368941547288614, 3.368941547288557, 3.368941547288557, 3.368941547288557, 3.368941547288557, 3.368941547288557], total_width=336.89415472885594, row_heights=[5.549889713171869, 5.549889713171869, 5.54988971317187, 5.5498897131718685, 5.549889713171872, 5.5498897131718685, 5.549889713171872, 5.549889713171865, 5.549889713171865, 5.549889713171879, 5.549889713171865, 5.549889713171872, 5.549889713171865, 5.549889713171879, 5.549889713171865, 5.549889713171865, 5.549889713171879, 5.549889713171851, 5.549889713171879, 5.549889713171879, 5.549889713171851, 5.549889713171879, 5.549889713171879, 5.549889713171865, 5.549889713171865, 5.549889713171865, 5.549889713171893, 5.549889713171865, 5.5498897131718365, 5.549889713171893, 5.549889713171865, 5.549889713171865, 5.549889713171893, 5.549889713171865, 5.5498897131718365, 5.549889713171865, 5.549889713171893, 5.549889713171865, 5.549889713171893, 5.549889713171865, 5.5498897131718365, 5.549889713171865, 5.549889713171893, 5.549889713171865, 5.549889713171865, 5.549889713171893, 5.549889713171808, 5.549889713171922, 5.549889713171865, 5.549889713171865], total_height=277.4944856585935, rotation=Rotation(value=0.0), length_unit=LengthUnit(unit=2)), affected_cells=ActiveCells(shape=[50, 100], data=array([[ True,  True,  True, ..., False, False, False],\n",
       "       [ True,  True,  True, ..., False, False, False],\n",
       "       [ True,  True,  True, ..., False, False, False],\n",
       "       ...,\n",
       "       [False, False, False, ..., False, False, False],\n",
       "       [False, False, False, ..., False, False, False],\n",
       "       [False, False, False, ..., False, False, False]]))), time_discretization=TimeDiscretization(start_date_time=StartDateTime(value=datetime.datetime(2020, 1, 1, 0, 0, tzinfo=datetime.timezone.utc)), end_date_time=EndDateTime(value=datetime.datetime(2020, 1, 2, 0, 0, tzinfo=datetime.timezone.utc)), stress_periods=StressPeriodCollection(values=[StressPeriod(start_date_time=StartDateTime(value=datetime.datetime(2020, 1, 1, 0, 0, tzinfo=datetime.timezone.utc)), number_of_time_steps=NumberOfTimeSteps(value=1), time_step_multiplier=TimeStepMultiplier(value=1.0), steady_state=IsSteadyState(value=True))]), time_unit=TimeUnit(unit=4)), boundaries=BoundaryCollection(boundaries=[]), observations=ObservationCollection(observations=[]), layers=LayersCollection(layers=[Layer(layer_id=LayerId(value='fd3c0411-89ae-40c3-a6e6-b3ccb8e0428b'), name=LayerName(value='Default'), description=LayerDescription(value='Default'), confinement=LayerConfinement(type='confined'), properties=LayerProperties(hk=LayerPropertyValues(value=LayerPropertyDefaultValue(value=1.0), raster=None, zones=None), hani=LayerPropertyValues(value=LayerPropertyDefaultValue(value=1.0), raster=None, zones=None), vka=LayerPropertyValues(value=LayerPropertyDefaultValue(value=1.0), raster=None, zones=None), specific_storage=LayerPropertyValues(value=LayerPropertyDefaultValue(value=0.0001), raster=None, zones=None), specific_yield=LayerPropertyValues(value=LayerPropertyDefaultValue(value=0.1), raster=None, zones=None), initial_head=LayerPropertyValues(value=LayerPropertyDefaultValue(value=1.0), raster=None, zones=None), top=LayerPropertyValues(value=LayerPropertyDefaultValue(value=1.0), raster=None, zones=None), bottom=LayerPropertyValues(value=LayerPropertyDefaultValue(value=0.0), raster=None, zones=None)))]), transport=Transport(is_enabled=IsEnabled(value=False), substances=[]), variable_density=VariableDensityFlow(is_enabled=IsEnabled(value=False), viscosity_is_enabled=IsEnabled(value=False)))"
      ]
     },
     "execution_count": 5,
     "metadata": {},
     "output_type": "execute_result"
    }
   ],
   "execution_count": 5
  },
  {
   "cell_type": "markdown",
   "id": "572a7b334c101e6c",
   "metadata": {
    "collapsed": false,
    "papermill": {
     "duration": 0.002697,
     "end_time": "2024-08-19T10:24:25.145454",
     "exception": false,
     "start_time": "2024-08-19T10:24:25.142757",
     "status": "completed"
    },
    "tags": []
   },
   "source": [
    "## Update Model Geometry\n"
   ]
  },
  {
   "cell_type": "code",
   "id": "c38378d24fc310eb",
   "metadata": {
    "collapsed": false,
    "execution": {
     "iopub.execute_input": "2024-08-19T10:24:25.151314Z",
     "iopub.status.busy": "2024-08-19T10:24:25.151208Z",
     "iopub.status.idle": "2024-08-19T10:24:25.208690Z",
     "shell.execute_reply": "2024-08-19T10:24:25.208413Z"
    },
    "papermill": {
     "duration": 0.061445,
     "end_time": "2024-08-19T10:24:25.209607",
     "exception": false,
     "start_time": "2024-08-19T10:24:25.148162",
     "status": "completed"
    },
    "tags": [],
    "ExecuteTime": {
     "end_time": "2024-08-19T11:09:25.002740Z",
     "start_time": "2024-08-19T11:09:24.837167Z"
    }
   },
   "source": [
    "from morpheus.project.application.write.Model.Discretization import UpdateModelGeometryCommand\n",
    "\n",
    "new_polygon = Polygon(\n",
    "  type='Polygon',\n",
    "  coordinates=[[\n",
    "    (13.922, 50.965),\n",
    "    (13.925, 50.965),\n",
    "    (13.925, 50.966),\n",
    "    (13.922, 50.966),\n",
    "    (13.922, 50.965)\n",
    "  ]]\n",
    ")\n",
    "\n",
    "command = UpdateModelGeometryCommand(\n",
    "  project_id=project_id,\n",
    "  geometry=new_polygon,\n",
    "  user_id=user_id\n",
    ")\n",
    "\n",
    "project_command_bus.dispatch(command)\n",
    "\n",
    "model_reader = ModelReader()\n",
    "model = model_reader.get_latest_model(project_id)\n",
    "model.spatial_discretization.geometry"
   ],
   "outputs": [
    {
     "name": "stdout",
     "output_type": "stream",
     "text": [
      "[(0, 0)] [(99, 0)]\n",
      "[(0, 1)] [(99, 1)]\n",
      "[(0, 2)] [(99, 2)]\n",
      "[(0, 3)] [(99, 3)]\n",
      "[(0, 4)] [(99, 4)]\n",
      "[(0, 5)] [(99, 5)]\n",
      "[(0, 6)] [(99, 6)]\n",
      "[(0, 7)] [(99, 7)]\n",
      "[(0, 8)] [(99, 8)]\n",
      "[(0, 9)] [(99, 9)]\n",
      "[(0, 10)] [(99, 10)]\n",
      "[(0, 11)] [(99, 11)]\n",
      "[(0, 12)] [(99, 12)]\n",
      "[(0, 13)] [(99, 13)]\n",
      "[(0, 14)] [(99, 14)]\n",
      "[(0, 15)] [(99, 15)]\n",
      "[(0, 16)] [(99, 16)]\n",
      "[(0, 17)] [(99, 17)]\n",
      "[(0, 18)] [(99, 18)]\n",
      "[(0, 19)] [(99, 19)]\n",
      "[(0, 20)] [(99, 20)]\n",
      "[(0, 21)] [(99, 21)]\n",
      "[(0, 22)] [(99, 22)]\n",
      "[(0, 23)] [(99, 23)]\n",
      "[(0, 24)] [(99, 24)]\n",
      "[(0, 25)] [(99, 25)]\n",
      "[(0, 26)] [(99, 26)]\n",
      "[(0, 27)] [(99, 27)]\n",
      "[(0, 28)] [(99, 28)]\n",
      "[(0, 29)] [(99, 29)]\n",
      "[(0, 30)] [(99, 30)]\n",
      "[(0, 31)] [(99, 31)]\n",
      "[(0, 32)] [(99, 32)]\n",
      "[(0, 33)] [(99, 33)]\n",
      "[(0, 34)] [(99, 34)]\n",
      "[(0, 35)] [(99, 35)]\n",
      "[(0, 36)] [(99, 36)]\n",
      "[(0, 37)] [(99, 37)]\n",
      "[(0, 38)] [(99, 38)]\n",
      "[(0, 39)] [(99, 39)]\n",
      "[(0, 40)] [(99, 40)]\n",
      "[(0, 41)] [(99, 41)]\n",
      "[(0, 42)] [(99, 42)]\n",
      "[(0, 43)] [(99, 43)]\n",
      "[(0, 44)] [(99, 44)]\n",
      "[(0, 45)] [(99, 45)]\n",
      "[(0, 46)] [(99, 46)]\n",
      "[(0, 47)] [(99, 47)]\n",
      "[(0, 48)] [(99, 48)]\n",
      "[(0, 49)] [(99, 49)]\n"
     ]
    },
    {
     "data": {
      "text/plain": [
       "Polygon(coordinates=[[[13.922, 50.965], [13.925, 50.965], [13.925, 50.966], [13.922, 50.966], [13.922, 50.965]]], type='Polygon')"
      ]
     },
     "execution_count": 6,
     "metadata": {},
     "output_type": "execute_result"
    }
   ],
   "execution_count": 6
  },
  {
   "cell_type": "markdown",
   "id": "91c1beb811cc5003",
   "metadata": {
    "collapsed": false,
    "papermill": {
     "duration": 0.003043,
     "end_time": "2024-08-19T10:24:25.215959",
     "exception": false,
     "start_time": "2024-08-19T10:24:25.212916",
     "status": "completed"
    },
    "tags": []
   },
   "source": [
    "## Update Model Grid Properties"
   ]
  },
  {
   "cell_type": "code",
   "id": "3eeeb70e09d71fba",
   "metadata": {
    "collapsed": false,
    "execution": {
     "iopub.execute_input": "2024-08-19T10:24:25.222370Z",
     "iopub.status.busy": "2024-08-19T10:24:25.222167Z",
     "iopub.status.idle": "2024-08-19T10:24:25.245682Z",
     "shell.execute_reply": "2024-08-19T10:24:25.245403Z"
    },
    "papermill": {
     "duration": 0.02781,
     "end_time": "2024-08-19T10:24:25.246695",
     "exception": false,
     "start_time": "2024-08-19T10:24:25.218885",
     "status": "completed"
    },
    "tags": [],
    "ExecuteTime": {
     "end_time": "2024-08-19T11:09:25.078218Z",
     "start_time": "2024-08-19T11:09:25.005857Z"
    }
   },
   "source": [
    "\n",
    "from morpheus.project.application.write.Model.Discretization import UpdateModelGridCommand\n",
    "\n",
    "new_del_col_relative = [0, 0.1, 0.2, 0.3, 0.4, 0.5, 0.6, 0.7, 0.8, 0.9, 1]\n",
    "new_del_row_relative = [0, 0.2, 0.4, 0.6, 0.8, 1]\n",
    "\n",
    "command = UpdateModelGridCommand(\n",
    "  project_id=project_id,\n",
    "  user_id=user_id,\n",
    "  n_cols=len(new_del_col_relative),\n",
    "  n_rows=len(new_del_row_relative),\n",
    "  rotation=10,\n",
    ")\n",
    "\n",
    "project_command_bus.dispatch(command)\n",
    "\n",
    "model_reader = ModelReader()\n",
    "model = model_reader.get_latest_model(project_id)\n",
    "print(model.spatial_discretization.geometry)\n",
    "print(model.spatial_discretization.grid)\n",
    "print(model.spatial_discretization.affected_cells.to_dict())"
   ],
   "outputs": [
    {
     "name": "stdout",
     "output_type": "stream",
     "text": [
      "[(0, 0)] [(4, 0)]\n",
      "[(0, 1)] [(10, 1)]\n",
      "[(0, 2)] [(10, 2)]\n",
      "[(0, 3)] [(10, 3)]\n",
      "[(0, 4)] [(10, 4)]\n",
      "[(6, 5)] [(10, 5)]\n",
      "Polygon(coordinates=[[[13.922, 50.965], [13.925, 50.965], [13.925, 50.966], [13.922, 50.966], [13.922, 50.965]]], type='Polygon')\n",
      "Grid(origin=Point(coordinates=[13.921728464165456, 50.96596984662515], type='Point'), col_widths=[32.68894794320857, 32.68894794320857, 32.68894794320856, 32.688947943208575, 32.6889479432086, 32.68894794320852, 32.6889479432086, 32.68894794320855, 32.68894794320863, 32.688947943208575, 32.68894794320852], total_width=359.57842737529427, row_heights=[38.67716080928221, 38.67716080928221, 38.67716080928221, 38.67716080928221, 38.677160809282185, 38.67716080928224], total_height=232.06296485569328, rotation=Rotation(value=10), length_unit=LengthUnit(unit=2))\n",
      "{'type': 'raster', 'empty_value': False, 'shape': [6, 11], 'data': [[True, True, True, True, True, False, False, False, False, False, False], [True, True, True, True, True, True, True, True, True, True, True], [True, True, True, True, True, True, True, True, True, True, True], [True, True, True, True, True, True, True, True, True, True, True], [True, True, True, True, True, True, True, True, True, True, True], [False, False, False, False, False, False, True, True, True, True, True]]}\n"
     ]
    }
   ],
   "execution_count": 7
  },
  {
   "cell_type": "markdown",
   "id": "2e17bfb7ad5edd8a",
   "metadata": {
    "collapsed": false,
    "papermill": {
     "duration": 0.003131,
     "end_time": "2024-08-19T10:24:25.253694",
     "exception": false,
     "start_time": "2024-08-19T10:24:25.250563",
     "status": "completed"
    },
    "tags": []
   },
   "source": [
    "## Update Model Affected Cells"
   ]
  },
  {
   "cell_type": "code",
   "id": "2125ecf138c64a88",
   "metadata": {
    "collapsed": false,
    "execution": {
     "iopub.execute_input": "2024-08-19T10:24:25.260734Z",
     "iopub.status.busy": "2024-08-19T10:24:25.260503Z",
     "iopub.status.idle": "2024-08-19T10:24:25.350297Z",
     "shell.execute_reply": "2024-08-19T10:24:25.349838Z"
    },
    "papermill": {
     "duration": 0.094202,
     "end_time": "2024-08-19T10:24:25.350940",
     "exception": true,
     "start_time": "2024-08-19T10:24:25.256738",
     "status": "failed"
    },
    "tags": [],
    "ExecuteTime": {
     "end_time": "2024-08-19T20:09:33.625670Z",
     "start_time": "2024-08-19T20:09:33.493464Z"
    }
   },
   "source": [
    "from morpheus.project.application.write.Model.Discretization import UpdateModelAffectedCellsCommand\n",
    "\n",
    "model_reader = ModelReader()\n",
    "model = model_reader.get_latest_model(project_id=project_id)\n",
    "affected_cells = model.spatial_discretization.affected_cells\n",
    "\n",
    "assert affected_cells.is_active(col=0, row=0) == True\n",
    "affected_cells.set_inactive(col=0, row=0)\n",
    "assert affected_cells.is_active(col=0, row=0) == False\n",
    "\n",
    "command = UpdateModelAffectedCellsCommand(\n",
    "  project_id=project_id,\n",
    "  affected_cells=affected_cells,\n",
    "  user_id=user_id\n",
    ")\n",
    "\n",
    "project_command_bus.dispatch(command)"
   ],
   "outputs": [],
   "execution_count": 9
  },
  {
   "cell_type": "code",
   "id": "181c8ad99124273c",
   "metadata": {
    "collapsed": false,
    "execution": {
     "iopub.execute_input": "2024-06-20T19:02:45.275405Z",
     "iopub.status.busy": "2024-06-20T19:02:45.275125Z",
     "iopub.status.idle": "2024-06-20T19:02:45.279422Z",
     "shell.execute_reply": "2024-06-20T19:02:45.279125Z"
    },
    "papermill": {
     "duration": null,
     "end_time": null,
     "exception": null,
     "start_time": null,
     "status": "pending"
    },
    "tags": [],
    "ExecuteTime": {
     "end_time": "2024-08-19T11:09:25.318747Z",
     "start_time": "2024-08-19T11:09:25.318089Z"
    }
   },
   "source": [
    "model_reader = ModelReader()\n",
    "model = model_reader.get_latest_model(project_id=project_id)\n",
    "affected_cells = model.spatial_discretization.affected_cells\n",
    "assert affected_cells.is_active(col=0, row=0) == True"
   ],
   "outputs": [],
   "execution_count": null
  },
  {
   "cell_type": "markdown",
   "id": "accb680cfa47f091",
   "metadata": {
    "collapsed": false,
    "papermill": {
     "duration": null,
     "end_time": null,
     "exception": null,
     "start_time": null,
     "status": "pending"
    },
    "tags": []
   },
   "source": [
    "## Show Versions of Model so far"
   ]
  },
  {
   "cell_type": "code",
   "id": "cb4afb5b3dd54cea",
   "metadata": {
    "collapsed": false,
    "execution": {
     "iopub.execute_input": "2024-06-20T19:02:45.298095Z",
     "iopub.status.busy": "2024-06-20T19:02:45.297950Z",
     "iopub.status.idle": "2024-06-20T19:02:45.301385Z",
     "shell.execute_reply": "2024-06-20T19:02:45.301091Z"
    },
    "papermill": {
     "duration": null,
     "end_time": null,
     "exception": null,
     "start_time": null,
     "status": "pending"
    },
    "tags": []
   },
   "source": [
    "model_reader = ModelReader()\n",
    "model_reader.get_versions(project_id=project_id)"
   ],
   "outputs": [],
   "execution_count": null
  },
  {
   "cell_type": "markdown",
   "id": "c1e717aa2a462cbb",
   "metadata": {
    "collapsed": false,
    "papermill": {
     "duration": null,
     "end_time": null,
     "exception": null,
     "start_time": null,
     "status": "pending"
    },
    "tags": []
   },
   "source": [
    "## Tag Version"
   ]
  },
  {
   "cell_type": "code",
   "id": "f6001b161c3b63da",
   "metadata": {
    "collapsed": false,
    "execution": {
     "iopub.execute_input": "2024-06-20T19:02:45.319501Z",
     "iopub.status.busy": "2024-06-20T19:02:45.319356Z",
     "iopub.status.idle": "2024-06-20T19:02:45.333134Z",
     "shell.execute_reply": "2024-06-20T19:02:45.332635Z"
    },
    "papermill": {
     "duration": null,
     "end_time": null,
     "exception": null,
     "start_time": null,
     "status": "pending"
    },
    "tags": []
   },
   "source": [
    "from morpheus.project.application.write.Model.General import CreateModelVersionCommand\n",
    "from morpheus.project.types.ModelVersion import VersionTag, VersionDescription\n",
    "\n",
    "command = CreateModelVersionCommand(\n",
    "  project_id=project_id,\n",
    "  version_tag=VersionTag('v1.0.0'),\n",
    "  version_description=VersionDescription('Version 1.0.0'),\n",
    "  user_id=user_id\n",
    ")\n",
    "\n",
    "project_command_bus.dispatch(command)"
   ],
   "outputs": [],
   "execution_count": null
  },
  {
   "cell_type": "code",
   "id": "91ce3ebddf8a88be",
   "metadata": {
    "collapsed": false,
    "execution": {
     "iopub.execute_input": "2024-06-20T19:02:45.344173Z",
     "iopub.status.busy": "2024-06-20T19:02:45.343892Z",
     "iopub.status.idle": "2024-06-20T19:02:45.347956Z",
     "shell.execute_reply": "2024-06-20T19:02:45.347629Z"
    },
    "papermill": {
     "duration": null,
     "end_time": null,
     "exception": null,
     "start_time": null,
     "status": "pending"
    },
    "tags": []
   },
   "source": [
    "model_reader.get_versions(project_id=project_id)"
   ],
   "outputs": [],
   "execution_count": null
  },
  {
   "cell_type": "code",
   "id": "98e0fcfb479f8ff8",
   "metadata": {
    "collapsed": false,
    "execution": {
     "iopub.execute_input": "2024-06-20T19:02:45.358204Z",
     "iopub.status.busy": "2024-06-20T19:02:45.357951Z",
     "iopub.status.idle": "2024-06-20T19:02:45.362221Z",
     "shell.execute_reply": "2024-06-20T19:02:45.361745Z"
    },
    "papermill": {
     "duration": null,
     "end_time": null,
     "exception": null,
     "start_time": null,
     "status": "pending"
    },
    "tags": []
   },
   "source": [
    "version = model_reader.get_version_by_tag(project_id=project_id, tag=VersionTag('v1.0.0'))\n",
    "version"
   ],
   "outputs": [],
   "execution_count": null
  },
  {
   "cell_type": "code",
   "id": "d447991ac286684f",
   "metadata": {
    "collapsed": false,
    "execution": {
     "iopub.execute_input": "2024-06-20T19:02:45.375749Z",
     "iopub.status.busy": "2024-06-20T19:02:45.375568Z",
     "iopub.status.idle": "2024-06-20T19:02:45.381038Z",
     "shell.execute_reply": "2024-06-20T19:02:45.380743Z"
    },
    "papermill": {
     "duration": null,
     "end_time": null,
     "exception": null,
     "start_time": null,
     "status": "pending"
    },
    "tags": []
   },
   "source": [
    "from morpheus.project.application.write.Model.General import UpdateModelVersionDescriptionCommand\n",
    "\n",
    "command = UpdateModelVersionDescriptionCommand(\n",
    "  project_id=project_id,\n",
    "  version_id=version.version_id,\n",
    "  version_description=VersionDescription('Version 1.0.0 - Updated'),\n",
    "  user_id=user_id\n",
    ")\n",
    "\n",
    "project_command_bus.dispatch(command)"
   ],
   "outputs": [],
   "execution_count": null
  },
  {
   "cell_type": "code",
   "id": "98bd0d67dcdef72c",
   "metadata": {
    "collapsed": false,
    "execution": {
     "iopub.execute_input": "2024-06-20T19:02:45.391509Z",
     "iopub.status.busy": "2024-06-20T19:02:45.391291Z",
     "iopub.status.idle": "2024-06-20T19:02:45.395032Z",
     "shell.execute_reply": "2024-06-20T19:02:45.394632Z"
    },
    "papermill": {
     "duration": null,
     "end_time": null,
     "exception": null,
     "start_time": null,
     "status": "pending"
    },
    "tags": []
   },
   "source": [
    "version = model_reader.get_version_by_tag(project_id=project_id, tag=VersionTag('v1.0.0'))\n",
    "version.description.to_str()"
   ],
   "outputs": [],
   "execution_count": null
  },
  {
   "cell_type": "markdown",
   "id": "d3450ee74861c27d",
   "metadata": {
    "papermill": {
     "duration": null,
     "end_time": null,
     "exception": null,
     "start_time": null,
     "status": "pending"
    },
    "tags": []
   },
   "source": [
    "# Add well boundary"
   ]
  },
  {
   "cell_type": "code",
   "id": "364435815cd6954f",
   "metadata": {
    "execution": {
     "iopub.execute_input": "2024-06-20T19:02:45.414303Z",
     "iopub.status.busy": "2024-06-20T19:02:45.414164Z",
     "iopub.status.idle": "2024-06-20T19:02:45.431849Z",
     "shell.execute_reply": "2024-06-20T19:02:45.431417Z"
    },
    "papermill": {
     "duration": null,
     "end_time": null,
     "exception": null,
     "start_time": null,
     "status": "pending"
    },
    "tags": []
   },
   "source": [
    "from morpheus.project.application.write.Model.Boundaries.AddModelBoundary import AddModelBoundaryCommandPayload, AddModelBoundaryCommand\n",
    "\n",
    "payload: AddModelBoundaryCommandPayload = {\n",
    "  'project_id': project_id.to_str(),\n",
    "  'model_id': model.model_id.to_str(),\n",
    "  'boundary_type': 'well',\n",
    "  'boundary_geometry': {\n",
    "    'type': 'Point',\n",
    "    'coordinates': [13.923, 50.965]\n",
    "  },\n",
    "}\n",
    "\n",
    "project_command_bus.dispatch(AddModelBoundaryCommand.from_payload(user_id=user_id, payload=payload))"
   ],
   "outputs": [],
   "execution_count": null
  },
  {
   "cell_type": "markdown",
   "id": "14cbb28e7eba7481",
   "metadata": {
    "papermill": {
     "duration": null,
     "end_time": null,
     "exception": null,
     "start_time": null,
     "status": "pending"
    },
    "tags": []
   },
   "source": [
    "# Read Model Boundaries"
   ]
  },
  {
   "cell_type": "code",
   "id": "dde2c00f187dbc9c",
   "metadata": {
    "execution": {
     "iopub.execute_input": "2024-06-20T19:02:45.451726Z",
     "iopub.status.busy": "2024-06-20T19:02:45.451487Z",
     "iopub.status.idle": "2024-06-20T19:02:45.456973Z",
     "shell.execute_reply": "2024-06-20T19:02:45.456464Z"
    },
    "papermill": {
     "duration": null,
     "end_time": null,
     "exception": null,
     "start_time": null,
     "status": "pending"
    },
    "tags": []
   },
   "source": [
    "model = model_reader.get_latest_model(project_id=project_id)\n",
    "model.boundaries"
   ],
   "outputs": [],
   "execution_count": null
  },
  {
   "cell_type": "markdown",
   "id": "23e3edd16ade53a",
   "metadata": {
    "papermill": {
     "duration": null,
     "end_time": null,
     "exception": null,
     "start_time": null,
     "status": "pending"
    },
    "tags": []
   },
   "source": [
    "# Remove Well Boundary"
   ]
  },
  {
   "cell_type": "code",
   "id": "1bae17b57bc0a1e0",
   "metadata": {
    "execution": {
     "iopub.execute_input": "2024-06-20T19:02:45.476408Z",
     "iopub.status.busy": "2024-06-20T19:02:45.476221Z",
     "iopub.status.idle": "2024-06-20T19:02:45.487173Z",
     "shell.execute_reply": "2024-06-20T19:02:45.486814Z"
    },
    "papermill": {
     "duration": null,
     "end_time": null,
     "exception": null,
     "start_time": null,
     "status": "pending"
    },
    "tags": []
   },
   "source": [
    "from morpheus.project.application.write.Model.Boundaries.RemoveModelBoundary import RemoveModelBoundaryCommandPayload, RemoveModelBoundaryCommand\n",
    "\n",
    "boundary_id = model.boundaries[0].id\n",
    "\n",
    "payload: RemoveModelBoundaryCommandPayload = {\n",
    "  'project_id': project_id.to_str(),\n",
    "  'model_id': model.model_id.to_str(),\n",
    "  'boundary_id': boundary_id.to_str(),\n",
    "}\n",
    "\n",
    "project_command_bus.dispatch(RemoveModelBoundaryCommand.from_payload(user_id=user_id, payload=payload))"
   ],
   "outputs": [],
   "execution_count": null
  },
  {
   "cell_type": "code",
   "id": "db153e9460ab7bc6",
   "metadata": {
    "execution": {
     "iopub.execute_input": "2024-06-20T19:02:45.498449Z",
     "iopub.status.busy": "2024-06-20T19:02:45.498274Z",
     "iopub.status.idle": "2024-06-20T19:02:45.502726Z",
     "shell.execute_reply": "2024-06-20T19:02:45.502459Z"
    },
    "papermill": {
     "duration": null,
     "end_time": null,
     "exception": null,
     "start_time": null,
     "status": "pending"
    },
    "tags": []
   },
   "source": [
    "model = model_reader.get_latest_model(project_id=project_id)\n",
    "model.boundaries"
   ],
   "outputs": [],
   "execution_count": null
  },
  {
   "cell_type": "code",
   "id": "dc20739afcda859d",
   "metadata": {
    "papermill": {
     "duration": null,
     "end_time": null,
     "exception": null,
     "start_time": null,
     "status": "pending"
    },
    "tags": []
   },
   "source": [],
   "outputs": [],
   "execution_count": null
  }
 ],
 "metadata": {
  "kernelspec": {
   "display_name": "Python 3",
   "language": "python",
   "name": "python3"
  },
  "language_info": {
   "codemirror_mode": {
    "name": "ipython",
    "version": 3
   },
   "file_extension": ".py",
   "mimetype": "text/x-python",
   "name": "python",
   "nbconvert_exporter": "python",
   "pygments_lexer": "ipython3",
   "version": "3.12.2"
  },
  "papermill": {
   "default_parameters": {},
   "duration": 5.132903,
   "end_time": "2024-08-19T10:24:27.974139",
   "environment_variables": {},
   "exception": true,
   "input_path": "./notebooks/EventSourcingModel.ipynb",
   "output_path": "./notebooks/EventSourcingModel.ipynb",
   "parameters": {},
   "start_time": "2024-08-19T10:24:22.841236",
   "version": "2.6.0"
  }
 },
 "nbformat": 4,
 "nbformat_minor": 5
}
