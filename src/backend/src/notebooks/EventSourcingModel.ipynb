{
 "cells": [
  {
   "cell_type": "markdown",
   "id": "3da9d9f5",
   "metadata": {
    "tags": [
     "papermill-error-cell-tag"
    ]
   },
   "source": [
    "<span style=\"color:red; font-family:Helvetica Neue, Helvetica, Arial, sans-serif; font-size:2em;\">An Exception was encountered at '<a href=\"#papermill-error-cell\">In [1]</a>'.</span>"
   ]
  },
  {
   "cell_type": "markdown",
   "id": "643f6c4207bbc0b0",
   "metadata": {
    "papermill": {
     "duration": 0.010612,
     "end_time": "2024-05-15T15:40:15.818955",
     "exception": false,
     "start_time": "2024-05-15T15:40:15.808343",
     "status": "completed"
    },
    "tags": []
   },
   "source": [
    "# Initialize Morpheus"
   ]
  },
  {
   "cell_type": "markdown",
   "id": "0c8fb7cc",
   "metadata": {
    "tags": [
     "papermill-error-cell-tag"
    ]
   },
   "source": [
    "<span id=\"papermill-error-cell\" style=\"color:red; font-family:Helvetica Neue, Helvetica, Arial, sans-serif; font-size:2em;\">Execution using papermill encountered an exception here and stopped:</span>"
   ]
  },
  {
   "cell_type": "code",
   "execution_count": 1,
   "id": "9a429500dc402140",
   "metadata": {
    "ExecuteTime": {
     "end_time": "2024-05-15T12:40:48.473177Z",
     "start_time": "2024-05-15T12:40:46.595996Z"
    },
    "execution": {
     "iopub.execute_input": "2024-05-15T15:40:15.832085Z",
     "iopub.status.busy": "2024-05-15T15:40:15.831645Z",
     "iopub.status.idle": "2024-05-15T15:40:17.007112Z",
     "shell.execute_reply": "2024-05-15T15:40:17.006538Z"
    },
    "papermill": {
     "duration": 1.182576,
     "end_time": "2024-05-15T15:40:17.007874",
     "exception": true,
     "start_time": "2024-05-15T15:40:15.825298",
     "status": "failed"
    },
    "tags": []
   },
   "outputs": [
    {
     "ename": "ValidationError",
     "evalue": "SECRET_KEY is required in env production",
     "output_type": "error",
     "traceback": [
      "\u001b[0;31m---------------------------------------------------------------------------\u001b[0m",
      "\u001b[0;31mValidationError\u001b[0m                           Traceback (most recent call last)",
      "Cell \u001b[0;32mIn[1], line 1\u001b[0m\n\u001b[0;32m----> 1\u001b[0m \u001b[38;5;28;01mfrom\u001b[39;00m \u001b[38;5;21;01mmorpheus\u001b[39;00m\u001b[38;5;21;01m.\u001b[39;00m\u001b[38;5;21;01mproject\u001b[39;00m\u001b[38;5;21;01m.\u001b[39;00m\u001b[38;5;21;01mapplication\u001b[39;00m\u001b[38;5;21;01m.\u001b[39;00m\u001b[38;5;21;01mwrite\u001b[39;00m \u001b[38;5;28;01mimport\u001b[39;00m project_command_bus\n",
      "File \u001b[0;32m~/Projects/inowas/morpheus/src/backend/src/morpheus/project/application/write/__init__.py:1\u001b[0m\n\u001b[0;32m----> 1\u001b[0m \u001b[38;5;28;01mfrom\u001b[39;00m \u001b[38;5;21;01m.\u001b[39;00m\u001b[38;5;21;01mAsset\u001b[39;00m \u001b[38;5;28;01mimport\u001b[39;00m asset_command_handler_map\n\u001b[1;32m      2\u001b[0m \u001b[38;5;28;01mfrom\u001b[39;00m \u001b[38;5;21;01m.\u001b[39;00m\u001b[38;5;21;01mModel\u001b[39;00m \u001b[38;5;28;01mimport\u001b[39;00m model_command_handler_map\n\u001b[1;32m      3\u001b[0m \u001b[38;5;28;01mfrom\u001b[39;00m \u001b[38;5;21;01m.\u001b[39;00m\u001b[38;5;21;01mProject\u001b[39;00m \u001b[38;5;28;01mimport\u001b[39;00m project_command_handler_map\n",
      "File \u001b[0;32m~/Projects/inowas/morpheus/src/backend/src/morpheus/project/application/write/Asset/__init__.py:1\u001b[0m\n\u001b[0;32m----> 1\u001b[0m \u001b[38;5;28;01mfrom\u001b[39;00m \u001b[38;5;21;01m.\u001b[39;00m\u001b[38;5;21;01mDeleteAsset\u001b[39;00m \u001b[38;5;28;01mimport\u001b[39;00m DeleteAssetCommand, DeleteAssetCommandHandler\n\u001b[1;32m      2\u001b[0m \u001b[38;5;28;01mfrom\u001b[39;00m \u001b[38;5;21;01m.\u001b[39;00m\u001b[38;5;21;01mUpdateAssetDescription\u001b[39;00m \u001b[38;5;28;01mimport\u001b[39;00m UpdateAssetDescriptionCommand, UpdateAssetDescriptionCommandHandler\n\u001b[1;32m      3\u001b[0m \u001b[38;5;28;01mfrom\u001b[39;00m \u001b[38;5;21;01m.\u001b[39;00m\u001b[38;5;21;01mUpdateAssetFileName\u001b[39;00m \u001b[38;5;28;01mimport\u001b[39;00m UpdateAssetFileNameCommand, UpdateAssetFileNameCommandHandler\n",
      "File \u001b[0;32m~/Projects/inowas/morpheus/src/backend/src/morpheus/project/application/write/Asset/DeleteAsset.py:6\u001b[0m\n\u001b[1;32m      2\u001b[0m \u001b[38;5;28;01mfrom\u001b[39;00m \u001b[38;5;21;01mtyping\u001b[39;00m \u001b[38;5;28;01mimport\u001b[39;00m TypedDict\n\u001b[1;32m      4\u001b[0m \u001b[38;5;28;01mfrom\u001b[39;00m \u001b[38;5;21;01mmorpheus\u001b[39;00m\u001b[38;5;21;01m.\u001b[39;00m\u001b[38;5;21;01mcommon\u001b[39;00m\u001b[38;5;21;01m.\u001b[39;00m\u001b[38;5;21;01mtypes\u001b[39;00m\u001b[38;5;21;01m.\u001b[39;00m\u001b[38;5;21;01mExceptions\u001b[39;00m \u001b[38;5;28;01mimport\u001b[39;00m InsufficientPermissionsException, NotFoundException\n\u001b[0;32m----> 6\u001b[0m \u001b[38;5;28;01mfrom\u001b[39;00m \u001b[38;5;21;01mmorpheus\u001b[39;00m\u001b[38;5;21;01m.\u001b[39;00m\u001b[38;5;21;01mproject\u001b[39;00m\u001b[38;5;21;01m.\u001b[39;00m\u001b[38;5;21;01mapplication\u001b[39;00m\u001b[38;5;21;01m.\u001b[39;00m\u001b[38;5;21;01mread\u001b[39;00m\u001b[38;5;21;01m.\u001b[39;00m\u001b[38;5;21;01mAssetReader\u001b[39;00m \u001b[38;5;28;01mimport\u001b[39;00m get_asset_reader\n\u001b[1;32m      7\u001b[0m \u001b[38;5;28;01mfrom\u001b[39;00m \u001b[38;5;21;01mmorpheus\u001b[39;00m\u001b[38;5;21;01m.\u001b[39;00m\u001b[38;5;21;01mproject\u001b[39;00m\u001b[38;5;21;01m.\u001b[39;00m\u001b[38;5;21;01mapplication\u001b[39;00m\u001b[38;5;21;01m.\u001b[39;00m\u001b[38;5;21;01mread\u001b[39;00m\u001b[38;5;21;01m.\u001b[39;00m\u001b[38;5;21;01mPermissionsReader\u001b[39;00m \u001b[38;5;28;01mimport\u001b[39;00m PermissionsReader\n\u001b[1;32m      8\u001b[0m \u001b[38;5;28;01mfrom\u001b[39;00m \u001b[38;5;21;01mmorpheus\u001b[39;00m\u001b[38;5;21;01m.\u001b[39;00m\u001b[38;5;21;01mproject\u001b[39;00m\u001b[38;5;21;01m.\u001b[39;00m\u001b[38;5;21;01mapplication\u001b[39;00m\u001b[38;5;21;01m.\u001b[39;00m\u001b[38;5;21;01mwrite\u001b[39;00m\u001b[38;5;21;01m.\u001b[39;00m\u001b[38;5;21;01mCommandBase\u001b[39;00m \u001b[38;5;28;01mimport\u001b[39;00m CommandBase\n",
      "File \u001b[0;32m~/Projects/inowas/morpheus/src/backend/src/morpheus/project/application/read/AssetReader.py:2\u001b[0m\n\u001b[1;32m      1\u001b[0m \u001b[38;5;28;01mfrom\u001b[39;00m \u001b[38;5;21;01mmorpheus\u001b[39;00m\u001b[38;5;21;01m.\u001b[39;00m\u001b[38;5;21;01mcommon\u001b[39;00m\u001b[38;5;21;01m.\u001b[39;00m\u001b[38;5;21;01mtypes\u001b[39;00m\u001b[38;5;21;01m.\u001b[39;00m\u001b[38;5;21;01mPagination\u001b[39;00m \u001b[38;5;28;01mimport\u001b[39;00m PaginationParameters, PaginatedResults\n\u001b[0;32m----> 2\u001b[0m \u001b[38;5;28;01mfrom\u001b[39;00m \u001b[38;5;21;01m.\u001b[39;00m\u001b[38;5;21;01m.\u001b[39;00m\u001b[38;5;21;01m.\u001b[39;00m\u001b[38;5;21;01minfrastructure\u001b[39;00m\u001b[38;5;21;01m.\u001b[39;00m\u001b[38;5;21;01massets\u001b[39;00m\u001b[38;5;21;01m.\u001b[39;00m\u001b[38;5;21;01mAssetHandlingService\u001b[39;00m \u001b[38;5;28;01mimport\u001b[39;00m asset_handling_service\n\u001b[1;32m      3\u001b[0m \u001b[38;5;28;01mfrom\u001b[39;00m \u001b[38;5;21;01m.\u001b[39;00m\u001b[38;5;21;01m.\u001b[39;00m\u001b[38;5;21;01m.\u001b[39;00m\u001b[38;5;21;01minfrastructure\u001b[39;00m\u001b[38;5;21;01m.\u001b[39;00m\u001b[38;5;21;01massets\u001b[39;00m\u001b[38;5;21;01m.\u001b[39;00m\u001b[38;5;21;01mGeoTiffService\u001b[39;00m \u001b[38;5;28;01mimport\u001b[39;00m get_geo_tiff_service\n\u001b[1;32m      4\u001b[0m \u001b[38;5;28;01mfrom\u001b[39;00m \u001b[38;5;21;01m.\u001b[39;00m\u001b[38;5;21;01m.\u001b[39;00m\u001b[38;5;21;01m.\u001b[39;00m\u001b[38;5;21;01minfrastructure\u001b[39;00m\u001b[38;5;21;01m.\u001b[39;00m\u001b[38;5;21;01massets\u001b[39;00m\u001b[38;5;21;01m.\u001b[39;00m\u001b[38;5;21;01mShapefileService\u001b[39;00m \u001b[38;5;28;01mimport\u001b[39;00m shapefile_service\n",
      "File \u001b[0;32m~/Projects/inowas/morpheus/src/backend/src/morpheus/project/infrastructure/assets/AssetHandlingService.py:2\u001b[0m\n\u001b[1;32m      1\u001b[0m \u001b[38;5;28;01mfrom\u001b[39;00m \u001b[38;5;21;01mmorpheus\u001b[39;00m\u001b[38;5;21;01m.\u001b[39;00m\u001b[38;5;21;01mcommon\u001b[39;00m\u001b[38;5;21;01m.\u001b[39;00m\u001b[38;5;21;01mtypes\u001b[39;00m\u001b[38;5;21;01m.\u001b[39;00m\u001b[38;5;21;01mFile\u001b[39;00m \u001b[38;5;28;01mimport\u001b[39;00m FilePath, FileName\n\u001b[0;32m----> 2\u001b[0m \u001b[38;5;28;01mfrom\u001b[39;00m \u001b[38;5;21;01mmorpheus\u001b[39;00m\u001b[38;5;21;01m.\u001b[39;00m\u001b[38;5;21;01mproject\u001b[39;00m\u001b[38;5;21;01m.\u001b[39;00m\u001b[38;5;21;01minfrastructure\u001b[39;00m\u001b[38;5;21;01m.\u001b[39;00m\u001b[38;5;21;01mfilesystem\u001b[39;00m\u001b[38;5;21;01m.\u001b[39;00m\u001b[38;5;21;01mAssetFileStorage\u001b[39;00m \u001b[38;5;28;01mimport\u001b[39;00m AssetFileStorage, asset_file_storage\n\u001b[1;32m      3\u001b[0m \u001b[38;5;28;01mfrom\u001b[39;00m \u001b[38;5;21;01mmorpheus\u001b[39;00m\u001b[38;5;21;01m.\u001b[39;00m\u001b[38;5;21;01mproject\u001b[39;00m\u001b[38;5;21;01m.\u001b[39;00m\u001b[38;5;21;01minfrastructure\u001b[39;00m\u001b[38;5;21;01m.\u001b[39;00m\u001b[38;5;21;01mpersistence\u001b[39;00m\u001b[38;5;21;01m.\u001b[39;00m\u001b[38;5;21;01mAssetRepository\u001b[39;00m \u001b[38;5;28;01mimport\u001b[39;00m asset_repository, AssetRepository\n\u001b[1;32m      4\u001b[0m \u001b[38;5;28;01mfrom\u001b[39;00m \u001b[38;5;21;01mmorpheus\u001b[39;00m\u001b[38;5;21;01m.\u001b[39;00m\u001b[38;5;21;01mproject\u001b[39;00m\u001b[38;5;21;01m.\u001b[39;00m\u001b[38;5;21;01mtypes\u001b[39;00m\u001b[38;5;21;01m.\u001b[39;00m\u001b[38;5;21;01mAsset\u001b[39;00m \u001b[38;5;28;01mimport\u001b[39;00m Asset, AssetId, AssetDescription, AssetMetadata\n",
      "File \u001b[0;32m~/Projects/inowas/morpheus/src/backend/src/morpheus/project/infrastructure/filesystem/AssetFileStorage.py:8\u001b[0m\n\u001b[1;32m      6\u001b[0m \u001b[38;5;28;01mfrom\u001b[39;00m \u001b[38;5;21;01mmorpheus\u001b[39;00m\u001b[38;5;21;01m.\u001b[39;00m\u001b[38;5;21;01mproject\u001b[39;00m\u001b[38;5;21;01m.\u001b[39;00m\u001b[38;5;21;01mtypes\u001b[39;00m\u001b[38;5;21;01m.\u001b[39;00m\u001b[38;5;21;01mAsset\u001b[39;00m \u001b[38;5;28;01mimport\u001b[39;00m Asset\n\u001b[1;32m      7\u001b[0m \u001b[38;5;28;01mfrom\u001b[39;00m \u001b[38;5;21;01mmorpheus\u001b[39;00m\u001b[38;5;21;01m.\u001b[39;00m\u001b[38;5;21;01mproject\u001b[39;00m\u001b[38;5;21;01m.\u001b[39;00m\u001b[38;5;21;01mtypes\u001b[39;00m\u001b[38;5;21;01m.\u001b[39;00m\u001b[38;5;21;01mProject\u001b[39;00m \u001b[38;5;28;01mimport\u001b[39;00m ProjectId\n\u001b[0;32m----> 8\u001b[0m \u001b[38;5;28;01mfrom\u001b[39;00m \u001b[38;5;21;01mmorpheus\u001b[39;00m\u001b[38;5;21;01m.\u001b[39;00m\u001b[38;5;21;01msettings\u001b[39;00m \u001b[38;5;28;01mimport\u001b[39;00m settings\n\u001b[1;32m     11\u001b[0m \u001b[38;5;28;01mclass\u001b[39;00m \u001b[38;5;21;01mAssetFileStorage\u001b[39;00m:\n\u001b[1;32m     12\u001b[0m     \u001b[38;5;28;01mdef\u001b[39;00m \u001b[38;5;21m__init__\u001b[39m(\u001b[38;5;28mself\u001b[39m, base_path: \u001b[38;5;28mstr\u001b[39m):\n",
      "File \u001b[0;32m~/Projects/inowas/morpheus/src/backend/src/morpheus/settings.py:48\u001b[0m\n\u001b[1;32m     44\u001b[0m     \u001b[38;5;28;01mdef\u001b[39;00m \u001b[38;5;21mis_production\u001b[39m(\u001b[38;5;28mself\u001b[39m):\n\u001b[1;32m     45\u001b[0m         \u001b[38;5;28;01mreturn\u001b[39;00m \u001b[38;5;28mself\u001b[39m\u001b[38;5;241m.\u001b[39mENV \u001b[38;5;241m==\u001b[39m \u001b[38;5;124m'\u001b[39m\u001b[38;5;124mproduction\u001b[39m\u001b[38;5;124m'\u001b[39m\n\u001b[0;32m---> 48\u001b[0m settings \u001b[38;5;241m=\u001b[39m \u001b[43mSettings\u001b[49m\u001b[38;5;241;43m.\u001b[39;49m\u001b[43mfrom_dynaconf\u001b[49m\u001b[43m(\u001b[49m\n\u001b[1;32m     49\u001b[0m \u001b[43m    \u001b[49m\u001b[43mDynaconf\u001b[49m\u001b[43m(\u001b[49m\n\u001b[1;32m     50\u001b[0m \u001b[43m        \u001b[49m\u001b[43mload_dotenv\u001b[49m\u001b[38;5;241;43m=\u001b[39;49m\u001b[38;5;28;43;01mTrue\u001b[39;49;00m\u001b[43m,\u001b[49m\n\u001b[1;32m     51\u001b[0m \u001b[43m        \u001b[49m\u001b[43menvironments\u001b[49m\u001b[38;5;241;43m=\u001b[39;49m\u001b[38;5;28;43;01mTrue\u001b[39;49;00m\u001b[43m,\u001b[49m\n\u001b[1;32m     52\u001b[0m \u001b[43m        \u001b[49m\u001b[43menvvar_prefix\u001b[49m\u001b[38;5;241;43m=\u001b[39;49m\u001b[38;5;124;43m'\u001b[39;49m\u001b[38;5;124;43mBACKEND\u001b[39;49m\u001b[38;5;124;43m'\u001b[39;49m\u001b[43m,\u001b[49m\n\u001b[1;32m     53\u001b[0m \u001b[43m        \u001b[49m\u001b[43menv\u001b[49m\u001b[38;5;241;43m=\u001b[39;49m\u001b[43mos\u001b[49m\u001b[38;5;241;43m.\u001b[39;49m\u001b[43menviron\u001b[49m\u001b[38;5;241;43m.\u001b[39;49m\u001b[43mget\u001b[49m\u001b[43m(\u001b[49m\u001b[38;5;124;43m'\u001b[39;49m\u001b[38;5;124;43mFLASK_ENV\u001b[39;49m\u001b[38;5;124;43m'\u001b[39;49m\u001b[43m,\u001b[49m\u001b[43m \u001b[49m\u001b[38;5;124;43m'\u001b[39;49m\u001b[38;5;124;43mproduction\u001b[39;49m\u001b[38;5;124;43m'\u001b[39;49m\u001b[43m)\u001b[49m\u001b[43m,\u001b[49m\n\u001b[1;32m     54\u001b[0m \u001b[43m        \u001b[49m\u001b[43mvalidators\u001b[49m\u001b[38;5;241;43m=\u001b[39;49m\u001b[43m[\u001b[49m\n\u001b[1;32m     55\u001b[0m \u001b[43m            \u001b[49m\u001b[43mValidator\u001b[49m\u001b[43m(\u001b[49m\u001b[38;5;124;43m'\u001b[39;49m\u001b[38;5;124;43mSECRET_KEY\u001b[39;49m\u001b[38;5;124;43m'\u001b[39;49m\u001b[43m,\u001b[49m\u001b[43m \u001b[49m\u001b[43mmust_exist\u001b[49m\u001b[38;5;241;43m=\u001b[39;49m\u001b[38;5;28;43;01mTrue\u001b[39;49;00m\u001b[43m)\u001b[49m\u001b[43m,\u001b[49m\n\u001b[1;32m     56\u001b[0m \u001b[43m            \u001b[49m\u001b[43mValidator\u001b[49m\u001b[43m(\u001b[49m\u001b[38;5;124;43m'\u001b[39;49m\u001b[38;5;124;43mMAX_CONTENT_LENGTH\u001b[39;49m\u001b[38;5;124;43m'\u001b[39;49m\u001b[43m,\u001b[49m\u001b[43m \u001b[49m\u001b[43mmust_exist\u001b[49m\u001b[38;5;241;43m=\u001b[39;49m\u001b[38;5;28;43;01mTrue\u001b[39;49;00m\u001b[43m)\u001b[49m\u001b[43m,\u001b[49m\n\u001b[1;32m     57\u001b[0m \u001b[43m            \u001b[49m\u001b[43mValidator\u001b[49m\u001b[43m(\u001b[49m\u001b[38;5;124;43m'\u001b[39;49m\u001b[38;5;124;43mKEYCLOAK_CLIENT_ID\u001b[39;49m\u001b[38;5;124;43m'\u001b[39;49m\u001b[43m,\u001b[49m\u001b[43m \u001b[49m\u001b[43mmust_exist\u001b[49m\u001b[38;5;241;43m=\u001b[39;49m\u001b[38;5;28;43;01mTrue\u001b[39;49;00m\u001b[43m)\u001b[49m\u001b[43m,\u001b[49m\n\u001b[1;32m     58\u001b[0m \u001b[43m            \u001b[49m\u001b[43mValidator\u001b[49m\u001b[43m(\u001b[49m\u001b[38;5;124;43m'\u001b[39;49m\u001b[38;5;124;43mKEYCLOAK_CLIENT_SECRET\u001b[39;49m\u001b[38;5;124;43m'\u001b[39;49m\u001b[43m,\u001b[49m\u001b[43m \u001b[49m\u001b[43mmust_exist\u001b[49m\u001b[38;5;241;43m=\u001b[39;49m\u001b[38;5;28;43;01mTrue\u001b[39;49;00m\u001b[43m)\u001b[49m\u001b[43m,\u001b[49m\n\u001b[1;32m     59\u001b[0m \u001b[43m            \u001b[49m\u001b[43mValidator\u001b[49m\u001b[43m(\u001b[49m\u001b[38;5;124;43m'\u001b[39;49m\u001b[38;5;124;43mKEYCLOAK_REALM\u001b[39;49m\u001b[38;5;124;43m'\u001b[39;49m\u001b[43m,\u001b[49m\u001b[43m \u001b[49m\u001b[43mmust_exist\u001b[49m\u001b[38;5;241;43m=\u001b[39;49m\u001b[38;5;28;43;01mTrue\u001b[39;49;00m\u001b[43m)\u001b[49m\u001b[43m,\u001b[49m\n\u001b[1;32m     60\u001b[0m \u001b[43m            \u001b[49m\u001b[43mValidator\u001b[49m\u001b[43m(\u001b[49m\u001b[38;5;124;43m'\u001b[39;49m\u001b[38;5;124;43mKEYCLOAK_SERVER_URL\u001b[39;49m\u001b[38;5;124;43m'\u001b[39;49m\u001b[43m,\u001b[49m\u001b[43m \u001b[49m\u001b[43mmust_exist\u001b[49m\u001b[38;5;241;43m=\u001b[39;49m\u001b[38;5;28;43;01mTrue\u001b[39;49;00m\u001b[43m)\u001b[49m\u001b[43m,\u001b[49m\n\u001b[1;32m     61\u001b[0m \u001b[43m            \u001b[49m\u001b[43mValidator\u001b[49m\u001b[43m(\u001b[49m\u001b[38;5;124;43m'\u001b[39;49m\u001b[38;5;124;43mMONGO_HOST\u001b[39;49m\u001b[38;5;124;43m'\u001b[39;49m\u001b[43m,\u001b[49m\u001b[43m \u001b[49m\u001b[43mmust_exist\u001b[49m\u001b[38;5;241;43m=\u001b[39;49m\u001b[38;5;28;43;01mTrue\u001b[39;49;00m\u001b[43m)\u001b[49m\u001b[43m,\u001b[49m\n\u001b[1;32m     62\u001b[0m \u001b[43m            \u001b[49m\u001b[43mValidator\u001b[49m\u001b[43m(\u001b[49m\u001b[38;5;124;43m'\u001b[39;49m\u001b[38;5;124;43mMONGO_PORT\u001b[39;49m\u001b[38;5;124;43m'\u001b[39;49m\u001b[43m,\u001b[49m\u001b[43m \u001b[49m\u001b[43mmust_exist\u001b[49m\u001b[38;5;241;43m=\u001b[39;49m\u001b[38;5;28;43;01mTrue\u001b[39;49;00m\u001b[43m)\u001b[49m\u001b[43m,\u001b[49m\n\u001b[1;32m     63\u001b[0m \u001b[43m            \u001b[49m\u001b[43mValidator\u001b[49m\u001b[43m(\u001b[49m\u001b[38;5;124;43m'\u001b[39;49m\u001b[38;5;124;43mMONGO_USER\u001b[39;49m\u001b[38;5;124;43m'\u001b[39;49m\u001b[43m,\u001b[49m\u001b[43m \u001b[49m\u001b[43mmust_exist\u001b[49m\u001b[38;5;241;43m=\u001b[39;49m\u001b[38;5;28;43;01mTrue\u001b[39;49;00m\u001b[43m)\u001b[49m\u001b[43m,\u001b[49m\n\u001b[1;32m     64\u001b[0m \u001b[43m            \u001b[49m\u001b[43mValidator\u001b[49m\u001b[43m(\u001b[49m\u001b[38;5;124;43m'\u001b[39;49m\u001b[38;5;124;43mMONGO_PASSWORD\u001b[39;49m\u001b[38;5;124;43m'\u001b[39;49m\u001b[43m,\u001b[49m\u001b[43m \u001b[49m\u001b[43mmust_exist\u001b[49m\u001b[38;5;241;43m=\u001b[39;49m\u001b[38;5;28;43;01mTrue\u001b[39;49;00m\u001b[43m)\u001b[49m\u001b[43m,\u001b[49m\n\u001b[1;32m     65\u001b[0m \u001b[43m            \u001b[49m\u001b[43mValidator\u001b[49m\u001b[43m(\u001b[49m\u001b[38;5;124;43m'\u001b[39;49m\u001b[38;5;124;43mMONGO_PROJECT_DATABASE\u001b[39;49m\u001b[38;5;124;43m'\u001b[39;49m\u001b[43m,\u001b[49m\u001b[43m \u001b[49m\u001b[43mmust_exist\u001b[49m\u001b[38;5;241;43m=\u001b[39;49m\u001b[38;5;28;43;01mTrue\u001b[39;49;00m\u001b[43m)\u001b[49m\u001b[43m,\u001b[49m\n\u001b[1;32m     66\u001b[0m \u001b[43m            \u001b[49m\u001b[43mValidator\u001b[49m\u001b[43m(\u001b[49m\u001b[38;5;124;43m'\u001b[39;49m\u001b[38;5;124;43mMONGO_SENSOR_DATABASE\u001b[39;49m\u001b[38;5;124;43m'\u001b[39;49m\u001b[43m,\u001b[49m\u001b[43m \u001b[49m\u001b[43mmust_exist\u001b[49m\u001b[38;5;241;43m=\u001b[39;49m\u001b[38;5;28;43;01mTrue\u001b[39;49;00m\u001b[43m)\u001b[49m\u001b[43m,\u001b[49m\n\u001b[1;32m     67\u001b[0m \u001b[43m            \u001b[49m\u001b[43mValidator\u001b[49m\u001b[43m(\u001b[49m\u001b[38;5;124;43m'\u001b[39;49m\u001b[38;5;124;43mMORPHEUS_PROJECT_ASSET_DATA\u001b[39;49m\u001b[38;5;124;43m'\u001b[39;49m\u001b[43m,\u001b[49m\u001b[43m \u001b[49m\u001b[43mdefault\u001b[49m\u001b[38;5;241;43m=\u001b[39;49m\u001b[38;5;124;43m'\u001b[39;49m\u001b[38;5;124;43m/mnt/project/assets\u001b[39;49m\u001b[38;5;124;43m'\u001b[39;49m\u001b[43m)\u001b[49m\u001b[43m,\u001b[49m\n\u001b[1;32m     68\u001b[0m \u001b[43m            \u001b[49m\u001b[43mValidator\u001b[49m\u001b[43m(\u001b[49m\u001b[38;5;124;43m'\u001b[39;49m\u001b[38;5;124;43mMORPHEUS_PROJECT_CALCULATION_DATA\u001b[39;49m\u001b[38;5;124;43m'\u001b[39;49m\u001b[43m,\u001b[49m\u001b[43m \u001b[49m\u001b[43mdefault\u001b[49m\u001b[38;5;241;43m=\u001b[39;49m\u001b[38;5;124;43m'\u001b[39;49m\u001b[38;5;124;43m/mnt/project/calculations\u001b[39;49m\u001b[38;5;124;43m'\u001b[39;49m\u001b[43m)\u001b[49m\u001b[43m,\u001b[49m\n\u001b[1;32m     69\u001b[0m \u001b[43m            \u001b[49m\u001b[43mValidator\u001b[49m\u001b[43m(\u001b[49m\u001b[38;5;124;43m'\u001b[39;49m\u001b[38;5;124;43mMORPHEUS_SENSOR_LOCAL_DATA\u001b[39;49m\u001b[38;5;124;43m'\u001b[39;49m\u001b[43m,\u001b[49m\u001b[43m \u001b[49m\u001b[43mdefault\u001b[49m\u001b[38;5;241;43m=\u001b[39;49m\u001b[38;5;124;43m'\u001b[39;49m\u001b[38;5;124;43m/mnt/sensors\u001b[39;49m\u001b[38;5;124;43m'\u001b[39;49m\u001b[43m)\u001b[49m\u001b[43m,\u001b[49m\n\u001b[1;32m     70\u001b[0m \u001b[43m            \u001b[49m\u001b[43mValidator\u001b[49m\u001b[43m(\u001b[49m\u001b[38;5;124;43m'\u001b[39;49m\u001b[38;5;124;43mMORPHEUS_SENSORS_UIT_FTP_HOST\u001b[39;49m\u001b[38;5;124;43m'\u001b[39;49m\u001b[43m,\u001b[49m\u001b[43m \u001b[49m\u001b[43mmust_exist\u001b[49m\u001b[38;5;241;43m=\u001b[39;49m\u001b[38;5;28;43;01mTrue\u001b[39;49;00m\u001b[43m)\u001b[49m\u001b[43m,\u001b[49m\n\u001b[1;32m     71\u001b[0m \u001b[43m            \u001b[49m\u001b[43mValidator\u001b[49m\u001b[43m(\u001b[49m\u001b[38;5;124;43m'\u001b[39;49m\u001b[38;5;124;43mMORPHEUS_SENSORS_UIT_FTP_USER\u001b[39;49m\u001b[38;5;124;43m'\u001b[39;49m\u001b[43m,\u001b[49m\u001b[43m \u001b[49m\u001b[43mmust_exist\u001b[49m\u001b[38;5;241;43m=\u001b[39;49m\u001b[38;5;28;43;01mTrue\u001b[39;49;00m\u001b[43m)\u001b[49m\u001b[43m,\u001b[49m\n\u001b[1;32m     72\u001b[0m \u001b[43m            \u001b[49m\u001b[43mValidator\u001b[49m\u001b[43m(\u001b[49m\u001b[38;5;124;43m'\u001b[39;49m\u001b[38;5;124;43mMORPHEUS_SENSORS_UIT_FTP_PASSWORD\u001b[39;49m\u001b[38;5;124;43m'\u001b[39;49m\u001b[43m,\u001b[49m\u001b[43m \u001b[49m\u001b[43mmust_exist\u001b[49m\u001b[38;5;241;43m=\u001b[39;49m\u001b[38;5;28;43;01mTrue\u001b[39;49;00m\u001b[43m)\u001b[49m\u001b[43m,\u001b[49m\n\u001b[1;32m     73\u001b[0m \u001b[43m            \u001b[49m\u001b[43mValidator\u001b[49m\u001b[43m(\u001b[49m\u001b[38;5;124;43m'\u001b[39;49m\u001b[38;5;124;43mMORPHEUS_SENSORS_UIT_FTP_PATH\u001b[39;49m\u001b[38;5;124;43m'\u001b[39;49m\u001b[43m,\u001b[49m\u001b[43m \u001b[49m\u001b[43mmust_exist\u001b[49m\u001b[38;5;241;43m=\u001b[39;49m\u001b[38;5;28;43;01mTrue\u001b[39;49;00m\u001b[43m)\u001b[49m\u001b[43m,\u001b[49m\n\u001b[1;32m     74\u001b[0m \u001b[43m        \u001b[49m\u001b[43m]\u001b[49m\n\u001b[1;32m     75\u001b[0m \u001b[43m    \u001b[49m\u001b[43m)\u001b[49m\n\u001b[1;32m     76\u001b[0m \u001b[43m)\u001b[49m\n",
      "File \u001b[0;32m~/Projects/inowas/morpheus/src/backend/src/morpheus/settings.py:39\u001b[0m, in \u001b[0;36mSettings.from_dynaconf\u001b[0;34m(cls, dynaconf)\u001b[0m\n\u001b[1;32m     37\u001b[0m \u001b[38;5;129m@classmethod\u001b[39m\n\u001b[1;32m     38\u001b[0m \u001b[38;5;28;01mdef\u001b[39;00m \u001b[38;5;21mfrom_dynaconf\u001b[39m(\u001b[38;5;28mcls\u001b[39m, dynaconf: Dynaconf):\n\u001b[0;32m---> 39\u001b[0m     \u001b[38;5;28;01mreturn\u001b[39;00m \u001b[38;5;28mcls\u001b[39m(\u001b[43mdynaconf\u001b[49m\u001b[38;5;241;43m.\u001b[39;49m\u001b[43mcurrent_env\u001b[49m, dynaconf)\n",
      "File \u001b[0;32m~/Projects/inowas/morpheus/src/backend/.venv/lib/python3.12/site-packages/dynaconf/base.py:122\u001b[0m, in \u001b[0;36mLazySettings.__getattr__\u001b[0;34m(self, name)\u001b[0m\n\u001b[1;32m    120\u001b[0m \u001b[38;5;250m\u001b[39m\u001b[38;5;124;03m\"\"\"Allow getting keys from self.store using dot notation\"\"\"\u001b[39;00m\n\u001b[1;32m    121\u001b[0m \u001b[38;5;28;01mif\u001b[39;00m \u001b[38;5;28mself\u001b[39m\u001b[38;5;241m.\u001b[39m_wrapped \u001b[38;5;129;01mis\u001b[39;00m empty:\n\u001b[0;32m--> 122\u001b[0m     \u001b[38;5;28;43mself\u001b[39;49m\u001b[38;5;241;43m.\u001b[39;49m\u001b[43m_setup\u001b[49m\u001b[43m(\u001b[49m\u001b[43m)\u001b[49m\n\u001b[1;32m    123\u001b[0m \u001b[38;5;28;01mif\u001b[39;00m name \u001b[38;5;129;01min\u001b[39;00m \u001b[38;5;28mself\u001b[39m\u001b[38;5;241m.\u001b[39m_wrapped\u001b[38;5;241m.\u001b[39m_deleted:  \u001b[38;5;66;03m# noqa\u001b[39;00m\n\u001b[1;32m    124\u001b[0m     \u001b[38;5;28;01mraise\u001b[39;00m \u001b[38;5;167;01mAttributeError\u001b[39;00m(\n\u001b[1;32m    125\u001b[0m         \u001b[38;5;124mf\u001b[39m\u001b[38;5;124m\"\u001b[39m\u001b[38;5;124mAttribute \u001b[39m\u001b[38;5;132;01m{\u001b[39;00mname\u001b[38;5;132;01m}\u001b[39;00m\u001b[38;5;124m was deleted, \u001b[39m\u001b[38;5;124m\"\u001b[39m \u001b[38;5;124m\"\u001b[39m\u001b[38;5;124mor belongs to different env\u001b[39m\u001b[38;5;124m\"\u001b[39m\n\u001b[1;32m    126\u001b[0m     )\n",
      "File \u001b[0;32m~/Projects/inowas/morpheus/src/backend/.venv/lib/python3.12/site-packages/dynaconf/base.py:183\u001b[0m, in \u001b[0;36mLazySettings._setup\u001b[0;34m(self)\u001b[0m\n\u001b[1;32m    179\u001b[0m environment_variable \u001b[38;5;241m=\u001b[39m \u001b[38;5;28mself\u001b[39m\u001b[38;5;241m.\u001b[39m_kwargs\u001b[38;5;241m.\u001b[39mget(\n\u001b[1;32m    180\u001b[0m     \u001b[38;5;124m\"\u001b[39m\u001b[38;5;124mENVVAR_FOR_DYNACONF\u001b[39m\u001b[38;5;124m\"\u001b[39m, default_settings\u001b[38;5;241m.\u001b[39mENVVAR_FOR_DYNACONF\n\u001b[1;32m    181\u001b[0m )\n\u001b[1;32m    182\u001b[0m settings_module \u001b[38;5;241m=\u001b[39m os\u001b[38;5;241m.\u001b[39menviron\u001b[38;5;241m.\u001b[39mget(environment_variable)\n\u001b[0;32m--> 183\u001b[0m \u001b[38;5;28mself\u001b[39m\u001b[38;5;241m.\u001b[39m_wrapped \u001b[38;5;241m=\u001b[39m \u001b[38;5;28;43mself\u001b[39;49m\u001b[38;5;241;43m.\u001b[39;49m\u001b[43m_wrapper_class\u001b[49m\u001b[43m(\u001b[49m\n\u001b[1;32m    184\u001b[0m \u001b[43m    \u001b[49m\u001b[43msettings_module\u001b[49m\u001b[38;5;241;43m=\u001b[39;49m\u001b[43msettings_module\u001b[49m\u001b[43m,\u001b[49m\u001b[43m \u001b[49m\u001b[38;5;241;43m*\u001b[39;49m\u001b[38;5;241;43m*\u001b[39;49m\u001b[38;5;28;43mself\u001b[39;49m\u001b[38;5;241;43m.\u001b[39;49m\u001b[43m_kwargs\u001b[49m\n\u001b[1;32m    185\u001b[0m \u001b[43m\u001b[49m\u001b[43m)\u001b[49m\n",
      "File \u001b[0;32m~/Projects/inowas/morpheus/src/backend/.venv/lib/python3.12/site-packages/dynaconf/base.py:276\u001b[0m, in \u001b[0;36mSettings.__init__\u001b[0;34m(self, settings_module, **kwargs)\u001b[0m\n\u001b[1;32m    273\u001b[0m     \u001b[38;5;28mself\u001b[39m\u001b[38;5;241m.\u001b[39mexecute_loaders()\n\u001b[1;32m    275\u001b[0m \u001b[38;5;28;01mif\u001b[39;00m \u001b[38;5;129;01mnot\u001b[39;00m skip_validators:\n\u001b[0;32m--> 276\u001b[0m     \u001b[38;5;28;43mself\u001b[39;49m\u001b[38;5;241;43m.\u001b[39;49m\u001b[43mvalidators\u001b[49m\u001b[38;5;241;43m.\u001b[39;49m\u001b[43mvalidate\u001b[49m\u001b[43m(\u001b[49m\n\u001b[1;32m    277\u001b[0m \u001b[43m        \u001b[49m\u001b[43monly\u001b[49m\u001b[38;5;241;43m=\u001b[39;49m\u001b[38;5;28;43mself\u001b[39;49m\u001b[38;5;241;43m.\u001b[39;49m\u001b[43m_validate_only\u001b[49m\u001b[43m,\u001b[49m\n\u001b[1;32m    278\u001b[0m \u001b[43m        \u001b[49m\u001b[43mexclude\u001b[49m\u001b[38;5;241;43m=\u001b[39;49m\u001b[38;5;28;43mself\u001b[39;49m\u001b[38;5;241;43m.\u001b[39;49m\u001b[43m_validate_exclude\u001b[49m\u001b[43m,\u001b[49m\n\u001b[1;32m    279\u001b[0m \u001b[43m        \u001b[49m\u001b[43monly_current_env\u001b[49m\u001b[38;5;241;43m=\u001b[39;49m\u001b[38;5;28;43mself\u001b[39;49m\u001b[38;5;241;43m.\u001b[39;49m\u001b[43m_validate_only_current_env\u001b[49m\u001b[43m,\u001b[49m\n\u001b[1;32m    280\u001b[0m \u001b[43m    \u001b[49m\u001b[43m)\u001b[49m\n",
      "File \u001b[0;32m~/Projects/inowas/morpheus/src/backend/.venv/lib/python3.12/site-packages/dynaconf/validator.py:492\u001b[0m, in \u001b[0;36mValidatorList.validate\u001b[0;34m(self, only, exclude, only_current_env)\u001b[0m\n\u001b[1;32m    485\u001b[0m \u001b[38;5;28;01mdef\u001b[39;00m \u001b[38;5;21mvalidate\u001b[39m(\n\u001b[1;32m    486\u001b[0m     \u001b[38;5;28mself\u001b[39m,\n\u001b[1;32m    487\u001b[0m     only: \u001b[38;5;28mstr\u001b[39m \u001b[38;5;241m|\u001b[39m Sequence \u001b[38;5;241m|\u001b[39m \u001b[38;5;28;01mNone\u001b[39;00m \u001b[38;5;241m=\u001b[39m \u001b[38;5;28;01mNone\u001b[39;00m,\n\u001b[1;32m    488\u001b[0m     exclude: \u001b[38;5;28mstr\u001b[39m \u001b[38;5;241m|\u001b[39m Sequence \u001b[38;5;241m|\u001b[39m \u001b[38;5;28;01mNone\u001b[39;00m \u001b[38;5;241m=\u001b[39m \u001b[38;5;28;01mNone\u001b[39;00m,\n\u001b[1;32m    489\u001b[0m     only_current_env: \u001b[38;5;28mbool\u001b[39m \u001b[38;5;241m=\u001b[39m \u001b[38;5;28;01mFalse\u001b[39;00m,\n\u001b[1;32m    490\u001b[0m ) \u001b[38;5;241m-\u001b[39m\u001b[38;5;241m>\u001b[39m \u001b[38;5;28;01mNone\u001b[39;00m:\n\u001b[1;32m    491\u001b[0m     \u001b[38;5;28;01mfor\u001b[39;00m validator \u001b[38;5;129;01min\u001b[39;00m \u001b[38;5;28mself\u001b[39m:\n\u001b[0;32m--> 492\u001b[0m         \u001b[43mvalidator\u001b[49m\u001b[38;5;241;43m.\u001b[39;49m\u001b[43mvalidate\u001b[49m\u001b[43m(\u001b[49m\n\u001b[1;32m    493\u001b[0m \u001b[43m            \u001b[49m\u001b[38;5;28;43mself\u001b[39;49m\u001b[38;5;241;43m.\u001b[39;49m\u001b[43msettings\u001b[49m\u001b[43m,\u001b[49m\n\u001b[1;32m    494\u001b[0m \u001b[43m            \u001b[49m\u001b[43monly\u001b[49m\u001b[38;5;241;43m=\u001b[39;49m\u001b[43monly\u001b[49m\u001b[43m,\u001b[49m\n\u001b[1;32m    495\u001b[0m \u001b[43m            \u001b[49m\u001b[43mexclude\u001b[49m\u001b[38;5;241;43m=\u001b[39;49m\u001b[43mexclude\u001b[49m\u001b[43m,\u001b[49m\n\u001b[1;32m    496\u001b[0m \u001b[43m            \u001b[49m\u001b[43monly_current_env\u001b[49m\u001b[38;5;241;43m=\u001b[39;49m\u001b[43monly_current_env\u001b[49m\u001b[43m,\u001b[49m\n\u001b[1;32m    497\u001b[0m \u001b[43m        \u001b[49m\u001b[43m)\u001b[49m\n",
      "File \u001b[0;32m~/Projects/inowas/morpheus/src/backend/.venv/lib/python3.12/site-packages/dynaconf/validator.py:216\u001b[0m, in \u001b[0;36mValidator.validate\u001b[0;34m(self, settings, only, exclude, only_current_env)\u001b[0m\n\u001b[1;32m    211\u001b[0m \u001b[38;5;66;03m# If only using current_env, skip using_env decoration (reload)\u001b[39;00m\n\u001b[1;32m    212\u001b[0m \u001b[38;5;28;01mif\u001b[39;00m (\n\u001b[1;32m    213\u001b[0m     \u001b[38;5;28mlen\u001b[39m(\u001b[38;5;28mself\u001b[39m\u001b[38;5;241m.\u001b[39menvs) \u001b[38;5;241m==\u001b[39m \u001b[38;5;241m1\u001b[39m\n\u001b[1;32m    214\u001b[0m     \u001b[38;5;129;01mand\u001b[39;00m \u001b[38;5;28mself\u001b[39m\u001b[38;5;241m.\u001b[39menvs[\u001b[38;5;241m0\u001b[39m]\u001b[38;5;241m.\u001b[39mupper() \u001b[38;5;241m==\u001b[39m settings\u001b[38;5;241m.\u001b[39mcurrent_env\u001b[38;5;241m.\u001b[39mupper()\n\u001b[1;32m    215\u001b[0m ):\n\u001b[0;32m--> 216\u001b[0m     \u001b[38;5;28;43mself\u001b[39;49m\u001b[38;5;241;43m.\u001b[39;49m\u001b[43m_validate_items\u001b[49m\u001b[43m(\u001b[49m\n\u001b[1;32m    217\u001b[0m \u001b[43m        \u001b[49m\u001b[43msettings\u001b[49m\u001b[43m,\u001b[49m\u001b[43m \u001b[49m\u001b[43msettings\u001b[49m\u001b[38;5;241;43m.\u001b[39;49m\u001b[43mcurrent_env\u001b[49m\u001b[43m,\u001b[49m\u001b[43m \u001b[49m\u001b[43monly\u001b[49m\u001b[38;5;241;43m=\u001b[39;49m\u001b[43monly\u001b[49m\u001b[43m,\u001b[49m\u001b[43m \u001b[49m\u001b[43mexclude\u001b[49m\u001b[38;5;241;43m=\u001b[39;49m\u001b[43mexclude\u001b[49m\n\u001b[1;32m    218\u001b[0m \u001b[43m    \u001b[49m\u001b[43m)\u001b[49m\n\u001b[1;32m    219\u001b[0m     \u001b[38;5;28;01mreturn\u001b[39;00m\n\u001b[1;32m    221\u001b[0m \u001b[38;5;28;01mfor\u001b[39;00m env \u001b[38;5;129;01min\u001b[39;00m \u001b[38;5;28mself\u001b[39m\u001b[38;5;241m.\u001b[39menvs:\n",
      "File \u001b[0;32m~/Projects/inowas/morpheus/src/backend/.venv/lib/python3.12/site-packages/dynaconf/validator.py:279\u001b[0m, in \u001b[0;36mValidator._validate_items\u001b[0;34m(self, settings, env, only, exclude)\u001b[0m\n\u001b[1;32m    275\u001b[0m \u001b[38;5;28;01mif\u001b[39;00m \u001b[38;5;28mself\u001b[39m\u001b[38;5;241m.\u001b[39mmust_exist \u001b[38;5;129;01mis\u001b[39;00m \u001b[38;5;28;01mTrue\u001b[39;00m \u001b[38;5;129;01mand\u001b[39;00m value \u001b[38;5;129;01mis\u001b[39;00m empty:\n\u001b[1;32m    276\u001b[0m     _message \u001b[38;5;241m=\u001b[39m \u001b[38;5;28mself\u001b[39m\u001b[38;5;241m.\u001b[39mmessages[\u001b[38;5;124m\"\u001b[39m\u001b[38;5;124mmust_exist_true\u001b[39m\u001b[38;5;124m\"\u001b[39m]\u001b[38;5;241m.\u001b[39mformat(\n\u001b[1;32m    277\u001b[0m         name\u001b[38;5;241m=\u001b[39mname, env\u001b[38;5;241m=\u001b[39menv\n\u001b[1;32m    278\u001b[0m     )\n\u001b[0;32m--> 279\u001b[0m     \u001b[38;5;28;01mraise\u001b[39;00m ValidationError(_message, details\u001b[38;5;241m=\u001b[39m[(\u001b[38;5;28mself\u001b[39m, _message)])\n\u001b[1;32m    281\u001b[0m \u001b[38;5;28;01mif\u001b[39;00m \u001b[38;5;28mself\u001b[39m\u001b[38;5;241m.\u001b[39mmust_exist \u001b[38;5;129;01mis\u001b[39;00m \u001b[38;5;28;01mFalse\u001b[39;00m \u001b[38;5;129;01mand\u001b[39;00m value \u001b[38;5;129;01mis\u001b[39;00m \u001b[38;5;129;01mnot\u001b[39;00m empty:\n\u001b[1;32m    282\u001b[0m     _message \u001b[38;5;241m=\u001b[39m \u001b[38;5;28mself\u001b[39m\u001b[38;5;241m.\u001b[39mmessages[\u001b[38;5;124m\"\u001b[39m\u001b[38;5;124mmust_exist_false\u001b[39m\u001b[38;5;124m\"\u001b[39m]\u001b[38;5;241m.\u001b[39mformat(\n\u001b[1;32m    283\u001b[0m         name\u001b[38;5;241m=\u001b[39mname, env\u001b[38;5;241m=\u001b[39menv\n\u001b[1;32m    284\u001b[0m     )\n",
      "\u001b[0;31mValidationError\u001b[0m: SECRET_KEY is required in env production"
     ]
    }
   ],
   "source": [
    "from morpheus.project.application.write import project_command_bus"
   ]
  },
  {
   "cell_type": "markdown",
   "id": "740a87482c1f1624",
   "metadata": {
    "collapsed": false,
    "papermill": {
     "duration": null,
     "end_time": null,
     "exception": null,
     "start_time": null,
     "status": "pending"
    },
    "tags": []
   },
   "source": [
    "# Create a Project"
   ]
  },
  {
   "cell_type": "code",
   "execution_count": null,
   "id": "932b4fe5bd839f2",
   "metadata": {
    "ExecuteTime": {
     "end_time": "2024-05-15T12:40:48.489912Z",
     "start_time": "2024-05-15T12:40:48.474418Z"
    },
    "collapsed": false,
    "execution": {
     "iopub.execute_input": "2024-05-15T15:21:32.979422Z",
     "iopub.status.busy": "2024-05-15T15:21:32.979046Z",
     "iopub.status.idle": "2024-05-15T15:21:32.989538Z",
     "shell.execute_reply": "2024-05-15T15:21:32.989214Z"
    },
    "papermill": {
     "duration": null,
     "end_time": null,
     "exception": null,
     "start_time": null,
     "status": "pending"
    },
    "tags": []
   },
   "outputs": [],
   "source": [
    "from morpheus.project.types.User import UserId\n",
    "from morpheus.project.types.Project import ProjectId, Name, Description, Tags\n",
    "\n",
    "user_id = UserId.new()\n",
    "project_id = ProjectId.new()\n",
    "name = Name.from_str('Project 1')\n",
    "description = Description.from_str('Description 1')\n",
    "tags = Tags.from_list(['tag1', 'tag2'])\n",
    "\n",
    "from morpheus.project.application.write.Project import CreateProjectCommand, CreateProjectCommandHandler\n",
    "\n",
    "create_project_command = CreateProjectCommand(\n",
    "  project_id=project_id,\n",
    "  name=name,\n",
    "  description=description,\n",
    "  tags=tags,\n",
    "  user_id=user_id\n",
    ")\n",
    "\n",
    "project_command_bus.dispatch(create_project_command)"
   ]
  },
  {
   "cell_type": "markdown",
   "id": "9d52b120aa989d1f",
   "metadata": {
    "collapsed": false,
    "papermill": {
     "duration": null,
     "end_time": null,
     "exception": null,
     "start_time": null,
     "status": "pending"
    },
    "tags": []
   },
   "source": [
    "# Read ProjectList"
   ]
  },
  {
   "cell_type": "code",
   "execution_count": null,
   "id": "56155ec2f19c768d",
   "metadata": {
    "ExecuteTime": {
     "end_time": "2024-05-15T12:40:48.498347Z",
     "start_time": "2024-05-15T12:40:48.490921Z"
    },
    "collapsed": false,
    "execution": {
     "iopub.execute_input": "2024-05-15T15:21:33.001060Z",
     "iopub.status.busy": "2024-05-15T15:21:33.000931Z",
     "iopub.status.idle": "2024-05-15T15:21:33.012251Z",
     "shell.execute_reply": "2024-05-15T15:21:33.011948Z"
    },
    "papermill": {
     "duration": null,
     "end_time": null,
     "exception": null,
     "start_time": null,
     "status": "pending"
    },
    "tags": []
   },
   "outputs": [],
   "source": [
    "from morpheus.project.application.read.ProjectReader import project_reader\n",
    "\n",
    "project_list = project_reader.get_project_summaries()\n",
    "project_list"
   ]
  },
  {
   "cell_type": "markdown",
   "id": "22380477da429c5d",
   "metadata": {
    "collapsed": false,
    "papermill": {
     "duration": null,
     "end_time": null,
     "exception": null,
     "start_time": null,
     "status": "pending"
    },
    "tags": []
   },
   "source": [
    "# Create model"
   ]
  },
  {
   "cell_type": "code",
   "execution_count": null,
   "id": "7db50a89dc6391e5",
   "metadata": {
    "ExecuteTime": {
     "end_time": "2024-05-15T12:40:48.827392Z",
     "start_time": "2024-05-15T12:40:48.499422Z"
    },
    "collapsed": false,
    "execution": {
     "iopub.execute_input": "2024-05-15T15:21:33.025958Z",
     "iopub.status.busy": "2024-05-15T15:21:33.025753Z",
     "iopub.status.idle": "2024-05-15T15:21:33.336902Z",
     "shell.execute_reply": "2024-05-15T15:21:33.336549Z"
    },
    "papermill": {
     "duration": null,
     "end_time": null,
     "exception": null,
     "start_time": null,
     "status": "pending"
    },
    "tags": []
   },
   "outputs": [],
   "source": [
    "from morpheus.project.types.discretization.spatial import Rotation\n",
    "from morpheus.project.types.geometry import Polygon\n",
    "from morpheus.project.types.Model import ModelId\n",
    "from morpheus.project.application.write.Model import CreateModelCommand, CreateModelCommandHandler\n",
    "\n",
    "polygon = Polygon(\n",
    "  type='Polygon',\n",
    "  coordinates=[[\n",
    "    (13.922514437551428, 50.964720483303836),\n",
    "    (13.925250781947113, 50.965228748412386),\n",
    "    (13.925036413951403, 50.96623732041704),\n",
    "    (13.92222441026388, 50.96629040370362),\n",
    "    (13.922514437551428, 50.964720483303836)\n",
    "  ]]\n",
    ")\n",
    "\n",
    "n_cols = 100\n",
    "n_rows = 50\n",
    "rotation = 0.0\n",
    "\n",
    "command = CreateModelCommand(\n",
    "  project_id=project_id,\n",
    "  user_id=user_id,\n",
    "  model_id=ModelId.new(),\n",
    "  geometry=polygon,\n",
    "  n_cols=n_cols,\n",
    "  n_rows=n_rows,\n",
    "  rotation=Rotation.from_float(rotation),\n",
    ")\n",
    "\n",
    "project_command_bus.dispatch(command)"
   ]
  },
  {
   "cell_type": "markdown",
   "id": "cde69ee770d30fc1",
   "metadata": {
    "collapsed": false,
    "papermill": {
     "duration": null,
     "end_time": null,
     "exception": null,
     "start_time": null,
     "status": "pending"
    },
    "tags": []
   },
   "source": [
    "# Read Latest Model"
   ]
  },
  {
   "cell_type": "code",
   "execution_count": null,
   "id": "d2717a59e00a53d1",
   "metadata": {
    "ExecuteTime": {
     "end_time": "2024-05-15T12:40:48.841811Z",
     "start_time": "2024-05-15T12:40:48.829018Z"
    },
    "collapsed": false,
    "execution": {
     "iopub.execute_input": "2024-05-15T15:21:33.352151Z",
     "iopub.status.busy": "2024-05-15T15:21:33.351952Z",
     "iopub.status.idle": "2024-05-15T15:21:33.363493Z",
     "shell.execute_reply": "2024-05-15T15:21:33.363185Z"
    },
    "papermill": {
     "duration": null,
     "end_time": null,
     "exception": null,
     "start_time": null,
     "status": "pending"
    },
    "tags": []
   },
   "outputs": [],
   "source": [
    "from morpheus.project.application.read.ModelReader import ModelReader\n",
    "\n",
    "model_reader = ModelReader()\n",
    "model = model_reader.get_latest_model(project_id)\n",
    "model"
   ]
  },
  {
   "cell_type": "markdown",
   "id": "572a7b334c101e6c",
   "metadata": {
    "collapsed": false,
    "papermill": {
     "duration": null,
     "end_time": null,
     "exception": null,
     "start_time": null,
     "status": "pending"
    },
    "tags": []
   },
   "source": [
    "## Update Model Geometry\n"
   ]
  },
  {
   "cell_type": "code",
   "execution_count": null,
   "id": "c38378d24fc310eb",
   "metadata": {
    "ExecuteTime": {
     "end_time": "2024-05-15T12:40:49.225808Z",
     "start_time": "2024-05-15T12:40:48.842469Z"
    },
    "collapsed": false,
    "execution": {
     "iopub.execute_input": "2024-05-15T15:21:33.380400Z",
     "iopub.status.busy": "2024-05-15T15:21:33.380260Z",
     "iopub.status.idle": "2024-05-15T15:21:33.760885Z",
     "shell.execute_reply": "2024-05-15T15:21:33.760562Z"
    },
    "papermill": {
     "duration": null,
     "end_time": null,
     "exception": null,
     "start_time": null,
     "status": "pending"
    },
    "tags": []
   },
   "outputs": [],
   "source": [
    "from morpheus.project.application.write.Model import UpdateModelGeometryCommandHandler, UpdateModelGeometryCommand\n",
    "\n",
    "new_polygon = Polygon(\n",
    "  type='Polygon',\n",
    "  coordinates=[[\n",
    "    (13.922, 50.965),\n",
    "    (13.925, 50.965),\n",
    "    (13.925, 50.966),\n",
    "    (13.922, 50.966),\n",
    "    (13.922, 50.965)\n",
    "  ]]\n",
    ")\n",
    "\n",
    "command = UpdateModelGeometryCommand(\n",
    "  project_id=project_id,\n",
    "  geometry=new_polygon,\n",
    "  user_id=user_id\n",
    ")\n",
    "\n",
    "project_command_bus.dispatch(command)\n",
    "\n",
    "model_reader = ModelReader()\n",
    "model = model_reader.get_latest_model(project_id)\n",
    "model.spatial_discretization.geometry"
   ]
  },
  {
   "cell_type": "markdown",
   "id": "91c1beb811cc5003",
   "metadata": {
    "collapsed": false,
    "papermill": {
     "duration": null,
     "end_time": null,
     "exception": null,
     "start_time": null,
     "status": "pending"
    },
    "tags": []
   },
   "source": [
    "## Update Model Grid Properties"
   ]
  },
  {
   "cell_type": "code",
   "execution_count": null,
   "id": "3eeeb70e09d71fba",
   "metadata": {
    "ExecuteTime": {
     "end_time": "2024-05-15T12:40:49.361185Z",
     "start_time": "2024-05-15T12:40:49.226555Z"
    },
    "collapsed": false,
    "execution": {
     "iopub.execute_input": "2024-05-15T15:21:33.781362Z",
     "iopub.status.busy": "2024-05-15T15:21:33.781186Z",
     "iopub.status.idle": "2024-05-15T15:21:33.855731Z",
     "shell.execute_reply": "2024-05-15T15:21:33.855343Z"
    },
    "papermill": {
     "duration": null,
     "end_time": null,
     "exception": null,
     "start_time": null,
     "status": "pending"
    },
    "tags": []
   },
   "outputs": [],
   "source": [
    "from morpheus.project.application.write.Model import UpdateModelGridCommandHandler, UpdateModelGridCommand\n",
    "\n",
    "new_del_col_relative = [0, 0.1, 0.2, 0.3, 0.4, 0.5, 0.6, 0.7, 0.8, 0.9, 1]\n",
    "new_del_row_relative = [0, 0.2, 0.4, 0.6, 0.8, 1]\n",
    "\n",
    "command = UpdateModelGridCommand(\n",
    "  project_id=project_id,\n",
    "  user_id=user_id,\n",
    "  n_cols=len(new_del_col_relative),\n",
    "  n_rows=len(new_del_row_relative),\n",
    "  rotation=10,\n",
    ")\n",
    "\n",
    "project_command_bus.dispatch(command)\n",
    "\n",
    "model_reader = ModelReader()\n",
    "model = model_reader.get_latest_model(project_id)\n",
    "print(model.spatial_discretization.geometry)\n",
    "print(model.spatial_discretization.grid)\n",
    "print(model.spatial_discretization.affected_cells.to_dict())"
   ]
  },
  {
   "cell_type": "markdown",
   "id": "2e17bfb7ad5edd8a",
   "metadata": {
    "collapsed": false,
    "papermill": {
     "duration": null,
     "end_time": null,
     "exception": null,
     "start_time": null,
     "status": "pending"
    },
    "tags": []
   },
   "source": [
    "## Update Model Affected Cells"
   ]
  },
  {
   "cell_type": "code",
   "execution_count": null,
   "id": "2125ecf138c64a88",
   "metadata": {
    "ExecuteTime": {
     "end_time": "2024-05-15T12:40:49.378806Z",
     "start_time": "2024-05-15T12:40:49.362811Z"
    },
    "collapsed": false,
    "execution": {
     "iopub.execute_input": "2024-05-15T15:21:33.876371Z",
     "iopub.status.busy": "2024-05-15T15:21:33.876191Z",
     "iopub.status.idle": "2024-05-15T15:21:33.884741Z",
     "shell.execute_reply": "2024-05-15T15:21:33.884381Z"
    },
    "papermill": {
     "duration": null,
     "end_time": null,
     "exception": null,
     "start_time": null,
     "status": "pending"
    },
    "tags": []
   },
   "outputs": [],
   "source": [
    "from morpheus.project.application.write.Model import UpdateModelAffectedCellsCommandHandler, UpdateModelAffectedCellsCommand\n",
    "\n",
    "model_reader = ModelReader()\n",
    "model = model_reader.get_latest_model(project_id=project_id)\n",
    "affected_cells = model.spatial_discretization.affected_cells\n",
    "\n",
    "assert affected_cells.is_active(col=0, row=0) == False\n",
    "affected_cells.set_active(col=0, row=0)\n",
    "assert affected_cells.is_active(col=0, row=0) == True\n",
    "\n",
    "command = UpdateModelAffectedCellsCommand(\n",
    "  project_id=project_id,\n",
    "  affected_cells=affected_cells,\n",
    "  user_id=user_id\n",
    ")\n",
    "\n",
    "project_command_bus.dispatch(command)"
   ]
  },
  {
   "cell_type": "code",
   "execution_count": null,
   "id": "181c8ad99124273c",
   "metadata": {
    "ExecuteTime": {
     "end_time": "2024-05-15T12:40:49.384905Z",
     "start_time": "2024-05-15T12:40:49.380118Z"
    },
    "collapsed": false,
    "execution": {
     "iopub.execute_input": "2024-05-15T15:21:33.896175Z",
     "iopub.status.busy": "2024-05-15T15:21:33.896019Z",
     "iopub.status.idle": "2024-05-15T15:21:33.899664Z",
     "shell.execute_reply": "2024-05-15T15:21:33.899241Z"
    },
    "papermill": {
     "duration": null,
     "end_time": null,
     "exception": null,
     "start_time": null,
     "status": "pending"
    },
    "tags": []
   },
   "outputs": [],
   "source": [
    "model_reader = ModelReader()\n",
    "model = model_reader.get_latest_model(project_id=project_id)\n",
    "affected_cells = model.spatial_discretization.affected_cells\n",
    "assert affected_cells.is_active(col=0, row=0) == True"
   ]
  },
  {
   "cell_type": "markdown",
   "id": "accb680cfa47f091",
   "metadata": {
    "collapsed": false,
    "papermill": {
     "duration": null,
     "end_time": null,
     "exception": null,
     "start_time": null,
     "status": "pending"
    },
    "tags": []
   },
   "source": [
    "## Show Versions of Model so far"
   ]
  },
  {
   "cell_type": "code",
   "execution_count": null,
   "id": "cb4afb5b3dd54cea",
   "metadata": {
    "ExecuteTime": {
     "end_time": "2024-05-15T12:40:49.391528Z",
     "start_time": "2024-05-15T12:40:49.386036Z"
    },
    "collapsed": false,
    "execution": {
     "iopub.execute_input": "2024-05-15T15:21:33.920717Z",
     "iopub.status.busy": "2024-05-15T15:21:33.920463Z",
     "iopub.status.idle": "2024-05-15T15:21:33.924353Z",
     "shell.execute_reply": "2024-05-15T15:21:33.923901Z"
    },
    "papermill": {
     "duration": null,
     "end_time": null,
     "exception": null,
     "start_time": null,
     "status": "pending"
    },
    "tags": []
   },
   "outputs": [],
   "source": [
    "model_reader = ModelReader()\n",
    "model_reader.get_versions(project_id=project_id)"
   ]
  },
  {
   "cell_type": "markdown",
   "id": "c1e717aa2a462cbb",
   "metadata": {
    "collapsed": false,
    "papermill": {
     "duration": null,
     "end_time": null,
     "exception": null,
     "start_time": null,
     "status": "pending"
    },
    "tags": []
   },
   "source": [
    "## Tag Version"
   ]
  },
  {
   "cell_type": "code",
   "execution_count": null,
   "id": "f6001b161c3b63da",
   "metadata": {
    "ExecuteTime": {
     "end_time": "2024-05-15T12:40:49.415322Z",
     "start_time": "2024-05-15T12:40:49.392499Z"
    },
    "collapsed": false,
    "execution": {
     "iopub.execute_input": "2024-05-15T15:21:33.946211Z",
     "iopub.status.busy": "2024-05-15T15:21:33.946047Z",
     "iopub.status.idle": "2024-05-15T15:21:33.955119Z",
     "shell.execute_reply": "2024-05-15T15:21:33.954704Z"
    },
    "papermill": {
     "duration": null,
     "end_time": null,
     "exception": null,
     "start_time": null,
     "status": "pending"
    },
    "tags": []
   },
   "outputs": [],
   "source": [
    "from morpheus.project.application.write.Model import CreateModelVersionCommand, CreateModelVersionCommandHandler\n",
    "from morpheus.project.types.ModelVersion import VersionTag, VersionDescription\n",
    "\n",
    "command = CreateModelVersionCommand(\n",
    "  project_id=project_id,\n",
    "  version_tag=VersionTag('v1.0.0'),\n",
    "  version_description=VersionDescription('Version 1.0.0'),\n",
    "  user_id=user_id\n",
    ")\n",
    "\n",
    "project_command_bus.dispatch(command)"
   ]
  },
  {
   "cell_type": "code",
   "execution_count": null,
   "id": "91ce3ebddf8a88be",
   "metadata": {
    "ExecuteTime": {
     "end_time": "2024-05-15T12:40:49.420143Z",
     "start_time": "2024-05-15T12:40:49.416346Z"
    },
    "collapsed": false,
    "execution": {
     "iopub.execute_input": "2024-05-15T15:21:33.967249Z",
     "iopub.status.busy": "2024-05-15T15:21:33.967009Z",
     "iopub.status.idle": "2024-05-15T15:21:33.970714Z",
     "shell.execute_reply": "2024-05-15T15:21:33.970195Z"
    },
    "papermill": {
     "duration": null,
     "end_time": null,
     "exception": null,
     "start_time": null,
     "status": "pending"
    },
    "tags": []
   },
   "outputs": [],
   "source": [
    "model_reader.get_versions(project_id=project_id)"
   ]
  },
  {
   "cell_type": "code",
   "execution_count": null,
   "id": "98e0fcfb479f8ff8",
   "metadata": {
    "ExecuteTime": {
     "end_time": "2024-05-15T12:40:49.426231Z",
     "start_time": "2024-05-15T12:40:49.420702Z"
    },
    "collapsed": false,
    "execution": {
     "iopub.execute_input": "2024-05-15T15:21:33.983969Z",
     "iopub.status.busy": "2024-05-15T15:21:33.983800Z",
     "iopub.status.idle": "2024-05-15T15:21:33.987477Z",
     "shell.execute_reply": "2024-05-15T15:21:33.987015Z"
    },
    "papermill": {
     "duration": null,
     "end_time": null,
     "exception": null,
     "start_time": null,
     "status": "pending"
    },
    "tags": []
   },
   "outputs": [],
   "source": [
    "version = model_reader.get_version_by_tag(project_id=project_id, tag=VersionTag('v1.0.0'))\n",
    "version"
   ]
  },
  {
   "cell_type": "code",
   "execution_count": null,
   "id": "d447991ac286684f",
   "metadata": {
    "ExecuteTime": {
     "end_time": "2024-05-15T12:40:49.436406Z",
     "start_time": "2024-05-15T12:40:49.429303Z"
    },
    "collapsed": false,
    "execution": {
     "iopub.execute_input": "2024-05-15T15:21:34.000515Z",
     "iopub.status.busy": "2024-05-15T15:21:34.000280Z",
     "iopub.status.idle": "2024-05-15T15:21:34.008611Z",
     "shell.execute_reply": "2024-05-15T15:21:34.007815Z"
    },
    "papermill": {
     "duration": null,
     "end_time": null,
     "exception": null,
     "start_time": null,
     "status": "pending"
    },
    "tags": []
   },
   "outputs": [],
   "source": [
    "from morpheus.project.application.write.Model import UpdateModelVersionDescriptionCommand, UpdateModelVersionDescriptionCommandHandler\n",
    "\n",
    "command = UpdateModelVersionDescriptionCommand(\n",
    "  project_id=project_id,\n",
    "  version_id=version.version_id,\n",
    "  version_description=VersionDescription('Version 1.0.0 - Updated'),\n",
    "  user_id=user_id\n",
    ")\n",
    "\n",
    "project_command_bus.dispatch(command)"
   ]
  },
  {
   "cell_type": "code",
   "execution_count": null,
   "id": "98bd0d67dcdef72c",
   "metadata": {
    "ExecuteTime": {
     "end_time": "2024-05-15T12:40:49.441845Z",
     "start_time": "2024-05-15T12:40:49.437079Z"
    },
    "collapsed": false,
    "execution": {
     "iopub.execute_input": "2024-05-15T15:21:34.022622Z",
     "iopub.status.busy": "2024-05-15T15:21:34.022465Z",
     "iopub.status.idle": "2024-05-15T15:21:34.026202Z",
     "shell.execute_reply": "2024-05-15T15:21:34.025745Z"
    },
    "papermill": {
     "duration": null,
     "end_time": null,
     "exception": null,
     "start_time": null,
     "status": "pending"
    },
    "tags": []
   },
   "outputs": [],
   "source": [
    "version = model_reader.get_version_by_tag(project_id=project_id, tag=VersionTag('v1.0.0'))\n",
    "version.description.to_str()"
   ]
  },
  {
   "cell_type": "markdown",
   "id": "d3450ee74861c27d",
   "metadata": {
    "papermill": {
     "duration": null,
     "end_time": null,
     "exception": null,
     "start_time": null,
     "status": "pending"
    },
    "tags": []
   },
   "source": [
    "# Add well boundary"
   ]
  },
  {
   "cell_type": "code",
   "execution_count": null,
   "id": "364435815cd6954f",
   "metadata": {
    "ExecuteTime": {
     "end_time": "2024-05-15T12:40:49.462632Z",
     "start_time": "2024-05-15T12:40:49.442663Z"
    },
    "execution": {
     "iopub.execute_input": "2024-05-15T15:21:34.050891Z",
     "iopub.status.busy": "2024-05-15T15:21:34.050634Z",
     "iopub.status.idle": "2024-05-15T15:21:34.066777Z",
     "shell.execute_reply": "2024-05-15T15:21:34.066422Z"
    },
    "papermill": {
     "duration": null,
     "end_time": null,
     "exception": null,
     "start_time": null,
     "status": "pending"
    },
    "tags": []
   },
   "outputs": [],
   "source": [
    "from morpheus.project.application.write.Model.AddModelBoundary import AddModelBoundaryCommandPayload\n",
    "from morpheus.project.application.write.Model import AddModelBoundaryCommand\n",
    "\n",
    "payload: AddModelBoundaryCommandPayload = {\n",
    "  'project_id': project_id.to_str(),\n",
    "  'model_id': model.model_id.to_str(),\n",
    "  'boundary_type': 'well',\n",
    "  'boundary_geometry': {\n",
    "    'type': 'Point',\n",
    "    'coordinates': [13.923, 50.965]\n",
    "  },\n",
    "}\n",
    "\n",
    "project_command_bus.dispatch(AddModelBoundaryCommand.from_payload(user_id=user_id, payload=payload))"
   ]
  },
  {
   "cell_type": "markdown",
   "id": "14cbb28e7eba7481",
   "metadata": {
    "papermill": {
     "duration": null,
     "end_time": null,
     "exception": null,
     "start_time": null,
     "status": "pending"
    },
    "tags": []
   },
   "source": [
    "# Read Model Boundaries"
   ]
  },
  {
   "cell_type": "code",
   "execution_count": null,
   "id": "dde2c00f187dbc9c",
   "metadata": {
    "ExecuteTime": {
     "end_time": "2024-05-15T12:40:49.470630Z",
     "start_time": "2024-05-15T12:40:49.464180Z"
    },
    "execution": {
     "iopub.execute_input": "2024-05-15T15:21:34.090999Z",
     "iopub.status.busy": "2024-05-15T15:21:34.090851Z",
     "iopub.status.idle": "2024-05-15T15:21:34.094663Z",
     "shell.execute_reply": "2024-05-15T15:21:34.094345Z"
    },
    "papermill": {
     "duration": null,
     "end_time": null,
     "exception": null,
     "start_time": null,
     "status": "pending"
    },
    "tags": []
   },
   "outputs": [],
   "source": [
    "model = model_reader.get_latest_model(project_id=project_id)\n",
    "model.boundaries"
   ]
  },
  {
   "cell_type": "markdown",
   "id": "23e3edd16ade53a",
   "metadata": {
    "papermill": {
     "duration": null,
     "end_time": null,
     "exception": null,
     "start_time": null,
     "status": "pending"
    },
    "tags": []
   },
   "source": [
    "# Remove Well Boundary"
   ]
  },
  {
   "cell_type": "code",
   "execution_count": null,
   "id": "1bae17b57bc0a1e0",
   "metadata": {
    "ExecuteTime": {
     "end_time": "2024-05-15T12:40:49.488202Z",
     "start_time": "2024-05-15T12:40:49.471812Z"
    },
    "execution": {
     "iopub.execute_input": "2024-05-15T15:21:34.119344Z",
     "iopub.status.busy": "2024-05-15T15:21:34.119146Z",
     "iopub.status.idle": "2024-05-15T15:21:34.127522Z",
     "shell.execute_reply": "2024-05-15T15:21:34.127197Z"
    },
    "papermill": {
     "duration": null,
     "end_time": null,
     "exception": null,
     "start_time": null,
     "status": "pending"
    },
    "tags": []
   },
   "outputs": [],
   "source": [
    "from morpheus.project.application.write.Model.RemoveModelBoundary import RemoveModelBoundaryCommandPayload, RemoveModelBoundaryCommand\n",
    "\n",
    "boundary_id = model.boundaries[0].boundary_id\n",
    "\n",
    "payload: RemoveModelBoundaryCommandPayload = {\n",
    "  'project_id': project_id.to_str(),\n",
    "  'model_id': model.model_id.to_str(),\n",
    "  'boundary_id': boundary_id.to_str(),\n",
    "}\n",
    "\n",
    "project_command_bus.dispatch(RemoveModelBoundaryCommand.from_payload(user_id=user_id, payload=payload))"
   ]
  },
  {
   "cell_type": "code",
   "execution_count": null,
   "id": "db153e9460ab7bc6",
   "metadata": {
    "ExecuteTime": {
     "end_time": "2024-05-15T12:40:49.494090Z",
     "start_time": "2024-05-15T12:40:49.488926Z"
    },
    "execution": {
     "iopub.execute_input": "2024-05-15T15:21:34.140940Z",
     "iopub.status.busy": "2024-05-15T15:21:34.140778Z",
     "iopub.status.idle": "2024-05-15T15:21:34.144734Z",
     "shell.execute_reply": "2024-05-15T15:21:34.144357Z"
    },
    "papermill": {
     "duration": null,
     "end_time": null,
     "exception": null,
     "start_time": null,
     "status": "pending"
    },
    "tags": []
   },
   "outputs": [],
   "source": [
    "model = model_reader.get_latest_model(project_id=project_id)\n",
    "model.boundaries"
   ]
  },
  {
   "cell_type": "code",
   "execution_count": null,
   "id": "dc20739afcda859d",
   "metadata": {
    "ExecuteTime": {
     "end_time": "2024-05-15T12:40:49.496618Z",
     "start_time": "2024-05-15T12:40:49.494770Z"
    },
    "papermill": {
     "duration": null,
     "end_time": null,
     "exception": null,
     "start_time": null,
     "status": "pending"
    },
    "tags": []
   },
   "outputs": [],
   "source": []
  }
 ],
 "metadata": {
  "kernelspec": {
   "display_name": "Python 3",
   "language": "python",
   "name": "python3"
  },
  "language_info": {
   "codemirror_mode": {
    "name": "ipython",
    "version": 3
   },
   "file_extension": ".py",
   "mimetype": "text/x-python",
   "name": "python",
   "nbconvert_exporter": "python",
   "pygments_lexer": "ipython3",
   "version": "3.12.2"
  },
  "papermill": {
   "default_parameters": {},
   "duration": 2.246031,
   "end_time": "2024-05-15T15:40:17.328244",
   "environment_variables": {},
   "exception": true,
   "input_path": "./notebooks/EventSourcingModel.ipynb",
   "output_path": "./notebooks/EventSourcingModel.ipynb",
   "parameters": {},
   "start_time": "2024-05-15T15:40:15.082213",
   "version": "2.6.0"
  }
 },
 "nbformat": 4,
 "nbformat_minor": 5
}