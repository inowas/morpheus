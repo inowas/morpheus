{
 "cells": [
  {
   "cell_type": "markdown",
   "id": "643f6c4207bbc0b0",
   "metadata": {
    "papermill": {
     "duration": 0.009526,
     "end_time": "2024-05-15T16:00:54.545570",
     "exception": false,
     "start_time": "2024-05-15T16:00:54.536044",
     "status": "completed"
    },
    "tags": []
   },
   "source": [
    "# Initialize Morpheus"
   ]
  },
  {
   "cell_type": "code",
   "id": "9a429500dc402140",
   "metadata": {
    "execution": {
     "iopub.execute_input": "2024-05-15T16:00:54.558617Z",
     "iopub.status.busy": "2024-05-15T16:00:54.558359Z",
     "iopub.status.idle": "2024-05-15T16:00:56.078192Z",
     "shell.execute_reply": "2024-05-15T16:00:56.077902Z"
    },
    "papermill": {
     "duration": 1.526796,
     "end_time": "2024-05-15T16:00:56.079255",
     "exception": false,
     "start_time": "2024-05-15T16:00:54.552459",
     "status": "completed"
    },
    "tags": [],
    "ExecuteTime": {
     "end_time": "2024-06-21T09:36:18.618216Z",
     "start_time": "2024-06-21T09:36:12.527732Z"
    }
   },
   "source": [
    "from morpheus.project.application.write import project_command_bus"
   ],
   "outputs": [],
   "execution_count": 1
  },
  {
   "cell_type": "markdown",
   "id": "740a87482c1f1624",
   "metadata": {
    "collapsed": false,
    "papermill": {
     "duration": 0.002372,
     "end_time": "2024-05-15T16:00:56.084439",
     "exception": false,
     "start_time": "2024-05-15T16:00:56.082067",
     "status": "completed"
    },
    "tags": []
   },
   "source": [
    "# Create a Project"
   ]
  },
  {
   "metadata": {
    "ExecuteTime": {
     "end_time": "2024-06-21T09:36:19.674951Z",
     "start_time": "2024-06-21T09:36:19.660846Z"
    }
   },
   "cell_type": "code",
   "source": [
    "from morpheus.common.types.identity.Identity import UserId\n",
    "from morpheus.project.types.Project import ProjectId, Name, Description, Tags\n",
    "\n",
    "user_id = UserId.new()\n",
    "project_id = ProjectId.new()\n",
    "name = Name.from_str('Project 1')\n",
    "description = Description.from_str('Description 1')\n",
    "tags = Tags.from_list(['tag1', 'tag2'])\n",
    "\n",
    "from morpheus.project.application.write.Project import CreateProjectCommand\n",
    "\n",
    "create_project_command = CreateProjectCommand(\n",
    "  project_id=project_id,\n",
    "  name=name,\n",
    "  description=description,\n",
    "  tags=tags,\n",
    "  user_id=user_id\n",
    ")\n",
    "\n",
    "project_command_bus.dispatch(create_project_command)"
   ],
   "id": "c723c2c59a1093d3",
   "outputs": [],
   "execution_count": 2
  },
  {
   "metadata": {},
   "cell_type": "markdown",
   "source": "# Read ProjectList",
   "id": "dd68d181baa2190b"
  },
  {
   "metadata": {
    "ExecuteTime": {
     "end_time": "2024-06-21T09:36:21.574022Z",
     "start_time": "2024-06-21T09:36:21.548379Z"
    }
   },
   "cell_type": "code",
   "source": [
    "from morpheus.common.types.identity.Identity import Identity\n",
    "from morpheus.project.application.read.ProjectReader import project_reader\n",
    "\n",
    "identity = Identity(user_id=UserId.new(), group_ids=[], is_admin=True)\n",
    "project_list = project_reader.get_project_summaries_with_user_privileges_for_identity(identity)\n",
    "project_list"
   ],
   "id": "986927b438b9ef11",
   "outputs": [
    {
     "data": {
      "text/plain": [
       "[(ProjectSummary(project_id=ProjectId(value='256fbece-6fcf-43cc-9b52-363172dcabae'), project_name=Name(value='Notebook Project 1_0'), project_description=Description(value='This is project 1_0 created in a notebook'), project_tags=Tags(value=[]), owner_id=UserId(value='5b5a1041-a0df-4a27-8599-70aed87f8a5d'), visibility=<Visibility.PRIVATE: 'private'>, created_at=DateTime(value=datetime.datetime(2024, 6, 20, 9, 58, 16, 343155)), updated_at=DateTime(value=datetime.datetime(2024, 6, 20, 9, 58, 16, 343155))),\n",
       "  [<Privilege.FULL_ACCESS: 'Full Access'>]),\n",
       " (ProjectSummary(project_id=ProjectId(value='c7efd6d9-e265-4dcc-915d-8625552d1b30'), project_name=Name(value='Notebook Project 1_1'), project_description=Description(value='This is project 1_1 created in a notebook'), project_tags=Tags(value=[]), owner_id=UserId(value='5b5a1041-a0df-4a27-8599-70aed87f8a5d'), visibility=<Visibility.PRIVATE: 'private'>, created_at=DateTime(value=datetime.datetime(2024, 6, 20, 9, 58, 16, 355237)), updated_at=DateTime(value=datetime.datetime(2024, 6, 20, 9, 58, 16, 355237))),\n",
       "  [<Privilege.FULL_ACCESS: 'Full Access'>]),\n",
       " (ProjectSummary(project_id=ProjectId(value='6fca31f1-3d76-414b-ba12-39960e1a4644'), project_name=Name(value='Notebook Project 2_0'), project_description=Description(value='This is project 2_0 created in a notebook'), project_tags=Tags(value=[]), owner_id=UserId(value='ee4eb03c-a344-4a20-b8b7-9000d37df519'), visibility=<Visibility.PRIVATE: 'private'>, created_at=DateTime(value=datetime.datetime(2024, 6, 20, 9, 58, 16, 362097)), updated_at=DateTime(value=datetime.datetime(2024, 6, 20, 9, 58, 16, 362097))),\n",
       "  [<Privilege.FULL_ACCESS: 'Full Access'>]),\n",
       " (ProjectSummary(project_id=ProjectId(value='a22e4231-da8f-40ba-aa84-d57d5fcc639e'), project_name=Name(value='Notebook Project 2_1'), project_description=Description(value='This is project 2_1 created in a notebook'), project_tags=Tags(value=[]), owner_id=UserId(value='ee4eb03c-a344-4a20-b8b7-9000d37df519'), visibility=<Visibility.PRIVATE: 'private'>, created_at=DateTime(value=datetime.datetime(2024, 6, 20, 9, 58, 16, 369520)), updated_at=DateTime(value=datetime.datetime(2024, 6, 20, 9, 58, 16, 369520))),\n",
       "  [<Privilege.FULL_ACCESS: 'Full Access'>]),\n",
       " (ProjectSummary(project_id=ProjectId(value='6541bab0-6f0b-4a03-a6f5-f9534525d818'), project_name=Name(value='Notebook Project 2_2'), project_description=Description(value='This is project 2_2 created in a notebook'), project_tags=Tags(value=[]), owner_id=UserId(value='ee4eb03c-a344-4a20-b8b7-9000d37df519'), visibility=<Visibility.PRIVATE: 'private'>, created_at=DateTime(value=datetime.datetime(2024, 6, 20, 9, 58, 16, 379574)), updated_at=DateTime(value=datetime.datetime(2024, 6, 20, 9, 58, 16, 379574))),\n",
       "  [<Privilege.FULL_ACCESS: 'Full Access'>]),\n",
       " (ProjectSummary(project_id=ProjectId(value='2946ac9b-ca3a-4dbf-8ffd-2b88113aacfa'), project_name=Name(value='Public Project'), project_description=Description(value='This is a public project created in a notebook'), project_tags=Tags(value=[]), owner_id=UserId(value='e1a04e67-ac0d-448c-b9a1-c97113a3fc29'), visibility=<Visibility.PUBLIC: 'public'>, created_at=DateTime(value=datetime.datetime(2024, 6, 20, 9, 58, 16, 394426)), updated_at=DateTime(value=datetime.datetime(2024, 6, 20, 9, 58, 16, 394426))),\n",
       "  [<Privilege.FULL_ACCESS: 'Full Access'>]),\n",
       " (ProjectSummary(project_id=ProjectId(value='46fd9e25-8b4a-4653-b0be-885fe806ef52'), project_name=Name(value='Test1'), project_description=Description(value='My first project'), project_tags=Tags(value=['Wand', 'Schrank', 'Schüssel']), owner_id=UserId(value='271e33e5-7caf-4baa-90e9-c3ca50f9c1bf'), visibility=<Visibility.PRIVATE: 'private'>, created_at=DateTime(value=datetime.datetime(2024, 6, 20, 13, 44, 16, 924284)), updated_at=DateTime(value=datetime.datetime(2024, 6, 20, 13, 44, 16, 924284))),\n",
       "  [<Privilege.FULL_ACCESS: 'Full Access'>]),\n",
       " (ProjectSummary(project_id=ProjectId(value='b31ddd89-79a1-473d-8935-a88c3c83921a'), project_name=Name(value='Project 1'), project_description=Description(value='Description 1'), project_tags=Tags(value=['tag1', 'tag2']), owner_id=UserId(value='7801e27e-e6b5-4b7e-9fd8-fe8a7a1a2a4c'), visibility=<Visibility.PRIVATE: 'private'>, created_at=DateTime(value=datetime.datetime(2024, 6, 20, 13, 48, 36, 405689)), updated_at=DateTime(value=datetime.datetime(2024, 6, 20, 13, 48, 36, 405689))),\n",
       "  [<Privilege.FULL_ACCESS: 'Full Access'>]),\n",
       " (ProjectSummary(project_id=ProjectId(value='90759c79-218a-450e-9755-da3ab66e02fe'), project_name=Name(value='Project 1'), project_description=Description(value='Description 1'), project_tags=Tags(value=['tag1', 'tag2']), owner_id=UserId(value='45fa8087-1b19-4f1f-a9e2-bf4362392f94'), visibility=<Visibility.PRIVATE: 'private'>, created_at=DateTime(value=datetime.datetime(2024, 6, 20, 13, 48, 54, 239958)), updated_at=DateTime(value=datetime.datetime(2024, 6, 20, 13, 48, 54, 239958))),\n",
       "  [<Privilege.FULL_ACCESS: 'Full Access'>]),\n",
       " (ProjectSummary(project_id=ProjectId(value='7aead75c-5e39-4654-a833-d02280bf87c6'), project_name=Name(value='Notebook Project 1_0'), project_description=Description(value='This is project 1_0 created in a notebook'), project_tags=Tags(value=[]), owner_id=UserId(value='906a0fd0-7c38-4dda-b669-e4e334f68612'), visibility=<Visibility.PRIVATE: 'private'>, created_at=DateTime(value=datetime.datetime(2024, 6, 20, 15, 57, 28, 934520)), updated_at=DateTime(value=datetime.datetime(2024, 6, 20, 15, 57, 28, 934520))),\n",
       "  [<Privilege.FULL_ACCESS: 'Full Access'>]),\n",
       " (ProjectSummary(project_id=ProjectId(value='6615c2b6-af06-49ea-a11a-9d06e89fa4fe'), project_name=Name(value='Notebook Project 1_1'), project_description=Description(value='This is project 1_1 created in a notebook'), project_tags=Tags(value=[]), owner_id=UserId(value='906a0fd0-7c38-4dda-b669-e4e334f68612'), visibility=<Visibility.PRIVATE: 'private'>, created_at=DateTime(value=datetime.datetime(2024, 6, 20, 15, 57, 28, 941659)), updated_at=DateTime(value=datetime.datetime(2024, 6, 20, 15, 57, 28, 941659))),\n",
       "  [<Privilege.FULL_ACCESS: 'Full Access'>]),\n",
       " (ProjectSummary(project_id=ProjectId(value='bf17a95b-ca06-411f-8b8b-bfe99e313c35'), project_name=Name(value='Notebook Project 2_0'), project_description=Description(value='This is project 2_0 created in a notebook'), project_tags=Tags(value=[]), owner_id=UserId(value='432e0568-1103-4088-8c2a-d5ddae1f788f'), visibility=<Visibility.PRIVATE: 'private'>, created_at=DateTime(value=datetime.datetime(2024, 6, 20, 15, 57, 28, 946528)), updated_at=DateTime(value=datetime.datetime(2024, 6, 20, 15, 57, 28, 946528))),\n",
       "  [<Privilege.FULL_ACCESS: 'Full Access'>]),\n",
       " (ProjectSummary(project_id=ProjectId(value='eec62715-deb0-4b9b-971e-fd1954e066cc'), project_name=Name(value='Notebook Project 2_1'), project_description=Description(value='This is project 2_1 created in a notebook'), project_tags=Tags(value=[]), owner_id=UserId(value='432e0568-1103-4088-8c2a-d5ddae1f788f'), visibility=<Visibility.PRIVATE: 'private'>, created_at=DateTime(value=datetime.datetime(2024, 6, 20, 15, 57, 28, 951158)), updated_at=DateTime(value=datetime.datetime(2024, 6, 20, 15, 57, 28, 951158))),\n",
       "  [<Privilege.FULL_ACCESS: 'Full Access'>]),\n",
       " (ProjectSummary(project_id=ProjectId(value='82a62c01-ceb6-451d-9233-e29341bbbe15'), project_name=Name(value='Notebook Project 2_2'), project_description=Description(value='This is project 2_2 created in a notebook'), project_tags=Tags(value=[]), owner_id=UserId(value='432e0568-1103-4088-8c2a-d5ddae1f788f'), visibility=<Visibility.PRIVATE: 'private'>, created_at=DateTime(value=datetime.datetime(2024, 6, 20, 15, 57, 28, 956215)), updated_at=DateTime(value=datetime.datetime(2024, 6, 20, 15, 57, 28, 956215))),\n",
       "  [<Privilege.FULL_ACCESS: 'Full Access'>]),\n",
       " (ProjectSummary(project_id=ProjectId(value='6f409f7e-30d0-43af-84d6-394f049435ee'), project_name=Name(value='Public Project'), project_description=Description(value='This is a public project created in a notebook'), project_tags=Tags(value=[]), owner_id=UserId(value='633f147f-3aa3-4750-add8-0259e9fdc7c0'), visibility=<Visibility.PUBLIC: 'public'>, created_at=DateTime(value=datetime.datetime(2024, 6, 20, 15, 57, 28, 961724)), updated_at=DateTime(value=datetime.datetime(2024, 6, 20, 15, 57, 28, 961724))),\n",
       "  [<Privilege.FULL_ACCESS: 'Full Access'>]),\n",
       " (ProjectSummary(project_id=ProjectId(value='20154312-be2d-46f6-bf59-6905d7958ef9'), project_name=Name(value='Project 1'), project_description=Description(value='Description 1'), project_tags=Tags(value=['tag1', 'tag2']), owner_id=UserId(value='be98097e-71f6-434d-b9d1-11883834a620'), visibility=<Visibility.PRIVATE: 'private'>, created_at=DateTime(value=datetime.datetime(2024, 6, 20, 19, 17, 44, 220503)), updated_at=DateTime(value=datetime.datetime(2024, 6, 20, 19, 17, 44, 220503))),\n",
       "  [<Privilege.FULL_ACCESS: 'Full Access'>]),\n",
       " (ProjectSummary(project_id=ProjectId(value='dee023af-ac8c-41f1-bc6f-18bd7ade2316'), project_name=Name(value='Project 1'), project_description=Description(value='Description 1'), project_tags=Tags(value=['tag1', 'tag2']), owner_id=UserId(value='fe2e128d-f022-46a6-839e-5c97b381ebc0'), visibility=<Visibility.PRIVATE: 'private'>, created_at=DateTime(value=datetime.datetime(2024, 6, 20, 19, 18, 15, 407909)), updated_at=DateTime(value=datetime.datetime(2024, 6, 20, 19, 18, 15, 407909))),\n",
       "  [<Privilege.FULL_ACCESS: 'Full Access'>]),\n",
       " (ProjectSummary(project_id=ProjectId(value='ef8d6605-90c7-4cae-acc9-90baf66a4955'), project_name=Name(value='Notebook Project 1_0'), project_description=Description(value='This is project 1_0 created in a notebook'), project_tags=Tags(value=[]), owner_id=UserId(value='0e964e84-afb7-40dd-ac33-6a892aac51af'), visibility=<Visibility.PRIVATE: 'private'>, created_at=DateTime(value=datetime.datetime(2024, 6, 20, 19, 45, 55, 613508)), updated_at=DateTime(value=datetime.datetime(2024, 6, 20, 19, 45, 55, 613508))),\n",
       "  [<Privilege.FULL_ACCESS: 'Full Access'>]),\n",
       " (ProjectSummary(project_id=ProjectId(value='cc3ed659-b2d3-44a4-a6ff-3be1b308c549'), project_name=Name(value='Notebook Project 1_1'), project_description=Description(value='This is project 1_1 created in a notebook'), project_tags=Tags(value=[]), owner_id=UserId(value='0e964e84-afb7-40dd-ac33-6a892aac51af'), visibility=<Visibility.PRIVATE: 'private'>, created_at=DateTime(value=datetime.datetime(2024, 6, 20, 19, 45, 55, 617647)), updated_at=DateTime(value=datetime.datetime(2024, 6, 20, 19, 45, 55, 617647))),\n",
       "  [<Privilege.FULL_ACCESS: 'Full Access'>]),\n",
       " (ProjectSummary(project_id=ProjectId(value='d300361c-7463-458f-8e42-661c361e2c97'), project_name=Name(value='Notebook Project 2_0'), project_description=Description(value='This is project 2_0 created in a notebook'), project_tags=Tags(value=[]), owner_id=UserId(value='692bef33-8bfc-42b1-b0a4-894586b0d3f2'), visibility=<Visibility.PRIVATE: 'private'>, created_at=DateTime(value=datetime.datetime(2024, 6, 20, 19, 45, 55, 621578)), updated_at=DateTime(value=datetime.datetime(2024, 6, 20, 19, 45, 55, 621578))),\n",
       "  [<Privilege.FULL_ACCESS: 'Full Access'>]),\n",
       " (ProjectSummary(project_id=ProjectId(value='4acfd1aa-c276-404e-9106-f6c8cb64a99c'), project_name=Name(value='Notebook Project 2_1'), project_description=Description(value='This is project 2_1 created in a notebook'), project_tags=Tags(value=[]), owner_id=UserId(value='692bef33-8bfc-42b1-b0a4-894586b0d3f2'), visibility=<Visibility.PRIVATE: 'private'>, created_at=DateTime(value=datetime.datetime(2024, 6, 20, 19, 45, 55, 625501)), updated_at=DateTime(value=datetime.datetime(2024, 6, 20, 19, 45, 55, 625501))),\n",
       "  [<Privilege.FULL_ACCESS: 'Full Access'>]),\n",
       " (ProjectSummary(project_id=ProjectId(value='0b61dd7b-bfd5-4ac9-9cc4-79bbf0dccaca'), project_name=Name(value='Notebook Project 2_2'), project_description=Description(value='This is project 2_2 created in a notebook'), project_tags=Tags(value=[]), owner_id=UserId(value='692bef33-8bfc-42b1-b0a4-894586b0d3f2'), visibility=<Visibility.PRIVATE: 'private'>, created_at=DateTime(value=datetime.datetime(2024, 6, 20, 19, 45, 55, 629209)), updated_at=DateTime(value=datetime.datetime(2024, 6, 20, 19, 45, 55, 629209))),\n",
       "  [<Privilege.FULL_ACCESS: 'Full Access'>]),\n",
       " (ProjectSummary(project_id=ProjectId(value='b54706da-9b0c-4350-b594-72cffb3b61d4'), project_name=Name(value='Public Project'), project_description=Description(value='This is a public project created in a notebook'), project_tags=Tags(value=[]), owner_id=UserId(value='e153c3a4-c1d2-460f-80cc-30c5b8dab7e3'), visibility=<Visibility.PUBLIC: 'public'>, created_at=DateTime(value=datetime.datetime(2024, 6, 20, 19, 45, 55, 633713)), updated_at=DateTime(value=datetime.datetime(2024, 6, 20, 19, 45, 55, 633713))),\n",
       "  [<Privilege.FULL_ACCESS: 'Full Access'>]),\n",
       " (ProjectSummary(project_id=ProjectId(value='b71dc977-1e0a-4dcd-87ce-d137900159fa'), project_name=Name(value='Notebook Project 1_0'), project_description=Description(value='This is project 1_0 created in a notebook'), project_tags=Tags(value=[]), owner_id=UserId(value='51ea59ca-2394-48ca-b2bd-7d8644cfd270'), visibility=<Visibility.PRIVATE: 'private'>, created_at=DateTime(value=datetime.datetime(2024, 6, 20, 19, 46, 7, 476553)), updated_at=DateTime(value=datetime.datetime(2024, 6, 20, 19, 46, 7, 476553))),\n",
       "  [<Privilege.FULL_ACCESS: 'Full Access'>]),\n",
       " (ProjectSummary(project_id=ProjectId(value='4a8d3d5c-2c0f-4435-9f1d-08332a7f6a36'), project_name=Name(value='Notebook Project 1_1'), project_description=Description(value='This is project 1_1 created in a notebook'), project_tags=Tags(value=[]), owner_id=UserId(value='51ea59ca-2394-48ca-b2bd-7d8644cfd270'), visibility=<Visibility.PRIVATE: 'private'>, created_at=DateTime(value=datetime.datetime(2024, 6, 20, 19, 46, 7, 484809)), updated_at=DateTime(value=datetime.datetime(2024, 6, 20, 19, 46, 7, 484809))),\n",
       "  [<Privilege.FULL_ACCESS: 'Full Access'>]),\n",
       " (ProjectSummary(project_id=ProjectId(value='2a7948a9-1bb5-4850-8168-4d17f084719a'), project_name=Name(value='Notebook Project 2_0'), project_description=Description(value='This is project 2_0 created in a notebook'), project_tags=Tags(value=[]), owner_id=UserId(value='74cac485-2781-49e4-8f80-9566f87d99ad'), visibility=<Visibility.PRIVATE: 'private'>, created_at=DateTime(value=datetime.datetime(2024, 6, 20, 19, 46, 7, 490234)), updated_at=DateTime(value=datetime.datetime(2024, 6, 20, 19, 46, 7, 490234))),\n",
       "  [<Privilege.FULL_ACCESS: 'Full Access'>]),\n",
       " (ProjectSummary(project_id=ProjectId(value='1eaaaca1-5382-43fd-890c-94043860dcb0'), project_name=Name(value='Notebook Project 2_1'), project_description=Description(value='This is project 2_1 created in a notebook'), project_tags=Tags(value=[]), owner_id=UserId(value='74cac485-2781-49e4-8f80-9566f87d99ad'), visibility=<Visibility.PRIVATE: 'private'>, created_at=DateTime(value=datetime.datetime(2024, 6, 20, 19, 46, 7, 494927)), updated_at=DateTime(value=datetime.datetime(2024, 6, 20, 19, 46, 7, 494927))),\n",
       "  [<Privilege.FULL_ACCESS: 'Full Access'>]),\n",
       " (ProjectSummary(project_id=ProjectId(value='358fa970-def8-4667-8c7f-c52651801654'), project_name=Name(value='Notebook Project 2_2'), project_description=Description(value='This is project 2_2 created in a notebook'), project_tags=Tags(value=[]), owner_id=UserId(value='74cac485-2781-49e4-8f80-9566f87d99ad'), visibility=<Visibility.PRIVATE: 'private'>, created_at=DateTime(value=datetime.datetime(2024, 6, 20, 19, 46, 7, 499395)), updated_at=DateTime(value=datetime.datetime(2024, 6, 20, 19, 46, 7, 499395))),\n",
       "  [<Privilege.FULL_ACCESS: 'Full Access'>]),\n",
       " (ProjectSummary(project_id=ProjectId(value='6a66870a-76ae-4eb6-88cb-c2418e73bdb8'), project_name=Name(value='Public Project'), project_description=Description(value='This is a public project created in a notebook'), project_tags=Tags(value=[]), owner_id=UserId(value='ce3c4d80-4c45-46fa-a756-679933a3e8d6'), visibility=<Visibility.PUBLIC: 'public'>, created_at=DateTime(value=datetime.datetime(2024, 6, 20, 19, 46, 7, 505617)), updated_at=DateTime(value=datetime.datetime(2024, 6, 20, 19, 46, 7, 505617))),\n",
       "  [<Privilege.FULL_ACCESS: 'Full Access'>]),\n",
       " (ProjectSummary(project_id=ProjectId(value='1778d65f-c1fb-41d3-a62d-12c65f3f5ae7'), project_name=Name(value='Project 1'), project_description=Description(value='Description 1'), project_tags=Tags(value=['tag1', 'tag2']), owner_id=UserId(value='babcb5f1-5d40-4c2a-8d69-fc58ee142a72'), visibility=<Visibility.PRIVATE: 'private'>, created_at=DateTime(value=datetime.datetime(2024, 6, 21, 11, 33, 25, 303971)), updated_at=DateTime(value=datetime.datetime(2024, 6, 21, 11, 33, 25, 303971))),\n",
       "  [<Privilege.FULL_ACCESS: 'Full Access'>]),\n",
       " (ProjectSummary(project_id=ProjectId(value='2d40cbb7-5af4-45ca-b835-ea42358146aa'), project_name=Name(value='Project 1'), project_description=Description(value='Description 1'), project_tags=Tags(value=['tag1', 'tag2']), owner_id=UserId(value='cdf916d8-7768-47a2-bfd2-46ae14097e80'), visibility=<Visibility.PRIVATE: 'private'>, created_at=DateTime(value=datetime.datetime(2024, 6, 21, 11, 36, 19, 665953)), updated_at=DateTime(value=datetime.datetime(2024, 6, 21, 11, 36, 19, 665953))),\n",
       "  [<Privilege.FULL_ACCESS: 'Full Access'>])]"
      ]
     },
     "execution_count": 3,
     "metadata": {},
     "output_type": "execute_result"
    }
   ],
   "execution_count": 3
  },
  {
   "cell_type": "markdown",
   "id": "22380477da429c5d",
   "metadata": {
    "collapsed": false,
    "papermill": {
     "duration": 0.002644,
     "end_time": "2024-05-15T16:00:56.122505",
     "exception": false,
     "start_time": "2024-05-15T16:00:56.119861",
     "status": "completed"
    },
    "tags": []
   },
   "source": [
    "# Create model"
   ]
  },
  {
   "cell_type": "code",
   "id": "7db50a89dc6391e5",
   "metadata": {
    "collapsed": false,
    "execution": {
     "iopub.execute_input": "2024-05-15T16:00:56.128276Z",
     "iopub.status.busy": "2024-05-15T16:00:56.128137Z",
     "iopub.status.idle": "2024-05-15T16:00:56.506646Z",
     "shell.execute_reply": "2024-05-15T16:00:56.506388Z"
    },
    "papermill": {
     "duration": 0.382629,
     "end_time": "2024-05-15T16:00:56.507650",
     "exception": false,
     "start_time": "2024-05-15T16:00:56.125021",
     "status": "completed"
    },
    "tags": []
   },
   "source": [
    "from morpheus.project.types.discretization.spatial import Rotation\n",
    "from morpheus.project.types.geometry import Polygon\n",
    "from morpheus.project.types.Model import ModelId\n",
    "from morpheus.project.application.write.Model import CreateModelCommand\n",
    "\n",
    "polygon = Polygon(\n",
    "  type='Polygon',\n",
    "  coordinates=[[\n",
    "    (13.922514437551428, 50.964720483303836),\n",
    "    (13.925250781947113, 50.965228748412386),\n",
    "    (13.925036413951403, 50.96623732041704),\n",
    "    (13.92222441026388, 50.96629040370362),\n",
    "    (13.922514437551428, 50.964720483303836)\n",
    "  ]]\n",
    ")\n",
    "\n",
    "n_cols = 100\n",
    "n_rows = 50\n",
    "rotation = 0.0\n",
    "\n",
    "command = CreateModelCommand(\n",
    "  project_id=project_id,\n",
    "  user_id=user_id,\n",
    "  model_id=ModelId.new(),\n",
    "  geometry=polygon,\n",
    "  n_cols=n_cols,\n",
    "  n_rows=n_rows,\n",
    "  rotation=Rotation.from_float(rotation),\n",
    ")\n",
    "\n",
    "project_command_bus.dispatch(command)"
   ],
   "outputs": [],
   "execution_count": null
  },
  {
   "cell_type": "markdown",
   "id": "cde69ee770d30fc1",
   "metadata": {
    "collapsed": false,
    "papermill": {
     "duration": 0.002555,
     "end_time": "2024-05-15T16:00:56.513254",
     "exception": false,
     "start_time": "2024-05-15T16:00:56.510699",
     "status": "completed"
    },
    "tags": []
   },
   "source": [
    "# Read Latest Model"
   ]
  },
  {
   "cell_type": "code",
   "id": "d2717a59e00a53d1",
   "metadata": {
    "collapsed": false,
    "execution": {
     "iopub.execute_input": "2024-05-15T16:00:56.518945Z",
     "iopub.status.busy": "2024-05-15T16:00:56.518817Z",
     "iopub.status.idle": "2024-05-15T16:00:56.529088Z",
     "shell.execute_reply": "2024-05-15T16:00:56.528849Z"
    },
    "papermill": {
     "duration": 0.01421,
     "end_time": "2024-05-15T16:00:56.529968",
     "exception": false,
     "start_time": "2024-05-15T16:00:56.515758",
     "status": "completed"
    },
    "tags": []
   },
   "source": [
    "from morpheus.project.application.read.ModelReader import ModelReader\n",
    "\n",
    "model_reader = ModelReader()\n",
    "model = model_reader.get_latest_model(project_id)\n",
    "model"
   ],
   "outputs": [],
   "execution_count": null
  },
  {
   "cell_type": "markdown",
   "id": "572a7b334c101e6c",
   "metadata": {
    "collapsed": false,
    "papermill": {
     "duration": 0.002803,
     "end_time": "2024-05-15T16:00:56.535801",
     "exception": false,
     "start_time": "2024-05-15T16:00:56.532998",
     "status": "completed"
    },
    "tags": []
   },
   "source": [
    "## Update Model Geometry\n"
   ]
  },
  {
   "cell_type": "code",
   "id": "c38378d24fc310eb",
   "metadata": {
    "collapsed": false,
    "execution": {
     "iopub.execute_input": "2024-05-15T16:00:56.541978Z",
     "iopub.status.busy": "2024-05-15T16:00:56.541826Z",
     "iopub.status.idle": "2024-05-15T16:00:56.929648Z",
     "shell.execute_reply": "2024-05-15T16:00:56.929350Z"
    },
    "papermill": {
     "duration": 0.391972,
     "end_time": "2024-05-15T16:00:56.930580",
     "exception": false,
     "start_time": "2024-05-15T16:00:56.538608",
     "status": "completed"
    },
    "tags": []
   },
   "source": [
    "from morpheus.project.application.write.Model import UpdateModelGeometryCommand\n",
    "\n",
    "new_polygon = Polygon(\n",
    "  type='Polygon',\n",
    "  coordinates=[[\n",
    "    (13.922, 50.965),\n",
    "    (13.925, 50.965),\n",
    "    (13.925, 50.966),\n",
    "    (13.922, 50.966),\n",
    "    (13.922, 50.965)\n",
    "  ]]\n",
    ")\n",
    "\n",
    "command = UpdateModelGeometryCommand(\n",
    "  project_id=project_id,\n",
    "  geometry=new_polygon,\n",
    "  user_id=user_id\n",
    ")\n",
    "\n",
    "project_command_bus.dispatch(command)\n",
    "\n",
    "model_reader = ModelReader()\n",
    "model = model_reader.get_latest_model(project_id)\n",
    "model.spatial_discretization.geometry"
   ],
   "outputs": [],
   "execution_count": null
  },
  {
   "cell_type": "markdown",
   "id": "91c1beb811cc5003",
   "metadata": {
    "collapsed": false,
    "papermill": {
     "duration": 0.003299,
     "end_time": "2024-05-15T16:00:56.937886",
     "exception": false,
     "start_time": "2024-05-15T16:00:56.934587",
     "status": "completed"
    },
    "tags": []
   },
   "source": [
    "## Update Model Grid Properties"
   ]
  },
  {
   "cell_type": "code",
   "id": "3eeeb70e09d71fba",
   "metadata": {
    "collapsed": false,
    "execution": {
     "iopub.execute_input": "2024-05-15T16:00:56.945079Z",
     "iopub.status.busy": "2024-05-15T16:00:56.944839Z",
     "iopub.status.idle": "2024-05-15T16:00:57.034642Z",
     "shell.execute_reply": "2024-05-15T16:00:57.034371Z"
    },
    "papermill": {
     "duration": 0.094489,
     "end_time": "2024-05-15T16:00:57.035543",
     "exception": false,
     "start_time": "2024-05-15T16:00:56.941054",
     "status": "completed"
    },
    "tags": []
   },
   "source": [
    "from morpheus.project.application.write.Model import UpdateModelGridCommand\n",
    "\n",
    "new_del_col_relative = [0, 0.1, 0.2, 0.3, 0.4, 0.5, 0.6, 0.7, 0.8, 0.9, 1]\n",
    "new_del_row_relative = [0, 0.2, 0.4, 0.6, 0.8, 1]\n",
    "\n",
    "command = UpdateModelGridCommand(\n",
    "  project_id=project_id,\n",
    "  user_id=user_id,\n",
    "  n_cols=len(new_del_col_relative),\n",
    "  n_rows=len(new_del_row_relative),\n",
    "  rotation=10,\n",
    ")\n",
    "\n",
    "project_command_bus.dispatch(command)\n",
    "\n",
    "model_reader = ModelReader()\n",
    "model = model_reader.get_latest_model(project_id)\n",
    "print(model.spatial_discretization.geometry)\n",
    "print(model.spatial_discretization.grid)\n",
    "print(model.spatial_discretization.affected_cells.to_dict())"
   ],
   "outputs": [],
   "execution_count": null
  },
  {
   "cell_type": "markdown",
   "id": "2e17bfb7ad5edd8a",
   "metadata": {
    "collapsed": false,
    "papermill": {
     "duration": 0.003009,
     "end_time": "2024-05-15T16:00:57.042122",
     "exception": false,
     "start_time": "2024-05-15T16:00:57.039113",
     "status": "completed"
    },
    "tags": []
   },
   "source": [
    "## Update Model Affected Cells"
   ]
  },
  {
   "cell_type": "code",
   "id": "2125ecf138c64a88",
   "metadata": {
    "collapsed": false,
    "execution": {
     "iopub.execute_input": "2024-05-15T16:00:57.049179Z",
     "iopub.status.busy": "2024-05-15T16:00:57.049042Z",
     "iopub.status.idle": "2024-05-15T16:00:57.066627Z",
     "shell.execute_reply": "2024-05-15T16:00:57.066350Z"
    },
    "papermill": {
     "duration": 0.022538,
     "end_time": "2024-05-15T16:00:57.067642",
     "exception": false,
     "start_time": "2024-05-15T16:00:57.045104",
     "status": "completed"
    },
    "tags": []
   },
   "source": [
    "from morpheus.project.application.write.Model import UpdateModelAffectedCellsCommand\n",
    "\n",
    "model_reader = ModelReader()\n",
    "model = model_reader.get_latest_model(project_id=project_id)\n",
    "affected_cells = model.spatial_discretization.affected_cells\n",
    "\n",
    "assert affected_cells.is_active(col=0, row=0) == False\n",
    "affected_cells.set_active(col=0, row=0)\n",
    "assert affected_cells.is_active(col=0, row=0) == True\n",
    "\n",
    "command = UpdateModelAffectedCellsCommand(\n",
    "  project_id=project_id,\n",
    "  affected_cells=affected_cells,\n",
    "  user_id=user_id\n",
    ")\n",
    "\n",
    "project_command_bus.dispatch(command)"
   ],
   "outputs": [],
   "execution_count": null
  },
  {
   "cell_type": "code",
   "id": "181c8ad99124273c",
   "metadata": {
    "collapsed": false,
    "execution": {
     "iopub.execute_input": "2024-05-15T16:00:57.075257Z",
     "iopub.status.busy": "2024-05-15T16:00:57.075141Z",
     "iopub.status.idle": "2024-05-15T16:00:57.079681Z",
     "shell.execute_reply": "2024-05-15T16:00:57.079437Z"
    },
    "papermill": {
     "duration": 0.009201,
     "end_time": "2024-05-15T16:00:57.080563",
     "exception": false,
     "start_time": "2024-05-15T16:00:57.071362",
     "status": "completed"
    },
    "tags": []
   },
   "source": [
    "model_reader = ModelReader()\n",
    "model = model_reader.get_latest_model(project_id=project_id)\n",
    "affected_cells = model.spatial_discretization.affected_cells\n",
    "assert affected_cells.is_active(col=0, row=0) == True"
   ],
   "outputs": [],
   "execution_count": null
  },
  {
   "cell_type": "markdown",
   "id": "accb680cfa47f091",
   "metadata": {
    "collapsed": false,
    "papermill": {
     "duration": 0.003321,
     "end_time": "2024-05-15T16:00:57.087320",
     "exception": false,
     "start_time": "2024-05-15T16:00:57.083999",
     "status": "completed"
    },
    "tags": []
   },
   "source": [
    "## Show Versions of Model so far"
   ]
  },
  {
   "cell_type": "code",
   "id": "cb4afb5b3dd54cea",
   "metadata": {
    "collapsed": false,
    "execution": {
     "iopub.execute_input": "2024-05-15T16:00:57.094347Z",
     "iopub.status.busy": "2024-05-15T16:00:57.094173Z",
     "iopub.status.idle": "2024-05-15T16:00:57.098811Z",
     "shell.execute_reply": "2024-05-15T16:00:57.098584Z"
    },
    "papermill": {
     "duration": 0.009005,
     "end_time": "2024-05-15T16:00:57.099555",
     "exception": false,
     "start_time": "2024-05-15T16:00:57.090550",
     "status": "completed"
    },
    "tags": []
   },
   "source": [
    "model_reader = ModelReader()\n",
    "model_reader.get_versions(project_id=project_id)"
   ],
   "outputs": [],
   "execution_count": null
  },
  {
   "cell_type": "markdown",
   "id": "c1e717aa2a462cbb",
   "metadata": {
    "collapsed": false,
    "papermill": {
     "duration": 0.003056,
     "end_time": "2024-05-15T16:00:57.105825",
     "exception": false,
     "start_time": "2024-05-15T16:00:57.102769",
     "status": "completed"
    },
    "tags": []
   },
   "source": [
    "## Tag Version"
   ]
  },
  {
   "cell_type": "code",
   "id": "f6001b161c3b63da",
   "metadata": {
    "collapsed": false,
    "execution": {
     "iopub.execute_input": "2024-05-15T16:00:57.112378Z",
     "iopub.status.busy": "2024-05-15T16:00:57.112275Z",
     "iopub.status.idle": "2024-05-15T16:00:57.133170Z",
     "shell.execute_reply": "2024-05-15T16:00:57.132912Z"
    },
    "papermill": {
     "duration": 0.025156,
     "end_time": "2024-05-15T16:00:57.134040",
     "exception": false,
     "start_time": "2024-05-15T16:00:57.108884",
     "status": "completed"
    },
    "tags": []
   },
   "source": [
    "from morpheus.project.application.write.Model import CreateModelVersionCommand\n",
    "from morpheus.project.types.ModelVersion import VersionTag, VersionDescription\n",
    "\n",
    "command = CreateModelVersionCommand(\n",
    "  project_id=project_id,\n",
    "  version_tag=VersionTag('v1.0.0'),\n",
    "  version_description=VersionDescription('Version 1.0.0'),\n",
    "  user_id=user_id\n",
    ")\n",
    "\n",
    "project_command_bus.dispatch(command)"
   ],
   "outputs": [],
   "execution_count": null
  },
  {
   "cell_type": "code",
   "id": "91ce3ebddf8a88be",
   "metadata": {
    "collapsed": false,
    "execution": {
     "iopub.execute_input": "2024-05-15T16:00:57.141804Z",
     "iopub.status.busy": "2024-05-15T16:00:57.141665Z",
     "iopub.status.idle": "2024-05-15T16:00:57.145528Z",
     "shell.execute_reply": "2024-05-15T16:00:57.145298Z"
    },
    "papermill": {
     "duration": 0.008674,
     "end_time": "2024-05-15T16:00:57.146340",
     "exception": false,
     "start_time": "2024-05-15T16:00:57.137666",
     "status": "completed"
    },
    "tags": []
   },
   "source": [
    "model_reader.get_versions(project_id=project_id)"
   ],
   "outputs": [],
   "execution_count": null
  },
  {
   "cell_type": "code",
   "id": "98e0fcfb479f8ff8",
   "metadata": {
    "collapsed": false,
    "execution": {
     "iopub.execute_input": "2024-05-15T16:00:57.153873Z",
     "iopub.status.busy": "2024-05-15T16:00:57.153745Z",
     "iopub.status.idle": "2024-05-15T16:00:57.157225Z",
     "shell.execute_reply": "2024-05-15T16:00:57.156990Z"
    },
    "papermill": {
     "duration": 0.008072,
     "end_time": "2024-05-15T16:00:57.158021",
     "exception": false,
     "start_time": "2024-05-15T16:00:57.149949",
     "status": "completed"
    },
    "tags": []
   },
   "source": [
    "version = model_reader.get_version_by_tag(project_id=project_id, tag=VersionTag('v1.0.0'))\n",
    "version"
   ],
   "outputs": [],
   "execution_count": null
  },
  {
   "cell_type": "code",
   "id": "d447991ac286684f",
   "metadata": {
    "collapsed": false,
    "execution": {
     "iopub.execute_input": "2024-05-15T16:00:57.165615Z",
     "iopub.status.busy": "2024-05-15T16:00:57.165438Z",
     "iopub.status.idle": "2024-05-15T16:00:57.174940Z",
     "shell.execute_reply": "2024-05-15T16:00:57.174686Z"
    },
    "papermill": {
     "duration": 0.014395,
     "end_time": "2024-05-15T16:00:57.175834",
     "exception": false,
     "start_time": "2024-05-15T16:00:57.161439",
     "status": "completed"
    },
    "tags": []
   },
   "source": [
    "from morpheus.project.application.write.Model import UpdateModelVersionDescriptionCommand\n",
    "\n",
    "command = UpdateModelVersionDescriptionCommand(\n",
    "  project_id=project_id,\n",
    "  version_id=version.version_id,\n",
    "  version_description=VersionDescription('Version 1.0.0 - Updated'),\n",
    "  user_id=user_id\n",
    ")\n",
    "\n",
    "project_command_bus.dispatch(command)"
   ],
   "outputs": [],
   "execution_count": null
  },
  {
   "cell_type": "code",
   "id": "98bd0d67dcdef72c",
   "metadata": {
    "collapsed": false,
    "execution": {
     "iopub.execute_input": "2024-05-15T16:00:57.183427Z",
     "iopub.status.busy": "2024-05-15T16:00:57.183315Z",
     "iopub.status.idle": "2024-05-15T16:00:57.187569Z",
     "shell.execute_reply": "2024-05-15T16:00:57.187344Z"
    },
    "papermill": {
     "duration": 0.008926,
     "end_time": "2024-05-15T16:00:57.188362",
     "exception": false,
     "start_time": "2024-05-15T16:00:57.179436",
     "status": "completed"
    },
    "tags": []
   },
   "source": [
    "version = model_reader.get_version_by_tag(project_id=project_id, tag=VersionTag('v1.0.0'))\n",
    "version.description.to_str()"
   ],
   "outputs": [],
   "execution_count": null
  },
  {
   "cell_type": "markdown",
   "id": "d3450ee74861c27d",
   "metadata": {
    "papermill": {
     "duration": 0.00319,
     "end_time": "2024-05-15T16:00:57.195060",
     "exception": false,
     "start_time": "2024-05-15T16:00:57.191870",
     "status": "completed"
    },
    "tags": []
   },
   "source": [
    "# Add well boundary"
   ]
  },
  {
   "cell_type": "code",
   "id": "364435815cd6954f",
   "metadata": {
    "execution": {
     "iopub.execute_input": "2024-05-15T16:00:57.201829Z",
     "iopub.status.busy": "2024-05-15T16:00:57.201723Z",
     "iopub.status.idle": "2024-05-15T16:00:57.223894Z",
     "shell.execute_reply": "2024-05-15T16:00:57.223623Z"
    },
    "papermill": {
     "duration": 0.026723,
     "end_time": "2024-05-15T16:00:57.224906",
     "exception": false,
     "start_time": "2024-05-15T16:00:57.198183",
     "status": "completed"
    },
    "tags": []
   },
   "source": [
    "from morpheus.project.application.write.Model.AddModelBoundary import AddModelBoundaryCommandPayload\n",
    "from morpheus.project.application.write.Model import AddModelBoundaryCommand\n",
    "\n",
    "payload: AddModelBoundaryCommandPayload = {\n",
    "  'project_id': project_id.to_str(),\n",
    "  'model_id': model.model_id.to_str(),\n",
    "  'boundary_type': 'well',\n",
    "  'boundary_geometry': {\n",
    "    'type': 'Point',\n",
    "    'coordinates': [13.923, 50.965]\n",
    "  },\n",
    "}\n",
    "\n",
    "project_command_bus.dispatch(AddModelBoundaryCommand.from_payload(user_id=user_id, payload=payload))"
   ],
   "outputs": [],
   "execution_count": null
  },
  {
   "cell_type": "markdown",
   "id": "14cbb28e7eba7481",
   "metadata": {
    "papermill": {
     "duration": 0.003434,
     "end_time": "2024-05-15T16:00:57.232316",
     "exception": false,
     "start_time": "2024-05-15T16:00:57.228882",
     "status": "completed"
    },
    "tags": []
   },
   "source": [
    "# Read Model Boundaries"
   ]
  },
  {
   "cell_type": "code",
   "id": "dde2c00f187dbc9c",
   "metadata": {
    "execution": {
     "iopub.execute_input": "2024-05-15T16:00:57.239675Z",
     "iopub.status.busy": "2024-05-15T16:00:57.239564Z",
     "iopub.status.idle": "2024-05-15T16:00:57.244053Z",
     "shell.execute_reply": "2024-05-15T16:00:57.243821Z"
    },
    "papermill": {
     "duration": 0.009178,
     "end_time": "2024-05-15T16:00:57.244882",
     "exception": false,
     "start_time": "2024-05-15T16:00:57.235704",
     "status": "completed"
    },
    "tags": []
   },
   "source": [
    "model = model_reader.get_latest_model(project_id=project_id)\n",
    "model.boundaries"
   ],
   "outputs": [],
   "execution_count": null
  },
  {
   "cell_type": "markdown",
   "id": "23e3edd16ade53a",
   "metadata": {
    "papermill": {
     "duration": 0.003295,
     "end_time": "2024-05-15T16:00:57.251645",
     "exception": false,
     "start_time": "2024-05-15T16:00:57.248350",
     "status": "completed"
    },
    "tags": []
   },
   "source": [
    "# Remove Well Boundary"
   ]
  },
  {
   "cell_type": "code",
   "id": "1bae17b57bc0a1e0",
   "metadata": {
    "execution": {
     "iopub.execute_input": "2024-05-15T16:00:57.258833Z",
     "iopub.status.busy": "2024-05-15T16:00:57.258711Z",
     "iopub.status.idle": "2024-05-15T16:00:57.272689Z",
     "shell.execute_reply": "2024-05-15T16:00:57.272399Z"
    },
    "papermill": {
     "duration": 0.018689,
     "end_time": "2024-05-15T16:00:57.273661",
     "exception": false,
     "start_time": "2024-05-15T16:00:57.254972",
     "status": "completed"
    },
    "tags": []
   },
   "source": [
    "from morpheus.project.application.write.Model.RemoveModelBoundary import RemoveModelBoundaryCommandPayload, RemoveModelBoundaryCommand\n",
    "\n",
    "boundary_id = model.boundaries[0].boundary_id\n",
    "\n",
    "payload: RemoveModelBoundaryCommandPayload = {\n",
    "  'project_id': project_id.to_str(),\n",
    "  'model_id': model.model_id.to_str(),\n",
    "  'boundary_id': boundary_id.to_str(),\n",
    "}\n",
    "\n",
    "project_command_bus.dispatch(RemoveModelBoundaryCommand.from_payload(user_id=user_id, payload=payload))"
   ],
   "outputs": [],
   "execution_count": null
  },
  {
   "cell_type": "code",
   "id": "db153e9460ab7bc6",
   "metadata": {
    "execution": {
     "iopub.execute_input": "2024-05-15T16:00:57.281235Z",
     "iopub.status.busy": "2024-05-15T16:00:57.281088Z",
     "iopub.status.idle": "2024-05-15T16:00:57.285536Z",
     "shell.execute_reply": "2024-05-15T16:00:57.285319Z"
    },
    "papermill": {
     "duration": 0.008995,
     "end_time": "2024-05-15T16:00:57.286311",
     "exception": false,
     "start_time": "2024-05-15T16:00:57.277316",
     "status": "completed"
    },
    "tags": []
   },
   "source": [
    "model = model_reader.get_latest_model(project_id=project_id)\n",
    "model.boundaries"
   ],
   "outputs": [],
   "execution_count": null
  },
  {
   "cell_type": "code",
   "id": "dc20739afcda859d",
   "metadata": {
    "papermill": {
     "duration": 0.00328,
     "end_time": "2024-05-15T16:00:57.292962",
     "exception": false,
     "start_time": "2024-05-15T16:00:57.289682",
     "status": "completed"
    },
    "tags": []
   },
   "source": [],
   "outputs": [],
   "execution_count": null
  }
 ],
 "metadata": {
  "kernelspec": {
   "display_name": "Python 3",
   "language": "python",
   "name": "python3"
  },
  "language_info": {
   "codemirror_mode": {
    "name": "ipython",
    "version": 3
   },
   "file_extension": ".py",
   "mimetype": "text/x-python",
   "name": "python",
   "nbconvert_exporter": "python",
   "pygments_lexer": "ipython3",
   "version": "3.12.2"
  },
  "papermill": {
   "default_parameters": {},
   "duration": 5.923435,
   "end_time": "2024-05-15T16:00:59.916127",
   "environment_variables": {},
   "exception": null,
   "input_path": "./notebooks/EventSourcingModel.ipynb",
   "output_path": "./notebooks/EventSourcingModel.ipynb",
   "parameters": {},
   "start_time": "2024-05-15T16:00:53.992692",
   "version": "2.6.0"
  }
 },
 "nbformat": 4,
 "nbformat_minor": 5
}
