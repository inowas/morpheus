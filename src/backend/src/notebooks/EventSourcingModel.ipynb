{
 "cells": [
  {
   "cell_type": "markdown",
   "id": "643f6c4207bbc0b0",
   "metadata": {
    "papermill": {
     "duration": 0.018075,
     "end_time": "2024-05-15T15:56:25.539169",
     "exception": false,
     "start_time": "2024-05-15T15:56:25.521094",
     "status": "completed"
    },
    "tags": []
   },
   "source": [
    "# Initialize Morpheus"
   ]
  },
  {
   "cell_type": "code",
   "execution_count": 1,
   "id": "9a429500dc402140",
   "metadata": {
    "ExecuteTime": {
     "end_time": "2024-05-15T12:40:48.473177Z",
     "start_time": "2024-05-15T12:40:46.595996Z"
    },
    "execution": {
     "iopub.execute_input": "2024-05-15T15:56:25.556962Z",
     "iopub.status.busy": "2024-05-15T15:56:25.556666Z",
     "iopub.status.idle": "2024-05-15T15:56:26.902707Z",
     "shell.execute_reply": "2024-05-15T15:56:26.902411Z"
    },
    "papermill": {
     "duration": 1.354561,
     "end_time": "2024-05-15T15:56:26.903849",
     "exception": false,
     "start_time": "2024-05-15T15:56:25.549288",
     "status": "completed"
    },
    "tags": []
   },
   "outputs": [],
   "source": [
    "from morpheus.project.application.write import project_command_bus"
   ]
  },
  {
   "cell_type": "markdown",
   "id": "740a87482c1f1624",
   "metadata": {
    "collapsed": false,
    "papermill": {
     "duration": 0.002419,
     "end_time": "2024-05-15T15:56:26.909087",
     "exception": false,
     "start_time": "2024-05-15T15:56:26.906668",
     "status": "completed"
    },
    "tags": []
   },
   "source": [
    "# Create a Project"
   ]
  },
  {
   "cell_type": "code",
   "execution_count": 2,
   "id": "932b4fe5bd839f2",
   "metadata": {
    "ExecuteTime": {
     "end_time": "2024-05-15T12:40:48.489912Z",
     "start_time": "2024-05-15T12:40:48.474418Z"
    },
    "collapsed": false,
    "execution": {
     "iopub.execute_input": "2024-05-15T15:56:26.915337Z",
     "iopub.status.busy": "2024-05-15T15:56:26.914933Z",
     "iopub.status.idle": "2024-05-15T15:56:26.921963Z",
     "shell.execute_reply": "2024-05-15T15:56:26.921704Z"
    },
    "papermill": {
     "duration": 0.011279,
     "end_time": "2024-05-15T15:56:26.922961",
     "exception": false,
     "start_time": "2024-05-15T15:56:26.911682",
     "status": "completed"
    },
    "tags": []
   },
   "outputs": [],
   "source": [
    "from morpheus.project.types.User import UserId\n",
    "from morpheus.project.types.Project import ProjectId, Name, Description, Tags\n",
    "\n",
    "user_id = UserId.new()\n",
    "project_id = ProjectId.new()\n",
    "name = Name.from_str('Project 1')\n",
    "description = Description.from_str('Description 1')\n",
    "tags = Tags.from_list(['tag1', 'tag2'])\n",
    "\n",
    "from morpheus.project.application.write.Project import CreateProjectCommand, CreateProjectCommandHandler\n",
    "\n",
    "create_project_command = CreateProjectCommand(\n",
    "  project_id=project_id,\n",
    "  name=name,\n",
    "  description=description,\n",
    "  tags=tags,\n",
    "  user_id=user_id\n",
    ")\n",
    "\n",
    "project_command_bus.dispatch(create_project_command)"
   ]
  },
  {
   "cell_type": "markdown",
   "id": "9d52b120aa989d1f",
   "metadata": {
    "collapsed": false,
    "papermill": {
     "duration": 0.003319,
     "end_time": "2024-05-15T15:56:26.929085",
     "exception": false,
     "start_time": "2024-05-15T15:56:26.925766",
     "status": "completed"
    },
    "tags": []
   },
   "source": [
    "# Read ProjectList"
   ]
  },
  {
   "cell_type": "code",
   "execution_count": 3,
   "id": "56155ec2f19c768d",
   "metadata": {
    "ExecuteTime": {
     "end_time": "2024-05-15T12:40:48.498347Z",
     "start_time": "2024-05-15T12:40:48.490921Z"
    },
    "collapsed": false,
    "execution": {
     "iopub.execute_input": "2024-05-15T15:56:26.935059Z",
     "iopub.status.busy": "2024-05-15T15:56:26.934865Z",
     "iopub.status.idle": "2024-05-15T15:56:26.941271Z",
     "shell.execute_reply": "2024-05-15T15:56:26.940673Z"
    },
    "papermill": {
     "duration": 0.010398,
     "end_time": "2024-05-15T15:56:26.942152",
     "exception": false,
     "start_time": "2024-05-15T15:56:26.931754",
     "status": "completed"
    },
    "tags": []
   },
   "outputs": [
    {
     "data": {
      "text/plain": [
       "[ProjectSummary(project_id=ProjectId(value='8478ddf7-1c43-4aee-969e-af7dbdac18bc'), project_name=Name(value='Rio Primero 123'), project_description=Description(value='Rio Primero Project in Argentina'), project_tags=Tags(value=['rio primero', 'argentina']), owner_id=UserId(value='47e023c1-6939-480c-b47e-6bcae8442850'), visibility=<Visibility.PRIVATE: 'private'>, created_at=DateTime(value=datetime.datetime(2024, 5, 15, 17, 53, 42, 470799, tzinfo=datetime.timezone(datetime.timedelta(seconds=7200)))), updated_at=DateTime(value=datetime.datetime(2024, 5, 15, 17, 53, 42, 470799, tzinfo=datetime.timezone(datetime.timedelta(seconds=7200))))),\n",
       " ProjectSummary(project_id=ProjectId(value='e0166ed1-82ae-4f82-b154-9276aa81f1fa'), project_name=Name(value='Project 0'), project_description=Description(value='Description 0'), project_tags=Tags(value=['tag0', 'tag1']), owner_id=UserId(value='f31b40f5-309b-43f4-9f5a-fb9e5ba6ef40'), visibility=<Visibility.PRIVATE: 'private'>, created_at=DateTime(value=datetime.datetime(2024, 5, 15, 17, 54, 23, 911969, tzinfo=datetime.timezone(datetime.timedelta(seconds=7200)))), updated_at=DateTime(value=datetime.datetime(2024, 5, 15, 17, 54, 23, 911969, tzinfo=datetime.timezone(datetime.timedelta(seconds=7200))))),\n",
       " ProjectSummary(project_id=ProjectId(value='b27d541b-e183-4083-9071-8804fd5d1b25'), project_name=Name(value='Project 1'), project_description=Description(value='Description 1'), project_tags=Tags(value=['tag1', 'tag2']), owner_id=UserId(value='ae3762a8-2be7-4587-a474-b9eb057daa6c'), visibility=<Visibility.PRIVATE: 'private'>, created_at=DateTime(value=datetime.datetime(2024, 5, 15, 17, 54, 23, 915577, tzinfo=datetime.timezone(datetime.timedelta(seconds=7200)))), updated_at=DateTime(value=datetime.datetime(2024, 5, 15, 17, 54, 23, 915577, tzinfo=datetime.timezone(datetime.timedelta(seconds=7200))))),\n",
       " ProjectSummary(project_id=ProjectId(value='2ffca3ac-1fcc-4bd5-ac14-215f1a3da7a0'), project_name=Name(value='Project 2'), project_description=Description(value='Description 2'), project_tags=Tags(value=['tag2', 'tag3']), owner_id=UserId(value='bbab8b69-e886-45a1-bdda-e7f8580a0eab'), visibility=<Visibility.PRIVATE: 'private'>, created_at=DateTime(value=datetime.datetime(2024, 5, 15, 17, 54, 23, 918578, tzinfo=datetime.timezone(datetime.timedelta(seconds=7200)))), updated_at=DateTime(value=datetime.datetime(2024, 5, 15, 17, 54, 23, 918578, tzinfo=datetime.timezone(datetime.timedelta(seconds=7200))))),\n",
       " ProjectSummary(project_id=ProjectId(value='e5194429-1545-42f2-926c-08078c49cd0b'), project_name=Name(value='Project 3'), project_description=Description(value='Description 3'), project_tags=Tags(value=['tag3', 'tag4']), owner_id=UserId(value='505cc755-c867-458c-9328-c02486f3f2f4'), visibility=<Visibility.PRIVATE: 'private'>, created_at=DateTime(value=datetime.datetime(2024, 5, 15, 17, 54, 23, 920759, tzinfo=datetime.timezone(datetime.timedelta(seconds=7200)))), updated_at=DateTime(value=datetime.datetime(2024, 5, 15, 17, 54, 23, 920759, tzinfo=datetime.timezone(datetime.timedelta(seconds=7200))))),\n",
       " ProjectSummary(project_id=ProjectId(value='c08af565-d1c8-4679-927b-5de8f4e3aa00'), project_name=Name(value='Project 4'), project_description=Description(value='Description 4'), project_tags=Tags(value=['tag4', 'tag5']), owner_id=UserId(value='8829fc62-7743-43f7-9e12-6d83c1fc5859'), visibility=<Visibility.PRIVATE: 'private'>, created_at=DateTime(value=datetime.datetime(2024, 5, 15, 17, 54, 23, 922801, tzinfo=datetime.timezone(datetime.timedelta(seconds=7200)))), updated_at=DateTime(value=datetime.datetime(2024, 5, 15, 17, 54, 23, 922801, tzinfo=datetime.timezone(datetime.timedelta(seconds=7200))))),\n",
       " ProjectSummary(project_id=ProjectId(value='05c4a721-0b33-450a-85ff-1653b4864099'), project_name=Name(value='Project 5'), project_description=Description(value='Description 5'), project_tags=Tags(value=['tag5', 'tag6']), owner_id=UserId(value='0a8a0424-3681-466a-8278-1a5e84990def'), visibility=<Visibility.PRIVATE: 'private'>, created_at=DateTime(value=datetime.datetime(2024, 5, 15, 17, 54, 23, 924870, tzinfo=datetime.timezone(datetime.timedelta(seconds=7200)))), updated_at=DateTime(value=datetime.datetime(2024, 5, 15, 17, 54, 23, 924870, tzinfo=datetime.timezone(datetime.timedelta(seconds=7200))))),\n",
       " ProjectSummary(project_id=ProjectId(value='410442a3-a7b7-4748-8dc9-8d75ae41d0cd'), project_name=Name(value='Project 6'), project_description=Description(value='Description 6'), project_tags=Tags(value=['tag6', 'tag7']), owner_id=UserId(value='51d40249-878d-41e1-8dd0-cf6248824f99'), visibility=<Visibility.PRIVATE: 'private'>, created_at=DateTime(value=datetime.datetime(2024, 5, 15, 17, 54, 23, 927211, tzinfo=datetime.timezone(datetime.timedelta(seconds=7200)))), updated_at=DateTime(value=datetime.datetime(2024, 5, 15, 17, 54, 23, 927211, tzinfo=datetime.timezone(datetime.timedelta(seconds=7200))))),\n",
       " ProjectSummary(project_id=ProjectId(value='25212285-cc7e-4da7-a555-7a8dc2285ae7'), project_name=Name(value='Project 7'), project_description=Description(value='Description 7'), project_tags=Tags(value=['tag7', 'tag8']), owner_id=UserId(value='b9a74958-c135-4a2e-b349-34c92a6bf5c2'), visibility=<Visibility.PRIVATE: 'private'>, created_at=DateTime(value=datetime.datetime(2024, 5, 15, 17, 54, 23, 929731, tzinfo=datetime.timezone(datetime.timedelta(seconds=7200)))), updated_at=DateTime(value=datetime.datetime(2024, 5, 15, 17, 54, 23, 929731, tzinfo=datetime.timezone(datetime.timedelta(seconds=7200))))),\n",
       " ProjectSummary(project_id=ProjectId(value='f877bbc8-a10d-43d3-8f2f-0e05b52ad65c'), project_name=Name(value='Project 8'), project_description=Description(value='Description 8'), project_tags=Tags(value=['tag8', 'tag9']), owner_id=UserId(value='49ab3134-6af8-4b54-9496-3bb4308d2bcc'), visibility=<Visibility.PRIVATE: 'private'>, created_at=DateTime(value=datetime.datetime(2024, 5, 15, 17, 54, 23, 932228, tzinfo=datetime.timezone(datetime.timedelta(seconds=7200)))), updated_at=DateTime(value=datetime.datetime(2024, 5, 15, 17, 54, 23, 932228, tzinfo=datetime.timezone(datetime.timedelta(seconds=7200))))),\n",
       " ProjectSummary(project_id=ProjectId(value='5f62697c-8ad7-4749-8442-211c3e9dd64b'), project_name=Name(value='Project 9'), project_description=Description(value='Description 9'), project_tags=Tags(value=['tag9', 'tag10']), owner_id=UserId(value='2efdf859-dab5-4d5b-b134-27acca0db808'), visibility=<Visibility.PRIVATE: 'private'>, created_at=DateTime(value=datetime.datetime(2024, 5, 15, 17, 54, 23, 934704, tzinfo=datetime.timezone(datetime.timedelta(seconds=7200)))), updated_at=DateTime(value=datetime.datetime(2024, 5, 15, 17, 54, 23, 934704, tzinfo=datetime.timezone(datetime.timedelta(seconds=7200))))),\n",
       " ProjectSummary(project_id=ProjectId(value='b88a50eb-2ffc-4142-9dbf-7324ff5a0930'), project_name=Name(value='Project 1'), project_description=Description(value='Description 1'), project_tags=Tags(value=['tag1', 'tag2']), owner_id=UserId(value='1f59f357-4193-4b4a-8b9d-e895f3d5902c'), visibility=<Visibility.PRIVATE: 'private'>, created_at=DateTime(value=datetime.datetime(2024, 5, 15, 17, 54, 32, 283133, tzinfo=datetime.timezone(datetime.timedelta(seconds=7200)))), updated_at=DateTime(value=datetime.datetime(2024, 5, 15, 17, 54, 32, 283133, tzinfo=datetime.timezone(datetime.timedelta(seconds=7200))))),\n",
       " ProjectSummary(project_id=ProjectId(value='60610a3c-89f8-459d-aef4-8b415c51d216'), project_name=Name(value='Rio Primero 123'), project_description=Description(value='Rio Primero Project in Argentina'), project_tags=Tags(value=['rio primero', 'argentina']), owner_id=UserId(value='b1fb08b7-0c14-4b0a-aced-03f37e9696e9'), visibility=<Visibility.PRIVATE: 'private'>, created_at=DateTime(value=datetime.datetime(2024, 5, 15, 17, 55, 38, 175894, tzinfo=datetime.timezone(datetime.timedelta(seconds=7200)))), updated_at=DateTime(value=datetime.datetime(2024, 5, 15, 17, 55, 38, 175894, tzinfo=datetime.timezone(datetime.timedelta(seconds=7200))))),\n",
       " ProjectSummary(project_id=ProjectId(value='2f86c914-3848-4c4d-8893-c94777901be4'), project_name=Name(value='Project 0'), project_description=Description(value='Description 0'), project_tags=Tags(value=['tag0', 'tag1']), owner_id=UserId(value='baef60c8-e9b1-4681-ac00-d2feca78fc84'), visibility=<Visibility.PRIVATE: 'private'>, created_at=DateTime(value=datetime.datetime(2024, 5, 15, 17, 56, 19, 510356, tzinfo=datetime.timezone(datetime.timedelta(seconds=7200)))), updated_at=DateTime(value=datetime.datetime(2024, 5, 15, 17, 56, 19, 510356, tzinfo=datetime.timezone(datetime.timedelta(seconds=7200))))),\n",
       " ProjectSummary(project_id=ProjectId(value='15627578-1ebb-47da-9701-0a538aa892f7'), project_name=Name(value='Project 1'), project_description=Description(value='Description 1'), project_tags=Tags(value=['tag1', 'tag2']), owner_id=UserId(value='2686e5de-f309-4d98-a539-5c99cb4f92ab'), visibility=<Visibility.PRIVATE: 'private'>, created_at=DateTime(value=datetime.datetime(2024, 5, 15, 17, 56, 19, 537236, tzinfo=datetime.timezone(datetime.timedelta(seconds=7200)))), updated_at=DateTime(value=datetime.datetime(2024, 5, 15, 17, 56, 19, 537236, tzinfo=datetime.timezone(datetime.timedelta(seconds=7200))))),\n",
       " ProjectSummary(project_id=ProjectId(value='ec8bd73a-45c7-4d81-a338-228525e71357'), project_name=Name(value='Project 2'), project_description=Description(value='Description 2'), project_tags=Tags(value=['tag2', 'tag3']), owner_id=UserId(value='ce3d36c8-d9a1-4320-8601-960013cd74cd'), visibility=<Visibility.PRIVATE: 'private'>, created_at=DateTime(value=datetime.datetime(2024, 5, 15, 17, 56, 19, 543790, tzinfo=datetime.timezone(datetime.timedelta(seconds=7200)))), updated_at=DateTime(value=datetime.datetime(2024, 5, 15, 17, 56, 19, 543790, tzinfo=datetime.timezone(datetime.timedelta(seconds=7200))))),\n",
       " ProjectSummary(project_id=ProjectId(value='9ab27c4b-9c40-4068-b466-86c0a00ec256'), project_name=Name(value='Project 3'), project_description=Description(value='Description 3'), project_tags=Tags(value=['tag3', 'tag4']), owner_id=UserId(value='0fa5fc7f-9fb9-41f9-a672-e211f86e9444'), visibility=<Visibility.PRIVATE: 'private'>, created_at=DateTime(value=datetime.datetime(2024, 5, 15, 17, 56, 19, 554565, tzinfo=datetime.timezone(datetime.timedelta(seconds=7200)))), updated_at=DateTime(value=datetime.datetime(2024, 5, 15, 17, 56, 19, 554565, tzinfo=datetime.timezone(datetime.timedelta(seconds=7200))))),\n",
       " ProjectSummary(project_id=ProjectId(value='8095e4a4-27f5-4ec5-835a-164af8d93ba5'), project_name=Name(value='Project 4'), project_description=Description(value='Description 4'), project_tags=Tags(value=['tag4', 'tag5']), owner_id=UserId(value='d004f0a3-e1bd-4174-aa07-bbe8f8caa86c'), visibility=<Visibility.PRIVATE: 'private'>, created_at=DateTime(value=datetime.datetime(2024, 5, 15, 17, 56, 19, 559495, tzinfo=datetime.timezone(datetime.timedelta(seconds=7200)))), updated_at=DateTime(value=datetime.datetime(2024, 5, 15, 17, 56, 19, 559495, tzinfo=datetime.timezone(datetime.timedelta(seconds=7200))))),\n",
       " ProjectSummary(project_id=ProjectId(value='b4260bd7-1dad-4375-a8b3-97c87c13ecd8'), project_name=Name(value='Project 5'), project_description=Description(value='Description 5'), project_tags=Tags(value=['tag5', 'tag6']), owner_id=UserId(value='8808730d-abca-427d-99d0-aa409be7c8ae'), visibility=<Visibility.PRIVATE: 'private'>, created_at=DateTime(value=datetime.datetime(2024, 5, 15, 17, 56, 19, 565730, tzinfo=datetime.timezone(datetime.timedelta(seconds=7200)))), updated_at=DateTime(value=datetime.datetime(2024, 5, 15, 17, 56, 19, 565730, tzinfo=datetime.timezone(datetime.timedelta(seconds=7200))))),\n",
       " ProjectSummary(project_id=ProjectId(value='e0ae141e-2447-4daa-930e-cbaa48c27621'), project_name=Name(value='Project 6'), project_description=Description(value='Description 6'), project_tags=Tags(value=['tag6', 'tag7']), owner_id=UserId(value='19245430-5592-4988-9839-efec0852c454'), visibility=<Visibility.PRIVATE: 'private'>, created_at=DateTime(value=datetime.datetime(2024, 5, 15, 17, 56, 19, 571179, tzinfo=datetime.timezone(datetime.timedelta(seconds=7200)))), updated_at=DateTime(value=datetime.datetime(2024, 5, 15, 17, 56, 19, 571179, tzinfo=datetime.timezone(datetime.timedelta(seconds=7200))))),\n",
       " ProjectSummary(project_id=ProjectId(value='0f981386-5ee0-43e4-b000-b44004705616'), project_name=Name(value='Project 7'), project_description=Description(value='Description 7'), project_tags=Tags(value=['tag7', 'tag8']), owner_id=UserId(value='c8d07a14-97cf-47ce-bc58-aeb72f1ef947'), visibility=<Visibility.PRIVATE: 'private'>, created_at=DateTime(value=datetime.datetime(2024, 5, 15, 17, 56, 19, 577151, tzinfo=datetime.timezone(datetime.timedelta(seconds=7200)))), updated_at=DateTime(value=datetime.datetime(2024, 5, 15, 17, 56, 19, 577151, tzinfo=datetime.timezone(datetime.timedelta(seconds=7200))))),\n",
       " ProjectSummary(project_id=ProjectId(value='9bc4e70f-b084-4b74-8da0-8c493ab45371'), project_name=Name(value='Project 8'), project_description=Description(value='Description 8'), project_tags=Tags(value=['tag8', 'tag9']), owner_id=UserId(value='4a191c83-2d87-4186-b788-f39253275861'), visibility=<Visibility.PRIVATE: 'private'>, created_at=DateTime(value=datetime.datetime(2024, 5, 15, 17, 56, 19, 586233, tzinfo=datetime.timezone(datetime.timedelta(seconds=7200)))), updated_at=DateTime(value=datetime.datetime(2024, 5, 15, 17, 56, 19, 586233, tzinfo=datetime.timezone(datetime.timedelta(seconds=7200))))),\n",
       " ProjectSummary(project_id=ProjectId(value='37d7f4e7-cdcd-4c9f-afb3-d12fa9348b6a'), project_name=Name(value='Project 9'), project_description=Description(value='Description 9'), project_tags=Tags(value=['tag9', 'tag10']), owner_id=UserId(value='54953a06-bba2-4194-93be-26b1074d8097'), visibility=<Visibility.PRIVATE: 'private'>, created_at=DateTime(value=datetime.datetime(2024, 5, 15, 17, 56, 19, 598941, tzinfo=datetime.timezone(datetime.timedelta(seconds=7200)))), updated_at=DateTime(value=datetime.datetime(2024, 5, 15, 17, 56, 19, 598941, tzinfo=datetime.timezone(datetime.timedelta(seconds=7200))))),\n",
       " ProjectSummary(project_id=ProjectId(value='cdb89c26-ad0a-4ec6-9888-dc8423665a9c'), project_name=Name(value='Project 1'), project_description=Description(value='Description 1'), project_tags=Tags(value=['tag1', 'tag2']), owner_id=UserId(value='080cde7d-c77c-4546-a489-c3ac1a994c8b'), visibility=<Visibility.PRIVATE: 'private'>, created_at=DateTime(value=datetime.datetime(2024, 5, 15, 17, 56, 26, 916804)), updated_at=DateTime(value=datetime.datetime(2024, 5, 15, 17, 56, 26, 916804)))]"
      ]
     },
     "execution_count": 3,
     "metadata": {},
     "output_type": "execute_result"
    }
   ],
   "source": [
    "from morpheus.project.application.read.ProjectReader import project_reader\n",
    "\n",
    "project_list = project_reader.get_project_summaries()\n",
    "project_list"
   ]
  },
  {
   "cell_type": "markdown",
   "id": "22380477da429c5d",
   "metadata": {
    "collapsed": false,
    "papermill": {
     "duration": 0.003023,
     "end_time": "2024-05-15T15:56:26.947907",
     "exception": false,
     "start_time": "2024-05-15T15:56:26.944884",
     "status": "completed"
    },
    "tags": []
   },
   "source": [
    "# Create model"
   ]
  },
  {
   "cell_type": "code",
   "execution_count": 4,
   "id": "7db50a89dc6391e5",
   "metadata": {
    "ExecuteTime": {
     "end_time": "2024-05-15T12:40:48.827392Z",
     "start_time": "2024-05-15T12:40:48.499422Z"
    },
    "collapsed": false,
    "execution": {
     "iopub.execute_input": "2024-05-15T15:56:26.954348Z",
     "iopub.status.busy": "2024-05-15T15:56:26.954185Z",
     "iopub.status.idle": "2024-05-15T15:56:27.258472Z",
     "shell.execute_reply": "2024-05-15T15:56:27.258204Z"
    },
    "papermill": {
     "duration": 0.308855,
     "end_time": "2024-05-15T15:56:27.259535",
     "exception": false,
     "start_time": "2024-05-15T15:56:26.950680",
     "status": "completed"
    },
    "tags": []
   },
   "outputs": [],
   "source": [
    "from morpheus.project.types.discretization.spatial import Rotation\n",
    "from morpheus.project.types.geometry import Polygon\n",
    "from morpheus.project.types.Model import ModelId\n",
    "from morpheus.project.application.write.Model import CreateModelCommand, CreateModelCommandHandler\n",
    "\n",
    "polygon = Polygon(\n",
    "  type='Polygon',\n",
    "  coordinates=[[\n",
    "    (13.922514437551428, 50.964720483303836),\n",
    "    (13.925250781947113, 50.965228748412386),\n",
    "    (13.925036413951403, 50.96623732041704),\n",
    "    (13.92222441026388, 50.96629040370362),\n",
    "    (13.922514437551428, 50.964720483303836)\n",
    "  ]]\n",
    ")\n",
    "\n",
    "n_cols = 100\n",
    "n_rows = 50\n",
    "rotation = 0.0\n",
    "\n",
    "command = CreateModelCommand(\n",
    "  project_id=project_id,\n",
    "  user_id=user_id,\n",
    "  model_id=ModelId.new(),\n",
    "  geometry=polygon,\n",
    "  n_cols=n_cols,\n",
    "  n_rows=n_rows,\n",
    "  rotation=Rotation.from_float(rotation),\n",
    ")\n",
    "\n",
    "project_command_bus.dispatch(command)"
   ]
  },
  {
   "cell_type": "markdown",
   "id": "cde69ee770d30fc1",
   "metadata": {
    "collapsed": false,
    "papermill": {
     "duration": 0.003157,
     "end_time": "2024-05-15T15:56:27.265538",
     "exception": false,
     "start_time": "2024-05-15T15:56:27.262381",
     "status": "completed"
    },
    "tags": []
   },
   "source": [
    "# Read Latest Model"
   ]
  },
  {
   "cell_type": "code",
   "execution_count": 5,
   "id": "d2717a59e00a53d1",
   "metadata": {
    "ExecuteTime": {
     "end_time": "2024-05-15T12:40:48.841811Z",
     "start_time": "2024-05-15T12:40:48.829018Z"
    },
    "collapsed": false,
    "execution": {
     "iopub.execute_input": "2024-05-15T15:56:27.272175Z",
     "iopub.status.busy": "2024-05-15T15:56:27.271859Z",
     "iopub.status.idle": "2024-05-15T15:56:27.286697Z",
     "shell.execute_reply": "2024-05-15T15:56:27.286367Z"
    },
    "papermill": {
     "duration": 0.019426,
     "end_time": "2024-05-15T15:56:27.287790",
     "exception": false,
     "start_time": "2024-05-15T15:56:27.268364",
     "status": "completed"
    },
    "tags": []
   },
   "outputs": [
    {
     "data": {
      "text/plain": [
       "Model(model_id=ModelId(value='95fcdfea-6ce6-40ce-865c-1b4ce8f953cf'), spatial_discretization=SpatialDiscretization(geometry=Polygon(coordinates=[[[13.922514437551428, 50.964720483303836], [13.925250781947113, 50.965228748412386], [13.925036413951403, 50.96623732041704], [13.92222441026388, 50.96629040370362], [13.922514437551428, 50.964720483303836]]], type='Polygon'), grid=Grid(origin=Point(coordinates=[13.922224410263878, 50.9662904037036], type='Point'), col_widths=[3.3689415472885593, 3.3689415472885593, 3.3689415472885598, 3.368941547288559, 3.368941547288559, 3.3689415472885607, 3.3689415472885607, 3.368941547288557, 3.368941547288557, 3.3689415472885607, 3.368941547288564, 3.368941547288557, 3.368941547288557, 3.368941547288564, 3.368941547288557, 3.368941547288557, 3.368941547288564, 3.36894154728855, 3.368941547288564, 3.368941547288557, 3.368941547288557, 3.3689415472885713, 3.368941547288557, 3.368941547288557, 3.368941547288557, 3.368941547288557, 3.3689415472885713, 3.368941547288557, 3.368941547288543, 3.3689415472885713, 3.368941547288557, 3.368941547288557, 3.3689415472885713, 3.368941547288557, 3.368941547288543, 3.368941547288557, 3.3689415472885713, 3.368941547288557, 3.368941547288557, 3.368941547288557, 3.368941547288557, 3.368941547288557, 3.368941547288557, 3.3689415472885855, 3.368941547288557, 3.368941547288557, 3.3689415472885287, 3.3689415472885855, 3.368941547288557, 3.368941547288557, 3.368941547288557, 3.368941547288557, 3.3689415472885855, 3.368941547288557, 3.368941547288557, 3.368941547288557, 3.3689415472885287, 3.368941547288557, 3.368941547288557, 3.3689415472885855, 3.368941547288557, 3.368941547288557, 3.368941547288557, 3.368941547288557, 3.368941547288557, 3.3689415472885855, 3.368941547288557, 3.368941547288557, 3.3689415472885287, 3.368941547288557, 3.368941547288557, 3.368941547288557, 3.3689415472885855, 3.368941547288557, 3.368941547288557, 3.368941547288557, 3.368941547288557, 3.368941547288557, 3.368941547288557, 3.368941547288557, 3.368941547288614, 3.3689415472885003, 3.368941547288557, 3.368941547288557, 3.368941547288557, 3.368941547288557, 3.368941547288557, 3.368941547288614, 3.368941547288557, 3.368941547288557, 3.368941547288557, 3.368941547288557, 3.368941547288557, 3.3689415472885003, 3.368941547288614, 3.368941547288557, 3.368941547288557, 3.368941547288557, 3.368941547288557, 3.368941547288557], total_width=336.89415472885594, row_heights=[5.549889713171869, 5.549889713171869, 5.54988971317187, 5.5498897131718685, 5.549889713171872, 5.5498897131718685, 5.549889713171872, 5.549889713171865, 5.549889713171865, 5.549889713171879, 5.549889713171865, 5.549889713171872, 5.549889713171865, 5.549889713171879, 5.549889713171865, 5.549889713171865, 5.549889713171879, 5.549889713171851, 5.549889713171879, 5.549889713171879, 5.549889713171851, 5.549889713171879, 5.549889713171879, 5.549889713171865, 5.549889713171865, 5.549889713171865, 5.549889713171893, 5.549889713171865, 5.5498897131718365, 5.549889713171893, 5.549889713171865, 5.549889713171865, 5.549889713171893, 5.549889713171865, 5.5498897131718365, 5.549889713171865, 5.549889713171893, 5.549889713171865, 5.549889713171893, 5.549889713171865, 5.5498897131718365, 5.549889713171865, 5.549889713171893, 5.549889713171865, 5.549889713171865, 5.549889713171893, 5.549889713171808, 5.549889713171922, 5.549889713171865, 5.549889713171865], total_height=277.4944856585935, rotation=Rotation(value=0.0), length_unit=LengthUnit(unit=2)), affected_cells=ActiveCells(shape=[50, 100], data=[ActiveCell(col=0, row=0), ActiveCell(col=1, row=0), ActiveCell(col=2, row=0), ActiveCell(col=3, row=0), ActiveCell(col=4, row=0), ActiveCell(col=5, row=0), ActiveCell(col=6, row=0), ActiveCell(col=7, row=0), ActiveCell(col=8, row=0), ActiveCell(col=9, row=0), ActiveCell(col=10, row=0), ActiveCell(col=11, row=0), ActiveCell(col=12, row=0), ActiveCell(col=13, row=0), ActiveCell(col=14, row=0), ActiveCell(col=15, row=0), ActiveCell(col=16, row=0), ActiveCell(col=17, row=0), ActiveCell(col=18, row=0), ActiveCell(col=19, row=0), ActiveCell(col=20, row=0), ActiveCell(col=21, row=0), ActiveCell(col=22, row=0), ActiveCell(col=23, row=0), ActiveCell(col=24, row=0), ActiveCell(col=25, row=0), ActiveCell(col=26, row=0), ActiveCell(col=0, row=1), ActiveCell(col=1, row=1), ActiveCell(col=2, row=1), ActiveCell(col=3, row=1), ActiveCell(col=4, row=1), ActiveCell(col=5, row=1), ActiveCell(col=6, row=1), ActiveCell(col=7, row=1), ActiveCell(col=8, row=1), ActiveCell(col=9, row=1), ActiveCell(col=10, row=1), ActiveCell(col=11, row=1), ActiveCell(col=12, row=1), ActiveCell(col=13, row=1), ActiveCell(col=14, row=1), ActiveCell(col=15, row=1), ActiveCell(col=16, row=1), ActiveCell(col=17, row=1), ActiveCell(col=18, row=1), ActiveCell(col=19, row=1), ActiveCell(col=20, row=1), ActiveCell(col=21, row=1), ActiveCell(col=22, row=1), ActiveCell(col=23, row=1), ActiveCell(col=24, row=1), ActiveCell(col=25, row=1), ActiveCell(col=26, row=1), ActiveCell(col=27, row=1), ActiveCell(col=28, row=1), ActiveCell(col=29, row=1), ActiveCell(col=30, row=1), ActiveCell(col=31, row=1), ActiveCell(col=32, row=1), ActiveCell(col=33, row=1), ActiveCell(col=34, row=1), ActiveCell(col=35, row=1), ActiveCell(col=36, row=1), ActiveCell(col=37, row=1), ActiveCell(col=38, row=1), ActiveCell(col=39, row=1), ActiveCell(col=40, row=1), ActiveCell(col=41, row=1), ActiveCell(col=42, row=1), ActiveCell(col=43, row=1), ActiveCell(col=44, row=1), ActiveCell(col=45, row=1), ActiveCell(col=46, row=1), ActiveCell(col=47, row=1), ActiveCell(col=48, row=1), ActiveCell(col=49, row=1), ActiveCell(col=50, row=1), ActiveCell(col=51, row=1), ActiveCell(col=52, row=1), ActiveCell(col=53, row=1), ActiveCell(col=54, row=1), ActiveCell(col=55, row=1), ActiveCell(col=56, row=1), ActiveCell(col=57, row=1), ActiveCell(col=58, row=1), ActiveCell(col=59, row=1), ActiveCell(col=60, row=1), ActiveCell(col=61, row=1), ActiveCell(col=62, row=1), ActiveCell(col=63, row=1), ActiveCell(col=64, row=1), ActiveCell(col=65, row=1), ActiveCell(col=66, row=1), ActiveCell(col=67, row=1), ActiveCell(col=68, row=1), ActiveCell(col=69, row=1), ActiveCell(col=70, row=1), ActiveCell(col=71, row=1), ActiveCell(col=72, row=1), ActiveCell(col=73, row=1), ActiveCell(col=74, row=1), ActiveCell(col=75, row=1), ActiveCell(col=76, row=1), ActiveCell(col=77, row=1), ActiveCell(col=78, row=1), ActiveCell(col=79, row=1), ActiveCell(col=80, row=1), ActiveCell(col=81, row=1), ActiveCell(col=0, row=2), ActiveCell(col=1, row=2), ActiveCell(col=2, row=2), ActiveCell(col=3, row=2), ActiveCell(col=4, row=2), ActiveCell(col=5, row=2), ActiveCell(col=6, row=2), ActiveCell(col=7, row=2), ActiveCell(col=8, row=2), ActiveCell(col=9, row=2), ActiveCell(col=10, row=2), ActiveCell(col=11, row=2), ActiveCell(col=12, row=2), ActiveCell(col=13, row=2), ActiveCell(col=14, row=2), ActiveCell(col=15, row=2), ActiveCell(col=16, row=2), ActiveCell(col=17, row=2), ActiveCell(col=18, row=2), ActiveCell(col=19, row=2), ActiveCell(col=20, row=2), ActiveCell(col=21, row=2), ActiveCell(col=22, row=2), ActiveCell(col=23, row=2), ActiveCell(col=24, row=2), ActiveCell(col=25, row=2), ActiveCell(col=26, row=2), ActiveCell(col=27, row=2), ActiveCell(col=28, row=2), ActiveCell(col=29, row=2), ActiveCell(col=30, row=2), ActiveCell(col=31, row=2), ActiveCell(col=32, row=2), ActiveCell(col=33, row=2), ActiveCell(col=34, row=2), ActiveCell(col=35, row=2), ActiveCell(col=36, row=2), ActiveCell(col=37, row=2), ActiveCell(col=38, row=2), ActiveCell(col=39, row=2), ActiveCell(col=40, row=2), ActiveCell(col=41, row=2), ActiveCell(col=42, row=2), ActiveCell(col=43, row=2), ActiveCell(col=44, row=2), ActiveCell(col=45, row=2), ActiveCell(col=46, row=2), ActiveCell(col=47, row=2), ActiveCell(col=48, row=2), ActiveCell(col=49, row=2), ActiveCell(col=50, row=2), ActiveCell(col=51, row=2), ActiveCell(col=52, row=2), ActiveCell(col=53, row=2), ActiveCell(col=54, row=2), ActiveCell(col=55, row=2), ActiveCell(col=56, row=2), ActiveCell(col=57, row=2), ActiveCell(col=58, row=2), ActiveCell(col=59, row=2), ActiveCell(col=60, row=2), ActiveCell(col=61, row=2), ActiveCell(col=62, row=2), ActiveCell(col=63, row=2), ActiveCell(col=64, row=2), ActiveCell(col=65, row=2), ActiveCell(col=66, row=2), ActiveCell(col=67, row=2), ActiveCell(col=68, row=2), ActiveCell(col=69, row=2), ActiveCell(col=70, row=2), ActiveCell(col=71, row=2), ActiveCell(col=72, row=2), ActiveCell(col=73, row=2), ActiveCell(col=74, row=2), ActiveCell(col=75, row=2), ActiveCell(col=76, row=2), ActiveCell(col=77, row=2), ActiveCell(col=78, row=2), ActiveCell(col=79, row=2), ActiveCell(col=80, row=2), ActiveCell(col=81, row=2), ActiveCell(col=82, row=2), ActiveCell(col=83, row=2), ActiveCell(col=84, row=2), ActiveCell(col=85, row=2), ActiveCell(col=86, row=2), ActiveCell(col=87, row=2), ActiveCell(col=88, row=2), ActiveCell(col=89, row=2), ActiveCell(col=90, row=2), ActiveCell(col=91, row=2), ActiveCell(col=92, row=2), ActiveCell(col=1, row=3), ActiveCell(col=2, row=3), ActiveCell(col=3, row=3), ActiveCell(col=4, row=3), ActiveCell(col=5, row=3), ActiveCell(col=6, row=3), ActiveCell(col=7, row=3), ActiveCell(col=8, row=3), ActiveCell(col=9, row=3), ActiveCell(col=10, row=3), ActiveCell(col=11, row=3), ActiveCell(col=12, row=3), ActiveCell(col=13, row=3), ActiveCell(col=14, row=3), ActiveCell(col=15, row=3), ActiveCell(col=16, row=3), ActiveCell(col=17, row=3), ActiveCell(col=18, row=3), ActiveCell(col=19, row=3), ActiveCell(col=20, row=3), ActiveCell(col=21, row=3), ActiveCell(col=22, row=3), ActiveCell(col=23, row=3), ActiveCell(col=24, row=3), ActiveCell(col=25, row=3), ActiveCell(col=26, row=3), ActiveCell(col=27, row=3), ActiveCell(col=28, row=3), ActiveCell(col=29, row=3), ActiveCell(col=30, row=3), ActiveCell(col=31, row=3), ActiveCell(col=32, row=3), ActiveCell(col=33, row=3), ActiveCell(col=34, row=3), ActiveCell(col=35, row=3), ActiveCell(col=36, row=3), ActiveCell(col=37, row=3), ActiveCell(col=38, row=3), ActiveCell(col=39, row=3), ActiveCell(col=40, row=3), ActiveCell(col=41, row=3), ActiveCell(col=42, row=3), ActiveCell(col=43, row=3), ActiveCell(col=44, row=3), ActiveCell(col=45, row=3), ActiveCell(col=46, row=3), ActiveCell(col=47, row=3), ActiveCell(col=48, row=3), ActiveCell(col=49, row=3), ActiveCell(col=50, row=3), ActiveCell(col=51, row=3), ActiveCell(col=52, row=3), ActiveCell(col=53, row=3), ActiveCell(col=54, row=3), ActiveCell(col=55, row=3), ActiveCell(col=56, row=3), ActiveCell(col=57, row=3), ActiveCell(col=58, row=3), ActiveCell(col=59, row=3), ActiveCell(col=60, row=3), ActiveCell(col=61, row=3), ActiveCell(col=62, row=3), ActiveCell(col=63, row=3), ActiveCell(col=64, row=3), ActiveCell(col=65, row=3), ActiveCell(col=66, row=3), ActiveCell(col=67, row=3), ActiveCell(col=68, row=3), ActiveCell(col=69, row=3), ActiveCell(col=70, row=3), ActiveCell(col=71, row=3), ActiveCell(col=72, row=3), ActiveCell(col=73, row=3), ActiveCell(col=74, row=3), ActiveCell(col=75, row=3), ActiveCell(col=76, row=3), ActiveCell(col=77, row=3), ActiveCell(col=78, row=3), ActiveCell(col=79, row=3), ActiveCell(col=80, row=3), ActiveCell(col=81, row=3), ActiveCell(col=82, row=3), ActiveCell(col=83, row=3), ActiveCell(col=84, row=3), ActiveCell(col=85, row=3), ActiveCell(col=86, row=3), ActiveCell(col=87, row=3), ActiveCell(col=88, row=3), ActiveCell(col=89, row=3), ActiveCell(col=90, row=3), ActiveCell(col=91, row=3), ActiveCell(col=92, row=3), ActiveCell(col=1, row=4), ActiveCell(col=2, row=4), ActiveCell(col=3, row=4), ActiveCell(col=4, row=4), ActiveCell(col=5, row=4), ActiveCell(col=6, row=4), ActiveCell(col=7, row=4), ActiveCell(col=8, row=4), ActiveCell(col=9, row=4), ActiveCell(col=10, row=4), ActiveCell(col=11, row=4), ActiveCell(col=12, row=4), ActiveCell(col=13, row=4), ActiveCell(col=14, row=4), ActiveCell(col=15, row=4), ActiveCell(col=16, row=4), ActiveCell(col=17, row=4), ActiveCell(col=18, row=4), ActiveCell(col=19, row=4), ActiveCell(col=20, row=4), ActiveCell(col=21, row=4), ActiveCell(col=22, row=4), ActiveCell(col=23, row=4), ActiveCell(col=24, row=4), ActiveCell(col=25, row=4), ActiveCell(col=26, row=4), ActiveCell(col=27, row=4), ActiveCell(col=28, row=4), ActiveCell(col=29, row=4), ActiveCell(col=30, row=4), ActiveCell(col=31, row=4), ActiveCell(col=32, row=4), ActiveCell(col=33, row=4), ActiveCell(col=34, row=4), ActiveCell(col=35, row=4), ActiveCell(col=36, row=4), ActiveCell(col=37, row=4), ActiveCell(col=38, row=4), ActiveCell(col=39, row=4), ActiveCell(col=40, row=4), ActiveCell(col=41, row=4), ActiveCell(col=42, row=4), ActiveCell(col=43, row=4), ActiveCell(col=44, row=4), ActiveCell(col=45, row=4), ActiveCell(col=46, row=4), ActiveCell(col=47, row=4), ActiveCell(col=48, row=4), ActiveCell(col=49, row=4), ActiveCell(col=50, row=4), ActiveCell(col=51, row=4), ActiveCell(col=52, row=4), ActiveCell(col=53, row=4), ActiveCell(col=54, row=4), ActiveCell(col=55, row=4), ActiveCell(col=56, row=4), ActiveCell(col=57, row=4), ActiveCell(col=58, row=4), ActiveCell(col=59, row=4), ActiveCell(col=60, row=4), ActiveCell(col=61, row=4), ActiveCell(col=62, row=4), ActiveCell(col=63, row=4), ActiveCell(col=64, row=4), ActiveCell(col=65, row=4), ActiveCell(col=66, row=4), ActiveCell(col=67, row=4), ActiveCell(col=68, row=4), ActiveCell(col=69, row=4), ActiveCell(col=70, row=4), ActiveCell(col=71, row=4), ActiveCell(col=72, row=4), ActiveCell(col=73, row=4), ActiveCell(col=74, row=4), ActiveCell(col=75, row=4), ActiveCell(col=76, row=4), ActiveCell(col=77, row=4), ActiveCell(col=78, row=4), ActiveCell(col=79, row=4), ActiveCell(col=80, row=4), ActiveCell(col=81, row=4), ActiveCell(col=82, row=4), ActiveCell(col=83, row=4), ActiveCell(col=84, row=4), ActiveCell(col=85, row=4), ActiveCell(col=86, row=4), ActiveCell(col=87, row=4), ActiveCell(col=88, row=4), ActiveCell(col=89, row=4), ActiveCell(col=90, row=4), ActiveCell(col=91, row=4), ActiveCell(col=92, row=4), ActiveCell(col=93, row=4), ActiveCell(col=1, row=5), ActiveCell(col=2, row=5), ActiveCell(col=3, row=5), ActiveCell(col=4, row=5), ActiveCell(col=5, row=5), ActiveCell(col=6, row=5), ActiveCell(col=7, row=5), ActiveCell(col=8, row=5), ActiveCell(col=9, row=5), ActiveCell(col=10, row=5), ActiveCell(col=11, row=5), ActiveCell(col=12, row=5), ActiveCell(col=13, row=5), ActiveCell(col=14, row=5), ActiveCell(col=15, row=5), ActiveCell(col=16, row=5), ActiveCell(col=17, row=5), ActiveCell(col=18, row=5), ActiveCell(col=19, row=5), ActiveCell(col=20, row=5), ActiveCell(col=21, row=5), ActiveCell(col=22, row=5), ActiveCell(col=23, row=5), ActiveCell(col=24, row=5), ActiveCell(col=25, row=5), ActiveCell(col=26, row=5), ActiveCell(col=27, row=5), ActiveCell(col=28, row=5), ActiveCell(col=29, row=5), ActiveCell(col=30, row=5), ActiveCell(col=31, row=5), ActiveCell(col=32, row=5), ActiveCell(col=33, row=5), ActiveCell(col=34, row=5), ActiveCell(col=35, row=5), ActiveCell(col=36, row=5), ActiveCell(col=37, row=5), ActiveCell(col=38, row=5), ActiveCell(col=39, row=5), ActiveCell(col=40, row=5), ActiveCell(col=41, row=5), ActiveCell(col=42, row=5), ActiveCell(col=43, row=5), ActiveCell(col=44, row=5), ActiveCell(col=45, row=5), ActiveCell(col=46, row=5), ActiveCell(col=47, row=5), ActiveCell(col=48, row=5), ActiveCell(col=49, row=5), ActiveCell(col=50, row=5), ActiveCell(col=51, row=5), ActiveCell(col=52, row=5), ActiveCell(col=53, row=5), ActiveCell(col=54, row=5), ActiveCell(col=55, row=5), ActiveCell(col=56, row=5), ActiveCell(col=57, row=5), ActiveCell(col=58, row=5), ActiveCell(col=59, row=5), ActiveCell(col=60, row=5), ActiveCell(col=61, row=5), ActiveCell(col=62, row=5), ActiveCell(col=63, row=5), ActiveCell(col=64, row=5), ActiveCell(col=65, row=5), ActiveCell(col=66, row=5), ActiveCell(col=67, row=5), ActiveCell(col=68, row=5), ActiveCell(col=69, row=5), ActiveCell(col=70, row=5), ActiveCell(col=71, row=5), ActiveCell(col=72, row=5), ActiveCell(col=73, row=5), ActiveCell(col=74, row=5), ActiveCell(col=75, row=5), ActiveCell(col=76, row=5), ActiveCell(col=77, row=5), ActiveCell(col=78, row=5), ActiveCell(col=79, row=5), ActiveCell(col=80, row=5), ActiveCell(col=81, row=5), ActiveCell(col=82, row=5), ActiveCell(col=83, row=5), ActiveCell(col=84, row=5), ActiveCell(col=85, row=5), ActiveCell(col=86, row=5), ActiveCell(col=87, row=5), ActiveCell(col=88, row=5), ActiveCell(col=89, row=5), ActiveCell(col=90, row=5), ActiveCell(col=91, row=5), ActiveCell(col=92, row=5), ActiveCell(col=93, row=5), ActiveCell(col=1, row=6), ActiveCell(col=2, row=6), ActiveCell(col=3, row=6), ActiveCell(col=4, row=6), ActiveCell(col=5, row=6), ActiveCell(col=6, row=6), ActiveCell(col=7, row=6), ActiveCell(col=8, row=6), ActiveCell(col=9, row=6), ActiveCell(col=10, row=6), ActiveCell(col=11, row=6), ActiveCell(col=12, row=6), ActiveCell(col=13, row=6), ActiveCell(col=14, row=6), ActiveCell(col=15, row=6), ActiveCell(col=16, row=6), ActiveCell(col=17, row=6), ActiveCell(col=18, row=6), ActiveCell(col=19, row=6), ActiveCell(col=20, row=6), ActiveCell(col=21, row=6), ActiveCell(col=22, row=6), ActiveCell(col=23, row=6), ActiveCell(col=24, row=6), ActiveCell(col=25, row=6), ActiveCell(col=26, row=6), ActiveCell(col=27, row=6), ActiveCell(col=28, row=6), ActiveCell(col=29, row=6), ActiveCell(col=30, row=6), ActiveCell(col=31, row=6), ActiveCell(col=32, row=6), ActiveCell(col=33, row=6), ActiveCell(col=34, row=6), ActiveCell(col=35, row=6), ActiveCell(col=36, row=6), ActiveCell(col=37, row=6), ActiveCell(col=38, row=6), ActiveCell(col=39, row=6), ActiveCell(col=40, row=6), ActiveCell(col=41, row=6), ActiveCell(col=42, row=6), ActiveCell(col=43, row=6), ActiveCell(col=44, row=6), ActiveCell(col=45, row=6), ActiveCell(col=46, row=6), ActiveCell(col=47, row=6), ActiveCell(col=48, row=6), ActiveCell(col=49, row=6), ActiveCell(col=50, row=6), ActiveCell(col=51, row=6), ActiveCell(col=52, row=6), ActiveCell(col=53, row=6), ActiveCell(col=54, row=6), ActiveCell(col=55, row=6), ActiveCell(col=56, row=6), ActiveCell(col=57, row=6), ActiveCell(col=58, row=6), ActiveCell(col=59, row=6), ActiveCell(col=60, row=6), ActiveCell(col=61, row=6), ActiveCell(col=62, row=6), ActiveCell(col=63, row=6), ActiveCell(col=64, row=6), ActiveCell(col=65, row=6), ActiveCell(col=66, row=6), ActiveCell(col=67, row=6), ActiveCell(col=68, row=6), ActiveCell(col=69, row=6), ActiveCell(col=70, row=6), ActiveCell(col=71, row=6), ActiveCell(col=72, row=6), ActiveCell(col=73, row=6), ActiveCell(col=74, row=6), ActiveCell(col=75, row=6), ActiveCell(col=76, row=6), ActiveCell(col=77, row=6), ActiveCell(col=78, row=6), ActiveCell(col=79, row=6), ActiveCell(col=80, row=6), ActiveCell(col=81, row=6), ActiveCell(col=82, row=6), ActiveCell(col=83, row=6), ActiveCell(col=84, row=6), ActiveCell(col=85, row=6), ActiveCell(col=86, row=6), ActiveCell(col=87, row=6), ActiveCell(col=88, row=6), ActiveCell(col=89, row=6), ActiveCell(col=90, row=6), ActiveCell(col=91, row=6), ActiveCell(col=92, row=6), ActiveCell(col=93, row=6), ActiveCell(col=1, row=7), ActiveCell(col=2, row=7), ActiveCell(col=3, row=7), ActiveCell(col=4, row=7), ActiveCell(col=5, row=7), ActiveCell(col=6, row=7), ActiveCell(col=7, row=7), ActiveCell(col=8, row=7), ActiveCell(col=9, row=7), ActiveCell(col=10, row=7), ActiveCell(col=11, row=7), ActiveCell(col=12, row=7), ActiveCell(col=13, row=7), ActiveCell(col=14, row=7), ActiveCell(col=15, row=7), ActiveCell(col=16, row=7), ActiveCell(col=17, row=7), ActiveCell(col=18, row=7), ActiveCell(col=19, row=7), ActiveCell(col=20, row=7), ActiveCell(col=21, row=7), ActiveCell(col=22, row=7), ActiveCell(col=23, row=7), ActiveCell(col=24, row=7), ActiveCell(col=25, row=7), ActiveCell(col=26, row=7), ActiveCell(col=27, row=7), ActiveCell(col=28, row=7), ActiveCell(col=29, row=7), ActiveCell(col=30, row=7), ActiveCell(col=31, row=7), ActiveCell(col=32, row=7), ActiveCell(col=33, row=7), ActiveCell(col=34, row=7), ActiveCell(col=35, row=7), ActiveCell(col=36, row=7), ActiveCell(col=37, row=7), ActiveCell(col=38, row=7), ActiveCell(col=39, row=7), ActiveCell(col=40, row=7), ActiveCell(col=41, row=7), ActiveCell(col=42, row=7), ActiveCell(col=43, row=7), ActiveCell(col=44, row=7), ActiveCell(col=45, row=7), ActiveCell(col=46, row=7), ActiveCell(col=47, row=7), ActiveCell(col=48, row=7), ActiveCell(col=49, row=7), ActiveCell(col=50, row=7), ActiveCell(col=51, row=7), ActiveCell(col=52, row=7), ActiveCell(col=53, row=7), ActiveCell(col=54, row=7), ActiveCell(col=55, row=7), ActiveCell(col=56, row=7), ActiveCell(col=57, row=7), ActiveCell(col=58, row=7), ActiveCell(col=59, row=7), ActiveCell(col=60, row=7), ActiveCell(col=61, row=7), ActiveCell(col=62, row=7), ActiveCell(col=63, row=7), ActiveCell(col=64, row=7), ActiveCell(col=65, row=7), ActiveCell(col=66, row=7), ActiveCell(col=67, row=7), ActiveCell(col=68, row=7), ActiveCell(col=69, row=7), ActiveCell(col=70, row=7), ActiveCell(col=71, row=7), ActiveCell(col=72, row=7), ActiveCell(col=73, row=7), ActiveCell(col=74, row=7), ActiveCell(col=75, row=7), ActiveCell(col=76, row=7), ActiveCell(col=77, row=7), ActiveCell(col=78, row=7), ActiveCell(col=79, row=7), ActiveCell(col=80, row=7), ActiveCell(col=81, row=7), ActiveCell(col=82, row=7), ActiveCell(col=83, row=7), ActiveCell(col=84, row=7), ActiveCell(col=85, row=7), ActiveCell(col=86, row=7), ActiveCell(col=87, row=7), ActiveCell(col=88, row=7), ActiveCell(col=89, row=7), ActiveCell(col=90, row=7), ActiveCell(col=91, row=7), ActiveCell(col=92, row=7), ActiveCell(col=93, row=7), ActiveCell(col=2, row=8), ActiveCell(col=3, row=8), ActiveCell(col=4, row=8), ActiveCell(col=5, row=8), ActiveCell(col=6, row=8), ActiveCell(col=7, row=8), ActiveCell(col=8, row=8), ActiveCell(col=9, row=8), ActiveCell(col=10, row=8), ActiveCell(col=11, row=8), ActiveCell(col=12, row=8), ActiveCell(col=13, row=8), ActiveCell(col=14, row=8), ActiveCell(col=15, row=8), ActiveCell(col=16, row=8), ActiveCell(col=17, row=8), ActiveCell(col=18, row=8), ActiveCell(col=19, row=8), ActiveCell(col=20, row=8), ActiveCell(col=21, row=8), ActiveCell(col=22, row=8), ActiveCell(col=23, row=8), ActiveCell(col=24, row=8), ActiveCell(col=25, row=8), ActiveCell(col=26, row=8), ActiveCell(col=27, row=8), ActiveCell(col=28, row=8), ActiveCell(col=29, row=8), ActiveCell(col=30, row=8), ActiveCell(col=31, row=8), ActiveCell(col=32, row=8), ActiveCell(col=33, row=8), ActiveCell(col=34, row=8), ActiveCell(col=35, row=8), ActiveCell(col=36, row=8), ActiveCell(col=37, row=8), ActiveCell(col=38, row=8), ActiveCell(col=39, row=8), ActiveCell(col=40, row=8), ActiveCell(col=41, row=8), ActiveCell(col=42, row=8), ActiveCell(col=43, row=8), ActiveCell(col=44, row=8), ActiveCell(col=45, row=8), ActiveCell(col=46, row=8), ActiveCell(col=47, row=8), ActiveCell(col=48, row=8), ActiveCell(col=49, row=8), ActiveCell(col=50, row=8), ActiveCell(col=51, row=8), ActiveCell(col=52, row=8), ActiveCell(col=53, row=8), ActiveCell(col=54, row=8), ActiveCell(col=55, row=8), ActiveCell(col=56, row=8), ActiveCell(col=57, row=8), ActiveCell(col=58, row=8), ActiveCell(col=59, row=8), ActiveCell(col=60, row=8), ActiveCell(col=61, row=8), ActiveCell(col=62, row=8), ActiveCell(col=63, row=8), ActiveCell(col=64, row=8), ActiveCell(col=65, row=8), ActiveCell(col=66, row=8), ActiveCell(col=67, row=8), ActiveCell(col=68, row=8), ActiveCell(col=69, row=8), ActiveCell(col=70, row=8), ActiveCell(col=71, row=8), ActiveCell(col=72, row=8), ActiveCell(col=73, row=8), ActiveCell(col=74, row=8), ActiveCell(col=75, row=8), ActiveCell(col=76, row=8), ActiveCell(col=77, row=8), ActiveCell(col=78, row=8), ActiveCell(col=79, row=8), ActiveCell(col=80, row=8), ActiveCell(col=81, row=8), ActiveCell(col=82, row=8), ActiveCell(col=83, row=8), ActiveCell(col=84, row=8), ActiveCell(col=85, row=8), ActiveCell(col=86, row=8), ActiveCell(col=87, row=8), ActiveCell(col=88, row=8), ActiveCell(col=89, row=8), ActiveCell(col=90, row=8), ActiveCell(col=91, row=8), ActiveCell(col=92, row=8), ActiveCell(col=93, row=8), ActiveCell(col=2, row=9), ActiveCell(col=3, row=9), ActiveCell(col=4, row=9), ActiveCell(col=5, row=9), ActiveCell(col=6, row=9), ActiveCell(col=7, row=9), ActiveCell(col=8, row=9), ActiveCell(col=9, row=9), ActiveCell(col=10, row=9), ActiveCell(col=11, row=9), ActiveCell(col=12, row=9), ActiveCell(col=13, row=9), ActiveCell(col=14, row=9), ActiveCell(col=15, row=9), ActiveCell(col=16, row=9), ActiveCell(col=17, row=9), ActiveCell(col=18, row=9), ActiveCell(col=19, row=9), ActiveCell(col=20, row=9), ActiveCell(col=21, row=9), ActiveCell(col=22, row=9), ActiveCell(col=23, row=9), ActiveCell(col=24, row=9), ActiveCell(col=25, row=9), ActiveCell(col=26, row=9), ActiveCell(col=27, row=9), ActiveCell(col=28, row=9), ActiveCell(col=29, row=9), ActiveCell(col=30, row=9), ActiveCell(col=31, row=9), ActiveCell(col=32, row=9), ActiveCell(col=33, row=9), ActiveCell(col=34, row=9), ActiveCell(col=35, row=9), ActiveCell(col=36, row=9), ActiveCell(col=37, row=9), ActiveCell(col=38, row=9), ActiveCell(col=39, row=9), ActiveCell(col=40, row=9), ActiveCell(col=41, row=9), ActiveCell(col=42, row=9), ActiveCell(col=43, row=9), ActiveCell(col=44, row=9), ActiveCell(col=45, row=9), ActiveCell(col=46, row=9), ActiveCell(col=47, row=9), ActiveCell(col=48, row=9), ActiveCell(col=49, row=9), ActiveCell(col=50, row=9), ActiveCell(col=51, row=9), ActiveCell(col=52, row=9), ActiveCell(col=53, row=9), ActiveCell(col=54, row=9), ActiveCell(col=55, row=9), ActiveCell(col=56, row=9), ActiveCell(col=57, row=9), ActiveCell(col=58, row=9), ActiveCell(col=59, row=9), ActiveCell(col=60, row=9), ActiveCell(col=61, row=9), ActiveCell(col=62, row=9), ActiveCell(col=63, row=9), ActiveCell(col=64, row=9), ActiveCell(col=65, row=9), ActiveCell(col=66, row=9), ActiveCell(col=67, row=9), ActiveCell(col=68, row=9), ActiveCell(col=69, row=9), ActiveCell(col=70, row=9), ActiveCell(col=71, row=9), ActiveCell(col=72, row=9), ActiveCell(col=73, row=9), ActiveCell(col=74, row=9), ActiveCell(col=75, row=9), ActiveCell(col=76, row=9), ActiveCell(col=77, row=9), ActiveCell(col=78, row=9), ActiveCell(col=79, row=9), ActiveCell(col=80, row=9), ActiveCell(col=81, row=9), ActiveCell(col=82, row=9), ActiveCell(col=83, row=9), ActiveCell(col=84, row=9), ActiveCell(col=85, row=9), ActiveCell(col=86, row=9), ActiveCell(col=87, row=9), ActiveCell(col=88, row=9), ActiveCell(col=89, row=9), ActiveCell(col=90, row=9), ActiveCell(col=91, row=9), ActiveCell(col=92, row=9), ActiveCell(col=93, row=9), ActiveCell(col=94, row=9), ActiveCell(col=2, row=10), ActiveCell(col=3, row=10), ActiveCell(col=4, row=10), ActiveCell(col=5, row=10), ActiveCell(col=6, row=10), ActiveCell(col=7, row=10), ActiveCell(col=8, row=10), ActiveCell(col=9, row=10), ActiveCell(col=10, row=10), ActiveCell(col=11, row=10), ActiveCell(col=12, row=10), ActiveCell(col=13, row=10), ActiveCell(col=14, row=10), ActiveCell(col=15, row=10), ActiveCell(col=16, row=10), ActiveCell(col=17, row=10), ActiveCell(col=18, row=10), ActiveCell(col=19, row=10), ActiveCell(col=20, row=10), ActiveCell(col=21, row=10), ActiveCell(col=22, row=10), ActiveCell(col=23, row=10), ActiveCell(col=24, row=10), ActiveCell(col=25, row=10), ActiveCell(col=26, row=10), ActiveCell(col=27, row=10), ActiveCell(col=28, row=10), ActiveCell(col=29, row=10), ActiveCell(col=30, row=10), ActiveCell(col=31, row=10), ActiveCell(col=32, row=10), ActiveCell(col=33, row=10), ActiveCell(col=34, row=10), ActiveCell(col=35, row=10), ActiveCell(col=36, row=10), ActiveCell(col=37, row=10), ActiveCell(col=38, row=10), ActiveCell(col=39, row=10), ActiveCell(col=40, row=10), ActiveCell(col=41, row=10), ActiveCell(col=42, row=10), ActiveCell(col=43, row=10), ActiveCell(col=44, row=10), ActiveCell(col=45, row=10), ActiveCell(col=46, row=10), ActiveCell(col=47, row=10), ActiveCell(col=48, row=10), ActiveCell(col=49, row=10), ActiveCell(col=50, row=10), ActiveCell(col=51, row=10), ActiveCell(col=52, row=10), ActiveCell(col=53, row=10), ActiveCell(col=54, row=10), ActiveCell(col=55, row=10), ActiveCell(col=56, row=10), ActiveCell(col=57, row=10), ActiveCell(col=58, row=10), ActiveCell(col=59, row=10), ActiveCell(col=60, row=10), ActiveCell(col=61, row=10), ActiveCell(col=62, row=10), ActiveCell(col=63, row=10), ActiveCell(col=64, row=10), ActiveCell(col=65, row=10), ActiveCell(col=66, row=10), ActiveCell(col=67, row=10), ActiveCell(col=68, row=10), ActiveCell(col=69, row=10), ActiveCell(col=70, row=10), ActiveCell(col=71, row=10), ActiveCell(col=72, row=10), ActiveCell(col=73, row=10), ActiveCell(col=74, row=10), ActiveCell(col=75, row=10), ActiveCell(col=76, row=10), ActiveCell(col=77, row=10), ActiveCell(col=78, row=10), ActiveCell(col=79, row=10), ActiveCell(col=80, row=10), ActiveCell(col=81, row=10), ActiveCell(col=82, row=10), ActiveCell(col=83, row=10), ActiveCell(col=84, row=10), ActiveCell(col=85, row=10), ActiveCell(col=86, row=10), ActiveCell(col=87, row=10), ActiveCell(col=88, row=10), ActiveCell(col=89, row=10), ActiveCell(col=90, row=10), ActiveCell(col=91, row=10), ActiveCell(col=92, row=10), ActiveCell(col=93, row=10), ActiveCell(col=94, row=10), ActiveCell(col=2, row=11), ActiveCell(col=3, row=11), ActiveCell(col=4, row=11), ActiveCell(col=5, row=11), ActiveCell(col=6, row=11), ActiveCell(col=7, row=11), ActiveCell(col=8, row=11), ActiveCell(col=9, row=11), ActiveCell(col=10, row=11), ActiveCell(col=11, row=11), ActiveCell(col=12, row=11), ActiveCell(col=13, row=11), ActiveCell(col=14, row=11), ActiveCell(col=15, row=11), ActiveCell(col=16, row=11), ActiveCell(col=17, row=11), ActiveCell(col=18, row=11), ActiveCell(col=19, row=11), ActiveCell(col=20, row=11), ActiveCell(col=21, row=11), ActiveCell(col=22, row=11), ActiveCell(col=23, row=11), ActiveCell(col=24, row=11), ActiveCell(col=25, row=11), ActiveCell(col=26, row=11), ActiveCell(col=27, row=11), ActiveCell(col=28, row=11), ActiveCell(col=29, row=11), ActiveCell(col=30, row=11), ActiveCell(col=31, row=11), ActiveCell(col=32, row=11), ActiveCell(col=33, row=11), ActiveCell(col=34, row=11), ActiveCell(col=35, row=11), ActiveCell(col=36, row=11), ActiveCell(col=37, row=11), ActiveCell(col=38, row=11), ActiveCell(col=39, row=11), ActiveCell(col=40, row=11), ActiveCell(col=41, row=11), ActiveCell(col=42, row=11), ActiveCell(col=43, row=11), ActiveCell(col=44, row=11), ActiveCell(col=45, row=11), ActiveCell(col=46, row=11), ActiveCell(col=47, row=11), ActiveCell(col=48, row=11), ActiveCell(col=49, row=11), ActiveCell(col=50, row=11), ActiveCell(col=51, row=11), ActiveCell(col=52, row=11), ActiveCell(col=53, row=11), ActiveCell(col=54, row=11), ActiveCell(col=55, row=11), ActiveCell(col=56, row=11), ActiveCell(col=57, row=11), ActiveCell(col=58, row=11), ActiveCell(col=59, row=11), ActiveCell(col=60, row=11), ActiveCell(col=61, row=11), ActiveCell(col=62, row=11), ActiveCell(col=63, row=11), ActiveCell(col=64, row=11), ActiveCell(col=65, row=11), ActiveCell(col=66, row=11), ActiveCell(col=67, row=11), ActiveCell(col=68, row=11), ActiveCell(col=69, row=11), ActiveCell(col=70, row=11), ActiveCell(col=71, row=11), ActiveCell(col=72, row=11), ActiveCell(col=73, row=11), ActiveCell(col=74, row=11), ActiveCell(col=75, row=11), ActiveCell(col=76, row=11), ActiveCell(col=77, row=11), ActiveCell(col=78, row=11), ActiveCell(col=79, row=11), ActiveCell(col=80, row=11), ActiveCell(col=81, row=11), ActiveCell(col=82, row=11), ActiveCell(col=83, row=11), ActiveCell(col=84, row=11), ActiveCell(col=85, row=11), ActiveCell(col=86, row=11), ActiveCell(col=87, row=11), ActiveCell(col=88, row=11), ActiveCell(col=89, row=11), ActiveCell(col=90, row=11), ActiveCell(col=91, row=11), ActiveCell(col=92, row=11), ActiveCell(col=93, row=11), ActiveCell(col=94, row=11), ActiveCell(col=2, row=12), ActiveCell(col=3, row=12), ActiveCell(col=4, row=12), ActiveCell(col=5, row=12), ActiveCell(col=6, row=12), ActiveCell(col=7, row=12), ActiveCell(col=8, row=12), ActiveCell(col=9, row=12), ActiveCell(col=10, row=12), ActiveCell(col=11, row=12), ActiveCell(col=12, row=12), ActiveCell(col=13, row=12), ActiveCell(col=14, row=12), ActiveCell(col=15, row=12), ActiveCell(col=16, row=12), ActiveCell(col=17, row=12), ActiveCell(col=18, row=12), ActiveCell(col=19, row=12), ActiveCell(col=20, row=12), ActiveCell(col=21, row=12), ActiveCell(col=22, row=12), ActiveCell(col=23, row=12), ActiveCell(col=24, row=12), ActiveCell(col=25, row=12), ActiveCell(col=26, row=12), ActiveCell(col=27, row=12), ActiveCell(col=28, row=12), ActiveCell(col=29, row=12), ActiveCell(col=30, row=12), ActiveCell(col=31, row=12), ActiveCell(col=32, row=12), ActiveCell(col=33, row=12), ActiveCell(col=34, row=12), ActiveCell(col=35, row=12), ActiveCell(col=36, row=12), ActiveCell(col=37, row=12), ActiveCell(col=38, row=12), ActiveCell(col=39, row=12), ActiveCell(col=40, row=12), ActiveCell(col=41, row=12), ActiveCell(col=42, row=12), ActiveCell(col=43, row=12), ActiveCell(col=44, row=12), ActiveCell(col=45, row=12), ActiveCell(col=46, row=12), ActiveCell(col=47, row=12), ActiveCell(col=48, row=12), ActiveCell(col=49, row=12), ActiveCell(col=50, row=12), ActiveCell(col=51, row=12), ActiveCell(col=52, row=12), ActiveCell(col=53, row=12), ActiveCell(col=54, row=12), ActiveCell(col=55, row=12), ActiveCell(col=56, row=12), ActiveCell(col=57, row=12), ActiveCell(col=58, row=12), ActiveCell(col=59, row=12), ActiveCell(col=60, row=12), ActiveCell(col=61, row=12), ActiveCell(col=62, row=12), ActiveCell(col=63, row=12), ActiveCell(col=64, row=12), ActiveCell(col=65, row=12), ActiveCell(col=66, row=12), ActiveCell(col=67, row=12), ActiveCell(col=68, row=12), ActiveCell(col=69, row=12), ActiveCell(col=70, row=12), ActiveCell(col=71, row=12), ActiveCell(col=72, row=12), ActiveCell(col=73, row=12), ActiveCell(col=74, row=12), ActiveCell(col=75, row=12), ActiveCell(col=76, row=12), ActiveCell(col=77, row=12), ActiveCell(col=78, row=12), ActiveCell(col=79, row=12), ActiveCell(col=80, row=12), ActiveCell(col=81, row=12), ActiveCell(col=82, row=12), ActiveCell(col=83, row=12), ActiveCell(col=84, row=12), ActiveCell(col=85, row=12), ActiveCell(col=86, row=12), ActiveCell(col=87, row=12), ActiveCell(col=88, row=12), ActiveCell(col=89, row=12), ActiveCell(col=90, row=12), ActiveCell(col=91, row=12), ActiveCell(col=92, row=12), ActiveCell(col=93, row=12), ActiveCell(col=94, row=12), ActiveCell(col=3, row=13), ActiveCell(col=4, row=13), ActiveCell(col=5, row=13), ActiveCell(col=6, row=13), ActiveCell(col=7, row=13), ActiveCell(col=8, row=13), ActiveCell(col=9, row=13), ActiveCell(col=10, row=13), ActiveCell(col=11, row=13), ActiveCell(col=12, row=13), ActiveCell(col=13, row=13), ActiveCell(col=14, row=13), ActiveCell(col=15, row=13), ActiveCell(col=16, row=13), ActiveCell(col=17, row=13), ActiveCell(col=18, row=13), ActiveCell(col=19, row=13), ActiveCell(col=20, row=13), ActiveCell(col=21, row=13), ActiveCell(col=22, row=13), ActiveCell(col=23, row=13), ActiveCell(col=24, row=13), ActiveCell(col=25, row=13), ActiveCell(col=26, row=13), ActiveCell(col=27, row=13), ActiveCell(col=28, row=13), ActiveCell(col=29, row=13), ActiveCell(col=30, row=13), ActiveCell(col=31, row=13), ActiveCell(col=32, row=13), ActiveCell(col=33, row=13), ActiveCell(col=34, row=13), ActiveCell(col=35, row=13), ActiveCell(col=36, row=13), ActiveCell(col=37, row=13), ActiveCell(col=38, row=13), ActiveCell(col=39, row=13), ActiveCell(col=40, row=13), ActiveCell(col=41, row=13), ActiveCell(col=42, row=13), ActiveCell(col=43, row=13), ActiveCell(col=44, row=13), ActiveCell(col=45, row=13), ActiveCell(col=46, row=13), ActiveCell(col=47, row=13), ActiveCell(col=48, row=13), ActiveCell(col=49, row=13), ActiveCell(col=50, row=13), ActiveCell(col=51, row=13), ActiveCell(col=52, row=13), ActiveCell(col=53, row=13), ActiveCell(col=54, row=13), ActiveCell(col=55, row=13), ActiveCell(col=56, row=13), ActiveCell(col=57, row=13), ActiveCell(col=58, row=13), ActiveCell(col=59, row=13), ActiveCell(col=60, row=13), ActiveCell(col=61, row=13), ActiveCell(col=62, row=13), ActiveCell(col=63, row=13), ActiveCell(col=64, row=13), ActiveCell(col=65, row=13), ActiveCell(col=66, row=13), ActiveCell(col=67, row=13), ActiveCell(col=68, row=13), ActiveCell(col=69, row=13), ActiveCell(col=70, row=13), ActiveCell(col=71, row=13), ActiveCell(col=72, row=13), ActiveCell(col=73, row=13), ActiveCell(col=74, row=13), ActiveCell(col=75, row=13), ActiveCell(col=76, row=13), ActiveCell(col=77, row=13), ActiveCell(col=78, row=13), ActiveCell(col=79, row=13), ActiveCell(col=80, row=13), ActiveCell(col=81, row=13), ActiveCell(col=82, row=13), ActiveCell(col=83, row=13), ActiveCell(col=84, row=13), ActiveCell(col=85, row=13), ActiveCell(col=86, row=13), ActiveCell(col=87, row=13), ActiveCell(col=88, row=13), ActiveCell(col=89, row=13), ActiveCell(col=90, row=13), ActiveCell(col=91, row=13), ActiveCell(col=92, row=13), ActiveCell(col=93, row=13), ActiveCell(col=94, row=13), ActiveCell(col=95, row=13), ActiveCell(col=3, row=14), ActiveCell(col=4, row=14), ActiveCell(col=5, row=14), ActiveCell(col=6, row=14), ActiveCell(col=7, row=14), ActiveCell(col=8, row=14), ActiveCell(col=9, row=14), ActiveCell(col=10, row=14), ActiveCell(col=11, row=14), ActiveCell(col=12, row=14), ActiveCell(col=13, row=14), ActiveCell(col=14, row=14), ActiveCell(col=15, row=14), ActiveCell(col=16, row=14), ActiveCell(col=17, row=14), ActiveCell(col=18, row=14), ActiveCell(col=19, row=14), ActiveCell(col=20, row=14), ActiveCell(col=21, row=14), ActiveCell(col=22, row=14), ActiveCell(col=23, row=14), ActiveCell(col=24, row=14), ActiveCell(col=25, row=14), ActiveCell(col=26, row=14), ActiveCell(col=27, row=14), ActiveCell(col=28, row=14), ActiveCell(col=29, row=14), ActiveCell(col=30, row=14), ActiveCell(col=31, row=14), ActiveCell(col=32, row=14), ActiveCell(col=33, row=14), ActiveCell(col=34, row=14), ActiveCell(col=35, row=14), ActiveCell(col=36, row=14), ActiveCell(col=37, row=14), ActiveCell(col=38, row=14), ActiveCell(col=39, row=14), ActiveCell(col=40, row=14), ActiveCell(col=41, row=14), ActiveCell(col=42, row=14), ActiveCell(col=43, row=14), ActiveCell(col=44, row=14), ActiveCell(col=45, row=14), ActiveCell(col=46, row=14), ActiveCell(col=47, row=14), ActiveCell(col=48, row=14), ActiveCell(col=49, row=14), ActiveCell(col=50, row=14), ActiveCell(col=51, row=14), ActiveCell(col=52, row=14), ActiveCell(col=53, row=14), ActiveCell(col=54, row=14), ActiveCell(col=55, row=14), ActiveCell(col=56, row=14), ActiveCell(col=57, row=14), ActiveCell(col=58, row=14), ActiveCell(col=59, row=14), ActiveCell(col=60, row=14), ActiveCell(col=61, row=14), ActiveCell(col=62, row=14), ActiveCell(col=63, row=14), ActiveCell(col=64, row=14), ActiveCell(col=65, row=14), ActiveCell(col=66, row=14), ActiveCell(col=67, row=14), ActiveCell(col=68, row=14), ActiveCell(col=69, row=14), ActiveCell(col=70, row=14), ActiveCell(col=71, row=14), ActiveCell(col=72, row=14), ActiveCell(col=73, row=14), ActiveCell(col=74, row=14), ActiveCell(col=75, row=14), ActiveCell(col=76, row=14), ActiveCell(col=77, row=14), ActiveCell(col=78, row=14), ActiveCell(col=79, row=14), ActiveCell(col=80, row=14), ActiveCell(col=81, row=14), ActiveCell(col=82, row=14), ActiveCell(col=83, row=14), ActiveCell(col=84, row=14), ActiveCell(col=85, row=14), ActiveCell(col=86, row=14), ActiveCell(col=87, row=14), ActiveCell(col=88, row=14), ActiveCell(col=89, row=14), ActiveCell(col=90, row=14), ActiveCell(col=91, row=14), ActiveCell(col=92, row=14), ActiveCell(col=93, row=14), ActiveCell(col=94, row=14), ActiveCell(col=95, row=14), ActiveCell(col=3, row=15), ActiveCell(col=4, row=15), ActiveCell(col=5, row=15), ActiveCell(col=6, row=15), ActiveCell(col=7, row=15), ActiveCell(col=8, row=15), ActiveCell(col=9, row=15), ActiveCell(col=10, row=15), ActiveCell(col=11, row=15), ActiveCell(col=12, row=15), ActiveCell(col=13, row=15), ActiveCell(col=14, row=15), ActiveCell(col=15, row=15), ActiveCell(col=16, row=15), ActiveCell(col=17, row=15), ActiveCell(col=18, row=15), ActiveCell(col=19, row=15), ActiveCell(col=20, row=15), ActiveCell(col=21, row=15), ActiveCell(col=22, row=15), ActiveCell(col=23, row=15), ActiveCell(col=24, row=15), ActiveCell(col=25, row=15), ActiveCell(col=26, row=15), ActiveCell(col=27, row=15), ActiveCell(col=28, row=15), ActiveCell(col=29, row=15), ActiveCell(col=30, row=15), ActiveCell(col=31, row=15), ActiveCell(col=32, row=15), ActiveCell(col=33, row=15), ActiveCell(col=34, row=15), ActiveCell(col=35, row=15), ActiveCell(col=36, row=15), ActiveCell(col=37, row=15), ActiveCell(col=38, row=15), ActiveCell(col=39, row=15), ActiveCell(col=40, row=15), ActiveCell(col=41, row=15), ActiveCell(col=42, row=15), ActiveCell(col=43, row=15), ActiveCell(col=44, row=15), ActiveCell(col=45, row=15), ActiveCell(col=46, row=15), ActiveCell(col=47, row=15), ActiveCell(col=48, row=15), ActiveCell(col=49, row=15), ActiveCell(col=50, row=15), ActiveCell(col=51, row=15), ActiveCell(col=52, row=15), ActiveCell(col=53, row=15), ActiveCell(col=54, row=15), ActiveCell(col=55, row=15), ActiveCell(col=56, row=15), ActiveCell(col=57, row=15), ActiveCell(col=58, row=15), ActiveCell(col=59, row=15), ActiveCell(col=60, row=15), ActiveCell(col=61, row=15), ActiveCell(col=62, row=15), ActiveCell(col=63, row=15), ActiveCell(col=64, row=15), ActiveCell(col=65, row=15), ActiveCell(col=66, row=15), ActiveCell(col=67, row=15), ActiveCell(col=68, row=15), ActiveCell(col=69, row=15), ActiveCell(col=70, row=15), ActiveCell(col=71, row=15), ActiveCell(col=72, row=15), ActiveCell(col=73, row=15), ActiveCell(col=74, row=15), ActiveCell(col=75, row=15), ActiveCell(col=76, row=15), ActiveCell(col=77, row=15), ActiveCell(col=78, row=15), ActiveCell(col=79, row=15), ActiveCell(col=80, row=15), ActiveCell(col=81, row=15), ActiveCell(col=82, row=15), ActiveCell(col=83, row=15), ActiveCell(col=84, row=15), ActiveCell(col=85, row=15), ActiveCell(col=86, row=15), ActiveCell(col=87, row=15), ActiveCell(col=88, row=15), ActiveCell(col=89, row=15), ActiveCell(col=90, row=15), ActiveCell(col=91, row=15), ActiveCell(col=92, row=15), ActiveCell(col=93, row=15), ActiveCell(col=94, row=15), ActiveCell(col=95, row=15), ActiveCell(col=3, row=16), ActiveCell(col=4, row=16), ActiveCell(col=5, row=16), ActiveCell(col=6, row=16), ActiveCell(col=7, row=16), ActiveCell(col=8, row=16), ActiveCell(col=9, row=16), ActiveCell(col=10, row=16), ActiveCell(col=11, row=16), ActiveCell(col=12, row=16), ActiveCell(col=13, row=16), ActiveCell(col=14, row=16), ActiveCell(col=15, row=16), ActiveCell(col=16, row=16), ActiveCell(col=17, row=16), ActiveCell(col=18, row=16), ActiveCell(col=19, row=16), ActiveCell(col=20, row=16), ActiveCell(col=21, row=16), ActiveCell(col=22, row=16), ActiveCell(col=23, row=16), ActiveCell(col=24, row=16), ActiveCell(col=25, row=16), ActiveCell(col=26, row=16), ActiveCell(col=27, row=16), ActiveCell(col=28, row=16), ActiveCell(col=29, row=16), ActiveCell(col=30, row=16), ActiveCell(col=31, row=16), ActiveCell(col=32, row=16), ActiveCell(col=33, row=16), ActiveCell(col=34, row=16), ActiveCell(col=35, row=16), ActiveCell(col=36, row=16), ActiveCell(col=37, row=16), ActiveCell(col=38, row=16), ActiveCell(col=39, row=16), ActiveCell(col=40, row=16), ActiveCell(col=41, row=16), ActiveCell(col=42, row=16), ActiveCell(col=43, row=16), ActiveCell(col=44, row=16), ActiveCell(col=45, row=16), ActiveCell(col=46, row=16), ActiveCell(col=47, row=16), ActiveCell(col=48, row=16), ActiveCell(col=49, row=16), ActiveCell(col=50, row=16), ActiveCell(col=51, row=16), ActiveCell(col=52, row=16), ActiveCell(col=53, row=16), ActiveCell(col=54, row=16), ActiveCell(col=55, row=16), ActiveCell(col=56, row=16), ActiveCell(col=57, row=16), ActiveCell(col=58, row=16), ActiveCell(col=59, row=16), ActiveCell(col=60, row=16), ActiveCell(col=61, row=16), ActiveCell(col=62, row=16), ActiveCell(col=63, row=16), ActiveCell(col=64, row=16), ActiveCell(col=65, row=16), ActiveCell(col=66, row=16), ActiveCell(col=67, row=16), ActiveCell(col=68, row=16), ActiveCell(col=69, row=16), ActiveCell(col=70, row=16), ActiveCell(col=71, row=16), ActiveCell(col=72, row=16), ActiveCell(col=73, row=16), ActiveCell(col=74, row=16), ActiveCell(col=75, row=16), ActiveCell(col=76, row=16), ActiveCell(col=77, row=16), ActiveCell(col=78, row=16), ActiveCell(col=79, row=16), ActiveCell(col=80, row=16), ActiveCell(col=81, row=16), ActiveCell(col=82, row=16), ActiveCell(col=83, row=16), ActiveCell(col=84, row=16), ActiveCell(col=85, row=16), ActiveCell(col=86, row=16), ActiveCell(col=87, row=16), ActiveCell(col=88, row=16), ActiveCell(col=89, row=16), ActiveCell(col=90, row=16), ActiveCell(col=91, row=16), ActiveCell(col=92, row=16), ActiveCell(col=93, row=16), ActiveCell(col=94, row=16), ActiveCell(col=95, row=16), ActiveCell(col=3, row=17), ActiveCell(col=4, row=17), ActiveCell(col=5, row=17), ActiveCell(col=6, row=17), ActiveCell(col=7, row=17), ActiveCell(col=8, row=17), ActiveCell(col=9, row=17), ActiveCell(col=10, row=17), ActiveCell(col=11, row=17), ActiveCell(col=12, row=17), ActiveCell(col=13, row=17), ActiveCell(col=14, row=17), ActiveCell(col=15, row=17), ActiveCell(col=16, row=17), ActiveCell(col=17, row=17), ActiveCell(col=18, row=17), ActiveCell(col=19, row=17), ActiveCell(col=20, row=17), ActiveCell(col=21, row=17), ActiveCell(col=22, row=17), ActiveCell(col=23, row=17), ActiveCell(col=24, row=17), ActiveCell(col=25, row=17), ActiveCell(col=26, row=17), ActiveCell(col=27, row=17), ActiveCell(col=28, row=17), ActiveCell(col=29, row=17), ActiveCell(col=30, row=17), ActiveCell(col=31, row=17), ActiveCell(col=32, row=17), ActiveCell(col=33, row=17), ActiveCell(col=34, row=17), ActiveCell(col=35, row=17), ActiveCell(col=36, row=17), ActiveCell(col=37, row=17), ActiveCell(col=38, row=17), ActiveCell(col=39, row=17), ActiveCell(col=40, row=17), ActiveCell(col=41, row=17), ActiveCell(col=42, row=17), ActiveCell(col=43, row=17), ActiveCell(col=44, row=17), ActiveCell(col=45, row=17), ActiveCell(col=46, row=17), ActiveCell(col=47, row=17), ActiveCell(col=48, row=17), ActiveCell(col=49, row=17), ActiveCell(col=50, row=17), ActiveCell(col=51, row=17), ActiveCell(col=52, row=17), ActiveCell(col=53, row=17), ActiveCell(col=54, row=17), ActiveCell(col=55, row=17), ActiveCell(col=56, row=17), ActiveCell(col=57, row=17), ActiveCell(col=58, row=17), ActiveCell(col=59, row=17), ActiveCell(col=60, row=17), ActiveCell(col=61, row=17), ActiveCell(col=62, row=17), ActiveCell(col=63, row=17), ActiveCell(col=64, row=17), ActiveCell(col=65, row=17), ActiveCell(col=66, row=17), ActiveCell(col=67, row=17), ActiveCell(col=68, row=17), ActiveCell(col=69, row=17), ActiveCell(col=70, row=17), ActiveCell(col=71, row=17), ActiveCell(col=72, row=17), ActiveCell(col=73, row=17), ActiveCell(col=74, row=17), ActiveCell(col=75, row=17), ActiveCell(col=76, row=17), ActiveCell(col=77, row=17), ActiveCell(col=78, row=17), ActiveCell(col=79, row=17), ActiveCell(col=80, row=17), ActiveCell(col=81, row=17), ActiveCell(col=82, row=17), ActiveCell(col=83, row=17), ActiveCell(col=84, row=17), ActiveCell(col=85, row=17), ActiveCell(col=86, row=17), ActiveCell(col=87, row=17), ActiveCell(col=88, row=17), ActiveCell(col=89, row=17), ActiveCell(col=90, row=17), ActiveCell(col=91, row=17), ActiveCell(col=92, row=17), ActiveCell(col=93, row=17), ActiveCell(col=94, row=17), ActiveCell(col=95, row=17), ActiveCell(col=4, row=18), ActiveCell(col=5, row=18), ActiveCell(col=6, row=18), ActiveCell(col=7, row=18), ActiveCell(col=8, row=18), ActiveCell(col=9, row=18), ActiveCell(col=10, row=18), ActiveCell(col=11, row=18), ActiveCell(col=12, row=18), ActiveCell(col=13, row=18), ActiveCell(col=14, row=18), ActiveCell(col=15, row=18), ActiveCell(col=16, row=18), ActiveCell(col=17, row=18), ActiveCell(col=18, row=18), ActiveCell(col=19, row=18), ActiveCell(col=20, row=18), ActiveCell(col=21, row=18), ActiveCell(col=22, row=18), ActiveCell(col=23, row=18), ActiveCell(col=24, row=18), ActiveCell(col=25, row=18), ActiveCell(col=26, row=18), ActiveCell(col=27, row=18), ActiveCell(col=28, row=18), ActiveCell(col=29, row=18), ActiveCell(col=30, row=18), ActiveCell(col=31, row=18), ActiveCell(col=32, row=18), ActiveCell(col=33, row=18), ActiveCell(col=34, row=18), ActiveCell(col=35, row=18), ActiveCell(col=36, row=18), ActiveCell(col=37, row=18), ActiveCell(col=38, row=18), ActiveCell(col=39, row=18), ActiveCell(col=40, row=18), ActiveCell(col=41, row=18), ActiveCell(col=42, row=18), ActiveCell(col=43, row=18), ActiveCell(col=44, row=18), ActiveCell(col=45, row=18), ActiveCell(col=46, row=18), ActiveCell(col=47, row=18), ActiveCell(col=48, row=18), ActiveCell(col=49, row=18), ActiveCell(col=50, row=18), ActiveCell(col=51, row=18), ActiveCell(col=52, row=18), ActiveCell(col=53, row=18), ActiveCell(col=54, row=18), ActiveCell(col=55, row=18), ActiveCell(col=56, row=18), ActiveCell(col=57, row=18), ActiveCell(col=58, row=18), ActiveCell(col=59, row=18), ActiveCell(col=60, row=18), ActiveCell(col=61, row=18), ActiveCell(col=62, row=18), ActiveCell(col=63, row=18), ActiveCell(col=64, row=18), ActiveCell(col=65, row=18), ActiveCell(col=66, row=18), ActiveCell(col=67, row=18), ActiveCell(col=68, row=18), ActiveCell(col=69, row=18), ActiveCell(col=70, row=18), ActiveCell(col=71, row=18), ActiveCell(col=72, row=18), ActiveCell(col=73, row=18), ActiveCell(col=74, row=18), ActiveCell(col=75, row=18), ActiveCell(col=76, row=18), ActiveCell(col=77, row=18), ActiveCell(col=78, row=18), ActiveCell(col=79, row=18), ActiveCell(col=80, row=18), ActiveCell(col=81, row=18), ActiveCell(col=82, row=18), ActiveCell(col=83, row=18), ActiveCell(col=84, row=18), ActiveCell(col=85, row=18), ActiveCell(col=86, row=18), ActiveCell(col=87, row=18), ActiveCell(col=88, row=18), ActiveCell(col=89, row=18), ActiveCell(col=90, row=18), ActiveCell(col=91, row=18), ActiveCell(col=92, row=18), ActiveCell(col=93, row=18), ActiveCell(col=94, row=18), ActiveCell(col=95, row=18), ActiveCell(col=96, row=18), ActiveCell(col=4, row=19), ActiveCell(col=5, row=19), ActiveCell(col=6, row=19), ActiveCell(col=7, row=19), ActiveCell(col=8, row=19), ActiveCell(col=9, row=19), ActiveCell(col=10, row=19), ActiveCell(col=11, row=19), ActiveCell(col=12, row=19), ActiveCell(col=13, row=19), ActiveCell(col=14, row=19), ActiveCell(col=15, row=19), ActiveCell(col=16, row=19), ActiveCell(col=17, row=19), ActiveCell(col=18, row=19), ActiveCell(col=19, row=19), ActiveCell(col=20, row=19), ActiveCell(col=21, row=19), ActiveCell(col=22, row=19), ActiveCell(col=23, row=19), ActiveCell(col=24, row=19), ActiveCell(col=25, row=19), ActiveCell(col=26, row=19), ActiveCell(col=27, row=19), ActiveCell(col=28, row=19), ActiveCell(col=29, row=19), ActiveCell(col=30, row=19), ActiveCell(col=31, row=19), ActiveCell(col=32, row=19), ActiveCell(col=33, row=19), ActiveCell(col=34, row=19), ActiveCell(col=35, row=19), ActiveCell(col=36, row=19), ActiveCell(col=37, row=19), ActiveCell(col=38, row=19), ActiveCell(col=39, row=19), ActiveCell(col=40, row=19), ActiveCell(col=41, row=19), ActiveCell(col=42, row=19), ActiveCell(col=43, row=19), ActiveCell(col=44, row=19), ActiveCell(col=45, row=19), ActiveCell(col=46, row=19), ActiveCell(col=47, row=19), ActiveCell(col=48, row=19), ActiveCell(col=49, row=19), ActiveCell(col=50, row=19), ActiveCell(col=51, row=19), ActiveCell(col=52, row=19), ActiveCell(col=53, row=19), ActiveCell(col=54, row=19), ActiveCell(col=55, row=19), ActiveCell(col=56, row=19), ActiveCell(col=57, row=19), ActiveCell(col=58, row=19), ActiveCell(col=59, row=19), ActiveCell(col=60, row=19), ActiveCell(col=61, row=19), ActiveCell(col=62, row=19), ActiveCell(col=63, row=19), ActiveCell(col=64, row=19), ActiveCell(col=65, row=19), ActiveCell(col=66, row=19), ActiveCell(col=67, row=19), ActiveCell(col=68, row=19), ActiveCell(col=69, row=19), ActiveCell(col=70, row=19), ActiveCell(col=71, row=19), ActiveCell(col=72, row=19), ActiveCell(col=73, row=19), ActiveCell(col=74, row=19), ActiveCell(col=75, row=19), ActiveCell(col=76, row=19), ActiveCell(col=77, row=19), ActiveCell(col=78, row=19), ActiveCell(col=79, row=19), ActiveCell(col=80, row=19), ActiveCell(col=81, row=19), ActiveCell(col=82, row=19), ActiveCell(col=83, row=19), ActiveCell(col=84, row=19), ActiveCell(col=85, row=19), ActiveCell(col=86, row=19), ActiveCell(col=87, row=19), ActiveCell(col=88, row=19), ActiveCell(col=89, row=19), ActiveCell(col=90, row=19), ActiveCell(col=91, row=19), ActiveCell(col=92, row=19), ActiveCell(col=93, row=19), ActiveCell(col=94, row=19), ActiveCell(col=95, row=19), ActiveCell(col=96, row=19), ActiveCell(col=4, row=20), ActiveCell(col=5, row=20), ActiveCell(col=6, row=20), ActiveCell(col=7, row=20), ActiveCell(col=8, row=20), ActiveCell(col=9, row=20), ActiveCell(col=10, row=20), ActiveCell(col=11, row=20), ActiveCell(col=12, row=20), ActiveCell(col=13, row=20), ActiveCell(col=14, row=20), ActiveCell(col=15, row=20), ActiveCell(col=16, row=20), ActiveCell(col=17, row=20), ActiveCell(col=18, row=20), ActiveCell(col=19, row=20), ActiveCell(col=20, row=20), ActiveCell(col=21, row=20), ActiveCell(col=22, row=20), ActiveCell(col=23, row=20), ActiveCell(col=24, row=20), ActiveCell(col=25, row=20), ActiveCell(col=26, row=20), ActiveCell(col=27, row=20), ActiveCell(col=28, row=20), ActiveCell(col=29, row=20), ActiveCell(col=30, row=20), ActiveCell(col=31, row=20), ActiveCell(col=32, row=20), ActiveCell(col=33, row=20), ActiveCell(col=34, row=20), ActiveCell(col=35, row=20), ActiveCell(col=36, row=20), ActiveCell(col=37, row=20), ActiveCell(col=38, row=20), ActiveCell(col=39, row=20), ActiveCell(col=40, row=20), ActiveCell(col=41, row=20), ActiveCell(col=42, row=20), ActiveCell(col=43, row=20), ActiveCell(col=44, row=20), ActiveCell(col=45, row=20), ActiveCell(col=46, row=20), ActiveCell(col=47, row=20), ActiveCell(col=48, row=20), ActiveCell(col=49, row=20), ActiveCell(col=50, row=20), ActiveCell(col=51, row=20), ActiveCell(col=52, row=20), ActiveCell(col=53, row=20), ActiveCell(col=54, row=20), ActiveCell(col=55, row=20), ActiveCell(col=56, row=20), ActiveCell(col=57, row=20), ActiveCell(col=58, row=20), ActiveCell(col=59, row=20), ActiveCell(col=60, row=20), ActiveCell(col=61, row=20), ActiveCell(col=62, row=20), ActiveCell(col=63, row=20), ActiveCell(col=64, row=20), ActiveCell(col=65, row=20), ActiveCell(col=66, row=20), ActiveCell(col=67, row=20), ActiveCell(col=68, row=20), ActiveCell(col=69, row=20), ActiveCell(col=70, row=20), ActiveCell(col=71, row=20), ActiveCell(col=72, row=20), ActiveCell(col=73, row=20), ActiveCell(col=74, row=20), ActiveCell(col=75, row=20), ActiveCell(col=76, row=20), ActiveCell(col=77, row=20), ActiveCell(col=78, row=20), ActiveCell(col=79, row=20), ActiveCell(col=80, row=20), ActiveCell(col=81, row=20), ActiveCell(col=82, row=20), ActiveCell(col=83, row=20), ActiveCell(col=84, row=20), ActiveCell(col=85, row=20), ActiveCell(col=86, row=20), ActiveCell(col=87, row=20), ActiveCell(col=88, row=20), ActiveCell(col=89, row=20), ActiveCell(col=90, row=20), ActiveCell(col=91, row=20), ActiveCell(col=92, row=20), ActiveCell(col=93, row=20), ActiveCell(col=94, row=20), ActiveCell(col=95, row=20), ActiveCell(col=96, row=20), ActiveCell(col=4, row=21), ActiveCell(col=5, row=21), ActiveCell(col=6, row=21), ActiveCell(col=7, row=21), ActiveCell(col=8, row=21), ActiveCell(col=9, row=21), ActiveCell(col=10, row=21), ActiveCell(col=11, row=21), ActiveCell(col=12, row=21), ActiveCell(col=13, row=21), ActiveCell(col=14, row=21), ActiveCell(col=15, row=21), ActiveCell(col=16, row=21), ActiveCell(col=17, row=21), ActiveCell(col=18, row=21), ActiveCell(col=19, row=21), ActiveCell(col=20, row=21), ActiveCell(col=21, row=21), ActiveCell(col=22, row=21), ActiveCell(col=23, row=21), ActiveCell(col=24, row=21), ActiveCell(col=25, row=21), ActiveCell(col=26, row=21), ActiveCell(col=27, row=21), ActiveCell(col=28, row=21), ActiveCell(col=29, row=21), ActiveCell(col=30, row=21), ActiveCell(col=31, row=21), ActiveCell(col=32, row=21), ActiveCell(col=33, row=21), ActiveCell(col=34, row=21), ActiveCell(col=35, row=21), ActiveCell(col=36, row=21), ActiveCell(col=37, row=21), ActiveCell(col=38, row=21), ActiveCell(col=39, row=21), ActiveCell(col=40, row=21), ActiveCell(col=41, row=21), ActiveCell(col=42, row=21), ActiveCell(col=43, row=21), ActiveCell(col=44, row=21), ActiveCell(col=45, row=21), ActiveCell(col=46, row=21), ActiveCell(col=47, row=21), ActiveCell(col=48, row=21), ActiveCell(col=49, row=21), ActiveCell(col=50, row=21), ActiveCell(col=51, row=21), ActiveCell(col=52, row=21), ActiveCell(col=53, row=21), ActiveCell(col=54, row=21), ActiveCell(col=55, row=21), ActiveCell(col=56, row=21), ActiveCell(col=57, row=21), ActiveCell(col=58, row=21), ActiveCell(col=59, row=21), ActiveCell(col=60, row=21), ActiveCell(col=61, row=21), ActiveCell(col=62, row=21), ActiveCell(col=63, row=21), ActiveCell(col=64, row=21), ActiveCell(col=65, row=21), ActiveCell(col=66, row=21), ActiveCell(col=67, row=21), ActiveCell(col=68, row=21), ActiveCell(col=69, row=21), ActiveCell(col=70, row=21), ActiveCell(col=71, row=21), ActiveCell(col=72, row=21), ActiveCell(col=73, row=21), ActiveCell(col=74, row=21), ActiveCell(col=75, row=21), ActiveCell(col=76, row=21), ActiveCell(col=77, row=21), ActiveCell(col=78, row=21), ActiveCell(col=79, row=21), ActiveCell(col=80, row=21), ActiveCell(col=81, row=21), ActiveCell(col=82, row=21), ActiveCell(col=83, row=21), ActiveCell(col=84, row=21), ActiveCell(col=85, row=21), ActiveCell(col=86, row=21), ActiveCell(col=87, row=21), ActiveCell(col=88, row=21), ActiveCell(col=89, row=21), ActiveCell(col=90, row=21), ActiveCell(col=91, row=21), ActiveCell(col=92, row=21), ActiveCell(col=93, row=21), ActiveCell(col=94, row=21), ActiveCell(col=95, row=21), ActiveCell(col=96, row=21), ActiveCell(col=4, row=22), ActiveCell(col=5, row=22), ActiveCell(col=6, row=22), ActiveCell(col=7, row=22), ActiveCell(col=8, row=22), ActiveCell(col=9, row=22), ActiveCell(col=10, row=22), ActiveCell(col=11, row=22), ActiveCell(col=12, row=22), ActiveCell(col=13, row=22), ActiveCell(col=14, row=22), ActiveCell(col=15, row=22), ActiveCell(col=16, row=22), ActiveCell(col=17, row=22), ActiveCell(col=18, row=22), ActiveCell(col=19, row=22), ActiveCell(col=20, row=22), ActiveCell(col=21, row=22), ActiveCell(col=22, row=22), ActiveCell(col=23, row=22), ActiveCell(col=24, row=22), ActiveCell(col=25, row=22), ActiveCell(col=26, row=22), ActiveCell(col=27, row=22), ActiveCell(col=28, row=22), ActiveCell(col=29, row=22), ActiveCell(col=30, row=22), ActiveCell(col=31, row=22), ActiveCell(col=32, row=22), ActiveCell(col=33, row=22), ActiveCell(col=34, row=22), ActiveCell(col=35, row=22), ActiveCell(col=36, row=22), ActiveCell(col=37, row=22), ActiveCell(col=38, row=22), ActiveCell(col=39, row=22), ActiveCell(col=40, row=22), ActiveCell(col=41, row=22), ActiveCell(col=42, row=22), ActiveCell(col=43, row=22), ActiveCell(col=44, row=22), ActiveCell(col=45, row=22), ActiveCell(col=46, row=22), ActiveCell(col=47, row=22), ActiveCell(col=48, row=22), ActiveCell(col=49, row=22), ActiveCell(col=50, row=22), ActiveCell(col=51, row=22), ActiveCell(col=52, row=22), ActiveCell(col=53, row=22), ActiveCell(col=54, row=22), ActiveCell(col=55, row=22), ActiveCell(col=56, row=22), ActiveCell(col=57, row=22), ActiveCell(col=58, row=22), ActiveCell(col=59, row=22), ActiveCell(col=60, row=22), ActiveCell(col=61, row=22), ActiveCell(col=62, row=22), ActiveCell(col=63, row=22), ActiveCell(col=64, row=22), ActiveCell(col=65, row=22), ActiveCell(col=66, row=22), ActiveCell(col=67, row=22), ActiveCell(col=68, row=22), ActiveCell(col=69, row=22), ActiveCell(col=70, row=22), ActiveCell(col=71, row=22), ActiveCell(col=72, row=22), ActiveCell(col=73, row=22), ActiveCell(col=74, row=22), ActiveCell(col=75, row=22), ActiveCell(col=76, row=22), ActiveCell(col=77, row=22), ActiveCell(col=78, row=22), ActiveCell(col=79, row=22), ActiveCell(col=80, row=22), ActiveCell(col=81, row=22), ActiveCell(col=82, row=22), ActiveCell(col=83, row=22), ActiveCell(col=84, row=22), ActiveCell(col=85, row=22), ActiveCell(col=86, row=22), ActiveCell(col=87, row=22), ActiveCell(col=88, row=22), ActiveCell(col=89, row=22), ActiveCell(col=90, row=22), ActiveCell(col=91, row=22), ActiveCell(col=92, row=22), ActiveCell(col=93, row=22), ActiveCell(col=94, row=22), ActiveCell(col=95, row=22), ActiveCell(col=96, row=22), ActiveCell(col=97, row=22), ActiveCell(col=5, row=23), ActiveCell(col=6, row=23), ActiveCell(col=7, row=23), ActiveCell(col=8, row=23), ActiveCell(col=9, row=23), ActiveCell(col=10, row=23), ActiveCell(col=11, row=23), ActiveCell(col=12, row=23), ActiveCell(col=13, row=23), ActiveCell(col=14, row=23), ActiveCell(col=15, row=23), ActiveCell(col=16, row=23), ActiveCell(col=17, row=23), ActiveCell(col=18, row=23), ActiveCell(col=19, row=23), ActiveCell(col=20, row=23), ActiveCell(col=21, row=23), ActiveCell(col=22, row=23), ActiveCell(col=23, row=23), ActiveCell(col=24, row=23), ActiveCell(col=25, row=23), ActiveCell(col=26, row=23), ActiveCell(col=27, row=23), ActiveCell(col=28, row=23), ActiveCell(col=29, row=23), ActiveCell(col=30, row=23), ActiveCell(col=31, row=23), ActiveCell(col=32, row=23), ActiveCell(col=33, row=23), ActiveCell(col=34, row=23), ActiveCell(col=35, row=23), ActiveCell(col=36, row=23), ActiveCell(col=37, row=23), ActiveCell(col=38, row=23), ActiveCell(col=39, row=23), ActiveCell(col=40, row=23), ActiveCell(col=41, row=23), ActiveCell(col=42, row=23), ActiveCell(col=43, row=23), ActiveCell(col=44, row=23), ActiveCell(col=45, row=23), ActiveCell(col=46, row=23), ActiveCell(col=47, row=23), ActiveCell(col=48, row=23), ActiveCell(col=49, row=23), ActiveCell(col=50, row=23), ActiveCell(col=51, row=23), ActiveCell(col=52, row=23), ActiveCell(col=53, row=23), ActiveCell(col=54, row=23), ActiveCell(col=55, row=23), ActiveCell(col=56, row=23), ActiveCell(col=57, row=23), ActiveCell(col=58, row=23), ActiveCell(col=59, row=23), ActiveCell(col=60, row=23), ActiveCell(col=61, row=23), ActiveCell(col=62, row=23), ActiveCell(col=63, row=23), ActiveCell(col=64, row=23), ActiveCell(col=65, row=23), ActiveCell(col=66, row=23), ActiveCell(col=67, row=23), ActiveCell(col=68, row=23), ActiveCell(col=69, row=23), ActiveCell(col=70, row=23), ActiveCell(col=71, row=23), ActiveCell(col=72, row=23), ActiveCell(col=73, row=23), ActiveCell(col=74, row=23), ActiveCell(col=75, row=23), ActiveCell(col=76, row=23), ActiveCell(col=77, row=23), ActiveCell(col=78, row=23), ActiveCell(col=79, row=23), ActiveCell(col=80, row=23), ActiveCell(col=81, row=23), ActiveCell(col=82, row=23), ActiveCell(col=83, row=23), ActiveCell(col=84, row=23), ActiveCell(col=85, row=23), ActiveCell(col=86, row=23), ActiveCell(col=87, row=23), ActiveCell(col=88, row=23), ActiveCell(col=89, row=23), ActiveCell(col=90, row=23), ActiveCell(col=91, row=23), ActiveCell(col=92, row=23), ActiveCell(col=93, row=23), ActiveCell(col=94, row=23), ActiveCell(col=95, row=23), ActiveCell(col=96, row=23), ActiveCell(col=97, row=23), ActiveCell(col=5, row=24), ActiveCell(col=6, row=24), ActiveCell(col=7, row=24), ActiveCell(col=8, row=24), ActiveCell(col=9, row=24), ActiveCell(col=10, row=24), ActiveCell(col=11, row=24), ActiveCell(col=12, row=24), ActiveCell(col=13, row=24), ActiveCell(col=14, row=24), ActiveCell(col=15, row=24), ActiveCell(col=16, row=24), ActiveCell(col=17, row=24), ActiveCell(col=18, row=24), ActiveCell(col=19, row=24), ActiveCell(col=20, row=24), ActiveCell(col=21, row=24), ActiveCell(col=22, row=24), ActiveCell(col=23, row=24), ActiveCell(col=24, row=24), ActiveCell(col=25, row=24), ActiveCell(col=26, row=24), ActiveCell(col=27, row=24), ActiveCell(col=28, row=24), ActiveCell(col=29, row=24), ActiveCell(col=30, row=24), ActiveCell(col=31, row=24), ActiveCell(col=32, row=24), ActiveCell(col=33, row=24), ActiveCell(col=34, row=24), ActiveCell(col=35, row=24), ActiveCell(col=36, row=24), ActiveCell(col=37, row=24), ActiveCell(col=38, row=24), ActiveCell(col=39, row=24), ActiveCell(col=40, row=24), ActiveCell(col=41, row=24), ActiveCell(col=42, row=24), ActiveCell(col=43, row=24), ActiveCell(col=44, row=24), ActiveCell(col=45, row=24), ActiveCell(col=46, row=24), ActiveCell(col=47, row=24), ActiveCell(col=48, row=24), ActiveCell(col=49, row=24), ActiveCell(col=50, row=24), ActiveCell(col=51, row=24), ActiveCell(col=52, row=24), ActiveCell(col=53, row=24), ActiveCell(col=54, row=24), ActiveCell(col=55, row=24), ActiveCell(col=56, row=24), ActiveCell(col=57, row=24), ActiveCell(col=58, row=24), ActiveCell(col=59, row=24), ActiveCell(col=60, row=24), ActiveCell(col=61, row=24), ActiveCell(col=62, row=24), ActiveCell(col=63, row=24), ActiveCell(col=64, row=24), ActiveCell(col=65, row=24), ActiveCell(col=66, row=24), ActiveCell(col=67, row=24), ActiveCell(col=68, row=24), ActiveCell(col=69, row=24), ActiveCell(col=70, row=24), ActiveCell(col=71, row=24), ActiveCell(col=72, row=24), ActiveCell(col=73, row=24), ActiveCell(col=74, row=24), ActiveCell(col=75, row=24), ActiveCell(col=76, row=24), ActiveCell(col=77, row=24), ActiveCell(col=78, row=24), ActiveCell(col=79, row=24), ActiveCell(col=80, row=24), ActiveCell(col=81, row=24), ActiveCell(col=82, row=24), ActiveCell(col=83, row=24), ActiveCell(col=84, row=24), ActiveCell(col=85, row=24), ActiveCell(col=86, row=24), ActiveCell(col=87, row=24), ActiveCell(col=88, row=24), ActiveCell(col=89, row=24), ActiveCell(col=90, row=24), ActiveCell(col=91, row=24), ActiveCell(col=92, row=24), ActiveCell(col=93, row=24), ActiveCell(col=94, row=24), ActiveCell(col=95, row=24), ActiveCell(col=96, row=24), ActiveCell(col=97, row=24), ActiveCell(col=5, row=25), ActiveCell(col=6, row=25), ActiveCell(col=7, row=25), ActiveCell(col=8, row=25), ActiveCell(col=9, row=25), ActiveCell(col=10, row=25), ActiveCell(col=11, row=25), ActiveCell(col=12, row=25), ActiveCell(col=13, row=25), ActiveCell(col=14, row=25), ActiveCell(col=15, row=25), ActiveCell(col=16, row=25), ActiveCell(col=17, row=25), ActiveCell(col=18, row=25), ActiveCell(col=19, row=25), ActiveCell(col=20, row=25), ActiveCell(col=21, row=25), ActiveCell(col=22, row=25), ActiveCell(col=23, row=25), ActiveCell(col=24, row=25), ActiveCell(col=25, row=25), ActiveCell(col=26, row=25), ActiveCell(col=27, row=25), ActiveCell(col=28, row=25), ActiveCell(col=29, row=25), ActiveCell(col=30, row=25), ActiveCell(col=31, row=25), ActiveCell(col=32, row=25), ActiveCell(col=33, row=25), ActiveCell(col=34, row=25), ActiveCell(col=35, row=25), ActiveCell(col=36, row=25), ActiveCell(col=37, row=25), ActiveCell(col=38, row=25), ActiveCell(col=39, row=25), ActiveCell(col=40, row=25), ActiveCell(col=41, row=25), ActiveCell(col=42, row=25), ActiveCell(col=43, row=25), ActiveCell(col=44, row=25), ActiveCell(col=45, row=25), ActiveCell(col=46, row=25), ActiveCell(col=47, row=25), ActiveCell(col=48, row=25), ActiveCell(col=49, row=25), ActiveCell(col=50, row=25), ActiveCell(col=51, row=25), ActiveCell(col=52, row=25), ActiveCell(col=53, row=25), ActiveCell(col=54, row=25), ActiveCell(col=55, row=25), ActiveCell(col=56, row=25), ActiveCell(col=57, row=25), ActiveCell(col=58, row=25), ActiveCell(col=59, row=25), ActiveCell(col=60, row=25), ActiveCell(col=61, row=25), ActiveCell(col=62, row=25), ActiveCell(col=63, row=25), ActiveCell(col=64, row=25), ActiveCell(col=65, row=25), ActiveCell(col=66, row=25), ActiveCell(col=67, row=25), ActiveCell(col=68, row=25), ActiveCell(col=69, row=25), ActiveCell(col=70, row=25), ActiveCell(col=71, row=25), ActiveCell(col=72, row=25), ActiveCell(col=73, row=25), ActiveCell(col=74, row=25), ActiveCell(col=75, row=25), ActiveCell(col=76, row=25), ActiveCell(col=77, row=25), ActiveCell(col=78, row=25), ActiveCell(col=79, row=25), ActiveCell(col=80, row=25), ActiveCell(col=81, row=25), ActiveCell(col=82, row=25), ActiveCell(col=83, row=25), ActiveCell(col=84, row=25), ActiveCell(col=85, row=25), ActiveCell(col=86, row=25), ActiveCell(col=87, row=25), ActiveCell(col=88, row=25), ActiveCell(col=89, row=25), ActiveCell(col=90, row=25), ActiveCell(col=91, row=25), ActiveCell(col=92, row=25), ActiveCell(col=93, row=25), ActiveCell(col=94, row=25), ActiveCell(col=95, row=25), ActiveCell(col=96, row=25), ActiveCell(col=97, row=25), ActiveCell(col=5, row=26), ActiveCell(col=6, row=26), ActiveCell(col=7, row=26), ActiveCell(col=8, row=26), ActiveCell(col=9, row=26), ActiveCell(col=10, row=26), ActiveCell(col=11, row=26), ActiveCell(col=12, row=26), ActiveCell(col=13, row=26), ActiveCell(col=14, row=26), ActiveCell(col=15, row=26), ActiveCell(col=16, row=26), ActiveCell(col=17, row=26), ActiveCell(col=18, row=26), ActiveCell(col=19, row=26), ActiveCell(col=20, row=26), ActiveCell(col=21, row=26), ActiveCell(col=22, row=26), ActiveCell(col=23, row=26), ActiveCell(col=24, row=26), ActiveCell(col=25, row=26), ActiveCell(col=26, row=26), ActiveCell(col=27, row=26), ActiveCell(col=28, row=26), ActiveCell(col=29, row=26), ActiveCell(col=30, row=26), ActiveCell(col=31, row=26), ActiveCell(col=32, row=26), ActiveCell(col=33, row=26), ActiveCell(col=34, row=26), ActiveCell(col=35, row=26), ActiveCell(col=36, row=26), ActiveCell(col=37, row=26), ActiveCell(col=38, row=26), ActiveCell(col=39, row=26), ActiveCell(col=40, row=26), ActiveCell(col=41, row=26), ActiveCell(col=42, row=26), ActiveCell(col=43, row=26), ActiveCell(col=44, row=26), ActiveCell(col=45, row=26), ActiveCell(col=46, row=26), ActiveCell(col=47, row=26), ActiveCell(col=48, row=26), ActiveCell(col=49, row=26), ActiveCell(col=50, row=26), ActiveCell(col=51, row=26), ActiveCell(col=52, row=26), ActiveCell(col=53, row=26), ActiveCell(col=54, row=26), ActiveCell(col=55, row=26), ActiveCell(col=56, row=26), ActiveCell(col=57, row=26), ActiveCell(col=58, row=26), ActiveCell(col=59, row=26), ActiveCell(col=60, row=26), ActiveCell(col=61, row=26), ActiveCell(col=62, row=26), ActiveCell(col=63, row=26), ActiveCell(col=64, row=26), ActiveCell(col=65, row=26), ActiveCell(col=66, row=26), ActiveCell(col=67, row=26), ActiveCell(col=68, row=26), ActiveCell(col=69, row=26), ActiveCell(col=70, row=26), ActiveCell(col=71, row=26), ActiveCell(col=72, row=26), ActiveCell(col=73, row=26), ActiveCell(col=74, row=26), ActiveCell(col=75, row=26), ActiveCell(col=76, row=26), ActiveCell(col=77, row=26), ActiveCell(col=78, row=26), ActiveCell(col=79, row=26), ActiveCell(col=80, row=26), ActiveCell(col=81, row=26), ActiveCell(col=82, row=26), ActiveCell(col=83, row=26), ActiveCell(col=84, row=26), ActiveCell(col=85, row=26), ActiveCell(col=86, row=26), ActiveCell(col=87, row=26), ActiveCell(col=88, row=26), ActiveCell(col=89, row=26), ActiveCell(col=90, row=26), ActiveCell(col=91, row=26), ActiveCell(col=92, row=26), ActiveCell(col=93, row=26), ActiveCell(col=94, row=26), ActiveCell(col=95, row=26), ActiveCell(col=96, row=26), ActiveCell(col=97, row=26), ActiveCell(col=5, row=27), ActiveCell(col=6, row=27), ActiveCell(col=7, row=27), ActiveCell(col=8, row=27), ActiveCell(col=9, row=27), ActiveCell(col=10, row=27), ActiveCell(col=11, row=27), ActiveCell(col=12, row=27), ActiveCell(col=13, row=27), ActiveCell(col=14, row=27), ActiveCell(col=15, row=27), ActiveCell(col=16, row=27), ActiveCell(col=17, row=27), ActiveCell(col=18, row=27), ActiveCell(col=19, row=27), ActiveCell(col=20, row=27), ActiveCell(col=21, row=27), ActiveCell(col=22, row=27), ActiveCell(col=23, row=27), ActiveCell(col=24, row=27), ActiveCell(col=25, row=27), ActiveCell(col=26, row=27), ActiveCell(col=27, row=27), ActiveCell(col=28, row=27), ActiveCell(col=29, row=27), ActiveCell(col=30, row=27), ActiveCell(col=31, row=27), ActiveCell(col=32, row=27), ActiveCell(col=33, row=27), ActiveCell(col=34, row=27), ActiveCell(col=35, row=27), ActiveCell(col=36, row=27), ActiveCell(col=37, row=27), ActiveCell(col=38, row=27), ActiveCell(col=39, row=27), ActiveCell(col=40, row=27), ActiveCell(col=41, row=27), ActiveCell(col=42, row=27), ActiveCell(col=43, row=27), ActiveCell(col=44, row=27), ActiveCell(col=45, row=27), ActiveCell(col=46, row=27), ActiveCell(col=47, row=27), ActiveCell(col=48, row=27), ActiveCell(col=49, row=27), ActiveCell(col=50, row=27), ActiveCell(col=51, row=27), ActiveCell(col=52, row=27), ActiveCell(col=53, row=27), ActiveCell(col=54, row=27), ActiveCell(col=55, row=27), ActiveCell(col=56, row=27), ActiveCell(col=57, row=27), ActiveCell(col=58, row=27), ActiveCell(col=59, row=27), ActiveCell(col=60, row=27), ActiveCell(col=61, row=27), ActiveCell(col=62, row=27), ActiveCell(col=63, row=27), ActiveCell(col=64, row=27), ActiveCell(col=65, row=27), ActiveCell(col=66, row=27), ActiveCell(col=67, row=27), ActiveCell(col=68, row=27), ActiveCell(col=69, row=27), ActiveCell(col=70, row=27), ActiveCell(col=71, row=27), ActiveCell(col=72, row=27), ActiveCell(col=73, row=27), ActiveCell(col=74, row=27), ActiveCell(col=75, row=27), ActiveCell(col=76, row=27), ActiveCell(col=77, row=27), ActiveCell(col=78, row=27), ActiveCell(col=79, row=27), ActiveCell(col=80, row=27), ActiveCell(col=81, row=27), ActiveCell(col=82, row=27), ActiveCell(col=83, row=27), ActiveCell(col=84, row=27), ActiveCell(col=85, row=27), ActiveCell(col=86, row=27), ActiveCell(col=87, row=27), ActiveCell(col=88, row=27), ActiveCell(col=89, row=27), ActiveCell(col=90, row=27), ActiveCell(col=91, row=27), ActiveCell(col=92, row=27), ActiveCell(col=93, row=27), ActiveCell(col=94, row=27), ActiveCell(col=95, row=27), ActiveCell(col=96, row=27), ActiveCell(col=97, row=27), ActiveCell(col=98, row=27), ActiveCell(col=5, row=28), ActiveCell(col=6, row=28), ActiveCell(col=7, row=28), ActiveCell(col=8, row=28), ActiveCell(col=9, row=28), ActiveCell(col=10, row=28), ActiveCell(col=11, row=28), ActiveCell(col=12, row=28), ActiveCell(col=13, row=28), ActiveCell(col=14, row=28), ActiveCell(col=15, row=28), ActiveCell(col=16, row=28), ActiveCell(col=17, row=28), ActiveCell(col=18, row=28), ActiveCell(col=19, row=28), ActiveCell(col=20, row=28), ActiveCell(col=21, row=28), ActiveCell(col=22, row=28), ActiveCell(col=23, row=28), ActiveCell(col=24, row=28), ActiveCell(col=25, row=28), ActiveCell(col=26, row=28), ActiveCell(col=27, row=28), ActiveCell(col=28, row=28), ActiveCell(col=29, row=28), ActiveCell(col=30, row=28), ActiveCell(col=31, row=28), ActiveCell(col=32, row=28), ActiveCell(col=33, row=28), ActiveCell(col=34, row=28), ActiveCell(col=35, row=28), ActiveCell(col=36, row=28), ActiveCell(col=37, row=28), ActiveCell(col=38, row=28), ActiveCell(col=39, row=28), ActiveCell(col=40, row=28), ActiveCell(col=41, row=28), ActiveCell(col=42, row=28), ActiveCell(col=43, row=28), ActiveCell(col=44, row=28), ActiveCell(col=45, row=28), ActiveCell(col=46, row=28), ActiveCell(col=47, row=28), ActiveCell(col=48, row=28), ActiveCell(col=49, row=28), ActiveCell(col=50, row=28), ActiveCell(col=51, row=28), ActiveCell(col=52, row=28), ActiveCell(col=53, row=28), ActiveCell(col=54, row=28), ActiveCell(col=55, row=28), ActiveCell(col=56, row=28), ActiveCell(col=57, row=28), ActiveCell(col=58, row=28), ActiveCell(col=59, row=28), ActiveCell(col=60, row=28), ActiveCell(col=61, row=28), ActiveCell(col=62, row=28), ActiveCell(col=63, row=28), ActiveCell(col=64, row=28), ActiveCell(col=65, row=28), ActiveCell(col=66, row=28), ActiveCell(col=67, row=28), ActiveCell(col=68, row=28), ActiveCell(col=69, row=28), ActiveCell(col=70, row=28), ActiveCell(col=71, row=28), ActiveCell(col=72, row=28), ActiveCell(col=73, row=28), ActiveCell(col=74, row=28), ActiveCell(col=75, row=28), ActiveCell(col=76, row=28), ActiveCell(col=77, row=28), ActiveCell(col=78, row=28), ActiveCell(col=79, row=28), ActiveCell(col=80, row=28), ActiveCell(col=81, row=28), ActiveCell(col=82, row=28), ActiveCell(col=83, row=28), ActiveCell(col=84, row=28), ActiveCell(col=85, row=28), ActiveCell(col=86, row=28), ActiveCell(col=87, row=28), ActiveCell(col=88, row=28), ActiveCell(col=89, row=28), ActiveCell(col=90, row=28), ActiveCell(col=91, row=28), ActiveCell(col=92, row=28), ActiveCell(col=93, row=28), ActiveCell(col=94, row=28), ActiveCell(col=95, row=28), ActiveCell(col=96, row=28), ActiveCell(col=97, row=28), ActiveCell(col=98, row=28), ActiveCell(col=6, row=29), ActiveCell(col=7, row=29), ActiveCell(col=8, row=29), ActiveCell(col=9, row=29), ActiveCell(col=10, row=29), ActiveCell(col=11, row=29), ActiveCell(col=12, row=29), ActiveCell(col=13, row=29), ActiveCell(col=14, row=29), ActiveCell(col=15, row=29), ActiveCell(col=16, row=29), ActiveCell(col=17, row=29), ActiveCell(col=18, row=29), ActiveCell(col=19, row=29), ActiveCell(col=20, row=29), ActiveCell(col=21, row=29), ActiveCell(col=22, row=29), ActiveCell(col=23, row=29), ActiveCell(col=24, row=29), ActiveCell(col=25, row=29), ActiveCell(col=26, row=29), ActiveCell(col=27, row=29), ActiveCell(col=28, row=29), ActiveCell(col=29, row=29), ActiveCell(col=30, row=29), ActiveCell(col=31, row=29), ActiveCell(col=32, row=29), ActiveCell(col=33, row=29), ActiveCell(col=34, row=29), ActiveCell(col=35, row=29), ActiveCell(col=36, row=29), ActiveCell(col=37, row=29), ActiveCell(col=38, row=29), ActiveCell(col=39, row=29), ActiveCell(col=40, row=29), ActiveCell(col=41, row=29), ActiveCell(col=42, row=29), ActiveCell(col=43, row=29), ActiveCell(col=44, row=29), ActiveCell(col=45, row=29), ActiveCell(col=46, row=29), ActiveCell(col=47, row=29), ActiveCell(col=48, row=29), ActiveCell(col=49, row=29), ActiveCell(col=50, row=29), ActiveCell(col=51, row=29), ActiveCell(col=52, row=29), ActiveCell(col=53, row=29), ActiveCell(col=54, row=29), ActiveCell(col=55, row=29), ActiveCell(col=56, row=29), ActiveCell(col=57, row=29), ActiveCell(col=58, row=29), ActiveCell(col=59, row=29), ActiveCell(col=60, row=29), ActiveCell(col=61, row=29), ActiveCell(col=62, row=29), ActiveCell(col=63, row=29), ActiveCell(col=64, row=29), ActiveCell(col=65, row=29), ActiveCell(col=66, row=29), ActiveCell(col=67, row=29), ActiveCell(col=68, row=29), ActiveCell(col=69, row=29), ActiveCell(col=70, row=29), ActiveCell(col=71, row=29), ActiveCell(col=72, row=29), ActiveCell(col=73, row=29), ActiveCell(col=74, row=29), ActiveCell(col=75, row=29), ActiveCell(col=76, row=29), ActiveCell(col=77, row=29), ActiveCell(col=78, row=29), ActiveCell(col=79, row=29), ActiveCell(col=80, row=29), ActiveCell(col=81, row=29), ActiveCell(col=82, row=29), ActiveCell(col=83, row=29), ActiveCell(col=84, row=29), ActiveCell(col=85, row=29), ActiveCell(col=86, row=29), ActiveCell(col=87, row=29), ActiveCell(col=88, row=29), ActiveCell(col=89, row=29), ActiveCell(col=90, row=29), ActiveCell(col=91, row=29), ActiveCell(col=92, row=29), ActiveCell(col=93, row=29), ActiveCell(col=94, row=29), ActiveCell(col=95, row=29), ActiveCell(col=96, row=29), ActiveCell(col=97, row=29), ActiveCell(col=98, row=29), ActiveCell(col=6, row=30), ActiveCell(col=7, row=30), ActiveCell(col=8, row=30), ActiveCell(col=9, row=30), ActiveCell(col=10, row=30), ActiveCell(col=11, row=30), ActiveCell(col=12, row=30), ActiveCell(col=13, row=30), ActiveCell(col=14, row=30), ActiveCell(col=15, row=30), ActiveCell(col=16, row=30), ActiveCell(col=17, row=30), ActiveCell(col=18, row=30), ActiveCell(col=19, row=30), ActiveCell(col=20, row=30), ActiveCell(col=21, row=30), ActiveCell(col=22, row=30), ActiveCell(col=23, row=30), ActiveCell(col=24, row=30), ActiveCell(col=25, row=30), ActiveCell(col=26, row=30), ActiveCell(col=27, row=30), ActiveCell(col=28, row=30), ActiveCell(col=29, row=30), ActiveCell(col=30, row=30), ActiveCell(col=31, row=30), ActiveCell(col=32, row=30), ActiveCell(col=33, row=30), ActiveCell(col=34, row=30), ActiveCell(col=35, row=30), ActiveCell(col=36, row=30), ActiveCell(col=37, row=30), ActiveCell(col=38, row=30), ActiveCell(col=39, row=30), ActiveCell(col=40, row=30), ActiveCell(col=41, row=30), ActiveCell(col=42, row=30), ActiveCell(col=43, row=30), ActiveCell(col=44, row=30), ActiveCell(col=45, row=30), ActiveCell(col=46, row=30), ActiveCell(col=47, row=30), ActiveCell(col=48, row=30), ActiveCell(col=49, row=30), ActiveCell(col=50, row=30), ActiveCell(col=51, row=30), ActiveCell(col=52, row=30), ActiveCell(col=53, row=30), ActiveCell(col=54, row=30), ActiveCell(col=55, row=30), ActiveCell(col=56, row=30), ActiveCell(col=57, row=30), ActiveCell(col=58, row=30), ActiveCell(col=59, row=30), ActiveCell(col=60, row=30), ActiveCell(col=61, row=30), ActiveCell(col=62, row=30), ActiveCell(col=63, row=30), ActiveCell(col=64, row=30), ActiveCell(col=65, row=30), ActiveCell(col=66, row=30), ActiveCell(col=67, row=30), ActiveCell(col=68, row=30), ActiveCell(col=69, row=30), ActiveCell(col=70, row=30), ActiveCell(col=71, row=30), ActiveCell(col=72, row=30), ActiveCell(col=73, row=30), ActiveCell(col=74, row=30), ActiveCell(col=75, row=30), ActiveCell(col=76, row=30), ActiveCell(col=77, row=30), ActiveCell(col=78, row=30), ActiveCell(col=79, row=30), ActiveCell(col=80, row=30), ActiveCell(col=81, row=30), ActiveCell(col=82, row=30), ActiveCell(col=83, row=30), ActiveCell(col=84, row=30), ActiveCell(col=85, row=30), ActiveCell(col=86, row=30), ActiveCell(col=87, row=30), ActiveCell(col=88, row=30), ActiveCell(col=89, row=30), ActiveCell(col=90, row=30), ActiveCell(col=91, row=30), ActiveCell(col=92, row=30), ActiveCell(col=93, row=30), ActiveCell(col=94, row=30), ActiveCell(col=95, row=30), ActiveCell(col=96, row=30), ActiveCell(col=97, row=30), ActiveCell(col=98, row=30), ActiveCell(col=6, row=31), ActiveCell(col=7, row=31), ActiveCell(col=8, row=31), ActiveCell(col=9, row=31), ActiveCell(col=10, row=31), ActiveCell(col=11, row=31), ActiveCell(col=12, row=31), ActiveCell(col=13, row=31), ActiveCell(col=14, row=31), ActiveCell(col=15, row=31), ActiveCell(col=16, row=31), ActiveCell(col=17, row=31), ActiveCell(col=18, row=31), ActiveCell(col=19, row=31), ActiveCell(col=20, row=31), ActiveCell(col=21, row=31), ActiveCell(col=22, row=31), ActiveCell(col=23, row=31), ActiveCell(col=24, row=31), ActiveCell(col=25, row=31), ActiveCell(col=26, row=31), ActiveCell(col=27, row=31), ActiveCell(col=28, row=31), ActiveCell(col=29, row=31), ActiveCell(col=30, row=31), ActiveCell(col=31, row=31), ActiveCell(col=32, row=31), ActiveCell(col=33, row=31), ActiveCell(col=34, row=31), ActiveCell(col=35, row=31), ActiveCell(col=36, row=31), ActiveCell(col=37, row=31), ActiveCell(col=38, row=31), ActiveCell(col=39, row=31), ActiveCell(col=40, row=31), ActiveCell(col=41, row=31), ActiveCell(col=42, row=31), ActiveCell(col=43, row=31), ActiveCell(col=44, row=31), ActiveCell(col=45, row=31), ActiveCell(col=46, row=31), ActiveCell(col=47, row=31), ActiveCell(col=48, row=31), ActiveCell(col=49, row=31), ActiveCell(col=50, row=31), ActiveCell(col=51, row=31), ActiveCell(col=52, row=31), ActiveCell(col=53, row=31), ActiveCell(col=54, row=31), ActiveCell(col=55, row=31), ActiveCell(col=56, row=31), ActiveCell(col=57, row=31), ActiveCell(col=58, row=31), ActiveCell(col=59, row=31), ActiveCell(col=60, row=31), ActiveCell(col=61, row=31), ActiveCell(col=62, row=31), ActiveCell(col=63, row=31), ActiveCell(col=64, row=31), ActiveCell(col=65, row=31), ActiveCell(col=66, row=31), ActiveCell(col=67, row=31), ActiveCell(col=68, row=31), ActiveCell(col=69, row=31), ActiveCell(col=70, row=31), ActiveCell(col=71, row=31), ActiveCell(col=72, row=31), ActiveCell(col=73, row=31), ActiveCell(col=74, row=31), ActiveCell(col=75, row=31), ActiveCell(col=76, row=31), ActiveCell(col=77, row=31), ActiveCell(col=78, row=31), ActiveCell(col=79, row=31), ActiveCell(col=80, row=31), ActiveCell(col=81, row=31), ActiveCell(col=82, row=31), ActiveCell(col=83, row=31), ActiveCell(col=84, row=31), ActiveCell(col=85, row=31), ActiveCell(col=86, row=31), ActiveCell(col=87, row=31), ActiveCell(col=88, row=31), ActiveCell(col=89, row=31), ActiveCell(col=90, row=31), ActiveCell(col=91, row=31), ActiveCell(col=92, row=31), ActiveCell(col=93, row=31), ActiveCell(col=94, row=31), ActiveCell(col=95, row=31), ActiveCell(col=96, row=31), ActiveCell(col=97, row=31), ActiveCell(col=98, row=31), ActiveCell(col=6, row=32), ActiveCell(col=7, row=32), ActiveCell(col=8, row=32), ActiveCell(col=9, row=32), ActiveCell(col=10, row=32), ActiveCell(col=11, row=32), ActiveCell(col=12, row=32), ActiveCell(col=13, row=32), ActiveCell(col=14, row=32), ActiveCell(col=15, row=32), ActiveCell(col=16, row=32), ActiveCell(col=17, row=32), ActiveCell(col=18, row=32), ActiveCell(col=19, row=32), ActiveCell(col=20, row=32), ActiveCell(col=21, row=32), ActiveCell(col=22, row=32), ActiveCell(col=23, row=32), ActiveCell(col=24, row=32), ActiveCell(col=25, row=32), ActiveCell(col=26, row=32), ActiveCell(col=27, row=32), ActiveCell(col=28, row=32), ActiveCell(col=29, row=32), ActiveCell(col=30, row=32), ActiveCell(col=31, row=32), ActiveCell(col=32, row=32), ActiveCell(col=33, row=32), ActiveCell(col=34, row=32), ActiveCell(col=35, row=32), ActiveCell(col=36, row=32), ActiveCell(col=37, row=32), ActiveCell(col=38, row=32), ActiveCell(col=39, row=32), ActiveCell(col=40, row=32), ActiveCell(col=41, row=32), ActiveCell(col=42, row=32), ActiveCell(col=43, row=32), ActiveCell(col=44, row=32), ActiveCell(col=45, row=32), ActiveCell(col=46, row=32), ActiveCell(col=47, row=32), ActiveCell(col=48, row=32), ActiveCell(col=49, row=32), ActiveCell(col=50, row=32), ActiveCell(col=51, row=32), ActiveCell(col=52, row=32), ActiveCell(col=53, row=32), ActiveCell(col=54, row=32), ActiveCell(col=55, row=32), ActiveCell(col=56, row=32), ActiveCell(col=57, row=32), ActiveCell(col=58, row=32), ActiveCell(col=59, row=32), ActiveCell(col=60, row=32), ActiveCell(col=61, row=32), ActiveCell(col=62, row=32), ActiveCell(col=63, row=32), ActiveCell(col=64, row=32), ActiveCell(col=65, row=32), ActiveCell(col=66, row=32), ActiveCell(col=67, row=32), ActiveCell(col=68, row=32), ActiveCell(col=69, row=32), ActiveCell(col=70, row=32), ActiveCell(col=71, row=32), ActiveCell(col=72, row=32), ActiveCell(col=73, row=32), ActiveCell(col=74, row=32), ActiveCell(col=75, row=32), ActiveCell(col=76, row=32), ActiveCell(col=77, row=32), ActiveCell(col=78, row=32), ActiveCell(col=79, row=32), ActiveCell(col=80, row=32), ActiveCell(col=81, row=32), ActiveCell(col=82, row=32), ActiveCell(col=83, row=32), ActiveCell(col=84, row=32), ActiveCell(col=85, row=32), ActiveCell(col=86, row=32), ActiveCell(col=87, row=32), ActiveCell(col=88, row=32), ActiveCell(col=89, row=32), ActiveCell(col=90, row=32), ActiveCell(col=91, row=32), ActiveCell(col=92, row=32), ActiveCell(col=93, row=32), ActiveCell(col=94, row=32), ActiveCell(col=95, row=32), ActiveCell(col=96, row=32), ActiveCell(col=97, row=32), ActiveCell(col=98, row=32), ActiveCell(col=99, row=32), ActiveCell(col=6, row=33), ActiveCell(col=7, row=33), ActiveCell(col=8, row=33), ActiveCell(col=9, row=33), ActiveCell(col=10, row=33), ActiveCell(col=11, row=33), ActiveCell(col=12, row=33), ActiveCell(col=13, row=33), ActiveCell(col=14, row=33), ActiveCell(col=15, row=33), ActiveCell(col=16, row=33), ActiveCell(col=17, row=33), ActiveCell(col=18, row=33), ActiveCell(col=19, row=33), ActiveCell(col=20, row=33), ActiveCell(col=21, row=33), ActiveCell(col=22, row=33), ActiveCell(col=23, row=33), ActiveCell(col=24, row=33), ActiveCell(col=25, row=33), ActiveCell(col=26, row=33), ActiveCell(col=27, row=33), ActiveCell(col=28, row=33), ActiveCell(col=29, row=33), ActiveCell(col=30, row=33), ActiveCell(col=31, row=33), ActiveCell(col=32, row=33), ActiveCell(col=33, row=33), ActiveCell(col=34, row=33), ActiveCell(col=35, row=33), ActiveCell(col=36, row=33), ActiveCell(col=37, row=33), ActiveCell(col=38, row=33), ActiveCell(col=39, row=33), ActiveCell(col=40, row=33), ActiveCell(col=41, row=33), ActiveCell(col=42, row=33), ActiveCell(col=43, row=33), ActiveCell(col=44, row=33), ActiveCell(col=45, row=33), ActiveCell(col=46, row=33), ActiveCell(col=47, row=33), ActiveCell(col=48, row=33), ActiveCell(col=49, row=33), ActiveCell(col=50, row=33), ActiveCell(col=51, row=33), ActiveCell(col=52, row=33), ActiveCell(col=53, row=33), ActiveCell(col=54, row=33), ActiveCell(col=55, row=33), ActiveCell(col=56, row=33), ActiveCell(col=57, row=33), ActiveCell(col=58, row=33), ActiveCell(col=59, row=33), ActiveCell(col=60, row=33), ActiveCell(col=61, row=33), ActiveCell(col=62, row=33), ActiveCell(col=63, row=33), ActiveCell(col=64, row=33), ActiveCell(col=65, row=33), ActiveCell(col=66, row=33), ActiveCell(col=67, row=33), ActiveCell(col=68, row=33), ActiveCell(col=69, row=33), ActiveCell(col=70, row=33), ActiveCell(col=71, row=33), ActiveCell(col=72, row=33), ActiveCell(col=73, row=33), ActiveCell(col=74, row=33), ActiveCell(col=75, row=33), ActiveCell(col=76, row=33), ActiveCell(col=77, row=33), ActiveCell(col=78, row=33), ActiveCell(col=79, row=33), ActiveCell(col=80, row=33), ActiveCell(col=81, row=33), ActiveCell(col=82, row=33), ActiveCell(col=83, row=33), ActiveCell(col=84, row=33), ActiveCell(col=85, row=33), ActiveCell(col=86, row=33), ActiveCell(col=87, row=33), ActiveCell(col=88, row=33), ActiveCell(col=89, row=33), ActiveCell(col=90, row=33), ActiveCell(col=91, row=33), ActiveCell(col=92, row=33), ActiveCell(col=93, row=33), ActiveCell(col=94, row=33), ActiveCell(col=95, row=33), ActiveCell(col=96, row=33), ActiveCell(col=97, row=33), ActiveCell(col=98, row=33), ActiveCell(col=99, row=33), ActiveCell(col=7, row=34), ActiveCell(col=8, row=34), ActiveCell(col=9, row=34), ActiveCell(col=10, row=34), ActiveCell(col=11, row=34), ActiveCell(col=12, row=34), ActiveCell(col=13, row=34), ActiveCell(col=14, row=34), ActiveCell(col=15, row=34), ActiveCell(col=16, row=34), ActiveCell(col=17, row=34), ActiveCell(col=18, row=34), ActiveCell(col=19, row=34), ActiveCell(col=20, row=34), ActiveCell(col=21, row=34), ActiveCell(col=22, row=34), ActiveCell(col=23, row=34), ActiveCell(col=24, row=34), ActiveCell(col=25, row=34), ActiveCell(col=26, row=34), ActiveCell(col=27, row=34), ActiveCell(col=28, row=34), ActiveCell(col=29, row=34), ActiveCell(col=30, row=34), ActiveCell(col=31, row=34), ActiveCell(col=32, row=34), ActiveCell(col=33, row=34), ActiveCell(col=34, row=34), ActiveCell(col=35, row=34), ActiveCell(col=36, row=34), ActiveCell(col=37, row=34), ActiveCell(col=38, row=34), ActiveCell(col=39, row=34), ActiveCell(col=40, row=34), ActiveCell(col=41, row=34), ActiveCell(col=42, row=34), ActiveCell(col=43, row=34), ActiveCell(col=44, row=34), ActiveCell(col=45, row=34), ActiveCell(col=46, row=34), ActiveCell(col=47, row=34), ActiveCell(col=48, row=34), ActiveCell(col=49, row=34), ActiveCell(col=50, row=34), ActiveCell(col=51, row=34), ActiveCell(col=52, row=34), ActiveCell(col=53, row=34), ActiveCell(col=54, row=34), ActiveCell(col=55, row=34), ActiveCell(col=56, row=34), ActiveCell(col=57, row=34), ActiveCell(col=58, row=34), ActiveCell(col=59, row=34), ActiveCell(col=60, row=34), ActiveCell(col=61, row=34), ActiveCell(col=62, row=34), ActiveCell(col=63, row=34), ActiveCell(col=64, row=34), ActiveCell(col=65, row=34), ActiveCell(col=66, row=34), ActiveCell(col=67, row=34), ActiveCell(col=68, row=34), ActiveCell(col=69, row=34), ActiveCell(col=70, row=34), ActiveCell(col=71, row=34), ActiveCell(col=72, row=34), ActiveCell(col=73, row=34), ActiveCell(col=74, row=34), ActiveCell(col=75, row=34), ActiveCell(col=76, row=34), ActiveCell(col=77, row=34), ActiveCell(col=78, row=34), ActiveCell(col=79, row=34), ActiveCell(col=80, row=34), ActiveCell(col=81, row=34), ActiveCell(col=82, row=34), ActiveCell(col=83, row=34), ActiveCell(col=84, row=34), ActiveCell(col=85, row=34), ActiveCell(col=86, row=34), ActiveCell(col=87, row=34), ActiveCell(col=88, row=34), ActiveCell(col=89, row=34), ActiveCell(col=90, row=34), ActiveCell(col=91, row=34), ActiveCell(col=92, row=34), ActiveCell(col=93, row=34), ActiveCell(col=94, row=34), ActiveCell(col=95, row=34), ActiveCell(col=7, row=35), ActiveCell(col=8, row=35), ActiveCell(col=9, row=35), ActiveCell(col=10, row=35), ActiveCell(col=11, row=35), ActiveCell(col=12, row=35), ActiveCell(col=13, row=35), ActiveCell(col=14, row=35), ActiveCell(col=15, row=35), ActiveCell(col=16, row=35), ActiveCell(col=17, row=35), ActiveCell(col=18, row=35), ActiveCell(col=19, row=35), ActiveCell(col=20, row=35), ActiveCell(col=21, row=35), ActiveCell(col=22, row=35), ActiveCell(col=23, row=35), ActiveCell(col=24, row=35), ActiveCell(col=25, row=35), ActiveCell(col=26, row=35), ActiveCell(col=27, row=35), ActiveCell(col=28, row=35), ActiveCell(col=29, row=35), ActiveCell(col=30, row=35), ActiveCell(col=31, row=35), ActiveCell(col=32, row=35), ActiveCell(col=33, row=35), ActiveCell(col=34, row=35), ActiveCell(col=35, row=35), ActiveCell(col=36, row=35), ActiveCell(col=37, row=35), ActiveCell(col=38, row=35), ActiveCell(col=39, row=35), ActiveCell(col=40, row=35), ActiveCell(col=41, row=35), ActiveCell(col=42, row=35), ActiveCell(col=43, row=35), ActiveCell(col=44, row=35), ActiveCell(col=45, row=35), ActiveCell(col=46, row=35), ActiveCell(col=47, row=35), ActiveCell(col=48, row=35), ActiveCell(col=49, row=35), ActiveCell(col=50, row=35), ActiveCell(col=51, row=35), ActiveCell(col=52, row=35), ActiveCell(col=53, row=35), ActiveCell(col=54, row=35), ActiveCell(col=55, row=35), ActiveCell(col=56, row=35), ActiveCell(col=57, row=35), ActiveCell(col=58, row=35), ActiveCell(col=59, row=35), ActiveCell(col=60, row=35), ActiveCell(col=61, row=35), ActiveCell(col=62, row=35), ActiveCell(col=63, row=35), ActiveCell(col=64, row=35), ActiveCell(col=65, row=35), ActiveCell(col=66, row=35), ActiveCell(col=67, row=35), ActiveCell(col=68, row=35), ActiveCell(col=69, row=35), ActiveCell(col=70, row=35), ActiveCell(col=71, row=35), ActiveCell(col=72, row=35), ActiveCell(col=73, row=35), ActiveCell(col=74, row=35), ActiveCell(col=75, row=35), ActiveCell(col=76, row=35), ActiveCell(col=77, row=35), ActiveCell(col=78, row=35), ActiveCell(col=79, row=35), ActiveCell(col=80, row=35), ActiveCell(col=81, row=35), ActiveCell(col=82, row=35), ActiveCell(col=83, row=35), ActiveCell(col=84, row=35), ActiveCell(col=85, row=35), ActiveCell(col=86, row=35), ActiveCell(col=87, row=35), ActiveCell(col=88, row=35), ActiveCell(col=89, row=35), ActiveCell(col=90, row=35), ActiveCell(col=7, row=36), ActiveCell(col=8, row=36), ActiveCell(col=9, row=36), ActiveCell(col=10, row=36), ActiveCell(col=11, row=36), ActiveCell(col=12, row=36), ActiveCell(col=13, row=36), ActiveCell(col=14, row=36), ActiveCell(col=15, row=36), ActiveCell(col=16, row=36), ActiveCell(col=17, row=36), ActiveCell(col=18, row=36), ActiveCell(col=19, row=36), ActiveCell(col=20, row=36), ActiveCell(col=21, row=36), ActiveCell(col=22, row=36), ActiveCell(col=23, row=36), ActiveCell(col=24, row=36), ActiveCell(col=25, row=36), ActiveCell(col=26, row=36), ActiveCell(col=27, row=36), ActiveCell(col=28, row=36), ActiveCell(col=29, row=36), ActiveCell(col=30, row=36), ActiveCell(col=31, row=36), ActiveCell(col=32, row=36), ActiveCell(col=33, row=36), ActiveCell(col=34, row=36), ActiveCell(col=35, row=36), ActiveCell(col=36, row=36), ActiveCell(col=37, row=36), ActiveCell(col=38, row=36), ActiveCell(col=39, row=36), ActiveCell(col=40, row=36), ActiveCell(col=41, row=36), ActiveCell(col=42, row=36), ActiveCell(col=43, row=36), ActiveCell(col=44, row=36), ActiveCell(col=45, row=36), ActiveCell(col=46, row=36), ActiveCell(col=47, row=36), ActiveCell(col=48, row=36), ActiveCell(col=49, row=36), ActiveCell(col=50, row=36), ActiveCell(col=51, row=36), ActiveCell(col=52, row=36), ActiveCell(col=53, row=36), ActiveCell(col=54, row=36), ActiveCell(col=55, row=36), ActiveCell(col=56, row=36), ActiveCell(col=57, row=36), ActiveCell(col=58, row=36), ActiveCell(col=59, row=36), ActiveCell(col=60, row=36), ActiveCell(col=61, row=36), ActiveCell(col=62, row=36), ActiveCell(col=63, row=36), ActiveCell(col=64, row=36), ActiveCell(col=65, row=36), ActiveCell(col=66, row=36), ActiveCell(col=67, row=36), ActiveCell(col=68, row=36), ActiveCell(col=69, row=36), ActiveCell(col=70, row=36), ActiveCell(col=71, row=36), ActiveCell(col=72, row=36), ActiveCell(col=73, row=36), ActiveCell(col=74, row=36), ActiveCell(col=75, row=36), ActiveCell(col=76, row=36), ActiveCell(col=77, row=36), ActiveCell(col=78, row=36), ActiveCell(col=79, row=36), ActiveCell(col=80, row=36), ActiveCell(col=81, row=36), ActiveCell(col=82, row=36), ActiveCell(col=83, row=36), ActiveCell(col=84, row=36), ActiveCell(col=7, row=37), ActiveCell(col=8, row=37), ActiveCell(col=9, row=37), ActiveCell(col=10, row=37), ActiveCell(col=11, row=37), ActiveCell(col=12, row=37), ActiveCell(col=13, row=37), ActiveCell(col=14, row=37), ActiveCell(col=15, row=37), ActiveCell(col=16, row=37), ActiveCell(col=17, row=37), ActiveCell(col=18, row=37), ActiveCell(col=19, row=37), ActiveCell(col=20, row=37), ActiveCell(col=21, row=37), ActiveCell(col=22, row=37), ActiveCell(col=23, row=37), ActiveCell(col=24, row=37), ActiveCell(col=25, row=37), ActiveCell(col=26, row=37), ActiveCell(col=27, row=37), ActiveCell(col=28, row=37), ActiveCell(col=29, row=37), ActiveCell(col=30, row=37), ActiveCell(col=31, row=37), ActiveCell(col=32, row=37), ActiveCell(col=33, row=37), ActiveCell(col=34, row=37), ActiveCell(col=35, row=37), ActiveCell(col=36, row=37), ActiveCell(col=37, row=37), ActiveCell(col=38, row=37), ActiveCell(col=39, row=37), ActiveCell(col=40, row=37), ActiveCell(col=41, row=37), ActiveCell(col=42, row=37), ActiveCell(col=43, row=37), ActiveCell(col=44, row=37), ActiveCell(col=45, row=37), ActiveCell(col=46, row=37), ActiveCell(col=47, row=37), ActiveCell(col=48, row=37), ActiveCell(col=49, row=37), ActiveCell(col=50, row=37), ActiveCell(col=51, row=37), ActiveCell(col=52, row=37), ActiveCell(col=53, row=37), ActiveCell(col=54, row=37), ActiveCell(col=55, row=37), ActiveCell(col=56, row=37), ActiveCell(col=57, row=37), ActiveCell(col=58, row=37), ActiveCell(col=59, row=37), ActiveCell(col=60, row=37), ActiveCell(col=61, row=37), ActiveCell(col=62, row=37), ActiveCell(col=63, row=37), ActiveCell(col=64, row=37), ActiveCell(col=65, row=37), ActiveCell(col=66, row=37), ActiveCell(col=67, row=37), ActiveCell(col=68, row=37), ActiveCell(col=69, row=37), ActiveCell(col=70, row=37), ActiveCell(col=71, row=37), ActiveCell(col=72, row=37), ActiveCell(col=73, row=37), ActiveCell(col=74, row=37), ActiveCell(col=75, row=37), ActiveCell(col=76, row=37), ActiveCell(col=77, row=37), ActiveCell(col=78, row=37), ActiveCell(col=7, row=38), ActiveCell(col=8, row=38), ActiveCell(col=9, row=38), ActiveCell(col=10, row=38), ActiveCell(col=11, row=38), ActiveCell(col=12, row=38), ActiveCell(col=13, row=38), ActiveCell(col=14, row=38), ActiveCell(col=15, row=38), ActiveCell(col=16, row=38), ActiveCell(col=17, row=38), ActiveCell(col=18, row=38), ActiveCell(col=19, row=38), ActiveCell(col=20, row=38), ActiveCell(col=21, row=38), ActiveCell(col=22, row=38), ActiveCell(col=23, row=38), ActiveCell(col=24, row=38), ActiveCell(col=25, row=38), ActiveCell(col=26, row=38), ActiveCell(col=27, row=38), ActiveCell(col=28, row=38), ActiveCell(col=29, row=38), ActiveCell(col=30, row=38), ActiveCell(col=31, row=38), ActiveCell(col=32, row=38), ActiveCell(col=33, row=38), ActiveCell(col=34, row=38), ActiveCell(col=35, row=38), ActiveCell(col=36, row=38), ActiveCell(col=37, row=38), ActiveCell(col=38, row=38), ActiveCell(col=39, row=38), ActiveCell(col=40, row=38), ActiveCell(col=41, row=38), ActiveCell(col=42, row=38), ActiveCell(col=43, row=38), ActiveCell(col=44, row=38), ActiveCell(col=45, row=38), ActiveCell(col=46, row=38), ActiveCell(col=47, row=38), ActiveCell(col=48, row=38), ActiveCell(col=49, row=38), ActiveCell(col=50, row=38), ActiveCell(col=51, row=38), ActiveCell(col=52, row=38), ActiveCell(col=53, row=38), ActiveCell(col=54, row=38), ActiveCell(col=55, row=38), ActiveCell(col=56, row=38), ActiveCell(col=57, row=38), ActiveCell(col=58, row=38), ActiveCell(col=59, row=38), ActiveCell(col=60, row=38), ActiveCell(col=61, row=38), ActiveCell(col=62, row=38), ActiveCell(col=63, row=38), ActiveCell(col=64, row=38), ActiveCell(col=65, row=38), ActiveCell(col=66, row=38), ActiveCell(col=67, row=38), ActiveCell(col=68, row=38), ActiveCell(col=69, row=38), ActiveCell(col=70, row=38), ActiveCell(col=71, row=38), ActiveCell(col=72, row=38), ActiveCell(col=73, row=38), ActiveCell(col=8, row=39), ActiveCell(col=9, row=39), ActiveCell(col=10, row=39), ActiveCell(col=11, row=39), ActiveCell(col=12, row=39), ActiveCell(col=13, row=39), ActiveCell(col=14, row=39), ActiveCell(col=15, row=39), ActiveCell(col=16, row=39), ActiveCell(col=17, row=39), ActiveCell(col=18, row=39), ActiveCell(col=19, row=39), ActiveCell(col=20, row=39), ActiveCell(col=21, row=39), ActiveCell(col=22, row=39), ActiveCell(col=23, row=39), ActiveCell(col=24, row=39), ActiveCell(col=25, row=39), ActiveCell(col=26, row=39), ActiveCell(col=27, row=39), ActiveCell(col=28, row=39), ActiveCell(col=29, row=39), ActiveCell(col=30, row=39), ActiveCell(col=31, row=39), ActiveCell(col=32, row=39), ActiveCell(col=33, row=39), ActiveCell(col=34, row=39), ActiveCell(col=35, row=39), ActiveCell(col=36, row=39), ActiveCell(col=37, row=39), ActiveCell(col=38, row=39), ActiveCell(col=39, row=39), ActiveCell(col=40, row=39), ActiveCell(col=41, row=39), ActiveCell(col=42, row=39), ActiveCell(col=43, row=39), ActiveCell(col=44, row=39), ActiveCell(col=45, row=39), ActiveCell(col=46, row=39), ActiveCell(col=47, row=39), ActiveCell(col=48, row=39), ActiveCell(col=49, row=39), ActiveCell(col=50, row=39), ActiveCell(col=51, row=39), ActiveCell(col=52, row=39), ActiveCell(col=53, row=39), ActiveCell(col=54, row=39), ActiveCell(col=55, row=39), ActiveCell(col=56, row=39), ActiveCell(col=57, row=39), ActiveCell(col=58, row=39), ActiveCell(col=59, row=39), ActiveCell(col=60, row=39), ActiveCell(col=61, row=39), ActiveCell(col=62, row=39), ActiveCell(col=63, row=39), ActiveCell(col=64, row=39), ActiveCell(col=65, row=39), ActiveCell(col=66, row=39), ActiveCell(col=67, row=39), ActiveCell(col=8, row=40), ActiveCell(col=9, row=40), ActiveCell(col=10, row=40), ActiveCell(col=11, row=40), ActiveCell(col=12, row=40), ActiveCell(col=13, row=40), ActiveCell(col=14, row=40), ActiveCell(col=15, row=40), ActiveCell(col=16, row=40), ActiveCell(col=17, row=40), ActiveCell(col=18, row=40), ActiveCell(col=19, row=40), ActiveCell(col=20, row=40), ActiveCell(col=21, row=40), ActiveCell(col=22, row=40), ActiveCell(col=23, row=40), ActiveCell(col=24, row=40), ActiveCell(col=25, row=40), ActiveCell(col=26, row=40), ActiveCell(col=27, row=40), ActiveCell(col=28, row=40), ActiveCell(col=29, row=40), ActiveCell(col=30, row=40), ActiveCell(col=31, row=40), ActiveCell(col=32, row=40), ActiveCell(col=33, row=40), ActiveCell(col=34, row=40), ActiveCell(col=35, row=40), ActiveCell(col=36, row=40), ActiveCell(col=37, row=40), ActiveCell(col=38, row=40), ActiveCell(col=39, row=40), ActiveCell(col=40, row=40), ActiveCell(col=41, row=40), ActiveCell(col=42, row=40), ActiveCell(col=43, row=40), ActiveCell(col=44, row=40), ActiveCell(col=45, row=40), ActiveCell(col=46, row=40), ActiveCell(col=47, row=40), ActiveCell(col=48, row=40), ActiveCell(col=49, row=40), ActiveCell(col=50, row=40), ActiveCell(col=51, row=40), ActiveCell(col=52, row=40), ActiveCell(col=53, row=40), ActiveCell(col=54, row=40), ActiveCell(col=55, row=40), ActiveCell(col=56, row=40), ActiveCell(col=57, row=40), ActiveCell(col=58, row=40), ActiveCell(col=59, row=40), ActiveCell(col=60, row=40), ActiveCell(col=61, row=40), ActiveCell(col=62, row=40), ActiveCell(col=8, row=41), ActiveCell(col=9, row=41), ActiveCell(col=10, row=41), ActiveCell(col=11, row=41), ActiveCell(col=12, row=41), ActiveCell(col=13, row=41), ActiveCell(col=14, row=41), ActiveCell(col=15, row=41), ActiveCell(col=16, row=41), ActiveCell(col=17, row=41), ActiveCell(col=18, row=41), ActiveCell(col=19, row=41), ActiveCell(col=20, row=41), ActiveCell(col=21, row=41), ActiveCell(col=22, row=41), ActiveCell(col=23, row=41), ActiveCell(col=24, row=41), ActiveCell(col=25, row=41), ActiveCell(col=26, row=41), ActiveCell(col=27, row=41), ActiveCell(col=28, row=41), ActiveCell(col=29, row=41), ActiveCell(col=30, row=41), ActiveCell(col=31, row=41), ActiveCell(col=32, row=41), ActiveCell(col=33, row=41), ActiveCell(col=34, row=41), ActiveCell(col=35, row=41), ActiveCell(col=36, row=41), ActiveCell(col=37, row=41), ActiveCell(col=38, row=41), ActiveCell(col=39, row=41), ActiveCell(col=40, row=41), ActiveCell(col=41, row=41), ActiveCell(col=42, row=41), ActiveCell(col=43, row=41), ActiveCell(col=44, row=41), ActiveCell(col=45, row=41), ActiveCell(col=46, row=41), ActiveCell(col=47, row=41), ActiveCell(col=48, row=41), ActiveCell(col=49, row=41), ActiveCell(col=50, row=41), ActiveCell(col=51, row=41), ActiveCell(col=52, row=41), ActiveCell(col=53, row=41), ActiveCell(col=54, row=41), ActiveCell(col=55, row=41), ActiveCell(col=56, row=41), ActiveCell(col=8, row=42), ActiveCell(col=9, row=42), ActiveCell(col=10, row=42), ActiveCell(col=11, row=42), ActiveCell(col=12, row=42), ActiveCell(col=13, row=42), ActiveCell(col=14, row=42), ActiveCell(col=15, row=42), ActiveCell(col=16, row=42), ActiveCell(col=17, row=42), ActiveCell(col=18, row=42), ActiveCell(col=19, row=42), ActiveCell(col=20, row=42), ActiveCell(col=21, row=42), ActiveCell(col=22, row=42), ActiveCell(col=23, row=42), ActiveCell(col=24, row=42), ActiveCell(col=25, row=42), ActiveCell(col=26, row=42), ActiveCell(col=27, row=42), ActiveCell(col=28, row=42), ActiveCell(col=29, row=42), ActiveCell(col=30, row=42), ActiveCell(col=31, row=42), ActiveCell(col=32, row=42), ActiveCell(col=33, row=42), ActiveCell(col=34, row=42), ActiveCell(col=35, row=42), ActiveCell(col=36, row=42), ActiveCell(col=37, row=42), ActiveCell(col=38, row=42), ActiveCell(col=39, row=42), ActiveCell(col=40, row=42), ActiveCell(col=41, row=42), ActiveCell(col=42, row=42), ActiveCell(col=43, row=42), ActiveCell(col=44, row=42), ActiveCell(col=45, row=42), ActiveCell(col=46, row=42), ActiveCell(col=47, row=42), ActiveCell(col=48, row=42), ActiveCell(col=49, row=42), ActiveCell(col=50, row=42), ActiveCell(col=8, row=43), ActiveCell(col=9, row=43), ActiveCell(col=10, row=43), ActiveCell(col=11, row=43), ActiveCell(col=12, row=43), ActiveCell(col=13, row=43), ActiveCell(col=14, row=43), ActiveCell(col=15, row=43), ActiveCell(col=16, row=43), ActiveCell(col=17, row=43), ActiveCell(col=18, row=43), ActiveCell(col=19, row=43), ActiveCell(col=20, row=43), ActiveCell(col=21, row=43), ActiveCell(col=22, row=43), ActiveCell(col=23, row=43), ActiveCell(col=24, row=43), ActiveCell(col=25, row=43), ActiveCell(col=26, row=43), ActiveCell(col=27, row=43), ActiveCell(col=28, row=43), ActiveCell(col=29, row=43), ActiveCell(col=30, row=43), ActiveCell(col=31, row=43), ActiveCell(col=32, row=43), ActiveCell(col=33, row=43), ActiveCell(col=34, row=43), ActiveCell(col=35, row=43), ActiveCell(col=36, row=43), ActiveCell(col=37, row=43), ActiveCell(col=38, row=43), ActiveCell(col=39, row=43), ActiveCell(col=40, row=43), ActiveCell(col=41, row=43), ActiveCell(col=42, row=43), ActiveCell(col=43, row=43), ActiveCell(col=44, row=43), ActiveCell(col=45, row=43), ActiveCell(col=9, row=44), ActiveCell(col=10, row=44), ActiveCell(col=11, row=44), ActiveCell(col=12, row=44), ActiveCell(col=13, row=44), ActiveCell(col=14, row=44), ActiveCell(col=15, row=44), ActiveCell(col=16, row=44), ActiveCell(col=17, row=44), ActiveCell(col=18, row=44), ActiveCell(col=19, row=44), ActiveCell(col=20, row=44), ActiveCell(col=21, row=44), ActiveCell(col=22, row=44), ActiveCell(col=23, row=44), ActiveCell(col=24, row=44), ActiveCell(col=25, row=44), ActiveCell(col=26, row=44), ActiveCell(col=27, row=44), ActiveCell(col=28, row=44), ActiveCell(col=29, row=44), ActiveCell(col=30, row=44), ActiveCell(col=31, row=44), ActiveCell(col=32, row=44), ActiveCell(col=33, row=44), ActiveCell(col=34, row=44), ActiveCell(col=35, row=44), ActiveCell(col=36, row=44), ActiveCell(col=37, row=44), ActiveCell(col=38, row=44), ActiveCell(col=39, row=44), ActiveCell(col=9, row=45), ActiveCell(col=10, row=45), ActiveCell(col=11, row=45), ActiveCell(col=12, row=45), ActiveCell(col=13, row=45), ActiveCell(col=14, row=45), ActiveCell(col=15, row=45), ActiveCell(col=16, row=45), ActiveCell(col=17, row=45), ActiveCell(col=18, row=45), ActiveCell(col=19, row=45), ActiveCell(col=20, row=45), ActiveCell(col=21, row=45), ActiveCell(col=22, row=45), ActiveCell(col=23, row=45), ActiveCell(col=24, row=45), ActiveCell(col=25, row=45), ActiveCell(col=26, row=45), ActiveCell(col=27, row=45), ActiveCell(col=28, row=45), ActiveCell(col=29, row=45), ActiveCell(col=30, row=45), ActiveCell(col=31, row=45), ActiveCell(col=32, row=45), ActiveCell(col=33, row=45), ActiveCell(col=34, row=45), ActiveCell(col=9, row=46), ActiveCell(col=10, row=46), ActiveCell(col=11, row=46), ActiveCell(col=12, row=46), ActiveCell(col=13, row=46), ActiveCell(col=14, row=46), ActiveCell(col=15, row=46), ActiveCell(col=16, row=46), ActiveCell(col=17, row=46), ActiveCell(col=18, row=46), ActiveCell(col=19, row=46), ActiveCell(col=20, row=46), ActiveCell(col=21, row=46), ActiveCell(col=22, row=46), ActiveCell(col=23, row=46), ActiveCell(col=24, row=46), ActiveCell(col=25, row=46), ActiveCell(col=26, row=46), ActiveCell(col=27, row=46), ActiveCell(col=28, row=46), ActiveCell(col=9, row=47), ActiveCell(col=10, row=47), ActiveCell(col=11, row=47), ActiveCell(col=12, row=47), ActiveCell(col=13, row=47), ActiveCell(col=14, row=47), ActiveCell(col=15, row=47), ActiveCell(col=16, row=47), ActiveCell(col=17, row=47), ActiveCell(col=18, row=47), ActiveCell(col=19, row=47), ActiveCell(col=20, row=47), ActiveCell(col=21, row=47), ActiveCell(col=22, row=47), ActiveCell(col=23, row=47), ActiveCell(col=9, row=48), ActiveCell(col=10, row=48), ActiveCell(col=11, row=48), ActiveCell(col=12, row=48), ActiveCell(col=13, row=48), ActiveCell(col=14, row=48), ActiveCell(col=15, row=48), ActiveCell(col=16, row=48), ActiveCell(col=17, row=48), ActiveCell(col=9, row=49), ActiveCell(col=10, row=49), ActiveCell(col=11, row=49)])), time_discretization=TimeDiscretization(start_date_time=StartDateTime(value=datetime.datetime(2020, 1, 1, 0, 0, tzinfo=datetime.timezone.utc)), end_date_time=EndDateTime(value=datetime.datetime(2020, 1, 2, 0, 0, tzinfo=datetime.timezone.utc)), stress_periods=StressPeriodCollection(values=[StressPeriod(start_date_time=StartDateTime(value=datetime.datetime(2020, 1, 1, 0, 0, tzinfo=datetime.timezone.utc)), number_of_time_steps=NumberOfTimeSteps(value=1), time_step_multiplier=TimeStepMultiplier(value=1.0), steady_state=IsSteadyState(value=True))]), time_unit=TimeUnit(unit=4)), boundaries=BoundaryCollection(boundaries=[]), observations=ObservationCollection(observations=[]), layers=LayersCollection(layers=[Layer(layer_id=LayerId(value='8ccfc1ef-78d9-4cdb-8e90-2cf99ca2c1f3'), name=LayerName(value='Default'), description=LayerDescription(value='Default'), confinement=LayerConfinement(type='confined'), properties=LayerProperties(hk=LayerPropertyValues(value=LayerPropertyDefaultValue(value=1.0), raster=None, zones=None), hani=LayerPropertyValues(value=LayerPropertyDefaultValue(value=1.0), raster=None, zones=None), vka=LayerPropertyValues(value=LayerPropertyDefaultValue(value=1.0), raster=None, zones=None), specific_storage=LayerPropertyValues(value=LayerPropertyDefaultValue(value=0.0001), raster=None, zones=None), specific_yield=LayerPropertyValues(value=LayerPropertyDefaultValue(value=0.1), raster=None, zones=None), initial_head=LayerPropertyValues(value=LayerPropertyDefaultValue(value=1.0), raster=None, zones=None), top=LayerPropertyValues(value=LayerPropertyDefaultValue(value=1.0), raster=None, zones=None), bottom=LayerPropertyValues(value=LayerPropertyDefaultValue(value=0.0), raster=None, zones=None)))]), transport=Transport(is_enabled=IsEnabled(value=False), substances=[]), variable_density=VariableDensityFlow(is_enabled=IsEnabled(value=False), viscosity_is_enabled=IsEnabled(value=False)))"
      ]
     },
     "execution_count": 5,
     "metadata": {},
     "output_type": "execute_result"
    }
   ],
   "source": [
    "from morpheus.project.application.read.ModelReader import ModelReader\n",
    "\n",
    "model_reader = ModelReader()\n",
    "model = model_reader.get_latest_model(project_id)\n",
    "model"
   ]
  },
  {
   "cell_type": "markdown",
   "id": "572a7b334c101e6c",
   "metadata": {
    "collapsed": false,
    "papermill": {
     "duration": 0.00322,
     "end_time": "2024-05-15T15:56:27.294223",
     "exception": false,
     "start_time": "2024-05-15T15:56:27.291003",
     "status": "completed"
    },
    "tags": []
   },
   "source": [
    "## Update Model Geometry\n"
   ]
  },
  {
   "cell_type": "code",
   "execution_count": 6,
   "id": "c38378d24fc310eb",
   "metadata": {
    "ExecuteTime": {
     "end_time": "2024-05-15T12:40:49.225808Z",
     "start_time": "2024-05-15T12:40:48.842469Z"
    },
    "collapsed": false,
    "execution": {
     "iopub.execute_input": "2024-05-15T15:56:27.300941Z",
     "iopub.status.busy": "2024-05-15T15:56:27.300782Z",
     "iopub.status.idle": "2024-05-15T15:56:27.685332Z",
     "shell.execute_reply": "2024-05-15T15:56:27.685058Z"
    },
    "papermill": {
     "duration": 0.389066,
     "end_time": "2024-05-15T15:56:27.686286",
     "exception": false,
     "start_time": "2024-05-15T15:56:27.297220",
     "status": "completed"
    },
    "tags": []
   },
   "outputs": [
    {
     "data": {
      "text/plain": [
       "Polygon(coordinates=[[[13.922, 50.965], [13.925, 50.965], [13.925, 50.966], [13.922, 50.966], [13.922, 50.965]]], type='Polygon')"
      ]
     },
     "execution_count": 6,
     "metadata": {},
     "output_type": "execute_result"
    }
   ],
   "source": [
    "from morpheus.project.application.write.Model import UpdateModelGeometryCommandHandler, UpdateModelGeometryCommand\n",
    "\n",
    "new_polygon = Polygon(\n",
    "  type='Polygon',\n",
    "  coordinates=[[\n",
    "    (13.922, 50.965),\n",
    "    (13.925, 50.965),\n",
    "    (13.925, 50.966),\n",
    "    (13.922, 50.966),\n",
    "    (13.922, 50.965)\n",
    "  ]]\n",
    ")\n",
    "\n",
    "command = UpdateModelGeometryCommand(\n",
    "  project_id=project_id,\n",
    "  geometry=new_polygon,\n",
    "  user_id=user_id\n",
    ")\n",
    "\n",
    "project_command_bus.dispatch(command)\n",
    "\n",
    "model_reader = ModelReader()\n",
    "model = model_reader.get_latest_model(project_id)\n",
    "model.spatial_discretization.geometry"
   ]
  },
  {
   "cell_type": "markdown",
   "id": "91c1beb811cc5003",
   "metadata": {
    "collapsed": false,
    "papermill": {
     "duration": 0.003048,
     "end_time": "2024-05-15T15:56:27.692812",
     "exception": false,
     "start_time": "2024-05-15T15:56:27.689764",
     "status": "completed"
    },
    "tags": []
   },
   "source": [
    "## Update Model Grid Properties"
   ]
  },
  {
   "cell_type": "code",
   "execution_count": 7,
   "id": "3eeeb70e09d71fba",
   "metadata": {
    "ExecuteTime": {
     "end_time": "2024-05-15T12:40:49.361185Z",
     "start_time": "2024-05-15T12:40:49.226555Z"
    },
    "collapsed": false,
    "execution": {
     "iopub.execute_input": "2024-05-15T15:56:27.699089Z",
     "iopub.status.busy": "2024-05-15T15:56:27.698965Z",
     "iopub.status.idle": "2024-05-15T15:56:27.781918Z",
     "shell.execute_reply": "2024-05-15T15:56:27.781601Z"
    },
    "papermill": {
     "duration": 0.087068,
     "end_time": "2024-05-15T15:56:27.782779",
     "exception": false,
     "start_time": "2024-05-15T15:56:27.695711",
     "status": "completed"
    },
    "tags": []
   },
   "outputs": [
    {
     "name": "stdout",
     "output_type": "stream",
     "text": [
      "Polygon(coordinates=[[[13.922, 50.965], [13.925, 50.965], [13.925, 50.966], [13.922, 50.966], [13.922, 50.965]]], type='Polygon')\n",
      "Grid(origin=Point(coordinates=[13.921728464165456, 50.96596984662515], type='Point'), col_widths=[32.68894794320857, 32.68894794320857, 32.68894794320856, 32.688947943208575, 32.6889479432086, 32.68894794320852, 32.6889479432086, 32.68894794320855, 32.68894794320863, 32.688947943208575, 32.68894794320852], total_width=359.57842737529427, row_heights=[38.67716080928221, 38.67716080928221, 38.67716080928221, 38.67716080928221, 38.677160809282185, 38.67716080928224], total_height=232.06296485569328, rotation=Rotation(value=10), length_unit=LengthUnit(unit=2))\n",
      "{'type': 'raster', 'empty_value': False, 'shape': [6, 11], 'data': [[False, True, True, True, False, False, False, False, False, False, False], [False, True, True, True, True, True, True, True, True, True, True], [True, True, True, True, True, True, True, True, True, True, True], [True, True, True, True, True, True, True, True, True, True, True], [True, True, True, True, True, True, True, True, True, True, False], [False, False, False, False, False, False, False, True, True, True, False]]}\n"
     ]
    }
   ],
   "source": [
    "from morpheus.project.application.write.Model import UpdateModelGridCommandHandler, UpdateModelGridCommand\n",
    "\n",
    "new_del_col_relative = [0, 0.1, 0.2, 0.3, 0.4, 0.5, 0.6, 0.7, 0.8, 0.9, 1]\n",
    "new_del_row_relative = [0, 0.2, 0.4, 0.6, 0.8, 1]\n",
    "\n",
    "command = UpdateModelGridCommand(\n",
    "  project_id=project_id,\n",
    "  user_id=user_id,\n",
    "  n_cols=len(new_del_col_relative),\n",
    "  n_rows=len(new_del_row_relative),\n",
    "  rotation=10,\n",
    ")\n",
    "\n",
    "project_command_bus.dispatch(command)\n",
    "\n",
    "model_reader = ModelReader()\n",
    "model = model_reader.get_latest_model(project_id)\n",
    "print(model.spatial_discretization.geometry)\n",
    "print(model.spatial_discretization.grid)\n",
    "print(model.spatial_discretization.affected_cells.to_dict())"
   ]
  },
  {
   "cell_type": "markdown",
   "id": "2e17bfb7ad5edd8a",
   "metadata": {
    "collapsed": false,
    "papermill": {
     "duration": 0.002872,
     "end_time": "2024-05-15T15:56:27.788797",
     "exception": false,
     "start_time": "2024-05-15T15:56:27.785925",
     "status": "completed"
    },
    "tags": []
   },
   "source": [
    "## Update Model Affected Cells"
   ]
  },
  {
   "cell_type": "code",
   "execution_count": 8,
   "id": "2125ecf138c64a88",
   "metadata": {
    "ExecuteTime": {
     "end_time": "2024-05-15T12:40:49.378806Z",
     "start_time": "2024-05-15T12:40:49.362811Z"
    },
    "collapsed": false,
    "execution": {
     "iopub.execute_input": "2024-05-15T15:56:27.795500Z",
     "iopub.status.busy": "2024-05-15T15:56:27.795259Z",
     "iopub.status.idle": "2024-05-15T15:56:27.808432Z",
     "shell.execute_reply": "2024-05-15T15:56:27.808180Z"
    },
    "papermill": {
     "duration": 0.01758,
     "end_time": "2024-05-15T15:56:27.809321",
     "exception": false,
     "start_time": "2024-05-15T15:56:27.791741",
     "status": "completed"
    },
    "tags": []
   },
   "outputs": [],
   "source": [
    "from morpheus.project.application.write.Model import UpdateModelAffectedCellsCommandHandler, UpdateModelAffectedCellsCommand\n",
    "\n",
    "model_reader = ModelReader()\n",
    "model = model_reader.get_latest_model(project_id=project_id)\n",
    "affected_cells = model.spatial_discretization.affected_cells\n",
    "\n",
    "assert affected_cells.is_active(col=0, row=0) == False\n",
    "affected_cells.set_active(col=0, row=0)\n",
    "assert affected_cells.is_active(col=0, row=0) == True\n",
    "\n",
    "command = UpdateModelAffectedCellsCommand(\n",
    "  project_id=project_id,\n",
    "  affected_cells=affected_cells,\n",
    "  user_id=user_id\n",
    ")\n",
    "\n",
    "project_command_bus.dispatch(command)"
   ]
  },
  {
   "cell_type": "code",
   "execution_count": 9,
   "id": "181c8ad99124273c",
   "metadata": {
    "ExecuteTime": {
     "end_time": "2024-05-15T12:40:49.384905Z",
     "start_time": "2024-05-15T12:40:49.380118Z"
    },
    "collapsed": false,
    "execution": {
     "iopub.execute_input": "2024-05-15T15:56:27.815904Z",
     "iopub.status.busy": "2024-05-15T15:56:27.815797Z",
     "iopub.status.idle": "2024-05-15T15:56:27.819919Z",
     "shell.execute_reply": "2024-05-15T15:56:27.819710Z"
    },
    "papermill": {
     "duration": 0.008156,
     "end_time": "2024-05-15T15:56:27.820663",
     "exception": false,
     "start_time": "2024-05-15T15:56:27.812507",
     "status": "completed"
    },
    "tags": []
   },
   "outputs": [],
   "source": [
    "model_reader = ModelReader()\n",
    "model = model_reader.get_latest_model(project_id=project_id)\n",
    "affected_cells = model.spatial_discretization.affected_cells\n",
    "assert affected_cells.is_active(col=0, row=0) == True"
   ]
  },
  {
   "cell_type": "markdown",
   "id": "accb680cfa47f091",
   "metadata": {
    "collapsed": false,
    "papermill": {
     "duration": 0.002816,
     "end_time": "2024-05-15T15:56:27.826532",
     "exception": false,
     "start_time": "2024-05-15T15:56:27.823716",
     "status": "completed"
    },
    "tags": []
   },
   "source": [
    "## Show Versions of Model so far"
   ]
  },
  {
   "cell_type": "code",
   "execution_count": 10,
   "id": "cb4afb5b3dd54cea",
   "metadata": {
    "ExecuteTime": {
     "end_time": "2024-05-15T12:40:49.391528Z",
     "start_time": "2024-05-15T12:40:49.386036Z"
    },
    "collapsed": false,
    "execution": {
     "iopub.execute_input": "2024-05-15T15:56:27.832749Z",
     "iopub.status.busy": "2024-05-15T15:56:27.832637Z",
     "iopub.status.idle": "2024-05-15T15:56:27.836657Z",
     "shell.execute_reply": "2024-05-15T15:56:27.836452Z"
    },
    "papermill": {
     "duration": 0.008114,
     "end_time": "2024-05-15T15:56:27.837476",
     "exception": false,
     "start_time": "2024-05-15T15:56:27.829362",
     "status": "completed"
    },
    "tags": []
   },
   "outputs": [
    {
     "data": {
      "text/plain": [
       "[ModelVersion(version_id=VersionId(value='fb82b314-f2e8-4614-885b-6c12d5bdf923'), tag=VersionTag(value='v0.0.0'), description=VersionDescription(value='Initial version'))]"
      ]
     },
     "execution_count": 10,
     "metadata": {},
     "output_type": "execute_result"
    }
   ],
   "source": [
    "model_reader = ModelReader()\n",
    "model_reader.get_versions(project_id=project_id)"
   ]
  },
  {
   "cell_type": "markdown",
   "id": "c1e717aa2a462cbb",
   "metadata": {
    "collapsed": false,
    "papermill": {
     "duration": 0.002924,
     "end_time": "2024-05-15T15:56:27.843445",
     "exception": false,
     "start_time": "2024-05-15T15:56:27.840521",
     "status": "completed"
    },
    "tags": []
   },
   "source": [
    "## Tag Version"
   ]
  },
  {
   "cell_type": "code",
   "execution_count": 11,
   "id": "f6001b161c3b63da",
   "metadata": {
    "ExecuteTime": {
     "end_time": "2024-05-15T12:40:49.415322Z",
     "start_time": "2024-05-15T12:40:49.392499Z"
    },
    "collapsed": false,
    "execution": {
     "iopub.execute_input": "2024-05-15T15:56:27.850157Z",
     "iopub.status.busy": "2024-05-15T15:56:27.850037Z",
     "iopub.status.idle": "2024-05-15T15:56:27.871245Z",
     "shell.execute_reply": "2024-05-15T15:56:27.870993Z"
    },
    "papermill": {
     "duration": 0.025509,
     "end_time": "2024-05-15T15:56:27.872115",
     "exception": false,
     "start_time": "2024-05-15T15:56:27.846606",
     "status": "completed"
    },
    "tags": []
   },
   "outputs": [],
   "source": [
    "from morpheus.project.application.write.Model import CreateModelVersionCommand, CreateModelVersionCommandHandler\n",
    "from morpheus.project.types.ModelVersion import VersionTag, VersionDescription\n",
    "\n",
    "command = CreateModelVersionCommand(\n",
    "  project_id=project_id,\n",
    "  version_tag=VersionTag('v1.0.0'),\n",
    "  version_description=VersionDescription('Version 1.0.0'),\n",
    "  user_id=user_id\n",
    ")\n",
    "\n",
    "project_command_bus.dispatch(command)"
   ]
  },
  {
   "cell_type": "code",
   "execution_count": 12,
   "id": "91ce3ebddf8a88be",
   "metadata": {
    "ExecuteTime": {
     "end_time": "2024-05-15T12:40:49.420143Z",
     "start_time": "2024-05-15T12:40:49.416346Z"
    },
    "collapsed": false,
    "execution": {
     "iopub.execute_input": "2024-05-15T15:56:27.878914Z",
     "iopub.status.busy": "2024-05-15T15:56:27.878796Z",
     "iopub.status.idle": "2024-05-15T15:56:27.882182Z",
     "shell.execute_reply": "2024-05-15T15:56:27.881962Z"
    },
    "papermill": {
     "duration": 0.007544,
     "end_time": "2024-05-15T15:56:27.882890",
     "exception": false,
     "start_time": "2024-05-15T15:56:27.875346",
     "status": "completed"
    },
    "tags": []
   },
   "outputs": [
    {
     "data": {
      "text/plain": [
       "[ModelVersion(version_id=VersionId(value='f7cfb319-a568-4db4-a741-2f1fbf281d8a'), tag=VersionTag(value='v1.0.0'), description=VersionDescription(value='Version 1.0.0')),\n",
       " ModelVersion(version_id=VersionId(value='fb82b314-f2e8-4614-885b-6c12d5bdf923'), tag=VersionTag(value='v0.0.0'), description=VersionDescription(value='Initial version'))]"
      ]
     },
     "execution_count": 12,
     "metadata": {},
     "output_type": "execute_result"
    }
   ],
   "source": [
    "model_reader.get_versions(project_id=project_id)"
   ]
  },
  {
   "cell_type": "code",
   "execution_count": 13,
   "id": "98e0fcfb479f8ff8",
   "metadata": {
    "ExecuteTime": {
     "end_time": "2024-05-15T12:40:49.426231Z",
     "start_time": "2024-05-15T12:40:49.420702Z"
    },
    "collapsed": false,
    "execution": {
     "iopub.execute_input": "2024-05-15T15:56:27.889278Z",
     "iopub.status.busy": "2024-05-15T15:56:27.889164Z",
     "iopub.status.idle": "2024-05-15T15:56:27.893309Z",
     "shell.execute_reply": "2024-05-15T15:56:27.893106Z"
    },
    "papermill": {
     "duration": 0.008198,
     "end_time": "2024-05-15T15:56:27.894073",
     "exception": false,
     "start_time": "2024-05-15T15:56:27.885875",
     "status": "completed"
    },
    "tags": []
   },
   "outputs": [
    {
     "data": {
      "text/plain": [
       "ModelVersion(version_id=VersionId(value='f7cfb319-a568-4db4-a741-2f1fbf281d8a'), tag=VersionTag(value='v1.0.0'), description=VersionDescription(value='Version 1.0.0'))"
      ]
     },
     "execution_count": 13,
     "metadata": {},
     "output_type": "execute_result"
    }
   ],
   "source": [
    "version = model_reader.get_version_by_tag(project_id=project_id, tag=VersionTag('v1.0.0'))\n",
    "version"
   ]
  },
  {
   "cell_type": "code",
   "execution_count": 14,
   "id": "d447991ac286684f",
   "metadata": {
    "ExecuteTime": {
     "end_time": "2024-05-15T12:40:49.436406Z",
     "start_time": "2024-05-15T12:40:49.429303Z"
    },
    "collapsed": false,
    "execution": {
     "iopub.execute_input": "2024-05-15T15:56:27.900802Z",
     "iopub.status.busy": "2024-05-15T15:56:27.900701Z",
     "iopub.status.idle": "2024-05-15T15:56:27.908636Z",
     "shell.execute_reply": "2024-05-15T15:56:27.908397Z"
    },
    "papermill": {
     "duration": 0.012117,
     "end_time": "2024-05-15T15:56:27.909417",
     "exception": false,
     "start_time": "2024-05-15T15:56:27.897300",
     "status": "completed"
    },
    "tags": []
   },
   "outputs": [],
   "source": [
    "from morpheus.project.application.write.Model import UpdateModelVersionDescriptionCommand, UpdateModelVersionDescriptionCommandHandler\n",
    "\n",
    "command = UpdateModelVersionDescriptionCommand(\n",
    "  project_id=project_id,\n",
    "  version_id=version.version_id,\n",
    "  version_description=VersionDescription('Version 1.0.0 - Updated'),\n",
    "  user_id=user_id\n",
    ")\n",
    "\n",
    "project_command_bus.dispatch(command)"
   ]
  },
  {
   "cell_type": "code",
   "execution_count": 15,
   "id": "98bd0d67dcdef72c",
   "metadata": {
    "ExecuteTime": {
     "end_time": "2024-05-15T12:40:49.441845Z",
     "start_time": "2024-05-15T12:40:49.437079Z"
    },
    "collapsed": false,
    "execution": {
     "iopub.execute_input": "2024-05-15T15:56:27.916390Z",
     "iopub.status.busy": "2024-05-15T15:56:27.916166Z",
     "iopub.status.idle": "2024-05-15T15:56:27.919712Z",
     "shell.execute_reply": "2024-05-15T15:56:27.919496Z"
    },
    "papermill": {
     "duration": 0.008104,
     "end_time": "2024-05-15T15:56:27.920505",
     "exception": false,
     "start_time": "2024-05-15T15:56:27.912401",
     "status": "completed"
    },
    "tags": []
   },
   "outputs": [
    {
     "data": {
      "text/plain": [
       "'Version 1.0.0 - Updated'"
      ]
     },
     "execution_count": 15,
     "metadata": {},
     "output_type": "execute_result"
    }
   ],
   "source": [
    "version = model_reader.get_version_by_tag(project_id=project_id, tag=VersionTag('v1.0.0'))\n",
    "version.description.to_str()"
   ]
  },
  {
   "cell_type": "markdown",
   "id": "d3450ee74861c27d",
   "metadata": {
    "papermill": {
     "duration": 0.003057,
     "end_time": "2024-05-15T15:56:27.926922",
     "exception": false,
     "start_time": "2024-05-15T15:56:27.923865",
     "status": "completed"
    },
    "tags": []
   },
   "source": [
    "# Add well boundary"
   ]
  },
  {
   "cell_type": "code",
   "execution_count": 16,
   "id": "364435815cd6954f",
   "metadata": {
    "ExecuteTime": {
     "end_time": "2024-05-15T12:40:49.462632Z",
     "start_time": "2024-05-15T12:40:49.442663Z"
    },
    "execution": {
     "iopub.execute_input": "2024-05-15T15:56:27.933634Z",
     "iopub.status.busy": "2024-05-15T15:56:27.933506Z",
     "iopub.status.idle": "2024-05-15T15:56:27.953726Z",
     "shell.execute_reply": "2024-05-15T15:56:27.953436Z"
    },
    "papermill": {
     "duration": 0.024883,
     "end_time": "2024-05-15T15:56:27.954896",
     "exception": false,
     "start_time": "2024-05-15T15:56:27.930013",
     "status": "completed"
    },
    "tags": []
   },
   "outputs": [],
   "source": [
    "from morpheus.project.application.write.Model.AddModelBoundary import AddModelBoundaryCommandPayload\n",
    "from morpheus.project.application.write.Model import AddModelBoundaryCommand\n",
    "\n",
    "payload: AddModelBoundaryCommandPayload = {\n",
    "  'project_id': project_id.to_str(),\n",
    "  'model_id': model.model_id.to_str(),\n",
    "  'boundary_type': 'well',\n",
    "  'boundary_geometry': {\n",
    "    'type': 'Point',\n",
    "    'coordinates': [13.923, 50.965]\n",
    "  },\n",
    "}\n",
    "\n",
    "project_command_bus.dispatch(AddModelBoundaryCommand.from_payload(user_id=user_id, payload=payload))"
   ]
  },
  {
   "cell_type": "markdown",
   "id": "14cbb28e7eba7481",
   "metadata": {
    "papermill": {
     "duration": 0.003532,
     "end_time": "2024-05-15T15:56:27.962204",
     "exception": false,
     "start_time": "2024-05-15T15:56:27.958672",
     "status": "completed"
    },
    "tags": []
   },
   "source": [
    "# Read Model Boundaries"
   ]
  },
  {
   "cell_type": "code",
   "execution_count": 17,
   "id": "dde2c00f187dbc9c",
   "metadata": {
    "ExecuteTime": {
     "end_time": "2024-05-15T12:40:49.470630Z",
     "start_time": "2024-05-15T12:40:49.464180Z"
    },
    "execution": {
     "iopub.execute_input": "2024-05-15T15:56:27.970255Z",
     "iopub.status.busy": "2024-05-15T15:56:27.970066Z",
     "iopub.status.idle": "2024-05-15T15:56:27.974503Z",
     "shell.execute_reply": "2024-05-15T15:56:27.974242Z"
    },
    "papermill": {
     "duration": 0.009615,
     "end_time": "2024-05-15T15:56:27.975372",
     "exception": false,
     "start_time": "2024-05-15T15:56:27.965757",
     "status": "completed"
    },
    "tags": []
   },
   "outputs": [
    {
     "data": {
      "text/plain": [
       "BoundaryCollection(boundaries=[WellBoundary(boundary_id=BoundaryId(value='f70de862-24b2-48c9-81ab-b6e4b4aa4549'), type=BoundaryType(type='well'), name=BoundaryName(value='new well boundary'), tags=BoundaryTags(value=[]), geometry=Point(coordinates=[13.923, 50.965], type='Point'), affected_cells=ActiveCells(shape=[6, 11], data=[ActiveCell(col=3, row=5)]), affected_layers=[LayerId(value='8ccfc1ef-78d9-4cdb-8e90-2cf99ca2c1f3')], observations=[WellObservation(observation_id=ObservationId(value='89b115d3-e65b-49b7-a54c-1a75e7388e11'), observation_name=ObservationName(value='Observation Point 1'), geometry=Point(coordinates=[13.923, 50.965], type='Point'), data=[WellRawDataItem(date_time=StartDateTime(value=datetime.datetime(2020, 1, 1, 0, 0, tzinfo=datetime.timezone.utc)), pumping_rate=PumpingRate(value=0.0))])], enabled=True)])"
      ]
     },
     "execution_count": 17,
     "metadata": {},
     "output_type": "execute_result"
    }
   ],
   "source": [
    "model = model_reader.get_latest_model(project_id=project_id)\n",
    "model.boundaries"
   ]
  },
  {
   "cell_type": "markdown",
   "id": "23e3edd16ade53a",
   "metadata": {
    "papermill": {
     "duration": 0.003285,
     "end_time": "2024-05-15T15:56:27.981951",
     "exception": false,
     "start_time": "2024-05-15T15:56:27.978666",
     "status": "completed"
    },
    "tags": []
   },
   "source": [
    "# Remove Well Boundary"
   ]
  },
  {
   "cell_type": "code",
   "execution_count": 18,
   "id": "1bae17b57bc0a1e0",
   "metadata": {
    "ExecuteTime": {
     "end_time": "2024-05-15T12:40:49.488202Z",
     "start_time": "2024-05-15T12:40:49.471812Z"
    },
    "execution": {
     "iopub.execute_input": "2024-05-15T15:56:27.988640Z",
     "iopub.status.busy": "2024-05-15T15:56:27.988523Z",
     "iopub.status.idle": "2024-05-15T15:56:28.004738Z",
     "shell.execute_reply": "2024-05-15T15:56:28.004471Z"
    },
    "papermill": {
     "duration": 0.02083,
     "end_time": "2024-05-15T15:56:28.005821",
     "exception": false,
     "start_time": "2024-05-15T15:56:27.984991",
     "status": "completed"
    },
    "tags": []
   },
   "outputs": [],
   "source": [
    "from morpheus.project.application.write.Model.RemoveModelBoundary import RemoveModelBoundaryCommandPayload, RemoveModelBoundaryCommand\n",
    "\n",
    "boundary_id = model.boundaries[0].boundary_id\n",
    "\n",
    "payload: RemoveModelBoundaryCommandPayload = {\n",
    "  'project_id': project_id.to_str(),\n",
    "  'model_id': model.model_id.to_str(),\n",
    "  'boundary_id': boundary_id.to_str(),\n",
    "}\n",
    "\n",
    "project_command_bus.dispatch(RemoveModelBoundaryCommand.from_payload(user_id=user_id, payload=payload))"
   ]
  },
  {
   "cell_type": "code",
   "execution_count": 19,
   "id": "db153e9460ab7bc6",
   "metadata": {
    "ExecuteTime": {
     "end_time": "2024-05-15T12:40:49.494090Z",
     "start_time": "2024-05-15T12:40:49.488926Z"
    },
    "execution": {
     "iopub.execute_input": "2024-05-15T15:56:28.013628Z",
     "iopub.status.busy": "2024-05-15T15:56:28.013430Z",
     "iopub.status.idle": "2024-05-15T15:56:28.017958Z",
     "shell.execute_reply": "2024-05-15T15:56:28.017708Z"
    },
    "papermill": {
     "duration": 0.009286,
     "end_time": "2024-05-15T15:56:28.018723",
     "exception": false,
     "start_time": "2024-05-15T15:56:28.009437",
     "status": "completed"
    },
    "tags": []
   },
   "outputs": [
    {
     "data": {
      "text/plain": [
       "BoundaryCollection(boundaries=[])"
      ]
     },
     "execution_count": 19,
     "metadata": {},
     "output_type": "execute_result"
    }
   ],
   "source": [
    "model = model_reader.get_latest_model(project_id=project_id)\n",
    "model.boundaries"
   ]
  },
  {
   "cell_type": "code",
   "execution_count": null,
   "id": "dc20739afcda859d",
   "metadata": {
    "ExecuteTime": {
     "end_time": "2024-05-15T12:40:49.496618Z",
     "start_time": "2024-05-15T12:40:49.494770Z"
    },
    "papermill": {
     "duration": 0.003197,
     "end_time": "2024-05-15T15:56:28.025378",
     "exception": false,
     "start_time": "2024-05-15T15:56:28.022181",
     "status": "completed"
    },
    "tags": []
   },
   "outputs": [],
   "source": []
  }
 ],
 "metadata": {
  "kernelspec": {
   "display_name": "Python 3",
   "language": "python",
   "name": "python3"
  },
  "language_info": {
   "codemirror_mode": {
    "name": "ipython",
    "version": 3
   },
   "file_extension": ".py",
   "mimetype": "text/x-python",
   "name": "python",
   "nbconvert_exporter": "python",
   "pygments_lexer": "ipython3",
   "version": "3.12.2"
  },
  "papermill": {
   "default_parameters": {},
   "duration": 5.686071,
   "end_time": "2024-05-15T15:56:30.645985",
   "environment_variables": {},
   "exception": null,
   "input_path": "./notebooks/EventSourcingModel.ipynb",
   "output_path": "./notebooks/EventSourcingModel.ipynb",
   "parameters": {},
   "start_time": "2024-05-15T15:56:24.959914",
   "version": "2.6.0"
  }
 },
 "nbformat": 4,
 "nbformat_minor": 5
}