{
 "cells": [
  {
   "cell_type": "markdown",
   "id": "643f6c4207bbc0b0",
   "metadata": {
    "papermill": {
     "duration": 0.01196,
     "end_time": "2024-05-30T21:20:22.251486",
     "exception": false,
     "start_time": "2024-05-30T21:20:22.239526",
     "status": "completed"
    },
    "tags": []
   },
   "source": [
    "# Initialize Morpheus"
   ]
  },
  {
   "cell_type": "code",
   "execution_count": 1,
   "id": "9a429500dc402140",
   "metadata": {
    "ExecuteTime": {
     "end_time": "2024-05-15T12:40:48.473177Z",
     "start_time": "2024-05-15T12:40:46.595996Z"
    },
    "execution": {
     "iopub.execute_input": "2024-05-30T21:20:22.265750Z",
     "iopub.status.busy": "2024-05-30T21:20:22.265484Z",
     "iopub.status.idle": "2024-05-30T21:20:23.581303Z",
     "shell.execute_reply": "2024-05-30T21:20:23.580997Z"
    },
    "papermill": {
     "duration": 1.323403,
     "end_time": "2024-05-30T21:20:23.582324",
     "exception": false,
     "start_time": "2024-05-30T21:20:22.258921",
     "status": "completed"
    },
    "tags": []
   },
   "outputs": [],
   "source": [
    "from morpheus.project.application.write import project_command_bus"
   ]
  },
  {
   "cell_type": "markdown",
   "id": "740a87482c1f1624",
   "metadata": {
    "collapsed": false,
    "papermill": {
     "duration": 0.002316,
     "end_time": "2024-05-30T21:20:23.587303",
     "exception": false,
     "start_time": "2024-05-30T21:20:23.584987",
     "status": "completed"
    },
    "tags": []
   },
   "source": [
    "# Create a Project"
   ]
  },
  {
   "cell_type": "code",
   "execution_count": 2,
   "id": "932b4fe5bd839f2",
   "metadata": {
    "ExecuteTime": {
     "end_time": "2024-05-15T12:40:48.489912Z",
     "start_time": "2024-05-15T12:40:48.474418Z"
    },
    "collapsed": false,
    "execution": {
     "iopub.execute_input": "2024-05-30T21:20:23.592822Z",
     "iopub.status.busy": "2024-05-30T21:20:23.592564Z",
     "iopub.status.idle": "2024-05-30T21:20:23.603367Z",
     "shell.execute_reply": "2024-05-30T21:20:23.603123Z"
    },
    "papermill": {
     "duration": 0.014531,
     "end_time": "2024-05-30T21:20:23.604201",
     "exception": false,
     "start_time": "2024-05-30T21:20:23.589670",
     "status": "completed"
    },
    "tags": []
   },
   "outputs": [],
   "source": [
    "from morpheus.project.types.User import UserId\n",
    "from morpheus.project.types.Project import ProjectId, Name, Description, Tags\n",
    "\n",
    "user_id = UserId.new()\n",
    "project_id = ProjectId.new()\n",
    "name = Name.from_str('Project 1')\n",
    "description = Description.from_str('Description 1')\n",
    "tags = Tags.from_list(['tag1', 'tag2'])\n",
    "\n",
    "from morpheus.project.application.write.Project import CreateProjectCommand, CreateProjectCommandHandler\n",
    "\n",
    "create_project_command = CreateProjectCommand(\n",
    "  project_id=project_id,\n",
    "  name=name,\n",
    "  description=description,\n",
    "  tags=tags,\n",
    "  user_id=user_id\n",
    ")\n",
    "\n",
    "project_command_bus.dispatch(create_project_command)"
   ]
  },
  {
   "cell_type": "markdown",
   "id": "9d52b120aa989d1f",
   "metadata": {
    "collapsed": false,
    "papermill": {
     "duration": 0.00233,
     "end_time": "2024-05-30T21:20:23.609088",
     "exception": false,
     "start_time": "2024-05-30T21:20:23.606758",
     "status": "completed"
    },
    "tags": []
   },
   "source": [
    "# Read ProjectList"
   ]
  },
  {
   "cell_type": "code",
   "execution_count": 3,
   "id": "56155ec2f19c768d",
   "metadata": {
    "ExecuteTime": {
     "end_time": "2024-05-15T12:40:48.498347Z",
     "start_time": "2024-05-15T12:40:48.490921Z"
    },
    "collapsed": false,
    "execution": {
     "iopub.execute_input": "2024-05-30T21:20:23.614948Z",
     "iopub.status.busy": "2024-05-30T21:20:23.614821Z",
     "iopub.status.idle": "2024-05-30T21:20:23.623274Z",
     "shell.execute_reply": "2024-05-30T21:20:23.623029Z"
    },
    "papermill": {
     "duration": 0.012513,
     "end_time": "2024-05-30T21:20:23.624033",
     "exception": false,
     "start_time": "2024-05-30T21:20:23.611520",
     "status": "completed"
    },
    "tags": []
   },
   "outputs": [
    {
     "data": {
      "text/plain": [
       "[ProjectSummary(project_id=ProjectId(value='8478ddf7-1c43-4aee-969e-af7dbdac18bc'), project_name=Name(value='Rio Primero 123'), project_description=Description(value='Rio Primero Project in Argentina'), project_tags=Tags(value=['rio primero', 'argentina']), owner_id=UserId(value='47e023c1-6939-480c-b47e-6bcae8442850'), visibility=<Visibility.PRIVATE: 'private'>, created_at=DateTime(value=datetime.datetime(2024, 5, 15, 17, 53, 42, 470799, tzinfo=datetime.timezone(datetime.timedelta(seconds=7200)))), updated_at=DateTime(value=datetime.datetime(2024, 5, 15, 17, 53, 42, 470799, tzinfo=datetime.timezone(datetime.timedelta(seconds=7200))))),\n",
       " ProjectSummary(project_id=ProjectId(value='e0166ed1-82ae-4f82-b154-9276aa81f1fa'), project_name=Name(value='Project 0'), project_description=Description(value='Description 0'), project_tags=Tags(value=['tag0', 'tag1']), owner_id=UserId(value='f31b40f5-309b-43f4-9f5a-fb9e5ba6ef40'), visibility=<Visibility.PRIVATE: 'private'>, created_at=DateTime(value=datetime.datetime(2024, 5, 15, 17, 54, 23, 911969, tzinfo=datetime.timezone(datetime.timedelta(seconds=7200)))), updated_at=DateTime(value=datetime.datetime(2024, 5, 15, 17, 54, 23, 911969, tzinfo=datetime.timezone(datetime.timedelta(seconds=7200))))),\n",
       " ProjectSummary(project_id=ProjectId(value='b27d541b-e183-4083-9071-8804fd5d1b25'), project_name=Name(value='Project 1'), project_description=Description(value='Description 1'), project_tags=Tags(value=['tag1', 'tag2']), owner_id=UserId(value='ae3762a8-2be7-4587-a474-b9eb057daa6c'), visibility=<Visibility.PRIVATE: 'private'>, created_at=DateTime(value=datetime.datetime(2024, 5, 15, 17, 54, 23, 915577, tzinfo=datetime.timezone(datetime.timedelta(seconds=7200)))), updated_at=DateTime(value=datetime.datetime(2024, 5, 15, 17, 54, 23, 915577, tzinfo=datetime.timezone(datetime.timedelta(seconds=7200))))),\n",
       " ProjectSummary(project_id=ProjectId(value='2ffca3ac-1fcc-4bd5-ac14-215f1a3da7a0'), project_name=Name(value='Project 2'), project_description=Description(value='Description 2'), project_tags=Tags(value=['tag2', 'tag3']), owner_id=UserId(value='bbab8b69-e886-45a1-bdda-e7f8580a0eab'), visibility=<Visibility.PRIVATE: 'private'>, created_at=DateTime(value=datetime.datetime(2024, 5, 15, 17, 54, 23, 918578, tzinfo=datetime.timezone(datetime.timedelta(seconds=7200)))), updated_at=DateTime(value=datetime.datetime(2024, 5, 15, 17, 54, 23, 918578, tzinfo=datetime.timezone(datetime.timedelta(seconds=7200))))),\n",
       " ProjectSummary(project_id=ProjectId(value='e5194429-1545-42f2-926c-08078c49cd0b'), project_name=Name(value='Project 3'), project_description=Description(value='Description 3'), project_tags=Tags(value=['tag3', 'tag4']), owner_id=UserId(value='505cc755-c867-458c-9328-c02486f3f2f4'), visibility=<Visibility.PRIVATE: 'private'>, created_at=DateTime(value=datetime.datetime(2024, 5, 15, 17, 54, 23, 920759, tzinfo=datetime.timezone(datetime.timedelta(seconds=7200)))), updated_at=DateTime(value=datetime.datetime(2024, 5, 15, 17, 54, 23, 920759, tzinfo=datetime.timezone(datetime.timedelta(seconds=7200))))),\n",
       " ProjectSummary(project_id=ProjectId(value='c08af565-d1c8-4679-927b-5de8f4e3aa00'), project_name=Name(value='Project 4'), project_description=Description(value='Description 4'), project_tags=Tags(value=['tag4', 'tag5']), owner_id=UserId(value='8829fc62-7743-43f7-9e12-6d83c1fc5859'), visibility=<Visibility.PRIVATE: 'private'>, created_at=DateTime(value=datetime.datetime(2024, 5, 15, 17, 54, 23, 922801, tzinfo=datetime.timezone(datetime.timedelta(seconds=7200)))), updated_at=DateTime(value=datetime.datetime(2024, 5, 15, 17, 54, 23, 922801, tzinfo=datetime.timezone(datetime.timedelta(seconds=7200))))),\n",
       " ProjectSummary(project_id=ProjectId(value='05c4a721-0b33-450a-85ff-1653b4864099'), project_name=Name(value='Project 5'), project_description=Description(value='Description 5'), project_tags=Tags(value=['tag5', 'tag6']), owner_id=UserId(value='0a8a0424-3681-466a-8278-1a5e84990def'), visibility=<Visibility.PRIVATE: 'private'>, created_at=DateTime(value=datetime.datetime(2024, 5, 15, 17, 54, 23, 924870, tzinfo=datetime.timezone(datetime.timedelta(seconds=7200)))), updated_at=DateTime(value=datetime.datetime(2024, 5, 15, 17, 54, 23, 924870, tzinfo=datetime.timezone(datetime.timedelta(seconds=7200))))),\n",
       " ProjectSummary(project_id=ProjectId(value='410442a3-a7b7-4748-8dc9-8d75ae41d0cd'), project_name=Name(value='Project 6'), project_description=Description(value='Description 6'), project_tags=Tags(value=['tag6', 'tag7']), owner_id=UserId(value='51d40249-878d-41e1-8dd0-cf6248824f99'), visibility=<Visibility.PRIVATE: 'private'>, created_at=DateTime(value=datetime.datetime(2024, 5, 15, 17, 54, 23, 927211, tzinfo=datetime.timezone(datetime.timedelta(seconds=7200)))), updated_at=DateTime(value=datetime.datetime(2024, 5, 15, 17, 54, 23, 927211, tzinfo=datetime.timezone(datetime.timedelta(seconds=7200))))),\n",
       " ProjectSummary(project_id=ProjectId(value='25212285-cc7e-4da7-a555-7a8dc2285ae7'), project_name=Name(value='Project 7'), project_description=Description(value='Description 7'), project_tags=Tags(value=['tag7', 'tag8']), owner_id=UserId(value='b9a74958-c135-4a2e-b349-34c92a6bf5c2'), visibility=<Visibility.PRIVATE: 'private'>, created_at=DateTime(value=datetime.datetime(2024, 5, 15, 17, 54, 23, 929731, tzinfo=datetime.timezone(datetime.timedelta(seconds=7200)))), updated_at=DateTime(value=datetime.datetime(2024, 5, 15, 17, 54, 23, 929731, tzinfo=datetime.timezone(datetime.timedelta(seconds=7200))))),\n",
       " ProjectSummary(project_id=ProjectId(value='f877bbc8-a10d-43d3-8f2f-0e05b52ad65c'), project_name=Name(value='Project 8'), project_description=Description(value='Description 8'), project_tags=Tags(value=['tag8', 'tag9']), owner_id=UserId(value='49ab3134-6af8-4b54-9496-3bb4308d2bcc'), visibility=<Visibility.PRIVATE: 'private'>, created_at=DateTime(value=datetime.datetime(2024, 5, 15, 17, 54, 23, 932228, tzinfo=datetime.timezone(datetime.timedelta(seconds=7200)))), updated_at=DateTime(value=datetime.datetime(2024, 5, 15, 17, 54, 23, 932228, tzinfo=datetime.timezone(datetime.timedelta(seconds=7200))))),\n",
       " ProjectSummary(project_id=ProjectId(value='5f62697c-8ad7-4749-8442-211c3e9dd64b'), project_name=Name(value='Project 9'), project_description=Description(value='Description 9'), project_tags=Tags(value=['tag9', 'tag10']), owner_id=UserId(value='2efdf859-dab5-4d5b-b134-27acca0db808'), visibility=<Visibility.PRIVATE: 'private'>, created_at=DateTime(value=datetime.datetime(2024, 5, 15, 17, 54, 23, 934704, tzinfo=datetime.timezone(datetime.timedelta(seconds=7200)))), updated_at=DateTime(value=datetime.datetime(2024, 5, 15, 17, 54, 23, 934704, tzinfo=datetime.timezone(datetime.timedelta(seconds=7200))))),\n",
       " ProjectSummary(project_id=ProjectId(value='b88a50eb-2ffc-4142-9dbf-7324ff5a0930'), project_name=Name(value='Project 1'), project_description=Description(value='Description 1'), project_tags=Tags(value=['tag1', 'tag2']), owner_id=UserId(value='1f59f357-4193-4b4a-8b9d-e895f3d5902c'), visibility=<Visibility.PRIVATE: 'private'>, created_at=DateTime(value=datetime.datetime(2024, 5, 15, 17, 54, 32, 283133, tzinfo=datetime.timezone(datetime.timedelta(seconds=7200)))), updated_at=DateTime(value=datetime.datetime(2024, 5, 15, 17, 54, 32, 283133, tzinfo=datetime.timezone(datetime.timedelta(seconds=7200))))),\n",
       " ProjectSummary(project_id=ProjectId(value='60610a3c-89f8-459d-aef4-8b415c51d216'), project_name=Name(value='Rio Primero 123'), project_description=Description(value='Rio Primero Project in Argentina'), project_tags=Tags(value=['rio primero', 'argentina']), owner_id=UserId(value='b1fb08b7-0c14-4b0a-aced-03f37e9696e9'), visibility=<Visibility.PRIVATE: 'private'>, created_at=DateTime(value=datetime.datetime(2024, 5, 15, 17, 55, 38, 175894, tzinfo=datetime.timezone(datetime.timedelta(seconds=7200)))), updated_at=DateTime(value=datetime.datetime(2024, 5, 15, 17, 55, 38, 175894, tzinfo=datetime.timezone(datetime.timedelta(seconds=7200))))),\n",
       " ProjectSummary(project_id=ProjectId(value='2f86c914-3848-4c4d-8893-c94777901be4'), project_name=Name(value='Project 0'), project_description=Description(value='Description 0'), project_tags=Tags(value=['tag0', 'tag1']), owner_id=UserId(value='baef60c8-e9b1-4681-ac00-d2feca78fc84'), visibility=<Visibility.PRIVATE: 'private'>, created_at=DateTime(value=datetime.datetime(2024, 5, 15, 17, 56, 19, 510356, tzinfo=datetime.timezone(datetime.timedelta(seconds=7200)))), updated_at=DateTime(value=datetime.datetime(2024, 5, 15, 17, 56, 19, 510356, tzinfo=datetime.timezone(datetime.timedelta(seconds=7200))))),\n",
       " ProjectSummary(project_id=ProjectId(value='15627578-1ebb-47da-9701-0a538aa892f7'), project_name=Name(value='Project 1'), project_description=Description(value='Description 1'), project_tags=Tags(value=['tag1', 'tag2']), owner_id=UserId(value='2686e5de-f309-4d98-a539-5c99cb4f92ab'), visibility=<Visibility.PRIVATE: 'private'>, created_at=DateTime(value=datetime.datetime(2024, 5, 15, 17, 56, 19, 537236, tzinfo=datetime.timezone(datetime.timedelta(seconds=7200)))), updated_at=DateTime(value=datetime.datetime(2024, 5, 15, 17, 56, 19, 537236, tzinfo=datetime.timezone(datetime.timedelta(seconds=7200))))),\n",
       " ProjectSummary(project_id=ProjectId(value='ec8bd73a-45c7-4d81-a338-228525e71357'), project_name=Name(value='Project 2'), project_description=Description(value='Description 2'), project_tags=Tags(value=['tag2', 'tag3']), owner_id=UserId(value='ce3d36c8-d9a1-4320-8601-960013cd74cd'), visibility=<Visibility.PRIVATE: 'private'>, created_at=DateTime(value=datetime.datetime(2024, 5, 15, 17, 56, 19, 543790, tzinfo=datetime.timezone(datetime.timedelta(seconds=7200)))), updated_at=DateTime(value=datetime.datetime(2024, 5, 15, 17, 56, 19, 543790, tzinfo=datetime.timezone(datetime.timedelta(seconds=7200))))),\n",
       " ProjectSummary(project_id=ProjectId(value='9ab27c4b-9c40-4068-b466-86c0a00ec256'), project_name=Name(value='Project 3'), project_description=Description(value='Description 3'), project_tags=Tags(value=['tag3', 'tag4']), owner_id=UserId(value='0fa5fc7f-9fb9-41f9-a672-e211f86e9444'), visibility=<Visibility.PRIVATE: 'private'>, created_at=DateTime(value=datetime.datetime(2024, 5, 15, 17, 56, 19, 554565, tzinfo=datetime.timezone(datetime.timedelta(seconds=7200)))), updated_at=DateTime(value=datetime.datetime(2024, 5, 15, 17, 56, 19, 554565, tzinfo=datetime.timezone(datetime.timedelta(seconds=7200))))),\n",
       " ProjectSummary(project_id=ProjectId(value='8095e4a4-27f5-4ec5-835a-164af8d93ba5'), project_name=Name(value='Project 4'), project_description=Description(value='Description 4'), project_tags=Tags(value=['tag4', 'tag5']), owner_id=UserId(value='d004f0a3-e1bd-4174-aa07-bbe8f8caa86c'), visibility=<Visibility.PRIVATE: 'private'>, created_at=DateTime(value=datetime.datetime(2024, 5, 15, 17, 56, 19, 559495, tzinfo=datetime.timezone(datetime.timedelta(seconds=7200)))), updated_at=DateTime(value=datetime.datetime(2024, 5, 15, 17, 56, 19, 559495, tzinfo=datetime.timezone(datetime.timedelta(seconds=7200))))),\n",
       " ProjectSummary(project_id=ProjectId(value='b4260bd7-1dad-4375-a8b3-97c87c13ecd8'), project_name=Name(value='Project 5'), project_description=Description(value='Description 5'), project_tags=Tags(value=['tag5', 'tag6']), owner_id=UserId(value='8808730d-abca-427d-99d0-aa409be7c8ae'), visibility=<Visibility.PRIVATE: 'private'>, created_at=DateTime(value=datetime.datetime(2024, 5, 15, 17, 56, 19, 565730, tzinfo=datetime.timezone(datetime.timedelta(seconds=7200)))), updated_at=DateTime(value=datetime.datetime(2024, 5, 15, 17, 56, 19, 565730, tzinfo=datetime.timezone(datetime.timedelta(seconds=7200))))),\n",
       " ProjectSummary(project_id=ProjectId(value='e0ae141e-2447-4daa-930e-cbaa48c27621'), project_name=Name(value='Project 6'), project_description=Description(value='Description 6'), project_tags=Tags(value=['tag6', 'tag7']), owner_id=UserId(value='19245430-5592-4988-9839-efec0852c454'), visibility=<Visibility.PRIVATE: 'private'>, created_at=DateTime(value=datetime.datetime(2024, 5, 15, 17, 56, 19, 571179, tzinfo=datetime.timezone(datetime.timedelta(seconds=7200)))), updated_at=DateTime(value=datetime.datetime(2024, 5, 15, 17, 56, 19, 571179, tzinfo=datetime.timezone(datetime.timedelta(seconds=7200))))),\n",
       " ProjectSummary(project_id=ProjectId(value='0f981386-5ee0-43e4-b000-b44004705616'), project_name=Name(value='Project 7'), project_description=Description(value='Description 7'), project_tags=Tags(value=['tag7', 'tag8']), owner_id=UserId(value='c8d07a14-97cf-47ce-bc58-aeb72f1ef947'), visibility=<Visibility.PRIVATE: 'private'>, created_at=DateTime(value=datetime.datetime(2024, 5, 15, 17, 56, 19, 577151, tzinfo=datetime.timezone(datetime.timedelta(seconds=7200)))), updated_at=DateTime(value=datetime.datetime(2024, 5, 15, 17, 56, 19, 577151, tzinfo=datetime.timezone(datetime.timedelta(seconds=7200))))),\n",
       " ProjectSummary(project_id=ProjectId(value='9bc4e70f-b084-4b74-8da0-8c493ab45371'), project_name=Name(value='Project 8'), project_description=Description(value='Description 8'), project_tags=Tags(value=['tag8', 'tag9']), owner_id=UserId(value='4a191c83-2d87-4186-b788-f39253275861'), visibility=<Visibility.PRIVATE: 'private'>, created_at=DateTime(value=datetime.datetime(2024, 5, 15, 17, 56, 19, 586233, tzinfo=datetime.timezone(datetime.timedelta(seconds=7200)))), updated_at=DateTime(value=datetime.datetime(2024, 5, 15, 17, 56, 19, 586233, tzinfo=datetime.timezone(datetime.timedelta(seconds=7200))))),\n",
       " ProjectSummary(project_id=ProjectId(value='37d7f4e7-cdcd-4c9f-afb3-d12fa9348b6a'), project_name=Name(value='Project 9'), project_description=Description(value='Description 9'), project_tags=Tags(value=['tag9', 'tag10']), owner_id=UserId(value='54953a06-bba2-4194-93be-26b1074d8097'), visibility=<Visibility.PRIVATE: 'private'>, created_at=DateTime(value=datetime.datetime(2024, 5, 15, 17, 56, 19, 598941, tzinfo=datetime.timezone(datetime.timedelta(seconds=7200)))), updated_at=DateTime(value=datetime.datetime(2024, 5, 15, 17, 56, 19, 598941, tzinfo=datetime.timezone(datetime.timedelta(seconds=7200))))),\n",
       " ProjectSummary(project_id=ProjectId(value='cdb89c26-ad0a-4ec6-9888-dc8423665a9c'), project_name=Name(value='Project 1'), project_description=Description(value='Description 1'), project_tags=Tags(value=['tag1', 'tag2']), owner_id=UserId(value='080cde7d-c77c-4546-a489-c3ac1a994c8b'), visibility=<Visibility.PRIVATE: 'private'>, created_at=DateTime(value=datetime.datetime(2024, 5, 15, 17, 56, 26, 916804, tzinfo=datetime.timezone(datetime.timedelta(seconds=7200)))), updated_at=DateTime(value=datetime.datetime(2024, 5, 15, 17, 56, 26, 916804, tzinfo=datetime.timezone(datetime.timedelta(seconds=7200))))),\n",
       " ProjectSummary(project_id=ProjectId(value='cf110691-5bb0-4975-873f-1365cf750a5b'), project_name=Name(value='Rio Primero 123'), project_description=Description(value='Rio Primero Project in Argentina'), project_tags=Tags(value=['rio primero', 'argentina']), owner_id=UserId(value='c943df61-4ce2-44e7-9d75-b912c045f11e'), visibility=<Visibility.PRIVATE: 'private'>, created_at=DateTime(value=datetime.datetime(2024, 5, 15, 18, 0, 4, 969203, tzinfo=datetime.timezone(datetime.timedelta(seconds=7200)))), updated_at=DateTime(value=datetime.datetime(2024, 5, 15, 18, 0, 4, 969203, tzinfo=datetime.timezone(datetime.timedelta(seconds=7200))))),\n",
       " ProjectSummary(project_id=ProjectId(value='41930a8c-6243-4acf-88d5-2918c57657b5'), project_name=Name(value='Project 0'), project_description=Description(value='Description 0'), project_tags=Tags(value=['tag0', 'tag1']), owner_id=UserId(value='c6919eab-81fe-4671-a662-480622bcec5e'), visibility=<Visibility.PRIVATE: 'private'>, created_at=DateTime(value=datetime.datetime(2024, 5, 15, 18, 0, 48, 474322, tzinfo=datetime.timezone(datetime.timedelta(seconds=7200)))), updated_at=DateTime(value=datetime.datetime(2024, 5, 15, 18, 0, 48, 474322, tzinfo=datetime.timezone(datetime.timedelta(seconds=7200))))),\n",
       " ProjectSummary(project_id=ProjectId(value='dce2b428-d81a-4b3b-bfde-bee8c0a53ded'), project_name=Name(value='Project 1'), project_description=Description(value='Description 1'), project_tags=Tags(value=['tag1', 'tag2']), owner_id=UserId(value='f9970ecf-45a1-45f9-a2f8-224f1f7c303b'), visibility=<Visibility.PRIVATE: 'private'>, created_at=DateTime(value=datetime.datetime(2024, 5, 15, 18, 0, 48, 480167, tzinfo=datetime.timezone(datetime.timedelta(seconds=7200)))), updated_at=DateTime(value=datetime.datetime(2024, 5, 15, 18, 0, 48, 480167, tzinfo=datetime.timezone(datetime.timedelta(seconds=7200))))),\n",
       " ProjectSummary(project_id=ProjectId(value='9473abcb-94b8-41b8-af16-941334d6efdb'), project_name=Name(value='Project 2'), project_description=Description(value='Description 2'), project_tags=Tags(value=['tag2', 'tag3']), owner_id=UserId(value='dbad63f1-7e1b-41d3-a287-0af8db4b4bd2'), visibility=<Visibility.PRIVATE: 'private'>, created_at=DateTime(value=datetime.datetime(2024, 5, 15, 18, 0, 48, 482502, tzinfo=datetime.timezone(datetime.timedelta(seconds=7200)))), updated_at=DateTime(value=datetime.datetime(2024, 5, 15, 18, 0, 48, 482502, tzinfo=datetime.timezone(datetime.timedelta(seconds=7200))))),\n",
       " ProjectSummary(project_id=ProjectId(value='2524cdc8-c285-4646-a2ea-97795e98f18e'), project_name=Name(value='Project 3'), project_description=Description(value='Description 3'), project_tags=Tags(value=['tag3', 'tag4']), owner_id=UserId(value='54afc36e-43af-426a-9d5d-c62aa0016345'), visibility=<Visibility.PRIVATE: 'private'>, created_at=DateTime(value=datetime.datetime(2024, 5, 15, 18, 0, 48, 484784, tzinfo=datetime.timezone(datetime.timedelta(seconds=7200)))), updated_at=DateTime(value=datetime.datetime(2024, 5, 15, 18, 0, 48, 484784, tzinfo=datetime.timezone(datetime.timedelta(seconds=7200))))),\n",
       " ProjectSummary(project_id=ProjectId(value='abd7ef98-2bb8-4322-832d-74b271045705'), project_name=Name(value='Project 4'), project_description=Description(value='Description 4'), project_tags=Tags(value=['tag4', 'tag5']), owner_id=UserId(value='13c26a58-8416-4f26-9dfb-c759327bdf3c'), visibility=<Visibility.PRIVATE: 'private'>, created_at=DateTime(value=datetime.datetime(2024, 5, 15, 18, 0, 48, 486981, tzinfo=datetime.timezone(datetime.timedelta(seconds=7200)))), updated_at=DateTime(value=datetime.datetime(2024, 5, 15, 18, 0, 48, 486981, tzinfo=datetime.timezone(datetime.timedelta(seconds=7200))))),\n",
       " ProjectSummary(project_id=ProjectId(value='b284652a-593f-4381-b534-a97cf70af02b'), project_name=Name(value='Project 5'), project_description=Description(value='Description 5'), project_tags=Tags(value=['tag5', 'tag6']), owner_id=UserId(value='eecb588f-216a-4a0f-aee2-0bc71edee7cf'), visibility=<Visibility.PRIVATE: 'private'>, created_at=DateTime(value=datetime.datetime(2024, 5, 15, 18, 0, 48, 489649, tzinfo=datetime.timezone(datetime.timedelta(seconds=7200)))), updated_at=DateTime(value=datetime.datetime(2024, 5, 15, 18, 0, 48, 489649, tzinfo=datetime.timezone(datetime.timedelta(seconds=7200))))),\n",
       " ProjectSummary(project_id=ProjectId(value='048146e7-0973-4876-ab69-c572dc5adbf3'), project_name=Name(value='Project 6'), project_description=Description(value='Description 6'), project_tags=Tags(value=['tag6', 'tag7']), owner_id=UserId(value='c111e8b2-7d05-4afb-9d99-2fbb9eb568dd'), visibility=<Visibility.PRIVATE: 'private'>, created_at=DateTime(value=datetime.datetime(2024, 5, 15, 18, 0, 48, 492217, tzinfo=datetime.timezone(datetime.timedelta(seconds=7200)))), updated_at=DateTime(value=datetime.datetime(2024, 5, 15, 18, 0, 48, 492217, tzinfo=datetime.timezone(datetime.timedelta(seconds=7200))))),\n",
       " ProjectSummary(project_id=ProjectId(value='adccb6ce-2f80-435c-a4e5-ea7ebb4bf36c'), project_name=Name(value='Project 7'), project_description=Description(value='Description 7'), project_tags=Tags(value=['tag7', 'tag8']), owner_id=UserId(value='5857e08c-a82d-43b2-83f9-2844d1b0ef48'), visibility=<Visibility.PRIVATE: 'private'>, created_at=DateTime(value=datetime.datetime(2024, 5, 15, 18, 0, 48, 494904, tzinfo=datetime.timezone(datetime.timedelta(seconds=7200)))), updated_at=DateTime(value=datetime.datetime(2024, 5, 15, 18, 0, 48, 494904, tzinfo=datetime.timezone(datetime.timedelta(seconds=7200))))),\n",
       " ProjectSummary(project_id=ProjectId(value='82cbdc52-1f69-4011-8dd2-1dc6655482cb'), project_name=Name(value='Project 8'), project_description=Description(value='Description 8'), project_tags=Tags(value=['tag8', 'tag9']), owner_id=UserId(value='f4dc9753-5647-4b94-8005-30815721ed07'), visibility=<Visibility.PRIVATE: 'private'>, created_at=DateTime(value=datetime.datetime(2024, 5, 15, 18, 0, 48, 497602, tzinfo=datetime.timezone(datetime.timedelta(seconds=7200)))), updated_at=DateTime(value=datetime.datetime(2024, 5, 15, 18, 0, 48, 497602, tzinfo=datetime.timezone(datetime.timedelta(seconds=7200))))),\n",
       " ProjectSummary(project_id=ProjectId(value='b2913fac-5b01-46d6-959c-6670b390c318'), project_name=Name(value='Project 9'), project_description=Description(value='Description 9'), project_tags=Tags(value=['tag9', 'tag10']), owner_id=UserId(value='e2cc8c5c-3c47-4472-aa25-d36e25cf757d'), visibility=<Visibility.PRIVATE: 'private'>, created_at=DateTime(value=datetime.datetime(2024, 5, 15, 18, 0, 48, 500174, tzinfo=datetime.timezone(datetime.timedelta(seconds=7200)))), updated_at=DateTime(value=datetime.datetime(2024, 5, 15, 18, 0, 48, 500174, tzinfo=datetime.timezone(datetime.timedelta(seconds=7200))))),\n",
       " ProjectSummary(project_id=ProjectId(value='d28ad2a5-f722-4c85-9b96-1f8d9497a7f1'), project_name=Name(value='Project 1'), project_description=Description(value='Description 1'), project_tags=Tags(value=['tag1', 'tag2']), owner_id=UserId(value='55ac2dcc-b640-4a04-9155-775b72a53453'), visibility=<Visibility.PRIVATE: 'private'>, created_at=DateTime(value=datetime.datetime(2024, 5, 15, 18, 0, 56, 91556, tzinfo=datetime.timezone(datetime.timedelta(seconds=7200)))), updated_at=DateTime(value=datetime.datetime(2024, 5, 15, 18, 0, 56, 91556, tzinfo=datetime.timezone(datetime.timedelta(seconds=7200))))),\n",
       " ProjectSummary(project_id=ProjectId(value='cc34afc0-4e02-47c1-8229-6426ee08c0f3'), project_name=Name(value='Rio Primero'), project_description=Description(value=''), project_tags=Tags(value=[]), owner_id=UserId(value='40c8daab-adb3-4d10-9ad9-12224a7a3ef2'), visibility=<Visibility.PRIVATE: 'private'>, created_at=DateTime(value=datetime.datetime(2024, 5, 15, 21, 54, 0, 394092, tzinfo=datetime.timezone(datetime.timedelta(seconds=7200)))), updated_at=DateTime(value=datetime.datetime(2024, 5, 15, 21, 54, 0, 394092, tzinfo=datetime.timezone(datetime.timedelta(seconds=7200))))),\n",
       " ProjectSummary(project_id=ProjectId(value='20c2b20e-5379-4600-a1bb-01778ec02eb7'), project_name=Name(value='Rio Primero 123'), project_description=Description(value='Rio Primero Project in Argentina'), project_tags=Tags(value=['rio primero', 'argentina']), owner_id=UserId(value='8db35ae8-370b-4e6b-ab36-2f3572c5fc21'), visibility=<Visibility.PRIVATE: 'private'>, created_at=DateTime(value=datetime.datetime(2024, 5, 30, 14, 11, 24, 922848, tzinfo=datetime.timezone(datetime.timedelta(seconds=7200)))), updated_at=DateTime(value=datetime.datetime(2024, 5, 30, 14, 11, 24, 922848, tzinfo=datetime.timezone(datetime.timedelta(seconds=7200))))),\n",
       " ProjectSummary(project_id=ProjectId(value='0864fc94-577d-4b16-968f-d13260163eea'), project_name=Name(value='Project 0'), project_description=Description(value='Description 0'), project_tags=Tags(value=['tag0', 'tag1']), owner_id=UserId(value='53ad6cef-cf0c-4eff-9281-ce4e02cc8496'), visibility=<Visibility.PRIVATE: 'private'>, created_at=DateTime(value=datetime.datetime(2024, 5, 30, 14, 12, 4, 568538, tzinfo=datetime.timezone(datetime.timedelta(seconds=7200)))), updated_at=DateTime(value=datetime.datetime(2024, 5, 30, 14, 12, 4, 568538, tzinfo=datetime.timezone(datetime.timedelta(seconds=7200))))),\n",
       " ProjectSummary(project_id=ProjectId(value='e12a71a1-c0ff-41ab-b051-481b0e697b8e'), project_name=Name(value='Project 1'), project_description=Description(value='Description 1'), project_tags=Tags(value=['tag1', 'tag2']), owner_id=UserId(value='f6d44e54-ce43-4606-8137-0260dd2688ce'), visibility=<Visibility.PRIVATE: 'private'>, created_at=DateTime(value=datetime.datetime(2024, 5, 30, 14, 12, 4, 572663, tzinfo=datetime.timezone(datetime.timedelta(seconds=7200)))), updated_at=DateTime(value=datetime.datetime(2024, 5, 30, 14, 12, 4, 572663, tzinfo=datetime.timezone(datetime.timedelta(seconds=7200))))),\n",
       " ProjectSummary(project_id=ProjectId(value='e9ce2ca1-e686-4210-8460-aa53719d3b16'), project_name=Name(value='Project 2'), project_description=Description(value='Description 2'), project_tags=Tags(value=['tag2', 'tag3']), owner_id=UserId(value='48affc9f-a97d-4f87-87fb-17c425debf78'), visibility=<Visibility.PRIVATE: 'private'>, created_at=DateTime(value=datetime.datetime(2024, 5, 30, 14, 12, 4, 575180, tzinfo=datetime.timezone(datetime.timedelta(seconds=7200)))), updated_at=DateTime(value=datetime.datetime(2024, 5, 30, 14, 12, 4, 575180, tzinfo=datetime.timezone(datetime.timedelta(seconds=7200))))),\n",
       " ProjectSummary(project_id=ProjectId(value='43129272-e07c-4c75-8b83-fa65a35e4405'), project_name=Name(value='Project 3'), project_description=Description(value='Description 3'), project_tags=Tags(value=['tag3', 'tag4']), owner_id=UserId(value='89fd4f4b-ebcf-4cde-8128-970870dc0049'), visibility=<Visibility.PRIVATE: 'private'>, created_at=DateTime(value=datetime.datetime(2024, 5, 30, 14, 12, 4, 577603, tzinfo=datetime.timezone(datetime.timedelta(seconds=7200)))), updated_at=DateTime(value=datetime.datetime(2024, 5, 30, 14, 12, 4, 577603, tzinfo=datetime.timezone(datetime.timedelta(seconds=7200))))),\n",
       " ProjectSummary(project_id=ProjectId(value='35521cd9-5f7e-48e9-9ff1-49ec35541b02'), project_name=Name(value='Project 4'), project_description=Description(value='Description 4'), project_tags=Tags(value=['tag4', 'tag5']), owner_id=UserId(value='0b8b0044-8735-423b-8866-d2ef8dff17e6'), visibility=<Visibility.PRIVATE: 'private'>, created_at=DateTime(value=datetime.datetime(2024, 5, 30, 14, 12, 4, 580154, tzinfo=datetime.timezone(datetime.timedelta(seconds=7200)))), updated_at=DateTime(value=datetime.datetime(2024, 5, 30, 14, 12, 4, 580154, tzinfo=datetime.timezone(datetime.timedelta(seconds=7200))))),\n",
       " ProjectSummary(project_id=ProjectId(value='b3e0205e-9f48-4ee0-a548-44d989ef9478'), project_name=Name(value='Project 5'), project_description=Description(value='Description 5'), project_tags=Tags(value=['tag5', 'tag6']), owner_id=UserId(value='c98f161f-ca64-48d9-a0aa-07e0135d7a9a'), visibility=<Visibility.PRIVATE: 'private'>, created_at=DateTime(value=datetime.datetime(2024, 5, 30, 14, 12, 4, 582737, tzinfo=datetime.timezone(datetime.timedelta(seconds=7200)))), updated_at=DateTime(value=datetime.datetime(2024, 5, 30, 14, 12, 4, 582737, tzinfo=datetime.timezone(datetime.timedelta(seconds=7200))))),\n",
       " ProjectSummary(project_id=ProjectId(value='629f3363-29b1-4f2f-88b0-44b8b29b6361'), project_name=Name(value='Project 6'), project_description=Description(value='Description 6'), project_tags=Tags(value=['tag6', 'tag7']), owner_id=UserId(value='71eba383-f02f-4500-85dc-158b645eb64a'), visibility=<Visibility.PRIVATE: 'private'>, created_at=DateTime(value=datetime.datetime(2024, 5, 30, 14, 12, 4, 585280, tzinfo=datetime.timezone(datetime.timedelta(seconds=7200)))), updated_at=DateTime(value=datetime.datetime(2024, 5, 30, 14, 12, 4, 585280, tzinfo=datetime.timezone(datetime.timedelta(seconds=7200))))),\n",
       " ProjectSummary(project_id=ProjectId(value='3a1e620d-4f9b-4d3f-89fe-04f739583bc2'), project_name=Name(value='Project 7'), project_description=Description(value='Description 7'), project_tags=Tags(value=['tag7', 'tag8']), owner_id=UserId(value='f27f9720-579c-4af4-84e2-b1fc2515758a'), visibility=<Visibility.PRIVATE: 'private'>, created_at=DateTime(value=datetime.datetime(2024, 5, 30, 14, 12, 4, 587970, tzinfo=datetime.timezone(datetime.timedelta(seconds=7200)))), updated_at=DateTime(value=datetime.datetime(2024, 5, 30, 14, 12, 4, 587970, tzinfo=datetime.timezone(datetime.timedelta(seconds=7200))))),\n",
       " ProjectSummary(project_id=ProjectId(value='e888f5b7-a6f9-48f4-ac04-d4b618c5c3a1'), project_name=Name(value='Project 8'), project_description=Description(value='Description 8'), project_tags=Tags(value=['tag8', 'tag9']), owner_id=UserId(value='1091707d-4fc3-4d97-995a-229fb16465a2'), visibility=<Visibility.PRIVATE: 'private'>, created_at=DateTime(value=datetime.datetime(2024, 5, 30, 14, 12, 4, 590719, tzinfo=datetime.timezone(datetime.timedelta(seconds=7200)))), updated_at=DateTime(value=datetime.datetime(2024, 5, 30, 14, 12, 4, 590719, tzinfo=datetime.timezone(datetime.timedelta(seconds=7200))))),\n",
       " ProjectSummary(project_id=ProjectId(value='5c3be0c6-ca97-40b6-8e6e-af9712c75d66'), project_name=Name(value='Project 9'), project_description=Description(value='Description 9'), project_tags=Tags(value=['tag9', 'tag10']), owner_id=UserId(value='b2f82cb2-1f07-49b7-9067-ad0949dadbab'), visibility=<Visibility.PRIVATE: 'private'>, created_at=DateTime(value=datetime.datetime(2024, 5, 30, 14, 12, 4, 593475, tzinfo=datetime.timezone(datetime.timedelta(seconds=7200)))), updated_at=DateTime(value=datetime.datetime(2024, 5, 30, 14, 12, 4, 593475, tzinfo=datetime.timezone(datetime.timedelta(seconds=7200))))),\n",
       " ProjectSummary(project_id=ProjectId(value='f5e6c26c-63d7-4d2c-9705-6adc01980fc8'), project_name=Name(value='Project 1'), project_description=Description(value='Description 1'), project_tags=Tags(value=['tag1', 'tag2']), owner_id=UserId(value='dc79fd0e-84eb-4eb6-9757-721086cca77c'), visibility=<Visibility.PRIVATE: 'private'>, created_at=DateTime(value=datetime.datetime(2024, 5, 30, 14, 12, 11, 816179, tzinfo=datetime.timezone(datetime.timedelta(seconds=7200)))), updated_at=DateTime(value=datetime.datetime(2024, 5, 30, 14, 12, 11, 816179, tzinfo=datetime.timezone(datetime.timedelta(seconds=7200))))),\n",
       " ProjectSummary(project_id=ProjectId(value='5be6f8ee-d2ac-4f4b-b0e3-49815f8603ad'), project_name=Name(value='Rio Primero 123'), project_description=Description(value='Rio Primero Project in Argentina'), project_tags=Tags(value=['rio primero', 'argentina']), owner_id=UserId(value='abca29e3-e710-43cf-ae5c-3a5d03d99802'), visibility=<Visibility.PRIVATE: 'private'>, created_at=DateTime(value=datetime.datetime(2024, 5, 30, 14, 33, 59, 485364, tzinfo=datetime.timezone(datetime.timedelta(seconds=7200)))), updated_at=DateTime(value=datetime.datetime(2024, 5, 30, 14, 33, 59, 485364, tzinfo=datetime.timezone(datetime.timedelta(seconds=7200))))),\n",
       " ProjectSummary(project_id=ProjectId(value='824c69b5-6466-4341-b475-0258471ebf61'), project_name=Name(value='Project 0'), project_description=Description(value='Description 0'), project_tags=Tags(value=['tag0', 'tag1']), owner_id=UserId(value='42adc499-7f16-4485-8228-5ab89f2286e5'), visibility=<Visibility.PRIVATE: 'private'>, created_at=DateTime(value=datetime.datetime(2024, 5, 30, 14, 34, 42, 915273, tzinfo=datetime.timezone(datetime.timedelta(seconds=7200)))), updated_at=DateTime(value=datetime.datetime(2024, 5, 30, 14, 34, 42, 915273, tzinfo=datetime.timezone(datetime.timedelta(seconds=7200))))),\n",
       " ProjectSummary(project_id=ProjectId(value='bc0ee988-1f33-4830-b0a7-6055f22a6fbb'), project_name=Name(value='Project 1'), project_description=Description(value='Description 1'), project_tags=Tags(value=['tag1', 'tag2']), owner_id=UserId(value='b6ac7375-5570-4d05-8f46-781d1fc1e56b'), visibility=<Visibility.PRIVATE: 'private'>, created_at=DateTime(value=datetime.datetime(2024, 5, 30, 14, 34, 42, 922807, tzinfo=datetime.timezone(datetime.timedelta(seconds=7200)))), updated_at=DateTime(value=datetime.datetime(2024, 5, 30, 14, 34, 42, 922807, tzinfo=datetime.timezone(datetime.timedelta(seconds=7200))))),\n",
       " ProjectSummary(project_id=ProjectId(value='b7653097-3380-4523-a7ad-f8eae956d4f3'), project_name=Name(value='Project 2'), project_description=Description(value='Description 2'), project_tags=Tags(value=['tag2', 'tag3']), owner_id=UserId(value='74a589a7-901a-4f4b-b4e3-ce6107686052'), visibility=<Visibility.PRIVATE: 'private'>, created_at=DateTime(value=datetime.datetime(2024, 5, 30, 14, 34, 42, 927579, tzinfo=datetime.timezone(datetime.timedelta(seconds=7200)))), updated_at=DateTime(value=datetime.datetime(2024, 5, 30, 14, 34, 42, 927579, tzinfo=datetime.timezone(datetime.timedelta(seconds=7200))))),\n",
       " ProjectSummary(project_id=ProjectId(value='c8be0a68-f951-4dc8-9452-43d88e7be0b7'), project_name=Name(value='Project 3'), project_description=Description(value='Description 3'), project_tags=Tags(value=['tag3', 'tag4']), owner_id=UserId(value='acee644c-3f16-4d45-a26b-7b54e1e1eb10'), visibility=<Visibility.PRIVATE: 'private'>, created_at=DateTime(value=datetime.datetime(2024, 5, 30, 14, 34, 42, 932502, tzinfo=datetime.timezone(datetime.timedelta(seconds=7200)))), updated_at=DateTime(value=datetime.datetime(2024, 5, 30, 14, 34, 42, 932502, tzinfo=datetime.timezone(datetime.timedelta(seconds=7200))))),\n",
       " ProjectSummary(project_id=ProjectId(value='097e6ec2-cd7e-415d-a3d8-81691d45acb7'), project_name=Name(value='Project 4'), project_description=Description(value='Description 4'), project_tags=Tags(value=['tag4', 'tag5']), owner_id=UserId(value='f7f5c60d-25af-4f57-98bc-427cc1869c74'), visibility=<Visibility.PRIVATE: 'private'>, created_at=DateTime(value=datetime.datetime(2024, 5, 30, 14, 34, 42, 939410, tzinfo=datetime.timezone(datetime.timedelta(seconds=7200)))), updated_at=DateTime(value=datetime.datetime(2024, 5, 30, 14, 34, 42, 939410, tzinfo=datetime.timezone(datetime.timedelta(seconds=7200))))),\n",
       " ProjectSummary(project_id=ProjectId(value='881b1371-4658-43c9-841b-c538f0adfcb8'), project_name=Name(value='Project 5'), project_description=Description(value='Description 5'), project_tags=Tags(value=['tag5', 'tag6']), owner_id=UserId(value='831dbd58-ebec-43aa-b956-8d97637fa66f'), visibility=<Visibility.PRIVATE: 'private'>, created_at=DateTime(value=datetime.datetime(2024, 5, 30, 14, 34, 42, 943454, tzinfo=datetime.timezone(datetime.timedelta(seconds=7200)))), updated_at=DateTime(value=datetime.datetime(2024, 5, 30, 14, 34, 42, 943454, tzinfo=datetime.timezone(datetime.timedelta(seconds=7200))))),\n",
       " ProjectSummary(project_id=ProjectId(value='5e6ad2e6-c69a-411e-b411-3115b2cedd6c'), project_name=Name(value='Project 6'), project_description=Description(value='Description 6'), project_tags=Tags(value=['tag6', 'tag7']), owner_id=UserId(value='ee804bcc-ee64-452b-8ee4-68e435e03662'), visibility=<Visibility.PRIVATE: 'private'>, created_at=DateTime(value=datetime.datetime(2024, 5, 30, 14, 34, 42, 947227, tzinfo=datetime.timezone(datetime.timedelta(seconds=7200)))), updated_at=DateTime(value=datetime.datetime(2024, 5, 30, 14, 34, 42, 947227, tzinfo=datetime.timezone(datetime.timedelta(seconds=7200))))),\n",
       " ProjectSummary(project_id=ProjectId(value='a932a284-2136-4dcc-ad78-8f1fbd8df852'), project_name=Name(value='Project 7'), project_description=Description(value='Description 7'), project_tags=Tags(value=['tag7', 'tag8']), owner_id=UserId(value='df61a479-e655-497b-b550-ec50f13caabd'), visibility=<Visibility.PRIVATE: 'private'>, created_at=DateTime(value=datetime.datetime(2024, 5, 30, 14, 34, 42, 950927, tzinfo=datetime.timezone(datetime.timedelta(seconds=7200)))), updated_at=DateTime(value=datetime.datetime(2024, 5, 30, 14, 34, 42, 950927, tzinfo=datetime.timezone(datetime.timedelta(seconds=7200))))),\n",
       " ProjectSummary(project_id=ProjectId(value='8bfa87ba-e588-4569-9e03-dc9a0d885842'), project_name=Name(value='Project 8'), project_description=Description(value='Description 8'), project_tags=Tags(value=['tag8', 'tag9']), owner_id=UserId(value='44b719d2-ded1-4d11-9cd9-025fe34d2c8d'), visibility=<Visibility.PRIVATE: 'private'>, created_at=DateTime(value=datetime.datetime(2024, 5, 30, 14, 34, 42, 954375, tzinfo=datetime.timezone(datetime.timedelta(seconds=7200)))), updated_at=DateTime(value=datetime.datetime(2024, 5, 30, 14, 34, 42, 954375, tzinfo=datetime.timezone(datetime.timedelta(seconds=7200))))),\n",
       " ProjectSummary(project_id=ProjectId(value='7b22be1a-a6c4-4286-ba40-8b4aa9f397f4'), project_name=Name(value='Project 9'), project_description=Description(value='Description 9'), project_tags=Tags(value=['tag9', 'tag10']), owner_id=UserId(value='bd793a69-4ab9-4075-892c-fbcb27a6660e'), visibility=<Visibility.PRIVATE: 'private'>, created_at=DateTime(value=datetime.datetime(2024, 5, 30, 14, 34, 42, 957778, tzinfo=datetime.timezone(datetime.timedelta(seconds=7200)))), updated_at=DateTime(value=datetime.datetime(2024, 5, 30, 14, 34, 42, 957778, tzinfo=datetime.timezone(datetime.timedelta(seconds=7200))))),\n",
       " ProjectSummary(project_id=ProjectId(value='5d3f5e5b-184f-420e-bf62-caa51a86f02a'), project_name=Name(value='Project 1'), project_description=Description(value='Description 1'), project_tags=Tags(value=['tag1', 'tag2']), owner_id=UserId(value='081d7033-187b-4d44-893e-854b7bd3bb77'), visibility=<Visibility.PRIVATE: 'private'>, created_at=DateTime(value=datetime.datetime(2024, 5, 30, 14, 35, 0, 239821, tzinfo=datetime.timezone(datetime.timedelta(seconds=7200)))), updated_at=DateTime(value=datetime.datetime(2024, 5, 30, 14, 35, 0, 239821, tzinfo=datetime.timezone(datetime.timedelta(seconds=7200))))),\n",
       " ProjectSummary(project_id=ProjectId(value='ebfe2ac6-7554-4d83-aae9-35ee876c1f6d'), project_name=Name(value='Rio Primero 123'), project_description=Description(value='Rio Primero Project in Argentina'), project_tags=Tags(value=['rio primero', 'argentina']), owner_id=UserId(value='5289c696-78ab-4e92-a62d-656f80f83f8e'), visibility=<Visibility.PRIVATE: 'private'>, created_at=DateTime(value=datetime.datetime(2024, 5, 30, 23, 19, 36, 201336, tzinfo=datetime.timezone(datetime.timedelta(seconds=7200)))), updated_at=DateTime(value=datetime.datetime(2024, 5, 30, 23, 19, 36, 201336, tzinfo=datetime.timezone(datetime.timedelta(seconds=7200))))),\n",
       " ProjectSummary(project_id=ProjectId(value='f02a4be9-19da-4334-8176-ff75d8fc2194'), project_name=Name(value='Project 0'), project_description=Description(value='Description 0'), project_tags=Tags(value=['tag0', 'tag1']), owner_id=UserId(value='bbd2026b-4072-466b-bf7c-4e25c5ab9728'), visibility=<Visibility.PRIVATE: 'private'>, created_at=DateTime(value=datetime.datetime(2024, 5, 30, 23, 20, 16, 522034, tzinfo=datetime.timezone(datetime.timedelta(seconds=7200)))), updated_at=DateTime(value=datetime.datetime(2024, 5, 30, 23, 20, 16, 522034, tzinfo=datetime.timezone(datetime.timedelta(seconds=7200))))),\n",
       " ProjectSummary(project_id=ProjectId(value='ed489685-d04a-481f-b454-6f9b11812bf4'), project_name=Name(value='Project 1'), project_description=Description(value='Description 1'), project_tags=Tags(value=['tag1', 'tag2']), owner_id=UserId(value='be0025e8-44f1-46eb-ba3f-984d693e2839'), visibility=<Visibility.PRIVATE: 'private'>, created_at=DateTime(value=datetime.datetime(2024, 5, 30, 23, 20, 16, 532177, tzinfo=datetime.timezone(datetime.timedelta(seconds=7200)))), updated_at=DateTime(value=datetime.datetime(2024, 5, 30, 23, 20, 16, 532177, tzinfo=datetime.timezone(datetime.timedelta(seconds=7200))))),\n",
       " ProjectSummary(project_id=ProjectId(value='df5f5629-97e8-4d12-bbdc-02b8b4ecc00f'), project_name=Name(value='Project 2'), project_description=Description(value='Description 2'), project_tags=Tags(value=['tag2', 'tag3']), owner_id=UserId(value='b3f668aa-ab4b-449f-b168-4cbfa3488772'), visibility=<Visibility.PRIVATE: 'private'>, created_at=DateTime(value=datetime.datetime(2024, 5, 30, 23, 20, 16, 537974, tzinfo=datetime.timezone(datetime.timedelta(seconds=7200)))), updated_at=DateTime(value=datetime.datetime(2024, 5, 30, 23, 20, 16, 537974, tzinfo=datetime.timezone(datetime.timedelta(seconds=7200))))),\n",
       " ProjectSummary(project_id=ProjectId(value='be3b3aa1-dcfc-49e0-a02f-67ce214b45b6'), project_name=Name(value='Project 3'), project_description=Description(value='Description 3'), project_tags=Tags(value=['tag3', 'tag4']), owner_id=UserId(value='ce56a9cd-a1bd-4376-9f53-3df51ee5e8b0'), visibility=<Visibility.PRIVATE: 'private'>, created_at=DateTime(value=datetime.datetime(2024, 5, 30, 23, 20, 16, 542658, tzinfo=datetime.timezone(datetime.timedelta(seconds=7200)))), updated_at=DateTime(value=datetime.datetime(2024, 5, 30, 23, 20, 16, 542658, tzinfo=datetime.timezone(datetime.timedelta(seconds=7200))))),\n",
       " ProjectSummary(project_id=ProjectId(value='d29b9022-5348-4fa5-b25e-bd667a831961'), project_name=Name(value='Project 4'), project_description=Description(value='Description 4'), project_tags=Tags(value=['tag4', 'tag5']), owner_id=UserId(value='50e051cb-07c0-4839-a309-d934973795b0'), visibility=<Visibility.PRIVATE: 'private'>, created_at=DateTime(value=datetime.datetime(2024, 5, 30, 23, 20, 16, 547493, tzinfo=datetime.timezone(datetime.timedelta(seconds=7200)))), updated_at=DateTime(value=datetime.datetime(2024, 5, 30, 23, 20, 16, 547493, tzinfo=datetime.timezone(datetime.timedelta(seconds=7200))))),\n",
       " ProjectSummary(project_id=ProjectId(value='fd0f29e2-45af-4281-9b58-89e3a9479aff'), project_name=Name(value='Project 5'), project_description=Description(value='Description 5'), project_tags=Tags(value=['tag5', 'tag6']), owner_id=UserId(value='4d49eaa4-2111-4a4e-af07-520579334081'), visibility=<Visibility.PRIVATE: 'private'>, created_at=DateTime(value=datetime.datetime(2024, 5, 30, 23, 20, 16, 552543, tzinfo=datetime.timezone(datetime.timedelta(seconds=7200)))), updated_at=DateTime(value=datetime.datetime(2024, 5, 30, 23, 20, 16, 552543, tzinfo=datetime.timezone(datetime.timedelta(seconds=7200))))),\n",
       " ProjectSummary(project_id=ProjectId(value='ed0c24d6-be84-493e-8954-8aeb39f6edc3'), project_name=Name(value='Project 6'), project_description=Description(value='Description 6'), project_tags=Tags(value=['tag6', 'tag7']), owner_id=UserId(value='21b26132-2421-4275-a0a8-df3bc4a881e5'), visibility=<Visibility.PRIVATE: 'private'>, created_at=DateTime(value=datetime.datetime(2024, 5, 30, 23, 20, 16, 556397, tzinfo=datetime.timezone(datetime.timedelta(seconds=7200)))), updated_at=DateTime(value=datetime.datetime(2024, 5, 30, 23, 20, 16, 556397, tzinfo=datetime.timezone(datetime.timedelta(seconds=7200))))),\n",
       " ProjectSummary(project_id=ProjectId(value='82183e32-d26c-4776-a08a-05a500c94172'), project_name=Name(value='Project 7'), project_description=Description(value='Description 7'), project_tags=Tags(value=['tag7', 'tag8']), owner_id=UserId(value='4df17f0c-b7a3-472f-80e1-25e466b8aaef'), visibility=<Visibility.PRIVATE: 'private'>, created_at=DateTime(value=datetime.datetime(2024, 5, 30, 23, 20, 16, 559558, tzinfo=datetime.timezone(datetime.timedelta(seconds=7200)))), updated_at=DateTime(value=datetime.datetime(2024, 5, 30, 23, 20, 16, 559558, tzinfo=datetime.timezone(datetime.timedelta(seconds=7200))))),\n",
       " ProjectSummary(project_id=ProjectId(value='b91d82d8-34fa-48eb-928f-395c3fdd3728'), project_name=Name(value='Project 8'), project_description=Description(value='Description 8'), project_tags=Tags(value=['tag8', 'tag9']), owner_id=UserId(value='43161756-ff5e-4cbb-9f7b-306d41219ece'), visibility=<Visibility.PRIVATE: 'private'>, created_at=DateTime(value=datetime.datetime(2024, 5, 30, 23, 20, 16, 562574, tzinfo=datetime.timezone(datetime.timedelta(seconds=7200)))), updated_at=DateTime(value=datetime.datetime(2024, 5, 30, 23, 20, 16, 562574, tzinfo=datetime.timezone(datetime.timedelta(seconds=7200))))),\n",
       " ProjectSummary(project_id=ProjectId(value='cfb06c1b-47e6-4e03-8f48-3e9e6f901254'), project_name=Name(value='Project 9'), project_description=Description(value='Description 9'), project_tags=Tags(value=['tag9', 'tag10']), owner_id=UserId(value='9ad6c160-b692-4e13-82ae-5fa9d0ae848d'), visibility=<Visibility.PRIVATE: 'private'>, created_at=DateTime(value=datetime.datetime(2024, 5, 30, 23, 20, 16, 565477, tzinfo=datetime.timezone(datetime.timedelta(seconds=7200)))), updated_at=DateTime(value=datetime.datetime(2024, 5, 30, 23, 20, 16, 565477, tzinfo=datetime.timezone(datetime.timedelta(seconds=7200))))),\n",
       " ProjectSummary(project_id=ProjectId(value='341257ef-7331-446f-98ac-7c1475f13b79'), project_name=Name(value='Project 1'), project_description=Description(value='Description 1'), project_tags=Tags(value=['tag1', 'tag2']), owner_id=UserId(value='86b246b8-d8ea-41e5-83e8-8a88eb5f95ac'), visibility=<Visibility.PRIVATE: 'private'>, created_at=DateTime(value=datetime.datetime(2024, 5, 30, 23, 20, 23, 593977)), updated_at=DateTime(value=datetime.datetime(2024, 5, 30, 23, 20, 23, 593977)))]"
      ]
     },
     "execution_count": 3,
     "metadata": {},
     "output_type": "execute_result"
    }
   ],
   "source": [
    "from morpheus.project.application.read.ProjectReader import project_reader\n",
    "\n",
    "project_list = project_reader.get_project_summaries()\n",
    "project_list"
   ]
  },
  {
   "cell_type": "markdown",
   "id": "22380477da429c5d",
   "metadata": {
    "collapsed": false,
    "papermill": {
     "duration": 0.00258,
     "end_time": "2024-05-30T21:20:23.629363",
     "exception": false,
     "start_time": "2024-05-30T21:20:23.626783",
     "status": "completed"
    },
    "tags": []
   },
   "source": [
    "# Create model"
   ]
  },
  {
   "cell_type": "code",
   "execution_count": 4,
   "id": "7db50a89dc6391e5",
   "metadata": {
    "ExecuteTime": {
     "end_time": "2024-05-15T12:40:48.827392Z",
     "start_time": "2024-05-15T12:40:48.499422Z"
    },
    "collapsed": false,
    "execution": {
     "iopub.execute_input": "2024-05-30T21:20:23.635038Z",
     "iopub.status.busy": "2024-05-30T21:20:23.634888Z",
     "iopub.status.idle": "2024-05-30T21:20:23.950920Z",
     "shell.execute_reply": "2024-05-30T21:20:23.950584Z"
    },
    "papermill": {
     "duration": 0.320089,
     "end_time": "2024-05-30T21:20:23.952053",
     "exception": false,
     "start_time": "2024-05-30T21:20:23.631964",
     "status": "completed"
    },
    "tags": []
   },
   "outputs": [],
   "source": [
    "from morpheus.project.types.discretization.spatial import Rotation\n",
    "from morpheus.project.types.geometry import Polygon\n",
    "from morpheus.project.types.Model import ModelId\n",
    "from morpheus.project.application.write.Model import CreateModelCommand, CreateModelCommandHandler\n",
    "\n",
    "polygon = Polygon(\n",
    "  type='Polygon',\n",
    "  coordinates=[[\n",
    "    (13.922514437551428, 50.964720483303836),\n",
    "    (13.925250781947113, 50.965228748412386),\n",
    "    (13.925036413951403, 50.96623732041704),\n",
    "    (13.92222441026388, 50.96629040370362),\n",
    "    (13.922514437551428, 50.964720483303836)\n",
    "  ]]\n",
    ")\n",
    "\n",
    "n_cols = 100\n",
    "n_rows = 50\n",
    "rotation = 0.0\n",
    "\n",
    "command = CreateModelCommand(\n",
    "  project_id=project_id,\n",
    "  user_id=user_id,\n",
    "  model_id=ModelId.new(),\n",
    "  geometry=polygon,\n",
    "  n_cols=n_cols,\n",
    "  n_rows=n_rows,\n",
    "  rotation=Rotation.from_float(rotation),\n",
    ")\n",
    "\n",
    "project_command_bus.dispatch(command)"
   ]
  },
  {
   "cell_type": "markdown",
   "id": "cde69ee770d30fc1",
   "metadata": {
    "collapsed": false,
    "papermill": {
     "duration": 0.003275,
     "end_time": "2024-05-30T21:20:23.959070",
     "exception": false,
     "start_time": "2024-05-30T21:20:23.955795",
     "status": "completed"
    },
    "tags": []
   },
   "source": [
    "# Read Latest Model"
   ]
  },
  {
   "cell_type": "code",
   "execution_count": 5,
   "id": "d2717a59e00a53d1",
   "metadata": {
    "ExecuteTime": {
     "end_time": "2024-05-15T12:40:48.841811Z",
     "start_time": "2024-05-15T12:40:48.829018Z"
    },
    "collapsed": false,
    "execution": {
     "iopub.execute_input": "2024-05-30T21:20:23.965742Z",
     "iopub.status.busy": "2024-05-30T21:20:23.965601Z",
     "iopub.status.idle": "2024-05-30T21:20:23.978469Z",
     "shell.execute_reply": "2024-05-30T21:20:23.978225Z"
    },
    "papermill": {
     "duration": 0.017234,
     "end_time": "2024-05-30T21:20:23.979312",
     "exception": false,
     "start_time": "2024-05-30T21:20:23.962078",
     "status": "completed"
    },
    "tags": []
   },
   "outputs": [
    {
     "data": {
      "text/plain": [
       "Model(model_id=ModelId(value='b05746ea-e950-4862-afc6-8765cb61c4af'), spatial_discretization=SpatialDiscretization(geometry=Polygon(coordinates=[[[13.922514437551428, 50.964720483303836], [13.925250781947113, 50.965228748412386], [13.925036413951403, 50.96623732041704], [13.92222441026388, 50.96629040370362], [13.922514437551428, 50.964720483303836]]], type='Polygon'), grid=Grid(origin=Point(coordinates=[13.922224410263878, 50.9662904037036], type='Point'), col_widths=[3.3689415472885593, 3.3689415472885593, 3.3689415472885598, 3.368941547288559, 3.368941547288559, 3.3689415472885607, 3.3689415472885607, 3.368941547288557, 3.368941547288557, 3.3689415472885607, 3.368941547288564, 3.368941547288557, 3.368941547288557, 3.368941547288564, 3.368941547288557, 3.368941547288557, 3.368941547288564, 3.36894154728855, 3.368941547288564, 3.368941547288557, 3.368941547288557, 3.3689415472885713, 3.368941547288557, 3.368941547288557, 3.368941547288557, 3.368941547288557, 3.3689415472885713, 3.368941547288557, 3.368941547288543, 3.3689415472885713, 3.368941547288557, 3.368941547288557, 3.3689415472885713, 3.368941547288557, 3.368941547288543, 3.368941547288557, 3.3689415472885713, 3.368941547288557, 3.368941547288557, 3.368941547288557, 3.368941547288557, 3.368941547288557, 3.368941547288557, 3.3689415472885855, 3.368941547288557, 3.368941547288557, 3.3689415472885287, 3.3689415472885855, 3.368941547288557, 3.368941547288557, 3.368941547288557, 3.368941547288557, 3.3689415472885855, 3.368941547288557, 3.368941547288557, 3.368941547288557, 3.3689415472885287, 3.368941547288557, 3.368941547288557, 3.3689415472885855, 3.368941547288557, 3.368941547288557, 3.368941547288557, 3.368941547288557, 3.368941547288557, 3.3689415472885855, 3.368941547288557, 3.368941547288557, 3.3689415472885287, 3.368941547288557, 3.368941547288557, 3.368941547288557, 3.3689415472885855, 3.368941547288557, 3.368941547288557, 3.368941547288557, 3.368941547288557, 3.368941547288557, 3.368941547288557, 3.368941547288557, 3.368941547288614, 3.3689415472885003, 3.368941547288557, 3.368941547288557, 3.368941547288557, 3.368941547288557, 3.368941547288557, 3.368941547288614, 3.368941547288557, 3.368941547288557, 3.368941547288557, 3.368941547288557, 3.368941547288557, 3.3689415472885003, 3.368941547288614, 3.368941547288557, 3.368941547288557, 3.368941547288557, 3.368941547288557, 3.368941547288557], total_width=336.89415472885594, row_heights=[5.549889713171869, 5.549889713171869, 5.54988971317187, 5.5498897131718685, 5.549889713171872, 5.5498897131718685, 5.549889713171872, 5.549889713171865, 5.549889713171865, 5.549889713171879, 5.549889713171865, 5.549889713171872, 5.549889713171865, 5.549889713171879, 5.549889713171865, 5.549889713171865, 5.549889713171879, 5.549889713171851, 5.549889713171879, 5.549889713171879, 5.549889713171851, 5.549889713171879, 5.549889713171879, 5.549889713171865, 5.549889713171865, 5.549889713171865, 5.549889713171893, 5.549889713171865, 5.5498897131718365, 5.549889713171893, 5.549889713171865, 5.549889713171865, 5.549889713171893, 5.549889713171865, 5.5498897131718365, 5.549889713171865, 5.549889713171893, 5.549889713171865, 5.549889713171893, 5.549889713171865, 5.5498897131718365, 5.549889713171865, 5.549889713171893, 5.549889713171865, 5.549889713171865, 5.549889713171893, 5.549889713171808, 5.549889713171922, 5.549889713171865, 5.549889713171865], total_height=277.4944856585935, rotation=Rotation(value=0.0), length_unit=LengthUnit(unit=2)), affected_cells=ActiveCells(shape=[50, 100], data=[ActiveCell(col=0, row=0), ActiveCell(col=1, row=0), ActiveCell(col=2, row=0), ActiveCell(col=3, row=0), ActiveCell(col=4, row=0), ActiveCell(col=5, row=0), ActiveCell(col=6, row=0), ActiveCell(col=7, row=0), ActiveCell(col=8, row=0), ActiveCell(col=9, row=0), ActiveCell(col=10, row=0), ActiveCell(col=11, row=0), ActiveCell(col=12, row=0), ActiveCell(col=13, row=0), ActiveCell(col=14, row=0), ActiveCell(col=15, row=0), ActiveCell(col=16, row=0), ActiveCell(col=17, row=0), ActiveCell(col=18, row=0), ActiveCell(col=19, row=0), ActiveCell(col=20, row=0), ActiveCell(col=21, row=0), ActiveCell(col=22, row=0), ActiveCell(col=23, row=0), ActiveCell(col=24, row=0), ActiveCell(col=25, row=0), ActiveCell(col=26, row=0), ActiveCell(col=0, row=1), ActiveCell(col=1, row=1), ActiveCell(col=2, row=1), ActiveCell(col=3, row=1), ActiveCell(col=4, row=1), ActiveCell(col=5, row=1), ActiveCell(col=6, row=1), ActiveCell(col=7, row=1), ActiveCell(col=8, row=1), ActiveCell(col=9, row=1), ActiveCell(col=10, row=1), ActiveCell(col=11, row=1), ActiveCell(col=12, row=1), ActiveCell(col=13, row=1), ActiveCell(col=14, row=1), ActiveCell(col=15, row=1), ActiveCell(col=16, row=1), ActiveCell(col=17, row=1), ActiveCell(col=18, row=1), ActiveCell(col=19, row=1), ActiveCell(col=20, row=1), ActiveCell(col=21, row=1), ActiveCell(col=22, row=1), ActiveCell(col=23, row=1), ActiveCell(col=24, row=1), ActiveCell(col=25, row=1), ActiveCell(col=26, row=1), ActiveCell(col=27, row=1), ActiveCell(col=28, row=1), ActiveCell(col=29, row=1), ActiveCell(col=30, row=1), ActiveCell(col=31, row=1), ActiveCell(col=32, row=1), ActiveCell(col=33, row=1), ActiveCell(col=34, row=1), ActiveCell(col=35, row=1), ActiveCell(col=36, row=1), ActiveCell(col=37, row=1), ActiveCell(col=38, row=1), ActiveCell(col=39, row=1), ActiveCell(col=40, row=1), ActiveCell(col=41, row=1), ActiveCell(col=42, row=1), ActiveCell(col=43, row=1), ActiveCell(col=44, row=1), ActiveCell(col=45, row=1), ActiveCell(col=46, row=1), ActiveCell(col=47, row=1), ActiveCell(col=48, row=1), ActiveCell(col=49, row=1), ActiveCell(col=50, row=1), ActiveCell(col=51, row=1), ActiveCell(col=52, row=1), ActiveCell(col=53, row=1), ActiveCell(col=54, row=1), ActiveCell(col=55, row=1), ActiveCell(col=56, row=1), ActiveCell(col=57, row=1), ActiveCell(col=58, row=1), ActiveCell(col=59, row=1), ActiveCell(col=60, row=1), ActiveCell(col=61, row=1), ActiveCell(col=62, row=1), ActiveCell(col=63, row=1), ActiveCell(col=64, row=1), ActiveCell(col=65, row=1), ActiveCell(col=66, row=1), ActiveCell(col=67, row=1), ActiveCell(col=68, row=1), ActiveCell(col=69, row=1), ActiveCell(col=70, row=1), ActiveCell(col=71, row=1), ActiveCell(col=72, row=1), ActiveCell(col=73, row=1), ActiveCell(col=74, row=1), ActiveCell(col=75, row=1), ActiveCell(col=76, row=1), ActiveCell(col=77, row=1), ActiveCell(col=78, row=1), ActiveCell(col=79, row=1), ActiveCell(col=80, row=1), ActiveCell(col=81, row=1), ActiveCell(col=0, row=2), ActiveCell(col=1, row=2), ActiveCell(col=2, row=2), ActiveCell(col=3, row=2), ActiveCell(col=4, row=2), ActiveCell(col=5, row=2), ActiveCell(col=6, row=2), ActiveCell(col=7, row=2), ActiveCell(col=8, row=2), ActiveCell(col=9, row=2), ActiveCell(col=10, row=2), ActiveCell(col=11, row=2), ActiveCell(col=12, row=2), ActiveCell(col=13, row=2), ActiveCell(col=14, row=2), ActiveCell(col=15, row=2), ActiveCell(col=16, row=2), ActiveCell(col=17, row=2), ActiveCell(col=18, row=2), ActiveCell(col=19, row=2), ActiveCell(col=20, row=2), ActiveCell(col=21, row=2), ActiveCell(col=22, row=2), ActiveCell(col=23, row=2), ActiveCell(col=24, row=2), ActiveCell(col=25, row=2), ActiveCell(col=26, row=2), ActiveCell(col=27, row=2), ActiveCell(col=28, row=2), ActiveCell(col=29, row=2), ActiveCell(col=30, row=2), ActiveCell(col=31, row=2), ActiveCell(col=32, row=2), ActiveCell(col=33, row=2), ActiveCell(col=34, row=2), ActiveCell(col=35, row=2), ActiveCell(col=36, row=2), ActiveCell(col=37, row=2), ActiveCell(col=38, row=2), ActiveCell(col=39, row=2), ActiveCell(col=40, row=2), ActiveCell(col=41, row=2), ActiveCell(col=42, row=2), ActiveCell(col=43, row=2), ActiveCell(col=44, row=2), ActiveCell(col=45, row=2), ActiveCell(col=46, row=2), ActiveCell(col=47, row=2), ActiveCell(col=48, row=2), ActiveCell(col=49, row=2), ActiveCell(col=50, row=2), ActiveCell(col=51, row=2), ActiveCell(col=52, row=2), ActiveCell(col=53, row=2), ActiveCell(col=54, row=2), ActiveCell(col=55, row=2), ActiveCell(col=56, row=2), ActiveCell(col=57, row=2), ActiveCell(col=58, row=2), ActiveCell(col=59, row=2), ActiveCell(col=60, row=2), ActiveCell(col=61, row=2), ActiveCell(col=62, row=2), ActiveCell(col=63, row=2), ActiveCell(col=64, row=2), ActiveCell(col=65, row=2), ActiveCell(col=66, row=2), ActiveCell(col=67, row=2), ActiveCell(col=68, row=2), ActiveCell(col=69, row=2), ActiveCell(col=70, row=2), ActiveCell(col=71, row=2), ActiveCell(col=72, row=2), ActiveCell(col=73, row=2), ActiveCell(col=74, row=2), ActiveCell(col=75, row=2), ActiveCell(col=76, row=2), ActiveCell(col=77, row=2), ActiveCell(col=78, row=2), ActiveCell(col=79, row=2), ActiveCell(col=80, row=2), ActiveCell(col=81, row=2), ActiveCell(col=82, row=2), ActiveCell(col=83, row=2), ActiveCell(col=84, row=2), ActiveCell(col=85, row=2), ActiveCell(col=86, row=2), ActiveCell(col=87, row=2), ActiveCell(col=88, row=2), ActiveCell(col=89, row=2), ActiveCell(col=90, row=2), ActiveCell(col=91, row=2), ActiveCell(col=92, row=2), ActiveCell(col=1, row=3), ActiveCell(col=2, row=3), ActiveCell(col=3, row=3), ActiveCell(col=4, row=3), ActiveCell(col=5, row=3), ActiveCell(col=6, row=3), ActiveCell(col=7, row=3), ActiveCell(col=8, row=3), ActiveCell(col=9, row=3), ActiveCell(col=10, row=3), ActiveCell(col=11, row=3), ActiveCell(col=12, row=3), ActiveCell(col=13, row=3), ActiveCell(col=14, row=3), ActiveCell(col=15, row=3), ActiveCell(col=16, row=3), ActiveCell(col=17, row=3), ActiveCell(col=18, row=3), ActiveCell(col=19, row=3), ActiveCell(col=20, row=3), ActiveCell(col=21, row=3), ActiveCell(col=22, row=3), ActiveCell(col=23, row=3), ActiveCell(col=24, row=3), ActiveCell(col=25, row=3), ActiveCell(col=26, row=3), ActiveCell(col=27, row=3), ActiveCell(col=28, row=3), ActiveCell(col=29, row=3), ActiveCell(col=30, row=3), ActiveCell(col=31, row=3), ActiveCell(col=32, row=3), ActiveCell(col=33, row=3), ActiveCell(col=34, row=3), ActiveCell(col=35, row=3), ActiveCell(col=36, row=3), ActiveCell(col=37, row=3), ActiveCell(col=38, row=3), ActiveCell(col=39, row=3), ActiveCell(col=40, row=3), ActiveCell(col=41, row=3), ActiveCell(col=42, row=3), ActiveCell(col=43, row=3), ActiveCell(col=44, row=3), ActiveCell(col=45, row=3), ActiveCell(col=46, row=3), ActiveCell(col=47, row=3), ActiveCell(col=48, row=3), ActiveCell(col=49, row=3), ActiveCell(col=50, row=3), ActiveCell(col=51, row=3), ActiveCell(col=52, row=3), ActiveCell(col=53, row=3), ActiveCell(col=54, row=3), ActiveCell(col=55, row=3), ActiveCell(col=56, row=3), ActiveCell(col=57, row=3), ActiveCell(col=58, row=3), ActiveCell(col=59, row=3), ActiveCell(col=60, row=3), ActiveCell(col=61, row=3), ActiveCell(col=62, row=3), ActiveCell(col=63, row=3), ActiveCell(col=64, row=3), ActiveCell(col=65, row=3), ActiveCell(col=66, row=3), ActiveCell(col=67, row=3), ActiveCell(col=68, row=3), ActiveCell(col=69, row=3), ActiveCell(col=70, row=3), ActiveCell(col=71, row=3), ActiveCell(col=72, row=3), ActiveCell(col=73, row=3), ActiveCell(col=74, row=3), ActiveCell(col=75, row=3), ActiveCell(col=76, row=3), ActiveCell(col=77, row=3), ActiveCell(col=78, row=3), ActiveCell(col=79, row=3), ActiveCell(col=80, row=3), ActiveCell(col=81, row=3), ActiveCell(col=82, row=3), ActiveCell(col=83, row=3), ActiveCell(col=84, row=3), ActiveCell(col=85, row=3), ActiveCell(col=86, row=3), ActiveCell(col=87, row=3), ActiveCell(col=88, row=3), ActiveCell(col=89, row=3), ActiveCell(col=90, row=3), ActiveCell(col=91, row=3), ActiveCell(col=92, row=3), ActiveCell(col=1, row=4), ActiveCell(col=2, row=4), ActiveCell(col=3, row=4), ActiveCell(col=4, row=4), ActiveCell(col=5, row=4), ActiveCell(col=6, row=4), ActiveCell(col=7, row=4), ActiveCell(col=8, row=4), ActiveCell(col=9, row=4), ActiveCell(col=10, row=4), ActiveCell(col=11, row=4), ActiveCell(col=12, row=4), ActiveCell(col=13, row=4), ActiveCell(col=14, row=4), ActiveCell(col=15, row=4), ActiveCell(col=16, row=4), ActiveCell(col=17, row=4), ActiveCell(col=18, row=4), ActiveCell(col=19, row=4), ActiveCell(col=20, row=4), ActiveCell(col=21, row=4), ActiveCell(col=22, row=4), ActiveCell(col=23, row=4), ActiveCell(col=24, row=4), ActiveCell(col=25, row=4), ActiveCell(col=26, row=4), ActiveCell(col=27, row=4), ActiveCell(col=28, row=4), ActiveCell(col=29, row=4), ActiveCell(col=30, row=4), ActiveCell(col=31, row=4), ActiveCell(col=32, row=4), ActiveCell(col=33, row=4), ActiveCell(col=34, row=4), ActiveCell(col=35, row=4), ActiveCell(col=36, row=4), ActiveCell(col=37, row=4), ActiveCell(col=38, row=4), ActiveCell(col=39, row=4), ActiveCell(col=40, row=4), ActiveCell(col=41, row=4), ActiveCell(col=42, row=4), ActiveCell(col=43, row=4), ActiveCell(col=44, row=4), ActiveCell(col=45, row=4), ActiveCell(col=46, row=4), ActiveCell(col=47, row=4), ActiveCell(col=48, row=4), ActiveCell(col=49, row=4), ActiveCell(col=50, row=4), ActiveCell(col=51, row=4), ActiveCell(col=52, row=4), ActiveCell(col=53, row=4), ActiveCell(col=54, row=4), ActiveCell(col=55, row=4), ActiveCell(col=56, row=4), ActiveCell(col=57, row=4), ActiveCell(col=58, row=4), ActiveCell(col=59, row=4), ActiveCell(col=60, row=4), ActiveCell(col=61, row=4), ActiveCell(col=62, row=4), ActiveCell(col=63, row=4), ActiveCell(col=64, row=4), ActiveCell(col=65, row=4), ActiveCell(col=66, row=4), ActiveCell(col=67, row=4), ActiveCell(col=68, row=4), ActiveCell(col=69, row=4), ActiveCell(col=70, row=4), ActiveCell(col=71, row=4), ActiveCell(col=72, row=4), ActiveCell(col=73, row=4), ActiveCell(col=74, row=4), ActiveCell(col=75, row=4), ActiveCell(col=76, row=4), ActiveCell(col=77, row=4), ActiveCell(col=78, row=4), ActiveCell(col=79, row=4), ActiveCell(col=80, row=4), ActiveCell(col=81, row=4), ActiveCell(col=82, row=4), ActiveCell(col=83, row=4), ActiveCell(col=84, row=4), ActiveCell(col=85, row=4), ActiveCell(col=86, row=4), ActiveCell(col=87, row=4), ActiveCell(col=88, row=4), ActiveCell(col=89, row=4), ActiveCell(col=90, row=4), ActiveCell(col=91, row=4), ActiveCell(col=92, row=4), ActiveCell(col=93, row=4), ActiveCell(col=1, row=5), ActiveCell(col=2, row=5), ActiveCell(col=3, row=5), ActiveCell(col=4, row=5), ActiveCell(col=5, row=5), ActiveCell(col=6, row=5), ActiveCell(col=7, row=5), ActiveCell(col=8, row=5), ActiveCell(col=9, row=5), ActiveCell(col=10, row=5), ActiveCell(col=11, row=5), ActiveCell(col=12, row=5), ActiveCell(col=13, row=5), ActiveCell(col=14, row=5), ActiveCell(col=15, row=5), ActiveCell(col=16, row=5), ActiveCell(col=17, row=5), ActiveCell(col=18, row=5), ActiveCell(col=19, row=5), ActiveCell(col=20, row=5), ActiveCell(col=21, row=5), ActiveCell(col=22, row=5), ActiveCell(col=23, row=5), ActiveCell(col=24, row=5), ActiveCell(col=25, row=5), ActiveCell(col=26, row=5), ActiveCell(col=27, row=5), ActiveCell(col=28, row=5), ActiveCell(col=29, row=5), ActiveCell(col=30, row=5), ActiveCell(col=31, row=5), ActiveCell(col=32, row=5), ActiveCell(col=33, row=5), ActiveCell(col=34, row=5), ActiveCell(col=35, row=5), ActiveCell(col=36, row=5), ActiveCell(col=37, row=5), ActiveCell(col=38, row=5), ActiveCell(col=39, row=5), ActiveCell(col=40, row=5), ActiveCell(col=41, row=5), ActiveCell(col=42, row=5), ActiveCell(col=43, row=5), ActiveCell(col=44, row=5), ActiveCell(col=45, row=5), ActiveCell(col=46, row=5), ActiveCell(col=47, row=5), ActiveCell(col=48, row=5), ActiveCell(col=49, row=5), ActiveCell(col=50, row=5), ActiveCell(col=51, row=5), ActiveCell(col=52, row=5), ActiveCell(col=53, row=5), ActiveCell(col=54, row=5), ActiveCell(col=55, row=5), ActiveCell(col=56, row=5), ActiveCell(col=57, row=5), ActiveCell(col=58, row=5), ActiveCell(col=59, row=5), ActiveCell(col=60, row=5), ActiveCell(col=61, row=5), ActiveCell(col=62, row=5), ActiveCell(col=63, row=5), ActiveCell(col=64, row=5), ActiveCell(col=65, row=5), ActiveCell(col=66, row=5), ActiveCell(col=67, row=5), ActiveCell(col=68, row=5), ActiveCell(col=69, row=5), ActiveCell(col=70, row=5), ActiveCell(col=71, row=5), ActiveCell(col=72, row=5), ActiveCell(col=73, row=5), ActiveCell(col=74, row=5), ActiveCell(col=75, row=5), ActiveCell(col=76, row=5), ActiveCell(col=77, row=5), ActiveCell(col=78, row=5), ActiveCell(col=79, row=5), ActiveCell(col=80, row=5), ActiveCell(col=81, row=5), ActiveCell(col=82, row=5), ActiveCell(col=83, row=5), ActiveCell(col=84, row=5), ActiveCell(col=85, row=5), ActiveCell(col=86, row=5), ActiveCell(col=87, row=5), ActiveCell(col=88, row=5), ActiveCell(col=89, row=5), ActiveCell(col=90, row=5), ActiveCell(col=91, row=5), ActiveCell(col=92, row=5), ActiveCell(col=93, row=5), ActiveCell(col=1, row=6), ActiveCell(col=2, row=6), ActiveCell(col=3, row=6), ActiveCell(col=4, row=6), ActiveCell(col=5, row=6), ActiveCell(col=6, row=6), ActiveCell(col=7, row=6), ActiveCell(col=8, row=6), ActiveCell(col=9, row=6), ActiveCell(col=10, row=6), ActiveCell(col=11, row=6), ActiveCell(col=12, row=6), ActiveCell(col=13, row=6), ActiveCell(col=14, row=6), ActiveCell(col=15, row=6), ActiveCell(col=16, row=6), ActiveCell(col=17, row=6), ActiveCell(col=18, row=6), ActiveCell(col=19, row=6), ActiveCell(col=20, row=6), ActiveCell(col=21, row=6), ActiveCell(col=22, row=6), ActiveCell(col=23, row=6), ActiveCell(col=24, row=6), ActiveCell(col=25, row=6), ActiveCell(col=26, row=6), ActiveCell(col=27, row=6), ActiveCell(col=28, row=6), ActiveCell(col=29, row=6), ActiveCell(col=30, row=6), ActiveCell(col=31, row=6), ActiveCell(col=32, row=6), ActiveCell(col=33, row=6), ActiveCell(col=34, row=6), ActiveCell(col=35, row=6), ActiveCell(col=36, row=6), ActiveCell(col=37, row=6), ActiveCell(col=38, row=6), ActiveCell(col=39, row=6), ActiveCell(col=40, row=6), ActiveCell(col=41, row=6), ActiveCell(col=42, row=6), ActiveCell(col=43, row=6), ActiveCell(col=44, row=6), ActiveCell(col=45, row=6), ActiveCell(col=46, row=6), ActiveCell(col=47, row=6), ActiveCell(col=48, row=6), ActiveCell(col=49, row=6), ActiveCell(col=50, row=6), ActiveCell(col=51, row=6), ActiveCell(col=52, row=6), ActiveCell(col=53, row=6), ActiveCell(col=54, row=6), ActiveCell(col=55, row=6), ActiveCell(col=56, row=6), ActiveCell(col=57, row=6), ActiveCell(col=58, row=6), ActiveCell(col=59, row=6), ActiveCell(col=60, row=6), ActiveCell(col=61, row=6), ActiveCell(col=62, row=6), ActiveCell(col=63, row=6), ActiveCell(col=64, row=6), ActiveCell(col=65, row=6), ActiveCell(col=66, row=6), ActiveCell(col=67, row=6), ActiveCell(col=68, row=6), ActiveCell(col=69, row=6), ActiveCell(col=70, row=6), ActiveCell(col=71, row=6), ActiveCell(col=72, row=6), ActiveCell(col=73, row=6), ActiveCell(col=74, row=6), ActiveCell(col=75, row=6), ActiveCell(col=76, row=6), ActiveCell(col=77, row=6), ActiveCell(col=78, row=6), ActiveCell(col=79, row=6), ActiveCell(col=80, row=6), ActiveCell(col=81, row=6), ActiveCell(col=82, row=6), ActiveCell(col=83, row=6), ActiveCell(col=84, row=6), ActiveCell(col=85, row=6), ActiveCell(col=86, row=6), ActiveCell(col=87, row=6), ActiveCell(col=88, row=6), ActiveCell(col=89, row=6), ActiveCell(col=90, row=6), ActiveCell(col=91, row=6), ActiveCell(col=92, row=6), ActiveCell(col=93, row=6), ActiveCell(col=1, row=7), ActiveCell(col=2, row=7), ActiveCell(col=3, row=7), ActiveCell(col=4, row=7), ActiveCell(col=5, row=7), ActiveCell(col=6, row=7), ActiveCell(col=7, row=7), ActiveCell(col=8, row=7), ActiveCell(col=9, row=7), ActiveCell(col=10, row=7), ActiveCell(col=11, row=7), ActiveCell(col=12, row=7), ActiveCell(col=13, row=7), ActiveCell(col=14, row=7), ActiveCell(col=15, row=7), ActiveCell(col=16, row=7), ActiveCell(col=17, row=7), ActiveCell(col=18, row=7), ActiveCell(col=19, row=7), ActiveCell(col=20, row=7), ActiveCell(col=21, row=7), ActiveCell(col=22, row=7), ActiveCell(col=23, row=7), ActiveCell(col=24, row=7), ActiveCell(col=25, row=7), ActiveCell(col=26, row=7), ActiveCell(col=27, row=7), ActiveCell(col=28, row=7), ActiveCell(col=29, row=7), ActiveCell(col=30, row=7), ActiveCell(col=31, row=7), ActiveCell(col=32, row=7), ActiveCell(col=33, row=7), ActiveCell(col=34, row=7), ActiveCell(col=35, row=7), ActiveCell(col=36, row=7), ActiveCell(col=37, row=7), ActiveCell(col=38, row=7), ActiveCell(col=39, row=7), ActiveCell(col=40, row=7), ActiveCell(col=41, row=7), ActiveCell(col=42, row=7), ActiveCell(col=43, row=7), ActiveCell(col=44, row=7), ActiveCell(col=45, row=7), ActiveCell(col=46, row=7), ActiveCell(col=47, row=7), ActiveCell(col=48, row=7), ActiveCell(col=49, row=7), ActiveCell(col=50, row=7), ActiveCell(col=51, row=7), ActiveCell(col=52, row=7), ActiveCell(col=53, row=7), ActiveCell(col=54, row=7), ActiveCell(col=55, row=7), ActiveCell(col=56, row=7), ActiveCell(col=57, row=7), ActiveCell(col=58, row=7), ActiveCell(col=59, row=7), ActiveCell(col=60, row=7), ActiveCell(col=61, row=7), ActiveCell(col=62, row=7), ActiveCell(col=63, row=7), ActiveCell(col=64, row=7), ActiveCell(col=65, row=7), ActiveCell(col=66, row=7), ActiveCell(col=67, row=7), ActiveCell(col=68, row=7), ActiveCell(col=69, row=7), ActiveCell(col=70, row=7), ActiveCell(col=71, row=7), ActiveCell(col=72, row=7), ActiveCell(col=73, row=7), ActiveCell(col=74, row=7), ActiveCell(col=75, row=7), ActiveCell(col=76, row=7), ActiveCell(col=77, row=7), ActiveCell(col=78, row=7), ActiveCell(col=79, row=7), ActiveCell(col=80, row=7), ActiveCell(col=81, row=7), ActiveCell(col=82, row=7), ActiveCell(col=83, row=7), ActiveCell(col=84, row=7), ActiveCell(col=85, row=7), ActiveCell(col=86, row=7), ActiveCell(col=87, row=7), ActiveCell(col=88, row=7), ActiveCell(col=89, row=7), ActiveCell(col=90, row=7), ActiveCell(col=91, row=7), ActiveCell(col=92, row=7), ActiveCell(col=93, row=7), ActiveCell(col=2, row=8), ActiveCell(col=3, row=8), ActiveCell(col=4, row=8), ActiveCell(col=5, row=8), ActiveCell(col=6, row=8), ActiveCell(col=7, row=8), ActiveCell(col=8, row=8), ActiveCell(col=9, row=8), ActiveCell(col=10, row=8), ActiveCell(col=11, row=8), ActiveCell(col=12, row=8), ActiveCell(col=13, row=8), ActiveCell(col=14, row=8), ActiveCell(col=15, row=8), ActiveCell(col=16, row=8), ActiveCell(col=17, row=8), ActiveCell(col=18, row=8), ActiveCell(col=19, row=8), ActiveCell(col=20, row=8), ActiveCell(col=21, row=8), ActiveCell(col=22, row=8), ActiveCell(col=23, row=8), ActiveCell(col=24, row=8), ActiveCell(col=25, row=8), ActiveCell(col=26, row=8), ActiveCell(col=27, row=8), ActiveCell(col=28, row=8), ActiveCell(col=29, row=8), ActiveCell(col=30, row=8), ActiveCell(col=31, row=8), ActiveCell(col=32, row=8), ActiveCell(col=33, row=8), ActiveCell(col=34, row=8), ActiveCell(col=35, row=8), ActiveCell(col=36, row=8), ActiveCell(col=37, row=8), ActiveCell(col=38, row=8), ActiveCell(col=39, row=8), ActiveCell(col=40, row=8), ActiveCell(col=41, row=8), ActiveCell(col=42, row=8), ActiveCell(col=43, row=8), ActiveCell(col=44, row=8), ActiveCell(col=45, row=8), ActiveCell(col=46, row=8), ActiveCell(col=47, row=8), ActiveCell(col=48, row=8), ActiveCell(col=49, row=8), ActiveCell(col=50, row=8), ActiveCell(col=51, row=8), ActiveCell(col=52, row=8), ActiveCell(col=53, row=8), ActiveCell(col=54, row=8), ActiveCell(col=55, row=8), ActiveCell(col=56, row=8), ActiveCell(col=57, row=8), ActiveCell(col=58, row=8), ActiveCell(col=59, row=8), ActiveCell(col=60, row=8), ActiveCell(col=61, row=8), ActiveCell(col=62, row=8), ActiveCell(col=63, row=8), ActiveCell(col=64, row=8), ActiveCell(col=65, row=8), ActiveCell(col=66, row=8), ActiveCell(col=67, row=8), ActiveCell(col=68, row=8), ActiveCell(col=69, row=8), ActiveCell(col=70, row=8), ActiveCell(col=71, row=8), ActiveCell(col=72, row=8), ActiveCell(col=73, row=8), ActiveCell(col=74, row=8), ActiveCell(col=75, row=8), ActiveCell(col=76, row=8), ActiveCell(col=77, row=8), ActiveCell(col=78, row=8), ActiveCell(col=79, row=8), ActiveCell(col=80, row=8), ActiveCell(col=81, row=8), ActiveCell(col=82, row=8), ActiveCell(col=83, row=8), ActiveCell(col=84, row=8), ActiveCell(col=85, row=8), ActiveCell(col=86, row=8), ActiveCell(col=87, row=8), ActiveCell(col=88, row=8), ActiveCell(col=89, row=8), ActiveCell(col=90, row=8), ActiveCell(col=91, row=8), ActiveCell(col=92, row=8), ActiveCell(col=93, row=8), ActiveCell(col=2, row=9), ActiveCell(col=3, row=9), ActiveCell(col=4, row=9), ActiveCell(col=5, row=9), ActiveCell(col=6, row=9), ActiveCell(col=7, row=9), ActiveCell(col=8, row=9), ActiveCell(col=9, row=9), ActiveCell(col=10, row=9), ActiveCell(col=11, row=9), ActiveCell(col=12, row=9), ActiveCell(col=13, row=9), ActiveCell(col=14, row=9), ActiveCell(col=15, row=9), ActiveCell(col=16, row=9), ActiveCell(col=17, row=9), ActiveCell(col=18, row=9), ActiveCell(col=19, row=9), ActiveCell(col=20, row=9), ActiveCell(col=21, row=9), ActiveCell(col=22, row=9), ActiveCell(col=23, row=9), ActiveCell(col=24, row=9), ActiveCell(col=25, row=9), ActiveCell(col=26, row=9), ActiveCell(col=27, row=9), ActiveCell(col=28, row=9), ActiveCell(col=29, row=9), ActiveCell(col=30, row=9), ActiveCell(col=31, row=9), ActiveCell(col=32, row=9), ActiveCell(col=33, row=9), ActiveCell(col=34, row=9), ActiveCell(col=35, row=9), ActiveCell(col=36, row=9), ActiveCell(col=37, row=9), ActiveCell(col=38, row=9), ActiveCell(col=39, row=9), ActiveCell(col=40, row=9), ActiveCell(col=41, row=9), ActiveCell(col=42, row=9), ActiveCell(col=43, row=9), ActiveCell(col=44, row=9), ActiveCell(col=45, row=9), ActiveCell(col=46, row=9), ActiveCell(col=47, row=9), ActiveCell(col=48, row=9), ActiveCell(col=49, row=9), ActiveCell(col=50, row=9), ActiveCell(col=51, row=9), ActiveCell(col=52, row=9), ActiveCell(col=53, row=9), ActiveCell(col=54, row=9), ActiveCell(col=55, row=9), ActiveCell(col=56, row=9), ActiveCell(col=57, row=9), ActiveCell(col=58, row=9), ActiveCell(col=59, row=9), ActiveCell(col=60, row=9), ActiveCell(col=61, row=9), ActiveCell(col=62, row=9), ActiveCell(col=63, row=9), ActiveCell(col=64, row=9), ActiveCell(col=65, row=9), ActiveCell(col=66, row=9), ActiveCell(col=67, row=9), ActiveCell(col=68, row=9), ActiveCell(col=69, row=9), ActiveCell(col=70, row=9), ActiveCell(col=71, row=9), ActiveCell(col=72, row=9), ActiveCell(col=73, row=9), ActiveCell(col=74, row=9), ActiveCell(col=75, row=9), ActiveCell(col=76, row=9), ActiveCell(col=77, row=9), ActiveCell(col=78, row=9), ActiveCell(col=79, row=9), ActiveCell(col=80, row=9), ActiveCell(col=81, row=9), ActiveCell(col=82, row=9), ActiveCell(col=83, row=9), ActiveCell(col=84, row=9), ActiveCell(col=85, row=9), ActiveCell(col=86, row=9), ActiveCell(col=87, row=9), ActiveCell(col=88, row=9), ActiveCell(col=89, row=9), ActiveCell(col=90, row=9), ActiveCell(col=91, row=9), ActiveCell(col=92, row=9), ActiveCell(col=93, row=9), ActiveCell(col=94, row=9), ActiveCell(col=2, row=10), ActiveCell(col=3, row=10), ActiveCell(col=4, row=10), ActiveCell(col=5, row=10), ActiveCell(col=6, row=10), ActiveCell(col=7, row=10), ActiveCell(col=8, row=10), ActiveCell(col=9, row=10), ActiveCell(col=10, row=10), ActiveCell(col=11, row=10), ActiveCell(col=12, row=10), ActiveCell(col=13, row=10), ActiveCell(col=14, row=10), ActiveCell(col=15, row=10), ActiveCell(col=16, row=10), ActiveCell(col=17, row=10), ActiveCell(col=18, row=10), ActiveCell(col=19, row=10), ActiveCell(col=20, row=10), ActiveCell(col=21, row=10), ActiveCell(col=22, row=10), ActiveCell(col=23, row=10), ActiveCell(col=24, row=10), ActiveCell(col=25, row=10), ActiveCell(col=26, row=10), ActiveCell(col=27, row=10), ActiveCell(col=28, row=10), ActiveCell(col=29, row=10), ActiveCell(col=30, row=10), ActiveCell(col=31, row=10), ActiveCell(col=32, row=10), ActiveCell(col=33, row=10), ActiveCell(col=34, row=10), ActiveCell(col=35, row=10), ActiveCell(col=36, row=10), ActiveCell(col=37, row=10), ActiveCell(col=38, row=10), ActiveCell(col=39, row=10), ActiveCell(col=40, row=10), ActiveCell(col=41, row=10), ActiveCell(col=42, row=10), ActiveCell(col=43, row=10), ActiveCell(col=44, row=10), ActiveCell(col=45, row=10), ActiveCell(col=46, row=10), ActiveCell(col=47, row=10), ActiveCell(col=48, row=10), ActiveCell(col=49, row=10), ActiveCell(col=50, row=10), ActiveCell(col=51, row=10), ActiveCell(col=52, row=10), ActiveCell(col=53, row=10), ActiveCell(col=54, row=10), ActiveCell(col=55, row=10), ActiveCell(col=56, row=10), ActiveCell(col=57, row=10), ActiveCell(col=58, row=10), ActiveCell(col=59, row=10), ActiveCell(col=60, row=10), ActiveCell(col=61, row=10), ActiveCell(col=62, row=10), ActiveCell(col=63, row=10), ActiveCell(col=64, row=10), ActiveCell(col=65, row=10), ActiveCell(col=66, row=10), ActiveCell(col=67, row=10), ActiveCell(col=68, row=10), ActiveCell(col=69, row=10), ActiveCell(col=70, row=10), ActiveCell(col=71, row=10), ActiveCell(col=72, row=10), ActiveCell(col=73, row=10), ActiveCell(col=74, row=10), ActiveCell(col=75, row=10), ActiveCell(col=76, row=10), ActiveCell(col=77, row=10), ActiveCell(col=78, row=10), ActiveCell(col=79, row=10), ActiveCell(col=80, row=10), ActiveCell(col=81, row=10), ActiveCell(col=82, row=10), ActiveCell(col=83, row=10), ActiveCell(col=84, row=10), ActiveCell(col=85, row=10), ActiveCell(col=86, row=10), ActiveCell(col=87, row=10), ActiveCell(col=88, row=10), ActiveCell(col=89, row=10), ActiveCell(col=90, row=10), ActiveCell(col=91, row=10), ActiveCell(col=92, row=10), ActiveCell(col=93, row=10), ActiveCell(col=94, row=10), ActiveCell(col=2, row=11), ActiveCell(col=3, row=11), ActiveCell(col=4, row=11), ActiveCell(col=5, row=11), ActiveCell(col=6, row=11), ActiveCell(col=7, row=11), ActiveCell(col=8, row=11), ActiveCell(col=9, row=11), ActiveCell(col=10, row=11), ActiveCell(col=11, row=11), ActiveCell(col=12, row=11), ActiveCell(col=13, row=11), ActiveCell(col=14, row=11), ActiveCell(col=15, row=11), ActiveCell(col=16, row=11), ActiveCell(col=17, row=11), ActiveCell(col=18, row=11), ActiveCell(col=19, row=11), ActiveCell(col=20, row=11), ActiveCell(col=21, row=11), ActiveCell(col=22, row=11), ActiveCell(col=23, row=11), ActiveCell(col=24, row=11), ActiveCell(col=25, row=11), ActiveCell(col=26, row=11), ActiveCell(col=27, row=11), ActiveCell(col=28, row=11), ActiveCell(col=29, row=11), ActiveCell(col=30, row=11), ActiveCell(col=31, row=11), ActiveCell(col=32, row=11), ActiveCell(col=33, row=11), ActiveCell(col=34, row=11), ActiveCell(col=35, row=11), ActiveCell(col=36, row=11), ActiveCell(col=37, row=11), ActiveCell(col=38, row=11), ActiveCell(col=39, row=11), ActiveCell(col=40, row=11), ActiveCell(col=41, row=11), ActiveCell(col=42, row=11), ActiveCell(col=43, row=11), ActiveCell(col=44, row=11), ActiveCell(col=45, row=11), ActiveCell(col=46, row=11), ActiveCell(col=47, row=11), ActiveCell(col=48, row=11), ActiveCell(col=49, row=11), ActiveCell(col=50, row=11), ActiveCell(col=51, row=11), ActiveCell(col=52, row=11), ActiveCell(col=53, row=11), ActiveCell(col=54, row=11), ActiveCell(col=55, row=11), ActiveCell(col=56, row=11), ActiveCell(col=57, row=11), ActiveCell(col=58, row=11), ActiveCell(col=59, row=11), ActiveCell(col=60, row=11), ActiveCell(col=61, row=11), ActiveCell(col=62, row=11), ActiveCell(col=63, row=11), ActiveCell(col=64, row=11), ActiveCell(col=65, row=11), ActiveCell(col=66, row=11), ActiveCell(col=67, row=11), ActiveCell(col=68, row=11), ActiveCell(col=69, row=11), ActiveCell(col=70, row=11), ActiveCell(col=71, row=11), ActiveCell(col=72, row=11), ActiveCell(col=73, row=11), ActiveCell(col=74, row=11), ActiveCell(col=75, row=11), ActiveCell(col=76, row=11), ActiveCell(col=77, row=11), ActiveCell(col=78, row=11), ActiveCell(col=79, row=11), ActiveCell(col=80, row=11), ActiveCell(col=81, row=11), ActiveCell(col=82, row=11), ActiveCell(col=83, row=11), ActiveCell(col=84, row=11), ActiveCell(col=85, row=11), ActiveCell(col=86, row=11), ActiveCell(col=87, row=11), ActiveCell(col=88, row=11), ActiveCell(col=89, row=11), ActiveCell(col=90, row=11), ActiveCell(col=91, row=11), ActiveCell(col=92, row=11), ActiveCell(col=93, row=11), ActiveCell(col=94, row=11), ActiveCell(col=2, row=12), ActiveCell(col=3, row=12), ActiveCell(col=4, row=12), ActiveCell(col=5, row=12), ActiveCell(col=6, row=12), ActiveCell(col=7, row=12), ActiveCell(col=8, row=12), ActiveCell(col=9, row=12), ActiveCell(col=10, row=12), ActiveCell(col=11, row=12), ActiveCell(col=12, row=12), ActiveCell(col=13, row=12), ActiveCell(col=14, row=12), ActiveCell(col=15, row=12), ActiveCell(col=16, row=12), ActiveCell(col=17, row=12), ActiveCell(col=18, row=12), ActiveCell(col=19, row=12), ActiveCell(col=20, row=12), ActiveCell(col=21, row=12), ActiveCell(col=22, row=12), ActiveCell(col=23, row=12), ActiveCell(col=24, row=12), ActiveCell(col=25, row=12), ActiveCell(col=26, row=12), ActiveCell(col=27, row=12), ActiveCell(col=28, row=12), ActiveCell(col=29, row=12), ActiveCell(col=30, row=12), ActiveCell(col=31, row=12), ActiveCell(col=32, row=12), ActiveCell(col=33, row=12), ActiveCell(col=34, row=12), ActiveCell(col=35, row=12), ActiveCell(col=36, row=12), ActiveCell(col=37, row=12), ActiveCell(col=38, row=12), ActiveCell(col=39, row=12), ActiveCell(col=40, row=12), ActiveCell(col=41, row=12), ActiveCell(col=42, row=12), ActiveCell(col=43, row=12), ActiveCell(col=44, row=12), ActiveCell(col=45, row=12), ActiveCell(col=46, row=12), ActiveCell(col=47, row=12), ActiveCell(col=48, row=12), ActiveCell(col=49, row=12), ActiveCell(col=50, row=12), ActiveCell(col=51, row=12), ActiveCell(col=52, row=12), ActiveCell(col=53, row=12), ActiveCell(col=54, row=12), ActiveCell(col=55, row=12), ActiveCell(col=56, row=12), ActiveCell(col=57, row=12), ActiveCell(col=58, row=12), ActiveCell(col=59, row=12), ActiveCell(col=60, row=12), ActiveCell(col=61, row=12), ActiveCell(col=62, row=12), ActiveCell(col=63, row=12), ActiveCell(col=64, row=12), ActiveCell(col=65, row=12), ActiveCell(col=66, row=12), ActiveCell(col=67, row=12), ActiveCell(col=68, row=12), ActiveCell(col=69, row=12), ActiveCell(col=70, row=12), ActiveCell(col=71, row=12), ActiveCell(col=72, row=12), ActiveCell(col=73, row=12), ActiveCell(col=74, row=12), ActiveCell(col=75, row=12), ActiveCell(col=76, row=12), ActiveCell(col=77, row=12), ActiveCell(col=78, row=12), ActiveCell(col=79, row=12), ActiveCell(col=80, row=12), ActiveCell(col=81, row=12), ActiveCell(col=82, row=12), ActiveCell(col=83, row=12), ActiveCell(col=84, row=12), ActiveCell(col=85, row=12), ActiveCell(col=86, row=12), ActiveCell(col=87, row=12), ActiveCell(col=88, row=12), ActiveCell(col=89, row=12), ActiveCell(col=90, row=12), ActiveCell(col=91, row=12), ActiveCell(col=92, row=12), ActiveCell(col=93, row=12), ActiveCell(col=94, row=12), ActiveCell(col=3, row=13), ActiveCell(col=4, row=13), ActiveCell(col=5, row=13), ActiveCell(col=6, row=13), ActiveCell(col=7, row=13), ActiveCell(col=8, row=13), ActiveCell(col=9, row=13), ActiveCell(col=10, row=13), ActiveCell(col=11, row=13), ActiveCell(col=12, row=13), ActiveCell(col=13, row=13), ActiveCell(col=14, row=13), ActiveCell(col=15, row=13), ActiveCell(col=16, row=13), ActiveCell(col=17, row=13), ActiveCell(col=18, row=13), ActiveCell(col=19, row=13), ActiveCell(col=20, row=13), ActiveCell(col=21, row=13), ActiveCell(col=22, row=13), ActiveCell(col=23, row=13), ActiveCell(col=24, row=13), ActiveCell(col=25, row=13), ActiveCell(col=26, row=13), ActiveCell(col=27, row=13), ActiveCell(col=28, row=13), ActiveCell(col=29, row=13), ActiveCell(col=30, row=13), ActiveCell(col=31, row=13), ActiveCell(col=32, row=13), ActiveCell(col=33, row=13), ActiveCell(col=34, row=13), ActiveCell(col=35, row=13), ActiveCell(col=36, row=13), ActiveCell(col=37, row=13), ActiveCell(col=38, row=13), ActiveCell(col=39, row=13), ActiveCell(col=40, row=13), ActiveCell(col=41, row=13), ActiveCell(col=42, row=13), ActiveCell(col=43, row=13), ActiveCell(col=44, row=13), ActiveCell(col=45, row=13), ActiveCell(col=46, row=13), ActiveCell(col=47, row=13), ActiveCell(col=48, row=13), ActiveCell(col=49, row=13), ActiveCell(col=50, row=13), ActiveCell(col=51, row=13), ActiveCell(col=52, row=13), ActiveCell(col=53, row=13), ActiveCell(col=54, row=13), ActiveCell(col=55, row=13), ActiveCell(col=56, row=13), ActiveCell(col=57, row=13), ActiveCell(col=58, row=13), ActiveCell(col=59, row=13), ActiveCell(col=60, row=13), ActiveCell(col=61, row=13), ActiveCell(col=62, row=13), ActiveCell(col=63, row=13), ActiveCell(col=64, row=13), ActiveCell(col=65, row=13), ActiveCell(col=66, row=13), ActiveCell(col=67, row=13), ActiveCell(col=68, row=13), ActiveCell(col=69, row=13), ActiveCell(col=70, row=13), ActiveCell(col=71, row=13), ActiveCell(col=72, row=13), ActiveCell(col=73, row=13), ActiveCell(col=74, row=13), ActiveCell(col=75, row=13), ActiveCell(col=76, row=13), ActiveCell(col=77, row=13), ActiveCell(col=78, row=13), ActiveCell(col=79, row=13), ActiveCell(col=80, row=13), ActiveCell(col=81, row=13), ActiveCell(col=82, row=13), ActiveCell(col=83, row=13), ActiveCell(col=84, row=13), ActiveCell(col=85, row=13), ActiveCell(col=86, row=13), ActiveCell(col=87, row=13), ActiveCell(col=88, row=13), ActiveCell(col=89, row=13), ActiveCell(col=90, row=13), ActiveCell(col=91, row=13), ActiveCell(col=92, row=13), ActiveCell(col=93, row=13), ActiveCell(col=94, row=13), ActiveCell(col=95, row=13), ActiveCell(col=3, row=14), ActiveCell(col=4, row=14), ActiveCell(col=5, row=14), ActiveCell(col=6, row=14), ActiveCell(col=7, row=14), ActiveCell(col=8, row=14), ActiveCell(col=9, row=14), ActiveCell(col=10, row=14), ActiveCell(col=11, row=14), ActiveCell(col=12, row=14), ActiveCell(col=13, row=14), ActiveCell(col=14, row=14), ActiveCell(col=15, row=14), ActiveCell(col=16, row=14), ActiveCell(col=17, row=14), ActiveCell(col=18, row=14), ActiveCell(col=19, row=14), ActiveCell(col=20, row=14), ActiveCell(col=21, row=14), ActiveCell(col=22, row=14), ActiveCell(col=23, row=14), ActiveCell(col=24, row=14), ActiveCell(col=25, row=14), ActiveCell(col=26, row=14), ActiveCell(col=27, row=14), ActiveCell(col=28, row=14), ActiveCell(col=29, row=14), ActiveCell(col=30, row=14), ActiveCell(col=31, row=14), ActiveCell(col=32, row=14), ActiveCell(col=33, row=14), ActiveCell(col=34, row=14), ActiveCell(col=35, row=14), ActiveCell(col=36, row=14), ActiveCell(col=37, row=14), ActiveCell(col=38, row=14), ActiveCell(col=39, row=14), ActiveCell(col=40, row=14), ActiveCell(col=41, row=14), ActiveCell(col=42, row=14), ActiveCell(col=43, row=14), ActiveCell(col=44, row=14), ActiveCell(col=45, row=14), ActiveCell(col=46, row=14), ActiveCell(col=47, row=14), ActiveCell(col=48, row=14), ActiveCell(col=49, row=14), ActiveCell(col=50, row=14), ActiveCell(col=51, row=14), ActiveCell(col=52, row=14), ActiveCell(col=53, row=14), ActiveCell(col=54, row=14), ActiveCell(col=55, row=14), ActiveCell(col=56, row=14), ActiveCell(col=57, row=14), ActiveCell(col=58, row=14), ActiveCell(col=59, row=14), ActiveCell(col=60, row=14), ActiveCell(col=61, row=14), ActiveCell(col=62, row=14), ActiveCell(col=63, row=14), ActiveCell(col=64, row=14), ActiveCell(col=65, row=14), ActiveCell(col=66, row=14), ActiveCell(col=67, row=14), ActiveCell(col=68, row=14), ActiveCell(col=69, row=14), ActiveCell(col=70, row=14), ActiveCell(col=71, row=14), ActiveCell(col=72, row=14), ActiveCell(col=73, row=14), ActiveCell(col=74, row=14), ActiveCell(col=75, row=14), ActiveCell(col=76, row=14), ActiveCell(col=77, row=14), ActiveCell(col=78, row=14), ActiveCell(col=79, row=14), ActiveCell(col=80, row=14), ActiveCell(col=81, row=14), ActiveCell(col=82, row=14), ActiveCell(col=83, row=14), ActiveCell(col=84, row=14), ActiveCell(col=85, row=14), ActiveCell(col=86, row=14), ActiveCell(col=87, row=14), ActiveCell(col=88, row=14), ActiveCell(col=89, row=14), ActiveCell(col=90, row=14), ActiveCell(col=91, row=14), ActiveCell(col=92, row=14), ActiveCell(col=93, row=14), ActiveCell(col=94, row=14), ActiveCell(col=95, row=14), ActiveCell(col=3, row=15), ActiveCell(col=4, row=15), ActiveCell(col=5, row=15), ActiveCell(col=6, row=15), ActiveCell(col=7, row=15), ActiveCell(col=8, row=15), ActiveCell(col=9, row=15), ActiveCell(col=10, row=15), ActiveCell(col=11, row=15), ActiveCell(col=12, row=15), ActiveCell(col=13, row=15), ActiveCell(col=14, row=15), ActiveCell(col=15, row=15), ActiveCell(col=16, row=15), ActiveCell(col=17, row=15), ActiveCell(col=18, row=15), ActiveCell(col=19, row=15), ActiveCell(col=20, row=15), ActiveCell(col=21, row=15), ActiveCell(col=22, row=15), ActiveCell(col=23, row=15), ActiveCell(col=24, row=15), ActiveCell(col=25, row=15), ActiveCell(col=26, row=15), ActiveCell(col=27, row=15), ActiveCell(col=28, row=15), ActiveCell(col=29, row=15), ActiveCell(col=30, row=15), ActiveCell(col=31, row=15), ActiveCell(col=32, row=15), ActiveCell(col=33, row=15), ActiveCell(col=34, row=15), ActiveCell(col=35, row=15), ActiveCell(col=36, row=15), ActiveCell(col=37, row=15), ActiveCell(col=38, row=15), ActiveCell(col=39, row=15), ActiveCell(col=40, row=15), ActiveCell(col=41, row=15), ActiveCell(col=42, row=15), ActiveCell(col=43, row=15), ActiveCell(col=44, row=15), ActiveCell(col=45, row=15), ActiveCell(col=46, row=15), ActiveCell(col=47, row=15), ActiveCell(col=48, row=15), ActiveCell(col=49, row=15), ActiveCell(col=50, row=15), ActiveCell(col=51, row=15), ActiveCell(col=52, row=15), ActiveCell(col=53, row=15), ActiveCell(col=54, row=15), ActiveCell(col=55, row=15), ActiveCell(col=56, row=15), ActiveCell(col=57, row=15), ActiveCell(col=58, row=15), ActiveCell(col=59, row=15), ActiveCell(col=60, row=15), ActiveCell(col=61, row=15), ActiveCell(col=62, row=15), ActiveCell(col=63, row=15), ActiveCell(col=64, row=15), ActiveCell(col=65, row=15), ActiveCell(col=66, row=15), ActiveCell(col=67, row=15), ActiveCell(col=68, row=15), ActiveCell(col=69, row=15), ActiveCell(col=70, row=15), ActiveCell(col=71, row=15), ActiveCell(col=72, row=15), ActiveCell(col=73, row=15), ActiveCell(col=74, row=15), ActiveCell(col=75, row=15), ActiveCell(col=76, row=15), ActiveCell(col=77, row=15), ActiveCell(col=78, row=15), ActiveCell(col=79, row=15), ActiveCell(col=80, row=15), ActiveCell(col=81, row=15), ActiveCell(col=82, row=15), ActiveCell(col=83, row=15), ActiveCell(col=84, row=15), ActiveCell(col=85, row=15), ActiveCell(col=86, row=15), ActiveCell(col=87, row=15), ActiveCell(col=88, row=15), ActiveCell(col=89, row=15), ActiveCell(col=90, row=15), ActiveCell(col=91, row=15), ActiveCell(col=92, row=15), ActiveCell(col=93, row=15), ActiveCell(col=94, row=15), ActiveCell(col=95, row=15), ActiveCell(col=3, row=16), ActiveCell(col=4, row=16), ActiveCell(col=5, row=16), ActiveCell(col=6, row=16), ActiveCell(col=7, row=16), ActiveCell(col=8, row=16), ActiveCell(col=9, row=16), ActiveCell(col=10, row=16), ActiveCell(col=11, row=16), ActiveCell(col=12, row=16), ActiveCell(col=13, row=16), ActiveCell(col=14, row=16), ActiveCell(col=15, row=16), ActiveCell(col=16, row=16), ActiveCell(col=17, row=16), ActiveCell(col=18, row=16), ActiveCell(col=19, row=16), ActiveCell(col=20, row=16), ActiveCell(col=21, row=16), ActiveCell(col=22, row=16), ActiveCell(col=23, row=16), ActiveCell(col=24, row=16), ActiveCell(col=25, row=16), ActiveCell(col=26, row=16), ActiveCell(col=27, row=16), ActiveCell(col=28, row=16), ActiveCell(col=29, row=16), ActiveCell(col=30, row=16), ActiveCell(col=31, row=16), ActiveCell(col=32, row=16), ActiveCell(col=33, row=16), ActiveCell(col=34, row=16), ActiveCell(col=35, row=16), ActiveCell(col=36, row=16), ActiveCell(col=37, row=16), ActiveCell(col=38, row=16), ActiveCell(col=39, row=16), ActiveCell(col=40, row=16), ActiveCell(col=41, row=16), ActiveCell(col=42, row=16), ActiveCell(col=43, row=16), ActiveCell(col=44, row=16), ActiveCell(col=45, row=16), ActiveCell(col=46, row=16), ActiveCell(col=47, row=16), ActiveCell(col=48, row=16), ActiveCell(col=49, row=16), ActiveCell(col=50, row=16), ActiveCell(col=51, row=16), ActiveCell(col=52, row=16), ActiveCell(col=53, row=16), ActiveCell(col=54, row=16), ActiveCell(col=55, row=16), ActiveCell(col=56, row=16), ActiveCell(col=57, row=16), ActiveCell(col=58, row=16), ActiveCell(col=59, row=16), ActiveCell(col=60, row=16), ActiveCell(col=61, row=16), ActiveCell(col=62, row=16), ActiveCell(col=63, row=16), ActiveCell(col=64, row=16), ActiveCell(col=65, row=16), ActiveCell(col=66, row=16), ActiveCell(col=67, row=16), ActiveCell(col=68, row=16), ActiveCell(col=69, row=16), ActiveCell(col=70, row=16), ActiveCell(col=71, row=16), ActiveCell(col=72, row=16), ActiveCell(col=73, row=16), ActiveCell(col=74, row=16), ActiveCell(col=75, row=16), ActiveCell(col=76, row=16), ActiveCell(col=77, row=16), ActiveCell(col=78, row=16), ActiveCell(col=79, row=16), ActiveCell(col=80, row=16), ActiveCell(col=81, row=16), ActiveCell(col=82, row=16), ActiveCell(col=83, row=16), ActiveCell(col=84, row=16), ActiveCell(col=85, row=16), ActiveCell(col=86, row=16), ActiveCell(col=87, row=16), ActiveCell(col=88, row=16), ActiveCell(col=89, row=16), ActiveCell(col=90, row=16), ActiveCell(col=91, row=16), ActiveCell(col=92, row=16), ActiveCell(col=93, row=16), ActiveCell(col=94, row=16), ActiveCell(col=95, row=16), ActiveCell(col=3, row=17), ActiveCell(col=4, row=17), ActiveCell(col=5, row=17), ActiveCell(col=6, row=17), ActiveCell(col=7, row=17), ActiveCell(col=8, row=17), ActiveCell(col=9, row=17), ActiveCell(col=10, row=17), ActiveCell(col=11, row=17), ActiveCell(col=12, row=17), ActiveCell(col=13, row=17), ActiveCell(col=14, row=17), ActiveCell(col=15, row=17), ActiveCell(col=16, row=17), ActiveCell(col=17, row=17), ActiveCell(col=18, row=17), ActiveCell(col=19, row=17), ActiveCell(col=20, row=17), ActiveCell(col=21, row=17), ActiveCell(col=22, row=17), ActiveCell(col=23, row=17), ActiveCell(col=24, row=17), ActiveCell(col=25, row=17), ActiveCell(col=26, row=17), ActiveCell(col=27, row=17), ActiveCell(col=28, row=17), ActiveCell(col=29, row=17), ActiveCell(col=30, row=17), ActiveCell(col=31, row=17), ActiveCell(col=32, row=17), ActiveCell(col=33, row=17), ActiveCell(col=34, row=17), ActiveCell(col=35, row=17), ActiveCell(col=36, row=17), ActiveCell(col=37, row=17), ActiveCell(col=38, row=17), ActiveCell(col=39, row=17), ActiveCell(col=40, row=17), ActiveCell(col=41, row=17), ActiveCell(col=42, row=17), ActiveCell(col=43, row=17), ActiveCell(col=44, row=17), ActiveCell(col=45, row=17), ActiveCell(col=46, row=17), ActiveCell(col=47, row=17), ActiveCell(col=48, row=17), ActiveCell(col=49, row=17), ActiveCell(col=50, row=17), ActiveCell(col=51, row=17), ActiveCell(col=52, row=17), ActiveCell(col=53, row=17), ActiveCell(col=54, row=17), ActiveCell(col=55, row=17), ActiveCell(col=56, row=17), ActiveCell(col=57, row=17), ActiveCell(col=58, row=17), ActiveCell(col=59, row=17), ActiveCell(col=60, row=17), ActiveCell(col=61, row=17), ActiveCell(col=62, row=17), ActiveCell(col=63, row=17), ActiveCell(col=64, row=17), ActiveCell(col=65, row=17), ActiveCell(col=66, row=17), ActiveCell(col=67, row=17), ActiveCell(col=68, row=17), ActiveCell(col=69, row=17), ActiveCell(col=70, row=17), ActiveCell(col=71, row=17), ActiveCell(col=72, row=17), ActiveCell(col=73, row=17), ActiveCell(col=74, row=17), ActiveCell(col=75, row=17), ActiveCell(col=76, row=17), ActiveCell(col=77, row=17), ActiveCell(col=78, row=17), ActiveCell(col=79, row=17), ActiveCell(col=80, row=17), ActiveCell(col=81, row=17), ActiveCell(col=82, row=17), ActiveCell(col=83, row=17), ActiveCell(col=84, row=17), ActiveCell(col=85, row=17), ActiveCell(col=86, row=17), ActiveCell(col=87, row=17), ActiveCell(col=88, row=17), ActiveCell(col=89, row=17), ActiveCell(col=90, row=17), ActiveCell(col=91, row=17), ActiveCell(col=92, row=17), ActiveCell(col=93, row=17), ActiveCell(col=94, row=17), ActiveCell(col=95, row=17), ActiveCell(col=4, row=18), ActiveCell(col=5, row=18), ActiveCell(col=6, row=18), ActiveCell(col=7, row=18), ActiveCell(col=8, row=18), ActiveCell(col=9, row=18), ActiveCell(col=10, row=18), ActiveCell(col=11, row=18), ActiveCell(col=12, row=18), ActiveCell(col=13, row=18), ActiveCell(col=14, row=18), ActiveCell(col=15, row=18), ActiveCell(col=16, row=18), ActiveCell(col=17, row=18), ActiveCell(col=18, row=18), ActiveCell(col=19, row=18), ActiveCell(col=20, row=18), ActiveCell(col=21, row=18), ActiveCell(col=22, row=18), ActiveCell(col=23, row=18), ActiveCell(col=24, row=18), ActiveCell(col=25, row=18), ActiveCell(col=26, row=18), ActiveCell(col=27, row=18), ActiveCell(col=28, row=18), ActiveCell(col=29, row=18), ActiveCell(col=30, row=18), ActiveCell(col=31, row=18), ActiveCell(col=32, row=18), ActiveCell(col=33, row=18), ActiveCell(col=34, row=18), ActiveCell(col=35, row=18), ActiveCell(col=36, row=18), ActiveCell(col=37, row=18), ActiveCell(col=38, row=18), ActiveCell(col=39, row=18), ActiveCell(col=40, row=18), ActiveCell(col=41, row=18), ActiveCell(col=42, row=18), ActiveCell(col=43, row=18), ActiveCell(col=44, row=18), ActiveCell(col=45, row=18), ActiveCell(col=46, row=18), ActiveCell(col=47, row=18), ActiveCell(col=48, row=18), ActiveCell(col=49, row=18), ActiveCell(col=50, row=18), ActiveCell(col=51, row=18), ActiveCell(col=52, row=18), ActiveCell(col=53, row=18), ActiveCell(col=54, row=18), ActiveCell(col=55, row=18), ActiveCell(col=56, row=18), ActiveCell(col=57, row=18), ActiveCell(col=58, row=18), ActiveCell(col=59, row=18), ActiveCell(col=60, row=18), ActiveCell(col=61, row=18), ActiveCell(col=62, row=18), ActiveCell(col=63, row=18), ActiveCell(col=64, row=18), ActiveCell(col=65, row=18), ActiveCell(col=66, row=18), ActiveCell(col=67, row=18), ActiveCell(col=68, row=18), ActiveCell(col=69, row=18), ActiveCell(col=70, row=18), ActiveCell(col=71, row=18), ActiveCell(col=72, row=18), ActiveCell(col=73, row=18), ActiveCell(col=74, row=18), ActiveCell(col=75, row=18), ActiveCell(col=76, row=18), ActiveCell(col=77, row=18), ActiveCell(col=78, row=18), ActiveCell(col=79, row=18), ActiveCell(col=80, row=18), ActiveCell(col=81, row=18), ActiveCell(col=82, row=18), ActiveCell(col=83, row=18), ActiveCell(col=84, row=18), ActiveCell(col=85, row=18), ActiveCell(col=86, row=18), ActiveCell(col=87, row=18), ActiveCell(col=88, row=18), ActiveCell(col=89, row=18), ActiveCell(col=90, row=18), ActiveCell(col=91, row=18), ActiveCell(col=92, row=18), ActiveCell(col=93, row=18), ActiveCell(col=94, row=18), ActiveCell(col=95, row=18), ActiveCell(col=96, row=18), ActiveCell(col=4, row=19), ActiveCell(col=5, row=19), ActiveCell(col=6, row=19), ActiveCell(col=7, row=19), ActiveCell(col=8, row=19), ActiveCell(col=9, row=19), ActiveCell(col=10, row=19), ActiveCell(col=11, row=19), ActiveCell(col=12, row=19), ActiveCell(col=13, row=19), ActiveCell(col=14, row=19), ActiveCell(col=15, row=19), ActiveCell(col=16, row=19), ActiveCell(col=17, row=19), ActiveCell(col=18, row=19), ActiveCell(col=19, row=19), ActiveCell(col=20, row=19), ActiveCell(col=21, row=19), ActiveCell(col=22, row=19), ActiveCell(col=23, row=19), ActiveCell(col=24, row=19), ActiveCell(col=25, row=19), ActiveCell(col=26, row=19), ActiveCell(col=27, row=19), ActiveCell(col=28, row=19), ActiveCell(col=29, row=19), ActiveCell(col=30, row=19), ActiveCell(col=31, row=19), ActiveCell(col=32, row=19), ActiveCell(col=33, row=19), ActiveCell(col=34, row=19), ActiveCell(col=35, row=19), ActiveCell(col=36, row=19), ActiveCell(col=37, row=19), ActiveCell(col=38, row=19), ActiveCell(col=39, row=19), ActiveCell(col=40, row=19), ActiveCell(col=41, row=19), ActiveCell(col=42, row=19), ActiveCell(col=43, row=19), ActiveCell(col=44, row=19), ActiveCell(col=45, row=19), ActiveCell(col=46, row=19), ActiveCell(col=47, row=19), ActiveCell(col=48, row=19), ActiveCell(col=49, row=19), ActiveCell(col=50, row=19), ActiveCell(col=51, row=19), ActiveCell(col=52, row=19), ActiveCell(col=53, row=19), ActiveCell(col=54, row=19), ActiveCell(col=55, row=19), ActiveCell(col=56, row=19), ActiveCell(col=57, row=19), ActiveCell(col=58, row=19), ActiveCell(col=59, row=19), ActiveCell(col=60, row=19), ActiveCell(col=61, row=19), ActiveCell(col=62, row=19), ActiveCell(col=63, row=19), ActiveCell(col=64, row=19), ActiveCell(col=65, row=19), ActiveCell(col=66, row=19), ActiveCell(col=67, row=19), ActiveCell(col=68, row=19), ActiveCell(col=69, row=19), ActiveCell(col=70, row=19), ActiveCell(col=71, row=19), ActiveCell(col=72, row=19), ActiveCell(col=73, row=19), ActiveCell(col=74, row=19), ActiveCell(col=75, row=19), ActiveCell(col=76, row=19), ActiveCell(col=77, row=19), ActiveCell(col=78, row=19), ActiveCell(col=79, row=19), ActiveCell(col=80, row=19), ActiveCell(col=81, row=19), ActiveCell(col=82, row=19), ActiveCell(col=83, row=19), ActiveCell(col=84, row=19), ActiveCell(col=85, row=19), ActiveCell(col=86, row=19), ActiveCell(col=87, row=19), ActiveCell(col=88, row=19), ActiveCell(col=89, row=19), ActiveCell(col=90, row=19), ActiveCell(col=91, row=19), ActiveCell(col=92, row=19), ActiveCell(col=93, row=19), ActiveCell(col=94, row=19), ActiveCell(col=95, row=19), ActiveCell(col=96, row=19), ActiveCell(col=4, row=20), ActiveCell(col=5, row=20), ActiveCell(col=6, row=20), ActiveCell(col=7, row=20), ActiveCell(col=8, row=20), ActiveCell(col=9, row=20), ActiveCell(col=10, row=20), ActiveCell(col=11, row=20), ActiveCell(col=12, row=20), ActiveCell(col=13, row=20), ActiveCell(col=14, row=20), ActiveCell(col=15, row=20), ActiveCell(col=16, row=20), ActiveCell(col=17, row=20), ActiveCell(col=18, row=20), ActiveCell(col=19, row=20), ActiveCell(col=20, row=20), ActiveCell(col=21, row=20), ActiveCell(col=22, row=20), ActiveCell(col=23, row=20), ActiveCell(col=24, row=20), ActiveCell(col=25, row=20), ActiveCell(col=26, row=20), ActiveCell(col=27, row=20), ActiveCell(col=28, row=20), ActiveCell(col=29, row=20), ActiveCell(col=30, row=20), ActiveCell(col=31, row=20), ActiveCell(col=32, row=20), ActiveCell(col=33, row=20), ActiveCell(col=34, row=20), ActiveCell(col=35, row=20), ActiveCell(col=36, row=20), ActiveCell(col=37, row=20), ActiveCell(col=38, row=20), ActiveCell(col=39, row=20), ActiveCell(col=40, row=20), ActiveCell(col=41, row=20), ActiveCell(col=42, row=20), ActiveCell(col=43, row=20), ActiveCell(col=44, row=20), ActiveCell(col=45, row=20), ActiveCell(col=46, row=20), ActiveCell(col=47, row=20), ActiveCell(col=48, row=20), ActiveCell(col=49, row=20), ActiveCell(col=50, row=20), ActiveCell(col=51, row=20), ActiveCell(col=52, row=20), ActiveCell(col=53, row=20), ActiveCell(col=54, row=20), ActiveCell(col=55, row=20), ActiveCell(col=56, row=20), ActiveCell(col=57, row=20), ActiveCell(col=58, row=20), ActiveCell(col=59, row=20), ActiveCell(col=60, row=20), ActiveCell(col=61, row=20), ActiveCell(col=62, row=20), ActiveCell(col=63, row=20), ActiveCell(col=64, row=20), ActiveCell(col=65, row=20), ActiveCell(col=66, row=20), ActiveCell(col=67, row=20), ActiveCell(col=68, row=20), ActiveCell(col=69, row=20), ActiveCell(col=70, row=20), ActiveCell(col=71, row=20), ActiveCell(col=72, row=20), ActiveCell(col=73, row=20), ActiveCell(col=74, row=20), ActiveCell(col=75, row=20), ActiveCell(col=76, row=20), ActiveCell(col=77, row=20), ActiveCell(col=78, row=20), ActiveCell(col=79, row=20), ActiveCell(col=80, row=20), ActiveCell(col=81, row=20), ActiveCell(col=82, row=20), ActiveCell(col=83, row=20), ActiveCell(col=84, row=20), ActiveCell(col=85, row=20), ActiveCell(col=86, row=20), ActiveCell(col=87, row=20), ActiveCell(col=88, row=20), ActiveCell(col=89, row=20), ActiveCell(col=90, row=20), ActiveCell(col=91, row=20), ActiveCell(col=92, row=20), ActiveCell(col=93, row=20), ActiveCell(col=94, row=20), ActiveCell(col=95, row=20), ActiveCell(col=96, row=20), ActiveCell(col=4, row=21), ActiveCell(col=5, row=21), ActiveCell(col=6, row=21), ActiveCell(col=7, row=21), ActiveCell(col=8, row=21), ActiveCell(col=9, row=21), ActiveCell(col=10, row=21), ActiveCell(col=11, row=21), ActiveCell(col=12, row=21), ActiveCell(col=13, row=21), ActiveCell(col=14, row=21), ActiveCell(col=15, row=21), ActiveCell(col=16, row=21), ActiveCell(col=17, row=21), ActiveCell(col=18, row=21), ActiveCell(col=19, row=21), ActiveCell(col=20, row=21), ActiveCell(col=21, row=21), ActiveCell(col=22, row=21), ActiveCell(col=23, row=21), ActiveCell(col=24, row=21), ActiveCell(col=25, row=21), ActiveCell(col=26, row=21), ActiveCell(col=27, row=21), ActiveCell(col=28, row=21), ActiveCell(col=29, row=21), ActiveCell(col=30, row=21), ActiveCell(col=31, row=21), ActiveCell(col=32, row=21), ActiveCell(col=33, row=21), ActiveCell(col=34, row=21), ActiveCell(col=35, row=21), ActiveCell(col=36, row=21), ActiveCell(col=37, row=21), ActiveCell(col=38, row=21), ActiveCell(col=39, row=21), ActiveCell(col=40, row=21), ActiveCell(col=41, row=21), ActiveCell(col=42, row=21), ActiveCell(col=43, row=21), ActiveCell(col=44, row=21), ActiveCell(col=45, row=21), ActiveCell(col=46, row=21), ActiveCell(col=47, row=21), ActiveCell(col=48, row=21), ActiveCell(col=49, row=21), ActiveCell(col=50, row=21), ActiveCell(col=51, row=21), ActiveCell(col=52, row=21), ActiveCell(col=53, row=21), ActiveCell(col=54, row=21), ActiveCell(col=55, row=21), ActiveCell(col=56, row=21), ActiveCell(col=57, row=21), ActiveCell(col=58, row=21), ActiveCell(col=59, row=21), ActiveCell(col=60, row=21), ActiveCell(col=61, row=21), ActiveCell(col=62, row=21), ActiveCell(col=63, row=21), ActiveCell(col=64, row=21), ActiveCell(col=65, row=21), ActiveCell(col=66, row=21), ActiveCell(col=67, row=21), ActiveCell(col=68, row=21), ActiveCell(col=69, row=21), ActiveCell(col=70, row=21), ActiveCell(col=71, row=21), ActiveCell(col=72, row=21), ActiveCell(col=73, row=21), ActiveCell(col=74, row=21), ActiveCell(col=75, row=21), ActiveCell(col=76, row=21), ActiveCell(col=77, row=21), ActiveCell(col=78, row=21), ActiveCell(col=79, row=21), ActiveCell(col=80, row=21), ActiveCell(col=81, row=21), ActiveCell(col=82, row=21), ActiveCell(col=83, row=21), ActiveCell(col=84, row=21), ActiveCell(col=85, row=21), ActiveCell(col=86, row=21), ActiveCell(col=87, row=21), ActiveCell(col=88, row=21), ActiveCell(col=89, row=21), ActiveCell(col=90, row=21), ActiveCell(col=91, row=21), ActiveCell(col=92, row=21), ActiveCell(col=93, row=21), ActiveCell(col=94, row=21), ActiveCell(col=95, row=21), ActiveCell(col=96, row=21), ActiveCell(col=4, row=22), ActiveCell(col=5, row=22), ActiveCell(col=6, row=22), ActiveCell(col=7, row=22), ActiveCell(col=8, row=22), ActiveCell(col=9, row=22), ActiveCell(col=10, row=22), ActiveCell(col=11, row=22), ActiveCell(col=12, row=22), ActiveCell(col=13, row=22), ActiveCell(col=14, row=22), ActiveCell(col=15, row=22), ActiveCell(col=16, row=22), ActiveCell(col=17, row=22), ActiveCell(col=18, row=22), ActiveCell(col=19, row=22), ActiveCell(col=20, row=22), ActiveCell(col=21, row=22), ActiveCell(col=22, row=22), ActiveCell(col=23, row=22), ActiveCell(col=24, row=22), ActiveCell(col=25, row=22), ActiveCell(col=26, row=22), ActiveCell(col=27, row=22), ActiveCell(col=28, row=22), ActiveCell(col=29, row=22), ActiveCell(col=30, row=22), ActiveCell(col=31, row=22), ActiveCell(col=32, row=22), ActiveCell(col=33, row=22), ActiveCell(col=34, row=22), ActiveCell(col=35, row=22), ActiveCell(col=36, row=22), ActiveCell(col=37, row=22), ActiveCell(col=38, row=22), ActiveCell(col=39, row=22), ActiveCell(col=40, row=22), ActiveCell(col=41, row=22), ActiveCell(col=42, row=22), ActiveCell(col=43, row=22), ActiveCell(col=44, row=22), ActiveCell(col=45, row=22), ActiveCell(col=46, row=22), ActiveCell(col=47, row=22), ActiveCell(col=48, row=22), ActiveCell(col=49, row=22), ActiveCell(col=50, row=22), ActiveCell(col=51, row=22), ActiveCell(col=52, row=22), ActiveCell(col=53, row=22), ActiveCell(col=54, row=22), ActiveCell(col=55, row=22), ActiveCell(col=56, row=22), ActiveCell(col=57, row=22), ActiveCell(col=58, row=22), ActiveCell(col=59, row=22), ActiveCell(col=60, row=22), ActiveCell(col=61, row=22), ActiveCell(col=62, row=22), ActiveCell(col=63, row=22), ActiveCell(col=64, row=22), ActiveCell(col=65, row=22), ActiveCell(col=66, row=22), ActiveCell(col=67, row=22), ActiveCell(col=68, row=22), ActiveCell(col=69, row=22), ActiveCell(col=70, row=22), ActiveCell(col=71, row=22), ActiveCell(col=72, row=22), ActiveCell(col=73, row=22), ActiveCell(col=74, row=22), ActiveCell(col=75, row=22), ActiveCell(col=76, row=22), ActiveCell(col=77, row=22), ActiveCell(col=78, row=22), ActiveCell(col=79, row=22), ActiveCell(col=80, row=22), ActiveCell(col=81, row=22), ActiveCell(col=82, row=22), ActiveCell(col=83, row=22), ActiveCell(col=84, row=22), ActiveCell(col=85, row=22), ActiveCell(col=86, row=22), ActiveCell(col=87, row=22), ActiveCell(col=88, row=22), ActiveCell(col=89, row=22), ActiveCell(col=90, row=22), ActiveCell(col=91, row=22), ActiveCell(col=92, row=22), ActiveCell(col=93, row=22), ActiveCell(col=94, row=22), ActiveCell(col=95, row=22), ActiveCell(col=96, row=22), ActiveCell(col=97, row=22), ActiveCell(col=5, row=23), ActiveCell(col=6, row=23), ActiveCell(col=7, row=23), ActiveCell(col=8, row=23), ActiveCell(col=9, row=23), ActiveCell(col=10, row=23), ActiveCell(col=11, row=23), ActiveCell(col=12, row=23), ActiveCell(col=13, row=23), ActiveCell(col=14, row=23), ActiveCell(col=15, row=23), ActiveCell(col=16, row=23), ActiveCell(col=17, row=23), ActiveCell(col=18, row=23), ActiveCell(col=19, row=23), ActiveCell(col=20, row=23), ActiveCell(col=21, row=23), ActiveCell(col=22, row=23), ActiveCell(col=23, row=23), ActiveCell(col=24, row=23), ActiveCell(col=25, row=23), ActiveCell(col=26, row=23), ActiveCell(col=27, row=23), ActiveCell(col=28, row=23), ActiveCell(col=29, row=23), ActiveCell(col=30, row=23), ActiveCell(col=31, row=23), ActiveCell(col=32, row=23), ActiveCell(col=33, row=23), ActiveCell(col=34, row=23), ActiveCell(col=35, row=23), ActiveCell(col=36, row=23), ActiveCell(col=37, row=23), ActiveCell(col=38, row=23), ActiveCell(col=39, row=23), ActiveCell(col=40, row=23), ActiveCell(col=41, row=23), ActiveCell(col=42, row=23), ActiveCell(col=43, row=23), ActiveCell(col=44, row=23), ActiveCell(col=45, row=23), ActiveCell(col=46, row=23), ActiveCell(col=47, row=23), ActiveCell(col=48, row=23), ActiveCell(col=49, row=23), ActiveCell(col=50, row=23), ActiveCell(col=51, row=23), ActiveCell(col=52, row=23), ActiveCell(col=53, row=23), ActiveCell(col=54, row=23), ActiveCell(col=55, row=23), ActiveCell(col=56, row=23), ActiveCell(col=57, row=23), ActiveCell(col=58, row=23), ActiveCell(col=59, row=23), ActiveCell(col=60, row=23), ActiveCell(col=61, row=23), ActiveCell(col=62, row=23), ActiveCell(col=63, row=23), ActiveCell(col=64, row=23), ActiveCell(col=65, row=23), ActiveCell(col=66, row=23), ActiveCell(col=67, row=23), ActiveCell(col=68, row=23), ActiveCell(col=69, row=23), ActiveCell(col=70, row=23), ActiveCell(col=71, row=23), ActiveCell(col=72, row=23), ActiveCell(col=73, row=23), ActiveCell(col=74, row=23), ActiveCell(col=75, row=23), ActiveCell(col=76, row=23), ActiveCell(col=77, row=23), ActiveCell(col=78, row=23), ActiveCell(col=79, row=23), ActiveCell(col=80, row=23), ActiveCell(col=81, row=23), ActiveCell(col=82, row=23), ActiveCell(col=83, row=23), ActiveCell(col=84, row=23), ActiveCell(col=85, row=23), ActiveCell(col=86, row=23), ActiveCell(col=87, row=23), ActiveCell(col=88, row=23), ActiveCell(col=89, row=23), ActiveCell(col=90, row=23), ActiveCell(col=91, row=23), ActiveCell(col=92, row=23), ActiveCell(col=93, row=23), ActiveCell(col=94, row=23), ActiveCell(col=95, row=23), ActiveCell(col=96, row=23), ActiveCell(col=97, row=23), ActiveCell(col=5, row=24), ActiveCell(col=6, row=24), ActiveCell(col=7, row=24), ActiveCell(col=8, row=24), ActiveCell(col=9, row=24), ActiveCell(col=10, row=24), ActiveCell(col=11, row=24), ActiveCell(col=12, row=24), ActiveCell(col=13, row=24), ActiveCell(col=14, row=24), ActiveCell(col=15, row=24), ActiveCell(col=16, row=24), ActiveCell(col=17, row=24), ActiveCell(col=18, row=24), ActiveCell(col=19, row=24), ActiveCell(col=20, row=24), ActiveCell(col=21, row=24), ActiveCell(col=22, row=24), ActiveCell(col=23, row=24), ActiveCell(col=24, row=24), ActiveCell(col=25, row=24), ActiveCell(col=26, row=24), ActiveCell(col=27, row=24), ActiveCell(col=28, row=24), ActiveCell(col=29, row=24), ActiveCell(col=30, row=24), ActiveCell(col=31, row=24), ActiveCell(col=32, row=24), ActiveCell(col=33, row=24), ActiveCell(col=34, row=24), ActiveCell(col=35, row=24), ActiveCell(col=36, row=24), ActiveCell(col=37, row=24), ActiveCell(col=38, row=24), ActiveCell(col=39, row=24), ActiveCell(col=40, row=24), ActiveCell(col=41, row=24), ActiveCell(col=42, row=24), ActiveCell(col=43, row=24), ActiveCell(col=44, row=24), ActiveCell(col=45, row=24), ActiveCell(col=46, row=24), ActiveCell(col=47, row=24), ActiveCell(col=48, row=24), ActiveCell(col=49, row=24), ActiveCell(col=50, row=24), ActiveCell(col=51, row=24), ActiveCell(col=52, row=24), ActiveCell(col=53, row=24), ActiveCell(col=54, row=24), ActiveCell(col=55, row=24), ActiveCell(col=56, row=24), ActiveCell(col=57, row=24), ActiveCell(col=58, row=24), ActiveCell(col=59, row=24), ActiveCell(col=60, row=24), ActiveCell(col=61, row=24), ActiveCell(col=62, row=24), ActiveCell(col=63, row=24), ActiveCell(col=64, row=24), ActiveCell(col=65, row=24), ActiveCell(col=66, row=24), ActiveCell(col=67, row=24), ActiveCell(col=68, row=24), ActiveCell(col=69, row=24), ActiveCell(col=70, row=24), ActiveCell(col=71, row=24), ActiveCell(col=72, row=24), ActiveCell(col=73, row=24), ActiveCell(col=74, row=24), ActiveCell(col=75, row=24), ActiveCell(col=76, row=24), ActiveCell(col=77, row=24), ActiveCell(col=78, row=24), ActiveCell(col=79, row=24), ActiveCell(col=80, row=24), ActiveCell(col=81, row=24), ActiveCell(col=82, row=24), ActiveCell(col=83, row=24), ActiveCell(col=84, row=24), ActiveCell(col=85, row=24), ActiveCell(col=86, row=24), ActiveCell(col=87, row=24), ActiveCell(col=88, row=24), ActiveCell(col=89, row=24), ActiveCell(col=90, row=24), ActiveCell(col=91, row=24), ActiveCell(col=92, row=24), ActiveCell(col=93, row=24), ActiveCell(col=94, row=24), ActiveCell(col=95, row=24), ActiveCell(col=96, row=24), ActiveCell(col=97, row=24), ActiveCell(col=5, row=25), ActiveCell(col=6, row=25), ActiveCell(col=7, row=25), ActiveCell(col=8, row=25), ActiveCell(col=9, row=25), ActiveCell(col=10, row=25), ActiveCell(col=11, row=25), ActiveCell(col=12, row=25), ActiveCell(col=13, row=25), ActiveCell(col=14, row=25), ActiveCell(col=15, row=25), ActiveCell(col=16, row=25), ActiveCell(col=17, row=25), ActiveCell(col=18, row=25), ActiveCell(col=19, row=25), ActiveCell(col=20, row=25), ActiveCell(col=21, row=25), ActiveCell(col=22, row=25), ActiveCell(col=23, row=25), ActiveCell(col=24, row=25), ActiveCell(col=25, row=25), ActiveCell(col=26, row=25), ActiveCell(col=27, row=25), ActiveCell(col=28, row=25), ActiveCell(col=29, row=25), ActiveCell(col=30, row=25), ActiveCell(col=31, row=25), ActiveCell(col=32, row=25), ActiveCell(col=33, row=25), ActiveCell(col=34, row=25), ActiveCell(col=35, row=25), ActiveCell(col=36, row=25), ActiveCell(col=37, row=25), ActiveCell(col=38, row=25), ActiveCell(col=39, row=25), ActiveCell(col=40, row=25), ActiveCell(col=41, row=25), ActiveCell(col=42, row=25), ActiveCell(col=43, row=25), ActiveCell(col=44, row=25), ActiveCell(col=45, row=25), ActiveCell(col=46, row=25), ActiveCell(col=47, row=25), ActiveCell(col=48, row=25), ActiveCell(col=49, row=25), ActiveCell(col=50, row=25), ActiveCell(col=51, row=25), ActiveCell(col=52, row=25), ActiveCell(col=53, row=25), ActiveCell(col=54, row=25), ActiveCell(col=55, row=25), ActiveCell(col=56, row=25), ActiveCell(col=57, row=25), ActiveCell(col=58, row=25), ActiveCell(col=59, row=25), ActiveCell(col=60, row=25), ActiveCell(col=61, row=25), ActiveCell(col=62, row=25), ActiveCell(col=63, row=25), ActiveCell(col=64, row=25), ActiveCell(col=65, row=25), ActiveCell(col=66, row=25), ActiveCell(col=67, row=25), ActiveCell(col=68, row=25), ActiveCell(col=69, row=25), ActiveCell(col=70, row=25), ActiveCell(col=71, row=25), ActiveCell(col=72, row=25), ActiveCell(col=73, row=25), ActiveCell(col=74, row=25), ActiveCell(col=75, row=25), ActiveCell(col=76, row=25), ActiveCell(col=77, row=25), ActiveCell(col=78, row=25), ActiveCell(col=79, row=25), ActiveCell(col=80, row=25), ActiveCell(col=81, row=25), ActiveCell(col=82, row=25), ActiveCell(col=83, row=25), ActiveCell(col=84, row=25), ActiveCell(col=85, row=25), ActiveCell(col=86, row=25), ActiveCell(col=87, row=25), ActiveCell(col=88, row=25), ActiveCell(col=89, row=25), ActiveCell(col=90, row=25), ActiveCell(col=91, row=25), ActiveCell(col=92, row=25), ActiveCell(col=93, row=25), ActiveCell(col=94, row=25), ActiveCell(col=95, row=25), ActiveCell(col=96, row=25), ActiveCell(col=97, row=25), ActiveCell(col=5, row=26), ActiveCell(col=6, row=26), ActiveCell(col=7, row=26), ActiveCell(col=8, row=26), ActiveCell(col=9, row=26), ActiveCell(col=10, row=26), ActiveCell(col=11, row=26), ActiveCell(col=12, row=26), ActiveCell(col=13, row=26), ActiveCell(col=14, row=26), ActiveCell(col=15, row=26), ActiveCell(col=16, row=26), ActiveCell(col=17, row=26), ActiveCell(col=18, row=26), ActiveCell(col=19, row=26), ActiveCell(col=20, row=26), ActiveCell(col=21, row=26), ActiveCell(col=22, row=26), ActiveCell(col=23, row=26), ActiveCell(col=24, row=26), ActiveCell(col=25, row=26), ActiveCell(col=26, row=26), ActiveCell(col=27, row=26), ActiveCell(col=28, row=26), ActiveCell(col=29, row=26), ActiveCell(col=30, row=26), ActiveCell(col=31, row=26), ActiveCell(col=32, row=26), ActiveCell(col=33, row=26), ActiveCell(col=34, row=26), ActiveCell(col=35, row=26), ActiveCell(col=36, row=26), ActiveCell(col=37, row=26), ActiveCell(col=38, row=26), ActiveCell(col=39, row=26), ActiveCell(col=40, row=26), ActiveCell(col=41, row=26), ActiveCell(col=42, row=26), ActiveCell(col=43, row=26), ActiveCell(col=44, row=26), ActiveCell(col=45, row=26), ActiveCell(col=46, row=26), ActiveCell(col=47, row=26), ActiveCell(col=48, row=26), ActiveCell(col=49, row=26), ActiveCell(col=50, row=26), ActiveCell(col=51, row=26), ActiveCell(col=52, row=26), ActiveCell(col=53, row=26), ActiveCell(col=54, row=26), ActiveCell(col=55, row=26), ActiveCell(col=56, row=26), ActiveCell(col=57, row=26), ActiveCell(col=58, row=26), ActiveCell(col=59, row=26), ActiveCell(col=60, row=26), ActiveCell(col=61, row=26), ActiveCell(col=62, row=26), ActiveCell(col=63, row=26), ActiveCell(col=64, row=26), ActiveCell(col=65, row=26), ActiveCell(col=66, row=26), ActiveCell(col=67, row=26), ActiveCell(col=68, row=26), ActiveCell(col=69, row=26), ActiveCell(col=70, row=26), ActiveCell(col=71, row=26), ActiveCell(col=72, row=26), ActiveCell(col=73, row=26), ActiveCell(col=74, row=26), ActiveCell(col=75, row=26), ActiveCell(col=76, row=26), ActiveCell(col=77, row=26), ActiveCell(col=78, row=26), ActiveCell(col=79, row=26), ActiveCell(col=80, row=26), ActiveCell(col=81, row=26), ActiveCell(col=82, row=26), ActiveCell(col=83, row=26), ActiveCell(col=84, row=26), ActiveCell(col=85, row=26), ActiveCell(col=86, row=26), ActiveCell(col=87, row=26), ActiveCell(col=88, row=26), ActiveCell(col=89, row=26), ActiveCell(col=90, row=26), ActiveCell(col=91, row=26), ActiveCell(col=92, row=26), ActiveCell(col=93, row=26), ActiveCell(col=94, row=26), ActiveCell(col=95, row=26), ActiveCell(col=96, row=26), ActiveCell(col=97, row=26), ActiveCell(col=5, row=27), ActiveCell(col=6, row=27), ActiveCell(col=7, row=27), ActiveCell(col=8, row=27), ActiveCell(col=9, row=27), ActiveCell(col=10, row=27), ActiveCell(col=11, row=27), ActiveCell(col=12, row=27), ActiveCell(col=13, row=27), ActiveCell(col=14, row=27), ActiveCell(col=15, row=27), ActiveCell(col=16, row=27), ActiveCell(col=17, row=27), ActiveCell(col=18, row=27), ActiveCell(col=19, row=27), ActiveCell(col=20, row=27), ActiveCell(col=21, row=27), ActiveCell(col=22, row=27), ActiveCell(col=23, row=27), ActiveCell(col=24, row=27), ActiveCell(col=25, row=27), ActiveCell(col=26, row=27), ActiveCell(col=27, row=27), ActiveCell(col=28, row=27), ActiveCell(col=29, row=27), ActiveCell(col=30, row=27), ActiveCell(col=31, row=27), ActiveCell(col=32, row=27), ActiveCell(col=33, row=27), ActiveCell(col=34, row=27), ActiveCell(col=35, row=27), ActiveCell(col=36, row=27), ActiveCell(col=37, row=27), ActiveCell(col=38, row=27), ActiveCell(col=39, row=27), ActiveCell(col=40, row=27), ActiveCell(col=41, row=27), ActiveCell(col=42, row=27), ActiveCell(col=43, row=27), ActiveCell(col=44, row=27), ActiveCell(col=45, row=27), ActiveCell(col=46, row=27), ActiveCell(col=47, row=27), ActiveCell(col=48, row=27), ActiveCell(col=49, row=27), ActiveCell(col=50, row=27), ActiveCell(col=51, row=27), ActiveCell(col=52, row=27), ActiveCell(col=53, row=27), ActiveCell(col=54, row=27), ActiveCell(col=55, row=27), ActiveCell(col=56, row=27), ActiveCell(col=57, row=27), ActiveCell(col=58, row=27), ActiveCell(col=59, row=27), ActiveCell(col=60, row=27), ActiveCell(col=61, row=27), ActiveCell(col=62, row=27), ActiveCell(col=63, row=27), ActiveCell(col=64, row=27), ActiveCell(col=65, row=27), ActiveCell(col=66, row=27), ActiveCell(col=67, row=27), ActiveCell(col=68, row=27), ActiveCell(col=69, row=27), ActiveCell(col=70, row=27), ActiveCell(col=71, row=27), ActiveCell(col=72, row=27), ActiveCell(col=73, row=27), ActiveCell(col=74, row=27), ActiveCell(col=75, row=27), ActiveCell(col=76, row=27), ActiveCell(col=77, row=27), ActiveCell(col=78, row=27), ActiveCell(col=79, row=27), ActiveCell(col=80, row=27), ActiveCell(col=81, row=27), ActiveCell(col=82, row=27), ActiveCell(col=83, row=27), ActiveCell(col=84, row=27), ActiveCell(col=85, row=27), ActiveCell(col=86, row=27), ActiveCell(col=87, row=27), ActiveCell(col=88, row=27), ActiveCell(col=89, row=27), ActiveCell(col=90, row=27), ActiveCell(col=91, row=27), ActiveCell(col=92, row=27), ActiveCell(col=93, row=27), ActiveCell(col=94, row=27), ActiveCell(col=95, row=27), ActiveCell(col=96, row=27), ActiveCell(col=97, row=27), ActiveCell(col=98, row=27), ActiveCell(col=5, row=28), ActiveCell(col=6, row=28), ActiveCell(col=7, row=28), ActiveCell(col=8, row=28), ActiveCell(col=9, row=28), ActiveCell(col=10, row=28), ActiveCell(col=11, row=28), ActiveCell(col=12, row=28), ActiveCell(col=13, row=28), ActiveCell(col=14, row=28), ActiveCell(col=15, row=28), ActiveCell(col=16, row=28), ActiveCell(col=17, row=28), ActiveCell(col=18, row=28), ActiveCell(col=19, row=28), ActiveCell(col=20, row=28), ActiveCell(col=21, row=28), ActiveCell(col=22, row=28), ActiveCell(col=23, row=28), ActiveCell(col=24, row=28), ActiveCell(col=25, row=28), ActiveCell(col=26, row=28), ActiveCell(col=27, row=28), ActiveCell(col=28, row=28), ActiveCell(col=29, row=28), ActiveCell(col=30, row=28), ActiveCell(col=31, row=28), ActiveCell(col=32, row=28), ActiveCell(col=33, row=28), ActiveCell(col=34, row=28), ActiveCell(col=35, row=28), ActiveCell(col=36, row=28), ActiveCell(col=37, row=28), ActiveCell(col=38, row=28), ActiveCell(col=39, row=28), ActiveCell(col=40, row=28), ActiveCell(col=41, row=28), ActiveCell(col=42, row=28), ActiveCell(col=43, row=28), ActiveCell(col=44, row=28), ActiveCell(col=45, row=28), ActiveCell(col=46, row=28), ActiveCell(col=47, row=28), ActiveCell(col=48, row=28), ActiveCell(col=49, row=28), ActiveCell(col=50, row=28), ActiveCell(col=51, row=28), ActiveCell(col=52, row=28), ActiveCell(col=53, row=28), ActiveCell(col=54, row=28), ActiveCell(col=55, row=28), ActiveCell(col=56, row=28), ActiveCell(col=57, row=28), ActiveCell(col=58, row=28), ActiveCell(col=59, row=28), ActiveCell(col=60, row=28), ActiveCell(col=61, row=28), ActiveCell(col=62, row=28), ActiveCell(col=63, row=28), ActiveCell(col=64, row=28), ActiveCell(col=65, row=28), ActiveCell(col=66, row=28), ActiveCell(col=67, row=28), ActiveCell(col=68, row=28), ActiveCell(col=69, row=28), ActiveCell(col=70, row=28), ActiveCell(col=71, row=28), ActiveCell(col=72, row=28), ActiveCell(col=73, row=28), ActiveCell(col=74, row=28), ActiveCell(col=75, row=28), ActiveCell(col=76, row=28), ActiveCell(col=77, row=28), ActiveCell(col=78, row=28), ActiveCell(col=79, row=28), ActiveCell(col=80, row=28), ActiveCell(col=81, row=28), ActiveCell(col=82, row=28), ActiveCell(col=83, row=28), ActiveCell(col=84, row=28), ActiveCell(col=85, row=28), ActiveCell(col=86, row=28), ActiveCell(col=87, row=28), ActiveCell(col=88, row=28), ActiveCell(col=89, row=28), ActiveCell(col=90, row=28), ActiveCell(col=91, row=28), ActiveCell(col=92, row=28), ActiveCell(col=93, row=28), ActiveCell(col=94, row=28), ActiveCell(col=95, row=28), ActiveCell(col=96, row=28), ActiveCell(col=97, row=28), ActiveCell(col=98, row=28), ActiveCell(col=6, row=29), ActiveCell(col=7, row=29), ActiveCell(col=8, row=29), ActiveCell(col=9, row=29), ActiveCell(col=10, row=29), ActiveCell(col=11, row=29), ActiveCell(col=12, row=29), ActiveCell(col=13, row=29), ActiveCell(col=14, row=29), ActiveCell(col=15, row=29), ActiveCell(col=16, row=29), ActiveCell(col=17, row=29), ActiveCell(col=18, row=29), ActiveCell(col=19, row=29), ActiveCell(col=20, row=29), ActiveCell(col=21, row=29), ActiveCell(col=22, row=29), ActiveCell(col=23, row=29), ActiveCell(col=24, row=29), ActiveCell(col=25, row=29), ActiveCell(col=26, row=29), ActiveCell(col=27, row=29), ActiveCell(col=28, row=29), ActiveCell(col=29, row=29), ActiveCell(col=30, row=29), ActiveCell(col=31, row=29), ActiveCell(col=32, row=29), ActiveCell(col=33, row=29), ActiveCell(col=34, row=29), ActiveCell(col=35, row=29), ActiveCell(col=36, row=29), ActiveCell(col=37, row=29), ActiveCell(col=38, row=29), ActiveCell(col=39, row=29), ActiveCell(col=40, row=29), ActiveCell(col=41, row=29), ActiveCell(col=42, row=29), ActiveCell(col=43, row=29), ActiveCell(col=44, row=29), ActiveCell(col=45, row=29), ActiveCell(col=46, row=29), ActiveCell(col=47, row=29), ActiveCell(col=48, row=29), ActiveCell(col=49, row=29), ActiveCell(col=50, row=29), ActiveCell(col=51, row=29), ActiveCell(col=52, row=29), ActiveCell(col=53, row=29), ActiveCell(col=54, row=29), ActiveCell(col=55, row=29), ActiveCell(col=56, row=29), ActiveCell(col=57, row=29), ActiveCell(col=58, row=29), ActiveCell(col=59, row=29), ActiveCell(col=60, row=29), ActiveCell(col=61, row=29), ActiveCell(col=62, row=29), ActiveCell(col=63, row=29), ActiveCell(col=64, row=29), ActiveCell(col=65, row=29), ActiveCell(col=66, row=29), ActiveCell(col=67, row=29), ActiveCell(col=68, row=29), ActiveCell(col=69, row=29), ActiveCell(col=70, row=29), ActiveCell(col=71, row=29), ActiveCell(col=72, row=29), ActiveCell(col=73, row=29), ActiveCell(col=74, row=29), ActiveCell(col=75, row=29), ActiveCell(col=76, row=29), ActiveCell(col=77, row=29), ActiveCell(col=78, row=29), ActiveCell(col=79, row=29), ActiveCell(col=80, row=29), ActiveCell(col=81, row=29), ActiveCell(col=82, row=29), ActiveCell(col=83, row=29), ActiveCell(col=84, row=29), ActiveCell(col=85, row=29), ActiveCell(col=86, row=29), ActiveCell(col=87, row=29), ActiveCell(col=88, row=29), ActiveCell(col=89, row=29), ActiveCell(col=90, row=29), ActiveCell(col=91, row=29), ActiveCell(col=92, row=29), ActiveCell(col=93, row=29), ActiveCell(col=94, row=29), ActiveCell(col=95, row=29), ActiveCell(col=96, row=29), ActiveCell(col=97, row=29), ActiveCell(col=98, row=29), ActiveCell(col=6, row=30), ActiveCell(col=7, row=30), ActiveCell(col=8, row=30), ActiveCell(col=9, row=30), ActiveCell(col=10, row=30), ActiveCell(col=11, row=30), ActiveCell(col=12, row=30), ActiveCell(col=13, row=30), ActiveCell(col=14, row=30), ActiveCell(col=15, row=30), ActiveCell(col=16, row=30), ActiveCell(col=17, row=30), ActiveCell(col=18, row=30), ActiveCell(col=19, row=30), ActiveCell(col=20, row=30), ActiveCell(col=21, row=30), ActiveCell(col=22, row=30), ActiveCell(col=23, row=30), ActiveCell(col=24, row=30), ActiveCell(col=25, row=30), ActiveCell(col=26, row=30), ActiveCell(col=27, row=30), ActiveCell(col=28, row=30), ActiveCell(col=29, row=30), ActiveCell(col=30, row=30), ActiveCell(col=31, row=30), ActiveCell(col=32, row=30), ActiveCell(col=33, row=30), ActiveCell(col=34, row=30), ActiveCell(col=35, row=30), ActiveCell(col=36, row=30), ActiveCell(col=37, row=30), ActiveCell(col=38, row=30), ActiveCell(col=39, row=30), ActiveCell(col=40, row=30), ActiveCell(col=41, row=30), ActiveCell(col=42, row=30), ActiveCell(col=43, row=30), ActiveCell(col=44, row=30), ActiveCell(col=45, row=30), ActiveCell(col=46, row=30), ActiveCell(col=47, row=30), ActiveCell(col=48, row=30), ActiveCell(col=49, row=30), ActiveCell(col=50, row=30), ActiveCell(col=51, row=30), ActiveCell(col=52, row=30), ActiveCell(col=53, row=30), ActiveCell(col=54, row=30), ActiveCell(col=55, row=30), ActiveCell(col=56, row=30), ActiveCell(col=57, row=30), ActiveCell(col=58, row=30), ActiveCell(col=59, row=30), ActiveCell(col=60, row=30), ActiveCell(col=61, row=30), ActiveCell(col=62, row=30), ActiveCell(col=63, row=30), ActiveCell(col=64, row=30), ActiveCell(col=65, row=30), ActiveCell(col=66, row=30), ActiveCell(col=67, row=30), ActiveCell(col=68, row=30), ActiveCell(col=69, row=30), ActiveCell(col=70, row=30), ActiveCell(col=71, row=30), ActiveCell(col=72, row=30), ActiveCell(col=73, row=30), ActiveCell(col=74, row=30), ActiveCell(col=75, row=30), ActiveCell(col=76, row=30), ActiveCell(col=77, row=30), ActiveCell(col=78, row=30), ActiveCell(col=79, row=30), ActiveCell(col=80, row=30), ActiveCell(col=81, row=30), ActiveCell(col=82, row=30), ActiveCell(col=83, row=30), ActiveCell(col=84, row=30), ActiveCell(col=85, row=30), ActiveCell(col=86, row=30), ActiveCell(col=87, row=30), ActiveCell(col=88, row=30), ActiveCell(col=89, row=30), ActiveCell(col=90, row=30), ActiveCell(col=91, row=30), ActiveCell(col=92, row=30), ActiveCell(col=93, row=30), ActiveCell(col=94, row=30), ActiveCell(col=95, row=30), ActiveCell(col=96, row=30), ActiveCell(col=97, row=30), ActiveCell(col=98, row=30), ActiveCell(col=6, row=31), ActiveCell(col=7, row=31), ActiveCell(col=8, row=31), ActiveCell(col=9, row=31), ActiveCell(col=10, row=31), ActiveCell(col=11, row=31), ActiveCell(col=12, row=31), ActiveCell(col=13, row=31), ActiveCell(col=14, row=31), ActiveCell(col=15, row=31), ActiveCell(col=16, row=31), ActiveCell(col=17, row=31), ActiveCell(col=18, row=31), ActiveCell(col=19, row=31), ActiveCell(col=20, row=31), ActiveCell(col=21, row=31), ActiveCell(col=22, row=31), ActiveCell(col=23, row=31), ActiveCell(col=24, row=31), ActiveCell(col=25, row=31), ActiveCell(col=26, row=31), ActiveCell(col=27, row=31), ActiveCell(col=28, row=31), ActiveCell(col=29, row=31), ActiveCell(col=30, row=31), ActiveCell(col=31, row=31), ActiveCell(col=32, row=31), ActiveCell(col=33, row=31), ActiveCell(col=34, row=31), ActiveCell(col=35, row=31), ActiveCell(col=36, row=31), ActiveCell(col=37, row=31), ActiveCell(col=38, row=31), ActiveCell(col=39, row=31), ActiveCell(col=40, row=31), ActiveCell(col=41, row=31), ActiveCell(col=42, row=31), ActiveCell(col=43, row=31), ActiveCell(col=44, row=31), ActiveCell(col=45, row=31), ActiveCell(col=46, row=31), ActiveCell(col=47, row=31), ActiveCell(col=48, row=31), ActiveCell(col=49, row=31), ActiveCell(col=50, row=31), ActiveCell(col=51, row=31), ActiveCell(col=52, row=31), ActiveCell(col=53, row=31), ActiveCell(col=54, row=31), ActiveCell(col=55, row=31), ActiveCell(col=56, row=31), ActiveCell(col=57, row=31), ActiveCell(col=58, row=31), ActiveCell(col=59, row=31), ActiveCell(col=60, row=31), ActiveCell(col=61, row=31), ActiveCell(col=62, row=31), ActiveCell(col=63, row=31), ActiveCell(col=64, row=31), ActiveCell(col=65, row=31), ActiveCell(col=66, row=31), ActiveCell(col=67, row=31), ActiveCell(col=68, row=31), ActiveCell(col=69, row=31), ActiveCell(col=70, row=31), ActiveCell(col=71, row=31), ActiveCell(col=72, row=31), ActiveCell(col=73, row=31), ActiveCell(col=74, row=31), ActiveCell(col=75, row=31), ActiveCell(col=76, row=31), ActiveCell(col=77, row=31), ActiveCell(col=78, row=31), ActiveCell(col=79, row=31), ActiveCell(col=80, row=31), ActiveCell(col=81, row=31), ActiveCell(col=82, row=31), ActiveCell(col=83, row=31), ActiveCell(col=84, row=31), ActiveCell(col=85, row=31), ActiveCell(col=86, row=31), ActiveCell(col=87, row=31), ActiveCell(col=88, row=31), ActiveCell(col=89, row=31), ActiveCell(col=90, row=31), ActiveCell(col=91, row=31), ActiveCell(col=92, row=31), ActiveCell(col=93, row=31), ActiveCell(col=94, row=31), ActiveCell(col=95, row=31), ActiveCell(col=96, row=31), ActiveCell(col=97, row=31), ActiveCell(col=98, row=31), ActiveCell(col=6, row=32), ActiveCell(col=7, row=32), ActiveCell(col=8, row=32), ActiveCell(col=9, row=32), ActiveCell(col=10, row=32), ActiveCell(col=11, row=32), ActiveCell(col=12, row=32), ActiveCell(col=13, row=32), ActiveCell(col=14, row=32), ActiveCell(col=15, row=32), ActiveCell(col=16, row=32), ActiveCell(col=17, row=32), ActiveCell(col=18, row=32), ActiveCell(col=19, row=32), ActiveCell(col=20, row=32), ActiveCell(col=21, row=32), ActiveCell(col=22, row=32), ActiveCell(col=23, row=32), ActiveCell(col=24, row=32), ActiveCell(col=25, row=32), ActiveCell(col=26, row=32), ActiveCell(col=27, row=32), ActiveCell(col=28, row=32), ActiveCell(col=29, row=32), ActiveCell(col=30, row=32), ActiveCell(col=31, row=32), ActiveCell(col=32, row=32), ActiveCell(col=33, row=32), ActiveCell(col=34, row=32), ActiveCell(col=35, row=32), ActiveCell(col=36, row=32), ActiveCell(col=37, row=32), ActiveCell(col=38, row=32), ActiveCell(col=39, row=32), ActiveCell(col=40, row=32), ActiveCell(col=41, row=32), ActiveCell(col=42, row=32), ActiveCell(col=43, row=32), ActiveCell(col=44, row=32), ActiveCell(col=45, row=32), ActiveCell(col=46, row=32), ActiveCell(col=47, row=32), ActiveCell(col=48, row=32), ActiveCell(col=49, row=32), ActiveCell(col=50, row=32), ActiveCell(col=51, row=32), ActiveCell(col=52, row=32), ActiveCell(col=53, row=32), ActiveCell(col=54, row=32), ActiveCell(col=55, row=32), ActiveCell(col=56, row=32), ActiveCell(col=57, row=32), ActiveCell(col=58, row=32), ActiveCell(col=59, row=32), ActiveCell(col=60, row=32), ActiveCell(col=61, row=32), ActiveCell(col=62, row=32), ActiveCell(col=63, row=32), ActiveCell(col=64, row=32), ActiveCell(col=65, row=32), ActiveCell(col=66, row=32), ActiveCell(col=67, row=32), ActiveCell(col=68, row=32), ActiveCell(col=69, row=32), ActiveCell(col=70, row=32), ActiveCell(col=71, row=32), ActiveCell(col=72, row=32), ActiveCell(col=73, row=32), ActiveCell(col=74, row=32), ActiveCell(col=75, row=32), ActiveCell(col=76, row=32), ActiveCell(col=77, row=32), ActiveCell(col=78, row=32), ActiveCell(col=79, row=32), ActiveCell(col=80, row=32), ActiveCell(col=81, row=32), ActiveCell(col=82, row=32), ActiveCell(col=83, row=32), ActiveCell(col=84, row=32), ActiveCell(col=85, row=32), ActiveCell(col=86, row=32), ActiveCell(col=87, row=32), ActiveCell(col=88, row=32), ActiveCell(col=89, row=32), ActiveCell(col=90, row=32), ActiveCell(col=91, row=32), ActiveCell(col=92, row=32), ActiveCell(col=93, row=32), ActiveCell(col=94, row=32), ActiveCell(col=95, row=32), ActiveCell(col=96, row=32), ActiveCell(col=97, row=32), ActiveCell(col=98, row=32), ActiveCell(col=99, row=32), ActiveCell(col=6, row=33), ActiveCell(col=7, row=33), ActiveCell(col=8, row=33), ActiveCell(col=9, row=33), ActiveCell(col=10, row=33), ActiveCell(col=11, row=33), ActiveCell(col=12, row=33), ActiveCell(col=13, row=33), ActiveCell(col=14, row=33), ActiveCell(col=15, row=33), ActiveCell(col=16, row=33), ActiveCell(col=17, row=33), ActiveCell(col=18, row=33), ActiveCell(col=19, row=33), ActiveCell(col=20, row=33), ActiveCell(col=21, row=33), ActiveCell(col=22, row=33), ActiveCell(col=23, row=33), ActiveCell(col=24, row=33), ActiveCell(col=25, row=33), ActiveCell(col=26, row=33), ActiveCell(col=27, row=33), ActiveCell(col=28, row=33), ActiveCell(col=29, row=33), ActiveCell(col=30, row=33), ActiveCell(col=31, row=33), ActiveCell(col=32, row=33), ActiveCell(col=33, row=33), ActiveCell(col=34, row=33), ActiveCell(col=35, row=33), ActiveCell(col=36, row=33), ActiveCell(col=37, row=33), ActiveCell(col=38, row=33), ActiveCell(col=39, row=33), ActiveCell(col=40, row=33), ActiveCell(col=41, row=33), ActiveCell(col=42, row=33), ActiveCell(col=43, row=33), ActiveCell(col=44, row=33), ActiveCell(col=45, row=33), ActiveCell(col=46, row=33), ActiveCell(col=47, row=33), ActiveCell(col=48, row=33), ActiveCell(col=49, row=33), ActiveCell(col=50, row=33), ActiveCell(col=51, row=33), ActiveCell(col=52, row=33), ActiveCell(col=53, row=33), ActiveCell(col=54, row=33), ActiveCell(col=55, row=33), ActiveCell(col=56, row=33), ActiveCell(col=57, row=33), ActiveCell(col=58, row=33), ActiveCell(col=59, row=33), ActiveCell(col=60, row=33), ActiveCell(col=61, row=33), ActiveCell(col=62, row=33), ActiveCell(col=63, row=33), ActiveCell(col=64, row=33), ActiveCell(col=65, row=33), ActiveCell(col=66, row=33), ActiveCell(col=67, row=33), ActiveCell(col=68, row=33), ActiveCell(col=69, row=33), ActiveCell(col=70, row=33), ActiveCell(col=71, row=33), ActiveCell(col=72, row=33), ActiveCell(col=73, row=33), ActiveCell(col=74, row=33), ActiveCell(col=75, row=33), ActiveCell(col=76, row=33), ActiveCell(col=77, row=33), ActiveCell(col=78, row=33), ActiveCell(col=79, row=33), ActiveCell(col=80, row=33), ActiveCell(col=81, row=33), ActiveCell(col=82, row=33), ActiveCell(col=83, row=33), ActiveCell(col=84, row=33), ActiveCell(col=85, row=33), ActiveCell(col=86, row=33), ActiveCell(col=87, row=33), ActiveCell(col=88, row=33), ActiveCell(col=89, row=33), ActiveCell(col=90, row=33), ActiveCell(col=91, row=33), ActiveCell(col=92, row=33), ActiveCell(col=93, row=33), ActiveCell(col=94, row=33), ActiveCell(col=95, row=33), ActiveCell(col=96, row=33), ActiveCell(col=97, row=33), ActiveCell(col=98, row=33), ActiveCell(col=99, row=33), ActiveCell(col=7, row=34), ActiveCell(col=8, row=34), ActiveCell(col=9, row=34), ActiveCell(col=10, row=34), ActiveCell(col=11, row=34), ActiveCell(col=12, row=34), ActiveCell(col=13, row=34), ActiveCell(col=14, row=34), ActiveCell(col=15, row=34), ActiveCell(col=16, row=34), ActiveCell(col=17, row=34), ActiveCell(col=18, row=34), ActiveCell(col=19, row=34), ActiveCell(col=20, row=34), ActiveCell(col=21, row=34), ActiveCell(col=22, row=34), ActiveCell(col=23, row=34), ActiveCell(col=24, row=34), ActiveCell(col=25, row=34), ActiveCell(col=26, row=34), ActiveCell(col=27, row=34), ActiveCell(col=28, row=34), ActiveCell(col=29, row=34), ActiveCell(col=30, row=34), ActiveCell(col=31, row=34), ActiveCell(col=32, row=34), ActiveCell(col=33, row=34), ActiveCell(col=34, row=34), ActiveCell(col=35, row=34), ActiveCell(col=36, row=34), ActiveCell(col=37, row=34), ActiveCell(col=38, row=34), ActiveCell(col=39, row=34), ActiveCell(col=40, row=34), ActiveCell(col=41, row=34), ActiveCell(col=42, row=34), ActiveCell(col=43, row=34), ActiveCell(col=44, row=34), ActiveCell(col=45, row=34), ActiveCell(col=46, row=34), ActiveCell(col=47, row=34), ActiveCell(col=48, row=34), ActiveCell(col=49, row=34), ActiveCell(col=50, row=34), ActiveCell(col=51, row=34), ActiveCell(col=52, row=34), ActiveCell(col=53, row=34), ActiveCell(col=54, row=34), ActiveCell(col=55, row=34), ActiveCell(col=56, row=34), ActiveCell(col=57, row=34), ActiveCell(col=58, row=34), ActiveCell(col=59, row=34), ActiveCell(col=60, row=34), ActiveCell(col=61, row=34), ActiveCell(col=62, row=34), ActiveCell(col=63, row=34), ActiveCell(col=64, row=34), ActiveCell(col=65, row=34), ActiveCell(col=66, row=34), ActiveCell(col=67, row=34), ActiveCell(col=68, row=34), ActiveCell(col=69, row=34), ActiveCell(col=70, row=34), ActiveCell(col=71, row=34), ActiveCell(col=72, row=34), ActiveCell(col=73, row=34), ActiveCell(col=74, row=34), ActiveCell(col=75, row=34), ActiveCell(col=76, row=34), ActiveCell(col=77, row=34), ActiveCell(col=78, row=34), ActiveCell(col=79, row=34), ActiveCell(col=80, row=34), ActiveCell(col=81, row=34), ActiveCell(col=82, row=34), ActiveCell(col=83, row=34), ActiveCell(col=84, row=34), ActiveCell(col=85, row=34), ActiveCell(col=86, row=34), ActiveCell(col=87, row=34), ActiveCell(col=88, row=34), ActiveCell(col=89, row=34), ActiveCell(col=90, row=34), ActiveCell(col=91, row=34), ActiveCell(col=92, row=34), ActiveCell(col=93, row=34), ActiveCell(col=94, row=34), ActiveCell(col=95, row=34), ActiveCell(col=7, row=35), ActiveCell(col=8, row=35), ActiveCell(col=9, row=35), ActiveCell(col=10, row=35), ActiveCell(col=11, row=35), ActiveCell(col=12, row=35), ActiveCell(col=13, row=35), ActiveCell(col=14, row=35), ActiveCell(col=15, row=35), ActiveCell(col=16, row=35), ActiveCell(col=17, row=35), ActiveCell(col=18, row=35), ActiveCell(col=19, row=35), ActiveCell(col=20, row=35), ActiveCell(col=21, row=35), ActiveCell(col=22, row=35), ActiveCell(col=23, row=35), ActiveCell(col=24, row=35), ActiveCell(col=25, row=35), ActiveCell(col=26, row=35), ActiveCell(col=27, row=35), ActiveCell(col=28, row=35), ActiveCell(col=29, row=35), ActiveCell(col=30, row=35), ActiveCell(col=31, row=35), ActiveCell(col=32, row=35), ActiveCell(col=33, row=35), ActiveCell(col=34, row=35), ActiveCell(col=35, row=35), ActiveCell(col=36, row=35), ActiveCell(col=37, row=35), ActiveCell(col=38, row=35), ActiveCell(col=39, row=35), ActiveCell(col=40, row=35), ActiveCell(col=41, row=35), ActiveCell(col=42, row=35), ActiveCell(col=43, row=35), ActiveCell(col=44, row=35), ActiveCell(col=45, row=35), ActiveCell(col=46, row=35), ActiveCell(col=47, row=35), ActiveCell(col=48, row=35), ActiveCell(col=49, row=35), ActiveCell(col=50, row=35), ActiveCell(col=51, row=35), ActiveCell(col=52, row=35), ActiveCell(col=53, row=35), ActiveCell(col=54, row=35), ActiveCell(col=55, row=35), ActiveCell(col=56, row=35), ActiveCell(col=57, row=35), ActiveCell(col=58, row=35), ActiveCell(col=59, row=35), ActiveCell(col=60, row=35), ActiveCell(col=61, row=35), ActiveCell(col=62, row=35), ActiveCell(col=63, row=35), ActiveCell(col=64, row=35), ActiveCell(col=65, row=35), ActiveCell(col=66, row=35), ActiveCell(col=67, row=35), ActiveCell(col=68, row=35), ActiveCell(col=69, row=35), ActiveCell(col=70, row=35), ActiveCell(col=71, row=35), ActiveCell(col=72, row=35), ActiveCell(col=73, row=35), ActiveCell(col=74, row=35), ActiveCell(col=75, row=35), ActiveCell(col=76, row=35), ActiveCell(col=77, row=35), ActiveCell(col=78, row=35), ActiveCell(col=79, row=35), ActiveCell(col=80, row=35), ActiveCell(col=81, row=35), ActiveCell(col=82, row=35), ActiveCell(col=83, row=35), ActiveCell(col=84, row=35), ActiveCell(col=85, row=35), ActiveCell(col=86, row=35), ActiveCell(col=87, row=35), ActiveCell(col=88, row=35), ActiveCell(col=89, row=35), ActiveCell(col=90, row=35), ActiveCell(col=7, row=36), ActiveCell(col=8, row=36), ActiveCell(col=9, row=36), ActiveCell(col=10, row=36), ActiveCell(col=11, row=36), ActiveCell(col=12, row=36), ActiveCell(col=13, row=36), ActiveCell(col=14, row=36), ActiveCell(col=15, row=36), ActiveCell(col=16, row=36), ActiveCell(col=17, row=36), ActiveCell(col=18, row=36), ActiveCell(col=19, row=36), ActiveCell(col=20, row=36), ActiveCell(col=21, row=36), ActiveCell(col=22, row=36), ActiveCell(col=23, row=36), ActiveCell(col=24, row=36), ActiveCell(col=25, row=36), ActiveCell(col=26, row=36), ActiveCell(col=27, row=36), ActiveCell(col=28, row=36), ActiveCell(col=29, row=36), ActiveCell(col=30, row=36), ActiveCell(col=31, row=36), ActiveCell(col=32, row=36), ActiveCell(col=33, row=36), ActiveCell(col=34, row=36), ActiveCell(col=35, row=36), ActiveCell(col=36, row=36), ActiveCell(col=37, row=36), ActiveCell(col=38, row=36), ActiveCell(col=39, row=36), ActiveCell(col=40, row=36), ActiveCell(col=41, row=36), ActiveCell(col=42, row=36), ActiveCell(col=43, row=36), ActiveCell(col=44, row=36), ActiveCell(col=45, row=36), ActiveCell(col=46, row=36), ActiveCell(col=47, row=36), ActiveCell(col=48, row=36), ActiveCell(col=49, row=36), ActiveCell(col=50, row=36), ActiveCell(col=51, row=36), ActiveCell(col=52, row=36), ActiveCell(col=53, row=36), ActiveCell(col=54, row=36), ActiveCell(col=55, row=36), ActiveCell(col=56, row=36), ActiveCell(col=57, row=36), ActiveCell(col=58, row=36), ActiveCell(col=59, row=36), ActiveCell(col=60, row=36), ActiveCell(col=61, row=36), ActiveCell(col=62, row=36), ActiveCell(col=63, row=36), ActiveCell(col=64, row=36), ActiveCell(col=65, row=36), ActiveCell(col=66, row=36), ActiveCell(col=67, row=36), ActiveCell(col=68, row=36), ActiveCell(col=69, row=36), ActiveCell(col=70, row=36), ActiveCell(col=71, row=36), ActiveCell(col=72, row=36), ActiveCell(col=73, row=36), ActiveCell(col=74, row=36), ActiveCell(col=75, row=36), ActiveCell(col=76, row=36), ActiveCell(col=77, row=36), ActiveCell(col=78, row=36), ActiveCell(col=79, row=36), ActiveCell(col=80, row=36), ActiveCell(col=81, row=36), ActiveCell(col=82, row=36), ActiveCell(col=83, row=36), ActiveCell(col=84, row=36), ActiveCell(col=7, row=37), ActiveCell(col=8, row=37), ActiveCell(col=9, row=37), ActiveCell(col=10, row=37), ActiveCell(col=11, row=37), ActiveCell(col=12, row=37), ActiveCell(col=13, row=37), ActiveCell(col=14, row=37), ActiveCell(col=15, row=37), ActiveCell(col=16, row=37), ActiveCell(col=17, row=37), ActiveCell(col=18, row=37), ActiveCell(col=19, row=37), ActiveCell(col=20, row=37), ActiveCell(col=21, row=37), ActiveCell(col=22, row=37), ActiveCell(col=23, row=37), ActiveCell(col=24, row=37), ActiveCell(col=25, row=37), ActiveCell(col=26, row=37), ActiveCell(col=27, row=37), ActiveCell(col=28, row=37), ActiveCell(col=29, row=37), ActiveCell(col=30, row=37), ActiveCell(col=31, row=37), ActiveCell(col=32, row=37), ActiveCell(col=33, row=37), ActiveCell(col=34, row=37), ActiveCell(col=35, row=37), ActiveCell(col=36, row=37), ActiveCell(col=37, row=37), ActiveCell(col=38, row=37), ActiveCell(col=39, row=37), ActiveCell(col=40, row=37), ActiveCell(col=41, row=37), ActiveCell(col=42, row=37), ActiveCell(col=43, row=37), ActiveCell(col=44, row=37), ActiveCell(col=45, row=37), ActiveCell(col=46, row=37), ActiveCell(col=47, row=37), ActiveCell(col=48, row=37), ActiveCell(col=49, row=37), ActiveCell(col=50, row=37), ActiveCell(col=51, row=37), ActiveCell(col=52, row=37), ActiveCell(col=53, row=37), ActiveCell(col=54, row=37), ActiveCell(col=55, row=37), ActiveCell(col=56, row=37), ActiveCell(col=57, row=37), ActiveCell(col=58, row=37), ActiveCell(col=59, row=37), ActiveCell(col=60, row=37), ActiveCell(col=61, row=37), ActiveCell(col=62, row=37), ActiveCell(col=63, row=37), ActiveCell(col=64, row=37), ActiveCell(col=65, row=37), ActiveCell(col=66, row=37), ActiveCell(col=67, row=37), ActiveCell(col=68, row=37), ActiveCell(col=69, row=37), ActiveCell(col=70, row=37), ActiveCell(col=71, row=37), ActiveCell(col=72, row=37), ActiveCell(col=73, row=37), ActiveCell(col=74, row=37), ActiveCell(col=75, row=37), ActiveCell(col=76, row=37), ActiveCell(col=77, row=37), ActiveCell(col=78, row=37), ActiveCell(col=7, row=38), ActiveCell(col=8, row=38), ActiveCell(col=9, row=38), ActiveCell(col=10, row=38), ActiveCell(col=11, row=38), ActiveCell(col=12, row=38), ActiveCell(col=13, row=38), ActiveCell(col=14, row=38), ActiveCell(col=15, row=38), ActiveCell(col=16, row=38), ActiveCell(col=17, row=38), ActiveCell(col=18, row=38), ActiveCell(col=19, row=38), ActiveCell(col=20, row=38), ActiveCell(col=21, row=38), ActiveCell(col=22, row=38), ActiveCell(col=23, row=38), ActiveCell(col=24, row=38), ActiveCell(col=25, row=38), ActiveCell(col=26, row=38), ActiveCell(col=27, row=38), ActiveCell(col=28, row=38), ActiveCell(col=29, row=38), ActiveCell(col=30, row=38), ActiveCell(col=31, row=38), ActiveCell(col=32, row=38), ActiveCell(col=33, row=38), ActiveCell(col=34, row=38), ActiveCell(col=35, row=38), ActiveCell(col=36, row=38), ActiveCell(col=37, row=38), ActiveCell(col=38, row=38), ActiveCell(col=39, row=38), ActiveCell(col=40, row=38), ActiveCell(col=41, row=38), ActiveCell(col=42, row=38), ActiveCell(col=43, row=38), ActiveCell(col=44, row=38), ActiveCell(col=45, row=38), ActiveCell(col=46, row=38), ActiveCell(col=47, row=38), ActiveCell(col=48, row=38), ActiveCell(col=49, row=38), ActiveCell(col=50, row=38), ActiveCell(col=51, row=38), ActiveCell(col=52, row=38), ActiveCell(col=53, row=38), ActiveCell(col=54, row=38), ActiveCell(col=55, row=38), ActiveCell(col=56, row=38), ActiveCell(col=57, row=38), ActiveCell(col=58, row=38), ActiveCell(col=59, row=38), ActiveCell(col=60, row=38), ActiveCell(col=61, row=38), ActiveCell(col=62, row=38), ActiveCell(col=63, row=38), ActiveCell(col=64, row=38), ActiveCell(col=65, row=38), ActiveCell(col=66, row=38), ActiveCell(col=67, row=38), ActiveCell(col=68, row=38), ActiveCell(col=69, row=38), ActiveCell(col=70, row=38), ActiveCell(col=71, row=38), ActiveCell(col=72, row=38), ActiveCell(col=73, row=38), ActiveCell(col=8, row=39), ActiveCell(col=9, row=39), ActiveCell(col=10, row=39), ActiveCell(col=11, row=39), ActiveCell(col=12, row=39), ActiveCell(col=13, row=39), ActiveCell(col=14, row=39), ActiveCell(col=15, row=39), ActiveCell(col=16, row=39), ActiveCell(col=17, row=39), ActiveCell(col=18, row=39), ActiveCell(col=19, row=39), ActiveCell(col=20, row=39), ActiveCell(col=21, row=39), ActiveCell(col=22, row=39), ActiveCell(col=23, row=39), ActiveCell(col=24, row=39), ActiveCell(col=25, row=39), ActiveCell(col=26, row=39), ActiveCell(col=27, row=39), ActiveCell(col=28, row=39), ActiveCell(col=29, row=39), ActiveCell(col=30, row=39), ActiveCell(col=31, row=39), ActiveCell(col=32, row=39), ActiveCell(col=33, row=39), ActiveCell(col=34, row=39), ActiveCell(col=35, row=39), ActiveCell(col=36, row=39), ActiveCell(col=37, row=39), ActiveCell(col=38, row=39), ActiveCell(col=39, row=39), ActiveCell(col=40, row=39), ActiveCell(col=41, row=39), ActiveCell(col=42, row=39), ActiveCell(col=43, row=39), ActiveCell(col=44, row=39), ActiveCell(col=45, row=39), ActiveCell(col=46, row=39), ActiveCell(col=47, row=39), ActiveCell(col=48, row=39), ActiveCell(col=49, row=39), ActiveCell(col=50, row=39), ActiveCell(col=51, row=39), ActiveCell(col=52, row=39), ActiveCell(col=53, row=39), ActiveCell(col=54, row=39), ActiveCell(col=55, row=39), ActiveCell(col=56, row=39), ActiveCell(col=57, row=39), ActiveCell(col=58, row=39), ActiveCell(col=59, row=39), ActiveCell(col=60, row=39), ActiveCell(col=61, row=39), ActiveCell(col=62, row=39), ActiveCell(col=63, row=39), ActiveCell(col=64, row=39), ActiveCell(col=65, row=39), ActiveCell(col=66, row=39), ActiveCell(col=67, row=39), ActiveCell(col=8, row=40), ActiveCell(col=9, row=40), ActiveCell(col=10, row=40), ActiveCell(col=11, row=40), ActiveCell(col=12, row=40), ActiveCell(col=13, row=40), ActiveCell(col=14, row=40), ActiveCell(col=15, row=40), ActiveCell(col=16, row=40), ActiveCell(col=17, row=40), ActiveCell(col=18, row=40), ActiveCell(col=19, row=40), ActiveCell(col=20, row=40), ActiveCell(col=21, row=40), ActiveCell(col=22, row=40), ActiveCell(col=23, row=40), ActiveCell(col=24, row=40), ActiveCell(col=25, row=40), ActiveCell(col=26, row=40), ActiveCell(col=27, row=40), ActiveCell(col=28, row=40), ActiveCell(col=29, row=40), ActiveCell(col=30, row=40), ActiveCell(col=31, row=40), ActiveCell(col=32, row=40), ActiveCell(col=33, row=40), ActiveCell(col=34, row=40), ActiveCell(col=35, row=40), ActiveCell(col=36, row=40), ActiveCell(col=37, row=40), ActiveCell(col=38, row=40), ActiveCell(col=39, row=40), ActiveCell(col=40, row=40), ActiveCell(col=41, row=40), ActiveCell(col=42, row=40), ActiveCell(col=43, row=40), ActiveCell(col=44, row=40), ActiveCell(col=45, row=40), ActiveCell(col=46, row=40), ActiveCell(col=47, row=40), ActiveCell(col=48, row=40), ActiveCell(col=49, row=40), ActiveCell(col=50, row=40), ActiveCell(col=51, row=40), ActiveCell(col=52, row=40), ActiveCell(col=53, row=40), ActiveCell(col=54, row=40), ActiveCell(col=55, row=40), ActiveCell(col=56, row=40), ActiveCell(col=57, row=40), ActiveCell(col=58, row=40), ActiveCell(col=59, row=40), ActiveCell(col=60, row=40), ActiveCell(col=61, row=40), ActiveCell(col=62, row=40), ActiveCell(col=8, row=41), ActiveCell(col=9, row=41), ActiveCell(col=10, row=41), ActiveCell(col=11, row=41), ActiveCell(col=12, row=41), ActiveCell(col=13, row=41), ActiveCell(col=14, row=41), ActiveCell(col=15, row=41), ActiveCell(col=16, row=41), ActiveCell(col=17, row=41), ActiveCell(col=18, row=41), ActiveCell(col=19, row=41), ActiveCell(col=20, row=41), ActiveCell(col=21, row=41), ActiveCell(col=22, row=41), ActiveCell(col=23, row=41), ActiveCell(col=24, row=41), ActiveCell(col=25, row=41), ActiveCell(col=26, row=41), ActiveCell(col=27, row=41), ActiveCell(col=28, row=41), ActiveCell(col=29, row=41), ActiveCell(col=30, row=41), ActiveCell(col=31, row=41), ActiveCell(col=32, row=41), ActiveCell(col=33, row=41), ActiveCell(col=34, row=41), ActiveCell(col=35, row=41), ActiveCell(col=36, row=41), ActiveCell(col=37, row=41), ActiveCell(col=38, row=41), ActiveCell(col=39, row=41), ActiveCell(col=40, row=41), ActiveCell(col=41, row=41), ActiveCell(col=42, row=41), ActiveCell(col=43, row=41), ActiveCell(col=44, row=41), ActiveCell(col=45, row=41), ActiveCell(col=46, row=41), ActiveCell(col=47, row=41), ActiveCell(col=48, row=41), ActiveCell(col=49, row=41), ActiveCell(col=50, row=41), ActiveCell(col=51, row=41), ActiveCell(col=52, row=41), ActiveCell(col=53, row=41), ActiveCell(col=54, row=41), ActiveCell(col=55, row=41), ActiveCell(col=56, row=41), ActiveCell(col=8, row=42), ActiveCell(col=9, row=42), ActiveCell(col=10, row=42), ActiveCell(col=11, row=42), ActiveCell(col=12, row=42), ActiveCell(col=13, row=42), ActiveCell(col=14, row=42), ActiveCell(col=15, row=42), ActiveCell(col=16, row=42), ActiveCell(col=17, row=42), ActiveCell(col=18, row=42), ActiveCell(col=19, row=42), ActiveCell(col=20, row=42), ActiveCell(col=21, row=42), ActiveCell(col=22, row=42), ActiveCell(col=23, row=42), ActiveCell(col=24, row=42), ActiveCell(col=25, row=42), ActiveCell(col=26, row=42), ActiveCell(col=27, row=42), ActiveCell(col=28, row=42), ActiveCell(col=29, row=42), ActiveCell(col=30, row=42), ActiveCell(col=31, row=42), ActiveCell(col=32, row=42), ActiveCell(col=33, row=42), ActiveCell(col=34, row=42), ActiveCell(col=35, row=42), ActiveCell(col=36, row=42), ActiveCell(col=37, row=42), ActiveCell(col=38, row=42), ActiveCell(col=39, row=42), ActiveCell(col=40, row=42), ActiveCell(col=41, row=42), ActiveCell(col=42, row=42), ActiveCell(col=43, row=42), ActiveCell(col=44, row=42), ActiveCell(col=45, row=42), ActiveCell(col=46, row=42), ActiveCell(col=47, row=42), ActiveCell(col=48, row=42), ActiveCell(col=49, row=42), ActiveCell(col=50, row=42), ActiveCell(col=8, row=43), ActiveCell(col=9, row=43), ActiveCell(col=10, row=43), ActiveCell(col=11, row=43), ActiveCell(col=12, row=43), ActiveCell(col=13, row=43), ActiveCell(col=14, row=43), ActiveCell(col=15, row=43), ActiveCell(col=16, row=43), ActiveCell(col=17, row=43), ActiveCell(col=18, row=43), ActiveCell(col=19, row=43), ActiveCell(col=20, row=43), ActiveCell(col=21, row=43), ActiveCell(col=22, row=43), ActiveCell(col=23, row=43), ActiveCell(col=24, row=43), ActiveCell(col=25, row=43), ActiveCell(col=26, row=43), ActiveCell(col=27, row=43), ActiveCell(col=28, row=43), ActiveCell(col=29, row=43), ActiveCell(col=30, row=43), ActiveCell(col=31, row=43), ActiveCell(col=32, row=43), ActiveCell(col=33, row=43), ActiveCell(col=34, row=43), ActiveCell(col=35, row=43), ActiveCell(col=36, row=43), ActiveCell(col=37, row=43), ActiveCell(col=38, row=43), ActiveCell(col=39, row=43), ActiveCell(col=40, row=43), ActiveCell(col=41, row=43), ActiveCell(col=42, row=43), ActiveCell(col=43, row=43), ActiveCell(col=44, row=43), ActiveCell(col=45, row=43), ActiveCell(col=9, row=44), ActiveCell(col=10, row=44), ActiveCell(col=11, row=44), ActiveCell(col=12, row=44), ActiveCell(col=13, row=44), ActiveCell(col=14, row=44), ActiveCell(col=15, row=44), ActiveCell(col=16, row=44), ActiveCell(col=17, row=44), ActiveCell(col=18, row=44), ActiveCell(col=19, row=44), ActiveCell(col=20, row=44), ActiveCell(col=21, row=44), ActiveCell(col=22, row=44), ActiveCell(col=23, row=44), ActiveCell(col=24, row=44), ActiveCell(col=25, row=44), ActiveCell(col=26, row=44), ActiveCell(col=27, row=44), ActiveCell(col=28, row=44), ActiveCell(col=29, row=44), ActiveCell(col=30, row=44), ActiveCell(col=31, row=44), ActiveCell(col=32, row=44), ActiveCell(col=33, row=44), ActiveCell(col=34, row=44), ActiveCell(col=35, row=44), ActiveCell(col=36, row=44), ActiveCell(col=37, row=44), ActiveCell(col=38, row=44), ActiveCell(col=39, row=44), ActiveCell(col=9, row=45), ActiveCell(col=10, row=45), ActiveCell(col=11, row=45), ActiveCell(col=12, row=45), ActiveCell(col=13, row=45), ActiveCell(col=14, row=45), ActiveCell(col=15, row=45), ActiveCell(col=16, row=45), ActiveCell(col=17, row=45), ActiveCell(col=18, row=45), ActiveCell(col=19, row=45), ActiveCell(col=20, row=45), ActiveCell(col=21, row=45), ActiveCell(col=22, row=45), ActiveCell(col=23, row=45), ActiveCell(col=24, row=45), ActiveCell(col=25, row=45), ActiveCell(col=26, row=45), ActiveCell(col=27, row=45), ActiveCell(col=28, row=45), ActiveCell(col=29, row=45), ActiveCell(col=30, row=45), ActiveCell(col=31, row=45), ActiveCell(col=32, row=45), ActiveCell(col=33, row=45), ActiveCell(col=34, row=45), ActiveCell(col=9, row=46), ActiveCell(col=10, row=46), ActiveCell(col=11, row=46), ActiveCell(col=12, row=46), ActiveCell(col=13, row=46), ActiveCell(col=14, row=46), ActiveCell(col=15, row=46), ActiveCell(col=16, row=46), ActiveCell(col=17, row=46), ActiveCell(col=18, row=46), ActiveCell(col=19, row=46), ActiveCell(col=20, row=46), ActiveCell(col=21, row=46), ActiveCell(col=22, row=46), ActiveCell(col=23, row=46), ActiveCell(col=24, row=46), ActiveCell(col=25, row=46), ActiveCell(col=26, row=46), ActiveCell(col=27, row=46), ActiveCell(col=28, row=46), ActiveCell(col=9, row=47), ActiveCell(col=10, row=47), ActiveCell(col=11, row=47), ActiveCell(col=12, row=47), ActiveCell(col=13, row=47), ActiveCell(col=14, row=47), ActiveCell(col=15, row=47), ActiveCell(col=16, row=47), ActiveCell(col=17, row=47), ActiveCell(col=18, row=47), ActiveCell(col=19, row=47), ActiveCell(col=20, row=47), ActiveCell(col=21, row=47), ActiveCell(col=22, row=47), ActiveCell(col=23, row=47), ActiveCell(col=9, row=48), ActiveCell(col=10, row=48), ActiveCell(col=11, row=48), ActiveCell(col=12, row=48), ActiveCell(col=13, row=48), ActiveCell(col=14, row=48), ActiveCell(col=15, row=48), ActiveCell(col=16, row=48), ActiveCell(col=17, row=48), ActiveCell(col=9, row=49), ActiveCell(col=10, row=49), ActiveCell(col=11, row=49)])), time_discretization=TimeDiscretization(start_date_time=StartDateTime(value=datetime.datetime(2020, 1, 1, 0, 0, tzinfo=datetime.timezone.utc)), end_date_time=EndDateTime(value=datetime.datetime(2020, 1, 2, 0, 0, tzinfo=datetime.timezone.utc)), stress_periods=StressPeriodCollection(values=[StressPeriod(start_date_time=StartDateTime(value=datetime.datetime(2020, 1, 1, 0, 0, tzinfo=datetime.timezone.utc)), number_of_time_steps=NumberOfTimeSteps(value=1), time_step_multiplier=TimeStepMultiplier(value=1.0), steady_state=IsSteadyState(value=True))]), time_unit=TimeUnit(unit=4)), boundaries=BoundaryCollection(boundaries=[]), observations=ObservationCollection(observations=[]), layers=LayersCollection(layers=[Layer(layer_id=LayerId(value='089a35a0-30c6-44f2-a858-fd35bb763a9f'), name=LayerName(value='Default'), description=LayerDescription(value='Default'), confinement=LayerConfinement(type='confined'), properties=LayerProperties(hk=LayerPropertyValues(value=LayerPropertyDefaultValue(value=1.0), raster=None, zones=None), hani=LayerPropertyValues(value=LayerPropertyDefaultValue(value=1.0), raster=None, zones=None), vka=LayerPropertyValues(value=LayerPropertyDefaultValue(value=1.0), raster=None, zones=None), specific_storage=LayerPropertyValues(value=LayerPropertyDefaultValue(value=0.0001), raster=None, zones=None), specific_yield=LayerPropertyValues(value=LayerPropertyDefaultValue(value=0.1), raster=None, zones=None), initial_head=LayerPropertyValues(value=LayerPropertyDefaultValue(value=1.0), raster=None, zones=None), top=LayerPropertyValues(value=LayerPropertyDefaultValue(value=1.0), raster=None, zones=None), bottom=LayerPropertyValues(value=LayerPropertyDefaultValue(value=0.0), raster=None, zones=None)))]), transport=Transport(is_enabled=IsEnabled(value=False), substances=[]), variable_density=VariableDensityFlow(is_enabled=IsEnabled(value=False), viscosity_is_enabled=IsEnabled(value=False)))"
      ]
     },
     "execution_count": 5,
     "metadata": {},
     "output_type": "execute_result"
    }
   ],
   "source": [
    "from morpheus.project.application.read.ModelReader import ModelReader\n",
    "\n",
    "model_reader = ModelReader()\n",
    "model = model_reader.get_latest_model(project_id)\n",
    "model"
   ]
  },
  {
   "cell_type": "markdown",
   "id": "572a7b334c101e6c",
   "metadata": {
    "collapsed": false,
    "papermill": {
     "duration": 0.003021,
     "end_time": "2024-05-30T21:20:23.985526",
     "exception": false,
     "start_time": "2024-05-30T21:20:23.982505",
     "status": "completed"
    },
    "tags": []
   },
   "source": [
    "## Update Model Geometry\n"
   ]
  },
  {
   "cell_type": "code",
   "execution_count": 6,
   "id": "c38378d24fc310eb",
   "metadata": {
    "ExecuteTime": {
     "end_time": "2024-05-15T12:40:49.225808Z",
     "start_time": "2024-05-15T12:40:48.842469Z"
    },
    "collapsed": false,
    "execution": {
     "iopub.execute_input": "2024-05-30T21:20:23.992567Z",
     "iopub.status.busy": "2024-05-30T21:20:23.992442Z",
     "iopub.status.idle": "2024-05-30T21:20:24.376057Z",
     "shell.execute_reply": "2024-05-30T21:20:24.375779Z"
    },
    "papermill": {
     "duration": 0.388267,
     "end_time": "2024-05-30T21:20:24.377087",
     "exception": false,
     "start_time": "2024-05-30T21:20:23.988820",
     "status": "completed"
    },
    "tags": []
   },
   "outputs": [
    {
     "data": {
      "text/plain": [
       "Polygon(coordinates=[[[13.922, 50.965], [13.925, 50.965], [13.925, 50.966], [13.922, 50.966], [13.922, 50.965]]], type='Polygon')"
      ]
     },
     "execution_count": 6,
     "metadata": {},
     "output_type": "execute_result"
    }
   ],
   "source": [
    "from morpheus.project.application.write.Model import UpdateModelGeometryCommandHandler, UpdateModelGeometryCommand\n",
    "\n",
    "new_polygon = Polygon(\n",
    "  type='Polygon',\n",
    "  coordinates=[[\n",
    "    (13.922, 50.965),\n",
    "    (13.925, 50.965),\n",
    "    (13.925, 50.966),\n",
    "    (13.922, 50.966),\n",
    "    (13.922, 50.965)\n",
    "  ]]\n",
    ")\n",
    "\n",
    "command = UpdateModelGeometryCommand(\n",
    "  project_id=project_id,\n",
    "  geometry=new_polygon,\n",
    "  user_id=user_id\n",
    ")\n",
    "\n",
    "project_command_bus.dispatch(command)\n",
    "\n",
    "model_reader = ModelReader()\n",
    "model = model_reader.get_latest_model(project_id)\n",
    "model.spatial_discretization.geometry"
   ]
  },
  {
   "cell_type": "markdown",
   "id": "91c1beb811cc5003",
   "metadata": {
    "collapsed": false,
    "papermill": {
     "duration": 0.003575,
     "end_time": "2024-05-30T21:20:24.384583",
     "exception": false,
     "start_time": "2024-05-30T21:20:24.381008",
     "status": "completed"
    },
    "tags": []
   },
   "source": [
    "## Update Model Grid Properties"
   ]
  },
  {
   "cell_type": "code",
   "execution_count": 7,
   "id": "3eeeb70e09d71fba",
   "metadata": {
    "ExecuteTime": {
     "end_time": "2024-05-15T12:40:49.361185Z",
     "start_time": "2024-05-15T12:40:49.226555Z"
    },
    "collapsed": false,
    "execution": {
     "iopub.execute_input": "2024-05-30T21:20:24.391735Z",
     "iopub.status.busy": "2024-05-30T21:20:24.391606Z",
     "iopub.status.idle": "2024-05-30T21:20:24.475450Z",
     "shell.execute_reply": "2024-05-30T21:20:24.475157Z"
    },
    "papermill": {
     "duration": 0.088493,
     "end_time": "2024-05-30T21:20:24.476327",
     "exception": false,
     "start_time": "2024-05-30T21:20:24.387834",
     "status": "completed"
    },
    "tags": []
   },
   "outputs": [
    {
     "name": "stdout",
     "output_type": "stream",
     "text": [
      "Polygon(coordinates=[[[13.922, 50.965], [13.925, 50.965], [13.925, 50.966], [13.922, 50.966], [13.922, 50.965]]], type='Polygon')\n",
      "Grid(origin=Point(coordinates=[13.921728464165456, 50.96596984662515], type='Point'), col_widths=[32.68894794320857, 32.68894794320857, 32.68894794320856, 32.688947943208575, 32.6889479432086, 32.68894794320852, 32.6889479432086, 32.68894794320855, 32.68894794320863, 32.688947943208575, 32.68894794320852], total_width=359.57842737529427, row_heights=[38.67716080928221, 38.67716080928221, 38.67716080928221, 38.67716080928221, 38.677160809282185, 38.67716080928224], total_height=232.06296485569328, rotation=Rotation(value=10), length_unit=LengthUnit(unit=2))\n",
      "{'type': 'raster', 'empty_value': False, 'shape': [6, 11], 'data': [[False, True, True, True, False, False, False, False, False, False, False], [False, True, True, True, True, True, True, True, True, True, True], [True, True, True, True, True, True, True, True, True, True, True], [True, True, True, True, True, True, True, True, True, True, True], [True, True, True, True, True, True, True, True, True, True, False], [False, False, False, False, False, False, False, True, True, True, False]]}\n"
     ]
    }
   ],
   "source": [
    "from morpheus.project.application.write.Model import UpdateModelGridCommandHandler, UpdateModelGridCommand\n",
    "\n",
    "new_del_col_relative = [0, 0.1, 0.2, 0.3, 0.4, 0.5, 0.6, 0.7, 0.8, 0.9, 1]\n",
    "new_del_row_relative = [0, 0.2, 0.4, 0.6, 0.8, 1]\n",
    "\n",
    "command = UpdateModelGridCommand(\n",
    "  project_id=project_id,\n",
    "  user_id=user_id,\n",
    "  n_cols=len(new_del_col_relative),\n",
    "  n_rows=len(new_del_row_relative),\n",
    "  rotation=10,\n",
    ")\n",
    "\n",
    "project_command_bus.dispatch(command)\n",
    "\n",
    "model_reader = ModelReader()\n",
    "model = model_reader.get_latest_model(project_id)\n",
    "print(model.spatial_discretization.geometry)\n",
    "print(model.spatial_discretization.grid)\n",
    "print(model.spatial_discretization.affected_cells.to_dict())"
   ]
  },
  {
   "cell_type": "markdown",
   "id": "2e17bfb7ad5edd8a",
   "metadata": {
    "collapsed": false,
    "papermill": {
     "duration": 0.003361,
     "end_time": "2024-05-30T21:20:24.483308",
     "exception": false,
     "start_time": "2024-05-30T21:20:24.479947",
     "status": "completed"
    },
    "tags": []
   },
   "source": [
    "## Update Model Affected Cells"
   ]
  },
  {
   "cell_type": "code",
   "execution_count": 8,
   "id": "2125ecf138c64a88",
   "metadata": {
    "ExecuteTime": {
     "end_time": "2024-05-15T12:40:49.378806Z",
     "start_time": "2024-05-15T12:40:49.362811Z"
    },
    "collapsed": false,
    "execution": {
     "iopub.execute_input": "2024-05-30T21:20:24.490765Z",
     "iopub.status.busy": "2024-05-30T21:20:24.490555Z",
     "iopub.status.idle": "2024-05-30T21:20:24.507145Z",
     "shell.execute_reply": "2024-05-30T21:20:24.506897Z"
    },
    "papermill": {
     "duration": 0.02116,
     "end_time": "2024-05-30T21:20:24.508039",
     "exception": false,
     "start_time": "2024-05-30T21:20:24.486879",
     "status": "completed"
    },
    "tags": []
   },
   "outputs": [],
   "source": [
    "from morpheus.project.application.write.Model import UpdateModelAffectedCellsCommandHandler, UpdateModelAffectedCellsCommand\n",
    "\n",
    "model_reader = ModelReader()\n",
    "model = model_reader.get_latest_model(project_id=project_id)\n",
    "affected_cells = model.spatial_discretization.affected_cells\n",
    "\n",
    "assert affected_cells.is_active(col=0, row=0) == False\n",
    "affected_cells.set_active(col=0, row=0)\n",
    "assert affected_cells.is_active(col=0, row=0) == True\n",
    "\n",
    "command = UpdateModelAffectedCellsCommand(\n",
    "  project_id=project_id,\n",
    "  affected_cells=affected_cells,\n",
    "  user_id=user_id\n",
    ")\n",
    "\n",
    "project_command_bus.dispatch(command)"
   ]
  },
  {
   "cell_type": "code",
   "execution_count": 9,
   "id": "181c8ad99124273c",
   "metadata": {
    "ExecuteTime": {
     "end_time": "2024-05-15T12:40:49.384905Z",
     "start_time": "2024-05-15T12:40:49.380118Z"
    },
    "collapsed": false,
    "execution": {
     "iopub.execute_input": "2024-05-30T21:20:24.515307Z",
     "iopub.status.busy": "2024-05-30T21:20:24.515203Z",
     "iopub.status.idle": "2024-05-30T21:20:24.519703Z",
     "shell.execute_reply": "2024-05-30T21:20:24.519466Z"
    },
    "papermill": {
     "duration": 0.009002,
     "end_time": "2024-05-30T21:20:24.520567",
     "exception": false,
     "start_time": "2024-05-30T21:20:24.511565",
     "status": "completed"
    },
    "tags": []
   },
   "outputs": [],
   "source": [
    "model_reader = ModelReader()\n",
    "model = model_reader.get_latest_model(project_id=project_id)\n",
    "affected_cells = model.spatial_discretization.affected_cells\n",
    "assert affected_cells.is_active(col=0, row=0) == True"
   ]
  },
  {
   "cell_type": "markdown",
   "id": "accb680cfa47f091",
   "metadata": {
    "collapsed": false,
    "papermill": {
     "duration": 0.003082,
     "end_time": "2024-05-30T21:20:24.527234",
     "exception": false,
     "start_time": "2024-05-30T21:20:24.524152",
     "status": "completed"
    },
    "tags": []
   },
   "source": [
    "## Show Versions of Model so far"
   ]
  },
  {
   "cell_type": "code",
   "execution_count": 10,
   "id": "cb4afb5b3dd54cea",
   "metadata": {
    "ExecuteTime": {
     "end_time": "2024-05-15T12:40:49.391528Z",
     "start_time": "2024-05-15T12:40:49.386036Z"
    },
    "collapsed": false,
    "execution": {
     "iopub.execute_input": "2024-05-30T21:20:24.533931Z",
     "iopub.status.busy": "2024-05-30T21:20:24.533807Z",
     "iopub.status.idle": "2024-05-30T21:20:24.538001Z",
     "shell.execute_reply": "2024-05-30T21:20:24.537775Z"
    },
    "papermill": {
     "duration": 0.008477,
     "end_time": "2024-05-30T21:20:24.538755",
     "exception": false,
     "start_time": "2024-05-30T21:20:24.530278",
     "status": "completed"
    },
    "tags": []
   },
   "outputs": [
    {
     "data": {
      "text/plain": [
       "[ModelVersion(version_id=VersionId(value='63e9b7e0-8be6-474b-b899-b7c8f87c3dcc'), tag=VersionTag(value='v0.0.0'), description=VersionDescription(value='Initial version'))]"
      ]
     },
     "execution_count": 10,
     "metadata": {},
     "output_type": "execute_result"
    }
   ],
   "source": [
    "model_reader = ModelReader()\n",
    "model_reader.get_versions(project_id=project_id)"
   ]
  },
  {
   "cell_type": "markdown",
   "id": "c1e717aa2a462cbb",
   "metadata": {
    "collapsed": false,
    "papermill": {
     "duration": 0.00303,
     "end_time": "2024-05-30T21:20:24.544904",
     "exception": false,
     "start_time": "2024-05-30T21:20:24.541874",
     "status": "completed"
    },
    "tags": []
   },
   "source": [
    "## Tag Version"
   ]
  },
  {
   "cell_type": "code",
   "execution_count": 11,
   "id": "f6001b161c3b63da",
   "metadata": {
    "ExecuteTime": {
     "end_time": "2024-05-15T12:40:49.415322Z",
     "start_time": "2024-05-15T12:40:49.392499Z"
    },
    "collapsed": false,
    "execution": {
     "iopub.execute_input": "2024-05-30T21:20:24.551568Z",
     "iopub.status.busy": "2024-05-30T21:20:24.551455Z",
     "iopub.status.idle": "2024-05-30T21:20:24.574884Z",
     "shell.execute_reply": "2024-05-30T21:20:24.574564Z"
    },
    "papermill": {
     "duration": 0.027948,
     "end_time": "2024-05-30T21:20:24.575985",
     "exception": false,
     "start_time": "2024-05-30T21:20:24.548037",
     "status": "completed"
    },
    "tags": []
   },
   "outputs": [],
   "source": [
    "from morpheus.project.application.write.Model import CreateModelVersionCommand, CreateModelVersionCommandHandler\n",
    "from morpheus.project.types.ModelVersion import VersionTag, VersionDescription\n",
    "\n",
    "command = CreateModelVersionCommand(\n",
    "  project_id=project_id,\n",
    "  version_tag=VersionTag('v1.0.0'),\n",
    "  version_description=VersionDescription('Version 1.0.0'),\n",
    "  user_id=user_id\n",
    ")\n",
    "\n",
    "project_command_bus.dispatch(command)"
   ]
  },
  {
   "cell_type": "code",
   "execution_count": 12,
   "id": "91ce3ebddf8a88be",
   "metadata": {
    "ExecuteTime": {
     "end_time": "2024-05-15T12:40:49.420143Z",
     "start_time": "2024-05-15T12:40:49.416346Z"
    },
    "collapsed": false,
    "execution": {
     "iopub.execute_input": "2024-05-30T21:20:24.584263Z",
     "iopub.status.busy": "2024-05-30T21:20:24.584133Z",
     "iopub.status.idle": "2024-05-30T21:20:24.587541Z",
     "shell.execute_reply": "2024-05-30T21:20:24.587272Z"
    },
    "papermill": {
     "duration": 0.008372,
     "end_time": "2024-05-30T21:20:24.588392",
     "exception": false,
     "start_time": "2024-05-30T21:20:24.580020",
     "status": "completed"
    },
    "tags": []
   },
   "outputs": [
    {
     "data": {
      "text/plain": [
       "[ModelVersion(version_id=VersionId(value='3a1a916b-dd18-4373-83f8-a38c2cb71c40'), tag=VersionTag(value='v1.0.0'), description=VersionDescription(value='Version 1.0.0')),\n",
       " ModelVersion(version_id=VersionId(value='63e9b7e0-8be6-474b-b899-b7c8f87c3dcc'), tag=VersionTag(value='v0.0.0'), description=VersionDescription(value='Initial version'))]"
      ]
     },
     "execution_count": 12,
     "metadata": {},
     "output_type": "execute_result"
    }
   ],
   "source": [
    "model_reader.get_versions(project_id=project_id)"
   ]
  },
  {
   "cell_type": "code",
   "execution_count": 13,
   "id": "98e0fcfb479f8ff8",
   "metadata": {
    "ExecuteTime": {
     "end_time": "2024-05-15T12:40:49.426231Z",
     "start_time": "2024-05-15T12:40:49.420702Z"
    },
    "collapsed": false,
    "execution": {
     "iopub.execute_input": "2024-05-30T21:20:24.596257Z",
     "iopub.status.busy": "2024-05-30T21:20:24.596071Z",
     "iopub.status.idle": "2024-05-30T21:20:24.599423Z",
     "shell.execute_reply": "2024-05-30T21:20:24.599183Z"
    },
    "papermill": {
     "duration": 0.00826,
     "end_time": "2024-05-30T21:20:24.600387",
     "exception": false,
     "start_time": "2024-05-30T21:20:24.592127",
     "status": "completed"
    },
    "tags": []
   },
   "outputs": [
    {
     "data": {
      "text/plain": [
       "ModelVersion(version_id=VersionId(value='3a1a916b-dd18-4373-83f8-a38c2cb71c40'), tag=VersionTag(value='v1.0.0'), description=VersionDescription(value='Version 1.0.0'))"
      ]
     },
     "execution_count": 13,
     "metadata": {},
     "output_type": "execute_result"
    }
   ],
   "source": [
    "version = model_reader.get_version_by_tag(project_id=project_id, tag=VersionTag('v1.0.0'))\n",
    "version"
   ]
  },
  {
   "cell_type": "code",
   "execution_count": 14,
   "id": "d447991ac286684f",
   "metadata": {
    "ExecuteTime": {
     "end_time": "2024-05-15T12:40:49.436406Z",
     "start_time": "2024-05-15T12:40:49.429303Z"
    },
    "collapsed": false,
    "execution": {
     "iopub.execute_input": "2024-05-30T21:20:24.608743Z",
     "iopub.status.busy": "2024-05-30T21:20:24.608550Z",
     "iopub.status.idle": "2024-05-30T21:20:24.614124Z",
     "shell.execute_reply": "2024-05-30T21:20:24.613787Z"
    },
    "papermill": {
     "duration": 0.01113,
     "end_time": "2024-05-30T21:20:24.615283",
     "exception": false,
     "start_time": "2024-05-30T21:20:24.604153",
     "status": "completed"
    },
    "tags": []
   },
   "outputs": [],
   "source": [
    "from morpheus.project.application.write.Model import UpdateModelVersionDescriptionCommand, UpdateModelVersionDescriptionCommandHandler\n",
    "\n",
    "command = UpdateModelVersionDescriptionCommand(\n",
    "  project_id=project_id,\n",
    "  version_id=version.version_id,\n",
    "  version_description=VersionDescription('Version 1.0.0 - Updated'),\n",
    "  user_id=user_id\n",
    ")\n",
    "\n",
    "project_command_bus.dispatch(command)"
   ]
  },
  {
   "cell_type": "code",
   "execution_count": 15,
   "id": "98bd0d67dcdef72c",
   "metadata": {
    "ExecuteTime": {
     "end_time": "2024-05-15T12:40:49.441845Z",
     "start_time": "2024-05-15T12:40:49.437079Z"
    },
    "collapsed": false,
    "execution": {
     "iopub.execute_input": "2024-05-30T21:20:24.622867Z",
     "iopub.status.busy": "2024-05-30T21:20:24.622735Z",
     "iopub.status.idle": "2024-05-30T21:20:24.625771Z",
     "shell.execute_reply": "2024-05-30T21:20:24.625490Z"
    },
    "papermill": {
     "duration": 0.007708,
     "end_time": "2024-05-30T21:20:24.626570",
     "exception": false,
     "start_time": "2024-05-30T21:20:24.618862",
     "status": "completed"
    },
    "tags": []
   },
   "outputs": [
    {
     "data": {
      "text/plain": [
       "'Version 1.0.0 - Updated'"
      ]
     },
     "execution_count": 15,
     "metadata": {},
     "output_type": "execute_result"
    }
   ],
   "source": [
    "version = model_reader.get_version_by_tag(project_id=project_id, tag=VersionTag('v1.0.0'))\n",
    "version.description.to_str()"
   ]
  },
  {
   "cell_type": "markdown",
   "id": "d3450ee74861c27d",
   "metadata": {
    "papermill": {
     "duration": 0.003235,
     "end_time": "2024-05-30T21:20:24.633274",
     "exception": false,
     "start_time": "2024-05-30T21:20:24.630039",
     "status": "completed"
    },
    "tags": []
   },
   "source": [
    "# Add well boundary"
   ]
  },
  {
   "cell_type": "code",
   "execution_count": 16,
   "id": "364435815cd6954f",
   "metadata": {
    "ExecuteTime": {
     "end_time": "2024-05-15T12:40:49.462632Z",
     "start_time": "2024-05-15T12:40:49.442663Z"
    },
    "execution": {
     "iopub.execute_input": "2024-05-30T21:20:24.640656Z",
     "iopub.status.busy": "2024-05-30T21:20:24.640438Z",
     "iopub.status.idle": "2024-05-30T21:20:24.654615Z",
     "shell.execute_reply": "2024-05-30T21:20:24.654364Z"
    },
    "papermill": {
     "duration": 0.019095,
     "end_time": "2024-05-30T21:20:24.655592",
     "exception": false,
     "start_time": "2024-05-30T21:20:24.636497",
     "status": "completed"
    },
    "tags": []
   },
   "outputs": [],
   "source": [
    "from morpheus.project.application.write.Model.AddModelBoundary import AddModelBoundaryCommandPayload\n",
    "from morpheus.project.application.write.Model import AddModelBoundaryCommand\n",
    "\n",
    "payload: AddModelBoundaryCommandPayload = {\n",
    "  'project_id': project_id.to_str(),\n",
    "  'model_id': model.model_id.to_str(),\n",
    "  'boundary_type': 'well',\n",
    "  'boundary_geometry': {\n",
    "    'type': 'Point',\n",
    "    'coordinates': [13.923, 50.965]\n",
    "  },\n",
    "}\n",
    "\n",
    "project_command_bus.dispatch(AddModelBoundaryCommand.from_payload(user_id=user_id, payload=payload))"
   ]
  },
  {
   "cell_type": "markdown",
   "id": "14cbb28e7eba7481",
   "metadata": {
    "papermill": {
     "duration": 0.003189,
     "end_time": "2024-05-30T21:20:24.662327",
     "exception": false,
     "start_time": "2024-05-30T21:20:24.659138",
     "status": "completed"
    },
    "tags": []
   },
   "source": [
    "# Read Model Boundaries"
   ]
  },
  {
   "cell_type": "code",
   "execution_count": 17,
   "id": "dde2c00f187dbc9c",
   "metadata": {
    "ExecuteTime": {
     "end_time": "2024-05-15T12:40:49.470630Z",
     "start_time": "2024-05-15T12:40:49.464180Z"
    },
    "execution": {
     "iopub.execute_input": "2024-05-30T21:20:24.669418Z",
     "iopub.status.busy": "2024-05-30T21:20:24.669280Z",
     "iopub.status.idle": "2024-05-30T21:20:24.673067Z",
     "shell.execute_reply": "2024-05-30T21:20:24.672628Z"
    },
    "papermill": {
     "duration": 0.008501,
     "end_time": "2024-05-30T21:20:24.673973",
     "exception": false,
     "start_time": "2024-05-30T21:20:24.665472",
     "status": "completed"
    },
    "tags": []
   },
   "outputs": [
    {
     "data": {
      "text/plain": [
       "BoundaryCollection(boundaries=[WellBoundary(boundary_id=BoundaryId(value='34f73f53-8374-40f3-88d5-0d889d19316b'), type=BoundaryType(type='well'), name=BoundaryName(value='new well boundary'), tags=BoundaryTags(value=[]), geometry=Point(coordinates=[13.923, 50.965], type='Point'), affected_cells=ActiveCells(shape=[6, 11], data=[ActiveCell(col=3, row=5)]), affected_layers=[LayerId(value='089a35a0-30c6-44f2-a858-fd35bb763a9f')], observations=[WellObservation(observation_id=ObservationId(value='f6c99aa3-7830-41c8-a283-99ae492549ca'), observation_name=ObservationName(value='Observation Point 1'), geometry=Point(coordinates=[13.923, 50.965], type='Point'), data=[WellRawDataItem(date_time=StartDateTime(value=datetime.datetime(2020, 1, 1, 0, 0, tzinfo=datetime.timezone.utc)), pumping_rate=PumpingRate(value=0.0))])], enabled=True)])"
      ]
     },
     "execution_count": 17,
     "metadata": {},
     "output_type": "execute_result"
    }
   ],
   "source": [
    "model = model_reader.get_latest_model(project_id=project_id)\n",
    "model.boundaries"
   ]
  },
  {
   "cell_type": "markdown",
   "id": "23e3edd16ade53a",
   "metadata": {
    "papermill": {
     "duration": 0.003333,
     "end_time": "2024-05-30T21:20:24.680878",
     "exception": false,
     "start_time": "2024-05-30T21:20:24.677545",
     "status": "completed"
    },
    "tags": []
   },
   "source": [
    "# Remove Well Boundary"
   ]
  },
  {
   "cell_type": "code",
   "execution_count": 18,
   "id": "1bae17b57bc0a1e0",
   "metadata": {
    "ExecuteTime": {
     "end_time": "2024-05-15T12:40:49.488202Z",
     "start_time": "2024-05-15T12:40:49.471812Z"
    },
    "execution": {
     "iopub.execute_input": "2024-05-30T21:20:24.688094Z",
     "iopub.status.busy": "2024-05-30T21:20:24.687968Z",
     "iopub.status.idle": "2024-05-30T21:20:24.696115Z",
     "shell.execute_reply": "2024-05-30T21:20:24.695869Z"
    },
    "papermill": {
     "duration": 0.012961,
     "end_time": "2024-05-30T21:20:24.697099",
     "exception": false,
     "start_time": "2024-05-30T21:20:24.684138",
     "status": "completed"
    },
    "tags": []
   },
   "outputs": [],
   "source": [
    "from morpheus.project.application.write.Model.RemoveModelBoundary import RemoveModelBoundaryCommandPayload, RemoveModelBoundaryCommand\n",
    "\n",
    "boundary_id = model.boundaries[0].boundary_id\n",
    "\n",
    "payload: RemoveModelBoundaryCommandPayload = {\n",
    "  'project_id': project_id.to_str(),\n",
    "  'model_id': model.model_id.to_str(),\n",
    "  'boundary_id': boundary_id.to_str(),\n",
    "}\n",
    "\n",
    "project_command_bus.dispatch(RemoveModelBoundaryCommand.from_payload(user_id=user_id, payload=payload))"
   ]
  },
  {
   "cell_type": "code",
   "execution_count": 19,
   "id": "db153e9460ab7bc6",
   "metadata": {
    "ExecuteTime": {
     "end_time": "2024-05-15T12:40:49.494090Z",
     "start_time": "2024-05-15T12:40:49.488926Z"
    },
    "execution": {
     "iopub.execute_input": "2024-05-30T21:20:24.704930Z",
     "iopub.status.busy": "2024-05-30T21:20:24.704797Z",
     "iopub.status.idle": "2024-05-30T21:20:24.708701Z",
     "shell.execute_reply": "2024-05-30T21:20:24.708189Z"
    },
    "papermill": {
     "duration": 0.008775,
     "end_time": "2024-05-30T21:20:24.709574",
     "exception": false,
     "start_time": "2024-05-30T21:20:24.700799",
     "status": "completed"
    },
    "tags": []
   },
   "outputs": [
    {
     "data": {
      "text/plain": [
       "BoundaryCollection(boundaries=[])"
      ]
     },
     "execution_count": 19,
     "metadata": {},
     "output_type": "execute_result"
    }
   ],
   "source": [
    "model = model_reader.get_latest_model(project_id=project_id)\n",
    "model.boundaries"
   ]
  },
  {
   "cell_type": "code",
   "execution_count": null,
   "id": "dc20739afcda859d",
   "metadata": {
    "ExecuteTime": {
     "end_time": "2024-05-15T12:40:49.496618Z",
     "start_time": "2024-05-15T12:40:49.494770Z"
    },
    "papermill": {
     "duration": 0.00382,
     "end_time": "2024-05-30T21:20:24.717126",
     "exception": false,
     "start_time": "2024-05-30T21:20:24.713306",
     "status": "completed"
    },
    "tags": []
   },
   "outputs": [],
   "source": []
  }
 ],
 "metadata": {
  "kernelspec": {
   "display_name": "Python 3",
   "language": "python",
   "name": "python3"
  },
  "language_info": {
   "codemirror_mode": {
    "name": "ipython",
    "version": 3
   },
   "file_extension": ".py",
   "mimetype": "text/x-python",
   "name": "python",
   "nbconvert_exporter": "python",
   "pygments_lexer": "ipython3",
   "version": "3.12.2"
  },
  "papermill": {
   "default_parameters": {},
   "duration": 5.644012,
   "end_time": "2024-05-30T21:20:27.341581",
   "environment_variables": {},
   "exception": null,
   "input_path": "./notebooks/EventSourcingModel.ipynb",
   "output_path": "./notebooks/EventSourcingModel.ipynb",
   "parameters": {},
   "start_time": "2024-05-30T21:20:21.697569",
   "version": "2.6.0"
  }
 },
 "nbformat": 4,
 "nbformat_minor": 5
}