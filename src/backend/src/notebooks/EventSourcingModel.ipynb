{
 "cells": [
  {
   "cell_type": "markdown",
   "id": "643f6c4207bbc0b0",
   "metadata": {
    "papermill": {
     "duration": 0.010261,
     "end_time": "2024-08-19T20:26:52.053960",
     "exception": false,
     "start_time": "2024-08-19T20:26:52.043699",
     "status": "completed"
    },
    "tags": []
   },
   "source": [
    "# Initialize Morpheus"
   ]
  },
  {
   "cell_type": "code",
   "execution_count": 1,
   "id": "9a429500dc402140",
   "metadata": {
    "ExecuteTime": {
     "end_time": "2024-08-19T20:25:31.910900Z",
     "start_time": "2024-08-19T20:25:30.054164Z"
    },
    "execution": {
     "iopub.execute_input": "2024-08-19T20:26:52.063426Z",
     "iopub.status.busy": "2024-08-19T20:26:52.063190Z",
     "iopub.status.idle": "2024-08-19T20:26:53.970594Z",
     "shell.execute_reply": "2024-08-19T20:26:53.970295Z"
    },
    "papermill": {
     "duration": 1.913354,
     "end_time": "2024-08-19T20:26:53.971672",
     "exception": false,
     "start_time": "2024-08-19T20:26:52.058318",
     "status": "completed"
    },
    "tags": []
   },
   "outputs": [],
   "source": [
    "from morpheus.project.application.write import project_command_bus"
   ]
  },
  {
   "cell_type": "markdown",
   "id": "740a87482c1f1624",
   "metadata": {
    "collapsed": false,
    "papermill": {
     "duration": 0.002458,
     "end_time": "2024-08-19T20:26:53.976821",
     "exception": false,
     "start_time": "2024-08-19T20:26:53.974363",
     "status": "completed"
    },
    "tags": []
   },
   "source": [
    "# Create a Project"
   ]
  },
  {
   "cell_type": "code",
   "execution_count": 2,
   "id": "932b4fe5bd839f2",
   "metadata": {
    "ExecuteTime": {
     "end_time": "2024-08-19T20:25:31.927521Z",
     "start_time": "2024-08-19T20:25:31.911967Z"
    },
    "collapsed": false,
    "execution": {
     "iopub.execute_input": "2024-08-19T20:26:53.982492Z",
     "iopub.status.busy": "2024-08-19T20:26:53.982179Z",
     "iopub.status.idle": "2024-08-19T20:26:53.995635Z",
     "shell.execute_reply": "2024-08-19T20:26:53.995398Z"
    },
    "papermill": {
     "duration": 0.017291,
     "end_time": "2024-08-19T20:26:53.996495",
     "exception": false,
     "start_time": "2024-08-19T20:26:53.979204",
     "status": "completed"
    },
    "tags": []
   },
   "outputs": [],
   "source": [
    "from morpheus.common.types.identity.Identity import UserId\n",
    "from morpheus.project.types.Project import ProjectId, Name, Description, Tags\n",
    "\n",
    "user_id = UserId.new()\n",
    "project_id = ProjectId.new()\n",
    "name = Name.from_str('Project 1')\n",
    "description = Description.from_str('Description 1')\n",
    "tags = Tags.from_list(['tag1', 'tag2'])\n",
    "\n",
    "from morpheus.project.application.write.Project import CreateProjectCommand\n",
    "\n",
    "create_project_command = CreateProjectCommand(\n",
    "  project_id=project_id,\n",
    "  name=name,\n",
    "  description=description,\n",
    "  tags=tags,\n",
    "  user_id=user_id\n",
    ")\n",
    "\n",
    "project_command_bus.dispatch(create_project_command)"
   ]
  },
  {
   "cell_type": "markdown",
   "id": "9d52b120aa989d1f",
   "metadata": {
    "collapsed": false,
    "papermill": {
     "duration": 0.002525,
     "end_time": "2024-08-19T20:26:54.001660",
     "exception": false,
     "start_time": "2024-08-19T20:26:53.999135",
     "status": "completed"
    },
    "tags": []
   },
   "source": [
    "# Read ProjectList"
   ]
  },
  {
   "cell_type": "code",
   "execution_count": 3,
   "id": "56155ec2f19c768d",
   "metadata": {
    "ExecuteTime": {
     "end_time": "2024-08-19T20:25:31.939292Z",
     "start_time": "2024-08-19T20:25:31.928211Z"
    },
    "collapsed": false,
    "execution": {
     "iopub.execute_input": "2024-08-19T20:26:54.007337Z",
     "iopub.status.busy": "2024-08-19T20:26:54.007205Z",
     "iopub.status.idle": "2024-08-19T20:26:54.019271Z",
     "shell.execute_reply": "2024-08-19T20:26:54.019012Z"
    },
    "papermill": {
     "duration": 0.015851,
     "end_time": "2024-08-19T20:26:54.020128",
     "exception": false,
     "start_time": "2024-08-19T20:26:54.004277",
     "status": "completed"
    },
    "tags": []
   },
   "outputs": [
    {
     "data": {
      "text/plain": [
       "[(ProjectSummary(project_id=ProjectId(value='8cb9fced-e3d1-42f7-bcda-0e1aa4e4c70e'), project_name=Name(value='Rio Primero'), project_description=Description(value=''), project_tags=Tags(value=[]), owner_id=UserId(value='2e7a05ff-90f9-49a0-8d1a-fc28d8f64174'), visibility=<Visibility.PRIVATE: 'private'>, created_at=DateTime(value=datetime.datetime(2024, 7, 10, 10, 26, 32, 268323, tzinfo=datetime.timezone(datetime.timedelta(seconds=7200)))), updated_at=DateTime(value=datetime.datetime(2024, 7, 10, 10, 26, 32, 268323, tzinfo=datetime.timezone(datetime.timedelta(seconds=7200))))),\n",
       "  [<Privilege.VIEW_PROJECT: 'view_project'>,\n",
       "   <Privilege.EDIT_PROJECT: 'edit_project'>,\n",
       "   <Privilege.MANAGE_PROJECT: 'manage_project'>,\n",
       "   <Privilege.FULL_ACCESS: 'full_access'>]),\n",
       " (ProjectSummary(project_id=ProjectId(value='2a8caac3-1c25-4133-a7a5-91a9a1922acd'), project_name=Name(value='Project 0'), project_description=Description(value='Description 0'), project_tags=Tags(value=['tag0', 'tag1']), owner_id=UserId(value='7ae063d5-1769-49bb-8c44-a06ba47e897d'), visibility=<Visibility.PRIVATE: 'private'>, created_at=DateTime(value=datetime.datetime(2024, 8, 19, 11, 40, 7, 566448, tzinfo=datetime.timezone(datetime.timedelta(seconds=7200)))), updated_at=DateTime(value=datetime.datetime(2024, 8, 19, 11, 40, 7, 566448, tzinfo=datetime.timezone(datetime.timedelta(seconds=7200))))),\n",
       "  [<Privilege.VIEW_PROJECT: 'view_project'>,\n",
       "   <Privilege.EDIT_PROJECT: 'edit_project'>,\n",
       "   <Privilege.MANAGE_PROJECT: 'manage_project'>,\n",
       "   <Privilege.FULL_ACCESS: 'full_access'>]),\n",
       " (ProjectSummary(project_id=ProjectId(value='2aff8082-06bd-4f2b-a73a-e79dec3de6ef'), project_name=Name(value='Project 1'), project_description=Description(value='Description 1'), project_tags=Tags(value=['tag1', 'tag2']), owner_id=UserId(value='3a8ea0f1-1398-46f7-9a60-7c160a8bfb21'), visibility=<Visibility.PRIVATE: 'private'>, created_at=DateTime(value=datetime.datetime(2024, 8, 19, 11, 40, 7, 587290, tzinfo=datetime.timezone(datetime.timedelta(seconds=7200)))), updated_at=DateTime(value=datetime.datetime(2024, 8, 19, 11, 40, 7, 587290, tzinfo=datetime.timezone(datetime.timedelta(seconds=7200))))),\n",
       "  [<Privilege.VIEW_PROJECT: 'view_project'>,\n",
       "   <Privilege.EDIT_PROJECT: 'edit_project'>,\n",
       "   <Privilege.MANAGE_PROJECT: 'manage_project'>,\n",
       "   <Privilege.FULL_ACCESS: 'full_access'>]),\n",
       " (ProjectSummary(project_id=ProjectId(value='bb828686-eca0-49ab-aa16-e10141b80265'), project_name=Name(value='Project 2'), project_description=Description(value='Description 2'), project_tags=Tags(value=['tag2', 'tag3']), owner_id=UserId(value='8c6f503a-6005-4dfe-b867-d5a4808382bf'), visibility=<Visibility.PRIVATE: 'private'>, created_at=DateTime(value=datetime.datetime(2024, 8, 19, 11, 40, 7, 589498, tzinfo=datetime.timezone(datetime.timedelta(seconds=7200)))), updated_at=DateTime(value=datetime.datetime(2024, 8, 19, 11, 40, 7, 589498, tzinfo=datetime.timezone(datetime.timedelta(seconds=7200))))),\n",
       "  [<Privilege.VIEW_PROJECT: 'view_project'>,\n",
       "   <Privilege.EDIT_PROJECT: 'edit_project'>,\n",
       "   <Privilege.MANAGE_PROJECT: 'manage_project'>,\n",
       "   <Privilege.FULL_ACCESS: 'full_access'>]),\n",
       " (ProjectSummary(project_id=ProjectId(value='3fdc6d0b-eaff-4f47-9661-502d16b0bd69'), project_name=Name(value='Project 3'), project_description=Description(value='Description 3'), project_tags=Tags(value=['tag3', 'tag4']), owner_id=UserId(value='ebb8349e-8b6a-48e3-bd7d-b7235ccc6603'), visibility=<Visibility.PRIVATE: 'private'>, created_at=DateTime(value=datetime.datetime(2024, 8, 19, 11, 40, 7, 591553, tzinfo=datetime.timezone(datetime.timedelta(seconds=7200)))), updated_at=DateTime(value=datetime.datetime(2024, 8, 19, 11, 40, 7, 591553, tzinfo=datetime.timezone(datetime.timedelta(seconds=7200))))),\n",
       "  [<Privilege.VIEW_PROJECT: 'view_project'>,\n",
       "   <Privilege.EDIT_PROJECT: 'edit_project'>,\n",
       "   <Privilege.MANAGE_PROJECT: 'manage_project'>,\n",
       "   <Privilege.FULL_ACCESS: 'full_access'>]),\n",
       " (ProjectSummary(project_id=ProjectId(value='d4969478-8794-4f8b-94a2-a7665dbb2de1'), project_name=Name(value='Project 4'), project_description=Description(value='Description 4'), project_tags=Tags(value=['tag4', 'tag5']), owner_id=UserId(value='5f7dbcf1-ef7d-49dd-8351-5c3774701570'), visibility=<Visibility.PRIVATE: 'private'>, created_at=DateTime(value=datetime.datetime(2024, 8, 19, 11, 40, 7, 593618, tzinfo=datetime.timezone(datetime.timedelta(seconds=7200)))), updated_at=DateTime(value=datetime.datetime(2024, 8, 19, 11, 40, 7, 593618, tzinfo=datetime.timezone(datetime.timedelta(seconds=7200))))),\n",
       "  [<Privilege.VIEW_PROJECT: 'view_project'>,\n",
       "   <Privilege.EDIT_PROJECT: 'edit_project'>,\n",
       "   <Privilege.MANAGE_PROJECT: 'manage_project'>,\n",
       "   <Privilege.FULL_ACCESS: 'full_access'>]),\n",
       " (ProjectSummary(project_id=ProjectId(value='802728d2-26c6-493e-a676-5da1c475a6b7'), project_name=Name(value='Project 5'), project_description=Description(value='Description 5'), project_tags=Tags(value=['tag5', 'tag6']), owner_id=UserId(value='7e942a9c-d7a8-4ed6-ba01-4c220550cf76'), visibility=<Visibility.PRIVATE: 'private'>, created_at=DateTime(value=datetime.datetime(2024, 8, 19, 11, 40, 7, 595619, tzinfo=datetime.timezone(datetime.timedelta(seconds=7200)))), updated_at=DateTime(value=datetime.datetime(2024, 8, 19, 11, 40, 7, 595619, tzinfo=datetime.timezone(datetime.timedelta(seconds=7200))))),\n",
       "  [<Privilege.VIEW_PROJECT: 'view_project'>,\n",
       "   <Privilege.EDIT_PROJECT: 'edit_project'>,\n",
       "   <Privilege.MANAGE_PROJECT: 'manage_project'>,\n",
       "   <Privilege.FULL_ACCESS: 'full_access'>]),\n",
       " (ProjectSummary(project_id=ProjectId(value='a301367f-aca5-4bb3-9517-d873082279d9'), project_name=Name(value='Project 6'), project_description=Description(value='Description 6'), project_tags=Tags(value=['tag6', 'tag7']), owner_id=UserId(value='e7a429a8-ee2a-4fe7-b552-7fdb768d26b8'), visibility=<Visibility.PRIVATE: 'private'>, created_at=DateTime(value=datetime.datetime(2024, 8, 19, 11, 40, 7, 597472, tzinfo=datetime.timezone(datetime.timedelta(seconds=7200)))), updated_at=DateTime(value=datetime.datetime(2024, 8, 19, 11, 40, 7, 597472, tzinfo=datetime.timezone(datetime.timedelta(seconds=7200))))),\n",
       "  [<Privilege.VIEW_PROJECT: 'view_project'>,\n",
       "   <Privilege.EDIT_PROJECT: 'edit_project'>,\n",
       "   <Privilege.MANAGE_PROJECT: 'manage_project'>,\n",
       "   <Privilege.FULL_ACCESS: 'full_access'>]),\n",
       " (ProjectSummary(project_id=ProjectId(value='bd8e9ef9-443f-4281-8e36-79ee31317c2d'), project_name=Name(value='Project 7'), project_description=Description(value='Description 7'), project_tags=Tags(value=['tag7', 'tag8']), owner_id=UserId(value='1cda36d5-c1bc-40ec-aae5-c1f81c2d70a2'), visibility=<Visibility.PRIVATE: 'private'>, created_at=DateTime(value=datetime.datetime(2024, 8, 19, 11, 40, 7, 599804, tzinfo=datetime.timezone(datetime.timedelta(seconds=7200)))), updated_at=DateTime(value=datetime.datetime(2024, 8, 19, 11, 40, 7, 599804, tzinfo=datetime.timezone(datetime.timedelta(seconds=7200))))),\n",
       "  [<Privilege.VIEW_PROJECT: 'view_project'>,\n",
       "   <Privilege.EDIT_PROJECT: 'edit_project'>,\n",
       "   <Privilege.MANAGE_PROJECT: 'manage_project'>,\n",
       "   <Privilege.FULL_ACCESS: 'full_access'>]),\n",
       " (ProjectSummary(project_id=ProjectId(value='2795b484-e8fd-44a3-ab0e-4aa27dc7f803'), project_name=Name(value='Project 8'), project_description=Description(value='Description 8'), project_tags=Tags(value=['tag8', 'tag9']), owner_id=UserId(value='39260b30-fe5d-49bf-a3a6-203813ae17d5'), visibility=<Visibility.PRIVATE: 'private'>, created_at=DateTime(value=datetime.datetime(2024, 8, 19, 11, 40, 7, 602123, tzinfo=datetime.timezone(datetime.timedelta(seconds=7200)))), updated_at=DateTime(value=datetime.datetime(2024, 8, 19, 11, 40, 7, 602123, tzinfo=datetime.timezone(datetime.timedelta(seconds=7200))))),\n",
       "  [<Privilege.VIEW_PROJECT: 'view_project'>,\n",
       "   <Privilege.EDIT_PROJECT: 'edit_project'>,\n",
       "   <Privilege.MANAGE_PROJECT: 'manage_project'>,\n",
       "   <Privilege.FULL_ACCESS: 'full_access'>]),\n",
       " (ProjectSummary(project_id=ProjectId(value='9c3ec8ca-8871-499e-8403-b430784ca0dd'), project_name=Name(value='Project 9'), project_description=Description(value='Description 9'), project_tags=Tags(value=['tag9', 'tag10']), owner_id=UserId(value='2e86bc84-7bcb-4332-9712-ff76e597baba'), visibility=<Visibility.PRIVATE: 'private'>, created_at=DateTime(value=datetime.datetime(2024, 8, 19, 11, 40, 7, 604680, tzinfo=datetime.timezone(datetime.timedelta(seconds=7200)))), updated_at=DateTime(value=datetime.datetime(2024, 8, 19, 11, 40, 7, 604680, tzinfo=datetime.timezone(datetime.timedelta(seconds=7200))))),\n",
       "  [<Privilege.VIEW_PROJECT: 'view_project'>,\n",
       "   <Privilege.EDIT_PROJECT: 'edit_project'>,\n",
       "   <Privilege.MANAGE_PROJECT: 'manage_project'>,\n",
       "   <Privilege.FULL_ACCESS: 'full_access'>]),\n",
       " (ProjectSummary(project_id=ProjectId(value='28a73512-389c-44ca-9b56-f0350a77e273'), project_name=Name(value='Project 1'), project_description=Description(value='Description 1'), project_tags=Tags(value=['tag1', 'tag2']), owner_id=UserId(value='710ddd79-47d7-4477-b3f7-be20f326fa28'), visibility=<Visibility.PRIVATE: 'private'>, created_at=DateTime(value=datetime.datetime(2024, 8, 19, 11, 40, 25, 610977, tzinfo=datetime.timezone(datetime.timedelta(seconds=7200)))), updated_at=DateTime(value=datetime.datetime(2024, 8, 19, 11, 40, 25, 610977, tzinfo=datetime.timezone(datetime.timedelta(seconds=7200))))),\n",
       "  [<Privilege.VIEW_PROJECT: 'view_project'>,\n",
       "   <Privilege.EDIT_PROJECT: 'edit_project'>,\n",
       "   <Privilege.MANAGE_PROJECT: 'manage_project'>,\n",
       "   <Privilege.FULL_ACCESS: 'full_access'>]),\n",
       " (ProjectSummary(project_id=ProjectId(value='aa1645b6-780a-4948-bd18-87d1343f4f7a'), project_name=Name(value='Project 1'), project_description=Description(value='Description 1'), project_tags=Tags(value=['tag1', 'tag2']), owner_id=UserId(value='396b5cc8-93e0-47cf-bfe8-3238bc60992b'), visibility=<Visibility.PRIVATE: 'private'>, created_at=DateTime(value=datetime.datetime(2024, 8, 19, 11, 42, 14, 559930, tzinfo=datetime.timezone(datetime.timedelta(seconds=7200)))), updated_at=DateTime(value=datetime.datetime(2024, 8, 19, 11, 42, 14, 559930, tzinfo=datetime.timezone(datetime.timedelta(seconds=7200))))),\n",
       "  [<Privilege.VIEW_PROJECT: 'view_project'>,\n",
       "   <Privilege.EDIT_PROJECT: 'edit_project'>,\n",
       "   <Privilege.MANAGE_PROJECT: 'manage_project'>,\n",
       "   <Privilege.FULL_ACCESS: 'full_access'>]),\n",
       " (ProjectSummary(project_id=ProjectId(value='4c190e2a-effb-4103-859c-cc1a964e9dc4'), project_name=Name(value='Project 1'), project_description=Description(value='Description 1'), project_tags=Tags(value=['tag1', 'tag2']), owner_id=UserId(value='78a61eaa-0943-4187-9f71-2ab9dac542a5'), visibility=<Visibility.PRIVATE: 'private'>, created_at=DateTime(value=datetime.datetime(2024, 8, 19, 11, 42, 39, 534760, tzinfo=datetime.timezone(datetime.timedelta(seconds=7200)))), updated_at=DateTime(value=datetime.datetime(2024, 8, 19, 11, 42, 39, 534760, tzinfo=datetime.timezone(datetime.timedelta(seconds=7200))))),\n",
       "  [<Privilege.VIEW_PROJECT: 'view_project'>,\n",
       "   <Privilege.EDIT_PROJECT: 'edit_project'>,\n",
       "   <Privilege.MANAGE_PROJECT: 'manage_project'>,\n",
       "   <Privilege.FULL_ACCESS: 'full_access'>]),\n",
       " (ProjectSummary(project_id=ProjectId(value='9334b31f-3c71-4dfe-b3d3-2600ff110f3b'), project_name=Name(value='Rio Primero 123'), project_description=Description(value='Rio Primero Project in Argentina'), project_tags=Tags(value=['rio primero', 'argentina']), owner_id=UserId(value='3f8471e0-4f02-4e09-b1da-694fe232dea2'), visibility=<Visibility.PRIVATE: 'private'>, created_at=DateTime(value=datetime.datetime(2024, 8, 19, 12, 6, 38, 340174, tzinfo=datetime.timezone(datetime.timedelta(seconds=7200)))), updated_at=DateTime(value=datetime.datetime(2024, 8, 19, 12, 6, 38, 340174, tzinfo=datetime.timezone(datetime.timedelta(seconds=7200))))),\n",
       "  [<Privilege.VIEW_PROJECT: 'view_project'>,\n",
       "   <Privilege.EDIT_PROJECT: 'edit_project'>,\n",
       "   <Privilege.MANAGE_PROJECT: 'manage_project'>,\n",
       "   <Privilege.FULL_ACCESS: 'full_access'>]),\n",
       " (ProjectSummary(project_id=ProjectId(value='d91e2e77-a95f-4192-9d89-dcec7642f9c4'), project_name=Name(value='Rio Primero 123'), project_description=Description(value='Rio Primero Project in Argentina'), project_tags=Tags(value=['rio primero', 'argentina']), owner_id=UserId(value='3e1adbbb-d786-407f-b161-3b5536374a7e'), visibility=<Visibility.PRIVATE: 'private'>, created_at=DateTime(value=datetime.datetime(2024, 8, 19, 12, 23, 27, 870326, tzinfo=datetime.timezone(datetime.timedelta(seconds=7200)))), updated_at=DateTime(value=datetime.datetime(2024, 8, 19, 12, 23, 27, 870326, tzinfo=datetime.timezone(datetime.timedelta(seconds=7200))))),\n",
       "  [<Privilege.VIEW_PROJECT: 'view_project'>,\n",
       "   <Privilege.EDIT_PROJECT: 'edit_project'>,\n",
       "   <Privilege.MANAGE_PROJECT: 'manage_project'>,\n",
       "   <Privilege.FULL_ACCESS: 'full_access'>]),\n",
       " (ProjectSummary(project_id=ProjectId(value='891307a5-0027-4f03-8190-8b994eba1cdb'), project_name=Name(value='Project 0'), project_description=Description(value='Description 0'), project_tags=Tags(value=['tag0', 'tag1']), owner_id=UserId(value='9aacbea6-aaed-4672-9a01-e1ae73659d9a'), visibility=<Visibility.PRIVATE: 'private'>, created_at=DateTime(value=datetime.datetime(2024, 8, 19, 12, 24, 10, 148493, tzinfo=datetime.timezone(datetime.timedelta(seconds=7200)))), updated_at=DateTime(value=datetime.datetime(2024, 8, 19, 12, 24, 10, 148493, tzinfo=datetime.timezone(datetime.timedelta(seconds=7200))))),\n",
       "  [<Privilege.VIEW_PROJECT: 'view_project'>,\n",
       "   <Privilege.EDIT_PROJECT: 'edit_project'>,\n",
       "   <Privilege.MANAGE_PROJECT: 'manage_project'>,\n",
       "   <Privilege.FULL_ACCESS: 'full_access'>]),\n",
       " (ProjectSummary(project_id=ProjectId(value='42b4ed73-9e03-41c6-89e4-6b0ac0c42339'), project_name=Name(value='Project 1'), project_description=Description(value='Description 1'), project_tags=Tags(value=['tag1', 'tag2']), owner_id=UserId(value='77eb0cff-e79a-413d-a59b-01b5d086e57d'), visibility=<Visibility.PRIVATE: 'private'>, created_at=DateTime(value=datetime.datetime(2024, 8, 19, 12, 24, 10, 153813, tzinfo=datetime.timezone(datetime.timedelta(seconds=7200)))), updated_at=DateTime(value=datetime.datetime(2024, 8, 19, 12, 24, 10, 153813, tzinfo=datetime.timezone(datetime.timedelta(seconds=7200))))),\n",
       "  [<Privilege.VIEW_PROJECT: 'view_project'>,\n",
       "   <Privilege.EDIT_PROJECT: 'edit_project'>,\n",
       "   <Privilege.MANAGE_PROJECT: 'manage_project'>,\n",
       "   <Privilege.FULL_ACCESS: 'full_access'>]),\n",
       " (ProjectSummary(project_id=ProjectId(value='77116b03-e53e-4e89-91fe-45c263c94f0c'), project_name=Name(value='Project 2'), project_description=Description(value='Description 2'), project_tags=Tags(value=['tag2', 'tag3']), owner_id=UserId(value='ee3005ac-a3c8-4838-8f3e-063f3a477947'), visibility=<Visibility.PRIVATE: 'private'>, created_at=DateTime(value=datetime.datetime(2024, 8, 19, 12, 24, 10, 156249, tzinfo=datetime.timezone(datetime.timedelta(seconds=7200)))), updated_at=DateTime(value=datetime.datetime(2024, 8, 19, 12, 24, 10, 156249, tzinfo=datetime.timezone(datetime.timedelta(seconds=7200))))),\n",
       "  [<Privilege.VIEW_PROJECT: 'view_project'>,\n",
       "   <Privilege.EDIT_PROJECT: 'edit_project'>,\n",
       "   <Privilege.MANAGE_PROJECT: 'manage_project'>,\n",
       "   <Privilege.FULL_ACCESS: 'full_access'>]),\n",
       " (ProjectSummary(project_id=ProjectId(value='fe24050f-c015-4ec1-85b9-f345595609f6'), project_name=Name(value='Project 3'), project_description=Description(value='Description 3'), project_tags=Tags(value=['tag3', 'tag4']), owner_id=UserId(value='e5c4dada-622f-4981-b8af-1e5e5ed9b8bd'), visibility=<Visibility.PRIVATE: 'private'>, created_at=DateTime(value=datetime.datetime(2024, 8, 19, 12, 24, 10, 158539, tzinfo=datetime.timezone(datetime.timedelta(seconds=7200)))), updated_at=DateTime(value=datetime.datetime(2024, 8, 19, 12, 24, 10, 158539, tzinfo=datetime.timezone(datetime.timedelta(seconds=7200))))),\n",
       "  [<Privilege.VIEW_PROJECT: 'view_project'>,\n",
       "   <Privilege.EDIT_PROJECT: 'edit_project'>,\n",
       "   <Privilege.MANAGE_PROJECT: 'manage_project'>,\n",
       "   <Privilege.FULL_ACCESS: 'full_access'>]),\n",
       " (ProjectSummary(project_id=ProjectId(value='0bdd860d-7437-4767-b864-12fc35e1b2db'), project_name=Name(value='Project 4'), project_description=Description(value='Description 4'), project_tags=Tags(value=['tag4', 'tag5']), owner_id=UserId(value='9d2ab99f-91d2-49fe-90ce-e97b05da8e93'), visibility=<Visibility.PRIVATE: 'private'>, created_at=DateTime(value=datetime.datetime(2024, 8, 19, 12, 24, 10, 160917, tzinfo=datetime.timezone(datetime.timedelta(seconds=7200)))), updated_at=DateTime(value=datetime.datetime(2024, 8, 19, 12, 24, 10, 160917, tzinfo=datetime.timezone(datetime.timedelta(seconds=7200))))),\n",
       "  [<Privilege.VIEW_PROJECT: 'view_project'>,\n",
       "   <Privilege.EDIT_PROJECT: 'edit_project'>,\n",
       "   <Privilege.MANAGE_PROJECT: 'manage_project'>,\n",
       "   <Privilege.FULL_ACCESS: 'full_access'>]),\n",
       " (ProjectSummary(project_id=ProjectId(value='7b40ac54-18ad-4ec2-bc60-26ef28c77f81'), project_name=Name(value='Project 5'), project_description=Description(value='Description 5'), project_tags=Tags(value=['tag5', 'tag6']), owner_id=UserId(value='bbaf9d33-ac06-4484-ae12-8c859f602dcd'), visibility=<Visibility.PRIVATE: 'private'>, created_at=DateTime(value=datetime.datetime(2024, 8, 19, 12, 24, 10, 163455, tzinfo=datetime.timezone(datetime.timedelta(seconds=7200)))), updated_at=DateTime(value=datetime.datetime(2024, 8, 19, 12, 24, 10, 163455, tzinfo=datetime.timezone(datetime.timedelta(seconds=7200))))),\n",
       "  [<Privilege.VIEW_PROJECT: 'view_project'>,\n",
       "   <Privilege.EDIT_PROJECT: 'edit_project'>,\n",
       "   <Privilege.MANAGE_PROJECT: 'manage_project'>,\n",
       "   <Privilege.FULL_ACCESS: 'full_access'>]),\n",
       " (ProjectSummary(project_id=ProjectId(value='c9853104-637c-4e4e-81b7-057e2c53f0ca'), project_name=Name(value='Project 6'), project_description=Description(value='Description 6'), project_tags=Tags(value=['tag6', 'tag7']), owner_id=UserId(value='b3d35114-bdb5-4a6e-8a33-127252a72032'), visibility=<Visibility.PRIVATE: 'private'>, created_at=DateTime(value=datetime.datetime(2024, 8, 19, 12, 24, 10, 166126, tzinfo=datetime.timezone(datetime.timedelta(seconds=7200)))), updated_at=DateTime(value=datetime.datetime(2024, 8, 19, 12, 24, 10, 166126, tzinfo=datetime.timezone(datetime.timedelta(seconds=7200))))),\n",
       "  [<Privilege.VIEW_PROJECT: 'view_project'>,\n",
       "   <Privilege.EDIT_PROJECT: 'edit_project'>,\n",
       "   <Privilege.MANAGE_PROJECT: 'manage_project'>,\n",
       "   <Privilege.FULL_ACCESS: 'full_access'>]),\n",
       " (ProjectSummary(project_id=ProjectId(value='13a3fff6-c833-4156-bc4e-24cdb5eb492a'), project_name=Name(value='Project 7'), project_description=Description(value='Description 7'), project_tags=Tags(value=['tag7', 'tag8']), owner_id=UserId(value='751ab2a6-09eb-447e-8a88-41dfbaa3ef73'), visibility=<Visibility.PRIVATE: 'private'>, created_at=DateTime(value=datetime.datetime(2024, 8, 19, 12, 24, 10, 168802, tzinfo=datetime.timezone(datetime.timedelta(seconds=7200)))), updated_at=DateTime(value=datetime.datetime(2024, 8, 19, 12, 24, 10, 168802, tzinfo=datetime.timezone(datetime.timedelta(seconds=7200))))),\n",
       "  [<Privilege.VIEW_PROJECT: 'view_project'>,\n",
       "   <Privilege.EDIT_PROJECT: 'edit_project'>,\n",
       "   <Privilege.MANAGE_PROJECT: 'manage_project'>,\n",
       "   <Privilege.FULL_ACCESS: 'full_access'>]),\n",
       " (ProjectSummary(project_id=ProjectId(value='e405ddb5-3268-4b1f-9dfa-cc15578879d6'), project_name=Name(value='Project 8'), project_description=Description(value='Description 8'), project_tags=Tags(value=['tag8', 'tag9']), owner_id=UserId(value='0d281a80-bb6b-4998-8dd4-d84391a1c5bc'), visibility=<Visibility.PRIVATE: 'private'>, created_at=DateTime(value=datetime.datetime(2024, 8, 19, 12, 24, 10, 171479, tzinfo=datetime.timezone(datetime.timedelta(seconds=7200)))), updated_at=DateTime(value=datetime.datetime(2024, 8, 19, 12, 24, 10, 171479, tzinfo=datetime.timezone(datetime.timedelta(seconds=7200))))),\n",
       "  [<Privilege.VIEW_PROJECT: 'view_project'>,\n",
       "   <Privilege.EDIT_PROJECT: 'edit_project'>,\n",
       "   <Privilege.MANAGE_PROJECT: 'manage_project'>,\n",
       "   <Privilege.FULL_ACCESS: 'full_access'>]),\n",
       " (ProjectSummary(project_id=ProjectId(value='7be6f81f-c94f-424d-81e2-6aa3e5dfac72'), project_name=Name(value='Project 9'), project_description=Description(value='Description 9'), project_tags=Tags(value=['tag9', 'tag10']), owner_id=UserId(value='facee9bc-2e01-458b-897e-c8d4fcb648ce'), visibility=<Visibility.PRIVATE: 'private'>, created_at=DateTime(value=datetime.datetime(2024, 8, 19, 12, 24, 10, 174082, tzinfo=datetime.timezone(datetime.timedelta(seconds=7200)))), updated_at=DateTime(value=datetime.datetime(2024, 8, 19, 12, 24, 10, 174082, tzinfo=datetime.timezone(datetime.timedelta(seconds=7200))))),\n",
       "  [<Privilege.VIEW_PROJECT: 'view_project'>,\n",
       "   <Privilege.EDIT_PROJECT: 'edit_project'>,\n",
       "   <Privilege.MANAGE_PROJECT: 'manage_project'>,\n",
       "   <Privilege.FULL_ACCESS: 'full_access'>]),\n",
       " (ProjectSummary(project_id=ProjectId(value='e62e5ad3-70d8-44a0-9e6e-000db17a7e14'), project_name=Name(value='Project 1'), project_description=Description(value='Description 1'), project_tags=Tags(value=['tag1', 'tag2']), owner_id=UserId(value='1f5311c8-9b29-49e9-bbc9-3d74b39d8c7a'), visibility=<Visibility.PRIVATE: 'private'>, created_at=DateTime(value=datetime.datetime(2024, 8, 19, 12, 24, 25, 25677, tzinfo=datetime.timezone(datetime.timedelta(seconds=7200)))), updated_at=DateTime(value=datetime.datetime(2024, 8, 19, 12, 24, 25, 25677, tzinfo=datetime.timezone(datetime.timedelta(seconds=7200))))),\n",
       "  [<Privilege.VIEW_PROJECT: 'view_project'>,\n",
       "   <Privilege.EDIT_PROJECT: 'edit_project'>,\n",
       "   <Privilege.MANAGE_PROJECT: 'manage_project'>,\n",
       "   <Privilege.FULL_ACCESS: 'full_access'>]),\n",
       " (ProjectSummary(project_id=ProjectId(value='3ba47adc-f66f-4fe4-bdf3-90499e3c52e5'), project_name=Name(value='Project 1'), project_description=Description(value='Description 1'), project_tags=Tags(value=['tag1', 'tag2']), owner_id=UserId(value='b00d0816-1ea2-4929-ab69-153eb9c70d9a'), visibility=<Visibility.PRIVATE: 'private'>, created_at=DateTime(value=datetime.datetime(2024, 8, 19, 13, 8, 13, 364965, tzinfo=datetime.timezone(datetime.timedelta(seconds=7200)))), updated_at=DateTime(value=datetime.datetime(2024, 8, 19, 13, 8, 13, 364965, tzinfo=datetime.timezone(datetime.timedelta(seconds=7200))))),\n",
       "  [<Privilege.VIEW_PROJECT: 'view_project'>,\n",
       "   <Privilege.EDIT_PROJECT: 'edit_project'>,\n",
       "   <Privilege.MANAGE_PROJECT: 'manage_project'>,\n",
       "   <Privilege.FULL_ACCESS: 'full_access'>]),\n",
       " (ProjectSummary(project_id=ProjectId(value='871f2cd1-f0e4-434c-b553-745161b75e7d'), project_name=Name(value='Project 1'), project_description=Description(value='Description 1'), project_tags=Tags(value=['tag1', 'tag2']), owner_id=UserId(value='47949c3a-1f18-48e1-8fe6-43553752d863'), visibility=<Visibility.PRIVATE: 'private'>, created_at=DateTime(value=datetime.datetime(2024, 8, 19, 13, 9, 24, 611092, tzinfo=datetime.timezone(datetime.timedelta(seconds=7200)))), updated_at=DateTime(value=datetime.datetime(2024, 8, 19, 13, 9, 24, 611092, tzinfo=datetime.timezone(datetime.timedelta(seconds=7200))))),\n",
       "  [<Privilege.VIEW_PROJECT: 'view_project'>,\n",
       "   <Privilege.EDIT_PROJECT: 'edit_project'>,\n",
       "   <Privilege.MANAGE_PROJECT: 'manage_project'>,\n",
       "   <Privilege.FULL_ACCESS: 'full_access'>]),\n",
       " (ProjectSummary(project_id=ProjectId(value='70bea41f-33ea-498e-9929-945a3c249f15'), project_name=Name(value='Test'), project_description=Description(value=''), project_tags=Tags(value=[]), owner_id=UserId(value='2e7a05ff-90f9-49a0-8d1a-fc28d8f64174'), visibility=<Visibility.PRIVATE: 'private'>, created_at=DateTime(value=datetime.datetime(2024, 8, 19, 13, 10, 3, 337452, tzinfo=datetime.timezone(datetime.timedelta(seconds=7200)))), updated_at=DateTime(value=datetime.datetime(2024, 8, 19, 13, 10, 3, 337452, tzinfo=datetime.timezone(datetime.timedelta(seconds=7200))))),\n",
       "  [<Privilege.VIEW_PROJECT: 'view_project'>,\n",
       "   <Privilege.EDIT_PROJECT: 'edit_project'>,\n",
       "   <Privilege.MANAGE_PROJECT: 'manage_project'>,\n",
       "   <Privilege.FULL_ACCESS: 'full_access'>]),\n",
       " (ProjectSummary(project_id=ProjectId(value='411651b3-8339-43f5-9ab8-78226b8f9eef'), project_name=Name(value='Rio Primero 123'), project_description=Description(value='Rio Primero Project in Argentina'), project_tags=Tags(value=['rio primero', 'argentina']), owner_id=UserId(value='128fa16e-a4ba-48f8-aed0-133da4c52c13'), visibility=<Visibility.PRIVATE: 'private'>, created_at=DateTime(value=datetime.datetime(2024, 8, 19, 22, 2, 5, 151003, tzinfo=datetime.timezone(datetime.timedelta(seconds=7200)))), updated_at=DateTime(value=datetime.datetime(2024, 8, 19, 22, 2, 5, 151003, tzinfo=datetime.timezone(datetime.timedelta(seconds=7200))))),\n",
       "  [<Privilege.VIEW_PROJECT: 'view_project'>,\n",
       "   <Privilege.EDIT_PROJECT: 'edit_project'>,\n",
       "   <Privilege.MANAGE_PROJECT: 'manage_project'>,\n",
       "   <Privilege.FULL_ACCESS: 'full_access'>]),\n",
       " (ProjectSummary(project_id=ProjectId(value='0ceed22a-f7b2-4e8a-aaaf-9f4810107ba2'), project_name=Name(value='Project 0'), project_description=Description(value='Description 0'), project_tags=Tags(value=['tag0', 'tag1']), owner_id=UserId(value='5f0ba75c-4135-41b0-b5d5-b86c9149a82c'), visibility=<Visibility.PRIVATE: 'private'>, created_at=DateTime(value=datetime.datetime(2024, 8, 19, 22, 2, 48, 125565, tzinfo=datetime.timezone(datetime.timedelta(seconds=7200)))), updated_at=DateTime(value=datetime.datetime(2024, 8, 19, 22, 2, 48, 125565, tzinfo=datetime.timezone(datetime.timedelta(seconds=7200))))),\n",
       "  [<Privilege.VIEW_PROJECT: 'view_project'>,\n",
       "   <Privilege.EDIT_PROJECT: 'edit_project'>,\n",
       "   <Privilege.MANAGE_PROJECT: 'manage_project'>,\n",
       "   <Privilege.FULL_ACCESS: 'full_access'>]),\n",
       " (ProjectSummary(project_id=ProjectId(value='c736e3dd-3a99-49a7-a665-929b2c5a9c82'), project_name=Name(value='Project 1'), project_description=Description(value='Description 1'), project_tags=Tags(value=['tag1', 'tag2']), owner_id=UserId(value='1214a501-3b3d-4b97-a80c-6446e7ee1bda'), visibility=<Visibility.PRIVATE: 'private'>, created_at=DateTime(value=datetime.datetime(2024, 8, 19, 22, 2, 48, 131160, tzinfo=datetime.timezone(datetime.timedelta(seconds=7200)))), updated_at=DateTime(value=datetime.datetime(2024, 8, 19, 22, 2, 48, 131160, tzinfo=datetime.timezone(datetime.timedelta(seconds=7200))))),\n",
       "  [<Privilege.VIEW_PROJECT: 'view_project'>,\n",
       "   <Privilege.EDIT_PROJECT: 'edit_project'>,\n",
       "   <Privilege.MANAGE_PROJECT: 'manage_project'>,\n",
       "   <Privilege.FULL_ACCESS: 'full_access'>]),\n",
       " (ProjectSummary(project_id=ProjectId(value='0a9eddb9-5377-4d78-b861-583546b29f7a'), project_name=Name(value='Project 2'), project_description=Description(value='Description 2'), project_tags=Tags(value=['tag2', 'tag3']), owner_id=UserId(value='55b5ac7f-516a-4715-9a6f-b118a95bb64b'), visibility=<Visibility.PRIVATE: 'private'>, created_at=DateTime(value=datetime.datetime(2024, 8, 19, 22, 2, 48, 134214, tzinfo=datetime.timezone(datetime.timedelta(seconds=7200)))), updated_at=DateTime(value=datetime.datetime(2024, 8, 19, 22, 2, 48, 134214, tzinfo=datetime.timezone(datetime.timedelta(seconds=7200))))),\n",
       "  [<Privilege.VIEW_PROJECT: 'view_project'>,\n",
       "   <Privilege.EDIT_PROJECT: 'edit_project'>,\n",
       "   <Privilege.MANAGE_PROJECT: 'manage_project'>,\n",
       "   <Privilege.FULL_ACCESS: 'full_access'>]),\n",
       " (ProjectSummary(project_id=ProjectId(value='c34a0522-228c-4f42-9a1e-55e039de3d11'), project_name=Name(value='Project 3'), project_description=Description(value='Description 3'), project_tags=Tags(value=['tag3', 'tag4']), owner_id=UserId(value='6756987d-c18b-4402-aad9-22fa2f1d5bcc'), visibility=<Visibility.PRIVATE: 'private'>, created_at=DateTime(value=datetime.datetime(2024, 8, 19, 22, 2, 48, 137009, tzinfo=datetime.timezone(datetime.timedelta(seconds=7200)))), updated_at=DateTime(value=datetime.datetime(2024, 8, 19, 22, 2, 48, 137009, tzinfo=datetime.timezone(datetime.timedelta(seconds=7200))))),\n",
       "  [<Privilege.VIEW_PROJECT: 'view_project'>,\n",
       "   <Privilege.EDIT_PROJECT: 'edit_project'>,\n",
       "   <Privilege.MANAGE_PROJECT: 'manage_project'>,\n",
       "   <Privilege.FULL_ACCESS: 'full_access'>]),\n",
       " (ProjectSummary(project_id=ProjectId(value='db67d381-1f36-4229-8a77-16fdb59c1e43'), project_name=Name(value='Project 4'), project_description=Description(value='Description 4'), project_tags=Tags(value=['tag4', 'tag5']), owner_id=UserId(value='89c613e4-091d-4967-9f81-d3bb775a974b'), visibility=<Visibility.PRIVATE: 'private'>, created_at=DateTime(value=datetime.datetime(2024, 8, 19, 22, 2, 48, 139975, tzinfo=datetime.timezone(datetime.timedelta(seconds=7200)))), updated_at=DateTime(value=datetime.datetime(2024, 8, 19, 22, 2, 48, 139975, tzinfo=datetime.timezone(datetime.timedelta(seconds=7200))))),\n",
       "  [<Privilege.VIEW_PROJECT: 'view_project'>,\n",
       "   <Privilege.EDIT_PROJECT: 'edit_project'>,\n",
       "   <Privilege.MANAGE_PROJECT: 'manage_project'>,\n",
       "   <Privilege.FULL_ACCESS: 'full_access'>]),\n",
       " (ProjectSummary(project_id=ProjectId(value='e4842875-f68e-43cb-9d27-a79f089bc55d'), project_name=Name(value='Project 5'), project_description=Description(value='Description 5'), project_tags=Tags(value=['tag5', 'tag6']), owner_id=UserId(value='22708b5b-9951-40d2-b3bc-164cfd9ffcca'), visibility=<Visibility.PRIVATE: 'private'>, created_at=DateTime(value=datetime.datetime(2024, 8, 19, 22, 2, 48, 143044, tzinfo=datetime.timezone(datetime.timedelta(seconds=7200)))), updated_at=DateTime(value=datetime.datetime(2024, 8, 19, 22, 2, 48, 143044, tzinfo=datetime.timezone(datetime.timedelta(seconds=7200))))),\n",
       "  [<Privilege.VIEW_PROJECT: 'view_project'>,\n",
       "   <Privilege.EDIT_PROJECT: 'edit_project'>,\n",
       "   <Privilege.MANAGE_PROJECT: 'manage_project'>,\n",
       "   <Privilege.FULL_ACCESS: 'full_access'>]),\n",
       " (ProjectSummary(project_id=ProjectId(value='a0081fac-e17e-4759-aa04-b97bb5bb30f1'), project_name=Name(value='Project 6'), project_description=Description(value='Description 6'), project_tags=Tags(value=['tag6', 'tag7']), owner_id=UserId(value='873bdb10-56ec-487b-a91a-a9a203e6fbf9'), visibility=<Visibility.PRIVATE: 'private'>, created_at=DateTime(value=datetime.datetime(2024, 8, 19, 22, 2, 48, 146096, tzinfo=datetime.timezone(datetime.timedelta(seconds=7200)))), updated_at=DateTime(value=datetime.datetime(2024, 8, 19, 22, 2, 48, 146096, tzinfo=datetime.timezone(datetime.timedelta(seconds=7200))))),\n",
       "  [<Privilege.VIEW_PROJECT: 'view_project'>,\n",
       "   <Privilege.EDIT_PROJECT: 'edit_project'>,\n",
       "   <Privilege.MANAGE_PROJECT: 'manage_project'>,\n",
       "   <Privilege.FULL_ACCESS: 'full_access'>]),\n",
       " (ProjectSummary(project_id=ProjectId(value='907cb036-7233-4991-9d24-ede73fa00105'), project_name=Name(value='Project 7'), project_description=Description(value='Description 7'), project_tags=Tags(value=['tag7', 'tag8']), owner_id=UserId(value='bbd19abf-3eeb-460b-84b7-c8ef0f8befef'), visibility=<Visibility.PRIVATE: 'private'>, created_at=DateTime(value=datetime.datetime(2024, 8, 19, 22, 2, 48, 149337, tzinfo=datetime.timezone(datetime.timedelta(seconds=7200)))), updated_at=DateTime(value=datetime.datetime(2024, 8, 19, 22, 2, 48, 149337, tzinfo=datetime.timezone(datetime.timedelta(seconds=7200))))),\n",
       "  [<Privilege.VIEW_PROJECT: 'view_project'>,\n",
       "   <Privilege.EDIT_PROJECT: 'edit_project'>,\n",
       "   <Privilege.MANAGE_PROJECT: 'manage_project'>,\n",
       "   <Privilege.FULL_ACCESS: 'full_access'>]),\n",
       " (ProjectSummary(project_id=ProjectId(value='d8e3e9ad-355f-4889-9078-126095f5a198'), project_name=Name(value='Project 8'), project_description=Description(value='Description 8'), project_tags=Tags(value=['tag8', 'tag9']), owner_id=UserId(value='26f14635-3773-4583-990b-76ceeccdface'), visibility=<Visibility.PRIVATE: 'private'>, created_at=DateTime(value=datetime.datetime(2024, 8, 19, 22, 2, 48, 152464, tzinfo=datetime.timezone(datetime.timedelta(seconds=7200)))), updated_at=DateTime(value=datetime.datetime(2024, 8, 19, 22, 2, 48, 152464, tzinfo=datetime.timezone(datetime.timedelta(seconds=7200))))),\n",
       "  [<Privilege.VIEW_PROJECT: 'view_project'>,\n",
       "   <Privilege.EDIT_PROJECT: 'edit_project'>,\n",
       "   <Privilege.MANAGE_PROJECT: 'manage_project'>,\n",
       "   <Privilege.FULL_ACCESS: 'full_access'>]),\n",
       " (ProjectSummary(project_id=ProjectId(value='f693932e-3cf6-4ade-94e5-42eeae5abd4d'), project_name=Name(value='Project 9'), project_description=Description(value='Description 9'), project_tags=Tags(value=['tag9', 'tag10']), owner_id=UserId(value='e49f85ae-534e-45b0-abd7-24858b5a139c'), visibility=<Visibility.PRIVATE: 'private'>, created_at=DateTime(value=datetime.datetime(2024, 8, 19, 22, 2, 48, 158737, tzinfo=datetime.timezone(datetime.timedelta(seconds=7200)))), updated_at=DateTime(value=datetime.datetime(2024, 8, 19, 22, 2, 48, 158737, tzinfo=datetime.timezone(datetime.timedelta(seconds=7200))))),\n",
       "  [<Privilege.VIEW_PROJECT: 'view_project'>,\n",
       "   <Privilege.EDIT_PROJECT: 'edit_project'>,\n",
       "   <Privilege.MANAGE_PROJECT: 'manage_project'>,\n",
       "   <Privilege.FULL_ACCESS: 'full_access'>]),\n",
       " (ProjectSummary(project_id=ProjectId(value='e0e61930-f594-4de6-8f2a-9aa3ff4fecc9'), project_name=Name(value='Project 1'), project_description=Description(value='Description 1'), project_tags=Tags(value=['tag1', 'tag2']), owner_id=UserId(value='06eff854-ecd3-4eed-b957-d1157998f0b3'), visibility=<Visibility.PRIVATE: 'private'>, created_at=DateTime(value=datetime.datetime(2024, 8, 19, 22, 3, 3, 505841, tzinfo=datetime.timezone(datetime.timedelta(seconds=7200)))), updated_at=DateTime(value=datetime.datetime(2024, 8, 19, 22, 3, 3, 505841, tzinfo=datetime.timezone(datetime.timedelta(seconds=7200))))),\n",
       "  [<Privilege.VIEW_PROJECT: 'view_project'>,\n",
       "   <Privilege.EDIT_PROJECT: 'edit_project'>,\n",
       "   <Privilege.MANAGE_PROJECT: 'manage_project'>,\n",
       "   <Privilege.FULL_ACCESS: 'full_access'>]),\n",
       " (ProjectSummary(project_id=ProjectId(value='f4cdcfea-c031-4314-96c5-7d6676c873f1'), project_name=Name(value='Rio Primero 123'), project_description=Description(value='Rio Primero Project in Argentina'), project_tags=Tags(value=['rio primero', 'argentina']), owner_id=UserId(value='d875e965-ab94-4e45-8b96-73bd0201d7bf'), visibility=<Visibility.PRIVATE: 'private'>, created_at=DateTime(value=datetime.datetime(2024, 8, 19, 22, 11, 23, 97430, tzinfo=datetime.timezone(datetime.timedelta(seconds=7200)))), updated_at=DateTime(value=datetime.datetime(2024, 8, 19, 22, 11, 23, 97430, tzinfo=datetime.timezone(datetime.timedelta(seconds=7200))))),\n",
       "  [<Privilege.VIEW_PROJECT: 'view_project'>,\n",
       "   <Privilege.EDIT_PROJECT: 'edit_project'>,\n",
       "   <Privilege.MANAGE_PROJECT: 'manage_project'>,\n",
       "   <Privilege.FULL_ACCESS: 'full_access'>]),\n",
       " (ProjectSummary(project_id=ProjectId(value='e54797c4-dc0d-4a1e-afa9-21062ad1fe6f'), project_name=Name(value='Project 0'), project_description=Description(value='Description 0'), project_tags=Tags(value=['tag0', 'tag1']), owner_id=UserId(value='06c7cbe9-b26b-4f3d-8485-acaeb71f9398'), visibility=<Visibility.PRIVATE: 'private'>, created_at=DateTime(value=datetime.datetime(2024, 8, 19, 22, 12, 6, 458733, tzinfo=datetime.timezone(datetime.timedelta(seconds=7200)))), updated_at=DateTime(value=datetime.datetime(2024, 8, 19, 22, 12, 6, 458733, tzinfo=datetime.timezone(datetime.timedelta(seconds=7200))))),\n",
       "  [<Privilege.VIEW_PROJECT: 'view_project'>,\n",
       "   <Privilege.EDIT_PROJECT: 'edit_project'>,\n",
       "   <Privilege.MANAGE_PROJECT: 'manage_project'>,\n",
       "   <Privilege.FULL_ACCESS: 'full_access'>]),\n",
       " (ProjectSummary(project_id=ProjectId(value='21e268df-6f6d-41fd-955c-77c5d86aca31'), project_name=Name(value='Project 1'), project_description=Description(value='Description 1'), project_tags=Tags(value=['tag1', 'tag2']), owner_id=UserId(value='879e93b3-c6b1-44b2-918e-057b395cdde0'), visibility=<Visibility.PRIVATE: 'private'>, created_at=DateTime(value=datetime.datetime(2024, 8, 19, 22, 12, 6, 469164, tzinfo=datetime.timezone(datetime.timedelta(seconds=7200)))), updated_at=DateTime(value=datetime.datetime(2024, 8, 19, 22, 12, 6, 469164, tzinfo=datetime.timezone(datetime.timedelta(seconds=7200))))),\n",
       "  [<Privilege.VIEW_PROJECT: 'view_project'>,\n",
       "   <Privilege.EDIT_PROJECT: 'edit_project'>,\n",
       "   <Privilege.MANAGE_PROJECT: 'manage_project'>,\n",
       "   <Privilege.FULL_ACCESS: 'full_access'>]),\n",
       " (ProjectSummary(project_id=ProjectId(value='c55e715a-445c-41a2-a3d4-d92b160efeb2'), project_name=Name(value='Project 2'), project_description=Description(value='Description 2'), project_tags=Tags(value=['tag2', 'tag3']), owner_id=UserId(value='73e80760-2ce6-4ff9-81d2-3c4a294862e3'), visibility=<Visibility.PRIVATE: 'private'>, created_at=DateTime(value=datetime.datetime(2024, 8, 19, 22, 12, 6, 471850, tzinfo=datetime.timezone(datetime.timedelta(seconds=7200)))), updated_at=DateTime(value=datetime.datetime(2024, 8, 19, 22, 12, 6, 471850, tzinfo=datetime.timezone(datetime.timedelta(seconds=7200))))),\n",
       "  [<Privilege.VIEW_PROJECT: 'view_project'>,\n",
       "   <Privilege.EDIT_PROJECT: 'edit_project'>,\n",
       "   <Privilege.MANAGE_PROJECT: 'manage_project'>,\n",
       "   <Privilege.FULL_ACCESS: 'full_access'>]),\n",
       " (ProjectSummary(project_id=ProjectId(value='bad823fa-ecea-4c42-9094-80e5da1cf4e0'), project_name=Name(value='Project 3'), project_description=Description(value='Description 3'), project_tags=Tags(value=['tag3', 'tag4']), owner_id=UserId(value='00a400a6-cbd5-4580-a953-8ffa6965a0ae'), visibility=<Visibility.PRIVATE: 'private'>, created_at=DateTime(value=datetime.datetime(2024, 8, 19, 22, 12, 6, 474538, tzinfo=datetime.timezone(datetime.timedelta(seconds=7200)))), updated_at=DateTime(value=datetime.datetime(2024, 8, 19, 22, 12, 6, 474538, tzinfo=datetime.timezone(datetime.timedelta(seconds=7200))))),\n",
       "  [<Privilege.VIEW_PROJECT: 'view_project'>,\n",
       "   <Privilege.EDIT_PROJECT: 'edit_project'>,\n",
       "   <Privilege.MANAGE_PROJECT: 'manage_project'>,\n",
       "   <Privilege.FULL_ACCESS: 'full_access'>]),\n",
       " (ProjectSummary(project_id=ProjectId(value='4febe9ad-674f-43e7-81d3-9aca7f2a6fbd'), project_name=Name(value='Project 4'), project_description=Description(value='Description 4'), project_tags=Tags(value=['tag4', 'tag5']), owner_id=UserId(value='39471206-3d83-4cf1-85c8-719435efa171'), visibility=<Visibility.PRIVATE: 'private'>, created_at=DateTime(value=datetime.datetime(2024, 8, 19, 22, 12, 6, 477706, tzinfo=datetime.timezone(datetime.timedelta(seconds=7200)))), updated_at=DateTime(value=datetime.datetime(2024, 8, 19, 22, 12, 6, 477706, tzinfo=datetime.timezone(datetime.timedelta(seconds=7200))))),\n",
       "  [<Privilege.VIEW_PROJECT: 'view_project'>,\n",
       "   <Privilege.EDIT_PROJECT: 'edit_project'>,\n",
       "   <Privilege.MANAGE_PROJECT: 'manage_project'>,\n",
       "   <Privilege.FULL_ACCESS: 'full_access'>]),\n",
       " (ProjectSummary(project_id=ProjectId(value='43f6545d-26e0-4b12-9932-a0c48fd18928'), project_name=Name(value='Project 5'), project_description=Description(value='Description 5'), project_tags=Tags(value=['tag5', 'tag6']), owner_id=UserId(value='c97e3159-f6f2-4734-baf2-34ca32e4a239'), visibility=<Visibility.PRIVATE: 'private'>, created_at=DateTime(value=datetime.datetime(2024, 8, 19, 22, 12, 6, 479956, tzinfo=datetime.timezone(datetime.timedelta(seconds=7200)))), updated_at=DateTime(value=datetime.datetime(2024, 8, 19, 22, 12, 6, 479956, tzinfo=datetime.timezone(datetime.timedelta(seconds=7200))))),\n",
       "  [<Privilege.VIEW_PROJECT: 'view_project'>,\n",
       "   <Privilege.EDIT_PROJECT: 'edit_project'>,\n",
       "   <Privilege.MANAGE_PROJECT: 'manage_project'>,\n",
       "   <Privilege.FULL_ACCESS: 'full_access'>]),\n",
       " (ProjectSummary(project_id=ProjectId(value='4a55a2cc-edf6-4323-9b36-ba10f58bff20'), project_name=Name(value='Project 6'), project_description=Description(value='Description 6'), project_tags=Tags(value=['tag6', 'tag7']), owner_id=UserId(value='399722c1-db21-48eb-8ac6-eee97a3fe839'), visibility=<Visibility.PRIVATE: 'private'>, created_at=DateTime(value=datetime.datetime(2024, 8, 19, 22, 12, 6, 482389, tzinfo=datetime.timezone(datetime.timedelta(seconds=7200)))), updated_at=DateTime(value=datetime.datetime(2024, 8, 19, 22, 12, 6, 482389, tzinfo=datetime.timezone(datetime.timedelta(seconds=7200))))),\n",
       "  [<Privilege.VIEW_PROJECT: 'view_project'>,\n",
       "   <Privilege.EDIT_PROJECT: 'edit_project'>,\n",
       "   <Privilege.MANAGE_PROJECT: 'manage_project'>,\n",
       "   <Privilege.FULL_ACCESS: 'full_access'>]),\n",
       " (ProjectSummary(project_id=ProjectId(value='1a30c83d-89fd-47c6-8b79-2b903f7e6233'), project_name=Name(value='Project 7'), project_description=Description(value='Description 7'), project_tags=Tags(value=['tag7', 'tag8']), owner_id=UserId(value='b6d37c30-90e2-4585-8c84-ac1d2d68edaa'), visibility=<Visibility.PRIVATE: 'private'>, created_at=DateTime(value=datetime.datetime(2024, 8, 19, 22, 12, 6, 485074, tzinfo=datetime.timezone(datetime.timedelta(seconds=7200)))), updated_at=DateTime(value=datetime.datetime(2024, 8, 19, 22, 12, 6, 485074, tzinfo=datetime.timezone(datetime.timedelta(seconds=7200))))),\n",
       "  [<Privilege.VIEW_PROJECT: 'view_project'>,\n",
       "   <Privilege.EDIT_PROJECT: 'edit_project'>,\n",
       "   <Privilege.MANAGE_PROJECT: 'manage_project'>,\n",
       "   <Privilege.FULL_ACCESS: 'full_access'>]),\n",
       " (ProjectSummary(project_id=ProjectId(value='ff55c74c-e95f-43ce-85b8-e353a24e4455'), project_name=Name(value='Project 8'), project_description=Description(value='Description 8'), project_tags=Tags(value=['tag8', 'tag9']), owner_id=UserId(value='36ccb7f2-65f7-4742-9894-3ca9bd7091aa'), visibility=<Visibility.PRIVATE: 'private'>, created_at=DateTime(value=datetime.datetime(2024, 8, 19, 22, 12, 6, 487967, tzinfo=datetime.timezone(datetime.timedelta(seconds=7200)))), updated_at=DateTime(value=datetime.datetime(2024, 8, 19, 22, 12, 6, 487967, tzinfo=datetime.timezone(datetime.timedelta(seconds=7200))))),\n",
       "  [<Privilege.VIEW_PROJECT: 'view_project'>,\n",
       "   <Privilege.EDIT_PROJECT: 'edit_project'>,\n",
       "   <Privilege.MANAGE_PROJECT: 'manage_project'>,\n",
       "   <Privilege.FULL_ACCESS: 'full_access'>]),\n",
       " (ProjectSummary(project_id=ProjectId(value='a9185f8e-789f-4509-bcda-835fb4eecd30'), project_name=Name(value='Project 9'), project_description=Description(value='Description 9'), project_tags=Tags(value=['tag9', 'tag10']), owner_id=UserId(value='38ff3b23-204f-4293-9896-674e479e5bb4'), visibility=<Visibility.PRIVATE: 'private'>, created_at=DateTime(value=datetime.datetime(2024, 8, 19, 22, 12, 6, 490922, tzinfo=datetime.timezone(datetime.timedelta(seconds=7200)))), updated_at=DateTime(value=datetime.datetime(2024, 8, 19, 22, 12, 6, 490922, tzinfo=datetime.timezone(datetime.timedelta(seconds=7200))))),\n",
       "  [<Privilege.VIEW_PROJECT: 'view_project'>,\n",
       "   <Privilege.EDIT_PROJECT: 'edit_project'>,\n",
       "   <Privilege.MANAGE_PROJECT: 'manage_project'>,\n",
       "   <Privilege.FULL_ACCESS: 'full_access'>]),\n",
       " (ProjectSummary(project_id=ProjectId(value='fcc3a41b-02c2-4492-9b38-03cc464987db'), project_name=Name(value='Project 1'), project_description=Description(value='Description 1'), project_tags=Tags(value=['tag1', 'tag2']), owner_id=UserId(value='83bcb6ad-2d9a-4907-99c6-ef60bf5025fb'), visibility=<Visibility.PRIVATE: 'private'>, created_at=DateTime(value=datetime.datetime(2024, 8, 19, 22, 12, 21, 581549, tzinfo=datetime.timezone(datetime.timedelta(seconds=7200)))), updated_at=DateTime(value=datetime.datetime(2024, 8, 19, 22, 12, 21, 581549, tzinfo=datetime.timezone(datetime.timedelta(seconds=7200))))),\n",
       "  [<Privilege.VIEW_PROJECT: 'view_project'>,\n",
       "   <Privilege.EDIT_PROJECT: 'edit_project'>,\n",
       "   <Privilege.MANAGE_PROJECT: 'manage_project'>,\n",
       "   <Privilege.FULL_ACCESS: 'full_access'>]),\n",
       " (ProjectSummary(project_id=ProjectId(value='82cc90d5-e169-4a24-8dbf-dc02fe68bd6e'), project_name=Name(value='Rio Primero 123'), project_description=Description(value='Rio Primero Project in Argentina'), project_tags=Tags(value=['rio primero', 'argentina']), owner_id=UserId(value='69a5040e-fd81-42b8-b24a-ee597891fc18'), visibility=<Visibility.PRIVATE: 'private'>, created_at=DateTime(value=datetime.datetime(2024, 8, 19, 22, 13, 12, 209134, tzinfo=datetime.timezone(datetime.timedelta(seconds=7200)))), updated_at=DateTime(value=datetime.datetime(2024, 8, 19, 22, 13, 12, 209134, tzinfo=datetime.timezone(datetime.timedelta(seconds=7200))))),\n",
       "  [<Privilege.VIEW_PROJECT: 'view_project'>,\n",
       "   <Privilege.EDIT_PROJECT: 'edit_project'>,\n",
       "   <Privilege.MANAGE_PROJECT: 'manage_project'>,\n",
       "   <Privilege.FULL_ACCESS: 'full_access'>]),\n",
       " (ProjectSummary(project_id=ProjectId(value='39db742d-a953-4ec5-aaec-7670bc07e4b5'), project_name=Name(value='Project 0'), project_description=Description(value='Description 0'), project_tags=Tags(value=['tag0', 'tag1']), owner_id=UserId(value='f1df43c8-4b21-4dfb-abf4-e2136279d26d'), visibility=<Visibility.PRIVATE: 'private'>, created_at=DateTime(value=datetime.datetime(2024, 8, 19, 22, 13, 55, 442260, tzinfo=datetime.timezone(datetime.timedelta(seconds=7200)))), updated_at=DateTime(value=datetime.datetime(2024, 8, 19, 22, 13, 55, 442260, tzinfo=datetime.timezone(datetime.timedelta(seconds=7200))))),\n",
       "  [<Privilege.VIEW_PROJECT: 'view_project'>,\n",
       "   <Privilege.EDIT_PROJECT: 'edit_project'>,\n",
       "   <Privilege.MANAGE_PROJECT: 'manage_project'>,\n",
       "   <Privilege.FULL_ACCESS: 'full_access'>]),\n",
       " (ProjectSummary(project_id=ProjectId(value='d8af2117-f224-4c04-8899-780b00deb21b'), project_name=Name(value='Project 1'), project_description=Description(value='Description 1'), project_tags=Tags(value=['tag1', 'tag2']), owner_id=UserId(value='d896efdb-61cc-47f6-ad7d-644689cf0e6c'), visibility=<Visibility.PRIVATE: 'private'>, created_at=DateTime(value=datetime.datetime(2024, 8, 19, 22, 13, 55, 453761, tzinfo=datetime.timezone(datetime.timedelta(seconds=7200)))), updated_at=DateTime(value=datetime.datetime(2024, 8, 19, 22, 13, 55, 453761, tzinfo=datetime.timezone(datetime.timedelta(seconds=7200))))),\n",
       "  [<Privilege.VIEW_PROJECT: 'view_project'>,\n",
       "   <Privilege.EDIT_PROJECT: 'edit_project'>,\n",
       "   <Privilege.MANAGE_PROJECT: 'manage_project'>,\n",
       "   <Privilege.FULL_ACCESS: 'full_access'>]),\n",
       " (ProjectSummary(project_id=ProjectId(value='725ca396-5865-473e-9f8b-c18c0dada0c5'), project_name=Name(value='Project 2'), project_description=Description(value='Description 2'), project_tags=Tags(value=['tag2', 'tag3']), owner_id=UserId(value='ffff1811-8423-4202-9380-40f820c338e0'), visibility=<Visibility.PRIVATE: 'private'>, created_at=DateTime(value=datetime.datetime(2024, 8, 19, 22, 13, 55, 457557, tzinfo=datetime.timezone(datetime.timedelta(seconds=7200)))), updated_at=DateTime(value=datetime.datetime(2024, 8, 19, 22, 13, 55, 457557, tzinfo=datetime.timezone(datetime.timedelta(seconds=7200))))),\n",
       "  [<Privilege.VIEW_PROJECT: 'view_project'>,\n",
       "   <Privilege.EDIT_PROJECT: 'edit_project'>,\n",
       "   <Privilege.MANAGE_PROJECT: 'manage_project'>,\n",
       "   <Privilege.FULL_ACCESS: 'full_access'>]),\n",
       " (ProjectSummary(project_id=ProjectId(value='c2c9f670-2d8b-4442-9288-ce091fc3b1df'), project_name=Name(value='Project 3'), project_description=Description(value='Description 3'), project_tags=Tags(value=['tag3', 'tag4']), owner_id=UserId(value='8d2e96ce-7b1d-40cb-b0ab-20c5ba183bf7'), visibility=<Visibility.PRIVATE: 'private'>, created_at=DateTime(value=datetime.datetime(2024, 8, 19, 22, 13, 55, 460609, tzinfo=datetime.timezone(datetime.timedelta(seconds=7200)))), updated_at=DateTime(value=datetime.datetime(2024, 8, 19, 22, 13, 55, 460609, tzinfo=datetime.timezone(datetime.timedelta(seconds=7200))))),\n",
       "  [<Privilege.VIEW_PROJECT: 'view_project'>,\n",
       "   <Privilege.EDIT_PROJECT: 'edit_project'>,\n",
       "   <Privilege.MANAGE_PROJECT: 'manage_project'>,\n",
       "   <Privilege.FULL_ACCESS: 'full_access'>]),\n",
       " (ProjectSummary(project_id=ProjectId(value='d407e723-6293-425c-9f3a-44efbe6ddd72'), project_name=Name(value='Project 4'), project_description=Description(value='Description 4'), project_tags=Tags(value=['tag4', 'tag5']), owner_id=UserId(value='8ed53ce4-18cd-4f42-a21f-65e47f4811fd'), visibility=<Visibility.PRIVATE: 'private'>, created_at=DateTime(value=datetime.datetime(2024, 8, 19, 22, 13, 55, 463832, tzinfo=datetime.timezone(datetime.timedelta(seconds=7200)))), updated_at=DateTime(value=datetime.datetime(2024, 8, 19, 22, 13, 55, 463832, tzinfo=datetime.timezone(datetime.timedelta(seconds=7200))))),\n",
       "  [<Privilege.VIEW_PROJECT: 'view_project'>,\n",
       "   <Privilege.EDIT_PROJECT: 'edit_project'>,\n",
       "   <Privilege.MANAGE_PROJECT: 'manage_project'>,\n",
       "   <Privilege.FULL_ACCESS: 'full_access'>]),\n",
       " (ProjectSummary(project_id=ProjectId(value='7e6e147f-c086-4c2d-8b35-f4e1538947e8'), project_name=Name(value='Project 5'), project_description=Description(value='Description 5'), project_tags=Tags(value=['tag5', 'tag6']), owner_id=UserId(value='28a76b7d-d4be-4040-b33e-85016270cf60'), visibility=<Visibility.PRIVATE: 'private'>, created_at=DateTime(value=datetime.datetime(2024, 8, 19, 22, 13, 55, 466165, tzinfo=datetime.timezone(datetime.timedelta(seconds=7200)))), updated_at=DateTime(value=datetime.datetime(2024, 8, 19, 22, 13, 55, 466165, tzinfo=datetime.timezone(datetime.timedelta(seconds=7200))))),\n",
       "  [<Privilege.VIEW_PROJECT: 'view_project'>,\n",
       "   <Privilege.EDIT_PROJECT: 'edit_project'>,\n",
       "   <Privilege.MANAGE_PROJECT: 'manage_project'>,\n",
       "   <Privilege.FULL_ACCESS: 'full_access'>]),\n",
       " (ProjectSummary(project_id=ProjectId(value='6edf0775-5b4d-4375-aed0-a63b584f83ef'), project_name=Name(value='Project 6'), project_description=Description(value='Description 6'), project_tags=Tags(value=['tag6', 'tag7']), owner_id=UserId(value='271f8434-4e93-45fe-8299-bfab6c647053'), visibility=<Visibility.PRIVATE: 'private'>, created_at=DateTime(value=datetime.datetime(2024, 8, 19, 22, 13, 55, 468741, tzinfo=datetime.timezone(datetime.timedelta(seconds=7200)))), updated_at=DateTime(value=datetime.datetime(2024, 8, 19, 22, 13, 55, 468741, tzinfo=datetime.timezone(datetime.timedelta(seconds=7200))))),\n",
       "  [<Privilege.VIEW_PROJECT: 'view_project'>,\n",
       "   <Privilege.EDIT_PROJECT: 'edit_project'>,\n",
       "   <Privilege.MANAGE_PROJECT: 'manage_project'>,\n",
       "   <Privilege.FULL_ACCESS: 'full_access'>]),\n",
       " (ProjectSummary(project_id=ProjectId(value='5356afbd-4a46-4331-8abf-db859c9dbb40'), project_name=Name(value='Project 7'), project_description=Description(value='Description 7'), project_tags=Tags(value=['tag7', 'tag8']), owner_id=UserId(value='1112405f-8fe7-4cc0-aa9a-17f7eb8d6768'), visibility=<Visibility.PRIVATE: 'private'>, created_at=DateTime(value=datetime.datetime(2024, 8, 19, 22, 13, 55, 471494, tzinfo=datetime.timezone(datetime.timedelta(seconds=7200)))), updated_at=DateTime(value=datetime.datetime(2024, 8, 19, 22, 13, 55, 471494, tzinfo=datetime.timezone(datetime.timedelta(seconds=7200))))),\n",
       "  [<Privilege.VIEW_PROJECT: 'view_project'>,\n",
       "   <Privilege.EDIT_PROJECT: 'edit_project'>,\n",
       "   <Privilege.MANAGE_PROJECT: 'manage_project'>,\n",
       "   <Privilege.FULL_ACCESS: 'full_access'>]),\n",
       " (ProjectSummary(project_id=ProjectId(value='9dd7c3b8-7f58-43c4-b867-35e21b85a434'), project_name=Name(value='Project 8'), project_description=Description(value='Description 8'), project_tags=Tags(value=['tag8', 'tag9']), owner_id=UserId(value='af72ed16-94a1-4117-bbf3-9db0dc53d6cf'), visibility=<Visibility.PRIVATE: 'private'>, created_at=DateTime(value=datetime.datetime(2024, 8, 19, 22, 13, 55, 474541, tzinfo=datetime.timezone(datetime.timedelta(seconds=7200)))), updated_at=DateTime(value=datetime.datetime(2024, 8, 19, 22, 13, 55, 474541, tzinfo=datetime.timezone(datetime.timedelta(seconds=7200))))),\n",
       "  [<Privilege.VIEW_PROJECT: 'view_project'>,\n",
       "   <Privilege.EDIT_PROJECT: 'edit_project'>,\n",
       "   <Privilege.MANAGE_PROJECT: 'manage_project'>,\n",
       "   <Privilege.FULL_ACCESS: 'full_access'>]),\n",
       " (ProjectSummary(project_id=ProjectId(value='916aca68-b634-4630-aa38-2232368a7664'), project_name=Name(value='Project 9'), project_description=Description(value='Description 9'), project_tags=Tags(value=['tag9', 'tag10']), owner_id=UserId(value='05961b44-9382-4f0c-b915-91e09593f961'), visibility=<Visibility.PRIVATE: 'private'>, created_at=DateTime(value=datetime.datetime(2024, 8, 19, 22, 13, 55, 477025, tzinfo=datetime.timezone(datetime.timedelta(seconds=7200)))), updated_at=DateTime(value=datetime.datetime(2024, 8, 19, 22, 13, 55, 477025, tzinfo=datetime.timezone(datetime.timedelta(seconds=7200))))),\n",
       "  [<Privilege.VIEW_PROJECT: 'view_project'>,\n",
       "   <Privilege.EDIT_PROJECT: 'edit_project'>,\n",
       "   <Privilege.MANAGE_PROJECT: 'manage_project'>,\n",
       "   <Privilege.FULL_ACCESS: 'full_access'>]),\n",
       " (ProjectSummary(project_id=ProjectId(value='86ec8270-b776-4d92-966d-73a3cae955d6'), project_name=Name(value='Project 1'), project_description=Description(value='Description 1'), project_tags=Tags(value=['tag1', 'tag2']), owner_id=UserId(value='0902d52d-9aef-4053-9040-bd8d8167ebfc'), visibility=<Visibility.PRIVATE: 'private'>, created_at=DateTime(value=datetime.datetime(2024, 8, 19, 22, 14, 10, 593319, tzinfo=datetime.timezone(datetime.timedelta(seconds=7200)))), updated_at=DateTime(value=datetime.datetime(2024, 8, 19, 22, 14, 10, 593319, tzinfo=datetime.timezone(datetime.timedelta(seconds=7200))))),\n",
       "  [<Privilege.VIEW_PROJECT: 'view_project'>,\n",
       "   <Privilege.EDIT_PROJECT: 'edit_project'>,\n",
       "   <Privilege.MANAGE_PROJECT: 'manage_project'>,\n",
       "   <Privilege.FULL_ACCESS: 'full_access'>]),\n",
       " (ProjectSummary(project_id=ProjectId(value='d50e4974-53f4-46ce-89ce-8c8cab27e9cc'), project_name=Name(value='Rio Primero 123'), project_description=Description(value='Rio Primero Project in Argentina'), project_tags=Tags(value=['rio primero', 'argentina']), owner_id=UserId(value='7c12746d-5f4d-4980-a93d-6dacf838a01e'), visibility=<Visibility.PRIVATE: 'private'>, created_at=DateTime(value=datetime.datetime(2024, 8, 19, 22, 16, 16, 973182, tzinfo=datetime.timezone(datetime.timedelta(seconds=7200)))), updated_at=DateTime(value=datetime.datetime(2024, 8, 19, 22, 16, 16, 973182, tzinfo=datetime.timezone(datetime.timedelta(seconds=7200))))),\n",
       "  [<Privilege.VIEW_PROJECT: 'view_project'>,\n",
       "   <Privilege.EDIT_PROJECT: 'edit_project'>,\n",
       "   <Privilege.MANAGE_PROJECT: 'manage_project'>,\n",
       "   <Privilege.FULL_ACCESS: 'full_access'>]),\n",
       " (ProjectSummary(project_id=ProjectId(value='a524e5c4-e5fb-4a5c-a072-0acf08a7c4da'), project_name=Name(value='Project 0'), project_description=Description(value='Description 0'), project_tags=Tags(value=['tag0', 'tag1']), owner_id=UserId(value='6b04045b-c427-4ba8-b8d7-343acfe7500d'), visibility=<Visibility.PRIVATE: 'private'>, created_at=DateTime(value=datetime.datetime(2024, 8, 19, 22, 17, 0, 212382, tzinfo=datetime.timezone(datetime.timedelta(seconds=7200)))), updated_at=DateTime(value=datetime.datetime(2024, 8, 19, 22, 17, 0, 212382, tzinfo=datetime.timezone(datetime.timedelta(seconds=7200))))),\n",
       "  [<Privilege.VIEW_PROJECT: 'view_project'>,\n",
       "   <Privilege.EDIT_PROJECT: 'edit_project'>,\n",
       "   <Privilege.MANAGE_PROJECT: 'manage_project'>,\n",
       "   <Privilege.FULL_ACCESS: 'full_access'>]),\n",
       " (ProjectSummary(project_id=ProjectId(value='68374a22-88ab-4750-b059-8672fe707607'), project_name=Name(value='Project 1'), project_description=Description(value='Description 1'), project_tags=Tags(value=['tag1', 'tag2']), owner_id=UserId(value='32719e6d-b577-4f2c-ac27-c82587fab7d2'), visibility=<Visibility.PRIVATE: 'private'>, created_at=DateTime(value=datetime.datetime(2024, 8, 19, 22, 17, 0, 225612, tzinfo=datetime.timezone(datetime.timedelta(seconds=7200)))), updated_at=DateTime(value=datetime.datetime(2024, 8, 19, 22, 17, 0, 225612, tzinfo=datetime.timezone(datetime.timedelta(seconds=7200))))),\n",
       "  [<Privilege.VIEW_PROJECT: 'view_project'>,\n",
       "   <Privilege.EDIT_PROJECT: 'edit_project'>,\n",
       "   <Privilege.MANAGE_PROJECT: 'manage_project'>,\n",
       "   <Privilege.FULL_ACCESS: 'full_access'>]),\n",
       " (ProjectSummary(project_id=ProjectId(value='fde55c97-21f6-4e6d-ae65-29dfc03ff16e'), project_name=Name(value='Project 2'), project_description=Description(value='Description 2'), project_tags=Tags(value=['tag2', 'tag3']), owner_id=UserId(value='ee963e16-4405-436f-981d-e177580c99f1'), visibility=<Visibility.PRIVATE: 'private'>, created_at=DateTime(value=datetime.datetime(2024, 8, 19, 22, 17, 0, 230111, tzinfo=datetime.timezone(datetime.timedelta(seconds=7200)))), updated_at=DateTime(value=datetime.datetime(2024, 8, 19, 22, 17, 0, 230111, tzinfo=datetime.timezone(datetime.timedelta(seconds=7200))))),\n",
       "  [<Privilege.VIEW_PROJECT: 'view_project'>,\n",
       "   <Privilege.EDIT_PROJECT: 'edit_project'>,\n",
       "   <Privilege.MANAGE_PROJECT: 'manage_project'>,\n",
       "   <Privilege.FULL_ACCESS: 'full_access'>]),\n",
       " (ProjectSummary(project_id=ProjectId(value='fe5a0845-cdb3-48a2-ae7a-b44409a28af9'), project_name=Name(value='Project 3'), project_description=Description(value='Description 3'), project_tags=Tags(value=['tag3', 'tag4']), owner_id=UserId(value='ad69b1da-a49e-46c9-9201-0c4902388daa'), visibility=<Visibility.PRIVATE: 'private'>, created_at=DateTime(value=datetime.datetime(2024, 8, 19, 22, 17, 0, 233256, tzinfo=datetime.timezone(datetime.timedelta(seconds=7200)))), updated_at=DateTime(value=datetime.datetime(2024, 8, 19, 22, 17, 0, 233256, tzinfo=datetime.timezone(datetime.timedelta(seconds=7200))))),\n",
       "  [<Privilege.VIEW_PROJECT: 'view_project'>,\n",
       "   <Privilege.EDIT_PROJECT: 'edit_project'>,\n",
       "   <Privilege.MANAGE_PROJECT: 'manage_project'>,\n",
       "   <Privilege.FULL_ACCESS: 'full_access'>]),\n",
       " (ProjectSummary(project_id=ProjectId(value='7dc19a76-abab-41df-937d-c8c55d2f138a'), project_name=Name(value='Project 4'), project_description=Description(value='Description 4'), project_tags=Tags(value=['tag4', 'tag5']), owner_id=UserId(value='3d875e1b-3fad-4801-9d4a-5818bf03f383'), visibility=<Visibility.PRIVATE: 'private'>, created_at=DateTime(value=datetime.datetime(2024, 8, 19, 22, 17, 0, 237185, tzinfo=datetime.timezone(datetime.timedelta(seconds=7200)))), updated_at=DateTime(value=datetime.datetime(2024, 8, 19, 22, 17, 0, 237185, tzinfo=datetime.timezone(datetime.timedelta(seconds=7200))))),\n",
       "  [<Privilege.VIEW_PROJECT: 'view_project'>,\n",
       "   <Privilege.EDIT_PROJECT: 'edit_project'>,\n",
       "   <Privilege.MANAGE_PROJECT: 'manage_project'>,\n",
       "   <Privilege.FULL_ACCESS: 'full_access'>]),\n",
       " (ProjectSummary(project_id=ProjectId(value='e033216f-aa36-4c70-a7b1-010cfdc7826a'), project_name=Name(value='Project 5'), project_description=Description(value='Description 5'), project_tags=Tags(value=['tag5', 'tag6']), owner_id=UserId(value='14b9fea7-c345-4b84-a629-7aa3a4113c71'), visibility=<Visibility.PRIVATE: 'private'>, created_at=DateTime(value=datetime.datetime(2024, 8, 19, 22, 17, 0, 240419, tzinfo=datetime.timezone(datetime.timedelta(seconds=7200)))), updated_at=DateTime(value=datetime.datetime(2024, 8, 19, 22, 17, 0, 240419, tzinfo=datetime.timezone(datetime.timedelta(seconds=7200))))),\n",
       "  [<Privilege.VIEW_PROJECT: 'view_project'>,\n",
       "   <Privilege.EDIT_PROJECT: 'edit_project'>,\n",
       "   <Privilege.MANAGE_PROJECT: 'manage_project'>,\n",
       "   <Privilege.FULL_ACCESS: 'full_access'>]),\n",
       " (ProjectSummary(project_id=ProjectId(value='9dc703e2-6b7a-4f8c-a8be-085548d61b22'), project_name=Name(value='Project 6'), project_description=Description(value='Description 6'), project_tags=Tags(value=['tag6', 'tag7']), owner_id=UserId(value='bf30a443-56da-4947-ac74-dd0c7d0d0cbb'), visibility=<Visibility.PRIVATE: 'private'>, created_at=DateTime(value=datetime.datetime(2024, 8, 19, 22, 17, 0, 243600, tzinfo=datetime.timezone(datetime.timedelta(seconds=7200)))), updated_at=DateTime(value=datetime.datetime(2024, 8, 19, 22, 17, 0, 243600, tzinfo=datetime.timezone(datetime.timedelta(seconds=7200))))),\n",
       "  [<Privilege.VIEW_PROJECT: 'view_project'>,\n",
       "   <Privilege.EDIT_PROJECT: 'edit_project'>,\n",
       "   <Privilege.MANAGE_PROJECT: 'manage_project'>,\n",
       "   <Privilege.FULL_ACCESS: 'full_access'>]),\n",
       " (ProjectSummary(project_id=ProjectId(value='9b30fbaa-586b-4e4e-9c4a-648199713122'), project_name=Name(value='Project 7'), project_description=Description(value='Description 7'), project_tags=Tags(value=['tag7', 'tag8']), owner_id=UserId(value='84ebe31a-c3bd-4662-9332-e4dee9810544'), visibility=<Visibility.PRIVATE: 'private'>, created_at=DateTime(value=datetime.datetime(2024, 8, 19, 22, 17, 0, 246778, tzinfo=datetime.timezone(datetime.timedelta(seconds=7200)))), updated_at=DateTime(value=datetime.datetime(2024, 8, 19, 22, 17, 0, 246778, tzinfo=datetime.timezone(datetime.timedelta(seconds=7200))))),\n",
       "  [<Privilege.VIEW_PROJECT: 'view_project'>,\n",
       "   <Privilege.EDIT_PROJECT: 'edit_project'>,\n",
       "   <Privilege.MANAGE_PROJECT: 'manage_project'>,\n",
       "   <Privilege.FULL_ACCESS: 'full_access'>]),\n",
       " (ProjectSummary(project_id=ProjectId(value='76ba7e31-7dc5-4631-943f-66fba59666b8'), project_name=Name(value='Project 8'), project_description=Description(value='Description 8'), project_tags=Tags(value=['tag8', 'tag9']), owner_id=UserId(value='df767c7b-a72c-4d7f-b576-36ac1865e0cc'), visibility=<Visibility.PRIVATE: 'private'>, created_at=DateTime(value=datetime.datetime(2024, 8, 19, 22, 17, 0, 249815, tzinfo=datetime.timezone(datetime.timedelta(seconds=7200)))), updated_at=DateTime(value=datetime.datetime(2024, 8, 19, 22, 17, 0, 249815, tzinfo=datetime.timezone(datetime.timedelta(seconds=7200))))),\n",
       "  [<Privilege.VIEW_PROJECT: 'view_project'>,\n",
       "   <Privilege.EDIT_PROJECT: 'edit_project'>,\n",
       "   <Privilege.MANAGE_PROJECT: 'manage_project'>,\n",
       "   <Privilege.FULL_ACCESS: 'full_access'>]),\n",
       " (ProjectSummary(project_id=ProjectId(value='0944ef7d-b64c-4eb7-8f9d-5eeed71a4ce2'), project_name=Name(value='Project 9'), project_description=Description(value='Description 9'), project_tags=Tags(value=['tag9', 'tag10']), owner_id=UserId(value='b4a339b0-4fa9-4b75-86a7-2a6e88a55d20'), visibility=<Visibility.PRIVATE: 'private'>, created_at=DateTime(value=datetime.datetime(2024, 8, 19, 22, 17, 0, 252887, tzinfo=datetime.timezone(datetime.timedelta(seconds=7200)))), updated_at=DateTime(value=datetime.datetime(2024, 8, 19, 22, 17, 0, 252887, tzinfo=datetime.timezone(datetime.timedelta(seconds=7200))))),\n",
       "  [<Privilege.VIEW_PROJECT: 'view_project'>,\n",
       "   <Privilege.EDIT_PROJECT: 'edit_project'>,\n",
       "   <Privilege.MANAGE_PROJECT: 'manage_project'>,\n",
       "   <Privilege.FULL_ACCESS: 'full_access'>]),\n",
       " (ProjectSummary(project_id=ProjectId(value='6a6f96d4-4b6d-4062-8145-a4019add5242'), project_name=Name(value='Project 1'), project_description=Description(value='Description 1'), project_tags=Tags(value=['tag1', 'tag2']), owner_id=UserId(value='25f4bbd8-37e9-442e-920c-bc8fde0fd06f'), visibility=<Visibility.PRIVATE: 'private'>, created_at=DateTime(value=datetime.datetime(2024, 8, 19, 22, 17, 15, 113677, tzinfo=datetime.timezone(datetime.timedelta(seconds=7200)))), updated_at=DateTime(value=datetime.datetime(2024, 8, 19, 22, 17, 15, 113677, tzinfo=datetime.timezone(datetime.timedelta(seconds=7200))))),\n",
       "  [<Privilege.VIEW_PROJECT: 'view_project'>,\n",
       "   <Privilege.EDIT_PROJECT: 'edit_project'>,\n",
       "   <Privilege.MANAGE_PROJECT: 'manage_project'>,\n",
       "   <Privilege.FULL_ACCESS: 'full_access'>]),\n",
       " (ProjectSummary(project_id=ProjectId(value='8e5899b1-e92c-4cc1-b67e-685fb2b6709c'), project_name=Name(value='Project 1'), project_description=Description(value='Description 1'), project_tags=Tags(value=['tag1', 'tag2']), owner_id=UserId(value='5d873d97-3371-4beb-93b1-4b269d77e67a'), visibility=<Visibility.PRIVATE: 'private'>, created_at=DateTime(value=datetime.datetime(2024, 8, 19, 22, 22, 5, 677502, tzinfo=datetime.timezone(datetime.timedelta(seconds=7200)))), updated_at=DateTime(value=datetime.datetime(2024, 8, 19, 22, 22, 5, 677502, tzinfo=datetime.timezone(datetime.timedelta(seconds=7200))))),\n",
       "  [<Privilege.VIEW_PROJECT: 'view_project'>,\n",
       "   <Privilege.EDIT_PROJECT: 'edit_project'>,\n",
       "   <Privilege.MANAGE_PROJECT: 'manage_project'>,\n",
       "   <Privilege.FULL_ACCESS: 'full_access'>]),\n",
       " (ProjectSummary(project_id=ProjectId(value='36c88f10-b716-41e7-817a-0833aded7977'), project_name=Name(value='Project 1'), project_description=Description(value='Description 1'), project_tags=Tags(value=['tag1', 'tag2']), owner_id=UserId(value='3631b875-689f-4bc3-aee1-69f895d15bfc'), visibility=<Visibility.PRIVATE: 'private'>, created_at=DateTime(value=datetime.datetime(2024, 8, 19, 22, 22, 40, 82681, tzinfo=datetime.timezone(datetime.timedelta(seconds=7200)))), updated_at=DateTime(value=datetime.datetime(2024, 8, 19, 22, 22, 40, 82681, tzinfo=datetime.timezone(datetime.timedelta(seconds=7200))))),\n",
       "  [<Privilege.VIEW_PROJECT: 'view_project'>,\n",
       "   <Privilege.EDIT_PROJECT: 'edit_project'>,\n",
       "   <Privilege.MANAGE_PROJECT: 'manage_project'>,\n",
       "   <Privilege.FULL_ACCESS: 'full_access'>]),\n",
       " (ProjectSummary(project_id=ProjectId(value='607b820b-c910-401c-8912-082e95ca4240'), project_name=Name(value='Rio Primero 123'), project_description=Description(value='Rio Primero Project in Argentina'), project_tags=Tags(value=['rio primero', 'argentina']), owner_id=UserId(value='cbe59a19-a0ec-4733-9f9e-2bea93fcc5bf'), visibility=<Visibility.PRIVATE: 'private'>, created_at=DateTime(value=datetime.datetime(2024, 8, 19, 22, 23, 12, 51177, tzinfo=datetime.timezone(datetime.timedelta(seconds=7200)))), updated_at=DateTime(value=datetime.datetime(2024, 8, 19, 22, 23, 12, 51177, tzinfo=datetime.timezone(datetime.timedelta(seconds=7200))))),\n",
       "  [<Privilege.VIEW_PROJECT: 'view_project'>,\n",
       "   <Privilege.EDIT_PROJECT: 'edit_project'>,\n",
       "   <Privilege.MANAGE_PROJECT: 'manage_project'>,\n",
       "   <Privilege.FULL_ACCESS: 'full_access'>]),\n",
       " (ProjectSummary(project_id=ProjectId(value='6ca80d59-07c7-42e3-a9b4-ed2c02d746ca'), project_name=Name(value='Project 0'), project_description=Description(value='Description 0'), project_tags=Tags(value=['tag0', 'tag1']), owner_id=UserId(value='ffad0550-6e93-4209-b65f-8f4de2cd87d7'), visibility=<Visibility.PRIVATE: 'private'>, created_at=DateTime(value=datetime.datetime(2024, 8, 19, 22, 23, 54, 943459, tzinfo=datetime.timezone(datetime.timedelta(seconds=7200)))), updated_at=DateTime(value=datetime.datetime(2024, 8, 19, 22, 23, 54, 943459, tzinfo=datetime.timezone(datetime.timedelta(seconds=7200))))),\n",
       "  [<Privilege.VIEW_PROJECT: 'view_project'>,\n",
       "   <Privilege.EDIT_PROJECT: 'edit_project'>,\n",
       "   <Privilege.MANAGE_PROJECT: 'manage_project'>,\n",
       "   <Privilege.FULL_ACCESS: 'full_access'>]),\n",
       " (ProjectSummary(project_id=ProjectId(value='71a89a6d-6799-4f19-b673-14b6f5309cf3'), project_name=Name(value='Project 1'), project_description=Description(value='Description 1'), project_tags=Tags(value=['tag1', 'tag2']), owner_id=UserId(value='92918c75-00f8-4836-889d-977354e7b97f'), visibility=<Visibility.PRIVATE: 'private'>, created_at=DateTime(value=datetime.datetime(2024, 8, 19, 22, 23, 54, 948896, tzinfo=datetime.timezone(datetime.timedelta(seconds=7200)))), updated_at=DateTime(value=datetime.datetime(2024, 8, 19, 22, 23, 54, 948896, tzinfo=datetime.timezone(datetime.timedelta(seconds=7200))))),\n",
       "  [<Privilege.VIEW_PROJECT: 'view_project'>,\n",
       "   <Privilege.EDIT_PROJECT: 'edit_project'>,\n",
       "   <Privilege.MANAGE_PROJECT: 'manage_project'>,\n",
       "   <Privilege.FULL_ACCESS: 'full_access'>]),\n",
       " (ProjectSummary(project_id=ProjectId(value='26d0b78d-4c8a-4b8b-ad66-1f1baaf5850e'), project_name=Name(value='Project 2'), project_description=Description(value='Description 2'), project_tags=Tags(value=['tag2', 'tag3']), owner_id=UserId(value='a8c0643a-01bc-462d-9884-881d171258fb'), visibility=<Visibility.PRIVATE: 'private'>, created_at=DateTime(value=datetime.datetime(2024, 8, 19, 22, 23, 54, 951016, tzinfo=datetime.timezone(datetime.timedelta(seconds=7200)))), updated_at=DateTime(value=datetime.datetime(2024, 8, 19, 22, 23, 54, 951016, tzinfo=datetime.timezone(datetime.timedelta(seconds=7200))))),\n",
       "  [<Privilege.VIEW_PROJECT: 'view_project'>,\n",
       "   <Privilege.EDIT_PROJECT: 'edit_project'>,\n",
       "   <Privilege.MANAGE_PROJECT: 'manage_project'>,\n",
       "   <Privilege.FULL_ACCESS: 'full_access'>]),\n",
       " (ProjectSummary(project_id=ProjectId(value='011ed635-c60a-461e-8722-1a0c9c0846c9'), project_name=Name(value='Project 3'), project_description=Description(value='Description 3'), project_tags=Tags(value=['tag3', 'tag4']), owner_id=UserId(value='0fb5cfa1-0272-4afe-bb47-ae6b1bc5f6c6'), visibility=<Visibility.PRIVATE: 'private'>, created_at=DateTime(value=datetime.datetime(2024, 8, 19, 22, 23, 54, 953174, tzinfo=datetime.timezone(datetime.timedelta(seconds=7200)))), updated_at=DateTime(value=datetime.datetime(2024, 8, 19, 22, 23, 54, 953174, tzinfo=datetime.timezone(datetime.timedelta(seconds=7200))))),\n",
       "  [<Privilege.VIEW_PROJECT: 'view_project'>,\n",
       "   <Privilege.EDIT_PROJECT: 'edit_project'>,\n",
       "   <Privilege.MANAGE_PROJECT: 'manage_project'>,\n",
       "   <Privilege.FULL_ACCESS: 'full_access'>]),\n",
       " (ProjectSummary(project_id=ProjectId(value='d2174ad5-e692-4f37-8436-20fb6dfc1580'), project_name=Name(value='Project 4'), project_description=Description(value='Description 4'), project_tags=Tags(value=['tag4', 'tag5']), owner_id=UserId(value='bde0d7f0-7a87-4063-8287-11278176aa24'), visibility=<Visibility.PRIVATE: 'private'>, created_at=DateTime(value=datetime.datetime(2024, 8, 19, 22, 23, 54, 955671, tzinfo=datetime.timezone(datetime.timedelta(seconds=7200)))), updated_at=DateTime(value=datetime.datetime(2024, 8, 19, 22, 23, 54, 955671, tzinfo=datetime.timezone(datetime.timedelta(seconds=7200))))),\n",
       "  [<Privilege.VIEW_PROJECT: 'view_project'>,\n",
       "   <Privilege.EDIT_PROJECT: 'edit_project'>,\n",
       "   <Privilege.MANAGE_PROJECT: 'manage_project'>,\n",
       "   <Privilege.FULL_ACCESS: 'full_access'>]),\n",
       " (ProjectSummary(project_id=ProjectId(value='868ff603-e65f-43f1-9650-93ba0c8864e9'), project_name=Name(value='Project 5'), project_description=Description(value='Description 5'), project_tags=Tags(value=['tag5', 'tag6']), owner_id=UserId(value='25bc6331-5aa6-4c6d-a71a-f5c986a4a000'), visibility=<Visibility.PRIVATE: 'private'>, created_at=DateTime(value=datetime.datetime(2024, 8, 19, 22, 23, 54, 957773, tzinfo=datetime.timezone(datetime.timedelta(seconds=7200)))), updated_at=DateTime(value=datetime.datetime(2024, 8, 19, 22, 23, 54, 957773, tzinfo=datetime.timezone(datetime.timedelta(seconds=7200))))),\n",
       "  [<Privilege.VIEW_PROJECT: 'view_project'>,\n",
       "   <Privilege.EDIT_PROJECT: 'edit_project'>,\n",
       "   <Privilege.MANAGE_PROJECT: 'manage_project'>,\n",
       "   <Privilege.FULL_ACCESS: 'full_access'>]),\n",
       " (ProjectSummary(project_id=ProjectId(value='dd8029c8-e910-4cfe-bc32-84f2d3cbf1d6'), project_name=Name(value='Project 6'), project_description=Description(value='Description 6'), project_tags=Tags(value=['tag6', 'tag7']), owner_id=UserId(value='f1d426cc-e4bc-4559-9a85-1bb2a91923bd'), visibility=<Visibility.PRIVATE: 'private'>, created_at=DateTime(value=datetime.datetime(2024, 8, 19, 22, 23, 54, 959994, tzinfo=datetime.timezone(datetime.timedelta(seconds=7200)))), updated_at=DateTime(value=datetime.datetime(2024, 8, 19, 22, 23, 54, 959994, tzinfo=datetime.timezone(datetime.timedelta(seconds=7200))))),\n",
       "  [<Privilege.VIEW_PROJECT: 'view_project'>,\n",
       "   <Privilege.EDIT_PROJECT: 'edit_project'>,\n",
       "   <Privilege.MANAGE_PROJECT: 'manage_project'>,\n",
       "   <Privilege.FULL_ACCESS: 'full_access'>]),\n",
       " (ProjectSummary(project_id=ProjectId(value='c183744d-ec8f-480f-963f-b39b1526d835'), project_name=Name(value='Project 7'), project_description=Description(value='Description 7'), project_tags=Tags(value=['tag7', 'tag8']), owner_id=UserId(value='9a6824c7-412e-48a0-9071-f92cfe9d2e63'), visibility=<Visibility.PRIVATE: 'private'>, created_at=DateTime(value=datetime.datetime(2024, 8, 19, 22, 23, 54, 962580, tzinfo=datetime.timezone(datetime.timedelta(seconds=7200)))), updated_at=DateTime(value=datetime.datetime(2024, 8, 19, 22, 23, 54, 962580, tzinfo=datetime.timezone(datetime.timedelta(seconds=7200))))),\n",
       "  [<Privilege.VIEW_PROJECT: 'view_project'>,\n",
       "   <Privilege.EDIT_PROJECT: 'edit_project'>,\n",
       "   <Privilege.MANAGE_PROJECT: 'manage_project'>,\n",
       "   <Privilege.FULL_ACCESS: 'full_access'>]),\n",
       " (ProjectSummary(project_id=ProjectId(value='f1a4842b-e316-481c-80ac-ab3d1af67c11'), project_name=Name(value='Project 8'), project_description=Description(value='Description 8'), project_tags=Tags(value=['tag8', 'tag9']), owner_id=UserId(value='2701750c-622d-4f3d-a900-7a542b6060d3'), visibility=<Visibility.PRIVATE: 'private'>, created_at=DateTime(value=datetime.datetime(2024, 8, 19, 22, 23, 54, 965069, tzinfo=datetime.timezone(datetime.timedelta(seconds=7200)))), updated_at=DateTime(value=datetime.datetime(2024, 8, 19, 22, 23, 54, 965069, tzinfo=datetime.timezone(datetime.timedelta(seconds=7200))))),\n",
       "  [<Privilege.VIEW_PROJECT: 'view_project'>,\n",
       "   <Privilege.EDIT_PROJECT: 'edit_project'>,\n",
       "   <Privilege.MANAGE_PROJECT: 'manage_project'>,\n",
       "   <Privilege.FULL_ACCESS: 'full_access'>]),\n",
       " (ProjectSummary(project_id=ProjectId(value='fef13210-ded8-4658-9d56-50004e16dcde'), project_name=Name(value='Project 9'), project_description=Description(value='Description 9'), project_tags=Tags(value=['tag9', 'tag10']), owner_id=UserId(value='9eb5dcf3-bd11-4864-82e4-d49d871ef5ae'), visibility=<Visibility.PRIVATE: 'private'>, created_at=DateTime(value=datetime.datetime(2024, 8, 19, 22, 23, 54, 967553, tzinfo=datetime.timezone(datetime.timedelta(seconds=7200)))), updated_at=DateTime(value=datetime.datetime(2024, 8, 19, 22, 23, 54, 967553, tzinfo=datetime.timezone(datetime.timedelta(seconds=7200))))),\n",
       "  [<Privilege.VIEW_PROJECT: 'view_project'>,\n",
       "   <Privilege.EDIT_PROJECT: 'edit_project'>,\n",
       "   <Privilege.MANAGE_PROJECT: 'manage_project'>,\n",
       "   <Privilege.FULL_ACCESS: 'full_access'>]),\n",
       " (ProjectSummary(project_id=ProjectId(value='c1662103-6f64-41d4-99dd-67038b6d0550'), project_name=Name(value='Project 1'), project_description=Description(value='Description 1'), project_tags=Tags(value=['tag1', 'tag2']), owner_id=UserId(value='cb64c2e3-f8c0-43a5-a449-f47fe0605d55'), visibility=<Visibility.PRIVATE: 'private'>, created_at=DateTime(value=datetime.datetime(2024, 8, 19, 22, 24, 10, 279895, tzinfo=datetime.timezone(datetime.timedelta(seconds=7200)))), updated_at=DateTime(value=datetime.datetime(2024, 8, 19, 22, 24, 10, 279895, tzinfo=datetime.timezone(datetime.timedelta(seconds=7200))))),\n",
       "  [<Privilege.VIEW_PROJECT: 'view_project'>,\n",
       "   <Privilege.EDIT_PROJECT: 'edit_project'>,\n",
       "   <Privilege.MANAGE_PROJECT: 'manage_project'>,\n",
       "   <Privilege.FULL_ACCESS: 'full_access'>]),\n",
       " (ProjectSummary(project_id=ProjectId(value='6a07e6fd-7a73-4c71-9386-ba345008ac2c'), project_name=Name(value='Project 1'), project_description=Description(value='Description 1'), project_tags=Tags(value=['tag1', 'tag2']), owner_id=UserId(value='118eb7e7-11c3-472e-b785-ac9881fb14af'), visibility=<Visibility.PRIVATE: 'private'>, created_at=DateTime(value=datetime.datetime(2024, 8, 19, 22, 25, 15, 444695, tzinfo=datetime.timezone(datetime.timedelta(seconds=7200)))), updated_at=DateTime(value=datetime.datetime(2024, 8, 19, 22, 25, 15, 444695, tzinfo=datetime.timezone(datetime.timedelta(seconds=7200))))),\n",
       "  [<Privilege.VIEW_PROJECT: 'view_project'>,\n",
       "   <Privilege.EDIT_PROJECT: 'edit_project'>,\n",
       "   <Privilege.MANAGE_PROJECT: 'manage_project'>,\n",
       "   <Privilege.FULL_ACCESS: 'full_access'>]),\n",
       " (ProjectSummary(project_id=ProjectId(value='10f342c4-2814-4c09-a330-577d918a73c9'), project_name=Name(value='Project 1'), project_description=Description(value='Description 1'), project_tags=Tags(value=['tag1', 'tag2']), owner_id=UserId(value='d7b263d3-e168-45ab-a91f-b910189dd28a'), visibility=<Visibility.PRIVATE: 'private'>, created_at=DateTime(value=datetime.datetime(2024, 8, 19, 22, 25, 31, 913536, tzinfo=datetime.timezone(datetime.timedelta(seconds=7200)))), updated_at=DateTime(value=datetime.datetime(2024, 8, 19, 22, 25, 31, 913536, tzinfo=datetime.timezone(datetime.timedelta(seconds=7200))))),\n",
       "  [<Privilege.VIEW_PROJECT: 'view_project'>,\n",
       "   <Privilege.EDIT_PROJECT: 'edit_project'>,\n",
       "   <Privilege.MANAGE_PROJECT: 'manage_project'>,\n",
       "   <Privilege.FULL_ACCESS: 'full_access'>]),\n",
       " (ProjectSummary(project_id=ProjectId(value='b06a5a49-39d9-46c2-b489-6df68873e278'), project_name=Name(value='Rio Primero 123'), project_description=Description(value='Rio Primero Project in Argentina'), project_tags=Tags(value=['rio primero', 'argentina']), owner_id=UserId(value='d519868a-4b1a-4973-b5a7-d4cba1c69bfd'), visibility=<Visibility.PRIVATE: 'private'>, created_at=DateTime(value=datetime.datetime(2024, 8, 19, 22, 25, 55, 445889, tzinfo=datetime.timezone(datetime.timedelta(seconds=7200)))), updated_at=DateTime(value=datetime.datetime(2024, 8, 19, 22, 25, 55, 445889, tzinfo=datetime.timezone(datetime.timedelta(seconds=7200))))),\n",
       "  [<Privilege.VIEW_PROJECT: 'view_project'>,\n",
       "   <Privilege.EDIT_PROJECT: 'edit_project'>,\n",
       "   <Privilege.MANAGE_PROJECT: 'manage_project'>,\n",
       "   <Privilege.FULL_ACCESS: 'full_access'>]),\n",
       " (ProjectSummary(project_id=ProjectId(value='8b2942a0-4599-4a3a-bee0-56dd5df9d381'), project_name=Name(value='Project 0'), project_description=Description(value='Description 0'), project_tags=Tags(value=['tag0', 'tag1']), owner_id=UserId(value='f373fa01-a071-4b04-9b95-65774fd210f1'), visibility=<Visibility.PRIVATE: 'private'>, created_at=DateTime(value=datetime.datetime(2024, 8, 19, 22, 26, 37, 910952, tzinfo=datetime.timezone(datetime.timedelta(seconds=7200)))), updated_at=DateTime(value=datetime.datetime(2024, 8, 19, 22, 26, 37, 910952, tzinfo=datetime.timezone(datetime.timedelta(seconds=7200))))),\n",
       "  [<Privilege.VIEW_PROJECT: 'view_project'>,\n",
       "   <Privilege.EDIT_PROJECT: 'edit_project'>,\n",
       "   <Privilege.MANAGE_PROJECT: 'manage_project'>,\n",
       "   <Privilege.FULL_ACCESS: 'full_access'>]),\n",
       " (ProjectSummary(project_id=ProjectId(value='09219ed3-318b-42f5-971d-9e7f17129e0c'), project_name=Name(value='Project 1'), project_description=Description(value='Description 1'), project_tags=Tags(value=['tag1', 'tag2']), owner_id=UserId(value='af61bb6d-6881-45d8-96a7-1619c74b336f'), visibility=<Visibility.PRIVATE: 'private'>, created_at=DateTime(value=datetime.datetime(2024, 8, 19, 22, 26, 37, 922586, tzinfo=datetime.timezone(datetime.timedelta(seconds=7200)))), updated_at=DateTime(value=datetime.datetime(2024, 8, 19, 22, 26, 37, 922586, tzinfo=datetime.timezone(datetime.timedelta(seconds=7200))))),\n",
       "  [<Privilege.VIEW_PROJECT: 'view_project'>,\n",
       "   <Privilege.EDIT_PROJECT: 'edit_project'>,\n",
       "   <Privilege.MANAGE_PROJECT: 'manage_project'>,\n",
       "   <Privilege.FULL_ACCESS: 'full_access'>]),\n",
       " (ProjectSummary(project_id=ProjectId(value='6c47d40b-4965-4041-9594-76189e7243ad'), project_name=Name(value='Project 2'), project_description=Description(value='Description 2'), project_tags=Tags(value=['tag2', 'tag3']), owner_id=UserId(value='a0440f2a-db32-447a-8cbe-3cf278f40de3'), visibility=<Visibility.PRIVATE: 'private'>, created_at=DateTime(value=datetime.datetime(2024, 8, 19, 22, 26, 37, 927745, tzinfo=datetime.timezone(datetime.timedelta(seconds=7200)))), updated_at=DateTime(value=datetime.datetime(2024, 8, 19, 22, 26, 37, 927745, tzinfo=datetime.timezone(datetime.timedelta(seconds=7200))))),\n",
       "  [<Privilege.VIEW_PROJECT: 'view_project'>,\n",
       "   <Privilege.EDIT_PROJECT: 'edit_project'>,\n",
       "   <Privilege.MANAGE_PROJECT: 'manage_project'>,\n",
       "   <Privilege.FULL_ACCESS: 'full_access'>]),\n",
       " (ProjectSummary(project_id=ProjectId(value='ba8bfec1-95e0-435f-a596-e6904d1de20d'), project_name=Name(value='Project 3'), project_description=Description(value='Description 3'), project_tags=Tags(value=['tag3', 'tag4']), owner_id=UserId(value='02566252-3b82-4151-a932-0c76090d48b2'), visibility=<Visibility.PRIVATE: 'private'>, created_at=DateTime(value=datetime.datetime(2024, 8, 19, 22, 26, 37, 931911, tzinfo=datetime.timezone(datetime.timedelta(seconds=7200)))), updated_at=DateTime(value=datetime.datetime(2024, 8, 19, 22, 26, 37, 931911, tzinfo=datetime.timezone(datetime.timedelta(seconds=7200))))),\n",
       "  [<Privilege.VIEW_PROJECT: 'view_project'>,\n",
       "   <Privilege.EDIT_PROJECT: 'edit_project'>,\n",
       "   <Privilege.MANAGE_PROJECT: 'manage_project'>,\n",
       "   <Privilege.FULL_ACCESS: 'full_access'>]),\n",
       " (ProjectSummary(project_id=ProjectId(value='dcdc24da-36e6-4513-9a94-2807da032eae'), project_name=Name(value='Project 4'), project_description=Description(value='Description 4'), project_tags=Tags(value=['tag4', 'tag5']), owner_id=UserId(value='d82bd392-e30a-4777-8c9a-1239e7f24f50'), visibility=<Visibility.PRIVATE: 'private'>, created_at=DateTime(value=datetime.datetime(2024, 8, 19, 22, 26, 37, 935192, tzinfo=datetime.timezone(datetime.timedelta(seconds=7200)))), updated_at=DateTime(value=datetime.datetime(2024, 8, 19, 22, 26, 37, 935192, tzinfo=datetime.timezone(datetime.timedelta(seconds=7200))))),\n",
       "  [<Privilege.VIEW_PROJECT: 'view_project'>,\n",
       "   <Privilege.EDIT_PROJECT: 'edit_project'>,\n",
       "   <Privilege.MANAGE_PROJECT: 'manage_project'>,\n",
       "   <Privilege.FULL_ACCESS: 'full_access'>]),\n",
       " (ProjectSummary(project_id=ProjectId(value='0509ac14-d1ec-40e6-9334-1bcc367f1116'), project_name=Name(value='Project 5'), project_description=Description(value='Description 5'), project_tags=Tags(value=['tag5', 'tag6']), owner_id=UserId(value='ffc20cb6-ec83-42dd-b00a-36c1034ba139'), visibility=<Visibility.PRIVATE: 'private'>, created_at=DateTime(value=datetime.datetime(2024, 8, 19, 22, 26, 37, 938288, tzinfo=datetime.timezone(datetime.timedelta(seconds=7200)))), updated_at=DateTime(value=datetime.datetime(2024, 8, 19, 22, 26, 37, 938288, tzinfo=datetime.timezone(datetime.timedelta(seconds=7200))))),\n",
       "  [<Privilege.VIEW_PROJECT: 'view_project'>,\n",
       "   <Privilege.EDIT_PROJECT: 'edit_project'>,\n",
       "   <Privilege.MANAGE_PROJECT: 'manage_project'>,\n",
       "   <Privilege.FULL_ACCESS: 'full_access'>]),\n",
       " (ProjectSummary(project_id=ProjectId(value='eb559540-f665-45d5-9597-620fe2a65b0c'), project_name=Name(value='Project 6'), project_description=Description(value='Description 6'), project_tags=Tags(value=['tag6', 'tag7']), owner_id=UserId(value='baaa0d59-bd87-42ad-a5fe-883739c06328'), visibility=<Visibility.PRIVATE: 'private'>, created_at=DateTime(value=datetime.datetime(2024, 8, 19, 22, 26, 37, 941273, tzinfo=datetime.timezone(datetime.timedelta(seconds=7200)))), updated_at=DateTime(value=datetime.datetime(2024, 8, 19, 22, 26, 37, 941273, tzinfo=datetime.timezone(datetime.timedelta(seconds=7200))))),\n",
       "  [<Privilege.VIEW_PROJECT: 'view_project'>,\n",
       "   <Privilege.EDIT_PROJECT: 'edit_project'>,\n",
       "   <Privilege.MANAGE_PROJECT: 'manage_project'>,\n",
       "   <Privilege.FULL_ACCESS: 'full_access'>]),\n",
       " (ProjectSummary(project_id=ProjectId(value='f0fc113f-fe31-4e97-894b-8107d0fbcf7a'), project_name=Name(value='Project 7'), project_description=Description(value='Description 7'), project_tags=Tags(value=['tag7', 'tag8']), owner_id=UserId(value='6be8e8c9-a8ef-4475-9f8a-1740279713fd'), visibility=<Visibility.PRIVATE: 'private'>, created_at=DateTime(value=datetime.datetime(2024, 8, 19, 22, 26, 37, 944387, tzinfo=datetime.timezone(datetime.timedelta(seconds=7200)))), updated_at=DateTime(value=datetime.datetime(2024, 8, 19, 22, 26, 37, 944387, tzinfo=datetime.timezone(datetime.timedelta(seconds=7200))))),\n",
       "  [<Privilege.VIEW_PROJECT: 'view_project'>,\n",
       "   <Privilege.EDIT_PROJECT: 'edit_project'>,\n",
       "   <Privilege.MANAGE_PROJECT: 'manage_project'>,\n",
       "   <Privilege.FULL_ACCESS: 'full_access'>]),\n",
       " (ProjectSummary(project_id=ProjectId(value='3319cddb-73b6-4d16-a3d1-eb13d92d4d4b'), project_name=Name(value='Project 8'), project_description=Description(value='Description 8'), project_tags=Tags(value=['tag8', 'tag9']), owner_id=UserId(value='4d09477c-0abc-4d7a-b519-61c44082305f'), visibility=<Visibility.PRIVATE: 'private'>, created_at=DateTime(value=datetime.datetime(2024, 8, 19, 22, 26, 37, 947855, tzinfo=datetime.timezone(datetime.timedelta(seconds=7200)))), updated_at=DateTime(value=datetime.datetime(2024, 8, 19, 22, 26, 37, 947855, tzinfo=datetime.timezone(datetime.timedelta(seconds=7200))))),\n",
       "  [<Privilege.VIEW_PROJECT: 'view_project'>,\n",
       "   <Privilege.EDIT_PROJECT: 'edit_project'>,\n",
       "   <Privilege.MANAGE_PROJECT: 'manage_project'>,\n",
       "   <Privilege.FULL_ACCESS: 'full_access'>]),\n",
       " (ProjectSummary(project_id=ProjectId(value='fac8548f-125d-4d14-bf9a-4cfc9c768e5f'), project_name=Name(value='Project 9'), project_description=Description(value='Description 9'), project_tags=Tags(value=['tag9', 'tag10']), owner_id=UserId(value='5133e2ba-b241-4a34-b378-9e39855512f4'), visibility=<Visibility.PRIVATE: 'private'>, created_at=DateTime(value=datetime.datetime(2024, 8, 19, 22, 26, 37, 951132, tzinfo=datetime.timezone(datetime.timedelta(seconds=7200)))), updated_at=DateTime(value=datetime.datetime(2024, 8, 19, 22, 26, 37, 951132, tzinfo=datetime.timezone(datetime.timedelta(seconds=7200))))),\n",
       "  [<Privilege.VIEW_PROJECT: 'view_project'>,\n",
       "   <Privilege.EDIT_PROJECT: 'edit_project'>,\n",
       "   <Privilege.MANAGE_PROJECT: 'manage_project'>,\n",
       "   <Privilege.FULL_ACCESS: 'full_access'>]),\n",
       " (ProjectSummary(project_id=ProjectId(value='0c7d9b65-bb4d-40df-bc02-a1c1d89c2c97'), project_name=Name(value='Project 1'), project_description=Description(value='Description 1'), project_tags=Tags(value=['tag1', 'tag2']), owner_id=UserId(value='d138ba48-b160-40c0-986f-012c234c1f7a'), visibility=<Visibility.PRIVATE: 'private'>, created_at=DateTime(value=datetime.datetime(2024, 8, 19, 22, 26, 53, 983664)), updated_at=DateTime(value=datetime.datetime(2024, 8, 19, 22, 26, 53, 983664))),\n",
       "  [<Privilege.VIEW_PROJECT: 'view_project'>,\n",
       "   <Privilege.EDIT_PROJECT: 'edit_project'>,\n",
       "   <Privilege.MANAGE_PROJECT: 'manage_project'>,\n",
       "   <Privilege.FULL_ACCESS: 'full_access'>])]"
      ]
     },
     "execution_count": 3,
     "metadata": {},
     "output_type": "execute_result"
    }
   ],
   "source": [
    "from morpheus.common.types.identity.Identity import Identity\n",
    "from morpheus.project.application.read.ProjectReader import project_reader\n",
    "\n",
    "identity = Identity(user_id=UserId.new(), group_ids=[], is_admin=True)\n",
    "project_list = project_reader.get_project_summaries_with_user_privileges_for_identity(identity)\n",
    "project_list"
   ]
  },
  {
   "cell_type": "markdown",
   "id": "22380477da429c5d",
   "metadata": {
    "collapsed": false,
    "papermill": {
     "duration": 0.002774,
     "end_time": "2024-08-19T20:26:54.025867",
     "exception": false,
     "start_time": "2024-08-19T20:26:54.023093",
     "status": "completed"
    },
    "tags": []
   },
   "source": [
    "# Create model"
   ]
  },
  {
   "cell_type": "code",
   "execution_count": 4,
   "id": "7db50a89dc6391e5",
   "metadata": {
    "ExecuteTime": {
     "end_time": "2024-08-19T20:25:31.994038Z",
     "start_time": "2024-08-19T20:25:31.939867Z"
    },
    "collapsed": false,
    "execution": {
     "iopub.execute_input": "2024-08-19T20:26:54.031782Z",
     "iopub.status.busy": "2024-08-19T20:26:54.031670Z",
     "iopub.status.idle": "2024-08-19T20:26:54.097718Z",
     "shell.execute_reply": "2024-08-19T20:26:54.097381Z"
    },
    "papermill": {
     "duration": 0.070171,
     "end_time": "2024-08-19T20:26:54.098723",
     "exception": false,
     "start_time": "2024-08-19T20:26:54.028552",
     "status": "completed"
    },
    "tags": []
   },
   "outputs": [
    {
     "name": "stdout",
     "output_type": "stream",
     "text": [
      "[(0, 0)] [(27, 0)]\n",
      "[(0, 1)] [(82, 1)]\n",
      "[(0, 2)] [(93, 2)]\n",
      "[(0, 3)] [(93, 3)]\n",
      "[(0, 4)] [(93, 4)]\n",
      "[(1, 5)] [(93, 5)]\n",
      "[(1, 6)] [(93, 6)]\n",
      "[(1, 7)] [(94, 7)]\n",
      "[(1, 8)] [(94, 8)]\n",
      "[(1, 9)] [(94, 9)]\n",
      "[(2, 10)] [(94, 10)]\n",
      "[(2, 11)] [(95, 11)]\n",
      "[(2, 12)] [(95, 12)]\n",
      "[(2, 13)] [(95, 13)]\n",
      "[(2, 14)] [(95, 14)]\n",
      "[(2, 15)] [(95, 15)]\n",
      "[(3, 16)] [(96, 16)]\n",
      "[(3, 17)] [(96, 17)]\n",
      "[(3, 18)] [(96, 18)]\n",
      "[(3, 19)] [(96, 19)]\n",
      "[(3, 20)] [(97, 20)]\n",
      "[(4, 21)] [(97, 21)]\n",
      "[(4, 22)] [(97, 22)]\n",
      "[(4, 23)] [(97, 23)]\n",
      "[(4, 24)] [(97, 24)]\n",
      "[(4, 25)] [(98, 25)]\n",
      "[(5, 26)] [(98, 26)]\n",
      "[(5, 27)] [(98, 27)]\n",
      "[(5, 28)] [(98, 28)]\n",
      "[(5, 29)] [(99, 29)]\n",
      "[(5, 30)] [(99, 30)]\n",
      "[(6, 31)] [(99, 31)]\n",
      "[(6, 32)] [(99, 32)]\n",
      "[(6, 33)] [(99, 33)]\n",
      "[(6, 34)] [(96, 34)]\n",
      "[(6, 35)] [(90, 35)]\n",
      "[(6, 36)] [(84, 36)]\n",
      "[(7, 37)] [(79, 37)]\n",
      "[(7, 38)] [(73, 38)]\n",
      "[(7, 39)] [(68, 39)]\n",
      "[(7, 40)] [(62, 40)]\n",
      "[(7, 41)] [(57, 41)]\n",
      "[(8, 42)] [(51, 42)]\n",
      "[(8, 43)] [(45, 43)]\n",
      "[(8, 44)] [(40, 44)]\n",
      "[(8, 45)] [(34, 45)]\n",
      "[(8, 46)] [(29, 46)]\n",
      "[(9, 47)] [(23, 47)]\n",
      "[(9, 48)] [(17, 48)]\n",
      "[(9, 49)] [(12, 49)]\n"
     ]
    }
   ],
   "source": [
    "from morpheus.project.application.write.Model.General import CreateModelCommand\n",
    "from morpheus.project.types.discretization.spatial import Rotation\n",
    "from morpheus.project.types.geometry import Polygon\n",
    "from morpheus.project.types.Model import ModelId\n",
    "\n",
    "polygon = Polygon(\n",
    "  type='Polygon',\n",
    "  coordinates=[[\n",
    "    (13.922514437551428, 50.964720483303836),\n",
    "    (13.925250781947113, 50.965228748412386),\n",
    "    (13.925036413951403, 50.96623732041704),\n",
    "    (13.92222441026388, 50.96629040370362),\n",
    "    (13.922514437551428, 50.964720483303836)\n",
    "  ]]\n",
    ")\n",
    "\n",
    "n_cols = 100\n",
    "n_rows = 50\n",
    "rotation = 0.0\n",
    "\n",
    "command = CreateModelCommand(\n",
    "  project_id=project_id,\n",
    "  user_id=user_id,\n",
    "  model_id=ModelId.new(),\n",
    "  geometry=polygon,\n",
    "  n_cols=n_cols,\n",
    "  n_rows=n_rows,\n",
    "  rotation=Rotation.from_float(rotation),\n",
    ")\n",
    "\n",
    "project_command_bus.dispatch(command)"
   ]
  },
  {
   "cell_type": "markdown",
   "id": "cde69ee770d30fc1",
   "metadata": {
    "collapsed": false,
    "papermill": {
     "duration": 0.003466,
     "end_time": "2024-08-19T20:26:54.106239",
     "exception": false,
     "start_time": "2024-08-19T20:26:54.102773",
     "status": "completed"
    },
    "tags": []
   },
   "source": [
    "# Read Latest Model"
   ]
  },
  {
   "cell_type": "code",
   "execution_count": 5,
   "id": "d2717a59e00a53d1",
   "metadata": {
    "ExecuteTime": {
     "end_time": "2024-08-19T20:25:32.004360Z",
     "start_time": "2024-08-19T20:25:31.995587Z"
    },
    "collapsed": false,
    "execution": {
     "iopub.execute_input": "2024-08-19T20:26:54.113348Z",
     "iopub.status.busy": "2024-08-19T20:26:54.113215Z",
     "iopub.status.idle": "2024-08-19T20:26:54.120492Z",
     "shell.execute_reply": "2024-08-19T20:26:54.120227Z"
    },
    "papermill": {
     "duration": 0.011826,
     "end_time": "2024-08-19T20:26:54.121339",
     "exception": false,
     "start_time": "2024-08-19T20:26:54.109513",
     "status": "completed"
    },
    "tags": []
   },
   "outputs": [
    {
     "data": {
      "text/plain": [
       "Model(model_id=ModelId(value='11d4721d-20d4-4d13-9930-47143fd57fc1'), spatial_discretization=SpatialDiscretization(geometry=Polygon(coordinates=[[[13.922514437551428, 50.964720483303836], [13.925250781947113, 50.965228748412386], [13.925036413951403, 50.96623732041704], [13.92222441026388, 50.96629040370362], [13.922514437551428, 50.964720483303836]]], type='Polygon'), grid=Grid(origin=Point(coordinates=[13.922224410263878, 50.9662904037036], type='Point'), col_widths=[3.3689415472885593, 3.3689415472885593, 3.3689415472885598, 3.368941547288559, 3.368941547288559, 3.3689415472885607, 3.3689415472885607, 3.368941547288557, 3.368941547288557, 3.3689415472885607, 3.368941547288564, 3.368941547288557, 3.368941547288557, 3.368941547288564, 3.368941547288557, 3.368941547288557, 3.368941547288564, 3.36894154728855, 3.368941547288564, 3.368941547288557, 3.368941547288557, 3.3689415472885713, 3.368941547288557, 3.368941547288557, 3.368941547288557, 3.368941547288557, 3.3689415472885713, 3.368941547288557, 3.368941547288543, 3.3689415472885713, 3.368941547288557, 3.368941547288557, 3.3689415472885713, 3.368941547288557, 3.368941547288543, 3.368941547288557, 3.3689415472885713, 3.368941547288557, 3.368941547288557, 3.368941547288557, 3.368941547288557, 3.368941547288557, 3.368941547288557, 3.3689415472885855, 3.368941547288557, 3.368941547288557, 3.3689415472885287, 3.3689415472885855, 3.368941547288557, 3.368941547288557, 3.368941547288557, 3.368941547288557, 3.3689415472885855, 3.368941547288557, 3.368941547288557, 3.368941547288557, 3.3689415472885287, 3.368941547288557, 3.368941547288557, 3.3689415472885855, 3.368941547288557, 3.368941547288557, 3.368941547288557, 3.368941547288557, 3.368941547288557, 3.3689415472885855, 3.368941547288557, 3.368941547288557, 3.3689415472885287, 3.368941547288557, 3.368941547288557, 3.368941547288557, 3.3689415472885855, 3.368941547288557, 3.368941547288557, 3.368941547288557, 3.368941547288557, 3.368941547288557, 3.368941547288557, 3.368941547288557, 3.368941547288614, 3.3689415472885003, 3.368941547288557, 3.368941547288557, 3.368941547288557, 3.368941547288557, 3.368941547288557, 3.368941547288614, 3.368941547288557, 3.368941547288557, 3.368941547288557, 3.368941547288557, 3.368941547288557, 3.3689415472885003, 3.368941547288614, 3.368941547288557, 3.368941547288557, 3.368941547288557, 3.368941547288557, 3.368941547288557], total_width=336.89415472885594, row_heights=[5.549889713171869, 5.549889713171869, 5.54988971317187, 5.5498897131718685, 5.549889713171872, 5.5498897131718685, 5.549889713171872, 5.549889713171865, 5.549889713171865, 5.549889713171879, 5.549889713171865, 5.549889713171872, 5.549889713171865, 5.549889713171879, 5.549889713171865, 5.549889713171865, 5.549889713171879, 5.549889713171851, 5.549889713171879, 5.549889713171879, 5.549889713171851, 5.549889713171879, 5.549889713171879, 5.549889713171865, 5.549889713171865, 5.549889713171865, 5.549889713171893, 5.549889713171865, 5.5498897131718365, 5.549889713171893, 5.549889713171865, 5.549889713171865, 5.549889713171893, 5.549889713171865, 5.5498897131718365, 5.549889713171865, 5.549889713171893, 5.549889713171865, 5.549889713171893, 5.549889713171865, 5.5498897131718365, 5.549889713171865, 5.549889713171893, 5.549889713171865, 5.549889713171865, 5.549889713171893, 5.549889713171808, 5.549889713171922, 5.549889713171865, 5.549889713171865], total_height=277.4944856585935, rotation=Rotation(value=0.0), length_unit=LengthUnit(unit=2)), affected_cells=ActiveCells(shape=(50, 100), data=array([[ True,  True,  True, ..., False, False, False],\n",
       "       [ True,  True,  True, ..., False, False, False],\n",
       "       [ True,  True,  True, ..., False, False, False],\n",
       "       ...,\n",
       "       [False, False, False, ..., False, False, False],\n",
       "       [False, False, False, ..., False, False, False],\n",
       "       [False, False, False, ..., False, False, False]]))), time_discretization=TimeDiscretization(start_date_time=StartDateTime(value=datetime.datetime(2020, 1, 1, 0, 0, tzinfo=datetime.timezone.utc)), end_date_time=EndDateTime(value=datetime.datetime(2020, 1, 2, 0, 0, tzinfo=datetime.timezone.utc)), stress_periods=StressPeriodCollection(values=[StressPeriod(start_date_time=StartDateTime(value=datetime.datetime(2020, 1, 1, 0, 0, tzinfo=datetime.timezone.utc)), number_of_time_steps=NumberOfTimeSteps(value=1), time_step_multiplier=TimeStepMultiplier(value=1.0), steady_state=IsSteadyState(value=True))]), time_unit=TimeUnit(unit=4)), boundaries=BoundaryCollection(boundaries=[]), observations=ObservationCollection(observations=[]), layers=LayersCollection(layers=[Layer(layer_id=LayerId(value='0838775e-39da-4089-82b6-86adb6f5904c'), name=LayerName(value='Default'), description=LayerDescription(value='Default'), confinement=LayerConfinement(type='confined'), properties=LayerProperties(hk=LayerPropertyValues(value=LayerPropertyDefaultValue(value=1.0), raster=None, zones=None), hani=LayerPropertyValues(value=LayerPropertyDefaultValue(value=1.0), raster=None, zones=None), vka=LayerPropertyValues(value=LayerPropertyDefaultValue(value=1.0), raster=None, zones=None), specific_storage=LayerPropertyValues(value=LayerPropertyDefaultValue(value=0.0001), raster=None, zones=None), specific_yield=LayerPropertyValues(value=LayerPropertyDefaultValue(value=0.1), raster=None, zones=None), initial_head=LayerPropertyValues(value=LayerPropertyDefaultValue(value=1.0), raster=None, zones=None), top=LayerPropertyValues(value=LayerPropertyDefaultValue(value=1.0), raster=None, zones=None), bottom=LayerPropertyValues(value=LayerPropertyDefaultValue(value=0.0), raster=None, zones=None)))]), transport=Transport(is_enabled=IsEnabled(value=False), substances=[]), variable_density=VariableDensityFlow(is_enabled=IsEnabled(value=False), viscosity_is_enabled=IsEnabled(value=False)))"
      ]
     },
     "execution_count": 5,
     "metadata": {},
     "output_type": "execute_result"
    }
   ],
   "source": [
    "from morpheus.project.application.read.ModelReader import ModelReader\n",
    "\n",
    "model_reader = ModelReader()\n",
    "model = model_reader.get_latest_model(project_id)\n",
    "model"
   ]
  },
  {
   "cell_type": "markdown",
   "id": "572a7b334c101e6c",
   "metadata": {
    "collapsed": false,
    "papermill": {
     "duration": 0.003229,
     "end_time": "2024-08-19T20:26:54.128114",
     "exception": false,
     "start_time": "2024-08-19T20:26:54.124885",
     "status": "completed"
    },
    "tags": []
   },
   "source": [
    "## Update Model Geometry\n"
   ]
  },
  {
   "cell_type": "code",
   "execution_count": 6,
   "id": "c38378d24fc310eb",
   "metadata": {
    "ExecuteTime": {
     "end_time": "2024-08-19T20:25:32.073844Z",
     "start_time": "2024-08-19T20:25:32.005546Z"
    },
    "collapsed": false,
    "execution": {
     "iopub.execute_input": "2024-08-19T20:26:54.134784Z",
     "iopub.status.busy": "2024-08-19T20:26:54.134663Z",
     "iopub.status.idle": "2024-08-19T20:26:54.187677Z",
     "shell.execute_reply": "2024-08-19T20:26:54.187418Z"
    },
    "papermill": {
     "duration": 0.057327,
     "end_time": "2024-08-19T20:26:54.188539",
     "exception": false,
     "start_time": "2024-08-19T20:26:54.131212",
     "status": "completed"
    },
    "tags": []
   },
   "outputs": [
    {
     "name": "stdout",
     "output_type": "stream",
     "text": [
      "[(0, 0)] [(99, 0)]\n",
      "[(0, 1)] [(99, 1)]\n",
      "[(0, 2)] [(99, 2)]\n",
      "[(0, 3)] [(99, 3)]\n",
      "[(0, 4)] [(99, 4)]\n",
      "[(0, 5)] [(99, 5)]\n",
      "[(0, 6)] [(99, 6)]\n",
      "[(0, 7)] [(99, 7)]\n",
      "[(0, 8)] [(99, 8)]\n",
      "[(0, 9)] [(99, 9)]\n",
      "[(0, 10)] [(99, 10)]\n",
      "[(0, 11)] [(99, 11)]\n",
      "[(0, 12)] [(99, 12)]\n",
      "[(0, 13)] [(99, 13)]\n",
      "[(0, 14)] [(99, 14)]\n",
      "[(0, 15)] [(99, 15)]\n",
      "[(0, 16)] [(99, 16)]\n",
      "[(0, 17)] [(99, 17)]\n",
      "[(0, 18)] [(99, 18)]\n",
      "[(0, 19)] [(99, 19)]\n",
      "[(0, 20)] [(99, 20)]\n",
      "[(0, 21)] [(99, 21)]\n",
      "[(0, 22)] [(99, 22)]\n",
      "[(0, 23)] [(99, 23)]\n",
      "[(0, 24)] [(99, 24)]\n",
      "[(0, 25)] [(99, 25)]\n",
      "[(0, 26)] [(99, 26)]\n",
      "[(0, 27)] [(99, 27)]\n",
      "[(0, 28)] [(99, 28)]\n",
      "[(0, 29)] [(99, 29)]\n",
      "[(0, 30)] [(99, 30)]\n",
      "[(0, 31)] [(99, 31)]\n",
      "[(0, 32)] [(99, 32)]\n",
      "[(0, 33)] [(99, 33)]\n",
      "[(0, 34)] [(99, 34)]\n",
      "[(0, 35)] [(99, 35)]\n",
      "[(0, 36)] [(99, 36)]\n",
      "[(0, 37)] [(99, 37)]\n",
      "[(0, 38)] [(99, 38)]\n",
      "[(0, 39)] [(99, 39)]\n",
      "[(0, 40)] [(99, 40)]\n",
      "[(0, 41)] [(99, 41)]\n",
      "[(0, 42)] [(99, 42)]\n",
      "[(0, 43)] [(99, 43)]\n",
      "[(0, 44)] [(99, 44)]\n",
      "[(0, 45)] [(99, 45)]\n",
      "[(0, 46)] [(99, 46)]\n",
      "[(0, 47)] [(99, 47)]\n",
      "[(0, 48)] [(99, 48)]\n",
      "[(0, 49)] [(99, 49)]\n"
     ]
    },
    {
     "data": {
      "text/plain": [
       "Polygon(coordinates=[[[13.922, 50.965], [13.925, 50.965], [13.925, 50.966], [13.922, 50.966], [13.922, 50.965]]], type='Polygon')"
      ]
     },
     "execution_count": 6,
     "metadata": {},
     "output_type": "execute_result"
    }
   ],
   "source": [
    "from morpheus.project.application.write.Model.Discretization import UpdateModelGeometryCommand\n",
    "\n",
    "new_polygon = Polygon(\n",
    "  type='Polygon',\n",
    "  coordinates=[[\n",
    "    (13.922, 50.965),\n",
    "    (13.925, 50.965),\n",
    "    (13.925, 50.966),\n",
    "    (13.922, 50.966),\n",
    "    (13.922, 50.965)\n",
    "  ]]\n",
    ")\n",
    "\n",
    "command = UpdateModelGeometryCommand(\n",
    "  project_id=project_id,\n",
    "  geometry=new_polygon,\n",
    "  user_id=user_id\n",
    ")\n",
    "\n",
    "project_command_bus.dispatch(command)\n",
    "\n",
    "model_reader = ModelReader()\n",
    "model = model_reader.get_latest_model(project_id)\n",
    "model.spatial_discretization.geometry"
   ]
  },
  {
   "cell_type": "markdown",
   "id": "91c1beb811cc5003",
   "metadata": {
    "collapsed": false,
    "papermill": {
     "duration": 0.003437,
     "end_time": "2024-08-19T20:26:54.195569",
     "exception": false,
     "start_time": "2024-08-19T20:26:54.192132",
     "status": "completed"
    },
    "tags": []
   },
   "source": [
    "## Update Model Grid Properties"
   ]
  },
  {
   "cell_type": "code",
   "execution_count": 7,
   "id": "3eeeb70e09d71fba",
   "metadata": {
    "ExecuteTime": {
     "end_time": "2024-08-19T20:25:32.101792Z",
     "start_time": "2024-08-19T20:25:32.074948Z"
    },
    "collapsed": false,
    "execution": {
     "iopub.execute_input": "2024-08-19T20:26:54.202514Z",
     "iopub.status.busy": "2024-08-19T20:26:54.202390Z",
     "iopub.status.idle": "2024-08-19T20:26:54.229116Z",
     "shell.execute_reply": "2024-08-19T20:26:54.228834Z"
    },
    "papermill": {
     "duration": 0.031169,
     "end_time": "2024-08-19T20:26:54.229990",
     "exception": false,
     "start_time": "2024-08-19T20:26:54.198821",
     "status": "completed"
    },
    "tags": []
   },
   "outputs": [
    {
     "name": "stdout",
     "output_type": "stream",
     "text": [
      "[(0, 0)] [(4, 0)]\n",
      "[(0, 1)] [(10, 1)]\n",
      "[(0, 2)] [(10, 2)]\n",
      "[(0, 3)] [(10, 3)]\n",
      "[(0, 4)] [(10, 4)]\n",
      "[(6, 5)] [(10, 5)]\n",
      "Polygon(coordinates=[[[13.922, 50.965], [13.925, 50.965], [13.925, 50.966], [13.922, 50.966], [13.922, 50.965]]], type='Polygon')\n",
      "Grid(origin=Point(coordinates=[13.921728464165456, 50.96596984662515], type='Point'), col_widths=[32.68894794320857, 32.68894794320857, 32.68894794320856, 32.688947943208575, 32.6889479432086, 32.68894794320852, 32.6889479432086, 32.68894794320855, 32.68894794320863, 32.688947943208575, 32.68894794320852], total_width=359.57842737529427, row_heights=[38.67716080928221, 38.67716080928221, 38.67716080928221, 38.67716080928221, 38.677160809282185, 38.67716080928224], total_height=232.06296485569328, rotation=Rotation(value=10), length_unit=LengthUnit(unit=2))\n",
      "{'type': 'raster', 'empty_value': False, 'shape': (6, 11), 'data': [[True, True, True, True, True, False, False, False, False, False, False], [True, True, True, True, True, True, True, True, True, True, True], [True, True, True, True, True, True, True, True, True, True, True], [True, True, True, True, True, True, True, True, True, True, True], [True, True, True, True, True, True, True, True, True, True, True], [False, False, False, False, False, False, True, True, True, True, True]]}\n"
     ]
    }
   ],
   "source": [
    "\n",
    "from morpheus.project.application.write.Model.Discretization import UpdateModelGridCommand\n",
    "\n",
    "new_del_col_relative = [0, 0.1, 0.2, 0.3, 0.4, 0.5, 0.6, 0.7, 0.8, 0.9, 1]\n",
    "new_del_row_relative = [0, 0.2, 0.4, 0.6, 0.8, 1]\n",
    "\n",
    "command = UpdateModelGridCommand(\n",
    "  project_id=project_id,\n",
    "  user_id=user_id,\n",
    "  n_cols=len(new_del_col_relative),\n",
    "  n_rows=len(new_del_row_relative),\n",
    "  rotation=10,\n",
    ")\n",
    "\n",
    "project_command_bus.dispatch(command)\n",
    "\n",
    "model_reader = ModelReader()\n",
    "model = model_reader.get_latest_model(project_id)\n",
    "print(model.spatial_discretization.geometry)\n",
    "print(model.spatial_discretization.grid)\n",
    "print(model.spatial_discretization.affected_cells.to_dict())"
   ]
  },
  {
   "cell_type": "markdown",
   "id": "2e17bfb7ad5edd8a",
   "metadata": {
    "collapsed": false,
    "papermill": {
     "duration": 0.003426,
     "end_time": "2024-08-19T20:26:54.237466",
     "exception": false,
     "start_time": "2024-08-19T20:26:54.234040",
     "status": "completed"
    },
    "tags": []
   },
   "source": [
    "## Update Model Affected Cells"
   ]
  },
  {
   "cell_type": "code",
   "execution_count": 8,
   "id": "2125ecf138c64a88",
   "metadata": {
    "ExecuteTime": {
     "end_time": "2024-08-19T20:25:32.111362Z",
     "start_time": "2024-08-19T20:25:32.102921Z"
    },
    "collapsed": false,
    "execution": {
     "iopub.execute_input": "2024-08-19T20:26:54.244948Z",
     "iopub.status.busy": "2024-08-19T20:26:54.244830Z",
     "iopub.status.idle": "2024-08-19T20:26:54.254506Z",
     "shell.execute_reply": "2024-08-19T20:26:54.254272Z"
    },
    "papermill": {
     "duration": 0.014326,
     "end_time": "2024-08-19T20:26:54.255263",
     "exception": false,
     "start_time": "2024-08-19T20:26:54.240937",
     "status": "completed"
    },
    "tags": []
   },
   "outputs": [],
   "source": [
    "from morpheus.project.application.write.Model.Discretization import UpdateModelAffectedCellsCommand\n",
    "\n",
    "model_reader = ModelReader()\n",
    "model = model_reader.get_latest_model(project_id=project_id)\n",
    "affected_cells = model.spatial_discretization.affected_cells\n",
    "\n",
    "assert affected_cells.is_active(col=0, row=0) == True\n",
    "affected_cells.set_inactive(col=0, row=0)\n",
    "assert affected_cells.is_active(col=0, row=0) == False\n",
    "\n",
    "command = UpdateModelAffectedCellsCommand(\n",
    "  project_id=project_id,\n",
    "  affected_cells=affected_cells,\n",
    "  user_id=user_id\n",
    ")\n",
    "\n",
    "project_command_bus.dispatch(command)"
   ]
  },
  {
   "cell_type": "code",
   "execution_count": 9,
   "id": "181c8ad99124273c",
   "metadata": {
    "ExecuteTime": {
     "end_time": "2024-08-19T20:25:32.115875Z",
     "start_time": "2024-08-19T20:25:32.112096Z"
    },
    "collapsed": false,
    "execution": {
     "iopub.execute_input": "2024-08-19T20:26:54.262062Z",
     "iopub.status.busy": "2024-08-19T20:26:54.261940Z",
     "iopub.status.idle": "2024-08-19T20:26:54.265424Z",
     "shell.execute_reply": "2024-08-19T20:26:54.265151Z"
    },
    "papermill": {
     "duration": 0.007813,
     "end_time": "2024-08-19T20:26:54.266336",
     "exception": false,
     "start_time": "2024-08-19T20:26:54.258523",
     "status": "completed"
    },
    "tags": []
   },
   "outputs": [],
   "source": [
    "model_reader = ModelReader()\n",
    "model = model_reader.get_latest_model(project_id=project_id)\n",
    "affected_cells = model.spatial_discretization.affected_cells\n",
    "assert affected_cells.is_active(col=0, row=0) == False"
   ]
  },
  {
   "cell_type": "markdown",
   "id": "accb680cfa47f091",
   "metadata": {
    "collapsed": false,
    "papermill": {
     "duration": 0.00299,
     "end_time": "2024-08-19T20:26:54.272774",
     "exception": false,
     "start_time": "2024-08-19T20:26:54.269784",
     "status": "completed"
    },
    "tags": []
   },
   "source": [
    "## Show Versions of Model so far"
   ]
  },
  {
   "cell_type": "code",
   "execution_count": 10,
   "id": "cb4afb5b3dd54cea",
   "metadata": {
    "ExecuteTime": {
     "end_time": "2024-08-19T20:25:32.120287Z",
     "start_time": "2024-08-19T20:25:32.116542Z"
    },
    "collapsed": false,
    "execution": {
     "iopub.execute_input": "2024-08-19T20:26:54.279425Z",
     "iopub.status.busy": "2024-08-19T20:26:54.279305Z",
     "iopub.status.idle": "2024-08-19T20:26:54.283462Z",
     "shell.execute_reply": "2024-08-19T20:26:54.283263Z"
    },
    "papermill": {
     "duration": 0.008429,
     "end_time": "2024-08-19T20:26:54.284209",
     "exception": false,
     "start_time": "2024-08-19T20:26:54.275780",
     "status": "completed"
    },
    "tags": []
   },
   "outputs": [
    {
     "data": {
      "text/plain": [
       "[ModelVersion(version_id=VersionId(value='d220c2a0-87fd-4397-b34e-b006ae450ad0'), tag=VersionTag(value='v0.0.0'), description=VersionDescription(value='Initial version'))]"
      ]
     },
     "execution_count": 10,
     "metadata": {},
     "output_type": "execute_result"
    }
   ],
   "source": [
    "model_reader = ModelReader()\n",
    "model_reader.get_versions(project_id=project_id)"
   ]
  },
  {
   "cell_type": "markdown",
   "id": "c1e717aa2a462cbb",
   "metadata": {
    "collapsed": false,
    "papermill": {
     "duration": 0.003074,
     "end_time": "2024-08-19T20:26:54.290444",
     "exception": false,
     "start_time": "2024-08-19T20:26:54.287370",
     "status": "completed"
    },
    "tags": []
   },
   "source": [
    "## Tag Version"
   ]
  },
  {
   "cell_type": "code",
   "execution_count": 11,
   "id": "f6001b161c3b63da",
   "metadata": {
    "ExecuteTime": {
     "end_time": "2024-08-19T20:25:32.132051Z",
     "start_time": "2024-08-19T20:25:32.120822Z"
    },
    "collapsed": false,
    "execution": {
     "iopub.execute_input": "2024-08-19T20:26:54.296973Z",
     "iopub.status.busy": "2024-08-19T20:26:54.296867Z",
     "iopub.status.idle": "2024-08-19T20:26:54.308599Z",
     "shell.execute_reply": "2024-08-19T20:26:54.308288Z"
    },
    "papermill": {
     "duration": 0.016014,
     "end_time": "2024-08-19T20:26:54.309479",
     "exception": false,
     "start_time": "2024-08-19T20:26:54.293465",
     "status": "completed"
    },
    "tags": []
   },
   "outputs": [],
   "source": [
    "from morpheus.project.application.write.Model.General import CreateModelVersionCommand\n",
    "from morpheus.project.types.ModelVersion import VersionTag, VersionDescription\n",
    "\n",
    "command = CreateModelVersionCommand(\n",
    "  project_id=project_id,\n",
    "  version_tag=VersionTag('v1.0.0'),\n",
    "  version_description=VersionDescription('Version 1.0.0'),\n",
    "  user_id=user_id\n",
    ")\n",
    "\n",
    "project_command_bus.dispatch(command)"
   ]
  },
  {
   "cell_type": "code",
   "execution_count": 12,
   "id": "91ce3ebddf8a88be",
   "metadata": {
    "ExecuteTime": {
     "end_time": "2024-08-19T20:25:32.137009Z",
     "start_time": "2024-08-19T20:25:32.133229Z"
    },
    "collapsed": false,
    "execution": {
     "iopub.execute_input": "2024-08-19T20:26:54.317011Z",
     "iopub.status.busy": "2024-08-19T20:26:54.316903Z",
     "iopub.status.idle": "2024-08-19T20:26:54.320001Z",
     "shell.execute_reply": "2024-08-19T20:26:54.319764Z"
    },
    "papermill": {
     "duration": 0.00762,
     "end_time": "2024-08-19T20:26:54.320799",
     "exception": false,
     "start_time": "2024-08-19T20:26:54.313179",
     "status": "completed"
    },
    "tags": []
   },
   "outputs": [
    {
     "data": {
      "text/plain": [
       "[ModelVersion(version_id=VersionId(value='7152ed26-393b-41e1-aa57-26e12def2ca9'), tag=VersionTag(value='v1.0.0'), description=VersionDescription(value='Version 1.0.0')),\n",
       " ModelVersion(version_id=VersionId(value='d220c2a0-87fd-4397-b34e-b006ae450ad0'), tag=VersionTag(value='v0.0.0'), description=VersionDescription(value='Initial version'))]"
      ]
     },
     "execution_count": 12,
     "metadata": {},
     "output_type": "execute_result"
    }
   ],
   "source": [
    "model_reader.get_versions(project_id=project_id)"
   ]
  },
  {
   "cell_type": "code",
   "execution_count": 13,
   "id": "98e0fcfb479f8ff8",
   "metadata": {
    "ExecuteTime": {
     "end_time": "2024-08-19T20:25:32.141350Z",
     "start_time": "2024-08-19T20:25:32.137680Z"
    },
    "collapsed": false,
    "execution": {
     "iopub.execute_input": "2024-08-19T20:26:54.327967Z",
     "iopub.status.busy": "2024-08-19T20:26:54.327848Z",
     "iopub.status.idle": "2024-08-19T20:26:54.330793Z",
     "shell.execute_reply": "2024-08-19T20:26:54.330593Z"
    },
    "papermill": {
     "duration": 0.007317,
     "end_time": "2024-08-19T20:26:54.331531",
     "exception": false,
     "start_time": "2024-08-19T20:26:54.324214",
     "status": "completed"
    },
    "tags": []
   },
   "outputs": [
    {
     "data": {
      "text/plain": [
       "ModelVersion(version_id=VersionId(value='7152ed26-393b-41e1-aa57-26e12def2ca9'), tag=VersionTag(value='v1.0.0'), description=VersionDescription(value='Version 1.0.0'))"
      ]
     },
     "execution_count": 13,
     "metadata": {},
     "output_type": "execute_result"
    }
   ],
   "source": [
    "version = model_reader.get_version_by_tag(project_id=project_id, tag=VersionTag('v1.0.0'))\n",
    "version"
   ]
  },
  {
   "cell_type": "code",
   "execution_count": 14,
   "id": "d447991ac286684f",
   "metadata": {
    "ExecuteTime": {
     "end_time": "2024-08-19T20:25:32.149269Z",
     "start_time": "2024-08-19T20:25:32.143807Z"
    },
    "collapsed": false,
    "execution": {
     "iopub.execute_input": "2024-08-19T20:26:54.338583Z",
     "iopub.status.busy": "2024-08-19T20:26:54.338472Z",
     "iopub.status.idle": "2024-08-19T20:26:54.343784Z",
     "shell.execute_reply": "2024-08-19T20:26:54.343572Z"
    },
    "papermill": {
     "duration": 0.009653,
     "end_time": "2024-08-19T20:26:54.344526",
     "exception": false,
     "start_time": "2024-08-19T20:26:54.334873",
     "status": "completed"
    },
    "tags": []
   },
   "outputs": [],
   "source": [
    "from morpheus.project.application.write.Model.General import UpdateModelVersionDescriptionCommand\n",
    "\n",
    "command = UpdateModelVersionDescriptionCommand(\n",
    "  project_id=project_id,\n",
    "  version_id=version.version_id,\n",
    "  version_description=VersionDescription('Version 1.0.0 - Updated'),\n",
    "  user_id=user_id\n",
    ")\n",
    "\n",
    "project_command_bus.dispatch(command)"
   ]
  },
  {
   "cell_type": "code",
   "execution_count": 15,
   "id": "98bd0d67dcdef72c",
   "metadata": {
    "ExecuteTime": {
     "end_time": "2024-08-19T20:25:32.153722Z",
     "start_time": "2024-08-19T20:25:32.149929Z"
    },
    "collapsed": false,
    "execution": {
     "iopub.execute_input": "2024-08-19T20:26:54.351617Z",
     "iopub.status.busy": "2024-08-19T20:26:54.351508Z",
     "iopub.status.idle": "2024-08-19T20:26:54.355068Z",
     "shell.execute_reply": "2024-08-19T20:26:54.354858Z"
    },
    "papermill": {
     "duration": 0.007918,
     "end_time": "2024-08-19T20:26:54.355801",
     "exception": false,
     "start_time": "2024-08-19T20:26:54.347883",
     "status": "completed"
    },
    "tags": []
   },
   "outputs": [
    {
     "data": {
      "text/plain": [
       "'Version 1.0.0 - Updated'"
      ]
     },
     "execution_count": 15,
     "metadata": {},
     "output_type": "execute_result"
    }
   ],
   "source": [
    "version = model_reader.get_version_by_tag(project_id=project_id, tag=VersionTag('v1.0.0'))\n",
    "version.description.to_str()"
   ]
  },
  {
   "cell_type": "code",
   "execution_count": null,
   "id": "63cf67d6b59769a8",
   "metadata": {
    "ExecuteTime": {
     "end_time": "2024-08-19T20:25:32.155730Z",
     "start_time": "2024-08-19T20:25:32.154302Z"
    },
    "papermill": {
     "duration": 0.003491,
     "end_time": "2024-08-19T20:26:54.362741",
     "exception": false,
     "start_time": "2024-08-19T20:26:54.359250",
     "status": "completed"
    },
    "tags": []
   },
   "outputs": [],
   "source": []
  },
  {
   "cell_type": "markdown",
   "id": "d3450ee74861c27d",
   "metadata": {
    "papermill": {
     "duration": 0.003209,
     "end_time": "2024-08-19T20:26:54.369194",
     "exception": false,
     "start_time": "2024-08-19T20:26:54.365985",
     "status": "completed"
    },
    "tags": []
   },
   "source": [
    "# Add well boundary"
   ]
  },
  {
   "cell_type": "code",
   "execution_count": 16,
   "id": "364435815cd6954f",
   "metadata": {
    "ExecuteTime": {
     "end_time": "2024-08-19T20:25:32.167934Z",
     "start_time": "2024-08-19T20:25:32.156307Z"
    },
    "execution": {
     "iopub.execute_input": "2024-08-19T20:26:54.376042Z",
     "iopub.status.busy": "2024-08-19T20:26:54.375910Z",
     "iopub.status.idle": "2024-08-19T20:26:54.388509Z",
     "shell.execute_reply": "2024-08-19T20:26:54.388235Z"
    },
    "papermill": {
     "duration": 0.017056,
     "end_time": "2024-08-19T20:26:54.389360",
     "exception": false,
     "start_time": "2024-08-19T20:26:54.372304",
     "status": "completed"
    },
    "tags": []
   },
   "outputs": [],
   "source": [
    "from morpheus.project.application.write.Model.Boundaries.AddModelBoundary import AddModelBoundaryCommandPayload, AddModelBoundaryCommand\n",
    "\n",
    "payload: AddModelBoundaryCommandPayload = {\n",
    "  'project_id': project_id.to_str(),\n",
    "  'model_id': model.model_id.to_str(),\n",
    "  'boundary_type': 'well',\n",
    "  'boundary_geometry': {\n",
    "    'type': 'Point',\n",
    "    'coordinates': [13.923, 50.965]\n",
    "  },\n",
    "}\n",
    "\n",
    "project_command_bus.dispatch(AddModelBoundaryCommand.from_payload(user_id=user_id, payload=payload))"
   ]
  },
  {
   "cell_type": "markdown",
   "id": "14cbb28e7eba7481",
   "metadata": {
    "papermill": {
     "duration": 0.003575,
     "end_time": "2024-08-19T20:26:54.396778",
     "exception": false,
     "start_time": "2024-08-19T20:26:54.393203",
     "status": "completed"
    },
    "tags": []
   },
   "source": [
    "# Read Model Boundaries"
   ]
  },
  {
   "cell_type": "code",
   "execution_count": 17,
   "id": "dde2c00f187dbc9c",
   "metadata": {
    "ExecuteTime": {
     "end_time": "2024-08-19T20:25:32.173016Z",
     "start_time": "2024-08-19T20:25:32.169048Z"
    },
    "execution": {
     "iopub.execute_input": "2024-08-19T20:26:54.404158Z",
     "iopub.status.busy": "2024-08-19T20:26:54.403947Z",
     "iopub.status.idle": "2024-08-19T20:26:54.408720Z",
     "shell.execute_reply": "2024-08-19T20:26:54.408509Z"
    },
    "papermill": {
     "duration": 0.009258,
     "end_time": "2024-08-19T20:26:54.409457",
     "exception": false,
     "start_time": "2024-08-19T20:26:54.400199",
     "status": "completed"
    },
    "tags": []
   },
   "outputs": [
    {
     "data": {
      "text/plain": [
       "BoundaryCollection(boundaries=[WellBoundary(id=BoundaryId(value='ba447e4e-d392-4b5d-9437-509b939d32ad'), type=<BoundaryType.well: 'well'>, name=BoundaryName(value='new well boundary'), interpolation=<InterpolationType.forward_fill: 'forward_fill'>, tags=BoundaryTags(value=[]), geometry=Point(coordinates=[13.923, 50.965], type='Point'), affected_cells=ActiveCells(shape=(6, 11), data=array([[False, False, False, False, False, False, False, False, False,\n",
       "        False, False],\n",
       "       [False, False, False, False, False, False, False, False, False,\n",
       "        False, False],\n",
       "       [False, False, False, False, False, False, False, False, False,\n",
       "        False, False],\n",
       "       [False, False, False, False, False, False, False, False, False,\n",
       "        False, False],\n",
       "       [False, False, False, False, False, False, False, False, False,\n",
       "        False, False],\n",
       "       [False, False, False,  True, False, False, False, False, False,\n",
       "        False, False]])), affected_layers=[LayerId(value='0838775e-39da-4089-82b6-86adb6f5904c')], observations=[WellObservation(observation_id=ObservationId(value='a9253ab5-9f06-4f9b-bed1-adeb383c5265'), observation_name=ObservationName(value='Observation Point 1'), geometry=Point(coordinates=[13.923, 50.965], type='Point'), data=[WellObservationValue(date_time=StartDateTime(value=datetime.datetime(2020, 1, 1, 0, 0, tzinfo=datetime.timezone.utc)), pumping_rate=PumpingRate(value=0.0))])], enabled=True)])"
      ]
     },
     "execution_count": 17,
     "metadata": {},
     "output_type": "execute_result"
    }
   ],
   "source": [
    "model = model_reader.get_latest_model(project_id=project_id)\n",
    "model.boundaries"
   ]
  },
  {
   "cell_type": "markdown",
   "id": "23e3edd16ade53a",
   "metadata": {
    "papermill": {
     "duration": 0.003345,
     "end_time": "2024-08-19T20:26:54.416290",
     "exception": false,
     "start_time": "2024-08-19T20:26:54.412945",
     "status": "completed"
    },
    "tags": []
   },
   "source": [
    "# Remove Well Boundary"
   ]
  },
  {
   "cell_type": "code",
   "execution_count": 18,
   "id": "1bae17b57bc0a1e0",
   "metadata": {
    "ExecuteTime": {
     "end_time": "2024-08-19T20:25:32.184024Z",
     "start_time": "2024-08-19T20:25:32.173750Z"
    },
    "execution": {
     "iopub.execute_input": "2024-08-19T20:26:54.423541Z",
     "iopub.status.busy": "2024-08-19T20:26:54.423405Z",
     "iopub.status.idle": "2024-08-19T20:26:54.430449Z",
     "shell.execute_reply": "2024-08-19T20:26:54.430150Z"
    },
    "papermill": {
     "duration": 0.011575,
     "end_time": "2024-08-19T20:26:54.431217",
     "exception": false,
     "start_time": "2024-08-19T20:26:54.419642",
     "status": "completed"
    },
    "tags": []
   },
   "outputs": [],
   "source": [
    "from morpheus.project.application.write.Model.Boundaries.RemoveModelBoundary import RemoveModelBoundaryCommandPayload, RemoveModelBoundaryCommand\n",
    "\n",
    "boundary_id = model.boundaries[0].id\n",
    "\n",
    "payload: RemoveModelBoundaryCommandPayload = {\n",
    "  'project_id': project_id.to_str(),\n",
    "  'model_id': model.model_id.to_str(),\n",
    "  'boundary_id': boundary_id.to_str(),\n",
    "}\n",
    "\n",
    "project_command_bus.dispatch(RemoveModelBoundaryCommand.from_payload(user_id=user_id, payload=payload))"
   ]
  },
  {
   "cell_type": "code",
   "execution_count": 19,
   "id": "db153e9460ab7bc6",
   "metadata": {
    "ExecuteTime": {
     "end_time": "2024-08-19T20:25:32.189116Z",
     "start_time": "2024-08-19T20:25:32.184975Z"
    },
    "execution": {
     "iopub.execute_input": "2024-08-19T20:26:54.439119Z",
     "iopub.status.busy": "2024-08-19T20:26:54.438915Z",
     "iopub.status.idle": "2024-08-19T20:26:54.442405Z",
     "shell.execute_reply": "2024-08-19T20:26:54.442191Z"
    },
    "papermill": {
     "duration": 0.008136,
     "end_time": "2024-08-19T20:26:54.443142",
     "exception": false,
     "start_time": "2024-08-19T20:26:54.435006",
     "status": "completed"
    },
    "tags": []
   },
   "outputs": [
    {
     "data": {
      "text/plain": [
       "BoundaryCollection(boundaries=[])"
      ]
     },
     "execution_count": 19,
     "metadata": {},
     "output_type": "execute_result"
    }
   ],
   "source": [
    "model = model_reader.get_latest_model(project_id=project_id)\n",
    "model.boundaries"
   ]
  },
  {
   "cell_type": "code",
   "execution_count": null,
   "id": "dc20739afcda859d",
   "metadata": {
    "ExecuteTime": {
     "end_time": "2024-08-19T20:25:32.191192Z",
     "start_time": "2024-08-19T20:25:32.189790Z"
    },
    "papermill": {
     "duration": 0.003312,
     "end_time": "2024-08-19T20:26:54.450069",
     "exception": false,
     "start_time": "2024-08-19T20:26:54.446757",
     "status": "completed"
    },
    "tags": []
   },
   "outputs": [],
   "source": []
  }
 ],
 "metadata": {
  "kernelspec": {
   "display_name": "Python 3",
   "language": "python",
   "name": "python3"
  },
  "language_info": {
   "codemirror_mode": {
    "name": "ipython",
    "version": 3
   },
   "file_extension": ".py",
   "mimetype": "text/x-python",
   "name": "python",
   "nbconvert_exporter": "python",
   "pygments_lexer": "ipython3",
   "version": "3.12.2"
  },
  "papermill": {
   "default_parameters": {},
   "duration": 5.75926,
   "end_time": "2024-08-19T20:26:57.071814",
   "environment_variables": {},
   "exception": null,
   "input_path": "./notebooks/EventSourcingModel.ipynb",
   "output_path": "./notebooks/EventSourcingModel.ipynb",
   "parameters": {},
   "start_time": "2024-08-19T20:26:51.312554",
   "version": "2.6.0"
  }
 },
 "nbformat": 4,
 "nbformat_minor": 5
}