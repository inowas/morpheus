{
 "cells": [
  {
   "cell_type": "code",
   "execution_count": 1,
   "id": "ba6761fae9d5e5cb",
   "metadata": {
    "ExecuteTime": {
     "end_time": "2024-05-14T07:54:04.361738Z",
     "start_time": "2024-05-14T07:54:04.356391Z"
    },
    "collapsed": false,
    "execution": {
     "iopub.execute_input": "2024-05-15T16:00:24.445274Z",
     "iopub.status.busy": "2024-05-15T16:00:24.444909Z",
     "iopub.status.idle": "2024-05-15T16:00:24.449571Z",
     "shell.execute_reply": "2024-05-15T16:00:24.449123Z"
    },
    "papermill": {
     "duration": 0.014827,
     "end_time": "2024-05-15T16:00:24.451067",
     "exception": false,
     "start_time": "2024-05-15T16:00:24.436240",
     "status": "completed"
    },
    "tags": []
   },
   "source": [
    "import sys\n",
    "\n",
    "sys.path.insert(0, '..')"
   ],
   "outputs": []
  },
  {
   "cell_type": "markdown",
   "id": "5ede1ba5e0993dd1",
   "metadata": {
    "collapsed": false,
    "papermill": {
     "duration": 0.002751,
     "end_time": "2024-05-15T16:00:24.458008",
     "exception": false,
     "start_time": "2024-05-15T16:00:24.455257",
     "status": "completed"
    },
    "tags": []
   },
   "source": [
    "## Setup the model area"
   ]
  },
  {
   "cell_type": "code",
   "execution_count": 2,
   "id": "2f69504ab35487aa",
   "metadata": {
    "ExecuteTime": {
     "end_time": "2024-05-14T07:54:04.588412Z",
     "start_time": "2024-05-14T07:54:04.392783Z"
    },
    "collapsed": false,
    "execution": {
     "iopub.execute_input": "2024-05-15T16:00:24.464390Z",
     "iopub.status.busy": "2024-05-15T16:00:24.463997Z",
     "iopub.status.idle": "2024-05-15T16:00:24.591363Z",
     "shell.execute_reply": "2024-05-15T16:00:24.590317Z"
    },
    "papermill": {
     "duration": 0.13344,
     "end_time": "2024-05-15T16:00:24.594025",
     "exception": false,
     "start_time": "2024-05-15T16:00:24.460585",
     "status": "completed"
    },
    "tags": []
   },
   "source": [
    "from morpheus.project.types.discretization import SpatialDiscretization\n",
    "from morpheus.project.types.discretization.spatial import Rotation, LengthUnit, Grid, ActiveCells\n",
    "from morpheus.project.types.geometry import Polygon, LineString\n",
    "\n",
    "polygon = Polygon(\n",
    "  type='Polygon',\n",
    "  coordinates=[[\n",
    "    (13.922514437551428, 50.964720483303836),\n",
    "    (13.925250781947113, 50.965228748412386),\n",
    "    (13.925036413951403, 50.96623732041704),\n",
    "    (13.92222441026388, 50.96629040370362),\n",
    "    (13.922514437551428, 50.964720483303836)\n",
    "  ]]\n",
    ")\n",
    "\n",
    "rotation = Rotation(0)\n",
    "length_unit = LengthUnit.meters()\n",
    "relative_col_coordinates = [0, 0.1, 0.2, 0.3, 0.4, 0.5, 0.6, 0.7, 0.8, 0.9, 1]\n",
    "relative_row_coordinates = [0, 0.1, 0.2, 0.3, 0.4, 0.5, 0.6, 0.7, 0.8, 0.9, 1]\n",
    "\n",
    "grid = Grid.from_polygon_with_relative_coordinates(\n",
    "  polygon=polygon,\n",
    "  relative_col_coordinates=relative_col_coordinates,\n",
    "  relative_row_coordinates=relative_row_coordinates,\n",
    "  rotation=rotation,\n",
    ")\n",
    "\n",
    "spatial_discretization = SpatialDiscretization(\n",
    "  geometry=polygon,\n",
    "  grid=grid,\n",
    "  affected_cells=ActiveCells.from_polygon(polygon=polygon, grid=grid),\n",
    ")\n",
    "\n",
    "spatial_discretization\n"
   ],
   "outputs": []
  },
  {
   "cell_type": "markdown",
   "id": "fa27e67f9d801845",
   "metadata": {
    "collapsed": false,
    "papermill": {
     "duration": 0.002065,
     "end_time": "2024-05-15T16:00:24.601055",
     "exception": false,
     "start_time": "2024-05-15T16:00:24.598990",
     "status": "completed"
    },
    "tags": []
   },
   "source": [
    "## Setup Time Discretization"
   ]
  },
  {
   "cell_type": "code",
   "execution_count": 3,
   "id": "8e4e63dd138db9fc",
   "metadata": {
    "ExecuteTime": {
     "end_time": "2024-05-14T07:54:04.611156Z",
     "start_time": "2024-05-14T07:54:04.596219Z"
    },
    "collapsed": false,
    "execution": {
     "iopub.execute_input": "2024-05-15T16:00:24.612596Z",
     "iopub.status.busy": "2024-05-15T16:00:24.612209Z",
     "iopub.status.idle": "2024-05-15T16:00:24.631160Z",
     "shell.execute_reply": "2024-05-15T16:00:24.628459Z"
    },
    "papermill": {
     "duration": 0.028013,
     "end_time": "2024-05-15T16:00:24.633888",
     "exception": false,
     "start_time": "2024-05-15T16:00:24.605875",
     "status": "completed"
    },
    "tags": []
   },
   "source": [
    "from morpheus.project.types.discretization.time.TimeUnit import TimeUnit\n",
    "from morpheus.project.types.discretization.time.Stressperiods import StartDateTime, StressPeriodCollection, \\\n",
    "  StressPeriod, NumberOfTimeSteps, TimeStepMultiplier, IsSteadyState\n",
    "from morpheus.project.types.discretization.time import TimeDiscretization\n",
    "from datetime import datetime\n",
    "\n",
    "time_discretization = TimeDiscretization(\n",
    "  start_date_time=StartDateTime.from_datetime(datetime(2020, 1, 1)),\n",
    "  end_date_time=StartDateTime.from_datetime(datetime(2020, 12, 31)),\n",
    "  stress_periods=StressPeriodCollection([\n",
    "    StressPeriod(\n",
    "      start_date_time=StartDateTime.from_datetime(datetime(2020, 1, 1)),\n",
    "      number_of_time_steps=NumberOfTimeSteps(1),\n",
    "      time_step_multiplier=TimeStepMultiplier(1),\n",
    "      steady_state=IsSteadyState.yes()\n",
    "    ),\n",
    "    StressPeriod(\n",
    "      start_date_time=StartDateTime.from_datetime(datetime(2020, 2, 1)),\n",
    "      number_of_time_steps=NumberOfTimeSteps(1),\n",
    "      time_step_multiplier=TimeStepMultiplier(1),\n",
    "      steady_state=IsSteadyState.no()\n",
    "    ),\n",
    "    StressPeriod(\n",
    "      start_date_time=StartDateTime.from_datetime(datetime(2020, 3, 1)),\n",
    "      number_of_time_steps=NumberOfTimeSteps(1),\n",
    "      time_step_multiplier=TimeStepMultiplier(1),\n",
    "      steady_state=IsSteadyState.no()\n",
    "    ),\n",
    "    StressPeriod(\n",
    "      start_date_time=StartDateTime.from_datetime(datetime(2020, 4, 1)),\n",
    "      number_of_time_steps=NumberOfTimeSteps(1),\n",
    "      time_step_multiplier=TimeStepMultiplier(1),\n",
    "      steady_state=IsSteadyState.no()\n",
    "    ),\n",
    "    StressPeriod(\n",
    "      start_date_time=StartDateTime.from_datetime(datetime(2020, 5, 1)),\n",
    "      number_of_time_steps=NumberOfTimeSteps(1),\n",
    "      time_step_multiplier=TimeStepMultiplier(1),\n",
    "      steady_state=IsSteadyState.no()\n",
    "    ),\n",
    "    StressPeriod(\n",
    "      start_date_time=StartDateTime.from_datetime(datetime(2020, 6, 1)),\n",
    "      number_of_time_steps=NumberOfTimeSteps(1),\n",
    "      time_step_multiplier=TimeStepMultiplier(1),\n",
    "      steady_state=IsSteadyState.no()\n",
    "    ),\n",
    "    StressPeriod(\n",
    "      start_date_time=StartDateTime.from_datetime(datetime(2020, 7, 1)),\n",
    "      number_of_time_steps=NumberOfTimeSteps(1),\n",
    "      time_step_multiplier=TimeStepMultiplier(1),\n",
    "      steady_state=IsSteadyState.no()\n",
    "    ),\n",
    "    StressPeriod(\n",
    "      start_date_time=StartDateTime.from_datetime(datetime(2020, 8, 1)),\n",
    "      number_of_time_steps=NumberOfTimeSteps(1),\n",
    "      time_step_multiplier=TimeStepMultiplier(1),\n",
    "      steady_state=IsSteadyState.no()\n",
    "    ),\n",
    "    StressPeriod(\n",
    "      start_date_time=StartDateTime.from_datetime(datetime(2020, 9, 1)),\n",
    "      number_of_time_steps=NumberOfTimeSteps(1),\n",
    "      time_step_multiplier=TimeStepMultiplier(1),\n",
    "      steady_state=IsSteadyState.no()\n",
    "    ),\n",
    "    StressPeriod(\n",
    "      start_date_time=StartDateTime.from_datetime(datetime(2020, 10, 1)),\n",
    "      number_of_time_steps=NumberOfTimeSteps(1),\n",
    "      time_step_multiplier=TimeStepMultiplier(1),\n",
    "      steady_state=IsSteadyState.no()\n",
    "    ),\n",
    "    StressPeriod(\n",
    "      start_date_time=StartDateTime.from_datetime(datetime(2020, 11, 1)),\n",
    "      number_of_time_steps=NumberOfTimeSteps(1),\n",
    "      time_step_multiplier=TimeStepMultiplier(1),\n",
    "      steady_state=IsSteadyState.no()\n",
    "    ),\n",
    "    StressPeriod(\n",
    "      start_date_time=StartDateTime.from_datetime(datetime(2020, 12, 1)),\n",
    "      number_of_time_steps=NumberOfTimeSteps(1),\n",
    "      time_step_multiplier=TimeStepMultiplier(1),\n",
    "      steady_state=IsSteadyState.no()\n",
    "    ),\n",
    "  ]),\n",
    "  time_unit=TimeUnit.days()\n",
    ")\n",
    "\n",
    "time_discretization"
   ],
   "outputs": []
  },
  {
   "cell_type": "code",
   "execution_count": 4,
   "id": "1540b870ae83f298",
   "metadata": {
    "ExecuteTime": {
     "end_time": "2024-05-14T07:54:05.043150Z",
     "start_time": "2024-05-14T07:54:04.613185Z"
    },
    "collapsed": false,
    "execution": {
     "iopub.execute_input": "2024-05-15T16:00:24.645994Z",
     "iopub.status.busy": "2024-05-15T16:00:24.645652Z",
     "iopub.status.idle": "2024-05-15T16:00:24.987967Z",
     "shell.execute_reply": "2024-05-15T16:00:24.987713Z"
    },
    "papermill": {
     "duration": 0.34989,
     "end_time": "2024-05-15T16:00:24.988842",
     "exception": false,
     "start_time": "2024-05-15T16:00:24.638952",
     "status": "completed"
    },
    "tags": []
   },
   "source": [
    "import folium\n",
    "\n",
    "m = folium.Map(tiles=\"cartodbpositron\", crs=\"EPSG3857\", zoom_start=12, location=[50.965, 13.922])\n",
    "m.add_child(folium.GeoJson(polygon.as_geojson()))\n",
    "\n",
    "m.fit_bounds(m.get_bounds())\n",
    "m"
   ],
   "outputs": []
  },
  {
   "cell_type": "markdown",
   "id": "9df9979b6c9bdbed",
   "metadata": {
    "collapsed": false,
    "papermill": {
     "duration": 0.001682,
     "end_time": "2024-05-15T16:00:24.992502",
     "exception": false,
     "start_time": "2024-05-15T16:00:24.990820",
     "status": "completed"
    },
    "tags": []
   },
   "source": [
    "## Setup model"
   ]
  },
  {
   "cell_type": "code",
   "execution_count": 5,
   "id": "77045c334efc769c",
   "metadata": {
    "ExecuteTime": {
     "end_time": "2024-05-14T07:54:05.357555Z",
     "start_time": "2024-05-14T07:54:05.046112Z"
    },
    "collapsed": false,
    "execution": {
     "iopub.execute_input": "2024-05-15T16:00:24.996371Z",
     "iopub.status.busy": "2024-05-15T16:00:24.996211Z",
     "iopub.status.idle": "2024-05-15T16:00:25.138033Z",
     "shell.execute_reply": "2024-05-15T16:00:25.137686Z"
    },
    "papermill": {
     "duration": 0.144974,
     "end_time": "2024-05-15T16:00:25.139076",
     "exception": false,
     "start_time": "2024-05-15T16:00:24.994102",
     "status": "completed"
    },
    "tags": []
   },
   "source": [
    "from morpheus.project.types.Model import Model\n",
    "\n",
    "model = Model.new()\n",
    "model = model.with_updated_time_discretization(time_discretization)\n",
    "model = model.with_updated_spatial_discretization(spatial_discretization=spatial_discretization)"
   ],
   "outputs": []
  },
  {
   "cell_type": "markdown",
   "id": "62ae3587df801000",
   "metadata": {
    "collapsed": false,
    "papermill": {
     "duration": 0.00165,
     "end_time": "2024-05-15T16:00:25.142680",
     "exception": false,
     "start_time": "2024-05-15T16:00:25.141030",
     "status": "completed"
    },
    "tags": []
   },
   "source": [
    "# Setup constant head boundary with 1 observation"
   ]
  },
  {
   "cell_type": "code",
   "execution_count": 6,
   "id": "53679913aee28ce9",
   "metadata": {
    "ExecuteTime": {
     "end_time": "2024-05-14T07:54:05.393517Z",
     "start_time": "2024-05-14T07:54:05.364327Z"
    },
    "collapsed": false,
    "execution": {
     "iopub.execute_input": "2024-05-15T16:00:25.147317Z",
     "iopub.status.busy": "2024-05-15T16:00:25.146955Z",
     "iopub.status.idle": "2024-05-15T16:00:25.168113Z",
     "shell.execute_reply": "2024-05-15T16:00:25.167847Z"
    },
    "papermill": {
     "duration": 0.024473,
     "end_time": "2024-05-15T16:00:25.168957",
     "exception": false,
     "start_time": "2024-05-15T16:00:25.144484",
     "status": "completed"
    },
    "tags": []
   },
   "source": [
    "from morpheus.project.types.boundaries.Observation import ObservationName\n",
    "from morpheus.project.types.geometry import Point\n",
    "from morpheus.project.types.boundaries.Boundary import BoundaryName, ConstantHeadBoundary\n",
    "from morpheus.project.types.boundaries.ConstantHeadObservation import ConstantHeadObservation, ConstantHeadRawDataItem, \\\n",
    "  HeadValue, ObservationId\n",
    "\n",
    "layers_list = [model.layers.layers[0].layer_id]\n",
    "constant_head = ConstantHeadBoundary.from_geometry(\n",
    "  name=BoundaryName('constant_head'),\n",
    "  geometry=LineString([\n",
    "    (13.9223, 50.9662),\n",
    "    (13.9250, 50.96615),\n",
    "  ]),\n",
    "  grid=grid,\n",
    "  affected_layers=[layers_list[0]],\n",
    "  observations=[\n",
    "    ConstantHeadObservation(\n",
    "      observation_id=ObservationId.new(),\n",
    "      observation_name=ObservationName.default(),\n",
    "      geometry=Point((13.9223, 50.9662)),\n",
    "      data=[\n",
    "        ConstantHeadRawDataItem(\n",
    "          date_time=StartDateTime.from_datetime(datetime(2019, 1, 1)),\n",
    "          head=HeadValue.from_float(100),\n",
    "        ),\n",
    "        ConstantHeadRawDataItem(\n",
    "          date_time=StartDateTime.from_datetime(datetime(2021, 12, 31)),\n",
    "          head=HeadValue.from_float(300),\n",
    "        ),\n",
    "      ]\n",
    "    )\n",
    "  ]\n",
    ")\n",
    "\n",
    "constant_head.affected_cells = constant_head.affected_cells.filter(\n",
    "  lambda cell: spatial_discretization.affected_cells.contains(cell))\n",
    "\n",
    "m.add_child(folium.GeoJson(constant_head.as_geojson()))\n",
    "m.add_child(folium.GeoJson(constant_head.affected_cells.to_geojson(grid).as_geojson()))\n",
    "for constant_head.observation in constant_head.observations:\n",
    "  m.add_child(folium.GeoJson(constant_head.observation.as_geojson()))\n",
    "m.fit_bounds(m.get_bounds())\n",
    "m"
   ],
   "outputs": []
  },
  {
   "cell_type": "code",
   "execution_count": 7,
   "id": "621e2265ae79b1ae",
   "metadata": {
    "ExecuteTime": {
     "end_time": "2024-05-14T07:54:05.400418Z",
     "start_time": "2024-05-14T07:54:05.394385Z"
    },
    "collapsed": false,
    "execution": {
     "iopub.execute_input": "2024-05-15T16:00:25.173206Z",
     "iopub.status.busy": "2024-05-15T16:00:25.173100Z",
     "iopub.status.idle": "2024-05-15T16:00:25.176380Z",
     "shell.execute_reply": "2024-05-15T16:00:25.176130Z"
    },
    "papermill": {
     "duration": 0.006301,
     "end_time": "2024-05-15T16:00:25.177176",
     "exception": false,
     "start_time": "2024-05-15T16:00:25.170875",
     "status": "completed"
    },
    "tags": []
   },
   "source": [
    "from morpheus.project.types.discretization.time.Stressperiods import EndDateTime\n",
    "\n",
    "mean_data_op_1 = constant_head.observations[0].get_data_item(\n",
    "  start_date_time=StartDateTime.from_datetime(datetime(2019, 1, 1)),\n",
    "  end_date_time=EndDateTime.from_datetime(datetime(2019, 1, 1)),\n",
    ")\n",
    "mean_data_op_1"
   ],
   "outputs": []
  },
  {
   "cell_type": "markdown",
   "id": "b33c8f87aa3516fc",
   "metadata": {
    "collapsed": false,
    "papermill": {
     "duration": 0.001812,
     "end_time": "2024-05-15T16:00:25.180969",
     "exception": false,
     "start_time": "2024-05-15T16:00:25.179157",
     "status": "completed"
    },
    "tags": []
   },
   "source": [
    "## Calculate constant head stress periods"
   ]
  },
  {
   "cell_type": "code",
   "execution_count": 8,
   "id": "c02b9bf2e59abc77",
   "metadata": {
    "ExecuteTime": {
     "end_time": "2024-05-14T07:54:05.915717Z",
     "start_time": "2024-05-14T07:54:05.401437Z"
    },
    "collapsed": false,
    "execution": {
     "iopub.execute_input": "2024-05-15T16:00:25.185194Z",
     "iopub.status.busy": "2024-05-15T16:00:25.184995Z",
     "iopub.status.idle": "2024-05-15T16:00:25.430706Z",
     "shell.execute_reply": "2024-05-15T16:00:25.430438Z"
    },
    "papermill": {
     "duration": 0.248801,
     "end_time": "2024-05-15T16:00:25.431577",
     "exception": false,
     "start_time": "2024-05-15T16:00:25.182776",
     "status": "completed"
    },
    "tags": []
   },
   "source": [
    "from morpheus.project.infrastructure.calculation.engines.modflow_2005.packages.ChdPackageMapper import \\\n",
    "  calculate_chd_boundary_stress_period_data\n",
    "\n",
    "result = calculate_chd_boundary_stress_period_data(\n",
    "  spatial_discretization=spatial_discretization,\n",
    "  time_discretization=time_discretization,\n",
    "  layers=model.layers,\n",
    "  chd_boundary=constant_head,\n",
    ")\n",
    "result.to_dict()"
   ],
   "outputs": []
  },
  {
   "cell_type": "markdown",
   "id": "894da2e8cf016539",
   "metadata": {
    "collapsed": false,
    "papermill": {
     "duration": 0.001976,
     "end_time": "2024-05-15T16:00:25.435710",
     "exception": false,
     "start_time": "2024-05-15T16:00:25.433734",
     "status": "completed"
    },
    "tags": []
   },
   "source": [
    "## Setup constant head boundary with two observations"
   ]
  },
  {
   "cell_type": "code",
   "execution_count": 9,
   "id": "46c0ee9a25e86e17",
   "metadata": {
    "ExecuteTime": {
     "end_time": "2024-05-14T07:54:05.963187Z",
     "start_time": "2024-05-14T07:54:05.917950Z"
    },
    "collapsed": false,
    "execution": {
     "iopub.execute_input": "2024-05-15T16:00:25.440021Z",
     "iopub.status.busy": "2024-05-15T16:00:25.439858Z",
     "iopub.status.idle": "2024-05-15T16:00:25.462778Z",
     "shell.execute_reply": "2024-05-15T16:00:25.462497Z"
    },
    "papermill": {
     "duration": 0.026013,
     "end_time": "2024-05-15T16:00:25.463607",
     "exception": false,
     "start_time": "2024-05-15T16:00:25.437594",
     "status": "completed"
    },
    "tags": []
   },
   "source": [
    "from morpheus.project.types.geometry import Point\n",
    "from morpheus.project.types.boundaries.Boundary import BoundaryName, ConstantHeadBoundary\n",
    "\n",
    "layers_list = [model.layers[0].layer_id]\n",
    "constant_head = ConstantHeadBoundary.from_geometry(\n",
    "  name=BoundaryName('constant_head'),\n",
    "  geometry=LineString([\n",
    "    (13.9223, 50.9662),\n",
    "    (13.9250, 50.96615),\n",
    "  ]),\n",
    "  grid=grid,\n",
    "  affected_layers=[layers_list[0]],\n",
    "  observations=[\n",
    "    ConstantHeadObservation(\n",
    "      observation_id=ObservationId.new(),\n",
    "      observation_name=ObservationName.default(),\n",
    "      geometry=Point((13.9223, 50.9662)),\n",
    "      data=[\n",
    "        ConstantHeadRawDataItem(\n",
    "          date_time=StartDateTime.from_datetime(datetime(2019, 1, 1)),\n",
    "          head=HeadValue.from_float(100),\n",
    "        ),\n",
    "        ConstantHeadRawDataItem(\n",
    "          date_time=StartDateTime.from_datetime(datetime(2021, 12, 31)),\n",
    "          head=HeadValue.from_float(300),\n",
    "        ),\n",
    "      ]\n",
    "    ),\n",
    "    ConstantHeadObservation(\n",
    "      observation_id=ObservationId.new(),\n",
    "      observation_name=ObservationName.default(),\n",
    "      geometry=Point((13.9250, 50.96615)),\n",
    "      data=[\n",
    "        ConstantHeadRawDataItem(\n",
    "          date_time=StartDateTime.from_datetime(datetime(2019, 1, 1)),\n",
    "          head=HeadValue.from_float(200),\n",
    "        ),\n",
    "        ConstantHeadRawDataItem(\n",
    "          date_time=StartDateTime.from_datetime(datetime(2021, 12, 31)),\n",
    "          head=HeadValue.from_float(400),\n",
    "        ),\n",
    "      ]\n",
    "    )\n",
    "  ]\n",
    ")\n",
    "\n",
    "m.add_child(folium.GeoJson(constant_head.as_geojson()))\n",
    "m.add_child(folium.GeoJson(constant_head.affected_cells.to_geojson(grid).as_geojson()))\n",
    "for constant_head.observation in constant_head.observations:\n",
    "  m.add_child(folium.GeoJson(constant_head.observation.as_geojson()))\n",
    "m.fit_bounds(m.get_bounds())\n",
    "m"
   ],
   "outputs": []
  },
  {
   "cell_type": "markdown",
   "id": "2ed6c19e1f77c7c2",
   "metadata": {
    "collapsed": false,
    "papermill": {
     "duration": 0.00202,
     "end_time": "2024-05-15T16:00:25.467915",
     "exception": false,
     "start_time": "2024-05-15T16:00:25.465895",
     "status": "completed"
    },
    "tags": []
   },
   "source": [
    "## Calculate constant head stress periods"
   ]
  },
  {
   "cell_type": "code",
   "execution_count": 10,
   "id": "61c2482657e0f072",
   "metadata": {
    "ExecuteTime": {
     "end_time": "2024-05-14T07:54:06.119977Z",
     "start_time": "2024-05-14T07:54:05.976911Z"
    },
    "collapsed": false,
    "execution": {
     "iopub.execute_input": "2024-05-15T16:00:25.472617Z",
     "iopub.status.busy": "2024-05-15T16:00:25.472496Z",
     "iopub.status.idle": "2024-05-15T16:00:25.536964Z",
     "shell.execute_reply": "2024-05-15T16:00:25.536708Z"
    },
    "papermill": {
     "duration": 0.067845,
     "end_time": "2024-05-15T16:00:25.537778",
     "exception": false,
     "start_time": "2024-05-15T16:00:25.469933",
     "status": "completed"
    },
    "tags": []
   },
   "source": [
    "from morpheus.project.infrastructure.calculation.engines.modflow_2005.packages.ChdPackageMapper import \\\n",
    "  calculate_chd_boundary_stress_period_data\n",
    "\n",
    "result = calculate_chd_boundary_stress_period_data(\n",
    "  spatial_discretization=spatial_discretization,\n",
    "  time_discretization=time_discretization,\n",
    "  layers=model.layers,\n",
    "  chd_boundary=constant_head,\n",
    ")\n",
    "result.to_dict()"
   ],
   "outputs": []
  },
  {
   "cell_type": "code",
   "execution_count": null,
   "id": "bca5d77f14851b15",
   "metadata": {
    "ExecuteTime": {
     "end_time": "2024-05-14T07:54:06.126676Z",
     "start_time": "2024-05-14T07:54:06.125272Z"
    },
    "papermill": {
     "duration": 0.002244,
     "end_time": "2024-05-15T16:00:25.542664",
     "exception": false,
     "start_time": "2024-05-15T16:00:25.540420",
     "status": "completed"
    },
    "tags": []
   },
   "source": [],
   "outputs": []
  }
 ],
 "metadata": {
  "kernelspec": {
   "display_name": "Python 3",
   "language": "python",
   "name": "python3"
  },
  "language_info": {
   "codemirror_mode": {
    "name": "ipython",
    "version": 3
   },
   "file_extension": ".py",
   "mimetype": "text/x-python",
   "name": "python",
   "nbconvert_exporter": "python",
   "pygments_lexer": "ipython3",
   "version": "3.12.2"
  },
  "papermill": {
   "default_parameters": {},
   "duration": 1.841866,
   "end_time": "2024-05-15T16:00:25.764066",
   "environment_variables": {},
   "exception": null,
   "input_path": "./notebooks/ConstantHeadBoundary.ipynb",
   "output_path": "./notebooks/ConstantHeadBoundary.ipynb",
   "parameters": {},
   "start_time": "2024-05-15T16:00:23.922200",
   "version": "2.6.0"
  }
 },
 "nbformat": 4,
 "nbformat_minor": 5
}
