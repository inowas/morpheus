{
 "cells": [
  {
   "cell_type": "code",
   "execution_count": 21,
   "outputs": [],
   "source": [
    "import sys\n",
    "\n",
    "sys.path.insert(0, '..')"
   ],
   "metadata": {
    "collapsed": false,
    "ExecuteTime": {
     "end_time": "2024-03-22T08:56:03.944043Z",
     "start_time": "2024-03-22T08:56:03.941310Z"
    }
   },
   "id": "ba6761fae9d5e5cb"
  },
  {
   "cell_type": "markdown",
   "source": [
    "## Setup the model area"
   ],
   "metadata": {
    "collapsed": false
   },
   "id": "5ede1ba5e0993dd1"
  },
  {
   "cell_type": "code",
   "execution_count": 22,
   "outputs": [
    {
     "data": {
      "text/plain": "SpatialDiscretization(geometry=Polygon(coordinates=[[(13.922514437551428, 50.964720483303836), (13.925250781947113, 50.965228748412386), (13.925036413951403, 50.96623732041704), (13.92222441026388, 50.96629040370362), (13.922514437551428, 50.964720483303836)]], type='Polygon'), grid=Grid(origin=Point(coordinates=(13.922224410263878, 50.9662904037036), type='Point'), col_widths=[33.68941547288559, 33.68941547288559, 33.6894154728856, 33.689415472885585, 33.6894154728856, 33.6894154728856, 33.68941547288557, 33.6894154728856, 33.68941547288563, 33.68941547288557], total_width=336.89415472885594, row_heights=[27.749448566045615, 27.749448566045615, 27.7494485660456, 27.74944856604563, 27.7494485660456, 27.7494485660456, 27.7494485660456, 27.749448566045658, 27.7494485660456, 27.7494485660456], total_height=277.4944856604561, rotation=Rotation(value=0), length_unit=LengthUnit(unit=2)), affected_cells=ActiveCells(shape=(10, 10), data=[ActiveCell(col=0, row=0), ActiveCell(col=0, row=1), ActiveCell(col=0, row=2), ActiveCell(col=0, row=3), ActiveCell(col=0, row=4), ActiveCell(col=1, row=0), ActiveCell(col=1, row=1), ActiveCell(col=1, row=2), ActiveCell(col=1, row=3), ActiveCell(col=1, row=4), ActiveCell(col=1, row=5), ActiveCell(col=1, row=6), ActiveCell(col=1, row=7), ActiveCell(col=1, row=8), ActiveCell(col=1, row=9), ActiveCell(col=2, row=0), ActiveCell(col=2, row=1), ActiveCell(col=2, row=2), ActiveCell(col=2, row=3), ActiveCell(col=2, row=4), ActiveCell(col=2, row=5), ActiveCell(col=2, row=6), ActiveCell(col=2, row=7), ActiveCell(col=2, row=8), ActiveCell(col=3, row=0), ActiveCell(col=3, row=1), ActiveCell(col=3, row=2), ActiveCell(col=3, row=3), ActiveCell(col=3, row=4), ActiveCell(col=3, row=5), ActiveCell(col=3, row=6), ActiveCell(col=3, row=7), ActiveCell(col=3, row=8), ActiveCell(col=4, row=0), ActiveCell(col=4, row=1), ActiveCell(col=4, row=2), ActiveCell(col=4, row=3), ActiveCell(col=4, row=4), ActiveCell(col=4, row=5), ActiveCell(col=4, row=6), ActiveCell(col=4, row=7), ActiveCell(col=4, row=8), ActiveCell(col=5, row=0), ActiveCell(col=5, row=1), ActiveCell(col=5, row=2), ActiveCell(col=5, row=3), ActiveCell(col=5, row=4), ActiveCell(col=5, row=5), ActiveCell(col=5, row=6), ActiveCell(col=5, row=7), ActiveCell(col=6, row=0), ActiveCell(col=6, row=1), ActiveCell(col=6, row=2), ActiveCell(col=6, row=3), ActiveCell(col=6, row=4), ActiveCell(col=6, row=5), ActiveCell(col=6, row=6), ActiveCell(col=6, row=7), ActiveCell(col=7, row=0), ActiveCell(col=7, row=1), ActiveCell(col=7, row=2), ActiveCell(col=7, row=3), ActiveCell(col=7, row=4), ActiveCell(col=7, row=5), ActiveCell(col=7, row=6), ActiveCell(col=7, row=7), ActiveCell(col=8, row=0), ActiveCell(col=8, row=1), ActiveCell(col=8, row=2), ActiveCell(col=8, row=3), ActiveCell(col=8, row=4), ActiveCell(col=8, row=5), ActiveCell(col=8, row=6), ActiveCell(col=9, row=2), ActiveCell(col=9, row=3), ActiveCell(col=9, row=4), ActiveCell(col=9, row=5), ActiveCell(col=9, row=6)]))"
     },
     "execution_count": 22,
     "metadata": {},
     "output_type": "execute_result"
    }
   ],
   "source": [
    "from morpheus.project.types.discretization import SpatialDiscretization\n",
    "from morpheus.project.types.discretization.spatial import Rotation, LengthUnit, Grid, ActiveCells\n",
    "from morpheus.project.types.geometry import Polygon, LineString\n",
    "\n",
    "polygon = Polygon(\n",
    "  type='Polygon',\n",
    "  coordinates=[[\n",
    "    (13.922514437551428, 50.964720483303836),\n",
    "    (13.925250781947113, 50.965228748412386),\n",
    "    (13.925036413951403, 50.96623732041704),\n",
    "    (13.92222441026388, 50.96629040370362),\n",
    "    (13.922514437551428, 50.964720483303836)\n",
    "  ]]\n",
    ")\n",
    "\n",
    "rotation = Rotation(0)\n",
    "length_unit = LengthUnit.meters()\n",
    "relative_col_coordinates = [0, 0.1, 0.2, 0.3, 0.4, 0.5, 0.6, 0.7, 0.8, 0.9, 1]\n",
    "relative_row_coordinates = [0, 0.1, 0.2, 0.3, 0.4, 0.5, 0.6, 0.7, 0.8, 0.9, 1]\n",
    "\n",
    "grid = Grid.from_polygon_with_relative_coordinates(\n",
    "  polygon=polygon,\n",
    "  relative_col_coordinates=relative_col_coordinates,\n",
    "  relative_row_coordinates=relative_row_coordinates,\n",
    "  rotation=rotation,\n",
    ")\n",
    "\n",
    "spatial_discretization = SpatialDiscretization(\n",
    "  geometry=polygon,\n",
    "  grid=grid,\n",
    "  affected_cells=ActiveCells.from_polygon(polygon=polygon, grid=grid),\n",
    ")\n",
    "\n",
    "spatial_discretization\n"
   ],
   "metadata": {
    "collapsed": false,
    "ExecuteTime": {
     "end_time": "2024-03-22T08:56:04.033381Z",
     "start_time": "2024-03-22T08:56:03.982075Z"
    }
   },
   "id": "2f69504ab35487aa"
  },
  {
   "cell_type": "markdown",
   "source": [
    "## Setup Time Discretization"
   ],
   "metadata": {
    "collapsed": false
   },
   "id": "fa27e67f9d801845"
  },
  {
   "cell_type": "code",
   "execution_count": 23,
   "outputs": [
    {
     "data": {
      "text/plain": "TimeDiscretization(start_date_time=StartDateTime(value=datetime.datetime(2020, 1, 1, 0, 0)), end_date_time=StartDateTime(value=datetime.datetime(2020, 12, 31, 0, 0)), stress_periods=StressPeriodCollection(values=[StressPeriod(start_date_time=StartDateTime(value=datetime.datetime(2020, 1, 1, 0, 0)), number_of_time_steps=NumberOfTimeSteps(value=1), time_step_multiplier=TimeStepMultiplier(value=1), steady_state=IsSteadyState(value=True)), StressPeriod(start_date_time=StartDateTime(value=datetime.datetime(2020, 2, 1, 0, 0)), number_of_time_steps=NumberOfTimeSteps(value=1), time_step_multiplier=TimeStepMultiplier(value=1), steady_state=IsSteadyState(value=False)), StressPeriod(start_date_time=StartDateTime(value=datetime.datetime(2020, 3, 1, 0, 0)), number_of_time_steps=NumberOfTimeSteps(value=1), time_step_multiplier=TimeStepMultiplier(value=1), steady_state=IsSteadyState(value=False)), StressPeriod(start_date_time=StartDateTime(value=datetime.datetime(2020, 4, 1, 0, 0)), number_of_time_steps=NumberOfTimeSteps(value=1), time_step_multiplier=TimeStepMultiplier(value=1), steady_state=IsSteadyState(value=False)), StressPeriod(start_date_time=StartDateTime(value=datetime.datetime(2020, 5, 1, 0, 0)), number_of_time_steps=NumberOfTimeSteps(value=1), time_step_multiplier=TimeStepMultiplier(value=1), steady_state=IsSteadyState(value=False)), StressPeriod(start_date_time=StartDateTime(value=datetime.datetime(2020, 6, 1, 0, 0)), number_of_time_steps=NumberOfTimeSteps(value=1), time_step_multiplier=TimeStepMultiplier(value=1), steady_state=IsSteadyState(value=False)), StressPeriod(start_date_time=StartDateTime(value=datetime.datetime(2020, 7, 1, 0, 0)), number_of_time_steps=NumberOfTimeSteps(value=1), time_step_multiplier=TimeStepMultiplier(value=1), steady_state=IsSteadyState(value=False)), StressPeriod(start_date_time=StartDateTime(value=datetime.datetime(2020, 8, 1, 0, 0)), number_of_time_steps=NumberOfTimeSteps(value=1), time_step_multiplier=TimeStepMultiplier(value=1), steady_state=IsSteadyState(value=False)), StressPeriod(start_date_time=StartDateTime(value=datetime.datetime(2020, 9, 1, 0, 0)), number_of_time_steps=NumberOfTimeSteps(value=1), time_step_multiplier=TimeStepMultiplier(value=1), steady_state=IsSteadyState(value=False)), StressPeriod(start_date_time=StartDateTime(value=datetime.datetime(2020, 10, 1, 0, 0)), number_of_time_steps=NumberOfTimeSteps(value=1), time_step_multiplier=TimeStepMultiplier(value=1), steady_state=IsSteadyState(value=False)), StressPeriod(start_date_time=StartDateTime(value=datetime.datetime(2020, 11, 1, 0, 0)), number_of_time_steps=NumberOfTimeSteps(value=1), time_step_multiplier=TimeStepMultiplier(value=1), steady_state=IsSteadyState(value=False)), StressPeriod(start_date_time=StartDateTime(value=datetime.datetime(2020, 12, 1, 0, 0)), number_of_time_steps=NumberOfTimeSteps(value=1), time_step_multiplier=TimeStepMultiplier(value=1), steady_state=IsSteadyState(value=False))]), time_unit=TimeUnit(unit=4))"
     },
     "execution_count": 23,
     "metadata": {},
     "output_type": "execute_result"
    }
   ],
   "source": [
    "from morpheus.project.types.discretization.time.TimeUnit import TimeUnit\n",
    "from morpheus.project.types.discretization.time.Stressperiods import StartDateTime, StressPeriodCollection, \\\n",
    "  StressPeriod, NumberOfTimeSteps, TimeStepMultiplier, IsSteadyState\n",
    "from morpheus.project.types.discretization.time import TimeDiscretization\n",
    "from datetime import datetime\n",
    "\n",
    "time_discretization = TimeDiscretization(\n",
    "  start_date_time=StartDateTime.from_datetime(datetime(2020, 1, 1)),\n",
    "  end_date_time=StartDateTime.from_datetime(datetime(2020, 12, 31)),\n",
    "  stress_periods=StressPeriodCollection([\n",
    "    StressPeriod(\n",
    "      start_date_time=StartDateTime.from_datetime(datetime(2020, 1, 1)),\n",
    "      number_of_time_steps=NumberOfTimeSteps(1),\n",
    "      time_step_multiplier=TimeStepMultiplier(1),\n",
    "      steady_state=IsSteadyState.yes()\n",
    "    ),\n",
    "    StressPeriod(\n",
    "      start_date_time=StartDateTime.from_datetime(datetime(2020, 2, 1)),\n",
    "      number_of_time_steps=NumberOfTimeSteps(1),\n",
    "      time_step_multiplier=TimeStepMultiplier(1),\n",
    "      steady_state=IsSteadyState.no()\n",
    "    ),\n",
    "    StressPeriod(\n",
    "      start_date_time=StartDateTime.from_datetime(datetime(2020, 3, 1)),\n",
    "      number_of_time_steps=NumberOfTimeSteps(1),\n",
    "      time_step_multiplier=TimeStepMultiplier(1),\n",
    "      steady_state=IsSteadyState.no()\n",
    "    ),\n",
    "    StressPeriod(\n",
    "      start_date_time=StartDateTime.from_datetime(datetime(2020, 4, 1)),\n",
    "      number_of_time_steps=NumberOfTimeSteps(1),\n",
    "      time_step_multiplier=TimeStepMultiplier(1),\n",
    "      steady_state=IsSteadyState.no()\n",
    "    ),\n",
    "    StressPeriod(\n",
    "      start_date_time=StartDateTime.from_datetime(datetime(2020, 5, 1)),\n",
    "      number_of_time_steps=NumberOfTimeSteps(1),\n",
    "      time_step_multiplier=TimeStepMultiplier(1),\n",
    "      steady_state=IsSteadyState.no()\n",
    "    ),\n",
    "    StressPeriod(\n",
    "      start_date_time=StartDateTime.from_datetime(datetime(2020, 6, 1)),\n",
    "      number_of_time_steps=NumberOfTimeSteps(1),\n",
    "      time_step_multiplier=TimeStepMultiplier(1),\n",
    "      steady_state=IsSteadyState.no()\n",
    "    ),\n",
    "    StressPeriod(\n",
    "      start_date_time=StartDateTime.from_datetime(datetime(2020, 7, 1)),\n",
    "      number_of_time_steps=NumberOfTimeSteps(1),\n",
    "      time_step_multiplier=TimeStepMultiplier(1),\n",
    "      steady_state=IsSteadyState.no()\n",
    "    ),\n",
    "    StressPeriod(\n",
    "      start_date_time=StartDateTime.from_datetime(datetime(2020, 8, 1)),\n",
    "      number_of_time_steps=NumberOfTimeSteps(1),\n",
    "      time_step_multiplier=TimeStepMultiplier(1),\n",
    "      steady_state=IsSteadyState.no()\n",
    "    ),\n",
    "    StressPeriod(\n",
    "      start_date_time=StartDateTime.from_datetime(datetime(2020, 9, 1)),\n",
    "      number_of_time_steps=NumberOfTimeSteps(1),\n",
    "      time_step_multiplier=TimeStepMultiplier(1),\n",
    "      steady_state=IsSteadyState.no()\n",
    "    ),\n",
    "    StressPeriod(\n",
    "      start_date_time=StartDateTime.from_datetime(datetime(2020, 10, 1)),\n",
    "      number_of_time_steps=NumberOfTimeSteps(1),\n",
    "      time_step_multiplier=TimeStepMultiplier(1),\n",
    "      steady_state=IsSteadyState.no()\n",
    "    ),\n",
    "    StressPeriod(\n",
    "      start_date_time=StartDateTime.from_datetime(datetime(2020, 11, 1)),\n",
    "      number_of_time_steps=NumberOfTimeSteps(1),\n",
    "      time_step_multiplier=TimeStepMultiplier(1),\n",
    "      steady_state=IsSteadyState.no()\n",
    "    ),\n",
    "    StressPeriod(\n",
    "      start_date_time=StartDateTime.from_datetime(datetime(2020, 12, 1)),\n",
    "      number_of_time_steps=NumberOfTimeSteps(1),\n",
    "      time_step_multiplier=TimeStepMultiplier(1),\n",
    "      steady_state=IsSteadyState.no()\n",
    "    ),\n",
    "  ]),\n",
    "  time_unit=TimeUnit.days()\n",
    ")\n",
    "\n",
    "time_discretization"
   ],
   "metadata": {
    "collapsed": false,
    "ExecuteTime": {
     "end_time": "2024-03-22T08:56:04.054604Z",
     "start_time": "2024-03-22T08:56:04.035922Z"
    }
   },
   "id": "8e4e63dd138db9fc"
  },
  {
   "cell_type": "code",
   "execution_count": 24,
   "outputs": [
    {
     "data": {
      "text/plain": "<folium.folium.Map at 0x76f723fe7f20>",
      "text/html": "<div style=\"width:100%;\"><div style=\"position:relative;width:100%;height:0;padding-bottom:60%;\"><span style=\"color:#565656\">Make this Notebook Trusted to load map: File -> Trust Notebook</span><iframe srcdoc=\"&lt;!DOCTYPE html&gt;\n&lt;html&gt;\n&lt;head&gt;\n    \n    &lt;meta http-equiv=&quot;content-type&quot; content=&quot;text/html; charset=UTF-8&quot; /&gt;\n    \n        &lt;script&gt;\n            L_NO_TOUCH = false;\n            L_DISABLE_3D = false;\n        &lt;/script&gt;\n    \n    &lt;style&gt;html, body {width: 100%;height: 100%;margin: 0;padding: 0;}&lt;/style&gt;\n    &lt;style&gt;#map {position:absolute;top:0;bottom:0;right:0;left:0;}&lt;/style&gt;\n    &lt;script src=&quot;https://cdn.jsdelivr.net/npm/leaflet@1.9.3/dist/leaflet.js&quot;&gt;&lt;/script&gt;\n    &lt;script src=&quot;https://code.jquery.com/jquery-3.7.1.min.js&quot;&gt;&lt;/script&gt;\n    &lt;script src=&quot;https://cdn.jsdelivr.net/npm/bootstrap@5.2.2/dist/js/bootstrap.bundle.min.js&quot;&gt;&lt;/script&gt;\n    &lt;script src=&quot;https://cdnjs.cloudflare.com/ajax/libs/Leaflet.awesome-markers/2.0.2/leaflet.awesome-markers.js&quot;&gt;&lt;/script&gt;\n    &lt;link rel=&quot;stylesheet&quot; href=&quot;https://cdn.jsdelivr.net/npm/leaflet@1.9.3/dist/leaflet.css&quot;/&gt;\n    &lt;link rel=&quot;stylesheet&quot; href=&quot;https://cdn.jsdelivr.net/npm/bootstrap@5.2.2/dist/css/bootstrap.min.css&quot;/&gt;\n    &lt;link rel=&quot;stylesheet&quot; href=&quot;https://netdna.bootstrapcdn.com/bootstrap/3.0.0/css/bootstrap.min.css&quot;/&gt;\n    &lt;link rel=&quot;stylesheet&quot; href=&quot;https://cdn.jsdelivr.net/npm/@fortawesome/fontawesome-free@6.2.0/css/all.min.css&quot;/&gt;\n    &lt;link rel=&quot;stylesheet&quot; href=&quot;https://cdnjs.cloudflare.com/ajax/libs/Leaflet.awesome-markers/2.0.2/leaflet.awesome-markers.css&quot;/&gt;\n    &lt;link rel=&quot;stylesheet&quot; href=&quot;https://cdn.jsdelivr.net/gh/python-visualization/folium/folium/templates/leaflet.awesome.rotate.min.css&quot;/&gt;\n    \n            &lt;meta name=&quot;viewport&quot; content=&quot;width=device-width,\n                initial-scale=1.0, maximum-scale=1.0, user-scalable=no&quot; /&gt;\n            &lt;style&gt;\n                #map_46682acc18907cbd9fb03a3141f96db1 {\n                    position: relative;\n                    width: 100.0%;\n                    height: 100.0%;\n                    left: 0.0%;\n                    top: 0.0%;\n                }\n                .leaflet-container { font-size: 1rem; }\n            &lt;/style&gt;\n        \n&lt;/head&gt;\n&lt;body&gt;\n    \n    \n            &lt;div class=&quot;folium-map&quot; id=&quot;map_46682acc18907cbd9fb03a3141f96db1&quot; &gt;&lt;/div&gt;\n        \n&lt;/body&gt;\n&lt;script&gt;\n    \n    \n            var map_46682acc18907cbd9fb03a3141f96db1 = L.map(\n                &quot;map_46682acc18907cbd9fb03a3141f96db1&quot;,\n                {\n                    center: [50.965, 13.922],\n                    crs: L.CRS.EPSG3857,\n                    zoom: 12,\n                    zoomControl: true,\n                    preferCanvas: false,\n                }\n            );\n\n            \n\n        \n    \n            var tile_layer_37ed73b836580b692b776169f2b72b58 = L.tileLayer(\n                &quot;https://{s}.basemaps.cartocdn.com/light_all/{z}/{x}/{y}{r}.png&quot;,\n                {&quot;attribution&quot;: &quot;\\u0026copy; \\u003ca href=\\&quot;https://www.openstreetmap.org/copyright\\&quot;\\u003eOpenStreetMap\\u003c/a\\u003e contributors \\u0026copy; \\u003ca href=\\&quot;https://carto.com/attributions\\&quot;\\u003eCARTO\\u003c/a\\u003e&quot;, &quot;detectRetina&quot;: false, &quot;maxNativeZoom&quot;: 20, &quot;maxZoom&quot;: 20, &quot;minZoom&quot;: 0, &quot;noWrap&quot;: false, &quot;opacity&quot;: 1, &quot;subdomains&quot;: &quot;abcd&quot;, &quot;tms&quot;: false}\n            );\n        \n    \n            tile_layer_37ed73b836580b692b776169f2b72b58.addTo(map_46682acc18907cbd9fb03a3141f96db1);\n        \n    \n\n        function geo_json_5c9fcf45599b5dea592b713c8db9e8bd_onEachFeature(feature, layer) {\n            layer.on({\n            });\n        };\n        var geo_json_5c9fcf45599b5dea592b713c8db9e8bd = L.geoJson(null, {\n                onEachFeature: geo_json_5c9fcf45599b5dea592b713c8db9e8bd_onEachFeature,\n            \n        });\n\n        function geo_json_5c9fcf45599b5dea592b713c8db9e8bd_add (data) {\n            geo_json_5c9fcf45599b5dea592b713c8db9e8bd\n                .addData(data);\n        }\n            geo_json_5c9fcf45599b5dea592b713c8db9e8bd_add({&quot;coordinates&quot;: [[[13.922514437551428, 50.964720483303836], [13.925250781947113, 50.965228748412386], [13.925036413951403, 50.96623732041704], [13.92222441026388, 50.96629040370362], [13.922514437551428, 50.964720483303836]]], &quot;type&quot;: &quot;Polygon&quot;});\n\n        \n    \n            geo_json_5c9fcf45599b5dea592b713c8db9e8bd.addTo(map_46682acc18907cbd9fb03a3141f96db1);\n        \n    \n            map_46682acc18907cbd9fb03a3141f96db1.fitBounds(\n                [[50.964720483303836, 13.92222441026388], [50.96629040370362, 13.925250781947113]],\n                {}\n            );\n        \n&lt;/script&gt;\n&lt;/html&gt;\" style=\"position:absolute;width:100%;height:100%;left:0;top:0;border:none !important;\" allowfullscreen webkitallowfullscreen mozallowfullscreen></iframe></div></div>"
     },
     "execution_count": 24,
     "metadata": {},
     "output_type": "execute_result"
    }
   ],
   "source": [
    "import folium\n",
    "\n",
    "m = folium.Map(tiles=\"cartodbpositron\", crs=\"EPSG3857\", zoom_start=12, location=[50.965, 13.922])\n",
    "m.add_child(folium.GeoJson(polygon.as_geojson()))\n",
    "\n",
    "m.fit_bounds(m.get_bounds())\n",
    "m"
   ],
   "metadata": {
    "collapsed": false,
    "ExecuteTime": {
     "end_time": "2024-03-22T08:56:04.075165Z",
     "start_time": "2024-03-22T08:56:04.055912Z"
    }
   },
   "id": "1540b870ae83f298"
  },
  {
   "cell_type": "markdown",
   "source": [
    "## Setup model"
   ],
   "metadata": {
    "collapsed": false
   },
   "id": "9df9979b6c9bdbed"
  },
  {
   "cell_type": "code",
   "execution_count": 25,
   "outputs": [],
   "source": [
    "from morpheus.project.types.Model import Model\n",
    "\n",
    "model = Model.new()\n",
    "model = model.with_updated_time_discretization(time_discretization)\n",
    "model = model.with_updated_spatial_discretization(spatial_discretization=spatial_discretization)"
   ],
   "metadata": {
    "collapsed": false,
    "ExecuteTime": {
     "end_time": "2024-03-22T08:56:04.095873Z",
     "start_time": "2024-03-22T08:56:04.077051Z"
    }
   },
   "id": "77045c334efc769c"
  },
  {
   "cell_type": "markdown",
   "source": [
    "# Setup constant head boundary with 1 observation"
   ],
   "metadata": {
    "collapsed": false
   },
   "id": "62ae3587df801000"
  },
  {
   "cell_type": "code",
   "execution_count": 26,
   "outputs": [
    {
     "data": {
      "text/plain": "<folium.folium.Map at 0x76f723fe7f20>",
      "text/html": "<div style=\"width:100%;\"><div style=\"position:relative;width:100%;height:0;padding-bottom:60%;\"><span style=\"color:#565656\">Make this Notebook Trusted to load map: File -> Trust Notebook</span><iframe srcdoc=\"&lt;!DOCTYPE html&gt;\n&lt;html&gt;\n&lt;head&gt;\n    \n    &lt;meta http-equiv=&quot;content-type&quot; content=&quot;text/html; charset=UTF-8&quot; /&gt;\n    \n        &lt;script&gt;\n            L_NO_TOUCH = false;\n            L_DISABLE_3D = false;\n        &lt;/script&gt;\n    \n    &lt;style&gt;html, body {width: 100%;height: 100%;margin: 0;padding: 0;}&lt;/style&gt;\n    &lt;style&gt;#map {position:absolute;top:0;bottom:0;right:0;left:0;}&lt;/style&gt;\n    &lt;script src=&quot;https://cdn.jsdelivr.net/npm/leaflet@1.9.3/dist/leaflet.js&quot;&gt;&lt;/script&gt;\n    &lt;script src=&quot;https://code.jquery.com/jquery-3.7.1.min.js&quot;&gt;&lt;/script&gt;\n    &lt;script src=&quot;https://cdn.jsdelivr.net/npm/bootstrap@5.2.2/dist/js/bootstrap.bundle.min.js&quot;&gt;&lt;/script&gt;\n    &lt;script src=&quot;https://cdnjs.cloudflare.com/ajax/libs/Leaflet.awesome-markers/2.0.2/leaflet.awesome-markers.js&quot;&gt;&lt;/script&gt;\n    &lt;link rel=&quot;stylesheet&quot; href=&quot;https://cdn.jsdelivr.net/npm/leaflet@1.9.3/dist/leaflet.css&quot;/&gt;\n    &lt;link rel=&quot;stylesheet&quot; href=&quot;https://cdn.jsdelivr.net/npm/bootstrap@5.2.2/dist/css/bootstrap.min.css&quot;/&gt;\n    &lt;link rel=&quot;stylesheet&quot; href=&quot;https://netdna.bootstrapcdn.com/bootstrap/3.0.0/css/bootstrap.min.css&quot;/&gt;\n    &lt;link rel=&quot;stylesheet&quot; href=&quot;https://cdn.jsdelivr.net/npm/@fortawesome/fontawesome-free@6.2.0/css/all.min.css&quot;/&gt;\n    &lt;link rel=&quot;stylesheet&quot; href=&quot;https://cdnjs.cloudflare.com/ajax/libs/Leaflet.awesome-markers/2.0.2/leaflet.awesome-markers.css&quot;/&gt;\n    &lt;link rel=&quot;stylesheet&quot; href=&quot;https://cdn.jsdelivr.net/gh/python-visualization/folium/folium/templates/leaflet.awesome.rotate.min.css&quot;/&gt;\n    \n            &lt;meta name=&quot;viewport&quot; content=&quot;width=device-width,\n                initial-scale=1.0, maximum-scale=1.0, user-scalable=no&quot; /&gt;\n            &lt;style&gt;\n                #map_46682acc18907cbd9fb03a3141f96db1 {\n                    position: relative;\n                    width: 100.0%;\n                    height: 100.0%;\n                    left: 0.0%;\n                    top: 0.0%;\n                }\n                .leaflet-container { font-size: 1rem; }\n            &lt;/style&gt;\n        \n&lt;/head&gt;\n&lt;body&gt;\n    \n    \n            &lt;div class=&quot;folium-map&quot; id=&quot;map_46682acc18907cbd9fb03a3141f96db1&quot; &gt;&lt;/div&gt;\n        \n&lt;/body&gt;\n&lt;script&gt;\n    \n    \n            var map_46682acc18907cbd9fb03a3141f96db1 = L.map(\n                &quot;map_46682acc18907cbd9fb03a3141f96db1&quot;,\n                {\n                    center: [50.965, 13.922],\n                    crs: L.CRS.EPSG3857,\n                    zoom: 12,\n                    zoomControl: true,\n                    preferCanvas: false,\n                }\n            );\n\n            \n\n        \n    \n            var tile_layer_37ed73b836580b692b776169f2b72b58 = L.tileLayer(\n                &quot;https://{s}.basemaps.cartocdn.com/light_all/{z}/{x}/{y}{r}.png&quot;,\n                {&quot;attribution&quot;: &quot;\\u0026copy; \\u003ca href=\\&quot;https://www.openstreetmap.org/copyright\\&quot;\\u003eOpenStreetMap\\u003c/a\\u003e contributors \\u0026copy; \\u003ca href=\\&quot;https://carto.com/attributions\\&quot;\\u003eCARTO\\u003c/a\\u003e&quot;, &quot;detectRetina&quot;: false, &quot;maxNativeZoom&quot;: 20, &quot;maxZoom&quot;: 20, &quot;minZoom&quot;: 0, &quot;noWrap&quot;: false, &quot;opacity&quot;: 1, &quot;subdomains&quot;: &quot;abcd&quot;, &quot;tms&quot;: false}\n            );\n        \n    \n            tile_layer_37ed73b836580b692b776169f2b72b58.addTo(map_46682acc18907cbd9fb03a3141f96db1);\n        \n    \n\n        function geo_json_5c9fcf45599b5dea592b713c8db9e8bd_onEachFeature(feature, layer) {\n            layer.on({\n            });\n        };\n        var geo_json_5c9fcf45599b5dea592b713c8db9e8bd = L.geoJson(null, {\n                onEachFeature: geo_json_5c9fcf45599b5dea592b713c8db9e8bd_onEachFeature,\n            \n        });\n\n        function geo_json_5c9fcf45599b5dea592b713c8db9e8bd_add (data) {\n            geo_json_5c9fcf45599b5dea592b713c8db9e8bd\n                .addData(data);\n        }\n            geo_json_5c9fcf45599b5dea592b713c8db9e8bd_add({&quot;coordinates&quot;: [[[13.922514437551428, 50.964720483303836], [13.925250781947113, 50.965228748412386], [13.925036413951403, 50.96623732041704], [13.92222441026388, 50.96629040370362], [13.922514437551428, 50.964720483303836]]], &quot;type&quot;: &quot;Polygon&quot;});\n\n        \n    \n            geo_json_5c9fcf45599b5dea592b713c8db9e8bd.addTo(map_46682acc18907cbd9fb03a3141f96db1);\n        \n    \n            map_46682acc18907cbd9fb03a3141f96db1.fitBounds(\n                [[50.964720483303836, 13.92222441026388], [50.96629040370362, 13.925250781947113]],\n                {}\n            );\n        \n    \n            tile_layer_37ed73b836580b692b776169f2b72b58.addTo(map_46682acc18907cbd9fb03a3141f96db1);\n        \n    \n            geo_json_5c9fcf45599b5dea592b713c8db9e8bd.addTo(map_46682acc18907cbd9fb03a3141f96db1);\n        \n    \n\n        function geo_json_23544cd7d7bb15f80ba12c9458eeace1_onEachFeature(feature, layer) {\n            layer.on({\n            });\n        };\n        var geo_json_23544cd7d7bb15f80ba12c9458eeace1 = L.geoJson(null, {\n                onEachFeature: geo_json_23544cd7d7bb15f80ba12c9458eeace1_onEachFeature,\n            \n        });\n\n        function geo_json_23544cd7d7bb15f80ba12c9458eeace1_add (data) {\n            geo_json_23544cd7d7bb15f80ba12c9458eeace1\n                .addData(data);\n        }\n            geo_json_23544cd7d7bb15f80ba12c9458eeace1_add({&quot;coordinates&quot;: [[13.9223, 50.9662], [13.925, 50.96615]], &quot;type&quot;: &quot;LineString&quot;});\n\n        \n    \n            geo_json_23544cd7d7bb15f80ba12c9458eeace1.addTo(map_46682acc18907cbd9fb03a3141f96db1);\n        \n    \n\n        function geo_json_c85901e500400ec683e546504eb383a5_onEachFeature(feature, layer) {\n            layer.on({\n            });\n        };\n        var geo_json_c85901e500400ec683e546504eb383a5 = L.geoJson(null, {\n                onEachFeature: geo_json_c85901e500400ec683e546504eb383a5_onEachFeature,\n            \n        });\n\n        function geo_json_c85901e500400ec683e546504eb383a5_add (data) {\n            geo_json_c85901e500400ec683e546504eb383a5\n                .addData(data);\n        }\n            geo_json_c85901e500400ec683e546504eb383a5_add({&quot;geometries&quot;: [{&quot;coordinates&quot;: [[[13.922224410263878, 50.9662904037036], [13.922527047432201, 50.9662904037036], [13.922527047432201, 50.966133414051114], [13.922224410263878, 50.966133414051114], [13.922224410263878, 50.9662904037036]]], &quot;type&quot;: &quot;Polygon&quot;}, {&quot;coordinates&quot;: [[[13.922527047432201, 50.9662904037036], [13.922829684600526, 50.9662904037036], [13.922829684600526, 50.966133414051114], [13.922527047432201, 50.966133414051114], [13.922527047432201, 50.9662904037036]]], &quot;type&quot;: &quot;Polygon&quot;}, {&quot;coordinates&quot;: [[[13.922829684600526, 50.9662904037036], [13.923132321768849, 50.9662904037036], [13.923132321768849, 50.966133414051114], [13.922829684600526, 50.966133414051114], [13.922829684600526, 50.9662904037036]]], &quot;type&quot;: &quot;Polygon&quot;}, {&quot;coordinates&quot;: [[[13.923132321768849, 50.9662904037036], [13.923434958937172, 50.9662904037036], [13.923434958937172, 50.966133414051114], [13.923132321768849, 50.966133414051114], [13.923132321768849, 50.9662904037036]]], &quot;type&quot;: &quot;Polygon&quot;}, {&quot;coordinates&quot;: [[[13.923434958937172, 50.9662904037036], [13.923737596105495, 50.9662904037036], [13.923737596105495, 50.966133414051114], [13.923434958937172, 50.966133414051114], [13.923434958937172, 50.9662904037036]]], &quot;type&quot;: &quot;Polygon&quot;}, {&quot;coordinates&quot;: [[[13.923737596105495, 50.9662904037036], [13.924040233273818, 50.9662904037036], [13.924040233273818, 50.966133414051114], [13.923737596105495, 50.966133414051114], [13.923737596105495, 50.9662904037036]]], &quot;type&quot;: &quot;Polygon&quot;}, {&quot;coordinates&quot;: [[[13.924040233273818, 50.9662904037036], [13.924342870442143, 50.9662904037036], [13.924342870442143, 50.966133414051114], [13.924040233273818, 50.966133414051114], [13.924040233273818, 50.9662904037036]]], &quot;type&quot;: &quot;Polygon&quot;}, {&quot;coordinates&quot;: [[[13.924342870442143, 50.9662904037036], [13.924645507610466, 50.9662904037036], [13.924645507610466, 50.966133414051114], [13.924342870442143, 50.966133414051114], [13.924342870442143, 50.9662904037036]]], &quot;type&quot;: &quot;Polygon&quot;}, {&quot;coordinates&quot;: [[[13.924645507610466, 50.9662904037036], [13.92494814477879, 50.9662904037036], [13.92494814477879, 50.966133414051114], [13.924645507610466, 50.966133414051114], [13.924645507610466, 50.9662904037036]]], &quot;type&quot;: &quot;Polygon&quot;}], &quot;type&quot;: &quot;GeometryCollection&quot;});\n\n        \n    \n            geo_json_c85901e500400ec683e546504eb383a5.addTo(map_46682acc18907cbd9fb03a3141f96db1);\n        \n    \n\n        function geo_json_2ccdc6da0748003358a8508f8333d272_onEachFeature(feature, layer) {\n            layer.on({\n            });\n        };\n        var geo_json_2ccdc6da0748003358a8508f8333d272 = L.geoJson(null, {\n                onEachFeature: geo_json_2ccdc6da0748003358a8508f8333d272_onEachFeature,\n            \n        });\n\n        function geo_json_2ccdc6da0748003358a8508f8333d272_add (data) {\n            geo_json_2ccdc6da0748003358a8508f8333d272\n                .addData(data);\n        }\n            geo_json_2ccdc6da0748003358a8508f8333d272_add({&quot;coordinates&quot;: [13.9223, 50.9662], &quot;type&quot;: &quot;Point&quot;});\n\n        \n    \n            geo_json_2ccdc6da0748003358a8508f8333d272.addTo(map_46682acc18907cbd9fb03a3141f96db1);\n        \n    \n            map_46682acc18907cbd9fb03a3141f96db1.fitBounds(\n                [[50.964720483303836, 13.922224410263878], [50.96629040370362, 13.925250781947113]],\n                {}\n            );\n        \n&lt;/script&gt;\n&lt;/html&gt;\" style=\"position:absolute;width:100%;height:100%;left:0;top:0;border:none !important;\" allowfullscreen webkitallowfullscreen mozallowfullscreen></iframe></div></div>"
     },
     "execution_count": 26,
     "metadata": {},
     "output_type": "execute_result"
    }
   ],
   "source": [
    "from morpheus.project.types.geometry import Point\n",
    "from morpheus.project.types.boundaries.Boundary import BoundaryName, ConstantHeadBoundary\n",
    "from morpheus.project.types.boundaries.ConstantHeadObservation import ConstantHeadObservation, ConstantHeadRawDataItem, \\\n",
    "  HeadValue, ObservationId\n",
    "\n",
    "layers_list = [model.soil_model.layers[0].id]\n",
    "constant_head = ConstantHeadBoundary.from_geometry(\n",
    "  name=BoundaryName('constant_head'),\n",
    "  geometry=LineString([\n",
    "    (13.9223, 50.9662),\n",
    "    (13.9250, 50.96615),\n",
    "  ]),\n",
    "  grid=grid,\n",
    "  affected_layers=[layers_list[0]],\n",
    "  observations=[\n",
    "    ConstantHeadObservation(\n",
    "      observation_id=ObservationId.new(),\n",
    "      geometry=Point((13.9223, 50.9662)),\n",
    "      raw_data=[\n",
    "        ConstantHeadRawDataItem(\n",
    "          date_time=StartDateTime.from_datetime(datetime(2019, 1, 1)),\n",
    "          head=HeadValue.from_float(100),\n",
    "        ),\n",
    "        ConstantHeadRawDataItem(\n",
    "          date_time=StartDateTime.from_datetime(datetime(2021, 12, 31)),\n",
    "          head=HeadValue.from_float(300),\n",
    "        ),\n",
    "      ]\n",
    "    )\n",
    "  ]\n",
    ")\n",
    "\n",
    "constant_head.affected_cells = constant_head.affected_cells.filter(\n",
    "  lambda cell: spatial_discretization.affected_cells.contains(cell))\n",
    "\n",
    "m.add_child(folium.GeoJson(constant_head.as_geojson()))\n",
    "m.add_child(folium.GeoJson(constant_head.affected_cells.as_geojson(grid).as_geojson()))\n",
    "for constant_head.observation in constant_head.observations:\n",
    "  m.add_child(folium.GeoJson(constant_head.observation.as_geojson()))\n",
    "m.fit_bounds(m.get_bounds())\n",
    "m"
   ],
   "metadata": {
    "collapsed": false,
    "ExecuteTime": {
     "end_time": "2024-03-22T08:56:04.195918Z",
     "start_time": "2024-03-22T08:56:04.097523Z"
    }
   },
   "id": "53679913aee28ce9"
  },
  {
   "cell_type": "code",
   "execution_count": 27,
   "outputs": [
    {
     "data": {
      "text/plain": "ConstantHeadDataItem(observation_id=ObservationId(value='95edfacd-5db8-4cd4-8964-5e49ad5fdb6e'), start_date_time=StartDateTime(value=datetime.datetime(2019, 1, 1, 0, 0)), end_date_time=EndDateTime(value=datetime.datetime(2019, 1, 1, 0, 0)), start_head=HeadValue(value=100.0), end_head=HeadValue(value=100.0))"
     },
     "execution_count": 27,
     "metadata": {},
     "output_type": "execute_result"
    }
   ],
   "source": [
    "from morpheus.project.types.discretization.time.Stressperiods import EndDateTime\n",
    "\n",
    "mean_data_op_1 = constant_head.observations[0].get_data_item(\n",
    "  start_date_time=StartDateTime.from_datetime(datetime(2019, 1, 1)),\n",
    "  end_date_time=EndDateTime.from_datetime(datetime(2019, 1, 1)),\n",
    ")\n",
    "mean_data_op_1"
   ],
   "metadata": {
    "collapsed": false,
    "ExecuteTime": {
     "end_time": "2024-03-22T08:56:04.207271Z",
     "start_time": "2024-03-22T08:56:04.197925Z"
    }
   },
   "id": "621e2265ae79b1ae"
  },
  {
   "cell_type": "markdown",
   "source": [
    "## Calculate constant head stress periods"
   ],
   "metadata": {
    "collapsed": false
   },
   "id": "b33c8f87aa3516fc"
  },
  {
   "cell_type": "code",
   "execution_count": 28,
   "outputs": [
    {
     "data": {
      "text/plain": "{0: [[0, 0, 0, 166.66666666666669, 172.32876712328766],\n  [0, 0, 1, 166.66666666666669, 172.32876712328766],\n  [0, 0, 2, 166.66666666666669, 172.32876712328766],\n  [0, 0, 3, 166.66666666666669, 172.32876712328766],\n  [0, 0, 4, 166.66666666666669, 172.32876712328766],\n  [0, 0, 5, 166.66666666666669, 172.32876712328766],\n  [0, 0, 6, 166.66666666666669, 172.32876712328766],\n  [0, 0, 7, 166.66666666666669, 172.32876712328766],\n  [0, 0, 8, 166.66666666666669, 172.32876712328766]],\n 1: [[0, 0, 0, 172.32876712328766, 177.6255707762557],\n  [0, 0, 1, 172.32876712328766, 177.6255707762557],\n  [0, 0, 2, 172.32876712328766, 177.6255707762557],\n  [0, 0, 3, 172.32876712328766, 177.6255707762557],\n  [0, 0, 4, 172.32876712328766, 177.6255707762557],\n  [0, 0, 5, 172.32876712328766, 177.6255707762557],\n  [0, 0, 6, 172.32876712328766, 177.6255707762557],\n  [0, 0, 7, 172.32876712328766, 177.6255707762557],\n  [0, 0, 8, 172.32876712328766, 177.6255707762557]],\n 2: [[0, 0, 0, 177.6255707762557, 183.28767123287673],\n  [0, 0, 1, 177.6255707762557, 183.28767123287673],\n  [0, 0, 2, 177.6255707762557, 183.28767123287673],\n  [0, 0, 3, 177.6255707762557, 183.28767123287673],\n  [0, 0, 4, 177.6255707762557, 183.28767123287673],\n  [0, 0, 5, 177.6255707762557, 183.28767123287673],\n  [0, 0, 6, 177.6255707762557, 183.28767123287673],\n  [0, 0, 7, 177.6255707762557, 183.28767123287673],\n  [0, 0, 8, 177.6255707762557, 183.28767123287673]],\n 3: [[0, 0, 0, 183.28767123287673, 188.76712328767124],\n  [0, 0, 1, 183.28767123287673, 188.76712328767124],\n  [0, 0, 2, 183.28767123287673, 188.76712328767124],\n  [0, 0, 3, 183.28767123287673, 188.76712328767124],\n  [0, 0, 4, 183.28767123287673, 188.76712328767124],\n  [0, 0, 5, 183.28767123287673, 188.76712328767124],\n  [0, 0, 6, 183.28767123287673, 188.76712328767124],\n  [0, 0, 7, 183.28767123287673, 188.76712328767124],\n  [0, 0, 8, 183.28767123287673, 188.76712328767124]],\n 4: [[0, 0, 0, 188.76712328767124, 194.42922374429224],\n  [0, 0, 1, 188.76712328767124, 194.42922374429224],\n  [0, 0, 2, 188.76712328767124, 194.42922374429224],\n  [0, 0, 3, 188.76712328767124, 194.42922374429224],\n  [0, 0, 4, 188.76712328767124, 194.42922374429224],\n  [0, 0, 5, 188.76712328767124, 194.42922374429224],\n  [0, 0, 6, 188.76712328767124, 194.42922374429224],\n  [0, 0, 7, 188.76712328767124, 194.42922374429224],\n  [0, 0, 8, 188.76712328767124, 194.42922374429224]],\n 5: [[0, 0, 0, 194.42922374429224, 199.90867579908678],\n  [0, 0, 1, 194.42922374429224, 199.90867579908678],\n  [0, 0, 2, 194.42922374429224, 199.90867579908678],\n  [0, 0, 3, 194.42922374429224, 199.90867579908678],\n  [0, 0, 4, 194.42922374429224, 199.90867579908678],\n  [0, 0, 5, 194.42922374429224, 199.90867579908678],\n  [0, 0, 6, 194.42922374429224, 199.90867579908678],\n  [0, 0, 7, 194.42922374429224, 199.90867579908678],\n  [0, 0, 8, 194.42922374429224, 199.90867579908678]],\n 6: [[0, 0, 0, 199.90867579908678, 205.57077625570776],\n  [0, 0, 1, 199.90867579908678, 205.57077625570776],\n  [0, 0, 2, 199.90867579908678, 205.57077625570776],\n  [0, 0, 3, 199.90867579908678, 205.57077625570776],\n  [0, 0, 4, 199.90867579908678, 205.57077625570776],\n  [0, 0, 5, 199.90867579908678, 205.57077625570776],\n  [0, 0, 6, 199.90867579908678, 205.57077625570776],\n  [0, 0, 7, 199.90867579908678, 205.57077625570776],\n  [0, 0, 8, 199.90867579908678, 205.57077625570776]],\n 7: [[0, 0, 0, 205.57077625570776, 211.2328767123288],\n  [0, 0, 1, 205.57077625570776, 211.2328767123288],\n  [0, 0, 2, 205.57077625570776, 211.2328767123288],\n  [0, 0, 3, 205.57077625570776, 211.2328767123288],\n  [0, 0, 4, 205.57077625570776, 211.2328767123288],\n  [0, 0, 5, 205.57077625570776, 211.2328767123288],\n  [0, 0, 6, 205.57077625570776, 211.2328767123288],\n  [0, 0, 7, 205.57077625570776, 211.2328767123288],\n  [0, 0, 8, 205.57077625570776, 211.2328767123288]],\n 8: [[0, 0, 0, 211.2328767123288, 216.7123287671233],\n  [0, 0, 1, 211.2328767123288, 216.7123287671233],\n  [0, 0, 2, 211.2328767123288, 216.7123287671233],\n  [0, 0, 3, 211.2328767123288, 216.7123287671233],\n  [0, 0, 4, 211.2328767123288, 216.7123287671233],\n  [0, 0, 5, 211.2328767123288, 216.7123287671233],\n  [0, 0, 6, 211.2328767123288, 216.7123287671233],\n  [0, 0, 7, 211.2328767123288, 216.7123287671233],\n  [0, 0, 8, 211.2328767123288, 216.7123287671233]],\n 9: [[0, 0, 0, 216.7123287671233, 222.3744292237443],\n  [0, 0, 1, 216.7123287671233, 222.3744292237443],\n  [0, 0, 2, 216.7123287671233, 222.3744292237443],\n  [0, 0, 3, 216.7123287671233, 222.3744292237443],\n  [0, 0, 4, 216.7123287671233, 222.3744292237443],\n  [0, 0, 5, 216.7123287671233, 222.3744292237443],\n  [0, 0, 6, 216.7123287671233, 222.3744292237443],\n  [0, 0, 7, 216.7123287671233, 222.3744292237443],\n  [0, 0, 8, 216.7123287671233, 222.3744292237443]],\n 10: [[0, 0, 0, 222.3744292237443, 227.85388127853884],\n  [0, 0, 1, 222.3744292237443, 227.85388127853884],\n  [0, 0, 2, 222.3744292237443, 227.85388127853884],\n  [0, 0, 3, 222.3744292237443, 227.85388127853884],\n  [0, 0, 4, 222.3744292237443, 227.85388127853884],\n  [0, 0, 5, 222.3744292237443, 227.85388127853884],\n  [0, 0, 6, 222.3744292237443, 227.85388127853884],\n  [0, 0, 7, 222.3744292237443, 227.85388127853884],\n  [0, 0, 8, 222.3744292237443, 227.85388127853884]],\n 11: [[0, 0, 0, 227.85388127853884, 233.33333333333334],\n  [0, 0, 1, 227.85388127853884, 233.33333333333334],\n  [0, 0, 2, 227.85388127853884, 233.33333333333334],\n  [0, 0, 3, 227.85388127853884, 233.33333333333334],\n  [0, 0, 4, 227.85388127853884, 233.33333333333334],\n  [0, 0, 5, 227.85388127853884, 233.33333333333334],\n  [0, 0, 6, 227.85388127853884, 233.33333333333334],\n  [0, 0, 7, 227.85388127853884, 233.33333333333334],\n  [0, 0, 8, 227.85388127853884, 233.33333333333334]]}"
     },
     "execution_count": 28,
     "metadata": {},
     "output_type": "execute_result"
    }
   ],
   "source": [
    "from morpheus.project.infrastructure.calculation.engines.modflow_2005.packages.ChdPackageMapper import \\\n",
    "  calculate_chd_boundary_stress_period_data\n",
    "\n",
    "result = calculate_chd_boundary_stress_period_data(\n",
    "  spatial_discretization=spatial_discretization,\n",
    "  time_discretization=time_discretization,\n",
    "  soil_model=model.soil_model,\n",
    "  chd_boundary=constant_head,\n",
    ")\n",
    "result.to_dict()"
   ],
   "metadata": {
    "collapsed": false,
    "ExecuteTime": {
     "end_time": "2024-03-22T08:56:04.250800Z",
     "start_time": "2024-03-22T08:56:04.209102Z"
    }
   },
   "id": "c02b9bf2e59abc77"
  },
  {
   "cell_type": "markdown",
   "source": [
    "## Setup constant head boundary with two observations"
   ],
   "metadata": {
    "collapsed": false
   },
   "id": "894da2e8cf016539"
  },
  {
   "cell_type": "code",
   "execution_count": 29,
   "outputs": [
    {
     "data": {
      "text/plain": "<folium.folium.Map at 0x76f723fe7f20>",
      "text/html": "<div style=\"width:100%;\"><div style=\"position:relative;width:100%;height:0;padding-bottom:60%;\"><span style=\"color:#565656\">Make this Notebook Trusted to load map: File -> Trust Notebook</span><iframe srcdoc=\"&lt;!DOCTYPE html&gt;\n&lt;html&gt;\n&lt;head&gt;\n    \n    &lt;meta http-equiv=&quot;content-type&quot; content=&quot;text/html; charset=UTF-8&quot; /&gt;\n    \n        &lt;script&gt;\n            L_NO_TOUCH = false;\n            L_DISABLE_3D = false;\n        &lt;/script&gt;\n    \n    &lt;style&gt;html, body {width: 100%;height: 100%;margin: 0;padding: 0;}&lt;/style&gt;\n    &lt;style&gt;#map {position:absolute;top:0;bottom:0;right:0;left:0;}&lt;/style&gt;\n    &lt;script src=&quot;https://cdn.jsdelivr.net/npm/leaflet@1.9.3/dist/leaflet.js&quot;&gt;&lt;/script&gt;\n    &lt;script src=&quot;https://code.jquery.com/jquery-3.7.1.min.js&quot;&gt;&lt;/script&gt;\n    &lt;script src=&quot;https://cdn.jsdelivr.net/npm/bootstrap@5.2.2/dist/js/bootstrap.bundle.min.js&quot;&gt;&lt;/script&gt;\n    &lt;script src=&quot;https://cdnjs.cloudflare.com/ajax/libs/Leaflet.awesome-markers/2.0.2/leaflet.awesome-markers.js&quot;&gt;&lt;/script&gt;\n    &lt;link rel=&quot;stylesheet&quot; href=&quot;https://cdn.jsdelivr.net/npm/leaflet@1.9.3/dist/leaflet.css&quot;/&gt;\n    &lt;link rel=&quot;stylesheet&quot; href=&quot;https://cdn.jsdelivr.net/npm/bootstrap@5.2.2/dist/css/bootstrap.min.css&quot;/&gt;\n    &lt;link rel=&quot;stylesheet&quot; href=&quot;https://netdna.bootstrapcdn.com/bootstrap/3.0.0/css/bootstrap.min.css&quot;/&gt;\n    &lt;link rel=&quot;stylesheet&quot; href=&quot;https://cdn.jsdelivr.net/npm/@fortawesome/fontawesome-free@6.2.0/css/all.min.css&quot;/&gt;\n    &lt;link rel=&quot;stylesheet&quot; href=&quot;https://cdnjs.cloudflare.com/ajax/libs/Leaflet.awesome-markers/2.0.2/leaflet.awesome-markers.css&quot;/&gt;\n    &lt;link rel=&quot;stylesheet&quot; href=&quot;https://cdn.jsdelivr.net/gh/python-visualization/folium/folium/templates/leaflet.awesome.rotate.min.css&quot;/&gt;\n    \n            &lt;meta name=&quot;viewport&quot; content=&quot;width=device-width,\n                initial-scale=1.0, maximum-scale=1.0, user-scalable=no&quot; /&gt;\n            &lt;style&gt;\n                #map_46682acc18907cbd9fb03a3141f96db1 {\n                    position: relative;\n                    width: 100.0%;\n                    height: 100.0%;\n                    left: 0.0%;\n                    top: 0.0%;\n                }\n                .leaflet-container { font-size: 1rem; }\n            &lt;/style&gt;\n        \n&lt;/head&gt;\n&lt;body&gt;\n    \n    \n            &lt;div class=&quot;folium-map&quot; id=&quot;map_46682acc18907cbd9fb03a3141f96db1&quot; &gt;&lt;/div&gt;\n        \n&lt;/body&gt;\n&lt;script&gt;\n    \n    \n            var map_46682acc18907cbd9fb03a3141f96db1 = L.map(\n                &quot;map_46682acc18907cbd9fb03a3141f96db1&quot;,\n                {\n                    center: [50.965, 13.922],\n                    crs: L.CRS.EPSG3857,\n                    zoom: 12,\n                    zoomControl: true,\n                    preferCanvas: false,\n                }\n            );\n\n            \n\n        \n    \n            var tile_layer_37ed73b836580b692b776169f2b72b58 = L.tileLayer(\n                &quot;https://{s}.basemaps.cartocdn.com/light_all/{z}/{x}/{y}{r}.png&quot;,\n                {&quot;attribution&quot;: &quot;\\u0026copy; \\u003ca href=\\&quot;https://www.openstreetmap.org/copyright\\&quot;\\u003eOpenStreetMap\\u003c/a\\u003e contributors \\u0026copy; \\u003ca href=\\&quot;https://carto.com/attributions\\&quot;\\u003eCARTO\\u003c/a\\u003e&quot;, &quot;detectRetina&quot;: false, &quot;maxNativeZoom&quot;: 20, &quot;maxZoom&quot;: 20, &quot;minZoom&quot;: 0, &quot;noWrap&quot;: false, &quot;opacity&quot;: 1, &quot;subdomains&quot;: &quot;abcd&quot;, &quot;tms&quot;: false}\n            );\n        \n    \n            tile_layer_37ed73b836580b692b776169f2b72b58.addTo(map_46682acc18907cbd9fb03a3141f96db1);\n        \n    \n\n        function geo_json_5c9fcf45599b5dea592b713c8db9e8bd_onEachFeature(feature, layer) {\n            layer.on({\n            });\n        };\n        var geo_json_5c9fcf45599b5dea592b713c8db9e8bd = L.geoJson(null, {\n                onEachFeature: geo_json_5c9fcf45599b5dea592b713c8db9e8bd_onEachFeature,\n            \n        });\n\n        function geo_json_5c9fcf45599b5dea592b713c8db9e8bd_add (data) {\n            geo_json_5c9fcf45599b5dea592b713c8db9e8bd\n                .addData(data);\n        }\n            geo_json_5c9fcf45599b5dea592b713c8db9e8bd_add({&quot;coordinates&quot;: [[[13.922514437551428, 50.964720483303836], [13.925250781947113, 50.965228748412386], [13.925036413951403, 50.96623732041704], [13.92222441026388, 50.96629040370362], [13.922514437551428, 50.964720483303836]]], &quot;type&quot;: &quot;Polygon&quot;});\n\n        \n    \n            geo_json_5c9fcf45599b5dea592b713c8db9e8bd.addTo(map_46682acc18907cbd9fb03a3141f96db1);\n        \n    \n            map_46682acc18907cbd9fb03a3141f96db1.fitBounds(\n                [[50.964720483303836, 13.92222441026388], [50.96629040370362, 13.925250781947113]],\n                {}\n            );\n        \n    \n            tile_layer_37ed73b836580b692b776169f2b72b58.addTo(map_46682acc18907cbd9fb03a3141f96db1);\n        \n    \n            geo_json_5c9fcf45599b5dea592b713c8db9e8bd.addTo(map_46682acc18907cbd9fb03a3141f96db1);\n        \n    \n\n        function geo_json_23544cd7d7bb15f80ba12c9458eeace1_onEachFeature(feature, layer) {\n            layer.on({\n            });\n        };\n        var geo_json_23544cd7d7bb15f80ba12c9458eeace1 = L.geoJson(null, {\n                onEachFeature: geo_json_23544cd7d7bb15f80ba12c9458eeace1_onEachFeature,\n            \n        });\n\n        function geo_json_23544cd7d7bb15f80ba12c9458eeace1_add (data) {\n            geo_json_23544cd7d7bb15f80ba12c9458eeace1\n                .addData(data);\n        }\n            geo_json_23544cd7d7bb15f80ba12c9458eeace1_add({&quot;coordinates&quot;: [[13.9223, 50.9662], [13.925, 50.96615]], &quot;type&quot;: &quot;LineString&quot;});\n\n        \n    \n            geo_json_23544cd7d7bb15f80ba12c9458eeace1.addTo(map_46682acc18907cbd9fb03a3141f96db1);\n        \n    \n\n        function geo_json_c85901e500400ec683e546504eb383a5_onEachFeature(feature, layer) {\n            layer.on({\n            });\n        };\n        var geo_json_c85901e500400ec683e546504eb383a5 = L.geoJson(null, {\n                onEachFeature: geo_json_c85901e500400ec683e546504eb383a5_onEachFeature,\n            \n        });\n\n        function geo_json_c85901e500400ec683e546504eb383a5_add (data) {\n            geo_json_c85901e500400ec683e546504eb383a5\n                .addData(data);\n        }\n            geo_json_c85901e500400ec683e546504eb383a5_add({&quot;geometries&quot;: [{&quot;coordinates&quot;: [[[13.922224410263878, 50.9662904037036], [13.922527047432201, 50.9662904037036], [13.922527047432201, 50.966133414051114], [13.922224410263878, 50.966133414051114], [13.922224410263878, 50.9662904037036]]], &quot;type&quot;: &quot;Polygon&quot;}, {&quot;coordinates&quot;: [[[13.922527047432201, 50.9662904037036], [13.922829684600526, 50.9662904037036], [13.922829684600526, 50.966133414051114], [13.922527047432201, 50.966133414051114], [13.922527047432201, 50.9662904037036]]], &quot;type&quot;: &quot;Polygon&quot;}, {&quot;coordinates&quot;: [[[13.922829684600526, 50.9662904037036], [13.923132321768849, 50.9662904037036], [13.923132321768849, 50.966133414051114], [13.922829684600526, 50.966133414051114], [13.922829684600526, 50.9662904037036]]], &quot;type&quot;: &quot;Polygon&quot;}, {&quot;coordinates&quot;: [[[13.923132321768849, 50.9662904037036], [13.923434958937172, 50.9662904037036], [13.923434958937172, 50.966133414051114], [13.923132321768849, 50.966133414051114], [13.923132321768849, 50.9662904037036]]], &quot;type&quot;: &quot;Polygon&quot;}, {&quot;coordinates&quot;: [[[13.923434958937172, 50.9662904037036], [13.923737596105495, 50.9662904037036], [13.923737596105495, 50.966133414051114], [13.923434958937172, 50.966133414051114], [13.923434958937172, 50.9662904037036]]], &quot;type&quot;: &quot;Polygon&quot;}, {&quot;coordinates&quot;: [[[13.923737596105495, 50.9662904037036], [13.924040233273818, 50.9662904037036], [13.924040233273818, 50.966133414051114], [13.923737596105495, 50.966133414051114], [13.923737596105495, 50.9662904037036]]], &quot;type&quot;: &quot;Polygon&quot;}, {&quot;coordinates&quot;: [[[13.924040233273818, 50.9662904037036], [13.924342870442143, 50.9662904037036], [13.924342870442143, 50.966133414051114], [13.924040233273818, 50.966133414051114], [13.924040233273818, 50.9662904037036]]], &quot;type&quot;: &quot;Polygon&quot;}, {&quot;coordinates&quot;: [[[13.924342870442143, 50.9662904037036], [13.924645507610466, 50.9662904037036], [13.924645507610466, 50.966133414051114], [13.924342870442143, 50.966133414051114], [13.924342870442143, 50.9662904037036]]], &quot;type&quot;: &quot;Polygon&quot;}, {&quot;coordinates&quot;: [[[13.924645507610466, 50.9662904037036], [13.92494814477879, 50.9662904037036], [13.92494814477879, 50.966133414051114], [13.924645507610466, 50.966133414051114], [13.924645507610466, 50.9662904037036]]], &quot;type&quot;: &quot;Polygon&quot;}], &quot;type&quot;: &quot;GeometryCollection&quot;});\n\n        \n    \n            geo_json_c85901e500400ec683e546504eb383a5.addTo(map_46682acc18907cbd9fb03a3141f96db1);\n        \n    \n\n        function geo_json_2ccdc6da0748003358a8508f8333d272_onEachFeature(feature, layer) {\n            layer.on({\n            });\n        };\n        var geo_json_2ccdc6da0748003358a8508f8333d272 = L.geoJson(null, {\n                onEachFeature: geo_json_2ccdc6da0748003358a8508f8333d272_onEachFeature,\n            \n        });\n\n        function geo_json_2ccdc6da0748003358a8508f8333d272_add (data) {\n            geo_json_2ccdc6da0748003358a8508f8333d272\n                .addData(data);\n        }\n            geo_json_2ccdc6da0748003358a8508f8333d272_add({&quot;coordinates&quot;: [13.9223, 50.9662], &quot;type&quot;: &quot;Point&quot;});\n\n        \n    \n            geo_json_2ccdc6da0748003358a8508f8333d272.addTo(map_46682acc18907cbd9fb03a3141f96db1);\n        \n    \n            map_46682acc18907cbd9fb03a3141f96db1.fitBounds(\n                [[50.964720483303836, 13.922224410263878], [50.96629040370362, 13.925250781947113]],\n                {}\n            );\n        \n    \n            tile_layer_37ed73b836580b692b776169f2b72b58.addTo(map_46682acc18907cbd9fb03a3141f96db1);\n        \n    \n            geo_json_5c9fcf45599b5dea592b713c8db9e8bd.addTo(map_46682acc18907cbd9fb03a3141f96db1);\n        \n    \n            geo_json_23544cd7d7bb15f80ba12c9458eeace1.addTo(map_46682acc18907cbd9fb03a3141f96db1);\n        \n    \n            geo_json_c85901e500400ec683e546504eb383a5.addTo(map_46682acc18907cbd9fb03a3141f96db1);\n        \n    \n            geo_json_2ccdc6da0748003358a8508f8333d272.addTo(map_46682acc18907cbd9fb03a3141f96db1);\n        \n    \n\n        function geo_json_37fcf5ada1bf2db6a1debf34495540fd_onEachFeature(feature, layer) {\n            layer.on({\n            });\n        };\n        var geo_json_37fcf5ada1bf2db6a1debf34495540fd = L.geoJson(null, {\n                onEachFeature: geo_json_37fcf5ada1bf2db6a1debf34495540fd_onEachFeature,\n            \n        });\n\n        function geo_json_37fcf5ada1bf2db6a1debf34495540fd_add (data) {\n            geo_json_37fcf5ada1bf2db6a1debf34495540fd\n                .addData(data);\n        }\n            geo_json_37fcf5ada1bf2db6a1debf34495540fd_add({&quot;coordinates&quot;: [[13.9223, 50.9662], [13.925, 50.96615]], &quot;type&quot;: &quot;LineString&quot;});\n\n        \n    \n            geo_json_37fcf5ada1bf2db6a1debf34495540fd.addTo(map_46682acc18907cbd9fb03a3141f96db1);\n        \n    \n\n        function geo_json_c17f98d96d3a8b446c4c7805251ce976_onEachFeature(feature, layer) {\n            layer.on({\n            });\n        };\n        var geo_json_c17f98d96d3a8b446c4c7805251ce976 = L.geoJson(null, {\n                onEachFeature: geo_json_c17f98d96d3a8b446c4c7805251ce976_onEachFeature,\n            \n        });\n\n        function geo_json_c17f98d96d3a8b446c4c7805251ce976_add (data) {\n            geo_json_c17f98d96d3a8b446c4c7805251ce976\n                .addData(data);\n        }\n            geo_json_c17f98d96d3a8b446c4c7805251ce976_add({&quot;geometries&quot;: [{&quot;coordinates&quot;: [[[13.922224410263878, 50.9662904037036], [13.922527047432201, 50.9662904037036], [13.922527047432201, 50.966133414051114], [13.922224410263878, 50.966133414051114], [13.922224410263878, 50.9662904037036]]], &quot;type&quot;: &quot;Polygon&quot;}, {&quot;coordinates&quot;: [[[13.922527047432201, 50.9662904037036], [13.922829684600526, 50.9662904037036], [13.922829684600526, 50.966133414051114], [13.922527047432201, 50.966133414051114], [13.922527047432201, 50.9662904037036]]], &quot;type&quot;: &quot;Polygon&quot;}, {&quot;coordinates&quot;: [[[13.922829684600526, 50.9662904037036], [13.923132321768849, 50.9662904037036], [13.923132321768849, 50.966133414051114], [13.922829684600526, 50.966133414051114], [13.922829684600526, 50.9662904037036]]], &quot;type&quot;: &quot;Polygon&quot;}, {&quot;coordinates&quot;: [[[13.923132321768849, 50.9662904037036], [13.923434958937172, 50.9662904037036], [13.923434958937172, 50.966133414051114], [13.923132321768849, 50.966133414051114], [13.923132321768849, 50.9662904037036]]], &quot;type&quot;: &quot;Polygon&quot;}, {&quot;coordinates&quot;: [[[13.923434958937172, 50.9662904037036], [13.923737596105495, 50.9662904037036], [13.923737596105495, 50.966133414051114], [13.923434958937172, 50.966133414051114], [13.923434958937172, 50.9662904037036]]], &quot;type&quot;: &quot;Polygon&quot;}, {&quot;coordinates&quot;: [[[13.923737596105495, 50.9662904037036], [13.924040233273818, 50.9662904037036], [13.924040233273818, 50.966133414051114], [13.923737596105495, 50.966133414051114], [13.923737596105495, 50.9662904037036]]], &quot;type&quot;: &quot;Polygon&quot;}, {&quot;coordinates&quot;: [[[13.924040233273818, 50.9662904037036], [13.924342870442143, 50.9662904037036], [13.924342870442143, 50.966133414051114], [13.924040233273818, 50.966133414051114], [13.924040233273818, 50.9662904037036]]], &quot;type&quot;: &quot;Polygon&quot;}, {&quot;coordinates&quot;: [[[13.924342870442143, 50.9662904037036], [13.924645507610466, 50.9662904037036], [13.924645507610466, 50.966133414051114], [13.924342870442143, 50.966133414051114], [13.924342870442143, 50.9662904037036]]], &quot;type&quot;: &quot;Polygon&quot;}, {&quot;coordinates&quot;: [[[13.924645507610466, 50.9662904037036], [13.92494814477879, 50.9662904037036], [13.92494814477879, 50.966133414051114], [13.924645507610466, 50.966133414051114], [13.924645507610466, 50.9662904037036]]], &quot;type&quot;: &quot;Polygon&quot;}, {&quot;coordinates&quot;: [[[13.92494814477879, 50.9662904037036], [13.925250781947113, 50.9662904037036], [13.925250781947113, 50.966133414051114], [13.92494814477879, 50.966133414051114], [13.92494814477879, 50.9662904037036]]], &quot;type&quot;: &quot;Polygon&quot;}], &quot;type&quot;: &quot;GeometryCollection&quot;});\n\n        \n    \n            geo_json_c17f98d96d3a8b446c4c7805251ce976.addTo(map_46682acc18907cbd9fb03a3141f96db1);\n        \n    \n\n        function geo_json_811f3a0619bd689060e46b972cb6c455_onEachFeature(feature, layer) {\n            layer.on({\n            });\n        };\n        var geo_json_811f3a0619bd689060e46b972cb6c455 = L.geoJson(null, {\n                onEachFeature: geo_json_811f3a0619bd689060e46b972cb6c455_onEachFeature,\n            \n        });\n\n        function geo_json_811f3a0619bd689060e46b972cb6c455_add (data) {\n            geo_json_811f3a0619bd689060e46b972cb6c455\n                .addData(data);\n        }\n            geo_json_811f3a0619bd689060e46b972cb6c455_add({&quot;coordinates&quot;: [13.9223, 50.9662], &quot;type&quot;: &quot;Point&quot;});\n\n        \n    \n            geo_json_811f3a0619bd689060e46b972cb6c455.addTo(map_46682acc18907cbd9fb03a3141f96db1);\n        \n    \n\n        function geo_json_8e254f4b5ed67c1bccbe0fe8dcb76f60_onEachFeature(feature, layer) {\n            layer.on({\n            });\n        };\n        var geo_json_8e254f4b5ed67c1bccbe0fe8dcb76f60 = L.geoJson(null, {\n                onEachFeature: geo_json_8e254f4b5ed67c1bccbe0fe8dcb76f60_onEachFeature,\n            \n        });\n\n        function geo_json_8e254f4b5ed67c1bccbe0fe8dcb76f60_add (data) {\n            geo_json_8e254f4b5ed67c1bccbe0fe8dcb76f60\n                .addData(data);\n        }\n            geo_json_8e254f4b5ed67c1bccbe0fe8dcb76f60_add({&quot;coordinates&quot;: [13.925, 50.96615], &quot;type&quot;: &quot;Point&quot;});\n\n        \n    \n            geo_json_8e254f4b5ed67c1bccbe0fe8dcb76f60.addTo(map_46682acc18907cbd9fb03a3141f96db1);\n        \n    \n            map_46682acc18907cbd9fb03a3141f96db1.fitBounds(\n                [[50.964720483303836, 13.922224410263878], [50.96629040370362, 13.925250781947113]],\n                {}\n            );\n        \n&lt;/script&gt;\n&lt;/html&gt;\" style=\"position:absolute;width:100%;height:100%;left:0;top:0;border:none !important;\" allowfullscreen webkitallowfullscreen mozallowfullscreen></iframe></div></div>"
     },
     "execution_count": 29,
     "metadata": {},
     "output_type": "execute_result"
    }
   ],
   "source": [
    "from morpheus.project.types.geometry import Point\n",
    "from morpheus.project.types.boundaries.Boundary import BoundaryName, ConstantHeadBoundary\n",
    "\n",
    "layers_list = [model.soil_model.layers[0].id]\n",
    "constant_head = ConstantHeadBoundary.from_geometry(\n",
    "  name=BoundaryName('constant_head'),\n",
    "  geometry=LineString([\n",
    "    (13.9223, 50.9662),\n",
    "    (13.9250, 50.96615),\n",
    "  ]),\n",
    "  grid=grid,\n",
    "  affected_layers=[layers_list[0]],\n",
    "  observations=[\n",
    "    ConstantHeadObservation(\n",
    "      observation_id=ObservationId.new(),\n",
    "      geometry=Point((13.9223, 50.9662)),\n",
    "      raw_data=[\n",
    "        ConstantHeadRawDataItem(\n",
    "          date_time=StartDateTime.from_datetime(datetime(2019, 1, 1)),\n",
    "          head=HeadValue.from_float(100),\n",
    "        ),\n",
    "        ConstantHeadRawDataItem(\n",
    "          date_time=StartDateTime.from_datetime(datetime(2021, 12, 31)),\n",
    "          head=HeadValue.from_float(300),\n",
    "        ),\n",
    "      ]\n",
    "    ),\n",
    "    ConstantHeadObservation(\n",
    "      observation_id=ObservationId.new(),\n",
    "      geometry=Point((13.9250, 50.96615)),\n",
    "      raw_data=[\n",
    "        ConstantHeadRawDataItem(\n",
    "          date_time=StartDateTime.from_datetime(datetime(2019, 1, 1)),\n",
    "          head=HeadValue.from_float(200),\n",
    "        ),\n",
    "        ConstantHeadRawDataItem(\n",
    "          date_time=StartDateTime.from_datetime(datetime(2021, 12, 31)),\n",
    "          head=HeadValue.from_float(400),\n",
    "        ),\n",
    "      ]\n",
    "    )\n",
    "  ]\n",
    ")\n",
    "\n",
    "m.add_child(folium.GeoJson(constant_head.as_geojson()))\n",
    "m.add_child(folium.GeoJson(constant_head.affected_cells.as_geojson(grid).as_geojson()))\n",
    "for constant_head.observation in constant_head.observations:\n",
    "  m.add_child(folium.GeoJson(constant_head.observation.as_geojson()))\n",
    "m.fit_bounds(m.get_bounds())\n",
    "m"
   ],
   "metadata": {
    "collapsed": false,
    "ExecuteTime": {
     "end_time": "2024-03-22T08:56:04.359495Z",
     "start_time": "2024-03-22T08:56:04.253391Z"
    }
   },
   "id": "46c0ee9a25e86e17"
  },
  {
   "cell_type": "markdown",
   "source": [
    "## Calculate constant head stress periods"
   ],
   "metadata": {
    "collapsed": false
   },
   "id": "2ed6c19e1f77c7c2"
  },
  {
   "cell_type": "code",
   "execution_count": 30,
   "outputs": [
    {
     "data": {
      "text/plain": "{0: [[0, 0, 0, 169.46231209045823, 175.1244125470792],\n  [0, 0, 1, 180.66725352984233, 186.3293539864633],\n  [0, 0, 2, 191.87219496935793, 197.5342954259789],\n  [0, 0, 3, 203.0771364088078, 208.73923686542878],\n  [0, 0, 4, 214.28207784825764, 219.94417830487862],\n  [0, 0, 5, 225.4870192877075, 231.1491197443285],\n  [0, 0, 6, 236.69196072715735, 242.35406118377833],\n  [0, 0, 7, 247.89690216660722, 253.5590026232282],\n  [0, 0, 8, 259.1018436061228, 264.7639440627438]],\n 1: [[0, 0, 0, 175.1244125470792, 180.42121620004724],\n  [0, 0, 1, 186.3293539864633, 191.62615763943134],\n  [0, 0, 2, 197.5342954259789, 202.83109907894695],\n  [0, 0, 3, 208.73923686542878, 214.03604051839682],\n  [0, 0, 4, 219.94417830487862, 225.24098195784666],\n  [0, 0, 5, 231.1491197443285, 236.44592339729653],\n  [0, 0, 6, 242.35406118377833, 247.65086483674636],\n  [0, 0, 7, 253.5590026232282, 258.85580627619623],\n  [0, 0, 8, 264.7639440627438, 270.06074771571184]],\n 2: [[0, 0, 0, 180.42121620004724, 186.08331665666827],\n  [0, 0, 1, 191.62615763943134, 197.28825809605237],\n  [0, 0, 2, 202.83109907894695, 208.49319953556798],\n  [0, 0, 3, 214.03604051839682, 219.69814097501785],\n  [0, 0, 4, 225.24098195784666, 230.9030824144677],\n  [0, 0, 5, 236.44592339729653, 242.10802385391756],\n  [0, 0, 6, 247.65086483674636, 253.3129652933674],\n  [0, 0, 7, 258.85580627619623, 264.51790673281727],\n  [0, 0, 8, 270.06074771571184, 275.7228481723329]],\n 3: [[0, 0, 0, 186.08331665666827, 191.56276871146278],\n  [0, 0, 1, 197.28825809605237, 202.76771015084688],\n  [0, 0, 2, 208.49319953556798, 213.9726515903625],\n  [0, 0, 3, 219.69814097501785, 225.17759302981233],\n  [0, 0, 4, 230.9030824144677, 236.3825344692622],\n  [0, 0, 5, 242.10802385391756, 247.58747590871204],\n  [0, 0, 6, 253.3129652933674, 258.7924173481619],\n  [0, 0, 7, 264.51790673281727, 269.99735878761174],\n  [0, 0, 8, 275.7228481723329, 281.20230022712735]],\n 4: [[0, 0, 0, 191.56276871146278, 197.22486916808379],\n  [0, 0, 1, 202.76771015084688, 208.42981060746789],\n  [0, 0, 2, 213.9726515903625, 219.6347520469835],\n  [0, 0, 3, 225.17759302981233, 230.83969348643336],\n  [0, 0, 4, 236.3825344692622, 242.0446349258832],\n  [0, 0, 5, 247.58747590871204, 253.24957636533307],\n  [0, 0, 6, 258.7924173481619, 264.4545178047829],\n  [0, 0, 7, 269.99735878761174, 275.6594592442328],\n  [0, 0, 8, 281.20230022712735, 286.8644006837484]],\n 5: [[0, 0, 0, 197.22486916808379, 202.70432122287832],\n  [0, 0, 1, 208.42981060746789, 213.90926266226242],\n  [0, 0, 2, 219.6347520469835, 225.11420410177803],\n  [0, 0, 3, 230.83969348643336, 236.3191455412279],\n  [0, 0, 4, 242.0446349258832, 247.52408698067774],\n  [0, 0, 5, 253.24957636533307, 258.7290284201276],\n  [0, 0, 6, 264.4545178047829, 269.9339698595775],\n  [0, 0, 7, 275.6594592442328, 281.1389112990273],\n  [0, 0, 8, 286.8644006837484, 292.3438527385429]],\n 6: [[0, 0, 0, 202.70432122287832, 208.3664216794993],\n  [0, 0, 1, 213.90926266226242, 219.5713631188834],\n  [0, 0, 2, 225.11420410177803, 230.776304558399],\n  [0, 0, 3, 236.3191455412279, 241.98124599784887],\n  [0, 0, 4, 247.52408698067774, 253.1861874372987],\n  [0, 0, 5, 258.7290284201276, 264.39112887674855],\n  [0, 0, 6, 269.9339698595775, 275.5960703161984],\n  [0, 0, 7, 281.1389112990273, 286.8010117556483],\n  [0, 0, 8, 292.3438527385429, 298.0059531951639]],\n 7: [[0, 0, 0, 208.3664216794993, 214.02852213612033],\n  [0, 0, 1, 219.5713631188834, 225.23346357550443],\n  [0, 0, 2, 230.776304558399, 236.43840501502004],\n  [0, 0, 3, 241.98124599784887, 247.6433464544699],\n  [0, 0, 4, 253.1861874372987, 258.84828789391975],\n  [0, 0, 5, 264.39112887674855, 270.0532293333696],\n  [0, 0, 6, 275.5960703161984, 281.2581707728194],\n  [0, 0, 7, 286.8010117556483, 292.4631122122693],\n  [0, 0, 8, 298.0059531951639, 303.66805365178493]],\n 8: [[0, 0, 0, 214.02852213612033, 219.50797419091484],\n  [0, 0, 1, 225.23346357550443, 230.71291563029894],\n  [0, 0, 2, 236.43840501502004, 241.91785706981454],\n  [0, 0, 3, 247.6433464544699, 253.12279850926438],\n  [0, 0, 4, 258.84828789391975, 264.3277399487142],\n  [0, 0, 5, 270.0532293333696, 275.53268138816406],\n  [0, 0, 6, 281.2581707728194, 286.73762282761396],\n  [0, 0, 7, 292.4631122122693, 297.9425642670638],\n  [0, 0, 8, 303.66805365178493, 309.1475057065794]],\n 9: [[0, 0, 0, 219.50797419091484, 225.17007464753584],\n  [0, 0, 1, 230.71291563029894, 236.37501608691994],\n  [0, 0, 2, 241.91785706981454, 247.57995752643555],\n  [0, 0, 3, 253.12279850926438, 258.7848989658854],\n  [0, 0, 4, 264.3277399487142, 269.98984040533526],\n  [0, 0, 5, 275.53268138816406, 281.1947818447851],\n  [0, 0, 6, 286.73762282761396, 292.39972328423494],\n  [0, 0, 7, 297.9425642670638, 303.60466472368483],\n  [0, 0, 8, 309.1475057065794, 314.80960616320044]],\n 10: [[0, 0, 0, 225.17007464753584, 230.64952670233038],\n  [0, 0, 1, 236.37501608691994, 241.85446814171448],\n  [0, 0, 2, 247.57995752643555, 253.05940958123008],\n  [0, 0, 3, 258.7848989658854, 264.26435102067995],\n  [0, 0, 4, 269.98984040533526, 275.4692924601298],\n  [0, 0, 5, 281.1947818447851, 286.67423389957963],\n  [0, 0, 6, 292.39972328423494, 297.87917533902953],\n  [0, 0, 7, 303.60466472368483, 309.08411677847937],\n  [0, 0, 8, 314.80960616320044, 320.289058217995]],\n 11: [[0, 0, 0, 230.64952670233038, 236.12897875712488],\n  [0, 0, 1, 241.85446814171448, 247.33392019650898],\n  [0, 0, 2, 253.05940958123008, 258.5388616360246],\n  [0, 0, 3, 264.26435102067995, 269.7438030754745],\n  [0, 0, 4, 275.4692924601298, 280.94874451492433],\n  [0, 0, 5, 286.67423389957963, 292.15368595437417],\n  [0, 0, 6, 297.87917533902953, 303.358627393824],\n  [0, 0, 7, 309.08411677847937, 314.5635688332739],\n  [0, 0, 8, 320.289058217995, 325.7685102727895]]}"
     },
     "execution_count": 30,
     "metadata": {},
     "output_type": "execute_result"
    }
   ],
   "source": [
    "from morpheus.project.infrastructure.calculation.engines.modflow_2005.packages.ChdPackageMapper import \\\n",
    "  calculate_chd_boundary_stress_period_data\n",
    "\n",
    "result = calculate_chd_boundary_stress_period_data(\n",
    "  spatial_discretization=spatial_discretization,\n",
    "  time_discretization=time_discretization,\n",
    "  soil_model=model.soil_model,\n",
    "  chd_boundary=constant_head,\n",
    ")\n",
    "result.to_dict()"
   ],
   "metadata": {
    "collapsed": false,
    "ExecuteTime": {
     "end_time": "2024-03-22T08:56:04.705885Z",
     "start_time": "2024-03-22T08:56:04.361091Z"
    }
   },
   "id": "61c2482657e0f072"
  }
 ],
 "metadata": {
  "kernelspec": {
   "display_name": "Python 3",
   "language": "python",
   "name": "python3"
  },
  "language_info": {
   "codemirror_mode": {
    "name": "ipython",
    "version": 2
   },
   "file_extension": ".py",
   "mimetype": "text/x-python",
   "name": "python",
   "nbconvert_exporter": "python",
   "pygments_lexer": "ipython2",
   "version": "2.7.6"
  }
 },
 "nbformat": 4,
 "nbformat_minor": 5
}
