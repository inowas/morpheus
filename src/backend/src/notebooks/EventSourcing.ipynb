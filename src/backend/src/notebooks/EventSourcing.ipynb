{
 "cells": [
  {
   "cell_type": "code",
   "outputs": [
    {
     "data": {
      "text/plain": "ProjectCreatedEvent(payload=ProjectCreatedEventPayload(project_id=ProjectId(value='cdfb8191-e93e-41b7-ba63-640ee33fa7ee'), project_name=Name(value='Test')))"
     },
     "execution_count": 1,
     "metadata": {},
     "output_type": "execute_result"
    }
   ],
   "source": [
    "from morpheus.modflow.types.Settings import Metadata, Name, Description, Tags\n",
    "from morpheus.modflow.types.User import UserId\n",
    "from morpheus.modflow.types.Project import Project, ProjectId\n",
    "from morpheus.modflow.domain.events.ProjectCreatedEvent import ProjectCreatedEvent, ProjectCreatedEventPayload\n",
    "\n",
    "user_id = UserId.new()\n",
    "project_id = ProjectId.new()\n",
    "\n",
    "project = Project.new(user_id=user_id, project_id=project_id)\n",
    "settings = project.settings\n",
    "project = project.with_updated_settings(\n",
    "  settings.with_updated_metadata(Metadata(name=Name.from_str('Test'), description=Description.from_str('Test project'), tags=Tags.from_list([])))\n",
    ")\n",
    "\n",
    "event = ProjectCreatedEvent.from_payload(\n",
    "  ProjectCreatedEventPayload(project_id=project_id, project_name=project.settings.metadata.name)\n",
    ")\n",
    "  \n",
    "event"
   ],
   "metadata": {
    "collapsed": false,
    "ExecuteTime": {
     "end_time": "2024-01-23T14:41:56.765755653Z",
     "start_time": "2024-01-23T14:41:53.858372273Z"
    }
   },
   "id": "60b02abb5d21d0dd",
   "execution_count": 1
  },
  {
   "cell_type": "code",
   "outputs": [
    {
     "data": {
      "text/plain": "EventEnvelope(event=ProjectCreatedEvent(payload=ProjectCreatedEventPayload(project_id=ProjectId(value='cdfb8191-e93e-41b7-ba63-640ee33fa7ee'), project_name=Name(value='Test'))), occurred_at=DateTime(value=datetime.datetime(2024, 1, 23, 15, 41, 56, 707110)), metadata=EventMetadata(obj={'test': 123}))"
     },
     "execution_count": 2,
     "metadata": {},
     "output_type": "execute_result"
    }
   ],
   "source": [
    "from morpheus.common.types.event_sourcing.EventMetadata import EventMetadata\n",
    "from morpheus.common.types import DateTime\n",
    "from morpheus.common.types.event_sourcing.EventEnvelope import EventEnvelope\n",
    "\n",
    "envelope = EventEnvelope(event, DateTime.now(), EventMetadata.from_dict({'test': 123}))\n",
    "envelope"
   ],
   "metadata": {
    "collapsed": false,
    "ExecuteTime": {
     "end_time": "2024-01-23T14:41:56.808085027Z",
     "start_time": "2024-01-23T14:41:56.734249871Z"
    }
   },
   "id": "4e27359357ed2625",
   "execution_count": 2
  },
  {
   "cell_type": "markdown",
   "source": [
    "# Listeners must have arguments \"event\" and \"metadata\" with proper types"
   ],
   "metadata": {
    "collapsed": false
   },
   "id": "740a87482c1f1624"
  },
  {
   "cell_type": "code",
   "outputs": [
    {
     "name": "stdout",
     "output_type": "stream",
     "text": [
      "Event listener <bound method ProjectorInvalid0.on_project_created of <__main__.ProjectorInvalid0 object at 0x7fc226458b30>> must have an argument called \"event\" that should by type hinted with a subclass of EventBase\n",
      "Event listener <bound method ProjectorInvalid1.on_project_created of <__main__.ProjectorInvalid1 object at 0x7fc255a5be60>> must have an argument called \"event\" that should by type hinted with a subclass of EventBase\n",
      "Event listener <bound method ProjectorInvalid2.on_project_created of <__main__.ProjectorInvalid2 object at 0x7fc226458b30>> must have an argument called \"metadata\" that should by type hinted with a subclass of EventMetadata\n",
      "Event listener <bound method ProjectorInvalid3.on_project_created of <__main__.ProjectorInvalid3 object at 0x7fc255a5be60>> must have an argument called \"event\" that should by type hinted with a subclass of EventBase\n",
      "Event listener <bound method ProjectorInvalid4.on_project_created of <__main__.ProjectorInvalid4 object at 0x7fc226458b30>> must have an argument called \"metadata\" that should by type hinted with a subclass of EventMetadata\n"
     ]
    }
   ],
   "source": [
    "from morpheus.common.infrastructure.event_sourcing.EventPublisher import EventPublisher, listen_to\n",
    "\n",
    "class Invalid:\n",
    "  pass\n",
    "\n",
    "class ProjectorInvalid0:\n",
    "    @listen_to(ProjectCreatedEvent)\n",
    "    def on_project_created(self):\n",
    "      print('Created project')\n",
    "\n",
    "class ProjectorInvalid1:\n",
    "    @listen_to(ProjectCreatedEvent)\n",
    "    def on_project_created(self, invalid: ProjectCreatedEvent, metadata: EventMetadata):\n",
    "      print('Created project')\n",
    "\n",
    "class ProjectorInvalid2:\n",
    "    @listen_to(ProjectCreatedEvent)\n",
    "    def on_project_created(self, event: ProjectCreatedEvent, invalid: EventMetadata):\n",
    "      print('Created project')\n",
    "\n",
    "class ProjectorInvalid3:\n",
    "    @listen_to(ProjectCreatedEvent)\n",
    "    def on_project_created(self, event: Invalid, metadata: EventMetadata):\n",
    "      print('Created project')\n",
    "      \n",
    "class ProjectorInvalid4:\n",
    "    @listen_to(ProjectCreatedEvent)\n",
    "    def on_project_created(self, event: ProjectCreatedEvent, metadata: Invalid):\n",
    "      print('Created project')\n",
    "\n",
    "\n",
    "event_publisher = EventPublisher()\n",
    "try:\n",
    "  projector = ProjectorInvalid0()\n",
    "  event_publisher.register(projector)\n",
    "except Exception as e:\n",
    "  print(e)\n",
    "  \n",
    "try:\n",
    "  projector = ProjectorInvalid1()\n",
    "  event_publisher.register(projector)\n",
    "except Exception as e:\n",
    "  print(e)\n",
    "  \n",
    "try:\n",
    "  projector = ProjectorInvalid2()\n",
    "  event_publisher.register(projector)\n",
    "except Exception as e:\n",
    "  print(e)\n",
    "  \n",
    "try:\n",
    "  projector = ProjectorInvalid3()\n",
    "  event_publisher.register(projector)\n",
    "except Exception as e:\n",
    "  print(e)\n",
    "  \n",
    "try:\n",
    "  projector = ProjectorInvalid4()\n",
    "  event_publisher.register(projector)\n",
    "except Exception as e:\n",
    "  print(e)"
   ],
   "metadata": {
    "collapsed": false,
    "ExecuteTime": {
     "end_time": "2024-01-23T14:41:56.981293857Z",
     "start_time": "2024-01-23T14:41:56.745443240Z"
    }
   },
   "id": "932b4fe5bd839f2",
   "execution_count": 3
  },
  {
   "cell_type": "markdown",
   "source": [
    "# Cannot register same listener twice"
   ],
   "metadata": {
    "collapsed": false
   },
   "id": "9d52b120aa989d1f"
  },
  {
   "cell_type": "code",
   "outputs": [
    {
     "name": "stdout",
     "output_type": "stream",
     "text": [
      "Event handler already registered\n"
     ]
    }
   ],
   "source": [
    "class Projector:\n",
    "    @listen_to(ProjectCreatedEvent)\n",
    "    def on_project_created(self, event: ProjectCreatedEvent, metadata: EventMetadata):\n",
    "      print(f'Created project {event.get_payload().project_id} with metadata {metadata}')\n",
    "   \n",
    "try:\n",
    "  event_publisher = EventPublisher()\n",
    "  projector = Projector()\n",
    "  event_publisher.register(projector)\n",
    "  event_publisher.register(projector)\n",
    "except Exception as e:\n",
    "  print(e)"
   ],
   "metadata": {
    "collapsed": false,
    "ExecuteTime": {
     "end_time": "2024-01-23T14:41:56.983712908Z",
     "start_time": "2024-01-23T14:41:56.788032340Z"
    }
   },
   "id": "56155ec2f19c768d",
   "execution_count": 4
  },
  {
   "cell_type": "code",
   "outputs": [],
   "source": [
    "from morpheus.modflow.infrastructure.event_sourcing.ModflowEventBus import modflow_event_bus\n",
    "\n",
    "modflow_event_bus.record(envelope) "
   ],
   "metadata": {
    "collapsed": false,
    "ExecuteTime": {
     "end_time": "2024-01-23T14:41:59.635536298Z",
     "start_time": "2024-01-23T14:41:56.806946523Z"
    }
   },
   "id": "11663385928e76da",
   "execution_count": 5
  }
 ],
 "metadata": {
  "kernelspec": {
   "display_name": "Python 3",
   "language": "python",
   "name": "python3"
  },
  "language_info": {
   "codemirror_mode": {
    "name": "ipython",
    "version": 2
   },
   "file_extension": ".py",
   "mimetype": "text/x-python",
   "name": "python",
   "nbconvert_exporter": "python",
   "pygments_lexer": "ipython2",
   "version": "2.7.6"
  }
 },
 "nbformat": 4,
 "nbformat_minor": 5
}
