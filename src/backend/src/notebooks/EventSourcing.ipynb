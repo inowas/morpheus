{
 "cells": [
  {
   "metadata": {},
   "cell_type": "markdown",
   "source": "# Listeners must have arguments \"event\" and \"metadata\" with proper types",
   "id": "740a87482c1f1624"
  },
  {
   "cell_type": "code",
   "source": [
    "from morpheus.common.types.event_sourcing.EventMetadata import EventMetadata\n",
    "from morpheus.project.domain.events.ProjectEvents import ProjectCreatedEvent\n",
    "from morpheus.common.infrastructure.event_sourcing.EventPublisher import EventPublisher, listen_to\n",
    "\n",
    "\n",
    "class Invalid:\n",
    "  pass\n",
    "\n",
    "\n",
    "class ProjectorInvalid0:\n",
    "  @listen_to(ProjectCreatedEvent)\n",
    "  def on_project_created(self):\n",
    "    print('Created project')\n",
    "\n",
    "\n",
    "class ProjectorInvalid1:\n",
    "  @listen_to(ProjectCreatedEvent)\n",
    "  def on_project_created(self, invalid: ProjectCreatedEvent, metadata: EventMetadata):\n",
    "    print('Created project')\n",
    "\n",
    "\n",
    "class ProjectorInvalid2:\n",
    "  @listen_to(ProjectCreatedEvent)\n",
    "  def on_project_created(self, event: ProjectCreatedEvent, invalid: EventMetadata):\n",
    "    print('Created project')\n",
    "\n",
    "\n",
    "class ProjectorInvalid3:\n",
    "  @listen_to(ProjectCreatedEvent)\n",
    "  def on_project_created(self, event: Invalid, metadata: EventMetadata):\n",
    "    print('Created project')\n",
    "\n",
    "\n",
    "class ProjectorInvalid4:\n",
    "  @listen_to(ProjectCreatedEvent)\n",
    "  def on_project_created(self, event: ProjectCreatedEvent, metadata: Invalid):\n",
    "    print('Created project')\n",
    "\n",
    "\n",
    "event_publisher = EventPublisher()\n",
    "try:\n",
    "  projector = ProjectorInvalid0()\n",
    "  event_publisher.register(projector)\n",
    "except Exception as e:\n",
    "  print(e)\n",
    "\n",
    "try:\n",
    "  projector = ProjectorInvalid1()\n",
    "  event_publisher.register(projector)\n",
    "except Exception as e:\n",
    "  print(e)\n",
    "\n",
    "try:\n",
    "  projector = ProjectorInvalid2()\n",
    "  event_publisher.register(projector)\n",
    "except Exception as e:\n",
    "  print(e)\n",
    "\n",
    "try:\n",
    "  projector = ProjectorInvalid3()\n",
    "  event_publisher.register(projector)\n",
    "except Exception as e:\n",
    "  print(e)\n",
    "\n",
    "try:\n",
    "  projector = ProjectorInvalid4()\n",
    "  event_publisher.register(projector)\n",
    "except Exception as e:\n",
    "  print(e)"
   ],
   "metadata": {
    "collapsed": false,
    "ExecuteTime": {
     "end_time": "2024-04-29T21:20:03.092021Z",
     "start_time": "2024-04-29T21:20:02.139004Z"
    }
   },
   "id": "932b4fe5bd839f2",
   "outputs": [
    {
     "name": "stdout",
     "output_type": "stream",
     "text": [
      "Event listener <bound method ProjectorInvalid0.on_project_created of <__main__.ProjectorInvalid0 object at 0x146c67980>> must have an argument called \"event\" that should by type hinted with a subclass of EventBase\n",
      "Event listener <bound method ProjectorInvalid1.on_project_created of <__main__.ProjectorInvalid1 object at 0x1440d4290>> must have an argument called \"event\" that should by type hinted with a subclass of EventBase\n",
      "Event listener <bound method ProjectorInvalid2.on_project_created of <__main__.ProjectorInvalid2 object at 0x1440d4d40>> must have an argument called \"metadata\" that should by type hinted with a subclass of EventMetadata\n",
      "Event listener <bound method ProjectorInvalid3.on_project_created of <__main__.ProjectorInvalid3 object at 0x1440d4290>> must have an argument called \"event\" that should by type hinted with a subclass of EventBase\n",
      "Event listener <bound method ProjectorInvalid4.on_project_created of <__main__.ProjectorInvalid4 object at 0x1440d4d40>> must have an argument called \"metadata\" that should by type hinted with a subclass of EventMetadata\n"
     ]
    }
   ],
   "execution_count": 1
  },
  {
   "cell_type": "markdown",
   "source": [
    "# Cannot register same listener twice"
   ],
   "metadata": {
    "collapsed": false
   },
   "id": "9d52b120aa989d1f"
  },
  {
   "cell_type": "code",
   "source": [
    "class Projector:\n",
    "  @listen_to(ProjectCreatedEvent)\n",
    "  def on_project_created(self, event: ProjectCreatedEvent, metadata: EventMetadata):\n",
    "    print(f'Created project {event.get_project_id()} with metadata {metadata}')\n",
    "\n",
    "\n",
    "try:\n",
    "  event_publisher = EventPublisher()\n",
    "  projector = Projector()\n",
    "  event_publisher.register(projector)\n",
    "  event_publisher.register(projector)\n",
    "except Exception as e:\n",
    "  print(e)"
   ],
   "metadata": {
    "collapsed": false,
    "ExecuteTime": {
     "end_time": "2024-04-29T21:20:03.096004Z",
     "start_time": "2024-04-29T21:20:03.093114Z"
    }
   },
   "id": "56155ec2f19c768d",
   "outputs": [
    {
     "name": "stdout",
     "output_type": "stream",
     "text": [
      "Event handler already registered\n"
     ]
    }
   ],
   "execution_count": 2
  },
  {
   "cell_type": "markdown",
   "source": [
    "# Create projects"
   ],
   "metadata": {
    "collapsed": false
   },
   "id": "22380477da429c5d"
  },
  {
   "cell_type": "code",
   "source": [
    "from morpheus.project.infrastructure.persistence.ProjectSummaryRepository import project_summary_repository\n",
    "from morpheus.project.infrastructure.event_sourcing.ProjectEventStore import project_event_store\n",
    "from morpheus.project.types.User import UserId\n",
    "from morpheus.project.types.Project import ProjectId, Name, Description, Tags\n",
    "from morpheus.project.application.write.Project import CreateProjectCommand, CreateProjectCommandHandler\n",
    "\n",
    "for i in range(10):\n",
    "  create_project_command = CreateProjectCommand(\n",
    "    project_id=ProjectId.new(),\n",
    "    name=Name.from_str(f'Project {i}'),\n",
    "    description=Description.from_str(f'Description {i}'),\n",
    "    tags=Tags.from_list([f'tag{i}', f'tag{i + 1}']),\n",
    "    user_id=UserId.new()\n",
    "  )\n",
    "  CreateProjectCommandHandler.handle(create_project_command)\n",
    "\n",
    "event_envelopes = project_event_store.get_all_events_ordered_by_version()\n",
    "print(f'Found {len(event_envelopes)} events')\n",
    "for event_envelope in event_envelopes:\n",
    "  print(f'\"{event_envelope.get_event().get_event_name().to_str()}\" occurred at {event_envelope.event.get_occurred_at().to_iso_with_timezone()}')\n",
    "\n",
    "project_summaries = project_summary_repository.find_all()\n",
    "print(f'Found {len(project_summaries)} project summaries')\n",
    "for project_summary in project_summaries:\n",
    "  print(f'Project {project_summary.project_id.to_str()}: {project_summary.project_name.to_str()}')"
   ],
   "metadata": {
    "collapsed": false,
    "ExecuteTime": {
     "end_time": "2024-04-29T21:20:03.736590Z",
     "start_time": "2024-04-29T21:20:03.096698Z"
    }
   },
   "id": "7db50a89dc6391e5",
   "outputs": [
    {
     "name": "stdout",
     "output_type": "stream",
     "text": [
      "Found 10 events\n",
      "\"Project Created\" occurred at 2024-04-29T23:20:03.694018+02:00\n",
      "\"Project Created\" occurred at 2024-04-29T23:20:03.700241+02:00\n",
      "\"Project Created\" occurred at 2024-04-29T23:20:03.703940+02:00\n",
      "\"Project Created\" occurred at 2024-04-29T23:20:03.708601+02:00\n",
      "\"Project Created\" occurred at 2024-04-29T23:20:03.712098+02:00\n",
      "\"Project Created\" occurred at 2024-04-29T23:20:03.716089+02:00\n",
      "\"Project Created\" occurred at 2024-04-29T23:20:03.719572+02:00\n",
      "\"Project Created\" occurred at 2024-04-29T23:20:03.722309+02:00\n",
      "\"Project Created\" occurred at 2024-04-29T23:20:03.725729+02:00\n",
      "\"Project Created\" occurred at 2024-04-29T23:20:03.728553+02:00\n",
      "Found 97 project summaries\n",
      "Project 83195f32-5944-407b-9ff6-1b70888a9d64: Rio Primero\n",
      "Project 8b0eb583-8ef4-4925-8bd5-c2876bb2f821: Rio Primero\n",
      "Project 14fd5e74-6bb0-4c37-acf9-7ea95340dc45: Rio Primero\n",
      "Project 5c8e2cab-4f0d-414a-ae04-5b8770c4d093: Rio Primero\n",
      "Project f672cab7-7de8-4f52-9771-75ec3f3bd17f: Rio Primero\n",
      "Project fc01b724-20c7-47f9-bc77-38e9cd6b5c8f: Project 0\n",
      "Project 6150ef53-da68-48ff-8ba5-d34c365acf8d: Project 1\n",
      "Project 1d7d64a1-f752-490d-b0b1-2f0862458439: Project 2\n",
      "Project 5e12a88c-1d7e-4de4-9fbc-e5c512882e05: Project 3\n",
      "Project bdb79e1f-f326-4df2-a9f6-c20a77a6dc9b: Project 4\n",
      "Project 71f41e97-aeff-4953-a9bd-58b5342e90e2: Project 5\n",
      "Project 80bd1bad-7dd2-4483-b728-7aa5a6b4e742: Project 6\n",
      "Project bbccb0b5-89a2-4f6e-9612-e26643021967: Project 7\n",
      "Project c2482077-b026-472e-a426-9ce61ab7e3a8: Project 8\n",
      "Project 60818f6b-a69d-4e13-8ee9-3fb9aa021508: Project 9\n",
      "Project 6bf12650-19a1-4fa4-828e-98390e574e62: Project 0\n",
      "Project e90f8571-4466-4123-86dc-ecf5418b499f: Project 1\n",
      "Project 130b08ea-18aa-4b2c-84c2-73faf8f88470: Project 2\n",
      "Project a8aed29a-30a8-4cfb-8d6d-8c014edc7811: Project 3\n",
      "Project d03b91ea-1388-4147-ab8e-f05065d11d47: Project 4\n",
      "Project 0209d2a6-349c-4627-8bfd-5e83bff482b4: Project 5\n",
      "Project 86e4c4b2-81bc-42f1-bd30-23dd5f0abeec: Project 6\n",
      "Project c6561ffe-ce4b-4f5d-b400-fc0981138d41: Project 7\n",
      "Project fffba442-04a9-4539-872b-f18703c897b0: Project 8\n",
      "Project cd7d9fe8-58c9-4013-b2c4-2f5c1875b940: Project 9\n",
      "Project e7af1c25-70dc-4cc6-ad8c-dbdda44b30ac: Project 0\n",
      "Project 7848710b-f2e7-4caf-a2c2-95b89e0d5a34: Project 1\n",
      "Project bb63bc4d-f49d-4536-964a-50874f9f5f18: Project 2\n",
      "Project 3d47bc28-7eb9-465a-993c-cec924b8671b: Project 3\n",
      "Project ac8d8af8-90be-4601-9668-56896f733f1f: Project 4\n",
      "Project bcf6802e-2a12-4d5b-b5e0-ba337bf3ce9a: Project 5\n",
      "Project 57353f21-ef9a-44b0-bb5c-88da15e7920f: Project 6\n",
      "Project 94df03ad-2251-4eed-993f-45a7e1c115af: Project 7\n",
      "Project 7839fab1-2887-4c3b-9584-6177b94c8812: Project 8\n",
      "Project 92212fef-d16e-4d13-9a75-24cdd114312b: Project 9\n",
      "Project fe178f36-be18-4842-92c0-47828ad0f1f5: Project 1\n",
      "Project 488f09e1-cb1c-41fb-a10c-1788c3c59ada: Project 1\n",
      "Project e14922c7-539c-409a-9b6a-7cfcb27f6af7: Project 1\n",
      "Project 0e38a7df-5c6f-4fea-901a-e27594c2f447: Project 1\n",
      "Project a7652915-3989-445b-b21b-46033715db22: Rio Primero\n",
      "Project 3b347fca-b781-4a53-9479-1a773bdd20a1: Rio Primero\n",
      "Project f6ccb0e0-7cad-425c-aa00-dc7284c1ab1c: Rio Primero\n",
      "Project 51806e2b-6338-40d9-938d-ba580cc079c7: Rio Primero\n",
      "Project e1864565-c561-4d7b-8306-b52e2f700f18: Rio Primero\n",
      "Project 3dbf29be-6b45-4ac1-b76b-cda3d960a881: Rio Primero\n",
      "Project d28ebc65-a4fd-4262-9f6a-6d17a7ec6cce: Rio Primero\n",
      "Project 9aecd8b8-26f2-43b1-a774-53ab398f4e70: Project 0\n",
      "Project af1419af-bcb0-45e4-afe7-538de5cfe2e9: Project 1\n",
      "Project 7fc9d458-7982-42dd-b85b-d93f92575ab9: Project 2\n",
      "Project 28a8d471-a46e-4e1e-8f14-e94f181a59c8: Project 3\n",
      "Project bec62ef1-186b-4efa-8b4d-61fa9fd3c7d1: Project 4\n",
      "Project ffb0c681-eddb-4aad-b8c2-7f8497aa8303: Project 5\n",
      "Project dca7570e-3810-4527-830b-e00668d303c2: Project 6\n",
      "Project 194eb4c1-0953-4f0e-827c-7e9588a5acc2: Project 7\n",
      "Project fbc98c4f-7ab3-4f25-bf70-e64529a77ffe: Project 8\n",
      "Project a32f2d5a-9cff-4d56-9272-7d02b5ac6a3b: Project 9\n",
      "Project e7ba7550-92c5-4a0a-8f1b-e52daca6f438: Project 1\n",
      "Project 6f5392ce-a8b1-49e3-be2b-4ff3c58864f1: Rio Primero\n",
      "Project 6bb497ec-80a7-4d8e-9cc5-fcd4b05eaeea: Project 1\n",
      "Project 6d03b08b-b03b-4e11-a09c-9a8ac4a7145b: Rio Primero\n",
      "Project 923b0521-0ede-42a6-a1cc-7947aa36aa00: Rio Primero\n",
      "Project c7fc481a-98ad-4f7a-822e-331772214e98: Rio Primero\n",
      "Project 2947ba58-34ba-46bf-bbbf-05fdd8a62477: Rio Primero\n",
      "Project 38814808-82d4-4844-a813-6fbba7e850a1: Rio Primero\n",
      "Project 5f3e5370-c15e-4493-b587-ed88a7542639: Rio Primero\n",
      "Project 6caed425-8ccd-4380-913a-91f2e3627210: Rio Primero\n",
      "Project 524258e6-c93c-4ba6-ac22-695dc88b845f: Rio Primero\n",
      "Project 6dc4e5e6-fbf0-496e-8729-aa7424d3ae16: Rio Primero\n",
      "Project fe8f4e72-3886-4d77-a28a-e23c884a8028: Rio Primero\n",
      "Project d65790e1-6b73-4452-9243-d90a2f5e8aa4: Rio Primero\n",
      "Project dbb6e5c8-d96c-444f-b51f-196c68f52a6b: Rio Primero\n",
      "Project de5e2199-ffd0-4bd0-b820-3c123f6fcb17: Rio Primero\n",
      "Project 9b6e5074-0524-4ec0-b2be-8e809c9fe647: Rio Primero\n",
      "Project b16cfb05-a485-4335-870a-82698306fd40: Rio Primero\n",
      "Project 6f5967bd-f2e4-4558-afcd-738bc2b9fb59: Rio Primero 123\n",
      "Project 3bf0445b-1a5c-4063-bfb7-9a9f21ee020c: Weixdorf\n",
      "Project e8192089-f1cf-499b-b710-7d3034ce2af0: Rio Primero\n",
      "Project 15434978-dab4-43f4-82a7-53ab053a88f4: Project 0\n",
      "Project 6464a813-440c-4c82-a18c-9e23067142d9: Project 1\n",
      "Project b18abce8-3a55-43fe-a6a3-399e3e9d5941: Project 2\n",
      "Project f33f94c3-8e7f-4f4f-b96a-0104408dd816: Project 3\n",
      "Project fb94b382-372c-4141-a989-e89d84b01cab: Project 4\n",
      "Project f829530a-9b01-4e36-8f36-ba51a4f486a6: Project 5\n",
      "Project fa2d2bbc-50a4-486a-a960-02daf1265bbc: Project 6\n",
      "Project 2aae3551-1d6c-4b22-8538-7ad2ba4bf3d4: Project 7\n",
      "Project 0b0f3168-018e-4bbd-9ccb-549cb52176a4: Project 8\n",
      "Project 3b264b84-898a-4c99-a4ef-0e90e0c7f886: Project 9\n",
      "Project efaf8ec3-cebe-4084-9109-2a0f1f345a57: Project 0\n",
      "Project 0803f4c3-e105-4618-bc00-05f2c5f266ae: Project 1\n",
      "Project aa78c64e-b559-4c25-8a94-ea00770a2a6a: Project 2\n",
      "Project d1b9316a-7595-4959-8e74-98a145e5d919: Project 3\n",
      "Project 21590a2b-4765-4069-bb24-50fe4adbe2eb: Project 4\n",
      "Project 7aa7e9ba-52a2-4ab7-ae47-d463fe58ceec: Project 5\n",
      "Project d79ca0d8-1c80-4128-adf1-0ec725f8b007: Project 6\n",
      "Project dd2f368c-b5d7-4f2c-bca1-3be59c001222: Project 7\n",
      "Project df4d51b4-854e-44e0-9907-033f7d87369e: Project 8\n",
      "Project 0e7e33a1-6d64-4341-a7cf-25330af0426f: Project 9\n"
     ]
    }
   ],
   "execution_count": 3
  },
  {
   "cell_type": "markdown",
   "source": [
    "# Reproject project summaries"
   ],
   "metadata": {
    "collapsed": false
   },
   "id": "cde69ee770d30fc1"
  },
  {
   "cell_type": "code",
   "source": [
    "from morpheus.project.presentation.cli.ProjectionCliCommands import ReprojectProjectSummariesCliCommand\n",
    "\n",
    "ReprojectProjectSummariesCliCommand.run()"
   ],
   "metadata": {
    "collapsed": false,
    "ExecuteTime": {
     "end_time": "2024-04-29T21:20:03.771991Z",
     "start_time": "2024-04-29T21:20:03.737519Z"
    }
   },
   "id": "d2717a59e00a53d1",
   "outputs": [
    {
     "name": "stdout",
     "output_type": "stream",
     "text": [
      "\u001B[1mReprojecting project summaries\u001B[0m\n",
      "\u001B[1m------------------------------\u001B[0m\n",
      "\u001B[0m\n",
      "Found 10 events\u001B[0m\n",
      "Reset projection\u001B[0m\n",
      "\u001B[32mSuccessfully reprojected project summaries\u001B[0m\n"
     ]
    }
   ],
   "execution_count": 4
  },
  {
   "cell_type": "code",
   "source": [
    "project_summaries = project_summary_repository.find_all()\n",
    "print(f'Found {len(project_summaries)} project summaries')\n",
    "for project_summary in project_summaries:\n",
    "  print(f'Project {project_summary.project_id.to_str()}: {project_summary.project_name.to_str()}')"
   ],
   "metadata": {
    "collapsed": false,
    "ExecuteTime": {
     "end_time": "2024-04-29T21:20:03.778451Z",
     "start_time": "2024-04-29T21:20:03.774184Z"
    }
   },
   "id": "63d49a5f72c7f9c2",
   "outputs": [
    {
     "name": "stdout",
     "output_type": "stream",
     "text": [
      "Found 10 project summaries\n",
      "Project efaf8ec3-cebe-4084-9109-2a0f1f345a57: Project 0\n",
      "Project 0803f4c3-e105-4618-bc00-05f2c5f266ae: Project 1\n",
      "Project aa78c64e-b559-4c25-8a94-ea00770a2a6a: Project 2\n",
      "Project d1b9316a-7595-4959-8e74-98a145e5d919: Project 3\n",
      "Project 21590a2b-4765-4069-bb24-50fe4adbe2eb: Project 4\n",
      "Project 7aa7e9ba-52a2-4ab7-ae47-d463fe58ceec: Project 5\n",
      "Project d79ca0d8-1c80-4128-adf1-0ec725f8b007: Project 6\n",
      "Project dd2f368c-b5d7-4f2c-bca1-3be59c001222: Project 7\n",
      "Project df4d51b4-854e-44e0-9907-033f7d87369e: Project 8\n",
      "Project 0e7e33a1-6d64-4341-a7cf-25330af0426f: Project 9\n"
     ]
    }
   ],
   "execution_count": 5
  }
 ],
 "metadata": {
  "kernelspec": {
   "display_name": "Python 3",
   "language": "python",
   "name": "python3"
  },
  "language_info": {
   "codemirror_mode": {
    "name": "ipython",
    "version": 2
   },
   "file_extension": ".py",
   "mimetype": "text/x-python",
   "name": "python",
   "nbconvert_exporter": "python",
   "pygments_lexer": "ipython2",
   "version": "2.7.6"
  }
 },
 "nbformat": 4,
 "nbformat_minor": 5
}
