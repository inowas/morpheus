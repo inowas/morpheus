{
 "cells": [
  {
   "cell_type": "markdown",
   "source": [
    "# Listeners must have arguments \"event\" and \"metadata\" with proper types"
   ],
   "metadata": {
    "collapsed": false
   },
   "id": "740a87482c1f1624"
  },
  {
   "cell_type": "code",
   "outputs": [
    {
     "name": "stdout",
     "output_type": "stream",
     "text": [
      "Event listener <bound method ProjectorInvalid0.on_project_created of <__main__.ProjectorInvalid0 object at 0x138835b80>> must have an argument called \"event\" that should by type hinted with a subclass of EventBase\n",
      "Event listener <bound method ProjectorInvalid1.on_project_created of <__main__.ProjectorInvalid1 object at 0x1395f2750>> must have an argument called \"event\" that should by type hinted with a subclass of EventBase\n",
      "Event listener <bound method ProjectorInvalid2.on_project_created of <__main__.ProjectorInvalid2 object at 0x138835b80>> must have an argument called \"metadata\" that should by type hinted with a subclass of EventMetadata\n",
      "Event listener <bound method ProjectorInvalid3.on_project_created of <__main__.ProjectorInvalid3 object at 0x11f715c70>> must have an argument called \"event\" that should by type hinted with a subclass of EventBase\n",
      "Event listener <bound method ProjectorInvalid4.on_project_created of <__main__.ProjectorInvalid4 object at 0x138835b80>> must have an argument called \"metadata\" that should by type hinted with a subclass of EventMetadata\n"
     ]
    }
   ],
   "source": [
    "from morpheus.common.types.event_sourcing.EventMetadata import EventMetadata\n",
    "from morpheus.project.domain.events.ProjectEvents import ProjectCreatedEvent\n",
    "from morpheus.common.infrastructure.event_sourcing.EventPublisher import EventPublisher, listen_to\n",
    "\n",
    "\n",
    "class Invalid:\n",
    "  pass\n",
    "\n",
    "\n",
    "class ProjectorInvalid0:\n",
    "  @listen_to(ProjectCreatedEvent)\n",
    "  def on_project_created(self):\n",
    "    print('Created project')\n",
    "\n",
    "\n",
    "class ProjectorInvalid1:\n",
    "  @listen_to(ProjectCreatedEvent)\n",
    "  def on_project_created(self, invalid: ProjectCreatedEvent, metadata: EventMetadata):\n",
    "    print('Created project')\n",
    "\n",
    "\n",
    "class ProjectorInvalid2:\n",
    "  @listen_to(ProjectCreatedEvent)\n",
    "  def on_project_created(self, event: ProjectCreatedEvent, invalid: EventMetadata):\n",
    "    print('Created project')\n",
    "\n",
    "\n",
    "class ProjectorInvalid3:\n",
    "  @listen_to(ProjectCreatedEvent)\n",
    "  def on_project_created(self, event: Invalid, metadata: EventMetadata):\n",
    "    print('Created project')\n",
    "\n",
    "\n",
    "class ProjectorInvalid4:\n",
    "  @listen_to(ProjectCreatedEvent)\n",
    "  def on_project_created(self, event: ProjectCreatedEvent, metadata: Invalid):\n",
    "    print('Created project')\n",
    "\n",
    "\n",
    "event_publisher = EventPublisher()\n",
    "try:\n",
    "  projector = ProjectorInvalid0()\n",
    "  event_publisher.register(projector)\n",
    "except Exception as e:\n",
    "  print(e)\n",
    "\n",
    "try:\n",
    "  projector = ProjectorInvalid1()\n",
    "  event_publisher.register(projector)\n",
    "except Exception as e:\n",
    "  print(e)\n",
    "\n",
    "try:\n",
    "  projector = ProjectorInvalid2()\n",
    "  event_publisher.register(projector)\n",
    "except Exception as e:\n",
    "  print(e)\n",
    "\n",
    "try:\n",
    "  projector = ProjectorInvalid3()\n",
    "  event_publisher.register(projector)\n",
    "except Exception as e:\n",
    "  print(e)\n",
    "\n",
    "try:\n",
    "  projector = ProjectorInvalid4()\n",
    "  event_publisher.register(projector)\n",
    "except Exception as e:\n",
    "  print(e)"
   ],
   "metadata": {
    "collapsed": false,
    "ExecuteTime": {
     "end_time": "2024-01-29T12:08:46.479685Z",
     "start_time": "2024-01-29T12:08:45.408455Z"
    }
   },
   "id": "932b4fe5bd839f2",
   "execution_count": 1
  },
  {
   "cell_type": "markdown",
   "source": [
    "# Cannot register same listener twice"
   ],
   "metadata": {
    "collapsed": false
   },
   "id": "9d52b120aa989d1f"
  },
  {
   "cell_type": "code",
   "outputs": [
    {
     "name": "stdout",
     "output_type": "stream",
     "text": [
      "Event handler already registered\n"
     ]
    }
   ],
   "source": [
    "class Projector:\n",
    "  @listen_to(ProjectCreatedEvent)\n",
    "  def on_project_created(self, event: ProjectCreatedEvent, metadata: EventMetadata):\n",
    "    print(f'Created project {event.get_project_id()} with metadata {metadata}')\n",
    "\n",
    "\n",
    "try:\n",
    "  event_publisher = EventPublisher()\n",
    "  projector = Projector()\n",
    "  event_publisher.register(projector)\n",
    "  event_publisher.register(projector)\n",
    "except Exception as e:\n",
    "  print(e)"
   ],
   "metadata": {
    "collapsed": false,
    "ExecuteTime": {
     "end_time": "2024-01-29T12:08:46.483213Z",
     "start_time": "2024-01-29T12:08:46.480439Z"
    }
   },
   "id": "56155ec2f19c768d",
   "execution_count": 2
  },
  {
   "cell_type": "markdown",
   "source": [
    "# Create projects"
   ],
   "metadata": {
    "collapsed": false
   },
   "id": "22380477da429c5d"
  },
  {
   "cell_type": "code",
   "execution_count": 3,
   "outputs": [
    {
     "name": "stdout",
     "output_type": "stream",
     "text": [
      "Found 30 events\n",
      "\"Project Created\" occurred at 2024-01-29T13:06:11.760378+01:00\n",
      "\"Project Created\" occurred at 2024-01-29T13:06:11.774077+01:00\n",
      "\"Project Created\" occurred at 2024-01-29T13:06:11.781184+01:00\n",
      "\"Project Created\" occurred at 2024-01-29T13:06:11.786952+01:00\n",
      "\"Project Created\" occurred at 2024-01-29T13:06:11.792690+01:00\n",
      "\"Project Created\" occurred at 2024-01-29T13:06:11.796189+01:00\n",
      "\"Project Created\" occurred at 2024-01-29T13:06:11.799626+01:00\n",
      "\"Project Created\" occurred at 2024-01-29T13:06:11.802020+01:00\n",
      "\"Project Created\" occurred at 2024-01-29T13:06:11.804287+01:00\n",
      "\"Project Created\" occurred at 2024-01-29T13:06:11.806481+01:00\n",
      "\"Project Created\" occurred at 2024-01-29T13:07:45.317987+01:00\n",
      "\"Project Created\" occurred at 2024-01-29T13:07:45.338184+01:00\n",
      "\"Project Created\" occurred at 2024-01-29T13:07:45.345359+01:00\n",
      "\"Project Created\" occurred at 2024-01-29T13:07:45.351762+01:00\n",
      "\"Project Created\" occurred at 2024-01-29T13:07:45.371312+01:00\n",
      "\"Project Created\" occurred at 2024-01-29T13:07:45.377873+01:00\n",
      "\"Project Created\" occurred at 2024-01-29T13:07:45.384109+01:00\n",
      "\"Project Created\" occurred at 2024-01-29T13:07:45.389687+01:00\n",
      "\"Project Created\" occurred at 2024-01-29T13:07:45.394098+01:00\n",
      "\"Project Created\" occurred at 2024-01-29T13:07:45.398614+01:00\n",
      "\"Project Created\" occurred at 2024-01-29T13:08:46.901086+01:00\n",
      "\"Project Created\" occurred at 2024-01-29T13:08:46.909200+01:00\n",
      "\"Project Created\" occurred at 2024-01-29T13:08:46.912117+01:00\n",
      "\"Project Created\" occurred at 2024-01-29T13:08:46.915049+01:00\n",
      "\"Project Created\" occurred at 2024-01-29T13:08:46.918146+01:00\n",
      "\"Project Created\" occurred at 2024-01-29T13:08:46.923413+01:00\n",
      "\"Project Created\" occurred at 2024-01-29T13:08:46.927424+01:00\n",
      "\"Project Created\" occurred at 2024-01-29T13:08:46.930025+01:00\n",
      "\"Project Created\" occurred at 2024-01-29T13:08:46.932632+01:00\n",
      "\"Project Created\" occurred at 2024-01-29T13:08:46.936056+01:00\n",
      "Found 30 project summaries\n",
      "Project 6c8f560b-c153-403b-abda-f184fc8fde59: Project 0\n",
      "Project 8707ffbf-ae97-4a71-bd8a-156f02c4caa3: Project 1\n",
      "Project 12c0fa21-9254-462d-a764-b45662a597f2: Project 2\n",
      "Project 325fd08f-29ad-409f-a249-e13897f72291: Project 3\n",
      "Project 7b077c3e-2cbd-494f-bd12-28a9d9ac69f3: Project 4\n",
      "Project 92d7f6b1-a67f-42d7-b686-a0ac90ef1eb0: Project 5\n",
      "Project 40576811-ba44-491d-ba5a-d00548db0562: Project 6\n",
      "Project 12dbdd18-1886-4015-a751-ce5af212a057: Project 7\n",
      "Project e777f60a-9d3d-4546-8942-355c40b36114: Project 8\n",
      "Project bcc9a6d4-36e3-4bbf-93fa-31435a4859c7: Project 9\n",
      "Project ac232765-8aa4-4573-8bb5-be2d0f0de4a3: Project 0\n",
      "Project 2076ba05-2586-4d73-897d-08ddffdb5c5e: Project 1\n",
      "Project 7a1b6876-7edb-4047-aa61-7ef97b65e777: Project 2\n",
      "Project 20d677a0-812e-474c-b53e-0e544715cb55: Project 3\n",
      "Project a6fc8c24-9b84-4df2-8a63-921fd5b09c37: Project 4\n",
      "Project 147bf39e-89be-4b61-8914-1fe02585107e: Project 5\n",
      "Project 870909ef-beff-48ae-b1f4-0da5ead56a59: Project 6\n",
      "Project a8421f6c-f9ce-44e1-9028-4efa0a826834: Project 7\n",
      "Project a098aebc-c91c-4aea-bb1c-6ac05ccbb5d2: Project 8\n",
      "Project 8eedf497-f0ba-411d-8b87-feeb8f5048ee: Project 9\n",
      "Project f4b098dc-e3ba-4111-9ef0-da5cddfe2f42: Project 0\n",
      "Project 287d2c07-9d1a-40a7-b4fe-bf052173f851: Project 1\n",
      "Project 64dc70ec-bbbb-44cd-8ec3-02a0a93439d3: Project 2\n",
      "Project 1bd359b9-6196-4ce1-aa95-1f1a48f72e52: Project 3\n",
      "Project 9c440b91-c946-46c5-9cf3-d18f7fa66eb7: Project 4\n",
      "Project 4bbb6609-c2cd-46de-b4a1-835d8e332eac: Project 5\n",
      "Project 6249769f-5e3b-4268-b5b9-1a7d00a5ddcf: Project 6\n",
      "Project f4b215b1-caab-4489-9558-03273b478206: Project 7\n",
      "Project a22b9fce-7332-4ea6-96f5-c2302ed1fe42: Project 8\n",
      "Project 7ccd4126-56e2-4e52-93e3-17e1284d2fbd: Project 9\n"
     ]
    }
   ],
   "source": [
    "from morpheus.project.infrastructure.persistence.ProjectSummaryRepository import project_summary_repository\n",
    "from morpheus.project.infrastructure.event_sourcing.ProjectEventStore import project_event_store\n",
    "from morpheus.project.types.User import UserId\n",
    "from morpheus.project.types.Project import ProjectId, Name, Description, Tags\n",
    "from morpheus.project.application.write.ProjectCommandHandlers import CreateProjectCommand, CreateProjectCommandHandler\n",
    "\n",
    "for i in range(10):\n",
    "  create_project_command = CreateProjectCommand(\n",
    "    project_id=ProjectId.new(),\n",
    "    name=Name.from_str(f'Project {i}'),\n",
    "    description=Description.from_str(f'Description {i}'),\n",
    "    tags=Tags.from_list([f'tag{i}', f'tag{i + 1}']),\n",
    "    created_by=UserId.new()\n",
    "  )\n",
    "  CreateProjectCommandHandler.handle(create_project_command)\n",
    "\n",
    "event_envelopes = project_event_store.get_all_events_ordered_by_version()\n",
    "print(f'Found {len(event_envelopes)} events')\n",
    "for event_envelope in event_envelopes:\n",
    "  print(f'\"{event_envelope.get_event().get_event_name().to_str()}\" occurred at {event_envelope.event.get_occurred_at().to_iso_with_timezone()}')\n",
    "\n",
    "project_summaries = project_summary_repository.find_all()\n",
    "print(f'Found {len(project_summaries)} project summaries')\n",
    "for project_summary in project_summaries:\n",
    "  print(f'Project {project_summary.project_id.to_str()}: {project_summary.project_name.to_str()}')"
   ],
   "metadata": {
    "collapsed": false,
    "ExecuteTime": {
     "end_time": "2024-01-29T12:08:46.948318Z",
     "start_time": "2024-01-29T12:08:46.482326Z"
    }
   },
   "id": "7db50a89dc6391e5"
  },
  {
   "cell_type": "markdown",
   "source": [
    "# Reproject project summaries"
   ],
   "metadata": {
    "collapsed": false
   },
   "id": "cde69ee770d30fc1"
  },
  {
   "cell_type": "code",
   "outputs": [
    {
     "name": "stdout",
     "output_type": "stream",
     "text": [
      "\u001B[1mReprojecting project summaries\u001B[0m\n",
      "\u001B[1m------------------------------\u001B[0m\n",
      "\u001B[0m\n",
      "Found 30 events\u001B[0m\n",
      "Reset projector\u001B[0m\n",
      "\u001B[32mSuccessfully reprojected project summaries\u001B[0m\n"
     ]
    }
   ],
   "source": [
    "from morpheus.project.presentation.cli.ProjectionCliCommands import ReprojectProjectSummariesCliCommand\n",
    "\n",
    "ReprojectProjectSummariesCliCommand.run()"
   ],
   "metadata": {
    "collapsed": false,
    "ExecuteTime": {
     "end_time": "2024-01-29T12:08:47.060614Z",
     "start_time": "2024-01-29T12:08:46.947006Z"
    }
   },
   "id": "d2717a59e00a53d1",
   "execution_count": 4
  },
  {
   "cell_type": "code",
   "outputs": [
    {
     "name": "stdout",
     "output_type": "stream",
     "text": [
      "Found 30 project summaries\n",
      "Project 6c8f560b-c153-403b-abda-f184fc8fde59: Project 0\n",
      "Project 8707ffbf-ae97-4a71-bd8a-156f02c4caa3: Project 1\n",
      "Project 12c0fa21-9254-462d-a764-b45662a597f2: Project 2\n",
      "Project 325fd08f-29ad-409f-a249-e13897f72291: Project 3\n",
      "Project 7b077c3e-2cbd-494f-bd12-28a9d9ac69f3: Project 4\n",
      "Project 92d7f6b1-a67f-42d7-b686-a0ac90ef1eb0: Project 5\n",
      "Project 40576811-ba44-491d-ba5a-d00548db0562: Project 6\n",
      "Project 12dbdd18-1886-4015-a751-ce5af212a057: Project 7\n",
      "Project e777f60a-9d3d-4546-8942-355c40b36114: Project 8\n",
      "Project bcc9a6d4-36e3-4bbf-93fa-31435a4859c7: Project 9\n",
      "Project ac232765-8aa4-4573-8bb5-be2d0f0de4a3: Project 0\n",
      "Project 2076ba05-2586-4d73-897d-08ddffdb5c5e: Project 1\n",
      "Project 7a1b6876-7edb-4047-aa61-7ef97b65e777: Project 2\n",
      "Project 20d677a0-812e-474c-b53e-0e544715cb55: Project 3\n",
      "Project a6fc8c24-9b84-4df2-8a63-921fd5b09c37: Project 4\n",
      "Project 147bf39e-89be-4b61-8914-1fe02585107e: Project 5\n",
      "Project 870909ef-beff-48ae-b1f4-0da5ead56a59: Project 6\n",
      "Project a8421f6c-f9ce-44e1-9028-4efa0a826834: Project 7\n",
      "Project a098aebc-c91c-4aea-bb1c-6ac05ccbb5d2: Project 8\n",
      "Project 8eedf497-f0ba-411d-8b87-feeb8f5048ee: Project 9\n",
      "Project f4b098dc-e3ba-4111-9ef0-da5cddfe2f42: Project 0\n",
      "Project 287d2c07-9d1a-40a7-b4fe-bf052173f851: Project 1\n",
      "Project 64dc70ec-bbbb-44cd-8ec3-02a0a93439d3: Project 2\n",
      "Project 1bd359b9-6196-4ce1-aa95-1f1a48f72e52: Project 3\n",
      "Project 9c440b91-c946-46c5-9cf3-d18f7fa66eb7: Project 4\n",
      "Project 4bbb6609-c2cd-46de-b4a1-835d8e332eac: Project 5\n",
      "Project 6249769f-5e3b-4268-b5b9-1a7d00a5ddcf: Project 6\n",
      "Project f4b215b1-caab-4489-9558-03273b478206: Project 7\n",
      "Project a22b9fce-7332-4ea6-96f5-c2302ed1fe42: Project 8\n",
      "Project 7ccd4126-56e2-4e52-93e3-17e1284d2fbd: Project 9\n"
     ]
    }
   ],
   "source": [
    "project_summaries = project_summary_repository.find_all()\n",
    "print(f'Found {len(project_summaries)} project summaries')\n",
    "for project_summary in project_summaries:\n",
    "  print(f'Project {project_summary.project_id.to_str()}: {project_summary.project_name.to_str()}')"
   ],
   "metadata": {
    "collapsed": false,
    "ExecuteTime": {
     "end_time": "2024-01-29T12:08:47.075095Z",
     "start_time": "2024-01-29T12:08:47.064339Z"
    }
   },
   "id": "63d49a5f72c7f9c2",
   "execution_count": 5
  },
  {
   "cell_type": "code",
   "outputs": [],
   "source": [],
   "metadata": {
    "collapsed": false,
    "ExecuteTime": {
     "end_time": "2024-01-29T12:08:47.075436Z",
     "start_time": "2024-01-29T12:08:47.072137Z"
    }
   },
   "id": "f054092d2ca6f17",
   "execution_count": 5
  }
 ],
 "metadata": {
  "kernelspec": {
   "display_name": "Python 3",
   "language": "python",
   "name": "python3"
  },
  "language_info": {
   "codemirror_mode": {
    "name": "ipython",
    "version": 2
   },
   "file_extension": ".py",
   "mimetype": "text/x-python",
   "name": "python",
   "nbconvert_exporter": "python",
   "pygments_lexer": "ipython2",
   "version": "2.7.6"
  }
 },
 "nbformat": 4,
 "nbformat_minor": 5
}
