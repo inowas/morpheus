{
 "cells": [
  {
   "cell_type": "markdown",
   "source": [
    "# Listeners must have arguments \"event\" and \"metadata\" with proper types"
   ],
   "metadata": {
    "collapsed": false
   },
   "id": "740a87482c1f1624"
  },
  {
   "cell_type": "code",
   "outputs": [
    {
     "name": "stdout",
     "output_type": "stream",
     "text": [
      "Event listener <bound method ProjectorInvalid0.on_project_created of <__main__.ProjectorInvalid0 object at 0x1379aeff0>> must have an argument called \"event\" that should by type hinted with a subclass of EventBase\n",
      "Event listener <bound method ProjectorInvalid1.on_project_created of <__main__.ProjectorInvalid1 object at 0x137a21490>> must have an argument called \"event\" that should by type hinted with a subclass of EventBase\n",
      "Event listener <bound method ProjectorInvalid2.on_project_created of <__main__.ProjectorInvalid2 object at 0x1379aeff0>> must have an argument called \"metadata\" that should by type hinted with a subclass of EventMetadata\n",
      "Event listener <bound method ProjectorInvalid3.on_project_created of <__main__.ProjectorInvalid3 object at 0x137a21490>> must have an argument called \"event\" that should by type hinted with a subclass of EventBase\n",
      "Event listener <bound method ProjectorInvalid4.on_project_created of <__main__.ProjectorInvalid4 object at 0x1379aeff0>> must have an argument called \"metadata\" that should by type hinted with a subclass of EventMetadata\n"
     ]
    }
   ],
   "source": [
    "from morpheus.common.types.event_sourcing.EventMetadata import EventMetadata\n",
    "from morpheus.project.domain.events.ProjectEvents import ProjectCreatedEvent\n",
    "from morpheus.common.infrastructure.event_sourcing.EventPublisher import EventPublisher, listen_to\n",
    "\n",
    "\n",
    "class Invalid:\n",
    "  pass\n",
    "\n",
    "\n",
    "class ProjectorInvalid0:\n",
    "  @listen_to(ProjectCreatedEvent)\n",
    "  def on_project_created(self):\n",
    "    print('Created project')\n",
    "\n",
    "\n",
    "class ProjectorInvalid1:\n",
    "  @listen_to(ProjectCreatedEvent)\n",
    "  def on_project_created(self, invalid: ProjectCreatedEvent, metadata: EventMetadata):\n",
    "    print('Created project')\n",
    "\n",
    "\n",
    "class ProjectorInvalid2:\n",
    "  @listen_to(ProjectCreatedEvent)\n",
    "  def on_project_created(self, event: ProjectCreatedEvent, invalid: EventMetadata):\n",
    "    print('Created project')\n",
    "\n",
    "\n",
    "class ProjectorInvalid3:\n",
    "  @listen_to(ProjectCreatedEvent)\n",
    "  def on_project_created(self, event: Invalid, metadata: EventMetadata):\n",
    "    print('Created project')\n",
    "\n",
    "\n",
    "class ProjectorInvalid4:\n",
    "  @listen_to(ProjectCreatedEvent)\n",
    "  def on_project_created(self, event: ProjectCreatedEvent, metadata: Invalid):\n",
    "    print('Created project')\n",
    "\n",
    "\n",
    "event_publisher = EventPublisher()\n",
    "try:\n",
    "  projector = ProjectorInvalid0()\n",
    "  event_publisher.register(projector)\n",
    "except Exception as e:\n",
    "  print(e)\n",
    "\n",
    "try:\n",
    "  projector = ProjectorInvalid1()\n",
    "  event_publisher.register(projector)\n",
    "except Exception as e:\n",
    "  print(e)\n",
    "\n",
    "try:\n",
    "  projector = ProjectorInvalid2()\n",
    "  event_publisher.register(projector)\n",
    "except Exception as e:\n",
    "  print(e)\n",
    "\n",
    "try:\n",
    "  projector = ProjectorInvalid3()\n",
    "  event_publisher.register(projector)\n",
    "except Exception as e:\n",
    "  print(e)\n",
    "\n",
    "try:\n",
    "  projector = ProjectorInvalid4()\n",
    "  event_publisher.register(projector)\n",
    "except Exception as e:\n",
    "  print(e)"
   ],
   "metadata": {
    "collapsed": false,
    "ExecuteTime": {
     "end_time": "2024-03-21T20:19:31.590200Z",
     "start_time": "2024-03-21T20:19:30.543716Z"
    }
   },
   "id": "932b4fe5bd839f2",
   "execution_count": 1
  },
  {
   "cell_type": "markdown",
   "source": [
    "# Cannot register same listener twice"
   ],
   "metadata": {
    "collapsed": false
   },
   "id": "9d52b120aa989d1f"
  },
  {
   "cell_type": "code",
   "outputs": [
    {
     "name": "stdout",
     "output_type": "stream",
     "text": [
      "Event handler already registered\n"
     ]
    }
   ],
   "source": [
    "class Projector:\n",
    "  @listen_to(ProjectCreatedEvent)\n",
    "  def on_project_created(self, event: ProjectCreatedEvent, metadata: EventMetadata):\n",
    "    print(f'Created project {event.get_project_id()} with metadata {metadata}')\n",
    "\n",
    "\n",
    "try:\n",
    "  event_publisher = EventPublisher()\n",
    "  projector = Projector()\n",
    "  event_publisher.register(projector)\n",
    "  event_publisher.register(projector)\n",
    "except Exception as e:\n",
    "  print(e)"
   ],
   "metadata": {
    "collapsed": false,
    "ExecuteTime": {
     "end_time": "2024-03-21T20:19:31.593912Z",
     "start_time": "2024-03-21T20:19:31.591328Z"
    }
   },
   "id": "56155ec2f19c768d",
   "execution_count": 2
  },
  {
   "cell_type": "markdown",
   "source": [
    "# Create projects"
   ],
   "metadata": {
    "collapsed": false
   },
   "id": "22380477da429c5d"
  },
  {
   "cell_type": "code",
   "execution_count": 3,
   "outputs": [
    {
     "name": "stdout",
     "output_type": "stream",
     "text": [
      "Found 10 events\n",
      "\"Project Created\" occurred at 2024-03-21T21:19:32.151659+01:00\n",
      "\"Project Created\" occurred at 2024-03-21T21:19:32.167225+01:00\n",
      "\"Project Created\" occurred at 2024-03-21T21:19:32.170740+01:00\n",
      "\"Project Created\" occurred at 2024-03-21T21:19:32.174530+01:00\n",
      "\"Project Created\" occurred at 2024-03-21T21:19:32.180303+01:00\n",
      "\"Project Created\" occurred at 2024-03-21T21:19:32.188147+01:00\n",
      "\"Project Created\" occurred at 2024-03-21T21:19:32.195263+01:00\n",
      "\"Project Created\" occurred at 2024-03-21T21:19:32.198633+01:00\n",
      "\"Project Created\" occurred at 2024-03-21T21:19:32.201547+01:00\n",
      "\"Project Created\" occurred at 2024-03-21T21:19:32.205303+01:00\n",
      "Found 10 project summaries\n",
      "Project ab8387c0-aa3d-4628-a8c9-668340243295: Project 0\n",
      "Project e7866ffe-bda5-49bc-b4ba-167a6f405961: Project 1\n",
      "Project bbe8639e-71bb-4f63-9e07-770614315748: Project 2\n",
      "Project 3bb1c7f8-9543-4d9b-b94d-6e34a6e4edf2: Project 3\n",
      "Project 41183b3c-7dd6-4985-92bf-e7b4664fbf85: Project 4\n",
      "Project b61d9b61-9942-45d4-a600-c2ace6a5e257: Project 5\n",
      "Project 3be28fe7-7937-4e12-aa39-49c5557540f4: Project 6\n",
      "Project ac40eb43-c9d2-46fd-8bf4-37d8fc837869: Project 7\n",
      "Project 01cc2722-2a3e-4445-a9b1-a6f274c51c4b: Project 8\n",
      "Project 3d7241b0-b396-43a9-966d-3baf40cad1fd: Project 9\n"
     ]
    }
   ],
   "source": [
    "from morpheus.project.infrastructure.persistence.ProjectSummaryRepository import project_summary_repository\n",
    "from morpheus.project.infrastructure.event_sourcing.ProjectEventStore import project_event_store\n",
    "from morpheus.project.types.User import UserId\n",
    "from morpheus.project.types.Project import ProjectId, Name, Description, Tags\n",
    "from morpheus.project.application.write.ProjectCommandHandlers import CreateProjectCommand, CreateProjectCommandHandler\n",
    "\n",
    "for i in range(10):\n",
    "  create_project_command = CreateProjectCommand(\n",
    "    project_id=ProjectId.new(),\n",
    "    name=Name.from_str(f'Project {i}'),\n",
    "    description=Description.from_str(f'Description {i}'),\n",
    "    tags=Tags.from_list([f'tag{i}', f'tag{i + 1}']),\n",
    "    created_by=UserId.new()\n",
    "  )\n",
    "  CreateProjectCommandHandler.handle(create_project_command)\n",
    "\n",
    "event_envelopes = project_event_store.get_all_events_ordered_by_version()\n",
    "print(f'Found {len(event_envelopes)} events')\n",
    "for event_envelope in event_envelopes:\n",
    "  print(f'\"{event_envelope.get_event().get_event_name().to_str()}\" occurred at {event_envelope.event.get_occurred_at().to_iso_with_timezone()}')\n",
    "\n",
    "project_summaries = project_summary_repository.find_all()\n",
    "print(f'Found {len(project_summaries)} project summaries')\n",
    "for project_summary in project_summaries:\n",
    "  print(f'Project {project_summary.project_id.to_str()}: {project_summary.project_name.to_str()}')"
   ],
   "metadata": {
    "collapsed": false,
    "ExecuteTime": {
     "end_time": "2024-03-21T20:19:32.216663Z",
     "start_time": "2024-03-21T20:19:31.594719Z"
    }
   },
   "id": "7db50a89dc6391e5"
  },
  {
   "cell_type": "markdown",
   "source": [
    "# Reproject project summaries"
   ],
   "metadata": {
    "collapsed": false
   },
   "id": "cde69ee770d30fc1"
  },
  {
   "cell_type": "code",
   "outputs": [
    {
     "name": "stdout",
     "output_type": "stream",
     "text": [
      "\u001B[1mReprojecting project summaries\u001B[0m\n",
      "\u001B[1m------------------------------\u001B[0m\n",
      "\u001B[0m\n",
      "Found 10 events\u001B[0m\n",
      "Reset projector\u001B[0m\n",
      "\u001B[32mSuccessfully reprojected project summaries\u001B[0m\n"
     ]
    }
   ],
   "source": [
    "from morpheus.project.presentation.cli.ProjectionCliCommands import ReprojectProjectSummariesCliCommand\n",
    "\n",
    "ReprojectProjectSummariesCliCommand.run()"
   ],
   "metadata": {
    "collapsed": false,
    "ExecuteTime": {
     "end_time": "2024-03-21T20:19:32.265010Z",
     "start_time": "2024-03-21T20:19:32.218556Z"
    }
   },
   "id": "d2717a59e00a53d1",
   "execution_count": 4
  },
  {
   "cell_type": "code",
   "outputs": [
    {
     "name": "stdout",
     "output_type": "stream",
     "text": [
      "Found 10 project summaries\n",
      "Project ab8387c0-aa3d-4628-a8c9-668340243295: Project 0\n",
      "Project e7866ffe-bda5-49bc-b4ba-167a6f405961: Project 1\n",
      "Project bbe8639e-71bb-4f63-9e07-770614315748: Project 2\n",
      "Project 3bb1c7f8-9543-4d9b-b94d-6e34a6e4edf2: Project 3\n",
      "Project 41183b3c-7dd6-4985-92bf-e7b4664fbf85: Project 4\n",
      "Project b61d9b61-9942-45d4-a600-c2ace6a5e257: Project 5\n",
      "Project 3be28fe7-7937-4e12-aa39-49c5557540f4: Project 6\n",
      "Project ac40eb43-c9d2-46fd-8bf4-37d8fc837869: Project 7\n",
      "Project 01cc2722-2a3e-4445-a9b1-a6f274c51c4b: Project 8\n",
      "Project 3d7241b0-b396-43a9-966d-3baf40cad1fd: Project 9\n"
     ]
    }
   ],
   "source": [
    "project_summaries = project_summary_repository.find_all()\n",
    "print(f'Found {len(project_summaries)} project summaries')\n",
    "for project_summary in project_summaries:\n",
    "  print(f'Project {project_summary.project_id.to_str()}: {project_summary.project_name.to_str()}')"
   ],
   "metadata": {
    "collapsed": false,
    "ExecuteTime": {
     "end_time": "2024-03-21T20:19:32.271469Z",
     "start_time": "2024-03-21T20:19:32.266951Z"
    }
   },
   "id": "63d49a5f72c7f9c2",
   "execution_count": 5
  },
  {
   "cell_type": "code",
   "outputs": [],
   "source": [],
   "metadata": {
    "collapsed": false,
    "ExecuteTime": {
     "end_time": "2024-03-21T20:19:32.274931Z",
     "start_time": "2024-03-21T20:19:32.272888Z"
    }
   },
   "id": "f054092d2ca6f17",
   "execution_count": 5
  }
 ],
 "metadata": {
  "kernelspec": {
   "display_name": "Python 3",
   "language": "python",
   "name": "python3"
  },
  "language_info": {
   "codemirror_mode": {
    "name": "ipython",
    "version": 2
   },
   "file_extension": ".py",
   "mimetype": "text/x-python",
   "name": "python",
   "nbconvert_exporter": "python",
   "pygments_lexer": "ipython2",
   "version": "2.7.6"
  }
 },
 "nbformat": 4,
 "nbformat_minor": 5
}
