{
 "cells": [
  {
   "metadata": {},
   "cell_type": "markdown",
   "source": "# Listeners must have arguments \"event\" and \"metadata\" with proper types",
   "id": "740a87482c1f1624"
  },
  {
   "cell_type": "code",
   "source": [
    "from morpheus.common.types.event_sourcing.EventMetadata import EventMetadata\n",
    "from morpheus.project.domain.events.ProjectEvents import ProjectCreatedEvent\n",
    "from morpheus.common.infrastructure.event_sourcing.EventPublisher import EventPublisher, listen_to\n",
    "\n",
    "\n",
    "class Invalid:\n",
    "  pass\n",
    "\n",
    "\n",
    "class ProjectorInvalid0:\n",
    "  @listen_to(ProjectCreatedEvent)\n",
    "  def on_project_created(self):\n",
    "    print('Created project')\n",
    "\n",
    "\n",
    "class ProjectorInvalid1:\n",
    "  @listen_to(ProjectCreatedEvent)\n",
    "  def on_project_created(self, invalid: ProjectCreatedEvent, metadata: EventMetadata):\n",
    "    print('Created project')\n",
    "\n",
    "\n",
    "class ProjectorInvalid2:\n",
    "  @listen_to(ProjectCreatedEvent)\n",
    "  def on_project_created(self, event: ProjectCreatedEvent, invalid: EventMetadata):\n",
    "    print('Created project')\n",
    "\n",
    "\n",
    "class ProjectorInvalid3:\n",
    "  @listen_to(ProjectCreatedEvent)\n",
    "  def on_project_created(self, event: Invalid, metadata: EventMetadata):\n",
    "    print('Created project')\n",
    "\n",
    "\n",
    "class ProjectorInvalid4:\n",
    "  @listen_to(ProjectCreatedEvent)\n",
    "  def on_project_created(self, event: ProjectCreatedEvent, metadata: Invalid):\n",
    "    print('Created project')\n",
    "\n",
    "\n",
    "event_publisher = EventPublisher()\n",
    "try:\n",
    "  projector = ProjectorInvalid0()\n",
    "  event_publisher.register(projector)\n",
    "except Exception as e:\n",
    "  print(e)\n",
    "\n",
    "try:\n",
    "  projector = ProjectorInvalid1()\n",
    "  event_publisher.register(projector)\n",
    "except Exception as e:\n",
    "  print(e)\n",
    "\n",
    "try:\n",
    "  projector = ProjectorInvalid2()\n",
    "  event_publisher.register(projector)\n",
    "except Exception as e:\n",
    "  print(e)\n",
    "\n",
    "try:\n",
    "  projector = ProjectorInvalid3()\n",
    "  event_publisher.register(projector)\n",
    "except Exception as e:\n",
    "  print(e)\n",
    "\n",
    "try:\n",
    "  projector = ProjectorInvalid4()\n",
    "  event_publisher.register(projector)\n",
    "except Exception as e:\n",
    "  print(e)"
   ],
   "metadata": {
    "collapsed": false,
    "ExecuteTime": {
     "end_time": "2024-05-14T07:54:32.545890Z",
     "start_time": "2024-05-14T07:54:31.662770Z"
    }
   },
   "id": "932b4fe5bd839f2",
   "outputs": [
    {
     "name": "stdout",
     "output_type": "stream",
     "text": [
      "Event listener <bound method ProjectorInvalid0.on_project_created of <__main__.ProjectorInvalid0 object at 0x146108770>> must have an argument called \"event\" that should by type hinted with a subclass of EventBase\n",
      "Event listener <bound method ProjectorInvalid1.on_project_created of <__main__.ProjectorInvalid1 object at 0x149dada90>> must have an argument called \"event\" that should by type hinted with a subclass of EventBase\n",
      "Event listener <bound method ProjectorInvalid2.on_project_created of <__main__.ProjectorInvalid2 object at 0x146108770>> must have an argument called \"metadata\" that should by type hinted with a subclass of EventMetadata\n",
      "Event listener <bound method ProjectorInvalid3.on_project_created of <__main__.ProjectorInvalid3 object at 0x149dada90>> must have an argument called \"event\" that should by type hinted with a subclass of EventBase\n",
      "Event listener <bound method ProjectorInvalid4.on_project_created of <__main__.ProjectorInvalid4 object at 0x146108770>> must have an argument called \"metadata\" that should by type hinted with a subclass of EventMetadata\n"
     ]
    }
   ],
   "execution_count": 1
  },
  {
   "cell_type": "markdown",
   "source": [
    "# Cannot register same listener twice"
   ],
   "metadata": {
    "collapsed": false
   },
   "id": "9d52b120aa989d1f"
  },
  {
   "cell_type": "code",
   "source": [
    "class Projector:\n",
    "  @listen_to(ProjectCreatedEvent)\n",
    "  def on_project_created(self, event: ProjectCreatedEvent, metadata: EventMetadata):\n",
    "    print(f'Created project {event.get_project_id()} with metadata {metadata}')\n",
    "\n",
    "\n",
    "try:\n",
    "  event_publisher = EventPublisher()\n",
    "  projector = Projector()\n",
    "  event_publisher.register(projector)\n",
    "  event_publisher.register(projector)\n",
    "except Exception as e:\n",
    "  print(e)"
   ],
   "metadata": {
    "collapsed": false,
    "ExecuteTime": {
     "end_time": "2024-05-14T07:54:32.549602Z",
     "start_time": "2024-05-14T07:54:32.547043Z"
    }
   },
   "id": "56155ec2f19c768d",
   "outputs": [
    {
     "name": "stdout",
     "output_type": "stream",
     "text": [
      "Event handler already registered\n"
     ]
    }
   ],
   "execution_count": 2
  },
  {
   "cell_type": "markdown",
   "source": [
    "# Create projects"
   ],
   "metadata": {
    "collapsed": false
   },
   "id": "22380477da429c5d"
  },
  {
   "cell_type": "code",
   "source": [
    "from morpheus.project.infrastructure.persistence.ProjectSummaryRepository import project_summary_repository\n",
    "from morpheus.project.infrastructure.event_sourcing.ProjectEventStore import project_event_store\n",
    "from morpheus.project.types.User import UserId\n",
    "from morpheus.project.types.Project import ProjectId, Name, Description, Tags\n",
    "from morpheus.project.application.write.Project import CreateProjectCommand, CreateProjectCommandHandler\n",
    "\n",
    "for i in range(10):\n",
    "  create_project_command = CreateProjectCommand(\n",
    "    project_id=ProjectId.new(),\n",
    "    name=Name.from_str(f'Project {i}'),\n",
    "    description=Description.from_str(f'Description {i}'),\n",
    "    tags=Tags.from_list([f'tag{i}', f'tag{i + 1}']),\n",
    "    user_id=UserId.new()\n",
    "  )\n",
    "  CreateProjectCommandHandler.handle(create_project_command)\n",
    "\n",
    "event_envelopes = project_event_store.get_all_events_ordered_by_version()\n",
    "print(f'Found {len(event_envelopes)} events')\n",
    "for event_envelope in event_envelopes:\n",
    "  print(f'\"{event_envelope.get_event().get_event_name().to_str()}\" occurred at {event_envelope.event.get_occurred_at().to_iso_with_timezone()}')\n",
    "\n",
    "project_summaries = project_summary_repository.find_all()\n",
    "print(f'Found {len(project_summaries)} project summaries')\n",
    "for project_summary in project_summaries:\n",
    "  print(f'Project {project_summary.project_id.to_str()}: {project_summary.project_name.to_str()}')"
   ],
   "metadata": {
    "collapsed": false,
    "ExecuteTime": {
     "end_time": "2024-05-14T07:54:33.180852Z",
     "start_time": "2024-05-14T07:54:32.550367Z"
    }
   },
   "id": "7db50a89dc6391e5",
   "outputs": [
    {
     "name": "stdout",
     "output_type": "stream",
     "text": [
      "Found 31 events\n",
      "\"Project Created\" occurred at 2024-05-13T11:38:24.571284+02:00\n",
      "\"Project Created\" occurred at 2024-05-14T09:54:33.141388+02:00\n",
      "\"Project Created\" occurred at 2024-05-14T09:54:33.149371+02:00\n",
      "\"Project Created\" occurred at 2024-05-14T09:54:33.152154+02:00\n",
      "\"Project Created\" occurred at 2024-05-14T09:54:33.154889+02:00\n",
      "\"Project Created\" occurred at 2024-05-14T09:54:33.157795+02:00\n",
      "\"Project Created\" occurred at 2024-05-14T09:54:33.161230+02:00\n",
      "\"Project Created\" occurred at 2024-05-14T09:54:33.165007+02:00\n",
      "\"Project Created\" occurred at 2024-05-14T09:54:33.167719+02:00\n",
      "\"Project Created\" occurred at 2024-05-14T09:54:33.170376+02:00\n",
      "\"Project Created\" occurred at 2024-05-14T09:54:33.172675+02:00\n",
      "\"Model Created\" occurred at 2024-05-13T11:40:01.731147+02:00\n",
      "\"Version Created\" occurred at 2024-05-13T11:40:01.743678+02:00\n",
      "\"Version Assigned to Model\" occurred at 2024-05-13T11:40:01.750951+02:00\n",
      "\"Model Layer Property Updated\" occurred at 2024-05-13T11:45:41.400199+02:00\n",
      "\"Model Layer Property Updated\" occurred at 2024-05-13T11:47:38.289784+02:00\n",
      "\"Model Layer Property Updated\" occurred at 2024-05-13T12:03:12.977258+02:00\n",
      "\"Model Layer Property Updated\" occurred at 2024-05-13T12:03:38.521234+02:00\n",
      "\"Model Layer Property Updated\" occurred at 2024-05-13T12:04:07.220114+02:00\n",
      "\"Model Layer Property Updated\" occurred at 2024-05-13T12:06:36.150490+02:00\n",
      "\"Model Layer Property Updated\" occurred at 2024-05-13T12:06:43.602550+02:00\n",
      "\"Model Layer Property Updated\" occurred at 2024-05-14T08:59:22.703781+02:00\n",
      "\"Model Layer Property Updated\" occurred at 2024-05-14T09:00:47.137789+02:00\n",
      "\"Model Layer Property Updated\" occurred at 2024-05-14T09:00:50.055351+02:00\n",
      "\"Model Layer Property Updated\" occurred at 2024-05-14T09:01:12.268040+02:00\n",
      "\"Model Layer Property Updated\" occurred at 2024-05-14T09:01:40.658083+02:00\n",
      "\"Model Layer Property Updated\" occurred at 2024-05-14T09:01:52.792720+02:00\n",
      "\"Model Layer Property Updated\" occurred at 2024-05-14T09:02:12.509807+02:00\n",
      "\"Model Layer Property Updated\" occurred at 2024-05-14T09:02:31.220776+02:00\n",
      "\"Model Layer Property Updated\" occurred at 2024-05-14T09:02:54.311458+02:00\n",
      "\"Model Layer Property Updated\" occurred at 2024-05-14T09:03:12.643473+02:00\n",
      "Found 11 project summaries\n",
      "Project 494949ef-dd5c-4eb9-8155-70ceff675942: Rio Primero\n",
      "Project eb19084e-fb17-4440-9139-f8d24db2e267: Project 0\n",
      "Project a2a44d01-0a99-4674-87ed-e02494f0ef54: Project 1\n",
      "Project 6f0288b8-9493-4f1e-8d4e-76efb41b0c3e: Project 2\n",
      "Project 9f190cb6-6ece-43c1-8a36-48a43c398976: Project 3\n",
      "Project dfe2a535-4530-45d4-afda-c0300411fea4: Project 4\n",
      "Project 7e0fc7c6-cdae-4b78-a681-a5922ea8205f: Project 5\n",
      "Project a392705a-357d-4840-b695-31188e347383: Project 6\n",
      "Project 6f5cd25d-aeee-4ec1-92c5-4424eb0b8161: Project 7\n",
      "Project 101183ee-9f7b-4372-ae52-55ee21fea8b8: Project 8\n",
      "Project b3f777e6-8a0e-46b7-9119-8469ee71452c: Project 9\n"
     ]
    }
   ],
   "execution_count": 3
  },
  {
   "cell_type": "markdown",
   "source": [
    "# Reproject project summaries"
   ],
   "metadata": {
    "collapsed": false
   },
   "id": "cde69ee770d30fc1"
  },
  {
   "cell_type": "code",
   "source": [
    "from morpheus.project.presentation.cli.ProjectionCliCommands import ReprojectProjectSummariesCliCommand\n",
    "\n",
    "ReprojectProjectSummariesCliCommand.run()"
   ],
   "metadata": {
    "collapsed": false,
    "ExecuteTime": {
     "end_time": "2024-05-14T07:54:33.211635Z",
     "start_time": "2024-05-14T07:54:33.181661Z"
    }
   },
   "id": "d2717a59e00a53d1",
   "outputs": [
    {
     "name": "stdout",
     "output_type": "stream",
     "text": [
      "\u001B[1mReprojecting project summaries\u001B[0m\n",
      "\u001B[1m------------------------------\u001B[0m\n",
      "\u001B[0m\n",
      "Found 31 events\u001B[0m\n",
      "Reset projection\u001B[0m\n",
      "\u001B[32mSuccessfully reprojected project summaries\u001B[0m\n"
     ]
    }
   ],
   "execution_count": 4
  },
  {
   "cell_type": "code",
   "source": [
    "project_summaries = project_summary_repository.find_all()\n",
    "print(f'Found {len(project_summaries)} project summaries')\n",
    "for project_summary in project_summaries:\n",
    "  print(f'Project {project_summary.project_id.to_str()}: {project_summary.project_name.to_str()}')"
   ],
   "metadata": {
    "collapsed": false,
    "ExecuteTime": {
     "end_time": "2024-05-14T07:54:33.217011Z",
     "start_time": "2024-05-14T07:54:33.212902Z"
    }
   },
   "id": "63d49a5f72c7f9c2",
   "outputs": [
    {
     "name": "stdout",
     "output_type": "stream",
     "text": [
      "Found 11 project summaries\n",
      "Project 494949ef-dd5c-4eb9-8155-70ceff675942: Rio Primero\n",
      "Project eb19084e-fb17-4440-9139-f8d24db2e267: Project 0\n",
      "Project a2a44d01-0a99-4674-87ed-e02494f0ef54: Project 1\n",
      "Project 6f0288b8-9493-4f1e-8d4e-76efb41b0c3e: Project 2\n",
      "Project 9f190cb6-6ece-43c1-8a36-48a43c398976: Project 3\n",
      "Project dfe2a535-4530-45d4-afda-c0300411fea4: Project 4\n",
      "Project 7e0fc7c6-cdae-4b78-a681-a5922ea8205f: Project 5\n",
      "Project a392705a-357d-4840-b695-31188e347383: Project 6\n",
      "Project 6f5cd25d-aeee-4ec1-92c5-4424eb0b8161: Project 7\n",
      "Project 101183ee-9f7b-4372-ae52-55ee21fea8b8: Project 8\n",
      "Project b3f777e6-8a0e-46b7-9119-8469ee71452c: Project 9\n"
     ]
    }
   ],
   "execution_count": 5
  }
 ],
 "metadata": {
  "kernelspec": {
   "display_name": "Python 3",
   "language": "python",
   "name": "python3"
  },
  "language_info": {
   "codemirror_mode": {
    "name": "ipython",
    "version": 2
   },
   "file_extension": ".py",
   "mimetype": "text/x-python",
   "name": "python",
   "nbconvert_exporter": "python",
   "pygments_lexer": "ipython2",
   "version": "2.7.6"
  }
 },
 "nbformat": 4,
 "nbformat_minor": 5
}
