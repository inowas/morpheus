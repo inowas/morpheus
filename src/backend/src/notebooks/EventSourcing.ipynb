{
 "cells": [
  {
   "cell_type": "markdown",
   "source": [
    "# Listeners must have arguments \"event\" and \"metadata\" with proper types"
   ],
   "metadata": {
    "collapsed": false
   },
   "id": "740a87482c1f1624"
  },
  {
   "cell_type": "code",
   "outputs": [
    {
     "name": "stdout",
     "output_type": "stream",
     "text": [
      "Event listener <bound method ProjectorInvalid0.on_project_created of <__main__.ProjectorInvalid0 object at 0x788b22559910>> must have an argument called \"event\" that should by type hinted with a subclass of EventBase\n",
      "Event listener <bound method ProjectorInvalid1.on_project_created of <__main__.ProjectorInvalid1 object at 0x788b213b7ef0>> must have an argument called \"event\" that should by type hinted with a subclass of EventBase\n",
      "Event listener <bound method ProjectorInvalid2.on_project_created of <__main__.ProjectorInvalid2 object at 0x788b22559910>> must have an argument called \"metadata\" that should by type hinted with a subclass of EventMetadata\n",
      "Event listener <bound method ProjectorInvalid3.on_project_created of <__main__.ProjectorInvalid3 object at 0x788b213b7ef0>> must have an argument called \"event\" that should by type hinted with a subclass of EventBase\n",
      "Event listener <bound method ProjectorInvalid4.on_project_created of <__main__.ProjectorInvalid4 object at 0x788b22559910>> must have an argument called \"metadata\" that should by type hinted with a subclass of EventMetadata\n"
     ]
    }
   ],
   "source": [
    "from morpheus.common.types.event_sourcing.EventMetadata import EventMetadata\n",
    "from morpheus.project.domain.events.ProjectEvents import ProjectCreatedEvent\n",
    "from morpheus.common.infrastructure.event_sourcing.EventPublisher import EventPublisher, listen_to\n",
    "\n",
    "\n",
    "class Invalid:\n",
    "  pass\n",
    "\n",
    "\n",
    "class ProjectorInvalid0:\n",
    "  @listen_to(ProjectCreatedEvent)\n",
    "  def on_project_created(self):\n",
    "    print('Created project')\n",
    "\n",
    "\n",
    "class ProjectorInvalid1:\n",
    "  @listen_to(ProjectCreatedEvent)\n",
    "  def on_project_created(self, invalid: ProjectCreatedEvent, metadata: EventMetadata):\n",
    "    print('Created project')\n",
    "\n",
    "\n",
    "class ProjectorInvalid2:\n",
    "  @listen_to(ProjectCreatedEvent)\n",
    "  def on_project_created(self, event: ProjectCreatedEvent, invalid: EventMetadata):\n",
    "    print('Created project')\n",
    "\n",
    "\n",
    "class ProjectorInvalid3:\n",
    "  @listen_to(ProjectCreatedEvent)\n",
    "  def on_project_created(self, event: Invalid, metadata: EventMetadata):\n",
    "    print('Created project')\n",
    "\n",
    "\n",
    "class ProjectorInvalid4:\n",
    "  @listen_to(ProjectCreatedEvent)\n",
    "  def on_project_created(self, event: ProjectCreatedEvent, metadata: Invalid):\n",
    "    print('Created project')\n",
    "\n",
    "\n",
    "event_publisher = EventPublisher()\n",
    "try:\n",
    "  projector = ProjectorInvalid0()\n",
    "  event_publisher.register(projector)\n",
    "except Exception as e:\n",
    "  print(e)\n",
    "\n",
    "try:\n",
    "  projector = ProjectorInvalid1()\n",
    "  event_publisher.register(projector)\n",
    "except Exception as e:\n",
    "  print(e)\n",
    "\n",
    "try:\n",
    "  projector = ProjectorInvalid2()\n",
    "  event_publisher.register(projector)\n",
    "except Exception as e:\n",
    "  print(e)\n",
    "\n",
    "try:\n",
    "  projector = ProjectorInvalid3()\n",
    "  event_publisher.register(projector)\n",
    "except Exception as e:\n",
    "  print(e)\n",
    "\n",
    "try:\n",
    "  projector = ProjectorInvalid4()\n",
    "  event_publisher.register(projector)\n",
    "except Exception as e:\n",
    "  print(e)"
   ],
   "metadata": {
    "collapsed": false,
    "ExecuteTime": {
     "end_time": "2024-03-22T08:56:32.831746Z",
     "start_time": "2024-03-22T08:56:32.820247Z"
    }
   },
   "id": "932b4fe5bd839f2",
   "execution_count": 11
  },
  {
   "cell_type": "markdown",
   "source": [
    "# Cannot register same listener twice"
   ],
   "metadata": {
    "collapsed": false
   },
   "id": "9d52b120aa989d1f"
  },
  {
   "cell_type": "code",
   "outputs": [
    {
     "name": "stdout",
     "output_type": "stream",
     "text": [
      "Event handler already registered\n"
     ]
    }
   ],
   "source": [
    "class Projector:\n",
    "  @listen_to(ProjectCreatedEvent)\n",
    "  def on_project_created(self, event: ProjectCreatedEvent, metadata: EventMetadata):\n",
    "    print(f'Created project {event.get_project_id()} with metadata {metadata}')\n",
    "\n",
    "\n",
    "try:\n",
    "  event_publisher = EventPublisher()\n",
    "  projector = Projector()\n",
    "  event_publisher.register(projector)\n",
    "  event_publisher.register(projector)\n",
    "except Exception as e:\n",
    "  print(e)"
   ],
   "metadata": {
    "collapsed": false,
    "ExecuteTime": {
     "end_time": "2024-03-22T08:56:32.841767Z",
     "start_time": "2024-03-22T08:56:32.834980Z"
    }
   },
   "id": "56155ec2f19c768d",
   "execution_count": 12
  },
  {
   "cell_type": "markdown",
   "source": [
    "# Create projects"
   ],
   "metadata": {
    "collapsed": false
   },
   "id": "22380477da429c5d"
  },
  {
   "cell_type": "code",
   "execution_count": 13,
   "outputs": [
    {
     "name": "stdout",
     "output_type": "stream",
     "text": [
      "Found 45 events\n",
      "\"Project Created\" occurred at 2024-03-21T20:34:22.248171+01:00\n",
      "\"Project Created\" occurred at 2024-03-22T09:51:38.989208+01:00\n",
      "\"Project Created\" occurred at 2024-03-22T09:51:39.004992+01:00\n",
      "\"Project Created\" occurred at 2024-03-22T09:51:39.011077+01:00\n",
      "\"Project Created\" occurred at 2024-03-22T09:51:39.016934+01:00\n",
      "\"Project Created\" occurred at 2024-03-22T09:51:39.022913+01:00\n",
      "\"Project Created\" occurred at 2024-03-22T09:51:39.028560+01:00\n",
      "\"Project Created\" occurred at 2024-03-22T09:51:39.033948+01:00\n",
      "\"Project Created\" occurred at 2024-03-22T09:51:39.039459+01:00\n",
      "\"Project Created\" occurred at 2024-03-22T09:51:39.044837+01:00\n",
      "\"Project Created\" occurred at 2024-03-22T09:51:39.050090+01:00\n",
      "\"Project Created\" occurred at 2024-03-22T09:52:01.760170+01:00\n",
      "\"Project Created\" occurred at 2024-03-22T09:53:48.926500+01:00\n",
      "\"Project Created\" occurred at 2024-03-22T09:55:40.497669+01:00\n",
      "\"Project Created\" occurred at 2024-03-22T09:56:22.803405+01:00\n",
      "\"Project Created\" occurred at 2024-03-22T09:56:22.839879+01:00\n",
      "\"Project Created\" occurred at 2024-03-22T09:56:22.848264+01:00\n",
      "\"Project Created\" occurred at 2024-03-22T09:56:22.853862+01:00\n",
      "\"Project Created\" occurred at 2024-03-22T09:56:22.859002+01:00\n",
      "\"Project Created\" occurred at 2024-03-22T09:56:22.864046+01:00\n",
      "\"Project Created\" occurred at 2024-03-22T09:56:22.869649+01:00\n",
      "\"Project Created\" occurred at 2024-03-22T09:56:22.876268+01:00\n",
      "\"Project Created\" occurred at 2024-03-22T09:56:22.881196+01:00\n",
      "\"Project Created\" occurred at 2024-03-22T09:56:22.892388+01:00\n",
      "\"Project Created\" occurred at 2024-03-22T09:56:32.852239+01:00\n",
      "\"Project Created\" occurred at 2024-03-22T09:56:32.859843+01:00\n",
      "\"Project Created\" occurred at 2024-03-22T09:56:32.866645+01:00\n",
      "\"Project Created\" occurred at 2024-03-22T09:56:32.871831+01:00\n",
      "\"Project Created\" occurred at 2024-03-22T09:56:32.877973+01:00\n",
      "\"Project Created\" occurred at 2024-03-22T09:56:32.885846+01:00\n",
      "\"Project Created\" occurred at 2024-03-22T09:56:32.892484+01:00\n",
      "\"Project Created\" occurred at 2024-03-22T09:56:32.898054+01:00\n",
      "\"Project Created\" occurred at 2024-03-22T09:56:32.903085+01:00\n",
      "\"Project Created\" occurred at 2024-03-22T09:56:32.909198+01:00\n",
      "\"Model Created\" occurred at 2024-03-22T09:55:41.542724+01:00\n",
      "\"Version Created\" occurred at 2024-03-22T09:55:41.560070+01:00\n",
      "\"Version Assigned to Model\" occurred at 2024-03-22T09:55:41.563609+01:00\n",
      "\"Model Geometry Updated\" occurred at 2024-03-22T09:55:42.272963+01:00\n",
      "\"Model Affected Cells Recalculated\" occurred at 2024-03-22T09:55:42.288319+01:00\n",
      "\"Model Grid Updated\" occurred at 2024-03-22T09:55:42.376907+01:00\n",
      "\"Model Affected Cells Recalculated\" occurred at 2024-03-22T09:55:42.390464+01:00\n",
      "\"Model Affected Cells Updated\" occurred at 2024-03-22T09:55:42.412943+01:00\n",
      "\"Version Created\" occurred at 2024-03-22T09:55:42.442475+01:00\n",
      "\"Version Assigned to Model\" occurred at 2024-03-22T09:55:42.444994+01:00\n",
      "\"Version Description Updated\" occurred at 2024-03-22T09:55:42.474298+01:00\n",
      "Found 34 project summaries\n",
      "Project 86eb03e2-423d-4a27-8c56-e33687c20f6f: Test1\n",
      "Project cf85101d-12ef-4091-8ef6-f2aae73ac2c5: Project 0\n",
      "Project b8c16723-da22-4d89-9b40-d144dbeab577: Project 1\n",
      "Project 8b08fb8c-2fc4-459a-b09e-a0667ba67ca0: Project 2\n",
      "Project ba6106fa-f233-4dfd-b778-ca18f17d8472: Project 3\n",
      "Project e0f30817-eb4b-4867-b5d2-56b5ce1c7e85: Project 4\n",
      "Project 25d8aed0-22c0-44cc-8e00-e582a3b723aa: Project 5\n",
      "Project bc350acd-2813-4b54-885a-bf6a61514d5d: Project 6\n",
      "Project d0d4cc80-d1bc-459c-95cd-9fd34692e306: Project 7\n",
      "Project 6436b729-0018-428a-b4a2-7c3607cf2b6c: Project 8\n",
      "Project e1ff8a08-4718-4572-80ba-bc4e1954e0e9: Project 9\n",
      "Project ebd75250-4dcf-4586-b7d3-1905b8a4d3f1: Project 1\n",
      "Project ae582838-717e-484e-b106-d8a26d067adb: Project 1\n",
      "Project 94a70f09-5003-432e-9805-3c63f77d0420: Project 1\n",
      "Project 522ed574-f0a1-40f5-81ec-bd443acdae01: Project 0\n",
      "Project e0b2737a-688e-43e2-85f5-7b29b70b3aed: Project 1\n",
      "Project 611a358a-dea8-4271-b627-b6b8c19fa2b4: Project 2\n",
      "Project 3cb3b402-67f2-482f-b689-e6b69345f17f: Project 3\n",
      "Project 858342ab-6402-4b71-a383-c346ac3edd93: Project 4\n",
      "Project 1a1f806d-2418-465e-9522-e48e7d3d9c2a: Project 5\n",
      "Project 0793f0b0-0d33-4747-a97a-abcb0d441662: Project 6\n",
      "Project c7f9c092-f76c-4f3a-8ba4-aacb7f6eabf4: Project 7\n",
      "Project cee349a1-d27d-41aa-8f29-e2ad63e83e97: Project 8\n",
      "Project 582acbdc-eea2-4873-848c-9a8e10fd6dba: Project 9\n",
      "Project 903711a2-c44b-44cc-a7f1-78c731a76fa8: Project 0\n",
      "Project fcb1eb9e-1259-4d90-8af2-aee4cb37888b: Project 1\n",
      "Project 81ce1432-0624-4959-b988-bb2184401af3: Project 2\n",
      "Project 39c45608-a6b2-487d-a413-9c7f2d3c3135: Project 3\n",
      "Project facc1a57-1b59-4095-8a88-bdc52815f7e6: Project 4\n",
      "Project 6e9f3955-38a5-465c-82ba-f53df1ff3b54: Project 5\n",
      "Project 65b42a49-ae0b-4103-ba21-d18fde5d0bfa: Project 6\n",
      "Project 5e268353-d959-4bbb-9273-7dd566fd7d66: Project 7\n",
      "Project 7a9ef315-a936-4b27-80cd-efb9ea29e063: Project 8\n",
      "Project d086bbc1-c5b1-4130-8574-b10412a0a37e: Project 9\n"
     ]
    }
   ],
   "source": [
    "from morpheus.project.infrastructure.persistence.ProjectSummaryRepository import project_summary_repository\n",
    "from morpheus.project.infrastructure.event_sourcing.ProjectEventStore import project_event_store\n",
    "from morpheus.project.types.User import UserId\n",
    "from morpheus.project.types.Project import ProjectId, Name, Description, Tags\n",
    "from morpheus.project.application.write.ProjectCommandHandlers import CreateProjectCommand, CreateProjectCommandHandler\n",
    "\n",
    "for i in range(10):\n",
    "  create_project_command = CreateProjectCommand(\n",
    "    project_id=ProjectId.new(),\n",
    "    name=Name.from_str(f'Project {i}'),\n",
    "    description=Description.from_str(f'Description {i}'),\n",
    "    tags=Tags.from_list([f'tag{i}', f'tag{i + 1}']),\n",
    "    created_by=UserId.new()\n",
    "  )\n",
    "  CreateProjectCommandHandler.handle(create_project_command)\n",
    "\n",
    "event_envelopes = project_event_store.get_all_events_ordered_by_version()\n",
    "print(f'Found {len(event_envelopes)} events')\n",
    "for event_envelope in event_envelopes:\n",
    "  print(f'\"{event_envelope.get_event().get_event_name().to_str()}\" occurred at {event_envelope.event.get_occurred_at().to_iso_with_timezone()}')\n",
    "\n",
    "project_summaries = project_summary_repository.find_all()\n",
    "print(f'Found {len(project_summaries)} project summaries')\n",
    "for project_summary in project_summaries:\n",
    "  print(f'Project {project_summary.project_id.to_str()}: {project_summary.project_name.to_str()}')"
   ],
   "metadata": {
    "collapsed": false,
    "ExecuteTime": {
     "end_time": "2024-03-22T08:56:32.927616Z",
     "start_time": "2024-03-22T08:56:32.843951Z"
    }
   },
   "id": "7db50a89dc6391e5"
  },
  {
   "cell_type": "markdown",
   "source": [
    "# Reproject project summaries"
   ],
   "metadata": {
    "collapsed": false
   },
   "id": "cde69ee770d30fc1"
  },
  {
   "cell_type": "code",
   "outputs": [
    {
     "name": "stdout",
     "output_type": "stream",
     "text": [
      "\u001B[1mReprojecting project summaries\u001B[0m\n",
      "\u001B[1m------------------------------\u001B[0m\n",
      "\u001B[0m\n",
      "Found 45 events\u001B[0m\n",
      "Reset projector\u001B[0m\n",
      "\u001B[32mSuccessfully reprojected project summaries\u001B[0m\n"
     ]
    }
   ],
   "source": [
    "from morpheus.project.presentation.cli.ProjectionCliCommands import ReprojectProjectSummariesCliCommand\n",
    "\n",
    "ReprojectProjectSummariesCliCommand.run()"
   ],
   "metadata": {
    "collapsed": false,
    "ExecuteTime": {
     "end_time": "2024-03-22T08:56:33.033732Z",
     "start_time": "2024-03-22T08:56:32.929656Z"
    }
   },
   "id": "d2717a59e00a53d1",
   "execution_count": 14
  },
  {
   "cell_type": "code",
   "outputs": [
    {
     "name": "stdout",
     "output_type": "stream",
     "text": [
      "Found 34 project summaries\n",
      "Project 86eb03e2-423d-4a27-8c56-e33687c20f6f: Test1\n",
      "Project cf85101d-12ef-4091-8ef6-f2aae73ac2c5: Project 0\n",
      "Project b8c16723-da22-4d89-9b40-d144dbeab577: Project 1\n",
      "Project 8b08fb8c-2fc4-459a-b09e-a0667ba67ca0: Project 2\n",
      "Project ba6106fa-f233-4dfd-b778-ca18f17d8472: Project 3\n",
      "Project e0f30817-eb4b-4867-b5d2-56b5ce1c7e85: Project 4\n",
      "Project 25d8aed0-22c0-44cc-8e00-e582a3b723aa: Project 5\n",
      "Project bc350acd-2813-4b54-885a-bf6a61514d5d: Project 6\n",
      "Project d0d4cc80-d1bc-459c-95cd-9fd34692e306: Project 7\n",
      "Project 6436b729-0018-428a-b4a2-7c3607cf2b6c: Project 8\n",
      "Project e1ff8a08-4718-4572-80ba-bc4e1954e0e9: Project 9\n",
      "Project ebd75250-4dcf-4586-b7d3-1905b8a4d3f1: Project 1\n",
      "Project ae582838-717e-484e-b106-d8a26d067adb: Project 1\n",
      "Project 94a70f09-5003-432e-9805-3c63f77d0420: Project 1\n",
      "Project 522ed574-f0a1-40f5-81ec-bd443acdae01: Project 0\n",
      "Project e0b2737a-688e-43e2-85f5-7b29b70b3aed: Project 1\n",
      "Project 611a358a-dea8-4271-b627-b6b8c19fa2b4: Project 2\n",
      "Project 3cb3b402-67f2-482f-b689-e6b69345f17f: Project 3\n",
      "Project 858342ab-6402-4b71-a383-c346ac3edd93: Project 4\n",
      "Project 1a1f806d-2418-465e-9522-e48e7d3d9c2a: Project 5\n",
      "Project 0793f0b0-0d33-4747-a97a-abcb0d441662: Project 6\n",
      "Project c7f9c092-f76c-4f3a-8ba4-aacb7f6eabf4: Project 7\n",
      "Project cee349a1-d27d-41aa-8f29-e2ad63e83e97: Project 8\n",
      "Project 582acbdc-eea2-4873-848c-9a8e10fd6dba: Project 9\n",
      "Project 903711a2-c44b-44cc-a7f1-78c731a76fa8: Project 0\n",
      "Project fcb1eb9e-1259-4d90-8af2-aee4cb37888b: Project 1\n",
      "Project 81ce1432-0624-4959-b988-bb2184401af3: Project 2\n",
      "Project 39c45608-a6b2-487d-a413-9c7f2d3c3135: Project 3\n",
      "Project facc1a57-1b59-4095-8a88-bdc52815f7e6: Project 4\n",
      "Project 6e9f3955-38a5-465c-82ba-f53df1ff3b54: Project 5\n",
      "Project 65b42a49-ae0b-4103-ba21-d18fde5d0bfa: Project 6\n",
      "Project 5e268353-d959-4bbb-9273-7dd566fd7d66: Project 7\n",
      "Project 7a9ef315-a936-4b27-80cd-efb9ea29e063: Project 8\n",
      "Project d086bbc1-c5b1-4130-8574-b10412a0a37e: Project 9\n"
     ]
    }
   ],
   "source": [
    "project_summaries = project_summary_repository.find_all()\n",
    "print(f'Found {len(project_summaries)} project summaries')\n",
    "for project_summary in project_summaries:\n",
    "  print(f'Project {project_summary.project_id.to_str()}: {project_summary.project_name.to_str()}')"
   ],
   "metadata": {
    "collapsed": false,
    "ExecuteTime": {
     "end_time": "2024-03-22T08:56:33.042829Z",
     "start_time": "2024-03-22T08:56:33.035710Z"
    }
   },
   "id": "63d49a5f72c7f9c2",
   "execution_count": 15
  }
 ],
 "metadata": {
  "kernelspec": {
   "display_name": "Python 3",
   "language": "python",
   "name": "python3"
  },
  "language_info": {
   "codemirror_mode": {
    "name": "ipython",
    "version": 2
   },
   "file_extension": ".py",
   "mimetype": "text/x-python",
   "name": "python",
   "nbconvert_exporter": "python",
   "pygments_lexer": "ipython2",
   "version": "2.7.6"
  }
 },
 "nbformat": 4,
 "nbformat_minor": 5
}
