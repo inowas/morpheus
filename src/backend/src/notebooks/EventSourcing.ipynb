{
 "cells": [
  {
   "metadata": {},
   "cell_type": "markdown",
   "source": "# Listeners must have arguments \"event\" and \"metadata\" with proper types",
   "id": "740a87482c1f1624"
  },
  {
   "cell_type": "code",
   "source": [
    "from morpheus.common.types.event_sourcing.EventMetadata import EventMetadata\n",
    "from morpheus.project.domain.events.ProjectEvents import ProjectCreatedEvent\n",
    "from morpheus.common.infrastructure.event_sourcing.EventPublisher import EventPublisher, listen_to\n",
    "\n",
    "\n",
    "class Invalid:\n",
    "  pass\n",
    "\n",
    "\n",
    "class ProjectorInvalid0:\n",
    "  @listen_to(ProjectCreatedEvent)\n",
    "  def on_project_created(self):\n",
    "    print('Created project')\n",
    "\n",
    "\n",
    "class ProjectorInvalid1:\n",
    "  @listen_to(ProjectCreatedEvent)\n",
    "  def on_project_created(self, invalid: ProjectCreatedEvent, metadata: EventMetadata):\n",
    "    print('Created project')\n",
    "\n",
    "\n",
    "class ProjectorInvalid2:\n",
    "  @listen_to(ProjectCreatedEvent)\n",
    "  def on_project_created(self, event: ProjectCreatedEvent, invalid: EventMetadata):\n",
    "    print('Created project')\n",
    "\n",
    "\n",
    "class ProjectorInvalid3:\n",
    "  @listen_to(ProjectCreatedEvent)\n",
    "  def on_project_created(self, event: Invalid, metadata: EventMetadata):\n",
    "    print('Created project')\n",
    "\n",
    "\n",
    "class ProjectorInvalid4:\n",
    "  @listen_to(ProjectCreatedEvent)\n",
    "  def on_project_created(self, event: ProjectCreatedEvent, metadata: Invalid):\n",
    "    print('Created project')\n",
    "\n",
    "\n",
    "event_publisher = EventPublisher()\n",
    "try:\n",
    "  projector = ProjectorInvalid0()\n",
    "  event_publisher.register(projector)\n",
    "except Exception as e:\n",
    "  print(e)\n",
    "\n",
    "try:\n",
    "  projector = ProjectorInvalid1()\n",
    "  event_publisher.register(projector)\n",
    "except Exception as e:\n",
    "  print(e)\n",
    "\n",
    "try:\n",
    "  projector = ProjectorInvalid2()\n",
    "  event_publisher.register(projector)\n",
    "except Exception as e:\n",
    "  print(e)\n",
    "\n",
    "try:\n",
    "  projector = ProjectorInvalid3()\n",
    "  event_publisher.register(projector)\n",
    "except Exception as e:\n",
    "  print(e)\n",
    "\n",
    "try:\n",
    "  projector = ProjectorInvalid4()\n",
    "  event_publisher.register(projector)\n",
    "except Exception as e:\n",
    "  print(e)"
   ],
   "metadata": {
    "collapsed": false,
    "ExecuteTime": {
     "end_time": "2024-04-22T20:35:08.842166Z",
     "start_time": "2024-04-22T20:35:07.887462Z"
    }
   },
   "id": "932b4fe5bd839f2",
   "outputs": [
    {
     "name": "stdout",
     "output_type": "stream",
     "text": [
      "Event listener <bound method ProjectorInvalid0.on_project_created of <__main__.ProjectorInvalid0 object at 0x133d70110>> must have an argument called \"event\" that should by type hinted with a subclass of EventBase\n",
      "Event listener <bound method ProjectorInvalid1.on_project_created of <__main__.ProjectorInvalid1 object at 0x123d0fb30>> must have an argument called \"event\" that should by type hinted with a subclass of EventBase\n",
      "Event listener <bound method ProjectorInvalid2.on_project_created of <__main__.ProjectorInvalid2 object at 0x104058e30>> must have an argument called \"metadata\" that should by type hinted with a subclass of EventMetadata\n",
      "Event listener <bound method ProjectorInvalid3.on_project_created of <__main__.ProjectorInvalid3 object at 0x12292cce0>> must have an argument called \"event\" that should by type hinted with a subclass of EventBase\n",
      "Event listener <bound method ProjectorInvalid4.on_project_created of <__main__.ProjectorInvalid4 object at 0x104058e30>> must have an argument called \"metadata\" that should by type hinted with a subclass of EventMetadata\n"
     ]
    }
   ],
   "execution_count": 1
  },
  {
   "cell_type": "markdown",
   "source": [
    "# Cannot register same listener twice"
   ],
   "metadata": {
    "collapsed": false
   },
   "id": "9d52b120aa989d1f"
  },
  {
   "cell_type": "code",
   "source": [
    "class Projector:\n",
    "  @listen_to(ProjectCreatedEvent)\n",
    "  def on_project_created(self, event: ProjectCreatedEvent, metadata: EventMetadata):\n",
    "    print(f'Created project {event.get_project_id()} with metadata {metadata}')\n",
    "\n",
    "\n",
    "try:\n",
    "  event_publisher = EventPublisher()\n",
    "  projector = Projector()\n",
    "  event_publisher.register(projector)\n",
    "  event_publisher.register(projector)\n",
    "except Exception as e:\n",
    "  print(e)"
   ],
   "metadata": {
    "collapsed": false,
    "ExecuteTime": {
     "end_time": "2024-04-22T20:35:08.846915Z",
     "start_time": "2024-04-22T20:35:08.843414Z"
    }
   },
   "id": "56155ec2f19c768d",
   "outputs": [
    {
     "name": "stdout",
     "output_type": "stream",
     "text": [
      "Event handler already registered\n"
     ]
    }
   ],
   "execution_count": 2
  },
  {
   "cell_type": "markdown",
   "source": [
    "# Create projects"
   ],
   "metadata": {
    "collapsed": false
   },
   "id": "22380477da429c5d"
  },
  {
   "cell_type": "code",
   "source": [
    "from morpheus.project.infrastructure.persistence.ProjectSummaryRepository import project_summary_repository\n",
    "from morpheus.project.infrastructure.event_sourcing.ProjectEventStore import project_event_store\n",
    "from morpheus.project.types.User import UserId\n",
    "from morpheus.project.types.Project import ProjectId, Name, Description, Tags\n",
    "from morpheus.project.application.write.Project import CreateProjectCommand, CreateProjectCommandHandler\n",
    "\n",
    "for i in range(10):\n",
    "  create_project_command = CreateProjectCommand(\n",
    "    project_id=ProjectId.new(),\n",
    "    name=Name.from_str(f'Project {i}'),\n",
    "    description=Description.from_str(f'Description {i}'),\n",
    "    tags=Tags.from_list([f'tag{i}', f'tag{i + 1}']),\n",
    "    user_id=UserId.new()\n",
    "  )\n",
    "  CreateProjectCommandHandler.handle(create_project_command)\n",
    "\n",
    "event_envelopes = project_event_store.get_all_events_ordered_by_version()\n",
    "print(f'Found {len(event_envelopes)} events')\n",
    "for event_envelope in event_envelopes:\n",
    "  print(f'\"{event_envelope.get_event().get_event_name().to_str()}\" occurred at {event_envelope.event.get_occurred_at().to_iso_with_timezone()}')\n",
    "\n",
    "project_summaries = project_summary_repository.find_all()\n",
    "print(f'Found {len(project_summaries)} project summaries')\n",
    "for project_summary in project_summaries:\n",
    "  print(f'Project {project_summary.project_id.to_str()}: {project_summary.project_name.to_str()}')"
   ],
   "metadata": {
    "collapsed": false,
    "ExecuteTime": {
     "end_time": "2024-04-22T20:35:09.510203Z",
     "start_time": "2024-04-22T20:35:08.848094Z"
    }
   },
   "id": "7db50a89dc6391e5",
   "outputs": [
    {
     "name": "stdout",
     "output_type": "stream",
     "text": [
      "Found 83 events\n",
      "\"Project Created\" occurred at 2024-04-22T11:12:44.096283+02:00\n",
      "\"Project Created\" occurred at 2024-04-22T11:20:25.259302+02:00\n",
      "\"Project Created\" occurred at 2024-04-22T12:25:00.703853+02:00\n",
      "\"Project Created\" occurred at 2024-04-22T12:25:30.987298+02:00\n",
      "\"Project Created\" occurred at 2024-04-22T12:25:43.781157+02:00\n",
      "\"Project Created\" occurred at 2024-04-22T22:34:54.712343+02:00\n",
      "\"Project Created\" occurred at 2024-04-22T22:34:54.727891+02:00\n",
      "\"Project Created\" occurred at 2024-04-22T22:34:54.733633+02:00\n",
      "\"Project Created\" occurred at 2024-04-22T22:34:54.740777+02:00\n",
      "\"Project Created\" occurred at 2024-04-22T22:34:54.745596+02:00\n",
      "\"Project Created\" occurred at 2024-04-22T22:34:54.750669+02:00\n",
      "\"Project Created\" occurred at 2024-04-22T22:34:54.754796+02:00\n",
      "\"Project Created\" occurred at 2024-04-22T22:34:54.758468+02:00\n",
      "\"Project Created\" occurred at 2024-04-22T22:34:54.761277+02:00\n",
      "\"Project Created\" occurred at 2024-04-22T22:34:54.764123+02:00\n",
      "\"Project Created\" occurred at 2024-04-22T22:34:55.284513+02:00\n",
      "\"Project Created\" occurred at 2024-04-22T22:34:55.291418+02:00\n",
      "\"Project Created\" occurred at 2024-04-22T22:34:55.298425+02:00\n",
      "\"Project Created\" occurred at 2024-04-22T22:34:55.305180+02:00\n",
      "\"Project Created\" occurred at 2024-04-22T22:34:55.310710+02:00\n",
      "\"Project Created\" occurred at 2024-04-22T22:34:55.315112+02:00\n",
      "\"Project Created\" occurred at 2024-04-22T22:34:55.325964+02:00\n",
      "\"Project Created\" occurred at 2024-04-22T22:34:55.345826+02:00\n",
      "\"Project Created\" occurred at 2024-04-22T22:34:55.349118+02:00\n",
      "\"Project Created\" occurred at 2024-04-22T22:34:55.353372+02:00\n",
      "\"Project Created\" occurred at 2024-04-22T22:35:09.454496+02:00\n",
      "\"Project Created\" occurred at 2024-04-22T22:35:09.460502+02:00\n",
      "\"Project Created\" occurred at 2024-04-22T22:35:09.466736+02:00\n",
      "\"Project Created\" occurred at 2024-04-22T22:35:09.473002+02:00\n",
      "\"Project Created\" occurred at 2024-04-22T22:35:09.478511+02:00\n",
      "\"Project Created\" occurred at 2024-04-22T22:35:09.482551+02:00\n",
      "\"Project Created\" occurred at 2024-04-22T22:35:09.487208+02:00\n",
      "\"Project Created\" occurred at 2024-04-22T22:35:09.491492+02:00\n",
      "\"Project Created\" occurred at 2024-04-22T22:35:09.495154+02:00\n",
      "\"Project Created\" occurred at 2024-04-22T22:35:09.498756+02:00\n",
      "\"Model Created\" occurred at 2024-04-22T11:12:45.314799+02:00\n",
      "\"Model Created\" occurred at 2024-04-22T11:20:27.653895+02:00\n",
      "\"Model Created\" occurred at 2024-04-22T12:25:01.020933+02:00\n",
      "\"Model Created\" occurred at 2024-04-22T12:25:31.302400+02:00\n",
      "\"Model Created\" occurred at 2024-04-22T12:25:44.093284+02:00\n",
      "\"Version Created\" occurred at 2024-04-22T11:12:45.328004+02:00\n",
      "\"Version Created\" occurred at 2024-04-22T11:20:27.668944+02:00\n",
      "\"Version Created\" occurred at 2024-04-22T12:25:01.036474+02:00\n",
      "\"Version Created\" occurred at 2024-04-22T12:25:31.317258+02:00\n",
      "\"Version Created\" occurred at 2024-04-22T12:25:44.107789+02:00\n",
      "\"Version Assigned to Model\" occurred at 2024-04-22T11:12:45.330747+02:00\n",
      "\"Version Assigned to Model\" occurred at 2024-04-22T11:20:27.672692+02:00\n",
      "\"Version Assigned to Model\" occurred at 2024-04-22T12:25:01.038909+02:00\n",
      "\"Version Assigned to Model\" occurred at 2024-04-22T12:25:31.321797+02:00\n",
      "\"Version Assigned to Model\" occurred at 2024-04-22T12:25:44.111382+02:00\n",
      "\"Model Time Discretization Updated\" occurred at 2024-04-22T11:12:46.443534+02:00\n",
      "\"Model Time Discretization Updated\" occurred at 2024-04-22T11:20:28.811354+02:00\n",
      "\"Model Time Discretization Updated\" occurred at 2024-04-22T12:25:01.054517+02:00\n",
      "\"Model Time Discretization Updated\" occurred at 2024-04-22T12:25:31.336628+02:00\n",
      "\"Model Time Discretization Updated\" occurred at 2024-04-22T12:25:44.125809+02:00\n",
      "\"Model Layer Created\" occurred at 2024-04-22T11:05:22.927165+02:00\n",
      "\"Model Layer Created\" occurred at 2024-04-22T11:20:30.337261+02:00\n",
      "\"Model Layer Created\" occurred at 2024-04-22T12:25:01.077837+02:00\n",
      "\"Model Layer Created\" occurred at 2024-04-22T12:25:31.357628+02:00\n",
      "\"Model Layer Created\" occurred at 2024-04-22T12:25:44.146914+02:00\n",
      "\"Model Layer Created\" occurred at 2024-04-22T11:05:22.927165+02:00\n",
      "\"Model Layer Created\" occurred at 2024-04-22T11:20:33.342088+02:00\n",
      "\"Model Layer Created\" occurred at 2024-04-22T12:25:01.112266+02:00\n",
      "\"Model Layer Created\" occurred at 2024-04-22T12:25:31.387176+02:00\n",
      "\"Model Layer Created\" occurred at 2024-04-22T12:25:44.177397+02:00\n",
      "\"Model Layer Created\" occurred at 2024-04-22T11:05:22.927165+02:00\n",
      "\"Model Layer Created\" occurred at 2024-04-22T11:20:34.631612+02:00\n",
      "\"Model Layer Created\" occurred at 2024-04-22T12:25:01.132582+02:00\n",
      "\"Model Layer Created\" occurred at 2024-04-22T12:25:31.407852+02:00\n",
      "\"Model Layer Created\" occurred at 2024-04-22T12:25:44.197251+02:00\n",
      "\"Model Layer Deleted\" occurred at 2024-04-22T11:05:22.927175+02:00\n",
      "\"Model Layer Deleted\" occurred at 2024-04-22T11:20:36.153948+02:00\n",
      "\"Model Layer Deleted\" occurred at 2024-04-22T12:25:01.158587+02:00\n",
      "\"Model Layer Deleted\" occurred at 2024-04-22T12:25:31.440292+02:00\n",
      "\"Model Layer Deleted\" occurred at 2024-04-22T12:25:44.226994+02:00\n",
      "\"Model Layer Updated\" occurred at 2024-04-22T12:16:34.081496+02:00\n",
      "\"Model Layer Updated\" occurred at 2024-04-22T12:25:01.184493+02:00\n",
      "\"Model Layer Updated\" occurred at 2024-04-22T12:25:31.471513+02:00\n",
      "\"Model Layer Updated\" occurred at 2024-04-22T12:25:44.254897+02:00\n",
      "\"Model Layer Updated\" occurred at 2024-04-22T12:16:44.551124+02:00\n",
      "\"Model Layer Updated\" occurred at 2024-04-22T12:25:31.508352+02:00\n",
      "\"Model Layer Updated\" occurred at 2024-04-22T12:25:44.294117+02:00\n",
      "\"Model Layer Updated\" occurred at 2024-04-22T12:17:03.773858+02:00\n",
      "Found 35 project summaries\n",
      "Project 83195f32-5944-407b-9ff6-1b70888a9d64: Rio Primero\n",
      "Project 8b0eb583-8ef4-4925-8bd5-c2876bb2f821: Rio Primero\n",
      "Project 14fd5e74-6bb0-4c37-acf9-7ea95340dc45: Rio Primero\n",
      "Project 5c8e2cab-4f0d-414a-ae04-5b8770c4d093: Rio Primero\n",
      "Project f672cab7-7de8-4f52-9771-75ec3f3bd17f: Rio Primero\n",
      "Project fc01b724-20c7-47f9-bc77-38e9cd6b5c8f: Project 0\n",
      "Project 6150ef53-da68-48ff-8ba5-d34c365acf8d: Project 1\n",
      "Project 1d7d64a1-f752-490d-b0b1-2f0862458439: Project 2\n",
      "Project 5e12a88c-1d7e-4de4-9fbc-e5c512882e05: Project 3\n",
      "Project bdb79e1f-f326-4df2-a9f6-c20a77a6dc9b: Project 4\n",
      "Project 71f41e97-aeff-4953-a9bd-58b5342e90e2: Project 5\n",
      "Project 80bd1bad-7dd2-4483-b728-7aa5a6b4e742: Project 6\n",
      "Project bbccb0b5-89a2-4f6e-9612-e26643021967: Project 7\n",
      "Project c2482077-b026-472e-a426-9ce61ab7e3a8: Project 8\n",
      "Project 60818f6b-a69d-4e13-8ee9-3fb9aa021508: Project 9\n",
      "Project 6bf12650-19a1-4fa4-828e-98390e574e62: Project 0\n",
      "Project e90f8571-4466-4123-86dc-ecf5418b499f: Project 1\n",
      "Project 130b08ea-18aa-4b2c-84c2-73faf8f88470: Project 2\n",
      "Project a8aed29a-30a8-4cfb-8d6d-8c014edc7811: Project 3\n",
      "Project d03b91ea-1388-4147-ab8e-f05065d11d47: Project 4\n",
      "Project 0209d2a6-349c-4627-8bfd-5e83bff482b4: Project 5\n",
      "Project 86e4c4b2-81bc-42f1-bd30-23dd5f0abeec: Project 6\n",
      "Project c6561ffe-ce4b-4f5d-b400-fc0981138d41: Project 7\n",
      "Project fffba442-04a9-4539-872b-f18703c897b0: Project 8\n",
      "Project cd7d9fe8-58c9-4013-b2c4-2f5c1875b940: Project 9\n",
      "Project e7af1c25-70dc-4cc6-ad8c-dbdda44b30ac: Project 0\n",
      "Project 7848710b-f2e7-4caf-a2c2-95b89e0d5a34: Project 1\n",
      "Project bb63bc4d-f49d-4536-964a-50874f9f5f18: Project 2\n",
      "Project 3d47bc28-7eb9-465a-993c-cec924b8671b: Project 3\n",
      "Project ac8d8af8-90be-4601-9668-56896f733f1f: Project 4\n",
      "Project bcf6802e-2a12-4d5b-b5e0-ba337bf3ce9a: Project 5\n",
      "Project 57353f21-ef9a-44b0-bb5c-88da15e7920f: Project 6\n",
      "Project 94df03ad-2251-4eed-993f-45a7e1c115af: Project 7\n",
      "Project 7839fab1-2887-4c3b-9584-6177b94c8812: Project 8\n",
      "Project 92212fef-d16e-4d13-9a75-24cdd114312b: Project 9\n"
     ]
    }
   ],
   "execution_count": 3
  },
  {
   "cell_type": "markdown",
   "source": [
    "# Reproject project summaries"
   ],
   "metadata": {
    "collapsed": false
   },
   "id": "cde69ee770d30fc1"
  },
  {
   "cell_type": "code",
   "source": [
    "from morpheus.project.presentation.cli.ProjectionCliCommands import ReprojectProjectSummariesCliCommand\n",
    "\n",
    "ReprojectProjectSummariesCliCommand.run()"
   ],
   "metadata": {
    "collapsed": false,
    "ExecuteTime": {
     "end_time": "2024-04-22T20:35:09.566926Z",
     "start_time": "2024-04-22T20:35:09.511130Z"
    }
   },
   "id": "d2717a59e00a53d1",
   "outputs": [
    {
     "name": "stdout",
     "output_type": "stream",
     "text": [
      "\u001B[1mReprojecting project summaries\u001B[0m\n",
      "\u001B[1m------------------------------\u001B[0m\n",
      "\u001B[0m\n",
      "Found 83 events\u001B[0m\n",
      "Reset projection\u001B[0m\n",
      "\u001B[32mSuccessfully reprojected project summaries\u001B[0m\n"
     ]
    }
   ],
   "execution_count": 4
  },
  {
   "cell_type": "code",
   "source": [
    "project_summaries = project_summary_repository.find_all()\n",
    "print(f'Found {len(project_summaries)} project summaries')\n",
    "for project_summary in project_summaries:\n",
    "  print(f'Project {project_summary.project_id.to_str()}: {project_summary.project_name.to_str()}')"
   ],
   "metadata": {
    "collapsed": false,
    "ExecuteTime": {
     "end_time": "2024-04-22T20:35:09.572738Z",
     "start_time": "2024-04-22T20:35:09.568433Z"
    }
   },
   "id": "63d49a5f72c7f9c2",
   "outputs": [
    {
     "name": "stdout",
     "output_type": "stream",
     "text": [
      "Found 35 project summaries\n",
      "Project 83195f32-5944-407b-9ff6-1b70888a9d64: Rio Primero\n",
      "Project 8b0eb583-8ef4-4925-8bd5-c2876bb2f821: Rio Primero\n",
      "Project 14fd5e74-6bb0-4c37-acf9-7ea95340dc45: Rio Primero\n",
      "Project 5c8e2cab-4f0d-414a-ae04-5b8770c4d093: Rio Primero\n",
      "Project f672cab7-7de8-4f52-9771-75ec3f3bd17f: Rio Primero\n",
      "Project fc01b724-20c7-47f9-bc77-38e9cd6b5c8f: Project 0\n",
      "Project 6150ef53-da68-48ff-8ba5-d34c365acf8d: Project 1\n",
      "Project 1d7d64a1-f752-490d-b0b1-2f0862458439: Project 2\n",
      "Project 5e12a88c-1d7e-4de4-9fbc-e5c512882e05: Project 3\n",
      "Project bdb79e1f-f326-4df2-a9f6-c20a77a6dc9b: Project 4\n",
      "Project 71f41e97-aeff-4953-a9bd-58b5342e90e2: Project 5\n",
      "Project 80bd1bad-7dd2-4483-b728-7aa5a6b4e742: Project 6\n",
      "Project bbccb0b5-89a2-4f6e-9612-e26643021967: Project 7\n",
      "Project c2482077-b026-472e-a426-9ce61ab7e3a8: Project 8\n",
      "Project 60818f6b-a69d-4e13-8ee9-3fb9aa021508: Project 9\n",
      "Project 6bf12650-19a1-4fa4-828e-98390e574e62: Project 0\n",
      "Project e90f8571-4466-4123-86dc-ecf5418b499f: Project 1\n",
      "Project 130b08ea-18aa-4b2c-84c2-73faf8f88470: Project 2\n",
      "Project a8aed29a-30a8-4cfb-8d6d-8c014edc7811: Project 3\n",
      "Project d03b91ea-1388-4147-ab8e-f05065d11d47: Project 4\n",
      "Project 0209d2a6-349c-4627-8bfd-5e83bff482b4: Project 5\n",
      "Project 86e4c4b2-81bc-42f1-bd30-23dd5f0abeec: Project 6\n",
      "Project c6561ffe-ce4b-4f5d-b400-fc0981138d41: Project 7\n",
      "Project fffba442-04a9-4539-872b-f18703c897b0: Project 8\n",
      "Project cd7d9fe8-58c9-4013-b2c4-2f5c1875b940: Project 9\n",
      "Project e7af1c25-70dc-4cc6-ad8c-dbdda44b30ac: Project 0\n",
      "Project 7848710b-f2e7-4caf-a2c2-95b89e0d5a34: Project 1\n",
      "Project bb63bc4d-f49d-4536-964a-50874f9f5f18: Project 2\n",
      "Project 3d47bc28-7eb9-465a-993c-cec924b8671b: Project 3\n",
      "Project ac8d8af8-90be-4601-9668-56896f733f1f: Project 4\n",
      "Project bcf6802e-2a12-4d5b-b5e0-ba337bf3ce9a: Project 5\n",
      "Project 57353f21-ef9a-44b0-bb5c-88da15e7920f: Project 6\n",
      "Project 94df03ad-2251-4eed-993f-45a7e1c115af: Project 7\n",
      "Project 7839fab1-2887-4c3b-9584-6177b94c8812: Project 8\n",
      "Project 92212fef-d16e-4d13-9a75-24cdd114312b: Project 9\n"
     ]
    }
   ],
   "execution_count": 5
  }
 ],
 "metadata": {
  "kernelspec": {
   "display_name": "Python 3",
   "language": "python",
   "name": "python3"
  },
  "language_info": {
   "codemirror_mode": {
    "name": "ipython",
    "version": 2
   },
   "file_extension": ".py",
   "mimetype": "text/x-python",
   "name": "python",
   "nbconvert_exporter": "python",
   "pygments_lexer": "ipython2",
   "version": "2.7.6"
  }
 },
 "nbformat": 4,
 "nbformat_minor": 5
}
