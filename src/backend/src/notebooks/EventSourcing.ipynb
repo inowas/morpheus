{
 "cells": [
  {
   "metadata": {},
   "cell_type": "markdown",
   "source": "# Listeners must have arguments \"event\" and \"metadata\" with proper types",
   "id": "740a87482c1f1624"
  },
  {
   "cell_type": "code",
   "source": [
    "from morpheus.project.domain.events.ProjectEvents.ProjectEvents import ProjectCreatedEvent\n",
    "from morpheus.common.types.event_sourcing.EventMetadata import EventMetadata\n",
    "from morpheus.common.infrastructure.event_sourcing.EventPublisher import EventPublisher, listen_to\n",
    "\n",
    "\n",
    "class Invalid:\n",
    "  pass\n",
    "\n",
    "\n",
    "class ProjectorInvalid0:\n",
    "  @listen_to(ProjectCreatedEvent)\n",
    "  def on_project_created(self):\n",
    "    print('Created project')\n",
    "\n",
    "\n",
    "class ProjectorInvalid1:\n",
    "  @listen_to(ProjectCreatedEvent)\n",
    "  def on_project_created(self, invalid: ProjectCreatedEvent, metadata: EventMetadata):\n",
    "    print('Created project')\n",
    "\n",
    "\n",
    "class ProjectorInvalid2:\n",
    "  @listen_to(ProjectCreatedEvent)\n",
    "  def on_project_created(self, event: ProjectCreatedEvent, invalid: EventMetadata):\n",
    "    print('Created project')\n",
    "\n",
    "\n",
    "class ProjectorInvalid3:\n",
    "  @listen_to(ProjectCreatedEvent)\n",
    "  def on_project_created(self, event: Invalid, metadata: EventMetadata):\n",
    "    print('Created project')\n",
    "\n",
    "\n",
    "class ProjectorInvalid4:\n",
    "  @listen_to(ProjectCreatedEvent)\n",
    "  def on_project_created(self, event: ProjectCreatedEvent, metadata: Invalid):\n",
    "    print('Created project')\n",
    "\n",
    "\n",
    "event_publisher = EventPublisher()\n",
    "try:\n",
    "  projector = ProjectorInvalid0()\n",
    "  event_publisher.register(projector)\n",
    "except Exception as e:\n",
    "  print(e)\n",
    "\n",
    "try:\n",
    "  projector = ProjectorInvalid1()\n",
    "  event_publisher.register(projector)\n",
    "except Exception as e:\n",
    "  print(e)\n",
    "\n",
    "try:\n",
    "  projector = ProjectorInvalid2()\n",
    "  event_publisher.register(projector)\n",
    "except Exception as e:\n",
    "  print(e)\n",
    "\n",
    "try:\n",
    "  projector = ProjectorInvalid3()\n",
    "  event_publisher.register(projector)\n",
    "except Exception as e:\n",
    "  print(e)\n",
    "\n",
    "try:\n",
    "  projector = ProjectorInvalid4()\n",
    "  event_publisher.register(projector)\n",
    "except Exception as e:\n",
    "  print(e)"
   ],
   "metadata": {
    "collapsed": false,
    "ExecuteTime": {
     "end_time": "2024-05-15T08:58:36.248014Z",
     "start_time": "2024-05-15T08:58:35.244337Z"
    }
   },
   "id": "932b4fe5bd839f2",
   "outputs": [
    {
     "name": "stdout",
     "output_type": "stream",
     "text": [
      "Event listener <bound method ProjectorInvalid0.on_project_created of <__main__.ProjectorInvalid0 object at 0x165578950>> must have an argument called \"event\" that should by type hinted with a subclass of EventBase\n",
      "Event listener <bound method ProjectorInvalid1.on_project_created of <__main__.ProjectorInvalid1 object at 0x162605a00>> must have an argument called \"event\" that should by type hinted with a subclass of EventBase\n",
      "Event listener <bound method ProjectorInvalid2.on_project_created of <__main__.ProjectorInvalid2 object at 0x165578950>> must have an argument called \"metadata\" that should by type hinted with a subclass of EventMetadata\n",
      "Event listener <bound method ProjectorInvalid3.on_project_created of <__main__.ProjectorInvalid3 object at 0x162605a00>> must have an argument called \"event\" that should by type hinted with a subclass of EventBase\n",
      "Event listener <bound method ProjectorInvalid4.on_project_created of <__main__.ProjectorInvalid4 object at 0x165578950>> must have an argument called \"metadata\" that should by type hinted with a subclass of EventMetadata\n"
     ]
    }
   ],
   "execution_count": 1
  },
  {
   "cell_type": "markdown",
   "source": [
    "# Cannot register same listener twice"
   ],
   "metadata": {
    "collapsed": false
   },
   "id": "9d52b120aa989d1f"
  },
  {
   "cell_type": "code",
   "source": [
    "class Projector:\n",
    "  @listen_to(ProjectCreatedEvent)\n",
    "  def on_project_created(self, event: ProjectCreatedEvent, metadata: EventMetadata):\n",
    "    print(f'Created project {event.get_project_id()} with metadata {metadata}')\n",
    "\n",
    "\n",
    "try:\n",
    "  event_publisher = EventPublisher()\n",
    "  projector = Projector()\n",
    "  event_publisher.register(projector)\n",
    "  event_publisher.register(projector)\n",
    "except Exception as e:\n",
    "  print(e)"
   ],
   "metadata": {
    "collapsed": false,
    "ExecuteTime": {
     "end_time": "2024-05-15T08:58:36.253529Z",
     "start_time": "2024-05-15T08:58:36.249966Z"
    }
   },
   "id": "56155ec2f19c768d",
   "outputs": [
    {
     "name": "stdout",
     "output_type": "stream",
     "text": [
      "Event handler already registered\n"
     ]
    }
   ],
   "execution_count": 2
  },
  {
   "cell_type": "markdown",
   "source": [
    "# Create projects"
   ],
   "metadata": {
    "collapsed": false
   },
   "id": "22380477da429c5d"
  },
  {
   "cell_type": "code",
   "source": [
    "from morpheus.project.infrastructure.persistence.ProjectSummaryRepository import project_summary_repository\n",
    "from morpheus.project.infrastructure.event_sourcing.ProjectEventStore import project_event_store\n",
    "from morpheus.project.types.User import UserId\n",
    "from morpheus.project.types.Project import ProjectId, Name, Description, Tags\n",
    "from morpheus.project.application.write.Project import CreateProjectCommand, CreateProjectCommandHandler\n",
    "\n",
    "for i in range(10):\n",
    "  create_project_command = CreateProjectCommand(\n",
    "    project_id=ProjectId.new(),\n",
    "    name=Name.from_str(f'Project {i}'),\n",
    "    description=Description.from_str(f'Description {i}'),\n",
    "    tags=Tags.from_list([f'tag{i}', f'tag{i + 1}']),\n",
    "    user_id=UserId.new()\n",
    "  )\n",
    "  CreateProjectCommandHandler.handle(create_project_command)\n",
    "\n",
    "event_envelopes = project_event_store.get_all_events_ordered_by_version()\n",
    "print(f'Found {len(event_envelopes)} events')\n",
    "for event_envelope in event_envelopes:\n",
    "  print(f'\"{event_envelope.get_event().get_event_name().to_str()}\" occurred at {event_envelope.event.get_occurred_at().to_iso_with_timezone()}')\n",
    "\n",
    "project_summaries = project_summary_repository.find_all()\n",
    "print(f'Found {len(project_summaries)} project summaries')\n",
    "for project_summary in project_summaries:\n",
    "  print(f'Project {project_summary.project_id.to_str()}: {project_summary.project_name.to_str()}')"
   ],
   "metadata": {
    "collapsed": false,
    "ExecuteTime": {
     "end_time": "2024-05-15T08:58:36.934239Z",
     "start_time": "2024-05-15T08:58:36.254448Z"
    }
   },
   "id": "7db50a89dc6391e5",
   "outputs": [
    {
     "name": "stdout",
     "output_type": "stream",
     "text": [
      "Found 146 events\n",
      "\"Project Created\" occurred at 2024-05-13T11:38:24.571284+02:00\n",
      "\"Project Created\" occurred at 2024-05-14T09:54:33.141388+02:00\n",
      "\"Project Created\" occurred at 2024-05-14T09:54:33.149371+02:00\n",
      "\"Project Created\" occurred at 2024-05-14T09:54:33.152154+02:00\n",
      "\"Project Created\" occurred at 2024-05-14T09:54:33.154889+02:00\n",
      "\"Project Created\" occurred at 2024-05-14T09:54:33.157795+02:00\n",
      "\"Project Created\" occurred at 2024-05-14T09:54:33.161230+02:00\n",
      "\"Project Created\" occurred at 2024-05-14T09:54:33.165007+02:00\n",
      "\"Project Created\" occurred at 2024-05-14T09:54:33.167719+02:00\n",
      "\"Project Created\" occurred at 2024-05-14T09:54:33.170376+02:00\n",
      "\"Project Created\" occurred at 2024-05-14T09:54:33.172675+02:00\n",
      "\"Project Created\" occurred at 2024-05-14T09:54:46.633757+02:00\n",
      "\"Project Created\" occurred at 2024-05-14T10:01:07.276888+02:00\n",
      "\"Project Created\" occurred at 2024-05-14T10:05:23.831958+02:00\n",
      "\"Project Created\" occurred at 2024-05-15T08:51:33.765023+02:00\n",
      "\"Project Created\" occurred at 2024-05-15T08:52:55.301333+02:00\n",
      "\"Project Created\" occurred at 2024-05-15T08:53:25.956223+02:00\n",
      "\"Project Created\" occurred at 2024-05-15T09:06:07.207313+02:00\n",
      "\"Project Created\" occurred at 2024-05-15T09:07:57.902673+02:00\n",
      "\"Project Created\" occurred at 2024-05-15T10:57:48.101603+02:00\n",
      "\"Project Created\" occurred at 2024-05-15T10:58:36.887426+02:00\n",
      "\"Project Created\" occurred at 2024-05-15T10:58:36.893494+02:00\n",
      "\"Project Created\" occurred at 2024-05-15T10:58:36.896066+02:00\n",
      "\"Project Created\" occurred at 2024-05-15T10:58:36.899186+02:00\n",
      "\"Project Created\" occurred at 2024-05-15T10:58:36.901514+02:00\n",
      "\"Project Created\" occurred at 2024-05-15T10:58:36.904013+02:00\n",
      "\"Project Created\" occurred at 2024-05-15T10:58:36.907225+02:00\n",
      "\"Project Created\" occurred at 2024-05-15T10:58:36.910129+02:00\n",
      "\"Project Created\" occurred at 2024-05-15T10:58:36.913773+02:00\n",
      "\"Project Created\" occurred at 2024-05-15T10:58:36.916793+02:00\n",
      "\"Model Created\" occurred at 2024-05-13T11:40:01.731147+02:00\n",
      "\"Model Created\" occurred at 2024-05-14T09:54:46.963909+02:00\n",
      "\"Model Created\" occurred at 2024-05-14T10:01:07.591192+02:00\n",
      "\"Model Created\" occurred at 2024-05-14T10:05:24.121744+02:00\n",
      "\"Model Created\" occurred at 2024-05-15T08:51:58.997273+02:00\n",
      "\"Model Created\" occurred at 2024-05-15T08:52:58.847250+02:00\n",
      "\"Model Created\" occurred at 2024-05-15T08:53:26.269209+02:00\n",
      "\"Model Created\" occurred at 2024-05-15T09:06:07.517472+02:00\n",
      "\"Model Created\" occurred at 2024-05-15T09:07:58.198988+02:00\n",
      "\"Model Created\" occurred at 2024-05-15T10:57:48.405270+02:00\n",
      "\"Version Created\" occurred at 2024-05-13T11:40:01.743678+02:00\n",
      "\"Version Created\" occurred at 2024-05-14T09:54:46.976743+02:00\n",
      "\"Version Created\" occurred at 2024-05-14T10:01:07.610643+02:00\n",
      "\"Version Created\" occurred at 2024-05-14T10:05:24.139673+02:00\n",
      "\"Version Created\" occurred at 2024-05-15T08:51:59.017055+02:00\n",
      "\"Version Created\" occurred at 2024-05-15T08:52:58.863257+02:00\n",
      "\"Version Created\" occurred at 2024-05-15T08:53:26.286462+02:00\n",
      "\"Version Created\" occurred at 2024-05-15T09:06:07.528313+02:00\n",
      "\"Version Created\" occurred at 2024-05-15T09:07:58.217834+02:00\n",
      "\"Version Created\" occurred at 2024-05-15T10:57:48.416464+02:00\n",
      "\"Version Assigned to Model\" occurred at 2024-05-13T11:40:01.750951+02:00\n",
      "\"Version Assigned to Model\" occurred at 2024-05-14T09:54:46.980369+02:00\n",
      "\"Version Assigned to Model\" occurred at 2024-05-14T10:01:07.615761+02:00\n",
      "\"Version Assigned to Model\" occurred at 2024-05-14T10:05:24.144560+02:00\n",
      "\"Version Assigned to Model\" occurred at 2024-05-15T08:51:59.026209+02:00\n",
      "\"Version Assigned to Model\" occurred at 2024-05-15T08:52:58.867822+02:00\n",
      "\"Version Assigned to Model\" occurred at 2024-05-15T08:53:26.290705+02:00\n",
      "\"Version Assigned to Model\" occurred at 2024-05-15T09:06:07.530412+02:00\n",
      "\"Version Assigned to Model\" occurred at 2024-05-15T09:07:58.222994+02:00\n",
      "\"Version Assigned to Model\" occurred at 2024-05-15T10:57:48.417966+02:00\n",
      "\"Model Layer Property Updated\" occurred at 2024-05-13T11:45:41.400199+02:00\n",
      "\"Model Grid Recalculated\" occurred at 2024-05-14T09:54:47.328028+02:00\n",
      "\"Model Time Discretization Updated\" occurred at 2024-05-14T10:01:07.629995+02:00\n",
      "\"Model Time Discretization Updated\" occurred at 2024-05-14T10:05:24.159686+02:00\n",
      "\"Model Grid Recalculated\" occurred at 2024-05-15T08:52:14.147843+02:00\n",
      "\"Model Created\" occurred at 2024-05-15T08:53:11.413126+02:00\n",
      "\"Model Grid Recalculated\" occurred at 2024-05-15T08:53:26.645422+02:00\n",
      "\"Model Grid Recalculated\" occurred at 2024-05-15T09:06:07.874030+02:00\n",
      "\"Model Grid Recalculated\" occurred at 2024-05-15T09:07:58.576431+02:00\n",
      "\"Model Time Discretization Updated\" occurred at 2024-05-15T10:57:48.426788+02:00\n",
      "\"Model Layer Property Updated\" occurred at 2024-05-13T11:47:38.289784+02:00\n",
      "\"Model Geometry Updated\" occurred at 2024-05-14T09:54:47.347946+02:00\n",
      "\"Model Layer Created\" occurred at 2024-05-14T10:01:07.652145+02:00\n",
      "\"Model Layer Created\" occurred at 2024-05-14T10:05:24.183711+02:00\n",
      "\"Model Geometry Updated\" occurred at 2024-05-15T08:52:14.166117+02:00\n",
      "\"Model Geometry Updated\" occurred at 2024-05-15T08:53:26.661767+02:00\n",
      "\"Model Geometry Updated\" occurred at 2024-05-15T09:06:07.892639+02:00\n",
      "\"Model Geometry Updated\" occurred at 2024-05-15T09:07:58.595215+02:00\n",
      "\"Model Layer Created\" occurred at 2024-05-15T10:57:48.443648+02:00\n",
      "\"Model Layer Property Updated\" occurred at 2024-05-13T12:03:12.977258+02:00\n",
      "\"Model Affected Cells Recalculated\" occurred at 2024-05-14T09:54:47.365703+02:00\n",
      "\"Model Layer Created\" occurred at 2024-05-14T10:01:07.685632+02:00\n",
      "\"Model Layer Created\" occurred at 2024-05-14T10:05:24.215067+02:00\n",
      "\"Model Affected Cells Recalculated\" occurred at 2024-05-15T08:52:14.190844+02:00\n",
      "\"Model Affected Cells Recalculated\" occurred at 2024-05-15T08:53:26.678561+02:00\n",
      "\"Model Affected Cells Recalculated\" occurred at 2024-05-15T09:06:07.909281+02:00\n",
      "\"Model Affected Cells Recalculated\" occurred at 2024-05-15T09:07:58.612059+02:00\n",
      "\"Model Layer Created\" occurred at 2024-05-15T10:57:48.471801+02:00\n",
      "\"Model Layer Property Updated\" occurred at 2024-05-13T12:03:38.521234+02:00\n",
      "\"Model Grid Updated\" occurred at 2024-05-14T09:54:47.410352+02:00\n",
      "\"Model Layer Created\" occurred at 2024-05-14T10:01:07.708540+02:00\n",
      "\"Model Layer Created\" occurred at 2024-05-14T10:05:24.236524+02:00\n",
      "\"Model Grid Updated\" occurred at 2024-05-15T08:53:26.793193+02:00\n",
      "\"Model Grid Updated\" occurred at 2024-05-15T09:06:07.949466+02:00\n",
      "\"Model Grid Updated\" occurred at 2024-05-15T09:07:58.656223+02:00\n",
      "\"Model Layer Created\" occurred at 2024-05-15T10:57:48.488734+02:00\n",
      "\"Model Layer Property Updated\" occurred at 2024-05-13T12:04:07.220114+02:00\n",
      "\"Model Affected Cells Recalculated\" occurred at 2024-05-14T09:54:47.423036+02:00\n",
      "\"Model Layer Deleted\" occurred at 2024-05-14T10:01:07.750533+02:00\n",
      "\"Model Layer Deleted\" occurred at 2024-05-14T10:05:24.269117+02:00\n",
      "\"Model Affected Cells Recalculated\" occurred at 2024-05-15T08:53:26.813213+02:00\n",
      "\"Model Affected Cells Recalculated\" occurred at 2024-05-15T09:06:07.962776+02:00\n",
      "\"Model Affected Cells Recalculated\" occurred at 2024-05-15T09:07:58.668783+02:00\n",
      "\"Model Layer Deleted\" occurred at 2024-05-15T10:57:48.517961+02:00\n",
      "\"Model Layer Property Updated\" occurred at 2024-05-13T12:06:36.150490+02:00\n",
      "\"Model Affected Cells Updated\" occurred at 2024-05-14T09:54:47.495768+02:00\n",
      "\"Model Layer Metadata Updated\" occurred at 2024-05-14T10:01:07.781997+02:00\n",
      "\"Model Layer Metadata Updated\" occurred at 2024-05-14T10:05:24.299061+02:00\n",
      "\"Model Affected Cells Updated\" occurred at 2024-05-15T08:53:26.830800+02:00\n",
      "\"Model Affected Cells Updated\" occurred at 2024-05-15T09:06:08.028341+02:00\n",
      "\"Model Affected Cells Updated\" occurred at 2024-05-15T09:07:58.736968+02:00\n",
      "\"Model Layer Metadata Updated\" occurred at 2024-05-15T10:57:48.548363+02:00\n",
      "\"Model Layer Property Updated\" occurred at 2024-05-13T12:06:43.602550+02:00\n",
      "\"Version Created\" occurred at 2024-05-14T09:54:47.519172+02:00\n",
      "\"Model Layer Property Updated\" occurred at 2024-05-14T10:02:02.350746+02:00\n",
      "\"Model Layer Property Updated\" occurred at 2024-05-14T10:05:24.333556+02:00\n",
      "\"Version Created\" occurred at 2024-05-15T08:53:26.857139+02:00\n",
      "\"Version Created\" occurred at 2024-05-15T09:06:08.048227+02:00\n",
      "\"Version Created\" occurred at 2024-05-15T09:07:58.755782+02:00\n",
      "\"Model Layer Property Updated\" occurred at 2024-05-15T10:57:48.584922+02:00\n",
      "\"Model Layer Property Updated\" occurred at 2024-05-14T08:59:22.703781+02:00\n",
      "\"Version Assigned to Model\" occurred at 2024-05-14T09:54:47.523151+02:00\n",
      "\"Model Layer Property Updated\" occurred at 2024-05-14T10:05:07.898592+02:00\n",
      "\"Model Layer Property Updated\" occurred at 2024-05-14T10:05:24.797061+02:00\n",
      "\"Version Assigned to Model\" occurred at 2024-05-15T08:53:26.860349+02:00\n",
      "\"Version Assigned to Model\" occurred at 2024-05-15T09:06:08.050502+02:00\n",
      "\"Version Assigned to Model\" occurred at 2024-05-15T09:07:58.759736+02:00\n",
      "\"Model Layer Property Updated\" occurred at 2024-05-15T10:57:49.057114+02:00\n",
      "\"Model Layer Property Updated\" occurred at 2024-05-14T09:00:47.137789+02:00\n",
      "\"Version Description Updated\" occurred at 2024-05-14T09:54:47.548467+02:00\n",
      "\"Version Description Updated\" occurred at 2024-05-15T08:53:26.889492+02:00\n",
      "\"Version Description Updated\" occurred at 2024-05-15T09:06:08.073145+02:00\n",
      "\"Version Description Updated\" occurred at 2024-05-15T09:07:58.785107+02:00\n",
      "\"Model Layer Property Updated\" occurred at 2024-05-14T09:00:50.055351+02:00\n",
      "\"Version Description Updated\" occurred at 2024-05-15T08:53:52.430379+02:00\n",
      "\"Model Boundary Added\" occurred at 2024-05-15T09:06:08.092344+02:00\n",
      "\"Model Boundary Added\" occurred at 2024-05-15T09:07:58.813137+02:00\n",
      "\"Model Layer Property Updated\" occurred at 2024-05-14T09:01:12.268040+02:00\n",
      "\"Model Boundary Added\" occurred at 2024-05-15T09:02:59.328591+02:00\n",
      "\"Model Boundary Removed\" occurred at 2024-05-15T09:07:58.838453+02:00\n",
      "\"Model Layer Property Updated\" occurred at 2024-05-14T09:01:40.658083+02:00\n",
      "\"Model Layer Property Updated\" occurred at 2024-05-14T09:01:52.792720+02:00\n",
      "\"Model Layer Property Updated\" occurred at 2024-05-14T09:02:12.509807+02:00\n",
      "\"Model Layer Property Updated\" occurred at 2024-05-14T09:02:31.220776+02:00\n",
      "\"Model Layer Property Updated\" occurred at 2024-05-14T09:02:54.311458+02:00\n",
      "\"Model Layer Property Updated\" occurred at 2024-05-14T09:03:12.643473+02:00\n",
      "Found 30 project summaries\n",
      "Project 494949ef-dd5c-4eb9-8155-70ceff675942: Rio Primero\n",
      "Project eb19084e-fb17-4440-9139-f8d24db2e267: Project 0\n",
      "Project a2a44d01-0a99-4674-87ed-e02494f0ef54: Project 1\n",
      "Project 6f0288b8-9493-4f1e-8d4e-76efb41b0c3e: Project 2\n",
      "Project 9f190cb6-6ece-43c1-8a36-48a43c398976: Project 3\n",
      "Project dfe2a535-4530-45d4-afda-c0300411fea4: Project 4\n",
      "Project 7e0fc7c6-cdae-4b78-a681-a5922ea8205f: Project 5\n",
      "Project a392705a-357d-4840-b695-31188e347383: Project 6\n",
      "Project 6f5cd25d-aeee-4ec1-92c5-4424eb0b8161: Project 7\n",
      "Project 101183ee-9f7b-4372-ae52-55ee21fea8b8: Project 8\n",
      "Project b3f777e6-8a0e-46b7-9119-8469ee71452c: Project 9\n",
      "Project 9c392b58-67c8-4958-a284-d64cdf70c21b: Project 1\n",
      "Project c8016bd0-e219-40bc-80fb-3c2501d7cbcd: Rio Primero 123\n",
      "Project aba1deaa-3baf-4626-8793-d8acf666edf9: Rio Primero 123\n",
      "Project 50c86de5-94ee-4287-a18a-8d5909c62884: Project 1\n",
      "Project 0be79a0c-2be7-426d-be57-b4503c71f799: Project 1\n",
      "Project 84dade68-0939-4b0a-ab44-2ebff0c8b8a4: Project 1\n",
      "Project 32b170da-804b-4c69-9c91-6d8bce5bc0ea: Project 1\n",
      "Project 8dcc928b-998c-4a97-a46b-677e601bedfd: Project 1\n",
      "Project 9c27f3cb-dffe-46d2-8442-abcd8a791fc6: Rio Primero 123\n",
      "Project 25b211a2-abae-42f5-aaf7-b9aae64b836f: Project 0\n",
      "Project f0f458da-e218-4e3b-9493-8495a316f557: Project 1\n",
      "Project d56c43e9-dc25-4bac-9f77-fc390c3882f1: Project 2\n",
      "Project b77a70c1-52f7-469b-b00d-c17c4d90e055: Project 3\n",
      "Project 2b0b1b46-4e93-4aca-928e-da897ac71dc0: Project 4\n",
      "Project 965e8912-1687-42ae-8778-f2a29aeb55f9: Project 5\n",
      "Project 0900101c-06ca-4399-b852-922e16907e4d: Project 6\n",
      "Project 1bf9e404-2128-498e-86f9-d328a895c03c: Project 7\n",
      "Project 6b932e06-0c69-49a1-9c2b-9bdcf8688858: Project 8\n",
      "Project d149f253-203a-4869-a8a9-30ec44953cc6: Project 9\n"
     ]
    }
   ],
   "execution_count": 3
  },
  {
   "cell_type": "markdown",
   "source": [
    "# Reproject project summaries"
   ],
   "metadata": {
    "collapsed": false
   },
   "id": "cde69ee770d30fc1"
  },
  {
   "cell_type": "code",
   "source": [
    "from morpheus.project.presentation.cli.ProjectionCliCommands import ReprojectProjectSummariesCliCommand\n",
    "\n",
    "ReprojectProjectSummariesCliCommand.run()"
   ],
   "metadata": {
    "collapsed": false,
    "ExecuteTime": {
     "end_time": "2024-05-15T08:58:37.018631Z",
     "start_time": "2024-05-15T08:58:36.935064Z"
    }
   },
   "id": "d2717a59e00a53d1",
   "outputs": [
    {
     "name": "stdout",
     "output_type": "stream",
     "text": [
      "\u001B[1mReprojecting project summaries\u001B[0m\n",
      "\u001B[1m------------------------------\u001B[0m\n",
      "\u001B[0m\n",
      "Found 146 events\u001B[0m\n",
      "Reset projection\u001B[0m\n",
      "\u001B[32mSuccessfully reprojected project summaries\u001B[0m\n"
     ]
    }
   ],
   "execution_count": 4
  },
  {
   "cell_type": "code",
   "source": [
    "project_summaries = project_summary_repository.find_all()\n",
    "print(f'Found {len(project_summaries)} project summaries')\n",
    "for project_summary in project_summaries:\n",
    "  print(f'Project {project_summary.project_id.to_str()}: {project_summary.project_name.to_str()}')"
   ],
   "metadata": {
    "collapsed": false,
    "ExecuteTime": {
     "end_time": "2024-05-15T08:58:37.025919Z",
     "start_time": "2024-05-15T08:58:37.020411Z"
    }
   },
   "id": "63d49a5f72c7f9c2",
   "outputs": [
    {
     "name": "stdout",
     "output_type": "stream",
     "text": [
      "Found 30 project summaries\n",
      "Project 494949ef-dd5c-4eb9-8155-70ceff675942: Rio Primero\n",
      "Project eb19084e-fb17-4440-9139-f8d24db2e267: Project 0\n",
      "Project a2a44d01-0a99-4674-87ed-e02494f0ef54: Project 1\n",
      "Project 6f0288b8-9493-4f1e-8d4e-76efb41b0c3e: Project 2\n",
      "Project 9f190cb6-6ece-43c1-8a36-48a43c398976: Project 3\n",
      "Project dfe2a535-4530-45d4-afda-c0300411fea4: Project 4\n",
      "Project 7e0fc7c6-cdae-4b78-a681-a5922ea8205f: Project 5\n",
      "Project a392705a-357d-4840-b695-31188e347383: Project 6\n",
      "Project 6f5cd25d-aeee-4ec1-92c5-4424eb0b8161: Project 7\n",
      "Project 101183ee-9f7b-4372-ae52-55ee21fea8b8: Project 8\n",
      "Project b3f777e6-8a0e-46b7-9119-8469ee71452c: Project 9\n",
      "Project 9c392b58-67c8-4958-a284-d64cdf70c21b: Project 1\n",
      "Project c8016bd0-e219-40bc-80fb-3c2501d7cbcd: Rio Primero 123\n",
      "Project aba1deaa-3baf-4626-8793-d8acf666edf9: Rio Primero 123\n",
      "Project 50c86de5-94ee-4287-a18a-8d5909c62884: Project 1\n",
      "Project 0be79a0c-2be7-426d-be57-b4503c71f799: Project 1\n",
      "Project 84dade68-0939-4b0a-ab44-2ebff0c8b8a4: Project 1\n",
      "Project 32b170da-804b-4c69-9c91-6d8bce5bc0ea: Project 1\n",
      "Project 8dcc928b-998c-4a97-a46b-677e601bedfd: Project 1\n",
      "Project 9c27f3cb-dffe-46d2-8442-abcd8a791fc6: Rio Primero 123\n",
      "Project 25b211a2-abae-42f5-aaf7-b9aae64b836f: Project 0\n",
      "Project f0f458da-e218-4e3b-9493-8495a316f557: Project 1\n",
      "Project d56c43e9-dc25-4bac-9f77-fc390c3882f1: Project 2\n",
      "Project b77a70c1-52f7-469b-b00d-c17c4d90e055: Project 3\n",
      "Project 2b0b1b46-4e93-4aca-928e-da897ac71dc0: Project 4\n",
      "Project 965e8912-1687-42ae-8778-f2a29aeb55f9: Project 5\n",
      "Project 0900101c-06ca-4399-b852-922e16907e4d: Project 6\n",
      "Project 1bf9e404-2128-498e-86f9-d328a895c03c: Project 7\n",
      "Project 6b932e06-0c69-49a1-9c2b-9bdcf8688858: Project 8\n",
      "Project d149f253-203a-4869-a8a9-30ec44953cc6: Project 9\n"
     ]
    }
   ],
   "execution_count": 5
  }
 ],
 "metadata": {
  "kernelspec": {
   "display_name": "Python 3",
   "language": "python",
   "name": "python3"
  },
  "language_info": {
   "codemirror_mode": {
    "name": "ipython",
    "version": 2
   },
   "file_extension": ".py",
   "mimetype": "text/x-python",
   "name": "python",
   "nbconvert_exporter": "python",
   "pygments_lexer": "ipython2",
   "version": "2.7.6"
  }
 },
 "nbformat": 4,
 "nbformat_minor": 5
}
