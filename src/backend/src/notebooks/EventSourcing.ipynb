{
 "cells": [
  {
   "cell_type": "markdown",
   "source": [
    "# Listeners must have arguments \"event\" and \"metadata\" with proper types"
   ],
   "metadata": {
    "collapsed": false
   },
   "id": "740a87482c1f1624"
  },
  {
   "cell_type": "code",
   "outputs": [],
   "source": [
    "from morpheus.common.types.event_sourcing.EventMetadata import EventMetadata\n",
    "from morpheus.modflow.domain.events.ProjectEvents import ProjectCreatedEvent\n",
    "from morpheus.common.infrastructure.event_sourcing.EventPublisher import EventPublisher, listen_to\n",
    "\n",
    "\n",
    "class Invalid:\n",
    "  pass\n",
    "\n",
    "\n",
    "class ProjectorInvalid0:\n",
    "  @listen_to(ProjectCreatedEvent)\n",
    "  def on_project_created(self):\n",
    "    print('Created project')\n",
    "\n",
    "\n",
    "class ProjectorInvalid1:\n",
    "  @listen_to(ProjectCreatedEvent)\n",
    "  def on_project_created(self, invalid: ProjectCreatedEvent, metadata: EventMetadata):\n",
    "    print('Created project')\n",
    "\n",
    "\n",
    "class ProjectorInvalid2:\n",
    "  @listen_to(ProjectCreatedEvent)\n",
    "  def on_project_created(self, event: ProjectCreatedEvent, invalid: EventMetadata):\n",
    "    print('Created project')\n",
    "\n",
    "\n",
    "class ProjectorInvalid3:\n",
    "  @listen_to(ProjectCreatedEvent)\n",
    "  def on_project_created(self, event: Invalid, metadata: EventMetadata):\n",
    "    print('Created project')\n",
    "\n",
    "\n",
    "class ProjectorInvalid4:\n",
    "  @listen_to(ProjectCreatedEvent)\n",
    "  def on_project_created(self, event: ProjectCreatedEvent, metadata: Invalid):\n",
    "    print('Created project')\n",
    "\n",
    "\n",
    "event_publisher = EventPublisher()\n",
    "try:\n",
    "  projector = ProjectorInvalid0()\n",
    "  event_publisher.register(projector)\n",
    "except Exception as e:\n",
    "  print(e)\n",
    "\n",
    "try:\n",
    "  projector = ProjectorInvalid1()\n",
    "  event_publisher.register(projector)\n",
    "except Exception as e:\n",
    "  print(e)\n",
    "\n",
    "try:\n",
    "  projector = ProjectorInvalid2()\n",
    "  event_publisher.register(projector)\n",
    "except Exception as e:\n",
    "  print(e)\n",
    "\n",
    "try:\n",
    "  projector = ProjectorInvalid3()\n",
    "  event_publisher.register(projector)\n",
    "except Exception as e:\n",
    "  print(e)\n",
    "\n",
    "try:\n",
    "  projector = ProjectorInvalid4()\n",
    "  event_publisher.register(projector)\n",
    "except Exception as e:\n",
    "  print(e)"
   ],
   "metadata": {
    "collapsed": false
   },
   "id": "932b4fe5bd839f2",
   "execution_count": null
  },
  {
   "cell_type": "markdown",
   "source": [
    "# Cannot register same listener twice"
   ],
   "metadata": {
    "collapsed": false
   },
   "id": "9d52b120aa989d1f"
  },
  {
   "cell_type": "code",
   "outputs": [],
   "source": [
    "class Projector:\n",
    "  @listen_to(ProjectCreatedEvent)\n",
    "  def on_project_created(self, event: ProjectCreatedEvent, metadata: EventMetadata):\n",
    "    print(f'Created project {event.get_project_id()} with metadata {metadata}')\n",
    "\n",
    "\n",
    "try:\n",
    "  event_publisher = EventPublisher()\n",
    "  projector = Projector()\n",
    "  event_publisher.register(projector)\n",
    "  event_publisher.register(projector)\n",
    "except Exception as e:\n",
    "  print(e)"
   ],
   "metadata": {
    "collapsed": false
   },
   "id": "56155ec2f19c768d",
   "execution_count": null
  },
  {
   "cell_type": "markdown",
   "source": [
    "# Create projects"
   ],
   "metadata": {
    "collapsed": false
   },
   "id": "22380477da429c5d"
  },
  {
   "cell_type": "code",
   "execution_count": null,
   "outputs": [],
   "source": [
    "from random import randrange\n",
    "from morpheus.modflow.infrastructure.persistence.ProjectSummaryProjection import project_summary_projection\n",
    "from morpheus.modflow.infrastructure.event_sourcing.ModflowEventStore import modflow_event_store\n",
    "from morpheus.modflow.types.User import UserId\n",
    "from morpheus.modflow.types.Project import ProjectId, Name, Description, Tags\n",
    "from morpheus.modflow.application.write.ProjectCommandHandlers import CreateProjectCommand, CreateProjectCommandHandler\n",
    "\n",
    "for i in range(10):\n",
    "  create_project_command = CreateProjectCommand(\n",
    "    project_id=ProjectId.new(),\n",
    "    name=Name.from_str(f'Project {i}'),\n",
    "    description=Description.from_str(f'Description {i}'),\n",
    "    tags=Tags.from_list([f'tag{i}', f'tag{i+1}']),\n",
    "    created_by=UserId.new()\n",
    "  )\n",
    "  CreateProjectCommandHandler.handle(create_project_command)\n",
    "\n",
    "event_envelopes = modflow_event_store.get_all_events_ordered_by_version()\n",
    "print(f'Found {len(event_envelopes)} events')\n",
    "for event_envelope in event_envelopes:\n",
    "  print(f'\"{event_envelope.get_event().get_event_name().to_str()}\" occurred at {event_envelope.get_occurred_at().to_iso_with_timezone()}')\n",
    "  \n",
    "project_summaries = project_summary_projection.find_all()\n",
    "print(f'Found {len(project_summaries)} project summaries')\n",
    "for project_summary in project_summaries:\n",
    "  print(f'Project {project_summary.project_id.to_str()}: {project_summary.project_name.to_str()}')"
   ],
   "metadata": {
    "collapsed": false
   },
   "id": "7db50a89dc6391e5"
  },
  {
   "cell_type": "markdown",
   "source": [
    "# Reproject project summaries"
   ],
   "metadata": {
    "collapsed": false
   },
   "id": "cde69ee770d30fc1"
  },
  {
   "cell_type": "code",
   "outputs": [],
   "source": [
    "from morpheus.modflow.presentation.cli.ProjectionCliCommands import ReprojectProjectSummariesCliCommand\n",
    "\n",
    "ReprojectProjectSummariesCliCommand.run()"
   ],
   "metadata": {
    "collapsed": false
   },
   "id": "d2717a59e00a53d1",
   "execution_count": null
  },
  {
   "cell_type": "code",
   "outputs": [],
   "source": [
    "project_summaries = project_summary_projection.find_all()\n",
    "print(f'Found {len(project_summaries)} project summaries')\n",
    "for project_summary in project_summaries:\n",
    "  print(f'Project {project_summary.project_id.to_str()}: {project_summary.project_name.to_str()}')"
   ],
   "metadata": {
    "collapsed": false
   },
   "id": "63d49a5f72c7f9c2",
   "execution_count": null
  },
  {
   "cell_type": "code",
   "outputs": [],
   "source": [],
   "metadata": {
    "collapsed": false
   },
   "id": "f054092d2ca6f17",
   "execution_count": null
  }
 ],
 "metadata": {
  "kernelspec": {
   "display_name": "Python 3",
   "language": "python",
   "name": "python3"
  },
  "language_info": {
   "codemirror_mode": {
    "name": "ipython",
    "version": 2
   },
   "file_extension": ".py",
   "mimetype": "text/x-python",
   "name": "python",
   "nbconvert_exporter": "python",
   "pygments_lexer": "ipython2",
   "version": "2.7.6"
  }
 },
 "nbformat": 4,
 "nbformat_minor": 5
}
