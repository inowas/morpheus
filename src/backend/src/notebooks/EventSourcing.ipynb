{
 "cells": [
  {
   "cell_type": "markdown",
   "id": "740a87482c1f1624",
   "metadata": {
    "papermill": {
     "duration": 0.005601,
     "end_time": "2024-05-15T16:00:46.765789",
     "exception": false,
     "start_time": "2024-05-15T16:00:46.760188",
     "status": "completed"
    },
    "tags": []
   },
   "source": [
    "# Listeners must have arguments \"event\" and \"metadata\" with proper types"
   ]
  },
  {
   "cell_type": "code",
   "execution_count": 1,
   "id": "932b4fe5bd839f2",
   "metadata": {
    "ExecuteTime": {
     "end_time": "2024-05-15T08:58:36.248014Z",
     "start_time": "2024-05-15T08:58:35.244337Z"
    },
    "collapsed": false,
    "execution": {
     "iopub.execute_input": "2024-05-15T16:00:46.771573Z",
     "iopub.status.busy": "2024-05-15T16:00:46.771338Z",
     "iopub.status.idle": "2024-05-15T16:00:47.804377Z",
     "shell.execute_reply": "2024-05-15T16:00:47.804019Z"
    },
    "papermill": {
     "duration": 1.037111,
     "end_time": "2024-05-15T16:00:47.805447",
     "exception": false,
     "start_time": "2024-05-15T16:00:46.768336",
     "status": "completed"
    },
    "tags": []
   },
   "outputs": [
    {
     "name": "stdout",
     "output_type": "stream",
     "text": [
      "Event listener <bound method ProjectorInvalid0.on_project_created of <__main__.ProjectorInvalid0 object at 0x151050c50>> must have an argument called \"event\" that should by type hinted with a subclass of EventBase\n",
      "Event listener <bound method ProjectorInvalid1.on_project_created of <__main__.ProjectorInvalid1 object at 0x150d5a6c0>> must have an argument called \"event\" that should by type hinted with a subclass of EventBase\n",
      "Event listener <bound method ProjectorInvalid2.on_project_created of <__main__.ProjectorInvalid2 object at 0x151695010>> must have an argument called \"metadata\" that should by type hinted with a subclass of EventMetadata\n",
      "Event listener <bound method ProjectorInvalid3.on_project_created of <__main__.ProjectorInvalid3 object at 0x15167c350>> must have an argument called \"event\" that should by type hinted with a subclass of EventBase\n",
      "Event listener <bound method ProjectorInvalid4.on_project_created of <__main__.ProjectorInvalid4 object at 0x151695010>> must have an argument called \"metadata\" that should by type hinted with a subclass of EventMetadata\n"
     ]
    }
   ],
   "source": [
    "from morpheus.project.domain.events.ProjectEvents.ProjectEvents import ProjectCreatedEvent\n",
    "from morpheus.common.types.event_sourcing.EventMetadata import EventMetadata\n",
    "from morpheus.common.infrastructure.event_sourcing.EventPublisher import EventPublisher, listen_to\n",
    "\n",
    "\n",
    "class Invalid:\n",
    "  pass\n",
    "\n",
    "\n",
    "class ProjectorInvalid0:\n",
    "  @listen_to(ProjectCreatedEvent)\n",
    "  def on_project_created(self):\n",
    "    print('Created project')\n",
    "\n",
    "\n",
    "class ProjectorInvalid1:\n",
    "  @listen_to(ProjectCreatedEvent)\n",
    "  def on_project_created(self, invalid: ProjectCreatedEvent, metadata: EventMetadata):\n",
    "    print('Created project')\n",
    "\n",
    "\n",
    "class ProjectorInvalid2:\n",
    "  @listen_to(ProjectCreatedEvent)\n",
    "  def on_project_created(self, event: ProjectCreatedEvent, invalid: EventMetadata):\n",
    "    print('Created project')\n",
    "\n",
    "\n",
    "class ProjectorInvalid3:\n",
    "  @listen_to(ProjectCreatedEvent)\n",
    "  def on_project_created(self, event: Invalid, metadata: EventMetadata):\n",
    "    print('Created project')\n",
    "\n",
    "\n",
    "class ProjectorInvalid4:\n",
    "  @listen_to(ProjectCreatedEvent)\n",
    "  def on_project_created(self, event: ProjectCreatedEvent, metadata: Invalid):\n",
    "    print('Created project')\n",
    "\n",
    "\n",
    "event_publisher = EventPublisher()\n",
    "try:\n",
    "  projector = ProjectorInvalid0()\n",
    "  event_publisher.register(projector)\n",
    "except Exception as e:\n",
    "  print(e)\n",
    "\n",
    "try:\n",
    "  projector = ProjectorInvalid1()\n",
    "  event_publisher.register(projector)\n",
    "except Exception as e:\n",
    "  print(e)\n",
    "\n",
    "try:\n",
    "  projector = ProjectorInvalid2()\n",
    "  event_publisher.register(projector)\n",
    "except Exception as e:\n",
    "  print(e)\n",
    "\n",
    "try:\n",
    "  projector = ProjectorInvalid3()\n",
    "  event_publisher.register(projector)\n",
    "except Exception as e:\n",
    "  print(e)\n",
    "\n",
    "try:\n",
    "  projector = ProjectorInvalid4()\n",
    "  event_publisher.register(projector)\n",
    "except Exception as e:\n",
    "  print(e)"
   ]
  },
  {
   "cell_type": "markdown",
   "id": "9d52b120aa989d1f",
   "metadata": {
    "collapsed": false,
    "papermill": {
     "duration": 0.001104,
     "end_time": "2024-05-15T16:00:47.808220",
     "exception": false,
     "start_time": "2024-05-15T16:00:47.807116",
     "status": "completed"
    },
    "tags": []
   },
   "source": [
    "# Cannot register same listener twice"
   ]
  },
  {
   "cell_type": "code",
   "execution_count": 2,
   "id": "56155ec2f19c768d",
   "metadata": {
    "ExecuteTime": {
     "end_time": "2024-05-15T08:58:36.253529Z",
     "start_time": "2024-05-15T08:58:36.249966Z"
    },
    "collapsed": false,
    "execution": {
     "iopub.execute_input": "2024-05-15T16:00:47.811271Z",
     "iopub.status.busy": "2024-05-15T16:00:47.810984Z",
     "iopub.status.idle": "2024-05-15T16:00:47.813856Z",
     "shell.execute_reply": "2024-05-15T16:00:47.813591Z"
    },
    "papermill": {
     "duration": 0.005472,
     "end_time": "2024-05-15T16:00:47.814719",
     "exception": false,
     "start_time": "2024-05-15T16:00:47.809247",
     "status": "completed"
    },
    "tags": []
   },
   "outputs": [
    {
     "name": "stdout",
     "output_type": "stream",
     "text": [
      "Event handler already registered\n"
     ]
    }
   ],
   "source": [
    "class Projector:\n",
    "  @listen_to(ProjectCreatedEvent)\n",
    "  def on_project_created(self, event: ProjectCreatedEvent, metadata: EventMetadata):\n",
    "    print(f'Created project {event.get_project_id()} with metadata {metadata}')\n",
    "\n",
    "\n",
    "try:\n",
    "  event_publisher = EventPublisher()\n",
    "  projector = Projector()\n",
    "  event_publisher.register(projector)\n",
    "  event_publisher.register(projector)\n",
    "except Exception as e:\n",
    "  print(e)"
   ]
  },
  {
   "cell_type": "markdown",
   "id": "22380477da429c5d",
   "metadata": {
    "collapsed": false,
    "papermill": {
     "duration": 0.001031,
     "end_time": "2024-05-15T16:00:47.816905",
     "exception": false,
     "start_time": "2024-05-15T16:00:47.815874",
     "status": "completed"
    },
    "tags": []
   },
   "source": [
    "# Create projects"
   ]
  },
  {
   "cell_type": "code",
   "execution_count": 3,
   "id": "7db50a89dc6391e5",
   "metadata": {
    "ExecuteTime": {
     "end_time": "2024-05-15T08:58:36.934239Z",
     "start_time": "2024-05-15T08:58:36.254448Z"
    },
    "collapsed": false,
    "execution": {
     "iopub.execute_input": "2024-05-15T16:00:47.819708Z",
     "iopub.status.busy": "2024-05-15T16:00:47.819596Z",
     "iopub.status.idle": "2024-05-15T16:00:48.511230Z",
     "shell.execute_reply": "2024-05-15T16:00:48.510898Z"
    },
    "papermill": {
     "duration": 0.694227,
     "end_time": "2024-05-15T16:00:48.512201",
     "exception": false,
     "start_time": "2024-05-15T16:00:47.817974",
     "status": "completed"
    },
    "tags": []
   },
   "outputs": [
    {
     "name": "stdout",
     "output_type": "stream",
     "text": [
      "Found 96 events\n",
      "\"Project Created\" occurred at 2024-05-15T17:53:42.470799+02:00\n",
      "\"Project Created\" occurred at 2024-05-15T17:54:23.911969+02:00\n",
      "\"Project Created\" occurred at 2024-05-15T17:54:23.915577+02:00\n",
      "\"Project Created\" occurred at 2024-05-15T17:54:23.918578+02:00\n",
      "\"Project Created\" occurred at 2024-05-15T17:54:23.920759+02:00\n",
      "\"Project Created\" occurred at 2024-05-15T17:54:23.922801+02:00\n",
      "\"Project Created\" occurred at 2024-05-15T17:54:23.924870+02:00\n",
      "\"Project Created\" occurred at 2024-05-15T17:54:23.927211+02:00\n",
      "\"Project Created\" occurred at 2024-05-15T17:54:23.929731+02:00\n",
      "\"Project Created\" occurred at 2024-05-15T17:54:23.932228+02:00\n",
      "\"Project Created\" occurred at 2024-05-15T17:54:23.934704+02:00\n",
      "\"Project Created\" occurred at 2024-05-15T17:54:32.283133+02:00\n",
      "\"Project Created\" occurred at 2024-05-15T17:55:38.175894+02:00\n",
      "\"Project Created\" occurred at 2024-05-15T17:56:19.510356+02:00\n",
      "\"Project Created\" occurred at 2024-05-15T17:56:19.537236+02:00\n",
      "\"Project Created\" occurred at 2024-05-15T17:56:19.543790+02:00\n",
      "\"Project Created\" occurred at 2024-05-15T17:56:19.554565+02:00\n",
      "\"Project Created\" occurred at 2024-05-15T17:56:19.559495+02:00\n",
      "\"Project Created\" occurred at 2024-05-15T17:56:19.565730+02:00\n",
      "\"Project Created\" occurred at 2024-05-15T17:56:19.571179+02:00\n",
      "\"Project Created\" occurred at 2024-05-15T17:56:19.577151+02:00\n",
      "\"Project Created\" occurred at 2024-05-15T17:56:19.586233+02:00\n",
      "\"Project Created\" occurred at 2024-05-15T17:56:19.598941+02:00\n",
      "\"Project Created\" occurred at 2024-05-15T17:56:26.916804+02:00\n",
      "\"Project Created\" occurred at 2024-05-15T18:00:04.969203+02:00\n",
      "\"Project Created\" occurred at 2024-05-15T18:00:48.474322+02:00\n",
      "\"Project Created\" occurred at 2024-05-15T18:00:48.480167+02:00\n",
      "\"Project Created\" occurred at 2024-05-15T18:00:48.482502+02:00\n",
      "\"Project Created\" occurred at 2024-05-15T18:00:48.484784+02:00\n",
      "\"Project Created\" occurred at 2024-05-15T18:00:48.486981+02:00\n",
      "\"Project Created\" occurred at 2024-05-15T18:00:48.489649+02:00\n",
      "\"Project Created\" occurred at 2024-05-15T18:00:48.492217+02:00\n",
      "\"Project Created\" occurred at 2024-05-15T18:00:48.494904+02:00\n",
      "\"Project Created\" occurred at 2024-05-15T18:00:48.497602+02:00\n",
      "\"Project Created\" occurred at 2024-05-15T18:00:48.500174+02:00\n",
      "\"Model Created\" occurred at 2024-05-15T17:53:42.767506+02:00\n",
      "\"Model Created\" occurred at 2024-05-15T17:54:32.769619+02:00\n",
      "\"Model Created\" occurred at 2024-05-15T17:55:38.473539+02:00\n",
      "\"Model Created\" occurred at 2024-05-15T17:56:27.240616+02:00\n",
      "\"Model Created\" occurred at 2024-05-15T18:00:05.255408+02:00\n",
      "\"Version Created\" occurred at 2024-05-15T17:53:42.787177+02:00\n",
      "\"Version Created\" occurred at 2024-05-15T17:54:32.787343+02:00\n",
      "\"Version Created\" occurred at 2024-05-15T17:55:38.491380+02:00\n",
      "\"Version Created\" occurred at 2024-05-15T17:56:27.251659+02:00\n",
      "\"Version Created\" occurred at 2024-05-15T18:00:05.275118+02:00\n",
      "\"Version Assigned to Model\" occurred at 2024-05-15T17:53:42.790257+02:00\n",
      "\"Version Assigned to Model\" occurred at 2024-05-15T17:54:32.790018+02:00\n",
      "\"Version Assigned to Model\" occurred at 2024-05-15T17:55:38.495487+02:00\n",
      "\"Version Assigned to Model\" occurred at 2024-05-15T17:56:27.253276+02:00\n",
      "\"Version Assigned to Model\" occurred at 2024-05-15T18:00:05.277965+02:00\n",
      "\"Model Time Discretization Updated\" occurred at 2024-05-15T17:53:42.815306+02:00\n",
      "\"Model Grid Recalculated\" occurred at 2024-05-15T17:54:33.175783+02:00\n",
      "\"Model Time Discretization Updated\" occurred at 2024-05-15T17:55:38.521385+02:00\n",
      "\"Model Grid Recalculated\" occurred at 2024-05-15T17:56:27.628561+02:00\n",
      "\"Model Time Discretization Updated\" occurred at 2024-05-15T18:00:05.300934+02:00\n",
      "\"Model Layer Created\" occurred at 2024-05-15T17:53:42.852505+02:00\n",
      "\"Model Geometry Updated\" occurred at 2024-05-15T17:54:33.191111+02:00\n",
      "\"Model Layer Created\" occurred at 2024-05-15T17:55:38.551347+02:00\n",
      "\"Model Geometry Updated\" occurred at 2024-05-15T17:56:27.646350+02:00\n",
      "\"Model Layer Created\" occurred at 2024-05-15T18:00:05.325493+02:00\n",
      "\"Model Layer Created\" occurred at 2024-05-15T17:53:42.895802+02:00\n",
      "\"Model Affected Cells Recalculated\" occurred at 2024-05-15T17:54:33.205220+02:00\n",
      "\"Model Layer Created\" occurred at 2024-05-15T17:55:38.595651+02:00\n",
      "\"Model Affected Cells Recalculated\" occurred at 2024-05-15T17:56:27.662060+02:00\n",
      "\"Model Layer Created\" occurred at 2024-05-15T18:00:05.362753+02:00\n",
      "\"Model Layer Created\" occurred at 2024-05-15T17:53:42.926910+02:00\n",
      "\"Model Grid Updated\" occurred at 2024-05-15T17:54:33.257942+02:00\n",
      "\"Model Layer Created\" occurred at 2024-05-15T17:55:38.626885+02:00\n",
      "\"Model Grid Updated\" occurred at 2024-05-15T17:56:27.716296+02:00\n",
      "\"Model Layer Created\" occurred at 2024-05-15T18:00:05.384402+02:00\n",
      "\"Model Layer Deleted\" occurred at 2024-05-15T17:53:42.971254+02:00\n",
      "\"Model Affected Cells Recalculated\" occurred at 2024-05-15T17:54:33.269479+02:00\n",
      "\"Model Layer Deleted\" occurred at 2024-05-15T17:55:38.674395+02:00\n",
      "\"Model Affected Cells Recalculated\" occurred at 2024-05-15T17:56:27.729550+02:00\n",
      "\"Model Layer Deleted\" occurred at 2024-05-15T18:00:05.418311+02:00\n",
      "\"Model Layer Metadata Updated\" occurred at 2024-05-15T17:53:43.009336+02:00\n",
      "\"Model Affected Cells Updated\" occurred at 2024-05-15T17:54:33.340091+02:00\n",
      "\"Model Layer Metadata Updated\" occurred at 2024-05-15T17:55:38.714038+02:00\n",
      "\"Model Affected Cells Updated\" occurred at 2024-05-15T17:56:27.799680+02:00\n",
      "\"Model Layer Metadata Updated\" occurred at 2024-05-15T18:00:05.450376+02:00\n",
      "\"Model Layer Property Updated\" occurred at 2024-05-15T17:53:43.056558+02:00\n",
      "\"Version Created\" occurred at 2024-05-15T17:54:33.393590+02:00\n",
      "\"Model Layer Property Updated\" occurred at 2024-05-15T17:55:38.759377+02:00\n",
      "\"Version Created\" occurred at 2024-05-15T17:56:27.852313+02:00\n",
      "\"Model Layer Property Updated\" occurred at 2024-05-15T18:00:05.492086+02:00\n",
      "\"Model Layer Property Updated\" occurred at 2024-05-15T17:53:43.520847+02:00\n",
      "\"Version Assigned to Model\" occurred at 2024-05-15T17:54:33.399133+02:00\n",
      "\"Model Layer Property Updated\" occurred at 2024-05-15T17:55:39.233364+02:00\n",
      "\"Version Assigned to Model\" occurred at 2024-05-15T17:56:27.858618+02:00\n",
      "\"Model Layer Property Updated\" occurred at 2024-05-15T18:00:05.988136+02:00\n",
      "\"Version Description Updated\" occurred at 2024-05-15T17:54:33.441164+02:00\n",
      "\"Version Description Updated\" occurred at 2024-05-15T17:56:27.903211+02:00\n",
      "\"Model Boundary Added\" occurred at 2024-05-15T17:54:33.484582+02:00\n",
      "\"Model Boundary Added\" occurred at 2024-05-15T17:56:27.945071+02:00\n",
      "\"Model Boundary Removed\" occurred at 2024-05-15T17:54:33.529636+02:00\n",
      "\"Model Boundary Removed\" occurred at 2024-05-15T17:56:27.993195+02:00\n",
      "Found 35 project summaries\n",
      "Project 8478ddf7-1c43-4aee-969e-af7dbdac18bc: Rio Primero 123\n",
      "Project e0166ed1-82ae-4f82-b154-9276aa81f1fa: Project 0\n",
      "Project b27d541b-e183-4083-9071-8804fd5d1b25: Project 1\n",
      "Project 2ffca3ac-1fcc-4bd5-ac14-215f1a3da7a0: Project 2\n",
      "Project e5194429-1545-42f2-926c-08078c49cd0b: Project 3\n",
      "Project c08af565-d1c8-4679-927b-5de8f4e3aa00: Project 4\n",
      "Project 05c4a721-0b33-450a-85ff-1653b4864099: Project 5\n",
      "Project 410442a3-a7b7-4748-8dc9-8d75ae41d0cd: Project 6\n",
      "Project 25212285-cc7e-4da7-a555-7a8dc2285ae7: Project 7\n",
      "Project f877bbc8-a10d-43d3-8f2f-0e05b52ad65c: Project 8\n",
      "Project 5f62697c-8ad7-4749-8442-211c3e9dd64b: Project 9\n",
      "Project b88a50eb-2ffc-4142-9dbf-7324ff5a0930: Project 1\n",
      "Project 60610a3c-89f8-459d-aef4-8b415c51d216: Rio Primero 123\n",
      "Project 2f86c914-3848-4c4d-8893-c94777901be4: Project 0\n",
      "Project 15627578-1ebb-47da-9701-0a538aa892f7: Project 1\n",
      "Project ec8bd73a-45c7-4d81-a338-228525e71357: Project 2\n",
      "Project 9ab27c4b-9c40-4068-b466-86c0a00ec256: Project 3\n",
      "Project 8095e4a4-27f5-4ec5-835a-164af8d93ba5: Project 4\n",
      "Project b4260bd7-1dad-4375-a8b3-97c87c13ecd8: Project 5\n",
      "Project e0ae141e-2447-4daa-930e-cbaa48c27621: Project 6\n",
      "Project 0f981386-5ee0-43e4-b000-b44004705616: Project 7\n",
      "Project 9bc4e70f-b084-4b74-8da0-8c493ab45371: Project 8\n",
      "Project 37d7f4e7-cdcd-4c9f-afb3-d12fa9348b6a: Project 9\n",
      "Project cdb89c26-ad0a-4ec6-9888-dc8423665a9c: Project 1\n",
      "Project cf110691-5bb0-4975-873f-1365cf750a5b: Rio Primero 123\n",
      "Project 41930a8c-6243-4acf-88d5-2918c57657b5: Project 0\n",
      "Project dce2b428-d81a-4b3b-bfde-bee8c0a53ded: Project 1\n",
      "Project 9473abcb-94b8-41b8-af16-941334d6efdb: Project 2\n",
      "Project 2524cdc8-c285-4646-a2ea-97795e98f18e: Project 3\n",
      "Project abd7ef98-2bb8-4322-832d-74b271045705: Project 4\n",
      "Project b284652a-593f-4381-b534-a97cf70af02b: Project 5\n",
      "Project 048146e7-0973-4876-ab69-c572dc5adbf3: Project 6\n",
      "Project adccb6ce-2f80-435c-a4e5-ea7ebb4bf36c: Project 7\n",
      "Project 82cbdc52-1f69-4011-8dd2-1dc6655482cb: Project 8\n",
      "Project b2913fac-5b01-46d6-959c-6670b390c318: Project 9\n"
     ]
    }
   ],
   "source": [
    "from morpheus.project.infrastructure.persistence.ProjectSummaryRepository import project_summary_repository\n",
    "from morpheus.project.infrastructure.event_sourcing.ProjectEventStore import project_event_store\n",
    "from morpheus.project.types.User import UserId\n",
    "from morpheus.project.types.Project import ProjectId, Name, Description, Tags\n",
    "from morpheus.project.application.write.Project import CreateProjectCommand, CreateProjectCommandHandler\n",
    "\n",
    "for i in range(10):\n",
    "  create_project_command = CreateProjectCommand(\n",
    "    project_id=ProjectId.new(),\n",
    "    name=Name.from_str(f'Project {i}'),\n",
    "    description=Description.from_str(f'Description {i}'),\n",
    "    tags=Tags.from_list([f'tag{i}', f'tag{i + 1}']),\n",
    "    user_id=UserId.new()\n",
    "  )\n",
    "  CreateProjectCommandHandler.handle(create_project_command)\n",
    "\n",
    "event_envelopes = project_event_store.get_all_events_ordered_by_version()\n",
    "print(f'Found {len(event_envelopes)} events')\n",
    "for event_envelope in event_envelopes:\n",
    "  print(f'\"{event_envelope.get_event().get_event_name().to_str()}\" occurred at {event_envelope.event.get_occurred_at().to_iso_with_timezone()}')\n",
    "\n",
    "project_summaries = project_summary_repository.find_all()\n",
    "print(f'Found {len(project_summaries)} project summaries')\n",
    "for project_summary in project_summaries:\n",
    "  print(f'Project {project_summary.project_id.to_str()}: {project_summary.project_name.to_str()}')"
   ]
  },
  {
   "cell_type": "markdown",
   "id": "cde69ee770d30fc1",
   "metadata": {
    "collapsed": false,
    "papermill": {
     "duration": 0.001154,
     "end_time": "2024-05-15T16:00:48.514847",
     "exception": false,
     "start_time": "2024-05-15T16:00:48.513693",
     "status": "completed"
    },
    "tags": []
   },
   "source": [
    "# Reproject project summaries"
   ]
  },
  {
   "cell_type": "code",
   "execution_count": 4,
   "id": "d2717a59e00a53d1",
   "metadata": {
    "ExecuteTime": {
     "end_time": "2024-05-15T08:58:37.018631Z",
     "start_time": "2024-05-15T08:58:36.935064Z"
    },
    "collapsed": false,
    "execution": {
     "iopub.execute_input": "2024-05-15T16:00:48.518008Z",
     "iopub.status.busy": "2024-05-15T16:00:48.517740Z",
     "iopub.status.idle": "2024-05-15T16:00:48.568269Z",
     "shell.execute_reply": "2024-05-15T16:00:48.567999Z"
    },
    "papermill": {
     "duration": 0.053175,
     "end_time": "2024-05-15T16:00:48.569173",
     "exception": false,
     "start_time": "2024-05-15T16:00:48.515998",
     "status": "completed"
    },
    "tags": []
   },
   "outputs": [
    {
     "name": "stdout",
     "output_type": "stream",
     "text": [
      "\u001b[1mReprojecting project summaries\u001b[0m\n"
     ]
    },
    {
     "name": "stdout",
     "output_type": "stream",
     "text": [
      "\u001b[1m------------------------------\u001b[0m\n"
     ]
    },
    {
     "name": "stdout",
     "output_type": "stream",
     "text": [
      "\u001b[0m\n"
     ]
    },
    {
     "name": "stdout",
     "output_type": "stream",
     "text": [
      "Found 96 events\u001b[0m\n"
     ]
    },
    {
     "name": "stdout",
     "output_type": "stream",
     "text": [
      "Reset projection\u001b[0m\n"
     ]
    },
    {
     "name": "stdout",
     "output_type": "stream",
     "text": [
      "\u001b[32mSuccessfully reprojected project summaries\u001b[0m\n"
     ]
    }
   ],
   "source": [
    "from morpheus.project.presentation.cli.ProjectionCliCommands import ReprojectProjectSummariesCliCommand\n",
    "\n",
    "ReprojectProjectSummariesCliCommand.run()"
   ]
  },
  {
   "cell_type": "code",
   "execution_count": 5,
   "id": "63d49a5f72c7f9c2",
   "metadata": {
    "ExecuteTime": {
     "end_time": "2024-05-15T08:58:37.025919Z",
     "start_time": "2024-05-15T08:58:37.020411Z"
    },
    "collapsed": false,
    "execution": {
     "iopub.execute_input": "2024-05-15T16:00:48.572327Z",
     "iopub.status.busy": "2024-05-15T16:00:48.572219Z",
     "iopub.status.idle": "2024-05-15T16:00:48.575399Z",
     "shell.execute_reply": "2024-05-15T16:00:48.575151Z"
    },
    "papermill": {
     "duration": 0.005643,
     "end_time": "2024-05-15T16:00:48.576195",
     "exception": false,
     "start_time": "2024-05-15T16:00:48.570552",
     "status": "completed"
    },
    "tags": []
   },
   "outputs": [
    {
     "name": "stdout",
     "output_type": "stream",
     "text": [
      "Found 35 project summaries\n",
      "Project 8478ddf7-1c43-4aee-969e-af7dbdac18bc: Rio Primero 123\n",
      "Project e0166ed1-82ae-4f82-b154-9276aa81f1fa: Project 0\n",
      "Project b27d541b-e183-4083-9071-8804fd5d1b25: Project 1\n",
      "Project 2ffca3ac-1fcc-4bd5-ac14-215f1a3da7a0: Project 2\n",
      "Project e5194429-1545-42f2-926c-08078c49cd0b: Project 3\n",
      "Project c08af565-d1c8-4679-927b-5de8f4e3aa00: Project 4\n",
      "Project 05c4a721-0b33-450a-85ff-1653b4864099: Project 5\n",
      "Project 410442a3-a7b7-4748-8dc9-8d75ae41d0cd: Project 6\n",
      "Project 25212285-cc7e-4da7-a555-7a8dc2285ae7: Project 7\n",
      "Project f877bbc8-a10d-43d3-8f2f-0e05b52ad65c: Project 8\n",
      "Project 5f62697c-8ad7-4749-8442-211c3e9dd64b: Project 9\n",
      "Project b88a50eb-2ffc-4142-9dbf-7324ff5a0930: Project 1\n",
      "Project 60610a3c-89f8-459d-aef4-8b415c51d216: Rio Primero 123\n",
      "Project 2f86c914-3848-4c4d-8893-c94777901be4: Project 0\n",
      "Project 15627578-1ebb-47da-9701-0a538aa892f7: Project 1\n",
      "Project ec8bd73a-45c7-4d81-a338-228525e71357: Project 2\n",
      "Project 9ab27c4b-9c40-4068-b466-86c0a00ec256: Project 3\n",
      "Project 8095e4a4-27f5-4ec5-835a-164af8d93ba5: Project 4\n",
      "Project b4260bd7-1dad-4375-a8b3-97c87c13ecd8: Project 5\n",
      "Project e0ae141e-2447-4daa-930e-cbaa48c27621: Project 6\n",
      "Project 0f981386-5ee0-43e4-b000-b44004705616: Project 7\n",
      "Project 9bc4e70f-b084-4b74-8da0-8c493ab45371: Project 8\n",
      "Project 37d7f4e7-cdcd-4c9f-afb3-d12fa9348b6a: Project 9\n",
      "Project cdb89c26-ad0a-4ec6-9888-dc8423665a9c: Project 1\n",
      "Project cf110691-5bb0-4975-873f-1365cf750a5b: Rio Primero 123\n",
      "Project 41930a8c-6243-4acf-88d5-2918c57657b5: Project 0\n",
      "Project dce2b428-d81a-4b3b-bfde-bee8c0a53ded: Project 1\n",
      "Project 9473abcb-94b8-41b8-af16-941334d6efdb: Project 2\n",
      "Project 2524cdc8-c285-4646-a2ea-97795e98f18e: Project 3\n",
      "Project abd7ef98-2bb8-4322-832d-74b271045705: Project 4\n",
      "Project b284652a-593f-4381-b534-a97cf70af02b: Project 5\n",
      "Project 048146e7-0973-4876-ab69-c572dc5adbf3: Project 6\n",
      "Project adccb6ce-2f80-435c-a4e5-ea7ebb4bf36c: Project 7\n",
      "Project 82cbdc52-1f69-4011-8dd2-1dc6655482cb: Project 8\n",
      "Project b2913fac-5b01-46d6-959c-6670b390c318: Project 9\n"
     ]
    }
   ],
   "source": [
    "project_summaries = project_summary_repository.find_all()\n",
    "print(f'Found {len(project_summaries)} project summaries')\n",
    "for project_summary in project_summaries:\n",
    "  print(f'Project {project_summary.project_id.to_str()}: {project_summary.project_name.to_str()}')"
   ]
  }
 ],
 "metadata": {
  "kernelspec": {
   "display_name": "Python 3",
   "language": "python",
   "name": "python3"
  },
  "language_info": {
   "codemirror_mode": {
    "name": "ipython",
    "version": 3
   },
   "file_extension": ".py",
   "mimetype": "text/x-python",
   "name": "python",
   "nbconvert_exporter": "python",
   "pygments_lexer": "ipython3",
   "version": "3.12.2"
  },
  "papermill": {
   "default_parameters": {},
   "duration": 5.308011,
   "end_time": "2024-05-15T16:00:51.197888",
   "environment_variables": {},
   "exception": null,
   "input_path": "./notebooks/EventSourcing.ipynb",
   "output_path": "./notebooks/EventSourcing.ipynb",
   "parameters": {},
   "start_time": "2024-05-15T16:00:45.889877",
   "version": "2.6.0"
  }
 },
 "nbformat": 4,
 "nbformat_minor": 5
}