{
 "cells": [
  {
   "cell_type": "code",
   "outputs": [
    {
     "data": {
      "text/plain": "ProjectCreatedEvent(entity_uuid=Uuid(value='6e7bd89f-7783-4b88-aa46-83ca45c71b44'), payload={'project_id': '6e7bd89f-7783-4b88-aa46-83ca45c71b44', 'base_model': {'model_id': '9d2e9e3b-4dce-42c4-9836-6778019ab168', 'version': {'last_version': 'v0.0.0', 'current_version': 'v0.0.0-0', 'is_head': True}, 'spatial_discretization': {'geometry': {'type': 'Polygon', 'coordinates': [[(0, 0), (1, 0), (1, 1), (0, 1), (0, 0)]]}, 'affected_cells': None, 'grid': {'x_distances': [111319.49079327357], 'y_distances': [111325.1428663851], 'origin': {'type': 'Point', 'coordinates': (0.0, 0.9999999999999998)}, 'rotation': 0, 'length_unit': 'meters'}, 'crs': 'EPSG:4326'}, 'time_discretization': {'start_datetime': '2020-01-01T00:00:00+00:00', 'end_datetime': '2020-01-02T00:00:00+00:00', 'stress_periods': [{'start_datetime': '2020-01-01T00:00:00+00:00', 'number_of_time_steps': 1, 'time_step_multiplier': 1.0, 'steady_state': True}], 'time_unit': 4}, 'boundaries': [], 'observations': [], 'soil_model': [{'id': '2c569dec-a026-49db-8656-3042ceed0825', 'name': 'Default', 'description': 'Default', 'type': 'confined', 'data': {'kx': 1, 'ky': 1, 'kz': 1, 'specific_storage': 0.0001, 'specific_yield': 0.1, 'initial_head': 1.0, 'top': 1, 'bottom': 0}}], 'transport': {'is_enabled': False, 'substances': []}, 'variable_density': {'is_enabled': False, 'viscosity_is_enabled': False}}, 'calculation_profile': {'profile_id': '1b93635b-1fa4-46f9-8f04-61fc1228b6d6', 'engine_type': 'mf2005', 'engine_settings': {'packages': {'oc': {'ihedfm': 0, 'iddnfm': 0, 'chedfm': None, 'cddnfm': None, 'cboufm': None, 'compact': True, 'stress_period_data': None, 'extension': ['oc', 'hds', 'ddn', 'cbc', 'ibo'], 'unitnumber': None, 'filenames': None, 'label': 'OC'}, 'flow_package': 'lpf', 'solver_package': {'type': 'pcg', 'data': {'mxiter': 50, 'iter1': 30, 'npcond': 1, 'hclose': 1e-05, 'rclose': 1e-05, 'relax': 1.0, 'nbpol': 0, 'iprpcg': 0, 'mutpcg': 3, 'damp': 1.0, 'dampt': 1.0, 'ihcofadd': 0, 'extension': 'pcg', 'unitnumber': None, 'filenames': None}}}}, 'is_selected': True}, 'scenarios': {'scenarios': []}, 'settings': {'groups': {}, 'members': {'ad189544-b104-438c-a979-811eecfa478b': 'owner'}, 'metadata': {'name': 'Test', 'description': 'Test project', 'tags': []}, 'visibility': 'private'}})"
     },
     "execution_count": 1,
     "metadata": {},
     "output_type": "execute_result"
    }
   ],
   "source": [
    "from morpheus.modflow.types.ModflowModel import ModflowModel, ModelId\n",
    "from morpheus.modflow.types.Settings import Metadata, Name, Description, Tags\n",
    "from morpheus.modflow.types.User import UserId\n",
    "from morpheus.modflow.types.Project import Project, ProjectId\n",
    "from morpheus.modflow.domain.events.ProjectCreatedEvent import ProjectCreatedEvent\n",
    "\n",
    "user_id = UserId.new()\n",
    "project_id = ProjectId.new()\n",
    "\n",
    "project = Project.new(user_id=user_id, project_id=project_id)\n",
    "settings = project.settings\n",
    "project = project.with_updated_settings(\n",
    "  settings.with_updated_metadata(Metadata(name=Name.from_str('Test'), description=Description.from_str('Test project'), tags=Tags.from_list([])))\n",
    ")\n",
    "\n",
    "project = project.with_updated_base_model(base_model=ModflowModel.new(\n",
    "  model_id=ModelId.new()\n",
    "))\n",
    "\n",
    "event = ProjectCreatedEvent.from_project(project=project)\n",
    "\n",
    "event"
   ],
   "metadata": {
    "collapsed": false,
    "ExecuteTime": {
     "end_time": "2024-01-23T22:36:00.952660Z",
     "start_time": "2024-01-23T22:35:59.901300Z"
    }
   },
   "id": "60b02abb5d21d0dd",
   "execution_count": 1
  },
  {
   "cell_type": "code",
   "outputs": [
    {
     "data": {
      "text/plain": "EventEnvelope(event=ProjectCreatedEvent(entity_uuid=Uuid(value='6e7bd89f-7783-4b88-aa46-83ca45c71b44'), payload={'project_id': '6e7bd89f-7783-4b88-aa46-83ca45c71b44', 'base_model': {'model_id': '9d2e9e3b-4dce-42c4-9836-6778019ab168', 'version': {'last_version': 'v0.0.0', 'current_version': 'v0.0.0-0', 'is_head': True}, 'spatial_discretization': {'geometry': {'type': 'Polygon', 'coordinates': [[(0, 0), (1, 0), (1, 1), (0, 1), (0, 0)]]}, 'affected_cells': None, 'grid': {'x_distances': [111319.49079327357], 'y_distances': [111325.1428663851], 'origin': {'type': 'Point', 'coordinates': (0.0, 0.9999999999999998)}, 'rotation': 0, 'length_unit': 'meters'}, 'crs': 'EPSG:4326'}, 'time_discretization': {'start_datetime': '2020-01-01T00:00:00+00:00', 'end_datetime': '2020-01-02T00:00:00+00:00', 'stress_periods': [{'start_datetime': '2020-01-01T00:00:00+00:00', 'number_of_time_steps': 1, 'time_step_multiplier': 1.0, 'steady_state': True}], 'time_unit': 4}, 'boundaries': [], 'observations': [], 'soil_model': [{'id': '2c569dec-a026-49db-8656-3042ceed0825', 'name': 'Default', 'description': 'Default', 'type': 'confined', 'data': {'kx': 1, 'ky': 1, 'kz': 1, 'specific_storage': 0.0001, 'specific_yield': 0.1, 'initial_head': 1.0, 'top': 1, 'bottom': 0}}], 'transport': {'is_enabled': False, 'substances': []}, 'variable_density': {'is_enabled': False, 'viscosity_is_enabled': False}}, 'calculation_profile': {'profile_id': '1b93635b-1fa4-46f9-8f04-61fc1228b6d6', 'engine_type': 'mf2005', 'engine_settings': {'packages': {'oc': {'ihedfm': 0, 'iddnfm': 0, 'chedfm': None, 'cddnfm': None, 'cboufm': None, 'compact': True, 'stress_period_data': None, 'extension': ['oc', 'hds', 'ddn', 'cbc', 'ibo'], 'unitnumber': None, 'filenames': None, 'label': 'OC'}, 'flow_package': 'lpf', 'solver_package': {'type': 'pcg', 'data': {'mxiter': 50, 'iter1': 30, 'npcond': 1, 'hclose': 1e-05, 'rclose': 1e-05, 'relax': 1.0, 'nbpol': 0, 'iprpcg': 0, 'mutpcg': 3, 'damp': 1.0, 'dampt': 1.0, 'ihcofadd': 0, 'extension': 'pcg', 'unitnumber': None, 'filenames': None}}}}, 'is_selected': True}, 'scenarios': {'scenarios': []}, 'settings': {'groups': {}, 'members': {'ad189544-b104-438c-a979-811eecfa478b': 'owner'}, 'metadata': {'name': 'Test', 'description': 'Test project', 'tags': []}, 'visibility': 'private'}}), occurred_at=OccurredAt(value=datetime.datetime(2024, 1, 23, 23, 36, 0, 952932)), metadata=EventMetadata(obj={'test': 123}))"
     },
     "execution_count": 2,
     "metadata": {},
     "output_type": "execute_result"
    }
   ],
   "source": [
    "from morpheus.common.types.event_sourcing.EventMetadata import EventMetadata\n",
    "from morpheus.common.types.event_sourcing.EventEnvelope import EventEnvelope, OccurredAt\n",
    "\n",
    "envelope = EventEnvelope(event, OccurredAt.now(), EventMetadata.from_dict({'test': 123}))\n",
    "envelope"
   ],
   "metadata": {
    "collapsed": false,
    "ExecuteTime": {
     "end_time": "2024-01-23T22:36:00.956118Z",
     "start_time": "2024-01-23T22:36:00.951745Z"
    }
   },
   "id": "4e27359357ed2625",
   "execution_count": 2
  },
  {
   "cell_type": "markdown",
   "source": [
    "# Listeners must have arguments \"event\" and \"metadata\" with proper types"
   ],
   "metadata": {
    "collapsed": false
   },
   "id": "740a87482c1f1624"
  },
  {
   "cell_type": "code",
   "outputs": [
    {
     "name": "stdout",
     "output_type": "stream",
     "text": [
      "Event listener <bound method ProjectorInvalid0.on_project_created of <__main__.ProjectorInvalid0 object at 0x179978e00>> must have an argument called \"event\" that should by type hinted with a subclass of EventBase\n",
      "Event listener <bound method ProjectorInvalid1.on_project_created of <__main__.ProjectorInvalid1 object at 0x179978ec0>> must have an argument called \"event\" that should by type hinted with a subclass of EventBase\n",
      "Event listener <bound method ProjectorInvalid2.on_project_created of <__main__.ProjectorInvalid2 object at 0x1795d5310>> must have an argument called \"metadata\" that should by type hinted with a subclass of EventMetadata\n",
      "Event listener <bound method ProjectorInvalid3.on_project_created of <__main__.ProjectorInvalid3 object at 0x179978ec0>> must have an argument called \"event\" that should by type hinted with a subclass of EventBase\n",
      "Event listener <bound method ProjectorInvalid4.on_project_created of <__main__.ProjectorInvalid4 object at 0x1795d5310>> must have an argument called \"metadata\" that should by type hinted with a subclass of EventMetadata\n"
     ]
    }
   ],
   "source": [
    "from morpheus.common.infrastructure.event_sourcing.EventPublisher import EventPublisher, listen_to\n",
    "\n",
    "\n",
    "class Invalid:\n",
    "  pass\n",
    "\n",
    "\n",
    "class ProjectorInvalid0:\n",
    "  @listen_to(ProjectCreatedEvent)\n",
    "  def on_project_created(self):\n",
    "    print('Created project')\n",
    "\n",
    "\n",
    "class ProjectorInvalid1:\n",
    "  @listen_to(ProjectCreatedEvent)\n",
    "  def on_project_created(self, invalid: ProjectCreatedEvent, metadata: EventMetadata):\n",
    "    print('Created project')\n",
    "\n",
    "\n",
    "class ProjectorInvalid2:\n",
    "  @listen_to(ProjectCreatedEvent)\n",
    "  def on_project_created(self, event: ProjectCreatedEvent, invalid: EventMetadata):\n",
    "    print('Created project')\n",
    "\n",
    "\n",
    "class ProjectorInvalid3:\n",
    "  @listen_to(ProjectCreatedEvent)\n",
    "  def on_project_created(self, event: Invalid, metadata: EventMetadata):\n",
    "    print('Created project')\n",
    "\n",
    "\n",
    "class ProjectorInvalid4:\n",
    "  @listen_to(ProjectCreatedEvent)\n",
    "  def on_project_created(self, event: ProjectCreatedEvent, metadata: Invalid):\n",
    "    print('Created project')\n",
    "\n",
    "\n",
    "event_publisher = EventPublisher()\n",
    "try:\n",
    "  projector = ProjectorInvalid0()\n",
    "  event_publisher.register(projector)\n",
    "except Exception as e:\n",
    "  print(e)\n",
    "\n",
    "try:\n",
    "  projector = ProjectorInvalid1()\n",
    "  event_publisher.register(projector)\n",
    "except Exception as e:\n",
    "  print(e)\n",
    "\n",
    "try:\n",
    "  projector = ProjectorInvalid2()\n",
    "  event_publisher.register(projector)\n",
    "except Exception as e:\n",
    "  print(e)\n",
    "\n",
    "try:\n",
    "  projector = ProjectorInvalid3()\n",
    "  event_publisher.register(projector)\n",
    "except Exception as e:\n",
    "  print(e)\n",
    "\n",
    "try:\n",
    "  projector = ProjectorInvalid4()\n",
    "  event_publisher.register(projector)\n",
    "except Exception as e:\n",
    "  print(e)"
   ],
   "metadata": {
    "collapsed": false,
    "ExecuteTime": {
     "end_time": "2024-01-23T22:36:00.963843Z",
     "start_time": "2024-01-23T22:36:00.958437Z"
    }
   },
   "id": "932b4fe5bd839f2",
   "execution_count": 3
  },
  {
   "cell_type": "markdown",
   "source": [
    "# Cannot register same listener twice"
   ],
   "metadata": {
    "collapsed": false
   },
   "id": "9d52b120aa989d1f"
  },
  {
   "cell_type": "code",
   "outputs": [
    {
     "name": "stdout",
     "output_type": "stream",
     "text": [
      "Event handler already registered\n"
     ]
    }
   ],
   "source": [
    "class Projector:\n",
    "  @listen_to(ProjectCreatedEvent)\n",
    "  def on_project_created(self, event: ProjectCreatedEvent, metadata: EventMetadata):\n",
    "    print(f'Created project {event.get_project_id()} with metadata {metadata}')\n",
    "\n",
    "\n",
    "try:\n",
    "  event_publisher = EventPublisher()\n",
    "  projector = Projector()\n",
    "  event_publisher.register(projector)\n",
    "  event_publisher.register(projector)\n",
    "except Exception as e:\n",
    "  print(e)"
   ],
   "metadata": {
    "collapsed": false,
    "ExecuteTime": {
     "end_time": "2024-01-23T22:36:00.967220Z",
     "start_time": "2024-01-23T22:36:00.963539Z"
    }
   },
   "id": "56155ec2f19c768d",
   "execution_count": 4
  },
  {
   "cell_type": "code",
   "outputs": [],
   "source": [
    "from morpheus.modflow.infrastructure.event_sourcing.ModflowEventBus import modflow_event_bus\n",
    "\n",
    "modflow_event_bus.record(envelope) "
   ],
   "metadata": {
    "collapsed": false,
    "ExecuteTime": {
     "end_time": "2024-01-23T22:36:01.416563Z",
     "start_time": "2024-01-23T22:36:00.966577Z"
    }
   },
   "id": "11663385928e76da",
   "execution_count": 5
  },
  {
   "cell_type": "code",
   "execution_count": 6,
   "outputs": [
    {
     "data": {
      "text/plain": "EventEnvelope(event=ProjectCreatedEvent(entity_uuid=Uuid(value='6e7bd89f-7783-4b88-aa46-83ca45c71b44'), payload={'project_id': '6e7bd89f-7783-4b88-aa46-83ca45c71b44', 'base_model': {'model_id': '9d2e9e3b-4dce-42c4-9836-6778019ab168', 'version': {'last_version': 'v0.0.0', 'current_version': 'v0.0.0-0', 'is_head': True}, 'spatial_discretization': {'geometry': {'type': 'Polygon', 'coordinates': [[(0, 0), (1, 0), (1, 1), (0, 1), (0, 0)]]}, 'affected_cells': None, 'grid': {'x_distances': [111319.49079327357], 'y_distances': [111325.1428663851], 'origin': {'type': 'Point', 'coordinates': (0.0, 0.9999999999999998)}, 'rotation': 0, 'length_unit': 'meters'}, 'crs': 'EPSG:4326'}, 'time_discretization': {'start_datetime': '2020-01-01T00:00:00+00:00', 'end_datetime': '2020-01-02T00:00:00+00:00', 'stress_periods': [{'start_datetime': '2020-01-01T00:00:00+00:00', 'number_of_time_steps': 1, 'time_step_multiplier': 1.0, 'steady_state': True}], 'time_unit': 4}, 'boundaries': [], 'observations': [], 'soil_model': [{'id': '2c569dec-a026-49db-8656-3042ceed0825', 'name': 'Default', 'description': 'Default', 'type': 'confined', 'data': {'kx': 1, 'ky': 1, 'kz': 1, 'specific_storage': 0.0001, 'specific_yield': 0.1, 'initial_head': 1.0, 'top': 1, 'bottom': 0}}], 'transport': {'is_enabled': False, 'substances': []}, 'variable_density': {'is_enabled': False, 'viscosity_is_enabled': False}}, 'calculation_profile': {'profile_id': '1b93635b-1fa4-46f9-8f04-61fc1228b6d6', 'engine_type': 'mf2005', 'engine_settings': {'packages': {'oc': {'ihedfm': 0, 'iddnfm': 0, 'chedfm': None, 'cddnfm': None, 'cboufm': None, 'compact': True, 'stress_period_data': None, 'extension': ['oc', 'hds', 'ddn', 'cbc', 'ibo'], 'unitnumber': None, 'filenames': None, 'label': 'OC'}, 'flow_package': 'lpf', 'solver_package': {'type': 'pcg', 'data': {'mxiter': 50, 'iter1': 30, 'npcond': 1, 'hclose': 1e-05, 'rclose': 1e-05, 'relax': 1.0, 'nbpol': 0, 'iprpcg': 0, 'mutpcg': 3, 'damp': 1.0, 'dampt': 1.0, 'ihcofadd': 0, 'extension': 'pcg', 'unitnumber': None, 'filenames': None}}}}, 'is_selected': True}, 'scenarios': {'scenarios': []}, 'settings': {'groups': {}, 'members': {'ad189544-b104-438c-a979-811eecfa478b': 'owner'}, 'metadata': {'name': 'Test', 'description': 'Test project', 'tags': []}, 'visibility': 'private'}}), occurred_at=OccurredAt(value=datetime.datetime(2024, 1, 23, 23, 36, 0, 952932)), metadata=EventMetadata(obj={'test': 123}))"
     },
     "execution_count": 6,
     "metadata": {},
     "output_type": "execute_result"
    }
   ],
   "source": [
    "envelope"
   ],
   "metadata": {
    "collapsed": false,
    "ExecuteTime": {
     "end_time": "2024-01-23T22:36:01.420850Z",
     "start_time": "2024-01-23T22:36:01.417384Z"
    }
   },
   "id": "5793e6cd70e3cb31"
  },
  {
   "cell_type": "code",
   "execution_count": 6,
   "outputs": [],
   "source": [],
   "metadata": {
    "collapsed": false,
    "ExecuteTime": {
     "end_time": "2024-01-23T22:36:01.423993Z",
     "start_time": "2024-01-23T22:36:01.420242Z"
    }
   },
   "id": "7db50a89dc6391e5"
  }
 ],
 "metadata": {
  "kernelspec": {
   "display_name": "Python 3",
   "language": "python",
   "name": "python3"
  },
  "language_info": {
   "codemirror_mode": {
    "name": "ipython",
    "version": 2
   },
   "file_extension": ".py",
   "mimetype": "text/x-python",
   "name": "python",
   "nbconvert_exporter": "python",
   "pygments_lexer": "ipython2",
   "version": "2.7.6"
  }
 },
 "nbformat": 4,
 "nbformat_minor": 5
}
