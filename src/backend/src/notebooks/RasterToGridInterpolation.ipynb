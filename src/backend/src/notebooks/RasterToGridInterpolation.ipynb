{
 "cells": [
  {
   "cell_type": "markdown",
   "source": "p# Raster to Grid Interpolation",
   "metadata": {
    "collapsed": false
   },
   "id": "22e3fc7755a095f5"
  },
  {
   "metadata": {},
   "cell_type": "markdown",
   "source": "## Creat an area and a grid (Rio Primero) with rotation",
   "id": "5a669a027ae183a5"
  },
  {
   "metadata": {
    "ExecuteTime": {
     "end_time": "2024-05-14T07:58:54.765288Z",
     "start_time": "2024-05-14T07:58:53.978678Z"
    }
   },
   "cell_type": "code",
   "source": [
    "from morpheus.project.types.discretization.spatial import Rotation, Grid\n",
    "from morpheus.project.types.geometry import Polygon\n",
    "\n",
    "area = Polygon([[(-63.70070096929353, -31.341995008370162),\n",
    "                 (-63.59062809221137, -31.28770219420632),\n",
    "                 (-63.55589503070645, -31.33909863389222),\n",
    "                 (-63.66596790778863, -31.393361805793646),\n",
    "                 (-63.70070096929353, -31.341995008370162)]])\n",
    "\n",
    "grid = Grid.cartesian_from_polygon(\n",
    "  polygon=area,\n",
    "  n_cols=20,\n",
    "  n_rows=20,\n",
    "  rotation=Rotation(30),\n",
    ")\n",
    "\n",
    "import folium\n",
    "\n",
    "m = folium.Map(tiles=\"cartodbpositron\", crs=\"EPSG3857\", zoom_start=12, location=[50.965, 13.922])\n",
    "m.add_child(folium.GeoJson(area.as_geojson()))\n",
    "m.add_child(folium.GeoJson(grid.origin.as_geojson()))\n",
    "\n",
    "n_cols = grid.n_cols()\n",
    "n_rows = grid.n_rows()\n",
    "cell_geometries = grid.get_cell_geometries()\n",
    "\n",
    "for col in range(n_cols):\n",
    "  for row in range(n_rows):\n",
    "    if col == 0 and row == 0:\n",
    "      continue\n",
    "    cell_geometry = cell_geometries[row][col]\n",
    "    folium.GeoJson(cell_geometry.as_geojson()).add_to(m)\n",
    "\n",
    "m.fit_bounds(m.get_bounds())\n",
    "m"
   ],
   "id": "9390e247ec17f9dd",
   "outputs": [
    {
     "ename": "AttributeError",
     "evalue": "'Grid' object has no attribute 'get_cell_geometries'",
     "output_type": "error",
     "traceback": [
      "\u001B[0;31m---------------------------------------------------------------------------\u001B[0m",
      "\u001B[0;31mAttributeError\u001B[0m                            Traceback (most recent call last)",
      "Cell \u001B[0;32mIn[1], line 25\u001B[0m\n\u001B[1;32m     23\u001B[0m n_cols \u001B[38;5;241m=\u001B[39m grid\u001B[38;5;241m.\u001B[39mn_cols()\n\u001B[1;32m     24\u001B[0m n_rows \u001B[38;5;241m=\u001B[39m grid\u001B[38;5;241m.\u001B[39mn_rows()\n\u001B[0;32m---> 25\u001B[0m cell_geometries \u001B[38;5;241m=\u001B[39m \u001B[43mgrid\u001B[49m\u001B[38;5;241;43m.\u001B[39;49m\u001B[43mget_cell_geometries\u001B[49m()\n\u001B[1;32m     27\u001B[0m \u001B[38;5;28;01mfor\u001B[39;00m col \u001B[38;5;129;01min\u001B[39;00m \u001B[38;5;28mrange\u001B[39m(n_cols):\n\u001B[1;32m     28\u001B[0m   \u001B[38;5;28;01mfor\u001B[39;00m row \u001B[38;5;129;01min\u001B[39;00m \u001B[38;5;28mrange\u001B[39m(n_rows):\n",
      "\u001B[0;31mAttributeError\u001B[0m: 'Grid' object has no attribute 'get_cell_geometries'"
     ]
    }
   ],
   "execution_count": 1
  },
  {
   "metadata": {},
   "cell_type": "markdown",
   "source": "## Draw a BoundingBox around the model area",
   "id": "ad588a682a317b11"
  },
  {
   "metadata": {},
   "cell_type": "code",
   "source": "area.bbox()",
   "id": "7bd6b8180b0dd92e",
   "outputs": [],
   "execution_count": null
  },
  {
   "metadata": {
    "ExecuteTime": {
     "end_time": "2024-05-14T07:58:54.768315Z",
     "start_time": "2024-05-14T07:58:54.768242Z"
    }
   },
   "cell_type": "code",
   "source": [
    "min_x, min_y, max_x, max_y = area.bbox()\n",
    "bounding_box_polygon = Polygon([[\n",
    "  (min_x, min_y),\n",
    "  (min_x, max_y),\n",
    "  (max_x, max_y),\n",
    "  (max_x, min_y),\n",
    "  (min_x, min_y)\n",
    "]])\n",
    "m.add_child(folium.GeoJson(bounding_box_polygon.as_geojson()))\n",
    "m"
   ],
   "id": "2703b0ea0e53f31a",
   "outputs": [],
   "execution_count": null
  },
  {
   "metadata": {},
   "cell_type": "markdown",
   "source": "## Create a raster",
   "id": "ba8fda1f0ca5bbe4"
  },
  {
   "metadata": {},
   "cell_type": "code",
   "source": [
    "import numpy as np\n",
    "import matplotlib.pyplot as plt\n",
    "\n",
    "raster_x = np.linspace(min_x, max_x, 100)\n",
    "raster_y = np.linspace(min_y, max_y, 50)\n",
    "\n",
    "raster = np.zeros((len(raster_y), len(raster_x)))\n",
    "for i, y in enumerate(raster_y):\n",
    "  for j, x in enumerate(raster_x):\n",
    "    raster[i, j] = i + j\n",
    "\n",
    "plt.imshow(raster, origin='upper', cmap='Greys', vmin=0, vmax=150)"
   ],
   "id": "694a1240ac3a4ecf",
   "outputs": [],
   "execution_count": null
  },
  {
   "metadata": {},
   "cell_type": "markdown",
   "source": "## Interpolate the raster to the grid and plot the result",
   "id": "171691eef64df447"
  },
  {
   "metadata": {},
   "cell_type": "code",
   "source": [
    "from morpheus.project.infrastructure.assets.RasterInterpolationService import Raster, RasterCoordinates, RasterData, RasterInterpolationService\n",
    "\n",
    "interpolation_service = RasterInterpolationService()\n",
    "\n",
    "input_raster_xx, input_raster_yy = np.meshgrid(raster_x, raster_y)\n",
    "input_raster_coords = RasterCoordinates(xx_coords=input_raster_xx.tolist(), yy_coords=input_raster_yy.tolist())\n",
    "input_raster_data = RasterData(data=raster)\n",
    "input_raster = Raster(coords=input_raster_coords, data=input_raster_data)\n",
    "\n",
    "xx_coords, yy_coords = grid.get_wgs_coordinates()\n",
    "output_coords = RasterCoordinates(xx_coords=xx_coords, yy_coords=yy_coords)\n",
    "output_raster = interpolation_service.raster_to_raster(raster=input_raster, new_coords=output_coords, method='linear')"
   ],
   "id": "146097f20b33b937",
   "outputs": [],
   "execution_count": null
  },
  {
   "metadata": {},
   "cell_type": "code",
   "source": "plt.imshow(input_raster.get_data(), origin='upper', cmap='Greys', vmin=0, vmax=150)",
   "id": "e4626d7778b8f9e1",
   "outputs": [],
   "execution_count": null
  },
  {
   "metadata": {},
   "cell_type": "code",
   "source": "plt.imshow(output_raster.get_data(), origin='upper', cmap='Greys', vmin=0, vmax=150)",
   "id": "fca0f88c586276f4",
   "outputs": [],
   "execution_count": null
  },
  {
   "metadata": {},
   "cell_type": "code",
   "source": "np.array(output_raster.get_data()).sum()",
   "id": "72dc485d6c92127e",
   "outputs": [],
   "execution_count": null
  },
  {
   "metadata": {},
   "cell_type": "markdown",
   "source": "## Reverse the interpolation",
   "id": "5f9d62276e144faf"
  },
  {
   "metadata": {},
   "cell_type": "code",
   "source": [
    "re_interpolated_raster = interpolation_service.raster_to_raster(\n",
    "  raster=output_raster,\n",
    "  new_coords=input_raster.coords,\n",
    "  method='linear'\n",
    ")"
   ],
   "id": "d8afdf9f4c64551e",
   "outputs": [],
   "execution_count": null
  },
  {
   "metadata": {},
   "cell_type": "code",
   "source": "plt.imshow(re_interpolated_raster.get_data(), origin='upper', cmap='Greys', vmin=0, vmax=150)",
   "id": "5a898178c75d598b",
   "outputs": [],
   "execution_count": null
  },
  {
   "metadata": {},
   "cell_type": "code",
   "source": [
    "# Replace no data values with 0\n",
    "no_data_value = -9999.0\n",
    "data = np.array(re_interpolated_raster.get_data())\n",
    "data[data == no_data_value] = 0\n",
    "data.sum()"
   ],
   "id": "8f2c6228fb0ba07c",
   "outputs": [],
   "execution_count": null
  },
  {
   "metadata": {},
   "cell_type": "markdown",
   "source": "## Interpolate with nearest neighbor",
   "id": "d6e92d7ffc28dba7"
  },
  {
   "metadata": {},
   "cell_type": "code",
   "source": [
    "output_raster_nearest = interpolation_service.raster_to_raster(\n",
    "  raster=input_raster,\n",
    "  new_coords=output_coords,\n",
    "  method='nearest'\n",
    ")"
   ],
   "id": "59793282989cc74",
   "outputs": [],
   "execution_count": null
  },
  {
   "metadata": {},
   "cell_type": "code",
   "source": "plt.imshow(input_raster.get_data(), origin='upper', cmap='Greys', vmin=0, vmax=150)",
   "id": "eda95bf89158a5c6",
   "outputs": [],
   "execution_count": null
  },
  {
   "metadata": {},
   "cell_type": "code",
   "source": "plt.imshow(output_raster_nearest.get_data(), origin='upper', cmap='Greys', vmin=0, vmax=150)",
   "id": "23de732c27ab69b2",
   "outputs": [],
   "execution_count": null
  },
  {
   "metadata": {},
   "cell_type": "code",
   "source": "np.array(output_raster_nearest.get_data()).sum()",
   "id": "63ede7501ef95f59",
   "outputs": [],
   "execution_count": null
  },
  {
   "metadata": {},
   "cell_type": "code",
   "source": [
    "re_interpolated_raster_nearest = interpolation_service.raster_to_raster(\n",
    "  raster=output_raster_nearest,\n",
    "  new_coords=input_raster.coords,\n",
    "  method='nearest'\n",
    ")"
   ],
   "id": "a24bb73d91162290",
   "outputs": [],
   "execution_count": null
  },
  {
   "metadata": {},
   "cell_type": "code",
   "source": "plt.imshow(re_interpolated_raster_nearest.get_data(), origin='upper', cmap='Greys', vmin=0, vmax=150)",
   "id": "87d4f2468f212b97",
   "outputs": [],
   "execution_count": null
  },
  {
   "metadata": {},
   "cell_type": "code",
   "source": "np.array(re_interpolated_raster_nearest.get_data()).sum()",
   "id": "369b771d767e1d28",
   "outputs": [],
   "execution_count": null
  },
  {
   "metadata": {},
   "cell_type": "code",
   "source": "",
   "id": "cbb8b8c84183a50b",
   "outputs": [],
   "execution_count": null
  }
 ],
 "metadata": {
  "kernelspec": {
   "display_name": "Python 3",
   "language": "python",
   "name": "python3"
  },
  "language_info": {
   "codemirror_mode": {
    "name": "ipython",
    "version": 2
   },
   "file_extension": ".py",
   "mimetype": "text/x-python",
   "name": "python",
   "nbconvert_exporter": "python",
   "pygments_lexer": "ipython2",
   "version": "2.7.6"
  }
 },
 "nbformat": 4,
 "nbformat_minor": 5
}
