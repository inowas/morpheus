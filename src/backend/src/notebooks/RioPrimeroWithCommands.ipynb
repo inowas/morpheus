{
 "cells": [
  {
   "cell_type": "code",
   "source": [
    "import sys\n",
    "\n",
    "sys.path.insert(0, '..')"
   ],
   "metadata": {
    "collapsed": false,
    "ExecuteTime": {
     "end_time": "2024-04-22T10:25:42.297377Z",
     "start_time": "2024-04-22T10:25:42.294603Z"
    }
   },
   "id": "ba6761fae9d5e5cb",
   "outputs": [],
   "execution_count": 1
  },
  {
   "metadata": {
    "ExecuteTime": {
     "end_time": "2024-04-22T10:25:43.778915Z",
     "start_time": "2024-04-22T10:25:42.321431Z"
    }
   },
   "cell_type": "code",
   "source": [
    "from morpheus.project.application.write import project_command_bus\n",
    "from morpheus.project.application.read.ModelReader import ModelReader"
   ],
   "id": "25679e960529b56d",
   "outputs": [],
   "execution_count": 2
  },
  {
   "cell_type": "markdown",
   "source": [
    "## Setup the Rio Primero project"
   ],
   "metadata": {
    "collapsed": false
   },
   "id": "5ede1ba5e0993dd1"
  },
  {
   "metadata": {
    "ExecuteTime": {
     "end_time": "2024-04-22T10:25:43.790570Z",
     "start_time": "2024-04-22T10:25:43.779924Z"
    }
   },
   "cell_type": "code",
   "source": [
    "from morpheus.project.types.User import UserId\n",
    "from morpheus.project.types.Project import ProjectId, Name, Description, Tags\n",
    "from morpheus.project.application.write.Project import CreateProjectCommand, CreateProjectCommandHandler\n",
    "\n",
    "user_id = UserId.new()\n",
    "project_id = ProjectId.new()\n",
    "\n",
    "create_project_command = CreateProjectCommand(\n",
    "  project_id=project_id,\n",
    "  name=Name('Rio Primero'),\n",
    "  description=Description('Rio Primero Project in Argentina'),\n",
    "  tags=Tags.from_list(['rio primero', 'argentina']),\n",
    "  user_id=user_id\n",
    ")\n",
    "\n",
    "project_command_bus.dispatch(create_project_command)"
   ],
   "id": "1ccff371ff253554",
   "outputs": [],
   "execution_count": 3
  },
  {
   "metadata": {},
   "cell_type": "markdown",
   "source": "# Create Model",
   "id": "ef6c846c5993301"
  },
  {
   "metadata": {
    "ExecuteTime": {
     "end_time": "2024-04-22T10:25:44.120962Z",
     "start_time": "2024-04-22T10:25:43.791308Z"
    }
   },
   "cell_type": "code",
   "source": [
    "from morpheus.project.types.discretization.spatial import Rotation\n",
    "from morpheus.project.types.geometry import Polygon\n",
    "from morpheus.project.types.Model import ModelId\n",
    "from morpheus.project.application.write.Model import CreateModelCommand\n",
    "\n",
    "model_id = ModelId.new()\n",
    "\n",
    "polygon = Polygon(\n",
    "  type='Polygon',\n",
    "  coordinates=[[\n",
    "    (13.922514437551428, 50.964720483303836),\n",
    "    (13.925250781947113, 50.965228748412386),\n",
    "    (13.925036413951403, 50.96623732041704),\n",
    "    (13.92222441026388, 50.96629040370362),\n",
    "    (13.922514437551428, 50.964720483303836)\n",
    "  ]]\n",
    ")\n",
    "\n",
    "create_model_command = CreateModelCommand(\n",
    "  project_id=project_id,\n",
    "  user_id=user_id,\n",
    "  model_id=model_id,\n",
    "  geometry=polygon,\n",
    "  n_cols=100,\n",
    "  n_rows=50,\n",
    "  rotation=Rotation.from_float(0.0),\n",
    ")\n",
    "\n",
    "project_command_bus.dispatch(create_model_command)"
   ],
   "id": "40aa8899d88bd8f7",
   "outputs": [],
   "execution_count": 4
  },
  {
   "metadata": {},
   "cell_type": "markdown",
   "source": "## Setup Time Discretization",
   "id": "b2400b437ce6f95a"
  },
  {
   "metadata": {
    "ExecuteTime": {
     "end_time": "2024-04-22T10:25:44.142430Z",
     "start_time": "2024-04-22T10:25:44.122495Z"
    }
   },
   "cell_type": "code",
   "source": [
    "from datetime import datetime\n",
    "from morpheus.project.application.write.Model import UpdateModelTimeDiscretizationCommand\n",
    "from morpheus.project.types.discretization.time import TimeDiscretization\n",
    "from morpheus.project.types.discretization.time.TimeUnit import TimeUnit\n",
    "from morpheus.project.types.discretization.time.Stressperiods import StartDateTime, StressPeriodCollection, \\\n",
    "  StressPeriod, NumberOfTimeSteps, TimeStepMultiplier, IsSteadyState\n",
    "\n",
    "time_discretization = TimeDiscretization(\n",
    "  start_date_time=StartDateTime.from_datetime(datetime(2015, 1, 1)),\n",
    "  end_date_time=StartDateTime.from_datetime(datetime(2020, 12, 31)),\n",
    "  stress_periods=StressPeriodCollection([\n",
    "    StressPeriod(\n",
    "      start_date_time=StartDateTime.from_datetime(datetime(2015, 1, 1)),\n",
    "      number_of_time_steps=NumberOfTimeSteps(1),\n",
    "      time_step_multiplier=TimeStepMultiplier(1),\n",
    "      steady_state=IsSteadyState.yes()\n",
    "    ),\n",
    "  ]),\n",
    "  time_unit=TimeUnit.days()\n",
    ")\n",
    "\n",
    "update_model_time_discretization_command = UpdateModelTimeDiscretizationCommand(\n",
    "  project_id=project_id,\n",
    "  time_discretization=time_discretization,\n",
    "  user_id=user_id,\n",
    ")\n",
    "\n",
    "project_command_bus.dispatch(update_model_time_discretization_command)"
   ],
   "id": "b02061890a1cdfe5",
   "execution_count": 5,
   "outputs": []
  },
  {
   "metadata": {},
   "cell_type": "markdown",
   "source": "## Create Top Layer",
   "id": "350d5b168c878888"
  },
  {
   "metadata": {
    "ExecuteTime": {
     "end_time": "2024-04-22T10:25:44.162989Z",
     "start_time": "2024-04-22T10:25:44.143474Z"
    }
   },
   "cell_type": "code",
   "source": [
    "from morpheus.project.types.layers.Layer import LayerId, LayerName, LayerProperties, LayerDescription, LayerType\n",
    "from morpheus.project.application.write.Model import CreateModelLayerCommand, UpdateModelLayerCommand\n",
    "\n",
    "create_model_layer_command = CreateModelLayerCommand(\n",
    "  project_id=project_id,\n",
    "  model_id=model_id,\n",
    "  user_id=user_id,\n",
    "  layer_id=LayerId.new(),\n",
    "  name=LayerName('Top Layer'),\n",
    "  type=LayerType.convertible(),\n",
    "  description=LayerDescription('Top Layer'),\n",
    "  properties=LayerProperties.from_values(\n",
    "    top=460,\n",
    "    bottom=450,\n",
    "    initial_head=460,\n",
    "    kx=8.64,\n",
    "    ky=8.64,\n",
    "    kz=0.864,\n",
    "    specific_storage=1e-5,\n",
    "    specific_yield=0.2\n",
    "  )\n",
    ")\n",
    "\n",
    "project_command_bus.dispatch(create_model_layer_command)"
   ],
   "id": "a429b18cfa64f204",
   "outputs": [],
   "execution_count": 6
  },
  {
   "metadata": {
    "ExecuteTime": {
     "end_time": "2024-04-22T10:25:44.173501Z",
     "start_time": "2024-04-22T10:25:44.163632Z"
    }
   },
   "cell_type": "code",
   "source": [
    "model_reader = ModelReader()\n",
    "model = model_reader.get_latest_model(project_id)\n",
    "model.layers"
   ],
   "id": "7d7646faa2cbed28",
   "outputs": [
    {
     "data": {
      "text/plain": [
       "LayersCollection(layers=[Layer(id=LayerId(value='7ac96bc6-0595-49e1-9471-d4a1aa67729e'), name=LayerName(value='Default'), description=LayerDescription(value='Default'), type=LayerType(type='confined'), properties=LayerProperties(kx=LayerPropertyValue(value=1.0, raster=None, zones=None), ky=LayerPropertyValue(value=1.0, raster=None, zones=None), kz=LayerPropertyValue(value=1.0, raster=None, zones=None), hani=None, vani=None, specific_storage=LayerPropertyValue(value=0.0001, raster=None, zones=None), specific_yield=LayerPropertyValue(value=0.1, raster=None, zones=None), initial_head=LayerPropertyValue(value=1.0, raster=None, zones=None), top=LayerPropertyValue(value=1.0, raster=None, zones=None), bottom=LayerPropertyValue(value=0.0, raster=None, zones=None))), Layer(id=LayerId(value='93659f2b-02c3-461d-8c3a-e28e14a8ae12'), name=LayerName(value='Top Layer'), description=LayerDescription(value='Top Layer'), type=LayerType(type='convertible'), properties=LayerProperties(kx=LayerPropertyValue(value=8.64, raster=None, zones=None), ky=LayerPropertyValue(value=8.64, raster=None, zones=None), kz=LayerPropertyValue(value=0.864, raster=None, zones=None), hani=None, vani=None, specific_storage=LayerPropertyValue(value=1e-05, raster=None, zones=None), specific_yield=LayerPropertyValue(value=0.2, raster=None, zones=None), initial_head=LayerPropertyValue(value=460, raster=None, zones=None), top=LayerPropertyValue(value=460, raster=None, zones=None), bottom=LayerPropertyValue(value=450, raster=None, zones=None)))])"
      ]
     },
     "execution_count": 7,
     "metadata": {},
     "output_type": "execute_result"
    }
   ],
   "execution_count": 7
  },
  {
   "metadata": {},
   "cell_type": "markdown",
   "source": "# Create Aquitard Layer",
   "id": "dbdde38667e24f4f"
  },
  {
   "metadata": {
    "ExecuteTime": {
     "end_time": "2024-04-22T10:25:44.194140Z",
     "start_time": "2024-04-22T10:25:44.174347Z"
    }
   },
   "cell_type": "code",
   "source": [
    "create_model_layer_command = CreateModelLayerCommand(\n",
    "  project_id=project_id,\n",
    "  model_id=model_id,\n",
    "  user_id=user_id,\n",
    "  layer_id=LayerId.new(),\n",
    "  name=LayerName('Aquitard'),\n",
    "  type=LayerType.confined(),\n",
    "  description=LayerDescription('Aquitard'),\n",
    "  properties=LayerProperties.from_values(\n",
    "    top=450.0,\n",
    "    bottom=448.0,\n",
    "    initial_head=450.0,\n",
    "    kx=10,\n",
    "    ky=10,\n",
    "    kz=0.1,\n",
    "    specific_storage=1e-5,\n",
    "    specific_yield=0.2,\n",
    "  )\n",
    ")\n",
    "\n",
    "project_command_bus.dispatch(create_model_layer_command)"
   ],
   "id": "7a46dba6547d6a08",
   "outputs": [],
   "execution_count": 8
  },
  {
   "metadata": {},
   "cell_type": "markdown",
   "source": "# Create Aquifer Layer",
   "id": "fa03172bf43b85c3"
  },
  {
   "metadata": {
    "ExecuteTime": {
     "end_time": "2024-04-22T10:25:44.215813Z",
     "start_time": "2024-04-22T10:25:44.194712Z"
    }
   },
   "cell_type": "code",
   "source": [
    "create_model_layer_command = CreateModelLayerCommand(\n",
    "  project_id=project_id,\n",
    "  model_id=model_id,\n",
    "  user_id=user_id,\n",
    "  layer_id=LayerId.new(),\n",
    "  name=LayerName('Aquifer'),\n",
    "  type=LayerType.confined(),\n",
    "  description=LayerDescription('Aquifer'),\n",
    "  properties=LayerProperties.from_values(\n",
    "    top=448,\n",
    "    bottom=390,\n",
    "    initial_head=448,\n",
    "    kx=8.64,\n",
    "    ky=8.64,\n",
    "    kz=0.864,\n",
    "    specific_storage=1e-5,\n",
    "    specific_yield=0.2,\n",
    "  )\n",
    ")\n",
    "\n",
    "project_command_bus.dispatch(create_model_layer_command)"
   ],
   "id": "e1bb3a41bcdda8d0",
   "outputs": [],
   "execution_count": 9
  },
  {
   "metadata": {},
   "cell_type": "markdown",
   "source": "# Remove default layer",
   "id": "16be4e9fadb5a403"
  },
  {
   "metadata": {
    "ExecuteTime": {
     "end_time": "2024-04-22T10:25:44.243401Z",
     "start_time": "2024-04-22T10:25:44.216658Z"
    }
   },
   "cell_type": "code",
   "source": [
    "# get latest project layers\n",
    "\n",
    "model_reader = ModelReader()\n",
    "model = model_reader.get_latest_model(project_id)\n",
    "\n",
    "layers = model.layers\n",
    "\n",
    "# default layer id\n",
    "default_layer_id = layers[0].id\n",
    "\n",
    "# remove default layer\n",
    "from morpheus.project.application.write.Model import DeleteModelLayerCommand\n",
    "\n",
    "delete_model_layer_command = DeleteModelLayerCommand(\n",
    "  project_id=project_id,\n",
    "  model_id=model_id,\n",
    "  user_id=user_id,\n",
    "  layer_id=default_layer_id\n",
    ")\n",
    "\n",
    "project_command_bus.dispatch(delete_model_layer_command)"
   ],
   "id": "c25369daafe489ad",
   "outputs": [],
   "execution_count": 10
  },
  {
   "metadata": {},
   "cell_type": "markdown",
   "source": "## Update Model Layer Name and Description and Type",
   "id": "c1ecc284e288213c"
  },
  {
   "metadata": {
    "ExecuteTime": {
     "end_time": "2024-04-22T10:25:44.283175Z",
     "start_time": "2024-04-22T10:25:44.245069Z"
    }
   },
   "cell_type": "code",
   "source": [
    "from morpheus.project.application.write.Model import UpdateModelLayerCommand\n",
    "\n",
    "model_reader = ModelReader()\n",
    "model = model_reader.get_latest_model(project_id)\n",
    "\n",
    "layers = model.layers\n",
    "\n",
    "# bottom layer id\n",
    "bottom_layer_id = layers[-1].id\n",
    "\n",
    "update_model_layer_command = UpdateModelLayerCommand(\n",
    "  project_id=project_id,\n",
    "  model_id=model_id,\n",
    "  user_id=user_id,\n",
    "  layer_id=bottom_layer_id,\n",
    "  layer_name=LayerName('Bottom Layer'),\n",
    "  layer_description=LayerDescription('Bottom Layer'),\n",
    "  layer_type=LayerType.unconfined()\n",
    ")\n",
    "\n",
    "project_command_bus.dispatch(update_model_layer_command)\n",
    "\n",
    "model = model_reader.get_latest_model(project_id)\n",
    "model.layers[-1]"
   ],
   "id": "b9a75c929309ee7",
   "outputs": [
    {
     "data": {
      "text/plain": [
       "Layer(id=LayerId(value='b6d7ff87-0dd4-435f-ae5e-0fdd6e750037'), name=LayerName(value='Bottom Layer'), description=LayerDescription(value='Bottom Layer'), type=LayerType(type='unconfined'), properties=LayerProperties(kx=LayerPropertyValue(value=8.64, raster=None, zones=None), ky=LayerPropertyValue(value=8.64, raster=None, zones=None), kz=LayerPropertyValue(value=0.864, raster=None, zones=None), hani=None, vani=None, specific_storage=LayerPropertyValue(value=1e-05, raster=None, zones=None), specific_yield=LayerPropertyValue(value=0.2, raster=None, zones=None), initial_head=LayerPropertyValue(value=448, raster=None, zones=None), top=LayerPropertyValue(value=448, raster=None, zones=None), bottom=LayerPropertyValue(value=390, raster=None, zones=None)))"
      ]
     },
     "execution_count": 11,
     "metadata": {},
     "output_type": "execute_result"
    }
   ],
   "execution_count": 11
  },
  {
   "metadata": {},
   "cell_type": "markdown",
   "source": "## Update Model Layer Properties",
   "id": "8e8eb5a6980663a2"
  },
  {
   "metadata": {
    "ExecuteTime": {
     "end_time": "2024-04-22T10:25:44.315447Z",
     "start_time": "2024-04-22T10:25:44.283869Z"
    }
   },
   "cell_type": "code",
   "source": [
    "from morpheus.project.application.write.Model import UpdateModelLayerPropertyCommand\n",
    "from morpheus.project.types.layers.Layer import LayerPropertyValue, LayerPropertyName\n",
    "\n",
    "model_reader = ModelReader()\n",
    "model = model_reader.get_latest_model(project_id)\n",
    "\n",
    "layers = model.layers\n",
    "\n",
    "# bottom layer id\n",
    "bottom_layer_id = layers[-1].id\n",
    "\n",
    "update_model_layer_property_command = UpdateModelLayerPropertyCommand(\n",
    "  project_id=project_id,\n",
    "  model_id=model_id,\n",
    "  user_id=user_id,\n",
    "  layer_id=bottom_layer_id,\n",
    "  property_name=LayerPropertyName.from_value('kx'),\n",
    "  property_value=LayerPropertyValue.from_value(13.33)\n",
    ")\n",
    "\n",
    "project_command_bus.dispatch(update_model_layer_property_command)\n",
    "\n",
    "model = model_reader.get_latest_model(project_id)\n",
    "model.layers[-1].properties.kx"
   ],
   "id": "776bb52c842f40fd",
   "outputs": [
    {
     "data": {
      "text/plain": [
       "LayerPropertyValue(value=13.33, raster=None, zones=None)"
      ]
     },
     "execution_count": 12,
     "metadata": {},
     "output_type": "execute_result"
    }
   ],
   "execution_count": 12
  },
  {
   "metadata": {},
   "cell_type": "markdown",
   "source": "# Show model version",
   "id": "9b44c95b25608bde"
  },
  {
   "cell_type": "code",
   "source": [
    "model_reader = ModelReader()\n",
    "model_reader.get_versions(project_id=project_id)\n"
   ],
   "metadata": {
    "collapsed": false,
    "ExecuteTime": {
     "end_time": "2024-04-22T10:25:44.320760Z",
     "start_time": "2024-04-22T10:25:44.316404Z"
    }
   },
   "id": "d22cd4616ed4e6ac",
   "outputs": [
    {
     "data": {
      "text/plain": [
       "[ModelVersion(version_id=VersionId(value='10c63be6-8de6-416d-b48f-2e00455c597c'), tag=VersionTag(value='v0.0.0'), description=VersionDescription(value='Initial version'))]"
      ]
     },
     "execution_count": 13,
     "metadata": {},
     "output_type": "execute_result"
    }
   ],
   "execution_count": 13
  },
  {
   "metadata": {
    "ExecuteTime": {
     "end_time": "2024-04-22T10:25:44.330864Z",
     "start_time": "2024-04-22T10:25:44.321526Z"
    }
   },
   "cell_type": "code",
   "source": [
    "model_reader = ModelReader()\n",
    "model = model_reader.get_latest_model(project_id)\n",
    "model.layers"
   ],
   "id": "d30bd8b1fd59c39c",
   "outputs": [
    {
     "data": {
      "text/plain": [
       "LayersCollection(layers=[Layer(id=LayerId(value='93659f2b-02c3-461d-8c3a-e28e14a8ae12'), name=LayerName(value='Top Layer'), description=LayerDescription(value='Top Layer'), type=LayerType(type='convertible'), properties=LayerProperties(kx=LayerPropertyValue(value=8.64, raster=None, zones=None), ky=LayerPropertyValue(value=8.64, raster=None, zones=None), kz=LayerPropertyValue(value=0.864, raster=None, zones=None), hani=None, vani=None, specific_storage=LayerPropertyValue(value=1e-05, raster=None, zones=None), specific_yield=LayerPropertyValue(value=0.2, raster=None, zones=None), initial_head=LayerPropertyValue(value=460, raster=None, zones=None), top=LayerPropertyValue(value=460, raster=None, zones=None), bottom=LayerPropertyValue(value=450, raster=None, zones=None))), Layer(id=LayerId(value='eccf46a9-1585-46e0-b353-91fcc218955f'), name=LayerName(value='Aquitard'), description=LayerDescription(value='Aquitard'), type=LayerType(type='confined'), properties=LayerProperties(kx=LayerPropertyValue(value=10, raster=None, zones=None), ky=LayerPropertyValue(value=10, raster=None, zones=None), kz=LayerPropertyValue(value=0.1, raster=None, zones=None), hani=None, vani=None, specific_storage=LayerPropertyValue(value=1e-05, raster=None, zones=None), specific_yield=LayerPropertyValue(value=0.2, raster=None, zones=None), initial_head=LayerPropertyValue(value=450.0, raster=None, zones=None), top=LayerPropertyValue(value=450.0, raster=None, zones=None), bottom=LayerPropertyValue(value=448.0, raster=None, zones=None))), Layer(id=LayerId(value='b6d7ff87-0dd4-435f-ae5e-0fdd6e750037'), name=LayerName(value='Bottom Layer'), description=LayerDescription(value='Bottom Layer'), type=LayerType(type='unconfined'), properties=LayerProperties(kx=LayerPropertyValue(value=13.33, raster=None, zones=None), ky=LayerPropertyValue(value=8.64, raster=None, zones=None), kz=LayerPropertyValue(value=0.864, raster=None, zones=None), hani=None, vani=None, specific_storage=LayerPropertyValue(value=1e-05, raster=None, zones=None), specific_yield=LayerPropertyValue(value=0.2, raster=None, zones=None), initial_head=LayerPropertyValue(value=448, raster=None, zones=None), top=LayerPropertyValue(value=448, raster=None, zones=None), bottom=LayerPropertyValue(value=390, raster=None, zones=None)))])"
      ]
     },
     "execution_count": 14,
     "metadata": {},
     "output_type": "execute_result"
    }
   ],
   "execution_count": 14
  },
  {
   "metadata": {
    "ExecuteTime": {
     "end_time": "2024-04-22T10:25:44.332985Z",
     "start_time": "2024-04-22T10:25:44.331637Z"
    }
   },
   "cell_type": "code",
   "source": "",
   "id": "2b32c672320db5bf",
   "outputs": [],
   "execution_count": 14
  }
 ],
 "metadata": {
  "kernelspec": {
   "display_name": "Python 3",
   "language": "python",
   "name": "python3"
  },
  "language_info": {
   "codemirror_mode": {
    "name": "ipython",
    "version": 2
   },
   "file_extension": ".py",
   "mimetype": "text/x-python",
   "name": "python",
   "nbconvert_exporter": "python",
   "pygments_lexer": "ipython2",
   "version": "2.7.6"
  }
 },
 "nbformat": 4,
 "nbformat_minor": 5
}
