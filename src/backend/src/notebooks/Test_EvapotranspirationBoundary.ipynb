{
 "cells": [
  {
   "cell_type": "code",
   "execution_count": 1,
   "id": "ba6761fae9d5e5cb",
   "metadata": {
    "ExecuteTime": {
     "end_time": "2024-05-14T08:10:31.243937Z",
     "start_time": "2024-05-14T08:10:31.242091Z"
    },
    "collapsed": false,
    "execution": {
     "iopub.execute_input": "2024-05-15T16:00:14.520339Z",
     "iopub.status.busy": "2024-05-15T16:00:14.519574Z",
     "iopub.status.idle": "2024-05-15T16:00:14.525780Z",
     "shell.execute_reply": "2024-05-15T16:00:14.525019Z"
    },
    "papermill": {
     "duration": 0.024269,
     "end_time": "2024-05-15T16:00:14.528805",
     "exception": false,
     "start_time": "2024-05-15T16:00:14.504536",
     "status": "completed"
    },
    "tags": []
   },
   "source": [
    "import sys\n",
    "\n",
    "sys.path.insert(0, '..')"
   ],
   "outputs": []
  },
  {
   "cell_type": "markdown",
   "id": "5ede1ba5e0993dd1",
   "metadata": {
    "collapsed": false,
    "papermill": {
     "duration": 0.009096,
     "end_time": "2024-05-15T16:00:14.548932",
     "exception": false,
     "start_time": "2024-05-15T16:00:14.539836",
     "status": "completed"
    },
    "tags": []
   },
   "source": [
    "## Setup the model area"
   ]
  },
  {
   "cell_type": "code",
   "execution_count": 2,
   "id": "2f69504ab35487aa",
   "metadata": {
    "ExecuteTime": {
     "end_time": "2024-05-14T08:10:32.036761Z",
     "start_time": "2024-05-14T08:10:31.289013Z"
    },
    "collapsed": false,
    "execution": {
     "iopub.execute_input": "2024-05-15T16:00:14.561110Z",
     "iopub.status.busy": "2024-05-15T16:00:14.560646Z",
     "iopub.status.idle": "2024-05-15T16:00:15.078885Z",
     "shell.execute_reply": "2024-05-15T16:00:15.078604Z"
    },
    "papermill": {
     "duration": 0.525985,
     "end_time": "2024-05-15T16:00:15.079862",
     "exception": false,
     "start_time": "2024-05-15T16:00:14.553877",
     "status": "completed"
    },
    "tags": []
   },
   "source": [
    "from morpheus.project.types.discretization import SpatialDiscretization\n",
    "from morpheus.project.types.discretization.spatial import Rotation, Grid, Crs\n",
    "from morpheus.project.types.geometry import Polygon, LineString\n",
    "\n",
    "polygon = Polygon(\n",
    "  type='Polygon',\n",
    "  coordinates=[[\n",
    "    (13.92, 50.964),\n",
    "    (13.92, 50.966),\n",
    "    (13.925, 50.966),\n",
    "    (13.925, 50.964),\n",
    "    (13.92, 50.964)\n",
    "  ]]\n",
    ")\n",
    "\n",
    "rotation = Rotation(0)\n",
    "\n",
    "grid = Grid.cartesian_from_polygon(polygon=polygon, n_cols=100, n_rows=50, rotation=rotation)\n",
    "spatial_discretization = SpatialDiscretization.from_geometry_with_grid(\n",
    "  geometry=polygon,\n",
    "  grid=grid,\n",
    "  crs=Crs.from_str('EPSG:4326')\n",
    ")"
   ],
   "outputs": []
  },
  {
   "cell_type": "markdown",
   "id": "fa27e67f9d801845",
   "metadata": {
    "collapsed": false,
    "papermill": {
     "duration": 0.001959,
     "end_time": "2024-05-15T16:00:15.084107",
     "exception": false,
     "start_time": "2024-05-15T16:00:15.082148",
     "status": "completed"
    },
    "tags": []
   },
   "source": [
    "## Setup Time Discretization"
   ]
  },
  {
   "cell_type": "code",
   "execution_count": 3,
   "id": "8e4e63dd138db9fc",
   "metadata": {
    "ExecuteTime": {
     "end_time": "2024-05-14T08:10:32.040505Z",
     "start_time": "2024-05-14T08:10:32.037710Z"
    },
    "collapsed": false,
    "execution": {
     "iopub.execute_input": "2024-05-15T16:00:15.088594Z",
     "iopub.status.busy": "2024-05-15T16:00:15.088449Z",
     "iopub.status.idle": "2024-05-15T16:00:15.090867Z",
     "shell.execute_reply": "2024-05-15T16:00:15.090645Z"
    },
    "papermill": {
     "duration": 0.005601,
     "end_time": "2024-05-15T16:00:15.091602",
     "exception": false,
     "start_time": "2024-05-15T16:00:15.086001",
     "status": "completed"
    },
    "tags": []
   },
   "source": [
    "from morpheus.project.types.discretization.time.TimeUnit import TimeUnit\n",
    "from morpheus.project.types.discretization.time.Stressperiods import StartDateTime, StressPeriodCollection, \\\n",
    "  StressPeriod, NumberOfTimeSteps, TimeStepMultiplier, IsSteadyState\n",
    "from morpheus.project.types.discretization.time import TimeDiscretization\n",
    "from datetime import datetime\n",
    "\n",
    "time_discretization = TimeDiscretization(\n",
    "  start_date_time=StartDateTime.from_datetime(datetime(2020, 1, 1)),\n",
    "  end_date_time=StartDateTime.from_datetime(datetime(2020, 12, 31)),\n",
    "  stress_periods=StressPeriodCollection([\n",
    "    StressPeriod(\n",
    "      start_date_time=StartDateTime.from_datetime(datetime(2020, 1, 1)),\n",
    "      number_of_time_steps=NumberOfTimeSteps(1),\n",
    "      time_step_multiplier=TimeStepMultiplier(1),\n",
    "      steady_state=IsSteadyState.yes()\n",
    "    ),\n",
    "  ]),\n",
    "  time_unit=TimeUnit.days()\n",
    ")"
   ],
   "outputs": []
  },
  {
   "cell_type": "markdown",
   "id": "963ba8729f09fcec",
   "metadata": {
    "collapsed": false,
    "papermill": {
     "duration": 0.001893,
     "end_time": "2024-05-15T16:00:15.095460",
     "exception": false,
     "start_time": "2024-05-15T16:00:15.093567",
     "status": "completed"
    },
    "tags": []
   },
   "source": [
    "# Setup Model"
   ]
  },
  {
   "cell_type": "code",
   "execution_count": 4,
   "id": "1d5c9125b1b9360b",
   "metadata": {
    "ExecuteTime": {
     "end_time": "2024-05-14T08:10:32.503994Z",
     "start_time": "2024-05-14T08:10:32.041113Z"
    },
    "collapsed": false,
    "execution": {
     "iopub.execute_input": "2024-05-15T16:00:15.099814Z",
     "iopub.status.busy": "2024-05-15T16:00:15.099697Z",
     "iopub.status.idle": "2024-05-15T16:00:15.431524Z",
     "shell.execute_reply": "2024-05-15T16:00:15.431152Z"
    },
    "papermill": {
     "duration": 0.335359,
     "end_time": "2024-05-15T16:00:15.432701",
     "exception": false,
     "start_time": "2024-05-15T16:00:15.097342",
     "status": "completed"
    },
    "tags": []
   },
   "source": [
    "from morpheus.project.types.Model import Model\n",
    "\n",
    "model = Model.new()\n",
    "model = model.with_updated_time_discretization(time_discretization)\n",
    "model = model.with_updated_spatial_discretization(spatial_discretization=spatial_discretization)"
   ],
   "outputs": []
  },
  {
   "cell_type": "code",
   "execution_count": 5,
   "id": "1540b870ae83f298",
   "metadata": {
    "ExecuteTime": {
     "end_time": "2024-05-14T08:10:32.833132Z",
     "start_time": "2024-05-14T08:10:32.505561Z"
    },
    "collapsed": false,
    "execution": {
     "iopub.execute_input": "2024-05-15T16:00:15.438929Z",
     "iopub.status.busy": "2024-05-15T16:00:15.438488Z",
     "iopub.status.idle": "2024-05-15T16:00:15.690169Z",
     "shell.execute_reply": "2024-05-15T16:00:15.689880Z"
    },
    "papermill": {
     "duration": 0.255628,
     "end_time": "2024-05-15T16:00:15.691095",
     "exception": false,
     "start_time": "2024-05-15T16:00:15.435467",
     "status": "completed"
    },
    "tags": []
   },
   "source": [
    "import folium\n",
    "\n",
    "m = folium.Map(tiles=\"cartodbpositron\", crs=\"EPSG3857\", zoom_start=12, location=[50.965, 13.922])\n",
    "m.add_child(folium.GeoJson(polygon.as_geojson()))\n",
    "\n",
    "m.fit_bounds(m.get_bounds())\n",
    "m"
   ],
   "outputs": []
  },
  {
   "cell_type": "markdown",
   "id": "62ae3587df801000",
   "metadata": {
    "collapsed": false,
    "papermill": {
     "duration": 0.002489,
     "end_time": "2024-05-15T16:00:15.696259",
     "exception": false,
     "start_time": "2024-05-15T16:00:15.693770",
     "status": "completed"
    },
    "tags": []
   },
   "source": [
    "# Setup general head boundaries"
   ]
  },
  {
   "cell_type": "code",
   "execution_count": 6,
   "id": "53679913aee28ce9",
   "metadata": {
    "ExecuteTime": {
     "end_time": "2024-05-14T08:10:34.578399Z",
     "start_time": "2024-05-14T08:10:32.835678Z"
    },
    "collapsed": false,
    "execution": {
     "iopub.execute_input": "2024-05-15T16:00:15.702148Z",
     "iopub.status.busy": "2024-05-15T16:00:15.701934Z",
     "iopub.status.idle": "2024-05-15T16:00:16.713829Z",
     "shell.execute_reply": "2024-05-15T16:00:16.713514Z"
    },
    "papermill": {
     "duration": 1.016128,
     "end_time": "2024-05-15T16:00:16.714896",
     "exception": false,
     "start_time": "2024-05-15T16:00:15.698768",
     "status": "completed"
    },
    "tags": []
   },
   "source": [
    "from morpheus.project.types.boundaries.Observation import ObservationName\n",
    "from morpheus.project.types.boundaries.GeneralHeadObservation import ObservationId, GeneralHeadRawDataItem, \\\n",
    "  GeneralHeadObservation, Stage, Conductance\n",
    "from morpheus.project.types.geometry import Point\n",
    "from morpheus.project.types.boundaries.Boundary import BoundaryName, BoundaryCollection\n",
    "from morpheus.project.types.boundaries.Boundary import GeneralHeadBoundary\n",
    "\n",
    "general_head_east = GeneralHeadBoundary.from_geometry(\n",
    "  name=BoundaryName('general_head_east'),\n",
    "  geometry=LineString([\n",
    "    (13.92499, 50.966),\n",
    "    (13.92499, 50.964),\n",
    "  ]),\n",
    "  grid=grid,\n",
    "  affected_layers=[model.layers[0].layer_id],\n",
    "  observations=[\n",
    "    GeneralHeadObservation(\n",
    "      observation_id=ObservationId.new(),\n",
    "      observation_name=ObservationName.default(),\n",
    "      geometry=Point((13.92499, 50.966)),\n",
    "      data=[\n",
    "        GeneralHeadRawDataItem(\n",
    "          date_time=StartDateTime.from_datetime(datetime(2019, 1, 1)),\n",
    "          stage=Stage.from_float(100),\n",
    "          conductance=Conductance.from_float(100),\n",
    "        ),\n",
    "        GeneralHeadRawDataItem(\n",
    "          date_time=StartDateTime.from_datetime(datetime(2021, 12, 31)),\n",
    "          stage=Stage.from_float(100),\n",
    "          conductance=Conductance.from_float(100),\n",
    "        ),\n",
    "      ]\n",
    "    ),\n",
    "  ]\n",
    ")\n",
    "\n",
    "general_head_west = GeneralHeadBoundary.from_geometry(\n",
    "  name=BoundaryName('general_head_west'),\n",
    "  geometry=LineString([\n",
    "    (13.92004, 50.96401),\n",
    "    (13.92004, 50.96599),\n",
    "  ]),\n",
    "  grid=grid,\n",
    "  affected_layers=[model.layers[0].layer_id],\n",
    "  observations=[\n",
    "    GeneralHeadObservation(\n",
    "      observation_id=ObservationId.new(),\n",
    "      observation_name=ObservationName.default(),\n",
    "      geometry=Point((13.92004, 50.96599)),\n",
    "      data=[\n",
    "        GeneralHeadRawDataItem(\n",
    "          date_time=StartDateTime.from_datetime(datetime(2019, 1, 1)),\n",
    "          stage=Stage.from_float(100),\n",
    "          conductance=Conductance.from_float(300),\n",
    "        ),\n",
    "        GeneralHeadRawDataItem(\n",
    "          date_time=StartDateTime.from_datetime(datetime(2021, 12, 31)),\n",
    "          stage=Stage.from_float(100),\n",
    "          conductance=Conductance.from_float(300),\n",
    "        ),\n",
    "      ]\n",
    "    ),\n",
    "  ]\n",
    ")\n",
    "\n",
    "boundary_collection = BoundaryCollection.new()\n",
    "boundary_collection.add_boundary(general_head_west)\n",
    "boundary_collection.add_boundary(general_head_east)\n",
    "\n",
    "model = model.with_updated_boundaries(boundaries=boundary_collection)\n",
    "\n",
    "m.add_child(folium.GeoJson(general_head_east.as_geojson()))\n",
    "m.add_child(folium.GeoJson(general_head_east.affected_cells.to_geojson(grid).as_geojson()))\n",
    "for observation in general_head_east.observations:\n",
    "  m.add_child(folium.GeoJson(observation.as_geojson()))\n",
    "\n",
    "m.add_child(folium.GeoJson(general_head_west.as_geojson()))\n",
    "m.add_child(folium.GeoJson(general_head_west.affected_cells.to_geojson(grid).as_geojson()))\n",
    "for observation in general_head_west.observations:\n",
    "  m.add_child(folium.GeoJson(observation.as_geojson()))\n",
    "m.fit_bounds(m.get_bounds())\n",
    "m"
   ],
   "outputs": []
  },
  {
   "cell_type": "markdown",
   "id": "c77083343e8d9b41",
   "metadata": {
    "collapsed": false,
    "papermill": {
     "duration": 0.002602,
     "end_time": "2024-05-15T16:00:16.720337",
     "exception": false,
     "start_time": "2024-05-15T16:00:16.717735",
     "status": "completed"
    },
    "tags": []
   },
   "source": [
    "# Setup Evapotranspiration Boundary"
   ]
  },
  {
   "cell_type": "code",
   "execution_count": 7,
   "id": "b86bf9a016e5db0d",
   "metadata": {
    "ExecuteTime": {
     "end_time": "2024-05-14T08:10:35.386261Z",
     "start_time": "2024-05-14T08:10:34.579076Z"
    },
    "collapsed": false,
    "execution": {
     "iopub.execute_input": "2024-05-15T16:00:16.726128Z",
     "iopub.status.busy": "2024-05-15T16:00:16.725985Z",
     "iopub.status.idle": "2024-05-15T16:00:17.218939Z",
     "shell.execute_reply": "2024-05-15T16:00:17.218669Z"
    },
    "papermill": {
     "duration": 0.49933,
     "end_time": "2024-05-15T16:00:17.222306",
     "exception": false,
     "start_time": "2024-05-15T16:00:16.722976",
     "status": "completed"
    },
    "tags": []
   },
   "source": [
    "from morpheus.project.types.boundaries.Boundary import EvapotranspirationBoundary\n",
    "from morpheus.project.types.boundaries.EvapotranspirationObservation import EvapotranspirationRawDataItem, \\\n",
    "  ExtinctionDepth, SurfaceElevation, Evapotranspiration\n",
    "\n",
    "evapotranspiration_area = Polygon(\n",
    "  type='Polygon',\n",
    "  coordinates=[[\n",
    "    (\n",
    "      13.92181326103696,\n",
    "      50.96574333352123\n",
    "    ),\n",
    "    (\n",
    "      13.92181326103696,\n",
    "      50.96440649737727\n",
    "    ),\n",
    "    (\n",
    "      13.923994608237564,\n",
    "      50.96440649737727\n",
    "    ),\n",
    "    (\n",
    "      13.923994608237564,\n",
    "      50.96574333352123\n",
    "    ),\n",
    "    (\n",
    "      13.92181326103696,\n",
    "      50.96574333352123\n",
    "    )\n",
    "  ]]\n",
    "\n",
    ")\n",
    "\n",
    "evapotranspiration = EvapotranspirationBoundary.from_geometry(\n",
    "  name=BoundaryName('evapotranspiration'),\n",
    "  geometry=evapotranspiration_area,\n",
    "  grid=grid,\n",
    "  affected_layers=[model.layers[0].layer_id],\n",
    "  data=[\n",
    "    EvapotranspirationRawDataItem(\n",
    "      date_time=StartDateTime.from_datetime(datetime(2019, 1, 1)),\n",
    "      evapotranspiration=Evapotranspiration.from_float(0.001),\n",
    "      extinction_depth=ExtinctionDepth.from_float(0.1),\n",
    "      surface_elevation=SurfaceElevation.from_float(100),\n",
    "    ),\n",
    "    EvapotranspirationRawDataItem(\n",
    "      date_time=StartDateTime.from_datetime(datetime(2021, 12, 31)),\n",
    "      evapotranspiration=Evapotranspiration.from_float(0.001),\n",
    "      extinction_depth=ExtinctionDepth.from_float(0.1),\n",
    "      surface_elevation=SurfaceElevation.from_float(100),\n",
    "    ),\n",
    "  ]\n",
    ")\n",
    "\n",
    "boundary_collection.add_boundary(evapotranspiration)\n",
    "\n",
    "m.add_child(folium.GeoJson(evapotranspiration.as_geojson()))\n",
    "m.add_child(folium.GeoJson(evapotranspiration.affected_cells.to_geojson(grid).as_geojson()))\n",
    "m.fit_bounds(m.get_bounds())\n",
    "m"
   ],
   "outputs": []
  },
  {
   "cell_type": "code",
   "execution_count": 8,
   "id": "dc338472e1887a13",
   "metadata": {
    "ExecuteTime": {
     "end_time": "2024-05-14T08:10:37.771951Z",
     "start_time": "2024-05-14T08:10:35.389804Z"
    },
    "collapsed": false,
    "execution": {
     "iopub.execute_input": "2024-05-15T16:00:17.231443Z",
     "iopub.status.busy": "2024-05-15T16:00:17.231310Z",
     "iopub.status.idle": "2024-05-15T16:00:17.558687Z",
     "shell.execute_reply": "2024-05-15T16:00:17.558454Z"
    },
    "papermill": {
     "duration": 0.332918,
     "end_time": "2024-05-15T16:00:17.559497",
     "exception": false,
     "start_time": "2024-05-15T16:00:17.226579",
     "status": "completed"
    },
    "tags": []
   },
   "source": [
    "from morpheus.project.infrastructure.calculation.engines.modflow_2005.packages.EvtPackageMapper import \\\n",
    "  calculate_evt_boundary_stress_period_data\n",
    "\n",
    "result = calculate_evt_boundary_stress_period_data(\n",
    "  spatial_discretization=spatial_discretization,\n",
    "  time_discretization=time_discretization,\n",
    "  layers=model.layers,\n",
    "  evt_boundary=evapotranspiration,\n",
    ")\n",
    "result.to_dict(2)[0]"
   ],
   "outputs": []
  },
  {
   "cell_type": "markdown",
   "id": "42d948d145a8457a",
   "metadata": {
    "collapsed": false,
    "papermill": {
     "duration": 0.005609,
     "end_time": "2024-05-15T16:00:17.570432",
     "exception": false,
     "start_time": "2024-05-15T16:00:17.564823",
     "status": "completed"
    },
    "tags": []
   },
   "source": [
    "## Calculate"
   ]
  },
  {
   "cell_type": "code",
   "execution_count": 9,
   "id": "56ccabee86e2397e",
   "metadata": {
    "ExecuteTime": {
     "end_time": "2024-05-14T08:10:37.798753Z",
     "start_time": "2024-05-14T08:10:37.774387Z"
    },
    "collapsed": false,
    "execution": {
     "iopub.execute_input": "2024-05-15T16:00:17.581899Z",
     "iopub.status.busy": "2024-05-15T16:00:17.581623Z",
     "iopub.status.idle": "2024-05-15T16:00:17.592125Z",
     "shell.execute_reply": "2024-05-15T16:00:17.591896Z"
    },
    "papermill": {
     "duration": 0.017089,
     "end_time": "2024-05-15T16:00:17.592968",
     "exception": false,
     "start_time": "2024-05-15T16:00:17.575879",
     "status": "completed"
    },
    "tags": []
   },
   "source": [
    "from morpheus.project.types.calculation.CalculationProfile import CalculationProfile, CalculationEngineType\n",
    "from morpheus.project.types.calculation.Calculation import Calculation\n",
    "\n",
    "calculation_profile = CalculationProfile.new(CalculationEngineType.MF2005)\n",
    "calculation = Calculation.new(model=model, calculation_profile=calculation_profile)"
   ],
   "outputs": []
  },
  {
   "cell_type": "code",
   "execution_count": 10,
   "id": "e09d94e0a94315cb",
   "metadata": {
    "ExecuteTime": {
     "end_time": "2024-05-14T08:10:37.955754Z",
     "start_time": "2024-05-14T08:10:37.799683Z"
    },
    "collapsed": false,
    "execution": {
     "iopub.execute_input": "2024-05-15T16:00:17.603704Z",
     "iopub.status.busy": "2024-05-15T16:00:17.603585Z",
     "iopub.status.idle": "2024-05-15T16:00:17.610917Z",
     "shell.execute_reply": "2024-05-15T16:00:17.610705Z"
    },
    "papermill": {
     "duration": 0.013481,
     "end_time": "2024-05-15T16:00:17.611653",
     "exception": false,
     "start_time": "2024-05-15T16:00:17.598172",
     "status": "completed"
    },
    "tags": []
   },
   "source": [
    "calculation = Calculation.from_dict(calculation.to_dict())\n",
    "calculation.calculation_id"
   ],
   "outputs": []
  },
  {
   "cell_type": "code",
   "execution_count": 11,
   "id": "672007fb90753c4c",
   "metadata": {
    "ExecuteTime": {
     "end_time": "2024-05-14T08:10:39.182679Z",
     "start_time": "2024-05-14T08:10:37.958584Z"
    },
    "collapsed": false,
    "execution": {
     "iopub.execute_input": "2024-05-15T16:00:17.623266Z",
     "iopub.status.busy": "2024-05-15T16:00:17.623099Z",
     "iopub.status.idle": "2024-05-15T16:00:18.148709Z",
     "shell.execute_reply": "2024-05-15T16:00:18.148417Z"
    },
    "papermill": {
     "duration": 0.533146,
     "end_time": "2024-05-15T16:00:18.150227",
     "exception": false,
     "start_time": "2024-05-15T16:00:17.617081",
     "status": "completed"
    },
    "tags": []
   },
   "source": [
    "from morpheus.project.infrastructure.calculation.services.CalculationService import CalculationService\n",
    "\n",
    "calculation_service = CalculationService.from_calculation(calculation)\n",
    "calculation_service.calculate()"
   ],
   "outputs": []
  },
  {
   "cell_type": "code",
   "execution_count": 12,
   "id": "a52d1dd3a1574032",
   "metadata": {
    "ExecuteTime": {
     "end_time": "2024-05-14T08:10:39.187996Z",
     "start_time": "2024-05-14T08:10:39.184033Z"
    },
    "collapsed": false,
    "execution": {
     "iopub.execute_input": "2024-05-15T16:00:18.163233Z",
     "iopub.status.busy": "2024-05-15T16:00:18.162889Z",
     "iopub.status.idle": "2024-05-15T16:00:18.165424Z",
     "shell.execute_reply": "2024-05-15T16:00:18.165166Z"
    },
    "papermill": {
     "duration": 0.010018,
     "end_time": "2024-05-15T16:00:18.166244",
     "exception": false,
     "start_time": "2024-05-15T16:00:18.156226",
     "status": "completed"
    },
    "tags": []
   },
   "source": [
    "calculation_service.get_result()"
   ],
   "outputs": []
  },
  {
   "cell_type": "code",
   "execution_count": 13,
   "id": "cc43ad077c7a81d0",
   "metadata": {
    "ExecuteTime": {
     "end_time": "2024-05-14T08:10:39.192366Z",
     "start_time": "2024-05-14T08:10:39.189071Z"
    },
    "collapsed": false,
    "execution": {
     "iopub.execute_input": "2024-05-15T16:00:18.180105Z",
     "iopub.status.busy": "2024-05-15T16:00:18.179977Z",
     "iopub.status.idle": "2024-05-15T16:00:18.182276Z",
     "shell.execute_reply": "2024-05-15T16:00:18.182042Z"
    },
    "papermill": {
     "duration": 0.010034,
     "end_time": "2024-05-15T16:00:18.183051",
     "exception": false,
     "start_time": "2024-05-15T16:00:18.173017",
     "status": "completed"
    },
    "tags": []
   },
   "source": [
    "head = calculation_service.read_head(0, 0)"
   ],
   "outputs": []
  },
  {
   "cell_type": "code",
   "execution_count": 14,
   "id": "12454cc4d9e18de5",
   "metadata": {
    "ExecuteTime": {
     "end_time": "2024-05-14T08:10:39.199718Z",
     "start_time": "2024-05-14T08:10:39.193405Z"
    },
    "collapsed": false,
    "execution": {
     "iopub.execute_input": "2024-05-15T16:00:18.195143Z",
     "iopub.status.busy": "2024-05-15T16:00:18.195035Z",
     "iopub.status.idle": "2024-05-15T16:00:18.199802Z",
     "shell.execute_reply": "2024-05-15T16:00:18.199570Z"
    },
    "papermill": {
     "duration": 0.011749,
     "end_time": "2024-05-15T16:00:18.200612",
     "exception": false,
     "start_time": "2024-05-15T16:00:18.188863",
     "status": "completed"
    },
    "tags": []
   },
   "source": [
    "import simplejson as json\n",
    "\n",
    "json = json.dumps(head, ignore_nan=True)\n",
    "json"
   ],
   "outputs": []
  },
  {
   "cell_type": "code",
   "execution_count": 15,
   "id": "df7dfd8ff0308815",
   "metadata": {
    "ExecuteTime": {
     "end_time": "2024-05-14T08:10:39.204015Z",
     "start_time": "2024-05-14T08:10:39.200503Z"
    },
    "collapsed": false,
    "execution": {
     "iopub.execute_input": "2024-05-15T16:00:18.214296Z",
     "iopub.status.busy": "2024-05-15T16:00:18.214167Z",
     "iopub.status.idle": "2024-05-15T16:00:18.216334Z",
     "shell.execute_reply": "2024-05-15T16:00:18.216122Z"
    },
    "papermill": {
     "duration": 0.009819,
     "end_time": "2024-05-15T16:00:18.217078",
     "exception": false,
     "start_time": "2024-05-15T16:00:18.207259",
     "status": "completed"
    },
    "tags": []
   },
   "source": [
    "calculation_service.read_drawdown(0, 0)"
   ],
   "outputs": []
  },
  {
   "cell_type": "code",
   "execution_count": 16,
   "id": "b233f4066b56c174",
   "metadata": {
    "ExecuteTime": {
     "end_time": "2024-05-14T08:10:39.210701Z",
     "start_time": "2024-05-14T08:10:39.204857Z"
    },
    "collapsed": false,
    "execution": {
     "iopub.execute_input": "2024-05-15T16:00:18.230368Z",
     "iopub.status.busy": "2024-05-15T16:00:18.230225Z",
     "iopub.status.idle": "2024-05-15T16:00:18.233668Z",
     "shell.execute_reply": "2024-05-15T16:00:18.233442Z"
    },
    "papermill": {
     "duration": 0.011218,
     "end_time": "2024-05-15T16:00:18.234471",
     "exception": false,
     "start_time": "2024-05-15T16:00:18.223253",
     "status": "completed"
    },
    "tags": []
   },
   "source": [
    "calculation_service.read_budget(0, False)"
   ],
   "outputs": []
  },
  {
   "cell_type": "code",
   "execution_count": 17,
   "id": "634709d741f5c252",
   "metadata": {
    "ExecuteTime": {
     "end_time": "2024-05-14T08:10:39.216524Z",
     "start_time": "2024-05-14T08:10:39.211460Z"
    },
    "collapsed": false,
    "execution": {
     "iopub.execute_input": "2024-05-15T16:00:18.248083Z",
     "iopub.status.busy": "2024-05-15T16:00:18.247882Z",
     "iopub.status.idle": "2024-05-15T16:00:18.251274Z",
     "shell.execute_reply": "2024-05-15T16:00:18.251039Z"
    },
    "papermill": {
     "duration": 0.011093,
     "end_time": "2024-05-15T16:00:18.252029",
     "exception": false,
     "start_time": "2024-05-15T16:00:18.240936",
     "status": "completed"
    },
    "tags": []
   },
   "source": [
    "calculation_service.read_budget(0, True)"
   ],
   "outputs": []
  },
  {
   "cell_type": "code",
   "execution_count": 18,
   "id": "26523066436690e6",
   "metadata": {
    "ExecuteTime": {
     "end_time": "2024-05-14T08:10:39.220015Z",
     "start_time": "2024-05-14T08:10:39.217344Z"
    },
    "collapsed": false,
    "execution": {
     "iopub.execute_input": "2024-05-15T16:00:18.265636Z",
     "iopub.status.busy": "2024-05-15T16:00:18.265520Z",
     "iopub.status.idle": "2024-05-15T16:00:18.267544Z",
     "shell.execute_reply": "2024-05-15T16:00:18.267337Z"
    },
    "papermill": {
     "duration": 0.009709,
     "end_time": "2024-05-15T16:00:18.268294",
     "exception": false,
     "start_time": "2024-05-15T16:00:18.258585",
     "status": "completed"
    },
    "tags": []
   },
   "source": [
    "calculation_service.get_result()"
   ],
   "outputs": []
  },
  {
   "cell_type": "code",
   "execution_count": 19,
   "id": "160abd7d290c83f7",
   "metadata": {
    "ExecuteTime": {
     "end_time": "2024-05-14T08:10:39.377489Z",
     "start_time": "2024-05-14T08:10:39.220808Z"
    },
    "collapsed": false,
    "execution": {
     "iopub.execute_input": "2024-05-15T16:00:18.282390Z",
     "iopub.status.busy": "2024-05-15T16:00:18.282257Z",
     "iopub.status.idle": "2024-05-15T16:00:18.402883Z",
     "shell.execute_reply": "2024-05-15T16:00:18.399479Z"
    },
    "papermill": {
     "duration": 0.130251,
     "end_time": "2024-05-15T16:00:18.405336",
     "exception": false,
     "start_time": "2024-05-15T16:00:18.275085",
     "status": "completed"
    },
    "tags": []
   },
   "source": [
    "import matplotlib.pyplot as plt\n",
    "\n",
    "heads = calculation_service.read_head(0, 0)\n",
    "plt.subplot(2, 1, 1)\n",
    "plt.imshow(heads, cmap='jet_r')\n",
    "plt.colorbar()\n",
    "plt.show()"
   ],
   "outputs": []
  }
 ],
 "metadata": {
  "kernelspec": {
   "display_name": "Python 3",
   "language": "python",
   "name": "python3"
  },
  "language_info": {
   "codemirror_mode": {
    "name": "ipython",
    "version": 3
   },
   "file_extension": ".py",
   "mimetype": "text/x-python",
   "name": "python",
   "nbconvert_exporter": "python",
   "pygments_lexer": "ipython3",
   "version": "3.12.2"
  },
  "papermill": {
   "default_parameters": {},
   "duration": 5.241298,
   "end_time": "2024-05-15T16:00:19.246860",
   "environment_variables": {},
   "exception": null,
   "input_path": "./notebooks/Test_EvapotranspirationBoundary.ipynb",
   "output_path": "./notebooks/Test_EvapotranspirationBoundary.ipynb",
   "parameters": {},
   "start_time": "2024-05-15T16:00:14.005562",
   "version": "2.6.0"
  }
 },
 "nbformat": 4,
 "nbformat_minor": 5
}
