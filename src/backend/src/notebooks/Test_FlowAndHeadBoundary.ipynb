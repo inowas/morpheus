{
 "cells": [
  {
   "cell_type": "code",
   "id": "ba6761fae9d5e5cb",
   "metadata": {
    "collapsed": false,
    "execution": {
     "iopub.execute_input": "2024-06-20T19:02:49.848572Z",
     "iopub.status.busy": "2024-06-20T19:02:49.848203Z",
     "iopub.status.idle": "2024-06-20T19:02:49.853529Z",
     "shell.execute_reply": "2024-06-20T19:02:49.852890Z"
    },
    "papermill": {
     "duration": 0.019188,
     "end_time": "2024-06-20T19:02:49.855525",
     "exception": false,
     "start_time": "2024-06-20T19:02:49.836337",
     "status": "completed"
    },
    "tags": [],
    "ExecuteTime": {
     "end_time": "2024-08-19T10:15:23.031098Z",
     "start_time": "2024-08-19T10:15:23.026297Z"
    }
   },
   "source": [
    "import sys\n",
    "\n",
    "sys.path.insert(0, '..')"
   ],
   "outputs": [],
   "execution_count": 1
  },
  {
   "cell_type": "markdown",
   "id": "5ede1ba5e0993dd1",
   "metadata": {
    "collapsed": false,
    "papermill": {
     "duration": 0.00271,
     "end_time": "2024-06-20T19:02:49.864896",
     "exception": false,
     "start_time": "2024-06-20T19:02:49.862186",
     "status": "completed"
    },
    "tags": []
   },
   "source": [
    "## Setup the model area"
   ]
  },
  {
   "cell_type": "code",
   "id": "2f69504ab35487aa",
   "metadata": {
    "collapsed": false,
    "execution": {
     "iopub.execute_input": "2024-06-20T19:02:49.872897Z",
     "iopub.status.busy": "2024-06-20T19:02:49.872726Z",
     "iopub.status.idle": "2024-06-20T19:02:50.373860Z",
     "shell.execute_reply": "2024-06-20T19:02:50.373602Z"
    },
    "papermill": {
     "duration": 0.507286,
     "end_time": "2024-06-20T19:02:50.374851",
     "exception": false,
     "start_time": "2024-06-20T19:02:49.867565",
     "status": "completed"
    },
    "tags": [],
    "ExecuteTime": {
     "end_time": "2024-08-19T10:15:23.873848Z",
     "start_time": "2024-08-19T10:15:23.034701Z"
    }
   },
   "source": [
    "from morpheus.project.types.discretization import SpatialDiscretization\n",
    "from morpheus.project.types.discretization.spatial import Rotation, Grid, Crs\n",
    "from morpheus.project.types.geometry import Polygon, LineString\n",
    "\n",
    "polygon = Polygon(\n",
    "  type='Polygon',\n",
    "  coordinates=[[\n",
    "    (13.92, 50.964),\n",
    "    (13.92, 50.966),\n",
    "    (13.925, 50.966),\n",
    "    (13.925, 50.964),\n",
    "    (13.92, 50.964)\n",
    "  ]]\n",
    ")\n",
    "\n",
    "rotation = Rotation(0)\n",
    "\n",
    "grid = Grid.cartesian_from_polygon(polygon=polygon, n_cols=100, n_rows=50, rotation=rotation)\n",
    "spatial_discretization = SpatialDiscretization.from_geometry_with_grid(\n",
    "  geometry=polygon,\n",
    "  grid=grid,\n",
    "  crs=Crs.from_str('EPSG:4326')\n",
    ")"
   ],
   "outputs": [],
   "execution_count": 2
  },
  {
   "cell_type": "markdown",
   "id": "fa27e67f9d801845",
   "metadata": {
    "collapsed": false,
    "papermill": {
     "duration": 0.001895,
     "end_time": "2024-06-20T19:02:50.378931",
     "exception": false,
     "start_time": "2024-06-20T19:02:50.377036",
     "status": "completed"
    },
    "tags": []
   },
   "source": [
    "## Setup Time Discretization"
   ]
  },
  {
   "cell_type": "code",
   "id": "8e4e63dd138db9fc",
   "metadata": {
    "collapsed": false,
    "execution": {
     "iopub.execute_input": "2024-06-20T19:02:50.383258Z",
     "iopub.status.busy": "2024-06-20T19:02:50.383115Z",
     "iopub.status.idle": "2024-06-20T19:02:50.385467Z",
     "shell.execute_reply": "2024-06-20T19:02:50.385257Z"
    },
    "papermill": {
     "duration": 0.005445,
     "end_time": "2024-06-20T19:02:50.386280",
     "exception": false,
     "start_time": "2024-06-20T19:02:50.380835",
     "status": "completed"
    },
    "tags": [],
    "ExecuteTime": {
     "end_time": "2024-08-19T10:15:23.890011Z",
     "start_time": "2024-08-19T10:15:23.877420Z"
    }
   },
   "source": [
    "from morpheus.project.types.discretization.time.TimeUnit import TimeUnit\n",
    "from morpheus.project.types.discretization.time.Stressperiods import StartDateTime, StressPeriodCollection, \\\n",
    "  StressPeriod, NumberOfTimeSteps, TimeStepMultiplier, IsSteadyState\n",
    "from morpheus.project.types.discretization.time import TimeDiscretization\n",
    "from datetime import datetime\n",
    "\n",
    "time_discretization = TimeDiscretization(\n",
    "  start_date_time=StartDateTime.from_datetime(datetime(2020, 1, 1)),\n",
    "  end_date_time=StartDateTime.from_datetime(datetime(2020, 12, 31)),\n",
    "  stress_periods=StressPeriodCollection([\n",
    "    StressPeriod(\n",
    "      start_date_time=StartDateTime.from_datetime(datetime(2020, 1, 1)),\n",
    "      number_of_time_steps=NumberOfTimeSteps(1),\n",
    "      time_step_multiplier=TimeStepMultiplier(1),\n",
    "      steady_state=IsSteadyState.yes()\n",
    "    ),\n",
    "  ]),\n",
    "  time_unit=TimeUnit.days()\n",
    ")"
   ],
   "outputs": [],
   "execution_count": 3
  },
  {
   "cell_type": "markdown",
   "id": "963ba8729f09fcec",
   "metadata": {
    "collapsed": false,
    "papermill": {
     "duration": 0.001809,
     "end_time": "2024-06-20T19:02:50.389946",
     "exception": false,
     "start_time": "2024-06-20T19:02:50.388137",
     "status": "completed"
    },
    "tags": []
   },
   "source": [
    "# Setup Model"
   ]
  },
  {
   "cell_type": "code",
   "id": "1d5c9125b1b9360b",
   "metadata": {
    "collapsed": false,
    "execution": {
     "iopub.execute_input": "2024-06-20T19:02:50.394236Z",
     "iopub.status.busy": "2024-06-20T19:02:50.394130Z",
     "iopub.status.idle": "2024-06-20T19:02:50.712958Z",
     "shell.execute_reply": "2024-06-20T19:02:50.712508Z"
    },
    "papermill": {
     "duration": 0.322211,
     "end_time": "2024-06-20T19:02:50.714149",
     "exception": false,
     "start_time": "2024-06-20T19:02:50.391938",
     "status": "completed"
    },
    "tags": [],
    "ExecuteTime": {
     "end_time": "2024-08-19T10:15:24.561076Z",
     "start_time": "2024-08-19T10:15:23.892330Z"
    }
   },
   "source": [
    "from morpheus.project.types.Model import Model\n",
    "\n",
    "model = Model.new()\n",
    "model = model.with_updated_time_discretization(time_discretization)\n",
    "model = model.with_updated_spatial_discretization(spatial_discretization=spatial_discretization)"
   ],
   "outputs": [],
   "execution_count": 4
  },
  {
   "cell_type": "code",
   "id": "1540b870ae83f298",
   "metadata": {
    "collapsed": false,
    "execution": {
     "iopub.execute_input": "2024-06-20T19:02:50.719646Z",
     "iopub.status.busy": "2024-06-20T19:02:50.719410Z",
     "iopub.status.idle": "2024-06-20T19:02:50.884476Z",
     "shell.execute_reply": "2024-06-20T19:02:50.883591Z"
    },
    "papermill": {
     "duration": 0.169853,
     "end_time": "2024-06-20T19:02:50.886351",
     "exception": false,
     "start_time": "2024-06-20T19:02:50.716498",
     "status": "completed"
    },
    "tags": [],
    "ExecuteTime": {
     "end_time": "2024-08-19T10:15:24.746739Z",
     "start_time": "2024-08-19T10:15:24.562767Z"
    }
   },
   "source": [
    "import folium\n",
    "\n",
    "m = folium.Map(tiles=\"cartodbpositron\", crs=\"EPSG3857\", zoom_start=12, location=[50.965, 13.922])\n",
    "m.add_child(folium.GeoJson(polygon.as_geojson()))\n",
    "\n",
    "m.fit_bounds(m.get_bounds())\n",
    "m"
   ],
   "outputs": [
    {
     "data": {
      "text/plain": [
       "<folium.folium.Map at 0x1656bd8b0>"
      ],
      "text/html": [
       "<div style=\"width:100%;\"><div style=\"position:relative;width:100%;height:0;padding-bottom:60%;\"><span style=\"color:#565656\">Make this Notebook Trusted to load map: File -> Trust Notebook</span><iframe srcdoc=\"&lt;!DOCTYPE html&gt;\n",
       "&lt;html&gt;\n",
       "&lt;head&gt;\n",
       "    \n",
       "    &lt;meta http-equiv=&quot;content-type&quot; content=&quot;text/html; charset=UTF-8&quot; /&gt;\n",
       "    \n",
       "        &lt;script&gt;\n",
       "            L_NO_TOUCH = false;\n",
       "            L_DISABLE_3D = false;\n",
       "        &lt;/script&gt;\n",
       "    \n",
       "    &lt;style&gt;html, body {width: 100%;height: 100%;margin: 0;padding: 0;}&lt;/style&gt;\n",
       "    &lt;style&gt;#map {position:absolute;top:0;bottom:0;right:0;left:0;}&lt;/style&gt;\n",
       "    &lt;script src=&quot;https://cdn.jsdelivr.net/npm/leaflet@1.9.3/dist/leaflet.js&quot;&gt;&lt;/script&gt;\n",
       "    &lt;script src=&quot;https://code.jquery.com/jquery-3.7.1.min.js&quot;&gt;&lt;/script&gt;\n",
       "    &lt;script src=&quot;https://cdn.jsdelivr.net/npm/bootstrap@5.2.2/dist/js/bootstrap.bundle.min.js&quot;&gt;&lt;/script&gt;\n",
       "    &lt;script src=&quot;https://cdnjs.cloudflare.com/ajax/libs/Leaflet.awesome-markers/2.0.2/leaflet.awesome-markers.js&quot;&gt;&lt;/script&gt;\n",
       "    &lt;link rel=&quot;stylesheet&quot; href=&quot;https://cdn.jsdelivr.net/npm/leaflet@1.9.3/dist/leaflet.css&quot;/&gt;\n",
       "    &lt;link rel=&quot;stylesheet&quot; href=&quot;https://cdn.jsdelivr.net/npm/bootstrap@5.2.2/dist/css/bootstrap.min.css&quot;/&gt;\n",
       "    &lt;link rel=&quot;stylesheet&quot; href=&quot;https://netdna.bootstrapcdn.com/bootstrap/3.0.0/css/bootstrap.min.css&quot;/&gt;\n",
       "    &lt;link rel=&quot;stylesheet&quot; href=&quot;https://cdn.jsdelivr.net/npm/@fortawesome/fontawesome-free@6.2.0/css/all.min.css&quot;/&gt;\n",
       "    &lt;link rel=&quot;stylesheet&quot; href=&quot;https://cdnjs.cloudflare.com/ajax/libs/Leaflet.awesome-markers/2.0.2/leaflet.awesome-markers.css&quot;/&gt;\n",
       "    &lt;link rel=&quot;stylesheet&quot; href=&quot;https://cdn.jsdelivr.net/gh/python-visualization/folium/folium/templates/leaflet.awesome.rotate.min.css&quot;/&gt;\n",
       "    \n",
       "            &lt;meta name=&quot;viewport&quot; content=&quot;width=device-width,\n",
       "                initial-scale=1.0, maximum-scale=1.0, user-scalable=no&quot; /&gt;\n",
       "            &lt;style&gt;\n",
       "                #map_0a0d2786b0acfbf57664eba132f4c8c3 {\n",
       "                    position: relative;\n",
       "                    width: 100.0%;\n",
       "                    height: 100.0%;\n",
       "                    left: 0.0%;\n",
       "                    top: 0.0%;\n",
       "                }\n",
       "                .leaflet-container { font-size: 1rem; }\n",
       "            &lt;/style&gt;\n",
       "        \n",
       "&lt;/head&gt;\n",
       "&lt;body&gt;\n",
       "    \n",
       "    \n",
       "            &lt;div class=&quot;folium-map&quot; id=&quot;map_0a0d2786b0acfbf57664eba132f4c8c3&quot; &gt;&lt;/div&gt;\n",
       "        \n",
       "&lt;/body&gt;\n",
       "&lt;script&gt;\n",
       "    \n",
       "    \n",
       "            var map_0a0d2786b0acfbf57664eba132f4c8c3 = L.map(\n",
       "                &quot;map_0a0d2786b0acfbf57664eba132f4c8c3&quot;,\n",
       "                {\n",
       "                    center: [50.965, 13.922],\n",
       "                    crs: L.CRS.EPSG3857,\n",
       "                    zoom: 12,\n",
       "                    zoomControl: true,\n",
       "                    preferCanvas: false,\n",
       "                }\n",
       "            );\n",
       "\n",
       "            \n",
       "\n",
       "        \n",
       "    \n",
       "            var tile_layer_9948c924c73eade48f03cbc909a64325 = L.tileLayer(\n",
       "                &quot;https://{s}.basemaps.cartocdn.com/light_all/{z}/{x}/{y}{r}.png&quot;,\n",
       "                {&quot;attribution&quot;: &quot;\\u0026copy; \\u003ca href=\\&quot;https://www.openstreetmap.org/copyright\\&quot;\\u003eOpenStreetMap\\u003c/a\\u003e contributors \\u0026copy; \\u003ca href=\\&quot;https://carto.com/attributions\\&quot;\\u003eCARTO\\u003c/a\\u003e&quot;, &quot;detectRetina&quot;: false, &quot;maxNativeZoom&quot;: 20, &quot;maxZoom&quot;: 20, &quot;minZoom&quot;: 0, &quot;noWrap&quot;: false, &quot;opacity&quot;: 1, &quot;subdomains&quot;: &quot;abcd&quot;, &quot;tms&quot;: false}\n",
       "            );\n",
       "        \n",
       "    \n",
       "            tile_layer_9948c924c73eade48f03cbc909a64325.addTo(map_0a0d2786b0acfbf57664eba132f4c8c3);\n",
       "        \n",
       "    \n",
       "\n",
       "        function geo_json_30287bdcbe74740cbe2b0226589d79cb_onEachFeature(feature, layer) {\n",
       "            layer.on({\n",
       "            });\n",
       "        };\n",
       "        var geo_json_30287bdcbe74740cbe2b0226589d79cb = L.geoJson(null, {\n",
       "                onEachFeature: geo_json_30287bdcbe74740cbe2b0226589d79cb_onEachFeature,\n",
       "            \n",
       "        });\n",
       "\n",
       "        function geo_json_30287bdcbe74740cbe2b0226589d79cb_add (data) {\n",
       "            geo_json_30287bdcbe74740cbe2b0226589d79cb\n",
       "                .addData(data);\n",
       "        }\n",
       "            geo_json_30287bdcbe74740cbe2b0226589d79cb_add({&quot;coordinates&quot;: [[[13.92, 50.964], [13.92, 50.966], [13.925, 50.966], [13.925, 50.964], [13.92, 50.964]]], &quot;type&quot;: &quot;Polygon&quot;});\n",
       "\n",
       "        \n",
       "    \n",
       "            geo_json_30287bdcbe74740cbe2b0226589d79cb.addTo(map_0a0d2786b0acfbf57664eba132f4c8c3);\n",
       "        \n",
       "    \n",
       "            map_0a0d2786b0acfbf57664eba132f4c8c3.fitBounds(\n",
       "                [[50.964, 13.92], [50.966, 13.925]],\n",
       "                {}\n",
       "            );\n",
       "        \n",
       "&lt;/script&gt;\n",
       "&lt;/html&gt;\" style=\"position:absolute;width:100%;height:100%;left:0;top:0;border:none !important;\" allowfullscreen webkitallowfullscreen mozallowfullscreen></iframe></div></div>"
      ]
     },
     "execution_count": 5,
     "metadata": {},
     "output_type": "execute_result"
    }
   ],
   "execution_count": 5
  },
  {
   "cell_type": "markdown",
   "id": "62ae3587df801000",
   "metadata": {
    "collapsed": false,
    "papermill": {
     "duration": 0.002381,
     "end_time": "2024-06-20T19:02:50.891453",
     "exception": false,
     "start_time": "2024-06-20T19:02:50.889072",
     "status": "completed"
    },
    "tags": []
   },
   "source": [
    "# Setup flow and head boundary with two observations"
   ]
  },
  {
   "cell_type": "code",
   "id": "53679913aee28ce9",
   "metadata": {
    "collapsed": false,
    "execution": {
     "iopub.execute_input": "2024-06-20T19:02:50.897203Z",
     "iopub.status.busy": "2024-06-20T19:02:50.896967Z",
     "iopub.status.idle": "2024-06-20T19:02:51.859834Z",
     "shell.execute_reply": "2024-06-20T19:02:51.859588Z"
    },
    "papermill": {
     "duration": 0.966953,
     "end_time": "2024-06-20T19:02:51.860738",
     "exception": false,
     "start_time": "2024-06-20T19:02:50.893785",
     "status": "completed"
    },
    "tags": [],
    "ExecuteTime": {
     "end_time": "2024-08-19T10:15:25.736568Z",
     "start_time": "2024-08-19T10:15:24.747535Z"
    }
   },
   "source": [
    "from morpheus.project.types.boundaries.Observation import ObservationName\n",
    "from morpheus.project.types.geometry import Point\n",
    "from morpheus.project.types.boundaries.Boundary import BoundaryName, BoundaryCollection\n",
    "from morpheus.project.types.boundaries.Boundary import FlowAndHeadBoundary\n",
    "from morpheus.project.types.boundaries.FlowAndHeadObservation import ObservationId, FlowAndHeadRawDataItem, \\\n",
    "  FlowAndHeadObservation, Flow, Head, StartDateTime\n",
    "\n",
    "head_and_flow_east = FlowAndHeadBoundary.from_geometry(\n",
    "  name=BoundaryName('flow_and_head_east'),\n",
    "  geometry=LineString([\n",
    "    (13.92499, 50.966),\n",
    "    (13.92499, 50.964),\n",
    "  ]),\n",
    "  grid=grid,\n",
    "  affected_layers=[model.layers[0].layer_id],\n",
    "  observations=[\n",
    "    FlowAndHeadObservation(\n",
    "      observation_id=ObservationId.new(),\n",
    "      observation_name=ObservationName.default(),\n",
    "      geometry=Point((13.92499, 50.966)),\n",
    "      data=[\n",
    "        FlowAndHeadRawDataItem(\n",
    "          date_time=StartDateTime.from_datetime(datetime(2020, 1, 1)),\n",
    "          flow=Flow.from_float(100),\n",
    "          head=None\n",
    "        ),\n",
    "        FlowAndHeadRawDataItem(\n",
    "          date_time=StartDateTime.from_datetime(datetime(2020, 2, 1)),\n",
    "          flow=Flow.from_float(110),\n",
    "          head=None\n",
    "        ),\n",
    "        FlowAndHeadRawDataItem(\n",
    "          date_time=StartDateTime.from_datetime(datetime(2021, 12, 31)),\n",
    "          flow=Flow.from_float(140),\n",
    "          head=None\n",
    "        ),\n",
    "      ]\n",
    "    ),\n",
    "    FlowAndHeadObservation(\n",
    "      observation_id=ObservationId.new(),\n",
    "      observation_name=ObservationName.default(),\n",
    "      geometry=Point((13.92499, 50.964)),\n",
    "      data=[\n",
    "        FlowAndHeadRawDataItem(\n",
    "          date_time=StartDateTime.from_datetime(datetime(2020, 1, 1)),\n",
    "          flow=Flow.from_float(200),\n",
    "          head=None\n",
    "        ),\n",
    "        FlowAndHeadRawDataItem(\n",
    "          date_time=StartDateTime.from_datetime(datetime(2020, 2, 1)),\n",
    "          flow=Flow.from_float(210),\n",
    "          head=None\n",
    "        ),\n",
    "        FlowAndHeadRawDataItem(\n",
    "          date_time=StartDateTime.from_datetime(datetime(2021, 12, 31)),\n",
    "          flow=Flow.from_float(240),\n",
    "          head=None\n",
    "        ),\n",
    "      ]\n",
    "    ),\n",
    "  ]\n",
    ")\n",
    "\n",
    "head_and_flow_west = FlowAndHeadBoundary.from_geometry(\n",
    "  name=BoundaryName('flow_and_head_west'),\n",
    "  geometry=LineString([\n",
    "    (13.92004, 50.96401),\n",
    "    (13.92004, 50.96599),\n",
    "  ]),\n",
    "  grid=grid,\n",
    "  affected_layers=[model.layers[0].layer_id],\n",
    "  observations=[\n",
    "    FlowAndHeadObservation(\n",
    "      observation_id=ObservationId.new(),\n",
    "      observation_name=ObservationName.default(),\n",
    "      geometry=Point((13.92004, 50.96599)),\n",
    "      data=[\n",
    "        FlowAndHeadRawDataItem(\n",
    "          date_time=StartDateTime.from_datetime(datetime(2020, 1, 1)),\n",
    "          head=Head.from_float(300),\n",
    "          flow=None\n",
    "        ),\n",
    "        FlowAndHeadRawDataItem(\n",
    "          date_time=StartDateTime.from_datetime(datetime(2021, 12, 31)),\n",
    "          head=Head.from_float(300),\n",
    "          flow=None\n",
    "        ),\n",
    "      ]\n",
    "    ),\n",
    "    FlowAndHeadObservation(\n",
    "      observation_id=ObservationId.new(),\n",
    "      observation_name=ObservationName.default(),\n",
    "      geometry=Point((13.92004, 50.96401)),\n",
    "      data=[\n",
    "        FlowAndHeadRawDataItem(\n",
    "          date_time=StartDateTime.from_datetime(datetime(2020, 1, 1)),\n",
    "          head=Head.from_float(400),\n",
    "          flow=None\n",
    "        ),\n",
    "        FlowAndHeadRawDataItem(\n",
    "          date_time=StartDateTime.from_datetime(datetime(2021, 12, 31)),\n",
    "          head=Head.from_float(400),\n",
    "          flow=None\n",
    "        ),\n",
    "      ]\n",
    "    ),\n",
    "  ]\n",
    ")\n",
    "\n",
    "boundary_collection = BoundaryCollection.new()\n",
    "boundary_collection.add_boundary(head_and_flow_west)\n",
    "boundary_collection.add_boundary(head_and_flow_east)\n",
    "\n",
    "model = model.with_updated_boundaries(boundaries=boundary_collection)\n",
    "\n",
    "m.add_child(folium.GeoJson(head_and_flow_east.as_geojson()))\n",
    "m.add_child(folium.GeoJson(head_and_flow_east.affected_cells.to_geojson(grid).as_geojson()))\n",
    "for observation in head_and_flow_east.observations:\n",
    "  m.add_child(folium.GeoJson(observation.as_geojson()))\n",
    "\n",
    "m.add_child(folium.GeoJson(head_and_flow_west.as_geojson()))\n",
    "m.add_child(folium.GeoJson(head_and_flow_west.affected_cells.to_geojson(grid).as_geojson()))\n",
    "for observation in head_and_flow_west.observations:\n",
    "  m.add_child(folium.GeoJson(observation.as_geojson()))\n",
    "m.fit_bounds(m.get_bounds())\n",
    "m"
   ],
   "outputs": [
    {
     "data": {
      "text/plain": [
       "<folium.folium.Map at 0x1656bd8b0>"
      ],
      "text/html": [
       "<div style=\"width:100%;\"><div style=\"position:relative;width:100%;height:0;padding-bottom:60%;\"><span style=\"color:#565656\">Make this Notebook Trusted to load map: File -> Trust Notebook</span><iframe srcdoc=\"&lt;!DOCTYPE html&gt;\n",
       "&lt;html&gt;\n",
       "&lt;head&gt;\n",
       "    \n",
       "    &lt;meta http-equiv=&quot;content-type&quot; content=&quot;text/html; charset=UTF-8&quot; /&gt;\n",
       "    \n",
       "        &lt;script&gt;\n",
       "            L_NO_TOUCH = false;\n",
       "            L_DISABLE_3D = false;\n",
       "        &lt;/script&gt;\n",
       "    \n",
       "    &lt;style&gt;html, body {width: 100%;height: 100%;margin: 0;padding: 0;}&lt;/style&gt;\n",
       "    &lt;style&gt;#map {position:absolute;top:0;bottom:0;right:0;left:0;}&lt;/style&gt;\n",
       "    &lt;script src=&quot;https://cdn.jsdelivr.net/npm/leaflet@1.9.3/dist/leaflet.js&quot;&gt;&lt;/script&gt;\n",
       "    &lt;script src=&quot;https://code.jquery.com/jquery-3.7.1.min.js&quot;&gt;&lt;/script&gt;\n",
       "    &lt;script src=&quot;https://cdn.jsdelivr.net/npm/bootstrap@5.2.2/dist/js/bootstrap.bundle.min.js&quot;&gt;&lt;/script&gt;\n",
       "    &lt;script src=&quot;https://cdnjs.cloudflare.com/ajax/libs/Leaflet.awesome-markers/2.0.2/leaflet.awesome-markers.js&quot;&gt;&lt;/script&gt;\n",
       "    &lt;link rel=&quot;stylesheet&quot; href=&quot;https://cdn.jsdelivr.net/npm/leaflet@1.9.3/dist/leaflet.css&quot;/&gt;\n",
       "    &lt;link rel=&quot;stylesheet&quot; href=&quot;https://cdn.jsdelivr.net/npm/bootstrap@5.2.2/dist/css/bootstrap.min.css&quot;/&gt;\n",
       "    &lt;link rel=&quot;stylesheet&quot; href=&quot;https://netdna.bootstrapcdn.com/bootstrap/3.0.0/css/bootstrap.min.css&quot;/&gt;\n",
       "    &lt;link rel=&quot;stylesheet&quot; href=&quot;https://cdn.jsdelivr.net/npm/@fortawesome/fontawesome-free@6.2.0/css/all.min.css&quot;/&gt;\n",
       "    &lt;link rel=&quot;stylesheet&quot; href=&quot;https://cdnjs.cloudflare.com/ajax/libs/Leaflet.awesome-markers/2.0.2/leaflet.awesome-markers.css&quot;/&gt;\n",
       "    &lt;link rel=&quot;stylesheet&quot; href=&quot;https://cdn.jsdelivr.net/gh/python-visualization/folium/folium/templates/leaflet.awesome.rotate.min.css&quot;/&gt;\n",
       "    \n",
       "            &lt;meta name=&quot;viewport&quot; content=&quot;width=device-width,\n",
       "                initial-scale=1.0, maximum-scale=1.0, user-scalable=no&quot; /&gt;\n",
       "            &lt;style&gt;\n",
       "                #map_0a0d2786b0acfbf57664eba132f4c8c3 {\n",
       "                    position: relative;\n",
       "                    width: 100.0%;\n",
       "                    height: 100.0%;\n",
       "                    left: 0.0%;\n",
       "                    top: 0.0%;\n",
       "                }\n",
       "                .leaflet-container { font-size: 1rem; }\n",
       "            &lt;/style&gt;\n",
       "        \n",
       "&lt;/head&gt;\n",
       "&lt;body&gt;\n",
       "    \n",
       "    \n",
       "            &lt;div class=&quot;folium-map&quot; id=&quot;map_0a0d2786b0acfbf57664eba132f4c8c3&quot; &gt;&lt;/div&gt;\n",
       "        \n",
       "&lt;/body&gt;\n",
       "&lt;script&gt;\n",
       "    \n",
       "    \n",
       "            var map_0a0d2786b0acfbf57664eba132f4c8c3 = L.map(\n",
       "                &quot;map_0a0d2786b0acfbf57664eba132f4c8c3&quot;,\n",
       "                {\n",
       "                    center: [50.965, 13.922],\n",
       "                    crs: L.CRS.EPSG3857,\n",
       "                    zoom: 12,\n",
       "                    zoomControl: true,\n",
       "                    preferCanvas: false,\n",
       "                }\n",
       "            );\n",
       "\n",
       "            \n",
       "\n",
       "        \n",
       "    \n",
       "            var tile_layer_9948c924c73eade48f03cbc909a64325 = L.tileLayer(\n",
       "                &quot;https://{s}.basemaps.cartocdn.com/light_all/{z}/{x}/{y}{r}.png&quot;,\n",
       "                {&quot;attribution&quot;: &quot;\\u0026copy; \\u003ca href=\\&quot;https://www.openstreetmap.org/copyright\\&quot;\\u003eOpenStreetMap\\u003c/a\\u003e contributors \\u0026copy; \\u003ca href=\\&quot;https://carto.com/attributions\\&quot;\\u003eCARTO\\u003c/a\\u003e&quot;, &quot;detectRetina&quot;: false, &quot;maxNativeZoom&quot;: 20, &quot;maxZoom&quot;: 20, &quot;minZoom&quot;: 0, &quot;noWrap&quot;: false, &quot;opacity&quot;: 1, &quot;subdomains&quot;: &quot;abcd&quot;, &quot;tms&quot;: false}\n",
       "            );\n",
       "        \n",
       "    \n",
       "            tile_layer_9948c924c73eade48f03cbc909a64325.addTo(map_0a0d2786b0acfbf57664eba132f4c8c3);\n",
       "        \n",
       "    \n",
       "\n",
       "        function geo_json_30287bdcbe74740cbe2b0226589d79cb_onEachFeature(feature, layer) {\n",
       "            layer.on({\n",
       "            });\n",
       "        };\n",
       "        var geo_json_30287bdcbe74740cbe2b0226589d79cb = L.geoJson(null, {\n",
       "                onEachFeature: geo_json_30287bdcbe74740cbe2b0226589d79cb_onEachFeature,\n",
       "            \n",
       "        });\n",
       "\n",
       "        function geo_json_30287bdcbe74740cbe2b0226589d79cb_add (data) {\n",
       "            geo_json_30287bdcbe74740cbe2b0226589d79cb\n",
       "                .addData(data);\n",
       "        }\n",
       "            geo_json_30287bdcbe74740cbe2b0226589d79cb_add({&quot;coordinates&quot;: [[[13.92, 50.964], [13.92, 50.966], [13.925, 50.966], [13.925, 50.964], [13.92, 50.964]]], &quot;type&quot;: &quot;Polygon&quot;});\n",
       "\n",
       "        \n",
       "    \n",
       "            geo_json_30287bdcbe74740cbe2b0226589d79cb.addTo(map_0a0d2786b0acfbf57664eba132f4c8c3);\n",
       "        \n",
       "    \n",
       "            map_0a0d2786b0acfbf57664eba132f4c8c3.fitBounds(\n",
       "                [[50.964, 13.92], [50.966, 13.925]],\n",
       "                {}\n",
       "            );\n",
       "        \n",
       "    \n",
       "            tile_layer_9948c924c73eade48f03cbc909a64325.addTo(map_0a0d2786b0acfbf57664eba132f4c8c3);\n",
       "        \n",
       "    \n",
       "            geo_json_30287bdcbe74740cbe2b0226589d79cb.addTo(map_0a0d2786b0acfbf57664eba132f4c8c3);\n",
       "        \n",
       "    \n",
       "\n",
       "        function geo_json_c21b9d35a84702abef0db6c49049fa6b_onEachFeature(feature, layer) {\n",
       "            layer.on({\n",
       "            });\n",
       "        };\n",
       "        var geo_json_c21b9d35a84702abef0db6c49049fa6b = L.geoJson(null, {\n",
       "                onEachFeature: geo_json_c21b9d35a84702abef0db6c49049fa6b_onEachFeature,\n",
       "            \n",
       "        });\n",
       "\n",
       "        function geo_json_c21b9d35a84702abef0db6c49049fa6b_add (data) {\n",
       "            geo_json_c21b9d35a84702abef0db6c49049fa6b\n",
       "                .addData(data);\n",
       "        }\n",
       "            geo_json_c21b9d35a84702abef0db6c49049fa6b_add({&quot;coordinates&quot;: [[13.92499, 50.966], [13.92499, 50.964]], &quot;type&quot;: &quot;LineString&quot;});\n",
       "\n",
       "        \n",
       "    \n",
       "            geo_json_c21b9d35a84702abef0db6c49049fa6b.addTo(map_0a0d2786b0acfbf57664eba132f4c8c3);\n",
       "        \n",
       "    \n",
       "\n",
       "        function geo_json_20d5e142d02b9982a4ee29a0dd69bb7a_onEachFeature(feature, layer) {\n",
       "            layer.on({\n",
       "            });\n",
       "        };\n",
       "        var geo_json_20d5e142d02b9982a4ee29a0dd69bb7a = L.geoJson(null, {\n",
       "                onEachFeature: geo_json_20d5e142d02b9982a4ee29a0dd69bb7a_onEachFeature,\n",
       "            \n",
       "        });\n",
       "\n",
       "        function geo_json_20d5e142d02b9982a4ee29a0dd69bb7a_add (data) {\n",
       "            geo_json_20d5e142d02b9982a4ee29a0dd69bb7a\n",
       "                .addData(data);\n",
       "        }\n",
       "            geo_json_20d5e142d02b9982a4ee29a0dd69bb7a_add({&quot;geometries&quot;: [{&quot;coordinates&quot;: [[[13.92495, 50.965999999999994], [13.925000000000002, 50.965999999999994], [13.925000000000002, 50.965960000843815], [13.92495, 50.965960000843815], [13.92495, 50.965999999999994]]], &quot;type&quot;: &quot;Polygon&quot;}, {&quot;coordinates&quot;: [[[13.92495, 50.965960000843815], [13.925000000000002, 50.965960000843815], [13.925000000000002, 50.965920001653195], [13.92495, 50.965920001653195], [13.92495, 50.965960000843815]]], &quot;type&quot;: &quot;Polygon&quot;}, {&quot;coordinates&quot;: [[[13.92495, 50.965920001653195], [13.925000000000002, 50.965920001653195], [13.925000000000002, 50.965880002428136], [13.92495, 50.965880002428136], [13.92495, 50.965920001653195]]], &quot;type&quot;: &quot;Polygon&quot;}, {&quot;coordinates&quot;: [[[13.92495, 50.965880002428136], [13.925000000000002, 50.965880002428136], [13.925000000000002, 50.96584000316863], [13.92495, 50.96584000316863], [13.92495, 50.965880002428136]]], &quot;type&quot;: &quot;Polygon&quot;}, {&quot;coordinates&quot;: [[[13.92495, 50.96584000316863], [13.925000000000002, 50.96584000316863], [13.925000000000002, 50.96580000387468], [13.92495, 50.96580000387468], [13.92495, 50.96584000316863]]], &quot;type&quot;: &quot;Polygon&quot;}, {&quot;coordinates&quot;: [[[13.92495, 50.96580000387468], [13.925000000000002, 50.96580000387468], [13.925000000000002, 50.965760004546304], [13.92495, 50.965760004546304], [13.92495, 50.96580000387468]]], &quot;type&quot;: &quot;Polygon&quot;}, {&quot;coordinates&quot;: [[[13.92495, 50.965760004546304], [13.925000000000002, 50.965760004546304], [13.925000000000002, 50.96572000518347], [13.92495, 50.96572000518347], [13.92495, 50.965760004546304]]], &quot;type&quot;: &quot;Polygon&quot;}, {&quot;coordinates&quot;: [[[13.92495, 50.96572000518347], [13.925000000000002, 50.96572000518347], [13.925000000000002, 50.9656800057862], [13.92495, 50.9656800057862], [13.92495, 50.96572000518347]]], &quot;type&quot;: &quot;Polygon&quot;}, {&quot;coordinates&quot;: [[[13.92495, 50.9656800057862], [13.925000000000002, 50.9656800057862], [13.925000000000002, 50.9656400063545], [13.92495, 50.9656400063545], [13.92495, 50.9656800057862]]], &quot;type&quot;: &quot;Polygon&quot;}, {&quot;coordinates&quot;: [[[13.92495, 50.9656400063545], [13.925000000000002, 50.9656400063545], [13.925000000000002, 50.965600006888344], [13.92495, 50.965600006888344], [13.92495, 50.9656400063545]]], &quot;type&quot;: &quot;Polygon&quot;}, {&quot;coordinates&quot;: [[[13.92495, 50.965600006888344], [13.925000000000002, 50.965600006888344], [13.925000000000002, 50.965560007387744], [13.92495, 50.965560007387744], [13.92495, 50.965600006888344]]], &quot;type&quot;: &quot;Polygon&quot;}, {&quot;coordinates&quot;: [[[13.92495, 50.965560007387744], [13.925000000000002, 50.965560007387744], [13.925000000000002, 50.96552000785271], [13.92495, 50.96552000785271], [13.92495, 50.965560007387744]]], &quot;type&quot;: &quot;Polygon&quot;}, {&quot;coordinates&quot;: [[[13.92495, 50.96552000785271], [13.925000000000002, 50.96552000785271], [13.925000000000002, 50.96548000828324], [13.92495, 50.96548000828324], [13.92495, 50.96552000785271]]], &quot;type&quot;: &quot;Polygon&quot;}, {&quot;coordinates&quot;: [[[13.92495, 50.96548000828324], [13.925000000000002, 50.96548000828324], [13.925000000000002, 50.965440008679316], [13.92495, 50.965440008679316], [13.92495, 50.96548000828324]]], &quot;type&quot;: &quot;Polygon&quot;}, {&quot;coordinates&quot;: [[[13.92495, 50.965440008679316], [13.925000000000002, 50.965440008679316], [13.925000000000002, 50.965400009040955], [13.92495, 50.965400009040955], [13.92495, 50.965440008679316]]], &quot;type&quot;: &quot;Polygon&quot;}, {&quot;coordinates&quot;: [[[13.92495, 50.965400009040955], [13.925000000000002, 50.965400009040955], [13.925000000000002, 50.965360009368155], [13.92495, 50.965360009368155], [13.92495, 50.965400009040955]]], &quot;type&quot;: &quot;Polygon&quot;}, {&quot;coordinates&quot;: [[[13.92495, 50.965360009368155], [13.925000000000002, 50.965360009368155], [13.925000000000002, 50.96532000966091], [13.92495, 50.96532000966091], [13.92495, 50.965360009368155]]], &quot;type&quot;: &quot;Polygon&quot;}, {&quot;coordinates&quot;: [[[13.92495, 50.96532000966091], [13.925000000000002, 50.96532000966091], [13.925000000000002, 50.965280009919226], [13.92495, 50.965280009919226], [13.92495, 50.96532000966091]]], &quot;type&quot;: &quot;Polygon&quot;}, {&quot;coordinates&quot;: [[[13.92495, 50.965280009919226], [13.925000000000002, 50.965280009919226], [13.925000000000002, 50.96524001014309], [13.92495, 50.96524001014309], [13.92495, 50.965280009919226]]], &quot;type&quot;: &quot;Polygon&quot;}, {&quot;coordinates&quot;: [[[13.92495, 50.96524001014309], [13.925000000000002, 50.96524001014309], [13.925000000000002, 50.96520001033253], [13.92495, 50.96520001033253], [13.92495, 50.96524001014309]]], &quot;type&quot;: &quot;Polygon&quot;}, {&quot;coordinates&quot;: [[[13.92495, 50.96520001033253], [13.925000000000002, 50.96520001033253], [13.925000000000002, 50.965160010487516], [13.92495, 50.965160010487516], [13.92495, 50.96520001033253]]], &quot;type&quot;: &quot;Polygon&quot;}, {&quot;coordinates&quot;: [[[13.92495, 50.965160010487516], [13.925000000000002, 50.965160010487516], [13.925000000000002, 50.96512001060807], [13.92495, 50.96512001060807], [13.92495, 50.965160010487516]]], &quot;type&quot;: &quot;Polygon&quot;}, {&quot;coordinates&quot;: [[[13.92495, 50.96512001060807], [13.925000000000002, 50.96512001060807], [13.925000000000002, 50.96508001069417], [13.92495, 50.96508001069417], [13.92495, 50.96512001060807]]], &quot;type&quot;: &quot;Polygon&quot;}, {&quot;coordinates&quot;: [[[13.92495, 50.96508001069417], [13.925000000000002, 50.96508001069417], [13.925000000000002, 50.96504001074583], [13.92495, 50.96504001074583], [13.92495, 50.96508001069417]]], &quot;type&quot;: &quot;Polygon&quot;}, {&quot;coordinates&quot;: [[[13.92495, 50.96504001074583], [13.925000000000002, 50.96504001074583], [13.925000000000002, 50.96500001076305], [13.92495, 50.96500001076305], [13.92495, 50.96504001074583]]], &quot;type&quot;: &quot;Polygon&quot;}, {&quot;coordinates&quot;: [[[13.92495, 50.96500001076305], [13.925000000000002, 50.96500001076305], [13.925000000000002, 50.964960010745834], [13.92495, 50.964960010745834], [13.92495, 50.96500001076305]]], &quot;type&quot;: &quot;Polygon&quot;}, {&quot;coordinates&quot;: [[[13.92495, 50.964960010745834], [13.925000000000002, 50.964960010745834], [13.925000000000002, 50.96492001069418], [13.92495, 50.96492001069418], [13.92495, 50.964960010745834]]], &quot;type&quot;: &quot;Polygon&quot;}, {&quot;coordinates&quot;: [[[13.92495, 50.96492001069418], [13.925000000000002, 50.96492001069418], [13.925000000000002, 50.96488001060807], [13.92495, 50.96488001060807], [13.92495, 50.96492001069418]]], &quot;type&quot;: &quot;Polygon&quot;}, {&quot;coordinates&quot;: [[[13.92495, 50.96488001060807], [13.925000000000002, 50.96488001060807], [13.925000000000002, 50.96484001048752], [13.92495, 50.96484001048752], [13.92495, 50.96488001060807]]], &quot;type&quot;: &quot;Polygon&quot;}, {&quot;coordinates&quot;: [[[13.92495, 50.96484001048752], [13.925000000000002, 50.96484001048752], [13.925000000000002, 50.964800010332546], [13.92495, 50.964800010332546], [13.92495, 50.96484001048752]]], &quot;type&quot;: &quot;Polygon&quot;}, {&quot;coordinates&quot;: [[[13.92495, 50.964800010332546], [13.925000000000002, 50.964800010332546], [13.925000000000002, 50.96476001014311], [13.92495, 50.96476001014311], [13.92495, 50.964800010332546]]], &quot;type&quot;: &quot;Polygon&quot;}, {&quot;coordinates&quot;: [[[13.92495, 50.96476001014311], [13.925000000000002, 50.96476001014311], [13.925000000000002, 50.96472000991924], [13.92495, 50.96472000991924], [13.92495, 50.96476001014311]]], &quot;type&quot;: &quot;Polygon&quot;}, {&quot;coordinates&quot;: [[[13.92495, 50.96472000991924], [13.925000000000002, 50.96472000991924], [13.925000000000002, 50.964680009660924], [13.92495, 50.964680009660924], [13.92495, 50.96472000991924]]], &quot;type&quot;: &quot;Polygon&quot;}, {&quot;coordinates&quot;: [[[13.92495, 50.964680009660924], [13.925000000000002, 50.964680009660924], [13.925000000000002, 50.96464000936817], [13.92495, 50.96464000936817], [13.92495, 50.964680009660924]]], &quot;type&quot;: &quot;Polygon&quot;}, {&quot;coordinates&quot;: [[[13.92495, 50.96464000936817], [13.925000000000002, 50.96464000936817], [13.925000000000002, 50.96460000904097], [13.92495, 50.96460000904097], [13.92495, 50.96464000936817]]], &quot;type&quot;: &quot;Polygon&quot;}, {&quot;coordinates&quot;: [[[13.92495, 50.96460000904097], [13.925000000000002, 50.96460000904097], [13.925000000000002, 50.96456000867934], [13.92495, 50.96456000867934], [13.92495, 50.96460000904097]]], &quot;type&quot;: &quot;Polygon&quot;}, {&quot;coordinates&quot;: [[[13.92495, 50.96456000867934], [13.925000000000002, 50.96456000867934], [13.925000000000002, 50.96452000828325], [13.92495, 50.96452000828325], [13.92495, 50.96456000867934]]], &quot;type&quot;: &quot;Polygon&quot;}, {&quot;coordinates&quot;: [[[13.92495, 50.96452000828325], [13.925000000000002, 50.96452000828325], [13.925000000000002, 50.964480007852735], [13.92495, 50.964480007852735], [13.92495, 50.96452000828325]]], &quot;type&quot;: &quot;Polygon&quot;}, {&quot;coordinates&quot;: [[[13.92495, 50.964480007852735], [13.925000000000002, 50.964480007852735], [13.925000000000002, 50.96444000738777], [13.92495, 50.96444000738777], [13.92495, 50.964480007852735]]], &quot;type&quot;: &quot;Polygon&quot;}, {&quot;coordinates&quot;: [[[13.92495, 50.96444000738777], [13.925000000000002, 50.96444000738777], [13.925000000000002, 50.96440000688836], [13.92495, 50.96440000688836], [13.92495, 50.96444000738777]]], &quot;type&quot;: &quot;Polygon&quot;}, {&quot;coordinates&quot;: [[[13.92495, 50.96440000688836], [13.925000000000002, 50.96440000688836], [13.925000000000002, 50.96436000635452], [13.92495, 50.96436000635452], [13.92495, 50.96440000688836]]], &quot;type&quot;: &quot;Polygon&quot;}, {&quot;coordinates&quot;: [[[13.92495, 50.96436000635452], [13.925000000000002, 50.96436000635452], [13.925000000000002, 50.96432000578623], [13.92495, 50.96432000578623], [13.92495, 50.96436000635452]]], &quot;type&quot;: &quot;Polygon&quot;}, {&quot;coordinates&quot;: [[[13.92495, 50.96432000578623], [13.925000000000002, 50.96432000578623], [13.925000000000002, 50.9642800051835], [13.92495, 50.9642800051835], [13.92495, 50.96432000578623]]], &quot;type&quot;: &quot;Polygon&quot;}, {&quot;coordinates&quot;: [[[13.92495, 50.9642800051835], [13.925000000000002, 50.9642800051835], [13.925000000000002, 50.96424000454632], [13.92495, 50.96424000454632], [13.92495, 50.9642800051835]]], &quot;type&quot;: &quot;Polygon&quot;}, {&quot;coordinates&quot;: [[[13.92495, 50.96424000454632], [13.925000000000002, 50.96424000454632], [13.925000000000002, 50.96420000387471], [13.92495, 50.96420000387471], [13.92495, 50.96424000454632]]], &quot;type&quot;: &quot;Polygon&quot;}, {&quot;coordinates&quot;: [[[13.92495, 50.96420000387471], [13.925000000000002, 50.96420000387471], [13.925000000000002, 50.964160003168644], [13.92495, 50.964160003168644], [13.92495, 50.96420000387471]]], &quot;type&quot;: &quot;Polygon&quot;}, {&quot;coordinates&quot;: [[[13.92495, 50.964160003168644], [13.925000000000002, 50.964160003168644], [13.925000000000002, 50.964120002428146], [13.92495, 50.964120002428146], [13.92495, 50.964160003168644]]], &quot;type&quot;: &quot;Polygon&quot;}, {&quot;coordinates&quot;: [[[13.92495, 50.964120002428146], [13.925000000000002, 50.964120002428146], [13.925000000000002, 50.96408000165321], [13.92495, 50.96408000165321], [13.92495, 50.964120002428146]]], &quot;type&quot;: &quot;Polygon&quot;}, {&quot;coordinates&quot;: [[[13.92495, 50.96408000165321], [13.925000000000002, 50.96408000165321], [13.925000000000002, 50.964040000843816], [13.92495, 50.964040000843816], [13.92495, 50.96408000165321]]], &quot;type&quot;: &quot;Polygon&quot;}, {&quot;coordinates&quot;: [[[13.92495, 50.964040000843816], [13.925000000000002, 50.964040000843816], [13.925000000000002, 50.96399999999999], [13.92495, 50.96399999999999], [13.92495, 50.964040000843816]]], &quot;type&quot;: &quot;Polygon&quot;}], &quot;type&quot;: &quot;GeometryCollection&quot;});\n",
       "\n",
       "        \n",
       "    \n",
       "            geo_json_20d5e142d02b9982a4ee29a0dd69bb7a.addTo(map_0a0d2786b0acfbf57664eba132f4c8c3);\n",
       "        \n",
       "    \n",
       "\n",
       "        function geo_json_275ce2507aa446bde5dca9fd2e5f2778_onEachFeature(feature, layer) {\n",
       "            layer.on({\n",
       "            });\n",
       "        };\n",
       "        var geo_json_275ce2507aa446bde5dca9fd2e5f2778 = L.geoJson(null, {\n",
       "                onEachFeature: geo_json_275ce2507aa446bde5dca9fd2e5f2778_onEachFeature,\n",
       "            \n",
       "        });\n",
       "\n",
       "        function geo_json_275ce2507aa446bde5dca9fd2e5f2778_add (data) {\n",
       "            geo_json_275ce2507aa446bde5dca9fd2e5f2778\n",
       "                .addData(data);\n",
       "        }\n",
       "            geo_json_275ce2507aa446bde5dca9fd2e5f2778_add({&quot;coordinates&quot;: [13.92499, 50.966], &quot;type&quot;: &quot;Point&quot;});\n",
       "\n",
       "        \n",
       "    \n",
       "            geo_json_275ce2507aa446bde5dca9fd2e5f2778.addTo(map_0a0d2786b0acfbf57664eba132f4c8c3);\n",
       "        \n",
       "    \n",
       "\n",
       "        function geo_json_befc1e66150abf85fedcf1f577e2fb4d_onEachFeature(feature, layer) {\n",
       "            layer.on({\n",
       "            });\n",
       "        };\n",
       "        var geo_json_befc1e66150abf85fedcf1f577e2fb4d = L.geoJson(null, {\n",
       "                onEachFeature: geo_json_befc1e66150abf85fedcf1f577e2fb4d_onEachFeature,\n",
       "            \n",
       "        });\n",
       "\n",
       "        function geo_json_befc1e66150abf85fedcf1f577e2fb4d_add (data) {\n",
       "            geo_json_befc1e66150abf85fedcf1f577e2fb4d\n",
       "                .addData(data);\n",
       "        }\n",
       "            geo_json_befc1e66150abf85fedcf1f577e2fb4d_add({&quot;coordinates&quot;: [13.92499, 50.964], &quot;type&quot;: &quot;Point&quot;});\n",
       "\n",
       "        \n",
       "    \n",
       "            geo_json_befc1e66150abf85fedcf1f577e2fb4d.addTo(map_0a0d2786b0acfbf57664eba132f4c8c3);\n",
       "        \n",
       "    \n",
       "\n",
       "        function geo_json_a3b8bf0b49f170891b2b0ccf4090966f_onEachFeature(feature, layer) {\n",
       "            layer.on({\n",
       "            });\n",
       "        };\n",
       "        var geo_json_a3b8bf0b49f170891b2b0ccf4090966f = L.geoJson(null, {\n",
       "                onEachFeature: geo_json_a3b8bf0b49f170891b2b0ccf4090966f_onEachFeature,\n",
       "            \n",
       "        });\n",
       "\n",
       "        function geo_json_a3b8bf0b49f170891b2b0ccf4090966f_add (data) {\n",
       "            geo_json_a3b8bf0b49f170891b2b0ccf4090966f\n",
       "                .addData(data);\n",
       "        }\n",
       "            geo_json_a3b8bf0b49f170891b2b0ccf4090966f_add({&quot;coordinates&quot;: [[13.92004, 50.96401], [13.92004, 50.96599]], &quot;type&quot;: &quot;LineString&quot;});\n",
       "\n",
       "        \n",
       "    \n",
       "            geo_json_a3b8bf0b49f170891b2b0ccf4090966f.addTo(map_0a0d2786b0acfbf57664eba132f4c8c3);\n",
       "        \n",
       "    \n",
       "\n",
       "        function geo_json_4679575b74698a6c2732dddfba2d3af1_onEachFeature(feature, layer) {\n",
       "            layer.on({\n",
       "            });\n",
       "        };\n",
       "        var geo_json_4679575b74698a6c2732dddfba2d3af1 = L.geoJson(null, {\n",
       "                onEachFeature: geo_json_4679575b74698a6c2732dddfba2d3af1_onEachFeature,\n",
       "            \n",
       "        });\n",
       "\n",
       "        function geo_json_4679575b74698a6c2732dddfba2d3af1_add (data) {\n",
       "            geo_json_4679575b74698a6c2732dddfba2d3af1\n",
       "                .addData(data);\n",
       "        }\n",
       "            geo_json_4679575b74698a6c2732dddfba2d3af1_add({&quot;geometries&quot;: [{&quot;coordinates&quot;: [[[13.920000000000002, 50.965999999999994], [13.920050000000002, 50.965999999999994], [13.920050000000002, 50.965960000843815], [13.920000000000002, 50.965960000843815], [13.920000000000002, 50.965999999999994]]], &quot;type&quot;: &quot;Polygon&quot;}, {&quot;coordinates&quot;: [[[13.920000000000002, 50.965960000843815], [13.920050000000002, 50.965960000843815], [13.920050000000002, 50.965920001653195], [13.920000000000002, 50.965920001653195], [13.920000000000002, 50.965960000843815]]], &quot;type&quot;: &quot;Polygon&quot;}, {&quot;coordinates&quot;: [[[13.920000000000002, 50.965920001653195], [13.920050000000002, 50.965920001653195], [13.920050000000002, 50.965880002428136], [13.920000000000002, 50.965880002428136], [13.920000000000002, 50.965920001653195]]], &quot;type&quot;: &quot;Polygon&quot;}, {&quot;coordinates&quot;: [[[13.920000000000002, 50.965880002428136], [13.920050000000002, 50.965880002428136], [13.920050000000002, 50.96584000316863], [13.920000000000002, 50.96584000316863], [13.920000000000002, 50.965880002428136]]], &quot;type&quot;: &quot;Polygon&quot;}, {&quot;coordinates&quot;: [[[13.920000000000002, 50.96584000316863], [13.920050000000002, 50.96584000316863], [13.920050000000002, 50.96580000387468], [13.920000000000002, 50.96580000387468], [13.920000000000002, 50.96584000316863]]], &quot;type&quot;: &quot;Polygon&quot;}, {&quot;coordinates&quot;: [[[13.920000000000002, 50.96580000387468], [13.920050000000002, 50.96580000387468], [13.920050000000002, 50.965760004546304], [13.920000000000002, 50.965760004546304], [13.920000000000002, 50.96580000387468]]], &quot;type&quot;: &quot;Polygon&quot;}, {&quot;coordinates&quot;: [[[13.920000000000002, 50.965760004546304], [13.920050000000002, 50.965760004546304], [13.920050000000002, 50.96572000518347], [13.920000000000002, 50.96572000518347], [13.920000000000002, 50.965760004546304]]], &quot;type&quot;: &quot;Polygon&quot;}, {&quot;coordinates&quot;: [[[13.920000000000002, 50.96572000518347], [13.920050000000002, 50.96572000518347], [13.920050000000002, 50.9656800057862], [13.920000000000002, 50.9656800057862], [13.920000000000002, 50.96572000518347]]], &quot;type&quot;: &quot;Polygon&quot;}, {&quot;coordinates&quot;: [[[13.920000000000002, 50.9656800057862], [13.920050000000002, 50.9656800057862], [13.920050000000002, 50.9656400063545], [13.920000000000002, 50.9656400063545], [13.920000000000002, 50.9656800057862]]], &quot;type&quot;: &quot;Polygon&quot;}, {&quot;coordinates&quot;: [[[13.920000000000002, 50.9656400063545], [13.920050000000002, 50.9656400063545], [13.920050000000002, 50.965600006888344], [13.920000000000002, 50.965600006888344], [13.920000000000002, 50.9656400063545]]], &quot;type&quot;: &quot;Polygon&quot;}, {&quot;coordinates&quot;: [[[13.920000000000002, 50.965600006888344], [13.920050000000002, 50.965600006888344], [13.920050000000002, 50.965560007387744], [13.920000000000002, 50.965560007387744], [13.920000000000002, 50.965600006888344]]], &quot;type&quot;: &quot;Polygon&quot;}, {&quot;coordinates&quot;: [[[13.920000000000002, 50.965560007387744], [13.920050000000002, 50.965560007387744], [13.920050000000002, 50.96552000785271], [13.920000000000002, 50.96552000785271], [13.920000000000002, 50.965560007387744]]], &quot;type&quot;: &quot;Polygon&quot;}, {&quot;coordinates&quot;: [[[13.920000000000002, 50.96552000785271], [13.920050000000002, 50.96552000785271], [13.920050000000002, 50.96548000828324], [13.920000000000002, 50.96548000828324], [13.920000000000002, 50.96552000785271]]], &quot;type&quot;: &quot;Polygon&quot;}, {&quot;coordinates&quot;: [[[13.920000000000002, 50.96548000828324], [13.920050000000002, 50.96548000828324], [13.920050000000002, 50.965440008679316], [13.920000000000002, 50.965440008679316], [13.920000000000002, 50.96548000828324]]], &quot;type&quot;: &quot;Polygon&quot;}, {&quot;coordinates&quot;: [[[13.920000000000002, 50.965440008679316], [13.920050000000002, 50.965440008679316], [13.920050000000002, 50.965400009040955], [13.920000000000002, 50.965400009040955], [13.920000000000002, 50.965440008679316]]], &quot;type&quot;: &quot;Polygon&quot;}, {&quot;coordinates&quot;: [[[13.920000000000002, 50.965400009040955], [13.920050000000002, 50.965400009040955], [13.920050000000002, 50.965360009368155], [13.920000000000002, 50.965360009368155], [13.920000000000002, 50.965400009040955]]], &quot;type&quot;: &quot;Polygon&quot;}, {&quot;coordinates&quot;: [[[13.920000000000002, 50.965360009368155], [13.920050000000002, 50.965360009368155], [13.920050000000002, 50.96532000966091], [13.920000000000002, 50.96532000966091], [13.920000000000002, 50.965360009368155]]], &quot;type&quot;: &quot;Polygon&quot;}, {&quot;coordinates&quot;: [[[13.920000000000002, 50.96532000966091], [13.920050000000002, 50.96532000966091], [13.920050000000002, 50.965280009919226], [13.920000000000002, 50.965280009919226], [13.920000000000002, 50.96532000966091]]], &quot;type&quot;: &quot;Polygon&quot;}, {&quot;coordinates&quot;: [[[13.920000000000002, 50.965280009919226], [13.920050000000002, 50.965280009919226], [13.920050000000002, 50.96524001014309], [13.920000000000002, 50.96524001014309], [13.920000000000002, 50.965280009919226]]], &quot;type&quot;: &quot;Polygon&quot;}, {&quot;coordinates&quot;: [[[13.920000000000002, 50.96524001014309], [13.920050000000002, 50.96524001014309], [13.920050000000002, 50.96520001033253], [13.920000000000002, 50.96520001033253], [13.920000000000002, 50.96524001014309]]], &quot;type&quot;: &quot;Polygon&quot;}, {&quot;coordinates&quot;: [[[13.920000000000002, 50.96520001033253], [13.920050000000002, 50.96520001033253], [13.920050000000002, 50.965160010487516], [13.920000000000002, 50.965160010487516], [13.920000000000002, 50.96520001033253]]], &quot;type&quot;: &quot;Polygon&quot;}, {&quot;coordinates&quot;: [[[13.920000000000002, 50.965160010487516], [13.920050000000002, 50.965160010487516], [13.920050000000002, 50.96512001060807], [13.920000000000002, 50.96512001060807], [13.920000000000002, 50.965160010487516]]], &quot;type&quot;: &quot;Polygon&quot;}, {&quot;coordinates&quot;: [[[13.920000000000002, 50.96512001060807], [13.920050000000002, 50.96512001060807], [13.920050000000002, 50.96508001069417], [13.920000000000002, 50.96508001069417], [13.920000000000002, 50.96512001060807]]], &quot;type&quot;: &quot;Polygon&quot;}, {&quot;coordinates&quot;: [[[13.920000000000002, 50.96508001069417], [13.920050000000002, 50.96508001069417], [13.920050000000002, 50.96504001074583], [13.920000000000002, 50.96504001074583], [13.920000000000002, 50.96508001069417]]], &quot;type&quot;: &quot;Polygon&quot;}, {&quot;coordinates&quot;: [[[13.920000000000002, 50.96504001074583], [13.920050000000002, 50.96504001074583], [13.920050000000002, 50.96500001076305], [13.920000000000002, 50.96500001076305], [13.920000000000002, 50.96504001074583]]], &quot;type&quot;: &quot;Polygon&quot;}, {&quot;coordinates&quot;: [[[13.920000000000002, 50.96500001076305], [13.920050000000002, 50.96500001076305], [13.920050000000002, 50.964960010745834], [13.920000000000002, 50.964960010745834], [13.920000000000002, 50.96500001076305]]], &quot;type&quot;: &quot;Polygon&quot;}, {&quot;coordinates&quot;: [[[13.920000000000002, 50.964960010745834], [13.920050000000002, 50.964960010745834], [13.920050000000002, 50.96492001069418], [13.920000000000002, 50.96492001069418], [13.920000000000002, 50.964960010745834]]], &quot;type&quot;: &quot;Polygon&quot;}, {&quot;coordinates&quot;: [[[13.920000000000002, 50.96492001069418], [13.920050000000002, 50.96492001069418], [13.920050000000002, 50.96488001060807], [13.920000000000002, 50.96488001060807], [13.920000000000002, 50.96492001069418]]], &quot;type&quot;: &quot;Polygon&quot;}, {&quot;coordinates&quot;: [[[13.920000000000002, 50.96488001060807], [13.920050000000002, 50.96488001060807], [13.920050000000002, 50.96484001048752], [13.920000000000002, 50.96484001048752], [13.920000000000002, 50.96488001060807]]], &quot;type&quot;: &quot;Polygon&quot;}, {&quot;coordinates&quot;: [[[13.920000000000002, 50.96484001048752], [13.920050000000002, 50.96484001048752], [13.920050000000002, 50.964800010332546], [13.920000000000002, 50.964800010332546], [13.920000000000002, 50.96484001048752]]], &quot;type&quot;: &quot;Polygon&quot;}, {&quot;coordinates&quot;: [[[13.920000000000002, 50.964800010332546], [13.920050000000002, 50.964800010332546], [13.920050000000002, 50.96476001014311], [13.920000000000002, 50.96476001014311], [13.920000000000002, 50.964800010332546]]], &quot;type&quot;: &quot;Polygon&quot;}, {&quot;coordinates&quot;: [[[13.920000000000002, 50.96476001014311], [13.920050000000002, 50.96476001014311], [13.920050000000002, 50.96472000991924], [13.920000000000002, 50.96472000991924], [13.920000000000002, 50.96476001014311]]], &quot;type&quot;: &quot;Polygon&quot;}, {&quot;coordinates&quot;: [[[13.920000000000002, 50.96472000991924], [13.920050000000002, 50.96472000991924], [13.920050000000002, 50.964680009660924], [13.920000000000002, 50.964680009660924], [13.920000000000002, 50.96472000991924]]], &quot;type&quot;: &quot;Polygon&quot;}, {&quot;coordinates&quot;: [[[13.920000000000002, 50.964680009660924], [13.920050000000002, 50.964680009660924], [13.920050000000002, 50.96464000936817], [13.920000000000002, 50.96464000936817], [13.920000000000002, 50.964680009660924]]], &quot;type&quot;: &quot;Polygon&quot;}, {&quot;coordinates&quot;: [[[13.920000000000002, 50.96464000936817], [13.920050000000002, 50.96464000936817], [13.920050000000002, 50.96460000904097], [13.920000000000002, 50.96460000904097], [13.920000000000002, 50.96464000936817]]], &quot;type&quot;: &quot;Polygon&quot;}, {&quot;coordinates&quot;: [[[13.920000000000002, 50.96460000904097], [13.920050000000002, 50.96460000904097], [13.920050000000002, 50.96456000867934], [13.920000000000002, 50.96456000867934], [13.920000000000002, 50.96460000904097]]], &quot;type&quot;: &quot;Polygon&quot;}, {&quot;coordinates&quot;: [[[13.920000000000002, 50.96456000867934], [13.920050000000002, 50.96456000867934], [13.920050000000002, 50.96452000828325], [13.920000000000002, 50.96452000828325], [13.920000000000002, 50.96456000867934]]], &quot;type&quot;: &quot;Polygon&quot;}, {&quot;coordinates&quot;: [[[13.920000000000002, 50.96452000828325], [13.920050000000002, 50.96452000828325], [13.920050000000002, 50.964480007852735], [13.920000000000002, 50.964480007852735], [13.920000000000002, 50.96452000828325]]], &quot;type&quot;: &quot;Polygon&quot;}, {&quot;coordinates&quot;: [[[13.920000000000002, 50.964480007852735], [13.920050000000002, 50.964480007852735], [13.920050000000002, 50.96444000738777], [13.920000000000002, 50.96444000738777], [13.920000000000002, 50.964480007852735]]], &quot;type&quot;: &quot;Polygon&quot;}, {&quot;coordinates&quot;: [[[13.920000000000002, 50.96444000738777], [13.920050000000002, 50.96444000738777], [13.920050000000002, 50.96440000688836], [13.920000000000002, 50.96440000688836], [13.920000000000002, 50.96444000738777]]], &quot;type&quot;: &quot;Polygon&quot;}, {&quot;coordinates&quot;: [[[13.920000000000002, 50.96440000688836], [13.920050000000002, 50.96440000688836], [13.920050000000002, 50.96436000635452], [13.920000000000002, 50.96436000635452], [13.920000000000002, 50.96440000688836]]], &quot;type&quot;: &quot;Polygon&quot;}, {&quot;coordinates&quot;: [[[13.920000000000002, 50.96436000635452], [13.920050000000002, 50.96436000635452], [13.920050000000002, 50.96432000578623], [13.920000000000002, 50.96432000578623], [13.920000000000002, 50.96436000635452]]], &quot;type&quot;: &quot;Polygon&quot;}, {&quot;coordinates&quot;: [[[13.920000000000002, 50.96432000578623], [13.920050000000002, 50.96432000578623], [13.920050000000002, 50.9642800051835], [13.920000000000002, 50.9642800051835], [13.920000000000002, 50.96432000578623]]], &quot;type&quot;: &quot;Polygon&quot;}, {&quot;coordinates&quot;: [[[13.920000000000002, 50.9642800051835], [13.920050000000002, 50.9642800051835], [13.920050000000002, 50.96424000454632], [13.920000000000002, 50.96424000454632], [13.920000000000002, 50.9642800051835]]], &quot;type&quot;: &quot;Polygon&quot;}, {&quot;coordinates&quot;: [[[13.920000000000002, 50.96424000454632], [13.920050000000002, 50.96424000454632], [13.920050000000002, 50.96420000387471], [13.920000000000002, 50.96420000387471], [13.920000000000002, 50.96424000454632]]], &quot;type&quot;: &quot;Polygon&quot;}, {&quot;coordinates&quot;: [[[13.920000000000002, 50.96420000387471], [13.920050000000002, 50.96420000387471], [13.920050000000002, 50.964160003168644], [13.920000000000002, 50.964160003168644], [13.920000000000002, 50.96420000387471]]], &quot;type&quot;: &quot;Polygon&quot;}, {&quot;coordinates&quot;: [[[13.920000000000002, 50.964160003168644], [13.920050000000002, 50.964160003168644], [13.920050000000002, 50.964120002428146], [13.920000000000002, 50.964120002428146], [13.920000000000002, 50.964160003168644]]], &quot;type&quot;: &quot;Polygon&quot;}, {&quot;coordinates&quot;: [[[13.920000000000002, 50.964120002428146], [13.920050000000002, 50.964120002428146], [13.920050000000002, 50.96408000165321], [13.920000000000002, 50.96408000165321], [13.920000000000002, 50.964120002428146]]], &quot;type&quot;: &quot;Polygon&quot;}, {&quot;coordinates&quot;: [[[13.920000000000002, 50.96408000165321], [13.920050000000002, 50.96408000165321], [13.920050000000002, 50.964040000843816], [13.920000000000002, 50.964040000843816], [13.920000000000002, 50.96408000165321]]], &quot;type&quot;: &quot;Polygon&quot;}, {&quot;coordinates&quot;: [[[13.920000000000002, 50.964040000843816], [13.920050000000002, 50.964040000843816], [13.920050000000002, 50.96399999999999], [13.920000000000002, 50.96399999999999], [13.920000000000002, 50.964040000843816]]], &quot;type&quot;: &quot;Polygon&quot;}], &quot;type&quot;: &quot;GeometryCollection&quot;});\n",
       "\n",
       "        \n",
       "    \n",
       "            geo_json_4679575b74698a6c2732dddfba2d3af1.addTo(map_0a0d2786b0acfbf57664eba132f4c8c3);\n",
       "        \n",
       "    \n",
       "\n",
       "        function geo_json_72527530c10b632e60eb3960e5dced3b_onEachFeature(feature, layer) {\n",
       "            layer.on({\n",
       "            });\n",
       "        };\n",
       "        var geo_json_72527530c10b632e60eb3960e5dced3b = L.geoJson(null, {\n",
       "                onEachFeature: geo_json_72527530c10b632e60eb3960e5dced3b_onEachFeature,\n",
       "            \n",
       "        });\n",
       "\n",
       "        function geo_json_72527530c10b632e60eb3960e5dced3b_add (data) {\n",
       "            geo_json_72527530c10b632e60eb3960e5dced3b\n",
       "                .addData(data);\n",
       "        }\n",
       "            geo_json_72527530c10b632e60eb3960e5dced3b_add({&quot;coordinates&quot;: [13.92004, 50.96599], &quot;type&quot;: &quot;Point&quot;});\n",
       "\n",
       "        \n",
       "    \n",
       "            geo_json_72527530c10b632e60eb3960e5dced3b.addTo(map_0a0d2786b0acfbf57664eba132f4c8c3);\n",
       "        \n",
       "    \n",
       "\n",
       "        function geo_json_1e6340fe1ff3644f1146a69e50be4aa4_onEachFeature(feature, layer) {\n",
       "            layer.on({\n",
       "            });\n",
       "        };\n",
       "        var geo_json_1e6340fe1ff3644f1146a69e50be4aa4 = L.geoJson(null, {\n",
       "                onEachFeature: geo_json_1e6340fe1ff3644f1146a69e50be4aa4_onEachFeature,\n",
       "            \n",
       "        });\n",
       "\n",
       "        function geo_json_1e6340fe1ff3644f1146a69e50be4aa4_add (data) {\n",
       "            geo_json_1e6340fe1ff3644f1146a69e50be4aa4\n",
       "                .addData(data);\n",
       "        }\n",
       "            geo_json_1e6340fe1ff3644f1146a69e50be4aa4_add({&quot;coordinates&quot;: [13.92004, 50.96401], &quot;type&quot;: &quot;Point&quot;});\n",
       "\n",
       "        \n",
       "    \n",
       "            geo_json_1e6340fe1ff3644f1146a69e50be4aa4.addTo(map_0a0d2786b0acfbf57664eba132f4c8c3);\n",
       "        \n",
       "    \n",
       "            map_0a0d2786b0acfbf57664eba132f4c8c3.fitBounds(\n",
       "                [[50.964, 13.92], [50.966, 13.925000000000002]],\n",
       "                {}\n",
       "            );\n",
       "        \n",
       "&lt;/script&gt;\n",
       "&lt;/html&gt;\" style=\"position:absolute;width:100%;height:100%;left:0;top:0;border:none !important;\" allowfullscreen webkitallowfullscreen mozallowfullscreen></iframe></div></div>"
      ]
     },
     "execution_count": 6,
     "metadata": {},
     "output_type": "execute_result"
    }
   ],
   "execution_count": 6
  },
  {
   "cell_type": "code",
   "id": "f67c7cfc296c2d93",
   "metadata": {
    "collapsed": false,
    "execution": {
     "iopub.execute_input": "2024-06-20T19:02:51.866032Z",
     "iopub.status.busy": "2024-06-20T19:02:51.865929Z",
     "iopub.status.idle": "2024-06-20T19:02:51.868015Z",
     "shell.execute_reply": "2024-06-20T19:02:51.867772Z"
    },
    "papermill": {
     "duration": 0.005578,
     "end_time": "2024-06-20T19:02:51.868857",
     "exception": false,
     "start_time": "2024-06-20T19:02:51.863279",
     "status": "completed"
    },
    "tags": [],
    "ExecuteTime": {
     "end_time": "2024-08-19T10:15:25.741096Z",
     "start_time": "2024-08-19T10:15:25.737479Z"
    }
   },
   "source": [
    "from morpheus.project.types.boundaries.Boundary import BoundaryType\n",
    "\n",
    "len(model.boundaries.get_boundaries_of_type(BoundaryType.flow_and_head))"
   ],
   "outputs": [
    {
     "data": {
      "text/plain": [
       "2"
      ]
     },
     "execution_count": 7,
     "metadata": {},
     "output_type": "execute_result"
    }
   ],
   "execution_count": 7
  },
  {
   "cell_type": "code",
   "id": "25b4324c4d166cd7",
   "metadata": {
    "collapsed": false,
    "execution": {
     "iopub.execute_input": "2024-06-20T19:02:51.873895Z",
     "iopub.status.busy": "2024-06-20T19:02:51.873799Z",
     "iopub.status.idle": "2024-06-20T19:02:51.875772Z",
     "shell.execute_reply": "2024-06-20T19:02:51.875562Z"
    },
    "papermill": {
     "duration": 0.005292,
     "end_time": "2024-06-20T19:02:51.876510",
     "exception": false,
     "start_time": "2024-06-20T19:02:51.871218",
     "status": "completed"
    },
    "tags": [],
    "ExecuteTime": {
     "end_time": "2024-08-19T10:15:25.745716Z",
     "start_time": "2024-08-19T10:15:25.742172Z"
    }
   },
   "source": [
    "head_and_flow_east.observations"
   ],
   "outputs": [
    {
     "data": {
      "text/plain": [
       "[FlowAndHeadObservation(observation_id=ObservationId(value='e7766d40-5a33-4bdd-801e-57e1fdcaf5d5'), observation_name=ObservationName(value='Observation Point 1'), geometry=Point(coordinates=(13.92499, 50.966), type='Point'), data=[FlowAndHeadRawDataItem(date_time=StartDateTime(value=datetime.datetime(2020, 1, 1, 0, 0, tzinfo=datetime.timezone.utc)), flow=Flow(value=100), head=None), FlowAndHeadRawDataItem(date_time=StartDateTime(value=datetime.datetime(2020, 2, 1, 0, 0, tzinfo=datetime.timezone.utc)), flow=Flow(value=110), head=None), FlowAndHeadRawDataItem(date_time=StartDateTime(value=datetime.datetime(2021, 12, 31, 0, 0, tzinfo=datetime.timezone.utc)), flow=Flow(value=140), head=None)]),\n",
       " FlowAndHeadObservation(observation_id=ObservationId(value='6c21a872-425f-43ef-8f0d-545cb60b5f9b'), observation_name=ObservationName(value='Observation Point 1'), geometry=Point(coordinates=(13.92499, 50.964), type='Point'), data=[FlowAndHeadRawDataItem(date_time=StartDateTime(value=datetime.datetime(2020, 1, 1, 0, 0, tzinfo=datetime.timezone.utc)), flow=Flow(value=200), head=None), FlowAndHeadRawDataItem(date_time=StartDateTime(value=datetime.datetime(2020, 2, 1, 0, 0, tzinfo=datetime.timezone.utc)), flow=Flow(value=210), head=None), FlowAndHeadRawDataItem(date_time=StartDateTime(value=datetime.datetime(2021, 12, 31, 0, 0, tzinfo=datetime.timezone.utc)), flow=Flow(value=240), head=None)])]"
      ]
     },
     "execution_count": 8,
     "metadata": {},
     "output_type": "execute_result"
    }
   ],
   "execution_count": 8
  },
  {
   "cell_type": "code",
   "id": "c654c2d566a024fd",
   "metadata": {
    "collapsed": false,
    "execution": {
     "iopub.execute_input": "2024-06-20T19:02:51.881612Z",
     "iopub.status.busy": "2024-06-20T19:02:51.881500Z",
     "iopub.status.idle": "2024-06-20T19:02:52.728284Z",
     "shell.execute_reply": "2024-06-20T19:02:52.728009Z"
    },
    "papermill": {
     "duration": 0.850317,
     "end_time": "2024-06-20T19:02:52.729203",
     "exception": false,
     "start_time": "2024-06-20T19:02:51.878886",
     "status": "completed"
    },
    "tags": [],
    "ExecuteTime": {
     "end_time": "2024-08-19T10:15:26.557729Z",
     "start_time": "2024-08-19T10:15:25.747011Z"
    }
   },
   "source": [
    "from morpheus.project.infrastructure.calculation.engines.modflow_2005.packages.FhbPackageMapper import \\\n",
    "  calculate_fhb_boundary_stress_period_data\n",
    "\n",
    "result = calculate_fhb_boundary_stress_period_data(model)\n",
    "result.to_dict()"
   ],
   "outputs": [
    {
     "data": {
      "text/plain": [
       "{'date_times': [StartDateTime(value=datetime.datetime(2020, 1, 1, 0, 0, tzinfo=datetime.timezone.utc)),\n",
       "  StartDateTime(value=datetime.datetime(2020, 2, 1, 0, 0, tzinfo=datetime.timezone.utc))],\n",
       " 'total_times': [0.0, 31.0],\n",
       " 'flow_data': [TimeStepValuesItem(layer=0, row=0, column=99, values=[100.99997868936319, 110.99997868936319]),\n",
       "  TimeStepValuesItem(layer=0, row=1, column=99, values=[102.99993735985626, 112.99993735985626]),\n",
       "  TimeStepValuesItem(layer=0, row=2, column=99, values=[104.99989775163911, 114.99989775163911]),\n",
       "  TimeStepValuesItem(layer=0, row=3, column=99, values=[106.99985986577755, 116.99985986577755]),\n",
       "  TimeStepValuesItem(layer=0, row=4, column=99, values=[108.99982370191631, 118.99982370191631]),\n",
       "  TimeStepValuesItem(layer=0, row=5, column=99, values=[110.9997892600554, 120.9997892600554]),\n",
       "  TimeStepValuesItem(layer=0, row=6, column=99, values=[112.99975654055007, 122.99975654055007]),\n",
       "  TimeStepValuesItem(layer=0, row=7, column=99, values=[114.99972554268979, 124.99972554268979]),\n",
       "  TimeStepValuesItem(layer=0, row=8, column=99, values=[116.9996962671851, 126.9996962671851]),\n",
       "  TimeStepValuesItem(layer=0, row=9, column=99, values=[118.99966871368073, 128.99966871368073]),\n",
       "  TimeStepValuesItem(layer=0, row=10, column=99, values=[120.99964288253196, 130.99964288253196]),\n",
       "  TimeStepValuesItem(layer=0, row=11, column=99, values=[122.9996187733835, 132.9996187733835]),\n",
       "  TimeStepValuesItem(layer=0, row=12, column=99, values=[124.9995963858801, 134.9995963858801]),\n",
       "  TimeStepValuesItem(layer=0, row=13, column=99, values=[126.99957572108755, 136.99957572108755]),\n",
       "  TimeStepValuesItem(layer=0, row=14, column=99, values=[128.9995567775848, 138.9995567775848]),\n",
       "  TimeStepValuesItem(layer=0, row=15, column=99, values=[130.99953955714815, 140.99953955714815]),\n",
       "  TimeStepValuesItem(layer=0, row=16, column=99, values=[132.99952405835657, 142.99952405835657]),\n",
       "  TimeStepValuesItem(layer=0, row=17, column=99, values=[134.99951028121004, 144.99951028121004]),\n",
       "  TimeStepValuesItem(layer=0, row=18, column=99, values=[136.99949822677436, 146.99949822677436]),\n",
       "  TimeStepValuesItem(layer=0, row=19, column=99, values=[138.999487894339, 148.999487894339]),\n",
       "  TimeStepValuesItem(layer=0, row=20, column=99, values=[140.9994792835487, 150.9994792835487]),\n",
       "  TimeStepValuesItem(layer=0, row=21, column=99, values=[142.99947239546927, 152.99947239546927]),\n",
       "  TimeStepValuesItem(layer=0, row=22, column=99, values=[144.99946722903488, 154.99946722903488]),\n",
       "  TimeStepValuesItem(layer=0, row=23, column=99, values=[146.99946378495608, 156.99946378495608]),\n",
       "  TimeStepValuesItem(layer=0, row=24, column=99, values=[148.99946206252233, 158.99946206252233]),\n",
       "  TimeStepValuesItem(layer=0, row=25, column=99, values=[150.99946206244417, 160.99946206244417]),\n",
       "  TimeStepValuesItem(layer=0, row=26, column=99, values=[152.99946378436633, 162.99946378436633]),\n",
       "  TimeStepValuesItem(layer=0, row=27, column=99, values=[154.99946722864408, 164.99946722864408]),\n",
       "  TimeStepValuesItem(layer=0, row=28, column=99, values=[156.99947239492215, 166.99947239492215]),\n",
       "  TimeStepValuesItem(layer=0, row=29, column=99, values=[158.99947928320054, 168.99947928320054]),\n",
       "  TimeStepValuesItem(layer=0, row=30, column=99, values=[160.99948789347926, 170.99948789347926]),\n",
       "  TimeStepValuesItem(layer=0, row=31, column=99, values=[162.99949822611356, 172.99949822611356]),\n",
       "  TimeStepValuesItem(layer=0, row=32, column=99, values=[164.99951028074815, 174.99951028074815]),\n",
       "  TimeStepValuesItem(layer=0, row=33, column=99, values=[166.99952405738313, 176.99952405738313]),\n",
       "  TimeStepValuesItem(layer=0, row=34, column=99, values=[168.9995395560184, 178.9995395560184]),\n",
       "  TimeStepValuesItem(layer=0, row=35, column=99, values=[170.99955677665398, 180.99955677665398]),\n",
       "  TimeStepValuesItem(layer=0, row=36, column=99, values=[172.99957571964515, 182.99957571964515]),\n",
       "  TimeStepValuesItem(layer=0, row=37, column=99, values=[174.99959638463665, 184.99959638463665]),\n",
       "  TimeStepValuesItem(layer=0, row=38, column=99, values=[176.9996187719837, 186.9996187719837]),\n",
       "  TimeStepValuesItem(layer=0, row=39, column=99, values=[178.9996428816864, 188.9996428816864]),\n",
       "  TimeStepValuesItem(layer=0, row=40, column=99, values=[180.99966871267887, 190.99966871267887]),\n",
       "  TimeStepValuesItem(layer=0, row=41, column=99, values=[182.99969626602692, 192.99969626602692]),\n",
       "  TimeStepValuesItem(layer=0, row=42, column=99, values=[184.9997255413753, 194.9997255413753]),\n",
       "  TimeStepValuesItem(layer=0, row=43, column=99, values=[186.99975653943451, 196.99975653943451]),\n",
       "  TimeStepValuesItem(layer=0, row=44, column=99, values=[188.9997892591388, 198.9997892591388]),\n",
       "  TimeStepValuesItem(layer=0, row=45, column=99, values=[190.9998237008434, 200.9998237008434]),\n",
       "  TimeStepValuesItem(layer=0, row=46, column=99, values=[192.99985986490358, 202.99985986490358]),\n",
       "  TimeStepValuesItem(layer=0, row=47, column=99, values=[194.99989775060882, 204.99989775060882]),\n",
       "  TimeStepValuesItem(layer=0, row=48, column=99, values=[196.99993735902493, 206.99993735902493]),\n",
       "  TimeStepValuesItem(layer=0, row=49, column=99, values=[198.99997868908608, 208.99997868908608])],\n",
       " 'head_data': [TimeStepValuesItem(layer=0, row=0, column=0, values=[300.5050289789967, None]),\n",
       "  TimeStepValuesItem(layer=0, row=1, column=0, values=[302.5251892522284, None]),\n",
       "  TimeStepValuesItem(layer=0, row=2, column=0, values=[304.54535126413674, None]),\n",
       "  TimeStepValuesItem(layer=0, row=3, column=0, values=[306.5655150157982, None]),\n",
       "  TimeStepValuesItem(layer=0, row=4, column=0, values=[308.5856805068539, None]),\n",
       "  TimeStepValuesItem(layer=0, row=5, column=0, values=[310.60584773730386, None]),\n",
       "  TimeStepValuesItem(layer=0, row=6, column=0, values=[312.62601670750695, None]),\n",
       "  TimeStepValuesItem(layer=0, row=7, column=0, values=[314.6461874167454, None]),\n",
       "  TimeStepValuesItem(layer=0, row=8, column=0, values=[316.66635986573704, None]),\n",
       "  TimeStepValuesItem(layer=0, row=9, column=0, values=[318.68653405412294, None]),\n",
       "  TimeStepValuesItem(layer=0, row=10, column=0, values=[320.70670998226194, None]),\n",
       "  TimeStepValuesItem(layer=0, row=11, column=0, values=[322.72688764979523, None]),\n",
       "  TimeStepValuesItem(layer=0, row=12, column=0, values=[324.7470670563639, None]),\n",
       "  TimeStepValuesItem(layer=0, row=13, column=0, values=[326.7672482030445, None]),\n",
       "  TimeStepValuesItem(layer=0, row=14, column=0, values=[328.7874310884017, None]),\n",
       "  TimeStepValuesItem(layer=0, row=15, column=0, values=[330.80761571422977, None]),\n",
       "  TimeStepValuesItem(layer=0, row=16, column=0, values=[332.8278020790932, None]),\n",
       "  TimeStepValuesItem(layer=0, row=17, column=0, values=[334.847990182992, None]),\n",
       "  TimeStepValuesItem(layer=0, row=18, column=0, values=[336.8681800270029, None]),\n",
       "  TimeStepValuesItem(layer=0, row=19, column=0, values=[338.88837161040794, None]),\n",
       "  TimeStepValuesItem(layer=0, row=20, column=0, values=[340.90856493284844, None]),\n",
       "  TimeStepValuesItem(layer=0, row=21, column=0, values=[342.9287599954009, None]),\n",
       "  TimeStepValuesItem(layer=0, row=22, column=0, values=[344.9489567969888, None]),\n",
       "  TimeStepValuesItem(layer=0, row=23, column=0, values=[346.9691553383298, None]),\n",
       "  TimeStepValuesItem(layer=0, row=24, column=0, values=[348.9893556187062, None]),\n",
       "  TimeStepValuesItem(layer=0, row=25, column=0, values=[351.0095576388357, None]),\n",
       "  TimeStepValuesItem(layer=0, row=26, column=0, values=[353.0297613983595, None]),\n",
       "  TimeStepValuesItem(layer=0, row=27, column=0, values=[355.0499668976364, None]),\n",
       "  TimeStepValuesItem(layer=0, row=28, column=0, values=[357.07017413630757, None]),\n",
       "  TimeStepValuesItem(layer=0, row=29, column=0, values=[359.090383114373, None]),\n",
       "  TimeStepValuesItem(layer=0, row=30, column=0, values=[361.1105938318327, None]),\n",
       "  TimeStepValuesItem(layer=0, row=31, column=0, values=[363.1308062890455, None]),\n",
       "  TimeStepValuesItem(layer=0, row=32, column=0, values=[365.1510204856526, None]),\n",
       "  TimeStepValuesItem(layer=0, row=33, column=0, values=[367.17123642165393, None]),\n",
       "  TimeStepValuesItem(layer=0, row=34, column=0, values=[369.1914540970496, None]),\n",
       "  TimeStepValuesItem(layer=0, row=35, column=0, values=[371.2116735118394, None]),\n",
       "  TimeStepValuesItem(layer=0, row=36, column=0, values=[373.23189466638246, None]),\n",
       "  TimeStepValuesItem(layer=0, row=37, column=0, values=[375.2521175603197, None]),\n",
       "  TimeStepValuesItem(layer=0, row=38, column=0, values=[377.27234219401004, None]),\n",
       "  TimeStepValuesItem(layer=0, row=39, column=0, values=[379.29256856745354, None]),\n",
       "  TimeStepValuesItem(layer=0, row=40, column=0, values=[381.31279667957364, None]),\n",
       "  TimeStepValuesItem(layer=0, row=41, column=0, values=[383.33302653144676, None]),\n",
       "  TimeStepValuesItem(layer=0, row=42, column=0, values=[385.35325812271424, None]),\n",
       "  TimeStepValuesItem(layer=0, row=43, column=0, values=[387.3734914540936, None]),\n",
       "  TimeStepValuesItem(layer=0, row=44, column=0, values=[389.39372652450845, None]),\n",
       "  TimeStepValuesItem(layer=0, row=45, column=0, values=[391.4139633343175, None]),\n",
       "  TimeStepValuesItem(layer=0, row=46, column=0, values=[393.4342018838797, None]),\n",
       "  TimeStepValuesItem(layer=0, row=47, column=0, values=[395.45444217247734, None]),\n",
       "  TimeStepValuesItem(layer=0, row=48, column=0, values=[397.4746842011869, None]),\n",
       "  TimeStepValuesItem(layer=0, row=49, column=0, values=[399.4949279689319, None])]}"
      ]
     },
     "execution_count": 9,
     "metadata": {},
     "output_type": "execute_result"
    }
   ],
   "execution_count": 9
  },
  {
   "cell_type": "markdown",
   "id": "42d948d145a8457a",
   "metadata": {
    "collapsed": false,
    "papermill": {
     "duration": 0.002356,
     "end_time": "2024-06-20T19:02:52.734276",
     "exception": false,
     "start_time": "2024-06-20T19:02:52.731920",
     "status": "completed"
    },
    "tags": []
   },
   "source": [
    "## Calculate"
   ]
  },
  {
   "cell_type": "code",
   "id": "56ccabee86e2397e",
   "metadata": {
    "collapsed": false,
    "execution": {
     "iopub.execute_input": "2024-06-20T19:02:52.739711Z",
     "iopub.status.busy": "2024-06-20T19:02:52.739547Z",
     "iopub.status.idle": "2024-06-20T19:02:53.492942Z",
     "shell.execute_reply": "2024-06-20T19:02:53.492713Z"
    },
    "papermill": {
     "duration": 0.757033,
     "end_time": "2024-06-20T19:02:53.493748",
     "exception": false,
     "start_time": "2024-06-20T19:02:52.736715",
     "status": "completed"
    },
    "tags": [],
    "ExecuteTime": {
     "end_time": "2024-08-19T10:15:27.367076Z",
     "start_time": "2024-08-19T10:15:26.558666Z"
    }
   },
   "source": [
    "from morpheus.project.infrastructure.calculation.engines.base.CalculationEngineFactory import CalculationEngineFactory\n",
    "from morpheus.project.types.calculation.CalculationProfile import CalculationProfile, CalculationEngineType\n",
    "from morpheus.project.types.calculation.Calculation import CalculationId\n",
    "\n",
    "calculation_id = CalculationId.new()\n",
    "calculation_profile = CalculationProfile.new(CalculationEngineType.MF2005)\n",
    "engine = CalculationEngineFactory.create_engine(calculation_id=calculation_id, engine_type=calculation_profile.engine_type)\n",
    "check_model_log = engine.preprocess(model, calculation_profile)\n",
    "check_model_log.to_list()"
   ],
   "outputs": [
    {
     "data": {
      "text/plain": [
       "['type,package,k,i,j,value,desc']"
      ]
     },
     "execution_count": 10,
     "metadata": {},
     "output_type": "execute_result"
    }
   ],
   "execution_count": 10
  },
  {
   "cell_type": "code",
   "id": "e09d94e0a94315cb",
   "metadata": {
    "collapsed": false,
    "execution": {
     "iopub.execute_input": "2024-06-20T19:02:53.499396Z",
     "iopub.status.busy": "2024-06-20T19:02:53.499281Z",
     "iopub.status.idle": "2024-06-20T19:02:54.059609Z",
     "shell.execute_reply": "2024-06-20T19:02:54.059319Z"
    },
    "papermill": {
     "duration": 0.564019,
     "end_time": "2024-06-20T19:02:54.060462",
     "exception": false,
     "start_time": "2024-06-20T19:02:53.496443",
     "status": "completed"
    },
    "tags": [],
    "ExecuteTime": {
     "end_time": "2024-08-19T10:15:28.083308Z",
     "start_time": "2024-08-19T10:15:27.370271Z"
    }
   },
   "source": [
    "log, result = engine.run(model=model, calculation_profile=calculation_profile)"
   ],
   "outputs": [
    {
     "name": "stdout",
     "output_type": "stream",
     "text": [
      "FloPy is using the following executable to run the model: ../../../../../../../src/backend/.venv/bin/mf2005\n",
      "\n",
      "                                  MODFLOW-2005     \n",
      "    U.S. GEOLOGICAL SURVEY MODULAR FINITE-DIFFERENCE GROUND-WATER FLOW MODEL\n",
      "                             Version 1.12.00 2/3/2017                        \n",
      "\n",
      " Using NAME file: mf2005.nam \n",
      " Run start date and time (yyyy/mm/dd hh:mm:ss): 2024/08/19 12:15:27\n",
      "\n",
      " Solving:  Stress period:     1    Time step:     1    Ground-Water Flow Eqn.\n",
      " Run end date and time (yyyy/mm/dd hh:mm:ss): 2024/08/19 12:15:28\n",
      " Elapsed run time:  0.234 Seconds\n",
      "\n",
      " FAILED TO MEET SOLVER CONVERGENCE CRITERIA            1  TIME(S)\n"
     ]
    }
   ],
   "execution_count": 11
  },
  {
   "cell_type": "code",
   "id": "a52d1dd3a1574032",
   "metadata": {
    "collapsed": false,
    "execution": {
     "iopub.execute_input": "2024-06-20T19:02:54.066340Z",
     "iopub.status.busy": "2024-06-20T19:02:54.066199Z",
     "iopub.status.idle": "2024-06-20T19:02:54.068485Z",
     "shell.execute_reply": "2024-06-20T19:02:54.068281Z"
    },
    "papermill": {
     "duration": 0.006022,
     "end_time": "2024-06-20T19:02:54.069259",
     "exception": false,
     "start_time": "2024-06-20T19:02:54.063237",
     "status": "completed"
    },
    "tags": [],
    "ExecuteTime": {
     "end_time": "2024-08-19T10:15:28.091117Z",
     "start_time": "2024-08-19T10:15:28.085575Z"
    }
   },
   "source": [
    "result"
   ],
   "outputs": [
    {
     "data": {
      "text/plain": [
       "CalculationResult(type=<CalculationResultType.FAILURE: 'failure'>, message='Calculation failed', files=['mf2005.list', 'mf2005.dis', 'mf2005.nam', 'mf2005.bas', 'mf2005.lpf', 'mf2005.pcg', 'mf2005.oc', 'mf2005.hds', 'mf2005.fhb'], flow_head_results=None, flow_drawdown_results=None, flow_budget_results=None, transport_concentration_results=None, transport_budget_results=None, packages=['DIS', 'BAS6', 'FHB', 'PCG', 'LPF', 'OC'])"
      ]
     },
     "execution_count": 12,
     "metadata": {},
     "output_type": "execute_result"
    }
   ],
   "execution_count": 12
  },
  {
   "cell_type": "code",
   "id": "cc43ad077c7a81d0",
   "metadata": {
    "collapsed": false,
    "execution": {
     "iopub.execute_input": "2024-06-20T19:02:54.074773Z",
     "iopub.status.busy": "2024-06-20T19:02:54.074675Z",
     "iopub.status.idle": "2024-06-20T19:02:54.076824Z",
     "shell.execute_reply": "2024-06-20T19:02:54.076604Z"
    },
    "papermill": {
     "duration": 0.005717,
     "end_time": "2024-06-20T19:02:54.077563",
     "exception": false,
     "start_time": "2024-06-20T19:02:54.071846",
     "status": "completed"
    },
    "tags": [],
    "ExecuteTime": {
     "end_time": "2024-08-19T10:15:28.098946Z",
     "start_time": "2024-08-19T10:15:28.093073Z"
    }
   },
   "source": [
    "head = engine.read_flow_head(idx=0, layer=0)"
   ],
   "outputs": [],
   "execution_count": 13
  },
  {
   "cell_type": "code",
   "id": "12454cc4d9e18de5",
   "metadata": {
    "collapsed": false,
    "execution": {
     "iopub.execute_input": "2024-06-20T19:02:54.083814Z",
     "iopub.status.busy": "2024-06-20T19:02:54.083630Z",
     "iopub.status.idle": "2024-06-20T19:02:54.089779Z",
     "shell.execute_reply": "2024-06-20T19:02:54.089512Z"
    },
    "papermill": {
     "duration": 0.010349,
     "end_time": "2024-06-20T19:02:54.090600",
     "exception": false,
     "start_time": "2024-06-20T19:02:54.080251",
     "status": "completed"
    },
    "tags": [],
    "ExecuteTime": {
     "end_time": "2024-08-19T10:15:28.111416Z",
     "start_time": "2024-08-19T10:15:28.100012Z"
    }
   },
   "source": [
    "import simplejson as json\n",
    "\n",
    "json = json.dumps(head, ignore_nan=True)\n",
    "json"
   ],
   "outputs": [
    {
     "data": {
      "text/plain": [
       "'[[5830870040576.0, 5830870040576.0, 5830870040576.0, 5830870040576.0, 5830870040576.0, 5830870040576.0, 5830870040576.0, 5830870040576.0, 5830870040576.0, 5830870040576.0, 5830870040576.0, 5830870040576.0, 5830870040576.0, 5830870040576.0, 5830870040576.0, 5830870040576.0, 5830870040576.0, 5830870040576.0, 5830870040576.0, 5830870040576.0, 5830870040576.0, 5830870040576.0, 5830870040576.0, 5830870040576.0, 5830870040576.0, 5830870040576.0, 5830870040576.0, 5830870040576.0, 5830870040576.0, 5830870040576.0, 5830870040576.0, 5830870040576.0, 5830870040576.0, 5830870040576.0, 5830870040576.0, 5830870040576.0, 5830870040576.0, 5830870040576.0, 5830870040576.0, 5830870040576.0, 5830870040576.0, 5830870040576.0, 5830870040576.0, 5830870040576.0, 5830870040576.0, 5830870040576.0, 5830870040576.0, 5830870040576.0, 5830870040576.0, 5830870040576.0, 5830870040576.0, 5830870040576.0, 5830870040576.0, 5830870040576.0, 5830870040576.0, 5830870040576.0, 5830870040576.0, 5830870040576.0, 5830870040576.0, 5830870040576.0, 5830870040576.0, 5830870040576.0, 5830870040576.0, 5830870040576.0, 5830870040576.0, 5830870040576.0, 5830870040576.0, 5830870040576.0, 5830870040576.0, 5830870040576.0, 5830870040576.0, 5830870040576.0, 5830870040576.0, 5830870040576.0, 5830870040576.0, 5830870040576.0, 5830870040576.0, 5830870040576.0, 5830870040576.0, 5830870040576.0, 5830870040576.0, 5830870040576.0, 5830870040576.0, 5830870040576.0, 5830870040576.0, 5830870040576.0, 5830870040576.0, 5830870040576.0, 5830870040576.0, 5830870040576.0, 5830870040576.0, 5830870040576.0, 5830870040576.0, 5830870040576.0, 5830870040576.0, 5830870040576.0, 5830870040576.0, 5830870040576.0, 5830870040576.0, 5830870040576.0], [5830870040576.0, 5830870040576.0, 5830870040576.0, 5830870040576.0, 5830870040576.0, 5830870040576.0, 5830870040576.0, 5830870040576.0, 5830870040576.0, 5830870040576.0, 5830870040576.0, 5830870040576.0, 5830870040576.0, 5830870040576.0, 5830870040576.0, 5830870040576.0, 5830870040576.0, 5830870040576.0, 5830870040576.0, 5830870040576.0, 5830870040576.0, 5830870040576.0, 5830870040576.0, 5830870040576.0, 5830870040576.0, 5830870040576.0, 5830870040576.0, 5830870040576.0, 5830870040576.0, 5830870040576.0, 5830870040576.0, 5830870040576.0, 5830870040576.0, 5830870040576.0, 5830870040576.0, 5830870040576.0, 5830870040576.0, 5830870040576.0, 5830870040576.0, 5830870040576.0, 5830870040576.0, 5830870040576.0, 5830870040576.0, 5830870040576.0, 5830870040576.0, 5830870040576.0, 5830870040576.0, 5830870040576.0, 5830870040576.0, 5830870040576.0, 5830870040576.0, 5830870040576.0, 5830870040576.0, 5830870040576.0, 5830870040576.0, 5830870040576.0, 5830870040576.0, 5830870040576.0, 5830870040576.0, 5830870040576.0, 5830870040576.0, 5830870040576.0, 5830870040576.0, 5830870040576.0, 5830870040576.0, 5830870040576.0, 5830870040576.0, 5830870040576.0, 5830870040576.0, 5830870040576.0, 5830870040576.0, 5830870040576.0, 5830870040576.0, 5830870040576.0, 5830870040576.0, 5830870040576.0, 5830870040576.0, 5830870040576.0, 5830870040576.0, 5830870040576.0, 5830870040576.0, 5830870040576.0, 5830870040576.0, 5830870040576.0, 5830870040576.0, 5830870040576.0, 5830870040576.0, 5830870040576.0, 5830870040576.0, 5830870040576.0, 5830870040576.0, 5830870040576.0, 5830870040576.0, 5830870040576.0, 5830870040576.0, 5830870040576.0, 5830870040576.0, 5830870040576.0, 5830870040576.0, 5830870040576.0], [5830870040576.0, 5830870040576.0, 5830870040576.0, 5830870040576.0, 5830870040576.0, 5830870040576.0, 5830870040576.0, 5830870040576.0, 5830870040576.0, 5830870040576.0, 5830870040576.0, 5830870040576.0, 5830870040576.0, 5830870040576.0, 5830870040576.0, 5830870040576.0, 5830870040576.0, 5830870040576.0, 5830870040576.0, 5830870040576.0, 5830870040576.0, 5830870040576.0, 5830870040576.0, 5830870040576.0, 5830870040576.0, 5830870040576.0, 5830870040576.0, 5830870040576.0, 5830870040576.0, 5830870040576.0, 5830870040576.0, 5830870040576.0, 5830870040576.0, 5830870040576.0, 5830870040576.0, 5830870040576.0, 5830870040576.0, 5830870040576.0, 5830870040576.0, 5830870040576.0, 5830870040576.0, 5830870040576.0, 5830870040576.0, 5830870040576.0, 5830870040576.0, 5830870040576.0, 5830870040576.0, 5830870040576.0, 5830870040576.0, 5830870040576.0, 5830870040576.0, 5830870040576.0, 5830870040576.0, 5830870040576.0, 5830870040576.0, 5830870040576.0, 5830870040576.0, 5830870040576.0, 5830870040576.0, 5830870040576.0, 5830870040576.0, 5830870040576.0, 5830870040576.0, 5830870040576.0, 5830870040576.0, 5830870040576.0, 5830870040576.0, 5830870040576.0, 5830870040576.0, 5830870040576.0, 5830870040576.0, 5830870040576.0, 5830870040576.0, 5830870040576.0, 5830870040576.0, 5830870040576.0, 5830870040576.0, 5830870040576.0, 5830870040576.0, 5830870040576.0, 5830870040576.0, 5830870040576.0, 5830870040576.0, 5830870040576.0, 5830870040576.0, 5830870040576.0, 5830870040576.0, 5830870040576.0, 5830870040576.0, 5830870040576.0, 5830870040576.0, 5830870040576.0, 5830870040576.0, 5830870040576.0, 5830870040576.0, 5830870040576.0, 5830870040576.0, 5830870040576.0, 5830870040576.0, 5830870040576.0], [5830870040576.0, 5830870040576.0, 5830870040576.0, 5830870040576.0, 5830870040576.0, 5830870040576.0, 5830870040576.0, 5830870040576.0, 5830870040576.0, 5830870040576.0, 5830870040576.0, 5830870040576.0, 5830870040576.0, 5830870040576.0, 5830870040576.0, 5830870040576.0, 5830870040576.0, 5830870040576.0, 5830870040576.0, 5830870040576.0, 5830870040576.0, 5830870040576.0, 5830870040576.0, 5830870040576.0, 5830870040576.0, 5830870040576.0, 5830870040576.0, 5830870040576.0, 5830870040576.0, 5830870040576.0, 5830870040576.0, 5830870040576.0, 5830870040576.0, 5830870040576.0, 5830870040576.0, 5830870040576.0, 5830870040576.0, 5830870040576.0, 5830870040576.0, 5830870040576.0, 5830870040576.0, 5830870040576.0, 5830870040576.0, 5830870040576.0, 5830870040576.0, 5830870040576.0, 5830870040576.0, 5830870040576.0, 5830870040576.0, 5830870040576.0, 5830870040576.0, 5830870040576.0, 5830870040576.0, 5830870040576.0, 5830870040576.0, 5830870040576.0, 5830870040576.0, 5830870040576.0, 5830870040576.0, 5830870040576.0, 5830870040576.0, 5830870040576.0, 5830870040576.0, 5830870040576.0, 5830870040576.0, 5830870040576.0, 5830870040576.0, 5830870040576.0, 5830870040576.0, 5830870040576.0, 5830870040576.0, 5830870040576.0, 5830870040576.0, 5830870040576.0, 5830870040576.0, 5830870040576.0, 5830870040576.0, 5830870040576.0, 5830870040576.0, 5830870040576.0, 5830870040576.0, 5830870040576.0, 5830870040576.0, 5830870040576.0, 5830870040576.0, 5830870040576.0, 5830870040576.0, 5830870040576.0, 5830870040576.0, 5830870040576.0, 5830870040576.0, 5830870040576.0, 5830870040576.0, 5830870040576.0, 5830870040576.0, 5830870040576.0, 5830870040576.0, 5830870040576.0, 5830870040576.0, 5830870040576.0], [5830870040576.0, 5830870040576.0, 5830870040576.0, 5830870040576.0, 5830870040576.0, 5830870040576.0, 5830870040576.0, 5830870040576.0, 5830870040576.0, 5830870040576.0, 5830870040576.0, 5830870040576.0, 5830870040576.0, 5830870040576.0, 5830870040576.0, 5830870040576.0, 5830870040576.0, 5830870040576.0, 5830870040576.0, 5830870040576.0, 5830870040576.0, 5830870040576.0, 5830870040576.0, 5830870040576.0, 5830870040576.0, 5830870040576.0, 5830870040576.0, 5830870040576.0, 5830870040576.0, 5830870040576.0, 5830870040576.0, 5830870040576.0, 5830870040576.0, 5830870040576.0, 5830870040576.0, 5830870040576.0, 5830870040576.0, 5830870040576.0, 5830870040576.0, 5830870040576.0, 5830870040576.0, 5830870040576.0, 5830870040576.0, 5830870040576.0, 5830870040576.0, 5830870040576.0, 5830870040576.0, 5830870040576.0, 5830870040576.0, 5830870040576.0, 5830870040576.0, 5830870040576.0, 5830870040576.0, 5830870040576.0, 5830870040576.0, 5830870040576.0, 5830870040576.0, 5830870040576.0, 5830870040576.0, 5830870040576.0, 5830870040576.0, 5830870040576.0, 5830870040576.0, 5830870040576.0, 5830870040576.0, 5830870040576.0, 5830870040576.0, 5830870040576.0, 5830870040576.0, 5830870040576.0, 5830870040576.0, 5830870040576.0, 5830870040576.0, 5830870040576.0, 5830870040576.0, 5830870040576.0, 5830870040576.0, 5830870040576.0, 5830870040576.0, 5830870040576.0, 5830870040576.0, 5830870040576.0, 5830870040576.0, 5830870040576.0, 5830870040576.0, 5830870040576.0, 5830870040576.0, 5830870040576.0, 5830870040576.0, 5830870040576.0, 5830870040576.0, 5830870040576.0, 5830870040576.0, 5830870040576.0, 5830870040576.0, 5830870040576.0, 5830870040576.0, 5830870040576.0, 5830870040576.0, 5830870040576.0], [5830870040576.0, 5830870040576.0, 5830870040576.0, 5830870040576.0, 5830870040576.0, 5830870040576.0, 5830870040576.0, 5830870040576.0, 5830870040576.0, 5830870040576.0, 5830870040576.0, 5830870040576.0, 5830870040576.0, 5830870040576.0, 5830870040576.0, 5830870040576.0, 5830870040576.0, 5830870040576.0, 5830870040576.0, 5830870040576.0, 5830870040576.0, 5830870040576.0, 5830870040576.0, 5830870040576.0, 5830870040576.0, 5830870040576.0, 5830870040576.0, 5830870040576.0, 5830870040576.0, 5830870040576.0, 5830870040576.0, 5830870040576.0, 5830870040576.0, 5830870040576.0, 5830870040576.0, 5830870040576.0, 5830870040576.0, 5830870040576.0, 5830870040576.0, 5830870040576.0, 5830870040576.0, 5830870040576.0, 5830870040576.0, 5830870040576.0, 5830870040576.0, 5830870040576.0, 5830870040576.0, 5830870040576.0, 5830870040576.0, 5830870040576.0, 5830870040576.0, 5830870040576.0, 5830870040576.0, 5830870040576.0, 5830870040576.0, 5830870040576.0, 5830870040576.0, 5830870040576.0, 5830870040576.0, 5830870040576.0, 5830870040576.0, 5830870040576.0, 5830870040576.0, 5830870040576.0, 5830870040576.0, 5830870040576.0, 5830870040576.0, 5830870040576.0, 5830870040576.0, 5830870040576.0, 5830870040576.0, 5830870040576.0, 5830870040576.0, 5830870040576.0, 5830870040576.0, 5830870040576.0, 5830870040576.0, 5830870040576.0, 5830870040576.0, 5830870040576.0, 5830870040576.0, 5830870040576.0, 5830870040576.0, 5830870040576.0, 5830870040576.0, 5830870040576.0, 5830870040576.0, 5830870040576.0, 5830870040576.0, 5830870040576.0, 5830870040576.0, 5830870040576.0, 5830870040576.0, 5830870040576.0, 5830870040576.0, 5830870040576.0, 5830870040576.0, 5830870040576.0, 5830870040576.0, 5830870040576.0], [5830870040576.0, 5830870040576.0, 5830870040576.0, 5830870040576.0, 5830870040576.0, 5830870040576.0, 5830870040576.0, 5830870040576.0, 5830870040576.0, 5830870040576.0, 5830870040576.0, 5830870040576.0, 5830870040576.0, 5830870040576.0, 5830870040576.0, 5830870040576.0, 5830870040576.0, 5830870040576.0, 5830870040576.0, 5830870040576.0, 5830870040576.0, 5830870040576.0, 5830870040576.0, 5830870040576.0, 5830870040576.0, 5830870040576.0, 5830870040576.0, 5830870040576.0, 5830870040576.0, 5830870040576.0, 5830870040576.0, 5830870040576.0, 5830870040576.0, 5830870040576.0, 5830870040576.0, 5830870040576.0, 5830870040576.0, 5830870040576.0, 5830870040576.0, 5830870040576.0, 5830870040576.0, 5830870040576.0, 5830870040576.0, 5830870040576.0, 5830870040576.0, 5830870040576.0, 5830870040576.0, 5830870040576.0, 5830870040576.0, 5830870040576.0, 5830870040576.0, 5830870040576.0, 5830870040576.0, 5830870040576.0, 5830870040576.0, 5830870040576.0, 5830870040576.0, 5830870040576.0, 5830870040576.0, 5830870040576.0, 5830870040576.0, 5830870040576.0, 5830870040576.0, 5830870040576.0, 5830870040576.0, 5830870040576.0, 5830870040576.0, 5830870040576.0, 5830870040576.0, 5830870040576.0, 5830870040576.0, 5830870040576.0, 5830870040576.0, 5830870040576.0, 5830870040576.0, 5830870040576.0, 5830870040576.0, 5830870040576.0, 5830870040576.0, 5830870040576.0, 5830870040576.0, 5830870040576.0, 5830870040576.0, 5830870040576.0, 5830870040576.0, 5830870040576.0, 5830870040576.0, 5830870040576.0, 5830870040576.0, 5830870040576.0, 5830870040576.0, 5830870040576.0, 5830870040576.0, 5830870040576.0, 5830870040576.0, 5830870040576.0, 5830870040576.0, 5830870040576.0, 5830870040576.0, 5830870040576.0], [5830870040576.0, 5830870040576.0, 5830870040576.0, 5830870040576.0, 5830870040576.0, 5830870040576.0, 5830870040576.0, 5830870040576.0, 5830870040576.0, 5830870040576.0, 5830870040576.0, 5830870040576.0, 5830870040576.0, 5830870040576.0, 5830870040576.0, 5830870040576.0, 5830870040576.0, 5830870040576.0, 5830870040576.0, 5830870040576.0, 5830870040576.0, 5830870040576.0, 5830870040576.0, 5830870040576.0, 5830870040576.0, 5830870040576.0, 5830870040576.0, 5830870040576.0, 5830870040576.0, 5830870040576.0, 5830870040576.0, 5830870040576.0, 5830870040576.0, 5830870040576.0, 5830870040576.0, 5830870040576.0, 5830870040576.0, 5830870040576.0, 5830870040576.0, 5830870040576.0, 5830870040576.0, 5830870040576.0, 5830870040576.0, 5830870040576.0, 5830870040576.0, 5830870040576.0, 5830870040576.0, 5830870040576.0, 5830870040576.0, 5830870040576.0, 5830870040576.0, 5830870040576.0, 5830870040576.0, 5830870040576.0, 5830870040576.0, 5830870040576.0, 5830870040576.0, 5830870040576.0, 5830870040576.0, 5830870040576.0, 5830870040576.0, 5830870040576.0, 5830870040576.0, 5830870040576.0, 5830870040576.0, 5830870040576.0, 5830870040576.0, 5830870040576.0, 5830870040576.0, 5830870040576.0, 5830870040576.0, 5830870040576.0, 5830870040576.0, 5830870040576.0, 5830870040576.0, 5830870040576.0, 5830870040576.0, 5830870040576.0, 5830870040576.0, 5830870040576.0, 5830870040576.0, 5830870040576.0, 5830870040576.0, 5830870040576.0, 5830870040576.0, 5830870040576.0, 5830870040576.0, 5830870040576.0, 5830870040576.0, 5830870040576.0, 5830870040576.0, 5830870040576.0, 5830870040576.0, 5830870040576.0, 5830870040576.0, 5830870040576.0, 5830870040576.0, 5830870040576.0, 5830870040576.0, 5830870040576.0], [5830870040576.0, 5830870040576.0, 5830870040576.0, 5830870040576.0, 5830870040576.0, 5830870040576.0, 5830870040576.0, 5830870040576.0, 5830870040576.0, 5830870040576.0, 5830870040576.0, 5830870040576.0, 5830870040576.0, 5830870040576.0, 5830870040576.0, 5830870040576.0, 5830870040576.0, 5830870040576.0, 5830870040576.0, 5830870040576.0, 5830870040576.0, 5830870040576.0, 5830870040576.0, 5830870040576.0, 5830870040576.0, 5830870040576.0, 5830870040576.0, 5830870040576.0, 5830870040576.0, 5830870040576.0, 5830870040576.0, 5830870040576.0, 5830870040576.0, 5830870040576.0, 5830870040576.0, 5830870040576.0, 5830870040576.0, 5830870040576.0, 5830870040576.0, 5830870040576.0, 5830870040576.0, 5830870040576.0, 5830870040576.0, 5830870040576.0, 5830870040576.0, 5830870040576.0, 5830870040576.0, 5830870040576.0, 5830870040576.0, 5830870040576.0, 5830870040576.0, 5830870040576.0, 5830870040576.0, 5830870040576.0, 5830870040576.0, 5830870040576.0, 5830870040576.0, 5830870040576.0, 5830870040576.0, 5830870040576.0, 5830870040576.0, 5830870040576.0, 5830870040576.0, 5830870040576.0, 5830870040576.0, 5830870040576.0, 5830870040576.0, 5830870040576.0, 5830870040576.0, 5830870040576.0, 5830870040576.0, 5830870040576.0, 5830870040576.0, 5830870040576.0, 5830870040576.0, 5830870040576.0, 5830870040576.0, 5830870040576.0, 5830870040576.0, 5830870040576.0, 5830870040576.0, 5830870040576.0, 5830870040576.0, 5830870040576.0, 5830870040576.0, 5830870040576.0, 5830870040576.0, 5830870040576.0, 5830870040576.0, 5830870040576.0, 5830870040576.0, 5830870040576.0, 5830870040576.0, 5830870040576.0, 5830870040576.0, 5830870040576.0, 5830870040576.0, 5830870040576.0, 5830870040576.0, 5830870040576.0], [5830870040576.0, 5830870040576.0, 5830870040576.0, 5830870040576.0, 5830870040576.0, 5830870040576.0, 5830870040576.0, 5830870040576.0, 5830870040576.0, 5830870040576.0, 5830870040576.0, 5830870040576.0, 5830870040576.0, 5830870040576.0, 5830870040576.0, 5830870040576.0, 5830870040576.0, 5830870040576.0, 5830870040576.0, 5830870040576.0, 5830870040576.0, 5830870040576.0, 5830870040576.0, 5830870040576.0, 5830870040576.0, 5830870040576.0, 5830870040576.0, 5830870040576.0, 5830870040576.0, 5830870040576.0, 5830870040576.0, 5830870040576.0, 5830870040576.0, 5830870040576.0, 5830870040576.0, 5830870040576.0, 5830870040576.0, 5830870040576.0, 5830870040576.0, 5830870040576.0, 5830870040576.0, 5830870040576.0, 5830870040576.0, 5830870040576.0, 5830870040576.0, 5830870040576.0, 5830870040576.0, 5830870040576.0, 5830870040576.0, 5830870040576.0, 5830870040576.0, 5830870040576.0, 5830870040576.0, 5830870040576.0, 5830870040576.0, 5830870040576.0, 5830870040576.0, 5830870040576.0, 5830870040576.0, 5830870040576.0, 5830870040576.0, 5830870040576.0, 5830870040576.0, 5830870040576.0, 5830870040576.0, 5830870040576.0, 5830870040576.0, 5830870040576.0, 5830870040576.0, 5830870040576.0, 5830870040576.0, 5830870040576.0, 5830870040576.0, 5830870040576.0, 5830870040576.0, 5830870040576.0, 5830870040576.0, 5830870040576.0, 5830870040576.0, 5830870040576.0, 5830870040576.0, 5830870040576.0, 5830870040576.0, 5830870040576.0, 5830870040576.0, 5830870040576.0, 5830870040576.0, 5830870040576.0, 5830870040576.0, 5830870040576.0, 5830870040576.0, 5830870040576.0, 5830870040576.0, 5830870040576.0, 5830870040576.0, 5830870040576.0, 5830870040576.0, 5830870040576.0, 5830870040576.0, 5830870040576.0], [5830870040576.0, 5830870040576.0, 5830870040576.0, 5830870040576.0, 5830870040576.0, 5830870040576.0, 5830870040576.0, 5830870040576.0, 5830870040576.0, 5830870040576.0, 5830870040576.0, 5830870040576.0, 5830870040576.0, 5830870040576.0, 5830870040576.0, 5830870040576.0, 5830870040576.0, 5830870040576.0, 5830870040576.0, 5830870040576.0, 5830870040576.0, 5830870040576.0, 5830870040576.0, 5830870040576.0, 5830870040576.0, 5830870040576.0, 5830870040576.0, 5830870040576.0, 5830870040576.0, 5830870040576.0, 5830870040576.0, 5830870040576.0, 5830870040576.0, 5830870040576.0, 5830870040576.0, 5830870040576.0, 5830870040576.0, 5830870040576.0, 5830870040576.0, 5830870040576.0, 5830870040576.0, 5830870040576.0, 5830870040576.0, 5830870040576.0, 5830870040576.0, 5830870040576.0, 5830870040576.0, 5830870040576.0, 5830870040576.0, 5830870040576.0, 5830870040576.0, 5830870040576.0, 5830870040576.0, 5830870040576.0, 5830870040576.0, 5830870040576.0, 5830870040576.0, 5830870040576.0, 5830870040576.0, 5830870040576.0, 5830870040576.0, 5830870040576.0, 5830870040576.0, 5830870040576.0, 5830870040576.0, 5830870040576.0, 5830870040576.0, 5830870040576.0, 5830870040576.0, 5830870040576.0, 5830870040576.0, 5830870040576.0, 5830870040576.0, 5830870040576.0, 5830870040576.0, 5830870040576.0, 5830870040576.0, 5830870040576.0, 5830870040576.0, 5830870040576.0, 5830870040576.0, 5830870040576.0, 5830870040576.0, 5830870040576.0, 5830870040576.0, 5830870040576.0, 5830870040576.0, 5830870040576.0, 5830870040576.0, 5830870040576.0, 5830870040576.0, 5830870040576.0, 5830870040576.0, 5830870040576.0, 5830870040576.0, 5830870040576.0, 5830870040576.0, 5830870040576.0, 5830870040576.0, 5830870040576.0], [5830870040576.0, 5830870040576.0, 5830870040576.0, 5830870040576.0, 5830870040576.0, 5830870040576.0, 5830870040576.0, 5830870040576.0, 5830870040576.0, 5830870040576.0, 5830870040576.0, 5830870040576.0, 5830870040576.0, 5830870040576.0, 5830870040576.0, 5830870040576.0, 5830870040576.0, 5830870040576.0, 5830870040576.0, 5830870040576.0, 5830870040576.0, 5830870040576.0, 5830870040576.0, 5830870040576.0, 5830870040576.0, 5830870040576.0, 5830870040576.0, 5830870040576.0, 5830870040576.0, 5830870040576.0, 5830870040576.0, 5830870040576.0, 5830870040576.0, 5830870040576.0, 5830870040576.0, 5830870040576.0, 5830870040576.0, 5830870040576.0, 5830870040576.0, 5830870040576.0, 5830870040576.0, 5830870040576.0, 5830870040576.0, 5830870040576.0, 5830870040576.0, 5830870040576.0, 5830870040576.0, 5830870040576.0, 5830870040576.0, 5830870040576.0, 5830870040576.0, 5830870040576.0, 5830870040576.0, 5830870040576.0, 5830870040576.0, 5830870040576.0, 5830870040576.0, 5830870040576.0, 5830870040576.0, 5830870040576.0, 5830870040576.0, 5830870040576.0, 5830870040576.0, 5830870040576.0, 5830870040576.0, 5830870040576.0, 5830870040576.0, 5830870040576.0, 5830870040576.0, 5830870040576.0, 5830870040576.0, 5830870040576.0, 5830870040576.0, 5830870040576.0, 5830870040576.0, 5830870040576.0, 5830870040576.0, 5830870040576.0, 5830870040576.0, 5830870040576.0, 5830870040576.0, 5830870040576.0, 5830870040576.0, 5830870040576.0, 5830870040576.0, 5830870040576.0, 5830870040576.0, 5830870040576.0, 5830870040576.0, 5830870040576.0, 5830870040576.0, 5830870040576.0, 5830870040576.0, 5830870040576.0, 5830870040576.0, 5830870040576.0, 5830870040576.0, 5830870040576.0, 5830870040576.0, 5830870040576.0], [5830870040576.0, 5830870040576.0, 5830870040576.0, 5830870040576.0, 5830870040576.0, 5830870040576.0, 5830870040576.0, 5830870040576.0, 5830870040576.0, 5830870040576.0, 5830870040576.0, 5830870040576.0, 5830870040576.0, 5830870040576.0, 5830870040576.0, 5830870040576.0, 5830870040576.0, 5830870040576.0, 5830870040576.0, 5830870040576.0, 5830870040576.0, 5830870040576.0, 5830870040576.0, 5830870040576.0, 5830870040576.0, 5830870040576.0, 5830870040576.0, 5830870040576.0, 5830870040576.0, 5830870040576.0, 5830870040576.0, 5830870040576.0, 5830870040576.0, 5830870040576.0, 5830870040576.0, 5830870040576.0, 5830870040576.0, 5830870040576.0, 5830870040576.0, 5830870040576.0, 5830870040576.0, 5830870040576.0, 5830870040576.0, 5830870040576.0, 5830870040576.0, 5830870040576.0, 5830870040576.0, 5830870040576.0, 5830870040576.0, 5830870040576.0, 5830870040576.0, 5830870040576.0, 5830870040576.0, 5830870040576.0, 5830870040576.0, 5830870040576.0, 5830870040576.0, 5830870040576.0, 5830870040576.0, 5830870040576.0, 5830870040576.0, 5830870040576.0, 5830870040576.0, 5830870040576.0, 5830870040576.0, 5830870040576.0, 5830870040576.0, 5830870040576.0, 5830870040576.0, 5830870040576.0, 5830870040576.0, 5830870040576.0, 5830870040576.0, 5830870040576.0, 5830870040576.0, 5830870040576.0, 5830870040576.0, 5830870040576.0, 5830870040576.0, 5830870040576.0, 5830870040576.0, 5830870040576.0, 5830870040576.0, 5830870040576.0, 5830870040576.0, 5830870040576.0, 5830870040576.0, 5830870040576.0, 5830870040576.0, 5830870040576.0, 5830870040576.0, 5830870040576.0, 5830870040576.0, 5830870040576.0, 5830870040576.0, 5830870040576.0, 5830870040576.0, 5830870040576.0, 5830870040576.0, 5830870040576.0], [5830870040576.0, 5830870040576.0, 5830870040576.0, 5830870040576.0, 5830870040576.0, 5830870040576.0, 5830870040576.0, 5830870040576.0, 5830870040576.0, 5830870040576.0, 5830870040576.0, 5830870040576.0, 5830870040576.0, 5830870040576.0, 5830870040576.0, 5830870040576.0, 5830870040576.0, 5830870040576.0, 5830870040576.0, 5830870040576.0, 5830870040576.0, 5830870040576.0, 5830870040576.0, 5830870040576.0, 5830870040576.0, 5830870040576.0, 5830870040576.0, 5830870040576.0, 5830870040576.0, 5830870040576.0, 5830870040576.0, 5830870040576.0, 5830870040576.0, 5830870040576.0, 5830870040576.0, 5830870040576.0, 5830870040576.0, 5830870040576.0, 5830870040576.0, 5830870040576.0, 5830870040576.0, 5830870040576.0, 5830870040576.0, 5830870040576.0, 5830870040576.0, 5830870040576.0, 5830870040576.0, 5830870040576.0, 5830870040576.0, 5830870040576.0, 5830870040576.0, 5830870040576.0, 5830870040576.0, 5830870040576.0, 5830870040576.0, 5830870040576.0, 5830870040576.0, 5830870040576.0, 5830870040576.0, 5830870040576.0, 5830870040576.0, 5830870040576.0, 5830870040576.0, 5830870040576.0, 5830870040576.0, 5830870040576.0, 5830870040576.0, 5830870040576.0, 5830870040576.0, 5830870040576.0, 5830870040576.0, 5830870040576.0, 5830870040576.0, 5830870040576.0, 5830870040576.0, 5830870040576.0, 5830870040576.0, 5830870040576.0, 5830870040576.0, 5830870040576.0, 5830870040576.0, 5830870040576.0, 5830870040576.0, 5830870040576.0, 5830870040576.0, 5830870040576.0, 5830870040576.0, 5830870040576.0, 5830870040576.0, 5830870040576.0, 5830870040576.0, 5830870040576.0, 5830870040576.0, 5830870040576.0, 5830870040576.0, 5830870040576.0, 5830870040576.0, 5830870040576.0, 5830870040576.0, 5830870040576.0], [5830870040576.0, 5830870040576.0, 5830870040576.0, 5830870040576.0, 5830870040576.0, 5830870040576.0, 5830870040576.0, 5830870040576.0, 5830870040576.0, 5830870040576.0, 5830870040576.0, 5830870040576.0, 5830870040576.0, 5830870040576.0, 5830870040576.0, 5830870040576.0, 5830870040576.0, 5830870040576.0, 5830870040576.0, 5830870040576.0, 5830870040576.0, 5830870040576.0, 5830870040576.0, 5830870040576.0, 5830870040576.0, 5830870040576.0, 5830870040576.0, 5830870040576.0, 5830870040576.0, 5830870040576.0, 5830870040576.0, 5830870040576.0, 5830870040576.0, 5830870040576.0, 5830870040576.0, 5830870040576.0, 5830870040576.0, 5830870040576.0, 5830870040576.0, 5830870040576.0, 5830870040576.0, 5830870040576.0, 5830870040576.0, 5830870040576.0, 5830870040576.0, 5830870040576.0, 5830870040576.0, 5830870040576.0, 5830870040576.0, 5830870040576.0, 5830870040576.0, 5830870040576.0, 5830870040576.0, 5830870040576.0, 5830870040576.0, 5830870040576.0, 5830870040576.0, 5830870040576.0, 5830870040576.0, 5830870040576.0, 5830870040576.0, 5830870040576.0, 5830870040576.0, 5830870040576.0, 5830870040576.0, 5830870040576.0, 5830870040576.0, 5830870040576.0, 5830870040576.0, 5830870040576.0, 5830870040576.0, 5830870040576.0, 5830870040576.0, 5830870040576.0, 5830870040576.0, 5830870040576.0, 5830870040576.0, 5830870040576.0, 5830870040576.0, 5830870040576.0, 5830870040576.0, 5830870040576.0, 5830870040576.0, 5830870040576.0, 5830870040576.0, 5830870040576.0, 5830870040576.0, 5830870040576.0, 5830870040576.0, 5830870040576.0, 5830870040576.0, 5830870040576.0, 5830870040576.0, 5830870040576.0, 5830870040576.0, 5830870040576.0, 5830870040576.0, 5830870040576.0, 5830870040576.0, 5830870040576.0], [5830870040576.0, 5830870040576.0, 5830870040576.0, 5830870040576.0, 5830870040576.0, 5830870040576.0, 5830870040576.0, 5830870040576.0, 5830870040576.0, 5830870040576.0, 5830870040576.0, 5830870040576.0, 5830870040576.0, 5830870040576.0, 5830870040576.0, 5830870040576.0, 5830870040576.0, 5830870040576.0, 5830870040576.0, 5830870040576.0, 5830870040576.0, 5830870040576.0, 5830870040576.0, 5830870040576.0, 5830870040576.0, 5830870040576.0, 5830870040576.0, 5830870040576.0, 5830870040576.0, 5830870040576.0, 5830870040576.0, 5830870040576.0, 5830870040576.0, 5830870040576.0, 5830870040576.0, 5830870040576.0, 5830870040576.0, 5830870040576.0, 5830870040576.0, 5830870040576.0, 5830870040576.0, 5830870040576.0, 5830870040576.0, 5830870040576.0, 5830870040576.0, 5830870040576.0, 5830870040576.0, 5830870040576.0, 5830870040576.0, 5830870040576.0, 5830870040576.0, 5830870040576.0, 5830870040576.0, 5830870040576.0, 5830870040576.0, 5830870040576.0, 5830870040576.0, 5830870040576.0, 5830870040576.0, 5830870040576.0, 5830870040576.0, 5830870040576.0, 5830870040576.0, 5830870040576.0, 5830870040576.0, 5830870040576.0, 5830870040576.0, 5830870040576.0, 5830870040576.0, 5830870040576.0, 5830870040576.0, 5830870040576.0, 5830870040576.0, 5830870040576.0, 5830870040576.0, 5830870040576.0, 5830870040576.0, 5830870040576.0, 5830870040576.0, 5830870040576.0, 5830870040576.0, 5830870040576.0, 5830870040576.0, 5830870040576.0, 5830870040576.0, 5830870040576.0, 5830870040576.0, 5830870040576.0, 5830870040576.0, 5830870040576.0, 5830870040576.0, 5830870040576.0, 5830870040576.0, 5830870040576.0, 5830870040576.0, 5830870040576.0, 5830870040576.0, 5830870040576.0, 5830870040576.0, 5830870040576.0], [5830870040576.0, 5830870040576.0, 5830870040576.0, 5830870040576.0, 5830870040576.0, 5830870040576.0, 5830870040576.0, 5830870040576.0, 5830870040576.0, 5830870040576.0, 5830870040576.0, 5830870040576.0, 5830870040576.0, 5830870040576.0, 5830870040576.0, 5830870040576.0, 5830870040576.0, 5830870040576.0, 5830870040576.0, 5830870040576.0, 5830870040576.0, 5830870040576.0, 5830870040576.0, 5830870040576.0, 5830870040576.0, 5830870040576.0, 5830870040576.0, 5830870040576.0, 5830870040576.0, 5830870040576.0, 5830870040576.0, 5830870040576.0, 5830870040576.0, 5830870040576.0, 5830870040576.0, 5830870040576.0, 5830870040576.0, 5830870040576.0, 5830870040576.0, 5830870040576.0, 5830870040576.0, 5830870040576.0, 5830870040576.0, 5830870040576.0, 5830870040576.0, 5830870040576.0, 5830870040576.0, 5830870040576.0, 5830870040576.0, 5830870040576.0, 5830870040576.0, 5830870040576.0, 5830870040576.0, 5830870040576.0, 5830870040576.0, 5830870040576.0, 5830870040576.0, 5830870040576.0, 5830870040576.0, 5830870040576.0, 5830870040576.0, 5830870040576.0, 5830870040576.0, 5830870040576.0, 5830870040576.0, 5830870040576.0, 5830870040576.0, 5830870040576.0, 5830870040576.0, 5830870040576.0, 5830870040576.0, 5830870040576.0, 5830870040576.0, 5830870040576.0, 5830870040576.0, 5830870040576.0, 5830870040576.0, 5830870040576.0, 5830870040576.0, 5830870040576.0, 5830870040576.0, 5830870040576.0, 5830870040576.0, 5830870040576.0, 5830870040576.0, 5830870040576.0, 5830870040576.0, 5830870040576.0, 5830870040576.0, 5830870040576.0, 5830870040576.0, 5830870040576.0, 5830870040576.0, 5830870040576.0, 5830870040576.0, 5830870040576.0, 5830870040576.0, 5830870040576.0, 5830870040576.0, 5830870040576.0], [5830870040576.0, 5830870040576.0, 5830870040576.0, 5830870040576.0, 5830870040576.0, 5830870040576.0, 5830870040576.0, 5830870040576.0, 5830870040576.0, 5830870040576.0, 5830870040576.0, 5830870040576.0, 5830870040576.0, 5830870040576.0, 5830870040576.0, 5830870040576.0, 5830870040576.0, 5830870040576.0, 5830870040576.0, 5830870040576.0, 5830870040576.0, 5830870040576.0, 5830870040576.0, 5830870040576.0, 5830870040576.0, 5830870040576.0, 5830870040576.0, 5830870040576.0, 5830870040576.0, 5830870040576.0, 5830870040576.0, 5830870040576.0, 5830870040576.0, 5830870040576.0, 5830870040576.0, 5830870040576.0, 5830870040576.0, 5830870040576.0, 5830870040576.0, 5830870040576.0, 5830870040576.0, 5830870040576.0, 5830870040576.0, 5830870040576.0, 5830870040576.0, 5830870040576.0, 5830870040576.0, 5830870040576.0, 5830870040576.0, 5830870040576.0, 5830870040576.0, 5830870040576.0, 5830870040576.0, 5830870040576.0, 5830870040576.0, 5830870040576.0, 5830870040576.0, 5830870040576.0, 5830870040576.0, 5830870040576.0, 5830870040576.0, 5830870040576.0, 5830870040576.0, 5830870040576.0, 5830870040576.0, 5830870040576.0, 5830870040576.0, 5830870040576.0, 5830870040576.0, 5830870040576.0, 5830870040576.0, 5830870040576.0, 5830870040576.0, 5830870040576.0, 5830870040576.0, 5830870040576.0, 5830870040576.0, 5830870040576.0, 5830870040576.0, 5830870040576.0, 5830870040576.0, 5830870040576.0, 5830870040576.0, 5830870040576.0, 5830870040576.0, 5830870040576.0, 5830870040576.0, 5830870040576.0, 5830870040576.0, 5830870040576.0, 5830870040576.0, 5830870040576.0, 5830870040576.0, 5830870040576.0, 5830870040576.0, 5830870040576.0, 5830870040576.0, 5830870040576.0, 5830870040576.0, 5830870040576.0], [5830870040576.0, 5830870040576.0, 5830870040576.0, 5830870040576.0, 5830870040576.0, 5830870040576.0, 5830870040576.0, 5830870040576.0, 5830870040576.0, 5830870040576.0, 5830870040576.0, 5830870040576.0, 5830870040576.0, 5830870040576.0, 5830870040576.0, 5830870040576.0, 5830870040576.0, 5830870040576.0, 5830870040576.0, 5830870040576.0, 5830870040576.0, 5830870040576.0, 5830870040576.0, 5830870040576.0, 5830870040576.0, 5830870040576.0, 5830870040576.0, 5830870040576.0, 5830870040576.0, 5830870040576.0, 5830870040576.0, 5830870040576.0, 5830870040576.0, 5830870040576.0, 5830870040576.0, 5830870040576.0, 5830870040576.0, 5830870040576.0, 5830870040576.0, 5830870040576.0, 5830870040576.0, 5830870040576.0, 5830870040576.0, 5830870040576.0, 5830870040576.0, 5830870040576.0, 5830870040576.0, 5830870040576.0, 5830870040576.0, 5830870040576.0, 5830870040576.0, 5830870040576.0, 5830870040576.0, 5830870040576.0, 5830870040576.0, 5830870040576.0, 5830870040576.0, 5830870040576.0, 5830870040576.0, 5830870040576.0, 5830870040576.0, 5830870040576.0, 5830870040576.0, 5830870040576.0, 5830870040576.0, 5830870040576.0, 5830870040576.0, 5830870040576.0, 5830870040576.0, 5830870040576.0, 5830870040576.0, 5830870040576.0, 5830870040576.0, 5830870040576.0, 5830870040576.0, 5830870040576.0, 5830870040576.0, 5830870040576.0, 5830870040576.0, 5830870040576.0, 5830870040576.0, 5830870040576.0, 5830870040576.0, 5830870040576.0, 5830870040576.0, 5830870040576.0, 5830870040576.0, 5830870040576.0, 5830870040576.0, 5830870040576.0, 5830870040576.0, 5830870040576.0, 5830870040576.0, 5830870040576.0, 5830870040576.0, 5830870040576.0, 5830870040576.0, 5830870040576.0, 5830870040576.0, 5830870040576.0], [5830870040576.0, 5830870040576.0, 5830870040576.0, 5830870040576.0, 5830870040576.0, 5830870040576.0, 5830870040576.0, 5830870040576.0, 5830870040576.0, 5830870040576.0, 5830870040576.0, 5830870040576.0, 5830870040576.0, 5830870040576.0, 5830870040576.0, 5830870040576.0, 5830870040576.0, 5830870040576.0, 5830870040576.0, 5830870040576.0, 5830870040576.0, 5830870040576.0, 5830870040576.0, 5830870040576.0, 5830870040576.0, 5830870040576.0, 5830870040576.0, 5830870040576.0, 5830870040576.0, 5830870040576.0, 5830870040576.0, 5830870040576.0, 5830870040576.0, 5830870040576.0, 5830870040576.0, 5830870040576.0, 5830870040576.0, 5830870040576.0, 5830870040576.0, 5830870040576.0, 5830870040576.0, 5830870040576.0, 5830870040576.0, 5830870040576.0, 5830870040576.0, 5830870040576.0, 5830870040576.0, 5830870040576.0, 5830870040576.0, 5830870040576.0, 5830870040576.0, 5830870040576.0, 5830870040576.0, 5830870040576.0, 5830870040576.0, 5830870040576.0, 5830870040576.0, 5830870040576.0, 5830870040576.0, 5830870040576.0, 5830870040576.0, 5830870040576.0, 5830870040576.0, 5830870040576.0, 5830870040576.0, 5830870040576.0, 5830870040576.0, 5830870040576.0, 5830870040576.0, 5830870040576.0, 5830870040576.0, 5830870040576.0, 5830870040576.0, 5830870040576.0, 5830870040576.0, 5830870040576.0, 5830870040576.0, 5830870040576.0, 5830870040576.0, 5830870040576.0, 5830870040576.0, 5830870040576.0, 5830870040576.0, 5830870040576.0, 5830870040576.0, 5830870040576.0, 5830870040576.0, 5830870040576.0, 5830870040576.0, 5830870040576.0, 5830870040576.0, 5830870040576.0, 5830870040576.0, 5830870040576.0, 5830870040576.0, 5830870040576.0, 5830870040576.0, 5830870040576.0, 5830870040576.0, 5830870040576.0], [5830870040576.0, 5830870040576.0, 5830870040576.0, 5830870040576.0, 5830870040576.0, 5830870040576.0, 5830870040576.0, 5830870040576.0, 5830870040576.0, 5830870040576.0, 5830870040576.0, 5830870040576.0, 5830870040576.0, 5830870040576.0, 5830870040576.0, 5830870040576.0, 5830870040576.0, 5830870040576.0, 5830870040576.0, 5830870040576.0, 5830870040576.0, 5830870040576.0, 5830870040576.0, 5830870040576.0, 5830870040576.0, 5830870040576.0, 5830870040576.0, 5830870040576.0, 5830870040576.0, 5830870040576.0, 5830870040576.0, 5830870040576.0, 5830870040576.0, 5830870040576.0, 5830870040576.0, 5830870040576.0, 5830870040576.0, 5830870040576.0, 5830870040576.0, 5830870040576.0, 5830870040576.0, 5830870040576.0, 5830870040576.0, 5830870040576.0, 5830870040576.0, 5830870040576.0, 5830870040576.0, 5830870040576.0, 5830870040576.0, 5830870040576.0, 5830870040576.0, 5830870040576.0, 5830870040576.0, 5830870040576.0, 5830870040576.0, 5830870040576.0, 5830870040576.0, 5830870040576.0, 5830870040576.0, 5830870040576.0, 5830870040576.0, 5830870040576.0, 5830870040576.0, 5830870040576.0, 5830870040576.0, 5830870040576.0, 5830870040576.0, 5830870040576.0, 5830870040576.0, 5830870040576.0, 5830870040576.0, 5830870040576.0, 5830870040576.0, 5830870040576.0, 5830870040576.0, 5830870040576.0, 5830870040576.0, 5830870040576.0, 5830870040576.0, 5830870040576.0, 5830870040576.0, 5830870040576.0, 5830870040576.0, 5830870040576.0, 5830870040576.0, 5830870040576.0, 5830870040576.0, 5830870040576.0, 5830870040576.0, 5830870040576.0, 5830870040576.0, 5830870040576.0, 5830870040576.0, 5830870040576.0, 5830870040576.0, 5830870040576.0, 5830870040576.0, 5830870040576.0, 5830870040576.0, 5830870040576.0], [5830870040576.0, 5830870040576.0, 5830870040576.0, 5830870040576.0, 5830870040576.0, 5830870040576.0, 5830870040576.0, 5830870040576.0, 5830870040576.0, 5830870040576.0, 5830870040576.0, 5830870040576.0, 5830870040576.0, 5830870040576.0, 5830870040576.0, 5830870040576.0, 5830870040576.0, 5830870040576.0, 5830870040576.0, 5830870040576.0, 5830870040576.0, 5830870040576.0, 5830870040576.0, 5830870040576.0, 5830870040576.0, 5830870040576.0, 5830870040576.0, 5830870040576.0, 5830870040576.0, 5830870040576.0, 5830870040576.0, 5830870040576.0, 5830870040576.0, 5830870040576.0, 5830870040576.0, 5830870040576.0, 5830870040576.0, 5830870040576.0, 5830870040576.0, 5830870040576.0, 5830870040576.0, 5830870040576.0, 5830870040576.0, 5830870040576.0, 5830870040576.0, 5830870040576.0, 5830870040576.0, 5830870040576.0, 5830870040576.0, 5830870040576.0, 5830870040576.0, 5830870040576.0, 5830870040576.0, 5830870040576.0, 5830870040576.0, 5830870040576.0, 5830870040576.0, 5830870040576.0, 5830870040576.0, 5830870040576.0, 5830870040576.0, 5830870040576.0, 5830870040576.0, 5830870040576.0, 5830870040576.0, 5830870040576.0, 5830870040576.0, 5830870040576.0, 5830870040576.0, 5830870040576.0, 5830870040576.0, 5830870040576.0, 5830870040576.0, 5830870040576.0, 5830870040576.0, 5830870040576.0, 5830870040576.0, 5830870040576.0, 5830870040576.0, 5830870040576.0, 5830870040576.0, 5830870040576.0, 5830870040576.0, 5830870040576.0, 5830870040576.0, 5830870040576.0, 5830870040576.0, 5830870040576.0, 5830870040576.0, 5830870040576.0, 5830870040576.0, 5830870040576.0, 5830870040576.0, 5830870040576.0, 5830870040576.0, 5830870040576.0, 5830870040576.0, 5830870040576.0, 5830870040576.0, 5830870040576.0], [5830870040576.0, 5830870040576.0, 5830870040576.0, 5830870040576.0, 5830870040576.0, 5830870040576.0, 5830870040576.0, 5830870040576.0, 5830870040576.0, 5830870040576.0, 5830870040576.0, 5830870040576.0, 5830870040576.0, 5830870040576.0, 5830870040576.0, 5830870040576.0, 5830870040576.0, 5830870040576.0, 5830870040576.0, 5830870040576.0, 5830870040576.0, 5830870040576.0, 5830870040576.0, 5830870040576.0, 5830870040576.0, 5830870040576.0, 5830870040576.0, 5830870040576.0, 5830870040576.0, 5830870040576.0, 5830870040576.0, 5830870040576.0, 5830870040576.0, 5830870040576.0, 5830870040576.0, 5830870040576.0, 5830870040576.0, 5830870040576.0, 5830870040576.0, 5830870040576.0, 5830870040576.0, 5830870040576.0, 5830870040576.0, 5830870040576.0, 5830870040576.0, 5830870040576.0, 5830870040576.0, 5830870040576.0, 5830870040576.0, 5830870040576.0, 5830870040576.0, 5830870040576.0, 5830870040576.0, 5830870040576.0, 5830870040576.0, 5830870040576.0, 5830870040576.0, 5830870040576.0, 5830870040576.0, 5830870040576.0, 5830870040576.0, 5830870040576.0, 5830870040576.0, 5830870040576.0, 5830870040576.0, 5830870040576.0, 5830870040576.0, 5830870040576.0, 5830870040576.0, 5830870040576.0, 5830870040576.0, 5830870040576.0, 5830870040576.0, 5830870040576.0, 5830870040576.0, 5830870040576.0, 5830870040576.0, 5830870040576.0, 5830870040576.0, 5830870040576.0, 5830870040576.0, 5830870040576.0, 5830870040576.0, 5830870040576.0, 5830870040576.0, 5830870040576.0, 5830870040576.0, 5830870040576.0, 5830870040576.0, 5830870040576.0, 5830870040576.0, 5830870040576.0, 5830870040576.0, 5830870040576.0, 5830870040576.0, 5830870040576.0, 5830870040576.0, 5830870040576.0, 5830870040576.0, 5830870040576.0], [5830870040576.0, 5830870040576.0, 5830870040576.0, 5830870040576.0, 5830870040576.0, 5830870040576.0, 5830870040576.0, 5830870040576.0, 5830870040576.0, 5830870040576.0, 5830870040576.0, 5830870040576.0, 5830870040576.0, 5830870040576.0, 5830870040576.0, 5830870040576.0, 5830870040576.0, 5830870040576.0, 5830870040576.0, 5830870040576.0, 5830870040576.0, 5830870040576.0, 5830870040576.0, 5830870040576.0, 5830870040576.0, 5830870040576.0, 5830870040576.0, 5830870040576.0, 5830870040576.0, 5830870040576.0, 5830870040576.0, 5830870040576.0, 5830870040576.0, 5830870040576.0, 5830870040576.0, 5830870040576.0, 5830870040576.0, 5830870040576.0, 5830870040576.0, 5830870040576.0, 5830870040576.0, 5830870040576.0, 5830870040576.0, 5830870040576.0, 5830870040576.0, 5830870040576.0, 5830870040576.0, 5830870040576.0, 5830870040576.0, 5830870040576.0, 5830870040576.0, 5830870040576.0, 5830870040576.0, 5830870040576.0, 5830870040576.0, 5830870040576.0, 5830870040576.0, 5830870040576.0, 5830870040576.0, 5830870040576.0, 5830870040576.0, 5830870040576.0, 5830870040576.0, 5830870040576.0, 5830870040576.0, 5830870040576.0, 5830870040576.0, 5830870040576.0, 5830870040576.0, 5830870040576.0, 5830870040576.0, 5830870040576.0, 5830870040576.0, 5830870040576.0, 5830870040576.0, 5830870040576.0, 5830870040576.0, 5830870040576.0, 5830870040576.0, 5830870040576.0, 5830870040576.0, 5830870040576.0, 5830870040576.0, 5830870040576.0, 5830870040576.0, 5830870040576.0, 5830870040576.0, 5830870040576.0, 5830870040576.0, 5830870040576.0, 5830870040576.0, 5830870040576.0, 5830870040576.0, 5830870040576.0, 5830870040576.0, 5830870040576.0, 5830870040576.0, 5830870040576.0, 5830870040576.0, 5830870040576.0], [5830870040576.0, 5830870040576.0, 5830870040576.0, 5830870040576.0, 5830870040576.0, 5830870040576.0, 5830870040576.0, 5830870040576.0, 5830870040576.0, 5830870040576.0, 5830870040576.0, 5830870040576.0, 5830870040576.0, 5830870040576.0, 5830870040576.0, 5830870040576.0, 5830870040576.0, 5830870040576.0, 5830870040576.0, 5830870040576.0, 5830870040576.0, 5830870040576.0, 5830870040576.0, 5830870040576.0, 5830870040576.0, 5830870040576.0, 5830870040576.0, 5830870040576.0, 5830870040576.0, 5830870040576.0, 5830870040576.0, 5830870040576.0, 5830870040576.0, 5830870040576.0, 5830870040576.0, 5830870040576.0, 5830870040576.0, 5830870040576.0, 5830870040576.0, 5830870040576.0, 5830870040576.0, 5830870040576.0, 5830870040576.0, 5830870040576.0, 5830870040576.0, 5830870040576.0, 5830870040576.0, 5830870040576.0, 5830870040576.0, 5830870040576.0, 5830870040576.0, 5830870040576.0, 5830870040576.0, 5830870040576.0, 5830870040576.0, 5830870040576.0, 5830870040576.0, 5830870040576.0, 5830870040576.0, 5830870040576.0, 5830870040576.0, 5830870040576.0, 5830870040576.0, 5830870040576.0, 5830870040576.0, 5830870040576.0, 5830870040576.0, 5830870040576.0, 5830870040576.0, 5830870040576.0, 5830870040576.0, 5830870040576.0, 5830870040576.0, 5830870040576.0, 5830870040576.0, 5830870040576.0, 5830870040576.0, 5830870040576.0, 5830870040576.0, 5830870040576.0, 5830870040576.0, 5830870040576.0, 5830870040576.0, 5830870040576.0, 5830870040576.0, 5830870040576.0, 5830870040576.0, 5830870040576.0, 5830870040576.0, 5830870040576.0, 5830870040576.0, 5830870040576.0, 5830870040576.0, 5830870040576.0, 5830870040576.0, 5830870040576.0, 5830870040576.0, 5830870040576.0, 5830870040576.0, 5830870040576.0], [5830870040576.0, 5830870040576.0, 5830870040576.0, 5830870040576.0, 5830870040576.0, 5830870040576.0, 5830870040576.0, 5830870040576.0, 5830870040576.0, 5830870040576.0, 5830870040576.0, 5830870040576.0, 5830870040576.0, 5830870040576.0, 5830870040576.0, 5830870040576.0, 5830870040576.0, 5830870040576.0, 5830870040576.0, 5830870040576.0, 5830870040576.0, 5830870040576.0, 5830870040576.0, 5830870040576.0, 5830870040576.0, 5830870040576.0, 5830870040576.0, 5830870040576.0, 5830870040576.0, 5830870040576.0, 5830870040576.0, 5830870040576.0, 5830870040576.0, 5830870040576.0, 5830870040576.0, 5830870040576.0, 5830870040576.0, 5830870040576.0, 5830870040576.0, 5830870040576.0, 5830870040576.0, 5830870040576.0, 5830870040576.0, 5830870040576.0, 5830870040576.0, 5830870040576.0, 5830870040576.0, 5830870040576.0, 5830870040576.0, 5830870040576.0, 5830870040576.0, 5830870040576.0, 5830870040576.0, 5830870040576.0, 5830870040576.0, 5830870040576.0, 5830870040576.0, 5830870040576.0, 5830870040576.0, 5830870040576.0, 5830870040576.0, 5830870040576.0, 5830870040576.0, 5830870040576.0, 5830870040576.0, 5830870040576.0, 5830870040576.0, 5830870040576.0, 5830870040576.0, 5830870040576.0, 5830870040576.0, 5830870040576.0, 5830870040576.0, 5830870040576.0, 5830870040576.0, 5830870040576.0, 5830870040576.0, 5830870040576.0, 5830870040576.0, 5830870040576.0, 5830870040576.0, 5830870040576.0, 5830870040576.0, 5830870040576.0, 5830870040576.0, 5830870040576.0, 5830870040576.0, 5830870040576.0, 5830870040576.0, 5830870040576.0, 5830870040576.0, 5830870040576.0, 5830870040576.0, 5830870040576.0, 5830870040576.0, 5830870040576.0, 5830870040576.0, 5830870040576.0, 5830870040576.0, 5830870040576.0], [5830870040576.0, 5830870040576.0, 5830870040576.0, 5830870040576.0, 5830870040576.0, 5830870040576.0, 5830870040576.0, 5830870040576.0, 5830870040576.0, 5830870040576.0, 5830870040576.0, 5830870040576.0, 5830870040576.0, 5830870040576.0, 5830870040576.0, 5830870040576.0, 5830870040576.0, 5830870040576.0, 5830870040576.0, 5830870040576.0, 5830870040576.0, 5830870040576.0, 5830870040576.0, 5830870040576.0, 5830870040576.0, 5830870040576.0, 5830870040576.0, 5830870040576.0, 5830870040576.0, 5830870040576.0, 5830870040576.0, 5830870040576.0, 5830870040576.0, 5830870040576.0, 5830870040576.0, 5830870040576.0, 5830870040576.0, 5830870040576.0, 5830870040576.0, 5830870040576.0, 5830870040576.0, 5830870040576.0, 5830870040576.0, 5830870040576.0, 5830870040576.0, 5830870040576.0, 5830870040576.0, 5830870040576.0, 5830870040576.0, 5830870040576.0, 5830870040576.0, 5830870040576.0, 5830870040576.0, 5830870040576.0, 5830870040576.0, 5830870040576.0, 5830870040576.0, 5830870040576.0, 5830870040576.0, 5830870040576.0, 5830870040576.0, 5830870040576.0, 5830870040576.0, 5830870040576.0, 5830870040576.0, 5830870040576.0, 5830870040576.0, 5830870040576.0, 5830870040576.0, 5830870040576.0, 5830870040576.0, 5830870040576.0, 5830870040576.0, 5830870040576.0, 5830870040576.0, 5830870040576.0, 5830870040576.0, 5830870040576.0, 5830870040576.0, 5830870040576.0, 5830870040576.0, 5830870040576.0, 5830870040576.0, 5830870040576.0, 5830870040576.0, 5830870040576.0, 5830870040576.0, 5830870040576.0, 5830870040576.0, 5830870040576.0, 5830870040576.0, 5830870040576.0, 5830870040576.0, 5830870040576.0, 5830870040576.0, 5830870040576.0, 5830870040576.0, 5830870040576.0, 5830870040576.0, 5830870040576.0], [5830870040576.0, 5830870040576.0, 5830870040576.0, 5830870040576.0, 5830870040576.0, 5830870040576.0, 5830870040576.0, 5830870040576.0, 5830870040576.0, 5830870040576.0, 5830870040576.0, 5830870040576.0, 5830870040576.0, 5830870040576.0, 5830870040576.0, 5830870040576.0, 5830870040576.0, 5830870040576.0, 5830870040576.0, 5830870040576.0, 5830870040576.0, 5830870040576.0, 5830870040576.0, 5830870040576.0, 5830870040576.0, 5830870040576.0, 5830870040576.0, 5830870040576.0, 5830870040576.0, 5830870040576.0, 5830870040576.0, 5830870040576.0, 5830870040576.0, 5830870040576.0, 5830870040576.0, 5830870040576.0, 5830870040576.0, 5830870040576.0, 5830870040576.0, 5830870040576.0, 5830870040576.0, 5830870040576.0, 5830870040576.0, 5830870040576.0, 5830870040576.0, 5830870040576.0, 5830870040576.0, 5830870040576.0, 5830870040576.0, 5830870040576.0, 5830870040576.0, 5830870040576.0, 5830870040576.0, 5830870040576.0, 5830870040576.0, 5830870040576.0, 5830870040576.0, 5830870040576.0, 5830870040576.0, 5830870040576.0, 5830870040576.0, 5830870040576.0, 5830870040576.0, 5830870040576.0, 5830870040576.0, 5830870040576.0, 5830870040576.0, 5830870040576.0, 5830870040576.0, 5830870040576.0, 5830870040576.0, 5830870040576.0, 5830870040576.0, 5830870040576.0, 5830870040576.0, 5830870040576.0, 5830870040576.0, 5830870040576.0, 5830870040576.0, 5830870040576.0, 5830870040576.0, 5830870040576.0, 5830870040576.0, 5830870040576.0, 5830870040576.0, 5830870040576.0, 5830870040576.0, 5830870040576.0, 5830870040576.0, 5830870040576.0, 5830870040576.0, 5830870040576.0, 5830870040576.0, 5830870040576.0, 5830870040576.0, 5830870040576.0, 5830870040576.0, 5830870040576.0, 5830870040576.0, 5830870040576.0], [5830870040576.0, 5830870040576.0, 5830870040576.0, 5830870040576.0, 5830870040576.0, 5830870040576.0, 5830870040576.0, 5830870040576.0, 5830870040576.0, 5830870040576.0, 5830870040576.0, 5830870040576.0, 5830870040576.0, 5830870040576.0, 5830870040576.0, 5830870040576.0, 5830870040576.0, 5830870040576.0, 5830870040576.0, 5830870040576.0, 5830870040576.0, 5830870040576.0, 5830870040576.0, 5830870040576.0, 5830870040576.0, 5830870040576.0, 5830870040576.0, 5830870040576.0, 5830870040576.0, 5830870040576.0, 5830870040576.0, 5830870040576.0, 5830870040576.0, 5830870040576.0, 5830870040576.0, 5830870040576.0, 5830870040576.0, 5830870040576.0, 5830870040576.0, 5830870040576.0, 5830870040576.0, 5830870040576.0, 5830870040576.0, 5830870040576.0, 5830870040576.0, 5830870040576.0, 5830870040576.0, 5830870040576.0, 5830870040576.0, 5830870040576.0, 5830870040576.0, 5830870040576.0, 5830870040576.0, 5830870040576.0, 5830870040576.0, 5830870040576.0, 5830870040576.0, 5830870040576.0, 5830870040576.0, 5830870040576.0, 5830870040576.0, 5830870040576.0, 5830870040576.0, 5830870040576.0, 5830870040576.0, 5830870040576.0, 5830870040576.0, 5830870040576.0, 5830870040576.0, 5830870040576.0, 5830870040576.0, 5830870040576.0, 5830870040576.0, 5830870040576.0, 5830870040576.0, 5830870040576.0, 5830870040576.0, 5830870040576.0, 5830870040576.0, 5830870040576.0, 5830870040576.0, 5830870040576.0, 5830870040576.0, 5830870040576.0, 5830870040576.0, 5830870040576.0, 5830870040576.0, 5830870040576.0, 5830870040576.0, 5830870040576.0, 5830870040576.0, 5830870040576.0, 5830870040576.0, 5830870040576.0, 5830870040576.0, 5830870040576.0, 5830870040576.0, 5830870040576.0, 5830870040576.0, 5830870040576.0], [5830870040576.0, 5830870040576.0, 5830870040576.0, 5830870040576.0, 5830870040576.0, 5830870040576.0, 5830870040576.0, 5830870040576.0, 5830870040576.0, 5830870040576.0, 5830870040576.0, 5830870040576.0, 5830870040576.0, 5830870040576.0, 5830870040576.0, 5830870040576.0, 5830870040576.0, 5830870040576.0, 5830870040576.0, 5830870040576.0, 5830870040576.0, 5830870040576.0, 5830870040576.0, 5830870040576.0, 5830870040576.0, 5830870040576.0, 5830870040576.0, 5830870040576.0, 5830870040576.0, 5830870040576.0, 5830870040576.0, 5830870040576.0, 5830870040576.0, 5830870040576.0, 5830870040576.0, 5830870040576.0, 5830870040576.0, 5830870040576.0, 5830870040576.0, 5830870040576.0, 5830870040576.0, 5830870040576.0, 5830870040576.0, 5830870040576.0, 5830870040576.0, 5830870040576.0, 5830870040576.0, 5830870040576.0, 5830870040576.0, 5830870040576.0, 5830870040576.0, 5830870040576.0, 5830870040576.0, 5830870040576.0, 5830870040576.0, 5830870040576.0, 5830870040576.0, 5830870040576.0, 5830870040576.0, 5830870040576.0, 5830870040576.0, 5830870040576.0, 5830870040576.0, 5830870040576.0, 5830870040576.0, 5830870040576.0, 5830870040576.0, 5830870040576.0, 5830870040576.0, 5830870040576.0, 5830870040576.0, 5830870040576.0, 5830870040576.0, 5830870040576.0, 5830870040576.0, 5830870040576.0, 5830870040576.0, 5830870040576.0, 5830870040576.0, 5830870040576.0, 5830870040576.0, 5830870040576.0, 5830870040576.0, 5830870040576.0, 5830870040576.0, 5830870040576.0, 5830870040576.0, 5830870040576.0, 5830870040576.0, 5830870040576.0, 5830870040576.0, 5830870040576.0, 5830870040576.0, 5830870040576.0, 5830870040576.0, 5830870040576.0, 5830870040576.0, 5830870040576.0, 5830870040576.0, 5830870040576.0], [5830870040576.0, 5830870040576.0, 5830870040576.0, 5830870040576.0, 5830870040576.0, 5830870040576.0, 5830870040576.0, 5830870040576.0, 5830870040576.0, 5830870040576.0, 5830870040576.0, 5830870040576.0, 5830870040576.0, 5830870040576.0, 5830870040576.0, 5830870040576.0, 5830870040576.0, 5830870040576.0, 5830870040576.0, 5830870040576.0, 5830870040576.0, 5830870040576.0, 5830870040576.0, 5830870040576.0, 5830870040576.0, 5830870040576.0, 5830870040576.0, 5830870040576.0, 5830870040576.0, 5830870040576.0, 5830870040576.0, 5830870040576.0, 5830870040576.0, 5830870040576.0, 5830870040576.0, 5830870040576.0, 5830870040576.0, 5830870040576.0, 5830870040576.0, 5830870040576.0, 5830870040576.0, 5830870040576.0, 5830870040576.0, 5830870040576.0, 5830870040576.0, 5830870040576.0, 5830870040576.0, 5830870040576.0, 5830870040576.0, 5830870040576.0, 5830870040576.0, 5830870040576.0, 5830870040576.0, 5830870040576.0, 5830870040576.0, 5830870040576.0, 5830870040576.0, 5830870040576.0, 5830870040576.0, 5830870040576.0, 5830870040576.0, 5830870040576.0, 5830870040576.0, 5830870040576.0, 5830870040576.0, 5830870040576.0, 5830870040576.0, 5830870040576.0, 5830870040576.0, 5830870040576.0, 5830870040576.0, 5830870040576.0, 5830870040576.0, 5830870040576.0, 5830870040576.0, 5830870040576.0, 5830870040576.0, 5830870040576.0, 5830870040576.0, 5830870040576.0, 5830870040576.0, 5830870040576.0, 5830870040576.0, 5830870040576.0, 5830870040576.0, 5830870040576.0, 5830870040576.0, 5830870040576.0, 5830870040576.0, 5830870040576.0, 5830870040576.0, 5830870040576.0, 5830870040576.0, 5830870040576.0, 5830870040576.0, 5830870040576.0, 5830870040576.0, 5830870040576.0, 5830870040576.0, 5830870040576.0], [5830870040576.0, 5830870040576.0, 5830870040576.0, 5830870040576.0, 5830870040576.0, 5830870040576.0, 5830870040576.0, 5830870040576.0, 5830870040576.0, 5830870040576.0, 5830870040576.0, 5830870040576.0, 5830870040576.0, 5830870040576.0, 5830870040576.0, 5830870040576.0, 5830870040576.0, 5830870040576.0, 5830870040576.0, 5830870040576.0, 5830870040576.0, 5830870040576.0, 5830870040576.0, 5830870040576.0, 5830870040576.0, 5830870040576.0, 5830870040576.0, 5830870040576.0, 5830870040576.0, 5830870040576.0, 5830870040576.0, 5830870040576.0, 5830870040576.0, 5830870040576.0, 5830870040576.0, 5830870040576.0, 5830870040576.0, 5830870040576.0, 5830870040576.0, 5830870040576.0, 5830870040576.0, 5830870040576.0, 5830870040576.0, 5830870040576.0, 5830870040576.0, 5830870040576.0, 5830870040576.0, 5830870040576.0, 5830870040576.0, 5830870040576.0, 5830870040576.0, 5830870040576.0, 5830870040576.0, 5830870040576.0, 5830870040576.0, 5830870040576.0, 5830870040576.0, 5830870040576.0, 5830870040576.0, 5830870040576.0, 5830870040576.0, 5830870040576.0, 5830870040576.0, 5830870040576.0, 5830870040576.0, 5830870040576.0, 5830870040576.0, 5830870040576.0, 5830870040576.0, 5830870040576.0, 5830870040576.0, 5830870040576.0, 5830870040576.0, 5830870040576.0, 5830870040576.0, 5830870040576.0, 5830870040576.0, 5830870040576.0, 5830870040576.0, 5830870040576.0, 5830870040576.0, 5830870040576.0, 5830870040576.0, 5830870040576.0, 5830870040576.0, 5830870040576.0, 5830870040576.0, 5830870040576.0, 5830870040576.0, 5830870040576.0, 5830870040576.0, 5830870040576.0, 5830870040576.0, 5830870040576.0, 5830870040576.0, 5830870040576.0, 5830870040576.0, 5830870040576.0, 5830870040576.0, 5830870040576.0], [5830870040576.0, 5830870040576.0, 5830870040576.0, 5830870040576.0, 5830870040576.0, 5830870040576.0, 5830870040576.0, 5830870040576.0, 5830870040576.0, 5830870040576.0, 5830870040576.0, 5830870040576.0, 5830870040576.0, 5830870040576.0, 5830870040576.0, 5830870040576.0, 5830870040576.0, 5830870040576.0, 5830870040576.0, 5830870040576.0, 5830870040576.0, 5830870040576.0, 5830870040576.0, 5830870040576.0, 5830870040576.0, 5830870040576.0, 5830870040576.0, 5830870040576.0, 5830870040576.0, 5830870040576.0, 5830870040576.0, 5830870040576.0, 5830870040576.0, 5830870040576.0, 5830870040576.0, 5830870040576.0, 5830870040576.0, 5830870040576.0, 5830870040576.0, 5830870040576.0, 5830870040576.0, 5830870040576.0, 5830870040576.0, 5830870040576.0, 5830870040576.0, 5830870040576.0, 5830870040576.0, 5830870040576.0, 5830870040576.0, 5830870040576.0, 5830870040576.0, 5830870040576.0, 5830870040576.0, 5830870040576.0, 5830870040576.0, 5830870040576.0, 5830870040576.0, 5830870040576.0, 5830870040576.0, 5830870040576.0, 5830870040576.0, 5830870040576.0, 5830870040576.0, 5830870040576.0, 5830870040576.0, 5830870040576.0, 5830870040576.0, 5830870040576.0, 5830870040576.0, 5830870040576.0, 5830870040576.0, 5830870040576.0, 5830870040576.0, 5830870040576.0, 5830870040576.0, 5830870040576.0, 5830870040576.0, 5830870040576.0, 5830870040576.0, 5830870040576.0, 5830870040576.0, 5830870040576.0, 5830870040576.0, 5830870040576.0, 5830870040576.0, 5830870040576.0, 5830870040576.0, 5830870040576.0, 5830870040576.0, 5830870040576.0, 5830870040576.0, 5830870040576.0, 5830870040576.0, 5830870040576.0, 5830870040576.0, 5830870040576.0, 5830870040576.0, 5830870040576.0, 5830870040576.0, 5830870040576.0], [5830870040576.0, 5830870040576.0, 5830870040576.0, 5830870040576.0, 5830870040576.0, 5830870040576.0, 5830870040576.0, 5830870040576.0, 5830870040576.0, 5830870040576.0, 5830870040576.0, 5830870040576.0, 5830870040576.0, 5830870040576.0, 5830870040576.0, 5830870040576.0, 5830870040576.0, 5830870040576.0, 5830870040576.0, 5830870040576.0, 5830870040576.0, 5830870040576.0, 5830870040576.0, 5830870040576.0, 5830870040576.0, 5830870040576.0, 5830870040576.0, 5830870040576.0, 5830870040576.0, 5830870040576.0, 5830870040576.0, 5830870040576.0, 5830870040576.0, 5830870040576.0, 5830870040576.0, 5830870040576.0, 5830870040576.0, 5830870040576.0, 5830870040576.0, 5830870040576.0, 5830870040576.0, 5830870040576.0, 5830870040576.0, 5830870040576.0, 5830870040576.0, 5830870040576.0, 5830870040576.0, 5830870040576.0, 5830870040576.0, 5830870040576.0, 5830870040576.0, 5830870040576.0, 5830870040576.0, 5830870040576.0, 5830870040576.0, 5830870040576.0, 5830870040576.0, 5830870040576.0, 5830870040576.0, 5830870040576.0, 5830870040576.0, 5830870040576.0, 5830870040576.0, 5830870040576.0, 5830870040576.0, 5830870040576.0, 5830870040576.0, 5830870040576.0, 5830870040576.0, 5830870040576.0, 5830870040576.0, 5830870040576.0, 5830870040576.0, 5830870040576.0, 5830870040576.0, 5830870040576.0, 5830870040576.0, 5830870040576.0, 5830870040576.0, 5830870040576.0, 5830870040576.0, 5830870040576.0, 5830870040576.0, 5830870040576.0, 5830870040576.0, 5830870040576.0, 5830870040576.0, 5830870040576.0, 5830870040576.0, 5830870040576.0, 5830870040576.0, 5830870040576.0, 5830870040576.0, 5830870040576.0, 5830870040576.0, 5830870040576.0, 5830870040576.0, 5830870040576.0, 5830870040576.0, 5830870040576.0], [5830870040576.0, 5830870040576.0, 5830870040576.0, 5830870040576.0, 5830870040576.0, 5830870040576.0, 5830870040576.0, 5830870040576.0, 5830870040576.0, 5830870040576.0, 5830870040576.0, 5830870040576.0, 5830870040576.0, 5830870040576.0, 5830870040576.0, 5830870040576.0, 5830870040576.0, 5830870040576.0, 5830870040576.0, 5830870040576.0, 5830870040576.0, 5830870040576.0, 5830870040576.0, 5830870040576.0, 5830870040576.0, 5830870040576.0, 5830870040576.0, 5830870040576.0, 5830870040576.0, 5830870040576.0, 5830870040576.0, 5830870040576.0, 5830870040576.0, 5830870040576.0, 5830870040576.0, 5830870040576.0, 5830870040576.0, 5830870040576.0, 5830870040576.0, 5830870040576.0, 5830870040576.0, 5830870040576.0, 5830870040576.0, 5830870040576.0, 5830870040576.0, 5830870040576.0, 5830870040576.0, 5830870040576.0, 5830870040576.0, 5830870040576.0, 5830870040576.0, 5830870040576.0, 5830870040576.0, 5830870040576.0, 5830870040576.0, 5830870040576.0, 5830870040576.0, 5830870040576.0, 5830870040576.0, 5830870040576.0, 5830870040576.0, 5830870040576.0, 5830870040576.0, 5830870040576.0, 5830870040576.0, 5830870040576.0, 5830870040576.0, 5830870040576.0, 5830870040576.0, 5830870040576.0, 5830870040576.0, 5830870040576.0, 5830870040576.0, 5830870040576.0, 5830870040576.0, 5830870040576.0, 5830870040576.0, 5830870040576.0, 5830870040576.0, 5830870040576.0, 5830870040576.0, 5830870040576.0, 5830870040576.0, 5830870040576.0, 5830870040576.0, 5830870040576.0, 5830870040576.0, 5830870040576.0, 5830870040576.0, 5830870040576.0, 5830870040576.0, 5830870040576.0, 5830870040576.0, 5830870040576.0, 5830870040576.0, 5830870040576.0, 5830870040576.0, 5830870040576.0, 5830870040576.0, 5830870040576.0], [5830870040576.0, 5830870040576.0, 5830870040576.0, 5830870040576.0, 5830870040576.0, 5830870040576.0, 5830870040576.0, 5830870040576.0, 5830870040576.0, 5830870040576.0, 5830870040576.0, 5830870040576.0, 5830870040576.0, 5830870040576.0, 5830870040576.0, 5830870040576.0, 5830870040576.0, 5830870040576.0, 5830870040576.0, 5830870040576.0, 5830870040576.0, 5830870040576.0, 5830870040576.0, 5830870040576.0, 5830870040576.0, 5830870040576.0, 5830870040576.0, 5830870040576.0, 5830870040576.0, 5830870040576.0, 5830870040576.0, 5830870040576.0, 5830870040576.0, 5830870040576.0, 5830870040576.0, 5830870040576.0, 5830870040576.0, 5830870040576.0, 5830870040576.0, 5830870040576.0, 5830870040576.0, 5830870040576.0, 5830870040576.0, 5830870040576.0, 5830870040576.0, 5830870040576.0, 5830870040576.0, 5830870040576.0, 5830870040576.0, 5830870040576.0, 5830870040576.0, 5830870040576.0, 5830870040576.0, 5830870040576.0, 5830870040576.0, 5830870040576.0, 5830870040576.0, 5830870040576.0, 5830870040576.0, 5830870040576.0, 5830870040576.0, 5830870040576.0, 5830870040576.0, 5830870040576.0, 5830870040576.0, 5830870040576.0, 5830870040576.0, 5830870040576.0, 5830870040576.0, 5830870040576.0, 5830870040576.0, 5830870040576.0, 5830870040576.0, 5830870040576.0, 5830870040576.0, 5830870040576.0, 5830870040576.0, 5830870040576.0, 5830870040576.0, 5830870040576.0, 5830870040576.0, 5830870040576.0, 5830870040576.0, 5830870040576.0, 5830870040576.0, 5830870040576.0, 5830870040576.0, 5830870040576.0, 5830870040576.0, 5830870040576.0, 5830870040576.0, 5830870040576.0, 5830870040576.0, 5830870040576.0, 5830870040576.0, 5830870040576.0, 5830870040576.0, 5830870040576.0, 5830870040576.0, 5830870040576.0], [5830870040576.0, 5830870040576.0, 5830870040576.0, 5830870040576.0, 5830870040576.0, 5830870040576.0, 5830870040576.0, 5830870040576.0, 5830870040576.0, 5830870040576.0, 5830870040576.0, 5830870040576.0, 5830870040576.0, 5830870040576.0, 5830870040576.0, 5830870040576.0, 5830870040576.0, 5830870040576.0, 5830870040576.0, 5830870040576.0, 5830870040576.0, 5830870040576.0, 5830870040576.0, 5830870040576.0, 5830870040576.0, 5830870040576.0, 5830870040576.0, 5830870040576.0, 5830870040576.0, 5830870040576.0, 5830870040576.0, 5830870040576.0, 5830870040576.0, 5830870040576.0, 5830870040576.0, 5830870040576.0, 5830870040576.0, 5830870040576.0, 5830870040576.0, 5830870040576.0, 5830870040576.0, 5830870040576.0, 5830870040576.0, 5830870040576.0, 5830870040576.0, 5830870040576.0, 5830870040576.0, 5830870040576.0, 5830870040576.0, 5830870040576.0, 5830870040576.0, 5830870040576.0, 5830870040576.0, 5830870040576.0, 5830870040576.0, 5830870040576.0, 5830870040576.0, 5830870040576.0, 5830870040576.0, 5830870040576.0, 5830870040576.0, 5830870040576.0, 5830870040576.0, 5830870040576.0, 5830870040576.0, 5830870040576.0, 5830870040576.0, 5830870040576.0, 5830870040576.0, 5830870040576.0, 5830870040576.0, 5830870040576.0, 5830870040576.0, 5830870040576.0, 5830870040576.0, 5830870040576.0, 5830870040576.0, 5830870040576.0, 5830870040576.0, 5830870040576.0, 5830870040576.0, 5830870040576.0, 5830870040576.0, 5830870040576.0, 5830870040576.0, 5830870040576.0, 5830870040576.0, 5830870040576.0, 5830870040576.0, 5830870040576.0, 5830870040576.0, 5830870040576.0, 5830870040576.0, 5830870040576.0, 5830870040576.0, 5830870040576.0, 5830870040576.0, 5830870040576.0, 5830870040576.0, 5830870040576.0], [5830870040576.0, 5830870040576.0, 5830870040576.0, 5830870040576.0, 5830870040576.0, 5830870040576.0, 5830870040576.0, 5830870040576.0, 5830870040576.0, 5830870040576.0, 5830870040576.0, 5830870040576.0, 5830870040576.0, 5830870040576.0, 5830870040576.0, 5830870040576.0, 5830870040576.0, 5830870040576.0, 5830870040576.0, 5830870040576.0, 5830870040576.0, 5830870040576.0, 5830870040576.0, 5830870040576.0, 5830870040576.0, 5830870040576.0, 5830870040576.0, 5830870040576.0, 5830870040576.0, 5830870040576.0, 5830870040576.0, 5830870040576.0, 5830870040576.0, 5830870040576.0, 5830870040576.0, 5830870040576.0, 5830870040576.0, 5830870040576.0, 5830870040576.0, 5830870040576.0, 5830870040576.0, 5830870040576.0, 5830870040576.0, 5830870040576.0, 5830870040576.0, 5830870040576.0, 5830870040576.0, 5830870040576.0, 5830870040576.0, 5830870040576.0, 5830870040576.0, 5830870040576.0, 5830870040576.0, 5830870040576.0, 5830870040576.0, 5830870040576.0, 5830870040576.0, 5830870040576.0, 5830870040576.0, 5830870040576.0, 5830870040576.0, 5830870040576.0, 5830870040576.0, 5830870040576.0, 5830870040576.0, 5830870040576.0, 5830870040576.0, 5830870040576.0, 5830870040576.0, 5830870040576.0, 5830870040576.0, 5830870040576.0, 5830870040576.0, 5830870040576.0, 5830870040576.0, 5830870040576.0, 5830870040576.0, 5830870040576.0, 5830870040576.0, 5830870040576.0, 5830870040576.0, 5830870040576.0, 5830870040576.0, 5830870040576.0, 5830870040576.0, 5830870040576.0, 5830870040576.0, 5830870040576.0, 5830870040576.0, 5830870040576.0, 5830870040576.0, 5830870040576.0, 5830870040576.0, 5830870040576.0, 5830870040576.0, 5830870040576.0, 5830870040576.0, 5830870040576.0, 5830870040576.0, 5830870040576.0], [5830870040576.0, 5830870040576.0, 5830870040576.0, 5830870040576.0, 5830870040576.0, 5830870040576.0, 5830870040576.0, 5830870040576.0, 5830870040576.0, 5830870040576.0, 5830870040576.0, 5830870040576.0, 5830870040576.0, 5830870040576.0, 5830870040576.0, 5830870040576.0, 5830870040576.0, 5830870040576.0, 5830870040576.0, 5830870040576.0, 5830870040576.0, 5830870040576.0, 5830870040576.0, 5830870040576.0, 5830870040576.0, 5830870040576.0, 5830870040576.0, 5830870040576.0, 5830870040576.0, 5830870040576.0, 5830870040576.0, 5830870040576.0, 5830870040576.0, 5830870040576.0, 5830870040576.0, 5830870040576.0, 5830870040576.0, 5830870040576.0, 5830870040576.0, 5830870040576.0, 5830870040576.0, 5830870040576.0, 5830870040576.0, 5830870040576.0, 5830870040576.0, 5830870040576.0, 5830870040576.0, 5830870040576.0, 5830870040576.0, 5830870040576.0, 5830870040576.0, 5830870040576.0, 5830870040576.0, 5830870040576.0, 5830870040576.0, 5830870040576.0, 5830870040576.0, 5830870040576.0, 5830870040576.0, 5830870040576.0, 5830870040576.0, 5830870040576.0, 5830870040576.0, 5830870040576.0, 5830870040576.0, 5830870040576.0, 5830870040576.0, 5830870040576.0, 5830870040576.0, 5830870040576.0, 5830870040576.0, 5830870040576.0, 5830870040576.0, 5830870040576.0, 5830870040576.0, 5830870040576.0, 5830870040576.0, 5830870040576.0, 5830870040576.0, 5830870040576.0, 5830870040576.0, 5830870040576.0, 5830870040576.0, 5830870040576.0, 5830870040576.0, 5830870040576.0, 5830870040576.0, 5830870040576.0, 5830870040576.0, 5830870040576.0, 5830870040576.0, 5830870040576.0, 5830870040576.0, 5830870040576.0, 5830870040576.0, 5830870040576.0, 5830870040576.0, 5830870040576.0, 5830870040576.0, 5830870040576.0], [5830870040576.0, 5830870040576.0, 5830870040576.0, 5830870040576.0, 5830870040576.0, 5830870040576.0, 5830870040576.0, 5830870040576.0, 5830870040576.0, 5830870040576.0, 5830870040576.0, 5830870040576.0, 5830870040576.0, 5830870040576.0, 5830870040576.0, 5830870040576.0, 5830870040576.0, 5830870040576.0, 5830870040576.0, 5830870040576.0, 5830870040576.0, 5830870040576.0, 5830870040576.0, 5830870040576.0, 5830870040576.0, 5830870040576.0, 5830870040576.0, 5830870040576.0, 5830870040576.0, 5830870040576.0, 5830870040576.0, 5830870040576.0, 5830870040576.0, 5830870040576.0, 5830870040576.0, 5830870040576.0, 5830870040576.0, 5830870040576.0, 5830870040576.0, 5830870040576.0, 5830870040576.0, 5830870040576.0, 5830870040576.0, 5830870040576.0, 5830870040576.0, 5830870040576.0, 5830870040576.0, 5830870040576.0, 5830870040576.0, 5830870040576.0, 5830870040576.0, 5830870040576.0, 5830870040576.0, 5830870040576.0, 5830870040576.0, 5830870040576.0, 5830870040576.0, 5830870040576.0, 5830870040576.0, 5830870040576.0, 5830870040576.0, 5830870040576.0, 5830870040576.0, 5830870040576.0, 5830870040576.0, 5830870040576.0, 5830870040576.0, 5830870040576.0, 5830870040576.0, 5830870040576.0, 5830870040576.0, 5830870040576.0, 5830870040576.0, 5830870040576.0, 5830870040576.0, 5830870040576.0, 5830870040576.0, 5830870040576.0, 5830870040576.0, 5830870040576.0, 5830870040576.0, 5830870040576.0, 5830870040576.0, 5830870040576.0, 5830870040576.0, 5830870040576.0, 5830870040576.0, 5830870040576.0, 5830870040576.0, 5830870040576.0, 5830870040576.0, 5830870040576.0, 5830870040576.0, 5830870040576.0, 5830870040576.0, 5830870040576.0, 5830870040576.0, 5830870040576.0, 5830870040576.0, 5830870040576.0], [5830870040576.0, 5830870040576.0, 5830870040576.0, 5830870040576.0, 5830870040576.0, 5830870040576.0, 5830870040576.0, 5830870040576.0, 5830870040576.0, 5830870040576.0, 5830870040576.0, 5830870040576.0, 5830870040576.0, 5830870040576.0, 5830870040576.0, 5830870040576.0, 5830870040576.0, 5830870040576.0, 5830870040576.0, 5830870040576.0, 5830870040576.0, 5830870040576.0, 5830870040576.0, 5830870040576.0, 5830870040576.0, 5830870040576.0, 5830870040576.0, 5830870040576.0, 5830870040576.0, 5830870040576.0, 5830870040576.0, 5830870040576.0, 5830870040576.0, 5830870040576.0, 5830870040576.0, 5830870040576.0, 5830870040576.0, 5830870040576.0, 5830870040576.0, 5830870040576.0, 5830870040576.0, 5830870040576.0, 5830870040576.0, 5830870040576.0, 5830870040576.0, 5830870040576.0, 5830870040576.0, 5830870040576.0, 5830870040576.0, 5830870040576.0, 5830870040576.0, 5830870040576.0, 5830870040576.0, 5830870040576.0, 5830870040576.0, 5830870040576.0, 5830870040576.0, 5830870040576.0, 5830870040576.0, 5830870040576.0, 5830870040576.0, 5830870040576.0, 5830870040576.0, 5830870040576.0, 5830870040576.0, 5830870040576.0, 5830870040576.0, 5830870040576.0, 5830870040576.0, 5830870040576.0, 5830870040576.0, 5830870040576.0, 5830870040576.0, 5830870040576.0, 5830870040576.0, 5830870040576.0, 5830870040576.0, 5830870040576.0, 5830870040576.0, 5830870040576.0, 5830870040576.0, 5830870040576.0, 5830870040576.0, 5830870040576.0, 5830870040576.0, 5830870040576.0, 5830870040576.0, 5830870040576.0, 5830870040576.0, 5830870040576.0, 5830870040576.0, 5830870040576.0, 5830870040576.0, 5830870040576.0, 5830870040576.0, 5830870040576.0, 5830870040576.0, 5830870040576.0, 5830870040576.0, 5830870040576.0], [5830870040576.0, 5830870040576.0, 5830870040576.0, 5830870040576.0, 5830870040576.0, 5830870040576.0, 5830870040576.0, 5830870040576.0, 5830870040576.0, 5830870040576.0, 5830870040576.0, 5830870040576.0, 5830870040576.0, 5830870040576.0, 5830870040576.0, 5830870040576.0, 5830870040576.0, 5830870040576.0, 5830870040576.0, 5830870040576.0, 5830870040576.0, 5830870040576.0, 5830870040576.0, 5830870040576.0, 5830870040576.0, 5830870040576.0, 5830870040576.0, 5830870040576.0, 5830870040576.0, 5830870040576.0, 5830870040576.0, 5830870040576.0, 5830870040576.0, 5830870040576.0, 5830870040576.0, 5830870040576.0, 5830870040576.0, 5830870040576.0, 5830870040576.0, 5830870040576.0, 5830870040576.0, 5830870040576.0, 5830870040576.0, 5830870040576.0, 5830870040576.0, 5830870040576.0, 5830870040576.0, 5830870040576.0, 5830870040576.0, 5830870040576.0, 5830870040576.0, 5830870040576.0, 5830870040576.0, 5830870040576.0, 5830870040576.0, 5830870040576.0, 5830870040576.0, 5830870040576.0, 5830870040576.0, 5830870040576.0, 5830870040576.0, 5830870040576.0, 5830870040576.0, 5830870040576.0, 5830870040576.0, 5830870040576.0, 5830870040576.0, 5830870040576.0, 5830870040576.0, 5830870040576.0, 5830870040576.0, 5830870040576.0, 5830870040576.0, 5830870040576.0, 5830870040576.0, 5830870040576.0, 5830870040576.0, 5830870040576.0, 5830870040576.0, 5830870040576.0, 5830870040576.0, 5830870040576.0, 5830870040576.0, 5830870040576.0, 5830870040576.0, 5830870040576.0, 5830870040576.0, 5830870040576.0, 5830870040576.0, 5830870040576.0, 5830870040576.0, 5830870040576.0, 5830870040576.0, 5830870040576.0, 5830870040576.0, 5830870040576.0, 5830870040576.0, 5830870040576.0, 5830870040576.0, 5830870040576.0], [5830870040576.0, 5830870040576.0, 5830870040576.0, 5830870040576.0, 5830870040576.0, 5830870040576.0, 5830870040576.0, 5830870040576.0, 5830870040576.0, 5830870040576.0, 5830870040576.0, 5830870040576.0, 5830870040576.0, 5830870040576.0, 5830870040576.0, 5830870040576.0, 5830870040576.0, 5830870040576.0, 5830870040576.0, 5830870040576.0, 5830870040576.0, 5830870040576.0, 5830870040576.0, 5830870040576.0, 5830870040576.0, 5830870040576.0, 5830870040576.0, 5830870040576.0, 5830870040576.0, 5830870040576.0, 5830870040576.0, 5830870040576.0, 5830870040576.0, 5830870040576.0, 5830870040576.0, 5830870040576.0, 5830870040576.0, 5830870040576.0, 5830870040576.0, 5830870040576.0, 5830870040576.0, 5830870040576.0, 5830870040576.0, 5830870040576.0, 5830870040576.0, 5830870040576.0, 5830870040576.0, 5830870040576.0, 5830870040576.0, 5830870040576.0, 5830870040576.0, 5830870040576.0, 5830870040576.0, 5830870040576.0, 5830870040576.0, 5830870040576.0, 5830870040576.0, 5830870040576.0, 5830870040576.0, 5830870040576.0, 5830870040576.0, 5830870040576.0, 5830870040576.0, 5830870040576.0, 5830870040576.0, 5830870040576.0, 5830870040576.0, 5830870040576.0, 5830870040576.0, 5830870040576.0, 5830870040576.0, 5830870040576.0, 5830870040576.0, 5830870040576.0, 5830870040576.0, 5830870040576.0, 5830870040576.0, 5830870040576.0, 5830870040576.0, 5830870040576.0, 5830870040576.0, 5830870040576.0, 5830870040576.0, 5830870040576.0, 5830870040576.0, 5830870040576.0, 5830870040576.0, 5830870040576.0, 5830870040576.0, 5830870040576.0, 5830870040576.0, 5830870040576.0, 5830870040576.0, 5830870040576.0, 5830870040576.0, 5830870040576.0, 5830870040576.0, 5830870040576.0, 5830870040576.0, 5830870040576.0], [5830870040576.0, 5830870040576.0, 5830870040576.0, 5830870040576.0, 5830870040576.0, 5830870040576.0, 5830870040576.0, 5830870040576.0, 5830870040576.0, 5830870040576.0, 5830870040576.0, 5830870040576.0, 5830870040576.0, 5830870040576.0, 5830870040576.0, 5830870040576.0, 5830870040576.0, 5830870040576.0, 5830870040576.0, 5830870040576.0, 5830870040576.0, 5830870040576.0, 5830870040576.0, 5830870040576.0, 5830870040576.0, 5830870040576.0, 5830870040576.0, 5830870040576.0, 5830870040576.0, 5830870040576.0, 5830870040576.0, 5830870040576.0, 5830870040576.0, 5830870040576.0, 5830870040576.0, 5830870040576.0, 5830870040576.0, 5830870040576.0, 5830870040576.0, 5830870040576.0, 5830870040576.0, 5830870040576.0, 5830870040576.0, 5830870040576.0, 5830870040576.0, 5830870040576.0, 5830870040576.0, 5830870040576.0, 5830870040576.0, 5830870040576.0, 5830870040576.0, 5830870040576.0, 5830870040576.0, 5830870040576.0, 5830870040576.0, 5830870040576.0, 5830870040576.0, 5830870040576.0, 5830870040576.0, 5830870040576.0, 5830870040576.0, 5830870040576.0, 5830870040576.0, 5830870040576.0, 5830870040576.0, 5830870040576.0, 5830870040576.0, 5830870040576.0, 5830870040576.0, 5830870040576.0, 5830870040576.0, 5830870040576.0, 5830870040576.0, 5830870040576.0, 5830870040576.0, 5830870040576.0, 5830870040576.0, 5830870040576.0, 5830870040576.0, 5830870040576.0, 5830870040576.0, 5830870040576.0, 5830870040576.0, 5830870040576.0, 5830870040576.0, 5830870040576.0, 5830870040576.0, 5830870040576.0, 5830870040576.0, 5830870040576.0, 5830870040576.0, 5830870040576.0, 5830870040576.0, 5830870040576.0, 5830870040576.0, 5830870040576.0, 5830870040576.0, 5830870040576.0, 5830870040576.0, 5830870040576.0], [5830870040576.0, 5830870040576.0, 5830870040576.0, 5830870040576.0, 5830870040576.0, 5830870040576.0, 5830870040576.0, 5830870040576.0, 5830870040576.0, 5830870040576.0, 5830870040576.0, 5830870040576.0, 5830870040576.0, 5830870040576.0, 5830870040576.0, 5830870040576.0, 5830870040576.0, 5830870040576.0, 5830870040576.0, 5830870040576.0, 5830870040576.0, 5830870040576.0, 5830870040576.0, 5830870040576.0, 5830870040576.0, 5830870040576.0, 5830870040576.0, 5830870040576.0, 5830870040576.0, 5830870040576.0, 5830870040576.0, 5830870040576.0, 5830870040576.0, 5830870040576.0, 5830870040576.0, 5830870040576.0, 5830870040576.0, 5830870040576.0, 5830870040576.0, 5830870040576.0, 5830870040576.0, 5830870040576.0, 5830870040576.0, 5830870040576.0, 5830870040576.0, 5830870040576.0, 5830870040576.0, 5830870040576.0, 5830870040576.0, 5830870040576.0, 5830870040576.0, 5830870040576.0, 5830870040576.0, 5830870040576.0, 5830870040576.0, 5830870040576.0, 5830870040576.0, 5830870040576.0, 5830870040576.0, 5830870040576.0, 5830870040576.0, 5830870040576.0, 5830870040576.0, 5830870040576.0, 5830870040576.0, 5830870040576.0, 5830870040576.0, 5830870040576.0, 5830870040576.0, 5830870040576.0, 5830870040576.0, 5830870040576.0, 5830870040576.0, 5830870040576.0, 5830870040576.0, 5830870040576.0, 5830870040576.0, 5830870040576.0, 5830870040576.0, 5830870040576.0, 5830870040576.0, 5830870040576.0, 5830870040576.0, 5830870040576.0, 5830870040576.0, 5830870040576.0, 5830870040576.0, 5830870040576.0, 5830870040576.0, 5830870040576.0, 5830870040576.0, 5830870040576.0, 5830870040576.0, 5830870040576.0, 5830870040576.0, 5830870040576.0, 5830870040576.0, 5830870040576.0, 5830870040576.0, 5830870040576.0], [5830870040576.0, 5830870040576.0, 5830870040576.0, 5830870040576.0, 5830870040576.0, 5830870040576.0, 5830870040576.0, 5830870040576.0, 5830870040576.0, 5830870040576.0, 5830870040576.0, 5830870040576.0, 5830870040576.0, 5830870040576.0, 5830870040576.0, 5830870040576.0, 5830870040576.0, 5830870040576.0, 5830870040576.0, 5830870040576.0, 5830870040576.0, 5830870040576.0, 5830870040576.0, 5830870040576.0, 5830870040576.0, 5830870040576.0, 5830870040576.0, 5830870040576.0, 5830870040576.0, 5830870040576.0, 5830870040576.0, 5830870040576.0, 5830870040576.0, 5830870040576.0, 5830870040576.0, 5830870040576.0, 5830870040576.0, 5830870040576.0, 5830870040576.0, 5830870040576.0, 5830870040576.0, 5830870040576.0, 5830870040576.0, 5830870040576.0, 5830870040576.0, 5830870040576.0, 5830870040576.0, 5830870040576.0, 5830870040576.0, 5830870040576.0, 5830870040576.0, 5830870040576.0, 5830870040576.0, 5830870040576.0, 5830870040576.0, 5830870040576.0, 5830870040576.0, 5830870040576.0, 5830870040576.0, 5830870040576.0, 5830870040576.0, 5830870040576.0, 5830870040576.0, 5830870040576.0, 5830870040576.0, 5830870040576.0, 5830870040576.0, 5830870040576.0, 5830870040576.0, 5830870040576.0, 5830870040576.0, 5830870040576.0, 5830870040576.0, 5830870040576.0, 5830870040576.0, 5830870040576.0, 5830870040576.0, 5830870040576.0, 5830870040576.0, 5830870040576.0, 5830870040576.0, 5830870040576.0, 5830870040576.0, 5830870040576.0, 5830870040576.0, 5830870040576.0, 5830870040576.0, 5830870040576.0, 5830870040576.0, 5830870040576.0, 5830870040576.0, 5830870040576.0, 5830870040576.0, 5830870040576.0, 5830870040576.0, 5830870040576.0, 5830870040576.0, 5830870040576.0, 5830870040576.0, 5830870040576.0], [5830870040576.0, 5830870040576.0, 5830870040576.0, 5830870040576.0, 5830870040576.0, 5830870040576.0, 5830870040576.0, 5830870040576.0, 5830870040576.0, 5830870040576.0, 5830870040576.0, 5830870040576.0, 5830870040576.0, 5830870040576.0, 5830870040576.0, 5830870040576.0, 5830870040576.0, 5830870040576.0, 5830870040576.0, 5830870040576.0, 5830870040576.0, 5830870040576.0, 5830870040576.0, 5830870040576.0, 5830870040576.0, 5830870040576.0, 5830870040576.0, 5830870040576.0, 5830870040576.0, 5830870040576.0, 5830870040576.0, 5830870040576.0, 5830870040576.0, 5830870040576.0, 5830870040576.0, 5830870040576.0, 5830870040576.0, 5830870040576.0, 5830870040576.0, 5830870040576.0, 5830870040576.0, 5830870040576.0, 5830870040576.0, 5830870040576.0, 5830870040576.0, 5830870040576.0, 5830870040576.0, 5830870040576.0, 5830870040576.0, 5830870040576.0, 5830870040576.0, 5830870040576.0, 5830870040576.0, 5830870040576.0, 5830870040576.0, 5830870040576.0, 5830870040576.0, 5830870040576.0, 5830870040576.0, 5830870040576.0, 5830870040576.0, 5830870040576.0, 5830870040576.0, 5830870040576.0, 5830870040576.0, 5830870040576.0, 5830870040576.0, 5830870040576.0, 5830870040576.0, 5830870040576.0, 5830870040576.0, 5830870040576.0, 5830870040576.0, 5830870040576.0, 5830870040576.0, 5830870040576.0, 5830870040576.0, 5830870040576.0, 5830870040576.0, 5830870040576.0, 5830870040576.0, 5830870040576.0, 5830870040576.0, 5830870040576.0, 5830870040576.0, 5830870040576.0, 5830870040576.0, 5830870040576.0, 5830870040576.0, 5830870040576.0, 5830870040576.0, 5830870040576.0, 5830870040576.0, 5830870040576.0, 5830870040576.0, 5830870040576.0, 5830870040576.0, 5830870040576.0, 5830870040576.0, 5830870040576.0], [5830870040576.0, 5830870040576.0, 5830870040576.0, 5830870040576.0, 5830870040576.0, 5830870040576.0, 5830870040576.0, 5830870040576.0, 5830870040576.0, 5830870040576.0, 5830870040576.0, 5830870040576.0, 5830870040576.0, 5830870040576.0, 5830870040576.0, 5830870040576.0, 5830870040576.0, 5830870040576.0, 5830870040576.0, 5830870040576.0, 5830870040576.0, 5830870040576.0, 5830870040576.0, 5830870040576.0, 5830870040576.0, 5830870040576.0, 5830870040576.0, 5830870040576.0, 5830870040576.0, 5830870040576.0, 5830870040576.0, 5830870040576.0, 5830870040576.0, 5830870040576.0, 5830870040576.0, 5830870040576.0, 5830870040576.0, 5830870040576.0, 5830870040576.0, 5830870040576.0, 5830870040576.0, 5830870040576.0, 5830870040576.0, 5830870040576.0, 5830870040576.0, 5830870040576.0, 5830870040576.0, 5830870040576.0, 5830870040576.0, 5830870040576.0, 5830870040576.0, 5830870040576.0, 5830870040576.0, 5830870040576.0, 5830870040576.0, 5830870040576.0, 5830870040576.0, 5830870040576.0, 5830870040576.0, 5830870040576.0, 5830870040576.0, 5830870040576.0, 5830870040576.0, 5830870040576.0, 5830870040576.0, 5830870040576.0, 5830870040576.0, 5830870040576.0, 5830870040576.0, 5830870040576.0, 5830870040576.0, 5830870040576.0, 5830870040576.0, 5830870040576.0, 5830870040576.0, 5830870040576.0, 5830870040576.0, 5830870040576.0, 5830870040576.0, 5830870040576.0, 5830870040576.0, 5830870040576.0, 5830870040576.0, 5830870040576.0, 5830870040576.0, 5830870040576.0, 5830870040576.0, 5830870040576.0, 5830870040576.0, 5830870040576.0, 5830870040576.0, 5830870040576.0, 5830870040576.0, 5830870040576.0, 5830870040576.0, 5830870040576.0, 5830870040576.0, 5830870040576.0, 5830870040576.0, 5830870040576.0], [5830870040576.0, 5830870040576.0, 5830870040576.0, 5830870040576.0, 5830870040576.0, 5830870040576.0, 5830870040576.0, 5830870040576.0, 5830870040576.0, 5830870040576.0, 5830870040576.0, 5830870040576.0, 5830870040576.0, 5830870040576.0, 5830870040576.0, 5830870040576.0, 5830870040576.0, 5830870040576.0, 5830870040576.0, 5830870040576.0, 5830870040576.0, 5830870040576.0, 5830870040576.0, 5830870040576.0, 5830870040576.0, 5830870040576.0, 5830870040576.0, 5830870040576.0, 5830870040576.0, 5830870040576.0, 5830870040576.0, 5830870040576.0, 5830870040576.0, 5830870040576.0, 5830870040576.0, 5830870040576.0, 5830870040576.0, 5830870040576.0, 5830870040576.0, 5830870040576.0, 5830870040576.0, 5830870040576.0, 5830870040576.0, 5830870040576.0, 5830870040576.0, 5830870040576.0, 5830870040576.0, 5830870040576.0, 5830870040576.0, 5830870040576.0, 5830870040576.0, 5830870040576.0, 5830870040576.0, 5830870040576.0, 5830870040576.0, 5830870040576.0, 5830870040576.0, 5830870040576.0, 5830870040576.0, 5830870040576.0, 5830870040576.0, 5830870040576.0, 5830870040576.0, 5830870040576.0, 5830870040576.0, 5830870040576.0, 5830870040576.0, 5830870040576.0, 5830870040576.0, 5830870040576.0, 5830870040576.0, 5830870040576.0, 5830870040576.0, 5830870040576.0, 5830870040576.0, 5830870040576.0, 5830870040576.0, 5830870040576.0, 5830870040576.0, 5830870040576.0, 5830870040576.0, 5830870040576.0, 5830870040576.0, 5830870040576.0, 5830870040576.0, 5830870040576.0, 5830870040576.0, 5830870040576.0, 5830870040576.0, 5830870040576.0, 5830870040576.0, 5830870040576.0, 5830870040576.0, 5830870040576.0, 5830870040576.0, 5830870040576.0, 5830870040576.0, 5830870040576.0, 5830870040576.0, 5830870040576.0], [5830870040576.0, 5830870040576.0, 5830870040576.0, 5830870040576.0, 5830870040576.0, 5830870040576.0, 5830870040576.0, 5830870040576.0, 5830870040576.0, 5830870040576.0, 5830870040576.0, 5830870040576.0, 5830870040576.0, 5830870040576.0, 5830870040576.0, 5830870040576.0, 5830870040576.0, 5830870040576.0, 5830870040576.0, 5830870040576.0, 5830870040576.0, 5830870040576.0, 5830870040576.0, 5830870040576.0, 5830870040576.0, 5830870040576.0, 5830870040576.0, 5830870040576.0, 5830870040576.0, 5830870040576.0, 5830870040576.0, 5830870040576.0, 5830870040576.0, 5830870040576.0, 5830870040576.0, 5830870040576.0, 5830870040576.0, 5830870040576.0, 5830870040576.0, 5830870040576.0, 5830870040576.0, 5830870040576.0, 5830870040576.0, 5830870040576.0, 5830870040576.0, 5830870040576.0, 5830870040576.0, 5830870040576.0, 5830870040576.0, 5830870040576.0, 5830870040576.0, 5830870040576.0, 5830870040576.0, 5830870040576.0, 5830870040576.0, 5830870040576.0, 5830870040576.0, 5830870040576.0, 5830870040576.0, 5830870040576.0, 5830870040576.0, 5830870040576.0, 5830870040576.0, 5830870040576.0, 5830870040576.0, 5830870040576.0, 5830870040576.0, 5830870040576.0, 5830870040576.0, 5830870040576.0, 5830870040576.0, 5830870040576.0, 5830870040576.0, 5830870040576.0, 5830870040576.0, 5830870040576.0, 5830870040576.0, 5830870040576.0, 5830870040576.0, 5830870040576.0, 5830870040576.0, 5830870040576.0, 5830870040576.0, 5830870040576.0, 5830870040576.0, 5830870040576.0, 5830870040576.0, 5830870040576.0, 5830870040576.0, 5830870040576.0, 5830870040576.0, 5830870040576.0, 5830870040576.0, 5830870040576.0, 5830870040576.0, 5830870040576.0, 5830870040576.0, 5830870040576.0, 5830870040576.0, 5830870040576.0]]'"
      ]
     },
     "execution_count": 14,
     "metadata": {},
     "output_type": "execute_result"
    }
   ],
   "execution_count": 14
  },
  {
   "cell_type": "code",
   "id": "df7dfd8ff0308815",
   "metadata": {
    "collapsed": false,
    "execution": {
     "iopub.execute_input": "2024-06-20T19:02:54.097044Z",
     "iopub.status.busy": "2024-06-20T19:02:54.096936Z",
     "iopub.status.idle": "2024-06-20T19:02:54.099278Z",
     "shell.execute_reply": "2024-06-20T19:02:54.098923Z"
    },
    "papermill": {
     "duration": 0.006648,
     "end_time": "2024-06-20T19:02:54.100371",
     "exception": false,
     "start_time": "2024-06-20T19:02:54.093723",
     "status": "completed"
    },
    "tags": [],
    "ExecuteTime": {
     "end_time": "2024-08-19T10:15:28.117793Z",
     "start_time": "2024-08-19T10:15:28.112903Z"
    }
   },
   "source": [
    "engine.read_flow_drawdown(idx=0, layer=0)"
   ],
   "outputs": [
    {
     "data": {
      "text/plain": [
       "[]"
      ]
     },
     "execution_count": 15,
     "metadata": {},
     "output_type": "execute_result"
    }
   ],
   "execution_count": 15
  },
  {
   "cell_type": "code",
   "id": "b233f4066b56c174",
   "metadata": {
    "collapsed": false,
    "execution": {
     "iopub.execute_input": "2024-06-20T19:02:54.107754Z",
     "iopub.status.busy": "2024-06-20T19:02:54.107610Z",
     "iopub.status.idle": "2024-06-20T19:02:54.111010Z",
     "shell.execute_reply": "2024-06-20T19:02:54.110745Z"
    },
    "papermill": {
     "duration": 0.008593,
     "end_time": "2024-06-20T19:02:54.112402",
     "exception": false,
     "start_time": "2024-06-20T19:02:54.103809",
     "status": "completed"
    },
    "tags": [],
    "ExecuteTime": {
     "end_time": "2024-08-19T10:15:28.130413Z",
     "start_time": "2024-08-19T10:15:28.119956Z"
    }
   },
   "source": [
    "engine.read_flow_budget(idx=0, incremental=False)"
   ],
   "outputs": [
    {
     "data": {
      "text/plain": [
       "{'STORAGE_IN': 0.0,\n",
       " 'CONSTANT_HEAD_IN': 0.0,\n",
       " 'SPECIFIED_FLOWS_IN': 2737493.5,\n",
       " 'TOTAL_IN': 2737493.5,\n",
       " 'STORAGE_OUT': -0.0,\n",
       " 'CONSTANT_HEAD_OUT': -0.0,\n",
       " 'SPECIFIED_FLOWS_OUT': -0.0,\n",
       " 'TOTAL_OUT': -0.0,\n",
       " 'IN-OUT': 2737493.5,\n",
       " 'PERCENT_DISCREPANCY': 200.0,\n",
       " 'tslen': 0.0}"
      ]
     },
     "execution_count": 16,
     "metadata": {},
     "output_type": "execute_result"
    }
   ],
   "execution_count": 16
  },
  {
   "cell_type": "code",
   "id": "634709d741f5c252",
   "metadata": {
    "collapsed": false,
    "execution": {
     "iopub.execute_input": "2024-06-20T19:02:54.119651Z",
     "iopub.status.busy": "2024-06-20T19:02:54.119507Z",
     "iopub.status.idle": "2024-06-20T19:02:54.122867Z",
     "shell.execute_reply": "2024-06-20T19:02:54.122540Z"
    },
    "papermill": {
     "duration": 0.008656,
     "end_time": "2024-06-20T19:02:54.124359",
     "exception": false,
     "start_time": "2024-06-20T19:02:54.115703",
     "status": "completed"
    },
    "tags": [],
    "ExecuteTime": {
     "end_time": "2024-08-19T10:15:28.140052Z",
     "start_time": "2024-08-19T10:15:28.131211Z"
    }
   },
   "source": [
    "engine.read_flow_budget(idx=0, incremental=True)"
   ],
   "outputs": [
    {
     "data": {
      "text/plain": [
       "{'STORAGE_IN': 0.0,\n",
       " 'CONSTANT_HEAD_IN': 0.0,\n",
       " 'SPECIFIED_FLOWS_IN': 7499.982,\n",
       " 'TOTAL_IN': 7499.982,\n",
       " 'STORAGE_OUT': -0.0,\n",
       " 'CONSTANT_HEAD_OUT': -0.0,\n",
       " 'SPECIFIED_FLOWS_OUT': -0.0,\n",
       " 'TOTAL_OUT': -0.0,\n",
       " 'IN-OUT': 7499.982,\n",
       " 'PERCENT_DISCREPANCY': 200.0,\n",
       " 'tslen': 365.0}"
      ]
     },
     "execution_count": 17,
     "metadata": {},
     "output_type": "execute_result"
    }
   ],
   "execution_count": 17
  },
  {
   "cell_type": "code",
   "id": "160abd7d290c83f7",
   "metadata": {
    "collapsed": false,
    "execution": {
     "iopub.execute_input": "2024-06-20T19:02:54.130987Z",
     "iopub.status.busy": "2024-06-20T19:02:54.130868Z",
     "iopub.status.idle": "2024-06-20T19:02:54.206133Z",
     "shell.execute_reply": "2024-06-20T19:02:54.205440Z"
    },
    "papermill": {
     "duration": 0.081423,
     "end_time": "2024-06-20T19:02:54.208923",
     "exception": false,
     "start_time": "2024-06-20T19:02:54.127500",
     "status": "completed"
    },
    "tags": [],
    "ExecuteTime": {
     "end_time": "2024-08-19T10:15:28.267446Z",
     "start_time": "2024-08-19T10:15:28.141322Z"
    }
   },
   "source": [
    "import matplotlib.pyplot as plt\n",
    "\n",
    "heads = engine.read_flow_head(idx=0, layer=0)\n",
    "plt.subplot(2, 1, 1)\n",
    "plt.imshow(heads, cmap='jet_r')\n",
    "plt.colorbar()\n",
    "plt.show()"
   ],
   "outputs": [
    {
     "data": {
      "text/plain": [
       "<Figure size 640x480 with 2 Axes>"
      ],
      "image/png": "[encoded data removed]"
     },
     "metadata": {},
     "output_type": "display_data"
    }
   ],
   "execution_count": 18
  }
 ],
 "metadata": {
  "kernelspec": {
   "display_name": "Python 3",
   "language": "python",
   "name": "python3"
  },
  "language_info": {
   "codemirror_mode": {
    "name": "ipython",
    "version": 3
   },
   "file_extension": ".py",
   "mimetype": "text/x-python",
   "name": "python",
   "nbconvert_exporter": "python",
   "pygments_lexer": "ipython3",
   "version": "3.12.2"
  },
  "papermill": {
   "default_parameters": {},
   "duration": 5.469341,
   "end_time": "2024-06-20T19:02:54.539773",
   "environment_variables": {},
   "exception": null,
   "input_path": "./notebooks/Test_FlowAndHeadBoundary.ipynb",
   "output_path": "./notebooks/Test_FlowAndHeadBoundary.ipynb",
   "parameters": {},
   "start_time": "2024-06-20T19:02:49.070432",
   "version": "2.6.0"
  }
 },
 "nbformat": 4,
 "nbformat_minor": 5
}
