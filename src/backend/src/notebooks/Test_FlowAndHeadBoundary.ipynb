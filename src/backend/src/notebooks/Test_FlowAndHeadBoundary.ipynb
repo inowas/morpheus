{
 "cells": [
  {
   "cell_type": "code",
   "execution_count": null,
   "outputs": [],
   "source": [
    "import sys\n",
    "\n",
    "sys.path.insert(0, '..')"
   ],
   "metadata": {
    "collapsed": false
   },
   "id": "ba6761fae9d5e5cb"
  },
  {
   "cell_type": "markdown",
   "source": [
    "## Setup the model area"
   ],
   "metadata": {
    "collapsed": false
   },
   "id": "5ede1ba5e0993dd1"
  },
  {
   "cell_type": "code",
   "execution_count": null,
   "outputs": [],
   "source": [
    "from morpheus.project.types.discretization import SpatialDiscretization\n",
    "from morpheus.project.types.discretization.spatial import Rotation, Grid, Crs\n",
    "from morpheus.project.types.geometry import Polygon, LineString\n",
    "\n",
    "polygon = Polygon(\n",
    "  type='Polygon',\n",
    "  coordinates=[[\n",
    "    (13.92, 50.964),\n",
    "    (13.92, 50.966),\n",
    "    (13.925, 50.966),\n",
    "    (13.925, 50.964),\n",
    "    (13.92, 50.964)\n",
    "  ]]\n",
    ")\n",
    "\n",
    "rotation = Rotation(0)\n",
    "\n",
    "grid = Grid.cartesian_from_polygon(polygon=polygon, nx=100, ny=50, rotation=rotation)\n",
    "spatial_discretization = SpatialDiscretization.from_geometry_with_grid(\n",
    "  geometry=polygon,\n",
    "  grid=grid,\n",
    "  crs=Crs.from_str('EPSG:4326')\n",
    ")"
   ],
   "metadata": {
    "collapsed": false
   },
   "id": "2f69504ab35487aa"
  },
  {
   "cell_type": "markdown",
   "source": [
    "## Setup Time Discretization"
   ],
   "metadata": {
    "collapsed": false
   },
   "id": "fa27e67f9d801845"
  },
  {
   "cell_type": "code",
   "execution_count": null,
   "outputs": [],
   "source": [
    "from morpheus.project.types.discretization.time.TimeUnit import TimeUnit\n",
    "from morpheus.project.types.discretization.time.Stressperiods import StartDateTime, StressPeriodCollection, \\\n",
    "  StressPeriod, NumberOfTimeSteps, TimeStepMultiplier, IsSteadyState\n",
    "from morpheus.project.types.discretization.time import TimeDiscretization\n",
    "from datetime import datetime\n",
    "\n",
    "time_discretization = TimeDiscretization(\n",
    "  start_date_time=StartDateTime.from_datetime(datetime(2020, 1, 1)),\n",
    "  end_date_time=StartDateTime.from_datetime(datetime(2020, 12, 31)),\n",
    "  stress_periods=StressPeriodCollection([\n",
    "    StressPeriod(\n",
    "      start_date_time=StartDateTime.from_datetime(datetime(2020, 1, 1)),\n",
    "      number_of_time_steps=NumberOfTimeSteps(1),\n",
    "      time_step_multiplier=TimeStepMultiplier(1),\n",
    "      steady_state=IsSteadyState.yes()\n",
    "    ),\n",
    "  ]),\n",
    "  time_unit=TimeUnit.days()\n",
    ")"
   ],
   "metadata": {
    "collapsed": false
   },
   "id": "8e4e63dd138db9fc"
  },
  {
   "cell_type": "markdown",
   "source": [
    "# Setup Model"
   ],
   "metadata": {
    "collapsed": false
   },
   "id": "963ba8729f09fcec"
  },
  {
   "cell_type": "code",
   "execution_count": null,
   "outputs": [],
   "source": [
    "from morpheus.project.types.Model import Model\n",
    "\n",
    "model = Model.new()\n",
    "model = model.with_updated_time_discretization(time_discretization)\n",
    "model = model.with_updated_spatial_discretization(spatial_discretization=spatial_discretization)"
   ],
   "metadata": {
    "collapsed": false
   },
   "id": "1d5c9125b1b9360b"
  },
  {
   "cell_type": "code",
   "execution_count": null,
   "outputs": [],
   "source": [
    "import folium\n",
    "\n",
    "m = folium.Map(tiles=\"cartodbpositron\", crs=\"EPSG3857\", zoom_start=12, location=[50.965, 13.922])\n",
    "m.add_child(folium.GeoJson(polygon.as_geojson()))\n",
    "\n",
    "m.fit_bounds(m.get_bounds())\n",
    "m"
   ],
   "metadata": {
    "collapsed": false
   },
   "id": "1540b870ae83f298"
  },
  {
   "cell_type": "markdown",
   "source": [
    "# Setup flow and head boundary with two observations"
   ],
   "metadata": {
    "collapsed": false
   },
   "id": "62ae3587df801000"
  },
  {
   "cell_type": "code",
   "execution_count": null,
   "outputs": [],
   "source": [
    "from morpheus.project.types.geometry import Point\n",
    "from morpheus.project.types.boundaries.Boundary import BoundaryName, BoundaryCollection\n",
    "from morpheus.project.types.soil_model import LayerId\n",
    "from morpheus.project.types.boundaries.Boundary import FlowAndHeadBoundary\n",
    "from morpheus.project.types.boundaries.FlowAndHeadObservation import ObservationId, FlowAndHeadRawDataItem, \\\n",
    "  FlowAndHeadObservation, Flow, Head, StartDateTime\n",
    "\n",
    "layers_list = [LayerId.new()]\n",
    "\n",
    "head_and_flow_east = FlowAndHeadBoundary.from_geometry(\n",
    "  name=BoundaryName('flow_and_head_east'),\n",
    "  geometry=LineString([\n",
    "    (13.92499, 50.966),\n",
    "    (13.92499, 50.964),\n",
    "  ]),\n",
    "  grid=grid,\n",
    "  affected_layers=[model.soil_model.layers[0].id],\n",
    "  observations=[\n",
    "    FlowAndHeadObservation(\n",
    "      observation_id=ObservationId.new(),\n",
    "      geometry=Point((13.92499, 50.966)),\n",
    "      raw_data=[\n",
    "        FlowAndHeadRawDataItem(\n",
    "          date_time=StartDateTime.from_datetime(datetime(2020, 1, 1)),\n",
    "          flow=Flow.from_float(100),\n",
    "          head=None\n",
    "        ),\n",
    "        FlowAndHeadRawDataItem(\n",
    "          date_time=StartDateTime.from_datetime(datetime(2020, 2, 1)),\n",
    "          flow=Flow.from_float(110),\n",
    "          head=None\n",
    "        ),\n",
    "        FlowAndHeadRawDataItem(\n",
    "          date_time=StartDateTime.from_datetime(datetime(2021, 12, 31)),\n",
    "          flow=Flow.from_float(140),\n",
    "          head=None\n",
    "        ),\n",
    "      ]\n",
    "    ),\n",
    "    FlowAndHeadObservation(\n",
    "      observation_id=ObservationId.new(),\n",
    "      geometry=Point((13.92499, 50.964)),\n",
    "      raw_data=[\n",
    "        FlowAndHeadRawDataItem(\n",
    "          date_time=StartDateTime.from_datetime(datetime(2020, 1, 1)),\n",
    "          flow=Flow.from_float(200),\n",
    "          head=None\n",
    "        ),\n",
    "        FlowAndHeadRawDataItem(\n",
    "          date_time=StartDateTime.from_datetime(datetime(2020, 2, 1)),\n",
    "          flow=Flow.from_float(210),\n",
    "          head=None\n",
    "        ),\n",
    "        FlowAndHeadRawDataItem(\n",
    "          date_time=StartDateTime.from_datetime(datetime(2021, 12, 31)),\n",
    "          flow=Flow.from_float(240),\n",
    "          head=None\n",
    "        ),\n",
    "      ]\n",
    "    ),\n",
    "  ]\n",
    ")\n",
    "\n",
    "head_and_flow_west = FlowAndHeadBoundary.from_geometry(\n",
    "  name=BoundaryName('flow_and_head_west'),\n",
    "  geometry=LineString([\n",
    "    (13.92004, 50.96401),\n",
    "    (13.92004, 50.96599),\n",
    "  ]),\n",
    "  grid=grid,\n",
    "  affected_layers=[model.soil_model.layers[0].id],\n",
    "  observations=[\n",
    "    FlowAndHeadObservation(\n",
    "      observation_id=ObservationId.new(),\n",
    "      geometry=Point((13.92004, 50.96599)),\n",
    "      raw_data=[\n",
    "        FlowAndHeadRawDataItem(\n",
    "          date_time=StartDateTime.from_datetime(datetime(2020, 1, 1)),\n",
    "          head=Head.from_float(300),\n",
    "          flow=None\n",
    "        ),\n",
    "        FlowAndHeadRawDataItem(\n",
    "          date_time=StartDateTime.from_datetime(datetime(2021, 12, 31)),\n",
    "          head=Head.from_float(300),\n",
    "          flow=None\n",
    "        ),\n",
    "      ]\n",
    "    ),\n",
    "    FlowAndHeadObservation(\n",
    "      observation_id=ObservationId.new(),\n",
    "      geometry=Point((13.92004, 50.96401)),\n",
    "      raw_data=[\n",
    "        FlowAndHeadRawDataItem(\n",
    "          date_time=StartDateTime.from_datetime(datetime(2020, 1, 1)),\n",
    "          head=Head.from_float(400),\n",
    "          flow=None\n",
    "        ),\n",
    "        FlowAndHeadRawDataItem(\n",
    "          date_time=StartDateTime.from_datetime(datetime(2021, 12, 31)),\n",
    "          head=Head.from_float(400),\n",
    "          flow=None\n",
    "        ),\n",
    "      ]\n",
    "    ),\n",
    "  ]\n",
    ")\n",
    "\n",
    "boundary_collection = BoundaryCollection.new()\n",
    "boundary_collection.add_boundary(head_and_flow_west)\n",
    "boundary_collection.add_boundary(head_and_flow_east)\n",
    "\n",
    "model = model.with_updated_boundaries(boundaries=boundary_collection)\n",
    "\n",
    "m.add_child(folium.GeoJson(head_and_flow_east.as_geojson()))\n",
    "m.add_child(folium.GeoJson(head_and_flow_east.affected_cells.as_geojson(grid).as_geojson()))\n",
    "for observation in head_and_flow_east.observations:\n",
    "  m.add_child(folium.GeoJson(observation.as_geojson()))\n",
    "\n",
    "m.add_child(folium.GeoJson(head_and_flow_west.as_geojson()))\n",
    "m.add_child(folium.GeoJson(head_and_flow_west.affected_cells.as_geojson(grid).as_geojson()))\n",
    "for observation in head_and_flow_west.observations:\n",
    "  m.add_child(folium.GeoJson(observation.as_geojson()))\n",
    "m.fit_bounds(m.get_bounds())\n",
    "m"
   ],
   "metadata": {
    "collapsed": false
   },
   "id": "53679913aee28ce9"
  },
  {
   "cell_type": "code",
   "execution_count": null,
   "outputs": [],
   "source": [
    "from morpheus.project.types.boundaries.Boundary import BoundaryType\n",
    "\n",
    "len(model.boundaries.get_boundaries_of_type(BoundaryType.flow_and_head()))"
   ],
   "metadata": {
    "collapsed": false
   },
   "id": "f67c7cfc296c2d93"
  },
  {
   "cell_type": "code",
   "execution_count": null,
   "outputs": [],
   "source": [
    "head_and_flow_east.observations"
   ],
   "metadata": {
    "collapsed": false
   },
   "id": "25b4324c4d166cd7"
  },
  {
   "cell_type": "code",
   "execution_count": null,
   "outputs": [],
   "source": [
    "from morpheus.project.infrastructure.calculation.engines.modflow_2005.packages.FhbPackageMapper import \\\n",
    "  calculate_fhb_boundary_stress_period_data\n",
    "\n",
    "result = calculate_fhb_boundary_stress_period_data(model)\n",
    "result.to_dict()"
   ],
   "metadata": {
    "collapsed": false
   },
   "id": "c654c2d566a024fd"
  },
  {
   "cell_type": "markdown",
   "source": [
    "## Calculate"
   ],
   "metadata": {
    "collapsed": false
   },
   "id": "42d948d145a8457a"
  },
  {
   "cell_type": "code",
   "execution_count": null,
   "outputs": [],
   "source": [
    "from morpheus.project.types.calculation.CalculationProfile import CalculationProfile, CalculationType\n",
    "from morpheus.project.types.calculation.Calculation import Calculation\n",
    "\n",
    "calculation_profile = CalculationProfile.new(CalculationType.MF2005)\n",
    "calculation = Calculation.new(model=model, calculation_profile=calculation_profile)"
   ],
   "metadata": {
    "collapsed": false
   },
   "id": "56ccabee86e2397e"
  },
  {
   "cell_type": "code",
   "execution_count": null,
   "outputs": [],
   "source": [
    "calculation = Calculation.from_dict(calculation.to_dict())\n",
    "calculation.calculation_id"
   ],
   "metadata": {
    "collapsed": false
   },
   "id": "e09d94e0a94315cb"
  },
  {
   "cell_type": "code",
   "execution_count": null,
   "outputs": [],
   "source": [
    "from morpheus.project.infrastructure.calculation.services.CalculationService import CalculationService\n",
    "\n",
    "calculation_service = CalculationService.from_calculation(calculation)\n",
    "calculation_service.calculate()"
   ],
   "metadata": {
    "collapsed": false
   },
   "id": "672007fb90753c4c"
  },
  {
   "cell_type": "code",
   "execution_count": null,
   "outputs": [],
   "source": [
    "calculation_service.get_result()"
   ],
   "metadata": {
    "collapsed": false
   },
   "id": "a52d1dd3a1574032"
  },
  {
   "cell_type": "code",
   "execution_count": null,
   "outputs": [],
   "source": [
    "head = calculation_service.read_head(0, 0)"
   ],
   "metadata": {
    "collapsed": false
   },
   "id": "cc43ad077c7a81d0"
  },
  {
   "cell_type": "code",
   "execution_count": null,
   "outputs": [],
   "source": [
    "import simplejson as json\n",
    "\n",
    "json = json.dumps(head, ignore_nan=True)\n",
    "json"
   ],
   "metadata": {
    "collapsed": false
   },
   "id": "12454cc4d9e18de5"
  },
  {
   "cell_type": "code",
   "execution_count": null,
   "outputs": [],
   "source": [
    "calculation_service.read_drawdown(0, 0)"
   ],
   "metadata": {
    "collapsed": false
   },
   "id": "df7dfd8ff0308815"
  },
  {
   "cell_type": "code",
   "execution_count": null,
   "outputs": [],
   "source": [
    "calculation_service.read_budget(0, False)"
   ],
   "metadata": {
    "collapsed": false
   },
   "id": "b233f4066b56c174"
  },
  {
   "cell_type": "code",
   "execution_count": null,
   "outputs": [],
   "source": [
    "calculation_service.read_budget(0, True)"
   ],
   "metadata": {
    "collapsed": false
   },
   "id": "634709d741f5c252"
  },
  {
   "cell_type": "code",
   "execution_count": null,
   "outputs": [],
   "source": [
    "calculation_service.get_result()"
   ],
   "metadata": {
    "collapsed": false
   },
   "id": "26523066436690e6"
  },
  {
   "cell_type": "code",
   "execution_count": null,
   "outputs": [],
   "source": [
    "import matplotlib.pyplot as plt\n",
    "\n",
    "heads = calculation_service.read_head(0, 0)\n",
    "plt.subplot(2, 1, 1)\n",
    "plt.imshow(heads, cmap='jet_r')\n",
    "plt.colorbar()\n",
    "plt.show()"
   ],
   "metadata": {
    "collapsed": false
   },
   "id": "160abd7d290c83f7"
  }
 ],
 "metadata": {
  "kernelspec": {
   "display_name": "Python 3",
   "language": "python",
   "name": "python3"
  },
  "language_info": {
   "codemirror_mode": {
    "name": "ipython",
    "version": 2
   },
   "file_extension": ".py",
   "mimetype": "text/x-python",
   "name": "python",
   "nbconvert_exporter": "python",
   "pygments_lexer": "ipython2",
   "version": "2.7.6"
  }
 },
 "nbformat": 4,
 "nbformat_minor": 5
}
