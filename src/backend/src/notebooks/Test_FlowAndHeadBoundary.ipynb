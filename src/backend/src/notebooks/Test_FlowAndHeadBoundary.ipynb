{
 "cells": [
  {
   "cell_type": "code",
   "execution_count": 1,
   "id": "ba6761fae9d5e5cb",
   "metadata": {
    "ExecuteTime": {
     "end_time": "2024-05-14T08:11:05.873423Z",
     "start_time": "2024-05-14T08:11:05.870196Z"
    },
    "collapsed": false,
    "execution": {
     "iopub.execute_input": "2024-05-15T16:01:01.255244Z",
     "iopub.status.busy": "2024-05-15T16:01:01.255070Z",
     "iopub.status.idle": "2024-05-15T16:01:01.257723Z",
     "shell.execute_reply": "2024-05-15T16:01:01.257462Z"
    },
    "papermill": {
     "duration": 0.012274,
     "end_time": "2024-05-15T16:01:01.258634",
     "exception": false,
     "start_time": "2024-05-15T16:01:01.246360",
     "status": "completed"
    },
    "tags": []
   },
   "source": [
    "import sys\n",
    "\n",
    "sys.path.insert(0, '..')"
   ],
   "outputs": []
  },
  {
   "cell_type": "markdown",
   "id": "5ede1ba5e0993dd1",
   "metadata": {
    "collapsed": false,
    "papermill": {
     "duration": 0.002476,
     "end_time": "2024-05-15T16:01:01.263554",
     "exception": false,
     "start_time": "2024-05-15T16:01:01.261078",
     "status": "completed"
    },
    "tags": []
   },
   "source": [
    "## Setup the model area"
   ]
  },
  {
   "cell_type": "code",
   "execution_count": 2,
   "id": "2f69504ab35487aa",
   "metadata": {
    "ExecuteTime": {
     "end_time": "2024-05-14T08:11:06.481257Z",
     "start_time": "2024-05-14T08:11:05.874435Z"
    },
    "collapsed": false,
    "execution": {
     "iopub.execute_input": "2024-05-15T16:01:01.268540Z",
     "iopub.status.busy": "2024-05-15T16:01:01.268408Z",
     "iopub.status.idle": "2024-05-15T16:01:01.802114Z",
     "shell.execute_reply": "2024-05-15T16:01:01.801826Z"
    },
    "papermill": {
     "duration": 0.53757,
     "end_time": "2024-05-15T16:01:01.803253",
     "exception": false,
     "start_time": "2024-05-15T16:01:01.265683",
     "status": "completed"
    },
    "tags": []
   },
   "source": [
    "from morpheus.project.types.discretization import SpatialDiscretization\n",
    "from morpheus.project.types.discretization.spatial import Rotation, Grid, Crs\n",
    "from morpheus.project.types.geometry import Polygon, LineString\n",
    "\n",
    "polygon = Polygon(\n",
    "  type='Polygon',\n",
    "  coordinates=[[\n",
    "    (13.92, 50.964),\n",
    "    (13.92, 50.966),\n",
    "    (13.925, 50.966),\n",
    "    (13.925, 50.964),\n",
    "    (13.92, 50.964)\n",
    "  ]]\n",
    ")\n",
    "\n",
    "rotation = Rotation(0)\n",
    "\n",
    "grid = Grid.cartesian_from_polygon(polygon=polygon, n_cols=100, n_rows=50, rotation=rotation)\n",
    "spatial_discretization = SpatialDiscretization.from_geometry_with_grid(\n",
    "  geometry=polygon,\n",
    "  grid=grid,\n",
    "  crs=Crs.from_str('EPSG:4326')\n",
    ")"
   ],
   "outputs": []
  },
  {
   "cell_type": "markdown",
   "id": "fa27e67f9d801845",
   "metadata": {
    "collapsed": false,
    "papermill": {
     "duration": 0.002041,
     "end_time": "2024-05-15T16:01:01.807720",
     "exception": false,
     "start_time": "2024-05-15T16:01:01.805679",
     "status": "completed"
    },
    "tags": []
   },
   "source": [
    "## Setup Time Discretization"
   ]
  },
  {
   "cell_type": "code",
   "execution_count": 3,
   "id": "8e4e63dd138db9fc",
   "metadata": {
    "ExecuteTime": {
     "end_time": "2024-05-14T08:11:06.484397Z",
     "start_time": "2024-05-14T08:11:06.481894Z"
    },
    "collapsed": false,
    "execution": {
     "iopub.execute_input": "2024-05-15T16:01:01.812466Z",
     "iopub.status.busy": "2024-05-15T16:01:01.812312Z",
     "iopub.status.idle": "2024-05-15T16:01:01.814815Z",
     "shell.execute_reply": "2024-05-15T16:01:01.814559Z"
    },
    "papermill": {
     "duration": 0.005856,
     "end_time": "2024-05-15T16:01:01.815627",
     "exception": false,
     "start_time": "2024-05-15T16:01:01.809771",
     "status": "completed"
    },
    "tags": []
   },
   "source": [
    "from morpheus.project.types.discretization.time.TimeUnit import TimeUnit\n",
    "from morpheus.project.types.discretization.time.Stressperiods import StartDateTime, StressPeriodCollection, \\\n",
    "  StressPeriod, NumberOfTimeSteps, TimeStepMultiplier, IsSteadyState\n",
    "from morpheus.project.types.discretization.time import TimeDiscretization\n",
    "from datetime import datetime\n",
    "\n",
    "time_discretization = TimeDiscretization(\n",
    "  start_date_time=StartDateTime.from_datetime(datetime(2020, 1, 1)),\n",
    "  end_date_time=StartDateTime.from_datetime(datetime(2020, 12, 31)),\n",
    "  stress_periods=StressPeriodCollection([\n",
    "    StressPeriod(\n",
    "      start_date_time=StartDateTime.from_datetime(datetime(2020, 1, 1)),\n",
    "      number_of_time_steps=NumberOfTimeSteps(1),\n",
    "      time_step_multiplier=TimeStepMultiplier(1),\n",
    "      steady_state=IsSteadyState.yes()\n",
    "    ),\n",
    "  ]),\n",
    "  time_unit=TimeUnit.days()\n",
    ")"
   ],
   "outputs": []
  },
  {
   "cell_type": "markdown",
   "id": "963ba8729f09fcec",
   "metadata": {
    "collapsed": false,
    "papermill": {
     "duration": 0.001987,
     "end_time": "2024-05-15T16:01:01.819795",
     "exception": false,
     "start_time": "2024-05-15T16:01:01.817808",
     "status": "completed"
    },
    "tags": []
   },
   "source": [
    "# Setup Model"
   ]
  },
  {
   "cell_type": "code",
   "execution_count": 4,
   "id": "1d5c9125b1b9360b",
   "metadata": {
    "ExecuteTime": {
     "end_time": "2024-05-14T08:11:06.889442Z",
     "start_time": "2024-05-14T08:11:06.485025Z"
    },
    "collapsed": false,
    "execution": {
     "iopub.execute_input": "2024-05-15T16:01:01.824858Z",
     "iopub.status.busy": "2024-05-15T16:01:01.824709Z",
     "iopub.status.idle": "2024-05-15T16:01:02.164169Z",
     "shell.execute_reply": "2024-05-15T16:01:02.163860Z"
    },
    "papermill": {
     "duration": 0.343265,
     "end_time": "2024-05-15T16:01:02.165175",
     "exception": false,
     "start_time": "2024-05-15T16:01:01.821910",
     "status": "completed"
    },
    "tags": []
   },
   "source": [
    "from morpheus.project.types.Model import Model\n",
    "\n",
    "model = Model.new()\n",
    "model = model.with_updated_time_discretization(time_discretization)\n",
    "model = model.with_updated_spatial_discretization(spatial_discretization=spatial_discretization)"
   ],
   "outputs": []
  },
  {
   "cell_type": "code",
   "execution_count": 5,
   "id": "1540b870ae83f298",
   "metadata": {
    "ExecuteTime": {
     "end_time": "2024-05-14T08:11:07.065798Z",
     "start_time": "2024-05-14T08:11:06.891037Z"
    },
    "collapsed": false,
    "execution": {
     "iopub.execute_input": "2024-05-15T16:01:02.170159Z",
     "iopub.status.busy": "2024-05-15T16:01:02.169899Z",
     "iopub.status.idle": "2024-05-15T16:01:02.320246Z",
     "shell.execute_reply": "2024-05-15T16:01:02.320001Z"
    },
    "papermill": {
     "duration": 0.153679,
     "end_time": "2024-05-15T16:01:02.321107",
     "exception": false,
     "start_time": "2024-05-15T16:01:02.167428",
     "status": "completed"
    },
    "tags": []
   },
   "source": [
    "import folium\n",
    "\n",
    "m = folium.Map(tiles=\"cartodbpositron\", crs=\"EPSG3857\", zoom_start=12, location=[50.965, 13.922])\n",
    "m.add_child(folium.GeoJson(polygon.as_geojson()))\n",
    "\n",
    "m.fit_bounds(m.get_bounds())\n",
    "m"
   ],
   "outputs": []
  },
  {
   "cell_type": "markdown",
   "id": "62ae3587df801000",
   "metadata": {
    "collapsed": false,
    "papermill": {
     "duration": 0.00223,
     "end_time": "2024-05-15T16:01:02.325748",
     "exception": false,
     "start_time": "2024-05-15T16:01:02.323518",
     "status": "completed"
    },
    "tags": []
   },
   "source": [
    "# Setup flow and head boundary with two observations"
   ]
  },
  {
   "cell_type": "code",
   "execution_count": 6,
   "id": "53679913aee28ce9",
   "metadata": {
    "ExecuteTime": {
     "end_time": "2024-05-14T08:11:08.138612Z",
     "start_time": "2024-05-14T08:11:07.066825Z"
    },
    "collapsed": false,
    "execution": {
     "iopub.execute_input": "2024-05-15T16:01:02.330595Z",
     "iopub.status.busy": "2024-05-15T16:01:02.330400Z",
     "iopub.status.idle": "2024-05-15T16:01:03.297155Z",
     "shell.execute_reply": "2024-05-15T16:01:03.296876Z"
    },
    "papermill": {
     "duration": 0.970168,
     "end_time": "2024-05-15T16:01:03.298020",
     "exception": false,
     "start_time": "2024-05-15T16:01:02.327852",
     "status": "completed"
    },
    "tags": []
   },
   "source": [
    "from morpheus.project.types.boundaries.Observation import ObservationName\n",
    "from morpheus.project.types.geometry import Point\n",
    "from morpheus.project.types.boundaries.Boundary import BoundaryName, BoundaryCollection\n",
    "from morpheus.project.types.boundaries.Boundary import FlowAndHeadBoundary\n",
    "from morpheus.project.types.boundaries.FlowAndHeadObservation import ObservationId, FlowAndHeadRawDataItem, \\\n",
    "  FlowAndHeadObservation, Flow, Head, StartDateTime\n",
    "\n",
    "head_and_flow_east = FlowAndHeadBoundary.from_geometry(\n",
    "  name=BoundaryName('flow_and_head_east'),\n",
    "  geometry=LineString([\n",
    "    (13.92499, 50.966),\n",
    "    (13.92499, 50.964),\n",
    "  ]),\n",
    "  grid=grid,\n",
    "  affected_layers=[model.layers[0].layer_id],\n",
    "  observations=[\n",
    "    FlowAndHeadObservation(\n",
    "      observation_id=ObservationId.new(),\n",
    "      observation_name=ObservationName.default(),\n",
    "      geometry=Point((13.92499, 50.966)),\n",
    "      data=[\n",
    "        FlowAndHeadRawDataItem(\n",
    "          date_time=StartDateTime.from_datetime(datetime(2020, 1, 1)),\n",
    "          flow=Flow.from_float(100),\n",
    "          head=None\n",
    "        ),\n",
    "        FlowAndHeadRawDataItem(\n",
    "          date_time=StartDateTime.from_datetime(datetime(2020, 2, 1)),\n",
    "          flow=Flow.from_float(110),\n",
    "          head=None\n",
    "        ),\n",
    "        FlowAndHeadRawDataItem(\n",
    "          date_time=StartDateTime.from_datetime(datetime(2021, 12, 31)),\n",
    "          flow=Flow.from_float(140),\n",
    "          head=None\n",
    "        ),\n",
    "      ]\n",
    "    ),\n",
    "    FlowAndHeadObservation(\n",
    "      observation_id=ObservationId.new(),\n",
    "      observation_name=ObservationName.default(),\n",
    "      geometry=Point((13.92499, 50.964)),\n",
    "      data=[\n",
    "        FlowAndHeadRawDataItem(\n",
    "          date_time=StartDateTime.from_datetime(datetime(2020, 1, 1)),\n",
    "          flow=Flow.from_float(200),\n",
    "          head=None\n",
    "        ),\n",
    "        FlowAndHeadRawDataItem(\n",
    "          date_time=StartDateTime.from_datetime(datetime(2020, 2, 1)),\n",
    "          flow=Flow.from_float(210),\n",
    "          head=None\n",
    "        ),\n",
    "        FlowAndHeadRawDataItem(\n",
    "          date_time=StartDateTime.from_datetime(datetime(2021, 12, 31)),\n",
    "          flow=Flow.from_float(240),\n",
    "          head=None\n",
    "        ),\n",
    "      ]\n",
    "    ),\n",
    "  ]\n",
    ")\n",
    "\n",
    "head_and_flow_west = FlowAndHeadBoundary.from_geometry(\n",
    "  name=BoundaryName('flow_and_head_west'),\n",
    "  geometry=LineString([\n",
    "    (13.92004, 50.96401),\n",
    "    (13.92004, 50.96599),\n",
    "  ]),\n",
    "  grid=grid,\n",
    "  affected_layers=[model.layers[0].layer_id],\n",
    "  observations=[\n",
    "    FlowAndHeadObservation(\n",
    "      observation_id=ObservationId.new(),\n",
    "      observation_name=ObservationName.default(),\n",
    "      geometry=Point((13.92004, 50.96599)),\n",
    "      data=[\n",
    "        FlowAndHeadRawDataItem(\n",
    "          date_time=StartDateTime.from_datetime(datetime(2020, 1, 1)),\n",
    "          head=Head.from_float(300),\n",
    "          flow=None\n",
    "        ),\n",
    "        FlowAndHeadRawDataItem(\n",
    "          date_time=StartDateTime.from_datetime(datetime(2021, 12, 31)),\n",
    "          head=Head.from_float(300),\n",
    "          flow=None\n",
    "        ),\n",
    "      ]\n",
    "    ),\n",
    "    FlowAndHeadObservation(\n",
    "      observation_id=ObservationId.new(),\n",
    "      observation_name=ObservationName.default(),\n",
    "      geometry=Point((13.92004, 50.96401)),\n",
    "      data=[\n",
    "        FlowAndHeadRawDataItem(\n",
    "          date_time=StartDateTime.from_datetime(datetime(2020, 1, 1)),\n",
    "          head=Head.from_float(400),\n",
    "          flow=None\n",
    "        ),\n",
    "        FlowAndHeadRawDataItem(\n",
    "          date_time=StartDateTime.from_datetime(datetime(2021, 12, 31)),\n",
    "          head=Head.from_float(400),\n",
    "          flow=None\n",
    "        ),\n",
    "      ]\n",
    "    ),\n",
    "  ]\n",
    ")\n",
    "\n",
    "boundary_collection = BoundaryCollection.new()\n",
    "boundary_collection.add_boundary(head_and_flow_west)\n",
    "boundary_collection.add_boundary(head_and_flow_east)\n",
    "\n",
    "model = model.with_updated_boundaries(boundaries=boundary_collection)\n",
    "\n",
    "m.add_child(folium.GeoJson(head_and_flow_east.as_geojson()))\n",
    "m.add_child(folium.GeoJson(head_and_flow_east.affected_cells.to_geojson(grid).as_geojson()))\n",
    "for observation in head_and_flow_east.observations:\n",
    "  m.add_child(folium.GeoJson(observation.as_geojson()))\n",
    "\n",
    "m.add_child(folium.GeoJson(head_and_flow_west.as_geojson()))\n",
    "m.add_child(folium.GeoJson(head_and_flow_west.affected_cells.to_geojson(grid).as_geojson()))\n",
    "for observation in head_and_flow_west.observations:\n",
    "  m.add_child(folium.GeoJson(observation.as_geojson()))\n",
    "m.fit_bounds(m.get_bounds())\n",
    "m"
   ],
   "outputs": []
  },
  {
   "cell_type": "code",
   "execution_count": 7,
   "id": "f67c7cfc296c2d93",
   "metadata": {
    "ExecuteTime": {
     "end_time": "2024-05-14T08:11:08.142322Z",
     "start_time": "2024-05-14T08:11:08.139368Z"
    },
    "collapsed": false,
    "execution": {
     "iopub.execute_input": "2024-05-15T16:01:03.303757Z",
     "iopub.status.busy": "2024-05-15T16:01:03.303644Z",
     "iopub.status.idle": "2024-05-15T16:01:03.305806Z",
     "shell.execute_reply": "2024-05-15T16:01:03.305580Z"
    },
    "papermill": {
     "duration": 0.005794,
     "end_time": "2024-05-15T16:01:03.306566",
     "exception": false,
     "start_time": "2024-05-15T16:01:03.300772",
     "status": "completed"
    },
    "tags": []
   },
   "source": [
    "from morpheus.project.types.boundaries.Boundary import BoundaryType\n",
    "\n",
    "len(model.boundaries.get_boundaries_of_type(BoundaryType.flow_and_head()))"
   ],
   "outputs": []
  },
  {
   "cell_type": "code",
   "execution_count": 8,
   "id": "25b4324c4d166cd7",
   "metadata": {
    "ExecuteTime": {
     "end_time": "2024-05-14T08:11:08.145679Z",
     "start_time": "2024-05-14T08:11:08.143052Z"
    },
    "collapsed": false,
    "execution": {
     "iopub.execute_input": "2024-05-15T16:01:03.311741Z",
     "iopub.status.busy": "2024-05-15T16:01:03.311645Z",
     "iopub.status.idle": "2024-05-15T16:01:03.313655Z",
     "shell.execute_reply": "2024-05-15T16:01:03.313444Z"
    },
    "papermill": {
     "duration": 0.005447,
     "end_time": "2024-05-15T16:01:03.314388",
     "exception": false,
     "start_time": "2024-05-15T16:01:03.308941",
     "status": "completed"
    },
    "tags": []
   },
   "source": [
    "head_and_flow_east.observations"
   ],
   "outputs": []
  },
  {
   "cell_type": "code",
   "execution_count": 9,
   "id": "c654c2d566a024fd",
   "metadata": {
    "ExecuteTime": {
     "end_time": "2024-05-14T08:11:09.082532Z",
     "start_time": "2024-05-14T08:11:08.146349Z"
    },
    "collapsed": false,
    "execution": {
     "iopub.execute_input": "2024-05-15T16:01:03.319782Z",
     "iopub.status.busy": "2024-05-15T16:01:03.319680Z",
     "iopub.status.idle": "2024-05-15T16:01:04.105508Z",
     "shell.execute_reply": "2024-05-15T16:01:04.105257Z"
    },
    "papermill": {
     "duration": 0.789528,
     "end_time": "2024-05-15T16:01:04.106350",
     "exception": false,
     "start_time": "2024-05-15T16:01:03.316822",
     "status": "completed"
    },
    "tags": []
   },
   "source": [
    "from morpheus.project.infrastructure.calculation.engines.modflow_2005.packages.FhbPackageMapper import \\\n",
    "  calculate_fhb_boundary_stress_period_data\n",
    "\n",
    "result = calculate_fhb_boundary_stress_period_data(model)\n",
    "result.to_dict()"
   ],
   "outputs": []
  },
  {
   "cell_type": "markdown",
   "id": "42d948d145a8457a",
   "metadata": {
    "collapsed": false,
    "papermill": {
     "duration": 0.002808,
     "end_time": "2024-05-15T16:01:04.112053",
     "exception": false,
     "start_time": "2024-05-15T16:01:04.109245",
     "status": "completed"
    },
    "tags": []
   },
   "source": [
    "## Calculate"
   ]
  },
  {
   "cell_type": "code",
   "execution_count": 10,
   "id": "56ccabee86e2397e",
   "metadata": {
    "ExecuteTime": {
     "end_time": "2024-05-14T08:11:09.101144Z",
     "start_time": "2024-05-14T08:11:09.084237Z"
    },
    "collapsed": false,
    "execution": {
     "iopub.execute_input": "2024-05-15T16:01:04.118015Z",
     "iopub.status.busy": "2024-05-15T16:01:04.117826Z",
     "iopub.status.idle": "2024-05-15T16:01:04.129685Z",
     "shell.execute_reply": "2024-05-15T16:01:04.129421Z"
    },
    "papermill": {
     "duration": 0.016003,
     "end_time": "2024-05-15T16:01:04.130593",
     "exception": false,
     "start_time": "2024-05-15T16:01:04.114590",
     "status": "completed"
    },
    "tags": []
   },
   "source": [
    "from morpheus.project.types.calculation.CalculationProfile import CalculationProfile, CalculationEngineType\n",
    "from morpheus.project.types.calculation.Calculation import Calculation\n",
    "\n",
    "calculation_profile = CalculationProfile.new(CalculationEngineType.MF2005)\n",
    "calculation = Calculation.new(model=model, calculation_profile=calculation_profile)"
   ],
   "outputs": []
  },
  {
   "cell_type": "code",
   "execution_count": 11,
   "id": "e09d94e0a94315cb",
   "metadata": {
    "ExecuteTime": {
     "end_time": "2024-05-14T08:11:09.110757Z",
     "start_time": "2024-05-14T08:11:09.102602Z"
    },
    "collapsed": false,
    "execution": {
     "iopub.execute_input": "2024-05-15T16:01:04.136706Z",
     "iopub.status.busy": "2024-05-15T16:01:04.136570Z",
     "iopub.status.idle": "2024-05-15T16:01:04.141737Z",
     "shell.execute_reply": "2024-05-15T16:01:04.141527Z"
    },
    "papermill": {
     "duration": 0.008927,
     "end_time": "2024-05-15T16:01:04.142449",
     "exception": false,
     "start_time": "2024-05-15T16:01:04.133522",
     "status": "completed"
    },
    "tags": []
   },
   "source": [
    "calculation = Calculation.from_dict(calculation.to_dict())\n",
    "calculation.calculation_id"
   ],
   "outputs": []
  },
  {
   "cell_type": "code",
   "execution_count": 12,
   "id": "672007fb90753c4c",
   "metadata": {
    "ExecuteTime": {
     "end_time": "2024-05-14T08:11:10.085104Z",
     "start_time": "2024-05-14T08:11:09.112412Z"
    },
    "collapsed": false,
    "execution": {
     "iopub.execute_input": "2024-05-15T16:01:04.148271Z",
     "iopub.status.busy": "2024-05-15T16:01:04.148149Z",
     "iopub.status.idle": "2024-05-15T16:01:05.512065Z",
     "shell.execute_reply": "2024-05-15T16:01:05.511709Z"
    },
    "papermill": {
     "duration": 1.367949,
     "end_time": "2024-05-15T16:01:05.513079",
     "exception": false,
     "start_time": "2024-05-15T16:01:04.145130",
     "status": "completed"
    },
    "tags": []
   },
   "source": [
    "from morpheus.project.infrastructure.calculation.services.CalculationService import CalculationService\n",
    "\n",
    "calculation_service = CalculationService.from_calculation(calculation)\n",
    "calculation_service.calculate()"
   ],
   "outputs": []
  },
  {
   "cell_type": "code",
   "execution_count": 13,
   "id": "a52d1dd3a1574032",
   "metadata": {
    "ExecuteTime": {
     "end_time": "2024-05-14T08:11:10.088646Z",
     "start_time": "2024-05-14T08:11:10.085947Z"
    },
    "collapsed": false,
    "execution": {
     "iopub.execute_input": "2024-05-15T16:01:05.522302Z",
     "iopub.status.busy": "2024-05-15T16:01:05.521854Z",
     "iopub.status.idle": "2024-05-15T16:01:05.524889Z",
     "shell.execute_reply": "2024-05-15T16:01:05.524628Z"
    },
    "papermill": {
     "duration": 0.00838,
     "end_time": "2024-05-15T16:01:05.525683",
     "exception": false,
     "start_time": "2024-05-15T16:01:05.517303",
     "status": "completed"
    },
    "tags": []
   },
   "source": [
    "calculation_service.get_result()"
   ],
   "outputs": []
  },
  {
   "cell_type": "code",
   "execution_count": 14,
   "id": "cc43ad077c7a81d0",
   "metadata": {
    "ExecuteTime": {
     "end_time": "2024-05-14T08:11:10.093508Z",
     "start_time": "2024-05-14T08:11:10.091130Z"
    },
    "collapsed": false,
    "execution": {
     "iopub.execute_input": "2024-05-15T16:01:05.534057Z",
     "iopub.status.busy": "2024-05-15T16:01:05.533862Z",
     "iopub.status.idle": "2024-05-15T16:01:05.536594Z",
     "shell.execute_reply": "2024-05-15T16:01:05.536312Z"
    },
    "papermill": {
     "duration": 0.008228,
     "end_time": "2024-05-15T16:01:05.537443",
     "exception": false,
     "start_time": "2024-05-15T16:01:05.529215",
     "status": "completed"
    },
    "tags": []
   },
   "source": [
    "head = calculation_service.read_head(0, 0)"
   ],
   "outputs": []
  },
  {
   "cell_type": "code",
   "execution_count": 15,
   "id": "12454cc4d9e18de5",
   "metadata": {
    "ExecuteTime": {
     "end_time": "2024-05-14T08:11:10.099720Z",
     "start_time": "2024-05-14T08:11:10.094191Z"
    },
    "collapsed": false,
    "execution": {
     "iopub.execute_input": "2024-05-15T16:01:05.544624Z",
     "iopub.status.busy": "2024-05-15T16:01:05.544501Z",
     "iopub.status.idle": "2024-05-15T16:01:05.549403Z",
     "shell.execute_reply": "2024-05-15T16:01:05.549189Z"
    },
    "papermill": {
     "duration": 0.009273,
     "end_time": "2024-05-15T16:01:05.550142",
     "exception": false,
     "start_time": "2024-05-15T16:01:05.540869",
     "status": "completed"
    },
    "tags": []
   },
   "source": [
    "import simplejson as json\n",
    "\n",
    "json = json.dumps(head, ignore_nan=True)\n",
    "json"
   ],
   "outputs": []
  },
  {
   "cell_type": "code",
   "execution_count": 16,
   "id": "df7dfd8ff0308815",
   "metadata": {
    "ExecuteTime": {
     "end_time": "2024-05-14T08:11:10.103798Z",
     "start_time": "2024-05-14T08:11:10.100661Z"
    },
    "collapsed": false,
    "execution": {
     "iopub.execute_input": "2024-05-15T16:01:05.558050Z",
     "iopub.status.busy": "2024-05-15T16:01:05.557943Z",
     "iopub.status.idle": "2024-05-15T16:01:05.560058Z",
     "shell.execute_reply": "2024-05-15T16:01:05.559820Z"
    },
    "papermill": {
     "duration": 0.006792,
     "end_time": "2024-05-15T16:01:05.560869",
     "exception": false,
     "start_time": "2024-05-15T16:01:05.554077",
     "status": "completed"
    },
    "tags": []
   },
   "source": [
    "calculation_service.read_drawdown(0, 0)"
   ],
   "outputs": []
  },
  {
   "cell_type": "code",
   "execution_count": 17,
   "id": "b233f4066b56c174",
   "metadata": {
    "ExecuteTime": {
     "end_time": "2024-05-14T08:11:10.108149Z",
     "start_time": "2024-05-14T08:11:10.104551Z"
    },
    "collapsed": false,
    "execution": {
     "iopub.execute_input": "2024-05-15T16:01:05.568444Z",
     "iopub.status.busy": "2024-05-15T16:01:05.568335Z",
     "iopub.status.idle": "2024-05-15T16:01:05.571411Z",
     "shell.execute_reply": "2024-05-15T16:01:05.571186Z"
    },
    "papermill": {
     "duration": 0.007787,
     "end_time": "2024-05-15T16:01:05.572213",
     "exception": false,
     "start_time": "2024-05-15T16:01:05.564426",
     "status": "completed"
    },
    "tags": []
   },
   "source": [
    "calculation_service.read_budget(0, False)"
   ],
   "outputs": []
  },
  {
   "cell_type": "code",
   "execution_count": 18,
   "id": "634709d741f5c252",
   "metadata": {
    "ExecuteTime": {
     "end_time": "2024-05-14T08:11:10.112432Z",
     "start_time": "2024-05-14T08:11:10.108785Z"
    },
    "collapsed": false,
    "execution": {
     "iopub.execute_input": "2024-05-15T16:01:05.580174Z",
     "iopub.status.busy": "2024-05-15T16:01:05.580033Z",
     "iopub.status.idle": "2024-05-15T16:01:05.583188Z",
     "shell.execute_reply": "2024-05-15T16:01:05.582932Z"
    },
    "papermill": {
     "duration": 0.007938,
     "end_time": "2024-05-15T16:01:05.583911",
     "exception": false,
     "start_time": "2024-05-15T16:01:05.575973",
     "status": "completed"
    },
    "tags": []
   },
   "source": [
    "calculation_service.read_budget(0, True)"
   ],
   "outputs": []
  },
  {
   "cell_type": "code",
   "execution_count": 19,
   "id": "26523066436690e6",
   "metadata": {
    "ExecuteTime": {
     "end_time": "2024-05-14T08:11:10.115150Z",
     "start_time": "2024-05-14T08:11:10.113092Z"
    },
    "collapsed": false,
    "execution": {
     "iopub.execute_input": "2024-05-15T16:01:05.591962Z",
     "iopub.status.busy": "2024-05-15T16:01:05.591855Z",
     "iopub.status.idle": "2024-05-15T16:01:05.593827Z",
     "shell.execute_reply": "2024-05-15T16:01:05.593578Z"
    },
    "papermill": {
     "duration": 0.006859,
     "end_time": "2024-05-15T16:01:05.594543",
     "exception": false,
     "start_time": "2024-05-15T16:01:05.587684",
     "status": "completed"
    },
    "tags": []
   },
   "source": [
    "calculation_service.get_result()"
   ],
   "outputs": []
  },
  {
   "cell_type": "code",
   "execution_count": 20,
   "id": "160abd7d290c83f7",
   "metadata": {
    "ExecuteTime": {
     "end_time": "2024-05-14T08:11:10.250465Z",
     "start_time": "2024-05-14T08:11:10.115925Z"
    },
    "collapsed": false,
    "execution": {
     "iopub.execute_input": "2024-05-15T16:01:05.602448Z",
     "iopub.status.busy": "2024-05-15T16:01:05.602342Z",
     "iopub.status.idle": "2024-05-15T16:01:05.729004Z",
     "shell.execute_reply": "2024-05-15T16:01:05.726896Z"
    },
    "papermill": {
     "duration": 0.133457,
     "end_time": "2024-05-15T16:01:05.731631",
     "exception": false,
     "start_time": "2024-05-15T16:01:05.598174",
     "status": "completed"
    },
    "tags": []
   },
   "source": [
    "import matplotlib.pyplot as plt\n",
    "\n",
    "heads = calculation_service.read_head(0, 0)\n",
    "plt.subplot(2, 1, 1)\n",
    "plt.imshow(heads, cmap='jet_r')\n",
    "plt.colorbar()\n",
    "plt.show()"
   ],
   "outputs": []
  }
 ],
 "metadata": {
  "kernelspec": {
   "display_name": "Python 3",
   "language": "python",
   "name": "python3"
  },
  "language_info": {
   "codemirror_mode": {
    "name": "ipython",
    "version": 3
   },
   "file_extension": ".py",
   "mimetype": "text/x-python",
   "name": "python",
   "nbconvert_exporter": "python",
   "pygments_lexer": "ipython3",
   "version": "3.12.2"
  },
  "papermill": {
   "default_parameters": {},
   "duration": 5.733356,
   "end_time": "2024-05-15T16:01:06.364342",
   "environment_variables": {},
   "exception": null,
   "input_path": "./notebooks/Test_FlowAndHeadBoundary.ipynb",
   "output_path": "./notebooks/Test_FlowAndHeadBoundary.ipynb",
   "parameters": {},
   "start_time": "2024-05-15T16:01:00.630986",
   "version": "2.6.0"
  }
 },
 "nbformat": 4,
 "nbformat_minor": 5
}
