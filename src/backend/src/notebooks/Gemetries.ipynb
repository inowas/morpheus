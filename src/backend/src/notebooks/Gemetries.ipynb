{
 "cells": [
  {
   "cell_type": "code",
   "execution_count": 1,
   "id": "ba6761fae9d5e5cb",
   "metadata": {
    "ExecuteTime": {
     "end_time": "2024-08-21T20:27:57.899788Z",
     "start_time": "2024-08-21T20:27:57.893527Z"
    },
    "collapsed": false,
    "execution": {
     "iopub.execute_input": "2024-08-21T20:30:24.961283Z",
     "iopub.status.busy": "2024-08-21T20:30:24.960692Z",
     "iopub.status.idle": "2024-08-21T20:30:24.966728Z",
     "shell.execute_reply": "2024-08-21T20:30:24.966087Z"
    },
    "papermill": {
     "duration": 0.016588,
     "end_time": "2024-08-21T20:30:24.968768",
     "exception": false,
     "start_time": "2024-08-21T20:30:24.952180",
     "status": "completed"
    },
    "tags": []
   },
   "outputs": [],
   "source": [
    "import sys\n",
    "\n",
    "sys.path.insert(0, '..')"
   ]
  },
  {
   "cell_type": "code",
   "execution_count": 2,
   "id": "2f69504ab35487aa",
   "metadata": {
    "ExecuteTime": {
     "end_time": "2024-08-21T20:27:58.061100Z",
     "start_time": "2024-08-21T20:27:57.903157Z"
    },
    "execution": {
     "iopub.execute_input": "2024-08-21T20:30:24.976136Z",
     "iopub.status.busy": "2024-08-21T20:30:24.975823Z",
     "iopub.status.idle": "2024-08-21T20:30:25.258240Z",
     "shell.execute_reply": "2024-08-21T20:30:25.231808Z"
    },
    "papermill": {
     "duration": 0.293011,
     "end_time": "2024-08-21T20:30:25.265061",
     "exception": false,
     "start_time": "2024-08-21T20:30:24.972050",
     "status": "completed"
    },
    "tags": []
   },
   "outputs": [
    {
     "data": {
      "image/svg+xml": [
       "<svg xmlns=\"http://www.w3.org/2000/svg\" xmlns:xlink=\"http://www.w3.org/1999/xlink\" width=\"100.0\" height=\"100.0\" viewBox=\"13.922103355396551 50.96459942843651 0.0032684814178907118 0.0018120301344382028\" preserveAspectRatio=\"xMinYMin meet\"><g transform=\"matrix(1,0,0,-1,0,101.93101088700746)\"><path fill-rule=\"evenodd\" fill=\"#ff3333\" stroke=\"#555555\" stroke-width=\"6.536962835781423e-05\" opacity=\"0.6\" d=\"M 13.922514437551428,50.964720483303836 L 13.925250781947113,50.965228748412386 L 13.925036413951403,50.96623732041704 L 13.92222441026388,50.96629040370362 L 13.922514437551428,50.964720483303836 z M 13.922514437551428,50.964720483303836 L 13.924250781947112,50.965 L 13.924036413951402,50.96623732041704 L 13.92222441026388,50.96629040370362 L 13.922514437551428,50.964720483303836 z\" /></g></svg>"
      ],
      "text/plain": [
       "<POLYGON ((13.923 50.965, 13.925 50.965, 13.925 50.966, 13.922 50.966, 13.92...>"
      ]
     },
     "execution_count": 2,
     "metadata": {},
     "output_type": "execute_result"
    }
   ],
   "source": [
    "from morpheus.project.types.geometry import Polygon, LineString, MultiPolygon\n",
    "\n",
    "polygon = Polygon(\n",
    "  type='Polygon',\n",
    "  coordinates=[[\n",
    "    (13.922514437551428, 50.964720483303836),\n",
    "    (13.925250781947113, 50.965228748412386),\n",
    "    (13.925036413951403, 50.96623732041704),\n",
    "    (13.92222441026388, 50.96629040370362),\n",
    "    (13.922514437551428, 50.964720483303836)\n",
    "  ],\n",
    "    [\n",
    "      (13.922514437551428, 50.964720483303836),\n",
    "      (13.924250781947113, 50.965),\n",
    "      (13.924036413951403, 50.96623732041704),\n",
    "      (13.92222441026388, 50.96629040370362),\n",
    "      (13.922514437551428, 50.964720483303836)\n",
    "    ]]\n",
    ")\n",
    "\n",
    "shapely_polygon = polygon.to_shapely_polygon()\n",
    "shapely_polygon"
   ]
  },
  {
   "cell_type": "code",
   "execution_count": 3,
   "id": "dda19261dc76a596",
   "metadata": {
    "ExecuteTime": {
     "end_time": "2024-08-21T20:27:58.070079Z",
     "start_time": "2024-08-21T20:27:58.064560Z"
    },
    "execution": {
     "iopub.execute_input": "2024-08-21T20:30:25.271509Z",
     "iopub.status.busy": "2024-08-21T20:30:25.270919Z",
     "iopub.status.idle": "2024-08-21T20:30:25.276998Z",
     "shell.execute_reply": "2024-08-21T20:30:25.276351Z"
    },
    "papermill": {
     "duration": 0.012939,
     "end_time": "2024-08-21T20:30:25.280336",
     "exception": false,
     "start_time": "2024-08-21T20:30:25.267397",
     "status": "completed"
    },
    "tags": []
   },
   "outputs": [
    {
     "data": {
      "image/svg+xml": [
       "<svg xmlns=\"http://www.w3.org/2000/svg\" xmlns:xlink=\"http://www.w3.org/1999/xlink\" width=\"100.0\" height=\"100.0\" viewBox=\"13.922103355396551 50.96459942843651 0.0032684814178907118 0.0018120301344382028\" preserveAspectRatio=\"xMinYMin meet\"><g transform=\"matrix(1,0,0,-1,0,101.93101088700746)\"><path fill-rule=\"evenodd\" fill=\"#ff3333\" stroke=\"#555555\" stroke-width=\"6.536962835781423e-05\" opacity=\"0.6\" d=\"M 13.922514437551428,50.964720483303836 L 13.925250781947113,50.965228748412386 L 13.925036413951403,50.96623732041704 L 13.92222441026388,50.96629040370362 L 13.922514437551428,50.964720483303836 z M 13.922514437551428,50.964720483303836 L 13.924250781947112,50.965 L 13.924036413951402,50.96623732041704 L 13.92222441026388,50.96629040370362 L 13.922514437551428,50.964720483303836 z\" /></g></svg>"
      ],
      "text/plain": [
       "<POLYGON ((13.923 50.965, 13.925 50.965, 13.925 50.966, 13.922 50.966, 13.92...>"
      ]
     },
     "execution_count": 3,
     "metadata": {},
     "output_type": "execute_result"
    }
   ],
   "source": [
    "polygon = Polygon.from_shapely_polygon(shapely_polygon)\n",
    "polygon.to_shapely_polygon()"
   ]
  },
  {
   "cell_type": "code",
   "execution_count": 4,
   "id": "9625295d08e111ad",
   "metadata": {
    "ExecuteTime": {
     "end_time": "2024-08-21T20:27:58.079161Z",
     "start_time": "2024-08-21T20:27:58.073171Z"
    },
    "execution": {
     "iopub.execute_input": "2024-08-21T20:30:25.284360Z",
     "iopub.status.busy": "2024-08-21T20:30:25.284056Z",
     "iopub.status.idle": "2024-08-21T20:30:25.291003Z",
     "shell.execute_reply": "2024-08-21T20:30:25.289820Z"
    },
    "papermill": {
     "duration": 0.011177,
     "end_time": "2024-08-21T20:30:25.292740",
     "exception": false,
     "start_time": "2024-08-21T20:30:25.281563",
     "status": "completed"
    },
    "tags": []
   },
   "outputs": [
    {
     "data": {
      "image/svg+xml": [
       "<svg xmlns=\"http://www.w3.org/2000/svg\" xmlns:xlink=\"http://www.w3.org/1999/xlink\" width=\"100.0\" height=\"100.0\" viewBox=\"13.922103355396551 50.96459942843651 0.0032684814178907118 0.0018120301344382028\" preserveAspectRatio=\"xMinYMin meet\"><g transform=\"matrix(1,0,0,-1,0,101.93101088700746)\"><polyline fill=\"none\" stroke=\"#66cc99\" stroke-width=\"6.536962835781423e-05\" points=\"13.922514437551428,50.964720483303836 13.925250781947113,50.965228748412386 13.925036413951403,50.96623732041704 13.92222441026388,50.96629040370362\" opacity=\"0.8\" /></g></svg>"
      ],
      "text/plain": [
       "<LINESTRING (13.923 50.965, 13.925 50.965, 13.925 50.966, 13.922 50.966)>"
      ]
     },
     "execution_count": 4,
     "metadata": {},
     "output_type": "execute_result"
    }
   ],
   "source": [
    "linestring = LineString(\n",
    "  type='LineString',\n",
    "  coordinates=[\n",
    "    (13.922514437551428, 50.964720483303836),\n",
    "    (13.925250781947113, 50.965228748412386),\n",
    "    (13.925036413951403, 50.96623732041704),\n",
    "    (13.92222441026388, 50.96629040370362)\n",
    "  ]\n",
    ")\n",
    "shapely_linestring = linestring.to_shapely_linestring()\n",
    "shapely_linestring"
   ]
  },
  {
   "cell_type": "code",
   "execution_count": 5,
   "id": "c03e33002b4b90d4",
   "metadata": {
    "ExecuteTime": {
     "end_time": "2024-08-21T20:27:58.091093Z",
     "start_time": "2024-08-21T20:27:58.088020Z"
    },
    "execution": {
     "iopub.execute_input": "2024-08-21T20:30:25.296135Z",
     "iopub.status.busy": "2024-08-21T20:30:25.295965Z",
     "iopub.status.idle": "2024-08-21T20:30:25.298488Z",
     "shell.execute_reply": "2024-08-21T20:30:25.297948Z"
    },
    "papermill": {
     "duration": 0.005423,
     "end_time": "2024-08-21T20:30:25.299529",
     "exception": false,
     "start_time": "2024-08-21T20:30:25.294106",
     "status": "completed"
    },
    "tags": []
   },
   "outputs": [],
   "source": [
    "linestring = LineString.from_shapely_linestring(shapely_linestring)"
   ]
  },
  {
   "cell_type": "code",
   "execution_count": 6,
   "id": "494c5aee56e84db9",
   "metadata": {
    "ExecuteTime": {
     "end_time": "2024-08-21T20:28:13.624605Z",
     "start_time": "2024-08-21T20:28:13.611596Z"
    },
    "execution": {
     "iopub.execute_input": "2024-08-21T20:30:25.303022Z",
     "iopub.status.busy": "2024-08-21T20:30:25.302750Z",
     "iopub.status.idle": "2024-08-21T20:30:25.307916Z",
     "shell.execute_reply": "2024-08-21T20:30:25.307118Z"
    },
    "papermill": {
     "duration": 0.008431,
     "end_time": "2024-08-21T20:30:25.309342",
     "exception": false,
     "start_time": "2024-08-21T20:30:25.300911",
     "status": "completed"
    },
    "tags": []
   },
   "outputs": [
    {
     "data": {
      "image/svg+xml": [
       "<svg xmlns=\"http://www.w3.org/2000/svg\" xmlns:xlink=\"http://www.w3.org/1999/xlink\" width=\"100.0\" height=\"100.0\" viewBox=\"13.922103355396551 50.96459942843651 0.0032684814178907118 0.0018120301344382028\" preserveAspectRatio=\"xMinYMin meet\"><g transform=\"matrix(1,0,0,-1,0,101.93101088700746)\"><g><path fill-rule=\"evenodd\" fill=\"#ff3333\" stroke=\"#555555\" stroke-width=\"6.536962835781423e-05\" opacity=\"0.6\" d=\"M 13.922514437551428,50.964720483303836 L 13.925250781947113,50.965228748412386 L 13.925036413951403,50.96623732041704 L 13.92222441026388,50.96629040370362 L 13.922514437551428,50.964720483303836 z M 13.922514437551428,50.964720483303836 L 13.924250781947112,50.965 L 13.924036413951402,50.96623732041704 L 13.92222441026388,50.96629040370362 L 13.922514437551428,50.964720483303836 z\" /><path fill-rule=\"evenodd\" fill=\"#ff3333\" stroke=\"#555555\" stroke-width=\"6.536962835781423e-05\" opacity=\"0.6\" d=\"M 13.922514437551428,50.964720483303836 L 13.925250781947113,50.965228748412386 L 13.925036413951403,50.96623732041704 L 13.92222441026388,50.96629040370362 L 13.922514437551428,50.964720483303836 z M 13.922514437551428,50.964720483303836 L 13.924250781947112,50.965 L 13.924036413951402,50.96623732041704 L 13.92222441026388,50.96629040370362 L 13.922514437551428,50.964720483303836 z\" /></g></g></svg>"
      ],
      "text/plain": [
       "<MULTIPOLYGON (((13.923 50.965, 13.925 50.965, 13.925 50.966, 13.922 50.966,...>"
      ]
     },
     "execution_count": 6,
     "metadata": {},
     "output_type": "execute_result"
    }
   ],
   "source": [
    "multipolygon = MultiPolygon(\n",
    "  type='MultiPolygon',\n",
    "  coordinates=[\n",
    "    [\n",
    "      [\n",
    "        (13.922514437551428, 50.964720483303836),\n",
    "        (13.925250781947113, 50.965228748412386),\n",
    "        (13.925036413951403, 50.96623732041704),\n",
    "        (13.92222441026388, 50.96629040370362),\n",
    "        (13.922514437551428, 50.964720483303836)\n",
    "      ],\n",
    "      [\n",
    "        (13.922514437551428, 50.964720483303836),\n",
    "        (13.924250781947113, 50.965),\n",
    "        (13.924036413951403, 50.96623732041704),\n",
    "        (13.92222441026388, 50.96629040370362),\n",
    "        (13.922514437551428, 50.964720483303836)\n",
    "      ]\n",
    "    ],\n",
    "    [\n",
    "      [\n",
    "        (13.922514437551428, 50.964720483303836),\n",
    "        (13.925250781947113, 50.965228748412386),\n",
    "        (13.925036413951403, 50.96623732041704),\n",
    "        (13.92222441026388, 50.96629040370362),\n",
    "        (13.922514437551428, 50.964720483303836)\n",
    "      ],\n",
    "      [\n",
    "        (13.922514437551428, 50.964720483303836),\n",
    "        (13.924250781947113, 50.965),\n",
    "        (13.924036413951403, 50.96623732041704),\n",
    "        (13.92222441026388, 50.96629040370362),\n",
    "        (13.922514437551428, 50.964720483303836)\n",
    "      ]\n",
    "    ]\n",
    "  ]\n",
    ")\n",
    "shapely_multipolygon = multipolygon.to_shapely_multipolygon()\n",
    "shapely_multipolygon"
   ]
  },
  {
   "cell_type": "code",
   "execution_count": 7,
   "id": "de8a3fd0a4b484d9",
   "metadata": {
    "ExecuteTime": {
     "end_time": "2024-08-21T20:28:25.803653Z",
     "start_time": "2024-08-21T20:28:25.797503Z"
    },
    "execution": {
     "iopub.execute_input": "2024-08-21T20:30:25.313098Z",
     "iopub.status.busy": "2024-08-21T20:30:25.312891Z",
     "iopub.status.idle": "2024-08-21T20:30:25.316896Z",
     "shell.execute_reply": "2024-08-21T20:30:25.316107Z"
    },
    "papermill": {
     "duration": 0.007418,
     "end_time": "2024-08-21T20:30:25.318240",
     "exception": false,
     "start_time": "2024-08-21T20:30:25.310822",
     "status": "completed"
    },
    "tags": []
   },
   "outputs": [
    {
     "data": {
      "text/plain": [
       "MultiPolygon(coordinates=[[[(13.922514437551428, 50.964720483303836), (13.925250781947113, 50.965228748412386), (13.925036413951403, 50.96623732041704), (13.92222441026388, 50.96629040370362), (13.922514437551428, 50.964720483303836)], [(13.922514437551428, 50.964720483303836), (13.924250781947112, 50.965), (13.924036413951402, 50.96623732041704), (13.92222441026388, 50.96629040370362), (13.922514437551428, 50.964720483303836)]], [[(13.922514437551428, 50.964720483303836), (13.925250781947113, 50.965228748412386), (13.925036413951403, 50.96623732041704), (13.92222441026388, 50.96629040370362), (13.922514437551428, 50.964720483303836)], [(13.922514437551428, 50.964720483303836), (13.924250781947112, 50.965), (13.924036413951402, 50.96623732041704), (13.92222441026388, 50.96629040370362), (13.922514437551428, 50.964720483303836)]]], type='MultiPolygon')"
      ]
     },
     "execution_count": 7,
     "metadata": {},
     "output_type": "execute_result"
    }
   ],
   "source": [
    "multipolygon = MultiPolygon.from_shapely_multipolygon(shapely_multipolygon)\n",
    "multipolygon"
   ]
  },
  {
   "cell_type": "code",
   "execution_count": null,
   "id": "5df687beb381beea",
   "metadata": {
    "papermill": {
     "duration": 0.001447,
     "end_time": "2024-08-21T20:30:25.321188",
     "exception": false,
     "start_time": "2024-08-21T20:30:25.319741",
     "status": "completed"
    },
    "tags": []
   },
   "outputs": [],
   "source": []
  }
 ],
 "metadata": {
  "kernelspec": {
   "display_name": "Python 3",
   "language": "python",
   "name": "python3"
  },
  "language_info": {
   "codemirror_mode": {
    "name": "ipython",
    "version": 3
   },
   "file_extension": ".py",
   "mimetype": "text/x-python",
   "name": "python",
   "nbconvert_exporter": "python",
   "pygments_lexer": "ipython3",
   "version": "3.12.2"
  },
  "papermill": {
   "default_parameters": {},
   "duration": 1.052879,
   "end_time": "2024-08-21T20:30:25.438067",
   "environment_variables": {},
   "exception": null,
   "input_path": "./notebooks/Gemetries.ipynb",
   "output_path": "./notebooks/Gemetries.ipynb",
   "parameters": {},
   "start_time": "2024-08-21T20:30:24.385188",
   "version": "2.6.0"
  }
 },
 "nbformat": 4,
 "nbformat_minor": 5
}