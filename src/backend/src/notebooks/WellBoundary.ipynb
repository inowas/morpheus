{
 "cells": [
  {
   "cell_type": "code",
   "execution_count": 1,
   "id": "ba6761fae9d5e5cb",
   "metadata": {
    "ExecuteTime": {
     "end_time": "2024-05-14T08:14:28.978840Z",
     "start_time": "2024-05-14T08:14:28.973619Z"
    },
    "collapsed": false,
    "execution": {
     "iopub.execute_input": "2024-05-15T16:01:06.938217Z",
     "iopub.status.busy": "2024-05-15T16:01:06.937830Z",
     "iopub.status.idle": "2024-05-15T16:01:06.942986Z",
     "shell.execute_reply": "2024-05-15T16:01:06.942465Z"
    },
    "papermill": {
     "duration": 0.013547,
     "end_time": "2024-05-15T16:01:06.944737",
     "exception": false,
     "start_time": "2024-05-15T16:01:06.931190",
     "status": "completed"
    },
    "tags": []
   },
   "source": [
    "import sys\n",
    "\n",
    "sys.path.insert(0, '..')"
   ],
   "outputs": []
  },
  {
   "cell_type": "markdown",
   "id": "5ede1ba5e0993dd1",
   "metadata": {
    "collapsed": false,
    "papermill": {
     "duration": 0.002579,
     "end_time": "2024-05-15T16:01:06.950574",
     "exception": false,
     "start_time": "2024-05-15T16:01:06.947995",
     "status": "completed"
    },
    "tags": []
   },
   "source": [
    "## Setup the model area"
   ]
  },
  {
   "cell_type": "code",
   "execution_count": 2,
   "id": "2f69504ab35487aa",
   "metadata": {
    "ExecuteTime": {
     "end_time": "2024-05-14T08:14:29.277345Z",
     "start_time": "2024-05-14T08:14:28.980122Z"
    },
    "collapsed": false,
    "execution": {
     "iopub.execute_input": "2024-05-15T16:01:06.956614Z",
     "iopub.status.busy": "2024-05-15T16:01:06.956352Z",
     "iopub.status.idle": "2024-05-15T16:01:07.115717Z",
     "shell.execute_reply": "2024-05-15T16:01:07.112892Z"
    },
    "papermill": {
     "duration": 0.16523,
     "end_time": "2024-05-15T16:01:07.118353",
     "exception": false,
     "start_time": "2024-05-15T16:01:06.953123",
     "status": "completed"
    },
    "tags": []
   },
   "source": [
    "from morpheus.project.types.discretization import SpatialDiscretization\n",
    "from morpheus.project.types.discretization.spatial import Rotation, LengthUnit, Grid, ActiveCells, Crs\n",
    "from morpheus.project.types.geometry import Polygon\n",
    "\n",
    "polygon = Polygon(\n",
    "  type='Polygon',\n",
    "  coordinates=[[\n",
    "    (13.922514437551428, 50.964720483303836),\n",
    "    (13.925250781947113, 50.965228748412386),\n",
    "    (13.925036413951403, 50.96623732041704),\n",
    "    (13.92222441026388, 50.96629040370362),\n",
    "    (13.922514437551428, 50.964720483303836)\n",
    "  ]]\n",
    ")\n",
    "\n",
    "rotation = Rotation(0)\n",
    "length_unit = LengthUnit.meters()\n",
    "relative_col_coordinates = [0, 0.1, 0.2, 0.3, 0.4, 0.5, 0.6, 0.7, 0.8, 0.9, 1]\n",
    "relative_row_coordinates = [0, 0.1, 0.2, 0.3, 0.4, 0.5, 0.6, 0.7, 0.8, 0.9, 1]\n",
    "\n",
    "grid = Grid.from_polygon_with_relative_coordinates(\n",
    "  polygon=polygon,\n",
    "  relative_col_coordinates=relative_col_coordinates,\n",
    "  relative_row_coordinates=relative_row_coordinates,\n",
    "  rotation=rotation,\n",
    ")\n",
    "\n",
    "spatial_discretization = SpatialDiscretization(\n",
    "  geometry=polygon,\n",
    "  grid=grid,\n",
    "  affected_cells=ActiveCells.from_polygon(polygon=polygon, grid=grid),\n",
    "  crs=Crs.from_str('EPSG:4326')\n",
    ")\n",
    "\n",
    "spatial_discretization\n"
   ],
   "outputs": []
  },
  {
   "cell_type": "markdown",
   "id": "fa27e67f9d801845",
   "metadata": {
    "collapsed": false,
    "papermill": {
     "duration": 0.001529,
     "end_time": "2024-05-15T16:01:07.124384",
     "exception": false,
     "start_time": "2024-05-15T16:01:07.122855",
     "status": "completed"
    },
    "tags": []
   },
   "source": [
    "## Setup Time Discretization"
   ]
  },
  {
   "cell_type": "code",
   "execution_count": 3,
   "id": "8e4e63dd138db9fc",
   "metadata": {
    "ExecuteTime": {
     "end_time": "2024-05-14T08:14:29.308907Z",
     "start_time": "2024-05-14T08:14:29.294519Z"
    },
    "collapsed": false,
    "execution": {
     "iopub.execute_input": "2024-05-15T16:01:07.133776Z",
     "iopub.status.busy": "2024-05-15T16:01:07.133373Z",
     "iopub.status.idle": "2024-05-15T16:01:07.148607Z",
     "shell.execute_reply": "2024-05-15T16:01:07.147948Z"
    },
    "papermill": {
     "duration": 0.022028,
     "end_time": "2024-05-15T16:01:07.150439",
     "exception": false,
     "start_time": "2024-05-15T16:01:07.128411",
     "status": "completed"
    },
    "tags": []
   },
   "source": [
    "from morpheus.project.types.discretization.time.TimeUnit import TimeUnit\n",
    "from morpheus.project.types.discretization.time.Stressperiods import StartDateTime, StressPeriodCollection, \\\n",
    "  StressPeriod, NumberOfTimeSteps, TimeStepMultiplier, IsSteadyState\n",
    "from morpheus.project.types.discretization.time import TimeDiscretization\n",
    "from datetime import datetime\n",
    "\n",
    "time_discretization = TimeDiscretization(\n",
    "  start_date_time=StartDateTime.from_datetime(datetime(2020, 1, 1)),\n",
    "  end_date_time=StartDateTime.from_datetime(datetime(2020, 12, 31)),\n",
    "  stress_periods=StressPeriodCollection([\n",
    "    StressPeriod(\n",
    "      start_date_time=StartDateTime.from_datetime(datetime(2020, 1, 1)),\n",
    "      number_of_time_steps=NumberOfTimeSteps(1),\n",
    "      time_step_multiplier=TimeStepMultiplier(1),\n",
    "      steady_state=IsSteadyState.yes()\n",
    "    ),\n",
    "    StressPeriod(\n",
    "      start_date_time=StartDateTime.from_datetime(datetime(2020, 2, 1)),\n",
    "      number_of_time_steps=NumberOfTimeSteps(1),\n",
    "      time_step_multiplier=TimeStepMultiplier(1),\n",
    "      steady_state=IsSteadyState.no()\n",
    "    ),\n",
    "    StressPeriod(\n",
    "      start_date_time=StartDateTime.from_datetime(datetime(2020, 3, 1)),\n",
    "      number_of_time_steps=NumberOfTimeSteps(1),\n",
    "      time_step_multiplier=TimeStepMultiplier(1),\n",
    "      steady_state=IsSteadyState.no()\n",
    "    ),\n",
    "    StressPeriod(\n",
    "      start_date_time=StartDateTime.from_datetime(datetime(2020, 4, 1)),\n",
    "      number_of_time_steps=NumberOfTimeSteps(1),\n",
    "      time_step_multiplier=TimeStepMultiplier(1),\n",
    "      steady_state=IsSteadyState.no()\n",
    "    ),\n",
    "    StressPeriod(\n",
    "      start_date_time=StartDateTime.from_datetime(datetime(2020, 5, 1)),\n",
    "      number_of_time_steps=NumberOfTimeSteps(1),\n",
    "      time_step_multiplier=TimeStepMultiplier(1),\n",
    "      steady_state=IsSteadyState.no()\n",
    "    ),\n",
    "    StressPeriod(\n",
    "      start_date_time=StartDateTime.from_datetime(datetime(2020, 6, 1)),\n",
    "      number_of_time_steps=NumberOfTimeSteps(1),\n",
    "      time_step_multiplier=TimeStepMultiplier(1),\n",
    "      steady_state=IsSteadyState.no()\n",
    "    ),\n",
    "    StressPeriod(\n",
    "      start_date_time=StartDateTime.from_datetime(datetime(2020, 7, 1)),\n",
    "      number_of_time_steps=NumberOfTimeSteps(1),\n",
    "      time_step_multiplier=TimeStepMultiplier(1),\n",
    "      steady_state=IsSteadyState.no()\n",
    "    ),\n",
    "    StressPeriod(\n",
    "      start_date_time=StartDateTime.from_datetime(datetime(2020, 8, 1)),\n",
    "      number_of_time_steps=NumberOfTimeSteps(1),\n",
    "      time_step_multiplier=TimeStepMultiplier(1),\n",
    "      steady_state=IsSteadyState.no()\n",
    "    ),\n",
    "    StressPeriod(\n",
    "      start_date_time=StartDateTime.from_datetime(datetime(2020, 9, 1)),\n",
    "      number_of_time_steps=NumberOfTimeSteps(1),\n",
    "      time_step_multiplier=TimeStepMultiplier(1),\n",
    "      steady_state=IsSteadyState.no()\n",
    "    ),\n",
    "    StressPeriod(\n",
    "      start_date_time=StartDateTime.from_datetime(datetime(2020, 10, 1)),\n",
    "      number_of_time_steps=NumberOfTimeSteps(1),\n",
    "      time_step_multiplier=TimeStepMultiplier(1),\n",
    "      steady_state=IsSteadyState.no()\n",
    "    ),\n",
    "    StressPeriod(\n",
    "      start_date_time=StartDateTime.from_datetime(datetime(2020, 11, 1)),\n",
    "      number_of_time_steps=NumberOfTimeSteps(1),\n",
    "      time_step_multiplier=TimeStepMultiplier(1),\n",
    "      steady_state=IsSteadyState.no()\n",
    "    ),\n",
    "    StressPeriod(\n",
    "      start_date_time=StartDateTime.from_datetime(datetime(2020, 12, 1)),\n",
    "      number_of_time_steps=NumberOfTimeSteps(1),\n",
    "      time_step_multiplier=TimeStepMultiplier(1),\n",
    "      steady_state=IsSteadyState.no()\n",
    "    ),\n",
    "  ]),\n",
    "  time_unit=TimeUnit.days()\n",
    ")\n",
    "\n",
    "time_discretization"
   ],
   "outputs": []
  },
  {
   "cell_type": "code",
   "execution_count": 4,
   "id": "1540b870ae83f298",
   "metadata": {
    "ExecuteTime": {
     "end_time": "2024-05-14T08:14:29.712833Z",
     "start_time": "2024-05-14T08:14:29.309678Z"
    },
    "collapsed": false,
    "execution": {
     "iopub.execute_input": "2024-05-15T16:01:07.159702Z",
     "iopub.status.busy": "2024-05-15T16:01:07.159378Z",
     "iopub.status.idle": "2024-05-15T16:01:07.505515Z",
     "shell.execute_reply": "2024-05-15T16:01:07.505226Z"
    },
    "papermill": {
     "duration": 0.352763,
     "end_time": "2024-05-15T16:01:07.507224",
     "exception": false,
     "start_time": "2024-05-15T16:01:07.154461",
     "status": "completed"
    },
    "tags": []
   },
   "source": [
    "import folium\n",
    "\n",
    "m = folium.Map(tiles=\"cartodbpositron\", crs=\"EPSG3857\", zoom_start=12, location=[50.965, 13.922])\n",
    "m.add_child(folium.GeoJson(polygon.as_geojson()))\n",
    "\n",
    "m.fit_bounds(m.get_bounds())\n",
    "m"
   ],
   "outputs": []
  },
  {
   "cell_type": "markdown",
   "id": "9df9979b6c9bdbed",
   "metadata": {
    "collapsed": false,
    "papermill": {
     "duration": 0.001737,
     "end_time": "2024-05-15T16:01:07.510926",
     "exception": false,
     "start_time": "2024-05-15T16:01:07.509189",
     "status": "completed"
    },
    "tags": []
   },
   "source": [
    "## Setup model"
   ]
  },
  {
   "cell_type": "code",
   "execution_count": 5,
   "id": "77045c334efc769c",
   "metadata": {
    "ExecuteTime": {
     "end_time": "2024-05-14T08:14:29.939583Z",
     "start_time": "2024-05-14T08:14:29.714700Z"
    },
    "collapsed": false,
    "execution": {
     "iopub.execute_input": "2024-05-15T16:01:07.514450Z",
     "iopub.status.busy": "2024-05-15T16:01:07.514255Z",
     "iopub.status.idle": "2024-05-15T16:01:07.650515Z",
     "shell.execute_reply": "2024-05-15T16:01:07.650139Z"
    },
    "papermill": {
     "duration": 0.139251,
     "end_time": "2024-05-15T16:01:07.651548",
     "exception": false,
     "start_time": "2024-05-15T16:01:07.512297",
     "status": "completed"
    },
    "tags": []
   },
   "source": [
    "from morpheus.project.types.Model import Model\n",
    "\n",
    "model = Model.new()\n",
    "model = model.with_updated_time_discretization(time_discretization)\n",
    "model = model.with_updated_spatial_discretization(spatial_discretization=spatial_discretization)"
   ],
   "outputs": []
  },
  {
   "cell_type": "markdown",
   "id": "62ae3587df801000",
   "metadata": {
    "collapsed": false,
    "papermill": {
     "duration": 0.001459,
     "end_time": "2024-05-15T16:01:07.654690",
     "exception": false,
     "start_time": "2024-05-15T16:01:07.653231",
     "status": "completed"
    },
    "tags": []
   },
   "source": [
    "# Setup well boundary"
   ]
  },
  {
   "cell_type": "code",
   "execution_count": 6,
   "id": "53679913aee28ce9",
   "metadata": {
    "ExecuteTime": {
     "end_time": "2024-05-14T08:14:30.095704Z",
     "start_time": "2024-05-14T08:14:29.942892Z"
    },
    "collapsed": false,
    "execution": {
     "iopub.execute_input": "2024-05-15T16:01:07.658426Z",
     "iopub.status.busy": "2024-05-15T16:01:07.658078Z",
     "iopub.status.idle": "2024-05-15T16:01:07.679236Z",
     "shell.execute_reply": "2024-05-15T16:01:07.679003Z"
    },
    "papermill": {
     "duration": 0.024066,
     "end_time": "2024-05-15T16:01:07.680108",
     "exception": false,
     "start_time": "2024-05-15T16:01:07.656042",
     "status": "completed"
    },
    "tags": []
   },
   "source": [
    "from morpheus.project.types.geometry import Point\n",
    "from morpheus.project.types.boundaries.Boundary import BoundaryName, WellBoundary\n",
    "from morpheus.project.types.boundaries.WellObservation import WellRawDataItem, PumpingRate\n",
    "\n",
    "well_boundary = WellBoundary.from_geometry(\n",
    "  name=BoundaryName('well_boundary'),\n",
    "  geometry=Point((13.923, 50.966)),\n",
    "  grid=grid,\n",
    "  affected_layers=[model.layers[0].layer_id],\n",
    "  data=[\n",
    "    WellRawDataItem(\n",
    "      date_time=StartDateTime.from_datetime(datetime(2019, 1, 1)),\n",
    "      pumping_rate=PumpingRate.from_float(-5000),\n",
    "    ),\n",
    "    WellRawDataItem(\n",
    "      date_time=StartDateTime.from_datetime(datetime(2021, 12, 31)),\n",
    "      pumping_rate=PumpingRate.from_float(-1000),\n",
    "    ),\n",
    "  ]\n",
    ")\n",
    "\n",
    "well_boundary.affected_cells = well_boundary.affected_cells.filter(\n",
    "  lambda cell: spatial_discretization.affected_cells.contains(cell))\n",
    "\n",
    "m.add_child(folium.GeoJson(well_boundary.as_geojson()))\n",
    "m.add_child(folium.GeoJson(well_boundary.affected_cells.to_geojson(grid).as_geojson()))\n",
    "for well_boundary.observation in well_boundary.observations:\n",
    "  m.add_child(folium.GeoJson(well_boundary.observation.as_geojson()))\n",
    "m.fit_bounds(m.get_bounds())\n",
    "m"
   ],
   "outputs": []
  },
  {
   "cell_type": "markdown",
   "id": "b33c8f87aa3516fc",
   "metadata": {
    "collapsed": false,
    "papermill": {
     "duration": 0.001417,
     "end_time": "2024-05-15T16:01:07.683180",
     "exception": false,
     "start_time": "2024-05-15T16:01:07.681763",
     "status": "completed"
    },
    "tags": []
   },
   "source": [
    "## Calculate constant head stress periods"
   ]
  },
  {
   "cell_type": "code",
   "execution_count": 7,
   "id": "c02b9bf2e59abc77",
   "metadata": {
    "ExecuteTime": {
     "end_time": "2024-05-14T08:14:30.486538Z",
     "start_time": "2024-05-14T08:14:30.099092Z"
    },
    "collapsed": false,
    "execution": {
     "iopub.execute_input": "2024-05-15T16:01:07.686847Z",
     "iopub.status.busy": "2024-05-15T16:01:07.686649Z",
     "iopub.status.idle": "2024-05-15T16:01:07.932847Z",
     "shell.execute_reply": "2024-05-15T16:01:07.932604Z"
    },
    "papermill": {
     "duration": 0.249032,
     "end_time": "2024-05-15T16:01:07.933710",
     "exception": false,
     "start_time": "2024-05-15T16:01:07.684678",
     "status": "completed"
    },
    "tags": []
   },
   "source": [
    "from morpheus.project.infrastructure.calculation.engines.modflow_2005.packages.WelPackageMapper import \\\n",
    "  calculate_wel_boundary_stress_period_data\n",
    "\n",
    "result = calculate_wel_boundary_stress_period_data(\n",
    "  spatial_discretization=spatial_discretization,\n",
    "  time_discretization=time_discretization,\n",
    "  layers=model.layers,\n",
    "  wel_boundary=well_boundary,\n",
    ")\n",
    "result.to_dict()"
   ],
   "outputs": []
  },
  {
   "cell_type": "code",
   "execution_count": null,
   "id": "456c70a51421e384",
   "metadata": {
    "ExecuteTime": {
     "end_time": "2024-05-14T08:14:30.489838Z",
     "start_time": "2024-05-14T08:14:30.487594Z"
    },
    "collapsed": false,
    "papermill": {
     "duration": 0.001505,
     "end_time": "2024-05-15T16:01:07.937034",
     "exception": false,
     "start_time": "2024-05-15T16:01:07.935529",
     "status": "completed"
    },
    "tags": []
   },
   "source": [],
   "outputs": []
  }
 ],
 "metadata": {
  "kernelspec": {
   "display_name": "Python 3",
   "language": "python",
   "name": "python3"
  },
  "language_info": {
   "codemirror_mode": {
    "name": "ipython",
    "version": 3
   },
   "file_extension": ".py",
   "mimetype": "text/x-python",
   "name": "python",
   "nbconvert_exporter": "python",
   "pygments_lexer": "ipython3",
   "version": "3.12.2"
  },
  "papermill": {
   "default_parameters": {},
   "duration": 1.875253,
   "end_time": "2024-05-15T16:01:08.255601",
   "environment_variables": {},
   "exception": null,
   "input_path": "./notebooks/WellBoundary.ipynb",
   "output_path": "./notebooks/WellBoundary.ipynb",
   "parameters": {},
   "start_time": "2024-05-15T16:01:06.380348",
   "version": "2.6.0"
  }
 },
 "nbformat": 4,
 "nbformat_minor": 5
}
