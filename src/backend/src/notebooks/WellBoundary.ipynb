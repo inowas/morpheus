{
 "cells": [
  {
   "cell_type": "code",
   "execution_count": 1,
   "outputs": [],
   "source": [
    "import sys\n",
    "\n",
    "sys.path.insert(0, '..')"
   ],
   "metadata": {
    "collapsed": false,
    "ExecuteTime": {
     "end_time": "2024-03-21T20:58:44.415251Z",
     "start_time": "2024-03-21T20:58:44.412656Z"
    }
   },
   "id": "ba6761fae9d5e5cb"
  },
  {
   "cell_type": "markdown",
   "source": [
    "## Setup the model area"
   ],
   "metadata": {
    "collapsed": false
   },
   "id": "5ede1ba5e0993dd1"
  },
  {
   "cell_type": "code",
   "execution_count": 2,
   "outputs": [
    {
     "data": {
      "text/plain": "SpatialDiscretization(geometry=Polygon(coordinates=[[(13.922514437551428, 50.964720483303836), (13.925250781947113, 50.965228748412386), (13.925036413951403, 50.96623732041704), (13.92222441026388, 50.96629040370362), (13.922514437551428, 50.964720483303836)]], type='Polygon'), grid=Grid(origin=Point(coordinates=(13.922224410263878, 50.9662904037036), type='Point'), col_widths=[33.68941547288559, 33.68941547288559, 33.6894154728856, 33.689415472885585, 33.6894154728856, 33.6894154728856, 33.68941547288557, 33.6894154728856, 33.68941547288563, 33.68941547288557], total_width=336.89415472885594, row_heights=[27.74944856585935, 27.74944856585935, 27.749448565859346, 27.749448565859353, 27.74944856585934, 27.749448565859353, 27.749448565859325, 27.74944856585938, 27.749448565859325, 27.749448565859353], total_height=277.4944856585935, rotation=Rotation(value=0), length_unit=LengthUnit(unit=2)), affected_cells=ActiveCells(shape=(10, 10), data=[ActiveCell(col=0, row=0), ActiveCell(col=0, row=1), ActiveCell(col=0, row=2), ActiveCell(col=0, row=3), ActiveCell(col=0, row=4), ActiveCell(col=1, row=0), ActiveCell(col=1, row=1), ActiveCell(col=1, row=2), ActiveCell(col=1, row=3), ActiveCell(col=1, row=4), ActiveCell(col=1, row=5), ActiveCell(col=1, row=6), ActiveCell(col=1, row=7), ActiveCell(col=1, row=8), ActiveCell(col=1, row=9), ActiveCell(col=2, row=0), ActiveCell(col=2, row=1), ActiveCell(col=2, row=2), ActiveCell(col=2, row=3), ActiveCell(col=2, row=4), ActiveCell(col=2, row=5), ActiveCell(col=2, row=6), ActiveCell(col=2, row=7), ActiveCell(col=2, row=8), ActiveCell(col=3, row=0), ActiveCell(col=3, row=1), ActiveCell(col=3, row=2), ActiveCell(col=3, row=3), ActiveCell(col=3, row=4), ActiveCell(col=3, row=5), ActiveCell(col=3, row=6), ActiveCell(col=3, row=7), ActiveCell(col=3, row=8), ActiveCell(col=4, row=0), ActiveCell(col=4, row=1), ActiveCell(col=4, row=2), ActiveCell(col=4, row=3), ActiveCell(col=4, row=4), ActiveCell(col=4, row=5), ActiveCell(col=4, row=6), ActiveCell(col=4, row=7), ActiveCell(col=4, row=8), ActiveCell(col=5, row=0), ActiveCell(col=5, row=1), ActiveCell(col=5, row=2), ActiveCell(col=5, row=3), ActiveCell(col=5, row=4), ActiveCell(col=5, row=5), ActiveCell(col=5, row=6), ActiveCell(col=5, row=7), ActiveCell(col=6, row=0), ActiveCell(col=6, row=1), ActiveCell(col=6, row=2), ActiveCell(col=6, row=3), ActiveCell(col=6, row=4), ActiveCell(col=6, row=5), ActiveCell(col=6, row=6), ActiveCell(col=6, row=7), ActiveCell(col=7, row=0), ActiveCell(col=7, row=1), ActiveCell(col=7, row=2), ActiveCell(col=7, row=3), ActiveCell(col=7, row=4), ActiveCell(col=7, row=5), ActiveCell(col=7, row=6), ActiveCell(col=7, row=7), ActiveCell(col=8, row=0), ActiveCell(col=8, row=1), ActiveCell(col=8, row=2), ActiveCell(col=8, row=3), ActiveCell(col=8, row=4), ActiveCell(col=8, row=5), ActiveCell(col=8, row=6), ActiveCell(col=9, row=2), ActiveCell(col=9, row=3), ActiveCell(col=9, row=4), ActiveCell(col=9, row=5), ActiveCell(col=9, row=6)]))"
     },
     "execution_count": 2,
     "metadata": {},
     "output_type": "execute_result"
    }
   ],
   "source": [
    "from morpheus.modflow.types.discretization import SpatialDiscretization\n",
    "from morpheus.modflow.types.discretization.spatial import Rotation, LengthUnit, Grid, ActiveCells, Crs\n",
    "from morpheus.modflow.types.geometry import Polygon\n",
    "\n",
    "polygon = Polygon(\n",
    "  type='Polygon',\n",
    "  coordinates=[[\n",
    "    (13.922514437551428, 50.964720483303836),\n",
    "    (13.925250781947113, 50.965228748412386),\n",
    "    (13.925036413951403, 50.96623732041704),\n",
    "    (13.92222441026388, 50.96629040370362),\n",
    "    (13.922514437551428, 50.964720483303836)\n",
    "  ]]\n",
    ")\n",
    "\n",
    "rotation = Rotation(0)\n",
    "length_unit = LengthUnit.meters()\n",
    "relative_col_coordinates = [0, 0.1, 0.2, 0.3, 0.4, 0.5, 0.6, 0.7, 0.8, 0.9, 1]\n",
    "relative_row_coordinates = [0, 0.1, 0.2, 0.3, 0.4, 0.5, 0.6, 0.7, 0.8, 0.9, 1]\n",
    "\n",
    "grid = Grid.from_polygon_with_relative_coordinates(\n",
    "  polygon=polygon,\n",
    "  relative_col_coordinates=relative_col_coordinates,\n",
    "  relative_row_coordinates=relative_row_coordinates,\n",
    "  rotation=rotation,\n",
    ")\n",
    "\n",
    "spatial_discretization = SpatialDiscretization(\n",
    "  geometry=polygon,\n",
    "  grid=grid,\n",
    "  affected_cells=ActiveCells.from_polygon(polygon=polygon, grid=grid),\n",
    "  crs=Crs.from_str('EPSG:4326')\n",
    ")\n",
    "\n",
    "spatial_discretization\n"
   ],
   "metadata": {
    "collapsed": false,
    "ExecuteTime": {
     "end_time": "2024-03-21T20:58:44.570918Z",
     "start_time": "2024-03-21T20:58:44.416367Z"
    }
   },
   "id": "2f69504ab35487aa"
  },
  {
   "cell_type": "markdown",
   "source": [
    "## Setup Time Discretization"
   ],
   "metadata": {
    "collapsed": false
   },
   "id": "fa27e67f9d801845"
  },
  {
   "cell_type": "code",
   "execution_count": 3,
   "outputs": [
    {
     "data": {
      "text/plain": "TimeDiscretization(start_date_time=StartDateTime(value=datetime.datetime(2020, 1, 1, 0, 0)), end_date_time=StartDateTime(value=datetime.datetime(2020, 12, 31, 0, 0)), stress_periods=StressPeriodCollection(values=[StressPeriod(start_date_time=StartDateTime(value=datetime.datetime(2020, 1, 1, 0, 0)), number_of_time_steps=NumberOfTimeSteps(value=1), time_step_multiplier=TimeStepMultiplier(value=1), steady_state=IsSteadyState(value=True)), StressPeriod(start_date_time=StartDateTime(value=datetime.datetime(2020, 2, 1, 0, 0)), number_of_time_steps=NumberOfTimeSteps(value=1), time_step_multiplier=TimeStepMultiplier(value=1), steady_state=IsSteadyState(value=False)), StressPeriod(start_date_time=StartDateTime(value=datetime.datetime(2020, 3, 1, 0, 0)), number_of_time_steps=NumberOfTimeSteps(value=1), time_step_multiplier=TimeStepMultiplier(value=1), steady_state=IsSteadyState(value=False)), StressPeriod(start_date_time=StartDateTime(value=datetime.datetime(2020, 4, 1, 0, 0)), number_of_time_steps=NumberOfTimeSteps(value=1), time_step_multiplier=TimeStepMultiplier(value=1), steady_state=IsSteadyState(value=False)), StressPeriod(start_date_time=StartDateTime(value=datetime.datetime(2020, 5, 1, 0, 0)), number_of_time_steps=NumberOfTimeSteps(value=1), time_step_multiplier=TimeStepMultiplier(value=1), steady_state=IsSteadyState(value=False)), StressPeriod(start_date_time=StartDateTime(value=datetime.datetime(2020, 6, 1, 0, 0)), number_of_time_steps=NumberOfTimeSteps(value=1), time_step_multiplier=TimeStepMultiplier(value=1), steady_state=IsSteadyState(value=False)), StressPeriod(start_date_time=StartDateTime(value=datetime.datetime(2020, 7, 1, 0, 0)), number_of_time_steps=NumberOfTimeSteps(value=1), time_step_multiplier=TimeStepMultiplier(value=1), steady_state=IsSteadyState(value=False)), StressPeriod(start_date_time=StartDateTime(value=datetime.datetime(2020, 8, 1, 0, 0)), number_of_time_steps=NumberOfTimeSteps(value=1), time_step_multiplier=TimeStepMultiplier(value=1), steady_state=IsSteadyState(value=False)), StressPeriod(start_date_time=StartDateTime(value=datetime.datetime(2020, 9, 1, 0, 0)), number_of_time_steps=NumberOfTimeSteps(value=1), time_step_multiplier=TimeStepMultiplier(value=1), steady_state=IsSteadyState(value=False)), StressPeriod(start_date_time=StartDateTime(value=datetime.datetime(2020, 10, 1, 0, 0)), number_of_time_steps=NumberOfTimeSteps(value=1), time_step_multiplier=TimeStepMultiplier(value=1), steady_state=IsSteadyState(value=False)), StressPeriod(start_date_time=StartDateTime(value=datetime.datetime(2020, 11, 1, 0, 0)), number_of_time_steps=NumberOfTimeSteps(value=1), time_step_multiplier=TimeStepMultiplier(value=1), steady_state=IsSteadyState(value=False)), StressPeriod(start_date_time=StartDateTime(value=datetime.datetime(2020, 12, 1, 0, 0)), number_of_time_steps=NumberOfTimeSteps(value=1), time_step_multiplier=TimeStepMultiplier(value=1), steady_state=IsSteadyState(value=False))]), time_unit=TimeUnit(unit=4))"
     },
     "execution_count": 3,
     "metadata": {},
     "output_type": "execute_result"
    }
   ],
   "source": [
    "from morpheus.modflow.types.discretization.time.TimeUnit import TimeUnit\n",
    "from morpheus.modflow.types.discretization.time.Stressperiods import StartDateTime, StressPeriodCollection, \\\n",
    "  StressPeriod, NumberOfTimeSteps, TimeStepMultiplier, IsSteadyState\n",
    "from morpheus.modflow.types.discretization.time import TimeDiscretization\n",
    "from datetime import datetime\n",
    "\n",
    "time_discretization = TimeDiscretization(\n",
    "  start_date_time=StartDateTime.from_datetime(datetime(2020, 1, 1)),\n",
    "  end_date_time=StartDateTime.from_datetime(datetime(2020, 12, 31)),\n",
    "  stress_periods=StressPeriodCollection([\n",
    "    StressPeriod(\n",
    "      start_date_time=StartDateTime.from_datetime(datetime(2020, 1, 1)),\n",
    "      number_of_time_steps=NumberOfTimeSteps(1),\n",
    "      time_step_multiplier=TimeStepMultiplier(1),\n",
    "      steady_state=IsSteadyState.yes()\n",
    "    ),\n",
    "    StressPeriod(\n",
    "      start_date_time=StartDateTime.from_datetime(datetime(2020, 2, 1)),\n",
    "      number_of_time_steps=NumberOfTimeSteps(1),\n",
    "      time_step_multiplier=TimeStepMultiplier(1),\n",
    "      steady_state=IsSteadyState.no()\n",
    "    ),\n",
    "    StressPeriod(\n",
    "      start_date_time=StartDateTime.from_datetime(datetime(2020, 3, 1)),\n",
    "      number_of_time_steps=NumberOfTimeSteps(1),\n",
    "      time_step_multiplier=TimeStepMultiplier(1),\n",
    "      steady_state=IsSteadyState.no()\n",
    "    ),\n",
    "    StressPeriod(\n",
    "      start_date_time=StartDateTime.from_datetime(datetime(2020, 4, 1)),\n",
    "      number_of_time_steps=NumberOfTimeSteps(1),\n",
    "      time_step_multiplier=TimeStepMultiplier(1),\n",
    "      steady_state=IsSteadyState.no()\n",
    "    ),\n",
    "    StressPeriod(\n",
    "      start_date_time=StartDateTime.from_datetime(datetime(2020, 5, 1)),\n",
    "      number_of_time_steps=NumberOfTimeSteps(1),\n",
    "      time_step_multiplier=TimeStepMultiplier(1),\n",
    "      steady_state=IsSteadyState.no()\n",
    "    ),\n",
    "    StressPeriod(\n",
    "      start_date_time=StartDateTime.from_datetime(datetime(2020, 6, 1)),\n",
    "      number_of_time_steps=NumberOfTimeSteps(1),\n",
    "      time_step_multiplier=TimeStepMultiplier(1),\n",
    "      steady_state=IsSteadyState.no()\n",
    "    ),\n",
    "    StressPeriod(\n",
    "      start_date_time=StartDateTime.from_datetime(datetime(2020, 7, 1)),\n",
    "      number_of_time_steps=NumberOfTimeSteps(1),\n",
    "      time_step_multiplier=TimeStepMultiplier(1),\n",
    "      steady_state=IsSteadyState.no()\n",
    "    ),\n",
    "    StressPeriod(\n",
    "      start_date_time=StartDateTime.from_datetime(datetime(2020, 8, 1)),\n",
    "      number_of_time_steps=NumberOfTimeSteps(1),\n",
    "      time_step_multiplier=TimeStepMultiplier(1),\n",
    "      steady_state=IsSteadyState.no()\n",
    "    ),\n",
    "    StressPeriod(\n",
    "      start_date_time=StartDateTime.from_datetime(datetime(2020, 9, 1)),\n",
    "      number_of_time_steps=NumberOfTimeSteps(1),\n",
    "      time_step_multiplier=TimeStepMultiplier(1),\n",
    "      steady_state=IsSteadyState.no()\n",
    "    ),\n",
    "    StressPeriod(\n",
    "      start_date_time=StartDateTime.from_datetime(datetime(2020, 10, 1)),\n",
    "      number_of_time_steps=NumberOfTimeSteps(1),\n",
    "      time_step_multiplier=TimeStepMultiplier(1),\n",
    "      steady_state=IsSteadyState.no()\n",
    "    ),\n",
    "    StressPeriod(\n",
    "      start_date_time=StartDateTime.from_datetime(datetime(2020, 11, 1)),\n",
    "      number_of_time_steps=NumberOfTimeSteps(1),\n",
    "      time_step_multiplier=TimeStepMultiplier(1),\n",
    "      steady_state=IsSteadyState.no()\n",
    "    ),\n",
    "    StressPeriod(\n",
    "      start_date_time=StartDateTime.from_datetime(datetime(2020, 12, 1)),\n",
    "      number_of_time_steps=NumberOfTimeSteps(1),\n",
    "      time_step_multiplier=TimeStepMultiplier(1),\n",
    "      steady_state=IsSteadyState.no()\n",
    "    ),\n",
    "  ]),\n",
    "  time_unit=TimeUnit.days()\n",
    ")\n",
    "\n",
    "time_discretization"
   ],
   "metadata": {
    "collapsed": false,
    "ExecuteTime": {
     "end_time": "2024-03-21T20:58:44.584796Z",
     "start_time": "2024-03-21T20:58:44.572738Z"
    }
   },
   "id": "8e4e63dd138db9fc"
  },
  {
   "cell_type": "code",
   "execution_count": 4,
   "outputs": [
    {
     "data": {
      "text/plain": "<folium.folium.Map at 0x1099d25d0>",
      "text/html": "<div style=\"width:100%;\"><div style=\"position:relative;width:100%;height:0;padding-bottom:60%;\"><span style=\"color:#565656\">Make this Notebook Trusted to load map: File -> Trust Notebook</span><iframe srcdoc=\"&lt;!DOCTYPE html&gt;\n&lt;html&gt;\n&lt;head&gt;\n    \n    &lt;meta http-equiv=&quot;content-type&quot; content=&quot;text/html; charset=UTF-8&quot; /&gt;\n    \n        &lt;script&gt;\n            L_NO_TOUCH = false;\n            L_DISABLE_3D = false;\n        &lt;/script&gt;\n    \n    &lt;style&gt;html, body {width: 100%;height: 100%;margin: 0;padding: 0;}&lt;/style&gt;\n    &lt;style&gt;#map {position:absolute;top:0;bottom:0;right:0;left:0;}&lt;/style&gt;\n    &lt;script src=&quot;https://cdn.jsdelivr.net/npm/leaflet@1.9.3/dist/leaflet.js&quot;&gt;&lt;/script&gt;\n    &lt;script src=&quot;https://code.jquery.com/jquery-3.7.1.min.js&quot;&gt;&lt;/script&gt;\n    &lt;script src=&quot;https://cdn.jsdelivr.net/npm/bootstrap@5.2.2/dist/js/bootstrap.bundle.min.js&quot;&gt;&lt;/script&gt;\n    &lt;script src=&quot;https://cdnjs.cloudflare.com/ajax/libs/Leaflet.awesome-markers/2.0.2/leaflet.awesome-markers.js&quot;&gt;&lt;/script&gt;\n    &lt;link rel=&quot;stylesheet&quot; href=&quot;https://cdn.jsdelivr.net/npm/leaflet@1.9.3/dist/leaflet.css&quot;/&gt;\n    &lt;link rel=&quot;stylesheet&quot; href=&quot;https://cdn.jsdelivr.net/npm/bootstrap@5.2.2/dist/css/bootstrap.min.css&quot;/&gt;\n    &lt;link rel=&quot;stylesheet&quot; href=&quot;https://netdna.bootstrapcdn.com/bootstrap/3.0.0/css/bootstrap.min.css&quot;/&gt;\n    &lt;link rel=&quot;stylesheet&quot; href=&quot;https://cdn.jsdelivr.net/npm/@fortawesome/fontawesome-free@6.2.0/css/all.min.css&quot;/&gt;\n    &lt;link rel=&quot;stylesheet&quot; href=&quot;https://cdnjs.cloudflare.com/ajax/libs/Leaflet.awesome-markers/2.0.2/leaflet.awesome-markers.css&quot;/&gt;\n    &lt;link rel=&quot;stylesheet&quot; href=&quot;https://cdn.jsdelivr.net/gh/python-visualization/folium/folium/templates/leaflet.awesome.rotate.min.css&quot;/&gt;\n    \n            &lt;meta name=&quot;viewport&quot; content=&quot;width=device-width,\n                initial-scale=1.0, maximum-scale=1.0, user-scalable=no&quot; /&gt;\n            &lt;style&gt;\n                #map_562668c31266f5a04475d12826cda439 {\n                    position: relative;\n                    width: 100.0%;\n                    height: 100.0%;\n                    left: 0.0%;\n                    top: 0.0%;\n                }\n                .leaflet-container { font-size: 1rem; }\n            &lt;/style&gt;\n        \n&lt;/head&gt;\n&lt;body&gt;\n    \n    \n            &lt;div class=&quot;folium-map&quot; id=&quot;map_562668c31266f5a04475d12826cda439&quot; &gt;&lt;/div&gt;\n        \n&lt;/body&gt;\n&lt;script&gt;\n    \n    \n            var map_562668c31266f5a04475d12826cda439 = L.map(\n                &quot;map_562668c31266f5a04475d12826cda439&quot;,\n                {\n                    center: [50.965, 13.922],\n                    crs: L.CRS.EPSG3857,\n                    zoom: 12,\n                    zoomControl: true,\n                    preferCanvas: false,\n                }\n            );\n\n            \n\n        \n    \n            var tile_layer_bcf174e74e03f2650152c0a6168690c3 = L.tileLayer(\n                &quot;https://{s}.basemaps.cartocdn.com/light_all/{z}/{x}/{y}{r}.png&quot;,\n                {&quot;attribution&quot;: &quot;\\u0026copy; \\u003ca href=\\&quot;https://www.openstreetmap.org/copyright\\&quot;\\u003eOpenStreetMap\\u003c/a\\u003e contributors \\u0026copy; \\u003ca href=\\&quot;https://carto.com/attributions\\&quot;\\u003eCARTO\\u003c/a\\u003e&quot;, &quot;detectRetina&quot;: false, &quot;maxNativeZoom&quot;: 20, &quot;maxZoom&quot;: 20, &quot;minZoom&quot;: 0, &quot;noWrap&quot;: false, &quot;opacity&quot;: 1, &quot;subdomains&quot;: &quot;abcd&quot;, &quot;tms&quot;: false}\n            );\n        \n    \n            tile_layer_bcf174e74e03f2650152c0a6168690c3.addTo(map_562668c31266f5a04475d12826cda439);\n        \n    \n\n        function geo_json_5f152a1c8fa5d37e96c7452a0f96c1b9_onEachFeature(feature, layer) {\n            layer.on({\n            });\n        };\n        var geo_json_5f152a1c8fa5d37e96c7452a0f96c1b9 = L.geoJson(null, {\n                onEachFeature: geo_json_5f152a1c8fa5d37e96c7452a0f96c1b9_onEachFeature,\n            \n        });\n\n        function geo_json_5f152a1c8fa5d37e96c7452a0f96c1b9_add (data) {\n            geo_json_5f152a1c8fa5d37e96c7452a0f96c1b9\n                .addData(data);\n        }\n            geo_json_5f152a1c8fa5d37e96c7452a0f96c1b9_add({&quot;coordinates&quot;: [[[13.922514437551428, 50.964720483303836], [13.925250781947113, 50.965228748412386], [13.925036413951403, 50.96623732041704], [13.92222441026388, 50.96629040370362], [13.922514437551428, 50.964720483303836]]], &quot;type&quot;: &quot;Polygon&quot;});\n\n        \n    \n            geo_json_5f152a1c8fa5d37e96c7452a0f96c1b9.addTo(map_562668c31266f5a04475d12826cda439);\n        \n    \n            map_562668c31266f5a04475d12826cda439.fitBounds(\n                [[50.964720483303836, 13.92222441026388], [50.96629040370362, 13.925250781947113]],\n                {}\n            );\n        \n&lt;/script&gt;\n&lt;/html&gt;\" style=\"position:absolute;width:100%;height:100%;left:0;top:0;border:none !important;\" allowfullscreen webkitallowfullscreen mozallowfullscreen></iframe></div></div>"
     },
     "execution_count": 4,
     "metadata": {},
     "output_type": "execute_result"
    }
   ],
   "source": [
    "import folium\n",
    "\n",
    "m = folium.Map(tiles=\"cartodbpositron\", crs=\"EPSG3857\", zoom_start=12, location=[50.965, 13.922])\n",
    "m.add_child(folium.GeoJson(polygon.as_geojson()))\n",
    "\n",
    "m.fit_bounds(m.get_bounds())\n",
    "m"
   ],
   "metadata": {
    "collapsed": false,
    "ExecuteTime": {
     "end_time": "2024-03-21T20:58:45.080890Z",
     "start_time": "2024-03-21T20:58:44.588472Z"
    }
   },
   "id": "1540b870ae83f298"
  },
  {
   "cell_type": "markdown",
   "source": [
    "## Setup modflow model"
   ],
   "metadata": {
    "collapsed": false
   },
   "id": "9df9979b6c9bdbed"
  },
  {
   "cell_type": "code",
   "execution_count": 5,
   "outputs": [],
   "source": [
    "from morpheus.modflow.types.ModflowModel import ModflowModel\n",
    "\n",
    "modflow_model = ModflowModel.new()\n",
    "modflow_model = modflow_model.with_updated_time_discretization(time_discretization)\n",
    "modflow_model = modflow_model.with_updated_spatial_discretization(spatial_discretization=spatial_discretization)"
   ],
   "metadata": {
    "collapsed": false,
    "ExecuteTime": {
     "end_time": "2024-03-21T20:58:45.327273Z",
     "start_time": "2024-03-21T20:58:45.082558Z"
    }
   },
   "id": "77045c334efc769c"
  },
  {
   "cell_type": "markdown",
   "source": [
    "# Setup well boundary"
   ],
   "metadata": {
    "collapsed": false
   },
   "id": "62ae3587df801000"
  },
  {
   "cell_type": "code",
   "execution_count": 6,
   "outputs": [
    {
     "data": {
      "text/plain": "<folium.folium.Map at 0x1099d25d0>",
      "text/html": "<div style=\"width:100%;\"><div style=\"position:relative;width:100%;height:0;padding-bottom:60%;\"><span style=\"color:#565656\">Make this Notebook Trusted to load map: File -> Trust Notebook</span><iframe srcdoc=\"&lt;!DOCTYPE html&gt;\n&lt;html&gt;\n&lt;head&gt;\n    \n    &lt;meta http-equiv=&quot;content-type&quot; content=&quot;text/html; charset=UTF-8&quot; /&gt;\n    \n        &lt;script&gt;\n            L_NO_TOUCH = false;\n            L_DISABLE_3D = false;\n        &lt;/script&gt;\n    \n    &lt;style&gt;html, body {width: 100%;height: 100%;margin: 0;padding: 0;}&lt;/style&gt;\n    &lt;style&gt;#map {position:absolute;top:0;bottom:0;right:0;left:0;}&lt;/style&gt;\n    &lt;script src=&quot;https://cdn.jsdelivr.net/npm/leaflet@1.9.3/dist/leaflet.js&quot;&gt;&lt;/script&gt;\n    &lt;script src=&quot;https://code.jquery.com/jquery-3.7.1.min.js&quot;&gt;&lt;/script&gt;\n    &lt;script src=&quot;https://cdn.jsdelivr.net/npm/bootstrap@5.2.2/dist/js/bootstrap.bundle.min.js&quot;&gt;&lt;/script&gt;\n    &lt;script src=&quot;https://cdnjs.cloudflare.com/ajax/libs/Leaflet.awesome-markers/2.0.2/leaflet.awesome-markers.js&quot;&gt;&lt;/script&gt;\n    &lt;link rel=&quot;stylesheet&quot; href=&quot;https://cdn.jsdelivr.net/npm/leaflet@1.9.3/dist/leaflet.css&quot;/&gt;\n    &lt;link rel=&quot;stylesheet&quot; href=&quot;https://cdn.jsdelivr.net/npm/bootstrap@5.2.2/dist/css/bootstrap.min.css&quot;/&gt;\n    &lt;link rel=&quot;stylesheet&quot; href=&quot;https://netdna.bootstrapcdn.com/bootstrap/3.0.0/css/bootstrap.min.css&quot;/&gt;\n    &lt;link rel=&quot;stylesheet&quot; href=&quot;https://cdn.jsdelivr.net/npm/@fortawesome/fontawesome-free@6.2.0/css/all.min.css&quot;/&gt;\n    &lt;link rel=&quot;stylesheet&quot; href=&quot;https://cdnjs.cloudflare.com/ajax/libs/Leaflet.awesome-markers/2.0.2/leaflet.awesome-markers.css&quot;/&gt;\n    &lt;link rel=&quot;stylesheet&quot; href=&quot;https://cdn.jsdelivr.net/gh/python-visualization/folium/folium/templates/leaflet.awesome.rotate.min.css&quot;/&gt;\n    \n            &lt;meta name=&quot;viewport&quot; content=&quot;width=device-width,\n                initial-scale=1.0, maximum-scale=1.0, user-scalable=no&quot; /&gt;\n            &lt;style&gt;\n                #map_562668c31266f5a04475d12826cda439 {\n                    position: relative;\n                    width: 100.0%;\n                    height: 100.0%;\n                    left: 0.0%;\n                    top: 0.0%;\n                }\n                .leaflet-container { font-size: 1rem; }\n            &lt;/style&gt;\n        \n&lt;/head&gt;\n&lt;body&gt;\n    \n    \n            &lt;div class=&quot;folium-map&quot; id=&quot;map_562668c31266f5a04475d12826cda439&quot; &gt;&lt;/div&gt;\n        \n&lt;/body&gt;\n&lt;script&gt;\n    \n    \n            var map_562668c31266f5a04475d12826cda439 = L.map(\n                &quot;map_562668c31266f5a04475d12826cda439&quot;,\n                {\n                    center: [50.965, 13.922],\n                    crs: L.CRS.EPSG3857,\n                    zoom: 12,\n                    zoomControl: true,\n                    preferCanvas: false,\n                }\n            );\n\n            \n\n        \n    \n            var tile_layer_bcf174e74e03f2650152c0a6168690c3 = L.tileLayer(\n                &quot;https://{s}.basemaps.cartocdn.com/light_all/{z}/{x}/{y}{r}.png&quot;,\n                {&quot;attribution&quot;: &quot;\\u0026copy; \\u003ca href=\\&quot;https://www.openstreetmap.org/copyright\\&quot;\\u003eOpenStreetMap\\u003c/a\\u003e contributors \\u0026copy; \\u003ca href=\\&quot;https://carto.com/attributions\\&quot;\\u003eCARTO\\u003c/a\\u003e&quot;, &quot;detectRetina&quot;: false, &quot;maxNativeZoom&quot;: 20, &quot;maxZoom&quot;: 20, &quot;minZoom&quot;: 0, &quot;noWrap&quot;: false, &quot;opacity&quot;: 1, &quot;subdomains&quot;: &quot;abcd&quot;, &quot;tms&quot;: false}\n            );\n        \n    \n            tile_layer_bcf174e74e03f2650152c0a6168690c3.addTo(map_562668c31266f5a04475d12826cda439);\n        \n    \n\n        function geo_json_5f152a1c8fa5d37e96c7452a0f96c1b9_onEachFeature(feature, layer) {\n            layer.on({\n            });\n        };\n        var geo_json_5f152a1c8fa5d37e96c7452a0f96c1b9 = L.geoJson(null, {\n                onEachFeature: geo_json_5f152a1c8fa5d37e96c7452a0f96c1b9_onEachFeature,\n            \n        });\n\n        function geo_json_5f152a1c8fa5d37e96c7452a0f96c1b9_add (data) {\n            geo_json_5f152a1c8fa5d37e96c7452a0f96c1b9\n                .addData(data);\n        }\n            geo_json_5f152a1c8fa5d37e96c7452a0f96c1b9_add({&quot;coordinates&quot;: [[[13.922514437551428, 50.964720483303836], [13.925250781947113, 50.965228748412386], [13.925036413951403, 50.96623732041704], [13.92222441026388, 50.96629040370362], [13.922514437551428, 50.964720483303836]]], &quot;type&quot;: &quot;Polygon&quot;});\n\n        \n    \n            geo_json_5f152a1c8fa5d37e96c7452a0f96c1b9.addTo(map_562668c31266f5a04475d12826cda439);\n        \n    \n            map_562668c31266f5a04475d12826cda439.fitBounds(\n                [[50.964720483303836, 13.92222441026388], [50.96629040370362, 13.925250781947113]],\n                {}\n            );\n        \n    \n            tile_layer_bcf174e74e03f2650152c0a6168690c3.addTo(map_562668c31266f5a04475d12826cda439);\n        \n    \n            geo_json_5f152a1c8fa5d37e96c7452a0f96c1b9.addTo(map_562668c31266f5a04475d12826cda439);\n        \n    \n\n        function geo_json_75d00aeac84c34375253b411dfdf5d0f_onEachFeature(feature, layer) {\n            layer.on({\n            });\n        };\n        var geo_json_75d00aeac84c34375253b411dfdf5d0f = L.geoJson(null, {\n                onEachFeature: geo_json_75d00aeac84c34375253b411dfdf5d0f_onEachFeature,\n            \n        });\n\n        function geo_json_75d00aeac84c34375253b411dfdf5d0f_add (data) {\n            geo_json_75d00aeac84c34375253b411dfdf5d0f\n                .addData(data);\n        }\n            geo_json_75d00aeac84c34375253b411dfdf5d0f_add({&quot;coordinates&quot;: [13.923, 50.966], &quot;type&quot;: &quot;Point&quot;});\n\n        \n    \n            geo_json_75d00aeac84c34375253b411dfdf5d0f.addTo(map_562668c31266f5a04475d12826cda439);\n        \n    \n\n        function geo_json_be58c1d366e3b92bd1e7cc0f79bedf01_onEachFeature(feature, layer) {\n            layer.on({\n            });\n        };\n        var geo_json_be58c1d366e3b92bd1e7cc0f79bedf01 = L.geoJson(null, {\n                onEachFeature: geo_json_be58c1d366e3b92bd1e7cc0f79bedf01_onEachFeature,\n            \n        });\n\n        function geo_json_be58c1d366e3b92bd1e7cc0f79bedf01_add (data) {\n            geo_json_be58c1d366e3b92bd1e7cc0f79bedf01\n                .addData(data);\n        }\n            geo_json_be58c1d366e3b92bd1e7cc0f79bedf01_add({&quot;geometries&quot;: [{&quot;coordinates&quot;: [[[13.922829684600526, 50.9661334140511], [13.923132321768849, 50.9661334140511], [13.923132321768849, 50.96597642386806], [13.922829684600526, 50.96597642386806], [13.922829684600526, 50.9661334140511]]], &quot;type&quot;: &quot;Polygon&quot;}], &quot;type&quot;: &quot;GeometryCollection&quot;});\n\n        \n    \n            geo_json_be58c1d366e3b92bd1e7cc0f79bedf01.addTo(map_562668c31266f5a04475d12826cda439);\n        \n    \n\n        function geo_json_5948210d1b15061c5288de1f05f1f3a6_onEachFeature(feature, layer) {\n            layer.on({\n            });\n        };\n        var geo_json_5948210d1b15061c5288de1f05f1f3a6 = L.geoJson(null, {\n                onEachFeature: geo_json_5948210d1b15061c5288de1f05f1f3a6_onEachFeature,\n            \n        });\n\n        function geo_json_5948210d1b15061c5288de1f05f1f3a6_add (data) {\n            geo_json_5948210d1b15061c5288de1f05f1f3a6\n                .addData(data);\n        }\n            geo_json_5948210d1b15061c5288de1f05f1f3a6_add({&quot;coordinates&quot;: [13.923, 50.966], &quot;type&quot;: &quot;Point&quot;});\n\n        \n    \n            geo_json_5948210d1b15061c5288de1f05f1f3a6.addTo(map_562668c31266f5a04475d12826cda439);\n        \n    \n            map_562668c31266f5a04475d12826cda439.fitBounds(\n                [[50.964720483303836, 13.92222441026388], [50.96629040370362, 13.925250781947113]],\n                {}\n            );\n        \n&lt;/script&gt;\n&lt;/html&gt;\" style=\"position:absolute;width:100%;height:100%;left:0;top:0;border:none !important;\" allowfullscreen webkitallowfullscreen mozallowfullscreen></iframe></div></div>"
     },
     "execution_count": 6,
     "metadata": {},
     "output_type": "execute_result"
    }
   ],
   "source": [
    "from morpheus.modflow.types.geometry import Point\n",
    "from morpheus.modflow.types.boundaries.Boundary import BoundaryName, WellBoundary\n",
    "from morpheus.modflow.types.boundaries.WellObservation import WellRawDataItem, PumpingRate\n",
    "\n",
    "layers_list = [modflow_model.soil_model.layers[0].id]\n",
    "well_boundary = WellBoundary.from_geometry(\n",
    "  name=BoundaryName('well_boundary'),\n",
    "  geometry=Point((13.923, 50.966)),\n",
    "  grid=grid,\n",
    "  affected_layers=[layers_list[0]],\n",
    "  raw_data=[\n",
    "    WellRawDataItem(\n",
    "      date_time=StartDateTime.from_datetime(datetime(2019, 1, 1)),\n",
    "      pumping_rate=PumpingRate.from_float(-5000),\n",
    "    ),\n",
    "    WellRawDataItem(\n",
    "      date_time=StartDateTime.from_datetime(datetime(2021, 12, 31)),\n",
    "      pumping_rate=PumpingRate.from_float(-1000),\n",
    "    ),\n",
    "  ]\n",
    ")\n",
    "\n",
    "well_boundary.affected_cells = well_boundary.affected_cells.filter(\n",
    "  lambda cell: spatial_discretization.affected_cells.contains(cell))\n",
    "\n",
    "m.add_child(folium.GeoJson(well_boundary.as_geojson()))\n",
    "m.add_child(folium.GeoJson(well_boundary.affected_cells.as_geojson(grid).as_geojson()))\n",
    "for well_boundary.observation in well_boundary.observations:\n",
    "  m.add_child(folium.GeoJson(well_boundary.observation.as_geojson()))\n",
    "m.fit_bounds(m.get_bounds())\n",
    "m"
   ],
   "metadata": {
    "collapsed": false,
    "ExecuteTime": {
     "end_time": "2024-03-21T20:58:45.381374Z",
     "start_time": "2024-03-21T20:58:45.328176Z"
    }
   },
   "id": "53679913aee28ce9"
  },
  {
   "cell_type": "markdown",
   "source": [
    "## Calculate constant head stress periods"
   ],
   "metadata": {
    "collapsed": false
   },
   "id": "b33c8f87aa3516fc"
  },
  {
   "cell_type": "code",
   "execution_count": 7,
   "outputs": [
    {
     "data": {
      "text/plain": "{0: [[0, 1, 2, -3610.0456621004564]],\n 1: [[0, 1, 2, -3500.4566210045664]],\n 2: [[0, 1, 2, -3390.867579908676]],\n 3: [[0, 1, 2, -3279.452054794521]],\n 4: [[0, 1, 2, -3168.0365296803648]],\n 5: [[0, 1, 2, -3056.6210045662106]],\n 6: [[0, 1, 2, -2945.2054794520545]],\n 7: [[0, 1, 2, -2831.9634703196343]],\n 8: [[0, 1, 2, -2720.5479452054797]],\n 9: [[0, 1, 2, -2609.132420091324]],\n 10: [[0, 1, 2, -2497.7168949771694]],\n 11: [[0, 1, 2, -2388.1278538812785]]}"
     },
     "execution_count": 7,
     "metadata": {},
     "output_type": "execute_result"
    }
   ],
   "source": [
    "from morpheus.modflow.infrastructure.calculation.engines.modflow_2005.packages.WelPackageMapper import \\\n",
    "  calculate_wel_boundary_stress_period_data\n",
    "\n",
    "result = calculate_wel_boundary_stress_period_data(\n",
    "  spatial_discretization=spatial_discretization,\n",
    "  time_discretization=time_discretization,\n",
    "  soil_model=modflow_model.soil_model,\n",
    "  wel_boundary=well_boundary,\n",
    ")\n",
    "result.to_dict()"
   ],
   "metadata": {
    "collapsed": false,
    "ExecuteTime": {
     "end_time": "2024-03-21T20:58:45.772310Z",
     "start_time": "2024-03-21T20:58:45.383935Z"
    }
   },
   "id": "c02b9bf2e59abc77"
  },
  {
   "cell_type": "code",
   "execution_count": 7,
   "outputs": [],
   "source": [],
   "metadata": {
    "collapsed": false,
    "ExecuteTime": {
     "end_time": "2024-03-21T20:58:45.774518Z",
     "start_time": "2024-03-21T20:58:45.772998Z"
    }
   },
   "id": "456c70a51421e384"
  }
 ],
 "metadata": {
  "kernelspec": {
   "display_name": "Python 3",
   "language": "python",
   "name": "python3"
  },
  "language_info": {
   "codemirror_mode": {
    "name": "ipython",
    "version": 2
   },
   "file_extension": ".py",
   "mimetype": "text/x-python",
   "name": "python",
   "nbconvert_exporter": "python",
   "pygments_lexer": "ipython2",
   "version": "2.7.6"
  }
 },
 "nbformat": 4,
 "nbformat_minor": 5
}
