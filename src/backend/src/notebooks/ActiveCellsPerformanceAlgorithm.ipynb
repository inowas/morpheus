{
 "cells": [
  {
   "cell_type": "code",
   "execution_count": 1,
   "id": "ba6761fae9d5e5cb",
   "metadata": {
    "ExecuteTime": {
     "end_time": "2024-08-18T20:47:21.001548Z",
     "start_time": "2024-08-18T20:47:20.996052Z"
    },
    "collapsed": false,
    "execution": {
     "iopub.execute_input": "2024-08-19T20:26:28.272815Z",
     "iopub.status.busy": "2024-08-19T20:26:28.270564Z",
     "iopub.status.idle": "2024-08-19T20:26:28.309915Z",
     "shell.execute_reply": "2024-08-19T20:26:28.294900Z"
    },
    "papermill": {
     "duration": 0.053399,
     "end_time": "2024-08-19T20:26:28.310955",
     "exception": false,
     "start_time": "2024-08-19T20:26:28.257556",
     "status": "completed"
    },
    "tags": []
   },
   "outputs": [],
   "source": [
    "import sys\n",
    "\n",
    "sys.path.insert(0, '..')\n",
    "\n",
    "#!{sys.executable} -m pip install folium\n",
    "#!{sys.executable} -m pip install openapi_core\n"
   ]
  },
  {
   "cell_type": "markdown",
   "id": "13769f3bb99b30eb",
   "metadata": {
    "papermill": {
     "duration": 0.005856,
     "end_time": "2024-08-19T20:26:28.319340",
     "exception": false,
     "start_time": "2024-08-19T20:26:28.313484",
     "status": "completed"
    },
    "tags": []
   },
   "source": [
    "## Active Cells Performance Algorithm"
   ]
  },
  {
   "cell_type": "markdown",
   "id": "3a25d66ee6a28546",
   "metadata": {
    "papermill": {
     "duration": 0.002539,
     "end_time": "2024-08-19T20:26:28.326672",
     "exception": false,
     "start_time": "2024-08-19T20:26:28.324133",
     "status": "completed"
    },
    "tags": []
   },
   "source": [
    "In the detection of active cells, the algorithm must be able to quickly identify the cells that are within the polygon or line string. The algorithm must be able to handle large grids and complex geometries.\n",
    "In the previous implementation we have iterated over all the cells in the grid and checked if the cell was within the geometry. This approach is not efficient for large grids and complex geometries.\n",
    "In this notebook we will implement a new algorithm that is more efficient."
   ]
  },
  {
   "cell_type": "markdown",
   "id": "967faa4f94e8ab84",
   "metadata": {
    "papermill": {
     "duration": 0.002131,
     "end_time": "2024-08-19T20:26:28.332811",
     "exception": false,
     "start_time": "2024-08-19T20:26:28.330680",
     "status": "completed"
    },
    "tags": []
   },
   "source": [
    "First we define a simple grid with 10 rows and 10 columns."
   ]
  },
  {
   "cell_type": "code",
   "execution_count": 2,
   "id": "7a92995ec412a8b5",
   "metadata": {
    "ExecuteTime": {
     "end_time": "2024-08-18T20:47:21.093756Z",
     "start_time": "2024-08-18T20:47:21.008458Z"
    },
    "execution": {
     "iopub.execute_input": "2024-08-19T20:26:28.338945Z",
     "iopub.status.busy": "2024-08-19T20:26:28.338768Z",
     "iopub.status.idle": "2024-08-19T20:26:28.537081Z",
     "shell.execute_reply": "2024-08-19T20:26:28.495488Z"
    },
    "papermill": {
     "duration": 0.209706,
     "end_time": "2024-08-19T20:26:28.545063",
     "exception": false,
     "start_time": "2024-08-19T20:26:28.335357",
     "status": "completed"
    },
    "tags": []
   },
   "outputs": [
    {
     "data": {
      "image/svg+xml": [
       "<svg xmlns=\"http://www.w3.org/2000/svg\" xmlns:xlink=\"http://www.w3.org/1999/xlink\" width=\"100.0\" height=\"100.0\" viewBox=\"-0.4 -0.4 10.8 10.8\" preserveAspectRatio=\"xMinYMin meet\"><g transform=\"matrix(1,0,0,-1,0,10.0)\"><path fill-rule=\"evenodd\" fill=\"#66cc99\" stroke=\"#555555\" stroke-width=\"0.21600000000000003\" opacity=\"0.6\" d=\"M 0.0,0.0 L 0.0,10.0 L 10.0,10.0 L 10.0,0.0 L 0.0,0.0 z\" /></g></svg>"
      ],
      "text/plain": [
       "<POLYGON ((0 0, 0 10, 10 10, 10 0, 0 0))>"
      ]
     },
     "execution_count": 2,
     "metadata": {},
     "output_type": "execute_result"
    }
   ],
   "source": [
    "from shapely.geometry import LineString, Polygon, Point, MultiLineString\n",
    "\n",
    "grid_polygon = Polygon([(0, 0), (0, 10), (10, 10), (10, 0)])\n",
    "min_x, min_y, max_x, max_y = grid_polygon.bounds\n",
    "\n",
    "cell_size = 1\n",
    "rows = 10\n",
    "row_coords = [i for i in range(rows)] + [rows]\n",
    "\n",
    "cols = 10\n",
    "col_coords = [i for i in range(cols)] + [cols]\n",
    "\n",
    "grid_polygon"
   ]
  },
  {
   "cell_type": "markdown",
   "id": "b1b5734161426627",
   "metadata": {
    "papermill": {
     "duration": 0.011757,
     "end_time": "2024-08-19T20:26:28.561648",
     "exception": false,
     "start_time": "2024-08-19T20:26:28.549891",
     "status": "completed"
    },
    "tags": []
   },
   "source": [
    "### The algorithm will be based on the following steps:\n",
    "- intersect the grid bounds with the geometry (for the case if the geometry has parts outside the grid)\n",
    "- create a line string for each row in the grid which goes through the center of the cell"
   ]
  },
  {
   "cell_type": "markdown",
   "id": "3aed129b8dadbbaa",
   "metadata": {
    "papermill": {
     "duration": 0.011907,
     "end_time": "2024-08-19T20:26:28.584920",
     "exception": false,
     "start_time": "2024-08-19T20:26:28.573013",
     "status": "completed"
    },
    "tags": []
   },
   "source": [
    "### We create a line string for the representation of each row and column in the grid (through center of the cell)"
   ]
  },
  {
   "cell_type": "code",
   "execution_count": 3,
   "id": "b997d33a17adcab6",
   "metadata": {
    "ExecuteTime": {
     "end_time": "2024-08-18T20:47:21.231789Z",
     "start_time": "2024-08-18T20:47:21.223114Z"
    },
    "execution": {
     "iopub.execute_input": "2024-08-19T20:26:28.600490Z",
     "iopub.status.busy": "2024-08-19T20:26:28.600052Z",
     "iopub.status.idle": "2024-08-19T20:26:28.624806Z",
     "shell.execute_reply": "2024-08-19T20:26:28.614073Z"
    },
    "papermill": {
     "duration": 0.039694,
     "end_time": "2024-08-19T20:26:28.629412",
     "exception": false,
     "start_time": "2024-08-19T20:26:28.589718",
     "status": "completed"
    },
    "tags": []
   },
   "outputs": [],
   "source": [
    "row_centers = [(row_coords[i] + row_coords[i + 1]) / 2 for i in range(rows)]\n",
    "row_center_lines = [LineString([(min_x, y), (max_x, y)]) for y in row_centers]\n",
    "\n",
    "col_centers = [(col_coords[i] + col_coords[i + 1]) / 2 for i in range(cols)]\n",
    "col_center_lines = [LineString([(x, min_y), (x, max_y)]) for x in col_centers]"
   ]
  },
  {
   "cell_type": "markdown",
   "id": "25c1784265e6463a",
   "metadata": {
    "papermill": {
     "duration": 0.004911,
     "end_time": "2024-08-19T20:26:28.644488",
     "exception": false,
     "start_time": "2024-08-19T20:26:28.639577",
     "status": "completed"
    },
    "tags": []
   },
   "source": []
  },
  {
   "cell_type": "markdown",
   "id": "25a5f534cc01b312",
   "metadata": {
    "papermill": {
     "duration": 0.003778,
     "end_time": "2024-08-19T20:26:28.654572",
     "exception": false,
     "start_time": "2024-08-19T20:26:28.650794",
     "status": "completed"
    },
    "tags": []
   },
   "source": [
    "### Detection for point geometries:\n",
    "\n",
    "The algorithm for point geometries is the same as the previous implementation"
   ]
  },
  {
   "cell_type": "code",
   "execution_count": 4,
   "id": "6c084907371747e1",
   "metadata": {
    "ExecuteTime": {
     "end_time": "2024-08-18T20:47:21.251425Z",
     "start_time": "2024-08-18T20:47:21.245687Z"
    },
    "execution": {
     "iopub.execute_input": "2024-08-19T20:26:28.667778Z",
     "iopub.status.busy": "2024-08-19T20:26:28.667144Z",
     "iopub.status.idle": "2024-08-19T20:26:28.669771Z",
     "shell.execute_reply": "2024-08-19T20:26:28.669469Z"
    },
    "papermill": {
     "duration": 0.008566,
     "end_time": "2024-08-19T20:26:28.670867",
     "exception": false,
     "start_time": "2024-08-19T20:26:28.662301",
     "status": "completed"
    },
    "tags": []
   },
   "outputs": [],
   "source": [
    "def get_active_cell(point: Point, r_coords: list, c_coords: list):\n",
    "  active_cell_col = -1\n",
    "  active_cell_row = -1\n",
    "\n",
    "  for y in r_coords:\n",
    "    if y > point.y:\n",
    "      break\n",
    "    active_cell_row += 1\n",
    "\n",
    "  for x in c_coords:\n",
    "    if x > point.x:\n",
    "      break\n",
    "    active_cell_col += 1\n",
    "\n",
    "  return active_cell_col, active_cell_row"
   ]
  },
  {
   "cell_type": "code",
   "execution_count": 5,
   "id": "72f83360a64cc5d",
   "metadata": {
    "ExecuteTime": {
     "end_time": "2024-08-18T20:47:21.272218Z",
     "start_time": "2024-08-18T20:47:21.265627Z"
    },
    "execution": {
     "iopub.execute_input": "2024-08-19T20:26:28.677916Z",
     "iopub.status.busy": "2024-08-19T20:26:28.677763Z",
     "iopub.status.idle": "2024-08-19T20:26:28.681252Z",
     "shell.execute_reply": "2024-08-19T20:26:28.680404Z"
    },
    "papermill": {
     "duration": 0.009006,
     "end_time": "2024-08-19T20:26:28.683244",
     "exception": false,
     "start_time": "2024-08-19T20:26:28.674238",
     "status": "completed"
    },
    "tags": []
   },
   "outputs": [
    {
     "data": {
      "text/plain": [
       "(2, 5)"
      ]
     },
     "execution_count": 5,
     "metadata": {},
     "output_type": "execute_result"
    }
   ],
   "source": [
    "point = Point(2.1, 5.5)\n",
    "get_active_cell(point=point, r_coords=row_coords, c_coords=col_coords)"
   ]
  },
  {
   "cell_type": "code",
   "execution_count": 6,
   "id": "f6f8813fdc2d9ef3",
   "metadata": {
    "ExecuteTime": {
     "end_time": "2024-08-18T20:47:21.297349Z",
     "start_time": "2024-08-18T20:47:21.292767Z"
    },
    "execution": {
     "iopub.execute_input": "2024-08-19T20:26:28.694557Z",
     "iopub.status.busy": "2024-08-19T20:26:28.694290Z",
     "iopub.status.idle": "2024-08-19T20:26:28.701158Z",
     "shell.execute_reply": "2024-08-19T20:26:28.698775Z"
    },
    "papermill": {
     "duration": 0.0152,
     "end_time": "2024-08-19T20:26:28.703514",
     "exception": false,
     "start_time": "2024-08-19T20:26:28.688314",
     "status": "completed"
    },
    "tags": []
   },
   "outputs": [
    {
     "data": {
      "text/plain": [
       "(0, 0)"
      ]
     },
     "execution_count": 6,
     "metadata": {},
     "output_type": "execute_result"
    }
   ],
   "source": [
    "point = Point(0.1, 0.1)\n",
    "get_active_cell(point=point, r_coords=row_coords, c_coords=col_coords)"
   ]
  },
  {
   "cell_type": "code",
   "execution_count": 7,
   "id": "24ba6df08946a1ab",
   "metadata": {
    "ExecuteTime": {
     "end_time": "2024-08-18T20:47:21.313774Z",
     "start_time": "2024-08-18T20:47:21.309369Z"
    },
    "execution": {
     "iopub.execute_input": "2024-08-19T20:26:28.715608Z",
     "iopub.status.busy": "2024-08-19T20:26:28.715017Z",
     "iopub.status.idle": "2024-08-19T20:26:28.720445Z",
     "shell.execute_reply": "2024-08-19T20:26:28.719799Z"
    },
    "papermill": {
     "duration": 0.01399,
     "end_time": "2024-08-19T20:26:28.722701",
     "exception": false,
     "start_time": "2024-08-19T20:26:28.708711",
     "status": "completed"
    },
    "tags": []
   },
   "outputs": [
    {
     "data": {
      "text/plain": [
       "(9, 9)"
      ]
     },
     "execution_count": 7,
     "metadata": {},
     "output_type": "execute_result"
    }
   ],
   "source": [
    "point = Point(9.1, 9.1)\n",
    "get_active_cell(point=point, r_coords=row_coords, c_coords=col_coords)"
   ]
  },
  {
   "cell_type": "code",
   "execution_count": 8,
   "id": "ef3fcb59c6fedd6c",
   "metadata": {
    "ExecuteTime": {
     "end_time": "2024-08-18T20:47:21.326959Z",
     "start_time": "2024-08-18T20:47:21.322482Z"
    },
    "execution": {
     "iopub.execute_input": "2024-08-19T20:26:28.736080Z",
     "iopub.status.busy": "2024-08-19T20:26:28.735781Z",
     "iopub.status.idle": "2024-08-19T20:26:28.741222Z",
     "shell.execute_reply": "2024-08-19T20:26:28.740473Z"
    },
    "papermill": {
     "duration": 0.016815,
     "end_time": "2024-08-19T20:26:28.744253",
     "exception": false,
     "start_time": "2024-08-19T20:26:28.727438",
     "status": "completed"
    },
    "tags": []
   },
   "outputs": [
    {
     "data": {
      "text/plain": [
       "(4, 0)"
      ]
     },
     "execution_count": 8,
     "metadata": {},
     "output_type": "execute_result"
    }
   ],
   "source": [
    "point = Point(4.25, 0.5)\n",
    "get_active_cell(point=point, r_coords=row_coords, c_coords=col_coords)"
   ]
  },
  {
   "cell_type": "code",
   "execution_count": 9,
   "id": "96559972e9064a20",
   "metadata": {
    "ExecuteTime": {
     "end_time": "2024-08-18T20:47:21.346520Z",
     "start_time": "2024-08-18T20:47:21.343634Z"
    },
    "execution": {
     "iopub.execute_input": "2024-08-19T20:26:28.751093Z",
     "iopub.status.busy": "2024-08-19T20:26:28.750947Z",
     "iopub.status.idle": "2024-08-19T20:26:28.754325Z",
     "shell.execute_reply": "2024-08-19T20:26:28.753595Z"
    },
    "papermill": {
     "duration": 0.008129,
     "end_time": "2024-08-19T20:26:28.755763",
     "exception": false,
     "start_time": "2024-08-19T20:26:28.747634",
     "status": "completed"
    },
    "tags": []
   },
   "outputs": [
    {
     "data": {
      "text/plain": [
       "(4, 1)"
      ]
     },
     "execution_count": 9,
     "metadata": {},
     "output_type": "execute_result"
    }
   ],
   "source": [
    "point = Point(4.25, 1.5)\n",
    "get_active_cell(point=point, r_coords=row_coords, c_coords=col_coords)"
   ]
  },
  {
   "cell_type": "markdown",
   "id": "f4ae6d1a3fea656",
   "metadata": {
    "papermill": {
     "duration": 0.003566,
     "end_time": "2024-08-19T20:26:28.763547",
     "exception": false,
     "start_time": "2024-08-19T20:26:28.759981",
     "status": "completed"
    },
    "tags": []
   },
   "source": [
    "### Detection for linestring geometries:\n",
    "\n",
    "  * Intersect the grid bounds with the geometry (for the case if the geometry has parts outside the grid)  \n",
    "  * Intersect the linestring with linestring representing the row and column lines\n",
    "  * The results will be stored in a point list\n",
    "  * Calculate the cells with the algorithm for point geometries\n",
    "  * It's possible to have multiple points detected for the same cell"
   ]
  },
  {
   "cell_type": "code",
   "execution_count": 10,
   "id": "77775599a23687b3",
   "metadata": {
    "ExecuteTime": {
     "end_time": "2024-08-18T20:47:21.362578Z",
     "start_time": "2024-08-18T20:47:21.359641Z"
    },
    "execution": {
     "iopub.execute_input": "2024-08-19T20:26:28.772020Z",
     "iopub.status.busy": "2024-08-19T20:26:28.771861Z",
     "iopub.status.idle": "2024-08-19T20:26:28.779037Z",
     "shell.execute_reply": "2024-08-19T20:26:28.777924Z"
    },
    "papermill": {
     "duration": 0.014284,
     "end_time": "2024-08-19T20:26:28.781774",
     "exception": false,
     "start_time": "2024-08-19T20:26:28.767490",
     "status": "completed"
    },
    "tags": []
   },
   "outputs": [
    {
     "name": "stdout",
     "output_type": "stream",
     "text": [
      "LINESTRING (2.5 2.5, 8.5 10.5)\n",
      "LINESTRING (2.5 2.5, 8.125 10)\n"
     ]
    }
   ],
   "source": [
    "linestring = LineString([(2.5, 2.5), (8.5, 10.5)])\n",
    "print(linestring)\n",
    "\n",
    "linestring = grid_polygon.intersection(linestring)\n",
    "print(linestring)"
   ]
  },
  {
   "cell_type": "code",
   "execution_count": 11,
   "id": "bfecde8d5a036a0e",
   "metadata": {
    "ExecuteTime": {
     "end_time": "2024-08-18T20:47:21.375978Z",
     "start_time": "2024-08-18T20:47:21.372797Z"
    },
    "execution": {
     "iopub.execute_input": "2024-08-19T20:26:28.788709Z",
     "iopub.status.busy": "2024-08-19T20:26:28.788557Z",
     "iopub.status.idle": "2024-08-19T20:26:28.792392Z",
     "shell.execute_reply": "2024-08-19T20:26:28.791477Z"
    },
    "papermill": {
     "duration": 0.009134,
     "end_time": "2024-08-19T20:26:28.794121",
     "exception": false,
     "start_time": "2024-08-19T20:26:28.784987",
     "status": "completed"
    },
    "tags": []
   },
   "outputs": [
    {
     "name": "stdout",
     "output_type": "stream",
     "text": [
      "[<LINESTRING Z EMPTY>, <LINESTRING Z EMPTY>, <POINT (2.5 2.5)>, <POINT (3.25 3.5)>, <POINT (4 4.5)>, <POINT (4.75 5.5)>, <POINT (5.5 6.5)>, <POINT (6.25 7.5)>, <POINT (7 8.5)>, <POINT (7.75 9.5)>, <LINESTRING Z EMPTY>, <LINESTRING Z EMPTY>, <POINT (2.5 2.5)>, <POINT (3.5 3.833)>, <POINT (4.5 5.167)>, <POINT (5.5 6.5)>, <POINT (6.5 7.833)>, <POINT (7.5 9.167)>, <LINESTRING Z EMPTY>, <LINESTRING Z EMPTY>]\n",
      "[<POINT (2.5 2.5)>, <POINT (3.25 3.5)>, <POINT (4 4.5)>, <POINT (4.75 5.5)>, <POINT (5.5 6.5)>, <POINT (6.25 7.5)>, <POINT (7 8.5)>, <POINT (7.75 9.5)>, <POINT (2.5 2.5)>, <POINT (3.5 3.833)>, <POINT (4.5 5.167)>, <POINT (5.5 6.5)>, <POINT (6.5 7.833)>, <POINT (7.5 9.167)>]\n"
     ]
    }
   ],
   "source": [
    "intersections = [linestring.intersection(row_center_line) for row_center_line in row_center_lines] + [linestring.intersection(col_center_line) for col_center_line in col_center_lines]\n",
    "print(intersections)\n",
    "intersection_points = [point for point in intersections if point.geom_type == 'Point']\n",
    "print(intersection_points)"
   ]
  },
  {
   "cell_type": "code",
   "execution_count": 12,
   "id": "9defd5a31fbc65c8",
   "metadata": {
    "ExecuteTime": {
     "end_time": "2024-08-18T20:47:21.391827Z",
     "start_time": "2024-08-18T20:47:21.386634Z"
    },
    "execution": {
     "iopub.execute_input": "2024-08-19T20:26:28.800707Z",
     "iopub.status.busy": "2024-08-19T20:26:28.800486Z",
     "iopub.status.idle": "2024-08-19T20:26:28.804631Z",
     "shell.execute_reply": "2024-08-19T20:26:28.804078Z"
    },
    "papermill": {
     "duration": 0.008533,
     "end_time": "2024-08-19T20:26:28.805506",
     "exception": false,
     "start_time": "2024-08-19T20:26:28.796973",
     "status": "completed"
    },
    "tags": []
   },
   "outputs": [
    {
     "data": {
      "text/plain": [
       "[(2, 2),\n",
       " (3, 3),\n",
       " (4, 4),\n",
       " (4, 5),\n",
       " (5, 6),\n",
       " (6, 7),\n",
       " (7, 8),\n",
       " (7, 9),\n",
       " (2, 2),\n",
       " (3, 3),\n",
       " (4, 5),\n",
       " (5, 6),\n",
       " (6, 7),\n",
       " (7, 9)]"
      ]
     },
     "execution_count": 12,
     "metadata": {},
     "output_type": "execute_result"
    }
   ],
   "source": [
    "active_cells = [get_active_cell(point=point, r_coords=row_coords, c_coords=col_coords) for point in intersection_points]\n",
    "active_cells"
   ]
  },
  {
   "cell_type": "markdown",
   "id": "31bc5b542cb5d8a8",
   "metadata": {
    "papermill": {
     "duration": 0.002544,
     "end_time": "2024-08-19T20:26:28.810692",
     "exception": false,
     "start_time": "2024-08-19T20:26:28.808148",
     "status": "completed"
    },
    "tags": []
   },
   "source": [
    "### Detection for polygon geometries:\n",
    "\n",
    "* Intersect the grid bounds with the geometry (for the case if the geometry has parts outside the grid)  \n",
    "* Intersect the polygon with each row line string\n",
    "  * The result for each row is an empty linestring, a linestring or a multilinestring\n",
    "  * An empty linestring means that there is no active cell in the row\n",
    "    * No further calculation is needed for this row\n",
    "  * A linestring means that there are minimum 1 active cell in the row, not separated by an unactive cell\n",
    "    * All cells in between the start and end point of the linestring are active\n",
    "    * Calculate for both points the active cell and fill the space between the points with active cells\n",
    "     \n",
    "  * A multilinestring means that there are multiple active cells in the row, separated by an unactive cell\n",
    "    * Calculate for each linestring the active cell and fill the space between the points with active cells\n"
   ]
  },
  {
   "cell_type": "code",
   "execution_count": 13,
   "id": "8fa294c019caab7a",
   "metadata": {
    "ExecuteTime": {
     "end_time": "2024-08-18T20:47:21.408513Z",
     "start_time": "2024-08-18T20:47:21.405319Z"
    },
    "execution": {
     "iopub.execute_input": "2024-08-19T20:26:28.816045Z",
     "iopub.status.busy": "2024-08-19T20:26:28.815915Z",
     "iopub.status.idle": "2024-08-19T20:26:28.818195Z",
     "shell.execute_reply": "2024-08-19T20:26:28.817955Z"
    },
    "papermill": {
     "duration": 0.005857,
     "end_time": "2024-08-19T20:26:28.818966",
     "exception": false,
     "start_time": "2024-08-19T20:26:28.813109",
     "status": "completed"
    },
    "tags": []
   },
   "outputs": [
    {
     "name": "stdout",
     "output_type": "stream",
     "text": [
      "POLYGON ((2 1, 11 3, 10 11, 5.5 8.5, 3 11, 1 9, 2 1))\n",
      "POLYGON ((4 10, 5.5 8.5, 8.2 10, 10 10, 10 2.7777777777777777, 2 1, 1 9, 2 10, 4 10))\n"
     ]
    }
   ],
   "source": [
    "polygon = Polygon([(2,1), (11,3), (10, 11), (5.5, 8.5), (3,11), (1,9), (2,1)])\n",
    "print(polygon)\n",
    "\n",
    "polygon = grid_polygon.intersection(polygon)\n",
    "print(polygon)"
   ]
  },
  {
   "cell_type": "code",
   "execution_count": 14,
   "id": "d1a3300f773de36e",
   "metadata": {
    "ExecuteTime": {
     "end_time": "2024-08-18T20:47:21.425094Z",
     "start_time": "2024-08-18T20:47:21.419681Z"
    },
    "execution": {
     "iopub.execute_input": "2024-08-19T20:26:28.824208Z",
     "iopub.status.busy": "2024-08-19T20:26:28.824091Z",
     "iopub.status.idle": "2024-08-19T20:26:28.826841Z",
     "shell.execute_reply": "2024-08-19T20:26:28.826632Z"
    },
    "papermill": {
     "duration": 0.006246,
     "end_time": "2024-08-19T20:26:28.827599",
     "exception": false,
     "start_time": "2024-08-19T20:26:28.821353",
     "status": "completed"
    },
    "tags": []
   },
   "outputs": [
    {
     "data": {
      "image/svg+xml": [
       "<svg xmlns=\"http://www.w3.org/2000/svg\" xmlns:xlink=\"http://www.w3.org/1999/xlink\" width=\"100.0\" height=\"100.0\" viewBox=\"0.7050000000000001 1.1425 9.6525 8.715\" preserveAspectRatio=\"xMinYMin meet\"><g transform=\"matrix(1,0,0,-1,0,11.0)\"><g><polyline fill=\"none\" stroke=\"#66cc99\" stroke-width=\"0.19305\" points=\"1.9375,1.5 4.25,1.5\" opacity=\"0.8\" /><polyline fill=\"none\" stroke=\"#66cc99\" stroke-width=\"0.19305\" points=\"1.8125,2.5 8.75,2.5\" opacity=\"0.8\" /><polyline fill=\"none\" stroke=\"#66cc99\" stroke-width=\"0.19305\" points=\"1.6875,3.5 10.0,3.5\" opacity=\"0.8\" /><polyline fill=\"none\" stroke=\"#66cc99\" stroke-width=\"0.19305\" points=\"1.5625,4.5 10.0,4.5\" opacity=\"0.8\" /><polyline fill=\"none\" stroke=\"#66cc99\" stroke-width=\"0.19305\" points=\"1.4375,5.5 10.0,5.5\" opacity=\"0.8\" /><polyline fill=\"none\" stroke=\"#66cc99\" stroke-width=\"0.19305\" points=\"1.3125,6.5 10.0,6.5\" opacity=\"0.8\" /><polyline fill=\"none\" stroke=\"#66cc99\" stroke-width=\"0.19305\" points=\"1.1875,7.5 10.0,7.5\" opacity=\"0.8\" /><polyline fill=\"none\" stroke=\"#66cc99\" stroke-width=\"0.19305\" points=\"1.0625,8.5 5.5,8.5\" opacity=\"0.8\" /><polyline fill=\"none\" stroke=\"#66cc99\" stroke-width=\"0.19305\" points=\"5.5,8.5 10.0,8.5\" opacity=\"0.8\" /><polyline fill=\"none\" stroke=\"#66cc99\" stroke-width=\"0.19305\" points=\"1.5,9.5 4.5,9.5\" opacity=\"0.8\" /><polyline fill=\"none\" stroke=\"#66cc99\" stroke-width=\"0.19305\" points=\"7.3,9.5 10.0,9.5\" opacity=\"0.8\" /></g></g></svg>"
      ],
      "text/plain": [
       "<MULTILINESTRING ((1.938 1.5, 4.25 1.5), (1.812 2.5, 8.75 2.5), (1.688 3.5, ...>"
      ]
     },
     "execution_count": 14,
     "metadata": {},
     "output_type": "execute_result"
    }
   ],
   "source": [
    "from shapely.lib import intersection\n",
    "\n",
    "multi_linestring =  MultiLineString([row_center_line.coords for row_center_line in row_center_lines])\n",
    "intersections = intersection(polygon, multi_linestring)\n",
    "intersections"
   ]
  },
  {
   "cell_type": "code",
   "execution_count": 15,
   "id": "ad4ea89f470a8108",
   "metadata": {
    "ExecuteTime": {
     "end_time": "2024-08-18T20:47:21.437749Z",
     "start_time": "2024-08-18T20:47:21.434381Z"
    },
    "execution": {
     "iopub.execute_input": "2024-08-19T20:26:28.832974Z",
     "iopub.status.busy": "2024-08-19T20:26:28.832879Z",
     "iopub.status.idle": "2024-08-19T20:26:28.834787Z",
     "shell.execute_reply": "2024-08-19T20:26:28.834441Z"
    },
    "papermill": {
     "duration": 0.005395,
     "end_time": "2024-08-19T20:26:28.835555",
     "exception": false,
     "start_time": "2024-08-19T20:26:28.830160",
     "status": "completed"
    },
    "tags": []
   },
   "outputs": [
    {
     "name": "stdout",
     "output_type": "stream",
     "text": [
      "<shapely.geometry.base.GeometrySequence object at 0x10472f200>\n"
     ]
    }
   ],
   "source": [
    "print(intersections.geoms)"
   ]
  },
  {
   "cell_type": "code",
   "execution_count": 16,
   "id": "2bb2b78bb98b14b8",
   "metadata": {
    "ExecuteTime": {
     "end_time": "2024-08-18T20:47:21.448384Z",
     "start_time": "2024-08-18T20:47:21.445151Z"
    },
    "execution": {
     "iopub.execute_input": "2024-08-19T20:26:28.841670Z",
     "iopub.status.busy": "2024-08-19T20:26:28.841542Z",
     "iopub.status.idle": "2024-08-19T20:26:28.844379Z",
     "shell.execute_reply": "2024-08-19T20:26:28.844141Z"
    },
    "papermill": {
     "duration": 0.006874,
     "end_time": "2024-08-19T20:26:28.845148",
     "exception": false,
     "start_time": "2024-08-19T20:26:28.838274",
     "status": "completed"
    },
    "tags": []
   },
   "outputs": [
    {
     "data": {
      "text/plain": [
       "[<LINESTRING Z EMPTY>,\n",
       " <LINESTRING (1.938 1.5, 4.25 1.5)>,\n",
       " <LINESTRING (1.812 2.5, 8.75 2.5)>,\n",
       " <LINESTRING (1.688 3.5, 10 3.5)>,\n",
       " <LINESTRING (1.562 4.5, 10 4.5)>,\n",
       " <LINESTRING (1.438 5.5, 10 5.5)>,\n",
       " <LINESTRING (1.312 6.5, 10 6.5)>,\n",
       " <LINESTRING (1.188 7.5, 10 7.5)>,\n",
       " <MULTILINESTRING ((1.062 8.5, 5.5 8.5), (5.5 8.5, 10 8.5))>,\n",
       " <MULTILINESTRING ((1.5 9.5, 4.5 9.5), (7.3 9.5, 10 9.5))>]"
      ]
     },
     "execution_count": 16,
     "metadata": {},
     "output_type": "execute_result"
    }
   ],
   "source": [
    "intersections = [polygon.intersection(row_center_line) for row_center_line in row_center_lines]\n",
    "intersections"
   ]
  },
  {
   "cell_type": "code",
   "execution_count": 17,
   "id": "606d95d90475ef65",
   "metadata": {
    "ExecuteTime": {
     "end_time": "2024-08-18T20:47:21.464089Z",
     "start_time": "2024-08-18T20:47:21.457593Z"
    },
    "execution": {
     "iopub.execute_input": "2024-08-19T20:26:28.851085Z",
     "iopub.status.busy": "2024-08-19T20:26:28.850965Z",
     "iopub.status.idle": "2024-08-19T20:26:28.855778Z",
     "shell.execute_reply": "2024-08-19T20:26:28.855564Z"
    },
    "papermill": {
     "duration": 0.008659,
     "end_time": "2024-08-19T20:26:28.856502",
     "exception": false,
     "start_time": "2024-08-19T20:26:28.847843",
     "status": "completed"
    },
    "tags": []
   },
   "outputs": [
    {
     "name": "stdout",
     "output_type": "stream",
     "text": [
      "1 (1, 1) (4, 1)\n",
      "2 (1, 2) (8, 2)\n",
      "3 (1, 3) (10, 3)\n",
      "4 (1, 4) (10, 4)\n",
      "5 (1, 5) (10, 5)\n",
      "6 (1, 6) (10, 6)\n",
      "7 (1, 7) (10, 7)\n",
      "8 (1, 8) (5, 8)\n",
      "8 (5, 8) (10, 8)\n",
      "9 (1, 9) (4, 9)\n",
      "9 (7, 9) (10, 9)\n"
     ]
    }
   ],
   "source": [
    "for row, intersection in enumerate(intersections):\n",
    "  if intersection.is_empty:\n",
    "    continue\n",
    "  if intersection.geom_type == 'LineString':\n",
    "    active_cell_start = get_active_cell(point=Point(intersection.coords[0]), r_coords=row_coords, c_coords=col_coords)\n",
    "    active_cell_end = get_active_cell(point=Point(intersection.coords[1]), r_coords=row_coords, c_coords=col_coords)\n",
    "    print(row, active_cell_start, active_cell_end)\n",
    "    \n",
    "  if intersection.geom_type == 'MultiLineString':\n",
    "    line_strings = list(intersection.geoms)\n",
    "    for line_string in line_strings:\n",
    "      active_cell_start = get_active_cell(point=Point(line_string.coords[0]), r_coords=row_coords, c_coords=col_coords)\n",
    "      active_cell_end = get_active_cell(point=Point(line_string.coords[1]), r_coords=row_coords, c_coords=col_coords)\n",
    "      print(row, active_cell_start, active_cell_end)"
   ]
  },
  {
   "cell_type": "code",
   "execution_count": 18,
   "id": "a921c60a255066ea",
   "metadata": {
    "ExecuteTime": {
     "end_time": "2024-08-18T20:47:21.476869Z",
     "start_time": "2024-08-18T20:47:21.473613Z"
    },
    "execution": {
     "iopub.execute_input": "2024-08-19T20:26:28.862947Z",
     "iopub.status.busy": "2024-08-19T20:26:28.862779Z",
     "iopub.status.idle": "2024-08-19T20:26:28.866046Z",
     "shell.execute_reply": "2024-08-19T20:26:28.865790Z"
    },
    "papermill": {
     "duration": 0.007539,
     "end_time": "2024-08-19T20:26:28.866882",
     "exception": false,
     "start_time": "2024-08-19T20:26:28.859343",
     "status": "completed"
    },
    "tags": []
   },
   "outputs": [
    {
     "data": {
      "text/plain": [
       "[<LINESTRING Z EMPTY>,\n",
       " <LINESTRING (1.938 1.5, 4.25 1.5)>,\n",
       " <LINESTRING (1.812 2.5, 8.75 2.5)>,\n",
       " <LINESTRING (1.688 3.5, 10 3.5)>,\n",
       " <LINESTRING (1.562 4.5, 10 4.5)>,\n",
       " <LINESTRING (1.438 5.5, 10 5.5)>,\n",
       " <LINESTRING (1.312 6.5, 10 6.5)>,\n",
       " <LINESTRING (1.188 7.5, 10 7.5)>,\n",
       " <MULTILINESTRING ((1.062 8.5, 5.5 8.5), (5.5 8.5, 10 8.5))>,\n",
       " <MULTILINESTRING ((1.5 9.5, 4.5 9.5), (7.3 9.5, 10 9.5))>]"
      ]
     },
     "execution_count": 18,
     "metadata": {},
     "output_type": "execute_result"
    }
   ],
   "source": [
    "intersections = [polygon.intersection(row_center_line) for row_center_line in row_center_lines]\n",
    "intersections"
   ]
  },
  {
   "cell_type": "code",
   "execution_count": null,
   "id": "d907de80b40f0d40",
   "metadata": {
    "ExecuteTime": {
     "end_time": "2024-08-18T20:47:21.498881Z",
     "start_time": "2024-08-18T20:47:21.497454Z"
    },
    "papermill": {
     "duration": 0.002764,
     "end_time": "2024-08-19T20:26:28.872589",
     "exception": false,
     "start_time": "2024-08-19T20:26:28.869825",
     "status": "completed"
    },
    "tags": []
   },
   "outputs": [],
   "source": []
  }
 ],
 "metadata": {
  "kernelspec": {
   "display_name": "Python 3",
   "language": "python",
   "name": "python3"
  },
  "language_info": {
   "codemirror_mode": {
    "name": "ipython",
    "version": 3
   },
   "file_extension": ".py",
   "mimetype": "text/x-python",
   "name": "python",
   "nbconvert_exporter": "python",
   "pygments_lexer": "ipython3",
   "version": "3.12.2"
  },
  "papermill": {
   "default_parameters": {},
   "duration": 1.349088,
   "end_time": "2024-08-19T20:26:28.990990",
   "environment_variables": {},
   "exception": null,
   "input_path": "./notebooks/ActiveCellsPerformanceAlgorithm.ipynb",
   "output_path": "./notebooks/ActiveCellsPerformanceAlgorithm.ipynb",
   "parameters": {},
   "start_time": "2024-08-19T20:26:27.641902",
   "version": "2.6.0"
  }
 },
 "nbformat": 4,
 "nbformat_minor": 5
}