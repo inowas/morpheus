{
 "cells": [
  {
   "cell_type": "code",
   "execution_count": 1,
   "id": "initial_id",
   "metadata": {
    "ExecuteTime": {
     "end_time": "2024-08-15T21:24:56.530483Z",
     "start_time": "2024-08-15T21:24:55.976874Z"
    },
    "collapsed": true,
    "execution": {
     "iopub.execute_input": "2024-08-21T20:30:10.928624Z",
     "iopub.status.busy": "2024-08-21T20:30:10.928480Z",
     "iopub.status.idle": "2024-08-21T20:30:11.435145Z",
     "shell.execute_reply": "2024-08-21T20:30:11.434862Z"
    },
    "papermill": {
     "duration": 0.509743,
     "end_time": "2024-08-21T20:30:11.436357",
     "exception": false,
     "start_time": "2024-08-21T20:30:10.926614",
     "status": "completed"
    },
    "tags": []
   },
   "outputs": [],
   "source": [
    "from morpheus.project.types.discretization.time.Stressperiods import StartDateTime\n",
    "from morpheus.project.types.boundaries.ConstantHeadObservation import ConstantHeadObservationValue, HeadValue\n",
    "from morpheus.project.types.geometry import Point\n",
    "from morpheus.project.types.boundaries.Observation import ObservationName\n",
    "\n",
    "name = ObservationName('chd_obs')\n",
    "geometry = Point((0, 0))\n",
    "data = [\n",
    "  ConstantHeadObservationValue(\n",
    "    date_time=StartDateTime.from_str('2020-01-01'),\n",
    "    head=HeadValue(10.0)\n",
    "  ),\n",
    "  ConstantHeadObservationValue(\n",
    "    date_time=StartDateTime.from_str('2020-01-02'),\n",
    "    head=HeadValue(11.0)\n",
    "  ),\n",
    "  ConstantHeadObservationValue(\n",
    "    date_time=StartDateTime.from_str('2020-01-03'),\n",
    "    head=HeadValue(11.0)\n",
    "  ),\n",
    "  ConstantHeadObservationValue(\n",
    "    date_time=StartDateTime.from_str('2020-01-01'),\n",
    "    head=HeadValue(0.0)\n",
    "  )\n",
    "]"
   ]
  },
  {
   "cell_type": "code",
   "execution_count": 2,
   "id": "e41b0e3ded283ab5",
   "metadata": {
    "ExecuteTime": {
     "end_time": "2024-08-15T21:24:56.536288Z",
     "start_time": "2024-08-15T21:24:56.534279Z"
    },
    "execution": {
     "iopub.execute_input": "2024-08-21T20:30:11.438892Z",
     "iopub.status.busy": "2024-08-21T20:30:11.438628Z",
     "iopub.status.idle": "2024-08-21T20:30:11.440568Z",
     "shell.execute_reply": "2024-08-21T20:30:11.440337Z"
    },
    "papermill": {
     "duration": 0.003992,
     "end_time": "2024-08-21T20:30:11.441405",
     "exception": false,
     "start_time": "2024-08-21T20:30:11.437413",
     "status": "completed"
    },
    "tags": []
   },
   "outputs": [],
   "source": [
    "from morpheus.project.types.boundaries.ConstantHeadObservation import ConstantHeadObservation\n",
    "\n",
    "chd_obs = ConstantHeadObservation.new(name, geometry, data)"
   ]
  },
  {
   "cell_type": "code",
   "execution_count": 3,
   "id": "5ab04123b2d891ec",
   "metadata": {
    "ExecuteTime": {
     "end_time": "2024-08-15T21:24:56.644004Z",
     "start_time": "2024-08-15T21:24:56.640571Z"
    },
    "execution": {
     "iopub.execute_input": "2024-08-21T20:30:11.443168Z",
     "iopub.status.busy": "2024-08-21T20:30:11.443052Z",
     "iopub.status.idle": "2024-08-21T20:30:11.446228Z",
     "shell.execute_reply": "2024-08-21T20:30:11.445947Z"
    },
    "papermill": {
     "duration": 0.004884,
     "end_time": "2024-08-21T20:30:11.446986",
     "exception": false,
     "start_time": "2024-08-21T20:30:11.442102",
     "status": "completed"
    },
    "tags": []
   },
   "outputs": [
    {
     "data": {
      "text/plain": [
       "{'observation_id': '2ed94ebc-3d84-490f-9e23-cec47142ede5',\n",
       " 'observation_name': 'chd_obs',\n",
       " 'geometry': {'type': 'Point', 'coordinates': (0, 0)},\n",
       " 'data': [{'date_time': '2020-01-01T00:00:00', 'head': 0.0},\n",
       "  {'date_time': '2020-01-02T00:00:00', 'head': 11.0},\n",
       "  {'date_time': '2020-01-03T00:00:00', 'head': 11.0}]}"
      ]
     },
     "execution_count": 3,
     "metadata": {},
     "output_type": "execute_result"
    }
   ],
   "source": [
    "chd_obs.to_dict()"
   ]
  },
  {
   "cell_type": "code",
   "execution_count": null,
   "id": "f1627467febd15c9",
   "metadata": {
    "ExecuteTime": {
     "end_time": "2024-08-15T21:24:56.650927Z",
     "start_time": "2024-08-15T21:24:56.649674Z"
    },
    "papermill": {
     "duration": 0.000618,
     "end_time": "2024-08-21T20:30:11.448328",
     "exception": false,
     "start_time": "2024-08-21T20:30:11.447710",
     "status": "completed"
    },
    "tags": []
   },
   "outputs": [],
   "source": []
  }
 ],
 "metadata": {
  "kernelspec": {
   "display_name": "Python 3",
   "language": "python",
   "name": "python3"
  },
  "language_info": {
   "codemirror_mode": {
    "name": "ipython",
    "version": 3
   },
   "file_extension": ".py",
   "mimetype": "text/x-python",
   "name": "python",
   "nbconvert_exporter": "python",
   "pygments_lexer": "ipython3",
   "version": "3.12.2"
  },
  "papermill": {
   "default_parameters": {},
   "duration": 1.296374,
   "end_time": "2024-08-21T20:30:11.664769",
   "environment_variables": {},
   "exception": null,
   "input_path": "./notebooks/ConstantHeadObservation.ipynb",
   "output_path": "./notebooks/ConstantHeadObservation.ipynb",
   "parameters": {},
   "start_time": "2024-08-21T20:30:10.368395",
   "version": "2.6.0"
  }
 },
 "nbformat": 4,
 "nbformat_minor": 5
}