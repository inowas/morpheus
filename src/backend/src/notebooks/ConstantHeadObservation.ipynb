{
 "cells": [
  {
   "cell_type": "code",
   "id": "initial_id",
   "metadata": {
    "collapsed": true,
    "ExecuteTime": {
     "end_time": "2024-08-15T21:24:56.530483Z",
     "start_time": "2024-08-15T21:24:55.976874Z"
    }
   },
   "source": [
    "from morpheus.project.types.discretization.time.Stressperiods import StartDateTime\n",
    "from morpheus.project.types.boundaries.ConstantHeadObservation import ConstantHeadObservationValue, HeadValue\n",
    "from morpheus.project.types.geometry import Point\n",
    "from morpheus.project.types.boundaries.Observation import ObservationName\n",
    "\n",
    "name = ObservationName('chd_obs')\n",
    "geometry = Point((0, 0))\n",
    "data = [\n",
    "  ConstantHeadObservationValue(\n",
    "    date_time=StartDateTime.from_str('2020-01-01'),\n",
    "    head=HeadValue(10.0)\n",
    "  ),\n",
    "  ConstantHeadObservationValue(\n",
    "    date_time=StartDateTime.from_str('2020-01-02'),\n",
    "    head=HeadValue(11.0)\n",
    "  ),\n",
    "  ConstantHeadObservationValue(\n",
    "    date_time=StartDateTime.from_str('2020-01-03'),\n",
    "    head=HeadValue(11.0)\n",
    "  ),\n",
    "  ConstantHeadObservationValue(\n",
    "    date_time=StartDateTime.from_str('2020-01-01'),\n",
    "    head=HeadValue(0.0)\n",
    "  )\n",
    "]"
   ],
   "outputs": [],
   "execution_count": 1
  },
  {
   "metadata": {
    "ExecuteTime": {
     "end_time": "2024-08-15T21:24:56.536288Z",
     "start_time": "2024-08-15T21:24:56.534279Z"
    }
   },
   "cell_type": "code",
   "source": [
    "from morpheus.project.types.boundaries.ConstantHeadObservation import ConstantHeadObservation\n",
    "\n",
    "chd_obs = ConstantHeadObservation.new(name, geometry, data)"
   ],
   "id": "e41b0e3ded283ab5",
   "outputs": [],
   "execution_count": 2
  },
  {
   "metadata": {
    "ExecuteTime": {
     "end_time": "2024-08-15T21:24:56.644004Z",
     "start_time": "2024-08-15T21:24:56.640571Z"
    }
   },
   "cell_type": "code",
   "source": "chd_obs.to_dict()",
   "id": "5ab04123b2d891ec",
   "outputs": [
    {
     "data": {
      "text/plain": [
       "{'observation_id': 'e698f988-e741-4759-9b60-ad27cb2a9d6a',\n",
       " 'observation_name': 'chd_obs',\n",
       " 'geometry': {'type': 'Point', 'coordinates': (0, 0)},\n",
       " 'data': [{'date_time': '2020-01-01T00:00:00', 'head': 0.0},\n",
       "  {'date_time': '2020-01-02T00:00:00', 'head': 11.0},\n",
       "  {'date_time': '2020-01-03T00:00:00', 'head': 11.0}]}"
      ]
     },
     "execution_count": 3,
     "metadata": {},
     "output_type": "execute_result"
    }
   ],
   "execution_count": 3
  },
  {
   "metadata": {
    "ExecuteTime": {
     "end_time": "2024-08-15T21:24:56.650927Z",
     "start_time": "2024-08-15T21:24:56.649674Z"
    }
   },
   "cell_type": "code",
   "source": "",
   "id": "f1627467febd15c9",
   "outputs": [],
   "execution_count": null
  }
 ],
 "metadata": {
  "kernelspec": {
   "display_name": "Python 3",
   "language": "python",
   "name": "python3"
  },
  "language_info": {
   "codemirror_mode": {
    "name": "ipython",
    "version": 2
   },
   "file_extension": ".py",
   "mimetype": "text/x-python",
   "name": "python",
   "nbconvert_exporter": "python",
   "pygments_lexer": "ipython2",
   "version": "2.7.6"
  }
 },
 "nbformat": 4,
 "nbformat_minor": 5
}
