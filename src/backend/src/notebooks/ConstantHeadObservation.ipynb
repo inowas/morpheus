{
 "cells": [
  {
   "cell_type": "code",
   "id": "initial_id",
   "metadata": {
    "collapsed": true,
    "ExecuteTime": {
     "end_time": "2024-07-17T06:07:37.340430Z",
     "start_time": "2024-07-17T06:07:37.333534Z"
    }
   },
   "source": [
    "from morpheus.project.types.discretization.time.Stressperiods import StartDateTime\n",
    "from morpheus.project.types.boundaries.ConstantHeadObservation import ConstantHeadObservationValue, HeadValue\n",
    "from morpheus.project.types.geometry import Point\n",
    "from morpheus.project.types.boundaries.Observation import ObservationName\n",
    "\n",
    "name = ObservationName('chd_obs')\n",
    "geometry = Point((0, 0))\n",
    "data = [\n",
    "  ConstantHeadObservationValue(\n",
    "    date_time=StartDateTime.from_str('2020-01-01'),\n",
    "    head=HeadValue(10.0)\n",
    "  ),\n",
    "  ConstantHeadObservationValue(\n",
    "    date_time=StartDateTime.from_str('2020-01-02'),\n",
    "    head=HeadValue(11.0)\n",
    "  ),\n",
    "  ConstantHeadObservationValue(\n",
    "    date_time=StartDateTime.from_str('2020-01-03'),\n",
    "    head=HeadValue(11.0)\n",
    "  ),\n",
    "  ConstantHeadObservationValue(\n",
    "    date_time=StartDateTime.from_str('2020-01-01'),\n",
    "    head=HeadValue(0.0)\n",
    "  )\n",
    "]"
   ],
   "outputs": [],
   "execution_count": 12
  },
  {
   "metadata": {
    "ExecuteTime": {
     "end_time": "2024-07-17T06:07:37.927177Z",
     "start_time": "2024-07-17T06:07:37.924277Z"
    }
   },
   "cell_type": "code",
   "source": [
    "from morpheus.project.types.boundaries.ConstantHeadObservation import ConstantHeadObservation\n",
    "\n",
    "chd_obs = ConstantHeadObservation.new(name, geometry, data)"
   ],
   "id": "e41b0e3ded283ab5",
   "outputs": [],
   "execution_count": 13
  },
  {
   "metadata": {
    "ExecuteTime": {
     "end_time": "2024-07-17T06:07:38.742898Z",
     "start_time": "2024-07-17T06:07:38.739243Z"
    }
   },
   "cell_type": "code",
   "source": "chd_obs.to_dict()",
   "id": "5ab04123b2d891ec",
   "outputs": [
    {
     "data": {
      "text/plain": [
       "{'observation_id': '6ef88d71-32ac-4631-893b-d4ad33437251',\n",
       " 'observation_name': 'chd_obs',\n",
       " 'geometry': {'type': 'Point', 'coordinates': (0, 0)},\n",
       " 'data': [{'date_time': '2020-01-01T00:00:00', 'head': 0.0},\n",
       "  {'date_time': '2020-01-02T00:00:00', 'head': 11.0},\n",
       "  {'date_time': '2020-01-03T00:00:00', 'head': 11.0}]}"
      ]
     },
     "execution_count": 14,
     "metadata": {},
     "output_type": "execute_result"
    }
   ],
   "execution_count": 14
  },
  {
   "metadata": {},
   "cell_type": "code",
   "outputs": [],
   "execution_count": null,
   "source": "",
   "id": "f1627467febd15c9"
  }
 ],
 "metadata": {
  "kernelspec": {
   "display_name": "Python 3",
   "language": "python",
   "name": "python3"
  },
  "language_info": {
   "codemirror_mode": {
    "name": "ipython",
    "version": 2
   },
   "file_extension": ".py",
   "mimetype": "text/x-python",
   "name": "python",
   "nbconvert_exporter": "python",
   "pygments_lexer": "ipython2",
   "version": "2.7.6"
  }
 },
 "nbformat": 4,
 "nbformat_minor": 5
}
