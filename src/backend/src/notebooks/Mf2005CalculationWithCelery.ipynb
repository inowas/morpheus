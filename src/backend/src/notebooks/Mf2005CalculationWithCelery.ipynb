{
 "cells": [
  {
   "cell_type": "code",
   "execution_count": 37,
   "outputs": [],
   "source": [
    "import sys\n",
    "\n",
    "sys.path.insert(0, '..')"
   ],
   "metadata": {
    "collapsed": false,
    "ExecuteTime": {
     "end_time": "2024-03-22T09:01:15.311879Z",
     "start_time": "2024-03-22T09:01:15.308659Z"
    }
   },
   "id": "ba6761fae9d5e5cb"
  },
  {
   "cell_type": "markdown",
   "source": [
    "## Setup the model area"
   ],
   "metadata": {
    "collapsed": false
   },
   "id": "5ede1ba5e0993dd1"
  },
  {
   "cell_type": "code",
   "execution_count": 38,
   "outputs": [
    {
     "data": {
      "text/plain": "SpatialDiscretization(geometry=Polygon(coordinates=[[(13.922514437551428, 50.964720483303836), (13.925250781947113, 50.965228748412386), (13.925036413951403, 50.96623732041704), (13.92222441026388, 50.96629040370362), (13.922514437551428, 50.964720483303836)]], type='Polygon'), grid=Grid(origin=Point(coordinates=(13.922224410263878, 50.9662904037036), type='Point'), col_widths=[33.68941547288559, 33.68941547288559, 33.6894154728856, 33.689415472885585, 33.6894154728856, 33.6894154728856, 33.68941547288557, 33.6894154728856, 33.68941547288563, 33.68941547288557], total_width=336.89415472885594, row_heights=[27.749448566045615, 27.749448566045615, 27.7494485660456, 27.74944856604563, 27.7494485660456, 27.7494485660456, 27.7494485660456, 27.749448566045658, 27.7494485660456, 27.7494485660456], total_height=277.4944856604561, rotation=Rotation(value=0), length_unit=LengthUnit(unit=2)), affected_cells=ActiveCells(shape=(10, 10), data=[ActiveCell(col=0, row=0), ActiveCell(col=0, row=1), ActiveCell(col=0, row=2), ActiveCell(col=0, row=3), ActiveCell(col=0, row=4), ActiveCell(col=1, row=0), ActiveCell(col=1, row=1), ActiveCell(col=1, row=2), ActiveCell(col=1, row=3), ActiveCell(col=1, row=4), ActiveCell(col=1, row=5), ActiveCell(col=1, row=6), ActiveCell(col=1, row=7), ActiveCell(col=1, row=8), ActiveCell(col=1, row=9), ActiveCell(col=2, row=0), ActiveCell(col=2, row=1), ActiveCell(col=2, row=2), ActiveCell(col=2, row=3), ActiveCell(col=2, row=4), ActiveCell(col=2, row=5), ActiveCell(col=2, row=6), ActiveCell(col=2, row=7), ActiveCell(col=2, row=8), ActiveCell(col=3, row=0), ActiveCell(col=3, row=1), ActiveCell(col=3, row=2), ActiveCell(col=3, row=3), ActiveCell(col=3, row=4), ActiveCell(col=3, row=5), ActiveCell(col=3, row=6), ActiveCell(col=3, row=7), ActiveCell(col=3, row=8), ActiveCell(col=4, row=0), ActiveCell(col=4, row=1), ActiveCell(col=4, row=2), ActiveCell(col=4, row=3), ActiveCell(col=4, row=4), ActiveCell(col=4, row=5), ActiveCell(col=4, row=6), ActiveCell(col=4, row=7), ActiveCell(col=4, row=8), ActiveCell(col=5, row=0), ActiveCell(col=5, row=1), ActiveCell(col=5, row=2), ActiveCell(col=5, row=3), ActiveCell(col=5, row=4), ActiveCell(col=5, row=5), ActiveCell(col=5, row=6), ActiveCell(col=5, row=7), ActiveCell(col=6, row=0), ActiveCell(col=6, row=1), ActiveCell(col=6, row=2), ActiveCell(col=6, row=3), ActiveCell(col=6, row=4), ActiveCell(col=6, row=5), ActiveCell(col=6, row=6), ActiveCell(col=6, row=7), ActiveCell(col=7, row=0), ActiveCell(col=7, row=1), ActiveCell(col=7, row=2), ActiveCell(col=7, row=3), ActiveCell(col=7, row=4), ActiveCell(col=7, row=5), ActiveCell(col=7, row=6), ActiveCell(col=7, row=7), ActiveCell(col=8, row=0), ActiveCell(col=8, row=1), ActiveCell(col=8, row=2), ActiveCell(col=8, row=3), ActiveCell(col=8, row=4), ActiveCell(col=8, row=5), ActiveCell(col=8, row=6), ActiveCell(col=9, row=2), ActiveCell(col=9, row=3), ActiveCell(col=9, row=4), ActiveCell(col=9, row=5), ActiveCell(col=9, row=6)]))"
     },
     "execution_count": 38,
     "metadata": {},
     "output_type": "execute_result"
    }
   ],
   "source": [
    "from morpheus.project.types.discretization.spatial import ActiveCells\n",
    "from morpheus.project.types.discretization import SpatialDiscretization\n",
    "from morpheus.project.types.discretization.spatial import Rotation, LengthUnit, Grid, Crs\n",
    "from morpheus.project.types.geometry import Polygon, LineString\n",
    "\n",
    "polygon = Polygon(\n",
    "  type='Polygon',\n",
    "  coordinates=[[\n",
    "    (13.922514437551428, 50.964720483303836),\n",
    "    (13.925250781947113, 50.965228748412386),\n",
    "    (13.925036413951403, 50.96623732041704),\n",
    "    (13.92222441026388, 50.96629040370362),\n",
    "    (13.922514437551428, 50.964720483303836)\n",
    "  ]]\n",
    ")\n",
    "\n",
    "rotation = Rotation(0)\n",
    "length_unit = LengthUnit.meters()\n",
    "relative_col_coordinates = [0, 0.1, 0.2, 0.3, 0.4, 0.5, 0.6, 0.7, 0.8, 0.9, 1]\n",
    "relative_row_coordinates = [0, 0.1, 0.2, 0.3, 0.4, 0.5, 0.6, 0.7, 0.8, 0.9, 1]\n",
    "\n",
    "grid = Grid.from_polygon_with_relative_coordinates(\n",
    "  polygon=polygon,\n",
    "  relative_col_coordinates=relative_col_coordinates,\n",
    "  relative_row_coordinates=relative_row_coordinates,\n",
    "  rotation=rotation,\n",
    ")\n",
    "\n",
    "spatial_discretization = SpatialDiscretization(\n",
    "  geometry=polygon,\n",
    "  grid=grid,\n",
    "  affected_cells=ActiveCells.from_polygon(polygon=polygon, grid=grid),\n",
    "  crs=Crs.from_str('EPSG:4326')\n",
    ")\n",
    "\n",
    "spatial_discretization\n",
    "\n"
   ],
   "metadata": {
    "collapsed": false,
    "ExecuteTime": {
     "end_time": "2024-03-22T09:01:15.423061Z",
     "start_time": "2024-03-22T09:01:15.373560Z"
    }
   },
   "id": "2f69504ab35487aa"
  },
  {
   "cell_type": "markdown",
   "source": [
    "## Setup Time Discretization"
   ],
   "metadata": {
    "collapsed": false
   },
   "id": "fa27e67f9d801845"
  },
  {
   "cell_type": "code",
   "execution_count": 39,
   "outputs": [
    {
     "data": {
      "text/plain": "TimeDiscretization(start_date_time=StartDateTime(value=datetime.datetime(2020, 1, 1, 0, 0)), end_date_time=StartDateTime(value=datetime.datetime(2020, 12, 31, 0, 0)), stress_periods=StressPeriodCollection(values=[StressPeriod(start_date_time=StartDateTime(value=datetime.datetime(2020, 1, 1, 0, 0)), number_of_time_steps=NumberOfTimeSteps(value=1), time_step_multiplier=TimeStepMultiplier(value=1), steady_state=IsSteadyState(value=True))]), time_unit=TimeUnit(unit=4))"
     },
     "execution_count": 39,
     "metadata": {},
     "output_type": "execute_result"
    }
   ],
   "source": [
    "from morpheus.project.types.discretization.time.TimeUnit import TimeUnit\n",
    "from morpheus.project.types.discretization.time.Stressperiods import StartDateTime, StressPeriodCollection, \\\n",
    "  StressPeriod, NumberOfTimeSteps, TimeStepMultiplier, IsSteadyState\n",
    "from morpheus.project.types.discretization.time import TimeDiscretization\n",
    "from datetime import datetime\n",
    "\n",
    "time_discretization = TimeDiscretization(\n",
    "  start_date_time=StartDateTime.from_datetime(datetime(2020, 1, 1)),\n",
    "  end_date_time=StartDateTime.from_datetime(datetime(2020, 12, 31)),\n",
    "  stress_periods=StressPeriodCollection([\n",
    "    StressPeriod(\n",
    "      start_date_time=StartDateTime.from_datetime(datetime(2020, 1, 1)),\n",
    "      number_of_time_steps=NumberOfTimeSteps(1),\n",
    "      time_step_multiplier=TimeStepMultiplier(1),\n",
    "      steady_state=IsSteadyState.yes()\n",
    "    ),\n",
    "  ]),\n",
    "  time_unit=TimeUnit.days()\n",
    ")\n",
    "\n",
    "time_discretization"
   ],
   "metadata": {
    "collapsed": false,
    "ExecuteTime": {
     "end_time": "2024-03-22T09:01:15.430368Z",
     "start_time": "2024-03-22T09:01:15.424517Z"
    }
   },
   "id": "8e4e63dd138db9fc"
  },
  {
   "cell_type": "markdown",
   "source": [
    "# Setup Model"
   ],
   "metadata": {
    "collapsed": false
   },
   "id": "963ba8729f09fcec"
  },
  {
   "cell_type": "code",
   "execution_count": 40,
   "outputs": [],
   "source": [
    "from morpheus.project.types.Model import Model\n",
    "\n",
    "model = Model.new()\n",
    "model = model.with_updated_time_discretization(time_discretization)\n",
    "model = model.with_updated_spatial_discretization(spatial_discretization=spatial_discretization)"
   ],
   "metadata": {
    "collapsed": false,
    "ExecuteTime": {
     "end_time": "2024-03-22T09:01:15.451511Z",
     "start_time": "2024-03-22T09:01:15.431803Z"
    }
   },
   "id": "1d5c9125b1b9360b"
  },
  {
   "cell_type": "code",
   "execution_count": 41,
   "outputs": [
    {
     "data": {
      "text/plain": "<folium.folium.Map at 0x74bcd579a180>",
      "text/html": "<div style=\"width:100%;\"><div style=\"position:relative;width:100%;height:0;padding-bottom:60%;\"><span style=\"color:#565656\">Make this Notebook Trusted to load map: File -> Trust Notebook</span><iframe srcdoc=\"&lt;!DOCTYPE html&gt;\n&lt;html&gt;\n&lt;head&gt;\n    \n    &lt;meta http-equiv=&quot;content-type&quot; content=&quot;text/html; charset=UTF-8&quot; /&gt;\n    \n        &lt;script&gt;\n            L_NO_TOUCH = false;\n            L_DISABLE_3D = false;\n        &lt;/script&gt;\n    \n    &lt;style&gt;html, body {width: 100%;height: 100%;margin: 0;padding: 0;}&lt;/style&gt;\n    &lt;style&gt;#map {position:absolute;top:0;bottom:0;right:0;left:0;}&lt;/style&gt;\n    &lt;script src=&quot;https://cdn.jsdelivr.net/npm/leaflet@1.9.3/dist/leaflet.js&quot;&gt;&lt;/script&gt;\n    &lt;script src=&quot;https://code.jquery.com/jquery-3.7.1.min.js&quot;&gt;&lt;/script&gt;\n    &lt;script src=&quot;https://cdn.jsdelivr.net/npm/bootstrap@5.2.2/dist/js/bootstrap.bundle.min.js&quot;&gt;&lt;/script&gt;\n    &lt;script src=&quot;https://cdnjs.cloudflare.com/ajax/libs/Leaflet.awesome-markers/2.0.2/leaflet.awesome-markers.js&quot;&gt;&lt;/script&gt;\n    &lt;link rel=&quot;stylesheet&quot; href=&quot;https://cdn.jsdelivr.net/npm/leaflet@1.9.3/dist/leaflet.css&quot;/&gt;\n    &lt;link rel=&quot;stylesheet&quot; href=&quot;https://cdn.jsdelivr.net/npm/bootstrap@5.2.2/dist/css/bootstrap.min.css&quot;/&gt;\n    &lt;link rel=&quot;stylesheet&quot; href=&quot;https://netdna.bootstrapcdn.com/bootstrap/3.0.0/css/bootstrap.min.css&quot;/&gt;\n    &lt;link rel=&quot;stylesheet&quot; href=&quot;https://cdn.jsdelivr.net/npm/@fortawesome/fontawesome-free@6.2.0/css/all.min.css&quot;/&gt;\n    &lt;link rel=&quot;stylesheet&quot; href=&quot;https://cdnjs.cloudflare.com/ajax/libs/Leaflet.awesome-markers/2.0.2/leaflet.awesome-markers.css&quot;/&gt;\n    &lt;link rel=&quot;stylesheet&quot; href=&quot;https://cdn.jsdelivr.net/gh/python-visualization/folium/folium/templates/leaflet.awesome.rotate.min.css&quot;/&gt;\n    \n            &lt;meta name=&quot;viewport&quot; content=&quot;width=device-width,\n                initial-scale=1.0, maximum-scale=1.0, user-scalable=no&quot; /&gt;\n            &lt;style&gt;\n                #map_34855b0a7514f48ef898b3e70d177a57 {\n                    position: relative;\n                    width: 100.0%;\n                    height: 100.0%;\n                    left: 0.0%;\n                    top: 0.0%;\n                }\n                .leaflet-container { font-size: 1rem; }\n            &lt;/style&gt;\n        \n&lt;/head&gt;\n&lt;body&gt;\n    \n    \n            &lt;div class=&quot;folium-map&quot; id=&quot;map_34855b0a7514f48ef898b3e70d177a57&quot; &gt;&lt;/div&gt;\n        \n&lt;/body&gt;\n&lt;script&gt;\n    \n    \n            var map_34855b0a7514f48ef898b3e70d177a57 = L.map(\n                &quot;map_34855b0a7514f48ef898b3e70d177a57&quot;,\n                {\n                    center: [50.965, 13.922],\n                    crs: L.CRS.EPSG3857,\n                    zoom: 12,\n                    zoomControl: true,\n                    preferCanvas: false,\n                }\n            );\n\n            \n\n        \n    \n            var tile_layer_1d48086e212c20e4e1b52602e85aed5a = L.tileLayer(\n                &quot;https://{s}.basemaps.cartocdn.com/light_all/{z}/{x}/{y}{r}.png&quot;,\n                {&quot;attribution&quot;: &quot;\\u0026copy; \\u003ca href=\\&quot;https://www.openstreetmap.org/copyright\\&quot;\\u003eOpenStreetMap\\u003c/a\\u003e contributors \\u0026copy; \\u003ca href=\\&quot;https://carto.com/attributions\\&quot;\\u003eCARTO\\u003c/a\\u003e&quot;, &quot;detectRetina&quot;: false, &quot;maxNativeZoom&quot;: 20, &quot;maxZoom&quot;: 20, &quot;minZoom&quot;: 0, &quot;noWrap&quot;: false, &quot;opacity&quot;: 1, &quot;subdomains&quot;: &quot;abcd&quot;, &quot;tms&quot;: false}\n            );\n        \n    \n            tile_layer_1d48086e212c20e4e1b52602e85aed5a.addTo(map_34855b0a7514f48ef898b3e70d177a57);\n        \n    \n\n        function geo_json_ef4f3efc026b0b75929bc8d034f58495_onEachFeature(feature, layer) {\n            layer.on({\n            });\n        };\n        var geo_json_ef4f3efc026b0b75929bc8d034f58495 = L.geoJson(null, {\n                onEachFeature: geo_json_ef4f3efc026b0b75929bc8d034f58495_onEachFeature,\n            \n        });\n\n        function geo_json_ef4f3efc026b0b75929bc8d034f58495_add (data) {\n            geo_json_ef4f3efc026b0b75929bc8d034f58495\n                .addData(data);\n        }\n            geo_json_ef4f3efc026b0b75929bc8d034f58495_add({&quot;coordinates&quot;: [[[13.922514437551428, 50.964720483303836], [13.925250781947113, 50.965228748412386], [13.925036413951403, 50.96623732041704], [13.92222441026388, 50.96629040370362], [13.922514437551428, 50.964720483303836]]], &quot;type&quot;: &quot;Polygon&quot;});\n\n        \n    \n            geo_json_ef4f3efc026b0b75929bc8d034f58495.addTo(map_34855b0a7514f48ef898b3e70d177a57);\n        \n    \n            map_34855b0a7514f48ef898b3e70d177a57.fitBounds(\n                [[50.964720483303836, 13.92222441026388], [50.96629040370362, 13.925250781947113]],\n                {}\n            );\n        \n&lt;/script&gt;\n&lt;/html&gt;\" style=\"position:absolute;width:100%;height:100%;left:0;top:0;border:none !important;\" allowfullscreen webkitallowfullscreen mozallowfullscreen></iframe></div></div>"
     },
     "execution_count": 41,
     "metadata": {},
     "output_type": "execute_result"
    }
   ],
   "source": [
    "import folium\n",
    "\n",
    "m = folium.Map(tiles=\"cartodbpositron\", crs=\"EPSG3857\", zoom_start=12, location=[50.965, 13.922])\n",
    "m.add_child(folium.GeoJson(polygon.as_geojson()))\n",
    "\n",
    "m.fit_bounds(m.get_bounds())\n",
    "m"
   ],
   "metadata": {
    "collapsed": false,
    "ExecuteTime": {
     "end_time": "2024-03-22T09:01:15.467902Z",
     "start_time": "2024-03-22T09:01:15.453514Z"
    }
   },
   "id": "1540b870ae83f298"
  },
  {
   "cell_type": "markdown",
   "source": [
    "# Setup constant head boundary with 1 observation"
   ],
   "metadata": {
    "collapsed": false
   },
   "id": "62ae3587df801000"
  },
  {
   "cell_type": "code",
   "execution_count": 42,
   "outputs": [
    {
     "data": {
      "text/plain": "<folium.folium.Map at 0x74bcd579a180>",
      "text/html": "<div style=\"width:100%;\"><div style=\"position:relative;width:100%;height:0;padding-bottom:60%;\"><span style=\"color:#565656\">Make this Notebook Trusted to load map: File -> Trust Notebook</span><iframe srcdoc=\"&lt;!DOCTYPE html&gt;\n&lt;html&gt;\n&lt;head&gt;\n    \n    &lt;meta http-equiv=&quot;content-type&quot; content=&quot;text/html; charset=UTF-8&quot; /&gt;\n    \n        &lt;script&gt;\n            L_NO_TOUCH = false;\n            L_DISABLE_3D = false;\n        &lt;/script&gt;\n    \n    &lt;style&gt;html, body {width: 100%;height: 100%;margin: 0;padding: 0;}&lt;/style&gt;\n    &lt;style&gt;#map {position:absolute;top:0;bottom:0;right:0;left:0;}&lt;/style&gt;\n    &lt;script src=&quot;https://cdn.jsdelivr.net/npm/leaflet@1.9.3/dist/leaflet.js&quot;&gt;&lt;/script&gt;\n    &lt;script src=&quot;https://code.jquery.com/jquery-3.7.1.min.js&quot;&gt;&lt;/script&gt;\n    &lt;script src=&quot;https://cdn.jsdelivr.net/npm/bootstrap@5.2.2/dist/js/bootstrap.bundle.min.js&quot;&gt;&lt;/script&gt;\n    &lt;script src=&quot;https://cdnjs.cloudflare.com/ajax/libs/Leaflet.awesome-markers/2.0.2/leaflet.awesome-markers.js&quot;&gt;&lt;/script&gt;\n    &lt;link rel=&quot;stylesheet&quot; href=&quot;https://cdn.jsdelivr.net/npm/leaflet@1.9.3/dist/leaflet.css&quot;/&gt;\n    &lt;link rel=&quot;stylesheet&quot; href=&quot;https://cdn.jsdelivr.net/npm/bootstrap@5.2.2/dist/css/bootstrap.min.css&quot;/&gt;\n    &lt;link rel=&quot;stylesheet&quot; href=&quot;https://netdna.bootstrapcdn.com/bootstrap/3.0.0/css/bootstrap.min.css&quot;/&gt;\n    &lt;link rel=&quot;stylesheet&quot; href=&quot;https://cdn.jsdelivr.net/npm/@fortawesome/fontawesome-free@6.2.0/css/all.min.css&quot;/&gt;\n    &lt;link rel=&quot;stylesheet&quot; href=&quot;https://cdnjs.cloudflare.com/ajax/libs/Leaflet.awesome-markers/2.0.2/leaflet.awesome-markers.css&quot;/&gt;\n    &lt;link rel=&quot;stylesheet&quot; href=&quot;https://cdn.jsdelivr.net/gh/python-visualization/folium/folium/templates/leaflet.awesome.rotate.min.css&quot;/&gt;\n    \n            &lt;meta name=&quot;viewport&quot; content=&quot;width=device-width,\n                initial-scale=1.0, maximum-scale=1.0, user-scalable=no&quot; /&gt;\n            &lt;style&gt;\n                #map_34855b0a7514f48ef898b3e70d177a57 {\n                    position: relative;\n                    width: 100.0%;\n                    height: 100.0%;\n                    left: 0.0%;\n                    top: 0.0%;\n                }\n                .leaflet-container { font-size: 1rem; }\n            &lt;/style&gt;\n        \n&lt;/head&gt;\n&lt;body&gt;\n    \n    \n            &lt;div class=&quot;folium-map&quot; id=&quot;map_34855b0a7514f48ef898b3e70d177a57&quot; &gt;&lt;/div&gt;\n        \n&lt;/body&gt;\n&lt;script&gt;\n    \n    \n            var map_34855b0a7514f48ef898b3e70d177a57 = L.map(\n                &quot;map_34855b0a7514f48ef898b3e70d177a57&quot;,\n                {\n                    center: [50.965, 13.922],\n                    crs: L.CRS.EPSG3857,\n                    zoom: 12,\n                    zoomControl: true,\n                    preferCanvas: false,\n                }\n            );\n\n            \n\n        \n    \n            var tile_layer_1d48086e212c20e4e1b52602e85aed5a = L.tileLayer(\n                &quot;https://{s}.basemaps.cartocdn.com/light_all/{z}/{x}/{y}{r}.png&quot;,\n                {&quot;attribution&quot;: &quot;\\u0026copy; \\u003ca href=\\&quot;https://www.openstreetmap.org/copyright\\&quot;\\u003eOpenStreetMap\\u003c/a\\u003e contributors \\u0026copy; \\u003ca href=\\&quot;https://carto.com/attributions\\&quot;\\u003eCARTO\\u003c/a\\u003e&quot;, &quot;detectRetina&quot;: false, &quot;maxNativeZoom&quot;: 20, &quot;maxZoom&quot;: 20, &quot;minZoom&quot;: 0, &quot;noWrap&quot;: false, &quot;opacity&quot;: 1, &quot;subdomains&quot;: &quot;abcd&quot;, &quot;tms&quot;: false}\n            );\n        \n    \n            tile_layer_1d48086e212c20e4e1b52602e85aed5a.addTo(map_34855b0a7514f48ef898b3e70d177a57);\n        \n    \n\n        function geo_json_ef4f3efc026b0b75929bc8d034f58495_onEachFeature(feature, layer) {\n            layer.on({\n            });\n        };\n        var geo_json_ef4f3efc026b0b75929bc8d034f58495 = L.geoJson(null, {\n                onEachFeature: geo_json_ef4f3efc026b0b75929bc8d034f58495_onEachFeature,\n            \n        });\n\n        function geo_json_ef4f3efc026b0b75929bc8d034f58495_add (data) {\n            geo_json_ef4f3efc026b0b75929bc8d034f58495\n                .addData(data);\n        }\n            geo_json_ef4f3efc026b0b75929bc8d034f58495_add({&quot;coordinates&quot;: [[[13.922514437551428, 50.964720483303836], [13.925250781947113, 50.965228748412386], [13.925036413951403, 50.96623732041704], [13.92222441026388, 50.96629040370362], [13.922514437551428, 50.964720483303836]]], &quot;type&quot;: &quot;Polygon&quot;});\n\n        \n    \n            geo_json_ef4f3efc026b0b75929bc8d034f58495.addTo(map_34855b0a7514f48ef898b3e70d177a57);\n        \n    \n            map_34855b0a7514f48ef898b3e70d177a57.fitBounds(\n                [[50.964720483303836, 13.92222441026388], [50.96629040370362, 13.925250781947113]],\n                {}\n            );\n        \n    \n            tile_layer_1d48086e212c20e4e1b52602e85aed5a.addTo(map_34855b0a7514f48ef898b3e70d177a57);\n        \n    \n            geo_json_ef4f3efc026b0b75929bc8d034f58495.addTo(map_34855b0a7514f48ef898b3e70d177a57);\n        \n    \n\n        function geo_json_9e43b3cb2bf94ae3d38d01d90ffab395_onEachFeature(feature, layer) {\n            layer.on({\n            });\n        };\n        var geo_json_9e43b3cb2bf94ae3d38d01d90ffab395 = L.geoJson(null, {\n                onEachFeature: geo_json_9e43b3cb2bf94ae3d38d01d90ffab395_onEachFeature,\n            \n        });\n\n        function geo_json_9e43b3cb2bf94ae3d38d01d90ffab395_add (data) {\n            geo_json_9e43b3cb2bf94ae3d38d01d90ffab395\n                .addData(data);\n        }\n            geo_json_9e43b3cb2bf94ae3d38d01d90ffab395_add({&quot;coordinates&quot;: [[13.9223, 50.9662], [13.925, 50.96615]], &quot;type&quot;: &quot;LineString&quot;});\n\n        \n    \n            geo_json_9e43b3cb2bf94ae3d38d01d90ffab395.addTo(map_34855b0a7514f48ef898b3e70d177a57);\n        \n    \n\n        function geo_json_241738d0130b7648e8f44a58dde27cff_onEachFeature(feature, layer) {\n            layer.on({\n            });\n        };\n        var geo_json_241738d0130b7648e8f44a58dde27cff = L.geoJson(null, {\n                onEachFeature: geo_json_241738d0130b7648e8f44a58dde27cff_onEachFeature,\n            \n        });\n\n        function geo_json_241738d0130b7648e8f44a58dde27cff_add (data) {\n            geo_json_241738d0130b7648e8f44a58dde27cff\n                .addData(data);\n        }\n            geo_json_241738d0130b7648e8f44a58dde27cff_add({&quot;geometries&quot;: [{&quot;coordinates&quot;: [[[13.922224410263878, 50.9662904037036], [13.922527047432201, 50.9662904037036], [13.922527047432201, 50.966133414051114], [13.922224410263878, 50.966133414051114], [13.922224410263878, 50.9662904037036]]], &quot;type&quot;: &quot;Polygon&quot;}, {&quot;coordinates&quot;: [[[13.922527047432201, 50.9662904037036], [13.922829684600526, 50.9662904037036], [13.922829684600526, 50.966133414051114], [13.922527047432201, 50.966133414051114], [13.922527047432201, 50.9662904037036]]], &quot;type&quot;: &quot;Polygon&quot;}, {&quot;coordinates&quot;: [[[13.922829684600526, 50.9662904037036], [13.923132321768849, 50.9662904037036], [13.923132321768849, 50.966133414051114], [13.922829684600526, 50.966133414051114], [13.922829684600526, 50.9662904037036]]], &quot;type&quot;: &quot;Polygon&quot;}, {&quot;coordinates&quot;: [[[13.923132321768849, 50.9662904037036], [13.923434958937172, 50.9662904037036], [13.923434958937172, 50.966133414051114], [13.923132321768849, 50.966133414051114], [13.923132321768849, 50.9662904037036]]], &quot;type&quot;: &quot;Polygon&quot;}, {&quot;coordinates&quot;: [[[13.923434958937172, 50.9662904037036], [13.923737596105495, 50.9662904037036], [13.923737596105495, 50.966133414051114], [13.923434958937172, 50.966133414051114], [13.923434958937172, 50.9662904037036]]], &quot;type&quot;: &quot;Polygon&quot;}, {&quot;coordinates&quot;: [[[13.923737596105495, 50.9662904037036], [13.924040233273818, 50.9662904037036], [13.924040233273818, 50.966133414051114], [13.923737596105495, 50.966133414051114], [13.923737596105495, 50.9662904037036]]], &quot;type&quot;: &quot;Polygon&quot;}, {&quot;coordinates&quot;: [[[13.924040233273818, 50.9662904037036], [13.924342870442143, 50.9662904037036], [13.924342870442143, 50.966133414051114], [13.924040233273818, 50.966133414051114], [13.924040233273818, 50.9662904037036]]], &quot;type&quot;: &quot;Polygon&quot;}, {&quot;coordinates&quot;: [[[13.924342870442143, 50.9662904037036], [13.924645507610466, 50.9662904037036], [13.924645507610466, 50.966133414051114], [13.924342870442143, 50.966133414051114], [13.924342870442143, 50.9662904037036]]], &quot;type&quot;: &quot;Polygon&quot;}, {&quot;coordinates&quot;: [[[13.924645507610466, 50.9662904037036], [13.92494814477879, 50.9662904037036], [13.92494814477879, 50.966133414051114], [13.924645507610466, 50.966133414051114], [13.924645507610466, 50.9662904037036]]], &quot;type&quot;: &quot;Polygon&quot;}, {&quot;coordinates&quot;: [[[13.92494814477879, 50.9662904037036], [13.925250781947113, 50.9662904037036], [13.925250781947113, 50.966133414051114], [13.92494814477879, 50.966133414051114], [13.92494814477879, 50.9662904037036]]], &quot;type&quot;: &quot;Polygon&quot;}], &quot;type&quot;: &quot;GeometryCollection&quot;});\n\n        \n    \n            geo_json_241738d0130b7648e8f44a58dde27cff.addTo(map_34855b0a7514f48ef898b3e70d177a57);\n        \n    \n\n        function geo_json_fd8370fad494dfd2140949bb07c418f9_onEachFeature(feature, layer) {\n            layer.on({\n            });\n        };\n        var geo_json_fd8370fad494dfd2140949bb07c418f9 = L.geoJson(null, {\n                onEachFeature: geo_json_fd8370fad494dfd2140949bb07c418f9_onEachFeature,\n            \n        });\n\n        function geo_json_fd8370fad494dfd2140949bb07c418f9_add (data) {\n            geo_json_fd8370fad494dfd2140949bb07c418f9\n                .addData(data);\n        }\n            geo_json_fd8370fad494dfd2140949bb07c418f9_add({&quot;coordinates&quot;: [13.9223, 50.9662], &quot;type&quot;: &quot;Point&quot;});\n\n        \n    \n            geo_json_fd8370fad494dfd2140949bb07c418f9.addTo(map_34855b0a7514f48ef898b3e70d177a57);\n        \n    \n            map_34855b0a7514f48ef898b3e70d177a57.fitBounds(\n                [[50.964720483303836, 13.922224410263878], [50.96629040370362, 13.925250781947113]],\n                {}\n            );\n        \n&lt;/script&gt;\n&lt;/html&gt;\" style=\"position:absolute;width:100%;height:100%;left:0;top:0;border:none !important;\" allowfullscreen webkitallowfullscreen mozallowfullscreen></iframe></div></div>"
     },
     "execution_count": 42,
     "metadata": {},
     "output_type": "execute_result"
    }
   ],
   "source": [
    "from morpheus.project.types.boundaries.Observation import ObservationId, ObservationName\n",
    "from morpheus.project.types.geometry import Point\n",
    "from morpheus.project.types.boundaries.Boundary import BoundaryName, ConstantHeadBoundary\n",
    "from morpheus.project.types.layers import LayerId\n",
    "from morpheus.project.types.boundaries.ConstantHeadObservation import ConstantHeadObservation, ConstantHeadRawDataItem, \\\n",
    "  HeadValue\n",
    "\n",
    "layers_list = [LayerId.new()]\n",
    "constant_head = ConstantHeadBoundary.from_geometry(\n",
    "  name=BoundaryName('constant_head'),\n",
    "  geometry=LineString([\n",
    "    (13.9223, 50.9662),\n",
    "    (13.9250, 50.96615),\n",
    "  ]),\n",
    "  grid=grid,\n",
    "  affected_layers=[model.layers[0].layer_id],\n",
    "  observations=[\n",
    "    ConstantHeadObservation(\n",
    "      observation_id=ObservationId.new(),\n",
    "      observation_name=ObservationName.default(),\n",
    "      geometry=Point((13.9223, 50.9662)),\n",
    "      data=[\n",
    "        ConstantHeadRawDataItem(\n",
    "          date_time=StartDateTime.from_datetime(datetime(2019, 1, 1)),\n",
    "          head=HeadValue.from_float(100),\n",
    "        ),\n",
    "        ConstantHeadRawDataItem(\n",
    "          date_time=StartDateTime.from_datetime(datetime(2021, 12, 31)),\n",
    "          head=HeadValue.from_float(100),\n",
    "        ),\n",
    "      ]\n",
    "    )\n",
    "  ]\n",
    ")\n",
    "\n",
    "m.add_child(folium.GeoJson(constant_head.as_geojson()))\n",
    "m.add_child(folium.GeoJson(constant_head.affected_cells.to_geojson(grid).as_geojson()))\n",
    "for constant_head.observation in constant_head.observations:\n",
    "  m.add_child(folium.GeoJson(constant_head.observation.as_geojson()))\n",
    "m.fit_bounds(m.get_bounds())\n",
    "m"
   ],
   "metadata": {
    "collapsed": false,
    "ExecuteTime": {
     "end_time": "2024-03-22T09:01:15.550883Z",
     "start_time": "2024-03-22T09:01:15.469466Z"
    }
   },
   "id": "53679913aee28ce9"
  },
  {
   "cell_type": "code",
   "execution_count": 43,
   "outputs": [],
   "source": [
    "from morpheus.project.types.boundaries.Boundary import BoundaryCollection\n",
    "\n",
    "boundaries = BoundaryCollection.new()\n",
    "boundaries.add_boundary(constant_head)\n",
    "model = model.with_updated_boundaries(boundaries=boundaries)"
   ],
   "metadata": {
    "collapsed": false,
    "ExecuteTime": {
     "end_time": "2024-03-22T09:01:15.556229Z",
     "start_time": "2024-03-22T09:01:15.552837Z"
    }
   },
   "id": "621e2265ae79b1ae"
  },
  {
   "cell_type": "code",
   "execution_count": 43,
   "outputs": [],
   "source": [],
   "metadata": {
    "collapsed": false,
    "ExecuteTime": {
     "end_time": "2024-03-22T09:01:15.560062Z",
     "start_time": "2024-03-22T09:01:15.557586Z"
    }
   },
   "id": "b14d8f567177151d"
  },
  {
   "cell_type": "markdown",
   "source": [
    "## Calculate the model asynchronously with celery"
   ],
   "metadata": {
    "collapsed": false
   },
   "id": "42d948d145a8457a"
  },
  {
   "cell_type": "code",
   "execution_count": 44,
   "outputs": [
    {
     "data": {
      "text/plain": "Mf2005CalculationEngineSettings(packages=PackageData(oc=OcPackageData(ihedfm=0, iddnfm=0, chedfm=None, cddnfm=None, cboufm=None, compact=True, stress_period_data=None, extension=['oc', 'hds', 'ddn', 'cbc', 'ibo'], unitnumber=None, filenames=None, label='OC'), flow_package=FlowPackage(type='lpf'), solver_package=SolverPackageData(type='pcg', data=PcgPackageData(mxiter=50, iter1=30, npcond=1, hclose=1e-05, rclose=1e-05, relax=1.0, nbpol=0, iprpcg=0, mutpcg=3, damp=1.0, dampt=1.0, ihcofadd=0, extension='pcg', unitnumber=None, filenames=None))))"
     },
     "execution_count": 44,
     "metadata": {},
     "output_type": "execute_result"
    }
   ],
   "source": [
    "\n",
    "from morpheus.project.infrastructure.calculation.engines.modflow_2005.types.Mf2005CalculationEngineSettings import \\\n",
    "  Mf2005CalculationEngineSettings\n",
    "\n",
    "calculation_engine_setting = Mf2005CalculationEngineSettings.default()\n",
    "calculation_engine_setting"
   ],
   "metadata": {
    "collapsed": false,
    "ExecuteTime": {
     "end_time": "2024-03-22T09:01:15.569482Z",
     "start_time": "2024-03-22T09:01:15.562810Z"
    }
   },
   "id": "56ccabee86e2397e"
  },
  {
   "cell_type": "markdown",
   "source": [],
   "metadata": {
    "collapsed": false
   },
   "id": "8a683bd5250a3ee6"
  },
  {
   "cell_type": "code",
   "execution_count": 45,
   "outputs": [
    {
     "data": {
      "text/plain": "CalculationId(value='d977b3ea-9729-45ee-aed4-ed341c8bf63f')"
     },
     "execution_count": 45,
     "metadata": {},
     "output_type": "execute_result"
    }
   ],
   "source": [
    "from morpheus.project.infrastructure.persistence.CalculationRepository import calculation_repository\n",
    "from morpheus.project.types.calculation.CalculationProfile import CalculationProfile, CalculationEngineType\n",
    "from morpheus.project.types.calculation.Calculation import Calculation\n",
    "\n",
    "calculation = Calculation.new(\n",
    "  model=model,\n",
    "  calculation_profile=CalculationProfile.new(CalculationEngineType.MF2005)\n",
    ")\n",
    "calculation_repository.save_calculation(calculation)\n",
    "calculation.calculation_id"
   ],
   "metadata": {
    "collapsed": false,
    "ExecuteTime": {
     "end_time": "2024-03-22T09:01:15.582771Z",
     "start_time": "2024-03-22T09:01:15.572321Z"
    }
   },
   "id": "3ac7674d3452041"
  },
  {
   "cell_type": "code",
   "execution_count": 46,
   "outputs": [
    {
     "data": {
      "text/plain": "{'id': '0e362de0-ac5b-43bf-bf77-a46443f35f9e', 'state': 'PENDING'}"
     },
     "execution_count": 46,
     "metadata": {},
     "output_type": "execute_result"
    }
   ],
   "source": [
    "from morpheus.project.tasks import run_calculation_by_id\n",
    "\n",
    "result = run_calculation_by_id.delay(calculation.calculation_id.to_str())\n",
    "result_state = result.state\n",
    "result_id = result.id\n",
    "{'id': result_id, 'state': result_state}"
   ],
   "metadata": {
    "collapsed": false,
    "ExecuteTime": {
     "end_time": "2024-03-22T09:01:15.596061Z",
     "start_time": "2024-03-22T09:01:15.584428Z"
    }
   },
   "id": "672007fb90753c4c"
  },
  {
   "cell_type": "code",
   "execution_count": 47,
   "outputs": [
    {
     "data": {
      "text/plain": "{'id': '0e362de0-ac5b-43bf-bf77-a46443f35f9e',\n 'state': 'PENDING',\n 'ready': False,\n 'successful': False,\n 'value': None}"
     },
     "execution_count": 47,
     "metadata": {},
     "output_type": "execute_result"
    }
   ],
   "source": [
    "from celery.result import AsyncResult\n",
    "\n",
    "result = AsyncResult(id=result_id)\n",
    "{\n",
    "  'id': result.id,\n",
    "  'state': result.state,\n",
    "  'ready': result.ready(),\n",
    "  'successful': result.successful(),\n",
    "  'value': result.result if result.ready() else None,\n",
    "}"
   ],
   "metadata": {
    "collapsed": false,
    "ExecuteTime": {
     "end_time": "2024-03-22T09:01:15.612306Z",
     "start_time": "2024-03-22T09:01:15.598759Z"
    }
   },
   "id": "79cdf465cd748bb7"
  },
  {
   "cell_type": "code",
   "execution_count": 54,
   "outputs": [
    {
     "data": {
      "text/plain": "Calculation(calculation_id=CalculationId(value='d977b3ea-9729-45ee-aed4-ed341c8bf63f'), model=Model(model_id=ModelId(value='e92eb5e8-9164-4db1-9cca-67f82053138d'), spatial_discretization=SpatialDiscretization(geometry=Polygon(coordinates=[[[13.922514437551428, 50.964720483303836], [13.925250781947113, 50.965228748412386], [13.925036413951403, 50.96623732041704], [13.92222441026388, 50.96629040370362], [13.922514437551428, 50.964720483303836]]], type='Polygon'), grid=Grid(origin=Point(coordinates=[13.922224410263878, 50.9662904037036], type='Point'), col_widths=[33.68941547288559, 33.68941547288559, 33.6894154728856, 33.689415472885585, 33.6894154728856, 33.6894154728856, 33.68941547288557, 33.6894154728856, 33.68941547288563, 33.68941547288557], total_width=336.89415472885594, row_heights=[27.749448566045615, 27.749448566045615, 27.7494485660456, 27.74944856604563, 27.7494485660456, 27.7494485660456, 27.7494485660456, 27.749448566045658, 27.7494485660456, 27.7494485660456], total_height=277.4944856604561, rotation=Rotation(value=0), length_unit=LengthUnit(unit=2)), affected_cells=ActiveCells(shape=[10, 10], data=[ActiveCell(col=0, row=0), ActiveCell(col=1, row=0), ActiveCell(col=2, row=0), ActiveCell(col=3, row=0), ActiveCell(col=4, row=0), ActiveCell(col=5, row=0), ActiveCell(col=6, row=0), ActiveCell(col=7, row=0), ActiveCell(col=8, row=0), ActiveCell(col=0, row=1), ActiveCell(col=1, row=1), ActiveCell(col=2, row=1), ActiveCell(col=3, row=1), ActiveCell(col=4, row=1), ActiveCell(col=5, row=1), ActiveCell(col=6, row=1), ActiveCell(col=7, row=1), ActiveCell(col=8, row=1), ActiveCell(col=0, row=2), ActiveCell(col=1, row=2), ActiveCell(col=2, row=2), ActiveCell(col=3, row=2), ActiveCell(col=4, row=2), ActiveCell(col=5, row=2), ActiveCell(col=6, row=2), ActiveCell(col=7, row=2), ActiveCell(col=8, row=2), ActiveCell(col=9, row=2), ActiveCell(col=0, row=3), ActiveCell(col=1, row=3), ActiveCell(col=2, row=3), ActiveCell(col=3, row=3), ActiveCell(col=4, row=3), ActiveCell(col=5, row=3), ActiveCell(col=6, row=3), ActiveCell(col=7, row=3), ActiveCell(col=8, row=3), ActiveCell(col=9, row=3), ActiveCell(col=0, row=4), ActiveCell(col=1, row=4), ActiveCell(col=2, row=4), ActiveCell(col=3, row=4), ActiveCell(col=4, row=4), ActiveCell(col=5, row=4), ActiveCell(col=6, row=4), ActiveCell(col=7, row=4), ActiveCell(col=8, row=4), ActiveCell(col=9, row=4), ActiveCell(col=1, row=5), ActiveCell(col=2, row=5), ActiveCell(col=3, row=5), ActiveCell(col=4, row=5), ActiveCell(col=5, row=5), ActiveCell(col=6, row=5), ActiveCell(col=7, row=5), ActiveCell(col=8, row=5), ActiveCell(col=9, row=5), ActiveCell(col=1, row=6), ActiveCell(col=2, row=6), ActiveCell(col=3, row=6), ActiveCell(col=4, row=6), ActiveCell(col=5, row=6), ActiveCell(col=6, row=6), ActiveCell(col=7, row=6), ActiveCell(col=8, row=6), ActiveCell(col=9, row=6), ActiveCell(col=1, row=7), ActiveCell(col=2, row=7), ActiveCell(col=3, row=7), ActiveCell(col=4, row=7), ActiveCell(col=5, row=7), ActiveCell(col=6, row=7), ActiveCell(col=7, row=7), ActiveCell(col=1, row=8), ActiveCell(col=2, row=8), ActiveCell(col=3, row=8), ActiveCell(col=4, row=8), ActiveCell(col=1, row=9)])), time_discretization=TimeDiscretization(start_date_time=StartDateTime(value=datetime.datetime(2020, 1, 1, 0, 0)), end_date_time=EndDateTime(value=datetime.datetime(2020, 12, 31, 0, 0)), stress_periods=StressPeriodCollection(values=[StressPeriod(start_date_time=StartDateTime(value=datetime.datetime(2020, 1, 1, 0, 0)), number_of_time_steps=NumberOfTimeSteps(value=1), time_step_multiplier=TimeStepMultiplier(value=1), steady_state=IsSteadyState(value=True))]), time_unit=TimeUnit(unit=4)), boundaries=BoundaryCollection(boundaries=[ConstantHeadBoundary(boundary_id=BoundaryId(value='c7012747-52e8-4f5b-9685-b2cd70668ee1'), type=BoundaryType(type='constant_head'), name=BoundaryName(value='constant_head'), geometry=LineString(coordinates=[[13.9223, 50.9662], [13.925, 50.96615]], type='LineString'), affected_cells=ActiveCells(shape=[10, 10], data=[ActiveCell(col=0, row=0), ActiveCell(col=1, row=0), ActiveCell(col=2, row=0), ActiveCell(col=3, row=0), ActiveCell(col=4, row=0), ActiveCell(col=5, row=0), ActiveCell(col=6, row=0), ActiveCell(col=7, row=0), ActiveCell(col=8, row=0)]), affected_layers=[LayerId(value='9d7fa3c5-e3ae-481f-976c-14ed028e230c')], observations=[ConstantHeadObservation(observation_id=ObservationId(value='07b30a73-87ff-453d-acbb-39fbd3f594c3'), geometry=Point(coordinates=[13.9223, 50.9662], type='Point'), raw_data=[ConstantHeadRawDataItem(date_time=StartDateTime(value=datetime.datetime(2019, 1, 1, 0, 0)), head=HeadValue(value=100)), ConstantHeadRawDataItem(date_time=StartDateTime(value=datetime.datetime(2021, 12, 31, 0, 0)), head=HeadValue(value=100))])], enabled=True)]), observations=ObservationCollection(observations=[]), soil_model=SoilModel(layers=[Layer(id=LayerId(value='9d7fa3c5-e3ae-481f-976c-14ed028e230c'), name=LayerName(value='Default'), description=LayerDescription(value='Default'), type=LayerType(type='confined'), data=LayerData(kx=1, ky=1, kz=1, specific_storage=0.0001, specific_yield=0.1, initial_head=1.0, top=1, bottom=0))]), transport=Transport(is_enabled=IsEnabled(value=False), substances=[]), variable_density=VariableDensityFlow(is_enabled=IsEnabled(value=False), viscosity_is_enabled=IsEnabled(value=False))), calculation_profile=CalculationProfile(profile_id=CalculationProfileId(value='0bd1ff8a-0656-4bda-8985-82ab14a1ff46'), engine_type=<CalculationEngineType.MF2005: 'mf2005'>, engine_settings=Mf2005CalculationEngineSettings(packages=PackageData(oc=OcPackageData(ihedfm=0, iddnfm=0, chedfm=None, cddnfm=None, cboufm=None, compact=True, stress_period_data=None, extension=['oc', 'hds', 'ddn', 'cbc', 'ibo'], unitnumber=None, filenames=None, label='OC'), flow_package=FlowPackage(type='lpf'), solver_package=SolverPackageData(type='pcg', data=PcgPackageData(mxiter=50, iter1=30, npcond=1, hclose=1e-05, rclose=1e-05, relax=1.0, nbpol=0, iprpcg=0, mutpcg=3, damp=1.0, dampt=1.0, ihcofadd=0, extension='pcg', unitnumber=None, filenames=None)))), is_selected=IsSelected(value=True)), calculation_lifecycle=[<CalculationState.CREATED: 'created'>, <CalculationState.PREPROCESSING: 'preprocessing'>, <CalculationState.RUNNING: 'running'>, <CalculationState.FINISHED: 'finished'>], calculation_state=<CalculationState.FINISHED: 'finished'>, calculation_log=CalculationLog(log=['', '                                  MODFLOW-2005     ', '    U.S. GEOLOGICAL SURVEY MODULAR FINITE-DIFFERENCE GROUND-WATER FLOW MODEL', '                             Version 1.12.00 2/3/2017                        ', '', ' Using NAME file: e92eb5e8-9164-4db1-9cca-67f82053138d.nam ', ' Run start date and time (yyyy/mm/dd hh:mm:ss): 2024/03/22 10:01:15', '', ' Solving:  Stress period:     1    Time step:     1    Ground-Water Flow Eqn.', ' Run end date and time (yyyy/mm/dd hh:mm:ss): 2024/03/22 10:01:15', ' Elapsed run time:  0.001 Seconds', '', '  Normal termination of simulation']), calculation_result=CalculationResult(type=<CalculationResultType.SUCCESS: 'success'>, message='Calculation finished successfully', files=['e92eb5e8-9164-4db1-9cca-67f82053138d.nam', 'e92eb5e8-9164-4db1-9cca-67f82053138d.dis', 'e92eb5e8-9164-4db1-9cca-67f82053138d.lpf', 'e92eb5e8-9164-4db1-9cca-67f82053138d.chd', 'e92eb5e8-9164-4db1-9cca-67f82053138d.list', 'e92eb5e8-9164-4db1-9cca-67f82053138d.bas', 'e92eb5e8-9164-4db1-9cca-67f82053138d.oc', 'e92eb5e8-9164-4db1-9cca-67f82053138d.pcg', 'e92eb5e8-9164-4db1-9cca-67f82053138d.hds'], head_results=None, drawdown_results=None, budget_results=AvailableResults(times=[365.0], kstpkper=[[0, 0]], number_of_layers=0, number_of_observations=0), concentration_results=None))"
     },
     "execution_count": 54,
     "metadata": {},
     "output_type": "execute_result"
    }
   ],
   "source": [
    "calculation = calculation_repository.get_calculation(calculation.calculation_id)\n",
    "calculation"
   ],
   "metadata": {
    "collapsed": false,
    "ExecuteTime": {
     "end_time": "2024-03-22T09:02:04.690070Z",
     "start_time": "2024-03-22T09:02:04.671498Z"
    }
   },
   "id": "e57747c5eec94970"
  },
  {
   "cell_type": "code",
   "execution_count": 55,
   "outputs": [
    {
     "data": {
      "text/plain": "<CalculationState.FINISHED: 'finished'>"
     },
     "execution_count": 55,
     "metadata": {},
     "output_type": "execute_result"
    }
   ],
   "source": [
    "calculation.calculation_state"
   ],
   "metadata": {
    "collapsed": false,
    "ExecuteTime": {
     "end_time": "2024-03-22T09:02:10.962593Z",
     "start_time": "2024-03-22T09:02:10.954140Z"
    }
   },
   "id": "d04c548bbc8b4da9"
  },
  {
   "cell_type": "code",
   "execution_count": 56,
   "outputs": [
    {
     "data": {
      "text/plain": "CalculationLog(log=['', '                                  MODFLOW-2005     ', '    U.S. GEOLOGICAL SURVEY MODULAR FINITE-DIFFERENCE GROUND-WATER FLOW MODEL', '                             Version 1.12.00 2/3/2017                        ', '', ' Using NAME file: e92eb5e8-9164-4db1-9cca-67f82053138d.nam ', ' Run start date and time (yyyy/mm/dd hh:mm:ss): 2024/03/22 10:01:15', '', ' Solving:  Stress period:     1    Time step:     1    Ground-Water Flow Eqn.', ' Run end date and time (yyyy/mm/dd hh:mm:ss): 2024/03/22 10:01:15', ' Elapsed run time:  0.001 Seconds', '', '  Normal termination of simulation'])"
     },
     "execution_count": 56,
     "metadata": {},
     "output_type": "execute_result"
    }
   ],
   "source": [
    "calculation.calculation_log"
   ],
   "metadata": {
    "collapsed": false,
    "ExecuteTime": {
     "end_time": "2024-03-22T09:02:14.204511Z",
     "start_time": "2024-03-22T09:02:14.195713Z"
    }
   },
   "id": "48aa27656bc029d"
  },
  {
   "cell_type": "code",
   "execution_count": 57,
   "outputs": [
    {
     "data": {
      "text/plain": "CalculationResult(type=<CalculationResultType.SUCCESS: 'success'>, message='Calculation finished successfully', files=['e92eb5e8-9164-4db1-9cca-67f82053138d.nam', 'e92eb5e8-9164-4db1-9cca-67f82053138d.dis', 'e92eb5e8-9164-4db1-9cca-67f82053138d.lpf', 'e92eb5e8-9164-4db1-9cca-67f82053138d.chd', 'e92eb5e8-9164-4db1-9cca-67f82053138d.list', 'e92eb5e8-9164-4db1-9cca-67f82053138d.bas', 'e92eb5e8-9164-4db1-9cca-67f82053138d.oc', 'e92eb5e8-9164-4db1-9cca-67f82053138d.pcg', 'e92eb5e8-9164-4db1-9cca-67f82053138d.hds'], head_results=None, drawdown_results=None, budget_results=AvailableResults(times=[365.0], kstpkper=[[0, 0]], number_of_layers=0, number_of_observations=0), concentration_results=None)"
     },
     "execution_count": 57,
     "metadata": {},
     "output_type": "execute_result"
    }
   ],
   "source": [
    "calculation.calculation_result"
   ],
   "metadata": {
    "collapsed": false,
    "ExecuteTime": {
     "end_time": "2024-03-22T09:02:17.222724Z",
     "start_time": "2024-03-22T09:02:17.218051Z"
    }
   },
   "id": "45af3e7702e1383e"
  }
 ],
 "metadata": {
  "kernelspec": {
   "display_name": "Python 3",
   "language": "python",
   "name": "python3"
  },
  "language_info": {
   "codemirror_mode": {
    "name": "ipython",
    "version": 2
   },
   "file_extension": ".py",
   "mimetype": "text/x-python",
   "name": "python",
   "nbconvert_exporter": "python",
   "pygments_lexer": "ipython2",
   "version": "2.7.6"
  }
 },
 "nbformat": 4,
 "nbformat_minor": 5
}
