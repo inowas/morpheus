{
 "cells": [
  {
   "cell_type": "code",
   "execution_count": 1,
   "id": "e7414753bb4e85d3",
   "metadata": {
    "ExecuteTime": {
     "end_time": "2024-06-21T09:01:25.727696Z",
     "start_time": "2024-06-21T09:01:25.724119Z"
    },
    "execution": {
     "iopub.execute_input": "2024-08-21T20:28:53.087421Z",
     "iopub.status.busy": "2024-08-21T20:28:53.087140Z",
     "iopub.status.idle": "2024-08-21T20:28:53.090615Z",
     "shell.execute_reply": "2024-08-21T20:28:53.090192Z"
    },
    "papermill": {
     "duration": 0.010249,
     "end_time": "2024-08-21T20:28:53.091977",
     "exception": false,
     "start_time": "2024-08-21T20:28:53.081728",
     "status": "completed"
    },
    "tags": []
   },
   "outputs": [],
   "source": [
    "import sys\n",
    "\n",
    "sys.path.insert(0, '..')"
   ]
  },
  {
   "cell_type": "markdown",
   "id": "20bab5b7ae774cc4",
   "metadata": {
    "papermill": {
     "duration": 0.003061,
     "end_time": "2024-08-21T20:28:53.098591",
     "exception": false,
     "start_time": "2024-08-21T20:28:53.095530",
     "status": "completed"
    },
    "tags": []
   },
   "source": [
    "## Setup the model area"
   ]
  },
  {
   "cell_type": "code",
   "execution_count": 2,
   "id": "90f41fb5d5d3a413",
   "metadata": {
    "ExecuteTime": {
     "end_time": "2024-06-21T09:01:26.879452Z",
     "start_time": "2024-06-21T09:01:25.729099Z"
    },
    "execution": {
     "iopub.execute_input": "2024-08-21T20:28:53.105381Z",
     "iopub.status.busy": "2024-08-21T20:28:53.105140Z",
     "iopub.status.idle": "2024-08-21T20:28:53.882672Z",
     "shell.execute_reply": "2024-08-21T20:28:53.882422Z"
    },
    "papermill": {
     "duration": 0.782002,
     "end_time": "2024-08-21T20:28:53.883623",
     "exception": false,
     "start_time": "2024-08-21T20:28:53.101621",
     "status": "completed"
    },
    "tags": []
   },
   "outputs": [
    {
     "data": {
      "text/plain": [
       "SpatialDiscretization(geometry=Polygon(coordinates=[[(13.922514437551428, 50.964720483303836), (13.925250781947113, 50.965228748412386), (13.925036413951403, 50.96623732041704), (13.92222441026388, 50.96629040370362), (13.922514437551428, 50.964720483303836)]], type='Polygon'), grid=Grid(origin=Point(coordinates=(13.922224410263878, 50.9662904037036), type='Point'), col_widths=[33.68941547288559, 33.68941547288559, 33.6894154728856, 33.689415472885585, 33.6894154728856, 33.6894154728856, 33.68941547288557, 33.6894154728856, 33.68941547288563, 33.68941547288557], total_width=336.89415472885594, row_heights=[27.74944856585935, 27.74944856585935, 27.749448565859346, 27.749448565859353, 27.74944856585934, 27.749448565859353, 27.749448565859325, 27.74944856585938, 27.749448565859325, 27.749448565859353], total_height=277.4944856585935, rotation=Rotation(value=0), length_unit=LengthUnit(unit=2)), affected_cells=ActiveCells(shape=(10, 10), data=array([[ True,  True,  True,  True,  True,  True,  True,  True,  True,\n",
       "         True],\n",
       "       [ True,  True,  True,  True,  True,  True,  True,  True,  True,\n",
       "         True],\n",
       "       [ True,  True,  True,  True,  True,  True,  True,  True,  True,\n",
       "         True],\n",
       "       [ True,  True,  True,  True,  True,  True,  True,  True,  True,\n",
       "         True],\n",
       "       [ True,  True,  True,  True,  True,  True,  True,  True,  True,\n",
       "         True],\n",
       "       [ True,  True,  True,  True,  True,  True,  True,  True,  True,\n",
       "         True],\n",
       "       [ True,  True,  True,  True,  True,  True,  True,  True,  True,\n",
       "         True],\n",
       "       [ True,  True,  True,  True,  True,  True,  True,  True, False,\n",
       "        False],\n",
       "       [ True,  True,  True,  True,  True,  True, False, False, False,\n",
       "        False],\n",
       "       [ True,  True,  True, False, False, False, False, False, False,\n",
       "        False]])))"
      ]
     },
     "execution_count": 2,
     "metadata": {},
     "output_type": "execute_result"
    }
   ],
   "source": [
    "from morpheus.project.types.Project import ProjectId\n",
    "from morpheus.project.types.discretization.spatial import ActiveCells\n",
    "from morpheus.project.types.discretization import SpatialDiscretization\n",
    "from morpheus.project.types.discretization.spatial import Rotation, LengthUnit, Grid, Crs\n",
    "from morpheus.project.types.geometry import Polygon, LineString\n",
    "\n",
    "project_id = ProjectId.new()\n",
    "\n",
    "polygon = Polygon(\n",
    "  type='Polygon',\n",
    "  coordinates=[[\n",
    "    (13.922514437551428, 50.964720483303836),\n",
    "    (13.925250781947113, 50.965228748412386),\n",
    "    (13.925036413951403, 50.96623732041704),\n",
    "    (13.92222441026388, 50.96629040370362),\n",
    "    (13.922514437551428, 50.964720483303836)\n",
    "  ]]\n",
    ")\n",
    "\n",
    "rotation = Rotation(0)\n",
    "length_unit = LengthUnit.meters()\n",
    "relative_col_coordinates = [0, 0.1, 0.2, 0.3, 0.4, 0.5, 0.6, 0.7, 0.8, 0.9, 1]\n",
    "relative_row_coordinates = [0, 0.1, 0.2, 0.3, 0.4, 0.5, 0.6, 0.7, 0.8, 0.9, 1]\n",
    "\n",
    "grid = Grid.from_polygon_with_relative_coordinates(\n",
    "  polygon=polygon,\n",
    "  relative_col_coordinates=relative_col_coordinates,\n",
    "  relative_row_coordinates=relative_row_coordinates,\n",
    "  rotation=rotation,\n",
    ")\n",
    "\n",
    "spatial_discretization = SpatialDiscretization(\n",
    "  geometry=polygon,\n",
    "  grid=grid,\n",
    "  affected_cells=ActiveCells.from_polygon(polygon=polygon, grid=grid),\n",
    "  crs=Crs.from_str('EPSG:4326')\n",
    ")\n",
    "\n",
    "spatial_discretization"
   ]
  },
  {
   "cell_type": "markdown",
   "id": "55a07c49f85a3271",
   "metadata": {
    "papermill": {
     "duration": 0.001914,
     "end_time": "2024-08-21T20:28:53.887622",
     "exception": false,
     "start_time": "2024-08-21T20:28:53.885708",
     "status": "completed"
    },
    "tags": []
   },
   "source": [
    "## Setup Time Discretization"
   ]
  },
  {
   "cell_type": "code",
   "execution_count": 3,
   "id": "51efe86c0dee3310",
   "metadata": {
    "ExecuteTime": {
     "end_time": "2024-06-21T09:01:26.883626Z",
     "start_time": "2024-06-21T09:01:26.880119Z"
    },
    "execution": {
     "iopub.execute_input": "2024-08-21T20:28:53.891788Z",
     "iopub.status.busy": "2024-08-21T20:28:53.891623Z",
     "iopub.status.idle": "2024-08-21T20:28:53.894598Z",
     "shell.execute_reply": "2024-08-21T20:28:53.894290Z"
    },
    "papermill": {
     "duration": 0.005996,
     "end_time": "2024-08-21T20:28:53.895375",
     "exception": false,
     "start_time": "2024-08-21T20:28:53.889379",
     "status": "completed"
    },
    "tags": []
   },
   "outputs": [
    {
     "data": {
      "text/plain": [
       "TimeDiscretization(start_date_time=StartDateTime(value=datetime.datetime(2020, 1, 1, 0, 0, tzinfo=datetime.timezone.utc)), end_date_time=StartDateTime(value=datetime.datetime(2020, 12, 31, 0, 0, tzinfo=datetime.timezone.utc)), stress_periods=StressPeriodCollection(values=[StressPeriod(start_date_time=StartDateTime(value=datetime.datetime(2020, 1, 1, 0, 0, tzinfo=datetime.timezone.utc)), number_of_time_steps=NumberOfTimeSteps(value=1), time_step_multiplier=TimeStepMultiplier(value=1), steady_state=IsSteadyState(value=True))]), time_unit=TimeUnit(unit=4))"
      ]
     },
     "execution_count": 3,
     "metadata": {},
     "output_type": "execute_result"
    }
   ],
   "source": [
    "from morpheus.project.types.discretization.time.TimeUnit import TimeUnit\n",
    "from morpheus.project.types.discretization.time.Stressperiods import StartDateTime, StressPeriodCollection, \\\n",
    "  StressPeriod, NumberOfTimeSteps, TimeStepMultiplier, IsSteadyState\n",
    "from morpheus.project.types.discretization.time import TimeDiscretization\n",
    "from datetime import datetime\n",
    "\n",
    "time_discretization = TimeDiscretization(\n",
    "  start_date_time=StartDateTime.from_datetime(datetime(2020, 1, 1)),\n",
    "  end_date_time=StartDateTime.from_datetime(datetime(2020, 12, 31)),\n",
    "  stress_periods=StressPeriodCollection([\n",
    "    StressPeriod(\n",
    "      start_date_time=StartDateTime.from_datetime(datetime(2020, 1, 1)),\n",
    "      number_of_time_steps=NumberOfTimeSteps(1),\n",
    "      time_step_multiplier=TimeStepMultiplier(1),\n",
    "      steady_state=IsSteadyState.yes()\n",
    "    ),\n",
    "  ]),\n",
    "  time_unit=TimeUnit.days()\n",
    ")\n",
    "\n",
    "time_discretization"
   ]
  },
  {
   "cell_type": "markdown",
   "id": "84da7c401564c113",
   "metadata": {
    "papermill": {
     "duration": 0.001845,
     "end_time": "2024-08-21T20:28:53.899192",
     "exception": false,
     "start_time": "2024-08-21T20:28:53.897347",
     "status": "completed"
    },
    "tags": []
   },
   "source": [
    "# Setup Model"
   ]
  },
  {
   "cell_type": "code",
   "execution_count": 4,
   "id": "f472c97904b10fd1",
   "metadata": {
    "ExecuteTime": {
     "end_time": "2024-06-21T09:01:26.891894Z",
     "start_time": "2024-06-21T09:01:26.884506Z"
    },
    "execution": {
     "iopub.execute_input": "2024-08-21T20:28:53.903451Z",
     "iopub.status.busy": "2024-08-21T20:28:53.903336Z",
     "iopub.status.idle": "2024-08-21T20:28:53.908817Z",
     "shell.execute_reply": "2024-08-21T20:28:53.908591Z"
    },
    "papermill": {
     "duration": 0.008552,
     "end_time": "2024-08-21T20:28:53.909618",
     "exception": false,
     "start_time": "2024-08-21T20:28:53.901066",
     "status": "completed"
    },
    "tags": []
   },
   "outputs": [],
   "source": [
    "from morpheus.project.types.Model import Model\n",
    "\n",
    "model = Model.new()\n",
    "model = model.with_updated_time_discretization(time_discretization)\n",
    "model = model.with_updated_spatial_discretization(spatial_discretization=spatial_discretization)"
   ]
  },
  {
   "cell_type": "code",
   "execution_count": 5,
   "id": "34616006780fb0ac",
   "metadata": {
    "ExecuteTime": {
     "end_time": "2024-06-21T09:01:27.050290Z",
     "start_time": "2024-06-21T09:01:26.893639Z"
    },
    "execution": {
     "iopub.execute_input": "2024-08-21T20:28:53.914478Z",
     "iopub.status.busy": "2024-08-21T20:28:53.914337Z",
     "iopub.status.idle": "2024-08-21T20:28:54.065941Z",
     "shell.execute_reply": "2024-08-21T20:28:54.065577Z"
    },
    "papermill": {
     "duration": 0.1552,
     "end_time": "2024-08-21T20:28:54.066872",
     "exception": false,
     "start_time": "2024-08-21T20:28:53.911672",
     "status": "completed"
    },
    "tags": []
   },
   "outputs": [
    {
     "data": {
      "text/html": [
       "<div style=\"width:100%;\"><div style=\"position:relative;width:100%;height:0;padding-bottom:60%;\"><span style=\"color:#565656\">Make this Notebook Trusted to load map: File -> Trust Notebook</span><iframe srcdoc=\"&lt;!DOCTYPE html&gt;\n",
       "&lt;html&gt;\n",
       "&lt;head&gt;\n",
       "    \n",
       "    &lt;meta http-equiv=&quot;content-type&quot; content=&quot;text/html; charset=UTF-8&quot; /&gt;\n",
       "    \n",
       "        &lt;script&gt;\n",
       "            L_NO_TOUCH = false;\n",
       "            L_DISABLE_3D = false;\n",
       "        &lt;/script&gt;\n",
       "    \n",
       "    &lt;style&gt;html, body {width: 100%;height: 100%;margin: 0;padding: 0;}&lt;/style&gt;\n",
       "    &lt;style&gt;#map {position:absolute;top:0;bottom:0;right:0;left:0;}&lt;/style&gt;\n",
       "    &lt;script src=&quot;https://cdn.jsdelivr.net/npm/leaflet@1.9.3/dist/leaflet.js&quot;&gt;&lt;/script&gt;\n",
       "    &lt;script src=&quot;https://code.jquery.com/jquery-3.7.1.min.js&quot;&gt;&lt;/script&gt;\n",
       "    &lt;script src=&quot;https://cdn.jsdelivr.net/npm/bootstrap@5.2.2/dist/js/bootstrap.bundle.min.js&quot;&gt;&lt;/script&gt;\n",
       "    &lt;script src=&quot;https://cdnjs.cloudflare.com/ajax/libs/Leaflet.awesome-markers/2.0.2/leaflet.awesome-markers.js&quot;&gt;&lt;/script&gt;\n",
       "    &lt;link rel=&quot;stylesheet&quot; href=&quot;https://cdn.jsdelivr.net/npm/leaflet@1.9.3/dist/leaflet.css&quot;/&gt;\n",
       "    &lt;link rel=&quot;stylesheet&quot; href=&quot;https://cdn.jsdelivr.net/npm/bootstrap@5.2.2/dist/css/bootstrap.min.css&quot;/&gt;\n",
       "    &lt;link rel=&quot;stylesheet&quot; href=&quot;https://netdna.bootstrapcdn.com/bootstrap/3.0.0/css/bootstrap-glyphicons.css&quot;/&gt;\n",
       "    &lt;link rel=&quot;stylesheet&quot; href=&quot;https://cdn.jsdelivr.net/npm/@fortawesome/fontawesome-free@6.2.0/css/all.min.css&quot;/&gt;\n",
       "    &lt;link rel=&quot;stylesheet&quot; href=&quot;https://cdnjs.cloudflare.com/ajax/libs/Leaflet.awesome-markers/2.0.2/leaflet.awesome-markers.css&quot;/&gt;\n",
       "    &lt;link rel=&quot;stylesheet&quot; href=&quot;https://cdn.jsdelivr.net/gh/python-visualization/folium/folium/templates/leaflet.awesome.rotate.min.css&quot;/&gt;\n",
       "    \n",
       "            &lt;meta name=&quot;viewport&quot; content=&quot;width=device-width,\n",
       "                initial-scale=1.0, maximum-scale=1.0, user-scalable=no&quot; /&gt;\n",
       "            &lt;style&gt;\n",
       "                #map_0d7643d94e86ebed4fbb4bb446dba1fd {\n",
       "                    position: relative;\n",
       "                    width: 100.0%;\n",
       "                    height: 100.0%;\n",
       "                    left: 0.0%;\n",
       "                    top: 0.0%;\n",
       "                }\n",
       "                .leaflet-container { font-size: 1rem; }\n",
       "            &lt;/style&gt;\n",
       "        \n",
       "&lt;/head&gt;\n",
       "&lt;body&gt;\n",
       "    \n",
       "    \n",
       "            &lt;div class=&quot;folium-map&quot; id=&quot;map_0d7643d94e86ebed4fbb4bb446dba1fd&quot; &gt;&lt;/div&gt;\n",
       "        \n",
       "&lt;/body&gt;\n",
       "&lt;script&gt;\n",
       "    \n",
       "    \n",
       "            var map_0d7643d94e86ebed4fbb4bb446dba1fd = L.map(\n",
       "                &quot;map_0d7643d94e86ebed4fbb4bb446dba1fd&quot;,\n",
       "                {\n",
       "                    center: [50.965, 13.922],\n",
       "                    crs: L.CRS.EPSG3857,\n",
       "                    zoom: 12,\n",
       "                    zoomControl: true,\n",
       "                    preferCanvas: false,\n",
       "                }\n",
       "            );\n",
       "\n",
       "            \n",
       "\n",
       "        \n",
       "    \n",
       "            var tile_layer_37ad8bfb410d2a7de97f92ef3538bf69 = L.tileLayer(\n",
       "                &quot;https://{s}.basemaps.cartocdn.com/light_all/{z}/{x}/{y}{r}.png&quot;,\n",
       "                {&quot;attribution&quot;: &quot;\\u0026copy; \\u003ca href=\\&quot;https://www.openstreetmap.org/copyright\\&quot;\\u003eOpenStreetMap\\u003c/a\\u003e contributors \\u0026copy; \\u003ca href=\\&quot;https://carto.com/attributions\\&quot;\\u003eCARTO\\u003c/a\\u003e&quot;, &quot;detectRetina&quot;: false, &quot;maxNativeZoom&quot;: 20, &quot;maxZoom&quot;: 20, &quot;minZoom&quot;: 0, &quot;noWrap&quot;: false, &quot;opacity&quot;: 1, &quot;subdomains&quot;: &quot;abcd&quot;, &quot;tms&quot;: false}\n",
       "            );\n",
       "        \n",
       "    \n",
       "            tile_layer_37ad8bfb410d2a7de97f92ef3538bf69.addTo(map_0d7643d94e86ebed4fbb4bb446dba1fd);\n",
       "        \n",
       "    \n",
       "\n",
       "        function geo_json_49a91195e4397966eafe96685a264659_onEachFeature(feature, layer) {\n",
       "            layer.on({\n",
       "            });\n",
       "        };\n",
       "        var geo_json_49a91195e4397966eafe96685a264659 = L.geoJson(null, {\n",
       "                onEachFeature: geo_json_49a91195e4397966eafe96685a264659_onEachFeature,\n",
       "            \n",
       "        });\n",
       "\n",
       "        function geo_json_49a91195e4397966eafe96685a264659_add (data) {\n",
       "            geo_json_49a91195e4397966eafe96685a264659\n",
       "                .addData(data);\n",
       "        }\n",
       "            geo_json_49a91195e4397966eafe96685a264659_add({&quot;coordinates&quot;: [[[13.922514437551428, 50.964720483303836], [13.925250781947113, 50.965228748412386], [13.925036413951403, 50.96623732041704], [13.92222441026388, 50.96629040370362], [13.922514437551428, 50.964720483303836]]], &quot;type&quot;: &quot;Polygon&quot;});\n",
       "        geo_json_49a91195e4397966eafe96685a264659.setStyle(function(feature) {return feature.properties.style;});\n",
       "\n",
       "        \n",
       "    \n",
       "            geo_json_49a91195e4397966eafe96685a264659.addTo(map_0d7643d94e86ebed4fbb4bb446dba1fd);\n",
       "        \n",
       "    \n",
       "            map_0d7643d94e86ebed4fbb4bb446dba1fd.fitBounds(\n",
       "                [[50.964720483303836, 13.92222441026388], [50.96629040370362, 13.925250781947113]],\n",
       "                {}\n",
       "            );\n",
       "        \n",
       "&lt;/script&gt;\n",
       "&lt;/html&gt;\" style=\"position:absolute;width:100%;height:100%;left:0;top:0;border:none !important;\" allowfullscreen webkitallowfullscreen mozallowfullscreen></iframe></div></div>"
      ],
      "text/plain": [
       "<folium.folium.Map at 0x168228260>"
      ]
     },
     "execution_count": 5,
     "metadata": {},
     "output_type": "execute_result"
    }
   ],
   "source": [
    "import folium\n",
    "\n",
    "m = folium.Map(tiles=\"cartodbpositron\", crs=\"EPSG3857\", zoom_start=12, location=[50.965, 13.922])\n",
    "m.add_child(folium.GeoJson(polygon.as_geojson()))\n",
    "\n",
    "m.fit_bounds(m.get_bounds())\n",
    "m"
   ]
  },
  {
   "cell_type": "markdown",
   "id": "fd3eef70b177ddf5",
   "metadata": {
    "papermill": {
     "duration": 0.002223,
     "end_time": "2024-08-21T20:28:54.071628",
     "exception": false,
     "start_time": "2024-08-21T20:28:54.069405",
     "status": "completed"
    },
    "tags": []
   },
   "source": [
    "# Setup constant head boundary with 1 observation"
   ]
  },
  {
   "cell_type": "code",
   "execution_count": 6,
   "id": "40d1355b2e81ef98",
   "metadata": {
    "ExecuteTime": {
     "end_time": "2024-06-21T09:01:27.076428Z",
     "start_time": "2024-06-21T09:01:27.050904Z"
    },
    "execution": {
     "iopub.execute_input": "2024-08-21T20:28:54.078491Z",
     "iopub.status.busy": "2024-08-21T20:28:54.078008Z",
     "iopub.status.idle": "2024-08-21T20:28:54.125432Z",
     "shell.execute_reply": "2024-08-21T20:28:54.123740Z"
    },
    "papermill": {
     "duration": 0.05361,
     "end_time": "2024-08-21T20:28:54.127737",
     "exception": false,
     "start_time": "2024-08-21T20:28:54.074127",
     "status": "completed"
    },
    "tags": []
   },
   "outputs": [
    {
     "data": {
      "text/html": [
       "<div style=\"width:100%;\"><div style=\"position:relative;width:100%;height:0;padding-bottom:60%;\"><span style=\"color:#565656\">Make this Notebook Trusted to load map: File -> Trust Notebook</span><iframe srcdoc=\"&lt;!DOCTYPE html&gt;\n",
       "&lt;html&gt;\n",
       "&lt;head&gt;\n",
       "    \n",
       "    &lt;meta http-equiv=&quot;content-type&quot; content=&quot;text/html; charset=UTF-8&quot; /&gt;\n",
       "    \n",
       "        &lt;script&gt;\n",
       "            L_NO_TOUCH = false;\n",
       "            L_DISABLE_3D = false;\n",
       "        &lt;/script&gt;\n",
       "    \n",
       "    &lt;style&gt;html, body {width: 100%;height: 100%;margin: 0;padding: 0;}&lt;/style&gt;\n",
       "    &lt;style&gt;#map {position:absolute;top:0;bottom:0;right:0;left:0;}&lt;/style&gt;\n",
       "    &lt;script src=&quot;https://cdn.jsdelivr.net/npm/leaflet@1.9.3/dist/leaflet.js&quot;&gt;&lt;/script&gt;\n",
       "    &lt;script src=&quot;https://code.jquery.com/jquery-3.7.1.min.js&quot;&gt;&lt;/script&gt;\n",
       "    &lt;script src=&quot;https://cdn.jsdelivr.net/npm/bootstrap@5.2.2/dist/js/bootstrap.bundle.min.js&quot;&gt;&lt;/script&gt;\n",
       "    &lt;script src=&quot;https://cdnjs.cloudflare.com/ajax/libs/Leaflet.awesome-markers/2.0.2/leaflet.awesome-markers.js&quot;&gt;&lt;/script&gt;\n",
       "    &lt;link rel=&quot;stylesheet&quot; href=&quot;https://cdn.jsdelivr.net/npm/leaflet@1.9.3/dist/leaflet.css&quot;/&gt;\n",
       "    &lt;link rel=&quot;stylesheet&quot; href=&quot;https://cdn.jsdelivr.net/npm/bootstrap@5.2.2/dist/css/bootstrap.min.css&quot;/&gt;\n",
       "    &lt;link rel=&quot;stylesheet&quot; href=&quot;https://netdna.bootstrapcdn.com/bootstrap/3.0.0/css/bootstrap-glyphicons.css&quot;/&gt;\n",
       "    &lt;link rel=&quot;stylesheet&quot; href=&quot;https://cdn.jsdelivr.net/npm/@fortawesome/fontawesome-free@6.2.0/css/all.min.css&quot;/&gt;\n",
       "    &lt;link rel=&quot;stylesheet&quot; href=&quot;https://cdnjs.cloudflare.com/ajax/libs/Leaflet.awesome-markers/2.0.2/leaflet.awesome-markers.css&quot;/&gt;\n",
       "    &lt;link rel=&quot;stylesheet&quot; href=&quot;https://cdn.jsdelivr.net/gh/python-visualization/folium/folium/templates/leaflet.awesome.rotate.min.css&quot;/&gt;\n",
       "    \n",
       "            &lt;meta name=&quot;viewport&quot; content=&quot;width=device-width,\n",
       "                initial-scale=1.0, maximum-scale=1.0, user-scalable=no&quot; /&gt;\n",
       "            &lt;style&gt;\n",
       "                #map_0d7643d94e86ebed4fbb4bb446dba1fd {\n",
       "                    position: relative;\n",
       "                    width: 100.0%;\n",
       "                    height: 100.0%;\n",
       "                    left: 0.0%;\n",
       "                    top: 0.0%;\n",
       "                }\n",
       "                .leaflet-container { font-size: 1rem; }\n",
       "            &lt;/style&gt;\n",
       "        \n",
       "&lt;/head&gt;\n",
       "&lt;body&gt;\n",
       "    \n",
       "    \n",
       "            &lt;div class=&quot;folium-map&quot; id=&quot;map_0d7643d94e86ebed4fbb4bb446dba1fd&quot; &gt;&lt;/div&gt;\n",
       "        \n",
       "&lt;/body&gt;\n",
       "&lt;script&gt;\n",
       "    \n",
       "    \n",
       "            var map_0d7643d94e86ebed4fbb4bb446dba1fd = L.map(\n",
       "                &quot;map_0d7643d94e86ebed4fbb4bb446dba1fd&quot;,\n",
       "                {\n",
       "                    center: [50.965, 13.922],\n",
       "                    crs: L.CRS.EPSG3857,\n",
       "                    zoom: 12,\n",
       "                    zoomControl: true,\n",
       "                    preferCanvas: false,\n",
       "                }\n",
       "            );\n",
       "\n",
       "            \n",
       "\n",
       "        \n",
       "    \n",
       "            var tile_layer_37ad8bfb410d2a7de97f92ef3538bf69 = L.tileLayer(\n",
       "                &quot;https://{s}.basemaps.cartocdn.com/light_all/{z}/{x}/{y}{r}.png&quot;,\n",
       "                {&quot;attribution&quot;: &quot;\\u0026copy; \\u003ca href=\\&quot;https://www.openstreetmap.org/copyright\\&quot;\\u003eOpenStreetMap\\u003c/a\\u003e contributors \\u0026copy; \\u003ca href=\\&quot;https://carto.com/attributions\\&quot;\\u003eCARTO\\u003c/a\\u003e&quot;, &quot;detectRetina&quot;: false, &quot;maxNativeZoom&quot;: 20, &quot;maxZoom&quot;: 20, &quot;minZoom&quot;: 0, &quot;noWrap&quot;: false, &quot;opacity&quot;: 1, &quot;subdomains&quot;: &quot;abcd&quot;, &quot;tms&quot;: false}\n",
       "            );\n",
       "        \n",
       "    \n",
       "            tile_layer_37ad8bfb410d2a7de97f92ef3538bf69.addTo(map_0d7643d94e86ebed4fbb4bb446dba1fd);\n",
       "        \n",
       "    \n",
       "\n",
       "        function geo_json_49a91195e4397966eafe96685a264659_onEachFeature(feature, layer) {\n",
       "            layer.on({\n",
       "            });\n",
       "        };\n",
       "        var geo_json_49a91195e4397966eafe96685a264659 = L.geoJson(null, {\n",
       "                onEachFeature: geo_json_49a91195e4397966eafe96685a264659_onEachFeature,\n",
       "            \n",
       "        });\n",
       "\n",
       "        function geo_json_49a91195e4397966eafe96685a264659_add (data) {\n",
       "            geo_json_49a91195e4397966eafe96685a264659\n",
       "                .addData(data);\n",
       "        }\n",
       "            geo_json_49a91195e4397966eafe96685a264659_add({&quot;coordinates&quot;: [[[13.922514437551428, 50.964720483303836], [13.925250781947113, 50.965228748412386], [13.925036413951403, 50.96623732041704], [13.92222441026388, 50.96629040370362], [13.922514437551428, 50.964720483303836]]], &quot;type&quot;: &quot;Polygon&quot;});\n",
       "        geo_json_49a91195e4397966eafe96685a264659.setStyle(function(feature) {return feature.properties.style;});\n",
       "\n",
       "        \n",
       "    \n",
       "            geo_json_49a91195e4397966eafe96685a264659.addTo(map_0d7643d94e86ebed4fbb4bb446dba1fd);\n",
       "        \n",
       "    \n",
       "            map_0d7643d94e86ebed4fbb4bb446dba1fd.fitBounds(\n",
       "                [[50.964720483303836, 13.92222441026388], [50.96629040370362, 13.925250781947113]],\n",
       "                {}\n",
       "            );\n",
       "        \n",
       "    \n",
       "            tile_layer_37ad8bfb410d2a7de97f92ef3538bf69.addTo(map_0d7643d94e86ebed4fbb4bb446dba1fd);\n",
       "        \n",
       "    \n",
       "            geo_json_49a91195e4397966eafe96685a264659.addTo(map_0d7643d94e86ebed4fbb4bb446dba1fd);\n",
       "        \n",
       "    \n",
       "\n",
       "        function geo_json_e6a0ddcca0cced892636992a4162009b_onEachFeature(feature, layer) {\n",
       "            layer.on({\n",
       "            });\n",
       "        };\n",
       "        var geo_json_e6a0ddcca0cced892636992a4162009b = L.geoJson(null, {\n",
       "                onEachFeature: geo_json_e6a0ddcca0cced892636992a4162009b_onEachFeature,\n",
       "            \n",
       "        });\n",
       "\n",
       "        function geo_json_e6a0ddcca0cced892636992a4162009b_add (data) {\n",
       "            geo_json_e6a0ddcca0cced892636992a4162009b\n",
       "                .addData(data);\n",
       "        }\n",
       "            geo_json_e6a0ddcca0cced892636992a4162009b_add({&quot;coordinates&quot;: [[13.9223, 50.9662], [13.925, 50.96615]], &quot;type&quot;: &quot;LineString&quot;});\n",
       "        geo_json_e6a0ddcca0cced892636992a4162009b.setStyle(function(feature) {return feature.properties.style;});\n",
       "\n",
       "        \n",
       "    \n",
       "            geo_json_e6a0ddcca0cced892636992a4162009b.addTo(map_0d7643d94e86ebed4fbb4bb446dba1fd);\n",
       "        \n",
       "    \n",
       "\n",
       "        function geo_json_73a0eebba6e6137387311af08d967445_onEachFeature(feature, layer) {\n",
       "            layer.on({\n",
       "            });\n",
       "        };\n",
       "        var geo_json_73a0eebba6e6137387311af08d967445 = L.geoJson(null, {\n",
       "                onEachFeature: geo_json_73a0eebba6e6137387311af08d967445_onEachFeature,\n",
       "            \n",
       "        });\n",
       "\n",
       "        function geo_json_73a0eebba6e6137387311af08d967445_add (data) {\n",
       "            geo_json_73a0eebba6e6137387311af08d967445\n",
       "                .addData(data);\n",
       "        }\n",
       "            geo_json_73a0eebba6e6137387311af08d967445_add({&quot;geometries&quot;: [{&quot;coordinates&quot;: [[[13.922224410263878, 50.96629040370359], [13.922527047432201, 50.96629040370359], [13.922527047432201, 50.9661334140511], [13.922224410263878, 50.9661334140511], [13.922224410263878, 50.96629040370359]]], &quot;type&quot;: &quot;Polygon&quot;}, {&quot;coordinates&quot;: [[[13.922527047432201, 50.96629040370359], [13.922829684600526, 50.96629040370359], [13.922829684600526, 50.9661334140511], [13.922527047432201, 50.9661334140511], [13.922527047432201, 50.96629040370359]]], &quot;type&quot;: &quot;Polygon&quot;}, {&quot;coordinates&quot;: [[[13.922829684600526, 50.96629040370359], [13.923132321768849, 50.96629040370359], [13.923132321768849, 50.9661334140511], [13.922829684600526, 50.9661334140511], [13.922829684600526, 50.96629040370359]]], &quot;type&quot;: &quot;Polygon&quot;}, {&quot;coordinates&quot;: [[[13.923132321768849, 50.96629040370359], [13.923434958937172, 50.96629040370359], [13.923434958937172, 50.9661334140511], [13.923132321768849, 50.9661334140511], [13.923132321768849, 50.96629040370359]]], &quot;type&quot;: &quot;Polygon&quot;}, {&quot;coordinates&quot;: [[[13.923434958937172, 50.96629040370359], [13.923737596105495, 50.96629040370359], [13.923737596105495, 50.9661334140511], [13.923434958937172, 50.9661334140511], [13.923434958937172, 50.96629040370359]]], &quot;type&quot;: &quot;Polygon&quot;}, {&quot;coordinates&quot;: [[[13.923737596105495, 50.96629040370359], [13.924040233273818, 50.96629040370359], [13.924040233273818, 50.9661334140511], [13.923737596105495, 50.9661334140511], [13.923737596105495, 50.96629040370359]]], &quot;type&quot;: &quot;Polygon&quot;}, {&quot;coordinates&quot;: [[[13.924040233273818, 50.96629040370359], [13.924342870442143, 50.96629040370359], [13.924342870442143, 50.9661334140511], [13.924040233273818, 50.9661334140511], [13.924040233273818, 50.96629040370359]]], &quot;type&quot;: &quot;Polygon&quot;}, {&quot;coordinates&quot;: [[[13.924342870442143, 50.96629040370359], [13.924645507610466, 50.96629040370359], [13.924645507610466, 50.9661334140511], [13.924342870442143, 50.9661334140511], [13.924342870442143, 50.96629040370359]]], &quot;type&quot;: &quot;Polygon&quot;}, {&quot;coordinates&quot;: [[[13.924645507610466, 50.96629040370359], [13.92494814477879, 50.96629040370359], [13.92494814477879, 50.9661334140511], [13.924645507610466, 50.9661334140511], [13.924645507610466, 50.96629040370359]]], &quot;type&quot;: &quot;Polygon&quot;}, {&quot;coordinates&quot;: [[[13.92494814477879, 50.96629040370359], [13.925250781947113, 50.96629040370359], [13.925250781947113, 50.9661334140511], [13.92494814477879, 50.9661334140511], [13.92494814477879, 50.96629040370359]]], &quot;type&quot;: &quot;Polygon&quot;}], &quot;type&quot;: &quot;GeometryCollection&quot;});\n",
       "        geo_json_73a0eebba6e6137387311af08d967445.setStyle(function(feature) {return feature.properties.style;});\n",
       "\n",
       "        \n",
       "    \n",
       "            geo_json_73a0eebba6e6137387311af08d967445.addTo(map_0d7643d94e86ebed4fbb4bb446dba1fd);\n",
       "        \n",
       "    \n",
       "\n",
       "        function geo_json_3495c936ecf72d641603df5b42baa96b_onEachFeature(feature, layer) {\n",
       "            layer.on({\n",
       "            });\n",
       "        };\n",
       "        var geo_json_3495c936ecf72d641603df5b42baa96b = L.geoJson(null, {\n",
       "                onEachFeature: geo_json_3495c936ecf72d641603df5b42baa96b_onEachFeature,\n",
       "            \n",
       "        });\n",
       "\n",
       "        function geo_json_3495c936ecf72d641603df5b42baa96b_add (data) {\n",
       "            geo_json_3495c936ecf72d641603df5b42baa96b\n",
       "                .addData(data);\n",
       "        }\n",
       "            geo_json_3495c936ecf72d641603df5b42baa96b_add({&quot;coordinates&quot;: [13.9223, 50.9662], &quot;type&quot;: &quot;Point&quot;});\n",
       "        geo_json_3495c936ecf72d641603df5b42baa96b.setStyle(function(feature) {return feature.properties.style;});\n",
       "\n",
       "        \n",
       "    \n",
       "            geo_json_3495c936ecf72d641603df5b42baa96b.addTo(map_0d7643d94e86ebed4fbb4bb446dba1fd);\n",
       "        \n",
       "    \n",
       "            map_0d7643d94e86ebed4fbb4bb446dba1fd.fitBounds(\n",
       "                [[50.964720483303836, 13.922224410263878], [50.96629040370362, 13.925250781947113]],\n",
       "                {}\n",
       "            );\n",
       "        \n",
       "&lt;/script&gt;\n",
       "&lt;/html&gt;\" style=\"position:absolute;width:100%;height:100%;left:0;top:0;border:none !important;\" allowfullscreen webkitallowfullscreen mozallowfullscreen></iframe></div></div>"
      ],
      "text/plain": [
       "<folium.folium.Map at 0x168228260>"
      ]
     },
     "execution_count": 6,
     "metadata": {},
     "output_type": "execute_result"
    }
   ],
   "source": [
    "from morpheus.project.types.boundaries.Observation import ObservationId, ObservationName\n",
    "from morpheus.project.types.geometry import Point\n",
    "from morpheus.project.types.boundaries.Boundary import BoundaryName, ConstantHeadBoundary\n",
    "from morpheus.project.types.layers import LayerId\n",
    "from morpheus.project.types.boundaries.ConstantHeadObservation import ConstantHeadObservation, ConstantHeadObservationValue, \\\n",
    "  HeadValue\n",
    "\n",
    "layers_list = [LayerId.new()]\n",
    "constant_head = ConstantHeadBoundary.from_geometry(\n",
    "  name=BoundaryName('constant_head'),\n",
    "  geometry=LineString([\n",
    "    (13.9223, 50.9662),\n",
    "    (13.9250, 50.96615),\n",
    "  ]),\n",
    "  grid=grid,\n",
    "  affected_layers=[model.layers[0].layer_id],\n",
    "  observations=[\n",
    "    ConstantHeadObservation(\n",
    "      observation_id=ObservationId.new(),\n",
    "      observation_name=ObservationName.default(),\n",
    "      geometry=Point((13.9223, 50.9662)),\n",
    "      data=[\n",
    "        ConstantHeadObservationValue(\n",
    "          date_time=StartDateTime.from_datetime(datetime(2019, 1, 1)),\n",
    "          head=HeadValue.from_float(100),\n",
    "        ),\n",
    "        ConstantHeadObservationValue(\n",
    "          date_time=StartDateTime.from_datetime(datetime(2021, 12, 31)),\n",
    "          head=HeadValue.from_float(100),\n",
    "        ),\n",
    "      ]\n",
    "    )\n",
    "  ]\n",
    ")\n",
    "\n",
    "m.add_child(folium.GeoJson(constant_head.as_geojson()))\n",
    "m.add_child(folium.GeoJson(constant_head.affected_cells.to_geojson(grid).as_geojson()))\n",
    "for constant_head.observation in constant_head.observations:\n",
    "  m.add_child(folium.GeoJson(constant_head.observation.as_geojson()))\n",
    "m.fit_bounds(m.get_bounds())\n",
    "m"
   ]
  },
  {
   "cell_type": "code",
   "execution_count": 7,
   "id": "7c82464ff5708ee7",
   "metadata": {
    "ExecuteTime": {
     "end_time": "2024-06-21T09:01:27.080026Z",
     "start_time": "2024-06-21T09:01:27.077140Z"
    },
    "execution": {
     "iopub.execute_input": "2024-08-21T20:28:54.133420Z",
     "iopub.status.busy": "2024-08-21T20:28:54.133280Z",
     "iopub.status.idle": "2024-08-21T20:28:54.136589Z",
     "shell.execute_reply": "2024-08-21T20:28:54.135654Z"
    },
    "papermill": {
     "duration": 0.015945,
     "end_time": "2024-08-21T20:28:54.146224",
     "exception": false,
     "start_time": "2024-08-21T20:28:54.130279",
     "status": "completed"
    },
    "tags": []
   },
   "outputs": [],
   "source": [
    "from morpheus.project.types.boundaries.Boundary import BoundaryCollection\n",
    "\n",
    "boundaries = BoundaryCollection.new()\n",
    "boundaries.add_boundary(constant_head)\n",
    "model = model.with_updated_boundaries(boundaries=boundaries)"
   ]
  },
  {
   "cell_type": "code",
   "execution_count": null,
   "id": "467345a686f72a46",
   "metadata": {
    "ExecuteTime": {
     "end_time": "2024-06-21T09:01:27.084831Z",
     "start_time": "2024-06-21T09:01:27.081971Z"
    },
    "papermill": {
     "duration": 0.004663,
     "end_time": "2024-08-21T20:28:54.153807",
     "exception": false,
     "start_time": "2024-08-21T20:28:54.149144",
     "status": "completed"
    },
    "tags": []
   },
   "outputs": [],
   "source": []
  },
  {
   "cell_type": "markdown",
   "id": "def59c686f992cf9",
   "metadata": {
    "papermill": {
     "duration": 0.008134,
     "end_time": "2024-08-21T20:28:54.173395",
     "exception": false,
     "start_time": "2024-08-21T20:28:54.165261",
     "status": "completed"
    },
    "tags": []
   },
   "source": [
    "## Calculate the model asynchronously with celery"
   ]
  },
  {
   "cell_type": "code",
   "execution_count": 8,
   "id": "55efe9e12e77c901",
   "metadata": {
    "ExecuteTime": {
     "end_time": "2024-06-21T09:01:27.091201Z",
     "start_time": "2024-06-21T09:01:27.086969Z"
    },
    "execution": {
     "iopub.execute_input": "2024-08-21T20:28:54.199900Z",
     "iopub.status.busy": "2024-08-21T20:28:54.198733Z",
     "iopub.status.idle": "2024-08-21T20:28:54.207924Z",
     "shell.execute_reply": "2024-08-21T20:28:54.206967Z"
    },
    "papermill": {
     "duration": 0.030945,
     "end_time": "2024-08-21T20:28:54.211257",
     "exception": false,
     "start_time": "2024-08-21T20:28:54.180312",
     "status": "completed"
    },
    "tags": []
   },
   "outputs": [
    {
     "data": {
      "text/plain": [
       "Mf2005CalculationEngineSettings(mf=MfPackageSettings(verbose=False), dis=DisPackageSettings(), bas=BasPackageSettings(ichflg=False, hnoflo=-999.99, stoper=None), chd=ChdPackageSettings(), drn=DrnPackageSettings(ipakcb=0), evt=EvtPackageSettings(ipakcb=0, nevtop=1), fhb=FhbPackageSettings(ipakcb=0, ifhbss=0, ifhbpt=0), ghb=GhbPackageSettings(ipakcb=0), lak=LakPackageSettings(ipakcb=0, theta=1.0), rch=RchPackageSettings(ipakcb=0), riv=RivPackageSettings(ipakcb=0), wel=WelPackageSettings(ipakcb=0), hob=HobPackageSettings(hobdry=0.0, tomulth=1.0), selected_flow_package='lpf', available_flow_packages=['lpf', 'bcf'], bcf=BcfPackageSettings(ipakcb=0, iwdflg=0, ihdwet=0, wetfct=0.1, iwetit=1, wetdry=-0.01, hdry=-1e+30), lpf=LpfPackageSettings(ipakcb=0, iwdflg=0, ihdwet=0, wetfct=0.1, iwetit=1, wetdry=-0.01, hdry=-1e+30, storagecoefficient=False, nocvcorrection=False, constantcv=False, novfc=False, thickstrt=False), selected_solver_package='pcg', available_solver_packages=['de4', 'gmg', 'pcg', 'pcgn', 'sip'], de4=De4PackageSettings(itmx=50, mxup=0, mxlow=0, mxbw=0, ifreq=3, mutd4=0, accl=1, hclose=1e-05, iprd4=1), gmg=GmgPackageSettings(mxiter=50, iiter=30, iadamp=0, hclose=1e-05, rclose=1e-05, relax=1.0, ioutgmg=0, iunitmhc=0, ism=0, isc=0, damp=1.0, dup=0.75, dlow=0.01, chglimit=1.0), pcg=PcgPackageSettings(mxiter=50, iter1=30, npcond=1, hclose=1e-05, rclose=1e-05, relax=1.0, nbpol=0, iprpcg=0, mutpcg=3, damp=1.0, dampt=1.0, ihcofadd=0), pcgn=PcgnPackageSettings(iter_mo=50, iter_mi=30, close_r=1e-05, close_h=1e-05, relax=1.0, ifill=0, unit_pc=0, unit_ts=0, adamp=0, damp=1.0, damp_lb=0.001, rate_d=0.1, chglimit=0.0, acnvg=0, cnvg_lb=0.001, mcnvg=2, rate_c=-1.0, ipunit=0), sip=SipPackageSettings(mxiter=200, nparm=5, accl=1, hclose=1e-05, ipcalc=1, wseed=0.0, iprsip=0), oc=OcPackageSettings(ihedfm=0, iddnfm=0, chedfm=None, cddnfm=None, cboufm=None, compact=True, label='OC'))"
      ]
     },
     "execution_count": 8,
     "metadata": {},
     "output_type": "execute_result"
    }
   ],
   "source": [
    "\n",
    "from morpheus.project.infrastructure.calculation.engines.modflow_2005.types.Mf2005CalculationEngineSettings import \\\n",
    "  Mf2005CalculationEngineSettings\n",
    "\n",
    "calculation_engine_setting = Mf2005CalculationEngineSettings.default()\n",
    "calculation_engine_setting"
   ]
  },
  {
   "cell_type": "markdown",
   "id": "cf5c7e1336cb75ec",
   "metadata": {
    "papermill": {
     "duration": 0.006865,
     "end_time": "2024-08-21T20:28:54.221034",
     "exception": false,
     "start_time": "2024-08-21T20:28:54.214169",
     "status": "completed"
    },
    "tags": []
   },
   "source": []
  },
  {
   "cell_type": "code",
   "execution_count": 9,
   "id": "aa130d1787995ad9",
   "metadata": {
    "ExecuteTime": {
     "end_time": "2024-06-21T09:01:27.562504Z",
     "start_time": "2024-06-21T09:01:27.092600Z"
    },
    "execution": {
     "iopub.execute_input": "2024-08-21T20:28:54.237988Z",
     "iopub.status.busy": "2024-08-21T20:28:54.237464Z",
     "iopub.status.idle": "2024-08-21T20:28:54.815401Z",
     "shell.execute_reply": "2024-08-21T20:28:54.815092Z"
    },
    "papermill": {
     "duration": 0.587051,
     "end_time": "2024-08-21T20:28:54.816482",
     "exception": false,
     "start_time": "2024-08-21T20:28:54.229431",
     "status": "completed"
    },
    "tags": []
   },
   "outputs": [],
   "source": [
    "from morpheus.project.types.calculation.CalculationProfile import CalculationProfile, CalculationEngineType\n",
    "from morpheus.project.infrastructure.calculation.services.AsnycCalculationService import AsyncCalculationService\n",
    "\n",
    "calculation_profile = CalculationProfile.new(CalculationEngineType.MF2005)\n",
    "\n",
    "\n",
    "calculation_id = AsyncCalculationService.create_async_calculation(\n",
    "  project_id=project_id,\n",
    "  model=model,\n",
    "  model_version='1.0.0',\n",
    "  profile=calculation_profile,\n",
    ")\n"
   ]
  },
  {
   "cell_type": "code",
   "execution_count": 10,
   "id": "26c1fea869b667a3",
   "metadata": {
    "ExecuteTime": {
     "end_time": "2024-06-21T09:01:27.659742Z",
     "start_time": "2024-06-21T09:01:27.563221Z"
    },
    "execution": {
     "iopub.execute_input": "2024-08-21T20:28:54.823472Z",
     "iopub.status.busy": "2024-08-21T20:28:54.823189Z",
     "iopub.status.idle": "2024-08-21T20:28:54.942344Z",
     "shell.execute_reply": "2024-08-21T20:28:54.941997Z"
    },
    "papermill": {
     "duration": 0.124218,
     "end_time": "2024-08-21T20:28:54.943385",
     "exception": false,
     "start_time": "2024-08-21T20:28:54.819167",
     "status": "completed"
    },
    "tags": []
   },
   "outputs": [
    {
     "data": {
      "text/plain": [
       "{'id': '23c5113d-e686-4e2b-9a11-6133d058e95c', 'state': 'PENDING'}"
      ]
     },
     "execution_count": 10,
     "metadata": {},
     "output_type": "execute_result"
    }
   ],
   "source": [
    "from morpheus.project.tasks import run_calculation_by_id\n",
    "\n",
    "result = run_calculation_by_id.delay(calculation_id=calculation_id.to_str())\n",
    "result_state = result.state\n",
    "result_id = result.id\n",
    "{'id': result_id, 'state': result_state}"
   ]
  },
  {
   "cell_type": "code",
   "execution_count": 11,
   "id": "9030f234b885d995",
   "metadata": {
    "ExecuteTime": {
     "end_time": "2024-06-21T09:01:34.954422Z",
     "start_time": "2024-06-21T09:01:34.945972Z"
    },
    "execution": {
     "iopub.execute_input": "2024-08-21T20:28:54.950235Z",
     "iopub.status.busy": "2024-08-21T20:28:54.950002Z",
     "iopub.status.idle": "2024-08-21T20:28:54.963818Z",
     "shell.execute_reply": "2024-08-21T20:28:54.963463Z"
    },
    "papermill": {
     "duration": 0.018699,
     "end_time": "2024-08-21T20:28:54.965090",
     "exception": false,
     "start_time": "2024-08-21T20:28:54.946391",
     "status": "completed"
    },
    "tags": []
   },
   "outputs": [
    {
     "data": {
      "text/plain": [
       "{'id': '23c5113d-e686-4e2b-9a11-6133d058e95c',\n",
       " 'state': 'PENDING',\n",
       " 'ready': False,\n",
       " 'successful': False,\n",
       " 'value': None}"
      ]
     },
     "execution_count": 11,
     "metadata": {},
     "output_type": "execute_result"
    }
   ],
   "source": [
    "from celery.result import AsyncResult\n",
    "\n",
    "result = AsyncResult(id=result_id)\n",
    "{\n",
    "  'id': result.id,\n",
    "  'state': result.state,\n",
    "  'ready': result.ready(),\n",
    "  'successful': result.successful(),\n",
    "  'value': result.result if result.ready() else None,\n",
    "}"
   ]
  },
  {
   "cell_type": "code",
   "execution_count": 12,
   "id": "e57747c5eec94970",
   "metadata": {
    "ExecuteTime": {
     "end_time": "2024-06-21T09:01:36.404963Z",
     "start_time": "2024-06-21T09:01:36.392569Z"
    },
    "collapsed": false,
    "execution": {
     "iopub.execute_input": "2024-08-21T20:28:54.973249Z",
     "iopub.status.busy": "2024-08-21T20:28:54.973066Z",
     "iopub.status.idle": "2024-08-21T20:28:54.981353Z",
     "shell.execute_reply": "2024-08-21T20:28:54.981047Z"
    },
    "papermill": {
     "duration": 0.01783,
     "end_time": "2024-08-21T20:28:54.986367",
     "exception": false,
     "start_time": "2024-08-21T20:28:54.968537",
     "status": "completed"
    },
    "tags": []
   },
   "outputs": [],
   "source": [
    "service = AsyncCalculationService.load_calculation(calculation_id=calculation_id)"
   ]
  },
  {
   "cell_type": "code",
   "execution_count": 13,
   "id": "d04c548bbc8b4da9",
   "metadata": {
    "ExecuteTime": {
     "end_time": "2024-06-21T09:01:37.370372Z",
     "start_time": "2024-06-21T09:01:37.366804Z"
    },
    "collapsed": false,
    "execution": {
     "iopub.execute_input": "2024-08-21T20:28:54.999791Z",
     "iopub.status.busy": "2024-08-21T20:28:54.999574Z",
     "iopub.status.idle": "2024-08-21T20:28:55.001807Z",
     "shell.execute_reply": "2024-08-21T20:28:55.001379Z"
    },
    "papermill": {
     "duration": 0.009553,
     "end_time": "2024-08-21T20:28:55.002596",
     "exception": false,
     "start_time": "2024-08-21T20:28:54.993043",
     "status": "completed"
    },
    "tags": []
   },
   "outputs": [],
   "source": [
    "service.calculation.result"
   ]
  },
  {
   "cell_type": "code",
   "execution_count": 14,
   "id": "48aa27656bc029d",
   "metadata": {
    "ExecuteTime": {
     "end_time": "2024-06-21T09:01:38.173573Z",
     "start_time": "2024-06-21T09:01:38.169113Z"
    },
    "collapsed": false,
    "execution": {
     "iopub.execute_input": "2024-08-21T20:28:55.008127Z",
     "iopub.status.busy": "2024-08-21T20:28:55.007903Z",
     "iopub.status.idle": "2024-08-21T20:28:55.010196Z",
     "shell.execute_reply": "2024-08-21T20:28:55.009954Z"
    },
    "papermill": {
     "duration": 0.005936,
     "end_time": "2024-08-21T20:28:55.010976",
     "exception": false,
     "start_time": "2024-08-21T20:28:55.005040",
     "status": "completed"
    },
    "tags": []
   },
   "outputs": [
    {
     "data": {
      "text/plain": [
       "[<CalculationState.CREATED: 'created'>,\n",
       " <CalculationState.CREATED: 'created'>,\n",
       " <CalculationState.PREPROCESSING: 'preprocessing'>]"
      ]
     },
     "execution_count": 14,
     "metadata": {},
     "output_type": "execute_result"
    }
   ],
   "source": [
    "service.calculation.lifecycle"
   ]
  },
  {
   "cell_type": "code",
   "execution_count": 15,
   "id": "45af3e7702e1383e",
   "metadata": {
    "ExecuteTime": {
     "end_time": "2024-06-21T09:01:39.295851Z",
     "start_time": "2024-06-21T09:01:39.291056Z"
    },
    "collapsed": false,
    "execution": {
     "iopub.execute_input": "2024-08-21T20:28:55.016619Z",
     "iopub.status.busy": "2024-08-21T20:28:55.016451Z",
     "iopub.status.idle": "2024-08-21T20:28:55.018199Z",
     "shell.execute_reply": "2024-08-21T20:28:55.017977Z"
    },
    "papermill": {
     "duration": 0.005518,
     "end_time": "2024-08-21T20:28:55.018974",
     "exception": false,
     "start_time": "2024-08-21T20:28:55.013456",
     "status": "completed"
    },
    "tags": []
   },
   "outputs": [],
   "source": [
    "service.calculation.calculation_log"
   ]
  },
  {
   "cell_type": "code",
   "execution_count": null,
   "id": "9d384aa1479a53fe",
   "metadata": {
    "papermill": {
     "duration": 0.002317,
     "end_time": "2024-08-21T20:28:55.023715",
     "exception": false,
     "start_time": "2024-08-21T20:28:55.021398",
     "status": "completed"
    },
    "tags": []
   },
   "outputs": [],
   "source": []
  }
 ],
 "metadata": {
  "kernelspec": {
   "display_name": "Python 3",
   "language": "python",
   "name": "python3"
  },
  "language_info": {
   "codemirror_mode": {
    "name": "ipython",
    "version": 3
   },
   "file_extension": ".py",
   "mimetype": "text/x-python",
   "name": "python",
   "nbconvert_exporter": "python",
   "pygments_lexer": "ipython3",
   "version": "3.12.2"
  },
  "papermill": {
   "default_parameters": {},
   "duration": 3.094238,
   "end_time": "2024-08-21T20:28:55.645662",
   "environment_variables": {},
   "exception": null,
   "input_path": "./notebooks/Mf2005CalculationWithCelery.ipynb",
   "output_path": "./notebooks/Mf2005CalculationWithCelery.ipynb",
   "parameters": {},
   "start_time": "2024-08-21T20:28:52.551424",
   "version": "2.6.0"
  }
 },
 "nbformat": 4,
 "nbformat_minor": 5
}