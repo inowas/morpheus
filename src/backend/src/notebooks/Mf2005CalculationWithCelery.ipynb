{
 "cells": [
  {
   "cell_type": "code",
   "id": "e7414753bb4e85d3",
   "metadata": {
    "execution": {
     "iopub.execute_input": "2024-06-20T19:01:49.015570Z",
     "iopub.status.busy": "2024-06-20T19:01:49.014854Z",
     "iopub.status.idle": "2024-06-20T19:01:49.021988Z",
     "shell.execute_reply": "2024-06-20T19:01:49.021022Z"
    },
    "papermill": {
     "duration": 0.025987,
     "end_time": "2024-06-20T19:01:49.024923",
     "exception": false,
     "start_time": "2024-06-20T19:01:48.998936",
     "status": "completed"
    },
    "tags": [],
    "ExecuteTime": {
     "end_time": "2024-06-21T09:01:25.727696Z",
     "start_time": "2024-06-21T09:01:25.724119Z"
    }
   },
   "source": [
    "import sys\n",
    "\n",
    "sys.path.insert(0, '..')"
   ],
   "outputs": [],
   "execution_count": 1
  },
  {
   "cell_type": "markdown",
   "id": "20bab5b7ae774cc4",
   "metadata": {
    "papermill": {
     "duration": 0.006645,
     "end_time": "2024-06-20T19:01:49.040207",
     "exception": false,
     "start_time": "2024-06-20T19:01:49.033562",
     "status": "completed"
    },
    "tags": []
   },
   "source": [
    "## Setup the model area"
   ]
  },
  {
   "cell_type": "code",
   "id": "90f41fb5d5d3a413",
   "metadata": {
    "execution": {
     "iopub.execute_input": "2024-06-20T19:01:49.050964Z",
     "iopub.status.busy": "2024-06-20T19:01:49.050508Z",
     "iopub.status.idle": "2024-06-20T19:01:49.923965Z",
     "shell.execute_reply": "2024-06-20T19:01:49.923409Z"
    },
    "papermill": {
     "duration": 0.879831,
     "end_time": "2024-06-20T19:01:49.925102",
     "exception": false,
     "start_time": "2024-06-20T19:01:49.045271",
     "status": "completed"
    },
    "tags": [],
    "ExecuteTime": {
     "end_time": "2024-06-21T09:01:26.879452Z",
     "start_time": "2024-06-21T09:01:25.729099Z"
    }
   },
   "source": [
    "from morpheus.project.types.Project import ProjectId\n",
    "from morpheus.project.types.discretization.spatial import ActiveCells\n",
    "from morpheus.project.types.discretization import SpatialDiscretization\n",
    "from morpheus.project.types.discretization.spatial import Rotation, LengthUnit, Grid, Crs\n",
    "from morpheus.project.types.geometry import Polygon, LineString\n",
    "\n",
    "project_id = ProjectId.new()\n",
    "\n",
    "polygon = Polygon(\n",
    "  type='Polygon',\n",
    "  coordinates=[[\n",
    "    (13.922514437551428, 50.964720483303836),\n",
    "    (13.925250781947113, 50.965228748412386),\n",
    "    (13.925036413951403, 50.96623732041704),\n",
    "    (13.92222441026388, 50.96629040370362),\n",
    "    (13.922514437551428, 50.964720483303836)\n",
    "  ]]\n",
    ")\n",
    "\n",
    "rotation = Rotation(0)\n",
    "length_unit = LengthUnit.meters()\n",
    "relative_col_coordinates = [0, 0.1, 0.2, 0.3, 0.4, 0.5, 0.6, 0.7, 0.8, 0.9, 1]\n",
    "relative_row_coordinates = [0, 0.1, 0.2, 0.3, 0.4, 0.5, 0.6, 0.7, 0.8, 0.9, 1]\n",
    "\n",
    "grid = Grid.from_polygon_with_relative_coordinates(\n",
    "  polygon=polygon,\n",
    "  relative_col_coordinates=relative_col_coordinates,\n",
    "  relative_row_coordinates=relative_row_coordinates,\n",
    "  rotation=rotation,\n",
    ")\n",
    "\n",
    "spatial_discretization = SpatialDiscretization(\n",
    "  geometry=polygon,\n",
    "  grid=grid,\n",
    "  affected_cells=ActiveCells.from_polygon(polygon=polygon, grid=grid),\n",
    "  crs=Crs.from_str('EPSG:4326')\n",
    ")\n",
    "\n",
    "spatial_discretization"
   ],
   "outputs": [
    {
     "data": {
      "text/plain": [
       "SpatialDiscretization(geometry=Polygon(coordinates=[[(13.922514437551428, 50.964720483303836), (13.925250781947113, 50.965228748412386), (13.925036413951403, 50.96623732041704), (13.92222441026388, 50.96629040370362), (13.922514437551428, 50.964720483303836)]], type='Polygon'), grid=Grid(origin=Point(coordinates=(13.922224410263878, 50.9662904037036), type='Point'), col_widths=[33.68941547288559, 33.68941547288559, 33.6894154728856, 33.689415472885585, 33.6894154728856, 33.6894154728856, 33.68941547288557, 33.6894154728856, 33.68941547288563, 33.68941547288557], total_width=336.89415472885594, row_heights=[27.74944856585935, 27.74944856585935, 27.749448565859346, 27.749448565859353, 27.74944856585934, 27.749448565859353, 27.749448565859325, 27.74944856585938, 27.749448565859325, 27.749448565859353], total_height=277.4944856585935, rotation=Rotation(value=0), length_unit=LengthUnit(unit=2)), affected_cells=ActiveCells(shape=(10, 10), data=[ActiveCell(col=0, row=0), ActiveCell(col=0, row=1), ActiveCell(col=0, row=2), ActiveCell(col=0, row=3), ActiveCell(col=0, row=4), ActiveCell(col=1, row=0), ActiveCell(col=1, row=1), ActiveCell(col=1, row=2), ActiveCell(col=1, row=3), ActiveCell(col=1, row=4), ActiveCell(col=1, row=5), ActiveCell(col=1, row=6), ActiveCell(col=1, row=7), ActiveCell(col=1, row=8), ActiveCell(col=1, row=9), ActiveCell(col=2, row=0), ActiveCell(col=2, row=1), ActiveCell(col=2, row=2), ActiveCell(col=2, row=3), ActiveCell(col=2, row=4), ActiveCell(col=2, row=5), ActiveCell(col=2, row=6), ActiveCell(col=2, row=7), ActiveCell(col=2, row=8), ActiveCell(col=3, row=0), ActiveCell(col=3, row=1), ActiveCell(col=3, row=2), ActiveCell(col=3, row=3), ActiveCell(col=3, row=4), ActiveCell(col=3, row=5), ActiveCell(col=3, row=6), ActiveCell(col=3, row=7), ActiveCell(col=3, row=8), ActiveCell(col=4, row=0), ActiveCell(col=4, row=1), ActiveCell(col=4, row=2), ActiveCell(col=4, row=3), ActiveCell(col=4, row=4), ActiveCell(col=4, row=5), ActiveCell(col=4, row=6), ActiveCell(col=4, row=7), ActiveCell(col=4, row=8), ActiveCell(col=5, row=0), ActiveCell(col=5, row=1), ActiveCell(col=5, row=2), ActiveCell(col=5, row=3), ActiveCell(col=5, row=4), ActiveCell(col=5, row=5), ActiveCell(col=5, row=6), ActiveCell(col=5, row=7), ActiveCell(col=6, row=0), ActiveCell(col=6, row=1), ActiveCell(col=6, row=2), ActiveCell(col=6, row=3), ActiveCell(col=6, row=4), ActiveCell(col=6, row=5), ActiveCell(col=6, row=6), ActiveCell(col=6, row=7), ActiveCell(col=7, row=0), ActiveCell(col=7, row=1), ActiveCell(col=7, row=2), ActiveCell(col=7, row=3), ActiveCell(col=7, row=4), ActiveCell(col=7, row=5), ActiveCell(col=7, row=6), ActiveCell(col=7, row=7), ActiveCell(col=8, row=0), ActiveCell(col=8, row=1), ActiveCell(col=8, row=2), ActiveCell(col=8, row=3), ActiveCell(col=8, row=4), ActiveCell(col=8, row=5), ActiveCell(col=8, row=6), ActiveCell(col=9, row=2), ActiveCell(col=9, row=3), ActiveCell(col=9, row=4), ActiveCell(col=9, row=5), ActiveCell(col=9, row=6)]))"
      ]
     },
     "execution_count": 2,
     "metadata": {},
     "output_type": "execute_result"
    }
   ],
   "execution_count": 2
  },
  {
   "cell_type": "markdown",
   "id": "55a07c49f85a3271",
   "metadata": {
    "papermill": {
     "duration": 0.002344,
     "end_time": "2024-06-20T19:01:49.929832",
     "exception": false,
     "start_time": "2024-06-20T19:01:49.927488",
     "status": "completed"
    },
    "tags": []
   },
   "source": [
    "## Setup Time Discretization"
   ]
  },
  {
   "cell_type": "code",
   "id": "51efe86c0dee3310",
   "metadata": {
    "execution": {
     "iopub.execute_input": "2024-06-20T19:01:49.937232Z",
     "iopub.status.busy": "2024-06-20T19:01:49.936926Z",
     "iopub.status.idle": "2024-06-20T19:01:49.942468Z",
     "shell.execute_reply": "2024-06-20T19:01:49.941831Z"
    },
    "papermill": {
     "duration": 0.01977,
     "end_time": "2024-06-20T19:01:49.951812",
     "exception": false,
     "start_time": "2024-06-20T19:01:49.932042",
     "status": "completed"
    },
    "tags": [],
    "ExecuteTime": {
     "end_time": "2024-06-21T09:01:26.883626Z",
     "start_time": "2024-06-21T09:01:26.880119Z"
    }
   },
   "source": [
    "from morpheus.project.types.discretization.time.TimeUnit import TimeUnit\n",
    "from morpheus.project.types.discretization.time.Stressperiods import StartDateTime, StressPeriodCollection, \\\n",
    "  StressPeriod, NumberOfTimeSteps, TimeStepMultiplier, IsSteadyState\n",
    "from morpheus.project.types.discretization.time import TimeDiscretization\n",
    "from datetime import datetime\n",
    "\n",
    "time_discretization = TimeDiscretization(\n",
    "  start_date_time=StartDateTime.from_datetime(datetime(2020, 1, 1)),\n",
    "  end_date_time=StartDateTime.from_datetime(datetime(2020, 12, 31)),\n",
    "  stress_periods=StressPeriodCollection([\n",
    "    StressPeriod(\n",
    "      start_date_time=StartDateTime.from_datetime(datetime(2020, 1, 1)),\n",
    "      number_of_time_steps=NumberOfTimeSteps(1),\n",
    "      time_step_multiplier=TimeStepMultiplier(1),\n",
    "      steady_state=IsSteadyState.yes()\n",
    "    ),\n",
    "  ]),\n",
    "  time_unit=TimeUnit.days()\n",
    ")\n",
    "\n",
    "time_discretization"
   ],
   "outputs": [
    {
     "data": {
      "text/plain": [
       "TimeDiscretization(start_date_time=StartDateTime(value=datetime.datetime(2020, 1, 1, 0, 0, tzinfo=datetime.timezone.utc)), end_date_time=StartDateTime(value=datetime.datetime(2020, 12, 31, 0, 0, tzinfo=datetime.timezone.utc)), stress_periods=StressPeriodCollection(values=[StressPeriod(start_date_time=StartDateTime(value=datetime.datetime(2020, 1, 1, 0, 0, tzinfo=datetime.timezone.utc)), number_of_time_steps=NumberOfTimeSteps(value=1), time_step_multiplier=TimeStepMultiplier(value=1), steady_state=IsSteadyState(value=True))]), time_unit=TimeUnit(unit=4))"
      ]
     },
     "execution_count": 3,
     "metadata": {},
     "output_type": "execute_result"
    }
   ],
   "execution_count": 3
  },
  {
   "cell_type": "markdown",
   "id": "84da7c401564c113",
   "metadata": {
    "papermill": {
     "duration": 0.003902,
     "end_time": "2024-06-20T19:01:49.959201",
     "exception": false,
     "start_time": "2024-06-20T19:01:49.955299",
     "status": "completed"
    },
    "tags": []
   },
   "source": [
    "# Setup Model"
   ]
  },
  {
   "cell_type": "code",
   "id": "f472c97904b10fd1",
   "metadata": {
    "execution": {
     "iopub.execute_input": "2024-06-20T19:01:49.965425Z",
     "iopub.status.busy": "2024-06-20T19:01:49.965045Z",
     "iopub.status.idle": "2024-06-20T19:01:49.979323Z",
     "shell.execute_reply": "2024-06-20T19:01:49.978706Z"
    },
    "papermill": {
     "duration": 0.019673,
     "end_time": "2024-06-20T19:01:49.981455",
     "exception": false,
     "start_time": "2024-06-20T19:01:49.961782",
     "status": "completed"
    },
    "tags": [],
    "ExecuteTime": {
     "end_time": "2024-06-21T09:01:26.891894Z",
     "start_time": "2024-06-21T09:01:26.884506Z"
    }
   },
   "source": [
    "from morpheus.project.types.Model import Model\n",
    "\n",
    "model = Model.new()\n",
    "model = model.with_updated_time_discretization(time_discretization)\n",
    "model = model.with_updated_spatial_discretization(spatial_discretization=spatial_discretization)"
   ],
   "outputs": [],
   "execution_count": 4
  },
  {
   "cell_type": "code",
   "id": "34616006780fb0ac",
   "metadata": {
    "execution": {
     "iopub.execute_input": "2024-06-20T19:01:49.989524Z",
     "iopub.status.busy": "2024-06-20T19:01:49.989250Z",
     "iopub.status.idle": "2024-06-20T19:01:50.201834Z",
     "shell.execute_reply": "2024-06-20T19:01:50.201175Z"
    },
    "papermill": {
     "duration": 0.219439,
     "end_time": "2024-06-20T19:01:50.203613",
     "exception": false,
     "start_time": "2024-06-20T19:01:49.984174",
     "status": "completed"
    },
    "tags": [],
    "ExecuteTime": {
     "end_time": "2024-06-21T09:01:27.050290Z",
     "start_time": "2024-06-21T09:01:26.893639Z"
    }
   },
   "source": [
    "import folium\n",
    "\n",
    "m = folium.Map(tiles=\"cartodbpositron\", crs=\"EPSG3857\", zoom_start=12, location=[50.965, 13.922])\n",
    "m.add_child(folium.GeoJson(polygon.as_geojson()))\n",
    "\n",
    "m.fit_bounds(m.get_bounds())\n",
    "m"
   ],
   "outputs": [
    {
     "data": {
      "text/plain": [
       "<folium.folium.Map at 0x1057cab40>"
      ],
      "text/html": [
       "<div style=\"width:100%;\"><div style=\"position:relative;width:100%;height:0;padding-bottom:60%;\"><span style=\"color:#565656\">Make this Notebook Trusted to load map: File -> Trust Notebook</span><iframe srcdoc=\"&lt;!DOCTYPE html&gt;\n",
       "&lt;html&gt;\n",
       "&lt;head&gt;\n",
       "    \n",
       "    &lt;meta http-equiv=&quot;content-type&quot; content=&quot;text/html; charset=UTF-8&quot; /&gt;\n",
       "    \n",
       "        &lt;script&gt;\n",
       "            L_NO_TOUCH = false;\n",
       "            L_DISABLE_3D = false;\n",
       "        &lt;/script&gt;\n",
       "    \n",
       "    &lt;style&gt;html, body {width: 100%;height: 100%;margin: 0;padding: 0;}&lt;/style&gt;\n",
       "    &lt;style&gt;#map {position:absolute;top:0;bottom:0;right:0;left:0;}&lt;/style&gt;\n",
       "    &lt;script src=&quot;https://cdn.jsdelivr.net/npm/leaflet@1.9.3/dist/leaflet.js&quot;&gt;&lt;/script&gt;\n",
       "    &lt;script src=&quot;https://code.jquery.com/jquery-3.7.1.min.js&quot;&gt;&lt;/script&gt;\n",
       "    &lt;script src=&quot;https://cdn.jsdelivr.net/npm/bootstrap@5.2.2/dist/js/bootstrap.bundle.min.js&quot;&gt;&lt;/script&gt;\n",
       "    &lt;script src=&quot;https://cdnjs.cloudflare.com/ajax/libs/Leaflet.awesome-markers/2.0.2/leaflet.awesome-markers.js&quot;&gt;&lt;/script&gt;\n",
       "    &lt;link rel=&quot;stylesheet&quot; href=&quot;https://cdn.jsdelivr.net/npm/leaflet@1.9.3/dist/leaflet.css&quot;/&gt;\n",
       "    &lt;link rel=&quot;stylesheet&quot; href=&quot;https://cdn.jsdelivr.net/npm/bootstrap@5.2.2/dist/css/bootstrap.min.css&quot;/&gt;\n",
       "    &lt;link rel=&quot;stylesheet&quot; href=&quot;https://netdna.bootstrapcdn.com/bootstrap/3.0.0/css/bootstrap.min.css&quot;/&gt;\n",
       "    &lt;link rel=&quot;stylesheet&quot; href=&quot;https://cdn.jsdelivr.net/npm/@fortawesome/fontawesome-free@6.2.0/css/all.min.css&quot;/&gt;\n",
       "    &lt;link rel=&quot;stylesheet&quot; href=&quot;https://cdnjs.cloudflare.com/ajax/libs/Leaflet.awesome-markers/2.0.2/leaflet.awesome-markers.css&quot;/&gt;\n",
       "    &lt;link rel=&quot;stylesheet&quot; href=&quot;https://cdn.jsdelivr.net/gh/python-visualization/folium/folium/templates/leaflet.awesome.rotate.min.css&quot;/&gt;\n",
       "    \n",
       "            &lt;meta name=&quot;viewport&quot; content=&quot;width=device-width,\n",
       "                initial-scale=1.0, maximum-scale=1.0, user-scalable=no&quot; /&gt;\n",
       "            &lt;style&gt;\n",
       "                #map_b74cbd667a4172704e7cac9d3a2b6599 {\n",
       "                    position: relative;\n",
       "                    width: 100.0%;\n",
       "                    height: 100.0%;\n",
       "                    left: 0.0%;\n",
       "                    top: 0.0%;\n",
       "                }\n",
       "                .leaflet-container { font-size: 1rem; }\n",
       "            &lt;/style&gt;\n",
       "        \n",
       "&lt;/head&gt;\n",
       "&lt;body&gt;\n",
       "    \n",
       "    \n",
       "            &lt;div class=&quot;folium-map&quot; id=&quot;map_b74cbd667a4172704e7cac9d3a2b6599&quot; &gt;&lt;/div&gt;\n",
       "        \n",
       "&lt;/body&gt;\n",
       "&lt;script&gt;\n",
       "    \n",
       "    \n",
       "            var map_b74cbd667a4172704e7cac9d3a2b6599 = L.map(\n",
       "                &quot;map_b74cbd667a4172704e7cac9d3a2b6599&quot;,\n",
       "                {\n",
       "                    center: [50.965, 13.922],\n",
       "                    crs: L.CRS.EPSG3857,\n",
       "                    zoom: 12,\n",
       "                    zoomControl: true,\n",
       "                    preferCanvas: false,\n",
       "                }\n",
       "            );\n",
       "\n",
       "            \n",
       "\n",
       "        \n",
       "    \n",
       "            var tile_layer_03bb7939bc9c9316935ee9bb47e780ec = L.tileLayer(\n",
       "                &quot;https://{s}.basemaps.cartocdn.com/light_all/{z}/{x}/{y}{r}.png&quot;,\n",
       "                {&quot;attribution&quot;: &quot;\\u0026copy; \\u003ca href=\\&quot;https://www.openstreetmap.org/copyright\\&quot;\\u003eOpenStreetMap\\u003c/a\\u003e contributors \\u0026copy; \\u003ca href=\\&quot;https://carto.com/attributions\\&quot;\\u003eCARTO\\u003c/a\\u003e&quot;, &quot;detectRetina&quot;: false, &quot;maxNativeZoom&quot;: 20, &quot;maxZoom&quot;: 20, &quot;minZoom&quot;: 0, &quot;noWrap&quot;: false, &quot;opacity&quot;: 1, &quot;subdomains&quot;: &quot;abcd&quot;, &quot;tms&quot;: false}\n",
       "            );\n",
       "        \n",
       "    \n",
       "            tile_layer_03bb7939bc9c9316935ee9bb47e780ec.addTo(map_b74cbd667a4172704e7cac9d3a2b6599);\n",
       "        \n",
       "    \n",
       "\n",
       "        function geo_json_1a209485c8ce7bceade7243a9b0a3b74_onEachFeature(feature, layer) {\n",
       "            layer.on({\n",
       "            });\n",
       "        };\n",
       "        var geo_json_1a209485c8ce7bceade7243a9b0a3b74 = L.geoJson(null, {\n",
       "                onEachFeature: geo_json_1a209485c8ce7bceade7243a9b0a3b74_onEachFeature,\n",
       "            \n",
       "        });\n",
       "\n",
       "        function geo_json_1a209485c8ce7bceade7243a9b0a3b74_add (data) {\n",
       "            geo_json_1a209485c8ce7bceade7243a9b0a3b74\n",
       "                .addData(data);\n",
       "        }\n",
       "            geo_json_1a209485c8ce7bceade7243a9b0a3b74_add({&quot;coordinates&quot;: [[[13.922514437551428, 50.964720483303836], [13.925250781947113, 50.965228748412386], [13.925036413951403, 50.96623732041704], [13.92222441026388, 50.96629040370362], [13.922514437551428, 50.964720483303836]]], &quot;type&quot;: &quot;Polygon&quot;});\n",
       "\n",
       "        \n",
       "    \n",
       "            geo_json_1a209485c8ce7bceade7243a9b0a3b74.addTo(map_b74cbd667a4172704e7cac9d3a2b6599);\n",
       "        \n",
       "    \n",
       "            map_b74cbd667a4172704e7cac9d3a2b6599.fitBounds(\n",
       "                [[50.964720483303836, 13.92222441026388], [50.96629040370362, 13.925250781947113]],\n",
       "                {}\n",
       "            );\n",
       "        \n",
       "&lt;/script&gt;\n",
       "&lt;/html&gt;\" style=\"position:absolute;width:100%;height:100%;left:0;top:0;border:none !important;\" allowfullscreen webkitallowfullscreen mozallowfullscreen></iframe></div></div>"
      ]
     },
     "execution_count": 5,
     "metadata": {},
     "output_type": "execute_result"
    }
   ],
   "execution_count": 5
  },
  {
   "cell_type": "markdown",
   "id": "fd3eef70b177ddf5",
   "metadata": {
    "papermill": {
     "duration": 0.003524,
     "end_time": "2024-06-20T19:01:50.211181",
     "exception": false,
     "start_time": "2024-06-20T19:01:50.207657",
     "status": "completed"
    },
    "tags": []
   },
   "source": [
    "# Setup constant head boundary with 1 observation"
   ]
  },
  {
   "cell_type": "code",
   "id": "40d1355b2e81ef98",
   "metadata": {
    "execution": {
     "iopub.execute_input": "2024-06-20T19:01:50.223639Z",
     "iopub.status.busy": "2024-06-20T19:01:50.223117Z",
     "iopub.status.idle": "2024-06-20T19:01:50.252925Z",
     "shell.execute_reply": "2024-06-20T19:01:50.251450Z"
    },
    "papermill": {
     "duration": 0.04068,
     "end_time": "2024-06-20T19:01:50.256059",
     "exception": false,
     "start_time": "2024-06-20T19:01:50.215379",
     "status": "completed"
    },
    "tags": [],
    "ExecuteTime": {
     "end_time": "2024-06-21T09:01:27.076428Z",
     "start_time": "2024-06-21T09:01:27.050904Z"
    }
   },
   "source": [
    "from morpheus.project.types.boundaries.Observation import ObservationId, ObservationName\n",
    "from morpheus.project.types.geometry import Point\n",
    "from morpheus.project.types.boundaries.Boundary import BoundaryName, ConstantHeadBoundary\n",
    "from morpheus.project.types.layers import LayerId\n",
    "from morpheus.project.types.boundaries.ConstantHeadObservation import ConstantHeadObservation, ConstantHeadObservationValue, \\\n",
    "  HeadValue\n",
    "\n",
    "layers_list = [LayerId.new()]\n",
    "constant_head = ConstantHeadBoundary.from_geometry(\n",
    "  name=BoundaryName('constant_head'),\n",
    "  geometry=LineString([\n",
    "    (13.9223, 50.9662),\n",
    "    (13.9250, 50.96615),\n",
    "  ]),\n",
    "  grid=grid,\n",
    "  affected_layers=[model.layers[0].layer_id],\n",
    "  observations=[\n",
    "    ConstantHeadObservation(\n",
    "      observation_id=ObservationId.new(),\n",
    "      observation_name=ObservationName.default(),\n",
    "      geometry=Point((13.9223, 50.9662)),\n",
    "      data=[\n",
    "        ConstantHeadObservationValue(\n",
    "          date_time=StartDateTime.from_datetime(datetime(2019, 1, 1)),\n",
    "          head=HeadValue.from_float(100),\n",
    "        ),\n",
    "        ConstantHeadObservationValue(\n",
    "          date_time=StartDateTime.from_datetime(datetime(2021, 12, 31)),\n",
    "          head=HeadValue.from_float(100),\n",
    "        ),\n",
    "      ]\n",
    "    )\n",
    "  ]\n",
    ")\n",
    "\n",
    "m.add_child(folium.GeoJson(constant_head.as_geojson()))\n",
    "m.add_child(folium.GeoJson(constant_head.affected_cells.to_geojson(grid).as_geojson()))\n",
    "for constant_head.observation in constant_head.observations:\n",
    "  m.add_child(folium.GeoJson(constant_head.observation.as_geojson()))\n",
    "m.fit_bounds(m.get_bounds())\n",
    "m"
   ],
   "outputs": [
    {
     "data": {
      "text/plain": [
       "<folium.folium.Map at 0x1057cab40>"
      ],
      "text/html": [
       "<div style=\"width:100%;\"><div style=\"position:relative;width:100%;height:0;padding-bottom:60%;\"><span style=\"color:#565656\">Make this Notebook Trusted to load map: File -> Trust Notebook</span><iframe srcdoc=\"&lt;!DOCTYPE html&gt;\n",
       "&lt;html&gt;\n",
       "&lt;head&gt;\n",
       "    \n",
       "    &lt;meta http-equiv=&quot;content-type&quot; content=&quot;text/html; charset=UTF-8&quot; /&gt;\n",
       "    \n",
       "        &lt;script&gt;\n",
       "            L_NO_TOUCH = false;\n",
       "            L_DISABLE_3D = false;\n",
       "        &lt;/script&gt;\n",
       "    \n",
       "    &lt;style&gt;html, body {width: 100%;height: 100%;margin: 0;padding: 0;}&lt;/style&gt;\n",
       "    &lt;style&gt;#map {position:absolute;top:0;bottom:0;right:0;left:0;}&lt;/style&gt;\n",
       "    &lt;script src=&quot;https://cdn.jsdelivr.net/npm/leaflet@1.9.3/dist/leaflet.js&quot;&gt;&lt;/script&gt;\n",
       "    &lt;script src=&quot;https://code.jquery.com/jquery-3.7.1.min.js&quot;&gt;&lt;/script&gt;\n",
       "    &lt;script src=&quot;https://cdn.jsdelivr.net/npm/bootstrap@5.2.2/dist/js/bootstrap.bundle.min.js&quot;&gt;&lt;/script&gt;\n",
       "    &lt;script src=&quot;https://cdnjs.cloudflare.com/ajax/libs/Leaflet.awesome-markers/2.0.2/leaflet.awesome-markers.js&quot;&gt;&lt;/script&gt;\n",
       "    &lt;link rel=&quot;stylesheet&quot; href=&quot;https://cdn.jsdelivr.net/npm/leaflet@1.9.3/dist/leaflet.css&quot;/&gt;\n",
       "    &lt;link rel=&quot;stylesheet&quot; href=&quot;https://cdn.jsdelivr.net/npm/bootstrap@5.2.2/dist/css/bootstrap.min.css&quot;/&gt;\n",
       "    &lt;link rel=&quot;stylesheet&quot; href=&quot;https://netdna.bootstrapcdn.com/bootstrap/3.0.0/css/bootstrap.min.css&quot;/&gt;\n",
       "    &lt;link rel=&quot;stylesheet&quot; href=&quot;https://cdn.jsdelivr.net/npm/@fortawesome/fontawesome-free@6.2.0/css/all.min.css&quot;/&gt;\n",
       "    &lt;link rel=&quot;stylesheet&quot; href=&quot;https://cdnjs.cloudflare.com/ajax/libs/Leaflet.awesome-markers/2.0.2/leaflet.awesome-markers.css&quot;/&gt;\n",
       "    &lt;link rel=&quot;stylesheet&quot; href=&quot;https://cdn.jsdelivr.net/gh/python-visualization/folium/folium/templates/leaflet.awesome.rotate.min.css&quot;/&gt;\n",
       "    \n",
       "            &lt;meta name=&quot;viewport&quot; content=&quot;width=device-width,\n",
       "                initial-scale=1.0, maximum-scale=1.0, user-scalable=no&quot; /&gt;\n",
       "            &lt;style&gt;\n",
       "                #map_b74cbd667a4172704e7cac9d3a2b6599 {\n",
       "                    position: relative;\n",
       "                    width: 100.0%;\n",
       "                    height: 100.0%;\n",
       "                    left: 0.0%;\n",
       "                    top: 0.0%;\n",
       "                }\n",
       "                .leaflet-container { font-size: 1rem; }\n",
       "            &lt;/style&gt;\n",
       "        \n",
       "&lt;/head&gt;\n",
       "&lt;body&gt;\n",
       "    \n",
       "    \n",
       "            &lt;div class=&quot;folium-map&quot; id=&quot;map_b74cbd667a4172704e7cac9d3a2b6599&quot; &gt;&lt;/div&gt;\n",
       "        \n",
       "&lt;/body&gt;\n",
       "&lt;script&gt;\n",
       "    \n",
       "    \n",
       "            var map_b74cbd667a4172704e7cac9d3a2b6599 = L.map(\n",
       "                &quot;map_b74cbd667a4172704e7cac9d3a2b6599&quot;,\n",
       "                {\n",
       "                    center: [50.965, 13.922],\n",
       "                    crs: L.CRS.EPSG3857,\n",
       "                    zoom: 12,\n",
       "                    zoomControl: true,\n",
       "                    preferCanvas: false,\n",
       "                }\n",
       "            );\n",
       "\n",
       "            \n",
       "\n",
       "        \n",
       "    \n",
       "            var tile_layer_03bb7939bc9c9316935ee9bb47e780ec = L.tileLayer(\n",
       "                &quot;https://{s}.basemaps.cartocdn.com/light_all/{z}/{x}/{y}{r}.png&quot;,\n",
       "                {&quot;attribution&quot;: &quot;\\u0026copy; \\u003ca href=\\&quot;https://www.openstreetmap.org/copyright\\&quot;\\u003eOpenStreetMap\\u003c/a\\u003e contributors \\u0026copy; \\u003ca href=\\&quot;https://carto.com/attributions\\&quot;\\u003eCARTO\\u003c/a\\u003e&quot;, &quot;detectRetina&quot;: false, &quot;maxNativeZoom&quot;: 20, &quot;maxZoom&quot;: 20, &quot;minZoom&quot;: 0, &quot;noWrap&quot;: false, &quot;opacity&quot;: 1, &quot;subdomains&quot;: &quot;abcd&quot;, &quot;tms&quot;: false}\n",
       "            );\n",
       "        \n",
       "    \n",
       "            tile_layer_03bb7939bc9c9316935ee9bb47e780ec.addTo(map_b74cbd667a4172704e7cac9d3a2b6599);\n",
       "        \n",
       "    \n",
       "\n",
       "        function geo_json_1a209485c8ce7bceade7243a9b0a3b74_onEachFeature(feature, layer) {\n",
       "            layer.on({\n",
       "            });\n",
       "        };\n",
       "        var geo_json_1a209485c8ce7bceade7243a9b0a3b74 = L.geoJson(null, {\n",
       "                onEachFeature: geo_json_1a209485c8ce7bceade7243a9b0a3b74_onEachFeature,\n",
       "            \n",
       "        });\n",
       "\n",
       "        function geo_json_1a209485c8ce7bceade7243a9b0a3b74_add (data) {\n",
       "            geo_json_1a209485c8ce7bceade7243a9b0a3b74\n",
       "                .addData(data);\n",
       "        }\n",
       "            geo_json_1a209485c8ce7bceade7243a9b0a3b74_add({&quot;coordinates&quot;: [[[13.922514437551428, 50.964720483303836], [13.925250781947113, 50.965228748412386], [13.925036413951403, 50.96623732041704], [13.92222441026388, 50.96629040370362], [13.922514437551428, 50.964720483303836]]], &quot;type&quot;: &quot;Polygon&quot;});\n",
       "\n",
       "        \n",
       "    \n",
       "            geo_json_1a209485c8ce7bceade7243a9b0a3b74.addTo(map_b74cbd667a4172704e7cac9d3a2b6599);\n",
       "        \n",
       "    \n",
       "            map_b74cbd667a4172704e7cac9d3a2b6599.fitBounds(\n",
       "                [[50.964720483303836, 13.92222441026388], [50.96629040370362, 13.925250781947113]],\n",
       "                {}\n",
       "            );\n",
       "        \n",
       "    \n",
       "            tile_layer_03bb7939bc9c9316935ee9bb47e780ec.addTo(map_b74cbd667a4172704e7cac9d3a2b6599);\n",
       "        \n",
       "    \n",
       "            geo_json_1a209485c8ce7bceade7243a9b0a3b74.addTo(map_b74cbd667a4172704e7cac9d3a2b6599);\n",
       "        \n",
       "    \n",
       "\n",
       "        function geo_json_dbae71a1907169cbbe79d1d08032123c_onEachFeature(feature, layer) {\n",
       "            layer.on({\n",
       "            });\n",
       "        };\n",
       "        var geo_json_dbae71a1907169cbbe79d1d08032123c = L.geoJson(null, {\n",
       "                onEachFeature: geo_json_dbae71a1907169cbbe79d1d08032123c_onEachFeature,\n",
       "            \n",
       "        });\n",
       "\n",
       "        function geo_json_dbae71a1907169cbbe79d1d08032123c_add (data) {\n",
       "            geo_json_dbae71a1907169cbbe79d1d08032123c\n",
       "                .addData(data);\n",
       "        }\n",
       "            geo_json_dbae71a1907169cbbe79d1d08032123c_add({&quot;coordinates&quot;: [[13.9223, 50.9662], [13.925, 50.96615]], &quot;type&quot;: &quot;LineString&quot;});\n",
       "\n",
       "        \n",
       "    \n",
       "            geo_json_dbae71a1907169cbbe79d1d08032123c.addTo(map_b74cbd667a4172704e7cac9d3a2b6599);\n",
       "        \n",
       "    \n",
       "\n",
       "        function geo_json_067e8e421a83d6a41b76d58bf477d803_onEachFeature(feature, layer) {\n",
       "            layer.on({\n",
       "            });\n",
       "        };\n",
       "        var geo_json_067e8e421a83d6a41b76d58bf477d803 = L.geoJson(null, {\n",
       "                onEachFeature: geo_json_067e8e421a83d6a41b76d58bf477d803_onEachFeature,\n",
       "            \n",
       "        });\n",
       "\n",
       "        function geo_json_067e8e421a83d6a41b76d58bf477d803_add (data) {\n",
       "            geo_json_067e8e421a83d6a41b76d58bf477d803\n",
       "                .addData(data);\n",
       "        }\n",
       "            geo_json_067e8e421a83d6a41b76d58bf477d803_add({&quot;geometries&quot;: [{&quot;coordinates&quot;: [[[13.922224410263878, 50.96629040370359], [13.922527047432201, 50.96629040370359], [13.922527047432201, 50.9661334140511], [13.922224410263878, 50.9661334140511], [13.922224410263878, 50.96629040370359]]], &quot;type&quot;: &quot;Polygon&quot;}, {&quot;coordinates&quot;: [[[13.922527047432201, 50.96629040370359], [13.922829684600526, 50.96629040370359], [13.922829684600526, 50.9661334140511], [13.922527047432201, 50.9661334140511], [13.922527047432201, 50.96629040370359]]], &quot;type&quot;: &quot;Polygon&quot;}, {&quot;coordinates&quot;: [[[13.922829684600526, 50.96629040370359], [13.923132321768849, 50.96629040370359], [13.923132321768849, 50.9661334140511], [13.922829684600526, 50.9661334140511], [13.922829684600526, 50.96629040370359]]], &quot;type&quot;: &quot;Polygon&quot;}, {&quot;coordinates&quot;: [[[13.923132321768849, 50.96629040370359], [13.923434958937172, 50.96629040370359], [13.923434958937172, 50.9661334140511], [13.923132321768849, 50.9661334140511], [13.923132321768849, 50.96629040370359]]], &quot;type&quot;: &quot;Polygon&quot;}, {&quot;coordinates&quot;: [[[13.923434958937172, 50.96629040370359], [13.923737596105495, 50.96629040370359], [13.923737596105495, 50.9661334140511], [13.923434958937172, 50.9661334140511], [13.923434958937172, 50.96629040370359]]], &quot;type&quot;: &quot;Polygon&quot;}, {&quot;coordinates&quot;: [[[13.923737596105495, 50.96629040370359], [13.924040233273818, 50.96629040370359], [13.924040233273818, 50.9661334140511], [13.923737596105495, 50.9661334140511], [13.923737596105495, 50.96629040370359]]], &quot;type&quot;: &quot;Polygon&quot;}, {&quot;coordinates&quot;: [[[13.924040233273818, 50.96629040370359], [13.924342870442143, 50.96629040370359], [13.924342870442143, 50.9661334140511], [13.924040233273818, 50.9661334140511], [13.924040233273818, 50.96629040370359]]], &quot;type&quot;: &quot;Polygon&quot;}, {&quot;coordinates&quot;: [[[13.924342870442143, 50.96629040370359], [13.924645507610466, 50.96629040370359], [13.924645507610466, 50.9661334140511], [13.924342870442143, 50.9661334140511], [13.924342870442143, 50.96629040370359]]], &quot;type&quot;: &quot;Polygon&quot;}, {&quot;coordinates&quot;: [[[13.924645507610466, 50.96629040370359], [13.92494814477879, 50.96629040370359], [13.92494814477879, 50.9661334140511], [13.924645507610466, 50.9661334140511], [13.924645507610466, 50.96629040370359]]], &quot;type&quot;: &quot;Polygon&quot;}, {&quot;coordinates&quot;: [[[13.92494814477879, 50.96629040370359], [13.925250781947113, 50.96629040370359], [13.925250781947113, 50.9661334140511], [13.92494814477879, 50.9661334140511], [13.92494814477879, 50.96629040370359]]], &quot;type&quot;: &quot;Polygon&quot;}], &quot;type&quot;: &quot;GeometryCollection&quot;});\n",
       "\n",
       "        \n",
       "    \n",
       "            geo_json_067e8e421a83d6a41b76d58bf477d803.addTo(map_b74cbd667a4172704e7cac9d3a2b6599);\n",
       "        \n",
       "    \n",
       "\n",
       "        function geo_json_6a9e1827d6fc6904c3752aad1debe128_onEachFeature(feature, layer) {\n",
       "            layer.on({\n",
       "            });\n",
       "        };\n",
       "        var geo_json_6a9e1827d6fc6904c3752aad1debe128 = L.geoJson(null, {\n",
       "                onEachFeature: geo_json_6a9e1827d6fc6904c3752aad1debe128_onEachFeature,\n",
       "            \n",
       "        });\n",
       "\n",
       "        function geo_json_6a9e1827d6fc6904c3752aad1debe128_add (data) {\n",
       "            geo_json_6a9e1827d6fc6904c3752aad1debe128\n",
       "                .addData(data);\n",
       "        }\n",
       "            geo_json_6a9e1827d6fc6904c3752aad1debe128_add({&quot;coordinates&quot;: [13.9223, 50.9662], &quot;type&quot;: &quot;Point&quot;});\n",
       "\n",
       "        \n",
       "    \n",
       "            geo_json_6a9e1827d6fc6904c3752aad1debe128.addTo(map_b74cbd667a4172704e7cac9d3a2b6599);\n",
       "        \n",
       "    \n",
       "            map_b74cbd667a4172704e7cac9d3a2b6599.fitBounds(\n",
       "                [[50.964720483303836, 13.922224410263878], [50.96629040370362, 13.925250781947113]],\n",
       "                {}\n",
       "            );\n",
       "        \n",
       "&lt;/script&gt;\n",
       "&lt;/html&gt;\" style=\"position:absolute;width:100%;height:100%;left:0;top:0;border:none !important;\" allowfullscreen webkitallowfullscreen mozallowfullscreen></iframe></div></div>"
      ]
     },
     "execution_count": 6,
     "metadata": {},
     "output_type": "execute_result"
    }
   ],
   "execution_count": 6
  },
  {
   "cell_type": "code",
   "id": "7c82464ff5708ee7",
   "metadata": {
    "execution": {
     "iopub.execute_input": "2024-06-20T19:01:50.263445Z",
     "iopub.status.busy": "2024-06-20T19:01:50.263109Z",
     "iopub.status.idle": "2024-06-20T19:01:50.269462Z",
     "shell.execute_reply": "2024-06-20T19:01:50.267739Z"
    },
    "papermill": {
     "duration": 0.01645,
     "end_time": "2024-06-20T19:01:50.275868",
     "exception": false,
     "start_time": "2024-06-20T19:01:50.259418",
     "status": "completed"
    },
    "tags": [],
    "ExecuteTime": {
     "end_time": "2024-06-21T09:01:27.080026Z",
     "start_time": "2024-06-21T09:01:27.077140Z"
    }
   },
   "source": [
    "from morpheus.project.types.boundaries.Boundary import BoundaryCollection\n",
    "\n",
    "boundaries = BoundaryCollection.new()\n",
    "boundaries.add_boundary(constant_head)\n",
    "model = model.with_updated_boundaries(boundaries=boundaries)"
   ],
   "outputs": [],
   "execution_count": 7
  },
  {
   "cell_type": "code",
   "id": "467345a686f72a46",
   "metadata": {
    "papermill": {
     "duration": 0.004219,
     "end_time": "2024-06-20T19:01:50.286694",
     "exception": false,
     "start_time": "2024-06-20T19:01:50.282475",
     "status": "completed"
    },
    "tags": [],
    "ExecuteTime": {
     "end_time": "2024-06-21T09:01:27.084831Z",
     "start_time": "2024-06-21T09:01:27.081971Z"
    }
   },
   "source": [],
   "outputs": [],
   "execution_count": 7
  },
  {
   "cell_type": "markdown",
   "id": "def59c686f992cf9",
   "metadata": {
    "papermill": {
     "duration": 0.004941,
     "end_time": "2024-06-20T19:01:50.295540",
     "exception": false,
     "start_time": "2024-06-20T19:01:50.290599",
     "status": "completed"
    },
    "tags": []
   },
   "source": [
    "## Calculate the model asynchronously with celery"
   ]
  },
  {
   "cell_type": "code",
   "id": "55efe9e12e77c901",
   "metadata": {
    "execution": {
     "iopub.execute_input": "2024-06-20T19:01:50.308590Z",
     "iopub.status.busy": "2024-06-20T19:01:50.308048Z",
     "iopub.status.idle": "2024-06-20T19:01:50.315720Z",
     "shell.execute_reply": "2024-06-20T19:01:50.314927Z"
    },
    "papermill": {
     "duration": 0.018835,
     "end_time": "2024-06-20T19:01:50.319992",
     "exception": false,
     "start_time": "2024-06-20T19:01:50.301157",
     "status": "completed"
    },
    "tags": [],
    "ExecuteTime": {
     "end_time": "2024-06-21T09:01:27.091201Z",
     "start_time": "2024-06-21T09:01:27.086969Z"
    }
   },
   "source": [
    "\n",
    "from morpheus.project.infrastructure.calculation.engines.modflow_2005.types.Mf2005CalculationEngineSettings import \\\n",
    "  Mf2005CalculationEngineSettings\n",
    "\n",
    "calculation_engine_setting = Mf2005CalculationEngineSettings.default()\n",
    "calculation_engine_setting"
   ],
   "outputs": [
    {
     "data": {
      "text/plain": [
       "Mf2005CalculationEngineSettings(mf=MfPackageSettings(verbose=False), dis=DisPackageSettings(), bas=BasPackageSettings(ichflg=False, hnoflo=-999.99, stoper=None), chd=ChdPackageSettings(), drn=DrnPackageSettings(ipakcb=0), evt=EvtPackageSettings(ipakcb=0, nevtop=1), fhb=FhbPackageSettings(ipakcb=0, ifhbss=0, ifhbpt=0), ghb=GhbPackageSettings(ipakcb=0), lak=LakPackageSettings(ipakcb=0, theta=1.0), rch=RchPackageSettings(ipakcb=0), riv=RivPackageSettings(ipakcb=0), wel=WelPackageSettings(ipakcb=0), hob=HobPackageSettings(iuhobsv=1, hobdry=0.0, tomulth=1.0), selected_flow_package='lpf', available_flow_packages=['lpf', 'bcf'], bcf=BcfPackageSettings(ipakcb=0, iwdflg=0, ihdwet=0, wetfct=0.1, iwetit=1, wetdry=-0.01, hdry=-1e+30), lpf=LpfPackageSettings(ipakcb=0, iwdflg=0, ihdwet=0, wetfct=0.1, iwetit=1, wetdry=-0.01, hdry=-1e+30, storagecoefficient=False, nocvcorrection=False, constantcv=False, novfc=False, thickstrt=False), selected_solver_package='pcg', available_solver_packages=['de4', 'gmg', 'pcg', 'pcgn', 'sip'], de4=De4PackageSettings(itmx=50, mxup=0, mxlow=0, mxbw=0, ifreq=3, mutd4=0, accl=1, hclose=1e-05, iprd4=1), gmg=GmgPackageSettings(mxiter=50, iiter=30, iadamp=0, hclose=1e-05, rclose=1e-05, relax=1.0, ioutgmg=0, iunitmhc=0, ism=0, isc=0, damp=1.0, dup=0.75, dlow=0.01, chglimit=1.0), pcg=PcgPackageSettings(mxiter=50, iter1=30, npcond=1, hclose=1e-05, rclose=1e-05, relax=1.0, nbpol=0, iprpcg=0, mutpcg=3, damp=1.0, dampt=1.0, ihcofadd=0), pcgn=PcgnPackageSettings(iter_mo=50, iter_mi=30, close_r=1e-05, close_h=1e-05, relax=1.0, ifill=0, unit_pc=0, unit_ts=0, adamp=0, damp=1.0, damp_lb=0.001, rate_d=0.1, chglimit=0.0, acnvg=0, cnvg_lb=0.001, mcnvg=2, rate_c=-1.0, ipunit=0), sip=SipPackageSettings(mxiter=200, nparm=5, accl=1, hclose=1e-05, ipcalc=1, wseed=0.0, iprsip=0), oc=OcPackageSettings(ihedfm=0, iddnfm=0, chedfm=None, cddnfm=None, cboufm=None, compact=True, label='OC'))"
      ]
     },
     "execution_count": 8,
     "metadata": {},
     "output_type": "execute_result"
    }
   ],
   "execution_count": 8
  },
  {
   "cell_type": "markdown",
   "id": "cf5c7e1336cb75ec",
   "metadata": {
    "papermill": {
     "duration": 0.002623,
     "end_time": "2024-06-20T19:01:50.327414",
     "exception": false,
     "start_time": "2024-06-20T19:01:50.324791",
     "status": "completed"
    },
    "tags": []
   },
   "source": []
  },
  {
   "metadata": {
    "ExecuteTime": {
     "end_time": "2024-06-21T09:01:27.562504Z",
     "start_time": "2024-06-21T09:01:27.092600Z"
    }
   },
   "cell_type": "code",
   "source": [
    "from morpheus.project.types.calculation.CalculationProfile import CalculationProfile, CalculationEngineType\n",
    "from morpheus.project.infrastructure.calculation.services.AsnycCalculationService import AsyncCalculationService\n",
    "\n",
    "calculation_profile = CalculationProfile.new(CalculationEngineType.MF2005)\n",
    "\n",
    "\n",
    "calculation_id = AsyncCalculationService.create_async_calculation(\n",
    "  project_id=project_id,\n",
    "  model=model,\n",
    "  model_version='1.0.0',\n",
    "  profile=calculation_profile,\n",
    ")\n"
   ],
   "id": "aa130d1787995ad9",
   "outputs": [],
   "execution_count": 9
  },
  {
   "cell_type": "code",
   "id": "26c1fea869b667a3",
   "metadata": {
    "execution": {
     "iopub.execute_input": "2024-06-19T13:17:30.554206Z",
     "iopub.status.busy": "2024-06-19T13:17:30.554039Z",
     "iopub.status.idle": "2024-06-19T13:17:30.639447Z",
     "shell.execute_reply": "2024-06-19T13:17:30.639196Z"
    },
    "papermill": {
     "duration": null,
     "end_time": null,
     "exception": null,
     "start_time": null,
     "status": "pending"
    },
    "tags": [],
    "ExecuteTime": {
     "end_time": "2024-06-21T09:01:27.659742Z",
     "start_time": "2024-06-21T09:01:27.563221Z"
    }
   },
   "source": [
    "from morpheus.project.tasks import run_calculation_by_id\n",
    "\n",
    "result = run_calculation_by_id.delay(calculation_id=calculation_id.to_str())\n",
    "result_state = result.state\n",
    "result_id = result.id\n",
    "{'id': result_id, 'state': result_state}"
   ],
   "outputs": [
    {
     "data": {
      "text/plain": [
       "{'id': '6652065e-9479-4987-b408-f82cbc5bdf3c', 'state': 'PENDING'}"
      ]
     },
     "execution_count": 10,
     "metadata": {},
     "output_type": "execute_result"
    }
   ],
   "execution_count": 10
  },
  {
   "cell_type": "code",
   "id": "9030f234b885d995",
   "metadata": {
    "execution": {
     "iopub.execute_input": "2024-06-19T13:17:30.645609Z",
     "iopub.status.busy": "2024-06-19T13:17:30.645430Z",
     "iopub.status.idle": "2024-06-19T13:17:30.650730Z",
     "shell.execute_reply": "2024-06-19T13:17:30.650496Z"
    },
    "papermill": {
     "duration": null,
     "end_time": null,
     "exception": null,
     "start_time": null,
     "status": "pending"
    },
    "tags": [],
    "ExecuteTime": {
     "end_time": "2024-06-21T09:01:34.954422Z",
     "start_time": "2024-06-21T09:01:34.945972Z"
    }
   },
   "source": [
    "from celery.result import AsyncResult\n",
    "\n",
    "result = AsyncResult(id=result_id)\n",
    "{\n",
    "  'id': result.id,\n",
    "  'state': result.state,\n",
    "  'ready': result.ready(),\n",
    "  'successful': result.successful(),\n",
    "  'value': result.result if result.ready() else None,\n",
    "}"
   ],
   "outputs": [
    {
     "data": {
      "text/plain": [
       "{'id': '6652065e-9479-4987-b408-f82cbc5bdf3c',\n",
       " 'state': 'SUCCESS',\n",
       " 'ready': True,\n",
       " 'successful': True,\n",
       " 'value': None}"
      ]
     },
     "execution_count": 16,
     "metadata": {},
     "output_type": "execute_result"
    }
   ],
   "execution_count": 16
  },
  {
   "cell_type": "code",
   "id": "e57747c5eec94970",
   "metadata": {
    "collapsed": false,
    "execution": {
     "iopub.execute_input": "2024-06-19T13:17:30.656910Z",
     "iopub.status.busy": "2024-06-19T13:17:30.656799Z",
     "iopub.status.idle": "2024-06-19T13:17:30.662089Z",
     "shell.execute_reply": "2024-06-19T13:17:30.661867Z"
    },
    "papermill": {
     "duration": null,
     "end_time": null,
     "exception": null,
     "start_time": null,
     "status": "pending"
    },
    "tags": [],
    "ExecuteTime": {
     "end_time": "2024-06-21T09:01:36.404963Z",
     "start_time": "2024-06-21T09:01:36.392569Z"
    }
   },
   "source": "service = AsyncCalculationService.load_calculation(calculation_id=calculation_id)",
   "outputs": [],
   "execution_count": 17
  },
  {
   "cell_type": "code",
   "id": "d04c548bbc8b4da9",
   "metadata": {
    "collapsed": false,
    "execution": {
     "iopub.execute_input": "2024-06-19T13:17:30.667889Z",
     "iopub.status.busy": "2024-06-19T13:17:30.667783Z",
     "iopub.status.idle": "2024-06-19T13:17:30.669627Z",
     "shell.execute_reply": "2024-06-19T13:17:30.669408Z"
    },
    "papermill": {
     "duration": null,
     "end_time": null,
     "exception": null,
     "start_time": null,
     "status": "pending"
    },
    "tags": [],
    "ExecuteTime": {
     "end_time": "2024-06-21T09:01:37.370372Z",
     "start_time": "2024-06-21T09:01:37.366804Z"
    }
   },
   "source": "service.calculation.result",
   "outputs": [
    {
     "data": {
      "text/plain": [
       "CalculationResult(type=<CalculationResultType.SUCCESS: 'success'>, message='Calculation finished successfully', files=['e933f9c1-d83d-4dbc-a624-5160cf811d6f.chd', 'e933f9c1-d83d-4dbc-a624-5160cf811d6f.dis', 'e933f9c1-d83d-4dbc-a624-5160cf811d6f.bas', 'e933f9c1-d83d-4dbc-a624-5160cf811d6f.nam', 'e933f9c1-d83d-4dbc-a624-5160cf811d6f.oc', 'e933f9c1-d83d-4dbc-a624-5160cf811d6f.list', 'e933f9c1-d83d-4dbc-a624-5160cf811d6f.lpf', 'e933f9c1-d83d-4dbc-a624-5160cf811d6f.pcg', 'e933f9c1-d83d-4dbc-a624-5160cf811d6f.hds'], flow_head_results=AvailableResults(times=[365.0], kstpkper=[[0, 0]], number_of_layers=1, number_of_observations=0), flow_drawdown_results=None, flow_budget_results=AvailableResults(times=[365.0], kstpkper=[[0, 0]], number_of_layers=0, number_of_observations=0), transport_concentration_results=None, transport_budget_results=None, package_list=['DIS', 'BAS6', 'CHD', 'PCG', 'LPF', 'OC'])"
      ]
     },
     "execution_count": 18,
     "metadata": {},
     "output_type": "execute_result"
    }
   ],
   "execution_count": 18
  },
  {
   "cell_type": "code",
   "id": "48aa27656bc029d",
   "metadata": {
    "collapsed": false,
    "execution": {
     "iopub.execute_input": "2024-06-19T13:17:30.676625Z",
     "iopub.status.busy": "2024-06-19T13:17:30.676423Z",
     "iopub.status.idle": "2024-06-19T13:17:30.678424Z",
     "shell.execute_reply": "2024-06-19T13:17:30.678157Z"
    },
    "papermill": {
     "duration": null,
     "end_time": null,
     "exception": null,
     "start_time": null,
     "status": "pending"
    },
    "tags": [],
    "ExecuteTime": {
     "end_time": "2024-06-21T09:01:38.173573Z",
     "start_time": "2024-06-21T09:01:38.169113Z"
    }
   },
   "source": "service.calculation.lifecycle",
   "outputs": [
    {
     "data": {
      "text/plain": [
       "[<CalculationState.CREATED: 'created'>,\n",
       " <CalculationState.CREATED: 'created'>,\n",
       " <CalculationState.PREPROCESSING: 'preprocessing'>,\n",
       " <CalculationState.CALCULATING: 'calculating'>,\n",
       " <CalculationState.COMPLETED: 'completed'>]"
      ]
     },
     "execution_count": 19,
     "metadata": {},
     "output_type": "execute_result"
    }
   ],
   "execution_count": 19
  },
  {
   "cell_type": "code",
   "id": "45af3e7702e1383e",
   "metadata": {
    "collapsed": false,
    "execution": {
     "iopub.execute_input": "2024-06-19T13:17:30.685864Z",
     "iopub.status.busy": "2024-06-19T13:17:30.685672Z",
     "iopub.status.idle": "2024-06-19T13:17:30.687627Z",
     "shell.execute_reply": "2024-06-19T13:17:30.687320Z"
    },
    "papermill": {
     "duration": null,
     "end_time": null,
     "exception": null,
     "start_time": null,
     "status": "pending"
    },
    "tags": [],
    "ExecuteTime": {
     "end_time": "2024-06-21T09:01:39.295851Z",
     "start_time": "2024-06-21T09:01:39.291056Z"
    }
   },
   "source": "service.calculation.calculation_log",
   "outputs": [
    {
     "data": {
      "text/plain": [
       "Log(log=['', '                                  MODFLOW-2005     ', '    U.S. GEOLOGICAL SURVEY MODULAR FINITE-DIFFERENCE GROUND-WATER FLOW MODEL', '                             Version 1.12.00 2/3/2017                        ', '', ' Using NAME file: e933f9c1-d83d-4dbc-a624-5160cf811d6f.nam ', ' Run start date and time (yyyy/mm/dd hh:mm:ss): 2024/06/21 11:01:27', '', ' Solving:  Stress period:     1    Time step:     1    Ground-Water Flow Eqn.', ' Run end date and time (yyyy/mm/dd hh:mm:ss): 2024/06/21 11:01:27', ' Elapsed run time:  0.014 Seconds', '', '  Normal termination of simulation'])"
      ]
     },
     "execution_count": 20,
     "metadata": {},
     "output_type": "execute_result"
    }
   ],
   "execution_count": 20
  },
  {
   "metadata": {},
   "cell_type": "code",
   "outputs": [],
   "execution_count": null,
   "source": "",
   "id": "9d384aa1479a53fe"
  }
 ],
 "metadata": {
  "kernelspec": {
   "display_name": "Python 3",
   "language": "python",
   "name": "python3"
  },
  "language_info": {
   "codemirror_mode": {
    "name": "ipython",
    "version": 3
   },
   "file_extension": ".py",
   "mimetype": "text/x-python",
   "name": "python",
   "nbconvert_exporter": "python",
   "pygments_lexer": "ipython3",
   "version": "3.12.2"
  },
  "papermill": {
   "default_parameters": {},
   "duration": 3.639261,
   "end_time": "2024-06-20T19:01:51.945202",
   "environment_variables": {},
   "exception": true,
   "input_path": "./notebooks/Mf2005CalculationWithCelery.ipynb",
   "output_path": "./notebooks/Mf2005CalculationWithCelery.ipynb",
   "parameters": {},
   "start_time": "2024-06-20T19:01:48.305941",
   "version": "2.6.0"
  }
 },
 "nbformat": 4,
 "nbformat_minor": 5
}
