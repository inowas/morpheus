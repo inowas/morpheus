{
 "cells": [
  {
   "cell_type": "code",
   "execution_count": 1,
   "id": "ba6761fae9d5e5cb",
   "metadata": {
    "ExecuteTime": {
     "end_time": "2024-03-22T09:01:15.311879Z",
     "start_time": "2024-03-22T09:01:15.308659Z"
    },
    "collapsed": false,
    "execution": {
     "iopub.execute_input": "2024-06-17T21:18:29.823651Z",
     "iopub.status.busy": "2024-06-17T21:18:29.823160Z",
     "iopub.status.idle": "2024-06-17T21:18:29.828721Z",
     "shell.execute_reply": "2024-06-17T21:18:29.828065Z"
    },
    "papermill": {
     "duration": 0.023034,
     "end_time": "2024-06-17T21:18:29.831244",
     "exception": false,
     "start_time": "2024-06-17T21:18:29.808210",
     "status": "completed"
    },
    "tags": []
   },
   "outputs": [],
   "source": [
    "import sys\n",
    "\n",
    "sys.path.insert(0, '..')"
   ]
  },
  {
   "cell_type": "markdown",
   "id": "5ede1ba5e0993dd1",
   "metadata": {
    "collapsed": false,
    "papermill": {
     "duration": 0.005307,
     "end_time": "2024-06-17T21:18:29.844795",
     "exception": false,
     "start_time": "2024-06-17T21:18:29.839488",
     "status": "completed"
    },
    "tags": []
   },
   "source": [
    "## Setup the model area"
   ]
  },
  {
   "cell_type": "code",
   "execution_count": 2,
   "id": "2f69504ab35487aa",
   "metadata": {
    "ExecuteTime": {
     "end_time": "2024-03-22T09:01:15.423061Z",
     "start_time": "2024-03-22T09:01:15.373560Z"
    },
    "collapsed": false,
    "execution": {
     "iopub.execute_input": "2024-06-17T21:18:29.854083Z",
     "iopub.status.busy": "2024-06-17T21:18:29.853586Z",
     "iopub.status.idle": "2024-06-17T21:18:29.981602Z",
     "shell.execute_reply": "2024-06-17T21:18:29.979674Z"
    },
    "papermill": {
     "duration": 0.134481,
     "end_time": "2024-06-17T21:18:29.984008",
     "exception": false,
     "start_time": "2024-06-17T21:18:29.849527",
     "status": "completed"
    },
    "tags": []
   },
   "outputs": [
    {
     "data": {
      "text/plain": [
       "SpatialDiscretization(geometry=Polygon(coordinates=[[(13.922514437551428, 50.964720483303836), (13.925250781947113, 50.965228748412386), (13.925036413951403, 50.96623732041704), (13.92222441026388, 50.96629040370362), (13.922514437551428, 50.964720483303836)]], type='Polygon'), grid=Grid(origin=Point(coordinates=(13.922224410263878, 50.9662904037036), type='Point'), col_widths=[33.68941547288559, 33.68941547288559, 33.6894154728856, 33.689415472885585, 33.6894154728856, 33.6894154728856, 33.68941547288557, 33.6894154728856, 33.68941547288563, 33.68941547288557], total_width=336.89415472885594, row_heights=[27.74944856585935, 27.74944856585935, 27.749448565859346, 27.749448565859353, 27.74944856585934, 27.749448565859353, 27.749448565859325, 27.74944856585938, 27.749448565859325, 27.749448565859353], total_height=277.4944856585935, rotation=Rotation(value=0), length_unit=LengthUnit(unit=2)), affected_cells=ActiveCells(shape=(10, 10), data=[ActiveCell(col=0, row=0), ActiveCell(col=0, row=1), ActiveCell(col=0, row=2), ActiveCell(col=0, row=3), ActiveCell(col=0, row=4), ActiveCell(col=1, row=0), ActiveCell(col=1, row=1), ActiveCell(col=1, row=2), ActiveCell(col=1, row=3), ActiveCell(col=1, row=4), ActiveCell(col=1, row=5), ActiveCell(col=1, row=6), ActiveCell(col=1, row=7), ActiveCell(col=1, row=8), ActiveCell(col=1, row=9), ActiveCell(col=2, row=0), ActiveCell(col=2, row=1), ActiveCell(col=2, row=2), ActiveCell(col=2, row=3), ActiveCell(col=2, row=4), ActiveCell(col=2, row=5), ActiveCell(col=2, row=6), ActiveCell(col=2, row=7), ActiveCell(col=2, row=8), ActiveCell(col=3, row=0), ActiveCell(col=3, row=1), ActiveCell(col=3, row=2), ActiveCell(col=3, row=3), ActiveCell(col=3, row=4), ActiveCell(col=3, row=5), ActiveCell(col=3, row=6), ActiveCell(col=3, row=7), ActiveCell(col=3, row=8), ActiveCell(col=4, row=0), ActiveCell(col=4, row=1), ActiveCell(col=4, row=2), ActiveCell(col=4, row=3), ActiveCell(col=4, row=4), ActiveCell(col=4, row=5), ActiveCell(col=4, row=6), ActiveCell(col=4, row=7), ActiveCell(col=4, row=8), ActiveCell(col=5, row=0), ActiveCell(col=5, row=1), ActiveCell(col=5, row=2), ActiveCell(col=5, row=3), ActiveCell(col=5, row=4), ActiveCell(col=5, row=5), ActiveCell(col=5, row=6), ActiveCell(col=5, row=7), ActiveCell(col=6, row=0), ActiveCell(col=6, row=1), ActiveCell(col=6, row=2), ActiveCell(col=6, row=3), ActiveCell(col=6, row=4), ActiveCell(col=6, row=5), ActiveCell(col=6, row=6), ActiveCell(col=6, row=7), ActiveCell(col=7, row=0), ActiveCell(col=7, row=1), ActiveCell(col=7, row=2), ActiveCell(col=7, row=3), ActiveCell(col=7, row=4), ActiveCell(col=7, row=5), ActiveCell(col=7, row=6), ActiveCell(col=7, row=7), ActiveCell(col=8, row=0), ActiveCell(col=8, row=1), ActiveCell(col=8, row=2), ActiveCell(col=8, row=3), ActiveCell(col=8, row=4), ActiveCell(col=8, row=5), ActiveCell(col=8, row=6), ActiveCell(col=9, row=2), ActiveCell(col=9, row=3), ActiveCell(col=9, row=4), ActiveCell(col=9, row=5), ActiveCell(col=9, row=6)]))"
      ]
     },
     "execution_count": 2,
     "metadata": {},
     "output_type": "execute_result"
    }
   ],
   "source": [
    "from morpheus.project.types.discretization.spatial import ActiveCells\n",
    "from morpheus.project.types.discretization import SpatialDiscretization\n",
    "from morpheus.project.types.discretization.spatial import Rotation, LengthUnit, Grid, Crs\n",
    "from morpheus.project.types.geometry import Polygon, LineString\n",
    "\n",
    "polygon = Polygon(\n",
    "  type='Polygon',\n",
    "  coordinates=[[\n",
    "    (13.922514437551428, 50.964720483303836),\n",
    "    (13.925250781947113, 50.965228748412386),\n",
    "    (13.925036413951403, 50.96623732041704),\n",
    "    (13.92222441026388, 50.96629040370362),\n",
    "    (13.922514437551428, 50.964720483303836)\n",
    "  ]]\n",
    ")\n",
    "\n",
    "rotation = Rotation(0)\n",
    "length_unit = LengthUnit.meters()\n",
    "relative_col_coordinates = [0, 0.1, 0.2, 0.3, 0.4, 0.5, 0.6, 0.7, 0.8, 0.9, 1]\n",
    "relative_row_coordinates = [0, 0.1, 0.2, 0.3, 0.4, 0.5, 0.6, 0.7, 0.8, 0.9, 1]\n",
    "\n",
    "grid = Grid.from_polygon_with_relative_coordinates(\n",
    "  polygon=polygon,\n",
    "  relative_col_coordinates=relative_col_coordinates,\n",
    "  relative_row_coordinates=relative_row_coordinates,\n",
    "  rotation=rotation,\n",
    ")\n",
    "\n",
    "spatial_discretization = SpatialDiscretization(\n",
    "  geometry=polygon,\n",
    "  grid=grid,\n",
    "  affected_cells=ActiveCells.from_polygon(polygon=polygon, grid=grid),\n",
    "  crs=Crs.from_str('EPSG:4326')\n",
    ")\n",
    "\n",
    "spatial_discretization\n",
    "\n"
   ]
  },
  {
   "cell_type": "markdown",
   "id": "fa27e67f9d801845",
   "metadata": {
    "collapsed": false,
    "papermill": {
     "duration": 0.004872,
     "end_time": "2024-06-17T21:18:29.994714",
     "exception": false,
     "start_time": "2024-06-17T21:18:29.989842",
     "status": "completed"
    },
    "tags": []
   },
   "source": [
    "## Setup Time Discretization"
   ]
  },
  {
   "cell_type": "code",
   "execution_count": 3,
   "id": "8e4e63dd138db9fc",
   "metadata": {
    "ExecuteTime": {
     "end_time": "2024-03-22T09:01:15.430368Z",
     "start_time": "2024-03-22T09:01:15.424517Z"
    },
    "collapsed": false,
    "execution": {
     "iopub.execute_input": "2024-06-17T21:18:30.009688Z",
     "iopub.status.busy": "2024-06-17T21:18:30.009289Z",
     "iopub.status.idle": "2024-06-17T21:18:30.024450Z",
     "shell.execute_reply": "2024-06-17T21:18:30.023615Z"
    },
    "papermill": {
     "duration": 0.026066,
     "end_time": "2024-06-17T21:18:30.027406",
     "exception": false,
     "start_time": "2024-06-17T21:18:30.001340",
     "status": "completed"
    },
    "tags": []
   },
   "outputs": [
    {
     "data": {
      "text/plain": [
       "TimeDiscretization(start_date_time=StartDateTime(value=datetime.datetime(2020, 1, 1, 0, 0, tzinfo=datetime.timezone.utc)), end_date_time=StartDateTime(value=datetime.datetime(2020, 12, 31, 0, 0, tzinfo=datetime.timezone.utc)), stress_periods=StressPeriodCollection(values=[StressPeriod(start_date_time=StartDateTime(value=datetime.datetime(2020, 1, 1, 0, 0, tzinfo=datetime.timezone.utc)), number_of_time_steps=NumberOfTimeSteps(value=1), time_step_multiplier=TimeStepMultiplier(value=1), steady_state=IsSteadyState(value=True))]), time_unit=TimeUnit(unit=4))"
      ]
     },
     "execution_count": 3,
     "metadata": {},
     "output_type": "execute_result"
    }
   ],
   "source": [
    "from morpheus.project.types.discretization.time.TimeUnit import TimeUnit\n",
    "from morpheus.project.types.discretization.time.Stressperiods import StartDateTime, StressPeriodCollection, \\\n",
    "  StressPeriod, NumberOfTimeSteps, TimeStepMultiplier, IsSteadyState\n",
    "from morpheus.project.types.discretization.time import TimeDiscretization\n",
    "from datetime import datetime\n",
    "\n",
    "time_discretization = TimeDiscretization(\n",
    "  start_date_time=StartDateTime.from_datetime(datetime(2020, 1, 1)),\n",
    "  end_date_time=StartDateTime.from_datetime(datetime(2020, 12, 31)),\n",
    "  stress_periods=StressPeriodCollection([\n",
    "    StressPeriod(\n",
    "      start_date_time=StartDateTime.from_datetime(datetime(2020, 1, 1)),\n",
    "      number_of_time_steps=NumberOfTimeSteps(1),\n",
    "      time_step_multiplier=TimeStepMultiplier(1),\n",
    "      steady_state=IsSteadyState.yes()\n",
    "    ),\n",
    "  ]),\n",
    "  time_unit=TimeUnit.days()\n",
    ")\n",
    "\n",
    "time_discretization"
   ]
  },
  {
   "cell_type": "markdown",
   "id": "963ba8729f09fcec",
   "metadata": {
    "collapsed": false,
    "papermill": {
     "duration": 0.00462,
     "end_time": "2024-06-17T21:18:30.038082",
     "exception": false,
     "start_time": "2024-06-17T21:18:30.033462",
     "status": "completed"
    },
    "tags": []
   },
   "source": [
    "# Setup Model"
   ]
  },
  {
   "cell_type": "code",
   "execution_count": 4,
   "id": "1d5c9125b1b9360b",
   "metadata": {
    "ExecuteTime": {
     "end_time": "2024-03-22T09:01:15.451511Z",
     "start_time": "2024-03-22T09:01:15.431803Z"
    },
    "collapsed": false,
    "execution": {
     "iopub.execute_input": "2024-06-17T21:18:30.049389Z",
     "iopub.status.busy": "2024-06-17T21:18:30.049050Z",
     "iopub.status.idle": "2024-06-17T21:18:30.380701Z",
     "shell.execute_reply": "2024-06-17T21:18:30.380335Z"
    },
    "papermill": {
     "duration": 0.3364,
     "end_time": "2024-06-17T21:18:30.381750",
     "exception": false,
     "start_time": "2024-06-17T21:18:30.045350",
     "status": "completed"
    },
    "tags": []
   },
   "outputs": [],
   "source": [
    "from morpheus.project.types.Model import Model\n",
    "\n",
    "model = Model.new()\n",
    "model = model.with_updated_time_discretization(time_discretization)\n",
    "model = model.with_updated_spatial_discretization(spatial_discretization=spatial_discretization)"
   ]
  },
  {
   "cell_type": "code",
   "execution_count": 5,
   "id": "1540b870ae83f298",
   "metadata": {
    "ExecuteTime": {
     "end_time": "2024-03-22T09:01:15.467902Z",
     "start_time": "2024-03-22T09:01:15.453514Z"
    },
    "collapsed": false,
    "execution": {
     "iopub.execute_input": "2024-06-17T21:18:30.386314Z",
     "iopub.status.busy": "2024-06-17T21:18:30.386126Z",
     "iopub.status.idle": "2024-06-17T21:18:30.503867Z",
     "shell.execute_reply": "2024-06-17T21:18:30.503573Z"
    },
    "papermill": {
     "duration": 0.120922,
     "end_time": "2024-06-17T21:18:30.504761",
     "exception": false,
     "start_time": "2024-06-17T21:18:30.383839",
     "status": "completed"
    },
    "tags": []
   },
   "outputs": [
    {
     "data": {
      "text/html": [
       "<div style=\"width:100%;\"><div style=\"position:relative;width:100%;height:0;padding-bottom:60%;\"><span style=\"color:#565656\">Make this Notebook Trusted to load map: File -> Trust Notebook</span><iframe srcdoc=\"&lt;!DOCTYPE html&gt;\n",
       "&lt;html&gt;\n",
       "&lt;head&gt;\n",
       "    \n",
       "    &lt;meta http-equiv=&quot;content-type&quot; content=&quot;text/html; charset=UTF-8&quot; /&gt;\n",
       "    \n",
       "        &lt;script&gt;\n",
       "            L_NO_TOUCH = false;\n",
       "            L_DISABLE_3D = false;\n",
       "        &lt;/script&gt;\n",
       "    \n",
       "    &lt;style&gt;html, body {width: 100%;height: 100%;margin: 0;padding: 0;}&lt;/style&gt;\n",
       "    &lt;style&gt;#map {position:absolute;top:0;bottom:0;right:0;left:0;}&lt;/style&gt;\n",
       "    &lt;script src=&quot;https://cdn.jsdelivr.net/npm/leaflet@1.9.3/dist/leaflet.js&quot;&gt;&lt;/script&gt;\n",
       "    &lt;script src=&quot;https://code.jquery.com/jquery-3.7.1.min.js&quot;&gt;&lt;/script&gt;\n",
       "    &lt;script src=&quot;https://cdn.jsdelivr.net/npm/bootstrap@5.2.2/dist/js/bootstrap.bundle.min.js&quot;&gt;&lt;/script&gt;\n",
       "    &lt;script src=&quot;https://cdnjs.cloudflare.com/ajax/libs/Leaflet.awesome-markers/2.0.2/leaflet.awesome-markers.js&quot;&gt;&lt;/script&gt;\n",
       "    &lt;link rel=&quot;stylesheet&quot; href=&quot;https://cdn.jsdelivr.net/npm/leaflet@1.9.3/dist/leaflet.css&quot;/&gt;\n",
       "    &lt;link rel=&quot;stylesheet&quot; href=&quot;https://cdn.jsdelivr.net/npm/bootstrap@5.2.2/dist/css/bootstrap.min.css&quot;/&gt;\n",
       "    &lt;link rel=&quot;stylesheet&quot; href=&quot;https://netdna.bootstrapcdn.com/bootstrap/3.0.0/css/bootstrap.min.css&quot;/&gt;\n",
       "    &lt;link rel=&quot;stylesheet&quot; href=&quot;https://cdn.jsdelivr.net/npm/@fortawesome/fontawesome-free@6.2.0/css/all.min.css&quot;/&gt;\n",
       "    &lt;link rel=&quot;stylesheet&quot; href=&quot;https://cdnjs.cloudflare.com/ajax/libs/Leaflet.awesome-markers/2.0.2/leaflet.awesome-markers.css&quot;/&gt;\n",
       "    &lt;link rel=&quot;stylesheet&quot; href=&quot;https://cdn.jsdelivr.net/gh/python-visualization/folium/folium/templates/leaflet.awesome.rotate.min.css&quot;/&gt;\n",
       "    \n",
       "            &lt;meta name=&quot;viewport&quot; content=&quot;width=device-width,\n",
       "                initial-scale=1.0, maximum-scale=1.0, user-scalable=no&quot; /&gt;\n",
       "            &lt;style&gt;\n",
       "                #map_7266355591b6080192dde21a0ea6c191 {\n",
       "                    position: relative;\n",
       "                    width: 100.0%;\n",
       "                    height: 100.0%;\n",
       "                    left: 0.0%;\n",
       "                    top: 0.0%;\n",
       "                }\n",
       "                .leaflet-container { font-size: 1rem; }\n",
       "            &lt;/style&gt;\n",
       "        \n",
       "&lt;/head&gt;\n",
       "&lt;body&gt;\n",
       "    \n",
       "    \n",
       "            &lt;div class=&quot;folium-map&quot; id=&quot;map_7266355591b6080192dde21a0ea6c191&quot; &gt;&lt;/div&gt;\n",
       "        \n",
       "&lt;/body&gt;\n",
       "&lt;script&gt;\n",
       "    \n",
       "    \n",
       "            var map_7266355591b6080192dde21a0ea6c191 = L.map(\n",
       "                &quot;map_7266355591b6080192dde21a0ea6c191&quot;,\n",
       "                {\n",
       "                    center: [50.965, 13.922],\n",
       "                    crs: L.CRS.EPSG3857,\n",
       "                    zoom: 12,\n",
       "                    zoomControl: true,\n",
       "                    preferCanvas: false,\n",
       "                }\n",
       "            );\n",
       "\n",
       "            \n",
       "\n",
       "        \n",
       "    \n",
       "            var tile_layer_92346e65979d45d144f6cc9bc54eec6b = L.tileLayer(\n",
       "                &quot;https://{s}.basemaps.cartocdn.com/light_all/{z}/{x}/{y}{r}.png&quot;,\n",
       "                {&quot;attribution&quot;: &quot;\\u0026copy; \\u003ca href=\\&quot;https://www.openstreetmap.org/copyright\\&quot;\\u003eOpenStreetMap\\u003c/a\\u003e contributors \\u0026copy; \\u003ca href=\\&quot;https://carto.com/attributions\\&quot;\\u003eCARTO\\u003c/a\\u003e&quot;, &quot;detectRetina&quot;: false, &quot;maxNativeZoom&quot;: 20, &quot;maxZoom&quot;: 20, &quot;minZoom&quot;: 0, &quot;noWrap&quot;: false, &quot;opacity&quot;: 1, &quot;subdomains&quot;: &quot;abcd&quot;, &quot;tms&quot;: false}\n",
       "            );\n",
       "        \n",
       "    \n",
       "            tile_layer_92346e65979d45d144f6cc9bc54eec6b.addTo(map_7266355591b6080192dde21a0ea6c191);\n",
       "        \n",
       "    \n",
       "\n",
       "        function geo_json_c1c73a3e6e3921f0b861acc680641233_onEachFeature(feature, layer) {\n",
       "            layer.on({\n",
       "            });\n",
       "        };\n",
       "        var geo_json_c1c73a3e6e3921f0b861acc680641233 = L.geoJson(null, {\n",
       "                onEachFeature: geo_json_c1c73a3e6e3921f0b861acc680641233_onEachFeature,\n",
       "            \n",
       "        });\n",
       "\n",
       "        function geo_json_c1c73a3e6e3921f0b861acc680641233_add (data) {\n",
       "            geo_json_c1c73a3e6e3921f0b861acc680641233\n",
       "                .addData(data);\n",
       "        }\n",
       "            geo_json_c1c73a3e6e3921f0b861acc680641233_add({&quot;coordinates&quot;: [[[13.922514437551428, 50.964720483303836], [13.925250781947113, 50.965228748412386], [13.925036413951403, 50.96623732041704], [13.92222441026388, 50.96629040370362], [13.922514437551428, 50.964720483303836]]], &quot;type&quot;: &quot;Polygon&quot;});\n",
       "\n",
       "        \n",
       "    \n",
       "            geo_json_c1c73a3e6e3921f0b861acc680641233.addTo(map_7266355591b6080192dde21a0ea6c191);\n",
       "        \n",
       "    \n",
       "            map_7266355591b6080192dde21a0ea6c191.fitBounds(\n",
       "                [[50.964720483303836, 13.92222441026388], [50.96629040370362, 13.925250781947113]],\n",
       "                {}\n",
       "            );\n",
       "        \n",
       "&lt;/script&gt;\n",
       "&lt;/html&gt;\" style=\"position:absolute;width:100%;height:100%;left:0;top:0;border:none !important;\" allowfullscreen webkitallowfullscreen mozallowfullscreen></iframe></div></div>"
      ],
      "text/plain": [
       "<folium.folium.Map at 0x104b48e60>"
      ]
     },
     "execution_count": 5,
     "metadata": {},
     "output_type": "execute_result"
    }
   ],
   "source": [
    "import folium\n",
    "\n",
    "m = folium.Map(tiles=\"cartodbpositron\", crs=\"EPSG3857\", zoom_start=12, location=[50.965, 13.922])\n",
    "m.add_child(folium.GeoJson(polygon.as_geojson()))\n",
    "\n",
    "m.fit_bounds(m.get_bounds())\n",
    "m"
   ]
  },
  {
   "cell_type": "markdown",
   "id": "62ae3587df801000",
   "metadata": {
    "collapsed": false,
    "papermill": {
     "duration": 0.001978,
     "end_time": "2024-06-17T21:18:30.508870",
     "exception": false,
     "start_time": "2024-06-17T21:18:30.506892",
     "status": "completed"
    },
    "tags": []
   },
   "source": [
    "# Setup constant head boundary with 1 observation"
   ]
  },
  {
   "cell_type": "code",
   "execution_count": 6,
   "id": "53679913aee28ce9",
   "metadata": {
    "ExecuteTime": {
     "end_time": "2024-03-22T09:01:15.550883Z",
     "start_time": "2024-03-22T09:01:15.469466Z"
    },
    "collapsed": false,
    "execution": {
     "iopub.execute_input": "2024-06-17T21:18:30.513857Z",
     "iopub.status.busy": "2024-06-17T21:18:30.513675Z",
     "iopub.status.idle": "2024-06-17T21:18:30.536253Z",
     "shell.execute_reply": "2024-06-17T21:18:30.536016Z"
    },
    "papermill": {
     "duration": 0.026149,
     "end_time": "2024-06-17T21:18:30.537201",
     "exception": false,
     "start_time": "2024-06-17T21:18:30.511052",
     "status": "completed"
    },
    "tags": []
   },
   "outputs": [
    {
     "data": {
      "text/html": [
       "<div style=\"width:100%;\"><div style=\"position:relative;width:100%;height:0;padding-bottom:60%;\"><span style=\"color:#565656\">Make this Notebook Trusted to load map: File -> Trust Notebook</span><iframe srcdoc=\"&lt;!DOCTYPE html&gt;\n",
       "&lt;html&gt;\n",
       "&lt;head&gt;\n",
       "    \n",
       "    &lt;meta http-equiv=&quot;content-type&quot; content=&quot;text/html; charset=UTF-8&quot; /&gt;\n",
       "    \n",
       "        &lt;script&gt;\n",
       "            L_NO_TOUCH = false;\n",
       "            L_DISABLE_3D = false;\n",
       "        &lt;/script&gt;\n",
       "    \n",
       "    &lt;style&gt;html, body {width: 100%;height: 100%;margin: 0;padding: 0;}&lt;/style&gt;\n",
       "    &lt;style&gt;#map {position:absolute;top:0;bottom:0;right:0;left:0;}&lt;/style&gt;\n",
       "    &lt;script src=&quot;https://cdn.jsdelivr.net/npm/leaflet@1.9.3/dist/leaflet.js&quot;&gt;&lt;/script&gt;\n",
       "    &lt;script src=&quot;https://code.jquery.com/jquery-3.7.1.min.js&quot;&gt;&lt;/script&gt;\n",
       "    &lt;script src=&quot;https://cdn.jsdelivr.net/npm/bootstrap@5.2.2/dist/js/bootstrap.bundle.min.js&quot;&gt;&lt;/script&gt;\n",
       "    &lt;script src=&quot;https://cdnjs.cloudflare.com/ajax/libs/Leaflet.awesome-markers/2.0.2/leaflet.awesome-markers.js&quot;&gt;&lt;/script&gt;\n",
       "    &lt;link rel=&quot;stylesheet&quot; href=&quot;https://cdn.jsdelivr.net/npm/leaflet@1.9.3/dist/leaflet.css&quot;/&gt;\n",
       "    &lt;link rel=&quot;stylesheet&quot; href=&quot;https://cdn.jsdelivr.net/npm/bootstrap@5.2.2/dist/css/bootstrap.min.css&quot;/&gt;\n",
       "    &lt;link rel=&quot;stylesheet&quot; href=&quot;https://netdna.bootstrapcdn.com/bootstrap/3.0.0/css/bootstrap.min.css&quot;/&gt;\n",
       "    &lt;link rel=&quot;stylesheet&quot; href=&quot;https://cdn.jsdelivr.net/npm/@fortawesome/fontawesome-free@6.2.0/css/all.min.css&quot;/&gt;\n",
       "    &lt;link rel=&quot;stylesheet&quot; href=&quot;https://cdnjs.cloudflare.com/ajax/libs/Leaflet.awesome-markers/2.0.2/leaflet.awesome-markers.css&quot;/&gt;\n",
       "    &lt;link rel=&quot;stylesheet&quot; href=&quot;https://cdn.jsdelivr.net/gh/python-visualization/folium/folium/templates/leaflet.awesome.rotate.min.css&quot;/&gt;\n",
       "    \n",
       "            &lt;meta name=&quot;viewport&quot; content=&quot;width=device-width,\n",
       "                initial-scale=1.0, maximum-scale=1.0, user-scalable=no&quot; /&gt;\n",
       "            &lt;style&gt;\n",
       "                #map_7266355591b6080192dde21a0ea6c191 {\n",
       "                    position: relative;\n",
       "                    width: 100.0%;\n",
       "                    height: 100.0%;\n",
       "                    left: 0.0%;\n",
       "                    top: 0.0%;\n",
       "                }\n",
       "                .leaflet-container { font-size: 1rem; }\n",
       "            &lt;/style&gt;\n",
       "        \n",
       "&lt;/head&gt;\n",
       "&lt;body&gt;\n",
       "    \n",
       "    \n",
       "            &lt;div class=&quot;folium-map&quot; id=&quot;map_7266355591b6080192dde21a0ea6c191&quot; &gt;&lt;/div&gt;\n",
       "        \n",
       "&lt;/body&gt;\n",
       "&lt;script&gt;\n",
       "    \n",
       "    \n",
       "            var map_7266355591b6080192dde21a0ea6c191 = L.map(\n",
       "                &quot;map_7266355591b6080192dde21a0ea6c191&quot;,\n",
       "                {\n",
       "                    center: [50.965, 13.922],\n",
       "                    crs: L.CRS.EPSG3857,\n",
       "                    zoom: 12,\n",
       "                    zoomControl: true,\n",
       "                    preferCanvas: false,\n",
       "                }\n",
       "            );\n",
       "\n",
       "            \n",
       "\n",
       "        \n",
       "    \n",
       "            var tile_layer_92346e65979d45d144f6cc9bc54eec6b = L.tileLayer(\n",
       "                &quot;https://{s}.basemaps.cartocdn.com/light_all/{z}/{x}/{y}{r}.png&quot;,\n",
       "                {&quot;attribution&quot;: &quot;\\u0026copy; \\u003ca href=\\&quot;https://www.openstreetmap.org/copyright\\&quot;\\u003eOpenStreetMap\\u003c/a\\u003e contributors \\u0026copy; \\u003ca href=\\&quot;https://carto.com/attributions\\&quot;\\u003eCARTO\\u003c/a\\u003e&quot;, &quot;detectRetina&quot;: false, &quot;maxNativeZoom&quot;: 20, &quot;maxZoom&quot;: 20, &quot;minZoom&quot;: 0, &quot;noWrap&quot;: false, &quot;opacity&quot;: 1, &quot;subdomains&quot;: &quot;abcd&quot;, &quot;tms&quot;: false}\n",
       "            );\n",
       "        \n",
       "    \n",
       "            tile_layer_92346e65979d45d144f6cc9bc54eec6b.addTo(map_7266355591b6080192dde21a0ea6c191);\n",
       "        \n",
       "    \n",
       "\n",
       "        function geo_json_c1c73a3e6e3921f0b861acc680641233_onEachFeature(feature, layer) {\n",
       "            layer.on({\n",
       "            });\n",
       "        };\n",
       "        var geo_json_c1c73a3e6e3921f0b861acc680641233 = L.geoJson(null, {\n",
       "                onEachFeature: geo_json_c1c73a3e6e3921f0b861acc680641233_onEachFeature,\n",
       "            \n",
       "        });\n",
       "\n",
       "        function geo_json_c1c73a3e6e3921f0b861acc680641233_add (data) {\n",
       "            geo_json_c1c73a3e6e3921f0b861acc680641233\n",
       "                .addData(data);\n",
       "        }\n",
       "            geo_json_c1c73a3e6e3921f0b861acc680641233_add({&quot;coordinates&quot;: [[[13.922514437551428, 50.964720483303836], [13.925250781947113, 50.965228748412386], [13.925036413951403, 50.96623732041704], [13.92222441026388, 50.96629040370362], [13.922514437551428, 50.964720483303836]]], &quot;type&quot;: &quot;Polygon&quot;});\n",
       "\n",
       "        \n",
       "    \n",
       "            geo_json_c1c73a3e6e3921f0b861acc680641233.addTo(map_7266355591b6080192dde21a0ea6c191);\n",
       "        \n",
       "    \n",
       "            map_7266355591b6080192dde21a0ea6c191.fitBounds(\n",
       "                [[50.964720483303836, 13.92222441026388], [50.96629040370362, 13.925250781947113]],\n",
       "                {}\n",
       "            );\n",
       "        \n",
       "    \n",
       "            tile_layer_92346e65979d45d144f6cc9bc54eec6b.addTo(map_7266355591b6080192dde21a0ea6c191);\n",
       "        \n",
       "    \n",
       "            geo_json_c1c73a3e6e3921f0b861acc680641233.addTo(map_7266355591b6080192dde21a0ea6c191);\n",
       "        \n",
       "    \n",
       "\n",
       "        function geo_json_0b710b978a3bfe3df9f2f06268aa0725_onEachFeature(feature, layer) {\n",
       "            layer.on({\n",
       "            });\n",
       "        };\n",
       "        var geo_json_0b710b978a3bfe3df9f2f06268aa0725 = L.geoJson(null, {\n",
       "                onEachFeature: geo_json_0b710b978a3bfe3df9f2f06268aa0725_onEachFeature,\n",
       "            \n",
       "        });\n",
       "\n",
       "        function geo_json_0b710b978a3bfe3df9f2f06268aa0725_add (data) {\n",
       "            geo_json_0b710b978a3bfe3df9f2f06268aa0725\n",
       "                .addData(data);\n",
       "        }\n",
       "            geo_json_0b710b978a3bfe3df9f2f06268aa0725_add({&quot;coordinates&quot;: [[13.9223, 50.9662], [13.925, 50.96615]], &quot;type&quot;: &quot;LineString&quot;});\n",
       "\n",
       "        \n",
       "    \n",
       "            geo_json_0b710b978a3bfe3df9f2f06268aa0725.addTo(map_7266355591b6080192dde21a0ea6c191);\n",
       "        \n",
       "    \n",
       "\n",
       "        function geo_json_5f56aea06ae4541ccf760010e54b5ccc_onEachFeature(feature, layer) {\n",
       "            layer.on({\n",
       "            });\n",
       "        };\n",
       "        var geo_json_5f56aea06ae4541ccf760010e54b5ccc = L.geoJson(null, {\n",
       "                onEachFeature: geo_json_5f56aea06ae4541ccf760010e54b5ccc_onEachFeature,\n",
       "            \n",
       "        });\n",
       "\n",
       "        function geo_json_5f56aea06ae4541ccf760010e54b5ccc_add (data) {\n",
       "            geo_json_5f56aea06ae4541ccf760010e54b5ccc\n",
       "                .addData(data);\n",
       "        }\n",
       "            geo_json_5f56aea06ae4541ccf760010e54b5ccc_add({&quot;geometries&quot;: [{&quot;coordinates&quot;: [[[13.922224410263878, 50.96629040370359], [13.922527047432201, 50.96629040370359], [13.922527047432201, 50.9661334140511], [13.922224410263878, 50.9661334140511], [13.922224410263878, 50.96629040370359]]], &quot;type&quot;: &quot;Polygon&quot;}, {&quot;coordinates&quot;: [[[13.922527047432201, 50.96629040370359], [13.922829684600526, 50.96629040370359], [13.922829684600526, 50.9661334140511], [13.922527047432201, 50.9661334140511], [13.922527047432201, 50.96629040370359]]], &quot;type&quot;: &quot;Polygon&quot;}, {&quot;coordinates&quot;: [[[13.922829684600526, 50.96629040370359], [13.923132321768849, 50.96629040370359], [13.923132321768849, 50.9661334140511], [13.922829684600526, 50.9661334140511], [13.922829684600526, 50.96629040370359]]], &quot;type&quot;: &quot;Polygon&quot;}, {&quot;coordinates&quot;: [[[13.923132321768849, 50.96629040370359], [13.923434958937172, 50.96629040370359], [13.923434958937172, 50.9661334140511], [13.923132321768849, 50.9661334140511], [13.923132321768849, 50.96629040370359]]], &quot;type&quot;: &quot;Polygon&quot;}, {&quot;coordinates&quot;: [[[13.923434958937172, 50.96629040370359], [13.923737596105495, 50.96629040370359], [13.923737596105495, 50.9661334140511], [13.923434958937172, 50.9661334140511], [13.923434958937172, 50.96629040370359]]], &quot;type&quot;: &quot;Polygon&quot;}, {&quot;coordinates&quot;: [[[13.923737596105495, 50.96629040370359], [13.924040233273818, 50.96629040370359], [13.924040233273818, 50.9661334140511], [13.923737596105495, 50.9661334140511], [13.923737596105495, 50.96629040370359]]], &quot;type&quot;: &quot;Polygon&quot;}, {&quot;coordinates&quot;: [[[13.924040233273818, 50.96629040370359], [13.924342870442143, 50.96629040370359], [13.924342870442143, 50.9661334140511], [13.924040233273818, 50.9661334140511], [13.924040233273818, 50.96629040370359]]], &quot;type&quot;: &quot;Polygon&quot;}, {&quot;coordinates&quot;: [[[13.924342870442143, 50.96629040370359], [13.924645507610466, 50.96629040370359], [13.924645507610466, 50.9661334140511], [13.924342870442143, 50.9661334140511], [13.924342870442143, 50.96629040370359]]], &quot;type&quot;: &quot;Polygon&quot;}, {&quot;coordinates&quot;: [[[13.924645507610466, 50.96629040370359], [13.92494814477879, 50.96629040370359], [13.92494814477879, 50.9661334140511], [13.924645507610466, 50.9661334140511], [13.924645507610466, 50.96629040370359]]], &quot;type&quot;: &quot;Polygon&quot;}, {&quot;coordinates&quot;: [[[13.92494814477879, 50.96629040370359], [13.925250781947113, 50.96629040370359], [13.925250781947113, 50.9661334140511], [13.92494814477879, 50.9661334140511], [13.92494814477879, 50.96629040370359]]], &quot;type&quot;: &quot;Polygon&quot;}], &quot;type&quot;: &quot;GeometryCollection&quot;});\n",
       "\n",
       "        \n",
       "    \n",
       "            geo_json_5f56aea06ae4541ccf760010e54b5ccc.addTo(map_7266355591b6080192dde21a0ea6c191);\n",
       "        \n",
       "    \n",
       "\n",
       "        function geo_json_e62004609227515fc63c963088dff4e0_onEachFeature(feature, layer) {\n",
       "            layer.on({\n",
       "            });\n",
       "        };\n",
       "        var geo_json_e62004609227515fc63c963088dff4e0 = L.geoJson(null, {\n",
       "                onEachFeature: geo_json_e62004609227515fc63c963088dff4e0_onEachFeature,\n",
       "            \n",
       "        });\n",
       "\n",
       "        function geo_json_e62004609227515fc63c963088dff4e0_add (data) {\n",
       "            geo_json_e62004609227515fc63c963088dff4e0\n",
       "                .addData(data);\n",
       "        }\n",
       "            geo_json_e62004609227515fc63c963088dff4e0_add({&quot;coordinates&quot;: [13.9223, 50.9662], &quot;type&quot;: &quot;Point&quot;});\n",
       "\n",
       "        \n",
       "    \n",
       "            geo_json_e62004609227515fc63c963088dff4e0.addTo(map_7266355591b6080192dde21a0ea6c191);\n",
       "        \n",
       "    \n",
       "            map_7266355591b6080192dde21a0ea6c191.fitBounds(\n",
       "                [[50.964720483303836, 13.922224410263878], [50.96629040370362, 13.925250781947113]],\n",
       "                {}\n",
       "            );\n",
       "        \n",
       "&lt;/script&gt;\n",
       "&lt;/html&gt;\" style=\"position:absolute;width:100%;height:100%;left:0;top:0;border:none !important;\" allowfullscreen webkitallowfullscreen mozallowfullscreen></iframe></div></div>"
      ],
      "text/plain": [
       "<folium.folium.Map at 0x104b48e60>"
      ]
     },
     "execution_count": 6,
     "metadata": {},
     "output_type": "execute_result"
    }
   ],
   "source": [
    "from morpheus.project.types.boundaries.Observation import ObservationId, ObservationName\n",
    "from morpheus.project.types.geometry import Point\n",
    "from morpheus.project.types.boundaries.Boundary import BoundaryName, ConstantHeadBoundary\n",
    "from morpheus.project.types.layers import LayerId\n",
    "from morpheus.project.types.boundaries.ConstantHeadObservation import ConstantHeadObservation, ConstantHeadRawDataItem, \\\n",
    "  HeadValue\n",
    "\n",
    "layers_list = [LayerId.new()]\n",
    "constant_head = ConstantHeadBoundary.from_geometry(\n",
    "  name=BoundaryName('constant_head'),\n",
    "  geometry=LineString([\n",
    "    (13.9223, 50.9662),\n",
    "    (13.9250, 50.96615),\n",
    "  ]),\n",
    "  grid=grid,\n",
    "  affected_layers=[model.layers[0].layer_id],\n",
    "  observations=[\n",
    "    ConstantHeadObservation(\n",
    "      observation_id=ObservationId.new(),\n",
    "      observation_name=ObservationName.default(),\n",
    "      geometry=Point((13.9223, 50.9662)),\n",
    "      data=[\n",
    "        ConstantHeadRawDataItem(\n",
    "          date_time=StartDateTime.from_datetime(datetime(2019, 1, 1)),\n",
    "          head=HeadValue.from_float(100),\n",
    "        ),\n",
    "        ConstantHeadRawDataItem(\n",
    "          date_time=StartDateTime.from_datetime(datetime(2021, 12, 31)),\n",
    "          head=HeadValue.from_float(100),\n",
    "        ),\n",
    "      ]\n",
    "    )\n",
    "  ]\n",
    ")\n",
    "\n",
    "m.add_child(folium.GeoJson(constant_head.as_geojson()))\n",
    "m.add_child(folium.GeoJson(constant_head.affected_cells.to_geojson(grid).as_geojson()))\n",
    "for constant_head.observation in constant_head.observations:\n",
    "  m.add_child(folium.GeoJson(constant_head.observation.as_geojson()))\n",
    "m.fit_bounds(m.get_bounds())\n",
    "m"
   ]
  },
  {
   "cell_type": "code",
   "execution_count": 7,
   "id": "621e2265ae79b1ae",
   "metadata": {
    "ExecuteTime": {
     "end_time": "2024-03-22T09:01:15.556229Z",
     "start_time": "2024-03-22T09:01:15.552837Z"
    },
    "collapsed": false,
    "execution": {
     "iopub.execute_input": "2024-06-17T21:18:30.542230Z",
     "iopub.status.busy": "2024-06-17T21:18:30.542109Z",
     "iopub.status.idle": "2024-06-17T21:18:30.543976Z",
     "shell.execute_reply": "2024-06-17T21:18:30.543712Z"
    },
    "papermill": {
     "duration": 0.00526,
     "end_time": "2024-06-17T21:18:30.544804",
     "exception": false,
     "start_time": "2024-06-17T21:18:30.539544",
     "status": "completed"
    },
    "tags": []
   },
   "outputs": [],
   "source": [
    "from morpheus.project.types.boundaries.Boundary import BoundaryCollection\n",
    "\n",
    "boundaries = BoundaryCollection.new()\n",
    "boundaries.add_boundary(constant_head)\n",
    "model = model.with_updated_boundaries(boundaries=boundaries)"
   ]
  },
  {
   "cell_type": "code",
   "execution_count": null,
   "id": "b14d8f567177151d",
   "metadata": {
    "ExecuteTime": {
     "end_time": "2024-03-22T09:01:15.560062Z",
     "start_time": "2024-03-22T09:01:15.557586Z"
    },
    "collapsed": false,
    "papermill": {
     "duration": 0.00204,
     "end_time": "2024-06-17T21:18:30.549407",
     "exception": false,
     "start_time": "2024-06-17T21:18:30.547367",
     "status": "completed"
    },
    "tags": []
   },
   "outputs": [],
   "source": []
  },
  {
   "cell_type": "markdown",
   "id": "42d948d145a8457a",
   "metadata": {
    "collapsed": false,
    "papermill": {
     "duration": 0.002107,
     "end_time": "2024-06-17T21:18:30.553614",
     "exception": false,
     "start_time": "2024-06-17T21:18:30.551507",
     "status": "completed"
    },
    "tags": []
   },
   "source": [
    "## Calculate the model asynchronously with celery"
   ]
  },
  {
   "cell_type": "code",
   "execution_count": 8,
   "id": "56ccabee86e2397e",
   "metadata": {
    "ExecuteTime": {
     "end_time": "2024-03-22T09:01:15.569482Z",
     "start_time": "2024-03-22T09:01:15.562810Z"
    },
    "collapsed": false,
    "execution": {
     "iopub.execute_input": "2024-06-17T21:18:30.558303Z",
     "iopub.status.busy": "2024-06-17T21:18:30.558178Z",
     "iopub.status.idle": "2024-06-17T21:18:30.807744Z",
     "shell.execute_reply": "2024-06-17T21:18:30.807520Z"
    },
    "papermill": {
     "duration": 0.252972,
     "end_time": "2024-06-17T21:18:30.808595",
     "exception": false,
     "start_time": "2024-06-17T21:18:30.555623",
     "status": "completed"
    },
    "tags": []
   },
   "outputs": [
    {
     "data": {
      "text/plain": [
       "Mf2005CalculationEngineSettings(packages=PackageData(oc=OcPackageData(ihedfm=0, iddnfm=0, chedfm=None, cddnfm=None, cboufm=None, compact=True, stress_period_data=None, extension=['oc', 'hds', 'ddn', 'cbc', 'ibo'], unitnumber=None, filenames=None, label='OC'), flow_package=FlowPackage(type='lpf'), solver_package=SolverPackageData(type='pcg', data=PcgPackageData(mxiter=50, iter1=30, npcond=1, hclose=1e-05, rclose=1e-05, relax=1.0, nbpol=0, iprpcg=0, mutpcg=3, damp=1.0, dampt=1.0, ihcofadd=0, extension='pcg', unitnumber=None, filenames=None))))"
      ]
     },
     "execution_count": 8,
     "metadata": {},
     "output_type": "execute_result"
    }
   ],
   "source": [
    "\n",
    "from morpheus.project.infrastructure.calculation.engines.modflow_2005.types.Mf2005CalculationEngineSettings import \\\n",
    "  Mf2005CalculationEngineSettings\n",
    "\n",
    "calculation_engine_setting = Mf2005CalculationEngineSettings.default()\n",
    "calculation_engine_setting"
   ]
  },
  {
   "cell_type": "markdown",
   "id": "8a683bd5250a3ee6",
   "metadata": {
    "collapsed": false,
    "papermill": {
     "duration": 0.002043,
     "end_time": "2024-06-17T21:18:30.812927",
     "exception": false,
     "start_time": "2024-06-17T21:18:30.810884",
     "status": "completed"
    },
    "tags": []
   },
   "source": []
  },
  {
   "cell_type": "code",
   "execution_count": 9,
   "id": "3ac7674d3452041",
   "metadata": {
    "ExecuteTime": {
     "end_time": "2024-03-22T09:01:15.582771Z",
     "start_time": "2024-03-22T09:01:15.572321Z"
    },
    "collapsed": false,
    "execution": {
     "iopub.execute_input": "2024-06-17T21:18:30.817678Z",
     "iopub.status.busy": "2024-06-17T21:18:30.817480Z",
     "iopub.status.idle": "2024-06-17T21:18:31.124472Z",
     "shell.execute_reply": "2024-06-17T21:18:31.124237Z"
    },
    "papermill": {
     "duration": 0.310287,
     "end_time": "2024-06-17T21:18:31.125317",
     "exception": false,
     "start_time": "2024-06-17T21:18:30.815030",
     "status": "completed"
    },
    "tags": []
   },
   "outputs": [
    {
     "data": {
      "text/plain": [
       "CalculationId(value='38d2c0b1-1aff-474b-9bed-ee76475e27c4')"
      ]
     },
     "execution_count": 9,
     "metadata": {},
     "output_type": "execute_result"
    }
   ],
   "source": [
    "from morpheus.project.infrastructure.persistence.CalculationRepository import calculation_repository\n",
    "from morpheus.project.types.calculation.CalculationProfile import CalculationProfile, CalculationEngineType\n",
    "from morpheus.project.types.calculation.Calculation import Calculation\n",
    "\n",
    "calculation = Calculation.new(\n",
    "  model=model,\n",
    "  calculation_profile=CalculationProfile.new(CalculationEngineType.MF2005)\n",
    ")\n",
    "calculation_repository.save_calculation(calculation)\n",
    "calculation.calculation_id"
   ]
  },
  {
   "cell_type": "code",
   "execution_count": 10,
   "id": "672007fb90753c4c",
   "metadata": {
    "ExecuteTime": {
     "end_time": "2024-03-22T09:01:15.596061Z",
     "start_time": "2024-03-22T09:01:15.584428Z"
    },
    "collapsed": false,
    "execution": {
     "iopub.execute_input": "2024-06-17T21:18:31.130449Z",
     "iopub.status.busy": "2024-06-17T21:18:31.130290Z",
     "iopub.status.idle": "2024-06-17T21:18:31.221378Z",
     "shell.execute_reply": "2024-06-17T21:18:31.221149Z"
    },
    "papermill": {
     "duration": 0.09443,
     "end_time": "2024-06-17T21:18:31.222233",
     "exception": false,
     "start_time": "2024-06-17T21:18:31.127803",
     "status": "completed"
    },
    "tags": []
   },
   "outputs": [
    {
     "data": {
      "text/plain": [
       "{'id': 'ad29da63-f115-48da-a306-9b0dd6d9ee21', 'state': 'PENDING'}"
      ]
     },
     "execution_count": 10,
     "metadata": {},
     "output_type": "execute_result"
    }
   ],
   "source": [
    "from morpheus.project.tasks import run_calculation_by_id\n",
    "\n",
    "result = run_calculation_by_id.delay(calculation.calculation_id.to_str())\n",
    "result_state = result.state\n",
    "result_id = result.id\n",
    "{'id': result_id, 'state': result_state}"
   ]
  },
  {
   "cell_type": "code",
   "execution_count": 11,
   "id": "79cdf465cd748bb7",
   "metadata": {
    "ExecuteTime": {
     "end_time": "2024-03-22T09:01:15.612306Z",
     "start_time": "2024-03-22T09:01:15.598759Z"
    },
    "collapsed": false,
    "execution": {
     "iopub.execute_input": "2024-06-17T21:18:31.227519Z",
     "iopub.status.busy": "2024-06-17T21:18:31.227266Z",
     "iopub.status.idle": "2024-06-17T21:18:31.233448Z",
     "shell.execute_reply": "2024-06-17T21:18:31.233222Z"
    },
    "papermill": {
     "duration": 0.009543,
     "end_time": "2024-06-17T21:18:31.234208",
     "exception": false,
     "start_time": "2024-06-17T21:18:31.224665",
     "status": "completed"
    },
    "tags": []
   },
   "outputs": [
    {
     "data": {
      "text/plain": [
       "{'id': 'ad29da63-f115-48da-a306-9b0dd6d9ee21',\n",
       " 'state': 'PENDING',\n",
       " 'ready': False,\n",
       " 'successful': False,\n",
       " 'value': None}"
      ]
     },
     "execution_count": 11,
     "metadata": {},
     "output_type": "execute_result"
    }
   ],
   "source": [
    "from celery.result import AsyncResult\n",
    "\n",
    "result = AsyncResult(id=result_id)\n",
    "{\n",
    "  'id': result.id,\n",
    "  'state': result.state,\n",
    "  'ready': result.ready(),\n",
    "  'successful': result.successful(),\n",
    "  'value': result.result if result.ready() else None,\n",
    "}"
   ]
  },
  {
   "cell_type": "code",
   "execution_count": 12,
   "id": "e57747c5eec94970",
   "metadata": {
    "ExecuteTime": {
     "end_time": "2024-03-22T09:02:04.690070Z",
     "start_time": "2024-03-22T09:02:04.671498Z"
    },
    "collapsed": false,
    "execution": {
     "iopub.execute_input": "2024-06-17T21:18:31.239565Z",
     "iopub.status.busy": "2024-06-17T21:18:31.239457Z",
     "iopub.status.idle": "2024-06-17T21:18:31.242975Z",
     "shell.execute_reply": "2024-06-17T21:18:31.242748Z"
    },
    "papermill": {
     "duration": 0.006815,
     "end_time": "2024-06-17T21:18:31.243700",
     "exception": false,
     "start_time": "2024-06-17T21:18:31.236885",
     "status": "completed"
    },
    "tags": []
   },
   "outputs": [
    {
     "data": {
      "text/plain": [
       "Calculation(calculation_id=CalculationId(value='38d2c0b1-1aff-474b-9bed-ee76475e27c4'), model=Model(model_id=ModelId(value='a31e149e-194a-401c-9fcf-0cedad744241'), spatial_discretization=SpatialDiscretization(geometry=Polygon(coordinates=[[[13.922514437551428, 50.964720483303836], [13.925250781947113, 50.965228748412386], [13.925036413951403, 50.96623732041704], [13.92222441026388, 50.96629040370362], [13.922514437551428, 50.964720483303836]]], type='Polygon'), grid=Grid(origin=Point(coordinates=[13.922224410263878, 50.9662904037036], type='Point'), col_widths=[33.68941547288559, 33.68941547288559, 33.6894154728856, 33.689415472885585, 33.6894154728856, 33.6894154728856, 33.68941547288557, 33.6894154728856, 33.68941547288563, 33.68941547288557], total_width=336.89415472885594, row_heights=[27.74944856585935, 27.74944856585935, 27.749448565859346, 27.749448565859353, 27.74944856585934, 27.749448565859353, 27.749448565859325, 27.74944856585938, 27.749448565859325, 27.749448565859353], total_height=277.4944856585935, rotation=Rotation(value=0), length_unit=LengthUnit(unit=2)), affected_cells=ActiveCells(shape=[10, 10], data=[ActiveCell(col=0, row=0), ActiveCell(col=1, row=0), ActiveCell(col=2, row=0), ActiveCell(col=3, row=0), ActiveCell(col=4, row=0), ActiveCell(col=5, row=0), ActiveCell(col=6, row=0), ActiveCell(col=7, row=0), ActiveCell(col=8, row=0), ActiveCell(col=0, row=1), ActiveCell(col=1, row=1), ActiveCell(col=2, row=1), ActiveCell(col=3, row=1), ActiveCell(col=4, row=1), ActiveCell(col=5, row=1), ActiveCell(col=6, row=1), ActiveCell(col=7, row=1), ActiveCell(col=8, row=1), ActiveCell(col=0, row=2), ActiveCell(col=1, row=2), ActiveCell(col=2, row=2), ActiveCell(col=3, row=2), ActiveCell(col=4, row=2), ActiveCell(col=5, row=2), ActiveCell(col=6, row=2), ActiveCell(col=7, row=2), ActiveCell(col=8, row=2), ActiveCell(col=9, row=2), ActiveCell(col=0, row=3), ActiveCell(col=1, row=3), ActiveCell(col=2, row=3), ActiveCell(col=3, row=3), ActiveCell(col=4, row=3), ActiveCell(col=5, row=3), ActiveCell(col=6, row=3), ActiveCell(col=7, row=3), ActiveCell(col=8, row=3), ActiveCell(col=9, row=3), ActiveCell(col=0, row=4), ActiveCell(col=1, row=4), ActiveCell(col=2, row=4), ActiveCell(col=3, row=4), ActiveCell(col=4, row=4), ActiveCell(col=5, row=4), ActiveCell(col=6, row=4), ActiveCell(col=7, row=4), ActiveCell(col=8, row=4), ActiveCell(col=9, row=4), ActiveCell(col=1, row=5), ActiveCell(col=2, row=5), ActiveCell(col=3, row=5), ActiveCell(col=4, row=5), ActiveCell(col=5, row=5), ActiveCell(col=6, row=5), ActiveCell(col=7, row=5), ActiveCell(col=8, row=5), ActiveCell(col=9, row=5), ActiveCell(col=1, row=6), ActiveCell(col=2, row=6), ActiveCell(col=3, row=6), ActiveCell(col=4, row=6), ActiveCell(col=5, row=6), ActiveCell(col=6, row=6), ActiveCell(col=7, row=6), ActiveCell(col=8, row=6), ActiveCell(col=9, row=6), ActiveCell(col=1, row=7), ActiveCell(col=2, row=7), ActiveCell(col=3, row=7), ActiveCell(col=4, row=7), ActiveCell(col=5, row=7), ActiveCell(col=6, row=7), ActiveCell(col=7, row=7), ActiveCell(col=1, row=8), ActiveCell(col=2, row=8), ActiveCell(col=3, row=8), ActiveCell(col=4, row=8), ActiveCell(col=1, row=9)])), time_discretization=TimeDiscretization(start_date_time=StartDateTime(value=datetime.datetime(2020, 1, 1, 0, 0, tzinfo=datetime.timezone.utc)), end_date_time=EndDateTime(value=datetime.datetime(2020, 12, 31, 0, 0, tzinfo=datetime.timezone.utc)), stress_periods=StressPeriodCollection(values=[StressPeriod(start_date_time=StartDateTime(value=datetime.datetime(2020, 1, 1, 0, 0, tzinfo=datetime.timezone.utc)), number_of_time_steps=NumberOfTimeSteps(value=1), time_step_multiplier=TimeStepMultiplier(value=1), steady_state=IsSteadyState(value=True))]), time_unit=TimeUnit(unit=4)), boundaries=BoundaryCollection(boundaries=[ConstantHeadBoundary(boundary_id=BoundaryId(value='569bfded-0277-4294-9b44-bef8d7f2fb1f'), type=BoundaryType(type='constant_head'), name=BoundaryName(value='constant_head'), tags=BoundaryTags(value=[]), geometry=LineString(coordinates=[[13.9223, 50.9662], [13.925, 50.96615]], type='LineString'), affected_cells=ActiveCells(shape=[10, 10], data=[ActiveCell(col=0, row=0), ActiveCell(col=1, row=0), ActiveCell(col=2, row=0), ActiveCell(col=3, row=0), ActiveCell(col=4, row=0), ActiveCell(col=5, row=0), ActiveCell(col=6, row=0), ActiveCell(col=7, row=0), ActiveCell(col=8, row=0), ActiveCell(col=9, row=0)]), affected_layers=[LayerId(value='5d79cf5a-52ed-4687-84c7-05838d0121bf')], observations=[ConstantHeadObservation(observation_id=ObservationId(value='cf5acb56-3803-437a-9f32-e09fdf62c104'), observation_name=ObservationName(value='Observation Point 1'), geometry=Point(coordinates=[13.9223, 50.9662], type='Point'), data=[ConstantHeadRawDataItem(date_time=StartDateTime(value=datetime.datetime(2019, 1, 1, 0, 0, tzinfo=datetime.timezone.utc)), head=HeadValue(value=100)), ConstantHeadRawDataItem(date_time=StartDateTime(value=datetime.datetime(2021, 12, 31, 0, 0, tzinfo=datetime.timezone.utc)), head=HeadValue(value=100))])], enabled=True)]), observations=ObservationCollection(observations=[]), layers=LayersCollection(layers=[Layer(layer_id=LayerId(value='5d79cf5a-52ed-4687-84c7-05838d0121bf'), name=LayerName(value='Default'), description=LayerDescription(value='Default'), confinement=LayerConfinement(type='confined'), properties=LayerProperties(hk=LayerPropertyValues(value=LayerPropertyDefaultValue(value=1.0), raster=None, zones=None), hani=LayerPropertyValues(value=LayerPropertyDefaultValue(value=1.0), raster=None, zones=None), vka=LayerPropertyValues(value=LayerPropertyDefaultValue(value=1.0), raster=None, zones=None), specific_storage=LayerPropertyValues(value=LayerPropertyDefaultValue(value=0.0001), raster=None, zones=None), specific_yield=LayerPropertyValues(value=LayerPropertyDefaultValue(value=0.1), raster=None, zones=None), initial_head=LayerPropertyValues(value=LayerPropertyDefaultValue(value=1.0), raster=None, zones=None), top=LayerPropertyValues(value=LayerPropertyDefaultValue(value=1.0), raster=None, zones=None), bottom=LayerPropertyValues(value=LayerPropertyDefaultValue(value=0.0), raster=None, zones=None)))]), transport=Transport(is_enabled=IsEnabled(value=False), substances=[]), variable_density=VariableDensityFlow(is_enabled=IsEnabled(value=False), viscosity_is_enabled=IsEnabled(value=False))), calculation_profile=CalculationProfile(id=CalculationProfileId(value='1df0860e-8527-4187-ae45-a54d924c07e9'), name=CalculationProfileName(value='new mf2005 profile'), engine_type=<CalculationEngineType.MF2005: 'mf2005'>, engine_settings=Mf2005CalculationEngineSettings(packages=PackageData(oc=OcPackageData(ihedfm=0, iddnfm=0, chedfm=None, cddnfm=None, cboufm=None, compact=True, stress_period_data=None, extension=['oc', 'hds', 'ddn', 'cbc', 'ibo'], unitnumber=None, filenames=None, label='OC'), flow_package=FlowPackage(type='lpf'), solver_package=SolverPackageData(type='pcg', data=PcgPackageData(mxiter=50, iter1=30, npcond=1, hclose=1e-05, rclose=1e-05, relax=1.0, nbpol=0, iprpcg=0, mutpcg=3, damp=1.0, dampt=1.0, ihcofadd=0, extension='pcg', unitnumber=None, filenames=None))))), calculation_lifecycle=[<CalculationState.CREATED: 'created'>], calculation_state=<CalculationState.CREATED: 'created'>, calculation_log=None, calculation_result=None)"
      ]
     },
     "execution_count": 12,
     "metadata": {},
     "output_type": "execute_result"
    }
   ],
   "source": [
    "calculation = calculation_repository.get_calculation(calculation.calculation_id)\n",
    "calculation"
   ]
  },
  {
   "cell_type": "code",
   "execution_count": 13,
   "id": "d04c548bbc8b4da9",
   "metadata": {
    "ExecuteTime": {
     "end_time": "2024-03-22T09:02:10.962593Z",
     "start_time": "2024-03-22T09:02:10.954140Z"
    },
    "collapsed": false,
    "execution": {
     "iopub.execute_input": "2024-06-17T21:18:31.248825Z",
     "iopub.status.busy": "2024-06-17T21:18:31.248722Z",
     "iopub.status.idle": "2024-06-17T21:18:31.250760Z",
     "shell.execute_reply": "2024-06-17T21:18:31.250533Z"
    },
    "papermill": {
     "duration": 0.005443,
     "end_time": "2024-06-17T21:18:31.251509",
     "exception": false,
     "start_time": "2024-06-17T21:18:31.246066",
     "status": "completed"
    },
    "tags": []
   },
   "outputs": [
    {
     "data": {
      "text/plain": [
       "<CalculationState.CREATED: 'created'>"
      ]
     },
     "execution_count": 13,
     "metadata": {},
     "output_type": "execute_result"
    }
   ],
   "source": [
    "calculation.calculation_state"
   ]
  },
  {
   "cell_type": "code",
   "execution_count": 14,
   "id": "48aa27656bc029d",
   "metadata": {
    "ExecuteTime": {
     "end_time": "2024-03-22T09:02:14.204511Z",
     "start_time": "2024-03-22T09:02:14.195713Z"
    },
    "collapsed": false,
    "execution": {
     "iopub.execute_input": "2024-06-17T21:18:31.256783Z",
     "iopub.status.busy": "2024-06-17T21:18:31.256685Z",
     "iopub.status.idle": "2024-06-17T21:18:31.258095Z",
     "shell.execute_reply": "2024-06-17T21:18:31.257880Z"
    },
    "papermill": {
     "duration": 0.004852,
     "end_time": "2024-06-17T21:18:31.258845",
     "exception": false,
     "start_time": "2024-06-17T21:18:31.253993",
     "status": "completed"
    },
    "tags": []
   },
   "outputs": [],
   "source": [
    "calculation.calculation_log"
   ]
  },
  {
   "cell_type": "code",
   "execution_count": 15,
   "id": "45af3e7702e1383e",
   "metadata": {
    "ExecuteTime": {
     "end_time": "2024-03-22T09:02:17.222724Z",
     "start_time": "2024-03-22T09:02:17.218051Z"
    },
    "collapsed": false,
    "execution": {
     "iopub.execute_input": "2024-06-17T21:18:31.264176Z",
     "iopub.status.busy": "2024-06-17T21:18:31.264035Z",
     "iopub.status.idle": "2024-06-17T21:18:31.265847Z",
     "shell.execute_reply": "2024-06-17T21:18:31.265624Z"
    },
    "papermill": {
     "duration": 0.005397,
     "end_time": "2024-06-17T21:18:31.266637",
     "exception": false,
     "start_time": "2024-06-17T21:18:31.261240",
     "status": "completed"
    },
    "tags": []
   },
   "outputs": [],
   "source": [
    "calculation.calculation_result"
   ]
  }
 ],
 "metadata": {
  "kernelspec": {
   "display_name": "Python 3",
   "language": "python",
   "name": "python3"
  },
  "language_info": {
   "codemirror_mode": {
    "name": "ipython",
    "version": 3
   },
   "file_extension": ".py",
   "mimetype": "text/x-python",
   "name": "python",
   "nbconvert_exporter": "python",
   "pygments_lexer": "ipython3",
   "version": "3.12.2"
  },
  "papermill": {
   "default_parameters": {},
   "duration": 2.864271,
   "end_time": "2024-06-17T21:18:31.990075",
   "environment_variables": {},
   "exception": null,
   "input_path": "./notebooks/Mf2005CalculationWithCelery.ipynb",
   "output_path": "./notebooks/Mf2005CalculationWithCelery.ipynb",
   "parameters": {},
   "start_time": "2024-06-17T21:18:29.125804",
   "version": "2.6.0"
  }
 },
 "nbformat": 4,
 "nbformat_minor": 5
}