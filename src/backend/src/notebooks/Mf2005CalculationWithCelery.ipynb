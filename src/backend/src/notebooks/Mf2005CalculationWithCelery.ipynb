{
 "cells": [
  {
   "cell_type": "code",
   "execution_count": 1,
   "id": "ba6761fae9d5e5cb",
   "metadata": {
    "ExecuteTime": {
     "end_time": "2024-03-22T09:01:15.311879Z",
     "start_time": "2024-03-22T09:01:15.308659Z"
    },
    "collapsed": false,
    "execution": {
     "iopub.execute_input": "2024-05-30T21:19:30.935313Z",
     "iopub.status.busy": "2024-05-30T21:19:30.935017Z",
     "iopub.status.idle": "2024-05-30T21:19:30.939822Z",
     "shell.execute_reply": "2024-05-30T21:19:30.939284Z"
    },
    "papermill": {
     "duration": 0.018696,
     "end_time": "2024-05-30T21:19:30.941604",
     "exception": false,
     "start_time": "2024-05-30T21:19:30.922908",
     "status": "completed"
    },
    "tags": []
   },
   "outputs": [],
   "source": [
    "import sys\n",
    "\n",
    "sys.path.insert(0, '..')"
   ]
  },
  {
   "cell_type": "markdown",
   "id": "5ede1ba5e0993dd1",
   "metadata": {
    "collapsed": false,
    "papermill": {
     "duration": 0.004381,
     "end_time": "2024-05-30T21:19:30.952331",
     "exception": false,
     "start_time": "2024-05-30T21:19:30.947950",
     "status": "completed"
    },
    "tags": []
   },
   "source": [
    "## Setup the model area"
   ]
  },
  {
   "cell_type": "code",
   "execution_count": 2,
   "id": "2f69504ab35487aa",
   "metadata": {
    "ExecuteTime": {
     "end_time": "2024-03-22T09:01:15.423061Z",
     "start_time": "2024-03-22T09:01:15.373560Z"
    },
    "collapsed": false,
    "execution": {
     "iopub.execute_input": "2024-05-30T21:19:30.961350Z",
     "iopub.status.busy": "2024-05-30T21:19:30.961125Z",
     "iopub.status.idle": "2024-05-30T21:19:31.075820Z",
     "shell.execute_reply": "2024-05-30T21:19:31.074600Z"
    },
    "papermill": {
     "duration": 0.121458,
     "end_time": "2024-05-30T21:19:31.078238",
     "exception": false,
     "start_time": "2024-05-30T21:19:30.956780",
     "status": "completed"
    },
    "tags": []
   },
   "outputs": [
    {
     "data": {
      "text/plain": [
       "SpatialDiscretization(geometry=Polygon(coordinates=[[(13.922514437551428, 50.964720483303836), (13.925250781947113, 50.965228748412386), (13.925036413951403, 50.96623732041704), (13.92222441026388, 50.96629040370362), (13.922514437551428, 50.964720483303836)]], type='Polygon'), grid=Grid(origin=Point(coordinates=(13.922224410263878, 50.9662904037036), type='Point'), col_widths=[33.68941547288559, 33.68941547288559, 33.6894154728856, 33.689415472885585, 33.6894154728856, 33.6894154728856, 33.68941547288557, 33.6894154728856, 33.68941547288563, 33.68941547288557], total_width=336.89415472885594, row_heights=[27.74944856585935, 27.74944856585935, 27.749448565859346, 27.749448565859353, 27.74944856585934, 27.749448565859353, 27.749448565859325, 27.74944856585938, 27.749448565859325, 27.749448565859353], total_height=277.4944856585935, rotation=Rotation(value=0), length_unit=LengthUnit(unit=2)), affected_cells=ActiveCells(shape=(10, 10), data=[ActiveCell(col=0, row=0), ActiveCell(col=0, row=1), ActiveCell(col=0, row=2), ActiveCell(col=0, row=3), ActiveCell(col=0, row=4), ActiveCell(col=1, row=0), ActiveCell(col=1, row=1), ActiveCell(col=1, row=2), ActiveCell(col=1, row=3), ActiveCell(col=1, row=4), ActiveCell(col=1, row=5), ActiveCell(col=1, row=6), ActiveCell(col=1, row=7), ActiveCell(col=1, row=8), ActiveCell(col=1, row=9), ActiveCell(col=2, row=0), ActiveCell(col=2, row=1), ActiveCell(col=2, row=2), ActiveCell(col=2, row=3), ActiveCell(col=2, row=4), ActiveCell(col=2, row=5), ActiveCell(col=2, row=6), ActiveCell(col=2, row=7), ActiveCell(col=2, row=8), ActiveCell(col=3, row=0), ActiveCell(col=3, row=1), ActiveCell(col=3, row=2), ActiveCell(col=3, row=3), ActiveCell(col=3, row=4), ActiveCell(col=3, row=5), ActiveCell(col=3, row=6), ActiveCell(col=3, row=7), ActiveCell(col=3, row=8), ActiveCell(col=4, row=0), ActiveCell(col=4, row=1), ActiveCell(col=4, row=2), ActiveCell(col=4, row=3), ActiveCell(col=4, row=4), ActiveCell(col=4, row=5), ActiveCell(col=4, row=6), ActiveCell(col=4, row=7), ActiveCell(col=4, row=8), ActiveCell(col=5, row=0), ActiveCell(col=5, row=1), ActiveCell(col=5, row=2), ActiveCell(col=5, row=3), ActiveCell(col=5, row=4), ActiveCell(col=5, row=5), ActiveCell(col=5, row=6), ActiveCell(col=5, row=7), ActiveCell(col=6, row=0), ActiveCell(col=6, row=1), ActiveCell(col=6, row=2), ActiveCell(col=6, row=3), ActiveCell(col=6, row=4), ActiveCell(col=6, row=5), ActiveCell(col=6, row=6), ActiveCell(col=6, row=7), ActiveCell(col=7, row=0), ActiveCell(col=7, row=1), ActiveCell(col=7, row=2), ActiveCell(col=7, row=3), ActiveCell(col=7, row=4), ActiveCell(col=7, row=5), ActiveCell(col=7, row=6), ActiveCell(col=7, row=7), ActiveCell(col=8, row=0), ActiveCell(col=8, row=1), ActiveCell(col=8, row=2), ActiveCell(col=8, row=3), ActiveCell(col=8, row=4), ActiveCell(col=8, row=5), ActiveCell(col=8, row=6), ActiveCell(col=9, row=2), ActiveCell(col=9, row=3), ActiveCell(col=9, row=4), ActiveCell(col=9, row=5), ActiveCell(col=9, row=6)]))"
      ]
     },
     "execution_count": 2,
     "metadata": {},
     "output_type": "execute_result"
    }
   ],
   "source": [
    "from morpheus.project.types.discretization.spatial import ActiveCells\n",
    "from morpheus.project.types.discretization import SpatialDiscretization\n",
    "from morpheus.project.types.discretization.spatial import Rotation, LengthUnit, Grid, Crs\n",
    "from morpheus.project.types.geometry import Polygon, LineString\n",
    "\n",
    "polygon = Polygon(\n",
    "  type='Polygon',\n",
    "  coordinates=[[\n",
    "    (13.922514437551428, 50.964720483303836),\n",
    "    (13.925250781947113, 50.965228748412386),\n",
    "    (13.925036413951403, 50.96623732041704),\n",
    "    (13.92222441026388, 50.96629040370362),\n",
    "    (13.922514437551428, 50.964720483303836)\n",
    "  ]]\n",
    ")\n",
    "\n",
    "rotation = Rotation(0)\n",
    "length_unit = LengthUnit.meters()\n",
    "relative_col_coordinates = [0, 0.1, 0.2, 0.3, 0.4, 0.5, 0.6, 0.7, 0.8, 0.9, 1]\n",
    "relative_row_coordinates = [0, 0.1, 0.2, 0.3, 0.4, 0.5, 0.6, 0.7, 0.8, 0.9, 1]\n",
    "\n",
    "grid = Grid.from_polygon_with_relative_coordinates(\n",
    "  polygon=polygon,\n",
    "  relative_col_coordinates=relative_col_coordinates,\n",
    "  relative_row_coordinates=relative_row_coordinates,\n",
    "  rotation=rotation,\n",
    ")\n",
    "\n",
    "spatial_discretization = SpatialDiscretization(\n",
    "  geometry=polygon,\n",
    "  grid=grid,\n",
    "  affected_cells=ActiveCells.from_polygon(polygon=polygon, grid=grid),\n",
    "  crs=Crs.from_str('EPSG:4326')\n",
    ")\n",
    "\n",
    "spatial_discretization\n",
    "\n"
   ]
  },
  {
   "cell_type": "markdown",
   "id": "fa27e67f9d801845",
   "metadata": {
    "collapsed": false,
    "papermill": {
     "duration": 0.002921,
     "end_time": "2024-05-30T21:19:31.087243",
     "exception": false,
     "start_time": "2024-05-30T21:19:31.084322",
     "status": "completed"
    },
    "tags": []
   },
   "source": [
    "## Setup Time Discretization"
   ]
  },
  {
   "cell_type": "code",
   "execution_count": 3,
   "id": "8e4e63dd138db9fc",
   "metadata": {
    "ExecuteTime": {
     "end_time": "2024-03-22T09:01:15.430368Z",
     "start_time": "2024-03-22T09:01:15.424517Z"
    },
    "collapsed": false,
    "execution": {
     "iopub.execute_input": "2024-05-30T21:19:31.096967Z",
     "iopub.status.busy": "2024-05-30T21:19:31.096516Z",
     "iopub.status.idle": "2024-05-30T21:19:31.103647Z",
     "shell.execute_reply": "2024-05-30T21:19:31.103048Z"
    },
    "papermill": {
     "duration": 0.015379,
     "end_time": "2024-05-30T21:19:31.106458",
     "exception": false,
     "start_time": "2024-05-30T21:19:31.091079",
     "status": "completed"
    },
    "tags": []
   },
   "outputs": [
    {
     "data": {
      "text/plain": [
       "TimeDiscretization(start_date_time=StartDateTime(value=datetime.datetime(2020, 1, 1, 0, 0, tzinfo=datetime.timezone.utc)), end_date_time=StartDateTime(value=datetime.datetime(2020, 12, 31, 0, 0, tzinfo=datetime.timezone.utc)), stress_periods=StressPeriodCollection(values=[StressPeriod(start_date_time=StartDateTime(value=datetime.datetime(2020, 1, 1, 0, 0, tzinfo=datetime.timezone.utc)), number_of_time_steps=NumberOfTimeSteps(value=1), time_step_multiplier=TimeStepMultiplier(value=1), steady_state=IsSteadyState(value=True))]), time_unit=TimeUnit(unit=4))"
      ]
     },
     "execution_count": 3,
     "metadata": {},
     "output_type": "execute_result"
    }
   ],
   "source": [
    "from morpheus.project.types.discretization.time.TimeUnit import TimeUnit\n",
    "from morpheus.project.types.discretization.time.Stressperiods import StartDateTime, StressPeriodCollection, \\\n",
    "  StressPeriod, NumberOfTimeSteps, TimeStepMultiplier, IsSteadyState\n",
    "from morpheus.project.types.discretization.time import TimeDiscretization\n",
    "from datetime import datetime\n",
    "\n",
    "time_discretization = TimeDiscretization(\n",
    "  start_date_time=StartDateTime.from_datetime(datetime(2020, 1, 1)),\n",
    "  end_date_time=StartDateTime.from_datetime(datetime(2020, 12, 31)),\n",
    "  stress_periods=StressPeriodCollection([\n",
    "    StressPeriod(\n",
    "      start_date_time=StartDateTime.from_datetime(datetime(2020, 1, 1)),\n",
    "      number_of_time_steps=NumberOfTimeSteps(1),\n",
    "      time_step_multiplier=TimeStepMultiplier(1),\n",
    "      steady_state=IsSteadyState.yes()\n",
    "    ),\n",
    "  ]),\n",
    "  time_unit=TimeUnit.days()\n",
    ")\n",
    "\n",
    "time_discretization"
   ]
  },
  {
   "cell_type": "markdown",
   "id": "963ba8729f09fcec",
   "metadata": {
    "collapsed": false,
    "papermill": {
     "duration": 0.00519,
     "end_time": "2024-05-30T21:19:31.117879",
     "exception": false,
     "start_time": "2024-05-30T21:19:31.112689",
     "status": "completed"
    },
    "tags": []
   },
   "source": [
    "# Setup Model"
   ]
  },
  {
   "cell_type": "code",
   "execution_count": 4,
   "id": "1d5c9125b1b9360b",
   "metadata": {
    "ExecuteTime": {
     "end_time": "2024-03-22T09:01:15.451511Z",
     "start_time": "2024-03-22T09:01:15.431803Z"
    },
    "collapsed": false,
    "execution": {
     "iopub.execute_input": "2024-05-30T21:19:31.127833Z",
     "iopub.status.busy": "2024-05-30T21:19:31.127501Z",
     "iopub.status.idle": "2024-05-30T21:19:31.479208Z",
     "shell.execute_reply": "2024-05-30T21:19:31.478844Z"
    },
    "papermill": {
     "duration": 0.355992,
     "end_time": "2024-05-30T21:19:31.480244",
     "exception": false,
     "start_time": "2024-05-30T21:19:31.124252",
     "status": "completed"
    },
    "tags": []
   },
   "outputs": [],
   "source": [
    "from morpheus.project.types.Model import Model\n",
    "\n",
    "model = Model.new()\n",
    "model = model.with_updated_time_discretization(time_discretization)\n",
    "model = model.with_updated_spatial_discretization(spatial_discretization=spatial_discretization)"
   ]
  },
  {
   "cell_type": "code",
   "execution_count": 5,
   "id": "1540b870ae83f298",
   "metadata": {
    "ExecuteTime": {
     "end_time": "2024-03-22T09:01:15.467902Z",
     "start_time": "2024-03-22T09:01:15.453514Z"
    },
    "collapsed": false,
    "execution": {
     "iopub.execute_input": "2024-05-30T21:19:31.484861Z",
     "iopub.status.busy": "2024-05-30T21:19:31.484669Z",
     "iopub.status.idle": "2024-05-30T21:19:31.602309Z",
     "shell.execute_reply": "2024-05-30T21:19:31.602032Z"
    },
    "papermill": {
     "duration": 0.120797,
     "end_time": "2024-05-30T21:19:31.603145",
     "exception": false,
     "start_time": "2024-05-30T21:19:31.482348",
     "status": "completed"
    },
    "tags": []
   },
   "outputs": [
    {
     "data": {
      "text/html": [
       "<div style=\"width:100%;\"><div style=\"position:relative;width:100%;height:0;padding-bottom:60%;\"><span style=\"color:#565656\">Make this Notebook Trusted to load map: File -> Trust Notebook</span><iframe srcdoc=\"&lt;!DOCTYPE html&gt;\n",
       "&lt;html&gt;\n",
       "&lt;head&gt;\n",
       "    \n",
       "    &lt;meta http-equiv=&quot;content-type&quot; content=&quot;text/html; charset=UTF-8&quot; /&gt;\n",
       "    \n",
       "        &lt;script&gt;\n",
       "            L_NO_TOUCH = false;\n",
       "            L_DISABLE_3D = false;\n",
       "        &lt;/script&gt;\n",
       "    \n",
       "    &lt;style&gt;html, body {width: 100%;height: 100%;margin: 0;padding: 0;}&lt;/style&gt;\n",
       "    &lt;style&gt;#map {position:absolute;top:0;bottom:0;right:0;left:0;}&lt;/style&gt;\n",
       "    &lt;script src=&quot;https://cdn.jsdelivr.net/npm/leaflet@1.9.3/dist/leaflet.js&quot;&gt;&lt;/script&gt;\n",
       "    &lt;script src=&quot;https://code.jquery.com/jquery-3.7.1.min.js&quot;&gt;&lt;/script&gt;\n",
       "    &lt;script src=&quot;https://cdn.jsdelivr.net/npm/bootstrap@5.2.2/dist/js/bootstrap.bundle.min.js&quot;&gt;&lt;/script&gt;\n",
       "    &lt;script src=&quot;https://cdnjs.cloudflare.com/ajax/libs/Leaflet.awesome-markers/2.0.2/leaflet.awesome-markers.js&quot;&gt;&lt;/script&gt;\n",
       "    &lt;link rel=&quot;stylesheet&quot; href=&quot;https://cdn.jsdelivr.net/npm/leaflet@1.9.3/dist/leaflet.css&quot;/&gt;\n",
       "    &lt;link rel=&quot;stylesheet&quot; href=&quot;https://cdn.jsdelivr.net/npm/bootstrap@5.2.2/dist/css/bootstrap.min.css&quot;/&gt;\n",
       "    &lt;link rel=&quot;stylesheet&quot; href=&quot;https://netdna.bootstrapcdn.com/bootstrap/3.0.0/css/bootstrap.min.css&quot;/&gt;\n",
       "    &lt;link rel=&quot;stylesheet&quot; href=&quot;https://cdn.jsdelivr.net/npm/@fortawesome/fontawesome-free@6.2.0/css/all.min.css&quot;/&gt;\n",
       "    &lt;link rel=&quot;stylesheet&quot; href=&quot;https://cdnjs.cloudflare.com/ajax/libs/Leaflet.awesome-markers/2.0.2/leaflet.awesome-markers.css&quot;/&gt;\n",
       "    &lt;link rel=&quot;stylesheet&quot; href=&quot;https://cdn.jsdelivr.net/gh/python-visualization/folium/folium/templates/leaflet.awesome.rotate.min.css&quot;/&gt;\n",
       "    \n",
       "            &lt;meta name=&quot;viewport&quot; content=&quot;width=device-width,\n",
       "                initial-scale=1.0, maximum-scale=1.0, user-scalable=no&quot; /&gt;\n",
       "            &lt;style&gt;\n",
       "                #map_98ea96d543a432d9264e72503b95206d {\n",
       "                    position: relative;\n",
       "                    width: 100.0%;\n",
       "                    height: 100.0%;\n",
       "                    left: 0.0%;\n",
       "                    top: 0.0%;\n",
       "                }\n",
       "                .leaflet-container { font-size: 1rem; }\n",
       "            &lt;/style&gt;\n",
       "        \n",
       "&lt;/head&gt;\n",
       "&lt;body&gt;\n",
       "    \n",
       "    \n",
       "            &lt;div class=&quot;folium-map&quot; id=&quot;map_98ea96d543a432d9264e72503b95206d&quot; &gt;&lt;/div&gt;\n",
       "        \n",
       "&lt;/body&gt;\n",
       "&lt;script&gt;\n",
       "    \n",
       "    \n",
       "            var map_98ea96d543a432d9264e72503b95206d = L.map(\n",
       "                &quot;map_98ea96d543a432d9264e72503b95206d&quot;,\n",
       "                {\n",
       "                    center: [50.965, 13.922],\n",
       "                    crs: L.CRS.EPSG3857,\n",
       "                    zoom: 12,\n",
       "                    zoomControl: true,\n",
       "                    preferCanvas: false,\n",
       "                }\n",
       "            );\n",
       "\n",
       "            \n",
       "\n",
       "        \n",
       "    \n",
       "            var tile_layer_0d269d08b4863d1a81f631ac41f67ed8 = L.tileLayer(\n",
       "                &quot;https://{s}.basemaps.cartocdn.com/light_all/{z}/{x}/{y}{r}.png&quot;,\n",
       "                {&quot;attribution&quot;: &quot;\\u0026copy; \\u003ca href=\\&quot;https://www.openstreetmap.org/copyright\\&quot;\\u003eOpenStreetMap\\u003c/a\\u003e contributors \\u0026copy; \\u003ca href=\\&quot;https://carto.com/attributions\\&quot;\\u003eCARTO\\u003c/a\\u003e&quot;, &quot;detectRetina&quot;: false, &quot;maxNativeZoom&quot;: 20, &quot;maxZoom&quot;: 20, &quot;minZoom&quot;: 0, &quot;noWrap&quot;: false, &quot;opacity&quot;: 1, &quot;subdomains&quot;: &quot;abcd&quot;, &quot;tms&quot;: false}\n",
       "            );\n",
       "        \n",
       "    \n",
       "            tile_layer_0d269d08b4863d1a81f631ac41f67ed8.addTo(map_98ea96d543a432d9264e72503b95206d);\n",
       "        \n",
       "    \n",
       "\n",
       "        function geo_json_c883819d865df7c3608e45d970222f0c_onEachFeature(feature, layer) {\n",
       "            layer.on({\n",
       "            });\n",
       "        };\n",
       "        var geo_json_c883819d865df7c3608e45d970222f0c = L.geoJson(null, {\n",
       "                onEachFeature: geo_json_c883819d865df7c3608e45d970222f0c_onEachFeature,\n",
       "            \n",
       "        });\n",
       "\n",
       "        function geo_json_c883819d865df7c3608e45d970222f0c_add (data) {\n",
       "            geo_json_c883819d865df7c3608e45d970222f0c\n",
       "                .addData(data);\n",
       "        }\n",
       "            geo_json_c883819d865df7c3608e45d970222f0c_add({&quot;coordinates&quot;: [[[13.922514437551428, 50.964720483303836], [13.925250781947113, 50.965228748412386], [13.925036413951403, 50.96623732041704], [13.92222441026388, 50.96629040370362], [13.922514437551428, 50.964720483303836]]], &quot;type&quot;: &quot;Polygon&quot;});\n",
       "\n",
       "        \n",
       "    \n",
       "            geo_json_c883819d865df7c3608e45d970222f0c.addTo(map_98ea96d543a432d9264e72503b95206d);\n",
       "        \n",
       "    \n",
       "            map_98ea96d543a432d9264e72503b95206d.fitBounds(\n",
       "                [[50.964720483303836, 13.92222441026388], [50.96629040370362, 13.925250781947113]],\n",
       "                {}\n",
       "            );\n",
       "        \n",
       "&lt;/script&gt;\n",
       "&lt;/html&gt;\" style=\"position:absolute;width:100%;height:100%;left:0;top:0;border:none !important;\" allowfullscreen webkitallowfullscreen mozallowfullscreen></iframe></div></div>"
      ],
      "text/plain": [
       "<folium.folium.Map at 0x1069c72c0>"
      ]
     },
     "execution_count": 5,
     "metadata": {},
     "output_type": "execute_result"
    }
   ],
   "source": [
    "import folium\n",
    "\n",
    "m = folium.Map(tiles=\"cartodbpositron\", crs=\"EPSG3857\", zoom_start=12, location=[50.965, 13.922])\n",
    "m.add_child(folium.GeoJson(polygon.as_geojson()))\n",
    "\n",
    "m.fit_bounds(m.get_bounds())\n",
    "m"
   ]
  },
  {
   "cell_type": "markdown",
   "id": "62ae3587df801000",
   "metadata": {
    "collapsed": false,
    "papermill": {
     "duration": 0.00199,
     "end_time": "2024-05-30T21:19:31.607305",
     "exception": false,
     "start_time": "2024-05-30T21:19:31.605315",
     "status": "completed"
    },
    "tags": []
   },
   "source": [
    "# Setup constant head boundary with 1 observation"
   ]
  },
  {
   "cell_type": "code",
   "execution_count": 6,
   "id": "53679913aee28ce9",
   "metadata": {
    "ExecuteTime": {
     "end_time": "2024-03-22T09:01:15.550883Z",
     "start_time": "2024-03-22T09:01:15.469466Z"
    },
    "collapsed": false,
    "execution": {
     "iopub.execute_input": "2024-05-30T21:19:31.612523Z",
     "iopub.status.busy": "2024-05-30T21:19:31.612343Z",
     "iopub.status.idle": "2024-05-30T21:19:31.633047Z",
     "shell.execute_reply": "2024-05-30T21:19:31.632805Z"
    },
    "papermill": {
     "duration": 0.024552,
     "end_time": "2024-05-30T21:19:31.633867",
     "exception": false,
     "start_time": "2024-05-30T21:19:31.609315",
     "status": "completed"
    },
    "tags": []
   },
   "outputs": [
    {
     "data": {
      "text/html": [
       "<div style=\"width:100%;\"><div style=\"position:relative;width:100%;height:0;padding-bottom:60%;\"><span style=\"color:#565656\">Make this Notebook Trusted to load map: File -> Trust Notebook</span><iframe srcdoc=\"&lt;!DOCTYPE html&gt;\n",
       "&lt;html&gt;\n",
       "&lt;head&gt;\n",
       "    \n",
       "    &lt;meta http-equiv=&quot;content-type&quot; content=&quot;text/html; charset=UTF-8&quot; /&gt;\n",
       "    \n",
       "        &lt;script&gt;\n",
       "            L_NO_TOUCH = false;\n",
       "            L_DISABLE_3D = false;\n",
       "        &lt;/script&gt;\n",
       "    \n",
       "    &lt;style&gt;html, body {width: 100%;height: 100%;margin: 0;padding: 0;}&lt;/style&gt;\n",
       "    &lt;style&gt;#map {position:absolute;top:0;bottom:0;right:0;left:0;}&lt;/style&gt;\n",
       "    &lt;script src=&quot;https://cdn.jsdelivr.net/npm/leaflet@1.9.3/dist/leaflet.js&quot;&gt;&lt;/script&gt;\n",
       "    &lt;script src=&quot;https://code.jquery.com/jquery-3.7.1.min.js&quot;&gt;&lt;/script&gt;\n",
       "    &lt;script src=&quot;https://cdn.jsdelivr.net/npm/bootstrap@5.2.2/dist/js/bootstrap.bundle.min.js&quot;&gt;&lt;/script&gt;\n",
       "    &lt;script src=&quot;https://cdnjs.cloudflare.com/ajax/libs/Leaflet.awesome-markers/2.0.2/leaflet.awesome-markers.js&quot;&gt;&lt;/script&gt;\n",
       "    &lt;link rel=&quot;stylesheet&quot; href=&quot;https://cdn.jsdelivr.net/npm/leaflet@1.9.3/dist/leaflet.css&quot;/&gt;\n",
       "    &lt;link rel=&quot;stylesheet&quot; href=&quot;https://cdn.jsdelivr.net/npm/bootstrap@5.2.2/dist/css/bootstrap.min.css&quot;/&gt;\n",
       "    &lt;link rel=&quot;stylesheet&quot; href=&quot;https://netdna.bootstrapcdn.com/bootstrap/3.0.0/css/bootstrap.min.css&quot;/&gt;\n",
       "    &lt;link rel=&quot;stylesheet&quot; href=&quot;https://cdn.jsdelivr.net/npm/@fortawesome/fontawesome-free@6.2.0/css/all.min.css&quot;/&gt;\n",
       "    &lt;link rel=&quot;stylesheet&quot; href=&quot;https://cdnjs.cloudflare.com/ajax/libs/Leaflet.awesome-markers/2.0.2/leaflet.awesome-markers.css&quot;/&gt;\n",
       "    &lt;link rel=&quot;stylesheet&quot; href=&quot;https://cdn.jsdelivr.net/gh/python-visualization/folium/folium/templates/leaflet.awesome.rotate.min.css&quot;/&gt;\n",
       "    \n",
       "            &lt;meta name=&quot;viewport&quot; content=&quot;width=device-width,\n",
       "                initial-scale=1.0, maximum-scale=1.0, user-scalable=no&quot; /&gt;\n",
       "            &lt;style&gt;\n",
       "                #map_98ea96d543a432d9264e72503b95206d {\n",
       "                    position: relative;\n",
       "                    width: 100.0%;\n",
       "                    height: 100.0%;\n",
       "                    left: 0.0%;\n",
       "                    top: 0.0%;\n",
       "                }\n",
       "                .leaflet-container { font-size: 1rem; }\n",
       "            &lt;/style&gt;\n",
       "        \n",
       "&lt;/head&gt;\n",
       "&lt;body&gt;\n",
       "    \n",
       "    \n",
       "            &lt;div class=&quot;folium-map&quot; id=&quot;map_98ea96d543a432d9264e72503b95206d&quot; &gt;&lt;/div&gt;\n",
       "        \n",
       "&lt;/body&gt;\n",
       "&lt;script&gt;\n",
       "    \n",
       "    \n",
       "            var map_98ea96d543a432d9264e72503b95206d = L.map(\n",
       "                &quot;map_98ea96d543a432d9264e72503b95206d&quot;,\n",
       "                {\n",
       "                    center: [50.965, 13.922],\n",
       "                    crs: L.CRS.EPSG3857,\n",
       "                    zoom: 12,\n",
       "                    zoomControl: true,\n",
       "                    preferCanvas: false,\n",
       "                }\n",
       "            );\n",
       "\n",
       "            \n",
       "\n",
       "        \n",
       "    \n",
       "            var tile_layer_0d269d08b4863d1a81f631ac41f67ed8 = L.tileLayer(\n",
       "                &quot;https://{s}.basemaps.cartocdn.com/light_all/{z}/{x}/{y}{r}.png&quot;,\n",
       "                {&quot;attribution&quot;: &quot;\\u0026copy; \\u003ca href=\\&quot;https://www.openstreetmap.org/copyright\\&quot;\\u003eOpenStreetMap\\u003c/a\\u003e contributors \\u0026copy; \\u003ca href=\\&quot;https://carto.com/attributions\\&quot;\\u003eCARTO\\u003c/a\\u003e&quot;, &quot;detectRetina&quot;: false, &quot;maxNativeZoom&quot;: 20, &quot;maxZoom&quot;: 20, &quot;minZoom&quot;: 0, &quot;noWrap&quot;: false, &quot;opacity&quot;: 1, &quot;subdomains&quot;: &quot;abcd&quot;, &quot;tms&quot;: false}\n",
       "            );\n",
       "        \n",
       "    \n",
       "            tile_layer_0d269d08b4863d1a81f631ac41f67ed8.addTo(map_98ea96d543a432d9264e72503b95206d);\n",
       "        \n",
       "    \n",
       "\n",
       "        function geo_json_c883819d865df7c3608e45d970222f0c_onEachFeature(feature, layer) {\n",
       "            layer.on({\n",
       "            });\n",
       "        };\n",
       "        var geo_json_c883819d865df7c3608e45d970222f0c = L.geoJson(null, {\n",
       "                onEachFeature: geo_json_c883819d865df7c3608e45d970222f0c_onEachFeature,\n",
       "            \n",
       "        });\n",
       "\n",
       "        function geo_json_c883819d865df7c3608e45d970222f0c_add (data) {\n",
       "            geo_json_c883819d865df7c3608e45d970222f0c\n",
       "                .addData(data);\n",
       "        }\n",
       "            geo_json_c883819d865df7c3608e45d970222f0c_add({&quot;coordinates&quot;: [[[13.922514437551428, 50.964720483303836], [13.925250781947113, 50.965228748412386], [13.925036413951403, 50.96623732041704], [13.92222441026388, 50.96629040370362], [13.922514437551428, 50.964720483303836]]], &quot;type&quot;: &quot;Polygon&quot;});\n",
       "\n",
       "        \n",
       "    \n",
       "            geo_json_c883819d865df7c3608e45d970222f0c.addTo(map_98ea96d543a432d9264e72503b95206d);\n",
       "        \n",
       "    \n",
       "            map_98ea96d543a432d9264e72503b95206d.fitBounds(\n",
       "                [[50.964720483303836, 13.92222441026388], [50.96629040370362, 13.925250781947113]],\n",
       "                {}\n",
       "            );\n",
       "        \n",
       "    \n",
       "            tile_layer_0d269d08b4863d1a81f631ac41f67ed8.addTo(map_98ea96d543a432d9264e72503b95206d);\n",
       "        \n",
       "    \n",
       "            geo_json_c883819d865df7c3608e45d970222f0c.addTo(map_98ea96d543a432d9264e72503b95206d);\n",
       "        \n",
       "    \n",
       "\n",
       "        function geo_json_087e99f5e73005debeb547f69ac9519b_onEachFeature(feature, layer) {\n",
       "            layer.on({\n",
       "            });\n",
       "        };\n",
       "        var geo_json_087e99f5e73005debeb547f69ac9519b = L.geoJson(null, {\n",
       "                onEachFeature: geo_json_087e99f5e73005debeb547f69ac9519b_onEachFeature,\n",
       "            \n",
       "        });\n",
       "\n",
       "        function geo_json_087e99f5e73005debeb547f69ac9519b_add (data) {\n",
       "            geo_json_087e99f5e73005debeb547f69ac9519b\n",
       "                .addData(data);\n",
       "        }\n",
       "            geo_json_087e99f5e73005debeb547f69ac9519b_add({&quot;coordinates&quot;: [[13.9223, 50.9662], [13.925, 50.96615]], &quot;type&quot;: &quot;LineString&quot;});\n",
       "\n",
       "        \n",
       "    \n",
       "            geo_json_087e99f5e73005debeb547f69ac9519b.addTo(map_98ea96d543a432d9264e72503b95206d);\n",
       "        \n",
       "    \n",
       "\n",
       "        function geo_json_5780c53bcc3edac6f5a6d352e059c8d2_onEachFeature(feature, layer) {\n",
       "            layer.on({\n",
       "            });\n",
       "        };\n",
       "        var geo_json_5780c53bcc3edac6f5a6d352e059c8d2 = L.geoJson(null, {\n",
       "                onEachFeature: geo_json_5780c53bcc3edac6f5a6d352e059c8d2_onEachFeature,\n",
       "            \n",
       "        });\n",
       "\n",
       "        function geo_json_5780c53bcc3edac6f5a6d352e059c8d2_add (data) {\n",
       "            geo_json_5780c53bcc3edac6f5a6d352e059c8d2\n",
       "                .addData(data);\n",
       "        }\n",
       "            geo_json_5780c53bcc3edac6f5a6d352e059c8d2_add({&quot;geometries&quot;: [{&quot;coordinates&quot;: [[[13.922224410263878, 50.96629040370359], [13.922527047432201, 50.96629040370359], [13.922527047432201, 50.9661334140511], [13.922224410263878, 50.9661334140511], [13.922224410263878, 50.96629040370359]]], &quot;type&quot;: &quot;Polygon&quot;}, {&quot;coordinates&quot;: [[[13.922527047432201, 50.96629040370359], [13.922829684600526, 50.96629040370359], [13.922829684600526, 50.9661334140511], [13.922527047432201, 50.9661334140511], [13.922527047432201, 50.96629040370359]]], &quot;type&quot;: &quot;Polygon&quot;}, {&quot;coordinates&quot;: [[[13.922829684600526, 50.96629040370359], [13.923132321768849, 50.96629040370359], [13.923132321768849, 50.9661334140511], [13.922829684600526, 50.9661334140511], [13.922829684600526, 50.96629040370359]]], &quot;type&quot;: &quot;Polygon&quot;}, {&quot;coordinates&quot;: [[[13.923132321768849, 50.96629040370359], [13.923434958937172, 50.96629040370359], [13.923434958937172, 50.9661334140511], [13.923132321768849, 50.9661334140511], [13.923132321768849, 50.96629040370359]]], &quot;type&quot;: &quot;Polygon&quot;}, {&quot;coordinates&quot;: [[[13.923434958937172, 50.96629040370359], [13.923737596105495, 50.96629040370359], [13.923737596105495, 50.9661334140511], [13.923434958937172, 50.9661334140511], [13.923434958937172, 50.96629040370359]]], &quot;type&quot;: &quot;Polygon&quot;}, {&quot;coordinates&quot;: [[[13.923737596105495, 50.96629040370359], [13.924040233273818, 50.96629040370359], [13.924040233273818, 50.9661334140511], [13.923737596105495, 50.9661334140511], [13.923737596105495, 50.96629040370359]]], &quot;type&quot;: &quot;Polygon&quot;}, {&quot;coordinates&quot;: [[[13.924040233273818, 50.96629040370359], [13.924342870442143, 50.96629040370359], [13.924342870442143, 50.9661334140511], [13.924040233273818, 50.9661334140511], [13.924040233273818, 50.96629040370359]]], &quot;type&quot;: &quot;Polygon&quot;}, {&quot;coordinates&quot;: [[[13.924342870442143, 50.96629040370359], [13.924645507610466, 50.96629040370359], [13.924645507610466, 50.9661334140511], [13.924342870442143, 50.9661334140511], [13.924342870442143, 50.96629040370359]]], &quot;type&quot;: &quot;Polygon&quot;}, {&quot;coordinates&quot;: [[[13.924645507610466, 50.96629040370359], [13.92494814477879, 50.96629040370359], [13.92494814477879, 50.9661334140511], [13.924645507610466, 50.9661334140511], [13.924645507610466, 50.96629040370359]]], &quot;type&quot;: &quot;Polygon&quot;}, {&quot;coordinates&quot;: [[[13.92494814477879, 50.96629040370359], [13.925250781947113, 50.96629040370359], [13.925250781947113, 50.9661334140511], [13.92494814477879, 50.9661334140511], [13.92494814477879, 50.96629040370359]]], &quot;type&quot;: &quot;Polygon&quot;}], &quot;type&quot;: &quot;GeometryCollection&quot;});\n",
       "\n",
       "        \n",
       "    \n",
       "            geo_json_5780c53bcc3edac6f5a6d352e059c8d2.addTo(map_98ea96d543a432d9264e72503b95206d);\n",
       "        \n",
       "    \n",
       "\n",
       "        function geo_json_1da8b72f229593b31ac8dfeecc2da659_onEachFeature(feature, layer) {\n",
       "            layer.on({\n",
       "            });\n",
       "        };\n",
       "        var geo_json_1da8b72f229593b31ac8dfeecc2da659 = L.geoJson(null, {\n",
       "                onEachFeature: geo_json_1da8b72f229593b31ac8dfeecc2da659_onEachFeature,\n",
       "            \n",
       "        });\n",
       "\n",
       "        function geo_json_1da8b72f229593b31ac8dfeecc2da659_add (data) {\n",
       "            geo_json_1da8b72f229593b31ac8dfeecc2da659\n",
       "                .addData(data);\n",
       "        }\n",
       "            geo_json_1da8b72f229593b31ac8dfeecc2da659_add({&quot;coordinates&quot;: [13.9223, 50.9662], &quot;type&quot;: &quot;Point&quot;});\n",
       "\n",
       "        \n",
       "    \n",
       "            geo_json_1da8b72f229593b31ac8dfeecc2da659.addTo(map_98ea96d543a432d9264e72503b95206d);\n",
       "        \n",
       "    \n",
       "            map_98ea96d543a432d9264e72503b95206d.fitBounds(\n",
       "                [[50.964720483303836, 13.922224410263878], [50.96629040370362, 13.925250781947113]],\n",
       "                {}\n",
       "            );\n",
       "        \n",
       "&lt;/script&gt;\n",
       "&lt;/html&gt;\" style=\"position:absolute;width:100%;height:100%;left:0;top:0;border:none !important;\" allowfullscreen webkitallowfullscreen mozallowfullscreen></iframe></div></div>"
      ],
      "text/plain": [
       "<folium.folium.Map at 0x1069c72c0>"
      ]
     },
     "execution_count": 6,
     "metadata": {},
     "output_type": "execute_result"
    }
   ],
   "source": [
    "from morpheus.project.types.boundaries.Observation import ObservationId, ObservationName\n",
    "from morpheus.project.types.geometry import Point\n",
    "from morpheus.project.types.boundaries.Boundary import BoundaryName, ConstantHeadBoundary\n",
    "from morpheus.project.types.layers import LayerId\n",
    "from morpheus.project.types.boundaries.ConstantHeadObservation import ConstantHeadObservation, ConstantHeadRawDataItem, \\\n",
    "  HeadValue\n",
    "\n",
    "layers_list = [LayerId.new()]\n",
    "constant_head = ConstantHeadBoundary.from_geometry(\n",
    "  name=BoundaryName('constant_head'),\n",
    "  geometry=LineString([\n",
    "    (13.9223, 50.9662),\n",
    "    (13.9250, 50.96615),\n",
    "  ]),\n",
    "  grid=grid,\n",
    "  affected_layers=[model.layers[0].layer_id],\n",
    "  observations=[\n",
    "    ConstantHeadObservation(\n",
    "      observation_id=ObservationId.new(),\n",
    "      observation_name=ObservationName.default(),\n",
    "      geometry=Point((13.9223, 50.9662)),\n",
    "      data=[\n",
    "        ConstantHeadRawDataItem(\n",
    "          date_time=StartDateTime.from_datetime(datetime(2019, 1, 1)),\n",
    "          head=HeadValue.from_float(100),\n",
    "        ),\n",
    "        ConstantHeadRawDataItem(\n",
    "          date_time=StartDateTime.from_datetime(datetime(2021, 12, 31)),\n",
    "          head=HeadValue.from_float(100),\n",
    "        ),\n",
    "      ]\n",
    "    )\n",
    "  ]\n",
    ")\n",
    "\n",
    "m.add_child(folium.GeoJson(constant_head.as_geojson()))\n",
    "m.add_child(folium.GeoJson(constant_head.affected_cells.to_geojson(grid).as_geojson()))\n",
    "for constant_head.observation in constant_head.observations:\n",
    "  m.add_child(folium.GeoJson(constant_head.observation.as_geojson()))\n",
    "m.fit_bounds(m.get_bounds())\n",
    "m"
   ]
  },
  {
   "cell_type": "code",
   "execution_count": 7,
   "id": "621e2265ae79b1ae",
   "metadata": {
    "ExecuteTime": {
     "end_time": "2024-03-22T09:01:15.556229Z",
     "start_time": "2024-03-22T09:01:15.552837Z"
    },
    "collapsed": false,
    "execution": {
     "iopub.execute_input": "2024-05-30T21:19:31.638587Z",
     "iopub.status.busy": "2024-05-30T21:19:31.638449Z",
     "iopub.status.idle": "2024-05-30T21:19:31.640217Z",
     "shell.execute_reply": "2024-05-30T21:19:31.640002Z"
    },
    "papermill": {
     "duration": 0.004867,
     "end_time": "2024-05-30T21:19:31.640934",
     "exception": false,
     "start_time": "2024-05-30T21:19:31.636067",
     "status": "completed"
    },
    "tags": []
   },
   "outputs": [],
   "source": [
    "from morpheus.project.types.boundaries.Boundary import BoundaryCollection\n",
    "\n",
    "boundaries = BoundaryCollection.new()\n",
    "boundaries.add_boundary(constant_head)\n",
    "model = model.with_updated_boundaries(boundaries=boundaries)"
   ]
  },
  {
   "cell_type": "code",
   "execution_count": null,
   "id": "b14d8f567177151d",
   "metadata": {
    "ExecuteTime": {
     "end_time": "2024-03-22T09:01:15.560062Z",
     "start_time": "2024-03-22T09:01:15.557586Z"
    },
    "collapsed": false,
    "papermill": {
     "duration": 0.00199,
     "end_time": "2024-05-30T21:19:31.645041",
     "exception": false,
     "start_time": "2024-05-30T21:19:31.643051",
     "status": "completed"
    },
    "tags": []
   },
   "outputs": [],
   "source": []
  },
  {
   "cell_type": "markdown",
   "id": "42d948d145a8457a",
   "metadata": {
    "collapsed": false,
    "papermill": {
     "duration": 0.001947,
     "end_time": "2024-05-30T21:19:31.648958",
     "exception": false,
     "start_time": "2024-05-30T21:19:31.647011",
     "status": "completed"
    },
    "tags": []
   },
   "source": [
    "## Calculate the model asynchronously with celery"
   ]
  },
  {
   "cell_type": "code",
   "execution_count": 8,
   "id": "56ccabee86e2397e",
   "metadata": {
    "ExecuteTime": {
     "end_time": "2024-03-22T09:01:15.569482Z",
     "start_time": "2024-03-22T09:01:15.562810Z"
    },
    "collapsed": false,
    "execution": {
     "iopub.execute_input": "2024-05-30T21:19:31.653321Z",
     "iopub.status.busy": "2024-05-30T21:19:31.653227Z",
     "iopub.status.idle": "2024-05-30T21:19:31.927776Z",
     "shell.execute_reply": "2024-05-30T21:19:31.927538Z"
    },
    "papermill": {
     "duration": 0.277711,
     "end_time": "2024-05-30T21:19:31.928598",
     "exception": false,
     "start_time": "2024-05-30T21:19:31.650887",
     "status": "completed"
    },
    "tags": []
   },
   "outputs": [
    {
     "data": {
      "text/plain": [
       "Mf2005CalculationEngineSettings(packages=PackageData(oc=OcPackageData(ihedfm=0, iddnfm=0, chedfm=None, cddnfm=None, cboufm=None, compact=True, stress_period_data=None, extension=['oc', 'hds', 'ddn', 'cbc', 'ibo'], unitnumber=None, filenames=None, label='OC'), flow_package=FlowPackage(type='lpf'), solver_package=SolverPackageData(type='pcg', data=PcgPackageData(mxiter=50, iter1=30, npcond=1, hclose=1e-05, rclose=1e-05, relax=1.0, nbpol=0, iprpcg=0, mutpcg=3, damp=1.0, dampt=1.0, ihcofadd=0, extension='pcg', unitnumber=None, filenames=None))))"
      ]
     },
     "execution_count": 8,
     "metadata": {},
     "output_type": "execute_result"
    }
   ],
   "source": [
    "\n",
    "from morpheus.project.infrastructure.calculation.engines.modflow_2005.types.Mf2005CalculationEngineSettings import \\\n",
    "  Mf2005CalculationEngineSettings\n",
    "\n",
    "calculation_engine_setting = Mf2005CalculationEngineSettings.default()\n",
    "calculation_engine_setting"
   ]
  },
  {
   "cell_type": "markdown",
   "id": "8a683bd5250a3ee6",
   "metadata": {
    "collapsed": false,
    "papermill": {
     "duration": 0.002075,
     "end_time": "2024-05-30T21:19:31.932960",
     "exception": false,
     "start_time": "2024-05-30T21:19:31.930885",
     "status": "completed"
    },
    "tags": []
   },
   "source": []
  },
  {
   "cell_type": "code",
   "execution_count": 9,
   "id": "3ac7674d3452041",
   "metadata": {
    "ExecuteTime": {
     "end_time": "2024-03-22T09:01:15.582771Z",
     "start_time": "2024-03-22T09:01:15.572321Z"
    },
    "collapsed": false,
    "execution": {
     "iopub.execute_input": "2024-05-30T21:19:31.937508Z",
     "iopub.status.busy": "2024-05-30T21:19:31.937356Z",
     "iopub.status.idle": "2024-05-30T21:19:32.358268Z",
     "shell.execute_reply": "2024-05-30T21:19:32.357983Z"
    },
    "papermill": {
     "duration": 0.424289,
     "end_time": "2024-05-30T21:19:32.359239",
     "exception": false,
     "start_time": "2024-05-30T21:19:31.934950",
     "status": "completed"
    },
    "tags": []
   },
   "outputs": [
    {
     "data": {
      "text/plain": [
       "CalculationId(value='191c19bc-4087-4e69-b43a-8ac9d7737d1f')"
      ]
     },
     "execution_count": 9,
     "metadata": {},
     "output_type": "execute_result"
    }
   ],
   "source": [
    "from morpheus.project.infrastructure.persistence.CalculationRepository import calculation_repository\n",
    "from morpheus.project.types.calculation.CalculationProfile import CalculationProfile, CalculationEngineType\n",
    "from morpheus.project.types.calculation.Calculation import Calculation\n",
    "\n",
    "calculation = Calculation.new(\n",
    "  model=model,\n",
    "  calculation_profile=CalculationProfile.new(CalculationEngineType.MF2005)\n",
    ")\n",
    "calculation_repository.save_calculation(calculation)\n",
    "calculation.calculation_id"
   ]
  },
  {
   "cell_type": "code",
   "execution_count": 10,
   "id": "672007fb90753c4c",
   "metadata": {
    "ExecuteTime": {
     "end_time": "2024-03-22T09:01:15.596061Z",
     "start_time": "2024-03-22T09:01:15.584428Z"
    },
    "collapsed": false,
    "execution": {
     "iopub.execute_input": "2024-05-30T21:19:32.365273Z",
     "iopub.status.busy": "2024-05-30T21:19:32.365064Z",
     "iopub.status.idle": "2024-05-30T21:19:32.491108Z",
     "shell.execute_reply": "2024-05-30T21:19:32.490806Z"
    },
    "papermill": {
     "duration": 0.129887,
     "end_time": "2024-05-30T21:19:32.492082",
     "exception": false,
     "start_time": "2024-05-30T21:19:32.362195",
     "status": "completed"
    },
    "tags": []
   },
   "outputs": [
    {
     "data": {
      "text/plain": [
       "{'id': '523cc463-d98b-4d58-b98d-38156dd52864', 'state': 'PENDING'}"
      ]
     },
     "execution_count": 10,
     "metadata": {},
     "output_type": "execute_result"
    }
   ],
   "source": [
    "from morpheus.project.tasks import run_calculation_by_id\n",
    "\n",
    "result = run_calculation_by_id.delay(calculation.calculation_id.to_str())\n",
    "result_state = result.state\n",
    "result_id = result.id\n",
    "{'id': result_id, 'state': result_state}"
   ]
  },
  {
   "cell_type": "code",
   "execution_count": 11,
   "id": "79cdf465cd748bb7",
   "metadata": {
    "ExecuteTime": {
     "end_time": "2024-03-22T09:01:15.612306Z",
     "start_time": "2024-03-22T09:01:15.598759Z"
    },
    "collapsed": false,
    "execution": {
     "iopub.execute_input": "2024-05-30T21:19:32.498582Z",
     "iopub.status.busy": "2024-05-30T21:19:32.498271Z",
     "iopub.status.idle": "2024-05-30T21:19:32.506621Z",
     "shell.execute_reply": "2024-05-30T21:19:32.506374Z"
    },
    "papermill": {
     "duration": 0.012304,
     "end_time": "2024-05-30T21:19:32.507459",
     "exception": false,
     "start_time": "2024-05-30T21:19:32.495155",
     "status": "completed"
    },
    "tags": []
   },
   "outputs": [
    {
     "data": {
      "text/plain": [
       "{'id': '523cc463-d98b-4d58-b98d-38156dd52864',\n",
       " 'state': 'PENDING',\n",
       " 'ready': False,\n",
       " 'successful': False,\n",
       " 'value': None}"
      ]
     },
     "execution_count": 11,
     "metadata": {},
     "output_type": "execute_result"
    }
   ],
   "source": [
    "from celery.result import AsyncResult\n",
    "\n",
    "result = AsyncResult(id=result_id)\n",
    "{\n",
    "  'id': result.id,\n",
    "  'state': result.state,\n",
    "  'ready': result.ready(),\n",
    "  'successful': result.successful(),\n",
    "  'value': result.result if result.ready() else None,\n",
    "}"
   ]
  },
  {
   "cell_type": "code",
   "execution_count": 12,
   "id": "e57747c5eec94970",
   "metadata": {
    "ExecuteTime": {
     "end_time": "2024-03-22T09:02:04.690070Z",
     "start_time": "2024-03-22T09:02:04.671498Z"
    },
    "collapsed": false,
    "execution": {
     "iopub.execute_input": "2024-05-30T21:19:32.513538Z",
     "iopub.status.busy": "2024-05-30T21:19:32.513418Z",
     "iopub.status.idle": "2024-05-30T21:19:32.518774Z",
     "shell.execute_reply": "2024-05-30T21:19:32.518524Z"
    },
    "papermill": {
     "duration": 0.009042,
     "end_time": "2024-05-30T21:19:32.519555",
     "exception": false,
     "start_time": "2024-05-30T21:19:32.510513",
     "status": "completed"
    },
    "tags": []
   },
   "outputs": [
    {
     "data": {
      "text/plain": [
       "Calculation(calculation_id=CalculationId(value='191c19bc-4087-4e69-b43a-8ac9d7737d1f'), model=Model(model_id=ModelId(value='72bad54b-a3a9-47f0-a822-c4d48a2fa552'), spatial_discretization=SpatialDiscretization(geometry=Polygon(coordinates=[[[13.922514437551428, 50.964720483303836], [13.925250781947113, 50.965228748412386], [13.925036413951403, 50.96623732041704], [13.92222441026388, 50.96629040370362], [13.922514437551428, 50.964720483303836]]], type='Polygon'), grid=Grid(origin=Point(coordinates=[13.922224410263878, 50.9662904037036], type='Point'), col_widths=[33.68941547288559, 33.68941547288559, 33.6894154728856, 33.689415472885585, 33.6894154728856, 33.6894154728856, 33.68941547288557, 33.6894154728856, 33.68941547288563, 33.68941547288557], total_width=336.89415472885594, row_heights=[27.74944856585935, 27.74944856585935, 27.749448565859346, 27.749448565859353, 27.74944856585934, 27.749448565859353, 27.749448565859325, 27.74944856585938, 27.749448565859325, 27.749448565859353], total_height=277.4944856585935, rotation=Rotation(value=0), length_unit=LengthUnit(unit=2)), affected_cells=ActiveCells(shape=[10, 10], data=[ActiveCell(col=0, row=0), ActiveCell(col=1, row=0), ActiveCell(col=2, row=0), ActiveCell(col=3, row=0), ActiveCell(col=4, row=0), ActiveCell(col=5, row=0), ActiveCell(col=6, row=0), ActiveCell(col=7, row=0), ActiveCell(col=8, row=0), ActiveCell(col=0, row=1), ActiveCell(col=1, row=1), ActiveCell(col=2, row=1), ActiveCell(col=3, row=1), ActiveCell(col=4, row=1), ActiveCell(col=5, row=1), ActiveCell(col=6, row=1), ActiveCell(col=7, row=1), ActiveCell(col=8, row=1), ActiveCell(col=0, row=2), ActiveCell(col=1, row=2), ActiveCell(col=2, row=2), ActiveCell(col=3, row=2), ActiveCell(col=4, row=2), ActiveCell(col=5, row=2), ActiveCell(col=6, row=2), ActiveCell(col=7, row=2), ActiveCell(col=8, row=2), ActiveCell(col=9, row=2), ActiveCell(col=0, row=3), ActiveCell(col=1, row=3), ActiveCell(col=2, row=3), ActiveCell(col=3, row=3), ActiveCell(col=4, row=3), ActiveCell(col=5, row=3), ActiveCell(col=6, row=3), ActiveCell(col=7, row=3), ActiveCell(col=8, row=3), ActiveCell(col=9, row=3), ActiveCell(col=0, row=4), ActiveCell(col=1, row=4), ActiveCell(col=2, row=4), ActiveCell(col=3, row=4), ActiveCell(col=4, row=4), ActiveCell(col=5, row=4), ActiveCell(col=6, row=4), ActiveCell(col=7, row=4), ActiveCell(col=8, row=4), ActiveCell(col=9, row=4), ActiveCell(col=1, row=5), ActiveCell(col=2, row=5), ActiveCell(col=3, row=5), ActiveCell(col=4, row=5), ActiveCell(col=5, row=5), ActiveCell(col=6, row=5), ActiveCell(col=7, row=5), ActiveCell(col=8, row=5), ActiveCell(col=9, row=5), ActiveCell(col=1, row=6), ActiveCell(col=2, row=6), ActiveCell(col=3, row=6), ActiveCell(col=4, row=6), ActiveCell(col=5, row=6), ActiveCell(col=6, row=6), ActiveCell(col=7, row=6), ActiveCell(col=8, row=6), ActiveCell(col=9, row=6), ActiveCell(col=1, row=7), ActiveCell(col=2, row=7), ActiveCell(col=3, row=7), ActiveCell(col=4, row=7), ActiveCell(col=5, row=7), ActiveCell(col=6, row=7), ActiveCell(col=7, row=7), ActiveCell(col=1, row=8), ActiveCell(col=2, row=8), ActiveCell(col=3, row=8), ActiveCell(col=4, row=8), ActiveCell(col=1, row=9)])), time_discretization=TimeDiscretization(start_date_time=StartDateTime(value=datetime.datetime(2020, 1, 1, 0, 0, tzinfo=datetime.timezone.utc)), end_date_time=EndDateTime(value=datetime.datetime(2020, 12, 31, 0, 0, tzinfo=datetime.timezone.utc)), stress_periods=StressPeriodCollection(values=[StressPeriod(start_date_time=StartDateTime(value=datetime.datetime(2020, 1, 1, 0, 0, tzinfo=datetime.timezone.utc)), number_of_time_steps=NumberOfTimeSteps(value=1), time_step_multiplier=TimeStepMultiplier(value=1), steady_state=IsSteadyState(value=True))]), time_unit=TimeUnit(unit=4)), boundaries=BoundaryCollection(boundaries=[ConstantHeadBoundary(boundary_id=BoundaryId(value='9641963a-2d27-44b8-b656-3900c20466d9'), type=BoundaryType(type='constant_head'), name=BoundaryName(value='constant_head'), tags=BoundaryTags(value=[]), geometry=LineString(coordinates=[[13.9223, 50.9662], [13.925, 50.96615]], type='LineString'), affected_cells=ActiveCells(shape=[10, 10], data=[ActiveCell(col=0, row=0), ActiveCell(col=1, row=0), ActiveCell(col=2, row=0), ActiveCell(col=3, row=0), ActiveCell(col=4, row=0), ActiveCell(col=5, row=0), ActiveCell(col=6, row=0), ActiveCell(col=7, row=0), ActiveCell(col=8, row=0), ActiveCell(col=9, row=0)]), affected_layers=[LayerId(value='86786d3f-1c88-4850-a8bb-5bca457c047c')], observations=[ConstantHeadObservation(observation_id=ObservationId(value='64aeb83d-3e1b-4240-a3d9-a4ad5aeba6d1'), observation_name=ObservationName(value='Observation Point 1'), geometry=Point(coordinates=[13.9223, 50.9662], type='Point'), data=[ConstantHeadRawDataItem(date_time=StartDateTime(value=datetime.datetime(2019, 1, 1, 0, 0, tzinfo=datetime.timezone.utc)), head=HeadValue(value=100)), ConstantHeadRawDataItem(date_time=StartDateTime(value=datetime.datetime(2021, 12, 31, 0, 0, tzinfo=datetime.timezone.utc)), head=HeadValue(value=100))])], enabled=True)]), observations=ObservationCollection(observations=[]), layers=LayersCollection(layers=[Layer(layer_id=LayerId(value='86786d3f-1c88-4850-a8bb-5bca457c047c'), name=LayerName(value='Default'), description=LayerDescription(value='Default'), confinement=LayerConfinement(type='confined'), properties=LayerProperties(hk=LayerPropertyValues(value=LayerPropertyDefaultValue(value=1.0), raster=None, zones=None), hani=LayerPropertyValues(value=LayerPropertyDefaultValue(value=1.0), raster=None, zones=None), vka=LayerPropertyValues(value=LayerPropertyDefaultValue(value=1.0), raster=None, zones=None), specific_storage=LayerPropertyValues(value=LayerPropertyDefaultValue(value=0.0001), raster=None, zones=None), specific_yield=LayerPropertyValues(value=LayerPropertyDefaultValue(value=0.1), raster=None, zones=None), initial_head=LayerPropertyValues(value=LayerPropertyDefaultValue(value=1.0), raster=None, zones=None), top=LayerPropertyValues(value=LayerPropertyDefaultValue(value=1.0), raster=None, zones=None), bottom=LayerPropertyValues(value=LayerPropertyDefaultValue(value=0.0), raster=None, zones=None)))]), transport=Transport(is_enabled=IsEnabled(value=False), substances=[]), variable_density=VariableDensityFlow(is_enabled=IsEnabled(value=False), viscosity_is_enabled=IsEnabled(value=False))), calculation_profile=CalculationProfile(profile_id=CalculationProfileId(value='4486bffe-f549-4924-8cbc-2b7ffc462a1e'), engine_type=<CalculationEngineType.MF2005: 'mf2005'>, engine_settings=Mf2005CalculationEngineSettings(packages=PackageData(oc=OcPackageData(ihedfm=0, iddnfm=0, chedfm=None, cddnfm=None, cboufm=None, compact=True, stress_period_data=None, extension=['oc', 'hds', 'ddn', 'cbc', 'ibo'], unitnumber=None, filenames=None, label='OC'), flow_package=FlowPackage(type='lpf'), solver_package=SolverPackageData(type='pcg', data=PcgPackageData(mxiter=50, iter1=30, npcond=1, hclose=1e-05, rclose=1e-05, relax=1.0, nbpol=0, iprpcg=0, mutpcg=3, damp=1.0, dampt=1.0, ihcofadd=0, extension='pcg', unitnumber=None, filenames=None)))), is_selected=IsSelected(value=True)), calculation_lifecycle=[<CalculationState.CREATED: 'created'>], calculation_state=<CalculationState.CREATED: 'created'>, calculation_log=None, calculation_result=None)"
      ]
     },
     "execution_count": 12,
     "metadata": {},
     "output_type": "execute_result"
    }
   ],
   "source": [
    "calculation = calculation_repository.get_calculation(calculation.calculation_id)\n",
    "calculation"
   ]
  },
  {
   "cell_type": "code",
   "execution_count": 13,
   "id": "d04c548bbc8b4da9",
   "metadata": {
    "ExecuteTime": {
     "end_time": "2024-03-22T09:02:10.962593Z",
     "start_time": "2024-03-22T09:02:10.954140Z"
    },
    "collapsed": false,
    "execution": {
     "iopub.execute_input": "2024-05-30T21:19:32.525077Z",
     "iopub.status.busy": "2024-05-30T21:19:32.524886Z",
     "iopub.status.idle": "2024-05-30T21:19:32.526926Z",
     "shell.execute_reply": "2024-05-30T21:19:32.526672Z"
    },
    "papermill": {
     "duration": 0.005502,
     "end_time": "2024-05-30T21:19:32.527687",
     "exception": false,
     "start_time": "2024-05-30T21:19:32.522185",
     "status": "completed"
    },
    "tags": []
   },
   "outputs": [
    {
     "data": {
      "text/plain": [
       "<CalculationState.CREATED: 'created'>"
      ]
     },
     "execution_count": 13,
     "metadata": {},
     "output_type": "execute_result"
    }
   ],
   "source": [
    "calculation.calculation_state"
   ]
  },
  {
   "cell_type": "code",
   "execution_count": 14,
   "id": "48aa27656bc029d",
   "metadata": {
    "ExecuteTime": {
     "end_time": "2024-03-22T09:02:14.204511Z",
     "start_time": "2024-03-22T09:02:14.195713Z"
    },
    "collapsed": false,
    "execution": {
     "iopub.execute_input": "2024-05-30T21:19:32.533046Z",
     "iopub.status.busy": "2024-05-30T21:19:32.532952Z",
     "iopub.status.idle": "2024-05-30T21:19:32.534412Z",
     "shell.execute_reply": "2024-05-30T21:19:32.534214Z"
    },
    "papermill": {
     "duration": 0.004927,
     "end_time": "2024-05-30T21:19:32.535148",
     "exception": false,
     "start_time": "2024-05-30T21:19:32.530221",
     "status": "completed"
    },
    "tags": []
   },
   "outputs": [],
   "source": [
    "calculation.calculation_log"
   ]
  },
  {
   "cell_type": "code",
   "execution_count": 15,
   "id": "45af3e7702e1383e",
   "metadata": {
    "ExecuteTime": {
     "end_time": "2024-03-22T09:02:17.222724Z",
     "start_time": "2024-03-22T09:02:17.218051Z"
    },
    "collapsed": false,
    "execution": {
     "iopub.execute_input": "2024-05-30T21:19:32.540168Z",
     "iopub.status.busy": "2024-05-30T21:19:32.540075Z",
     "iopub.status.idle": "2024-05-30T21:19:32.541549Z",
     "shell.execute_reply": "2024-05-30T21:19:32.541334Z"
    },
    "papermill": {
     "duration": 0.004804,
     "end_time": "2024-05-30T21:19:32.542284",
     "exception": false,
     "start_time": "2024-05-30T21:19:32.537480",
     "status": "completed"
    },
    "tags": []
   },
   "outputs": [],
   "source": [
    "calculation.calculation_result"
   ]
  }
 ],
 "metadata": {
  "kernelspec": {
   "display_name": "Python 3",
   "language": "python",
   "name": "python3"
  },
  "language_info": {
   "codemirror_mode": {
    "name": "ipython",
    "version": 3
   },
   "file_extension": ".py",
   "mimetype": "text/x-python",
   "name": "python",
   "nbconvert_exporter": "python",
   "pygments_lexer": "ipython3",
   "version": "3.12.2"
  },
  "papermill": {
   "default_parameters": {},
   "duration": 2.775313,
   "end_time": "2024-05-30T21:19:33.164604",
   "environment_variables": {},
   "exception": null,
   "input_path": "./notebooks/Mf2005CalculationWithCelery.ipynb",
   "output_path": "./notebooks/Mf2005CalculationWithCelery.ipynb",
   "parameters": {},
   "start_time": "2024-05-30T21:19:30.389291",
   "version": "2.6.0"
  }
 },
 "nbformat": 4,
 "nbformat_minor": 5
}
