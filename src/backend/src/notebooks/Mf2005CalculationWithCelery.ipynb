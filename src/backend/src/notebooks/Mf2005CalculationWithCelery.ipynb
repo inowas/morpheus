{
 "cells": [
  {
   "cell_type": "code",
   "execution_count": 17,
   "outputs": [],
   "source": [
    "import sys\n",
    "\n",
    "sys.path.insert(0, '..')"
   ],
   "metadata": {
    "collapsed": false,
    "ExecuteTime": {
     "end_time": "2023-12-13T18:14:42.656485006Z",
     "start_time": "2023-12-13T18:14:42.503765691Z"
    }
   },
   "id": "ba6761fae9d5e5cb"
  },
  {
   "cell_type": "markdown",
   "source": [
    "## Setup the model area"
   ],
   "metadata": {
    "collapsed": false
   },
   "id": "5ede1ba5e0993dd1"
  },
  {
   "cell_type": "code",
   "execution_count": 18,
   "outputs": [
    {
     "data": {
      "text/plain": "SpatialDiscretization(geometry=Polygon(coordinates=[[(13.922514437551428, 50.964720483303836), (13.925250781947113, 50.965228748412386), (13.925036413951403, 50.96623732041704), (13.92222441026388, 50.96629040370362), (13.922514437551428, 50.964720483303836)]], type='Polygon'), grid=Grid(origin=Point(coordinates=(13.922224410263878, 50.9662904037036), type='Point'), x_distances=[33.68941547288559, 33.68941547288559, 33.6894154728856, 33.689415472885585, 33.6894154728856, 33.6894154728856, 33.68941547288557, 33.6894154728856, 33.68941547288563, 33.68941547288557], y_distances=[27.749448566045615, 27.749448566045615, 27.7494485660456, 27.74944856604563, 27.7494485660456, 27.7494485660456, 27.7494485660456, 27.749448566045658, 27.7494485660456, 27.7494485660456], rotation=Rotation(value=0), length_unit=LengthUnit(unit=2)), affected_cells=GridCells(shape=(10, 10), data=[GridCell(x=0, y=0, value=True), GridCell(x=0, y=1, value=True), GridCell(x=0, y=2, value=True), GridCell(x=0, y=3, value=True), GridCell(x=0, y=4, value=True), GridCell(x=1, y=0, value=True), GridCell(x=1, y=1, value=True), GridCell(x=1, y=2, value=True), GridCell(x=1, y=3, value=True), GridCell(x=1, y=4, value=True), GridCell(x=1, y=5, value=True), GridCell(x=1, y=6, value=True), GridCell(x=1, y=7, value=True), GridCell(x=1, y=8, value=True), GridCell(x=1, y=9, value=True), GridCell(x=2, y=0, value=True), GridCell(x=2, y=1, value=True), GridCell(x=2, y=2, value=True), GridCell(x=2, y=3, value=True), GridCell(x=2, y=4, value=True), GridCell(x=2, y=5, value=True), GridCell(x=2, y=6, value=True), GridCell(x=2, y=7, value=True), GridCell(x=2, y=8, value=True), GridCell(x=3, y=0, value=True), GridCell(x=3, y=1, value=True), GridCell(x=3, y=2, value=True), GridCell(x=3, y=3, value=True), GridCell(x=3, y=4, value=True), GridCell(x=3, y=5, value=True), GridCell(x=3, y=6, value=True), GridCell(x=3, y=7, value=True), GridCell(x=3, y=8, value=True), GridCell(x=4, y=0, value=True), GridCell(x=4, y=1, value=True), GridCell(x=4, y=2, value=True), GridCell(x=4, y=3, value=True), GridCell(x=4, y=4, value=True), GridCell(x=4, y=5, value=True), GridCell(x=4, y=6, value=True), GridCell(x=4, y=7, value=True), GridCell(x=4, y=8, value=True), GridCell(x=5, y=0, value=True), GridCell(x=5, y=1, value=True), GridCell(x=5, y=2, value=True), GridCell(x=5, y=3, value=True), GridCell(x=5, y=4, value=True), GridCell(x=5, y=5, value=True), GridCell(x=5, y=6, value=True), GridCell(x=5, y=7, value=True), GridCell(x=6, y=0, value=True), GridCell(x=6, y=1, value=True), GridCell(x=6, y=2, value=True), GridCell(x=6, y=3, value=True), GridCell(x=6, y=4, value=True), GridCell(x=6, y=5, value=True), GridCell(x=6, y=6, value=True), GridCell(x=6, y=7, value=True), GridCell(x=7, y=0, value=True), GridCell(x=7, y=1, value=True), GridCell(x=7, y=2, value=True), GridCell(x=7, y=3, value=True), GridCell(x=7, y=4, value=True), GridCell(x=7, y=5, value=True), GridCell(x=7, y=6, value=True), GridCell(x=7, y=7, value=True), GridCell(x=8, y=0, value=True), GridCell(x=8, y=1, value=True), GridCell(x=8, y=2, value=True), GridCell(x=8, y=3, value=True), GridCell(x=8, y=4, value=True), GridCell(x=8, y=5, value=True), GridCell(x=8, y=6, value=True), GridCell(x=9, y=2, value=True), GridCell(x=9, y=3, value=True), GridCell(x=9, y=4, value=True), GridCell(x=9, y=5, value=True), GridCell(x=9, y=6, value=True)], cell_geometries=None), crs=Crs(value='EPSG:4326'))"
     },
     "execution_count": 18,
     "metadata": {},
     "output_type": "execute_result"
    }
   ],
   "source": [
    "from morpheus.modflow.types.discretization.spatial.GridCells import GridCells\n",
    "from morpheus.modflow.types.discretization import SpatialDiscretization\n",
    "from morpheus.modflow.types.discretization.spatial import Rotation, LengthUnit, Grid, Crs\n",
    "from morpheus.modflow.types.geometry import Polygon, LineString\n",
    "\n",
    "polygon = Polygon(\n",
    "  type='Polygon',\n",
    "  coordinates=[[\n",
    "    (13.922514437551428, 50.964720483303836),\n",
    "    (13.925250781947113, 50.965228748412386),\n",
    "    (13.925036413951403, 50.96623732041704),\n",
    "    (13.92222441026388, 50.96629040370362),\n",
    "    (13.922514437551428, 50.964720483303836)\n",
    "  ]]\n",
    ")\n",
    "\n",
    "rotation = Rotation(0)\n",
    "length_unit = LengthUnit.meters()\n",
    "x_coordinates = [0, 0.1, 0.2, 0.3, 0.4, 0.5, 0.6, 0.7, 0.8, 0.9, 1]\n",
    "y_coordinates = [0, 0.1, 0.2, 0.3, 0.4, 0.5, 0.6, 0.7, 0.8, 0.9, 1]\n",
    "\n",
    "grid = Grid.from_polygon_with_relative_coordinates(\n",
    "  polygon=polygon,\n",
    "  x_coordinates=x_coordinates,\n",
    "  y_coordinates=y_coordinates,\n",
    "  rotation=rotation,\n",
    ")\n",
    "\n",
    "spatial_discretization = SpatialDiscretization(\n",
    "  geometry=polygon,\n",
    "  grid=grid,\n",
    "  affected_cells=GridCells.from_polygon(polygon=polygon, grid=grid),\n",
    "  crs=Crs.from_str('EPSG:4326')\n",
    ")\n",
    "\n",
    "spatial_discretization\n",
    "\n"
   ],
   "metadata": {
    "collapsed": false,
    "ExecuteTime": {
     "end_time": "2023-12-13T18:14:42.904345201Z",
     "start_time": "2023-12-13T18:14:42.657657532Z"
    }
   },
   "id": "2f69504ab35487aa"
  },
  {
   "cell_type": "markdown",
   "source": [
    "## Setup Time Discretization"
   ],
   "metadata": {
    "collapsed": false
   },
   "id": "fa27e67f9d801845"
  },
  {
   "cell_type": "code",
   "execution_count": 19,
   "outputs": [
    {
     "data": {
      "text/plain": "TimeDiscretization(start_date_time=StartDateTime(value=datetime.datetime(2020, 1, 1, 0, 0)), end_date_time=StartDateTime(value=datetime.datetime(2020, 12, 31, 0, 0)), stress_periods=StressPeriodCollection(values=[StressPeriod(start_date_time=StartDateTime(value=datetime.datetime(2020, 1, 1, 0, 0)), number_of_time_steps=NumberOfTimeSteps(value=1), time_step_multiplier=TimeStepMultiplier(value=1), steady_state=IsSteadyState(value=True))]), time_unit=TimeUnit(unit=4))"
     },
     "execution_count": 19,
     "metadata": {},
     "output_type": "execute_result"
    }
   ],
   "source": [
    "from morpheus.modflow.types.discretization.time.TimeUnit import TimeUnit\n",
    "from morpheus.modflow.types.discretization.time.Stressperiods import StartDateTime, StressPeriodCollection, \\\n",
    "  StressPeriod, NumberOfTimeSteps, TimeStepMultiplier, IsSteadyState\n",
    "from morpheus.modflow.types.discretization.time import TimeDiscretization\n",
    "from datetime import datetime\n",
    "\n",
    "time_discretization = TimeDiscretization(\n",
    "  start_date_time=StartDateTime.from_datetime(datetime(2020, 1, 1)),\n",
    "  end_date_time=StartDateTime.from_datetime(datetime(2020, 12, 31)),\n",
    "  stress_periods=StressPeriodCollection([\n",
    "    StressPeriod(\n",
    "      start_date_time=StartDateTime.from_datetime(datetime(2020, 1, 1)),\n",
    "      number_of_time_steps=NumberOfTimeSteps(1),\n",
    "      time_step_multiplier=TimeStepMultiplier(1),\n",
    "      steady_state=IsSteadyState.yes()\n",
    "    ),\n",
    "  ]),\n",
    "  time_unit=TimeUnit.days()\n",
    ")\n",
    "\n",
    "time_discretization"
   ],
   "metadata": {
    "collapsed": false,
    "ExecuteTime": {
     "end_time": "2023-12-13T18:14:43.002057346Z",
     "start_time": "2023-12-13T18:14:42.794433455Z"
    }
   },
   "id": "8e4e63dd138db9fc"
  },
  {
   "cell_type": "markdown",
   "source": [
    "# Setup Modflow Model"
   ],
   "metadata": {
    "collapsed": false
   },
   "id": "963ba8729f09fcec"
  },
  {
   "cell_type": "code",
   "execution_count": 20,
   "outputs": [],
   "source": [
    "from morpheus.modflow.types.ModflowModel import ModflowModel\n",
    "\n",
    "modflow_model = ModflowModel.new()\n",
    "modflow_model = modflow_model.with_updated_time_discretization(time_discretization)\n",
    "modflow_model = modflow_model.with_updated_spatial_discretization(spatial_discretization=spatial_discretization)"
   ],
   "metadata": {
    "collapsed": false,
    "ExecuteTime": {
     "end_time": "2023-12-13T18:14:43.023344870Z",
     "start_time": "2023-12-13T18:14:42.794846581Z"
    }
   },
   "id": "1d5c9125b1b9360b"
  },
  {
   "cell_type": "code",
   "execution_count": 21,
   "outputs": [
    {
     "data": {
      "text/plain": "<folium.folium.Map at 0x7f9fc8b67e00>",
      "text/html": "<div style=\"width:100%;\"><div style=\"position:relative;width:100%;height:0;padding-bottom:60%;\"><span style=\"color:#565656\">Make this Notebook Trusted to load map: File -> Trust Notebook</span><iframe srcdoc=\"&lt;!DOCTYPE html&gt;\n&lt;html&gt;\n&lt;head&gt;\n    \n    &lt;meta http-equiv=&quot;content-type&quot; content=&quot;text/html; charset=UTF-8&quot; /&gt;\n    \n        &lt;script&gt;\n            L_NO_TOUCH = false;\n            L_DISABLE_3D = false;\n        &lt;/script&gt;\n    \n    &lt;style&gt;html, body {width: 100%;height: 100%;margin: 0;padding: 0;}&lt;/style&gt;\n    &lt;style&gt;#map {position:absolute;top:0;bottom:0;right:0;left:0;}&lt;/style&gt;\n    &lt;script src=&quot;https://cdn.jsdelivr.net/npm/leaflet@1.9.3/dist/leaflet.js&quot;&gt;&lt;/script&gt;\n    &lt;script src=&quot;https://code.jquery.com/jquery-3.7.1.min.js&quot;&gt;&lt;/script&gt;\n    &lt;script src=&quot;https://cdn.jsdelivr.net/npm/bootstrap@5.2.2/dist/js/bootstrap.bundle.min.js&quot;&gt;&lt;/script&gt;\n    &lt;script src=&quot;https://cdnjs.cloudflare.com/ajax/libs/Leaflet.awesome-markers/2.0.2/leaflet.awesome-markers.js&quot;&gt;&lt;/script&gt;\n    &lt;link rel=&quot;stylesheet&quot; href=&quot;https://cdn.jsdelivr.net/npm/leaflet@1.9.3/dist/leaflet.css&quot;/&gt;\n    &lt;link rel=&quot;stylesheet&quot; href=&quot;https://cdn.jsdelivr.net/npm/bootstrap@5.2.2/dist/css/bootstrap.min.css&quot;/&gt;\n    &lt;link rel=&quot;stylesheet&quot; href=&quot;https://netdna.bootstrapcdn.com/bootstrap/3.0.0/css/bootstrap.min.css&quot;/&gt;\n    &lt;link rel=&quot;stylesheet&quot; href=&quot;https://cdn.jsdelivr.net/npm/@fortawesome/fontawesome-free@6.2.0/css/all.min.css&quot;/&gt;\n    &lt;link rel=&quot;stylesheet&quot; href=&quot;https://cdnjs.cloudflare.com/ajax/libs/Leaflet.awesome-markers/2.0.2/leaflet.awesome-markers.css&quot;/&gt;\n    &lt;link rel=&quot;stylesheet&quot; href=&quot;https://cdn.jsdelivr.net/gh/python-visualization/folium/folium/templates/leaflet.awesome.rotate.min.css&quot;/&gt;\n    \n            &lt;meta name=&quot;viewport&quot; content=&quot;width=device-width,\n                initial-scale=1.0, maximum-scale=1.0, user-scalable=no&quot; /&gt;\n            &lt;style&gt;\n                #map_81329aee7f6aa6bb2eca6809cea2d7fc {\n                    position: relative;\n                    width: 100.0%;\n                    height: 100.0%;\n                    left: 0.0%;\n                    top: 0.0%;\n                }\n                .leaflet-container { font-size: 1rem; }\n            &lt;/style&gt;\n        \n&lt;/head&gt;\n&lt;body&gt;\n    \n    \n            &lt;div class=&quot;folium-map&quot; id=&quot;map_81329aee7f6aa6bb2eca6809cea2d7fc&quot; &gt;&lt;/div&gt;\n        \n&lt;/body&gt;\n&lt;script&gt;\n    \n    \n            var map_81329aee7f6aa6bb2eca6809cea2d7fc = L.map(\n                &quot;map_81329aee7f6aa6bb2eca6809cea2d7fc&quot;,\n                {\n                    center: [50.965, 13.922],\n                    crs: L.CRS.EPSG3857,\n                    zoom: 12,\n                    zoomControl: true,\n                    preferCanvas: false,\n                }\n            );\n\n            \n\n        \n    \n            var tile_layer_1600da93c93661ff1dddf2a9c50d21db = L.tileLayer(\n                &quot;https://{s}.basemaps.cartocdn.com/light_all/{z}/{x}/{y}{r}.png&quot;,\n                {&quot;attribution&quot;: &quot;\\u0026copy; \\u003ca href=\\&quot;https://www.openstreetmap.org/copyright\\&quot;\\u003eOpenStreetMap\\u003c/a\\u003e contributors \\u0026copy; \\u003ca href=\\&quot;https://carto.com/attributions\\&quot;\\u003eCARTO\\u003c/a\\u003e&quot;, &quot;detectRetina&quot;: false, &quot;maxNativeZoom&quot;: 20, &quot;maxZoom&quot;: 20, &quot;minZoom&quot;: 0, &quot;noWrap&quot;: false, &quot;opacity&quot;: 1, &quot;subdomains&quot;: &quot;abcd&quot;, &quot;tms&quot;: false}\n            );\n        \n    \n            tile_layer_1600da93c93661ff1dddf2a9c50d21db.addTo(map_81329aee7f6aa6bb2eca6809cea2d7fc);\n        \n    \n\n        function geo_json_212b914331b6a0755139878c2eed465f_onEachFeature(feature, layer) {\n            layer.on({\n            });\n        };\n        var geo_json_212b914331b6a0755139878c2eed465f = L.geoJson(null, {\n                onEachFeature: geo_json_212b914331b6a0755139878c2eed465f_onEachFeature,\n            \n        });\n\n        function geo_json_212b914331b6a0755139878c2eed465f_add (data) {\n            geo_json_212b914331b6a0755139878c2eed465f\n                .addData(data);\n        }\n            geo_json_212b914331b6a0755139878c2eed465f_add({&quot;coordinates&quot;: [[[13.922514437551428, 50.964720483303836], [13.925250781947113, 50.965228748412386], [13.925036413951403, 50.96623732041704], [13.92222441026388, 50.96629040370362], [13.922514437551428, 50.964720483303836]]], &quot;type&quot;: &quot;Polygon&quot;});\n\n        \n    \n            geo_json_212b914331b6a0755139878c2eed465f.addTo(map_81329aee7f6aa6bb2eca6809cea2d7fc);\n        \n    \n            map_81329aee7f6aa6bb2eca6809cea2d7fc.fitBounds(\n                [[50.964720483303836, 13.92222441026388], [50.96629040370362, 13.925250781947113]],\n                {}\n            );\n        \n&lt;/script&gt;\n&lt;/html&gt;\" style=\"position:absolute;width:100%;height:100%;left:0;top:0;border:none !important;\" allowfullscreen webkitallowfullscreen mozallowfullscreen></iframe></div></div>"
     },
     "execution_count": 21,
     "metadata": {},
     "output_type": "execute_result"
    }
   ],
   "source": [
    "import folium\n",
    "\n",
    "m = folium.Map(tiles=\"cartodbpositron\", crs=\"EPSG3857\", zoom_start=12, location=[50.965, 13.922])\n",
    "m.add_child(folium.GeoJson(polygon.as_geojson()))\n",
    "\n",
    "m.fit_bounds(m.get_bounds())\n",
    "m"
   ],
   "metadata": {
    "collapsed": false,
    "ExecuteTime": {
     "end_time": "2023-12-13T18:14:43.224290826Z",
     "start_time": "2023-12-13T18:14:42.871783789Z"
    }
   },
   "id": "1540b870ae83f298"
  },
  {
   "cell_type": "markdown",
   "source": [
    "# Setup constant head boundary with 1 observation"
   ],
   "metadata": {
    "collapsed": false
   },
   "id": "62ae3587df801000"
  },
  {
   "cell_type": "code",
   "execution_count": 22,
   "outputs": [
    {
     "data": {
      "text/plain": "<folium.folium.Map at 0x7f9fc8b67e00>",
      "text/html": "<div style=\"width:100%;\"><div style=\"position:relative;width:100%;height:0;padding-bottom:60%;\"><span style=\"color:#565656\">Make this Notebook Trusted to load map: File -> Trust Notebook</span><iframe srcdoc=\"&lt;!DOCTYPE html&gt;\n&lt;html&gt;\n&lt;head&gt;\n    \n    &lt;meta http-equiv=&quot;content-type&quot; content=&quot;text/html; charset=UTF-8&quot; /&gt;\n    \n        &lt;script&gt;\n            L_NO_TOUCH = false;\n            L_DISABLE_3D = false;\n        &lt;/script&gt;\n    \n    &lt;style&gt;html, body {width: 100%;height: 100%;margin: 0;padding: 0;}&lt;/style&gt;\n    &lt;style&gt;#map {position:absolute;top:0;bottom:0;right:0;left:0;}&lt;/style&gt;\n    &lt;script src=&quot;https://cdn.jsdelivr.net/npm/leaflet@1.9.3/dist/leaflet.js&quot;&gt;&lt;/script&gt;\n    &lt;script src=&quot;https://code.jquery.com/jquery-3.7.1.min.js&quot;&gt;&lt;/script&gt;\n    &lt;script src=&quot;https://cdn.jsdelivr.net/npm/bootstrap@5.2.2/dist/js/bootstrap.bundle.min.js&quot;&gt;&lt;/script&gt;\n    &lt;script src=&quot;https://cdnjs.cloudflare.com/ajax/libs/Leaflet.awesome-markers/2.0.2/leaflet.awesome-markers.js&quot;&gt;&lt;/script&gt;\n    &lt;link rel=&quot;stylesheet&quot; href=&quot;https://cdn.jsdelivr.net/npm/leaflet@1.9.3/dist/leaflet.css&quot;/&gt;\n    &lt;link rel=&quot;stylesheet&quot; href=&quot;https://cdn.jsdelivr.net/npm/bootstrap@5.2.2/dist/css/bootstrap.min.css&quot;/&gt;\n    &lt;link rel=&quot;stylesheet&quot; href=&quot;https://netdna.bootstrapcdn.com/bootstrap/3.0.0/css/bootstrap.min.css&quot;/&gt;\n    &lt;link rel=&quot;stylesheet&quot; href=&quot;https://cdn.jsdelivr.net/npm/@fortawesome/fontawesome-free@6.2.0/css/all.min.css&quot;/&gt;\n    &lt;link rel=&quot;stylesheet&quot; href=&quot;https://cdnjs.cloudflare.com/ajax/libs/Leaflet.awesome-markers/2.0.2/leaflet.awesome-markers.css&quot;/&gt;\n    &lt;link rel=&quot;stylesheet&quot; href=&quot;https://cdn.jsdelivr.net/gh/python-visualization/folium/folium/templates/leaflet.awesome.rotate.min.css&quot;/&gt;\n    \n            &lt;meta name=&quot;viewport&quot; content=&quot;width=device-width,\n                initial-scale=1.0, maximum-scale=1.0, user-scalable=no&quot; /&gt;\n            &lt;style&gt;\n                #map_81329aee7f6aa6bb2eca6809cea2d7fc {\n                    position: relative;\n                    width: 100.0%;\n                    height: 100.0%;\n                    left: 0.0%;\n                    top: 0.0%;\n                }\n                .leaflet-container { font-size: 1rem; }\n            &lt;/style&gt;\n        \n&lt;/head&gt;\n&lt;body&gt;\n    \n    \n            &lt;div class=&quot;folium-map&quot; id=&quot;map_81329aee7f6aa6bb2eca6809cea2d7fc&quot; &gt;&lt;/div&gt;\n        \n&lt;/body&gt;\n&lt;script&gt;\n    \n    \n            var map_81329aee7f6aa6bb2eca6809cea2d7fc = L.map(\n                &quot;map_81329aee7f6aa6bb2eca6809cea2d7fc&quot;,\n                {\n                    center: [50.965, 13.922],\n                    crs: L.CRS.EPSG3857,\n                    zoom: 12,\n                    zoomControl: true,\n                    preferCanvas: false,\n                }\n            );\n\n            \n\n        \n    \n            var tile_layer_1600da93c93661ff1dddf2a9c50d21db = L.tileLayer(\n                &quot;https://{s}.basemaps.cartocdn.com/light_all/{z}/{x}/{y}{r}.png&quot;,\n                {&quot;attribution&quot;: &quot;\\u0026copy; \\u003ca href=\\&quot;https://www.openstreetmap.org/copyright\\&quot;\\u003eOpenStreetMap\\u003c/a\\u003e contributors \\u0026copy; \\u003ca href=\\&quot;https://carto.com/attributions\\&quot;\\u003eCARTO\\u003c/a\\u003e&quot;, &quot;detectRetina&quot;: false, &quot;maxNativeZoom&quot;: 20, &quot;maxZoom&quot;: 20, &quot;minZoom&quot;: 0, &quot;noWrap&quot;: false, &quot;opacity&quot;: 1, &quot;subdomains&quot;: &quot;abcd&quot;, &quot;tms&quot;: false}\n            );\n        \n    \n            tile_layer_1600da93c93661ff1dddf2a9c50d21db.addTo(map_81329aee7f6aa6bb2eca6809cea2d7fc);\n        \n    \n\n        function geo_json_212b914331b6a0755139878c2eed465f_onEachFeature(feature, layer) {\n            layer.on({\n            });\n        };\n        var geo_json_212b914331b6a0755139878c2eed465f = L.geoJson(null, {\n                onEachFeature: geo_json_212b914331b6a0755139878c2eed465f_onEachFeature,\n            \n        });\n\n        function geo_json_212b914331b6a0755139878c2eed465f_add (data) {\n            geo_json_212b914331b6a0755139878c2eed465f\n                .addData(data);\n        }\n            geo_json_212b914331b6a0755139878c2eed465f_add({&quot;coordinates&quot;: [[[13.922514437551428, 50.964720483303836], [13.925250781947113, 50.965228748412386], [13.925036413951403, 50.96623732041704], [13.92222441026388, 50.96629040370362], [13.922514437551428, 50.964720483303836]]], &quot;type&quot;: &quot;Polygon&quot;});\n\n        \n    \n            geo_json_212b914331b6a0755139878c2eed465f.addTo(map_81329aee7f6aa6bb2eca6809cea2d7fc);\n        \n    \n            map_81329aee7f6aa6bb2eca6809cea2d7fc.fitBounds(\n                [[50.964720483303836, 13.92222441026388], [50.96629040370362, 13.925250781947113]],\n                {}\n            );\n        \n    \n            tile_layer_1600da93c93661ff1dddf2a9c50d21db.addTo(map_81329aee7f6aa6bb2eca6809cea2d7fc);\n        \n    \n            geo_json_212b914331b6a0755139878c2eed465f.addTo(map_81329aee7f6aa6bb2eca6809cea2d7fc);\n        \n    \n\n        function geo_json_a5f7e6af6e0c68c96ec87a235083b4b2_onEachFeature(feature, layer) {\n            layer.on({\n            });\n        };\n        var geo_json_a5f7e6af6e0c68c96ec87a235083b4b2 = L.geoJson(null, {\n                onEachFeature: geo_json_a5f7e6af6e0c68c96ec87a235083b4b2_onEachFeature,\n            \n        });\n\n        function geo_json_a5f7e6af6e0c68c96ec87a235083b4b2_add (data) {\n            geo_json_a5f7e6af6e0c68c96ec87a235083b4b2\n                .addData(data);\n        }\n            geo_json_a5f7e6af6e0c68c96ec87a235083b4b2_add({&quot;coordinates&quot;: [[13.9223, 50.9662], [13.925, 50.96615]], &quot;type&quot;: &quot;LineString&quot;});\n\n        \n    \n            geo_json_a5f7e6af6e0c68c96ec87a235083b4b2.addTo(map_81329aee7f6aa6bb2eca6809cea2d7fc);\n        \n    \n\n        function geo_json_367abd2f88b481012e29b55395f252d5_onEachFeature(feature, layer) {\n            layer.on({\n            });\n        };\n        var geo_json_367abd2f88b481012e29b55395f252d5 = L.geoJson(null, {\n                onEachFeature: geo_json_367abd2f88b481012e29b55395f252d5_onEachFeature,\n            \n        });\n\n        function geo_json_367abd2f88b481012e29b55395f252d5_add (data) {\n            geo_json_367abd2f88b481012e29b55395f252d5\n                .addData(data);\n        }\n            geo_json_367abd2f88b481012e29b55395f252d5_add({&quot;geometries&quot;: [{&quot;coordinates&quot;: [[[13.922224410263878, 50.9662904037036], [13.922527047432201, 50.9662904037036], [13.922527047432201, 50.966133414051114], [13.922224410263878, 50.966133414051114], [13.922224410263878, 50.9662904037036]]], &quot;type&quot;: &quot;Polygon&quot;}, {&quot;coordinates&quot;: [[[13.922527047432201, 50.9662904037036], [13.922829684600526, 50.9662904037036], [13.922829684600526, 50.966133414051114], [13.922527047432201, 50.966133414051114], [13.922527047432201, 50.9662904037036]]], &quot;type&quot;: &quot;Polygon&quot;}, {&quot;coordinates&quot;: [[[13.922829684600526, 50.9662904037036], [13.923132321768849, 50.9662904037036], [13.923132321768849, 50.966133414051114], [13.922829684600526, 50.966133414051114], [13.922829684600526, 50.9662904037036]]], &quot;type&quot;: &quot;Polygon&quot;}, {&quot;coordinates&quot;: [[[13.923132321768849, 50.9662904037036], [13.923434958937172, 50.9662904037036], [13.923434958937172, 50.966133414051114], [13.923132321768849, 50.966133414051114], [13.923132321768849, 50.9662904037036]]], &quot;type&quot;: &quot;Polygon&quot;}, {&quot;coordinates&quot;: [[[13.923434958937172, 50.9662904037036], [13.923737596105495, 50.9662904037036], [13.923737596105495, 50.966133414051114], [13.923434958937172, 50.966133414051114], [13.923434958937172, 50.9662904037036]]], &quot;type&quot;: &quot;Polygon&quot;}, {&quot;coordinates&quot;: [[[13.923737596105495, 50.9662904037036], [13.924040233273818, 50.9662904037036], [13.924040233273818, 50.966133414051114], [13.923737596105495, 50.966133414051114], [13.923737596105495, 50.9662904037036]]], &quot;type&quot;: &quot;Polygon&quot;}, {&quot;coordinates&quot;: [[[13.924040233273818, 50.9662904037036], [13.924342870442143, 50.9662904037036], [13.924342870442143, 50.966133414051114], [13.924040233273818, 50.966133414051114], [13.924040233273818, 50.9662904037036]]], &quot;type&quot;: &quot;Polygon&quot;}, {&quot;coordinates&quot;: [[[13.924342870442143, 50.9662904037036], [13.924645507610466, 50.9662904037036], [13.924645507610466, 50.966133414051114], [13.924342870442143, 50.966133414051114], [13.924342870442143, 50.9662904037036]]], &quot;type&quot;: &quot;Polygon&quot;}, {&quot;coordinates&quot;: [[[13.924645507610466, 50.9662904037036], [13.92494814477879, 50.9662904037036], [13.92494814477879, 50.966133414051114], [13.924645507610466, 50.966133414051114], [13.924645507610466, 50.9662904037036]]], &quot;type&quot;: &quot;Polygon&quot;}, {&quot;coordinates&quot;: [[[13.92494814477879, 50.9662904037036], [13.925250781947113, 50.9662904037036], [13.925250781947113, 50.966133414051114], [13.92494814477879, 50.966133414051114], [13.92494814477879, 50.9662904037036]]], &quot;type&quot;: &quot;Polygon&quot;}], &quot;type&quot;: &quot;GeometryCollection&quot;});\n\n        \n    \n            geo_json_367abd2f88b481012e29b55395f252d5.addTo(map_81329aee7f6aa6bb2eca6809cea2d7fc);\n        \n    \n\n        function geo_json_71fda97de17d2cb5c0f177848a2b80f7_onEachFeature(feature, layer) {\n            layer.on({\n            });\n        };\n        var geo_json_71fda97de17d2cb5c0f177848a2b80f7 = L.geoJson(null, {\n                onEachFeature: geo_json_71fda97de17d2cb5c0f177848a2b80f7_onEachFeature,\n            \n        });\n\n        function geo_json_71fda97de17d2cb5c0f177848a2b80f7_add (data) {\n            geo_json_71fda97de17d2cb5c0f177848a2b80f7\n                .addData(data);\n        }\n            geo_json_71fda97de17d2cb5c0f177848a2b80f7_add({&quot;coordinates&quot;: [13.9223, 50.9662], &quot;type&quot;: &quot;Point&quot;});\n\n        \n    \n            geo_json_71fda97de17d2cb5c0f177848a2b80f7.addTo(map_81329aee7f6aa6bb2eca6809cea2d7fc);\n        \n    \n            map_81329aee7f6aa6bb2eca6809cea2d7fc.fitBounds(\n                [[50.964720483303836, 13.922224410263878], [50.96629040370362, 13.925250781947113]],\n                {}\n            );\n        \n&lt;/script&gt;\n&lt;/html&gt;\" style=\"position:absolute;width:100%;height:100%;left:0;top:0;border:none !important;\" allowfullscreen webkitallowfullscreen mozallowfullscreen></iframe></div></div>"
     },
     "execution_count": 22,
     "metadata": {},
     "output_type": "execute_result"
    }
   ],
   "source": [
    "from morpheus.modflow.types.boundaries.Observation import ObservationId\n",
    "from morpheus.modflow.types.geometry import Point\n",
    "from morpheus.modflow.types.boundaries.Boundary import BoundaryName, ConstantHeadBoundary\n",
    "from morpheus.modflow.types.soil_model import LayerId\n",
    "from morpheus.modflow.types.boundaries.ConstantHeadObservation import ConstantHeadObservation, ConstantHeadRawDataItem, \\\n",
    "  HeadValue\n",
    "\n",
    "layers_list = [LayerId.new()]\n",
    "constant_head = ConstantHeadBoundary.from_geometry(\n",
    "  name=BoundaryName('constant_head'),\n",
    "  geometry=LineString([\n",
    "    (13.9223, 50.9662),\n",
    "    (13.9250, 50.96615),\n",
    "  ]),\n",
    "  grid=grid,\n",
    "  affected_layers=[modflow_model.soil_model.layers[0].id],\n",
    "  observations=[\n",
    "    ConstantHeadObservation(\n",
    "      observation_id=ObservationId.new(),\n",
    "      geometry=Point((13.9223, 50.9662)),\n",
    "      raw_data=[\n",
    "        ConstantHeadRawDataItem(\n",
    "          date_time=StartDateTime.from_datetime(datetime(2019, 1, 1)),\n",
    "          head=HeadValue.from_float(100),\n",
    "        ),\n",
    "        ConstantHeadRawDataItem(\n",
    "          date_time=StartDateTime.from_datetime(datetime(2021, 12, 31)),\n",
    "          head=HeadValue.from_float(100),\n",
    "        ),\n",
    "      ]\n",
    "    )\n",
    "  ]\n",
    ")\n",
    "\n",
    "m.add_child(folium.GeoJson(constant_head.as_geojson()))\n",
    "m.add_child(folium.GeoJson(constant_head.affected_cells.as_geojson(grid).as_geojson()))\n",
    "for constant_head.observation in constant_head.observations:\n",
    "  m.add_child(folium.GeoJson(constant_head.observation.as_geojson()))\n",
    "m.fit_bounds(m.get_bounds())\n",
    "m"
   ],
   "metadata": {
    "collapsed": false,
    "ExecuteTime": {
     "end_time": "2023-12-13T18:14:43.600647840Z",
     "start_time": "2023-12-13T18:14:43.192830891Z"
    }
   },
   "id": "53679913aee28ce9"
  },
  {
   "cell_type": "code",
   "execution_count": 23,
   "outputs": [],
   "source": [
    "from morpheus.modflow.types.boundaries.Boundary import BoundaryCollection\n",
    "\n",
    "boundaries = BoundaryCollection.new()\n",
    "boundaries.add_boundary(constant_head)\n",
    "modflow_model = modflow_model.with_updated_boundaries(boundaries=boundaries)"
   ],
   "metadata": {
    "collapsed": false,
    "ExecuteTime": {
     "end_time": "2023-12-13T18:14:43.676717152Z",
     "start_time": "2023-12-13T18:14:43.406888451Z"
    }
   },
   "id": "621e2265ae79b1ae"
  },
  {
   "cell_type": "code",
   "execution_count": 23,
   "outputs": [],
   "source": [],
   "metadata": {
    "collapsed": false,
    "ExecuteTime": {
     "end_time": "2023-12-13T18:14:44.049377406Z",
     "start_time": "2023-12-13T18:14:43.669286904Z"
    }
   },
   "id": "b14d8f567177151d"
  },
  {
   "cell_type": "markdown",
   "source": [
    "## Calculate the model asynchronously with celery"
   ],
   "metadata": {
    "collapsed": false
   },
   "id": "42d948d145a8457a"
  },
  {
   "cell_type": "code",
   "execution_count": 24,
   "outputs": [
    {
     "data": {
      "text/plain": "Mf2005CalculationEngineSettings(packages=PackageData(oc=OcPackageData(ihedfm=0, iddnfm=0, chedfm=None, cddnfm=None, cboufm=None, compact=True, stress_period_data=None, extension=['oc', 'hds', 'ddn', 'cbc', 'ibo'], unitnumber=None, filenames=None, label='OC'), flow_package=FlowPackage(type='lpf'), solver_package=SolverPackageData(type='pcg', data=PcgPackageData(mxiter=50, iter1=30, npcond=1, hclose=1e-05, rclose=1e-05, relax=1.0, nbpol=0, iprpcg=0, mutpcg=3, damp=1.0, dampt=1.0, ihcofadd=0, extension='pcg', unitnumber=None, filenames=None))))"
     },
     "execution_count": 24,
     "metadata": {},
     "output_type": "execute_result"
    }
   ],
   "source": [
    "from morpheus.modflow.infrastructure.calculation.modflow_2005.Mf2005CalculationEngineSettings import \\\n",
    "  Mf2005CalculationEngineSettings\n",
    "\n",
    "calculation_engine_setting = Mf2005CalculationEngineSettings.default()\n",
    "calculation_engine_setting"
   ],
   "metadata": {
    "collapsed": false,
    "ExecuteTime": {
     "end_time": "2023-12-13T18:14:44.407336361Z",
     "start_time": "2023-12-13T18:14:44.039241304Z"
    }
   },
   "id": "56ccabee86e2397e"
  },
  {
   "cell_type": "markdown",
   "source": [],
   "metadata": {
    "collapsed": false
   },
   "id": "8a683bd5250a3ee6"
  },
  {
   "cell_type": "code",
   "execution_count": 25,
   "outputs": [
    {
     "data": {
      "text/plain": "CalculationId(value='7299ee12-1b1c-49bd-9c9b-a90f25ac4d23')"
     },
     "execution_count": 25,
     "metadata": {},
     "output_type": "execute_result"
    }
   ],
   "source": [
    "from morpheus.modflow.infrastructure.persistence.CalculationRepository import calculation_repository\n",
    "from morpheus.modflow.types.calculation.CalculationProfile import CalculationProfile, CalculationEngineType\n",
    "from morpheus.modflow.types.calculation.Calculation import Calculation\n",
    "\n",
    "calculation = Calculation.new(\n",
    "  modflow_model=modflow_model, \n",
    "  calculation_profile=CalculationProfile.new(CalculationEngineType.MF2005, calculation_engine_setting.to_dict())\n",
    ")\n",
    "calculation_repository.save_calculation(calculation)\n",
    "calculation.calculation_id"
   ],
   "metadata": {
    "collapsed": false,
    "ExecuteTime": {
     "end_time": "2023-12-13T18:14:44.482038482Z",
     "start_time": "2023-12-13T18:14:44.240644135Z"
    }
   },
   "id": "3ac7674d3452041"
  },
  {
   "cell_type": "code",
   "execution_count": 26,
   "outputs": [
    {
     "data": {
      "text/plain": "{'id': '8ee3c788-93c1-4fd3-b844-f72ae3323f91', 'state': 'PENDING'}"
     },
     "execution_count": 26,
     "metadata": {},
     "output_type": "execute_result"
    }
   ],
   "source": [
    "from morpheus.modflow.tasks import run_calculation_by_id\n",
    "\n",
    "result = run_calculation_by_id.delay(calculation.calculation_id.to_str())\n",
    "result_state = result.state\n",
    "result_id = result.id\n",
    "{'id': result_id, 'state': result_state}"
   ],
   "metadata": {
    "collapsed": false,
    "ExecuteTime": {
     "end_time": "2023-12-13T18:14:44.643390394Z",
     "start_time": "2023-12-13T18:14:44.457483335Z"
    }
   },
   "id": "672007fb90753c4c"
  },
  {
   "cell_type": "code",
   "execution_count": 27,
   "outputs": [
    {
     "data": {
      "text/plain": "{'id': '8ee3c788-93c1-4fd3-b844-f72ae3323f91',\n 'state': 'PENDING',\n 'ready': False,\n 'successful': False,\n 'value': None}"
     },
     "execution_count": 27,
     "metadata": {},
     "output_type": "execute_result"
    }
   ],
   "source": [
    "from celery.result import AsyncResult\n",
    "\n",
    "result = AsyncResult(id=result_id)\n",
    "{\n",
    "  'id': result.id,\n",
    "  'state': result.state,\n",
    "  'ready': result.ready(),\n",
    "  'successful': result.successful(),\n",
    "  'value': result.result if result.ready() else None,\n",
    "}"
   ],
   "metadata": {
    "collapsed": false,
    "ExecuteTime": {
     "end_time": "2023-12-13T18:14:44.758023596Z",
     "start_time": "2023-12-13T18:14:44.613698206Z"
    }
   },
   "id": "79cdf465cd748bb7"
  },
  {
   "cell_type": "code",
   "execution_count": 28,
   "outputs": [
    {
     "data": {
      "text/plain": "Calculation(calculation_id=CalculationId(value='7299ee12-1b1c-49bd-9c9b-a90f25ac4d23'), modflow_model=ModflowModel(model_id=ModelId(value='6130c292-adac-4213-b36b-3f43b72cd28f'), spatial_discretization=SpatialDiscretization(geometry=Polygon(coordinates=[[[13.922514437551428, 50.964720483303836], [13.925250781947113, 50.965228748412386], [13.925036413951403, 50.96623732041704], [13.92222441026388, 50.96629040370362], [13.922514437551428, 50.964720483303836]]], type='Polygon'), grid=Grid(origin=Point(coordinates=[13.922224410263878, 50.9662904037036], type='Point'), x_distances=[33.68941547288559, 33.68941547288559, 33.6894154728856, 33.689415472885585, 33.6894154728856, 33.6894154728856, 33.68941547288557, 33.6894154728856, 33.68941547288563, 33.68941547288557], y_distances=[27.749448566045615, 27.749448566045615, 27.7494485660456, 27.74944856604563, 27.7494485660456, 27.7494485660456, 27.7494485660456, 27.749448566045658, 27.7494485660456, 27.7494485660456], rotation=Rotation(value=0), length_unit=LengthUnit(unit=2)), affected_cells=GridCells(shape=[10, 10], data=[GridCell(x=0, y=0, value=True), GridCell(x=0, y=1, value=True), GridCell(x=0, y=2, value=True), GridCell(x=0, y=3, value=True), GridCell(x=0, y=4, value=True), GridCell(x=1, y=0, value=True), GridCell(x=1, y=1, value=True), GridCell(x=1, y=2, value=True), GridCell(x=1, y=3, value=True), GridCell(x=1, y=4, value=True), GridCell(x=1, y=5, value=True), GridCell(x=1, y=6, value=True), GridCell(x=1, y=7, value=True), GridCell(x=1, y=8, value=True), GridCell(x=1, y=9, value=True), GridCell(x=2, y=0, value=True), GridCell(x=2, y=1, value=True), GridCell(x=2, y=2, value=True), GridCell(x=2, y=3, value=True), GridCell(x=2, y=4, value=True), GridCell(x=2, y=5, value=True), GridCell(x=2, y=6, value=True), GridCell(x=2, y=7, value=True), GridCell(x=2, y=8, value=True), GridCell(x=3, y=0, value=True), GridCell(x=3, y=1, value=True), GridCell(x=3, y=2, value=True), GridCell(x=3, y=3, value=True), GridCell(x=3, y=4, value=True), GridCell(x=3, y=5, value=True), GridCell(x=3, y=6, value=True), GridCell(x=3, y=7, value=True), GridCell(x=3, y=8, value=True), GridCell(x=4, y=0, value=True), GridCell(x=4, y=1, value=True), GridCell(x=4, y=2, value=True), GridCell(x=4, y=3, value=True), GridCell(x=4, y=4, value=True), GridCell(x=4, y=5, value=True), GridCell(x=4, y=6, value=True), GridCell(x=4, y=7, value=True), GridCell(x=4, y=8, value=True), GridCell(x=5, y=0, value=True), GridCell(x=5, y=1, value=True), GridCell(x=5, y=2, value=True), GridCell(x=5, y=3, value=True), GridCell(x=5, y=4, value=True), GridCell(x=5, y=5, value=True), GridCell(x=5, y=6, value=True), GridCell(x=5, y=7, value=True), GridCell(x=6, y=0, value=True), GridCell(x=6, y=1, value=True), GridCell(x=6, y=2, value=True), GridCell(x=6, y=3, value=True), GridCell(x=6, y=4, value=True), GridCell(x=6, y=5, value=True), GridCell(x=6, y=6, value=True), GridCell(x=6, y=7, value=True), GridCell(x=7, y=0, value=True), GridCell(x=7, y=1, value=True), GridCell(x=7, y=2, value=True), GridCell(x=7, y=3, value=True), GridCell(x=7, y=4, value=True), GridCell(x=7, y=5, value=True), GridCell(x=7, y=6, value=True), GridCell(x=7, y=7, value=True), GridCell(x=8, y=0, value=True), GridCell(x=8, y=1, value=True), GridCell(x=8, y=2, value=True), GridCell(x=8, y=3, value=True), GridCell(x=8, y=4, value=True), GridCell(x=8, y=5, value=True), GridCell(x=8, y=6, value=True), GridCell(x=9, y=2, value=True), GridCell(x=9, y=3, value=True), GridCell(x=9, y=4, value=True), GridCell(x=9, y=5, value=True), GridCell(x=9, y=6, value=True)], cell_geometries=[]), crs=Crs(value='EPSG:4326')), time_discretization=TimeDiscretization(start_date_time=StartDateTime(value=datetime.datetime(2020, 1, 1, 0, 0)), end_date_time=EndDateTime(value=datetime.datetime(2020, 12, 31, 0, 0)), stress_periods=StressPeriodCollection(values=[StressPeriod(start_date_time=StartDateTime(value=datetime.datetime(2020, 1, 1, 0, 0)), number_of_time_steps=NumberOfTimeSteps(value=1), time_step_multiplier=TimeStepMultiplier(value=1), steady_state=IsSteadyState(value=True))]), time_unit=TimeUnit(unit=4)), boundaries=BoundaryCollection(boundaries=[ConstantHeadBoundary(boundary_id=BoundaryId(value='bdddd752-8919-4256-8179-235d10561034'), type=BoundaryType(type='constant_head'), name=BoundaryName(value='constant_head'), geometry=LineString(coordinates=[[13.9223, 50.9662], [13.925, 50.96615]], type='LineString'), affected_cells=GridCells(shape=[10, 10], data=[GridCell(x=0, y=0, value=True), GridCell(x=1, y=0, value=True), GridCell(x=2, y=0, value=True), GridCell(x=3, y=0, value=True), GridCell(x=4, y=0, value=True), GridCell(x=5, y=0, value=True), GridCell(x=6, y=0, value=True), GridCell(x=7, y=0, value=True), GridCell(x=8, y=0, value=True)], cell_geometries=[]), affected_layers=[LayerId(value='c06a5c26-904e-420d-b6c3-3f2c8dd4d760')], observations=[ConstantHeadObservation(observation_id=ObservationId(value='7342a7bb-2c4b-4568-9b8a-922dd699ea6f'), geometry=Point(coordinates=[13.9223, 50.9662], type='Point'), raw_data=[ConstantHeadRawDataItem(date_time=StartDateTime(value=datetime.datetime(2019, 1, 1, 0, 0)), head=HeadValue(value=100)), ConstantHeadRawDataItem(date_time=StartDateTime(value=datetime.datetime(2021, 12, 31, 0, 0)), head=HeadValue(value=100))])], enabled=True)]), soil_model=SoilModel(layers=[Layer(id=LayerId(value='c06a5c26-904e-420d-b6c3-3f2c8dd4d760'), name=LayerName(value='Default'), description=LayerDescription(value='Default'), type=LayerType(type='confined'), data=LayerData(kx=1, ky=1, kz=1, porosity=0.1, specific_storage=0.0001, specific_yield=0.1, initial_head=1.0, top=1, bottom=0))])), calculation_profile=CalculationProfile(calculation_engine_type=<CalculationEngineType.MF2005: 'mf2005'>, calculation_engine_settings={'packages': {'oc': {'ihedfm': 0, 'iddnfm': 0, 'chedfm': None, 'cddnfm': None, 'cboufm': None, 'compact': True, 'stress_period_data': None, 'extension': ['oc', 'hds', 'ddn', 'cbc', 'ibo'], 'unitnumber': None, 'filenames': None, 'label': 'OC'}, 'flow_package': 'lpf', 'solver_package': {'type': 'pcg', 'data': {'mxiter': 50, 'iter1': 30, 'npcond': 1, 'hclose': 1e-05, 'rclose': 1e-05, 'relax': 1.0, 'nbpol': 0, 'iprpcg': 0, 'mutpcg': 3, 'damp': 1.0, 'dampt': 1.0, 'ihcofadd': 0, 'extension': 'pcg', 'unitnumber': None, 'filenames': None}}}}), calculation_lifecycle=[<CalculationState.CREATED: 'created'>, <CalculationState.PREPROCESSING: 'preprocessing'>, <CalculationState.RUNNING: 'running'>, <CalculationState.FINISHED: 'finished'>], calculation_state=<CalculationState.FINISHED: 'finished'>, calculation_log=CalculationLog(log=['', '                                  MODFLOW-2005     ', '    U.S. GEOLOGICAL SURVEY MODULAR FINITE-DIFFERENCE GROUND-WATER FLOW MODEL', '                             Version 1.12.00 2/3/2017                        ', '', ' Using NAME file: 6130c292-adac-4213-b36b-3f43b72cd28f.nam ', ' Run start date and time (yyyy/mm/dd hh:mm:ss): 2023/12/13 19:14:44', '', ' Solving:  Stress period:     1    Time step:     1    Ground-Water Flow Eqn.', ' Run end date and time (yyyy/mm/dd hh:mm:ss): 2023/12/13 19:14:44', ' Elapsed run time:  0.002 Seconds', '', '  Normal termination of simulation']), calculation_result=CalculationResult(type=<CalculationResultType.SUCCESS: 'success'>, message='', files=['6130c292-adac-4213-b36b-3f43b72cd28f.hds', '6130c292-adac-4213-b36b-3f43b72cd28f.pcg', '6130c292-adac-4213-b36b-3f43b72cd28f.oc', '6130c292-adac-4213-b36b-3f43b72cd28f.dis', '6130c292-adac-4213-b36b-3f43b72cd28f.bas', '6130c292-adac-4213-b36b-3f43b72cd28f.list', '6130c292-adac-4213-b36b-3f43b72cd28f.nam', '6130c292-adac-4213-b36b-3f43b72cd28f.chd', '6130c292-adac-4213-b36b-3f43b72cd28f.lpf'], head_results=None, drawdown_results=None, budget_results=AvailableResults(times=[365.0], kstpkper=[[0, 0]], number_of_layers=0), concentration_results=None))"
     },
     "execution_count": 28,
     "metadata": {},
     "output_type": "execute_result"
    }
   ],
   "source": [
    "calculation = calculation_repository.get_calculation(calculation.calculation_id)\n",
    "calculation"
   ],
   "metadata": {
    "collapsed": false,
    "ExecuteTime": {
     "end_time": "2023-12-13T18:14:44.857329987Z",
     "start_time": "2023-12-13T18:14:44.690968570Z"
    }
   },
   "id": "e57747c5eec94970"
  },
  {
   "cell_type": "code",
   "execution_count": 29,
   "outputs": [
    {
     "data": {
      "text/plain": "<CalculationState.FINISHED: 'finished'>"
     },
     "execution_count": 29,
     "metadata": {},
     "output_type": "execute_result"
    }
   ],
   "source": [
    "calculation.calculation_state"
   ],
   "metadata": {
    "collapsed": false,
    "ExecuteTime": {
     "end_time": "2023-12-13T18:14:45.046817617Z",
     "start_time": "2023-12-13T18:14:44.812767378Z"
    }
   },
   "id": "d04c548bbc8b4da9"
  },
  {
   "cell_type": "code",
   "execution_count": 30,
   "outputs": [
    {
     "data": {
      "text/plain": "CalculationLog(log=['', '                                  MODFLOW-2005     ', '    U.S. GEOLOGICAL SURVEY MODULAR FINITE-DIFFERENCE GROUND-WATER FLOW MODEL', '                             Version 1.12.00 2/3/2017                        ', '', ' Using NAME file: 6130c292-adac-4213-b36b-3f43b72cd28f.nam ', ' Run start date and time (yyyy/mm/dd hh:mm:ss): 2023/12/13 19:14:44', '', ' Solving:  Stress period:     1    Time step:     1    Ground-Water Flow Eqn.', ' Run end date and time (yyyy/mm/dd hh:mm:ss): 2023/12/13 19:14:44', ' Elapsed run time:  0.002 Seconds', '', '  Normal termination of simulation'])"
     },
     "execution_count": 30,
     "metadata": {},
     "output_type": "execute_result"
    }
   ],
   "source": [
    "calculation.calculation_log"
   ],
   "metadata": {
    "collapsed": false,
    "ExecuteTime": {
     "end_time": "2023-12-13T18:14:45.096713729Z",
     "start_time": "2023-12-13T18:14:44.984855754Z"
    }
   },
   "id": "48aa27656bc029d"
  },
  {
   "cell_type": "code",
   "execution_count": 31,
   "outputs": [
    {
     "data": {
      "text/plain": "CalculationResult(type=<CalculationResultType.SUCCESS: 'success'>, message='', files=['6130c292-adac-4213-b36b-3f43b72cd28f.hds', '6130c292-adac-4213-b36b-3f43b72cd28f.pcg', '6130c292-adac-4213-b36b-3f43b72cd28f.oc', '6130c292-adac-4213-b36b-3f43b72cd28f.dis', '6130c292-adac-4213-b36b-3f43b72cd28f.bas', '6130c292-adac-4213-b36b-3f43b72cd28f.list', '6130c292-adac-4213-b36b-3f43b72cd28f.nam', '6130c292-adac-4213-b36b-3f43b72cd28f.chd', '6130c292-adac-4213-b36b-3f43b72cd28f.lpf'], head_results=None, drawdown_results=None, budget_results=AvailableResults(times=[365.0], kstpkper=[[0, 0]], number_of_layers=0), concentration_results=None)"
     },
     "execution_count": 31,
     "metadata": {},
     "output_type": "execute_result"
    }
   ],
   "source": [
    "calculation.calculation_result"
   ],
   "metadata": {
    "collapsed": false,
    "ExecuteTime": {
     "end_time": "2023-12-13T18:16:27.266792599Z",
     "start_time": "2023-12-13T18:16:27.225806623Z"
    }
   },
   "id": "45af3e7702e1383e"
  },
  {
   "cell_type": "code",
   "execution_count": null,
   "outputs": [],
   "source": [],
   "metadata": {
    "collapsed": false
   },
   "id": "60621c4572e10f40"
  }
 ],
 "metadata": {
  "kernelspec": {
   "display_name": "Python 3",
   "language": "python",
   "name": "python3"
  },
  "language_info": {
   "codemirror_mode": {
    "name": "ipython",
    "version": 2
   },
   "file_extension": ".py",
   "mimetype": "text/x-python",
   "name": "python",
   "nbconvert_exporter": "python",
   "pygments_lexer": "ipython2",
   "version": "2.7.6"
  }
 },
 "nbformat": 4,
 "nbformat_minor": 5
}
