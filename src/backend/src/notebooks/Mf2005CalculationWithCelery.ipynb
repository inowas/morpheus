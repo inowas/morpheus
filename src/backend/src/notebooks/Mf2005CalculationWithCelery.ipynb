{
 "cells": [
  {
   "cell_type": "code",
   "execution_count": 1,
   "id": "ba6761fae9d5e5cb",
   "metadata": {
    "ExecuteTime": {
     "end_time": "2024-03-22T09:01:15.311879Z",
     "start_time": "2024-03-22T09:01:15.308659Z"
    },
    "collapsed": false,
    "execution": {
     "iopub.execute_input": "2024-05-15T15:59:59.916049Z",
     "iopub.status.busy": "2024-05-15T15:59:59.915644Z",
     "iopub.status.idle": "2024-05-15T15:59:59.921214Z",
     "shell.execute_reply": "2024-05-15T15:59:59.920440Z"
    },
    "papermill": {
     "duration": 0.01509,
     "end_time": "2024-05-15T15:59:59.922739",
     "exception": false,
     "start_time": "2024-05-15T15:59:59.907649",
     "status": "completed"
    },
    "tags": []
   },
   "source": [
    "import sys\n",
    "\n",
    "sys.path.insert(0, '..')"
   ],
   "outputs": []
  },
  {
   "cell_type": "markdown",
   "id": "5ede1ba5e0993dd1",
   "metadata": {
    "collapsed": false,
    "papermill": {
     "duration": 0.004017,
     "end_time": "2024-05-15T15:59:59.931231",
     "exception": false,
     "start_time": "2024-05-15T15:59:59.927214",
     "status": "completed"
    },
    "tags": []
   },
   "source": [
    "## Setup the model area"
   ]
  },
  {
   "cell_type": "code",
   "execution_count": 2,
   "id": "2f69504ab35487aa",
   "metadata": {
    "ExecuteTime": {
     "end_time": "2024-03-22T09:01:15.423061Z",
     "start_time": "2024-03-22T09:01:15.373560Z"
    },
    "collapsed": false,
    "execution": {
     "iopub.execute_input": "2024-05-15T15:59:59.940263Z",
     "iopub.status.busy": "2024-05-15T15:59:59.939887Z",
     "iopub.status.idle": "2024-05-15T16:00:00.076869Z",
     "shell.execute_reply": "2024-05-15T16:00:00.073676Z"
    },
    "papermill": {
     "duration": 0.148628,
     "end_time": "2024-05-15T16:00:00.083799",
     "exception": false,
     "start_time": "2024-05-15T15:59:59.935171",
     "status": "completed"
    },
    "tags": []
   },
   "source": [
    "from morpheus.project.types.discretization.spatial import ActiveCells\n",
    "from morpheus.project.types.discretization import SpatialDiscretization\n",
    "from morpheus.project.types.discretization.spatial import Rotation, LengthUnit, Grid, Crs\n",
    "from morpheus.project.types.geometry import Polygon, LineString\n",
    "\n",
    "polygon = Polygon(\n",
    "  type='Polygon',\n",
    "  coordinates=[[\n",
    "    (13.922514437551428, 50.964720483303836),\n",
    "    (13.925250781947113, 50.965228748412386),\n",
    "    (13.925036413951403, 50.96623732041704),\n",
    "    (13.92222441026388, 50.96629040370362),\n",
    "    (13.922514437551428, 50.964720483303836)\n",
    "  ]]\n",
    ")\n",
    "\n",
    "rotation = Rotation(0)\n",
    "length_unit = LengthUnit.meters()\n",
    "relative_col_coordinates = [0, 0.1, 0.2, 0.3, 0.4, 0.5, 0.6, 0.7, 0.8, 0.9, 1]\n",
    "relative_row_coordinates = [0, 0.1, 0.2, 0.3, 0.4, 0.5, 0.6, 0.7, 0.8, 0.9, 1]\n",
    "\n",
    "grid = Grid.from_polygon_with_relative_coordinates(\n",
    "  polygon=polygon,\n",
    "  relative_col_coordinates=relative_col_coordinates,\n",
    "  relative_row_coordinates=relative_row_coordinates,\n",
    "  rotation=rotation,\n",
    ")\n",
    "\n",
    "spatial_discretization = SpatialDiscretization(\n",
    "  geometry=polygon,\n",
    "  grid=grid,\n",
    "  affected_cells=ActiveCells.from_polygon(polygon=polygon, grid=grid),\n",
    "  crs=Crs.from_str('EPSG:4326')\n",
    ")\n",
    "\n",
    "spatial_discretization\n",
    "\n"
   ],
   "outputs": []
  },
  {
   "cell_type": "markdown",
   "id": "fa27e67f9d801845",
   "metadata": {
    "collapsed": false,
    "papermill": {
     "duration": 0.014144,
     "end_time": "2024-05-15T16:00:00.105160",
     "exception": false,
     "start_time": "2024-05-15T16:00:00.091016",
     "status": "completed"
    },
    "tags": []
   },
   "source": [
    "## Setup Time Discretization"
   ]
  },
  {
   "cell_type": "code",
   "execution_count": 3,
   "id": "8e4e63dd138db9fc",
   "metadata": {
    "ExecuteTime": {
     "end_time": "2024-03-22T09:01:15.430368Z",
     "start_time": "2024-03-22T09:01:15.424517Z"
    },
    "collapsed": false,
    "execution": {
     "iopub.execute_input": "2024-05-15T16:00:00.121595Z",
     "iopub.status.busy": "2024-05-15T16:00:00.118684Z",
     "iopub.status.idle": "2024-05-15T16:00:00.153097Z",
     "shell.execute_reply": "2024-05-15T16:00:00.149837Z"
    },
    "papermill": {
     "duration": 0.050641,
     "end_time": "2024-05-15T16:00:00.162103",
     "exception": false,
     "start_time": "2024-05-15T16:00:00.111462",
     "status": "completed"
    },
    "tags": []
   },
   "source": [
    "from morpheus.project.types.discretization.time.TimeUnit import TimeUnit\n",
    "from morpheus.project.types.discretization.time.Stressperiods import StartDateTime, StressPeriodCollection, \\\n",
    "  StressPeriod, NumberOfTimeSteps, TimeStepMultiplier, IsSteadyState\n",
    "from morpheus.project.types.discretization.time import TimeDiscretization\n",
    "from datetime import datetime\n",
    "\n",
    "time_discretization = TimeDiscretization(\n",
    "  start_date_time=StartDateTime.from_datetime(datetime(2020, 1, 1)),\n",
    "  end_date_time=StartDateTime.from_datetime(datetime(2020, 12, 31)),\n",
    "  stress_periods=StressPeriodCollection([\n",
    "    StressPeriod(\n",
    "      start_date_time=StartDateTime.from_datetime(datetime(2020, 1, 1)),\n",
    "      number_of_time_steps=NumberOfTimeSteps(1),\n",
    "      time_step_multiplier=TimeStepMultiplier(1),\n",
    "      steady_state=IsSteadyState.yes()\n",
    "    ),\n",
    "  ]),\n",
    "  time_unit=TimeUnit.days()\n",
    ")\n",
    "\n",
    "time_discretization"
   ],
   "outputs": []
  },
  {
   "cell_type": "markdown",
   "id": "963ba8729f09fcec",
   "metadata": {
    "collapsed": false,
    "papermill": {
     "duration": 0.002596,
     "end_time": "2024-05-15T16:00:00.171025",
     "exception": false,
     "start_time": "2024-05-15T16:00:00.168429",
     "status": "completed"
    },
    "tags": []
   },
   "source": [
    "# Setup Model"
   ]
  },
  {
   "cell_type": "code",
   "execution_count": 4,
   "id": "1d5c9125b1b9360b",
   "metadata": {
    "ExecuteTime": {
     "end_time": "2024-03-22T09:01:15.451511Z",
     "start_time": "2024-03-22T09:01:15.431803Z"
    },
    "collapsed": false,
    "execution": {
     "iopub.execute_input": "2024-05-15T16:00:00.186077Z",
     "iopub.status.busy": "2024-05-15T16:00:00.184849Z",
     "iopub.status.idle": "2024-05-15T16:00:00.583424Z",
     "shell.execute_reply": "2024-05-15T16:00:00.583077Z"
    },
    "papermill": {
     "duration": 0.406227,
     "end_time": "2024-05-15T16:00:00.584461",
     "exception": false,
     "start_time": "2024-05-15T16:00:00.178234",
     "status": "completed"
    },
    "tags": []
   },
   "source": [
    "from morpheus.project.types.Model import Model\n",
    "\n",
    "model = Model.new()\n",
    "model = model.with_updated_time_discretization(time_discretization)\n",
    "model = model.with_updated_spatial_discretization(spatial_discretization=spatial_discretization)"
   ],
   "outputs": []
  },
  {
   "cell_type": "code",
   "execution_count": 5,
   "id": "1540b870ae83f298",
   "metadata": {
    "ExecuteTime": {
     "end_time": "2024-03-22T09:01:15.467902Z",
     "start_time": "2024-03-22T09:01:15.453514Z"
    },
    "collapsed": false,
    "execution": {
     "iopub.execute_input": "2024-05-15T16:00:00.590259Z",
     "iopub.status.busy": "2024-05-15T16:00:00.590052Z",
     "iopub.status.idle": "2024-05-15T16:00:00.710548Z",
     "shell.execute_reply": "2024-05-15T16:00:00.710290Z"
    },
    "papermill": {
     "duration": 0.123876,
     "end_time": "2024-05-15T16:00:00.711468",
     "exception": false,
     "start_time": "2024-05-15T16:00:00.587592",
     "status": "completed"
    },
    "tags": []
   },
   "source": [
    "import folium\n",
    "\n",
    "m = folium.Map(tiles=\"cartodbpositron\", crs=\"EPSG3857\", zoom_start=12, location=[50.965, 13.922])\n",
    "m.add_child(folium.GeoJson(polygon.as_geojson()))\n",
    "\n",
    "m.fit_bounds(m.get_bounds())\n",
    "m"
   ],
   "outputs": []
  },
  {
   "cell_type": "markdown",
   "id": "62ae3587df801000",
   "metadata": {
    "collapsed": false,
    "papermill": {
     "duration": 0.001943,
     "end_time": "2024-05-15T16:00:00.715630",
     "exception": false,
     "start_time": "2024-05-15T16:00:00.713687",
     "status": "completed"
    },
    "tags": []
   },
   "source": [
    "# Setup constant head boundary with 1 observation"
   ]
  },
  {
   "cell_type": "code",
   "execution_count": 6,
   "id": "53679913aee28ce9",
   "metadata": {
    "ExecuteTime": {
     "end_time": "2024-03-22T09:01:15.550883Z",
     "start_time": "2024-03-22T09:01:15.469466Z"
    },
    "collapsed": false,
    "execution": {
     "iopub.execute_input": "2024-05-15T16:00:00.720056Z",
     "iopub.status.busy": "2024-05-15T16:00:00.719883Z",
     "iopub.status.idle": "2024-05-15T16:00:00.741399Z",
     "shell.execute_reply": "2024-05-15T16:00:00.740943Z"
    },
    "papermill": {
     "duration": 0.024803,
     "end_time": "2024-05-15T16:00:00.742305",
     "exception": false,
     "start_time": "2024-05-15T16:00:00.717502",
     "status": "completed"
    },
    "tags": []
   },
   "source": [
    "from morpheus.project.types.boundaries.Observation import ObservationId, ObservationName\n",
    "from morpheus.project.types.geometry import Point\n",
    "from morpheus.project.types.boundaries.Boundary import BoundaryName, ConstantHeadBoundary\n",
    "from morpheus.project.types.layers import LayerId\n",
    "from morpheus.project.types.boundaries.ConstantHeadObservation import ConstantHeadObservation, ConstantHeadRawDataItem, \\\n",
    "  HeadValue\n",
    "\n",
    "layers_list = [LayerId.new()]\n",
    "constant_head = ConstantHeadBoundary.from_geometry(\n",
    "  name=BoundaryName('constant_head'),\n",
    "  geometry=LineString([\n",
    "    (13.9223, 50.9662),\n",
    "    (13.9250, 50.96615),\n",
    "  ]),\n",
    "  grid=grid,\n",
    "  affected_layers=[model.layers[0].layer_id],\n",
    "  observations=[\n",
    "    ConstantHeadObservation(\n",
    "      observation_id=ObservationId.new(),\n",
    "      observation_name=ObservationName.default(),\n",
    "      geometry=Point((13.9223, 50.9662)),\n",
    "      data=[\n",
    "        ConstantHeadRawDataItem(\n",
    "          date_time=StartDateTime.from_datetime(datetime(2019, 1, 1)),\n",
    "          head=HeadValue.from_float(100),\n",
    "        ),\n",
    "        ConstantHeadRawDataItem(\n",
    "          date_time=StartDateTime.from_datetime(datetime(2021, 12, 31)),\n",
    "          head=HeadValue.from_float(100),\n",
    "        ),\n",
    "      ]\n",
    "    )\n",
    "  ]\n",
    ")\n",
    "\n",
    "m.add_child(folium.GeoJson(constant_head.as_geojson()))\n",
    "m.add_child(folium.GeoJson(constant_head.affected_cells.to_geojson(grid).as_geojson()))\n",
    "for constant_head.observation in constant_head.observations:\n",
    "  m.add_child(folium.GeoJson(constant_head.observation.as_geojson()))\n",
    "m.fit_bounds(m.get_bounds())\n",
    "m"
   ],
   "outputs": []
  },
  {
   "cell_type": "code",
   "execution_count": 7,
   "id": "621e2265ae79b1ae",
   "metadata": {
    "ExecuteTime": {
     "end_time": "2024-03-22T09:01:15.556229Z",
     "start_time": "2024-03-22T09:01:15.552837Z"
    },
    "collapsed": false,
    "execution": {
     "iopub.execute_input": "2024-05-15T16:00:00.747561Z",
     "iopub.status.busy": "2024-05-15T16:00:00.747418Z",
     "iopub.status.idle": "2024-05-15T16:00:00.749534Z",
     "shell.execute_reply": "2024-05-15T16:00:00.749278Z"
    },
    "papermill": {
     "duration": 0.005768,
     "end_time": "2024-05-15T16:00:00.750401",
     "exception": false,
     "start_time": "2024-05-15T16:00:00.744633",
     "status": "completed"
    },
    "tags": []
   },
   "source": [
    "from morpheus.project.types.boundaries.Boundary import BoundaryCollection\n",
    "\n",
    "boundaries = BoundaryCollection.new()\n",
    "boundaries.add_boundary(constant_head)\n",
    "model = model.with_updated_boundaries(boundaries=boundaries)"
   ],
   "outputs": []
  },
  {
   "cell_type": "code",
   "execution_count": null,
   "id": "b14d8f567177151d",
   "metadata": {
    "ExecuteTime": {
     "end_time": "2024-03-22T09:01:15.560062Z",
     "start_time": "2024-03-22T09:01:15.557586Z"
    },
    "collapsed": false,
    "papermill": {
     "duration": 0.002217,
     "end_time": "2024-05-15T16:00:00.755018",
     "exception": false,
     "start_time": "2024-05-15T16:00:00.752801",
     "status": "completed"
    },
    "tags": []
   },
   "source": [],
   "outputs": []
  },
  {
   "cell_type": "markdown",
   "id": "42d948d145a8457a",
   "metadata": {
    "collapsed": false,
    "papermill": {
     "duration": 0.004824,
     "end_time": "2024-05-15T16:00:00.770768",
     "exception": false,
     "start_time": "2024-05-15T16:00:00.765944",
     "status": "completed"
    },
    "tags": []
   },
   "source": [
    "## Calculate the model asynchronously with celery"
   ]
  },
  {
   "cell_type": "code",
   "execution_count": 8,
   "id": "56ccabee86e2397e",
   "metadata": {
    "ExecuteTime": {
     "end_time": "2024-03-22T09:01:15.569482Z",
     "start_time": "2024-03-22T09:01:15.562810Z"
    },
    "collapsed": false,
    "execution": {
     "iopub.execute_input": "2024-05-15T16:00:00.778424Z",
     "iopub.status.busy": "2024-05-15T16:00:00.778084Z",
     "iopub.status.idle": "2024-05-15T16:00:01.053577Z",
     "shell.execute_reply": "2024-05-15T16:00:01.053345Z"
    },
    "papermill": {
     "duration": 0.280817,
     "end_time": "2024-05-15T16:00:01.054400",
     "exception": false,
     "start_time": "2024-05-15T16:00:00.773583",
     "status": "completed"
    },
    "tags": []
   },
   "source": [
    "\n",
    "from morpheus.project.infrastructure.calculation.engines.modflow_2005.types.Mf2005CalculationEngineSettings import \\\n",
    "  Mf2005CalculationEngineSettings\n",
    "\n",
    "calculation_engine_setting = Mf2005CalculationEngineSettings.default()\n",
    "calculation_engine_setting"
   ],
   "outputs": []
  },
  {
   "cell_type": "markdown",
   "id": "8a683bd5250a3ee6",
   "metadata": {
    "collapsed": false,
    "papermill": {
     "duration": 0.002076,
     "end_time": "2024-05-15T16:00:01.058795",
     "exception": false,
     "start_time": "2024-05-15T16:00:01.056719",
     "status": "completed"
    },
    "tags": []
   },
   "source": []
  },
  {
   "cell_type": "code",
   "execution_count": 9,
   "id": "3ac7674d3452041",
   "metadata": {
    "ExecuteTime": {
     "end_time": "2024-03-22T09:01:15.582771Z",
     "start_time": "2024-03-22T09:01:15.572321Z"
    },
    "collapsed": false,
    "execution": {
     "iopub.execute_input": "2024-05-15T16:00:01.063509Z",
     "iopub.status.busy": "2024-05-15T16:00:01.063355Z",
     "iopub.status.idle": "2024-05-15T16:00:01.416349Z",
     "shell.execute_reply": "2024-05-15T16:00:01.416076Z"
    },
    "papermill": {
     "duration": 0.356442,
     "end_time": "2024-05-15T16:00:01.417349",
     "exception": false,
     "start_time": "2024-05-15T16:00:01.060907",
     "status": "completed"
    },
    "tags": []
   },
   "source": [
    "from morpheus.project.infrastructure.persistence.CalculationRepository import calculation_repository\n",
    "from morpheus.project.types.calculation.CalculationProfile import CalculationProfile, CalculationEngineType\n",
    "from morpheus.project.types.calculation.Calculation import Calculation\n",
    "\n",
    "calculation = Calculation.new(\n",
    "  model=model,\n",
    "  calculation_profile=CalculationProfile.new(CalculationEngineType.MF2005)\n",
    ")\n",
    "calculation_repository.save_calculation(calculation)\n",
    "calculation.calculation_id"
   ],
   "outputs": []
  },
  {
   "cell_type": "code",
   "execution_count": 10,
   "id": "672007fb90753c4c",
   "metadata": {
    "ExecuteTime": {
     "end_time": "2024-03-22T09:01:15.596061Z",
     "start_time": "2024-03-22T09:01:15.584428Z"
    },
    "collapsed": false,
    "execution": {
     "iopub.execute_input": "2024-05-15T16:00:01.423870Z",
     "iopub.status.busy": "2024-05-15T16:00:01.423666Z",
     "iopub.status.idle": "2024-05-15T16:00:01.533995Z",
     "shell.execute_reply": "2024-05-15T16:00:01.533732Z"
    },
    "papermill": {
     "duration": 0.114253,
     "end_time": "2024-05-15T16:00:01.534922",
     "exception": false,
     "start_time": "2024-05-15T16:00:01.420669",
     "status": "completed"
    },
    "tags": []
   },
   "source": [
    "from morpheus.project.tasks import run_calculation_by_id\n",
    "\n",
    "result = run_calculation_by_id.delay(calculation.calculation_id.to_str())\n",
    "result_state = result.state\n",
    "result_id = result.id\n",
    "{'id': result_id, 'state': result_state}"
   ],
   "outputs": []
  },
  {
   "cell_type": "code",
   "execution_count": 11,
   "id": "79cdf465cd748bb7",
   "metadata": {
    "ExecuteTime": {
     "end_time": "2024-03-22T09:01:15.612306Z",
     "start_time": "2024-03-22T09:01:15.598759Z"
    },
    "collapsed": false,
    "execution": {
     "iopub.execute_input": "2024-05-15T16:00:01.541071Z",
     "iopub.status.busy": "2024-05-15T16:00:01.540885Z",
     "iopub.status.idle": "2024-05-15T16:00:01.548613Z",
     "shell.execute_reply": "2024-05-15T16:00:01.548346Z"
    },
    "papermill": {
     "duration": 0.011718,
     "end_time": "2024-05-15T16:00:01.549558",
     "exception": false,
     "start_time": "2024-05-15T16:00:01.537840",
     "status": "completed"
    },
    "tags": []
   },
   "source": [
    "from celery.result import AsyncResult\n",
    "\n",
    "result = AsyncResult(id=result_id)\n",
    "{\n",
    "  'id': result.id,\n",
    "  'state': result.state,\n",
    "  'ready': result.ready(),\n",
    "  'successful': result.successful(),\n",
    "  'value': result.result if result.ready() else None,\n",
    "}"
   ],
   "outputs": []
  },
  {
   "cell_type": "code",
   "execution_count": 12,
   "id": "e57747c5eec94970",
   "metadata": {
    "ExecuteTime": {
     "end_time": "2024-03-22T09:02:04.690070Z",
     "start_time": "2024-03-22T09:02:04.671498Z"
    },
    "collapsed": false,
    "execution": {
     "iopub.execute_input": "2024-05-15T16:00:01.555473Z",
     "iopub.status.busy": "2024-05-15T16:00:01.555351Z",
     "iopub.status.idle": "2024-05-15T16:00:01.560000Z",
     "shell.execute_reply": "2024-05-15T16:00:01.559769Z"
    },
    "papermill": {
     "duration": 0.008437,
     "end_time": "2024-05-15T16:00:01.560772",
     "exception": false,
     "start_time": "2024-05-15T16:00:01.552335",
     "status": "completed"
    },
    "tags": []
   },
   "source": [
    "calculation = calculation_repository.get_calculation(calculation.calculation_id)\n",
    "calculation"
   ],
   "outputs": []
  },
  {
   "cell_type": "code",
   "execution_count": 13,
   "id": "d04c548bbc8b4da9",
   "metadata": {
    "ExecuteTime": {
     "end_time": "2024-03-22T09:02:10.962593Z",
     "start_time": "2024-03-22T09:02:10.954140Z"
    },
    "collapsed": false,
    "execution": {
     "iopub.execute_input": "2024-05-15T16:00:01.566102Z",
     "iopub.status.busy": "2024-05-15T16:00:01.566008Z",
     "iopub.status.idle": "2024-05-15T16:00:01.567913Z",
     "shell.execute_reply": "2024-05-15T16:00:01.567702Z"
    },
    "papermill": {
     "duration": 0.005383,
     "end_time": "2024-05-15T16:00:01.568663",
     "exception": false,
     "start_time": "2024-05-15T16:00:01.563280",
     "status": "completed"
    },
    "tags": []
   },
   "source": [
    "calculation.calculation_state"
   ],
   "outputs": []
  },
  {
   "cell_type": "code",
   "execution_count": 14,
   "id": "48aa27656bc029d",
   "metadata": {
    "ExecuteTime": {
     "end_time": "2024-03-22T09:02:14.204511Z",
     "start_time": "2024-03-22T09:02:14.195713Z"
    },
    "collapsed": false,
    "execution": {
     "iopub.execute_input": "2024-05-15T16:00:01.574048Z",
     "iopub.status.busy": "2024-05-15T16:00:01.573953Z",
     "iopub.status.idle": "2024-05-15T16:00:01.575394Z",
     "shell.execute_reply": "2024-05-15T16:00:01.575169Z"
    },
    "papermill": {
     "duration": 0.004906,
     "end_time": "2024-05-15T16:00:01.576150",
     "exception": false,
     "start_time": "2024-05-15T16:00:01.571244",
     "status": "completed"
    },
    "tags": []
   },
   "source": [
    "calculation.calculation_log"
   ],
   "outputs": []
  },
  {
   "cell_type": "code",
   "execution_count": 15,
   "id": "45af3e7702e1383e",
   "metadata": {
    "ExecuteTime": {
     "end_time": "2024-03-22T09:02:17.222724Z",
     "start_time": "2024-03-22T09:02:17.218051Z"
    },
    "collapsed": false,
    "execution": {
     "iopub.execute_input": "2024-05-15T16:00:01.581200Z",
     "iopub.status.busy": "2024-05-15T16:00:01.581104Z",
     "iopub.status.idle": "2024-05-15T16:00:01.582538Z",
     "shell.execute_reply": "2024-05-15T16:00:01.582336Z"
    },
    "papermill": {
     "duration": 0.004799,
     "end_time": "2024-05-15T16:00:01.583277",
     "exception": false,
     "start_time": "2024-05-15T16:00:01.578478",
     "status": "completed"
    },
    "tags": []
   },
   "source": [
    "calculation.calculation_result"
   ],
   "outputs": []
  }
 ],
 "metadata": {
  "kernelspec": {
   "display_name": "Python 3",
   "language": "python",
   "name": "python3"
  },
  "language_info": {
   "codemirror_mode": {
    "name": "ipython",
    "version": 3
   },
   "file_extension": ".py",
   "mimetype": "text/x-python",
   "name": "python",
   "nbconvert_exporter": "python",
   "pygments_lexer": "ipython3",
   "version": "3.12.2"
  },
  "papermill": {
   "default_parameters": {},
   "duration": 3.09538,
   "end_time": "2024-05-15T16:00:02.206138",
   "environment_variables": {},
   "exception": null,
   "input_path": "./notebooks/Mf2005CalculationWithCelery.ipynb",
   "output_path": "./notebooks/Mf2005CalculationWithCelery.ipynb",
   "parameters": {},
   "start_time": "2024-05-15T15:59:59.110758",
   "version": "2.6.0"
  }
 },
 "nbformat": 4,
 "nbformat_minor": 5
}
