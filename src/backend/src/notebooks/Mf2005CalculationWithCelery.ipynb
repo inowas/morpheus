{
 "cells": [
  {
   "cell_type": "code",
   "execution_count": 1,
   "outputs": [],
   "source": [
    "import sys\n",
    "\n",
    "sys.path.insert(0, '..')"
   ],
   "metadata": {
    "collapsed": false,
    "ExecuteTime": {
     "end_time": "2023-12-06T14:57:13.062055Z",
     "start_time": "2023-12-06T14:57:13.052102Z"
    }
   },
   "id": "ba6761fae9d5e5cb"
  },
  {
   "cell_type": "markdown",
   "source": [
    "## Setup the model area"
   ],
   "metadata": {
    "collapsed": false
   },
   "id": "5ede1ba5e0993dd1"
  },
  {
   "cell_type": "code",
   "execution_count": 2,
   "outputs": [
    {
     "data": {
      "text/plain": "SpatialDiscretization(geometry=Polygon(coordinates=[[(13.922514437551428, 50.964720483303836), (13.925250781947113, 50.965228748412386), (13.925036413951403, 50.96623732041704), (13.92222441026388, 50.96629040370362), (13.922514437551428, 50.964720483303836)]], type='Polygon'), grid=Grid(origin=Point(coordinates=(13.922224410263878, 50.9662904037036), type='Point'), x_distances=[33.68941547288559, 33.68941547288559, 33.6894154728856, 33.689415472885585, 33.6894154728856, 33.6894154728856, 33.68941547288557, 33.6894154728856, 33.68941547288563, 33.68941547288557], y_distances=[27.74944856585935, 27.74944856585935, 27.749448565859346, 27.749448565859353, 27.74944856585934, 27.749448565859353, 27.749448565859325, 27.74944856585938, 27.749448565859325, 27.749448565859353], rotation=Rotation(value=0), length_unit=LengthUnit(unit=2)), affected_cells=GridCells(shape=(10, 10), data=[GridCell(x=0, y=0, value=True), GridCell(x=0, y=1, value=True), GridCell(x=0, y=2, value=True), GridCell(x=0, y=3, value=True), GridCell(x=0, y=4, value=True), GridCell(x=1, y=0, value=True), GridCell(x=1, y=1, value=True), GridCell(x=1, y=2, value=True), GridCell(x=1, y=3, value=True), GridCell(x=1, y=4, value=True), GridCell(x=1, y=5, value=True), GridCell(x=1, y=6, value=True), GridCell(x=1, y=7, value=True), GridCell(x=1, y=8, value=True), GridCell(x=1, y=9, value=True), GridCell(x=2, y=0, value=True), GridCell(x=2, y=1, value=True), GridCell(x=2, y=2, value=True), GridCell(x=2, y=3, value=True), GridCell(x=2, y=4, value=True), GridCell(x=2, y=5, value=True), GridCell(x=2, y=6, value=True), GridCell(x=2, y=7, value=True), GridCell(x=2, y=8, value=True), GridCell(x=3, y=0, value=True), GridCell(x=3, y=1, value=True), GridCell(x=3, y=2, value=True), GridCell(x=3, y=3, value=True), GridCell(x=3, y=4, value=True), GridCell(x=3, y=5, value=True), GridCell(x=3, y=6, value=True), GridCell(x=3, y=7, value=True), GridCell(x=3, y=8, value=True), GridCell(x=4, y=0, value=True), GridCell(x=4, y=1, value=True), GridCell(x=4, y=2, value=True), GridCell(x=4, y=3, value=True), GridCell(x=4, y=4, value=True), GridCell(x=4, y=5, value=True), GridCell(x=4, y=6, value=True), GridCell(x=4, y=7, value=True), GridCell(x=4, y=8, value=True), GridCell(x=5, y=0, value=True), GridCell(x=5, y=1, value=True), GridCell(x=5, y=2, value=True), GridCell(x=5, y=3, value=True), GridCell(x=5, y=4, value=True), GridCell(x=5, y=5, value=True), GridCell(x=5, y=6, value=True), GridCell(x=5, y=7, value=True), GridCell(x=6, y=0, value=True), GridCell(x=6, y=1, value=True), GridCell(x=6, y=2, value=True), GridCell(x=6, y=3, value=True), GridCell(x=6, y=4, value=True), GridCell(x=6, y=5, value=True), GridCell(x=6, y=6, value=True), GridCell(x=6, y=7, value=True), GridCell(x=7, y=0, value=True), GridCell(x=7, y=1, value=True), GridCell(x=7, y=2, value=True), GridCell(x=7, y=3, value=True), GridCell(x=7, y=4, value=True), GridCell(x=7, y=5, value=True), GridCell(x=7, y=6, value=True), GridCell(x=7, y=7, value=True), GridCell(x=8, y=0, value=True), GridCell(x=8, y=1, value=True), GridCell(x=8, y=2, value=True), GridCell(x=8, y=3, value=True), GridCell(x=8, y=4, value=True), GridCell(x=8, y=5, value=True), GridCell(x=8, y=6, value=True), GridCell(x=9, y=2, value=True), GridCell(x=9, y=3, value=True), GridCell(x=9, y=4, value=True), GridCell(x=9, y=5, value=True), GridCell(x=9, y=6, value=True)], cell_geometries=None), crs=Crs(value='EPSG:4326'))"
     },
     "execution_count": 2,
     "metadata": {},
     "output_type": "execute_result"
    }
   ],
   "source": [
    "from morpheus.modflow.types.discretization.spatial.GridCells import GridCells\n",
    "from morpheus.modflow.types.discretization import SpatialDiscretization\n",
    "from morpheus.modflow.types.discretization.spatial import Rotation, LengthUnit, Grid, Crs\n",
    "from morpheus.modflow.types.geometry import Polygon, LineString\n",
    "\n",
    "polygon = Polygon(\n",
    "  type='Polygon',\n",
    "  coordinates=[[\n",
    "    (13.922514437551428, 50.964720483303836),\n",
    "    (13.925250781947113, 50.965228748412386),\n",
    "    (13.925036413951403, 50.96623732041704),\n",
    "    (13.92222441026388, 50.96629040370362),\n",
    "    (13.922514437551428, 50.964720483303836)\n",
    "  ]]\n",
    ")\n",
    "\n",
    "rotation = Rotation(0)\n",
    "length_unit = LengthUnit.meters()\n",
    "x_coordinates = [0, 0.1, 0.2, 0.3, 0.4, 0.5, 0.6, 0.7, 0.8, 0.9, 1]\n",
    "y_coordinates = [0, 0.1, 0.2, 0.3, 0.4, 0.5, 0.6, 0.7, 0.8, 0.9, 1]\n",
    "\n",
    "grid = Grid.from_polygon_with_relative_coordinates(\n",
    "  polygon=polygon,\n",
    "  x_coordinates=x_coordinates,\n",
    "  y_coordinates=y_coordinates,\n",
    "  rotation=rotation,\n",
    ")\n",
    "\n",
    "spatial_discretization = SpatialDiscretization(\n",
    "  geometry=polygon,\n",
    "  grid=grid,\n",
    "  affected_cells=GridCells.from_polygon(polygon=polygon, grid=grid),\n",
    "  crs=Crs.from_str('EPSG:4326')\n",
    ")\n",
    "\n",
    "spatial_discretization\n",
    "\n"
   ],
   "metadata": {
    "collapsed": false,
    "ExecuteTime": {
     "end_time": "2023-12-06T14:57:13.312012Z",
     "start_time": "2023-12-06T14:57:13.058568Z"
    }
   },
   "id": "2f69504ab35487aa"
  },
  {
   "cell_type": "markdown",
   "source": [
    "## Setup Time Discretization"
   ],
   "metadata": {
    "collapsed": false
   },
   "id": "fa27e67f9d801845"
  },
  {
   "cell_type": "code",
   "execution_count": 3,
   "outputs": [
    {
     "data": {
      "text/plain": "TimeDiscretization(start_date_time=StartDateTime(value=datetime.datetime(2020, 1, 1, 0, 0)), end_date_time=StartDateTime(value=datetime.datetime(2020, 12, 31, 0, 0)), stress_periods=StressPeriodCollection(values=[StressPeriod(start_date_time=StartDateTime(value=datetime.datetime(2020, 1, 1, 0, 0)), number_of_time_steps=NumberOfTimeSteps(value=1), time_step_multiplier=TimeStepMultiplier(value=1), steady_state=IsSteadyState(value=True))]), time_unit=TimeUnit(unit=4))"
     },
     "execution_count": 3,
     "metadata": {},
     "output_type": "execute_result"
    }
   ],
   "source": [
    "from morpheus.modflow.types.discretization.time.TimeUnit import TimeUnit\n",
    "from morpheus.modflow.types.discretization.time.Stressperiods import StartDateTime, StressPeriodCollection, \\\n",
    "  StressPeriod, NumberOfTimeSteps, TimeStepMultiplier, IsSteadyState\n",
    "from morpheus.modflow.types.discretization.time import TimeDiscretization\n",
    "from datetime import datetime\n",
    "\n",
    "time_discretization = TimeDiscretization(\n",
    "  start_date_time=StartDateTime.from_datetime(datetime(2020, 1, 1)),\n",
    "  end_date_time=StartDateTime.from_datetime(datetime(2020, 12, 31)),\n",
    "  stress_periods=StressPeriodCollection([\n",
    "    StressPeriod(\n",
    "      start_date_time=StartDateTime.from_datetime(datetime(2020, 1, 1)),\n",
    "      number_of_time_steps=NumberOfTimeSteps(1),\n",
    "      time_step_multiplier=TimeStepMultiplier(1),\n",
    "      steady_state=IsSteadyState.yes()\n",
    "    ),\n",
    "  ]),\n",
    "  time_unit=TimeUnit.days()\n",
    ")\n",
    "\n",
    "time_discretization"
   ],
   "metadata": {
    "collapsed": false,
    "ExecuteTime": {
     "end_time": "2023-12-06T14:57:13.334867Z",
     "start_time": "2023-12-06T14:57:13.320935Z"
    }
   },
   "id": "8e4e63dd138db9fc"
  },
  {
   "cell_type": "markdown",
   "source": [
    "# Setup Modflow Model"
   ],
   "metadata": {
    "collapsed": false
   },
   "id": "963ba8729f09fcec"
  },
  {
   "cell_type": "code",
   "execution_count": 4,
   "outputs": [],
   "source": [
    "from morpheus.modflow.types.ModflowModel import ModflowModel\n",
    "\n",
    "modflow_model = ModflowModel.new()\n",
    "modflow_model = modflow_model.with_updated_time_discretization(time_discretization)\n",
    "modflow_model = modflow_model.with_updated_spatial_discretization(spatial_discretization=spatial_discretization)"
   ],
   "metadata": {
    "collapsed": false,
    "ExecuteTime": {
     "end_time": "2023-12-06T14:57:13.868029Z",
     "start_time": "2023-12-06T14:57:13.330590Z"
    }
   },
   "id": "1d5c9125b1b9360b"
  },
  {
   "cell_type": "code",
   "execution_count": 5,
   "outputs": [
    {
     "data": {
      "text/plain": "<folium.folium.Map at 0x1174dbaa0>",
      "text/html": "<div style=\"width:100%;\"><div style=\"position:relative;width:100%;height:0;padding-bottom:60%;\"><span style=\"color:#565656\">Make this Notebook Trusted to load map: File -> Trust Notebook</span><iframe srcdoc=\"&lt;!DOCTYPE html&gt;\n&lt;html&gt;\n&lt;head&gt;\n    \n    &lt;meta http-equiv=&quot;content-type&quot; content=&quot;text/html; charset=UTF-8&quot; /&gt;\n    \n        &lt;script&gt;\n            L_NO_TOUCH = false;\n            L_DISABLE_3D = false;\n        &lt;/script&gt;\n    \n    &lt;style&gt;html, body {width: 100%;height: 100%;margin: 0;padding: 0;}&lt;/style&gt;\n    &lt;style&gt;#map {position:absolute;top:0;bottom:0;right:0;left:0;}&lt;/style&gt;\n    &lt;script src=&quot;https://cdn.jsdelivr.net/npm/leaflet@1.9.3/dist/leaflet.js&quot;&gt;&lt;/script&gt;\n    &lt;script src=&quot;https://code.jquery.com/jquery-3.7.1.min.js&quot;&gt;&lt;/script&gt;\n    &lt;script src=&quot;https://cdn.jsdelivr.net/npm/bootstrap@5.2.2/dist/js/bootstrap.bundle.min.js&quot;&gt;&lt;/script&gt;\n    &lt;script src=&quot;https://cdnjs.cloudflare.com/ajax/libs/Leaflet.awesome-markers/2.0.2/leaflet.awesome-markers.js&quot;&gt;&lt;/script&gt;\n    &lt;link rel=&quot;stylesheet&quot; href=&quot;https://cdn.jsdelivr.net/npm/leaflet@1.9.3/dist/leaflet.css&quot;/&gt;\n    &lt;link rel=&quot;stylesheet&quot; href=&quot;https://cdn.jsdelivr.net/npm/bootstrap@5.2.2/dist/css/bootstrap.min.css&quot;/&gt;\n    &lt;link rel=&quot;stylesheet&quot; href=&quot;https://netdna.bootstrapcdn.com/bootstrap/3.0.0/css/bootstrap.min.css&quot;/&gt;\n    &lt;link rel=&quot;stylesheet&quot; href=&quot;https://cdn.jsdelivr.net/npm/@fortawesome/fontawesome-free@6.2.0/css/all.min.css&quot;/&gt;\n    &lt;link rel=&quot;stylesheet&quot; href=&quot;https://cdnjs.cloudflare.com/ajax/libs/Leaflet.awesome-markers/2.0.2/leaflet.awesome-markers.css&quot;/&gt;\n    &lt;link rel=&quot;stylesheet&quot; href=&quot;https://cdn.jsdelivr.net/gh/python-visualization/folium/folium/templates/leaflet.awesome.rotate.min.css&quot;/&gt;\n    \n            &lt;meta name=&quot;viewport&quot; content=&quot;width=device-width,\n                initial-scale=1.0, maximum-scale=1.0, user-scalable=no&quot; /&gt;\n            &lt;style&gt;\n                #map_cbcce92c207cfca8550d26541f9189db {\n                    position: relative;\n                    width: 100.0%;\n                    height: 100.0%;\n                    left: 0.0%;\n                    top: 0.0%;\n                }\n                .leaflet-container { font-size: 1rem; }\n            &lt;/style&gt;\n        \n&lt;/head&gt;\n&lt;body&gt;\n    \n    \n            &lt;div class=&quot;folium-map&quot; id=&quot;map_cbcce92c207cfca8550d26541f9189db&quot; &gt;&lt;/div&gt;\n        \n&lt;/body&gt;\n&lt;script&gt;\n    \n    \n            var map_cbcce92c207cfca8550d26541f9189db = L.map(\n                &quot;map_cbcce92c207cfca8550d26541f9189db&quot;,\n                {\n                    center: [50.965, 13.922],\n                    crs: L.CRS.EPSG3857,\n                    zoom: 12,\n                    zoomControl: true,\n                    preferCanvas: false,\n                }\n            );\n\n            \n\n        \n    \n            var tile_layer_fe793bf1e1119949211eca433ca40639 = L.tileLayer(\n                &quot;https://{s}.basemaps.cartocdn.com/light_all/{z}/{x}/{y}{r}.png&quot;,\n                {&quot;attribution&quot;: &quot;\\u0026copy; \\u003ca href=\\&quot;https://www.openstreetmap.org/copyright\\&quot;\\u003eOpenStreetMap\\u003c/a\\u003e contributors \\u0026copy; \\u003ca href=\\&quot;https://carto.com/attributions\\&quot;\\u003eCARTO\\u003c/a\\u003e&quot;, &quot;detectRetina&quot;: false, &quot;maxNativeZoom&quot;: 20, &quot;maxZoom&quot;: 20, &quot;minZoom&quot;: 0, &quot;noWrap&quot;: false, &quot;opacity&quot;: 1, &quot;subdomains&quot;: &quot;abcd&quot;, &quot;tms&quot;: false}\n            );\n        \n    \n            tile_layer_fe793bf1e1119949211eca433ca40639.addTo(map_cbcce92c207cfca8550d26541f9189db);\n        \n    \n\n        function geo_json_e3de45ade1fad3b71d4b6416146f5097_onEachFeature(feature, layer) {\n            layer.on({\n            });\n        };\n        var geo_json_e3de45ade1fad3b71d4b6416146f5097 = L.geoJson(null, {\n                onEachFeature: geo_json_e3de45ade1fad3b71d4b6416146f5097_onEachFeature,\n            \n        });\n\n        function geo_json_e3de45ade1fad3b71d4b6416146f5097_add (data) {\n            geo_json_e3de45ade1fad3b71d4b6416146f5097\n                .addData(data);\n        }\n            geo_json_e3de45ade1fad3b71d4b6416146f5097_add({&quot;coordinates&quot;: [[[13.922514437551428, 50.964720483303836], [13.925250781947113, 50.965228748412386], [13.925036413951403, 50.96623732041704], [13.92222441026388, 50.96629040370362], [13.922514437551428, 50.964720483303836]]], &quot;type&quot;: &quot;Polygon&quot;});\n\n        \n    \n            geo_json_e3de45ade1fad3b71d4b6416146f5097.addTo(map_cbcce92c207cfca8550d26541f9189db);\n        \n    \n            map_cbcce92c207cfca8550d26541f9189db.fitBounds(\n                [[50.964720483303836, 13.92222441026388], [50.96629040370362, 13.925250781947113]],\n                {}\n            );\n        \n&lt;/script&gt;\n&lt;/html&gt;\" style=\"position:absolute;width:100%;height:100%;left:0;top:0;border:none !important;\" allowfullscreen webkitallowfullscreen mozallowfullscreen></iframe></div></div>"
     },
     "execution_count": 5,
     "metadata": {},
     "output_type": "execute_result"
    }
   ],
   "source": [
    "import folium\n",
    "\n",
    "m = folium.Map(tiles=\"cartodbpositron\", crs=\"EPSG3857\", zoom_start=12, location=[50.965, 13.922])\n",
    "m.add_child(folium.GeoJson(polygon.as_geojson()))\n",
    "\n",
    "m.fit_bounds(m.get_bounds())\n",
    "m"
   ],
   "metadata": {
    "collapsed": false,
    "ExecuteTime": {
     "end_time": "2023-12-06T14:57:14.037719Z",
     "start_time": "2023-12-06T14:57:13.862091Z"
    }
   },
   "id": "1540b870ae83f298"
  },
  {
   "cell_type": "markdown",
   "source": [
    "# Setup constant head boundary with 1 observation"
   ],
   "metadata": {
    "collapsed": false
   },
   "id": "62ae3587df801000"
  },
  {
   "cell_type": "code",
   "execution_count": 6,
   "outputs": [
    {
     "data": {
      "text/plain": "<folium.folium.Map at 0x1174dbaa0>",
      "text/html": "<div style=\"width:100%;\"><div style=\"position:relative;width:100%;height:0;padding-bottom:60%;\"><span style=\"color:#565656\">Make this Notebook Trusted to load map: File -> Trust Notebook</span><iframe srcdoc=\"&lt;!DOCTYPE html&gt;\n&lt;html&gt;\n&lt;head&gt;\n    \n    &lt;meta http-equiv=&quot;content-type&quot; content=&quot;text/html; charset=UTF-8&quot; /&gt;\n    \n        &lt;script&gt;\n            L_NO_TOUCH = false;\n            L_DISABLE_3D = false;\n        &lt;/script&gt;\n    \n    &lt;style&gt;html, body {width: 100%;height: 100%;margin: 0;padding: 0;}&lt;/style&gt;\n    &lt;style&gt;#map {position:absolute;top:0;bottom:0;right:0;left:0;}&lt;/style&gt;\n    &lt;script src=&quot;https://cdn.jsdelivr.net/npm/leaflet@1.9.3/dist/leaflet.js&quot;&gt;&lt;/script&gt;\n    &lt;script src=&quot;https://code.jquery.com/jquery-3.7.1.min.js&quot;&gt;&lt;/script&gt;\n    &lt;script src=&quot;https://cdn.jsdelivr.net/npm/bootstrap@5.2.2/dist/js/bootstrap.bundle.min.js&quot;&gt;&lt;/script&gt;\n    &lt;script src=&quot;https://cdnjs.cloudflare.com/ajax/libs/Leaflet.awesome-markers/2.0.2/leaflet.awesome-markers.js&quot;&gt;&lt;/script&gt;\n    &lt;link rel=&quot;stylesheet&quot; href=&quot;https://cdn.jsdelivr.net/npm/leaflet@1.9.3/dist/leaflet.css&quot;/&gt;\n    &lt;link rel=&quot;stylesheet&quot; href=&quot;https://cdn.jsdelivr.net/npm/bootstrap@5.2.2/dist/css/bootstrap.min.css&quot;/&gt;\n    &lt;link rel=&quot;stylesheet&quot; href=&quot;https://netdna.bootstrapcdn.com/bootstrap/3.0.0/css/bootstrap.min.css&quot;/&gt;\n    &lt;link rel=&quot;stylesheet&quot; href=&quot;https://cdn.jsdelivr.net/npm/@fortawesome/fontawesome-free@6.2.0/css/all.min.css&quot;/&gt;\n    &lt;link rel=&quot;stylesheet&quot; href=&quot;https://cdnjs.cloudflare.com/ajax/libs/Leaflet.awesome-markers/2.0.2/leaflet.awesome-markers.css&quot;/&gt;\n    &lt;link rel=&quot;stylesheet&quot; href=&quot;https://cdn.jsdelivr.net/gh/python-visualization/folium/folium/templates/leaflet.awesome.rotate.min.css&quot;/&gt;\n    \n            &lt;meta name=&quot;viewport&quot; content=&quot;width=device-width,\n                initial-scale=1.0, maximum-scale=1.0, user-scalable=no&quot; /&gt;\n            &lt;style&gt;\n                #map_cbcce92c207cfca8550d26541f9189db {\n                    position: relative;\n                    width: 100.0%;\n                    height: 100.0%;\n                    left: 0.0%;\n                    top: 0.0%;\n                }\n                .leaflet-container { font-size: 1rem; }\n            &lt;/style&gt;\n        \n&lt;/head&gt;\n&lt;body&gt;\n    \n    \n            &lt;div class=&quot;folium-map&quot; id=&quot;map_cbcce92c207cfca8550d26541f9189db&quot; &gt;&lt;/div&gt;\n        \n&lt;/body&gt;\n&lt;script&gt;\n    \n    \n            var map_cbcce92c207cfca8550d26541f9189db = L.map(\n                &quot;map_cbcce92c207cfca8550d26541f9189db&quot;,\n                {\n                    center: [50.965, 13.922],\n                    crs: L.CRS.EPSG3857,\n                    zoom: 12,\n                    zoomControl: true,\n                    preferCanvas: false,\n                }\n            );\n\n            \n\n        \n    \n            var tile_layer_fe793bf1e1119949211eca433ca40639 = L.tileLayer(\n                &quot;https://{s}.basemaps.cartocdn.com/light_all/{z}/{x}/{y}{r}.png&quot;,\n                {&quot;attribution&quot;: &quot;\\u0026copy; \\u003ca href=\\&quot;https://www.openstreetmap.org/copyright\\&quot;\\u003eOpenStreetMap\\u003c/a\\u003e contributors \\u0026copy; \\u003ca href=\\&quot;https://carto.com/attributions\\&quot;\\u003eCARTO\\u003c/a\\u003e&quot;, &quot;detectRetina&quot;: false, &quot;maxNativeZoom&quot;: 20, &quot;maxZoom&quot;: 20, &quot;minZoom&quot;: 0, &quot;noWrap&quot;: false, &quot;opacity&quot;: 1, &quot;subdomains&quot;: &quot;abcd&quot;, &quot;tms&quot;: false}\n            );\n        \n    \n            tile_layer_fe793bf1e1119949211eca433ca40639.addTo(map_cbcce92c207cfca8550d26541f9189db);\n        \n    \n\n        function geo_json_e3de45ade1fad3b71d4b6416146f5097_onEachFeature(feature, layer) {\n            layer.on({\n            });\n        };\n        var geo_json_e3de45ade1fad3b71d4b6416146f5097 = L.geoJson(null, {\n                onEachFeature: geo_json_e3de45ade1fad3b71d4b6416146f5097_onEachFeature,\n            \n        });\n\n        function geo_json_e3de45ade1fad3b71d4b6416146f5097_add (data) {\n            geo_json_e3de45ade1fad3b71d4b6416146f5097\n                .addData(data);\n        }\n            geo_json_e3de45ade1fad3b71d4b6416146f5097_add({&quot;coordinates&quot;: [[[13.922514437551428, 50.964720483303836], [13.925250781947113, 50.965228748412386], [13.925036413951403, 50.96623732041704], [13.92222441026388, 50.96629040370362], [13.922514437551428, 50.964720483303836]]], &quot;type&quot;: &quot;Polygon&quot;});\n\n        \n    \n            geo_json_e3de45ade1fad3b71d4b6416146f5097.addTo(map_cbcce92c207cfca8550d26541f9189db);\n        \n    \n            map_cbcce92c207cfca8550d26541f9189db.fitBounds(\n                [[50.964720483303836, 13.92222441026388], [50.96629040370362, 13.925250781947113]],\n                {}\n            );\n        \n    \n            tile_layer_fe793bf1e1119949211eca433ca40639.addTo(map_cbcce92c207cfca8550d26541f9189db);\n        \n    \n            geo_json_e3de45ade1fad3b71d4b6416146f5097.addTo(map_cbcce92c207cfca8550d26541f9189db);\n        \n    \n\n        function geo_json_a54fd91ca61162dd6c43c41ead60ee08_onEachFeature(feature, layer) {\n            layer.on({\n            });\n        };\n        var geo_json_a54fd91ca61162dd6c43c41ead60ee08 = L.geoJson(null, {\n                onEachFeature: geo_json_a54fd91ca61162dd6c43c41ead60ee08_onEachFeature,\n            \n        });\n\n        function geo_json_a54fd91ca61162dd6c43c41ead60ee08_add (data) {\n            geo_json_a54fd91ca61162dd6c43c41ead60ee08\n                .addData(data);\n        }\n            geo_json_a54fd91ca61162dd6c43c41ead60ee08_add({&quot;coordinates&quot;: [[13.9223, 50.9662], [13.925, 50.96615]], &quot;type&quot;: &quot;LineString&quot;});\n\n        \n    \n            geo_json_a54fd91ca61162dd6c43c41ead60ee08.addTo(map_cbcce92c207cfca8550d26541f9189db);\n        \n    \n\n        function geo_json_416cd9a3f726f148791fc36e4367fc85_onEachFeature(feature, layer) {\n            layer.on({\n            });\n        };\n        var geo_json_416cd9a3f726f148791fc36e4367fc85 = L.geoJson(null, {\n                onEachFeature: geo_json_416cd9a3f726f148791fc36e4367fc85_onEachFeature,\n            \n        });\n\n        function geo_json_416cd9a3f726f148791fc36e4367fc85_add (data) {\n            geo_json_416cd9a3f726f148791fc36e4367fc85\n                .addData(data);\n        }\n            geo_json_416cd9a3f726f148791fc36e4367fc85_add({&quot;geometries&quot;: [{&quot;coordinates&quot;: [[[13.922224410263878, 50.96629040370359], [13.922527047432201, 50.96629040370359], [13.922527047432201, 50.9661334140511], [13.922224410263878, 50.9661334140511], [13.922224410263878, 50.96629040370359]]], &quot;type&quot;: &quot;Polygon&quot;}, {&quot;coordinates&quot;: [[[13.922527047432201, 50.96629040370359], [13.922829684600526, 50.96629040370359], [13.922829684600526, 50.9661334140511], [13.922527047432201, 50.9661334140511], [13.922527047432201, 50.96629040370359]]], &quot;type&quot;: &quot;Polygon&quot;}, {&quot;coordinates&quot;: [[[13.922829684600526, 50.96629040370359], [13.923132321768849, 50.96629040370359], [13.923132321768849, 50.9661334140511], [13.922829684600526, 50.9661334140511], [13.922829684600526, 50.96629040370359]]], &quot;type&quot;: &quot;Polygon&quot;}, {&quot;coordinates&quot;: [[[13.923132321768849, 50.96629040370359], [13.923434958937172, 50.96629040370359], [13.923434958937172, 50.9661334140511], [13.923132321768849, 50.9661334140511], [13.923132321768849, 50.96629040370359]]], &quot;type&quot;: &quot;Polygon&quot;}, {&quot;coordinates&quot;: [[[13.923434958937172, 50.96629040370359], [13.923737596105495, 50.96629040370359], [13.923737596105495, 50.9661334140511], [13.923434958937172, 50.9661334140511], [13.923434958937172, 50.96629040370359]]], &quot;type&quot;: &quot;Polygon&quot;}, {&quot;coordinates&quot;: [[[13.923737596105495, 50.96629040370359], [13.924040233273818, 50.96629040370359], [13.924040233273818, 50.9661334140511], [13.923737596105495, 50.9661334140511], [13.923737596105495, 50.96629040370359]]], &quot;type&quot;: &quot;Polygon&quot;}, {&quot;coordinates&quot;: [[[13.924040233273818, 50.96629040370359], [13.924342870442143, 50.96629040370359], [13.924342870442143, 50.9661334140511], [13.924040233273818, 50.9661334140511], [13.924040233273818, 50.96629040370359]]], &quot;type&quot;: &quot;Polygon&quot;}, {&quot;coordinates&quot;: [[[13.924342870442143, 50.96629040370359], [13.924645507610466, 50.96629040370359], [13.924645507610466, 50.9661334140511], [13.924342870442143, 50.9661334140511], [13.924342870442143, 50.96629040370359]]], &quot;type&quot;: &quot;Polygon&quot;}, {&quot;coordinates&quot;: [[[13.924645507610466, 50.96629040370359], [13.92494814477879, 50.96629040370359], [13.92494814477879, 50.9661334140511], [13.924645507610466, 50.9661334140511], [13.924645507610466, 50.96629040370359]]], &quot;type&quot;: &quot;Polygon&quot;}, {&quot;coordinates&quot;: [[[13.92494814477879, 50.96629040370359], [13.925250781947113, 50.96629040370359], [13.925250781947113, 50.9661334140511], [13.92494814477879, 50.9661334140511], [13.92494814477879, 50.96629040370359]]], &quot;type&quot;: &quot;Polygon&quot;}], &quot;type&quot;: &quot;GeometryCollection&quot;});\n\n        \n    \n            geo_json_416cd9a3f726f148791fc36e4367fc85.addTo(map_cbcce92c207cfca8550d26541f9189db);\n        \n    \n\n        function geo_json_7fd65c1713efe4017dc42b3749d6cfe8_onEachFeature(feature, layer) {\n            layer.on({\n            });\n        };\n        var geo_json_7fd65c1713efe4017dc42b3749d6cfe8 = L.geoJson(null, {\n                onEachFeature: geo_json_7fd65c1713efe4017dc42b3749d6cfe8_onEachFeature,\n            \n        });\n\n        function geo_json_7fd65c1713efe4017dc42b3749d6cfe8_add (data) {\n            geo_json_7fd65c1713efe4017dc42b3749d6cfe8\n                .addData(data);\n        }\n            geo_json_7fd65c1713efe4017dc42b3749d6cfe8_add({&quot;coordinates&quot;: [13.9223, 50.9662], &quot;type&quot;: &quot;Point&quot;});\n\n        \n    \n            geo_json_7fd65c1713efe4017dc42b3749d6cfe8.addTo(map_cbcce92c207cfca8550d26541f9189db);\n        \n    \n            map_cbcce92c207cfca8550d26541f9189db.fitBounds(\n                [[50.964720483303836, 13.922224410263878], [50.96629040370362, 13.925250781947113]],\n                {}\n            );\n        \n&lt;/script&gt;\n&lt;/html&gt;\" style=\"position:absolute;width:100%;height:100%;left:0;top:0;border:none !important;\" allowfullscreen webkitallowfullscreen mozallowfullscreen></iframe></div></div>"
     },
     "execution_count": 6,
     "metadata": {},
     "output_type": "execute_result"
    }
   ],
   "source": [
    "from morpheus.modflow.types.geometry import Point\n",
    "from morpheus.modflow.types.boundaries.Boundary import BoundaryName, ConstantHead\n",
    "from morpheus.modflow.types.soil_model import LayerId\n",
    "from morpheus.modflow.types.boundaries.ConstantHeadData import ConstantHeadObservation, DataItem, StartHead, \\\n",
    "  EndHead, ConstantHeadObservationId\n",
    "\n",
    "layers_list = [LayerId.new()]\n",
    "constant_head = ConstantHead.from_geometry(\n",
    "  name=BoundaryName('constant_head'),\n",
    "  geometry=LineString([\n",
    "    (13.9223, 50.9662),\n",
    "    (13.9250, 50.96615),\n",
    "  ]),\n",
    "  grid=grid,\n",
    "  affected_layers=[modflow_model.soil_model.layers[0].id],\n",
    "  observations=[\n",
    "    ConstantHeadObservation(\n",
    "      id=ConstantHeadObservationId.new(),\n",
    "      geometry=Point((13.9223, 50.9662)),\n",
    "      raw_data=[\n",
    "        DataItem(\n",
    "          date_time=StartDateTime.from_datetime(datetime(2019, 1, 1)),\n",
    "          start_head=StartHead.from_float(100),\n",
    "          end_head=EndHead.from_float(100),\n",
    "        ),\n",
    "        DataItem(\n",
    "          date_time=StartDateTime.from_datetime(datetime(2021, 12, 31)),\n",
    "          start_head=StartHead.from_float(120),\n",
    "          end_head=EndHead.from_float(120),\n",
    "        ),\n",
    "      ]\n",
    "    )\n",
    "  ]\n",
    ")\n",
    "\n",
    "m.add_child(folium.GeoJson(constant_head.as_geojson()))\n",
    "m.add_child(folium.GeoJson(constant_head.affected_cells.as_geojson(grid).as_geojson()))\n",
    "for constant_head.observation in constant_head.observations:\n",
    "  m.add_child(folium.GeoJson(constant_head.observation.as_geojson()))\n",
    "m.fit_bounds(m.get_bounds())\n",
    "m"
   ],
   "metadata": {
    "collapsed": false,
    "ExecuteTime": {
     "end_time": "2023-12-06T14:57:14.096007Z",
     "start_time": "2023-12-06T14:57:14.041215Z"
    }
   },
   "id": "53679913aee28ce9"
  },
  {
   "cell_type": "code",
   "execution_count": 7,
   "outputs": [],
   "source": [
    "from morpheus.modflow.types.boundaries.Boundary import BoundaryCollection\n",
    "\n",
    "boundaries = BoundaryCollection.new()\n",
    "boundaries.add_boundary(constant_head)\n",
    "modflow_model = modflow_model.with_updated_boundaries(boundaries=boundaries)"
   ],
   "metadata": {
    "collapsed": false,
    "ExecuteTime": {
     "end_time": "2023-12-06T14:57:14.110236Z",
     "start_time": "2023-12-06T14:57:14.098012Z"
    }
   },
   "id": "621e2265ae79b1ae"
  },
  {
   "cell_type": "markdown",
   "source": [
    "## Calculate the model asynchronously with celery"
   ],
   "metadata": {
    "collapsed": false
   },
   "id": "42d948d145a8457a"
  },
  {
   "cell_type": "code",
   "execution_count": 8,
   "outputs": [
    {
     "data": {
      "text/plain": "{'calculation_id': 'b73bc17d-2cb0-471c-87c1-7bced2d0b7d0',\n 'modflow_model': {'model_id': 'fc305708-ea5b-4169-b3ca-5bd10d4f2f52',\n  'spatial_discretization': {'geometry': {'type': 'Polygon',\n    'coordinates': [[(13.922514437551428, 50.964720483303836),\n      (13.925250781947113, 50.965228748412386),\n      (13.925036413951403, 50.96623732041704),\n      (13.92222441026388, 50.96629040370362),\n      (13.922514437551428, 50.964720483303836)]]},\n   'affected_cells': {'shape': (10, 10),\n    'data': [{'x': 0, 'y': 0, 'value': True},\n     {'x': 0, 'y': 1, 'value': True},\n     {'x': 0, 'y': 2, 'value': True},\n     {'x': 0, 'y': 3, 'value': True},\n     {'x': 0, 'y': 4, 'value': True},\n     {'x': 1, 'y': 0, 'value': True},\n     {'x': 1, 'y': 1, 'value': True},\n     {'x': 1, 'y': 2, 'value': True},\n     {'x': 1, 'y': 3, 'value': True},\n     {'x': 1, 'y': 4, 'value': True},\n     {'x': 1, 'y': 5, 'value': True},\n     {'x': 1, 'y': 6, 'value': True},\n     {'x': 1, 'y': 7, 'value': True},\n     {'x': 1, 'y': 8, 'value': True},\n     {'x': 1, 'y': 9, 'value': True},\n     {'x': 2, 'y': 0, 'value': True},\n     {'x': 2, 'y': 1, 'value': True},\n     {'x': 2, 'y': 2, 'value': True},\n     {'x': 2, 'y': 3, 'value': True},\n     {'x': 2, 'y': 4, 'value': True},\n     {'x': 2, 'y': 5, 'value': True},\n     {'x': 2, 'y': 6, 'value': True},\n     {'x': 2, 'y': 7, 'value': True},\n     {'x': 2, 'y': 8, 'value': True},\n     {'x': 3, 'y': 0, 'value': True},\n     {'x': 3, 'y': 1, 'value': True},\n     {'x': 3, 'y': 2, 'value': True},\n     {'x': 3, 'y': 3, 'value': True},\n     {'x': 3, 'y': 4, 'value': True},\n     {'x': 3, 'y': 5, 'value': True},\n     {'x': 3, 'y': 6, 'value': True},\n     {'x': 3, 'y': 7, 'value': True},\n     {'x': 3, 'y': 8, 'value': True},\n     {'x': 4, 'y': 0, 'value': True},\n     {'x': 4, 'y': 1, 'value': True},\n     {'x': 4, 'y': 2, 'value': True},\n     {'x': 4, 'y': 3, 'value': True},\n     {'x': 4, 'y': 4, 'value': True},\n     {'x': 4, 'y': 5, 'value': True},\n     {'x': 4, 'y': 6, 'value': True},\n     {'x': 4, 'y': 7, 'value': True},\n     {'x': 4, 'y': 8, 'value': True},\n     {'x': 5, 'y': 0, 'value': True},\n     {'x': 5, 'y': 1, 'value': True},\n     {'x': 5, 'y': 2, 'value': True},\n     {'x': 5, 'y': 3, 'value': True},\n     {'x': 5, 'y': 4, 'value': True},\n     {'x': 5, 'y': 5, 'value': True},\n     {'x': 5, 'y': 6, 'value': True},\n     {'x': 5, 'y': 7, 'value': True},\n     {'x': 6, 'y': 0, 'value': True},\n     {'x': 6, 'y': 1, 'value': True},\n     {'x': 6, 'y': 2, 'value': True},\n     {'x': 6, 'y': 3, 'value': True},\n     {'x': 6, 'y': 4, 'value': True},\n     {'x': 6, 'y': 5, 'value': True},\n     {'x': 6, 'y': 6, 'value': True},\n     {'x': 6, 'y': 7, 'value': True},\n     {'x': 7, 'y': 0, 'value': True},\n     {'x': 7, 'y': 1, 'value': True},\n     {'x': 7, 'y': 2, 'value': True},\n     {'x': 7, 'y': 3, 'value': True},\n     {'x': 7, 'y': 4, 'value': True},\n     {'x': 7, 'y': 5, 'value': True},\n     {'x': 7, 'y': 6, 'value': True},\n     {'x': 7, 'y': 7, 'value': True},\n     {'x': 8, 'y': 0, 'value': True},\n     {'x': 8, 'y': 1, 'value': True},\n     {'x': 8, 'y': 2, 'value': True},\n     {'x': 8, 'y': 3, 'value': True},\n     {'x': 8, 'y': 4, 'value': True},\n     {'x': 8, 'y': 5, 'value': True},\n     {'x': 8, 'y': 6, 'value': True},\n     {'x': 9, 'y': 2, 'value': True},\n     {'x': 9, 'y': 3, 'value': True},\n     {'x': 9, 'y': 4, 'value': True},\n     {'x': 9, 'y': 5, 'value': True},\n     {'x': 9, 'y': 6, 'value': True}]},\n   'grid': {'x_distances': [33.68941547288559,\n     33.68941547288559,\n     33.6894154728856,\n     33.689415472885585,\n     33.6894154728856,\n     33.6894154728856,\n     33.68941547288557,\n     33.6894154728856,\n     33.68941547288563,\n     33.68941547288557],\n    'y_distances': [27.74944856585935,\n     27.74944856585935,\n     27.749448565859346,\n     27.749448565859353,\n     27.74944856585934,\n     27.749448565859353,\n     27.749448565859325,\n     27.74944856585938,\n     27.749448565859325,\n     27.749448565859353],\n    'origin': {'type': 'Point',\n     'coordinates': (13.922224410263878, 50.9662904037036)},\n    'rotation': 0,\n    'length_unit': 'meters'},\n   'crs': 'EPSG:4326'},\n  'time_discretization': {'start_datetime': '2020-01-01T00:00:00',\n   'end_datetime': '2020-12-31T00:00:00',\n   'stress_periods': [{'start_datetime': '2020-01-01T00:00:00',\n     'number_of_time_steps': 1,\n     'time_step_multiplier': 1,\n     'steady_state': True}],\n   'time_unit': 4},\n  'boundaries': [{'id': '49dd27d0-fc41-4af5-a477-e38429b201a0',\n    'type': 'constant_head',\n    'name': 'constant_head',\n    'geometry': {'type': 'LineString',\n     'coordinates': [(13.9223, 50.9662), (13.925, 50.96615)]},\n    'affected_cells': {'shape': (10, 10),\n     'data': [{'x': 0, 'y': 0, 'value': True},\n      {'x': 1, 'y': 0, 'value': True},\n      {'x': 2, 'y': 0, 'value': True},\n      {'x': 3, 'y': 0, 'value': True},\n      {'x': 4, 'y': 0, 'value': True},\n      {'x': 5, 'y': 0, 'value': True},\n      {'x': 6, 'y': 0, 'value': True},\n      {'x': 7, 'y': 0, 'value': True},\n      {'x': 8, 'y': 0, 'value': True},\n      {'x': 9, 'y': 0, 'value': True}]},\n    'affected_layers': ['a13670b7-76fc-4d01-8750-e616c094e512'],\n    'observation_points': [{'id': '11efd28f-363d-4a08-aeab-3135f39322db',\n      'geometry': {'type': 'Point', 'coordinates': (13.9223, 50.9662)},\n      'raw_data': [{'date_time': '2019-01-01T00:00:00',\n        'start_head': 100,\n        'end_head': 100},\n       {'date_time': '2021-12-31T00:00:00',\n        'start_head': 120,\n        'end_head': 120}]}],\n    'enabled': True}],\n  'soil_model': [{'id': 'a13670b7-76fc-4d01-8750-e616c094e512',\n    'name': 'Default',\n    'description': 'Default',\n    'type': 'confined',\n    'data': {'kx': 1,\n     'ky': 1,\n     'kz': 1,\n     'porosity': 0.1,\n     'specific_storage': 0.0001,\n     'specific_yield': 0.1,\n     'initial_head': 1.0,\n     'top': 1,\n     'bottom': 0}}]},\n 'calculation_type': 'mf2005',\n 'calculation_profile': {'calculation_type': 'mf2005',\n  'profile_type': 'default',\n  'name': 'Modflow 2005 default calculation profile',\n  'description': 'Modflow 2005 default calculation profile',\n  'packages': {'oc': {'ihedfm': 0,\n    'iddnfm': 0,\n    'chedfm': None,\n    'cddnfm': None,\n    'cboufm': None,\n    'compact': True,\n    'stress_period_data': None,\n    'extension': ['oc', 'hds', 'ddn', 'cbc', 'ibo'],\n    'unitnumber': None,\n    'filenames': None,\n    'label': 'OC'},\n   'flow_package': 'lpf',\n   'solver_package': {'type': 'pcg',\n    'data': {'mxiter': 50,\n     'iter1': 30,\n     'npcond': 1,\n     'hclose': 1e-05,\n     'rclose': 1e-05,\n     'relax': 1.0,\n     'nbpol': 0,\n     'iprpcg': 0,\n     'mutpcg': 3,\n     'damp': 1.0,\n     'dampt': 1.0,\n     'ihcofadd': 0,\n     'extension': 'pcg',\n     'unitnumber': None,\n     'filenames': None}}}}}"
     },
     "execution_count": 8,
     "metadata": {},
     "output_type": "execute_result"
    }
   ],
   "source": [
    "from morpheus.modflow.infrastructure.calculation.modflow_2005.types.Calculation import Modflow2005Calculation\n",
    "from morpheus.modflow.infrastructure.calculation.modflow_2005.types.CalculationProfile import Mf2005CalculationProfile\n",
    "\n",
    "calculation_profile = Mf2005CalculationProfile.new()\n",
    "mf2005_calculation = Modflow2005Calculation.new(modflow_model=modflow_model, calculation_profile=calculation_profile)\n",
    "mf2005_calculation.to_dict()"
   ],
   "metadata": {
    "collapsed": false,
    "ExecuteTime": {
     "end_time": "2023-12-06T14:57:14.580202Z",
     "start_time": "2023-12-06T14:57:14.109105Z"
    }
   },
   "id": "56ccabee86e2397e"
  },
  {
   "cell_type": "markdown",
   "source": [],
   "metadata": {
    "collapsed": false
   },
   "id": "8a683bd5250a3ee6"
  },
  {
   "cell_type": "code",
   "execution_count": 9,
   "outputs": [],
   "source": [
    "from morpheus.modflow.tasks import calculate_modflow_model"
   ],
   "metadata": {
    "collapsed": false,
    "ExecuteTime": {
     "end_time": "2023-12-06T14:57:14.909605Z",
     "start_time": "2023-12-06T14:57:14.575540Z"
    }
   },
   "id": "672007fb90753c4c"
  },
  {
   "cell_type": "code",
   "execution_count": 10,
   "outputs": [
    {
     "data": {
      "text/plain": "{'id': '5b825332-47dc-4d9a-bde5-281a92f1ba14', 'state': 'PENDING'}"
     },
     "execution_count": 10,
     "metadata": {},
     "output_type": "execute_result"
    }
   ],
   "source": [
    "result = calculate_modflow_model.delay(mf2005_calculation.to_dict())\n",
    "result_state = result.state\n",
    "result_id = result.id\n",
    "{'id': result_id, 'state': result_state}"
   ],
   "metadata": {
    "collapsed": false,
    "ExecuteTime": {
     "end_time": "2023-12-06T14:57:14.970138Z",
     "start_time": "2023-12-06T14:57:14.910242Z"
    }
   },
   "id": "dd56d260ba78b50f"
  },
  {
   "cell_type": "code",
   "execution_count": 11,
   "outputs": [
    {
     "data": {
      "text/plain": "{'id': '5b825332-47dc-4d9a-bde5-281a92f1ba14',\n 'state': 'PENDING',\n 'ready': False,\n 'successful': False,\n 'value': None}"
     },
     "execution_count": 11,
     "metadata": {},
     "output_type": "execute_result"
    }
   ],
   "source": [
    "from celery.result import AsyncResult\n",
    "\n",
    "result = AsyncResult(id=result_id)\n",
    "{\n",
    "  'id': result.id,\n",
    "  'state': result.state,\n",
    "  'ready': result.ready(),\n",
    "  'successful': result.successful(),\n",
    "  'value': result.result if result.ready() else None,\n",
    "}"
   ],
   "metadata": {
    "collapsed": false,
    "ExecuteTime": {
     "end_time": "2023-12-06T14:57:14.976669Z",
     "start_time": "2023-12-06T14:57:14.967648Z"
    }
   },
   "id": "79cdf465cd748bb7"
  },
  {
   "cell_type": "code",
   "execution_count": 12,
   "outputs": [
    {
     "data": {
      "text/plain": "'b73bc17d-2cb0-471c-87c1-7bced2d0b7d0'"
     },
     "execution_count": 12,
     "metadata": {},
     "output_type": "execute_result"
    }
   ],
   "source": [
    "mf2005_calculation.calculation_id.to_str()"
   ],
   "metadata": {
    "collapsed": false,
    "ExecuteTime": {
     "end_time": "2023-12-06T14:57:14.981967Z",
     "start_time": "2023-12-06T14:57:14.977336Z"
    }
   },
   "id": "e57747c5eec94970"
  },
  {
   "cell_type": "code",
   "execution_count": 12,
   "outputs": [],
   "source": [],
   "metadata": {
    "collapsed": false,
    "ExecuteTime": {
     "end_time": "2023-12-06T14:57:14.986565Z",
     "start_time": "2023-12-06T14:57:14.981176Z"
    }
   },
   "id": "d04c548bbc8b4da9"
  }
 ],
 "metadata": {
  "kernelspec": {
   "display_name": "Python 3",
   "language": "python",
   "name": "python3"
  },
  "language_info": {
   "codemirror_mode": {
    "name": "ipython",
    "version": 2
   },
   "file_extension": ".py",
   "mimetype": "text/x-python",
   "name": "python",
   "nbconvert_exporter": "python",
   "pygments_lexer": "ipython2",
   "version": "2.7.6"
  }
 },
 "nbformat": 4,
 "nbformat_minor": 5
}
