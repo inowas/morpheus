{
 "cells": [
  {
   "cell_type": "code",
   "execution_count": 1,
   "id": "e7414753bb4e85d3",
   "metadata": {
    "ExecuteTime": {
     "end_time": "2024-06-19T08:56:07.456608Z",
     "start_time": "2024-06-19T08:56:07.449721Z"
    },
    "execution": {
     "iopub.execute_input": "2024-06-19T13:17:29.142276Z",
     "iopub.status.busy": "2024-06-19T13:17:29.141810Z",
     "iopub.status.idle": "2024-06-19T13:17:29.147976Z",
     "shell.execute_reply": "2024-06-19T13:17:29.147259Z"
    },
    "papermill": {
     "duration": 0.023014,
     "end_time": "2024-06-19T13:17:29.150071",
     "exception": false,
     "start_time": "2024-06-19T13:17:29.127057",
     "status": "completed"
    },
    "tags": []
   },
   "outputs": [],
   "source": [
    "import sys\n",
    "\n",
    "sys.path.insert(0, '..')"
   ]
  },
  {
   "cell_type": "markdown",
   "id": "20bab5b7ae774cc4",
   "metadata": {
    "papermill": {
     "duration": 0.005823,
     "end_time": "2024-06-19T13:17:29.163732",
     "exception": false,
     "start_time": "2024-06-19T13:17:29.157909",
     "status": "completed"
    },
    "tags": []
   },
   "source": [
    "## Setup the model area"
   ]
  },
  {
   "cell_type": "code",
   "execution_count": 2,
   "id": "90f41fb5d5d3a413",
   "metadata": {
    "ExecuteTime": {
     "end_time": "2024-06-19T08:56:08.485896Z",
     "start_time": "2024-06-19T08:56:07.490093Z"
    },
    "execution": {
     "iopub.execute_input": "2024-06-19T13:17:29.169438Z",
     "iopub.status.busy": "2024-06-19T13:17:29.169240Z",
     "iopub.status.idle": "2024-06-19T13:17:29.963540Z",
     "shell.execute_reply": "2024-06-19T13:17:29.963280Z"
    },
    "papermill": {
     "duration": 0.79834,
     "end_time": "2024-06-19T13:17:29.964489",
     "exception": false,
     "start_time": "2024-06-19T13:17:29.166149",
     "status": "completed"
    },
    "tags": []
   },
   "outputs": [
    {
     "data": {
      "text/plain": [
       "SpatialDiscretization(geometry=Polygon(coordinates=[[(13.922514437551428, 50.964720483303836), (13.925250781947113, 50.965228748412386), (13.925036413951403, 50.96623732041704), (13.92222441026388, 50.96629040370362), (13.922514437551428, 50.964720483303836)]], type='Polygon'), grid=Grid(origin=Point(coordinates=(13.922224410263878, 50.9662904037036), type='Point'), col_widths=[33.68941547288559, 33.68941547288559, 33.6894154728856, 33.689415472885585, 33.6894154728856, 33.6894154728856, 33.68941547288557, 33.6894154728856, 33.68941547288563, 33.68941547288557], total_width=336.89415472885594, row_heights=[27.74944856585935, 27.74944856585935, 27.749448565859346, 27.749448565859353, 27.74944856585934, 27.749448565859353, 27.749448565859325, 27.74944856585938, 27.749448565859325, 27.749448565859353], total_height=277.4944856585935, rotation=Rotation(value=0), length_unit=LengthUnit(unit=2)), affected_cells=ActiveCells(shape=(10, 10), data=[ActiveCell(col=0, row=0), ActiveCell(col=0, row=1), ActiveCell(col=0, row=2), ActiveCell(col=0, row=3), ActiveCell(col=0, row=4), ActiveCell(col=1, row=0), ActiveCell(col=1, row=1), ActiveCell(col=1, row=2), ActiveCell(col=1, row=3), ActiveCell(col=1, row=4), ActiveCell(col=1, row=5), ActiveCell(col=1, row=6), ActiveCell(col=1, row=7), ActiveCell(col=1, row=8), ActiveCell(col=1, row=9), ActiveCell(col=2, row=0), ActiveCell(col=2, row=1), ActiveCell(col=2, row=2), ActiveCell(col=2, row=3), ActiveCell(col=2, row=4), ActiveCell(col=2, row=5), ActiveCell(col=2, row=6), ActiveCell(col=2, row=7), ActiveCell(col=2, row=8), ActiveCell(col=3, row=0), ActiveCell(col=3, row=1), ActiveCell(col=3, row=2), ActiveCell(col=3, row=3), ActiveCell(col=3, row=4), ActiveCell(col=3, row=5), ActiveCell(col=3, row=6), ActiveCell(col=3, row=7), ActiveCell(col=3, row=8), ActiveCell(col=4, row=0), ActiveCell(col=4, row=1), ActiveCell(col=4, row=2), ActiveCell(col=4, row=3), ActiveCell(col=4, row=4), ActiveCell(col=4, row=5), ActiveCell(col=4, row=6), ActiveCell(col=4, row=7), ActiveCell(col=4, row=8), ActiveCell(col=5, row=0), ActiveCell(col=5, row=1), ActiveCell(col=5, row=2), ActiveCell(col=5, row=3), ActiveCell(col=5, row=4), ActiveCell(col=5, row=5), ActiveCell(col=5, row=6), ActiveCell(col=5, row=7), ActiveCell(col=6, row=0), ActiveCell(col=6, row=1), ActiveCell(col=6, row=2), ActiveCell(col=6, row=3), ActiveCell(col=6, row=4), ActiveCell(col=6, row=5), ActiveCell(col=6, row=6), ActiveCell(col=6, row=7), ActiveCell(col=7, row=0), ActiveCell(col=7, row=1), ActiveCell(col=7, row=2), ActiveCell(col=7, row=3), ActiveCell(col=7, row=4), ActiveCell(col=7, row=5), ActiveCell(col=7, row=6), ActiveCell(col=7, row=7), ActiveCell(col=8, row=0), ActiveCell(col=8, row=1), ActiveCell(col=8, row=2), ActiveCell(col=8, row=3), ActiveCell(col=8, row=4), ActiveCell(col=8, row=5), ActiveCell(col=8, row=6), ActiveCell(col=9, row=2), ActiveCell(col=9, row=3), ActiveCell(col=9, row=4), ActiveCell(col=9, row=5), ActiveCell(col=9, row=6)]))"
      ]
     },
     "execution_count": 2,
     "metadata": {},
     "output_type": "execute_result"
    }
   ],
   "source": [
    "from morpheus.project.types.Project import ProjectId\n",
    "from morpheus.project.types.discretization.spatial import ActiveCells\n",
    "from morpheus.project.types.discretization import SpatialDiscretization\n",
    "from morpheus.project.types.discretization.spatial import Rotation, LengthUnit, Grid, Crs\n",
    "from morpheus.project.types.geometry import Polygon, LineString\n",
    "\n",
    "project_id = ProjectId.new()\n",
    "\n",
    "polygon = Polygon(\n",
    "  type='Polygon',\n",
    "  coordinates=[[\n",
    "    (13.922514437551428, 50.964720483303836),\n",
    "    (13.925250781947113, 50.965228748412386),\n",
    "    (13.925036413951403, 50.96623732041704),\n",
    "    (13.92222441026388, 50.96629040370362),\n",
    "    (13.922514437551428, 50.964720483303836)\n",
    "  ]]\n",
    ")\n",
    "\n",
    "rotation = Rotation(0)\n",
    "length_unit = LengthUnit.meters()\n",
    "relative_col_coordinates = [0, 0.1, 0.2, 0.3, 0.4, 0.5, 0.6, 0.7, 0.8, 0.9, 1]\n",
    "relative_row_coordinates = [0, 0.1, 0.2, 0.3, 0.4, 0.5, 0.6, 0.7, 0.8, 0.9, 1]\n",
    "\n",
    "grid = Grid.from_polygon_with_relative_coordinates(\n",
    "  polygon=polygon,\n",
    "  relative_col_coordinates=relative_col_coordinates,\n",
    "  relative_row_coordinates=relative_row_coordinates,\n",
    "  rotation=rotation,\n",
    ")\n",
    "\n",
    "spatial_discretization = SpatialDiscretization(\n",
    "  geometry=polygon,\n",
    "  grid=grid,\n",
    "  affected_cells=ActiveCells.from_polygon(polygon=polygon, grid=grid),\n",
    "  crs=Crs.from_str('EPSG:4326')\n",
    ")\n",
    "\n",
    "spatial_discretization"
   ]
  },
  {
   "cell_type": "markdown",
   "id": "55a07c49f85a3271",
   "metadata": {
    "papermill": {
     "duration": 0.001974,
     "end_time": "2024-06-19T13:17:29.968533",
     "exception": false,
     "start_time": "2024-06-19T13:17:29.966559",
     "status": "completed"
    },
    "tags": []
   },
   "source": [
    "## Setup Time Discretization"
   ]
  },
  {
   "cell_type": "code",
   "execution_count": 3,
   "id": "51efe86c0dee3310",
   "metadata": {
    "ExecuteTime": {
     "end_time": "2024-06-19T08:56:08.491437Z",
     "start_time": "2024-06-19T08:56:08.486868Z"
    },
    "execution": {
     "iopub.execute_input": "2024-06-19T13:17:29.972570Z",
     "iopub.status.busy": "2024-06-19T13:17:29.972421Z",
     "iopub.status.idle": "2024-06-19T13:17:29.975173Z",
     "shell.execute_reply": "2024-06-19T13:17:29.974926Z"
    },
    "papermill": {
     "duration": 0.00564,
     "end_time": "2024-06-19T13:17:29.975912",
     "exception": false,
     "start_time": "2024-06-19T13:17:29.970272",
     "status": "completed"
    },
    "tags": []
   },
   "outputs": [
    {
     "data": {
      "text/plain": [
       "TimeDiscretization(start_date_time=StartDateTime(value=datetime.datetime(2020, 1, 1, 0, 0, tzinfo=datetime.timezone.utc)), end_date_time=StartDateTime(value=datetime.datetime(2020, 12, 31, 0, 0, tzinfo=datetime.timezone.utc)), stress_periods=StressPeriodCollection(values=[StressPeriod(start_date_time=StartDateTime(value=datetime.datetime(2020, 1, 1, 0, 0, tzinfo=datetime.timezone.utc)), number_of_time_steps=NumberOfTimeSteps(value=1), time_step_multiplier=TimeStepMultiplier(value=1), steady_state=IsSteadyState(value=True))]), time_unit=TimeUnit(unit=4))"
      ]
     },
     "execution_count": 3,
     "metadata": {},
     "output_type": "execute_result"
    }
   ],
   "source": [
    "from morpheus.project.types.discretization.time.TimeUnit import TimeUnit\n",
    "from morpheus.project.types.discretization.time.Stressperiods import StartDateTime, StressPeriodCollection, \\\n",
    "  StressPeriod, NumberOfTimeSteps, TimeStepMultiplier, IsSteadyState\n",
    "from morpheus.project.types.discretization.time import TimeDiscretization\n",
    "from datetime import datetime\n",
    "\n",
    "time_discretization = TimeDiscretization(\n",
    "  start_date_time=StartDateTime.from_datetime(datetime(2020, 1, 1)),\n",
    "  end_date_time=StartDateTime.from_datetime(datetime(2020, 12, 31)),\n",
    "  stress_periods=StressPeriodCollection([\n",
    "    StressPeriod(\n",
    "      start_date_time=StartDateTime.from_datetime(datetime(2020, 1, 1)),\n",
    "      number_of_time_steps=NumberOfTimeSteps(1),\n",
    "      time_step_multiplier=TimeStepMultiplier(1),\n",
    "      steady_state=IsSteadyState.yes()\n",
    "    ),\n",
    "  ]),\n",
    "  time_unit=TimeUnit.days()\n",
    ")\n",
    "\n",
    "time_discretization"
   ]
  },
  {
   "cell_type": "markdown",
   "id": "84da7c401564c113",
   "metadata": {
    "papermill": {
     "duration": 0.00171,
     "end_time": "2024-06-19T13:17:29.979440",
     "exception": false,
     "start_time": "2024-06-19T13:17:29.977730",
     "status": "completed"
    },
    "tags": []
   },
   "source": [
    "# Setup Model"
   ]
  },
  {
   "cell_type": "code",
   "execution_count": 4,
   "id": "f472c97904b10fd1",
   "metadata": {
    "ExecuteTime": {
     "end_time": "2024-06-19T08:56:08.499150Z",
     "start_time": "2024-06-19T08:56:08.492253Z"
    },
    "execution": {
     "iopub.execute_input": "2024-06-19T13:17:29.983392Z",
     "iopub.status.busy": "2024-06-19T13:17:29.983297Z",
     "iopub.status.idle": "2024-06-19T13:17:29.988439Z",
     "shell.execute_reply": "2024-06-19T13:17:29.988209Z"
    },
    "papermill": {
     "duration": 0.008043,
     "end_time": "2024-06-19T13:17:29.989254",
     "exception": false,
     "start_time": "2024-06-19T13:17:29.981211",
     "status": "completed"
    },
    "tags": []
   },
   "outputs": [],
   "source": [
    "from morpheus.project.types.Model import Model\n",
    "\n",
    "model = Model.new()\n",
    "model = model.with_updated_time_discretization(time_discretization)\n",
    "model = model.with_updated_spatial_discretization(spatial_discretization=spatial_discretization)"
   ]
  },
  {
   "cell_type": "code",
   "execution_count": 5,
   "id": "34616006780fb0ac",
   "metadata": {
    "ExecuteTime": {
     "end_time": "2024-06-19T08:56:08.643385Z",
     "start_time": "2024-06-19T08:56:08.500866Z"
    },
    "execution": {
     "iopub.execute_input": "2024-06-19T13:17:29.993288Z",
     "iopub.status.busy": "2024-06-19T13:17:29.993186Z",
     "iopub.status.idle": "2024-06-19T13:17:30.115592Z",
     "shell.execute_reply": "2024-06-19T13:17:30.115357Z"
    },
    "papermill": {
     "duration": 0.125319,
     "end_time": "2024-06-19T13:17:30.116404",
     "exception": false,
     "start_time": "2024-06-19T13:17:29.991085",
     "status": "completed"
    },
    "tags": []
   },
   "outputs": [
    {
     "data": {
      "text/html": [
       "<div style=\"width:100%;\"><div style=\"position:relative;width:100%;height:0;padding-bottom:60%;\"><span style=\"color:#565656\">Make this Notebook Trusted to load map: File -> Trust Notebook</span><iframe srcdoc=\"&lt;!DOCTYPE html&gt;\n",
       "&lt;html&gt;\n",
       "&lt;head&gt;\n",
       "    \n",
       "    &lt;meta http-equiv=&quot;content-type&quot; content=&quot;text/html; charset=UTF-8&quot; /&gt;\n",
       "    \n",
       "        &lt;script&gt;\n",
       "            L_NO_TOUCH = false;\n",
       "            L_DISABLE_3D = false;\n",
       "        &lt;/script&gt;\n",
       "    \n",
       "    &lt;style&gt;html, body {width: 100%;height: 100%;margin: 0;padding: 0;}&lt;/style&gt;\n",
       "    &lt;style&gt;#map {position:absolute;top:0;bottom:0;right:0;left:0;}&lt;/style&gt;\n",
       "    &lt;script src=&quot;https://cdn.jsdelivr.net/npm/leaflet@1.9.3/dist/leaflet.js&quot;&gt;&lt;/script&gt;\n",
       "    &lt;script src=&quot;https://code.jquery.com/jquery-3.7.1.min.js&quot;&gt;&lt;/script&gt;\n",
       "    &lt;script src=&quot;https://cdn.jsdelivr.net/npm/bootstrap@5.2.2/dist/js/bootstrap.bundle.min.js&quot;&gt;&lt;/script&gt;\n",
       "    &lt;script src=&quot;https://cdnjs.cloudflare.com/ajax/libs/Leaflet.awesome-markers/2.0.2/leaflet.awesome-markers.js&quot;&gt;&lt;/script&gt;\n",
       "    &lt;link rel=&quot;stylesheet&quot; href=&quot;https://cdn.jsdelivr.net/npm/leaflet@1.9.3/dist/leaflet.css&quot;/&gt;\n",
       "    &lt;link rel=&quot;stylesheet&quot; href=&quot;https://cdn.jsdelivr.net/npm/bootstrap@5.2.2/dist/css/bootstrap.min.css&quot;/&gt;\n",
       "    &lt;link rel=&quot;stylesheet&quot; href=&quot;https://netdna.bootstrapcdn.com/bootstrap/3.0.0/css/bootstrap.min.css&quot;/&gt;\n",
       "    &lt;link rel=&quot;stylesheet&quot; href=&quot;https://cdn.jsdelivr.net/npm/@fortawesome/fontawesome-free@6.2.0/css/all.min.css&quot;/&gt;\n",
       "    &lt;link rel=&quot;stylesheet&quot; href=&quot;https://cdnjs.cloudflare.com/ajax/libs/Leaflet.awesome-markers/2.0.2/leaflet.awesome-markers.css&quot;/&gt;\n",
       "    &lt;link rel=&quot;stylesheet&quot; href=&quot;https://cdn.jsdelivr.net/gh/python-visualization/folium/folium/templates/leaflet.awesome.rotate.min.css&quot;/&gt;\n",
       "    \n",
       "            &lt;meta name=&quot;viewport&quot; content=&quot;width=device-width,\n",
       "                initial-scale=1.0, maximum-scale=1.0, user-scalable=no&quot; /&gt;\n",
       "            &lt;style&gt;\n",
       "                #map_2f5d3935b2639fb10fb9776257a66a10 {\n",
       "                    position: relative;\n",
       "                    width: 100.0%;\n",
       "                    height: 100.0%;\n",
       "                    left: 0.0%;\n",
       "                    top: 0.0%;\n",
       "                }\n",
       "                .leaflet-container { font-size: 1rem; }\n",
       "            &lt;/style&gt;\n",
       "        \n",
       "&lt;/head&gt;\n",
       "&lt;body&gt;\n",
       "    \n",
       "    \n",
       "            &lt;div class=&quot;folium-map&quot; id=&quot;map_2f5d3935b2639fb10fb9776257a66a10&quot; &gt;&lt;/div&gt;\n",
       "        \n",
       "&lt;/body&gt;\n",
       "&lt;script&gt;\n",
       "    \n",
       "    \n",
       "            var map_2f5d3935b2639fb10fb9776257a66a10 = L.map(\n",
       "                &quot;map_2f5d3935b2639fb10fb9776257a66a10&quot;,\n",
       "                {\n",
       "                    center: [50.965, 13.922],\n",
       "                    crs: L.CRS.EPSG3857,\n",
       "                    zoom: 12,\n",
       "                    zoomControl: true,\n",
       "                    preferCanvas: false,\n",
       "                }\n",
       "            );\n",
       "\n",
       "            \n",
       "\n",
       "        \n",
       "    \n",
       "            var tile_layer_f0cbfb9310d7edb6492362d5dddcb384 = L.tileLayer(\n",
       "                &quot;https://{s}.basemaps.cartocdn.com/light_all/{z}/{x}/{y}{r}.png&quot;,\n",
       "                {&quot;attribution&quot;: &quot;\\u0026copy; \\u003ca href=\\&quot;https://www.openstreetmap.org/copyright\\&quot;\\u003eOpenStreetMap\\u003c/a\\u003e contributors \\u0026copy; \\u003ca href=\\&quot;https://carto.com/attributions\\&quot;\\u003eCARTO\\u003c/a\\u003e&quot;, &quot;detectRetina&quot;: false, &quot;maxNativeZoom&quot;: 20, &quot;maxZoom&quot;: 20, &quot;minZoom&quot;: 0, &quot;noWrap&quot;: false, &quot;opacity&quot;: 1, &quot;subdomains&quot;: &quot;abcd&quot;, &quot;tms&quot;: false}\n",
       "            );\n",
       "        \n",
       "    \n",
       "            tile_layer_f0cbfb9310d7edb6492362d5dddcb384.addTo(map_2f5d3935b2639fb10fb9776257a66a10);\n",
       "        \n",
       "    \n",
       "\n",
       "        function geo_json_66762a64a98c2c2498b9a58d4b32ba13_onEachFeature(feature, layer) {\n",
       "            layer.on({\n",
       "            });\n",
       "        };\n",
       "        var geo_json_66762a64a98c2c2498b9a58d4b32ba13 = L.geoJson(null, {\n",
       "                onEachFeature: geo_json_66762a64a98c2c2498b9a58d4b32ba13_onEachFeature,\n",
       "            \n",
       "        });\n",
       "\n",
       "        function geo_json_66762a64a98c2c2498b9a58d4b32ba13_add (data) {\n",
       "            geo_json_66762a64a98c2c2498b9a58d4b32ba13\n",
       "                .addData(data);\n",
       "        }\n",
       "            geo_json_66762a64a98c2c2498b9a58d4b32ba13_add({&quot;coordinates&quot;: [[[13.922514437551428, 50.964720483303836], [13.925250781947113, 50.965228748412386], [13.925036413951403, 50.96623732041704], [13.92222441026388, 50.96629040370362], [13.922514437551428, 50.964720483303836]]], &quot;type&quot;: &quot;Polygon&quot;});\n",
       "\n",
       "        \n",
       "    \n",
       "            geo_json_66762a64a98c2c2498b9a58d4b32ba13.addTo(map_2f5d3935b2639fb10fb9776257a66a10);\n",
       "        \n",
       "    \n",
       "            map_2f5d3935b2639fb10fb9776257a66a10.fitBounds(\n",
       "                [[50.964720483303836, 13.92222441026388], [50.96629040370362, 13.925250781947113]],\n",
       "                {}\n",
       "            );\n",
       "        \n",
       "&lt;/script&gt;\n",
       "&lt;/html&gt;\" style=\"position:absolute;width:100%;height:100%;left:0;top:0;border:none !important;\" allowfullscreen webkitallowfullscreen mozallowfullscreen></iframe></div></div>"
      ],
      "text/plain": [
       "<folium.folium.Map at 0x17b1c90a0>"
      ]
     },
     "execution_count": 5,
     "metadata": {},
     "output_type": "execute_result"
    }
   ],
   "source": [
    "import folium\n",
    "\n",
    "m = folium.Map(tiles=\"cartodbpositron\", crs=\"EPSG3857\", zoom_start=12, location=[50.965, 13.922])\n",
    "m.add_child(folium.GeoJson(polygon.as_geojson()))\n",
    "\n",
    "m.fit_bounds(m.get_bounds())\n",
    "m"
   ]
  },
  {
   "cell_type": "markdown",
   "id": "fd3eef70b177ddf5",
   "metadata": {
    "papermill": {
     "duration": 0.001881,
     "end_time": "2024-06-19T13:17:30.120421",
     "exception": false,
     "start_time": "2024-06-19T13:17:30.118540",
     "status": "completed"
    },
    "tags": []
   },
   "source": [
    "# Setup constant head boundary with 1 observation"
   ]
  },
  {
   "cell_type": "code",
   "execution_count": 6,
   "id": "40d1355b2e81ef98",
   "metadata": {
    "ExecuteTime": {
     "end_time": "2024-06-19T08:56:08.667475Z",
     "start_time": "2024-06-19T08:56:08.644158Z"
    },
    "execution": {
     "iopub.execute_input": "2024-06-19T13:17:30.124621Z",
     "iopub.status.busy": "2024-06-19T13:17:30.124463Z",
     "iopub.status.idle": "2024-06-19T13:17:30.148274Z",
     "shell.execute_reply": "2024-06-19T13:17:30.148017Z"
    },
    "papermill": {
     "duration": 0.026884,
     "end_time": "2024-06-19T13:17:30.149100",
     "exception": false,
     "start_time": "2024-06-19T13:17:30.122216",
     "status": "completed"
    },
    "tags": []
   },
   "outputs": [
    {
     "data": {
      "text/html": [
       "<div style=\"width:100%;\"><div style=\"position:relative;width:100%;height:0;padding-bottom:60%;\"><span style=\"color:#565656\">Make this Notebook Trusted to load map: File -> Trust Notebook</span><iframe srcdoc=\"&lt;!DOCTYPE html&gt;\n",
       "&lt;html&gt;\n",
       "&lt;head&gt;\n",
       "    \n",
       "    &lt;meta http-equiv=&quot;content-type&quot; content=&quot;text/html; charset=UTF-8&quot; /&gt;\n",
       "    \n",
       "        &lt;script&gt;\n",
       "            L_NO_TOUCH = false;\n",
       "            L_DISABLE_3D = false;\n",
       "        &lt;/script&gt;\n",
       "    \n",
       "    &lt;style&gt;html, body {width: 100%;height: 100%;margin: 0;padding: 0;}&lt;/style&gt;\n",
       "    &lt;style&gt;#map {position:absolute;top:0;bottom:0;right:0;left:0;}&lt;/style&gt;\n",
       "    &lt;script src=&quot;https://cdn.jsdelivr.net/npm/leaflet@1.9.3/dist/leaflet.js&quot;&gt;&lt;/script&gt;\n",
       "    &lt;script src=&quot;https://code.jquery.com/jquery-3.7.1.min.js&quot;&gt;&lt;/script&gt;\n",
       "    &lt;script src=&quot;https://cdn.jsdelivr.net/npm/bootstrap@5.2.2/dist/js/bootstrap.bundle.min.js&quot;&gt;&lt;/script&gt;\n",
       "    &lt;script src=&quot;https://cdnjs.cloudflare.com/ajax/libs/Leaflet.awesome-markers/2.0.2/leaflet.awesome-markers.js&quot;&gt;&lt;/script&gt;\n",
       "    &lt;link rel=&quot;stylesheet&quot; href=&quot;https://cdn.jsdelivr.net/npm/leaflet@1.9.3/dist/leaflet.css&quot;/&gt;\n",
       "    &lt;link rel=&quot;stylesheet&quot; href=&quot;https://cdn.jsdelivr.net/npm/bootstrap@5.2.2/dist/css/bootstrap.min.css&quot;/&gt;\n",
       "    &lt;link rel=&quot;stylesheet&quot; href=&quot;https://netdna.bootstrapcdn.com/bootstrap/3.0.0/css/bootstrap.min.css&quot;/&gt;\n",
       "    &lt;link rel=&quot;stylesheet&quot; href=&quot;https://cdn.jsdelivr.net/npm/@fortawesome/fontawesome-free@6.2.0/css/all.min.css&quot;/&gt;\n",
       "    &lt;link rel=&quot;stylesheet&quot; href=&quot;https://cdnjs.cloudflare.com/ajax/libs/Leaflet.awesome-markers/2.0.2/leaflet.awesome-markers.css&quot;/&gt;\n",
       "    &lt;link rel=&quot;stylesheet&quot; href=&quot;https://cdn.jsdelivr.net/gh/python-visualization/folium/folium/templates/leaflet.awesome.rotate.min.css&quot;/&gt;\n",
       "    \n",
       "            &lt;meta name=&quot;viewport&quot; content=&quot;width=device-width,\n",
       "                initial-scale=1.0, maximum-scale=1.0, user-scalable=no&quot; /&gt;\n",
       "            &lt;style&gt;\n",
       "                #map_2f5d3935b2639fb10fb9776257a66a10 {\n",
       "                    position: relative;\n",
       "                    width: 100.0%;\n",
       "                    height: 100.0%;\n",
       "                    left: 0.0%;\n",
       "                    top: 0.0%;\n",
       "                }\n",
       "                .leaflet-container { font-size: 1rem; }\n",
       "            &lt;/style&gt;\n",
       "        \n",
       "&lt;/head&gt;\n",
       "&lt;body&gt;\n",
       "    \n",
       "    \n",
       "            &lt;div class=&quot;folium-map&quot; id=&quot;map_2f5d3935b2639fb10fb9776257a66a10&quot; &gt;&lt;/div&gt;\n",
       "        \n",
       "&lt;/body&gt;\n",
       "&lt;script&gt;\n",
       "    \n",
       "    \n",
       "            var map_2f5d3935b2639fb10fb9776257a66a10 = L.map(\n",
       "                &quot;map_2f5d3935b2639fb10fb9776257a66a10&quot;,\n",
       "                {\n",
       "                    center: [50.965, 13.922],\n",
       "                    crs: L.CRS.EPSG3857,\n",
       "                    zoom: 12,\n",
       "                    zoomControl: true,\n",
       "                    preferCanvas: false,\n",
       "                }\n",
       "            );\n",
       "\n",
       "            \n",
       "\n",
       "        \n",
       "    \n",
       "            var tile_layer_f0cbfb9310d7edb6492362d5dddcb384 = L.tileLayer(\n",
       "                &quot;https://{s}.basemaps.cartocdn.com/light_all/{z}/{x}/{y}{r}.png&quot;,\n",
       "                {&quot;attribution&quot;: &quot;\\u0026copy; \\u003ca href=\\&quot;https://www.openstreetmap.org/copyright\\&quot;\\u003eOpenStreetMap\\u003c/a\\u003e contributors \\u0026copy; \\u003ca href=\\&quot;https://carto.com/attributions\\&quot;\\u003eCARTO\\u003c/a\\u003e&quot;, &quot;detectRetina&quot;: false, &quot;maxNativeZoom&quot;: 20, &quot;maxZoom&quot;: 20, &quot;minZoom&quot;: 0, &quot;noWrap&quot;: false, &quot;opacity&quot;: 1, &quot;subdomains&quot;: &quot;abcd&quot;, &quot;tms&quot;: false}\n",
       "            );\n",
       "        \n",
       "    \n",
       "            tile_layer_f0cbfb9310d7edb6492362d5dddcb384.addTo(map_2f5d3935b2639fb10fb9776257a66a10);\n",
       "        \n",
       "    \n",
       "\n",
       "        function geo_json_66762a64a98c2c2498b9a58d4b32ba13_onEachFeature(feature, layer) {\n",
       "            layer.on({\n",
       "            });\n",
       "        };\n",
       "        var geo_json_66762a64a98c2c2498b9a58d4b32ba13 = L.geoJson(null, {\n",
       "                onEachFeature: geo_json_66762a64a98c2c2498b9a58d4b32ba13_onEachFeature,\n",
       "            \n",
       "        });\n",
       "\n",
       "        function geo_json_66762a64a98c2c2498b9a58d4b32ba13_add (data) {\n",
       "            geo_json_66762a64a98c2c2498b9a58d4b32ba13\n",
       "                .addData(data);\n",
       "        }\n",
       "            geo_json_66762a64a98c2c2498b9a58d4b32ba13_add({&quot;coordinates&quot;: [[[13.922514437551428, 50.964720483303836], [13.925250781947113, 50.965228748412386], [13.925036413951403, 50.96623732041704], [13.92222441026388, 50.96629040370362], [13.922514437551428, 50.964720483303836]]], &quot;type&quot;: &quot;Polygon&quot;});\n",
       "\n",
       "        \n",
       "    \n",
       "            geo_json_66762a64a98c2c2498b9a58d4b32ba13.addTo(map_2f5d3935b2639fb10fb9776257a66a10);\n",
       "        \n",
       "    \n",
       "            map_2f5d3935b2639fb10fb9776257a66a10.fitBounds(\n",
       "                [[50.964720483303836, 13.92222441026388], [50.96629040370362, 13.925250781947113]],\n",
       "                {}\n",
       "            );\n",
       "        \n",
       "    \n",
       "            tile_layer_f0cbfb9310d7edb6492362d5dddcb384.addTo(map_2f5d3935b2639fb10fb9776257a66a10);\n",
       "        \n",
       "    \n",
       "            geo_json_66762a64a98c2c2498b9a58d4b32ba13.addTo(map_2f5d3935b2639fb10fb9776257a66a10);\n",
       "        \n",
       "    \n",
       "\n",
       "        function geo_json_9848aaeca426251126d2d9e30c36d863_onEachFeature(feature, layer) {\n",
       "            layer.on({\n",
       "            });\n",
       "        };\n",
       "        var geo_json_9848aaeca426251126d2d9e30c36d863 = L.geoJson(null, {\n",
       "                onEachFeature: geo_json_9848aaeca426251126d2d9e30c36d863_onEachFeature,\n",
       "            \n",
       "        });\n",
       "\n",
       "        function geo_json_9848aaeca426251126d2d9e30c36d863_add (data) {\n",
       "            geo_json_9848aaeca426251126d2d9e30c36d863\n",
       "                .addData(data);\n",
       "        }\n",
       "            geo_json_9848aaeca426251126d2d9e30c36d863_add({&quot;coordinates&quot;: [[13.9223, 50.9662], [13.925, 50.96615]], &quot;type&quot;: &quot;LineString&quot;});\n",
       "\n",
       "        \n",
       "    \n",
       "            geo_json_9848aaeca426251126d2d9e30c36d863.addTo(map_2f5d3935b2639fb10fb9776257a66a10);\n",
       "        \n",
       "    \n",
       "\n",
       "        function geo_json_67bdf39380e7b213bbba58cfca9c1cab_onEachFeature(feature, layer) {\n",
       "            layer.on({\n",
       "            });\n",
       "        };\n",
       "        var geo_json_67bdf39380e7b213bbba58cfca9c1cab = L.geoJson(null, {\n",
       "                onEachFeature: geo_json_67bdf39380e7b213bbba58cfca9c1cab_onEachFeature,\n",
       "            \n",
       "        });\n",
       "\n",
       "        function geo_json_67bdf39380e7b213bbba58cfca9c1cab_add (data) {\n",
       "            geo_json_67bdf39380e7b213bbba58cfca9c1cab\n",
       "                .addData(data);\n",
       "        }\n",
       "            geo_json_67bdf39380e7b213bbba58cfca9c1cab_add({&quot;geometries&quot;: [{&quot;coordinates&quot;: [[[13.922224410263878, 50.96629040370359], [13.922527047432201, 50.96629040370359], [13.922527047432201, 50.9661334140511], [13.922224410263878, 50.9661334140511], [13.922224410263878, 50.96629040370359]]], &quot;type&quot;: &quot;Polygon&quot;}, {&quot;coordinates&quot;: [[[13.922527047432201, 50.96629040370359], [13.922829684600526, 50.96629040370359], [13.922829684600526, 50.9661334140511], [13.922527047432201, 50.9661334140511], [13.922527047432201, 50.96629040370359]]], &quot;type&quot;: &quot;Polygon&quot;}, {&quot;coordinates&quot;: [[[13.922829684600526, 50.96629040370359], [13.923132321768849, 50.96629040370359], [13.923132321768849, 50.9661334140511], [13.922829684600526, 50.9661334140511], [13.922829684600526, 50.96629040370359]]], &quot;type&quot;: &quot;Polygon&quot;}, {&quot;coordinates&quot;: [[[13.923132321768849, 50.96629040370359], [13.923434958937172, 50.96629040370359], [13.923434958937172, 50.9661334140511], [13.923132321768849, 50.9661334140511], [13.923132321768849, 50.96629040370359]]], &quot;type&quot;: &quot;Polygon&quot;}, {&quot;coordinates&quot;: [[[13.923434958937172, 50.96629040370359], [13.923737596105495, 50.96629040370359], [13.923737596105495, 50.9661334140511], [13.923434958937172, 50.9661334140511], [13.923434958937172, 50.96629040370359]]], &quot;type&quot;: &quot;Polygon&quot;}, {&quot;coordinates&quot;: [[[13.923737596105495, 50.96629040370359], [13.924040233273818, 50.96629040370359], [13.924040233273818, 50.9661334140511], [13.923737596105495, 50.9661334140511], [13.923737596105495, 50.96629040370359]]], &quot;type&quot;: &quot;Polygon&quot;}, {&quot;coordinates&quot;: [[[13.924040233273818, 50.96629040370359], [13.924342870442143, 50.96629040370359], [13.924342870442143, 50.9661334140511], [13.924040233273818, 50.9661334140511], [13.924040233273818, 50.96629040370359]]], &quot;type&quot;: &quot;Polygon&quot;}, {&quot;coordinates&quot;: [[[13.924342870442143, 50.96629040370359], [13.924645507610466, 50.96629040370359], [13.924645507610466, 50.9661334140511], [13.924342870442143, 50.9661334140511], [13.924342870442143, 50.96629040370359]]], &quot;type&quot;: &quot;Polygon&quot;}, {&quot;coordinates&quot;: [[[13.924645507610466, 50.96629040370359], [13.92494814477879, 50.96629040370359], [13.92494814477879, 50.9661334140511], [13.924645507610466, 50.9661334140511], [13.924645507610466, 50.96629040370359]]], &quot;type&quot;: &quot;Polygon&quot;}, {&quot;coordinates&quot;: [[[13.92494814477879, 50.96629040370359], [13.925250781947113, 50.96629040370359], [13.925250781947113, 50.9661334140511], [13.92494814477879, 50.9661334140511], [13.92494814477879, 50.96629040370359]]], &quot;type&quot;: &quot;Polygon&quot;}], &quot;type&quot;: &quot;GeometryCollection&quot;});\n",
       "\n",
       "        \n",
       "    \n",
       "            geo_json_67bdf39380e7b213bbba58cfca9c1cab.addTo(map_2f5d3935b2639fb10fb9776257a66a10);\n",
       "        \n",
       "    \n",
       "\n",
       "        function geo_json_964ff417b838b6653373c5b36ca0f764_onEachFeature(feature, layer) {\n",
       "            layer.on({\n",
       "            });\n",
       "        };\n",
       "        var geo_json_964ff417b838b6653373c5b36ca0f764 = L.geoJson(null, {\n",
       "                onEachFeature: geo_json_964ff417b838b6653373c5b36ca0f764_onEachFeature,\n",
       "            \n",
       "        });\n",
       "\n",
       "        function geo_json_964ff417b838b6653373c5b36ca0f764_add (data) {\n",
       "            geo_json_964ff417b838b6653373c5b36ca0f764\n",
       "                .addData(data);\n",
       "        }\n",
       "            geo_json_964ff417b838b6653373c5b36ca0f764_add({&quot;coordinates&quot;: [13.9223, 50.9662], &quot;type&quot;: &quot;Point&quot;});\n",
       "\n",
       "        \n",
       "    \n",
       "            geo_json_964ff417b838b6653373c5b36ca0f764.addTo(map_2f5d3935b2639fb10fb9776257a66a10);\n",
       "        \n",
       "    \n",
       "            map_2f5d3935b2639fb10fb9776257a66a10.fitBounds(\n",
       "                [[50.964720483303836, 13.922224410263878], [50.96629040370362, 13.925250781947113]],\n",
       "                {}\n",
       "            );\n",
       "        \n",
       "&lt;/script&gt;\n",
       "&lt;/html&gt;\" style=\"position:absolute;width:100%;height:100%;left:0;top:0;border:none !important;\" allowfullscreen webkitallowfullscreen mozallowfullscreen></iframe></div></div>"
      ],
      "text/plain": [
       "<folium.folium.Map at 0x17b1c90a0>"
      ]
     },
     "execution_count": 6,
     "metadata": {},
     "output_type": "execute_result"
    }
   ],
   "source": [
    "from morpheus.project.types.boundaries.Observation import ObservationId, ObservationName\n",
    "from morpheus.project.types.geometry import Point\n",
    "from morpheus.project.types.boundaries.Boundary import BoundaryName, ConstantHeadBoundary\n",
    "from morpheus.project.types.layers import LayerId\n",
    "from morpheus.project.types.boundaries.ConstantHeadObservation import ConstantHeadObservation, ConstantHeadRawDataItem, \\\n",
    "  HeadValue\n",
    "\n",
    "layers_list = [LayerId.new()]\n",
    "constant_head = ConstantHeadBoundary.from_geometry(\n",
    "  name=BoundaryName('constant_head'),\n",
    "  geometry=LineString([\n",
    "    (13.9223, 50.9662),\n",
    "    (13.9250, 50.96615),\n",
    "  ]),\n",
    "  grid=grid,\n",
    "  affected_layers=[model.layers[0].layer_id],\n",
    "  observations=[\n",
    "    ConstantHeadObservation(\n",
    "      observation_id=ObservationId.new(),\n",
    "      observation_name=ObservationName.default(),\n",
    "      geometry=Point((13.9223, 50.9662)),\n",
    "      data=[\n",
    "        ConstantHeadRawDataItem(\n",
    "          date_time=StartDateTime.from_datetime(datetime(2019, 1, 1)),\n",
    "          head=HeadValue.from_float(100),\n",
    "        ),\n",
    "        ConstantHeadRawDataItem(\n",
    "          date_time=StartDateTime.from_datetime(datetime(2021, 12, 31)),\n",
    "          head=HeadValue.from_float(100),\n",
    "        ),\n",
    "      ]\n",
    "    )\n",
    "  ]\n",
    ")\n",
    "\n",
    "m.add_child(folium.GeoJson(constant_head.as_geojson()))\n",
    "m.add_child(folium.GeoJson(constant_head.affected_cells.to_geojson(grid).as_geojson()))\n",
    "for constant_head.observation in constant_head.observations:\n",
    "  m.add_child(folium.GeoJson(constant_head.observation.as_geojson()))\n",
    "m.fit_bounds(m.get_bounds())\n",
    "m"
   ]
  },
  {
   "cell_type": "code",
   "execution_count": 7,
   "id": "7c82464ff5708ee7",
   "metadata": {
    "ExecuteTime": {
     "end_time": "2024-06-19T08:56:08.671398Z",
     "start_time": "2024-06-19T08:56:08.668736Z"
    },
    "execution": {
     "iopub.execute_input": "2024-06-19T13:17:30.153936Z",
     "iopub.status.busy": "2024-06-19T13:17:30.153834Z",
     "iopub.status.idle": "2024-06-19T13:17:30.155805Z",
     "shell.execute_reply": "2024-06-19T13:17:30.155540Z"
    },
    "papermill": {
     "duration": 0.005287,
     "end_time": "2024-06-19T13:17:30.156675",
     "exception": false,
     "start_time": "2024-06-19T13:17:30.151388",
     "status": "completed"
    },
    "tags": []
   },
   "outputs": [],
   "source": [
    "from morpheus.project.types.boundaries.Boundary import BoundaryCollection\n",
    "\n",
    "boundaries = BoundaryCollection.new()\n",
    "boundaries.add_boundary(constant_head)\n",
    "model = model.with_updated_boundaries(boundaries=boundaries)"
   ]
  },
  {
   "cell_type": "code",
   "execution_count": null,
   "id": "467345a686f72a46",
   "metadata": {
    "ExecuteTime": {
     "end_time": "2024-06-19T08:56:08.674653Z",
     "start_time": "2024-06-19T08:56:08.672577Z"
    },
    "papermill": {
     "duration": 0.001958,
     "end_time": "2024-06-19T13:17:30.161046",
     "exception": false,
     "start_time": "2024-06-19T13:17:30.159088",
     "status": "completed"
    },
    "tags": []
   },
   "outputs": [],
   "source": []
  },
  {
   "cell_type": "markdown",
   "id": "def59c686f992cf9",
   "metadata": {
    "papermill": {
     "duration": 0.001907,
     "end_time": "2024-06-19T13:17:30.164894",
     "exception": false,
     "start_time": "2024-06-19T13:17:30.162987",
     "status": "completed"
    },
    "tags": []
   },
   "source": [
    "## Calculate the model asynchronously with celery"
   ]
  },
  {
   "cell_type": "code",
   "execution_count": 8,
   "id": "55efe9e12e77c901",
   "metadata": {
    "ExecuteTime": {
     "end_time": "2024-06-19T08:56:08.681990Z",
     "start_time": "2024-06-19T08:56:08.676803Z"
    },
    "execution": {
     "iopub.execute_input": "2024-06-19T13:17:30.169373Z",
     "iopub.status.busy": "2024-06-19T13:17:30.169245Z",
     "iopub.status.idle": "2024-06-19T13:17:30.171765Z",
     "shell.execute_reply": "2024-06-19T13:17:30.171515Z"
    },
    "papermill": {
     "duration": 0.005739,
     "end_time": "2024-06-19T13:17:30.172518",
     "exception": false,
     "start_time": "2024-06-19T13:17:30.166779",
     "status": "completed"
    },
    "tags": []
   },
   "outputs": [
    {
     "data": {
      "text/plain": [
       "Mf2005CalculationEngineSettings(mf=MfPackageSettings(verbose=False), dis=DisPackageSettings(), bas=BasPackageSettings(ichflg=False, hnoflo=-999.99, stoper=None), chd=ChdPackageSettings(), drn=DrnPackageSettings(ipakcb=0), evt=EvtPackageSettings(ipakcb=0, nevtop=1), fhb=FhbPackageSettings(ipakcb=0, ifhbss=0, ifhbpt=0), ghb=GhbPackageSettings(ipakcb=0), lak=LakPackageSettings(ipakcb=0, theta=1.0), rch=RchPackageSettings(ipakcb=0), riv=RivPackageSettings(ipakcb=0), wel=WelPackageSettings(ipakcb=0), hob=HobPackageSettings(iuhobsv=1, hobdry=0.0, tomulth=1.0), selected_flow_package='lpf', available_flow_packages=['lpf', 'bcf'], bcf=BcfPackageSettings(ipakcb=0, iwdflg=0, ihdwet=0, wetfct=0.1, iwetit=1, wetdry=-0.01, hdry=-1e+30), lpf=LpfPackageSettings(ipakcb=0, iwdflg=0, ihdwet=0, wetfct=0.1, iwetit=1, wetdry=-0.01, hdry=-1e+30, storagecoefficient=False, nocvcorrection=False, constantcv=False, novfc=False, thickstrt=False), selected_solver_package='pcg', available_solver_packages=['de4', 'gmg', 'pcg', 'pcgn', 'sip'], de4=De4PackageSettings(itmx=50, mxup=0, mxlow=0, mxbw=0, ifreq=3, mutd4=0, accl=1, hclose=1e-05, iprd4=1), gmg=GmgPackageSettings(mxiter=50, iiter=30, iadamp=0, hclose=1e-05, rclose=1e-05, relax=1.0, ioutgmg=0, iunitmhc=0, ism=0, isc=0, damp=1.0, dup=0.75, dlow=0.01, chglimit=1.0), pcg=PcgPackageSettings(mxiter=50, iter1=30, npcond=1, hclose=1e-05, rclose=1e-05, relax=1.0, nbpol=0, iprpcg=0, mutpcg=3, damp=1.0, dampt=1.0, ihcofadd=0), pcgn=PcgnPackageSettings(iter_mo=50, iter_mi=30, close_r=1e-05, close_h=1e-05, relax=1.0, ifill=0, unit_pc=0, unit_ts=0, adamp=0, damp=1.0, damp_lb=0.001, rate_d=0.1, chglimit=0.0, acnvg=0, cnvg_lb=0.001, mcnvg=2, rate_c=-1.0, ipunit=0), sip=SipPackageSettings(mxiter=200, nparm=5, accl=1, hclose=1e-05, ipcalc=1, wseed=0.0, iprsip=0), oc=OcPackageSettings(ihedfm=0, iddnfm=0, chedfm=None, cddnfm=None, cboufm=None, compact=True, label='OC'))"
      ]
     },
     "execution_count": 8,
     "metadata": {},
     "output_type": "execute_result"
    }
   ],
   "source": [
    "\n",
    "from morpheus.project.infrastructure.calculation.engines.modflow_2005.types.Mf2005CalculationEngineSettings import \\\n",
    "  Mf2005CalculationEngineSettings\n",
    "\n",
    "calculation_engine_setting = Mf2005CalculationEngineSettings.default()\n",
    "calculation_engine_setting"
   ]
  },
  {
   "cell_type": "markdown",
   "id": "cf5c7e1336cb75ec",
   "metadata": {
    "papermill": {
     "duration": 0.001969,
     "end_time": "2024-06-19T13:17:30.176611",
     "exception": false,
     "start_time": "2024-06-19T13:17:30.174642",
     "status": "completed"
    },
    "tags": []
   },
   "source": []
  },
  {
   "cell_type": "code",
   "execution_count": 9,
   "id": "b3b37f95c0d16424",
   "metadata": {
    "ExecuteTime": {
     "end_time": "2024-06-19T08:56:09.092483Z",
     "start_time": "2024-06-19T08:56:08.684188Z"
    },
    "execution": {
     "iopub.execute_input": "2024-06-19T13:17:30.181125Z",
     "iopub.status.busy": "2024-06-19T13:17:30.180994Z",
     "iopub.status.idle": "2024-06-19T13:17:30.548062Z",
     "shell.execute_reply": "2024-06-19T13:17:30.547828Z"
    },
    "papermill": {
     "duration": 0.370283,
     "end_time": "2024-06-19T13:17:30.548874",
     "exception": false,
     "start_time": "2024-06-19T13:17:30.178591",
     "status": "completed"
    },
    "tags": []
   },
   "outputs": [
    {
     "data": {
      "text/plain": [
       "CalculationId(value='053ec587-ec87-40c9-8f98-e197ef045241')"
      ]
     },
     "execution_count": 9,
     "metadata": {},
     "output_type": "execute_result"
    }
   ],
   "source": [
    "from morpheus.project.infrastructure.persistence.CalculationsRepository import calculations_repository\n",
    "from morpheus.project.types.calculation.CalculationProfile import CalculationProfile, CalculationEngineType\n",
    "from morpheus.project.types.calculation.Calculation import Calculation\n",
    "\n",
    "calculation = Calculation.new(model=model, calculation_profile=CalculationProfile.new(CalculationEngineType.MF2005))\n",
    "calculations_repository.save_calculation(project_id=project_id, calculation=calculation)\n",
    "calculation.calculation_id"
   ]
  },
  {
   "cell_type": "code",
   "execution_count": 10,
   "id": "26c1fea869b667a3",
   "metadata": {
    "ExecuteTime": {
     "end_time": "2024-06-19T08:56:09.190479Z",
     "start_time": "2024-06-19T08:56:09.094717Z"
    },
    "execution": {
     "iopub.execute_input": "2024-06-19T13:17:30.554206Z",
     "iopub.status.busy": "2024-06-19T13:17:30.554039Z",
     "iopub.status.idle": "2024-06-19T13:17:30.639447Z",
     "shell.execute_reply": "2024-06-19T13:17:30.639196Z"
    },
    "papermill": {
     "duration": 0.088829,
     "end_time": "2024-06-19T13:17:30.640282",
     "exception": false,
     "start_time": "2024-06-19T13:17:30.551453",
     "status": "completed"
    },
    "tags": []
   },
   "outputs": [
    {
     "data": {
      "text/plain": [
       "{'id': '24cb1961-df67-4de3-bf2d-1ac9f4dffb87', 'state': 'PENDING'}"
      ]
     },
     "execution_count": 10,
     "metadata": {},
     "output_type": "execute_result"
    }
   ],
   "source": [
    "from morpheus.project.tasks import run_calculation_by_id\n",
    "\n",
    "result = run_calculation_by_id.delay(project_id=project_id.to_str(), calculation_id=calculation.calculation_id.to_str())\n",
    "result_state = result.state\n",
    "result_id = result.id\n",
    "{'id': result_id, 'state': result_state}"
   ]
  },
  {
   "cell_type": "code",
   "execution_count": 11,
   "id": "9030f234b885d995",
   "metadata": {
    "ExecuteTime": {
     "end_time": "2024-06-19T08:56:09.198324Z",
     "start_time": "2024-06-19T08:56:09.191174Z"
    },
    "execution": {
     "iopub.execute_input": "2024-06-19T13:17:30.645609Z",
     "iopub.status.busy": "2024-06-19T13:17:30.645430Z",
     "iopub.status.idle": "2024-06-19T13:17:30.650730Z",
     "shell.execute_reply": "2024-06-19T13:17:30.650496Z"
    },
    "papermill": {
     "duration": 0.008661,
     "end_time": "2024-06-19T13:17:30.651514",
     "exception": false,
     "start_time": "2024-06-19T13:17:30.642853",
     "status": "completed"
    },
    "tags": []
   },
   "outputs": [
    {
     "data": {
      "text/plain": [
       "{'id': '24cb1961-df67-4de3-bf2d-1ac9f4dffb87',\n",
       " 'state': 'PENDING',\n",
       " 'ready': False,\n",
       " 'successful': False,\n",
       " 'value': None}"
      ]
     },
     "execution_count": 11,
     "metadata": {},
     "output_type": "execute_result"
    }
   ],
   "source": [
    "from celery.result import AsyncResult\n",
    "\n",
    "result = AsyncResult(id=result_id)\n",
    "{\n",
    "  'id': result.id,\n",
    "  'state': result.state,\n",
    "  'ready': result.ready(),\n",
    "  'successful': result.successful(),\n",
    "  'value': result.result if result.ready() else None,\n",
    "}"
   ]
  },
  {
   "cell_type": "code",
   "execution_count": 12,
   "id": "e57747c5eec94970",
   "metadata": {
    "ExecuteTime": {
     "end_time": "2024-06-19T08:56:09.205956Z",
     "start_time": "2024-06-19T08:56:09.199087Z"
    },
    "collapsed": false,
    "execution": {
     "iopub.execute_input": "2024-06-19T13:17:30.656910Z",
     "iopub.status.busy": "2024-06-19T13:17:30.656799Z",
     "iopub.status.idle": "2024-06-19T13:17:30.662089Z",
     "shell.execute_reply": "2024-06-19T13:17:30.661867Z"
    },
    "papermill": {
     "duration": 0.008778,
     "end_time": "2024-06-19T13:17:30.662841",
     "exception": false,
     "start_time": "2024-06-19T13:17:30.654063",
     "status": "completed"
    },
    "tags": []
   },
   "outputs": [
    {
     "data": {
      "text/plain": [
       "Calculation(calculation_id=CalculationId(value='053ec587-ec87-40c9-8f98-e197ef045241'), model=Model(model_id=ModelId(value='1f824d7f-3ae8-4a84-ae2e-159ca37b4370'), spatial_discretization=SpatialDiscretization(geometry=Polygon(coordinates=[[[13.922514437551428, 50.964720483303836], [13.925250781947113, 50.965228748412386], [13.925036413951403, 50.96623732041704], [13.92222441026388, 50.96629040370362], [13.922514437551428, 50.964720483303836]]], type='Polygon'), grid=Grid(origin=Point(coordinates=[13.922224410263878, 50.9662904037036], type='Point'), col_widths=[33.68941547288559, 33.68941547288559, 33.6894154728856, 33.689415472885585, 33.6894154728856, 33.6894154728856, 33.68941547288557, 33.6894154728856, 33.68941547288563, 33.68941547288557], total_width=336.89415472885594, row_heights=[27.74944856585935, 27.74944856585935, 27.749448565859346, 27.749448565859353, 27.74944856585934, 27.749448565859353, 27.749448565859325, 27.74944856585938, 27.749448565859325, 27.749448565859353], total_height=277.4944856585935, rotation=Rotation(value=0), length_unit=LengthUnit(unit=2)), affected_cells=ActiveCells(shape=[10, 10], data=[ActiveCell(col=0, row=0), ActiveCell(col=1, row=0), ActiveCell(col=2, row=0), ActiveCell(col=3, row=0), ActiveCell(col=4, row=0), ActiveCell(col=5, row=0), ActiveCell(col=6, row=0), ActiveCell(col=7, row=0), ActiveCell(col=8, row=0), ActiveCell(col=0, row=1), ActiveCell(col=1, row=1), ActiveCell(col=2, row=1), ActiveCell(col=3, row=1), ActiveCell(col=4, row=1), ActiveCell(col=5, row=1), ActiveCell(col=6, row=1), ActiveCell(col=7, row=1), ActiveCell(col=8, row=1), ActiveCell(col=0, row=2), ActiveCell(col=1, row=2), ActiveCell(col=2, row=2), ActiveCell(col=3, row=2), ActiveCell(col=4, row=2), ActiveCell(col=5, row=2), ActiveCell(col=6, row=2), ActiveCell(col=7, row=2), ActiveCell(col=8, row=2), ActiveCell(col=9, row=2), ActiveCell(col=0, row=3), ActiveCell(col=1, row=3), ActiveCell(col=2, row=3), ActiveCell(col=3, row=3), ActiveCell(col=4, row=3), ActiveCell(col=5, row=3), ActiveCell(col=6, row=3), ActiveCell(col=7, row=3), ActiveCell(col=8, row=3), ActiveCell(col=9, row=3), ActiveCell(col=0, row=4), ActiveCell(col=1, row=4), ActiveCell(col=2, row=4), ActiveCell(col=3, row=4), ActiveCell(col=4, row=4), ActiveCell(col=5, row=4), ActiveCell(col=6, row=4), ActiveCell(col=7, row=4), ActiveCell(col=8, row=4), ActiveCell(col=9, row=4), ActiveCell(col=1, row=5), ActiveCell(col=2, row=5), ActiveCell(col=3, row=5), ActiveCell(col=4, row=5), ActiveCell(col=5, row=5), ActiveCell(col=6, row=5), ActiveCell(col=7, row=5), ActiveCell(col=8, row=5), ActiveCell(col=9, row=5), ActiveCell(col=1, row=6), ActiveCell(col=2, row=6), ActiveCell(col=3, row=6), ActiveCell(col=4, row=6), ActiveCell(col=5, row=6), ActiveCell(col=6, row=6), ActiveCell(col=7, row=6), ActiveCell(col=8, row=6), ActiveCell(col=9, row=6), ActiveCell(col=1, row=7), ActiveCell(col=2, row=7), ActiveCell(col=3, row=7), ActiveCell(col=4, row=7), ActiveCell(col=5, row=7), ActiveCell(col=6, row=7), ActiveCell(col=7, row=7), ActiveCell(col=1, row=8), ActiveCell(col=2, row=8), ActiveCell(col=3, row=8), ActiveCell(col=4, row=8), ActiveCell(col=1, row=9)])), time_discretization=TimeDiscretization(start_date_time=StartDateTime(value=datetime.datetime(2020, 1, 1, 0, 0, tzinfo=datetime.timezone.utc)), end_date_time=EndDateTime(value=datetime.datetime(2020, 12, 31, 0, 0, tzinfo=datetime.timezone.utc)), stress_periods=StressPeriodCollection(values=[StressPeriod(start_date_time=StartDateTime(value=datetime.datetime(2020, 1, 1, 0, 0, tzinfo=datetime.timezone.utc)), number_of_time_steps=NumberOfTimeSteps(value=1), time_step_multiplier=TimeStepMultiplier(value=1), steady_state=IsSteadyState(value=True))]), time_unit=TimeUnit(unit=4)), boundaries=BoundaryCollection(boundaries=[ConstantHeadBoundary(boundary_id=BoundaryId(value='f70ba00c-ad68-4e97-8590-2c4f4ea31476'), type=BoundaryType(type='constant_head'), name=BoundaryName(value='constant_head'), tags=BoundaryTags(value=[]), geometry=LineString(coordinates=[[13.9223, 50.9662], [13.925, 50.96615]], type='LineString'), affected_cells=ActiveCells(shape=[10, 10], data=[ActiveCell(col=0, row=0), ActiveCell(col=1, row=0), ActiveCell(col=2, row=0), ActiveCell(col=3, row=0), ActiveCell(col=4, row=0), ActiveCell(col=5, row=0), ActiveCell(col=6, row=0), ActiveCell(col=7, row=0), ActiveCell(col=8, row=0), ActiveCell(col=9, row=0)]), affected_layers=[LayerId(value='de69e9db-6ee7-49e4-8e58-d2baddf4c67c')], observations=[ConstantHeadObservation(observation_id=ObservationId(value='0745c354-ce41-426d-ab1d-44914ccf3e2e'), observation_name=ObservationName(value='Observation Point 1'), geometry=Point(coordinates=[13.9223, 50.9662], type='Point'), data=[ConstantHeadRawDataItem(date_time=StartDateTime(value=datetime.datetime(2019, 1, 1, 0, 0, tzinfo=datetime.timezone.utc)), head=HeadValue(value=100)), ConstantHeadRawDataItem(date_time=StartDateTime(value=datetime.datetime(2021, 12, 31, 0, 0, tzinfo=datetime.timezone.utc)), head=HeadValue(value=100))])], enabled=True)]), observations=ObservationCollection(observations=[]), layers=LayersCollection(layers=[Layer(layer_id=LayerId(value='de69e9db-6ee7-49e4-8e58-d2baddf4c67c'), name=LayerName(value='Default'), description=LayerDescription(value='Default'), confinement=LayerConfinement(type='confined'), properties=LayerProperties(hk=LayerPropertyValues(value=LayerPropertyDefaultValue(value=1.0), raster=None, zones=None), hani=LayerPropertyValues(value=LayerPropertyDefaultValue(value=1.0), raster=None, zones=None), vka=LayerPropertyValues(value=LayerPropertyDefaultValue(value=1.0), raster=None, zones=None), specific_storage=LayerPropertyValues(value=LayerPropertyDefaultValue(value=0.0001), raster=None, zones=None), specific_yield=LayerPropertyValues(value=LayerPropertyDefaultValue(value=0.1), raster=None, zones=None), initial_head=LayerPropertyValues(value=LayerPropertyDefaultValue(value=1.0), raster=None, zones=None), top=LayerPropertyValues(value=LayerPropertyDefaultValue(value=1.0), raster=None, zones=None), bottom=LayerPropertyValues(value=LayerPropertyDefaultValue(value=0.0), raster=None, zones=None)))]), transport=Transport(is_enabled=IsEnabled(value=False), substances=[]), variable_density=VariableDensityFlow(is_enabled=IsEnabled(value=False), viscosity_is_enabled=IsEnabled(value=False))), calculation_profile=CalculationProfile(id=CalculationProfileId(value='aba6c0d0-1ff5-4634-be1d-ea5ed6a60d5a'), name=CalculationProfileName(value='new mf2005 profile'), engine_type=<CalculationEngineType.MF2005: 'mf2005'>, engine_settings=Mf2005CalculationEngineSettings(mf=MfPackageSettings(verbose=False), dis=DisPackageSettings(), bas=BasPackageSettings(ichflg=False, hnoflo=-999.99, stoper=None), chd=ChdPackageSettings(), drn=DrnPackageSettings(ipakcb=0), evt=EvtPackageSettings(ipakcb=0, nevtop=1), fhb=FhbPackageSettings(ipakcb=0, ifhbss=0, ifhbpt=0), ghb=GhbPackageSettings(ipakcb=0), lak=LakPackageSettings(ipakcb=0, theta=1.0), rch=RchPackageSettings(ipakcb=0), riv=RivPackageSettings(ipakcb=0), wel=WelPackageSettings(ipakcb=0), hob=HobPackageSettings(iuhobsv=1, hobdry=0.0, tomulth=1.0), selected_flow_package='lpf', available_flow_packages=['lpf', 'bcf'], bcf=BcfPackageSettings(ipakcb=0, iwdflg=0, ihdwet=0, wetfct=0.1, iwetit=1, wetdry=-0.01, hdry=-1e+30), lpf=LpfPackageSettings(ipakcb=0, iwdflg=0, ihdwet=0, wetfct=0.1, iwetit=1, wetdry=-0.01, hdry=-1e+30, storagecoefficient=False, nocvcorrection=False, constantcv=False, novfc=False, thickstrt=False), selected_solver_package='pcg', available_solver_packages=['de4', 'gmg', 'pcg', 'pcgn', 'sip'], de4=De4PackageSettings(itmx=50, mxup=0, mxlow=0, mxbw=0, ifreq=3, mutd4=0, accl=1, hclose=1e-05, iprd4=1), gmg=GmgPackageSettings(mxiter=50, iiter=30, iadamp=0, hclose=1e-05, rclose=1e-05, relax=1.0, ioutgmg=0, iunitmhc=0, ism=0, isc=0, damp=1.0, dup=0.75, dlow=0.01, chglimit=1.0), pcg=PcgPackageSettings(mxiter=50, iter1=30, npcond=1, hclose=1e-05, rclose=1e-05, relax=1.0, nbpol=0, iprpcg=0, mutpcg=3, damp=1.0, dampt=1.0, ihcofadd=0), pcgn=PcgnPackageSettings(iter_mo=50, iter_mi=30, close_r=1e-05, close_h=1e-05, relax=1.0, ifill=0, unit_pc=0, unit_ts=0, adamp=0, damp=1.0, damp_lb=0.001, rate_d=0.1, chglimit=0.0, acnvg=0, cnvg_lb=0.001, mcnvg=2, rate_c=-1.0, ipunit=0), sip=SipPackageSettings(mxiter=200, nparm=5, accl=1, hclose=1e-05, ipcalc=1, wseed=0.0, iprsip=0), oc=OcPackageSettings(ihedfm=0, iddnfm=0, chedfm=None, cddnfm=None, cboufm=None, compact=True, label='OC'))), calculation_lifecycle=[<CalculationState.CREATED: 'created'>], calculation_state=<CalculationState.CREATED: 'created'>, calculation_log=None, calculation_result=None)"
      ]
     },
     "execution_count": 12,
     "metadata": {},
     "output_type": "execute_result"
    }
   ],
   "source": [
    "from morpheus.project.application.read.CalculationsReader import get_calculations_reader\n",
    "\n",
    "calculations_reader = get_calculations_reader()\n",
    "calculation = calculations_reader.get_calculation(project_id=project_id, calculation_id=calculation.calculation_id)\n",
    "calculation"
   ]
  },
  {
   "cell_type": "code",
   "execution_count": 13,
   "id": "d04c548bbc8b4da9",
   "metadata": {
    "ExecuteTime": {
     "end_time": "2024-06-19T08:56:09.209647Z",
     "start_time": "2024-06-19T08:56:09.206810Z"
    },
    "collapsed": false,
    "execution": {
     "iopub.execute_input": "2024-06-19T13:17:30.667889Z",
     "iopub.status.busy": "2024-06-19T13:17:30.667783Z",
     "iopub.status.idle": "2024-06-19T13:17:30.669627Z",
     "shell.execute_reply": "2024-06-19T13:17:30.669408Z"
    },
    "papermill": {
     "duration": 0.005147,
     "end_time": "2024-06-19T13:17:30.670334",
     "exception": false,
     "start_time": "2024-06-19T13:17:30.665187",
     "status": "completed"
    },
    "tags": []
   },
   "outputs": [
    {
     "data": {
      "text/plain": [
       "<CalculationState.CREATED: 'created'>"
      ]
     },
     "execution_count": 13,
     "metadata": {},
     "output_type": "execute_result"
    }
   ],
   "source": [
    "calculation.calculation_state"
   ]
  },
  {
   "cell_type": "code",
   "execution_count": 14,
   "id": "48aa27656bc029d",
   "metadata": {
    "ExecuteTime": {
     "end_time": "2024-06-19T08:56:09.212445Z",
     "start_time": "2024-06-19T08:56:09.210338Z"
    },
    "collapsed": false,
    "execution": {
     "iopub.execute_input": "2024-06-19T13:17:30.676625Z",
     "iopub.status.busy": "2024-06-19T13:17:30.676423Z",
     "iopub.status.idle": "2024-06-19T13:17:30.678424Z",
     "shell.execute_reply": "2024-06-19T13:17:30.678157Z"
    },
    "papermill": {
     "duration": 0.006611,
     "end_time": "2024-06-19T13:17:30.679244",
     "exception": false,
     "start_time": "2024-06-19T13:17:30.672633",
     "status": "completed"
    },
    "tags": []
   },
   "outputs": [],
   "source": [
    "calculation.calculation_log"
   ]
  },
  {
   "cell_type": "code",
   "execution_count": 15,
   "id": "45af3e7702e1383e",
   "metadata": {
    "ExecuteTime": {
     "end_time": "2024-06-19T08:56:09.215292Z",
     "start_time": "2024-06-19T08:56:09.213111Z"
    },
    "collapsed": false,
    "execution": {
     "iopub.execute_input": "2024-06-19T13:17:30.685864Z",
     "iopub.status.busy": "2024-06-19T13:17:30.685672Z",
     "iopub.status.idle": "2024-06-19T13:17:30.687627Z",
     "shell.execute_reply": "2024-06-19T13:17:30.687320Z"
    },
    "papermill": {
     "duration": 0.006546,
     "end_time": "2024-06-19T13:17:30.688519",
     "exception": false,
     "start_time": "2024-06-19T13:17:30.681973",
     "status": "completed"
    },
    "tags": []
   },
   "outputs": [],
   "source": [
    "calculation.calculation_result"
   ]
  }
 ],
 "metadata": {
  "kernelspec": {
   "display_name": "Python 3",
   "language": "python",
   "name": "python3"
  },
  "language_info": {
   "codemirror_mode": {
    "name": "ipython",
    "version": 3
   },
   "file_extension": ".py",
   "mimetype": "text/x-python",
   "name": "python",
   "nbconvert_exporter": "python",
   "pygments_lexer": "ipython3",
   "version": "3.12.2"
  },
  "papermill": {
   "default_parameters": {},
   "duration": 3.02854,
   "end_time": "2024-06-19T13:17:31.415005",
   "environment_variables": {},
   "exception": null,
   "input_path": "./notebooks/Mf2005CalculationWithCelery.ipynb",
   "output_path": "./notebooks/Mf2005CalculationWithCelery.ipynb",
   "parameters": {},
   "start_time": "2024-06-19T13:17:28.386465",
   "version": "2.6.0"
  }
 },
 "nbformat": 4,
 "nbformat_minor": 5
}