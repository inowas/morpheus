{
 "cells": [
  {
   "cell_type": "code",
   "execution_count": 1,
   "id": "e7414753bb4e85d3",
   "metadata": {
    "ExecuteTime": {
     "end_time": "2024-06-21T09:01:25.727696Z",
     "start_time": "2024-06-21T09:01:25.724119Z"
    },
    "execution": {
     "iopub.execute_input": "2024-08-19T20:01:59.448122Z",
     "iopub.status.busy": "2024-08-19T20:01:59.447906Z",
     "iopub.status.idle": "2024-08-19T20:01:59.450593Z",
     "shell.execute_reply": "2024-08-19T20:01:59.450346Z"
    },
    "papermill": {
     "duration": 0.012076,
     "end_time": "2024-08-19T20:01:59.451532",
     "exception": false,
     "start_time": "2024-08-19T20:01:59.439456",
     "status": "completed"
    },
    "tags": []
   },
   "outputs": [],
   "source": [
    "import sys\n",
    "\n",
    "sys.path.insert(0, '..')"
   ]
  },
  {
   "cell_type": "markdown",
   "id": "20bab5b7ae774cc4",
   "metadata": {
    "papermill": {
     "duration": 0.002065,
     "end_time": "2024-08-19T20:01:59.455883",
     "exception": false,
     "start_time": "2024-08-19T20:01:59.453818",
     "status": "completed"
    },
    "tags": []
   },
   "source": [
    "## Setup the model area"
   ]
  },
  {
   "cell_type": "code",
   "execution_count": 2,
   "id": "90f41fb5d5d3a413",
   "metadata": {
    "ExecuteTime": {
     "end_time": "2024-06-21T09:01:26.879452Z",
     "start_time": "2024-06-21T09:01:25.729099Z"
    },
    "execution": {
     "iopub.execute_input": "2024-08-19T20:01:59.460454Z",
     "iopub.status.busy": "2024-08-19T20:01:59.460316Z",
     "iopub.status.idle": "2024-08-19T20:02:00.253843Z",
     "shell.execute_reply": "2024-08-19T20:02:00.253571Z"
    },
    "papermill": {
     "duration": 0.796984,
     "end_time": "2024-08-19T20:02:00.254717",
     "exception": false,
     "start_time": "2024-08-19T20:01:59.457733",
     "status": "completed"
    },
    "tags": []
   },
   "outputs": [
    {
     "name": "stdout",
     "output_type": "stream",
     "text": [
      "[(0, 0)] [(9, 0)]\n",
      "[(0, 1)] [(9, 1)]\n",
      "[(0, 2)] [(9, 2)]\n",
      "[(0, 3)] [(9, 3)]\n",
      "[(0, 4)] [(9, 4)]\n",
      "[(0, 5)] [(9, 5)]\n",
      "[(0, 6)] [(9, 6)]\n",
      "[(0, 7)] [(7, 7)]\n",
      "[(0, 8)] [(5, 8)]\n",
      "[(0, 9)] [(2, 9)]\n"
     ]
    },
    {
     "data": {
      "text/plain": [
       "SpatialDiscretization(geometry=Polygon(coordinates=[[(13.922514437551428, 50.964720483303836), (13.925250781947113, 50.965228748412386), (13.925036413951403, 50.96623732041704), (13.92222441026388, 50.96629040370362), (13.922514437551428, 50.964720483303836)]], type='Polygon'), grid=Grid(origin=Point(coordinates=(13.922224410263878, 50.9662904037036), type='Point'), col_widths=[33.68941547288559, 33.68941547288559, 33.6894154728856, 33.689415472885585, 33.6894154728856, 33.6894154728856, 33.68941547288557, 33.6894154728856, 33.68941547288563, 33.68941547288557], total_width=336.89415472885594, row_heights=[27.74944856585935, 27.74944856585935, 27.749448565859346, 27.749448565859353, 27.74944856585934, 27.749448565859353, 27.749448565859325, 27.74944856585938, 27.749448565859325, 27.749448565859353], total_height=277.4944856585935, rotation=Rotation(value=0), length_unit=LengthUnit(unit=2)), affected_cells=ActiveCells(shape=(10, 10), data=array([[ True,  True,  True,  True,  True,  True,  True,  True,  True,\n",
       "         True],\n",
       "       [ True,  True,  True,  True,  True,  True,  True,  True,  True,\n",
       "         True],\n",
       "       [ True,  True,  True,  True,  True,  True,  True,  True,  True,\n",
       "         True],\n",
       "       [ True,  True,  True,  True,  True,  True,  True,  True,  True,\n",
       "         True],\n",
       "       [ True,  True,  True,  True,  True,  True,  True,  True,  True,\n",
       "         True],\n",
       "       [ True,  True,  True,  True,  True,  True,  True,  True,  True,\n",
       "         True],\n",
       "       [ True,  True,  True,  True,  True,  True,  True,  True,  True,\n",
       "         True],\n",
       "       [ True,  True,  True,  True,  True,  True,  True,  True, False,\n",
       "        False],\n",
       "       [ True,  True,  True,  True,  True,  True, False, False, False,\n",
       "        False],\n",
       "       [ True,  True,  True, False, False, False, False, False, False,\n",
       "        False]])))"
      ]
     },
     "execution_count": 2,
     "metadata": {},
     "output_type": "execute_result"
    }
   ],
   "source": [
    "from morpheus.project.types.Project import ProjectId\n",
    "from morpheus.project.types.discretization.spatial import ActiveCells\n",
    "from morpheus.project.types.discretization import SpatialDiscretization\n",
    "from morpheus.project.types.discretization.spatial import Rotation, LengthUnit, Grid, Crs\n",
    "from morpheus.project.types.geometry import Polygon, LineString\n",
    "\n",
    "project_id = ProjectId.new()\n",
    "\n",
    "polygon = Polygon(\n",
    "  type='Polygon',\n",
    "  coordinates=[[\n",
    "    (13.922514437551428, 50.964720483303836),\n",
    "    (13.925250781947113, 50.965228748412386),\n",
    "    (13.925036413951403, 50.96623732041704),\n",
    "    (13.92222441026388, 50.96629040370362),\n",
    "    (13.922514437551428, 50.964720483303836)\n",
    "  ]]\n",
    ")\n",
    "\n",
    "rotation = Rotation(0)\n",
    "length_unit = LengthUnit.meters()\n",
    "relative_col_coordinates = [0, 0.1, 0.2, 0.3, 0.4, 0.5, 0.6, 0.7, 0.8, 0.9, 1]\n",
    "relative_row_coordinates = [0, 0.1, 0.2, 0.3, 0.4, 0.5, 0.6, 0.7, 0.8, 0.9, 1]\n",
    "\n",
    "grid = Grid.from_polygon_with_relative_coordinates(\n",
    "  polygon=polygon,\n",
    "  relative_col_coordinates=relative_col_coordinates,\n",
    "  relative_row_coordinates=relative_row_coordinates,\n",
    "  rotation=rotation,\n",
    ")\n",
    "\n",
    "spatial_discretization = SpatialDiscretization(\n",
    "  geometry=polygon,\n",
    "  grid=grid,\n",
    "  affected_cells=ActiveCells.from_polygon(polygon=polygon, grid=grid),\n",
    "  crs=Crs.from_str('EPSG:4326')\n",
    ")\n",
    "\n",
    "spatial_discretization"
   ]
  },
  {
   "cell_type": "markdown",
   "id": "55a07c49f85a3271",
   "metadata": {
    "papermill": {
     "duration": 0.001942,
     "end_time": "2024-08-19T20:02:00.258730",
     "exception": false,
     "start_time": "2024-08-19T20:02:00.256788",
     "status": "completed"
    },
    "tags": []
   },
   "source": [
    "## Setup Time Discretization"
   ]
  },
  {
   "cell_type": "code",
   "execution_count": 3,
   "id": "51efe86c0dee3310",
   "metadata": {
    "ExecuteTime": {
     "end_time": "2024-06-21T09:01:26.883626Z",
     "start_time": "2024-06-21T09:01:26.880119Z"
    },
    "execution": {
     "iopub.execute_input": "2024-08-19T20:02:00.263226Z",
     "iopub.status.busy": "2024-08-19T20:02:00.262963Z",
     "iopub.status.idle": "2024-08-19T20:02:00.266134Z",
     "shell.execute_reply": "2024-08-19T20:02:00.265822Z"
    },
    "papermill": {
     "duration": 0.006459,
     "end_time": "2024-08-19T20:02:00.267055",
     "exception": false,
     "start_time": "2024-08-19T20:02:00.260596",
     "status": "completed"
    },
    "tags": []
   },
   "outputs": [
    {
     "data": {
      "text/plain": [
       "TimeDiscretization(start_date_time=StartDateTime(value=datetime.datetime(2020, 1, 1, 0, 0, tzinfo=datetime.timezone.utc)), end_date_time=StartDateTime(value=datetime.datetime(2020, 12, 31, 0, 0, tzinfo=datetime.timezone.utc)), stress_periods=StressPeriodCollection(values=[StressPeriod(start_date_time=StartDateTime(value=datetime.datetime(2020, 1, 1, 0, 0, tzinfo=datetime.timezone.utc)), number_of_time_steps=NumberOfTimeSteps(value=1), time_step_multiplier=TimeStepMultiplier(value=1), steady_state=IsSteadyState(value=True))]), time_unit=TimeUnit(unit=4))"
      ]
     },
     "execution_count": 3,
     "metadata": {},
     "output_type": "execute_result"
    }
   ],
   "source": [
    "from morpheus.project.types.discretization.time.TimeUnit import TimeUnit\n",
    "from morpheus.project.types.discretization.time.Stressperiods import StartDateTime, StressPeriodCollection, \\\n",
    "  StressPeriod, NumberOfTimeSteps, TimeStepMultiplier, IsSteadyState\n",
    "from morpheus.project.types.discretization.time import TimeDiscretization\n",
    "from datetime import datetime\n",
    "\n",
    "time_discretization = TimeDiscretization(\n",
    "  start_date_time=StartDateTime.from_datetime(datetime(2020, 1, 1)),\n",
    "  end_date_time=StartDateTime.from_datetime(datetime(2020, 12, 31)),\n",
    "  stress_periods=StressPeriodCollection([\n",
    "    StressPeriod(\n",
    "      start_date_time=StartDateTime.from_datetime(datetime(2020, 1, 1)),\n",
    "      number_of_time_steps=NumberOfTimeSteps(1),\n",
    "      time_step_multiplier=TimeStepMultiplier(1),\n",
    "      steady_state=IsSteadyState.yes()\n",
    "    ),\n",
    "  ]),\n",
    "  time_unit=TimeUnit.days()\n",
    ")\n",
    "\n",
    "time_discretization"
   ]
  },
  {
   "cell_type": "markdown",
   "id": "84da7c401564c113",
   "metadata": {
    "papermill": {
     "duration": 0.001882,
     "end_time": "2024-08-19T20:02:00.271279",
     "exception": false,
     "start_time": "2024-08-19T20:02:00.269397",
     "status": "completed"
    },
    "tags": []
   },
   "source": [
    "# Setup Model"
   ]
  },
  {
   "cell_type": "code",
   "execution_count": 4,
   "id": "f472c97904b10fd1",
   "metadata": {
    "ExecuteTime": {
     "end_time": "2024-06-21T09:01:26.891894Z",
     "start_time": "2024-06-21T09:01:26.884506Z"
    },
    "execution": {
     "iopub.execute_input": "2024-08-19T20:02:00.275752Z",
     "iopub.status.busy": "2024-08-19T20:02:00.275630Z",
     "iopub.status.idle": "2024-08-19T20:02:00.281141Z",
     "shell.execute_reply": "2024-08-19T20:02:00.280915Z"
    },
    "papermill": {
     "duration": 0.008796,
     "end_time": "2024-08-19T20:02:00.281955",
     "exception": false,
     "start_time": "2024-08-19T20:02:00.273159",
     "status": "completed"
    },
    "tags": []
   },
   "outputs": [],
   "source": [
    "from morpheus.project.types.Model import Model\n",
    "\n",
    "model = Model.new()\n",
    "model = model.with_updated_time_discretization(time_discretization)\n",
    "model = model.with_updated_spatial_discretization(spatial_discretization=spatial_discretization)"
   ]
  },
  {
   "cell_type": "code",
   "execution_count": 5,
   "id": "34616006780fb0ac",
   "metadata": {
    "ExecuteTime": {
     "end_time": "2024-06-21T09:01:27.050290Z",
     "start_time": "2024-06-21T09:01:26.893639Z"
    },
    "execution": {
     "iopub.execute_input": "2024-08-19T20:02:00.286163Z",
     "iopub.status.busy": "2024-08-19T20:02:00.286058Z",
     "iopub.status.idle": "2024-08-19T20:02:00.419040Z",
     "shell.execute_reply": "2024-08-19T20:02:00.418790Z"
    },
    "papermill": {
     "duration": 0.135971,
     "end_time": "2024-08-19T20:02:00.419840",
     "exception": false,
     "start_time": "2024-08-19T20:02:00.283869",
     "status": "completed"
    },
    "tags": []
   },
   "outputs": [
    {
     "data": {
      "text/html": [
       "<div style=\"width:100%;\"><div style=\"position:relative;width:100%;height:0;padding-bottom:60%;\"><span style=\"color:#565656\">Make this Notebook Trusted to load map: File -> Trust Notebook</span><iframe srcdoc=\"&lt;!DOCTYPE html&gt;\n",
       "&lt;html&gt;\n",
       "&lt;head&gt;\n",
       "    \n",
       "    &lt;meta http-equiv=&quot;content-type&quot; content=&quot;text/html; charset=UTF-8&quot; /&gt;\n",
       "    \n",
       "        &lt;script&gt;\n",
       "            L_NO_TOUCH = false;\n",
       "            L_DISABLE_3D = false;\n",
       "        &lt;/script&gt;\n",
       "    \n",
       "    &lt;style&gt;html, body {width: 100%;height: 100%;margin: 0;padding: 0;}&lt;/style&gt;\n",
       "    &lt;style&gt;#map {position:absolute;top:0;bottom:0;right:0;left:0;}&lt;/style&gt;\n",
       "    &lt;script src=&quot;https://cdn.jsdelivr.net/npm/leaflet@1.9.3/dist/leaflet.js&quot;&gt;&lt;/script&gt;\n",
       "    &lt;script src=&quot;https://code.jquery.com/jquery-3.7.1.min.js&quot;&gt;&lt;/script&gt;\n",
       "    &lt;script src=&quot;https://cdn.jsdelivr.net/npm/bootstrap@5.2.2/dist/js/bootstrap.bundle.min.js&quot;&gt;&lt;/script&gt;\n",
       "    &lt;script src=&quot;https://cdnjs.cloudflare.com/ajax/libs/Leaflet.awesome-markers/2.0.2/leaflet.awesome-markers.js&quot;&gt;&lt;/script&gt;\n",
       "    &lt;link rel=&quot;stylesheet&quot; href=&quot;https://cdn.jsdelivr.net/npm/leaflet@1.9.3/dist/leaflet.css&quot;/&gt;\n",
       "    &lt;link rel=&quot;stylesheet&quot; href=&quot;https://cdn.jsdelivr.net/npm/bootstrap@5.2.2/dist/css/bootstrap.min.css&quot;/&gt;\n",
       "    &lt;link rel=&quot;stylesheet&quot; href=&quot;https://netdna.bootstrapcdn.com/bootstrap/3.0.0/css/bootstrap.min.css&quot;/&gt;\n",
       "    &lt;link rel=&quot;stylesheet&quot; href=&quot;https://cdn.jsdelivr.net/npm/@fortawesome/fontawesome-free@6.2.0/css/all.min.css&quot;/&gt;\n",
       "    &lt;link rel=&quot;stylesheet&quot; href=&quot;https://cdnjs.cloudflare.com/ajax/libs/Leaflet.awesome-markers/2.0.2/leaflet.awesome-markers.css&quot;/&gt;\n",
       "    &lt;link rel=&quot;stylesheet&quot; href=&quot;https://cdn.jsdelivr.net/gh/python-visualization/folium/folium/templates/leaflet.awesome.rotate.min.css&quot;/&gt;\n",
       "    \n",
       "            &lt;meta name=&quot;viewport&quot; content=&quot;width=device-width,\n",
       "                initial-scale=1.0, maximum-scale=1.0, user-scalable=no&quot; /&gt;\n",
       "            &lt;style&gt;\n",
       "                #map_ae36ba229a2210db95b40ee552bea4d8 {\n",
       "                    position: relative;\n",
       "                    width: 100.0%;\n",
       "                    height: 100.0%;\n",
       "                    left: 0.0%;\n",
       "                    top: 0.0%;\n",
       "                }\n",
       "                .leaflet-container { font-size: 1rem; }\n",
       "            &lt;/style&gt;\n",
       "        \n",
       "&lt;/head&gt;\n",
       "&lt;body&gt;\n",
       "    \n",
       "    \n",
       "            &lt;div class=&quot;folium-map&quot; id=&quot;map_ae36ba229a2210db95b40ee552bea4d8&quot; &gt;&lt;/div&gt;\n",
       "        \n",
       "&lt;/body&gt;\n",
       "&lt;script&gt;\n",
       "    \n",
       "    \n",
       "            var map_ae36ba229a2210db95b40ee552bea4d8 = L.map(\n",
       "                &quot;map_ae36ba229a2210db95b40ee552bea4d8&quot;,\n",
       "                {\n",
       "                    center: [50.965, 13.922],\n",
       "                    crs: L.CRS.EPSG3857,\n",
       "                    zoom: 12,\n",
       "                    zoomControl: true,\n",
       "                    preferCanvas: false,\n",
       "                }\n",
       "            );\n",
       "\n",
       "            \n",
       "\n",
       "        \n",
       "    \n",
       "            var tile_layer_e0ec5c931f39bc902309828f4100f67d = L.tileLayer(\n",
       "                &quot;https://{s}.basemaps.cartocdn.com/light_all/{z}/{x}/{y}{r}.png&quot;,\n",
       "                {&quot;attribution&quot;: &quot;\\u0026copy; \\u003ca href=\\&quot;https://www.openstreetmap.org/copyright\\&quot;\\u003eOpenStreetMap\\u003c/a\\u003e contributors \\u0026copy; \\u003ca href=\\&quot;https://carto.com/attributions\\&quot;\\u003eCARTO\\u003c/a\\u003e&quot;, &quot;detectRetina&quot;: false, &quot;maxNativeZoom&quot;: 20, &quot;maxZoom&quot;: 20, &quot;minZoom&quot;: 0, &quot;noWrap&quot;: false, &quot;opacity&quot;: 1, &quot;subdomains&quot;: &quot;abcd&quot;, &quot;tms&quot;: false}\n",
       "            );\n",
       "        \n",
       "    \n",
       "            tile_layer_e0ec5c931f39bc902309828f4100f67d.addTo(map_ae36ba229a2210db95b40ee552bea4d8);\n",
       "        \n",
       "    \n",
       "\n",
       "        function geo_json_1ca1891612627d0e2f6ae5a305a27e49_onEachFeature(feature, layer) {\n",
       "            layer.on({\n",
       "            });\n",
       "        };\n",
       "        var geo_json_1ca1891612627d0e2f6ae5a305a27e49 = L.geoJson(null, {\n",
       "                onEachFeature: geo_json_1ca1891612627d0e2f6ae5a305a27e49_onEachFeature,\n",
       "            \n",
       "        });\n",
       "\n",
       "        function geo_json_1ca1891612627d0e2f6ae5a305a27e49_add (data) {\n",
       "            geo_json_1ca1891612627d0e2f6ae5a305a27e49\n",
       "                .addData(data);\n",
       "        }\n",
       "            geo_json_1ca1891612627d0e2f6ae5a305a27e49_add({&quot;coordinates&quot;: [[[13.922514437551428, 50.964720483303836], [13.925250781947113, 50.965228748412386], [13.925036413951403, 50.96623732041704], [13.92222441026388, 50.96629040370362], [13.922514437551428, 50.964720483303836]]], &quot;type&quot;: &quot;Polygon&quot;});\n",
       "\n",
       "        \n",
       "    \n",
       "            geo_json_1ca1891612627d0e2f6ae5a305a27e49.addTo(map_ae36ba229a2210db95b40ee552bea4d8);\n",
       "        \n",
       "    \n",
       "            map_ae36ba229a2210db95b40ee552bea4d8.fitBounds(\n",
       "                [[50.964720483303836, 13.92222441026388], [50.96629040370362, 13.925250781947113]],\n",
       "                {}\n",
       "            );\n",
       "        \n",
       "&lt;/script&gt;\n",
       "&lt;/html&gt;\" style=\"position:absolute;width:100%;height:100%;left:0;top:0;border:none !important;\" allowfullscreen webkitallowfullscreen mozallowfullscreen></iframe></div></div>"
      ],
      "text/plain": [
       "<folium.folium.Map at 0x105b95550>"
      ]
     },
     "execution_count": 5,
     "metadata": {},
     "output_type": "execute_result"
    }
   ],
   "source": [
    "import folium\n",
    "\n",
    "m = folium.Map(tiles=\"cartodbpositron\", crs=\"EPSG3857\", zoom_start=12, location=[50.965, 13.922])\n",
    "m.add_child(folium.GeoJson(polygon.as_geojson()))\n",
    "\n",
    "m.fit_bounds(m.get_bounds())\n",
    "m"
   ]
  },
  {
   "cell_type": "markdown",
   "id": "fd3eef70b177ddf5",
   "metadata": {
    "papermill": {
     "duration": 0.001993,
     "end_time": "2024-08-19T20:02:00.424004",
     "exception": false,
     "start_time": "2024-08-19T20:02:00.422011",
     "status": "completed"
    },
    "tags": []
   },
   "source": [
    "# Setup constant head boundary with 1 observation"
   ]
  },
  {
   "cell_type": "code",
   "execution_count": 6,
   "id": "40d1355b2e81ef98",
   "metadata": {
    "ExecuteTime": {
     "end_time": "2024-06-21T09:01:27.076428Z",
     "start_time": "2024-06-21T09:01:27.050904Z"
    },
    "execution": {
     "iopub.execute_input": "2024-08-19T20:02:00.428470Z",
     "iopub.status.busy": "2024-08-19T20:02:00.428302Z",
     "iopub.status.idle": "2024-08-19T20:02:00.446580Z",
     "shell.execute_reply": "2024-08-19T20:02:00.446349Z"
    },
    "papermill": {
     "duration": 0.021501,
     "end_time": "2024-08-19T20:02:00.447412",
     "exception": false,
     "start_time": "2024-08-19T20:02:00.425911",
     "status": "completed"
    },
    "tags": []
   },
   "outputs": [
    {
     "data": {
      "text/html": [
       "<div style=\"width:100%;\"><div style=\"position:relative;width:100%;height:0;padding-bottom:60%;\"><span style=\"color:#565656\">Make this Notebook Trusted to load map: File -> Trust Notebook</span><iframe srcdoc=\"&lt;!DOCTYPE html&gt;\n",
       "&lt;html&gt;\n",
       "&lt;head&gt;\n",
       "    \n",
       "    &lt;meta http-equiv=&quot;content-type&quot; content=&quot;text/html; charset=UTF-8&quot; /&gt;\n",
       "    \n",
       "        &lt;script&gt;\n",
       "            L_NO_TOUCH = false;\n",
       "            L_DISABLE_3D = false;\n",
       "        &lt;/script&gt;\n",
       "    \n",
       "    &lt;style&gt;html, body {width: 100%;height: 100%;margin: 0;padding: 0;}&lt;/style&gt;\n",
       "    &lt;style&gt;#map {position:absolute;top:0;bottom:0;right:0;left:0;}&lt;/style&gt;\n",
       "    &lt;script src=&quot;https://cdn.jsdelivr.net/npm/leaflet@1.9.3/dist/leaflet.js&quot;&gt;&lt;/script&gt;\n",
       "    &lt;script src=&quot;https://code.jquery.com/jquery-3.7.1.min.js&quot;&gt;&lt;/script&gt;\n",
       "    &lt;script src=&quot;https://cdn.jsdelivr.net/npm/bootstrap@5.2.2/dist/js/bootstrap.bundle.min.js&quot;&gt;&lt;/script&gt;\n",
       "    &lt;script src=&quot;https://cdnjs.cloudflare.com/ajax/libs/Leaflet.awesome-markers/2.0.2/leaflet.awesome-markers.js&quot;&gt;&lt;/script&gt;\n",
       "    &lt;link rel=&quot;stylesheet&quot; href=&quot;https://cdn.jsdelivr.net/npm/leaflet@1.9.3/dist/leaflet.css&quot;/&gt;\n",
       "    &lt;link rel=&quot;stylesheet&quot; href=&quot;https://cdn.jsdelivr.net/npm/bootstrap@5.2.2/dist/css/bootstrap.min.css&quot;/&gt;\n",
       "    &lt;link rel=&quot;stylesheet&quot; href=&quot;https://netdna.bootstrapcdn.com/bootstrap/3.0.0/css/bootstrap.min.css&quot;/&gt;\n",
       "    &lt;link rel=&quot;stylesheet&quot; href=&quot;https://cdn.jsdelivr.net/npm/@fortawesome/fontawesome-free@6.2.0/css/all.min.css&quot;/&gt;\n",
       "    &lt;link rel=&quot;stylesheet&quot; href=&quot;https://cdnjs.cloudflare.com/ajax/libs/Leaflet.awesome-markers/2.0.2/leaflet.awesome-markers.css&quot;/&gt;\n",
       "    &lt;link rel=&quot;stylesheet&quot; href=&quot;https://cdn.jsdelivr.net/gh/python-visualization/folium/folium/templates/leaflet.awesome.rotate.min.css&quot;/&gt;\n",
       "    \n",
       "            &lt;meta name=&quot;viewport&quot; content=&quot;width=device-width,\n",
       "                initial-scale=1.0, maximum-scale=1.0, user-scalable=no&quot; /&gt;\n",
       "            &lt;style&gt;\n",
       "                #map_ae36ba229a2210db95b40ee552bea4d8 {\n",
       "                    position: relative;\n",
       "                    width: 100.0%;\n",
       "                    height: 100.0%;\n",
       "                    left: 0.0%;\n",
       "                    top: 0.0%;\n",
       "                }\n",
       "                .leaflet-container { font-size: 1rem; }\n",
       "            &lt;/style&gt;\n",
       "        \n",
       "&lt;/head&gt;\n",
       "&lt;body&gt;\n",
       "    \n",
       "    \n",
       "            &lt;div class=&quot;folium-map&quot; id=&quot;map_ae36ba229a2210db95b40ee552bea4d8&quot; &gt;&lt;/div&gt;\n",
       "        \n",
       "&lt;/body&gt;\n",
       "&lt;script&gt;\n",
       "    \n",
       "    \n",
       "            var map_ae36ba229a2210db95b40ee552bea4d8 = L.map(\n",
       "                &quot;map_ae36ba229a2210db95b40ee552bea4d8&quot;,\n",
       "                {\n",
       "                    center: [50.965, 13.922],\n",
       "                    crs: L.CRS.EPSG3857,\n",
       "                    zoom: 12,\n",
       "                    zoomControl: true,\n",
       "                    preferCanvas: false,\n",
       "                }\n",
       "            );\n",
       "\n",
       "            \n",
       "\n",
       "        \n",
       "    \n",
       "            var tile_layer_e0ec5c931f39bc902309828f4100f67d = L.tileLayer(\n",
       "                &quot;https://{s}.basemaps.cartocdn.com/light_all/{z}/{x}/{y}{r}.png&quot;,\n",
       "                {&quot;attribution&quot;: &quot;\\u0026copy; \\u003ca href=\\&quot;https://www.openstreetmap.org/copyright\\&quot;\\u003eOpenStreetMap\\u003c/a\\u003e contributors \\u0026copy; \\u003ca href=\\&quot;https://carto.com/attributions\\&quot;\\u003eCARTO\\u003c/a\\u003e&quot;, &quot;detectRetina&quot;: false, &quot;maxNativeZoom&quot;: 20, &quot;maxZoom&quot;: 20, &quot;minZoom&quot;: 0, &quot;noWrap&quot;: false, &quot;opacity&quot;: 1, &quot;subdomains&quot;: &quot;abcd&quot;, &quot;tms&quot;: false}\n",
       "            );\n",
       "        \n",
       "    \n",
       "            tile_layer_e0ec5c931f39bc902309828f4100f67d.addTo(map_ae36ba229a2210db95b40ee552bea4d8);\n",
       "        \n",
       "    \n",
       "\n",
       "        function geo_json_1ca1891612627d0e2f6ae5a305a27e49_onEachFeature(feature, layer) {\n",
       "            layer.on({\n",
       "            });\n",
       "        };\n",
       "        var geo_json_1ca1891612627d0e2f6ae5a305a27e49 = L.geoJson(null, {\n",
       "                onEachFeature: geo_json_1ca1891612627d0e2f6ae5a305a27e49_onEachFeature,\n",
       "            \n",
       "        });\n",
       "\n",
       "        function geo_json_1ca1891612627d0e2f6ae5a305a27e49_add (data) {\n",
       "            geo_json_1ca1891612627d0e2f6ae5a305a27e49\n",
       "                .addData(data);\n",
       "        }\n",
       "            geo_json_1ca1891612627d0e2f6ae5a305a27e49_add({&quot;coordinates&quot;: [[[13.922514437551428, 50.964720483303836], [13.925250781947113, 50.965228748412386], [13.925036413951403, 50.96623732041704], [13.92222441026388, 50.96629040370362], [13.922514437551428, 50.964720483303836]]], &quot;type&quot;: &quot;Polygon&quot;});\n",
       "\n",
       "        \n",
       "    \n",
       "            geo_json_1ca1891612627d0e2f6ae5a305a27e49.addTo(map_ae36ba229a2210db95b40ee552bea4d8);\n",
       "        \n",
       "    \n",
       "            map_ae36ba229a2210db95b40ee552bea4d8.fitBounds(\n",
       "                [[50.964720483303836, 13.92222441026388], [50.96629040370362, 13.925250781947113]],\n",
       "                {}\n",
       "            );\n",
       "        \n",
       "    \n",
       "            tile_layer_e0ec5c931f39bc902309828f4100f67d.addTo(map_ae36ba229a2210db95b40ee552bea4d8);\n",
       "        \n",
       "    \n",
       "            geo_json_1ca1891612627d0e2f6ae5a305a27e49.addTo(map_ae36ba229a2210db95b40ee552bea4d8);\n",
       "        \n",
       "    \n",
       "\n",
       "        function geo_json_52058661b86819df67564d1b413abb41_onEachFeature(feature, layer) {\n",
       "            layer.on({\n",
       "            });\n",
       "        };\n",
       "        var geo_json_52058661b86819df67564d1b413abb41 = L.geoJson(null, {\n",
       "                onEachFeature: geo_json_52058661b86819df67564d1b413abb41_onEachFeature,\n",
       "            \n",
       "        });\n",
       "\n",
       "        function geo_json_52058661b86819df67564d1b413abb41_add (data) {\n",
       "            geo_json_52058661b86819df67564d1b413abb41\n",
       "                .addData(data);\n",
       "        }\n",
       "            geo_json_52058661b86819df67564d1b413abb41_add({&quot;coordinates&quot;: [[13.9223, 50.9662], [13.925, 50.96615]], &quot;type&quot;: &quot;LineString&quot;});\n",
       "\n",
       "        \n",
       "    \n",
       "            geo_json_52058661b86819df67564d1b413abb41.addTo(map_ae36ba229a2210db95b40ee552bea4d8);\n",
       "        \n",
       "    \n",
       "\n",
       "        function geo_json_8fd4248215b97ba025b8b2ba27e1a1dc_onEachFeature(feature, layer) {\n",
       "            layer.on({\n",
       "            });\n",
       "        };\n",
       "        var geo_json_8fd4248215b97ba025b8b2ba27e1a1dc = L.geoJson(null, {\n",
       "                onEachFeature: geo_json_8fd4248215b97ba025b8b2ba27e1a1dc_onEachFeature,\n",
       "            \n",
       "        });\n",
       "\n",
       "        function geo_json_8fd4248215b97ba025b8b2ba27e1a1dc_add (data) {\n",
       "            geo_json_8fd4248215b97ba025b8b2ba27e1a1dc\n",
       "                .addData(data);\n",
       "        }\n",
       "            geo_json_8fd4248215b97ba025b8b2ba27e1a1dc_add({&quot;geometries&quot;: [{&quot;coordinates&quot;: [[[13.922224410263878, 50.96629040370359], [13.922527047432201, 50.96629040370359], [13.922527047432201, 50.9661334140511], [13.922224410263878, 50.9661334140511], [13.922224410263878, 50.96629040370359]]], &quot;type&quot;: &quot;Polygon&quot;}, {&quot;coordinates&quot;: [[[13.922527047432201, 50.96629040370359], [13.922829684600526, 50.96629040370359], [13.922829684600526, 50.9661334140511], [13.922527047432201, 50.9661334140511], [13.922527047432201, 50.96629040370359]]], &quot;type&quot;: &quot;Polygon&quot;}, {&quot;coordinates&quot;: [[[13.922829684600526, 50.96629040370359], [13.923132321768849, 50.96629040370359], [13.923132321768849, 50.9661334140511], [13.922829684600526, 50.9661334140511], [13.922829684600526, 50.96629040370359]]], &quot;type&quot;: &quot;Polygon&quot;}, {&quot;coordinates&quot;: [[[13.923132321768849, 50.96629040370359], [13.923434958937172, 50.96629040370359], [13.923434958937172, 50.9661334140511], [13.923132321768849, 50.9661334140511], [13.923132321768849, 50.96629040370359]]], &quot;type&quot;: &quot;Polygon&quot;}, {&quot;coordinates&quot;: [[[13.923434958937172, 50.96629040370359], [13.923737596105495, 50.96629040370359], [13.923737596105495, 50.9661334140511], [13.923434958937172, 50.9661334140511], [13.923434958937172, 50.96629040370359]]], &quot;type&quot;: &quot;Polygon&quot;}, {&quot;coordinates&quot;: [[[13.923737596105495, 50.96629040370359], [13.924040233273818, 50.96629040370359], [13.924040233273818, 50.9661334140511], [13.923737596105495, 50.9661334140511], [13.923737596105495, 50.96629040370359]]], &quot;type&quot;: &quot;Polygon&quot;}, {&quot;coordinates&quot;: [[[13.924040233273818, 50.96629040370359], [13.924342870442143, 50.96629040370359], [13.924342870442143, 50.9661334140511], [13.924040233273818, 50.9661334140511], [13.924040233273818, 50.96629040370359]]], &quot;type&quot;: &quot;Polygon&quot;}, {&quot;coordinates&quot;: [[[13.924342870442143, 50.96629040370359], [13.924645507610466, 50.96629040370359], [13.924645507610466, 50.9661334140511], [13.924342870442143, 50.9661334140511], [13.924342870442143, 50.96629040370359]]], &quot;type&quot;: &quot;Polygon&quot;}, {&quot;coordinates&quot;: [[[13.924645507610466, 50.96629040370359], [13.92494814477879, 50.96629040370359], [13.92494814477879, 50.9661334140511], [13.924645507610466, 50.9661334140511], [13.924645507610466, 50.96629040370359]]], &quot;type&quot;: &quot;Polygon&quot;}, {&quot;coordinates&quot;: [[[13.92494814477879, 50.96629040370359], [13.925250781947113, 50.96629040370359], [13.925250781947113, 50.9661334140511], [13.92494814477879, 50.9661334140511], [13.92494814477879, 50.96629040370359]]], &quot;type&quot;: &quot;Polygon&quot;}], &quot;type&quot;: &quot;GeometryCollection&quot;});\n",
       "\n",
       "        \n",
       "    \n",
       "            geo_json_8fd4248215b97ba025b8b2ba27e1a1dc.addTo(map_ae36ba229a2210db95b40ee552bea4d8);\n",
       "        \n",
       "    \n",
       "\n",
       "        function geo_json_bca3e136be42e139a7a389bea9586e9f_onEachFeature(feature, layer) {\n",
       "            layer.on({\n",
       "            });\n",
       "        };\n",
       "        var geo_json_bca3e136be42e139a7a389bea9586e9f = L.geoJson(null, {\n",
       "                onEachFeature: geo_json_bca3e136be42e139a7a389bea9586e9f_onEachFeature,\n",
       "            \n",
       "        });\n",
       "\n",
       "        function geo_json_bca3e136be42e139a7a389bea9586e9f_add (data) {\n",
       "            geo_json_bca3e136be42e139a7a389bea9586e9f\n",
       "                .addData(data);\n",
       "        }\n",
       "            geo_json_bca3e136be42e139a7a389bea9586e9f_add({&quot;coordinates&quot;: [13.9223, 50.9662], &quot;type&quot;: &quot;Point&quot;});\n",
       "\n",
       "        \n",
       "    \n",
       "            geo_json_bca3e136be42e139a7a389bea9586e9f.addTo(map_ae36ba229a2210db95b40ee552bea4d8);\n",
       "        \n",
       "    \n",
       "            map_ae36ba229a2210db95b40ee552bea4d8.fitBounds(\n",
       "                [[50.964720483303836, 13.922224410263878], [50.96629040370362, 13.925250781947113]],\n",
       "                {}\n",
       "            );\n",
       "        \n",
       "&lt;/script&gt;\n",
       "&lt;/html&gt;\" style=\"position:absolute;width:100%;height:100%;left:0;top:0;border:none !important;\" allowfullscreen webkitallowfullscreen mozallowfullscreen></iframe></div></div>"
      ],
      "text/plain": [
       "<folium.folium.Map at 0x105b95550>"
      ]
     },
     "execution_count": 6,
     "metadata": {},
     "output_type": "execute_result"
    }
   ],
   "source": [
    "from morpheus.project.types.boundaries.Observation import ObservationId, ObservationName\n",
    "from morpheus.project.types.geometry import Point\n",
    "from morpheus.project.types.boundaries.Boundary import BoundaryName, ConstantHeadBoundary\n",
    "from morpheus.project.types.layers import LayerId\n",
    "from morpheus.project.types.boundaries.ConstantHeadObservation import ConstantHeadObservation, ConstantHeadObservationValue, \\\n",
    "  HeadValue\n",
    "\n",
    "layers_list = [LayerId.new()]\n",
    "constant_head = ConstantHeadBoundary.from_geometry(\n",
    "  name=BoundaryName('constant_head'),\n",
    "  geometry=LineString([\n",
    "    (13.9223, 50.9662),\n",
    "    (13.9250, 50.96615),\n",
    "  ]),\n",
    "  grid=grid,\n",
    "  affected_layers=[model.layers[0].layer_id],\n",
    "  observations=[\n",
    "    ConstantHeadObservation(\n",
    "      observation_id=ObservationId.new(),\n",
    "      observation_name=ObservationName.default(),\n",
    "      geometry=Point((13.9223, 50.9662)),\n",
    "      data=[\n",
    "        ConstantHeadObservationValue(\n",
    "          date_time=StartDateTime.from_datetime(datetime(2019, 1, 1)),\n",
    "          head=HeadValue.from_float(100),\n",
    "        ),\n",
    "        ConstantHeadObservationValue(\n",
    "          date_time=StartDateTime.from_datetime(datetime(2021, 12, 31)),\n",
    "          head=HeadValue.from_float(100),\n",
    "        ),\n",
    "      ]\n",
    "    )\n",
    "  ]\n",
    ")\n",
    "\n",
    "m.add_child(folium.GeoJson(constant_head.as_geojson()))\n",
    "m.add_child(folium.GeoJson(constant_head.affected_cells.to_geojson(grid).as_geojson()))\n",
    "for constant_head.observation in constant_head.observations:\n",
    "  m.add_child(folium.GeoJson(constant_head.observation.as_geojson()))\n",
    "m.fit_bounds(m.get_bounds())\n",
    "m"
   ]
  },
  {
   "cell_type": "code",
   "execution_count": 7,
   "id": "7c82464ff5708ee7",
   "metadata": {
    "ExecuteTime": {
     "end_time": "2024-06-21T09:01:27.080026Z",
     "start_time": "2024-06-21T09:01:27.077140Z"
    },
    "execution": {
     "iopub.execute_input": "2024-08-19T20:02:00.452240Z",
     "iopub.status.busy": "2024-08-19T20:02:00.452134Z",
     "iopub.status.idle": "2024-08-19T20:02:00.453820Z",
     "shell.execute_reply": "2024-08-19T20:02:00.453615Z"
    },
    "papermill": {
     "duration": 0.00493,
     "end_time": "2024-08-19T20:02:00.454588",
     "exception": false,
     "start_time": "2024-08-19T20:02:00.449658",
     "status": "completed"
    },
    "tags": []
   },
   "outputs": [],
   "source": [
    "from morpheus.project.types.boundaries.Boundary import BoundaryCollection\n",
    "\n",
    "boundaries = BoundaryCollection.new()\n",
    "boundaries.add_boundary(constant_head)\n",
    "model = model.with_updated_boundaries(boundaries=boundaries)"
   ]
  },
  {
   "cell_type": "code",
   "execution_count": null,
   "id": "467345a686f72a46",
   "metadata": {
    "ExecuteTime": {
     "end_time": "2024-06-21T09:01:27.084831Z",
     "start_time": "2024-06-21T09:01:27.081971Z"
    },
    "papermill": {
     "duration": 0.002024,
     "end_time": "2024-08-19T20:02:00.458728",
     "exception": false,
     "start_time": "2024-08-19T20:02:00.456704",
     "status": "completed"
    },
    "tags": []
   },
   "outputs": [],
   "source": []
  },
  {
   "cell_type": "markdown",
   "id": "def59c686f992cf9",
   "metadata": {
    "papermill": {
     "duration": 0.002276,
     "end_time": "2024-08-19T20:02:00.463029",
     "exception": false,
     "start_time": "2024-08-19T20:02:00.460753",
     "status": "completed"
    },
    "tags": []
   },
   "source": [
    "## Calculate the model asynchronously with celery"
   ]
  },
  {
   "cell_type": "code",
   "execution_count": 8,
   "id": "55efe9e12e77c901",
   "metadata": {
    "ExecuteTime": {
     "end_time": "2024-06-21T09:01:27.091201Z",
     "start_time": "2024-06-21T09:01:27.086969Z"
    },
    "execution": {
     "iopub.execute_input": "2024-08-19T20:02:00.467487Z",
     "iopub.status.busy": "2024-08-19T20:02:00.467396Z",
     "iopub.status.idle": "2024-08-19T20:02:00.469495Z",
     "shell.execute_reply": "2024-08-19T20:02:00.469298Z"
    },
    "papermill": {
     "duration": 0.005218,
     "end_time": "2024-08-19T20:02:00.470246",
     "exception": false,
     "start_time": "2024-08-19T20:02:00.465028",
     "status": "completed"
    },
    "tags": []
   },
   "outputs": [
    {
     "data": {
      "text/plain": [
       "Mf2005CalculationEngineSettings(mf=MfPackageSettings(verbose=False), dis=DisPackageSettings(), bas=BasPackageSettings(ichflg=False, hnoflo=-999.99, stoper=None), chd=ChdPackageSettings(), drn=DrnPackageSettings(ipakcb=0), evt=EvtPackageSettings(ipakcb=0, nevtop=1), fhb=FhbPackageSettings(ipakcb=0, ifhbss=0, ifhbpt=0), ghb=GhbPackageSettings(ipakcb=0), lak=LakPackageSettings(ipakcb=0, theta=1.0), rch=RchPackageSettings(ipakcb=0), riv=RivPackageSettings(ipakcb=0), wel=WelPackageSettings(ipakcb=0), hob=HobPackageSettings(hobdry=0.0, tomulth=1.0), selected_flow_package='lpf', available_flow_packages=['lpf', 'bcf'], bcf=BcfPackageSettings(ipakcb=0, iwdflg=0, ihdwet=0, wetfct=0.1, iwetit=1, wetdry=-0.01, hdry=-1e+30), lpf=LpfPackageSettings(ipakcb=0, iwdflg=0, ihdwet=0, wetfct=0.1, iwetit=1, wetdry=-0.01, hdry=-1e+30, storagecoefficient=False, nocvcorrection=False, constantcv=False, novfc=False, thickstrt=False), selected_solver_package='pcg', available_solver_packages=['de4', 'gmg', 'pcg', 'pcgn', 'sip'], de4=De4PackageSettings(itmx=50, mxup=0, mxlow=0, mxbw=0, ifreq=3, mutd4=0, accl=1, hclose=1e-05, iprd4=1), gmg=GmgPackageSettings(mxiter=50, iiter=30, iadamp=0, hclose=1e-05, rclose=1e-05, relax=1.0, ioutgmg=0, iunitmhc=0, ism=0, isc=0, damp=1.0, dup=0.75, dlow=0.01, chglimit=1.0), pcg=PcgPackageSettings(mxiter=50, iter1=30, npcond=1, hclose=1e-05, rclose=1e-05, relax=1.0, nbpol=0, iprpcg=0, mutpcg=3, damp=1.0, dampt=1.0, ihcofadd=0), pcgn=PcgnPackageSettings(iter_mo=50, iter_mi=30, close_r=1e-05, close_h=1e-05, relax=1.0, ifill=0, unit_pc=0, unit_ts=0, adamp=0, damp=1.0, damp_lb=0.001, rate_d=0.1, chglimit=0.0, acnvg=0, cnvg_lb=0.001, mcnvg=2, rate_c=-1.0, ipunit=0), sip=SipPackageSettings(mxiter=200, nparm=5, accl=1, hclose=1e-05, ipcalc=1, wseed=0.0, iprsip=0), oc=OcPackageSettings(ihedfm=0, iddnfm=0, chedfm=None, cddnfm=None, cboufm=None, compact=True, label='OC'))"
      ]
     },
     "execution_count": 8,
     "metadata": {},
     "output_type": "execute_result"
    }
   ],
   "source": [
    "\n",
    "from morpheus.project.infrastructure.calculation.engines.modflow_2005.types.Mf2005CalculationEngineSettings import \\\n",
    "  Mf2005CalculationEngineSettings\n",
    "\n",
    "calculation_engine_setting = Mf2005CalculationEngineSettings.default()\n",
    "calculation_engine_setting"
   ]
  },
  {
   "cell_type": "markdown",
   "id": "cf5c7e1336cb75ec",
   "metadata": {
    "papermill": {
     "duration": 0.002083,
     "end_time": "2024-08-19T20:02:00.474421",
     "exception": false,
     "start_time": "2024-08-19T20:02:00.472338",
     "status": "completed"
    },
    "tags": []
   },
   "source": []
  },
  {
   "cell_type": "code",
   "execution_count": 9,
   "id": "aa130d1787995ad9",
   "metadata": {
    "ExecuteTime": {
     "end_time": "2024-06-21T09:01:27.562504Z",
     "start_time": "2024-06-21T09:01:27.092600Z"
    },
    "execution": {
     "iopub.execute_input": "2024-08-19T20:02:00.478980Z",
     "iopub.status.busy": "2024-08-19T20:02:00.478881Z",
     "iopub.status.idle": "2024-08-19T20:02:00.836355Z",
     "shell.execute_reply": "2024-08-19T20:02:00.835988Z"
    },
    "papermill": {
     "duration": 0.360936,
     "end_time": "2024-08-19T20:02:00.837401",
     "exception": false,
     "start_time": "2024-08-19T20:02:00.476465",
     "status": "completed"
    },
    "tags": []
   },
   "outputs": [],
   "source": [
    "from morpheus.project.types.calculation.CalculationProfile import CalculationProfile, CalculationEngineType\n",
    "from morpheus.project.infrastructure.calculation.services.AsnycCalculationService import AsyncCalculationService\n",
    "\n",
    "calculation_profile = CalculationProfile.new(CalculationEngineType.MF2005)\n",
    "\n",
    "\n",
    "calculation_id = AsyncCalculationService.create_async_calculation(\n",
    "  project_id=project_id,\n",
    "  model=model,\n",
    "  model_version='1.0.0',\n",
    "  profile=calculation_profile,\n",
    ")\n"
   ]
  },
  {
   "cell_type": "code",
   "execution_count": 10,
   "id": "26c1fea869b667a3",
   "metadata": {
    "ExecuteTime": {
     "end_time": "2024-06-21T09:01:27.659742Z",
     "start_time": "2024-06-21T09:01:27.563221Z"
    },
    "execution": {
     "iopub.execute_input": "2024-08-19T20:02:00.843582Z",
     "iopub.status.busy": "2024-08-19T20:02:00.843394Z",
     "iopub.status.idle": "2024-08-19T20:02:00.927947Z",
     "shell.execute_reply": "2024-08-19T20:02:00.927677Z"
    },
    "papermill": {
     "duration": 0.088512,
     "end_time": "2024-08-19T20:02:00.928843",
     "exception": false,
     "start_time": "2024-08-19T20:02:00.840331",
     "status": "completed"
    },
    "tags": []
   },
   "outputs": [
    {
     "data": {
      "text/plain": [
       "{'id': 'ebc82bf9-3652-43cb-b804-f50132633292', 'state': 'PENDING'}"
      ]
     },
     "execution_count": 10,
     "metadata": {},
     "output_type": "execute_result"
    }
   ],
   "source": [
    "from morpheus.project.tasks import run_calculation_by_id\n",
    "\n",
    "result = run_calculation_by_id.delay(calculation_id=calculation_id.to_str())\n",
    "result_state = result.state\n",
    "result_id = result.id\n",
    "{'id': result_id, 'state': result_state}"
   ]
  },
  {
   "cell_type": "code",
   "execution_count": 11,
   "id": "9030f234b885d995",
   "metadata": {
    "ExecuteTime": {
     "end_time": "2024-06-21T09:01:34.954422Z",
     "start_time": "2024-06-21T09:01:34.945972Z"
    },
    "execution": {
     "iopub.execute_input": "2024-08-19T20:02:00.935017Z",
     "iopub.status.busy": "2024-08-19T20:02:00.934698Z",
     "iopub.status.idle": "2024-08-19T20:02:00.940696Z",
     "shell.execute_reply": "2024-08-19T20:02:00.940428Z"
    },
    "papermill": {
     "duration": 0.010024,
     "end_time": "2024-08-19T20:02:00.941629",
     "exception": false,
     "start_time": "2024-08-19T20:02:00.931605",
     "status": "completed"
    },
    "tags": []
   },
   "outputs": [
    {
     "data": {
      "text/plain": [
       "{'id': 'ebc82bf9-3652-43cb-b804-f50132633292',\n",
       " 'state': 'PENDING',\n",
       " 'ready': False,\n",
       " 'successful': False,\n",
       " 'value': None}"
      ]
     },
     "execution_count": 11,
     "metadata": {},
     "output_type": "execute_result"
    }
   ],
   "source": [
    "from celery.result import AsyncResult\n",
    "\n",
    "result = AsyncResult(id=result_id)\n",
    "{\n",
    "  'id': result.id,\n",
    "  'state': result.state,\n",
    "  'ready': result.ready(),\n",
    "  'successful': result.successful(),\n",
    "  'value': result.result if result.ready() else None,\n",
    "}"
   ]
  },
  {
   "cell_type": "code",
   "execution_count": 12,
   "id": "e57747c5eec94970",
   "metadata": {
    "ExecuteTime": {
     "end_time": "2024-06-21T09:01:36.404963Z",
     "start_time": "2024-06-21T09:01:36.392569Z"
    },
    "collapsed": false,
    "execution": {
     "iopub.execute_input": "2024-08-19T20:02:00.947600Z",
     "iopub.status.busy": "2024-08-19T20:02:00.947466Z",
     "iopub.status.idle": "2024-08-19T20:02:00.952856Z",
     "shell.execute_reply": "2024-08-19T20:02:00.952580Z"
    },
    "papermill": {
     "duration": 0.009335,
     "end_time": "2024-08-19T20:02:00.953788",
     "exception": false,
     "start_time": "2024-08-19T20:02:00.944453",
     "status": "completed"
    },
    "tags": []
   },
   "outputs": [],
   "source": [
    "service = AsyncCalculationService.load_calculation(calculation_id=calculation_id)"
   ]
  },
  {
   "cell_type": "code",
   "execution_count": 13,
   "id": "d04c548bbc8b4da9",
   "metadata": {
    "ExecuteTime": {
     "end_time": "2024-06-21T09:01:37.370372Z",
     "start_time": "2024-06-21T09:01:37.366804Z"
    },
    "collapsed": false,
    "execution": {
     "iopub.execute_input": "2024-08-19T20:02:00.959455Z",
     "iopub.status.busy": "2024-08-19T20:02:00.959319Z",
     "iopub.status.idle": "2024-08-19T20:02:00.961064Z",
     "shell.execute_reply": "2024-08-19T20:02:00.960781Z"
    },
    "papermill": {
     "duration": 0.005657,
     "end_time": "2024-08-19T20:02:00.961942",
     "exception": false,
     "start_time": "2024-08-19T20:02:00.956285",
     "status": "completed"
    },
    "tags": []
   },
   "outputs": [],
   "source": [
    "service.calculation.result"
   ]
  },
  {
   "cell_type": "code",
   "execution_count": 14,
   "id": "48aa27656bc029d",
   "metadata": {
    "ExecuteTime": {
     "end_time": "2024-06-21T09:01:38.173573Z",
     "start_time": "2024-06-21T09:01:38.169113Z"
    },
    "collapsed": false,
    "execution": {
     "iopub.execute_input": "2024-08-19T20:02:00.967705Z",
     "iopub.status.busy": "2024-08-19T20:02:00.967569Z",
     "iopub.status.idle": "2024-08-19T20:02:00.969714Z",
     "shell.execute_reply": "2024-08-19T20:02:00.969488Z"
    },
    "papermill": {
     "duration": 0.006057,
     "end_time": "2024-08-19T20:02:00.970492",
     "exception": false,
     "start_time": "2024-08-19T20:02:00.964435",
     "status": "completed"
    },
    "tags": []
   },
   "outputs": [
    {
     "data": {
      "text/plain": [
       "[<CalculationState.CREATED: 'created'>,\n",
       " <CalculationState.CREATED: 'created'>,\n",
       " <CalculationState.PREPROCESSING: 'preprocessing'>]"
      ]
     },
     "execution_count": 14,
     "metadata": {},
     "output_type": "execute_result"
    }
   ],
   "source": [
    "service.calculation.lifecycle"
   ]
  },
  {
   "cell_type": "code",
   "execution_count": 15,
   "id": "45af3e7702e1383e",
   "metadata": {
    "ExecuteTime": {
     "end_time": "2024-06-21T09:01:39.295851Z",
     "start_time": "2024-06-21T09:01:39.291056Z"
    },
    "collapsed": false,
    "execution": {
     "iopub.execute_input": "2024-08-19T20:02:00.975868Z",
     "iopub.status.busy": "2024-08-19T20:02:00.975749Z",
     "iopub.status.idle": "2024-08-19T20:02:00.977312Z",
     "shell.execute_reply": "2024-08-19T20:02:00.977075Z"
    },
    "papermill": {
     "duration": 0.005088,
     "end_time": "2024-08-19T20:02:00.978020",
     "exception": false,
     "start_time": "2024-08-19T20:02:00.972932",
     "status": "completed"
    },
    "tags": []
   },
   "outputs": [],
   "source": [
    "service.calculation.calculation_log"
   ]
  },
  {
   "cell_type": "code",
   "execution_count": null,
   "id": "9d384aa1479a53fe",
   "metadata": {
    "papermill": {
     "duration": 0.002198,
     "end_time": "2024-08-19T20:02:00.982455",
     "exception": false,
     "start_time": "2024-08-19T20:02:00.980257",
     "status": "completed"
    },
    "tags": []
   },
   "outputs": [],
   "source": []
  }
 ],
 "metadata": {
  "kernelspec": {
   "display_name": "Python 3",
   "language": "python",
   "name": "python3"
  },
  "language_info": {
   "codemirror_mode": {
    "name": "ipython",
    "version": 3
   },
   "file_extension": ".py",
   "mimetype": "text/x-python",
   "name": "python",
   "nbconvert_exporter": "python",
   "pygments_lexer": "ipython3",
   "version": "3.12.2"
  },
  "papermill": {
   "default_parameters": {},
   "duration": 3.005803,
   "end_time": "2024-08-19T20:02:01.705786",
   "environment_variables": {},
   "exception": null,
   "input_path": "./notebooks/Mf2005CalculationWithCelery.ipynb",
   "output_path": "./notebooks/Mf2005CalculationWithCelery.ipynb",
   "parameters": {},
   "start_time": "2024-08-19T20:01:58.699983",
   "version": "2.6.0"
  }
 },
 "nbformat": 4,
 "nbformat_minor": 5
}