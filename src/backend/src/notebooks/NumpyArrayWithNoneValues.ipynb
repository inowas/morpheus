{
 "cells": [
  {
   "cell_type": "code",
   "execution_count": 1,
   "id": "b3405e4e318593d4",
   "metadata": {
    "ExecuteTime": {
     "end_time": "2024-08-19T09:59:03.895597Z",
     "start_time": "2024-08-19T09:59:03.677534Z"
    },
    "execution": {
     "iopub.execute_input": "2024-08-19T20:01:55.631217Z",
     "iopub.status.busy": "2024-08-19T20:01:55.630621Z",
     "iopub.status.idle": "2024-08-19T20:01:55.705022Z",
     "shell.execute_reply": "2024-08-19T20:01:55.703340Z"
    },
    "papermill": {
     "duration": 0.08502,
     "end_time": "2024-08-19T20:01:55.707613",
     "exception": false,
     "start_time": "2024-08-19T20:01:55.622593",
     "status": "completed"
    },
    "tags": []
   },
   "outputs": [
    {
     "data": {
      "text/plain": [
       "array([[ 1.,  2.,  3.],\n",
       "       [ 4., nan,  6.],\n",
       "       [ 7.,  8.,  9.]])"
      ]
     },
     "execution_count": 1,
     "metadata": {},
     "output_type": "execute_result"
    }
   ],
   "source": [
    "import numpy as np\n",
    "\n",
    "data = [\n",
    "  [1, 2, 3],\n",
    "  [4, None, 6],\n",
    "  [7, 8, 9]\n",
    "]\n",
    "\n",
    "np_array = np.array(data)\n",
    "np_array = np_array.astype(float)\n",
    "np_array.dtype\n",
    "np_array"
   ]
  },
  {
   "cell_type": "code",
   "execution_count": 2,
   "id": "7b36543f18b80d28",
   "metadata": {
    "ExecuteTime": {
     "end_time": "2024-08-19T09:59:03.901651Z",
     "start_time": "2024-08-19T09:59:03.897768Z"
    },
    "execution": {
     "iopub.execute_input": "2024-08-19T20:01:55.716183Z",
     "iopub.status.busy": "2024-08-19T20:01:55.715789Z",
     "iopub.status.idle": "2024-08-19T20:01:55.731092Z",
     "shell.execute_reply": "2024-08-19T20:01:55.730405Z"
    },
    "papermill": {
     "duration": 0.02228,
     "end_time": "2024-08-19T20:01:55.733345",
     "exception": false,
     "start_time": "2024-08-19T20:01:55.711065",
     "status": "completed"
    },
    "tags": []
   },
   "outputs": [
    {
     "data": {
      "text/plain": [
       "False"
      ]
     },
     "execution_count": 2,
     "metadata": {},
     "output_type": "execute_result"
    }
   ],
   "source": [
    "np_array[1, 1] == np.nan"
   ]
  },
  {
   "cell_type": "code",
   "execution_count": 3,
   "id": "df78115ade324f91",
   "metadata": {
    "ExecuteTime": {
     "end_time": "2024-08-19T09:59:03.913028Z",
     "start_time": "2024-08-19T09:59:03.904198Z"
    },
    "execution": {
     "iopub.execute_input": "2024-08-19T20:01:55.740852Z",
     "iopub.status.busy": "2024-08-19T20:01:55.740245Z",
     "iopub.status.idle": "2024-08-19T20:01:55.747475Z",
     "shell.execute_reply": "2024-08-19T20:01:55.745489Z"
    },
    "papermill": {
     "duration": 0.013777,
     "end_time": "2024-08-19T20:01:55.750098",
     "exception": false,
     "start_time": "2024-08-19T20:01:55.736321",
     "status": "completed"
    },
    "tags": []
   },
   "outputs": [
    {
     "data": {
      "text/plain": [
       "True"
      ]
     },
     "execution_count": 3,
     "metadata": {},
     "output_type": "execute_result"
    }
   ],
   "source": [
    "np.isnan(np_array[1, 1])"
   ]
  },
  {
   "cell_type": "code",
   "execution_count": 4,
   "id": "5ac8cbc44e9b6847",
   "metadata": {
    "ExecuteTime": {
     "end_time": "2024-08-19T09:59:03.925698Z",
     "start_time": "2024-08-19T09:59:03.917629Z"
    },
    "execution": {
     "iopub.execute_input": "2024-08-19T20:01:55.757619Z",
     "iopub.status.busy": "2024-08-19T20:01:55.757186Z",
     "iopub.status.idle": "2024-08-19T20:01:55.766956Z",
     "shell.execute_reply": "2024-08-19T20:01:55.766282Z"
    },
    "papermill": {
     "duration": 0.0165,
     "end_time": "2024-08-19T20:01:55.769610",
     "exception": false,
     "start_time": "2024-08-19T20:01:55.753110",
     "status": "completed"
    },
    "tags": []
   },
   "outputs": [
    {
     "data": {
      "text/plain": [
       "array([[ 1.,  2.,  3.],\n",
       "       [ 4., nan,  6.],\n",
       "       [ 7.,  8.,  9.]], dtype=float32)"
      ]
     },
     "execution_count": 4,
     "metadata": {},
     "output_type": "execute_result"
    }
   ],
   "source": [
    "data = [\n",
    "  [1, 2, 3],\n",
    "  [4, -9999.0, 6],\n",
    "  [7, 8, 9]\n",
    "]\n",
    "\n",
    "no_data_value = -9999.0\n",
    "np_array = np.array(data, dtype=np.float32)\n",
    "np_array = np.where(np_array == no_data_value, np.nan, np_array)\n",
    "np_array"
   ]
  },
  {
   "cell_type": "code",
   "execution_count": 5,
   "id": "d47165a62c085dc1",
   "metadata": {
    "ExecuteTime": {
     "end_time": "2024-08-19T09:59:03.933980Z",
     "start_time": "2024-08-19T09:59:03.928737Z"
    },
    "execution": {
     "iopub.execute_input": "2024-08-19T20:01:55.776124Z",
     "iopub.status.busy": "2024-08-19T20:01:55.775827Z",
     "iopub.status.idle": "2024-08-19T20:01:55.785000Z",
     "shell.execute_reply": "2024-08-19T20:01:55.784255Z"
    },
    "papermill": {
     "duration": 0.013373,
     "end_time": "2024-08-19T20:01:55.786933",
     "exception": false,
     "start_time": "2024-08-19T20:01:55.773560",
     "status": "completed"
    },
    "tags": []
   },
   "outputs": [
    {
     "data": {
      "text/plain": [
       "array([[ 1.000e+00,  2.000e+00,  3.000e+00],\n",
       "       [ 4.000e+00, -9.999e+03,  6.000e+00],\n",
       "       [ 7.000e+00,  8.000e+00,  9.000e+00]], dtype=float32)"
      ]
     },
     "execution_count": 5,
     "metadata": {},
     "output_type": "execute_result"
    }
   ],
   "source": [
    "data = [\n",
    "  [1, 2, 3],\n",
    "  [4, None, 6],\n",
    "  [7, 8, 9]\n",
    "]\n",
    "\n",
    "no_data_value = None\n",
    "np_array = np.array(data, dtype=np.float32)\n",
    "np_array[np.isnan(np_array)] = -9999.0\n",
    "np_array"
   ]
  },
  {
   "cell_type": "code",
   "execution_count": 6,
   "id": "20d1c474a0c9f617",
   "metadata": {
    "ExecuteTime": {
     "end_time": "2024-08-19T09:59:03.947536Z",
     "start_time": "2024-08-19T09:59:03.936642Z"
    },
    "execution": {
     "iopub.execute_input": "2024-08-19T20:01:55.794135Z",
     "iopub.status.busy": "2024-08-19T20:01:55.793860Z",
     "iopub.status.idle": "2024-08-19T20:01:55.798201Z",
     "shell.execute_reply": "2024-08-19T20:01:55.797651Z"
    },
    "papermill": {
     "duration": 0.009944,
     "end_time": "2024-08-19T20:01:55.799936",
     "exception": false,
     "start_time": "2024-08-19T20:01:55.789992",
     "status": "completed"
    },
    "tags": []
   },
   "outputs": [
    {
     "data": {
      "text/plain": [
       "array([[False, False, False],\n",
       "       [False, False, False],\n",
       "       [False, False, False]])"
      ]
     },
     "execution_count": 6,
     "metadata": {},
     "output_type": "execute_result"
    }
   ],
   "source": [
    "np.isnan(np_array)"
   ]
  },
  {
   "cell_type": "code",
   "execution_count": null,
   "id": "c6ba1494c21caf44",
   "metadata": {
    "ExecuteTime": {
     "end_time": "2024-08-19T09:59:03.960023Z",
     "start_time": "2024-08-19T09:59:03.955752Z"
    },
    "papermill": {
     "duration": 0.002949,
     "end_time": "2024-08-19T20:01:55.806031",
     "exception": false,
     "start_time": "2024-08-19T20:01:55.803082",
     "status": "completed"
    },
    "tags": []
   },
   "outputs": [],
   "source": []
  }
 ],
 "metadata": {
  "kernelspec": {
   "display_name": "Python 3",
   "language": "python",
   "name": "python3"
  },
  "language_info": {
   "codemirror_mode": {
    "name": "ipython",
    "version": 3
   },
   "file_extension": ".py",
   "mimetype": "text/x-python",
   "name": "python",
   "nbconvert_exporter": "python",
   "pygments_lexer": "ipython3",
   "version": "3.12.2"
  },
  "papermill": {
   "default_parameters": {},
   "duration": 0.944207,
   "end_time": "2024-08-19T20:01:56.027651",
   "environment_variables": {},
   "exception": null,
   "input_path": "./notebooks/NumpyArrayWithNoneValues.ipynb",
   "output_path": "./notebooks/NumpyArrayWithNoneValues.ipynb",
   "parameters": {},
   "start_time": "2024-08-19T20:01:55.083444",
   "version": "2.6.0"
  }
 },
 "nbformat": 4,
 "nbformat_minor": 5
}