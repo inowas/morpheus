{
 "cells": [
  {
   "cell_type": "code",
   "execution_count": 1,
   "id": "b3405e4e318593d4",
   "metadata": {
    "ExecuteTime": {
     "end_time": "2024-08-19T09:59:03.895597Z",
     "start_time": "2024-08-19T09:59:03.677534Z"
    },
    "execution": {
     "iopub.execute_input": "2024-08-19T20:25:46.582945Z",
     "iopub.status.busy": "2024-08-19T20:25:46.582488Z",
     "iopub.status.idle": "2024-08-19T20:25:46.660356Z",
     "shell.execute_reply": "2024-08-19T20:25:46.659204Z"
    },
    "papermill": {
     "duration": 0.086686,
     "end_time": "2024-08-19T20:25:46.663134",
     "exception": false,
     "start_time": "2024-08-19T20:25:46.576448",
     "status": "completed"
    },
    "tags": []
   },
   "outputs": [
    {
     "data": {
      "text/plain": [
       "array([[ 1.,  2.,  3.],\n",
       "       [ 4., nan,  6.],\n",
       "       [ 7.,  8.,  9.]])"
      ]
     },
     "execution_count": 1,
     "metadata": {},
     "output_type": "execute_result"
    }
   ],
   "source": [
    "import numpy as np\n",
    "\n",
    "data = [\n",
    "  [1, 2, 3],\n",
    "  [4, None, 6],\n",
    "  [7, 8, 9]\n",
    "]\n",
    "\n",
    "np_array = np.array(data)\n",
    "np_array = np_array.astype(float)\n",
    "np_array.dtype\n",
    "np_array"
   ]
  },
  {
   "cell_type": "code",
   "execution_count": 2,
   "id": "7b36543f18b80d28",
   "metadata": {
    "ExecuteTime": {
     "end_time": "2024-08-19T09:59:03.901651Z",
     "start_time": "2024-08-19T09:59:03.897768Z"
    },
    "execution": {
     "iopub.execute_input": "2024-08-19T20:25:46.669146Z",
     "iopub.status.busy": "2024-08-19T20:25:46.668544Z",
     "iopub.status.idle": "2024-08-19T20:25:46.682513Z",
     "shell.execute_reply": "2024-08-19T20:25:46.681879Z"
    },
    "papermill": {
     "duration": 0.024055,
     "end_time": "2024-08-19T20:25:46.690304",
     "exception": false,
     "start_time": "2024-08-19T20:25:46.666249",
     "status": "completed"
    },
    "tags": []
   },
   "outputs": [
    {
     "data": {
      "text/plain": [
       "False"
      ]
     },
     "execution_count": 2,
     "metadata": {},
     "output_type": "execute_result"
    }
   ],
   "source": [
    "np_array[1, 1] == np.nan"
   ]
  },
  {
   "cell_type": "code",
   "execution_count": 3,
   "id": "df78115ade324f91",
   "metadata": {
    "ExecuteTime": {
     "end_time": "2024-08-19T09:59:03.913028Z",
     "start_time": "2024-08-19T09:59:03.904198Z"
    },
    "execution": {
     "iopub.execute_input": "2024-08-19T20:25:46.697924Z",
     "iopub.status.busy": "2024-08-19T20:25:46.697466Z",
     "iopub.status.idle": "2024-08-19T20:25:46.707204Z",
     "shell.execute_reply": "2024-08-19T20:25:46.706501Z"
    },
    "papermill": {
     "duration": 0.016098,
     "end_time": "2024-08-19T20:25:46.709522",
     "exception": false,
     "start_time": "2024-08-19T20:25:46.693424",
     "status": "completed"
    },
    "tags": []
   },
   "outputs": [
    {
     "data": {
      "text/plain": [
       "True"
      ]
     },
     "execution_count": 3,
     "metadata": {},
     "output_type": "execute_result"
    }
   ],
   "source": [
    "np.isnan(np_array[1, 1])"
   ]
  },
  {
   "cell_type": "code",
   "execution_count": 4,
   "id": "5ac8cbc44e9b6847",
   "metadata": {
    "ExecuteTime": {
     "end_time": "2024-08-19T09:59:03.925698Z",
     "start_time": "2024-08-19T09:59:03.917629Z"
    },
    "execution": {
     "iopub.execute_input": "2024-08-19T20:25:46.718528Z",
     "iopub.status.busy": "2024-08-19T20:25:46.717972Z",
     "iopub.status.idle": "2024-08-19T20:25:46.727142Z",
     "shell.execute_reply": "2024-08-19T20:25:46.726117Z"
    },
    "papermill": {
     "duration": 0.017136,
     "end_time": "2024-08-19T20:25:46.729815",
     "exception": false,
     "start_time": "2024-08-19T20:25:46.712679",
     "status": "completed"
    },
    "tags": []
   },
   "outputs": [
    {
     "data": {
      "text/plain": [
       "array([[ 1.,  2.,  3.],\n",
       "       [ 4., nan,  6.],\n",
       "       [ 7.,  8.,  9.]], dtype=float32)"
      ]
     },
     "execution_count": 4,
     "metadata": {},
     "output_type": "execute_result"
    }
   ],
   "source": [
    "data = [\n",
    "  [1, 2, 3],\n",
    "  [4, -9999.0, 6],\n",
    "  [7, 8, 9]\n",
    "]\n",
    "\n",
    "no_data_value = -9999.0\n",
    "np_array = np.array(data, dtype=np.float32)\n",
    "np_array = np.where(np_array == no_data_value, np.nan, np_array)\n",
    "np_array"
   ]
  },
  {
   "cell_type": "code",
   "execution_count": 5,
   "id": "d47165a62c085dc1",
   "metadata": {
    "ExecuteTime": {
     "end_time": "2024-08-19T09:59:03.933980Z",
     "start_time": "2024-08-19T09:59:03.928737Z"
    },
    "execution": {
     "iopub.execute_input": "2024-08-19T20:25:46.740182Z",
     "iopub.status.busy": "2024-08-19T20:25:46.739586Z",
     "iopub.status.idle": "2024-08-19T20:25:46.747945Z",
     "shell.execute_reply": "2024-08-19T20:25:46.746204Z"
    },
    "papermill": {
     "duration": 0.016938,
     "end_time": "2024-08-19T20:25:46.750338",
     "exception": false,
     "start_time": "2024-08-19T20:25:46.733400",
     "status": "completed"
    },
    "tags": []
   },
   "outputs": [
    {
     "data": {
      "text/plain": [
       "array([[ 1.000e+00,  2.000e+00,  3.000e+00],\n",
       "       [ 4.000e+00, -9.999e+03,  6.000e+00],\n",
       "       [ 7.000e+00,  8.000e+00,  9.000e+00]], dtype=float32)"
      ]
     },
     "execution_count": 5,
     "metadata": {},
     "output_type": "execute_result"
    }
   ],
   "source": [
    "data = [\n",
    "  [1, 2, 3],\n",
    "  [4, None, 6],\n",
    "  [7, 8, 9]\n",
    "]\n",
    "\n",
    "no_data_value = None\n",
    "np_array = np.array(data, dtype=np.float32)\n",
    "np_array[np.isnan(np_array)] = -9999.0\n",
    "np_array"
   ]
  },
  {
   "cell_type": "code",
   "execution_count": 6,
   "id": "20d1c474a0c9f617",
   "metadata": {
    "ExecuteTime": {
     "end_time": "2024-08-19T09:59:03.947536Z",
     "start_time": "2024-08-19T09:59:03.936642Z"
    },
    "execution": {
     "iopub.execute_input": "2024-08-19T20:25:46.759370Z",
     "iopub.status.busy": "2024-08-19T20:25:46.759095Z",
     "iopub.status.idle": "2024-08-19T20:25:46.766820Z",
     "shell.execute_reply": "2024-08-19T20:25:46.766166Z"
    },
    "papermill": {
     "duration": 0.015817,
     "end_time": "2024-08-19T20:25:46.769373",
     "exception": false,
     "start_time": "2024-08-19T20:25:46.753556",
     "status": "completed"
    },
    "tags": []
   },
   "outputs": [
    {
     "data": {
      "text/plain": [
       "array([[False, False, False],\n",
       "       [False, False, False],\n",
       "       [False, False, False]])"
      ]
     },
     "execution_count": 6,
     "metadata": {},
     "output_type": "execute_result"
    }
   ],
   "source": [
    "np.isnan(np_array)"
   ]
  },
  {
   "cell_type": "code",
   "execution_count": null,
   "id": "c6ba1494c21caf44",
   "metadata": {
    "ExecuteTime": {
     "end_time": "2024-08-19T09:59:03.960023Z",
     "start_time": "2024-08-19T09:59:03.955752Z"
    },
    "papermill": {
     "duration": 0.00326,
     "end_time": "2024-08-19T20:25:46.776169",
     "exception": false,
     "start_time": "2024-08-19T20:25:46.772909",
     "status": "completed"
    },
    "tags": []
   },
   "outputs": [],
   "source": []
  }
 ],
 "metadata": {
  "kernelspec": {
   "display_name": "Python 3",
   "language": "python",
   "name": "python3"
  },
  "language_info": {
   "codemirror_mode": {
    "name": "ipython",
    "version": 3
   },
   "file_extension": ".py",
   "mimetype": "text/x-python",
   "name": "python",
   "nbconvert_exporter": "python",
   "pygments_lexer": "ipython3",
   "version": "3.12.2"
  },
  "papermill": {
   "default_parameters": {},
   "duration": 1.041765,
   "end_time": "2024-08-19T20:25:46.914513",
   "environment_variables": {},
   "exception": null,
   "input_path": "./notebooks/NumpyArrayWithNoneValues.ipynb",
   "output_path": "./notebooks/NumpyArrayWithNoneValues.ipynb",
   "parameters": {},
   "start_time": "2024-08-19T20:25:45.872748",
   "version": "2.6.0"
  }
 },
 "nbformat": 4,
 "nbformat_minor": 5
}