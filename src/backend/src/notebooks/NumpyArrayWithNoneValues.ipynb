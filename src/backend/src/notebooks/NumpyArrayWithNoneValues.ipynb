{
 "cells": [
  {
   "cell_type": "code",
   "execution_count": 1,
   "id": "b3405e4e318593d4",
   "metadata": {
    "ExecuteTime": {
     "end_time": "2024-05-14T07:58:19.735708Z",
     "start_time": "2024-05-14T07:58:19.645620Z"
    },
    "execution": {
     "iopub.execute_input": "2024-05-15T15:59:56.234138Z",
     "iopub.status.busy": "2024-05-15T15:59:56.233765Z",
     "iopub.status.idle": "2024-05-15T15:59:56.315404Z",
     "shell.execute_reply": "2024-05-15T15:59:56.314756Z"
    },
    "papermill": {
     "duration": 0.0918,
     "end_time": "2024-05-15T15:59:56.318517",
     "exception": false,
     "start_time": "2024-05-15T15:59:56.226717",
     "status": "completed"
    },
    "tags": []
   },
   "outputs": [
    {
     "data": {
      "text/plain": [
       "array([[ 1.,  2.,  3.],\n",
       "       [ 4., nan,  6.],\n",
       "       [ 7.,  8.,  9.]])"
      ]
     },
     "execution_count": 1,
     "metadata": {},
     "output_type": "execute_result"
    }
   ],
   "source": [
    "import numpy as np\n",
    "\n",
    "data = [\n",
    "  [1, 2, 3],\n",
    "  [4, None, 6],\n",
    "  [7, 8, 9]\n",
    "]\n",
    "\n",
    "np_array = np.array(data)\n",
    "np_array = np_array.astype(float)\n",
    "np_array.dtype\n",
    "np_array"
   ]
  },
  {
   "cell_type": "code",
   "execution_count": 2,
   "id": "7b36543f18b80d28",
   "metadata": {
    "ExecuteTime": {
     "end_time": "2024-05-14T07:58:19.793431Z",
     "start_time": "2024-05-14T07:58:19.748036Z"
    },
    "execution": {
     "iopub.execute_input": "2024-05-15T15:59:56.326428Z",
     "iopub.status.busy": "2024-05-15T15:59:56.326011Z",
     "iopub.status.idle": "2024-05-15T15:59:56.337397Z",
     "shell.execute_reply": "2024-05-15T15:59:56.333166Z"
    },
    "papermill": {
     "duration": 0.019161,
     "end_time": "2024-05-15T15:59:56.341044",
     "exception": false,
     "start_time": "2024-05-15T15:59:56.321883",
     "status": "completed"
    },
    "tags": []
   },
   "outputs": [
    {
     "data": {
      "text/plain": [
       "False"
      ]
     },
     "execution_count": 2,
     "metadata": {},
     "output_type": "execute_result"
    }
   ],
   "source": [
    "np_array[1, 1] == np.nan"
   ]
  },
  {
   "cell_type": "code",
   "execution_count": 3,
   "id": "df78115ade324f91",
   "metadata": {
    "ExecuteTime": {
     "end_time": "2024-05-14T07:58:19.889247Z",
     "start_time": "2024-05-14T07:58:19.810906Z"
    },
    "execution": {
     "iopub.execute_input": "2024-05-15T15:59:56.347190Z",
     "iopub.status.busy": "2024-05-15T15:59:56.346877Z",
     "iopub.status.idle": "2024-05-15T15:59:56.351844Z",
     "shell.execute_reply": "2024-05-15T15:59:56.351125Z"
    },
    "papermill": {
     "duration": 0.011314,
     "end_time": "2024-05-15T15:59:56.353916",
     "exception": false,
     "start_time": "2024-05-15T15:59:56.342602",
     "status": "completed"
    },
    "tags": []
   },
   "outputs": [
    {
     "data": {
      "text/plain": [
       "True"
      ]
     },
     "execution_count": 3,
     "metadata": {},
     "output_type": "execute_result"
    }
   ],
   "source": [
    "np.isnan(np_array[1, 1])"
   ]
  },
  {
   "cell_type": "code",
   "execution_count": 4,
   "id": "5ac8cbc44e9b6847",
   "metadata": {
    "ExecuteTime": {
     "end_time": "2024-05-14T07:58:19.898438Z",
     "start_time": "2024-05-14T07:58:19.890638Z"
    },
    "execution": {
     "iopub.execute_input": "2024-05-15T15:59:56.360896Z",
     "iopub.status.busy": "2024-05-15T15:59:56.360571Z",
     "iopub.status.idle": "2024-05-15T15:59:56.367142Z",
     "shell.execute_reply": "2024-05-15T15:59:56.366230Z"
    },
    "papermill": {
     "duration": 0.012754,
     "end_time": "2024-05-15T15:59:56.369513",
     "exception": false,
     "start_time": "2024-05-15T15:59:56.356759",
     "status": "completed"
    },
    "tags": []
   },
   "outputs": [
    {
     "data": {
      "text/plain": [
       "array([[ 1.,  2.,  3.],\n",
       "       [ 4., nan,  6.],\n",
       "       [ 7.,  8.,  9.]], dtype=float32)"
      ]
     },
     "execution_count": 4,
     "metadata": {},
     "output_type": "execute_result"
    }
   ],
   "source": [
    "data = [\n",
    "  [1, 2, 3],\n",
    "  [4, -9999.0, 6],\n",
    "  [7, 8, 9]\n",
    "]\n",
    "\n",
    "no_data_value = -9999.0\n",
    "np_array = np.array(data, dtype=np.float32)\n",
    "np_array = np.where(np_array == no_data_value, np.nan, np_array)\n",
    "np_array"
   ]
  },
  {
   "cell_type": "code",
   "execution_count": 5,
   "id": "d47165a62c085dc1",
   "metadata": {
    "ExecuteTime": {
     "end_time": "2024-05-14T07:58:19.909087Z",
     "start_time": "2024-05-14T07:58:19.901973Z"
    },
    "execution": {
     "iopub.execute_input": "2024-05-15T15:59:56.378238Z",
     "iopub.status.busy": "2024-05-15T15:59:56.377919Z",
     "iopub.status.idle": "2024-05-15T15:59:56.383507Z",
     "shell.execute_reply": "2024-05-15T15:59:56.382955Z"
    },
    "papermill": {
     "duration": 0.013167,
     "end_time": "2024-05-15T15:59:56.385670",
     "exception": false,
     "start_time": "2024-05-15T15:59:56.372503",
     "status": "completed"
    },
    "tags": []
   },
   "outputs": [
    {
     "data": {
      "text/plain": [
       "array([[ 1.000e+00,  2.000e+00,  3.000e+00],\n",
       "       [ 4.000e+00, -9.999e+03,  6.000e+00],\n",
       "       [ 7.000e+00,  8.000e+00,  9.000e+00]], dtype=float32)"
      ]
     },
     "execution_count": 5,
     "metadata": {},
     "output_type": "execute_result"
    }
   ],
   "source": [
    "data = [\n",
    "  [1, 2, 3],\n",
    "  [4, None, 6],\n",
    "  [7, 8, 9]\n",
    "]\n",
    "\n",
    "no_data_value = None\n",
    "np_array = np.array(data, dtype=np.float32)\n",
    "np_array[np.isnan(np_array)] = -9999.0\n",
    "np_array"
   ]
  },
  {
   "cell_type": "code",
   "execution_count": 6,
   "id": "20d1c474a0c9f617",
   "metadata": {
    "ExecuteTime": {
     "end_time": "2024-05-14T07:58:19.915769Z",
     "start_time": "2024-05-14T07:58:19.910689Z"
    },
    "execution": {
     "iopub.execute_input": "2024-05-15T15:59:56.393141Z",
     "iopub.status.busy": "2024-05-15T15:59:56.392836Z",
     "iopub.status.idle": "2024-05-15T15:59:56.397255Z",
     "shell.execute_reply": "2024-05-15T15:59:56.396711Z"
    },
    "papermill": {
     "duration": 0.010304,
     "end_time": "2024-05-15T15:59:56.399124",
     "exception": false,
     "start_time": "2024-05-15T15:59:56.388820",
     "status": "completed"
    },
    "tags": []
   },
   "outputs": [
    {
     "data": {
      "text/plain": [
       "array([[False, False, False],\n",
       "       [False, False, False],\n",
       "       [False, False, False]])"
      ]
     },
     "execution_count": 6,
     "metadata": {},
     "output_type": "execute_result"
    }
   ],
   "source": [
    "np.isnan(np_array)"
   ]
  },
  {
   "cell_type": "code",
   "execution_count": null,
   "id": "c6ba1494c21caf44",
   "metadata": {
    "ExecuteTime": {
     "end_time": "2024-05-14T07:58:19.920722Z",
     "start_time": "2024-05-14T07:58:19.917967Z"
    },
    "papermill": {
     "duration": 0.003007,
     "end_time": "2024-05-15T15:59:56.405262",
     "exception": false,
     "start_time": "2024-05-15T15:59:56.402255",
     "status": "completed"
    },
    "tags": []
   },
   "outputs": [],
   "source": []
  }
 ],
 "metadata": {
  "kernelspec": {
   "display_name": "Python 3",
   "language": "python",
   "name": "python3"
  },
  "language_info": {
   "codemirror_mode": {
    "name": "ipython",
    "version": 3
   },
   "file_extension": ".py",
   "mimetype": "text/x-python",
   "name": "python",
   "nbconvert_exporter": "python",
   "pygments_lexer": "ipython3",
   "version": "3.12.2"
  },
  "papermill": {
   "default_parameters": {},
   "duration": 1.105418,
   "end_time": "2024-05-15T15:59:56.627003",
   "environment_variables": {},
   "exception": null,
   "input_path": "./notebooks/NumpyArrayWithNoneValues.ipynb",
   "output_path": "./notebooks/NumpyArrayWithNoneValues.ipynb",
   "parameters": {},
   "start_time": "2024-05-15T15:59:55.521585",
   "version": "2.6.0"
  }
 },
 "nbformat": 4,
 "nbformat_minor": 5
}