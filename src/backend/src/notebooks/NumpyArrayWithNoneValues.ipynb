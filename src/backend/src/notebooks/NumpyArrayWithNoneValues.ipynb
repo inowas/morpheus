{
 "cells": [
  {
   "cell_type": "code",
   "execution_count": 1,
   "id": "b3405e4e318593d4",
   "metadata": {
    "ExecuteTime": {
     "end_time": "2024-05-14T07:58:19.735708Z",
     "start_time": "2024-05-14T07:58:19.645620Z"
    },
    "execution": {
     "iopub.execute_input": "2024-06-17T21:06:12.082094Z",
     "iopub.status.busy": "2024-06-17T21:06:12.081229Z",
     "iopub.status.idle": "2024-06-17T21:06:12.177780Z",
     "shell.execute_reply": "2024-06-17T21:06:12.177119Z"
    },
    "papermill": {
     "duration": 0.111867,
     "end_time": "2024-06-17T21:06:12.180443",
     "exception": false,
     "start_time": "2024-06-17T21:06:12.068576",
     "status": "completed"
    },
    "tags": []
   },
   "outputs": [
    {
     "data": {
      "text/plain": [
       "array([[ 1.,  2.,  3.],\n",
       "       [ 4., nan,  6.],\n",
       "       [ 7.,  8.,  9.]])"
      ]
     },
     "execution_count": 1,
     "metadata": {},
     "output_type": "execute_result"
    }
   ],
   "source": [
    "import numpy as np\n",
    "\n",
    "data = [\n",
    "  [1, 2, 3],\n",
    "  [4, None, 6],\n",
    "  [7, 8, 9]\n",
    "]\n",
    "\n",
    "np_array = np.array(data)\n",
    "np_array = np_array.astype(float)\n",
    "np_array.dtype\n",
    "np_array"
   ]
  },
  {
   "cell_type": "code",
   "execution_count": 2,
   "id": "7b36543f18b80d28",
   "metadata": {
    "ExecuteTime": {
     "end_time": "2024-05-14T07:58:19.793431Z",
     "start_time": "2024-05-14T07:58:19.748036Z"
    },
    "execution": {
     "iopub.execute_input": "2024-06-17T21:06:12.187660Z",
     "iopub.status.busy": "2024-06-17T21:06:12.187292Z",
     "iopub.status.idle": "2024-06-17T21:06:12.212117Z",
     "shell.execute_reply": "2024-06-17T21:06:12.209738Z"
    },
    "papermill": {
     "duration": 0.03137,
     "end_time": "2024-06-17T21:06:12.214840",
     "exception": false,
     "start_time": "2024-06-17T21:06:12.183470",
     "status": "completed"
    },
    "tags": []
   },
   "outputs": [
    {
     "data": {
      "text/plain": [
       "False"
      ]
     },
     "execution_count": 2,
     "metadata": {},
     "output_type": "execute_result"
    }
   ],
   "source": [
    "np_array[1, 1] == np.nan"
   ]
  },
  {
   "cell_type": "code",
   "execution_count": 3,
   "id": "df78115ade324f91",
   "metadata": {
    "ExecuteTime": {
     "end_time": "2024-05-14T07:58:19.889247Z",
     "start_time": "2024-05-14T07:58:19.810906Z"
    },
    "execution": {
     "iopub.execute_input": "2024-06-17T21:06:12.219213Z",
     "iopub.status.busy": "2024-06-17T21:06:12.218835Z",
     "iopub.status.idle": "2024-06-17T21:06:12.226371Z",
     "shell.execute_reply": "2024-06-17T21:06:12.223227Z"
    },
    "papermill": {
     "duration": 0.013019,
     "end_time": "2024-06-17T21:06:12.229632",
     "exception": false,
     "start_time": "2024-06-17T21:06:12.216613",
     "status": "completed"
    },
    "tags": []
   },
   "outputs": [
    {
     "data": {
      "text/plain": [
       "True"
      ]
     },
     "execution_count": 3,
     "metadata": {},
     "output_type": "execute_result"
    }
   ],
   "source": [
    "np.isnan(np_array[1, 1])"
   ]
  },
  {
   "cell_type": "code",
   "execution_count": 4,
   "id": "5ac8cbc44e9b6847",
   "metadata": {
    "ExecuteTime": {
     "end_time": "2024-05-14T07:58:19.898438Z",
     "start_time": "2024-05-14T07:58:19.890638Z"
    },
    "execution": {
     "iopub.execute_input": "2024-06-17T21:06:12.236730Z",
     "iopub.status.busy": "2024-06-17T21:06:12.236374Z",
     "iopub.status.idle": "2024-06-17T21:06:12.243978Z",
     "shell.execute_reply": "2024-06-17T21:06:12.243006Z"
    },
    "papermill": {
     "duration": 0.013734,
     "end_time": "2024-06-17T21:06:12.246454",
     "exception": false,
     "start_time": "2024-06-17T21:06:12.232720",
     "status": "completed"
    },
    "tags": []
   },
   "outputs": [
    {
     "data": {
      "text/plain": [
       "array([[ 1.,  2.,  3.],\n",
       "       [ 4., nan,  6.],\n",
       "       [ 7.,  8.,  9.]], dtype=float32)"
      ]
     },
     "execution_count": 4,
     "metadata": {},
     "output_type": "execute_result"
    }
   ],
   "source": [
    "data = [\n",
    "  [1, 2, 3],\n",
    "  [4, -9999.0, 6],\n",
    "  [7, 8, 9]\n",
    "]\n",
    "\n",
    "no_data_value = -9999.0\n",
    "np_array = np.array(data, dtype=np.float32)\n",
    "np_array = np.where(np_array == no_data_value, np.nan, np_array)\n",
    "np_array"
   ]
  },
  {
   "cell_type": "code",
   "execution_count": 5,
   "id": "d47165a62c085dc1",
   "metadata": {
    "ExecuteTime": {
     "end_time": "2024-05-14T07:58:19.909087Z",
     "start_time": "2024-05-14T07:58:19.901973Z"
    },
    "execution": {
     "iopub.execute_input": "2024-06-17T21:06:12.254037Z",
     "iopub.status.busy": "2024-06-17T21:06:12.253747Z",
     "iopub.status.idle": "2024-06-17T21:06:12.262041Z",
     "shell.execute_reply": "2024-06-17T21:06:12.261379Z"
    },
    "papermill": {
     "duration": 0.013156,
     "end_time": "2024-06-17T21:06:12.264652",
     "exception": false,
     "start_time": "2024-06-17T21:06:12.251496",
     "status": "completed"
    },
    "tags": []
   },
   "outputs": [
    {
     "data": {
      "text/plain": [
       "array([[ 1.000e+00,  2.000e+00,  3.000e+00],\n",
       "       [ 4.000e+00, -9.999e+03,  6.000e+00],\n",
       "       [ 7.000e+00,  8.000e+00,  9.000e+00]], dtype=float32)"
      ]
     },
     "execution_count": 5,
     "metadata": {},
     "output_type": "execute_result"
    }
   ],
   "source": [
    "data = [\n",
    "  [1, 2, 3],\n",
    "  [4, None, 6],\n",
    "  [7, 8, 9]\n",
    "]\n",
    "\n",
    "no_data_value = None\n",
    "np_array = np.array(data, dtype=np.float32)\n",
    "np_array[np.isnan(np_array)] = -9999.0\n",
    "np_array"
   ]
  },
  {
   "cell_type": "code",
   "execution_count": 6,
   "id": "20d1c474a0c9f617",
   "metadata": {
    "ExecuteTime": {
     "end_time": "2024-05-14T07:58:19.915769Z",
     "start_time": "2024-05-14T07:58:19.910689Z"
    },
    "execution": {
     "iopub.execute_input": "2024-06-17T21:06:12.272277Z",
     "iopub.status.busy": "2024-06-17T21:06:12.271988Z",
     "iopub.status.idle": "2024-06-17T21:06:12.278353Z",
     "shell.execute_reply": "2024-06-17T21:06:12.276471Z"
    },
    "papermill": {
     "duration": 0.012764,
     "end_time": "2024-06-17T21:06:12.280605",
     "exception": false,
     "start_time": "2024-06-17T21:06:12.267841",
     "status": "completed"
    },
    "tags": []
   },
   "outputs": [
    {
     "data": {
      "text/plain": [
       "array([[False, False, False],\n",
       "       [False, False, False],\n",
       "       [False, False, False]])"
      ]
     },
     "execution_count": 6,
     "metadata": {},
     "output_type": "execute_result"
    }
   ],
   "source": [
    "np.isnan(np_array)"
   ]
  },
  {
   "cell_type": "code",
   "execution_count": null,
   "id": "c6ba1494c21caf44",
   "metadata": {
    "ExecuteTime": {
     "end_time": "2024-05-14T07:58:19.920722Z",
     "start_time": "2024-05-14T07:58:19.917967Z"
    },
    "papermill": {
     "duration": 0.003033,
     "end_time": "2024-06-17T21:06:12.286961",
     "exception": false,
     "start_time": "2024-06-17T21:06:12.283928",
     "status": "completed"
    },
    "tags": []
   },
   "outputs": [],
   "source": []
  }
 ],
 "metadata": {
  "kernelspec": {
   "display_name": "Python 3",
   "language": "python",
   "name": "python3"
  },
  "language_info": {
   "codemirror_mode": {
    "name": "ipython",
    "version": 3
   },
   "file_extension": ".py",
   "mimetype": "text/x-python",
   "name": "python",
   "nbconvert_exporter": "python",
   "pygments_lexer": "ipython3",
   "version": "3.12.2"
  },
  "papermill": {
   "default_parameters": {},
   "duration": 1.059841,
   "end_time": "2024-06-17T21:06:12.422063",
   "environment_variables": {},
   "exception": null,
   "input_path": "./notebooks/NumpyArrayWithNoneValues.ipynb",
   "output_path": "./notebooks/NumpyArrayWithNoneValues.ipynb",
   "parameters": {},
   "start_time": "2024-06-17T21:06:11.362222",
   "version": "2.6.0"
  }
 },
 "nbformat": 4,
 "nbformat_minor": 5
}