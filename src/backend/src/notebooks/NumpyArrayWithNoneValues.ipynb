{
 "cells": [
  {
   "cell_type": "code",
   "execution_count": 1,
   "id": "b3405e4e318593d4",
   "metadata": {
    "ExecuteTime": {
     "end_time": "2024-05-14T07:58:19.735708Z",
     "start_time": "2024-05-14T07:58:19.645620Z"
    },
    "execution": {
     "iopub.execute_input": "2024-05-15T15:39:30.529676Z",
     "iopub.status.busy": "2024-05-15T15:39:30.529239Z",
     "iopub.status.idle": "2024-05-15T15:39:30.612452Z",
     "shell.execute_reply": "2024-05-15T15:39:30.611790Z"
    },
    "papermill": {
     "duration": 0.093291,
     "end_time": "2024-05-15T15:39:30.614811",
     "exception": false,
     "start_time": "2024-05-15T15:39:30.521520",
     "status": "completed"
    },
    "tags": []
   },
   "outputs": [
    {
     "data": {
      "text/plain": [
       "array([[ 1.,  2.,  3.],\n",
       "       [ 4., nan,  6.],\n",
       "       [ 7.,  8.,  9.]])"
      ]
     },
     "execution_count": 1,
     "metadata": {},
     "output_type": "execute_result"
    }
   ],
   "source": [
    "import numpy as np\n",
    "\n",
    "data = [\n",
    "  [1, 2, 3],\n",
    "  [4, None, 6],\n",
    "  [7, 8, 9]\n",
    "]\n",
    "\n",
    "np_array = np.array(data)\n",
    "np_array = np_array.astype(float)\n",
    "np_array.dtype\n",
    "np_array"
   ]
  },
  {
   "cell_type": "code",
   "execution_count": 2,
   "id": "7b36543f18b80d28",
   "metadata": {
    "ExecuteTime": {
     "end_time": "2024-05-14T07:58:19.793431Z",
     "start_time": "2024-05-14T07:58:19.748036Z"
    },
    "execution": {
     "iopub.execute_input": "2024-05-15T15:39:30.622262Z",
     "iopub.status.busy": "2024-05-15T15:39:30.621862Z",
     "iopub.status.idle": "2024-05-15T15:39:30.630485Z",
     "shell.execute_reply": "2024-05-15T15:39:30.629833Z"
    },
    "papermill": {
     "duration": 0.014984,
     "end_time": "2024-05-15T15:39:30.632969",
     "exception": false,
     "start_time": "2024-05-15T15:39:30.617985",
     "status": "completed"
    },
    "tags": []
   },
   "outputs": [
    {
     "data": {
      "text/plain": [
       "False"
      ]
     },
     "execution_count": 2,
     "metadata": {},
     "output_type": "execute_result"
    }
   ],
   "source": [
    "np_array[1, 1] == np.nan"
   ]
  },
  {
   "cell_type": "code",
   "execution_count": 3,
   "id": "df78115ade324f91",
   "metadata": {
    "ExecuteTime": {
     "end_time": "2024-05-14T07:58:19.889247Z",
     "start_time": "2024-05-14T07:58:19.810906Z"
    },
    "execution": {
     "iopub.execute_input": "2024-05-15T15:39:30.640235Z",
     "iopub.status.busy": "2024-05-15T15:39:30.639712Z",
     "iopub.status.idle": "2024-05-15T15:39:30.648089Z",
     "shell.execute_reply": "2024-05-15T15:39:30.646026Z"
    },
    "papermill": {
     "duration": 0.015667,
     "end_time": "2024-05-15T15:39:30.650764",
     "exception": false,
     "start_time": "2024-05-15T15:39:30.635097",
     "status": "completed"
    },
    "tags": []
   },
   "outputs": [
    {
     "data": {
      "text/plain": [
       "True"
      ]
     },
     "execution_count": 3,
     "metadata": {},
     "output_type": "execute_result"
    }
   ],
   "source": [
    "np.isnan(np_array[1, 1])"
   ]
  },
  {
   "cell_type": "code",
   "execution_count": 4,
   "id": "5ac8cbc44e9b6847",
   "metadata": {
    "ExecuteTime": {
     "end_time": "2024-05-14T07:58:19.898438Z",
     "start_time": "2024-05-14T07:58:19.890638Z"
    },
    "execution": {
     "iopub.execute_input": "2024-05-15T15:39:30.656323Z",
     "iopub.status.busy": "2024-05-15T15:39:30.655684Z",
     "iopub.status.idle": "2024-05-15T15:39:30.664509Z",
     "shell.execute_reply": "2024-05-15T15:39:30.662991Z"
    },
    "papermill": {
     "duration": 0.013328,
     "end_time": "2024-05-15T15:39:30.666852",
     "exception": false,
     "start_time": "2024-05-15T15:39:30.653524",
     "status": "completed"
    },
    "tags": []
   },
   "outputs": [
    {
     "data": {
      "text/plain": [
       "array([[ 1.,  2.,  3.],\n",
       "       [ 4., nan,  6.],\n",
       "       [ 7.,  8.,  9.]], dtype=float32)"
      ]
     },
     "execution_count": 4,
     "metadata": {},
     "output_type": "execute_result"
    }
   ],
   "source": [
    "data = [\n",
    "  [1, 2, 3],\n",
    "  [4, -9999.0, 6],\n",
    "  [7, 8, 9]\n",
    "]\n",
    "\n",
    "no_data_value = -9999.0\n",
    "np_array = np.array(data, dtype=np.float32)\n",
    "np_array = np.where(np_array == no_data_value, np.nan, np_array)\n",
    "np_array"
   ]
  },
  {
   "cell_type": "code",
   "execution_count": 5,
   "id": "d47165a62c085dc1",
   "metadata": {
    "ExecuteTime": {
     "end_time": "2024-05-14T07:58:19.909087Z",
     "start_time": "2024-05-14T07:58:19.901973Z"
    },
    "execution": {
     "iopub.execute_input": "2024-05-15T15:39:30.671988Z",
     "iopub.status.busy": "2024-05-15T15:39:30.671708Z",
     "iopub.status.idle": "2024-05-15T15:39:30.680067Z",
     "shell.execute_reply": "2024-05-15T15:39:30.678324Z"
    },
    "papermill": {
     "duration": 0.012972,
     "end_time": "2024-05-15T15:39:30.682469",
     "exception": false,
     "start_time": "2024-05-15T15:39:30.669497",
     "status": "completed"
    },
    "tags": []
   },
   "outputs": [
    {
     "data": {
      "text/plain": [
       "array([[ 1.000e+00,  2.000e+00,  3.000e+00],\n",
       "       [ 4.000e+00, -9.999e+03,  6.000e+00],\n",
       "       [ 7.000e+00,  8.000e+00,  9.000e+00]], dtype=float32)"
      ]
     },
     "execution_count": 5,
     "metadata": {},
     "output_type": "execute_result"
    }
   ],
   "source": [
    "data = [\n",
    "  [1, 2, 3],\n",
    "  [4, None, 6],\n",
    "  [7, 8, 9]\n",
    "]\n",
    "\n",
    "no_data_value = None\n",
    "np_array = np.array(data, dtype=np.float32)\n",
    "np_array[np.isnan(np_array)] = -9999.0\n",
    "np_array"
   ]
  },
  {
   "cell_type": "code",
   "execution_count": 6,
   "id": "20d1c474a0c9f617",
   "metadata": {
    "ExecuteTime": {
     "end_time": "2024-05-14T07:58:19.915769Z",
     "start_time": "2024-05-14T07:58:19.910689Z"
    },
    "execution": {
     "iopub.execute_input": "2024-05-15T15:39:30.689952Z",
     "iopub.status.busy": "2024-05-15T15:39:30.689657Z",
     "iopub.status.idle": "2024-05-15T15:39:30.696315Z",
     "shell.execute_reply": "2024-05-15T15:39:30.695522Z"
    },
    "papermill": {
     "duration": 0.013044,
     "end_time": "2024-05-15T15:39:30.698587",
     "exception": false,
     "start_time": "2024-05-15T15:39:30.685543",
     "status": "completed"
    },
    "tags": []
   },
   "outputs": [
    {
     "data": {
      "text/plain": [
       "array([[False, False, False],\n",
       "       [False, False, False],\n",
       "       [False, False, False]])"
      ]
     },
     "execution_count": 6,
     "metadata": {},
     "output_type": "execute_result"
    }
   ],
   "source": [
    "np.isnan(np_array)"
   ]
  },
  {
   "cell_type": "code",
   "execution_count": null,
   "id": "c6ba1494c21caf44",
   "metadata": {
    "ExecuteTime": {
     "end_time": "2024-05-14T07:58:19.920722Z",
     "start_time": "2024-05-14T07:58:19.917967Z"
    },
    "papermill": {
     "duration": 0.00212,
     "end_time": "2024-05-15T15:39:30.703822",
     "exception": false,
     "start_time": "2024-05-15T15:39:30.701702",
     "status": "completed"
    },
    "tags": []
   },
   "outputs": [],
   "source": []
  }
 ],
 "metadata": {
  "kernelspec": {
   "display_name": "Python 3",
   "language": "python",
   "name": "python3"
  },
  "language_info": {
   "codemirror_mode": {
    "name": "ipython",
    "version": 3
   },
   "file_extension": ".py",
   "mimetype": "text/x-python",
   "name": "python",
   "nbconvert_exporter": "python",
   "pygments_lexer": "ipython3",
   "version": "3.12.2"
  },
  "papermill": {
   "default_parameters": {},
   "duration": 1.124086,
   "end_time": "2024-05-15T15:39:30.925835",
   "environment_variables": {},
   "exception": null,
   "input_path": "./notebooks/NumpyArrayWithNoneValues.ipynb",
   "output_path": "./notebooks/NumpyArrayWithNoneValues.ipynb",
   "parameters": {},
   "start_time": "2024-05-15T15:39:29.801749",
   "version": "2.6.0"
  }
 },
 "nbformat": 4,
 "nbformat_minor": 5
}