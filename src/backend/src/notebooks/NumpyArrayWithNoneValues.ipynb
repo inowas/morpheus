{
 "cells": [
  {
   "metadata": {
    "ExecuteTime": {
     "end_time": "2024-05-07T08:33:28.015401Z",
     "start_time": "2024-05-07T08:33:27.917662Z"
    }
   },
   "cell_type": "code",
   "source": [
    "import numpy as np\n",
    "\n",
    "data = [\n",
    "  [1, 2, 3],\n",
    "  [4, None, 6],\n",
    "  [7, 8, 9]\n",
    "]\n",
    "\n",
    "np_array = np.array(data)\n",
    "np_array = np_array.astype(float)\n",
    "np_array.dtype\n",
    "np_array"
   ],
   "id": "b3405e4e318593d4",
   "outputs": [
    {
     "data": {
      "text/plain": [
       "array([[ 1.,  2.,  3.],\n",
       "       [ 4., nan,  6.],\n",
       "       [ 7.,  8.,  9.]])"
      ]
     },
     "execution_count": 1,
     "metadata": {},
     "output_type": "execute_result"
    }
   ],
   "execution_count": 1
  },
  {
   "metadata": {
    "ExecuteTime": {
     "end_time": "2024-05-07T08:33:28.023133Z",
     "start_time": "2024-05-07T08:33:28.018420Z"
    }
   },
   "cell_type": "code",
   "source": "np_array[1, 1] == np.nan",
   "id": "7b36543f18b80d28",
   "outputs": [
    {
     "data": {
      "text/plain": [
       "False"
      ]
     },
     "execution_count": 2,
     "metadata": {},
     "output_type": "execute_result"
    }
   ],
   "execution_count": 2
  },
  {
   "metadata": {
    "ExecuteTime": {
     "end_time": "2024-05-07T08:33:28.030433Z",
     "start_time": "2024-05-07T08:33:28.025216Z"
    }
   },
   "cell_type": "code",
   "source": "np.isnan(np_array[1, 1])",
   "id": "df78115ade324f91",
   "outputs": [
    {
     "data": {
      "text/plain": [
       "True"
      ]
     },
     "execution_count": 3,
     "metadata": {},
     "output_type": "execute_result"
    }
   ],
   "execution_count": 3
  },
  {
   "metadata": {
    "ExecuteTime": {
     "end_time": "2024-05-07T08:33:52.538797Z",
     "start_time": "2024-05-07T08:33:52.532975Z"
    }
   },
   "cell_type": "code",
   "source": [
    "data = [\n",
    "  [1, 2, 3],\n",
    "  [4, -9999.0, 6],\n",
    "  [7, 8, 9]\n",
    "]\n",
    "\n",
    "no_data_value = -9999.0\n",
    "np_array = np.array(data, dtype=np.float32)\n",
    "np_array = np.where(np_array == no_data_value, np.nan, np_array)\n",
    "np_array"
   ],
   "id": "5ac8cbc44e9b6847",
   "outputs": [
    {
     "data": {
      "text/plain": [
       "array([[ 1.,  2.,  3.],\n",
       "       [ 4., nan,  6.],\n",
       "       [ 7.,  8.,  9.]], dtype=float32)"
      ]
     },
     "execution_count": 7,
     "metadata": {},
     "output_type": "execute_result"
    }
   ],
   "execution_count": 7
  },
  {
   "metadata": {
    "ExecuteTime": {
     "end_time": "2024-05-07T08:35:12.276917Z",
     "start_time": "2024-05-07T08:35:12.242377Z"
    }
   },
   "cell_type": "code",
   "source": [
    "data = [\n",
    "  [1, 2, 3],\n",
    "  [4, None, 6],\n",
    "  [7, 8, 9]\n",
    "]\n",
    "\n",
    "no_data_value = None\n",
    "np_array = np.array(data, dtype=np.float32)\n",
    "np_array[np.isnan(np_array)] = -9999.0\n",
    "np_array"
   ],
   "id": "d47165a62c085dc1",
   "outputs": [
    {
     "data": {
      "text/plain": [
       "array([[ 1.000e+00,  2.000e+00,  3.000e+00],\n",
       "       [ 4.000e+00, -9.999e+03,  6.000e+00],\n",
       "       [ 7.000e+00,  8.000e+00,  9.000e+00]], dtype=float32)"
      ]
     },
     "execution_count": 16,
     "metadata": {},
     "output_type": "execute_result"
    }
   ],
   "execution_count": 16
  },
  {
   "metadata": {
    "ExecuteTime": {
     "end_time": "2024-05-07T08:34:43.995942Z",
     "start_time": "2024-05-07T08:34:43.989678Z"
    }
   },
   "cell_type": "code",
   "source": "np.isnan(np_array)",
   "id": "20d1c474a0c9f617",
   "outputs": [
    {
     "data": {
      "text/plain": [
       "array([[False, False, False],\n",
       "       [False,  True, False],\n",
       "       [False, False, False]])"
      ]
     },
     "execution_count": 13,
     "metadata": {},
     "output_type": "execute_result"
    }
   ],
   "execution_count": 13
  },
  {
   "metadata": {},
   "cell_type": "code",
   "outputs": [],
   "execution_count": null,
   "source": "",
   "id": "c6ba1494c21caf44"
  }
 ],
 "metadata": {
  "kernelspec": {
   "display_name": "Python 3",
   "language": "python",
   "name": "python3"
  },
  "language_info": {
   "codemirror_mode": {
    "name": "ipython",
    "version": 2
   },
   "file_extension": ".py",
   "mimetype": "text/x-python",
   "name": "python",
   "nbconvert_exporter": "python",
   "pygments_lexer": "ipython2",
   "version": "2.7.6"
  }
 },
 "nbformat": 4,
 "nbformat_minor": 5
}
