{
 "cells": [
  {
   "cell_type": "code",
   "execution_count": 1,
   "outputs": [],
   "source": [
    "import sys\n",
    "\n",
    "sys.path.insert(0, '..')"
   ],
   "metadata": {
    "collapsed": false,
    "ExecuteTime": {
     "end_time": "2024-03-22T08:57:00.788946Z",
     "start_time": "2024-03-22T08:57:00.778425Z"
    }
   },
   "id": "ba6761fae9d5e5cb"
  },
  {
   "cell_type": "markdown",
   "source": [
    "## Setup the model area"
   ],
   "metadata": {
    "collapsed": false
   },
   "id": "5ede1ba5e0993dd1"
  },
  {
   "cell_type": "code",
   "execution_count": 2,
   "outputs": [
    {
     "data": {
      "text/plain": "SpatialDiscretization(geometry=Polygon(coordinates=[[(13.922514437551428, 50.964720483303836), (13.925250781947113, 50.965228748412386), (13.925036413951403, 50.96623732041704), (13.92222441026388, 50.96629040370362), (13.922514437551428, 50.964720483303836)]], type='Polygon'), grid=Grid(origin=Point(coordinates=(13.922224410263878, 50.9662904037036), type='Point'), col_widths=[33.68941547288559, 33.68941547288559, 33.6894154728856, 33.689415472885585, 33.6894154728856, 33.6894154728856, 33.68941547288557, 33.6894154728856, 33.68941547288563, 33.68941547288557], total_width=336.89415472885594, row_heights=[27.749448566045615, 27.749448566045615, 27.7494485660456, 27.74944856604563, 27.7494485660456, 27.7494485660456, 27.7494485660456, 27.749448566045658, 27.7494485660456, 27.7494485660456], total_height=277.4944856604561, rotation=Rotation(value=0), length_unit=LengthUnit(unit=2)), affected_cells=ActiveCells(shape=(10, 10), data=[ActiveCell(col=0, row=0), ActiveCell(col=0, row=1), ActiveCell(col=0, row=2), ActiveCell(col=0, row=3), ActiveCell(col=0, row=4), ActiveCell(col=1, row=0), ActiveCell(col=1, row=1), ActiveCell(col=1, row=2), ActiveCell(col=1, row=3), ActiveCell(col=1, row=4), ActiveCell(col=1, row=5), ActiveCell(col=1, row=6), ActiveCell(col=1, row=7), ActiveCell(col=1, row=8), ActiveCell(col=1, row=9), ActiveCell(col=2, row=0), ActiveCell(col=2, row=1), ActiveCell(col=2, row=2), ActiveCell(col=2, row=3), ActiveCell(col=2, row=4), ActiveCell(col=2, row=5), ActiveCell(col=2, row=6), ActiveCell(col=2, row=7), ActiveCell(col=2, row=8), ActiveCell(col=3, row=0), ActiveCell(col=3, row=1), ActiveCell(col=3, row=2), ActiveCell(col=3, row=3), ActiveCell(col=3, row=4), ActiveCell(col=3, row=5), ActiveCell(col=3, row=6), ActiveCell(col=3, row=7), ActiveCell(col=3, row=8), ActiveCell(col=4, row=0), ActiveCell(col=4, row=1), ActiveCell(col=4, row=2), ActiveCell(col=4, row=3), ActiveCell(col=4, row=4), ActiveCell(col=4, row=5), ActiveCell(col=4, row=6), ActiveCell(col=4, row=7), ActiveCell(col=4, row=8), ActiveCell(col=5, row=0), ActiveCell(col=5, row=1), ActiveCell(col=5, row=2), ActiveCell(col=5, row=3), ActiveCell(col=5, row=4), ActiveCell(col=5, row=5), ActiveCell(col=5, row=6), ActiveCell(col=5, row=7), ActiveCell(col=6, row=0), ActiveCell(col=6, row=1), ActiveCell(col=6, row=2), ActiveCell(col=6, row=3), ActiveCell(col=6, row=4), ActiveCell(col=6, row=5), ActiveCell(col=6, row=6), ActiveCell(col=6, row=7), ActiveCell(col=7, row=0), ActiveCell(col=7, row=1), ActiveCell(col=7, row=2), ActiveCell(col=7, row=3), ActiveCell(col=7, row=4), ActiveCell(col=7, row=5), ActiveCell(col=7, row=6), ActiveCell(col=7, row=7), ActiveCell(col=8, row=0), ActiveCell(col=8, row=1), ActiveCell(col=8, row=2), ActiveCell(col=8, row=3), ActiveCell(col=8, row=4), ActiveCell(col=8, row=5), ActiveCell(col=8, row=6), ActiveCell(col=9, row=2), ActiveCell(col=9, row=3), ActiveCell(col=9, row=4), ActiveCell(col=9, row=5), ActiveCell(col=9, row=6)]))"
     },
     "execution_count": 2,
     "metadata": {},
     "output_type": "execute_result"
    }
   ],
   "source": [
    "from morpheus.project.types.discretization import SpatialDiscretization\n",
    "from morpheus.project.types.discretization.spatial import Rotation, LengthUnit, Grid, ActiveCells, Crs\n",
    "from morpheus.project.types.geometry import Polygon, LineString\n",
    "\n",
    "polygon = Polygon(\n",
    "  type='Polygon',\n",
    "  coordinates=[[\n",
    "    (13.922514437551428, 50.964720483303836),\n",
    "    (13.925250781947113, 50.965228748412386),\n",
    "    (13.925036413951403, 50.96623732041704),\n",
    "    (13.92222441026388, 50.96629040370362),\n",
    "    (13.922514437551428, 50.964720483303836)\n",
    "  ]]\n",
    ")\n",
    "\n",
    "rotation = Rotation(0)\n",
    "length_unit = LengthUnit.meters()\n",
    "relative_col_coordinates = [0, 0.1, 0.2, 0.3, 0.4, 0.5, 0.6, 0.7, 0.8, 0.9, 1]\n",
    "relative_row_coordinates = [0, 0.1, 0.2, 0.3, 0.4, 0.5, 0.6, 0.7, 0.8, 0.9, 1]\n",
    "\n",
    "grid = Grid.from_polygon_with_relative_coordinates(\n",
    "  polygon=polygon,\n",
    "  relative_col_coordinates=relative_col_coordinates,\n",
    "  relative_row_coordinates=relative_row_coordinates,\n",
    "  rotation=rotation,\n",
    ")\n",
    "\n",
    "spatial_discretization = SpatialDiscretization(\n",
    "  geometry=polygon,\n",
    "  grid=grid,\n",
    "  affected_cells=ActiveCells.from_polygon(polygon=polygon, grid=grid),\n",
    "  crs=Crs.from_epsg(4326)\n",
    ")\n",
    "\n",
    "spatial_discretization\n"
   ],
   "metadata": {
    "collapsed": false,
    "ExecuteTime": {
     "end_time": "2024-03-22T08:57:01.098704Z",
     "start_time": "2024-03-22T08:57:00.796180Z"
    }
   },
   "id": "2f69504ab35487aa"
  },
  {
   "cell_type": "markdown",
   "source": [
    "## Setup Time Discretization"
   ],
   "metadata": {
    "collapsed": false
   },
   "id": "fa27e67f9d801845"
  },
  {
   "cell_type": "code",
   "execution_count": 3,
   "outputs": [
    {
     "data": {
      "text/plain": "TimeDiscretization(start_date_time=StartDateTime(value=datetime.datetime(2020, 1, 1, 0, 0)), end_date_time=StartDateTime(value=datetime.datetime(2020, 12, 31, 0, 0)), stress_periods=StressPeriodCollection(values=[StressPeriod(start_date_time=StartDateTime(value=datetime.datetime(2020, 1, 1, 0, 0)), number_of_time_steps=NumberOfTimeSteps(value=1), time_step_multiplier=TimeStepMultiplier(value=1), steady_state=IsSteadyState(value=True)), StressPeriod(start_date_time=StartDateTime(value=datetime.datetime(2020, 2, 1, 0, 0)), number_of_time_steps=NumberOfTimeSteps(value=1), time_step_multiplier=TimeStepMultiplier(value=1), steady_state=IsSteadyState(value=False)), StressPeriod(start_date_time=StartDateTime(value=datetime.datetime(2020, 3, 1, 0, 0)), number_of_time_steps=NumberOfTimeSteps(value=1), time_step_multiplier=TimeStepMultiplier(value=1), steady_state=IsSteadyState(value=False)), StressPeriod(start_date_time=StartDateTime(value=datetime.datetime(2020, 4, 1, 0, 0)), number_of_time_steps=NumberOfTimeSteps(value=1), time_step_multiplier=TimeStepMultiplier(value=1), steady_state=IsSteadyState(value=False)), StressPeriod(start_date_time=StartDateTime(value=datetime.datetime(2020, 5, 1, 0, 0)), number_of_time_steps=NumberOfTimeSteps(value=1), time_step_multiplier=TimeStepMultiplier(value=1), steady_state=IsSteadyState(value=False)), StressPeriod(start_date_time=StartDateTime(value=datetime.datetime(2020, 6, 1, 0, 0)), number_of_time_steps=NumberOfTimeSteps(value=1), time_step_multiplier=TimeStepMultiplier(value=1), steady_state=IsSteadyState(value=False)), StressPeriod(start_date_time=StartDateTime(value=datetime.datetime(2020, 7, 1, 0, 0)), number_of_time_steps=NumberOfTimeSteps(value=1), time_step_multiplier=TimeStepMultiplier(value=1), steady_state=IsSteadyState(value=False)), StressPeriod(start_date_time=StartDateTime(value=datetime.datetime(2020, 8, 1, 0, 0)), number_of_time_steps=NumberOfTimeSteps(value=1), time_step_multiplier=TimeStepMultiplier(value=1), steady_state=IsSteadyState(value=False)), StressPeriod(start_date_time=StartDateTime(value=datetime.datetime(2020, 9, 1, 0, 0)), number_of_time_steps=NumberOfTimeSteps(value=1), time_step_multiplier=TimeStepMultiplier(value=1), steady_state=IsSteadyState(value=False)), StressPeriod(start_date_time=StartDateTime(value=datetime.datetime(2020, 10, 1, 0, 0)), number_of_time_steps=NumberOfTimeSteps(value=1), time_step_multiplier=TimeStepMultiplier(value=1), steady_state=IsSteadyState(value=False)), StressPeriod(start_date_time=StartDateTime(value=datetime.datetime(2020, 11, 1, 0, 0)), number_of_time_steps=NumberOfTimeSteps(value=1), time_step_multiplier=TimeStepMultiplier(value=1), steady_state=IsSteadyState(value=False)), StressPeriod(start_date_time=StartDateTime(value=datetime.datetime(2020, 12, 1, 0, 0)), number_of_time_steps=NumberOfTimeSteps(value=1), time_step_multiplier=TimeStepMultiplier(value=1), steady_state=IsSteadyState(value=False))]), time_unit=TimeUnit(unit=4))"
     },
     "execution_count": 3,
     "metadata": {},
     "output_type": "execute_result"
    }
   ],
   "source": [
    "from morpheus.project.types.discretization.time.TimeUnit import TimeUnit\n",
    "from morpheus.project.types.discretization.time.Stressperiods import StartDateTime, StressPeriodCollection, \\\n",
    "  StressPeriod, NumberOfTimeSteps, TimeStepMultiplier, IsSteadyState\n",
    "from morpheus.project.types.discretization.time import TimeDiscretization\n",
    "from datetime import datetime\n",
    "\n",
    "time_discretization = TimeDiscretization(\n",
    "  start_date_time=StartDateTime.from_datetime(datetime(2020, 1, 1)),\n",
    "  end_date_time=StartDateTime.from_datetime(datetime(2020, 12, 31)),\n",
    "  stress_periods=StressPeriodCollection([\n",
    "    StressPeriod(\n",
    "      start_date_time=StartDateTime.from_datetime(datetime(2020, 1, 1)),\n",
    "      number_of_time_steps=NumberOfTimeSteps(1),\n",
    "      time_step_multiplier=TimeStepMultiplier(1),\n",
    "      steady_state=IsSteadyState.yes()\n",
    "    ),\n",
    "    StressPeriod(\n",
    "      start_date_time=StartDateTime.from_datetime(datetime(2020, 2, 1)),\n",
    "      number_of_time_steps=NumberOfTimeSteps(1),\n",
    "      time_step_multiplier=TimeStepMultiplier(1),\n",
    "      steady_state=IsSteadyState.no()\n",
    "    ),\n",
    "    StressPeriod(\n",
    "      start_date_time=StartDateTime.from_datetime(datetime(2020, 3, 1)),\n",
    "      number_of_time_steps=NumberOfTimeSteps(1),\n",
    "      time_step_multiplier=TimeStepMultiplier(1),\n",
    "      steady_state=IsSteadyState.no()\n",
    "    ),\n",
    "    StressPeriod(\n",
    "      start_date_time=StartDateTime.from_datetime(datetime(2020, 4, 1)),\n",
    "      number_of_time_steps=NumberOfTimeSteps(1),\n",
    "      time_step_multiplier=TimeStepMultiplier(1),\n",
    "      steady_state=IsSteadyState.no()\n",
    "    ),\n",
    "    StressPeriod(\n",
    "      start_date_time=StartDateTime.from_datetime(datetime(2020, 5, 1)),\n",
    "      number_of_time_steps=NumberOfTimeSteps(1),\n",
    "      time_step_multiplier=TimeStepMultiplier(1),\n",
    "      steady_state=IsSteadyState.no()\n",
    "    ),\n",
    "    StressPeriod(\n",
    "      start_date_time=StartDateTime.from_datetime(datetime(2020, 6, 1)),\n",
    "      number_of_time_steps=NumberOfTimeSteps(1),\n",
    "      time_step_multiplier=TimeStepMultiplier(1),\n",
    "      steady_state=IsSteadyState.no()\n",
    "    ),\n",
    "    StressPeriod(\n",
    "      start_date_time=StartDateTime.from_datetime(datetime(2020, 7, 1)),\n",
    "      number_of_time_steps=NumberOfTimeSteps(1),\n",
    "      time_step_multiplier=TimeStepMultiplier(1),\n",
    "      steady_state=IsSteadyState.no()\n",
    "    ),\n",
    "    StressPeriod(\n",
    "      start_date_time=StartDateTime.from_datetime(datetime(2020, 8, 1)),\n",
    "      number_of_time_steps=NumberOfTimeSteps(1),\n",
    "      time_step_multiplier=TimeStepMultiplier(1),\n",
    "      steady_state=IsSteadyState.no()\n",
    "    ),\n",
    "    StressPeriod(\n",
    "      start_date_time=StartDateTime.from_datetime(datetime(2020, 9, 1)),\n",
    "      number_of_time_steps=NumberOfTimeSteps(1),\n",
    "      time_step_multiplier=TimeStepMultiplier(1),\n",
    "      steady_state=IsSteadyState.no()\n",
    "    ),\n",
    "    StressPeriod(\n",
    "      start_date_time=StartDateTime.from_datetime(datetime(2020, 10, 1)),\n",
    "      number_of_time_steps=NumberOfTimeSteps(1),\n",
    "      time_step_multiplier=TimeStepMultiplier(1),\n",
    "      steady_state=IsSteadyState.no()\n",
    "    ),\n",
    "    StressPeriod(\n",
    "      start_date_time=StartDateTime.from_datetime(datetime(2020, 11, 1)),\n",
    "      number_of_time_steps=NumberOfTimeSteps(1),\n",
    "      time_step_multiplier=TimeStepMultiplier(1),\n",
    "      steady_state=IsSteadyState.no()\n",
    "    ),\n",
    "    StressPeriod(\n",
    "      start_date_time=StartDateTime.from_datetime(datetime(2020, 12, 1)),\n",
    "      number_of_time_steps=NumberOfTimeSteps(1),\n",
    "      time_step_multiplier=TimeStepMultiplier(1),\n",
    "      steady_state=IsSteadyState.no()\n",
    "    ),\n",
    "  ]),\n",
    "  time_unit=TimeUnit.days()\n",
    ")\n",
    "\n",
    "time_discretization"
   ],
   "metadata": {
    "collapsed": false,
    "ExecuteTime": {
     "end_time": "2024-03-22T08:57:01.112619Z",
     "start_time": "2024-03-22T08:57:01.100044Z"
    }
   },
   "id": "8e4e63dd138db9fc"
  },
  {
   "cell_type": "code",
   "execution_count": 4,
   "outputs": [
    {
     "data": {
      "text/plain": "<folium.folium.Map at 0x72b839ba7260>",
      "text/html": "<div style=\"width:100%;\"><div style=\"position:relative;width:100%;height:0;padding-bottom:60%;\"><span style=\"color:#565656\">Make this Notebook Trusted to load map: File -> Trust Notebook</span><iframe srcdoc=\"&lt;!DOCTYPE html&gt;\n&lt;html&gt;\n&lt;head&gt;\n    \n    &lt;meta http-equiv=&quot;content-type&quot; content=&quot;text/html; charset=UTF-8&quot; /&gt;\n    \n        &lt;script&gt;\n            L_NO_TOUCH = false;\n            L_DISABLE_3D = false;\n        &lt;/script&gt;\n    \n    &lt;style&gt;html, body {width: 100%;height: 100%;margin: 0;padding: 0;}&lt;/style&gt;\n    &lt;style&gt;#map {position:absolute;top:0;bottom:0;right:0;left:0;}&lt;/style&gt;\n    &lt;script src=&quot;https://cdn.jsdelivr.net/npm/leaflet@1.9.3/dist/leaflet.js&quot;&gt;&lt;/script&gt;\n    &lt;script src=&quot;https://code.jquery.com/jquery-3.7.1.min.js&quot;&gt;&lt;/script&gt;\n    &lt;script src=&quot;https://cdn.jsdelivr.net/npm/bootstrap@5.2.2/dist/js/bootstrap.bundle.min.js&quot;&gt;&lt;/script&gt;\n    &lt;script src=&quot;https://cdnjs.cloudflare.com/ajax/libs/Leaflet.awesome-markers/2.0.2/leaflet.awesome-markers.js&quot;&gt;&lt;/script&gt;\n    &lt;link rel=&quot;stylesheet&quot; href=&quot;https://cdn.jsdelivr.net/npm/leaflet@1.9.3/dist/leaflet.css&quot;/&gt;\n    &lt;link rel=&quot;stylesheet&quot; href=&quot;https://cdn.jsdelivr.net/npm/bootstrap@5.2.2/dist/css/bootstrap.min.css&quot;/&gt;\n    &lt;link rel=&quot;stylesheet&quot; href=&quot;https://netdna.bootstrapcdn.com/bootstrap/3.0.0/css/bootstrap.min.css&quot;/&gt;\n    &lt;link rel=&quot;stylesheet&quot; href=&quot;https://cdn.jsdelivr.net/npm/@fortawesome/fontawesome-free@6.2.0/css/all.min.css&quot;/&gt;\n    &lt;link rel=&quot;stylesheet&quot; href=&quot;https://cdnjs.cloudflare.com/ajax/libs/Leaflet.awesome-markers/2.0.2/leaflet.awesome-markers.css&quot;/&gt;\n    &lt;link rel=&quot;stylesheet&quot; href=&quot;https://cdn.jsdelivr.net/gh/python-visualization/folium/folium/templates/leaflet.awesome.rotate.min.css&quot;/&gt;\n    \n            &lt;meta name=&quot;viewport&quot; content=&quot;width=device-width,\n                initial-scale=1.0, maximum-scale=1.0, user-scalable=no&quot; /&gt;\n            &lt;style&gt;\n                #map_20f644ece8f91a46ff4a332034b109b4 {\n                    position: relative;\n                    width: 100.0%;\n                    height: 100.0%;\n                    left: 0.0%;\n                    top: 0.0%;\n                }\n                .leaflet-container { font-size: 1rem; }\n            &lt;/style&gt;\n        \n&lt;/head&gt;\n&lt;body&gt;\n    \n    \n            &lt;div class=&quot;folium-map&quot; id=&quot;map_20f644ece8f91a46ff4a332034b109b4&quot; &gt;&lt;/div&gt;\n        \n&lt;/body&gt;\n&lt;script&gt;\n    \n    \n            var map_20f644ece8f91a46ff4a332034b109b4 = L.map(\n                &quot;map_20f644ece8f91a46ff4a332034b109b4&quot;,\n                {\n                    center: [50.965, 13.922],\n                    crs: L.CRS.EPSG3857,\n                    zoom: 12,\n                    zoomControl: true,\n                    preferCanvas: false,\n                }\n            );\n\n            \n\n        \n    \n            var tile_layer_b3375a477376726537cf0b5aadcf4847 = L.tileLayer(\n                &quot;https://{s}.basemaps.cartocdn.com/light_all/{z}/{x}/{y}{r}.png&quot;,\n                {&quot;attribution&quot;: &quot;\\u0026copy; \\u003ca href=\\&quot;https://www.openstreetmap.org/copyright\\&quot;\\u003eOpenStreetMap\\u003c/a\\u003e contributors \\u0026copy; \\u003ca href=\\&quot;https://carto.com/attributions\\&quot;\\u003eCARTO\\u003c/a\\u003e&quot;, &quot;detectRetina&quot;: false, &quot;maxNativeZoom&quot;: 20, &quot;maxZoom&quot;: 20, &quot;minZoom&quot;: 0, &quot;noWrap&quot;: false, &quot;opacity&quot;: 1, &quot;subdomains&quot;: &quot;abcd&quot;, &quot;tms&quot;: false}\n            );\n        \n    \n            tile_layer_b3375a477376726537cf0b5aadcf4847.addTo(map_20f644ece8f91a46ff4a332034b109b4);\n        \n    \n\n        function geo_json_e4850bbb40105459ec52e013803b80f2_onEachFeature(feature, layer) {\n            layer.on({\n            });\n        };\n        var geo_json_e4850bbb40105459ec52e013803b80f2 = L.geoJson(null, {\n                onEachFeature: geo_json_e4850bbb40105459ec52e013803b80f2_onEachFeature,\n            \n        });\n\n        function geo_json_e4850bbb40105459ec52e013803b80f2_add (data) {\n            geo_json_e4850bbb40105459ec52e013803b80f2\n                .addData(data);\n        }\n            geo_json_e4850bbb40105459ec52e013803b80f2_add({&quot;coordinates&quot;: [[[13.922514437551428, 50.964720483303836], [13.925250781947113, 50.965228748412386], [13.925036413951403, 50.96623732041704], [13.92222441026388, 50.96629040370362], [13.922514437551428, 50.964720483303836]]], &quot;type&quot;: &quot;Polygon&quot;});\n\n        \n    \n            geo_json_e4850bbb40105459ec52e013803b80f2.addTo(map_20f644ece8f91a46ff4a332034b109b4);\n        \n    \n            map_20f644ece8f91a46ff4a332034b109b4.fitBounds(\n                [[50.964720483303836, 13.92222441026388], [50.96629040370362, 13.925250781947113]],\n                {}\n            );\n        \n&lt;/script&gt;\n&lt;/html&gt;\" style=\"position:absolute;width:100%;height:100%;left:0;top:0;border:none !important;\" allowfullscreen webkitallowfullscreen mozallowfullscreen></iframe></div></div>"
     },
     "execution_count": 4,
     "metadata": {},
     "output_type": "execute_result"
    }
   ],
   "source": [
    "import folium\n",
    "\n",
    "m = folium.Map(tiles=\"cartodbpositron\", crs=\"EPSG3857\", zoom_start=12, location=[50.965, 13.922])\n",
    "m.add_child(folium.GeoJson(polygon.as_geojson()))\n",
    "\n",
    "m.fit_bounds(m.get_bounds())\n",
    "m"
   ],
   "metadata": {
    "collapsed": false,
    "ExecuteTime": {
     "end_time": "2024-03-22T08:57:01.670936Z",
     "start_time": "2024-03-22T08:57:01.113817Z"
    }
   },
   "id": "1540b870ae83f298"
  },
  {
   "cell_type": "markdown",
   "source": [
    "## Setup model"
   ],
   "metadata": {
    "collapsed": false
   },
   "id": "9df9979b6c9bdbed"
  },
  {
   "cell_type": "code",
   "execution_count": 5,
   "outputs": [],
   "source": [
    "from morpheus.project.types.Model import Model\n",
    "\n",
    "model = Model.new()\n",
    "model = model.with_updated_time_discretization(time_discretization)\n",
    "model = model.with_updated_spatial_discretization(spatial_discretization=spatial_discretization)"
   ],
   "metadata": {
    "collapsed": false,
    "ExecuteTime": {
     "end_time": "2024-03-22T08:57:02.006396Z",
     "start_time": "2024-03-22T08:57:01.672804Z"
    }
   },
   "id": "77045c334efc769c"
  },
  {
   "cell_type": "markdown",
   "source": [
    "# Setup general head boundary with 1 observation"
   ],
   "metadata": {
    "collapsed": false
   },
   "id": "62ae3587df801000"
  },
  {
   "cell_type": "code",
   "execution_count": 6,
   "outputs": [
    {
     "data": {
      "text/plain": "<folium.folium.Map at 0x72b839ba7260>",
      "text/html": "<div style=\"width:100%;\"><div style=\"position:relative;width:100%;height:0;padding-bottom:60%;\"><span style=\"color:#565656\">Make this Notebook Trusted to load map: File -> Trust Notebook</span><iframe srcdoc=\"&lt;!DOCTYPE html&gt;\n&lt;html&gt;\n&lt;head&gt;\n    \n    &lt;meta http-equiv=&quot;content-type&quot; content=&quot;text/html; charset=UTF-8&quot; /&gt;\n    \n        &lt;script&gt;\n            L_NO_TOUCH = false;\n            L_DISABLE_3D = false;\n        &lt;/script&gt;\n    \n    &lt;style&gt;html, body {width: 100%;height: 100%;margin: 0;padding: 0;}&lt;/style&gt;\n    &lt;style&gt;#map {position:absolute;top:0;bottom:0;right:0;left:0;}&lt;/style&gt;\n    &lt;script src=&quot;https://cdn.jsdelivr.net/npm/leaflet@1.9.3/dist/leaflet.js&quot;&gt;&lt;/script&gt;\n    &lt;script src=&quot;https://code.jquery.com/jquery-3.7.1.min.js&quot;&gt;&lt;/script&gt;\n    &lt;script src=&quot;https://cdn.jsdelivr.net/npm/bootstrap@5.2.2/dist/js/bootstrap.bundle.min.js&quot;&gt;&lt;/script&gt;\n    &lt;script src=&quot;https://cdnjs.cloudflare.com/ajax/libs/Leaflet.awesome-markers/2.0.2/leaflet.awesome-markers.js&quot;&gt;&lt;/script&gt;\n    &lt;link rel=&quot;stylesheet&quot; href=&quot;https://cdn.jsdelivr.net/npm/leaflet@1.9.3/dist/leaflet.css&quot;/&gt;\n    &lt;link rel=&quot;stylesheet&quot; href=&quot;https://cdn.jsdelivr.net/npm/bootstrap@5.2.2/dist/css/bootstrap.min.css&quot;/&gt;\n    &lt;link rel=&quot;stylesheet&quot; href=&quot;https://netdna.bootstrapcdn.com/bootstrap/3.0.0/css/bootstrap.min.css&quot;/&gt;\n    &lt;link rel=&quot;stylesheet&quot; href=&quot;https://cdn.jsdelivr.net/npm/@fortawesome/fontawesome-free@6.2.0/css/all.min.css&quot;/&gt;\n    &lt;link rel=&quot;stylesheet&quot; href=&quot;https://cdnjs.cloudflare.com/ajax/libs/Leaflet.awesome-markers/2.0.2/leaflet.awesome-markers.css&quot;/&gt;\n    &lt;link rel=&quot;stylesheet&quot; href=&quot;https://cdn.jsdelivr.net/gh/python-visualization/folium/folium/templates/leaflet.awesome.rotate.min.css&quot;/&gt;\n    \n            &lt;meta name=&quot;viewport&quot; content=&quot;width=device-width,\n                initial-scale=1.0, maximum-scale=1.0, user-scalable=no&quot; /&gt;\n            &lt;style&gt;\n                #map_20f644ece8f91a46ff4a332034b109b4 {\n                    position: relative;\n                    width: 100.0%;\n                    height: 100.0%;\n                    left: 0.0%;\n                    top: 0.0%;\n                }\n                .leaflet-container { font-size: 1rem; }\n            &lt;/style&gt;\n        \n&lt;/head&gt;\n&lt;body&gt;\n    \n    \n            &lt;div class=&quot;folium-map&quot; id=&quot;map_20f644ece8f91a46ff4a332034b109b4&quot; &gt;&lt;/div&gt;\n        \n&lt;/body&gt;\n&lt;script&gt;\n    \n    \n            var map_20f644ece8f91a46ff4a332034b109b4 = L.map(\n                &quot;map_20f644ece8f91a46ff4a332034b109b4&quot;,\n                {\n                    center: [50.965, 13.922],\n                    crs: L.CRS.EPSG3857,\n                    zoom: 12,\n                    zoomControl: true,\n                    preferCanvas: false,\n                }\n            );\n\n            \n\n        \n    \n            var tile_layer_b3375a477376726537cf0b5aadcf4847 = L.tileLayer(\n                &quot;https://{s}.basemaps.cartocdn.com/light_all/{z}/{x}/{y}{r}.png&quot;,\n                {&quot;attribution&quot;: &quot;\\u0026copy; \\u003ca href=\\&quot;https://www.openstreetmap.org/copyright\\&quot;\\u003eOpenStreetMap\\u003c/a\\u003e contributors \\u0026copy; \\u003ca href=\\&quot;https://carto.com/attributions\\&quot;\\u003eCARTO\\u003c/a\\u003e&quot;, &quot;detectRetina&quot;: false, &quot;maxNativeZoom&quot;: 20, &quot;maxZoom&quot;: 20, &quot;minZoom&quot;: 0, &quot;noWrap&quot;: false, &quot;opacity&quot;: 1, &quot;subdomains&quot;: &quot;abcd&quot;, &quot;tms&quot;: false}\n            );\n        \n    \n            tile_layer_b3375a477376726537cf0b5aadcf4847.addTo(map_20f644ece8f91a46ff4a332034b109b4);\n        \n    \n\n        function geo_json_e4850bbb40105459ec52e013803b80f2_onEachFeature(feature, layer) {\n            layer.on({\n            });\n        };\n        var geo_json_e4850bbb40105459ec52e013803b80f2 = L.geoJson(null, {\n                onEachFeature: geo_json_e4850bbb40105459ec52e013803b80f2_onEachFeature,\n            \n        });\n\n        function geo_json_e4850bbb40105459ec52e013803b80f2_add (data) {\n            geo_json_e4850bbb40105459ec52e013803b80f2\n                .addData(data);\n        }\n            geo_json_e4850bbb40105459ec52e013803b80f2_add({&quot;coordinates&quot;: [[[13.922514437551428, 50.964720483303836], [13.925250781947113, 50.965228748412386], [13.925036413951403, 50.96623732041704], [13.92222441026388, 50.96629040370362], [13.922514437551428, 50.964720483303836]]], &quot;type&quot;: &quot;Polygon&quot;});\n\n        \n    \n            geo_json_e4850bbb40105459ec52e013803b80f2.addTo(map_20f644ece8f91a46ff4a332034b109b4);\n        \n    \n            map_20f644ece8f91a46ff4a332034b109b4.fitBounds(\n                [[50.964720483303836, 13.92222441026388], [50.96629040370362, 13.925250781947113]],\n                {}\n            );\n        \n    \n            tile_layer_b3375a477376726537cf0b5aadcf4847.addTo(map_20f644ece8f91a46ff4a332034b109b4);\n        \n    \n            geo_json_e4850bbb40105459ec52e013803b80f2.addTo(map_20f644ece8f91a46ff4a332034b109b4);\n        \n    \n\n        function geo_json_22b5e4b8bf3da48231250a01ae8551ba_onEachFeature(feature, layer) {\n            layer.on({\n            });\n        };\n        var geo_json_22b5e4b8bf3da48231250a01ae8551ba = L.geoJson(null, {\n                onEachFeature: geo_json_22b5e4b8bf3da48231250a01ae8551ba_onEachFeature,\n            \n        });\n\n        function geo_json_22b5e4b8bf3da48231250a01ae8551ba_add (data) {\n            geo_json_22b5e4b8bf3da48231250a01ae8551ba\n                .addData(data);\n        }\n            geo_json_22b5e4b8bf3da48231250a01ae8551ba_add({&quot;coordinates&quot;: [[13.9223, 50.9662], [13.925, 50.96615]], &quot;type&quot;: &quot;LineString&quot;});\n\n        \n    \n            geo_json_22b5e4b8bf3da48231250a01ae8551ba.addTo(map_20f644ece8f91a46ff4a332034b109b4);\n        \n    \n\n        function geo_json_924ce8e8c1caa53894b994e4d4a96260_onEachFeature(feature, layer) {\n            layer.on({\n            });\n        };\n        var geo_json_924ce8e8c1caa53894b994e4d4a96260 = L.geoJson(null, {\n                onEachFeature: geo_json_924ce8e8c1caa53894b994e4d4a96260_onEachFeature,\n            \n        });\n\n        function geo_json_924ce8e8c1caa53894b994e4d4a96260_add (data) {\n            geo_json_924ce8e8c1caa53894b994e4d4a96260\n                .addData(data);\n        }\n            geo_json_924ce8e8c1caa53894b994e4d4a96260_add({&quot;geometries&quot;: [{&quot;coordinates&quot;: [[[13.922224410263878, 50.9662904037036], [13.922527047432201, 50.9662904037036], [13.922527047432201, 50.966133414051114], [13.922224410263878, 50.966133414051114], [13.922224410263878, 50.9662904037036]]], &quot;type&quot;: &quot;Polygon&quot;}, {&quot;coordinates&quot;: [[[13.922527047432201, 50.9662904037036], [13.922829684600526, 50.9662904037036], [13.922829684600526, 50.966133414051114], [13.922527047432201, 50.966133414051114], [13.922527047432201, 50.9662904037036]]], &quot;type&quot;: &quot;Polygon&quot;}, {&quot;coordinates&quot;: [[[13.922829684600526, 50.9662904037036], [13.923132321768849, 50.9662904037036], [13.923132321768849, 50.966133414051114], [13.922829684600526, 50.966133414051114], [13.922829684600526, 50.9662904037036]]], &quot;type&quot;: &quot;Polygon&quot;}, {&quot;coordinates&quot;: [[[13.923132321768849, 50.9662904037036], [13.923434958937172, 50.9662904037036], [13.923434958937172, 50.966133414051114], [13.923132321768849, 50.966133414051114], [13.923132321768849, 50.9662904037036]]], &quot;type&quot;: &quot;Polygon&quot;}, {&quot;coordinates&quot;: [[[13.923434958937172, 50.9662904037036], [13.923737596105495, 50.9662904037036], [13.923737596105495, 50.966133414051114], [13.923434958937172, 50.966133414051114], [13.923434958937172, 50.9662904037036]]], &quot;type&quot;: &quot;Polygon&quot;}, {&quot;coordinates&quot;: [[[13.923737596105495, 50.9662904037036], [13.924040233273818, 50.9662904037036], [13.924040233273818, 50.966133414051114], [13.923737596105495, 50.966133414051114], [13.923737596105495, 50.9662904037036]]], &quot;type&quot;: &quot;Polygon&quot;}, {&quot;coordinates&quot;: [[[13.924040233273818, 50.9662904037036], [13.924342870442143, 50.9662904037036], [13.924342870442143, 50.966133414051114], [13.924040233273818, 50.966133414051114], [13.924040233273818, 50.9662904037036]]], &quot;type&quot;: &quot;Polygon&quot;}, {&quot;coordinates&quot;: [[[13.924342870442143, 50.9662904037036], [13.924645507610466, 50.9662904037036], [13.924645507610466, 50.966133414051114], [13.924342870442143, 50.966133414051114], [13.924342870442143, 50.9662904037036]]], &quot;type&quot;: &quot;Polygon&quot;}, {&quot;coordinates&quot;: [[[13.924645507610466, 50.9662904037036], [13.92494814477879, 50.9662904037036], [13.92494814477879, 50.966133414051114], [13.924645507610466, 50.966133414051114], [13.924645507610466, 50.9662904037036]]], &quot;type&quot;: &quot;Polygon&quot;}], &quot;type&quot;: &quot;GeometryCollection&quot;});\n\n        \n    \n            geo_json_924ce8e8c1caa53894b994e4d4a96260.addTo(map_20f644ece8f91a46ff4a332034b109b4);\n        \n    \n\n        function geo_json_7b60c3f01ed580591beaa02d49472ad2_onEachFeature(feature, layer) {\n            layer.on({\n            });\n        };\n        var geo_json_7b60c3f01ed580591beaa02d49472ad2 = L.geoJson(null, {\n                onEachFeature: geo_json_7b60c3f01ed580591beaa02d49472ad2_onEachFeature,\n            \n        });\n\n        function geo_json_7b60c3f01ed580591beaa02d49472ad2_add (data) {\n            geo_json_7b60c3f01ed580591beaa02d49472ad2\n                .addData(data);\n        }\n            geo_json_7b60c3f01ed580591beaa02d49472ad2_add({&quot;coordinates&quot;: [13.9223, 50.9662], &quot;type&quot;: &quot;Point&quot;});\n\n        \n    \n            geo_json_7b60c3f01ed580591beaa02d49472ad2.addTo(map_20f644ece8f91a46ff4a332034b109b4);\n        \n    \n            map_20f644ece8f91a46ff4a332034b109b4.fitBounds(\n                [[50.964720483303836, 13.922224410263878], [50.96629040370362, 13.925250781947113]],\n                {}\n            );\n        \n&lt;/script&gt;\n&lt;/html&gt;\" style=\"position:absolute;width:100%;height:100%;left:0;top:0;border:none !important;\" allowfullscreen webkitallowfullscreen mozallowfullscreen></iframe></div></div>"
     },
     "execution_count": 6,
     "metadata": {},
     "output_type": "execute_result"
    }
   ],
   "source": [
    "from morpheus.project.types.geometry import Point\n",
    "from morpheus.project.types.boundaries.Boundary import BoundaryName, GeneralHeadBoundary\n",
    "from morpheus.project.types.boundaries.GeneralHeadObservation import GeneralHeadObservation, GeneralHeadRawDataItem, \\\n",
    "  ObservationId, Stage, Conductance\n",
    "\n",
    "layers_list = [model.soil_model.layers[0].id]\n",
    "general_head = GeneralHeadBoundary.from_geometry(\n",
    "  name=BoundaryName('general_head'),\n",
    "  geometry=LineString([\n",
    "    (13.9223, 50.9662),\n",
    "    (13.9250, 50.96615),\n",
    "  ]),\n",
    "  grid=grid,\n",
    "  affected_layers=[layers_list[0]],\n",
    "  observations=[\n",
    "    GeneralHeadObservation(\n",
    "      observation_id=ObservationId.new(),\n",
    "      geometry=Point((13.9223, 50.9662)),\n",
    "      raw_data=[\n",
    "        GeneralHeadRawDataItem(\n",
    "          date_time=StartDateTime.from_datetime(datetime(2019, 1, 1)),\n",
    "          stage=Stage.from_float(100),\n",
    "          conductance=Conductance.from_float(10),\n",
    "        ),\n",
    "        GeneralHeadRawDataItem(\n",
    "          date_time=StartDateTime.from_datetime(datetime(2021, 12, 31)),\n",
    "          stage=Stage.from_float(300),\n",
    "          conductance=Conductance.from_float(30),\n",
    "        ),\n",
    "      ]\n",
    "    )\n",
    "  ]\n",
    ")\n",
    "\n",
    "general_head.affected_cells = general_head.affected_cells.filter(\n",
    "  lambda cell: spatial_discretization.affected_cells.contains(cell))\n",
    "\n",
    "m.add_child(folium.GeoJson(general_head.as_geojson()))\n",
    "m.add_child(folium.GeoJson(general_head.affected_cells.as_geojson(grid).as_geojson()))\n",
    "for general_head.observation in general_head.observations:\n",
    "  m.add_child(folium.GeoJson(general_head.observation.as_geojson()))\n",
    "m.fit_bounds(m.get_bounds())\n",
    "m"
   ],
   "metadata": {
    "collapsed": false,
    "ExecuteTime": {
     "end_time": "2024-03-22T08:57:02.103953Z",
     "start_time": "2024-03-22T08:57:02.007862Z"
    }
   },
   "id": "53679913aee28ce9"
  },
  {
   "cell_type": "code",
   "execution_count": 7,
   "outputs": [
    {
     "name": "stderr",
     "output_type": "stream",
     "text": [
      "/home/christian/Gewerbe/Projekte/workspaces/inowas/morpheus/src/backend/src/notebooks/../morpheus/project/types/boundaries/GeneralHeadObservation.py:96: FutureWarning: 'H' is deprecated and will be removed in a future version, please use 'h' instead.\n",
      "  date_range = pd.date_range(start_date_time.to_datetime(), end_date_time.to_datetime(), freq=freq)\n"
     ]
    },
    {
     "data": {
      "text/plain": "GeneralHeadDataItem(observation_id=ObservationId(value='6e8164d3-eff1-4129-aa1c-439d568d6c3b'), start_date_time=StartDateTime(value=datetime.datetime(2019, 1, 1, 0, 0)), end_date_time=EndDateTime(value=datetime.datetime(2019, 1, 1, 0, 0)), stage=Stage(value=100.0), conductance=Conductance(value=10.0))"
     },
     "execution_count": 7,
     "metadata": {},
     "output_type": "execute_result"
    }
   ],
   "source": [
    "from morpheus.project.types.discretization.time.Stressperiods import EndDateTime\n",
    "\n",
    "mean_data_op_1 = general_head.observations[0].get_data_item(\n",
    "  start_date_time=StartDateTime.from_datetime(datetime(2019, 1, 1)),\n",
    "  end_date_time=EndDateTime.from_datetime(datetime(2019, 1, 1)),\n",
    ")\n",
    "mean_data_op_1"
   ],
   "metadata": {
    "collapsed": false,
    "ExecuteTime": {
     "end_time": "2024-03-22T08:57:02.115272Z",
     "start_time": "2024-03-22T08:57:02.105381Z"
    }
   },
   "id": "621e2265ae79b1ae"
  },
  {
   "cell_type": "markdown",
   "source": [
    "## Calculate constant head stress periods"
   ],
   "metadata": {
    "collapsed": false
   },
   "id": "b33c8f87aa3516fc"
  },
  {
   "cell_type": "code",
   "execution_count": 8,
   "outputs": [
    {
     "data": {
      "text/plain": "{0: [[0, 0, 0, 169.49771689497717, 16.949771689497716],\n  [0, 0, 1, 169.49771689497717, 16.949771689497716],\n  [0, 0, 2, 169.49771689497717, 16.949771689497716],\n  [0, 0, 3, 169.49771689497717, 16.949771689497716],\n  [0, 0, 4, 169.49771689497717, 16.949771689497716],\n  [0, 0, 5, 169.49771689497717, 16.949771689497716],\n  [0, 0, 6, 169.49771689497717, 16.949771689497716],\n  [0, 0, 7, 169.49771689497717, 16.949771689497716],\n  [0, 0, 8, 169.49771689497717, 16.949771689497716]],\n 1: [[0, 0, 0, 174.97716894977162, 17.49771689497717],\n  [0, 0, 1, 174.97716894977162, 17.49771689497717],\n  [0, 0, 2, 174.97716894977162, 17.49771689497717],\n  [0, 0, 3, 174.97716894977162, 17.49771689497717],\n  [0, 0, 4, 174.97716894977162, 17.49771689497717],\n  [0, 0, 5, 174.97716894977162, 17.49771689497717],\n  [0, 0, 6, 174.97716894977162, 17.49771689497717],\n  [0, 0, 7, 174.97716894977162, 17.49771689497717],\n  [0, 0, 8, 174.97716894977162, 17.49771689497717]],\n 2: [[0, 0, 0, 180.45662100456622, 18.045662100456617],\n  [0, 0, 1, 180.45662100456622, 18.045662100456617],\n  [0, 0, 2, 180.45662100456622, 18.045662100456617],\n  [0, 0, 3, 180.45662100456622, 18.045662100456617],\n  [0, 0, 4, 180.45662100456622, 18.045662100456617],\n  [0, 0, 5, 180.45662100456622, 18.045662100456617],\n  [0, 0, 6, 180.45662100456622, 18.045662100456617],\n  [0, 0, 7, 180.45662100456622, 18.045662100456617],\n  [0, 0, 8, 180.45662100456622, 18.045662100456617]],\n 3: [[0, 0, 0, 186.02739726027394, 18.602739726027398],\n  [0, 0, 1, 186.02739726027394, 18.602739726027398],\n  [0, 0, 2, 186.02739726027394, 18.602739726027398],\n  [0, 0, 3, 186.02739726027394, 18.602739726027398],\n  [0, 0, 4, 186.02739726027394, 18.602739726027398],\n  [0, 0, 5, 186.02739726027394, 18.602739726027398],\n  [0, 0, 6, 186.02739726027394, 18.602739726027398],\n  [0, 0, 7, 186.02739726027394, 18.602739726027398],\n  [0, 0, 8, 186.02739726027394, 18.602739726027398]],\n 4: [[0, 0, 0, 191.59817351598176, 19.15981735159817],\n  [0, 0, 1, 191.59817351598176, 19.15981735159817],\n  [0, 0, 2, 191.59817351598176, 19.15981735159817],\n  [0, 0, 3, 191.59817351598176, 19.15981735159817],\n  [0, 0, 4, 191.59817351598176, 19.15981735159817],\n  [0, 0, 5, 191.59817351598176, 19.15981735159817],\n  [0, 0, 6, 191.59817351598176, 19.15981735159817],\n  [0, 0, 7, 191.59817351598176, 19.15981735159817],\n  [0, 0, 8, 191.59817351598176, 19.15981735159817]],\n 5: [[0, 0, 0, 197.16894977168957, 19.716894977168952],\n  [0, 0, 1, 197.16894977168957, 19.716894977168952],\n  [0, 0, 2, 197.16894977168957, 19.716894977168952],\n  [0, 0, 3, 197.16894977168957, 19.716894977168952],\n  [0, 0, 4, 197.16894977168957, 19.716894977168952],\n  [0, 0, 5, 197.16894977168957, 19.716894977168952],\n  [0, 0, 6, 197.16894977168957, 19.716894977168952],\n  [0, 0, 7, 197.16894977168957, 19.716894977168952],\n  [0, 0, 8, 197.16894977168957, 19.716894977168952]],\n 6: [[0, 0, 0, 202.73972602739727, 20.273972602739725],\n  [0, 0, 1, 202.73972602739727, 20.273972602739725],\n  [0, 0, 2, 202.73972602739727, 20.273972602739725],\n  [0, 0, 3, 202.73972602739727, 20.273972602739725],\n  [0, 0, 4, 202.73972602739727, 20.273972602739725],\n  [0, 0, 5, 202.73972602739727, 20.273972602739725],\n  [0, 0, 6, 202.73972602739727, 20.273972602739725],\n  [0, 0, 7, 202.73972602739727, 20.273972602739725],\n  [0, 0, 8, 202.73972602739727, 20.273972602739725]],\n 7: [[0, 0, 0, 208.40182648401827, 20.84018264840183],\n  [0, 0, 1, 208.40182648401827, 20.84018264840183],\n  [0, 0, 2, 208.40182648401827, 20.84018264840183],\n  [0, 0, 3, 208.40182648401827, 20.84018264840183],\n  [0, 0, 4, 208.40182648401827, 20.84018264840183],\n  [0, 0, 5, 208.40182648401827, 20.84018264840183],\n  [0, 0, 6, 208.40182648401827, 20.84018264840183],\n  [0, 0, 7, 208.40182648401827, 20.84018264840183],\n  [0, 0, 8, 208.40182648401827, 20.84018264840183]],\n 8: [[0, 0, 0, 213.97260273972606, 21.397260273972606],\n  [0, 0, 1, 213.97260273972606, 21.397260273972606],\n  [0, 0, 2, 213.97260273972606, 21.397260273972606],\n  [0, 0, 3, 213.97260273972606, 21.397260273972606],\n  [0, 0, 4, 213.97260273972606, 21.397260273972606],\n  [0, 0, 5, 213.97260273972606, 21.397260273972606],\n  [0, 0, 6, 213.97260273972606, 21.397260273972606],\n  [0, 0, 7, 213.97260273972606, 21.397260273972606],\n  [0, 0, 8, 213.97260273972606, 21.397260273972606]],\n 9: [[0, 0, 0, 219.5433789954338, 21.954337899543383],\n  [0, 0, 1, 219.5433789954338, 21.954337899543383],\n  [0, 0, 2, 219.5433789954338, 21.954337899543383],\n  [0, 0, 3, 219.5433789954338, 21.954337899543383],\n  [0, 0, 4, 219.5433789954338, 21.954337899543383],\n  [0, 0, 5, 219.5433789954338, 21.954337899543383],\n  [0, 0, 6, 219.5433789954338, 21.954337899543383],\n  [0, 0, 7, 219.5433789954338, 21.954337899543383],\n  [0, 0, 8, 219.5433789954338, 21.954337899543383]],\n 10: [[0, 0, 0, 225.11415525114157, 22.511415525114163],\n  [0, 0, 1, 225.11415525114157, 22.511415525114163],\n  [0, 0, 2, 225.11415525114157, 22.511415525114163],\n  [0, 0, 3, 225.11415525114157, 22.511415525114163],\n  [0, 0, 4, 225.11415525114157, 22.511415525114163],\n  [0, 0, 5, 225.11415525114157, 22.511415525114163],\n  [0, 0, 6, 225.11415525114157, 22.511415525114163],\n  [0, 0, 7, 225.11415525114157, 22.511415525114163],\n  [0, 0, 8, 225.11415525114157, 22.511415525114163]],\n 11: [[0, 0, 0, 230.5936073059361, 23.05936073059361],\n  [0, 0, 1, 230.5936073059361, 23.05936073059361],\n  [0, 0, 2, 230.5936073059361, 23.05936073059361],\n  [0, 0, 3, 230.5936073059361, 23.05936073059361],\n  [0, 0, 4, 230.5936073059361, 23.05936073059361],\n  [0, 0, 5, 230.5936073059361, 23.05936073059361],\n  [0, 0, 6, 230.5936073059361, 23.05936073059361],\n  [0, 0, 7, 230.5936073059361, 23.05936073059361],\n  [0, 0, 8, 230.5936073059361, 23.05936073059361]]}"
     },
     "execution_count": 8,
     "metadata": {},
     "output_type": "execute_result"
    }
   ],
   "source": [
    "from morpheus.project.infrastructure.calculation.engines.modflow_2005.packages.GhbPackageMapper import \\\n",
    "  calculate_ghb_boundary_stress_period_data\n",
    "\n",
    "result = calculate_ghb_boundary_stress_period_data(\n",
    "  spatial_discretization=spatial_discretization,\n",
    "  time_discretization=time_discretization,\n",
    "  soil_model=model.soil_model,\n",
    "  ghb_boundary=general_head,\n",
    ")\n",
    "result.to_dict()"
   ],
   "metadata": {
    "collapsed": false,
    "ExecuteTime": {
     "end_time": "2024-03-22T08:57:02.808727Z",
     "start_time": "2024-03-22T08:57:02.116758Z"
    }
   },
   "id": "c02b9bf2e59abc77"
  },
  {
   "cell_type": "markdown",
   "source": [
    "## Setup constant head boundary with two observations"
   ],
   "metadata": {
    "collapsed": false
   },
   "id": "894da2e8cf016539"
  },
  {
   "cell_type": "code",
   "execution_count": 9,
   "outputs": [
    {
     "data": {
      "text/plain": "<folium.folium.Map at 0x72b839ba7260>",
      "text/html": "<div style=\"width:100%;\"><div style=\"position:relative;width:100%;height:0;padding-bottom:60%;\"><span style=\"color:#565656\">Make this Notebook Trusted to load map: File -> Trust Notebook</span><iframe srcdoc=\"&lt;!DOCTYPE html&gt;\n&lt;html&gt;\n&lt;head&gt;\n    \n    &lt;meta http-equiv=&quot;content-type&quot; content=&quot;text/html; charset=UTF-8&quot; /&gt;\n    \n        &lt;script&gt;\n            L_NO_TOUCH = false;\n            L_DISABLE_3D = false;\n        &lt;/script&gt;\n    \n    &lt;style&gt;html, body {width: 100%;height: 100%;margin: 0;padding: 0;}&lt;/style&gt;\n    &lt;style&gt;#map {position:absolute;top:0;bottom:0;right:0;left:0;}&lt;/style&gt;\n    &lt;script src=&quot;https://cdn.jsdelivr.net/npm/leaflet@1.9.3/dist/leaflet.js&quot;&gt;&lt;/script&gt;\n    &lt;script src=&quot;https://code.jquery.com/jquery-3.7.1.min.js&quot;&gt;&lt;/script&gt;\n    &lt;script src=&quot;https://cdn.jsdelivr.net/npm/bootstrap@5.2.2/dist/js/bootstrap.bundle.min.js&quot;&gt;&lt;/script&gt;\n    &lt;script src=&quot;https://cdnjs.cloudflare.com/ajax/libs/Leaflet.awesome-markers/2.0.2/leaflet.awesome-markers.js&quot;&gt;&lt;/script&gt;\n    &lt;link rel=&quot;stylesheet&quot; href=&quot;https://cdn.jsdelivr.net/npm/leaflet@1.9.3/dist/leaflet.css&quot;/&gt;\n    &lt;link rel=&quot;stylesheet&quot; href=&quot;https://cdn.jsdelivr.net/npm/bootstrap@5.2.2/dist/css/bootstrap.min.css&quot;/&gt;\n    &lt;link rel=&quot;stylesheet&quot; href=&quot;https://netdna.bootstrapcdn.com/bootstrap/3.0.0/css/bootstrap.min.css&quot;/&gt;\n    &lt;link rel=&quot;stylesheet&quot; href=&quot;https://cdn.jsdelivr.net/npm/@fortawesome/fontawesome-free@6.2.0/css/all.min.css&quot;/&gt;\n    &lt;link rel=&quot;stylesheet&quot; href=&quot;https://cdnjs.cloudflare.com/ajax/libs/Leaflet.awesome-markers/2.0.2/leaflet.awesome-markers.css&quot;/&gt;\n    &lt;link rel=&quot;stylesheet&quot; href=&quot;https://cdn.jsdelivr.net/gh/python-visualization/folium/folium/templates/leaflet.awesome.rotate.min.css&quot;/&gt;\n    \n            &lt;meta name=&quot;viewport&quot; content=&quot;width=device-width,\n                initial-scale=1.0, maximum-scale=1.0, user-scalable=no&quot; /&gt;\n            &lt;style&gt;\n                #map_20f644ece8f91a46ff4a332034b109b4 {\n                    position: relative;\n                    width: 100.0%;\n                    height: 100.0%;\n                    left: 0.0%;\n                    top: 0.0%;\n                }\n                .leaflet-container { font-size: 1rem; }\n            &lt;/style&gt;\n        \n&lt;/head&gt;\n&lt;body&gt;\n    \n    \n            &lt;div class=&quot;folium-map&quot; id=&quot;map_20f644ece8f91a46ff4a332034b109b4&quot; &gt;&lt;/div&gt;\n        \n&lt;/body&gt;\n&lt;script&gt;\n    \n    \n            var map_20f644ece8f91a46ff4a332034b109b4 = L.map(\n                &quot;map_20f644ece8f91a46ff4a332034b109b4&quot;,\n                {\n                    center: [50.965, 13.922],\n                    crs: L.CRS.EPSG3857,\n                    zoom: 12,\n                    zoomControl: true,\n                    preferCanvas: false,\n                }\n            );\n\n            \n\n        \n    \n            var tile_layer_b3375a477376726537cf0b5aadcf4847 = L.tileLayer(\n                &quot;https://{s}.basemaps.cartocdn.com/light_all/{z}/{x}/{y}{r}.png&quot;,\n                {&quot;attribution&quot;: &quot;\\u0026copy; \\u003ca href=\\&quot;https://www.openstreetmap.org/copyright\\&quot;\\u003eOpenStreetMap\\u003c/a\\u003e contributors \\u0026copy; \\u003ca href=\\&quot;https://carto.com/attributions\\&quot;\\u003eCARTO\\u003c/a\\u003e&quot;, &quot;detectRetina&quot;: false, &quot;maxNativeZoom&quot;: 20, &quot;maxZoom&quot;: 20, &quot;minZoom&quot;: 0, &quot;noWrap&quot;: false, &quot;opacity&quot;: 1, &quot;subdomains&quot;: &quot;abcd&quot;, &quot;tms&quot;: false}\n            );\n        \n    \n            tile_layer_b3375a477376726537cf0b5aadcf4847.addTo(map_20f644ece8f91a46ff4a332034b109b4);\n        \n    \n\n        function geo_json_e4850bbb40105459ec52e013803b80f2_onEachFeature(feature, layer) {\n            layer.on({\n            });\n        };\n        var geo_json_e4850bbb40105459ec52e013803b80f2 = L.geoJson(null, {\n                onEachFeature: geo_json_e4850bbb40105459ec52e013803b80f2_onEachFeature,\n            \n        });\n\n        function geo_json_e4850bbb40105459ec52e013803b80f2_add (data) {\n            geo_json_e4850bbb40105459ec52e013803b80f2\n                .addData(data);\n        }\n            geo_json_e4850bbb40105459ec52e013803b80f2_add({&quot;coordinates&quot;: [[[13.922514437551428, 50.964720483303836], [13.925250781947113, 50.965228748412386], [13.925036413951403, 50.96623732041704], [13.92222441026388, 50.96629040370362], [13.922514437551428, 50.964720483303836]]], &quot;type&quot;: &quot;Polygon&quot;});\n\n        \n    \n            geo_json_e4850bbb40105459ec52e013803b80f2.addTo(map_20f644ece8f91a46ff4a332034b109b4);\n        \n    \n            map_20f644ece8f91a46ff4a332034b109b4.fitBounds(\n                [[50.964720483303836, 13.92222441026388], [50.96629040370362, 13.925250781947113]],\n                {}\n            );\n        \n    \n            tile_layer_b3375a477376726537cf0b5aadcf4847.addTo(map_20f644ece8f91a46ff4a332034b109b4);\n        \n    \n            geo_json_e4850bbb40105459ec52e013803b80f2.addTo(map_20f644ece8f91a46ff4a332034b109b4);\n        \n    \n\n        function geo_json_22b5e4b8bf3da48231250a01ae8551ba_onEachFeature(feature, layer) {\n            layer.on({\n            });\n        };\n        var geo_json_22b5e4b8bf3da48231250a01ae8551ba = L.geoJson(null, {\n                onEachFeature: geo_json_22b5e4b8bf3da48231250a01ae8551ba_onEachFeature,\n            \n        });\n\n        function geo_json_22b5e4b8bf3da48231250a01ae8551ba_add (data) {\n            geo_json_22b5e4b8bf3da48231250a01ae8551ba\n                .addData(data);\n        }\n            geo_json_22b5e4b8bf3da48231250a01ae8551ba_add({&quot;coordinates&quot;: [[13.9223, 50.9662], [13.925, 50.96615]], &quot;type&quot;: &quot;LineString&quot;});\n\n        \n    \n            geo_json_22b5e4b8bf3da48231250a01ae8551ba.addTo(map_20f644ece8f91a46ff4a332034b109b4);\n        \n    \n\n        function geo_json_924ce8e8c1caa53894b994e4d4a96260_onEachFeature(feature, layer) {\n            layer.on({\n            });\n        };\n        var geo_json_924ce8e8c1caa53894b994e4d4a96260 = L.geoJson(null, {\n                onEachFeature: geo_json_924ce8e8c1caa53894b994e4d4a96260_onEachFeature,\n            \n        });\n\n        function geo_json_924ce8e8c1caa53894b994e4d4a96260_add (data) {\n            geo_json_924ce8e8c1caa53894b994e4d4a96260\n                .addData(data);\n        }\n            geo_json_924ce8e8c1caa53894b994e4d4a96260_add({&quot;geometries&quot;: [{&quot;coordinates&quot;: [[[13.922224410263878, 50.9662904037036], [13.922527047432201, 50.9662904037036], [13.922527047432201, 50.966133414051114], [13.922224410263878, 50.966133414051114], [13.922224410263878, 50.9662904037036]]], &quot;type&quot;: &quot;Polygon&quot;}, {&quot;coordinates&quot;: [[[13.922527047432201, 50.9662904037036], [13.922829684600526, 50.9662904037036], [13.922829684600526, 50.966133414051114], [13.922527047432201, 50.966133414051114], [13.922527047432201, 50.9662904037036]]], &quot;type&quot;: &quot;Polygon&quot;}, {&quot;coordinates&quot;: [[[13.922829684600526, 50.9662904037036], [13.923132321768849, 50.9662904037036], [13.923132321768849, 50.966133414051114], [13.922829684600526, 50.966133414051114], [13.922829684600526, 50.9662904037036]]], &quot;type&quot;: &quot;Polygon&quot;}, {&quot;coordinates&quot;: [[[13.923132321768849, 50.9662904037036], [13.923434958937172, 50.9662904037036], [13.923434958937172, 50.966133414051114], [13.923132321768849, 50.966133414051114], [13.923132321768849, 50.9662904037036]]], &quot;type&quot;: &quot;Polygon&quot;}, {&quot;coordinates&quot;: [[[13.923434958937172, 50.9662904037036], [13.923737596105495, 50.9662904037036], [13.923737596105495, 50.966133414051114], [13.923434958937172, 50.966133414051114], [13.923434958937172, 50.9662904037036]]], &quot;type&quot;: &quot;Polygon&quot;}, {&quot;coordinates&quot;: [[[13.923737596105495, 50.9662904037036], [13.924040233273818, 50.9662904037036], [13.924040233273818, 50.966133414051114], [13.923737596105495, 50.966133414051114], [13.923737596105495, 50.9662904037036]]], &quot;type&quot;: &quot;Polygon&quot;}, {&quot;coordinates&quot;: [[[13.924040233273818, 50.9662904037036], [13.924342870442143, 50.9662904037036], [13.924342870442143, 50.966133414051114], [13.924040233273818, 50.966133414051114], [13.924040233273818, 50.9662904037036]]], &quot;type&quot;: &quot;Polygon&quot;}, {&quot;coordinates&quot;: [[[13.924342870442143, 50.9662904037036], [13.924645507610466, 50.9662904037036], [13.924645507610466, 50.966133414051114], [13.924342870442143, 50.966133414051114], [13.924342870442143, 50.9662904037036]]], &quot;type&quot;: &quot;Polygon&quot;}, {&quot;coordinates&quot;: [[[13.924645507610466, 50.9662904037036], [13.92494814477879, 50.9662904037036], [13.92494814477879, 50.966133414051114], [13.924645507610466, 50.966133414051114], [13.924645507610466, 50.9662904037036]]], &quot;type&quot;: &quot;Polygon&quot;}], &quot;type&quot;: &quot;GeometryCollection&quot;});\n\n        \n    \n            geo_json_924ce8e8c1caa53894b994e4d4a96260.addTo(map_20f644ece8f91a46ff4a332034b109b4);\n        \n    \n\n        function geo_json_7b60c3f01ed580591beaa02d49472ad2_onEachFeature(feature, layer) {\n            layer.on({\n            });\n        };\n        var geo_json_7b60c3f01ed580591beaa02d49472ad2 = L.geoJson(null, {\n                onEachFeature: geo_json_7b60c3f01ed580591beaa02d49472ad2_onEachFeature,\n            \n        });\n\n        function geo_json_7b60c3f01ed580591beaa02d49472ad2_add (data) {\n            geo_json_7b60c3f01ed580591beaa02d49472ad2\n                .addData(data);\n        }\n            geo_json_7b60c3f01ed580591beaa02d49472ad2_add({&quot;coordinates&quot;: [13.9223, 50.9662], &quot;type&quot;: &quot;Point&quot;});\n\n        \n    \n            geo_json_7b60c3f01ed580591beaa02d49472ad2.addTo(map_20f644ece8f91a46ff4a332034b109b4);\n        \n    \n            map_20f644ece8f91a46ff4a332034b109b4.fitBounds(\n                [[50.964720483303836, 13.922224410263878], [50.96629040370362, 13.925250781947113]],\n                {}\n            );\n        \n    \n            tile_layer_b3375a477376726537cf0b5aadcf4847.addTo(map_20f644ece8f91a46ff4a332034b109b4);\n        \n    \n            geo_json_e4850bbb40105459ec52e013803b80f2.addTo(map_20f644ece8f91a46ff4a332034b109b4);\n        \n    \n            geo_json_22b5e4b8bf3da48231250a01ae8551ba.addTo(map_20f644ece8f91a46ff4a332034b109b4);\n        \n    \n            geo_json_924ce8e8c1caa53894b994e4d4a96260.addTo(map_20f644ece8f91a46ff4a332034b109b4);\n        \n    \n            geo_json_7b60c3f01ed580591beaa02d49472ad2.addTo(map_20f644ece8f91a46ff4a332034b109b4);\n        \n    \n\n        function geo_json_1e216f94db53c586f7348304b404c257_onEachFeature(feature, layer) {\n            layer.on({\n            });\n        };\n        var geo_json_1e216f94db53c586f7348304b404c257 = L.geoJson(null, {\n                onEachFeature: geo_json_1e216f94db53c586f7348304b404c257_onEachFeature,\n            \n        });\n\n        function geo_json_1e216f94db53c586f7348304b404c257_add (data) {\n            geo_json_1e216f94db53c586f7348304b404c257\n                .addData(data);\n        }\n            geo_json_1e216f94db53c586f7348304b404c257_add({&quot;coordinates&quot;: [[13.9223, 50.9662], [13.925, 50.96615]], &quot;type&quot;: &quot;LineString&quot;});\n\n        \n    \n            geo_json_1e216f94db53c586f7348304b404c257.addTo(map_20f644ece8f91a46ff4a332034b109b4);\n        \n    \n\n        function geo_json_e25baa0cde3dd7b5826b2ea08e66c61d_onEachFeature(feature, layer) {\n            layer.on({\n            });\n        };\n        var geo_json_e25baa0cde3dd7b5826b2ea08e66c61d = L.geoJson(null, {\n                onEachFeature: geo_json_e25baa0cde3dd7b5826b2ea08e66c61d_onEachFeature,\n            \n        });\n\n        function geo_json_e25baa0cde3dd7b5826b2ea08e66c61d_add (data) {\n            geo_json_e25baa0cde3dd7b5826b2ea08e66c61d\n                .addData(data);\n        }\n            geo_json_e25baa0cde3dd7b5826b2ea08e66c61d_add({&quot;geometries&quot;: [{&quot;coordinates&quot;: [[[13.922224410263878, 50.9662904037036], [13.922527047432201, 50.9662904037036], [13.922527047432201, 50.966133414051114], [13.922224410263878, 50.966133414051114], [13.922224410263878, 50.9662904037036]]], &quot;type&quot;: &quot;Polygon&quot;}, {&quot;coordinates&quot;: [[[13.922527047432201, 50.9662904037036], [13.922829684600526, 50.9662904037036], [13.922829684600526, 50.966133414051114], [13.922527047432201, 50.966133414051114], [13.922527047432201, 50.9662904037036]]], &quot;type&quot;: &quot;Polygon&quot;}, {&quot;coordinates&quot;: [[[13.922829684600526, 50.9662904037036], [13.923132321768849, 50.9662904037036], [13.923132321768849, 50.966133414051114], [13.922829684600526, 50.966133414051114], [13.922829684600526, 50.9662904037036]]], &quot;type&quot;: &quot;Polygon&quot;}, {&quot;coordinates&quot;: [[[13.923132321768849, 50.9662904037036], [13.923434958937172, 50.9662904037036], [13.923434958937172, 50.966133414051114], [13.923132321768849, 50.966133414051114], [13.923132321768849, 50.9662904037036]]], &quot;type&quot;: &quot;Polygon&quot;}, {&quot;coordinates&quot;: [[[13.923434958937172, 50.9662904037036], [13.923737596105495, 50.9662904037036], [13.923737596105495, 50.966133414051114], [13.923434958937172, 50.966133414051114], [13.923434958937172, 50.9662904037036]]], &quot;type&quot;: &quot;Polygon&quot;}, {&quot;coordinates&quot;: [[[13.923737596105495, 50.9662904037036], [13.924040233273818, 50.9662904037036], [13.924040233273818, 50.966133414051114], [13.923737596105495, 50.966133414051114], [13.923737596105495, 50.9662904037036]]], &quot;type&quot;: &quot;Polygon&quot;}, {&quot;coordinates&quot;: [[[13.924040233273818, 50.9662904037036], [13.924342870442143, 50.9662904037036], [13.924342870442143, 50.966133414051114], [13.924040233273818, 50.966133414051114], [13.924040233273818, 50.9662904037036]]], &quot;type&quot;: &quot;Polygon&quot;}, {&quot;coordinates&quot;: [[[13.924342870442143, 50.9662904037036], [13.924645507610466, 50.9662904037036], [13.924645507610466, 50.966133414051114], [13.924342870442143, 50.966133414051114], [13.924342870442143, 50.9662904037036]]], &quot;type&quot;: &quot;Polygon&quot;}, {&quot;coordinates&quot;: [[[13.924645507610466, 50.9662904037036], [13.92494814477879, 50.9662904037036], [13.92494814477879, 50.966133414051114], [13.924645507610466, 50.966133414051114], [13.924645507610466, 50.9662904037036]]], &quot;type&quot;: &quot;Polygon&quot;}, {&quot;coordinates&quot;: [[[13.92494814477879, 50.9662904037036], [13.925250781947113, 50.9662904037036], [13.925250781947113, 50.966133414051114], [13.92494814477879, 50.966133414051114], [13.92494814477879, 50.9662904037036]]], &quot;type&quot;: &quot;Polygon&quot;}], &quot;type&quot;: &quot;GeometryCollection&quot;});\n\n        \n    \n            geo_json_e25baa0cde3dd7b5826b2ea08e66c61d.addTo(map_20f644ece8f91a46ff4a332034b109b4);\n        \n    \n\n        function geo_json_011ad59089788cc1fdb342d664ae07eb_onEachFeature(feature, layer) {\n            layer.on({\n            });\n        };\n        var geo_json_011ad59089788cc1fdb342d664ae07eb = L.geoJson(null, {\n                onEachFeature: geo_json_011ad59089788cc1fdb342d664ae07eb_onEachFeature,\n            \n        });\n\n        function geo_json_011ad59089788cc1fdb342d664ae07eb_add (data) {\n            geo_json_011ad59089788cc1fdb342d664ae07eb\n                .addData(data);\n        }\n            geo_json_011ad59089788cc1fdb342d664ae07eb_add({&quot;coordinates&quot;: [13.9223, 50.9662], &quot;type&quot;: &quot;Point&quot;});\n\n        \n    \n            geo_json_011ad59089788cc1fdb342d664ae07eb.addTo(map_20f644ece8f91a46ff4a332034b109b4);\n        \n    \n\n        function geo_json_0e200961bc9c56dbeaa259e54b756391_onEachFeature(feature, layer) {\n            layer.on({\n            });\n        };\n        var geo_json_0e200961bc9c56dbeaa259e54b756391 = L.geoJson(null, {\n                onEachFeature: geo_json_0e200961bc9c56dbeaa259e54b756391_onEachFeature,\n            \n        });\n\n        function geo_json_0e200961bc9c56dbeaa259e54b756391_add (data) {\n            geo_json_0e200961bc9c56dbeaa259e54b756391\n                .addData(data);\n        }\n            geo_json_0e200961bc9c56dbeaa259e54b756391_add({&quot;coordinates&quot;: [13.925, 50.96615], &quot;type&quot;: &quot;Point&quot;});\n\n        \n    \n            geo_json_0e200961bc9c56dbeaa259e54b756391.addTo(map_20f644ece8f91a46ff4a332034b109b4);\n        \n    \n            map_20f644ece8f91a46ff4a332034b109b4.fitBounds(\n                [[50.964720483303836, 13.922224410263878], [50.96629040370362, 13.925250781947113]],\n                {}\n            );\n        \n&lt;/script&gt;\n&lt;/html&gt;\" style=\"position:absolute;width:100%;height:100%;left:0;top:0;border:none !important;\" allowfullscreen webkitallowfullscreen mozallowfullscreen></iframe></div></div>"
     },
     "execution_count": 9,
     "metadata": {},
     "output_type": "execute_result"
    }
   ],
   "source": [
    "from morpheus.project.types.geometry import Point\n",
    "from morpheus.project.types.boundaries.Boundary import BoundaryName\n",
    "\n",
    "layers_list = [model.soil_model.layers[0].id]\n",
    "general_head = GeneralHeadBoundary.from_geometry(\n",
    "  name=BoundaryName('constant_head'),\n",
    "  geometry=LineString([\n",
    "    (13.9223, 50.9662),\n",
    "    (13.9250, 50.96615),\n",
    "  ]),\n",
    "  grid=grid,\n",
    "  affected_layers=[layers_list[0]],\n",
    "  observations=[\n",
    "    GeneralHeadObservation(\n",
    "      observation_id=ObservationId.new(),\n",
    "      geometry=Point((13.9223, 50.9662)),\n",
    "      raw_data=[\n",
    "        GeneralHeadRawDataItem(\n",
    "          date_time=StartDateTime.from_datetime(datetime(2019, 1, 1)),\n",
    "          stage=Stage.from_float(100),\n",
    "          conductance=Conductance.from_float(10),\n",
    "        ),\n",
    "        GeneralHeadRawDataItem(\n",
    "          date_time=StartDateTime.from_datetime(datetime(2021, 12, 31)),\n",
    "          stage=Stage.from_float(300),\n",
    "          conductance=Conductance.from_float(30),\n",
    "        ),\n",
    "      ]\n",
    "    ),\n",
    "    GeneralHeadObservation(\n",
    "      observation_id=ObservationId.new(),\n",
    "      geometry=Point((13.9250, 50.96615)),\n",
    "      raw_data=[\n",
    "        GeneralHeadRawDataItem(\n",
    "          date_time=StartDateTime.from_datetime(datetime(2019, 1, 1)),\n",
    "          stage=Stage.from_float(200),\n",
    "          conductance=Conductance.from_float(20),\n",
    "        ),\n",
    "        GeneralHeadRawDataItem(\n",
    "          date_time=StartDateTime.from_datetime(datetime(2021, 12, 31)),\n",
    "          stage=Stage.from_float(400),\n",
    "          conductance=Conductance.from_float(40),\n",
    "        ),\n",
    "      ]\n",
    "    )\n",
    "  ]\n",
    ")\n",
    "\n",
    "m.add_child(folium.GeoJson(general_head.as_geojson()))\n",
    "m.add_child(folium.GeoJson(general_head.affected_cells.as_geojson(grid).as_geojson()))\n",
    "for general_head.observation in general_head.observations:\n",
    "  m.add_child(folium.GeoJson(general_head.observation.as_geojson()))\n",
    "m.fit_bounds(m.get_bounds())\n",
    "m"
   ],
   "metadata": {
    "collapsed": false,
    "ExecuteTime": {
     "end_time": "2024-03-22T08:57:02.917947Z",
     "start_time": "2024-03-22T08:57:02.809880Z"
    }
   },
   "id": "46c0ee9a25e86e17"
  },
  {
   "cell_type": "markdown",
   "source": [
    "## Calculate constant head stress periods"
   ],
   "metadata": {
    "collapsed": false
   },
   "id": "2ed6c19e1f77c7c2"
  },
  {
   "cell_type": "code",
   "execution_count": 10,
   "outputs": [
    {
     "data": {
      "text/plain": "{0: [[0, 0, 0, 172.29336231876871, 17.22933623187687],\n  [0, 0, 1, 183.49830375815282, 18.34983037581528],\n  [0, 0, 2, 194.70324519766842, 19.47032451976684],\n  [0, 0, 3, 205.9081866371183, 20.590818663711826],\n  [0, 0, 4, 217.11312807656816, 21.71131280765681],\n  [0, 0, 5, 228.318069516018, 22.8318069516018],\n  [0, 0, 6, 239.52301095546787, 23.952301095546783],\n  [0, 0, 7, 250.72795239491774, 25.072795239491768],\n  [0, 0, 8, 261.93289383443334, 26.193289383443332]],\n 1: [[0, 0, 0, 177.77281437356316, 17.777281437356326],\n  [0, 0, 1, 188.97775581294727, 18.897775581294734],\n  [0, 0, 2, 200.1826972524629, 20.018269725246295],\n  [0, 0, 3, 211.38763869191274, 21.13876386919128],\n  [0, 0, 4, 222.5925801313626, 22.259258013136265],\n  [0, 0, 5, 233.79752157081248, 23.37975215708125],\n  [0, 0, 6, 245.00246301026232, 24.500246301026234],\n  [0, 0, 7, 256.2074044497122, 25.62074044497122],\n  [0, 0, 8, 267.4123458892278, 26.741234588922783]],\n 2: [[0, 0, 0, 183.25226642835776, 18.325226642835773],\n  [0, 0, 1, 194.45720786774186, 19.44572078677418],\n  [0, 0, 2, 205.66214930725747, 20.566214930725742],\n  [0, 0, 3, 216.86709074670733, 21.68670907467073],\n  [0, 0, 4, 228.07203218615717, 22.807203218615715],\n  [0, 0, 5, 239.27697362560704, 23.9276973625607],\n  [0, 0, 6, 250.48191506505688, 25.048191506505688],\n  [0, 0, 7, 261.68685650450675, 26.168685650450673],\n  [0, 0, 8, 272.89179794402236, 27.289179794402237]],\n 3: [[0, 0, 0, 188.82304268406548, 18.882304268406553],\n  [0, 0, 1, 200.02798412344958, 20.002798412344962],\n  [0, 0, 2, 211.2329255629652, 21.123292556296523],\n  [0, 0, 3, 222.43786700241506, 22.24378670024151],\n  [0, 0, 4, 233.64280844186493, 23.364280844186496],\n  [0, 0, 5, 244.84774988131477, 24.48477498813148],\n  [0, 0, 6, 256.05269132076467, 25.60526913207647],\n  [0, 0, 7, 267.2576327602145, 26.725763276021453],\n  [0, 0, 8, 278.4625741997301, 27.846257419973014]],\n 4: [[0, 0, 0, 194.3938189397733, 19.439381893977327],\n  [0, 0, 1, 205.5987603791574, 20.559876037915735],\n  [0, 0, 2, 216.803701818673, 21.680370181867296],\n  [0, 0, 3, 228.00864325812285, 22.80086432581228],\n  [0, 0, 4, 239.2135846975727, 23.921358469757266],\n  [0, 0, 5, 250.41852613702255, 25.041852613702254],\n  [0, 0, 6, 261.6234675764724, 26.16234675764724],\n  [0, 0, 7, 272.82840901592226, 27.282840901592223],\n  [0, 0, 8, 284.03335045543787, 28.403335045543788]],\n 5: [[0, 0, 0, 199.9645951954811, 19.996459519548107],\n  [0, 0, 1, 211.16953663486518, 21.116953663486516],\n  [0, 0, 2, 222.37447807438082, 22.237447807438077],\n  [0, 0, 3, 233.57941951383066, 23.35794195138306],\n  [0, 0, 4, 244.7843609532805, 24.47843609532805],\n  [0, 0, 5, 255.98930239273034, 25.598930239273034],\n  [0, 0, 6, 267.1942438321802, 26.71942438321802],\n  [0, 0, 7, 278.39918527163, 27.839918527163004],\n  [0, 0, 8, 289.6041267111456, 28.960412671114568]],\n 6: [[0, 0, 0, 205.5353714511888, 20.55353714511888],\n  [0, 0, 1, 216.7403128905729, 21.67403128905729],\n  [0, 0, 2, 227.94525433008852, 22.79452543300885],\n  [0, 0, 3, 239.15019576953839, 23.915019576953835],\n  [0, 0, 4, 250.35513720898825, 25.03551372089882],\n  [0, 0, 5, 261.5600786484381, 26.156007864843808],\n  [0, 0, 6, 272.76502008788793, 27.276502008788793],\n  [0, 0, 7, 283.96996152733783, 28.396996152733777],\n  [0, 0, 8, 295.17490296685344, 29.51749029668534]],\n 7: [[0, 0, 0, 211.1974719078098, 21.119747190780984],\n  [0, 0, 1, 222.4024133471939, 22.240241334719393],\n  [0, 0, 2, 233.60735478670952, 23.360735478670954],\n  [0, 0, 3, 244.8122962261594, 24.48122962261594],\n  [0, 0, 4, 256.01723766560923, 25.601723766560923],\n  [0, 0, 5, 267.22217910505907, 26.72221791050591],\n  [0, 0, 6, 278.42712054450897, 27.842712054450896],\n  [0, 0, 7, 289.6320619839588, 28.96320619839588],\n  [0, 0, 8, 300.8370034234744, 30.083700342347445]],\n 8: [[0, 0, 0, 216.7682481635176, 21.67682481635176],\n  [0, 0, 1, 227.9731896029017, 22.79731896029017],\n  [0, 0, 2, 239.1781310424173, 23.91781310424173],\n  [0, 0, 3, 250.38307248186715, 25.038307248186715],\n  [0, 0, 4, 261.588013921317, 26.1588013921317],\n  [0, 0, 5, 272.7929553607669, 27.279295536076688],\n  [0, 0, 6, 283.9978968002167, 28.399789680021673],\n  [0, 0, 7, 295.20283823966656, 29.520283823966658],\n  [0, 0, 8, 306.40777967918217, 30.640777967918222]],\n 9: [[0, 0, 0, 222.33902441922535, 22.233902441922538],\n  [0, 0, 1, 233.54396585860945, 23.354396585860947],\n  [0, 0, 2, 244.74890729812506, 24.474890729812508],\n  [0, 0, 3, 255.9538487375749, 25.595384873757492],\n  [0, 0, 4, 267.15879017702474, 26.715879017702477],\n  [0, 0, 5, 278.36373161647464, 27.836373161647465],\n  [0, 0, 6, 289.5686730559245, 28.95686730559245],\n  [0, 0, 7, 300.7736144953743, 30.077361449537435],\n  [0, 0, 8, 311.9785559348899, 31.197855593489]],\n 10: [[0, 0, 0, 227.9098006749331, 22.79098006749332],\n  [0, 0, 1, 239.1147421143172, 23.911474211431724],\n  [0, 0, 2, 250.31968355383282, 25.031968355383285],\n  [0, 0, 3, 261.52462499328266, 26.15246249932827],\n  [0, 0, 4, 272.7295664327325, 27.272956643273254],\n  [0, 0, 5, 283.9345078721824, 28.39345078721824],\n  [0, 0, 6, 295.13944931163223, 29.513944931163223],\n  [0, 0, 7, 306.3443907510821, 30.634439075108208],\n  [0, 0, 8, 317.5493321905977, 31.75493321905977]],\n 11: [[0, 0, 0, 233.38925272972764, 23.338925272972766],\n  [0, 0, 1, 244.59419416911174, 24.459419416911174],\n  [0, 0, 2, 255.79913560862735, 25.579913560862735],\n  [0, 0, 3, 267.0040770480772, 26.70040770480772],\n  [0, 0, 4, 278.20901848752703, 27.820901848752705],\n  [0, 0, 5, 289.4139599269769, 28.941395992697693],\n  [0, 0, 6, 300.61890136642677, 30.061890136642678],\n  [0, 0, 7, 311.8238428058766, 31.182384280587662],\n  [0, 0, 8, 323.0287842453922, 32.30287842453923]]}"
     },
     "execution_count": 10,
     "metadata": {},
     "output_type": "execute_result"
    }
   ],
   "source": [
    "result = calculate_ghb_boundary_stress_period_data(\n",
    "  spatial_discretization=spatial_discretization,\n",
    "  time_discretization=time_discretization,\n",
    "  soil_model=model.soil_model,\n",
    "  ghb_boundary=general_head,\n",
    ")\n",
    "result.to_dict()"
   ],
   "metadata": {
    "collapsed": false,
    "ExecuteTime": {
     "end_time": "2024-03-22T08:57:03.503406Z",
     "start_time": "2024-03-22T08:57:02.921218Z"
    }
   },
   "id": "61c2482657e0f072"
  }
 ],
 "metadata": {
  "kernelspec": {
   "display_name": "Python 3",
   "language": "python",
   "name": "python3"
  },
  "language_info": {
   "codemirror_mode": {
    "name": "ipython",
    "version": 2
   },
   "file_extension": ".py",
   "mimetype": "text/x-python",
   "name": "python",
   "nbconvert_exporter": "python",
   "pygments_lexer": "ipython2",
   "version": "2.7.6"
  }
 },
 "nbformat": 4,
 "nbformat_minor": 5
}
