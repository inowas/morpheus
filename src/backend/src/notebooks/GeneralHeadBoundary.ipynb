{
 "cells": [
  {
   "cell_type": "code",
   "id": "ba6761fae9d5e5cb",
   "metadata": {
    "collapsed": false,
    "execution": {
     "iopub.execute_input": "2024-06-20T19:03:33.440985Z",
     "iopub.status.busy": "2024-06-20T19:03:33.440410Z",
     "iopub.status.idle": "2024-06-20T19:03:33.447357Z",
     "shell.execute_reply": "2024-06-20T19:03:33.446634Z"
    },
    "papermill": {
     "duration": 0.019971,
     "end_time": "2024-06-20T19:03:33.449650",
     "exception": false,
     "start_time": "2024-06-20T19:03:33.429679",
     "status": "completed"
    },
    "tags": [],
    "ExecuteTime": {
     "end_time": "2024-08-19T09:43:18.553332Z",
     "start_time": "2024-08-19T09:43:18.548215Z"
    }
   },
   "source": [
    "import sys\n",
    "\n",
    "sys.path.insert(0, '..')"
   ],
   "outputs": [],
   "execution_count": 1
  },
  {
   "cell_type": "markdown",
   "id": "5ede1ba5e0993dd1",
   "metadata": {
    "collapsed": false,
    "papermill": {
     "duration": 0.003563,
     "end_time": "2024-06-20T19:03:33.460066",
     "exception": false,
     "start_time": "2024-06-20T19:03:33.456503",
     "status": "completed"
    },
    "tags": []
   },
   "source": [
    "## Setup the model area"
   ]
  },
  {
   "cell_type": "code",
   "id": "2f69504ab35487aa",
   "metadata": {
    "collapsed": false,
    "execution": {
     "iopub.execute_input": "2024-06-20T19:03:33.468308Z",
     "iopub.status.busy": "2024-06-20T19:03:33.467885Z",
     "iopub.status.idle": "2024-06-20T19:03:33.598147Z",
     "shell.execute_reply": "2024-06-20T19:03:33.597492Z"
    },
    "papermill": {
     "duration": 0.14165,
     "end_time": "2024-06-20T19:03:33.604837",
     "exception": false,
     "start_time": "2024-06-20T19:03:33.463187",
     "status": "completed"
    },
    "tags": [],
    "ExecuteTime": {
     "end_time": "2024-08-19T09:43:18.962491Z",
     "start_time": "2024-08-19T09:43:18.567897Z"
    }
   },
   "source": [
    "from morpheus.project.types.discretization import SpatialDiscretization\n",
    "from morpheus.project.types.discretization.spatial import Rotation, LengthUnit, Grid, ActiveCells, Crs\n",
    "from morpheus.project.types.geometry import Polygon, LineString\n",
    "\n",
    "polygon = Polygon(\n",
    "  type='Polygon',\n",
    "  coordinates=[[\n",
    "    (13.922514437551428, 50.964720483303836),\n",
    "    (13.925250781947113, 50.965228748412386),\n",
    "    (13.925036413951403, 50.96623732041704),\n",
    "    (13.92222441026388, 50.96629040370362),\n",
    "    (13.922514437551428, 50.964720483303836)\n",
    "  ]]\n",
    ")\n",
    "\n",
    "rotation = Rotation(0)\n",
    "length_unit = LengthUnit.meters()\n",
    "relative_col_coordinates = [0, 0.1, 0.2, 0.3, 0.4, 0.5, 0.6, 0.7, 0.8, 0.9, 1]\n",
    "relative_row_coordinates = [0, 0.1, 0.2, 0.3, 0.4, 0.5, 0.6, 0.7, 0.8, 0.9, 1]\n",
    "\n",
    "grid = Grid.from_polygon_with_relative_coordinates(\n",
    "  polygon=polygon,\n",
    "  relative_col_coordinates=relative_col_coordinates,\n",
    "  relative_row_coordinates=relative_row_coordinates,\n",
    "  rotation=rotation,\n",
    ")\n",
    "\n",
    "spatial_discretization = SpatialDiscretization(\n",
    "  geometry=polygon,\n",
    "  grid=grid,\n",
    "  affected_cells=ActiveCells.from_polygon(polygon=polygon, grid=grid),\n",
    "  crs=Crs.from_epsg(4326)\n",
    ")\n",
    "\n",
    "spatial_discretization\n"
   ],
   "outputs": [
    {
     "data": {
      "text/plain": [
       "SpatialDiscretization(geometry=Polygon(coordinates=[[(13.922514437551428, 50.964720483303836), (13.925250781947113, 50.965228748412386), (13.925036413951403, 50.96623732041704), (13.92222441026388, 50.96629040370362), (13.922514437551428, 50.964720483303836)]], type='Polygon'), grid=Grid(origin=Point(coordinates=(13.922224410263878, 50.9662904037036), type='Point'), col_widths=[33.68941547288559, 33.68941547288559, 33.6894154728856, 33.689415472885585, 33.6894154728856, 33.6894154728856, 33.68941547288557, 33.6894154728856, 33.68941547288563, 33.68941547288557], total_width=336.89415472885594, row_heights=[27.74944856585935, 27.74944856585935, 27.749448565859346, 27.749448565859353, 27.74944856585934, 27.749448565859353, 27.749448565859325, 27.74944856585938, 27.749448565859325, 27.749448565859353], total_height=277.4944856585935, rotation=Rotation(value=0), length_unit=LengthUnit(unit=2)), affected_cells=ActiveCells(shape=(10, 10), data=[ActiveCell(col=0, row=0), ActiveCell(col=0, row=1), ActiveCell(col=0, row=2), ActiveCell(col=0, row=3), ActiveCell(col=0, row=4), ActiveCell(col=1, row=0), ActiveCell(col=1, row=1), ActiveCell(col=1, row=2), ActiveCell(col=1, row=3), ActiveCell(col=1, row=4), ActiveCell(col=1, row=5), ActiveCell(col=1, row=6), ActiveCell(col=1, row=7), ActiveCell(col=1, row=8), ActiveCell(col=1, row=9), ActiveCell(col=2, row=0), ActiveCell(col=2, row=1), ActiveCell(col=2, row=2), ActiveCell(col=2, row=3), ActiveCell(col=2, row=4), ActiveCell(col=2, row=5), ActiveCell(col=2, row=6), ActiveCell(col=2, row=7), ActiveCell(col=2, row=8), ActiveCell(col=3, row=0), ActiveCell(col=3, row=1), ActiveCell(col=3, row=2), ActiveCell(col=3, row=3), ActiveCell(col=3, row=4), ActiveCell(col=3, row=5), ActiveCell(col=3, row=6), ActiveCell(col=3, row=7), ActiveCell(col=3, row=8), ActiveCell(col=4, row=0), ActiveCell(col=4, row=1), ActiveCell(col=4, row=2), ActiveCell(col=4, row=3), ActiveCell(col=4, row=4), ActiveCell(col=4, row=5), ActiveCell(col=4, row=6), ActiveCell(col=4, row=7), ActiveCell(col=4, row=8), ActiveCell(col=5, row=0), ActiveCell(col=5, row=1), ActiveCell(col=5, row=2), ActiveCell(col=5, row=3), ActiveCell(col=5, row=4), ActiveCell(col=5, row=5), ActiveCell(col=5, row=6), ActiveCell(col=5, row=7), ActiveCell(col=6, row=0), ActiveCell(col=6, row=1), ActiveCell(col=6, row=2), ActiveCell(col=6, row=3), ActiveCell(col=6, row=4), ActiveCell(col=6, row=5), ActiveCell(col=6, row=6), ActiveCell(col=6, row=7), ActiveCell(col=7, row=0), ActiveCell(col=7, row=1), ActiveCell(col=7, row=2), ActiveCell(col=7, row=3), ActiveCell(col=7, row=4), ActiveCell(col=7, row=5), ActiveCell(col=7, row=6), ActiveCell(col=7, row=7), ActiveCell(col=8, row=0), ActiveCell(col=8, row=1), ActiveCell(col=8, row=2), ActiveCell(col=8, row=3), ActiveCell(col=8, row=4), ActiveCell(col=8, row=5), ActiveCell(col=8, row=6), ActiveCell(col=9, row=2), ActiveCell(col=9, row=3), ActiveCell(col=9, row=4), ActiveCell(col=9, row=5), ActiveCell(col=9, row=6)]))"
      ]
     },
     "execution_count": 2,
     "metadata": {},
     "output_type": "execute_result"
    }
   ],
   "execution_count": 2
  },
  {
   "cell_type": "markdown",
   "id": "fa27e67f9d801845",
   "metadata": {
    "collapsed": false,
    "papermill": {
     "duration": 0.004839,
     "end_time": "2024-06-20T19:03:33.615542",
     "exception": false,
     "start_time": "2024-06-20T19:03:33.610703",
     "status": "completed"
    },
    "tags": []
   },
   "source": [
    "## Setup Time Discretization"
   ]
  },
  {
   "cell_type": "code",
   "id": "8e4e63dd138db9fc",
   "metadata": {
    "collapsed": false,
    "execution": {
     "iopub.execute_input": "2024-06-20T19:03:33.631563Z",
     "iopub.status.busy": "2024-06-20T19:03:33.631181Z",
     "iopub.status.idle": "2024-06-20T19:03:33.650981Z",
     "shell.execute_reply": "2024-06-20T19:03:33.648588Z"
    },
    "papermill": {
     "duration": 0.032877,
     "end_time": "2024-06-20T19:03:33.653918",
     "exception": false,
     "start_time": "2024-06-20T19:03:33.621041",
     "status": "completed"
    },
    "tags": [],
    "ExecuteTime": {
     "end_time": "2024-08-19T09:43:19.026493Z",
     "start_time": "2024-08-19T09:43:19.004904Z"
    }
   },
   "source": [
    "from morpheus.project.types.discretization.time.TimeUnit import TimeUnit\n",
    "from morpheus.project.types.discretization.time.Stressperiods import StartDateTime, StressPeriodCollection, \\\n",
    "  StressPeriod, NumberOfTimeSteps, TimeStepMultiplier, IsSteadyState\n",
    "from morpheus.project.types.discretization.time import TimeDiscretization\n",
    "from datetime import datetime\n",
    "\n",
    "time_discretization = TimeDiscretization(\n",
    "  start_date_time=StartDateTime.from_datetime(datetime(2020, 1, 1)),\n",
    "  end_date_time=StartDateTime.from_datetime(datetime(2020, 12, 31)),\n",
    "  stress_periods=StressPeriodCollection([\n",
    "    StressPeriod(\n",
    "      start_date_time=StartDateTime.from_datetime(datetime(2020, 1, 1)),\n",
    "      number_of_time_steps=NumberOfTimeSteps(1),\n",
    "      time_step_multiplier=TimeStepMultiplier(1),\n",
    "      steady_state=IsSteadyState.yes()\n",
    "    ),\n",
    "    StressPeriod(\n",
    "      start_date_time=StartDateTime.from_datetime(datetime(2020, 2, 1)),\n",
    "      number_of_time_steps=NumberOfTimeSteps(1),\n",
    "      time_step_multiplier=TimeStepMultiplier(1),\n",
    "      steady_state=IsSteadyState.no()\n",
    "    ),\n",
    "    StressPeriod(\n",
    "      start_date_time=StartDateTime.from_datetime(datetime(2020, 3, 1)),\n",
    "      number_of_time_steps=NumberOfTimeSteps(1),\n",
    "      time_step_multiplier=TimeStepMultiplier(1),\n",
    "      steady_state=IsSteadyState.no()\n",
    "    ),\n",
    "    StressPeriod(\n",
    "      start_date_time=StartDateTime.from_datetime(datetime(2020, 4, 1)),\n",
    "      number_of_time_steps=NumberOfTimeSteps(1),\n",
    "      time_step_multiplier=TimeStepMultiplier(1),\n",
    "      steady_state=IsSteadyState.no()\n",
    "    ),\n",
    "    StressPeriod(\n",
    "      start_date_time=StartDateTime.from_datetime(datetime(2020, 5, 1)),\n",
    "      number_of_time_steps=NumberOfTimeSteps(1),\n",
    "      time_step_multiplier=TimeStepMultiplier(1),\n",
    "      steady_state=IsSteadyState.no()\n",
    "    ),\n",
    "    StressPeriod(\n",
    "      start_date_time=StartDateTime.from_datetime(datetime(2020, 6, 1)),\n",
    "      number_of_time_steps=NumberOfTimeSteps(1),\n",
    "      time_step_multiplier=TimeStepMultiplier(1),\n",
    "      steady_state=IsSteadyState.no()\n",
    "    ),\n",
    "    StressPeriod(\n",
    "      start_date_time=StartDateTime.from_datetime(datetime(2020, 7, 1)),\n",
    "      number_of_time_steps=NumberOfTimeSteps(1),\n",
    "      time_step_multiplier=TimeStepMultiplier(1),\n",
    "      steady_state=IsSteadyState.no()\n",
    "    ),\n",
    "    StressPeriod(\n",
    "      start_date_time=StartDateTime.from_datetime(datetime(2020, 8, 1)),\n",
    "      number_of_time_steps=NumberOfTimeSteps(1),\n",
    "      time_step_multiplier=TimeStepMultiplier(1),\n",
    "      steady_state=IsSteadyState.no()\n",
    "    ),\n",
    "    StressPeriod(\n",
    "      start_date_time=StartDateTime.from_datetime(datetime(2020, 9, 1)),\n",
    "      number_of_time_steps=NumberOfTimeSteps(1),\n",
    "      time_step_multiplier=TimeStepMultiplier(1),\n",
    "      steady_state=IsSteadyState.no()\n",
    "    ),\n",
    "    StressPeriod(\n",
    "      start_date_time=StartDateTime.from_datetime(datetime(2020, 10, 1)),\n",
    "      number_of_time_steps=NumberOfTimeSteps(1),\n",
    "      time_step_multiplier=TimeStepMultiplier(1),\n",
    "      steady_state=IsSteadyState.no()\n",
    "    ),\n",
    "    StressPeriod(\n",
    "      start_date_time=StartDateTime.from_datetime(datetime(2020, 11, 1)),\n",
    "      number_of_time_steps=NumberOfTimeSteps(1),\n",
    "      time_step_multiplier=TimeStepMultiplier(1),\n",
    "      steady_state=IsSteadyState.no()\n",
    "    ),\n",
    "    StressPeriod(\n",
    "      start_date_time=StartDateTime.from_datetime(datetime(2020, 12, 1)),\n",
    "      number_of_time_steps=NumberOfTimeSteps(1),\n",
    "      time_step_multiplier=TimeStepMultiplier(1),\n",
    "      steady_state=IsSteadyState.no()\n",
    "    ),\n",
    "  ]),\n",
    "  time_unit=TimeUnit.days()\n",
    ")\n",
    "\n",
    "time_discretization"
   ],
   "outputs": [
    {
     "data": {
      "text/plain": [
       "TimeDiscretization(start_date_time=StartDateTime(value=datetime.datetime(2020, 1, 1, 0, 0, tzinfo=datetime.timezone.utc)), end_date_time=StartDateTime(value=datetime.datetime(2020, 12, 31, 0, 0, tzinfo=datetime.timezone.utc)), stress_periods=StressPeriodCollection(values=[StressPeriod(start_date_time=StartDateTime(value=datetime.datetime(2020, 1, 1, 0, 0, tzinfo=datetime.timezone.utc)), number_of_time_steps=NumberOfTimeSteps(value=1), time_step_multiplier=TimeStepMultiplier(value=1), steady_state=IsSteadyState(value=True)), StressPeriod(start_date_time=StartDateTime(value=datetime.datetime(2020, 2, 1, 0, 0, tzinfo=datetime.timezone.utc)), number_of_time_steps=NumberOfTimeSteps(value=1), time_step_multiplier=TimeStepMultiplier(value=1), steady_state=IsSteadyState(value=False)), StressPeriod(start_date_time=StartDateTime(value=datetime.datetime(2020, 3, 1, 0, 0, tzinfo=datetime.timezone.utc)), number_of_time_steps=NumberOfTimeSteps(value=1), time_step_multiplier=TimeStepMultiplier(value=1), steady_state=IsSteadyState(value=False)), StressPeriod(start_date_time=StartDateTime(value=datetime.datetime(2020, 4, 1, 0, 0, tzinfo=datetime.timezone.utc)), number_of_time_steps=NumberOfTimeSteps(value=1), time_step_multiplier=TimeStepMultiplier(value=1), steady_state=IsSteadyState(value=False)), StressPeriod(start_date_time=StartDateTime(value=datetime.datetime(2020, 5, 1, 0, 0, tzinfo=datetime.timezone.utc)), number_of_time_steps=NumberOfTimeSteps(value=1), time_step_multiplier=TimeStepMultiplier(value=1), steady_state=IsSteadyState(value=False)), StressPeriod(start_date_time=StartDateTime(value=datetime.datetime(2020, 6, 1, 0, 0, tzinfo=datetime.timezone.utc)), number_of_time_steps=NumberOfTimeSteps(value=1), time_step_multiplier=TimeStepMultiplier(value=1), steady_state=IsSteadyState(value=False)), StressPeriod(start_date_time=StartDateTime(value=datetime.datetime(2020, 7, 1, 0, 0, tzinfo=datetime.timezone.utc)), number_of_time_steps=NumberOfTimeSteps(value=1), time_step_multiplier=TimeStepMultiplier(value=1), steady_state=IsSteadyState(value=False)), StressPeriod(start_date_time=StartDateTime(value=datetime.datetime(2020, 8, 1, 0, 0, tzinfo=datetime.timezone.utc)), number_of_time_steps=NumberOfTimeSteps(value=1), time_step_multiplier=TimeStepMultiplier(value=1), steady_state=IsSteadyState(value=False)), StressPeriod(start_date_time=StartDateTime(value=datetime.datetime(2020, 9, 1, 0, 0, tzinfo=datetime.timezone.utc)), number_of_time_steps=NumberOfTimeSteps(value=1), time_step_multiplier=TimeStepMultiplier(value=1), steady_state=IsSteadyState(value=False)), StressPeriod(start_date_time=StartDateTime(value=datetime.datetime(2020, 10, 1, 0, 0, tzinfo=datetime.timezone.utc)), number_of_time_steps=NumberOfTimeSteps(value=1), time_step_multiplier=TimeStepMultiplier(value=1), steady_state=IsSteadyState(value=False)), StressPeriod(start_date_time=StartDateTime(value=datetime.datetime(2020, 11, 1, 0, 0, tzinfo=datetime.timezone.utc)), number_of_time_steps=NumberOfTimeSteps(value=1), time_step_multiplier=TimeStepMultiplier(value=1), steady_state=IsSteadyState(value=False)), StressPeriod(start_date_time=StartDateTime(value=datetime.datetime(2020, 12, 1, 0, 0, tzinfo=datetime.timezone.utc)), number_of_time_steps=NumberOfTimeSteps(value=1), time_step_multiplier=TimeStepMultiplier(value=1), steady_state=IsSteadyState(value=False))]), time_unit=TimeUnit(unit=4))"
      ]
     },
     "execution_count": 3,
     "metadata": {},
     "output_type": "execute_result"
    }
   ],
   "execution_count": 3
  },
  {
   "cell_type": "code",
   "id": "1540b870ae83f298",
   "metadata": {
    "collapsed": false,
    "execution": {
     "iopub.execute_input": "2024-06-20T19:03:33.668470Z",
     "iopub.status.busy": "2024-06-20T19:03:33.667128Z",
     "iopub.status.idle": "2024-06-20T19:03:34.026366Z",
     "shell.execute_reply": "2024-06-20T19:03:34.026061Z"
    },
    "papermill": {
     "duration": 0.367205,
     "end_time": "2024-06-20T19:03:34.027514",
     "exception": false,
     "start_time": "2024-06-20T19:03:33.660309",
     "status": "completed"
    },
    "tags": [],
    "ExecuteTime": {
     "end_time": "2024-08-19T09:43:19.512390Z",
     "start_time": "2024-08-19T09:43:19.029606Z"
    }
   },
   "source": [
    "import folium\n",
    "\n",
    "m = folium.Map(tiles=\"cartodbpositron\", crs=\"EPSG3857\", zoom_start=12, location=[50.965, 13.922])\n",
    "m.add_child(folium.GeoJson(polygon.as_geojson()))\n",
    "\n",
    "m.fit_bounds(m.get_bounds())\n",
    "m"
   ],
   "outputs": [
    {
     "data": {
      "text/plain": [
       "<folium.folium.Map at 0x1055b50d0>"
      ],
      "text/html": [
       "<div style=\"width:100%;\"><div style=\"position:relative;width:100%;height:0;padding-bottom:60%;\"><span style=\"color:#565656\">Make this Notebook Trusted to load map: File -> Trust Notebook</span><iframe srcdoc=\"&lt;!DOCTYPE html&gt;\n",
       "&lt;html&gt;\n",
       "&lt;head&gt;\n",
       "    \n",
       "    &lt;meta http-equiv=&quot;content-type&quot; content=&quot;text/html; charset=UTF-8&quot; /&gt;\n",
       "    \n",
       "        &lt;script&gt;\n",
       "            L_NO_TOUCH = false;\n",
       "            L_DISABLE_3D = false;\n",
       "        &lt;/script&gt;\n",
       "    \n",
       "    &lt;style&gt;html, body {width: 100%;height: 100%;margin: 0;padding: 0;}&lt;/style&gt;\n",
       "    &lt;style&gt;#map {position:absolute;top:0;bottom:0;right:0;left:0;}&lt;/style&gt;\n",
       "    &lt;script src=&quot;https://cdn.jsdelivr.net/npm/leaflet@1.9.3/dist/leaflet.js&quot;&gt;&lt;/script&gt;\n",
       "    &lt;script src=&quot;https://code.jquery.com/jquery-3.7.1.min.js&quot;&gt;&lt;/script&gt;\n",
       "    &lt;script src=&quot;https://cdn.jsdelivr.net/npm/bootstrap@5.2.2/dist/js/bootstrap.bundle.min.js&quot;&gt;&lt;/script&gt;\n",
       "    &lt;script src=&quot;https://cdnjs.cloudflare.com/ajax/libs/Leaflet.awesome-markers/2.0.2/leaflet.awesome-markers.js&quot;&gt;&lt;/script&gt;\n",
       "    &lt;link rel=&quot;stylesheet&quot; href=&quot;https://cdn.jsdelivr.net/npm/leaflet@1.9.3/dist/leaflet.css&quot;/&gt;\n",
       "    &lt;link rel=&quot;stylesheet&quot; href=&quot;https://cdn.jsdelivr.net/npm/bootstrap@5.2.2/dist/css/bootstrap.min.css&quot;/&gt;\n",
       "    &lt;link rel=&quot;stylesheet&quot; href=&quot;https://netdna.bootstrapcdn.com/bootstrap/3.0.0/css/bootstrap.min.css&quot;/&gt;\n",
       "    &lt;link rel=&quot;stylesheet&quot; href=&quot;https://cdn.jsdelivr.net/npm/@fortawesome/fontawesome-free@6.2.0/css/all.min.css&quot;/&gt;\n",
       "    &lt;link rel=&quot;stylesheet&quot; href=&quot;https://cdnjs.cloudflare.com/ajax/libs/Leaflet.awesome-markers/2.0.2/leaflet.awesome-markers.css&quot;/&gt;\n",
       "    &lt;link rel=&quot;stylesheet&quot; href=&quot;https://cdn.jsdelivr.net/gh/python-visualization/folium/folium/templates/leaflet.awesome.rotate.min.css&quot;/&gt;\n",
       "    \n",
       "            &lt;meta name=&quot;viewport&quot; content=&quot;width=device-width,\n",
       "                initial-scale=1.0, maximum-scale=1.0, user-scalable=no&quot; /&gt;\n",
       "            &lt;style&gt;\n",
       "                #map_d8ca528cf533094842b6e1cc14cdf068 {\n",
       "                    position: relative;\n",
       "                    width: 100.0%;\n",
       "                    height: 100.0%;\n",
       "                    left: 0.0%;\n",
       "                    top: 0.0%;\n",
       "                }\n",
       "                .leaflet-container { font-size: 1rem; }\n",
       "            &lt;/style&gt;\n",
       "        \n",
       "&lt;/head&gt;\n",
       "&lt;body&gt;\n",
       "    \n",
       "    \n",
       "            &lt;div class=&quot;folium-map&quot; id=&quot;map_d8ca528cf533094842b6e1cc14cdf068&quot; &gt;&lt;/div&gt;\n",
       "        \n",
       "&lt;/body&gt;\n",
       "&lt;script&gt;\n",
       "    \n",
       "    \n",
       "            var map_d8ca528cf533094842b6e1cc14cdf068 = L.map(\n",
       "                &quot;map_d8ca528cf533094842b6e1cc14cdf068&quot;,\n",
       "                {\n",
       "                    center: [50.965, 13.922],\n",
       "                    crs: L.CRS.EPSG3857,\n",
       "                    zoom: 12,\n",
       "                    zoomControl: true,\n",
       "                    preferCanvas: false,\n",
       "                }\n",
       "            );\n",
       "\n",
       "            \n",
       "\n",
       "        \n",
       "    \n",
       "            var tile_layer_c245361ae6382966650477b14d2ce115 = L.tileLayer(\n",
       "                &quot;https://{s}.basemaps.cartocdn.com/light_all/{z}/{x}/{y}{r}.png&quot;,\n",
       "                {&quot;attribution&quot;: &quot;\\u0026copy; \\u003ca href=\\&quot;https://www.openstreetmap.org/copyright\\&quot;\\u003eOpenStreetMap\\u003c/a\\u003e contributors \\u0026copy; \\u003ca href=\\&quot;https://carto.com/attributions\\&quot;\\u003eCARTO\\u003c/a\\u003e&quot;, &quot;detectRetina&quot;: false, &quot;maxNativeZoom&quot;: 20, &quot;maxZoom&quot;: 20, &quot;minZoom&quot;: 0, &quot;noWrap&quot;: false, &quot;opacity&quot;: 1, &quot;subdomains&quot;: &quot;abcd&quot;, &quot;tms&quot;: false}\n",
       "            );\n",
       "        \n",
       "    \n",
       "            tile_layer_c245361ae6382966650477b14d2ce115.addTo(map_d8ca528cf533094842b6e1cc14cdf068);\n",
       "        \n",
       "    \n",
       "\n",
       "        function geo_json_b67a4577dcc31c0b7a8e655d94984a3d_onEachFeature(feature, layer) {\n",
       "            layer.on({\n",
       "            });\n",
       "        };\n",
       "        var geo_json_b67a4577dcc31c0b7a8e655d94984a3d = L.geoJson(null, {\n",
       "                onEachFeature: geo_json_b67a4577dcc31c0b7a8e655d94984a3d_onEachFeature,\n",
       "            \n",
       "        });\n",
       "\n",
       "        function geo_json_b67a4577dcc31c0b7a8e655d94984a3d_add (data) {\n",
       "            geo_json_b67a4577dcc31c0b7a8e655d94984a3d\n",
       "                .addData(data);\n",
       "        }\n",
       "            geo_json_b67a4577dcc31c0b7a8e655d94984a3d_add({&quot;coordinates&quot;: [[[13.922514437551428, 50.964720483303836], [13.925250781947113, 50.965228748412386], [13.925036413951403, 50.96623732041704], [13.92222441026388, 50.96629040370362], [13.922514437551428, 50.964720483303836]]], &quot;type&quot;: &quot;Polygon&quot;});\n",
       "\n",
       "        \n",
       "    \n",
       "            geo_json_b67a4577dcc31c0b7a8e655d94984a3d.addTo(map_d8ca528cf533094842b6e1cc14cdf068);\n",
       "        \n",
       "    \n",
       "            map_d8ca528cf533094842b6e1cc14cdf068.fitBounds(\n",
       "                [[50.964720483303836, 13.92222441026388], [50.96629040370362, 13.925250781947113]],\n",
       "                {}\n",
       "            );\n",
       "        \n",
       "&lt;/script&gt;\n",
       "&lt;/html&gt;\" style=\"position:absolute;width:100%;height:100%;left:0;top:0;border:none !important;\" allowfullscreen webkitallowfullscreen mozallowfullscreen></iframe></div></div>"
      ]
     },
     "execution_count": 4,
     "metadata": {},
     "output_type": "execute_result"
    }
   ],
   "execution_count": 4
  },
  {
   "cell_type": "markdown",
   "id": "9df9979b6c9bdbed",
   "metadata": {
    "collapsed": false,
    "papermill": {
     "duration": 0.001785,
     "end_time": "2024-06-20T19:03:34.031467",
     "exception": false,
     "start_time": "2024-06-20T19:03:34.029682",
     "status": "completed"
    },
    "tags": []
   },
   "source": [
    "## Setup model"
   ]
  },
  {
   "cell_type": "code",
   "id": "77045c334efc769c",
   "metadata": {
    "collapsed": false,
    "execution": {
     "iopub.execute_input": "2024-06-20T19:03:34.036033Z",
     "iopub.status.busy": "2024-06-20T19:03:34.035784Z",
     "iopub.status.idle": "2024-06-20T19:03:34.212562Z",
     "shell.execute_reply": "2024-06-20T19:03:34.212145Z"
    },
    "papermill": {
     "duration": 0.180272,
     "end_time": "2024-06-20T19:03:34.213596",
     "exception": false,
     "start_time": "2024-06-20T19:03:34.033324",
     "status": "completed"
    },
    "tags": [],
    "ExecuteTime": {
     "end_time": "2024-08-19T09:43:19.789594Z",
     "start_time": "2024-08-19T09:43:19.516517Z"
    }
   },
   "source": [
    "from morpheus.project.types.Model import Model\n",
    "\n",
    "model = Model.new()\n",
    "model = model.with_updated_time_discretization(time_discretization)\n",
    "model = model.with_updated_spatial_discretization(spatial_discretization=spatial_discretization)"
   ],
   "outputs": [],
   "execution_count": 5
  },
  {
   "cell_type": "markdown",
   "id": "62ae3587df801000",
   "metadata": {
    "collapsed": false,
    "papermill": {
     "duration": 0.00168,
     "end_time": "2024-06-20T19:03:34.217204",
     "exception": false,
     "start_time": "2024-06-20T19:03:34.215524",
     "status": "completed"
    },
    "tags": []
   },
   "source": [
    "# Setup general head boundary with 1 observation"
   ]
  },
  {
   "cell_type": "code",
   "id": "53679913aee28ce9",
   "metadata": {
    "collapsed": false,
    "execution": {
     "iopub.execute_input": "2024-06-20T19:03:34.221334Z",
     "iopub.status.busy": "2024-06-20T19:03:34.221124Z",
     "iopub.status.idle": "2024-06-20T19:03:34.242489Z",
     "shell.execute_reply": "2024-06-20T19:03:34.242238Z"
    },
    "papermill": {
     "duration": 0.024382,
     "end_time": "2024-06-20T19:03:34.243313",
     "exception": false,
     "start_time": "2024-06-20T19:03:34.218931",
     "status": "completed"
    },
    "tags": [],
    "ExecuteTime": {
     "end_time": "2024-08-19T09:43:19.815837Z",
     "start_time": "2024-08-19T09:43:19.790306Z"
    }
   },
   "source": [
    "from morpheus.project.types.boundaries.Observation import ObservationName\n",
    "from morpheus.project.types.geometry import Point\n",
    "from morpheus.project.types.boundaries.Boundary import BoundaryName, GeneralHeadBoundary\n",
    "from morpheus.project.types.boundaries.GeneralHeadObservation import GeneralHeadObservation, GeneralHeadRawDataItem, \\\n",
    "  ObservationId, Stage, Conductance\n",
    "\n",
    "layers_list = [model.layers[0].layer_id]\n",
    "general_head = GeneralHeadBoundary.from_geometry(\n",
    "  name=BoundaryName('general_head'),\n",
    "  geometry=LineString([\n",
    "    (13.9223, 50.9662),\n",
    "    (13.9250, 50.96615),\n",
    "  ]),\n",
    "  grid=grid,\n",
    "  affected_layers=[layers_list[0]],\n",
    "  observations=[\n",
    "    GeneralHeadObservation(\n",
    "      observation_id=ObservationId.new(),\n",
    "      observation_name=ObservationName.default(),\n",
    "      geometry=Point((13.9223, 50.9662)),\n",
    "      data=[\n",
    "        GeneralHeadRawDataItem(\n",
    "          date_time=StartDateTime.from_datetime(datetime(2019, 1, 1)),\n",
    "          stage=Stage.from_float(100),\n",
    "          conductance=Conductance.from_float(10),\n",
    "        ),\n",
    "        GeneralHeadRawDataItem(\n",
    "          date_time=StartDateTime.from_datetime(datetime(2021, 12, 31)),\n",
    "          stage=Stage.from_float(300),\n",
    "          conductance=Conductance.from_float(30),\n",
    "        ),\n",
    "      ]\n",
    "    )\n",
    "  ]\n",
    ")\n",
    "\n",
    "general_head.affected_cells = general_head.affected_cells.filter(\n",
    "  lambda cell: spatial_discretization.affected_cells.contains(cell))\n",
    "\n",
    "m.add_child(folium.GeoJson(general_head.as_geojson()))\n",
    "m.add_child(folium.GeoJson(general_head.affected_cells.to_geojson(grid).as_geojson()))\n",
    "for general_head.observation in general_head.observations:\n",
    "  m.add_child(folium.GeoJson(general_head.observation.as_geojson()))\n",
    "m.fit_bounds(m.get_bounds())\n",
    "m"
   ],
   "outputs": [
    {
     "data": {
      "text/plain": [
       "<folium.folium.Map at 0x1055b50d0>"
      ],
      "text/html": [
       "<div style=\"width:100%;\"><div style=\"position:relative;width:100%;height:0;padding-bottom:60%;\"><span style=\"color:#565656\">Make this Notebook Trusted to load map: File -> Trust Notebook</span><iframe srcdoc=\"&lt;!DOCTYPE html&gt;\n",
       "&lt;html&gt;\n",
       "&lt;head&gt;\n",
       "    \n",
       "    &lt;meta http-equiv=&quot;content-type&quot; content=&quot;text/html; charset=UTF-8&quot; /&gt;\n",
       "    \n",
       "        &lt;script&gt;\n",
       "            L_NO_TOUCH = false;\n",
       "            L_DISABLE_3D = false;\n",
       "        &lt;/script&gt;\n",
       "    \n",
       "    &lt;style&gt;html, body {width: 100%;height: 100%;margin: 0;padding: 0;}&lt;/style&gt;\n",
       "    &lt;style&gt;#map {position:absolute;top:0;bottom:0;right:0;left:0;}&lt;/style&gt;\n",
       "    &lt;script src=&quot;https://cdn.jsdelivr.net/npm/leaflet@1.9.3/dist/leaflet.js&quot;&gt;&lt;/script&gt;\n",
       "    &lt;script src=&quot;https://code.jquery.com/jquery-3.7.1.min.js&quot;&gt;&lt;/script&gt;\n",
       "    &lt;script src=&quot;https://cdn.jsdelivr.net/npm/bootstrap@5.2.2/dist/js/bootstrap.bundle.min.js&quot;&gt;&lt;/script&gt;\n",
       "    &lt;script src=&quot;https://cdnjs.cloudflare.com/ajax/libs/Leaflet.awesome-markers/2.0.2/leaflet.awesome-markers.js&quot;&gt;&lt;/script&gt;\n",
       "    &lt;link rel=&quot;stylesheet&quot; href=&quot;https://cdn.jsdelivr.net/npm/leaflet@1.9.3/dist/leaflet.css&quot;/&gt;\n",
       "    &lt;link rel=&quot;stylesheet&quot; href=&quot;https://cdn.jsdelivr.net/npm/bootstrap@5.2.2/dist/css/bootstrap.min.css&quot;/&gt;\n",
       "    &lt;link rel=&quot;stylesheet&quot; href=&quot;https://netdna.bootstrapcdn.com/bootstrap/3.0.0/css/bootstrap.min.css&quot;/&gt;\n",
       "    &lt;link rel=&quot;stylesheet&quot; href=&quot;https://cdn.jsdelivr.net/npm/@fortawesome/fontawesome-free@6.2.0/css/all.min.css&quot;/&gt;\n",
       "    &lt;link rel=&quot;stylesheet&quot; href=&quot;https://cdnjs.cloudflare.com/ajax/libs/Leaflet.awesome-markers/2.0.2/leaflet.awesome-markers.css&quot;/&gt;\n",
       "    &lt;link rel=&quot;stylesheet&quot; href=&quot;https://cdn.jsdelivr.net/gh/python-visualization/folium/folium/templates/leaflet.awesome.rotate.min.css&quot;/&gt;\n",
       "    \n",
       "            &lt;meta name=&quot;viewport&quot; content=&quot;width=device-width,\n",
       "                initial-scale=1.0, maximum-scale=1.0, user-scalable=no&quot; /&gt;\n",
       "            &lt;style&gt;\n",
       "                #map_d8ca528cf533094842b6e1cc14cdf068 {\n",
       "                    position: relative;\n",
       "                    width: 100.0%;\n",
       "                    height: 100.0%;\n",
       "                    left: 0.0%;\n",
       "                    top: 0.0%;\n",
       "                }\n",
       "                .leaflet-container { font-size: 1rem; }\n",
       "            &lt;/style&gt;\n",
       "        \n",
       "&lt;/head&gt;\n",
       "&lt;body&gt;\n",
       "    \n",
       "    \n",
       "            &lt;div class=&quot;folium-map&quot; id=&quot;map_d8ca528cf533094842b6e1cc14cdf068&quot; &gt;&lt;/div&gt;\n",
       "        \n",
       "&lt;/body&gt;\n",
       "&lt;script&gt;\n",
       "    \n",
       "    \n",
       "            var map_d8ca528cf533094842b6e1cc14cdf068 = L.map(\n",
       "                &quot;map_d8ca528cf533094842b6e1cc14cdf068&quot;,\n",
       "                {\n",
       "                    center: [50.965, 13.922],\n",
       "                    crs: L.CRS.EPSG3857,\n",
       "                    zoom: 12,\n",
       "                    zoomControl: true,\n",
       "                    preferCanvas: false,\n",
       "                }\n",
       "            );\n",
       "\n",
       "            \n",
       "\n",
       "        \n",
       "    \n",
       "            var tile_layer_c245361ae6382966650477b14d2ce115 = L.tileLayer(\n",
       "                &quot;https://{s}.basemaps.cartocdn.com/light_all/{z}/{x}/{y}{r}.png&quot;,\n",
       "                {&quot;attribution&quot;: &quot;\\u0026copy; \\u003ca href=\\&quot;https://www.openstreetmap.org/copyright\\&quot;\\u003eOpenStreetMap\\u003c/a\\u003e contributors \\u0026copy; \\u003ca href=\\&quot;https://carto.com/attributions\\&quot;\\u003eCARTO\\u003c/a\\u003e&quot;, &quot;detectRetina&quot;: false, &quot;maxNativeZoom&quot;: 20, &quot;maxZoom&quot;: 20, &quot;minZoom&quot;: 0, &quot;noWrap&quot;: false, &quot;opacity&quot;: 1, &quot;subdomains&quot;: &quot;abcd&quot;, &quot;tms&quot;: false}\n",
       "            );\n",
       "        \n",
       "    \n",
       "            tile_layer_c245361ae6382966650477b14d2ce115.addTo(map_d8ca528cf533094842b6e1cc14cdf068);\n",
       "        \n",
       "    \n",
       "\n",
       "        function geo_json_b67a4577dcc31c0b7a8e655d94984a3d_onEachFeature(feature, layer) {\n",
       "            layer.on({\n",
       "            });\n",
       "        };\n",
       "        var geo_json_b67a4577dcc31c0b7a8e655d94984a3d = L.geoJson(null, {\n",
       "                onEachFeature: geo_json_b67a4577dcc31c0b7a8e655d94984a3d_onEachFeature,\n",
       "            \n",
       "        });\n",
       "\n",
       "        function geo_json_b67a4577dcc31c0b7a8e655d94984a3d_add (data) {\n",
       "            geo_json_b67a4577dcc31c0b7a8e655d94984a3d\n",
       "                .addData(data);\n",
       "        }\n",
       "            geo_json_b67a4577dcc31c0b7a8e655d94984a3d_add({&quot;coordinates&quot;: [[[13.922514437551428, 50.964720483303836], [13.925250781947113, 50.965228748412386], [13.925036413951403, 50.96623732041704], [13.92222441026388, 50.96629040370362], [13.922514437551428, 50.964720483303836]]], &quot;type&quot;: &quot;Polygon&quot;});\n",
       "\n",
       "        \n",
       "    \n",
       "            geo_json_b67a4577dcc31c0b7a8e655d94984a3d.addTo(map_d8ca528cf533094842b6e1cc14cdf068);\n",
       "        \n",
       "    \n",
       "            map_d8ca528cf533094842b6e1cc14cdf068.fitBounds(\n",
       "                [[50.964720483303836, 13.92222441026388], [50.96629040370362, 13.925250781947113]],\n",
       "                {}\n",
       "            );\n",
       "        \n",
       "    \n",
       "            tile_layer_c245361ae6382966650477b14d2ce115.addTo(map_d8ca528cf533094842b6e1cc14cdf068);\n",
       "        \n",
       "    \n",
       "            geo_json_b67a4577dcc31c0b7a8e655d94984a3d.addTo(map_d8ca528cf533094842b6e1cc14cdf068);\n",
       "        \n",
       "    \n",
       "\n",
       "        function geo_json_a0b558b13f94f62b23047ee27debf5c7_onEachFeature(feature, layer) {\n",
       "            layer.on({\n",
       "            });\n",
       "        };\n",
       "        var geo_json_a0b558b13f94f62b23047ee27debf5c7 = L.geoJson(null, {\n",
       "                onEachFeature: geo_json_a0b558b13f94f62b23047ee27debf5c7_onEachFeature,\n",
       "            \n",
       "        });\n",
       "\n",
       "        function geo_json_a0b558b13f94f62b23047ee27debf5c7_add (data) {\n",
       "            geo_json_a0b558b13f94f62b23047ee27debf5c7\n",
       "                .addData(data);\n",
       "        }\n",
       "            geo_json_a0b558b13f94f62b23047ee27debf5c7_add({&quot;coordinates&quot;: [[13.9223, 50.9662], [13.925, 50.96615]], &quot;type&quot;: &quot;LineString&quot;});\n",
       "\n",
       "        \n",
       "    \n",
       "            geo_json_a0b558b13f94f62b23047ee27debf5c7.addTo(map_d8ca528cf533094842b6e1cc14cdf068);\n",
       "        \n",
       "    \n",
       "\n",
       "        function geo_json_12ed2b519a77f0f1ef01c85591cdc64e_onEachFeature(feature, layer) {\n",
       "            layer.on({\n",
       "            });\n",
       "        };\n",
       "        var geo_json_12ed2b519a77f0f1ef01c85591cdc64e = L.geoJson(null, {\n",
       "                onEachFeature: geo_json_12ed2b519a77f0f1ef01c85591cdc64e_onEachFeature,\n",
       "            \n",
       "        });\n",
       "\n",
       "        function geo_json_12ed2b519a77f0f1ef01c85591cdc64e_add (data) {\n",
       "            geo_json_12ed2b519a77f0f1ef01c85591cdc64e\n",
       "                .addData(data);\n",
       "        }\n",
       "            geo_json_12ed2b519a77f0f1ef01c85591cdc64e_add({&quot;geometries&quot;: [{&quot;coordinates&quot;: [[[13.922224410263878, 50.96629040370359], [13.922527047432201, 50.96629040370359], [13.922527047432201, 50.9661334140511], [13.922224410263878, 50.9661334140511], [13.922224410263878, 50.96629040370359]]], &quot;type&quot;: &quot;Polygon&quot;}, {&quot;coordinates&quot;: [[[13.922527047432201, 50.96629040370359], [13.922829684600526, 50.96629040370359], [13.922829684600526, 50.9661334140511], [13.922527047432201, 50.9661334140511], [13.922527047432201, 50.96629040370359]]], &quot;type&quot;: &quot;Polygon&quot;}, {&quot;coordinates&quot;: [[[13.922829684600526, 50.96629040370359], [13.923132321768849, 50.96629040370359], [13.923132321768849, 50.9661334140511], [13.922829684600526, 50.9661334140511], [13.922829684600526, 50.96629040370359]]], &quot;type&quot;: &quot;Polygon&quot;}, {&quot;coordinates&quot;: [[[13.923132321768849, 50.96629040370359], [13.923434958937172, 50.96629040370359], [13.923434958937172, 50.9661334140511], [13.923132321768849, 50.9661334140511], [13.923132321768849, 50.96629040370359]]], &quot;type&quot;: &quot;Polygon&quot;}, {&quot;coordinates&quot;: [[[13.923434958937172, 50.96629040370359], [13.923737596105495, 50.96629040370359], [13.923737596105495, 50.9661334140511], [13.923434958937172, 50.9661334140511], [13.923434958937172, 50.96629040370359]]], &quot;type&quot;: &quot;Polygon&quot;}, {&quot;coordinates&quot;: [[[13.923737596105495, 50.96629040370359], [13.924040233273818, 50.96629040370359], [13.924040233273818, 50.9661334140511], [13.923737596105495, 50.9661334140511], [13.923737596105495, 50.96629040370359]]], &quot;type&quot;: &quot;Polygon&quot;}, {&quot;coordinates&quot;: [[[13.924040233273818, 50.96629040370359], [13.924342870442143, 50.96629040370359], [13.924342870442143, 50.9661334140511], [13.924040233273818, 50.9661334140511], [13.924040233273818, 50.96629040370359]]], &quot;type&quot;: &quot;Polygon&quot;}, {&quot;coordinates&quot;: [[[13.924342870442143, 50.96629040370359], [13.924645507610466, 50.96629040370359], [13.924645507610466, 50.9661334140511], [13.924342870442143, 50.9661334140511], [13.924342870442143, 50.96629040370359]]], &quot;type&quot;: &quot;Polygon&quot;}, {&quot;coordinates&quot;: [[[13.924645507610466, 50.96629040370359], [13.92494814477879, 50.96629040370359], [13.92494814477879, 50.9661334140511], [13.924645507610466, 50.9661334140511], [13.924645507610466, 50.96629040370359]]], &quot;type&quot;: &quot;Polygon&quot;}], &quot;type&quot;: &quot;GeometryCollection&quot;});\n",
       "\n",
       "        \n",
       "    \n",
       "            geo_json_12ed2b519a77f0f1ef01c85591cdc64e.addTo(map_d8ca528cf533094842b6e1cc14cdf068);\n",
       "        \n",
       "    \n",
       "\n",
       "        function geo_json_183158585598c89bc8779ba12e7eaf34_onEachFeature(feature, layer) {\n",
       "            layer.on({\n",
       "            });\n",
       "        };\n",
       "        var geo_json_183158585598c89bc8779ba12e7eaf34 = L.geoJson(null, {\n",
       "                onEachFeature: geo_json_183158585598c89bc8779ba12e7eaf34_onEachFeature,\n",
       "            \n",
       "        });\n",
       "\n",
       "        function geo_json_183158585598c89bc8779ba12e7eaf34_add (data) {\n",
       "            geo_json_183158585598c89bc8779ba12e7eaf34\n",
       "                .addData(data);\n",
       "        }\n",
       "            geo_json_183158585598c89bc8779ba12e7eaf34_add({&quot;coordinates&quot;: [13.9223, 50.9662], &quot;type&quot;: &quot;Point&quot;});\n",
       "\n",
       "        \n",
       "    \n",
       "            geo_json_183158585598c89bc8779ba12e7eaf34.addTo(map_d8ca528cf533094842b6e1cc14cdf068);\n",
       "        \n",
       "    \n",
       "            map_d8ca528cf533094842b6e1cc14cdf068.fitBounds(\n",
       "                [[50.964720483303836, 13.922224410263878], [50.96629040370362, 13.925250781947113]],\n",
       "                {}\n",
       "            );\n",
       "        \n",
       "&lt;/script&gt;\n",
       "&lt;/html&gt;\" style=\"position:absolute;width:100%;height:100%;left:0;top:0;border:none !important;\" allowfullscreen webkitallowfullscreen mozallowfullscreen></iframe></div></div>"
      ]
     },
     "execution_count": 6,
     "metadata": {},
     "output_type": "execute_result"
    }
   ],
   "execution_count": 6
  },
  {
   "cell_type": "code",
   "id": "621e2265ae79b1ae",
   "metadata": {
    "collapsed": false,
    "execution": {
     "iopub.execute_input": "2024-06-20T19:03:34.247698Z",
     "iopub.status.busy": "2024-06-20T19:03:34.247585Z",
     "iopub.status.idle": "2024-06-20T19:03:34.251097Z",
     "shell.execute_reply": "2024-06-20T19:03:34.250869Z"
    },
    "papermill": {
     "duration": 0.006574,
     "end_time": "2024-06-20T19:03:34.251852",
     "exception": false,
     "start_time": "2024-06-20T19:03:34.245278",
     "status": "completed"
    },
    "tags": [],
    "ExecuteTime": {
     "end_time": "2024-08-19T09:43:20.021868Z",
     "start_time": "2024-08-19T09:43:19.816943Z"
    }
   },
   "source": [
    "from morpheus.project.types.discretization.time.Stressperiods import EndDateTime\n",
    "\n",
    "mean_data_op_1 = general_head.observations[0].get_data_item(\n",
    "  start_date_time=StartDateTime.from_datetime(datetime(2019, 1, 1)),\n",
    "  end_date_time=EndDateTime.from_datetime(datetime(2019, 1, 1)),\n",
    ")\n",
    "mean_data_op_1"
   ],
   "outputs": [
    {
     "ename": "TypeError",
     "evalue": "GeneralHeadObservation.get_data_item() missing 1 required positional argument: 'interpolation'",
     "output_type": "error",
     "traceback": [
      "\u001B[0;31m---------------------------------------------------------------------------\u001B[0m",
      "\u001B[0;31mTypeError\u001B[0m                                 Traceback (most recent call last)",
      "Cell \u001B[0;32mIn[7], line 3\u001B[0m\n\u001B[1;32m      1\u001B[0m \u001B[38;5;28;01mfrom\u001B[39;00m \u001B[38;5;21;01mmorpheus\u001B[39;00m\u001B[38;5;21;01m.\u001B[39;00m\u001B[38;5;21;01mproject\u001B[39;00m\u001B[38;5;21;01m.\u001B[39;00m\u001B[38;5;21;01mtypes\u001B[39;00m\u001B[38;5;21;01m.\u001B[39;00m\u001B[38;5;21;01mdiscretization\u001B[39;00m\u001B[38;5;21;01m.\u001B[39;00m\u001B[38;5;21;01mtime\u001B[39;00m\u001B[38;5;21;01m.\u001B[39;00m\u001B[38;5;21;01mStressperiods\u001B[39;00m \u001B[38;5;28;01mimport\u001B[39;00m EndDateTime\n\u001B[0;32m----> 3\u001B[0m mean_data_op_1 \u001B[38;5;241m=\u001B[39m \u001B[43mgeneral_head\u001B[49m\u001B[38;5;241;43m.\u001B[39;49m\u001B[43mobservations\u001B[49m\u001B[43m[\u001B[49m\u001B[38;5;241;43m0\u001B[39;49m\u001B[43m]\u001B[49m\u001B[38;5;241;43m.\u001B[39;49m\u001B[43mget_data_item\u001B[49m\u001B[43m(\u001B[49m\n\u001B[1;32m      4\u001B[0m \u001B[43m  \u001B[49m\u001B[43mstart_date_time\u001B[49m\u001B[38;5;241;43m=\u001B[39;49m\u001B[43mStartDateTime\u001B[49m\u001B[38;5;241;43m.\u001B[39;49m\u001B[43mfrom_datetime\u001B[49m\u001B[43m(\u001B[49m\u001B[43mdatetime\u001B[49m\u001B[43m(\u001B[49m\u001B[38;5;241;43m2019\u001B[39;49m\u001B[43m,\u001B[49m\u001B[43m \u001B[49m\u001B[38;5;241;43m1\u001B[39;49m\u001B[43m,\u001B[49m\u001B[43m \u001B[49m\u001B[38;5;241;43m1\u001B[39;49m\u001B[43m)\u001B[49m\u001B[43m)\u001B[49m\u001B[43m,\u001B[49m\n\u001B[1;32m      5\u001B[0m \u001B[43m  \u001B[49m\u001B[43mend_date_time\u001B[49m\u001B[38;5;241;43m=\u001B[39;49m\u001B[43mEndDateTime\u001B[49m\u001B[38;5;241;43m.\u001B[39;49m\u001B[43mfrom_datetime\u001B[49m\u001B[43m(\u001B[49m\u001B[43mdatetime\u001B[49m\u001B[43m(\u001B[49m\u001B[38;5;241;43m2019\u001B[39;49m\u001B[43m,\u001B[49m\u001B[43m \u001B[49m\u001B[38;5;241;43m1\u001B[39;49m\u001B[43m,\u001B[49m\u001B[43m \u001B[49m\u001B[38;5;241;43m1\u001B[39;49m\u001B[43m)\u001B[49m\u001B[43m)\u001B[49m\u001B[43m,\u001B[49m\n\u001B[1;32m      6\u001B[0m \u001B[43m)\u001B[49m\n\u001B[1;32m      7\u001B[0m mean_data_op_1\n",
      "\u001B[0;31mTypeError\u001B[0m: GeneralHeadObservation.get_data_item() missing 1 required positional argument: 'interpolation'"
     ]
    }
   ],
   "execution_count": 7
  },
  {
   "cell_type": "markdown",
   "id": "b33c8f87aa3516fc",
   "metadata": {
    "collapsed": false,
    "papermill": {
     "duration": 0.00182,
     "end_time": "2024-06-20T19:03:34.255536",
     "exception": false,
     "start_time": "2024-06-20T19:03:34.253716",
     "status": "completed"
    },
    "tags": []
   },
   "source": [
    "## Calculate constant head stress periods"
   ]
  },
  {
   "cell_type": "code",
   "id": "c02b9bf2e59abc77",
   "metadata": {
    "collapsed": false,
    "execution": {
     "iopub.execute_input": "2024-06-20T19:03:34.259887Z",
     "iopub.status.busy": "2024-06-20T19:03:34.259645Z",
     "iopub.status.idle": "2024-06-20T19:03:34.545609Z",
     "shell.execute_reply": "2024-06-20T19:03:34.545324Z"
    },
    "papermill": {
     "duration": 0.28914,
     "end_time": "2024-06-20T19:03:34.546568",
     "exception": false,
     "start_time": "2024-06-20T19:03:34.257428",
     "status": "completed"
    },
    "tags": [],
    "ExecuteTime": {
     "end_time": "2024-08-19T09:43:20.022547Z",
     "start_time": "2024-08-19T09:43:20.022495Z"
    }
   },
   "source": [
    "from morpheus.project.infrastructure.calculation.engines.modflow_2005.packages.GhbPackageMapper import \\\n",
    "  calculate_ghb_boundary_stress_period_data\n",
    "\n",
    "result = calculate_ghb_boundary_stress_period_data(\n",
    "  spatial_discretization=spatial_discretization,\n",
    "  time_discretization=time_discretization,\n",
    "  layers=model.layers,\n",
    "  ghb_boundary=general_head,\n",
    ")\n",
    "result.to_dict()"
   ],
   "outputs": [],
   "execution_count": null
  },
  {
   "cell_type": "markdown",
   "id": "894da2e8cf016539",
   "metadata": {
    "collapsed": false,
    "papermill": {
     "duration": 0.002284,
     "end_time": "2024-06-20T19:03:34.551238",
     "exception": false,
     "start_time": "2024-06-20T19:03:34.548954",
     "status": "completed"
    },
    "tags": []
   },
   "source": [
    "## Setup constant head boundary with two observations"
   ]
  },
  {
   "cell_type": "code",
   "id": "46c0ee9a25e86e17",
   "metadata": {
    "collapsed": false,
    "execution": {
     "iopub.execute_input": "2024-06-20T19:03:34.556086Z",
     "iopub.status.busy": "2024-06-20T19:03:34.555880Z",
     "iopub.status.idle": "2024-06-20T19:03:34.590992Z",
     "shell.execute_reply": "2024-06-20T19:03:34.590365Z"
    },
    "papermill": {
     "duration": 0.039385,
     "end_time": "2024-06-20T19:03:34.592704",
     "exception": false,
     "start_time": "2024-06-20T19:03:34.553319",
     "status": "completed"
    },
    "tags": []
   },
   "source": [
    "from morpheus.project.types.geometry import Point\n",
    "from morpheus.project.types.boundaries.Boundary import BoundaryName\n",
    "\n",
    "layers_list = [model.layers[0].layer_id]\n",
    "general_head = GeneralHeadBoundary.from_geometry(\n",
    "  name=BoundaryName('constant_head'),\n",
    "  geometry=LineString([\n",
    "    (13.9223, 50.9662),\n",
    "    (13.9250, 50.96615),\n",
    "  ]),\n",
    "  grid=grid,\n",
    "  affected_layers=[layers_list[0]],\n",
    "  observations=[\n",
    "    GeneralHeadObservation(\n",
    "      observation_id=ObservationId.new(),\n",
    "      observation_name=ObservationName.default(),\n",
    "      geometry=Point((13.9223, 50.9662)),\n",
    "      data=[\n",
    "        GeneralHeadRawDataItem(\n",
    "          date_time=StartDateTime.from_datetime(datetime(2019, 1, 1)),\n",
    "          stage=Stage.from_float(100),\n",
    "          conductance=Conductance.from_float(10),\n",
    "        ),\n",
    "        GeneralHeadRawDataItem(\n",
    "          date_time=StartDateTime.from_datetime(datetime(2021, 12, 31)),\n",
    "          stage=Stage.from_float(300),\n",
    "          conductance=Conductance.from_float(30),\n",
    "        ),\n",
    "      ]\n",
    "    ),\n",
    "    GeneralHeadObservation(\n",
    "      observation_id=ObservationId.new(),\n",
    "      observation_name=ObservationName.default(),\n",
    "      geometry=Point((13.9250, 50.96615)),\n",
    "      data=[\n",
    "        GeneralHeadRawDataItem(\n",
    "          date_time=StartDateTime.from_datetime(datetime(2019, 1, 1)),\n",
    "          stage=Stage.from_float(200),\n",
    "          conductance=Conductance.from_float(20),\n",
    "        ),\n",
    "        GeneralHeadRawDataItem(\n",
    "          date_time=StartDateTime.from_datetime(datetime(2021, 12, 31)),\n",
    "          stage=Stage.from_float(400),\n",
    "          conductance=Conductance.from_float(40),\n",
    "        ),\n",
    "      ]\n",
    "    )\n",
    "  ]\n",
    ")\n",
    "\n",
    "m.add_child(folium.GeoJson(general_head.as_geojson()))\n",
    "m.add_child(folium.GeoJson(general_head.affected_cells.to_geojson(grid).as_geojson()))\n",
    "for general_head.observation in general_head.observations:\n",
    "  m.add_child(folium.GeoJson(general_head.observation.as_geojson()))\n",
    "m.fit_bounds(m.get_bounds())\n",
    "m"
   ],
   "outputs": [],
   "execution_count": null
  },
  {
   "cell_type": "markdown",
   "id": "2ed6c19e1f77c7c2",
   "metadata": {
    "collapsed": false,
    "papermill": {
     "duration": 0.002652,
     "end_time": "2024-06-20T19:03:34.598818",
     "exception": false,
     "start_time": "2024-06-20T19:03:34.596166",
     "status": "completed"
    },
    "tags": []
   },
   "source": [
    "## Calculate constant head stress periods"
   ]
  },
  {
   "cell_type": "code",
   "id": "61c2482657e0f072",
   "metadata": {
    "collapsed": false,
    "execution": {
     "iopub.execute_input": "2024-06-20T19:03:34.606606Z",
     "iopub.status.busy": "2024-06-20T19:03:34.605272Z",
     "iopub.status.idle": "2024-06-20T19:03:34.704664Z",
     "shell.execute_reply": "2024-06-20T19:03:34.704111Z"
    },
    "papermill": {
     "duration": 0.104747,
     "end_time": "2024-06-20T19:03:34.706234",
     "exception": false,
     "start_time": "2024-06-20T19:03:34.601487",
     "status": "completed"
    },
    "tags": []
   },
   "source": [
    "result = calculate_ghb_boundary_stress_period_data(\n",
    "  spatial_discretization=spatial_discretization,\n",
    "  time_discretization=time_discretization,\n",
    "  layers=model.layers,\n",
    "  ghb_boundary=general_head,\n",
    ")\n",
    "result.to_dict()"
   ],
   "outputs": [],
   "execution_count": null
  },
  {
   "cell_type": "code",
   "id": "231285d36e59985e",
   "metadata": {
    "papermill": {
     "duration": 0.002836,
     "end_time": "2024-06-20T19:03:34.712328",
     "exception": false,
     "start_time": "2024-06-20T19:03:34.709492",
     "status": "completed"
    },
    "tags": []
   },
   "source": [],
   "outputs": [],
   "execution_count": null
  }
 ],
 "metadata": {
  "kernelspec": {
   "display_name": "Python 3",
   "language": "python",
   "name": "python3"
  },
  "language_info": {
   "codemirror_mode": {
    "name": "ipython",
    "version": 3
   },
   "file_extension": ".py",
   "mimetype": "text/x-python",
   "name": "python",
   "nbconvert_exporter": "python",
   "pygments_lexer": "ipython3",
   "version": "3.12.2"
  },
  "papermill": {
   "default_parameters": {},
   "duration": 2.244372,
   "end_time": "2024-06-20T19:03:35.137877",
   "environment_variables": {},
   "exception": null,
   "input_path": "./notebooks/GeneralHeadBoundary.ipynb",
   "output_path": "./notebooks/GeneralHeadBoundary.ipynb",
   "parameters": {},
   "start_time": "2024-06-20T19:03:32.893505",
   "version": "2.6.0"
  }
 },
 "nbformat": 4,
 "nbformat_minor": 5
}
