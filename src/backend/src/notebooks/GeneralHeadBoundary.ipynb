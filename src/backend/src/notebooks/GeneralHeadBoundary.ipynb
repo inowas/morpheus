{
 "cells": [
  {
   "cell_type": "code",
   "execution_count": 1,
   "outputs": [],
   "source": [
    "import sys\n",
    "\n",
    "sys.path.insert(0, '..')"
   ],
   "metadata": {
    "collapsed": false,
    "ExecuteTime": {
     "end_time": "2024-01-15T20:41:20.697864Z",
     "start_time": "2024-01-15T20:41:20.674013Z"
    }
   },
   "id": "ba6761fae9d5e5cb"
  },
  {
   "cell_type": "markdown",
   "source": [
    "## Setup the model area"
   ],
   "metadata": {
    "collapsed": false
   },
   "id": "5ede1ba5e0993dd1"
  },
  {
   "cell_type": "code",
   "execution_count": 2,
   "outputs": [
    {
     "data": {
      "text/plain": "SpatialDiscretization(geometry=Polygon(coordinates=[[(13.922514437551428, 50.964720483303836), (13.925250781947113, 50.965228748412386), (13.925036413951403, 50.96623732041704), (13.92222441026388, 50.96629040370362), (13.922514437551428, 50.964720483303836)]], type='Polygon'), grid=Grid(origin=Point(coordinates=(13.922224410263878, 50.9662904037036), type='Point'), x_distances=[33.68941547288559, 33.68941547288559, 33.6894154728856, 33.689415472885585, 33.6894154728856, 33.6894154728856, 33.68941547288557, 33.6894154728856, 33.68941547288563, 33.68941547288557], y_distances=[27.74944856585935, 27.74944856585935, 27.749448565859346, 27.749448565859353, 27.74944856585934, 27.749448565859353, 27.749448565859325, 27.74944856585938, 27.749448565859325, 27.749448565859353], rotation=Rotation(value=0), length_unit=LengthUnit(unit=2)), affected_cells=GridCells(shape=(10, 10), data=[GridCell(x=0, y=0, value=True), GridCell(x=0, y=1, value=True), GridCell(x=0, y=2, value=True), GridCell(x=0, y=3, value=True), GridCell(x=0, y=4, value=True), GridCell(x=1, y=0, value=True), GridCell(x=1, y=1, value=True), GridCell(x=1, y=2, value=True), GridCell(x=1, y=3, value=True), GridCell(x=1, y=4, value=True), GridCell(x=1, y=5, value=True), GridCell(x=1, y=6, value=True), GridCell(x=1, y=7, value=True), GridCell(x=1, y=8, value=True), GridCell(x=1, y=9, value=True), GridCell(x=2, y=0, value=True), GridCell(x=2, y=1, value=True), GridCell(x=2, y=2, value=True), GridCell(x=2, y=3, value=True), GridCell(x=2, y=4, value=True), GridCell(x=2, y=5, value=True), GridCell(x=2, y=6, value=True), GridCell(x=2, y=7, value=True), GridCell(x=2, y=8, value=True), GridCell(x=3, y=0, value=True), GridCell(x=3, y=1, value=True), GridCell(x=3, y=2, value=True), GridCell(x=3, y=3, value=True), GridCell(x=3, y=4, value=True), GridCell(x=3, y=5, value=True), GridCell(x=3, y=6, value=True), GridCell(x=3, y=7, value=True), GridCell(x=3, y=8, value=True), GridCell(x=4, y=0, value=True), GridCell(x=4, y=1, value=True), GridCell(x=4, y=2, value=True), GridCell(x=4, y=3, value=True), GridCell(x=4, y=4, value=True), GridCell(x=4, y=5, value=True), GridCell(x=4, y=6, value=True), GridCell(x=4, y=7, value=True), GridCell(x=4, y=8, value=True), GridCell(x=5, y=0, value=True), GridCell(x=5, y=1, value=True), GridCell(x=5, y=2, value=True), GridCell(x=5, y=3, value=True), GridCell(x=5, y=4, value=True), GridCell(x=5, y=5, value=True), GridCell(x=5, y=6, value=True), GridCell(x=5, y=7, value=True), GridCell(x=6, y=0, value=True), GridCell(x=6, y=1, value=True), GridCell(x=6, y=2, value=True), GridCell(x=6, y=3, value=True), GridCell(x=6, y=4, value=True), GridCell(x=6, y=5, value=True), GridCell(x=6, y=6, value=True), GridCell(x=6, y=7, value=True), GridCell(x=7, y=0, value=True), GridCell(x=7, y=1, value=True), GridCell(x=7, y=2, value=True), GridCell(x=7, y=3, value=True), GridCell(x=7, y=4, value=True), GridCell(x=7, y=5, value=True), GridCell(x=7, y=6, value=True), GridCell(x=7, y=7, value=True), GridCell(x=8, y=0, value=True), GridCell(x=8, y=1, value=True), GridCell(x=8, y=2, value=True), GridCell(x=8, y=3, value=True), GridCell(x=8, y=4, value=True), GridCell(x=8, y=5, value=True), GridCell(x=8, y=6, value=True), GridCell(x=9, y=2, value=True), GridCell(x=9, y=3, value=True), GridCell(x=9, y=4, value=True), GridCell(x=9, y=5, value=True), GridCell(x=9, y=6, value=True)], cell_geometries=None), crs=Crs(value='EPSG:4326'))"
     },
     "execution_count": 2,
     "metadata": {},
     "output_type": "execute_result"
    }
   ],
   "source": [
    "from morpheus.modflow.types.discretization import SpatialDiscretization\n",
    "from morpheus.modflow.types.discretization.spatial import Rotation, LengthUnit, Grid, GridCells, Crs\n",
    "from morpheus.modflow.types.geometry import Polygon, LineString\n",
    "\n",
    "polygon = Polygon(\n",
    "  type='Polygon',\n",
    "  coordinates=[[\n",
    "    (13.922514437551428, 50.964720483303836),\n",
    "    (13.925250781947113, 50.965228748412386),\n",
    "    (13.925036413951403, 50.96623732041704),\n",
    "    (13.92222441026388, 50.96629040370362),\n",
    "    (13.922514437551428, 50.964720483303836)\n",
    "  ]]\n",
    ")\n",
    "\n",
    "rotation = Rotation(0)\n",
    "length_unit = LengthUnit.meters()\n",
    "x_coordinates = [0, 0.1, 0.2, 0.3, 0.4, 0.5, 0.6, 0.7, 0.8, 0.9, 1]\n",
    "y_coordinates = [0, 0.1, 0.2, 0.3, 0.4, 0.5, 0.6, 0.7, 0.8, 0.9, 1]\n",
    "\n",
    "grid = Grid.from_polygon_with_relative_coordinates(\n",
    "  polygon=polygon,\n",
    "  x_coordinates=x_coordinates,\n",
    "  y_coordinates=y_coordinates,\n",
    "  rotation=rotation,\n",
    ")\n",
    "\n",
    "spatial_discretization = SpatialDiscretization(\n",
    "  geometry=polygon,\n",
    "  grid=grid,\n",
    "  affected_cells=GridCells.from_polygon(polygon=polygon, grid=grid),\n",
    "  crs=Crs.from_str('EPSG:4326')\n",
    ")\n",
    "\n",
    "spatial_discretization\n"
   ],
   "metadata": {
    "collapsed": false,
    "ExecuteTime": {
     "end_time": "2024-01-15T20:41:20.877713Z",
     "start_time": "2024-01-15T20:41:20.681864Z"
    }
   },
   "id": "2f69504ab35487aa"
  },
  {
   "cell_type": "markdown",
   "source": [
    "## Setup Time Discretization"
   ],
   "metadata": {
    "collapsed": false
   },
   "id": "fa27e67f9d801845"
  },
  {
   "cell_type": "code",
   "execution_count": 3,
   "outputs": [
    {
     "data": {
      "text/plain": "TimeDiscretization(start_date_time=StartDateTime(value=datetime.datetime(2020, 1, 1, 0, 0)), end_date_time=StartDateTime(value=datetime.datetime(2020, 12, 31, 0, 0)), stress_periods=StressPeriodCollection(values=[StressPeriod(start_date_time=StartDateTime(value=datetime.datetime(2020, 1, 1, 0, 0)), number_of_time_steps=NumberOfTimeSteps(value=1), time_step_multiplier=TimeStepMultiplier(value=1), steady_state=IsSteadyState(value=True)), StressPeriod(start_date_time=StartDateTime(value=datetime.datetime(2020, 2, 1, 0, 0)), number_of_time_steps=NumberOfTimeSteps(value=1), time_step_multiplier=TimeStepMultiplier(value=1), steady_state=IsSteadyState(value=False)), StressPeriod(start_date_time=StartDateTime(value=datetime.datetime(2020, 3, 1, 0, 0)), number_of_time_steps=NumberOfTimeSteps(value=1), time_step_multiplier=TimeStepMultiplier(value=1), steady_state=IsSteadyState(value=False)), StressPeriod(start_date_time=StartDateTime(value=datetime.datetime(2020, 4, 1, 0, 0)), number_of_time_steps=NumberOfTimeSteps(value=1), time_step_multiplier=TimeStepMultiplier(value=1), steady_state=IsSteadyState(value=False)), StressPeriod(start_date_time=StartDateTime(value=datetime.datetime(2020, 5, 1, 0, 0)), number_of_time_steps=NumberOfTimeSteps(value=1), time_step_multiplier=TimeStepMultiplier(value=1), steady_state=IsSteadyState(value=False)), StressPeriod(start_date_time=StartDateTime(value=datetime.datetime(2020, 6, 1, 0, 0)), number_of_time_steps=NumberOfTimeSteps(value=1), time_step_multiplier=TimeStepMultiplier(value=1), steady_state=IsSteadyState(value=False)), StressPeriod(start_date_time=StartDateTime(value=datetime.datetime(2020, 7, 1, 0, 0)), number_of_time_steps=NumberOfTimeSteps(value=1), time_step_multiplier=TimeStepMultiplier(value=1), steady_state=IsSteadyState(value=False)), StressPeriod(start_date_time=StartDateTime(value=datetime.datetime(2020, 8, 1, 0, 0)), number_of_time_steps=NumberOfTimeSteps(value=1), time_step_multiplier=TimeStepMultiplier(value=1), steady_state=IsSteadyState(value=False)), StressPeriod(start_date_time=StartDateTime(value=datetime.datetime(2020, 9, 1, 0, 0)), number_of_time_steps=NumberOfTimeSteps(value=1), time_step_multiplier=TimeStepMultiplier(value=1), steady_state=IsSteadyState(value=False)), StressPeriod(start_date_time=StartDateTime(value=datetime.datetime(2020, 10, 1, 0, 0)), number_of_time_steps=NumberOfTimeSteps(value=1), time_step_multiplier=TimeStepMultiplier(value=1), steady_state=IsSteadyState(value=False)), StressPeriod(start_date_time=StartDateTime(value=datetime.datetime(2020, 11, 1, 0, 0)), number_of_time_steps=NumberOfTimeSteps(value=1), time_step_multiplier=TimeStepMultiplier(value=1), steady_state=IsSteadyState(value=False)), StressPeriod(start_date_time=StartDateTime(value=datetime.datetime(2020, 12, 1, 0, 0)), number_of_time_steps=NumberOfTimeSteps(value=1), time_step_multiplier=TimeStepMultiplier(value=1), steady_state=IsSteadyState(value=False))]), time_unit=TimeUnit(unit=4))"
     },
     "execution_count": 3,
     "metadata": {},
     "output_type": "execute_result"
    }
   ],
   "source": [
    "from morpheus.modflow.types.discretization.time.TimeUnit import TimeUnit\n",
    "from morpheus.modflow.types.discretization.time.Stressperiods import StartDateTime, StressPeriodCollection, \\\n",
    "  StressPeriod, NumberOfTimeSteps, TimeStepMultiplier, IsSteadyState\n",
    "from morpheus.modflow.types.discretization.time import TimeDiscretization\n",
    "from datetime import datetime\n",
    "\n",
    "time_discretization = TimeDiscretization(\n",
    "  start_date_time=StartDateTime.from_datetime(datetime(2020, 1, 1)),\n",
    "  end_date_time=StartDateTime.from_datetime(datetime(2020, 12, 31)),\n",
    "  stress_periods=StressPeriodCollection([\n",
    "    StressPeriod(\n",
    "      start_date_time=StartDateTime.from_datetime(datetime(2020, 1, 1)),\n",
    "      number_of_time_steps=NumberOfTimeSteps(1),\n",
    "      time_step_multiplier=TimeStepMultiplier(1),\n",
    "      steady_state=IsSteadyState.yes()\n",
    "    ),\n",
    "    StressPeriod(\n",
    "      start_date_time=StartDateTime.from_datetime(datetime(2020, 2, 1)),\n",
    "      number_of_time_steps=NumberOfTimeSteps(1),\n",
    "      time_step_multiplier=TimeStepMultiplier(1),\n",
    "      steady_state=IsSteadyState.no()\n",
    "    ),\n",
    "    StressPeriod(\n",
    "      start_date_time=StartDateTime.from_datetime(datetime(2020, 3, 1)),\n",
    "      number_of_time_steps=NumberOfTimeSteps(1),\n",
    "      time_step_multiplier=TimeStepMultiplier(1),\n",
    "      steady_state=IsSteadyState.no()\n",
    "    ),\n",
    "    StressPeriod(\n",
    "      start_date_time=StartDateTime.from_datetime(datetime(2020, 4, 1)),\n",
    "      number_of_time_steps=NumberOfTimeSteps(1),\n",
    "      time_step_multiplier=TimeStepMultiplier(1),\n",
    "      steady_state=IsSteadyState.no()\n",
    "    ),\n",
    "    StressPeriod(\n",
    "      start_date_time=StartDateTime.from_datetime(datetime(2020, 5, 1)),\n",
    "      number_of_time_steps=NumberOfTimeSteps(1),\n",
    "      time_step_multiplier=TimeStepMultiplier(1),\n",
    "      steady_state=IsSteadyState.no()\n",
    "    ),\n",
    "    StressPeriod(\n",
    "      start_date_time=StartDateTime.from_datetime(datetime(2020, 6, 1)),\n",
    "      number_of_time_steps=NumberOfTimeSteps(1),\n",
    "      time_step_multiplier=TimeStepMultiplier(1),\n",
    "      steady_state=IsSteadyState.no()\n",
    "    ),\n",
    "    StressPeriod(\n",
    "      start_date_time=StartDateTime.from_datetime(datetime(2020, 7, 1)),\n",
    "      number_of_time_steps=NumberOfTimeSteps(1),\n",
    "      time_step_multiplier=TimeStepMultiplier(1),\n",
    "      steady_state=IsSteadyState.no()\n",
    "    ),\n",
    "    StressPeriod(\n",
    "      start_date_time=StartDateTime.from_datetime(datetime(2020, 8, 1)),\n",
    "      number_of_time_steps=NumberOfTimeSteps(1),\n",
    "      time_step_multiplier=TimeStepMultiplier(1),\n",
    "      steady_state=IsSteadyState.no()\n",
    "    ),\n",
    "    StressPeriod(\n",
    "      start_date_time=StartDateTime.from_datetime(datetime(2020, 9, 1)),\n",
    "      number_of_time_steps=NumberOfTimeSteps(1),\n",
    "      time_step_multiplier=TimeStepMultiplier(1),\n",
    "      steady_state=IsSteadyState.no()\n",
    "    ),\n",
    "    StressPeriod(\n",
    "      start_date_time=StartDateTime.from_datetime(datetime(2020, 10, 1)),\n",
    "      number_of_time_steps=NumberOfTimeSteps(1),\n",
    "      time_step_multiplier=TimeStepMultiplier(1),\n",
    "      steady_state=IsSteadyState.no()\n",
    "    ),\n",
    "    StressPeriod(\n",
    "      start_date_time=StartDateTime.from_datetime(datetime(2020, 11, 1)),\n",
    "      number_of_time_steps=NumberOfTimeSteps(1),\n",
    "      time_step_multiplier=TimeStepMultiplier(1),\n",
    "      steady_state=IsSteadyState.no()\n",
    "    ),\n",
    "    StressPeriod(\n",
    "      start_date_time=StartDateTime.from_datetime(datetime(2020, 12, 1)),\n",
    "      number_of_time_steps=NumberOfTimeSteps(1),\n",
    "      time_step_multiplier=TimeStepMultiplier(1),\n",
    "      steady_state=IsSteadyState.no()\n",
    "    ),\n",
    "  ]),\n",
    "  time_unit=TimeUnit.days()\n",
    ")\n",
    "\n",
    "time_discretization"
   ],
   "metadata": {
    "collapsed": false,
    "ExecuteTime": {
     "end_time": "2024-01-15T20:41:20.879036Z",
     "start_time": "2024-01-15T20:41:20.858753Z"
    }
   },
   "id": "8e4e63dd138db9fc"
  },
  {
   "cell_type": "code",
   "execution_count": 4,
   "outputs": [
    {
     "data": {
      "text/plain": "<folium.folium.Map at 0x10fd7f2c0>",
      "text/html": "<div style=\"width:100%;\"><div style=\"position:relative;width:100%;height:0;padding-bottom:60%;\"><span style=\"color:#565656\">Make this Notebook Trusted to load map: File -> Trust Notebook</span><iframe srcdoc=\"&lt;!DOCTYPE html&gt;\n&lt;html&gt;\n&lt;head&gt;\n    \n    &lt;meta http-equiv=&quot;content-type&quot; content=&quot;text/html; charset=UTF-8&quot; /&gt;\n    \n        &lt;script&gt;\n            L_NO_TOUCH = false;\n            L_DISABLE_3D = false;\n        &lt;/script&gt;\n    \n    &lt;style&gt;html, body {width: 100%;height: 100%;margin: 0;padding: 0;}&lt;/style&gt;\n    &lt;style&gt;#map {position:absolute;top:0;bottom:0;right:0;left:0;}&lt;/style&gt;\n    &lt;script src=&quot;https://cdn.jsdelivr.net/npm/leaflet@1.9.3/dist/leaflet.js&quot;&gt;&lt;/script&gt;\n    &lt;script src=&quot;https://code.jquery.com/jquery-3.7.1.min.js&quot;&gt;&lt;/script&gt;\n    &lt;script src=&quot;https://cdn.jsdelivr.net/npm/bootstrap@5.2.2/dist/js/bootstrap.bundle.min.js&quot;&gt;&lt;/script&gt;\n    &lt;script src=&quot;https://cdnjs.cloudflare.com/ajax/libs/Leaflet.awesome-markers/2.0.2/leaflet.awesome-markers.js&quot;&gt;&lt;/script&gt;\n    &lt;link rel=&quot;stylesheet&quot; href=&quot;https://cdn.jsdelivr.net/npm/leaflet@1.9.3/dist/leaflet.css&quot;/&gt;\n    &lt;link rel=&quot;stylesheet&quot; href=&quot;https://cdn.jsdelivr.net/npm/bootstrap@5.2.2/dist/css/bootstrap.min.css&quot;/&gt;\n    &lt;link rel=&quot;stylesheet&quot; href=&quot;https://netdna.bootstrapcdn.com/bootstrap/3.0.0/css/bootstrap.min.css&quot;/&gt;\n    &lt;link rel=&quot;stylesheet&quot; href=&quot;https://cdn.jsdelivr.net/npm/@fortawesome/fontawesome-free@6.2.0/css/all.min.css&quot;/&gt;\n    &lt;link rel=&quot;stylesheet&quot; href=&quot;https://cdnjs.cloudflare.com/ajax/libs/Leaflet.awesome-markers/2.0.2/leaflet.awesome-markers.css&quot;/&gt;\n    &lt;link rel=&quot;stylesheet&quot; href=&quot;https://cdn.jsdelivr.net/gh/python-visualization/folium/folium/templates/leaflet.awesome.rotate.min.css&quot;/&gt;\n    \n            &lt;meta name=&quot;viewport&quot; content=&quot;width=device-width,\n                initial-scale=1.0, maximum-scale=1.0, user-scalable=no&quot; /&gt;\n            &lt;style&gt;\n                #map_769adf48881b0b220c4c9f3e902a6f92 {\n                    position: relative;\n                    width: 100.0%;\n                    height: 100.0%;\n                    left: 0.0%;\n                    top: 0.0%;\n                }\n                .leaflet-container { font-size: 1rem; }\n            &lt;/style&gt;\n        \n&lt;/head&gt;\n&lt;body&gt;\n    \n    \n            &lt;div class=&quot;folium-map&quot; id=&quot;map_769adf48881b0b220c4c9f3e902a6f92&quot; &gt;&lt;/div&gt;\n        \n&lt;/body&gt;\n&lt;script&gt;\n    \n    \n            var map_769adf48881b0b220c4c9f3e902a6f92 = L.map(\n                &quot;map_769adf48881b0b220c4c9f3e902a6f92&quot;,\n                {\n                    center: [50.965, 13.922],\n                    crs: L.CRS.EPSG3857,\n                    zoom: 12,\n                    zoomControl: true,\n                    preferCanvas: false,\n                }\n            );\n\n            \n\n        \n    \n            var tile_layer_d9341c6c6cb4b857b632861dc1d0b4b2 = L.tileLayer(\n                &quot;https://{s}.basemaps.cartocdn.com/light_all/{z}/{x}/{y}{r}.png&quot;,\n                {&quot;attribution&quot;: &quot;\\u0026copy; \\u003ca href=\\&quot;https://www.openstreetmap.org/copyright\\&quot;\\u003eOpenStreetMap\\u003c/a\\u003e contributors \\u0026copy; \\u003ca href=\\&quot;https://carto.com/attributions\\&quot;\\u003eCARTO\\u003c/a\\u003e&quot;, &quot;detectRetina&quot;: false, &quot;maxNativeZoom&quot;: 20, &quot;maxZoom&quot;: 20, &quot;minZoom&quot;: 0, &quot;noWrap&quot;: false, &quot;opacity&quot;: 1, &quot;subdomains&quot;: &quot;abcd&quot;, &quot;tms&quot;: false}\n            );\n        \n    \n            tile_layer_d9341c6c6cb4b857b632861dc1d0b4b2.addTo(map_769adf48881b0b220c4c9f3e902a6f92);\n        \n    \n\n        function geo_json_b8294d2d1f127e991a83c385c77afbfe_onEachFeature(feature, layer) {\n            layer.on({\n            });\n        };\n        var geo_json_b8294d2d1f127e991a83c385c77afbfe = L.geoJson(null, {\n                onEachFeature: geo_json_b8294d2d1f127e991a83c385c77afbfe_onEachFeature,\n            \n        });\n\n        function geo_json_b8294d2d1f127e991a83c385c77afbfe_add (data) {\n            geo_json_b8294d2d1f127e991a83c385c77afbfe\n                .addData(data);\n        }\n            geo_json_b8294d2d1f127e991a83c385c77afbfe_add({&quot;coordinates&quot;: [[[13.922514437551428, 50.964720483303836], [13.925250781947113, 50.965228748412386], [13.925036413951403, 50.96623732041704], [13.92222441026388, 50.96629040370362], [13.922514437551428, 50.964720483303836]]], &quot;type&quot;: &quot;Polygon&quot;});\n\n        \n    \n            geo_json_b8294d2d1f127e991a83c385c77afbfe.addTo(map_769adf48881b0b220c4c9f3e902a6f92);\n        \n    \n            map_769adf48881b0b220c4c9f3e902a6f92.fitBounds(\n                [[50.964720483303836, 13.92222441026388], [50.96629040370362, 13.925250781947113]],\n                {}\n            );\n        \n&lt;/script&gt;\n&lt;/html&gt;\" style=\"position:absolute;width:100%;height:100%;left:0;top:0;border:none !important;\" allowfullscreen webkitallowfullscreen mozallowfullscreen></iframe></div></div>"
     },
     "execution_count": 4,
     "metadata": {},
     "output_type": "execute_result"
    }
   ],
   "source": [
    "import folium\n",
    "\n",
    "m = folium.Map(tiles=\"cartodbpositron\", crs=\"EPSG3857\", zoom_start=12, location=[50.965, 13.922])\n",
    "m.add_child(folium.GeoJson(polygon.as_geojson()))\n",
    "\n",
    "m.fit_bounds(m.get_bounds())\n",
    "m"
   ],
   "metadata": {
    "collapsed": false,
    "ExecuteTime": {
     "end_time": "2024-01-15T20:41:21.231266Z",
     "start_time": "2024-01-15T20:41:20.866980Z"
    }
   },
   "id": "1540b870ae83f298"
  },
  {
   "cell_type": "markdown",
   "source": [
    "## Setup modflow model"
   ],
   "metadata": {
    "collapsed": false
   },
   "id": "9df9979b6c9bdbed"
  },
  {
   "cell_type": "code",
   "execution_count": 5,
   "outputs": [],
   "source": [
    "from morpheus.modflow.types.ModflowModel import ModflowModel\n",
    "\n",
    "modflow_model = ModflowModel.new()\n",
    "modflow_model = modflow_model.with_updated_time_discretization(time_discretization)\n",
    "modflow_model = modflow_model.with_updated_spatial_discretization(spatial_discretization=spatial_discretization)"
   ],
   "metadata": {
    "collapsed": false,
    "ExecuteTime": {
     "end_time": "2024-01-15T20:41:21.442834Z",
     "start_time": "2024-01-15T20:41:21.232783Z"
    }
   },
   "id": "77045c334efc769c"
  },
  {
   "cell_type": "markdown",
   "source": [
    "# Setup general head boundary with 1 observation"
   ],
   "metadata": {
    "collapsed": false
   },
   "id": "62ae3587df801000"
  },
  {
   "cell_type": "code",
   "execution_count": 6,
   "outputs": [
    {
     "data": {
      "text/plain": "<folium.folium.Map at 0x10fd7f2c0>",
      "text/html": "<div style=\"width:100%;\"><div style=\"position:relative;width:100%;height:0;padding-bottom:60%;\"><span style=\"color:#565656\">Make this Notebook Trusted to load map: File -> Trust Notebook</span><iframe srcdoc=\"&lt;!DOCTYPE html&gt;\n&lt;html&gt;\n&lt;head&gt;\n    \n    &lt;meta http-equiv=&quot;content-type&quot; content=&quot;text/html; charset=UTF-8&quot; /&gt;\n    \n        &lt;script&gt;\n            L_NO_TOUCH = false;\n            L_DISABLE_3D = false;\n        &lt;/script&gt;\n    \n    &lt;style&gt;html, body {width: 100%;height: 100%;margin: 0;padding: 0;}&lt;/style&gt;\n    &lt;style&gt;#map {position:absolute;top:0;bottom:0;right:0;left:0;}&lt;/style&gt;\n    &lt;script src=&quot;https://cdn.jsdelivr.net/npm/leaflet@1.9.3/dist/leaflet.js&quot;&gt;&lt;/script&gt;\n    &lt;script src=&quot;https://code.jquery.com/jquery-3.7.1.min.js&quot;&gt;&lt;/script&gt;\n    &lt;script src=&quot;https://cdn.jsdelivr.net/npm/bootstrap@5.2.2/dist/js/bootstrap.bundle.min.js&quot;&gt;&lt;/script&gt;\n    &lt;script src=&quot;https://cdnjs.cloudflare.com/ajax/libs/Leaflet.awesome-markers/2.0.2/leaflet.awesome-markers.js&quot;&gt;&lt;/script&gt;\n    &lt;link rel=&quot;stylesheet&quot; href=&quot;https://cdn.jsdelivr.net/npm/leaflet@1.9.3/dist/leaflet.css&quot;/&gt;\n    &lt;link rel=&quot;stylesheet&quot; href=&quot;https://cdn.jsdelivr.net/npm/bootstrap@5.2.2/dist/css/bootstrap.min.css&quot;/&gt;\n    &lt;link rel=&quot;stylesheet&quot; href=&quot;https://netdna.bootstrapcdn.com/bootstrap/3.0.0/css/bootstrap.min.css&quot;/&gt;\n    &lt;link rel=&quot;stylesheet&quot; href=&quot;https://cdn.jsdelivr.net/npm/@fortawesome/fontawesome-free@6.2.0/css/all.min.css&quot;/&gt;\n    &lt;link rel=&quot;stylesheet&quot; href=&quot;https://cdnjs.cloudflare.com/ajax/libs/Leaflet.awesome-markers/2.0.2/leaflet.awesome-markers.css&quot;/&gt;\n    &lt;link rel=&quot;stylesheet&quot; href=&quot;https://cdn.jsdelivr.net/gh/python-visualization/folium/folium/templates/leaflet.awesome.rotate.min.css&quot;/&gt;\n    \n            &lt;meta name=&quot;viewport&quot; content=&quot;width=device-width,\n                initial-scale=1.0, maximum-scale=1.0, user-scalable=no&quot; /&gt;\n            &lt;style&gt;\n                #map_769adf48881b0b220c4c9f3e902a6f92 {\n                    position: relative;\n                    width: 100.0%;\n                    height: 100.0%;\n                    left: 0.0%;\n                    top: 0.0%;\n                }\n                .leaflet-container { font-size: 1rem; }\n            &lt;/style&gt;\n        \n&lt;/head&gt;\n&lt;body&gt;\n    \n    \n            &lt;div class=&quot;folium-map&quot; id=&quot;map_769adf48881b0b220c4c9f3e902a6f92&quot; &gt;&lt;/div&gt;\n        \n&lt;/body&gt;\n&lt;script&gt;\n    \n    \n            var map_769adf48881b0b220c4c9f3e902a6f92 = L.map(\n                &quot;map_769adf48881b0b220c4c9f3e902a6f92&quot;,\n                {\n                    center: [50.965, 13.922],\n                    crs: L.CRS.EPSG3857,\n                    zoom: 12,\n                    zoomControl: true,\n                    preferCanvas: false,\n                }\n            );\n\n            \n\n        \n    \n            var tile_layer_d9341c6c6cb4b857b632861dc1d0b4b2 = L.tileLayer(\n                &quot;https://{s}.basemaps.cartocdn.com/light_all/{z}/{x}/{y}{r}.png&quot;,\n                {&quot;attribution&quot;: &quot;\\u0026copy; \\u003ca href=\\&quot;https://www.openstreetmap.org/copyright\\&quot;\\u003eOpenStreetMap\\u003c/a\\u003e contributors \\u0026copy; \\u003ca href=\\&quot;https://carto.com/attributions\\&quot;\\u003eCARTO\\u003c/a\\u003e&quot;, &quot;detectRetina&quot;: false, &quot;maxNativeZoom&quot;: 20, &quot;maxZoom&quot;: 20, &quot;minZoom&quot;: 0, &quot;noWrap&quot;: false, &quot;opacity&quot;: 1, &quot;subdomains&quot;: &quot;abcd&quot;, &quot;tms&quot;: false}\n            );\n        \n    \n            tile_layer_d9341c6c6cb4b857b632861dc1d0b4b2.addTo(map_769adf48881b0b220c4c9f3e902a6f92);\n        \n    \n\n        function geo_json_b8294d2d1f127e991a83c385c77afbfe_onEachFeature(feature, layer) {\n            layer.on({\n            });\n        };\n        var geo_json_b8294d2d1f127e991a83c385c77afbfe = L.geoJson(null, {\n                onEachFeature: geo_json_b8294d2d1f127e991a83c385c77afbfe_onEachFeature,\n            \n        });\n\n        function geo_json_b8294d2d1f127e991a83c385c77afbfe_add (data) {\n            geo_json_b8294d2d1f127e991a83c385c77afbfe\n                .addData(data);\n        }\n            geo_json_b8294d2d1f127e991a83c385c77afbfe_add({&quot;coordinates&quot;: [[[13.922514437551428, 50.964720483303836], [13.925250781947113, 50.965228748412386], [13.925036413951403, 50.96623732041704], [13.92222441026388, 50.96629040370362], [13.922514437551428, 50.964720483303836]]], &quot;type&quot;: &quot;Polygon&quot;});\n\n        \n    \n            geo_json_b8294d2d1f127e991a83c385c77afbfe.addTo(map_769adf48881b0b220c4c9f3e902a6f92);\n        \n    \n            map_769adf48881b0b220c4c9f3e902a6f92.fitBounds(\n                [[50.964720483303836, 13.92222441026388], [50.96629040370362, 13.925250781947113]],\n                {}\n            );\n        \n    \n            tile_layer_d9341c6c6cb4b857b632861dc1d0b4b2.addTo(map_769adf48881b0b220c4c9f3e902a6f92);\n        \n    \n            geo_json_b8294d2d1f127e991a83c385c77afbfe.addTo(map_769adf48881b0b220c4c9f3e902a6f92);\n        \n    \n\n        function geo_json_19f7d60a70d1aad511d4f98886fa78f4_onEachFeature(feature, layer) {\n            layer.on({\n            });\n        };\n        var geo_json_19f7d60a70d1aad511d4f98886fa78f4 = L.geoJson(null, {\n                onEachFeature: geo_json_19f7d60a70d1aad511d4f98886fa78f4_onEachFeature,\n            \n        });\n\n        function geo_json_19f7d60a70d1aad511d4f98886fa78f4_add (data) {\n            geo_json_19f7d60a70d1aad511d4f98886fa78f4\n                .addData(data);\n        }\n            geo_json_19f7d60a70d1aad511d4f98886fa78f4_add({&quot;coordinates&quot;: [[13.9223, 50.9662], [13.925, 50.96615]], &quot;type&quot;: &quot;LineString&quot;});\n\n        \n    \n            geo_json_19f7d60a70d1aad511d4f98886fa78f4.addTo(map_769adf48881b0b220c4c9f3e902a6f92);\n        \n    \n\n        function geo_json_78c588c06b6fdaf38d54afdb5833078a_onEachFeature(feature, layer) {\n            layer.on({\n            });\n        };\n        var geo_json_78c588c06b6fdaf38d54afdb5833078a = L.geoJson(null, {\n                onEachFeature: geo_json_78c588c06b6fdaf38d54afdb5833078a_onEachFeature,\n            \n        });\n\n        function geo_json_78c588c06b6fdaf38d54afdb5833078a_add (data) {\n            geo_json_78c588c06b6fdaf38d54afdb5833078a\n                .addData(data);\n        }\n            geo_json_78c588c06b6fdaf38d54afdb5833078a_add({&quot;geometries&quot;: [{&quot;coordinates&quot;: [[[13.922224410263878, 50.96629040370359], [13.922527047432201, 50.96629040370359], [13.922527047432201, 50.9661334140511], [13.922224410263878, 50.9661334140511], [13.922224410263878, 50.96629040370359]]], &quot;type&quot;: &quot;Polygon&quot;}, {&quot;coordinates&quot;: [[[13.922527047432201, 50.96629040370359], [13.922829684600526, 50.96629040370359], [13.922829684600526, 50.9661334140511], [13.922527047432201, 50.9661334140511], [13.922527047432201, 50.96629040370359]]], &quot;type&quot;: &quot;Polygon&quot;}, {&quot;coordinates&quot;: [[[13.922829684600526, 50.96629040370359], [13.923132321768849, 50.96629040370359], [13.923132321768849, 50.9661334140511], [13.922829684600526, 50.9661334140511], [13.922829684600526, 50.96629040370359]]], &quot;type&quot;: &quot;Polygon&quot;}, {&quot;coordinates&quot;: [[[13.923132321768849, 50.96629040370359], [13.923434958937172, 50.96629040370359], [13.923434958937172, 50.9661334140511], [13.923132321768849, 50.9661334140511], [13.923132321768849, 50.96629040370359]]], &quot;type&quot;: &quot;Polygon&quot;}, {&quot;coordinates&quot;: [[[13.923434958937172, 50.96629040370359], [13.923737596105495, 50.96629040370359], [13.923737596105495, 50.9661334140511], [13.923434958937172, 50.9661334140511], [13.923434958937172, 50.96629040370359]]], &quot;type&quot;: &quot;Polygon&quot;}, {&quot;coordinates&quot;: [[[13.923737596105495, 50.96629040370359], [13.924040233273818, 50.96629040370359], [13.924040233273818, 50.9661334140511], [13.923737596105495, 50.9661334140511], [13.923737596105495, 50.96629040370359]]], &quot;type&quot;: &quot;Polygon&quot;}, {&quot;coordinates&quot;: [[[13.924040233273818, 50.96629040370359], [13.924342870442143, 50.96629040370359], [13.924342870442143, 50.9661334140511], [13.924040233273818, 50.9661334140511], [13.924040233273818, 50.96629040370359]]], &quot;type&quot;: &quot;Polygon&quot;}, {&quot;coordinates&quot;: [[[13.924342870442143, 50.96629040370359], [13.924645507610466, 50.96629040370359], [13.924645507610466, 50.9661334140511], [13.924342870442143, 50.9661334140511], [13.924342870442143, 50.96629040370359]]], &quot;type&quot;: &quot;Polygon&quot;}, {&quot;coordinates&quot;: [[[13.924645507610466, 50.96629040370359], [13.92494814477879, 50.96629040370359], [13.92494814477879, 50.9661334140511], [13.924645507610466, 50.9661334140511], [13.924645507610466, 50.96629040370359]]], &quot;type&quot;: &quot;Polygon&quot;}], &quot;type&quot;: &quot;GeometryCollection&quot;});\n\n        \n    \n            geo_json_78c588c06b6fdaf38d54afdb5833078a.addTo(map_769adf48881b0b220c4c9f3e902a6f92);\n        \n    \n\n        function geo_json_078d39286d48410f9fa919907393f818_onEachFeature(feature, layer) {\n            layer.on({\n            });\n        };\n        var geo_json_078d39286d48410f9fa919907393f818 = L.geoJson(null, {\n                onEachFeature: geo_json_078d39286d48410f9fa919907393f818_onEachFeature,\n            \n        });\n\n        function geo_json_078d39286d48410f9fa919907393f818_add (data) {\n            geo_json_078d39286d48410f9fa919907393f818\n                .addData(data);\n        }\n            geo_json_078d39286d48410f9fa919907393f818_add({&quot;coordinates&quot;: [13.9223, 50.9662], &quot;type&quot;: &quot;Point&quot;});\n\n        \n    \n            geo_json_078d39286d48410f9fa919907393f818.addTo(map_769adf48881b0b220c4c9f3e902a6f92);\n        \n    \n            map_769adf48881b0b220c4c9f3e902a6f92.fitBounds(\n                [[50.964720483303836, 13.922224410263878], [50.96629040370362, 13.925250781947113]],\n                {}\n            );\n        \n&lt;/script&gt;\n&lt;/html&gt;\" style=\"position:absolute;width:100%;height:100%;left:0;top:0;border:none !important;\" allowfullscreen webkitallowfullscreen mozallowfullscreen></iframe></div></div>"
     },
     "execution_count": 6,
     "metadata": {},
     "output_type": "execute_result"
    }
   ],
   "source": [
    "from morpheus.modflow.types.geometry import Point\n",
    "from morpheus.modflow.types.boundaries.Boundary import BoundaryName, GeneralHeadBoundary\n",
    "from morpheus.modflow.types.boundaries.GeneralHeadObservation import GeneralHeadObservation, GeneralHeadRawDataItem, \\\n",
    "  ObservationId, Stage, Conductance\n",
    "\n",
    "layers_list = [modflow_model.soil_model.layers[0].id]\n",
    "general_head = GeneralHeadBoundary.from_geometry(\n",
    "  name=BoundaryName('general_head'),\n",
    "  geometry=LineString([\n",
    "    (13.9223, 50.9662),\n",
    "    (13.9250, 50.96615),\n",
    "  ]),\n",
    "  grid=grid,\n",
    "  affected_layers=[layers_list[0]],\n",
    "  observations=[\n",
    "    GeneralHeadObservation(\n",
    "      observation_id=ObservationId.new(),\n",
    "      geometry=Point((13.9223, 50.9662)),\n",
    "      raw_data=[\n",
    "        GeneralHeadRawDataItem(\n",
    "          date_time=StartDateTime.from_datetime(datetime(2019, 1, 1)),\n",
    "          stage=Stage.from_float(100),\n",
    "          conductance=Conductance.from_float(10),\n",
    "        ),\n",
    "        GeneralHeadRawDataItem(\n",
    "          date_time=StartDateTime.from_datetime(datetime(2021, 12, 31)),\n",
    "          stage=Stage.from_float(300),\n",
    "          conductance=Conductance.from_float(30),\n",
    "        ),\n",
    "      ]\n",
    "    )\n",
    "  ]\n",
    ")\n",
    "\n",
    "general_head.affected_cells = general_head.affected_cells.filter(\n",
    "  lambda cell: spatial_discretization.affected_cells.contains(cell))\n",
    "\n",
    "m.add_child(folium.GeoJson(general_head.as_geojson()))\n",
    "m.add_child(folium.GeoJson(general_head.affected_cells.as_geojson(grid).as_geojson()))\n",
    "for general_head.observation in general_head.observations:\n",
    "  m.add_child(folium.GeoJson(general_head.observation.as_geojson()))\n",
    "m.fit_bounds(m.get_bounds())\n",
    "m"
   ],
   "metadata": {
    "collapsed": false,
    "ExecuteTime": {
     "end_time": "2024-01-15T20:41:21.475502Z",
     "start_time": "2024-01-15T20:41:21.449416Z"
    }
   },
   "id": "53679913aee28ce9"
  },
  {
   "cell_type": "code",
   "execution_count": 7,
   "outputs": [
    {
     "data": {
      "text/plain": "GeneralHeadDataItem(observation_id=ObservationId(value='5f9cd137-2f49-4cc5-bc25-b084171b7c28'), start_date_time=StartDateTime(value=datetime.datetime(2019, 1, 1, 0, 0)), end_date_time=EndDateTime(value=datetime.datetime(2019, 1, 1, 0, 0)), stage=Stage(value=100.0), conductance=Conductance(value=10.0))"
     },
     "execution_count": 7,
     "metadata": {},
     "output_type": "execute_result"
    }
   ],
   "source": [
    "from morpheus.modflow.types.discretization.time.Stressperiods import EndDateTime\n",
    "\n",
    "mean_data_op_1 = general_head.observations[0].get_data_item(\n",
    "  start_date_time=StartDateTime.from_datetime(datetime(2019, 1, 1)),\n",
    "  end_date_time=EndDateTime.from_datetime(datetime(2019, 1, 1)),\n",
    ")\n",
    "mean_data_op_1"
   ],
   "metadata": {
    "collapsed": false,
    "ExecuteTime": {
     "end_time": "2024-01-15T20:41:21.479694Z",
     "start_time": "2024-01-15T20:41:21.476625Z"
    }
   },
   "id": "621e2265ae79b1ae"
  },
  {
   "cell_type": "markdown",
   "source": [
    "## Calculate constant head stress periods"
   ],
   "metadata": {
    "collapsed": false
   },
   "id": "b33c8f87aa3516fc"
  },
  {
   "cell_type": "code",
   "execution_count": 8,
   "outputs": [
    {
     "data": {
      "text/plain": "{0: [[0, 0, 0, 169.49771689497717, 16.949771689497716],\n  [0, 0, 1, 169.49771689497717, 16.949771689497716],\n  [0, 0, 2, 169.49771689497717, 16.949771689497716],\n  [0, 0, 3, 169.49771689497717, 16.949771689497716],\n  [0, 0, 4, 169.49771689497717, 16.949771689497716],\n  [0, 0, 5, 169.49771689497717, 16.949771689497716],\n  [0, 0, 6, 169.49771689497717, 16.949771689497716],\n  [0, 0, 7, 169.49771689497717, 16.949771689497716],\n  [0, 0, 8, 169.49771689497717, 16.949771689497716]],\n 1: [[0, 0, 0, 174.97716894977162, 17.49771689497717],\n  [0, 0, 1, 174.97716894977162, 17.49771689497717],\n  [0, 0, 2, 174.97716894977162, 17.49771689497717],\n  [0, 0, 3, 174.97716894977162, 17.49771689497717],\n  [0, 0, 4, 174.97716894977162, 17.49771689497717],\n  [0, 0, 5, 174.97716894977162, 17.49771689497717],\n  [0, 0, 6, 174.97716894977162, 17.49771689497717],\n  [0, 0, 7, 174.97716894977162, 17.49771689497717],\n  [0, 0, 8, 174.97716894977162, 17.49771689497717]],\n 2: [[0, 0, 0, 180.45662100456622, 18.045662100456617],\n  [0, 0, 1, 180.45662100456622, 18.045662100456617],\n  [0, 0, 2, 180.45662100456622, 18.045662100456617],\n  [0, 0, 3, 180.45662100456622, 18.045662100456617],\n  [0, 0, 4, 180.45662100456622, 18.045662100456617],\n  [0, 0, 5, 180.45662100456622, 18.045662100456617],\n  [0, 0, 6, 180.45662100456622, 18.045662100456617],\n  [0, 0, 7, 180.45662100456622, 18.045662100456617],\n  [0, 0, 8, 180.45662100456622, 18.045662100456617]],\n 3: [[0, 0, 0, 186.02739726027394, 18.602739726027398],\n  [0, 0, 1, 186.02739726027394, 18.602739726027398],\n  [0, 0, 2, 186.02739726027394, 18.602739726027398],\n  [0, 0, 3, 186.02739726027394, 18.602739726027398],\n  [0, 0, 4, 186.02739726027394, 18.602739726027398],\n  [0, 0, 5, 186.02739726027394, 18.602739726027398],\n  [0, 0, 6, 186.02739726027394, 18.602739726027398],\n  [0, 0, 7, 186.02739726027394, 18.602739726027398],\n  [0, 0, 8, 186.02739726027394, 18.602739726027398]],\n 4: [[0, 0, 0, 191.59817351598176, 19.15981735159817],\n  [0, 0, 1, 191.59817351598176, 19.15981735159817],\n  [0, 0, 2, 191.59817351598176, 19.15981735159817],\n  [0, 0, 3, 191.59817351598176, 19.15981735159817],\n  [0, 0, 4, 191.59817351598176, 19.15981735159817],\n  [0, 0, 5, 191.59817351598176, 19.15981735159817],\n  [0, 0, 6, 191.59817351598176, 19.15981735159817],\n  [0, 0, 7, 191.59817351598176, 19.15981735159817],\n  [0, 0, 8, 191.59817351598176, 19.15981735159817]],\n 5: [[0, 0, 0, 197.16894977168957, 19.716894977168952],\n  [0, 0, 1, 197.16894977168957, 19.716894977168952],\n  [0, 0, 2, 197.16894977168957, 19.716894977168952],\n  [0, 0, 3, 197.16894977168957, 19.716894977168952],\n  [0, 0, 4, 197.16894977168957, 19.716894977168952],\n  [0, 0, 5, 197.16894977168957, 19.716894977168952],\n  [0, 0, 6, 197.16894977168957, 19.716894977168952],\n  [0, 0, 7, 197.16894977168957, 19.716894977168952],\n  [0, 0, 8, 197.16894977168957, 19.716894977168952]],\n 6: [[0, 0, 0, 202.73972602739727, 20.273972602739725],\n  [0, 0, 1, 202.73972602739727, 20.273972602739725],\n  [0, 0, 2, 202.73972602739727, 20.273972602739725],\n  [0, 0, 3, 202.73972602739727, 20.273972602739725],\n  [0, 0, 4, 202.73972602739727, 20.273972602739725],\n  [0, 0, 5, 202.73972602739727, 20.273972602739725],\n  [0, 0, 6, 202.73972602739727, 20.273972602739725],\n  [0, 0, 7, 202.73972602739727, 20.273972602739725],\n  [0, 0, 8, 202.73972602739727, 20.273972602739725]],\n 7: [[0, 0, 0, 208.40182648401827, 20.84018264840183],\n  [0, 0, 1, 208.40182648401827, 20.84018264840183],\n  [0, 0, 2, 208.40182648401827, 20.84018264840183],\n  [0, 0, 3, 208.40182648401827, 20.84018264840183],\n  [0, 0, 4, 208.40182648401827, 20.84018264840183],\n  [0, 0, 5, 208.40182648401827, 20.84018264840183],\n  [0, 0, 6, 208.40182648401827, 20.84018264840183],\n  [0, 0, 7, 208.40182648401827, 20.84018264840183],\n  [0, 0, 8, 208.40182648401827, 20.84018264840183]],\n 8: [[0, 0, 0, 213.97260273972606, 21.397260273972606],\n  [0, 0, 1, 213.97260273972606, 21.397260273972606],\n  [0, 0, 2, 213.97260273972606, 21.397260273972606],\n  [0, 0, 3, 213.97260273972606, 21.397260273972606],\n  [0, 0, 4, 213.97260273972606, 21.397260273972606],\n  [0, 0, 5, 213.97260273972606, 21.397260273972606],\n  [0, 0, 6, 213.97260273972606, 21.397260273972606],\n  [0, 0, 7, 213.97260273972606, 21.397260273972606],\n  [0, 0, 8, 213.97260273972606, 21.397260273972606]],\n 9: [[0, 0, 0, 219.5433789954338, 21.954337899543383],\n  [0, 0, 1, 219.5433789954338, 21.954337899543383],\n  [0, 0, 2, 219.5433789954338, 21.954337899543383],\n  [0, 0, 3, 219.5433789954338, 21.954337899543383],\n  [0, 0, 4, 219.5433789954338, 21.954337899543383],\n  [0, 0, 5, 219.5433789954338, 21.954337899543383],\n  [0, 0, 6, 219.5433789954338, 21.954337899543383],\n  [0, 0, 7, 219.5433789954338, 21.954337899543383],\n  [0, 0, 8, 219.5433789954338, 21.954337899543383]],\n 10: [[0, 0, 0, 225.11415525114157, 22.511415525114163],\n  [0, 0, 1, 225.11415525114157, 22.511415525114163],\n  [0, 0, 2, 225.11415525114157, 22.511415525114163],\n  [0, 0, 3, 225.11415525114157, 22.511415525114163],\n  [0, 0, 4, 225.11415525114157, 22.511415525114163],\n  [0, 0, 5, 225.11415525114157, 22.511415525114163],\n  [0, 0, 6, 225.11415525114157, 22.511415525114163],\n  [0, 0, 7, 225.11415525114157, 22.511415525114163],\n  [0, 0, 8, 225.11415525114157, 22.511415525114163]],\n 11: [[0, 0, 0, 230.5936073059361, 23.05936073059361],\n  [0, 0, 1, 230.5936073059361, 23.05936073059361],\n  [0, 0, 2, 230.5936073059361, 23.05936073059361],\n  [0, 0, 3, 230.5936073059361, 23.05936073059361],\n  [0, 0, 4, 230.5936073059361, 23.05936073059361],\n  [0, 0, 5, 230.5936073059361, 23.05936073059361],\n  [0, 0, 6, 230.5936073059361, 23.05936073059361],\n  [0, 0, 7, 230.5936073059361, 23.05936073059361],\n  [0, 0, 8, 230.5936073059361, 23.05936073059361]]}"
     },
     "execution_count": 8,
     "metadata": {},
     "output_type": "execute_result"
    }
   ],
   "source": [
    "from morpheus.modflow.infrastructure.calculation.engines.modflow_2005.packages.GhbPackageMapper import \\\n",
    "  calculate_ghb_boundary_stress_period_data\n",
    "\n",
    "result = calculate_ghb_boundary_stress_period_data(\n",
    "  spatial_discretization=spatial_discretization,\n",
    "  time_discretization=time_discretization,\n",
    "  soil_model=modflow_model.soil_model,\n",
    "  ghb_boundary=general_head,\n",
    ")\n",
    "result.to_dict()"
   ],
   "metadata": {
    "collapsed": false,
    "ExecuteTime": {
     "end_time": "2024-01-15T20:41:21.856909Z",
     "start_time": "2024-01-15T20:41:21.480257Z"
    }
   },
   "id": "c02b9bf2e59abc77"
  },
  {
   "cell_type": "markdown",
   "source": [
    "## Setup constant head boundary with two observations"
   ],
   "metadata": {
    "collapsed": false
   },
   "id": "894da2e8cf016539"
  },
  {
   "cell_type": "code",
   "execution_count": 9,
   "outputs": [
    {
     "data": {
      "text/plain": "<folium.folium.Map at 0x10fd7f2c0>",
      "text/html": "<div style=\"width:100%;\"><div style=\"position:relative;width:100%;height:0;padding-bottom:60%;\"><span style=\"color:#565656\">Make this Notebook Trusted to load map: File -> Trust Notebook</span><iframe srcdoc=\"&lt;!DOCTYPE html&gt;\n&lt;html&gt;\n&lt;head&gt;\n    \n    &lt;meta http-equiv=&quot;content-type&quot; content=&quot;text/html; charset=UTF-8&quot; /&gt;\n    \n        &lt;script&gt;\n            L_NO_TOUCH = false;\n            L_DISABLE_3D = false;\n        &lt;/script&gt;\n    \n    &lt;style&gt;html, body {width: 100%;height: 100%;margin: 0;padding: 0;}&lt;/style&gt;\n    &lt;style&gt;#map {position:absolute;top:0;bottom:0;right:0;left:0;}&lt;/style&gt;\n    &lt;script src=&quot;https://cdn.jsdelivr.net/npm/leaflet@1.9.3/dist/leaflet.js&quot;&gt;&lt;/script&gt;\n    &lt;script src=&quot;https://code.jquery.com/jquery-3.7.1.min.js&quot;&gt;&lt;/script&gt;\n    &lt;script src=&quot;https://cdn.jsdelivr.net/npm/bootstrap@5.2.2/dist/js/bootstrap.bundle.min.js&quot;&gt;&lt;/script&gt;\n    &lt;script src=&quot;https://cdnjs.cloudflare.com/ajax/libs/Leaflet.awesome-markers/2.0.2/leaflet.awesome-markers.js&quot;&gt;&lt;/script&gt;\n    &lt;link rel=&quot;stylesheet&quot; href=&quot;https://cdn.jsdelivr.net/npm/leaflet@1.9.3/dist/leaflet.css&quot;/&gt;\n    &lt;link rel=&quot;stylesheet&quot; href=&quot;https://cdn.jsdelivr.net/npm/bootstrap@5.2.2/dist/css/bootstrap.min.css&quot;/&gt;\n    &lt;link rel=&quot;stylesheet&quot; href=&quot;https://netdna.bootstrapcdn.com/bootstrap/3.0.0/css/bootstrap.min.css&quot;/&gt;\n    &lt;link rel=&quot;stylesheet&quot; href=&quot;https://cdn.jsdelivr.net/npm/@fortawesome/fontawesome-free@6.2.0/css/all.min.css&quot;/&gt;\n    &lt;link rel=&quot;stylesheet&quot; href=&quot;https://cdnjs.cloudflare.com/ajax/libs/Leaflet.awesome-markers/2.0.2/leaflet.awesome-markers.css&quot;/&gt;\n    &lt;link rel=&quot;stylesheet&quot; href=&quot;https://cdn.jsdelivr.net/gh/python-visualization/folium/folium/templates/leaflet.awesome.rotate.min.css&quot;/&gt;\n    \n            &lt;meta name=&quot;viewport&quot; content=&quot;width=device-width,\n                initial-scale=1.0, maximum-scale=1.0, user-scalable=no&quot; /&gt;\n            &lt;style&gt;\n                #map_769adf48881b0b220c4c9f3e902a6f92 {\n                    position: relative;\n                    width: 100.0%;\n                    height: 100.0%;\n                    left: 0.0%;\n                    top: 0.0%;\n                }\n                .leaflet-container { font-size: 1rem; }\n            &lt;/style&gt;\n        \n&lt;/head&gt;\n&lt;body&gt;\n    \n    \n            &lt;div class=&quot;folium-map&quot; id=&quot;map_769adf48881b0b220c4c9f3e902a6f92&quot; &gt;&lt;/div&gt;\n        \n&lt;/body&gt;\n&lt;script&gt;\n    \n    \n            var map_769adf48881b0b220c4c9f3e902a6f92 = L.map(\n                &quot;map_769adf48881b0b220c4c9f3e902a6f92&quot;,\n                {\n                    center: [50.965, 13.922],\n                    crs: L.CRS.EPSG3857,\n                    zoom: 12,\n                    zoomControl: true,\n                    preferCanvas: false,\n                }\n            );\n\n            \n\n        \n    \n            var tile_layer_d9341c6c6cb4b857b632861dc1d0b4b2 = L.tileLayer(\n                &quot;https://{s}.basemaps.cartocdn.com/light_all/{z}/{x}/{y}{r}.png&quot;,\n                {&quot;attribution&quot;: &quot;\\u0026copy; \\u003ca href=\\&quot;https://www.openstreetmap.org/copyright\\&quot;\\u003eOpenStreetMap\\u003c/a\\u003e contributors \\u0026copy; \\u003ca href=\\&quot;https://carto.com/attributions\\&quot;\\u003eCARTO\\u003c/a\\u003e&quot;, &quot;detectRetina&quot;: false, &quot;maxNativeZoom&quot;: 20, &quot;maxZoom&quot;: 20, &quot;minZoom&quot;: 0, &quot;noWrap&quot;: false, &quot;opacity&quot;: 1, &quot;subdomains&quot;: &quot;abcd&quot;, &quot;tms&quot;: false}\n            );\n        \n    \n            tile_layer_d9341c6c6cb4b857b632861dc1d0b4b2.addTo(map_769adf48881b0b220c4c9f3e902a6f92);\n        \n    \n\n        function geo_json_b8294d2d1f127e991a83c385c77afbfe_onEachFeature(feature, layer) {\n            layer.on({\n            });\n        };\n        var geo_json_b8294d2d1f127e991a83c385c77afbfe = L.geoJson(null, {\n                onEachFeature: geo_json_b8294d2d1f127e991a83c385c77afbfe_onEachFeature,\n            \n        });\n\n        function geo_json_b8294d2d1f127e991a83c385c77afbfe_add (data) {\n            geo_json_b8294d2d1f127e991a83c385c77afbfe\n                .addData(data);\n        }\n            geo_json_b8294d2d1f127e991a83c385c77afbfe_add({&quot;coordinates&quot;: [[[13.922514437551428, 50.964720483303836], [13.925250781947113, 50.965228748412386], [13.925036413951403, 50.96623732041704], [13.92222441026388, 50.96629040370362], [13.922514437551428, 50.964720483303836]]], &quot;type&quot;: &quot;Polygon&quot;});\n\n        \n    \n            geo_json_b8294d2d1f127e991a83c385c77afbfe.addTo(map_769adf48881b0b220c4c9f3e902a6f92);\n        \n    \n            map_769adf48881b0b220c4c9f3e902a6f92.fitBounds(\n                [[50.964720483303836, 13.92222441026388], [50.96629040370362, 13.925250781947113]],\n                {}\n            );\n        \n    \n            tile_layer_d9341c6c6cb4b857b632861dc1d0b4b2.addTo(map_769adf48881b0b220c4c9f3e902a6f92);\n        \n    \n            geo_json_b8294d2d1f127e991a83c385c77afbfe.addTo(map_769adf48881b0b220c4c9f3e902a6f92);\n        \n    \n\n        function geo_json_19f7d60a70d1aad511d4f98886fa78f4_onEachFeature(feature, layer) {\n            layer.on({\n            });\n        };\n        var geo_json_19f7d60a70d1aad511d4f98886fa78f4 = L.geoJson(null, {\n                onEachFeature: geo_json_19f7d60a70d1aad511d4f98886fa78f4_onEachFeature,\n            \n        });\n\n        function geo_json_19f7d60a70d1aad511d4f98886fa78f4_add (data) {\n            geo_json_19f7d60a70d1aad511d4f98886fa78f4\n                .addData(data);\n        }\n            geo_json_19f7d60a70d1aad511d4f98886fa78f4_add({&quot;coordinates&quot;: [[13.9223, 50.9662], [13.925, 50.96615]], &quot;type&quot;: &quot;LineString&quot;});\n\n        \n    \n            geo_json_19f7d60a70d1aad511d4f98886fa78f4.addTo(map_769adf48881b0b220c4c9f3e902a6f92);\n        \n    \n\n        function geo_json_78c588c06b6fdaf38d54afdb5833078a_onEachFeature(feature, layer) {\n            layer.on({\n            });\n        };\n        var geo_json_78c588c06b6fdaf38d54afdb5833078a = L.geoJson(null, {\n                onEachFeature: geo_json_78c588c06b6fdaf38d54afdb5833078a_onEachFeature,\n            \n        });\n\n        function geo_json_78c588c06b6fdaf38d54afdb5833078a_add (data) {\n            geo_json_78c588c06b6fdaf38d54afdb5833078a\n                .addData(data);\n        }\n            geo_json_78c588c06b6fdaf38d54afdb5833078a_add({&quot;geometries&quot;: [{&quot;coordinates&quot;: [[[13.922224410263878, 50.96629040370359], [13.922527047432201, 50.96629040370359], [13.922527047432201, 50.9661334140511], [13.922224410263878, 50.9661334140511], [13.922224410263878, 50.96629040370359]]], &quot;type&quot;: &quot;Polygon&quot;}, {&quot;coordinates&quot;: [[[13.922527047432201, 50.96629040370359], [13.922829684600526, 50.96629040370359], [13.922829684600526, 50.9661334140511], [13.922527047432201, 50.9661334140511], [13.922527047432201, 50.96629040370359]]], &quot;type&quot;: &quot;Polygon&quot;}, {&quot;coordinates&quot;: [[[13.922829684600526, 50.96629040370359], [13.923132321768849, 50.96629040370359], [13.923132321768849, 50.9661334140511], [13.922829684600526, 50.9661334140511], [13.922829684600526, 50.96629040370359]]], &quot;type&quot;: &quot;Polygon&quot;}, {&quot;coordinates&quot;: [[[13.923132321768849, 50.96629040370359], [13.923434958937172, 50.96629040370359], [13.923434958937172, 50.9661334140511], [13.923132321768849, 50.9661334140511], [13.923132321768849, 50.96629040370359]]], &quot;type&quot;: &quot;Polygon&quot;}, {&quot;coordinates&quot;: [[[13.923434958937172, 50.96629040370359], [13.923737596105495, 50.96629040370359], [13.923737596105495, 50.9661334140511], [13.923434958937172, 50.9661334140511], [13.923434958937172, 50.96629040370359]]], &quot;type&quot;: &quot;Polygon&quot;}, {&quot;coordinates&quot;: [[[13.923737596105495, 50.96629040370359], [13.924040233273818, 50.96629040370359], [13.924040233273818, 50.9661334140511], [13.923737596105495, 50.9661334140511], [13.923737596105495, 50.96629040370359]]], &quot;type&quot;: &quot;Polygon&quot;}, {&quot;coordinates&quot;: [[[13.924040233273818, 50.96629040370359], [13.924342870442143, 50.96629040370359], [13.924342870442143, 50.9661334140511], [13.924040233273818, 50.9661334140511], [13.924040233273818, 50.96629040370359]]], &quot;type&quot;: &quot;Polygon&quot;}, {&quot;coordinates&quot;: [[[13.924342870442143, 50.96629040370359], [13.924645507610466, 50.96629040370359], [13.924645507610466, 50.9661334140511], [13.924342870442143, 50.9661334140511], [13.924342870442143, 50.96629040370359]]], &quot;type&quot;: &quot;Polygon&quot;}, {&quot;coordinates&quot;: [[[13.924645507610466, 50.96629040370359], [13.92494814477879, 50.96629040370359], [13.92494814477879, 50.9661334140511], [13.924645507610466, 50.9661334140511], [13.924645507610466, 50.96629040370359]]], &quot;type&quot;: &quot;Polygon&quot;}], &quot;type&quot;: &quot;GeometryCollection&quot;});\n\n        \n    \n            geo_json_78c588c06b6fdaf38d54afdb5833078a.addTo(map_769adf48881b0b220c4c9f3e902a6f92);\n        \n    \n\n        function geo_json_078d39286d48410f9fa919907393f818_onEachFeature(feature, layer) {\n            layer.on({\n            });\n        };\n        var geo_json_078d39286d48410f9fa919907393f818 = L.geoJson(null, {\n                onEachFeature: geo_json_078d39286d48410f9fa919907393f818_onEachFeature,\n            \n        });\n\n        function geo_json_078d39286d48410f9fa919907393f818_add (data) {\n            geo_json_078d39286d48410f9fa919907393f818\n                .addData(data);\n        }\n            geo_json_078d39286d48410f9fa919907393f818_add({&quot;coordinates&quot;: [13.9223, 50.9662], &quot;type&quot;: &quot;Point&quot;});\n\n        \n    \n            geo_json_078d39286d48410f9fa919907393f818.addTo(map_769adf48881b0b220c4c9f3e902a6f92);\n        \n    \n            map_769adf48881b0b220c4c9f3e902a6f92.fitBounds(\n                [[50.964720483303836, 13.922224410263878], [50.96629040370362, 13.925250781947113]],\n                {}\n            );\n        \n    \n            tile_layer_d9341c6c6cb4b857b632861dc1d0b4b2.addTo(map_769adf48881b0b220c4c9f3e902a6f92);\n        \n    \n            geo_json_b8294d2d1f127e991a83c385c77afbfe.addTo(map_769adf48881b0b220c4c9f3e902a6f92);\n        \n    \n            geo_json_19f7d60a70d1aad511d4f98886fa78f4.addTo(map_769adf48881b0b220c4c9f3e902a6f92);\n        \n    \n            geo_json_78c588c06b6fdaf38d54afdb5833078a.addTo(map_769adf48881b0b220c4c9f3e902a6f92);\n        \n    \n            geo_json_078d39286d48410f9fa919907393f818.addTo(map_769adf48881b0b220c4c9f3e902a6f92);\n        \n    \n\n        function geo_json_9b8761e9452d486b83e3726836102420_onEachFeature(feature, layer) {\n            layer.on({\n            });\n        };\n        var geo_json_9b8761e9452d486b83e3726836102420 = L.geoJson(null, {\n                onEachFeature: geo_json_9b8761e9452d486b83e3726836102420_onEachFeature,\n            \n        });\n\n        function geo_json_9b8761e9452d486b83e3726836102420_add (data) {\n            geo_json_9b8761e9452d486b83e3726836102420\n                .addData(data);\n        }\n            geo_json_9b8761e9452d486b83e3726836102420_add({&quot;coordinates&quot;: [[13.9223, 50.9662], [13.925, 50.96615]], &quot;type&quot;: &quot;LineString&quot;});\n\n        \n    \n            geo_json_9b8761e9452d486b83e3726836102420.addTo(map_769adf48881b0b220c4c9f3e902a6f92);\n        \n    \n\n        function geo_json_c76f474bd54f033f68360dc17c03168b_onEachFeature(feature, layer) {\n            layer.on({\n            });\n        };\n        var geo_json_c76f474bd54f033f68360dc17c03168b = L.geoJson(null, {\n                onEachFeature: geo_json_c76f474bd54f033f68360dc17c03168b_onEachFeature,\n            \n        });\n\n        function geo_json_c76f474bd54f033f68360dc17c03168b_add (data) {\n            geo_json_c76f474bd54f033f68360dc17c03168b\n                .addData(data);\n        }\n            geo_json_c76f474bd54f033f68360dc17c03168b_add({&quot;geometries&quot;: [{&quot;coordinates&quot;: [[[13.922224410263878, 50.96629040370359], [13.922527047432201, 50.96629040370359], [13.922527047432201, 50.9661334140511], [13.922224410263878, 50.9661334140511], [13.922224410263878, 50.96629040370359]]], &quot;type&quot;: &quot;Polygon&quot;}, {&quot;coordinates&quot;: [[[13.922527047432201, 50.96629040370359], [13.922829684600526, 50.96629040370359], [13.922829684600526, 50.9661334140511], [13.922527047432201, 50.9661334140511], [13.922527047432201, 50.96629040370359]]], &quot;type&quot;: &quot;Polygon&quot;}, {&quot;coordinates&quot;: [[[13.922829684600526, 50.96629040370359], [13.923132321768849, 50.96629040370359], [13.923132321768849, 50.9661334140511], [13.922829684600526, 50.9661334140511], [13.922829684600526, 50.96629040370359]]], &quot;type&quot;: &quot;Polygon&quot;}, {&quot;coordinates&quot;: [[[13.923132321768849, 50.96629040370359], [13.923434958937172, 50.96629040370359], [13.923434958937172, 50.9661334140511], [13.923132321768849, 50.9661334140511], [13.923132321768849, 50.96629040370359]]], &quot;type&quot;: &quot;Polygon&quot;}, {&quot;coordinates&quot;: [[[13.923434958937172, 50.96629040370359], [13.923737596105495, 50.96629040370359], [13.923737596105495, 50.9661334140511], [13.923434958937172, 50.9661334140511], [13.923434958937172, 50.96629040370359]]], &quot;type&quot;: &quot;Polygon&quot;}, {&quot;coordinates&quot;: [[[13.923737596105495, 50.96629040370359], [13.924040233273818, 50.96629040370359], [13.924040233273818, 50.9661334140511], [13.923737596105495, 50.9661334140511], [13.923737596105495, 50.96629040370359]]], &quot;type&quot;: &quot;Polygon&quot;}, {&quot;coordinates&quot;: [[[13.924040233273818, 50.96629040370359], [13.924342870442143, 50.96629040370359], [13.924342870442143, 50.9661334140511], [13.924040233273818, 50.9661334140511], [13.924040233273818, 50.96629040370359]]], &quot;type&quot;: &quot;Polygon&quot;}, {&quot;coordinates&quot;: [[[13.924342870442143, 50.96629040370359], [13.924645507610466, 50.96629040370359], [13.924645507610466, 50.9661334140511], [13.924342870442143, 50.9661334140511], [13.924342870442143, 50.96629040370359]]], &quot;type&quot;: &quot;Polygon&quot;}, {&quot;coordinates&quot;: [[[13.924645507610466, 50.96629040370359], [13.92494814477879, 50.96629040370359], [13.92494814477879, 50.9661334140511], [13.924645507610466, 50.9661334140511], [13.924645507610466, 50.96629040370359]]], &quot;type&quot;: &quot;Polygon&quot;}, {&quot;coordinates&quot;: [[[13.92494814477879, 50.96629040370359], [13.925250781947113, 50.96629040370359], [13.925250781947113, 50.9661334140511], [13.92494814477879, 50.9661334140511], [13.92494814477879, 50.96629040370359]]], &quot;type&quot;: &quot;Polygon&quot;}], &quot;type&quot;: &quot;GeometryCollection&quot;});\n\n        \n    \n            geo_json_c76f474bd54f033f68360dc17c03168b.addTo(map_769adf48881b0b220c4c9f3e902a6f92);\n        \n    \n\n        function geo_json_bde94c20ec02a0b8a268efeb7b6788d3_onEachFeature(feature, layer) {\n            layer.on({\n            });\n        };\n        var geo_json_bde94c20ec02a0b8a268efeb7b6788d3 = L.geoJson(null, {\n                onEachFeature: geo_json_bde94c20ec02a0b8a268efeb7b6788d3_onEachFeature,\n            \n        });\n\n        function geo_json_bde94c20ec02a0b8a268efeb7b6788d3_add (data) {\n            geo_json_bde94c20ec02a0b8a268efeb7b6788d3\n                .addData(data);\n        }\n            geo_json_bde94c20ec02a0b8a268efeb7b6788d3_add({&quot;coordinates&quot;: [13.9223, 50.9662], &quot;type&quot;: &quot;Point&quot;});\n\n        \n    \n            geo_json_bde94c20ec02a0b8a268efeb7b6788d3.addTo(map_769adf48881b0b220c4c9f3e902a6f92);\n        \n    \n\n        function geo_json_8ccfdecef96e08ae69e97937d138b6ac_onEachFeature(feature, layer) {\n            layer.on({\n            });\n        };\n        var geo_json_8ccfdecef96e08ae69e97937d138b6ac = L.geoJson(null, {\n                onEachFeature: geo_json_8ccfdecef96e08ae69e97937d138b6ac_onEachFeature,\n            \n        });\n\n        function geo_json_8ccfdecef96e08ae69e97937d138b6ac_add (data) {\n            geo_json_8ccfdecef96e08ae69e97937d138b6ac\n                .addData(data);\n        }\n            geo_json_8ccfdecef96e08ae69e97937d138b6ac_add({&quot;coordinates&quot;: [13.925, 50.96615], &quot;type&quot;: &quot;Point&quot;});\n\n        \n    \n            geo_json_8ccfdecef96e08ae69e97937d138b6ac.addTo(map_769adf48881b0b220c4c9f3e902a6f92);\n        \n    \n            map_769adf48881b0b220c4c9f3e902a6f92.fitBounds(\n                [[50.964720483303836, 13.922224410263878], [50.96629040370362, 13.925250781947113]],\n                {}\n            );\n        \n&lt;/script&gt;\n&lt;/html&gt;\" style=\"position:absolute;width:100%;height:100%;left:0;top:0;border:none !important;\" allowfullscreen webkitallowfullscreen mozallowfullscreen></iframe></div></div>"
     },
     "execution_count": 9,
     "metadata": {},
     "output_type": "execute_result"
    }
   ],
   "source": [
    "from morpheus.modflow.types.geometry import Point\n",
    "from morpheus.modflow.types.boundaries.Boundary import BoundaryName\n",
    "\n",
    "layers_list = [modflow_model.soil_model.layers[0].id]\n",
    "general_head = GeneralHeadBoundary.from_geometry(\n",
    "  name=BoundaryName('constant_head'),\n",
    "  geometry=LineString([\n",
    "    (13.9223, 50.9662),\n",
    "    (13.9250, 50.96615),\n",
    "  ]),\n",
    "  grid=grid,\n",
    "  affected_layers=[layers_list[0]],\n",
    "  observations=[\n",
    "    GeneralHeadObservation(\n",
    "      observation_id=ObservationId.new(),\n",
    "      geometry=Point((13.9223, 50.9662)),\n",
    "      raw_data=[\n",
    "        GeneralHeadRawDataItem(\n",
    "          date_time=StartDateTime.from_datetime(datetime(2019, 1, 1)),\n",
    "          stage=Stage.from_float(100),\n",
    "          conductance=Conductance.from_float(10),\n",
    "        ),\n",
    "        GeneralHeadRawDataItem(\n",
    "          date_time=StartDateTime.from_datetime(datetime(2021, 12, 31)),\n",
    "          stage=Stage.from_float(300),\n",
    "          conductance=Conductance.from_float(30),\n",
    "        ),\n",
    "      ]\n",
    "    ),\n",
    "    GeneralHeadObservation(\n",
    "      observation_id=ObservationId.new(),\n",
    "      geometry=Point((13.9250, 50.96615)),\n",
    "      raw_data=[\n",
    "        GeneralHeadRawDataItem(\n",
    "          date_time=StartDateTime.from_datetime(datetime(2019, 1, 1)),\n",
    "          stage=Stage.from_float(200),\n",
    "          conductance=Conductance.from_float(20),\n",
    "        ),\n",
    "        GeneralHeadRawDataItem(\n",
    "          date_time=StartDateTime.from_datetime(datetime(2021, 12, 31)),\n",
    "          stage=Stage.from_float(400),\n",
    "          conductance=Conductance.from_float(40),\n",
    "        ),\n",
    "      ]\n",
    "    )\n",
    "  ]\n",
    ")\n",
    "\n",
    "m.add_child(folium.GeoJson(general_head.as_geojson()))\n",
    "m.add_child(folium.GeoJson(general_head.affected_cells.as_geojson(grid).as_geojson()))\n",
    "for general_head.observation in general_head.observations:\n",
    "  m.add_child(folium.GeoJson(general_head.observation.as_geojson()))\n",
    "m.fit_bounds(m.get_bounds())\n",
    "m"
   ],
   "metadata": {
    "collapsed": false,
    "ExecuteTime": {
     "end_time": "2024-01-15T20:41:21.899114Z",
     "start_time": "2024-01-15T20:41:21.855325Z"
    }
   },
   "id": "46c0ee9a25e86e17"
  },
  {
   "cell_type": "markdown",
   "source": [
    "## Calculate constant head stress periods"
   ],
   "metadata": {
    "collapsed": false
   },
   "id": "2ed6c19e1f77c7c2"
  },
  {
   "cell_type": "code",
   "execution_count": 10,
   "outputs": [
    {
     "data": {
      "text/plain": "{0: [[0, 0, 0, 172.29336231877846, 17.229336231877845],\n  [0, 0, 1, 183.49830375816256, 18.349830375816254],\n  [0, 0, 2, 194.70324519767817, 19.470324519767814],\n  [0, 0, 3, 205.90818663712804, 20.590818663712803],\n  [0, 0, 4, 217.11312807657788, 21.711312807657787],\n  [0, 0, 5, 228.31806951602775, 22.831806951602772],\n  [0, 0, 6, 239.52301095547762, 23.952301095547757],\n  [0, 0, 7, 250.72795239492746, 25.07279523949274],\n  [0, 0, 8, 261.9328938344431, 26.193289383444306]],\n 1: [[0, 0, 0, 177.7728143735729, 17.7772814373573],\n  [0, 0, 1, 188.977755812957, 18.897775581295708],\n  [0, 0, 2, 200.18269725247265, 20.01826972524727],\n  [0, 0, 3, 211.3876386919225, 21.138763869192253],\n  [0, 0, 4, 222.59258013137236, 22.25925801313724],\n  [0, 0, 5, 233.7975215708222, 23.379752157082223],\n  [0, 0, 6, 245.00246301027207, 24.500246301027207],\n  [0, 0, 7, 256.20740444972193, 25.620740444972196],\n  [0, 0, 8, 267.4123458892376, 26.741234588923756]],\n 2: [[0, 0, 0, 183.2522664283675, 18.325226642836746],\n  [0, 0, 1, 194.4572078677516, 19.445720786775155],\n  [0, 0, 2, 205.6621493072672, 20.56621493072672],\n  [0, 0, 3, 216.86709074671705, 21.686709074671704],\n  [0, 0, 4, 228.07203218616692, 22.80720321861669],\n  [0, 0, 5, 239.27697362561676, 23.927697362561673],\n  [0, 0, 6, 250.48191506506663, 25.04819150650666],\n  [0, 0, 7, 261.6868565045165, 26.16868565045165],\n  [0, 0, 8, 272.89179794403213, 27.28917979440321]],\n 3: [[0, 0, 0, 188.82304268407523, 18.882304268407527],\n  [0, 0, 1, 200.02798412345933, 20.002798412345935],\n  [0, 0, 2, 211.23292556297494, 21.1232925562975],\n  [0, 0, 3, 222.4378670024248, 22.243786700242484],\n  [0, 0, 4, 233.64280844187465, 23.36428084418747],\n  [0, 0, 5, 244.84774988132452, 24.484774988132457],\n  [0, 0, 6, 256.0526913207744, 25.605269132077442],\n  [0, 0, 7, 267.2576327602242, 26.725763276022427],\n  [0, 0, 8, 278.4625741997399, 27.84625741997399]],\n 4: [[0, 0, 0, 194.39381893978305, 19.4393818939783],\n  [0, 0, 1, 205.59876037916712, 20.55987603791671],\n  [0, 0, 2, 216.80370181868275, 21.68037018186827],\n  [0, 0, 3, 228.0086432581326, 22.800864325813258],\n  [0, 0, 4, 239.21358469758246, 23.921358469758243],\n  [0, 0, 5, 250.4185261370323, 25.041852613703227],\n  [0, 0, 6, 261.62346757648214, 26.162346757648212],\n  [0, 0, 7, 272.82840901593204, 27.282840901593197],\n  [0, 0, 8, 284.03335045544765, 28.40333504554476]],\n 5: [[0, 0, 0, 199.96459519549086, 19.99645951954908],\n  [0, 0, 1, 211.16953663487493, 21.11695366348749],\n  [0, 0, 2, 222.37447807439054, 22.237447807439054],\n  [0, 0, 3, 233.57941951384038, 23.357941951384035],\n  [0, 0, 4, 244.78436095329025, 24.478436095329023],\n  [0, 0, 5, 255.98930239274006, 25.598930239274008],\n  [0, 0, 6, 267.1942438321899, 26.719424383218993],\n  [0, 0, 7, 278.3991852716398, 27.83991852716398],\n  [0, 0, 8, 289.6041267111554, 28.96041267111554]],\n 6: [[0, 0, 0, 205.53537145119856, 20.553537145119854],\n  [0, 0, 1, 216.74031289058266, 21.674031289058263],\n  [0, 0, 2, 227.94525433009827, 22.794525433009824],\n  [0, 0, 3, 239.15019576954813, 23.915019576954812],\n  [0, 0, 4, 250.35513720899797, 25.035513720899797],\n  [0, 0, 5, 261.5600786484478, 26.15600786484478],\n  [0, 0, 6, 272.7650200878977, 27.276502008789766],\n  [0, 0, 7, 283.96996152734755, 28.39699615273475],\n  [0, 0, 8, 295.1749029668632, 29.517490296686315]],\n 7: [[0, 0, 0, 211.19747190781956, 21.119747190781958],\n  [0, 0, 1, 222.40241334720366, 22.240241334720366],\n  [0, 0, 2, 233.60735478671927, 23.360735478671927],\n  [0, 0, 3, 244.8122962261691, 24.481229622616915],\n  [0, 0, 4, 256.01723766561895, 25.6017237665619],\n  [0, 0, 5, 267.22217910506885, 26.722217910506885],\n  [0, 0, 6, 278.4271205445187, 27.84271205445187],\n  [0, 0, 7, 289.6320619839686, 28.963206198396854],\n  [0, 0, 8, 300.8370034234842, 30.08370034234842]],\n 8: [[0, 0, 0, 216.76824816352735, 21.676824816352735],\n  [0, 0, 1, 227.97318960291142, 22.797318960291143],\n  [0, 0, 2, 239.17813104242705, 23.917813104242704],\n  [0, 0, 3, 250.3830724818769, 25.038307248187692],\n  [0, 0, 4, 261.58801392132676, 26.158801392132677],\n  [0, 0, 5, 272.7929553607766, 27.27929553607766],\n  [0, 0, 6, 283.99789680022644, 28.399789680022646],\n  [0, 0, 7, 295.20283823967634, 29.52028382396763],\n  [0, 0, 8, 306.40777967919195, 30.640777967919195]],\n 9: [[0, 0, 0, 222.3390244192351, 22.23390244192351],\n  [0, 0, 1, 233.54396585861917, 23.35439658586192],\n  [0, 0, 2, 244.7489072981348, 24.47489072981348],\n  [0, 0, 3, 255.95384873758465, 25.59538487375847],\n  [0, 0, 4, 267.1587901770345, 26.715879017703454],\n  [0, 0, 5, 278.36373161648436, 27.83637316164844],\n  [0, 0, 6, 289.5686730559342, 28.956867305593423],\n  [0, 0, 7, 300.7736144953841, 30.077361449538408],\n  [0, 0, 8, 311.9785559348997, 31.197855593489972]],\n 10: [[0, 0, 0, 227.90980067494286, 22.790980067494292],\n  [0, 0, 1, 239.11474211432693, 23.9114742114327],\n  [0, 0, 2, 250.31968355384257, 25.03196835538426],\n  [0, 0, 3, 261.5246249932924, 26.152462499329243],\n  [0, 0, 4, 272.7295664327423, 27.272956643274227],\n  [0, 0, 5, 283.9345078721921, 28.393450787219212],\n  [0, 0, 6, 295.13944931164195, 29.513944931164197],\n  [0, 0, 7, 306.34439075109185, 30.63443907510918],\n  [0, 0, 8, 317.54933219060746, 31.754933219060746]],\n 11: [[0, 0, 0, 233.3892527297374, 23.33892527297374],\n  [0, 0, 1, 244.59419416912147, 24.459419416912148],\n  [0, 0, 2, 255.7991356086371, 25.57991356086371],\n  [0, 0, 3, 267.00407704808697, 26.700407704808697],\n  [0, 0, 4, 278.2090184875368, 27.82090184875368],\n  [0, 0, 5, 289.41395992698665, 28.941395992698666],\n  [0, 0, 6, 300.6189013664365, 30.06189013664365],\n  [0, 0, 7, 311.82384280588633, 31.182384280588636],\n  [0, 0, 8, 323.028784245402, 32.3028784245402]]}"
     },
     "execution_count": 10,
     "metadata": {},
     "output_type": "execute_result"
    }
   ],
   "source": [
    "\n",
    "\n",
    "result = calculate_ghb_boundary_stress_period_data(\n",
    "  spatial_discretization=spatial_discretization,\n",
    "  time_discretization=time_discretization,\n",
    "  soil_model=modflow_model.soil_model,\n",
    "  ghb_boundary=general_head,\n",
    ")\n",
    "result.to_dict()"
   ],
   "metadata": {
    "collapsed": false,
    "ExecuteTime": {
     "end_time": "2024-01-15T20:41:21.974690Z",
     "start_time": "2024-01-15T20:41:21.881200Z"
    }
   },
   "id": "61c2482657e0f072"
  }
 ],
 "metadata": {
  "kernelspec": {
   "display_name": "Python 3",
   "language": "python",
   "name": "python3"
  },
  "language_info": {
   "codemirror_mode": {
    "name": "ipython",
    "version": 2
   },
   "file_extension": ".py",
   "mimetype": "text/x-python",
   "name": "python",
   "nbconvert_exporter": "python",
   "pygments_lexer": "ipython2",
   "version": "2.7.6"
  }
 },
 "nbformat": 4,
 "nbformat_minor": 5
}
