{
 "cells": [
  {
   "cell_type": "code",
   "id": "ba6761fae9d5e5cb",
   "metadata": {
    "collapsed": false,
    "execution": {
     "iopub.execute_input": "2024-06-20T19:02:55.250528Z",
     "iopub.status.busy": "2024-06-20T19:02:55.249962Z",
     "iopub.status.idle": "2024-06-20T19:02:55.257111Z",
     "shell.execute_reply": "2024-06-20T19:02:55.256125Z"
    },
    "papermill": {
     "duration": 0.022462,
     "end_time": "2024-06-20T19:02:55.259989",
     "exception": false,
     "start_time": "2024-06-20T19:02:55.237527",
     "status": "completed"
    },
    "tags": [],
    "ExecuteTime": {
     "end_time": "2024-07-02T13:29:17.085423Z",
     "start_time": "2024-07-02T13:29:17.082413Z"
    }
   },
   "source": [
    "import sys\n",
    "\n",
    "sys.path.insert(0, '..')"
   ],
   "outputs": [],
   "execution_count": 1
  },
  {
   "cell_type": "markdown",
   "id": "5ede1ba5e0993dd1",
   "metadata": {
    "collapsed": false,
    "papermill": {
     "duration": 0.004494,
     "end_time": "2024-06-20T19:02:55.270005",
     "exception": false,
     "start_time": "2024-06-20T19:02:55.265511",
     "status": "completed"
    },
    "tags": []
   },
   "source": [
    "## Setup the model area"
   ]
  },
  {
   "cell_type": "code",
   "id": "2f69504ab35487aa",
   "metadata": {
    "collapsed": false,
    "execution": {
     "iopub.execute_input": "2024-06-20T19:02:55.278584Z",
     "iopub.status.busy": "2024-06-20T19:02:55.278166Z",
     "iopub.status.idle": "2024-06-20T19:02:55.423396Z",
     "shell.execute_reply": "2024-06-20T19:02:55.422571Z"
    },
    "papermill": {
     "duration": 0.153464,
     "end_time": "2024-06-20T19:02:55.427183",
     "exception": false,
     "start_time": "2024-06-20T19:02:55.273719",
     "status": "completed"
    },
    "tags": [],
    "ExecuteTime": {
     "end_time": "2024-07-02T13:29:17.230261Z",
     "start_time": "2024-07-02T13:29:17.086444Z"
    }
   },
   "source": [
    "from morpheus.project.types.discretization import SpatialDiscretization\n",
    "from morpheus.project.types.discretization.spatial import Rotation, LengthUnit, Grid, ActiveCells, Crs\n",
    "from morpheus.project.types.geometry import Polygon\n",
    "from morpheus.project.types.discretization.time.TimeUnit import TimeUnit\n",
    "from morpheus.project.types.discretization.time.Stressperiods import StartDateTime, StressPeriodCollection, StressPeriod, NumberOfTimeSteps, TimeStepMultiplier, IsSteadyState\n",
    "from morpheus.project.types.discretization.time import TimeDiscretization\n",
    "from datetime import datetime\n",
    "\n",
    "polygon = Polygon(\n",
    "  type='Polygon',\n",
    "  coordinates=[[\n",
    "    (13.922514437551428, 50.964720483303836),\n",
    "    (13.925250781947113, 50.965228748412386),\n",
    "    (13.925036413951403, 50.96623732041704),\n",
    "    (13.92222441026388, 50.96629040370362),\n",
    "    (13.922514437551428, 50.964720483303836)\n",
    "  ]]\n",
    ")\n",
    "\n",
    "rotation = Rotation(0)\n",
    "length_unit = LengthUnit.meters()\n",
    "relative_col_coordinates = [0, 0.1, 0.2, 0.3, 0.4, 0.5, 0.6, 0.7, 0.8, 0.9, 1]\n",
    "relative_row_coordinates = [0, 0.1, 0.2, 0.3, 0.4, 0.5, 0.6, 0.7, 0.8, 0.9, 1]\n",
    "\n",
    "grid = Grid.from_polygon_with_relative_coordinates(\n",
    "  polygon=polygon,\n",
    "  relative_col_coordinates=relative_col_coordinates,\n",
    "  relative_row_coordinates=relative_row_coordinates,\n",
    "  rotation=rotation,\n",
    ")\n",
    "\n",
    "spatial_discretization = SpatialDiscretization(\n",
    "  geometry=polygon,\n",
    "  grid=grid,\n",
    "  affected_cells=ActiveCells.from_polygon(polygon=polygon, grid=grid),\n",
    "  crs=Crs.from_str('EPSG:4326')\n",
    ")\n",
    "\n",
    "time_discretization = TimeDiscretization(\n",
    "  start_date_time=StartDateTime.from_datetime(datetime(2020, 1, 1)),\n",
    "  end_date_time=StartDateTime.from_datetime(datetime(2020, 12, 31)),\n",
    "  stress_periods=StressPeriodCollection([\n",
    "    StressPeriod(\n",
    "      start_date_time=StartDateTime.from_datetime(datetime(2020, 1, 1)),\n",
    "      number_of_time_steps=NumberOfTimeSteps(1),\n",
    "      time_step_multiplier=TimeStepMultiplier(1),\n",
    "      steady_state=IsSteadyState.yes()\n",
    "    ),\n",
    "    StressPeriod(\n",
    "      start_date_time=StartDateTime.from_datetime(datetime(2020, 2, 1)),\n",
    "      number_of_time_steps=NumberOfTimeSteps(1),\n",
    "      time_step_multiplier=TimeStepMultiplier(1),\n",
    "      steady_state=IsSteadyState.no()\n",
    "    ),\n",
    "    StressPeriod(\n",
    "      start_date_time=StartDateTime.from_datetime(datetime(2020, 3, 1)),\n",
    "      number_of_time_steps=NumberOfTimeSteps(1),\n",
    "      time_step_multiplier=TimeStepMultiplier(1),\n",
    "      steady_state=IsSteadyState.no()\n",
    "    ),\n",
    "    StressPeriod(\n",
    "      start_date_time=StartDateTime.from_datetime(datetime(2020, 4, 1)),\n",
    "      number_of_time_steps=NumberOfTimeSteps(1),\n",
    "      time_step_multiplier=TimeStepMultiplier(1),\n",
    "      steady_state=IsSteadyState.no()\n",
    "    ),\n",
    "    StressPeriod(\n",
    "      start_date_time=StartDateTime.from_datetime(datetime(2020, 5, 1)),\n",
    "      number_of_time_steps=NumberOfTimeSteps(1),\n",
    "      time_step_multiplier=TimeStepMultiplier(1),\n",
    "      steady_state=IsSteadyState.no()\n",
    "    ),\n",
    "    StressPeriod(\n",
    "      start_date_time=StartDateTime.from_datetime(datetime(2020, 6, 1)),\n",
    "      number_of_time_steps=NumberOfTimeSteps(1),\n",
    "      time_step_multiplier=TimeStepMultiplier(1),\n",
    "      steady_state=IsSteadyState.no()\n",
    "    ),\n",
    "    StressPeriod(\n",
    "      start_date_time=StartDateTime.from_datetime(datetime(2020, 7, 1)),\n",
    "      number_of_time_steps=NumberOfTimeSteps(1),\n",
    "      time_step_multiplier=TimeStepMultiplier(1),\n",
    "      steady_state=IsSteadyState.no()\n",
    "    ),\n",
    "    StressPeriod(\n",
    "      start_date_time=StartDateTime.from_datetime(datetime(2020, 8, 1)),\n",
    "      number_of_time_steps=NumberOfTimeSteps(1),\n",
    "      time_step_multiplier=TimeStepMultiplier(1),\n",
    "      steady_state=IsSteadyState.no()\n",
    "    ),\n",
    "    StressPeriod(\n",
    "      start_date_time=StartDateTime.from_datetime(datetime(2020, 9, 1)),\n",
    "      number_of_time_steps=NumberOfTimeSteps(1),\n",
    "      time_step_multiplier=TimeStepMultiplier(1),\n",
    "      steady_state=IsSteadyState.no()\n",
    "    ),\n",
    "    StressPeriod(\n",
    "      start_date_time=StartDateTime.from_datetime(datetime(2020, 10, 1)),\n",
    "      number_of_time_steps=NumberOfTimeSteps(1),\n",
    "      time_step_multiplier=TimeStepMultiplier(1),\n",
    "      steady_state=IsSteadyState.no()\n",
    "    ),\n",
    "    StressPeriod(\n",
    "      start_date_time=StartDateTime.from_datetime(datetime(2020, 11, 1)),\n",
    "      number_of_time_steps=NumberOfTimeSteps(1),\n",
    "      time_step_multiplier=TimeStepMultiplier(1),\n",
    "      steady_state=IsSteadyState.no()\n",
    "    ),\n",
    "    StressPeriod(\n",
    "      start_date_time=StartDateTime.from_datetime(datetime(2020, 12, 1)),\n",
    "      number_of_time_steps=NumberOfTimeSteps(1),\n",
    "      time_step_multiplier=TimeStepMultiplier(1),\n",
    "      steady_state=IsSteadyState.no()\n",
    "    ),\n",
    "  ]),\n",
    "  time_unit=TimeUnit.days()\n",
    ")"
   ],
   "outputs": [],
   "execution_count": 2
  },
  {
   "cell_type": "markdown",
   "id": "9df9979b6c9bdbed",
   "metadata": {
    "collapsed": false,
    "papermill": {
     "duration": 0.001377,
     "end_time": "2024-06-20T19:02:55.819288",
     "exception": false,
     "start_time": "2024-06-20T19:02:55.817911",
     "status": "completed"
    },
    "tags": []
   },
   "source": [
    "## Setup model"
   ]
  },
  {
   "cell_type": "code",
   "id": "77045c334efc769c",
   "metadata": {
    "collapsed": false,
    "execution": {
     "iopub.execute_input": "2024-06-20T19:02:55.822882Z",
     "iopub.status.busy": "2024-06-20T19:02:55.822694Z",
     "iopub.status.idle": "2024-06-20T19:02:56.005908Z",
     "shell.execute_reply": "2024-06-20T19:02:56.005524Z"
    },
    "papermill": {
     "duration": 0.186393,
     "end_time": "2024-06-20T19:02:56.007060",
     "exception": false,
     "start_time": "2024-06-20T19:02:55.820667",
     "status": "completed"
    },
    "tags": [],
    "ExecuteTime": {
     "end_time": "2024-07-02T13:29:17.654444Z",
     "start_time": "2024-07-02T13:29:17.235594Z"
    }
   },
   "source": [
    "from morpheus.project.types.Model import Model\n",
    "\n",
    "model = Model.new()\n",
    "model = model.with_updated_time_discretization(time_discretization=time_discretization)\n",
    "model = model.with_updated_spatial_discretization(spatial_discretization=spatial_discretization)"
   ],
   "outputs": [],
   "execution_count": 3
  },
  {
   "cell_type": "markdown",
   "id": "62ae3587df801000",
   "metadata": {
    "collapsed": false,
    "papermill": {
     "duration": 0.001395,
     "end_time": "2024-06-20T19:02:56.010179",
     "exception": false,
     "start_time": "2024-06-20T19:02:56.008784",
     "status": "completed"
    },
    "tags": []
   },
   "source": "# Setup well boundary witt interpolation type none"
  },
  {
   "cell_type": "code",
   "id": "53679913aee28ce9",
   "metadata": {
    "collapsed": false,
    "execution": {
     "iopub.execute_input": "2024-06-20T19:02:56.013825Z",
     "iopub.status.busy": "2024-06-20T19:02:56.013583Z",
     "iopub.status.idle": "2024-06-20T19:02:56.036034Z",
     "shell.execute_reply": "2024-06-20T19:02:56.035633Z"
    },
    "papermill": {
     "duration": 0.025605,
     "end_time": "2024-06-20T19:02:56.037127",
     "exception": false,
     "start_time": "2024-06-20T19:02:56.011522",
     "status": "completed"
    },
    "tags": [],
    "ExecuteTime": {
     "end_time": "2024-07-02T13:29:17.990159Z",
     "start_time": "2024-07-02T13:29:17.655242Z"
    }
   },
   "source": [
    "from morpheus.project.types.boundaries.BoundaryInterpolationType import InterpolationType\n",
    "from morpheus.project.types.geometry import Point\n",
    "from morpheus.project.types.boundaries.Boundary import BoundaryName, WellBoundary\n",
    "from morpheus.project.types.boundaries.WellObservation import WellRawDataItem, PumpingRate\n",
    "from morpheus.project.infrastructure.calculation.engines.modflow_2005.packages.WelPackageMapper import calculate_wel_boundary_stress_period_data\n",
    "\n",
    "well_boundary_with_no_interpolation = WellBoundary.from_geometry(\n",
    "  name=BoundaryName('well_boundary'),\n",
    "  interpolation=InterpolationType.none,\n",
    "  geometry=Point((13.923, 50.966)),\n",
    "  grid=grid,\n",
    "  affected_layers=[model.layers[0].layer_id],\n",
    "  data=[\n",
    "    WellRawDataItem(\n",
    "      date_time=StartDateTime.from_datetime(datetime(2020, 1, 1)),\n",
    "      pumping_rate=PumpingRate.from_float(-5000),\n",
    "    ),\n",
    "    WellRawDataItem(\n",
    "      date_time=StartDateTime.from_datetime(datetime(2020, 12, 1)),\n",
    "      pumping_rate=PumpingRate.from_float(-1000),\n",
    "    ),\n",
    "  ]\n",
    ")\n",
    "\n",
    "data = calculate_wel_boundary_stress_period_data(spatial_discretization=spatial_discretization, time_discretization=time_discretization, layers=model.layers,\n",
    "                                                 wel_boundary=well_boundary_with_no_interpolation)\n",
    "data.to_dict()"
   ],
   "outputs": [
    {
     "data": {
      "text/plain": [
       "{0: [[0, 1, 2, -5000.0]], 11: [[0, 1, 2, -1000.0]]}"
      ]
     },
     "execution_count": 4,
     "metadata": {},
     "output_type": "execute_result"
    }
   ],
   "execution_count": 4
  },
  {
   "metadata": {
    "ExecuteTime": {
     "end_time": "2024-07-02T13:29:18.007680Z",
     "start_time": "2024-07-02T13:29:17.991490Z"
    }
   },
   "cell_type": "code",
   "source": [
    "well_boundary_with_linear_interpolation = WellBoundary.from_geometry(\n",
    "  name=BoundaryName('well_boundary'),\n",
    "  interpolation=InterpolationType.linear,\n",
    "  geometry=Point((13.923, 50.966)),\n",
    "  grid=grid,\n",
    "  affected_layers=[model.layers[0].layer_id],\n",
    "  data=[\n",
    "    WellRawDataItem(\n",
    "      date_time=StartDateTime.from_datetime(datetime(2020, 1, 1)),\n",
    "      pumping_rate=PumpingRate.from_float(-5000),\n",
    "    ),\n",
    "    WellRawDataItem(\n",
    "      date_time=StartDateTime.from_datetime(datetime(2020, 12, 1)),\n",
    "      pumping_rate=PumpingRate.from_float(-1000),\n",
    "    ),\n",
    "  ]\n",
    ")\n",
    "\n",
    "data = calculate_wel_boundary_stress_period_data(spatial_discretization=spatial_discretization, time_discretization=time_discretization, layers=model.layers,\n",
    "                                                 wel_boundary=well_boundary_with_linear_interpolation)\n",
    "data.to_dict()"
   ],
   "id": "dd319af50b9bac07",
   "outputs": [
    {
     "data": {
      "text/plain": [
       "{0: [[0, 1, 2, -4814.925373134329]],\n",
       " 1: [[0, 1, 2, -4456.7164179104475]],\n",
       " 2: [[0, 1, 2, -4098.507462686567]],\n",
       " 3: [[0, 1, 2, -3734.3283582089553]],\n",
       " 4: [[0, 1, 2, -3370.1492537313434]],\n",
       " 5: [[0, 1, 2, -3005.9701492537315]],\n",
       " 6: [[0, 1, 2, -2641.7910447761196]],\n",
       " 7: [[0, 1, 2, -2271.6417910447763]],\n",
       " 8: [[0, 1, 2, -1907.4626865671642]],\n",
       " 9: [[0, 1, 2, -1543.2835820895525]],\n",
       " 10: [[0, 1, 2, -1179.1044776119406]],\n",
       " 11: [[0, 1, 2, -820.8955223880597]]}"
      ]
     },
     "execution_count": 5,
     "metadata": {},
     "output_type": "execute_result"
    }
   ],
   "execution_count": 5
  },
  {
   "cell_type": "code",
   "id": "456c70a51421e384",
   "metadata": {
    "collapsed": false,
    "papermill": {
     "duration": 0.001561,
     "end_time": "2024-06-20T19:02:56.346772",
     "exception": false,
     "start_time": "2024-06-20T19:02:56.345211",
     "status": "completed"
    },
    "tags": [],
    "ExecuteTime": {
     "end_time": "2024-07-02T13:29:18.024346Z",
     "start_time": "2024-07-02T13:29:18.008492Z"
    }
   },
   "source": [
    "well_boundary_with_nearest_interpolation = WellBoundary.from_geometry(\n",
    "  name=BoundaryName('well_boundary'),\n",
    "  interpolation=InterpolationType.nearest,\n",
    "  geometry=Point((13.923, 50.966)),\n",
    "  grid=grid,\n",
    "  affected_layers=[model.layers[0].layer_id],\n",
    "  data=[\n",
    "    WellRawDataItem(\n",
    "      date_time=StartDateTime.from_datetime(datetime(2020, 1, 1)),\n",
    "      pumping_rate=PumpingRate.from_float(-5000),\n",
    "    ),\n",
    "    WellRawDataItem(\n",
    "      date_time=StartDateTime.from_datetime(datetime(2020, 12, 1)),\n",
    "      pumping_rate=PumpingRate.from_float(1000),\n",
    "    ),\n",
    "  ]\n",
    ")\n",
    "\n",
    "data = calculate_wel_boundary_stress_period_data(spatial_discretization=spatial_discretization, time_discretization=time_discretization, layers=model.layers,\n",
    "                                                 wel_boundary=well_boundary_with_nearest_interpolation)\n",
    "data.to_dict()"
   ],
   "outputs": [
    {
     "data": {
      "text/plain": [
       "{0: [[0, 1, 2, -5000.0]],\n",
       " 1: [[0, 1, 2, -5000.0]],\n",
       " 2: [[0, 1, 2, -5000.0]],\n",
       " 3: [[0, 1, 2, -5000.0]],\n",
       " 4: [[0, 1, 2, -5000.0]],\n",
       " 5: [[0, 1, 2, -2096.7741935483873]],\n",
       " 6: [[0, 1, 2, 1000.0]],\n",
       " 7: [[0, 1, 2, 1000.0]],\n",
       " 8: [[0, 1, 2, 1000.0]],\n",
       " 9: [[0, 1, 2, 1000.0]],\n",
       " 10: [[0, 1, 2, 1000.0]],\n",
       " 11: [[0, 1, 2, 1000.0]]}"
      ]
     },
     "execution_count": 6,
     "metadata": {},
     "output_type": "execute_result"
    }
   ],
   "execution_count": 6
  },
  {
   "metadata": {
    "ExecuteTime": {
     "end_time": "2024-07-02T13:29:18.053410Z",
     "start_time": "2024-07-02T13:29:18.025124Z"
    }
   },
   "cell_type": "code",
   "source": [
    "well_boundary_with_forward_fill_interpolation = WellBoundary.from_geometry(\n",
    "  name=BoundaryName('well_boundary'),\n",
    "  interpolation=InterpolationType.forward_fill,\n",
    "  geometry=Point((13.923, 50.966)),\n",
    "  grid=grid,\n",
    "  affected_layers=[model.layers[0].layer_id],\n",
    "  data=[\n",
    "    WellRawDataItem(\n",
    "      date_time=StartDateTime.from_datetime(datetime(2020, 1, 1)),\n",
    "      pumping_rate=PumpingRate.from_float(-5000),\n",
    "    ),\n",
    "    WellRawDataItem(\n",
    "      date_time=StartDateTime.from_datetime(datetime(2020, 6, 1)),\n",
    "      pumping_rate=PumpingRate.from_float(1000),\n",
    "    ),\n",
    "    WellRawDataItem(\n",
    "      date_time=StartDateTime.from_datetime(datetime(2021, 1, 1)),\n",
    "      pumping_rate=PumpingRate.from_float(5000),\n",
    "    ),\n",
    "  ]\n",
    ")\n",
    "\n",
    "data = calculate_wel_boundary_stress_period_data(spatial_discretization=spatial_discretization, time_discretization=time_discretization, layers=model.layers,\n",
    "                                                 wel_boundary=well_boundary_with_forward_fill_interpolation)\n",
    "data.to_dict()"
   ],
   "id": "b107c5a20dcfcfb8",
   "outputs": [
    {
     "data": {
      "text/plain": [
       "{0: [[0, 1, 2, -5000.0]],\n",
       " 1: [[0, 1, 2, -5000.0]],\n",
       " 2: [[0, 1, 2, -5000.0]],\n",
       " 3: [[0, 1, 2, -5000.0]],\n",
       " 4: [[0, 1, 2, -5000.0]],\n",
       " 5: [[0, 1, 2, 1000.0]],\n",
       " 6: [[0, 1, 2, 1000.0]],\n",
       " 7: [[0, 1, 2, 1000.0]],\n",
       " 8: [[0, 1, 2, 1000.0]],\n",
       " 9: [[0, 1, 2, 1000.0]],\n",
       " 10: [[0, 1, 2, 1000.0]],\n",
       " 11: [[0, 1, 2, 1000.0]]}"
      ]
     },
     "execution_count": 7,
     "metadata": {},
     "output_type": "execute_result"
    }
   ],
   "execution_count": 7
  }
 ],
 "metadata": {
  "kernelspec": {
   "display_name": "Python 3",
   "language": "python",
   "name": "python3"
  },
  "language_info": {
   "codemirror_mode": {
    "name": "ipython",
    "version": 3
   },
   "file_extension": ".py",
   "mimetype": "text/x-python",
   "name": "python",
   "nbconvert_exporter": "python",
   "pygments_lexer": "ipython3",
   "version": "3.12.2"
  },
  "papermill": {
   "default_parameters": {},
   "duration": 2.117667,
   "end_time": "2024-06-20T19:02:56.665199",
   "environment_variables": {},
   "exception": null,
   "input_path": "./notebooks/WellBoundary.ipynb",
   "output_path": "./notebooks/WellBoundary.ipynb",
   "parameters": {},
   "start_time": "2024-06-20T19:02:54.547532",
   "version": "2.6.0"
  }
 },
 "nbformat": 4,
 "nbformat_minor": 5
}
