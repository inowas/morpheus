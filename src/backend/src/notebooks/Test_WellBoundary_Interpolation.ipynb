{
 "cells": [
  {
   "cell_type": "code",
   "execution_count": 1,
   "id": "ba6761fae9d5e5cb",
   "metadata": {
    "ExecuteTime": {
     "end_time": "2024-08-19T10:17:32.368573Z",
     "start_time": "2024-08-19T10:17:32.363089Z"
    },
    "collapsed": false,
    "execution": {
     "iopub.execute_input": "2024-08-19T20:26:34.337430Z",
     "iopub.status.busy": "2024-08-19T20:26:34.336854Z",
     "iopub.status.idle": "2024-08-19T20:26:34.341677Z",
     "shell.execute_reply": "2024-08-19T20:26:34.341081Z"
    },
    "papermill": {
     "duration": 0.015879,
     "end_time": "2024-08-19T20:26:34.343607",
     "exception": false,
     "start_time": "2024-08-19T20:26:34.327728",
     "status": "completed"
    },
    "tags": []
   },
   "outputs": [],
   "source": [
    "import sys\n",
    "\n",
    "sys.path.insert(0, '..')"
   ]
  },
  {
   "cell_type": "markdown",
   "id": "5ede1ba5e0993dd1",
   "metadata": {
    "collapsed": false,
    "papermill": {
     "duration": 0.002482,
     "end_time": "2024-08-19T20:26:34.349609",
     "exception": false,
     "start_time": "2024-08-19T20:26:34.347127",
     "status": "completed"
    },
    "tags": []
   },
   "source": [
    "## Setup the model area"
   ]
  },
  {
   "cell_type": "code",
   "execution_count": 2,
   "id": "2f69504ab35487aa",
   "metadata": {
    "ExecuteTime": {
     "end_time": "2024-08-19T10:17:32.616543Z",
     "start_time": "2024-08-19T10:17:32.397511Z"
    },
    "collapsed": false,
    "execution": {
     "iopub.execute_input": "2024-08-19T20:26:34.355550Z",
     "iopub.status.busy": "2024-08-19T20:26:34.355244Z",
     "iopub.status.idle": "2024-08-19T20:26:34.512493Z",
     "shell.execute_reply": "2024-08-19T20:26:34.510375Z"
    },
    "papermill": {
     "duration": 0.163373,
     "end_time": "2024-08-19T20:26:34.515326",
     "exception": false,
     "start_time": "2024-08-19T20:26:34.351953",
     "status": "completed"
    },
    "tags": []
   },
   "outputs": [
    {
     "name": "stdout",
     "output_type": "stream",
     "text": [
      "[(0, 0)] [(9, 0)]\n",
      "[(0, 1)] [(9, 1)]\n",
      "[(0, 2)] [(9, 2)]\n",
      "[(0, 3)] [(9, 3)]\n",
      "[(0, 4)] [(9, 4)]\n",
      "[(0, 5)] [(9, 5)]\n",
      "[(0, 6)] [(9, 6)]\n",
      "[(0, 7)] [(7, 7)]\n",
      "[(0, 8)] [(5, 8)]\n",
      "[(0, 9)] [(2, 9)]\n"
     ]
    }
   ],
   "source": [
    "from morpheus.project.types.discretization import SpatialDiscretization\n",
    "from morpheus.project.types.discretization.spatial import Rotation, LengthUnit, Grid, ActiveCells, Crs\n",
    "from morpheus.project.types.geometry import Polygon\n",
    "from morpheus.project.types.discretization.time.TimeUnit import TimeUnit\n",
    "from morpheus.project.types.discretization.time.Stressperiods import StartDateTime, StressPeriodCollection, StressPeriod, NumberOfTimeSteps, TimeStepMultiplier, IsSteadyState\n",
    "from morpheus.project.types.discretization.time import TimeDiscretization\n",
    "from datetime import datetime\n",
    "\n",
    "polygon = Polygon(\n",
    "  type='Polygon',\n",
    "  coordinates=[[\n",
    "    (13.922514437551428, 50.964720483303836),\n",
    "    (13.925250781947113, 50.965228748412386),\n",
    "    (13.925036413951403, 50.96623732041704),\n",
    "    (13.92222441026388, 50.96629040370362),\n",
    "    (13.922514437551428, 50.964720483303836)\n",
    "  ]]\n",
    ")\n",
    "\n",
    "rotation = Rotation(0)\n",
    "length_unit = LengthUnit.meters()\n",
    "relative_col_coordinates = [0, 0.1, 0.2, 0.3, 0.4, 0.5, 0.6, 0.7, 0.8, 0.9, 1]\n",
    "relative_row_coordinates = [0, 0.1, 0.2, 0.3, 0.4, 0.5, 0.6, 0.7, 0.8, 0.9, 1]\n",
    "\n",
    "grid = Grid.from_polygon_with_relative_coordinates(\n",
    "  polygon=polygon,\n",
    "  relative_col_coordinates=relative_col_coordinates,\n",
    "  relative_row_coordinates=relative_row_coordinates,\n",
    "  rotation=rotation,\n",
    ")\n",
    "\n",
    "spatial_discretization = SpatialDiscretization(\n",
    "  geometry=polygon,\n",
    "  grid=grid,\n",
    "  affected_cells=ActiveCells.from_polygon(polygon=polygon, grid=grid),\n",
    "  crs=Crs.from_str('EPSG:4326')\n",
    ")\n",
    "\n",
    "time_discretization = TimeDiscretization(\n",
    "  start_date_time=StartDateTime.from_datetime(datetime(2020, 1, 1)),\n",
    "  end_date_time=StartDateTime.from_datetime(datetime(2020, 12, 31)),\n",
    "  stress_periods=StressPeriodCollection([\n",
    "    StressPeriod(\n",
    "      start_date_time=StartDateTime.from_datetime(datetime(2020, 1, 1)),\n",
    "      number_of_time_steps=NumberOfTimeSteps(1),\n",
    "      time_step_multiplier=TimeStepMultiplier(1),\n",
    "      steady_state=IsSteadyState.yes()\n",
    "    ),\n",
    "    StressPeriod(\n",
    "      start_date_time=StartDateTime.from_datetime(datetime(2020, 2, 1)),\n",
    "      number_of_time_steps=NumberOfTimeSteps(1),\n",
    "      time_step_multiplier=TimeStepMultiplier(1),\n",
    "      steady_state=IsSteadyState.no()\n",
    "    ),\n",
    "    StressPeriod(\n",
    "      start_date_time=StartDateTime.from_datetime(datetime(2020, 3, 1)),\n",
    "      number_of_time_steps=NumberOfTimeSteps(1),\n",
    "      time_step_multiplier=TimeStepMultiplier(1),\n",
    "      steady_state=IsSteadyState.no()\n",
    "    ),\n",
    "    StressPeriod(\n",
    "      start_date_time=StartDateTime.from_datetime(datetime(2020, 4, 1)),\n",
    "      number_of_time_steps=NumberOfTimeSteps(1),\n",
    "      time_step_multiplier=TimeStepMultiplier(1),\n",
    "      steady_state=IsSteadyState.no()\n",
    "    ),\n",
    "    StressPeriod(\n",
    "      start_date_time=StartDateTime.from_datetime(datetime(2020, 5, 1)),\n",
    "      number_of_time_steps=NumberOfTimeSteps(1),\n",
    "      time_step_multiplier=TimeStepMultiplier(1),\n",
    "      steady_state=IsSteadyState.no()\n",
    "    ),\n",
    "    StressPeriod(\n",
    "      start_date_time=StartDateTime.from_datetime(datetime(2020, 6, 1)),\n",
    "      number_of_time_steps=NumberOfTimeSteps(1),\n",
    "      time_step_multiplier=TimeStepMultiplier(1),\n",
    "      steady_state=IsSteadyState.no()\n",
    "    ),\n",
    "    StressPeriod(\n",
    "      start_date_time=StartDateTime.from_datetime(datetime(2020, 7, 1)),\n",
    "      number_of_time_steps=NumberOfTimeSteps(1),\n",
    "      time_step_multiplier=TimeStepMultiplier(1),\n",
    "      steady_state=IsSteadyState.no()\n",
    "    ),\n",
    "    StressPeriod(\n",
    "      start_date_time=StartDateTime.from_datetime(datetime(2020, 8, 1)),\n",
    "      number_of_time_steps=NumberOfTimeSteps(1),\n",
    "      time_step_multiplier=TimeStepMultiplier(1),\n",
    "      steady_state=IsSteadyState.no()\n",
    "    ),\n",
    "    StressPeriod(\n",
    "      start_date_time=StartDateTime.from_datetime(datetime(2020, 9, 1)),\n",
    "      number_of_time_steps=NumberOfTimeSteps(1),\n",
    "      time_step_multiplier=TimeStepMultiplier(1),\n",
    "      steady_state=IsSteadyState.no()\n",
    "    ),\n",
    "    StressPeriod(\n",
    "      start_date_time=StartDateTime.from_datetime(datetime(2020, 10, 1)),\n",
    "      number_of_time_steps=NumberOfTimeSteps(1),\n",
    "      time_step_multiplier=TimeStepMultiplier(1),\n",
    "      steady_state=IsSteadyState.no()\n",
    "    ),\n",
    "    StressPeriod(\n",
    "      start_date_time=StartDateTime.from_datetime(datetime(2020, 11, 1)),\n",
    "      number_of_time_steps=NumberOfTimeSteps(1),\n",
    "      time_step_multiplier=TimeStepMultiplier(1),\n",
    "      steady_state=IsSteadyState.no()\n",
    "    ),\n",
    "    StressPeriod(\n",
    "      start_date_time=StartDateTime.from_datetime(datetime(2020, 12, 1)),\n",
    "      number_of_time_steps=NumberOfTimeSteps(1),\n",
    "      time_step_multiplier=TimeStepMultiplier(1),\n",
    "      steady_state=IsSteadyState.no()\n",
    "    ),\n",
    "  ]),\n",
    "  time_unit=TimeUnit.days()\n",
    ")"
   ]
  },
  {
   "cell_type": "markdown",
   "id": "9df9979b6c9bdbed",
   "metadata": {
    "collapsed": false,
    "papermill": {
     "duration": 0.005496,
     "end_time": "2024-08-19T20:26:34.524973",
     "exception": false,
     "start_time": "2024-08-19T20:26:34.519477",
     "status": "completed"
    },
    "tags": []
   },
   "source": [
    "## Setup model"
   ]
  },
  {
   "cell_type": "code",
   "execution_count": 3,
   "id": "77045c334efc769c",
   "metadata": {
    "ExecuteTime": {
     "end_time": "2024-08-19T10:17:33.221904Z",
     "start_time": "2024-08-19T10:17:32.620045Z"
    },
    "collapsed": false,
    "execution": {
     "iopub.execute_input": "2024-08-19T20:26:34.533819Z",
     "iopub.status.busy": "2024-08-19T20:26:34.533435Z",
     "iopub.status.idle": "2024-08-19T20:26:34.861641Z",
     "shell.execute_reply": "2024-08-19T20:26:34.861328Z"
    },
    "papermill": {
     "duration": 0.334236,
     "end_time": "2024-08-19T20:26:34.862650",
     "exception": false,
     "start_time": "2024-08-19T20:26:34.528414",
     "status": "completed"
    },
    "tags": []
   },
   "outputs": [],
   "source": [
    "from morpheus.project.types.Model import Model\n",
    "\n",
    "model = Model.new()\n",
    "model = model.with_updated_time_discretization(time_discretization=time_discretization)\n",
    "model = model.with_updated_spatial_discretization(spatial_discretization=spatial_discretization)"
   ]
  },
  {
   "cell_type": "markdown",
   "id": "62ae3587df801000",
   "metadata": {
    "collapsed": false,
    "papermill": {
     "duration": 0.001061,
     "end_time": "2024-08-19T20:26:34.865067",
     "exception": false,
     "start_time": "2024-08-19T20:26:34.864006",
     "status": "completed"
    },
    "tags": []
   },
   "source": [
    "# Setup well boundary witt interpolation type none"
   ]
  },
  {
   "cell_type": "code",
   "execution_count": 4,
   "id": "53679913aee28ce9",
   "metadata": {
    "ExecuteTime": {
     "end_time": "2024-08-19T10:17:33.586534Z",
     "start_time": "2024-08-19T10:17:33.222604Z"
    },
    "collapsed": false,
    "execution": {
     "iopub.execute_input": "2024-08-19T20:26:34.867757Z",
     "iopub.status.busy": "2024-08-19T20:26:34.867574Z",
     "iopub.status.idle": "2024-08-19T20:26:35.128156Z",
     "shell.execute_reply": "2024-08-19T20:26:35.127875Z"
    },
    "papermill": {
     "duration": 0.262978,
     "end_time": "2024-08-19T20:26:35.129047",
     "exception": false,
     "start_time": "2024-08-19T20:26:34.866069",
     "status": "completed"
    },
    "tags": []
   },
   "outputs": [
    {
     "data": {
      "text/plain": [
       "{0: [[0, 1, 2, -5000.0]], 11: [[0, 1, 2, -1000.0]]}"
      ]
     },
     "execution_count": 4,
     "metadata": {},
     "output_type": "execute_result"
    }
   ],
   "source": [
    "from morpheus.project.types.boundaries.BoundaryInterpolationType import InterpolationType\n",
    "from morpheus.project.types.geometry import Point\n",
    "from morpheus.project.types.boundaries.Boundary import BoundaryName, WellBoundary\n",
    "from morpheus.project.types.boundaries.WellObservation import WellObservationValue, PumpingRate\n",
    "from morpheus.project.infrastructure.calculation.engines.modflow_2005.packages.WelPackageMapper import calculate_wel_boundary_stress_period_data\n",
    "\n",
    "well_boundary_with_no_interpolation = WellBoundary.from_geometry(\n",
    "  name=BoundaryName('well_boundary'),\n",
    "  interpolation=InterpolationType.none,\n",
    "  geometry=Point((13.923, 50.966)),\n",
    "  grid=grid,\n",
    "  affected_layers=[model.layers[0].layer_id],\n",
    "  data=[\n",
    "    WellObservationValue(\n",
    "      date_time=StartDateTime.from_datetime(datetime(2020, 1, 1)),\n",
    "      pumping_rate=PumpingRate.from_float(-5000),\n",
    "    ),\n",
    "    WellObservationValue(\n",
    "      date_time=StartDateTime.from_datetime(datetime(2020, 12, 1)),\n",
    "      pumping_rate=PumpingRate.from_float(-1000),\n",
    "    ),\n",
    "  ]\n",
    ")\n",
    "\n",
    "data = calculate_wel_boundary_stress_period_data(spatial_discretization=spatial_discretization, time_discretization=time_discretization, layers=model.layers,\n",
    "                                                 wel_boundary=well_boundary_with_no_interpolation)\n",
    "data.to_dict()"
   ]
  },
  {
   "cell_type": "code",
   "execution_count": 5,
   "id": "dd319af50b9bac07",
   "metadata": {
    "ExecuteTime": {
     "end_time": "2024-08-19T10:17:33.598287Z",
     "start_time": "2024-08-19T10:17:33.587706Z"
    },
    "execution": {
     "iopub.execute_input": "2024-08-19T20:26:35.132089Z",
     "iopub.status.busy": "2024-08-19T20:26:35.131933Z",
     "iopub.status.idle": "2024-08-19T20:26:35.139095Z",
     "shell.execute_reply": "2024-08-19T20:26:35.138859Z"
    },
    "papermill": {
     "duration": 0.009533,
     "end_time": "2024-08-19T20:26:35.139908",
     "exception": false,
     "start_time": "2024-08-19T20:26:35.130375",
     "status": "completed"
    },
    "tags": []
   },
   "outputs": [
    {
     "data": {
      "text/plain": [
       "{0: [[0, 1, 2, -4814.925373134329]],\n",
       " 1: [[0, 1, 2, -4456.7164179104475]],\n",
       " 2: [[0, 1, 2, -4098.507462686567]],\n",
       " 3: [[0, 1, 2, -3734.3283582089553]],\n",
       " 4: [[0, 1, 2, -3370.1492537313434]],\n",
       " 5: [[0, 1, 2, -3005.9701492537315]],\n",
       " 6: [[0, 1, 2, -2641.7910447761196]],\n",
       " 7: [[0, 1, 2, -2271.6417910447763]],\n",
       " 8: [[0, 1, 2, -1907.4626865671642]],\n",
       " 9: [[0, 1, 2, -1543.2835820895525]],\n",
       " 10: [[0, 1, 2, -1179.1044776119406]],\n",
       " 11: [[0, 1, 2, -820.8955223880597]]}"
      ]
     },
     "execution_count": 5,
     "metadata": {},
     "output_type": "execute_result"
    }
   ],
   "source": [
    "well_boundary_with_linear_interpolation = WellBoundary.from_geometry(\n",
    "  name=BoundaryName('well_boundary'),\n",
    "  interpolation=InterpolationType.linear,\n",
    "  geometry=Point((13.923, 50.966)),\n",
    "  grid=grid,\n",
    "  affected_layers=[model.layers[0].layer_id],\n",
    "  data=[\n",
    "    WellObservationValue(\n",
    "      date_time=StartDateTime.from_datetime(datetime(2020, 1, 1)),\n",
    "      pumping_rate=PumpingRate.from_float(-5000),\n",
    "    ),\n",
    "    WellObservationValue(\n",
    "      date_time=StartDateTime.from_datetime(datetime(2020, 12, 1)),\n",
    "      pumping_rate=PumpingRate.from_float(-1000),\n",
    "    ),\n",
    "  ]\n",
    ")\n",
    "\n",
    "data = calculate_wel_boundary_stress_period_data(spatial_discretization=spatial_discretization, time_discretization=time_discretization, layers=model.layers,\n",
    "                                                 wel_boundary=well_boundary_with_linear_interpolation)\n",
    "data.to_dict()"
   ]
  },
  {
   "cell_type": "code",
   "execution_count": 6,
   "id": "456c70a51421e384",
   "metadata": {
    "ExecuteTime": {
     "end_time": "2024-08-19T10:17:33.607192Z",
     "start_time": "2024-08-19T10:17:33.598967Z"
    },
    "collapsed": false,
    "execution": {
     "iopub.execute_input": "2024-08-19T20:26:35.142856Z",
     "iopub.status.busy": "2024-08-19T20:26:35.142735Z",
     "iopub.status.idle": "2024-08-19T20:26:35.149199Z",
     "shell.execute_reply": "2024-08-19T20:26:35.148995Z"
    },
    "papermill": {
     "duration": 0.008881,
     "end_time": "2024-08-19T20:26:35.149998",
     "exception": false,
     "start_time": "2024-08-19T20:26:35.141117",
     "status": "completed"
    },
    "tags": []
   },
   "outputs": [
    {
     "data": {
      "text/plain": [
       "{0: [[0, 1, 2, -5000.0]],\n",
       " 1: [[0, 1, 2, -5000.0]],\n",
       " 2: [[0, 1, 2, -5000.0]],\n",
       " 3: [[0, 1, 2, -5000.0]],\n",
       " 4: [[0, 1, 2, -5000.0]],\n",
       " 5: [[0, 1, 2, -2096.7741935483873]],\n",
       " 6: [[0, 1, 2, 1000.0]],\n",
       " 7: [[0, 1, 2, 1000.0]],\n",
       " 8: [[0, 1, 2, 1000.0]],\n",
       " 9: [[0, 1, 2, 1000.0]],\n",
       " 10: [[0, 1, 2, 1000.0]],\n",
       " 11: [[0, 1, 2, 1000.0]]}"
      ]
     },
     "execution_count": 6,
     "metadata": {},
     "output_type": "execute_result"
    }
   ],
   "source": [
    "well_boundary_with_nearest_interpolation = WellBoundary.from_geometry(\n",
    "  name=BoundaryName('well_boundary'),\n",
    "  interpolation=InterpolationType.nearest,\n",
    "  geometry=Point((13.923, 50.966)),\n",
    "  grid=grid,\n",
    "  affected_layers=[model.layers[0].layer_id],\n",
    "  data=[\n",
    "    WellObservationValue(\n",
    "      date_time=StartDateTime.from_datetime(datetime(2020, 1, 1)),\n",
    "      pumping_rate=PumpingRate.from_float(-5000),\n",
    "    ),\n",
    "    WellObservationValue(\n",
    "      date_time=StartDateTime.from_datetime(datetime(2020, 12, 1)),\n",
    "      pumping_rate=PumpingRate.from_float(1000),\n",
    "    ),\n",
    "  ]\n",
    ")\n",
    "\n",
    "data = calculate_wel_boundary_stress_period_data(spatial_discretization=spatial_discretization, time_discretization=time_discretization, layers=model.layers,\n",
    "                                                 wel_boundary=well_boundary_with_nearest_interpolation)\n",
    "data.to_dict()"
   ]
  },
  {
   "cell_type": "code",
   "execution_count": 7,
   "id": "b107c5a20dcfcfb8",
   "metadata": {
    "ExecuteTime": {
     "end_time": "2024-08-19T10:17:33.615178Z",
     "start_time": "2024-08-19T10:17:33.608467Z"
    },
    "execution": {
     "iopub.execute_input": "2024-08-19T20:26:35.153049Z",
     "iopub.status.busy": "2024-08-19T20:26:35.152942Z",
     "iopub.status.idle": "2024-08-19T20:26:35.156864Z",
     "shell.execute_reply": "2024-08-19T20:26:35.156624Z"
    },
    "papermill": {
     "duration": 0.006233,
     "end_time": "2024-08-19T20:26:35.157591",
     "exception": false,
     "start_time": "2024-08-19T20:26:35.151358",
     "status": "completed"
    },
    "tags": []
   },
   "outputs": [
    {
     "data": {
      "text/plain": [
       "{0: [[0, 1, 2, -5000.0]],\n",
       " 1: [[0, 1, 2, -5000.0]],\n",
       " 2: [[0, 1, 2, -5000.0]],\n",
       " 3: [[0, 1, 2, -5000.0]],\n",
       " 4: [[0, 1, 2, -5000.0]],\n",
       " 5: [[0, 1, 2, 1000.0]],\n",
       " 6: [[0, 1, 2, 1000.0]],\n",
       " 7: [[0, 1, 2, 1000.0]],\n",
       " 8: [[0, 1, 2, 1000.0]],\n",
       " 9: [[0, 1, 2, 1000.0]],\n",
       " 10: [[0, 1, 2, 1000.0]],\n",
       " 11: [[0, 1, 2, 1000.0]]}"
      ]
     },
     "execution_count": 7,
     "metadata": {},
     "output_type": "execute_result"
    }
   ],
   "source": [
    "well_boundary_with_forward_fill_interpolation = WellBoundary.from_geometry(\n",
    "  name=BoundaryName('well_boundary'),\n",
    "  interpolation=InterpolationType.forward_fill,\n",
    "  geometry=Point((13.923, 50.966)),\n",
    "  grid=grid,\n",
    "  affected_layers=[model.layers[0].layer_id],\n",
    "  data=[\n",
    "    WellObservationValue(\n",
    "      date_time=StartDateTime.from_datetime(datetime(2020, 1, 1)),\n",
    "      pumping_rate=PumpingRate.from_float(-5000),\n",
    "    ),\n",
    "    WellObservationValue(\n",
    "      date_time=StartDateTime.from_datetime(datetime(2020, 6, 1)),\n",
    "      pumping_rate=PumpingRate.from_float(1000),\n",
    "    ),\n",
    "    WellObservationValue(\n",
    "      date_time=StartDateTime.from_datetime(datetime(2021, 1, 1)),\n",
    "      pumping_rate=PumpingRate.from_float(5000),\n",
    "    ),\n",
    "  ]\n",
    ")\n",
    "\n",
    "data = calculate_wel_boundary_stress_period_data(spatial_discretization=spatial_discretization, time_discretization=time_discretization, layers=model.layers,\n",
    "                                                 wel_boundary=well_boundary_with_forward_fill_interpolation)\n",
    "data.to_dict()"
   ]
  }
 ],
 "metadata": {
  "kernelspec": {
   "display_name": "Python 3",
   "language": "python",
   "name": "python3"
  },
  "language_info": {
   "codemirror_mode": {
    "name": "ipython",
    "version": 3
   },
   "file_extension": ".py",
   "mimetype": "text/x-python",
   "name": "python",
   "nbconvert_exporter": "python",
   "pygments_lexer": "ipython3",
   "version": "3.12.2"
  },
  "papermill": {
   "default_parameters": {},
   "duration": 1.645108,
   "end_time": "2024-08-19T20:26:35.375417",
   "environment_variables": {},
   "exception": null,
   "input_path": "./notebooks/Test_WellBoundary_Interpolation.ipynb",
   "output_path": "./notebooks/Test_WellBoundary_Interpolation.ipynb",
   "parameters": {},
   "start_time": "2024-08-19T20:26:33.730309",
   "version": "2.6.0"
  }
 },
 "nbformat": 4,
 "nbformat_minor": 5
}