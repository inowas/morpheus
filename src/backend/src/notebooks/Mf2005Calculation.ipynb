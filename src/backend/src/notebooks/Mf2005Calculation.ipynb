{
 "cells": [
  {
   "cell_type": "code",
   "execution_count": 1,
   "id": "ba6761fae9d5e5cb",
   "metadata": {
    "ExecuteTime": {
     "end_time": "2024-06-19T09:26:30.236049Z",
     "start_time": "2024-06-19T09:26:30.232457Z"
    },
    "collapsed": false,
    "execution": {
     "iopub.execute_input": "2024-06-19T09:30:39.792640Z",
     "iopub.status.busy": "2024-06-19T09:30:39.792262Z",
     "iopub.status.idle": "2024-06-19T09:30:39.796924Z",
     "shell.execute_reply": "2024-06-19T09:30:39.796431Z"
    },
    "papermill": {
     "duration": 0.01449,
     "end_time": "2024-06-19T09:30:39.798717",
     "exception": false,
     "start_time": "2024-06-19T09:30:39.784227",
     "status": "completed"
    },
    "tags": []
   },
   "outputs": [],
   "source": [
    "import sys\n",
    "\n",
    "sys.path.insert(0, '..')"
   ]
  },
  {
   "cell_type": "markdown",
   "id": "5ede1ba5e0993dd1",
   "metadata": {
    "collapsed": false,
    "papermill": {
     "duration": 0.007694,
     "end_time": "2024-06-19T09:30:39.816959",
     "exception": false,
     "start_time": "2024-06-19T09:30:39.809265",
     "status": "completed"
    },
    "tags": []
   },
   "source": [
    "## Setup the model area"
   ]
  },
  {
   "cell_type": "code",
   "execution_count": 2,
   "id": "2f69504ab35487aa",
   "metadata": {
    "ExecuteTime": {
     "end_time": "2024-06-19T09:26:30.558500Z",
     "start_time": "2024-06-19T09:26:30.313554Z"
    },
    "collapsed": false,
    "execution": {
     "iopub.execute_input": "2024-06-19T09:30:39.831518Z",
     "iopub.status.busy": "2024-06-19T09:30:39.831193Z",
     "iopub.status.idle": "2024-06-19T09:30:40.079640Z",
     "shell.execute_reply": "2024-06-19T09:30:40.078844Z"
    },
    "papermill": {
     "duration": 0.260101,
     "end_time": "2024-06-19T09:30:40.083213",
     "exception": false,
     "start_time": "2024-06-19T09:30:39.823112",
     "status": "completed"
    },
    "tags": []
   },
   "outputs": [
    {
     "data": {
      "text/plain": [
       "SpatialDiscretization(geometry=Polygon(coordinates=[[(13.922514437551428, 50.964720483303836), (13.925250781947113, 50.965228748412386), (13.925036413951403, 50.96623732041704), (13.92222441026388, 50.96629040370362), (13.922514437551428, 50.964720483303836)]], type='Polygon'), grid=Grid(origin=Point(coordinates=(13.922224410263878, 50.9662904037036), type='Point'), col_widths=[33.68941547288559, 33.68941547288559, 33.6894154728856, 33.689415472885585, 33.6894154728856, 33.6894154728856, 33.68941547288557, 33.6894154728856, 33.68941547288563, 33.68941547288557], total_width=336.89415472885594, row_heights=[27.74944856585935, 27.74944856585935, 27.749448565859346, 27.749448565859353, 27.74944856585934, 27.749448565859353, 27.749448565859325, 27.74944856585938, 27.749448565859325, 27.749448565859353], total_height=277.4944856585935, rotation=Rotation(value=0), length_unit=LengthUnit(unit=2)), affected_cells=ActiveCells(shape=(10, 10), data=[ActiveCell(col=0, row=0), ActiveCell(col=0, row=1), ActiveCell(col=0, row=2), ActiveCell(col=0, row=3), ActiveCell(col=0, row=4), ActiveCell(col=1, row=0), ActiveCell(col=1, row=1), ActiveCell(col=1, row=2), ActiveCell(col=1, row=3), ActiveCell(col=1, row=4), ActiveCell(col=1, row=5), ActiveCell(col=1, row=6), ActiveCell(col=1, row=7), ActiveCell(col=1, row=8), ActiveCell(col=1, row=9), ActiveCell(col=2, row=0), ActiveCell(col=2, row=1), ActiveCell(col=2, row=2), ActiveCell(col=2, row=3), ActiveCell(col=2, row=4), ActiveCell(col=2, row=5), ActiveCell(col=2, row=6), ActiveCell(col=2, row=7), ActiveCell(col=2, row=8), ActiveCell(col=3, row=0), ActiveCell(col=3, row=1), ActiveCell(col=3, row=2), ActiveCell(col=3, row=3), ActiveCell(col=3, row=4), ActiveCell(col=3, row=5), ActiveCell(col=3, row=6), ActiveCell(col=3, row=7), ActiveCell(col=3, row=8), ActiveCell(col=4, row=0), ActiveCell(col=4, row=1), ActiveCell(col=4, row=2), ActiveCell(col=4, row=3), ActiveCell(col=4, row=4), ActiveCell(col=4, row=5), ActiveCell(col=4, row=6), ActiveCell(col=4, row=7), ActiveCell(col=4, row=8), ActiveCell(col=5, row=0), ActiveCell(col=5, row=1), ActiveCell(col=5, row=2), ActiveCell(col=5, row=3), ActiveCell(col=5, row=4), ActiveCell(col=5, row=5), ActiveCell(col=5, row=6), ActiveCell(col=5, row=7), ActiveCell(col=6, row=0), ActiveCell(col=6, row=1), ActiveCell(col=6, row=2), ActiveCell(col=6, row=3), ActiveCell(col=6, row=4), ActiveCell(col=6, row=5), ActiveCell(col=6, row=6), ActiveCell(col=6, row=7), ActiveCell(col=7, row=0), ActiveCell(col=7, row=1), ActiveCell(col=7, row=2), ActiveCell(col=7, row=3), ActiveCell(col=7, row=4), ActiveCell(col=7, row=5), ActiveCell(col=7, row=6), ActiveCell(col=7, row=7), ActiveCell(col=8, row=0), ActiveCell(col=8, row=1), ActiveCell(col=8, row=2), ActiveCell(col=8, row=3), ActiveCell(col=8, row=4), ActiveCell(col=8, row=5), ActiveCell(col=8, row=6), ActiveCell(col=9, row=2), ActiveCell(col=9, row=3), ActiveCell(col=9, row=4), ActiveCell(col=9, row=5), ActiveCell(col=9, row=6)]))"
      ]
     },
     "execution_count": 2,
     "metadata": {},
     "output_type": "execute_result"
    }
   ],
   "source": [
    "from morpheus.project.types.discretization.spatial import ActiveCells\n",
    "from morpheus.project.types.discretization import SpatialDiscretization\n",
    "from morpheus.project.types.discretization.spatial import Rotation, LengthUnit, Grid, Crs\n",
    "from morpheus.project.types.geometry import Polygon, LineString\n",
    "\n",
    "polygon = Polygon(\n",
    "  type='Polygon',\n",
    "  coordinates=[[\n",
    "    (13.922514437551428, 50.964720483303836),\n",
    "    (13.925250781947113, 50.965228748412386),\n",
    "    (13.925036413951403, 50.96623732041704),\n",
    "    (13.92222441026388, 50.96629040370362),\n",
    "    (13.922514437551428, 50.964720483303836)\n",
    "  ]]\n",
    ")\n",
    "\n",
    "rotation = Rotation(0)\n",
    "length_unit = LengthUnit.meters()\n",
    "relative_col_coordinates = [0, 0.1, 0.2, 0.3, 0.4, 0.5, 0.6, 0.7, 0.8, 0.9, 1]\n",
    "relative_row_coordinates = [0, 0.1, 0.2, 0.3, 0.4, 0.5, 0.6, 0.7, 0.8, 0.9, 1]\n",
    "\n",
    "grid = Grid.from_polygon_with_relative_coordinates(\n",
    "  polygon=polygon,\n",
    "  relative_col_coordinates=relative_col_coordinates,\n",
    "  relative_row_coordinates=relative_row_coordinates,\n",
    "  rotation=rotation,\n",
    ")\n",
    "\n",
    "spatial_discretization = SpatialDiscretization(\n",
    "  geometry=polygon,\n",
    "  grid=grid,\n",
    "  affected_cells=ActiveCells.from_polygon(polygon=polygon, grid=grid),\n",
    "  crs=Crs.from_str('EPSG:4326')\n",
    ")\n",
    "\n",
    "spatial_discretization"
   ]
  },
  {
   "cell_type": "markdown",
   "id": "fa27e67f9d801845",
   "metadata": {
    "collapsed": false,
    "papermill": {
     "duration": 0.006396,
     "end_time": "2024-06-19T09:30:40.096860",
     "exception": false,
     "start_time": "2024-06-19T09:30:40.090464",
     "status": "completed"
    },
    "tags": []
   },
   "source": [
    "## Setup Time Discretization"
   ]
  },
  {
   "cell_type": "code",
   "execution_count": 3,
   "id": "8e4e63dd138db9fc",
   "metadata": {
    "ExecuteTime": {
     "end_time": "2024-06-19T09:26:30.571960Z",
     "start_time": "2024-06-19T09:26:30.566140Z"
    },
    "collapsed": false,
    "execution": {
     "iopub.execute_input": "2024-06-19T09:30:40.144954Z",
     "iopub.status.busy": "2024-06-19T09:30:40.144639Z",
     "iopub.status.idle": "2024-06-19T09:30:40.148210Z",
     "shell.execute_reply": "2024-06-19T09:30:40.147739Z"
    },
    "papermill": {
     "duration": 0.022806,
     "end_time": "2024-06-19T09:30:40.149285",
     "exception": false,
     "start_time": "2024-06-19T09:30:40.126479",
     "status": "completed"
    },
    "tags": []
   },
   "outputs": [],
   "source": [
    "from morpheus.project.types.discretization.time.TimeUnit import TimeUnit\n",
    "from morpheus.project.types.discretization.time.Stressperiods import StartDateTime, StressPeriodCollection, \\\n",
    "  StressPeriod, NumberOfTimeSteps, TimeStepMultiplier, IsSteadyState\n",
    "from morpheus.project.types.discretization.time import TimeDiscretization\n",
    "from datetime import datetime\n",
    "\n",
    "time_discretization = TimeDiscretization(\n",
    "  start_date_time=StartDateTime.from_datetime(datetime(2020, 1, 1)),\n",
    "  end_date_time=StartDateTime.from_datetime(datetime(2020, 12, 31)),\n",
    "  stress_periods=StressPeriodCollection([\n",
    "    StressPeriod(\n",
    "      start_date_time=StartDateTime.from_datetime(datetime(2020, 1, 1)),\n",
    "      number_of_time_steps=NumberOfTimeSteps(1),\n",
    "      time_step_multiplier=TimeStepMultiplier(1),\n",
    "      steady_state=IsSteadyState.yes()\n",
    "    ),\n",
    "  ]),\n",
    "  time_unit=TimeUnit.days()\n",
    ")"
   ]
  },
  {
   "cell_type": "markdown",
   "id": "963ba8729f09fcec",
   "metadata": {
    "collapsed": false,
    "papermill": {
     "duration": 0.002,
     "end_time": "2024-06-19T09:30:40.153529",
     "exception": false,
     "start_time": "2024-06-19T09:30:40.151529",
     "status": "completed"
    },
    "tags": []
   },
   "source": [
    "# Setup Model"
   ]
  },
  {
   "cell_type": "code",
   "execution_count": 4,
   "id": "1d5c9125b1b9360b",
   "metadata": {
    "ExecuteTime": {
     "end_time": "2024-06-19T09:26:31.098400Z",
     "start_time": "2024-06-19T09:26:30.574770Z"
    },
    "collapsed": false,
    "execution": {
     "iopub.execute_input": "2024-06-19T09:30:40.159148Z",
     "iopub.status.busy": "2024-06-19T09:30:40.158674Z",
     "iopub.status.idle": "2024-06-19T09:30:40.467898Z",
     "shell.execute_reply": "2024-06-19T09:30:40.467584Z"
    },
    "papermill": {
     "duration": 0.313354,
     "end_time": "2024-06-19T09:30:40.468888",
     "exception": false,
     "start_time": "2024-06-19T09:30:40.155534",
     "status": "completed"
    },
    "tags": []
   },
   "outputs": [],
   "source": [
    "from morpheus.project.types.Model import Model\n",
    "\n",
    "model = Model.new()\n",
    "model = model.with_updated_time_discretization(time_discretization)\n",
    "model = model.with_updated_spatial_discretization(spatial_discretization=spatial_discretization)"
   ]
  },
  {
   "cell_type": "code",
   "execution_count": 5,
   "id": "1540b870ae83f298",
   "metadata": {
    "ExecuteTime": {
     "end_time": "2024-06-19T09:26:31.245335Z",
     "start_time": "2024-06-19T09:26:31.099790Z"
    },
    "collapsed": false,
    "execution": {
     "iopub.execute_input": "2024-06-19T09:30:40.473609Z",
     "iopub.status.busy": "2024-06-19T09:30:40.473412Z",
     "iopub.status.idle": "2024-06-19T09:30:40.591788Z",
     "shell.execute_reply": "2024-06-19T09:30:40.591560Z"
    },
    "papermill": {
     "duration": 0.121617,
     "end_time": "2024-06-19T09:30:40.592647",
     "exception": false,
     "start_time": "2024-06-19T09:30:40.471030",
     "status": "completed"
    },
    "tags": []
   },
   "outputs": [
    {
     "data": {
      "text/html": [
       "<div style=\"width:100%;\"><div style=\"position:relative;width:100%;height:0;padding-bottom:60%;\"><span style=\"color:#565656\">Make this Notebook Trusted to load map: File -> Trust Notebook</span><iframe srcdoc=\"&lt;!DOCTYPE html&gt;\n",
       "&lt;html&gt;\n",
       "&lt;head&gt;\n",
       "    \n",
       "    &lt;meta http-equiv=&quot;content-type&quot; content=&quot;text/html; charset=UTF-8&quot; /&gt;\n",
       "    \n",
       "        &lt;script&gt;\n",
       "            L_NO_TOUCH = false;\n",
       "            L_DISABLE_3D = false;\n",
       "        &lt;/script&gt;\n",
       "    \n",
       "    &lt;style&gt;html, body {width: 100%;height: 100%;margin: 0;padding: 0;}&lt;/style&gt;\n",
       "    &lt;style&gt;#map {position:absolute;top:0;bottom:0;right:0;left:0;}&lt;/style&gt;\n",
       "    &lt;script src=&quot;https://cdn.jsdelivr.net/npm/leaflet@1.9.3/dist/leaflet.js&quot;&gt;&lt;/script&gt;\n",
       "    &lt;script src=&quot;https://code.jquery.com/jquery-3.7.1.min.js&quot;&gt;&lt;/script&gt;\n",
       "    &lt;script src=&quot;https://cdn.jsdelivr.net/npm/bootstrap@5.2.2/dist/js/bootstrap.bundle.min.js&quot;&gt;&lt;/script&gt;\n",
       "    &lt;script src=&quot;https://cdnjs.cloudflare.com/ajax/libs/Leaflet.awesome-markers/2.0.2/leaflet.awesome-markers.js&quot;&gt;&lt;/script&gt;\n",
       "    &lt;link rel=&quot;stylesheet&quot; href=&quot;https://cdn.jsdelivr.net/npm/leaflet@1.9.3/dist/leaflet.css&quot;/&gt;\n",
       "    &lt;link rel=&quot;stylesheet&quot; href=&quot;https://cdn.jsdelivr.net/npm/bootstrap@5.2.2/dist/css/bootstrap.min.css&quot;/&gt;\n",
       "    &lt;link rel=&quot;stylesheet&quot; href=&quot;https://netdna.bootstrapcdn.com/bootstrap/3.0.0/css/bootstrap.min.css&quot;/&gt;\n",
       "    &lt;link rel=&quot;stylesheet&quot; href=&quot;https://cdn.jsdelivr.net/npm/@fortawesome/fontawesome-free@6.2.0/css/all.min.css&quot;/&gt;\n",
       "    &lt;link rel=&quot;stylesheet&quot; href=&quot;https://cdnjs.cloudflare.com/ajax/libs/Leaflet.awesome-markers/2.0.2/leaflet.awesome-markers.css&quot;/&gt;\n",
       "    &lt;link rel=&quot;stylesheet&quot; href=&quot;https://cdn.jsdelivr.net/gh/python-visualization/folium/folium/templates/leaflet.awesome.rotate.min.css&quot;/&gt;\n",
       "    \n",
       "            &lt;meta name=&quot;viewport&quot; content=&quot;width=device-width,\n",
       "                initial-scale=1.0, maximum-scale=1.0, user-scalable=no&quot; /&gt;\n",
       "            &lt;style&gt;\n",
       "                #map_c8a3b4a6d68b69137e21f44ef1d0c0d4 {\n",
       "                    position: relative;\n",
       "                    width: 100.0%;\n",
       "                    height: 100.0%;\n",
       "                    left: 0.0%;\n",
       "                    top: 0.0%;\n",
       "                }\n",
       "                .leaflet-container { font-size: 1rem; }\n",
       "            &lt;/style&gt;\n",
       "        \n",
       "&lt;/head&gt;\n",
       "&lt;body&gt;\n",
       "    \n",
       "    \n",
       "            &lt;div class=&quot;folium-map&quot; id=&quot;map_c8a3b4a6d68b69137e21f44ef1d0c0d4&quot; &gt;&lt;/div&gt;\n",
       "        \n",
       "&lt;/body&gt;\n",
       "&lt;script&gt;\n",
       "    \n",
       "    \n",
       "            var map_c8a3b4a6d68b69137e21f44ef1d0c0d4 = L.map(\n",
       "                &quot;map_c8a3b4a6d68b69137e21f44ef1d0c0d4&quot;,\n",
       "                {\n",
       "                    center: [50.965, 13.922],\n",
       "                    crs: L.CRS.EPSG3857,\n",
       "                    zoom: 12,\n",
       "                    zoomControl: true,\n",
       "                    preferCanvas: false,\n",
       "                }\n",
       "            );\n",
       "\n",
       "            \n",
       "\n",
       "        \n",
       "    \n",
       "            var tile_layer_c150618b8ba1fa8103542d3b03b8c109 = L.tileLayer(\n",
       "                &quot;https://{s}.basemaps.cartocdn.com/light_all/{z}/{x}/{y}{r}.png&quot;,\n",
       "                {&quot;attribution&quot;: &quot;\\u0026copy; \\u003ca href=\\&quot;https://www.openstreetmap.org/copyright\\&quot;\\u003eOpenStreetMap\\u003c/a\\u003e contributors \\u0026copy; \\u003ca href=\\&quot;https://carto.com/attributions\\&quot;\\u003eCARTO\\u003c/a\\u003e&quot;, &quot;detectRetina&quot;: false, &quot;maxNativeZoom&quot;: 20, &quot;maxZoom&quot;: 20, &quot;minZoom&quot;: 0, &quot;noWrap&quot;: false, &quot;opacity&quot;: 1, &quot;subdomains&quot;: &quot;abcd&quot;, &quot;tms&quot;: false}\n",
       "            );\n",
       "        \n",
       "    \n",
       "            tile_layer_c150618b8ba1fa8103542d3b03b8c109.addTo(map_c8a3b4a6d68b69137e21f44ef1d0c0d4);\n",
       "        \n",
       "    \n",
       "\n",
       "        function geo_json_862b2f999b753252ff8c94956833e377_onEachFeature(feature, layer) {\n",
       "            layer.on({\n",
       "            });\n",
       "        };\n",
       "        var geo_json_862b2f999b753252ff8c94956833e377 = L.geoJson(null, {\n",
       "                onEachFeature: geo_json_862b2f999b753252ff8c94956833e377_onEachFeature,\n",
       "            \n",
       "        });\n",
       "\n",
       "        function geo_json_862b2f999b753252ff8c94956833e377_add (data) {\n",
       "            geo_json_862b2f999b753252ff8c94956833e377\n",
       "                .addData(data);\n",
       "        }\n",
       "            geo_json_862b2f999b753252ff8c94956833e377_add({&quot;coordinates&quot;: [[[13.922514437551428, 50.964720483303836], [13.925250781947113, 50.965228748412386], [13.925036413951403, 50.96623732041704], [13.92222441026388, 50.96629040370362], [13.922514437551428, 50.964720483303836]]], &quot;type&quot;: &quot;Polygon&quot;});\n",
       "\n",
       "        \n",
       "    \n",
       "            geo_json_862b2f999b753252ff8c94956833e377.addTo(map_c8a3b4a6d68b69137e21f44ef1d0c0d4);\n",
       "        \n",
       "    \n",
       "            map_c8a3b4a6d68b69137e21f44ef1d0c0d4.fitBounds(\n",
       "                [[50.964720483303836, 13.92222441026388], [50.96629040370362, 13.925250781947113]],\n",
       "                {}\n",
       "            );\n",
       "        \n",
       "&lt;/script&gt;\n",
       "&lt;/html&gt;\" style=\"position:absolute;width:100%;height:100%;left:0;top:0;border:none !important;\" allowfullscreen webkitallowfullscreen mozallowfullscreen></iframe></div></div>"
      ],
      "text/plain": [
       "<folium.folium.Map at 0x13c3abb60>"
      ]
     },
     "execution_count": 5,
     "metadata": {},
     "output_type": "execute_result"
    }
   ],
   "source": [
    "import folium\n",
    "\n",
    "m = folium.Map(tiles=\"cartodbpositron\", crs=\"EPSG3857\", zoom_start=12, location=[50.965, 13.922])\n",
    "m.add_child(folium.GeoJson(polygon.as_geojson()))\n",
    "\n",
    "m.fit_bounds(m.get_bounds())\n",
    "m"
   ]
  },
  {
   "cell_type": "markdown",
   "id": "62ae3587df801000",
   "metadata": {
    "collapsed": false,
    "papermill": {
     "duration": 0.001974,
     "end_time": "2024-06-19T09:30:40.596855",
     "exception": false,
     "start_time": "2024-06-19T09:30:40.594881",
     "status": "completed"
    },
    "tags": []
   },
   "source": [
    "# Setup constant head boundary with 1 observation"
   ]
  },
  {
   "cell_type": "code",
   "execution_count": 6,
   "id": "53679913aee28ce9",
   "metadata": {
    "ExecuteTime": {
     "end_time": "2024-06-19T09:26:31.269597Z",
     "start_time": "2024-06-19T09:26:31.245995Z"
    },
    "collapsed": false,
    "execution": {
     "iopub.execute_input": "2024-06-19T09:30:40.601238Z",
     "iopub.status.busy": "2024-06-19T09:30:40.601086Z",
     "iopub.status.idle": "2024-06-19T09:30:40.621970Z",
     "shell.execute_reply": "2024-06-19T09:30:40.621724Z"
    },
    "papermill": {
     "duration": 0.024064,
     "end_time": "2024-06-19T09:30:40.622804",
     "exception": false,
     "start_time": "2024-06-19T09:30:40.598740",
     "status": "completed"
    },
    "tags": []
   },
   "outputs": [
    {
     "data": {
      "text/html": [
       "<div style=\"width:100%;\"><div style=\"position:relative;width:100%;height:0;padding-bottom:60%;\"><span style=\"color:#565656\">Make this Notebook Trusted to load map: File -> Trust Notebook</span><iframe srcdoc=\"&lt;!DOCTYPE html&gt;\n",
       "&lt;html&gt;\n",
       "&lt;head&gt;\n",
       "    \n",
       "    &lt;meta http-equiv=&quot;content-type&quot; content=&quot;text/html; charset=UTF-8&quot; /&gt;\n",
       "    \n",
       "        &lt;script&gt;\n",
       "            L_NO_TOUCH = false;\n",
       "            L_DISABLE_3D = false;\n",
       "        &lt;/script&gt;\n",
       "    \n",
       "    &lt;style&gt;html, body {width: 100%;height: 100%;margin: 0;padding: 0;}&lt;/style&gt;\n",
       "    &lt;style&gt;#map {position:absolute;top:0;bottom:0;right:0;left:0;}&lt;/style&gt;\n",
       "    &lt;script src=&quot;https://cdn.jsdelivr.net/npm/leaflet@1.9.3/dist/leaflet.js&quot;&gt;&lt;/script&gt;\n",
       "    &lt;script src=&quot;https://code.jquery.com/jquery-3.7.1.min.js&quot;&gt;&lt;/script&gt;\n",
       "    &lt;script src=&quot;https://cdn.jsdelivr.net/npm/bootstrap@5.2.2/dist/js/bootstrap.bundle.min.js&quot;&gt;&lt;/script&gt;\n",
       "    &lt;script src=&quot;https://cdnjs.cloudflare.com/ajax/libs/Leaflet.awesome-markers/2.0.2/leaflet.awesome-markers.js&quot;&gt;&lt;/script&gt;\n",
       "    &lt;link rel=&quot;stylesheet&quot; href=&quot;https://cdn.jsdelivr.net/npm/leaflet@1.9.3/dist/leaflet.css&quot;/&gt;\n",
       "    &lt;link rel=&quot;stylesheet&quot; href=&quot;https://cdn.jsdelivr.net/npm/bootstrap@5.2.2/dist/css/bootstrap.min.css&quot;/&gt;\n",
       "    &lt;link rel=&quot;stylesheet&quot; href=&quot;https://netdna.bootstrapcdn.com/bootstrap/3.0.0/css/bootstrap.min.css&quot;/&gt;\n",
       "    &lt;link rel=&quot;stylesheet&quot; href=&quot;https://cdn.jsdelivr.net/npm/@fortawesome/fontawesome-free@6.2.0/css/all.min.css&quot;/&gt;\n",
       "    &lt;link rel=&quot;stylesheet&quot; href=&quot;https://cdnjs.cloudflare.com/ajax/libs/Leaflet.awesome-markers/2.0.2/leaflet.awesome-markers.css&quot;/&gt;\n",
       "    &lt;link rel=&quot;stylesheet&quot; href=&quot;https://cdn.jsdelivr.net/gh/python-visualization/folium/folium/templates/leaflet.awesome.rotate.min.css&quot;/&gt;\n",
       "    \n",
       "            &lt;meta name=&quot;viewport&quot; content=&quot;width=device-width,\n",
       "                initial-scale=1.0, maximum-scale=1.0, user-scalable=no&quot; /&gt;\n",
       "            &lt;style&gt;\n",
       "                #map_c8a3b4a6d68b69137e21f44ef1d0c0d4 {\n",
       "                    position: relative;\n",
       "                    width: 100.0%;\n",
       "                    height: 100.0%;\n",
       "                    left: 0.0%;\n",
       "                    top: 0.0%;\n",
       "                }\n",
       "                .leaflet-container { font-size: 1rem; }\n",
       "            &lt;/style&gt;\n",
       "        \n",
       "&lt;/head&gt;\n",
       "&lt;body&gt;\n",
       "    \n",
       "    \n",
       "            &lt;div class=&quot;folium-map&quot; id=&quot;map_c8a3b4a6d68b69137e21f44ef1d0c0d4&quot; &gt;&lt;/div&gt;\n",
       "        \n",
       "&lt;/body&gt;\n",
       "&lt;script&gt;\n",
       "    \n",
       "    \n",
       "            var map_c8a3b4a6d68b69137e21f44ef1d0c0d4 = L.map(\n",
       "                &quot;map_c8a3b4a6d68b69137e21f44ef1d0c0d4&quot;,\n",
       "                {\n",
       "                    center: [50.965, 13.922],\n",
       "                    crs: L.CRS.EPSG3857,\n",
       "                    zoom: 12,\n",
       "                    zoomControl: true,\n",
       "                    preferCanvas: false,\n",
       "                }\n",
       "            );\n",
       "\n",
       "            \n",
       "\n",
       "        \n",
       "    \n",
       "            var tile_layer_c150618b8ba1fa8103542d3b03b8c109 = L.tileLayer(\n",
       "                &quot;https://{s}.basemaps.cartocdn.com/light_all/{z}/{x}/{y}{r}.png&quot;,\n",
       "                {&quot;attribution&quot;: &quot;\\u0026copy; \\u003ca href=\\&quot;https://www.openstreetmap.org/copyright\\&quot;\\u003eOpenStreetMap\\u003c/a\\u003e contributors \\u0026copy; \\u003ca href=\\&quot;https://carto.com/attributions\\&quot;\\u003eCARTO\\u003c/a\\u003e&quot;, &quot;detectRetina&quot;: false, &quot;maxNativeZoom&quot;: 20, &quot;maxZoom&quot;: 20, &quot;minZoom&quot;: 0, &quot;noWrap&quot;: false, &quot;opacity&quot;: 1, &quot;subdomains&quot;: &quot;abcd&quot;, &quot;tms&quot;: false}\n",
       "            );\n",
       "        \n",
       "    \n",
       "            tile_layer_c150618b8ba1fa8103542d3b03b8c109.addTo(map_c8a3b4a6d68b69137e21f44ef1d0c0d4);\n",
       "        \n",
       "    \n",
       "\n",
       "        function geo_json_862b2f999b753252ff8c94956833e377_onEachFeature(feature, layer) {\n",
       "            layer.on({\n",
       "            });\n",
       "        };\n",
       "        var geo_json_862b2f999b753252ff8c94956833e377 = L.geoJson(null, {\n",
       "                onEachFeature: geo_json_862b2f999b753252ff8c94956833e377_onEachFeature,\n",
       "            \n",
       "        });\n",
       "\n",
       "        function geo_json_862b2f999b753252ff8c94956833e377_add (data) {\n",
       "            geo_json_862b2f999b753252ff8c94956833e377\n",
       "                .addData(data);\n",
       "        }\n",
       "            geo_json_862b2f999b753252ff8c94956833e377_add({&quot;coordinates&quot;: [[[13.922514437551428, 50.964720483303836], [13.925250781947113, 50.965228748412386], [13.925036413951403, 50.96623732041704], [13.92222441026388, 50.96629040370362], [13.922514437551428, 50.964720483303836]]], &quot;type&quot;: &quot;Polygon&quot;});\n",
       "\n",
       "        \n",
       "    \n",
       "            geo_json_862b2f999b753252ff8c94956833e377.addTo(map_c8a3b4a6d68b69137e21f44ef1d0c0d4);\n",
       "        \n",
       "    \n",
       "            map_c8a3b4a6d68b69137e21f44ef1d0c0d4.fitBounds(\n",
       "                [[50.964720483303836, 13.92222441026388], [50.96629040370362, 13.925250781947113]],\n",
       "                {}\n",
       "            );\n",
       "        \n",
       "    \n",
       "            tile_layer_c150618b8ba1fa8103542d3b03b8c109.addTo(map_c8a3b4a6d68b69137e21f44ef1d0c0d4);\n",
       "        \n",
       "    \n",
       "            geo_json_862b2f999b753252ff8c94956833e377.addTo(map_c8a3b4a6d68b69137e21f44ef1d0c0d4);\n",
       "        \n",
       "    \n",
       "\n",
       "        function geo_json_68eecf57348a02cbb96401bf193eae7a_onEachFeature(feature, layer) {\n",
       "            layer.on({\n",
       "            });\n",
       "        };\n",
       "        var geo_json_68eecf57348a02cbb96401bf193eae7a = L.geoJson(null, {\n",
       "                onEachFeature: geo_json_68eecf57348a02cbb96401bf193eae7a_onEachFeature,\n",
       "            \n",
       "        });\n",
       "\n",
       "        function geo_json_68eecf57348a02cbb96401bf193eae7a_add (data) {\n",
       "            geo_json_68eecf57348a02cbb96401bf193eae7a\n",
       "                .addData(data);\n",
       "        }\n",
       "            geo_json_68eecf57348a02cbb96401bf193eae7a_add({&quot;coordinates&quot;: [[13.9223, 50.9662], [13.925, 50.96615]], &quot;type&quot;: &quot;LineString&quot;});\n",
       "\n",
       "        \n",
       "    \n",
       "            geo_json_68eecf57348a02cbb96401bf193eae7a.addTo(map_c8a3b4a6d68b69137e21f44ef1d0c0d4);\n",
       "        \n",
       "    \n",
       "\n",
       "        function geo_json_1d80c2eb05adbb422c97f76179300cd8_onEachFeature(feature, layer) {\n",
       "            layer.on({\n",
       "            });\n",
       "        };\n",
       "        var geo_json_1d80c2eb05adbb422c97f76179300cd8 = L.geoJson(null, {\n",
       "                onEachFeature: geo_json_1d80c2eb05adbb422c97f76179300cd8_onEachFeature,\n",
       "            \n",
       "        });\n",
       "\n",
       "        function geo_json_1d80c2eb05adbb422c97f76179300cd8_add (data) {\n",
       "            geo_json_1d80c2eb05adbb422c97f76179300cd8\n",
       "                .addData(data);\n",
       "        }\n",
       "            geo_json_1d80c2eb05adbb422c97f76179300cd8_add({&quot;geometries&quot;: [{&quot;coordinates&quot;: [[[13.922224410263878, 50.96629040370359], [13.922527047432201, 50.96629040370359], [13.922527047432201, 50.9661334140511], [13.922224410263878, 50.9661334140511], [13.922224410263878, 50.96629040370359]]], &quot;type&quot;: &quot;Polygon&quot;}, {&quot;coordinates&quot;: [[[13.922527047432201, 50.96629040370359], [13.922829684600526, 50.96629040370359], [13.922829684600526, 50.9661334140511], [13.922527047432201, 50.9661334140511], [13.922527047432201, 50.96629040370359]]], &quot;type&quot;: &quot;Polygon&quot;}, {&quot;coordinates&quot;: [[[13.922829684600526, 50.96629040370359], [13.923132321768849, 50.96629040370359], [13.923132321768849, 50.9661334140511], [13.922829684600526, 50.9661334140511], [13.922829684600526, 50.96629040370359]]], &quot;type&quot;: &quot;Polygon&quot;}, {&quot;coordinates&quot;: [[[13.923132321768849, 50.96629040370359], [13.923434958937172, 50.96629040370359], [13.923434958937172, 50.9661334140511], [13.923132321768849, 50.9661334140511], [13.923132321768849, 50.96629040370359]]], &quot;type&quot;: &quot;Polygon&quot;}, {&quot;coordinates&quot;: [[[13.923434958937172, 50.96629040370359], [13.923737596105495, 50.96629040370359], [13.923737596105495, 50.9661334140511], [13.923434958937172, 50.9661334140511], [13.923434958937172, 50.96629040370359]]], &quot;type&quot;: &quot;Polygon&quot;}, {&quot;coordinates&quot;: [[[13.923737596105495, 50.96629040370359], [13.924040233273818, 50.96629040370359], [13.924040233273818, 50.9661334140511], [13.923737596105495, 50.9661334140511], [13.923737596105495, 50.96629040370359]]], &quot;type&quot;: &quot;Polygon&quot;}, {&quot;coordinates&quot;: [[[13.924040233273818, 50.96629040370359], [13.924342870442143, 50.96629040370359], [13.924342870442143, 50.9661334140511], [13.924040233273818, 50.9661334140511], [13.924040233273818, 50.96629040370359]]], &quot;type&quot;: &quot;Polygon&quot;}, {&quot;coordinates&quot;: [[[13.924342870442143, 50.96629040370359], [13.924645507610466, 50.96629040370359], [13.924645507610466, 50.9661334140511], [13.924342870442143, 50.9661334140511], [13.924342870442143, 50.96629040370359]]], &quot;type&quot;: &quot;Polygon&quot;}, {&quot;coordinates&quot;: [[[13.924645507610466, 50.96629040370359], [13.92494814477879, 50.96629040370359], [13.92494814477879, 50.9661334140511], [13.924645507610466, 50.9661334140511], [13.924645507610466, 50.96629040370359]]], &quot;type&quot;: &quot;Polygon&quot;}, {&quot;coordinates&quot;: [[[13.92494814477879, 50.96629040370359], [13.925250781947113, 50.96629040370359], [13.925250781947113, 50.9661334140511], [13.92494814477879, 50.9661334140511], [13.92494814477879, 50.96629040370359]]], &quot;type&quot;: &quot;Polygon&quot;}], &quot;type&quot;: &quot;GeometryCollection&quot;});\n",
       "\n",
       "        \n",
       "    \n",
       "            geo_json_1d80c2eb05adbb422c97f76179300cd8.addTo(map_c8a3b4a6d68b69137e21f44ef1d0c0d4);\n",
       "        \n",
       "    \n",
       "\n",
       "        function geo_json_ec3bceea8bff7ffed2b3848f4ead724b_onEachFeature(feature, layer) {\n",
       "            layer.on({\n",
       "            });\n",
       "        };\n",
       "        var geo_json_ec3bceea8bff7ffed2b3848f4ead724b = L.geoJson(null, {\n",
       "                onEachFeature: geo_json_ec3bceea8bff7ffed2b3848f4ead724b_onEachFeature,\n",
       "            \n",
       "        });\n",
       "\n",
       "        function geo_json_ec3bceea8bff7ffed2b3848f4ead724b_add (data) {\n",
       "            geo_json_ec3bceea8bff7ffed2b3848f4ead724b\n",
       "                .addData(data);\n",
       "        }\n",
       "            geo_json_ec3bceea8bff7ffed2b3848f4ead724b_add({&quot;coordinates&quot;: [13.9223, 50.9662], &quot;type&quot;: &quot;Point&quot;});\n",
       "\n",
       "        \n",
       "    \n",
       "            geo_json_ec3bceea8bff7ffed2b3848f4ead724b.addTo(map_c8a3b4a6d68b69137e21f44ef1d0c0d4);\n",
       "        \n",
       "    \n",
       "            map_c8a3b4a6d68b69137e21f44ef1d0c0d4.fitBounds(\n",
       "                [[50.964720483303836, 13.922224410263878], [50.96629040370362, 13.925250781947113]],\n",
       "                {}\n",
       "            );\n",
       "        \n",
       "&lt;/script&gt;\n",
       "&lt;/html&gt;\" style=\"position:absolute;width:100%;height:100%;left:0;top:0;border:none !important;\" allowfullscreen webkitallowfullscreen mozallowfullscreen></iframe></div></div>"
      ],
      "text/plain": [
       "<folium.folium.Map at 0x13c3abb60>"
      ]
     },
     "execution_count": 6,
     "metadata": {},
     "output_type": "execute_result"
    }
   ],
   "source": [
    "from morpheus.project.types.boundaries.Observation import ObservationName\n",
    "from morpheus.project.types.boundaries.ConstantHeadObservation import ObservationId, HeadValue, ConstantHeadRawDataItem\n",
    "from morpheus.project.types.geometry import Point\n",
    "from morpheus.project.types.boundaries.Boundary import BoundaryName\n",
    "from morpheus.project.types.layers import LayerId\n",
    "from morpheus.project.types.boundaries.Boundary import ConstantHeadBoundary, ConstantHeadObservation\n",
    "\n",
    "layers_list = [LayerId.new()]\n",
    "constant_head = ConstantHeadBoundary.from_geometry(\n",
    "  name=BoundaryName('constant_head'),\n",
    "  geometry=LineString([\n",
    "    (13.9223, 50.9662),\n",
    "    (13.9250, 50.96615),\n",
    "  ]),\n",
    "  grid=grid,\n",
    "  affected_layers=[model.layers[0].layer_id],\n",
    "  observations=[\n",
    "    ConstantHeadObservation(\n",
    "      observation_id=ObservationId.new(),\n",
    "      observation_name=ObservationName.default(),\n",
    "      geometry=Point((13.9223, 50.9662)),\n",
    "      data=[\n",
    "        ConstantHeadRawDataItem(\n",
    "          date_time=StartDateTime.from_datetime(datetime(2019, 1, 1)),\n",
    "          head=HeadValue.from_float(100),\n",
    "        ),\n",
    "        ConstantHeadRawDataItem(\n",
    "          date_time=StartDateTime.from_datetime(datetime(2021, 12, 31)),\n",
    "          head=HeadValue.from_float(120),\n",
    "        ),\n",
    "      ]\n",
    "    )\n",
    "  ]\n",
    ")\n",
    "\n",
    "m.add_child(folium.GeoJson(constant_head.as_geojson()))\n",
    "m.add_child(folium.GeoJson(constant_head.affected_cells.to_geojson(grid).as_geojson()))\n",
    "for constant_head.observation in constant_head.observations:\n",
    "  m.add_child(folium.GeoJson(constant_head.observation.as_geojson()))\n",
    "m.fit_bounds(m.get_bounds())\n",
    "m"
   ]
  },
  {
   "cell_type": "code",
   "execution_count": 7,
   "id": "621e2265ae79b1ae",
   "metadata": {
    "ExecuteTime": {
     "end_time": "2024-06-19T09:26:31.274942Z",
     "start_time": "2024-06-19T09:26:31.270949Z"
    },
    "collapsed": false,
    "execution": {
     "iopub.execute_input": "2024-06-19T09:30:40.627910Z",
     "iopub.status.busy": "2024-06-19T09:30:40.627793Z",
     "iopub.status.idle": "2024-06-19T09:30:40.629739Z",
     "shell.execute_reply": "2024-06-19T09:30:40.629466Z"
    },
    "papermill": {
     "duration": 0.005309,
     "end_time": "2024-06-19T09:30:40.630455",
     "exception": false,
     "start_time": "2024-06-19T09:30:40.625146",
     "status": "completed"
    },
    "tags": []
   },
   "outputs": [],
   "source": [
    "from morpheus.project.types.boundaries.Boundary import BoundaryCollection\n",
    "\n",
    "boundary_collection = BoundaryCollection.new()\n",
    "boundary_collection.add_boundary(constant_head)\n",
    "\n",
    "model = model.with_updated_boundaries(boundaries=boundary_collection)"
   ]
  },
  {
   "cell_type": "markdown",
   "id": "42d948d145a8457a",
   "metadata": {
    "collapsed": false,
    "papermill": {
     "duration": 0.002069,
     "end_time": "2024-06-19T09:30:40.634752",
     "exception": false,
     "start_time": "2024-06-19T09:30:40.632683",
     "status": "completed"
    },
    "tags": []
   },
   "source": [
    "## Calculate"
   ]
  },
  {
   "cell_type": "code",
   "execution_count": 8,
   "id": "56ccabee86e2397e",
   "metadata": {
    "ExecuteTime": {
     "end_time": "2024-06-19T09:26:31.667912Z",
     "start_time": "2024-06-19T09:26:31.275666Z"
    },
    "collapsed": false,
    "execution": {
     "iopub.execute_input": "2024-06-19T09:30:40.639661Z",
     "iopub.status.busy": "2024-06-19T09:30:40.639561Z",
     "iopub.status.idle": "2024-06-19T09:30:40.918339Z",
     "shell.execute_reply": "2024-06-19T09:30:40.918065Z"
    },
    "papermill": {
     "duration": 0.282489,
     "end_time": "2024-06-19T09:30:40.919270",
     "exception": false,
     "start_time": "2024-06-19T09:30:40.636781",
     "status": "completed"
    },
    "tags": []
   },
   "outputs": [],
   "source": [
    "from morpheus.project.infrastructure.calculation.engines.modflow_2005.types.Mf2005CalculationEngineSettings import \\\n",
    "  Mf2005CalculationEngineSettings\n",
    "from morpheus.project.types.calculation.CalculationProfile import CalculationProfile, CalculationEngineType\n",
    "from morpheus.project.types.calculation.Calculation import Calculation\n",
    "\n",
    "calculation_engine_settings = Mf2005CalculationEngineSettings.default()\n",
    "calculation_profile = CalculationProfile.new(CalculationEngineType.MF2005)\n",
    "calculation = Calculation.new(model=model, calculation_profile=calculation_profile)"
   ]
  },
  {
   "cell_type": "code",
   "execution_count": 9,
   "id": "e09d94e0a94315cb",
   "metadata": {
    "ExecuteTime": {
     "end_time": "2024-06-19T09:26:31.671563Z",
     "start_time": "2024-06-19T09:26:31.668637Z"
    },
    "collapsed": false,
    "execution": {
     "iopub.execute_input": "2024-06-19T09:30:40.924278Z",
     "iopub.status.busy": "2024-06-19T09:30:40.924120Z",
     "iopub.status.idle": "2024-06-19T09:30:40.926943Z",
     "shell.execute_reply": "2024-06-19T09:30:40.926720Z"
    },
    "papermill": {
     "duration": 0.006108,
     "end_time": "2024-06-19T09:30:40.927721",
     "exception": false,
     "start_time": "2024-06-19T09:30:40.921613",
     "status": "completed"
    },
    "tags": []
   },
   "outputs": [
    {
     "data": {
      "text/plain": [
       "CalculationId(value='db032363-9032-4999-ba03-263ad9d2b64e')"
      ]
     },
     "execution_count": 9,
     "metadata": {},
     "output_type": "execute_result"
    }
   ],
   "source": [
    "calculation = Calculation.from_dict(calculation.to_dict())\n",
    "calculation.calculation_id"
   ]
  },
  {
   "cell_type": "code",
   "execution_count": 10,
   "id": "672007fb90753c4c",
   "metadata": {
    "ExecuteTime": {
     "end_time": "2024-06-19T09:26:32.082528Z",
     "start_time": "2024-06-19T09:26:31.672235Z"
    },
    "collapsed": false,
    "execution": {
     "iopub.execute_input": "2024-06-19T09:30:40.932693Z",
     "iopub.status.busy": "2024-06-19T09:30:40.932588Z",
     "iopub.status.idle": "2024-06-19T09:30:41.307798Z",
     "shell.execute_reply": "2024-06-19T09:30:41.307463Z"
    },
    "papermill": {
     "duration": 0.378645,
     "end_time": "2024-06-19T09:30:41.308664",
     "exception": false,
     "start_time": "2024-06-19T09:30:40.930019",
     "status": "completed"
    },
    "tags": []
   },
   "outputs": [
    {
     "name": "stdout",
     "output_type": "stream",
     "text": [
      "Model(model_id=ModelId(value='8a105757-4766-49a2-a60d-6abf8b85de32'), spatial_discretization=SpatialDiscretization(geometry=Polygon(coordinates=[[(13.922514437551428, 50.964720483303836), (13.925250781947113, 50.965228748412386), (13.925036413951403, 50.96623732041704), (13.92222441026388, 50.96629040370362), (13.922514437551428, 50.964720483303836)]], type='Polygon'), grid=Grid(origin=Point(coordinates=(13.922224410263878, 50.9662904037036), type='Point'), col_widths=[33.68941547288559, 33.68941547288559, 33.6894154728856, 33.689415472885585, 33.6894154728856, 33.6894154728856, 33.68941547288557, 33.6894154728856, 33.68941547288563, 33.68941547288557], total_width=336.89415472885594, row_heights=[27.74944856585935, 27.74944856585935, 27.749448565859346, 27.749448565859353, 27.74944856585934, 27.749448565859353, 27.749448565859325, 27.74944856585938, 27.749448565859325, 27.749448565859353], total_height=277.4944856585935, rotation=Rotation(value=0), length_unit=LengthUnit(unit=2)), affected_cells=ActiveCells(shape=(10, 10), data=[ActiveCell(col=0, row=0), ActiveCell(col=1, row=0), ActiveCell(col=2, row=0), ActiveCell(col=3, row=0), ActiveCell(col=4, row=0), ActiveCell(col=5, row=0), ActiveCell(col=6, row=0), ActiveCell(col=7, row=0), ActiveCell(col=8, row=0), ActiveCell(col=0, row=1), ActiveCell(col=1, row=1), ActiveCell(col=2, row=1), ActiveCell(col=3, row=1), ActiveCell(col=4, row=1), ActiveCell(col=5, row=1), ActiveCell(col=6, row=1), ActiveCell(col=7, row=1), ActiveCell(col=8, row=1), ActiveCell(col=0, row=2), ActiveCell(col=1, row=2), ActiveCell(col=2, row=2), ActiveCell(col=3, row=2), ActiveCell(col=4, row=2), ActiveCell(col=5, row=2), ActiveCell(col=6, row=2), ActiveCell(col=7, row=2), ActiveCell(col=8, row=2), ActiveCell(col=9, row=2), ActiveCell(col=0, row=3), ActiveCell(col=1, row=3), ActiveCell(col=2, row=3), ActiveCell(col=3, row=3), ActiveCell(col=4, row=3), ActiveCell(col=5, row=3), ActiveCell(col=6, row=3), ActiveCell(col=7, row=3), ActiveCell(col=8, row=3), ActiveCell(col=9, row=3), ActiveCell(col=0, row=4), ActiveCell(col=1, row=4), ActiveCell(col=2, row=4), ActiveCell(col=3, row=4), ActiveCell(col=4, row=4), ActiveCell(col=5, row=4), ActiveCell(col=6, row=4), ActiveCell(col=7, row=4), ActiveCell(col=8, row=4), ActiveCell(col=9, row=4), ActiveCell(col=1, row=5), ActiveCell(col=2, row=5), ActiveCell(col=3, row=5), ActiveCell(col=4, row=5), ActiveCell(col=5, row=5), ActiveCell(col=6, row=5), ActiveCell(col=7, row=5), ActiveCell(col=8, row=5), ActiveCell(col=9, row=5), ActiveCell(col=1, row=6), ActiveCell(col=2, row=6), ActiveCell(col=3, row=6), ActiveCell(col=4, row=6), ActiveCell(col=5, row=6), ActiveCell(col=6, row=6), ActiveCell(col=7, row=6), ActiveCell(col=8, row=6), ActiveCell(col=9, row=6), ActiveCell(col=1, row=7), ActiveCell(col=2, row=7), ActiveCell(col=3, row=7), ActiveCell(col=4, row=7), ActiveCell(col=5, row=7), ActiveCell(col=6, row=7), ActiveCell(col=7, row=7), ActiveCell(col=1, row=8), ActiveCell(col=2, row=8), ActiveCell(col=3, row=8), ActiveCell(col=4, row=8), ActiveCell(col=1, row=9)])), time_discretization=TimeDiscretization(start_date_time=StartDateTime(value=datetime.datetime(2020, 1, 1, 0, 0, tzinfo=datetime.timezone.utc)), end_date_time=EndDateTime(value=datetime.datetime(2020, 12, 31, 0, 0, tzinfo=datetime.timezone.utc)), stress_periods=StressPeriodCollection(values=[StressPeriod(start_date_time=StartDateTime(value=datetime.datetime(2020, 1, 1, 0, 0, tzinfo=datetime.timezone.utc)), number_of_time_steps=NumberOfTimeSteps(value=1), time_step_multiplier=TimeStepMultiplier(value=1), steady_state=IsSteadyState(value=True))]), time_unit=TimeUnit(unit=4)), boundaries=BoundaryCollection(boundaries=[ConstantHeadBoundary(boundary_id=BoundaryId(value='c572aadb-8a62-4445-85eb-d6317bc63288'), type=BoundaryType(type='constant_head'), name=BoundaryName(value='constant_head'), tags=BoundaryTags(value=[]), geometry=LineString(coordinates=[(13.9223, 50.9662), (13.925, 50.96615)], type='LineString'), affected_cells=ActiveCells(shape=(10, 10), data=[ActiveCell(col=0, row=0), ActiveCell(col=1, row=0), ActiveCell(col=2, row=0), ActiveCell(col=3, row=0), ActiveCell(col=4, row=0), ActiveCell(col=5, row=0), ActiveCell(col=6, row=0), ActiveCell(col=7, row=0), ActiveCell(col=8, row=0)]), affected_layers=[LayerId(value='e2e3ee9f-83d8-48e9-b704-2727ea2ba48e')], observations=[ConstantHeadObservation(observation_id=ObservationId(value='0371b3f3-c882-41f4-9d89-52eeaf4a881a'), observation_name=ObservationName(value='Observation Point 1'), geometry=Point(coordinates=(13.9223, 50.9662), type='Point'), data=[ConstantHeadRawDataItem(date_time=StartDateTime(value=datetime.datetime(2019, 1, 1, 0, 0, tzinfo=datetime.timezone.utc)), head=HeadValue(value=100)), ConstantHeadRawDataItem(date_time=StartDateTime(value=datetime.datetime(2021, 12, 31, 0, 0, tzinfo=datetime.timezone.utc)), head=HeadValue(value=120))])], enabled=True)]), observations=ObservationCollection(observations=[]), layers=LayersCollection(layers=[Layer(layer_id=LayerId(value='e2e3ee9f-83d8-48e9-b704-2727ea2ba48e'), name=LayerName(value='Default'), description=LayerDescription(value='Default'), confinement=LayerConfinement(type='confined'), properties=LayerProperties(hk=LayerPropertyValues(value=LayerPropertyDefaultValue(value=1.0), raster=None, zones=None), hani=LayerPropertyValues(value=LayerPropertyDefaultValue(value=1.0), raster=None, zones=None), vka=LayerPropertyValues(value=LayerPropertyDefaultValue(value=1.0), raster=None, zones=None), specific_storage=LayerPropertyValues(value=LayerPropertyDefaultValue(value=0.0001), raster=None, zones=None), specific_yield=LayerPropertyValues(value=LayerPropertyDefaultValue(value=0.1), raster=None, zones=None), initial_head=LayerPropertyValues(value=LayerPropertyDefaultValue(value=1.0), raster=None, zones=None), top=LayerPropertyValues(value=LayerPropertyDefaultValue(value=1.0), raster=None, zones=None), bottom=LayerPropertyValues(value=LayerPropertyDefaultValue(value=0.0), raster=None, zones=None)))]), transport=Transport(is_enabled=IsEnabled(value=False), substances=[]), variable_density=VariableDensityFlow(is_enabled=IsEnabled(value=False), viscosity_is_enabled=IsEnabled(value=False)))\n",
      "FloPy is using the following executable to run the model: ../../../../../../../src/backend/.venv/bin/mf2005\n",
      "\n",
      "                                  MODFLOW-2005     \n",
      "    U.S. GEOLOGICAL SURVEY MODULAR FINITE-DIFFERENCE GROUND-WATER FLOW MODEL\n",
      "                             Version 1.12.00 2/3/2017                        \n",
      "\n",
      " Using NAME file: 8a105757-4766-49a2-a60d-6abf8b85de32.nam \n",
      " Run start date and time (yyyy/mm/dd hh:mm:ss): 2024/06/19 11:30:41\n",
      "\n",
      " Solving:  Stress period:     1    Time step:     1    Ground-Water Flow Eqn.\n",
      " Run end date and time (yyyy/mm/dd hh:mm:ss): 2024/06/19 11:30:41\n",
      " Elapsed run time:  0.008 Seconds\n",
      "\n",
      "  Normal termination of simulation\n"
     ]
    }
   ],
   "source": [
    "from morpheus.project.infrastructure.calculation.services.CalculationService import CalculationService\n",
    "\n",
    "calculation_service = CalculationService.from_calculation(calculation)\n",
    "calculation_service.calculate()"
   ]
  },
  {
   "cell_type": "code",
   "execution_count": 11,
   "id": "beae154ec6b0a8f3",
   "metadata": {
    "ExecuteTime": {
     "end_time": "2024-06-19T09:26:32.087530Z",
     "start_time": "2024-06-19T09:26:32.084859Z"
    },
    "collapsed": false,
    "execution": {
     "iopub.execute_input": "2024-06-19T09:30:41.314184Z",
     "iopub.status.busy": "2024-06-19T09:30:41.313827Z",
     "iopub.status.idle": "2024-06-19T09:30:41.316411Z",
     "shell.execute_reply": "2024-06-19T09:30:41.316178Z"
    },
    "papermill": {
     "duration": 0.00604,
     "end_time": "2024-06-19T09:30:41.317173",
     "exception": false,
     "start_time": "2024-06-19T09:30:41.311133",
     "status": "completed"
    },
    "tags": []
   },
   "outputs": [
    {
     "data": {
      "text/plain": [
       "CalculationLog(log=['', '                                  MODFLOW-2005     ', '    U.S. GEOLOGICAL SURVEY MODULAR FINITE-DIFFERENCE GROUND-WATER FLOW MODEL', '                             Version 1.12.00 2/3/2017                        ', '', ' Using NAME file: 8a105757-4766-49a2-a60d-6abf8b85de32.nam ', ' Run start date and time (yyyy/mm/dd hh:mm:ss): 2024/06/19 11:30:41', '', ' Solving:  Stress period:     1    Time step:     1    Ground-Water Flow Eqn.', ' Run end date and time (yyyy/mm/dd hh:mm:ss): 2024/06/19 11:30:41', ' Elapsed run time:  0.008 Seconds', '', '  Normal termination of simulation'])"
      ]
     },
     "execution_count": 11,
     "metadata": {},
     "output_type": "execute_result"
    }
   ],
   "source": [
    "calculation_service.get_log()"
   ]
  },
  {
   "cell_type": "code",
   "execution_count": 12,
   "id": "a52d1dd3a1574032",
   "metadata": {
    "ExecuteTime": {
     "end_time": "2024-06-19T09:26:32.091211Z",
     "start_time": "2024-06-19T09:26:32.088798Z"
    },
    "collapsed": false,
    "execution": {
     "iopub.execute_input": "2024-06-19T09:30:41.322124Z",
     "iopub.status.busy": "2024-06-19T09:30:41.322012Z",
     "iopub.status.idle": "2024-06-19T09:30:41.323841Z",
     "shell.execute_reply": "2024-06-19T09:30:41.323647Z"
    },
    "papermill": {
     "duration": 0.005164,
     "end_time": "2024-06-19T09:30:41.324567",
     "exception": false,
     "start_time": "2024-06-19T09:30:41.319403",
     "status": "completed"
    },
    "tags": []
   },
   "outputs": [
    {
     "data": {
      "text/plain": [
       "CalculationResult(type=<CalculationResultType.SUCCESS: 'success'>, message='Calculation finished successfully', files=['8a105757-4766-49a2-a60d-6abf8b85de32.list', '8a105757-4766-49a2-a60d-6abf8b85de32.pcg', '8a105757-4766-49a2-a60d-6abf8b85de32.oc', '8a105757-4766-49a2-a60d-6abf8b85de32.hds', '8a105757-4766-49a2-a60d-6abf8b85de32.dis', '8a105757-4766-49a2-a60d-6abf8b85de32.chd', '8a105757-4766-49a2-a60d-6abf8b85de32.lpf', '8a105757-4766-49a2-a60d-6abf8b85de32.bas', '8a105757-4766-49a2-a60d-6abf8b85de32.nam'], flow_head_results=AvailableResults(times=[365.0], kstpkper=[(0, 0)], number_of_layers=1, number_of_observations=0), flow_drawdown_results=None, flow_budget_results=AvailableResults(times=[365.0], kstpkper=[(0, 0)], number_of_layers=0, number_of_observations=0), transport_concentration_results=None, transport_budget_results=None)"
      ]
     },
     "execution_count": 12,
     "metadata": {},
     "output_type": "execute_result"
    }
   ],
   "source": [
    "calculation_service.get_result()"
   ]
  },
  {
   "cell_type": "code",
   "execution_count": 13,
   "id": "cc43ad077c7a81d0",
   "metadata": {
    "ExecuteTime": {
     "end_time": "2024-06-19T09:26:32.094137Z",
     "start_time": "2024-06-19T09:26:32.091853Z"
    },
    "collapsed": false,
    "execution": {
     "iopub.execute_input": "2024-06-19T09:30:41.329493Z",
     "iopub.status.busy": "2024-06-19T09:30:41.329396Z",
     "iopub.status.idle": "2024-06-19T09:30:41.331360Z",
     "shell.execute_reply": "2024-06-19T09:30:41.331150Z"
    },
    "papermill": {
     "duration": 0.005286,
     "end_time": "2024-06-19T09:30:41.332117",
     "exception": false,
     "start_time": "2024-06-19T09:30:41.326831",
     "status": "completed"
    },
    "tags": []
   },
   "outputs": [],
   "source": [
    "head = calculation_service.read_flow_head(0, 0)"
   ]
  },
  {
   "cell_type": "code",
   "execution_count": 14,
   "id": "12454cc4d9e18de5",
   "metadata": {
    "ExecuteTime": {
     "end_time": "2024-06-19T09:26:32.097553Z",
     "start_time": "2024-06-19T09:26:32.094785Z"
    },
    "collapsed": false,
    "execution": {
     "iopub.execute_input": "2024-06-19T09:30:41.337083Z",
     "iopub.status.busy": "2024-06-19T09:30:41.336992Z",
     "iopub.status.idle": "2024-06-19T09:30:41.339023Z",
     "shell.execute_reply": "2024-06-19T09:30:41.338807Z"
    },
    "papermill": {
     "duration": 0.005385,
     "end_time": "2024-06-19T09:30:41.339777",
     "exception": false,
     "start_time": "2024-06-19T09:30:41.334392",
     "status": "completed"
    },
    "tags": []
   },
   "outputs": [
    {
     "data": {
      "text/plain": [
       "'[[113.33300018310547, 113.33300018310547, 113.33300018310547, 113.33300018310547, 113.33300018310547, 113.33300018310547, 113.33300018310547, 113.33300018310547, 113.33300018310547, null], [113.33300018310547, 113.33300018310547, 113.33300018310547, 113.33300018310547, 113.33300018310547, 113.33300018310547, 113.33300018310547, 113.33300018310547, 113.33300018310547, null], [113.33300018310547, 113.33300018310547, 113.33300018310547, 113.33300018310547, 113.33300018310547, 113.33300018310547, 113.33300018310547, 113.33300018310547, 113.33300018310547, 113.33300018310547], [113.33300018310547, 113.33300018310547, 113.33300018310547, 113.33300018310547, 113.33300018310547, 113.33300018310547, 113.33300018310547, 113.33300018310547, 113.33300018310547, 113.33300018310547], [113.33300018310547, 113.33300018310547, 113.33300018310547, 113.33300018310547, 113.33300018310547, 113.33300018310547, 113.33300018310547, 113.33300018310547, 113.33300018310547, 113.33300018310547], [null, 113.33300018310547, 113.33300018310547, 113.33300018310547, 113.33300018310547, 113.33300018310547, 113.33300018310547, 113.33300018310547, 113.33300018310547, 113.33300018310547], [null, 113.33300018310547, 113.33300018310547, 113.33300018310547, 113.33300018310547, 113.33300018310547, 113.33300018310547, 113.33300018310547, 113.33300018310547, 113.33300018310547], [null, 113.33300018310547, 113.33300018310547, 113.33300018310547, 113.33300018310547, 113.33300018310547, 113.33300018310547, 113.33300018310547, null, null], [null, 113.33300018310547, 113.33300018310547, 113.33300018310547, 113.33300018310547, null, null, null, null, null], [null, 113.33300018310547, null, null, null, null, null, null, null, null]]'"
      ]
     },
     "execution_count": 14,
     "metadata": {},
     "output_type": "execute_result"
    }
   ],
   "source": [
    "import simplejson as json\n",
    "\n",
    "json = json.dumps(head, ignore_nan=True)\n",
    "json"
   ]
  },
  {
   "cell_type": "code",
   "execution_count": 15,
   "id": "df7dfd8ff0308815",
   "metadata": {
    "ExecuteTime": {
     "end_time": "2024-06-19T09:26:32.100568Z",
     "start_time": "2024-06-19T09:26:32.098235Z"
    },
    "collapsed": false,
    "execution": {
     "iopub.execute_input": "2024-06-19T09:30:41.344894Z",
     "iopub.status.busy": "2024-06-19T09:30:41.344792Z",
     "iopub.status.idle": "2024-06-19T09:30:41.346833Z",
     "shell.execute_reply": "2024-06-19T09:30:41.346641Z"
    },
    "papermill": {
     "duration": 0.005443,
     "end_time": "2024-06-19T09:30:41.347582",
     "exception": false,
     "start_time": "2024-06-19T09:30:41.342139",
     "status": "completed"
    },
    "tags": []
   },
   "outputs": [
    {
     "data": {
      "text/plain": [
       "[]"
      ]
     },
     "execution_count": 15,
     "metadata": {},
     "output_type": "execute_result"
    }
   ],
   "source": [
    "calculation_service.read_flow_drawdown(0, 0)"
   ]
  },
  {
   "cell_type": "code",
   "execution_count": 16,
   "id": "b233f4066b56c174",
   "metadata": {
    "ExecuteTime": {
     "end_time": "2024-06-19T09:26:32.105329Z",
     "start_time": "2024-06-19T09:26:32.101201Z"
    },
    "collapsed": false,
    "execution": {
     "iopub.execute_input": "2024-06-19T09:30:41.352963Z",
     "iopub.status.busy": "2024-06-19T09:30:41.352853Z",
     "iopub.status.idle": "2024-06-19T09:30:41.355869Z",
     "shell.execute_reply": "2024-06-19T09:30:41.355650Z"
    },
    "papermill": {
     "duration": 0.006714,
     "end_time": "2024-06-19T09:30:41.356765",
     "exception": false,
     "start_time": "2024-06-19T09:30:41.350051",
     "status": "completed"
    },
    "tags": []
   },
   "outputs": [
    {
     "data": {
      "text/plain": [
       "{'STORAGE_IN': 0.0,\n",
       " 'CONSTANT_HEAD_IN': 0.0,\n",
       " 'TOTAL_IN': 0.0,\n",
       " 'STORAGE_OUT': -0.0,\n",
       " 'CONSTANT_HEAD_OUT': -0.0018196,\n",
       " 'TOTAL_OUT': -0.0018196,\n",
       " 'IN-OUT': -0.0018196,\n",
       " 'PERCENT_DISCREPANCY': -200.0,\n",
       " 'tslen': 365.0}"
      ]
     },
     "execution_count": 16,
     "metadata": {},
     "output_type": "execute_result"
    }
   ],
   "source": [
    "calculation_service.read_flow_budget(0, False)"
   ]
  },
  {
   "cell_type": "code",
   "execution_count": 17,
   "id": "634709d741f5c252",
   "metadata": {
    "ExecuteTime": {
     "end_time": "2024-06-19T09:26:32.109829Z",
     "start_time": "2024-06-19T09:26:32.106108Z"
    },
    "collapsed": false,
    "execution": {
     "iopub.execute_input": "2024-06-19T09:30:41.362400Z",
     "iopub.status.busy": "2024-06-19T09:30:41.362282Z",
     "iopub.status.idle": "2024-06-19T09:30:41.365275Z",
     "shell.execute_reply": "2024-06-19T09:30:41.365066Z"
    },
    "papermill": {
     "duration": 0.006574,
     "end_time": "2024-06-19T09:30:41.366015",
     "exception": false,
     "start_time": "2024-06-19T09:30:41.359441",
     "status": "completed"
    },
    "tags": []
   },
   "outputs": [
    {
     "data": {
      "text/plain": [
       "{'STORAGE_IN': 0.0,\n",
       " 'CONSTANT_HEAD_IN': 0.0,\n",
       " 'TOTAL_IN': 0.0,\n",
       " 'STORAGE_OUT': -0.0,\n",
       " 'CONSTANT_HEAD_OUT': -4.9852e-06,\n",
       " 'TOTAL_OUT': -4.9852e-06,\n",
       " 'IN-OUT': -4.9852e-06,\n",
       " 'PERCENT_DISCREPANCY': -200.0,\n",
       " 'tslen': 365.0}"
      ]
     },
     "execution_count": 17,
     "metadata": {},
     "output_type": "execute_result"
    }
   ],
   "source": [
    "calculation_service.read_flow_budget(0, True)"
   ]
  },
  {
   "cell_type": "code",
   "execution_count": 18,
   "id": "26523066436690e6",
   "metadata": {
    "ExecuteTime": {
     "end_time": "2024-06-19T09:26:32.113286Z",
     "start_time": "2024-06-19T09:26:32.110459Z"
    },
    "collapsed": false,
    "execution": {
     "iopub.execute_input": "2024-06-19T09:30:41.371347Z",
     "iopub.status.busy": "2024-06-19T09:30:41.371249Z",
     "iopub.status.idle": "2024-06-19T09:30:41.373142Z",
     "shell.execute_reply": "2024-06-19T09:30:41.372927Z"
    },
    "papermill": {
     "duration": 0.005431,
     "end_time": "2024-06-19T09:30:41.373884",
     "exception": false,
     "start_time": "2024-06-19T09:30:41.368453",
     "status": "completed"
    },
    "tags": []
   },
   "outputs": [
    {
     "data": {
      "text/plain": [
       "CalculationResult(type=<CalculationResultType.SUCCESS: 'success'>, message='Calculation finished successfully', files=['8a105757-4766-49a2-a60d-6abf8b85de32.list', '8a105757-4766-49a2-a60d-6abf8b85de32.pcg', '8a105757-4766-49a2-a60d-6abf8b85de32.oc', '8a105757-4766-49a2-a60d-6abf8b85de32.hds', '8a105757-4766-49a2-a60d-6abf8b85de32.dis', '8a105757-4766-49a2-a60d-6abf8b85de32.chd', '8a105757-4766-49a2-a60d-6abf8b85de32.lpf', '8a105757-4766-49a2-a60d-6abf8b85de32.bas', '8a105757-4766-49a2-a60d-6abf8b85de32.nam'], flow_head_results=AvailableResults(times=[365.0], kstpkper=[(0, 0)], number_of_layers=1, number_of_observations=0), flow_drawdown_results=None, flow_budget_results=AvailableResults(times=[365.0], kstpkper=[(0, 0)], number_of_layers=0, number_of_observations=0), transport_concentration_results=None, transport_budget_results=None)"
      ]
     },
     "execution_count": 18,
     "metadata": {},
     "output_type": "execute_result"
    }
   ],
   "source": [
    "calculation_service.get_result()"
   ]
  }
 ],
 "metadata": {
  "kernelspec": {
   "display_name": "Python 3",
   "language": "python",
   "name": "python3"
  },
  "language_info": {
   "codemirror_mode": {
    "name": "ipython",
    "version": 3
   },
   "file_extension": ".py",
   "mimetype": "text/x-python",
   "name": "python",
   "nbconvert_exporter": "python",
   "pygments_lexer": "ipython3",
   "version": "3.12.2"
  },
  "papermill": {
   "default_parameters": {},
   "duration": 2.997563,
   "end_time": "2024-06-19T09:30:42.098112",
   "environment_variables": {},
   "exception": null,
   "input_path": "./notebooks/Mf2005Calculation.ipynb",
   "output_path": "./notebooks/Mf2005Calculation.ipynb",
   "parameters": {},
   "start_time": "2024-06-19T09:30:39.100549",
   "version": "2.6.0"
  }
 },
 "nbformat": 4,
 "nbformat_minor": 5
}