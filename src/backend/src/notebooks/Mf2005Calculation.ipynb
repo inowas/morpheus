{
 "cells": [
  {
   "cell_type": "code",
   "execution_count": 1,
   "id": "ba6761fae9d5e5cb",
   "metadata": {
    "ExecuteTime": {
     "end_time": "2024-05-30T21:02:27.569406Z",
     "start_time": "2024-05-30T21:02:27.566662Z"
    },
    "collapsed": false,
    "execution": {
     "iopub.execute_input": "2024-06-18T10:13:16.609626Z",
     "iopub.status.busy": "2024-06-18T10:13:16.608572Z",
     "iopub.status.idle": "2024-06-18T10:13:16.615054Z",
     "shell.execute_reply": "2024-06-18T10:13:16.614358Z"
    },
    "papermill": {
     "duration": 0.022715,
     "end_time": "2024-06-18T10:13:16.617277",
     "exception": false,
     "start_time": "2024-06-18T10:13:16.594562",
     "status": "completed"
    },
    "tags": []
   },
   "outputs": [],
   "source": [
    "import sys\n",
    "\n",
    "sys.path.insert(0, '..')"
   ]
  },
  {
   "cell_type": "markdown",
   "id": "5ede1ba5e0993dd1",
   "metadata": {
    "collapsed": false,
    "papermill": {
     "duration": 0.003668,
     "end_time": "2024-06-18T10:13:16.628926",
     "exception": false,
     "start_time": "2024-06-18T10:13:16.625258",
     "status": "completed"
    },
    "tags": []
   },
   "source": [
    "## Setup the model area"
   ]
  },
  {
   "cell_type": "code",
   "execution_count": 2,
   "id": "2f69504ab35487aa",
   "metadata": {
    "ExecuteTime": {
     "end_time": "2024-05-30T21:02:27.752668Z",
     "start_time": "2024-05-30T21:02:27.590114Z"
    },
    "collapsed": false,
    "execution": {
     "iopub.execute_input": "2024-06-18T10:13:16.636374Z",
     "iopub.status.busy": "2024-06-18T10:13:16.636217Z",
     "iopub.status.idle": "2024-06-18T10:13:16.784747Z",
     "shell.execute_reply": "2024-06-18T10:13:16.783923Z"
    },
    "papermill": {
     "duration": 0.154555,
     "end_time": "2024-06-18T10:13:16.787005",
     "exception": false,
     "start_time": "2024-06-18T10:13:16.632450",
     "status": "completed"
    },
    "tags": []
   },
   "outputs": [
    {
     "data": {
      "text/plain": [
       "SpatialDiscretization(geometry=Polygon(coordinates=[[(13.922514437551428, 50.964720483303836), (13.925250781947113, 50.965228748412386), (13.925036413951403, 50.96623732041704), (13.92222441026388, 50.96629040370362), (13.922514437551428, 50.964720483303836)]], type='Polygon'), grid=Grid(origin=Point(coordinates=(13.922224410263878, 50.9662904037036), type='Point'), col_widths=[33.68941547288559, 33.68941547288559, 33.6894154728856, 33.689415472885585, 33.6894154728856, 33.6894154728856, 33.68941547288557, 33.6894154728856, 33.68941547288563, 33.68941547288557], total_width=336.89415472885594, row_heights=[27.74944856585935, 27.74944856585935, 27.749448565859346, 27.749448565859353, 27.74944856585934, 27.749448565859353, 27.749448565859325, 27.74944856585938, 27.749448565859325, 27.749448565859353], total_height=277.4944856585935, rotation=Rotation(value=0), length_unit=LengthUnit(unit=2)), affected_cells=ActiveCells(shape=(10, 10), data=[ActiveCell(col=0, row=0), ActiveCell(col=0, row=1), ActiveCell(col=0, row=2), ActiveCell(col=0, row=3), ActiveCell(col=0, row=4), ActiveCell(col=1, row=0), ActiveCell(col=1, row=1), ActiveCell(col=1, row=2), ActiveCell(col=1, row=3), ActiveCell(col=1, row=4), ActiveCell(col=1, row=5), ActiveCell(col=1, row=6), ActiveCell(col=1, row=7), ActiveCell(col=1, row=8), ActiveCell(col=1, row=9), ActiveCell(col=2, row=0), ActiveCell(col=2, row=1), ActiveCell(col=2, row=2), ActiveCell(col=2, row=3), ActiveCell(col=2, row=4), ActiveCell(col=2, row=5), ActiveCell(col=2, row=6), ActiveCell(col=2, row=7), ActiveCell(col=2, row=8), ActiveCell(col=3, row=0), ActiveCell(col=3, row=1), ActiveCell(col=3, row=2), ActiveCell(col=3, row=3), ActiveCell(col=3, row=4), ActiveCell(col=3, row=5), ActiveCell(col=3, row=6), ActiveCell(col=3, row=7), ActiveCell(col=3, row=8), ActiveCell(col=4, row=0), ActiveCell(col=4, row=1), ActiveCell(col=4, row=2), ActiveCell(col=4, row=3), ActiveCell(col=4, row=4), ActiveCell(col=4, row=5), ActiveCell(col=4, row=6), ActiveCell(col=4, row=7), ActiveCell(col=4, row=8), ActiveCell(col=5, row=0), ActiveCell(col=5, row=1), ActiveCell(col=5, row=2), ActiveCell(col=5, row=3), ActiveCell(col=5, row=4), ActiveCell(col=5, row=5), ActiveCell(col=5, row=6), ActiveCell(col=5, row=7), ActiveCell(col=6, row=0), ActiveCell(col=6, row=1), ActiveCell(col=6, row=2), ActiveCell(col=6, row=3), ActiveCell(col=6, row=4), ActiveCell(col=6, row=5), ActiveCell(col=6, row=6), ActiveCell(col=6, row=7), ActiveCell(col=7, row=0), ActiveCell(col=7, row=1), ActiveCell(col=7, row=2), ActiveCell(col=7, row=3), ActiveCell(col=7, row=4), ActiveCell(col=7, row=5), ActiveCell(col=7, row=6), ActiveCell(col=7, row=7), ActiveCell(col=8, row=0), ActiveCell(col=8, row=1), ActiveCell(col=8, row=2), ActiveCell(col=8, row=3), ActiveCell(col=8, row=4), ActiveCell(col=8, row=5), ActiveCell(col=8, row=6), ActiveCell(col=9, row=2), ActiveCell(col=9, row=3), ActiveCell(col=9, row=4), ActiveCell(col=9, row=5), ActiveCell(col=9, row=6)]))"
      ]
     },
     "execution_count": 2,
     "metadata": {},
     "output_type": "execute_result"
    }
   ],
   "source": [
    "from morpheus.project.types.discretization.spatial import ActiveCells\n",
    "from morpheus.project.types.discretization import SpatialDiscretization\n",
    "from morpheus.project.types.discretization.spatial import Rotation, LengthUnit, Grid, Crs\n",
    "from morpheus.project.types.geometry import Polygon, LineString\n",
    "\n",
    "polygon = Polygon(\n",
    "  type='Polygon',\n",
    "  coordinates=[[\n",
    "    (13.922514437551428, 50.964720483303836),\n",
    "    (13.925250781947113, 50.965228748412386),\n",
    "    (13.925036413951403, 50.96623732041704),\n",
    "    (13.92222441026388, 50.96629040370362),\n",
    "    (13.922514437551428, 50.964720483303836)\n",
    "  ]]\n",
    ")\n",
    "\n",
    "rotation = Rotation(0)\n",
    "length_unit = LengthUnit.meters()\n",
    "relative_col_coordinates = [0, 0.1, 0.2, 0.3, 0.4, 0.5, 0.6, 0.7, 0.8, 0.9, 1]\n",
    "relative_row_coordinates = [0, 0.1, 0.2, 0.3, 0.4, 0.5, 0.6, 0.7, 0.8, 0.9, 1]\n",
    "\n",
    "grid = Grid.from_polygon_with_relative_coordinates(\n",
    "  polygon=polygon,\n",
    "  relative_col_coordinates=relative_col_coordinates,\n",
    "  relative_row_coordinates=relative_row_coordinates,\n",
    "  rotation=rotation,\n",
    ")\n",
    "\n",
    "spatial_discretization = SpatialDiscretization(\n",
    "  geometry=polygon,\n",
    "  grid=grid,\n",
    "  affected_cells=ActiveCells.from_polygon(polygon=polygon, grid=grid),\n",
    "  crs=Crs.from_str('EPSG:4326')\n",
    ")\n",
    "\n",
    "spatial_discretization"
   ]
  },
  {
   "cell_type": "markdown",
   "id": "fa27e67f9d801845",
   "metadata": {
    "collapsed": false,
    "papermill": {
     "duration": 0.004417,
     "end_time": "2024-06-18T10:13:16.795712",
     "exception": false,
     "start_time": "2024-06-18T10:13:16.791295",
     "status": "completed"
    },
    "tags": []
   },
   "source": [
    "## Setup Time Discretization"
   ]
  },
  {
   "cell_type": "code",
   "execution_count": 3,
   "id": "8e4e63dd138db9fc",
   "metadata": {
    "ExecuteTime": {
     "end_time": "2024-05-30T21:02:27.759625Z",
     "start_time": "2024-05-30T21:02:27.756017Z"
    },
    "collapsed": false,
    "execution": {
     "iopub.execute_input": "2024-06-18T10:13:16.809123Z",
     "iopub.status.busy": "2024-06-18T10:13:16.808594Z",
     "iopub.status.idle": "2024-06-18T10:13:16.828729Z",
     "shell.execute_reply": "2024-06-18T10:13:16.828011Z"
    },
    "papermill": {
     "duration": 0.031028,
     "end_time": "2024-06-18T10:13:16.832961",
     "exception": false,
     "start_time": "2024-06-18T10:13:16.801933",
     "status": "completed"
    },
    "tags": []
   },
   "outputs": [],
   "source": [
    "from morpheus.project.types.discretization.time.TimeUnit import TimeUnit\n",
    "from morpheus.project.types.discretization.time.Stressperiods import StartDateTime, StressPeriodCollection, \\\n",
    "  StressPeriod, NumberOfTimeSteps, TimeStepMultiplier, IsSteadyState\n",
    "from morpheus.project.types.discretization.time import TimeDiscretization\n",
    "from datetime import datetime\n",
    "\n",
    "time_discretization = TimeDiscretization(\n",
    "  start_date_time=StartDateTime.from_datetime(datetime(2020, 1, 1)),\n",
    "  end_date_time=StartDateTime.from_datetime(datetime(2020, 12, 31)),\n",
    "  stress_periods=StressPeriodCollection([\n",
    "    StressPeriod(\n",
    "      start_date_time=StartDateTime.from_datetime(datetime(2020, 1, 1)),\n",
    "      number_of_time_steps=NumberOfTimeSteps(1),\n",
    "      time_step_multiplier=TimeStepMultiplier(1),\n",
    "      steady_state=IsSteadyState.yes()\n",
    "    ),\n",
    "  ]),\n",
    "  time_unit=TimeUnit.days()\n",
    ")"
   ]
  },
  {
   "cell_type": "markdown",
   "id": "963ba8729f09fcec",
   "metadata": {
    "collapsed": false,
    "papermill": {
     "duration": 0.00547,
     "end_time": "2024-06-18T10:13:16.847688",
     "exception": false,
     "start_time": "2024-06-18T10:13:16.842218",
     "status": "completed"
    },
    "tags": []
   },
   "source": [
    "# Setup Model"
   ]
  },
  {
   "cell_type": "code",
   "execution_count": 4,
   "id": "1d5c9125b1b9360b",
   "metadata": {
    "ExecuteTime": {
     "end_time": "2024-05-30T21:02:29.519978Z",
     "start_time": "2024-05-30T21:02:27.762932Z"
    },
    "collapsed": false,
    "execution": {
     "iopub.execute_input": "2024-06-18T10:13:16.859101Z",
     "iopub.status.busy": "2024-06-18T10:13:16.857974Z",
     "iopub.status.idle": "2024-06-18T10:13:17.245489Z",
     "shell.execute_reply": "2024-06-18T10:13:17.245141Z"
    },
    "papermill": {
     "duration": 0.395806,
     "end_time": "2024-06-18T10:13:17.246570",
     "exception": false,
     "start_time": "2024-06-18T10:13:16.850764",
     "status": "completed"
    },
    "tags": []
   },
   "outputs": [],
   "source": [
    "from morpheus.project.types.Model import Model\n",
    "\n",
    "model = Model.new()\n",
    "model = model.with_updated_time_discretization(time_discretization)\n",
    "model = model.with_updated_spatial_discretization(spatial_discretization=spatial_discretization)"
   ]
  },
  {
   "cell_type": "code",
   "execution_count": 5,
   "id": "1540b870ae83f298",
   "metadata": {
    "ExecuteTime": {
     "end_time": "2024-05-30T21:02:29.662486Z",
     "start_time": "2024-05-30T21:02:29.521358Z"
    },
    "collapsed": false,
    "execution": {
     "iopub.execute_input": "2024-06-18T10:13:17.254215Z",
     "iopub.status.busy": "2024-06-18T10:13:17.253849Z",
     "iopub.status.idle": "2024-06-18T10:13:17.388417Z",
     "shell.execute_reply": "2024-06-18T10:13:17.388102Z"
    },
    "papermill": {
     "duration": 0.140332,
     "end_time": "2024-06-18T10:13:17.389373",
     "exception": false,
     "start_time": "2024-06-18T10:13:17.249041",
     "status": "completed"
    },
    "tags": []
   },
   "outputs": [
    {
     "data": {
      "text/html": [
       "<div style=\"width:100%;\"><div style=\"position:relative;width:100%;height:0;padding-bottom:60%;\"><span style=\"color:#565656\">Make this Notebook Trusted to load map: File -> Trust Notebook</span><iframe srcdoc=\"&lt;!DOCTYPE html&gt;\n",
       "&lt;html&gt;\n",
       "&lt;head&gt;\n",
       "    \n",
       "    &lt;meta http-equiv=&quot;content-type&quot; content=&quot;text/html; charset=UTF-8&quot; /&gt;\n",
       "    \n",
       "        &lt;script&gt;\n",
       "            L_NO_TOUCH = false;\n",
       "            L_DISABLE_3D = false;\n",
       "        &lt;/script&gt;\n",
       "    \n",
       "    &lt;style&gt;html, body {width: 100%;height: 100%;margin: 0;padding: 0;}&lt;/style&gt;\n",
       "    &lt;style&gt;#map {position:absolute;top:0;bottom:0;right:0;left:0;}&lt;/style&gt;\n",
       "    &lt;script src=&quot;https://cdn.jsdelivr.net/npm/leaflet@1.9.3/dist/leaflet.js&quot;&gt;&lt;/script&gt;\n",
       "    &lt;script src=&quot;https://code.jquery.com/jquery-3.7.1.min.js&quot;&gt;&lt;/script&gt;\n",
       "    &lt;script src=&quot;https://cdn.jsdelivr.net/npm/bootstrap@5.2.2/dist/js/bootstrap.bundle.min.js&quot;&gt;&lt;/script&gt;\n",
       "    &lt;script src=&quot;https://cdnjs.cloudflare.com/ajax/libs/Leaflet.awesome-markers/2.0.2/leaflet.awesome-markers.js&quot;&gt;&lt;/script&gt;\n",
       "    &lt;link rel=&quot;stylesheet&quot; href=&quot;https://cdn.jsdelivr.net/npm/leaflet@1.9.3/dist/leaflet.css&quot;/&gt;\n",
       "    &lt;link rel=&quot;stylesheet&quot; href=&quot;https://cdn.jsdelivr.net/npm/bootstrap@5.2.2/dist/css/bootstrap.min.css&quot;/&gt;\n",
       "    &lt;link rel=&quot;stylesheet&quot; href=&quot;https://netdna.bootstrapcdn.com/bootstrap/3.0.0/css/bootstrap.min.css&quot;/&gt;\n",
       "    &lt;link rel=&quot;stylesheet&quot; href=&quot;https://cdn.jsdelivr.net/npm/@fortawesome/fontawesome-free@6.2.0/css/all.min.css&quot;/&gt;\n",
       "    &lt;link rel=&quot;stylesheet&quot; href=&quot;https://cdnjs.cloudflare.com/ajax/libs/Leaflet.awesome-markers/2.0.2/leaflet.awesome-markers.css&quot;/&gt;\n",
       "    &lt;link rel=&quot;stylesheet&quot; href=&quot;https://cdn.jsdelivr.net/gh/python-visualization/folium/folium/templates/leaflet.awesome.rotate.min.css&quot;/&gt;\n",
       "    \n",
       "            &lt;meta name=&quot;viewport&quot; content=&quot;width=device-width,\n",
       "                initial-scale=1.0, maximum-scale=1.0, user-scalable=no&quot; /&gt;\n",
       "            &lt;style&gt;\n",
       "                #map_1a25ba816c93b5a2127fc2d1f3233be3 {\n",
       "                    position: relative;\n",
       "                    width: 100.0%;\n",
       "                    height: 100.0%;\n",
       "                    left: 0.0%;\n",
       "                    top: 0.0%;\n",
       "                }\n",
       "                .leaflet-container { font-size: 1rem; }\n",
       "            &lt;/style&gt;\n",
       "        \n",
       "&lt;/head&gt;\n",
       "&lt;body&gt;\n",
       "    \n",
       "    \n",
       "            &lt;div class=&quot;folium-map&quot; id=&quot;map_1a25ba816c93b5a2127fc2d1f3233be3&quot; &gt;&lt;/div&gt;\n",
       "        \n",
       "&lt;/body&gt;\n",
       "&lt;script&gt;\n",
       "    \n",
       "    \n",
       "            var map_1a25ba816c93b5a2127fc2d1f3233be3 = L.map(\n",
       "                &quot;map_1a25ba816c93b5a2127fc2d1f3233be3&quot;,\n",
       "                {\n",
       "                    center: [50.965, 13.922],\n",
       "                    crs: L.CRS.EPSG3857,\n",
       "                    zoom: 12,\n",
       "                    zoomControl: true,\n",
       "                    preferCanvas: false,\n",
       "                }\n",
       "            );\n",
       "\n",
       "            \n",
       "\n",
       "        \n",
       "    \n",
       "            var tile_layer_dd017ba47e4c750345a955db352912c9 = L.tileLayer(\n",
       "                &quot;https://{s}.basemaps.cartocdn.com/light_all/{z}/{x}/{y}{r}.png&quot;,\n",
       "                {&quot;attribution&quot;: &quot;\\u0026copy; \\u003ca href=\\&quot;https://www.openstreetmap.org/copyright\\&quot;\\u003eOpenStreetMap\\u003c/a\\u003e contributors \\u0026copy; \\u003ca href=\\&quot;https://carto.com/attributions\\&quot;\\u003eCARTO\\u003c/a\\u003e&quot;, &quot;detectRetina&quot;: false, &quot;maxNativeZoom&quot;: 20, &quot;maxZoom&quot;: 20, &quot;minZoom&quot;: 0, &quot;noWrap&quot;: false, &quot;opacity&quot;: 1, &quot;subdomains&quot;: &quot;abcd&quot;, &quot;tms&quot;: false}\n",
       "            );\n",
       "        \n",
       "    \n",
       "            tile_layer_dd017ba47e4c750345a955db352912c9.addTo(map_1a25ba816c93b5a2127fc2d1f3233be3);\n",
       "        \n",
       "    \n",
       "\n",
       "        function geo_json_7f57c9d22746ff2e5f11fe2a5d0383d5_onEachFeature(feature, layer) {\n",
       "            layer.on({\n",
       "            });\n",
       "        };\n",
       "        var geo_json_7f57c9d22746ff2e5f11fe2a5d0383d5 = L.geoJson(null, {\n",
       "                onEachFeature: geo_json_7f57c9d22746ff2e5f11fe2a5d0383d5_onEachFeature,\n",
       "            \n",
       "        });\n",
       "\n",
       "        function geo_json_7f57c9d22746ff2e5f11fe2a5d0383d5_add (data) {\n",
       "            geo_json_7f57c9d22746ff2e5f11fe2a5d0383d5\n",
       "                .addData(data);\n",
       "        }\n",
       "            geo_json_7f57c9d22746ff2e5f11fe2a5d0383d5_add({&quot;coordinates&quot;: [[[13.922514437551428, 50.964720483303836], [13.925250781947113, 50.965228748412386], [13.925036413951403, 50.96623732041704], [13.92222441026388, 50.96629040370362], [13.922514437551428, 50.964720483303836]]], &quot;type&quot;: &quot;Polygon&quot;});\n",
       "\n",
       "        \n",
       "    \n",
       "            geo_json_7f57c9d22746ff2e5f11fe2a5d0383d5.addTo(map_1a25ba816c93b5a2127fc2d1f3233be3);\n",
       "        \n",
       "    \n",
       "            map_1a25ba816c93b5a2127fc2d1f3233be3.fitBounds(\n",
       "                [[50.964720483303836, 13.92222441026388], [50.96629040370362, 13.925250781947113]],\n",
       "                {}\n",
       "            );\n",
       "        \n",
       "&lt;/script&gt;\n",
       "&lt;/html&gt;\" style=\"position:absolute;width:100%;height:100%;left:0;top:0;border:none !important;\" allowfullscreen webkitallowfullscreen mozallowfullscreen></iframe></div></div>"
      ],
      "text/plain": [
       "<folium.folium.Map at 0x1324974a0>"
      ]
     },
     "execution_count": 5,
     "metadata": {},
     "output_type": "execute_result"
    }
   ],
   "source": [
    "import folium\n",
    "\n",
    "m = folium.Map(tiles=\"cartodbpositron\", crs=\"EPSG3857\", zoom_start=12, location=[50.965, 13.922])\n",
    "m.add_child(folium.GeoJson(polygon.as_geojson()))\n",
    "\n",
    "m.fit_bounds(m.get_bounds())\n",
    "m"
   ]
  },
  {
   "cell_type": "markdown",
   "id": "62ae3587df801000",
   "metadata": {
    "collapsed": false,
    "papermill": {
     "duration": 0.002156,
     "end_time": "2024-06-18T10:13:17.394180",
     "exception": false,
     "start_time": "2024-06-18T10:13:17.392024",
     "status": "completed"
    },
    "tags": []
   },
   "source": [
    "# Setup constant head boundary with 1 observation"
   ]
  },
  {
   "cell_type": "code",
   "execution_count": 6,
   "id": "53679913aee28ce9",
   "metadata": {
    "ExecuteTime": {
     "end_time": "2024-05-30T21:02:29.686660Z",
     "start_time": "2024-05-30T21:02:29.663065Z"
    },
    "collapsed": false,
    "execution": {
     "iopub.execute_input": "2024-06-18T10:13:17.399341Z",
     "iopub.status.busy": "2024-06-18T10:13:17.399134Z",
     "iopub.status.idle": "2024-06-18T10:13:17.422516Z",
     "shell.execute_reply": "2024-06-18T10:13:17.422260Z"
    },
    "papermill": {
     "duration": 0.027016,
     "end_time": "2024-06-18T10:13:17.423327",
     "exception": false,
     "start_time": "2024-06-18T10:13:17.396311",
     "status": "completed"
    },
    "tags": []
   },
   "outputs": [
    {
     "data": {
      "text/html": [
       "<div style=\"width:100%;\"><div style=\"position:relative;width:100%;height:0;padding-bottom:60%;\"><span style=\"color:#565656\">Make this Notebook Trusted to load map: File -> Trust Notebook</span><iframe srcdoc=\"&lt;!DOCTYPE html&gt;\n",
       "&lt;html&gt;\n",
       "&lt;head&gt;\n",
       "    \n",
       "    &lt;meta http-equiv=&quot;content-type&quot; content=&quot;text/html; charset=UTF-8&quot; /&gt;\n",
       "    \n",
       "        &lt;script&gt;\n",
       "            L_NO_TOUCH = false;\n",
       "            L_DISABLE_3D = false;\n",
       "        &lt;/script&gt;\n",
       "    \n",
       "    &lt;style&gt;html, body {width: 100%;height: 100%;margin: 0;padding: 0;}&lt;/style&gt;\n",
       "    &lt;style&gt;#map {position:absolute;top:0;bottom:0;right:0;left:0;}&lt;/style&gt;\n",
       "    &lt;script src=&quot;https://cdn.jsdelivr.net/npm/leaflet@1.9.3/dist/leaflet.js&quot;&gt;&lt;/script&gt;\n",
       "    &lt;script src=&quot;https://code.jquery.com/jquery-3.7.1.min.js&quot;&gt;&lt;/script&gt;\n",
       "    &lt;script src=&quot;https://cdn.jsdelivr.net/npm/bootstrap@5.2.2/dist/js/bootstrap.bundle.min.js&quot;&gt;&lt;/script&gt;\n",
       "    &lt;script src=&quot;https://cdnjs.cloudflare.com/ajax/libs/Leaflet.awesome-markers/2.0.2/leaflet.awesome-markers.js&quot;&gt;&lt;/script&gt;\n",
       "    &lt;link rel=&quot;stylesheet&quot; href=&quot;https://cdn.jsdelivr.net/npm/leaflet@1.9.3/dist/leaflet.css&quot;/&gt;\n",
       "    &lt;link rel=&quot;stylesheet&quot; href=&quot;https://cdn.jsdelivr.net/npm/bootstrap@5.2.2/dist/css/bootstrap.min.css&quot;/&gt;\n",
       "    &lt;link rel=&quot;stylesheet&quot; href=&quot;https://netdna.bootstrapcdn.com/bootstrap/3.0.0/css/bootstrap.min.css&quot;/&gt;\n",
       "    &lt;link rel=&quot;stylesheet&quot; href=&quot;https://cdn.jsdelivr.net/npm/@fortawesome/fontawesome-free@6.2.0/css/all.min.css&quot;/&gt;\n",
       "    &lt;link rel=&quot;stylesheet&quot; href=&quot;https://cdnjs.cloudflare.com/ajax/libs/Leaflet.awesome-markers/2.0.2/leaflet.awesome-markers.css&quot;/&gt;\n",
       "    &lt;link rel=&quot;stylesheet&quot; href=&quot;https://cdn.jsdelivr.net/gh/python-visualization/folium/folium/templates/leaflet.awesome.rotate.min.css&quot;/&gt;\n",
       "    \n",
       "            &lt;meta name=&quot;viewport&quot; content=&quot;width=device-width,\n",
       "                initial-scale=1.0, maximum-scale=1.0, user-scalable=no&quot; /&gt;\n",
       "            &lt;style&gt;\n",
       "                #map_1a25ba816c93b5a2127fc2d1f3233be3 {\n",
       "                    position: relative;\n",
       "                    width: 100.0%;\n",
       "                    height: 100.0%;\n",
       "                    left: 0.0%;\n",
       "                    top: 0.0%;\n",
       "                }\n",
       "                .leaflet-container { font-size: 1rem; }\n",
       "            &lt;/style&gt;\n",
       "        \n",
       "&lt;/head&gt;\n",
       "&lt;body&gt;\n",
       "    \n",
       "    \n",
       "            &lt;div class=&quot;folium-map&quot; id=&quot;map_1a25ba816c93b5a2127fc2d1f3233be3&quot; &gt;&lt;/div&gt;\n",
       "        \n",
       "&lt;/body&gt;\n",
       "&lt;script&gt;\n",
       "    \n",
       "    \n",
       "            var map_1a25ba816c93b5a2127fc2d1f3233be3 = L.map(\n",
       "                &quot;map_1a25ba816c93b5a2127fc2d1f3233be3&quot;,\n",
       "                {\n",
       "                    center: [50.965, 13.922],\n",
       "                    crs: L.CRS.EPSG3857,\n",
       "                    zoom: 12,\n",
       "                    zoomControl: true,\n",
       "                    preferCanvas: false,\n",
       "                }\n",
       "            );\n",
       "\n",
       "            \n",
       "\n",
       "        \n",
       "    \n",
       "            var tile_layer_dd017ba47e4c750345a955db352912c9 = L.tileLayer(\n",
       "                &quot;https://{s}.basemaps.cartocdn.com/light_all/{z}/{x}/{y}{r}.png&quot;,\n",
       "                {&quot;attribution&quot;: &quot;\\u0026copy; \\u003ca href=\\&quot;https://www.openstreetmap.org/copyright\\&quot;\\u003eOpenStreetMap\\u003c/a\\u003e contributors \\u0026copy; \\u003ca href=\\&quot;https://carto.com/attributions\\&quot;\\u003eCARTO\\u003c/a\\u003e&quot;, &quot;detectRetina&quot;: false, &quot;maxNativeZoom&quot;: 20, &quot;maxZoom&quot;: 20, &quot;minZoom&quot;: 0, &quot;noWrap&quot;: false, &quot;opacity&quot;: 1, &quot;subdomains&quot;: &quot;abcd&quot;, &quot;tms&quot;: false}\n",
       "            );\n",
       "        \n",
       "    \n",
       "            tile_layer_dd017ba47e4c750345a955db352912c9.addTo(map_1a25ba816c93b5a2127fc2d1f3233be3);\n",
       "        \n",
       "    \n",
       "\n",
       "        function geo_json_7f57c9d22746ff2e5f11fe2a5d0383d5_onEachFeature(feature, layer) {\n",
       "            layer.on({\n",
       "            });\n",
       "        };\n",
       "        var geo_json_7f57c9d22746ff2e5f11fe2a5d0383d5 = L.geoJson(null, {\n",
       "                onEachFeature: geo_json_7f57c9d22746ff2e5f11fe2a5d0383d5_onEachFeature,\n",
       "            \n",
       "        });\n",
       "\n",
       "        function geo_json_7f57c9d22746ff2e5f11fe2a5d0383d5_add (data) {\n",
       "            geo_json_7f57c9d22746ff2e5f11fe2a5d0383d5\n",
       "                .addData(data);\n",
       "        }\n",
       "            geo_json_7f57c9d22746ff2e5f11fe2a5d0383d5_add({&quot;coordinates&quot;: [[[13.922514437551428, 50.964720483303836], [13.925250781947113, 50.965228748412386], [13.925036413951403, 50.96623732041704], [13.92222441026388, 50.96629040370362], [13.922514437551428, 50.964720483303836]]], &quot;type&quot;: &quot;Polygon&quot;});\n",
       "\n",
       "        \n",
       "    \n",
       "            geo_json_7f57c9d22746ff2e5f11fe2a5d0383d5.addTo(map_1a25ba816c93b5a2127fc2d1f3233be3);\n",
       "        \n",
       "    \n",
       "            map_1a25ba816c93b5a2127fc2d1f3233be3.fitBounds(\n",
       "                [[50.964720483303836, 13.92222441026388], [50.96629040370362, 13.925250781947113]],\n",
       "                {}\n",
       "            );\n",
       "        \n",
       "    \n",
       "            tile_layer_dd017ba47e4c750345a955db352912c9.addTo(map_1a25ba816c93b5a2127fc2d1f3233be3);\n",
       "        \n",
       "    \n",
       "            geo_json_7f57c9d22746ff2e5f11fe2a5d0383d5.addTo(map_1a25ba816c93b5a2127fc2d1f3233be3);\n",
       "        \n",
       "    \n",
       "\n",
       "        function geo_json_ec99d453b8522647c6e3913d6d0bb1c3_onEachFeature(feature, layer) {\n",
       "            layer.on({\n",
       "            });\n",
       "        };\n",
       "        var geo_json_ec99d453b8522647c6e3913d6d0bb1c3 = L.geoJson(null, {\n",
       "                onEachFeature: geo_json_ec99d453b8522647c6e3913d6d0bb1c3_onEachFeature,\n",
       "            \n",
       "        });\n",
       "\n",
       "        function geo_json_ec99d453b8522647c6e3913d6d0bb1c3_add (data) {\n",
       "            geo_json_ec99d453b8522647c6e3913d6d0bb1c3\n",
       "                .addData(data);\n",
       "        }\n",
       "            geo_json_ec99d453b8522647c6e3913d6d0bb1c3_add({&quot;coordinates&quot;: [[13.9223, 50.9662], [13.925, 50.96615]], &quot;type&quot;: &quot;LineString&quot;});\n",
       "\n",
       "        \n",
       "    \n",
       "            geo_json_ec99d453b8522647c6e3913d6d0bb1c3.addTo(map_1a25ba816c93b5a2127fc2d1f3233be3);\n",
       "        \n",
       "    \n",
       "\n",
       "        function geo_json_2eb14aff1d6df4033b209a4c383bf967_onEachFeature(feature, layer) {\n",
       "            layer.on({\n",
       "            });\n",
       "        };\n",
       "        var geo_json_2eb14aff1d6df4033b209a4c383bf967 = L.geoJson(null, {\n",
       "                onEachFeature: geo_json_2eb14aff1d6df4033b209a4c383bf967_onEachFeature,\n",
       "            \n",
       "        });\n",
       "\n",
       "        function geo_json_2eb14aff1d6df4033b209a4c383bf967_add (data) {\n",
       "            geo_json_2eb14aff1d6df4033b209a4c383bf967\n",
       "                .addData(data);\n",
       "        }\n",
       "            geo_json_2eb14aff1d6df4033b209a4c383bf967_add({&quot;geometries&quot;: [{&quot;coordinates&quot;: [[[13.922224410263878, 50.96629040370359], [13.922527047432201, 50.96629040370359], [13.922527047432201, 50.9661334140511], [13.922224410263878, 50.9661334140511], [13.922224410263878, 50.96629040370359]]], &quot;type&quot;: &quot;Polygon&quot;}, {&quot;coordinates&quot;: [[[13.922527047432201, 50.96629040370359], [13.922829684600526, 50.96629040370359], [13.922829684600526, 50.9661334140511], [13.922527047432201, 50.9661334140511], [13.922527047432201, 50.96629040370359]]], &quot;type&quot;: &quot;Polygon&quot;}, {&quot;coordinates&quot;: [[[13.922829684600526, 50.96629040370359], [13.923132321768849, 50.96629040370359], [13.923132321768849, 50.9661334140511], [13.922829684600526, 50.9661334140511], [13.922829684600526, 50.96629040370359]]], &quot;type&quot;: &quot;Polygon&quot;}, {&quot;coordinates&quot;: [[[13.923132321768849, 50.96629040370359], [13.923434958937172, 50.96629040370359], [13.923434958937172, 50.9661334140511], [13.923132321768849, 50.9661334140511], [13.923132321768849, 50.96629040370359]]], &quot;type&quot;: &quot;Polygon&quot;}, {&quot;coordinates&quot;: [[[13.923434958937172, 50.96629040370359], [13.923737596105495, 50.96629040370359], [13.923737596105495, 50.9661334140511], [13.923434958937172, 50.9661334140511], [13.923434958937172, 50.96629040370359]]], &quot;type&quot;: &quot;Polygon&quot;}, {&quot;coordinates&quot;: [[[13.923737596105495, 50.96629040370359], [13.924040233273818, 50.96629040370359], [13.924040233273818, 50.9661334140511], [13.923737596105495, 50.9661334140511], [13.923737596105495, 50.96629040370359]]], &quot;type&quot;: &quot;Polygon&quot;}, {&quot;coordinates&quot;: [[[13.924040233273818, 50.96629040370359], [13.924342870442143, 50.96629040370359], [13.924342870442143, 50.9661334140511], [13.924040233273818, 50.9661334140511], [13.924040233273818, 50.96629040370359]]], &quot;type&quot;: &quot;Polygon&quot;}, {&quot;coordinates&quot;: [[[13.924342870442143, 50.96629040370359], [13.924645507610466, 50.96629040370359], [13.924645507610466, 50.9661334140511], [13.924342870442143, 50.9661334140511], [13.924342870442143, 50.96629040370359]]], &quot;type&quot;: &quot;Polygon&quot;}, {&quot;coordinates&quot;: [[[13.924645507610466, 50.96629040370359], [13.92494814477879, 50.96629040370359], [13.92494814477879, 50.9661334140511], [13.924645507610466, 50.9661334140511], [13.924645507610466, 50.96629040370359]]], &quot;type&quot;: &quot;Polygon&quot;}, {&quot;coordinates&quot;: [[[13.92494814477879, 50.96629040370359], [13.925250781947113, 50.96629040370359], [13.925250781947113, 50.9661334140511], [13.92494814477879, 50.9661334140511], [13.92494814477879, 50.96629040370359]]], &quot;type&quot;: &quot;Polygon&quot;}], &quot;type&quot;: &quot;GeometryCollection&quot;});\n",
       "\n",
       "        \n",
       "    \n",
       "            geo_json_2eb14aff1d6df4033b209a4c383bf967.addTo(map_1a25ba816c93b5a2127fc2d1f3233be3);\n",
       "        \n",
       "    \n",
       "\n",
       "        function geo_json_79347d5cc0c28bd2620b6307701bf4ff_onEachFeature(feature, layer) {\n",
       "            layer.on({\n",
       "            });\n",
       "        };\n",
       "        var geo_json_79347d5cc0c28bd2620b6307701bf4ff = L.geoJson(null, {\n",
       "                onEachFeature: geo_json_79347d5cc0c28bd2620b6307701bf4ff_onEachFeature,\n",
       "            \n",
       "        });\n",
       "\n",
       "        function geo_json_79347d5cc0c28bd2620b6307701bf4ff_add (data) {\n",
       "            geo_json_79347d5cc0c28bd2620b6307701bf4ff\n",
       "                .addData(data);\n",
       "        }\n",
       "            geo_json_79347d5cc0c28bd2620b6307701bf4ff_add({&quot;coordinates&quot;: [13.9223, 50.9662], &quot;type&quot;: &quot;Point&quot;});\n",
       "\n",
       "        \n",
       "    \n",
       "            geo_json_79347d5cc0c28bd2620b6307701bf4ff.addTo(map_1a25ba816c93b5a2127fc2d1f3233be3);\n",
       "        \n",
       "    \n",
       "            map_1a25ba816c93b5a2127fc2d1f3233be3.fitBounds(\n",
       "                [[50.964720483303836, 13.922224410263878], [50.96629040370362, 13.925250781947113]],\n",
       "                {}\n",
       "            );\n",
       "        \n",
       "&lt;/script&gt;\n",
       "&lt;/html&gt;\" style=\"position:absolute;width:100%;height:100%;left:0;top:0;border:none !important;\" allowfullscreen webkitallowfullscreen mozallowfullscreen></iframe></div></div>"
      ],
      "text/plain": [
       "<folium.folium.Map at 0x1324974a0>"
      ]
     },
     "execution_count": 6,
     "metadata": {},
     "output_type": "execute_result"
    }
   ],
   "source": [
    "from morpheus.project.types.boundaries.Observation import ObservationName\n",
    "from morpheus.project.types.boundaries.ConstantHeadObservation import ObservationId, HeadValue, ConstantHeadRawDataItem\n",
    "from morpheus.project.types.geometry import Point\n",
    "from morpheus.project.types.boundaries.Boundary import BoundaryName\n",
    "from morpheus.project.types.layers import LayerId\n",
    "from morpheus.project.types.boundaries.Boundary import ConstantHeadBoundary, ConstantHeadObservation\n",
    "\n",
    "layers_list = [LayerId.new()]\n",
    "constant_head = ConstantHeadBoundary.from_geometry(\n",
    "  name=BoundaryName('constant_head'),\n",
    "  geometry=LineString([\n",
    "    (13.9223, 50.9662),\n",
    "    (13.9250, 50.96615),\n",
    "  ]),\n",
    "  grid=grid,\n",
    "  affected_layers=[model.layers[0].layer_id],\n",
    "  observations=[\n",
    "    ConstantHeadObservation(\n",
    "      observation_id=ObservationId.new(),\n",
    "      observation_name=ObservationName.default(),\n",
    "      geometry=Point((13.9223, 50.9662)),\n",
    "      data=[\n",
    "        ConstantHeadRawDataItem(\n",
    "          date_time=StartDateTime.from_datetime(datetime(2019, 1, 1)),\n",
    "          head=HeadValue.from_float(100),\n",
    "        ),\n",
    "        ConstantHeadRawDataItem(\n",
    "          date_time=StartDateTime.from_datetime(datetime(2021, 12, 31)),\n",
    "          head=HeadValue.from_float(120),\n",
    "        ),\n",
    "      ]\n",
    "    )\n",
    "  ]\n",
    ")\n",
    "\n",
    "m.add_child(folium.GeoJson(constant_head.as_geojson()))\n",
    "m.add_child(folium.GeoJson(constant_head.affected_cells.to_geojson(grid).as_geojson()))\n",
    "for constant_head.observation in constant_head.observations:\n",
    "  m.add_child(folium.GeoJson(constant_head.observation.as_geojson()))\n",
    "m.fit_bounds(m.get_bounds())\n",
    "m"
   ]
  },
  {
   "cell_type": "code",
   "execution_count": 7,
   "id": "621e2265ae79b1ae",
   "metadata": {
    "ExecuteTime": {
     "end_time": "2024-05-30T21:02:29.689287Z",
     "start_time": "2024-05-30T21:02:29.687375Z"
    },
    "collapsed": false,
    "execution": {
     "iopub.execute_input": "2024-06-18T10:13:17.428390Z",
     "iopub.status.busy": "2024-06-18T10:13:17.428282Z",
     "iopub.status.idle": "2024-06-18T10:13:17.430004Z",
     "shell.execute_reply": "2024-06-18T10:13:17.429768Z"
    },
    "papermill": {
     "duration": 0.005079,
     "end_time": "2024-06-18T10:13:17.430829",
     "exception": false,
     "start_time": "2024-06-18T10:13:17.425750",
     "status": "completed"
    },
    "tags": []
   },
   "outputs": [],
   "source": [
    "from morpheus.project.types.boundaries.Boundary import BoundaryCollection\n",
    "\n",
    "boundary_collection = BoundaryCollection.new()\n",
    "boundary_collection.add_boundary(constant_head)\n",
    "\n",
    "model = model.with_updated_boundaries(boundaries=boundary_collection)"
   ]
  },
  {
   "cell_type": "markdown",
   "id": "42d948d145a8457a",
   "metadata": {
    "collapsed": false,
    "papermill": {
     "duration": 0.00217,
     "end_time": "2024-06-18T10:13:17.435578",
     "exception": false,
     "start_time": "2024-06-18T10:13:17.433408",
     "status": "completed"
    },
    "tags": []
   },
   "source": [
    "## Calculate"
   ]
  },
  {
   "cell_type": "code",
   "execution_count": 8,
   "id": "56ccabee86e2397e",
   "metadata": {
    "ExecuteTime": {
     "end_time": "2024-05-30T21:02:30.056820Z",
     "start_time": "2024-05-30T21:02:29.690001Z"
    },
    "collapsed": false,
    "execution": {
     "iopub.execute_input": "2024-06-18T10:13:17.440371Z",
     "iopub.status.busy": "2024-06-18T10:13:17.440271Z",
     "iopub.status.idle": "2024-06-18T10:13:17.741497Z",
     "shell.execute_reply": "2024-06-18T10:13:17.740993Z"
    },
    "papermill": {
     "duration": 0.304955,
     "end_time": "2024-06-18T10:13:17.742673",
     "exception": false,
     "start_time": "2024-06-18T10:13:17.437718",
     "status": "completed"
    },
    "tags": []
   },
   "outputs": [],
   "source": [
    "from morpheus.project.infrastructure.calculation.engines.modflow_2005.types.Mf2005CalculationEngineSettings import \\\n",
    "  Mf2005CalculationEngineSettings\n",
    "from morpheus.project.types.calculation.CalculationProfile import CalculationProfile, CalculationEngineType\n",
    "from morpheus.project.types.calculation.Calculation import Calculation\n",
    "\n",
    "calculation_engine_settings = Mf2005CalculationEngineSettings.default()\n",
    "calculation_profile = CalculationProfile.new(CalculationEngineType.MF2005)\n",
    "calculation = Calculation.new(model=model, calculation_profile=calculation_profile)"
   ]
  },
  {
   "cell_type": "code",
   "execution_count": 9,
   "id": "e09d94e0a94315cb",
   "metadata": {
    "ExecuteTime": {
     "end_time": "2024-05-30T21:02:30.060645Z",
     "start_time": "2024-05-30T21:02:30.057374Z"
    },
    "collapsed": false,
    "execution": {
     "iopub.execute_input": "2024-06-18T10:13:17.748476Z",
     "iopub.status.busy": "2024-06-18T10:13:17.748286Z",
     "iopub.status.idle": "2024-06-18T10:13:17.751500Z",
     "shell.execute_reply": "2024-06-18T10:13:17.751243Z"
    },
    "papermill": {
     "duration": 0.007009,
     "end_time": "2024-06-18T10:13:17.752368",
     "exception": false,
     "start_time": "2024-06-18T10:13:17.745359",
     "status": "completed"
    },
    "tags": []
   },
   "outputs": [
    {
     "data": {
      "text/plain": [
       "CalculationId(value='f9c9308e-1b9c-4332-b7fa-71aea49f7bb6')"
      ]
     },
     "execution_count": 9,
     "metadata": {},
     "output_type": "execute_result"
    }
   ],
   "source": [
    "calculation = Calculation.from_dict(calculation.to_dict())\n",
    "calculation.calculation_id"
   ]
  },
  {
   "cell_type": "code",
   "execution_count": 10,
   "id": "672007fb90753c4c",
   "metadata": {
    "ExecuteTime": {
     "end_time": "2024-05-30T21:02:30.590776Z",
     "start_time": "2024-05-30T21:02:30.061441Z"
    },
    "collapsed": false,
    "execution": {
     "iopub.execute_input": "2024-06-18T10:13:17.757974Z",
     "iopub.status.busy": "2024-06-18T10:13:17.757821Z",
     "iopub.status.idle": "2024-06-18T10:13:18.151996Z",
     "shell.execute_reply": "2024-06-18T10:13:18.151658Z"
    },
    "papermill": {
     "duration": 0.397911,
     "end_time": "2024-06-18T10:13:18.152817",
     "exception": false,
     "start_time": "2024-06-18T10:13:17.754906",
     "status": "completed"
    },
    "tags": []
   },
   "outputs": [
    {
     "name": "stdout",
     "output_type": "stream",
     "text": [
      "Model(model_id=ModelId(value='02b380f3-4840-467f-b4ae-4d953e1e3a2b'), spatial_discretization=SpatialDiscretization(geometry=Polygon(coordinates=[[(13.922514437551428, 50.964720483303836), (13.925250781947113, 50.965228748412386), (13.925036413951403, 50.96623732041704), (13.92222441026388, 50.96629040370362), (13.922514437551428, 50.964720483303836)]], type='Polygon'), grid=Grid(origin=Point(coordinates=(13.922224410263878, 50.9662904037036), type='Point'), col_widths=[33.68941547288559, 33.68941547288559, 33.6894154728856, 33.689415472885585, 33.6894154728856, 33.6894154728856, 33.68941547288557, 33.6894154728856, 33.68941547288563, 33.68941547288557], total_width=336.89415472885594, row_heights=[27.74944856585935, 27.74944856585935, 27.749448565859346, 27.749448565859353, 27.74944856585934, 27.749448565859353, 27.749448565859325, 27.74944856585938, 27.749448565859325, 27.749448565859353], total_height=277.4944856585935, rotation=Rotation(value=0), length_unit=LengthUnit(unit=2)), affected_cells=ActiveCells(shape=(10, 10), data=[ActiveCell(col=0, row=0), ActiveCell(col=1, row=0), ActiveCell(col=2, row=0), ActiveCell(col=3, row=0), ActiveCell(col=4, row=0), ActiveCell(col=5, row=0), ActiveCell(col=6, row=0), ActiveCell(col=7, row=0), ActiveCell(col=8, row=0), ActiveCell(col=0, row=1), ActiveCell(col=1, row=1), ActiveCell(col=2, row=1), ActiveCell(col=3, row=1), ActiveCell(col=4, row=1), ActiveCell(col=5, row=1), ActiveCell(col=6, row=1), ActiveCell(col=7, row=1), ActiveCell(col=8, row=1), ActiveCell(col=0, row=2), ActiveCell(col=1, row=2), ActiveCell(col=2, row=2), ActiveCell(col=3, row=2), ActiveCell(col=4, row=2), ActiveCell(col=5, row=2), ActiveCell(col=6, row=2), ActiveCell(col=7, row=2), ActiveCell(col=8, row=2), ActiveCell(col=9, row=2), ActiveCell(col=0, row=3), ActiveCell(col=1, row=3), ActiveCell(col=2, row=3), ActiveCell(col=3, row=3), ActiveCell(col=4, row=3), ActiveCell(col=5, row=3), ActiveCell(col=6, row=3), ActiveCell(col=7, row=3), ActiveCell(col=8, row=3), ActiveCell(col=9, row=3), ActiveCell(col=0, row=4), ActiveCell(col=1, row=4), ActiveCell(col=2, row=4), ActiveCell(col=3, row=4), ActiveCell(col=4, row=4), ActiveCell(col=5, row=4), ActiveCell(col=6, row=4), ActiveCell(col=7, row=4), ActiveCell(col=8, row=4), ActiveCell(col=9, row=4), ActiveCell(col=1, row=5), ActiveCell(col=2, row=5), ActiveCell(col=3, row=5), ActiveCell(col=4, row=5), ActiveCell(col=5, row=5), ActiveCell(col=6, row=5), ActiveCell(col=7, row=5), ActiveCell(col=8, row=5), ActiveCell(col=9, row=5), ActiveCell(col=1, row=6), ActiveCell(col=2, row=6), ActiveCell(col=3, row=6), ActiveCell(col=4, row=6), ActiveCell(col=5, row=6), ActiveCell(col=6, row=6), ActiveCell(col=7, row=6), ActiveCell(col=8, row=6), ActiveCell(col=9, row=6), ActiveCell(col=1, row=7), ActiveCell(col=2, row=7), ActiveCell(col=3, row=7), ActiveCell(col=4, row=7), ActiveCell(col=5, row=7), ActiveCell(col=6, row=7), ActiveCell(col=7, row=7), ActiveCell(col=1, row=8), ActiveCell(col=2, row=8), ActiveCell(col=3, row=8), ActiveCell(col=4, row=8), ActiveCell(col=1, row=9)])), time_discretization=TimeDiscretization(start_date_time=StartDateTime(value=datetime.datetime(2020, 1, 1, 0, 0, tzinfo=datetime.timezone.utc)), end_date_time=EndDateTime(value=datetime.datetime(2020, 12, 31, 0, 0, tzinfo=datetime.timezone.utc)), stress_periods=StressPeriodCollection(values=[StressPeriod(start_date_time=StartDateTime(value=datetime.datetime(2020, 1, 1, 0, 0, tzinfo=datetime.timezone.utc)), number_of_time_steps=NumberOfTimeSteps(value=1), time_step_multiplier=TimeStepMultiplier(value=1), steady_state=IsSteadyState(value=True))]), time_unit=TimeUnit(unit=4)), boundaries=BoundaryCollection(boundaries=[ConstantHeadBoundary(boundary_id=BoundaryId(value='64ba1d14-d01a-4e4b-ba75-e644bd43ad34'), type=BoundaryType(type='constant_head'), name=BoundaryName(value='constant_head'), tags=BoundaryTags(value=[]), geometry=LineString(coordinates=[(13.9223, 50.9662), (13.925, 50.96615)], type='LineString'), affected_cells=ActiveCells(shape=(10, 10), data=[ActiveCell(col=0, row=0), ActiveCell(col=1, row=0), ActiveCell(col=2, row=0), ActiveCell(col=3, row=0), ActiveCell(col=4, row=0), ActiveCell(col=5, row=0), ActiveCell(col=6, row=0), ActiveCell(col=7, row=0), ActiveCell(col=8, row=0)]), affected_layers=[LayerId(value='ec6ea7bb-d681-4588-a623-2cdf28c8a7f0')], observations=[ConstantHeadObservation(observation_id=ObservationId(value='3a053744-b9ac-4eef-b545-d9375203aded'), observation_name=ObservationName(value='Observation Point 1'), geometry=Point(coordinates=(13.9223, 50.9662), type='Point'), data=[ConstantHeadRawDataItem(date_time=StartDateTime(value=datetime.datetime(2019, 1, 1, 0, 0, tzinfo=datetime.timezone.utc)), head=HeadValue(value=100)), ConstantHeadRawDataItem(date_time=StartDateTime(value=datetime.datetime(2021, 12, 31, 0, 0, tzinfo=datetime.timezone.utc)), head=HeadValue(value=120))])], enabled=True)]), observations=ObservationCollection(observations=[]), layers=LayersCollection(layers=[Layer(layer_id=LayerId(value='ec6ea7bb-d681-4588-a623-2cdf28c8a7f0'), name=LayerName(value='Default'), description=LayerDescription(value='Default'), confinement=LayerConfinement(type='confined'), properties=LayerProperties(hk=LayerPropertyValues(value=LayerPropertyDefaultValue(value=1.0), raster=None, zones=None), hani=LayerPropertyValues(value=LayerPropertyDefaultValue(value=1.0), raster=None, zones=None), vka=LayerPropertyValues(value=LayerPropertyDefaultValue(value=1.0), raster=None, zones=None), specific_storage=LayerPropertyValues(value=LayerPropertyDefaultValue(value=0.0001), raster=None, zones=None), specific_yield=LayerPropertyValues(value=LayerPropertyDefaultValue(value=0.1), raster=None, zones=None), initial_head=LayerPropertyValues(value=LayerPropertyDefaultValue(value=1.0), raster=None, zones=None), top=LayerPropertyValues(value=LayerPropertyDefaultValue(value=1.0), raster=None, zones=None), bottom=LayerPropertyValues(value=LayerPropertyDefaultValue(value=0.0), raster=None, zones=None)))]), transport=Transport(is_enabled=IsEnabled(value=False), substances=[]), variable_density=VariableDensityFlow(is_enabled=IsEnabled(value=False), viscosity_is_enabled=IsEnabled(value=False)))\n",
      "FloPy is using the following executable to run the model: ../../../../../../../src/backend/.venv/bin/mf2005\n",
      "\n",
      "                                  MODFLOW-2005     \n",
      "    U.S. GEOLOGICAL SURVEY MODULAR FINITE-DIFFERENCE GROUND-WATER FLOW MODEL\n",
      "                             Version 1.12.00 2/3/2017                        \n",
      "\n",
      " Using NAME file: 02b380f3-4840-467f-b4ae-4d953e1e3a2b.nam \n",
      " Run start date and time (yyyy/mm/dd hh:mm:ss): 2024/06/18 12:13:18\n",
      "\n",
      " Solving:  Stress period:     1    Time step:     1    Ground-Water Flow Eqn.\n",
      " Run end date and time (yyyy/mm/dd hh:mm:ss): 2024/06/18 12:13:18\n",
      " Elapsed run time:  0.008 Seconds\n",
      "\n",
      "  Normal termination of simulation\n"
     ]
    }
   ],
   "source": [
    "from morpheus.project.infrastructure.calculation.services.CalculationService import CalculationService\n",
    "\n",
    "calculation_service = CalculationService.from_calculation(calculation)\n",
    "calculation_service.calculate()"
   ]
  },
  {
   "cell_type": "code",
   "execution_count": 11,
   "id": "beae154ec6b0a8f3",
   "metadata": {
    "ExecuteTime": {
     "end_time": "2024-05-30T21:02:30.601744Z",
     "start_time": "2024-05-30T21:02:30.596267Z"
    },
    "collapsed": false,
    "execution": {
     "iopub.execute_input": "2024-06-18T10:13:18.158760Z",
     "iopub.status.busy": "2024-06-18T10:13:18.158419Z",
     "iopub.status.idle": "2024-06-18T10:13:18.161023Z",
     "shell.execute_reply": "2024-06-18T10:13:18.160782Z"
    },
    "papermill": {
     "duration": 0.006299,
     "end_time": "2024-06-18T10:13:18.161769",
     "exception": false,
     "start_time": "2024-06-18T10:13:18.155470",
     "status": "completed"
    },
    "tags": []
   },
   "outputs": [
    {
     "data": {
      "text/plain": [
       "CalculationLog(log=['', '                                  MODFLOW-2005     ', '    U.S. GEOLOGICAL SURVEY MODULAR FINITE-DIFFERENCE GROUND-WATER FLOW MODEL', '                             Version 1.12.00 2/3/2017                        ', '', ' Using NAME file: 02b380f3-4840-467f-b4ae-4d953e1e3a2b.nam ', ' Run start date and time (yyyy/mm/dd hh:mm:ss): 2024/06/18 12:13:18', '', ' Solving:  Stress period:     1    Time step:     1    Ground-Water Flow Eqn.', ' Run end date and time (yyyy/mm/dd hh:mm:ss): 2024/06/18 12:13:18', ' Elapsed run time:  0.008 Seconds', '', '  Normal termination of simulation'])"
      ]
     },
     "execution_count": 11,
     "metadata": {},
     "output_type": "execute_result"
    }
   ],
   "source": [
    "calculation_service.get_log()"
   ]
  },
  {
   "cell_type": "code",
   "execution_count": 12,
   "id": "a52d1dd3a1574032",
   "metadata": {
    "ExecuteTime": {
     "end_time": "2024-05-30T21:02:30.607822Z",
     "start_time": "2024-05-30T21:02:30.603086Z"
    },
    "collapsed": false,
    "execution": {
     "iopub.execute_input": "2024-06-18T10:13:18.166876Z",
     "iopub.status.busy": "2024-06-18T10:13:18.166769Z",
     "iopub.status.idle": "2024-06-18T10:13:18.168665Z",
     "shell.execute_reply": "2024-06-18T10:13:18.168477Z"
    },
    "papermill": {
     "duration": 0.005227,
     "end_time": "2024-06-18T10:13:18.169366",
     "exception": false,
     "start_time": "2024-06-18T10:13:18.164139",
     "status": "completed"
    },
    "tags": []
   },
   "outputs": [
    {
     "data": {
      "text/plain": [
       "CalculationResult(type=<CalculationResultType.SUCCESS: 'success'>, message='Calculation finished successfully', files=['02b380f3-4840-467f-b4ae-4d953e1e3a2b.chd', '02b380f3-4840-467f-b4ae-4d953e1e3a2b.dis', '02b380f3-4840-467f-b4ae-4d953e1e3a2b.list', '02b380f3-4840-467f-b4ae-4d953e1e3a2b.nam', '02b380f3-4840-467f-b4ae-4d953e1e3a2b.bas', '02b380f3-4840-467f-b4ae-4d953e1e3a2b.lpf', '02b380f3-4840-467f-b4ae-4d953e1e3a2b.pcg', '02b380f3-4840-467f-b4ae-4d953e1e3a2b.oc', '02b380f3-4840-467f-b4ae-4d953e1e3a2b.hds'], head_results=AvailableResults(times=[365.0], kstpkper=[(0, 0)], number_of_layers=1, number_of_observations=0), drawdown_results=None, budget_results=AvailableResults(times=[365.0], kstpkper=[(0, 0)], number_of_layers=0, number_of_observations=0), concentration_results=None)"
      ]
     },
     "execution_count": 12,
     "metadata": {},
     "output_type": "execute_result"
    }
   ],
   "source": [
    "calculation_service.get_result()"
   ]
  },
  {
   "cell_type": "code",
   "execution_count": 13,
   "id": "cc43ad077c7a81d0",
   "metadata": {
    "ExecuteTime": {
     "end_time": "2024-05-30T21:02:30.615116Z",
     "start_time": "2024-05-30T21:02:30.609616Z"
    },
    "collapsed": false,
    "execution": {
     "iopub.execute_input": "2024-06-18T10:13:18.174494Z",
     "iopub.status.busy": "2024-06-18T10:13:18.174406Z",
     "iopub.status.idle": "2024-06-18T10:13:18.176339Z",
     "shell.execute_reply": "2024-06-18T10:13:18.176130Z"
    },
    "papermill": {
     "duration": 0.005374,
     "end_time": "2024-06-18T10:13:18.177137",
     "exception": false,
     "start_time": "2024-06-18T10:13:18.171763",
     "status": "completed"
    },
    "tags": []
   },
   "outputs": [],
   "source": [
    "head = calculation_service.read_head(0, 0)"
   ]
  },
  {
   "cell_type": "code",
   "execution_count": 14,
   "id": "12454cc4d9e18de5",
   "metadata": {
    "ExecuteTime": {
     "end_time": "2024-05-30T21:02:30.621456Z",
     "start_time": "2024-05-30T21:02:30.616349Z"
    },
    "collapsed": false,
    "execution": {
     "iopub.execute_input": "2024-06-18T10:13:18.182299Z",
     "iopub.status.busy": "2024-06-18T10:13:18.182197Z",
     "iopub.status.idle": "2024-06-18T10:13:18.184410Z",
     "shell.execute_reply": "2024-06-18T10:13:18.184171Z"
    },
    "papermill": {
     "duration": 0.00567,
     "end_time": "2024-06-18T10:13:18.185146",
     "exception": false,
     "start_time": "2024-06-18T10:13:18.179476",
     "status": "completed"
    },
    "tags": []
   },
   "outputs": [
    {
     "data": {
      "text/plain": [
       "'[[113.33300018310547, 113.33300018310547, 113.33300018310547, 113.33300018310547, 113.33300018310547, 113.33300018310547, 113.33300018310547, 113.33300018310547, 113.33300018310547, null], [113.33300018310547, 113.33300018310547, 113.33300018310547, 113.33300018310547, 113.33300018310547, 113.33300018310547, 113.33300018310547, 113.33300018310547, 113.33300018310547, null], [113.33300018310547, 113.33300018310547, 113.33300018310547, 113.33300018310547, 113.33300018310547, 113.33300018310547, 113.33300018310547, 113.33300018310547, 113.33300018310547, 113.33300018310547], [113.33300018310547, 113.33300018310547, 113.33300018310547, 113.33300018310547, 113.33300018310547, 113.33300018310547, 113.33300018310547, 113.33300018310547, 113.33300018310547, 113.33300018310547], [113.33300018310547, 113.33300018310547, 113.33300018310547, 113.33300018310547, 113.33300018310547, 113.33300018310547, 113.33300018310547, 113.33300018310547, 113.33300018310547, 113.33300018310547], [null, 113.33300018310547, 113.33300018310547, 113.33300018310547, 113.33300018310547, 113.33300018310547, 113.33300018310547, 113.33300018310547, 113.33300018310547, 113.33300018310547], [null, 113.33300018310547, 113.33300018310547, 113.33300018310547, 113.33300018310547, 113.33300018310547, 113.33300018310547, 113.33300018310547, 113.33300018310547, 113.33300018310547], [null, 113.33300018310547, 113.33300018310547, 113.33300018310547, 113.33300018310547, 113.33300018310547, 113.33300018310547, 113.33300018310547, null, null], [null, 113.33300018310547, 113.33300018310547, 113.33300018310547, 113.33300018310547, null, null, null, null, null], [null, 113.33300018310547, null, null, null, null, null, null, null, null]]'"
      ]
     },
     "execution_count": 14,
     "metadata": {},
     "output_type": "execute_result"
    }
   ],
   "source": [
    "import simplejson as json\n",
    "\n",
    "json = json.dumps(head, ignore_nan=True)\n",
    "json"
   ]
  },
  {
   "cell_type": "code",
   "execution_count": 15,
   "id": "df7dfd8ff0308815",
   "metadata": {
    "ExecuteTime": {
     "end_time": "2024-05-30T21:02:30.628475Z",
     "start_time": "2024-05-30T21:02:30.623127Z"
    },
    "collapsed": false,
    "execution": {
     "iopub.execute_input": "2024-06-18T10:13:18.190489Z",
     "iopub.status.busy": "2024-06-18T10:13:18.190390Z",
     "iopub.status.idle": "2024-06-18T10:13:18.192477Z",
     "shell.execute_reply": "2024-06-18T10:13:18.192256Z"
    },
    "papermill": {
     "duration": 0.00553,
     "end_time": "2024-06-18T10:13:18.193215",
     "exception": false,
     "start_time": "2024-06-18T10:13:18.187685",
     "status": "completed"
    },
    "tags": []
   },
   "outputs": [
    {
     "data": {
      "text/plain": [
       "[]"
      ]
     },
     "execution_count": 15,
     "metadata": {},
     "output_type": "execute_result"
    }
   ],
   "source": [
    "calculation_service.read_drawdown(0, 0)"
   ]
  },
  {
   "cell_type": "code",
   "execution_count": 16,
   "id": "b233f4066b56c174",
   "metadata": {
    "ExecuteTime": {
     "end_time": "2024-05-30T21:02:30.637294Z",
     "start_time": "2024-05-30T21:02:30.629842Z"
    },
    "collapsed": false,
    "execution": {
     "iopub.execute_input": "2024-06-18T10:13:18.198450Z",
     "iopub.status.busy": "2024-06-18T10:13:18.198358Z",
     "iopub.status.idle": "2024-06-18T10:13:18.201271Z",
     "shell.execute_reply": "2024-06-18T10:13:18.201054Z"
    },
    "papermill": {
     "duration": 0.006406,
     "end_time": "2024-06-18T10:13:18.202036",
     "exception": false,
     "start_time": "2024-06-18T10:13:18.195630",
     "status": "completed"
    },
    "tags": []
   },
   "outputs": [
    {
     "data": {
      "text/plain": [
       "{'STORAGE_IN': 0.0,\n",
       " 'CONSTANT_HEAD_IN': 0.0,\n",
       " 'TOTAL_IN': 0.0,\n",
       " 'STORAGE_OUT': -0.0,\n",
       " 'CONSTANT_HEAD_OUT': -0.0018196,\n",
       " 'TOTAL_OUT': -0.0018196,\n",
       " 'IN-OUT': -0.0018196,\n",
       " 'PERCENT_DISCREPANCY': -200.0,\n",
       " 'tslen': 365.0}"
      ]
     },
     "execution_count": 16,
     "metadata": {},
     "output_type": "execute_result"
    }
   ],
   "source": [
    "calculation_service.read_budget(0, False)"
   ]
  },
  {
   "cell_type": "code",
   "execution_count": 17,
   "id": "634709d741f5c252",
   "metadata": {
    "ExecuteTime": {
     "end_time": "2024-05-30T21:02:30.646793Z",
     "start_time": "2024-05-30T21:02:30.639146Z"
    },
    "collapsed": false,
    "execution": {
     "iopub.execute_input": "2024-06-18T10:13:18.207488Z",
     "iopub.status.busy": "2024-06-18T10:13:18.207389Z",
     "iopub.status.idle": "2024-06-18T10:13:18.210677Z",
     "shell.execute_reply": "2024-06-18T10:13:18.210435Z"
    },
    "papermill": {
     "duration": 0.006838,
     "end_time": "2024-06-18T10:13:18.211405",
     "exception": false,
     "start_time": "2024-06-18T10:13:18.204567",
     "status": "completed"
    },
    "tags": []
   },
   "outputs": [
    {
     "data": {
      "text/plain": [
       "{'STORAGE_IN': 0.0,\n",
       " 'CONSTANT_HEAD_IN': 0.0,\n",
       " 'TOTAL_IN': 0.0,\n",
       " 'STORAGE_OUT': -0.0,\n",
       " 'CONSTANT_HEAD_OUT': -4.9852e-06,\n",
       " 'TOTAL_OUT': -4.9852e-06,\n",
       " 'IN-OUT': -4.9852e-06,\n",
       " 'PERCENT_DISCREPANCY': -200.0,\n",
       " 'tslen': 365.0}"
      ]
     },
     "execution_count": 17,
     "metadata": {},
     "output_type": "execute_result"
    }
   ],
   "source": [
    "calculation_service.read_budget(0, True)"
   ]
  },
  {
   "cell_type": "code",
   "execution_count": 18,
   "id": "26523066436690e6",
   "metadata": {
    "ExecuteTime": {
     "end_time": "2024-05-30T21:02:30.654238Z",
     "start_time": "2024-05-30T21:02:30.648316Z"
    },
    "collapsed": false,
    "execution": {
     "iopub.execute_input": "2024-06-18T10:13:18.216873Z",
     "iopub.status.busy": "2024-06-18T10:13:18.216775Z",
     "iopub.status.idle": "2024-06-18T10:13:18.218654Z",
     "shell.execute_reply": "2024-06-18T10:13:18.218437Z"
    },
    "papermill": {
     "duration": 0.005441,
     "end_time": "2024-06-18T10:13:18.219400",
     "exception": false,
     "start_time": "2024-06-18T10:13:18.213959",
     "status": "completed"
    },
    "tags": []
   },
   "outputs": [
    {
     "data": {
      "text/plain": [
       "CalculationResult(type=<CalculationResultType.SUCCESS: 'success'>, message='Calculation finished successfully', files=['02b380f3-4840-467f-b4ae-4d953e1e3a2b.chd', '02b380f3-4840-467f-b4ae-4d953e1e3a2b.dis', '02b380f3-4840-467f-b4ae-4d953e1e3a2b.list', '02b380f3-4840-467f-b4ae-4d953e1e3a2b.nam', '02b380f3-4840-467f-b4ae-4d953e1e3a2b.bas', '02b380f3-4840-467f-b4ae-4d953e1e3a2b.lpf', '02b380f3-4840-467f-b4ae-4d953e1e3a2b.pcg', '02b380f3-4840-467f-b4ae-4d953e1e3a2b.oc', '02b380f3-4840-467f-b4ae-4d953e1e3a2b.hds'], head_results=AvailableResults(times=[365.0], kstpkper=[(0, 0)], number_of_layers=1, number_of_observations=0), drawdown_results=None, budget_results=AvailableResults(times=[365.0], kstpkper=[(0, 0)], number_of_layers=0, number_of_observations=0), concentration_results=None)"
      ]
     },
     "execution_count": 18,
     "metadata": {},
     "output_type": "execute_result"
    }
   ],
   "source": [
    "calculation_service.get_result()"
   ]
  },
  {
   "cell_type": "code",
   "execution_count": null,
   "id": "424f9226809167f0",
   "metadata": {
    "ExecuteTime": {
     "end_time": "2024-05-30T21:02:30.658516Z",
     "start_time": "2024-05-30T21:02:30.656263Z"
    },
    "papermill": {
     "duration": 0.002577,
     "end_time": "2024-06-18T10:13:18.224611",
     "exception": false,
     "start_time": "2024-06-18T10:13:18.222034",
     "status": "completed"
    },
    "tags": []
   },
   "outputs": [],
   "source": []
  }
 ],
 "metadata": {
  "kernelspec": {
   "display_name": "Python 3",
   "language": "python",
   "name": "python3"
  },
  "language_info": {
   "codemirror_mode": {
    "name": "ipython",
    "version": 3
   },
   "file_extension": ".py",
   "mimetype": "text/x-python",
   "name": "python",
   "nbconvert_exporter": "python",
   "pygments_lexer": "ipython3",
   "version": "3.12.2"
  },
  "papermill": {
   "default_parameters": {},
   "duration": 2.916243,
   "end_time": "2024-06-18T10:13:18.948615",
   "environment_variables": {},
   "exception": null,
   "input_path": "./notebooks/Mf2005Calculation.ipynb",
   "output_path": "./notebooks/Mf2005Calculation.ipynb",
   "parameters": {},
   "start_time": "2024-06-18T10:13:16.032372",
   "version": "2.6.0"
  }
 },
 "nbformat": 4,
 "nbformat_minor": 5
}