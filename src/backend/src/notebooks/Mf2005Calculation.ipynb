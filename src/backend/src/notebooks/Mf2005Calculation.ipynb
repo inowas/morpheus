{
 "cells": [
  {
   "cell_type": "code",
   "source": [
    "import sys\n",
    "\n",
    "sys.path.insert(0, '..')"
   ],
   "metadata": {
    "collapsed": false,
    "ExecuteTime": {
     "end_time": "2024-04-29T21:22:26.495631Z",
     "start_time": "2024-04-29T21:22:26.491113Z"
    }
   },
   "id": "ba6761fae9d5e5cb",
   "outputs": [],
   "execution_count": 1
  },
  {
   "cell_type": "markdown",
   "source": [
    "## Setup the model area"
   ],
   "metadata": {
    "collapsed": false
   },
   "id": "5ede1ba5e0993dd1"
  },
  {
   "cell_type": "code",
   "source": [
    "from morpheus.project.types.discretization.spatial import ActiveCells\n",
    "from morpheus.project.types.discretization import SpatialDiscretization\n",
    "from morpheus.project.types.discretization.spatial import Rotation, LengthUnit, Grid, Crs\n",
    "from morpheus.project.types.geometry import Polygon, LineString\n",
    "\n",
    "polygon = Polygon(\n",
    "  type='Polygon',\n",
    "  coordinates=[[\n",
    "    (13.922514437551428, 50.964720483303836),\n",
    "    (13.925250781947113, 50.965228748412386),\n",
    "    (13.925036413951403, 50.96623732041704),\n",
    "    (13.92222441026388, 50.96629040370362),\n",
    "    (13.922514437551428, 50.964720483303836)\n",
    "  ]]\n",
    ")\n",
    "\n",
    "rotation = Rotation(0)\n",
    "length_unit = LengthUnit.meters()\n",
    "relative_col_coordinates = [0, 0.1, 0.2, 0.3, 0.4, 0.5, 0.6, 0.7, 0.8, 0.9, 1]\n",
    "relative_row_coordinates = [0, 0.1, 0.2, 0.3, 0.4, 0.5, 0.6, 0.7, 0.8, 0.9, 1]\n",
    "\n",
    "grid = Grid.from_polygon_with_relative_coordinates(\n",
    "  polygon=polygon,\n",
    "  relative_col_coordinates=relative_col_coordinates,\n",
    "  relative_row_coordinates=relative_row_coordinates,\n",
    "  rotation=rotation,\n",
    ")\n",
    "\n",
    "spatial_discretization = SpatialDiscretization(\n",
    "  geometry=polygon,\n",
    "  grid=grid,\n",
    "  affected_cells=ActiveCells.from_polygon(polygon=polygon, grid=grid),\n",
    "  crs=Crs.from_str('EPSG:4326')\n",
    ")\n",
    "\n",
    "spatial_discretization"
   ],
   "metadata": {
    "collapsed": false,
    "ExecuteTime": {
     "end_time": "2024-04-29T21:22:26.756383Z",
     "start_time": "2024-04-29T21:22:26.516698Z"
    }
   },
   "id": "2f69504ab35487aa",
   "outputs": [
    {
     "data": {
      "text/plain": [
       "SpatialDiscretization(geometry=Polygon(coordinates=[[(13.922514437551428, 50.964720483303836), (13.925250781947113, 50.965228748412386), (13.925036413951403, 50.96623732041704), (13.92222441026388, 50.96629040370362), (13.922514437551428, 50.964720483303836)]], type='Polygon'), grid=Grid(origin=Point(coordinates=(13.922224410263878, 50.9662904037036), type='Point'), col_widths=[33.68941547288559, 33.68941547288559, 33.6894154728856, 33.689415472885585, 33.6894154728856, 33.6894154728856, 33.68941547288557, 33.6894154728856, 33.68941547288563, 33.68941547288557], total_width=336.89415472885594, row_heights=[27.74944856585935, 27.74944856585935, 27.749448565859346, 27.749448565859353, 27.74944856585934, 27.749448565859353, 27.749448565859325, 27.74944856585938, 27.749448565859325, 27.749448565859353], total_height=277.4944856585935, rotation=Rotation(value=0), length_unit=LengthUnit(unit=2)), affected_cells=ActiveCells(shape=(10, 10), data=[ActiveCell(col=0, row=0), ActiveCell(col=0, row=1), ActiveCell(col=0, row=2), ActiveCell(col=0, row=3), ActiveCell(col=0, row=4), ActiveCell(col=1, row=0), ActiveCell(col=1, row=1), ActiveCell(col=1, row=2), ActiveCell(col=1, row=3), ActiveCell(col=1, row=4), ActiveCell(col=1, row=5), ActiveCell(col=1, row=6), ActiveCell(col=1, row=7), ActiveCell(col=1, row=8), ActiveCell(col=1, row=9), ActiveCell(col=2, row=0), ActiveCell(col=2, row=1), ActiveCell(col=2, row=2), ActiveCell(col=2, row=3), ActiveCell(col=2, row=4), ActiveCell(col=2, row=5), ActiveCell(col=2, row=6), ActiveCell(col=2, row=7), ActiveCell(col=2, row=8), ActiveCell(col=3, row=0), ActiveCell(col=3, row=1), ActiveCell(col=3, row=2), ActiveCell(col=3, row=3), ActiveCell(col=3, row=4), ActiveCell(col=3, row=5), ActiveCell(col=3, row=6), ActiveCell(col=3, row=7), ActiveCell(col=3, row=8), ActiveCell(col=4, row=0), ActiveCell(col=4, row=1), ActiveCell(col=4, row=2), ActiveCell(col=4, row=3), ActiveCell(col=4, row=4), ActiveCell(col=4, row=5), ActiveCell(col=4, row=6), ActiveCell(col=4, row=7), ActiveCell(col=4, row=8), ActiveCell(col=5, row=0), ActiveCell(col=5, row=1), ActiveCell(col=5, row=2), ActiveCell(col=5, row=3), ActiveCell(col=5, row=4), ActiveCell(col=5, row=5), ActiveCell(col=5, row=6), ActiveCell(col=5, row=7), ActiveCell(col=6, row=0), ActiveCell(col=6, row=1), ActiveCell(col=6, row=2), ActiveCell(col=6, row=3), ActiveCell(col=6, row=4), ActiveCell(col=6, row=5), ActiveCell(col=6, row=6), ActiveCell(col=6, row=7), ActiveCell(col=7, row=0), ActiveCell(col=7, row=1), ActiveCell(col=7, row=2), ActiveCell(col=7, row=3), ActiveCell(col=7, row=4), ActiveCell(col=7, row=5), ActiveCell(col=7, row=6), ActiveCell(col=7, row=7), ActiveCell(col=8, row=0), ActiveCell(col=8, row=1), ActiveCell(col=8, row=2), ActiveCell(col=8, row=3), ActiveCell(col=8, row=4), ActiveCell(col=8, row=5), ActiveCell(col=8, row=6), ActiveCell(col=9, row=2), ActiveCell(col=9, row=3), ActiveCell(col=9, row=4), ActiveCell(col=9, row=5), ActiveCell(col=9, row=6)]))"
      ]
     },
     "execution_count": 2,
     "metadata": {},
     "output_type": "execute_result"
    }
   ],
   "execution_count": 2
  },
  {
   "cell_type": "markdown",
   "source": [
    "## Setup Time Discretization"
   ],
   "metadata": {
    "collapsed": false
   },
   "id": "fa27e67f9d801845"
  },
  {
   "cell_type": "code",
   "source": [
    "from morpheus.project.types.discretization.time.TimeUnit import TimeUnit\n",
    "from morpheus.project.types.discretization.time.Stressperiods import StartDateTime, StressPeriodCollection, \\\n",
    "  StressPeriod, NumberOfTimeSteps, TimeStepMultiplier, IsSteadyState\n",
    "from morpheus.project.types.discretization.time import TimeDiscretization\n",
    "from datetime import datetime\n",
    "\n",
    "time_discretization = TimeDiscretization(\n",
    "  start_date_time=StartDateTime.from_datetime(datetime(2020, 1, 1)),\n",
    "  end_date_time=StartDateTime.from_datetime(datetime(2020, 12, 31)),\n",
    "  stress_periods=StressPeriodCollection([\n",
    "    StressPeriod(\n",
    "      start_date_time=StartDateTime.from_datetime(datetime(2020, 1, 1)),\n",
    "      number_of_time_steps=NumberOfTimeSteps(1),\n",
    "      time_step_multiplier=TimeStepMultiplier(1),\n",
    "      steady_state=IsSteadyState.yes()\n",
    "    ),\n",
    "  ]),\n",
    "  time_unit=TimeUnit.days()\n",
    ")"
   ],
   "metadata": {
    "collapsed": false,
    "ExecuteTime": {
     "end_time": "2024-04-29T21:22:26.766885Z",
     "start_time": "2024-04-29T21:22:26.760194Z"
    }
   },
   "id": "8e4e63dd138db9fc",
   "outputs": [],
   "execution_count": 3
  },
  {
   "cell_type": "markdown",
   "source": [
    "# Setup Model"
   ],
   "metadata": {
    "collapsed": false
   },
   "id": "963ba8729f09fcec"
  },
  {
   "cell_type": "code",
   "source": [
    "from morpheus.project.types.Model import Model\n",
    "\n",
    "model = Model.new()\n",
    "model = model.with_updated_time_discretization(time_discretization)\n",
    "model = model.with_updated_spatial_discretization(spatial_discretization=spatial_discretization)"
   ],
   "metadata": {
    "collapsed": false,
    "ExecuteTime": {
     "end_time": "2024-04-29T21:22:27.330340Z",
     "start_time": "2024-04-29T21:22:26.769442Z"
    }
   },
   "id": "1d5c9125b1b9360b",
   "outputs": [],
   "execution_count": 4
  },
  {
   "cell_type": "code",
   "source": [
    "import folium\n",
    "\n",
    "m = folium.Map(tiles=\"cartodbpositron\", crs=\"EPSG3857\", zoom_start=12, location=[50.965, 13.922])\n",
    "m.add_child(folium.GeoJson(polygon.as_geojson()))\n",
    "\n",
    "m.fit_bounds(m.get_bounds())\n",
    "m"
   ],
   "metadata": {
    "collapsed": false,
    "ExecuteTime": {
     "end_time": "2024-04-29T21:22:27.479039Z",
     "start_time": "2024-04-29T21:22:27.331945Z"
    }
   },
   "id": "1540b870ae83f298",
   "outputs": [
    {
     "data": {
      "text/plain": [
       "<folium.folium.Map at 0x1214e1850>"
      ],
      "text/html": [
       "<div style=\"width:100%;\"><div style=\"position:relative;width:100%;height:0;padding-bottom:60%;\"><span style=\"color:#565656\">Make this Notebook Trusted to load map: File -> Trust Notebook</span><iframe srcdoc=\"&lt;!DOCTYPE html&gt;\n",
       "&lt;html&gt;\n",
       "&lt;head&gt;\n",
       "    \n",
       "    &lt;meta http-equiv=&quot;content-type&quot; content=&quot;text/html; charset=UTF-8&quot; /&gt;\n",
       "    \n",
       "        &lt;script&gt;\n",
       "            L_NO_TOUCH = false;\n",
       "            L_DISABLE_3D = false;\n",
       "        &lt;/script&gt;\n",
       "    \n",
       "    &lt;style&gt;html, body {width: 100%;height: 100%;margin: 0;padding: 0;}&lt;/style&gt;\n",
       "    &lt;style&gt;#map {position:absolute;top:0;bottom:0;right:0;left:0;}&lt;/style&gt;\n",
       "    &lt;script src=&quot;https://cdn.jsdelivr.net/npm/leaflet@1.9.3/dist/leaflet.js&quot;&gt;&lt;/script&gt;\n",
       "    &lt;script src=&quot;https://code.jquery.com/jquery-3.7.1.min.js&quot;&gt;&lt;/script&gt;\n",
       "    &lt;script src=&quot;https://cdn.jsdelivr.net/npm/bootstrap@5.2.2/dist/js/bootstrap.bundle.min.js&quot;&gt;&lt;/script&gt;\n",
       "    &lt;script src=&quot;https://cdnjs.cloudflare.com/ajax/libs/Leaflet.awesome-markers/2.0.2/leaflet.awesome-markers.js&quot;&gt;&lt;/script&gt;\n",
       "    &lt;link rel=&quot;stylesheet&quot; href=&quot;https://cdn.jsdelivr.net/npm/leaflet@1.9.3/dist/leaflet.css&quot;/&gt;\n",
       "    &lt;link rel=&quot;stylesheet&quot; href=&quot;https://cdn.jsdelivr.net/npm/bootstrap@5.2.2/dist/css/bootstrap.min.css&quot;/&gt;\n",
       "    &lt;link rel=&quot;stylesheet&quot; href=&quot;https://netdna.bootstrapcdn.com/bootstrap/3.0.0/css/bootstrap.min.css&quot;/&gt;\n",
       "    &lt;link rel=&quot;stylesheet&quot; href=&quot;https://cdn.jsdelivr.net/npm/@fortawesome/fontawesome-free@6.2.0/css/all.min.css&quot;/&gt;\n",
       "    &lt;link rel=&quot;stylesheet&quot; href=&quot;https://cdnjs.cloudflare.com/ajax/libs/Leaflet.awesome-markers/2.0.2/leaflet.awesome-markers.css&quot;/&gt;\n",
       "    &lt;link rel=&quot;stylesheet&quot; href=&quot;https://cdn.jsdelivr.net/gh/python-visualization/folium/folium/templates/leaflet.awesome.rotate.min.css&quot;/&gt;\n",
       "    \n",
       "            &lt;meta name=&quot;viewport&quot; content=&quot;width=device-width,\n",
       "                initial-scale=1.0, maximum-scale=1.0, user-scalable=no&quot; /&gt;\n",
       "            &lt;style&gt;\n",
       "                #map_4e0462e6505c20076ad59965ef17bc7a {\n",
       "                    position: relative;\n",
       "                    width: 100.0%;\n",
       "                    height: 100.0%;\n",
       "                    left: 0.0%;\n",
       "                    top: 0.0%;\n",
       "                }\n",
       "                .leaflet-container { font-size: 1rem; }\n",
       "            &lt;/style&gt;\n",
       "        \n",
       "&lt;/head&gt;\n",
       "&lt;body&gt;\n",
       "    \n",
       "    \n",
       "            &lt;div class=&quot;folium-map&quot; id=&quot;map_4e0462e6505c20076ad59965ef17bc7a&quot; &gt;&lt;/div&gt;\n",
       "        \n",
       "&lt;/body&gt;\n",
       "&lt;script&gt;\n",
       "    \n",
       "    \n",
       "            var map_4e0462e6505c20076ad59965ef17bc7a = L.map(\n",
       "                &quot;map_4e0462e6505c20076ad59965ef17bc7a&quot;,\n",
       "                {\n",
       "                    center: [50.965, 13.922],\n",
       "                    crs: L.CRS.EPSG3857,\n",
       "                    zoom: 12,\n",
       "                    zoomControl: true,\n",
       "                    preferCanvas: false,\n",
       "                }\n",
       "            );\n",
       "\n",
       "            \n",
       "\n",
       "        \n",
       "    \n",
       "            var tile_layer_b9b0fe63f51bf4447f9836863caafa06 = L.tileLayer(\n",
       "                &quot;https://{s}.basemaps.cartocdn.com/light_all/{z}/{x}/{y}{r}.png&quot;,\n",
       "                {&quot;attribution&quot;: &quot;\\u0026copy; \\u003ca href=\\&quot;https://www.openstreetmap.org/copyright\\&quot;\\u003eOpenStreetMap\\u003c/a\\u003e contributors \\u0026copy; \\u003ca href=\\&quot;https://carto.com/attributions\\&quot;\\u003eCARTO\\u003c/a\\u003e&quot;, &quot;detectRetina&quot;: false, &quot;maxNativeZoom&quot;: 20, &quot;maxZoom&quot;: 20, &quot;minZoom&quot;: 0, &quot;noWrap&quot;: false, &quot;opacity&quot;: 1, &quot;subdomains&quot;: &quot;abcd&quot;, &quot;tms&quot;: false}\n",
       "            );\n",
       "        \n",
       "    \n",
       "            tile_layer_b9b0fe63f51bf4447f9836863caafa06.addTo(map_4e0462e6505c20076ad59965ef17bc7a);\n",
       "        \n",
       "    \n",
       "\n",
       "        function geo_json_396475fcf0bce58328aefee312ad1cf1_onEachFeature(feature, layer) {\n",
       "            layer.on({\n",
       "            });\n",
       "        };\n",
       "        var geo_json_396475fcf0bce58328aefee312ad1cf1 = L.geoJson(null, {\n",
       "                onEachFeature: geo_json_396475fcf0bce58328aefee312ad1cf1_onEachFeature,\n",
       "            \n",
       "        });\n",
       "\n",
       "        function geo_json_396475fcf0bce58328aefee312ad1cf1_add (data) {\n",
       "            geo_json_396475fcf0bce58328aefee312ad1cf1\n",
       "                .addData(data);\n",
       "        }\n",
       "            geo_json_396475fcf0bce58328aefee312ad1cf1_add({&quot;coordinates&quot;: [[[13.922514437551428, 50.964720483303836], [13.925250781947113, 50.965228748412386], [13.925036413951403, 50.96623732041704], [13.92222441026388, 50.96629040370362], [13.922514437551428, 50.964720483303836]]], &quot;type&quot;: &quot;Polygon&quot;});\n",
       "\n",
       "        \n",
       "    \n",
       "            geo_json_396475fcf0bce58328aefee312ad1cf1.addTo(map_4e0462e6505c20076ad59965ef17bc7a);\n",
       "        \n",
       "    \n",
       "            map_4e0462e6505c20076ad59965ef17bc7a.fitBounds(\n",
       "                [[50.964720483303836, 13.92222441026388], [50.96629040370362, 13.925250781947113]],\n",
       "                {}\n",
       "            );\n",
       "        \n",
       "&lt;/script&gt;\n",
       "&lt;/html&gt;\" style=\"position:absolute;width:100%;height:100%;left:0;top:0;border:none !important;\" allowfullscreen webkitallowfullscreen mozallowfullscreen></iframe></div></div>"
      ]
     },
     "execution_count": 5,
     "metadata": {},
     "output_type": "execute_result"
    }
   ],
   "execution_count": 5
  },
  {
   "cell_type": "markdown",
   "source": [
    "# Setup constant head boundary with 1 observation"
   ],
   "metadata": {
    "collapsed": false
   },
   "id": "62ae3587df801000"
  },
  {
   "cell_type": "code",
   "source": [
    "from morpheus.project.types.boundaries.ConstantHeadObservation import ObservationId, HeadValue, ConstantHeadRawDataItem\n",
    "from morpheus.project.types.geometry import Point\n",
    "from morpheus.project.types.boundaries.Boundary import BoundaryName\n",
    "from morpheus.project.types.layers import LayerId\n",
    "from morpheus.project.types.boundaries.Boundary import ConstantHeadBoundary, ConstantHeadObservation\n",
    "\n",
    "layers_list = [LayerId.new()]\n",
    "constant_head = ConstantHeadBoundary.from_geometry(\n",
    "  name=BoundaryName('constant_head'),\n",
    "  geometry=LineString([\n",
    "    (13.9223, 50.9662),\n",
    "    (13.9250, 50.96615),\n",
    "  ]),\n",
    "  grid=grid,\n",
    "  affected_layers=[model.layers[0].layer_id],\n",
    "  observations=[\n",
    "    ConstantHeadObservation(\n",
    "      observation_id=ObservationId.new(),\n",
    "      geometry=Point((13.9223, 50.9662)),\n",
    "      raw_data=[\n",
    "        ConstantHeadRawDataItem(\n",
    "          date_time=StartDateTime.from_datetime(datetime(2019, 1, 1)),\n",
    "          head=HeadValue.from_float(100),\n",
    "        ),\n",
    "        ConstantHeadRawDataItem(\n",
    "          date_time=StartDateTime.from_datetime(datetime(2021, 12, 31)),\n",
    "          head=HeadValue.from_float(120),\n",
    "        ),\n",
    "      ]\n",
    "    )\n",
    "  ]\n",
    ")\n",
    "\n",
    "m.add_child(folium.GeoJson(constant_head.as_geojson()))\n",
    "m.add_child(folium.GeoJson(constant_head.affected_cells.to_geojson(grid).as_geojson()))\n",
    "for constant_head.observation in constant_head.observations:\n",
    "  m.add_child(folium.GeoJson(constant_head.observation.as_geojson()))\n",
    "m.fit_bounds(m.get_bounds())\n",
    "m"
   ],
   "metadata": {
    "collapsed": false,
    "ExecuteTime": {
     "end_time": "2024-04-29T21:22:27.505314Z",
     "start_time": "2024-04-29T21:22:27.479709Z"
    }
   },
   "id": "53679913aee28ce9",
   "outputs": [
    {
     "data": {
      "text/plain": [
       "<folium.folium.Map at 0x1214e1850>"
      ],
      "text/html": [
       "<div style=\"width:100%;\"><div style=\"position:relative;width:100%;height:0;padding-bottom:60%;\"><span style=\"color:#565656\">Make this Notebook Trusted to load map: File -> Trust Notebook</span><iframe srcdoc=\"&lt;!DOCTYPE html&gt;\n",
       "&lt;html&gt;\n",
       "&lt;head&gt;\n",
       "    \n",
       "    &lt;meta http-equiv=&quot;content-type&quot; content=&quot;text/html; charset=UTF-8&quot; /&gt;\n",
       "    \n",
       "        &lt;script&gt;\n",
       "            L_NO_TOUCH = false;\n",
       "            L_DISABLE_3D = false;\n",
       "        &lt;/script&gt;\n",
       "    \n",
       "    &lt;style&gt;html, body {width: 100%;height: 100%;margin: 0;padding: 0;}&lt;/style&gt;\n",
       "    &lt;style&gt;#map {position:absolute;top:0;bottom:0;right:0;left:0;}&lt;/style&gt;\n",
       "    &lt;script src=&quot;https://cdn.jsdelivr.net/npm/leaflet@1.9.3/dist/leaflet.js&quot;&gt;&lt;/script&gt;\n",
       "    &lt;script src=&quot;https://code.jquery.com/jquery-3.7.1.min.js&quot;&gt;&lt;/script&gt;\n",
       "    &lt;script src=&quot;https://cdn.jsdelivr.net/npm/bootstrap@5.2.2/dist/js/bootstrap.bundle.min.js&quot;&gt;&lt;/script&gt;\n",
       "    &lt;script src=&quot;https://cdnjs.cloudflare.com/ajax/libs/Leaflet.awesome-markers/2.0.2/leaflet.awesome-markers.js&quot;&gt;&lt;/script&gt;\n",
       "    &lt;link rel=&quot;stylesheet&quot; href=&quot;https://cdn.jsdelivr.net/npm/leaflet@1.9.3/dist/leaflet.css&quot;/&gt;\n",
       "    &lt;link rel=&quot;stylesheet&quot; href=&quot;https://cdn.jsdelivr.net/npm/bootstrap@5.2.2/dist/css/bootstrap.min.css&quot;/&gt;\n",
       "    &lt;link rel=&quot;stylesheet&quot; href=&quot;https://netdna.bootstrapcdn.com/bootstrap/3.0.0/css/bootstrap.min.css&quot;/&gt;\n",
       "    &lt;link rel=&quot;stylesheet&quot; href=&quot;https://cdn.jsdelivr.net/npm/@fortawesome/fontawesome-free@6.2.0/css/all.min.css&quot;/&gt;\n",
       "    &lt;link rel=&quot;stylesheet&quot; href=&quot;https://cdnjs.cloudflare.com/ajax/libs/Leaflet.awesome-markers/2.0.2/leaflet.awesome-markers.css&quot;/&gt;\n",
       "    &lt;link rel=&quot;stylesheet&quot; href=&quot;https://cdn.jsdelivr.net/gh/python-visualization/folium/folium/templates/leaflet.awesome.rotate.min.css&quot;/&gt;\n",
       "    \n",
       "            &lt;meta name=&quot;viewport&quot; content=&quot;width=device-width,\n",
       "                initial-scale=1.0, maximum-scale=1.0, user-scalable=no&quot; /&gt;\n",
       "            &lt;style&gt;\n",
       "                #map_4e0462e6505c20076ad59965ef17bc7a {\n",
       "                    position: relative;\n",
       "                    width: 100.0%;\n",
       "                    height: 100.0%;\n",
       "                    left: 0.0%;\n",
       "                    top: 0.0%;\n",
       "                }\n",
       "                .leaflet-container { font-size: 1rem; }\n",
       "            &lt;/style&gt;\n",
       "        \n",
       "&lt;/head&gt;\n",
       "&lt;body&gt;\n",
       "    \n",
       "    \n",
       "            &lt;div class=&quot;folium-map&quot; id=&quot;map_4e0462e6505c20076ad59965ef17bc7a&quot; &gt;&lt;/div&gt;\n",
       "        \n",
       "&lt;/body&gt;\n",
       "&lt;script&gt;\n",
       "    \n",
       "    \n",
       "            var map_4e0462e6505c20076ad59965ef17bc7a = L.map(\n",
       "                &quot;map_4e0462e6505c20076ad59965ef17bc7a&quot;,\n",
       "                {\n",
       "                    center: [50.965, 13.922],\n",
       "                    crs: L.CRS.EPSG3857,\n",
       "                    zoom: 12,\n",
       "                    zoomControl: true,\n",
       "                    preferCanvas: false,\n",
       "                }\n",
       "            );\n",
       "\n",
       "            \n",
       "\n",
       "        \n",
       "    \n",
       "            var tile_layer_b9b0fe63f51bf4447f9836863caafa06 = L.tileLayer(\n",
       "                &quot;https://{s}.basemaps.cartocdn.com/light_all/{z}/{x}/{y}{r}.png&quot;,\n",
       "                {&quot;attribution&quot;: &quot;\\u0026copy; \\u003ca href=\\&quot;https://www.openstreetmap.org/copyright\\&quot;\\u003eOpenStreetMap\\u003c/a\\u003e contributors \\u0026copy; \\u003ca href=\\&quot;https://carto.com/attributions\\&quot;\\u003eCARTO\\u003c/a\\u003e&quot;, &quot;detectRetina&quot;: false, &quot;maxNativeZoom&quot;: 20, &quot;maxZoom&quot;: 20, &quot;minZoom&quot;: 0, &quot;noWrap&quot;: false, &quot;opacity&quot;: 1, &quot;subdomains&quot;: &quot;abcd&quot;, &quot;tms&quot;: false}\n",
       "            );\n",
       "        \n",
       "    \n",
       "            tile_layer_b9b0fe63f51bf4447f9836863caafa06.addTo(map_4e0462e6505c20076ad59965ef17bc7a);\n",
       "        \n",
       "    \n",
       "\n",
       "        function geo_json_396475fcf0bce58328aefee312ad1cf1_onEachFeature(feature, layer) {\n",
       "            layer.on({\n",
       "            });\n",
       "        };\n",
       "        var geo_json_396475fcf0bce58328aefee312ad1cf1 = L.geoJson(null, {\n",
       "                onEachFeature: geo_json_396475fcf0bce58328aefee312ad1cf1_onEachFeature,\n",
       "            \n",
       "        });\n",
       "\n",
       "        function geo_json_396475fcf0bce58328aefee312ad1cf1_add (data) {\n",
       "            geo_json_396475fcf0bce58328aefee312ad1cf1\n",
       "                .addData(data);\n",
       "        }\n",
       "            geo_json_396475fcf0bce58328aefee312ad1cf1_add({&quot;coordinates&quot;: [[[13.922514437551428, 50.964720483303836], [13.925250781947113, 50.965228748412386], [13.925036413951403, 50.96623732041704], [13.92222441026388, 50.96629040370362], [13.922514437551428, 50.964720483303836]]], &quot;type&quot;: &quot;Polygon&quot;});\n",
       "\n",
       "        \n",
       "    \n",
       "            geo_json_396475fcf0bce58328aefee312ad1cf1.addTo(map_4e0462e6505c20076ad59965ef17bc7a);\n",
       "        \n",
       "    \n",
       "            map_4e0462e6505c20076ad59965ef17bc7a.fitBounds(\n",
       "                [[50.964720483303836, 13.92222441026388], [50.96629040370362, 13.925250781947113]],\n",
       "                {}\n",
       "            );\n",
       "        \n",
       "    \n",
       "            tile_layer_b9b0fe63f51bf4447f9836863caafa06.addTo(map_4e0462e6505c20076ad59965ef17bc7a);\n",
       "        \n",
       "    \n",
       "            geo_json_396475fcf0bce58328aefee312ad1cf1.addTo(map_4e0462e6505c20076ad59965ef17bc7a);\n",
       "        \n",
       "    \n",
       "\n",
       "        function geo_json_727fbd5ec73bdceded4c8aae1826f675_onEachFeature(feature, layer) {\n",
       "            layer.on({\n",
       "            });\n",
       "        };\n",
       "        var geo_json_727fbd5ec73bdceded4c8aae1826f675 = L.geoJson(null, {\n",
       "                onEachFeature: geo_json_727fbd5ec73bdceded4c8aae1826f675_onEachFeature,\n",
       "            \n",
       "        });\n",
       "\n",
       "        function geo_json_727fbd5ec73bdceded4c8aae1826f675_add (data) {\n",
       "            geo_json_727fbd5ec73bdceded4c8aae1826f675\n",
       "                .addData(data);\n",
       "        }\n",
       "            geo_json_727fbd5ec73bdceded4c8aae1826f675_add({&quot;coordinates&quot;: [[13.9223, 50.9662], [13.925, 50.96615]], &quot;type&quot;: &quot;LineString&quot;});\n",
       "\n",
       "        \n",
       "    \n",
       "            geo_json_727fbd5ec73bdceded4c8aae1826f675.addTo(map_4e0462e6505c20076ad59965ef17bc7a);\n",
       "        \n",
       "    \n",
       "\n",
       "        function geo_json_409ac0d4370854a918533eab13ceae6f_onEachFeature(feature, layer) {\n",
       "            layer.on({\n",
       "            });\n",
       "        };\n",
       "        var geo_json_409ac0d4370854a918533eab13ceae6f = L.geoJson(null, {\n",
       "                onEachFeature: geo_json_409ac0d4370854a918533eab13ceae6f_onEachFeature,\n",
       "            \n",
       "        });\n",
       "\n",
       "        function geo_json_409ac0d4370854a918533eab13ceae6f_add (data) {\n",
       "            geo_json_409ac0d4370854a918533eab13ceae6f\n",
       "                .addData(data);\n",
       "        }\n",
       "            geo_json_409ac0d4370854a918533eab13ceae6f_add({&quot;geometries&quot;: [{&quot;coordinates&quot;: [[[13.922224410263878, 50.96629040370359], [13.922527047432201, 50.96629040370359], [13.922527047432201, 50.9661334140511], [13.922224410263878, 50.9661334140511], [13.922224410263878, 50.96629040370359]]], &quot;type&quot;: &quot;Polygon&quot;}, {&quot;coordinates&quot;: [[[13.922527047432201, 50.96629040370359], [13.922829684600526, 50.96629040370359], [13.922829684600526, 50.9661334140511], [13.922527047432201, 50.9661334140511], [13.922527047432201, 50.96629040370359]]], &quot;type&quot;: &quot;Polygon&quot;}, {&quot;coordinates&quot;: [[[13.922829684600526, 50.96629040370359], [13.923132321768849, 50.96629040370359], [13.923132321768849, 50.9661334140511], [13.922829684600526, 50.9661334140511], [13.922829684600526, 50.96629040370359]]], &quot;type&quot;: &quot;Polygon&quot;}, {&quot;coordinates&quot;: [[[13.923132321768849, 50.96629040370359], [13.923434958937172, 50.96629040370359], [13.923434958937172, 50.9661334140511], [13.923132321768849, 50.9661334140511], [13.923132321768849, 50.96629040370359]]], &quot;type&quot;: &quot;Polygon&quot;}, {&quot;coordinates&quot;: [[[13.923434958937172, 50.96629040370359], [13.923737596105495, 50.96629040370359], [13.923737596105495, 50.9661334140511], [13.923434958937172, 50.9661334140511], [13.923434958937172, 50.96629040370359]]], &quot;type&quot;: &quot;Polygon&quot;}, {&quot;coordinates&quot;: [[[13.923737596105495, 50.96629040370359], [13.924040233273818, 50.96629040370359], [13.924040233273818, 50.9661334140511], [13.923737596105495, 50.9661334140511], [13.923737596105495, 50.96629040370359]]], &quot;type&quot;: &quot;Polygon&quot;}, {&quot;coordinates&quot;: [[[13.924040233273818, 50.96629040370359], [13.924342870442143, 50.96629040370359], [13.924342870442143, 50.9661334140511], [13.924040233273818, 50.9661334140511], [13.924040233273818, 50.96629040370359]]], &quot;type&quot;: &quot;Polygon&quot;}, {&quot;coordinates&quot;: [[[13.924342870442143, 50.96629040370359], [13.924645507610466, 50.96629040370359], [13.924645507610466, 50.9661334140511], [13.924342870442143, 50.9661334140511], [13.924342870442143, 50.96629040370359]]], &quot;type&quot;: &quot;Polygon&quot;}, {&quot;coordinates&quot;: [[[13.924645507610466, 50.96629040370359], [13.92494814477879, 50.96629040370359], [13.92494814477879, 50.9661334140511], [13.924645507610466, 50.9661334140511], [13.924645507610466, 50.96629040370359]]], &quot;type&quot;: &quot;Polygon&quot;}, {&quot;coordinates&quot;: [[[13.92494814477879, 50.96629040370359], [13.925250781947113, 50.96629040370359], [13.925250781947113, 50.9661334140511], [13.92494814477879, 50.9661334140511], [13.92494814477879, 50.96629040370359]]], &quot;type&quot;: &quot;Polygon&quot;}], &quot;type&quot;: &quot;GeometryCollection&quot;});\n",
       "\n",
       "        \n",
       "    \n",
       "            geo_json_409ac0d4370854a918533eab13ceae6f.addTo(map_4e0462e6505c20076ad59965ef17bc7a);\n",
       "        \n",
       "    \n",
       "\n",
       "        function geo_json_ba58e6a827890aaeb7bb24134b9b147a_onEachFeature(feature, layer) {\n",
       "            layer.on({\n",
       "            });\n",
       "        };\n",
       "        var geo_json_ba58e6a827890aaeb7bb24134b9b147a = L.geoJson(null, {\n",
       "                onEachFeature: geo_json_ba58e6a827890aaeb7bb24134b9b147a_onEachFeature,\n",
       "            \n",
       "        });\n",
       "\n",
       "        function geo_json_ba58e6a827890aaeb7bb24134b9b147a_add (data) {\n",
       "            geo_json_ba58e6a827890aaeb7bb24134b9b147a\n",
       "                .addData(data);\n",
       "        }\n",
       "            geo_json_ba58e6a827890aaeb7bb24134b9b147a_add({&quot;coordinates&quot;: [13.9223, 50.9662], &quot;type&quot;: &quot;Point&quot;});\n",
       "\n",
       "        \n",
       "    \n",
       "            geo_json_ba58e6a827890aaeb7bb24134b9b147a.addTo(map_4e0462e6505c20076ad59965ef17bc7a);\n",
       "        \n",
       "    \n",
       "            map_4e0462e6505c20076ad59965ef17bc7a.fitBounds(\n",
       "                [[50.964720483303836, 13.922224410263878], [50.96629040370362, 13.925250781947113]],\n",
       "                {}\n",
       "            );\n",
       "        \n",
       "&lt;/script&gt;\n",
       "&lt;/html&gt;\" style=\"position:absolute;width:100%;height:100%;left:0;top:0;border:none !important;\" allowfullscreen webkitallowfullscreen mozallowfullscreen></iframe></div></div>"
      ]
     },
     "execution_count": 6,
     "metadata": {},
     "output_type": "execute_result"
    }
   ],
   "execution_count": 6
  },
  {
   "cell_type": "code",
   "source": [
    "from morpheus.project.types.boundaries.Boundary import BoundaryCollection\n",
    "\n",
    "boundary_collection = BoundaryCollection.new()\n",
    "boundary_collection.add_boundary(constant_head)\n",
    "\n",
    "model = model.with_updated_boundaries(boundaries=boundary_collection)"
   ],
   "metadata": {
    "collapsed": false,
    "ExecuteTime": {
     "end_time": "2024-04-29T21:22:27.508128Z",
     "start_time": "2024-04-29T21:22:27.506055Z"
    }
   },
   "id": "621e2265ae79b1ae",
   "outputs": [],
   "execution_count": 7
  },
  {
   "cell_type": "markdown",
   "source": [
    "## Calculate"
   ],
   "metadata": {
    "collapsed": false
   },
   "id": "42d948d145a8457a"
  },
  {
   "cell_type": "code",
   "source": [
    "from morpheus.project.infrastructure.calculation.engines.modflow_2005.types.Mf2005CalculationEngineSettings import \\\n",
    "  Mf2005CalculationEngineSettings\n",
    "from morpheus.project.types.calculation.CalculationProfile import CalculationProfile, CalculationEngineType\n",
    "from morpheus.project.types.calculation.Calculation import Calculation\n",
    "\n",
    "\n",
    "calculation_engine_settings = Mf2005CalculationEngineSettings.default()\n",
    "calculation_profile = CalculationProfile.new(CalculationEngineType.MF2005)\n",
    "calculation = Calculation.new(model=model, calculation_profile=calculation_profile)"
   ],
   "metadata": {
    "collapsed": false,
    "ExecuteTime": {
     "end_time": "2024-04-29T21:22:27.921216Z",
     "start_time": "2024-04-29T21:22:27.508909Z"
    }
   },
   "id": "56ccabee86e2397e",
   "outputs": [],
   "execution_count": 8
  },
  {
   "cell_type": "code",
   "source": [
    "calculation = Calculation.from_dict(calculation.to_dict())\n",
    "calculation.calculation_id"
   ],
   "metadata": {
    "collapsed": false,
    "ExecuteTime": {
     "end_time": "2024-04-29T21:22:27.930939Z",
     "start_time": "2024-04-29T21:22:27.921986Z"
    }
   },
   "id": "e09d94e0a94315cb",
   "outputs": [
    {
     "data": {
      "text/plain": [
       "CalculationId(value='8661b2a9-05fc-4542-a132-00f45ce4be65')"
      ]
     },
     "execution_count": 9,
     "metadata": {},
     "output_type": "execute_result"
    }
   ],
   "execution_count": 9
  },
  {
   "cell_type": "code",
   "source": [
    "from morpheus.project.infrastructure.calculation.services.CalculationService import CalculationService\n",
    "\n",
    "calculation_service = CalculationService.from_calculation(calculation)\n",
    "calculation_service.calculate()"
   ],
   "metadata": {
    "collapsed": false,
    "ExecuteTime": {
     "end_time": "2024-04-29T21:22:28.455302Z",
     "start_time": "2024-04-29T21:22:27.931881Z"
    }
   },
   "id": "672007fb90753c4c",
   "outputs": [
    {
     "name": "stdout",
     "output_type": "stream",
     "text": [
      "Model(model_id=ModelId(value='c57081ee-1675-4ae9-a9ce-45dd5077ca4a'), spatial_discretization=SpatialDiscretization(geometry=Polygon(coordinates=[[(13.922514437551428, 50.964720483303836), (13.925250781947113, 50.965228748412386), (13.925036413951403, 50.96623732041704), (13.92222441026388, 50.96629040370362), (13.922514437551428, 50.964720483303836)]], type='Polygon'), grid=Grid(origin=Point(coordinates=(13.922224410263878, 50.9662904037036), type='Point'), col_widths=[33.68941547288559, 33.68941547288559, 33.6894154728856, 33.689415472885585, 33.6894154728856, 33.6894154728856, 33.68941547288557, 33.6894154728856, 33.68941547288563, 33.68941547288557], total_width=336.89415472885594, row_heights=[27.74944856585935, 27.74944856585935, 27.749448565859346, 27.749448565859353, 27.74944856585934, 27.749448565859353, 27.749448565859325, 27.74944856585938, 27.749448565859325, 27.749448565859353], total_height=277.4944856585935, rotation=Rotation(value=0), length_unit=LengthUnit(unit=2)), affected_cells=ActiveCells(shape=(10, 10), data=[ActiveCell(col=0, row=0), ActiveCell(col=1, row=0), ActiveCell(col=2, row=0), ActiveCell(col=3, row=0), ActiveCell(col=4, row=0), ActiveCell(col=5, row=0), ActiveCell(col=6, row=0), ActiveCell(col=7, row=0), ActiveCell(col=8, row=0), ActiveCell(col=0, row=1), ActiveCell(col=1, row=1), ActiveCell(col=2, row=1), ActiveCell(col=3, row=1), ActiveCell(col=4, row=1), ActiveCell(col=5, row=1), ActiveCell(col=6, row=1), ActiveCell(col=7, row=1), ActiveCell(col=8, row=1), ActiveCell(col=0, row=2), ActiveCell(col=1, row=2), ActiveCell(col=2, row=2), ActiveCell(col=3, row=2), ActiveCell(col=4, row=2), ActiveCell(col=5, row=2), ActiveCell(col=6, row=2), ActiveCell(col=7, row=2), ActiveCell(col=8, row=2), ActiveCell(col=9, row=2), ActiveCell(col=0, row=3), ActiveCell(col=1, row=3), ActiveCell(col=2, row=3), ActiveCell(col=3, row=3), ActiveCell(col=4, row=3), ActiveCell(col=5, row=3), ActiveCell(col=6, row=3), ActiveCell(col=7, row=3), ActiveCell(col=8, row=3), ActiveCell(col=9, row=3), ActiveCell(col=0, row=4), ActiveCell(col=1, row=4), ActiveCell(col=2, row=4), ActiveCell(col=3, row=4), ActiveCell(col=4, row=4), ActiveCell(col=5, row=4), ActiveCell(col=6, row=4), ActiveCell(col=7, row=4), ActiveCell(col=8, row=4), ActiveCell(col=9, row=4), ActiveCell(col=1, row=5), ActiveCell(col=2, row=5), ActiveCell(col=3, row=5), ActiveCell(col=4, row=5), ActiveCell(col=5, row=5), ActiveCell(col=6, row=5), ActiveCell(col=7, row=5), ActiveCell(col=8, row=5), ActiveCell(col=9, row=5), ActiveCell(col=1, row=6), ActiveCell(col=2, row=6), ActiveCell(col=3, row=6), ActiveCell(col=4, row=6), ActiveCell(col=5, row=6), ActiveCell(col=6, row=6), ActiveCell(col=7, row=6), ActiveCell(col=8, row=6), ActiveCell(col=9, row=6), ActiveCell(col=1, row=7), ActiveCell(col=2, row=7), ActiveCell(col=3, row=7), ActiveCell(col=4, row=7), ActiveCell(col=5, row=7), ActiveCell(col=6, row=7), ActiveCell(col=7, row=7), ActiveCell(col=1, row=8), ActiveCell(col=2, row=8), ActiveCell(col=3, row=8), ActiveCell(col=4, row=8), ActiveCell(col=1, row=9)])), time_discretization=TimeDiscretization(start_date_time=StartDateTime(value=datetime.datetime(2020, 1, 1, 0, 0, tzinfo=datetime.timezone.utc)), end_date_time=EndDateTime(value=datetime.datetime(2020, 12, 31, 0, 0, tzinfo=datetime.timezone.utc)), stress_periods=StressPeriodCollection(values=[StressPeriod(start_date_time=StartDateTime(value=datetime.datetime(2020, 1, 1, 0, 0, tzinfo=datetime.timezone.utc)), number_of_time_steps=NumberOfTimeSteps(value=1), time_step_multiplier=TimeStepMultiplier(value=1), steady_state=IsSteadyState(value=True))]), time_unit=TimeUnit(unit=4)), boundaries=BoundaryCollection(boundaries=[ConstantHeadBoundary(boundary_id=BoundaryId(value='91fc83a3-034c-4fa6-abd9-585fa0787531'), type=BoundaryType(type='constant_head'), name=BoundaryName(value='constant_head'), geometry=LineString(coordinates=[(13.9223, 50.9662), (13.925, 50.96615)], type='LineString'), affected_cells=ActiveCells(shape=(10, 10), data=[ActiveCell(col=0, row=0), ActiveCell(col=1, row=0), ActiveCell(col=2, row=0), ActiveCell(col=3, row=0), ActiveCell(col=4, row=0), ActiveCell(col=5, row=0), ActiveCell(col=6, row=0), ActiveCell(col=7, row=0), ActiveCell(col=8, row=0)]), affected_layers=[LayerId(value='1aa16804-81cc-408a-a1d1-c55b05a62423')], observations=[ConstantHeadObservation(observation_id=ObservationId(value='de507372-c82c-437a-97f9-d88293dce2ed'), geometry=Point(coordinates=(13.9223, 50.9662), type='Point'), raw_data=[ConstantHeadRawDataItem(date_time=StartDateTime(value=datetime.datetime(2019, 1, 1, 0, 0, tzinfo=datetime.timezone.utc)), head=HeadValue(value=100)), ConstantHeadRawDataItem(date_time=StartDateTime(value=datetime.datetime(2021, 12, 31, 0, 0, tzinfo=datetime.timezone.utc)), head=HeadValue(value=120))])], enabled=True)]), observations=ObservationCollection(observations=[]), layers=LayersCollection(layers=[Layer(layer_id=LayerId(value='1aa16804-81cc-408a-a1d1-c55b05a62423'), name=LayerName(value='Default'), description=LayerDescription(value='Default'), confinement=LayerConfinement(type='confined'), properties=LayerProperties(hk=LayerPropertyValues(value=LayerPropertyDefaultValue(value=1.0), raster=None, zones=None), hani=LayerPropertyValues(value=LayerPropertyDefaultValue(value=1.0), raster=None, zones=None), vka=LayerPropertyValues(value=LayerPropertyDefaultValue(value=1.0), raster=None, zones=None), specific_storage=LayerPropertyValues(value=LayerPropertyDefaultValue(value=0.0001), raster=None, zones=None), specific_yield=LayerPropertyValues(value=LayerPropertyDefaultValue(value=0.1), raster=None, zones=None), initial_head=LayerPropertyValues(value=LayerPropertyDefaultValue(value=1.0), raster=None, zones=None), top=LayerPropertyValues(value=LayerPropertyDefaultValue(value=1.0), raster=None, zones=None), bottom=LayerPropertyValues(value=LayerPropertyDefaultValue(value=0.0), raster=None, zones=None)))]), transport=Transport(is_enabled=IsEnabled(value=False), substances=[]), variable_density=VariableDensityFlow(is_enabled=IsEnabled(value=False), viscosity_is_enabled=IsEnabled(value=False)))\n",
      "FloPy is using the following executable to run the model: ../../../../../../../src/backend/.venv/bin/mf2005\n",
      "\n",
      "                                  MODFLOW-2005     \n",
      "    U.S. GEOLOGICAL SURVEY MODULAR FINITE-DIFFERENCE GROUND-WATER FLOW MODEL\n",
      "                             Version 1.12.00 2/3/2017                        \n",
      "\n",
      " Using NAME file: c57081ee-1675-4ae9-a9ce-45dd5077ca4a.nam \n",
      " Run start date and time (yyyy/mm/dd hh:mm:ss): 2024/04/29 23:22:28\n",
      "\n",
      " Solving:  Stress period:     1    Time step:     1    Ground-Water Flow Eqn.\n",
      " Run end date and time (yyyy/mm/dd hh:mm:ss): 2024/04/29 23:22:28\n",
      " Elapsed run time:  0.017 Seconds\n",
      "\n",
      "  Normal termination of simulation\n"
     ]
    }
   ],
   "execution_count": 10
  },
  {
   "cell_type": "code",
   "source": [
    "calculation_service.get_log()"
   ],
   "metadata": {
    "collapsed": false,
    "ExecuteTime": {
     "end_time": "2024-04-29T21:22:28.461223Z",
     "start_time": "2024-04-29T21:22:28.458005Z"
    }
   },
   "id": "beae154ec6b0a8f3",
   "outputs": [
    {
     "data": {
      "text/plain": [
       "CalculationLog(log=['', '                                  MODFLOW-2005     ', '    U.S. GEOLOGICAL SURVEY MODULAR FINITE-DIFFERENCE GROUND-WATER FLOW MODEL', '                             Version 1.12.00 2/3/2017                        ', '', ' Using NAME file: c57081ee-1675-4ae9-a9ce-45dd5077ca4a.nam ', ' Run start date and time (yyyy/mm/dd hh:mm:ss): 2024/04/29 23:22:28', '', ' Solving:  Stress period:     1    Time step:     1    Ground-Water Flow Eqn.', ' Run end date and time (yyyy/mm/dd hh:mm:ss): 2024/04/29 23:22:28', ' Elapsed run time:  0.017 Seconds', '', '  Normal termination of simulation'])"
      ]
     },
     "execution_count": 11,
     "metadata": {},
     "output_type": "execute_result"
    }
   ],
   "execution_count": 11
  },
  {
   "cell_type": "code",
   "source": [
    "calculation_service.get_result()"
   ],
   "metadata": {
    "collapsed": false,
    "ExecuteTime": {
     "end_time": "2024-04-29T21:22:28.464523Z",
     "start_time": "2024-04-29T21:22:28.462082Z"
    }
   },
   "id": "a52d1dd3a1574032",
   "outputs": [
    {
     "data": {
      "text/plain": [
       "CalculationResult(type=<CalculationResultType.SUCCESS: 'success'>, message='Calculation finished successfully', files=['c57081ee-1675-4ae9-a9ce-45dd5077ca4a.dis', 'c57081ee-1675-4ae9-a9ce-45dd5077ca4a.chd', 'c57081ee-1675-4ae9-a9ce-45dd5077ca4a.list', 'c57081ee-1675-4ae9-a9ce-45dd5077ca4a.lpf', 'c57081ee-1675-4ae9-a9ce-45dd5077ca4a.nam', 'c57081ee-1675-4ae9-a9ce-45dd5077ca4a.bas', 'c57081ee-1675-4ae9-a9ce-45dd5077ca4a.pcg', 'c57081ee-1675-4ae9-a9ce-45dd5077ca4a.oc', 'c57081ee-1675-4ae9-a9ce-45dd5077ca4a.hds'], head_results=AvailableResults(times=[365.0], kstpkper=[(0, 0)], number_of_layers=1, number_of_observations=0), drawdown_results=None, budget_results=AvailableResults(times=[365.0], kstpkper=[(0, 0)], number_of_layers=0, number_of_observations=0), concentration_results=None)"
      ]
     },
     "execution_count": 12,
     "metadata": {},
     "output_type": "execute_result"
    }
   ],
   "execution_count": 12
  },
  {
   "cell_type": "code",
   "source": [
    "head = calculation_service.read_head(0, 0)"
   ],
   "metadata": {
    "collapsed": false,
    "ExecuteTime": {
     "end_time": "2024-04-29T21:22:28.467890Z",
     "start_time": "2024-04-29T21:22:28.465271Z"
    }
   },
   "id": "cc43ad077c7a81d0",
   "outputs": [],
   "execution_count": 13
  },
  {
   "cell_type": "code",
   "source": [
    "import simplejson as json\n",
    "\n",
    "json = json.dumps(head, ignore_nan=True)\n",
    "json"
   ],
   "metadata": {
    "collapsed": false,
    "ExecuteTime": {
     "end_time": "2024-04-29T21:22:28.470835Z",
     "start_time": "2024-04-29T21:22:28.468605Z"
    }
   },
   "id": "12454cc4d9e18de5",
   "outputs": [
    {
     "data": {
      "text/plain": [
       "'[[113.33300018310547, 113.33300018310547, 113.33300018310547, 113.33300018310547, 113.33300018310547, 113.33300018310547, 113.33300018310547, 113.33300018310547, 113.33300018310547, null], [113.33300018310547, 113.33300018310547, 113.33300018310547, 113.33300018310547, 113.33300018310547, 113.33300018310547, 113.33300018310547, 113.33300018310547, 113.33300018310547, null], [113.33300018310547, 113.33300018310547, 113.33300018310547, 113.33300018310547, 113.33300018310547, 113.33300018310547, 113.33300018310547, 113.33300018310547, 113.33300018310547, 113.33300018310547], [113.33300018310547, 113.33300018310547, 113.33300018310547, 113.33300018310547, 113.33300018310547, 113.33300018310547, 113.33300018310547, 113.33300018310547, 113.33300018310547, 113.33300018310547], [113.33300018310547, 113.33300018310547, 113.33300018310547, 113.33300018310547, 113.33300018310547, 113.33300018310547, 113.33300018310547, 113.33300018310547, 113.33300018310547, 113.33300018310547], [null, 113.33300018310547, 113.33300018310547, 113.33300018310547, 113.33300018310547, 113.33300018310547, 113.33300018310547, 113.33300018310547, 113.33300018310547, 113.33300018310547], [null, 113.33300018310547, 113.33300018310547, 113.33300018310547, 113.33300018310547, 113.33300018310547, 113.33300018310547, 113.33300018310547, 113.33300018310547, 113.33300018310547], [null, 113.33300018310547, 113.33300018310547, 113.33300018310547, 113.33300018310547, 113.33300018310547, 113.33300018310547, 113.33300018310547, null, null], [null, 113.33300018310547, 113.33300018310547, 113.33300018310547, 113.33300018310547, null, null, null, null, null], [null, 113.33300018310547, null, null, null, null, null, null, null, null]]'"
      ]
     },
     "execution_count": 14,
     "metadata": {},
     "output_type": "execute_result"
    }
   ],
   "execution_count": 14
  },
  {
   "cell_type": "code",
   "source": [
    "calculation_service.read_drawdown(0, 0)"
   ],
   "metadata": {
    "collapsed": false,
    "ExecuteTime": {
     "end_time": "2024-04-29T21:22:28.473890Z",
     "start_time": "2024-04-29T21:22:28.471528Z"
    }
   },
   "id": "df7dfd8ff0308815",
   "outputs": [
    {
     "data": {
      "text/plain": [
       "[]"
      ]
     },
     "execution_count": 15,
     "metadata": {},
     "output_type": "execute_result"
    }
   ],
   "execution_count": 15
  },
  {
   "cell_type": "code",
   "source": [
    "calculation_service.read_budget(0, False)"
   ],
   "metadata": {
    "collapsed": false,
    "ExecuteTime": {
     "end_time": "2024-04-29T21:22:28.478768Z",
     "start_time": "2024-04-29T21:22:28.474526Z"
    }
   },
   "id": "b233f4066b56c174",
   "outputs": [
    {
     "data": {
      "text/plain": [
       "{'STORAGE_IN': 0.0,\n",
       " 'CONSTANT_HEAD_IN': 0.0,\n",
       " 'TOTAL_IN': 0.0,\n",
       " 'STORAGE_OUT': -0.0,\n",
       " 'CONSTANT_HEAD_OUT': -0.0018196,\n",
       " 'TOTAL_OUT': -0.0018196,\n",
       " 'IN-OUT': -0.0018196,\n",
       " 'PERCENT_DISCREPANCY': -200.0,\n",
       " 'tslen': 365.0}"
      ]
     },
     "execution_count": 16,
     "metadata": {},
     "output_type": "execute_result"
    }
   ],
   "execution_count": 16
  },
  {
   "cell_type": "code",
   "source": [
    "calculation_service.read_budget(0, True)"
   ],
   "metadata": {
    "collapsed": false,
    "ExecuteTime": {
     "end_time": "2024-04-29T21:22:28.482700Z",
     "start_time": "2024-04-29T21:22:28.479507Z"
    }
   },
   "id": "634709d741f5c252",
   "outputs": [
    {
     "data": {
      "text/plain": [
       "{'STORAGE_IN': 0.0,\n",
       " 'CONSTANT_HEAD_IN': 0.0,\n",
       " 'TOTAL_IN': 0.0,\n",
       " 'STORAGE_OUT': -0.0,\n",
       " 'CONSTANT_HEAD_OUT': -4.9852e-06,\n",
       " 'TOTAL_OUT': -4.9852e-06,\n",
       " 'IN-OUT': -4.9852e-06,\n",
       " 'PERCENT_DISCREPANCY': -200.0,\n",
       " 'tslen': 365.0}"
      ]
     },
     "execution_count": 17,
     "metadata": {},
     "output_type": "execute_result"
    }
   ],
   "execution_count": 17
  },
  {
   "cell_type": "code",
   "source": [
    "calculation_service.get_result()"
   ],
   "metadata": {
    "collapsed": false,
    "ExecuteTime": {
     "end_time": "2024-04-29T21:22:28.485347Z",
     "start_time": "2024-04-29T21:22:28.483282Z"
    }
   },
   "id": "26523066436690e6",
   "outputs": [
    {
     "data": {
      "text/plain": [
       "CalculationResult(type=<CalculationResultType.SUCCESS: 'success'>, message='Calculation finished successfully', files=['c57081ee-1675-4ae9-a9ce-45dd5077ca4a.dis', 'c57081ee-1675-4ae9-a9ce-45dd5077ca4a.chd', 'c57081ee-1675-4ae9-a9ce-45dd5077ca4a.list', 'c57081ee-1675-4ae9-a9ce-45dd5077ca4a.lpf', 'c57081ee-1675-4ae9-a9ce-45dd5077ca4a.nam', 'c57081ee-1675-4ae9-a9ce-45dd5077ca4a.bas', 'c57081ee-1675-4ae9-a9ce-45dd5077ca4a.pcg', 'c57081ee-1675-4ae9-a9ce-45dd5077ca4a.oc', 'c57081ee-1675-4ae9-a9ce-45dd5077ca4a.hds'], head_results=AvailableResults(times=[365.0], kstpkper=[(0, 0)], number_of_layers=1, number_of_observations=0), drawdown_results=None, budget_results=AvailableResults(times=[365.0], kstpkper=[(0, 0)], number_of_layers=0, number_of_observations=0), concentration_results=None)"
      ]
     },
     "execution_count": 18,
     "metadata": {},
     "output_type": "execute_result"
    }
   ],
   "execution_count": 18
  },
  {
   "metadata": {
    "ExecuteTime": {
     "end_time": "2024-04-29T21:22:28.487364Z",
     "start_time": "2024-04-29T21:22:28.485994Z"
    }
   },
   "cell_type": "code",
   "source": "",
   "id": "424f9226809167f0",
   "outputs": [],
   "execution_count": 18
  }
 ],
 "metadata": {
  "kernelspec": {
   "display_name": "Python 3",
   "language": "python",
   "name": "python3"
  },
  "language_info": {
   "codemirror_mode": {
    "name": "ipython",
    "version": 2
   },
   "file_extension": ".py",
   "mimetype": "text/x-python",
   "name": "python",
   "nbconvert_exporter": "python",
   "pygments_lexer": "ipython2",
   "version": "2.7.6"
  }
 },
 "nbformat": 4,
 "nbformat_minor": 5
}
