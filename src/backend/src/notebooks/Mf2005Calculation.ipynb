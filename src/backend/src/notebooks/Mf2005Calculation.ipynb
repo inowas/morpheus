{
 "cells": [
  {
   "cell_type": "code",
   "execution_count": 1,
   "id": "ba6761fae9d5e5cb",
   "metadata": {
    "ExecuteTime": {
     "end_time": "2024-08-19T09:57:11.459931Z",
     "start_time": "2024-08-19T09:57:11.456513Z"
    },
    "collapsed": false,
    "execution": {
     "iopub.execute_input": "2024-08-19T20:03:19.420281Z",
     "iopub.status.busy": "2024-08-19T20:03:19.419896Z",
     "iopub.status.idle": "2024-08-19T20:03:19.424901Z",
     "shell.execute_reply": "2024-08-19T20:03:19.424358Z"
    },
    "papermill": {
     "duration": 0.01787,
     "end_time": "2024-08-19T20:03:19.426868",
     "exception": false,
     "start_time": "2024-08-19T20:03:19.408998",
     "status": "completed"
    },
    "tags": []
   },
   "outputs": [],
   "source": [
    "import sys\n",
    "\n",
    "sys.path.insert(0, '..')"
   ]
  },
  {
   "cell_type": "markdown",
   "id": "5ede1ba5e0993dd1",
   "metadata": {
    "collapsed": false,
    "papermill": {
     "duration": 0.004273,
     "end_time": "2024-08-19T20:03:19.436707",
     "exception": false,
     "start_time": "2024-08-19T20:03:19.432434",
     "status": "completed"
    },
    "tags": []
   },
   "source": [
    "## Setup the model area"
   ]
  },
  {
   "cell_type": "code",
   "execution_count": 2,
   "id": "2f69504ab35487aa",
   "metadata": {
    "ExecuteTime": {
     "end_time": "2024-08-19T09:57:11.698085Z",
     "start_time": "2024-08-19T09:57:11.460835Z"
    },
    "collapsed": false,
    "execution": {
     "iopub.execute_input": "2024-08-19T20:03:19.445453Z",
     "iopub.status.busy": "2024-08-19T20:03:19.445213Z",
     "iopub.status.idle": "2024-08-19T20:03:19.668051Z",
     "shell.execute_reply": "2024-08-19T20:03:19.650530Z"
    },
    "papermill": {
     "duration": 0.231258,
     "end_time": "2024-08-19T20:03:19.672103",
     "exception": false,
     "start_time": "2024-08-19T20:03:19.440845",
     "status": "completed"
    },
    "tags": []
   },
   "outputs": [
    {
     "name": "stdout",
     "output_type": "stream",
     "text": [
      "[(0, 0)] [(9, 0)]\n",
      "[(0, 1)] [(9, 1)]\n",
      "[(0, 2)] [(9, 2)]\n",
      "[(0, 3)] [(9, 3)]\n",
      "[(0, 4)] [(9, 4)]\n",
      "[(0, 5)] [(9, 5)]\n",
      "[(0, 6)] [(9, 6)]\n",
      "[(0, 7)] [(7, 7)]\n",
      "[(0, 8)] [(5, 8)]\n",
      "[(0, 9)] [(2, 9)]\n"
     ]
    },
    {
     "data": {
      "text/plain": [
       "SpatialDiscretization(geometry=Polygon(coordinates=[[(13.922514437551428, 50.964720483303836), (13.925250781947113, 50.965228748412386), (13.925036413951403, 50.96623732041704), (13.92222441026388, 50.96629040370362), (13.922514437551428, 50.964720483303836)]], type='Polygon'), grid=Grid(origin=Point(coordinates=(13.922224410263878, 50.9662904037036), type='Point'), col_widths=[33.68941547288559, 33.68941547288559, 33.6894154728856, 33.689415472885585, 33.6894154728856, 33.6894154728856, 33.68941547288557, 33.6894154728856, 33.68941547288563, 33.68941547288557], total_width=336.89415472885594, row_heights=[27.74944856585935, 27.74944856585935, 27.749448565859346, 27.749448565859353, 27.74944856585934, 27.749448565859353, 27.749448565859325, 27.74944856585938, 27.749448565859325, 27.749448565859353], total_height=277.4944856585935, rotation=Rotation(value=0), length_unit=LengthUnit(unit=2)), affected_cells=ActiveCells(shape=(10, 10), data=array([[ True,  True,  True,  True,  True,  True,  True,  True,  True,\n",
       "         True],\n",
       "       [ True,  True,  True,  True,  True,  True,  True,  True,  True,\n",
       "         True],\n",
       "       [ True,  True,  True,  True,  True,  True,  True,  True,  True,\n",
       "         True],\n",
       "       [ True,  True,  True,  True,  True,  True,  True,  True,  True,\n",
       "         True],\n",
       "       [ True,  True,  True,  True,  True,  True,  True,  True,  True,\n",
       "         True],\n",
       "       [ True,  True,  True,  True,  True,  True,  True,  True,  True,\n",
       "         True],\n",
       "       [ True,  True,  True,  True,  True,  True,  True,  True,  True,\n",
       "         True],\n",
       "       [ True,  True,  True,  True,  True,  True,  True,  True, False,\n",
       "        False],\n",
       "       [ True,  True,  True,  True,  True,  True, False, False, False,\n",
       "        False],\n",
       "       [ True,  True,  True, False, False, False, False, False, False,\n",
       "        False]])))"
      ]
     },
     "execution_count": 2,
     "metadata": {},
     "output_type": "execute_result"
    }
   ],
   "source": [
    "from morpheus.project.types.discretization.spatial import ActiveCells\n",
    "from morpheus.project.types.discretization import SpatialDiscretization\n",
    "from morpheus.project.types.discretization.spatial import Rotation, LengthUnit, Grid, Crs\n",
    "from morpheus.project.types.geometry import Polygon, LineString\n",
    "\n",
    "polygon = Polygon(\n",
    "  type='Polygon',\n",
    "  coordinates=[[\n",
    "    (13.922514437551428, 50.964720483303836),\n",
    "    (13.925250781947113, 50.965228748412386),\n",
    "    (13.925036413951403, 50.96623732041704),\n",
    "    (13.92222441026388, 50.96629040370362),\n",
    "    (13.922514437551428, 50.964720483303836)\n",
    "  ]]\n",
    ")\n",
    "\n",
    "rotation = Rotation(0)\n",
    "length_unit = LengthUnit.meters()\n",
    "relative_col_coordinates = [0, 0.1, 0.2, 0.3, 0.4, 0.5, 0.6, 0.7, 0.8, 0.9, 1]\n",
    "relative_row_coordinates = [0, 0.1, 0.2, 0.3, 0.4, 0.5, 0.6, 0.7, 0.8, 0.9, 1]\n",
    "\n",
    "grid = Grid.from_polygon_with_relative_coordinates(\n",
    "  polygon=polygon,\n",
    "  relative_col_coordinates=relative_col_coordinates,\n",
    "  relative_row_coordinates=relative_row_coordinates,\n",
    "  rotation=rotation,\n",
    ")\n",
    "\n",
    "spatial_discretization = SpatialDiscretization(\n",
    "  geometry=polygon,\n",
    "  grid=grid,\n",
    "  affected_cells=ActiveCells.from_polygon(polygon=polygon, grid=grid),\n",
    "  crs=Crs.from_str('EPSG:4326')\n",
    ")\n",
    "\n",
    "spatial_discretization"
   ]
  },
  {
   "cell_type": "markdown",
   "id": "fa27e67f9d801845",
   "metadata": {
    "collapsed": false,
    "papermill": {
     "duration": 0.005285,
     "end_time": "2024-08-19T20:03:19.683515",
     "exception": false,
     "start_time": "2024-08-19T20:03:19.678230",
     "status": "completed"
    },
    "tags": []
   },
   "source": [
    "## Setup Time Discretization"
   ]
  },
  {
   "cell_type": "code",
   "execution_count": 3,
   "id": "8e4e63dd138db9fc",
   "metadata": {
    "ExecuteTime": {
     "end_time": "2024-08-19T09:57:11.710318Z",
     "start_time": "2024-08-19T09:57:11.699769Z"
    },
    "collapsed": false,
    "execution": {
     "iopub.execute_input": "2024-08-19T20:03:19.697826Z",
     "iopub.status.busy": "2024-08-19T20:03:19.697181Z",
     "iopub.status.idle": "2024-08-19T20:03:19.706661Z",
     "shell.execute_reply": "2024-08-19T20:03:19.705876Z"
    },
    "papermill": {
     "duration": 0.017006,
     "end_time": "2024-08-19T20:03:19.710342",
     "exception": false,
     "start_time": "2024-08-19T20:03:19.693336",
     "status": "completed"
    },
    "tags": []
   },
   "outputs": [],
   "source": [
    "from morpheus.project.types.discretization.time.TimeUnit import TimeUnit\n",
    "from morpheus.project.types.discretization.time.Stressperiods import StartDateTime, StressPeriodCollection, \\\n",
    "  StressPeriod, NumberOfTimeSteps, TimeStepMultiplier, IsSteadyState\n",
    "from morpheus.project.types.discretization.time import TimeDiscretization\n",
    "from datetime import datetime\n",
    "\n",
    "time_discretization = TimeDiscretization(\n",
    "  start_date_time=StartDateTime.from_datetime(datetime(2020, 1, 1)),\n",
    "  end_date_time=StartDateTime.from_datetime(datetime(2020, 12, 31)),\n",
    "  stress_periods=StressPeriodCollection([\n",
    "    StressPeriod(\n",
    "      start_date_time=StartDateTime.from_datetime(datetime(2020, 1, 1)),\n",
    "      number_of_time_steps=NumberOfTimeSteps(1),\n",
    "      time_step_multiplier=TimeStepMultiplier(1),\n",
    "      steady_state=IsSteadyState.yes()\n",
    "    ),\n",
    "  ]),\n",
    "  time_unit=TimeUnit.days()\n",
    ")"
   ]
  },
  {
   "cell_type": "markdown",
   "id": "963ba8729f09fcec",
   "metadata": {
    "collapsed": false,
    "papermill": {
     "duration": 0.008023,
     "end_time": "2024-08-19T20:03:19.726171",
     "exception": false,
     "start_time": "2024-08-19T20:03:19.718148",
     "status": "completed"
    },
    "tags": []
   },
   "source": [
    "# Setup Model"
   ]
  },
  {
   "cell_type": "code",
   "execution_count": 4,
   "id": "1d5c9125b1b9360b",
   "metadata": {
    "ExecuteTime": {
     "end_time": "2024-08-19T09:57:12.176861Z",
     "start_time": "2024-08-19T09:57:11.728361Z"
    },
    "collapsed": false,
    "execution": {
     "iopub.execute_input": "2024-08-19T20:03:19.735078Z",
     "iopub.status.busy": "2024-08-19T20:03:19.734728Z",
     "iopub.status.idle": "2024-08-19T20:03:20.202702Z",
     "shell.execute_reply": "2024-08-19T20:03:20.202354Z"
    },
    "papermill": {
     "duration": 0.473608,
     "end_time": "2024-08-19T20:03:20.204795",
     "exception": false,
     "start_time": "2024-08-19T20:03:19.731187",
     "status": "completed"
    },
    "tags": []
   },
   "outputs": [],
   "source": [
    "from morpheus.project.types.Model import Model\n",
    "\n",
    "model = Model.new()\n",
    "model = model.with_updated_time_discretization(time_discretization)\n",
    "model = model.with_updated_spatial_discretization(spatial_discretization=spatial_discretization)"
   ]
  },
  {
   "cell_type": "code",
   "execution_count": 5,
   "id": "1540b870ae83f298",
   "metadata": {
    "ExecuteTime": {
     "end_time": "2024-08-19T09:57:12.342930Z",
     "start_time": "2024-08-19T09:57:12.177561Z"
    },
    "collapsed": false,
    "execution": {
     "iopub.execute_input": "2024-08-19T20:03:20.210398Z",
     "iopub.status.busy": "2024-08-19T20:03:20.210129Z",
     "iopub.status.idle": "2024-08-19T20:03:20.350645Z",
     "shell.execute_reply": "2024-08-19T20:03:20.350382Z"
    },
    "papermill": {
     "duration": 0.144193,
     "end_time": "2024-08-19T20:03:20.351531",
     "exception": false,
     "start_time": "2024-08-19T20:03:20.207338",
     "status": "completed"
    },
    "tags": []
   },
   "outputs": [
    {
     "data": {
      "text/html": [
       "<div style=\"width:100%;\"><div style=\"position:relative;width:100%;height:0;padding-bottom:60%;\"><span style=\"color:#565656\">Make this Notebook Trusted to load map: File -> Trust Notebook</span><iframe srcdoc=\"&lt;!DOCTYPE html&gt;\n",
       "&lt;html&gt;\n",
       "&lt;head&gt;\n",
       "    \n",
       "    &lt;meta http-equiv=&quot;content-type&quot; content=&quot;text/html; charset=UTF-8&quot; /&gt;\n",
       "    \n",
       "        &lt;script&gt;\n",
       "            L_NO_TOUCH = false;\n",
       "            L_DISABLE_3D = false;\n",
       "        &lt;/script&gt;\n",
       "    \n",
       "    &lt;style&gt;html, body {width: 100%;height: 100%;margin: 0;padding: 0;}&lt;/style&gt;\n",
       "    &lt;style&gt;#map {position:absolute;top:0;bottom:0;right:0;left:0;}&lt;/style&gt;\n",
       "    &lt;script src=&quot;https://cdn.jsdelivr.net/npm/leaflet@1.9.3/dist/leaflet.js&quot;&gt;&lt;/script&gt;\n",
       "    &lt;script src=&quot;https://code.jquery.com/jquery-3.7.1.min.js&quot;&gt;&lt;/script&gt;\n",
       "    &lt;script src=&quot;https://cdn.jsdelivr.net/npm/bootstrap@5.2.2/dist/js/bootstrap.bundle.min.js&quot;&gt;&lt;/script&gt;\n",
       "    &lt;script src=&quot;https://cdnjs.cloudflare.com/ajax/libs/Leaflet.awesome-markers/2.0.2/leaflet.awesome-markers.js&quot;&gt;&lt;/script&gt;\n",
       "    &lt;link rel=&quot;stylesheet&quot; href=&quot;https://cdn.jsdelivr.net/npm/leaflet@1.9.3/dist/leaflet.css&quot;/&gt;\n",
       "    &lt;link rel=&quot;stylesheet&quot; href=&quot;https://cdn.jsdelivr.net/npm/bootstrap@5.2.2/dist/css/bootstrap.min.css&quot;/&gt;\n",
       "    &lt;link rel=&quot;stylesheet&quot; href=&quot;https://netdna.bootstrapcdn.com/bootstrap/3.0.0/css/bootstrap.min.css&quot;/&gt;\n",
       "    &lt;link rel=&quot;stylesheet&quot; href=&quot;https://cdn.jsdelivr.net/npm/@fortawesome/fontawesome-free@6.2.0/css/all.min.css&quot;/&gt;\n",
       "    &lt;link rel=&quot;stylesheet&quot; href=&quot;https://cdnjs.cloudflare.com/ajax/libs/Leaflet.awesome-markers/2.0.2/leaflet.awesome-markers.css&quot;/&gt;\n",
       "    &lt;link rel=&quot;stylesheet&quot; href=&quot;https://cdn.jsdelivr.net/gh/python-visualization/folium/folium/templates/leaflet.awesome.rotate.min.css&quot;/&gt;\n",
       "    \n",
       "            &lt;meta name=&quot;viewport&quot; content=&quot;width=device-width,\n",
       "                initial-scale=1.0, maximum-scale=1.0, user-scalable=no&quot; /&gt;\n",
       "            &lt;style&gt;\n",
       "                #map_7a62a62802874f4f7dc12e06d7832ba0 {\n",
       "                    position: relative;\n",
       "                    width: 100.0%;\n",
       "                    height: 100.0%;\n",
       "                    left: 0.0%;\n",
       "                    top: 0.0%;\n",
       "                }\n",
       "                .leaflet-container { font-size: 1rem; }\n",
       "            &lt;/style&gt;\n",
       "        \n",
       "&lt;/head&gt;\n",
       "&lt;body&gt;\n",
       "    \n",
       "    \n",
       "            &lt;div class=&quot;folium-map&quot; id=&quot;map_7a62a62802874f4f7dc12e06d7832ba0&quot; &gt;&lt;/div&gt;\n",
       "        \n",
       "&lt;/body&gt;\n",
       "&lt;script&gt;\n",
       "    \n",
       "    \n",
       "            var map_7a62a62802874f4f7dc12e06d7832ba0 = L.map(\n",
       "                &quot;map_7a62a62802874f4f7dc12e06d7832ba0&quot;,\n",
       "                {\n",
       "                    center: [50.965, 13.922],\n",
       "                    crs: L.CRS.EPSG3857,\n",
       "                    zoom: 12,\n",
       "                    zoomControl: true,\n",
       "                    preferCanvas: false,\n",
       "                }\n",
       "            );\n",
       "\n",
       "            \n",
       "\n",
       "        \n",
       "    \n",
       "            var tile_layer_959b743bc77f82206367879c006f0fb0 = L.tileLayer(\n",
       "                &quot;https://{s}.basemaps.cartocdn.com/light_all/{z}/{x}/{y}{r}.png&quot;,\n",
       "                {&quot;attribution&quot;: &quot;\\u0026copy; \\u003ca href=\\&quot;https://www.openstreetmap.org/copyright\\&quot;\\u003eOpenStreetMap\\u003c/a\\u003e contributors \\u0026copy; \\u003ca href=\\&quot;https://carto.com/attributions\\&quot;\\u003eCARTO\\u003c/a\\u003e&quot;, &quot;detectRetina&quot;: false, &quot;maxNativeZoom&quot;: 20, &quot;maxZoom&quot;: 20, &quot;minZoom&quot;: 0, &quot;noWrap&quot;: false, &quot;opacity&quot;: 1, &quot;subdomains&quot;: &quot;abcd&quot;, &quot;tms&quot;: false}\n",
       "            );\n",
       "        \n",
       "    \n",
       "            tile_layer_959b743bc77f82206367879c006f0fb0.addTo(map_7a62a62802874f4f7dc12e06d7832ba0);\n",
       "        \n",
       "    \n",
       "\n",
       "        function geo_json_34a528d6e61cbccdc9ffed94aca97e10_onEachFeature(feature, layer) {\n",
       "            layer.on({\n",
       "            });\n",
       "        };\n",
       "        var geo_json_34a528d6e61cbccdc9ffed94aca97e10 = L.geoJson(null, {\n",
       "                onEachFeature: geo_json_34a528d6e61cbccdc9ffed94aca97e10_onEachFeature,\n",
       "            \n",
       "        });\n",
       "\n",
       "        function geo_json_34a528d6e61cbccdc9ffed94aca97e10_add (data) {\n",
       "            geo_json_34a528d6e61cbccdc9ffed94aca97e10\n",
       "                .addData(data);\n",
       "        }\n",
       "            geo_json_34a528d6e61cbccdc9ffed94aca97e10_add({&quot;coordinates&quot;: [[[13.922514437551428, 50.964720483303836], [13.925250781947113, 50.965228748412386], [13.925036413951403, 50.96623732041704], [13.92222441026388, 50.96629040370362], [13.922514437551428, 50.964720483303836]]], &quot;type&quot;: &quot;Polygon&quot;});\n",
       "\n",
       "        \n",
       "    \n",
       "            geo_json_34a528d6e61cbccdc9ffed94aca97e10.addTo(map_7a62a62802874f4f7dc12e06d7832ba0);\n",
       "        \n",
       "    \n",
       "            map_7a62a62802874f4f7dc12e06d7832ba0.fitBounds(\n",
       "                [[50.964720483303836, 13.92222441026388], [50.96629040370362, 13.925250781947113]],\n",
       "                {}\n",
       "            );\n",
       "        \n",
       "&lt;/script&gt;\n",
       "&lt;/html&gt;\" style=\"position:absolute;width:100%;height:100%;left:0;top:0;border:none !important;\" allowfullscreen webkitallowfullscreen mozallowfullscreen></iframe></div></div>"
      ],
      "text/plain": [
       "<folium.folium.Map at 0x123baf2c0>"
      ]
     },
     "execution_count": 5,
     "metadata": {},
     "output_type": "execute_result"
    }
   ],
   "source": [
    "import folium\n",
    "\n",
    "m = folium.Map(tiles=\"cartodbpositron\", crs=\"EPSG3857\", zoom_start=12, location=[50.965, 13.922])\n",
    "m.add_child(folium.GeoJson(polygon.as_geojson()))\n",
    "\n",
    "m.fit_bounds(m.get_bounds())\n",
    "m"
   ]
  },
  {
   "cell_type": "markdown",
   "id": "62ae3587df801000",
   "metadata": {
    "collapsed": false,
    "papermill": {
     "duration": 0.001995,
     "end_time": "2024-08-19T20:03:20.355761",
     "exception": false,
     "start_time": "2024-08-19T20:03:20.353766",
     "status": "completed"
    },
    "tags": []
   },
   "source": [
    "# Setup constant head boundary with 1 observation"
   ]
  },
  {
   "cell_type": "code",
   "execution_count": 6,
   "id": "53679913aee28ce9",
   "metadata": {
    "ExecuteTime": {
     "end_time": "2024-08-19T09:57:12.369208Z",
     "start_time": "2024-08-19T09:57:12.344239Z"
    },
    "collapsed": false,
    "execution": {
     "iopub.execute_input": "2024-08-19T20:03:20.360227Z",
     "iopub.status.busy": "2024-08-19T20:03:20.360057Z",
     "iopub.status.idle": "2024-08-19T20:03:20.378899Z",
     "shell.execute_reply": "2024-08-19T20:03:20.378636Z"
    },
    "papermill": {
     "duration": 0.022038,
     "end_time": "2024-08-19T20:03:20.379712",
     "exception": false,
     "start_time": "2024-08-19T20:03:20.357674",
     "status": "completed"
    },
    "tags": []
   },
   "outputs": [
    {
     "data": {
      "text/html": [
       "<div style=\"width:100%;\"><div style=\"position:relative;width:100%;height:0;padding-bottom:60%;\"><span style=\"color:#565656\">Make this Notebook Trusted to load map: File -> Trust Notebook</span><iframe srcdoc=\"&lt;!DOCTYPE html&gt;\n",
       "&lt;html&gt;\n",
       "&lt;head&gt;\n",
       "    \n",
       "    &lt;meta http-equiv=&quot;content-type&quot; content=&quot;text/html; charset=UTF-8&quot; /&gt;\n",
       "    \n",
       "        &lt;script&gt;\n",
       "            L_NO_TOUCH = false;\n",
       "            L_DISABLE_3D = false;\n",
       "        &lt;/script&gt;\n",
       "    \n",
       "    &lt;style&gt;html, body {width: 100%;height: 100%;margin: 0;padding: 0;}&lt;/style&gt;\n",
       "    &lt;style&gt;#map {position:absolute;top:0;bottom:0;right:0;left:0;}&lt;/style&gt;\n",
       "    &lt;script src=&quot;https://cdn.jsdelivr.net/npm/leaflet@1.9.3/dist/leaflet.js&quot;&gt;&lt;/script&gt;\n",
       "    &lt;script src=&quot;https://code.jquery.com/jquery-3.7.1.min.js&quot;&gt;&lt;/script&gt;\n",
       "    &lt;script src=&quot;https://cdn.jsdelivr.net/npm/bootstrap@5.2.2/dist/js/bootstrap.bundle.min.js&quot;&gt;&lt;/script&gt;\n",
       "    &lt;script src=&quot;https://cdnjs.cloudflare.com/ajax/libs/Leaflet.awesome-markers/2.0.2/leaflet.awesome-markers.js&quot;&gt;&lt;/script&gt;\n",
       "    &lt;link rel=&quot;stylesheet&quot; href=&quot;https://cdn.jsdelivr.net/npm/leaflet@1.9.3/dist/leaflet.css&quot;/&gt;\n",
       "    &lt;link rel=&quot;stylesheet&quot; href=&quot;https://cdn.jsdelivr.net/npm/bootstrap@5.2.2/dist/css/bootstrap.min.css&quot;/&gt;\n",
       "    &lt;link rel=&quot;stylesheet&quot; href=&quot;https://netdna.bootstrapcdn.com/bootstrap/3.0.0/css/bootstrap.min.css&quot;/&gt;\n",
       "    &lt;link rel=&quot;stylesheet&quot; href=&quot;https://cdn.jsdelivr.net/npm/@fortawesome/fontawesome-free@6.2.0/css/all.min.css&quot;/&gt;\n",
       "    &lt;link rel=&quot;stylesheet&quot; href=&quot;https://cdnjs.cloudflare.com/ajax/libs/Leaflet.awesome-markers/2.0.2/leaflet.awesome-markers.css&quot;/&gt;\n",
       "    &lt;link rel=&quot;stylesheet&quot; href=&quot;https://cdn.jsdelivr.net/gh/python-visualization/folium/folium/templates/leaflet.awesome.rotate.min.css&quot;/&gt;\n",
       "    \n",
       "            &lt;meta name=&quot;viewport&quot; content=&quot;width=device-width,\n",
       "                initial-scale=1.0, maximum-scale=1.0, user-scalable=no&quot; /&gt;\n",
       "            &lt;style&gt;\n",
       "                #map_7a62a62802874f4f7dc12e06d7832ba0 {\n",
       "                    position: relative;\n",
       "                    width: 100.0%;\n",
       "                    height: 100.0%;\n",
       "                    left: 0.0%;\n",
       "                    top: 0.0%;\n",
       "                }\n",
       "                .leaflet-container { font-size: 1rem; }\n",
       "            &lt;/style&gt;\n",
       "        \n",
       "&lt;/head&gt;\n",
       "&lt;body&gt;\n",
       "    \n",
       "    \n",
       "            &lt;div class=&quot;folium-map&quot; id=&quot;map_7a62a62802874f4f7dc12e06d7832ba0&quot; &gt;&lt;/div&gt;\n",
       "        \n",
       "&lt;/body&gt;\n",
       "&lt;script&gt;\n",
       "    \n",
       "    \n",
       "            var map_7a62a62802874f4f7dc12e06d7832ba0 = L.map(\n",
       "                &quot;map_7a62a62802874f4f7dc12e06d7832ba0&quot;,\n",
       "                {\n",
       "                    center: [50.965, 13.922],\n",
       "                    crs: L.CRS.EPSG3857,\n",
       "                    zoom: 12,\n",
       "                    zoomControl: true,\n",
       "                    preferCanvas: false,\n",
       "                }\n",
       "            );\n",
       "\n",
       "            \n",
       "\n",
       "        \n",
       "    \n",
       "            var tile_layer_959b743bc77f82206367879c006f0fb0 = L.tileLayer(\n",
       "                &quot;https://{s}.basemaps.cartocdn.com/light_all/{z}/{x}/{y}{r}.png&quot;,\n",
       "                {&quot;attribution&quot;: &quot;\\u0026copy; \\u003ca href=\\&quot;https://www.openstreetmap.org/copyright\\&quot;\\u003eOpenStreetMap\\u003c/a\\u003e contributors \\u0026copy; \\u003ca href=\\&quot;https://carto.com/attributions\\&quot;\\u003eCARTO\\u003c/a\\u003e&quot;, &quot;detectRetina&quot;: false, &quot;maxNativeZoom&quot;: 20, &quot;maxZoom&quot;: 20, &quot;minZoom&quot;: 0, &quot;noWrap&quot;: false, &quot;opacity&quot;: 1, &quot;subdomains&quot;: &quot;abcd&quot;, &quot;tms&quot;: false}\n",
       "            );\n",
       "        \n",
       "    \n",
       "            tile_layer_959b743bc77f82206367879c006f0fb0.addTo(map_7a62a62802874f4f7dc12e06d7832ba0);\n",
       "        \n",
       "    \n",
       "\n",
       "        function geo_json_34a528d6e61cbccdc9ffed94aca97e10_onEachFeature(feature, layer) {\n",
       "            layer.on({\n",
       "            });\n",
       "        };\n",
       "        var geo_json_34a528d6e61cbccdc9ffed94aca97e10 = L.geoJson(null, {\n",
       "                onEachFeature: geo_json_34a528d6e61cbccdc9ffed94aca97e10_onEachFeature,\n",
       "            \n",
       "        });\n",
       "\n",
       "        function geo_json_34a528d6e61cbccdc9ffed94aca97e10_add (data) {\n",
       "            geo_json_34a528d6e61cbccdc9ffed94aca97e10\n",
       "                .addData(data);\n",
       "        }\n",
       "            geo_json_34a528d6e61cbccdc9ffed94aca97e10_add({&quot;coordinates&quot;: [[[13.922514437551428, 50.964720483303836], [13.925250781947113, 50.965228748412386], [13.925036413951403, 50.96623732041704], [13.92222441026388, 50.96629040370362], [13.922514437551428, 50.964720483303836]]], &quot;type&quot;: &quot;Polygon&quot;});\n",
       "\n",
       "        \n",
       "    \n",
       "            geo_json_34a528d6e61cbccdc9ffed94aca97e10.addTo(map_7a62a62802874f4f7dc12e06d7832ba0);\n",
       "        \n",
       "    \n",
       "            map_7a62a62802874f4f7dc12e06d7832ba0.fitBounds(\n",
       "                [[50.964720483303836, 13.92222441026388], [50.96629040370362, 13.925250781947113]],\n",
       "                {}\n",
       "            );\n",
       "        \n",
       "    \n",
       "            tile_layer_959b743bc77f82206367879c006f0fb0.addTo(map_7a62a62802874f4f7dc12e06d7832ba0);\n",
       "        \n",
       "    \n",
       "            geo_json_34a528d6e61cbccdc9ffed94aca97e10.addTo(map_7a62a62802874f4f7dc12e06d7832ba0);\n",
       "        \n",
       "    \n",
       "\n",
       "        function geo_json_63816098cb491f42136e427c5e949a76_onEachFeature(feature, layer) {\n",
       "            layer.on({\n",
       "            });\n",
       "        };\n",
       "        var geo_json_63816098cb491f42136e427c5e949a76 = L.geoJson(null, {\n",
       "                onEachFeature: geo_json_63816098cb491f42136e427c5e949a76_onEachFeature,\n",
       "            \n",
       "        });\n",
       "\n",
       "        function geo_json_63816098cb491f42136e427c5e949a76_add (data) {\n",
       "            geo_json_63816098cb491f42136e427c5e949a76\n",
       "                .addData(data);\n",
       "        }\n",
       "            geo_json_63816098cb491f42136e427c5e949a76_add({&quot;coordinates&quot;: [[13.9223, 50.9662], [13.925, 50.96615]], &quot;type&quot;: &quot;LineString&quot;});\n",
       "\n",
       "        \n",
       "    \n",
       "            geo_json_63816098cb491f42136e427c5e949a76.addTo(map_7a62a62802874f4f7dc12e06d7832ba0);\n",
       "        \n",
       "    \n",
       "\n",
       "        function geo_json_765b9882ae837d69ad179e827416d6f6_onEachFeature(feature, layer) {\n",
       "            layer.on({\n",
       "            });\n",
       "        };\n",
       "        var geo_json_765b9882ae837d69ad179e827416d6f6 = L.geoJson(null, {\n",
       "                onEachFeature: geo_json_765b9882ae837d69ad179e827416d6f6_onEachFeature,\n",
       "            \n",
       "        });\n",
       "\n",
       "        function geo_json_765b9882ae837d69ad179e827416d6f6_add (data) {\n",
       "            geo_json_765b9882ae837d69ad179e827416d6f6\n",
       "                .addData(data);\n",
       "        }\n",
       "            geo_json_765b9882ae837d69ad179e827416d6f6_add({&quot;geometries&quot;: [{&quot;coordinates&quot;: [[[13.922224410263878, 50.96629040370359], [13.922527047432201, 50.96629040370359], [13.922527047432201, 50.9661334140511], [13.922224410263878, 50.9661334140511], [13.922224410263878, 50.96629040370359]]], &quot;type&quot;: &quot;Polygon&quot;}, {&quot;coordinates&quot;: [[[13.922527047432201, 50.96629040370359], [13.922829684600526, 50.96629040370359], [13.922829684600526, 50.9661334140511], [13.922527047432201, 50.9661334140511], [13.922527047432201, 50.96629040370359]]], &quot;type&quot;: &quot;Polygon&quot;}, {&quot;coordinates&quot;: [[[13.922829684600526, 50.96629040370359], [13.923132321768849, 50.96629040370359], [13.923132321768849, 50.9661334140511], [13.922829684600526, 50.9661334140511], [13.922829684600526, 50.96629040370359]]], &quot;type&quot;: &quot;Polygon&quot;}, {&quot;coordinates&quot;: [[[13.923132321768849, 50.96629040370359], [13.923434958937172, 50.96629040370359], [13.923434958937172, 50.9661334140511], [13.923132321768849, 50.9661334140511], [13.923132321768849, 50.96629040370359]]], &quot;type&quot;: &quot;Polygon&quot;}, {&quot;coordinates&quot;: [[[13.923434958937172, 50.96629040370359], [13.923737596105495, 50.96629040370359], [13.923737596105495, 50.9661334140511], [13.923434958937172, 50.9661334140511], [13.923434958937172, 50.96629040370359]]], &quot;type&quot;: &quot;Polygon&quot;}, {&quot;coordinates&quot;: [[[13.923737596105495, 50.96629040370359], [13.924040233273818, 50.96629040370359], [13.924040233273818, 50.9661334140511], [13.923737596105495, 50.9661334140511], [13.923737596105495, 50.96629040370359]]], &quot;type&quot;: &quot;Polygon&quot;}, {&quot;coordinates&quot;: [[[13.924040233273818, 50.96629040370359], [13.924342870442143, 50.96629040370359], [13.924342870442143, 50.9661334140511], [13.924040233273818, 50.9661334140511], [13.924040233273818, 50.96629040370359]]], &quot;type&quot;: &quot;Polygon&quot;}, {&quot;coordinates&quot;: [[[13.924342870442143, 50.96629040370359], [13.924645507610466, 50.96629040370359], [13.924645507610466, 50.9661334140511], [13.924342870442143, 50.9661334140511], [13.924342870442143, 50.96629040370359]]], &quot;type&quot;: &quot;Polygon&quot;}, {&quot;coordinates&quot;: [[[13.924645507610466, 50.96629040370359], [13.92494814477879, 50.96629040370359], [13.92494814477879, 50.9661334140511], [13.924645507610466, 50.9661334140511], [13.924645507610466, 50.96629040370359]]], &quot;type&quot;: &quot;Polygon&quot;}, {&quot;coordinates&quot;: [[[13.92494814477879, 50.96629040370359], [13.925250781947113, 50.96629040370359], [13.925250781947113, 50.9661334140511], [13.92494814477879, 50.9661334140511], [13.92494814477879, 50.96629040370359]]], &quot;type&quot;: &quot;Polygon&quot;}], &quot;type&quot;: &quot;GeometryCollection&quot;});\n",
       "\n",
       "        \n",
       "    \n",
       "            geo_json_765b9882ae837d69ad179e827416d6f6.addTo(map_7a62a62802874f4f7dc12e06d7832ba0);\n",
       "        \n",
       "    \n",
       "\n",
       "        function geo_json_1dcf395ae685ea6fffcbb9870093667d_onEachFeature(feature, layer) {\n",
       "            layer.on({\n",
       "            });\n",
       "        };\n",
       "        var geo_json_1dcf395ae685ea6fffcbb9870093667d = L.geoJson(null, {\n",
       "                onEachFeature: geo_json_1dcf395ae685ea6fffcbb9870093667d_onEachFeature,\n",
       "            \n",
       "        });\n",
       "\n",
       "        function geo_json_1dcf395ae685ea6fffcbb9870093667d_add (data) {\n",
       "            geo_json_1dcf395ae685ea6fffcbb9870093667d\n",
       "                .addData(data);\n",
       "        }\n",
       "            geo_json_1dcf395ae685ea6fffcbb9870093667d_add({&quot;coordinates&quot;: [13.9223, 50.9662], &quot;type&quot;: &quot;Point&quot;});\n",
       "\n",
       "        \n",
       "    \n",
       "            geo_json_1dcf395ae685ea6fffcbb9870093667d.addTo(map_7a62a62802874f4f7dc12e06d7832ba0);\n",
       "        \n",
       "    \n",
       "            map_7a62a62802874f4f7dc12e06d7832ba0.fitBounds(\n",
       "                [[50.964720483303836, 13.922224410263878], [50.96629040370362, 13.925250781947113]],\n",
       "                {}\n",
       "            );\n",
       "        \n",
       "&lt;/script&gt;\n",
       "&lt;/html&gt;\" style=\"position:absolute;width:100%;height:100%;left:0;top:0;border:none !important;\" allowfullscreen webkitallowfullscreen mozallowfullscreen></iframe></div></div>"
      ],
      "text/plain": [
       "<folium.folium.Map at 0x123baf2c0>"
      ]
     },
     "execution_count": 6,
     "metadata": {},
     "output_type": "execute_result"
    }
   ],
   "source": [
    "from morpheus.project.types.boundaries.Observation import ObservationName\n",
    "from morpheus.project.types.boundaries.ConstantHeadObservation import ObservationId, HeadValue, ConstantHeadObservationValue\n",
    "from morpheus.project.types.geometry import Point\n",
    "from morpheus.project.types.boundaries.Boundary import BoundaryName\n",
    "from morpheus.project.types.layers import LayerId\n",
    "from morpheus.project.types.boundaries.Boundary import ConstantHeadBoundary, ConstantHeadObservation\n",
    "\n",
    "layers_list = [LayerId.new()]\n",
    "constant_head = ConstantHeadBoundary.from_geometry(\n",
    "  name=BoundaryName('constant_head'),\n",
    "  geometry=LineString([\n",
    "    (13.9223, 50.9662),\n",
    "    (13.9250, 50.96615),\n",
    "  ]),\n",
    "  grid=grid,\n",
    "  affected_layers=[model.layers[0].layer_id],\n",
    "  observations=[\n",
    "    ConstantHeadObservation(\n",
    "      observation_id=ObservationId.new(),\n",
    "      observation_name=ObservationName.default(),\n",
    "      geometry=Point((13.9223, 50.9662)),\n",
    "      data=[\n",
    "        ConstantHeadObservationValue(\n",
    "          date_time=StartDateTime.from_datetime(datetime(2019, 1, 1)),\n",
    "          head=HeadValue.from_float(100),\n",
    "        ),\n",
    "        ConstantHeadObservationValue(\n",
    "          date_time=StartDateTime.from_datetime(datetime(2021, 12, 31)),\n",
    "          head=HeadValue.from_float(120),\n",
    "        ),\n",
    "      ]\n",
    "    )\n",
    "  ]\n",
    ")\n",
    "\n",
    "m.add_child(folium.GeoJson(constant_head.as_geojson()))\n",
    "m.add_child(folium.GeoJson(constant_head.affected_cells.to_geojson(grid).as_geojson()))\n",
    "for constant_head.observation in constant_head.observations:\n",
    "  m.add_child(folium.GeoJson(constant_head.observation.as_geojson()))\n",
    "m.fit_bounds(m.get_bounds())\n",
    "m"
   ]
  },
  {
   "cell_type": "code",
   "execution_count": 7,
   "id": "621e2265ae79b1ae",
   "metadata": {
    "ExecuteTime": {
     "end_time": "2024-08-19T09:57:12.373819Z",
     "start_time": "2024-08-19T09:57:12.369807Z"
    },
    "collapsed": false,
    "execution": {
     "iopub.execute_input": "2024-08-19T20:03:20.384617Z",
     "iopub.status.busy": "2024-08-19T20:03:20.384504Z",
     "iopub.status.idle": "2024-08-19T20:03:20.386292Z",
     "shell.execute_reply": "2024-08-19T20:03:20.386088Z"
    },
    "papermill": {
     "duration": 0.005052,
     "end_time": "2024-08-19T20:03:20.387085",
     "exception": false,
     "start_time": "2024-08-19T20:03:20.382033",
     "status": "completed"
    },
    "tags": []
   },
   "outputs": [],
   "source": [
    "from morpheus.project.types.boundaries.Boundary import BoundaryCollection\n",
    "\n",
    "boundary_collection = BoundaryCollection.new()\n",
    "boundary_collection.add_boundary(constant_head)\n",
    "\n",
    "model = model.with_updated_boundaries(boundaries=boundary_collection)"
   ]
  },
  {
   "cell_type": "markdown",
   "id": "42d948d145a8457a",
   "metadata": {
    "collapsed": false,
    "papermill": {
     "duration": 0.002048,
     "end_time": "2024-08-19T20:03:20.391316",
     "exception": false,
     "start_time": "2024-08-19T20:03:20.389268",
     "status": "completed"
    },
    "tags": []
   },
   "source": [
    "## Calculate"
   ]
  },
  {
   "cell_type": "code",
   "execution_count": 8,
   "id": "56ccabee86e2397e",
   "metadata": {
    "ExecuteTime": {
     "end_time": "2024-08-19T09:57:12.937751Z",
     "start_time": "2024-08-19T09:57:12.375254Z"
    },
    "collapsed": false,
    "execution": {
     "iopub.execute_input": "2024-08-19T20:03:20.396130Z",
     "iopub.status.busy": "2024-08-19T20:03:20.395988Z",
     "iopub.status.idle": "2024-08-19T20:03:20.726741Z",
     "shell.execute_reply": "2024-08-19T20:03:20.726483Z"
    },
    "papermill": {
     "duration": 0.334062,
     "end_time": "2024-08-19T20:03:20.727549",
     "exception": false,
     "start_time": "2024-08-19T20:03:20.393487",
     "status": "completed"
    },
    "tags": []
   },
   "outputs": [
    {
     "data": {
      "text/plain": [
       "CalculationId(value='64ba481b-36af-423a-9612-b7aa9c56f340')"
      ]
     },
     "execution_count": 8,
     "metadata": {},
     "output_type": "execute_result"
    }
   ],
   "source": [
    "from morpheus.project.types.Project import ProjectId\n",
    "from morpheus.project.infrastructure.calculation.engines.modflow_2005.types.Mf2005CalculationEngineSettings import \\\n",
    "  Mf2005CalculationEngineSettings\n",
    "from morpheus.project.types.calculation.CalculationProfile import CalculationProfile, CalculationEngineType\n",
    "from morpheus.project.types.calculation.Calculation import Calculation\n",
    "\n",
    "calculation_engine_settings = Mf2005CalculationEngineSettings.default()\n",
    "calculation_profile = CalculationProfile.new(CalculationEngineType.MF2005)\n",
    "calculation = Calculation.new(model=model, profile=calculation_profile, project_id=ProjectId.new())\n",
    "calculation = Calculation.from_dict(calculation.to_dict())\n",
    "calculation.calculation_id"
   ]
  },
  {
   "cell_type": "code",
   "execution_count": 9,
   "id": "672007fb90753c4c",
   "metadata": {
    "ExecuteTime": {
     "end_time": "2024-08-19T09:57:13.304159Z",
     "start_time": "2024-08-19T09:57:12.938441Z"
    },
    "collapsed": false,
    "execution": {
     "iopub.execute_input": "2024-08-19T20:03:20.732775Z",
     "iopub.status.busy": "2024-08-19T20:03:20.732607Z",
     "iopub.status.idle": "2024-08-19T20:03:21.064117Z",
     "shell.execute_reply": "2024-08-19T20:03:21.063740Z"
    },
    "papermill": {
     "duration": 0.335062,
     "end_time": "2024-08-19T20:03:21.065016",
     "exception": false,
     "start_time": "2024-08-19T20:03:20.729954",
     "status": "completed"
    },
    "tags": []
   },
   "outputs": [
    {
     "name": "stdout",
     "output_type": "stream",
     "text": [
      "FloPy is using the following executable to run the model: ../../../../../../Users/ralf/Projects/inowas/morpheus/src/backend/.venv/bin/mf2005\n",
      "\n",
      "                                  MODFLOW-2005     \n",
      "    U.S. GEOLOGICAL SURVEY MODULAR FINITE-DIFFERENCE GROUND-WATER FLOW MODEL\n",
      "                             Version 1.12.00 2/3/2017                        \n",
      "\n",
      " Using NAME file: mf2005.nam \n",
      " Run start date and time (yyyy/mm/dd hh:mm:ss): 2024/08/19 22:03:21\n",
      "\n",
      " Solving:  Stress period:     1    Time step:     1    Ground-Water Flow Eqn.\n",
      " Run end date and time (yyyy/mm/dd hh:mm:ss): 2024/08/19 22:03:21\n",
      " Elapsed run time:  0.009 Seconds\n",
      "\n",
      "  Normal termination of simulation\n"
     ]
    }
   ],
   "source": [
    "from morpheus.project.infrastructure.calculation.services.CalculationService import CalculationService\n",
    "calculation_service = CalculationService.calculate(model=model, profile=calculation_profile)"
   ]
  },
  {
   "cell_type": "code",
   "execution_count": 10,
   "id": "beae154ec6b0a8f3",
   "metadata": {
    "ExecuteTime": {
     "end_time": "2024-08-19T09:57:13.308964Z",
     "start_time": "2024-08-19T09:57:13.306327Z"
    },
    "collapsed": false,
    "execution": {
     "iopub.execute_input": "2024-08-19T20:03:21.071217Z",
     "iopub.status.busy": "2024-08-19T20:03:21.071007Z",
     "iopub.status.idle": "2024-08-19T20:03:21.073838Z",
     "shell.execute_reply": "2024-08-19T20:03:21.073392Z"
    },
    "papermill": {
     "duration": 0.007288,
     "end_time": "2024-08-19T20:03:21.075051",
     "exception": false,
     "start_time": "2024-08-19T20:03:21.067763",
     "status": "completed"
    },
    "tags": []
   },
   "outputs": [
    {
     "data": {
      "text/plain": [
       "Log(log=['', '                                  MODFLOW-2005     ', '    U.S. GEOLOGICAL SURVEY MODULAR FINITE-DIFFERENCE GROUND-WATER FLOW MODEL', '                             Version 1.12.00 2/3/2017                        ', '', ' Using NAME file: mf2005.nam ', ' Run start date and time (yyyy/mm/dd hh:mm:ss): 2024/08/19 22:03:21', '', ' Solving:  Stress period:     1    Time step:     1    Ground-Water Flow Eqn.', ' Run end date and time (yyyy/mm/dd hh:mm:ss): 2024/08/19 22:03:21', ' Elapsed run time:  0.009 Seconds', '', '  Normal termination of simulation'])"
      ]
     },
     "execution_count": 10,
     "metadata": {},
     "output_type": "execute_result"
    }
   ],
   "source": [
    "calculation_service.get_calculation_log()"
   ]
  },
  {
   "cell_type": "code",
   "execution_count": 11,
   "id": "a52d1dd3a1574032",
   "metadata": {
    "ExecuteTime": {
     "end_time": "2024-08-19T09:57:13.312876Z",
     "start_time": "2024-08-19T09:57:13.309540Z"
    },
    "collapsed": false,
    "execution": {
     "iopub.execute_input": "2024-08-19T20:03:21.081676Z",
     "iopub.status.busy": "2024-08-19T20:03:21.081498Z",
     "iopub.status.idle": "2024-08-19T20:03:21.085364Z",
     "shell.execute_reply": "2024-08-19T20:03:21.084609Z"
    },
    "papermill": {
     "duration": 0.010187,
     "end_time": "2024-08-19T20:03:21.087757",
     "exception": false,
     "start_time": "2024-08-19T20:03:21.077570",
     "status": "completed"
    },
    "tags": []
   },
   "outputs": [
    {
     "data": {
      "text/plain": [
       "CalculationResult(type=<CalculationResultType.SUCCESS: 'success'>, message='Calculation finished successfully', files=['mf2005.list', 'mf2005.chd', 'mf2005.dis', 'mf2005.nam', 'mf2005.bas', 'mf2005.lpf', 'mf2005.pcg', 'mf2005.oc', 'mf2005.hds'], flow_head_results=AvailableResults(times=[365.0], kstpkper=[(0, 0)], number_of_layers=1, number_of_observations=0, min_value=100.0, max_value=100.0), flow_drawdown_results=None, flow_budget_results=AvailableResults(times=[365.0], kstpkper=[(0, 0)], number_of_layers=0, number_of_observations=0, min_value=None, max_value=None), transport_concentration_results=None, transport_budget_results=None, packages=['DIS', 'BAS6', 'CHD', 'PCG', 'LPF', 'OC'])"
      ]
     },
     "execution_count": 11,
     "metadata": {},
     "output_type": "execute_result"
    }
   ],
   "source": [
    "calculation_service.get_result()"
   ]
  },
  {
   "cell_type": "code",
   "execution_count": 12,
   "id": "cc43ad077c7a81d0",
   "metadata": {
    "ExecuteTime": {
     "end_time": "2024-08-19T09:57:13.316870Z",
     "start_time": "2024-08-19T09:57:13.313885Z"
    },
    "collapsed": false,
    "execution": {
     "iopub.execute_input": "2024-08-19T20:03:21.093983Z",
     "iopub.status.busy": "2024-08-19T20:03:21.093845Z",
     "iopub.status.idle": "2024-08-19T20:03:21.096359Z",
     "shell.execute_reply": "2024-08-19T20:03:21.095964Z"
    },
    "papermill": {
     "duration": 0.007243,
     "end_time": "2024-08-19T20:03:21.097628",
     "exception": false,
     "start_time": "2024-08-19T20:03:21.090385",
     "status": "completed"
    },
    "tags": []
   },
   "outputs": [],
   "source": [
    "head = calculation_service.read_flow_head(0, 0)"
   ]
  },
  {
   "cell_type": "code",
   "execution_count": 13,
   "id": "12454cc4d9e18de5",
   "metadata": {
    "ExecuteTime": {
     "end_time": "2024-08-19T09:57:13.320686Z",
     "start_time": "2024-08-19T09:57:13.317684Z"
    },
    "collapsed": false,
    "execution": {
     "iopub.execute_input": "2024-08-19T20:03:21.103602Z",
     "iopub.status.busy": "2024-08-19T20:03:21.103359Z",
     "iopub.status.idle": "2024-08-19T20:03:21.105925Z",
     "shell.execute_reply": "2024-08-19T20:03:21.105569Z"
    },
    "papermill": {
     "duration": 0.006348,
     "end_time": "2024-08-19T20:03:21.106763",
     "exception": false,
     "start_time": "2024-08-19T20:03:21.100415",
     "status": "completed"
    },
    "tags": []
   },
   "outputs": [
    {
     "data": {
      "text/plain": [
       "'[[100.0, 100.0, 100.0, 100.0, 100.0, 100.0, 100.0, 100.0, 100.0, 100.0], [100.0, 100.0, 100.0, 100.0, 100.0, 100.0, 100.0, 100.0, 100.0, 100.0], [100.0, 100.0, 100.0, 100.0, 100.0, 100.0, 100.0, 100.0, 100.0, 100.0], [100.0, 100.0, 100.0, 100.0, 100.0, 100.0, 100.0, 100.0, 100.0, 100.0], [100.0, 100.0, 100.0, 100.0, 100.0, 100.0, 100.0, 100.0, 100.0, 100.0], [100.0, 100.0, 100.0, 100.0, 100.0, 100.0, 100.0, 100.0, 100.0, 100.0], [100.0, 100.0, 100.0, 100.0, 100.0, 100.0, 100.0, 100.0, 100.0, 100.0], [100.0, 100.0, 100.0, 100.0, 100.0, 100.0, 100.0, 100.0, -9999.0, -9999.0], [100.0, 100.0, 100.0, 100.0, 100.0, 100.0, -9999.0, -9999.0, -9999.0, -9999.0], [100.0, 100.0, 100.0, -9999.0, -9999.0, -9999.0, -9999.0, -9999.0, -9999.0, -9999.0]]'"
      ]
     },
     "execution_count": 13,
     "metadata": {},
     "output_type": "execute_result"
    }
   ],
   "source": [
    "import simplejson as json\n",
    "\n",
    "json = json.dumps(head, ignore_nan=True)\n",
    "json"
   ]
  },
  {
   "cell_type": "code",
   "execution_count": 14,
   "id": "df7dfd8ff0308815",
   "metadata": {
    "ExecuteTime": {
     "end_time": "2024-08-19T09:57:13.324037Z",
     "start_time": "2024-08-19T09:57:13.321430Z"
    },
    "collapsed": false,
    "execution": {
     "iopub.execute_input": "2024-08-19T20:03:21.112824Z",
     "iopub.status.busy": "2024-08-19T20:03:21.112562Z",
     "iopub.status.idle": "2024-08-19T20:03:21.115130Z",
     "shell.execute_reply": "2024-08-19T20:03:21.114893Z"
    },
    "papermill": {
     "duration": 0.006589,
     "end_time": "2024-08-19T20:03:21.116040",
     "exception": false,
     "start_time": "2024-08-19T20:03:21.109451",
     "status": "completed"
    },
    "tags": []
   },
   "outputs": [
    {
     "data": {
      "text/plain": [
       "[]"
      ]
     },
     "execution_count": 14,
     "metadata": {},
     "output_type": "execute_result"
    }
   ],
   "source": [
    "calculation_service.read_flow_drawdown(0, 0)"
   ]
  },
  {
   "cell_type": "code",
   "execution_count": 15,
   "id": "b233f4066b56c174",
   "metadata": {
    "ExecuteTime": {
     "end_time": "2024-08-19T09:57:13.328223Z",
     "start_time": "2024-08-19T09:57:13.324672Z"
    },
    "collapsed": false,
    "execution": {
     "iopub.execute_input": "2024-08-19T20:03:21.121889Z",
     "iopub.status.busy": "2024-08-19T20:03:21.121755Z",
     "iopub.status.idle": "2024-08-19T20:03:21.125195Z",
     "shell.execute_reply": "2024-08-19T20:03:21.124932Z"
    },
    "papermill": {
     "duration": 0.007412,
     "end_time": "2024-08-19T20:03:21.126096",
     "exception": false,
     "start_time": "2024-08-19T20:03:21.118684",
     "status": "completed"
    },
    "tags": []
   },
   "outputs": [
    {
     "data": {
      "text/plain": [
       "{'STORAGE_IN': 0.0,\n",
       " 'CONSTANT_HEAD_IN': 0.0025369,\n",
       " 'TOTAL_IN': 0.0025369,\n",
       " 'STORAGE_OUT': -0.0,\n",
       " 'CONSTANT_HEAD_OUT': -0.00075948,\n",
       " 'TOTAL_OUT': -0.00075948,\n",
       " 'IN-OUT': 0.0017774,\n",
       " 'PERCENT_DISCREPANCY': 107.84,\n",
       " 'tslen': 365.0}"
      ]
     },
     "execution_count": 15,
     "metadata": {},
     "output_type": "execute_result"
    }
   ],
   "source": [
    "calculation_service.read_flow_budget(0, False)"
   ]
  },
  {
   "cell_type": "code",
   "execution_count": 16,
   "id": "634709d741f5c252",
   "metadata": {
    "ExecuteTime": {
     "end_time": "2024-08-19T09:57:13.334054Z",
     "start_time": "2024-08-19T09:57:13.329071Z"
    },
    "collapsed": false,
    "execution": {
     "iopub.execute_input": "2024-08-19T20:03:21.132214Z",
     "iopub.status.busy": "2024-08-19T20:03:21.132060Z",
     "iopub.status.idle": "2024-08-19T20:03:21.135493Z",
     "shell.execute_reply": "2024-08-19T20:03:21.135237Z"
    },
    "papermill": {
     "duration": 0.007432,
     "end_time": "2024-08-19T20:03:21.136386",
     "exception": false,
     "start_time": "2024-08-19T20:03:21.128954",
     "status": "completed"
    },
    "tags": []
   },
   "outputs": [
    {
     "data": {
      "text/plain": [
       "{'STORAGE_IN': 0.0,\n",
       " 'CONSTANT_HEAD_IN': 6.9504e-06,\n",
       " 'TOTAL_IN': 6.9504e-06,\n",
       " 'STORAGE_OUT': -0.0,\n",
       " 'CONSTANT_HEAD_OUT': -2.0808e-06,\n",
       " 'TOTAL_OUT': -2.0808e-06,\n",
       " 'IN-OUT': 4.8696e-06,\n",
       " 'PERCENT_DISCREPANCY': 107.84,\n",
       " 'tslen': 365.0}"
      ]
     },
     "execution_count": 16,
     "metadata": {},
     "output_type": "execute_result"
    }
   ],
   "source": [
    "calculation_service.read_flow_budget(0, True)"
   ]
  },
  {
   "cell_type": "code",
   "execution_count": 17,
   "id": "26523066436690e6",
   "metadata": {
    "ExecuteTime": {
     "end_time": "2024-08-19T09:57:13.337963Z",
     "start_time": "2024-08-19T09:57:13.334828Z"
    },
    "collapsed": false,
    "execution": {
     "iopub.execute_input": "2024-08-19T20:03:21.142456Z",
     "iopub.status.busy": "2024-08-19T20:03:21.142313Z",
     "iopub.status.idle": "2024-08-19T20:03:21.144491Z",
     "shell.execute_reply": "2024-08-19T20:03:21.144250Z"
    },
    "papermill": {
     "duration": 0.006142,
     "end_time": "2024-08-19T20:03:21.145279",
     "exception": false,
     "start_time": "2024-08-19T20:03:21.139137",
     "status": "completed"
    },
    "tags": []
   },
   "outputs": [
    {
     "data": {
      "text/plain": [
       "CalculationResult(type=<CalculationResultType.SUCCESS: 'success'>, message='Calculation finished successfully', files=['mf2005.list', 'mf2005.chd', 'mf2005.dis', 'mf2005.nam', 'mf2005.bas', 'mf2005.lpf', 'mf2005.pcg', 'mf2005.oc', 'mf2005.hds'], flow_head_results=AvailableResults(times=[365.0], kstpkper=[(0, 0)], number_of_layers=1, number_of_observations=0, min_value=100.0, max_value=100.0), flow_drawdown_results=None, flow_budget_results=AvailableResults(times=[365.0], kstpkper=[(0, 0)], number_of_layers=0, number_of_observations=0, min_value=None, max_value=None), transport_concentration_results=None, transport_budget_results=None, packages=['DIS', 'BAS6', 'CHD', 'PCG', 'LPF', 'OC'])"
      ]
     },
     "execution_count": 17,
     "metadata": {},
     "output_type": "execute_result"
    }
   ],
   "source": [
    "calculation_service.get_result()"
   ]
  }
 ],
 "metadata": {
  "kernelspec": {
   "display_name": "Python 3",
   "language": "python",
   "name": "python3"
  },
  "language_info": {
   "codemirror_mode": {
    "name": "ipython",
    "version": 3
   },
   "file_extension": ".py",
   "mimetype": "text/x-python",
   "name": "python",
   "nbconvert_exporter": "python",
   "pygments_lexer": "ipython3",
   "version": "3.12.2"
  },
  "papermill": {
   "default_parameters": {},
   "duration": 2.783314,
   "end_time": "2024-08-19T20:03:21.465432",
   "environment_variables": {},
   "exception": null,
   "input_path": "./notebooks/Mf2005Calculation.ipynb",
   "output_path": "./notebooks/Mf2005Calculation.ipynb",
   "parameters": {},
   "start_time": "2024-08-19T20:03:18.682118",
   "version": "2.6.0"
  }
 },
 "nbformat": 4,
 "nbformat_minor": 5
}