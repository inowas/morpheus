{
 "cells": [
  {
   "cell_type": "code",
   "execution_count": 1,
   "outputs": [],
   "source": [
    "import sys\n",
    "\n",
    "sys.path.insert(0, '..')"
   ],
   "metadata": {
    "collapsed": false,
    "ExecuteTime": {
     "end_time": "2023-12-08T21:55:50.067428Z",
     "start_time": "2023-12-08T21:55:50.004474Z"
    }
   },
   "id": "ba6761fae9d5e5cb"
  },
  {
   "cell_type": "markdown",
   "source": [
    "## Setup the model area"
   ],
   "metadata": {
    "collapsed": false
   },
   "id": "5ede1ba5e0993dd1"
  },
  {
   "cell_type": "code",
   "execution_count": 2,
   "outputs": [
    {
     "data": {
      "text/plain": "SpatialDiscretization(geometry=Polygon(coordinates=[[(13.922514437551428, 50.964720483303836), (13.925250781947113, 50.965228748412386), (13.925036413951403, 50.96623732041704), (13.92222441026388, 50.96629040370362), (13.922514437551428, 50.964720483303836)]], type='Polygon'), grid=Grid(origin=Point(coordinates=(13.922224410263878, 50.9662904037036), type='Point'), x_distances=[33.68941547288559, 33.68941547288559, 33.6894154728856, 33.689415472885585, 33.6894154728856, 33.6894154728856, 33.68941547288557, 33.6894154728856, 33.68941547288563, 33.68941547288557], y_distances=[27.74944856585935, 27.74944856585935, 27.749448565859346, 27.749448565859353, 27.74944856585934, 27.749448565859353, 27.749448565859325, 27.74944856585938, 27.749448565859325, 27.749448565859353], rotation=Rotation(value=0), length_unit=LengthUnit(unit=2)), affected_cells=GridCells(shape=(10, 10), data=[GridCell(x=0, y=0, value=True), GridCell(x=0, y=1, value=True), GridCell(x=0, y=2, value=True), GridCell(x=0, y=3, value=True), GridCell(x=0, y=4, value=True), GridCell(x=1, y=0, value=True), GridCell(x=1, y=1, value=True), GridCell(x=1, y=2, value=True), GridCell(x=1, y=3, value=True), GridCell(x=1, y=4, value=True), GridCell(x=1, y=5, value=True), GridCell(x=1, y=6, value=True), GridCell(x=1, y=7, value=True), GridCell(x=1, y=8, value=True), GridCell(x=1, y=9, value=True), GridCell(x=2, y=0, value=True), GridCell(x=2, y=1, value=True), GridCell(x=2, y=2, value=True), GridCell(x=2, y=3, value=True), GridCell(x=2, y=4, value=True), GridCell(x=2, y=5, value=True), GridCell(x=2, y=6, value=True), GridCell(x=2, y=7, value=True), GridCell(x=2, y=8, value=True), GridCell(x=3, y=0, value=True), GridCell(x=3, y=1, value=True), GridCell(x=3, y=2, value=True), GridCell(x=3, y=3, value=True), GridCell(x=3, y=4, value=True), GridCell(x=3, y=5, value=True), GridCell(x=3, y=6, value=True), GridCell(x=3, y=7, value=True), GridCell(x=3, y=8, value=True), GridCell(x=4, y=0, value=True), GridCell(x=4, y=1, value=True), GridCell(x=4, y=2, value=True), GridCell(x=4, y=3, value=True), GridCell(x=4, y=4, value=True), GridCell(x=4, y=5, value=True), GridCell(x=4, y=6, value=True), GridCell(x=4, y=7, value=True), GridCell(x=4, y=8, value=True), GridCell(x=5, y=0, value=True), GridCell(x=5, y=1, value=True), GridCell(x=5, y=2, value=True), GridCell(x=5, y=3, value=True), GridCell(x=5, y=4, value=True), GridCell(x=5, y=5, value=True), GridCell(x=5, y=6, value=True), GridCell(x=5, y=7, value=True), GridCell(x=6, y=0, value=True), GridCell(x=6, y=1, value=True), GridCell(x=6, y=2, value=True), GridCell(x=6, y=3, value=True), GridCell(x=6, y=4, value=True), GridCell(x=6, y=5, value=True), GridCell(x=6, y=6, value=True), GridCell(x=6, y=7, value=True), GridCell(x=7, y=0, value=True), GridCell(x=7, y=1, value=True), GridCell(x=7, y=2, value=True), GridCell(x=7, y=3, value=True), GridCell(x=7, y=4, value=True), GridCell(x=7, y=5, value=True), GridCell(x=7, y=6, value=True), GridCell(x=7, y=7, value=True), GridCell(x=8, y=0, value=True), GridCell(x=8, y=1, value=True), GridCell(x=8, y=2, value=True), GridCell(x=8, y=3, value=True), GridCell(x=8, y=4, value=True), GridCell(x=8, y=5, value=True), GridCell(x=8, y=6, value=True), GridCell(x=9, y=2, value=True), GridCell(x=9, y=3, value=True), GridCell(x=9, y=4, value=True), GridCell(x=9, y=5, value=True), GridCell(x=9, y=6, value=True)], cell_geometries=None), crs=Crs(value='EPSG:4326'))"
     },
     "execution_count": 2,
     "metadata": {},
     "output_type": "execute_result"
    }
   ],
   "source": [
    "from morpheus.modflow.types.discretization.spatial.GridCells import GridCells\n",
    "from morpheus.modflow.types.discretization import SpatialDiscretization\n",
    "from morpheus.modflow.types.discretization.spatial import Rotation, LengthUnit, Grid, Crs\n",
    "from morpheus.modflow.types.geometry import Polygon, LineString\n",
    "\n",
    "polygon = Polygon(\n",
    "  type='Polygon',\n",
    "  coordinates=[[\n",
    "    (13.922514437551428, 50.964720483303836),\n",
    "    (13.925250781947113, 50.965228748412386),\n",
    "    (13.925036413951403, 50.96623732041704),\n",
    "    (13.92222441026388, 50.96629040370362),\n",
    "    (13.922514437551428, 50.964720483303836)\n",
    "  ]]\n",
    ")\n",
    "\n",
    "rotation = Rotation(0)\n",
    "length_unit = LengthUnit.meters()\n",
    "x_coordinates = [0, 0.1, 0.2, 0.3, 0.4, 0.5, 0.6, 0.7, 0.8, 0.9, 1]\n",
    "y_coordinates = [0, 0.1, 0.2, 0.3, 0.4, 0.5, 0.6, 0.7, 0.8, 0.9, 1]\n",
    "\n",
    "grid = Grid.from_polygon_with_relative_coordinates(\n",
    "  polygon=polygon,\n",
    "  x_coordinates=x_coordinates,\n",
    "  y_coordinates=y_coordinates,\n",
    "  rotation=rotation,\n",
    ")\n",
    "\n",
    "spatial_discretization = SpatialDiscretization(\n",
    "  geometry=polygon,\n",
    "  grid=grid,\n",
    "  affected_cells=GridCells.from_polygon(polygon=polygon, grid=grid),\n",
    "  crs=Crs.from_str('EPSG:4326')\n",
    ")\n",
    "\n",
    "spatial_discretization\n",
    "\n"
   ],
   "metadata": {
    "collapsed": false,
    "ExecuteTime": {
     "end_time": "2023-12-08T21:55:50.177734Z",
     "start_time": "2023-12-08T21:55:50.010523Z"
    }
   },
   "id": "2f69504ab35487aa"
  },
  {
   "cell_type": "markdown",
   "source": [
    "## Setup Time Discretization"
   ],
   "metadata": {
    "collapsed": false
   },
   "id": "fa27e67f9d801845"
  },
  {
   "cell_type": "code",
   "execution_count": 3,
   "outputs": [
    {
     "data": {
      "text/plain": "TimeDiscretization(start_date_time=StartDateTime(value=datetime.datetime(2020, 1, 1, 0, 0)), end_date_time=StartDateTime(value=datetime.datetime(2020, 12, 31, 0, 0)), stress_periods=StressPeriodCollection(values=[StressPeriod(start_date_time=StartDateTime(value=datetime.datetime(2020, 1, 1, 0, 0)), number_of_time_steps=NumberOfTimeSteps(value=1), time_step_multiplier=TimeStepMultiplier(value=1), steady_state=IsSteadyState(value=True))]), time_unit=TimeUnit(unit=4))"
     },
     "execution_count": 3,
     "metadata": {},
     "output_type": "execute_result"
    }
   ],
   "source": [
    "from morpheus.modflow.types.discretization.time.TimeUnit import TimeUnit\n",
    "from morpheus.modflow.types.discretization.time.Stressperiods import StartDateTime, StressPeriodCollection, \\\n",
    "  StressPeriod, NumberOfTimeSteps, TimeStepMultiplier, IsSteadyState\n",
    "from morpheus.modflow.types.discretization.time import TimeDiscretization\n",
    "from datetime import datetime\n",
    "\n",
    "time_discretization = TimeDiscretization(\n",
    "  start_date_time=StartDateTime.from_datetime(datetime(2020, 1, 1)),\n",
    "  end_date_time=StartDateTime.from_datetime(datetime(2020, 12, 31)),\n",
    "  stress_periods=StressPeriodCollection([\n",
    "    StressPeriod(\n",
    "      start_date_time=StartDateTime.from_datetime(datetime(2020, 1, 1)),\n",
    "      number_of_time_steps=NumberOfTimeSteps(1),\n",
    "      time_step_multiplier=TimeStepMultiplier(1),\n",
    "      steady_state=IsSteadyState.yes()\n",
    "    ),\n",
    "  ]),\n",
    "  time_unit=TimeUnit.days()\n",
    ")\n",
    "\n",
    "time_discretization"
   ],
   "metadata": {
    "collapsed": false,
    "ExecuteTime": {
     "end_time": "2023-12-08T21:55:50.226309Z",
     "start_time": "2023-12-08T21:55:50.176940Z"
    }
   },
   "id": "8e4e63dd138db9fc"
  },
  {
   "cell_type": "markdown",
   "source": [
    "# Setup Modflow Model"
   ],
   "metadata": {
    "collapsed": false
   },
   "id": "963ba8729f09fcec"
  },
  {
   "cell_type": "code",
   "execution_count": 4,
   "outputs": [],
   "source": [
    "from morpheus.modflow.types.ModflowModel import ModflowModel\n",
    "\n",
    "modflow_model = ModflowModel.new()\n",
    "modflow_model = modflow_model.with_updated_time_discretization(time_discretization)\n",
    "modflow_model = modflow_model.with_updated_spatial_discretization(spatial_discretization=spatial_discretization)"
   ],
   "metadata": {
    "collapsed": false,
    "ExecuteTime": {
     "end_time": "2023-12-08T21:55:51.176409Z",
     "start_time": "2023-12-08T21:55:50.193419Z"
    }
   },
   "id": "1d5c9125b1b9360b"
  },
  {
   "cell_type": "code",
   "execution_count": 5,
   "outputs": [
    {
     "data": {
      "text/plain": "<folium.folium.Map at 0x105d25550>",
      "text/html": "<div style=\"width:100%;\"><div style=\"position:relative;width:100%;height:0;padding-bottom:60%;\"><span style=\"color:#565656\">Make this Notebook Trusted to load map: File -> Trust Notebook</span><iframe srcdoc=\"&lt;!DOCTYPE html&gt;\n&lt;html&gt;\n&lt;head&gt;\n    \n    &lt;meta http-equiv=&quot;content-type&quot; content=&quot;text/html; charset=UTF-8&quot; /&gt;\n    \n        &lt;script&gt;\n            L_NO_TOUCH = false;\n            L_DISABLE_3D = false;\n        &lt;/script&gt;\n    \n    &lt;style&gt;html, body {width: 100%;height: 100%;margin: 0;padding: 0;}&lt;/style&gt;\n    &lt;style&gt;#map {position:absolute;top:0;bottom:0;right:0;left:0;}&lt;/style&gt;\n    &lt;script src=&quot;https://cdn.jsdelivr.net/npm/leaflet@1.9.3/dist/leaflet.js&quot;&gt;&lt;/script&gt;\n    &lt;script src=&quot;https://code.jquery.com/jquery-3.7.1.min.js&quot;&gt;&lt;/script&gt;\n    &lt;script src=&quot;https://cdn.jsdelivr.net/npm/bootstrap@5.2.2/dist/js/bootstrap.bundle.min.js&quot;&gt;&lt;/script&gt;\n    &lt;script src=&quot;https://cdnjs.cloudflare.com/ajax/libs/Leaflet.awesome-markers/2.0.2/leaflet.awesome-markers.js&quot;&gt;&lt;/script&gt;\n    &lt;link rel=&quot;stylesheet&quot; href=&quot;https://cdn.jsdelivr.net/npm/leaflet@1.9.3/dist/leaflet.css&quot;/&gt;\n    &lt;link rel=&quot;stylesheet&quot; href=&quot;https://cdn.jsdelivr.net/npm/bootstrap@5.2.2/dist/css/bootstrap.min.css&quot;/&gt;\n    &lt;link rel=&quot;stylesheet&quot; href=&quot;https://netdna.bootstrapcdn.com/bootstrap/3.0.0/css/bootstrap.min.css&quot;/&gt;\n    &lt;link rel=&quot;stylesheet&quot; href=&quot;https://cdn.jsdelivr.net/npm/@fortawesome/fontawesome-free@6.2.0/css/all.min.css&quot;/&gt;\n    &lt;link rel=&quot;stylesheet&quot; href=&quot;https://cdnjs.cloudflare.com/ajax/libs/Leaflet.awesome-markers/2.0.2/leaflet.awesome-markers.css&quot;/&gt;\n    &lt;link rel=&quot;stylesheet&quot; href=&quot;https://cdn.jsdelivr.net/gh/python-visualization/folium/folium/templates/leaflet.awesome.rotate.min.css&quot;/&gt;\n    \n            &lt;meta name=&quot;viewport&quot; content=&quot;width=device-width,\n                initial-scale=1.0, maximum-scale=1.0, user-scalable=no&quot; /&gt;\n            &lt;style&gt;\n                #map_8681c87281147f40246c02865f5ba61e {\n                    position: relative;\n                    width: 100.0%;\n                    height: 100.0%;\n                    left: 0.0%;\n                    top: 0.0%;\n                }\n                .leaflet-container { font-size: 1rem; }\n            &lt;/style&gt;\n        \n&lt;/head&gt;\n&lt;body&gt;\n    \n    \n            &lt;div class=&quot;folium-map&quot; id=&quot;map_8681c87281147f40246c02865f5ba61e&quot; &gt;&lt;/div&gt;\n        \n&lt;/body&gt;\n&lt;script&gt;\n    \n    \n            var map_8681c87281147f40246c02865f5ba61e = L.map(\n                &quot;map_8681c87281147f40246c02865f5ba61e&quot;,\n                {\n                    center: [50.965, 13.922],\n                    crs: L.CRS.EPSG3857,\n                    zoom: 12,\n                    zoomControl: true,\n                    preferCanvas: false,\n                }\n            );\n\n            \n\n        \n    \n            var tile_layer_a85b66fa011e0da7ce83c24ef0722e5f = L.tileLayer(\n                &quot;https://{s}.basemaps.cartocdn.com/light_all/{z}/{x}/{y}{r}.png&quot;,\n                {&quot;attribution&quot;: &quot;\\u0026copy; \\u003ca href=\\&quot;https://www.openstreetmap.org/copyright\\&quot;\\u003eOpenStreetMap\\u003c/a\\u003e contributors \\u0026copy; \\u003ca href=\\&quot;https://carto.com/attributions\\&quot;\\u003eCARTO\\u003c/a\\u003e&quot;, &quot;detectRetina&quot;: false, &quot;maxNativeZoom&quot;: 20, &quot;maxZoom&quot;: 20, &quot;minZoom&quot;: 0, &quot;noWrap&quot;: false, &quot;opacity&quot;: 1, &quot;subdomains&quot;: &quot;abcd&quot;, &quot;tms&quot;: false}\n            );\n        \n    \n            tile_layer_a85b66fa011e0da7ce83c24ef0722e5f.addTo(map_8681c87281147f40246c02865f5ba61e);\n        \n    \n\n        function geo_json_971db835cfa1cccb8dbfac24b291b7e4_onEachFeature(feature, layer) {\n            layer.on({\n            });\n        };\n        var geo_json_971db835cfa1cccb8dbfac24b291b7e4 = L.geoJson(null, {\n                onEachFeature: geo_json_971db835cfa1cccb8dbfac24b291b7e4_onEachFeature,\n            \n        });\n\n        function geo_json_971db835cfa1cccb8dbfac24b291b7e4_add (data) {\n            geo_json_971db835cfa1cccb8dbfac24b291b7e4\n                .addData(data);\n        }\n            geo_json_971db835cfa1cccb8dbfac24b291b7e4_add({&quot;coordinates&quot;: [[[13.922514437551428, 50.964720483303836], [13.925250781947113, 50.965228748412386], [13.925036413951403, 50.96623732041704], [13.92222441026388, 50.96629040370362], [13.922514437551428, 50.964720483303836]]], &quot;type&quot;: &quot;Polygon&quot;});\n\n        \n    \n            geo_json_971db835cfa1cccb8dbfac24b291b7e4.addTo(map_8681c87281147f40246c02865f5ba61e);\n        \n    \n            map_8681c87281147f40246c02865f5ba61e.fitBounds(\n                [[50.964720483303836, 13.92222441026388], [50.96629040370362, 13.925250781947113]],\n                {}\n            );\n        \n&lt;/script&gt;\n&lt;/html&gt;\" style=\"position:absolute;width:100%;height:100%;left:0;top:0;border:none !important;\" allowfullscreen webkitallowfullscreen mozallowfullscreen></iframe></div></div>"
     },
     "execution_count": 5,
     "metadata": {},
     "output_type": "execute_result"
    }
   ],
   "source": [
    "import folium\n",
    "\n",
    "m = folium.Map(tiles=\"cartodbpositron\", crs=\"EPSG3857\", zoom_start=12, location=[50.965, 13.922])\n",
    "m.add_child(folium.GeoJson(polygon.as_geojson()))\n",
    "\n",
    "m.fit_bounds(m.get_bounds())\n",
    "m"
   ],
   "metadata": {
    "collapsed": false,
    "ExecuteTime": {
     "end_time": "2023-12-08T21:55:51.187177Z",
     "start_time": "2023-12-08T21:55:51.158215Z"
    }
   },
   "id": "1540b870ae83f298"
  },
  {
   "cell_type": "markdown",
   "source": [
    "# Setup constant head boundary with 1 observation"
   ],
   "metadata": {
    "collapsed": false
   },
   "id": "62ae3587df801000"
  },
  {
   "cell_type": "code",
   "execution_count": 6,
   "outputs": [
    {
     "data": {
      "text/plain": "<folium.folium.Map at 0x105d25550>",
      "text/html": "<div style=\"width:100%;\"><div style=\"position:relative;width:100%;height:0;padding-bottom:60%;\"><span style=\"color:#565656\">Make this Notebook Trusted to load map: File -> Trust Notebook</span><iframe srcdoc=\"&lt;!DOCTYPE html&gt;\n&lt;html&gt;\n&lt;head&gt;\n    \n    &lt;meta http-equiv=&quot;content-type&quot; content=&quot;text/html; charset=UTF-8&quot; /&gt;\n    \n        &lt;script&gt;\n            L_NO_TOUCH = false;\n            L_DISABLE_3D = false;\n        &lt;/script&gt;\n    \n    &lt;style&gt;html, body {width: 100%;height: 100%;margin: 0;padding: 0;}&lt;/style&gt;\n    &lt;style&gt;#map {position:absolute;top:0;bottom:0;right:0;left:0;}&lt;/style&gt;\n    &lt;script src=&quot;https://cdn.jsdelivr.net/npm/leaflet@1.9.3/dist/leaflet.js&quot;&gt;&lt;/script&gt;\n    &lt;script src=&quot;https://code.jquery.com/jquery-3.7.1.min.js&quot;&gt;&lt;/script&gt;\n    &lt;script src=&quot;https://cdn.jsdelivr.net/npm/bootstrap@5.2.2/dist/js/bootstrap.bundle.min.js&quot;&gt;&lt;/script&gt;\n    &lt;script src=&quot;https://cdnjs.cloudflare.com/ajax/libs/Leaflet.awesome-markers/2.0.2/leaflet.awesome-markers.js&quot;&gt;&lt;/script&gt;\n    &lt;link rel=&quot;stylesheet&quot; href=&quot;https://cdn.jsdelivr.net/npm/leaflet@1.9.3/dist/leaflet.css&quot;/&gt;\n    &lt;link rel=&quot;stylesheet&quot; href=&quot;https://cdn.jsdelivr.net/npm/bootstrap@5.2.2/dist/css/bootstrap.min.css&quot;/&gt;\n    &lt;link rel=&quot;stylesheet&quot; href=&quot;https://netdna.bootstrapcdn.com/bootstrap/3.0.0/css/bootstrap.min.css&quot;/&gt;\n    &lt;link rel=&quot;stylesheet&quot; href=&quot;https://cdn.jsdelivr.net/npm/@fortawesome/fontawesome-free@6.2.0/css/all.min.css&quot;/&gt;\n    &lt;link rel=&quot;stylesheet&quot; href=&quot;https://cdnjs.cloudflare.com/ajax/libs/Leaflet.awesome-markers/2.0.2/leaflet.awesome-markers.css&quot;/&gt;\n    &lt;link rel=&quot;stylesheet&quot; href=&quot;https://cdn.jsdelivr.net/gh/python-visualization/folium/folium/templates/leaflet.awesome.rotate.min.css&quot;/&gt;\n    \n            &lt;meta name=&quot;viewport&quot; content=&quot;width=device-width,\n                initial-scale=1.0, maximum-scale=1.0, user-scalable=no&quot; /&gt;\n            &lt;style&gt;\n                #map_8681c87281147f40246c02865f5ba61e {\n                    position: relative;\n                    width: 100.0%;\n                    height: 100.0%;\n                    left: 0.0%;\n                    top: 0.0%;\n                }\n                .leaflet-container { font-size: 1rem; }\n            &lt;/style&gt;\n        \n&lt;/head&gt;\n&lt;body&gt;\n    \n    \n            &lt;div class=&quot;folium-map&quot; id=&quot;map_8681c87281147f40246c02865f5ba61e&quot; &gt;&lt;/div&gt;\n        \n&lt;/body&gt;\n&lt;script&gt;\n    \n    \n            var map_8681c87281147f40246c02865f5ba61e = L.map(\n                &quot;map_8681c87281147f40246c02865f5ba61e&quot;,\n                {\n                    center: [50.965, 13.922],\n                    crs: L.CRS.EPSG3857,\n                    zoom: 12,\n                    zoomControl: true,\n                    preferCanvas: false,\n                }\n            );\n\n            \n\n        \n    \n            var tile_layer_a85b66fa011e0da7ce83c24ef0722e5f = L.tileLayer(\n                &quot;https://{s}.basemaps.cartocdn.com/light_all/{z}/{x}/{y}{r}.png&quot;,\n                {&quot;attribution&quot;: &quot;\\u0026copy; \\u003ca href=\\&quot;https://www.openstreetmap.org/copyright\\&quot;\\u003eOpenStreetMap\\u003c/a\\u003e contributors \\u0026copy; \\u003ca href=\\&quot;https://carto.com/attributions\\&quot;\\u003eCARTO\\u003c/a\\u003e&quot;, &quot;detectRetina&quot;: false, &quot;maxNativeZoom&quot;: 20, &quot;maxZoom&quot;: 20, &quot;minZoom&quot;: 0, &quot;noWrap&quot;: false, &quot;opacity&quot;: 1, &quot;subdomains&quot;: &quot;abcd&quot;, &quot;tms&quot;: false}\n            );\n        \n    \n            tile_layer_a85b66fa011e0da7ce83c24ef0722e5f.addTo(map_8681c87281147f40246c02865f5ba61e);\n        \n    \n\n        function geo_json_971db835cfa1cccb8dbfac24b291b7e4_onEachFeature(feature, layer) {\n            layer.on({\n            });\n        };\n        var geo_json_971db835cfa1cccb8dbfac24b291b7e4 = L.geoJson(null, {\n                onEachFeature: geo_json_971db835cfa1cccb8dbfac24b291b7e4_onEachFeature,\n            \n        });\n\n        function geo_json_971db835cfa1cccb8dbfac24b291b7e4_add (data) {\n            geo_json_971db835cfa1cccb8dbfac24b291b7e4\n                .addData(data);\n        }\n            geo_json_971db835cfa1cccb8dbfac24b291b7e4_add({&quot;coordinates&quot;: [[[13.922514437551428, 50.964720483303836], [13.925250781947113, 50.965228748412386], [13.925036413951403, 50.96623732041704], [13.92222441026388, 50.96629040370362], [13.922514437551428, 50.964720483303836]]], &quot;type&quot;: &quot;Polygon&quot;});\n\n        \n    \n            geo_json_971db835cfa1cccb8dbfac24b291b7e4.addTo(map_8681c87281147f40246c02865f5ba61e);\n        \n    \n            map_8681c87281147f40246c02865f5ba61e.fitBounds(\n                [[50.964720483303836, 13.92222441026388], [50.96629040370362, 13.925250781947113]],\n                {}\n            );\n        \n    \n            tile_layer_a85b66fa011e0da7ce83c24ef0722e5f.addTo(map_8681c87281147f40246c02865f5ba61e);\n        \n    \n            geo_json_971db835cfa1cccb8dbfac24b291b7e4.addTo(map_8681c87281147f40246c02865f5ba61e);\n        \n    \n\n        function geo_json_7950cf7641e8ae1db45adb078ebc3447_onEachFeature(feature, layer) {\n            layer.on({\n            });\n        };\n        var geo_json_7950cf7641e8ae1db45adb078ebc3447 = L.geoJson(null, {\n                onEachFeature: geo_json_7950cf7641e8ae1db45adb078ebc3447_onEachFeature,\n            \n        });\n\n        function geo_json_7950cf7641e8ae1db45adb078ebc3447_add (data) {\n            geo_json_7950cf7641e8ae1db45adb078ebc3447\n                .addData(data);\n        }\n            geo_json_7950cf7641e8ae1db45adb078ebc3447_add({&quot;coordinates&quot;: [[13.9223, 50.9662], [13.925, 50.96615]], &quot;type&quot;: &quot;LineString&quot;});\n\n        \n    \n            geo_json_7950cf7641e8ae1db45adb078ebc3447.addTo(map_8681c87281147f40246c02865f5ba61e);\n        \n    \n\n        function geo_json_4bef83a31af1e39c8df06d27e74c18b0_onEachFeature(feature, layer) {\n            layer.on({\n            });\n        };\n        var geo_json_4bef83a31af1e39c8df06d27e74c18b0 = L.geoJson(null, {\n                onEachFeature: geo_json_4bef83a31af1e39c8df06d27e74c18b0_onEachFeature,\n            \n        });\n\n        function geo_json_4bef83a31af1e39c8df06d27e74c18b0_add (data) {\n            geo_json_4bef83a31af1e39c8df06d27e74c18b0\n                .addData(data);\n        }\n            geo_json_4bef83a31af1e39c8df06d27e74c18b0_add({&quot;geometries&quot;: [{&quot;coordinates&quot;: [[[13.922224410263878, 50.96629040370359], [13.922527047432201, 50.96629040370359], [13.922527047432201, 50.9661334140511], [13.922224410263878, 50.9661334140511], [13.922224410263878, 50.96629040370359]]], &quot;type&quot;: &quot;Polygon&quot;}, {&quot;coordinates&quot;: [[[13.922527047432201, 50.96629040370359], [13.922829684600526, 50.96629040370359], [13.922829684600526, 50.9661334140511], [13.922527047432201, 50.9661334140511], [13.922527047432201, 50.96629040370359]]], &quot;type&quot;: &quot;Polygon&quot;}, {&quot;coordinates&quot;: [[[13.922829684600526, 50.96629040370359], [13.923132321768849, 50.96629040370359], [13.923132321768849, 50.9661334140511], [13.922829684600526, 50.9661334140511], [13.922829684600526, 50.96629040370359]]], &quot;type&quot;: &quot;Polygon&quot;}, {&quot;coordinates&quot;: [[[13.923132321768849, 50.96629040370359], [13.923434958937172, 50.96629040370359], [13.923434958937172, 50.9661334140511], [13.923132321768849, 50.9661334140511], [13.923132321768849, 50.96629040370359]]], &quot;type&quot;: &quot;Polygon&quot;}, {&quot;coordinates&quot;: [[[13.923434958937172, 50.96629040370359], [13.923737596105495, 50.96629040370359], [13.923737596105495, 50.9661334140511], [13.923434958937172, 50.9661334140511], [13.923434958937172, 50.96629040370359]]], &quot;type&quot;: &quot;Polygon&quot;}, {&quot;coordinates&quot;: [[[13.923737596105495, 50.96629040370359], [13.924040233273818, 50.96629040370359], [13.924040233273818, 50.9661334140511], [13.923737596105495, 50.9661334140511], [13.923737596105495, 50.96629040370359]]], &quot;type&quot;: &quot;Polygon&quot;}, {&quot;coordinates&quot;: [[[13.924040233273818, 50.96629040370359], [13.924342870442143, 50.96629040370359], [13.924342870442143, 50.9661334140511], [13.924040233273818, 50.9661334140511], [13.924040233273818, 50.96629040370359]]], &quot;type&quot;: &quot;Polygon&quot;}, {&quot;coordinates&quot;: [[[13.924342870442143, 50.96629040370359], [13.924645507610466, 50.96629040370359], [13.924645507610466, 50.9661334140511], [13.924342870442143, 50.9661334140511], [13.924342870442143, 50.96629040370359]]], &quot;type&quot;: &quot;Polygon&quot;}, {&quot;coordinates&quot;: [[[13.924645507610466, 50.96629040370359], [13.92494814477879, 50.96629040370359], [13.92494814477879, 50.9661334140511], [13.924645507610466, 50.9661334140511], [13.924645507610466, 50.96629040370359]]], &quot;type&quot;: &quot;Polygon&quot;}, {&quot;coordinates&quot;: [[[13.92494814477879, 50.96629040370359], [13.925250781947113, 50.96629040370359], [13.925250781947113, 50.9661334140511], [13.92494814477879, 50.9661334140511], [13.92494814477879, 50.96629040370359]]], &quot;type&quot;: &quot;Polygon&quot;}], &quot;type&quot;: &quot;GeometryCollection&quot;});\n\n        \n    \n            geo_json_4bef83a31af1e39c8df06d27e74c18b0.addTo(map_8681c87281147f40246c02865f5ba61e);\n        \n    \n\n        function geo_json_41226cae095ccd2b73abe4a30155b4f7_onEachFeature(feature, layer) {\n            layer.on({\n            });\n        };\n        var geo_json_41226cae095ccd2b73abe4a30155b4f7 = L.geoJson(null, {\n                onEachFeature: geo_json_41226cae095ccd2b73abe4a30155b4f7_onEachFeature,\n            \n        });\n\n        function geo_json_41226cae095ccd2b73abe4a30155b4f7_add (data) {\n            geo_json_41226cae095ccd2b73abe4a30155b4f7\n                .addData(data);\n        }\n            geo_json_41226cae095ccd2b73abe4a30155b4f7_add({&quot;coordinates&quot;: [13.9223, 50.9662], &quot;type&quot;: &quot;Point&quot;});\n\n        \n    \n            geo_json_41226cae095ccd2b73abe4a30155b4f7.addTo(map_8681c87281147f40246c02865f5ba61e);\n        \n    \n            map_8681c87281147f40246c02865f5ba61e.fitBounds(\n                [[50.964720483303836, 13.922224410263878], [50.96629040370362, 13.925250781947113]],\n                {}\n            );\n        \n&lt;/script&gt;\n&lt;/html&gt;\" style=\"position:absolute;width:100%;height:100%;left:0;top:0;border:none !important;\" allowfullscreen webkitallowfullscreen mozallowfullscreen></iframe></div></div>"
     },
     "execution_count": 6,
     "metadata": {},
     "output_type": "execute_result"
    }
   ],
   "source": [
    "from morpheus.modflow.types.boundaries.ConstantHeadObservation import ObservationId, HeadValue, ConstantHeadRawDataItem\n",
    "from morpheus.modflow.types.geometry import Point\n",
    "from morpheus.modflow.types.boundaries.Boundary import BoundaryName\n",
    "from morpheus.modflow.types.soil_model import LayerId\n",
    "from morpheus.modflow.types.boundaries.Boundary import ConstantHeadBoundary, ConstantHeadObservation\n",
    "\n",
    "layers_list = [LayerId.new()]\n",
    "constant_head = ConstantHeadBoundary.from_geometry(\n",
    "  name=BoundaryName('constant_head'),\n",
    "  geometry=LineString([\n",
    "    (13.9223, 50.9662),\n",
    "    (13.9250, 50.96615),\n",
    "  ]),\n",
    "  grid=grid,\n",
    "  affected_layers=[modflow_model.soil_model.layers[0].id],\n",
    "  observations=[\n",
    "    ConstantHeadObservation(\n",
    "      observation_id=ObservationId.new(),\n",
    "      geometry=Point((13.9223, 50.9662)),\n",
    "      raw_data=[\n",
    "        ConstantHeadRawDataItem(\n",
    "          date_time=StartDateTime.from_datetime(datetime(2019, 1, 1)),\n",
    "          head=HeadValue.from_float(100),\n",
    "        ),\n",
    "        ConstantHeadRawDataItem(\n",
    "          date_time=StartDateTime.from_datetime(datetime(2021, 12, 31)),\n",
    "          head=HeadValue.from_float(120),\n",
    "        ),\n",
    "      ]\n",
    "    )\n",
    "  ]\n",
    ")\n",
    "\n",
    "m.add_child(folium.GeoJson(constant_head.as_geojson()))\n",
    "m.add_child(folium.GeoJson(constant_head.affected_cells.as_geojson(grid).as_geojson()))\n",
    "for constant_head.observation in constant_head.observations:\n",
    "  m.add_child(folium.GeoJson(constant_head.observation.as_geojson()))\n",
    "m.fit_bounds(m.get_bounds())\n",
    "m"
   ],
   "metadata": {
    "collapsed": false,
    "ExecuteTime": {
     "end_time": "2023-12-08T21:55:51.188069Z",
     "start_time": "2023-12-08T21:55:51.158584Z"
    }
   },
   "id": "53679913aee28ce9"
  },
  {
   "cell_type": "code",
   "execution_count": 7,
   "outputs": [],
   "source": [
    "from morpheus.modflow.types.boundaries.Boundary import BoundaryCollection\n",
    "\n",
    "boundary_collection = BoundaryCollection.new()\n",
    "boundary_collection.add_boundary(constant_head)\n",
    "\n",
    "modflow_model = modflow_model.with_updated_boundaries(boundaries=boundary_collection)"
   ],
   "metadata": {
    "collapsed": false,
    "ExecuteTime": {
     "end_time": "2023-12-08T21:55:51.188183Z",
     "start_time": "2023-12-08T21:55:51.158776Z"
    }
   },
   "id": "621e2265ae79b1ae"
  },
  {
   "cell_type": "markdown",
   "source": [
    "## Calculate"
   ],
   "metadata": {
    "collapsed": false
   },
   "id": "42d948d145a8457a"
  },
  {
   "cell_type": "code",
   "execution_count": 8,
   "outputs": [
    {
     "data": {
      "text/plain": "Mf2005Calculation(calculation_id=CalculationId(value='03d2db82-cb54-47f2-94f8-49defcaa9c0c'), modflow_model=ModflowModel(model_id=ModelId(value='79a4fe49-c211-4dfa-af68-562cfbc47dda'), spatial_discretization=SpatialDiscretization(geometry=Polygon(coordinates=[[(13.922514437551428, 50.964720483303836), (13.925250781947113, 50.965228748412386), (13.925036413951403, 50.96623732041704), (13.92222441026388, 50.96629040370362), (13.922514437551428, 50.964720483303836)]], type='Polygon'), grid=Grid(origin=Point(coordinates=(13.922224410263878, 50.9662904037036), type='Point'), x_distances=[33.68941547288559, 33.68941547288559, 33.6894154728856, 33.689415472885585, 33.6894154728856, 33.6894154728856, 33.68941547288557, 33.6894154728856, 33.68941547288563, 33.68941547288557], y_distances=[27.74944856585935, 27.74944856585935, 27.749448565859346, 27.749448565859353, 27.74944856585934, 27.749448565859353, 27.749448565859325, 27.74944856585938, 27.749448565859325, 27.749448565859353], rotation=Rotation(value=0), length_unit=LengthUnit(unit=2)), affected_cells=GridCells(shape=(10, 10), data=[GridCell(x=0, y=0, value=True), GridCell(x=0, y=1, value=True), GridCell(x=0, y=2, value=True), GridCell(x=0, y=3, value=True), GridCell(x=0, y=4, value=True), GridCell(x=1, y=0, value=True), GridCell(x=1, y=1, value=True), GridCell(x=1, y=2, value=True), GridCell(x=1, y=3, value=True), GridCell(x=1, y=4, value=True), GridCell(x=1, y=5, value=True), GridCell(x=1, y=6, value=True), GridCell(x=1, y=7, value=True), GridCell(x=1, y=8, value=True), GridCell(x=1, y=9, value=True), GridCell(x=2, y=0, value=True), GridCell(x=2, y=1, value=True), GridCell(x=2, y=2, value=True), GridCell(x=2, y=3, value=True), GridCell(x=2, y=4, value=True), GridCell(x=2, y=5, value=True), GridCell(x=2, y=6, value=True), GridCell(x=2, y=7, value=True), GridCell(x=2, y=8, value=True), GridCell(x=3, y=0, value=True), GridCell(x=3, y=1, value=True), GridCell(x=3, y=2, value=True), GridCell(x=3, y=3, value=True), GridCell(x=3, y=4, value=True), GridCell(x=3, y=5, value=True), GridCell(x=3, y=6, value=True), GridCell(x=3, y=7, value=True), GridCell(x=3, y=8, value=True), GridCell(x=4, y=0, value=True), GridCell(x=4, y=1, value=True), GridCell(x=4, y=2, value=True), GridCell(x=4, y=3, value=True), GridCell(x=4, y=4, value=True), GridCell(x=4, y=5, value=True), GridCell(x=4, y=6, value=True), GridCell(x=4, y=7, value=True), GridCell(x=4, y=8, value=True), GridCell(x=5, y=0, value=True), GridCell(x=5, y=1, value=True), GridCell(x=5, y=2, value=True), GridCell(x=5, y=3, value=True), GridCell(x=5, y=4, value=True), GridCell(x=5, y=5, value=True), GridCell(x=5, y=6, value=True), GridCell(x=5, y=7, value=True), GridCell(x=6, y=0, value=True), GridCell(x=6, y=1, value=True), GridCell(x=6, y=2, value=True), GridCell(x=6, y=3, value=True), GridCell(x=6, y=4, value=True), GridCell(x=6, y=5, value=True), GridCell(x=6, y=6, value=True), GridCell(x=6, y=7, value=True), GridCell(x=7, y=0, value=True), GridCell(x=7, y=1, value=True), GridCell(x=7, y=2, value=True), GridCell(x=7, y=3, value=True), GridCell(x=7, y=4, value=True), GridCell(x=7, y=5, value=True), GridCell(x=7, y=6, value=True), GridCell(x=7, y=7, value=True), GridCell(x=8, y=0, value=True), GridCell(x=8, y=1, value=True), GridCell(x=8, y=2, value=True), GridCell(x=8, y=3, value=True), GridCell(x=8, y=4, value=True), GridCell(x=8, y=5, value=True), GridCell(x=8, y=6, value=True), GridCell(x=9, y=2, value=True), GridCell(x=9, y=3, value=True), GridCell(x=9, y=4, value=True), GridCell(x=9, y=5, value=True), GridCell(x=9, y=6, value=True)], cell_geometries=None), crs=Crs(value='EPSG:4326')), time_discretization=TimeDiscretization(start_date_time=StartDateTime(value=datetime.datetime(2020, 1, 1, 0, 0)), end_date_time=StartDateTime(value=datetime.datetime(2020, 12, 31, 0, 0)), stress_periods=StressPeriodCollection(values=[StressPeriod(start_date_time=StartDateTime(value=datetime.datetime(2020, 1, 1, 0, 0)), number_of_time_steps=NumberOfTimeSteps(value=1), time_step_multiplier=TimeStepMultiplier(value=1), steady_state=IsSteadyState(value=True))]), time_unit=TimeUnit(unit=4)), boundaries=BoundaryCollection(boundaries=[ConstantHeadBoundary(boundary_id=BoundaryId(value='29c8a517-4eb6-4efc-bdbb-1df65e230327'), type=BoundaryType(type='constant_head'), name=BoundaryName(value='constant_head'), geometry=LineString(coordinates=[(13.9223, 50.9662), (13.925, 50.96615)], type='LineString'), affected_cells=GridCells(shape=(10, 10), data=[GridCell(x=0, y=0, value=True), GridCell(x=1, y=0, value=True), GridCell(x=2, y=0, value=True), GridCell(x=3, y=0, value=True), GridCell(x=4, y=0, value=True), GridCell(x=5, y=0, value=True), GridCell(x=6, y=0, value=True), GridCell(x=7, y=0, value=True), GridCell(x=8, y=0, value=True), GridCell(x=9, y=0, value=True)], cell_geometries=None), affected_layers=[LayerId(value='c177f4d0-8ef9-4bd6-9e99-8856ec8af863')], observations=[ConstantHeadObservation(observation_id=ObservationId(value='d92158f2-eaba-44e6-95eb-f36f04c60303'), geometry=Point(coordinates=(13.9223, 50.9662), type='Point'), raw_data=[ConstantHeadRawDataItem(date_time=StartDateTime(value=datetime.datetime(2019, 1, 1, 0, 0)), head=HeadValue(value=100)), ConstantHeadRawDataItem(date_time=StartDateTime(value=datetime.datetime(2021, 12, 31, 0, 0)), head=HeadValue(value=120))])], enabled=True)]), soil_model=SoilModel(layers=[Layer(id=LayerId(value='c177f4d0-8ef9-4bd6-9e99-8856ec8af863'), name=LayerName(value='Default'), description=LayerDescription(value='Default'), type=LayerType(type='confined'), data=LayerData(kx=1, ky=1, kz=1, porosity=0.1, specific_storage=0.0001, specific_yield=0.1, initial_head=1.0, top=1, bottom=0))])), calculation_profile=Mf2005CalculationProfile(packages=PackageData(oc=OcPackageData(ihedfm=0, iddnfm=0, chedfm=None, cddnfm=None, cboufm=None, compact=True, stress_period_data=None, extension=['oc', 'hds', 'ddn', 'cbc', 'ibo'], unitnumber=None, filenames=None, label='OC'), flow_package=FlowPackage(type='lpf'), solver_package=SolverPackageData(type='pcg', data=PcgPackageData(mxiter=50, iter1=30, npcond=1, hclose=1e-05, rclose=1e-05, relax=1.0, nbpol=0, iprpcg=0, mutpcg=3, damp=1.0, dampt=1.0, ihcofadd=0, extension='pcg', unitnumber=None, filenames=None)))), workspace_path=None, base_path=None, calculation_state=CalculationState(state='created'), calculation_log=None, calculation_result=None, flopy_model=None)"
     },
     "execution_count": 8,
     "metadata": {},
     "output_type": "execute_result"
    }
   ],
   "source": [
    "from morpheus.modflow.infrastructure.calculation.modflow_2005.types.Mf2005Calculation import Mf2005Calculation\n",
    "from morpheus.modflow.infrastructure.calculation.modflow_2005.types.Mf2005CalculationProfile import \\\n",
    "  Mf2005CalculationProfile\n",
    "\n",
    "calculation_profile = Mf2005CalculationProfile.new()\n",
    "mf2005_calculation = Mf2005Calculation.new(modflow_model=modflow_model, calculation_profile=calculation_profile)\n",
    "mf2005_calculation"
   ],
   "metadata": {
    "collapsed": false,
    "ExecuteTime": {
     "end_time": "2023-12-08T21:55:51.360014Z",
     "start_time": "2023-12-08T21:55:51.158807Z"
    }
   },
   "id": "56ccabee86e2397e"
  },
  {
   "cell_type": "code",
   "execution_count": 9,
   "outputs": [],
   "source": [
    "mf2005_calculation = Mf2005Calculation.from_dict(mf2005_calculation.to_dict())"
   ],
   "metadata": {
    "collapsed": false,
    "ExecuteTime": {
     "end_time": "2023-12-08T21:55:51.366933Z",
     "start_time": "2023-12-08T21:55:51.362795Z"
    }
   },
   "id": "e09d94e0a94315cb"
  },
  {
   "cell_type": "code",
   "execution_count": 10,
   "outputs": [
    {
     "name": "stdout",
     "output_type": "stream",
     "text": [
      "FloPy is using the following executable to run the model: ../../../../.venv/bin/mf2005\n",
      "\n",
      "                                  MODFLOW-2005     \n",
      "    U.S. GEOLOGICAL SURVEY MODULAR FINITE-DIFFERENCE GROUND-WATER FLOW MODEL\n",
      "                             Version 1.12.00 2/3/2017                        \n",
      "\n",
      " Using NAME file: 79a4fe49-c211-4dfa-af68-562cfbc47dda.nam \n",
      " Run start date and time (yyyy/mm/dd hh:mm:ss): 2023/12/08 22:55:51\n",
      "\n",
      " Solving:  Stress period:     1    Time step:     1    Ground-Water Flow Eqn.\n",
      " Run end date and time (yyyy/mm/dd hh:mm:ss): 2023/12/08 22:55:51\n",
      " Elapsed run time:  0.020 Seconds\n",
      "\n",
      "  Normal termination of simulation\n"
     ]
    }
   ],
   "source": [
    "import os\n",
    "\n",
    "mf2005_calculation.process(data_base_path=os.path.join(os.getcwd(), 'data'))"
   ],
   "metadata": {
    "collapsed": false,
    "ExecuteTime": {
     "end_time": "2023-12-08T21:55:51.445011Z",
     "start_time": "2023-12-08T21:55:51.368124Z"
    }
   },
   "id": "672007fb90753c4c"
  },
  {
   "cell_type": "code",
   "execution_count": 11,
   "outputs": [
    {
     "data": {
      "text/plain": "CalculationResult(state=CalculationState(state='success'), message='Calculation has been finished successfully', files=['79a4fe49-c211-4dfa-af68-562cfbc47dda.pcg', '79a4fe49-c211-4dfa-af68-562cfbc47dda.hds', '79a4fe49-c211-4dfa-af68-562cfbc47dda.chd', '79a4fe49-c211-4dfa-af68-562cfbc47dda.dis', '79a4fe49-c211-4dfa-af68-562cfbc47dda.nam', '79a4fe49-c211-4dfa-af68-562cfbc47dda.bas', '79a4fe49-c211-4dfa-af68-562cfbc47dda.list', '79a4fe49-c211-4dfa-af68-562cfbc47dda.oc', '79a4fe49-c211-4dfa-af68-562cfbc47dda.lpf'], head_results=AvailableResults(times=[365.0], kstpkper=[(0, 0)], number_of_layers=1), drawdown_results=None, budget_results=AvailableResults(times=[365.0], kstpkper=[(0, 0)], number_of_layers=0), concentration_results=None)"
     },
     "execution_count": 11,
     "metadata": {},
     "output_type": "execute_result"
    }
   ],
   "source": [
    "mf2005_calculation.calculation_result"
   ],
   "metadata": {
    "collapsed": false,
    "ExecuteTime": {
     "end_time": "2023-12-08T21:55:51.453864Z",
     "start_time": "2023-12-08T21:55:51.449260Z"
    }
   },
   "id": "a52d1dd3a1574032"
  },
  {
   "cell_type": "code",
   "execution_count": 12,
   "outputs": [
    {
     "data": {
      "text/plain": "[[113.33300018310547,\n  113.33300018310547,\n  113.33300018310547,\n  113.33300018310547,\n  113.33300018310547,\n  113.33300018310547,\n  113.33300018310547,\n  113.33300018310547,\n  113.33300018310547,\n  nan],\n [113.33300018310547,\n  113.33300018310547,\n  113.33300018310547,\n  113.33300018310547,\n  113.33300018310547,\n  113.33300018310547,\n  113.33300018310547,\n  113.33300018310547,\n  113.33300018310547,\n  nan],\n [113.33300018310547,\n  113.33300018310547,\n  113.33300018310547,\n  113.33300018310547,\n  113.33300018310547,\n  113.33300018310547,\n  113.33300018310547,\n  113.33300018310547,\n  113.33300018310547,\n  113.33300018310547],\n [113.33300018310547,\n  113.33300018310547,\n  113.33300018310547,\n  113.33300018310547,\n  113.33300018310547,\n  113.33300018310547,\n  113.33300018310547,\n  113.33300018310547,\n  113.33300018310547,\n  113.33300018310547],\n [113.33300018310547,\n  113.33300018310547,\n  113.33300018310547,\n  113.33300018310547,\n  113.33300018310547,\n  113.33300018310547,\n  113.33300018310547,\n  113.33300018310547,\n  113.33300018310547,\n  113.33300018310547],\n [nan,\n  113.33300018310547,\n  113.33300018310547,\n  113.33300018310547,\n  113.33300018310547,\n  113.33300018310547,\n  113.33300018310547,\n  113.33300018310547,\n  113.33300018310547,\n  113.33300018310547],\n [nan,\n  113.33300018310547,\n  113.33300018310547,\n  113.33300018310547,\n  113.33300018310547,\n  113.33300018310547,\n  113.33300018310547,\n  113.33300018310547,\n  113.33300018310547,\n  113.33300018310547],\n [nan,\n  113.33300018310547,\n  113.33300018310547,\n  113.33300018310547,\n  113.33300018310547,\n  113.33300018310547,\n  113.33300018310547,\n  113.33300018310547,\n  nan,\n  nan],\n [nan,\n  113.33300018310547,\n  113.33300018310547,\n  113.33300018310547,\n  113.33300018310547,\n  nan,\n  nan,\n  nan,\n  nan,\n  nan],\n [nan, 113.33300018310547, nan, nan, nan, nan, nan, nan, nan, nan]]"
     },
     "execution_count": 12,
     "metadata": {},
     "output_type": "execute_result"
    }
   ],
   "source": [
    "mf2005_calculation.read_heads_by_idx(0, 0)"
   ],
   "metadata": {
    "collapsed": false,
    "ExecuteTime": {
     "end_time": "2023-12-08T21:55:51.463036Z",
     "start_time": "2023-12-08T21:55:51.455472Z"
    }
   },
   "id": "cc43ad077c7a81d0"
  },
  {
   "cell_type": "code",
   "execution_count": 13,
   "outputs": [
    {
     "data": {
      "text/plain": "'[[113.33300018310547, 113.33300018310547, 113.33300018310547, 113.33300018310547, 113.33300018310547, 113.33300018310547, 113.33300018310547, 113.33300018310547, 113.33300018310547, null], [113.33300018310547, 113.33300018310547, 113.33300018310547, 113.33300018310547, 113.33300018310547, 113.33300018310547, 113.33300018310547, 113.33300018310547, 113.33300018310547, null], [113.33300018310547, 113.33300018310547, 113.33300018310547, 113.33300018310547, 113.33300018310547, 113.33300018310547, 113.33300018310547, 113.33300018310547, 113.33300018310547, 113.33300018310547], [113.33300018310547, 113.33300018310547, 113.33300018310547, 113.33300018310547, 113.33300018310547, 113.33300018310547, 113.33300018310547, 113.33300018310547, 113.33300018310547, 113.33300018310547], [113.33300018310547, 113.33300018310547, 113.33300018310547, 113.33300018310547, 113.33300018310547, 113.33300018310547, 113.33300018310547, 113.33300018310547, 113.33300018310547, 113.33300018310547], [null, 113.33300018310547, 113.33300018310547, 113.33300018310547, 113.33300018310547, 113.33300018310547, 113.33300018310547, 113.33300018310547, 113.33300018310547, 113.33300018310547], [null, 113.33300018310547, 113.33300018310547, 113.33300018310547, 113.33300018310547, 113.33300018310547, 113.33300018310547, 113.33300018310547, 113.33300018310547, 113.33300018310547], [null, 113.33300018310547, 113.33300018310547, 113.33300018310547, 113.33300018310547, 113.33300018310547, 113.33300018310547, 113.33300018310547, null, null], [null, 113.33300018310547, 113.33300018310547, 113.33300018310547, 113.33300018310547, null, null, null, null, null], [null, 113.33300018310547, null, null, null, null, null, null, null, null]]'"
     },
     "execution_count": 13,
     "metadata": {},
     "output_type": "execute_result"
    }
   ],
   "source": [
    "import simplejson as json\n",
    "\n",
    "json = json.dumps(mf2005_calculation.read_heads_by_idx(0, 0), ignore_nan=True)\n",
    "json"
   ],
   "metadata": {
    "collapsed": false,
    "ExecuteTime": {
     "end_time": "2023-12-08T21:55:51.502310Z",
     "start_time": "2023-12-08T21:55:51.463332Z"
    }
   },
   "id": "12454cc4d9e18de5"
  },
  {
   "cell_type": "code",
   "execution_count": 14,
   "outputs": [
    {
     "data": {
      "text/plain": "[]"
     },
     "execution_count": 14,
     "metadata": {},
     "output_type": "execute_result"
    }
   ],
   "source": [
    "mf2005_calculation.read_drawdown_by_idx(0, 0)"
   ],
   "metadata": {
    "collapsed": false,
    "ExecuteTime": {
     "end_time": "2023-12-08T21:55:51.503125Z",
     "start_time": "2023-12-08T21:55:51.476688Z"
    }
   },
   "id": "df7dfd8ff0308815"
  },
  {
   "cell_type": "code",
   "execution_count": 15,
   "outputs": [
    {
     "data": {
      "text/plain": "{'STORAGE_IN': 0.0,\n 'CONSTANT_HEAD_IN': 0.0,\n 'TOTAL_IN': 0.0,\n 'STORAGE_OUT': -0.0,\n 'CONSTANT_HEAD_OUT': -0.0067479,\n 'TOTAL_OUT': -0.0067479,\n 'IN-OUT': -0.0067479,\n 'PERCENT_DISCREPANCY': -200.0,\n 'tslen': 365.0}"
     },
     "execution_count": 15,
     "metadata": {},
     "output_type": "execute_result"
    }
   ],
   "source": [
    "mf2005_calculation.read_budget_by_idx(0, False)"
   ],
   "metadata": {
    "collapsed": false,
    "ExecuteTime": {
     "end_time": "2023-12-08T21:55:51.503390Z",
     "start_time": "2023-12-08T21:55:51.484142Z"
    }
   },
   "id": "b233f4066b56c174"
  },
  {
   "cell_type": "code",
   "execution_count": 16,
   "outputs": [
    {
     "data": {
      "text/plain": "{'STORAGE_IN': 0.0,\n 'CONSTANT_HEAD_IN': 0.0,\n 'TOTAL_IN': 0.0,\n 'STORAGE_OUT': -0.0,\n 'CONSTANT_HEAD_OUT': -1.8487e-05,\n 'TOTAL_OUT': -1.8487e-05,\n 'IN-OUT': -1.8487e-05,\n 'PERCENT_DISCREPANCY': -200.0,\n 'tslen': 365.0}"
     },
     "execution_count": 16,
     "metadata": {},
     "output_type": "execute_result"
    }
   ],
   "source": [
    "mf2005_calculation.read_budget_by_idx(0, True)"
   ],
   "metadata": {
    "collapsed": false,
    "ExecuteTime": {
     "end_time": "2023-12-08T21:55:51.504836Z",
     "start_time": "2023-12-08T21:55:51.491608Z"
    }
   },
   "id": "634709d741f5c252"
  },
  {
   "cell_type": "code",
   "execution_count": 17,
   "outputs": [
    {
     "data": {
      "text/plain": "CalculationResult(state=CalculationState(state='success'), message='Calculation has been finished successfully', files=['79a4fe49-c211-4dfa-af68-562cfbc47dda.pcg', '79a4fe49-c211-4dfa-af68-562cfbc47dda.hds', '79a4fe49-c211-4dfa-af68-562cfbc47dda.chd', '79a4fe49-c211-4dfa-af68-562cfbc47dda.dis', '79a4fe49-c211-4dfa-af68-562cfbc47dda.nam', '79a4fe49-c211-4dfa-af68-562cfbc47dda.bas', '79a4fe49-c211-4dfa-af68-562cfbc47dda.list', '79a4fe49-c211-4dfa-af68-562cfbc47dda.oc', '79a4fe49-c211-4dfa-af68-562cfbc47dda.lpf'], head_results=AvailableResults(times=[365.0], kstpkper=[(0, 0)], number_of_layers=1), drawdown_results=None, budget_results=AvailableResults(times=[365.0], kstpkper=[(0, 0)], number_of_layers=0), concentration_results=None)"
     },
     "execution_count": 17,
     "metadata": {},
     "output_type": "execute_result"
    }
   ],
   "source": [
    "mf2005_calculation.calculation_result"
   ],
   "metadata": {
    "collapsed": false,
    "ExecuteTime": {
     "end_time": "2023-12-08T21:55:51.507210Z",
     "start_time": "2023-12-08T21:55:51.501212Z"
    }
   },
   "id": "26523066436690e6"
  },
  {
   "cell_type": "code",
   "execution_count": 17,
   "outputs": [],
   "source": [],
   "metadata": {
    "collapsed": false,
    "ExecuteTime": {
     "end_time": "2023-12-08T21:55:51.512959Z",
     "start_time": "2023-12-08T21:55:51.508346Z"
    }
   },
   "id": "a2e25957a19e60ec"
  }
 ],
 "metadata": {
  "kernelspec": {
   "display_name": "Python 3",
   "language": "python",
   "name": "python3"
  },
  "language_info": {
   "codemirror_mode": {
    "name": "ipython",
    "version": 2
   },
   "file_extension": ".py",
   "mimetype": "text/x-python",
   "name": "python",
   "nbconvert_exporter": "python",
   "pygments_lexer": "ipython2",
   "version": "2.7.6"
  }
 },
 "nbformat": 4,
 "nbformat_minor": 5
}
