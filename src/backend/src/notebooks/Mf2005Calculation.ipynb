{
 "cells": [
  {
   "cell_type": "code",
   "id": "ba6761fae9d5e5cb",
   "metadata": {
    "collapsed": false,
    "execution": {
     "iopub.execute_input": "2024-06-19T13:18:40.335326Z",
     "iopub.status.busy": "2024-06-19T13:18:40.334776Z",
     "iopub.status.idle": "2024-06-19T13:18:40.341790Z",
     "shell.execute_reply": "2024-06-19T13:18:40.340911Z"
    },
    "papermill": {
     "duration": 0.021193,
     "end_time": "2024-06-19T13:18:40.344770",
     "exception": false,
     "start_time": "2024-06-19T13:18:40.323577",
     "status": "completed"
    },
    "tags": [],
    "ExecuteTime": {
     "end_time": "2024-08-19T09:57:11.459931Z",
     "start_time": "2024-08-19T09:57:11.456513Z"
    }
   },
   "source": [
    "import sys\n",
    "\n",
    "sys.path.insert(0, '..')"
   ],
   "outputs": [],
   "execution_count": 1
  },
  {
   "cell_type": "markdown",
   "id": "5ede1ba5e0993dd1",
   "metadata": {
    "collapsed": false,
    "papermill": {
     "duration": 0.007218,
     "end_time": "2024-06-19T13:18:40.360860",
     "exception": false,
     "start_time": "2024-06-19T13:18:40.353642",
     "status": "completed"
    },
    "tags": []
   },
   "source": [
    "## Setup the model area"
   ]
  },
  {
   "cell_type": "code",
   "id": "2f69504ab35487aa",
   "metadata": {
    "collapsed": false,
    "execution": {
     "iopub.execute_input": "2024-06-19T13:18:40.372239Z",
     "iopub.status.busy": "2024-06-19T13:18:40.371922Z",
     "iopub.status.idle": "2024-06-19T13:18:40.554627Z",
     "shell.execute_reply": "2024-06-19T13:18:40.541001Z"
    },
    "papermill": {
     "duration": 0.244403,
     "end_time": "2024-06-19T13:18:40.610666",
     "exception": false,
     "start_time": "2024-06-19T13:18:40.366263",
     "status": "completed"
    },
    "tags": [],
    "ExecuteTime": {
     "end_time": "2024-08-19T09:57:11.698085Z",
     "start_time": "2024-08-19T09:57:11.460835Z"
    }
   },
   "source": [
    "from morpheus.project.types.discretization.spatial import ActiveCells\n",
    "from morpheus.project.types.discretization import SpatialDiscretization\n",
    "from morpheus.project.types.discretization.spatial import Rotation, LengthUnit, Grid, Crs\n",
    "from morpheus.project.types.geometry import Polygon, LineString\n",
    "\n",
    "polygon = Polygon(\n",
    "  type='Polygon',\n",
    "  coordinates=[[\n",
    "    (13.922514437551428, 50.964720483303836),\n",
    "    (13.925250781947113, 50.965228748412386),\n",
    "    (13.925036413951403, 50.96623732041704),\n",
    "    (13.92222441026388, 50.96629040370362),\n",
    "    (13.922514437551428, 50.964720483303836)\n",
    "  ]]\n",
    ")\n",
    "\n",
    "rotation = Rotation(0)\n",
    "length_unit = LengthUnit.meters()\n",
    "relative_col_coordinates = [0, 0.1, 0.2, 0.3, 0.4, 0.5, 0.6, 0.7, 0.8, 0.9, 1]\n",
    "relative_row_coordinates = [0, 0.1, 0.2, 0.3, 0.4, 0.5, 0.6, 0.7, 0.8, 0.9, 1]\n",
    "\n",
    "grid = Grid.from_polygon_with_relative_coordinates(\n",
    "  polygon=polygon,\n",
    "  relative_col_coordinates=relative_col_coordinates,\n",
    "  relative_row_coordinates=relative_row_coordinates,\n",
    "  rotation=rotation,\n",
    ")\n",
    "\n",
    "spatial_discretization = SpatialDiscretization(\n",
    "  geometry=polygon,\n",
    "  grid=grid,\n",
    "  affected_cells=ActiveCells.from_polygon(polygon=polygon, grid=grid),\n",
    "  crs=Crs.from_str('EPSG:4326')\n",
    ")\n",
    "\n",
    "spatial_discretization"
   ],
   "outputs": [
    {
     "data": {
      "text/plain": [
       "SpatialDiscretization(geometry=Polygon(coordinates=[[(13.922514437551428, 50.964720483303836), (13.925250781947113, 50.965228748412386), (13.925036413951403, 50.96623732041704), (13.92222441026388, 50.96629040370362), (13.922514437551428, 50.964720483303836)]], type='Polygon'), grid=Grid(origin=Point(coordinates=(13.922224410263878, 50.9662904037036), type='Point'), col_widths=[33.68941547288559, 33.68941547288559, 33.6894154728856, 33.689415472885585, 33.6894154728856, 33.6894154728856, 33.68941547288557, 33.6894154728856, 33.68941547288563, 33.68941547288557], total_width=336.89415472885594, row_heights=[27.74944856585935, 27.74944856585935, 27.749448565859346, 27.749448565859353, 27.74944856585934, 27.749448565859353, 27.749448565859325, 27.74944856585938, 27.749448565859325, 27.749448565859353], total_height=277.4944856585935, rotation=Rotation(value=0), length_unit=LengthUnit(unit=2)), affected_cells=ActiveCells(shape=(10, 10), data=[ActiveCell(col=0, row=0), ActiveCell(col=0, row=1), ActiveCell(col=0, row=2), ActiveCell(col=0, row=3), ActiveCell(col=0, row=4), ActiveCell(col=1, row=0), ActiveCell(col=1, row=1), ActiveCell(col=1, row=2), ActiveCell(col=1, row=3), ActiveCell(col=1, row=4), ActiveCell(col=1, row=5), ActiveCell(col=1, row=6), ActiveCell(col=1, row=7), ActiveCell(col=1, row=8), ActiveCell(col=1, row=9), ActiveCell(col=2, row=0), ActiveCell(col=2, row=1), ActiveCell(col=2, row=2), ActiveCell(col=2, row=3), ActiveCell(col=2, row=4), ActiveCell(col=2, row=5), ActiveCell(col=2, row=6), ActiveCell(col=2, row=7), ActiveCell(col=2, row=8), ActiveCell(col=3, row=0), ActiveCell(col=3, row=1), ActiveCell(col=3, row=2), ActiveCell(col=3, row=3), ActiveCell(col=3, row=4), ActiveCell(col=3, row=5), ActiveCell(col=3, row=6), ActiveCell(col=3, row=7), ActiveCell(col=3, row=8), ActiveCell(col=4, row=0), ActiveCell(col=4, row=1), ActiveCell(col=4, row=2), ActiveCell(col=4, row=3), ActiveCell(col=4, row=4), ActiveCell(col=4, row=5), ActiveCell(col=4, row=6), ActiveCell(col=4, row=7), ActiveCell(col=4, row=8), ActiveCell(col=5, row=0), ActiveCell(col=5, row=1), ActiveCell(col=5, row=2), ActiveCell(col=5, row=3), ActiveCell(col=5, row=4), ActiveCell(col=5, row=5), ActiveCell(col=5, row=6), ActiveCell(col=5, row=7), ActiveCell(col=6, row=0), ActiveCell(col=6, row=1), ActiveCell(col=6, row=2), ActiveCell(col=6, row=3), ActiveCell(col=6, row=4), ActiveCell(col=6, row=5), ActiveCell(col=6, row=6), ActiveCell(col=6, row=7), ActiveCell(col=7, row=0), ActiveCell(col=7, row=1), ActiveCell(col=7, row=2), ActiveCell(col=7, row=3), ActiveCell(col=7, row=4), ActiveCell(col=7, row=5), ActiveCell(col=7, row=6), ActiveCell(col=7, row=7), ActiveCell(col=8, row=0), ActiveCell(col=8, row=1), ActiveCell(col=8, row=2), ActiveCell(col=8, row=3), ActiveCell(col=8, row=4), ActiveCell(col=8, row=5), ActiveCell(col=8, row=6), ActiveCell(col=9, row=2), ActiveCell(col=9, row=3), ActiveCell(col=9, row=4), ActiveCell(col=9, row=5), ActiveCell(col=9, row=6)]))"
      ]
     },
     "execution_count": 2,
     "metadata": {},
     "output_type": "execute_result"
    }
   ],
   "execution_count": 2
  },
  {
   "cell_type": "markdown",
   "id": "fa27e67f9d801845",
   "metadata": {
    "collapsed": false,
    "papermill": {
     "duration": 0.025935,
     "end_time": "2024-06-19T13:18:40.641760",
     "exception": false,
     "start_time": "2024-06-19T13:18:40.615825",
     "status": "completed"
    },
    "tags": []
   },
   "source": [
    "## Setup Time Discretization"
   ]
  },
  {
   "cell_type": "code",
   "id": "8e4e63dd138db9fc",
   "metadata": {
    "collapsed": false,
    "execution": {
     "iopub.execute_input": "2024-06-19T13:18:40.695912Z",
     "iopub.status.busy": "2024-06-19T13:18:40.695518Z",
     "iopub.status.idle": "2024-06-19T13:18:40.702112Z",
     "shell.execute_reply": "2024-06-19T13:18:40.701360Z"
    },
    "papermill": {
     "duration": 0.026177,
     "end_time": "2024-06-19T13:18:40.704045",
     "exception": false,
     "start_time": "2024-06-19T13:18:40.677868",
     "status": "completed"
    },
    "tags": [],
    "ExecuteTime": {
     "end_time": "2024-08-19T09:57:11.710318Z",
     "start_time": "2024-08-19T09:57:11.699769Z"
    }
   },
   "source": [
    "from morpheus.project.types.discretization.time.TimeUnit import TimeUnit\n",
    "from morpheus.project.types.discretization.time.Stressperiods import StartDateTime, StressPeriodCollection, \\\n",
    "  StressPeriod, NumberOfTimeSteps, TimeStepMultiplier, IsSteadyState\n",
    "from morpheus.project.types.discretization.time import TimeDiscretization\n",
    "from datetime import datetime\n",
    "\n",
    "time_discretization = TimeDiscretization(\n",
    "  start_date_time=StartDateTime.from_datetime(datetime(2020, 1, 1)),\n",
    "  end_date_time=StartDateTime.from_datetime(datetime(2020, 12, 31)),\n",
    "  stress_periods=StressPeriodCollection([\n",
    "    StressPeriod(\n",
    "      start_date_time=StartDateTime.from_datetime(datetime(2020, 1, 1)),\n",
    "      number_of_time_steps=NumberOfTimeSteps(1),\n",
    "      time_step_multiplier=TimeStepMultiplier(1),\n",
    "      steady_state=IsSteadyState.yes()\n",
    "    ),\n",
    "  ]),\n",
    "  time_unit=TimeUnit.days()\n",
    ")"
   ],
   "outputs": [],
   "execution_count": 3
  },
  {
   "cell_type": "markdown",
   "id": "963ba8729f09fcec",
   "metadata": {
    "collapsed": false,
    "papermill": {
     "duration": 0.002411,
     "end_time": "2024-06-19T13:18:40.710639",
     "exception": false,
     "start_time": "2024-06-19T13:18:40.708228",
     "status": "completed"
    },
    "tags": []
   },
   "source": [
    "# Setup Model"
   ]
  },
  {
   "cell_type": "code",
   "id": "1d5c9125b1b9360b",
   "metadata": {
    "collapsed": false,
    "execution": {
     "iopub.execute_input": "2024-06-19T13:18:40.716973Z",
     "iopub.status.busy": "2024-06-19T13:18:40.716656Z",
     "iopub.status.idle": "2024-06-19T13:18:41.297569Z",
     "shell.execute_reply": "2024-06-19T13:18:41.297138Z"
    },
    "papermill": {
     "duration": 0.585799,
     "end_time": "2024-06-19T13:18:41.298682",
     "exception": false,
     "start_time": "2024-06-19T13:18:40.712883",
     "status": "completed"
    },
    "tags": [],
    "ExecuteTime": {
     "end_time": "2024-08-19T09:57:12.176861Z",
     "start_time": "2024-08-19T09:57:11.728361Z"
    }
   },
   "source": [
    "from morpheus.project.types.Model import Model\n",
    "\n",
    "model = Model.new()\n",
    "model = model.with_updated_time_discretization(time_discretization)\n",
    "model = model.with_updated_spatial_discretization(spatial_discretization=spatial_discretization)"
   ],
   "outputs": [],
   "execution_count": 4
  },
  {
   "cell_type": "code",
   "id": "1540b870ae83f298",
   "metadata": {
    "collapsed": false,
    "execution": {
     "iopub.execute_input": "2024-06-19T13:18:41.304939Z",
     "iopub.status.busy": "2024-06-19T13:18:41.304703Z",
     "iopub.status.idle": "2024-06-19T13:18:41.438217Z",
     "shell.execute_reply": "2024-06-19T13:18:41.437952Z"
    },
    "papermill": {
     "duration": 0.137802,
     "end_time": "2024-06-19T13:18:41.439095",
     "exception": false,
     "start_time": "2024-06-19T13:18:41.301293",
     "status": "completed"
    },
    "tags": [],
    "ExecuteTime": {
     "end_time": "2024-08-19T09:57:12.342930Z",
     "start_time": "2024-08-19T09:57:12.177561Z"
    }
   },
   "source": [
    "import folium\n",
    "\n",
    "m = folium.Map(tiles=\"cartodbpositron\", crs=\"EPSG3857\", zoom_start=12, location=[50.965, 13.922])\n",
    "m.add_child(folium.GeoJson(polygon.as_geojson()))\n",
    "\n",
    "m.fit_bounds(m.get_bounds())\n",
    "m"
   ],
   "outputs": [
    {
     "data": {
      "text/plain": [
       "<folium.folium.Map at 0x10994b2c0>"
      ],
      "text/html": [
       "<div style=\"width:100%;\"><div style=\"position:relative;width:100%;height:0;padding-bottom:60%;\"><span style=\"color:#565656\">Make this Notebook Trusted to load map: File -> Trust Notebook</span><iframe srcdoc=\"&lt;!DOCTYPE html&gt;\n",
       "&lt;html&gt;\n",
       "&lt;head&gt;\n",
       "    \n",
       "    &lt;meta http-equiv=&quot;content-type&quot; content=&quot;text/html; charset=UTF-8&quot; /&gt;\n",
       "    \n",
       "        &lt;script&gt;\n",
       "            L_NO_TOUCH = false;\n",
       "            L_DISABLE_3D = false;\n",
       "        &lt;/script&gt;\n",
       "    \n",
       "    &lt;style&gt;html, body {width: 100%;height: 100%;margin: 0;padding: 0;}&lt;/style&gt;\n",
       "    &lt;style&gt;#map {position:absolute;top:0;bottom:0;right:0;left:0;}&lt;/style&gt;\n",
       "    &lt;script src=&quot;https://cdn.jsdelivr.net/npm/leaflet@1.9.3/dist/leaflet.js&quot;&gt;&lt;/script&gt;\n",
       "    &lt;script src=&quot;https://code.jquery.com/jquery-3.7.1.min.js&quot;&gt;&lt;/script&gt;\n",
       "    &lt;script src=&quot;https://cdn.jsdelivr.net/npm/bootstrap@5.2.2/dist/js/bootstrap.bundle.min.js&quot;&gt;&lt;/script&gt;\n",
       "    &lt;script src=&quot;https://cdnjs.cloudflare.com/ajax/libs/Leaflet.awesome-markers/2.0.2/leaflet.awesome-markers.js&quot;&gt;&lt;/script&gt;\n",
       "    &lt;link rel=&quot;stylesheet&quot; href=&quot;https://cdn.jsdelivr.net/npm/leaflet@1.9.3/dist/leaflet.css&quot;/&gt;\n",
       "    &lt;link rel=&quot;stylesheet&quot; href=&quot;https://cdn.jsdelivr.net/npm/bootstrap@5.2.2/dist/css/bootstrap.min.css&quot;/&gt;\n",
       "    &lt;link rel=&quot;stylesheet&quot; href=&quot;https://netdna.bootstrapcdn.com/bootstrap/3.0.0/css/bootstrap.min.css&quot;/&gt;\n",
       "    &lt;link rel=&quot;stylesheet&quot; href=&quot;https://cdn.jsdelivr.net/npm/@fortawesome/fontawesome-free@6.2.0/css/all.min.css&quot;/&gt;\n",
       "    &lt;link rel=&quot;stylesheet&quot; href=&quot;https://cdnjs.cloudflare.com/ajax/libs/Leaflet.awesome-markers/2.0.2/leaflet.awesome-markers.css&quot;/&gt;\n",
       "    &lt;link rel=&quot;stylesheet&quot; href=&quot;https://cdn.jsdelivr.net/gh/python-visualization/folium/folium/templates/leaflet.awesome.rotate.min.css&quot;/&gt;\n",
       "    \n",
       "            &lt;meta name=&quot;viewport&quot; content=&quot;width=device-width,\n",
       "                initial-scale=1.0, maximum-scale=1.0, user-scalable=no&quot; /&gt;\n",
       "            &lt;style&gt;\n",
       "                #map_92149e6c7e3d07d76fc43e256ea28925 {\n",
       "                    position: relative;\n",
       "                    width: 100.0%;\n",
       "                    height: 100.0%;\n",
       "                    left: 0.0%;\n",
       "                    top: 0.0%;\n",
       "                }\n",
       "                .leaflet-container { font-size: 1rem; }\n",
       "            &lt;/style&gt;\n",
       "        \n",
       "&lt;/head&gt;\n",
       "&lt;body&gt;\n",
       "    \n",
       "    \n",
       "            &lt;div class=&quot;folium-map&quot; id=&quot;map_92149e6c7e3d07d76fc43e256ea28925&quot; &gt;&lt;/div&gt;\n",
       "        \n",
       "&lt;/body&gt;\n",
       "&lt;script&gt;\n",
       "    \n",
       "    \n",
       "            var map_92149e6c7e3d07d76fc43e256ea28925 = L.map(\n",
       "                &quot;map_92149e6c7e3d07d76fc43e256ea28925&quot;,\n",
       "                {\n",
       "                    center: [50.965, 13.922],\n",
       "                    crs: L.CRS.EPSG3857,\n",
       "                    zoom: 12,\n",
       "                    zoomControl: true,\n",
       "                    preferCanvas: false,\n",
       "                }\n",
       "            );\n",
       "\n",
       "            \n",
       "\n",
       "        \n",
       "    \n",
       "            var tile_layer_6aaba4a2c6ee0982bb1c38b2d059c4b4 = L.tileLayer(\n",
       "                &quot;https://{s}.basemaps.cartocdn.com/light_all/{z}/{x}/{y}{r}.png&quot;,\n",
       "                {&quot;attribution&quot;: &quot;\\u0026copy; \\u003ca href=\\&quot;https://www.openstreetmap.org/copyright\\&quot;\\u003eOpenStreetMap\\u003c/a\\u003e contributors \\u0026copy; \\u003ca href=\\&quot;https://carto.com/attributions\\&quot;\\u003eCARTO\\u003c/a\\u003e&quot;, &quot;detectRetina&quot;: false, &quot;maxNativeZoom&quot;: 20, &quot;maxZoom&quot;: 20, &quot;minZoom&quot;: 0, &quot;noWrap&quot;: false, &quot;opacity&quot;: 1, &quot;subdomains&quot;: &quot;abcd&quot;, &quot;tms&quot;: false}\n",
       "            );\n",
       "        \n",
       "    \n",
       "            tile_layer_6aaba4a2c6ee0982bb1c38b2d059c4b4.addTo(map_92149e6c7e3d07d76fc43e256ea28925);\n",
       "        \n",
       "    \n",
       "\n",
       "        function geo_json_02494e63a254e9749973236ae3a0f7da_onEachFeature(feature, layer) {\n",
       "            layer.on({\n",
       "            });\n",
       "        };\n",
       "        var geo_json_02494e63a254e9749973236ae3a0f7da = L.geoJson(null, {\n",
       "                onEachFeature: geo_json_02494e63a254e9749973236ae3a0f7da_onEachFeature,\n",
       "            \n",
       "        });\n",
       "\n",
       "        function geo_json_02494e63a254e9749973236ae3a0f7da_add (data) {\n",
       "            geo_json_02494e63a254e9749973236ae3a0f7da\n",
       "                .addData(data);\n",
       "        }\n",
       "            geo_json_02494e63a254e9749973236ae3a0f7da_add({&quot;coordinates&quot;: [[[13.922514437551428, 50.964720483303836], [13.925250781947113, 50.965228748412386], [13.925036413951403, 50.96623732041704], [13.92222441026388, 50.96629040370362], [13.922514437551428, 50.964720483303836]]], &quot;type&quot;: &quot;Polygon&quot;});\n",
       "\n",
       "        \n",
       "    \n",
       "            geo_json_02494e63a254e9749973236ae3a0f7da.addTo(map_92149e6c7e3d07d76fc43e256ea28925);\n",
       "        \n",
       "    \n",
       "            map_92149e6c7e3d07d76fc43e256ea28925.fitBounds(\n",
       "                [[50.964720483303836, 13.92222441026388], [50.96629040370362, 13.925250781947113]],\n",
       "                {}\n",
       "            );\n",
       "        \n",
       "&lt;/script&gt;\n",
       "&lt;/html&gt;\" style=\"position:absolute;width:100%;height:100%;left:0;top:0;border:none !important;\" allowfullscreen webkitallowfullscreen mozallowfullscreen></iframe></div></div>"
      ]
     },
     "execution_count": 5,
     "metadata": {},
     "output_type": "execute_result"
    }
   ],
   "execution_count": 5
  },
  {
   "cell_type": "markdown",
   "id": "62ae3587df801000",
   "metadata": {
    "collapsed": false,
    "papermill": {
     "duration": 0.00214,
     "end_time": "2024-06-19T13:18:41.443672",
     "exception": false,
     "start_time": "2024-06-19T13:18:41.441532",
     "status": "completed"
    },
    "tags": []
   },
   "source": [
    "# Setup constant head boundary with 1 observation"
   ]
  },
  {
   "cell_type": "code",
   "id": "53679913aee28ce9",
   "metadata": {
    "collapsed": false,
    "execution": {
     "iopub.execute_input": "2024-06-19T13:18:41.448639Z",
     "iopub.status.busy": "2024-06-19T13:18:41.448436Z",
     "iopub.status.idle": "2024-06-19T13:18:41.471632Z",
     "shell.execute_reply": "2024-06-19T13:18:41.471348Z"
    },
    "papermill": {
     "duration": 0.026791,
     "end_time": "2024-06-19T13:18:41.472626",
     "exception": false,
     "start_time": "2024-06-19T13:18:41.445835",
     "status": "completed"
    },
    "tags": [],
    "ExecuteTime": {
     "end_time": "2024-08-19T09:57:12.369208Z",
     "start_time": "2024-08-19T09:57:12.344239Z"
    }
   },
   "source": [
    "from morpheus.project.types.boundaries.Observation import ObservationName\n",
    "from morpheus.project.types.boundaries.ConstantHeadObservation import ObservationId, HeadValue, ConstantHeadObservationValue\n",
    "from morpheus.project.types.geometry import Point\n",
    "from morpheus.project.types.boundaries.Boundary import BoundaryName\n",
    "from morpheus.project.types.layers import LayerId\n",
    "from morpheus.project.types.boundaries.Boundary import ConstantHeadBoundary, ConstantHeadObservation\n",
    "\n",
    "layers_list = [LayerId.new()]\n",
    "constant_head = ConstantHeadBoundary.from_geometry(\n",
    "  name=BoundaryName('constant_head'),\n",
    "  geometry=LineString([\n",
    "    (13.9223, 50.9662),\n",
    "    (13.9250, 50.96615),\n",
    "  ]),\n",
    "  grid=grid,\n",
    "  affected_layers=[model.layers[0].layer_id],\n",
    "  observations=[\n",
    "    ConstantHeadObservation(\n",
    "      observation_id=ObservationId.new(),\n",
    "      observation_name=ObservationName.default(),\n",
    "      geometry=Point((13.9223, 50.9662)),\n",
    "      data=[\n",
    "        ConstantHeadObservationValue(\n",
    "          date_time=StartDateTime.from_datetime(datetime(2019, 1, 1)),\n",
    "          head=HeadValue.from_float(100),\n",
    "        ),\n",
    "        ConstantHeadObservationValue(\n",
    "          date_time=StartDateTime.from_datetime(datetime(2021, 12, 31)),\n",
    "          head=HeadValue.from_float(120),\n",
    "        ),\n",
    "      ]\n",
    "    )\n",
    "  ]\n",
    ")\n",
    "\n",
    "m.add_child(folium.GeoJson(constant_head.as_geojson()))\n",
    "m.add_child(folium.GeoJson(constant_head.affected_cells.to_geojson(grid).as_geojson()))\n",
    "for constant_head.observation in constant_head.observations:\n",
    "  m.add_child(folium.GeoJson(constant_head.observation.as_geojson()))\n",
    "m.fit_bounds(m.get_bounds())\n",
    "m"
   ],
   "outputs": [
    {
     "data": {
      "text/plain": [
       "<folium.folium.Map at 0x10994b2c0>"
      ],
      "text/html": [
       "<div style=\"width:100%;\"><div style=\"position:relative;width:100%;height:0;padding-bottom:60%;\"><span style=\"color:#565656\">Make this Notebook Trusted to load map: File -> Trust Notebook</span><iframe srcdoc=\"&lt;!DOCTYPE html&gt;\n",
       "&lt;html&gt;\n",
       "&lt;head&gt;\n",
       "    \n",
       "    &lt;meta http-equiv=&quot;content-type&quot; content=&quot;text/html; charset=UTF-8&quot; /&gt;\n",
       "    \n",
       "        &lt;script&gt;\n",
       "            L_NO_TOUCH = false;\n",
       "            L_DISABLE_3D = false;\n",
       "        &lt;/script&gt;\n",
       "    \n",
       "    &lt;style&gt;html, body {width: 100%;height: 100%;margin: 0;padding: 0;}&lt;/style&gt;\n",
       "    &lt;style&gt;#map {position:absolute;top:0;bottom:0;right:0;left:0;}&lt;/style&gt;\n",
       "    &lt;script src=&quot;https://cdn.jsdelivr.net/npm/leaflet@1.9.3/dist/leaflet.js&quot;&gt;&lt;/script&gt;\n",
       "    &lt;script src=&quot;https://code.jquery.com/jquery-3.7.1.min.js&quot;&gt;&lt;/script&gt;\n",
       "    &lt;script src=&quot;https://cdn.jsdelivr.net/npm/bootstrap@5.2.2/dist/js/bootstrap.bundle.min.js&quot;&gt;&lt;/script&gt;\n",
       "    &lt;script src=&quot;https://cdnjs.cloudflare.com/ajax/libs/Leaflet.awesome-markers/2.0.2/leaflet.awesome-markers.js&quot;&gt;&lt;/script&gt;\n",
       "    &lt;link rel=&quot;stylesheet&quot; href=&quot;https://cdn.jsdelivr.net/npm/leaflet@1.9.3/dist/leaflet.css&quot;/&gt;\n",
       "    &lt;link rel=&quot;stylesheet&quot; href=&quot;https://cdn.jsdelivr.net/npm/bootstrap@5.2.2/dist/css/bootstrap.min.css&quot;/&gt;\n",
       "    &lt;link rel=&quot;stylesheet&quot; href=&quot;https://netdna.bootstrapcdn.com/bootstrap/3.0.0/css/bootstrap.min.css&quot;/&gt;\n",
       "    &lt;link rel=&quot;stylesheet&quot; href=&quot;https://cdn.jsdelivr.net/npm/@fortawesome/fontawesome-free@6.2.0/css/all.min.css&quot;/&gt;\n",
       "    &lt;link rel=&quot;stylesheet&quot; href=&quot;https://cdnjs.cloudflare.com/ajax/libs/Leaflet.awesome-markers/2.0.2/leaflet.awesome-markers.css&quot;/&gt;\n",
       "    &lt;link rel=&quot;stylesheet&quot; href=&quot;https://cdn.jsdelivr.net/gh/python-visualization/folium/folium/templates/leaflet.awesome.rotate.min.css&quot;/&gt;\n",
       "    \n",
       "            &lt;meta name=&quot;viewport&quot; content=&quot;width=device-width,\n",
       "                initial-scale=1.0, maximum-scale=1.0, user-scalable=no&quot; /&gt;\n",
       "            &lt;style&gt;\n",
       "                #map_92149e6c7e3d07d76fc43e256ea28925 {\n",
       "                    position: relative;\n",
       "                    width: 100.0%;\n",
       "                    height: 100.0%;\n",
       "                    left: 0.0%;\n",
       "                    top: 0.0%;\n",
       "                }\n",
       "                .leaflet-container { font-size: 1rem; }\n",
       "            &lt;/style&gt;\n",
       "        \n",
       "&lt;/head&gt;\n",
       "&lt;body&gt;\n",
       "    \n",
       "    \n",
       "            &lt;div class=&quot;folium-map&quot; id=&quot;map_92149e6c7e3d07d76fc43e256ea28925&quot; &gt;&lt;/div&gt;\n",
       "        \n",
       "&lt;/body&gt;\n",
       "&lt;script&gt;\n",
       "    \n",
       "    \n",
       "            var map_92149e6c7e3d07d76fc43e256ea28925 = L.map(\n",
       "                &quot;map_92149e6c7e3d07d76fc43e256ea28925&quot;,\n",
       "                {\n",
       "                    center: [50.965, 13.922],\n",
       "                    crs: L.CRS.EPSG3857,\n",
       "                    zoom: 12,\n",
       "                    zoomControl: true,\n",
       "                    preferCanvas: false,\n",
       "                }\n",
       "            );\n",
       "\n",
       "            \n",
       "\n",
       "        \n",
       "    \n",
       "            var tile_layer_6aaba4a2c6ee0982bb1c38b2d059c4b4 = L.tileLayer(\n",
       "                &quot;https://{s}.basemaps.cartocdn.com/light_all/{z}/{x}/{y}{r}.png&quot;,\n",
       "                {&quot;attribution&quot;: &quot;\\u0026copy; \\u003ca href=\\&quot;https://www.openstreetmap.org/copyright\\&quot;\\u003eOpenStreetMap\\u003c/a\\u003e contributors \\u0026copy; \\u003ca href=\\&quot;https://carto.com/attributions\\&quot;\\u003eCARTO\\u003c/a\\u003e&quot;, &quot;detectRetina&quot;: false, &quot;maxNativeZoom&quot;: 20, &quot;maxZoom&quot;: 20, &quot;minZoom&quot;: 0, &quot;noWrap&quot;: false, &quot;opacity&quot;: 1, &quot;subdomains&quot;: &quot;abcd&quot;, &quot;tms&quot;: false}\n",
       "            );\n",
       "        \n",
       "    \n",
       "            tile_layer_6aaba4a2c6ee0982bb1c38b2d059c4b4.addTo(map_92149e6c7e3d07d76fc43e256ea28925);\n",
       "        \n",
       "    \n",
       "\n",
       "        function geo_json_02494e63a254e9749973236ae3a0f7da_onEachFeature(feature, layer) {\n",
       "            layer.on({\n",
       "            });\n",
       "        };\n",
       "        var geo_json_02494e63a254e9749973236ae3a0f7da = L.geoJson(null, {\n",
       "                onEachFeature: geo_json_02494e63a254e9749973236ae3a0f7da_onEachFeature,\n",
       "            \n",
       "        });\n",
       "\n",
       "        function geo_json_02494e63a254e9749973236ae3a0f7da_add (data) {\n",
       "            geo_json_02494e63a254e9749973236ae3a0f7da\n",
       "                .addData(data);\n",
       "        }\n",
       "            geo_json_02494e63a254e9749973236ae3a0f7da_add({&quot;coordinates&quot;: [[[13.922514437551428, 50.964720483303836], [13.925250781947113, 50.965228748412386], [13.925036413951403, 50.96623732041704], [13.92222441026388, 50.96629040370362], [13.922514437551428, 50.964720483303836]]], &quot;type&quot;: &quot;Polygon&quot;});\n",
       "\n",
       "        \n",
       "    \n",
       "            geo_json_02494e63a254e9749973236ae3a0f7da.addTo(map_92149e6c7e3d07d76fc43e256ea28925);\n",
       "        \n",
       "    \n",
       "            map_92149e6c7e3d07d76fc43e256ea28925.fitBounds(\n",
       "                [[50.964720483303836, 13.92222441026388], [50.96629040370362, 13.925250781947113]],\n",
       "                {}\n",
       "            );\n",
       "        \n",
       "    \n",
       "            tile_layer_6aaba4a2c6ee0982bb1c38b2d059c4b4.addTo(map_92149e6c7e3d07d76fc43e256ea28925);\n",
       "        \n",
       "    \n",
       "            geo_json_02494e63a254e9749973236ae3a0f7da.addTo(map_92149e6c7e3d07d76fc43e256ea28925);\n",
       "        \n",
       "    \n",
       "\n",
       "        function geo_json_f4bc29a126db6c74e379730860aafba3_onEachFeature(feature, layer) {\n",
       "            layer.on({\n",
       "            });\n",
       "        };\n",
       "        var geo_json_f4bc29a126db6c74e379730860aafba3 = L.geoJson(null, {\n",
       "                onEachFeature: geo_json_f4bc29a126db6c74e379730860aafba3_onEachFeature,\n",
       "            \n",
       "        });\n",
       "\n",
       "        function geo_json_f4bc29a126db6c74e379730860aafba3_add (data) {\n",
       "            geo_json_f4bc29a126db6c74e379730860aafba3\n",
       "                .addData(data);\n",
       "        }\n",
       "            geo_json_f4bc29a126db6c74e379730860aafba3_add({&quot;coordinates&quot;: [[13.9223, 50.9662], [13.925, 50.96615]], &quot;type&quot;: &quot;LineString&quot;});\n",
       "\n",
       "        \n",
       "    \n",
       "            geo_json_f4bc29a126db6c74e379730860aafba3.addTo(map_92149e6c7e3d07d76fc43e256ea28925);\n",
       "        \n",
       "    \n",
       "\n",
       "        function geo_json_5607b55e7b5a765dc13c5a98978df313_onEachFeature(feature, layer) {\n",
       "            layer.on({\n",
       "            });\n",
       "        };\n",
       "        var geo_json_5607b55e7b5a765dc13c5a98978df313 = L.geoJson(null, {\n",
       "                onEachFeature: geo_json_5607b55e7b5a765dc13c5a98978df313_onEachFeature,\n",
       "            \n",
       "        });\n",
       "\n",
       "        function geo_json_5607b55e7b5a765dc13c5a98978df313_add (data) {\n",
       "            geo_json_5607b55e7b5a765dc13c5a98978df313\n",
       "                .addData(data);\n",
       "        }\n",
       "            geo_json_5607b55e7b5a765dc13c5a98978df313_add({&quot;geometries&quot;: [{&quot;coordinates&quot;: [[[13.922224410263878, 50.96629040370359], [13.922527047432201, 50.96629040370359], [13.922527047432201, 50.9661334140511], [13.922224410263878, 50.9661334140511], [13.922224410263878, 50.96629040370359]]], &quot;type&quot;: &quot;Polygon&quot;}, {&quot;coordinates&quot;: [[[13.922527047432201, 50.96629040370359], [13.922829684600526, 50.96629040370359], [13.922829684600526, 50.9661334140511], [13.922527047432201, 50.9661334140511], [13.922527047432201, 50.96629040370359]]], &quot;type&quot;: &quot;Polygon&quot;}, {&quot;coordinates&quot;: [[[13.922829684600526, 50.96629040370359], [13.923132321768849, 50.96629040370359], [13.923132321768849, 50.9661334140511], [13.922829684600526, 50.9661334140511], [13.922829684600526, 50.96629040370359]]], &quot;type&quot;: &quot;Polygon&quot;}, {&quot;coordinates&quot;: [[[13.923132321768849, 50.96629040370359], [13.923434958937172, 50.96629040370359], [13.923434958937172, 50.9661334140511], [13.923132321768849, 50.9661334140511], [13.923132321768849, 50.96629040370359]]], &quot;type&quot;: &quot;Polygon&quot;}, {&quot;coordinates&quot;: [[[13.923434958937172, 50.96629040370359], [13.923737596105495, 50.96629040370359], [13.923737596105495, 50.9661334140511], [13.923434958937172, 50.9661334140511], [13.923434958937172, 50.96629040370359]]], &quot;type&quot;: &quot;Polygon&quot;}, {&quot;coordinates&quot;: [[[13.923737596105495, 50.96629040370359], [13.924040233273818, 50.96629040370359], [13.924040233273818, 50.9661334140511], [13.923737596105495, 50.9661334140511], [13.923737596105495, 50.96629040370359]]], &quot;type&quot;: &quot;Polygon&quot;}, {&quot;coordinates&quot;: [[[13.924040233273818, 50.96629040370359], [13.924342870442143, 50.96629040370359], [13.924342870442143, 50.9661334140511], [13.924040233273818, 50.9661334140511], [13.924040233273818, 50.96629040370359]]], &quot;type&quot;: &quot;Polygon&quot;}, {&quot;coordinates&quot;: [[[13.924342870442143, 50.96629040370359], [13.924645507610466, 50.96629040370359], [13.924645507610466, 50.9661334140511], [13.924342870442143, 50.9661334140511], [13.924342870442143, 50.96629040370359]]], &quot;type&quot;: &quot;Polygon&quot;}, {&quot;coordinates&quot;: [[[13.924645507610466, 50.96629040370359], [13.92494814477879, 50.96629040370359], [13.92494814477879, 50.9661334140511], [13.924645507610466, 50.9661334140511], [13.924645507610466, 50.96629040370359]]], &quot;type&quot;: &quot;Polygon&quot;}, {&quot;coordinates&quot;: [[[13.92494814477879, 50.96629040370359], [13.925250781947113, 50.96629040370359], [13.925250781947113, 50.9661334140511], [13.92494814477879, 50.9661334140511], [13.92494814477879, 50.96629040370359]]], &quot;type&quot;: &quot;Polygon&quot;}], &quot;type&quot;: &quot;GeometryCollection&quot;});\n",
       "\n",
       "        \n",
       "    \n",
       "            geo_json_5607b55e7b5a765dc13c5a98978df313.addTo(map_92149e6c7e3d07d76fc43e256ea28925);\n",
       "        \n",
       "    \n",
       "\n",
       "        function geo_json_226d3fee6d2ca1b48e474e51aec921e9_onEachFeature(feature, layer) {\n",
       "            layer.on({\n",
       "            });\n",
       "        };\n",
       "        var geo_json_226d3fee6d2ca1b48e474e51aec921e9 = L.geoJson(null, {\n",
       "                onEachFeature: geo_json_226d3fee6d2ca1b48e474e51aec921e9_onEachFeature,\n",
       "            \n",
       "        });\n",
       "\n",
       "        function geo_json_226d3fee6d2ca1b48e474e51aec921e9_add (data) {\n",
       "            geo_json_226d3fee6d2ca1b48e474e51aec921e9\n",
       "                .addData(data);\n",
       "        }\n",
       "            geo_json_226d3fee6d2ca1b48e474e51aec921e9_add({&quot;coordinates&quot;: [13.9223, 50.9662], &quot;type&quot;: &quot;Point&quot;});\n",
       "\n",
       "        \n",
       "    \n",
       "            geo_json_226d3fee6d2ca1b48e474e51aec921e9.addTo(map_92149e6c7e3d07d76fc43e256ea28925);\n",
       "        \n",
       "    \n",
       "            map_92149e6c7e3d07d76fc43e256ea28925.fitBounds(\n",
       "                [[50.964720483303836, 13.922224410263878], [50.96629040370362, 13.925250781947113]],\n",
       "                {}\n",
       "            );\n",
       "        \n",
       "&lt;/script&gt;\n",
       "&lt;/html&gt;\" style=\"position:absolute;width:100%;height:100%;left:0;top:0;border:none !important;\" allowfullscreen webkitallowfullscreen mozallowfullscreen></iframe></div></div>"
      ]
     },
     "execution_count": 6,
     "metadata": {},
     "output_type": "execute_result"
    }
   ],
   "execution_count": 6
  },
  {
   "cell_type": "code",
   "id": "621e2265ae79b1ae",
   "metadata": {
    "collapsed": false,
    "execution": {
     "iopub.execute_input": "2024-06-19T13:18:41.478093Z",
     "iopub.status.busy": "2024-06-19T13:18:41.477968Z",
     "iopub.status.idle": "2024-06-19T13:18:41.479801Z",
     "shell.execute_reply": "2024-06-19T13:18:41.479569Z"
    },
    "papermill": {
     "duration": 0.005336,
     "end_time": "2024-06-19T13:18:41.480589",
     "exception": false,
     "start_time": "2024-06-19T13:18:41.475253",
     "status": "completed"
    },
    "tags": [],
    "ExecuteTime": {
     "end_time": "2024-08-19T09:57:12.373819Z",
     "start_time": "2024-08-19T09:57:12.369807Z"
    }
   },
   "source": [
    "from morpheus.project.types.boundaries.Boundary import BoundaryCollection\n",
    "\n",
    "boundary_collection = BoundaryCollection.new()\n",
    "boundary_collection.add_boundary(constant_head)\n",
    "\n",
    "model = model.with_updated_boundaries(boundaries=boundary_collection)"
   ],
   "outputs": [],
   "execution_count": 7
  },
  {
   "cell_type": "markdown",
   "id": "42d948d145a8457a",
   "metadata": {
    "collapsed": false,
    "papermill": {
     "duration": 0.00212,
     "end_time": "2024-06-19T13:18:41.484952",
     "exception": false,
     "start_time": "2024-06-19T13:18:41.482832",
     "status": "completed"
    },
    "tags": []
   },
   "source": [
    "## Calculate"
   ]
  },
  {
   "cell_type": "code",
   "id": "56ccabee86e2397e",
   "metadata": {
    "collapsed": false,
    "execution": {
     "iopub.execute_input": "2024-06-19T13:18:41.489753Z",
     "iopub.status.busy": "2024-06-19T13:18:41.489644Z",
     "iopub.status.idle": "2024-06-19T13:18:41.780276Z",
     "shell.execute_reply": "2024-06-19T13:18:41.780008Z"
    },
    "papermill": {
     "duration": 0.294241,
     "end_time": "2024-06-19T13:18:41.781285",
     "exception": false,
     "start_time": "2024-06-19T13:18:41.487044",
     "status": "completed"
    },
    "tags": [],
    "ExecuteTime": {
     "end_time": "2024-08-19T09:57:12.937751Z",
     "start_time": "2024-08-19T09:57:12.375254Z"
    }
   },
   "source": [
    "from morpheus.project.types.Project import ProjectId\n",
    "from morpheus.project.infrastructure.calculation.engines.modflow_2005.types.Mf2005CalculationEngineSettings import \\\n",
    "  Mf2005CalculationEngineSettings\n",
    "from morpheus.project.types.calculation.CalculationProfile import CalculationProfile, CalculationEngineType\n",
    "from morpheus.project.types.calculation.Calculation import Calculation\n",
    "\n",
    "calculation_engine_settings = Mf2005CalculationEngineSettings.default()\n",
    "calculation_profile = CalculationProfile.new(CalculationEngineType.MF2005)\n",
    "calculation = Calculation.new(model=model, profile=calculation_profile, project_id=ProjectId.new())\n",
    "calculation = Calculation.from_dict(calculation.to_dict())\n",
    "calculation.calculation_id"
   ],
   "outputs": [
    {
     "data": {
      "text/plain": [
       "CalculationId(value='3a130616-2057-4b2d-8d77-910e524a9310')"
      ]
     },
     "execution_count": 8,
     "metadata": {},
     "output_type": "execute_result"
    }
   ],
   "execution_count": 8
  },
  {
   "cell_type": "code",
   "id": "672007fb90753c4c",
   "metadata": {
    "collapsed": false,
    "execution": {
     "iopub.execute_input": "2024-06-19T13:18:41.794793Z",
     "iopub.status.busy": "2024-06-19T13:18:41.794691Z",
     "iopub.status.idle": "2024-06-19T13:18:42.149391Z",
     "shell.execute_reply": "2024-06-19T13:18:42.149078Z"
    },
    "papermill": {
     "duration": 0.358036,
     "end_time": "2024-06-19T13:18:42.150227",
     "exception": false,
     "start_time": "2024-06-19T13:18:41.792191",
     "status": "completed"
    },
    "tags": [],
    "ExecuteTime": {
     "end_time": "2024-08-19T09:57:13.304159Z",
     "start_time": "2024-08-19T09:57:12.938441Z"
    }
   },
   "source": [
    "from morpheus.project.infrastructure.calculation.services.CalculationService import CalculationService\n",
    "calculation_service = CalculationService.calculate(model=model, profile=calculation_profile)"
   ],
   "outputs": [
    {
     "name": "stdout",
     "output_type": "stream",
     "text": [
      "FloPy is using the following executable to run the model: ../../../../../../Users/ralf/Projects/inowas/morpheus/src/backend/.venv/bin/mf2005\n",
      "\n",
      "                                  MODFLOW-2005     \n",
      "    U.S. GEOLOGICAL SURVEY MODULAR FINITE-DIFFERENCE GROUND-WATER FLOW MODEL\n",
      "                             Version 1.12.00 2/3/2017                        \n",
      "\n",
      " Using NAME file: mf2005.nam \n",
      " Run start date and time (yyyy/mm/dd hh:mm:ss): 2024/08/19 11:57:13\n",
      "\n",
      " Solving:  Stress period:     1    Time step:     1    Ground-Water Flow Eqn.\n",
      " Run end date and time (yyyy/mm/dd hh:mm:ss): 2024/08/19 11:57:13\n",
      " Elapsed run time:  0.012 Seconds\n",
      "\n",
      "  Normal termination of simulation\n"
     ]
    }
   ],
   "execution_count": 9
  },
  {
   "cell_type": "code",
   "id": "beae154ec6b0a8f3",
   "metadata": {
    "collapsed": false,
    "execution": {
     "iopub.execute_input": "2024-06-19T13:18:42.156091Z",
     "iopub.status.busy": "2024-06-19T13:18:42.155457Z",
     "iopub.status.idle": "2024-06-19T13:18:42.158352Z",
     "shell.execute_reply": "2024-06-19T13:18:42.158130Z"
    },
    "papermill": {
     "duration": 0.006358,
     "end_time": "2024-06-19T13:18:42.159101",
     "exception": false,
     "start_time": "2024-06-19T13:18:42.152743",
     "status": "completed"
    },
    "tags": [],
    "ExecuteTime": {
     "end_time": "2024-08-19T09:57:13.308964Z",
     "start_time": "2024-08-19T09:57:13.306327Z"
    }
   },
   "source": "calculation_service.get_calculation_log()",
   "outputs": [
    {
     "data": {
      "text/plain": [
       "Log(log=['', '                                  MODFLOW-2005     ', '    U.S. GEOLOGICAL SURVEY MODULAR FINITE-DIFFERENCE GROUND-WATER FLOW MODEL', '                             Version 1.12.00 2/3/2017                        ', '', ' Using NAME file: mf2005.nam ', ' Run start date and time (yyyy/mm/dd hh:mm:ss): 2024/08/19 11:57:13', '', ' Solving:  Stress period:     1    Time step:     1    Ground-Water Flow Eqn.', ' Run end date and time (yyyy/mm/dd hh:mm:ss): 2024/08/19 11:57:13', ' Elapsed run time:  0.012 Seconds', '', '  Normal termination of simulation'])"
      ]
     },
     "execution_count": 10,
     "metadata": {},
     "output_type": "execute_result"
    }
   ],
   "execution_count": 10
  },
  {
   "cell_type": "code",
   "id": "a52d1dd3a1574032",
   "metadata": {
    "collapsed": false,
    "execution": {
     "iopub.execute_input": "2024-06-19T13:18:42.163972Z",
     "iopub.status.busy": "2024-06-19T13:18:42.163864Z",
     "iopub.status.idle": "2024-06-19T13:18:42.165815Z",
     "shell.execute_reply": "2024-06-19T13:18:42.165598Z"
    },
    "papermill": {
     "duration": 0.005264,
     "end_time": "2024-06-19T13:18:42.166569",
     "exception": false,
     "start_time": "2024-06-19T13:18:42.161305",
     "status": "completed"
    },
    "tags": [],
    "ExecuteTime": {
     "end_time": "2024-08-19T09:57:13.312876Z",
     "start_time": "2024-08-19T09:57:13.309540Z"
    }
   },
   "source": [
    "calculation_service.get_result()"
   ],
   "outputs": [
    {
     "data": {
      "text/plain": [
       "CalculationResult(type=<CalculationResultType.SUCCESS: 'success'>, message='Calculation finished successfully', files=['mf2005.list', 'mf2005.chd', 'mf2005.dis', 'mf2005.nam', 'mf2005.bas', 'mf2005.lpf', 'mf2005.pcg', 'mf2005.oc', 'mf2005.hds'], flow_head_results=AvailableResults(times=[365.0], kstpkper=[(0, 0)], number_of_layers=1, number_of_observations=0, min_value=100.0, max_value=100.0), flow_drawdown_results=None, flow_budget_results=AvailableResults(times=[365.0], kstpkper=[(0, 0)], number_of_layers=0, number_of_observations=0, min_value=None, max_value=None), transport_concentration_results=None, transport_budget_results=None, packages=['DIS', 'BAS6', 'CHD', 'PCG', 'LPF', 'OC'])"
      ]
     },
     "execution_count": 11,
     "metadata": {},
     "output_type": "execute_result"
    }
   ],
   "execution_count": 11
  },
  {
   "cell_type": "code",
   "id": "cc43ad077c7a81d0",
   "metadata": {
    "collapsed": false,
    "execution": {
     "iopub.execute_input": "2024-06-19T13:18:42.171738Z",
     "iopub.status.busy": "2024-06-19T13:18:42.171638Z",
     "iopub.status.idle": "2024-06-19T13:18:42.173681Z",
     "shell.execute_reply": "2024-06-19T13:18:42.173466Z"
    },
    "papermill": {
     "duration": 0.005522,
     "end_time": "2024-06-19T13:18:42.174457",
     "exception": false,
     "start_time": "2024-06-19T13:18:42.168935",
     "status": "completed"
    },
    "tags": [],
    "ExecuteTime": {
     "end_time": "2024-08-19T09:57:13.316870Z",
     "start_time": "2024-08-19T09:57:13.313885Z"
    }
   },
   "source": [
    "head = calculation_service.read_flow_head(0, 0)"
   ],
   "outputs": [],
   "execution_count": 12
  },
  {
   "cell_type": "code",
   "id": "12454cc4d9e18de5",
   "metadata": {
    "collapsed": false,
    "execution": {
     "iopub.execute_input": "2024-06-19T13:18:42.179937Z",
     "iopub.status.busy": "2024-06-19T13:18:42.179826Z",
     "iopub.status.idle": "2024-06-19T13:18:42.181957Z",
     "shell.execute_reply": "2024-06-19T13:18:42.181748Z"
    },
    "papermill": {
     "duration": 0.005892,
     "end_time": "2024-06-19T13:18:42.182749",
     "exception": false,
     "start_time": "2024-06-19T13:18:42.176857",
     "status": "completed"
    },
    "tags": [],
    "ExecuteTime": {
     "end_time": "2024-08-19T09:57:13.320686Z",
     "start_time": "2024-08-19T09:57:13.317684Z"
    }
   },
   "source": [
    "import simplejson as json\n",
    "\n",
    "json = json.dumps(head, ignore_nan=True)\n",
    "json"
   ],
   "outputs": [
    {
     "data": {
      "text/plain": [
       "'[[100.0, 100.0, 100.0, 100.0, 100.0, 100.0, 100.0, 100.0, 100.0, -9999.0], [100.0, 100.0, 100.0, 100.0, 100.0, 100.0, 100.0, 100.0, 100.0, -9999.0], [100.0, 100.0, 100.0, 100.0, 100.0, 100.0, 100.0, 100.0, 100.0, 100.0], [100.0, 100.0, 100.0, 100.0, 100.0, 100.0, 100.0, 100.0, 100.0, 100.0], [100.0, 100.0, 100.0, 100.0, 100.0, 100.0, 100.0, 100.0, 100.0, 100.0], [-9999.0, 100.0, 100.0, 100.0, 100.0, 100.0, 100.0, 100.0, 100.0, 100.0], [-9999.0, 100.0, 100.0, 100.0, 100.0, 100.0, 100.0, 100.0, 100.0, 100.0], [-9999.0, 100.0, 100.0, 100.0, 100.0, 100.0, 100.0, 100.0, -9999.0, -9999.0], [-9999.0, 100.0, 100.0, 100.0, 100.0, -9999.0, -9999.0, -9999.0, -9999.0, -9999.0], [-9999.0, 100.0, -9999.0, -9999.0, -9999.0, -9999.0, -9999.0, -9999.0, -9999.0, -9999.0]]'"
      ]
     },
     "execution_count": 13,
     "metadata": {},
     "output_type": "execute_result"
    }
   ],
   "execution_count": 13
  },
  {
   "cell_type": "code",
   "id": "df7dfd8ff0308815",
   "metadata": {
    "collapsed": false,
    "execution": {
     "iopub.execute_input": "2024-06-19T13:18:42.188020Z",
     "iopub.status.busy": "2024-06-19T13:18:42.187836Z",
     "iopub.status.idle": "2024-06-19T13:18:42.189922Z",
     "shell.execute_reply": "2024-06-19T13:18:42.189699Z"
    },
    "papermill": {
     "duration": 0.005496,
     "end_time": "2024-06-19T13:18:42.190642",
     "exception": false,
     "start_time": "2024-06-19T13:18:42.185146",
     "status": "completed"
    },
    "tags": [],
    "ExecuteTime": {
     "end_time": "2024-08-19T09:57:13.324037Z",
     "start_time": "2024-08-19T09:57:13.321430Z"
    }
   },
   "source": [
    "calculation_service.read_flow_drawdown(0, 0)"
   ],
   "outputs": [
    {
     "data": {
      "text/plain": [
       "[]"
      ]
     },
     "execution_count": 14,
     "metadata": {},
     "output_type": "execute_result"
    }
   ],
   "execution_count": 14
  },
  {
   "cell_type": "code",
   "id": "b233f4066b56c174",
   "metadata": {
    "collapsed": false,
    "execution": {
     "iopub.execute_input": "2024-06-19T13:18:42.196153Z",
     "iopub.status.busy": "2024-06-19T13:18:42.196046Z",
     "iopub.status.idle": "2024-06-19T13:18:42.199071Z",
     "shell.execute_reply": "2024-06-19T13:18:42.198829Z"
    },
    "papermill": {
     "duration": 0.006627,
     "end_time": "2024-06-19T13:18:42.199861",
     "exception": false,
     "start_time": "2024-06-19T13:18:42.193234",
     "status": "completed"
    },
    "tags": [],
    "ExecuteTime": {
     "end_time": "2024-08-19T09:57:13.328223Z",
     "start_time": "2024-08-19T09:57:13.324672Z"
    }
   },
   "source": [
    "calculation_service.read_flow_budget(0, False)"
   ],
   "outputs": [
    {
     "data": {
      "text/plain": [
       "{'STORAGE_IN': 0.0,\n",
       " 'CONSTANT_HEAD_IN': 0.00094379,\n",
       " 'TOTAL_IN': 0.00094379,\n",
       " 'STORAGE_OUT': -0.0,\n",
       " 'CONSTANT_HEAD_OUT': -0.0,\n",
       " 'TOTAL_OUT': -0.0,\n",
       " 'IN-OUT': 0.00094379,\n",
       " 'PERCENT_DISCREPANCY': 200.0,\n",
       " 'tslen': 365.0}"
      ]
     },
     "execution_count": 15,
     "metadata": {},
     "output_type": "execute_result"
    }
   ],
   "execution_count": 15
  },
  {
   "cell_type": "code",
   "id": "634709d741f5c252",
   "metadata": {
    "collapsed": false,
    "execution": {
     "iopub.execute_input": "2024-06-19T13:18:42.205213Z",
     "iopub.status.busy": "2024-06-19T13:18:42.205119Z",
     "iopub.status.idle": "2024-06-19T13:18:42.208006Z",
     "shell.execute_reply": "2024-06-19T13:18:42.207793Z"
    },
    "papermill": {
     "duration": 0.00637,
     "end_time": "2024-06-19T13:18:42.208701",
     "exception": false,
     "start_time": "2024-06-19T13:18:42.202331",
     "status": "completed"
    },
    "tags": [],
    "ExecuteTime": {
     "end_time": "2024-08-19T09:57:13.334054Z",
     "start_time": "2024-08-19T09:57:13.329071Z"
    }
   },
   "source": [
    "calculation_service.read_flow_budget(0, True)"
   ],
   "outputs": [
    {
     "data": {
      "text/plain": [
       "{'STORAGE_IN': 0.0,\n",
       " 'CONSTANT_HEAD_IN': 2.5857e-06,\n",
       " 'TOTAL_IN': 2.5857e-06,\n",
       " 'STORAGE_OUT': -0.0,\n",
       " 'CONSTANT_HEAD_OUT': -0.0,\n",
       " 'TOTAL_OUT': -0.0,\n",
       " 'IN-OUT': 2.5857e-06,\n",
       " 'PERCENT_DISCREPANCY': 200.0,\n",
       " 'tslen': 365.0}"
      ]
     },
     "execution_count": 16,
     "metadata": {},
     "output_type": "execute_result"
    }
   ],
   "execution_count": 16
  },
  {
   "cell_type": "code",
   "id": "26523066436690e6",
   "metadata": {
    "collapsed": false,
    "execution": {
     "iopub.execute_input": "2024-06-19T13:18:42.214169Z",
     "iopub.status.busy": "2024-06-19T13:18:42.214063Z",
     "iopub.status.idle": "2024-06-19T13:18:42.215984Z",
     "shell.execute_reply": "2024-06-19T13:18:42.215775Z"
    },
    "papermill": {
     "duration": 0.005493,
     "end_time": "2024-06-19T13:18:42.216701",
     "exception": false,
     "start_time": "2024-06-19T13:18:42.211208",
     "status": "completed"
    },
    "tags": [],
    "ExecuteTime": {
     "end_time": "2024-08-19T09:57:13.337963Z",
     "start_time": "2024-08-19T09:57:13.334828Z"
    }
   },
   "source": [
    "calculation_service.get_result()"
   ],
   "outputs": [
    {
     "data": {
      "text/plain": [
       "CalculationResult(type=<CalculationResultType.SUCCESS: 'success'>, message='Calculation finished successfully', files=['mf2005.list', 'mf2005.chd', 'mf2005.dis', 'mf2005.nam', 'mf2005.bas', 'mf2005.lpf', 'mf2005.pcg', 'mf2005.oc', 'mf2005.hds'], flow_head_results=AvailableResults(times=[365.0], kstpkper=[(0, 0)], number_of_layers=1, number_of_observations=0, min_value=100.0, max_value=100.0), flow_drawdown_results=None, flow_budget_results=AvailableResults(times=[365.0], kstpkper=[(0, 0)], number_of_layers=0, number_of_observations=0, min_value=None, max_value=None), transport_concentration_results=None, transport_budget_results=None, packages=['DIS', 'BAS6', 'CHD', 'PCG', 'LPF', 'OC'])"
      ]
     },
     "execution_count": 17,
     "metadata": {},
     "output_type": "execute_result"
    }
   ],
   "execution_count": 17
  }
 ],
 "metadata": {
  "kernelspec": {
   "display_name": "Python 3",
   "language": "python",
   "name": "python3"
  },
  "language_info": {
   "codemirror_mode": {
    "name": "ipython",
    "version": 3
   },
   "file_extension": ".py",
   "mimetype": "text/x-python",
   "name": "python",
   "nbconvert_exporter": "python",
   "pygments_lexer": "ipython3",
   "version": "3.12.2"
  },
  "papermill": {
   "default_parameters": {},
   "duration": 3.366238,
   "end_time": "2024-06-19T13:18:42.942146",
   "environment_variables": {},
   "exception": null,
   "input_path": "./notebooks/Mf2005Calculation.ipynb",
   "output_path": "./notebooks/Mf2005Calculation.ipynb",
   "parameters": {},
   "start_time": "2024-06-19T13:18:39.575908",
   "version": "2.6.0"
  }
 },
 "nbformat": 4,
 "nbformat_minor": 5
}
