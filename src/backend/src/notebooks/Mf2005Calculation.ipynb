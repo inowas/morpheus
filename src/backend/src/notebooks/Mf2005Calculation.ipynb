{
 "cells": [
  {
   "cell_type": "code",
   "execution_count": 1,
   "id": "ba6761fae9d5e5cb",
   "metadata": {
    "ExecuteTime": {
     "end_time": "2024-05-14T07:57:49.320923Z",
     "start_time": "2024-05-14T07:57:49.314465Z"
    },
    "collapsed": false,
    "execution": {
     "iopub.execute_input": "2024-05-15T16:01:11.815263Z",
     "iopub.status.busy": "2024-05-15T16:01:11.815006Z",
     "iopub.status.idle": "2024-05-15T16:01:11.817440Z",
     "shell.execute_reply": "2024-05-15T16:01:11.817195Z"
    },
    "papermill": {
     "duration": 0.008571,
     "end_time": "2024-05-15T16:01:11.818242",
     "exception": false,
     "start_time": "2024-05-15T16:01:11.809671",
     "status": "completed"
    },
    "tags": []
   },
   "source": [
    "import sys\n",
    "\n",
    "sys.path.insert(0, '..')"
   ],
   "outputs": []
  },
  {
   "cell_type": "markdown",
   "id": "5ede1ba5e0993dd1",
   "metadata": {
    "collapsed": false,
    "papermill": {
     "duration": 0.001967,
     "end_time": "2024-05-15T16:01:11.822510",
     "exception": false,
     "start_time": "2024-05-15T16:01:11.820543",
     "status": "completed"
    },
    "tags": []
   },
   "source": [
    "## Setup the model area"
   ]
  },
  {
   "cell_type": "code",
   "execution_count": 2,
   "id": "2f69504ab35487aa",
   "metadata": {
    "ExecuteTime": {
     "end_time": "2024-05-14T07:57:49.701701Z",
     "start_time": "2024-05-14T07:57:49.421863Z"
    },
    "collapsed": false,
    "execution": {
     "iopub.execute_input": "2024-05-15T16:01:11.827042Z",
     "iopub.status.busy": "2024-05-15T16:01:11.826915Z",
     "iopub.status.idle": "2024-05-15T16:01:11.959363Z",
     "shell.execute_reply": "2024-05-15T16:01:11.958624Z"
    },
    "papermill": {
     "duration": 0.137656,
     "end_time": "2024-05-15T16:01:11.962165",
     "exception": false,
     "start_time": "2024-05-15T16:01:11.824509",
     "status": "completed"
    },
    "tags": []
   },
   "source": [
    "from morpheus.project.types.discretization.spatial import ActiveCells\n",
    "from morpheus.project.types.discretization import SpatialDiscretization\n",
    "from morpheus.project.types.discretization.spatial import Rotation, LengthUnit, Grid, Crs\n",
    "from morpheus.project.types.geometry import Polygon, LineString\n",
    "\n",
    "polygon = Polygon(\n",
    "  type='Polygon',\n",
    "  coordinates=[[\n",
    "    (13.922514437551428, 50.964720483303836),\n",
    "    (13.925250781947113, 50.965228748412386),\n",
    "    (13.925036413951403, 50.96623732041704),\n",
    "    (13.92222441026388, 50.96629040370362),\n",
    "    (13.922514437551428, 50.964720483303836)\n",
    "  ]]\n",
    ")\n",
    "\n",
    "rotation = Rotation(0)\n",
    "length_unit = LengthUnit.meters()\n",
    "relative_col_coordinates = [0, 0.1, 0.2, 0.3, 0.4, 0.5, 0.6, 0.7, 0.8, 0.9, 1]\n",
    "relative_row_coordinates = [0, 0.1, 0.2, 0.3, 0.4, 0.5, 0.6, 0.7, 0.8, 0.9, 1]\n",
    "\n",
    "grid = Grid.from_polygon_with_relative_coordinates(\n",
    "  polygon=polygon,\n",
    "  relative_col_coordinates=relative_col_coordinates,\n",
    "  relative_row_coordinates=relative_row_coordinates,\n",
    "  rotation=rotation,\n",
    ")\n",
    "\n",
    "spatial_discretization = SpatialDiscretization(\n",
    "  geometry=polygon,\n",
    "  grid=grid,\n",
    "  affected_cells=ActiveCells.from_polygon(polygon=polygon, grid=grid),\n",
    "  crs=Crs.from_str('EPSG:4326')\n",
    ")\n",
    "\n",
    "spatial_discretization"
   ],
   "outputs": []
  },
  {
   "cell_type": "markdown",
   "id": "fa27e67f9d801845",
   "metadata": {
    "collapsed": false,
    "papermill": {
     "duration": 0.00245,
     "end_time": "2024-05-15T16:01:11.967337",
     "exception": false,
     "start_time": "2024-05-15T16:01:11.964887",
     "status": "completed"
    },
    "tags": []
   },
   "source": [
    "## Setup Time Discretization"
   ]
  },
  {
   "cell_type": "code",
   "execution_count": 3,
   "id": "8e4e63dd138db9fc",
   "metadata": {
    "ExecuteTime": {
     "end_time": "2024-05-14T07:57:49.713871Z",
     "start_time": "2024-05-14T07:57:49.708391Z"
    },
    "collapsed": false,
    "execution": {
     "iopub.execute_input": "2024-05-15T16:01:11.974727Z",
     "iopub.status.busy": "2024-05-15T16:01:11.974286Z",
     "iopub.status.idle": "2024-05-15T16:01:11.981517Z",
     "shell.execute_reply": "2024-05-15T16:01:11.980939Z"
    },
    "papermill": {
     "duration": 0.012878,
     "end_time": "2024-05-15T16:01:11.983314",
     "exception": false,
     "start_time": "2024-05-15T16:01:11.970436",
     "status": "completed"
    },
    "tags": []
   },
   "source": [
    "from morpheus.project.types.discretization.time.TimeUnit import TimeUnit\n",
    "from morpheus.project.types.discretization.time.Stressperiods import StartDateTime, StressPeriodCollection, \\\n",
    "  StressPeriod, NumberOfTimeSteps, TimeStepMultiplier, IsSteadyState\n",
    "from morpheus.project.types.discretization.time import TimeDiscretization\n",
    "from datetime import datetime\n",
    "\n",
    "time_discretization = TimeDiscretization(\n",
    "  start_date_time=StartDateTime.from_datetime(datetime(2020, 1, 1)),\n",
    "  end_date_time=StartDateTime.from_datetime(datetime(2020, 12, 31)),\n",
    "  stress_periods=StressPeriodCollection([\n",
    "    StressPeriod(\n",
    "      start_date_time=StartDateTime.from_datetime(datetime(2020, 1, 1)),\n",
    "      number_of_time_steps=NumberOfTimeSteps(1),\n",
    "      time_step_multiplier=TimeStepMultiplier(1),\n",
    "      steady_state=IsSteadyState.yes()\n",
    "    ),\n",
    "  ]),\n",
    "  time_unit=TimeUnit.days()\n",
    ")"
   ],
   "outputs": []
  },
  {
   "cell_type": "markdown",
   "id": "963ba8729f09fcec",
   "metadata": {
    "collapsed": false,
    "papermill": {
     "duration": 0.003406,
     "end_time": "2024-05-15T16:01:11.992269",
     "exception": false,
     "start_time": "2024-05-15T16:01:11.988863",
     "status": "completed"
    },
    "tags": []
   },
   "source": [
    "# Setup Model"
   ]
  },
  {
   "cell_type": "code",
   "execution_count": 4,
   "id": "1d5c9125b1b9360b",
   "metadata": {
    "ExecuteTime": {
     "end_time": "2024-05-14T07:57:50.177234Z",
     "start_time": "2024-05-14T07:57:49.715622Z"
    },
    "collapsed": false,
    "execution": {
     "iopub.execute_input": "2024-05-15T16:01:12.008918Z",
     "iopub.status.busy": "2024-05-15T16:01:12.008775Z",
     "iopub.status.idle": "2024-05-15T16:01:12.390767Z",
     "shell.execute_reply": "2024-05-15T16:01:12.390401Z"
    },
    "papermill": {
     "duration": 0.396706,
     "end_time": "2024-05-15T16:01:12.391843",
     "exception": false,
     "start_time": "2024-05-15T16:01:11.995137",
     "status": "completed"
    },
    "tags": []
   },
   "source": [
    "from morpheus.project.types.Model import Model\n",
    "\n",
    "model = Model.new()\n",
    "model = model.with_updated_time_discretization(time_discretization)\n",
    "model = model.with_updated_spatial_discretization(spatial_discretization=spatial_discretization)"
   ],
   "outputs": []
  },
  {
   "cell_type": "code",
   "execution_count": 5,
   "id": "1540b870ae83f298",
   "metadata": {
    "ExecuteTime": {
     "end_time": "2024-05-14T07:57:50.330240Z",
     "start_time": "2024-05-14T07:57:50.178763Z"
    },
    "collapsed": false,
    "execution": {
     "iopub.execute_input": "2024-05-15T16:01:12.396993Z",
     "iopub.status.busy": "2024-05-15T16:01:12.396805Z",
     "iopub.status.idle": "2024-05-15T16:01:12.524839Z",
     "shell.execute_reply": "2024-05-15T16:01:12.524552Z"
    },
    "papermill": {
     "duration": 0.131478,
     "end_time": "2024-05-15T16:01:12.525732",
     "exception": false,
     "start_time": "2024-05-15T16:01:12.394254",
     "status": "completed"
    },
    "tags": []
   },
   "source": [
    "import folium\n",
    "\n",
    "m = folium.Map(tiles=\"cartodbpositron\", crs=\"EPSG3857\", zoom_start=12, location=[50.965, 13.922])\n",
    "m.add_child(folium.GeoJson(polygon.as_geojson()))\n",
    "\n",
    "m.fit_bounds(m.get_bounds())\n",
    "m"
   ],
   "outputs": []
  },
  {
   "cell_type": "markdown",
   "id": "62ae3587df801000",
   "metadata": {
    "collapsed": false,
    "papermill": {
     "duration": 0.002196,
     "end_time": "2024-05-15T16:01:12.530352",
     "exception": false,
     "start_time": "2024-05-15T16:01:12.528156",
     "status": "completed"
    },
    "tags": []
   },
   "source": [
    "# Setup constant head boundary with 1 observation"
   ]
  },
  {
   "cell_type": "code",
   "execution_count": 6,
   "id": "53679913aee28ce9",
   "metadata": {
    "ExecuteTime": {
     "end_time": "2024-05-14T07:57:50.355617Z",
     "start_time": "2024-05-14T07:57:50.330955Z"
    },
    "collapsed": false,
    "execution": {
     "iopub.execute_input": "2024-05-15T16:01:12.535878Z",
     "iopub.status.busy": "2024-05-15T16:01:12.535587Z",
     "iopub.status.idle": "2024-05-15T16:01:12.558209Z",
     "shell.execute_reply": "2024-05-15T16:01:12.557903Z"
    },
    "papermill": {
     "duration": 0.026401,
     "end_time": "2024-05-15T16:01:12.559065",
     "exception": false,
     "start_time": "2024-05-15T16:01:12.532664",
     "status": "completed"
    },
    "tags": []
   },
   "source": [
    "from morpheus.project.types.boundaries.Observation import ObservationName\n",
    "from morpheus.project.types.boundaries.ConstantHeadObservation import ObservationId, HeadValue, ConstantHeadRawDataItem\n",
    "from morpheus.project.types.geometry import Point\n",
    "from morpheus.project.types.boundaries.Boundary import BoundaryName\n",
    "from morpheus.project.types.layers import LayerId\n",
    "from morpheus.project.types.boundaries.Boundary import ConstantHeadBoundary, ConstantHeadObservation\n",
    "\n",
    "layers_list = [LayerId.new()]\n",
    "constant_head = ConstantHeadBoundary.from_geometry(\n",
    "  name=BoundaryName('constant_head'),\n",
    "  geometry=LineString([\n",
    "    (13.9223, 50.9662),\n",
    "    (13.9250, 50.96615),\n",
    "  ]),\n",
    "  grid=grid,\n",
    "  affected_layers=[model.layers[0].layer_id],\n",
    "  observations=[\n",
    "    ConstantHeadObservation(\n",
    "      observation_id=ObservationId.new(),\n",
    "      observation_name=ObservationName.default(),\n",
    "      geometry=Point((13.9223, 50.9662)),\n",
    "      data=[\n",
    "        ConstantHeadRawDataItem(\n",
    "          date_time=StartDateTime.from_datetime(datetime(2019, 1, 1)),\n",
    "          head=HeadValue.from_float(100),\n",
    "        ),\n",
    "        ConstantHeadRawDataItem(\n",
    "          date_time=StartDateTime.from_datetime(datetime(2021, 12, 31)),\n",
    "          head=HeadValue.from_float(120),\n",
    "        ),\n",
    "      ]\n",
    "    )\n",
    "  ]\n",
    ")\n",
    "\n",
    "m.add_child(folium.GeoJson(constant_head.as_geojson()))\n",
    "m.add_child(folium.GeoJson(constant_head.affected_cells.to_geojson(grid).as_geojson()))\n",
    "for constant_head.observation in constant_head.observations:\n",
    "  m.add_child(folium.GeoJson(constant_head.observation.as_geojson()))\n",
    "m.fit_bounds(m.get_bounds())\n",
    "m"
   ],
   "outputs": []
  },
  {
   "cell_type": "code",
   "execution_count": 7,
   "id": "621e2265ae79b1ae",
   "metadata": {
    "ExecuteTime": {
     "end_time": "2024-05-14T07:57:50.368992Z",
     "start_time": "2024-05-14T07:57:50.365426Z"
    },
    "collapsed": false,
    "execution": {
     "iopub.execute_input": "2024-05-15T16:01:12.564462Z",
     "iopub.status.busy": "2024-05-15T16:01:12.564337Z",
     "iopub.status.idle": "2024-05-15T16:01:12.566224Z",
     "shell.execute_reply": "2024-05-15T16:01:12.565987Z"
    },
    "papermill": {
     "duration": 0.005468,
     "end_time": "2024-05-15T16:01:12.567004",
     "exception": false,
     "start_time": "2024-05-15T16:01:12.561536",
     "status": "completed"
    },
    "tags": []
   },
   "source": [
    "from morpheus.project.types.boundaries.Boundary import BoundaryCollection\n",
    "\n",
    "boundary_collection = BoundaryCollection.new()\n",
    "boundary_collection.add_boundary(constant_head)\n",
    "\n",
    "model = model.with_updated_boundaries(boundaries=boundary_collection)"
   ],
   "outputs": []
  },
  {
   "cell_type": "markdown",
   "id": "42d948d145a8457a",
   "metadata": {
    "collapsed": false,
    "papermill": {
     "duration": 0.002462,
     "end_time": "2024-05-15T16:01:12.572082",
     "exception": false,
     "start_time": "2024-05-15T16:01:12.569620",
     "status": "completed"
    },
    "tags": []
   },
   "source": [
    "## Calculate"
   ]
  },
  {
   "cell_type": "code",
   "execution_count": 8,
   "id": "56ccabee86e2397e",
   "metadata": {
    "ExecuteTime": {
     "end_time": "2024-05-14T07:57:51.258173Z",
     "start_time": "2024-05-14T07:57:50.370211Z"
    },
    "collapsed": false,
    "execution": {
     "iopub.execute_input": "2024-05-15T16:01:12.577310Z",
     "iopub.status.busy": "2024-05-15T16:01:12.577176Z",
     "iopub.status.idle": "2024-05-15T16:01:12.895114Z",
     "shell.execute_reply": "2024-05-15T16:01:12.894807Z"
    },
    "papermill": {
     "duration": 0.321843,
     "end_time": "2024-05-15T16:01:12.896211",
     "exception": false,
     "start_time": "2024-05-15T16:01:12.574368",
     "status": "completed"
    },
    "tags": []
   },
   "source": [
    "from morpheus.project.infrastructure.calculation.engines.modflow_2005.types.Mf2005CalculationEngineSettings import \\\n",
    "  Mf2005CalculationEngineSettings\n",
    "from morpheus.project.types.calculation.CalculationProfile import CalculationProfile, CalculationEngineType\n",
    "from morpheus.project.types.calculation.Calculation import Calculation\n",
    "\n",
    "calculation_engine_settings = Mf2005CalculationEngineSettings.default()\n",
    "calculation_profile = CalculationProfile.new(CalculationEngineType.MF2005)\n",
    "calculation = Calculation.new(model=model, calculation_profile=calculation_profile)"
   ],
   "outputs": []
  },
  {
   "cell_type": "code",
   "execution_count": 9,
   "id": "e09d94e0a94315cb",
   "metadata": {
    "ExecuteTime": {
     "end_time": "2024-05-14T07:57:51.263491Z",
     "start_time": "2024-05-14T07:57:51.259056Z"
    },
    "collapsed": false,
    "execution": {
     "iopub.execute_input": "2024-05-15T16:01:12.901872Z",
     "iopub.status.busy": "2024-05-15T16:01:12.901692Z",
     "iopub.status.idle": "2024-05-15T16:01:12.904737Z",
     "shell.execute_reply": "2024-05-15T16:01:12.904463Z"
    },
    "papermill": {
     "duration": 0.006811,
     "end_time": "2024-05-15T16:01:12.905695",
     "exception": false,
     "start_time": "2024-05-15T16:01:12.898884",
     "status": "completed"
    },
    "tags": []
   },
   "source": [
    "calculation = Calculation.from_dict(calculation.to_dict())\n",
    "calculation.calculation_id"
   ],
   "outputs": []
  },
  {
   "cell_type": "code",
   "execution_count": 10,
   "id": "672007fb90753c4c",
   "metadata": {
    "ExecuteTime": {
     "end_time": "2024-05-14T07:57:53.043779Z",
     "start_time": "2024-05-14T07:57:51.264204Z"
    },
    "collapsed": false,
    "execution": {
     "iopub.execute_input": "2024-05-15T16:01:12.911746Z",
     "iopub.status.busy": "2024-05-15T16:01:12.911589Z",
     "iopub.status.idle": "2024-05-15T16:01:13.369238Z",
     "shell.execute_reply": "2024-05-15T16:01:13.368922Z"
    },
    "papermill": {
     "duration": 0.46157,
     "end_time": "2024-05-15T16:01:13.370102",
     "exception": false,
     "start_time": "2024-05-15T16:01:12.908532",
     "status": "completed"
    },
    "tags": []
   },
   "source": [
    "from morpheus.project.infrastructure.calculation.services.CalculationService import CalculationService\n",
    "\n",
    "calculation_service = CalculationService.from_calculation(calculation)\n",
    "calculation_service.calculate()"
   ],
   "outputs": []
  },
  {
   "cell_type": "code",
   "execution_count": 11,
   "id": "beae154ec6b0a8f3",
   "metadata": {
    "ExecuteTime": {
     "end_time": "2024-05-14T07:57:53.089052Z",
     "start_time": "2024-05-14T07:57:53.085553Z"
    },
    "collapsed": false,
    "execution": {
     "iopub.execute_input": "2024-05-15T16:01:13.376074Z",
     "iopub.status.busy": "2024-05-15T16:01:13.375645Z",
     "iopub.status.idle": "2024-05-15T16:01:13.378290Z",
     "shell.execute_reply": "2024-05-15T16:01:13.378062Z"
    },
    "papermill": {
     "duration": 0.00632,
     "end_time": "2024-05-15T16:01:13.379119",
     "exception": false,
     "start_time": "2024-05-15T16:01:13.372799",
     "status": "completed"
    },
    "tags": []
   },
   "source": [
    "calculation_service.get_log()"
   ],
   "outputs": []
  },
  {
   "cell_type": "code",
   "execution_count": 12,
   "id": "a52d1dd3a1574032",
   "metadata": {
    "ExecuteTime": {
     "end_time": "2024-05-14T07:57:53.099944Z",
     "start_time": "2024-05-14T07:57:53.089942Z"
    },
    "collapsed": false,
    "execution": {
     "iopub.execute_input": "2024-05-15T16:01:13.384644Z",
     "iopub.status.busy": "2024-05-15T16:01:13.384508Z",
     "iopub.status.idle": "2024-05-15T16:01:13.386651Z",
     "shell.execute_reply": "2024-05-15T16:01:13.386415Z"
    },
    "papermill": {
     "duration": 0.005886,
     "end_time": "2024-05-15T16:01:13.387500",
     "exception": false,
     "start_time": "2024-05-15T16:01:13.381614",
     "status": "completed"
    },
    "tags": []
   },
   "source": [
    "calculation_service.get_result()"
   ],
   "outputs": []
  },
  {
   "cell_type": "code",
   "execution_count": 13,
   "id": "cc43ad077c7a81d0",
   "metadata": {
    "ExecuteTime": {
     "end_time": "2024-05-14T07:57:53.103082Z",
     "start_time": "2024-05-14T07:57:53.100576Z"
    },
    "collapsed": false,
    "execution": {
     "iopub.execute_input": "2024-05-15T16:01:13.393320Z",
     "iopub.status.busy": "2024-05-15T16:01:13.393204Z",
     "iopub.status.idle": "2024-05-15T16:01:13.395397Z",
     "shell.execute_reply": "2024-05-15T16:01:13.395163Z"
    },
    "papermill": {
     "duration": 0.005953,
     "end_time": "2024-05-15T16:01:13.396189",
     "exception": false,
     "start_time": "2024-05-15T16:01:13.390236",
     "status": "completed"
    },
    "tags": []
   },
   "source": [
    "head = calculation_service.read_head(0, 0)"
   ],
   "outputs": []
  },
  {
   "cell_type": "code",
   "execution_count": 14,
   "id": "12454cc4d9e18de5",
   "metadata": {
    "ExecuteTime": {
     "end_time": "2024-05-14T07:57:53.106172Z",
     "start_time": "2024-05-14T07:57:53.103654Z"
    },
    "collapsed": false,
    "execution": {
     "iopub.execute_input": "2024-05-15T16:01:13.401514Z",
     "iopub.status.busy": "2024-05-15T16:01:13.401406Z",
     "iopub.status.idle": "2024-05-15T16:01:13.403607Z",
     "shell.execute_reply": "2024-05-15T16:01:13.403375Z"
    },
    "papermill": {
     "duration": 0.005741,
     "end_time": "2024-05-15T16:01:13.404387",
     "exception": false,
     "start_time": "2024-05-15T16:01:13.398646",
     "status": "completed"
    },
    "tags": []
   },
   "source": [
    "import simplejson as json\n",
    "\n",
    "json = json.dumps(head, ignore_nan=True)\n",
    "json"
   ],
   "outputs": []
  },
  {
   "cell_type": "code",
   "execution_count": 15,
   "id": "df7dfd8ff0308815",
   "metadata": {
    "ExecuteTime": {
     "end_time": "2024-05-14T07:57:53.109204Z",
     "start_time": "2024-05-14T07:57:53.106742Z"
    },
    "collapsed": false,
    "execution": {
     "iopub.execute_input": "2024-05-15T16:01:13.410552Z",
     "iopub.status.busy": "2024-05-15T16:01:13.410428Z",
     "iopub.status.idle": "2024-05-15T16:01:13.412626Z",
     "shell.execute_reply": "2024-05-15T16:01:13.412411Z"
    },
    "papermill": {
     "duration": 0.006151,
     "end_time": "2024-05-15T16:01:13.413411",
     "exception": false,
     "start_time": "2024-05-15T16:01:13.407260",
     "status": "completed"
    },
    "tags": []
   },
   "source": [
    "calculation_service.read_drawdown(0, 0)"
   ],
   "outputs": []
  },
  {
   "cell_type": "code",
   "execution_count": 16,
   "id": "b233f4066b56c174",
   "metadata": {
    "ExecuteTime": {
     "end_time": "2024-05-14T07:57:53.113128Z",
     "start_time": "2024-05-14T07:57:53.109708Z"
    },
    "collapsed": false,
    "execution": {
     "iopub.execute_input": "2024-05-15T16:01:13.425166Z",
     "iopub.status.busy": "2024-05-15T16:01:13.425003Z",
     "iopub.status.idle": "2024-05-15T16:01:13.428187Z",
     "shell.execute_reply": "2024-05-15T16:01:13.427907Z"
    },
    "papermill": {
     "duration": 0.01117,
     "end_time": "2024-05-15T16:01:13.428922",
     "exception": false,
     "start_time": "2024-05-15T16:01:13.417752",
     "status": "completed"
    },
    "tags": []
   },
   "source": [
    "calculation_service.read_budget(0, False)"
   ],
   "outputs": []
  },
  {
   "cell_type": "code",
   "execution_count": 17,
   "id": "634709d741f5c252",
   "metadata": {
    "ExecuteTime": {
     "end_time": "2024-05-14T07:57:53.116914Z",
     "start_time": "2024-05-14T07:57:53.113616Z"
    },
    "collapsed": false,
    "execution": {
     "iopub.execute_input": "2024-05-15T16:01:13.435681Z",
     "iopub.status.busy": "2024-05-15T16:01:13.435569Z",
     "iopub.status.idle": "2024-05-15T16:01:13.438574Z",
     "shell.execute_reply": "2024-05-15T16:01:13.438360Z"
    },
    "papermill": {
     "duration": 0.006799,
     "end_time": "2024-05-15T16:01:13.439358",
     "exception": false,
     "start_time": "2024-05-15T16:01:13.432559",
     "status": "completed"
    },
    "tags": []
   },
   "source": [
    "calculation_service.read_budget(0, True)"
   ],
   "outputs": []
  },
  {
   "cell_type": "code",
   "execution_count": 18,
   "id": "26523066436690e6",
   "metadata": {
    "ExecuteTime": {
     "end_time": "2024-05-14T07:57:53.129334Z",
     "start_time": "2024-05-14T07:57:53.117458Z"
    },
    "collapsed": false,
    "execution": {
     "iopub.execute_input": "2024-05-15T16:01:13.445039Z",
     "iopub.status.busy": "2024-05-15T16:01:13.444925Z",
     "iopub.status.idle": "2024-05-15T16:01:13.446858Z",
     "shell.execute_reply": "2024-05-15T16:01:13.446646Z"
    },
    "papermill": {
     "duration": 0.005634,
     "end_time": "2024-05-15T16:01:13.447621",
     "exception": false,
     "start_time": "2024-05-15T16:01:13.441987",
     "status": "completed"
    },
    "tags": []
   },
   "source": [
    "calculation_service.get_result()"
   ],
   "outputs": []
  },
  {
   "cell_type": "code",
   "execution_count": null,
   "id": "424f9226809167f0",
   "metadata": {
    "ExecuteTime": {
     "end_time": "2024-05-14T07:57:53.133926Z",
     "start_time": "2024-05-14T07:57:53.130083Z"
    },
    "papermill": {
     "duration": 0.002631,
     "end_time": "2024-05-15T16:01:13.452965",
     "exception": false,
     "start_time": "2024-05-15T16:01:13.450334",
     "status": "completed"
    },
    "tags": []
   },
   "source": [],
   "outputs": []
  }
 ],
 "metadata": {
  "kernelspec": {
   "display_name": "Python 3",
   "language": "python",
   "name": "python3"
  },
  "language_info": {
   "codemirror_mode": {
    "name": "ipython",
    "version": 3
   },
   "file_extension": ".py",
   "mimetype": "text/x-python",
   "name": "python",
   "nbconvert_exporter": "python",
   "pygments_lexer": "ipython3",
   "version": "3.12.2"
  },
  "papermill": {
   "default_parameters": {},
   "duration": 3.052323,
   "end_time": "2024-05-15T16:01:14.176889",
   "environment_variables": {},
   "exception": null,
   "input_path": "./notebooks/Mf2005Calculation.ipynb",
   "output_path": "./notebooks/Mf2005Calculation.ipynb",
   "parameters": {},
   "start_time": "2024-05-15T16:01:11.124566",
   "version": "2.6.0"
  }
 },
 "nbformat": 4,
 "nbformat_minor": 5
}
