{
 "cells": [
  {
   "cell_type": "code",
   "execution_count": 1,
   "id": "b3fb70238ab7a654",
   "metadata": {
    "ExecuteTime": {
     "end_time": "2024-08-19T09:37:44.937503Z",
     "start_time": "2024-08-19T09:37:42.334678Z"
    },
    "execution": {
     "iopub.execute_input": "2024-08-19T20:01:48.117858Z",
     "iopub.status.busy": "2024-08-19T20:01:48.117264Z",
     "iopub.status.idle": "2024-08-19T20:01:50.057742Z",
     "shell.execute_reply": "2024-08-19T20:01:50.057455Z"
    },
    "papermill": {
     "duration": 1.945777,
     "end_time": "2024-08-19T20:01:50.058677",
     "exception": false,
     "start_time": "2024-08-19T20:01:48.112900",
     "status": "completed"
    },
    "tags": []
   },
   "outputs": [
    {
     "data": {
      "text/plain": [
       "'remove_project_member_command'"
      ]
     },
     "execution_count": 1,
     "metadata": {},
     "output_type": "execute_result"
    }
   ],
   "source": [
    "from morpheus.common.types.identity.Identity import UserId\n",
    "from morpheus.project.application.write.Project import RemoveProjectMemberCommand\n",
    "\n",
    "user_id = UserId.new()\n",
    "\n",
    "command = RemoveProjectMemberCommand.from_payload(\n",
    "  user_id,\n",
    "  dict(\n",
    "    project_id=\"1\",\n",
    "    member_id=\"2\"\n",
    "  )\n",
    ")\n",
    "command.command_name()"
   ]
  },
  {
   "cell_type": "code",
   "execution_count": 2,
   "id": "c89989f2383a46a9",
   "metadata": {
    "ExecuteTime": {
     "end_time": "2024-08-19T09:37:44.941677Z",
     "start_time": "2024-08-19T09:37:44.938776Z"
    },
    "collapsed": false,
    "execution": {
     "iopub.execute_input": "2024-08-19T20:01:50.061224Z",
     "iopub.status.busy": "2024-08-19T20:01:50.060856Z",
     "iopub.status.idle": "2024-08-19T20:01:50.062998Z",
     "shell.execute_reply": "2024-08-19T20:01:50.062699Z"
    },
    "papermill": {
     "duration": 0.004157,
     "end_time": "2024-08-19T20:01:50.063830",
     "exception": false,
     "start_time": "2024-08-19T20:01:50.059673",
     "status": "completed"
    },
    "tags": []
   },
   "outputs": [],
   "source": [
    "# Expected output of command name is the class name in snake case\n",
    "import inflection\n",
    "assert command.command_name() == inflection.underscore(RemoveProjectMemberCommand.__name__)"
   ]
  },
  {
   "cell_type": "code",
   "execution_count": null,
   "id": "2aab0ef4c4f5aaa9",
   "metadata": {
    "ExecuteTime": {
     "end_time": "2024-08-19T09:37:44.946795Z",
     "start_time": "2024-08-19T09:37:44.942662Z"
    },
    "papermill": {
     "duration": 0.000569,
     "end_time": "2024-08-19T20:01:50.065153",
     "exception": false,
     "start_time": "2024-08-19T20:01:50.064584",
     "status": "completed"
    },
    "tags": []
   },
   "outputs": [],
   "source": []
  }
 ],
 "metadata": {
  "kernelspec": {
   "display_name": "Python 3",
   "language": "python",
   "name": "python3"
  },
  "language_info": {
   "codemirror_mode": {
    "name": "ipython",
    "version": 3
   },
   "file_extension": ".py",
   "mimetype": "text/x-python",
   "name": "python",
   "nbconvert_exporter": "python",
   "pygments_lexer": "ipython3",
   "version": "3.12.2"
  },
  "papermill": {
   "default_parameters": {},
   "duration": 5.498068,
   "end_time": "2024-08-19T20:01:52.684541",
   "environment_variables": {},
   "exception": null,
   "input_path": "./notebooks/CommandClasses.ipynb",
   "output_path": "./notebooks/CommandClasses.ipynb",
   "parameters": {},
   "start_time": "2024-08-19T20:01:47.186473",
   "version": "2.6.0"
  }
 },
 "nbformat": 4,
 "nbformat_minor": 5
}