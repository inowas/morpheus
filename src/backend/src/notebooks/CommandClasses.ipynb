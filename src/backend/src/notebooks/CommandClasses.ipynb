{
 "cells": [
  {
   "cell_type": "code",
   "outputs": [
    {
     "data": {
      "text/plain": "'remove_member_command'"
     },
     "execution_count": 1,
     "metadata": {},
     "output_type": "execute_result"
    }
   ],
   "source": [
    "from morpheus.project.types.User import UserId\n",
    "from morpheus.project.application.write.Permission.RemoveMember import RemoveMemberCommand\n",
    "\n",
    "user_id = UserId.new()\n",
    "\n",
    "command = RemoveMemberCommand.from_payload(\n",
    "  user_id,\n",
    "  dict(\n",
    "    project_id=\"1\",\n",
    "    member_id=\"2\"\n",
    "  )\n",
    ")\n",
    "command.command_name()"
   ],
   "metadata": {
    "collapsed": false,
    "ExecuteTime": {
     "end_time": "2024-04-03T08:35:59.454407Z",
     "start_time": "2024-04-03T08:35:57.864605Z"
    }
   },
   "id": "bc9707d285689b01",
   "execution_count": 1
  },
  {
   "cell_type": "code",
   "outputs": [],
   "source": [
    "# Expected output of command name is the class name in snake case\n",
    "import inflection\n",
    "assert command.command_name() == inflection.underscore(RemoveMemberCommand.__name__)"
   ],
   "metadata": {
    "collapsed": false,
    "ExecuteTime": {
     "end_time": "2024-04-03T08:35:59.457923Z",
     "start_time": "2024-04-03T08:35:59.455568Z"
    }
   },
   "id": "c89989f2383a46a9",
   "execution_count": 2
  }
 ],
 "metadata": {
  "kernelspec": {
   "display_name": "Python 3",
   "language": "python",
   "name": "python3"
  },
  "language_info": {
   "codemirror_mode": {
    "name": "ipython",
    "version": 2
   },
   "file_extension": ".py",
   "mimetype": "text/x-python",
   "name": "python",
   "nbconvert_exporter": "python",
   "pygments_lexer": "ipython2",
   "version": "2.7.6"
  }
 },
 "nbformat": 4,
 "nbformat_minor": 5
}
