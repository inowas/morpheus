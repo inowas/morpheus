{
 "cells": [
  {
   "cell_type": "code",
   "execution_count": 1,
   "id": "b3fb70238ab7a654",
   "metadata": {
    "execution": {
     "iopub.execute_input": "2024-06-20T19:01:38.360966Z",
     "iopub.status.busy": "2024-06-20T19:01:38.360526Z",
     "iopub.status.idle": "2024-06-20T19:01:39.855938Z",
     "shell.execute_reply": "2024-06-20T19:01:39.855605Z"
    },
    "papermill": {
     "duration": 1.50096,
     "end_time": "2024-06-20T19:01:39.856942",
     "exception": false,
     "start_time": "2024-06-20T19:01:38.355982",
     "status": "completed"
    },
    "tags": []
   },
   "outputs": [
    {
     "data": {
      "text/plain": [
       "'remove_project_member_command'"
      ]
     },
     "execution_count": 1,
     "metadata": {},
     "output_type": "execute_result"
    }
   ],
   "source": [
    "from morpheus.common.types.identity.Identity import UserId\n",
    "from morpheus.project.application.write.Project import RemoveProjectMemberCommand\n",
    "\n",
    "user_id = UserId.new()\n",
    "\n",
    "command = RemoveProjectMemberCommand.from_payload(\n",
    "  user_id,\n",
    "  dict(\n",
    "    project_id=\"1\",\n",
    "    member_id=\"2\"\n",
    "  )\n",
    ")\n",
    "command.command_name()"
   ]
  },
  {
   "cell_type": "code",
   "execution_count": 2,
   "id": "c89989f2383a46a9",
   "metadata": {
    "ExecuteTime": {
     "end_time": "2024-05-14T07:54:23.476129Z",
     "start_time": "2024-05-14T07:54:23.473782Z"
    },
    "collapsed": false,
    "execution": {
     "iopub.execute_input": "2024-06-20T19:01:39.859757Z",
     "iopub.status.busy": "2024-06-20T19:01:39.859343Z",
     "iopub.status.idle": "2024-06-20T19:01:39.861578Z",
     "shell.execute_reply": "2024-06-20T19:01:39.861328Z"
    },
    "papermill": {
     "duration": 0.004457,
     "end_time": "2024-06-20T19:01:39.862505",
     "exception": false,
     "start_time": "2024-06-20T19:01:39.858048",
     "status": "completed"
    },
    "tags": []
   },
   "outputs": [],
   "source": [
    "# Expected output of command name is the class name in snake case\n",
    "import inflection\n",
    "assert command.command_name() == inflection.underscore(RemoveProjectMemberCommand.__name__)"
   ]
  },
  {
   "cell_type": "code",
   "execution_count": null,
   "id": "2aab0ef4c4f5aaa9",
   "metadata": {
    "ExecuteTime": {
     "end_time": "2024-05-14T07:54:23.478231Z",
     "start_time": "2024-05-14T07:54:23.476700Z"
    },
    "papermill": {
     "duration": 5.87E-4,
     "end_time": "2024-06-20T19:01:39.863903",
     "exception": false,
     "start_time": "2024-06-20T19:01:39.863316",
     "status": "completed"
    },
    "tags": []
   },
   "outputs": [],
   "source": []
  }
 ],
 "metadata": {
  "kernelspec": {
   "display_name": "Python 3",
   "language": "python",
   "name": "python3"
  },
  "language_info": {
   "codemirror_mode": {
    "name": "ipython",
    "version": 3
   },
   "file_extension": ".py",
   "mimetype": "text/x-python",
   "name": "python",
   "nbconvert_exporter": "python",
   "pygments_lexer": "ipython3",
   "version": "3.12.2"
  },
  "papermill": {
   "default_parameters": {},
   "duration": 4.966523,
   "end_time": "2024-06-20T19:01:42.484449",
   "environment_variables": {},
   "exception": null,
   "input_path": "./notebooks/CommandClasses.ipynb",
   "output_path": "./notebooks/CommandClasses.ipynb",
   "parameters": {},
   "start_time": "2024-06-20T19:01:37.517926",
   "version": "2.6.0"
  }
 },
 "nbformat": 4,
 "nbformat_minor": 5
}
