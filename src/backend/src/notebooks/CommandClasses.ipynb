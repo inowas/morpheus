{
 "cells": [
  {
   "cell_type": "code",
   "execution_count": 1,
   "id": "b3fb70238ab7a654",
   "metadata": {
    "execution": {
     "iopub.execute_input": "2024-06-19T07:34:37.875365Z",
     "iopub.status.busy": "2024-06-19T07:34:37.874592Z",
     "iopub.status.idle": "2024-06-19T07:34:39.371752Z",
     "shell.execute_reply": "2024-06-19T07:34:39.370825Z"
    },
    "papermill": {
     "duration": 1.506702,
     "end_time": "2024-06-19T07:34:39.372898",
     "exception": false,
     "start_time": "2024-06-19T07:34:37.866196",
     "status": "completed"
    },
    "tags": []
   },
   "outputs": [
    {
     "data": {
      "text/plain": [
       "'remove_project_member_command'"
      ]
     },
     "execution_count": 1,
     "metadata": {},
     "output_type": "execute_result"
    }
   ],
   "source": [
    "from morpheus.project.types.User import UserId\n",
    "from morpheus.project.application.write.Project import RemoveProjectMemberCommand\n",
    "\n",
    "user_id = UserId.new()\n",
    "\n",
    "command = RemoveProjectMemberCommand.from_payload(\n",
    "  user_id,\n",
    "  dict(\n",
    "    project_id=\"1\",\n",
    "    member_id=\"2\"\n",
    "  )\n",
    ")\n",
    "command.command_name()"
   ]
  },
  {
   "cell_type": "code",
   "execution_count": 2,
   "id": "c89989f2383a46a9",
   "metadata": {
    "ExecuteTime": {
     "end_time": "2024-05-14T07:54:23.476129Z",
     "start_time": "2024-05-14T07:54:23.473782Z"
    },
    "collapsed": false,
    "execution": {
     "iopub.execute_input": "2024-06-19T07:34:39.375560Z",
     "iopub.status.busy": "2024-06-19T07:34:39.375198Z",
     "iopub.status.idle": "2024-06-19T07:34:39.377440Z",
     "shell.execute_reply": "2024-06-19T07:34:39.377195Z"
    },
    "papermill": {
     "duration": 0.004114,
     "end_time": "2024-06-19T07:34:39.378224",
     "exception": false,
     "start_time": "2024-06-19T07:34:39.374110",
     "status": "completed"
    },
    "tags": []
   },
   "outputs": [],
   "source": [
    "# Expected output of command name is the class name in snake case\n",
    "import inflection\n",
    "assert command.command_name() == inflection.underscore(RemoveProjectMemberCommand.__name__)"
   ]
  },
  {
   "cell_type": "code",
   "execution_count": null,
   "id": "2aab0ef4c4f5aaa9",
   "metadata": {
    "ExecuteTime": {
     "end_time": "2024-05-14T07:54:23.478231Z",
     "start_time": "2024-05-14T07:54:23.476700Z"
    },
    "papermill": {
     "duration": 0.000556,
     "end_time": "2024-06-19T07:34:39.379452",
     "exception": false,
     "start_time": "2024-06-19T07:34:39.378896",
     "status": "completed"
    },
    "tags": []
   },
   "outputs": [],
   "source": []
  }
 ],
 "metadata": {
  "kernelspec": {
   "display_name": "Python 3",
   "language": "python",
   "name": "python3"
  },
  "language_info": {
   "codemirror_mode": {
    "name": "ipython",
    "version": 3
   },
   "file_extension": ".py",
   "mimetype": "text/x-python",
   "name": "python",
   "nbconvert_exporter": "python",
   "pygments_lexer": "ipython3",
   "version": "3.12.2"
  },
  "papermill": {
   "default_parameters": {},
   "duration": 5.003231,
   "end_time": "2024-06-19T07:34:41.999324",
   "environment_variables": {},
   "exception": null,
   "input_path": "./notebooks/CommandClasses.ipynb",
   "output_path": "./notebooks/CommandClasses.ipynb",
   "parameters": {},
   "start_time": "2024-06-19T07:34:36.996093",
   "version": "2.6.0"
  }
 },
 "nbformat": 4,
 "nbformat_minor": 5
}