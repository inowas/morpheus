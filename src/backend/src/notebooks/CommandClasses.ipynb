{
 "cells": [
  {
   "cell_type": "code",
   "execution_count": 1,
   "id": "b3fb70238ab7a654",
   "metadata": {
    "execution": {
     "iopub.execute_input": "2024-06-17T21:06:05.215592Z",
     "iopub.status.busy": "2024-06-17T21:06:05.214707Z",
     "iopub.status.idle": "2024-06-17T21:06:06.684374Z",
     "shell.execute_reply": "2024-06-17T21:06:06.684122Z"
    },
    "papermill": {
     "duration": 1.481173,
     "end_time": "2024-06-17T21:06:06.685243",
     "exception": false,
     "start_time": "2024-06-17T21:06:05.204070",
     "status": "completed"
    },
    "tags": []
   },
   "outputs": [
    {
     "data": {
      "text/plain": [
       "'remove_project_member_command'"
      ]
     },
     "execution_count": 1,
     "metadata": {},
     "output_type": "execute_result"
    }
   ],
   "source": [
    "from morpheus.project.types.User import UserId\n",
    "from morpheus.project.application.write.Project import RemoveProjectMemberCommand\n",
    "\n",
    "user_id = UserId.new()\n",
    "\n",
    "command = RemoveProjectMemberCommand.from_payload(\n",
    "  user_id,\n",
    "  dict(\n",
    "    project_id=\"1\",\n",
    "    member_id=\"2\"\n",
    "  )\n",
    ")\n",
    "command.command_name()"
   ]
  },
  {
   "cell_type": "code",
   "execution_count": 2,
   "id": "c89989f2383a46a9",
   "metadata": {
    "ExecuteTime": {
     "end_time": "2024-05-14T07:54:23.476129Z",
     "start_time": "2024-05-14T07:54:23.473782Z"
    },
    "collapsed": false,
    "execution": {
     "iopub.execute_input": "2024-06-17T21:06:06.687647Z",
     "iopub.status.busy": "2024-06-17T21:06:06.687430Z",
     "iopub.status.idle": "2024-06-17T21:06:06.689183Z",
     "shell.execute_reply": "2024-06-17T21:06:06.688945Z"
    },
    "papermill": {
     "duration": 0.003551,
     "end_time": "2024-06-17T21:06:06.689959",
     "exception": false,
     "start_time": "2024-06-17T21:06:06.686408",
     "status": "completed"
    },
    "tags": []
   },
   "outputs": [],
   "source": [
    "# Expected output of command name is the class name in snake case\n",
    "import inflection\n",
    "assert command.command_name() == inflection.underscore(RemoveProjectMemberCommand.__name__)"
   ]
  },
  {
   "cell_type": "code",
   "execution_count": null,
   "id": "2aab0ef4c4f5aaa9",
   "metadata": {
    "ExecuteTime": {
     "end_time": "2024-05-14T07:54:23.478231Z",
     "start_time": "2024-05-14T07:54:23.476700Z"
    },
    "papermill": {
     "duration": 0.000521,
     "end_time": "2024-06-17T21:06:06.691033",
     "exception": false,
     "start_time": "2024-06-17T21:06:06.690512",
     "status": "completed"
    },
    "tags": []
   },
   "outputs": [],
   "source": []
  }
 ],
 "metadata": {
  "kernelspec": {
   "display_name": "Python 3",
   "language": "python",
   "name": "python3"
  },
  "language_info": {
   "codemirror_mode": {
    "name": "ipython",
    "version": 3
   },
   "file_extension": ".py",
   "mimetype": "text/x-python",
   "name": "python",
   "nbconvert_exporter": "python",
   "pygments_lexer": "ipython3",
   "version": "3.12.2"
  },
  "papermill": {
   "default_parameters": {},
   "duration": 5.006354,
   "end_time": "2024-06-17T21:06:09.316039",
   "environment_variables": {},
   "exception": null,
   "input_path": "./notebooks/CommandClasses.ipynb",
   "output_path": "./notebooks/CommandClasses.ipynb",
   "parameters": {},
   "start_time": "2024-06-17T21:06:04.309685",
   "version": "2.6.0"
  }
 },
 "nbformat": 4,
 "nbformat_minor": 5
}