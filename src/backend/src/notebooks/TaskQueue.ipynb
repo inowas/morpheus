{
 "cells": [
  {
   "cell_type": "code",
   "execution_count": 1,
   "outputs": [
    {
     "data": {
      "text/plain": "CalculationId(value='a01602a8-d7c1-4afe-898a-d482d1b05a2e')"
     },
     "execution_count": 1,
     "metadata": {},
     "output_type": "execute_result"
    }
   ],
   "source": [
    "from morpheus.modflow.infrastructure.calculation.modflow_2005.types.Calculation import CalculationId\n",
    "\n",
    "calculation_id = CalculationId.new()\n",
    "calculation_id"
   ],
   "metadata": {
    "collapsed": false,
    "ExecuteTime": {
     "end_time": "2023-12-06T14:56:57.515751Z",
     "start_time": "2023-12-06T14:56:56.532729Z"
    }
   },
   "id": "c41af46359405f1d"
  },
  {
   "cell_type": "code",
   "execution_count": 2,
   "outputs": [
    {
     "data": {
      "text/plain": "{'id': 'af52b781-45e6-43c1-b607-a1e061e1eb2e', 'state': 'PENDING'}"
     },
     "execution_count": 2,
     "metadata": {},
     "output_type": "execute_result"
    }
   ],
   "source": [
    "from morpheus.modflow.tasks import calculate_modflow_model_by_id\n",
    "\n",
    "result = calculate_modflow_model_by_id.delay(calculation_id=CalculationId.new().to_str())\n",
    "result_state = result.state\n",
    "result_id = result.id\n",
    "{'id': result_id, 'state': result_state}"
   ],
   "metadata": {
    "collapsed": false,
    "ExecuteTime": {
     "end_time": "2023-12-06T14:56:57.917502Z",
     "start_time": "2023-12-06T14:56:57.517019Z"
    }
   },
   "id": "ba6761fae9d5e5cb"
  },
  {
   "cell_type": "code",
   "execution_count": 3,
   "outputs": [
    {
     "data": {
      "text/plain": "{'id': 'af52b781-45e6-43c1-b607-a1e061e1eb2e',\n 'state': 'SUCCESS',\n 'ready': True,\n 'successful': True,\n 'value': 'e4e1366d-bbcb-4fef-9029-a218cb5754bc'}"
     },
     "execution_count": 3,
     "metadata": {},
     "output_type": "execute_result"
    }
   ],
   "source": [
    "from celery.result import AsyncResult\n",
    "\n",
    "result = AsyncResult(id=result_id)\n",
    "{\n",
    "  'id': result.id,\n",
    "  'state': result.state,\n",
    "  'ready': result.ready(),\n",
    "  'successful': result.successful(),\n",
    "  'value': result.result if result.ready() else None,\n",
    "}"
   ],
   "metadata": {
    "collapsed": false,
    "ExecuteTime": {
     "end_time": "2023-12-06T14:56:57.925626Z",
     "start_time": "2023-12-06T14:56:57.916949Z"
    }
   },
   "id": "77dadb2a38f7fa54"
  }
 ],
 "metadata": {
  "kernelspec": {
   "display_name": "Python 3",
   "language": "python",
   "name": "python3"
  },
  "language_info": {
   "codemirror_mode": {
    "name": "ipython",
    "version": 2
   },
   "file_extension": ".py",
   "mimetype": "text/x-python",
   "name": "python",
   "nbconvert_exporter": "python",
   "pygments_lexer": "ipython2",
   "version": "2.7.6"
  }
 },
 "nbformat": 4,
 "nbformat_minor": 5
}
