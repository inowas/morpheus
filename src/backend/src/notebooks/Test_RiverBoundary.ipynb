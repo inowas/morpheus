{
 "cells": [
  {
   "cell_type": "code",
   "execution_count": 1,
   "id": "ba6761fae9d5e5cb",
   "metadata": {
    "ExecuteTime": {
     "end_time": "2024-05-14T08:13:34.893848Z",
     "start_time": "2024-05-14T08:13:34.890858Z"
    },
    "collapsed": false,
    "execution": {
     "iopub.execute_input": "2024-05-15T16:01:14.786597Z",
     "iopub.status.busy": "2024-05-15T16:01:14.786284Z",
     "iopub.status.idle": "2024-05-15T16:01:14.790593Z",
     "shell.execute_reply": "2024-05-15T16:01:14.790118Z"
    },
    "papermill": {
     "duration": 0.014657,
     "end_time": "2024-05-15T16:01:14.792231",
     "exception": false,
     "start_time": "2024-05-15T16:01:14.777574",
     "status": "completed"
    },
    "tags": []
   },
   "source": [
    "import sys\n",
    "\n",
    "sys.path.insert(0, '..')"
   ],
   "outputs": []
  },
  {
   "cell_type": "markdown",
   "id": "5ede1ba5e0993dd1",
   "metadata": {
    "collapsed": false,
    "papermill": {
     "duration": 0.004017,
     "end_time": "2024-05-15T16:01:14.801594",
     "exception": false,
     "start_time": "2024-05-15T16:01:14.797577",
     "status": "completed"
    },
    "tags": []
   },
   "source": [
    "## Setup the model area"
   ]
  },
  {
   "cell_type": "code",
   "execution_count": 2,
   "id": "2f69504ab35487aa",
   "metadata": {
    "ExecuteTime": {
     "end_time": "2024-05-14T08:13:35.505671Z",
     "start_time": "2024-05-14T08:13:34.894928Z"
    },
    "collapsed": false,
    "execution": {
     "iopub.execute_input": "2024-05-15T16:01:14.810556Z",
     "iopub.status.busy": "2024-05-15T16:01:14.810224Z",
     "iopub.status.idle": "2024-05-15T16:01:15.512727Z",
     "shell.execute_reply": "2024-05-15T16:01:15.512268Z"
    },
    "papermill": {
     "duration": 0.708681,
     "end_time": "2024-05-15T16:01:15.514222",
     "exception": false,
     "start_time": "2024-05-15T16:01:14.805541",
     "status": "completed"
    },
    "tags": []
   },
   "source": [
    "from morpheus.project.types.discretization import SpatialDiscretization\n",
    "from morpheus.project.types.discretization.spatial import Rotation, Grid, Crs\n",
    "from morpheus.project.types.geometry import Polygon, LineString\n",
    "\n",
    "polygon = Polygon(\n",
    "  type='Polygon',\n",
    "  coordinates=[[\n",
    "    (13.92, 50.964),\n",
    "    (13.92, 50.966),\n",
    "    (13.925, 50.966),\n",
    "    (13.925, 50.964),\n",
    "    (13.92, 50.964)\n",
    "  ]]\n",
    ")\n",
    "\n",
    "rotation = Rotation(0)\n",
    "\n",
    "grid = Grid.cartesian_from_polygon(polygon=polygon, n_cols=100, n_rows=50, rotation=rotation)\n",
    "spatial_discretization = SpatialDiscretization.from_geometry_with_grid(\n",
    "  geometry=polygon,\n",
    "  grid=grid,\n",
    "  crs=Crs.from_str('EPSG:4326')\n",
    ")"
   ],
   "outputs": []
  },
  {
   "cell_type": "markdown",
   "id": "fa27e67f9d801845",
   "metadata": {
    "collapsed": false,
    "papermill": {
     "duration": 0.002398,
     "end_time": "2024-05-15T16:01:15.519367",
     "exception": false,
     "start_time": "2024-05-15T16:01:15.516969",
     "status": "completed"
    },
    "tags": []
   },
   "source": [
    "## Setup Time Discretization"
   ]
  },
  {
   "cell_type": "code",
   "execution_count": 3,
   "id": "8e4e63dd138db9fc",
   "metadata": {
    "ExecuteTime": {
     "end_time": "2024-05-14T08:13:35.508752Z",
     "start_time": "2024-05-14T08:13:35.506292Z"
    },
    "collapsed": false,
    "execution": {
     "iopub.execute_input": "2024-05-15T16:01:15.525268Z",
     "iopub.status.busy": "2024-05-15T16:01:15.525058Z",
     "iopub.status.idle": "2024-05-15T16:01:15.528152Z",
     "shell.execute_reply": "2024-05-15T16:01:15.527828Z"
    },
    "papermill": {
     "duration": 0.00726,
     "end_time": "2024-05-15T16:01:15.529071",
     "exception": false,
     "start_time": "2024-05-15T16:01:15.521811",
     "status": "completed"
    },
    "tags": []
   },
   "source": [
    "from morpheus.project.types.discretization.time.TimeUnit import TimeUnit\n",
    "from morpheus.project.types.discretization.time.Stressperiods import StartDateTime, StressPeriodCollection, \\\n",
    "  StressPeriod, NumberOfTimeSteps, TimeStepMultiplier, IsSteadyState\n",
    "from morpheus.project.types.discretization.time import TimeDiscretization\n",
    "from datetime import datetime\n",
    "\n",
    "time_discretization = TimeDiscretization(\n",
    "  start_date_time=StartDateTime.from_datetime(datetime(2020, 1, 1)),\n",
    "  end_date_time=StartDateTime.from_datetime(datetime(2020, 12, 31)),\n",
    "  stress_periods=StressPeriodCollection([\n",
    "    StressPeriod(\n",
    "      start_date_time=StartDateTime.from_datetime(datetime(2020, 1, 1)),\n",
    "      number_of_time_steps=NumberOfTimeSteps(1),\n",
    "      time_step_multiplier=TimeStepMultiplier(1),\n",
    "      steady_state=IsSteadyState.yes()\n",
    "    ),\n",
    "  ]),\n",
    "  time_unit=TimeUnit.days()\n",
    ")"
   ],
   "outputs": []
  },
  {
   "cell_type": "markdown",
   "id": "963ba8729f09fcec",
   "metadata": {
    "collapsed": false,
    "papermill": {
     "duration": 0.002684,
     "end_time": "2024-05-15T16:01:15.534333",
     "exception": false,
     "start_time": "2024-05-15T16:01:15.531649",
     "status": "completed"
    },
    "tags": []
   },
   "source": [
    "# Setup Model"
   ]
  },
  {
   "cell_type": "code",
   "execution_count": 4,
   "id": "1d5c9125b1b9360b",
   "metadata": {
    "ExecuteTime": {
     "end_time": "2024-05-14T08:13:35.924414Z",
     "start_time": "2024-05-14T08:13:35.509312Z"
    },
    "collapsed": false,
    "execution": {
     "iopub.execute_input": "2024-05-15T16:01:15.541862Z",
     "iopub.status.busy": "2024-05-15T16:01:15.541653Z",
     "iopub.status.idle": "2024-05-15T16:01:16.037957Z",
     "shell.execute_reply": "2024-05-15T16:01:16.037366Z"
    },
    "papermill": {
     "duration": 0.507402,
     "end_time": "2024-05-15T16:01:16.045105",
     "exception": false,
     "start_time": "2024-05-15T16:01:15.537703",
     "status": "completed"
    },
    "tags": []
   },
   "source": [
    "from morpheus.project.types.Model import Model\n",
    "\n",
    "model = Model.new()\n",
    "model = model.with_updated_time_discretization(time_discretization)\n",
    "model = model.with_updated_spatial_discretization(spatial_discretization=spatial_discretization)"
   ],
   "outputs": []
  },
  {
   "cell_type": "code",
   "execution_count": 5,
   "id": "1540b870ae83f298",
   "metadata": {
    "ExecuteTime": {
     "end_time": "2024-05-14T08:13:36.104767Z",
     "start_time": "2024-05-14T08:13:35.926048Z"
    },
    "collapsed": false,
    "execution": {
     "iopub.execute_input": "2024-05-15T16:01:16.078699Z",
     "iopub.status.busy": "2024-05-15T16:01:16.076911Z",
     "iopub.status.idle": "2024-05-15T16:01:16.579894Z",
     "shell.execute_reply": "2024-05-15T16:01:16.579536Z"
    },
    "papermill": {
     "duration": 0.523889,
     "end_time": "2024-05-15T16:01:16.581736",
     "exception": false,
     "start_time": "2024-05-15T16:01:16.057847",
     "status": "completed"
    },
    "tags": []
   },
   "source": [
    "import folium\n",
    "\n",
    "m = folium.Map(tiles=\"cartodbpositron\", crs=\"EPSG3857\", zoom_start=12, location=[50.965, 13.922])\n",
    "m.add_child(folium.GeoJson(polygon.as_geojson()))\n",
    "\n",
    "m.fit_bounds(m.get_bounds())\n",
    "m"
   ],
   "outputs": []
  },
  {
   "cell_type": "markdown",
   "id": "62ae3587df801000",
   "metadata": {
    "collapsed": false,
    "papermill": {
     "duration": 0.002727,
     "end_time": "2024-05-15T16:01:16.588020",
     "exception": false,
     "start_time": "2024-05-15T16:01:16.585293",
     "status": "completed"
    },
    "tags": []
   },
   "source": [
    "# Setup constant head boundary with two observations"
   ]
  },
  {
   "cell_type": "code",
   "execution_count": 6,
   "id": "53679913aee28ce9",
   "metadata": {
    "ExecuteTime": {
     "end_time": "2024-05-14T08:13:36.418626Z",
     "start_time": "2024-05-14T08:13:36.105470Z"
    },
    "collapsed": false,
    "execution": {
     "iopub.execute_input": "2024-05-15T16:01:16.594262Z",
     "iopub.status.busy": "2024-05-15T16:01:16.593594Z",
     "iopub.status.idle": "2024-05-15T16:01:16.953845Z",
     "shell.execute_reply": "2024-05-15T16:01:16.953465Z"
    },
    "papermill": {
     "duration": 0.364483,
     "end_time": "2024-05-15T16:01:16.954917",
     "exception": false,
     "start_time": "2024-05-15T16:01:16.590434",
     "status": "completed"
    },
    "tags": []
   },
   "source": [
    "from morpheus.project.types.boundaries.Observation import ObservationName\n",
    "from morpheus.project.types.boundaries.RiverObservation import ObservationId, Conductance, RiverRawDataItem, RiverStage, \\\n",
    "  RiverbedBottom, RiverObservation\n",
    "from morpheus.project.types.geometry import Point\n",
    "from morpheus.project.types.boundaries.Boundary import BoundaryName, BoundaryCollection, RiverBoundary\n",
    "from morpheus.project.types.layers import LayerId\n",
    "\n",
    "layers_list = [LayerId.new()]\n",
    "\n",
    "river_boundary = RiverBoundary.from_geometry(\n",
    "  name=BoundaryName('river'),\n",
    "  geometry=LineString([\n",
    "    (13.92004, 50.96401),\n",
    "    (13.92499, 50.966),\n",
    "  ]),\n",
    "  grid=grid,\n",
    "  affected_layers=[model.layers[0].layer_id],\n",
    "  observations=[\n",
    "    RiverObservation(\n",
    "      observation_id=ObservationId.new(),\n",
    "      observation_name=ObservationName.default(),\n",
    "      geometry=Point((13.92499, 50.966)),\n",
    "      data=[\n",
    "        RiverRawDataItem(\n",
    "          date_time=StartDateTime.from_datetime(datetime(2019, 1, 1)),\n",
    "          riverbed_bottom=RiverbedBottom.from_float(100),\n",
    "          river_stage=RiverStage.from_float(105),\n",
    "          conductance=Conductance.from_float(50),\n",
    "        ),\n",
    "        RiverRawDataItem(\n",
    "          date_time=StartDateTime.from_datetime(datetime(2021, 12, 31)),\n",
    "          riverbed_bottom=RiverbedBottom.from_float(100),\n",
    "          river_stage=RiverStage.from_float(105),\n",
    "          conductance=Conductance.from_float(50),\n",
    "        ),\n",
    "      ]\n",
    "    ),\n",
    "    RiverObservation(\n",
    "      observation_id=ObservationId.new(),\n",
    "      observation_name=ObservationName.default(),\n",
    "      geometry=Point((13.92004, 50.96401)),\n",
    "      data=[\n",
    "        RiverRawDataItem(\n",
    "          date_time=StartDateTime.from_datetime(datetime(2019, 1, 1)),\n",
    "          riverbed_bottom=RiverbedBottom.from_float(95),\n",
    "          river_stage=RiverStage.from_float(100),\n",
    "          conductance=Conductance.from_float(100),\n",
    "        ),\n",
    "        RiverRawDataItem(\n",
    "          date_time=StartDateTime.from_datetime(datetime(2021, 12, 31)),\n",
    "          riverbed_bottom=RiverbedBottom.from_float(95),\n",
    "          river_stage=RiverStage.from_float(100),\n",
    "          conductance=Conductance.from_float(100),\n",
    "        ),\n",
    "      ]\n",
    "    ),\n",
    "  ]\n",
    ")\n",
    "\n",
    "boundary_collection = BoundaryCollection.new()\n",
    "boundary_collection.add_boundary(river_boundary)\n",
    "\n",
    "model = model.with_updated_boundaries(boundaries=boundary_collection)\n",
    "\n",
    "m.add_child(folium.GeoJson(river_boundary.as_geojson()))\n",
    "for observation in river_boundary.observations:\n",
    "  m.add_child(folium.GeoJson(observation.as_geojson()))\n",
    "\n",
    "m.fit_bounds(m.get_bounds())\n",
    "m"
   ],
   "outputs": []
  },
  {
   "cell_type": "code",
   "execution_count": 7,
   "id": "25b4324c4d166cd7",
   "metadata": {
    "ExecuteTime": {
     "end_time": "2024-05-14T08:13:36.421726Z",
     "start_time": "2024-05-14T08:13:36.419367Z"
    },
    "collapsed": false,
    "execution": {
     "iopub.execute_input": "2024-05-15T16:01:16.960949Z",
     "iopub.status.busy": "2024-05-15T16:01:16.960796Z",
     "iopub.status.idle": "2024-05-15T16:01:16.963152Z",
     "shell.execute_reply": "2024-05-15T16:01:16.962906Z"
    },
    "papermill": {
     "duration": 0.00633,
     "end_time": "2024-05-15T16:01:16.963989",
     "exception": false,
     "start_time": "2024-05-15T16:01:16.957659",
     "status": "completed"
    },
    "tags": []
   },
   "source": [
    "river_boundary.observations"
   ],
   "outputs": []
  },
  {
   "cell_type": "code",
   "execution_count": 8,
   "id": "dc338472e1887a13",
   "metadata": {
    "ExecuteTime": {
     "end_time": "2024-05-14T08:13:36.984720Z",
     "start_time": "2024-05-14T08:13:36.422437Z"
    },
    "collapsed": false,
    "execution": {
     "iopub.execute_input": "2024-05-15T16:01:16.969287Z",
     "iopub.status.busy": "2024-05-15T16:01:16.969159Z",
     "iopub.status.idle": "2024-05-15T16:01:17.443580Z",
     "shell.execute_reply": "2024-05-15T16:01:17.443317Z"
    },
    "papermill": {
     "duration": 0.478044,
     "end_time": "2024-05-15T16:01:17.444472",
     "exception": false,
     "start_time": "2024-05-15T16:01:16.966428",
     "status": "completed"
    },
    "tags": []
   },
   "source": [
    "from morpheus.project.infrastructure.calculation.engines.modflow_2005.packages.RivPackageMapper import \\\n",
    "  calculate_riv_boundary_stress_period_data\n",
    "\n",
    "result = calculate_riv_boundary_stress_period_data(\n",
    "  spatial_discretization=spatial_discretization,\n",
    "  time_discretization=time_discretization,\n",
    "  layers=model.layers,\n",
    "  riv_boundary=river_boundary,\n",
    ")\n",
    "result.to_dict()"
   ],
   "outputs": []
  },
  {
   "cell_type": "markdown",
   "id": "42d948d145a8457a",
   "metadata": {
    "collapsed": false,
    "papermill": {
     "duration": 0.002404,
     "end_time": "2024-05-15T16:01:17.449600",
     "exception": false,
     "start_time": "2024-05-15T16:01:17.447196",
     "status": "completed"
    },
    "tags": []
   },
   "source": [
    "## Calculate"
   ]
  },
  {
   "cell_type": "code",
   "execution_count": 9,
   "id": "56ccabee86e2397e",
   "metadata": {
    "ExecuteTime": {
     "end_time": "2024-05-14T08:13:37.036994Z",
     "start_time": "2024-05-14T08:13:37.008529Z"
    },
    "collapsed": false,
    "execution": {
     "iopub.execute_input": "2024-05-15T16:01:17.455215Z",
     "iopub.status.busy": "2024-05-15T16:01:17.455016Z",
     "iopub.status.idle": "2024-05-15T16:01:17.466142Z",
     "shell.execute_reply": "2024-05-15T16:01:17.465910Z"
    },
    "papermill": {
     "duration": 0.014923,
     "end_time": "2024-05-15T16:01:17.467028",
     "exception": false,
     "start_time": "2024-05-15T16:01:17.452105",
     "status": "completed"
    },
    "tags": []
   },
   "source": [
    "from morpheus.project.types.calculation.CalculationProfile import CalculationProfile, CalculationEngineType\n",
    "from morpheus.project.types.calculation.Calculation import Calculation\n",
    "\n",
    "calculation_profile = CalculationProfile.new(CalculationEngineType.MF2005)\n",
    "calculation = Calculation.new(model=model, calculation_profile=calculation_profile)"
   ],
   "outputs": []
  },
  {
   "cell_type": "code",
   "execution_count": 10,
   "id": "e09d94e0a94315cb",
   "metadata": {
    "ExecuteTime": {
     "end_time": "2024-05-14T08:13:37.052289Z",
     "start_time": "2024-05-14T08:13:37.038859Z"
    },
    "collapsed": false,
    "execution": {
     "iopub.execute_input": "2024-05-15T16:01:17.472666Z",
     "iopub.status.busy": "2024-05-15T16:01:17.472525Z",
     "iopub.status.idle": "2024-05-15T16:01:17.478062Z",
     "shell.execute_reply": "2024-05-15T16:01:17.477830Z"
    },
    "papermill": {
     "duration": 0.009322,
     "end_time": "2024-05-15T16:01:17.478837",
     "exception": false,
     "start_time": "2024-05-15T16:01:17.469515",
     "status": "completed"
    },
    "tags": []
   },
   "source": [
    "calculation = Calculation.from_dict(calculation.to_dict())\n",
    "calculation.calculation_id"
   ],
   "outputs": []
  },
  {
   "cell_type": "code",
   "execution_count": 11,
   "id": "672007fb90753c4c",
   "metadata": {
    "ExecuteTime": {
     "end_time": "2024-05-14T08:13:37.816138Z",
     "start_time": "2024-05-14T08:13:37.065460Z"
    },
    "collapsed": false,
    "execution": {
     "iopub.execute_input": "2024-05-15T16:01:17.484411Z",
     "iopub.status.busy": "2024-05-15T16:01:17.484299Z",
     "iopub.status.idle": "2024-05-15T16:01:18.549885Z",
     "shell.execute_reply": "2024-05-15T16:01:18.549542Z"
    },
    "papermill": {
     "duration": 1.069503,
     "end_time": "2024-05-15T16:01:18.550898",
     "exception": false,
     "start_time": "2024-05-15T16:01:17.481395",
     "status": "completed"
    },
    "tags": []
   },
   "source": [
    "from morpheus.project.infrastructure.calculation.services.CalculationService import CalculationService\n",
    "\n",
    "calculation_service = CalculationService.from_calculation(calculation)\n",
    "calculation_service.calculate()"
   ],
   "outputs": []
  },
  {
   "cell_type": "code",
   "execution_count": 12,
   "id": "a52d1dd3a1574032",
   "metadata": {
    "ExecuteTime": {
     "end_time": "2024-05-14T08:13:37.819651Z",
     "start_time": "2024-05-14T08:13:37.816983Z"
    },
    "collapsed": false,
    "execution": {
     "iopub.execute_input": "2024-05-15T16:01:18.559981Z",
     "iopub.status.busy": "2024-05-15T16:01:18.559451Z",
     "iopub.status.idle": "2024-05-15T16:01:18.563849Z",
     "shell.execute_reply": "2024-05-15T16:01:18.563250Z"
    },
    "papermill": {
     "duration": 0.010335,
     "end_time": "2024-05-15T16:01:18.564780",
     "exception": false,
     "start_time": "2024-05-15T16:01:18.554445",
     "status": "completed"
    },
    "tags": []
   },
   "source": [
    "calculation_service.get_result()"
   ],
   "outputs": []
  },
  {
   "cell_type": "code",
   "execution_count": 13,
   "id": "cc43ad077c7a81d0",
   "metadata": {
    "ExecuteTime": {
     "end_time": "2024-05-14T08:13:37.822329Z",
     "start_time": "2024-05-14T08:13:37.820287Z"
    },
    "collapsed": false,
    "execution": {
     "iopub.execute_input": "2024-05-15T16:01:18.572711Z",
     "iopub.status.busy": "2024-05-15T16:01:18.572539Z",
     "iopub.status.idle": "2024-05-15T16:01:18.575836Z",
     "shell.execute_reply": "2024-05-15T16:01:18.575387Z"
    },
    "papermill": {
     "duration": 0.008527,
     "end_time": "2024-05-15T16:01:18.576979",
     "exception": false,
     "start_time": "2024-05-15T16:01:18.568452",
     "status": "completed"
    },
    "tags": []
   },
   "source": [
    "head = calculation_service.read_head(0, 0)"
   ],
   "outputs": []
  },
  {
   "cell_type": "code",
   "execution_count": 14,
   "id": "12454cc4d9e18de5",
   "metadata": {
    "ExecuteTime": {
     "end_time": "2024-05-14T08:13:37.829605Z",
     "start_time": "2024-05-14T08:13:37.824442Z"
    },
    "collapsed": false,
    "execution": {
     "iopub.execute_input": "2024-05-15T16:01:18.585049Z",
     "iopub.status.busy": "2024-05-15T16:01:18.584709Z",
     "iopub.status.idle": "2024-05-15T16:01:18.591205Z",
     "shell.execute_reply": "2024-05-15T16:01:18.590885Z"
    },
    "papermill": {
     "duration": 0.011685,
     "end_time": "2024-05-15T16:01:18.592248",
     "exception": false,
     "start_time": "2024-05-15T16:01:18.580563",
     "status": "completed"
    },
    "tags": []
   },
   "source": [
    "import simplejson as json\n",
    "\n",
    "json = json.dumps(head, ignore_nan=True)\n",
    "json"
   ],
   "outputs": []
  },
  {
   "cell_type": "code",
   "execution_count": 15,
   "id": "df7dfd8ff0308815",
   "metadata": {
    "ExecuteTime": {
     "end_time": "2024-05-14T08:13:37.832360Z",
     "start_time": "2024-05-14T08:13:37.830081Z"
    },
    "collapsed": false,
    "execution": {
     "iopub.execute_input": "2024-05-15T16:01:18.601045Z",
     "iopub.status.busy": "2024-05-15T16:01:18.600866Z",
     "iopub.status.idle": "2024-05-15T16:01:18.604782Z",
     "shell.execute_reply": "2024-05-15T16:01:18.604496Z"
    },
    "papermill": {
     "duration": 0.009571,
     "end_time": "2024-05-15T16:01:18.605699",
     "exception": false,
     "start_time": "2024-05-15T16:01:18.596128",
     "status": "completed"
    },
    "tags": []
   },
   "source": [
    "calculation_service.read_drawdown(0, 0)"
   ],
   "outputs": []
  },
  {
   "cell_type": "code",
   "execution_count": 16,
   "id": "b233f4066b56c174",
   "metadata": {
    "ExecuteTime": {
     "end_time": "2024-05-14T08:13:37.836236Z",
     "start_time": "2024-05-14T08:13:37.832955Z"
    },
    "collapsed": false,
    "execution": {
     "iopub.execute_input": "2024-05-15T16:01:18.615260Z",
     "iopub.status.busy": "2024-05-15T16:01:18.614883Z",
     "iopub.status.idle": "2024-05-15T16:01:18.619704Z",
     "shell.execute_reply": "2024-05-15T16:01:18.619441Z"
    },
    "papermill": {
     "duration": 0.010646,
     "end_time": "2024-05-15T16:01:18.620544",
     "exception": false,
     "start_time": "2024-05-15T16:01:18.609898",
     "status": "completed"
    },
    "tags": []
   },
   "source": [
    "calculation_service.read_budget(0, False)"
   ],
   "outputs": []
  },
  {
   "cell_type": "code",
   "execution_count": 17,
   "id": "634709d741f5c252",
   "metadata": {
    "ExecuteTime": {
     "end_time": "2024-05-14T08:13:37.840054Z",
     "start_time": "2024-05-14T08:13:37.836718Z"
    },
    "collapsed": false,
    "execution": {
     "iopub.execute_input": "2024-05-15T16:01:18.628607Z",
     "iopub.status.busy": "2024-05-15T16:01:18.628475Z",
     "iopub.status.idle": "2024-05-15T16:01:18.631980Z",
     "shell.execute_reply": "2024-05-15T16:01:18.631732Z"
    },
    "papermill": {
     "duration": 0.008413,
     "end_time": "2024-05-15T16:01:18.632704",
     "exception": false,
     "start_time": "2024-05-15T16:01:18.624291",
     "status": "completed"
    },
    "tags": []
   },
   "source": [
    "calculation_service.read_budget(0, True)"
   ],
   "outputs": []
  },
  {
   "cell_type": "code",
   "execution_count": 18,
   "id": "26523066436690e6",
   "metadata": {
    "ExecuteTime": {
     "end_time": "2024-05-14T08:13:37.842569Z",
     "start_time": "2024-05-14T08:13:37.840653Z"
    },
    "collapsed": false,
    "execution": {
     "iopub.execute_input": "2024-05-15T16:01:18.641323Z",
     "iopub.status.busy": "2024-05-15T16:01:18.641178Z",
     "iopub.status.idle": "2024-05-15T16:01:18.643295Z",
     "shell.execute_reply": "2024-05-15T16:01:18.643048Z"
    },
    "papermill": {
     "duration": 0.007413,
     "end_time": "2024-05-15T16:01:18.644132",
     "exception": false,
     "start_time": "2024-05-15T16:01:18.636719",
     "status": "completed"
    },
    "tags": []
   },
   "source": [
    "calculation_service.get_result()"
   ],
   "outputs": []
  },
  {
   "cell_type": "code",
   "execution_count": 19,
   "id": "160abd7d290c83f7",
   "metadata": {
    "ExecuteTime": {
     "end_time": "2024-05-14T08:13:37.974516Z",
     "start_time": "2024-05-14T08:13:37.843140Z"
    },
    "collapsed": false,
    "execution": {
     "iopub.execute_input": "2024-05-15T16:01:18.652248Z",
     "iopub.status.busy": "2024-05-15T16:01:18.652032Z",
     "iopub.status.idle": "2024-05-15T16:01:18.781346Z",
     "shell.execute_reply": "2024-05-15T16:01:18.778995Z"
    },
    "papermill": {
     "duration": 0.136163,
     "end_time": "2024-05-15T16:01:18.784097",
     "exception": false,
     "start_time": "2024-05-15T16:01:18.647934",
     "status": "completed"
    },
    "tags": []
   },
   "source": [
    "import matplotlib.pyplot as plt\n",
    "\n",
    "heads = calculation_service.read_head(0, 0)\n",
    "plt.subplot(2, 1, 1)\n",
    "plt.imshow(heads, cmap='jet_r')\n",
    "plt.colorbar()\n",
    "plt.show()"
   ],
   "outputs": []
  },
  {
   "cell_type": "code",
   "execution_count": null,
   "id": "1a893419d5a2a334",
   "metadata": {
    "ExecuteTime": {
     "end_time": "2024-05-14T08:13:37.987738Z",
     "start_time": "2024-05-14T08:13:37.982264Z"
    },
    "collapsed": false,
    "papermill": {
     "duration": 0.004001,
     "end_time": "2024-05-15T16:01:18.792921",
     "exception": false,
     "start_time": "2024-05-15T16:01:18.788920",
     "status": "completed"
    },
    "tags": []
   },
   "source": [],
   "outputs": []
  }
 ],
 "metadata": {
  "kernelspec": {
   "display_name": "Python 3",
   "language": "python",
   "name": "python3"
  },
  "language_info": {
   "codemirror_mode": {
    "name": "ipython",
    "version": 3
   },
   "file_extension": ".py",
   "mimetype": "text/x-python",
   "name": "python",
   "nbconvert_exporter": "python",
   "pygments_lexer": "ipython3",
   "version": "3.12.2"
  },
  "papermill": {
   "default_parameters": {},
   "duration": 5.551765,
   "end_time": "2024-05-15T16:01:19.736502",
   "environment_variables": {},
   "exception": null,
   "input_path": "./notebooks/Test_RiverBoundary.ipynb",
   "output_path": "./notebooks/Test_RiverBoundary.ipynb",
   "parameters": {},
   "start_time": "2024-05-15T16:01:14.184737",
   "version": "2.6.0"
  }
 },
 "nbformat": 4,
 "nbformat_minor": 5
}
