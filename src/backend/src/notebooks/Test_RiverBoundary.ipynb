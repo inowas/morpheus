{
 "cells": [
  {
   "cell_type": "markdown",
   "id": "095b0136",
   "metadata": {
    "tags": [
     "papermill-error-cell-tag"
    ]
   },
   "source": [
    "<span style=\"color:red; font-family:Helvetica Neue, Helvetica, Arial, sans-serif; font-size:2em;\">An Exception was encountered at '<a href=\"#papermill-error-cell\">In [11]</a>'.</span>"
   ]
  },
  {
   "cell_type": "code",
   "execution_count": 1,
   "id": "ba6761fae9d5e5cb",
   "metadata": {
    "ExecuteTime": {
     "end_time": "2024-05-14T08:13:34.893848Z",
     "start_time": "2024-05-14T08:13:34.890858Z"
    },
    "collapsed": false,
    "execution": {
     "iopub.execute_input": "2024-05-15T15:40:34.489366Z",
     "iopub.status.busy": "2024-05-15T15:40:34.489029Z",
     "iopub.status.idle": "2024-05-15T15:40:34.493796Z",
     "shell.execute_reply": "2024-05-15T15:40:34.493236Z"
    },
    "papermill": {
     "duration": 0.017368,
     "end_time": "2024-05-15T15:40:34.495689",
     "exception": false,
     "start_time": "2024-05-15T15:40:34.478321",
     "status": "completed"
    },
    "tags": []
   },
   "outputs": [],
   "source": [
    "import sys\n",
    "\n",
    "sys.path.insert(0, '..')"
   ]
  },
  {
   "cell_type": "markdown",
   "id": "5ede1ba5e0993dd1",
   "metadata": {
    "collapsed": false,
    "papermill": {
     "duration": 0.004333,
     "end_time": "2024-05-15T15:40:34.507302",
     "exception": false,
     "start_time": "2024-05-15T15:40:34.502969",
     "status": "completed"
    },
    "tags": []
   },
   "source": [
    "## Setup the model area"
   ]
  },
  {
   "cell_type": "code",
   "execution_count": 2,
   "id": "2f69504ab35487aa",
   "metadata": {
    "ExecuteTime": {
     "end_time": "2024-05-14T08:13:35.505671Z",
     "start_time": "2024-05-14T08:13:34.894928Z"
    },
    "collapsed": false,
    "execution": {
     "iopub.execute_input": "2024-05-15T15:40:34.513421Z",
     "iopub.status.busy": "2024-05-15T15:40:34.513279Z",
     "iopub.status.idle": "2024-05-15T15:40:35.264063Z",
     "shell.execute_reply": "2024-05-15T15:40:35.262124Z"
    },
    "papermill": {
     "duration": 0.756677,
     "end_time": "2024-05-15T15:40:35.266604",
     "exception": false,
     "start_time": "2024-05-15T15:40:34.509927",
     "status": "completed"
    },
    "tags": []
   },
   "outputs": [],
   "source": [
    "from morpheus.project.types.discretization import SpatialDiscretization\n",
    "from morpheus.project.types.discretization.spatial import Rotation, Grid, Crs\n",
    "from morpheus.project.types.geometry import Polygon, LineString\n",
    "\n",
    "polygon = Polygon(\n",
    "  type='Polygon',\n",
    "  coordinates=[[\n",
    "    (13.92, 50.964),\n",
    "    (13.92, 50.966),\n",
    "    (13.925, 50.966),\n",
    "    (13.925, 50.964),\n",
    "    (13.92, 50.964)\n",
    "  ]]\n",
    ")\n",
    "\n",
    "rotation = Rotation(0)\n",
    "\n",
    "grid = Grid.cartesian_from_polygon(polygon=polygon, n_cols=100, n_rows=50, rotation=rotation)\n",
    "spatial_discretization = SpatialDiscretization.from_geometry_with_grid(\n",
    "  geometry=polygon,\n",
    "  grid=grid,\n",
    "  crs=Crs.from_str('EPSG:4326')\n",
    ")"
   ]
  },
  {
   "cell_type": "markdown",
   "id": "fa27e67f9d801845",
   "metadata": {
    "collapsed": false,
    "papermill": {
     "duration": 0.003411,
     "end_time": "2024-05-15T15:40:35.273495",
     "exception": false,
     "start_time": "2024-05-15T15:40:35.270084",
     "status": "completed"
    },
    "tags": []
   },
   "source": [
    "## Setup Time Discretization"
   ]
  },
  {
   "cell_type": "code",
   "execution_count": 3,
   "id": "8e4e63dd138db9fc",
   "metadata": {
    "ExecuteTime": {
     "end_time": "2024-05-14T08:13:35.508752Z",
     "start_time": "2024-05-14T08:13:35.506292Z"
    },
    "collapsed": false,
    "execution": {
     "iopub.execute_input": "2024-05-15T15:40:35.281277Z",
     "iopub.status.busy": "2024-05-15T15:40:35.280836Z",
     "iopub.status.idle": "2024-05-15T15:40:35.285322Z",
     "shell.execute_reply": "2024-05-15T15:40:35.284515Z"
    },
    "papermill": {
     "duration": 0.011516,
     "end_time": "2024-05-15T15:40:35.288442",
     "exception": false,
     "start_time": "2024-05-15T15:40:35.276926",
     "status": "completed"
    },
    "tags": []
   },
   "outputs": [],
   "source": [
    "from morpheus.project.types.discretization.time.TimeUnit import TimeUnit\n",
    "from morpheus.project.types.discretization.time.Stressperiods import StartDateTime, StressPeriodCollection, \\\n",
    "  StressPeriod, NumberOfTimeSteps, TimeStepMultiplier, IsSteadyState\n",
    "from morpheus.project.types.discretization.time import TimeDiscretization\n",
    "from datetime import datetime\n",
    "\n",
    "time_discretization = TimeDiscretization(\n",
    "  start_date_time=StartDateTime.from_datetime(datetime(2020, 1, 1)),\n",
    "  end_date_time=StartDateTime.from_datetime(datetime(2020, 12, 31)),\n",
    "  stress_periods=StressPeriodCollection([\n",
    "    StressPeriod(\n",
    "      start_date_time=StartDateTime.from_datetime(datetime(2020, 1, 1)),\n",
    "      number_of_time_steps=NumberOfTimeSteps(1),\n",
    "      time_step_multiplier=TimeStepMultiplier(1),\n",
    "      steady_state=IsSteadyState.yes()\n",
    "    ),\n",
    "  ]),\n",
    "  time_unit=TimeUnit.days()\n",
    ")"
   ]
  },
  {
   "cell_type": "markdown",
   "id": "963ba8729f09fcec",
   "metadata": {
    "collapsed": false,
    "papermill": {
     "duration": 0.002731,
     "end_time": "2024-05-15T15:40:35.293992",
     "exception": false,
     "start_time": "2024-05-15T15:40:35.291261",
     "status": "completed"
    },
    "tags": []
   },
   "source": [
    "# Setup Model"
   ]
  },
  {
   "cell_type": "code",
   "execution_count": 4,
   "id": "1d5c9125b1b9360b",
   "metadata": {
    "ExecuteTime": {
     "end_time": "2024-05-14T08:13:35.924414Z",
     "start_time": "2024-05-14T08:13:35.509312Z"
    },
    "collapsed": false,
    "execution": {
     "iopub.execute_input": "2024-05-15T15:40:35.300718Z",
     "iopub.status.busy": "2024-05-15T15:40:35.300384Z",
     "iopub.status.idle": "2024-05-15T15:40:35.734743Z",
     "shell.execute_reply": "2024-05-15T15:40:35.734337Z"
    },
    "papermill": {
     "duration": 0.439592,
     "end_time": "2024-05-15T15:40:35.735872",
     "exception": false,
     "start_time": "2024-05-15T15:40:35.296280",
     "status": "completed"
    },
    "tags": []
   },
   "outputs": [],
   "source": [
    "from morpheus.project.types.Model import Model\n",
    "\n",
    "model = Model.new()\n",
    "model = model.with_updated_time_discretization(time_discretization)\n",
    "model = model.with_updated_spatial_discretization(spatial_discretization=spatial_discretization)"
   ]
  },
  {
   "cell_type": "code",
   "execution_count": 5,
   "id": "1540b870ae83f298",
   "metadata": {
    "ExecuteTime": {
     "end_time": "2024-05-14T08:13:36.104767Z",
     "start_time": "2024-05-14T08:13:35.926048Z"
    },
    "collapsed": false,
    "execution": {
     "iopub.execute_input": "2024-05-15T15:40:35.741863Z",
     "iopub.status.busy": "2024-05-15T15:40:35.741367Z",
     "iopub.status.idle": "2024-05-15T15:40:35.914427Z",
     "shell.execute_reply": "2024-05-15T15:40:35.914047Z"
    },
    "papermill": {
     "duration": 0.176918,
     "end_time": "2024-05-15T15:40:35.915360",
     "exception": false,
     "start_time": "2024-05-15T15:40:35.738442",
     "status": "completed"
    },
    "tags": []
   },
   "outputs": [
    {
     "data": {
      "text/html": [
       "<div style=\"width:100%;\"><div style=\"position:relative;width:100%;height:0;padding-bottom:60%;\"><span style=\"color:#565656\">Make this Notebook Trusted to load map: File -> Trust Notebook</span><iframe srcdoc=\"&lt;!DOCTYPE html&gt;\n",
       "&lt;html&gt;\n",
       "&lt;head&gt;\n",
       "    \n",
       "    &lt;meta http-equiv=&quot;content-type&quot; content=&quot;text/html; charset=UTF-8&quot; /&gt;\n",
       "    \n",
       "        &lt;script&gt;\n",
       "            L_NO_TOUCH = false;\n",
       "            L_DISABLE_3D = false;\n",
       "        &lt;/script&gt;\n",
       "    \n",
       "    &lt;style&gt;html, body {width: 100%;height: 100%;margin: 0;padding: 0;}&lt;/style&gt;\n",
       "    &lt;style&gt;#map {position:absolute;top:0;bottom:0;right:0;left:0;}&lt;/style&gt;\n",
       "    &lt;script src=&quot;https://cdn.jsdelivr.net/npm/leaflet@1.9.3/dist/leaflet.js&quot;&gt;&lt;/script&gt;\n",
       "    &lt;script src=&quot;https://code.jquery.com/jquery-3.7.1.min.js&quot;&gt;&lt;/script&gt;\n",
       "    &lt;script src=&quot;https://cdn.jsdelivr.net/npm/bootstrap@5.2.2/dist/js/bootstrap.bundle.min.js&quot;&gt;&lt;/script&gt;\n",
       "    &lt;script src=&quot;https://cdnjs.cloudflare.com/ajax/libs/Leaflet.awesome-markers/2.0.2/leaflet.awesome-markers.js&quot;&gt;&lt;/script&gt;\n",
       "    &lt;link rel=&quot;stylesheet&quot; href=&quot;https://cdn.jsdelivr.net/npm/leaflet@1.9.3/dist/leaflet.css&quot;/&gt;\n",
       "    &lt;link rel=&quot;stylesheet&quot; href=&quot;https://cdn.jsdelivr.net/npm/bootstrap@5.2.2/dist/css/bootstrap.min.css&quot;/&gt;\n",
       "    &lt;link rel=&quot;stylesheet&quot; href=&quot;https://netdna.bootstrapcdn.com/bootstrap/3.0.0/css/bootstrap.min.css&quot;/&gt;\n",
       "    &lt;link rel=&quot;stylesheet&quot; href=&quot;https://cdn.jsdelivr.net/npm/@fortawesome/fontawesome-free@6.2.0/css/all.min.css&quot;/&gt;\n",
       "    &lt;link rel=&quot;stylesheet&quot; href=&quot;https://cdnjs.cloudflare.com/ajax/libs/Leaflet.awesome-markers/2.0.2/leaflet.awesome-markers.css&quot;/&gt;\n",
       "    &lt;link rel=&quot;stylesheet&quot; href=&quot;https://cdn.jsdelivr.net/gh/python-visualization/folium/folium/templates/leaflet.awesome.rotate.min.css&quot;/&gt;\n",
       "    \n",
       "            &lt;meta name=&quot;viewport&quot; content=&quot;width=device-width,\n",
       "                initial-scale=1.0, maximum-scale=1.0, user-scalable=no&quot; /&gt;\n",
       "            &lt;style&gt;\n",
       "                #map_e08be9defe233c693ef8f1fa101569d6 {\n",
       "                    position: relative;\n",
       "                    width: 100.0%;\n",
       "                    height: 100.0%;\n",
       "                    left: 0.0%;\n",
       "                    top: 0.0%;\n",
       "                }\n",
       "                .leaflet-container { font-size: 1rem; }\n",
       "            &lt;/style&gt;\n",
       "        \n",
       "&lt;/head&gt;\n",
       "&lt;body&gt;\n",
       "    \n",
       "    \n",
       "            &lt;div class=&quot;folium-map&quot; id=&quot;map_e08be9defe233c693ef8f1fa101569d6&quot; &gt;&lt;/div&gt;\n",
       "        \n",
       "&lt;/body&gt;\n",
       "&lt;script&gt;\n",
       "    \n",
       "    \n",
       "            var map_e08be9defe233c693ef8f1fa101569d6 = L.map(\n",
       "                &quot;map_e08be9defe233c693ef8f1fa101569d6&quot;,\n",
       "                {\n",
       "                    center: [50.965, 13.922],\n",
       "                    crs: L.CRS.EPSG3857,\n",
       "                    zoom: 12,\n",
       "                    zoomControl: true,\n",
       "                    preferCanvas: false,\n",
       "                }\n",
       "            );\n",
       "\n",
       "            \n",
       "\n",
       "        \n",
       "    \n",
       "            var tile_layer_2b3b30bdd1178050a38338b0d03d3617 = L.tileLayer(\n",
       "                &quot;https://{s}.basemaps.cartocdn.com/light_all/{z}/{x}/{y}{r}.png&quot;,\n",
       "                {&quot;attribution&quot;: &quot;\\u0026copy; \\u003ca href=\\&quot;https://www.openstreetmap.org/copyright\\&quot;\\u003eOpenStreetMap\\u003c/a\\u003e contributors \\u0026copy; \\u003ca href=\\&quot;https://carto.com/attributions\\&quot;\\u003eCARTO\\u003c/a\\u003e&quot;, &quot;detectRetina&quot;: false, &quot;maxNativeZoom&quot;: 20, &quot;maxZoom&quot;: 20, &quot;minZoom&quot;: 0, &quot;noWrap&quot;: false, &quot;opacity&quot;: 1, &quot;subdomains&quot;: &quot;abcd&quot;, &quot;tms&quot;: false}\n",
       "            );\n",
       "        \n",
       "    \n",
       "            tile_layer_2b3b30bdd1178050a38338b0d03d3617.addTo(map_e08be9defe233c693ef8f1fa101569d6);\n",
       "        \n",
       "    \n",
       "\n",
       "        function geo_json_04d6934f0835bb733eea6114d53a5e9c_onEachFeature(feature, layer) {\n",
       "            layer.on({\n",
       "            });\n",
       "        };\n",
       "        var geo_json_04d6934f0835bb733eea6114d53a5e9c = L.geoJson(null, {\n",
       "                onEachFeature: geo_json_04d6934f0835bb733eea6114d53a5e9c_onEachFeature,\n",
       "            \n",
       "        });\n",
       "\n",
       "        function geo_json_04d6934f0835bb733eea6114d53a5e9c_add (data) {\n",
       "            geo_json_04d6934f0835bb733eea6114d53a5e9c\n",
       "                .addData(data);\n",
       "        }\n",
       "            geo_json_04d6934f0835bb733eea6114d53a5e9c_add({&quot;coordinates&quot;: [[[13.92, 50.964], [13.92, 50.966], [13.925, 50.966], [13.925, 50.964], [13.92, 50.964]]], &quot;type&quot;: &quot;Polygon&quot;});\n",
       "\n",
       "        \n",
       "    \n",
       "            geo_json_04d6934f0835bb733eea6114d53a5e9c.addTo(map_e08be9defe233c693ef8f1fa101569d6);\n",
       "        \n",
       "    \n",
       "            map_e08be9defe233c693ef8f1fa101569d6.fitBounds(\n",
       "                [[50.964, 13.92], [50.966, 13.925]],\n",
       "                {}\n",
       "            );\n",
       "        \n",
       "&lt;/script&gt;\n",
       "&lt;/html&gt;\" style=\"position:absolute;width:100%;height:100%;left:0;top:0;border:none !important;\" allowfullscreen webkitallowfullscreen mozallowfullscreen></iframe></div></div>"
      ],
      "text/plain": [
       "<folium.folium.Map at 0x16b8e7260>"
      ]
     },
     "execution_count": 5,
     "metadata": {},
     "output_type": "execute_result"
    }
   ],
   "source": [
    "import folium\n",
    "\n",
    "m = folium.Map(tiles=\"cartodbpositron\", crs=\"EPSG3857\", zoom_start=12, location=[50.965, 13.922])\n",
    "m.add_child(folium.GeoJson(polygon.as_geojson()))\n",
    "\n",
    "m.fit_bounds(m.get_bounds())\n",
    "m"
   ]
  },
  {
   "cell_type": "markdown",
   "id": "62ae3587df801000",
   "metadata": {
    "collapsed": false,
    "papermill": {
     "duration": 0.002431,
     "end_time": "2024-05-15T15:40:35.920398",
     "exception": false,
     "start_time": "2024-05-15T15:40:35.917967",
     "status": "completed"
    },
    "tags": []
   },
   "source": [
    "# Setup constant head boundary with two observations"
   ]
  },
  {
   "cell_type": "code",
   "execution_count": 6,
   "id": "53679913aee28ce9",
   "metadata": {
    "ExecuteTime": {
     "end_time": "2024-05-14T08:13:36.418626Z",
     "start_time": "2024-05-14T08:13:36.105470Z"
    },
    "collapsed": false,
    "execution": {
     "iopub.execute_input": "2024-05-15T15:40:35.927437Z",
     "iopub.status.busy": "2024-05-15T15:40:35.927159Z",
     "iopub.status.idle": "2024-05-15T15:40:36.233384Z",
     "shell.execute_reply": "2024-05-15T15:40:36.232975Z"
    },
    "papermill": {
     "duration": 0.311667,
     "end_time": "2024-05-15T15:40:36.234327",
     "exception": false,
     "start_time": "2024-05-15T15:40:35.922660",
     "status": "completed"
    },
    "tags": []
   },
   "outputs": [
    {
     "data": {
      "text/html": [
       "<div style=\"width:100%;\"><div style=\"position:relative;width:100%;height:0;padding-bottom:60%;\"><span style=\"color:#565656\">Make this Notebook Trusted to load map: File -> Trust Notebook</span><iframe srcdoc=\"&lt;!DOCTYPE html&gt;\n",
       "&lt;html&gt;\n",
       "&lt;head&gt;\n",
       "    \n",
       "    &lt;meta http-equiv=&quot;content-type&quot; content=&quot;text/html; charset=UTF-8&quot; /&gt;\n",
       "    \n",
       "        &lt;script&gt;\n",
       "            L_NO_TOUCH = false;\n",
       "            L_DISABLE_3D = false;\n",
       "        &lt;/script&gt;\n",
       "    \n",
       "    &lt;style&gt;html, body {width: 100%;height: 100%;margin: 0;padding: 0;}&lt;/style&gt;\n",
       "    &lt;style&gt;#map {position:absolute;top:0;bottom:0;right:0;left:0;}&lt;/style&gt;\n",
       "    &lt;script src=&quot;https://cdn.jsdelivr.net/npm/leaflet@1.9.3/dist/leaflet.js&quot;&gt;&lt;/script&gt;\n",
       "    &lt;script src=&quot;https://code.jquery.com/jquery-3.7.1.min.js&quot;&gt;&lt;/script&gt;\n",
       "    &lt;script src=&quot;https://cdn.jsdelivr.net/npm/bootstrap@5.2.2/dist/js/bootstrap.bundle.min.js&quot;&gt;&lt;/script&gt;\n",
       "    &lt;script src=&quot;https://cdnjs.cloudflare.com/ajax/libs/Leaflet.awesome-markers/2.0.2/leaflet.awesome-markers.js&quot;&gt;&lt;/script&gt;\n",
       "    &lt;link rel=&quot;stylesheet&quot; href=&quot;https://cdn.jsdelivr.net/npm/leaflet@1.9.3/dist/leaflet.css&quot;/&gt;\n",
       "    &lt;link rel=&quot;stylesheet&quot; href=&quot;https://cdn.jsdelivr.net/npm/bootstrap@5.2.2/dist/css/bootstrap.min.css&quot;/&gt;\n",
       "    &lt;link rel=&quot;stylesheet&quot; href=&quot;https://netdna.bootstrapcdn.com/bootstrap/3.0.0/css/bootstrap.min.css&quot;/&gt;\n",
       "    &lt;link rel=&quot;stylesheet&quot; href=&quot;https://cdn.jsdelivr.net/npm/@fortawesome/fontawesome-free@6.2.0/css/all.min.css&quot;/&gt;\n",
       "    &lt;link rel=&quot;stylesheet&quot; href=&quot;https://cdnjs.cloudflare.com/ajax/libs/Leaflet.awesome-markers/2.0.2/leaflet.awesome-markers.css&quot;/&gt;\n",
       "    &lt;link rel=&quot;stylesheet&quot; href=&quot;https://cdn.jsdelivr.net/gh/python-visualization/folium/folium/templates/leaflet.awesome.rotate.min.css&quot;/&gt;\n",
       "    \n",
       "            &lt;meta name=&quot;viewport&quot; content=&quot;width=device-width,\n",
       "                initial-scale=1.0, maximum-scale=1.0, user-scalable=no&quot; /&gt;\n",
       "            &lt;style&gt;\n",
       "                #map_e08be9defe233c693ef8f1fa101569d6 {\n",
       "                    position: relative;\n",
       "                    width: 100.0%;\n",
       "                    height: 100.0%;\n",
       "                    left: 0.0%;\n",
       "                    top: 0.0%;\n",
       "                }\n",
       "                .leaflet-container { font-size: 1rem; }\n",
       "            &lt;/style&gt;\n",
       "        \n",
       "&lt;/head&gt;\n",
       "&lt;body&gt;\n",
       "    \n",
       "    \n",
       "            &lt;div class=&quot;folium-map&quot; id=&quot;map_e08be9defe233c693ef8f1fa101569d6&quot; &gt;&lt;/div&gt;\n",
       "        \n",
       "&lt;/body&gt;\n",
       "&lt;script&gt;\n",
       "    \n",
       "    \n",
       "            var map_e08be9defe233c693ef8f1fa101569d6 = L.map(\n",
       "                &quot;map_e08be9defe233c693ef8f1fa101569d6&quot;,\n",
       "                {\n",
       "                    center: [50.965, 13.922],\n",
       "                    crs: L.CRS.EPSG3857,\n",
       "                    zoom: 12,\n",
       "                    zoomControl: true,\n",
       "                    preferCanvas: false,\n",
       "                }\n",
       "            );\n",
       "\n",
       "            \n",
       "\n",
       "        \n",
       "    \n",
       "            var tile_layer_2b3b30bdd1178050a38338b0d03d3617 = L.tileLayer(\n",
       "                &quot;https://{s}.basemaps.cartocdn.com/light_all/{z}/{x}/{y}{r}.png&quot;,\n",
       "                {&quot;attribution&quot;: &quot;\\u0026copy; \\u003ca href=\\&quot;https://www.openstreetmap.org/copyright\\&quot;\\u003eOpenStreetMap\\u003c/a\\u003e contributors \\u0026copy; \\u003ca href=\\&quot;https://carto.com/attributions\\&quot;\\u003eCARTO\\u003c/a\\u003e&quot;, &quot;detectRetina&quot;: false, &quot;maxNativeZoom&quot;: 20, &quot;maxZoom&quot;: 20, &quot;minZoom&quot;: 0, &quot;noWrap&quot;: false, &quot;opacity&quot;: 1, &quot;subdomains&quot;: &quot;abcd&quot;, &quot;tms&quot;: false}\n",
       "            );\n",
       "        \n",
       "    \n",
       "            tile_layer_2b3b30bdd1178050a38338b0d03d3617.addTo(map_e08be9defe233c693ef8f1fa101569d6);\n",
       "        \n",
       "    \n",
       "\n",
       "        function geo_json_04d6934f0835bb733eea6114d53a5e9c_onEachFeature(feature, layer) {\n",
       "            layer.on({\n",
       "            });\n",
       "        };\n",
       "        var geo_json_04d6934f0835bb733eea6114d53a5e9c = L.geoJson(null, {\n",
       "                onEachFeature: geo_json_04d6934f0835bb733eea6114d53a5e9c_onEachFeature,\n",
       "            \n",
       "        });\n",
       "\n",
       "        function geo_json_04d6934f0835bb733eea6114d53a5e9c_add (data) {\n",
       "            geo_json_04d6934f0835bb733eea6114d53a5e9c\n",
       "                .addData(data);\n",
       "        }\n",
       "            geo_json_04d6934f0835bb733eea6114d53a5e9c_add({&quot;coordinates&quot;: [[[13.92, 50.964], [13.92, 50.966], [13.925, 50.966], [13.925, 50.964], [13.92, 50.964]]], &quot;type&quot;: &quot;Polygon&quot;});\n",
       "\n",
       "        \n",
       "    \n",
       "            geo_json_04d6934f0835bb733eea6114d53a5e9c.addTo(map_e08be9defe233c693ef8f1fa101569d6);\n",
       "        \n",
       "    \n",
       "            map_e08be9defe233c693ef8f1fa101569d6.fitBounds(\n",
       "                [[50.964, 13.92], [50.966, 13.925]],\n",
       "                {}\n",
       "            );\n",
       "        \n",
       "    \n",
       "            tile_layer_2b3b30bdd1178050a38338b0d03d3617.addTo(map_e08be9defe233c693ef8f1fa101569d6);\n",
       "        \n",
       "    \n",
       "            geo_json_04d6934f0835bb733eea6114d53a5e9c.addTo(map_e08be9defe233c693ef8f1fa101569d6);\n",
       "        \n",
       "    \n",
       "\n",
       "        function geo_json_b88e64386408555a5c99391e27c19137_onEachFeature(feature, layer) {\n",
       "            layer.on({\n",
       "            });\n",
       "        };\n",
       "        var geo_json_b88e64386408555a5c99391e27c19137 = L.geoJson(null, {\n",
       "                onEachFeature: geo_json_b88e64386408555a5c99391e27c19137_onEachFeature,\n",
       "            \n",
       "        });\n",
       "\n",
       "        function geo_json_b88e64386408555a5c99391e27c19137_add (data) {\n",
       "            geo_json_b88e64386408555a5c99391e27c19137\n",
       "                .addData(data);\n",
       "        }\n",
       "            geo_json_b88e64386408555a5c99391e27c19137_add({&quot;coordinates&quot;: [[13.92004, 50.96401], [13.92499, 50.966]], &quot;type&quot;: &quot;LineString&quot;});\n",
       "\n",
       "        \n",
       "    \n",
       "            geo_json_b88e64386408555a5c99391e27c19137.addTo(map_e08be9defe233c693ef8f1fa101569d6);\n",
       "        \n",
       "    \n",
       "\n",
       "        function geo_json_00b1fbb76c6b166f4cb5f153b60cafdd_onEachFeature(feature, layer) {\n",
       "            layer.on({\n",
       "            });\n",
       "        };\n",
       "        var geo_json_00b1fbb76c6b166f4cb5f153b60cafdd = L.geoJson(null, {\n",
       "                onEachFeature: geo_json_00b1fbb76c6b166f4cb5f153b60cafdd_onEachFeature,\n",
       "            \n",
       "        });\n",
       "\n",
       "        function geo_json_00b1fbb76c6b166f4cb5f153b60cafdd_add (data) {\n",
       "            geo_json_00b1fbb76c6b166f4cb5f153b60cafdd\n",
       "                .addData(data);\n",
       "        }\n",
       "            geo_json_00b1fbb76c6b166f4cb5f153b60cafdd_add({&quot;coordinates&quot;: [13.92499, 50.966], &quot;type&quot;: &quot;Point&quot;});\n",
       "\n",
       "        \n",
       "    \n",
       "            geo_json_00b1fbb76c6b166f4cb5f153b60cafdd.addTo(map_e08be9defe233c693ef8f1fa101569d6);\n",
       "        \n",
       "    \n",
       "\n",
       "        function geo_json_15277439c75b82124f3752f2130b33d2_onEachFeature(feature, layer) {\n",
       "            layer.on({\n",
       "            });\n",
       "        };\n",
       "        var geo_json_15277439c75b82124f3752f2130b33d2 = L.geoJson(null, {\n",
       "                onEachFeature: geo_json_15277439c75b82124f3752f2130b33d2_onEachFeature,\n",
       "            \n",
       "        });\n",
       "\n",
       "        function geo_json_15277439c75b82124f3752f2130b33d2_add (data) {\n",
       "            geo_json_15277439c75b82124f3752f2130b33d2\n",
       "                .addData(data);\n",
       "        }\n",
       "            geo_json_15277439c75b82124f3752f2130b33d2_add({&quot;coordinates&quot;: [13.92004, 50.96401], &quot;type&quot;: &quot;Point&quot;});\n",
       "\n",
       "        \n",
       "    \n",
       "            geo_json_15277439c75b82124f3752f2130b33d2.addTo(map_e08be9defe233c693ef8f1fa101569d6);\n",
       "        \n",
       "    \n",
       "            map_e08be9defe233c693ef8f1fa101569d6.fitBounds(\n",
       "                [[50.964, 13.92], [50.966, 13.925]],\n",
       "                {}\n",
       "            );\n",
       "        \n",
       "&lt;/script&gt;\n",
       "&lt;/html&gt;\" style=\"position:absolute;width:100%;height:100%;left:0;top:0;border:none !important;\" allowfullscreen webkitallowfullscreen mozallowfullscreen></iframe></div></div>"
      ],
      "text/plain": [
       "<folium.folium.Map at 0x16b8e7260>"
      ]
     },
     "execution_count": 6,
     "metadata": {},
     "output_type": "execute_result"
    }
   ],
   "source": [
    "from morpheus.project.types.boundaries.Observation import ObservationName\n",
    "from morpheus.project.types.boundaries.RiverObservation import ObservationId, Conductance, RiverRawDataItem, RiverStage, \\\n",
    "  RiverbedBottom, RiverObservation\n",
    "from morpheus.project.types.geometry import Point\n",
    "from morpheus.project.types.boundaries.Boundary import BoundaryName, BoundaryCollection, RiverBoundary\n",
    "from morpheus.project.types.layers import LayerId\n",
    "\n",
    "layers_list = [LayerId.new()]\n",
    "\n",
    "river_boundary = RiverBoundary.from_geometry(\n",
    "  name=BoundaryName('river'),\n",
    "  geometry=LineString([\n",
    "    (13.92004, 50.96401),\n",
    "    (13.92499, 50.966),\n",
    "  ]),\n",
    "  grid=grid,\n",
    "  affected_layers=[model.layers[0].layer_id],\n",
    "  observations=[\n",
    "    RiverObservation(\n",
    "      observation_id=ObservationId.new(),\n",
    "      observation_name=ObservationName.default(),\n",
    "      geometry=Point((13.92499, 50.966)),\n",
    "      data=[\n",
    "        RiverRawDataItem(\n",
    "          date_time=StartDateTime.from_datetime(datetime(2019, 1, 1)),\n",
    "          riverbed_bottom=RiverbedBottom.from_float(100),\n",
    "          river_stage=RiverStage.from_float(105),\n",
    "          conductance=Conductance.from_float(50),\n",
    "        ),\n",
    "        RiverRawDataItem(\n",
    "          date_time=StartDateTime.from_datetime(datetime(2021, 12, 31)),\n",
    "          riverbed_bottom=RiverbedBottom.from_float(100),\n",
    "          river_stage=RiverStage.from_float(105),\n",
    "          conductance=Conductance.from_float(50),\n",
    "        ),\n",
    "      ]\n",
    "    ),\n",
    "    RiverObservation(\n",
    "      observation_id=ObservationId.new(),\n",
    "      observation_name=ObservationName.default(),\n",
    "      geometry=Point((13.92004, 50.96401)),\n",
    "      data=[\n",
    "        RiverRawDataItem(\n",
    "          date_time=StartDateTime.from_datetime(datetime(2019, 1, 1)),\n",
    "          riverbed_bottom=RiverbedBottom.from_float(95),\n",
    "          river_stage=RiverStage.from_float(100),\n",
    "          conductance=Conductance.from_float(100),\n",
    "        ),\n",
    "        RiverRawDataItem(\n",
    "          date_time=StartDateTime.from_datetime(datetime(2021, 12, 31)),\n",
    "          riverbed_bottom=RiverbedBottom.from_float(95),\n",
    "          river_stage=RiverStage.from_float(100),\n",
    "          conductance=Conductance.from_float(100),\n",
    "        ),\n",
    "      ]\n",
    "    ),\n",
    "  ]\n",
    ")\n",
    "\n",
    "boundary_collection = BoundaryCollection.new()\n",
    "boundary_collection.add_boundary(river_boundary)\n",
    "\n",
    "model = model.with_updated_boundaries(boundaries=boundary_collection)\n",
    "\n",
    "m.add_child(folium.GeoJson(river_boundary.as_geojson()))\n",
    "for observation in river_boundary.observations:\n",
    "  m.add_child(folium.GeoJson(observation.as_geojson()))\n",
    "\n",
    "m.fit_bounds(m.get_bounds())\n",
    "m"
   ]
  },
  {
   "cell_type": "code",
   "execution_count": 7,
   "id": "25b4324c4d166cd7",
   "metadata": {
    "ExecuteTime": {
     "end_time": "2024-05-14T08:13:36.421726Z",
     "start_time": "2024-05-14T08:13:36.419367Z"
    },
    "collapsed": false,
    "execution": {
     "iopub.execute_input": "2024-05-15T15:40:36.240186Z",
     "iopub.status.busy": "2024-05-15T15:40:36.240048Z",
     "iopub.status.idle": "2024-05-15T15:40:36.242477Z",
     "shell.execute_reply": "2024-05-15T15:40:36.242107Z"
    },
    "papermill": {
     "duration": 0.006488,
     "end_time": "2024-05-15T15:40:36.243531",
     "exception": false,
     "start_time": "2024-05-15T15:40:36.237043",
     "status": "completed"
    },
    "tags": []
   },
   "outputs": [
    {
     "data": {
      "text/plain": [
       "[RiverObservation(observation_id=ObservationId(value='2608c10a-4847-4c27-a2a7-6c7e1230422d'), observation_name=ObservationName(value='Observation Point 1'), geometry=Point(coordinates=(13.92499, 50.966), type='Point'), data=[RiverRawDataItem(date_time=StartDateTime(value=datetime.datetime(2019, 1, 1, 0, 0, tzinfo=datetime.timezone.utc)), river_stage=RiverStage(value=105), riverbed_bottom=RiverbedBottom(value=100), conductance=Conductance(value=50)), RiverRawDataItem(date_time=StartDateTime(value=datetime.datetime(2021, 12, 31, 0, 0, tzinfo=datetime.timezone.utc)), river_stage=RiverStage(value=105), riverbed_bottom=RiverbedBottom(value=100), conductance=Conductance(value=50))]),\n",
       " RiverObservation(observation_id=ObservationId(value='37a2ef46-874f-48f7-9d2a-60fc4bbe5492'), observation_name=ObservationName(value='Observation Point 1'), geometry=Point(coordinates=(13.92004, 50.96401), type='Point'), data=[RiverRawDataItem(date_time=StartDateTime(value=datetime.datetime(2019, 1, 1, 0, 0, tzinfo=datetime.timezone.utc)), river_stage=RiverStage(value=100), riverbed_bottom=RiverbedBottom(value=95), conductance=Conductance(value=100)), RiverRawDataItem(date_time=StartDateTime(value=datetime.datetime(2021, 12, 31, 0, 0, tzinfo=datetime.timezone.utc)), river_stage=RiverStage(value=100), riverbed_bottom=RiverbedBottom(value=95), conductance=Conductance(value=100))])]"
      ]
     },
     "execution_count": 7,
     "metadata": {},
     "output_type": "execute_result"
    }
   ],
   "source": [
    "river_boundary.observations"
   ]
  },
  {
   "cell_type": "code",
   "execution_count": 8,
   "id": "dc338472e1887a13",
   "metadata": {
    "ExecuteTime": {
     "end_time": "2024-05-14T08:13:36.984720Z",
     "start_time": "2024-05-14T08:13:36.422437Z"
    },
    "collapsed": false,
    "execution": {
     "iopub.execute_input": "2024-05-15T15:40:36.249419Z",
     "iopub.status.busy": "2024-05-15T15:40:36.249255Z",
     "iopub.status.idle": "2024-05-15T15:40:36.650590Z",
     "shell.execute_reply": "2024-05-15T15:40:36.650294Z"
    },
    "papermill": {
     "duration": 0.405267,
     "end_time": "2024-05-15T15:40:36.651485",
     "exception": false,
     "start_time": "2024-05-15T15:40:36.246218",
     "status": "completed"
    },
    "tags": []
   },
   "outputs": [
    {
     "data": {
      "text/plain": [
       "{0: [[0, 49, 0, 100.0, 100.0, 95.0],\n",
       "  [0, 49, 1, 100.03393064024003, 99.6606935975997, 95.03393064024003],\n",
       "  [0, 48, 2, 100.09139229956574, 99.08607700434257, 95.09139229956574],\n",
       "  [0, 49, 2, 100.07740874835528, 99.22591251644711, 95.07740874835528],\n",
       "  [0, 48, 3, 100.13487040767791, 98.65129592322087, 95.13487040767791],\n",
       "  [0, 47, 4, 100.19233205496651, 98.07667945033482, 95.19233205496651],\n",
       "  [0, 48, 4, 100.17834851579318, 98.21651484206829, 95.17834851579318],\n",
       "  [0, 47, 5, 100.23581016307868, 97.64189836921312, 95.23581016307868],\n",
       "  [0, 46, 6, 100.29327179832119, 97.0672820167881, 95.29327179832119],\n",
       "  [0, 47, 6, 100.2792882711924, 97.20711728807598, 95.2792882711924],\n",
       "  [0, 46, 7, 100.33674990643645, 96.63250093563552, 95.33674990643645],\n",
       "  [0, 45, 8, 100.3942115296403, 96.05788470359701, 95.3942115296403],\n",
       "  [0, 46, 8, 100.38022801454862, 96.19771985451382, 95.38022801454862],\n",
       "  [0, 45, 9, 100.43768963775555, 95.62310362244442, 95.43768963775555],\n",
       "  [0, 44, 10, 100.49515124891734, 95.04848751082666, 95.49515124891734],\n",
       "  [0, 45, 10, 100.48116774586772, 95.18832254132272, 95.48116774586772],\n",
       "  [0, 44, 11, 100.53862935703259, 94.61370642967408, 95.53862935703259],\n",
       "  [0, 43, 12, 100.59609095615632, 94.03909043843679, 95.59609095615632],\n",
       "  [0, 44, 12, 100.58210746514631, 94.17892534853694, 95.58210746514631],\n",
       "  [0, 43, 13, 100.63956906427003, 93.60430935729964, 95.63956906427003],\n",
       "  [0, 42, 14, 100.69703065135666, 93.02969348643342, 95.69703065135666],\n",
       "  [0, 43, 14, 100.68304717238375, 93.1695282761625, 95.68304717238375],\n",
       "  [0, 42, 15, 100.74050875946882, 92.59491240531173, 95.74050875946882],\n",
       "  [0, 41, 16, 100.79797033451244, 92.02029665487565, 95.79797033451244],\n",
       "  [0, 42, 16, 100.78398686758409, 92.16013132415914, 95.78398686758409],\n",
       "  [0, 41, 17, 100.84144844262615, 91.5855155737385, 95.84144844262615],\n",
       "  [0, 40, 18, 100.89891000562862, 91.01089994371378, 95.89891000562862],\n",
       "  [0, 41, 18, 100.88492655073986, 91.15073449260136, 95.88492655073986],\n",
       "  [0, 40, 19, 100.94238811374079, 90.5761188625921, 95.94238811374079],\n",
       "  [0, 39, 20, 100.99984966470427, 90.00150335295723, 95.99984966470427],\n",
       "  [0, 40, 20, 100.98586622185759, 90.14133778142406, 95.98586622185759],\n",
       "  [0, 39, 21, 101.04332777281645, 89.56672227183553, 96.04332777281645],\n",
       "  [0, 38, 22, 101.10078931174377, 88.99210688256234, 96.10078931174377],\n",
       "  [0, 39, 22, 101.0868058809317, 89.13194119068294, 96.0868058809317],\n",
       "  [0, 38, 23, 101.14426741985594, 88.55732580144064, 96.14426741985594],\n",
       "  [0, 37, 24, 101.20172894673964, 87.98271053260366, 96.20172894673964],\n",
       "  [0, 38, 24, 101.18774552796965, 88.12254472030351, 96.18774552796965],\n",
       "  [0, 37, 25, 101.24520705485489, 87.54792945145107, 96.24520705485489],\n",
       "  [0, 36, 26, 101.30266856969652, 86.97331430303483, 96.30266856969652],\n",
       "  [0, 37, 26, 101.2886851629686, 87.11314837031392, 96.2886851629686],\n",
       "  [0, 36, 27, 101.34614667780869, 86.53853322191313, 96.34614667780869],\n",
       "  [0, 35, 28, 101.40360818061072, 85.9639181938928, 96.40360818061072],\n",
       "  [0, 36, 28, 101.38962478592241, 86.10375214077598, 96.38962478592241],\n",
       "  [0, 35, 29, 101.44708628872444, 85.52913711275566, 96.44708628872444],\n",
       "  [0, 34, 30, 101.50454777948593, 84.95452220514063, 96.50454777948593],\n",
       "  [0, 35, 30, 101.49056439683969, 85.09435603160307, 96.49056439683969],\n",
       "  [0, 34, 31, 101.54802588759965, 84.51974112400349, 96.54802588759965],\n",
       "  [0, 33, 32, 101.60548736631847, 83.94512633681526, 96.60548736631847],\n",
       "  [0, 34, 32, 101.59150399571182, 84.08496004288179, 96.59150399571182],\n",
       "  [0, 33, 33, 101.64896547443374, 83.51034525566267, 96.64896547443374],\n",
       "  [0, 32, 34, 101.70642694111451, 82.93573058885491, 96.70642694111451],\n",
       "  [0, 33, 34, 101.69244358254744, 83.07556417452554, 96.69244358254744],\n",
       "  [0, 32, 35, 101.74990504922977, 82.50094950770233, 96.74990504922977],\n",
       "  [0, 31, 36, 101.8073665038694, 81.92633496130593, 96.8073665038694],\n",
       "  [0, 32, 36, 101.79338315734194, 82.06616842658063, 96.79338315734194],\n",
       "  [0, 31, 37, 101.85084461198157, 81.49155388018423, 96.85084461198157],\n",
       "  [0, 30, 38, 101.90830605458471, 80.91693945415284, 96.90830605458471],\n",
       "  [0, 31, 38, 101.89432272009684, 81.05677279903165, 96.89432272009684],\n",
       "  [0, 30, 39, 101.95178416269998, 80.48215837300026, 96.95178416269998],\n",
       "  [0, 29, 40, 102.00924559325794, 79.9075440674205, 97.00924559325794],\n",
       "  [0, 30, 40, 101.99526227081215, 80.04737729187856, 96.99526227081215],\n",
       "  [0, 29, 41, 102.05272370137166, 79.47276298628337, 97.05272370137166],\n",
       "  [0, 28, 42, 102.1101851198916, 78.89814880108409, 97.1101851198916],\n",
       "  [0, 29, 42, 102.09620180948538, 79.03798190514622, 97.09620180948538],\n",
       "  [0, 28, 43, 102.15366322800685, 78.4633677199315, 97.15366322800685],\n",
       "  [0, 27, 44, 102.21112463448719, 77.88875365512813, 97.21112463448719],\n",
       "  [0, 28, 44, 102.19714133612057, 78.02858663879437, 97.19714133612057],\n",
       "  [0, 27, 45, 102.25460274259936, 77.45397257400643, 97.25460274259936],\n",
       "  [0, 26, 46, 102.31206413704165, 76.87935862958352, 97.31206413704165],\n",
       "  [0, 27, 46, 102.29808085071461, 77.01919149285385, 97.29808085071461],\n",
       "  [0, 26, 47, 102.35554224515381, 76.44457754846184, 97.35554224515381],\n",
       "  [0, 25, 48, 102.41300362755403, 75.86996372445968, 97.41300362755403],\n",
       "  [0, 26, 48, 102.39902035326908, 76.00979646730924, 97.39902035326908],\n",
       "  [0, 25, 49, 102.45648173566775, 75.43518264332253, 97.45648173566775],\n",
       "  [0, 24, 50, 102.51394310602528, 74.86056893974718, 97.51394310602528],\n",
       "  [0, 25, 50, 102.49995984377992, 75.00040156220084, 97.49995984377992],\n",
       "  [0, 24, 51, 102.55742121414055, 74.42578785859459, 97.55742121414055],\n",
       "  [0, 23, 52, 102.6148825724591, 73.8511742754091, 97.6148825724591],\n",
       "  [0, 24, 52, 102.6008993222558, 73.99100677744201, 97.6008993222558],\n",
       "  [0, 23, 53, 102.65836068057126, 73.41639319428741, 97.65836068057126],\n",
       "  [0, 22, 54, 102.71582202685116, 72.84177973148843, 97.71582202685116],\n",
       "  [0, 23, 54, 102.70183878868497, 72.98161211315026, 97.70183878868497],\n",
       "  [0, 22, 55, 102.75930013496487, 72.40699865035128, 97.75930013496487],\n",
       "  [0, 21, 56, 102.81676146920269, 71.83238530797306, 97.81676146920269],\n",
       "  [0, 22, 56, 102.80277824307859, 71.97221756921414, 97.80277824307859],\n",
       "  [0, 21, 57, 102.86023957731796, 71.39760422682046, 97.86023957731796],\n",
       "  [0, 20, 58, 102.91770089951713, 70.82299100482875, 97.91770089951713],\n",
       "  [0, 21, 58, 102.90371768543012, 70.96282314569876, 97.90371768543012],\n",
       "  [0, 20, 59, 102.96117900763238, 70.38820992367616, 97.96117900763238],\n",
       "  [0, 19, 60, 103.01864031778699, 69.81359682213004, 98.01864031778699],\n",
       "  [0, 20, 60, 103.00465711574455, 69.95342884255447, 98.00465711574455],\n",
       "  [0, 18, 61, 103.07610161590759, 69.23898384092409, 98.07610161590759],\n",
       "  [0, 19, 61, 103.06211842590226, 69.37881574097744, 98.06211842590226],\n",
       "  [0, 18, 62, 103.1195797240213, 68.80420275978696, 98.1195797240213],\n",
       "  [0, 17, 63, 103.17704101009922, 68.2295898990078, 98.17704101009922],\n",
       "  [0, 18, 63, 103.16305783213348, 68.36942167866526, 98.16305783213348],\n",
       "  [0, 17, 64, 103.22051911821448, 67.79480881785523, 98.22051911821448],\n",
       "  [0, 16, 65, 103.27798039224783, 67.22019607752168, 98.27798039224783],\n",
       "  [0, 17, 65, 103.26399722632665, 67.36002773673351, 98.26399722632665],\n",
       "  [0, 16, 66, 103.3214585003631, 66.78541499636908, 98.3214585003631],\n",
       "  [0, 15, 67, 103.37891976236088, 66.21080237639114, 98.37891976236088],\n",
       "  [0, 16, 67, 103.36493660847681, 66.35063391523195, 98.36493660847681],\n",
       "  [0, 15, 68, 103.4223978704746, 65.77602129525401, 98.4223978704746],\n",
       "  [0, 14, 69, 103.47985912043528, 65.20140879564715, 98.47985912043528],\n",
       "  [0, 15, 69, 103.46587597858831, 65.34124021411688, 98.46587597858831],\n",
       "  [0, 14, 70, 103.52333722855055, 64.76662771449458, 98.52333722855055],\n",
       "  [0, 13, 71, 103.58079846646264, 64.19201533537358, 98.58079846646264],\n",
       "  [0, 14, 71, 103.56681533666271, 64.33184663337286, 98.56681533666271],\n",
       "  [0, 13, 72, 103.6242765745779, 63.757234254221004, 98.6242765745779],\n",
       "  [0, 12, 73, 103.68173780045538, 63.18262199544623, 98.68173780045538],\n",
       "  [0, 13, 73, 103.66775468269007, 63.322453173099305, 98.66775468269007],\n",
       "  [0, 12, 74, 103.72521590856908, 62.74784091430911, 98.72521590856908],\n",
       "  [0, 11, 75, 103.78267712240509, 62.173228775949056, 98.78267712240509],\n",
       "  [0, 12, 75, 103.76869401668435, 62.31305983315652, 98.76869401668435],\n",
       "  [0, 11, 76, 103.82615523051726, 61.73844769482735, 98.82615523051726],\n",
       "  [0, 10, 77, 103.88361643231616, 61.163835676838374, 98.88361643231616],\n",
       "  [0, 11, 77, 103.86963333863253, 61.30366661367477, 98.86963333863253],\n",
       "  [0, 10, 78, 103.92709454042833, 60.72905459571668, 98.92709454042833],\n",
       "  [0, 9, 79, 103.98455573018609, 60.15444269813905, 98.98455573018609],\n",
       "  [0, 10, 79, 103.97057264854205, 60.29427351457954, 98.97057264854205],\n",
       "  [0, 9, 80, 104.02803383830135, 59.719661616986464, 99.02803383830135],\n",
       "  [0, 8, 81, 104.08549501601703, 59.145049839829575, 99.08549501601703],\n",
       "  [0, 9, 81, 104.07151194641507, 59.28488053584932, 99.07151194641507],\n",
       "  [0, 8, 82, 104.12897312413075, 58.710268758692436, 99.12897312413075],\n",
       "  [0, 7, 83, 104.1864342898053, 58.13565710194691, 99.1864342898053],\n",
       "  [0, 8, 83, 104.17245123224292, 58.275487677570744, 99.17245123224292],\n",
       "  [0, 7, 84, 104.22991239792057, 57.70087602079434, 99.22991239792057],\n",
       "  [0, 6, 85, 104.28737355155613, 57.126264484438664, 99.28737355155613],\n",
       "  [0, 7, 85, 104.27339050603582, 57.26609493964175, 99.27339050603582],\n",
       "  [0, 6, 86, 104.3308516596683, 56.69148340331698, 99.3308516596683],\n",
       "  [0, 5, 87, 104.38831280126522, 56.11687198734782, 99.38831280126522],\n",
       "  [0, 6, 87, 104.37432976778202, 56.256702322179834, 99.37432976778202],\n",
       "  [0, 5, 88, 104.43179090937893, 55.68209090621068, 99.43179090937893],\n",
       "  [0, 4, 89, 104.48925203893377, 55.10747961066229, 99.48925203893377],\n",
       "  [0, 5, 89, 104.47526901749265, 55.247309825073536, 99.47526901749265],\n",
       "  [0, 4, 90, 104.53273014704902, 54.6726985295097, 99.53273014704902],\n",
       "  [0, 3, 91, 104.59019126456273, 54.09808735437265, 99.59019126456273],\n",
       "  [0, 4, 91, 104.5762082551612, 54.237917448388, 99.5762082551612],\n",
       "  [0, 3, 92, 104.63366937267645, 53.66330627323551, 99.63366937267645],\n",
       "  [0, 2, 93, 104.69113047815365, 53.08869521846349, 99.69113047815365],\n",
       "  [0, 3, 93, 104.6771474807917, 53.22852519208293, 99.6771474807917],\n",
       "  [0, 2, 94, 104.73460858626737, 52.65391413732636, 99.73460858626737],\n",
       "  [0, 1, 95, 104.79206967970094, 52.07930320299052, 99.79206967970094],\n",
       "  [0, 2, 95, 104.77808669438107, 52.21913305618921, 99.77808669438107],\n",
       "  [0, 1, 96, 104.83554778781311, 51.644522121868825, 99.83554778781311],\n",
       "  [0, 0, 97, 104.89300886921208, 51.06991130787924, 99.89300886921208],\n",
       "  [0, 1, 97, 104.87902589592683, 51.209741040731686, 99.87902589592683],\n",
       "  [0, 0, 98, 104.93648697732888, 50.6351302267112, 99.93648697732888],\n",
       "  [0, 0, 99, 104.97996508544105, 50.200349145589506, 99.97996508544105]]}"
      ]
     },
     "execution_count": 8,
     "metadata": {},
     "output_type": "execute_result"
    }
   ],
   "source": [
    "from morpheus.project.infrastructure.calculation.engines.modflow_2005.packages.RivPackageMapper import \\\n",
    "  calculate_riv_boundary_stress_period_data\n",
    "\n",
    "result = calculate_riv_boundary_stress_period_data(\n",
    "  spatial_discretization=spatial_discretization,\n",
    "  time_discretization=time_discretization,\n",
    "  layers=model.layers,\n",
    "  riv_boundary=river_boundary,\n",
    ")\n",
    "result.to_dict()"
   ]
  },
  {
   "cell_type": "markdown",
   "id": "42d948d145a8457a",
   "metadata": {
    "collapsed": false,
    "papermill": {
     "duration": 0.002643,
     "end_time": "2024-05-15T15:40:36.656947",
     "exception": false,
     "start_time": "2024-05-15T15:40:36.654304",
     "status": "completed"
    },
    "tags": []
   },
   "source": [
    "## Calculate"
   ]
  },
  {
   "cell_type": "code",
   "execution_count": 9,
   "id": "56ccabee86e2397e",
   "metadata": {
    "ExecuteTime": {
     "end_time": "2024-05-14T08:13:37.036994Z",
     "start_time": "2024-05-14T08:13:37.008529Z"
    },
    "collapsed": false,
    "execution": {
     "iopub.execute_input": "2024-05-15T15:40:36.662887Z",
     "iopub.status.busy": "2024-05-15T15:40:36.662578Z",
     "iopub.status.idle": "2024-05-15T15:40:36.674179Z",
     "shell.execute_reply": "2024-05-15T15:40:36.673914Z"
    },
    "papermill": {
     "duration": 0.015814,
     "end_time": "2024-05-15T15:40:36.675150",
     "exception": false,
     "start_time": "2024-05-15T15:40:36.659336",
     "status": "completed"
    },
    "tags": []
   },
   "outputs": [],
   "source": [
    "from morpheus.project.types.calculation.CalculationProfile import CalculationProfile, CalculationEngineType\n",
    "from morpheus.project.types.calculation.Calculation import Calculation\n",
    "\n",
    "calculation_profile = CalculationProfile.new(CalculationEngineType.MF2005)\n",
    "calculation = Calculation.new(model=model, calculation_profile=calculation_profile)"
   ]
  },
  {
   "cell_type": "code",
   "execution_count": 10,
   "id": "e09d94e0a94315cb",
   "metadata": {
    "ExecuteTime": {
     "end_time": "2024-05-14T08:13:37.052289Z",
     "start_time": "2024-05-14T08:13:37.038859Z"
    },
    "collapsed": false,
    "execution": {
     "iopub.execute_input": "2024-05-15T15:40:36.680953Z",
     "iopub.status.busy": "2024-05-15T15:40:36.680830Z",
     "iopub.status.idle": "2024-05-15T15:40:36.685979Z",
     "shell.execute_reply": "2024-05-15T15:40:36.685728Z"
    },
    "papermill": {
     "duration": 0.009026,
     "end_time": "2024-05-15T15:40:36.686814",
     "exception": false,
     "start_time": "2024-05-15T15:40:36.677788",
     "status": "completed"
    },
    "tags": []
   },
   "outputs": [
    {
     "data": {
      "text/plain": [
       "CalculationId(value='eb1e9eaa-b4ce-4120-9852-36c54286af74')"
      ]
     },
     "execution_count": 10,
     "metadata": {},
     "output_type": "execute_result"
    }
   ],
   "source": [
    "calculation = Calculation.from_dict(calculation.to_dict())\n",
    "calculation.calculation_id"
   ]
  },
  {
   "cell_type": "markdown",
   "id": "8d8c2c8a",
   "metadata": {
    "tags": [
     "papermill-error-cell-tag"
    ]
   },
   "source": [
    "<span id=\"papermill-error-cell\" style=\"color:red; font-family:Helvetica Neue, Helvetica, Arial, sans-serif; font-size:2em;\">Execution using papermill encountered an exception here and stopped:</span>"
   ]
  },
  {
   "cell_type": "code",
   "execution_count": 11,
   "id": "672007fb90753c4c",
   "metadata": {
    "ExecuteTime": {
     "end_time": "2024-05-14T08:13:37.816138Z",
     "start_time": "2024-05-14T08:13:37.065460Z"
    },
    "collapsed": false,
    "execution": {
     "iopub.execute_input": "2024-05-15T15:40:36.692816Z",
     "iopub.status.busy": "2024-05-15T15:40:36.692673Z",
     "iopub.status.idle": "2024-05-15T15:40:37.062230Z",
     "shell.execute_reply": "2024-05-15T15:40:37.061622Z"
    },
    "papermill": {
     "duration": 0.373417,
     "end_time": "2024-05-15T15:40:37.062946",
     "exception": true,
     "start_time": "2024-05-15T15:40:36.689529",
     "status": "failed"
    },
    "tags": []
   },
   "outputs": [
    {
     "ename": "ValidationError",
     "evalue": "SECRET_KEY is required in env production",
     "output_type": "error",
     "traceback": [
      "\u001b[0;31m---------------------------------------------------------------------------\u001b[0m",
      "\u001b[0;31mValidationError\u001b[0m                           Traceback (most recent call last)",
      "Cell \u001b[0;32mIn[11], line 1\u001b[0m\n\u001b[0;32m----> 1\u001b[0m \u001b[38;5;28;01mfrom\u001b[39;00m \u001b[38;5;21;01mmorpheus\u001b[39;00m\u001b[38;5;21;01m.\u001b[39;00m\u001b[38;5;21;01mproject\u001b[39;00m\u001b[38;5;21;01m.\u001b[39;00m\u001b[38;5;21;01minfrastructure\u001b[39;00m\u001b[38;5;21;01m.\u001b[39;00m\u001b[38;5;21;01mcalculation\u001b[39;00m\u001b[38;5;21;01m.\u001b[39;00m\u001b[38;5;21;01mservices\u001b[39;00m\u001b[38;5;21;01m.\u001b[39;00m\u001b[38;5;21;01mCalculationService\u001b[39;00m \u001b[38;5;28;01mimport\u001b[39;00m CalculationService\n\u001b[1;32m      3\u001b[0m calculation_service \u001b[38;5;241m=\u001b[39m CalculationService\u001b[38;5;241m.\u001b[39mfrom_calculation(calculation)\n\u001b[1;32m      4\u001b[0m calculation_service\u001b[38;5;241m.\u001b[39mcalculate()\n",
      "File \u001b[0;32m~/Projects/inowas/morpheus/src/backend/src/morpheus/project/infrastructure/calculation/services/CalculationService.py:2\u001b[0m\n\u001b[1;32m      1\u001b[0m \u001b[38;5;28;01mfrom\u001b[39;00m \u001b[38;5;21;01mmorpheus\u001b[39;00m\u001b[38;5;21;01m.\u001b[39;00m\u001b[38;5;21;01mproject\u001b[39;00m\u001b[38;5;21;01m.\u001b[39;00m\u001b[38;5;21;01minfrastructure\u001b[39;00m\u001b[38;5;21;01m.\u001b[39;00m\u001b[38;5;21;01mcalculation\u001b[39;00m\u001b[38;5;21;01m.\u001b[39;00m\u001b[38;5;21;01mengines\u001b[39;00m\u001b[38;5;21;01m.\u001b[39;00m\u001b[38;5;21;01mbase\u001b[39;00m\u001b[38;5;21;01m.\u001b[39;00m\u001b[38;5;21;01mCalculationEngineBase\u001b[39;00m \u001b[38;5;28;01mimport\u001b[39;00m CalculationEngineBase\n\u001b[0;32m----> 2\u001b[0m \u001b[38;5;28;01mfrom\u001b[39;00m \u001b[38;5;21;01mmorpheus\u001b[39;00m\u001b[38;5;21;01m.\u001b[39;00m\u001b[38;5;21;01mproject\u001b[39;00m\u001b[38;5;21;01m.\u001b[39;00m\u001b[38;5;21;01minfrastructure\u001b[39;00m\u001b[38;5;21;01m.\u001b[39;00m\u001b[38;5;21;01mcalculation\u001b[39;00m\u001b[38;5;21;01m.\u001b[39;00m\u001b[38;5;21;01mengines\u001b[39;00m\u001b[38;5;21;01m.\u001b[39;00m\u001b[38;5;21;01mbase\u001b[39;00m\u001b[38;5;21;01m.\u001b[39;00m\u001b[38;5;21;01mCalculationEngineFactory\u001b[39;00m \u001b[38;5;28;01mimport\u001b[39;00m CalculationEngineFactory\n\u001b[1;32m      3\u001b[0m \u001b[38;5;28;01mfrom\u001b[39;00m \u001b[38;5;21;01mmorpheus\u001b[39;00m\u001b[38;5;21;01m.\u001b[39;00m\u001b[38;5;21;01mproject\u001b[39;00m\u001b[38;5;21;01m.\u001b[39;00m\u001b[38;5;21;01mtypes\u001b[39;00m\u001b[38;5;21;01m.\u001b[39;00m\u001b[38;5;21;01mcalculation\u001b[39;00m\u001b[38;5;21;01m.\u001b[39;00m\u001b[38;5;21;01mCalculation\u001b[39;00m \u001b[38;5;28;01mimport\u001b[39;00m CalculationId, CalculationState, Calculation\n\u001b[1;32m      4\u001b[0m \u001b[38;5;28;01mfrom\u001b[39;00m \u001b[38;5;21;01mmorpheus\u001b[39;00m\u001b[38;5;21;01m.\u001b[39;00m\u001b[38;5;21;01mproject\u001b[39;00m\u001b[38;5;21;01m.\u001b[39;00m\u001b[38;5;21;01minfrastructure\u001b[39;00m\u001b[38;5;21;01m.\u001b[39;00m\u001b[38;5;21;01mpersistence\u001b[39;00m\u001b[38;5;21;01m.\u001b[39;00m\u001b[38;5;21;01mCalculationRepository\u001b[39;00m \u001b[38;5;28;01mimport\u001b[39;00m calculation_repository\n",
      "File \u001b[0;32m~/Projects/inowas/morpheus/src/backend/src/morpheus/project/infrastructure/calculation/engines/base/CalculationEngineFactory.py:7\u001b[0m\n\u001b[1;32m      5\u001b[0m \u001b[38;5;28;01mfrom\u001b[39;00m \u001b[38;5;21;01mmorpheus\u001b[39;00m\u001b[38;5;21;01m.\u001b[39;00m\u001b[38;5;21;01mproject\u001b[39;00m\u001b[38;5;21;01m.\u001b[39;00m\u001b[38;5;21;01mtypes\u001b[39;00m\u001b[38;5;21;01m.\u001b[39;00m\u001b[38;5;21;01mcalculation\u001b[39;00m\u001b[38;5;21;01m.\u001b[39;00m\u001b[38;5;21;01mCalculation\u001b[39;00m \u001b[38;5;28;01mimport\u001b[39;00m Calculation\n\u001b[1;32m      6\u001b[0m \u001b[38;5;28;01mfrom\u001b[39;00m \u001b[38;5;21;01mmorpheus\u001b[39;00m\u001b[38;5;21;01m.\u001b[39;00m\u001b[38;5;21;01mproject\u001b[39;00m\u001b[38;5;21;01m.\u001b[39;00m\u001b[38;5;21;01mtypes\u001b[39;00m\u001b[38;5;21;01m.\u001b[39;00m\u001b[38;5;21;01mcalculation\u001b[39;00m\u001b[38;5;21;01m.\u001b[39;00m\u001b[38;5;21;01mCalculationProfile\u001b[39;00m \u001b[38;5;28;01mimport\u001b[39;00m CalculationEngineType\n\u001b[0;32m----> 7\u001b[0m \u001b[38;5;28;01mfrom\u001b[39;00m \u001b[38;5;21;01mmorpheus\u001b[39;00m\u001b[38;5;21;01m.\u001b[39;00m\u001b[38;5;21;01msettings\u001b[39;00m \u001b[38;5;28;01mimport\u001b[39;00m settings\n\u001b[1;32m     10\u001b[0m \u001b[38;5;28;01mclass\u001b[39;00m \u001b[38;5;21;01mCalculationEngineFactory\u001b[39;00m:\n\u001b[1;32m     11\u001b[0m     \u001b[38;5;129m@classmethod\u001b[39m\n\u001b[1;32m     12\u001b[0m     \u001b[38;5;28;01mdef\u001b[39;00m \u001b[38;5;21mcreate_engine\u001b[39m(\u001b[38;5;28mcls\u001b[39m, calculation: Calculation) \u001b[38;5;241m-\u001b[39m\u001b[38;5;241m>\u001b[39m CalculationEngineBase:\n",
      "File \u001b[0;32m~/Projects/inowas/morpheus/src/backend/src/morpheus/settings.py:48\u001b[0m\n\u001b[1;32m     44\u001b[0m     \u001b[38;5;28;01mdef\u001b[39;00m \u001b[38;5;21mis_production\u001b[39m(\u001b[38;5;28mself\u001b[39m):\n\u001b[1;32m     45\u001b[0m         \u001b[38;5;28;01mreturn\u001b[39;00m \u001b[38;5;28mself\u001b[39m\u001b[38;5;241m.\u001b[39mENV \u001b[38;5;241m==\u001b[39m \u001b[38;5;124m'\u001b[39m\u001b[38;5;124mproduction\u001b[39m\u001b[38;5;124m'\u001b[39m\n\u001b[0;32m---> 48\u001b[0m settings \u001b[38;5;241m=\u001b[39m \u001b[43mSettings\u001b[49m\u001b[38;5;241;43m.\u001b[39;49m\u001b[43mfrom_dynaconf\u001b[49m\u001b[43m(\u001b[49m\n\u001b[1;32m     49\u001b[0m \u001b[43m    \u001b[49m\u001b[43mDynaconf\u001b[49m\u001b[43m(\u001b[49m\n\u001b[1;32m     50\u001b[0m \u001b[43m        \u001b[49m\u001b[43mload_dotenv\u001b[49m\u001b[38;5;241;43m=\u001b[39;49m\u001b[38;5;28;43;01mTrue\u001b[39;49;00m\u001b[43m,\u001b[49m\n\u001b[1;32m     51\u001b[0m \u001b[43m        \u001b[49m\u001b[43menvironments\u001b[49m\u001b[38;5;241;43m=\u001b[39;49m\u001b[38;5;28;43;01mTrue\u001b[39;49;00m\u001b[43m,\u001b[49m\n\u001b[1;32m     52\u001b[0m \u001b[43m        \u001b[49m\u001b[43menvvar_prefix\u001b[49m\u001b[38;5;241;43m=\u001b[39;49m\u001b[38;5;124;43m'\u001b[39;49m\u001b[38;5;124;43mBACKEND\u001b[39;49m\u001b[38;5;124;43m'\u001b[39;49m\u001b[43m,\u001b[49m\n\u001b[1;32m     53\u001b[0m \u001b[43m        \u001b[49m\u001b[43menv\u001b[49m\u001b[38;5;241;43m=\u001b[39;49m\u001b[43mos\u001b[49m\u001b[38;5;241;43m.\u001b[39;49m\u001b[43menviron\u001b[49m\u001b[38;5;241;43m.\u001b[39;49m\u001b[43mget\u001b[49m\u001b[43m(\u001b[49m\u001b[38;5;124;43m'\u001b[39;49m\u001b[38;5;124;43mFLASK_ENV\u001b[39;49m\u001b[38;5;124;43m'\u001b[39;49m\u001b[43m,\u001b[49m\u001b[43m \u001b[49m\u001b[38;5;124;43m'\u001b[39;49m\u001b[38;5;124;43mproduction\u001b[39;49m\u001b[38;5;124;43m'\u001b[39;49m\u001b[43m)\u001b[49m\u001b[43m,\u001b[49m\n\u001b[1;32m     54\u001b[0m \u001b[43m        \u001b[49m\u001b[43mvalidators\u001b[49m\u001b[38;5;241;43m=\u001b[39;49m\u001b[43m[\u001b[49m\n\u001b[1;32m     55\u001b[0m \u001b[43m            \u001b[49m\u001b[43mValidator\u001b[49m\u001b[43m(\u001b[49m\u001b[38;5;124;43m'\u001b[39;49m\u001b[38;5;124;43mSECRET_KEY\u001b[39;49m\u001b[38;5;124;43m'\u001b[39;49m\u001b[43m,\u001b[49m\u001b[43m \u001b[49m\u001b[43mmust_exist\u001b[49m\u001b[38;5;241;43m=\u001b[39;49m\u001b[38;5;28;43;01mTrue\u001b[39;49;00m\u001b[43m)\u001b[49m\u001b[43m,\u001b[49m\n\u001b[1;32m     56\u001b[0m \u001b[43m            \u001b[49m\u001b[43mValidator\u001b[49m\u001b[43m(\u001b[49m\u001b[38;5;124;43m'\u001b[39;49m\u001b[38;5;124;43mMAX_CONTENT_LENGTH\u001b[39;49m\u001b[38;5;124;43m'\u001b[39;49m\u001b[43m,\u001b[49m\u001b[43m \u001b[49m\u001b[43mmust_exist\u001b[49m\u001b[38;5;241;43m=\u001b[39;49m\u001b[38;5;28;43;01mTrue\u001b[39;49;00m\u001b[43m)\u001b[49m\u001b[43m,\u001b[49m\n\u001b[1;32m     57\u001b[0m \u001b[43m            \u001b[49m\u001b[43mValidator\u001b[49m\u001b[43m(\u001b[49m\u001b[38;5;124;43m'\u001b[39;49m\u001b[38;5;124;43mKEYCLOAK_CLIENT_ID\u001b[39;49m\u001b[38;5;124;43m'\u001b[39;49m\u001b[43m,\u001b[49m\u001b[43m \u001b[49m\u001b[43mmust_exist\u001b[49m\u001b[38;5;241;43m=\u001b[39;49m\u001b[38;5;28;43;01mTrue\u001b[39;49;00m\u001b[43m)\u001b[49m\u001b[43m,\u001b[49m\n\u001b[1;32m     58\u001b[0m \u001b[43m            \u001b[49m\u001b[43mValidator\u001b[49m\u001b[43m(\u001b[49m\u001b[38;5;124;43m'\u001b[39;49m\u001b[38;5;124;43mKEYCLOAK_CLIENT_SECRET\u001b[39;49m\u001b[38;5;124;43m'\u001b[39;49m\u001b[43m,\u001b[49m\u001b[43m \u001b[49m\u001b[43mmust_exist\u001b[49m\u001b[38;5;241;43m=\u001b[39;49m\u001b[38;5;28;43;01mTrue\u001b[39;49;00m\u001b[43m)\u001b[49m\u001b[43m,\u001b[49m\n\u001b[1;32m     59\u001b[0m \u001b[43m            \u001b[49m\u001b[43mValidator\u001b[49m\u001b[43m(\u001b[49m\u001b[38;5;124;43m'\u001b[39;49m\u001b[38;5;124;43mKEYCLOAK_REALM\u001b[39;49m\u001b[38;5;124;43m'\u001b[39;49m\u001b[43m,\u001b[49m\u001b[43m \u001b[49m\u001b[43mmust_exist\u001b[49m\u001b[38;5;241;43m=\u001b[39;49m\u001b[38;5;28;43;01mTrue\u001b[39;49;00m\u001b[43m)\u001b[49m\u001b[43m,\u001b[49m\n\u001b[1;32m     60\u001b[0m \u001b[43m            \u001b[49m\u001b[43mValidator\u001b[49m\u001b[43m(\u001b[49m\u001b[38;5;124;43m'\u001b[39;49m\u001b[38;5;124;43mKEYCLOAK_SERVER_URL\u001b[39;49m\u001b[38;5;124;43m'\u001b[39;49m\u001b[43m,\u001b[49m\u001b[43m \u001b[49m\u001b[43mmust_exist\u001b[49m\u001b[38;5;241;43m=\u001b[39;49m\u001b[38;5;28;43;01mTrue\u001b[39;49;00m\u001b[43m)\u001b[49m\u001b[43m,\u001b[49m\n\u001b[1;32m     61\u001b[0m \u001b[43m            \u001b[49m\u001b[43mValidator\u001b[49m\u001b[43m(\u001b[49m\u001b[38;5;124;43m'\u001b[39;49m\u001b[38;5;124;43mMONGO_HOST\u001b[39;49m\u001b[38;5;124;43m'\u001b[39;49m\u001b[43m,\u001b[49m\u001b[43m \u001b[49m\u001b[43mmust_exist\u001b[49m\u001b[38;5;241;43m=\u001b[39;49m\u001b[38;5;28;43;01mTrue\u001b[39;49;00m\u001b[43m)\u001b[49m\u001b[43m,\u001b[49m\n\u001b[1;32m     62\u001b[0m \u001b[43m            \u001b[49m\u001b[43mValidator\u001b[49m\u001b[43m(\u001b[49m\u001b[38;5;124;43m'\u001b[39;49m\u001b[38;5;124;43mMONGO_PORT\u001b[39;49m\u001b[38;5;124;43m'\u001b[39;49m\u001b[43m,\u001b[49m\u001b[43m \u001b[49m\u001b[43mmust_exist\u001b[49m\u001b[38;5;241;43m=\u001b[39;49m\u001b[38;5;28;43;01mTrue\u001b[39;49;00m\u001b[43m)\u001b[49m\u001b[43m,\u001b[49m\n\u001b[1;32m     63\u001b[0m \u001b[43m            \u001b[49m\u001b[43mValidator\u001b[49m\u001b[43m(\u001b[49m\u001b[38;5;124;43m'\u001b[39;49m\u001b[38;5;124;43mMONGO_USER\u001b[39;49m\u001b[38;5;124;43m'\u001b[39;49m\u001b[43m,\u001b[49m\u001b[43m \u001b[49m\u001b[43mmust_exist\u001b[49m\u001b[38;5;241;43m=\u001b[39;49m\u001b[38;5;28;43;01mTrue\u001b[39;49;00m\u001b[43m)\u001b[49m\u001b[43m,\u001b[49m\n\u001b[1;32m     64\u001b[0m \u001b[43m            \u001b[49m\u001b[43mValidator\u001b[49m\u001b[43m(\u001b[49m\u001b[38;5;124;43m'\u001b[39;49m\u001b[38;5;124;43mMONGO_PASSWORD\u001b[39;49m\u001b[38;5;124;43m'\u001b[39;49m\u001b[43m,\u001b[49m\u001b[43m \u001b[49m\u001b[43mmust_exist\u001b[49m\u001b[38;5;241;43m=\u001b[39;49m\u001b[38;5;28;43;01mTrue\u001b[39;49;00m\u001b[43m)\u001b[49m\u001b[43m,\u001b[49m\n\u001b[1;32m     65\u001b[0m \u001b[43m            \u001b[49m\u001b[43mValidator\u001b[49m\u001b[43m(\u001b[49m\u001b[38;5;124;43m'\u001b[39;49m\u001b[38;5;124;43mMONGO_PROJECT_DATABASE\u001b[39;49m\u001b[38;5;124;43m'\u001b[39;49m\u001b[43m,\u001b[49m\u001b[43m \u001b[49m\u001b[43mmust_exist\u001b[49m\u001b[38;5;241;43m=\u001b[39;49m\u001b[38;5;28;43;01mTrue\u001b[39;49;00m\u001b[43m)\u001b[49m\u001b[43m,\u001b[49m\n\u001b[1;32m     66\u001b[0m \u001b[43m            \u001b[49m\u001b[43mValidator\u001b[49m\u001b[43m(\u001b[49m\u001b[38;5;124;43m'\u001b[39;49m\u001b[38;5;124;43mMONGO_SENSOR_DATABASE\u001b[39;49m\u001b[38;5;124;43m'\u001b[39;49m\u001b[43m,\u001b[49m\u001b[43m \u001b[49m\u001b[43mmust_exist\u001b[49m\u001b[38;5;241;43m=\u001b[39;49m\u001b[38;5;28;43;01mTrue\u001b[39;49;00m\u001b[43m)\u001b[49m\u001b[43m,\u001b[49m\n\u001b[1;32m     67\u001b[0m \u001b[43m            \u001b[49m\u001b[43mValidator\u001b[49m\u001b[43m(\u001b[49m\u001b[38;5;124;43m'\u001b[39;49m\u001b[38;5;124;43mMORPHEUS_PROJECT_ASSET_DATA\u001b[39;49m\u001b[38;5;124;43m'\u001b[39;49m\u001b[43m,\u001b[49m\u001b[43m \u001b[49m\u001b[43mdefault\u001b[49m\u001b[38;5;241;43m=\u001b[39;49m\u001b[38;5;124;43m'\u001b[39;49m\u001b[38;5;124;43m/mnt/project/assets\u001b[39;49m\u001b[38;5;124;43m'\u001b[39;49m\u001b[43m)\u001b[49m\u001b[43m,\u001b[49m\n\u001b[1;32m     68\u001b[0m \u001b[43m            \u001b[49m\u001b[43mValidator\u001b[49m\u001b[43m(\u001b[49m\u001b[38;5;124;43m'\u001b[39;49m\u001b[38;5;124;43mMORPHEUS_PROJECT_CALCULATION_DATA\u001b[39;49m\u001b[38;5;124;43m'\u001b[39;49m\u001b[43m,\u001b[49m\u001b[43m \u001b[49m\u001b[43mdefault\u001b[49m\u001b[38;5;241;43m=\u001b[39;49m\u001b[38;5;124;43m'\u001b[39;49m\u001b[38;5;124;43m/mnt/project/calculations\u001b[39;49m\u001b[38;5;124;43m'\u001b[39;49m\u001b[43m)\u001b[49m\u001b[43m,\u001b[49m\n\u001b[1;32m     69\u001b[0m \u001b[43m            \u001b[49m\u001b[43mValidator\u001b[49m\u001b[43m(\u001b[49m\u001b[38;5;124;43m'\u001b[39;49m\u001b[38;5;124;43mMORPHEUS_SENSOR_LOCAL_DATA\u001b[39;49m\u001b[38;5;124;43m'\u001b[39;49m\u001b[43m,\u001b[49m\u001b[43m \u001b[49m\u001b[43mdefault\u001b[49m\u001b[38;5;241;43m=\u001b[39;49m\u001b[38;5;124;43m'\u001b[39;49m\u001b[38;5;124;43m/mnt/sensors\u001b[39;49m\u001b[38;5;124;43m'\u001b[39;49m\u001b[43m)\u001b[49m\u001b[43m,\u001b[49m\n\u001b[1;32m     70\u001b[0m \u001b[43m            \u001b[49m\u001b[43mValidator\u001b[49m\u001b[43m(\u001b[49m\u001b[38;5;124;43m'\u001b[39;49m\u001b[38;5;124;43mMORPHEUS_SENSORS_UIT_FTP_HOST\u001b[39;49m\u001b[38;5;124;43m'\u001b[39;49m\u001b[43m,\u001b[49m\u001b[43m \u001b[49m\u001b[43mmust_exist\u001b[49m\u001b[38;5;241;43m=\u001b[39;49m\u001b[38;5;28;43;01mTrue\u001b[39;49;00m\u001b[43m)\u001b[49m\u001b[43m,\u001b[49m\n\u001b[1;32m     71\u001b[0m \u001b[43m            \u001b[49m\u001b[43mValidator\u001b[49m\u001b[43m(\u001b[49m\u001b[38;5;124;43m'\u001b[39;49m\u001b[38;5;124;43mMORPHEUS_SENSORS_UIT_FTP_USER\u001b[39;49m\u001b[38;5;124;43m'\u001b[39;49m\u001b[43m,\u001b[49m\u001b[43m \u001b[49m\u001b[43mmust_exist\u001b[49m\u001b[38;5;241;43m=\u001b[39;49m\u001b[38;5;28;43;01mTrue\u001b[39;49;00m\u001b[43m)\u001b[49m\u001b[43m,\u001b[49m\n\u001b[1;32m     72\u001b[0m \u001b[43m            \u001b[49m\u001b[43mValidator\u001b[49m\u001b[43m(\u001b[49m\u001b[38;5;124;43m'\u001b[39;49m\u001b[38;5;124;43mMORPHEUS_SENSORS_UIT_FTP_PASSWORD\u001b[39;49m\u001b[38;5;124;43m'\u001b[39;49m\u001b[43m,\u001b[49m\u001b[43m \u001b[49m\u001b[43mmust_exist\u001b[49m\u001b[38;5;241;43m=\u001b[39;49m\u001b[38;5;28;43;01mTrue\u001b[39;49;00m\u001b[43m)\u001b[49m\u001b[43m,\u001b[49m\n\u001b[1;32m     73\u001b[0m \u001b[43m            \u001b[49m\u001b[43mValidator\u001b[49m\u001b[43m(\u001b[49m\u001b[38;5;124;43m'\u001b[39;49m\u001b[38;5;124;43mMORPHEUS_SENSORS_UIT_FTP_PATH\u001b[39;49m\u001b[38;5;124;43m'\u001b[39;49m\u001b[43m,\u001b[49m\u001b[43m \u001b[49m\u001b[43mmust_exist\u001b[49m\u001b[38;5;241;43m=\u001b[39;49m\u001b[38;5;28;43;01mTrue\u001b[39;49;00m\u001b[43m)\u001b[49m\u001b[43m,\u001b[49m\n\u001b[1;32m     74\u001b[0m \u001b[43m        \u001b[49m\u001b[43m]\u001b[49m\n\u001b[1;32m     75\u001b[0m \u001b[43m    \u001b[49m\u001b[43m)\u001b[49m\n\u001b[1;32m     76\u001b[0m \u001b[43m)\u001b[49m\n",
      "File \u001b[0;32m~/Projects/inowas/morpheus/src/backend/src/morpheus/settings.py:39\u001b[0m, in \u001b[0;36mSettings.from_dynaconf\u001b[0;34m(cls, dynaconf)\u001b[0m\n\u001b[1;32m     37\u001b[0m \u001b[38;5;129m@classmethod\u001b[39m\n\u001b[1;32m     38\u001b[0m \u001b[38;5;28;01mdef\u001b[39;00m \u001b[38;5;21mfrom_dynaconf\u001b[39m(\u001b[38;5;28mcls\u001b[39m, dynaconf: Dynaconf):\n\u001b[0;32m---> 39\u001b[0m     \u001b[38;5;28;01mreturn\u001b[39;00m \u001b[38;5;28mcls\u001b[39m(\u001b[43mdynaconf\u001b[49m\u001b[38;5;241;43m.\u001b[39;49m\u001b[43mcurrent_env\u001b[49m, dynaconf)\n",
      "File \u001b[0;32m~/Projects/inowas/morpheus/src/backend/.venv/lib/python3.12/site-packages/dynaconf/base.py:122\u001b[0m, in \u001b[0;36mLazySettings.__getattr__\u001b[0;34m(self, name)\u001b[0m\n\u001b[1;32m    120\u001b[0m \u001b[38;5;250m\u001b[39m\u001b[38;5;124;03m\"\"\"Allow getting keys from self.store using dot notation\"\"\"\u001b[39;00m\n\u001b[1;32m    121\u001b[0m \u001b[38;5;28;01mif\u001b[39;00m \u001b[38;5;28mself\u001b[39m\u001b[38;5;241m.\u001b[39m_wrapped \u001b[38;5;129;01mis\u001b[39;00m empty:\n\u001b[0;32m--> 122\u001b[0m     \u001b[38;5;28;43mself\u001b[39;49m\u001b[38;5;241;43m.\u001b[39;49m\u001b[43m_setup\u001b[49m\u001b[43m(\u001b[49m\u001b[43m)\u001b[49m\n\u001b[1;32m    123\u001b[0m \u001b[38;5;28;01mif\u001b[39;00m name \u001b[38;5;129;01min\u001b[39;00m \u001b[38;5;28mself\u001b[39m\u001b[38;5;241m.\u001b[39m_wrapped\u001b[38;5;241m.\u001b[39m_deleted:  \u001b[38;5;66;03m# noqa\u001b[39;00m\n\u001b[1;32m    124\u001b[0m     \u001b[38;5;28;01mraise\u001b[39;00m \u001b[38;5;167;01mAttributeError\u001b[39;00m(\n\u001b[1;32m    125\u001b[0m         \u001b[38;5;124mf\u001b[39m\u001b[38;5;124m\"\u001b[39m\u001b[38;5;124mAttribute \u001b[39m\u001b[38;5;132;01m{\u001b[39;00mname\u001b[38;5;132;01m}\u001b[39;00m\u001b[38;5;124m was deleted, \u001b[39m\u001b[38;5;124m\"\u001b[39m \u001b[38;5;124m\"\u001b[39m\u001b[38;5;124mor belongs to different env\u001b[39m\u001b[38;5;124m\"\u001b[39m\n\u001b[1;32m    126\u001b[0m     )\n",
      "File \u001b[0;32m~/Projects/inowas/morpheus/src/backend/.venv/lib/python3.12/site-packages/dynaconf/base.py:183\u001b[0m, in \u001b[0;36mLazySettings._setup\u001b[0;34m(self)\u001b[0m\n\u001b[1;32m    179\u001b[0m environment_variable \u001b[38;5;241m=\u001b[39m \u001b[38;5;28mself\u001b[39m\u001b[38;5;241m.\u001b[39m_kwargs\u001b[38;5;241m.\u001b[39mget(\n\u001b[1;32m    180\u001b[0m     \u001b[38;5;124m\"\u001b[39m\u001b[38;5;124mENVVAR_FOR_DYNACONF\u001b[39m\u001b[38;5;124m\"\u001b[39m, default_settings\u001b[38;5;241m.\u001b[39mENVVAR_FOR_DYNACONF\n\u001b[1;32m    181\u001b[0m )\n\u001b[1;32m    182\u001b[0m settings_module \u001b[38;5;241m=\u001b[39m os\u001b[38;5;241m.\u001b[39menviron\u001b[38;5;241m.\u001b[39mget(environment_variable)\n\u001b[0;32m--> 183\u001b[0m \u001b[38;5;28mself\u001b[39m\u001b[38;5;241m.\u001b[39m_wrapped \u001b[38;5;241m=\u001b[39m \u001b[38;5;28;43mself\u001b[39;49m\u001b[38;5;241;43m.\u001b[39;49m\u001b[43m_wrapper_class\u001b[49m\u001b[43m(\u001b[49m\n\u001b[1;32m    184\u001b[0m \u001b[43m    \u001b[49m\u001b[43msettings_module\u001b[49m\u001b[38;5;241;43m=\u001b[39;49m\u001b[43msettings_module\u001b[49m\u001b[43m,\u001b[49m\u001b[43m \u001b[49m\u001b[38;5;241;43m*\u001b[39;49m\u001b[38;5;241;43m*\u001b[39;49m\u001b[38;5;28;43mself\u001b[39;49m\u001b[38;5;241;43m.\u001b[39;49m\u001b[43m_kwargs\u001b[49m\n\u001b[1;32m    185\u001b[0m \u001b[43m\u001b[49m\u001b[43m)\u001b[49m\n",
      "File \u001b[0;32m~/Projects/inowas/morpheus/src/backend/.venv/lib/python3.12/site-packages/dynaconf/base.py:276\u001b[0m, in \u001b[0;36mSettings.__init__\u001b[0;34m(self, settings_module, **kwargs)\u001b[0m\n\u001b[1;32m    273\u001b[0m     \u001b[38;5;28mself\u001b[39m\u001b[38;5;241m.\u001b[39mexecute_loaders()\n\u001b[1;32m    275\u001b[0m \u001b[38;5;28;01mif\u001b[39;00m \u001b[38;5;129;01mnot\u001b[39;00m skip_validators:\n\u001b[0;32m--> 276\u001b[0m     \u001b[38;5;28;43mself\u001b[39;49m\u001b[38;5;241;43m.\u001b[39;49m\u001b[43mvalidators\u001b[49m\u001b[38;5;241;43m.\u001b[39;49m\u001b[43mvalidate\u001b[49m\u001b[43m(\u001b[49m\n\u001b[1;32m    277\u001b[0m \u001b[43m        \u001b[49m\u001b[43monly\u001b[49m\u001b[38;5;241;43m=\u001b[39;49m\u001b[38;5;28;43mself\u001b[39;49m\u001b[38;5;241;43m.\u001b[39;49m\u001b[43m_validate_only\u001b[49m\u001b[43m,\u001b[49m\n\u001b[1;32m    278\u001b[0m \u001b[43m        \u001b[49m\u001b[43mexclude\u001b[49m\u001b[38;5;241;43m=\u001b[39;49m\u001b[38;5;28;43mself\u001b[39;49m\u001b[38;5;241;43m.\u001b[39;49m\u001b[43m_validate_exclude\u001b[49m\u001b[43m,\u001b[49m\n\u001b[1;32m    279\u001b[0m \u001b[43m        \u001b[49m\u001b[43monly_current_env\u001b[49m\u001b[38;5;241;43m=\u001b[39;49m\u001b[38;5;28;43mself\u001b[39;49m\u001b[38;5;241;43m.\u001b[39;49m\u001b[43m_validate_only_current_env\u001b[49m\u001b[43m,\u001b[49m\n\u001b[1;32m    280\u001b[0m \u001b[43m    \u001b[49m\u001b[43m)\u001b[49m\n",
      "File \u001b[0;32m~/Projects/inowas/morpheus/src/backend/.venv/lib/python3.12/site-packages/dynaconf/validator.py:492\u001b[0m, in \u001b[0;36mValidatorList.validate\u001b[0;34m(self, only, exclude, only_current_env)\u001b[0m\n\u001b[1;32m    485\u001b[0m \u001b[38;5;28;01mdef\u001b[39;00m \u001b[38;5;21mvalidate\u001b[39m(\n\u001b[1;32m    486\u001b[0m     \u001b[38;5;28mself\u001b[39m,\n\u001b[1;32m    487\u001b[0m     only: \u001b[38;5;28mstr\u001b[39m \u001b[38;5;241m|\u001b[39m Sequence \u001b[38;5;241m|\u001b[39m \u001b[38;5;28;01mNone\u001b[39;00m \u001b[38;5;241m=\u001b[39m \u001b[38;5;28;01mNone\u001b[39;00m,\n\u001b[1;32m    488\u001b[0m     exclude: \u001b[38;5;28mstr\u001b[39m \u001b[38;5;241m|\u001b[39m Sequence \u001b[38;5;241m|\u001b[39m \u001b[38;5;28;01mNone\u001b[39;00m \u001b[38;5;241m=\u001b[39m \u001b[38;5;28;01mNone\u001b[39;00m,\n\u001b[1;32m    489\u001b[0m     only_current_env: \u001b[38;5;28mbool\u001b[39m \u001b[38;5;241m=\u001b[39m \u001b[38;5;28;01mFalse\u001b[39;00m,\n\u001b[1;32m    490\u001b[0m ) \u001b[38;5;241m-\u001b[39m\u001b[38;5;241m>\u001b[39m \u001b[38;5;28;01mNone\u001b[39;00m:\n\u001b[1;32m    491\u001b[0m     \u001b[38;5;28;01mfor\u001b[39;00m validator \u001b[38;5;129;01min\u001b[39;00m \u001b[38;5;28mself\u001b[39m:\n\u001b[0;32m--> 492\u001b[0m         \u001b[43mvalidator\u001b[49m\u001b[38;5;241;43m.\u001b[39;49m\u001b[43mvalidate\u001b[49m\u001b[43m(\u001b[49m\n\u001b[1;32m    493\u001b[0m \u001b[43m            \u001b[49m\u001b[38;5;28;43mself\u001b[39;49m\u001b[38;5;241;43m.\u001b[39;49m\u001b[43msettings\u001b[49m\u001b[43m,\u001b[49m\n\u001b[1;32m    494\u001b[0m \u001b[43m            \u001b[49m\u001b[43monly\u001b[49m\u001b[38;5;241;43m=\u001b[39;49m\u001b[43monly\u001b[49m\u001b[43m,\u001b[49m\n\u001b[1;32m    495\u001b[0m \u001b[43m            \u001b[49m\u001b[43mexclude\u001b[49m\u001b[38;5;241;43m=\u001b[39;49m\u001b[43mexclude\u001b[49m\u001b[43m,\u001b[49m\n\u001b[1;32m    496\u001b[0m \u001b[43m            \u001b[49m\u001b[43monly_current_env\u001b[49m\u001b[38;5;241;43m=\u001b[39;49m\u001b[43monly_current_env\u001b[49m\u001b[43m,\u001b[49m\n\u001b[1;32m    497\u001b[0m \u001b[43m        \u001b[49m\u001b[43m)\u001b[49m\n",
      "File \u001b[0;32m~/Projects/inowas/morpheus/src/backend/.venv/lib/python3.12/site-packages/dynaconf/validator.py:216\u001b[0m, in \u001b[0;36mValidator.validate\u001b[0;34m(self, settings, only, exclude, only_current_env)\u001b[0m\n\u001b[1;32m    211\u001b[0m \u001b[38;5;66;03m# If only using current_env, skip using_env decoration (reload)\u001b[39;00m\n\u001b[1;32m    212\u001b[0m \u001b[38;5;28;01mif\u001b[39;00m (\n\u001b[1;32m    213\u001b[0m     \u001b[38;5;28mlen\u001b[39m(\u001b[38;5;28mself\u001b[39m\u001b[38;5;241m.\u001b[39menvs) \u001b[38;5;241m==\u001b[39m \u001b[38;5;241m1\u001b[39m\n\u001b[1;32m    214\u001b[0m     \u001b[38;5;129;01mand\u001b[39;00m \u001b[38;5;28mself\u001b[39m\u001b[38;5;241m.\u001b[39menvs[\u001b[38;5;241m0\u001b[39m]\u001b[38;5;241m.\u001b[39mupper() \u001b[38;5;241m==\u001b[39m settings\u001b[38;5;241m.\u001b[39mcurrent_env\u001b[38;5;241m.\u001b[39mupper()\n\u001b[1;32m    215\u001b[0m ):\n\u001b[0;32m--> 216\u001b[0m     \u001b[38;5;28;43mself\u001b[39;49m\u001b[38;5;241;43m.\u001b[39;49m\u001b[43m_validate_items\u001b[49m\u001b[43m(\u001b[49m\n\u001b[1;32m    217\u001b[0m \u001b[43m        \u001b[49m\u001b[43msettings\u001b[49m\u001b[43m,\u001b[49m\u001b[43m \u001b[49m\u001b[43msettings\u001b[49m\u001b[38;5;241;43m.\u001b[39;49m\u001b[43mcurrent_env\u001b[49m\u001b[43m,\u001b[49m\u001b[43m \u001b[49m\u001b[43monly\u001b[49m\u001b[38;5;241;43m=\u001b[39;49m\u001b[43monly\u001b[49m\u001b[43m,\u001b[49m\u001b[43m \u001b[49m\u001b[43mexclude\u001b[49m\u001b[38;5;241;43m=\u001b[39;49m\u001b[43mexclude\u001b[49m\n\u001b[1;32m    218\u001b[0m \u001b[43m    \u001b[49m\u001b[43m)\u001b[49m\n\u001b[1;32m    219\u001b[0m     \u001b[38;5;28;01mreturn\u001b[39;00m\n\u001b[1;32m    221\u001b[0m \u001b[38;5;28;01mfor\u001b[39;00m env \u001b[38;5;129;01min\u001b[39;00m \u001b[38;5;28mself\u001b[39m\u001b[38;5;241m.\u001b[39menvs:\n",
      "File \u001b[0;32m~/Projects/inowas/morpheus/src/backend/.venv/lib/python3.12/site-packages/dynaconf/validator.py:279\u001b[0m, in \u001b[0;36mValidator._validate_items\u001b[0;34m(self, settings, env, only, exclude)\u001b[0m\n\u001b[1;32m    275\u001b[0m \u001b[38;5;28;01mif\u001b[39;00m \u001b[38;5;28mself\u001b[39m\u001b[38;5;241m.\u001b[39mmust_exist \u001b[38;5;129;01mis\u001b[39;00m \u001b[38;5;28;01mTrue\u001b[39;00m \u001b[38;5;129;01mand\u001b[39;00m value \u001b[38;5;129;01mis\u001b[39;00m empty:\n\u001b[1;32m    276\u001b[0m     _message \u001b[38;5;241m=\u001b[39m \u001b[38;5;28mself\u001b[39m\u001b[38;5;241m.\u001b[39mmessages[\u001b[38;5;124m\"\u001b[39m\u001b[38;5;124mmust_exist_true\u001b[39m\u001b[38;5;124m\"\u001b[39m]\u001b[38;5;241m.\u001b[39mformat(\n\u001b[1;32m    277\u001b[0m         name\u001b[38;5;241m=\u001b[39mname, env\u001b[38;5;241m=\u001b[39menv\n\u001b[1;32m    278\u001b[0m     )\n\u001b[0;32m--> 279\u001b[0m     \u001b[38;5;28;01mraise\u001b[39;00m ValidationError(_message, details\u001b[38;5;241m=\u001b[39m[(\u001b[38;5;28mself\u001b[39m, _message)])\n\u001b[1;32m    281\u001b[0m \u001b[38;5;28;01mif\u001b[39;00m \u001b[38;5;28mself\u001b[39m\u001b[38;5;241m.\u001b[39mmust_exist \u001b[38;5;129;01mis\u001b[39;00m \u001b[38;5;28;01mFalse\u001b[39;00m \u001b[38;5;129;01mand\u001b[39;00m value \u001b[38;5;129;01mis\u001b[39;00m \u001b[38;5;129;01mnot\u001b[39;00m empty:\n\u001b[1;32m    282\u001b[0m     _message \u001b[38;5;241m=\u001b[39m \u001b[38;5;28mself\u001b[39m\u001b[38;5;241m.\u001b[39mmessages[\u001b[38;5;124m\"\u001b[39m\u001b[38;5;124mmust_exist_false\u001b[39m\u001b[38;5;124m\"\u001b[39m]\u001b[38;5;241m.\u001b[39mformat(\n\u001b[1;32m    283\u001b[0m         name\u001b[38;5;241m=\u001b[39mname, env\u001b[38;5;241m=\u001b[39menv\n\u001b[1;32m    284\u001b[0m     )\n",
      "\u001b[0;31mValidationError\u001b[0m: SECRET_KEY is required in env production"
     ]
    }
   ],
   "source": [
    "from morpheus.project.infrastructure.calculation.services.CalculationService import CalculationService\n",
    "\n",
    "calculation_service = CalculationService.from_calculation(calculation)\n",
    "calculation_service.calculate()"
   ]
  },
  {
   "cell_type": "code",
   "execution_count": null,
   "id": "a52d1dd3a1574032",
   "metadata": {
    "ExecuteTime": {
     "end_time": "2024-05-14T08:13:37.819651Z",
     "start_time": "2024-05-14T08:13:37.816983Z"
    },
    "collapsed": false,
    "execution": {
     "iopub.execute_input": "2024-05-15T15:21:53.810008Z",
     "iopub.status.busy": "2024-05-15T15:21:53.809644Z",
     "iopub.status.idle": "2024-05-15T15:21:53.813538Z",
     "shell.execute_reply": "2024-05-15T15:21:53.813169Z"
    },
    "papermill": {
     "duration": null,
     "end_time": null,
     "exception": null,
     "start_time": null,
     "status": "pending"
    },
    "tags": []
   },
   "outputs": [],
   "source": [
    "calculation_service.get_result()"
   ]
  },
  {
   "cell_type": "code",
   "execution_count": null,
   "id": "cc43ad077c7a81d0",
   "metadata": {
    "ExecuteTime": {
     "end_time": "2024-05-14T08:13:37.822329Z",
     "start_time": "2024-05-14T08:13:37.820287Z"
    },
    "collapsed": false,
    "execution": {
     "iopub.execute_input": "2024-05-15T15:21:53.824206Z",
     "iopub.status.busy": "2024-05-15T15:21:53.824054Z",
     "iopub.status.idle": "2024-05-15T15:21:53.826821Z",
     "shell.execute_reply": "2024-05-15T15:21:53.826318Z"
    },
    "papermill": {
     "duration": null,
     "end_time": null,
     "exception": null,
     "start_time": null,
     "status": "pending"
    },
    "tags": []
   },
   "outputs": [],
   "source": [
    "head = calculation_service.read_head(0, 0)"
   ]
  },
  {
   "cell_type": "code",
   "execution_count": null,
   "id": "12454cc4d9e18de5",
   "metadata": {
    "ExecuteTime": {
     "end_time": "2024-05-14T08:13:37.829605Z",
     "start_time": "2024-05-14T08:13:37.824442Z"
    },
    "collapsed": false,
    "execution": {
     "iopub.execute_input": "2024-05-15T15:21:53.837243Z",
     "iopub.status.busy": "2024-05-15T15:21:53.837095Z",
     "iopub.status.idle": "2024-05-15T15:21:53.842815Z",
     "shell.execute_reply": "2024-05-15T15:21:53.842494Z"
    },
    "papermill": {
     "duration": null,
     "end_time": null,
     "exception": null,
     "start_time": null,
     "status": "pending"
    },
    "tags": []
   },
   "outputs": [],
   "source": [
    "import simplejson as json\n",
    "\n",
    "json = json.dumps(head, ignore_nan=True)\n",
    "json"
   ]
  },
  {
   "cell_type": "code",
   "execution_count": null,
   "id": "df7dfd8ff0308815",
   "metadata": {
    "ExecuteTime": {
     "end_time": "2024-05-14T08:13:37.832360Z",
     "start_time": "2024-05-14T08:13:37.830081Z"
    },
    "collapsed": false,
    "execution": {
     "iopub.execute_input": "2024-05-15T15:21:53.854696Z",
     "iopub.status.busy": "2024-05-15T15:21:53.854550Z",
     "iopub.status.idle": "2024-05-15T15:21:53.857139Z",
     "shell.execute_reply": "2024-05-15T15:21:53.856817Z"
    },
    "papermill": {
     "duration": null,
     "end_time": null,
     "exception": null,
     "start_time": null,
     "status": "pending"
    },
    "tags": []
   },
   "outputs": [],
   "source": [
    "calculation_service.read_drawdown(0, 0)"
   ]
  },
  {
   "cell_type": "code",
   "execution_count": null,
   "id": "b233f4066b56c174",
   "metadata": {
    "ExecuteTime": {
     "end_time": "2024-05-14T08:13:37.836236Z",
     "start_time": "2024-05-14T08:13:37.832955Z"
    },
    "collapsed": false,
    "execution": {
     "iopub.execute_input": "2024-05-15T15:21:53.867884Z",
     "iopub.status.busy": "2024-05-15T15:21:53.867746Z",
     "iopub.status.idle": "2024-05-15T15:21:53.871520Z",
     "shell.execute_reply": "2024-05-15T15:21:53.871224Z"
    },
    "papermill": {
     "duration": null,
     "end_time": null,
     "exception": null,
     "start_time": null,
     "status": "pending"
    },
    "tags": []
   },
   "outputs": [],
   "source": [
    "calculation_service.read_budget(0, False)"
   ]
  },
  {
   "cell_type": "code",
   "execution_count": null,
   "id": "634709d741f5c252",
   "metadata": {
    "ExecuteTime": {
     "end_time": "2024-05-14T08:13:37.840054Z",
     "start_time": "2024-05-14T08:13:37.836718Z"
    },
    "collapsed": false,
    "execution": {
     "iopub.execute_input": "2024-05-15T15:21:53.882579Z",
     "iopub.status.busy": "2024-05-15T15:21:53.882460Z",
     "iopub.status.idle": "2024-05-15T15:21:53.886054Z",
     "shell.execute_reply": "2024-05-15T15:21:53.885738Z"
    },
    "papermill": {
     "duration": null,
     "end_time": null,
     "exception": null,
     "start_time": null,
     "status": "pending"
    },
    "tags": []
   },
   "outputs": [],
   "source": [
    "calculation_service.read_budget(0, True)"
   ]
  },
  {
   "cell_type": "code",
   "execution_count": null,
   "id": "26523066436690e6",
   "metadata": {
    "ExecuteTime": {
     "end_time": "2024-05-14T08:13:37.842569Z",
     "start_time": "2024-05-14T08:13:37.840653Z"
    },
    "collapsed": false,
    "execution": {
     "iopub.execute_input": "2024-05-15T15:21:53.897509Z",
     "iopub.status.busy": "2024-05-15T15:21:53.897386Z",
     "iopub.status.idle": "2024-05-15T15:21:53.899757Z",
     "shell.execute_reply": "2024-05-15T15:21:53.899486Z"
    },
    "papermill": {
     "duration": null,
     "end_time": null,
     "exception": null,
     "start_time": null,
     "status": "pending"
    },
    "tags": []
   },
   "outputs": [],
   "source": [
    "calculation_service.get_result()"
   ]
  },
  {
   "cell_type": "code",
   "execution_count": null,
   "id": "160abd7d290c83f7",
   "metadata": {
    "ExecuteTime": {
     "end_time": "2024-05-14T08:13:37.974516Z",
     "start_time": "2024-05-14T08:13:37.843140Z"
    },
    "collapsed": false,
    "execution": {
     "iopub.execute_input": "2024-05-15T15:21:53.911630Z",
     "iopub.status.busy": "2024-05-15T15:21:53.911504Z",
     "iopub.status.idle": "2024-05-15T15:21:54.025314Z",
     "shell.execute_reply": "2024-05-15T15:21:54.024503Z"
    },
    "papermill": {
     "duration": null,
     "end_time": null,
     "exception": null,
     "start_time": null,
     "status": "pending"
    },
    "tags": []
   },
   "outputs": [],
   "source": [
    "import matplotlib.pyplot as plt\n",
    "\n",
    "heads = calculation_service.read_head(0, 0)\n",
    "plt.subplot(2, 1, 1)\n",
    "plt.imshow(heads, cmap='jet_r')\n",
    "plt.colorbar()\n",
    "plt.show()"
   ]
  },
  {
   "cell_type": "code",
   "execution_count": null,
   "id": "1a893419d5a2a334",
   "metadata": {
    "ExecuteTime": {
     "end_time": "2024-05-14T08:13:37.987738Z",
     "start_time": "2024-05-14T08:13:37.982264Z"
    },
    "collapsed": false,
    "papermill": {
     "duration": null,
     "end_time": null,
     "exception": null,
     "start_time": null,
     "status": "pending"
    },
    "tags": []
   },
   "outputs": [],
   "source": []
  }
 ],
 "metadata": {
  "kernelspec": {
   "display_name": "Python 3",
   "language": "python",
   "name": "python3"
  },
  "language_info": {
   "codemirror_mode": {
    "name": "ipython",
    "version": 3
   },
   "file_extension": ".py",
   "mimetype": "text/x-python",
   "name": "python",
   "nbconvert_exporter": "python",
   "pygments_lexer": "ipython3",
   "version": "3.12.2"
  },
  "papermill": {
   "default_parameters": {},
   "duration": 3.533211,
   "end_time": "2024-05-15T15:40:37.383485",
   "environment_variables": {},
   "exception": true,
   "input_path": "./notebooks/Test_RiverBoundary.ipynb",
   "output_path": "./notebooks/Test_RiverBoundary.ipynb",
   "parameters": {},
   "start_time": "2024-05-15T15:40:33.850274",
   "version": "2.6.0"
  }
 },
 "nbformat": 4,
 "nbformat_minor": 5
}