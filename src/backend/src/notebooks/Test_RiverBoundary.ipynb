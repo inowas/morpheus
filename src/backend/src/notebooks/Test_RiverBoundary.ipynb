{
 "cells": [
  {
   "cell_type": "code",
   "execution_count": 1,
   "id": "ba6761fae9d5e5cb",
   "metadata": {
    "ExecuteTime": {
     "end_time": "2024-08-19T10:16:33.117071Z",
     "start_time": "2024-08-19T10:16:33.112353Z"
    },
    "collapsed": false,
    "execution": {
     "iopub.execute_input": "2024-08-21T20:30:21.282451Z",
     "iopub.status.busy": "2024-08-21T20:30:21.282014Z",
     "iopub.status.idle": "2024-08-21T20:30:21.289828Z",
     "shell.execute_reply": "2024-08-21T20:30:21.288633Z"
    },
    "papermill": {
     "duration": 0.022517,
     "end_time": "2024-08-21T20:30:21.293006",
     "exception": false,
     "start_time": "2024-08-21T20:30:21.270489",
     "status": "completed"
    },
    "tags": []
   },
   "outputs": [],
   "source": [
    "import sys\n",
    "\n",
    "sys.path.insert(0, '..')"
   ]
  },
  {
   "cell_type": "markdown",
   "id": "5ede1ba5e0993dd1",
   "metadata": {
    "collapsed": false,
    "papermill": {
     "duration": 0.005006,
     "end_time": "2024-08-21T20:30:21.304800",
     "exception": false,
     "start_time": "2024-08-21T20:30:21.299794",
     "status": "completed"
    },
    "tags": []
   },
   "source": [
    "## Setup the model area"
   ]
  },
  {
   "cell_type": "code",
   "execution_count": 2,
   "id": "2f69504ab35487aa",
   "metadata": {
    "ExecuteTime": {
     "end_time": "2024-08-19T10:16:33.915564Z",
     "start_time": "2024-08-19T10:16:33.195293Z"
    },
    "collapsed": false,
    "execution": {
     "iopub.execute_input": "2024-08-21T20:30:21.314682Z",
     "iopub.status.busy": "2024-08-21T20:30:21.314411Z",
     "iopub.status.idle": "2024-08-21T20:30:21.465183Z",
     "shell.execute_reply": "2024-08-21T20:30:21.464410Z"
    },
    "papermill": {
     "duration": 0.160338,
     "end_time": "2024-08-21T20:30:21.469462",
     "exception": false,
     "start_time": "2024-08-21T20:30:21.309124",
     "status": "completed"
    },
    "tags": []
   },
   "outputs": [],
   "source": [
    "from morpheus.project.types.discretization import SpatialDiscretization\n",
    "from morpheus.project.types.discretization.spatial import Rotation, Grid, Crs\n",
    "from morpheus.project.types.geometry import Polygon, LineString\n",
    "\n",
    "polygon = Polygon(\n",
    "  type='Polygon',\n",
    "  coordinates=[[\n",
    "    (13.92, 50.964),\n",
    "    (13.92, 50.966),\n",
    "    (13.925, 50.966),\n",
    "    (13.925, 50.964),\n",
    "    (13.92, 50.964)\n",
    "  ]]\n",
    ")\n",
    "\n",
    "rotation = Rotation(0)\n",
    "\n",
    "grid = Grid.cartesian_from_polygon(polygon=polygon, n_cols=100, n_rows=50, rotation=rotation)\n",
    "spatial_discretization = SpatialDiscretization.from_geometry_with_grid(\n",
    "  geometry=polygon,\n",
    "  grid=grid,\n",
    "  crs=Crs.from_str('EPSG:4326')\n",
    ")"
   ]
  },
  {
   "cell_type": "markdown",
   "id": "fa27e67f9d801845",
   "metadata": {
    "collapsed": false,
    "papermill": {
     "duration": 0.008632,
     "end_time": "2024-08-21T20:30:21.480856",
     "exception": false,
     "start_time": "2024-08-21T20:30:21.472224",
     "status": "completed"
    },
    "tags": []
   },
   "source": [
    "## Setup Time Discretization"
   ]
  },
  {
   "cell_type": "code",
   "execution_count": 3,
   "id": "8e4e63dd138db9fc",
   "metadata": {
    "ExecuteTime": {
     "end_time": "2024-08-19T10:16:33.922792Z",
     "start_time": "2024-08-19T10:16:33.918509Z"
    },
    "collapsed": false,
    "execution": {
     "iopub.execute_input": "2024-08-21T20:30:21.513745Z",
     "iopub.status.busy": "2024-08-21T20:30:21.512850Z",
     "iopub.status.idle": "2024-08-21T20:30:21.531386Z",
     "shell.execute_reply": "2024-08-21T20:30:21.530674Z"
    },
    "papermill": {
     "duration": 0.046579,
     "end_time": "2024-08-21T20:30:21.539148",
     "exception": false,
     "start_time": "2024-08-21T20:30:21.492569",
     "status": "completed"
    },
    "tags": []
   },
   "outputs": [],
   "source": [
    "from morpheus.project.types.discretization.time.TimeUnit import TimeUnit\n",
    "from morpheus.project.types.discretization.time.Stressperiods import StartDateTime, StressPeriodCollection, \\\n",
    "  StressPeriod, NumberOfTimeSteps, TimeStepMultiplier, IsSteadyState\n",
    "from morpheus.project.types.discretization.time import TimeDiscretization\n",
    "from datetime import datetime\n",
    "\n",
    "time_discretization = TimeDiscretization(\n",
    "  start_date_time=StartDateTime.from_datetime(datetime(2020, 1, 1)),\n",
    "  end_date_time=StartDateTime.from_datetime(datetime(2020, 12, 31)),\n",
    "  stress_periods=StressPeriodCollection([\n",
    "    StressPeriod(\n",
    "      start_date_time=StartDateTime.from_datetime(datetime(2020, 1, 1)),\n",
    "      number_of_time_steps=NumberOfTimeSteps(1),\n",
    "      time_step_multiplier=TimeStepMultiplier(1),\n",
    "      steady_state=IsSteadyState.yes()\n",
    "    ),\n",
    "  ]),\n",
    "  time_unit=TimeUnit.days()\n",
    ")"
   ]
  },
  {
   "cell_type": "markdown",
   "id": "963ba8729f09fcec",
   "metadata": {
    "collapsed": false,
    "papermill": {
     "duration": 0.007774,
     "end_time": "2024-08-21T20:30:21.553899",
     "exception": false,
     "start_time": "2024-08-21T20:30:21.546125",
     "status": "completed"
    },
    "tags": []
   },
   "source": [
    "# Setup Model"
   ]
  },
  {
   "cell_type": "code",
   "execution_count": 4,
   "id": "1d5c9125b1b9360b",
   "metadata": {
    "ExecuteTime": {
     "end_time": "2024-08-19T10:16:34.513635Z",
     "start_time": "2024-08-19T10:16:33.924018Z"
    },
    "collapsed": false,
    "execution": {
     "iopub.execute_input": "2024-08-21T20:30:21.569521Z",
     "iopub.status.busy": "2024-08-21T20:30:21.569048Z",
     "iopub.status.idle": "2024-08-21T20:30:21.928949Z",
     "shell.execute_reply": "2024-08-21T20:30:21.928597Z"
    },
    "papermill": {
     "duration": 0.369596,
     "end_time": "2024-08-21T20:30:21.930410",
     "exception": false,
     "start_time": "2024-08-21T20:30:21.560814",
     "status": "completed"
    },
    "tags": []
   },
   "outputs": [],
   "source": [
    "from morpheus.project.types.Model import Model\n",
    "\n",
    "model = Model.new()\n",
    "model = model.with_updated_time_discretization(time_discretization)\n",
    "model = model.with_updated_spatial_discretization(spatial_discretization=spatial_discretization)"
   ]
  },
  {
   "cell_type": "code",
   "execution_count": 5,
   "id": "1540b870ae83f298",
   "metadata": {
    "ExecuteTime": {
     "end_time": "2024-08-19T10:16:34.730686Z",
     "start_time": "2024-08-19T10:16:34.515161Z"
    },
    "collapsed": false,
    "execution": {
     "iopub.execute_input": "2024-08-21T20:30:21.935436Z",
     "iopub.status.busy": "2024-08-21T20:30:21.935280Z",
     "iopub.status.idle": "2024-08-21T20:30:22.071837Z",
     "shell.execute_reply": "2024-08-21T20:30:22.071589Z"
    },
    "papermill": {
     "duration": 0.140063,
     "end_time": "2024-08-21T20:30:22.072745",
     "exception": false,
     "start_time": "2024-08-21T20:30:21.932682",
     "status": "completed"
    },
    "tags": []
   },
   "outputs": [
    {
     "data": {
      "text/html": [
       "<div style=\"width:100%;\"><div style=\"position:relative;width:100%;height:0;padding-bottom:60%;\"><span style=\"color:#565656\">Make this Notebook Trusted to load map: File -> Trust Notebook</span><iframe srcdoc=\"&lt;!DOCTYPE html&gt;\n",
       "&lt;html&gt;\n",
       "&lt;head&gt;\n",
       "    \n",
       "    &lt;meta http-equiv=&quot;content-type&quot; content=&quot;text/html; charset=UTF-8&quot; /&gt;\n",
       "    \n",
       "        &lt;script&gt;\n",
       "            L_NO_TOUCH = false;\n",
       "            L_DISABLE_3D = false;\n",
       "        &lt;/script&gt;\n",
       "    \n",
       "    &lt;style&gt;html, body {width: 100%;height: 100%;margin: 0;padding: 0;}&lt;/style&gt;\n",
       "    &lt;style&gt;#map {position:absolute;top:0;bottom:0;right:0;left:0;}&lt;/style&gt;\n",
       "    &lt;script src=&quot;https://cdn.jsdelivr.net/npm/leaflet@1.9.3/dist/leaflet.js&quot;&gt;&lt;/script&gt;\n",
       "    &lt;script src=&quot;https://code.jquery.com/jquery-3.7.1.min.js&quot;&gt;&lt;/script&gt;\n",
       "    &lt;script src=&quot;https://cdn.jsdelivr.net/npm/bootstrap@5.2.2/dist/js/bootstrap.bundle.min.js&quot;&gt;&lt;/script&gt;\n",
       "    &lt;script src=&quot;https://cdnjs.cloudflare.com/ajax/libs/Leaflet.awesome-markers/2.0.2/leaflet.awesome-markers.js&quot;&gt;&lt;/script&gt;\n",
       "    &lt;link rel=&quot;stylesheet&quot; href=&quot;https://cdn.jsdelivr.net/npm/leaflet@1.9.3/dist/leaflet.css&quot;/&gt;\n",
       "    &lt;link rel=&quot;stylesheet&quot; href=&quot;https://cdn.jsdelivr.net/npm/bootstrap@5.2.2/dist/css/bootstrap.min.css&quot;/&gt;\n",
       "    &lt;link rel=&quot;stylesheet&quot; href=&quot;https://netdna.bootstrapcdn.com/bootstrap/3.0.0/css/bootstrap-glyphicons.css&quot;/&gt;\n",
       "    &lt;link rel=&quot;stylesheet&quot; href=&quot;https://cdn.jsdelivr.net/npm/@fortawesome/fontawesome-free@6.2.0/css/all.min.css&quot;/&gt;\n",
       "    &lt;link rel=&quot;stylesheet&quot; href=&quot;https://cdnjs.cloudflare.com/ajax/libs/Leaflet.awesome-markers/2.0.2/leaflet.awesome-markers.css&quot;/&gt;\n",
       "    &lt;link rel=&quot;stylesheet&quot; href=&quot;https://cdn.jsdelivr.net/gh/python-visualization/folium/folium/templates/leaflet.awesome.rotate.min.css&quot;/&gt;\n",
       "    \n",
       "            &lt;meta name=&quot;viewport&quot; content=&quot;width=device-width,\n",
       "                initial-scale=1.0, maximum-scale=1.0, user-scalable=no&quot; /&gt;\n",
       "            &lt;style&gt;\n",
       "                #map_584b3d9e7f451042da4fa6879e6ad02d {\n",
       "                    position: relative;\n",
       "                    width: 100.0%;\n",
       "                    height: 100.0%;\n",
       "                    left: 0.0%;\n",
       "                    top: 0.0%;\n",
       "                }\n",
       "                .leaflet-container { font-size: 1rem; }\n",
       "            &lt;/style&gt;\n",
       "        \n",
       "&lt;/head&gt;\n",
       "&lt;body&gt;\n",
       "    \n",
       "    \n",
       "            &lt;div class=&quot;folium-map&quot; id=&quot;map_584b3d9e7f451042da4fa6879e6ad02d&quot; &gt;&lt;/div&gt;\n",
       "        \n",
       "&lt;/body&gt;\n",
       "&lt;script&gt;\n",
       "    \n",
       "    \n",
       "            var map_584b3d9e7f451042da4fa6879e6ad02d = L.map(\n",
       "                &quot;map_584b3d9e7f451042da4fa6879e6ad02d&quot;,\n",
       "                {\n",
       "                    center: [50.965, 13.922],\n",
       "                    crs: L.CRS.EPSG3857,\n",
       "                    zoom: 12,\n",
       "                    zoomControl: true,\n",
       "                    preferCanvas: false,\n",
       "                }\n",
       "            );\n",
       "\n",
       "            \n",
       "\n",
       "        \n",
       "    \n",
       "            var tile_layer_762604b6eb34476766a89b0b1917456d = L.tileLayer(\n",
       "                &quot;https://{s}.basemaps.cartocdn.com/light_all/{z}/{x}/{y}{r}.png&quot;,\n",
       "                {&quot;attribution&quot;: &quot;\\u0026copy; \\u003ca href=\\&quot;https://www.openstreetmap.org/copyright\\&quot;\\u003eOpenStreetMap\\u003c/a\\u003e contributors \\u0026copy; \\u003ca href=\\&quot;https://carto.com/attributions\\&quot;\\u003eCARTO\\u003c/a\\u003e&quot;, &quot;detectRetina&quot;: false, &quot;maxNativeZoom&quot;: 20, &quot;maxZoom&quot;: 20, &quot;minZoom&quot;: 0, &quot;noWrap&quot;: false, &quot;opacity&quot;: 1, &quot;subdomains&quot;: &quot;abcd&quot;, &quot;tms&quot;: false}\n",
       "            );\n",
       "        \n",
       "    \n",
       "            tile_layer_762604b6eb34476766a89b0b1917456d.addTo(map_584b3d9e7f451042da4fa6879e6ad02d);\n",
       "        \n",
       "    \n",
       "\n",
       "        function geo_json_0a46f1b851361432b81a315985a5e5eb_onEachFeature(feature, layer) {\n",
       "            layer.on({\n",
       "            });\n",
       "        };\n",
       "        var geo_json_0a46f1b851361432b81a315985a5e5eb = L.geoJson(null, {\n",
       "                onEachFeature: geo_json_0a46f1b851361432b81a315985a5e5eb_onEachFeature,\n",
       "            \n",
       "        });\n",
       "\n",
       "        function geo_json_0a46f1b851361432b81a315985a5e5eb_add (data) {\n",
       "            geo_json_0a46f1b851361432b81a315985a5e5eb\n",
       "                .addData(data);\n",
       "        }\n",
       "            geo_json_0a46f1b851361432b81a315985a5e5eb_add({&quot;coordinates&quot;: [[[13.92, 50.964], [13.92, 50.966], [13.925, 50.966], [13.925, 50.964], [13.92, 50.964]]], &quot;type&quot;: &quot;Polygon&quot;});\n",
       "        geo_json_0a46f1b851361432b81a315985a5e5eb.setStyle(function(feature) {return feature.properties.style;});\n",
       "\n",
       "        \n",
       "    \n",
       "            geo_json_0a46f1b851361432b81a315985a5e5eb.addTo(map_584b3d9e7f451042da4fa6879e6ad02d);\n",
       "        \n",
       "    \n",
       "            map_584b3d9e7f451042da4fa6879e6ad02d.fitBounds(\n",
       "                [[50.964, 13.92], [50.966, 13.925]],\n",
       "                {}\n",
       "            );\n",
       "        \n",
       "&lt;/script&gt;\n",
       "&lt;/html&gt;\" style=\"position:absolute;width:100%;height:100%;left:0;top:0;border:none !important;\" allowfullscreen webkitallowfullscreen mozallowfullscreen></iframe></div></div>"
      ],
      "text/plain": [
       "<folium.folium.Map at 0x129ab02c0>"
      ]
     },
     "execution_count": 5,
     "metadata": {},
     "output_type": "execute_result"
    }
   ],
   "source": [
    "import folium\n",
    "\n",
    "m = folium.Map(tiles=\"cartodbpositron\", crs=\"EPSG3857\", zoom_start=12, location=[50.965, 13.922])\n",
    "m.add_child(folium.GeoJson(polygon.as_geojson()))\n",
    "\n",
    "m.fit_bounds(m.get_bounds())\n",
    "m"
   ]
  },
  {
   "cell_type": "markdown",
   "id": "62ae3587df801000",
   "metadata": {
    "collapsed": false,
    "papermill": {
     "duration": 0.002134,
     "end_time": "2024-08-21T20:30:22.077138",
     "exception": false,
     "start_time": "2024-08-21T20:30:22.075004",
     "status": "completed"
    },
    "tags": []
   },
   "source": [
    "# Setup constant head boundary with two observations"
   ]
  },
  {
   "cell_type": "code",
   "execution_count": 6,
   "id": "53679913aee28ce9",
   "metadata": {
    "ExecuteTime": {
     "end_time": "2024-08-19T10:16:35.057696Z",
     "start_time": "2024-08-19T10:16:34.731315Z"
    },
    "collapsed": false,
    "execution": {
     "iopub.execute_input": "2024-08-21T20:30:22.082019Z",
     "iopub.status.busy": "2024-08-21T20:30:22.081755Z",
     "iopub.status.idle": "2024-08-21T20:30:22.113363Z",
     "shell.execute_reply": "2024-08-21T20:30:22.113042Z"
    },
    "papermill": {
     "duration": 0.035128,
     "end_time": "2024-08-21T20:30:22.114260",
     "exception": false,
     "start_time": "2024-08-21T20:30:22.079132",
     "status": "completed"
    },
    "tags": []
   },
   "outputs": [
    {
     "data": {
      "text/html": [
       "<div style=\"width:100%;\"><div style=\"position:relative;width:100%;height:0;padding-bottom:60%;\"><span style=\"color:#565656\">Make this Notebook Trusted to load map: File -> Trust Notebook</span><iframe srcdoc=\"&lt;!DOCTYPE html&gt;\n",
       "&lt;html&gt;\n",
       "&lt;head&gt;\n",
       "    \n",
       "    &lt;meta http-equiv=&quot;content-type&quot; content=&quot;text/html; charset=UTF-8&quot; /&gt;\n",
       "    \n",
       "        &lt;script&gt;\n",
       "            L_NO_TOUCH = false;\n",
       "            L_DISABLE_3D = false;\n",
       "        &lt;/script&gt;\n",
       "    \n",
       "    &lt;style&gt;html, body {width: 100%;height: 100%;margin: 0;padding: 0;}&lt;/style&gt;\n",
       "    &lt;style&gt;#map {position:absolute;top:0;bottom:0;right:0;left:0;}&lt;/style&gt;\n",
       "    &lt;script src=&quot;https://cdn.jsdelivr.net/npm/leaflet@1.9.3/dist/leaflet.js&quot;&gt;&lt;/script&gt;\n",
       "    &lt;script src=&quot;https://code.jquery.com/jquery-3.7.1.min.js&quot;&gt;&lt;/script&gt;\n",
       "    &lt;script src=&quot;https://cdn.jsdelivr.net/npm/bootstrap@5.2.2/dist/js/bootstrap.bundle.min.js&quot;&gt;&lt;/script&gt;\n",
       "    &lt;script src=&quot;https://cdnjs.cloudflare.com/ajax/libs/Leaflet.awesome-markers/2.0.2/leaflet.awesome-markers.js&quot;&gt;&lt;/script&gt;\n",
       "    &lt;link rel=&quot;stylesheet&quot; href=&quot;https://cdn.jsdelivr.net/npm/leaflet@1.9.3/dist/leaflet.css&quot;/&gt;\n",
       "    &lt;link rel=&quot;stylesheet&quot; href=&quot;https://cdn.jsdelivr.net/npm/bootstrap@5.2.2/dist/css/bootstrap.min.css&quot;/&gt;\n",
       "    &lt;link rel=&quot;stylesheet&quot; href=&quot;https://netdna.bootstrapcdn.com/bootstrap/3.0.0/css/bootstrap-glyphicons.css&quot;/&gt;\n",
       "    &lt;link rel=&quot;stylesheet&quot; href=&quot;https://cdn.jsdelivr.net/npm/@fortawesome/fontawesome-free@6.2.0/css/all.min.css&quot;/&gt;\n",
       "    &lt;link rel=&quot;stylesheet&quot; href=&quot;https://cdnjs.cloudflare.com/ajax/libs/Leaflet.awesome-markers/2.0.2/leaflet.awesome-markers.css&quot;/&gt;\n",
       "    &lt;link rel=&quot;stylesheet&quot; href=&quot;https://cdn.jsdelivr.net/gh/python-visualization/folium/folium/templates/leaflet.awesome.rotate.min.css&quot;/&gt;\n",
       "    \n",
       "            &lt;meta name=&quot;viewport&quot; content=&quot;width=device-width,\n",
       "                initial-scale=1.0, maximum-scale=1.0, user-scalable=no&quot; /&gt;\n",
       "            &lt;style&gt;\n",
       "                #map_584b3d9e7f451042da4fa6879e6ad02d {\n",
       "                    position: relative;\n",
       "                    width: 100.0%;\n",
       "                    height: 100.0%;\n",
       "                    left: 0.0%;\n",
       "                    top: 0.0%;\n",
       "                }\n",
       "                .leaflet-container { font-size: 1rem; }\n",
       "            &lt;/style&gt;\n",
       "        \n",
       "&lt;/head&gt;\n",
       "&lt;body&gt;\n",
       "    \n",
       "    \n",
       "            &lt;div class=&quot;folium-map&quot; id=&quot;map_584b3d9e7f451042da4fa6879e6ad02d&quot; &gt;&lt;/div&gt;\n",
       "        \n",
       "&lt;/body&gt;\n",
       "&lt;script&gt;\n",
       "    \n",
       "    \n",
       "            var map_584b3d9e7f451042da4fa6879e6ad02d = L.map(\n",
       "                &quot;map_584b3d9e7f451042da4fa6879e6ad02d&quot;,\n",
       "                {\n",
       "                    center: [50.965, 13.922],\n",
       "                    crs: L.CRS.EPSG3857,\n",
       "                    zoom: 12,\n",
       "                    zoomControl: true,\n",
       "                    preferCanvas: false,\n",
       "                }\n",
       "            );\n",
       "\n",
       "            \n",
       "\n",
       "        \n",
       "    \n",
       "            var tile_layer_762604b6eb34476766a89b0b1917456d = L.tileLayer(\n",
       "                &quot;https://{s}.basemaps.cartocdn.com/light_all/{z}/{x}/{y}{r}.png&quot;,\n",
       "                {&quot;attribution&quot;: &quot;\\u0026copy; \\u003ca href=\\&quot;https://www.openstreetmap.org/copyright\\&quot;\\u003eOpenStreetMap\\u003c/a\\u003e contributors \\u0026copy; \\u003ca href=\\&quot;https://carto.com/attributions\\&quot;\\u003eCARTO\\u003c/a\\u003e&quot;, &quot;detectRetina&quot;: false, &quot;maxNativeZoom&quot;: 20, &quot;maxZoom&quot;: 20, &quot;minZoom&quot;: 0, &quot;noWrap&quot;: false, &quot;opacity&quot;: 1, &quot;subdomains&quot;: &quot;abcd&quot;, &quot;tms&quot;: false}\n",
       "            );\n",
       "        \n",
       "    \n",
       "            tile_layer_762604b6eb34476766a89b0b1917456d.addTo(map_584b3d9e7f451042da4fa6879e6ad02d);\n",
       "        \n",
       "    \n",
       "\n",
       "        function geo_json_0a46f1b851361432b81a315985a5e5eb_onEachFeature(feature, layer) {\n",
       "            layer.on({\n",
       "            });\n",
       "        };\n",
       "        var geo_json_0a46f1b851361432b81a315985a5e5eb = L.geoJson(null, {\n",
       "                onEachFeature: geo_json_0a46f1b851361432b81a315985a5e5eb_onEachFeature,\n",
       "            \n",
       "        });\n",
       "\n",
       "        function geo_json_0a46f1b851361432b81a315985a5e5eb_add (data) {\n",
       "            geo_json_0a46f1b851361432b81a315985a5e5eb\n",
       "                .addData(data);\n",
       "        }\n",
       "            geo_json_0a46f1b851361432b81a315985a5e5eb_add({&quot;coordinates&quot;: [[[13.92, 50.964], [13.92, 50.966], [13.925, 50.966], [13.925, 50.964], [13.92, 50.964]]], &quot;type&quot;: &quot;Polygon&quot;});\n",
       "        geo_json_0a46f1b851361432b81a315985a5e5eb.setStyle(function(feature) {return feature.properties.style;});\n",
       "\n",
       "        \n",
       "    \n",
       "            geo_json_0a46f1b851361432b81a315985a5e5eb.addTo(map_584b3d9e7f451042da4fa6879e6ad02d);\n",
       "        \n",
       "    \n",
       "            map_584b3d9e7f451042da4fa6879e6ad02d.fitBounds(\n",
       "                [[50.964, 13.92], [50.966, 13.925]],\n",
       "                {}\n",
       "            );\n",
       "        \n",
       "    \n",
       "            tile_layer_762604b6eb34476766a89b0b1917456d.addTo(map_584b3d9e7f451042da4fa6879e6ad02d);\n",
       "        \n",
       "    \n",
       "            geo_json_0a46f1b851361432b81a315985a5e5eb.addTo(map_584b3d9e7f451042da4fa6879e6ad02d);\n",
       "        \n",
       "    \n",
       "\n",
       "        function geo_json_b5cd2510c3117fe610d66d4120f77659_onEachFeature(feature, layer) {\n",
       "            layer.on({\n",
       "            });\n",
       "        };\n",
       "        var geo_json_b5cd2510c3117fe610d66d4120f77659 = L.geoJson(null, {\n",
       "                onEachFeature: geo_json_b5cd2510c3117fe610d66d4120f77659_onEachFeature,\n",
       "            \n",
       "        });\n",
       "\n",
       "        function geo_json_b5cd2510c3117fe610d66d4120f77659_add (data) {\n",
       "            geo_json_b5cd2510c3117fe610d66d4120f77659\n",
       "                .addData(data);\n",
       "        }\n",
       "            geo_json_b5cd2510c3117fe610d66d4120f77659_add({&quot;coordinates&quot;: [[13.92004, 50.96401], [13.92499, 50.966]], &quot;type&quot;: &quot;LineString&quot;});\n",
       "        geo_json_b5cd2510c3117fe610d66d4120f77659.setStyle(function(feature) {return feature.properties.style;});\n",
       "\n",
       "        \n",
       "    \n",
       "            geo_json_b5cd2510c3117fe610d66d4120f77659.addTo(map_584b3d9e7f451042da4fa6879e6ad02d);\n",
       "        \n",
       "    \n",
       "\n",
       "        function geo_json_4e66037e88fa14c5a29fddd89f232001_onEachFeature(feature, layer) {\n",
       "            layer.on({\n",
       "            });\n",
       "        };\n",
       "        var geo_json_4e66037e88fa14c5a29fddd89f232001 = L.geoJson(null, {\n",
       "                onEachFeature: geo_json_4e66037e88fa14c5a29fddd89f232001_onEachFeature,\n",
       "            \n",
       "        });\n",
       "\n",
       "        function geo_json_4e66037e88fa14c5a29fddd89f232001_add (data) {\n",
       "            geo_json_4e66037e88fa14c5a29fddd89f232001\n",
       "                .addData(data);\n",
       "        }\n",
       "            geo_json_4e66037e88fa14c5a29fddd89f232001_add({&quot;coordinates&quot;: [13.92499, 50.966], &quot;type&quot;: &quot;Point&quot;});\n",
       "        geo_json_4e66037e88fa14c5a29fddd89f232001.setStyle(function(feature) {return feature.properties.style;});\n",
       "\n",
       "        \n",
       "    \n",
       "            geo_json_4e66037e88fa14c5a29fddd89f232001.addTo(map_584b3d9e7f451042da4fa6879e6ad02d);\n",
       "        \n",
       "    \n",
       "\n",
       "        function geo_json_0bdfee2dfdc3cb16c67644ad9b930846_onEachFeature(feature, layer) {\n",
       "            layer.on({\n",
       "            });\n",
       "        };\n",
       "        var geo_json_0bdfee2dfdc3cb16c67644ad9b930846 = L.geoJson(null, {\n",
       "                onEachFeature: geo_json_0bdfee2dfdc3cb16c67644ad9b930846_onEachFeature,\n",
       "            \n",
       "        });\n",
       "\n",
       "        function geo_json_0bdfee2dfdc3cb16c67644ad9b930846_add (data) {\n",
       "            geo_json_0bdfee2dfdc3cb16c67644ad9b930846\n",
       "                .addData(data);\n",
       "        }\n",
       "            geo_json_0bdfee2dfdc3cb16c67644ad9b930846_add({&quot;coordinates&quot;: [13.92004, 50.96401], &quot;type&quot;: &quot;Point&quot;});\n",
       "        geo_json_0bdfee2dfdc3cb16c67644ad9b930846.setStyle(function(feature) {return feature.properties.style;});\n",
       "\n",
       "        \n",
       "    \n",
       "            geo_json_0bdfee2dfdc3cb16c67644ad9b930846.addTo(map_584b3d9e7f451042da4fa6879e6ad02d);\n",
       "        \n",
       "    \n",
       "            map_584b3d9e7f451042da4fa6879e6ad02d.fitBounds(\n",
       "                [[50.964, 13.92], [50.966, 13.925]],\n",
       "                {}\n",
       "            );\n",
       "        \n",
       "&lt;/script&gt;\n",
       "&lt;/html&gt;\" style=\"position:absolute;width:100%;height:100%;left:0;top:0;border:none !important;\" allowfullscreen webkitallowfullscreen mozallowfullscreen></iframe></div></div>"
      ],
      "text/plain": [
       "<folium.folium.Map at 0x129ab02c0>"
      ]
     },
     "execution_count": 6,
     "metadata": {},
     "output_type": "execute_result"
    }
   ],
   "source": [
    "from morpheus.project.types.boundaries.Observation import ObservationName\n",
    "from morpheus.project.types.boundaries.RiverObservation import ObservationId, Conductance, RiverObservationValue, RiverStage, \\\n",
    "  RiverbedBottom, RiverObservation\n",
    "from morpheus.project.types.geometry import Point\n",
    "from morpheus.project.types.boundaries.Boundary import BoundaryName, BoundaryCollection, RiverBoundary\n",
    "from morpheus.project.types.layers import LayerId\n",
    "\n",
    "layers_list = [LayerId.new()]\n",
    "\n",
    "river_boundary = RiverBoundary.from_geometry(\n",
    "  name=BoundaryName('river'),\n",
    "  geometry=LineString([\n",
    "    (13.92004, 50.96401),\n",
    "    (13.92499, 50.966),\n",
    "  ]),\n",
    "  grid=grid,\n",
    "  affected_layers=[model.layers[0].layer_id],\n",
    "  observations=[\n",
    "    RiverObservation(\n",
    "      observation_id=ObservationId.new(),\n",
    "      observation_name=ObservationName.default(),\n",
    "      geometry=Point((13.92499, 50.966)),\n",
    "      data=[\n",
    "        RiverObservationValue(\n",
    "          date_time=StartDateTime.from_datetime(datetime(2019, 1, 1)),\n",
    "          riverbed_bottom=RiverbedBottom.from_float(100),\n",
    "          river_stage=RiverStage.from_float(105),\n",
    "          conductance=Conductance.from_float(50),\n",
    "        ),\n",
    "        RiverObservationValue(\n",
    "          date_time=StartDateTime.from_datetime(datetime(2021, 12, 31)),\n",
    "          riverbed_bottom=RiverbedBottom.from_float(100),\n",
    "          river_stage=RiverStage.from_float(105),\n",
    "          conductance=Conductance.from_float(50),\n",
    "        ),\n",
    "      ]\n",
    "    ),\n",
    "    RiverObservation(\n",
    "      observation_id=ObservationId.new(),\n",
    "      observation_name=ObservationName.default(),\n",
    "      geometry=Point((13.92004, 50.96401)),\n",
    "      data=[\n",
    "        RiverObservationValue(\n",
    "          date_time=StartDateTime.from_datetime(datetime(2019, 1, 1)),\n",
    "          riverbed_bottom=RiverbedBottom.from_float(95),\n",
    "          river_stage=RiverStage.from_float(100),\n",
    "          conductance=Conductance.from_float(100),\n",
    "        ),\n",
    "        RiverObservationValue(\n",
    "          date_time=StartDateTime.from_datetime(datetime(2021, 12, 31)),\n",
    "          riverbed_bottom=RiverbedBottom.from_float(95),\n",
    "          river_stage=RiverStage.from_float(100),\n",
    "          conductance=Conductance.from_float(100),\n",
    "        ),\n",
    "      ]\n",
    "    ),\n",
    "  ]\n",
    ")\n",
    "\n",
    "boundary_collection = BoundaryCollection.new()\n",
    "boundary_collection.add_boundary(river_boundary)\n",
    "\n",
    "model = model.with_updated_boundaries(boundaries=boundary_collection)\n",
    "\n",
    "m.add_child(folium.GeoJson(river_boundary.as_geojson()))\n",
    "for observation in river_boundary.observations:\n",
    "  m.add_child(folium.GeoJson(observation.as_geojson()))\n",
    "\n",
    "m.fit_bounds(m.get_bounds())\n",
    "m"
   ]
  },
  {
   "cell_type": "code",
   "execution_count": 7,
   "id": "25b4324c4d166cd7",
   "metadata": {
    "ExecuteTime": {
     "end_time": "2024-08-19T10:16:35.061357Z",
     "start_time": "2024-08-19T10:16:35.058384Z"
    },
    "collapsed": false,
    "execution": {
     "iopub.execute_input": "2024-08-21T20:30:22.119094Z",
     "iopub.status.busy": "2024-08-21T20:30:22.118981Z",
     "iopub.status.idle": "2024-08-21T20:30:22.121072Z",
     "shell.execute_reply": "2024-08-21T20:30:22.120865Z"
    },
    "papermill": {
     "duration": 0.005381,
     "end_time": "2024-08-21T20:30:22.121894",
     "exception": false,
     "start_time": "2024-08-21T20:30:22.116513",
     "status": "completed"
    },
    "tags": []
   },
   "outputs": [
    {
     "data": {
      "text/plain": [
       "[RiverObservation(observation_id=ObservationId(value='e7e5b99e-6594-43da-955b-310cc4253f21'), observation_name=ObservationName(value='Observation Point 1'), geometry=Point(coordinates=(13.92499, 50.966), type='Point'), data=[RiverObservationValue(date_time=StartDateTime(value=datetime.datetime(2019, 1, 1, 0, 0, tzinfo=datetime.timezone.utc)), river_stage=RiverStage(value=105), riverbed_bottom=RiverbedBottom(value=100), conductance=Conductance(value=50)), RiverObservationValue(date_time=StartDateTime(value=datetime.datetime(2021, 12, 31, 0, 0, tzinfo=datetime.timezone.utc)), river_stage=RiverStage(value=105), riverbed_bottom=RiverbedBottom(value=100), conductance=Conductance(value=50))]),\n",
       " RiverObservation(observation_id=ObservationId(value='d8fee7c4-9a33-4e92-aaa1-1851454270b1'), observation_name=ObservationName(value='Observation Point 1'), geometry=Point(coordinates=(13.92004, 50.96401), type='Point'), data=[RiverObservationValue(date_time=StartDateTime(value=datetime.datetime(2019, 1, 1, 0, 0, tzinfo=datetime.timezone.utc)), river_stage=RiverStage(value=100), riverbed_bottom=RiverbedBottom(value=95), conductance=Conductance(value=100)), RiverObservationValue(date_time=StartDateTime(value=datetime.datetime(2021, 12, 31, 0, 0, tzinfo=datetime.timezone.utc)), river_stage=RiverStage(value=100), riverbed_bottom=RiverbedBottom(value=95), conductance=Conductance(value=100))])]"
      ]
     },
     "execution_count": 7,
     "metadata": {},
     "output_type": "execute_result"
    }
   ],
   "source": [
    "river_boundary.observations"
   ]
  },
  {
   "cell_type": "code",
   "execution_count": 8,
   "id": "dc338472e1887a13",
   "metadata": {
    "ExecuteTime": {
     "end_time": "2024-08-19T10:16:35.584537Z",
     "start_time": "2024-08-19T10:16:35.062266Z"
    },
    "collapsed": false,
    "execution": {
     "iopub.execute_input": "2024-08-21T20:30:22.126896Z",
     "iopub.status.busy": "2024-08-21T20:30:22.126788Z",
     "iopub.status.idle": "2024-08-21T20:30:22.615842Z",
     "shell.execute_reply": "2024-08-21T20:30:22.615575Z"
    },
    "papermill": {
     "duration": 0.492588,
     "end_time": "2024-08-21T20:30:22.616714",
     "exception": false,
     "start_time": "2024-08-21T20:30:22.124126",
     "status": "completed"
    },
    "tags": []
   },
   "outputs": [
    {
     "data": {
      "text/plain": [
       "{0: [[0, 0, 98, 104.93648697732888, 50.6351302267112, 99.93648697732888],\n",
       "  [0, 0, 99, 104.97996508544105, 50.200349145589506, 99.97996508544105],\n",
       "  [0, 1, 96, 104.83554778781311, 51.644522121868825, 99.83554778781311],\n",
       "  [0, 1, 97, 104.87902589592683, 51.209741040731686, 99.87902589592683],\n",
       "  [0, 2, 94, 104.73460858626737, 52.65391413732636, 99.73460858626737],\n",
       "  [0, 2, 95, 104.77808669438107, 52.21913305618921, 99.77808669438107],\n",
       "  [0, 3, 92, 104.63366937267645, 53.66330627323551, 99.63366937267645],\n",
       "  [0, 3, 93, 104.6771474807917, 53.22852519208293, 99.6771474807917],\n",
       "  [0, 4, 90, 104.53273014704902, 54.6726985295097, 99.53273014704902],\n",
       "  [0, 4, 91, 104.5762082551612, 54.237917448388, 99.5762082551612],\n",
       "  [0, 5, 88, 104.43179090937893, 55.68209090621068, 99.43179090937893],\n",
       "  [0, 5, 89, 104.47526901749265, 55.247309825073536, 99.47526901749265],\n",
       "  [0, 6, 86, 104.3308516596683, 56.69148340331698, 99.3308516596683],\n",
       "  [0, 6, 87, 104.37432976778202, 56.256702322179834, 99.37432976778202],\n",
       "  [0, 7, 84, 104.22991239792057, 57.70087602079434, 99.22991239792057],\n",
       "  [0, 7, 85, 104.27339050603582, 57.26609493964175, 99.27339050603582],\n",
       "  [0, 8, 82, 104.12897312413075, 58.710268758692436, 99.12897312413075],\n",
       "  [0, 8, 83, 104.17245123224292, 58.275487677570744, 99.17245123224292],\n",
       "  [0, 9, 80, 104.02803383830135, 59.719661616986464, 99.02803383830135],\n",
       "  [0, 9, 81, 104.07151194641507, 59.28488053584932, 99.07151194641507],\n",
       "  [0, 10, 78, 103.92709454042833, 60.72905459571668, 98.92709454042833],\n",
       "  [0, 10, 79, 103.97057264854205, 60.29427351457954, 98.97057264854205],\n",
       "  [0, 11, 76, 103.82615523051726, 61.73844769482735, 98.82615523051726],\n",
       "  [0, 11, 77, 103.86963333863253, 61.30366661367477, 98.86963333863253],\n",
       "  [0, 12, 74, 103.72521590856908, 62.74784091430911, 98.72521590856908],\n",
       "  [0, 12, 75, 103.76869401668435, 62.31305983315652, 98.76869401668435],\n",
       "  [0, 13, 72, 103.6242765745779, 63.757234254221004, 98.6242765745779],\n",
       "  [0, 13, 73, 103.66775468269007, 63.322453173099305, 98.66775468269007],\n",
       "  [0, 14, 70, 103.52333722855055, 64.76662771449458, 98.52333722855055],\n",
       "  [0, 14, 71, 103.56681533666271, 64.33184663337286, 98.56681533666271],\n",
       "  [0, 15, 68, 103.4223978704746, 65.77602129525401, 98.4223978704746],\n",
       "  [0, 15, 69, 103.46587597858831, 65.34124021411688, 98.46587597858831],\n",
       "  [0, 16, 66, 103.3214585003631, 66.78541499636908, 98.3214585003631],\n",
       "  [0, 16, 67, 103.36493660847681, 66.35063391523195, 98.36493660847681],\n",
       "  [0, 17, 64, 103.22051911821448, 67.79480881785523, 98.22051911821448],\n",
       "  [0, 17, 65, 103.26399722632665, 67.36002773673351, 98.26399722632665],\n",
       "  [0, 18, 62, 103.1195797240213, 68.80420275978696, 98.1195797240213],\n",
       "  [0, 18, 63, 103.16305783213348, 68.36942167866526, 98.16305783213348],\n",
       "  [0, 19, 60, 103.01864031778699, 69.81359682213004, 98.01864031778699],\n",
       "  [0, 19, 61, 103.06211842590226, 69.37881574097744, 98.06211842590226],\n",
       "  [0, 20, 58, 102.91770089951713, 70.82299100482875, 97.91770089951713],\n",
       "  [0, 20, 59, 102.96117900763238, 70.38820992367616, 97.96117900763238],\n",
       "  [0, 21, 56, 102.81676146920269, 71.83238530797306, 97.81676146920269],\n",
       "  [0, 21, 57, 102.86023957731796, 71.39760422682046, 97.86023957731796],\n",
       "  [0, 22, 54, 102.71582202685116, 72.84177973148843, 97.71582202685116],\n",
       "  [0, 22, 55, 102.75930013496487, 72.40699865035128, 97.75930013496487],\n",
       "  [0, 23, 52, 102.6148825724591, 73.8511742754091, 97.6148825724591],\n",
       "  [0, 23, 53, 102.65836068057126, 73.41639319428741, 97.65836068057126],\n",
       "  [0, 24, 50, 102.51394310602528, 74.86056893974718, 97.51394310602528],\n",
       "  [0, 24, 51, 102.55742121414055, 74.42578785859459, 97.55742121414055],\n",
       "  [0, 25, 48, 102.41300362755403, 75.86996372445968, 97.41300362755403],\n",
       "  [0, 25, 49, 102.45648173566775, 75.43518264332253, 97.45648173566775],\n",
       "  [0, 26, 46, 102.31206413704165, 76.87935862958352, 97.31206413704165],\n",
       "  [0, 26, 47, 102.35554224515381, 76.44457754846184, 97.35554224515381],\n",
       "  [0, 27, 44, 102.21112463448719, 77.88875365512813, 97.21112463448719],\n",
       "  [0, 27, 45, 102.25460274259936, 77.45397257400643, 97.25460274259936],\n",
       "  [0, 28, 42, 102.1101851198916, 78.89814880108409, 97.1101851198916],\n",
       "  [0, 28, 43, 102.15366322800685, 78.4633677199315, 97.15366322800685],\n",
       "  [0, 29, 40, 102.00924559325794, 79.9075440674205, 97.00924559325794],\n",
       "  [0, 29, 41, 102.05272370137166, 79.47276298628337, 97.05272370137166],\n",
       "  [0, 30, 38, 101.90830605458471, 80.91693945415284, 96.90830605458471],\n",
       "  [0, 30, 39, 101.95178416269998, 80.48215837300026, 96.95178416269998],\n",
       "  [0, 31, 36, 101.8073665038694, 81.92633496130593, 96.8073665038694],\n",
       "  [0, 31, 37, 101.85084461198157, 81.49155388018423, 96.85084461198157],\n",
       "  [0, 32, 34, 101.70642694111451, 82.93573058885491, 96.70642694111451],\n",
       "  [0, 32, 35, 101.74990504922977, 82.50094950770233, 96.74990504922977],\n",
       "  [0, 33, 32, 101.60548736631847, 83.94512633681526, 96.60548736631847],\n",
       "  [0, 33, 33, 101.64896547443374, 83.51034525566267, 96.64896547443374],\n",
       "  [0, 34, 30, 101.50454777948593, 84.95452220514063, 96.50454777948593],\n",
       "  [0, 34, 31, 101.54802588759965, 84.51974112400349, 96.54802588759965],\n",
       "  [0, 35, 28, 101.40360818061072, 85.9639181938928, 96.40360818061072],\n",
       "  [0, 35, 29, 101.44708628872444, 85.52913711275566, 96.44708628872444],\n",
       "  [0, 36, 26, 101.30266856969652, 86.97331430303483, 96.30266856969652],\n",
       "  [0, 36, 27, 101.34614667780869, 86.53853322191313, 96.34614667780869],\n",
       "  [0, 37, 24, 101.20172894673964, 87.98271053260366, 96.20172894673964],\n",
       "  [0, 37, 25, 101.24520705485489, 87.54792945145107, 96.24520705485489],\n",
       "  [0, 38, 22, 101.10078931174377, 88.99210688256234, 96.10078931174377],\n",
       "  [0, 38, 23, 101.14426741985594, 88.55732580144064, 96.14426741985594],\n",
       "  [0, 39, 20, 100.99984966470427, 90.00150335295723, 95.99984966470427],\n",
       "  [0, 39, 21, 101.04332777281645, 89.56672227183553, 96.04332777281645],\n",
       "  [0, 40, 18, 100.89891000562862, 91.01089994371378, 95.89891000562862],\n",
       "  [0, 40, 19, 100.94238811374079, 90.5761188625921, 95.94238811374079],\n",
       "  [0, 41, 16, 100.79797033451244, 92.02029665487565, 95.79797033451244],\n",
       "  [0, 41, 17, 100.84144844262615, 91.5855155737385, 95.84144844262615],\n",
       "  [0, 42, 14, 100.69703065135666, 93.02969348643342, 95.69703065135666],\n",
       "  [0, 42, 15, 100.74050875946882, 92.59491240531173, 95.74050875946882],\n",
       "  [0, 43, 12, 100.59609095615632, 94.03909043843679, 95.59609095615632],\n",
       "  [0, 43, 13, 100.63956906427003, 93.60430935729964, 95.63956906427003],\n",
       "  [0, 44, 10, 100.49515124891734, 95.04848751082666, 95.49515124891734],\n",
       "  [0, 44, 11, 100.53862935703259, 94.61370642967408, 95.53862935703259],\n",
       "  [0, 45, 8, 100.3942115296403, 96.05788470359701, 95.3942115296403],\n",
       "  [0, 45, 9, 100.43768963775555, 95.62310362244442, 95.43768963775555],\n",
       "  [0, 46, 6, 100.29327179832119, 97.0672820167881, 95.29327179832119],\n",
       "  [0, 46, 7, 100.33674990643645, 96.63250093563552, 95.33674990643645],\n",
       "  [0, 47, 4, 100.19233205496651, 98.07667945033482, 95.19233205496651],\n",
       "  [0, 47, 5, 100.23581016307868, 97.64189836921312, 95.23581016307868],\n",
       "  [0, 48, 2, 100.09139229956574, 99.08607700434257, 95.09139229956574],\n",
       "  [0, 48, 3, 100.13487040767791, 98.65129592322087, 95.13487040767791],\n",
       "  [0, 49, 0, 100.0, 100.0, 95.0],\n",
       "  [0, 49, 1, 100.03393064024003, 99.6606935975997, 95.03393064024003]]}"
      ]
     },
     "execution_count": 8,
     "metadata": {},
     "output_type": "execute_result"
    }
   ],
   "source": [
    "from morpheus.project.infrastructure.calculation.engines.modflow_2005.packages.RivPackageMapper import \\\n",
    "  calculate_riv_boundary_stress_period_data\n",
    "\n",
    "result = calculate_riv_boundary_stress_period_data(\n",
    "  spatial_discretization=spatial_discretization,\n",
    "  time_discretization=time_discretization,\n",
    "  layers=model.layers,\n",
    "  riv_boundary=river_boundary,\n",
    ")\n",
    "result.to_dict()"
   ]
  },
  {
   "cell_type": "markdown",
   "id": "42d948d145a8457a",
   "metadata": {
    "collapsed": false,
    "papermill": {
     "duration": 0.002193,
     "end_time": "2024-08-21T20:30:22.621362",
     "exception": false,
     "start_time": "2024-08-21T20:30:22.619169",
     "status": "completed"
    },
    "tags": []
   },
   "source": [
    "## Calculate"
   ]
  },
  {
   "cell_type": "code",
   "execution_count": 9,
   "id": "56ccabee86e2397e",
   "metadata": {
    "ExecuteTime": {
     "end_time": "2024-08-19T10:16:36.269229Z",
     "start_time": "2024-08-19T10:16:35.585291Z"
    },
    "collapsed": false,
    "execution": {
     "iopub.execute_input": "2024-08-21T20:30:22.626451Z",
     "iopub.status.busy": "2024-08-21T20:30:22.626270Z",
     "iopub.status.idle": "2024-08-21T20:30:23.716912Z",
     "shell.execute_reply": "2024-08-21T20:30:23.716548Z"
    },
    "papermill": {
     "duration": 1.096237,
     "end_time": "2024-08-21T20:30:23.719851",
     "exception": false,
     "start_time": "2024-08-21T20:30:22.623614",
     "status": "completed"
    },
    "tags": []
   },
   "outputs": [
    {
     "name": "stdout",
     "output_type": "stream",
     "text": [
      "FloPy is using the following executable to run the model: ../../../../../../Users/ralf/Projects/inowas/morpheus/src/backend/.venv/bin/mf2005\n",
      "\n",
      "                                  MODFLOW-2005     \n",
      "    U.S. GEOLOGICAL SURVEY MODULAR FINITE-DIFFERENCE GROUND-WATER FLOW MODEL\n",
      "                             Version 1.12.00 2/3/2017                        \n",
      "\n",
      " Using NAME file: mf2005.nam \n",
      " Run start date and time (yyyy/mm/dd hh:mm:ss): 2024/08/21 22:30:23\n",
      "\n",
      " Solving:  Stress period:     1    Time step:     1    Ground-Water Flow Eqn.\n",
      " Run end date and time (yyyy/mm/dd hh:mm:ss): 2024/08/21 22:30:23\n",
      " Elapsed run time:  0.031 Seconds\n",
      "\n",
      "  Normal termination of simulation\n"
     ]
    }
   ],
   "source": [
    "from morpheus.project.infrastructure.calculation.services.CalculationService import CalculationService\n",
    "from morpheus.project.types.calculation.CalculationProfile import CalculationProfile, CalculationEngineType\n",
    "\n",
    "calculation = CalculationService.calculate(model=model, profile=CalculationProfile.new(CalculationEngineType.MF2005))"
   ]
  },
  {
   "cell_type": "code",
   "execution_count": 10,
   "id": "e09d94e0a94315cb",
   "metadata": {
    "ExecuteTime": {
     "end_time": "2024-08-19T10:16:36.273940Z",
     "start_time": "2024-08-19T10:16:36.270110Z"
    },
    "collapsed": false,
    "execution": {
     "iopub.execute_input": "2024-08-21T20:30:23.729913Z",
     "iopub.status.busy": "2024-08-21T20:30:23.729698Z",
     "iopub.status.idle": "2024-08-21T20:30:23.732635Z",
     "shell.execute_reply": "2024-08-21T20:30:23.732364Z"
    },
    "papermill": {
     "duration": 0.009941,
     "end_time": "2024-08-21T20:30:23.733618",
     "exception": false,
     "start_time": "2024-08-21T20:30:23.723677",
     "status": "completed"
    },
    "tags": []
   },
   "outputs": [
    {
     "data": {
      "text/plain": [
       "Log(log=['type,package,k,i,j,value,desc'])"
      ]
     },
     "execution_count": 10,
     "metadata": {},
     "output_type": "execute_result"
    }
   ],
   "source": [
    "calculation.check_model_log"
   ]
  },
  {
   "cell_type": "code",
   "execution_count": 11,
   "id": "672007fb90753c4c",
   "metadata": {
    "ExecuteTime": {
     "end_time": "2024-08-19T10:16:36.280475Z",
     "start_time": "2024-08-19T10:16:36.277063Z"
    },
    "collapsed": false,
    "execution": {
     "iopub.execute_input": "2024-08-21T20:30:23.740281Z",
     "iopub.status.busy": "2024-08-21T20:30:23.740127Z",
     "iopub.status.idle": "2024-08-21T20:30:23.743929Z",
     "shell.execute_reply": "2024-08-21T20:30:23.742971Z"
    },
    "papermill": {
     "duration": 0.010442,
     "end_time": "2024-08-21T20:30:23.747242",
     "exception": false,
     "start_time": "2024-08-21T20:30:23.736800",
     "status": "completed"
    },
    "tags": []
   },
   "outputs": [
    {
     "data": {
      "text/plain": [
       "CalculationResult(type=<CalculationResultType.SUCCESS: 'success'>, message='Calculation finished successfully', files=['mf2005.list', 'mf2005.dis', 'mf2005.nam', 'mf2005.bas', 'mf2005.lpf', 'mf2005.pcg', 'mf2005.riv', 'mf2005.oc', 'mf2005.hds'], flow_head_results=AvailableResults(times=[365.0], kstpkper=[(0, 0)], number_of_layers=1, number_of_observations=0, min_value=100.00115203857422, max_value=104.97736358642578), flow_drawdown_results=None, flow_budget_results=AvailableResults(times=[365.0], kstpkper=[(0, 0)], number_of_layers=0, number_of_observations=0, min_value=None, max_value=None), transport_concentration_results=None, transport_budget_results=None, packages=['DIS', 'BAS6', 'RIV', 'PCG', 'LPF', 'OC'])"
      ]
     },
     "execution_count": 11,
     "metadata": {},
     "output_type": "execute_result"
    }
   ],
   "source": [
    "calculation.calculation_result"
   ]
  },
  {
   "cell_type": "code",
   "execution_count": 12,
   "id": "cc43ad077c7a81d0",
   "metadata": {
    "ExecuteTime": {
     "end_time": "2024-08-19T10:16:36.285486Z",
     "start_time": "2024-08-19T10:16:36.281399Z"
    },
    "collapsed": false,
    "execution": {
     "iopub.execute_input": "2024-08-21T20:30:23.761960Z",
     "iopub.status.busy": "2024-08-21T20:30:23.761673Z",
     "iopub.status.idle": "2024-08-21T20:30:23.766159Z",
     "shell.execute_reply": "2024-08-21T20:30:23.765802Z"
    },
    "papermill": {
     "duration": 0.011716,
     "end_time": "2024-08-21T20:30:23.767418",
     "exception": false,
     "start_time": "2024-08-21T20:30:23.755702",
     "status": "completed"
    },
    "tags": []
   },
   "outputs": [],
   "source": [
    "head = calculation.read_flow_head(idx=0, layer=0)"
   ]
  },
  {
   "cell_type": "code",
   "execution_count": 13,
   "id": "12454cc4d9e18de5",
   "metadata": {
    "ExecuteTime": {
     "end_time": "2024-08-19T10:16:36.294802Z",
     "start_time": "2024-08-19T10:16:36.286099Z"
    },
    "collapsed": false,
    "execution": {
     "iopub.execute_input": "2024-08-21T20:30:23.777520Z",
     "iopub.status.busy": "2024-08-21T20:30:23.777324Z",
     "iopub.status.idle": "2024-08-21T20:30:23.785076Z",
     "shell.execute_reply": "2024-08-21T20:30:23.784827Z"
    },
    "papermill": {
     "duration": 0.013943,
     "end_time": "2024-08-21T20:30:23.785878",
     "exception": false,
     "start_time": "2024-08-21T20:30:23.771935",
     "status": "completed"
    },
    "tags": []
   },
   "outputs": [
    {
     "data": {
      "text/plain": [
       "'[[101.82559967041016, 101.82640075683594, 101.8280029296875, 101.83039855957031, 101.83360290527344, 101.83760070800781, 101.84230041503906, 101.847900390625, 101.85420227050781, 101.86139678955078, 101.86930084228516, 101.87799835205078, 101.88749694824219, 101.89779663085938, 101.90879821777344, 101.92060089111328, 101.93319702148438, 101.94650268554688, 101.96060180664062, 101.97540283203125, 101.99099731445312, 102.00740051269531, 102.02439880371094, 102.04219818115234, 102.06079864501953, 102.08000183105469, 102.0999984741211, 102.12069702148438, 102.14209747314453, 102.16419982910156, 102.18699645996094, 102.21050262451172, 102.23470306396484, 102.2594985961914, 102.28500366210938, 102.31120300292969, 102.33799743652344, 102.3655014038086, 102.39360046386719, 102.42230224609375, 102.45169830322266, 102.48169708251953, 102.51229858398438, 102.54350280761719, 102.57530212402344, 102.60759735107422, 102.6406021118164, 102.67410278320312, 102.70819854736328, 102.7428970336914, 102.7780990600586, 102.81379699707031, 102.85009765625, 102.88690185546875, 102.92420196533203, 102.96199798583984, 103.00029754638672, 103.03910064697266, 103.07830047607422, 103.11810302734375, 103.1583023071289, 103.19889831542969, 103.23999786376953, 103.28160095214844, 103.32350158691406, 103.36589813232422, 103.40869903564453, 103.45189666748047, 103.49539947509766, 103.53939819335938, 103.58370208740234, 103.62840270996094, 103.67340087890625, 103.71880340576172, 103.7645034790039, 103.81050109863281, 103.85690307617188, 103.90350341796875, 103.95040130615234, 103.99759674072266, 104.04509735107422, 104.09290313720703, 104.14089965820312, 104.18910217285156, 104.23760223388672, 104.28620147705078, 104.33509826660156, 104.38420104980469, 104.43340301513672, 104.48290252685547, 104.53250122070312, 104.58219909667969, 104.6321029663086, 104.68199920654297, 104.7322006225586, 104.78230285644531, 104.83280181884766, 104.8822021484375, 104.9352035522461, 104.97740173339844], [101.82440185546875, 101.82510375976562, 101.82669830322266, 101.8291015625, 101.8322982788086, 101.8363037109375, 101.84110260009766, 101.84660339355469, 101.85299682617188, 101.86009979248047, 101.86799621582031, 101.87680053710938, 101.88619995117188, 101.89649963378906, 101.90760040283203, 101.91940307617188, 101.93190002441406, 101.94529724121094, 101.95939636230469, 101.97419738769531, 101.98979949951172, 102.0062026977539, 102.02320098876953, 102.04109954833984, 102.05960083007812, 102.07890319824219, 102.0988998413086, 102.11959838867188, 102.14099884033203, 102.16310119628906, 102.18589782714844, 102.20939636230469, 102.23359680175781, 102.2583999633789, 102.28389739990234, 102.31009674072266, 102.33699798583984, 102.3644027709961, 102.3926010131836, 102.42130279541016, 102.45069885253906, 102.48069763183594, 102.51129913330078, 102.5425033569336, 102.57430267333984, 102.60669708251953, 102.63970184326172, 102.67320251464844, 102.7072982788086, 102.74199676513672, 102.7771987915039, 102.81300354003906, 102.84919738769531, 102.88600158691406, 102.92340087890625, 102.96119689941406, 102.99949645996094, 103.03829956054688, 103.07759857177734, 103.11730194091797, 103.15760040283203, 103.19819641113281, 103.23930358886719, 103.28089904785156, 103.32279968261719, 103.36519622802734, 103.40799713134766, 103.45120239257812, 103.49479675292969, 103.53880310058594, 103.58309936523438, 103.62779998779297, 103.67289733886719, 103.71829986572266, 103.76399993896484, 103.80999755859375, 103.85639953613281, 103.90299987792969, 103.94999694824219, 103.99720001220703, 104.0447006225586, 104.09249877929688, 104.1405029296875, 104.1886978149414, 104.23719787597656, 104.28589630126953, 104.33480072021484, 104.38390350341797, 104.43319702148438, 104.48259735107422, 104.5322036743164, 104.58200073242188, 104.63189697265625, 104.68180084228516, 104.7322006225586, 104.78170013427734, 104.83439636230469, 104.87660217285156, 104.87200164794922, 104.87930297851562], [101.8218002319336, 101.82260131835938, 101.82420349121094, 101.82659912109375, 101.82980346679688, 101.83370208740234, 101.8385009765625, 101.84410095214844, 101.85040283203125, 101.85759735107422, 101.8655014038086, 101.87419891357422, 101.88369750976562, 101.89399719238281, 101.90509796142578, 101.91690063476562, 101.92949676513672, 101.94280242919922, 101.95690155029297, 101.9718017578125, 101.98739624023438, 102.00379943847656, 102.0208969116211, 102.0386962890625, 102.05729675292969, 102.07659912109375, 102.09660339355469, 102.11730194091797, 102.13870239257812, 102.16089630126953, 102.18370056152344, 102.20719909667969, 102.23139953613281, 102.25630187988281, 102.28179931640625, 102.30799865722656, 102.33489990234375, 102.36239624023438, 102.3905029296875, 102.41929626464844, 102.44869995117188, 102.47869873046875, 102.5093002319336, 102.54060363769531, 102.57240295410156, 102.60479736328125, 102.63780212402344, 102.67140197753906, 102.70549774169922, 102.74019622802734, 102.77549743652344, 102.81120300292969, 102.84750366210938, 102.8843994140625, 102.92169952392578, 102.95960235595703, 102.9979019165039, 103.03669738769531, 103.07610321044922, 103.11579895019531, 103.15609741210938, 103.1968002319336, 103.23789978027344, 103.27950286865234, 103.32150268554688, 103.36389923095703, 103.40679931640625, 103.44999694824219, 103.49359893798828, 103.53759765625, 103.58200073242188, 103.62670135498047, 103.67179870605469, 103.71720123291016, 103.76300048828125, 103.80899810791016, 103.85540008544922, 103.902099609375, 103.9490966796875, 103.99629974365234, 104.04389953613281, 104.0916976928711, 104.13970184326172, 104.18800354003906, 104.23650360107422, 104.28520202636719, 104.33419799804688, 104.38330078125, 104.43260192871094, 104.48210144042969, 104.53179931640625, 104.58149719238281, 104.63159942626953, 104.68099975585938, 104.7334976196289, 104.77580261230469, 104.77519989013672, 104.78569793701172, 104.78980255126953, 104.79299926757812], [101.81790161132812, 101.8187026977539, 101.82029724121094, 101.82270050048828, 101.82589721679688, 101.82990264892578, 101.83470153808594, 101.84030151367188, 101.84660339355469, 101.85379791259766, 101.86170196533203, 101.87049865722656, 101.87999725341797, 101.89029693603516, 101.90129852294922, 101.91320037841797, 101.92579650878906, 101.93920135498047, 101.95330047607422, 101.96820068359375, 101.98380279541016, 102.00019836425781, 102.01730346679688, 102.03520202636719, 102.05380249023438, 102.0730972290039, 102.09310150146484, 102.11389923095703, 102.13529968261719, 102.15750122070312, 102.1803970336914, 102.20390319824219, 102.22810363769531, 102.25299835205078, 102.27860260009766, 102.30480194091797, 102.33170318603516, 102.35929870605469, 102.38739776611328, 102.41629791259766, 102.4457015991211, 102.47579956054688, 102.50640106201172, 102.5376968383789, 102.5696029663086, 102.60199737548828, 102.63510131835938, 102.668701171875, 102.70279693603516, 102.73760223388672, 102.77290344238281, 102.80870056152344, 102.84500122070312, 102.88189697265625, 102.91929626464844, 102.95719909667969, 102.99549865722656, 103.0344009399414, 103.07379913330078, 103.11360168457031, 103.15390014648438, 103.1946029663086, 103.23580169677734, 103.27739715576172, 103.31950378417969, 103.36199951171875, 103.40480041503906, 103.4480972290039, 103.4917984008789, 103.53579711914062, 103.5802001953125, 103.625, 103.67009735107422, 103.7155990600586, 103.76139831542969, 103.80750274658203, 103.85389709472656, 103.90070343017578, 103.94770050048828, 103.99500274658203, 104.0426025390625, 104.09049987792969, 104.13860321044922, 104.18689727783203, 104.2354965209961, 104.2842025756836, 104.33319854736328, 104.38240051269531, 104.43180084228516, 104.4813003540039, 104.53119659423828, 104.58039855957031, 104.63259887695312, 104.67510223388672, 104.67769622802734, 104.6906967163086, 104.69819641113281, 104.70500183105469, 104.70929718017578, 104.71170043945312], [101.81279754638672, 101.8135986328125, 101.81520080566406, 101.81759643554688, 101.82080078125, 101.82479858398438, 101.82959747314453, 101.83519744873047, 101.84149932861328, 101.84870147705078, 101.85669708251953, 101.86540222167969, 101.875, 101.88529968261719, 101.89640045166016, 101.908203125, 101.9207992553711, 101.93419647216797, 101.94840240478516, 101.96330261230469, 101.97899627685547, 101.99539947509766, 102.01260375976562, 102.03050231933594, 102.04910278320312, 102.06839752197266, 102.0885009765625, 102.10929870605469, 102.13079833984375, 102.15299987792969, 102.1759033203125, 102.19950103759766, 102.22380065917969, 102.24870300292969, 102.27429962158203, 102.30059814453125, 102.32759857177734, 102.3551025390625, 102.3833999633789, 102.41220092773438, 102.44170379638672, 102.4718017578125, 102.50250244140625, 102.53389739990234, 102.56580352783203, 102.59829711914062, 102.63140106201172, 102.66500091552734, 102.69930267333984, 102.73400115966797, 102.76940155029297, 102.8051986694336, 102.84159851074219, 102.87860107421875, 102.91600036621094, 102.9540023803711, 102.99240112304688, 103.03130340576172, 103.0707015991211, 103.11060333251953, 103.1510009765625, 103.19180297851562, 103.23300170898438, 103.27469635009766, 103.31680297851562, 103.35929870605469, 103.40229797363281, 103.44560241699219, 103.48930358886719, 103.53340148925781, 103.5779037475586, 103.6227035522461, 103.66790008544922, 103.7134017944336, 103.7593002319336, 103.80549621582031, 103.85199737548828, 103.8988037109375, 103.9458999633789, 103.99330139160156, 104.04090118408203, 104.08879852294922, 104.13700103759766, 104.1854019165039, 104.23410034179688, 104.28289794921875, 104.33200073242188, 104.3812026977539, 104.43080139160156, 104.47979736328125, 104.53179931640625, 104.57430267333984, 104.57969665527344, 104.59490203857422, 104.6050033569336, 104.6146011352539, 104.62220001220703, 104.62809753417969, 104.6321029663086, 104.63410186767578], [101.8062973022461, 101.80709838867188, 101.80870056152344, 101.81120300292969, 101.81439971923828, 101.81839752197266, 101.82319641113281, 101.82879638671875, 101.83519744873047, 101.84239959716797, 101.85040283203125, 101.85910034179688, 101.86869812011719, 101.87899780273438, 101.89009857177734, 101.9020004272461, 101.91470336914062, 101.9281005859375, 101.94229888916016, 101.9572982788086, 101.9729995727539, 101.9894027709961, 102.00659942626953, 102.02459716796875, 102.04319763183594, 102.0625991821289, 102.08280181884766, 102.10359954833984, 102.12519836425781, 102.14739990234375, 102.17040252685547, 102.19400024414062, 102.21829986572266, 102.24330139160156, 102.26899719238281, 102.29530334472656, 102.32230377197266, 102.3499984741211, 102.3781967163086, 102.4072036743164, 102.43669891357422, 102.46690368652344, 102.4977035522461, 102.52909851074219, 102.56099700927734, 102.59359741210938, 102.62680053710938, 102.6604995727539, 102.6948013305664, 102.72959899902344, 102.76499938964844, 102.8010025024414, 102.83740234375, 102.87439727783203, 102.91190338134766, 102.94989776611328, 102.9885025024414, 103.02749633789062, 103.06690216064453, 103.10690307617188, 103.14730072021484, 103.18820190429688, 103.22949981689453, 103.27130126953125, 103.31340026855469, 103.35600280761719, 103.39900207519531, 103.44239807128906, 103.48619842529297, 103.53040313720703, 103.57499694824219, 103.61990356445312, 103.66519927978516, 103.71080017089844, 103.75669860839844, 103.8030014038086, 103.84960174560547, 103.89640045166016, 103.943603515625, 103.99109649658203, 104.03880310058594, 104.08679962158203, 104.13510131835938, 104.18360137939453, 104.2322998046875, 104.28119659423828, 104.33049774169922, 104.37930297851562, 104.43090057373047, 104.47350311279297, 104.48139953613281, 104.49849700927734, 104.51090240478516, 104.52290344238281, 104.53309631347656, 104.54190063476562, 104.54900360107422, 104.55439758300781, 104.55799865722656, 104.55979919433594], [101.79859924316406, 101.79940032958984, 101.8010025024414, 101.80339813232422, 101.80660247802734, 101.81069946289062, 101.81549835205078, 101.82109832763672, 101.82749938964844, 101.83480072021484, 101.8427963256836, 101.85160064697266, 101.86109924316406, 101.87149810791016, 101.88269805908203, 101.89459991455078, 101.90730285644531, 101.9207992553711, 101.93499755859375, 101.94999694824219, 101.9657974243164, 101.9822998046875, 101.99949645996094, 102.01750183105469, 102.03620147705078, 102.05570220947266, 102.07579803466797, 102.0968017578125, 102.11840057373047, 102.14070129394531, 102.1636962890625, 102.1874008178711, 102.21179962158203, 102.23680114746094, 102.26260375976562, 102.28900146484375, 102.31600189208984, 102.34380340576172, 102.37210083007812, 102.4011001586914, 102.43070220947266, 102.46099853515625, 102.4917984008789, 102.52330017089844, 102.5553970336914, 102.58799743652344, 102.62120056152344, 102.65499877929688, 102.68939971923828, 102.72429656982422, 102.75980377197266, 102.7957992553711, 102.8323974609375, 102.86940002441406, 102.90699768066406, 102.94509887695312, 102.98370361328125, 103.02279663085938, 103.0624008178711, 103.10240173339844, 103.14289855957031, 103.18389892578125, 103.22530364990234, 103.26709747314453, 103.30940246582031, 103.35209655761719, 103.39520263671875, 103.4386978149414, 103.48259735107422, 103.52680206298828, 103.57150268554688, 103.61650085449219, 103.66179656982422, 103.70760345458984, 103.75360107421875, 103.80000305175781, 103.84660339355469, 103.89360046386719, 103.94090270996094, 103.9885025024414, 104.03630065917969, 104.08439636230469, 104.13279724121094, 104.1812973022461, 104.23030090332031, 104.27880096435547, 104.33000183105469, 104.3727035522461, 104.38289642333984, 104.40170288085938, 104.41609954833984, 104.4302978515625, 104.44270324707031, 104.45390319824219, 104.4636001586914, 104.4718017578125, 104.47840118408203, 104.4833984375, 104.48680114746094, 104.4885025024414], [101.78959655761719, 101.79039764404297, 101.79199981689453, 101.79440307617188, 101.79759979248047, 101.80169677734375, 101.80650329589844, 101.81220245361328, 101.818603515625, 101.82579803466797, 101.83390045166016, 101.84269714355469, 101.85230255126953, 101.86280059814453, 101.8739013671875, 101.88590240478516, 101.89869689941406, 101.91220092773438, 101.92649841308594, 101.94149780273438, 101.9572982788086, 101.9738998413086, 101.99120330810547, 102.00920104980469, 102.02799987792969, 102.04750061035156, 102.06780242919922, 102.08879852294922, 102.11039733886719, 102.13279724121094, 102.15589904785156, 102.17970275878906, 102.2041015625, 102.22930145263672, 102.25509643554688, 102.28160095214844, 102.30870056152344, 102.33650207519531, 102.36499786376953, 102.39399719238281, 102.42369842529297, 102.4541015625, 102.48500061035156, 102.5166015625, 102.54869842529297, 102.5813980102539, 102.61479949951172, 102.64869689941406, 102.68309783935547, 102.71810150146484, 102.75370025634766, 102.78980255126953, 102.82649993896484, 102.86360168457031, 102.90129852294922, 102.93949890136719, 102.97820281982422, 103.01740264892578, 103.05699920654297, 103.09719848632812, 103.13780212402344, 103.17890167236328, 103.22039794921875, 103.26229858398438, 103.30470275878906, 103.34750366210938, 103.39070129394531, 103.4343032836914, 103.47830200195312, 103.52259826660156, 103.56739807128906, 103.61250305175781, 103.65799713134766, 103.70379638671875, 103.7499008178711, 103.79640197753906, 103.84320068359375, 103.89029693603516, 103.93769836425781, 103.98539733886719, 104.03340148925781, 104.08149719238281, 104.13020324707031, 104.17829895019531, 104.22920227050781, 104.27189636230469, 104.2842025756836, 104.30460357666016, 104.3208999633789, 104.33689880371094, 104.35140228271484, 104.36470031738281, 104.37670135498047, 104.38729858398438, 104.39649963378906, 104.4041976928711, 104.4104995727539, 104.41519927978516, 104.41840362548828, 104.41999816894531], [101.7791976928711, 101.77999877929688, 101.78170013427734, 101.78410339355469, 101.78730010986328, 101.79139709472656, 101.79630279541016, 101.8019027709961, 101.80840301513672, 101.8156967163086, 101.82369995117188, 101.83260345458984, 101.84230041503906, 101.85269927978516, 101.86399841308594, 101.8759994506836, 101.88880157470703, 101.90229797363281, 101.91670227050781, 101.93180084228516, 101.94770050048828, 101.96430206298828, 101.98169708251953, 101.99980163574219, 102.01860046386719, 102.03820037841797, 102.05860137939453, 102.07959747314453, 102.10140228271484, 102.1238021850586, 102.14700317382812, 102.1707992553711, 102.19539642333984, 102.22059631347656, 102.24649810791016, 102.27310180664062, 102.30030059814453, 102.32820129394531, 102.35679626464844, 102.38590240478516, 102.41580200195312, 102.44619750976562, 102.47720336914062, 102.50890350341797, 102.54109954833984, 102.5739974975586, 102.6073989868164, 102.64140319824219, 102.6759033203125, 102.71109771728516, 102.74669647216797, 102.78299713134766, 102.8197021484375, 102.85700225830078, 102.8947982788086, 102.93309783935547, 102.9719009399414, 103.01119995117188, 103.0510025024414, 103.09120178222656, 103.13189697265625, 103.17310333251953, 103.2146987915039, 103.25679779052734, 103.29930114746094, 103.34220123291016, 103.385498046875, 103.42919921875, 103.47339630126953, 103.5177993774414, 103.56269836425781, 103.60800170898438, 103.65360260009766, 103.69950103759766, 103.74579620361328, 103.79239654541016, 103.83930206298828, 103.8864974975586, 103.93409729003906, 103.98179626464844, 104.03009796142578, 104.0779037475586, 104.12830352783203, 104.17109680175781, 104.185302734375, 104.20719909667969, 104.2251968383789, 104.24299621582031, 104.2593002319336, 104.27459716796875, 104.2885971069336, 104.30130004882812, 104.31279754638672, 104.3228988647461, 104.33170318603516, 104.33899688720703, 104.34500122070312, 104.34950256347656, 104.35250091552734, 104.35399627685547], [101.7676010131836, 101.76840209960938, 101.7699966430664, 101.77249908447266, 101.77570343017578, 101.77980041503906, 101.78469848632812, 101.79039764404297, 101.7968978881836, 101.80419921875, 101.81230163574219, 101.82119750976562, 101.83090209960938, 101.84140014648438, 101.85269927978516, 101.86479949951172, 101.87760162353516, 101.89129638671875, 101.90570068359375, 101.9208984375, 101.93679809570312, 101.95349884033203, 101.97100067138672, 101.98909759521484, 102.00810241699219, 102.02780151367188, 102.04820251464844, 102.06929779052734, 102.09110260009766, 102.11370086669922, 102.13700103759766, 102.16089630126953, 102.18560028076172, 102.21089935302734, 102.23690032958984, 102.26360321044922, 102.29090118408203, 102.31890106201172, 102.34760284423828, 102.37680053710938, 102.40670013427734, 102.43730163574219, 102.46839904785156, 102.50019836425781, 102.53260040283203, 102.56549835205078, 102.5989990234375, 102.6332015991211, 102.66790008544922, 102.7031021118164, 102.73889923095703, 102.77519989013672, 102.81210327148438, 102.84950256347656, 102.88739776611328, 102.9259033203125, 102.96479797363281, 103.00420379638672, 103.04409790039062, 103.08450317382812, 103.12529754638672, 103.1666030883789, 103.2083969116211, 103.25060272216797, 103.29319763183594, 103.3363037109375, 103.37969970703125, 103.42359924316406, 103.4677963256836, 103.51249694824219, 103.55750274658203, 103.60279846191406, 103.64859771728516, 103.6947021484375, 103.74109649658203, 103.78780364990234, 103.83489990234375, 103.8822021484375, 103.93000030517578, 103.97750091552734, 104.02739715576172, 104.07029724121094, 104.0864028930664, 104.1095962524414, 104.12930297851562, 104.14859771728516, 104.16670227050781, 104.18370056152344, 104.19960021972656, 104.21430206298828, 104.22769927978516, 104.23999786376953, 104.2509994506836, 104.26069641113281, 104.26909637451172, 104.27619934082031, 104.28179931640625, 104.28610229492188, 104.28900146484375, 104.29039764404297], [101.75460052490234, 101.75540161132812, 101.7571029663086, 101.7594985961914, 101.76280212402344, 101.76689910888672, 101.77179718017578, 101.77749633789062, 101.78410339355469, 101.79139709472656, 101.79959869384766, 101.80850219726562, 101.81829833984375, 101.82879638671875, 101.84020233154297, 101.85230255126953, 101.86519622802734, 101.87899780273438, 101.89340209960938, 101.90869903564453, 101.92469787597656, 101.94149780273438, 101.95899963378906, 101.97730255126953, 101.99629974365234, 102.01609802246094, 102.0365982055664, 102.05780029296875, 102.07980346679688, 102.10240173339844, 102.12580108642578, 102.14990234375, 102.17459869384766, 102.20010375976562, 102.2261962890625, 102.25299835205078, 102.28040313720703, 102.30850219726562, 102.3373031616211, 102.36669921875, 102.39669799804688, 102.42739868164062, 102.45870208740234, 102.4906005859375, 102.52310180664062, 102.55609893798828, 102.58979797363281, 102.62409973144531, 102.65889739990234, 102.69419860839844, 102.7302017211914, 102.7666015625, 102.80370330810547, 102.84120178222656, 102.87930297851562, 102.91780090332031, 102.95690155029297, 102.99639892578125, 103.0364990234375, 103.0770034790039, 103.11799621582031, 103.15950012207031, 103.20140075683594, 103.24369812011719, 103.2864990234375, 103.32959747314453, 103.37319946289062, 103.41729736328125, 103.46170043945312, 103.50650024414062, 103.55159759521484, 103.59719848632812, 103.64299774169922, 103.68930053710938, 103.73590087890625, 103.78269958496094, 103.8301010131836, 103.877197265625, 103.92649841308594, 103.96939849853516, 103.98729705810547, 104.01190185546875, 104.03299713134766, 104.05390167236328, 104.07360076904297, 104.09230041503906, 104.10980224609375, 104.12629699707031, 104.1417007446289, 104.15589904785156, 104.16889953613281, 104.18070220947266, 104.19129943847656, 104.20069885253906, 104.20880126953125, 104.21549987792969, 104.22100067138672, 104.2249984741211, 104.22779846191406, 104.22920227050781], [101.74030303955078, 101.74120330810547, 101.7427978515625, 101.74530029296875, 101.74859619140625, 101.75270080566406, 101.75759887695312, 101.76339721679688, 101.7699966430664, 101.77739715576172, 101.78559875488281, 101.79460144042969, 101.80439758300781, 101.81500244140625, 101.82640075683594, 101.8386001586914, 101.85160064697266, 101.86540222167969, 101.87989807128906, 101.89530181884766, 101.9113998413086, 101.92829895019531, 101.9458999633789, 101.96430206298828, 101.9833984375, 102.00330352783203, 102.0239028930664, 102.04519653320312, 102.06729888916016, 102.08999633789062, 102.1135025024414, 102.13770294189453, 102.16259765625, 102.18810272216797, 102.21440124511719, 102.24130249023438, 102.2688980102539, 102.2970962524414, 102.32599639892578, 102.35559844970703, 102.38569641113281, 102.41649627685547, 102.4478988647461, 102.4800033569336, 102.51260375976562, 102.5457992553711, 102.57959747314453, 102.61399841308594, 102.64900207519531, 102.68450164794922, 102.72059631347656, 102.7572021484375, 102.79440307617188, 102.83200073242188, 102.87030029296875, 102.90899658203125, 102.94819641113281, 102.98789978027344, 103.0280990600586, 103.06880187988281, 103.10990142822266, 103.15149688720703, 103.193603515625, 103.23609924316406, 103.27899932861328, 103.32240295410156, 103.36620330810547, 103.4103012084961, 103.45490264892578, 103.49980163574219, 103.54519653320312, 103.59089660644531, 103.63690185546875, 103.68329620361328, 103.7302017211914, 103.77690124511719, 103.82559967041016, 103.86859893798828, 103.88819885253906, 103.91400146484375, 103.93659973144531, 103.95890045166016, 103.9801025390625, 104.00029754638672, 104.01950073242188, 104.03759765625, 104.05470275878906, 104.0707015991211, 104.08560180664062, 104.09940338134766, 104.11199951171875, 104.12339782714844, 104.13369750976562, 104.1427001953125, 104.15049743652344, 104.15699768066406, 104.16220092773438, 104.16619873046875, 104.1688003540039, 104.17009735107422], [101.72470092773438, 101.72550201416016, 101.72720336914062, 101.72969818115234, 101.73300170898438, 101.73719787597656, 101.74210357666016, 101.7479019165039, 101.75450134277344, 101.76200103759766, 101.77020263671875, 101.779296875, 101.78919982910156, 101.79979705810547, 101.8113021850586, 101.82360076904297, 101.83670043945312, 101.85060119628906, 101.86519622802734, 101.88059997558594, 101.89679718017578, 101.91380310058594, 101.93150329589844, 101.94999694824219, 101.96929931640625, 101.98919677734375, 102.01000213623047, 102.03140258789062, 102.05359649658203, 102.07649993896484, 102.10009765625, 102.12439727783203, 102.14939880371094, 102.17510223388672, 102.20149993896484, 102.22859954833984, 102.25630187988281, 102.28469848632812, 102.3136978149414, 102.34339904785156, 102.37370300292969, 102.40460205078125, 102.43620300292969, 102.46839904785156, 102.5011978149414, 102.53450012207031, 102.56849670410156, 102.60310363769531, 102.63819885253906, 102.67389678955078, 102.71009826660156, 102.74690246582031, 102.7842025756836, 102.82209777832031, 102.86039733886719, 102.89929962158203, 102.9386978149414, 102.97859954833984, 103.01899719238281, 103.05979919433594, 103.1010971069336, 103.14289855957031, 103.18509674072266, 103.22779846191406, 103.2708969116211, 103.31439971923828, 103.3583984375, 103.40270233154297, 103.44750213623047, 103.49259948730469, 103.53820037841797, 103.58399963378906, 103.63030242919922, 103.67659759521484, 103.72470092773438, 103.7677001953125, 103.78900146484375, 103.81590270996094, 103.83989715576172, 103.86360168457031, 103.88619995117188, 103.90789794921875, 103.92859649658203, 103.94830322265625, 103.96700286865234, 103.98470306396484, 104.00140380859375, 104.01689910888672, 104.03140258789062, 104.0447998046875, 104.05699920654297, 104.06809997558594, 104.0780029296875, 104.08670043945312, 104.09429931640625, 104.10060119628906, 104.10559844970703, 104.1093978881836, 104.11190032958984, 104.11319732666016], [101.70780181884766, 101.70860290527344, 101.71029663085938, 101.71279907226562, 101.71610260009766, 101.72029876708984, 101.72530364990234, 101.7311019897461, 101.73780059814453, 101.74530029296875, 101.75360107421875, 101.76270294189453, 101.77269744873047, 101.78340148925781, 101.79499816894531, 101.80729675292969, 101.82050323486328, 101.83450317382812, 101.84919738769531, 101.86470031738281, 101.88099670410156, 101.89810180664062, 101.91600036621094, 101.93460083007812, 101.95390319824219, 101.9739990234375, 101.99490356445312, 102.0165023803711, 102.03880310058594, 102.06179809570312, 102.08560180664062, 102.11000061035156, 102.13520050048828, 102.16100311279297, 102.1875, 102.2146987915039, 102.24259948730469, 102.27110290527344, 102.30030059814453, 102.3302001953125, 102.36060333251953, 102.39179992675781, 102.42350006103516, 102.45580291748047, 102.48880004882812, 102.52230072021484, 102.55650329589844, 102.59120178222656, 102.62650299072266, 102.66230010986328, 102.69869995117188, 102.73570251464844, 102.77320098876953, 102.81120300292969, 102.84980010986328, 102.88880157470703, 102.92839813232422, 102.96849822998047, 103.00900268554688, 103.05010223388672, 103.09159851074219, 103.13349914550781, 103.1760025024414, 103.21880340576172, 103.26210021972656, 103.30580139160156, 103.3499984741211, 103.39450073242188, 103.43949890136719, 103.48480224609375, 103.53060150146484, 103.57640075683594, 103.6238021850586, 103.66690063476562, 103.689697265625, 103.7177963256836, 103.74310302734375, 103.76809692382812, 103.79209899902344, 103.81510162353516, 103.8373031616211, 103.8584976196289, 103.87870025634766, 103.89800262451172, 103.91629791259766, 103.93350219726562, 103.94969940185547, 103.96489715576172, 103.97899627685547, 103.99199676513672, 104.00389862060547, 104.01460266113281, 104.02429962158203, 104.03269958496094, 104.04000091552734, 104.04609680175781, 104.0510025024414, 104.05470275878906, 104.05709838867188, 104.05829620361328], [101.68939971923828, 101.69029998779297, 101.69200134277344, 101.69450378417969, 101.6978988647461, 101.70210266113281, 101.70709991455078, 101.71299743652344, 101.7197036743164, 101.72730255126953, 101.73560333251953, 101.74479675292969, 101.75479888916016, 101.76570129394531, 101.77729797363281, 101.78980255126953, 101.8030014038086, 101.81710052490234, 101.83190155029297, 101.84760284423828, 101.86399841308594, 101.8812026977539, 101.89920043945312, 101.91790008544922, 101.9374008178711, 101.95760345458984, 101.97859954833984, 102.00029754638672, 102.02279663085938, 102.0459976196289, 102.06990051269531, 102.09449768066406, 102.11979675292969, 102.14579772949219, 102.17250061035156, 102.19979858398438, 102.22789764404297, 102.25659942626953, 102.28589630126953, 102.31590270996094, 102.34660339355469, 102.37789916992188, 102.40979766845703, 102.44229888916016, 102.47540283203125, 102.50920104980469, 102.54350280761719, 102.57839965820312, 102.61380004882812, 102.64990234375, 102.6865005493164, 102.72360229492188, 102.76129913330078, 102.79959869384766, 102.83830261230469, 102.87760162353516, 102.91729736328125, 102.95760345458984, 102.99829864501953, 103.03959655761719, 103.081298828125, 103.12339782714844, 103.16609954833984, 103.20909881591797, 103.25260162353516, 103.29660034179688, 103.34089660644531, 103.3855972290039, 103.43090057373047, 103.4761962890625, 103.52300262451172, 103.56600189208984, 103.59040069580078, 103.61949920654297, 103.64610290527344, 103.67240142822266, 103.69760131835938, 103.72200012207031, 103.74559783935547, 103.76820373535156, 103.78990173339844, 103.81060028076172, 103.83039855957031, 103.84929656982422, 103.86710357666016, 103.88400268554688, 103.8998031616211, 103.91459655761719, 103.92829895019531, 103.94100189208984, 103.95259857177734, 103.96299743652344, 103.97239685058594, 103.98059844970703, 103.98770141601562, 103.99359893798828, 103.99829864501953, 104.00189971923828, 104.00430297851562, 104.00550079345703], [101.6697998046875, 101.67060089111328, 101.67230224609375, 101.67489624023438, 101.67829895019531, 101.68250274658203, 101.6875991821289, 101.69349670410156, 101.70030212402344, 101.70790100097656, 101.71630096435547, 101.72560119628906, 101.73570251464844, 101.74659729003906, 101.7583999633789, 101.7708969116211, 101.7843017578125, 101.79840087890625, 101.81340026855469, 101.8292007446289, 101.845703125, 101.86299896240234, 101.881103515625, 101.9000015258789, 101.91960144042969, 101.94000244140625, 101.96109771728516, 101.98300170898438, 102.00559997558594, 102.02899932861328, 102.0530014038086, 102.07779693603516, 102.10330200195312, 102.12940216064453, 102.15630340576172, 102.18379974365234, 102.21199798583984, 102.24089813232422, 102.27050018310547, 102.30069732666016, 102.33149719238281, 102.36299896240234, 102.39510345458984, 102.42780303955078, 102.46109771728516, 102.49500274658203, 102.52950286865234, 102.5645980834961, 102.60030364990234, 102.6365966796875, 102.67340087890625, 102.71070098876953, 102.74859619140625, 102.78700256347656, 102.82599639892578, 102.8655014038086, 102.90540313720703, 102.9458999633789, 102.98690032958984, 103.0282974243164, 103.07019805908203, 103.11260223388672, 103.15540313720703, 103.19869995117188, 103.24250030517578, 103.2865982055664, 103.3311996459961, 103.3759994506836, 103.4220962524414, 103.46520233154297, 103.49089813232422, 103.52120208740234, 103.54900360107422, 103.57649993896484, 103.60289764404297, 103.62860107421875, 103.65350341796875, 103.67739868164062, 103.70050048828125, 103.72270202636719, 103.74400329589844, 103.76429748535156, 103.78369903564453, 103.8021011352539, 103.8196029663086, 103.83609771728516, 103.85150146484375, 103.86599731445312, 103.87940216064453, 103.8917007446289, 103.90299987792969, 103.91320037841797, 103.92230224609375, 103.9302978515625, 103.93720245361328, 103.94300079345703, 103.94760131835938, 103.95099639892578, 103.95339965820312, 103.95449829101562], [101.64869689941406, 101.64959716796875, 101.65129852294922, 101.65390014648438, 101.65730285644531, 101.6615982055664, 101.66670227050781, 101.67269897460938, 101.67949676513672, 101.68720245361328, 101.6957015991211, 101.7051010131836, 101.71520233154297, 101.7261962890625, 101.73809814453125, 101.75080108642578, 101.76419830322266, 101.77850341796875, 101.7936019897461, 101.80950164794922, 101.82610321044922, 101.84359741210938, 101.86180114746094, 101.88089752197266, 101.90059661865234, 101.92120361328125, 101.94249725341797, 101.9645004272461, 101.98729705810547, 102.01080322265625, 102.03500366210938, 102.05999755859375, 102.08560180664062, 102.11199951171875, 102.13899993896484, 102.16680145263672, 102.19519805908203, 102.22419738769531, 102.25399780273438, 102.2844009399414, 102.31539916992188, 102.34709930419922, 102.37940216064453, 102.41230010986328, 102.44580078125, 102.47989654541016, 102.51470184326172, 102.55000305175781, 102.58589935302734, 102.62229919433594, 102.6593017578125, 102.6968994140625, 102.73500061035156, 102.77369689941406, 102.81279754638672, 102.85250091552734, 102.8927001953125, 102.93340301513672, 102.97460174560547, 103.01629638671875, 103.05840301513672, 103.10099792480469, 103.14409637451172, 103.1875991821289, 103.23159790039062, 103.2759017944336, 103.32119750976562, 103.36430358886719, 103.3915023803711, 103.42269897460938, 103.45169830322266, 103.48030090332031, 103.50800323486328, 103.53500366210938, 103.56109619140625, 103.5863037109375, 103.61070251464844, 103.6343002319336, 103.65689849853516, 103.67870330810547, 103.69960021972656, 103.71949768066406, 103.7385025024414, 103.75659942626953, 103.77369689941406, 103.78980255126953, 103.80490112304688, 103.81900024414062, 103.83209991455078, 103.84420013427734, 103.8552017211914, 103.86519622802734, 103.87409973144531, 103.88189697265625, 103.88860321044922, 103.89420318603516, 103.89869689941406, 103.9020004272461, 103.904296875, 103.90540313720703], [101.62629699707031, 101.627197265625, 101.62889862060547, 101.63150024414062, 101.63500213623047, 101.63929748535156, 101.64450073242188, 101.65049743652344, 101.65740203857422, 101.66510009765625, 101.67369842529297, 101.68319702148438, 101.69339752197266, 101.70459747314453, 101.71649932861328, 101.72930145263672, 101.7428970336914, 101.7573013305664, 101.77249908447266, 101.78849792480469, 101.8052978515625, 101.8228988647461, 101.84130096435547, 101.8604965209961, 101.88040161132812, 101.9011001586914, 101.92259979248047, 101.9448013305664, 101.9677963256836, 101.99150085449219, 102.01589965820312, 102.04100036621094, 102.06690216064453, 102.09339904785156, 102.12069702148438, 102.14859771728516, 102.17720031738281, 102.20649719238281, 102.23639678955078, 102.26699829101562, 102.29830169677734, 102.3302001953125, 102.36270141601562, 102.39579772949219, 102.42960357666016, 102.46389770507812, 102.4989013671875, 102.5344009399414, 102.57050323486328, 102.6072006225586, 102.64440155029297, 102.68219757080078, 102.72059631347656, 102.7593994140625, 102.79889678955078, 102.83879852294922, 102.87920379638672, 102.92019653320312, 102.96160125732422, 103.00350189208984, 103.0458984375, 103.08869934082031, 103.1321029663086, 103.17579650878906, 103.22029876708984, 103.26339721679688, 103.29199981689453, 103.32420349121094, 103.35430145263672, 103.38410186767578, 103.41290283203125, 103.44100189208984, 103.46839904785156, 103.49479675292969, 103.52050018310547, 103.54540252685547, 103.56939697265625, 103.59249877929688, 103.61479949951172, 103.63619995117188, 103.65660095214844, 103.67620086669922, 103.69490051269531, 103.71260070800781, 103.72930145263672, 103.74510192871094, 103.75990295410156, 103.7738037109375, 103.7865982055664, 103.79840087890625, 103.80909729003906, 103.81890106201172, 103.82749938964844, 103.83519744873047, 103.8416976928711, 103.84719848632812, 103.85160064697266, 103.85489654541016, 103.85710144042969, 103.85820007324219], [101.60250091552734, 101.60340118408203, 101.6051025390625, 101.60769653320312, 101.61119842529297, 101.6156005859375, 101.62079620361328, 101.62689971923828, 101.63390350341797, 101.6417007446289, 101.65039825439453, 101.65989685058594, 101.67030334472656, 101.68150329589844, 101.693603515625, 101.70649719238281, 101.72019958496094, 101.73470306396484, 101.7500991821289, 101.76619720458984, 101.783203125, 101.8010025024414, 101.8196029663086, 101.83889770507812, 101.85900115966797, 101.87989807128906, 101.90149688720703, 101.92389678955078, 101.94709777832031, 101.97100067138672, 101.99559783935547, 102.0208969116211, 102.0469970703125, 102.07369995117188, 102.1011962890625, 102.12930297851562, 102.158203125, 102.18769836425781, 102.2177963256836, 102.24859619140625, 102.28009796142578, 102.31220245361328, 102.34500122070312, 102.37830352783203, 102.41230010986328, 102.4468994140625, 102.48210144042969, 102.51789855957031, 102.55419921875, 102.59110260009766, 102.62860107421875, 102.66670227050781, 102.7052993774414, 102.74440002441406, 102.78399658203125, 102.82420349121094, 102.86489868164062, 102.90609741210938, 102.94779968261719, 102.98999786376953, 103.03260040283203, 103.07569885253906, 103.11940002441406, 103.16259765625, 103.19239807128906, 103.22560119628906, 103.25679779052734, 103.2876968383789, 103.31759643554688, 103.3469009399414, 103.37539672851562, 103.4030990600586, 103.43000030517578, 103.45610046386719, 103.4813003540039, 103.50579833984375, 103.52940368652344, 103.55220031738281, 103.5739974975586, 103.59510040283203, 103.61519622802734, 103.6343994140625, 103.65270233154297, 103.67009735107422, 103.6865005493164, 103.7020034790039, 103.71649932861328, 103.7301025390625, 103.74259948730469, 103.75420379638672, 103.76470184326172, 103.77429962158203, 103.78269958496094, 103.79019927978516, 103.79660034179688, 103.8019027709961, 103.80619812011719, 103.80940246582031, 103.81159973144531, 103.81269836425781], [101.57730102539062, 101.5781021118164, 101.57990264892578, 101.58260345458984, 101.58609771728516, 101.59049987792969, 101.5958023071289, 101.60199737548828, 101.60900115966797, 101.61689758300781, 101.62570190429688, 101.63529968261719, 101.64579772949219, 101.65709686279297, 101.66929626464844, 101.68229675292969, 101.69619750976562, 101.71089935302734, 101.72640228271484, 101.7426986694336, 101.75980377197266, 101.77780151367188, 101.79650115966797, 101.81600189208984, 101.8363037109375, 101.8573989868164, 101.87920379638672, 101.90180206298828, 101.92520141601562, 101.94930267333984, 101.9740982055664, 101.99970245361328, 102.0259017944336, 102.05290222167969, 102.08059692382812, 102.10900115966797, 102.13800048828125, 102.16780090332031, 102.19819641113281, 102.22920227050781, 102.26090240478516, 102.29329681396484, 102.32630157470703, 102.35990142822266, 102.39409637451172, 102.42890167236328, 102.46440124511719, 102.50039672851562, 102.53700256347656, 102.57420349121094, 102.61190032958984, 102.65019989013672, 102.68910217285156, 102.72850036621094, 102.76840209960938, 102.80879974365234, 102.84980010986328, 102.89119720458984, 102.93319702148438, 102.97570037841797, 103.01850128173828, 103.06169891357422, 103.0927963256836, 103.12699890136719, 103.1592025756836, 103.19110107421875, 103.22209930419922, 103.25250244140625, 103.28209686279297, 103.31099700927734, 103.33899688720703, 103.36640167236328, 103.39289855957031, 103.4186019897461, 103.44349670410156, 103.46759796142578, 103.49079895019531, 103.51319885253906, 103.53469848632812, 103.5553970336914, 103.57520294189453, 103.59410095214844, 103.61209869384766, 103.62920379638672, 103.64530181884766, 103.6604995727539, 103.67469787597656, 103.68800354003906, 103.70030212402344, 103.71160125732422, 103.72200012207031, 103.7313003540039, 103.7396011352539, 103.74690246582031, 103.7531967163086, 103.7583999633789, 103.76260375976562, 103.76580047607422, 103.7677993774414, 103.7688980102539], [101.55059814453125, 101.55149841308594, 101.55329895019531, 101.55599975585938, 101.55950164794922, 101.56400299072266, 101.56929779052734, 101.57559967041016, 101.58270263671875, 101.5906982421875, 101.59960174560547, 101.60929870605469, 101.61990356445312, 101.63140106201172, 101.6436996459961, 101.65679931640625, 101.6707992553711, 101.68569946289062, 101.70140075683594, 101.7177963256836, 101.73519897460938, 101.75330352783203, 101.77220153808594, 101.79190063476562, 101.8124008178711, 101.83370208740234, 101.85569763183594, 101.87860107421875, 101.902099609375, 101.92639923095703, 101.95149993896484, 101.97730255126953, 102.00379943847656, 102.03099822998047, 102.05889892578125, 102.0875015258789, 102.1167984008789, 102.14679718017578, 102.17739868164062, 102.20870208740234, 102.2406997680664, 102.27330017089844, 102.30660247802734, 102.34040069580078, 102.3749008178711, 102.41000366210938, 102.4457015991211, 102.48200225830078, 102.5188980102539, 102.5562973022461, 102.59429931640625, 102.63289642333984, 102.6719970703125, 102.71170043945312, 102.75189971923828, 102.7926025390625, 102.83380126953125, 102.87570190429688, 102.9176025390625, 102.96080017089844, 102.99320220947266, 103.0281982421875, 103.0615005493164, 103.09439849853516, 103.12650299072266, 103.15789794921875, 103.1885986328125, 103.21859741210938, 103.247802734375, 103.27629852294922, 103.30400085449219, 103.33090209960938, 103.35710144042969, 103.38240051269531, 103.40699768066406, 103.43070220947266, 103.45359802246094, 103.47560119628906, 103.4968032836914, 103.51719665527344, 103.5365982055664, 103.5551986694336, 103.5728988647461, 103.5896987915039, 103.60559844970703, 103.62049865722656, 103.6344985961914, 103.64749908447266, 103.65959930419922, 103.67070007324219, 103.68080139160156, 103.69000244140625, 103.6980972290039, 103.7052993774414, 103.7114028930664, 103.71659851074219, 103.720703125, 103.72380065917969, 103.72579956054688, 103.72679901123047], [101.52249908447266, 101.52339935302734, 101.52519989013672, 101.52790069580078, 101.53150177001953, 101.53610229492188, 101.54149627685547, 101.54779815673828, 101.55500030517578, 101.56310272216797, 101.5719985961914, 101.58190155029297, 101.59259796142578, 101.60420227050781, 101.61669921875, 101.62999725341797, 101.64420318603516, 101.6592025756836, 101.67500305175781, 101.69170379638672, 101.70919799804688, 101.72750091552734, 101.74659729003906, 101.7665023803711, 101.78720092773438, 101.80870056152344, 101.83100128173828, 101.85399627685547, 101.87779998779297, 101.90239715576172, 101.92769622802734, 101.95369720458984, 101.98040008544922, 102.00789642333984, 102.03600311279297, 102.06490325927734, 102.09449768066406, 102.12470245361328, 102.15560150146484, 102.18720245361328, 102.21939849853516, 102.2522964477539, 102.28579711914062, 102.31999969482422, 102.35469818115234, 102.39009857177734, 102.42610168457031, 102.46269989013672, 102.49980163574219, 102.5374984741211, 102.57579803466797, 102.61470031738281, 102.65409851074219, 102.69409942626953, 102.7344970703125, 102.77570343017578, 102.81670379638672, 102.85990142822266, 102.89350128173828, 102.92939758300781, 102.96369934082031, 102.99759674072266, 103.03070068359375, 103.06310272216797, 103.09490203857422, 103.12590026855469, 103.15630340576172, 103.18579864501953, 103.2146987915039, 103.2427978515625, 103.27020263671875, 103.29669952392578, 103.32250213623047, 103.34750366210938, 103.3718032836914, 103.39510345458984, 103.4177017211914, 103.43939971923828, 103.46029663085938, 103.48040008544922, 103.49949645996094, 103.5177993774414, 103.53520202636719, 103.55169677734375, 103.56729888916016, 103.58200073242188, 103.5958023071289, 103.60859680175781, 103.62039947509766, 103.63140106201172, 103.64129638671875, 103.65029907226562, 103.6583023071289, 103.66529846191406, 103.67130279541016, 103.67639923095703, 103.6803970336914, 103.68340301513672, 103.6854019165039, 103.6864013671875], [101.4928970336914, 101.4937973022461, 101.49569702148438, 101.49839782714844, 101.5020980834961, 101.50669860839844, 101.51219940185547, 101.51860046386719, 101.52580261230469, 101.53399658203125, 101.54309844970703, 101.5531005859375, 101.56400299072266, 101.57569885253906, 101.58830261230469, 101.60179901123047, 101.61609649658203, 101.63130187988281, 101.64730072021484, 101.66419982910156, 101.68190002441406, 101.70040130615234, 101.7197036743164, 101.73989868164062, 101.76080322265625, 101.78250122070312, 101.80500030517578, 101.82830047607422, 101.85230255126953, 101.8770980834961, 101.90270233154297, 101.92890167236328, 101.95590209960938, 101.98370361328125, 102.01210021972656, 102.04119873046875, 102.07109832763672, 102.10160064697266, 102.13279724121094, 102.16459655761719, 102.19709777832031, 102.23030090332031, 102.26409912109375, 102.29850006103516, 102.33360290527344, 102.36920166015625, 102.40550231933594, 102.44239807128906, 102.47979736328125, 102.5177993774414, 102.556396484375, 102.59559631347656, 102.63520050048828, 102.67579650878906, 102.7157974243164, 102.75900268554688, 102.7938003540039, 102.83049774169922, 102.8656997680664, 102.90059661865234, 102.93470001220703, 102.96820068359375, 103.00090026855469, 103.03299713134766, 103.06439971923828, 103.09510040283203, 103.1250991821289, 103.154296875, 103.18280029296875, 103.21060180664062, 103.23760223388672, 103.26380157470703, 103.28929901123047, 103.31400299072266, 103.33779907226562, 103.36090087890625, 103.3832015991211, 103.40460205078125, 103.42520141601562, 103.44490051269531, 103.46379852294922, 103.48179626464844, 103.4990005493164, 103.51519775390625, 103.53060150146484, 103.54499816894531, 103.55850219726562, 103.57109832763672, 103.58280181884766, 103.59349822998047, 103.60330200195312, 103.61209869384766, 103.62000274658203, 103.62689971923828, 103.63279724121094, 103.63780212402344, 103.6417007446289, 103.64469909667969, 103.64669799804688, 103.64759826660156], [101.46189880371094, 101.46279907226562, 101.4646987915039, 101.46749877929688, 101.47119903564453, 101.47579956054688, 101.48139953613281, 101.48789978027344, 101.49520111083984, 101.50360107421875, 101.51280212402344, 101.52290344238281, 101.53389739990234, 101.5457992553711, 101.55850219726562, 101.57219696044922, 101.58670043945312, 101.60199737548828, 101.61830139160156, 101.63529968261719, 101.6531982421875, 101.6719970703125, 101.69149780273438, 101.71189880371094, 101.73310089111328, 101.75499725341797, 101.77780151367188, 101.80130004882812, 101.82559967041016, 101.85070037841797, 101.87650299072266, 101.90299987792969, 101.9302978515625, 101.95829772949219, 101.98699951171875, 102.01640319824219, 102.04650115966797, 102.07730102539062, 102.10880279541016, 102.14099884033203, 102.17379760742188, 102.20719909667969, 102.24130249023438, 102.2761001586914, 102.3114013671875, 102.34739685058594, 102.38400268554688, 102.42109680175781, 102.45890045166016, 102.49729919433594, 102.53610229492188, 102.57589721679688, 102.61499786376953, 102.658203125, 102.69400024414062, 102.73159790039062, 102.7677001953125, 102.80349731445312, 102.8386001586914, 102.87300109863281, 102.90679931640625, 102.93990325927734, 102.97229766845703, 103.00399780273438, 103.03510284423828, 103.06539916992188, 103.09510040283203, 103.1240005493164, 103.152099609375, 103.17960357666016, 103.206298828125, 103.2322006225586, 103.2573013305664, 103.28170013427734, 103.3052978515625, 103.3280029296875, 103.3499984741211, 103.37110137939453, 103.39140319824219, 103.41089630126953, 103.42949676513672, 103.44730377197266, 103.46420288085938, 103.4802017211914, 103.49530029296875, 103.5094985961914, 103.52279663085938, 103.53520202636719, 103.54669952392578, 103.55729675292969, 103.56690216064453, 103.57559967041016, 103.58329772949219, 103.59010314941406, 103.59590148925781, 103.60070037841797, 103.60459899902344, 103.60759735107422, 103.6094970703125, 103.6104965209961], [101.4292984008789, 101.4302978515625, 101.43219757080078, 101.43499755859375, 101.43879699707031, 101.44349670410156, 101.4490966796875, 101.45570373535156, 101.46320343017578, 101.47160339355469, 101.48090362548828, 101.49120330810547, 101.5022964477539, 101.51439666748047, 101.52729797363281, 101.54119873046875, 101.55590057373047, 101.57140350341797, 101.58789825439453, 101.6052017211914, 101.62329864501953, 101.64230346679688, 101.66200256347656, 101.68270111083984, 101.7041015625, 101.72630310058594, 101.74929809570312, 101.77310180664062, 101.79769897460938, 101.822998046875, 101.8490982055664, 101.87590026855469, 101.90350341796875, 101.93180084228516, 101.96080017089844, 101.9905014038086, 102.0208969116211, 102.052001953125, 102.08380126953125, 102.11620330810547, 102.14939880371094, 102.18309783935547, 102.21749877929688, 102.25260162353516, 102.28829956054688, 102.32460021972656, 102.36139678955078, 102.39900207519531, 102.43689727783203, 102.47599792480469, 102.51409912109375, 102.55729675292969, 102.59429931640625, 102.63259887695312, 102.66960144042969, 102.706298828125, 102.74230194091797, 102.77760314941406, 102.8124008178711, 102.84649658203125, 102.87989807128906, 102.9126968383789, 102.9448013305664, 102.9761962890625, 103.00689697265625, 103.03690338134766, 103.06620025634766, 103.09480285644531, 103.1227035522461, 103.1498031616211, 103.17620086669922, 103.20179748535156, 103.22660064697266, 103.25070190429688, 103.27400207519531, 103.29640197753906, 103.31809997558594, 103.33899688720703, 103.35900115966797, 103.3781967163086, 103.39659881591797, 103.41410064697266, 103.43080139160156, 103.44650268554688, 103.4614028930664, 103.47550201416016, 103.48860168457031, 103.50080108642578, 103.51210021972656, 103.52249908447266, 103.53199768066406, 103.54049682617188, 103.54810333251953, 103.55480194091797, 103.56050109863281, 103.56529998779297, 103.56909942626953, 103.5719985961914, 103.57389831542969, 103.57489776611328], [101.39530181884766, 101.39620208740234, 101.39820098876953, 101.4010009765625, 101.40489959716797, 101.40959930419922, 101.41539764404297, 101.4219970703125, 101.42960357666016, 101.43820190429688, 101.44770050048828, 101.45809936523438, 101.46939849853516, 101.48159790039062, 101.49469757080078, 101.50869750976562, 101.52359771728516, 101.53939819335938, 101.55609893798828, 101.57360076904297, 101.59200286865234, 101.61119842529297, 101.6312026977539, 101.652099609375, 101.67379760742188, 101.69629669189453, 101.71959686279297, 101.74359893798828, 101.76850128173828, 101.79409790039062, 101.82050323486328, 101.84760284423828, 101.87550354003906, 101.90409851074219, 101.93340301513672, 101.9634017944336, 101.99420166015625, 102.02559661865234, 102.05770111083984, 102.09049987792969, 102.1239013671875, 102.15799713134766, 102.19270324707031, 102.22810363769531, 102.26409912109375, 102.30079650878906, 102.33779907226562, 102.3761978149414, 102.41320037841797, 102.4563980102539, 102.49440002441406, 102.53350067138672, 102.57140350341797, 102.60900115966797, 102.64579772949219, 102.68209838867188, 102.7177963256836, 102.75279998779297, 102.78720092773438, 102.82099914550781, 102.8541030883789, 102.8865966796875, 102.91829681396484, 102.94940185546875, 102.97979736328125, 103.0094985961914, 103.03849792480469, 103.06680297851562, 103.09439849853516, 103.12120056152344, 103.14730072021484, 103.17259979248047, 103.19719696044922, 103.22100067138672, 103.24400329589844, 103.26619720458984, 103.28759765625, 103.30819702148438, 103.3280029296875, 103.3469009399414, 103.36499786376953, 103.3823013305664, 103.3988037109375, 103.41429901123047, 103.42900085449219, 103.44280242919922, 103.45580291748047, 103.4677963256836, 103.47899627685547, 103.48919677734375, 103.49859619140625, 103.50700378417969, 103.5145034790039, 103.52100372314453, 103.52670288085938, 103.53140258789062, 103.53520202636719, 103.53800201416016, 103.53990173339844, 103.54080200195312], [101.35970306396484, 101.36060333251953, 101.36260223388672, 101.3655014038086, 101.36940002441406, 101.37419891357422, 101.38009643554688, 101.38680267333984, 101.39459991455078, 101.4032974243164, 101.41290283203125, 101.42340087890625, 101.43489837646484, 101.44730377197266, 101.46070098876953, 101.47489929199219, 101.48999786376953, 101.50599670410156, 101.52290344238281, 101.54070281982422, 101.5593032836914, 101.57879638671875, 101.5990982055664, 101.62020111083984, 101.64219665527344, 101.66500091552734, 101.6885986328125, 101.71289825439453, 101.73809814453125, 101.76399993896484, 101.79070281982422, 101.81809997558594, 101.84629821777344, 101.87519836425781, 101.90489959716797, 101.9352035522461, 101.96630096435547, 101.99810028076172, 102.03050231933594, 102.0635986328125, 102.09739685058594, 102.13179779052734, 102.16690063476562, 102.20269775390625, 102.23880004882812, 102.27639770507812, 102.31230163574219, 102.35549926757812, 102.39459991455078, 102.43440246582031, 102.47319793701172, 102.5114974975586, 102.54930114746094, 102.5864028930664, 102.62300109863281, 102.65899658203125, 102.69429779052734, 102.72899627685547, 102.76309967041016, 102.79660034179688, 102.82939910888672, 102.86150360107422, 102.89299774169922, 102.92379760742188, 102.95390319824219, 102.9832992553711, 103.01200103759766, 103.04000091552734, 103.06729888916016, 103.09380340576172, 103.11959838867188, 103.14469909667969, 103.16889953613281, 103.19249725341797, 103.21520233154297, 103.23719787597656, 103.25830078125, 103.27870178222656, 103.29820251464844, 103.31700134277344, 103.33489990234375, 103.35189819335938, 103.36820220947266, 103.38349914550781, 103.39800262451172, 103.41169738769531, 103.42440032958984, 103.4363021850586, 103.44730377197266, 103.4573974609375, 103.46659851074219, 103.47489929199219, 103.4822998046875, 103.48880004882812, 103.49430084228516, 103.4990005493164, 103.50270080566406, 103.50550079345703, 103.50740051269531, 103.50830078125], [101.32250213623047, 101.32350158691406, 101.32550048828125, 101.32839965820312, 101.3323974609375, 101.3373031616211, 101.34320068359375, 101.35009765625, 101.35800170898438, 101.3667984008789, 101.37660217285156, 101.38729858398438, 101.39900207519531, 101.4115982055664, 101.42520141601562, 101.4395980834961, 101.45500183105469, 101.47119903564453, 101.4884033203125, 101.50640106201172, 101.52529907226562, 101.54499816894531, 101.56559753417969, 101.58699798583984, 101.60929870605469, 101.63240051269531, 101.65630340576172, 101.68099975585938, 101.7063980102539, 101.73269653320312, 101.75969696044922, 101.7874984741211, 101.81600189208984, 101.84519958496094, 101.87519836425781, 101.90589904785156, 101.93730163574219, 101.96939849853516, 102.002197265625, 102.03569793701172, 102.0698013305664, 102.10459899902344, 102.13990020751953, 102.17659759521484, 102.2114028930664, 102.25460052490234, 102.2947006225586, 102.33519744873047, 102.37480163574219, 102.41400146484375, 102.45259857177734, 102.4906005859375, 102.52799987792969, 102.56490325927734, 102.6011962890625, 102.63680267333984, 102.6718978881836, 102.706298828125, 102.74009704589844, 102.77320098876953, 102.80570220947266, 102.83760070800781, 102.8687973022461, 102.89929962158203, 102.9291000366211, 102.95819854736328, 102.98660278320312, 103.01439666748047, 103.04139709472656, 103.06759643554688, 103.09320068359375, 103.1178970336914, 103.14199829101562, 103.16519927978516, 103.18769836425781, 103.20950317382812, 103.23040008544922, 103.25050354003906, 103.2697982788086, 103.28839874267578, 103.30599975585938, 103.3228988647461, 103.33889770507812, 103.3541030883789, 103.36840057373047, 103.38189697265625, 103.39450073242188, 103.40619659423828, 103.41709899902344, 103.4271011352539, 103.43620300292969, 103.44429779052734, 103.45159912109375, 103.45800018310547, 103.4635009765625, 103.46810150146484, 103.4717025756836, 103.47450256347656, 103.47630310058594, 103.47720336914062], [101.28369903564453, 101.28469848632812, 101.28669738769531, 101.28980255126953, 101.2938003540039, 101.29879760742188, 101.30480194091797, 101.31179809570312, 101.31990051269531, 101.32879638671875, 101.33879852294922, 101.34970092773438, 101.36160278320312, 101.37439727783203, 101.38819885253906, 101.40280151367188, 101.41840362548828, 101.43499755859375, 101.45240020751953, 101.470703125, 101.48979949951172, 101.50990295410156, 101.53079986572266, 101.55249786376953, 101.57510375976562, 101.59850311279297, 101.6227035522461, 101.64769744873047, 101.67350006103516, 101.70010375976562, 101.72750091552734, 101.75559997558594, 101.78450012207031, 101.81410217285156, 101.84439849853516, 101.87539672851562, 101.9072036743164, 101.939697265625, 101.9728012084961, 102.00669860839844, 102.04100036621094, 102.07689666748047, 102.1104965209961, 102.15370178222656, 102.1947021484375, 102.23590087890625, 102.27629852294922, 102.31629943847656, 102.35569763183594, 102.39459991455078, 102.43289947509766, 102.47059631347656, 102.50769805908203, 102.54429626464844, 102.5802993774414, 102.6156005859375, 102.65039825439453, 102.68450164794922, 102.71800231933594, 102.75090026855469, 102.78309631347656, 102.814697265625, 102.84559631347656, 102.87580108642578, 102.90540313720703, 102.9343032836914, 102.96240234375, 102.98989868164062, 103.0166015625, 103.0426025390625, 103.06790161132812, 103.09239959716797, 103.11620330810547, 103.13929748535156, 103.1614990234375, 103.18299865722656, 103.20369720458984, 103.22360229492188, 103.2426986694336, 103.26110076904297, 103.27860260009766, 103.29519653320312, 103.31109619140625, 103.32610321044922, 103.34020233154297, 103.35350036621094, 103.36599731445312, 103.37760162353516, 103.38829803466797, 103.39810180664062, 103.40709686279297, 103.41519927978516, 103.42240142822266, 103.42870330810547, 103.43409729003906, 103.4385986328125, 103.44219970703125, 103.44499969482422, 103.4468002319336, 103.44770050048828], [101.24330139160156, 101.24430084228516, 101.24639892578125, 101.24939727783203, 101.25360107421875, 101.25869750976562, 101.26480102539062, 101.27200317382812, 101.28009796142578, 101.28929901123047, 101.29940032958984, 101.31050109863281, 101.32260131835938, 101.33570098876953, 101.34970092773438, 101.3646011352539, 101.38050079345703, 101.39730072021484, 101.41500091552734, 101.43350219726562, 101.4530029296875, 101.47339630126953, 101.49459838867188, 101.5166015625, 101.53949737548828, 101.56330108642578, 101.58779907226562, 101.61319732666016, 101.63939666748047, 101.66629791259766, 101.69400024414062, 101.72250366210938, 101.75170135498047, 101.78170013427734, 101.8124008178711, 101.84380340576172, 101.8759994506836, 101.90889739990234, 101.94219970703125, 101.97720336914062, 102.00959777832031, 102.05280303955078, 102.0947036743164, 102.1365966796875, 102.17780303955078, 102.21849822998047, 102.25869750976562, 102.29840087890625, 102.3375015258789, 102.3759994506836, 102.41410064697266, 102.45149993896484, 102.4884033203125, 102.52469635009766, 102.5604019165039, 102.59549713134766, 102.62989807128906, 102.66380310058594, 102.6969985961914, 102.72959899902344, 102.7615966796875, 102.79290008544922, 102.82360076904297, 102.85350036621094, 102.88279724121094, 102.9113998413086, 102.93930053710938, 102.96649932861328, 102.99299621582031, 103.018798828125, 103.04389953613281, 103.06819915771484, 103.0916976928711, 103.114501953125, 103.1365966796875, 103.15779876708984, 103.17829895019531, 103.197998046875, 103.21700286865234, 103.23509979248047, 103.25240325927734, 103.2688980102539, 103.28450012207031, 103.29940032958984, 103.31340026855469, 103.32649993896484, 103.33879852294922, 103.35030364990234, 103.36090087890625, 103.37059783935547, 103.37950134277344, 103.38749694824219, 103.39459991455078, 103.40080261230469, 103.40619659423828, 103.41059875488281, 103.41419982910156, 103.41690063476562, 103.418701171875, 103.41960144042969], [101.20120239257812, 101.20230102539062, 101.20439910888672, 101.2074966430664, 101.21170043945312, 101.21690368652344, 101.22319793701172, 101.23049926757812, 101.23880004882812, 101.24810028076172, 101.25849914550781, 101.2697982788086, 101.28209686279297, 101.29540252685547, 101.30970001220703, 101.32489776611328, 101.34100341796875, 101.35810089111328, 101.3760986328125, 101.3949966430664, 101.41480255126953, 101.4354019165039, 101.45700073242188, 101.47940063476562, 101.50270080566406, 101.52680206298828, 101.55169677734375, 101.57740020751953, 101.60389709472656, 101.6312026977539, 101.6593017578125, 101.68820190429688, 101.7177963256836, 101.74819946289062, 101.7791976928711, 101.81120300292969, 101.84339904785156, 101.87750244140625, 101.90869903564453, 101.95189666748047, 101.99469757080078, 102.03720092773438, 102.0792007446289, 102.12059783935547, 102.1615982055664, 102.2020034790039, 102.24189758300781, 102.28130340576172, 102.32019805908203, 102.3583984375, 102.39620208740234, 102.43340301513672, 102.47000122070312, 102.50599670410156, 102.54139709472656, 102.57630157470703, 102.6104965209961, 102.64409637451172, 102.6771011352539, 102.70939636230469, 102.74109649658203, 102.77220153808594, 102.80259704589844, 102.8322982788086, 102.86129760742188, 102.88970184326172, 102.91739654541016, 102.94439697265625, 102.97059631347656, 102.99620056152344, 103.02100372314453, 103.04509735107422, 103.06839752197266, 103.09100341796875, 103.11280059814453, 103.13390350341797, 103.1541976928711, 103.17369842529297, 103.19249725341797, 103.21040344238281, 103.22750091552734, 103.2437973022461, 103.2593994140625, 103.27400207519531, 103.28790283203125, 103.3009033203125, 103.31310272216797, 103.32440185546875, 103.33489990234375, 103.34449768066406, 103.35330200195312, 103.36119842529297, 103.36820220947266, 103.37439727783203, 103.37969970703125, 103.38410186767578, 103.38760375976562, 103.39029693603516, 103.39199829101562, 103.39289855957031], [101.15740203857422, 101.15850067138672, 101.16069793701172, 101.16390228271484, 101.16819763183594, 101.17350006103516, 101.17990112304688, 101.1874008178711, 101.19580078125, 101.20539855957031, 101.21589660644531, 101.22750091552734, 101.23999786376953, 101.25360107421875, 101.26809692382812, 101.28359985351562, 101.30000305175781, 101.31739807128906, 101.33570098876953, 101.3550033569336, 101.3750991821289, 101.39610290527344, 101.41799926757812, 101.44080352783203, 101.46440124511719, 101.48889923095703, 101.51419830322266, 101.54029846191406, 101.56719970703125, 101.59490203857422, 101.62339782714844, 101.65270233154297, 101.68260192871094, 101.7135009765625, 101.74469757080078, 101.77790069580078, 101.80780029296875, 101.85099792480469, 101.89469909667969, 101.93779754638672, 101.98040008544922, 102.02259826660156, 102.06430053710938, 102.10549926757812, 102.14620208740234, 102.1863021850586, 102.22599792480469, 102.26509857177734, 102.30370330810547, 102.3416976928711, 102.37920379638672, 102.41619873046875, 102.45249938964844, 102.48829650878906, 102.52339935302734, 102.55799865722656, 102.59200286865234, 102.62539672851562, 102.65809631347656, 102.69020080566406, 102.7217025756836, 102.75250244140625, 102.78269958496094, 102.81220245361328, 102.84100341796875, 102.86910247802734, 102.89659881591797, 102.92330169677734, 102.94940185546875, 102.97470092773438, 102.99929809570312, 103.02320098876953, 103.04630279541016, 103.0687026977539, 103.09040069580078, 103.11119842529297, 103.13140106201172, 103.15070343017578, 103.16919708251953, 103.18699645996094, 103.2040023803711, 103.22010040283203, 103.2354965209961, 103.25, 103.26380157470703, 103.27660369873047, 103.2886962890625, 103.29989624023438, 103.310302734375, 103.3198013305664, 103.32849884033203, 103.3363037109375, 103.34329986572266, 103.34940338134766, 103.35459899902344, 103.35900115966797, 103.36250305175781, 103.36509704589844, 103.3667984008789, 103.3676986694336], [101.11190032958984, 101.11299896240234, 101.11519622802734, 101.11849975585938, 101.1229019165039, 101.12840270996094, 101.13490295410156, 101.14250183105469, 101.15119934082031, 101.16100311279297, 101.17169952392578, 101.18350219726562, 101.19640350341797, 101.21019744873047, 101.2249984741211, 101.24079895019531, 101.25759887695312, 101.27529907226562, 101.29389953613281, 101.3134994506836, 101.33399963378906, 101.35540008544922, 101.37770080566406, 101.40080261230469, 101.42479705810547, 101.44969940185547, 101.47540283203125, 101.50189971923828, 101.5291976928711, 101.55729675292969, 101.58619689941406, 101.61599731445312, 101.64610290527344, 101.67829895019531, 101.70690155029297, 101.7500991821289, 101.79460144042969, 101.83830261230469, 101.88159942626953, 101.92449951171875, 101.96690368652344, 102.00879669189453, 102.05020141601562, 102.09120178222656, 102.13159942626953, 102.17150115966797, 102.21089935302734, 102.24980163574219, 102.28810119628906, 102.32589721679688, 102.36319732666016, 102.39990234375, 102.43599700927734, 102.47149658203125, 102.50640106201172, 102.54080200195312, 102.57450103759766, 102.60769653320312, 102.64019775390625, 102.6720962524414, 102.70330047607422, 102.73390197753906, 102.76380157470703, 102.79309844970703, 102.82170104980469, 102.84960174560547, 102.87689971923828, 102.90339660644531, 102.9292984008789, 102.95439910888672, 102.97879791259766, 103.00250244140625, 103.02539825439453, 103.04769897460938, 103.06909942626953, 103.08979797363281, 103.10980224609375, 103.12889862060547, 103.14730072021484, 103.16490173339844, 103.18170166015625, 103.19770050048828, 103.21299743652344, 103.22740173339844, 103.24099731445312, 103.25370025634766, 103.26570129394531, 103.27680206298828, 103.28700256347656, 103.29650115966797, 103.30509948730469, 103.31279754638672, 103.3197021484375, 103.32569885253906, 103.33090209960938, 103.33519744873047, 103.33869934082031, 103.34130096435547, 103.34300231933594, 103.34390258789062], [101.0645980834961, 101.06580352783203, 101.06800079345703, 101.07140350341797, 101.07589721679688, 101.08149719238281, 101.08820343017578, 101.09600067138672, 101.10489654541016, 101.11489868164062, 101.12590026855469, 101.13800048828125, 101.1511001586914, 101.16519927978516, 101.1802978515625, 101.19640350341797, 101.2135009765625, 101.23159790039062, 101.25060272216797, 101.27059936523438, 101.29149627685547, 101.31320190429688, 101.33589935302734, 101.3594970703125, 101.38390350341797, 101.4092025756836, 101.435302734375, 101.46219635009766, 101.48989868164062, 101.51860046386719, 101.54750061035156, 101.57879638671875, 101.60600280761719, 101.64920043945312, 101.69450378417969, 101.73880004882812, 101.78269958496094, 101.82620239257812, 101.86930084228516, 101.91190338134766, 101.9541015625, 101.99579620361328, 102.03690338134766, 102.07759857177734, 102.1177978515625, 102.15750122070312, 102.19670104980469, 102.23529815673828, 102.27339935302734, 102.31099700927734, 102.3479995727539, 102.3844985961914, 102.42040252685547, 102.45570373535156, 102.49040222167969, 102.52449798583984, 102.55799865722656, 102.59100341796875, 102.62319946289062, 102.65489959716797, 102.68599700927734, 102.71630096435547, 102.74610137939453, 102.77510070800781, 102.80349731445312, 102.831298828125, 102.8582992553711, 102.88469696044922, 102.9103012084961, 102.935302734375, 102.95950317382812, 102.98300170898438, 103.00579833984375, 103.02780151367188, 103.04910278320312, 103.0696029663086, 103.08940124511719, 103.1083984375, 103.12660217285156, 103.14409637451172, 103.16079711914062, 103.17659759521484, 103.19170379638672, 103.20600128173828, 103.21949768066406, 103.23210144042969, 103.24400329589844, 103.25499725341797, 103.26519775390625, 103.27449798583984, 103.28299713134766, 103.29070281982422, 103.29750061035156, 103.30349731445312, 103.30860137939453, 103.31289672851562, 103.31629943847656, 103.31890106201172, 103.32060241699219, 103.32150268554688], [101.0156021118164, 101.0167007446289, 101.01899719238281, 101.02249908447266, 101.027099609375, 101.03279876708984, 101.03970336914062, 101.04769897460938, 101.05680084228516, 101.06710052490234, 101.07830047607422, 101.0906982421875, 101.1041030883789, 101.11859893798828, 101.13400268554688, 101.15049743652344, 101.16799926757812, 101.1864013671875, 101.20580291748047, 101.2261962890625, 101.24739837646484, 101.26959991455078, 101.2927017211914, 101.31670379638672, 101.34159851074219, 101.36730194091797, 101.393798828125, 101.42130279541016, 101.4490966796875, 101.47930145263672, 101.50509643554688, 101.54830169677734, 101.59429931640625, 101.63909912109375, 101.68379974365234, 101.72789764404297, 101.77159881591797, 101.81490325927734, 101.85769653320312, 101.90010070800781, 101.94200134277344, 101.9834976196289, 102.02439880371094, 102.06490325927734, 102.10489654541016, 102.14440155029297, 102.18329620361328, 102.2218017578125, 102.25959777832031, 102.2969970703125, 102.33380126953125, 102.37000274658203, 102.40570068359375, 102.44080352783203, 102.47530364990234, 102.50920104980469, 102.5426025390625, 102.57530212402344, 102.6073989868164, 102.63880157470703, 102.66960144042969, 102.69979858398438, 102.72940063476562, 102.75830078125, 102.7864990234375, 102.81400299072266, 102.84089660644531, 102.86699676513672, 102.89250183105469, 102.91729736328125, 102.94129943847656, 102.964599609375, 102.98729705810547, 103.00910186767578, 103.0302963256836, 103.05059814453125, 103.07029724121094, 103.08910369873047, 103.1072006225586, 103.12449645996094, 103.14109802246094, 103.15679931640625, 103.17179870605469, 103.18599700927734, 103.19930267333984, 103.21189880371094, 103.22360229492188, 103.2344970703125, 103.24459838867188, 103.25389862060547, 103.26229858398438, 103.2698974609375, 103.27670288085938, 103.28260040283203, 103.2876968383789, 103.29190063476562, 103.29530334472656, 103.29789733886719, 103.29959869384766, 103.30039978027344], [100.964599609375, 100.9657974243164, 100.96820068359375, 100.9717025756836, 100.97650146484375, 100.9823989868164, 100.9894027709961, 100.9977035522461, 101.00700378417969, 101.01750183105469, 101.02909851074219, 101.04180145263672, 101.05549621582031, 101.07029724121094, 101.08609771728516, 101.10299682617188, 101.12079620361328, 101.13970184326172, 101.15950012207031, 101.1802978515625, 101.2020034790039, 101.22460174560547, 101.24810028076172, 101.27259826660156, 101.29779815673828, 101.3240966796875, 101.35070037841797, 101.37989807128906, 101.4041976928711, 101.44740295410156, 101.49410247802734, 101.53949737548828, 101.58470153808594, 101.62940216064453, 101.67379760742188, 101.71769714355469, 101.76119995117188, 101.8042984008789, 101.8469009399414, 101.88909912109375, 101.93080139160156, 101.97200012207031, 102.01280212402344, 102.0530014038086, 102.0927963256836, 102.13200378417969, 102.1707992553711, 102.20899963378906, 102.24669647216797, 102.28379821777344, 102.32039642333984, 102.35649871826172, 102.39199829101562, 102.4269027709961, 102.46119689941406, 102.49490356445312, 102.52799987792969, 102.56060028076172, 102.59239959716797, 102.62370300292969, 102.65440368652344, 102.68440246582031, 102.71369934082031, 102.74240112304688, 102.77050018310547, 102.79779815673828, 102.82450103759766, 102.85050201416016, 102.87580108642578, 102.90039825439453, 102.92430114746094, 102.94750213623047, 102.97000122070312, 102.99169921875, 103.01260375976562, 103.03289794921875, 103.05239868164062, 103.07109832763672, 103.08910369873047, 103.1063003540039, 103.1227035522461, 103.13829803466797, 103.1531982421875, 103.16719818115234, 103.18049621582031, 103.19290161132812, 103.20459747314453, 103.21540069580078, 103.22540283203125, 103.2345962524414, 103.24299621582031, 103.25050354003906, 103.2572021484375, 103.26309967041016, 103.26809692382812, 103.27230072021484, 103.27570343017578, 103.2781982421875, 103.27989959716797, 103.28079986572266], [100.91169738769531, 100.91290283203125, 100.91539764404297, 100.91909790039062, 100.92389678955078, 100.93000030517578, 100.93730163574219, 100.94580078125, 100.95539855957031, 100.96620178222656, 100.97810363769531, 100.99109649658203, 101.00520324707031, 101.02030181884766, 101.0365982055664, 101.05380249023438, 101.07209777832031, 101.09140014648438, 101.11160278320312, 101.13279724121094, 101.15499877929688, 101.1781005859375, 101.2020034790039, 101.22709655761719, 101.25240325927734, 101.28050231933594, 101.30329895019531, 101.34639739990234, 101.3938980102539, 101.439697265625, 101.4854965209961, 101.53079986572266, 101.57579803466797, 101.62030029296875, 101.66449737548828, 101.70819854736328, 101.75150299072266, 101.79440307617188, 101.83679962158203, 101.87879943847656, 101.92030334472656, 101.9613037109375, 102.00189971923828, 102.04190063476562, 102.08149719238281, 102.12059783935547, 102.15910339355469, 102.19709777832031, 102.2345962524414, 102.27159881591797, 102.30799865722656, 102.34390258789062, 102.37920379638672, 102.41390228271484, 102.447998046875, 102.48159790039062, 102.5145034790039, 102.54679870605469, 102.57859802246094, 102.60970306396484, 102.64009857177734, 102.66999816894531, 102.69920349121094, 102.72769927978516, 102.75559997558594, 102.78279876708984, 102.8093032836914, 102.83509826660156, 102.86029815673828, 102.88469696044922, 102.90850067138672, 102.93150329589844, 102.95379638671875, 102.97540283203125, 102.99620056152344, 103.01629638671875, 103.03569793701172, 103.0542984008789, 103.07209777832031, 103.08920288085938, 103.10549926757812, 103.12100219726562, 103.13580322265625, 103.14969635009766, 103.16290283203125, 103.17530059814453, 103.18679809570312, 103.19760131835938, 103.2074966430664, 103.21659851074219, 103.22489929199219, 103.2323989868164, 103.23909759521484, 103.24490356445312, 103.2499008178711, 103.25409698486328, 103.25740051269531, 103.26000213623047, 103.2615966796875, 103.26249694824219], [100.85679626464844, 100.85810089111328, 100.86060333251953, 100.8644027709961, 100.86949920654297, 100.87580108642578, 100.88330078125, 100.89199829101562, 100.90190124511719, 100.91300201416016, 100.92520141601562, 100.9385986328125, 100.9531021118164, 100.96869659423828, 100.98529815673828, 101.00299835205078, 101.02169799804688, 101.04149627685547, 101.06220245361328, 101.08390045166016, 101.10649871826172, 101.13020324707031, 101.1541976928711, 101.18119812011719, 101.20240020751953, 101.24559783935547, 101.2936019897461, 101.33989715576172, 101.38629913330078, 101.43209838867188, 101.47769927978516, 101.52279663085938, 101.56759643554688, 101.61190032958984, 101.65589904785156, 101.69940185546875, 101.74250030517578, 101.78520202636719, 101.82740020751953, 101.86920166015625, 101.9104995727539, 101.95140075683594, 101.99169921875, 102.03160095214844, 102.07099914550781, 102.10990142822266, 102.14830017089844, 102.18609619140625, 102.22339630126953, 102.26020050048828, 102.29650115966797, 102.33219909667969, 102.36730194091797, 102.40180206298828, 102.43579864501953, 102.46920013427734, 102.50189971923828, 102.53410339355469, 102.5656967163086, 102.59660339355469, 102.62689971923828, 102.65660095214844, 102.68560028076172, 102.71399688720703, 102.74169921875, 102.768798828125, 102.79519653320312, 102.8208999633789, 102.84590148925781, 102.87020111083984, 102.893798828125, 102.91670227050781, 102.93890380859375, 102.96029663085938, 102.98100280761719, 103.0009994506836, 103.02020263671875, 103.0386962890625, 103.05650329589844, 103.07340240478516, 103.089599609375, 103.1050033569336, 103.11969757080078, 103.13359832763672, 103.14659881591797, 103.15889739990234, 103.17040252685547, 103.18109893798828, 103.19090270996094, 103.19999694824219, 103.20819854736328, 103.2156982421875, 103.22229766845703, 103.22810363769531, 103.23310089111328, 103.23719787597656, 103.2405014038086, 103.24299621582031, 103.24469757080078, 103.24549865722656], [100.79989624023438, 100.80120086669922, 100.80390167236328, 100.80780029296875, 100.81300354003906, 100.81950378417969, 100.82730102539062, 100.8363037109375, 100.84660339355469, 100.85800170898438, 100.87059783935547, 100.8843994140625, 100.89929962158203, 100.91529846191406, 100.93240356445312, 100.95059967041016, 100.96980285644531, 100.98999786376953, 101.01119995117188, 101.03350067138672, 101.05609893798828, 101.08190155029297, 101.10150146484375, 101.14459991455078, 101.19329833984375, 101.24009704589844, 101.28690338134766, 101.33329772949219, 101.37940216064453, 101.42510223388672, 101.47039794921875, 101.5154037475586, 101.55999755859375, 101.60420227050781, 101.64790344238281, 101.69129943847656, 101.73419952392578, 101.77670288085938, 101.81880187988281, 101.86039733886719, 101.90149688720703, 101.94219970703125, 101.9823989868164, 102.02210235595703, 102.0614013671875, 102.10009765625, 102.13829803466797, 102.1760025024414, 102.21309661865234, 102.24980163574219, 102.28579711914062, 102.32140350341797, 102.3563003540039, 102.39070129394531, 102.42449951171875, 102.45770263671875, 102.49040222167969, 102.52239990234375, 102.55380249023438, 102.58460235595703, 102.61479949951172, 102.64430236816406, 102.67320251464844, 102.70140075683594, 102.72899627685547, 102.75589752197266, 102.7822036743164, 102.80770111083984, 102.83260345458984, 102.85679626464844, 102.88020324707031, 102.90299987792969, 102.92510223388672, 102.94640350341797, 102.96700286865234, 102.98690032958984, 103.00599670410156, 103.02439880371094, 103.04199981689453, 103.05889892578125, 103.07499694824219, 103.09030151367188, 103.10489654541016, 103.11859893798828, 103.13159942626953, 103.143798828125, 103.15519714355469, 103.16590118408203, 103.17569732666016, 103.18470001220703, 103.19290161132812, 103.20030212402344, 103.20680236816406, 103.21260070800781, 103.21749877929688, 103.22160339355469, 103.22489929199219, 103.22740173339844, 103.2291030883789, 103.22989654541016], [100.74089813232422, 100.74220275878906, 100.74500274658203, 100.74909973144531, 100.75450134277344, 100.76119995117188, 100.76930236816406, 100.77860260009766, 100.78919982910156, 100.80110168457031, 100.81410217285156, 100.82830047607422, 100.84369659423828, 100.86019897460938, 100.87779998779297, 100.89640045166016, 100.91609954833984, 100.93699645996094, 100.95819854736328, 100.98280334472656, 101.00060272216797, 101.043701171875, 101.09300231933594, 101.14009857177734, 101.1875, 101.2343978881836, 101.28099822998047, 101.32720184326172, 101.37310028076172, 101.4186019897461, 101.46379852294922, 101.50859832763672, 101.5530014038086, 101.59700012207031, 101.6406021118164, 101.68379974365234, 101.72660064697266, 101.76899719238281, 101.81079864501953, 101.85230255126953, 101.89330291748047, 101.93379974365234, 101.9738998413086, 102.01339721679688, 102.05249786376953, 102.09110260009766, 102.12909698486328, 102.16670227050781, 102.20369720458984, 102.24019622802734, 102.2761001586914, 102.3115005493164, 102.34629821777344, 102.38050079345703, 102.41419982910156, 102.44730377197266, 102.47979736328125, 102.5115966796875, 102.54290008544922, 102.57360076904297, 102.60359954833984, 102.63300323486328, 102.66179656982422, 102.68990325927734, 102.71730041503906, 102.74410247802734, 102.77020263671875, 102.79570007324219, 102.82039642333984, 102.84449768066406, 102.8677978515625, 102.8905029296875, 102.91239929199219, 102.93370056152344, 102.9542007446289, 102.9738998413086, 102.99299621582031, 103.01119995117188, 103.02880096435547, 103.04560089111328, 103.06159973144531, 103.07679748535156, 103.09130096435547, 103.1050033569336, 103.1178970336914, 103.12999725341797, 103.14140319824219, 103.1520004272461, 103.16169738769531, 103.17070007324219, 103.17880249023438, 103.18620300292969, 103.19270324707031, 103.19840240478516, 103.20330047607422, 103.2073974609375, 103.21070098876953, 103.21320343017578, 103.21479797363281, 103.2155990600586], [100.67960357666016, 100.68099975585938, 100.68389892578125, 100.68820190429688, 100.69380187988281, 100.70089721679688, 100.70919799804688, 100.71900177001953, 100.72989654541016, 100.74220275878906, 100.75569915771484, 100.77040100097656, 100.78620147705078, 100.80329895019531, 100.82129669189453, 100.8406982421875, 100.86039733886719, 100.88359832763672, 100.89969635009766, 100.94280242919922, 100.99259948730469, 101.04010009765625, 101.08799743652344, 101.13529968261719, 101.18240356445312, 101.2291030883789, 101.27559661865234, 101.32170104980469, 101.36740112304688, 101.41280364990234, 101.45780181884766, 101.50240325927734, 101.54669952392578, 101.5905990600586, 101.63400268554688, 101.6771011352539, 101.7197036743164, 101.76190185546875, 101.80370330810547, 101.84500122070312, 101.88580322265625, 101.92620086669922, 101.96610260009766, 102.00550079345703, 102.04450225830078, 102.08290100097656, 102.12079620361328, 102.158203125, 102.19509887695312, 102.23139953613281, 102.26719665527344, 102.30249786376953, 102.33719635009766, 102.37129974365234, 102.40480041503906, 102.43779754638672, 102.47010040283203, 102.50189971923828, 102.53299713134766, 102.5635986328125, 102.59349822998047, 102.622802734375, 102.65139770507812, 102.67939758300781, 102.70670318603516, 102.7333984375, 102.7593994140625, 102.78469848632812, 102.80940246582031, 102.83329772949219, 102.85659790039062, 102.87909698486328, 102.9010009765625, 102.9220962524414, 102.94249725341797, 102.96219635009766, 102.9811019897461, 102.99929809570312, 103.01679992675781, 103.03350067138672, 103.04940032958984, 103.0645980834961, 103.0790023803711, 103.09259796142578, 103.10549926757812, 103.11750030517578, 103.12879943847656, 103.13929748535156, 103.14900207519531, 103.15789794921875, 103.16600036621094, 103.17330169677734, 103.17980194091797, 103.18550109863281, 103.19039916992188, 103.19450378417969, 103.19779968261719, 103.20020294189453, 103.20179748535156, 103.20259857177734], [100.61609649658203, 100.61759948730469, 100.62059783935547, 100.625, 100.63089752197266, 100.63829803466797, 100.64700317382812, 100.6572036743164, 100.6686019897461, 100.681396484375, 100.69529724121094, 100.71060180664062, 100.72689819335938, 100.74469757080078, 100.76280212402344, 100.78459930419922, 100.79879760742188, 100.84190368652344, 100.89219665527344, 100.94010162353516, 100.98829650878906, 101.03610229492188, 101.08370208740234, 101.13089752197266, 101.17780303955078, 101.22440338134766, 101.27069854736328, 101.31670379638672, 101.36229705810547, 101.40750122070312, 101.45240020751953, 101.49690246582031, 101.54100036621094, 101.58480072021484, 101.62809753417969, 101.6709976196289, 101.7135009765625, 101.75559997558594, 101.79720306396484, 101.8384017944336, 101.87909698486328, 101.91929626464844, 101.95909881591797, 101.99839782714844, 102.03720092773438, 102.07550048828125, 102.11329650878906, 102.15059661865234, 102.1874008178711, 102.22360229492188, 102.2593002319336, 102.29440307617188, 102.32890319824219, 102.36289978027344, 102.39640045166016, 102.42919921875, 102.4614028930664, 102.49310302734375, 102.52410125732422, 102.55460357666016, 102.58439636230469, 102.6135025024414, 102.64209747314453, 102.66999816894531, 102.69719696044922, 102.72380065917969, 102.74970245361328, 102.77490234375, 102.79940032958984, 102.82330322265625, 102.84649658203125, 102.868896484375, 102.89070129394531, 102.91169738769531, 102.93199920654297, 102.95159912109375, 102.97049713134766, 102.98860168457031, 103.00599670410156, 103.02259826660156, 103.03839874267578, 103.05359649658203, 103.06790161132812, 103.08149719238281, 103.09429931640625, 103.1063003540039, 103.11750030517578, 103.12799835205078, 103.13760375976562, 103.14649963378906, 103.15460205078125, 103.16179656982422, 103.16829681396484, 103.17400360107422, 103.17880249023438, 103.18289947509766, 103.18609619140625, 103.1885986328125, 103.19020080566406, 103.19100189208984], [100.55010223388672, 100.55169677734375, 100.55480194091797, 100.55950164794922, 100.56580352783203, 100.57350158691406, 100.58260345458984, 100.59320068359375, 100.6052017211914, 100.61849975585938, 100.63300323486328, 100.64900207519531, 100.66529846191406, 100.68569946289062, 100.6978988647461, 100.74099731445312, 100.79180145263672, 100.83999633789062, 100.88860321044922, 100.93679809570312, 100.98480224609375, 101.03250122070312, 101.07990264892578, 101.12699890136719, 101.17379760742188, 101.22029876708984, 101.26640319824219, 101.31220245361328, 101.35769653320312, 101.40280151367188, 101.44760131835938, 101.49199676513672, 101.53600311279297, 101.57959747314453, 101.622802734375, 101.66560363769531, 101.70800018310547, 101.7499008178711, 101.79139709472656, 101.8324966430664, 101.87310028076172, 101.91320037841797, 101.9529037475586, 101.99210357666016, 102.03079986572266, 102.06900024414062, 102.10669708251953, 102.143798828125, 102.18049621582031, 102.21659851074219, 102.252197265625, 102.28720092773438, 102.32170104980469, 102.35549926757812, 102.38890075683594, 102.42160034179688, 102.45379638671875, 102.48529815673828, 102.51619720458984, 102.54660034179688, 102.57630157470703, 102.60530090332031, 102.63379669189453, 102.6615982055664, 102.6886978149414, 102.71520233154297, 102.74099731445312, 102.76619720458984, 102.79060363769531, 102.81439971923828, 102.8375015258789, 102.85980224609375, 102.88150024414062, 102.90249633789062, 102.92269897460938, 102.94219970703125, 102.96099853515625, 102.9791030883789, 102.99639892578125, 103.01290130615234, 103.02870178222656, 103.0438003540039, 103.05809783935547, 103.07160186767578, 103.08429718017578, 103.09629821777344, 103.10749816894531, 103.1178970336914, 103.12750244140625, 103.13629913330078, 103.14440155029297, 103.15160369873047, 103.15809631347656, 103.1636962890625, 103.1686019897461, 103.17259979248047, 103.17579650878906, 103.1781997680664, 103.17990112304688, 103.18070220947266], [100.48159790039062, 100.48320007324219, 100.48660278320312, 100.4916000366211, 100.49819946289062, 100.50630187988281, 100.51599884033203, 100.527099609375, 100.53959655761719, 100.55370330810547, 100.56809997558594, 100.58699798583984, 100.59709930419922, 100.64009857177734, 100.69120025634766, 100.73979949951172, 100.78880310058594, 100.8373031616211, 100.88569641113281, 100.93379974365234, 100.98169708251953, 101.029296875, 101.07659912109375, 101.12349700927734, 101.17019653320312, 101.21659851074219, 101.26270294189453, 101.30840301513672, 101.35369873046875, 101.3988037109375, 101.44339752197266, 101.48770141601562, 101.53160095214844, 101.57510375976562, 101.61820220947266, 101.66089630126953, 101.70320129394531, 101.74500274658203, 101.7863998413086, 101.82740020751953, 101.8678970336914, 101.90789794921875, 101.94750213623047, 101.98660278320312, 102.02519989013672, 102.06330108642578, 102.10089874267578, 102.13790130615234, 102.17449951171875, 102.21050262451172, 102.24600219726562, 102.28089904785156, 102.31529998779297, 102.3490982055664, 102.3823013305664, 102.41500091552734, 102.4469985961914, 102.47850036621094, 102.5093002319336, 102.53959655761719, 102.56919860839844, 102.59819793701172, 102.62650299072266, 102.6541976928711, 102.6812973022461, 102.70770263671875, 102.7333984375, 102.75849914550781, 102.78289794921875, 102.80660247802734, 102.82959747314453, 102.85189819335938, 102.87349700927734, 102.89440155029297, 102.91459655761719, 102.93399810791016, 102.95279693603516, 102.9708023071289, 102.98799896240234, 103.00450134277344, 103.02020263671875, 103.03520202636719, 103.04949951171875, 103.06300354003906, 103.07559967041016, 103.08760070800781, 103.09870147705078, 103.10910034179688, 103.11869812011719, 103.12750244140625, 103.135498046875, 103.1427001953125, 103.14910125732422, 103.15470123291016, 103.15959930419922, 103.1635971069336, 103.16680145263672, 103.16919708251953, 103.1707992553711, 103.17160034179688], [100.4103012084961, 100.41210174560547, 100.41570281982422, 100.4209976196289, 100.4280014038086, 100.43669891357422, 100.4468994140625, 100.45890045166016, 100.47129821777344, 100.4884033203125, 100.49620056152344, 100.53910064697266, 100.5906982421875, 100.6395034790039, 100.68879699707031, 100.73780059814453, 100.7864990234375, 100.83499908447266, 100.88330078125, 100.9312973022461, 100.97899627685547, 101.02649688720703, 101.07369995117188, 101.12059783935547, 101.16719818115234, 101.2135009765625, 101.2593994140625, 101.30509948730469, 101.35030364990234, 101.39530181884766, 101.4397964477539, 101.48400115966797, 101.52780151367188, 101.57119750976562, 101.61419677734375, 101.65679931640625, 101.6989974975586, 101.74079895019531, 101.78209686279297, 101.822998046875, 101.8634033203125, 101.90339660644531, 101.94280242919922, 101.98179626464844, 102.02040100097656, 102.05840301513672, 102.09590148925781, 102.13289642333984, 102.16929626464844, 102.2052993774414, 102.2406997680664, 102.27549743652344, 102.30979919433594, 102.34349822998047, 102.37670135498047, 102.4093017578125, 102.44120025634766, 102.47260284423828, 102.50340270996094, 102.53359985351562, 102.56310272216797, 102.59200286865234, 102.62030029296875, 102.64800262451172, 102.67500305175781, 102.70130157470703, 102.72699737548828, 102.75199890136719, 102.77629852294922, 102.79989624023438, 102.8228988647461, 102.84510040283203, 102.86669921875, 102.88749694824219, 102.90760040283203, 102.927001953125, 102.9457015991211, 102.9636001586914, 102.98079681396484, 102.99729919433594, 103.01300048828125, 103.02790069580078, 103.04209899902344, 103.05560302734375, 103.06819915771484, 103.0801010131836, 103.09120178222656, 103.10160064697266, 103.11109924316406, 103.11990356445312, 103.12789916992188, 103.13510131835938, 103.1415023803711, 103.14710235595703, 103.15190124511719, 103.15589904785156, 103.15910339355469, 103.1614990234375, 103.16310119628906, 103.16390228271484], [100.33619689941406, 100.33809661865234, 100.34200286865234, 100.34770202636719, 100.3552017211914, 100.36479949951172, 100.37480163574219, 100.38999938964844, 100.39530181884766, 100.43820190429688, 100.49009704589844, 100.53910064697266, 100.58879852294922, 100.63800048828125, 100.68710327148438, 100.73600006103516, 100.78459930419922, 100.83309936523438, 100.88130187988281, 100.92919921875, 100.97679901123047, 101.02420043945312, 101.07140350341797, 101.11820220947266, 101.16470336914062, 101.21089935302734, 101.25679779052734, 101.30229949951172, 101.34750366210938, 101.39230346679688, 101.43679809570312, 101.48090362548828, 101.52469635009766, 101.56800079345703, 101.61090087890625, 101.65350341796875, 101.69560241699219, 101.73729705810547, 101.77850341796875, 101.81929779052734, 101.85970306396484, 101.89959716796875, 101.93900299072266, 101.97789764404297, 102.01640319824219, 102.0542984008789, 102.0916976928711, 102.12870025634766, 102.16510009765625, 102.20089721679688, 102.23629760742188, 102.27100372314453, 102.3052978515625, 102.33889770507812, 102.37200164794922, 102.40450286865234, 102.4364013671875, 102.4677963256836, 102.49849700927734, 102.52860260009766, 102.55809783935547, 102.58689880371094, 102.61519622802734, 102.6427001953125, 102.6697006225586, 102.69599914550781, 102.72160339355469, 102.74649810791016, 102.77079772949219, 102.79440307617188, 102.81729888916016, 102.8395004272461, 102.86100006103516, 102.88169860839844, 102.90180206298828, 102.92120361328125, 102.9397964477539, 102.95770263671875, 102.97480010986328, 102.99130249023438, 103.00689697265625, 103.02179718017578, 103.03600311279297, 103.04940032958984, 103.06199645996094, 103.07389831542969, 103.08499908447266, 103.09529876708984, 103.10479736328125, 103.11360168457031, 103.12149810791016, 103.12870025634766, 103.13510131835938, 103.14070129394531, 103.14550018310547, 103.14949798583984, 103.15270233154297, 103.15509796142578, 103.15670013427734, 103.15750122070312], [100.25900268554688, 100.26110076904297, 100.26519775390625, 100.27169799804688, 100.27899932861328, 100.29199981689453, 100.29440307617188, 100.3373031616211, 100.3895034790039, 100.4386978149414, 100.48860168457031, 100.53820037841797, 100.58760070800781, 100.63680267333984, 100.68579864501953, 100.7345962524414, 100.783203125, 100.83149719238281, 100.87960052490234, 100.92749786376953, 100.97509765625, 101.02239990234375, 101.06950378417969, 101.11620330810547, 101.1626968383789, 101.20880126953125, 101.25460052490234, 101.30010223388672, 101.34519958496094, 101.38999938964844, 101.43440246582031, 101.47850036621094, 101.52220153808594, 101.56539916992188, 101.6082992553711, 101.65080261230469, 101.69280242919922, 101.7344970703125, 101.77559661865234, 101.81639862060547, 101.85669708251953, 101.89649963378906, 101.93589782714844, 101.97470092773438, 102.01309967041016, 102.0510025024414, 102.0884017944336, 102.12529754638672, 102.1615982055664, 102.19740295410156, 102.23269653320312, 102.26750183105469, 102.30159759521484, 102.33519744873047, 102.36830139160156, 102.40070343017578, 102.43260192871094, 102.46389770507812, 102.49449920654297, 102.52459716796875, 102.55400085449219, 102.58280181884766, 102.61100006103516, 102.63860321044922, 102.66539764404297, 102.69170379638672, 102.71730041503906, 102.74220275878906, 102.76640319824219, 102.78990173339844, 102.81279754638672, 102.83489990234375, 102.85639953613281, 102.8770980834961, 102.89720153808594, 102.91649627685547, 102.93509674072266, 102.9529037475586, 102.97010040283203, 102.98639678955078, 103.0020980834961, 103.01699829101562, 103.03109741210938, 103.04450225830078, 103.05709838867188, 103.06890106201172, 103.08000183105469, 103.09030151367188, 103.09980010986328, 103.1084976196289, 103.11640167236328, 103.12359619140625, 103.12999725341797, 103.1355972290039, 103.14029693603516, 103.14430236816406, 103.14749908447266, 103.14990234375, 103.15149688720703, 103.15229797363281], [100.17839813232422, 100.18080139160156, 100.1843032836914, 100.1946029663086, 100.19349670410156, 100.23639678955078, 100.28880310058594, 100.33820343017578, 100.38839721679688, 100.43810272216797, 100.48780059814453, 100.53730010986328, 100.58670043945312, 100.63580322265625, 100.68479919433594, 100.7334976196289, 100.78209686279297, 100.83039855957031, 100.87840270996094, 100.92620086669922, 100.97380065917969, 101.02110290527344, 101.06800079345703, 101.11479949951172, 101.16120147705078, 101.20719909667969, 101.25299835205078, 101.29840087890625, 101.34349822998047, 101.38819885253906, 101.43260192871094, 101.47660064697266, 101.52030181884766, 101.5634994506836, 101.6063003540039, 101.6488037109375, 101.69080352783203, 101.7322998046875, 101.77349853515625, 101.81420135498047, 101.85440063476562, 101.89420318603516, 101.93360137939453, 101.97239685058594, 102.01069641113281, 102.04859924316406, 102.08589935302734, 102.122802734375, 102.15910339355469, 102.1948013305664, 102.2301025390625, 102.26480102539062, 102.29889678955078, 102.3324966430664, 102.3655014038086, 102.39790344238281, 102.42970275878906, 102.46099853515625, 102.4916000366211, 102.52159881591797, 102.5510025024414, 102.57980346679688, 102.60790252685547, 102.6353988647461, 102.66230010986328, 102.6884994506836, 102.71399688720703, 102.73889923095703, 102.76309967041016, 102.7865982055664, 102.80940246582031, 102.83159637451172, 102.85299682617188, 102.87370300292969, 102.8936996459961, 102.91300201416016, 102.93160247802734, 102.94940185546875, 102.96649932861328, 102.98280334472656, 102.99849700927734, 103.01329803466797, 103.02739715576172, 103.04080200195312, 103.05339813232422, 103.06520080566406, 103.07620239257812, 103.08650207519531, 103.09600067138672, 103.10469818115234, 103.11260223388672, 103.11979675292969, 103.1261978149414, 103.13169860839844, 103.1364974975586, 103.1405029296875, 103.1436996459961, 103.14610290527344, 103.14769744873047, 103.14839935302734], [100.09380340576172, 100.09880065917969, 100.09269714355469, 100.135498046875, 100.18810272216797, 100.23760223388672, 100.28800201416016, 100.33799743652344, 100.38790130615234, 100.43769836425781, 100.48729705810547, 100.53679656982422, 100.58609771728516, 100.63520050048828, 100.68409729003906, 100.73280334472656, 100.78130340576172, 100.82959747314453, 100.87760162353516, 100.92539978027344, 100.972900390625, 101.02020263671875, 101.06710052490234, 101.11380004882812, 101.16010284423828, 101.2061996459961, 101.25189971923828, 101.29730224609375, 101.34239959716797, 101.38710021972656, 101.431396484375, 101.47540283203125, 101.51899719238281, 101.56220245361328, 101.6050033569336, 101.64739990234375, 101.68939971923828, 101.73090362548828, 101.77210235595703, 101.81269836425781, 101.85299682617188, 101.8927001953125, 101.93199920654297, 101.9708023071289, 102.00910186767578, 102.0469970703125, 102.08429718017578, 102.12110137939453, 102.15740203857422, 102.19309997558594, 102.22830200195312, 102.26300048828125, 102.2970962524414, 102.33059692382812, 102.36360168457031, 102.39600372314453, 102.42780303955078, 102.45899963378906, 102.4896011352539, 102.51959991455078, 102.54900360107422, 102.57769775390625, 102.60590362548828, 102.63330078125, 102.66020202636719, 102.6864013671875, 102.71189880371094, 102.73670196533203, 102.76090240478516, 102.7844009399414, 102.80719757080078, 102.82929992675781, 102.85070037841797, 102.87139892578125, 102.89140319824219, 102.91059875488281, 102.92919921875, 102.9469985961914, 102.96410369873047, 102.98040008544922, 102.99600219726562, 103.01090240478516, 103.0250015258789, 103.03829956054688, 103.0509033203125, 103.06269836425781, 103.07369995117188, 103.08399963378906, 103.09349822998047, 103.10220336914062, 103.11009979248047, 103.11730194091797, 103.12359619140625, 103.12920379638672, 103.13390350341797, 103.13790130615234, 103.14109802246094, 103.14350128173828, 103.14510345458984, 103.1458969116211], [100.0011978149414, 100.03469848632812, 100.0875015258789, 100.13700103759766, 100.1875, 100.23760223388672, 100.28780364990234, 100.33779907226562, 100.38770294189453, 100.4374008178711, 100.48699951171875, 100.5364990234375, 100.58580017089844, 100.63490295410156, 100.68379974365234, 100.73249816894531, 100.78099822998047, 100.8292007446289, 100.877197265625, 100.92500305175781, 100.97250366210938, 101.01969909667969, 101.06659698486328, 101.11329650878906, 101.15959930419922, 101.20570373535156, 101.25140380859375, 101.29679870605469, 101.341796875, 101.3864974975586, 101.43080139160156, 101.47480010986328, 101.51840209960938, 101.56159973144531, 101.60440063476562, 101.64669799804688, 101.6886978149414, 101.7302017211914, 101.77140045166016, 101.81199645996094, 101.85220336914062, 101.89199829101562, 101.93119812011719, 101.97000122070312, 102.00830078125, 102.04609680175781, 102.0833969116211, 102.12020111083984, 102.15650177001953, 102.19219970703125, 102.22740173339844, 102.26210021972656, 102.29620361328125, 102.32969665527344, 102.36270141601562, 102.3949966430664, 102.42680358886719, 102.45800018310547, 102.48860168457031, 102.51860046386719, 102.5479965209961, 102.57669830322266, 102.60479736328125, 102.6323013305664, 102.65910339355469, 102.685302734375, 102.71080017089844, 102.73560333251953, 102.75980377197266, 102.7833023071289, 102.80609893798828, 102.82820129394531, 102.84960174560547, 102.87020111083984, 102.89019775390625, 102.90950012207031, 102.9280014038086, 102.94580078125, 102.96289825439453, 102.97920227050781, 102.99479675292969, 103.00969696044922, 103.0238037109375, 103.03710174560547, 103.04959869384766, 103.0615005493164, 103.07250213623047, 103.08280181884766, 103.09220123291016, 103.10089874267578, 103.10880279541016, 103.11599731445312, 103.12229919433594, 103.12789916992188, 103.13269805908203, 103.1365966796875, 103.13980102539062, 103.14219665527344, 103.143798828125, 103.14459991455078]]'"
      ]
     },
     "execution_count": 13,
     "metadata": {},
     "output_type": "execute_result"
    }
   ],
   "source": [
    "import simplejson as json\n",
    "\n",
    "json = json.dumps(head, ignore_nan=True)\n",
    "json"
   ]
  },
  {
   "cell_type": "code",
   "execution_count": 14,
   "id": "df7dfd8ff0308815",
   "metadata": {
    "ExecuteTime": {
     "end_time": "2024-08-19T10:16:36.299460Z",
     "start_time": "2024-08-19T10:16:36.296256Z"
    },
    "collapsed": false,
    "execution": {
     "iopub.execute_input": "2024-08-21T20:30:23.792025Z",
     "iopub.status.busy": "2024-08-21T20:30:23.791901Z",
     "iopub.status.idle": "2024-08-21T20:30:23.794063Z",
     "shell.execute_reply": "2024-08-21T20:30:23.793836Z"
    },
    "papermill": {
     "duration": 0.006033,
     "end_time": "2024-08-21T20:30:23.794801",
     "exception": false,
     "start_time": "2024-08-21T20:30:23.788768",
     "status": "completed"
    },
    "tags": []
   },
   "outputs": [
    {
     "data": {
      "text/plain": [
       "[]"
      ]
     },
     "execution_count": 14,
     "metadata": {},
     "output_type": "execute_result"
    }
   ],
   "source": [
    "calculation.read_flow_drawdown(idx=0, layer=0)"
   ]
  },
  {
   "cell_type": "code",
   "execution_count": 15,
   "id": "b233f4066b56c174",
   "metadata": {
    "ExecuteTime": {
     "end_time": "2024-08-19T10:16:36.305774Z",
     "start_time": "2024-08-19T10:16:36.300229Z"
    },
    "collapsed": false,
    "execution": {
     "iopub.execute_input": "2024-08-21T20:30:23.800912Z",
     "iopub.status.busy": "2024-08-21T20:30:23.800794Z",
     "iopub.status.idle": "2024-08-21T20:30:23.804180Z",
     "shell.execute_reply": "2024-08-21T20:30:23.803944Z"
    },
    "papermill": {
     "duration": 0.007244,
     "end_time": "2024-08-21T20:30:23.804931",
     "exception": false,
     "start_time": "2024-08-21T20:30:23.797687",
     "status": "completed"
    },
    "tags": []
   },
   "outputs": [
    {
     "data": {
      "text/plain": [
       "{'STORAGE_IN': 0.0,\n",
       " 'CONSTANT_HEAD_IN': 0.0,\n",
       " 'RIVER_LEAKAGE_IN': 857.8719,\n",
       " 'TOTAL_IN': 857.8719,\n",
       " 'STORAGE_OUT': -0.0,\n",
       " 'CONSTANT_HEAD_OUT': -0.0,\n",
       " 'RIVER_LEAKAGE_OUT': -857.9005,\n",
       " 'TOTAL_OUT': -857.9005,\n",
       " 'IN-OUT': -0.028564,\n",
       " 'PERCENT_DISCREPANCY': -0.0,\n",
       " 'tslen': 365.0}"
      ]
     },
     "execution_count": 15,
     "metadata": {},
     "output_type": "execute_result"
    }
   ],
   "source": [
    "calculation.read_flow_budget(idx=0, incremental=False)"
   ]
  },
  {
   "cell_type": "code",
   "execution_count": 16,
   "id": "634709d741f5c252",
   "metadata": {
    "ExecuteTime": {
     "end_time": "2024-08-19T10:16:36.312582Z",
     "start_time": "2024-08-19T10:16:36.306794Z"
    },
    "collapsed": false,
    "execution": {
     "iopub.execute_input": "2024-08-21T20:30:23.811131Z",
     "iopub.status.busy": "2024-08-21T20:30:23.810940Z",
     "iopub.status.idle": "2024-08-21T20:30:23.814130Z",
     "shell.execute_reply": "2024-08-21T20:30:23.813906Z"
    },
    "papermill": {
     "duration": 0.007084,
     "end_time": "2024-08-21T20:30:23.814889",
     "exception": false,
     "start_time": "2024-08-21T20:30:23.807805",
     "status": "completed"
    },
    "tags": []
   },
   "outputs": [
    {
     "data": {
      "text/plain": [
       "{'STORAGE_IN': 0.0,\n",
       " 'CONSTANT_HEAD_IN': 0.0,\n",
       " 'RIVER_LEAKAGE_IN': 2.3503,\n",
       " 'TOTAL_IN': 2.3503,\n",
       " 'STORAGE_OUT': -0.0,\n",
       " 'CONSTANT_HEAD_OUT': -0.0,\n",
       " 'RIVER_LEAKAGE_OUT': -2.3504,\n",
       " 'TOTAL_OUT': -2.3504,\n",
       " 'IN-OUT': -7.8201e-05,\n",
       " 'PERCENT_DISCREPANCY': -0.0,\n",
       " 'tslen': 365.0}"
      ]
     },
     "execution_count": 16,
     "metadata": {},
     "output_type": "execute_result"
    }
   ],
   "source": [
    "calculation.read_flow_budget(idx=0, incremental=True)"
   ]
  },
  {
   "cell_type": "code",
   "execution_count": 17,
   "id": "160abd7d290c83f7",
   "metadata": {
    "ExecuteTime": {
     "end_time": "2024-08-19T10:16:36.417135Z",
     "start_time": "2024-08-19T10:16:36.313202Z"
    },
    "collapsed": false,
    "execution": {
     "iopub.execute_input": "2024-08-21T20:30:23.821350Z",
     "iopub.status.busy": "2024-08-21T20:30:23.821235Z",
     "iopub.status.idle": "2024-08-21T20:30:23.903377Z",
     "shell.execute_reply": "2024-08-21T20:30:23.902622Z"
    },
    "papermill": {
     "duration": 0.087912,
     "end_time": "2024-08-21T20:30:23.905967",
     "exception": false,
     "start_time": "2024-08-21T20:30:23.818055",
     "status": "completed"
    },
    "tags": []
   },
   "outputs": [
    {
     "data": {
      "image/png": "[encoded data removed]",
      "text/plain": [
       "<Figure size 640x480 with 2 Axes>"
      ]
     },
     "metadata": {},
     "output_type": "display_data"
    }
   ],
   "source": [
    "import matplotlib.pyplot as plt\n",
    "\n",
    "heads = calculation.read_flow_head(idx=0, layer=0)\n",
    "plt.subplot(2, 1, 1)\n",
    "plt.imshow(heads, cmap='jet_r')\n",
    "plt.colorbar()\n",
    "plt.show()"
   ]
  },
  {
   "cell_type": "code",
   "execution_count": null,
   "id": "1a893419d5a2a334",
   "metadata": {
    "ExecuteTime": {
     "end_time": "2024-08-19T10:16:36.421462Z",
     "start_time": "2024-08-19T10:16:36.419241Z"
    },
    "collapsed": false,
    "papermill": {
     "duration": 0.005204,
     "end_time": "2024-08-21T20:30:23.920232",
     "exception": false,
     "start_time": "2024-08-21T20:30:23.915028",
     "status": "completed"
    },
    "tags": []
   },
   "outputs": [],
   "source": []
  }
 ],
 "metadata": {
  "kernelspec": {
   "display_name": "Python 3",
   "language": "python",
   "name": "python3"
  },
  "language_info": {
   "codemirror_mode": {
    "name": "ipython",
    "version": 3
   },
   "file_extension": ".py",
   "mimetype": "text/x-python",
   "name": "python",
   "nbconvert_exporter": "python",
   "pygments_lexer": "ipython3",
   "version": "3.12.2"
  },
  "papermill": {
   "default_parameters": {},
   "duration": 3.667811,
   "end_time": "2024-08-21T20:30:24.371455",
   "environment_variables": {},
   "exception": null,
   "input_path": "./notebooks/Test_RiverBoundary.ipynb",
   "output_path": "./notebooks/Test_RiverBoundary.ipynb",
   "parameters": {},
   "start_time": "2024-08-21T20:30:20.703644",
   "version": "2.6.0"
  }
 },
 "nbformat": 4,
 "nbformat_minor": 5
}