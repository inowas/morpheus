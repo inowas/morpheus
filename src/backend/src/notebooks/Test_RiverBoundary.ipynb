{
 "cells": [
  {
   "cell_type": "code",
   "id": "ba6761fae9d5e5cb",
   "metadata": {
    "collapsed": false,
    "execution": {
     "iopub.execute_input": "2024-06-20T19:03:04.017998Z",
     "iopub.status.busy": "2024-06-20T19:03:04.017659Z",
     "iopub.status.idle": "2024-06-20T19:03:04.023002Z",
     "shell.execute_reply": "2024-06-20T19:03:04.022218Z"
    },
    "papermill": {
     "duration": 0.017691,
     "end_time": "2024-06-20T19:03:04.025274",
     "exception": false,
     "start_time": "2024-06-20T19:03:04.007583",
     "status": "completed"
    },
    "tags": [],
    "ExecuteTime": {
     "end_time": "2024-08-19T10:16:33.117071Z",
     "start_time": "2024-08-19T10:16:33.112353Z"
    }
   },
   "source": [
    "import sys\n",
    "\n",
    "sys.path.insert(0, '..')"
   ],
   "outputs": [],
   "execution_count": 1
  },
  {
   "cell_type": "markdown",
   "id": "5ede1ba5e0993dd1",
   "metadata": {
    "collapsed": false,
    "papermill": {
     "duration": 0.006342,
     "end_time": "2024-06-20T19:03:04.040613",
     "exception": false,
     "start_time": "2024-06-20T19:03:04.034271",
     "status": "completed"
    },
    "tags": []
   },
   "source": [
    "## Setup the model area"
   ]
  },
  {
   "cell_type": "code",
   "id": "2f69504ab35487aa",
   "metadata": {
    "collapsed": false,
    "execution": {
     "iopub.execute_input": "2024-06-20T19:03:04.051932Z",
     "iopub.status.busy": "2024-06-20T19:03:04.051661Z",
     "iopub.status.idle": "2024-06-20T19:03:04.563708Z",
     "shell.execute_reply": "2024-06-20T19:03:04.563450Z"
    },
    "papermill": {
     "duration": 0.518548,
     "end_time": "2024-06-20T19:03:04.564682",
     "exception": false,
     "start_time": "2024-06-20T19:03:04.046134",
     "status": "completed"
    },
    "tags": [],
    "ExecuteTime": {
     "end_time": "2024-08-19T10:16:33.915564Z",
     "start_time": "2024-08-19T10:16:33.195293Z"
    }
   },
   "source": [
    "from morpheus.project.types.discretization import SpatialDiscretization\n",
    "from morpheus.project.types.discretization.spatial import Rotation, Grid, Crs\n",
    "from morpheus.project.types.geometry import Polygon, LineString\n",
    "\n",
    "polygon = Polygon(\n",
    "  type='Polygon',\n",
    "  coordinates=[[\n",
    "    (13.92, 50.964),\n",
    "    (13.92, 50.966),\n",
    "    (13.925, 50.966),\n",
    "    (13.925, 50.964),\n",
    "    (13.92, 50.964)\n",
    "  ]]\n",
    ")\n",
    "\n",
    "rotation = Rotation(0)\n",
    "\n",
    "grid = Grid.cartesian_from_polygon(polygon=polygon, n_cols=100, n_rows=50, rotation=rotation)\n",
    "spatial_discretization = SpatialDiscretization.from_geometry_with_grid(\n",
    "  geometry=polygon,\n",
    "  grid=grid,\n",
    "  crs=Crs.from_str('EPSG:4326')\n",
    ")"
   ],
   "outputs": [],
   "execution_count": 2
  },
  {
   "cell_type": "markdown",
   "id": "fa27e67f9d801845",
   "metadata": {
    "collapsed": false,
    "papermill": {
     "duration": 0.001859,
     "end_time": "2024-06-20T19:03:04.568642",
     "exception": false,
     "start_time": "2024-06-20T19:03:04.566783",
     "status": "completed"
    },
    "tags": []
   },
   "source": [
    "## Setup Time Discretization"
   ]
  },
  {
   "cell_type": "code",
   "id": "8e4e63dd138db9fc",
   "metadata": {
    "collapsed": false,
    "execution": {
     "iopub.execute_input": "2024-06-20T19:03:04.572731Z",
     "iopub.status.busy": "2024-06-20T19:03:04.572589Z",
     "iopub.status.idle": "2024-06-20T19:03:04.574936Z",
     "shell.execute_reply": "2024-06-20T19:03:04.574721Z"
    },
    "papermill": {
     "duration": 0.005332,
     "end_time": "2024-06-20T19:03:04.575723",
     "exception": false,
     "start_time": "2024-06-20T19:03:04.570391",
     "status": "completed"
    },
    "tags": [],
    "ExecuteTime": {
     "end_time": "2024-08-19T10:16:33.922792Z",
     "start_time": "2024-08-19T10:16:33.918509Z"
    }
   },
   "source": [
    "from morpheus.project.types.discretization.time.TimeUnit import TimeUnit\n",
    "from morpheus.project.types.discretization.time.Stressperiods import StartDateTime, StressPeriodCollection, \\\n",
    "  StressPeriod, NumberOfTimeSteps, TimeStepMultiplier, IsSteadyState\n",
    "from morpheus.project.types.discretization.time import TimeDiscretization\n",
    "from datetime import datetime\n",
    "\n",
    "time_discretization = TimeDiscretization(\n",
    "  start_date_time=StartDateTime.from_datetime(datetime(2020, 1, 1)),\n",
    "  end_date_time=StartDateTime.from_datetime(datetime(2020, 12, 31)),\n",
    "  stress_periods=StressPeriodCollection([\n",
    "    StressPeriod(\n",
    "      start_date_time=StartDateTime.from_datetime(datetime(2020, 1, 1)),\n",
    "      number_of_time_steps=NumberOfTimeSteps(1),\n",
    "      time_step_multiplier=TimeStepMultiplier(1),\n",
    "      steady_state=IsSteadyState.yes()\n",
    "    ),\n",
    "  ]),\n",
    "  time_unit=TimeUnit.days()\n",
    ")"
   ],
   "outputs": [],
   "execution_count": 3
  },
  {
   "cell_type": "markdown",
   "id": "963ba8729f09fcec",
   "metadata": {
    "collapsed": false,
    "papermill": {
     "duration": 0.001901,
     "end_time": "2024-06-20T19:03:04.579667",
     "exception": false,
     "start_time": "2024-06-20T19:03:04.577766",
     "status": "completed"
    },
    "tags": []
   },
   "source": [
    "# Setup Model"
   ]
  },
  {
   "cell_type": "code",
   "id": "1d5c9125b1b9360b",
   "metadata": {
    "collapsed": false,
    "execution": {
     "iopub.execute_input": "2024-06-20T19:03:04.583914Z",
     "iopub.status.busy": "2024-06-20T19:03:04.583786Z",
     "iopub.status.idle": "2024-06-20T19:03:04.877112Z",
     "shell.execute_reply": "2024-06-20T19:03:04.876795Z"
    },
    "papermill": {
     "duration": 0.296644,
     "end_time": "2024-06-20T19:03:04.878156",
     "exception": false,
     "start_time": "2024-06-20T19:03:04.581512",
     "status": "completed"
    },
    "tags": [],
    "ExecuteTime": {
     "end_time": "2024-08-19T10:16:34.513635Z",
     "start_time": "2024-08-19T10:16:33.924018Z"
    }
   },
   "source": [
    "from morpheus.project.types.Model import Model\n",
    "\n",
    "model = Model.new()\n",
    "model = model.with_updated_time_discretization(time_discretization)\n",
    "model = model.with_updated_spatial_discretization(spatial_discretization=spatial_discretization)"
   ],
   "outputs": [],
   "execution_count": 4
  },
  {
   "cell_type": "code",
   "id": "1540b870ae83f298",
   "metadata": {
    "collapsed": false,
    "execution": {
     "iopub.execute_input": "2024-06-20T19:03:04.882773Z",
     "iopub.status.busy": "2024-06-20T19:03:04.882585Z",
     "iopub.status.idle": "2024-06-20T19:03:05.027071Z",
     "shell.execute_reply": "2024-06-20T19:03:05.026838Z"
    },
    "papermill": {
     "duration": 0.147692,
     "end_time": "2024-06-20T19:03:05.027933",
     "exception": false,
     "start_time": "2024-06-20T19:03:04.880241",
     "status": "completed"
    },
    "tags": [],
    "ExecuteTime": {
     "end_time": "2024-08-19T10:16:34.730686Z",
     "start_time": "2024-08-19T10:16:34.515161Z"
    }
   },
   "source": [
    "import folium\n",
    "\n",
    "m = folium.Map(tiles=\"cartodbpositron\", crs=\"EPSG3857\", zoom_start=12, location=[50.965, 13.922])\n",
    "m.add_child(folium.GeoJson(polygon.as_geojson()))\n",
    "\n",
    "m.fit_bounds(m.get_bounds())\n",
    "m"
   ],
   "outputs": [
    {
     "data": {
      "text/plain": [
       "<folium.folium.Map at 0x11abf20c0>"
      ],
      "text/html": [
       "<div style=\"width:100%;\"><div style=\"position:relative;width:100%;height:0;padding-bottom:60%;\"><span style=\"color:#565656\">Make this Notebook Trusted to load map: File -> Trust Notebook</span><iframe srcdoc=\"&lt;!DOCTYPE html&gt;\n",
       "&lt;html&gt;\n",
       "&lt;head&gt;\n",
       "    \n",
       "    &lt;meta http-equiv=&quot;content-type&quot; content=&quot;text/html; charset=UTF-8&quot; /&gt;\n",
       "    \n",
       "        &lt;script&gt;\n",
       "            L_NO_TOUCH = false;\n",
       "            L_DISABLE_3D = false;\n",
       "        &lt;/script&gt;\n",
       "    \n",
       "    &lt;style&gt;html, body {width: 100%;height: 100%;margin: 0;padding: 0;}&lt;/style&gt;\n",
       "    &lt;style&gt;#map {position:absolute;top:0;bottom:0;right:0;left:0;}&lt;/style&gt;\n",
       "    &lt;script src=&quot;https://cdn.jsdelivr.net/npm/leaflet@1.9.3/dist/leaflet.js&quot;&gt;&lt;/script&gt;\n",
       "    &lt;script src=&quot;https://code.jquery.com/jquery-3.7.1.min.js&quot;&gt;&lt;/script&gt;\n",
       "    &lt;script src=&quot;https://cdn.jsdelivr.net/npm/bootstrap@5.2.2/dist/js/bootstrap.bundle.min.js&quot;&gt;&lt;/script&gt;\n",
       "    &lt;script src=&quot;https://cdnjs.cloudflare.com/ajax/libs/Leaflet.awesome-markers/2.0.2/leaflet.awesome-markers.js&quot;&gt;&lt;/script&gt;\n",
       "    &lt;link rel=&quot;stylesheet&quot; href=&quot;https://cdn.jsdelivr.net/npm/leaflet@1.9.3/dist/leaflet.css&quot;/&gt;\n",
       "    &lt;link rel=&quot;stylesheet&quot; href=&quot;https://cdn.jsdelivr.net/npm/bootstrap@5.2.2/dist/css/bootstrap.min.css&quot;/&gt;\n",
       "    &lt;link rel=&quot;stylesheet&quot; href=&quot;https://netdna.bootstrapcdn.com/bootstrap/3.0.0/css/bootstrap.min.css&quot;/&gt;\n",
       "    &lt;link rel=&quot;stylesheet&quot; href=&quot;https://cdn.jsdelivr.net/npm/@fortawesome/fontawesome-free@6.2.0/css/all.min.css&quot;/&gt;\n",
       "    &lt;link rel=&quot;stylesheet&quot; href=&quot;https://cdnjs.cloudflare.com/ajax/libs/Leaflet.awesome-markers/2.0.2/leaflet.awesome-markers.css&quot;/&gt;\n",
       "    &lt;link rel=&quot;stylesheet&quot; href=&quot;https://cdn.jsdelivr.net/gh/python-visualization/folium/folium/templates/leaflet.awesome.rotate.min.css&quot;/&gt;\n",
       "    \n",
       "            &lt;meta name=&quot;viewport&quot; content=&quot;width=device-width,\n",
       "                initial-scale=1.0, maximum-scale=1.0, user-scalable=no&quot; /&gt;\n",
       "            &lt;style&gt;\n",
       "                #map_4df2d3fcb30098f128f732ce54679e3e {\n",
       "                    position: relative;\n",
       "                    width: 100.0%;\n",
       "                    height: 100.0%;\n",
       "                    left: 0.0%;\n",
       "                    top: 0.0%;\n",
       "                }\n",
       "                .leaflet-container { font-size: 1rem; }\n",
       "            &lt;/style&gt;\n",
       "        \n",
       "&lt;/head&gt;\n",
       "&lt;body&gt;\n",
       "    \n",
       "    \n",
       "            &lt;div class=&quot;folium-map&quot; id=&quot;map_4df2d3fcb30098f128f732ce54679e3e&quot; &gt;&lt;/div&gt;\n",
       "        \n",
       "&lt;/body&gt;\n",
       "&lt;script&gt;\n",
       "    \n",
       "    \n",
       "            var map_4df2d3fcb30098f128f732ce54679e3e = L.map(\n",
       "                &quot;map_4df2d3fcb30098f128f732ce54679e3e&quot;,\n",
       "                {\n",
       "                    center: [50.965, 13.922],\n",
       "                    crs: L.CRS.EPSG3857,\n",
       "                    zoom: 12,\n",
       "                    zoomControl: true,\n",
       "                    preferCanvas: false,\n",
       "                }\n",
       "            );\n",
       "\n",
       "            \n",
       "\n",
       "        \n",
       "    \n",
       "            var tile_layer_23a43197221c1070ea2dac7f576c0969 = L.tileLayer(\n",
       "                &quot;https://{s}.basemaps.cartocdn.com/light_all/{z}/{x}/{y}{r}.png&quot;,\n",
       "                {&quot;attribution&quot;: &quot;\\u0026copy; \\u003ca href=\\&quot;https://www.openstreetmap.org/copyright\\&quot;\\u003eOpenStreetMap\\u003c/a\\u003e contributors \\u0026copy; \\u003ca href=\\&quot;https://carto.com/attributions\\&quot;\\u003eCARTO\\u003c/a\\u003e&quot;, &quot;detectRetina&quot;: false, &quot;maxNativeZoom&quot;: 20, &quot;maxZoom&quot;: 20, &quot;minZoom&quot;: 0, &quot;noWrap&quot;: false, &quot;opacity&quot;: 1, &quot;subdomains&quot;: &quot;abcd&quot;, &quot;tms&quot;: false}\n",
       "            );\n",
       "        \n",
       "    \n",
       "            tile_layer_23a43197221c1070ea2dac7f576c0969.addTo(map_4df2d3fcb30098f128f732ce54679e3e);\n",
       "        \n",
       "    \n",
       "\n",
       "        function geo_json_7bfd5f2539d9e6ddb1e6c757c77c38aa_onEachFeature(feature, layer) {\n",
       "            layer.on({\n",
       "            });\n",
       "        };\n",
       "        var geo_json_7bfd5f2539d9e6ddb1e6c757c77c38aa = L.geoJson(null, {\n",
       "                onEachFeature: geo_json_7bfd5f2539d9e6ddb1e6c757c77c38aa_onEachFeature,\n",
       "            \n",
       "        });\n",
       "\n",
       "        function geo_json_7bfd5f2539d9e6ddb1e6c757c77c38aa_add (data) {\n",
       "            geo_json_7bfd5f2539d9e6ddb1e6c757c77c38aa\n",
       "                .addData(data);\n",
       "        }\n",
       "            geo_json_7bfd5f2539d9e6ddb1e6c757c77c38aa_add({&quot;coordinates&quot;: [[[13.92, 50.964], [13.92, 50.966], [13.925, 50.966], [13.925, 50.964], [13.92, 50.964]]], &quot;type&quot;: &quot;Polygon&quot;});\n",
       "\n",
       "        \n",
       "    \n",
       "            geo_json_7bfd5f2539d9e6ddb1e6c757c77c38aa.addTo(map_4df2d3fcb30098f128f732ce54679e3e);\n",
       "        \n",
       "    \n",
       "            map_4df2d3fcb30098f128f732ce54679e3e.fitBounds(\n",
       "                [[50.964, 13.92], [50.966, 13.925]],\n",
       "                {}\n",
       "            );\n",
       "        \n",
       "&lt;/script&gt;\n",
       "&lt;/html&gt;\" style=\"position:absolute;width:100%;height:100%;left:0;top:0;border:none !important;\" allowfullscreen webkitallowfullscreen mozallowfullscreen></iframe></div></div>"
      ]
     },
     "execution_count": 5,
     "metadata": {},
     "output_type": "execute_result"
    }
   ],
   "execution_count": 5
  },
  {
   "cell_type": "markdown",
   "id": "62ae3587df801000",
   "metadata": {
    "collapsed": false,
    "papermill": {
     "duration": 0.00196,
     "end_time": "2024-06-20T19:03:05.032041",
     "exception": false,
     "start_time": "2024-06-20T19:03:05.030081",
     "status": "completed"
    },
    "tags": []
   },
   "source": [
    "# Setup constant head boundary with two observations"
   ]
  },
  {
   "cell_type": "code",
   "id": "53679913aee28ce9",
   "metadata": {
    "collapsed": false,
    "execution": {
     "iopub.execute_input": "2024-06-20T19:03:05.036389Z",
     "iopub.status.busy": "2024-06-20T19:03:05.036222Z",
     "iopub.status.idle": "2024-06-20T19:03:05.312595Z",
     "shell.execute_reply": "2024-06-20T19:03:05.312348Z"
    },
    "papermill": {
     "duration": 0.279519,
     "end_time": "2024-06-20T19:03:05.313419",
     "exception": false,
     "start_time": "2024-06-20T19:03:05.033900",
     "status": "completed"
    },
    "tags": [],
    "ExecuteTime": {
     "end_time": "2024-08-19T10:16:35.057696Z",
     "start_time": "2024-08-19T10:16:34.731315Z"
    }
   },
   "source": [
    "from morpheus.project.types.boundaries.Observation import ObservationName\n",
    "from morpheus.project.types.boundaries.RiverObservation import ObservationId, Conductance, RiverObservationValue, RiverStage, \\\n",
    "  RiverbedBottom, RiverObservation\n",
    "from morpheus.project.types.geometry import Point\n",
    "from morpheus.project.types.boundaries.Boundary import BoundaryName, BoundaryCollection, RiverBoundary\n",
    "from morpheus.project.types.layers import LayerId\n",
    "\n",
    "layers_list = [LayerId.new()]\n",
    "\n",
    "river_boundary = RiverBoundary.from_geometry(\n",
    "  name=BoundaryName('river'),\n",
    "  geometry=LineString([\n",
    "    (13.92004, 50.96401),\n",
    "    (13.92499, 50.966),\n",
    "  ]),\n",
    "  grid=grid,\n",
    "  affected_layers=[model.layers[0].layer_id],\n",
    "  observations=[\n",
    "    RiverObservation(\n",
    "      observation_id=ObservationId.new(),\n",
    "      observation_name=ObservationName.default(),\n",
    "      geometry=Point((13.92499, 50.966)),\n",
    "      data=[\n",
    "        RiverObservationValue(\n",
    "          date_time=StartDateTime.from_datetime(datetime(2019, 1, 1)),\n",
    "          riverbed_bottom=RiverbedBottom.from_float(100),\n",
    "          river_stage=RiverStage.from_float(105),\n",
    "          conductance=Conductance.from_float(50),\n",
    "        ),\n",
    "        RiverObservationValue(\n",
    "          date_time=StartDateTime.from_datetime(datetime(2021, 12, 31)),\n",
    "          riverbed_bottom=RiverbedBottom.from_float(100),\n",
    "          river_stage=RiverStage.from_float(105),\n",
    "          conductance=Conductance.from_float(50),\n",
    "        ),\n",
    "      ]\n",
    "    ),\n",
    "    RiverObservation(\n",
    "      observation_id=ObservationId.new(),\n",
    "      observation_name=ObservationName.default(),\n",
    "      geometry=Point((13.92004, 50.96401)),\n",
    "      data=[\n",
    "        RiverObservationValue(\n",
    "          date_time=StartDateTime.from_datetime(datetime(2019, 1, 1)),\n",
    "          riverbed_bottom=RiverbedBottom.from_float(95),\n",
    "          river_stage=RiverStage.from_float(100),\n",
    "          conductance=Conductance.from_float(100),\n",
    "        ),\n",
    "        RiverObservationValue(\n",
    "          date_time=StartDateTime.from_datetime(datetime(2021, 12, 31)),\n",
    "          riverbed_bottom=RiverbedBottom.from_float(95),\n",
    "          river_stage=RiverStage.from_float(100),\n",
    "          conductance=Conductance.from_float(100),\n",
    "        ),\n",
    "      ]\n",
    "    ),\n",
    "  ]\n",
    ")\n",
    "\n",
    "boundary_collection = BoundaryCollection.new()\n",
    "boundary_collection.add_boundary(river_boundary)\n",
    "\n",
    "model = model.with_updated_boundaries(boundaries=boundary_collection)\n",
    "\n",
    "m.add_child(folium.GeoJson(river_boundary.as_geojson()))\n",
    "for observation in river_boundary.observations:\n",
    "  m.add_child(folium.GeoJson(observation.as_geojson()))\n",
    "\n",
    "m.fit_bounds(m.get_bounds())\n",
    "m"
   ],
   "outputs": [
    {
     "data": {
      "text/plain": [
       "<folium.folium.Map at 0x11abf20c0>"
      ],
      "text/html": [
       "<div style=\"width:100%;\"><div style=\"position:relative;width:100%;height:0;padding-bottom:60%;\"><span style=\"color:#565656\">Make this Notebook Trusted to load map: File -> Trust Notebook</span><iframe srcdoc=\"&lt;!DOCTYPE html&gt;\n",
       "&lt;html&gt;\n",
       "&lt;head&gt;\n",
       "    \n",
       "    &lt;meta http-equiv=&quot;content-type&quot; content=&quot;text/html; charset=UTF-8&quot; /&gt;\n",
       "    \n",
       "        &lt;script&gt;\n",
       "            L_NO_TOUCH = false;\n",
       "            L_DISABLE_3D = false;\n",
       "        &lt;/script&gt;\n",
       "    \n",
       "    &lt;style&gt;html, body {width: 100%;height: 100%;margin: 0;padding: 0;}&lt;/style&gt;\n",
       "    &lt;style&gt;#map {position:absolute;top:0;bottom:0;right:0;left:0;}&lt;/style&gt;\n",
       "    &lt;script src=&quot;https://cdn.jsdelivr.net/npm/leaflet@1.9.3/dist/leaflet.js&quot;&gt;&lt;/script&gt;\n",
       "    &lt;script src=&quot;https://code.jquery.com/jquery-3.7.1.min.js&quot;&gt;&lt;/script&gt;\n",
       "    &lt;script src=&quot;https://cdn.jsdelivr.net/npm/bootstrap@5.2.2/dist/js/bootstrap.bundle.min.js&quot;&gt;&lt;/script&gt;\n",
       "    &lt;script src=&quot;https://cdnjs.cloudflare.com/ajax/libs/Leaflet.awesome-markers/2.0.2/leaflet.awesome-markers.js&quot;&gt;&lt;/script&gt;\n",
       "    &lt;link rel=&quot;stylesheet&quot; href=&quot;https://cdn.jsdelivr.net/npm/leaflet@1.9.3/dist/leaflet.css&quot;/&gt;\n",
       "    &lt;link rel=&quot;stylesheet&quot; href=&quot;https://cdn.jsdelivr.net/npm/bootstrap@5.2.2/dist/css/bootstrap.min.css&quot;/&gt;\n",
       "    &lt;link rel=&quot;stylesheet&quot; href=&quot;https://netdna.bootstrapcdn.com/bootstrap/3.0.0/css/bootstrap.min.css&quot;/&gt;\n",
       "    &lt;link rel=&quot;stylesheet&quot; href=&quot;https://cdn.jsdelivr.net/npm/@fortawesome/fontawesome-free@6.2.0/css/all.min.css&quot;/&gt;\n",
       "    &lt;link rel=&quot;stylesheet&quot; href=&quot;https://cdnjs.cloudflare.com/ajax/libs/Leaflet.awesome-markers/2.0.2/leaflet.awesome-markers.css&quot;/&gt;\n",
       "    &lt;link rel=&quot;stylesheet&quot; href=&quot;https://cdn.jsdelivr.net/gh/python-visualization/folium/folium/templates/leaflet.awesome.rotate.min.css&quot;/&gt;\n",
       "    \n",
       "            &lt;meta name=&quot;viewport&quot; content=&quot;width=device-width,\n",
       "                initial-scale=1.0, maximum-scale=1.0, user-scalable=no&quot; /&gt;\n",
       "            &lt;style&gt;\n",
       "                #map_4df2d3fcb30098f128f732ce54679e3e {\n",
       "                    position: relative;\n",
       "                    width: 100.0%;\n",
       "                    height: 100.0%;\n",
       "                    left: 0.0%;\n",
       "                    top: 0.0%;\n",
       "                }\n",
       "                .leaflet-container { font-size: 1rem; }\n",
       "            &lt;/style&gt;\n",
       "        \n",
       "&lt;/head&gt;\n",
       "&lt;body&gt;\n",
       "    \n",
       "    \n",
       "            &lt;div class=&quot;folium-map&quot; id=&quot;map_4df2d3fcb30098f128f732ce54679e3e&quot; &gt;&lt;/div&gt;\n",
       "        \n",
       "&lt;/body&gt;\n",
       "&lt;script&gt;\n",
       "    \n",
       "    \n",
       "            var map_4df2d3fcb30098f128f732ce54679e3e = L.map(\n",
       "                &quot;map_4df2d3fcb30098f128f732ce54679e3e&quot;,\n",
       "                {\n",
       "                    center: [50.965, 13.922],\n",
       "                    crs: L.CRS.EPSG3857,\n",
       "                    zoom: 12,\n",
       "                    zoomControl: true,\n",
       "                    preferCanvas: false,\n",
       "                }\n",
       "            );\n",
       "\n",
       "            \n",
       "\n",
       "        \n",
       "    \n",
       "            var tile_layer_23a43197221c1070ea2dac7f576c0969 = L.tileLayer(\n",
       "                &quot;https://{s}.basemaps.cartocdn.com/light_all/{z}/{x}/{y}{r}.png&quot;,\n",
       "                {&quot;attribution&quot;: &quot;\\u0026copy; \\u003ca href=\\&quot;https://www.openstreetmap.org/copyright\\&quot;\\u003eOpenStreetMap\\u003c/a\\u003e contributors \\u0026copy; \\u003ca href=\\&quot;https://carto.com/attributions\\&quot;\\u003eCARTO\\u003c/a\\u003e&quot;, &quot;detectRetina&quot;: false, &quot;maxNativeZoom&quot;: 20, &quot;maxZoom&quot;: 20, &quot;minZoom&quot;: 0, &quot;noWrap&quot;: false, &quot;opacity&quot;: 1, &quot;subdomains&quot;: &quot;abcd&quot;, &quot;tms&quot;: false}\n",
       "            );\n",
       "        \n",
       "    \n",
       "            tile_layer_23a43197221c1070ea2dac7f576c0969.addTo(map_4df2d3fcb30098f128f732ce54679e3e);\n",
       "        \n",
       "    \n",
       "\n",
       "        function geo_json_7bfd5f2539d9e6ddb1e6c757c77c38aa_onEachFeature(feature, layer) {\n",
       "            layer.on({\n",
       "            });\n",
       "        };\n",
       "        var geo_json_7bfd5f2539d9e6ddb1e6c757c77c38aa = L.geoJson(null, {\n",
       "                onEachFeature: geo_json_7bfd5f2539d9e6ddb1e6c757c77c38aa_onEachFeature,\n",
       "            \n",
       "        });\n",
       "\n",
       "        function geo_json_7bfd5f2539d9e6ddb1e6c757c77c38aa_add (data) {\n",
       "            geo_json_7bfd5f2539d9e6ddb1e6c757c77c38aa\n",
       "                .addData(data);\n",
       "        }\n",
       "            geo_json_7bfd5f2539d9e6ddb1e6c757c77c38aa_add({&quot;coordinates&quot;: [[[13.92, 50.964], [13.92, 50.966], [13.925, 50.966], [13.925, 50.964], [13.92, 50.964]]], &quot;type&quot;: &quot;Polygon&quot;});\n",
       "\n",
       "        \n",
       "    \n",
       "            geo_json_7bfd5f2539d9e6ddb1e6c757c77c38aa.addTo(map_4df2d3fcb30098f128f732ce54679e3e);\n",
       "        \n",
       "    \n",
       "            map_4df2d3fcb30098f128f732ce54679e3e.fitBounds(\n",
       "                [[50.964, 13.92], [50.966, 13.925]],\n",
       "                {}\n",
       "            );\n",
       "        \n",
       "    \n",
       "            tile_layer_23a43197221c1070ea2dac7f576c0969.addTo(map_4df2d3fcb30098f128f732ce54679e3e);\n",
       "        \n",
       "    \n",
       "            geo_json_7bfd5f2539d9e6ddb1e6c757c77c38aa.addTo(map_4df2d3fcb30098f128f732ce54679e3e);\n",
       "        \n",
       "    \n",
       "\n",
       "        function geo_json_d69dc0fcda09f570c725cfd818f5b064_onEachFeature(feature, layer) {\n",
       "            layer.on({\n",
       "            });\n",
       "        };\n",
       "        var geo_json_d69dc0fcda09f570c725cfd818f5b064 = L.geoJson(null, {\n",
       "                onEachFeature: geo_json_d69dc0fcda09f570c725cfd818f5b064_onEachFeature,\n",
       "            \n",
       "        });\n",
       "\n",
       "        function geo_json_d69dc0fcda09f570c725cfd818f5b064_add (data) {\n",
       "            geo_json_d69dc0fcda09f570c725cfd818f5b064\n",
       "                .addData(data);\n",
       "        }\n",
       "            geo_json_d69dc0fcda09f570c725cfd818f5b064_add({&quot;coordinates&quot;: [[13.92004, 50.96401], [13.92499, 50.966]], &quot;type&quot;: &quot;LineString&quot;});\n",
       "\n",
       "        \n",
       "    \n",
       "            geo_json_d69dc0fcda09f570c725cfd818f5b064.addTo(map_4df2d3fcb30098f128f732ce54679e3e);\n",
       "        \n",
       "    \n",
       "\n",
       "        function geo_json_604811aaeab896af5e12f59df4cb8c5a_onEachFeature(feature, layer) {\n",
       "            layer.on({\n",
       "            });\n",
       "        };\n",
       "        var geo_json_604811aaeab896af5e12f59df4cb8c5a = L.geoJson(null, {\n",
       "                onEachFeature: geo_json_604811aaeab896af5e12f59df4cb8c5a_onEachFeature,\n",
       "            \n",
       "        });\n",
       "\n",
       "        function geo_json_604811aaeab896af5e12f59df4cb8c5a_add (data) {\n",
       "            geo_json_604811aaeab896af5e12f59df4cb8c5a\n",
       "                .addData(data);\n",
       "        }\n",
       "            geo_json_604811aaeab896af5e12f59df4cb8c5a_add({&quot;coordinates&quot;: [13.92499, 50.966], &quot;type&quot;: &quot;Point&quot;});\n",
       "\n",
       "        \n",
       "    \n",
       "            geo_json_604811aaeab896af5e12f59df4cb8c5a.addTo(map_4df2d3fcb30098f128f732ce54679e3e);\n",
       "        \n",
       "    \n",
       "\n",
       "        function geo_json_fb2cf53dd7c34d08c53c4109fdc9d3c1_onEachFeature(feature, layer) {\n",
       "            layer.on({\n",
       "            });\n",
       "        };\n",
       "        var geo_json_fb2cf53dd7c34d08c53c4109fdc9d3c1 = L.geoJson(null, {\n",
       "                onEachFeature: geo_json_fb2cf53dd7c34d08c53c4109fdc9d3c1_onEachFeature,\n",
       "            \n",
       "        });\n",
       "\n",
       "        function geo_json_fb2cf53dd7c34d08c53c4109fdc9d3c1_add (data) {\n",
       "            geo_json_fb2cf53dd7c34d08c53c4109fdc9d3c1\n",
       "                .addData(data);\n",
       "        }\n",
       "            geo_json_fb2cf53dd7c34d08c53c4109fdc9d3c1_add({&quot;coordinates&quot;: [13.92004, 50.96401], &quot;type&quot;: &quot;Point&quot;});\n",
       "\n",
       "        \n",
       "    \n",
       "            geo_json_fb2cf53dd7c34d08c53c4109fdc9d3c1.addTo(map_4df2d3fcb30098f128f732ce54679e3e);\n",
       "        \n",
       "    \n",
       "            map_4df2d3fcb30098f128f732ce54679e3e.fitBounds(\n",
       "                [[50.964, 13.92], [50.966, 13.925]],\n",
       "                {}\n",
       "            );\n",
       "        \n",
       "&lt;/script&gt;\n",
       "&lt;/html&gt;\" style=\"position:absolute;width:100%;height:100%;left:0;top:0;border:none !important;\" allowfullscreen webkitallowfullscreen mozallowfullscreen></iframe></div></div>"
      ]
     },
     "execution_count": 6,
     "metadata": {},
     "output_type": "execute_result"
    }
   ],
   "execution_count": 6
  },
  {
   "cell_type": "code",
   "id": "25b4324c4d166cd7",
   "metadata": {
    "collapsed": false,
    "execution": {
     "iopub.execute_input": "2024-06-20T19:03:05.318352Z",
     "iopub.status.busy": "2024-06-20T19:03:05.318243Z",
     "iopub.status.idle": "2024-06-20T19:03:05.320178Z",
     "shell.execute_reply": "2024-06-20T19:03:05.319963Z"
    },
    "papermill": {
     "duration": 0.005216,
     "end_time": "2024-06-20T19:03:05.320989",
     "exception": false,
     "start_time": "2024-06-20T19:03:05.315773",
     "status": "completed"
    },
    "tags": [],
    "ExecuteTime": {
     "end_time": "2024-08-19T10:16:35.061357Z",
     "start_time": "2024-08-19T10:16:35.058384Z"
    }
   },
   "source": [
    "river_boundary.observations"
   ],
   "outputs": [
    {
     "data": {
      "text/plain": [
       "[RiverObservation(observation_id=ObservationId(value='5ac59c01-2cd2-485d-bbc7-b09712d8b16c'), observation_name=ObservationName(value='Observation Point 1'), geometry=Point(coordinates=(13.92499, 50.966), type='Point'), data=[RiverObservationValue(date_time=StartDateTime(value=datetime.datetime(2019, 1, 1, 0, 0, tzinfo=datetime.timezone.utc)), river_stage=RiverStage(value=105), riverbed_bottom=RiverbedBottom(value=100), conductance=Conductance(value=50)), RiverObservationValue(date_time=StartDateTime(value=datetime.datetime(2021, 12, 31, 0, 0, tzinfo=datetime.timezone.utc)), river_stage=RiverStage(value=105), riverbed_bottom=RiverbedBottom(value=100), conductance=Conductance(value=50))]),\n",
       " RiverObservation(observation_id=ObservationId(value='04baf3fd-28fe-4c03-9adc-c36beb04f583'), observation_name=ObservationName(value='Observation Point 1'), geometry=Point(coordinates=(13.92004, 50.96401), type='Point'), data=[RiverObservationValue(date_time=StartDateTime(value=datetime.datetime(2019, 1, 1, 0, 0, tzinfo=datetime.timezone.utc)), river_stage=RiverStage(value=100), riverbed_bottom=RiverbedBottom(value=95), conductance=Conductance(value=100)), RiverObservationValue(date_time=StartDateTime(value=datetime.datetime(2021, 12, 31, 0, 0, tzinfo=datetime.timezone.utc)), river_stage=RiverStage(value=100), riverbed_bottom=RiverbedBottom(value=95), conductance=Conductance(value=100))])]"
      ]
     },
     "execution_count": 7,
     "metadata": {},
     "output_type": "execute_result"
    }
   ],
   "execution_count": 7
  },
  {
   "cell_type": "code",
   "id": "dc338472e1887a13",
   "metadata": {
    "collapsed": false,
    "execution": {
     "iopub.execute_input": "2024-06-20T19:03:05.325666Z",
     "iopub.status.busy": "2024-06-20T19:03:05.325560Z",
     "iopub.status.idle": "2024-06-20T19:03:05.717456Z",
     "shell.execute_reply": "2024-06-20T19:03:05.717107Z"
    },
    "papermill": {
     "duration": 0.395515,
     "end_time": "2024-06-20T19:03:05.718669",
     "exception": false,
     "start_time": "2024-06-20T19:03:05.323154",
     "status": "completed"
    },
    "tags": [],
    "ExecuteTime": {
     "end_time": "2024-08-19T10:16:35.584537Z",
     "start_time": "2024-08-19T10:16:35.062266Z"
    }
   },
   "source": [
    "from morpheus.project.infrastructure.calculation.engines.modflow_2005.packages.RivPackageMapper import \\\n",
    "  calculate_riv_boundary_stress_period_data\n",
    "\n",
    "result = calculate_riv_boundary_stress_period_data(\n",
    "  spatial_discretization=spatial_discretization,\n",
    "  time_discretization=time_discretization,\n",
    "  layers=model.layers,\n",
    "  riv_boundary=river_boundary,\n",
    ")\n",
    "result.to_dict()"
   ],
   "outputs": [
    {
     "data": {
      "text/plain": [
       "{0: [[0, 49, 0, 100.0, 100.0, 95.0],\n",
       "  [0, 49, 1, 100.03393064024003, 99.6606935975997, 95.03393064024003],\n",
       "  [0, 48, 2, 100.09139229956574, 99.08607700434257, 95.09139229956574],\n",
       "  [0, 49, 2, 100.07740874835528, 99.22591251644711, 95.07740874835528],\n",
       "  [0, 48, 3, 100.13487040767791, 98.65129592322087, 95.13487040767791],\n",
       "  [0, 47, 4, 100.19233205496651, 98.07667945033482, 95.19233205496651],\n",
       "  [0, 48, 4, 100.17834851579318, 98.21651484206829, 95.17834851579318],\n",
       "  [0, 47, 5, 100.23581016307868, 97.64189836921312, 95.23581016307868],\n",
       "  [0, 46, 6, 100.29327179832119, 97.0672820167881, 95.29327179832119],\n",
       "  [0, 47, 6, 100.2792882711924, 97.20711728807598, 95.2792882711924],\n",
       "  [0, 46, 7, 100.33674990643645, 96.63250093563552, 95.33674990643645],\n",
       "  [0, 45, 8, 100.3942115296403, 96.05788470359701, 95.3942115296403],\n",
       "  [0, 46, 8, 100.38022801454862, 96.19771985451382, 95.38022801454862],\n",
       "  [0, 45, 9, 100.43768963775555, 95.62310362244442, 95.43768963775555],\n",
       "  [0, 44, 10, 100.49515124891734, 95.04848751082666, 95.49515124891734],\n",
       "  [0, 45, 10, 100.48116774586772, 95.18832254132272, 95.48116774586772],\n",
       "  [0, 44, 11, 100.53862935703259, 94.61370642967408, 95.53862935703259],\n",
       "  [0, 43, 12, 100.59609095615632, 94.03909043843679, 95.59609095615632],\n",
       "  [0, 44, 12, 100.58210746514631, 94.17892534853694, 95.58210746514631],\n",
       "  [0, 43, 13, 100.63956906427003, 93.60430935729964, 95.63956906427003],\n",
       "  [0, 42, 14, 100.69703065135666, 93.02969348643342, 95.69703065135666],\n",
       "  [0, 43, 14, 100.68304717238375, 93.1695282761625, 95.68304717238375],\n",
       "  [0, 42, 15, 100.74050875946882, 92.59491240531173, 95.74050875946882],\n",
       "  [0, 41, 16, 100.79797033451244, 92.02029665487565, 95.79797033451244],\n",
       "  [0, 42, 16, 100.78398686758409, 92.16013132415914, 95.78398686758409],\n",
       "  [0, 41, 17, 100.84144844262615, 91.5855155737385, 95.84144844262615],\n",
       "  [0, 40, 18, 100.89891000562862, 91.01089994371378, 95.89891000562862],\n",
       "  [0, 41, 18, 100.88492655073986, 91.15073449260136, 95.88492655073986],\n",
       "  [0, 40, 19, 100.94238811374079, 90.5761188625921, 95.94238811374079],\n",
       "  [0, 39, 20, 100.99984966470427, 90.00150335295723, 95.99984966470427],\n",
       "  [0, 40, 20, 100.98586622185759, 90.14133778142406, 95.98586622185759],\n",
       "  [0, 39, 21, 101.04332777281645, 89.56672227183553, 96.04332777281645],\n",
       "  [0, 38, 22, 101.10078931174377, 88.99210688256234, 96.10078931174377],\n",
       "  [0, 39, 22, 101.0868058809317, 89.13194119068294, 96.0868058809317],\n",
       "  [0, 38, 23, 101.14426741985594, 88.55732580144064, 96.14426741985594],\n",
       "  [0, 37, 24, 101.20172894673964, 87.98271053260366, 96.20172894673964],\n",
       "  [0, 38, 24, 101.18774552796965, 88.12254472030351, 96.18774552796965],\n",
       "  [0, 37, 25, 101.24520705485489, 87.54792945145107, 96.24520705485489],\n",
       "  [0, 36, 26, 101.30266856969652, 86.97331430303483, 96.30266856969652],\n",
       "  [0, 37, 26, 101.2886851629686, 87.11314837031392, 96.2886851629686],\n",
       "  [0, 36, 27, 101.34614667780869, 86.53853322191313, 96.34614667780869],\n",
       "  [0, 35, 28, 101.40360818061072, 85.9639181938928, 96.40360818061072],\n",
       "  [0, 36, 28, 101.38962478592241, 86.10375214077598, 96.38962478592241],\n",
       "  [0, 35, 29, 101.44708628872444, 85.52913711275566, 96.44708628872444],\n",
       "  [0, 34, 30, 101.50454777948593, 84.95452220514063, 96.50454777948593],\n",
       "  [0, 35, 30, 101.49056439683969, 85.09435603160307, 96.49056439683969],\n",
       "  [0, 34, 31, 101.54802588759965, 84.51974112400349, 96.54802588759965],\n",
       "  [0, 33, 32, 101.60548736631847, 83.94512633681526, 96.60548736631847],\n",
       "  [0, 34, 32, 101.59150399571182, 84.08496004288179, 96.59150399571182],\n",
       "  [0, 33, 33, 101.64896547443374, 83.51034525566267, 96.64896547443374],\n",
       "  [0, 32, 34, 101.70642694111451, 82.93573058885491, 96.70642694111451],\n",
       "  [0, 33, 34, 101.69244358254744, 83.07556417452554, 96.69244358254744],\n",
       "  [0, 32, 35, 101.74990504922977, 82.50094950770233, 96.74990504922977],\n",
       "  [0, 31, 36, 101.8073665038694, 81.92633496130593, 96.8073665038694],\n",
       "  [0, 32, 36, 101.79338315734194, 82.06616842658063, 96.79338315734194],\n",
       "  [0, 31, 37, 101.85084461198157, 81.49155388018423, 96.85084461198157],\n",
       "  [0, 30, 38, 101.90830605458471, 80.91693945415284, 96.90830605458471],\n",
       "  [0, 31, 38, 101.89432272009684, 81.05677279903165, 96.89432272009684],\n",
       "  [0, 30, 39, 101.95178416269998, 80.48215837300026, 96.95178416269998],\n",
       "  [0, 29, 40, 102.00924559325794, 79.9075440674205, 97.00924559325794],\n",
       "  [0, 30, 40, 101.99526227081215, 80.04737729187856, 96.99526227081215],\n",
       "  [0, 29, 41, 102.05272370137166, 79.47276298628337, 97.05272370137166],\n",
       "  [0, 28, 42, 102.1101851198916, 78.89814880108409, 97.1101851198916],\n",
       "  [0, 29, 42, 102.09620180948538, 79.03798190514622, 97.09620180948538],\n",
       "  [0, 28, 43, 102.15366322800685, 78.4633677199315, 97.15366322800685],\n",
       "  [0, 27, 44, 102.21112463448719, 77.88875365512813, 97.21112463448719],\n",
       "  [0, 28, 44, 102.19714133612057, 78.02858663879437, 97.19714133612057],\n",
       "  [0, 27, 45, 102.25460274259936, 77.45397257400643, 97.25460274259936],\n",
       "  [0, 26, 46, 102.31206413704165, 76.87935862958352, 97.31206413704165],\n",
       "  [0, 27, 46, 102.29808085071461, 77.01919149285385, 97.29808085071461],\n",
       "  [0, 26, 47, 102.35554224515381, 76.44457754846184, 97.35554224515381],\n",
       "  [0, 25, 48, 102.41300362755403, 75.86996372445968, 97.41300362755403],\n",
       "  [0, 26, 48, 102.39902035326908, 76.00979646730924, 97.39902035326908],\n",
       "  [0, 25, 49, 102.45648173566775, 75.43518264332253, 97.45648173566775],\n",
       "  [0, 24, 50, 102.51394310602528, 74.86056893974718, 97.51394310602528],\n",
       "  [0, 25, 50, 102.49995984377992, 75.00040156220084, 97.49995984377992],\n",
       "  [0, 24, 51, 102.55742121414055, 74.42578785859459, 97.55742121414055],\n",
       "  [0, 23, 52, 102.6148825724591, 73.8511742754091, 97.6148825724591],\n",
       "  [0, 24, 52, 102.6008993222558, 73.99100677744201, 97.6008993222558],\n",
       "  [0, 23, 53, 102.65836068057126, 73.41639319428741, 97.65836068057126],\n",
       "  [0, 22, 54, 102.71582202685116, 72.84177973148843, 97.71582202685116],\n",
       "  [0, 23, 54, 102.70183878868497, 72.98161211315026, 97.70183878868497],\n",
       "  [0, 22, 55, 102.75930013496487, 72.40699865035128, 97.75930013496487],\n",
       "  [0, 21, 56, 102.81676146920269, 71.83238530797306, 97.81676146920269],\n",
       "  [0, 22, 56, 102.80277824307859, 71.97221756921414, 97.80277824307859],\n",
       "  [0, 21, 57, 102.86023957731796, 71.39760422682046, 97.86023957731796],\n",
       "  [0, 20, 58, 102.91770089951713, 70.82299100482875, 97.91770089951713],\n",
       "  [0, 21, 58, 102.90371768543012, 70.96282314569876, 97.90371768543012],\n",
       "  [0, 20, 59, 102.96117900763238, 70.38820992367616, 97.96117900763238],\n",
       "  [0, 19, 60, 103.01864031778699, 69.81359682213004, 98.01864031778699],\n",
       "  [0, 20, 60, 103.00465711574455, 69.95342884255447, 98.00465711574455],\n",
       "  [0, 18, 61, 103.07610161590759, 69.23898384092409, 98.07610161590759],\n",
       "  [0, 19, 61, 103.06211842590226, 69.37881574097744, 98.06211842590226],\n",
       "  [0, 18, 62, 103.1195797240213, 68.80420275978696, 98.1195797240213],\n",
       "  [0, 17, 63, 103.17704101009922, 68.2295898990078, 98.17704101009922],\n",
       "  [0, 18, 63, 103.16305783213348, 68.36942167866526, 98.16305783213348],\n",
       "  [0, 17, 64, 103.22051911821448, 67.79480881785523, 98.22051911821448],\n",
       "  [0, 16, 65, 103.27798039224783, 67.22019607752168, 98.27798039224783],\n",
       "  [0, 17, 65, 103.26399722632665, 67.36002773673351, 98.26399722632665],\n",
       "  [0, 16, 66, 103.3214585003631, 66.78541499636908, 98.3214585003631],\n",
       "  [0, 15, 67, 103.37891976236088, 66.21080237639114, 98.37891976236088],\n",
       "  [0, 16, 67, 103.36493660847681, 66.35063391523195, 98.36493660847681],\n",
       "  [0, 15, 68, 103.4223978704746, 65.77602129525401, 98.4223978704746],\n",
       "  [0, 14, 69, 103.47985912043528, 65.20140879564715, 98.47985912043528],\n",
       "  [0, 15, 69, 103.46587597858831, 65.34124021411688, 98.46587597858831],\n",
       "  [0, 14, 70, 103.52333722855055, 64.76662771449458, 98.52333722855055],\n",
       "  [0, 13, 71, 103.58079846646264, 64.19201533537358, 98.58079846646264],\n",
       "  [0, 14, 71, 103.56681533666271, 64.33184663337286, 98.56681533666271],\n",
       "  [0, 13, 72, 103.6242765745779, 63.757234254221004, 98.6242765745779],\n",
       "  [0, 12, 73, 103.68173780045538, 63.18262199544623, 98.68173780045538],\n",
       "  [0, 13, 73, 103.66775468269007, 63.322453173099305, 98.66775468269007],\n",
       "  [0, 12, 74, 103.72521590856908, 62.74784091430911, 98.72521590856908],\n",
       "  [0, 11, 75, 103.78267712240509, 62.173228775949056, 98.78267712240509],\n",
       "  [0, 12, 75, 103.76869401668435, 62.31305983315652, 98.76869401668435],\n",
       "  [0, 11, 76, 103.82615523051726, 61.73844769482735, 98.82615523051726],\n",
       "  [0, 10, 77, 103.88361643231616, 61.163835676838374, 98.88361643231616],\n",
       "  [0, 11, 77, 103.86963333863253, 61.30366661367477, 98.86963333863253],\n",
       "  [0, 10, 78, 103.92709454042833, 60.72905459571668, 98.92709454042833],\n",
       "  [0, 9, 79, 103.98455573018609, 60.15444269813905, 98.98455573018609],\n",
       "  [0, 10, 79, 103.97057264854205, 60.29427351457954, 98.97057264854205],\n",
       "  [0, 9, 80, 104.02803383830135, 59.719661616986464, 99.02803383830135],\n",
       "  [0, 8, 81, 104.08549501601703, 59.145049839829575, 99.08549501601703],\n",
       "  [0, 9, 81, 104.07151194641507, 59.28488053584932, 99.07151194641507],\n",
       "  [0, 8, 82, 104.12897312413075, 58.710268758692436, 99.12897312413075],\n",
       "  [0, 7, 83, 104.1864342898053, 58.13565710194691, 99.1864342898053],\n",
       "  [0, 8, 83, 104.17245123224292, 58.275487677570744, 99.17245123224292],\n",
       "  [0, 7, 84, 104.22991239792057, 57.70087602079434, 99.22991239792057],\n",
       "  [0, 6, 85, 104.28737355155613, 57.126264484438664, 99.28737355155613],\n",
       "  [0, 7, 85, 104.27339050603582, 57.26609493964175, 99.27339050603582],\n",
       "  [0, 6, 86, 104.3308516596683, 56.69148340331698, 99.3308516596683],\n",
       "  [0, 5, 87, 104.38831280126522, 56.11687198734782, 99.38831280126522],\n",
       "  [0, 6, 87, 104.37432976778202, 56.256702322179834, 99.37432976778202],\n",
       "  [0, 5, 88, 104.43179090937893, 55.68209090621068, 99.43179090937893],\n",
       "  [0, 4, 89, 104.48925203893377, 55.10747961066229, 99.48925203893377],\n",
       "  [0, 5, 89, 104.47526901749265, 55.247309825073536, 99.47526901749265],\n",
       "  [0, 4, 90, 104.53273014704902, 54.6726985295097, 99.53273014704902],\n",
       "  [0, 3, 91, 104.59019126456273, 54.09808735437265, 99.59019126456273],\n",
       "  [0, 4, 91, 104.5762082551612, 54.237917448388, 99.5762082551612],\n",
       "  [0, 3, 92, 104.63366937267645, 53.66330627323551, 99.63366937267645],\n",
       "  [0, 2, 93, 104.69113047815365, 53.08869521846349, 99.69113047815365],\n",
       "  [0, 3, 93, 104.6771474807917, 53.22852519208293, 99.6771474807917],\n",
       "  [0, 2, 94, 104.73460858626737, 52.65391413732636, 99.73460858626737],\n",
       "  [0, 1, 95, 104.79206967970094, 52.07930320299052, 99.79206967970094],\n",
       "  [0, 2, 95, 104.77808669438107, 52.21913305618921, 99.77808669438107],\n",
       "  [0, 1, 96, 104.83554778781311, 51.644522121868825, 99.83554778781311],\n",
       "  [0, 0, 97, 104.89300886921208, 51.06991130787924, 99.89300886921208],\n",
       "  [0, 1, 97, 104.87902589592683, 51.209741040731686, 99.87902589592683],\n",
       "  [0, 0, 98, 104.93648697732888, 50.6351302267112, 99.93648697732888],\n",
       "  [0, 0, 99, 104.97996508544105, 50.200349145589506, 99.97996508544105]]}"
      ]
     },
     "execution_count": 8,
     "metadata": {},
     "output_type": "execute_result"
    }
   ],
   "execution_count": 8
  },
  {
   "cell_type": "markdown",
   "id": "42d948d145a8457a",
   "metadata": {
    "collapsed": false,
    "papermill": {
     "duration": 0.00275,
     "end_time": "2024-06-20T19:03:05.723952",
     "exception": false,
     "start_time": "2024-06-20T19:03:05.721202",
     "status": "completed"
    },
    "tags": []
   },
   "source": [
    "## Calculate"
   ]
  },
  {
   "cell_type": "code",
   "id": "56ccabee86e2397e",
   "metadata": {
    "collapsed": false,
    "execution": {
     "iopub.execute_input": "2024-06-20T19:03:05.731422Z",
     "iopub.status.busy": "2024-06-20T19:03:05.731208Z",
     "iopub.status.idle": "2024-06-20T19:03:06.083228Z",
     "shell.execute_reply": "2024-06-20T19:03:06.082978Z"
    },
    "papermill": {
     "duration": 0.357094,
     "end_time": "2024-06-20T19:03:06.084067",
     "exception": false,
     "start_time": "2024-06-20T19:03:05.726973",
     "status": "completed"
    },
    "tags": [],
    "ExecuteTime": {
     "end_time": "2024-08-19T10:16:36.269229Z",
     "start_time": "2024-08-19T10:16:35.585291Z"
    }
   },
   "source": [
    "from morpheus.project.infrastructure.calculation.services.CalculationService import CalculationService\n",
    "from morpheus.project.types.calculation.CalculationProfile import CalculationProfile, CalculationEngineType\n",
    "\n",
    "calculation = CalculationService.calculate(model=model, profile=CalculationProfile.new(CalculationEngineType.MF2005))"
   ],
   "outputs": [
    {
     "name": "stdout",
     "output_type": "stream",
     "text": [
      "FloPy is using the following executable to run the model: ../../../../../../Users/ralf/Projects/inowas/morpheus/src/backend/.venv/bin/mf2005\n",
      "\n",
      "                                  MODFLOW-2005     \n",
      "    U.S. GEOLOGICAL SURVEY MODULAR FINITE-DIFFERENCE GROUND-WATER FLOW MODEL\n",
      "                             Version 1.12.00 2/3/2017                        \n",
      "\n",
      " Using NAME file: mf2005.nam \n",
      " Run start date and time (yyyy/mm/dd hh:mm:ss): 2024/08/19 12:16:36\n",
      "\n",
      " Solving:  Stress period:     1    Time step:     1    Ground-Water Flow Eqn.\n",
      " Run end date and time (yyyy/mm/dd hh:mm:ss): 2024/08/19 12:16:36\n",
      " Elapsed run time:  0.034 Seconds\n",
      "\n",
      "  Normal termination of simulation\n"
     ]
    }
   ],
   "execution_count": 9
  },
  {
   "cell_type": "code",
   "id": "e09d94e0a94315cb",
   "metadata": {
    "collapsed": false,
    "execution": {
     "iopub.execute_input": "2024-06-20T19:03:06.089241Z",
     "iopub.status.busy": "2024-06-20T19:03:06.089136Z",
     "iopub.status.idle": "2024-06-20T19:03:06.288938Z",
     "shell.execute_reply": "2024-06-20T19:03:06.288642Z"
    },
    "papermill": {
     "duration": 0.203325,
     "end_time": "2024-06-20T19:03:06.289818",
     "exception": false,
     "start_time": "2024-06-20T19:03:06.086493",
     "status": "completed"
    },
    "tags": [],
    "ExecuteTime": {
     "end_time": "2024-08-19T10:16:36.273940Z",
     "start_time": "2024-08-19T10:16:36.270110Z"
    }
   },
   "source": "calculation.check_model_log",
   "outputs": [
    {
     "data": {
      "text/plain": [
       "Log(log=['type,package,k,i,j,value,desc'])"
      ]
     },
     "execution_count": 10,
     "metadata": {},
     "output_type": "execute_result"
    }
   ],
   "execution_count": 10
  },
  {
   "cell_type": "code",
   "id": "672007fb90753c4c",
   "metadata": {
    "collapsed": false,
    "execution": {
     "iopub.execute_input": "2024-06-20T19:03:06.295327Z",
     "iopub.status.busy": "2024-06-20T19:03:06.295200Z",
     "iopub.status.idle": "2024-06-20T19:03:06.297407Z",
     "shell.execute_reply": "2024-06-20T19:03:06.297205Z"
    },
    "papermill": {
     "duration": 0.005695,
     "end_time": "2024-06-20T19:03:06.298106",
     "exception": false,
     "start_time": "2024-06-20T19:03:06.292411",
     "status": "completed"
    },
    "tags": [],
    "ExecuteTime": {
     "end_time": "2024-08-19T10:16:36.280475Z",
     "start_time": "2024-08-19T10:16:36.277063Z"
    }
   },
   "source": "calculation.calculation_result",
   "outputs": [
    {
     "data": {
      "text/plain": [
       "CalculationResult(type=<CalculationResultType.SUCCESS: 'success'>, message='Calculation finished successfully', files=['mf2005.list', 'mf2005.dis', 'mf2005.nam', 'mf2005.bas', 'mf2005.lpf', 'mf2005.pcg', 'mf2005.riv', 'mf2005.oc', 'mf2005.hds'], flow_head_results=AvailableResults(times=[365.0], kstpkper=[(0, 0)], number_of_layers=1, number_of_observations=0, min_value=100.00115203857422, max_value=104.97737121582031), flow_drawdown_results=None, flow_budget_results=AvailableResults(times=[365.0], kstpkper=[(0, 0)], number_of_layers=0, number_of_observations=0, min_value=None, max_value=None), transport_concentration_results=None, transport_budget_results=None, packages=['DIS', 'BAS6', 'RIV', 'PCG', 'LPF', 'OC'])"
      ]
     },
     "execution_count": 11,
     "metadata": {},
     "output_type": "execute_result"
    }
   ],
   "execution_count": 11
  },
  {
   "cell_type": "code",
   "id": "cc43ad077c7a81d0",
   "metadata": {
    "collapsed": false,
    "execution": {
     "iopub.execute_input": "2024-06-20T19:03:06.303107Z",
     "iopub.status.busy": "2024-06-20T19:03:06.303014Z",
     "iopub.status.idle": "2024-06-20T19:03:06.304996Z",
     "shell.execute_reply": "2024-06-20T19:03:06.304793Z"
    },
    "papermill": {
     "duration": 0.005422,
     "end_time": "2024-06-20T19:03:06.305817",
     "exception": false,
     "start_time": "2024-06-20T19:03:06.300395",
     "status": "completed"
    },
    "tags": [],
    "ExecuteTime": {
     "end_time": "2024-08-19T10:16:36.285486Z",
     "start_time": "2024-08-19T10:16:36.281399Z"
    }
   },
   "source": "head = calculation.read_flow_head(idx=0, layer=0)",
   "outputs": [],
   "execution_count": 12
  },
  {
   "cell_type": "code",
   "id": "12454cc4d9e18de5",
   "metadata": {
    "collapsed": false,
    "execution": {
     "iopub.execute_input": "2024-06-20T19:03:06.310959Z",
     "iopub.status.busy": "2024-06-20T19:03:06.310862Z",
     "iopub.status.idle": "2024-06-20T19:03:06.316572Z",
     "shell.execute_reply": "2024-06-20T19:03:06.316328Z"
    },
    "papermill": {
     "duration": 0.009152,
     "end_time": "2024-06-20T19:03:06.317345",
     "exception": false,
     "start_time": "2024-06-20T19:03:06.308193",
     "status": "completed"
    },
    "tags": [],
    "ExecuteTime": {
     "end_time": "2024-08-19T10:16:36.294802Z",
     "start_time": "2024-08-19T10:16:36.286099Z"
    }
   },
   "source": [
    "import simplejson as json\n",
    "\n",
    "json = json.dumps(head, ignore_nan=True)\n",
    "json"
   ],
   "outputs": [
    {
     "data": {
      "text/plain": [
       "'[[101.82599639892578, 101.82679748535156, 101.82839965820312, 101.83080291748047, 101.83399963378906, 101.83799743652344, 101.84269714355469, 101.84829711914062, 101.85459899902344, 101.86180114746094, 101.86969757080078, 101.87840270996094, 101.88790130615234, 101.89820098876953, 101.9092025756836, 101.9209976196289, 101.93360137939453, 101.9468994140625, 101.96099853515625, 101.97589874267578, 101.99150085449219, 102.00779724121094, 102.02490234375, 102.04280090332031, 102.0613021850586, 102.08059692382812, 102.10060119628906, 102.12129974365234, 102.1427001953125, 102.16480255126953, 102.18769836425781, 102.21119689941406, 102.23539733886719, 102.26020050048828, 102.28579711914062, 102.31199645996094, 102.33879852294922, 102.36630249023438, 102.39440155029297, 102.42320251464844, 102.45259857177734, 102.48269653320312, 102.51329803466797, 102.54450225830078, 102.57640075683594, 102.60880279541016, 102.64179992675781, 102.67539978027344, 102.70960235595703, 102.74430084228516, 102.77950286865234, 102.81529998779297, 102.85169982910156, 102.88860321044922, 102.9259033203125, 102.96379852294922, 103.002197265625, 103.04109954833984, 103.08049774169922, 103.12030029296875, 103.16059875488281, 103.20140075683594, 103.24259948730469, 103.2843017578125, 103.32640075683594, 103.368896484375, 103.41179656982422, 103.4551010131836, 103.4989013671875, 103.54299926757812, 103.58740234375, 103.6323013305664, 103.67749786376953, 103.7229995727539, 103.7688980102539, 103.81510162353516, 103.86160278320312, 103.90840148925781, 103.95549774169922, 104.00289916992188, 104.05059814453125, 104.09850311279297, 104.14659881591797, 104.19499969482422, 104.24369812011719, 104.2925033569336, 104.34159851074219, 104.39080047607422, 104.44020080566406, 104.48979949951172, 104.53949737548828, 104.58940124511719, 104.63939666748047, 104.68949890136719, 104.73970031738281, 104.79019927978516, 104.83979797363281, 104.89250183105469, 104.93550109863281, 104.97740173339844], [101.82469940185547, 101.82550048828125, 101.82710266113281, 101.82949829101562, 101.83270263671875, 101.83670043945312, 101.84140014648438, 101.84700012207031, 101.85340118408203, 101.8604965209961, 101.86840057373047, 101.877197265625, 101.88670349121094, 101.89689636230469, 101.90799713134766, 101.9197998046875, 101.93240356445312, 101.9457015991211, 101.95980072021484, 101.97470092773438, 101.99030303955078, 102.00659942626953, 102.0238037109375, 102.0416030883789, 102.0602035522461, 102.07939910888672, 102.09940338134766, 102.12020111083984, 102.1416015625, 102.1636962890625, 102.18659973144531, 102.21009826660156, 102.23429870605469, 102.25910186767578, 102.28469848632812, 102.31089782714844, 102.33779907226562, 102.36530303955078, 102.39340209960938, 102.42220306396484, 102.45159912109375, 102.48169708251953, 102.51229858398438, 102.5436019897461, 102.57540130615234, 102.60790252685547, 102.64089965820312, 102.67449951171875, 102.70870208740234, 102.74340057373047, 102.77870178222656, 102.81449890136719, 102.85079956054688, 102.88770294189453, 102.92510223388672, 102.96299743652344, 103.00140380859375, 103.04029846191406, 103.07969665527344, 103.11959838867188, 103.15989685058594, 103.20069885253906, 103.24189758300781, 103.28359985351562, 103.32569885253906, 103.36820220947266, 103.41120147705078, 103.45449829101562, 103.49819946289062, 103.54239654541016, 103.58679962158203, 103.63169860839844, 103.6769027709961, 103.72250366210938, 103.76840209960938, 103.8145980834961, 103.86109924316406, 103.90789794921875, 103.95500183105469, 104.00250244140625, 104.05010223388672, 104.09809875488281, 104.14620208740234, 104.1947021484375, 104.24330139160156, 104.29219818115234, 104.34120178222656, 104.3905029296875, 104.43990325927734, 104.489501953125, 104.53929901123047, 104.58920288085938, 104.63919830322266, 104.68949890136719, 104.73909759521484, 104.7916030883789, 104.83470153808594, 104.87670135498047, 104.87220001220703, 104.87940216064453], [101.82219696044922, 101.8228988647461, 101.82450103759766, 101.82689666748047, 101.8301010131836, 101.83409881591797, 101.83889770507812, 101.84449768066406, 101.85079956054688, 101.85800170898438, 101.86589813232422, 101.87460327148438, 101.88420104980469, 101.89440155029297, 101.90550231933594, 101.91729736328125, 101.92990112304688, 101.94329833984375, 101.9573974609375, 101.97229766845703, 101.98789978027344, 102.00430297851562, 102.02140045166016, 102.03919982910156, 102.05780029296875, 102.07710266113281, 102.09709930419922, 102.1178970336914, 102.13929748535156, 102.1614990234375, 102.1843032836914, 102.20790100097656, 102.23210144042969, 102.25700378417969, 102.28260040283203, 102.30879974365234, 102.33570098876953, 102.36319732666016, 102.39140319824219, 102.42019653320312, 102.44960021972656, 102.47969818115234, 102.5103988647461, 102.5416030883789, 102.57350158691406, 102.60600280761719, 102.63899993896484, 102.67269897460938, 102.70690155029297, 102.7416000366211, 102.77690124511719, 102.81279754638672, 102.8490982055664, 102.88600158691406, 102.92350006103516, 102.9614028930664, 102.99980163574219, 103.03880310058594, 103.07820129394531, 103.11810302734375, 103.15840148925781, 103.19920349121094, 103.2405014038086, 103.2822036743164, 103.32430267333984, 103.36689758300781, 103.40989685058594, 103.45320129394531, 103.49700164794922, 103.54109954833984, 103.58570098876953, 103.63059997558594, 103.67579650878906, 103.72139739990234, 103.76730346679688, 103.8135986328125, 103.86009979248047, 103.90699768066406, 103.9541015625, 104.00160217285156, 104.04930114746094, 104.09729766845703, 104.14550018310547, 104.19390106201172, 104.24259948730469, 104.29149627685547, 104.3405990600586, 104.38990020751953, 104.43939971923828, 104.48909759521484, 104.53880310058594, 104.58889770507812, 104.63839721679688, 104.6906967163086, 104.73380279541016, 104.7760009765625, 104.77539825439453, 104.78589630126953, 104.79000091552734, 104.79309844970703], [101.81829833984375, 101.81909942626953, 101.8207015991211, 101.8230972290039, 101.82630157470703, 101.8302993774414, 101.83509826660156, 101.8405990600586, 101.84700012207031, 101.85420227050781, 101.86209869384766, 101.87090301513672, 101.88040161132812, 101.89070129394531, 101.90180206298828, 101.9135971069336, 101.92620086669922, 101.9395980834961, 101.95369720458984, 101.96859741210938, 101.98429870605469, 102.00070190429688, 102.0177993774414, 102.03569793701172, 102.0542984008789, 102.07360076904297, 102.09369659423828, 102.114501953125, 102.13590240478516, 102.15809631347656, 102.18099975585938, 102.20459747314453, 102.22879791259766, 102.25370025634766, 102.279296875, 102.30560302734375, 102.3324966430664, 102.36009979248047, 102.38829803466797, 102.41719818115234, 102.44660186767578, 102.47669982910156, 102.50740051269531, 102.53880310058594, 102.5707015991211, 102.60320281982422, 102.63629913330078, 102.6698989868164, 102.7042007446289, 102.73889923095703, 102.77429962158203, 102.8102035522461, 102.84660339355469, 102.88349914550781, 102.9209976196289, 102.95899963378906, 102.99739837646484, 103.0363998413086, 103.07589721679688, 103.11579895019531, 103.15619659423828, 103.19709777832031, 103.2384033203125, 103.28009796142578, 103.32230377197266, 103.36489868164062, 103.40789794921875, 103.45130157470703, 103.49510192871094, 103.53929901123047, 103.58390045166016, 103.62879943847656, 103.67410278320312, 103.71980285644531, 103.76580047607422, 103.81199645996094, 103.85859680175781, 103.90560150146484, 103.95279693603516, 104.00029754638672, 104.0479965209961, 104.09609985351562, 104.14430236816406, 104.19280242919922, 104.2416000366211, 104.29049682617188, 104.3396987915039, 104.38909912109375, 104.4385986328125, 104.4884033203125, 104.5376968383789, 104.58979797363281, 104.63300323486328, 104.67520141601562, 104.67790222167969, 104.69090270996094, 104.69840240478516, 104.7052001953125, 104.70950317382812, 104.71179962158203], [101.81310272216797, 101.81390380859375, 101.81549835205078, 101.81790161132812, 101.82109832763672, 101.82510375976562, 101.82990264892578, 101.83550262451172, 101.84190368652344, 101.8490982055664, 101.85710144042969, 101.86579895019531, 101.87539672851562, 101.88569641113281, 101.89679718017578, 101.90859985351562, 101.92130279541016, 101.93470001220703, 101.94889831542969, 101.96379852294922, 101.97949981689453, 101.99590301513672, 102.01309967041016, 102.03099822998047, 102.04959869384766, 102.06900024414062, 102.08910369873047, 102.10990142822266, 102.13140106201172, 102.15360260009766, 102.17649841308594, 102.20020294189453, 102.22440338134766, 102.24939727783203, 102.27510070800781, 102.30139923095703, 102.32830047607422, 102.35600280761719, 102.38420104980469, 102.41310119628906, 102.44259643554688, 102.4728012084961, 102.50350189208984, 102.53489685058594, 102.56690216064453, 102.59940338134766, 102.63259887695312, 102.66629791259766, 102.70050048828125, 102.73539733886719, 102.77079772949219, 102.80670166015625, 102.84320068359375, 102.88020324707031, 102.9177017211914, 102.95570373535156, 102.99430084228516, 103.0333023071289, 103.07279968261719, 103.11280059814453, 103.1531982421875, 103.19419860839844, 103.2354965209961, 103.27729797363281, 103.3196029663086, 103.36219787597656, 103.4052963256836, 103.44879913330078, 103.4926986694336, 103.53690338134766, 103.58159637451172, 103.62660217285156, 103.6718978881836, 103.71759796142578, 103.76360321044922, 103.80999755859375, 103.85669708251953, 103.90370178222656, 103.95099639892578, 103.99849700927734, 104.04640197753906, 104.09439849853516, 104.1427993774414, 104.19139862060547, 104.24019622802734, 104.28919982910156, 104.3384017944336, 104.38800048828125, 104.43710327148438, 104.48880004882812, 104.53209686279297, 104.57450103759766, 104.57990264892578, 104.59510040283203, 104.6052017211914, 104.61489868164062, 104.62239837646484, 104.62830352783203, 104.6323013305664, 104.6343002319336], [101.80670166015625, 101.80750274658203, 101.80909729003906, 101.8115005493164, 101.814697265625, 101.8187026977539, 101.82360076904297, 101.8292007446289, 101.83560180664062, 101.8427963256836, 101.85070037841797, 101.8594970703125, 101.86910247802734, 101.87940216064453, 101.8906021118164, 101.90239715576172, 101.91510009765625, 101.92859649658203, 101.94280242919922, 101.95770263671875, 101.97339630126953, 101.98989868164062, 102.0071029663086, 102.02510070800781, 102.0438003540039, 102.06320190429688, 102.08329772949219, 102.10420227050781, 102.12570190429688, 102.14800262451172, 102.1709976196289, 102.1946029663086, 102.21900177001953, 102.24400329589844, 102.26969909667969, 102.29609680175781, 102.3230972290039, 102.35079956054688, 102.37909698486328, 102.40799713134766, 102.4375991821289, 102.4677963256836, 102.49859619140625, 102.53009796142578, 102.56210327148438, 102.5947036743164, 102.62789916992188, 102.66169738769531, 102.69599914550781, 102.73100280761719, 102.76640319824219, 102.80239868164062, 102.83889770507812, 102.8759994506836, 102.9135971069336, 102.95169830322266, 102.99030303955078, 103.02940368652344, 103.06900024414062, 103.10900115966797, 103.14959716796875, 103.19049835205078, 103.23200225830078, 103.2738037109375, 103.31620025634766, 103.35890197753906, 103.402099609375, 103.44560241699219, 103.4896011352539, 103.53389739990234, 103.57859802246094, 103.62370300292969, 103.66909790039062, 103.71489715576172, 103.76100158691406, 103.80750274658203, 103.85420227050781, 103.90129852294922, 103.94869995117188, 103.99629974365234, 104.04419708251953, 104.09239959716797, 104.14089965820312, 104.1895980834961, 104.2384033203125, 104.2876968383789, 104.33650207519531, 104.38790130615234, 104.43119812011719, 104.47370147705078, 104.48159790039062, 104.49870300292969, 104.51110076904297, 104.52320098876953, 104.53340148925781, 104.54209899902344, 104.54920196533203, 104.55460357666016, 104.55819702148438, 104.56009674072266], [101.79900360107422, 101.79979705810547, 101.80139923095703, 101.80380249023438, 101.80699920654297, 101.81099700927734, 101.81590270996094, 101.82150268554688, 101.8279037475586, 101.83509826660156, 101.84310150146484, 101.85189819335938, 101.86150360107422, 101.87190246582031, 101.88310241699219, 101.8949966430664, 101.90769958496094, 101.92120361328125, 101.9354019165039, 101.95050048828125, 101.96620178222656, 101.98269653320312, 102.0, 102.01799774169922, 102.03669738769531, 102.05619812011719, 102.07640075683594, 102.09729766845703, 102.118896484375, 102.14129638671875, 102.16429901123047, 102.18800354003906, 102.21240234375, 102.23750305175781, 102.26329803466797, 102.28970336914062, 102.31680297851562, 102.34449768066406, 102.3729019165039, 102.4020004272461, 102.43160247802734, 102.46189880371094, 102.4927978515625, 102.52429962158203, 102.556396484375, 102.58910369873047, 102.62239837646484, 102.65619659423828, 102.69059753417969, 102.72560119628906, 102.76110076904297, 102.79720306396484, 102.83380126953125, 102.87100219726562, 102.90869903564453, 102.9468002319336, 102.9854965209961, 103.02469635009766, 103.06439971923828, 103.10449981689453, 103.14510345458984, 103.18620300292969, 103.22769927978516, 103.26969909667969, 103.31210327148438, 103.35489654541016, 103.39810180664062, 103.44180297851562, 103.48580169677734, 103.5302963256836, 103.57510375976562, 103.62030029296875, 103.66580200195312, 103.71170043945312, 103.75789642333984, 103.80439758300781, 103.85130310058594, 103.89849853515625, 103.9458999633789, 103.99369812011719, 104.04170227050781, 104.08999633789062, 104.13849639892578, 104.1875, 104.23600006103516, 104.28700256347656, 104.3302993774414, 104.3729019165039, 104.38310241699219, 104.40190124511719, 104.41639709472656, 104.43049621582031, 104.44300079345703, 104.4542007446289, 104.46379852294922, 104.47200012207031, 104.47869873046875, 104.48370361328125, 104.48709869384766, 104.48880004882812], [101.78990173339844, 101.79070281982422, 101.79229736328125, 101.7947998046875, 101.7979965209961, 101.802001953125, 101.80690002441406, 101.8125, 101.81900024414062, 101.82620239257812, 101.83429718017578, 101.84310150146484, 101.85269927978516, 101.86309814453125, 101.87429809570312, 101.88629913330078, 101.89910125732422, 101.91259765625, 101.9269027709961, 101.94200134277344, 101.95780181884766, 101.97429656982422, 101.99169921875, 102.00969696044922, 102.02850341796875, 102.04810333251953, 102.06829833984375, 102.08930206298828, 102.11100006103516, 102.1333999633789, 102.15650177001953, 102.1802978515625, 102.20480346679688, 102.22989654541016, 102.25579833984375, 102.28230285644531, 102.30950164794922, 102.3373031616211, 102.3656997680664, 102.3947982788086, 102.42459869384766, 102.45500183105469, 102.48590087890625, 102.51750183105469, 102.54969787597656, 102.5824966430664, 102.61579895019531, 102.6498031616211, 102.6843032836914, 102.71939849853516, 102.75499725341797, 102.79119873046875, 102.8279037475586, 102.86509704589844, 102.90290069580078, 102.94120025634766, 102.97989654541016, 103.01920318603516, 103.05899810791016, 103.09919738769531, 103.13990020751953, 103.18109893798828, 103.22270202636719, 103.26480102539062, 103.30729675292969, 103.3501968383789, 103.39360046386719, 103.43730163574219, 103.48149871826172, 103.5260009765625, 103.57099914550781, 103.61620330810547, 103.66190338134766, 103.70790100097656, 103.75420379638672, 103.8009033203125, 103.847900390625, 103.89520263671875, 103.94270324707031, 103.9906005859375, 104.0386962890625, 104.0873031616211, 104.135498046875, 104.18609619140625, 104.22940063476562, 104.27200317382812, 104.2844009399414, 104.30480194091797, 104.32109832763672, 104.33709716796875, 104.35160064697266, 104.36499786376953, 104.37689971923828, 104.38749694824219, 104.39669799804688, 104.40450286865234, 104.41079711914062, 104.41549682617188, 104.418701171875, 104.42030334472656], [101.77960205078125, 101.78040313720703, 101.78199768066406, 101.7844009399414, 101.7876968383789, 101.79180145263672, 101.79660034179688, 101.80229949951172, 101.80879974365234, 101.81600189208984, 101.8240966796875, 101.83300018310547, 101.84259796142578, 101.85310363769531, 101.8644027709961, 101.87640380859375, 101.88919830322266, 101.90280151367188, 101.91709899902344, 101.93219757080078, 101.9480972290039, 101.9646987915039, 101.98210144042969, 102.00029754638672, 102.01909637451172, 102.0386962890625, 102.05909729003906, 102.0801010131836, 102.10189819335938, 102.12439727783203, 102.14759826660156, 102.17140197753906, 102.19599914550781, 102.22129821777344, 102.24720001220703, 102.2738037109375, 102.30110168457031, 102.3290023803711, 102.35749816894531, 102.38670349121094, 102.4166030883789, 102.4469985961914, 102.47810363769531, 102.50980377197266, 102.54209899902344, 102.57499694824219, 102.6083984375, 102.64250183105469, 102.6771011352539, 102.7123031616211, 102.74800109863281, 102.7843017578125, 102.82109832763672, 102.8583984375, 102.89630126953125, 102.93470001220703, 102.97360229492188, 103.01300048828125, 103.05280303955078, 103.09320068359375, 103.13400268554688, 103.17530059814453, 103.21700286865234, 103.25920104980469, 103.30180358886719, 103.34490203857422, 103.38839721679688, 103.43219757080078, 103.47650146484375, 103.52120208740234, 103.56620025634766, 103.61160278320312, 103.65740203857422, 103.70359802246094, 103.75, 103.79679870605469, 103.84390258789062, 103.89140319824219, 103.93900299072266, 103.98719787597656, 104.03500366210938, 104.08519744873047, 104.12850189208984, 104.17120361328125, 104.18550109863281, 104.2073974609375, 104.22540283203125, 104.24320220947266, 104.25959777832031, 104.2748031616211, 104.28880310058594, 104.30159759521484, 104.31310272216797, 104.32319641113281, 104.33200073242188, 104.33930206298828, 104.34529876708984, 104.34980010986328, 104.35279846191406, 104.35430145263672], [101.76789855957031, 101.7686996459961, 101.77040100097656, 101.77279663085938, 101.7761001586914, 101.78019714355469, 101.78500366210938, 101.79070281982422, 101.79720306396484, 101.80460357666016, 101.81269836425781, 101.82160186767578, 101.831298828125, 101.841796875, 101.85310363769531, 101.86519622802734, 101.87799835205078, 101.8917007446289, 101.90609741210938, 101.92130279541016, 101.93720245361328, 101.95390319824219, 101.97139739990234, 101.9896011352539, 102.00859832763672, 102.0281982421875, 102.04869842529297, 102.0698013305664, 102.0916976928711, 102.11419677734375, 102.13749694824219, 102.1614990234375, 102.18620300292969, 102.21150207519531, 102.23750305175781, 102.26419830322266, 102.2916030883789, 102.3196029663086, 102.34829711914062, 102.37760162353516, 102.40750122070312, 102.43810272216797, 102.46929931640625, 102.5010986328125, 102.53350067138672, 102.56649780273438, 102.60009765625, 102.63420104980469, 102.66899871826172, 102.7042007446289, 102.74009704589844, 102.77649688720703, 102.81340026855469, 102.85089874267578, 102.88890075683594, 102.92739868164062, 102.96640014648438, 103.00589752197266, 103.0458984375, 103.0864028930664, 103.1272964477539, 103.168701171875, 103.21060180664062, 103.25289916992188, 103.29570007324219, 103.33889770507812, 103.38249969482422, 103.42649841308594, 103.47090148925781, 103.51570129394531, 103.56089782714844, 103.60649871826172, 103.65239715576172, 103.69869995117188, 103.74530029296875, 103.79219818115234, 103.8395004272461, 103.88719940185547, 103.93460083007812, 103.98429870605469, 104.02760314941406, 104.07039642333984, 104.08660125732422, 104.10980224609375, 104.12950134277344, 104.1489028930664, 104.16690063476562, 104.18399810791016, 104.19979858398438, 104.2145004272461, 104.22799682617188, 104.24030303955078, 104.25129699707031, 104.26100158691406, 104.26940155029297, 104.27649688720703, 104.2822036743164, 104.2864990234375, 104.28929901123047, 104.29080200195312], [101.75489807128906, 101.75579833984375, 101.75740051269531, 101.75990295410156, 101.76309967041016, 101.76719665527344, 101.77220153808594, 101.77790069580078, 101.7844009399414, 101.79180145263672, 101.79989624023438, 101.80889892578125, 101.818603515625, 101.8292007446289, 101.8405990600586, 101.85269927978516, 101.8656005859375, 101.87940216064453, 101.893798828125, 101.90910339355469, 101.92510223388672, 101.94190216064453, 101.95950317382812, 101.97779846191406, 101.9968032836914, 102.0166015625, 102.03710174560547, 102.05829620361328, 102.0802993774414, 102.10299682617188, 102.12629699707031, 102.15039825439453, 102.17520141601562, 102.20069885253906, 102.22679901123047, 102.25360107421875, 102.28109741210938, 102.30919647216797, 102.33799743652344, 102.36740112304688, 102.39749908447266, 102.4281997680664, 102.45950317382812, 102.49140167236328, 102.5239028930664, 102.55709838867188, 102.5907974243164, 102.6250991821289, 102.65989685058594, 102.69529724121094, 102.7313003540039, 102.7677993774414, 102.80490112304688, 102.84249877929688, 102.88059997558594, 102.91929626464844, 102.9583969116211, 102.99800109863281, 103.03820037841797, 103.07879638671875, 103.11990356445312, 103.1614990234375, 103.20349884033203, 103.24590301513672, 103.28880310058594, 103.33219909667969, 103.37590026855469, 103.42009735107422, 103.4646987915039, 103.50959777832031, 103.55500030517578, 103.60070037841797, 103.64679718017578, 103.69319915771484, 103.73999786376953, 103.78720092773438, 103.83429718017578, 103.8833999633789, 103.92669677734375, 103.96949768066406, 103.98750305175781, 104.01200103759766, 104.033203125, 104.05419921875, 104.07379913330078, 104.09249877929688, 104.11009979248047, 104.12660217285156, 104.14199829101562, 104.15619659423828, 104.16919708251953, 104.18109893798828, 104.19170379638672, 104.20099639892578, 104.20909881591797, 104.21589660644531, 104.22129821777344, 104.22540283203125, 104.22820281982422, 104.22949981689453], [101.7406005859375, 101.74150085449219, 101.74310302734375, 101.74559783935547, 101.7489013671875, 101.75299835205078, 101.75800323486328, 101.76370239257812, 101.77030181884766, 101.77770233154297, 101.78589630126953, 101.7948989868164, 101.80470275878906, 101.81529998779297, 101.82679748535156, 101.83899688720703, 101.85199737548828, 101.86579895019531, 101.88030242919922, 101.89569854736328, 101.91179656982422, 101.92870330810547, 101.94629669189453, 101.9646987915039, 101.98380279541016, 102.00370025634766, 102.02429962158203, 102.04570007324219, 102.06780242919922, 102.09049987792969, 102.11399841308594, 102.13819885253906, 102.16310119628906, 102.1886978149414, 102.21499633789062, 102.24189758300781, 102.26950073242188, 102.29779815673828, 102.32669830322266, 102.3563003540039, 102.38639831542969, 102.41729736328125, 102.44869995117188, 102.48079681396484, 102.51339721679688, 102.54669952392578, 102.58049774169922, 102.61499786376953, 102.6500015258789, 102.68550109863281, 102.72160339355469, 102.75830078125, 102.79550170898438, 102.83329772949219, 102.87149810791016, 102.9103012084961, 102.94960021972656, 102.9894027709961, 103.02970123291016, 103.07050323486328, 103.11170196533203, 103.15339660644531, 103.19560241699219, 103.23819732666016, 103.28130340576172, 103.32479858398438, 103.36869812011719, 103.41310119628906, 103.45780181884766, 103.50299835205078, 103.54850006103516, 103.59439849853516, 103.6406021118164, 103.68730163574219, 103.73400115966797, 103.78240203857422, 103.82579803466797, 103.86869812011719, 103.88829803466797, 103.91410064697266, 103.93679809570312, 103.95919799804688, 103.98030090332031, 104.00060272216797, 104.0197982788086, 104.03790283203125, 104.05500030517578, 104.07109832763672, 104.08599853515625, 104.09980010986328, 104.11239624023438, 104.1238021850586, 104.13410186767578, 104.14309692382812, 104.1509017944336, 104.15740203857422, 104.16259765625, 104.1666030883789, 104.16919708251953, 104.17050170898438], [101.7249984741211, 101.72579956054688, 101.72750091552734, 101.7300033569336, 101.7332992553711, 101.73750305175781, 101.74240112304688, 101.74819946289062, 101.75489807128906, 101.76229858398438, 101.77059936523438, 101.77960205078125, 101.78949737548828, 101.80020141601562, 101.81169891357422, 101.8239974975586, 101.83699798583984, 101.85089874267578, 101.8656005859375, 101.88099670410156, 101.89720153808594, 101.91419982910156, 101.93190002441406, 101.95040130615234, 101.9697036743164, 101.98970031738281, 102.0103988647461, 102.03189849853516, 102.0541000366211, 102.0770034790039, 102.10060119628906, 102.1249008178711, 102.1500015258789, 102.17569732666016, 102.20210266113281, 102.2291030883789, 102.25689697265625, 102.2853012084961, 102.31430053710938, 102.34400177001953, 102.37439727783203, 102.40540313720703, 102.43689727783203, 102.46910095214844, 102.50199890136719, 102.535400390625, 102.56939697265625, 102.60399627685547, 102.63909912109375, 102.67479705810547, 102.71109771728516, 102.7479019165039, 102.7853012084961, 102.82319641113281, 102.86160278320312, 102.90059661865234, 102.94000244140625, 102.9800033569336, 103.02040100097656, 103.0614013671875, 103.10279846191406, 103.14469909667969, 103.18699645996094, 103.22979736328125, 103.27310180664062, 103.31670379638672, 103.36090087890625, 103.40540313720703, 103.45030212402344, 103.49559783935547, 103.54129791259766, 103.5875015258789, 103.63369750976562, 103.68150329589844, 103.72489929199219, 103.7677993774414, 103.78910064697266, 103.81610107421875, 103.84010314941406, 103.86389923095703, 103.8864974975586, 103.908203125, 103.92890167236328, 103.94869995117188, 103.96739959716797, 103.98509979248047, 104.00170135498047, 104.01730346679688, 104.03179931640625, 104.04519653320312, 104.05740356445312, 104.06849670410156, 104.07839965820312, 104.08719635009766, 104.0947036743164, 104.10099792480469, 104.10600280761719, 104.10980224609375, 104.11239624023438, 104.11360168457031], [101.70809936523438, 101.70890045166016, 101.71060180664062, 101.71309661865234, 101.71640014648438, 101.72059631347656, 101.72560119628906, 101.73139953613281, 101.73809814453125, 101.74559783935547, 101.75389862060547, 101.76300048828125, 101.77300262451172, 101.78369903564453, 101.79530334472656, 101.80770111083984, 101.8208999633789, 101.83480072021484, 101.84960174560547, 101.86509704589844, 101.88140106201172, 101.89849853515625, 101.91639709472656, 101.93499755859375, 101.95429992675781, 101.97440338134766, 101.99530029296875, 102.01689910888672, 102.03919982910156, 102.06230163574219, 102.08599853515625, 102.1104965209961, 102.13569641113281, 102.1614990234375, 102.18810272216797, 102.21530151367188, 102.24320220947266, 102.27169799804688, 102.3010025024414, 102.33080291748047, 102.36129760742188, 102.39240264892578, 102.42420196533203, 102.45659637451172, 102.489501953125, 102.52310180664062, 102.55729675292969, 102.59200286865234, 102.6272964477539, 102.66320037841797, 102.69969940185547, 102.73670196533203, 102.77420043945312, 102.81230163574219, 102.85089874267578, 102.88999938964844, 102.92960357666016, 102.96980285644531, 103.0103988647461, 103.05149841308594, 103.09310150146484, 103.13520050048828, 103.17769622802734, 103.220703125, 103.26409912109375, 103.30799865722656, 103.35230255126953, 103.39700317382812, 103.44219970703125, 103.48780059814453, 103.53340148925781, 103.58059692382812, 103.6240005493164, 103.66690063476562, 103.6897964477539, 103.71800231933594, 103.74330139160156, 103.76840209960938, 103.79229736328125, 103.81539916992188, 103.83760070800781, 103.85880279541016, 103.87909698486328, 103.89839935302734, 103.91670227050781, 103.93389892578125, 103.95010375976562, 103.96530151367188, 103.97940063476562, 103.99240112304688, 104.00430297851562, 104.01509857177734, 104.02469635009766, 104.033203125, 104.04049682617188, 104.04660034179688, 104.05139923095703, 104.05509948730469, 104.05760192871094, 104.05879974365234], [101.689697265625, 101.69059753417969, 101.69229888916016, 101.6948013305664, 101.69819641113281, 101.70240020751953, 101.7073974609375, 101.71330261230469, 101.72000122070312, 101.72760009765625, 101.73590087890625, 101.74510192871094, 101.75520324707031, 101.76599884033203, 101.77760314941406, 101.79010009765625, 101.80339813232422, 101.81739807128906, 101.8322982788086, 101.847900390625, 101.8644027709961, 101.88159942626953, 101.89949798583984, 101.91829681396484, 101.93779754638672, 101.95800018310547, 101.97899627685547, 102.00080108642578, 102.02320098876953, 102.04640197753906, 102.07029724121094, 102.09490203857422, 102.12030029296875, 102.14630126953125, 102.1729965209961, 102.20040130615234, 102.22840118408203, 102.2571029663086, 102.2864990234375, 102.31649780273438, 102.34719848632812, 102.37850189208984, 102.410400390625, 102.44300079345703, 102.4760971069336, 102.50990295410156, 102.54419708251953, 102.5791015625, 102.6146011352539, 102.65070343017578, 102.68730163574219, 102.72450256347656, 102.76219940185547, 102.80049896240234, 102.83930206298828, 102.87860107421875, 102.91840362548828, 102.95870208740234, 102.99949645996094, 103.04080200195312, 103.08260345458984, 103.1249008178711, 103.1676025390625, 103.21080017089844, 103.25450134277344, 103.29859924316406, 103.34310150146484, 103.38809967041016, 103.43319702148438, 103.47969818115234, 103.52310180664062, 103.56610107421875, 103.59049987792969, 103.61969757080078, 103.64630126953125, 103.67269897460938, 103.6978988647461, 103.72239685058594, 103.74590301513672, 103.76860046386719, 103.79029846191406, 103.81099700927734, 103.83090209960938, 103.84970092773438, 103.86759948730469, 103.8843994140625, 103.90029907226562, 103.91510009765625, 103.92880249023438, 103.94149780273438, 103.9530029296875, 103.9635009765625, 103.972900390625, 103.9811019897461, 103.98819732666016, 103.99410247802734, 103.9988021850586, 104.00240325927734, 104.00479888916016, 104.00599670410156], [101.66999816894531, 101.6708984375, 101.67259979248047, 101.67520141601562, 101.67859649658203, 101.68280029296875, 101.68789672851562, 101.69380187988281, 101.70059967041016, 101.70819854736328, 101.71659851074219, 101.72589874267578, 101.73600006103516, 101.74690246582031, 101.75869750976562, 101.77120208740234, 101.78459930419922, 101.79879760742188, 101.8136978149414, 101.82949829101562, 101.84600067138672, 101.8634033203125, 101.88150024414062, 101.90039825439453, 101.91999816894531, 101.94039916992188, 101.96150207519531, 101.9833984375, 102.00599670410156, 102.02940368652344, 102.05339813232422, 102.07820129394531, 102.10369873046875, 102.12989807128906, 102.15679931640625, 102.1843032836914, 102.21260070800781, 102.24150085449219, 102.27100372314453, 102.30120086669922, 102.33209991455078, 102.36360168457031, 102.39569854736328, 102.42839813232422, 102.46170043945312, 102.49569702148438, 102.53019714355469, 102.56529998779297, 102.60099792480469, 102.63729858398438, 102.67410278320312, 102.71150207519531, 102.74939727783203, 102.78790283203125, 102.82689666748047, 102.86640167236328, 102.90640258789062, 102.9468994140625, 102.98789978027344, 103.02940368652344, 103.07140350341797, 103.11389923095703, 103.15679931640625, 103.20020294189453, 103.24410247802734, 103.28839874267578, 103.33309936523438, 103.37879943847656, 103.42220306396484, 103.46520233154297, 103.49109649658203, 103.52140045166016, 103.54920196533203, 103.57679748535156, 103.60330200195312, 103.62899780273438, 103.65390014648438, 103.67790222167969, 103.70099639892578, 103.72319793701172, 103.74440002441406, 103.76480102539062, 103.7842025756836, 103.80259704589844, 103.82009887695312, 103.83660125732422, 103.85199737548828, 103.86650085449219, 103.87989807128906, 103.89230346679688, 103.90360260009766, 103.91380310058594, 103.92289733886719, 103.93090057373047, 103.93779754638672, 103.94349670410156, 103.9480972290039, 103.95159912109375, 103.95390319824219, 103.9551010131836], [101.64900207519531, 101.64990234375, 101.65160369873047, 101.6541976928711, 101.65760040283203, 101.66190338134766, 101.66699981689453, 101.6729965209961, 101.67980194091797, 101.6875, 101.69599914550781, 101.7052993774414, 101.71549987792969, 101.72660064697266, 101.7384033203125, 101.7509994506836, 101.7645034790039, 101.77880096435547, 101.79389953613281, 101.80979919433594, 101.82649993896484, 101.84400177001953, 101.86219787597656, 101.8812026977539, 101.9010009765625, 101.92160034179688, 101.94280242919922, 101.96489715576172, 101.98770141601562, 102.01119995117188, 102.035400390625, 102.0604019165039, 102.08609771728516, 102.11239624023438, 102.1395034790039, 102.16719818115234, 102.19560241699219, 102.22470092773438, 102.25450134277344, 102.28489685058594, 102.31590270996094, 102.34760284423828, 102.37989807128906, 102.41290283203125, 102.44640350341797, 102.48049926757812, 102.51529693603516, 102.55059814453125, 102.58650207519531, 102.62300109863281, 102.66000366210938, 102.69760131835938, 102.73570251464844, 102.77439880371094, 102.8135986328125, 102.85330200195312, 102.89350128173828, 102.9343032836914, 102.97550201416016, 103.01719665527344, 103.05940246582031, 103.10209655761719, 103.14530181884766, 103.18890380859375, 103.23300170898438, 103.27790069580078, 103.32119750976562, 103.36430358886719, 103.3917007446289, 103.4229965209961, 103.4520034790039, 103.48069763183594, 103.50849914550781, 103.535400390625, 103.5615005493164, 103.58679962158203, 103.61119842529297, 103.63480377197266, 103.65740203857422, 103.67919921875, 103.70010375976562, 103.72000122070312, 103.73909759521484, 103.7571029663086, 103.77420043945312, 103.79039764404297, 103.80549621582031, 103.8196029663086, 103.83270263671875, 103.84480285644531, 103.85579681396484, 103.86579895019531, 103.87460327148438, 103.88240051269531, 103.88919830322266, 103.8947982788086, 103.89920043945312, 103.90260314941406, 103.90489959716797, 103.90599822998047], [101.62660217285156, 101.62740325927734, 101.62920379638672, 101.63179779052734, 101.63520050048828, 101.6395034790039, 101.64469909667969, 101.65080261230469, 101.65769958496094, 101.66539764404297, 101.67400360107422, 101.68340301513672, 101.6937026977539, 101.70480346679688, 101.716796875, 101.72959899902344, 101.74320220947266, 101.75759887695312, 101.77279663085938, 101.78880310058594, 101.80560302734375, 101.82330322265625, 101.84159851074219, 101.86080169677734, 101.88079833984375, 101.90149688720703, 101.9229965209961, 101.94519805908203, 101.96820068359375, 101.9917984008789, 102.01629638671875, 102.04139709472656, 102.06729888916016, 102.09380340576172, 102.12110137939453, 102.14900207519531, 102.17759704589844, 102.20690155029297, 102.23690032958984, 102.26750183105469, 102.29879760742188, 102.33070373535156, 102.36319732666016, 102.39630126953125, 102.43009948730469, 102.46440124511719, 102.49939727783203, 102.53500366210938, 102.57109832763672, 102.60780334472656, 102.6449966430664, 102.68280029296875, 102.72119903564453, 102.76010131835938, 102.79949951171875, 102.83940124511719, 102.87989807128906, 102.9207992553711, 102.9623031616211, 103.00420379638672, 103.04660034179688, 103.0895004272461, 103.13289642333984, 103.177001953125, 103.22029876708984, 103.26349639892578, 103.29219818115234, 103.32460021972656, 103.35469818115234, 103.38459777832031, 103.41339874267578, 103.44159698486328, 103.46890258789062, 103.49539947509766, 103.52110290527344, 103.5459976196289, 103.56999969482422, 103.59310150146484, 103.61540222167969, 103.63680267333984, 103.65730285644531, 103.67680358886719, 103.69550323486328, 103.71320343017578, 103.72989654541016, 103.74569702148438, 103.7605972290039, 103.77439880371094, 103.78720092773438, 103.79900360107422, 103.80979919433594, 103.81950378417969, 103.82820129394531, 103.83580017089844, 103.84230041503906, 103.8478012084961, 103.85220336914062, 103.85549926757812, 103.85769653320312, 103.85880279541016], [101.60269927978516, 101.60359954833984, 101.60540008544922, 101.60800170898438, 101.61150360107422, 101.61579895019531, 101.62110137939453, 101.627197265625, 101.63410186767578, 101.64199829101562, 101.65059661865234, 101.66020202636719, 101.67060089111328, 101.68180084228516, 101.69380187988281, 101.70670318603516, 101.72049713134766, 101.73500061035156, 101.75039672851562, 101.7666015625, 101.78350067138672, 101.80130004882812, 101.81990051269531, 101.83920288085938, 101.85929870605469, 101.88020324707031, 101.90190124511719, 101.92430114746094, 101.94740295410156, 101.97129821777344, 101.99590301513672, 102.02130126953125, 102.04740142822266, 102.0740966796875, 102.10160064697266, 102.12969970703125, 102.15859985351562, 102.18810272216797, 102.21820068359375, 102.24909973144531, 102.28060150146484, 102.31269836425781, 102.34539794921875, 102.37879943847656, 102.41280364990234, 102.44740295410156, 102.48259735107422, 102.51840209960938, 102.55470275878906, 102.59159851074219, 102.62909698486328, 102.66719818115234, 102.70580291748047, 102.74490356445312, 102.78459930419922, 102.82469940185547, 102.86540222167969, 102.90660095214844, 102.94830322265625, 102.99040222167969, 103.03299713134766, 103.07610321044922, 103.11940002441406, 103.16259765625, 103.19280242919922, 103.2261962890625, 103.25749969482422, 103.28839874267578, 103.31839752197266, 103.34760284423828, 103.3760986328125, 103.40380096435547, 103.43070220947266, 103.45680236816406, 103.48210144042969, 103.50650024414062, 103.53009796142578, 103.55290222167969, 103.57469940185547, 103.5958023071289, 103.61589813232422, 103.63510131835938, 103.65339660644531, 103.6707992553711, 103.68720245361328, 103.70269775390625, 103.71720123291016, 103.73079681396484, 103.74330139160156, 103.75479888916016, 103.7654037475586, 103.77490234375, 103.78340148925781, 103.79080200195312, 103.79720306396484, 103.80259704589844, 103.80690002441406, 103.81009674072266, 103.81220245361328, 103.81330108642578], [101.57749938964844, 101.57839965820312, 101.5801010131836, 101.58280181884766, 101.5863037109375, 101.5906982421875, 101.59600067138672, 101.60220336914062, 101.60919952392578, 101.61710357666016, 101.62590026855469, 101.635498046875, 101.64600372314453, 101.65740203857422, 101.66960144042969, 101.68260192871094, 101.69640350341797, 101.71109771728516, 101.72669982910156, 101.74299621582031, 101.76010131835938, 101.7780990600586, 101.79679870605469, 101.81629943847656, 101.83660125732422, 101.85769653320312, 101.87960052490234, 101.9021987915039, 101.92549896240234, 101.94960021972656, 101.97440338134766, 102.0, 102.02629852294922, 102.05329895019531, 102.08100128173828, 102.10929870605469, 102.13839721679688, 102.16809844970703, 102.19850158691406, 102.22959899902344, 102.26129913330078, 102.293701171875, 102.32669830322266, 102.36029815673828, 102.39450073242188, 102.42939758300781, 102.46479797363281, 102.50080108642578, 102.53739929199219, 102.57460021972656, 102.61239624023438, 102.65070343017578, 102.68949890136719, 102.72889709472656, 102.768798828125, 102.80919647216797, 102.8501968383789, 102.8916015625, 102.93350219726562, 102.97589874267578, 103.01860046386719, 103.06179809570312, 103.09390258789062, 103.1281967163086, 103.160400390625, 103.19229888916016, 103.22329711914062, 103.25360107421875, 103.28309631347656, 103.31199645996094, 103.33999633789062, 103.36730194091797, 103.393798828125, 103.41940307617188, 103.44429779052734, 103.46839904785156, 103.4916000366211, 103.51399993896484, 103.5354995727539, 103.55619812011719, 103.57599639892578, 103.59480285644531, 103.61280059814453, 103.62989807128906, 103.64600372314453, 103.66120147705078, 103.67549896240234, 103.6886978149414, 103.70099639892578, 103.71240234375, 103.72270202636719, 103.73200225830078, 103.74030303955078, 103.74759674072266, 103.75389862060547, 103.75910186767578, 103.76329803466797, 103.76640319824219, 103.76850128173828, 103.76959991455078], [101.55079650878906, 101.55169677734375, 101.55349731445312, 101.55619812011719, 101.55979919433594, 101.56420135498047, 101.5696029663086, 101.57579803466797, 101.58290100097656, 101.59089660644531, 101.59980010986328, 101.6094970703125, 101.62010192871094, 101.63159942626953, 101.6438980102539, 101.65709686279297, 101.67109680175781, 101.68589782714844, 101.70159912109375, 101.71810150146484, 101.73539733886719, 101.75360107421875, 101.77249908447266, 101.79219818115234, 101.81269836425781, 101.83399963378906, 101.85600280761719, 101.87879943847656, 101.90239715576172, 101.92669677734375, 101.95179748535156, 101.97760009765625, 102.00409698486328, 102.03130340576172, 102.05919647216797, 102.08779907226562, 102.11710357666016, 102.14710235595703, 102.17780303955078, 102.20909881591797, 102.24099731445312, 102.27369689941406, 102.30690002441406, 102.3407974243164, 102.37529754638672, 102.410400390625, 102.44609832763672, 102.4823989868164, 102.51920318603516, 102.55670166015625, 102.5947036743164, 102.63330078125, 102.67240142822266, 102.71199798583984, 102.752197265625, 102.79290008544922, 102.83399963378906, 102.87590026855469, 102.9177017211914, 102.96109771728516, 103.00420379638672, 103.03369903564453, 103.06500244140625, 103.0969009399414, 103.12860107421875, 103.15969848632812, 103.19020080566406, 103.22000122070312, 103.24909973144531, 103.27749633789062, 103.30509948730469, 103.33200073242188, 103.35810089111328, 103.3833999633789, 103.40789794921875, 103.43160247802734, 103.45449829101562, 103.47650146484375, 103.4977035522461, 103.51799774169922, 103.5374984741211, 103.55609893798828, 103.57369995117188, 103.59049987792969, 103.6063003540039, 103.62129974365234, 103.63520050048828, 103.64830017089844, 103.660400390625, 103.67150115966797, 103.68160247802734, 103.6906967163086, 103.69889831542969, 103.70600128173828, 103.71219635009766, 103.71730041503906, 103.72139739990234, 103.72450256347656, 103.72650146484375, 103.72760009765625], [101.52269744873047, 101.52359771728516, 101.52539825439453, 101.5280990600586, 101.53179931640625, 101.53630065917969, 101.54170227050781, 101.5479965209961, 101.5551986694336, 101.56330108642578, 101.57230377197266, 101.58209991455078, 101.5927963256836, 101.60440063476562, 101.61689758300781, 101.63020324707031, 101.64440155029297, 101.6594009399414, 101.67520141601562, 101.69190216064453, 101.70939636230469, 101.72769927978516, 101.74690246582031, 101.76679992675781, 101.7874984741211, 101.80899810791016, 101.831298828125, 101.85430145263672, 101.87809753417969, 101.90260314941406, 101.92790222167969, 101.9540023803711, 101.98069763183594, 102.0082015991211, 102.03630065917969, 102.06520080566406, 102.09480285644531, 102.125, 102.15589904785156, 102.1875, 102.2197036743164, 102.25260162353516, 102.28610229492188, 102.32029724121094, 102.3550033569336, 102.3904037475586, 102.42639923095703, 102.46299743652344, 102.5000991821289, 102.53780364990234, 102.57610321044922, 102.61499786376953, 102.65440368652344, 102.69429779052734, 102.73470306396484, 102.7759017944336, 102.81680297851562, 102.86009979248047, 102.9032974243164, 102.93569946289062, 102.97039794921875, 103.00289916992188, 103.03479766845703, 103.06639862060547, 103.09750366210938, 103.1281967163086, 103.158203125, 103.1875991821289, 103.21630096435547, 103.24430084228516, 103.27149963378906, 103.2979965209961, 103.32369995117188, 103.34870147705078, 103.372802734375, 103.39620208740234, 103.418701171875, 103.44039916992188, 103.4613037109375, 103.4813003540039, 103.50039672851562, 103.5186996459961, 103.53610229492188, 103.55259704589844, 103.56819915771484, 103.58280181884766, 103.59660339355469, 103.6093978881836, 103.62120056152344, 103.6321029663086, 103.64209747314453, 103.6511001586914, 103.65910339355469, 103.66609954833984, 103.6720962524414, 103.6771011352539, 103.68109893798828, 103.68419647216797, 103.68620300292969, 103.68720245361328], [101.49310302734375, 101.49400329589844, 101.49590301513672, 101.49859619140625, 101.5022964477539, 101.50689697265625, 101.51239776611328, 101.518798828125, 101.5260009765625, 101.5342025756836, 101.54329681396484, 101.55329895019531, 101.56420135498047, 101.57589721679688, 101.5885009765625, 101.60199737548828, 101.61630249023438, 101.63150024414062, 101.64749908447266, 101.66439819335938, 101.68209838867188, 101.70059967041016, 101.72000122070312, 101.74009704589844, 101.76100158691406, 101.78279876708984, 101.8052978515625, 101.82849884033203, 101.85260009765625, 101.87740325927734, 101.90290069580078, 101.92919921875, 101.9561996459961, 101.98390197753906, 102.01239776611328, 102.04149627685547, 102.07129669189453, 102.10179901123047, 102.13300323486328, 102.16490173339844, 102.19740295410156, 102.23059844970703, 102.26429748535156, 102.29879760742188, 102.33380126953125, 102.36949920654297, 102.40570068359375, 102.44259643554688, 102.4800033569336, 102.51809692382812, 102.55660247802734, 102.5958023071289, 102.6353988647461, 102.6759033203125, 102.71589660644531, 102.75920104980469, 102.80249786376953, 102.8363037109375, 102.87229919433594, 102.90660095214844, 102.94029998779297, 102.9729995727539, 103.00499725341797, 103.0364990234375, 103.06729888916016, 103.09760284423828, 103.1272964477539, 103.15630340576172, 103.18460083007812, 103.21219635009766, 103.23909759521484, 103.26519775390625, 103.29060363769531, 103.31520080566406, 103.33899688720703, 103.36209869384766, 103.3843002319336, 103.40570068359375, 103.42620086669922, 103.4458999633789, 103.46479797363281, 103.48280334472656, 103.4999008178711, 103.51609802246094, 103.53150177001953, 103.5458984375, 103.55940246582031, 103.5719985961914, 103.58370208740234, 103.59439849853516, 103.60420227050781, 103.61299896240234, 103.62079620361328, 103.62770080566406, 103.63359832763672, 103.63860321044922, 103.64250183105469, 103.64550018310547, 103.64749908447266, 103.64839935302734], [101.46209716796875, 101.46299743652344, 101.46489715576172, 101.46759796142578, 101.47139739990234, 101.47599792480469, 101.48159790039062, 101.48799896240234, 101.49539947509766, 101.50370025634766, 101.51300048828125, 101.52310180664062, 101.53410339355469, 101.5459976196289, 101.55870056152344, 101.57240295410156, 101.58689880371094, 101.60230255126953, 101.61849975585938, 101.6355972290039, 101.65350341796875, 101.67220306396484, 101.69180297851562, 101.71209716796875, 101.7332992553711, 101.75530242919922, 101.77799987792969, 101.80149841308594, 101.82579803466797, 101.85089874267578, 101.87670135498047, 101.9031982421875, 101.93049621582031, 101.95850372314453, 101.98719787597656, 102.0167007446289, 102.04679870605469, 102.07759857177734, 102.10900115966797, 102.14119720458984, 102.17400360107422, 102.2073974609375, 102.24150085449219, 102.27629852294922, 102.31159973144531, 102.34760284423828, 102.38420104980469, 102.42130279541016, 102.45899963378906, 102.49739837646484, 102.53620147705078, 102.57599639892578, 102.61499786376953, 102.6583023071289, 102.70159912109375, 102.73670196533203, 102.77369689941406, 102.80909729003906, 102.84410095214844, 102.87830352783203, 102.91169738769531, 102.94429779052734, 102.9761962890625, 103.00749969482422, 103.03810119628906, 103.06809997558594, 103.09739685058594, 103.1260986328125, 103.15409851074219, 103.181396484375, 103.20790100097656, 103.23370361328125, 103.25879669189453, 103.28299713134766, 103.30660247802734, 103.32929992675781, 103.3511962890625, 103.37229919433594, 103.39250183105469, 103.41200256347656, 103.43049621582031, 103.44830322265625, 103.46510314941406, 103.4811019897461, 103.49620056152344, 103.5103988647461, 103.52369689941406, 103.53610229492188, 103.54759979248047, 103.55809783935547, 103.56780242919922, 103.57640075683594, 103.58419799804688, 103.59089660644531, 103.5967025756836, 103.60160064697266, 103.60549926757812, 103.6083984375, 103.61029815673828, 103.61129760742188], [101.42949676513672, 101.43049621582031, 101.43240356445312, 101.4352035522461, 101.43900299072266, 101.4437026977539, 101.44930267333984, 101.45590209960938, 101.4634017944336, 101.4718017578125, 101.4811019897461, 101.49140167236328, 101.50250244140625, 101.51460266113281, 101.52749633789062, 101.54129791259766, 101.55609893798828, 101.57160186767578, 101.58809661865234, 101.60530090332031, 101.62349700927734, 101.64240264892578, 101.66220092773438, 101.68289947509766, 101.70429992675781, 101.72650146484375, 101.74949645996094, 101.77330017089844, 101.79789733886719, 101.82319641113281, 101.84929656982422, 101.8760986328125, 101.90370178222656, 101.93199920654297, 101.96099853515625, 101.9906997680664, 102.02110290527344, 102.05220031738281, 102.08399963378906, 102.11640167236328, 102.14949798583984, 102.18329620361328, 102.21769714355469, 102.25279998779297, 102.28839874267578, 102.32469940185547, 102.36160278320312, 102.39910125732422, 102.43699645996094, 102.4760971069336, 102.51409912109375, 102.55740356445312, 102.60070037841797, 102.63700103759766, 102.67489624023438, 102.7114028930664, 102.74739837646484, 102.78269958496094, 102.81729888916016, 102.8511962890625, 102.8843002319336, 102.91670227050781, 102.94850158691406, 102.97949981689453, 103.00990295410156, 103.03959655761719, 103.0687026977539, 103.09700012207031, 103.12470245361328, 103.15170288085938, 103.17790222167969, 103.20339965820312, 103.22810363769531, 103.2520980834961, 103.27529907226562, 103.29779815673828, 103.31939697265625, 103.34020233154297, 103.36019897460938, 103.37940216064453, 103.39769744873047, 103.41519927978516, 103.43180084228516, 103.44750213623047, 103.46240234375, 103.47640228271484, 103.489501953125, 103.50170135498047, 103.51300048828125, 103.52339935302734, 103.53289794921875, 103.54139709472656, 103.54900360107422, 103.55570220947266, 103.5614013671875, 103.56620025634766, 103.56999969482422, 103.5728988647461, 103.57479858398438, 103.57569885253906], [101.39540100097656, 101.39640045166016, 101.39830017089844, 101.40119934082031, 101.40499877929688, 101.40979766845703, 101.41549682617188, 101.42220306396484, 101.42980194091797, 101.43830108642578, 101.44779968261719, 101.45819854736328, 101.46949768066406, 101.48179626464844, 101.49490356445312, 101.50890350341797, 101.5238037109375, 101.53959655761719, 101.5562973022461, 101.57379913330078, 101.59220123291016, 101.61139678955078, 101.63140106201172, 101.65229797363281, 101.67400360107422, 101.69650268554688, 101.71980285644531, 101.7437973022461, 101.7686996459961, 101.79429626464844, 101.8207015991211, 101.8478012084961, 101.87570190429688, 101.904296875, 101.93360137939453, 101.9636001586914, 101.99430084228516, 102.02570343017578, 102.05780029296875, 102.0905990600586, 102.1240005493164, 102.15809631347656, 102.19290161132812, 102.22820281982422, 102.26419830322266, 102.3009033203125, 102.33789825439453, 102.3761978149414, 102.41320037841797, 102.45649719238281, 102.49980163574219, 102.53730010986328, 102.57589721679688, 102.6134033203125, 102.65039825439453, 102.68669891357422, 102.72239685058594, 102.7573013305664, 102.7916030883789, 102.82520294189453, 102.85810089111328, 102.89029693603516, 102.92179870605469, 102.95259857177734, 102.98280334472656, 103.01219940185547, 103.04100036621094, 103.06909942626953, 103.09649658203125, 103.12310028076172, 103.14910125732422, 103.17430114746094, 103.19869995117188, 103.22239685058594, 103.24539947509766, 103.26750183105469, 103.28890228271484, 103.30940246582031, 103.3292007446289, 103.34809875488281, 103.36620330810547, 103.3833999633789, 103.3998031616211, 103.41539764404297, 103.43009948730469, 103.44390106201172, 103.45680236816406, 103.46880340576172, 103.47989654541016, 103.49019622802734, 103.49949645996094, 103.50789642333984, 103.5154037475586, 103.52200317382812, 103.52760314941406, 103.53230285644531, 103.53610229492188, 103.53890228271484, 103.54080200195312, 103.54170227050781], [101.35980224609375, 101.36080169677734, 101.36270141601562, 101.3656997680664, 101.36949920654297, 101.37439727783203, 101.38020324707031, 101.38700103759766, 101.39469909667969, 101.40339660644531, 101.41300201416016, 101.42359924316406, 101.43509674072266, 101.44750213623047, 101.46080017089844, 101.4749984741211, 101.49019622802734, 101.5062026977539, 101.52310180664062, 101.54080200195312, 101.55950164794922, 101.57890319824219, 101.59919738769531, 101.62039947509766, 101.64240264892578, 101.66510009765625, 101.6886978149414, 101.71309661865234, 101.73819732666016, 101.76419830322266, 101.79090118408203, 101.81829833984375, 101.84649658203125, 101.87539672851562, 101.90499877929688, 101.9354019165039, 101.96640014648438, 101.99819946289062, 102.03060150146484, 102.0636978149414, 102.09750366210938, 102.13189697265625, 102.16699981689453, 102.20279693603516, 102.23889923095703, 102.27639770507812, 102.31230163574219, 102.35559844970703, 102.3989028930664, 102.4375, 102.47689819335938, 102.51529693603516, 102.5531997680664, 102.59040069580078, 102.6270980834961, 102.66310119628906, 102.69840240478516, 102.73310089111328, 102.76709747314453, 102.80039978027344, 102.83300018310547, 102.86499786376953, 102.89620208740234, 102.92680358886719, 102.95670318603516, 102.98590087890625, 103.01439666748047, 103.04229736328125, 103.06939697265625, 103.0958023071289, 103.12139892578125, 103.14640045166016, 103.17060089111328, 103.19400024414062, 103.2166976928711, 103.23860168457031, 103.25969696044922, 103.27999877929688, 103.29949951171875, 103.31819915771484, 103.33599853515625, 103.35310363769531, 103.36930084228516, 103.38459777832031, 103.39910125732422, 103.4126968383789, 103.42549896240234, 103.43730163574219, 103.44830322265625, 103.4583969116211, 103.46759796142578, 103.47589874267578, 103.4832992553711, 103.48970031738281, 103.49530029296875, 103.4999008178711, 103.50360107421875, 103.50640106201172, 103.50830078125, 103.50920104980469], [101.32260131835938, 101.32360076904297, 101.32559967041016, 101.32859802246094, 101.3324966430664, 101.3375015258789, 101.34339904785156, 101.35030364990234, 101.35810089111328, 101.36699676513672, 101.37670135498047, 101.38749694824219, 101.39920043945312, 101.41179656982422, 101.42530059814453, 101.439697265625, 101.4551010131836, 101.47129821777344, 101.4885025024414, 101.50650024414062, 101.52539825439453, 101.54509735107422, 101.5656967163086, 101.58719635009766, 101.6093978881836, 101.63249969482422, 101.65640258789062, 101.68109893798828, 101.70659637451172, 101.73280334472656, 101.75980377197266, 101.78759765625, 101.81610107421875, 101.84539794921875, 101.87529754638672, 101.90599822998047, 101.9374008178711, 101.96949768066406, 102.0022964477539, 102.03579711914062, 102.06990051269531, 102.10469818115234, 102.13990020751953, 102.17669677734375, 102.2114028930664, 102.25460052490234, 102.2979965209961, 102.33760070800781, 102.37779998779297, 102.41699981689453, 102.45580291748047, 102.49400329589844, 102.53150177001953, 102.56849670410156, 102.60479736328125, 102.6405029296875, 102.67549896240234, 102.70989990234375, 102.74359893798828, 102.77670288085938, 102.80909729003906, 102.8407974243164, 102.8718032836914, 102.902099609375, 102.93180084228516, 102.96070098876953, 102.98899841308594, 103.0166015625, 103.04340362548828, 103.0696029663086, 103.09500122070312, 103.11969757080078, 103.14360046386719, 103.16680145263672, 103.18920135498047, 103.21089935302734, 103.23179626464844, 103.25180053710938, 103.27110290527344, 103.28959655761719, 103.30719757080078, 103.3240966796875, 103.34010314941406, 103.3552017211914, 103.36949920654297, 103.38300323486328, 103.39559936523438, 103.40730285644531, 103.41809844970703, 103.4281005859375, 103.43720245361328, 103.44529724121094, 103.45259857177734, 103.45899963378906, 103.4645004272461, 103.46900177001953, 103.47270202636719, 103.47540283203125, 103.47730255126953, 103.47820281982422], [101.28379821777344, 101.28479766845703, 101.28679656982422, 101.28990173339844, 101.29389953613281, 101.29889678955078, 101.30500030517578, 101.31199645996094, 101.31999969482422, 101.3290023803711, 101.33889770507812, 101.34980010986328, 101.36170196533203, 101.37449645996094, 101.38829803466797, 101.40299987792969, 101.4186019897461, 101.43509674072266, 101.45249938964844, 101.4708023071289, 101.48999786376953, 101.51000213623047, 101.53089904785156, 101.55259704589844, 101.57520294189453, 101.59860229492188, 101.622802734375, 101.64779663085938, 101.67359924316406, 101.70020294189453, 101.72760009765625, 101.75569915771484, 101.78450012207031, 101.81420135498047, 101.84449768066406, 101.87550354003906, 101.90730285644531, 101.9397964477539, 101.972900390625, 102.00679779052734, 102.04100036621094, 102.07689666748047, 102.1104965209961, 102.15370178222656, 102.19709777832031, 102.23770141601562, 102.27860260009766, 102.3187026977539, 102.3582992553711, 102.39730072021484, 102.43569946289062, 102.47360229492188, 102.51080322265625, 102.54750061035156, 102.58350372314453, 102.618896484375, 102.65370178222656, 102.68779754638672, 102.72129821777344, 102.75409698486328, 102.78620147705078, 102.81770324707031, 102.84839630126953, 102.87850189208984, 102.90799713134766, 102.93669891357422, 102.9646987915039, 102.99199676513672, 103.0186996459961, 103.04460144042969, 103.0698013305664, 103.09420013427734, 103.1178970336914, 103.14089965820312, 103.16310119628906, 103.18450164794922, 103.2051010131836, 103.2249984741211, 103.24410247802734, 103.26229858398438, 103.27980041503906, 103.29640197753906, 103.31220245361328, 103.32720184326172, 103.34130096435547, 103.35459899902344, 103.36710357666016, 103.37860107421875, 103.38929748535156, 103.39920043945312, 103.40809631347656, 103.41619873046875, 103.42340087890625, 103.42970275878906, 103.43509674072266, 103.4395980834961, 103.44319915771484, 103.4458999633789, 103.44779968261719, 103.44869995117188], [101.24340057373047, 101.24440002441406, 101.24649810791016, 101.24960327148438, 101.25370025634766, 101.25879669189453, 101.26490020751953, 101.27210235595703, 101.28019714355469, 101.28939819335938, 101.29949951171875, 101.31060028076172, 101.32270050048828, 101.33580017089844, 101.34980010986328, 101.36470031738281, 101.38059997558594, 101.39739990234375, 101.41500091552734, 101.43360137939453, 101.4531021118164, 101.47350311279297, 101.49469757080078, 101.5167007446289, 101.53959655761719, 101.56340026855469, 101.58789825439453, 101.61329650878906, 101.63939666748047, 101.66639709472656, 101.69409942626953, 101.72260284423828, 101.75180053710938, 101.78179931640625, 101.8125, 101.84390258789062, 101.8759994506836, 101.90889739990234, 101.94219970703125, 101.97720336914062, 102.00959777832031, 102.05280303955078, 102.09619903564453, 102.13770294189453, 102.1792984008789, 102.22019958496094, 102.2605972290039, 102.30049896240234, 102.33979797363281, 102.37850189208984, 102.4166030883789, 102.4542007446289, 102.49120330810547, 102.52749633789062, 102.56330108642578, 102.59839630126953, 102.63289642333984, 102.66680145263672, 102.69999694824219, 102.73249816894531, 102.76439666748047, 102.79560089111328, 102.82620239257812, 102.8561019897461, 102.88520050048828, 102.9136962890625, 102.94149780273438, 102.96859741210938, 102.99500274658203, 103.02069854736328, 103.04570007324219, 103.06990051269531, 103.09339904785156, 103.11609649658203, 103.13809967041016, 103.1593017578125, 103.17980194091797, 103.19940185546875, 103.21829986572266, 103.23639678955078, 103.25360107421875, 103.27010345458984, 103.28569793701172, 103.30049896240234, 103.31449890136719, 103.32769775390625, 103.33999633789062, 103.35140228271484, 103.36199951171875, 103.37169647216797, 103.38059997558594, 103.38849639892578, 103.39559936523438, 103.40190124511719, 103.4072036743164, 103.41169738769531, 103.41519927978516, 103.41790008544922, 103.4197006225586, 103.42060089111328], [101.20130157470703, 101.20230102539062, 101.20439910888672, 101.20760345458984, 101.21179962158203, 101.21700286865234, 101.22329711914062, 101.23059844970703, 101.23889923095703, 101.24819946289062, 101.25859832763672, 101.2698974609375, 101.2822036743164, 101.29550170898438, 101.30970001220703, 101.32489776611328, 101.34110260009766, 101.35820007324219, 101.3761978149414, 101.39510345458984, 101.41480255126953, 101.43550109863281, 101.45709991455078, 101.47949981689453, 101.50270080566406, 101.52680206298828, 101.55169677734375, 101.57749938964844, 101.60399627685547, 101.63130187988281, 101.6594009399414, 101.68820190429688, 101.7177963256836, 101.74819946289062, 101.779296875, 101.81120300292969, 101.84339904785156, 101.87750244140625, 101.90869903564453, 101.95189666748047, 101.99520111083984, 102.0376968383789, 102.08000183105469, 102.12159729003906, 102.16280364990234, 102.20349884033203, 102.24359893798828, 102.28309631347656, 102.32209777832031, 102.36060333251953, 102.39849853515625, 102.43579864501953, 102.47250366210938, 102.50859832763672, 102.54399871826172, 102.57890319824219, 102.61319732666016, 102.64679718017578, 102.67970275878906, 102.71199798583984, 102.74369812011719, 102.77469635009766, 102.80500030517578, 102.83470153808594, 102.86360168457031, 102.89189910888672, 102.91950225830078, 102.94640350341797, 102.97260284423828, 102.99800109863281, 103.02279663085938, 103.04679870605469, 103.07009887695312, 103.09259796142578, 103.1144027709961, 103.1353988647461, 103.15570068359375, 103.17510223388672, 103.19380187988281, 103.21170043945312, 103.22879791259766, 103.24510192871094, 103.2605972290039, 103.27519989013672, 103.28910064697266, 103.3021011352539, 103.31420135498047, 103.32550048828125, 103.33599853515625, 103.34559631347656, 103.35440063476562, 103.36229705810547, 103.36930084228516, 103.37539672851562, 103.38069915771484, 103.38510131835938, 103.38870239257812, 103.39129638671875, 103.39309692382812, 103.39399719238281], [101.15750122070312, 101.15859985351562, 101.16069793701172, 101.16400146484375, 101.16819763183594, 101.17359924316406, 101.18000030517578, 101.1874008178711, 101.1958999633789, 101.20539855957031, 101.21600341796875, 101.22750091552734, 101.24009704589844, 101.25370025634766, 101.26820373535156, 101.28369903564453, 101.30010223388672, 101.31749725341797, 101.33580017089844, 101.3550033569336, 101.37519836425781, 101.39620208740234, 101.41809844970703, 101.44090270996094, 101.4645004272461, 101.48889923095703, 101.51419830322266, 101.54029846191406, 101.56719970703125, 101.59490203857422, 101.62339782714844, 101.65270233154297, 101.68270111083984, 101.7135009765625, 101.74469757080078, 101.77790069580078, 101.80780029296875, 101.85099792480469, 101.89430236816406, 101.93769836425781, 101.98059844970703, 102.02300262451172, 102.06490325927734, 102.1063003540039, 102.14720153808594, 102.1875991821289, 102.22740173339844, 102.2667007446289, 102.3053970336914, 102.34359741210938, 102.3812026977539, 102.41829681396484, 102.45469665527344, 102.4906005859375, 102.52580261230469, 102.5604019165039, 102.59439849853516, 102.62779998779297, 102.6604995727539, 102.69259643554688, 102.7240982055664, 102.75479888916016, 102.78500366210938, 102.81439971923828, 102.84320068359375, 102.87120056152344, 102.89859771728516, 102.92530059814453, 102.95130157470703, 102.97650146484375, 103.0010986328125, 103.02490234375, 103.0479965209961, 103.07029724121094, 103.09190368652344, 103.11270141601562, 103.13279724121094, 103.152099609375, 103.17060089111328, 103.18830108642578, 103.2052993774414, 103.22139739990234, 103.23670196533203, 103.2511978149414, 103.26490020751953, 103.27780151367188, 103.28980255126953, 103.30110168457031, 103.3114013671875, 103.3208999633789, 103.32959747314453, 103.33740234375, 103.34439849853516, 103.35040283203125, 103.35569763183594, 103.36000061035156, 103.3635025024414, 103.36609649658203, 103.3678970336914, 103.3687973022461], [101.11199951171875, 101.11309814453125, 101.11530303955078, 101.11859893798828, 101.12300109863281, 101.12840270996094, 101.13500213623047, 101.1426010131836, 101.15129852294922, 101.16100311279297, 101.17179870605469, 101.18360137939453, 101.19640350341797, 101.21019744873047, 101.2249984741211, 101.24079895019531, 101.25759887695312, 101.27529907226562, 101.29399871826172, 101.3135986328125, 101.33399963378906, 101.35540008544922, 101.37770080566406, 101.4009017944336, 101.42489624023438, 101.44969940185547, 101.47540283203125, 101.50189971923828, 101.5291976928711, 101.55740356445312, 101.58619689941406, 101.61599731445312, 101.64610290527344, 101.67829895019531, 101.70690155029297, 101.7500991821289, 101.79340362548828, 101.83760070800781, 101.8812026977539, 101.92430114746094, 101.96690368652344, 102.00900268554688, 102.05069732666016, 102.091796875, 102.13240051269531, 102.17250061035156, 102.21209716796875, 102.2511978149414, 102.28959655761719, 102.32759857177734, 102.36489868164062, 102.40170288085938, 102.43789672851562, 102.47360229492188, 102.50859832763672, 102.54299926757812, 102.57669830322266, 102.60990142822266, 102.64240264892578, 102.67430114746094, 102.70549774169922, 102.73609924316406, 102.76599884033203, 102.79519653320312, 102.82379913330078, 102.85160064697266, 102.87879943847656, 102.9052963256836, 102.93109893798828, 102.9561996459961, 102.98049926757812, 103.00420379638672, 103.027099609375, 103.04920196533203, 103.07060241699219, 103.09130096435547, 103.11119842529297, 103.13030242919922, 103.14869689941406, 103.16619873046875, 103.18299865722656, 103.1989974975586, 103.21420288085938, 103.22859954833984, 103.24220275878906, 103.25489807128906, 103.26679992675781, 103.27790069580078, 103.28820037841797, 103.29759979248047, 103.30619812011719, 103.31390380859375, 103.32080078125, 103.32679748535156, 103.33200073242188, 103.3363037109375, 103.33979797363281, 103.34239959716797, 103.34410095214844, 103.34500122070312], [101.064697265625, 101.06580352783203, 101.06809997558594, 101.07150268554688, 101.07599639892578, 101.08159637451172, 101.08830261230469, 101.09609985351562, 101.1050033569336, 101.11489868164062, 101.12590026855469, 101.13800048828125, 101.1511001586914, 101.16519927978516, 101.1803970336914, 101.19650268554688, 101.2136001586914, 101.23159790039062, 101.25070190429688, 101.27059936523438, 101.29149627685547, 101.31330108642578, 101.33589935302734, 101.3594970703125, 101.38390350341797, 101.4092025756836, 101.435302734375, 101.46219635009766, 101.48989868164062, 101.51860046386719, 101.54750061035156, 101.57879638671875, 101.60600280761719, 101.64910125732422, 101.69249725341797, 101.73750305175781, 101.78170013427734, 101.82540130615234, 101.86869812011719, 101.9115982055664, 101.95390319824219, 101.99579620361328, 102.03720092773438, 102.0781021118164, 102.11849975585938, 102.15840148925781, 102.19770050048828, 102.23650360107422, 102.2748031616211, 102.3124008178711, 102.34960174560547, 102.38610076904297, 102.4220962524414, 102.4574966430664, 102.49230194091797, 102.52649688720703, 102.55999755859375, 102.59300231933594, 102.62529754638672, 102.65699768066406, 102.68800354003906, 102.71839904785156, 102.74810028076172, 102.777099609375, 102.80549621582031, 102.83319854736328, 102.86019897460938, 102.8864974975586, 102.91210174560547, 102.93699645996094, 102.96119689941406, 102.9845962524414, 103.0073013305664, 103.029296875, 103.05059814453125, 103.07109832763672, 103.0907974243164, 103.10980224609375, 103.12799835205078, 103.14540100097656, 103.16210174560547, 103.17790222167969, 103.19300079345703, 103.20719909667969, 103.220703125, 103.2332992553711, 103.24520111083984, 103.256103515625, 103.26629638671875, 103.27559661865234, 103.2842025756836, 103.29180145263672, 103.29859924316406, 103.30460357666016, 103.30970001220703, 103.31400299072266, 103.31739807128906, 103.31999969482422, 103.32170104980469, 103.32260131835938], [101.0156021118164, 101.01679992675781, 101.01909637451172, 101.02249908447266, 101.027099609375, 101.03289794921875, 101.03980255126953, 101.04779815673828, 101.05690002441406, 101.06710052490234, 101.07839965820312, 101.0906982421875, 101.1041030883789, 101.11859893798828, 101.13400268554688, 101.15049743652344, 101.16799926757812, 101.1864013671875, 101.20580291748047, 101.2261962890625, 101.24749755859375, 101.26959991455078, 101.2927017211914, 101.31670379638672, 101.34149932861328, 101.36730194091797, 101.393798828125, 101.42130279541016, 101.4489974975586, 101.47930145263672, 101.50509643554688, 101.54820251464844, 101.59159851074219, 101.63739776611328, 101.68209838867188, 101.72650146484375, 101.77040100097656, 101.81400299072266, 101.85700225830078, 101.89959716796875, 101.94180297851562, 101.9833984375, 102.02459716796875, 102.06520080566406, 102.10540008544922, 102.1449966430664, 102.18409729003906, 102.22270202636719, 102.26080322265625, 102.29820251464844, 102.33509826660156, 102.37149810791016, 102.40730285644531, 102.44239807128906, 102.47699737548828, 102.51100158691406, 102.54440307617188, 102.57710266113281, 102.60919952392578, 102.64070129394531, 102.67150115966797, 102.70169830322266, 102.731201171875, 102.76010131835938, 102.78829956054688, 102.81580352783203, 102.84259796142578, 102.8687973022461, 102.89420318603516, 102.91889953613281, 102.94290161132812, 102.96620178222656, 102.98880004882812, 103.0105972290039, 103.03170013427734, 103.0521011352539, 103.07170104980469, 103.09049987792969, 103.10859680175781, 103.12590026855469, 103.14240264892578, 103.15809631347656, 103.17310333251953, 103.18720245361328, 103.20050048828125, 103.21309661865234, 103.22480010986328, 103.23570251464844, 103.24579620361328, 103.25499725341797, 103.26349639892578, 103.27110290527344, 103.27780151367188, 103.28369903564453, 103.28880310058594, 103.29299926757812, 103.29640197753906, 103.29900360107422, 103.30069732666016, 103.30149841308594], [100.964599609375, 100.9657974243164, 100.96820068359375, 100.9718017578125, 100.97650146484375, 100.9823989868164, 100.989501953125, 100.9977035522461, 101.00700378417969, 101.01750183105469, 101.02909851074219, 101.04180145263672, 101.05549621582031, 101.07029724121094, 101.08609771728516, 101.10299682617188, 101.12079620361328, 101.13970184326172, 101.15950012207031, 101.1801986694336, 101.2020034790039, 101.22460174560547, 101.24810028076172, 101.27249908447266, 101.29779815673828, 101.3240966796875, 101.35060119628906, 101.37979888916016, 101.4041976928711, 101.44730377197266, 101.4906997680664, 101.53720092773438, 101.5823974609375, 101.62750244140625, 101.6719970703125, 101.71620178222656, 101.75990295410156, 101.8031997680664, 101.84609985351562, 101.88839721679688, 101.9303970336914, 101.9718017578125, 102.01270294189453, 102.0531997680664, 102.09310150146484, 102.13249969482422, 102.17140197753906, 102.20980072021484, 102.24759674072266, 102.28489685058594, 102.32160186767578, 102.35780334472656, 102.39330291748047, 102.42829895019531, 102.46269989013672, 102.49649810791016, 102.52970123291016, 102.56220245361328, 102.59420013427734, 102.62550354003906, 102.65609741210938, 102.68609619140625, 102.71549987792969, 102.74420166015625, 102.77220153808594, 102.79949951171875, 102.82620239257812, 102.85220336914062, 102.87750244140625, 102.9020004272461, 102.9259033203125, 102.9489974975586, 102.97149658203125, 102.99320220947266, 103.01409912109375, 103.0343017578125, 103.05380249023438, 103.07250213623047, 103.09040069580078, 103.10759735107422, 103.1240005493164, 103.13960266113281, 103.15440368652344, 103.16840362548828, 103.18170166015625, 103.19409942626953, 103.20580291748047, 103.21659851074219, 103.22660064697266, 103.23580169677734, 103.24410247802734, 103.25160217285156, 103.2583999633789, 103.26419830322266, 103.26930236816406, 103.27349853515625, 103.27680206298828, 103.27940368652344, 103.28099822998047, 103.28189849853516], [100.91169738769531, 100.91300201416016, 100.91539764404297, 100.91909790039062, 100.92400360107422, 100.93000030517578, 100.93730163574219, 100.94580078125, 100.95539855957031, 100.96620178222656, 100.97810363769531, 100.99109649658203, 101.00520324707031, 101.02030181884766, 101.0364990234375, 101.05380249023438, 101.07209777832031, 101.09130096435547, 101.11160278320312, 101.13279724121094, 101.15499877929688, 101.1781005859375, 101.2020034790039, 101.22699737548828, 101.25240325927734, 101.28050231933594, 101.30329895019531, 101.34639739990234, 101.38980102539062, 101.43699645996094, 101.48269653320312, 101.52839660644531, 101.57350158691406, 101.61830139160156, 101.6626968383789, 101.70659637451172, 101.75019836425781, 101.79319763183594, 101.83589935302734, 101.87799835205078, 101.9197006225586, 101.96099853515625, 102.00170135498047, 102.04190063476562, 102.08170318603516, 102.12090301513672, 102.15959930419922, 102.19779968261719, 102.23539733886719, 102.27249908447266, 102.30899810791016, 102.34500122070312, 102.38040161132812, 102.41519927978516, 102.44940185546875, 102.48300170898438, 102.51599884033203, 102.54840087890625, 102.5801010131836, 102.61129760742188, 102.64179992675781, 102.67160034179688, 102.70079803466797, 102.72930145263672, 102.7572021484375, 102.7844009399414, 102.81089782714844, 102.83670043945312, 102.86190032958984, 102.88629913330078, 102.91000366210938, 102.93299865722656, 102.9552993774414, 102.97679901123047, 102.9977035522461, 103.0177001953125, 103.03710174560547, 103.05570220947266, 103.07350158691406, 103.09049987792969, 103.10679626464844, 103.12229919433594, 103.13700103759766, 103.1510009765625, 103.16410064697266, 103.17649841308594, 103.18800354003906, 103.19879913330078, 103.20870208740234, 103.2177963256836, 103.2260971069336, 103.23359680175781, 103.24019622802734, 103.24610137939453, 103.2510986328125, 103.25520324707031, 103.25859832763672, 103.26110076904297, 103.26280212402344, 103.26360321044922], [100.85679626464844, 100.85810089111328, 100.86060333251953, 100.8644027709961, 100.86949920654297, 100.87580108642578, 100.88330078125, 100.89199829101562, 100.90190124511719, 100.91300201416016, 100.92520141601562, 100.9385986328125, 100.9531021118164, 100.96869659423828, 100.98529815673828, 101.00299835205078, 101.02169799804688, 101.04139709472656, 101.06220245361328, 101.08390045166016, 101.10639953613281, 101.13020324707031, 101.1541976928711, 101.18109893798828, 101.20240020751953, 101.24539947509766, 101.28880310058594, 101.33670043945312, 101.38289642333984, 101.4291000366211, 101.47489929199219, 101.52030181884766, 101.56520080566406, 101.60980224609375, 101.65399932861328, 101.69770050048828, 101.74109649658203, 101.78399658203125, 101.82640075683594, 101.86840057373047, 101.90989685058594, 101.95089721679688, 101.99150085449219, 102.03150177001953, 102.07109832763672, 102.11009979248047, 102.14859771728516, 102.18659973144531, 102.2240982055664, 102.26100158691406, 102.29730224609375, 102.33309936523438, 102.36830139160156, 102.40299987792969, 102.43699645996094, 102.47049713134766, 102.50330352783203, 102.5354995727539, 102.56710052490234, 102.59809875488281, 102.62840270996094, 102.65809631347656, 102.68720245361328, 102.7155990600586, 102.74330139160156, 102.77030181884766, 102.79669952392578, 102.82240295410156, 102.84739685058594, 102.87169647216797, 102.89530181884766, 102.91809844970703, 102.94029998779297, 102.96170043945312, 102.9823989868164, 103.00240325927734, 103.02159881591797, 103.04010009765625, 103.05780029296875, 103.07469940185547, 103.09089660644531, 103.1063003540039, 103.12100219726562, 103.13480377197266, 103.14790344238281, 103.16010284423828, 103.17160034179688, 103.18229675292969, 103.19210052490234, 103.20120239257812, 103.20939636230469, 103.216796875, 103.22350311279297, 103.22920227050781, 103.23419952392578, 103.2384033203125, 103.24169921875, 103.24420166015625, 103.24579620361328, 103.24659729003906], [100.79989624023438, 100.80120086669922, 100.80380249023438, 100.80780029296875, 100.81300354003906, 100.81950378417969, 100.82730102539062, 100.8363037109375, 100.84649658203125, 100.85800170898438, 100.87059783935547, 100.8843994140625, 100.89929962158203, 100.91529846191406, 100.93240356445312, 100.95050048828125, 100.9697036743164, 100.98989868164062, 101.01110076904297, 101.03350067138672, 101.05609893798828, 101.08190155029297, 101.10150146484375, 101.14450073242188, 101.18789672851562, 101.23639678955078, 101.28309631347656, 101.32980346679688, 101.3760986328125, 101.4219970703125, 101.46759796142578, 101.51280212402344, 101.55760192871094, 101.60199737548828, 101.64600372314453, 101.6895980834961, 101.73269653320312, 101.77539825439453, 101.81759643554688, 101.8593978881836, 101.90080261230469, 101.94159698486328, 101.98200225830078, 102.02189636230469, 102.0613021850586, 102.1001968383789, 102.13849639892578, 102.17630004882812, 102.2136001586914, 102.25039672851562, 102.2865982055664, 102.32219696044922, 102.3572006225586, 102.3917007446289, 102.42559814453125, 102.45890045166016, 102.4916000366211, 102.52369689941406, 102.55509948730469, 102.58599853515625, 102.61620330810547, 102.64569854736328, 102.67459869384766, 102.7029037475586, 102.73049926757812, 102.75740051269531, 102.78359985351562, 102.80919647216797, 102.83399963378906, 102.85820007324219, 102.88169860839844, 102.90440368652344, 102.92649841308594, 102.94779968261719, 102.96839904785156, 102.98819732666016, 103.00740051269531, 103.02570343017578, 103.04329681396484, 103.0602035522461, 103.07630157470703, 103.09159851074219, 103.1061019897461, 103.11990356445312, 103.13289642333984, 103.14510345458984, 103.15650177001953, 103.16709899902344, 103.1769027709961, 103.18589782714844, 103.19409942626953, 103.20140075683594, 103.20800018310547, 103.21379852294922, 103.21869659423828, 103.2228012084961, 103.2260971069336, 103.22859954833984, 103.2302017211914, 103.23100280761719], [100.74079895019531, 100.74220275878906, 100.74500274658203, 100.7490005493164, 100.75450134277344, 100.76119995117188, 100.76930236816406, 100.77860260009766, 100.78919982910156, 100.8010025024414, 100.81410217285156, 100.82830047607422, 100.84359741210938, 100.86009979248047, 100.87770080566406, 100.89640045166016, 100.91600036621094, 100.93699645996094, 100.95809936523438, 100.98269653320312, 101.00060272216797, 101.0436019897461, 101.08699798583984, 101.13610076904297, 101.18319702148438, 101.23040008544922, 101.2771987915039, 101.32369995117188, 101.36979675292969, 101.41560363769531, 101.46099853515625, 101.50599670410156, 101.55059814453125, 101.59480285644531, 101.63860321044922, 101.68199920654297, 101.7249984741211, 101.7676010131836, 101.80970001220703, 101.85130310058594, 101.89250183105469, 101.93319702148438, 101.97339630126953, 102.01309967041016, 102.05229949951172, 102.09110260009766, 102.12930297851562, 102.16690063476562, 102.2041015625, 102.2406997680664, 102.27670288085938, 102.31220245361328, 102.34709930419922, 102.38140106201172, 102.41519927978516, 102.44830322265625, 102.48090362548828, 102.51280212402344, 102.54409790039062, 102.57479858398438, 102.60489654541016, 102.6343002319336, 102.66310119628906, 102.69120025634766, 102.71869659423828, 102.74549865722656, 102.77159881591797, 102.7970962524414, 102.8218002319336, 102.84590148925781, 102.86920166015625, 102.89189910888672, 102.91380310058594, 102.93499755859375, 102.95549774169922, 102.97530364990234, 102.99430084228516, 103.01260375976562, 103.03009796142578, 103.04679870605469, 103.06279754638672, 103.0781021118164, 103.09259796142578, 103.106201171875, 103.11920166015625, 103.13130187988281, 103.1426010131836, 103.1531982421875, 103.16290283203125, 103.17179870605469, 103.18000030517578, 103.18730163574219, 103.19390106201172, 103.19960021972656, 103.20449829101562, 103.20860290527344, 103.21179962158203, 103.21430206298828, 103.21589660644531, 103.216796875], [100.67960357666016, 100.68099975585938, 100.68389892578125, 100.68810272216797, 100.69380187988281, 100.70079803466797, 100.70919799804688, 100.71890258789062, 100.72989654541016, 100.74220275878906, 100.75559997558594, 100.77030181884766, 100.78620147705078, 100.8031997680664, 100.82129669189453, 100.8406982421875, 100.86029815673828, 100.88359832763672, 100.89969635009766, 100.94270324707031, 100.98600006103516, 101.03569793701172, 101.08319854736328, 101.13089752197266, 101.1781997680664, 101.2251968383789, 101.27179718017578, 101.31809997558594, 101.36409759521484, 101.40969848632812, 101.45490264892578, 101.49980163574219, 101.54419708251953, 101.58830261230469, 101.63200378417969, 101.67520141601562, 101.71810150146484, 101.7603988647461, 101.80239868164062, 101.84390258789062, 101.88490295410156, 101.92549896240234, 101.96549987792969, 102.00509643554688, 102.04419708251953, 102.08280181884766, 102.12079620361328, 102.15840148925781, 102.19539642333984, 102.23179626464844, 102.2677001953125, 102.3031005859375, 102.33789825439453, 102.37210083007812, 102.40570068359375, 102.4386978149414, 102.47109985351562, 102.50299835205078, 102.5342025756836, 102.564697265625, 102.5947036743164, 102.6240005493164, 102.65270233154297, 102.68070220947266, 102.70800018310547, 102.73470306396484, 102.76069641113281, 102.78610229492188, 102.81069946289062, 102.83470153808594, 102.85790252685547, 102.88050079345703, 102.90229797363281, 102.92340087890625, 102.94380187988281, 102.9635009765625, 102.9823989868164, 103.00060272216797, 103.01809692382812, 103.03469848632812, 103.05069732666016, 103.06580352783203, 103.0802001953125, 103.09380340576172, 103.10669708251953, 103.1187973022461, 103.12999725341797, 103.1405029296875, 103.15019989013672, 103.15910339355469, 103.16719818115234, 103.17449951171875, 103.18099975585938, 103.18669891357422, 103.19159698486328, 103.1957015991211, 103.19889831542969, 103.20140075683594, 103.2030029296875, 103.20379638671875], [100.61599731445312, 100.61750030517578, 100.62049865722656, 100.625, 100.63089752197266, 100.63819885253906, 100.64700317382812, 100.65709686279297, 100.6686019897461, 100.6812973022461, 100.69529724121094, 100.71050262451172, 100.72689819335938, 100.74459838867188, 100.76270294189453, 100.78459930419922, 100.79879760742188, 100.841796875, 100.88510131835938, 100.935302734375, 100.98310089111328, 101.03130340576172, 101.0790023803711, 101.12650299072266, 101.17359924316406, 101.22049713134766, 101.26699829101562, 101.31310272216797, 101.35890197753906, 101.40440368652344, 101.44950103759766, 101.49420166015625, 101.53849792480469, 101.5824966430664, 101.6259994506836, 101.66909790039062, 101.71179962158203, 101.75399780273438, 101.7957992553711, 101.83719635009766, 101.87809753417969, 101.91850280761719, 101.95850372314453, 101.9979019165039, 102.03690338134766, 102.07530212402344, 102.11329650878906, 102.15070343017578, 102.1875991821289, 102.2238998413086, 102.25969696044922, 102.2948989868164, 102.32959747314453, 102.36370086669922, 102.39720153808594, 102.43009948730469, 102.46240234375, 102.49410247802734, 102.52519989013672, 102.55570220947266, 102.58550262451172, 102.61470031738281, 102.64330291748047, 102.67120361328125, 102.69840240478516, 102.7249984741211, 102.7509994506836, 102.77619934082031, 102.80079650878906, 102.82460021972656, 102.8478012084961, 102.87020111083984, 102.89199829101562, 102.91300201416016, 102.93329620361328, 102.9529037475586, 102.9718017578125, 102.98989868164062, 103.0072021484375, 103.0239028930664, 103.03970336914062, 103.05480194091797, 103.06919860839844, 103.08270263671875, 103.09549713134766, 103.10749816894531, 103.11869812011719, 103.12920379638672, 103.13880157470703, 103.14769744873047, 103.15579986572266, 103.16300201416016, 103.16950225830078, 103.17520141601562, 103.18000030517578, 103.18409729003906, 103.18730163574219, 103.189697265625, 103.19139862060547, 103.19219970703125], [100.55000305175781, 100.55159759521484, 100.55480194091797, 100.55950164794922, 100.5656967163086, 100.57340240478516, 100.58260345458984, 100.59320068359375, 100.6051025390625, 100.61840057373047, 100.63289642333984, 100.6489028930664, 100.66519927978516, 100.68569946289062, 100.6978988647461, 100.74079895019531, 100.7842025756836, 100.83480072021484, 100.88300323486328, 100.93160247802734, 100.97969818115234, 101.02760314941406, 101.07530212402344, 101.12259674072266, 101.16960144042969, 101.21630096435547, 101.26260375976562, 101.30870056152344, 101.35440063476562, 101.39969635009766, 101.4447021484375, 101.48930358886719, 101.53350067138672, 101.57730102539062, 101.62069702148438, 101.6636962890625, 101.7061996459961, 101.74839782714844, 101.79000091552734, 101.831298828125, 101.87210083007812, 101.91239929199219, 101.95220184326172, 101.99150085449219, 102.03040313720703, 102.0687026977539, 102.10649871826172, 102.143798828125, 102.18060302734375, 102.216796875, 102.25250244140625, 102.28759765625, 102.32219696044922, 102.356201171875, 102.38960266113281, 102.42240142822266, 102.45459747314453, 102.48619842529297, 102.51719665527344, 102.54759979248047, 102.57730102539062, 102.60649871826172, 102.63490295410156, 102.66280364990234, 102.68990325927734, 102.71640014648438, 102.74230194091797, 102.76740264892578, 102.79190063476562, 102.8156967163086, 102.83879852294922, 102.86109924316406, 102.88279724121094, 102.90380096435547, 102.92400360107422, 102.94349670410156, 102.9623031616211, 102.98040008544922, 102.99759674072266, 103.01419830322266, 103.02999877929688, 103.04499816894531, 103.0593032836914, 103.07279968261719, 103.08560180664062, 103.09750366210938, 103.10870361328125, 103.11910247802734, 103.12870025634766, 103.13760375976562, 103.14559936523438, 103.15280151367188, 103.1593017578125, 103.16490173339844, 103.1697006225586, 103.17379760742188, 103.177001953125, 103.17939758300781, 103.18099975585938, 103.18180084228516], [100.48149871826172, 100.48320007324219, 100.48650360107422, 100.49150085449219, 100.49810028076172, 100.5062026977539, 100.51589965820312, 100.5270004272461, 100.53949737548828, 100.55359649658203, 100.56809997558594, 100.58689880371094, 100.59700012207031, 100.63990020751953, 100.68329620361328, 100.73429870605469, 100.78279876708984, 100.83180236816406, 100.88030242919922, 100.92859649658203, 100.97669982910156, 101.02449798583984, 101.0719985961914, 101.11920166015625, 101.16600036621094, 101.21260070800781, 101.25890350341797, 101.30480194091797, 101.35040283203125, 101.39559936523438, 101.44039916992188, 101.48490142822266, 101.52899932861328, 101.57270050048828, 101.61599731445312, 101.65889739990234, 101.70140075683594, 101.74340057373047, 101.78500366210938, 101.82610321044922, 101.8667984008789, 101.90699768066406, 101.94670104980469, 101.98600006103516, 102.02469635009766, 102.06289672851562, 102.10070037841797, 102.13790130615234, 102.17449951171875, 102.21070098876953, 102.24629974365234, 102.28130340576172, 102.31580352783203, 102.34970092773438, 102.38300323486328, 102.41570281982422, 102.44779968261719, 102.47930145263672, 102.51029968261719, 102.54060363769531, 102.57019805908203, 102.59919738769531, 102.62760162353516, 102.65540313720703, 102.68250274658203, 102.70890045166016, 102.73470306396484, 102.75969696044922, 102.78410339355469, 102.80789947509766, 102.83090209960938, 102.85320281982422, 102.87480163574219, 102.89569854736328, 102.91590118408203, 102.935302734375, 102.9540023803711, 102.97200012207031, 102.98930358886719, 103.00579833984375, 103.02149963378906, 103.0364990234375, 103.05069732666016, 103.06420135498047, 103.07689666748047, 103.08879852294922, 103.09989929199219, 103.11029815673828, 103.11990356445312, 103.12870025634766, 103.13670349121094, 103.1438980102539, 103.15029907226562, 103.15589904785156, 103.16079711914062, 103.16480255126953, 103.16799926757812, 103.17040252685547, 103.1719970703125, 103.17279815673828], [100.4103012084961, 100.41210174560547, 100.41560363769531, 100.4209976196289, 100.4280014038086, 100.43659973144531, 100.4468002319336, 100.45880126953125, 100.47119903564453, 100.48829650878906, 100.49610137939453, 100.53900146484375, 100.5822982788086, 100.63379669189453, 100.68260192871094, 100.73190307617188, 100.78070068359375, 100.82939910888672, 100.87789916992188, 100.92610168457031, 100.9740982055664, 101.02169799804688, 101.06909942626953, 101.11620330810547, 101.16300201416016, 101.20950317382812, 101.25569915771484, 101.30149841308594, 101.34700012207031, 101.39209747314453, 101.43679809570312, 101.481201171875, 101.52519989013672, 101.56880187988281, 101.61199951171875, 101.65480041503906, 101.69719696044922, 101.73909759521484, 101.78060150146484, 101.82170104980469, 101.86229705810547, 101.90239715576172, 101.94200134277344, 101.981201171875, 102.0197982788086, 102.05799865722656, 102.09559631347656, 102.13279724121094, 102.16929626464844, 102.20539855957031, 102.24089813232422, 102.2759017944336, 102.3102035522461, 102.34410095214844, 102.3772964477539, 102.40989685058594, 102.44200134277344, 102.47339630126953, 102.50430297851562, 102.53450012207031, 102.56410217285156, 102.59310150146484, 102.62139892578125, 102.64910125732422, 102.67610168457031, 102.70249938964844, 102.72820281982422, 102.7531967163086, 102.77749633789062, 102.80120086669922, 102.8240966796875, 102.84639739990234, 102.8678970336914, 102.88880157470703, 102.90889739990234, 102.92829895019531, 102.9469985961914, 102.96489715576172, 102.98210144042969, 102.99849700927734, 103.01419830322266, 103.0291976928711, 103.04340362548828, 103.05680084228516, 103.06939697265625, 103.081298828125, 103.09239959716797, 103.10279846191406, 103.11229705810547, 103.12110137939453, 103.12909698486328, 103.13629913330078, 103.1427001953125, 103.14830017089844, 103.1530990600586, 103.15709686279297, 103.1603012084961, 103.1626968383789, 103.16429901123047, 103.16510009765625], [100.33609771728516, 100.33809661865234, 100.34190368652344, 100.34770202636719, 100.3551025390625, 100.36470031738281, 100.37470245361328, 100.38990020751953, 100.39520263671875, 100.43810272216797, 100.48139953613281, 100.533203125, 100.58219909667969, 100.63179779052734, 100.68099975585938, 100.7301025390625, 100.77890014648438, 100.82749938964844, 100.87590026855469, 100.92400360107422, 100.9719009399414, 101.01950073242188, 101.06680297851562, 101.11380004882812, 101.1604995727539, 101.20690155029297, 101.25299835205078, 101.29869842529297, 101.34410095214844, 101.38919830322266, 101.43379974365234, 101.47810363769531, 101.52210235595703, 101.56559753417969, 101.60870361328125, 101.65139770507812, 101.6937026977539, 101.73560333251953, 101.7770004272461, 101.81800079345703, 101.8584976196289, 101.89849853515625, 101.93810272216797, 101.97720336914062, 102.01580047607422, 102.05390167236328, 102.09140014648438, 102.12850189208984, 102.16500091552734, 102.20099639892578, 102.23639678955078, 102.27130126953125, 102.30560302734375, 102.33940124511719, 102.37259674072266, 102.40519714355469, 102.43720245361328, 102.46849822998047, 102.49929809570312, 102.52950286865234, 102.55899810791016, 102.58789825439453, 102.61620330810547, 102.643798828125, 102.6707992553711, 102.69709777832031, 102.72270202636719, 102.7477035522461, 102.77200317382812, 102.79560089111328, 102.81849670410156, 102.8406982421875, 102.86219787597656, 102.88300323486328, 102.9030990600586, 102.92240142822266, 102.94100189208984, 102.95890045166016, 102.9760971069336, 102.99250030517578, 103.0082015991211, 103.02310180664062, 103.03720092773438, 103.05059814453125, 103.06330108642578, 103.07510375976562, 103.08619689941406, 103.09649658203125, 103.10600280761719, 103.11479949951172, 103.1227035522461, 103.12989807128906, 103.13629913330078, 103.14189910888672, 103.14659881591797, 103.15059661865234, 103.15380096435547, 103.15619659423828, 103.15779876708984, 103.15859985351562], [100.25890350341797, 100.26100158691406, 100.26509857177734, 100.27159881591797, 100.27890014648438, 100.29190063476562, 100.29429626464844, 100.33709716796875, 100.38050079345703, 100.43250274658203, 100.48179626464844, 100.53170013427734, 100.5811996459961, 100.63059997558594, 100.67970275878906, 100.72869873046875, 100.77749633789062, 100.82599639892578, 100.87429809570312, 100.92240142822266, 100.97010040283203, 101.0177001953125, 101.06490325927734, 101.11180114746094, 101.15850067138672, 101.20480346679688, 101.25080108642578, 101.29650115966797, 101.341796875, 101.38680267333984, 101.431396484375, 101.47570037841797, 101.51950073242188, 101.56300354003906, 101.6061019897461, 101.64869689941406, 101.69100189208984, 101.73280334472656, 101.77410125732422, 101.81500244140625, 101.85549926757812, 101.89550018310547, 101.93499755859375, 101.9739990234375, 102.01249694824219, 102.05059814453125, 102.08809661865234, 102.1250991821289, 102.1615982055664, 102.19750213623047, 102.23290252685547, 102.2677001953125, 102.302001953125, 102.33570098876953, 102.3687973022461, 102.40129852294922, 102.43329620361328, 102.464599609375, 102.49530029296875, 102.52539825439453, 102.55500030517578, 102.58380126953125, 102.61199951171875, 102.63960266113281, 102.66649627685547, 102.69280242919922, 102.71839904785156, 102.74330139160156, 102.7676010131836, 102.79109954833984, 102.81400299072266, 102.83619689941406, 102.85759735107422, 102.87840270996094, 102.89839935302734, 102.9177017211914, 102.9363021850586, 102.9542007446289, 102.97129821777344, 102.98770141601562, 103.00330352783203, 103.01820373535156, 103.03230285644531, 103.04570007324219, 103.05829620361328, 103.07009887695312, 103.0811996459961, 103.09149932861328, 103.10099792480469, 103.10970306396484, 103.1176986694336, 103.12480163574219, 103.1312026977539, 103.13680267333984, 103.1415023803711, 103.14550018310547, 103.14869689941406, 103.1511001586914, 103.15270233154297, 103.15350341796875], [100.17829895019531, 100.18070220947266, 100.18419647216797, 100.19439697265625, 100.19349670410156, 100.23619842529297, 100.27950286865234, 100.33180236816406, 100.38130187988281, 100.431396484375, 100.481201171875, 100.53079986572266, 100.5802993774414, 100.62960052490234, 100.67880249023438, 100.72769927978516, 100.77639770507812, 100.82489776611328, 100.87310028076172, 100.92109680175781, 100.96880340576172, 101.01629638671875, 101.0634994506836, 101.11039733886719, 101.15699768066406, 101.20330047607422, 101.24919891357422, 101.2947998046875, 101.34010314941406, 101.38510131835938, 101.42960357666016, 101.47380065917969, 101.5176010131836, 101.56109619140625, 101.6041030883789, 101.64669799804688, 101.68890380859375, 101.73059844970703, 101.77189636230469, 101.81279754638672, 101.85320281982422, 101.89320373535156, 101.93260192871094, 101.97160339355469, 102.01010131835938, 102.04810333251953, 102.08560180664062, 102.12249755859375, 102.15899658203125, 102.1948013305664, 102.2302017211914, 102.26499938964844, 102.29920196533203, 102.33290100097656, 102.36599731445312, 102.39839935302734, 102.4303970336914, 102.46170043945312, 102.49240112304688, 102.52239990234375, 102.5519027709961, 102.58070373535156, 102.60890197753906, 102.63639831542969, 102.66329956054688, 102.6895980834961, 102.71510314941406, 102.73999786376953, 102.76419830322266, 102.78780364990234, 102.81060028076172, 102.83280181884766, 102.85420227050781, 102.8749008178711, 102.8948974609375, 102.91419982910156, 102.93280029296875, 102.95059967041016, 102.96769714355469, 102.98410034179688, 102.99970245361328, 103.01460266113281, 103.02870178222656, 103.04199981689453, 103.05460357666016, 103.06639862060547, 103.07749938964844, 103.08769989013672, 103.09719848632812, 103.10590362548828, 103.11389923095703, 103.12100219726562, 103.12740325927734, 103.13289642333984, 103.13770294189453, 103.1417007446289, 103.1448974609375, 103.14730072021484, 103.1488037109375, 103.14959716796875], [100.09369659423828, 100.09870147705078, 100.09259796142578, 100.13529968261719, 100.17859649658203, 100.2311019897461, 100.28070068359375, 100.33100128173828, 100.38099670410156, 100.43090057373047, 100.48069763183594, 100.5302963256836, 100.57980346679688, 100.62899780273438, 100.6781005859375, 100.72699737548828, 100.77570343017578, 100.8240966796875, 100.87229919433594, 100.92030334472656, 100.96800231933594, 101.0154037475586, 101.0625991821289, 101.1093978881836, 101.15599822998047, 101.20220184326172, 101.24810028076172, 101.293701171875, 101.33899688720703, 101.38390350341797, 101.42839813232422, 101.47260284423828, 101.51640319824219, 101.55979919433594, 101.60269927978516, 101.64530181884766, 101.6875, 101.72920227050781, 101.77050018310547, 101.8113021850586, 101.85169982910156, 101.8916015625, 101.93109893798828, 101.97000122070312, 102.00849914550781, 102.04640197753906, 102.08390045166016, 102.12079620361328, 102.1572036743164, 102.19309997558594, 102.22840118408203, 102.26319885253906, 102.29740142822266, 102.33100128173828, 102.36409759521484, 102.39649963378906, 102.42839813232422, 102.45970153808594, 102.49040222167969, 102.52040100097656, 102.54989624023438, 102.57869720458984, 102.60679626464844, 102.6343002319336, 102.66120147705078, 102.6874008178711, 102.71299743652344, 102.73780059814453, 102.76200103759766, 102.7854995727539, 102.80840301513672, 102.83049774169922, 102.85189819335938, 102.87259674072266, 102.8926010131836, 102.91190338134766, 102.9303970336914, 102.94819641113281, 102.96530151367188, 102.98169708251953, 102.99729919433594, 103.01210021972656, 103.02619934082031, 103.03949737548828, 103.0521011352539, 103.06390380859375, 103.07499694824219, 103.08519744873047, 103.0947036743164, 103.10340118408203, 103.11129760742188, 103.11849975585938, 103.12480163574219, 103.13040161132812, 103.13510131835938, 103.13909912109375, 103.14230346679688, 103.14469909667969, 103.14630126953125, 103.14710235595703], [100.0011978149414, 100.03459930419922, 100.07759857177734, 100.13040161132812, 100.18000030517578, 100.23049926757812, 100.28070068359375, 100.33080291748047, 100.38079833984375, 100.43070220947266, 100.48040008544922, 100.52999877929688, 100.57949829101562, 100.62870025634766, 100.67780303955078, 100.72669982910156, 100.77529907226562, 100.82369995117188, 100.87190246582031, 100.9198989868164, 100.96749877929688, 101.01499938964844, 101.06210327148438, 101.10890197753906, 101.15550231933594, 101.20169830322266, 101.24759674072266, 101.29319763183594, 101.3384017944336, 101.38330078125, 101.42780303955078, 101.47200012207031, 101.51570129394531, 101.55909729003906, 101.60209655761719, 101.64459991455078, 101.68679809570312, 101.72850036621094, 101.7697982788086, 101.81060028076172, 101.85099792480469, 101.89089965820312, 101.9302978515625, 101.96920013427734, 102.00769805908203, 102.04560089111328, 102.08309936523438, 102.12000274658203, 102.15640258789062, 102.19219970703125, 102.22750091552734, 102.26229858398438, 102.29650115966797, 102.3301010131836, 102.36309814453125, 102.39559936523438, 102.42739868164062, 102.45870208740234, 102.4894027709961, 102.51940155029297, 102.54879760742188, 102.57759857177734, 102.60579681396484, 102.63330078125, 102.66020202636719, 102.6864013671875, 102.71189880371094, 102.73670196533203, 102.76090240478516, 102.7844009399414, 102.80719757080078, 102.82929992675781, 102.85079956054688, 102.87149810791016, 102.89140319824219, 102.91069793701172, 102.92919921875, 102.94709777832031, 102.96410369873047, 102.98049926757812, 102.99610137939453, 103.01090240478516, 103.0250015258789, 103.03829956054688, 103.0509033203125, 103.06269836425781, 103.07369995117188, 103.08399963378906, 103.09339904785156, 103.10209655761719, 103.11009979248047, 103.11720275878906, 103.12349700927734, 103.12909698486328, 103.13390350341797, 103.13780212402344, 103.14099884033203, 103.14340209960938, 103.1449966430664, 103.14579772949219]]'"
      ]
     },
     "execution_count": 13,
     "metadata": {},
     "output_type": "execute_result"
    }
   ],
   "execution_count": 13
  },
  {
   "cell_type": "code",
   "id": "df7dfd8ff0308815",
   "metadata": {
    "collapsed": false,
    "execution": {
     "iopub.execute_input": "2024-06-20T19:03:06.323105Z",
     "iopub.status.busy": "2024-06-20T19:03:06.323005Z",
     "iopub.status.idle": "2024-06-20T19:03:06.325155Z",
     "shell.execute_reply": "2024-06-20T19:03:06.324950Z"
    },
    "papermill": {
     "duration": 0.005852,
     "end_time": "2024-06-20T19:03:06.325891",
     "exception": false,
     "start_time": "2024-06-20T19:03:06.320039",
     "status": "completed"
    },
    "tags": [],
    "ExecuteTime": {
     "end_time": "2024-08-19T10:16:36.299460Z",
     "start_time": "2024-08-19T10:16:36.296256Z"
    }
   },
   "source": "calculation.read_flow_drawdown(idx=0, layer=0)",
   "outputs": [
    {
     "data": {
      "text/plain": [
       "[]"
      ]
     },
     "execution_count": 14,
     "metadata": {},
     "output_type": "execute_result"
    }
   ],
   "execution_count": 14
  },
  {
   "cell_type": "code",
   "id": "b233f4066b56c174",
   "metadata": {
    "collapsed": false,
    "execution": {
     "iopub.execute_input": "2024-06-20T19:03:06.331673Z",
     "iopub.status.busy": "2024-06-20T19:03:06.331576Z",
     "iopub.status.idle": "2024-06-20T19:03:06.334840Z",
     "shell.execute_reply": "2024-06-20T19:03:06.334637Z"
    },
    "papermill": {
     "duration": 0.007015,
     "end_time": "2024-06-20T19:03:06.335631",
     "exception": false,
     "start_time": "2024-06-20T19:03:06.328616",
     "status": "completed"
    },
    "tags": [],
    "ExecuteTime": {
     "end_time": "2024-08-19T10:16:36.305774Z",
     "start_time": "2024-08-19T10:16:36.300229Z"
    }
   },
   "source": "calculation.read_flow_budget(idx=0, incremental=False)",
   "outputs": [
    {
     "data": {
      "text/plain": [
       "{'STORAGE_IN': 0.0,\n",
       " 'CONSTANT_HEAD_IN': 0.0,\n",
       " 'RIVER_LEAKAGE_IN': 877.0484,\n",
       " 'TOTAL_IN': 877.0484,\n",
       " 'STORAGE_OUT': -0.0,\n",
       " 'CONSTANT_HEAD_OUT': -0.0,\n",
       " 'RIVER_LEAKAGE_OUT': -877.0629,\n",
       " 'TOTAL_OUT': -877.0629,\n",
       " 'IN-OUT': -0.014465,\n",
       " 'PERCENT_DISCREPANCY': -0.0,\n",
       " 'tslen': 365.0}"
      ]
     },
     "execution_count": 15,
     "metadata": {},
     "output_type": "execute_result"
    }
   ],
   "execution_count": 15
  },
  {
   "cell_type": "code",
   "id": "634709d741f5c252",
   "metadata": {
    "collapsed": false,
    "execution": {
     "iopub.execute_input": "2024-06-20T19:03:06.341525Z",
     "iopub.status.busy": "2024-06-20T19:03:06.341419Z",
     "iopub.status.idle": "2024-06-20T19:03:06.344592Z",
     "shell.execute_reply": "2024-06-20T19:03:06.344378Z"
    },
    "papermill": {
     "duration": 0.006953,
     "end_time": "2024-06-20T19:03:06.345310",
     "exception": false,
     "start_time": "2024-06-20T19:03:06.338357",
     "status": "completed"
    },
    "tags": [],
    "ExecuteTime": {
     "end_time": "2024-08-19T10:16:36.312582Z",
     "start_time": "2024-08-19T10:16:36.306794Z"
    }
   },
   "source": "calculation.read_flow_budget(idx=0, incremental=True)",
   "outputs": [
    {
     "data": {
      "text/plain": [
       "{'STORAGE_IN': 0.0,\n",
       " 'CONSTANT_HEAD_IN': 0.0,\n",
       " 'RIVER_LEAKAGE_IN': 2.4029,\n",
       " 'TOTAL_IN': 2.4029,\n",
       " 'STORAGE_OUT': -0.0,\n",
       " 'CONSTANT_HEAD_OUT': -0.0,\n",
       " 'RIVER_LEAKAGE_OUT': -2.4029,\n",
       " 'TOTAL_OUT': -2.4029,\n",
       " 'IN-OUT': -3.9577e-05,\n",
       " 'PERCENT_DISCREPANCY': -0.0,\n",
       " 'tslen': 365.0}"
      ]
     },
     "execution_count": 16,
     "metadata": {},
     "output_type": "execute_result"
    }
   ],
   "execution_count": 16
  },
  {
   "cell_type": "code",
   "id": "160abd7d290c83f7",
   "metadata": {
    "collapsed": false,
    "execution": {
     "iopub.execute_input": "2024-06-20T19:03:06.351358Z",
     "iopub.status.busy": "2024-06-20T19:03:06.351265Z",
     "iopub.status.idle": "2024-06-20T19:03:06.423813Z",
     "shell.execute_reply": "2024-06-20T19:03:06.422944Z"
    },
    "papermill": {
     "duration": 0.07797,
     "end_time": "2024-06-20T19:03:06.426156",
     "exception": false,
     "start_time": "2024-06-20T19:03:06.348186",
     "status": "completed"
    },
    "tags": [],
    "ExecuteTime": {
     "end_time": "2024-08-19T10:16:36.417135Z",
     "start_time": "2024-08-19T10:16:36.313202Z"
    }
   },
   "source": [
    "import matplotlib.pyplot as plt\n",
    "\n",
    "heads = calculation.read_flow_head(idx=0, layer=0)\n",
    "plt.subplot(2, 1, 1)\n",
    "plt.imshow(heads, cmap='jet_r')\n",
    "plt.colorbar()\n",
    "plt.show()"
   ],
   "outputs": [
    {
     "data": {
      "text/plain": [
       "<Figure size 640x480 with 2 Axes>"
      ],
      "image/png": "[encoded data removed]"
     },
     "metadata": {},
     "output_type": "display_data"
    }
   ],
   "execution_count": 17
  },
  {
   "cell_type": "code",
   "id": "1a893419d5a2a334",
   "metadata": {
    "collapsed": false,
    "papermill": {
     "duration": 0.008564,
     "end_time": "2024-06-20T19:03:06.444365",
     "exception": false,
     "start_time": "2024-06-20T19:03:06.435801",
     "status": "completed"
    },
    "tags": [],
    "ExecuteTime": {
     "end_time": "2024-08-19T10:16:36.421462Z",
     "start_time": "2024-08-19T10:16:36.419241Z"
    }
   },
   "source": [],
   "outputs": [],
   "execution_count": 17
  }
 ],
 "metadata": {
  "kernelspec": {
   "display_name": "Python 3",
   "language": "python",
   "name": "python3"
  },
  "language_info": {
   "codemirror_mode": {
    "name": "ipython",
    "version": 3
   },
   "file_extension": ".py",
   "mimetype": "text/x-python",
   "name": "python",
   "nbconvert_exporter": "python",
   "pygments_lexer": "ipython3",
   "version": "3.12.2"
  },
  "papermill": {
   "default_parameters": {},
   "duration": 3.564885,
   "end_time": "2024-06-20T19:03:06.887036",
   "environment_variables": {},
   "exception": null,
   "input_path": "./notebooks/Test_RiverBoundary.ipynb",
   "output_path": "./notebooks/Test_RiverBoundary.ipynb",
   "parameters": {},
   "start_time": "2024-06-20T19:03:03.322151",
   "version": "2.6.0"
  }
 },
 "nbformat": 4,
 "nbformat_minor": 5
}
