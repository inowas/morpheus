{
 "cells": [
  {
   "cell_type": "code",
   "source": [
    "import sys\n",
    "\n",
    "import numpy as np\n",
    "\n",
    "sys.path.insert(0, '..')\n",
    "\n",
    "#!{sys.executable} -m pip install folium\n",
    "#!{sys.executable} -m pip install openapi_core\n"
   ],
   "metadata": {
    "collapsed": false,
    "ExecuteTime": {
     "end_time": "2024-04-19T20:44:40.549916Z",
     "start_time": "2024-04-19T20:44:40.454202Z"
    }
   },
   "id": "ba6761fae9d5e5cb",
   "outputs": [],
   "execution_count": 1
  },
  {
   "cell_type": "markdown",
   "source": [
    "# Setup the model area and river geometry"
   ],
   "metadata": {
    "collapsed": false
   },
   "id": "5ede1ba5e0993dd1"
  },
  {
   "cell_type": "code",
   "source": [
    "from morpheus.project.types.discretization.spatial import Rotation, LengthUnit, Grid\n",
    "from morpheus.project.types.geometry import Polygon, LineString\n",
    "\n",
    "polygon = Polygon(\n",
    "  type='Polygon',\n",
    "  coordinates=[[\n",
    "    (13.922514437551428, 50.964720483303836),\n",
    "    (13.925250781947113, 50.965228748412386),\n",
    "    (13.925036413951403, 50.96623732041704),\n",
    "    (13.92222441026388, 50.96629040370362),\n",
    "    (13.922514437551428, 50.964720483303836)\n",
    "  ]]\n",
    ")\n",
    "\n",
    "rotation = Rotation(0)\n",
    "length_unit = LengthUnit.meters()\n",
    "relative_col_coordinates = [0, 0.1, 0.2, 0.3, 0.4, 0.5, 0.6, 0.7, 0.8, 0.9, 1]\n",
    "relative_row_coordinates = [0, 0.1, 0.2, 0.3, 0.4, 0.5, 0.6, 0.7, 0.8, 0.9, 1]\n",
    "\n",
    "grid = Grid.from_polygon_with_relative_coordinates(\n",
    "  polygon=polygon,\n",
    "  relative_col_coordinates=relative_col_coordinates,\n",
    "  relative_row_coordinates=relative_row_coordinates,\n",
    "  rotation=rotation,\n",
    ")\n",
    "\n",
    "river = LineString([\n",
    "  (13.9226, 50.9661),\n",
    "  (13.9250, 50.9657),\n",
    "])\n"
   ],
   "metadata": {
    "collapsed": false,
    "ExecuteTime": {
     "end_time": "2024-04-19T20:44:40.626895Z",
     "start_time": "2024-04-19T20:44:40.552442Z"
    }
   },
   "id": "2f69504ab35487aa",
   "outputs": [],
   "execution_count": 2
  },
  {
   "cell_type": "code",
   "source": [
    "import folium\n",
    "\n",
    "m = folium.Map(tiles=\"cartodbpositron\", crs=\"EPSG3857\", zoom_start=12, location=[50.965, 13.922])\n",
    "m.add_child(folium.GeoJson(polygon.as_geojson()))\n",
    "m.add_child(folium.GeoJson(river.as_geojson()))\n",
    "\n",
    "m.fit_bounds(m.get_bounds())\n",
    "m"
   ],
   "metadata": {
    "collapsed": false,
    "ExecuteTime": {
     "end_time": "2024-04-19T20:44:41.070446Z",
     "start_time": "2024-04-19T20:44:40.628728Z"
    }
   },
   "id": "1540b870ae83f298",
   "outputs": [
    {
     "data": {
      "text/plain": [
       "<folium.folium.Map at 0x126861b50>"
      ],
      "text/html": [
       "<div style=\"width:100%;\"><div style=\"position:relative;width:100%;height:0;padding-bottom:60%;\"><span style=\"color:#565656\">Make this Notebook Trusted to load map: File -> Trust Notebook</span><iframe srcdoc=\"&lt;!DOCTYPE html&gt;\n",
       "&lt;html&gt;\n",
       "&lt;head&gt;\n",
       "    \n",
       "    &lt;meta http-equiv=&quot;content-type&quot; content=&quot;text/html; charset=UTF-8&quot; /&gt;\n",
       "    \n",
       "        &lt;script&gt;\n",
       "            L_NO_TOUCH = false;\n",
       "            L_DISABLE_3D = false;\n",
       "        &lt;/script&gt;\n",
       "    \n",
       "    &lt;style&gt;html, body {width: 100%;height: 100%;margin: 0;padding: 0;}&lt;/style&gt;\n",
       "    &lt;style&gt;#map {position:absolute;top:0;bottom:0;right:0;left:0;}&lt;/style&gt;\n",
       "    &lt;script src=&quot;https://cdn.jsdelivr.net/npm/leaflet@1.9.3/dist/leaflet.js&quot;&gt;&lt;/script&gt;\n",
       "    &lt;script src=&quot;https://code.jquery.com/jquery-3.7.1.min.js&quot;&gt;&lt;/script&gt;\n",
       "    &lt;script src=&quot;https://cdn.jsdelivr.net/npm/bootstrap@5.2.2/dist/js/bootstrap.bundle.min.js&quot;&gt;&lt;/script&gt;\n",
       "    &lt;script src=&quot;https://cdnjs.cloudflare.com/ajax/libs/Leaflet.awesome-markers/2.0.2/leaflet.awesome-markers.js&quot;&gt;&lt;/script&gt;\n",
       "    &lt;link rel=&quot;stylesheet&quot; href=&quot;https://cdn.jsdelivr.net/npm/leaflet@1.9.3/dist/leaflet.css&quot;/&gt;\n",
       "    &lt;link rel=&quot;stylesheet&quot; href=&quot;https://cdn.jsdelivr.net/npm/bootstrap@5.2.2/dist/css/bootstrap.min.css&quot;/&gt;\n",
       "    &lt;link rel=&quot;stylesheet&quot; href=&quot;https://netdna.bootstrapcdn.com/bootstrap/3.0.0/css/bootstrap.min.css&quot;/&gt;\n",
       "    &lt;link rel=&quot;stylesheet&quot; href=&quot;https://cdn.jsdelivr.net/npm/@fortawesome/fontawesome-free@6.2.0/css/all.min.css&quot;/&gt;\n",
       "    &lt;link rel=&quot;stylesheet&quot; href=&quot;https://cdnjs.cloudflare.com/ajax/libs/Leaflet.awesome-markers/2.0.2/leaflet.awesome-markers.css&quot;/&gt;\n",
       "    &lt;link rel=&quot;stylesheet&quot; href=&quot;https://cdn.jsdelivr.net/gh/python-visualization/folium/folium/templates/leaflet.awesome.rotate.min.css&quot;/&gt;\n",
       "    \n",
       "            &lt;meta name=&quot;viewport&quot; content=&quot;width=device-width,\n",
       "                initial-scale=1.0, maximum-scale=1.0, user-scalable=no&quot; /&gt;\n",
       "            &lt;style&gt;\n",
       "                #map_d03d8449298e85a1ce81a554554fa131 {\n",
       "                    position: relative;\n",
       "                    width: 100.0%;\n",
       "                    height: 100.0%;\n",
       "                    left: 0.0%;\n",
       "                    top: 0.0%;\n",
       "                }\n",
       "                .leaflet-container { font-size: 1rem; }\n",
       "            &lt;/style&gt;\n",
       "        \n",
       "&lt;/head&gt;\n",
       "&lt;body&gt;\n",
       "    \n",
       "    \n",
       "            &lt;div class=&quot;folium-map&quot; id=&quot;map_d03d8449298e85a1ce81a554554fa131&quot; &gt;&lt;/div&gt;\n",
       "        \n",
       "&lt;/body&gt;\n",
       "&lt;script&gt;\n",
       "    \n",
       "    \n",
       "            var map_d03d8449298e85a1ce81a554554fa131 = L.map(\n",
       "                &quot;map_d03d8449298e85a1ce81a554554fa131&quot;,\n",
       "                {\n",
       "                    center: [50.965, 13.922],\n",
       "                    crs: L.CRS.EPSG3857,\n",
       "                    zoom: 12,\n",
       "                    zoomControl: true,\n",
       "                    preferCanvas: false,\n",
       "                }\n",
       "            );\n",
       "\n",
       "            \n",
       "\n",
       "        \n",
       "    \n",
       "            var tile_layer_31a9fee4f52de2fa0c3db221149af2b9 = L.tileLayer(\n",
       "                &quot;https://{s}.basemaps.cartocdn.com/light_all/{z}/{x}/{y}{r}.png&quot;,\n",
       "                {&quot;attribution&quot;: &quot;\\u0026copy; \\u003ca href=\\&quot;https://www.openstreetmap.org/copyright\\&quot;\\u003eOpenStreetMap\\u003c/a\\u003e contributors \\u0026copy; \\u003ca href=\\&quot;https://carto.com/attributions\\&quot;\\u003eCARTO\\u003c/a\\u003e&quot;, &quot;detectRetina&quot;: false, &quot;maxNativeZoom&quot;: 20, &quot;maxZoom&quot;: 20, &quot;minZoom&quot;: 0, &quot;noWrap&quot;: false, &quot;opacity&quot;: 1, &quot;subdomains&quot;: &quot;abcd&quot;, &quot;tms&quot;: false}\n",
       "            );\n",
       "        \n",
       "    \n",
       "            tile_layer_31a9fee4f52de2fa0c3db221149af2b9.addTo(map_d03d8449298e85a1ce81a554554fa131);\n",
       "        \n",
       "    \n",
       "\n",
       "        function geo_json_08a86b12da564fbb98f9ed5b3b6bf69c_onEachFeature(feature, layer) {\n",
       "            layer.on({\n",
       "            });\n",
       "        };\n",
       "        var geo_json_08a86b12da564fbb98f9ed5b3b6bf69c = L.geoJson(null, {\n",
       "                onEachFeature: geo_json_08a86b12da564fbb98f9ed5b3b6bf69c_onEachFeature,\n",
       "            \n",
       "        });\n",
       "\n",
       "        function geo_json_08a86b12da564fbb98f9ed5b3b6bf69c_add (data) {\n",
       "            geo_json_08a86b12da564fbb98f9ed5b3b6bf69c\n",
       "                .addData(data);\n",
       "        }\n",
       "            geo_json_08a86b12da564fbb98f9ed5b3b6bf69c_add({&quot;coordinates&quot;: [[[13.922514437551428, 50.964720483303836], [13.925250781947113, 50.965228748412386], [13.925036413951403, 50.96623732041704], [13.92222441026388, 50.96629040370362], [13.922514437551428, 50.964720483303836]]], &quot;type&quot;: &quot;Polygon&quot;});\n",
       "\n",
       "        \n",
       "    \n",
       "            geo_json_08a86b12da564fbb98f9ed5b3b6bf69c.addTo(map_d03d8449298e85a1ce81a554554fa131);\n",
       "        \n",
       "    \n",
       "\n",
       "        function geo_json_91717a599f9114de47318c8f201d1cbc_onEachFeature(feature, layer) {\n",
       "            layer.on({\n",
       "            });\n",
       "        };\n",
       "        var geo_json_91717a599f9114de47318c8f201d1cbc = L.geoJson(null, {\n",
       "                onEachFeature: geo_json_91717a599f9114de47318c8f201d1cbc_onEachFeature,\n",
       "            \n",
       "        });\n",
       "\n",
       "        function geo_json_91717a599f9114de47318c8f201d1cbc_add (data) {\n",
       "            geo_json_91717a599f9114de47318c8f201d1cbc\n",
       "                .addData(data);\n",
       "        }\n",
       "            geo_json_91717a599f9114de47318c8f201d1cbc_add({&quot;coordinates&quot;: [[13.9226, 50.9661], [13.925, 50.9657]], &quot;type&quot;: &quot;LineString&quot;});\n",
       "\n",
       "        \n",
       "    \n",
       "            geo_json_91717a599f9114de47318c8f201d1cbc.addTo(map_d03d8449298e85a1ce81a554554fa131);\n",
       "        \n",
       "    \n",
       "            map_d03d8449298e85a1ce81a554554fa131.fitBounds(\n",
       "                [[50.964720483303836, 13.92222441026388], [50.96629040370362, 13.925250781947113]],\n",
       "                {}\n",
       "            );\n",
       "        \n",
       "&lt;/script&gt;\n",
       "&lt;/html&gt;\" style=\"position:absolute;width:100%;height:100%;left:0;top:0;border:none !important;\" allowfullscreen webkitallowfullscreen mozallowfullscreen></iframe></div></div>"
      ]
     },
     "execution_count": 3,
     "metadata": {},
     "output_type": "execute_result"
    }
   ],
   "execution_count": 3
  },
  {
   "cell_type": "markdown",
   "source": [
    "## Calculate and Render Grid Perimeter and River Cells "
   ],
   "metadata": {
    "collapsed": false
   },
   "id": "2ed6c19e1f77c7c2"
  },
  {
   "cell_type": "code",
   "source": [
    "from morpheus.project.types.discretization.spatial import ActiveCells\n",
    "\n",
    "grid_geometry = grid.to_geojson()\n",
    "\n",
    "cells = ActiveCells.from_linestring(river, grid)\n",
    "cells_geometries = cells.to_geojson(grid)\n",
    "\n",
    "m.add_child(folium.GeoJson(grid_geometry.as_geojson()))\n",
    "m.add_child(folium.GeoJson(cells_geometries.as_geojson()))\n",
    "m.fit_bounds(m.get_bounds())\n",
    "m"
   ],
   "metadata": {
    "collapsed": false,
    "ExecuteTime": {
     "end_time": "2024-04-19T20:45:02.633194Z",
     "start_time": "2024-04-19T20:45:02.581702Z"
    }
   },
   "id": "b3149019e43290a8",
   "outputs": [
    {
     "data": {
      "text/plain": [
       "<folium.folium.Map at 0x126861b50>"
      ],
      "text/html": [
       "<div style=\"width:100%;\"><div style=\"position:relative;width:100%;height:0;padding-bottom:60%;\"><span style=\"color:#565656\">Make this Notebook Trusted to load map: File -> Trust Notebook</span><iframe srcdoc=\"&lt;!DOCTYPE html&gt;\n",
       "&lt;html&gt;\n",
       "&lt;head&gt;\n",
       "    \n",
       "    &lt;meta http-equiv=&quot;content-type&quot; content=&quot;text/html; charset=UTF-8&quot; /&gt;\n",
       "    \n",
       "        &lt;script&gt;\n",
       "            L_NO_TOUCH = false;\n",
       "            L_DISABLE_3D = false;\n",
       "        &lt;/script&gt;\n",
       "    \n",
       "    &lt;style&gt;html, body {width: 100%;height: 100%;margin: 0;padding: 0;}&lt;/style&gt;\n",
       "    &lt;style&gt;#map {position:absolute;top:0;bottom:0;right:0;left:0;}&lt;/style&gt;\n",
       "    &lt;script src=&quot;https://cdn.jsdelivr.net/npm/leaflet@1.9.3/dist/leaflet.js&quot;&gt;&lt;/script&gt;\n",
       "    &lt;script src=&quot;https://code.jquery.com/jquery-3.7.1.min.js&quot;&gt;&lt;/script&gt;\n",
       "    &lt;script src=&quot;https://cdn.jsdelivr.net/npm/bootstrap@5.2.2/dist/js/bootstrap.bundle.min.js&quot;&gt;&lt;/script&gt;\n",
       "    &lt;script src=&quot;https://cdnjs.cloudflare.com/ajax/libs/Leaflet.awesome-markers/2.0.2/leaflet.awesome-markers.js&quot;&gt;&lt;/script&gt;\n",
       "    &lt;link rel=&quot;stylesheet&quot; href=&quot;https://cdn.jsdelivr.net/npm/leaflet@1.9.3/dist/leaflet.css&quot;/&gt;\n",
       "    &lt;link rel=&quot;stylesheet&quot; href=&quot;https://cdn.jsdelivr.net/npm/bootstrap@5.2.2/dist/css/bootstrap.min.css&quot;/&gt;\n",
       "    &lt;link rel=&quot;stylesheet&quot; href=&quot;https://netdna.bootstrapcdn.com/bootstrap/3.0.0/css/bootstrap.min.css&quot;/&gt;\n",
       "    &lt;link rel=&quot;stylesheet&quot; href=&quot;https://cdn.jsdelivr.net/npm/@fortawesome/fontawesome-free@6.2.0/css/all.min.css&quot;/&gt;\n",
       "    &lt;link rel=&quot;stylesheet&quot; href=&quot;https://cdnjs.cloudflare.com/ajax/libs/Leaflet.awesome-markers/2.0.2/leaflet.awesome-markers.css&quot;/&gt;\n",
       "    &lt;link rel=&quot;stylesheet&quot; href=&quot;https://cdn.jsdelivr.net/gh/python-visualization/folium/folium/templates/leaflet.awesome.rotate.min.css&quot;/&gt;\n",
       "    \n",
       "            &lt;meta name=&quot;viewport&quot; content=&quot;width=device-width,\n",
       "                initial-scale=1.0, maximum-scale=1.0, user-scalable=no&quot; /&gt;\n",
       "            &lt;style&gt;\n",
       "                #map_d03d8449298e85a1ce81a554554fa131 {\n",
       "                    position: relative;\n",
       "                    width: 100.0%;\n",
       "                    height: 100.0%;\n",
       "                    left: 0.0%;\n",
       "                    top: 0.0%;\n",
       "                }\n",
       "                .leaflet-container { font-size: 1rem; }\n",
       "            &lt;/style&gt;\n",
       "        \n",
       "&lt;/head&gt;\n",
       "&lt;body&gt;\n",
       "    \n",
       "    \n",
       "            &lt;div class=&quot;folium-map&quot; id=&quot;map_d03d8449298e85a1ce81a554554fa131&quot; &gt;&lt;/div&gt;\n",
       "        \n",
       "&lt;/body&gt;\n",
       "&lt;script&gt;\n",
       "    \n",
       "    \n",
       "            var map_d03d8449298e85a1ce81a554554fa131 = L.map(\n",
       "                &quot;map_d03d8449298e85a1ce81a554554fa131&quot;,\n",
       "                {\n",
       "                    center: [50.965, 13.922],\n",
       "                    crs: L.CRS.EPSG3857,\n",
       "                    zoom: 12,\n",
       "                    zoomControl: true,\n",
       "                    preferCanvas: false,\n",
       "                }\n",
       "            );\n",
       "\n",
       "            \n",
       "\n",
       "        \n",
       "    \n",
       "            var tile_layer_31a9fee4f52de2fa0c3db221149af2b9 = L.tileLayer(\n",
       "                &quot;https://{s}.basemaps.cartocdn.com/light_all/{z}/{x}/{y}{r}.png&quot;,\n",
       "                {&quot;attribution&quot;: &quot;\\u0026copy; \\u003ca href=\\&quot;https://www.openstreetmap.org/copyright\\&quot;\\u003eOpenStreetMap\\u003c/a\\u003e contributors \\u0026copy; \\u003ca href=\\&quot;https://carto.com/attributions\\&quot;\\u003eCARTO\\u003c/a\\u003e&quot;, &quot;detectRetina&quot;: false, &quot;maxNativeZoom&quot;: 20, &quot;maxZoom&quot;: 20, &quot;minZoom&quot;: 0, &quot;noWrap&quot;: false, &quot;opacity&quot;: 1, &quot;subdomains&quot;: &quot;abcd&quot;, &quot;tms&quot;: false}\n",
       "            );\n",
       "        \n",
       "    \n",
       "            tile_layer_31a9fee4f52de2fa0c3db221149af2b9.addTo(map_d03d8449298e85a1ce81a554554fa131);\n",
       "        \n",
       "    \n",
       "\n",
       "        function geo_json_08a86b12da564fbb98f9ed5b3b6bf69c_onEachFeature(feature, layer) {\n",
       "            layer.on({\n",
       "            });\n",
       "        };\n",
       "        var geo_json_08a86b12da564fbb98f9ed5b3b6bf69c = L.geoJson(null, {\n",
       "                onEachFeature: geo_json_08a86b12da564fbb98f9ed5b3b6bf69c_onEachFeature,\n",
       "            \n",
       "        });\n",
       "\n",
       "        function geo_json_08a86b12da564fbb98f9ed5b3b6bf69c_add (data) {\n",
       "            geo_json_08a86b12da564fbb98f9ed5b3b6bf69c\n",
       "                .addData(data);\n",
       "        }\n",
       "            geo_json_08a86b12da564fbb98f9ed5b3b6bf69c_add({&quot;coordinates&quot;: [[[13.922514437551428, 50.964720483303836], [13.925250781947113, 50.965228748412386], [13.925036413951403, 50.96623732041704], [13.92222441026388, 50.96629040370362], [13.922514437551428, 50.964720483303836]]], &quot;type&quot;: &quot;Polygon&quot;});\n",
       "\n",
       "        \n",
       "    \n",
       "            geo_json_08a86b12da564fbb98f9ed5b3b6bf69c.addTo(map_d03d8449298e85a1ce81a554554fa131);\n",
       "        \n",
       "    \n",
       "\n",
       "        function geo_json_91717a599f9114de47318c8f201d1cbc_onEachFeature(feature, layer) {\n",
       "            layer.on({\n",
       "            });\n",
       "        };\n",
       "        var geo_json_91717a599f9114de47318c8f201d1cbc = L.geoJson(null, {\n",
       "                onEachFeature: geo_json_91717a599f9114de47318c8f201d1cbc_onEachFeature,\n",
       "            \n",
       "        });\n",
       "\n",
       "        function geo_json_91717a599f9114de47318c8f201d1cbc_add (data) {\n",
       "            geo_json_91717a599f9114de47318c8f201d1cbc\n",
       "                .addData(data);\n",
       "        }\n",
       "            geo_json_91717a599f9114de47318c8f201d1cbc_add({&quot;coordinates&quot;: [[13.9226, 50.9661], [13.925, 50.9657]], &quot;type&quot;: &quot;LineString&quot;});\n",
       "\n",
       "        \n",
       "    \n",
       "            geo_json_91717a599f9114de47318c8f201d1cbc.addTo(map_d03d8449298e85a1ce81a554554fa131);\n",
       "        \n",
       "    \n",
       "            map_d03d8449298e85a1ce81a554554fa131.fitBounds(\n",
       "                [[50.964720483303836, 13.92222441026388], [50.96629040370362, 13.925250781947113]],\n",
       "                {}\n",
       "            );\n",
       "        \n",
       "    \n",
       "            tile_layer_31a9fee4f52de2fa0c3db221149af2b9.addTo(map_d03d8449298e85a1ce81a554554fa131);\n",
       "        \n",
       "    \n",
       "            geo_json_08a86b12da564fbb98f9ed5b3b6bf69c.addTo(map_d03d8449298e85a1ce81a554554fa131);\n",
       "        \n",
       "    \n",
       "            geo_json_91717a599f9114de47318c8f201d1cbc.addTo(map_d03d8449298e85a1ce81a554554fa131);\n",
       "        \n",
       "    \n",
       "\n",
       "        function geo_json_68744301ea461213a878397119c45343_onEachFeature(feature, layer) {\n",
       "            layer.on({\n",
       "            });\n",
       "        };\n",
       "        var geo_json_68744301ea461213a878397119c45343 = L.geoJson(null, {\n",
       "                onEachFeature: geo_json_68744301ea461213a878397119c45343_onEachFeature,\n",
       "            \n",
       "        });\n",
       "\n",
       "        function geo_json_68744301ea461213a878397119c45343_add (data) {\n",
       "            geo_json_68744301ea461213a878397119c45343\n",
       "                .addData(data);\n",
       "        }\n",
       "            geo_json_68744301ea461213a878397119c45343_add({&quot;features&quot;: [{&quot;geometry&quot;: {&quot;coordinates&quot;: [[[13.922224410263878, 50.96629040370359], [13.925250781947113, 50.96629040370359], [13.925250781947113, 50.964720483303815], [13.922224410263878, 50.964720483303815], [13.922224410263878, 50.96629040370359]]], &quot;type&quot;: &quot;Polygon&quot;}, &quot;properties&quot;: {&quot;col_widths&quot;: [33.68941547288559, 33.68941547288559, 33.6894154728856, 33.689415472885585, 33.6894154728856, 33.6894154728856, 33.68941547288557, 33.6894154728856, 33.68941547288563, 33.68941547288557], &quot;length_unit&quot;: &quot;meters&quot;, &quot;n_cols&quot;: 10, &quot;n_rows&quot;: 10, &quot;origin&quot;: {&quot;coordinates&quot;: [13.922224410263878, 50.9662904037036], &quot;type&quot;: &quot;Point&quot;}, &quot;rotation&quot;: 0, &quot;row_heights&quot;: [27.74944856585935, 27.74944856585935, 27.749448565859346, 27.749448565859353, 27.74944856585934, 27.749448565859353, 27.749448565859325, 27.74944856585938, 27.749448565859325, 27.749448565859353], &quot;total_height&quot;: 277.4944856585935, &quot;total_width&quot;: 336.89415472885594, &quot;type&quot;: &quot;bounding_box&quot;}, &quot;type&quot;: &quot;Feature&quot;}, {&quot;geometry&quot;: {&quot;coordinates&quot;: [[[13.922224410263878, 50.96629040370359], [13.922527047432201, 50.96629040370359], [13.922527047432201, 50.964720483303815], [13.922224410263878, 50.964720483303815], [13.922224410263878, 50.96629040370359]]], &quot;type&quot;: &quot;Polygon&quot;}, &quot;properties&quot;: {&quot;col&quot;: 0, &quot;type&quot;: &quot;col&quot;}, &quot;type&quot;: &quot;Feature&quot;}, {&quot;geometry&quot;: {&quot;coordinates&quot;: [[[13.922527047432201, 50.96629040370359], [13.922829684600526, 50.96629040370359], [13.922829684600526, 50.964720483303815], [13.922527047432201, 50.964720483303815], [13.922527047432201, 50.96629040370359]]], &quot;type&quot;: &quot;Polygon&quot;}, &quot;properties&quot;: {&quot;col&quot;: 1, &quot;type&quot;: &quot;col&quot;}, &quot;type&quot;: &quot;Feature&quot;}, {&quot;geometry&quot;: {&quot;coordinates&quot;: [[[13.922829684600526, 50.96629040370359], [13.923132321768849, 50.96629040370359], [13.923132321768849, 50.964720483303815], [13.922829684600526, 50.964720483303815], [13.922829684600526, 50.96629040370359]]], &quot;type&quot;: &quot;Polygon&quot;}, &quot;properties&quot;: {&quot;col&quot;: 2, &quot;type&quot;: &quot;col&quot;}, &quot;type&quot;: &quot;Feature&quot;}, {&quot;geometry&quot;: {&quot;coordinates&quot;: [[[13.923132321768849, 50.96629040370359], [13.923434958937172, 50.96629040370359], [13.923434958937172, 50.964720483303815], [13.923132321768849, 50.964720483303815], [13.923132321768849, 50.96629040370359]]], &quot;type&quot;: &quot;Polygon&quot;}, &quot;properties&quot;: {&quot;col&quot;: 3, &quot;type&quot;: &quot;col&quot;}, &quot;type&quot;: &quot;Feature&quot;}, {&quot;geometry&quot;: {&quot;coordinates&quot;: [[[13.923434958937172, 50.96629040370359], [13.923737596105495, 50.96629040370359], [13.923737596105495, 50.964720483303815], [13.923434958937172, 50.964720483303815], [13.923434958937172, 50.96629040370359]]], &quot;type&quot;: &quot;Polygon&quot;}, &quot;properties&quot;: {&quot;col&quot;: 4, &quot;type&quot;: &quot;col&quot;}, &quot;type&quot;: &quot;Feature&quot;}, {&quot;geometry&quot;: {&quot;coordinates&quot;: [[[13.923737596105495, 50.96629040370359], [13.924040233273818, 50.96629040370359], [13.924040233273818, 50.964720483303815], [13.923737596105495, 50.964720483303815], [13.923737596105495, 50.96629040370359]]], &quot;type&quot;: &quot;Polygon&quot;}, &quot;properties&quot;: {&quot;col&quot;: 5, &quot;type&quot;: &quot;col&quot;}, &quot;type&quot;: &quot;Feature&quot;}, {&quot;geometry&quot;: {&quot;coordinates&quot;: [[[13.924040233273818, 50.96629040370359], [13.924342870442143, 50.96629040370359], [13.924342870442143, 50.964720483303815], [13.924040233273818, 50.964720483303815], [13.924040233273818, 50.96629040370359]]], &quot;type&quot;: &quot;Polygon&quot;}, &quot;properties&quot;: {&quot;col&quot;: 6, &quot;type&quot;: &quot;col&quot;}, &quot;type&quot;: &quot;Feature&quot;}, {&quot;geometry&quot;: {&quot;coordinates&quot;: [[[13.924342870442143, 50.96629040370359], [13.924645507610466, 50.96629040370359], [13.924645507610466, 50.964720483303815], [13.924342870442143, 50.964720483303815], [13.924342870442143, 50.96629040370359]]], &quot;type&quot;: &quot;Polygon&quot;}, &quot;properties&quot;: {&quot;col&quot;: 7, &quot;type&quot;: &quot;col&quot;}, &quot;type&quot;: &quot;Feature&quot;}, {&quot;geometry&quot;: {&quot;coordinates&quot;: [[[13.924645507610466, 50.96629040370359], [13.92494814477879, 50.96629040370359], [13.92494814477879, 50.964720483303815], [13.924645507610466, 50.964720483303815], [13.924645507610466, 50.96629040370359]]], &quot;type&quot;: &quot;Polygon&quot;}, &quot;properties&quot;: {&quot;col&quot;: 8, &quot;type&quot;: &quot;col&quot;}, &quot;type&quot;: &quot;Feature&quot;}, {&quot;geometry&quot;: {&quot;coordinates&quot;: [[[13.92494814477879, 50.96629040370359], [13.925250781947113, 50.96629040370359], [13.925250781947113, 50.964720483303815], [13.92494814477879, 50.964720483303815], [13.92494814477879, 50.96629040370359]]], &quot;type&quot;: &quot;Polygon&quot;}, &quot;properties&quot;: {&quot;col&quot;: 9, &quot;type&quot;: &quot;col&quot;}, &quot;type&quot;: &quot;Feature&quot;}, {&quot;geometry&quot;: {&quot;coordinates&quot;: [[[13.922224410263878, 50.96629040370359], [13.925250781947113, 50.96629040370359], [13.925250781947113, 50.9661334140511], [13.922224410263878, 50.9661334140511], [13.922224410263878, 50.96629040370359]]], &quot;type&quot;: &quot;Polygon&quot;}, &quot;properties&quot;: {&quot;row&quot;: 0, &quot;type&quot;: &quot;row&quot;}, &quot;type&quot;: &quot;Feature&quot;}, {&quot;geometry&quot;: {&quot;coordinates&quot;: [[[13.922224410263878, 50.9661334140511], [13.925250781947113, 50.9661334140511], [13.925250781947113, 50.96597642386806], [13.922224410263878, 50.96597642386806], [13.922224410263878, 50.9661334140511]]], &quot;type&quot;: &quot;Polygon&quot;}, &quot;properties&quot;: {&quot;row&quot;: 1, &quot;type&quot;: &quot;row&quot;}, &quot;type&quot;: &quot;Feature&quot;}, {&quot;geometry&quot;: {&quot;coordinates&quot;: [[[13.922224410263878, 50.96597642386806], [13.925250781947113, 50.96597642386806], [13.925250781947113, 50.96581943315447], [13.922224410263878, 50.96581943315447], [13.922224410263878, 50.96597642386806]]], &quot;type&quot;: &quot;Polygon&quot;}, &quot;properties&quot;: {&quot;row&quot;: 2, &quot;type&quot;: &quot;row&quot;}, &quot;type&quot;: &quot;Feature&quot;}, {&quot;geometry&quot;: {&quot;coordinates&quot;: [[[13.922224410263878, 50.96581943315447], [13.925250781947113, 50.96581943315447], [13.925250781947113, 50.965662441910325], [13.922224410263878, 50.965662441910325], [13.922224410263878, 50.96581943315447]]], &quot;type&quot;: &quot;Polygon&quot;}, &quot;properties&quot;: {&quot;row&quot;: 3, &quot;type&quot;: &quot;row&quot;}, &quot;type&quot;: &quot;Feature&quot;}, {&quot;geometry&quot;: {&quot;coordinates&quot;: [[[13.922224410263878, 50.965662441910325], [13.925250781947113, 50.965662441910325], [13.925250781947113, 50.965505450135616], [13.922224410263878, 50.965505450135616], [13.922224410263878, 50.965662441910325]]], &quot;type&quot;: &quot;Polygon&quot;}, &quot;properties&quot;: {&quot;row&quot;: 4, &quot;type&quot;: &quot;row&quot;}, &quot;type&quot;: &quot;Feature&quot;}, {&quot;geometry&quot;: {&quot;coordinates&quot;: [[[13.922224410263878, 50.965505450135616], [13.925250781947113, 50.965505450135616], [13.925250781947113, 50.965348457830366], [13.922224410263878, 50.965348457830366], [13.922224410263878, 50.965505450135616]]], &quot;type&quot;: &quot;Polygon&quot;}, &quot;properties&quot;: {&quot;row&quot;: 5, &quot;type&quot;: &quot;row&quot;}, &quot;type&quot;: &quot;Feature&quot;}, {&quot;geometry&quot;: {&quot;coordinates&quot;: [[[13.922224410263878, 50.965348457830366], [13.925250781947113, 50.965348457830366], [13.925250781947113, 50.96519146499457], [13.922224410263878, 50.96519146499457], [13.922224410263878, 50.965348457830366]]], &quot;type&quot;: &quot;Polygon&quot;}, &quot;properties&quot;: {&quot;row&quot;: 6, &quot;type&quot;: &quot;row&quot;}, &quot;type&quot;: &quot;Feature&quot;}, {&quot;geometry&quot;: {&quot;coordinates&quot;: [[[13.922224410263878, 50.96519146499457], [13.925250781947113, 50.96519146499457], [13.925250781947113, 50.96503447162821], [13.922224410263878, 50.96503447162821], [13.922224410263878, 50.96519146499457]]], &quot;type&quot;: &quot;Polygon&quot;}, &quot;properties&quot;: {&quot;row&quot;: 7, &quot;type&quot;: &quot;row&quot;}, &quot;type&quot;: &quot;Feature&quot;}, {&quot;geometry&quot;: {&quot;coordinates&quot;: [[[13.922224410263878, 50.96503447162821], [13.925250781947113, 50.96503447162821], [13.925250781947113, 50.96487747773129], [13.922224410263878, 50.96487747773129], [13.922224410263878, 50.96503447162821]]], &quot;type&quot;: &quot;Polygon&quot;}, &quot;properties&quot;: {&quot;row&quot;: 8, &quot;type&quot;: &quot;row&quot;}, &quot;type&quot;: &quot;Feature&quot;}, {&quot;geometry&quot;: {&quot;coordinates&quot;: [[[13.922224410263878, 50.96487747773129], [13.925250781947113, 50.96487747773129], [13.925250781947113, 50.964720483303815], [13.922224410263878, 50.964720483303815], [13.922224410263878, 50.96487747773129]]], &quot;type&quot;: &quot;Polygon&quot;}, &quot;properties&quot;: {&quot;row&quot;: 9, &quot;type&quot;: &quot;row&quot;}, &quot;type&quot;: &quot;Feature&quot;}], &quot;type&quot;: &quot;FeatureCollection&quot;});\n",
       "\n",
       "        \n",
       "    \n",
       "            geo_json_68744301ea461213a878397119c45343.addTo(map_d03d8449298e85a1ce81a554554fa131);\n",
       "        \n",
       "    \n",
       "\n",
       "        function geo_json_7b251f8e7793a6f45454c8f56dc54b11_onEachFeature(feature, layer) {\n",
       "            layer.on({\n",
       "            });\n",
       "        };\n",
       "        var geo_json_7b251f8e7793a6f45454c8f56dc54b11 = L.geoJson(null, {\n",
       "                onEachFeature: geo_json_7b251f8e7793a6f45454c8f56dc54b11_onEachFeature,\n",
       "            \n",
       "        });\n",
       "\n",
       "        function geo_json_7b251f8e7793a6f45454c8f56dc54b11_add (data) {\n",
       "            geo_json_7b251f8e7793a6f45454c8f56dc54b11\n",
       "                .addData(data);\n",
       "        }\n",
       "            geo_json_7b251f8e7793a6f45454c8f56dc54b11_add({&quot;geometries&quot;: [{&quot;coordinates&quot;: [[[13.922527047432201, 50.9661334140511], [13.922829684600526, 50.9661334140511], [13.922829684600526, 50.96597642386806], [13.922527047432201, 50.96597642386806], [13.922527047432201, 50.9661334140511]]], &quot;type&quot;: &quot;Polygon&quot;}, {&quot;coordinates&quot;: [[[13.922829684600526, 50.9661334140511], [13.923132321768849, 50.9661334140511], [13.923132321768849, 50.96597642386806], [13.922829684600526, 50.96597642386806], [13.922829684600526, 50.9661334140511]]], &quot;type&quot;: &quot;Polygon&quot;}, {&quot;coordinates&quot;: [[[13.923132321768849, 50.9661334140511], [13.923434958937172, 50.9661334140511], [13.923434958937172, 50.96597642386806], [13.923132321768849, 50.96597642386806], [13.923132321768849, 50.9661334140511]]], &quot;type&quot;: &quot;Polygon&quot;}, {&quot;coordinates&quot;: [[[13.923132321768849, 50.96597642386806], [13.923434958937172, 50.96597642386806], [13.923434958937172, 50.96581943315447], [13.923132321768849, 50.96581943315447], [13.923132321768849, 50.96597642386806]]], &quot;type&quot;: &quot;Polygon&quot;}, {&quot;coordinates&quot;: [[[13.923434958937172, 50.96597642386806], [13.923737596105495, 50.96597642386806], [13.923737596105495, 50.96581943315447], [13.923434958937172, 50.96581943315447], [13.923434958937172, 50.96597642386806]]], &quot;type&quot;: &quot;Polygon&quot;}, {&quot;coordinates&quot;: [[[13.923737596105495, 50.96597642386806], [13.924040233273818, 50.96597642386806], [13.924040233273818, 50.96581943315447], [13.923737596105495, 50.96581943315447], [13.923737596105495, 50.96597642386806]]], &quot;type&quot;: &quot;Polygon&quot;}, {&quot;coordinates&quot;: [[[13.924040233273818, 50.96597642386806], [13.924342870442143, 50.96597642386806], [13.924342870442143, 50.96581943315447], [13.924040233273818, 50.96581943315447], [13.924040233273818, 50.96597642386806]]], &quot;type&quot;: &quot;Polygon&quot;}, {&quot;coordinates&quot;: [[[13.924040233273818, 50.96581943315447], [13.924342870442143, 50.96581943315447], [13.924342870442143, 50.965662441910325], [13.924040233273818, 50.965662441910325], [13.924040233273818, 50.96581943315447]]], &quot;type&quot;: &quot;Polygon&quot;}, {&quot;coordinates&quot;: [[[13.924342870442143, 50.96581943315447], [13.924645507610466, 50.96581943315447], [13.924645507610466, 50.965662441910325], [13.924342870442143, 50.965662441910325], [13.924342870442143, 50.96581943315447]]], &quot;type&quot;: &quot;Polygon&quot;}, {&quot;coordinates&quot;: [[[13.924645507610466, 50.96581943315447], [13.92494814477879, 50.96581943315447], [13.92494814477879, 50.965662441910325], [13.924645507610466, 50.965662441910325], [13.924645507610466, 50.96581943315447]]], &quot;type&quot;: &quot;Polygon&quot;}, {&quot;coordinates&quot;: [[[13.92494814477879, 50.96581943315447], [13.925250781947113, 50.96581943315447], [13.925250781947113, 50.965662441910325], [13.92494814477879, 50.965662441910325], [13.92494814477879, 50.96581943315447]]], &quot;type&quot;: &quot;Polygon&quot;}], &quot;type&quot;: &quot;GeometryCollection&quot;});\n",
       "\n",
       "        \n",
       "    \n",
       "            geo_json_7b251f8e7793a6f45454c8f56dc54b11.addTo(map_d03d8449298e85a1ce81a554554fa131);\n",
       "        \n",
       "    \n",
       "            map_d03d8449298e85a1ce81a554554fa131.fitBounds(\n",
       "                [[50.964720483303815, 13.922224410263878], [50.96629040370362, 13.925250781947113]],\n",
       "                {}\n",
       "            );\n",
       "        \n",
       "&lt;/script&gt;\n",
       "&lt;/html&gt;\" style=\"position:absolute;width:100%;height:100%;left:0;top:0;border:none !important;\" allowfullscreen webkitallowfullscreen mozallowfullscreen></iframe></div></div>"
      ]
     },
     "execution_count": 6,
     "metadata": {},
     "output_type": "execute_result"
    }
   ],
   "execution_count": 6
  },
  {
   "cell_type": "markdown",
   "source": [
    "## Calculate distance on the line for each cell\n",
    "This consists of two steps:\n",
    "1. Find the nearest point on the line from each cell center\n",
    "2. Calculate the distance from the start of the line to the nearest point"
   ],
   "metadata": {
    "collapsed": false
   },
   "id": "49aa0a84ca30fb4e"
  },
  {
   "cell_type": "code",
   "source": [
    "from shapely import LineString as ShapelyLineString, Polygon as ShapelyPolygon\n",
    "\n",
    "# River LineString\n",
    "line = ShapelyLineString(river.coordinates)\n",
    "\n",
    "# Cell Centers\n",
    "centers = [ShapelyPolygon(cell.coordinates[0]).centroid for cell in cells.as_geojson(grid).geometries]\n",
    "\n",
    "# Normalized distance on the line from the start to the nearest point on the line for each cell\n",
    "distances_on_line_to_nearest_points = [line.project(center, normalized=True) for center in centers]\n",
    "np.array(distances_on_line_to_nearest_points)"
   ],
   "metadata": {
    "collapsed": false,
    "ExecuteTime": {
     "end_time": "2024-04-19T20:45:04.279396Z",
     "start_time": "2024-04-19T20:45:04.265037Z"
    }
   },
   "id": "425a0a8a014f9d35",
   "outputs": [
    {
     "ename": "AttributeError",
     "evalue": "'ActiveCells' object has no attribute 'as_geojson'",
     "output_type": "error",
     "traceback": [
      "\u001B[0;31m---------------------------------------------------------------------------\u001B[0m",
      "\u001B[0;31mAttributeError\u001B[0m                            Traceback (most recent call last)",
      "Cell \u001B[0;32mIn[7], line 7\u001B[0m\n\u001B[1;32m      4\u001B[0m line \u001B[38;5;241m=\u001B[39m ShapelyLineString(river\u001B[38;5;241m.\u001B[39mcoordinates)\n\u001B[1;32m      6\u001B[0m \u001B[38;5;66;03m# Cell Centers\u001B[39;00m\n\u001B[0;32m----> 7\u001B[0m centers \u001B[38;5;241m=\u001B[39m [ShapelyPolygon(cell\u001B[38;5;241m.\u001B[39mcoordinates[\u001B[38;5;241m0\u001B[39m])\u001B[38;5;241m.\u001B[39mcentroid \u001B[38;5;28;01mfor\u001B[39;00m cell \u001B[38;5;129;01min\u001B[39;00m \u001B[43mcells\u001B[49m\u001B[38;5;241;43m.\u001B[39;49m\u001B[43mas_geojson\u001B[49m(grid)\u001B[38;5;241m.\u001B[39mgeometries]\n\u001B[1;32m      9\u001B[0m \u001B[38;5;66;03m# Normalized distance on the line from the start to the nearest point on the line for each cell\u001B[39;00m\n\u001B[1;32m     10\u001B[0m distances_on_line_to_nearest_points \u001B[38;5;241m=\u001B[39m [line\u001B[38;5;241m.\u001B[39mproject(center, normalized\u001B[38;5;241m=\u001B[39m\u001B[38;5;28;01mTrue\u001B[39;00m) \u001B[38;5;28;01mfor\u001B[39;00m center \u001B[38;5;129;01min\u001B[39;00m centers]\n",
      "\u001B[0;31mAttributeError\u001B[0m: 'ActiveCells' object has no attribute 'as_geojson'"
     ]
    }
   ],
   "execution_count": 7
  },
  {
   "cell_type": "markdown",
   "source": [],
   "metadata": {
    "collapsed": false
   },
   "id": "42d948d145a8457a"
  },
  {
   "cell_type": "code",
   "source": [
    "# for the linear interpolation we need to set our known points and values (xx, vv)\n",
    "xx = [0, 0.5, 1]\n",
    "vv = [10, 0, 20]\n",
    "\n",
    "# And we can set our new points (xx_new) and calculate the new values (vv_new)\n",
    "xx_new = distances_on_line_to_nearest_points\n",
    "vv_new = np.interp(xx_new, xx, vv)\n",
    "vv_new"
   ],
   "metadata": {
    "collapsed": false,
    "ExecuteTime": {
     "end_time": "2024-04-19T20:45:05.235690Z",
     "start_time": "2024-04-19T20:45:05.226256Z"
    }
   },
   "id": "9531a4e80690c13c",
   "outputs": [
    {
     "ename": "NameError",
     "evalue": "name 'distances_on_line_to_nearest_points' is not defined",
     "output_type": "error",
     "traceback": [
      "\u001B[0;31m---------------------------------------------------------------------------\u001B[0m",
      "\u001B[0;31mNameError\u001B[0m                                 Traceback (most recent call last)",
      "Cell \u001B[0;32mIn[8], line 6\u001B[0m\n\u001B[1;32m      3\u001B[0m vv \u001B[38;5;241m=\u001B[39m [\u001B[38;5;241m10\u001B[39m, \u001B[38;5;241m0\u001B[39m, \u001B[38;5;241m20\u001B[39m]\n\u001B[1;32m      5\u001B[0m \u001B[38;5;66;03m# And we can set our new points (xx_new) and calculate the new values (vv_new)\u001B[39;00m\n\u001B[0;32m----> 6\u001B[0m xx_new \u001B[38;5;241m=\u001B[39m \u001B[43mdistances_on_line_to_nearest_points\u001B[49m\n\u001B[1;32m      7\u001B[0m vv_new \u001B[38;5;241m=\u001B[39m np\u001B[38;5;241m.\u001B[39minterp(xx_new, xx, vv)\n\u001B[1;32m      8\u001B[0m vv_new\n",
      "\u001B[0;31mNameError\u001B[0m: name 'distances_on_line_to_nearest_points' is not defined"
     ]
    }
   ],
   "execution_count": 8
  },
  {
   "metadata": {},
   "cell_type": "code",
   "outputs": [],
   "execution_count": null,
   "source": "",
   "id": "5f9326a8158ed6e2"
  }
 ],
 "metadata": {
  "kernelspec": {
   "display_name": "Python 3",
   "language": "python",
   "name": "python3"
  },
  "language_info": {
   "codemirror_mode": {
    "name": "ipython",
    "version": 2
   },
   "file_extension": ".py",
   "mimetype": "text/x-python",
   "name": "python",
   "nbconvert_exporter": "python",
   "pygments_lexer": "ipython2",
   "version": "2.7.6"
  }
 },
 "nbformat": 4,
 "nbformat_minor": 5
}
