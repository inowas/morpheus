{
 "cells": [
  {
   "cell_type": "code",
   "execution_count": 1,
   "outputs": [],
   "source": [
    "import sys\n",
    "\n",
    "import numpy as np\n",
    "\n",
    "sys.path.insert(0, '..')\n",
    "\n",
    "#!{sys.executable} -m pip install folium\n",
    "#!{sys.executable} -m pip install openapi_core\n"
   ],
   "metadata": {
    "collapsed": false,
    "ExecuteTime": {
     "end_time": "2024-01-15T20:41:35.517608Z",
     "start_time": "2024-01-15T20:41:35.432738Z"
    }
   },
   "id": "ba6761fae9d5e5cb"
  },
  {
   "cell_type": "markdown",
   "source": [
    "# Setup the model area and river geometry"
   ],
   "metadata": {
    "collapsed": false
   },
   "id": "5ede1ba5e0993dd1"
  },
  {
   "cell_type": "code",
   "execution_count": 2,
   "outputs": [],
   "source": [
    "from morpheus.project.types.discretization.spatial import Rotation, LengthUnit, Grid\n",
    "from morpheus.project.types.geometry import Polygon, LineString\n",
    "\n",
    "polygon = Polygon(\n",
    "  type='Polygon',\n",
    "  coordinates=[[\n",
    "    (13.922514437551428, 50.964720483303836),\n",
    "    (13.925250781947113, 50.965228748412386),\n",
    "    (13.925036413951403, 50.96623732041704),\n",
    "    (13.92222441026388, 50.96629040370362),\n",
    "    (13.922514437551428, 50.964720483303836)\n",
    "  ]]\n",
    ")\n",
    "\n",
    "rotation = Rotation(0)\n",
    "length_unit = LengthUnit.meters()\n",
    "x_coordinates = [0, 0.1, 0.2, 0.3, 0.4, 0.5, 0.6, 0.7, 0.8, 0.9, 1]\n",
    "y_coordinates = [0, 0.1, 0.2, 0.3, 0.4, 0.5, 0.6, 0.7, 0.8, 0.9, 1]\n",
    "\n",
    "grid = Grid.from_polygon_with_relative_coordinates(\n",
    "  polygon=polygon,\n",
    "  x_coordinates=x_coordinates,\n",
    "  y_coordinates=y_coordinates,\n",
    "  rotation=rotation,\n",
    ")\n",
    "\n",
    "river = LineString([\n",
    "  (13.9226, 50.9661),\n",
    "  (13.9250, 50.9657),\n",
    "])\n"
   ],
   "metadata": {
    "collapsed": false,
    "ExecuteTime": {
     "end_time": "2024-01-15T20:41:35.614444Z",
     "start_time": "2024-01-15T20:41:35.532646Z"
    }
   },
   "id": "2f69504ab35487aa"
  },
  {
   "cell_type": "code",
   "execution_count": 3,
   "outputs": [
    {
     "data": {
      "text/plain": "<folium.folium.Map at 0x1079a2990>",
      "text/html": "<div style=\"width:100%;\"><div style=\"position:relative;width:100%;height:0;padding-bottom:60%;\"><span style=\"color:#565656\">Make this Notebook Trusted to load map: File -> Trust Notebook</span><iframe srcdoc=\"&lt;!DOCTYPE html&gt;\n&lt;html&gt;\n&lt;head&gt;\n    \n    &lt;meta http-equiv=&quot;content-type&quot; content=&quot;text/html; charset=UTF-8&quot; /&gt;\n    \n        &lt;script&gt;\n            L_NO_TOUCH = false;\n            L_DISABLE_3D = false;\n        &lt;/script&gt;\n    \n    &lt;style&gt;html, body {width: 100%;height: 100%;margin: 0;padding: 0;}&lt;/style&gt;\n    &lt;style&gt;#map {position:absolute;top:0;bottom:0;right:0;left:0;}&lt;/style&gt;\n    &lt;script src=&quot;https://cdn.jsdelivr.net/npm/leaflet@1.9.3/dist/leaflet.js&quot;&gt;&lt;/script&gt;\n    &lt;script src=&quot;https://code.jquery.com/jquery-3.7.1.min.js&quot;&gt;&lt;/script&gt;\n    &lt;script src=&quot;https://cdn.jsdelivr.net/npm/bootstrap@5.2.2/dist/js/bootstrap.bundle.min.js&quot;&gt;&lt;/script&gt;\n    &lt;script src=&quot;https://cdnjs.cloudflare.com/ajax/libs/Leaflet.awesome-markers/2.0.2/leaflet.awesome-markers.js&quot;&gt;&lt;/script&gt;\n    &lt;link rel=&quot;stylesheet&quot; href=&quot;https://cdn.jsdelivr.net/npm/leaflet@1.9.3/dist/leaflet.css&quot;/&gt;\n    &lt;link rel=&quot;stylesheet&quot; href=&quot;https://cdn.jsdelivr.net/npm/bootstrap@5.2.2/dist/css/bootstrap.min.css&quot;/&gt;\n    &lt;link rel=&quot;stylesheet&quot; href=&quot;https://netdna.bootstrapcdn.com/bootstrap/3.0.0/css/bootstrap.min.css&quot;/&gt;\n    &lt;link rel=&quot;stylesheet&quot; href=&quot;https://cdn.jsdelivr.net/npm/@fortawesome/fontawesome-free@6.2.0/css/all.min.css&quot;/&gt;\n    &lt;link rel=&quot;stylesheet&quot; href=&quot;https://cdnjs.cloudflare.com/ajax/libs/Leaflet.awesome-markers/2.0.2/leaflet.awesome-markers.css&quot;/&gt;\n    &lt;link rel=&quot;stylesheet&quot; href=&quot;https://cdn.jsdelivr.net/gh/python-visualization/folium/folium/templates/leaflet.awesome.rotate.min.css&quot;/&gt;\n    \n            &lt;meta name=&quot;viewport&quot; content=&quot;width=device-width,\n                initial-scale=1.0, maximum-scale=1.0, user-scalable=no&quot; /&gt;\n            &lt;style&gt;\n                #map_54c5ca86cc9f29dc87797604e6e53058 {\n                    position: relative;\n                    width: 100.0%;\n                    height: 100.0%;\n                    left: 0.0%;\n                    top: 0.0%;\n                }\n                .leaflet-container { font-size: 1rem; }\n            &lt;/style&gt;\n        \n&lt;/head&gt;\n&lt;body&gt;\n    \n    \n            &lt;div class=&quot;folium-map&quot; id=&quot;map_54c5ca86cc9f29dc87797604e6e53058&quot; &gt;&lt;/div&gt;\n        \n&lt;/body&gt;\n&lt;script&gt;\n    \n    \n            var map_54c5ca86cc9f29dc87797604e6e53058 = L.map(\n                &quot;map_54c5ca86cc9f29dc87797604e6e53058&quot;,\n                {\n                    center: [50.965, 13.922],\n                    crs: L.CRS.EPSG3857,\n                    zoom: 12,\n                    zoomControl: true,\n                    preferCanvas: false,\n                }\n            );\n\n            \n\n        \n    \n            var tile_layer_f3a14fdbf3f3c2bd8a62132fc9eb1322 = L.tileLayer(\n                &quot;https://{s}.basemaps.cartocdn.com/light_all/{z}/{x}/{y}{r}.png&quot;,\n                {&quot;attribution&quot;: &quot;\\u0026copy; \\u003ca href=\\&quot;https://www.openstreetmap.org/copyright\\&quot;\\u003eOpenStreetMap\\u003c/a\\u003e contributors \\u0026copy; \\u003ca href=\\&quot;https://carto.com/attributions\\&quot;\\u003eCARTO\\u003c/a\\u003e&quot;, &quot;detectRetina&quot;: false, &quot;maxNativeZoom&quot;: 20, &quot;maxZoom&quot;: 20, &quot;minZoom&quot;: 0, &quot;noWrap&quot;: false, &quot;opacity&quot;: 1, &quot;subdomains&quot;: &quot;abcd&quot;, &quot;tms&quot;: false}\n            );\n        \n    \n            tile_layer_f3a14fdbf3f3c2bd8a62132fc9eb1322.addTo(map_54c5ca86cc9f29dc87797604e6e53058);\n        \n    \n\n        function geo_json_1e4e3b3492d4627fc4fc26674dc8b1e8_onEachFeature(feature, layer) {\n            layer.on({\n            });\n        };\n        var geo_json_1e4e3b3492d4627fc4fc26674dc8b1e8 = L.geoJson(null, {\n                onEachFeature: geo_json_1e4e3b3492d4627fc4fc26674dc8b1e8_onEachFeature,\n            \n        });\n\n        function geo_json_1e4e3b3492d4627fc4fc26674dc8b1e8_add (data) {\n            geo_json_1e4e3b3492d4627fc4fc26674dc8b1e8\n                .addData(data);\n        }\n            geo_json_1e4e3b3492d4627fc4fc26674dc8b1e8_add({&quot;coordinates&quot;: [[[13.922514437551428, 50.964720483303836], [13.925250781947113, 50.965228748412386], [13.925036413951403, 50.96623732041704], [13.92222441026388, 50.96629040370362], [13.922514437551428, 50.964720483303836]]], &quot;type&quot;: &quot;Polygon&quot;});\n\n        \n    \n            geo_json_1e4e3b3492d4627fc4fc26674dc8b1e8.addTo(map_54c5ca86cc9f29dc87797604e6e53058);\n        \n    \n\n        function geo_json_d05ba9d06398f0822f8a806d91666165_onEachFeature(feature, layer) {\n            layer.on({\n            });\n        };\n        var geo_json_d05ba9d06398f0822f8a806d91666165 = L.geoJson(null, {\n                onEachFeature: geo_json_d05ba9d06398f0822f8a806d91666165_onEachFeature,\n            \n        });\n\n        function geo_json_d05ba9d06398f0822f8a806d91666165_add (data) {\n            geo_json_d05ba9d06398f0822f8a806d91666165\n                .addData(data);\n        }\n            geo_json_d05ba9d06398f0822f8a806d91666165_add({&quot;coordinates&quot;: [[13.9226, 50.9661], [13.925, 50.9657]], &quot;type&quot;: &quot;LineString&quot;});\n\n        \n    \n            geo_json_d05ba9d06398f0822f8a806d91666165.addTo(map_54c5ca86cc9f29dc87797604e6e53058);\n        \n    \n            map_54c5ca86cc9f29dc87797604e6e53058.fitBounds(\n                [[50.964720483303836, 13.92222441026388], [50.96629040370362, 13.925250781947113]],\n                {}\n            );\n        \n&lt;/script&gt;\n&lt;/html&gt;\" style=\"position:absolute;width:100%;height:100%;left:0;top:0;border:none !important;\" allowfullscreen webkitallowfullscreen mozallowfullscreen></iframe></div></div>"
     },
     "execution_count": 3,
     "metadata": {},
     "output_type": "execute_result"
    }
   ],
   "source": [
    "import folium\n",
    "\n",
    "m = folium.Map(tiles=\"cartodbpositron\", crs=\"EPSG3857\", zoom_start=12, location=[50.965, 13.922])\n",
    "m.add_child(folium.GeoJson(polygon.as_geojson()))\n",
    "m.add_child(folium.GeoJson(river.as_geojson()))\n",
    "\n",
    "m.fit_bounds(m.get_bounds())\n",
    "m"
   ],
   "metadata": {
    "collapsed": false,
    "ExecuteTime": {
     "end_time": "2024-01-15T20:41:35.945403Z",
     "start_time": "2024-01-15T20:41:35.623842Z"
    }
   },
   "id": "1540b870ae83f298"
  },
  {
   "cell_type": "markdown",
   "source": [
    "## Calculate and Render Grid Perimeter and River Cells "
   ],
   "metadata": {
    "collapsed": false
   },
   "id": "2ed6c19e1f77c7c2"
  },
  {
   "cell_type": "code",
   "execution_count": 4,
   "outputs": [
    {
     "data": {
      "text/plain": "<folium.folium.Map at 0x1079a2990>",
      "text/html": "<div style=\"width:100%;\"><div style=\"position:relative;width:100%;height:0;padding-bottom:60%;\"><span style=\"color:#565656\">Make this Notebook Trusted to load map: File -> Trust Notebook</span><iframe srcdoc=\"&lt;!DOCTYPE html&gt;\n&lt;html&gt;\n&lt;head&gt;\n    \n    &lt;meta http-equiv=&quot;content-type&quot; content=&quot;text/html; charset=UTF-8&quot; /&gt;\n    \n        &lt;script&gt;\n            L_NO_TOUCH = false;\n            L_DISABLE_3D = false;\n        &lt;/script&gt;\n    \n    &lt;style&gt;html, body {width: 100%;height: 100%;margin: 0;padding: 0;}&lt;/style&gt;\n    &lt;style&gt;#map {position:absolute;top:0;bottom:0;right:0;left:0;}&lt;/style&gt;\n    &lt;script src=&quot;https://cdn.jsdelivr.net/npm/leaflet@1.9.3/dist/leaflet.js&quot;&gt;&lt;/script&gt;\n    &lt;script src=&quot;https://code.jquery.com/jquery-3.7.1.min.js&quot;&gt;&lt;/script&gt;\n    &lt;script src=&quot;https://cdn.jsdelivr.net/npm/bootstrap@5.2.2/dist/js/bootstrap.bundle.min.js&quot;&gt;&lt;/script&gt;\n    &lt;script src=&quot;https://cdnjs.cloudflare.com/ajax/libs/Leaflet.awesome-markers/2.0.2/leaflet.awesome-markers.js&quot;&gt;&lt;/script&gt;\n    &lt;link rel=&quot;stylesheet&quot; href=&quot;https://cdn.jsdelivr.net/npm/leaflet@1.9.3/dist/leaflet.css&quot;/&gt;\n    &lt;link rel=&quot;stylesheet&quot; href=&quot;https://cdn.jsdelivr.net/npm/bootstrap@5.2.2/dist/css/bootstrap.min.css&quot;/&gt;\n    &lt;link rel=&quot;stylesheet&quot; href=&quot;https://netdna.bootstrapcdn.com/bootstrap/3.0.0/css/bootstrap.min.css&quot;/&gt;\n    &lt;link rel=&quot;stylesheet&quot; href=&quot;https://cdn.jsdelivr.net/npm/@fortawesome/fontawesome-free@6.2.0/css/all.min.css&quot;/&gt;\n    &lt;link rel=&quot;stylesheet&quot; href=&quot;https://cdnjs.cloudflare.com/ajax/libs/Leaflet.awesome-markers/2.0.2/leaflet.awesome-markers.css&quot;/&gt;\n    &lt;link rel=&quot;stylesheet&quot; href=&quot;https://cdn.jsdelivr.net/gh/python-visualization/folium/folium/templates/leaflet.awesome.rotate.min.css&quot;/&gt;\n    \n            &lt;meta name=&quot;viewport&quot; content=&quot;width=device-width,\n                initial-scale=1.0, maximum-scale=1.0, user-scalable=no&quot; /&gt;\n            &lt;style&gt;\n                #map_54c5ca86cc9f29dc87797604e6e53058 {\n                    position: relative;\n                    width: 100.0%;\n                    height: 100.0%;\n                    left: 0.0%;\n                    top: 0.0%;\n                }\n                .leaflet-container { font-size: 1rem; }\n            &lt;/style&gt;\n        \n&lt;/head&gt;\n&lt;body&gt;\n    \n    \n            &lt;div class=&quot;folium-map&quot; id=&quot;map_54c5ca86cc9f29dc87797604e6e53058&quot; &gt;&lt;/div&gt;\n        \n&lt;/body&gt;\n&lt;script&gt;\n    \n    \n            var map_54c5ca86cc9f29dc87797604e6e53058 = L.map(\n                &quot;map_54c5ca86cc9f29dc87797604e6e53058&quot;,\n                {\n                    center: [50.965, 13.922],\n                    crs: L.CRS.EPSG3857,\n                    zoom: 12,\n                    zoomControl: true,\n                    preferCanvas: false,\n                }\n            );\n\n            \n\n        \n    \n            var tile_layer_f3a14fdbf3f3c2bd8a62132fc9eb1322 = L.tileLayer(\n                &quot;https://{s}.basemaps.cartocdn.com/light_all/{z}/{x}/{y}{r}.png&quot;,\n                {&quot;attribution&quot;: &quot;\\u0026copy; \\u003ca href=\\&quot;https://www.openstreetmap.org/copyright\\&quot;\\u003eOpenStreetMap\\u003c/a\\u003e contributors \\u0026copy; \\u003ca href=\\&quot;https://carto.com/attributions\\&quot;\\u003eCARTO\\u003c/a\\u003e&quot;, &quot;detectRetina&quot;: false, &quot;maxNativeZoom&quot;: 20, &quot;maxZoom&quot;: 20, &quot;minZoom&quot;: 0, &quot;noWrap&quot;: false, &quot;opacity&quot;: 1, &quot;subdomains&quot;: &quot;abcd&quot;, &quot;tms&quot;: false}\n            );\n        \n    \n            tile_layer_f3a14fdbf3f3c2bd8a62132fc9eb1322.addTo(map_54c5ca86cc9f29dc87797604e6e53058);\n        \n    \n\n        function geo_json_1e4e3b3492d4627fc4fc26674dc8b1e8_onEachFeature(feature, layer) {\n            layer.on({\n            });\n        };\n        var geo_json_1e4e3b3492d4627fc4fc26674dc8b1e8 = L.geoJson(null, {\n                onEachFeature: geo_json_1e4e3b3492d4627fc4fc26674dc8b1e8_onEachFeature,\n            \n        });\n\n        function geo_json_1e4e3b3492d4627fc4fc26674dc8b1e8_add (data) {\n            geo_json_1e4e3b3492d4627fc4fc26674dc8b1e8\n                .addData(data);\n        }\n            geo_json_1e4e3b3492d4627fc4fc26674dc8b1e8_add({&quot;coordinates&quot;: [[[13.922514437551428, 50.964720483303836], [13.925250781947113, 50.965228748412386], [13.925036413951403, 50.96623732041704], [13.92222441026388, 50.96629040370362], [13.922514437551428, 50.964720483303836]]], &quot;type&quot;: &quot;Polygon&quot;});\n\n        \n    \n            geo_json_1e4e3b3492d4627fc4fc26674dc8b1e8.addTo(map_54c5ca86cc9f29dc87797604e6e53058);\n        \n    \n\n        function geo_json_d05ba9d06398f0822f8a806d91666165_onEachFeature(feature, layer) {\n            layer.on({\n            });\n        };\n        var geo_json_d05ba9d06398f0822f8a806d91666165 = L.geoJson(null, {\n                onEachFeature: geo_json_d05ba9d06398f0822f8a806d91666165_onEachFeature,\n            \n        });\n\n        function geo_json_d05ba9d06398f0822f8a806d91666165_add (data) {\n            geo_json_d05ba9d06398f0822f8a806d91666165\n                .addData(data);\n        }\n            geo_json_d05ba9d06398f0822f8a806d91666165_add({&quot;coordinates&quot;: [[13.9226, 50.9661], [13.925, 50.9657]], &quot;type&quot;: &quot;LineString&quot;});\n\n        \n    \n            geo_json_d05ba9d06398f0822f8a806d91666165.addTo(map_54c5ca86cc9f29dc87797604e6e53058);\n        \n    \n            map_54c5ca86cc9f29dc87797604e6e53058.fitBounds(\n                [[50.964720483303836, 13.92222441026388], [50.96629040370362, 13.925250781947113]],\n                {}\n            );\n        \n    \n            tile_layer_f3a14fdbf3f3c2bd8a62132fc9eb1322.addTo(map_54c5ca86cc9f29dc87797604e6e53058);\n        \n    \n            geo_json_1e4e3b3492d4627fc4fc26674dc8b1e8.addTo(map_54c5ca86cc9f29dc87797604e6e53058);\n        \n    \n            geo_json_d05ba9d06398f0822f8a806d91666165.addTo(map_54c5ca86cc9f29dc87797604e6e53058);\n        \n    \n\n        function geo_json_2ed3b332a6125385366e52fc4c1604d9_onEachFeature(feature, layer) {\n            layer.on({\n            });\n        };\n        var geo_json_2ed3b332a6125385366e52fc4c1604d9 = L.geoJson(null, {\n                onEachFeature: geo_json_2ed3b332a6125385366e52fc4c1604d9_onEachFeature,\n            \n        });\n\n        function geo_json_2ed3b332a6125385366e52fc4c1604d9_add (data) {\n            geo_json_2ed3b332a6125385366e52fc4c1604d9\n                .addData(data);\n        }\n            geo_json_2ed3b332a6125385366e52fc4c1604d9_add({&quot;coordinates&quot;: [[[13.922224410263878, 50.96629040370359], [13.925250781947113, 50.96629040370359], [13.925250781947113, 50.964720483303815], [13.922224410263878, 50.964720483303815], [13.922224410263878, 50.96629040370359]]], &quot;type&quot;: &quot;Polygon&quot;});\n\n        \n    \n            geo_json_2ed3b332a6125385366e52fc4c1604d9.addTo(map_54c5ca86cc9f29dc87797604e6e53058);\n        \n    \n\n        function geo_json_c1a9c6b99793710c12e98916bf3833f6_onEachFeature(feature, layer) {\n            layer.on({\n            });\n        };\n        var geo_json_c1a9c6b99793710c12e98916bf3833f6 = L.geoJson(null, {\n                onEachFeature: geo_json_c1a9c6b99793710c12e98916bf3833f6_onEachFeature,\n            \n        });\n\n        function geo_json_c1a9c6b99793710c12e98916bf3833f6_add (data) {\n            geo_json_c1a9c6b99793710c12e98916bf3833f6\n                .addData(data);\n        }\n            geo_json_c1a9c6b99793710c12e98916bf3833f6_add({&quot;geometries&quot;: [{&quot;coordinates&quot;: [[[13.922527047432201, 50.9661334140511], [13.922829684600526, 50.9661334140511], [13.922829684600526, 50.96597642386806], [13.922527047432201, 50.96597642386806], [13.922527047432201, 50.9661334140511]]], &quot;type&quot;: &quot;Polygon&quot;}, {&quot;coordinates&quot;: [[[13.922829684600526, 50.9661334140511], [13.923132321768849, 50.9661334140511], [13.923132321768849, 50.96597642386806], [13.922829684600526, 50.96597642386806], [13.922829684600526, 50.9661334140511]]], &quot;type&quot;: &quot;Polygon&quot;}, {&quot;coordinates&quot;: [[[13.923132321768849, 50.9661334140511], [13.923434958937172, 50.9661334140511], [13.923434958937172, 50.96597642386806], [13.923132321768849, 50.96597642386806], [13.923132321768849, 50.9661334140511]]], &quot;type&quot;: &quot;Polygon&quot;}, {&quot;coordinates&quot;: [[[13.923132321768849, 50.96597642386806], [13.923434958937172, 50.96597642386806], [13.923434958937172, 50.96581943315447], [13.923132321768849, 50.96581943315447], [13.923132321768849, 50.96597642386806]]], &quot;type&quot;: &quot;Polygon&quot;}, {&quot;coordinates&quot;: [[[13.923434958937172, 50.96597642386806], [13.923737596105495, 50.96597642386806], [13.923737596105495, 50.96581943315447], [13.923434958937172, 50.96581943315447], [13.923434958937172, 50.96597642386806]]], &quot;type&quot;: &quot;Polygon&quot;}, {&quot;coordinates&quot;: [[[13.923737596105495, 50.96597642386806], [13.924040233273818, 50.96597642386806], [13.924040233273818, 50.96581943315447], [13.923737596105495, 50.96581943315447], [13.923737596105495, 50.96597642386806]]], &quot;type&quot;: &quot;Polygon&quot;}, {&quot;coordinates&quot;: [[[13.924040233273818, 50.96597642386806], [13.924342870442143, 50.96597642386806], [13.924342870442143, 50.96581943315447], [13.924040233273818, 50.96581943315447], [13.924040233273818, 50.96597642386806]]], &quot;type&quot;: &quot;Polygon&quot;}, {&quot;coordinates&quot;: [[[13.924040233273818, 50.96581943315447], [13.924342870442143, 50.96581943315447], [13.924342870442143, 50.965662441910325], [13.924040233273818, 50.965662441910325], [13.924040233273818, 50.96581943315447]]], &quot;type&quot;: &quot;Polygon&quot;}, {&quot;coordinates&quot;: [[[13.924342870442143, 50.96581943315447], [13.924645507610466, 50.96581943315447], [13.924645507610466, 50.965662441910325], [13.924342870442143, 50.965662441910325], [13.924342870442143, 50.96581943315447]]], &quot;type&quot;: &quot;Polygon&quot;}, {&quot;coordinates&quot;: [[[13.924645507610466, 50.96581943315447], [13.92494814477879, 50.96581943315447], [13.92494814477879, 50.965662441910325], [13.924645507610466, 50.965662441910325], [13.924645507610466, 50.96581943315447]]], &quot;type&quot;: &quot;Polygon&quot;}, {&quot;coordinates&quot;: [[[13.92494814477879, 50.96581943315447], [13.925250781947113, 50.96581943315447], [13.925250781947113, 50.965662441910325], [13.92494814477879, 50.965662441910325], [13.92494814477879, 50.96581943315447]]], &quot;type&quot;: &quot;Polygon&quot;}], &quot;type&quot;: &quot;GeometryCollection&quot;});\n\n        \n    \n            geo_json_c1a9c6b99793710c12e98916bf3833f6.addTo(map_54c5ca86cc9f29dc87797604e6e53058);\n        \n    \n            map_54c5ca86cc9f29dc87797604e6e53058.fitBounds(\n                [[50.964720483303815, 13.922224410263878], [50.96629040370362, 13.925250781947113]],\n                {}\n            );\n        \n&lt;/script&gt;\n&lt;/html&gt;\" style=\"position:absolute;width:100%;height:100%;left:0;top:0;border:none !important;\" allowfullscreen webkitallowfullscreen mozallowfullscreen></iframe></div></div>"
     },
     "execution_count": 4,
     "metadata": {},
     "output_type": "execute_result"
    }
   ],
   "source": [
    "from morpheus.project.types.discretization.spatial import GridCells\n",
    "\n",
    "grid_geometry = grid.as_geojson()\n",
    "\n",
    "cells = GridCells.from_linestring(river, grid)\n",
    "cells_geometries = cells.as_geojson(grid)\n",
    "\n",
    "m.add_child(folium.GeoJson(grid_geometry.as_geojson()))\n",
    "m.add_child(folium.GeoJson(cells_geometries.as_geojson()))\n",
    "m.fit_bounds(m.get_bounds())\n",
    "m"
   ],
   "metadata": {
    "collapsed": false,
    "ExecuteTime": {
     "end_time": "2024-01-15T20:41:35.975584Z",
     "start_time": "2024-01-15T20:41:35.951777Z"
    }
   },
   "id": "b3149019e43290a8"
  },
  {
   "cell_type": "markdown",
   "source": [
    "## Calculate distance on the line for each cell\n",
    "This consists of two steps:\n",
    "1. Find the nearest point on the line from each cell center\n",
    "2. Calculate the distance from the start of the line to the nearest point"
   ],
   "metadata": {
    "collapsed": false
   },
   "id": "49aa0a84ca30fb4e"
  },
  {
   "cell_type": "code",
   "execution_count": 5,
   "outputs": [
    {
     "data": {
      "text/plain": "array([0.03481602, 0.15750677, 0.28019751, 0.29080497, 0.41349572,\n       0.53618646, 0.65887721, 0.6694847 , 0.79217545, 0.91486619,\n       1.        ])"
     },
     "execution_count": 5,
     "metadata": {},
     "output_type": "execute_result"
    }
   ],
   "source": [
    "from shapely import LineString as ShapelyLineString, Polygon as ShapelyPolygon\n",
    "\n",
    "# River LineString\n",
    "line = ShapelyLineString(river.coordinates)\n",
    "\n",
    "# Cell Centers\n",
    "centers = [ShapelyPolygon(cell.coordinates[0]).centroid for cell in cells.as_geojson(grid).geometries]\n",
    "\n",
    "# Normalized distance on the line from the start to the nearest point on the line for each cell\n",
    "distances_on_line_to_nearest_points = [line.project(center, normalized=True) for center in centers]\n",
    "np.array(distances_on_line_to_nearest_points)"
   ],
   "metadata": {
    "collapsed": false,
    "ExecuteTime": {
     "end_time": "2024-01-15T20:41:35.994002Z",
     "start_time": "2024-01-15T20:41:35.982505Z"
    }
   },
   "id": "425a0a8a014f9d35"
  },
  {
   "cell_type": "markdown",
   "source": [],
   "metadata": {
    "collapsed": false
   },
   "id": "42d948d145a8457a"
  },
  {
   "cell_type": "code",
   "execution_count": 6,
   "outputs": [
    {
     "data": {
      "text/plain": "array([ 9.30367954,  6.84986466,  4.39604979,  4.18390053,  1.73008565,\n        1.44745845,  6.35508821,  6.77938815, 11.68701791, 16.59464766,\n       20.        ])"
     },
     "execution_count": 6,
     "metadata": {},
     "output_type": "execute_result"
    }
   ],
   "source": [
    "# for the linear interpolation we need to set our known points and values (xx, vv)\n",
    "xx = [0, 0.5, 1]\n",
    "vv = [10, 0, 20]\n",
    "\n",
    "# And we can set our new points (xx_new) and calculate the new values (vv_new)\n",
    "xx_new = distances_on_line_to_nearest_points\n",
    "vv_new = np.interp(xx_new, xx, vv)\n",
    "vv_new"
   ],
   "metadata": {
    "collapsed": false,
    "ExecuteTime": {
     "end_time": "2024-01-15T20:41:36.008350Z",
     "start_time": "2024-01-15T20:41:35.993009Z"
    }
   },
   "id": "9531a4e80690c13c"
  }
 ],
 "metadata": {
  "kernelspec": {
   "display_name": "Python 3",
   "language": "python",
   "name": "python3"
  },
  "language_info": {
   "codemirror_mode": {
    "name": "ipython",
    "version": 2
   },
   "file_extension": ".py",
   "mimetype": "text/x-python",
   "name": "python",
   "nbconvert_exporter": "python",
   "pygments_lexer": "ipython2",
   "version": "2.7.6"
  }
 },
 "nbformat": 4,
 "nbformat_minor": 5
}
