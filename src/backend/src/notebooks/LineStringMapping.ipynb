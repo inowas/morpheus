{
 "cells": [
  {
   "cell_type": "code",
   "execution_count": 1,
   "id": "ba6761fae9d5e5cb",
   "metadata": {
    "ExecuteTime": {
     "end_time": "2024-08-19T09:45:00.329157Z",
     "start_time": "2024-08-19T09:45:00.059286Z"
    },
    "collapsed": false,
    "execution": {
     "iopub.execute_input": "2024-08-21T20:29:54.640830Z",
     "iopub.status.busy": "2024-08-21T20:29:54.640459Z",
     "iopub.status.idle": "2024-08-21T20:29:54.748644Z",
     "shell.execute_reply": "2024-08-21T20:29:54.724171Z"
    },
    "papermill": {
     "duration": 0.128925,
     "end_time": "2024-08-21T20:29:54.763986",
     "exception": false,
     "start_time": "2024-08-21T20:29:54.635061",
     "status": "completed"
    },
    "tags": []
   },
   "outputs": [],
   "source": [
    "import sys\n",
    "\n",
    "import numpy as np\n",
    "\n",
    "sys.path.insert(0, '..')\n",
    "\n",
    "#!{sys.executable} -m pip install folium\n",
    "#!{sys.executable} -m pip install openapi_core\n"
   ]
  },
  {
   "cell_type": "markdown",
   "id": "5ede1ba5e0993dd1",
   "metadata": {
    "collapsed": false,
    "papermill": {
     "duration": 0.008362,
     "end_time": "2024-08-21T20:29:54.776477",
     "exception": false,
     "start_time": "2024-08-21T20:29:54.768115",
     "status": "completed"
    },
    "tags": []
   },
   "source": [
    "# Setup the model area and river geometry"
   ]
  },
  {
   "cell_type": "code",
   "execution_count": 2,
   "id": "2f69504ab35487aa",
   "metadata": {
    "ExecuteTime": {
     "end_time": "2024-08-19T09:45:00.420968Z",
     "start_time": "2024-08-19T09:45:00.335963Z"
    },
    "collapsed": false,
    "execution": {
     "iopub.execute_input": "2024-08-21T20:29:54.785259Z",
     "iopub.status.busy": "2024-08-21T20:29:54.784881Z",
     "iopub.status.idle": "2024-08-21T20:29:54.847050Z",
     "shell.execute_reply": "2024-08-21T20:29:54.845750Z"
    },
    "papermill": {
     "duration": 0.070545,
     "end_time": "2024-08-21T20:29:54.850810",
     "exception": false,
     "start_time": "2024-08-21T20:29:54.780265",
     "status": "completed"
    },
    "tags": []
   },
   "outputs": [],
   "source": [
    "from morpheus.project.types.discretization.spatial import Rotation, LengthUnit, Grid\n",
    "from morpheus.project.types.geometry import Polygon, LineString\n",
    "\n",
    "polygon = Polygon(\n",
    "  type='Polygon',\n",
    "  coordinates=[[\n",
    "    (13.922514437551428, 50.964720483303836),\n",
    "    (13.925250781947113, 50.965228748412386),\n",
    "    (13.925036413951403, 50.96623732041704),\n",
    "    (13.92222441026388, 50.96629040370362),\n",
    "    (13.922514437551428, 50.964720483303836)\n",
    "  ]]\n",
    ")\n",
    "\n",
    "rotation = Rotation(0)\n",
    "length_unit = LengthUnit.meters()\n",
    "relative_col_coordinates = [0, 0.1, 0.2, 0.3, 0.4, 0.5, 0.6, 0.7, 0.8, 0.9, 1]\n",
    "relative_row_coordinates = [0, 0.1, 0.2, 0.3, 0.4, 0.5, 0.6, 0.7, 0.8, 0.9, 1]\n",
    "\n",
    "grid = Grid.from_polygon_with_relative_coordinates(\n",
    "  polygon=polygon,\n",
    "  relative_col_coordinates=relative_col_coordinates,\n",
    "  relative_row_coordinates=relative_row_coordinates,\n",
    "  rotation=rotation,\n",
    ")\n",
    "\n",
    "river = LineString([\n",
    "  (13.9226, 50.9661),\n",
    "  (13.9250, 50.9657),\n",
    "])\n"
   ]
  },
  {
   "cell_type": "code",
   "execution_count": 3,
   "id": "1540b870ae83f298",
   "metadata": {
    "ExecuteTime": {
     "end_time": "2024-08-19T09:45:00.917348Z",
     "start_time": "2024-08-19T09:45:00.423384Z"
    },
    "collapsed": false,
    "execution": {
     "iopub.execute_input": "2024-08-21T20:29:54.863001Z",
     "iopub.status.busy": "2024-08-21T20:29:54.862038Z",
     "iopub.status.idle": "2024-08-21T20:29:55.220255Z",
     "shell.execute_reply": "2024-08-21T20:29:55.220002Z"
    },
    "papermill": {
     "duration": 0.366756,
     "end_time": "2024-08-21T20:29:55.221138",
     "exception": false,
     "start_time": "2024-08-21T20:29:54.854382",
     "status": "completed"
    },
    "tags": []
   },
   "outputs": [
    {
     "data": {
      "text/html": [
       "<div style=\"width:100%;\"><div style=\"position:relative;width:100%;height:0;padding-bottom:60%;\"><span style=\"color:#565656\">Make this Notebook Trusted to load map: File -> Trust Notebook</span><iframe srcdoc=\"&lt;!DOCTYPE html&gt;\n",
       "&lt;html&gt;\n",
       "&lt;head&gt;\n",
       "    \n",
       "    &lt;meta http-equiv=&quot;content-type&quot; content=&quot;text/html; charset=UTF-8&quot; /&gt;\n",
       "    \n",
       "        &lt;script&gt;\n",
       "            L_NO_TOUCH = false;\n",
       "            L_DISABLE_3D = false;\n",
       "        &lt;/script&gt;\n",
       "    \n",
       "    &lt;style&gt;html, body {width: 100%;height: 100%;margin: 0;padding: 0;}&lt;/style&gt;\n",
       "    &lt;style&gt;#map {position:absolute;top:0;bottom:0;right:0;left:0;}&lt;/style&gt;\n",
       "    &lt;script src=&quot;https://cdn.jsdelivr.net/npm/leaflet@1.9.3/dist/leaflet.js&quot;&gt;&lt;/script&gt;\n",
       "    &lt;script src=&quot;https://code.jquery.com/jquery-3.7.1.min.js&quot;&gt;&lt;/script&gt;\n",
       "    &lt;script src=&quot;https://cdn.jsdelivr.net/npm/bootstrap@5.2.2/dist/js/bootstrap.bundle.min.js&quot;&gt;&lt;/script&gt;\n",
       "    &lt;script src=&quot;https://cdnjs.cloudflare.com/ajax/libs/Leaflet.awesome-markers/2.0.2/leaflet.awesome-markers.js&quot;&gt;&lt;/script&gt;\n",
       "    &lt;link rel=&quot;stylesheet&quot; href=&quot;https://cdn.jsdelivr.net/npm/leaflet@1.9.3/dist/leaflet.css&quot;/&gt;\n",
       "    &lt;link rel=&quot;stylesheet&quot; href=&quot;https://cdn.jsdelivr.net/npm/bootstrap@5.2.2/dist/css/bootstrap.min.css&quot;/&gt;\n",
       "    &lt;link rel=&quot;stylesheet&quot; href=&quot;https://netdna.bootstrapcdn.com/bootstrap/3.0.0/css/bootstrap-glyphicons.css&quot;/&gt;\n",
       "    &lt;link rel=&quot;stylesheet&quot; href=&quot;https://cdn.jsdelivr.net/npm/@fortawesome/fontawesome-free@6.2.0/css/all.min.css&quot;/&gt;\n",
       "    &lt;link rel=&quot;stylesheet&quot; href=&quot;https://cdnjs.cloudflare.com/ajax/libs/Leaflet.awesome-markers/2.0.2/leaflet.awesome-markers.css&quot;/&gt;\n",
       "    &lt;link rel=&quot;stylesheet&quot; href=&quot;https://cdn.jsdelivr.net/gh/python-visualization/folium/folium/templates/leaflet.awesome.rotate.min.css&quot;/&gt;\n",
       "    \n",
       "            &lt;meta name=&quot;viewport&quot; content=&quot;width=device-width,\n",
       "                initial-scale=1.0, maximum-scale=1.0, user-scalable=no&quot; /&gt;\n",
       "            &lt;style&gt;\n",
       "                #map_d6fdeb5d0bd20a77151635b6728e323e {\n",
       "                    position: relative;\n",
       "                    width: 100.0%;\n",
       "                    height: 100.0%;\n",
       "                    left: 0.0%;\n",
       "                    top: 0.0%;\n",
       "                }\n",
       "                .leaflet-container { font-size: 1rem; }\n",
       "            &lt;/style&gt;\n",
       "        \n",
       "&lt;/head&gt;\n",
       "&lt;body&gt;\n",
       "    \n",
       "    \n",
       "            &lt;div class=&quot;folium-map&quot; id=&quot;map_d6fdeb5d0bd20a77151635b6728e323e&quot; &gt;&lt;/div&gt;\n",
       "        \n",
       "&lt;/body&gt;\n",
       "&lt;script&gt;\n",
       "    \n",
       "    \n",
       "            var map_d6fdeb5d0bd20a77151635b6728e323e = L.map(\n",
       "                &quot;map_d6fdeb5d0bd20a77151635b6728e323e&quot;,\n",
       "                {\n",
       "                    center: [50.965, 13.922],\n",
       "                    crs: L.CRS.EPSG3857,\n",
       "                    zoom: 12,\n",
       "                    zoomControl: true,\n",
       "                    preferCanvas: false,\n",
       "                }\n",
       "            );\n",
       "\n",
       "            \n",
       "\n",
       "        \n",
       "    \n",
       "            var tile_layer_93d80229d966ffc12ad855ab505f8244 = L.tileLayer(\n",
       "                &quot;https://{s}.basemaps.cartocdn.com/light_all/{z}/{x}/{y}{r}.png&quot;,\n",
       "                {&quot;attribution&quot;: &quot;\\u0026copy; \\u003ca href=\\&quot;https://www.openstreetmap.org/copyright\\&quot;\\u003eOpenStreetMap\\u003c/a\\u003e contributors \\u0026copy; \\u003ca href=\\&quot;https://carto.com/attributions\\&quot;\\u003eCARTO\\u003c/a\\u003e&quot;, &quot;detectRetina&quot;: false, &quot;maxNativeZoom&quot;: 20, &quot;maxZoom&quot;: 20, &quot;minZoom&quot;: 0, &quot;noWrap&quot;: false, &quot;opacity&quot;: 1, &quot;subdomains&quot;: &quot;abcd&quot;, &quot;tms&quot;: false}\n",
       "            );\n",
       "        \n",
       "    \n",
       "            tile_layer_93d80229d966ffc12ad855ab505f8244.addTo(map_d6fdeb5d0bd20a77151635b6728e323e);\n",
       "        \n",
       "    \n",
       "\n",
       "        function geo_json_d89af3bb83cc0c7347e2758da198e4aa_onEachFeature(feature, layer) {\n",
       "            layer.on({\n",
       "            });\n",
       "        };\n",
       "        var geo_json_d89af3bb83cc0c7347e2758da198e4aa = L.geoJson(null, {\n",
       "                onEachFeature: geo_json_d89af3bb83cc0c7347e2758da198e4aa_onEachFeature,\n",
       "            \n",
       "        });\n",
       "\n",
       "        function geo_json_d89af3bb83cc0c7347e2758da198e4aa_add (data) {\n",
       "            geo_json_d89af3bb83cc0c7347e2758da198e4aa\n",
       "                .addData(data);\n",
       "        }\n",
       "            geo_json_d89af3bb83cc0c7347e2758da198e4aa_add({&quot;coordinates&quot;: [[[13.922514437551428, 50.964720483303836], [13.925250781947113, 50.965228748412386], [13.925036413951403, 50.96623732041704], [13.92222441026388, 50.96629040370362], [13.922514437551428, 50.964720483303836]]], &quot;type&quot;: &quot;Polygon&quot;});\n",
       "        geo_json_d89af3bb83cc0c7347e2758da198e4aa.setStyle(function(feature) {return feature.properties.style;});\n",
       "\n",
       "        \n",
       "    \n",
       "            geo_json_d89af3bb83cc0c7347e2758da198e4aa.addTo(map_d6fdeb5d0bd20a77151635b6728e323e);\n",
       "        \n",
       "    \n",
       "\n",
       "        function geo_json_32e44d57252ba1c358686e89577e5589_onEachFeature(feature, layer) {\n",
       "            layer.on({\n",
       "            });\n",
       "        };\n",
       "        var geo_json_32e44d57252ba1c358686e89577e5589 = L.geoJson(null, {\n",
       "                onEachFeature: geo_json_32e44d57252ba1c358686e89577e5589_onEachFeature,\n",
       "            \n",
       "        });\n",
       "\n",
       "        function geo_json_32e44d57252ba1c358686e89577e5589_add (data) {\n",
       "            geo_json_32e44d57252ba1c358686e89577e5589\n",
       "                .addData(data);\n",
       "        }\n",
       "            geo_json_32e44d57252ba1c358686e89577e5589_add({&quot;coordinates&quot;: [[13.9226, 50.9661], [13.925, 50.9657]], &quot;type&quot;: &quot;LineString&quot;});\n",
       "        geo_json_32e44d57252ba1c358686e89577e5589.setStyle(function(feature) {return feature.properties.style;});\n",
       "\n",
       "        \n",
       "    \n",
       "            geo_json_32e44d57252ba1c358686e89577e5589.addTo(map_d6fdeb5d0bd20a77151635b6728e323e);\n",
       "        \n",
       "    \n",
       "            map_d6fdeb5d0bd20a77151635b6728e323e.fitBounds(\n",
       "                [[50.964720483303836, 13.92222441026388], [50.96629040370362, 13.925250781947113]],\n",
       "                {}\n",
       "            );\n",
       "        \n",
       "&lt;/script&gt;\n",
       "&lt;/html&gt;\" style=\"position:absolute;width:100%;height:100%;left:0;top:0;border:none !important;\" allowfullscreen webkitallowfullscreen mozallowfullscreen></iframe></div></div>"
      ],
      "text/plain": [
       "<folium.folium.Map at 0x126fa3920>"
      ]
     },
     "execution_count": 3,
     "metadata": {},
     "output_type": "execute_result"
    }
   ],
   "source": [
    "import folium\n",
    "\n",
    "m = folium.Map(tiles=\"cartodbpositron\", crs=\"EPSG3857\", zoom_start=12, location=[50.965, 13.922])\n",
    "m.add_child(folium.GeoJson(polygon.as_geojson()))\n",
    "m.add_child(folium.GeoJson(river.as_geojson()))\n",
    "\n",
    "m.fit_bounds(m.get_bounds())\n",
    "m"
   ]
  },
  {
   "cell_type": "markdown",
   "id": "2ed6c19e1f77c7c2",
   "metadata": {
    "collapsed": false,
    "papermill": {
     "duration": 0.00112,
     "end_time": "2024-08-21T20:29:55.223689",
     "exception": false,
     "start_time": "2024-08-21T20:29:55.222569",
     "status": "completed"
    },
    "tags": []
   },
   "source": [
    "## Calculate and Render Grid Perimeter and River Cells "
   ]
  },
  {
   "cell_type": "code",
   "execution_count": 4,
   "id": "b3149019e43290a8",
   "metadata": {
    "ExecuteTime": {
     "end_time": "2024-08-19T09:45:00.945750Z",
     "start_time": "2024-08-19T09:45:00.918156Z"
    },
    "collapsed": false,
    "execution": {
     "iopub.execute_input": "2024-08-21T20:29:55.226477Z",
     "iopub.status.busy": "2024-08-21T20:29:55.226308Z",
     "iopub.status.idle": "2024-08-21T20:29:55.248288Z",
     "shell.execute_reply": "2024-08-21T20:29:55.248018Z"
    },
    "papermill": {
     "duration": 0.024566,
     "end_time": "2024-08-21T20:29:55.249327",
     "exception": false,
     "start_time": "2024-08-21T20:29:55.224761",
     "status": "completed"
    },
    "tags": []
   },
   "outputs": [
    {
     "data": {
      "text/html": [
       "<div style=\"width:100%;\"><div style=\"position:relative;width:100%;height:0;padding-bottom:60%;\"><span style=\"color:#565656\">Make this Notebook Trusted to load map: File -> Trust Notebook</span><iframe srcdoc=\"&lt;!DOCTYPE html&gt;\n",
       "&lt;html&gt;\n",
       "&lt;head&gt;\n",
       "    \n",
       "    &lt;meta http-equiv=&quot;content-type&quot; content=&quot;text/html; charset=UTF-8&quot; /&gt;\n",
       "    \n",
       "        &lt;script&gt;\n",
       "            L_NO_TOUCH = false;\n",
       "            L_DISABLE_3D = false;\n",
       "        &lt;/script&gt;\n",
       "    \n",
       "    &lt;style&gt;html, body {width: 100%;height: 100%;margin: 0;padding: 0;}&lt;/style&gt;\n",
       "    &lt;style&gt;#map {position:absolute;top:0;bottom:0;right:0;left:0;}&lt;/style&gt;\n",
       "    &lt;script src=&quot;https://cdn.jsdelivr.net/npm/leaflet@1.9.3/dist/leaflet.js&quot;&gt;&lt;/script&gt;\n",
       "    &lt;script src=&quot;https://code.jquery.com/jquery-3.7.1.min.js&quot;&gt;&lt;/script&gt;\n",
       "    &lt;script src=&quot;https://cdn.jsdelivr.net/npm/bootstrap@5.2.2/dist/js/bootstrap.bundle.min.js&quot;&gt;&lt;/script&gt;\n",
       "    &lt;script src=&quot;https://cdnjs.cloudflare.com/ajax/libs/Leaflet.awesome-markers/2.0.2/leaflet.awesome-markers.js&quot;&gt;&lt;/script&gt;\n",
       "    &lt;link rel=&quot;stylesheet&quot; href=&quot;https://cdn.jsdelivr.net/npm/leaflet@1.9.3/dist/leaflet.css&quot;/&gt;\n",
       "    &lt;link rel=&quot;stylesheet&quot; href=&quot;https://cdn.jsdelivr.net/npm/bootstrap@5.2.2/dist/css/bootstrap.min.css&quot;/&gt;\n",
       "    &lt;link rel=&quot;stylesheet&quot; href=&quot;https://netdna.bootstrapcdn.com/bootstrap/3.0.0/css/bootstrap-glyphicons.css&quot;/&gt;\n",
       "    &lt;link rel=&quot;stylesheet&quot; href=&quot;https://cdn.jsdelivr.net/npm/@fortawesome/fontawesome-free@6.2.0/css/all.min.css&quot;/&gt;\n",
       "    &lt;link rel=&quot;stylesheet&quot; href=&quot;https://cdnjs.cloudflare.com/ajax/libs/Leaflet.awesome-markers/2.0.2/leaflet.awesome-markers.css&quot;/&gt;\n",
       "    &lt;link rel=&quot;stylesheet&quot; href=&quot;https://cdn.jsdelivr.net/gh/python-visualization/folium/folium/templates/leaflet.awesome.rotate.min.css&quot;/&gt;\n",
       "    \n",
       "            &lt;meta name=&quot;viewport&quot; content=&quot;width=device-width,\n",
       "                initial-scale=1.0, maximum-scale=1.0, user-scalable=no&quot; /&gt;\n",
       "            &lt;style&gt;\n",
       "                #map_d6fdeb5d0bd20a77151635b6728e323e {\n",
       "                    position: relative;\n",
       "                    width: 100.0%;\n",
       "                    height: 100.0%;\n",
       "                    left: 0.0%;\n",
       "                    top: 0.0%;\n",
       "                }\n",
       "                .leaflet-container { font-size: 1rem; }\n",
       "            &lt;/style&gt;\n",
       "        \n",
       "&lt;/head&gt;\n",
       "&lt;body&gt;\n",
       "    \n",
       "    \n",
       "            &lt;div class=&quot;folium-map&quot; id=&quot;map_d6fdeb5d0bd20a77151635b6728e323e&quot; &gt;&lt;/div&gt;\n",
       "        \n",
       "&lt;/body&gt;\n",
       "&lt;script&gt;\n",
       "    \n",
       "    \n",
       "            var map_d6fdeb5d0bd20a77151635b6728e323e = L.map(\n",
       "                &quot;map_d6fdeb5d0bd20a77151635b6728e323e&quot;,\n",
       "                {\n",
       "                    center: [50.965, 13.922],\n",
       "                    crs: L.CRS.EPSG3857,\n",
       "                    zoom: 12,\n",
       "                    zoomControl: true,\n",
       "                    preferCanvas: false,\n",
       "                }\n",
       "            );\n",
       "\n",
       "            \n",
       "\n",
       "        \n",
       "    \n",
       "            var tile_layer_93d80229d966ffc12ad855ab505f8244 = L.tileLayer(\n",
       "                &quot;https://{s}.basemaps.cartocdn.com/light_all/{z}/{x}/{y}{r}.png&quot;,\n",
       "                {&quot;attribution&quot;: &quot;\\u0026copy; \\u003ca href=\\&quot;https://www.openstreetmap.org/copyright\\&quot;\\u003eOpenStreetMap\\u003c/a\\u003e contributors \\u0026copy; \\u003ca href=\\&quot;https://carto.com/attributions\\&quot;\\u003eCARTO\\u003c/a\\u003e&quot;, &quot;detectRetina&quot;: false, &quot;maxNativeZoom&quot;: 20, &quot;maxZoom&quot;: 20, &quot;minZoom&quot;: 0, &quot;noWrap&quot;: false, &quot;opacity&quot;: 1, &quot;subdomains&quot;: &quot;abcd&quot;, &quot;tms&quot;: false}\n",
       "            );\n",
       "        \n",
       "    \n",
       "            tile_layer_93d80229d966ffc12ad855ab505f8244.addTo(map_d6fdeb5d0bd20a77151635b6728e323e);\n",
       "        \n",
       "    \n",
       "\n",
       "        function geo_json_d89af3bb83cc0c7347e2758da198e4aa_onEachFeature(feature, layer) {\n",
       "            layer.on({\n",
       "            });\n",
       "        };\n",
       "        var geo_json_d89af3bb83cc0c7347e2758da198e4aa = L.geoJson(null, {\n",
       "                onEachFeature: geo_json_d89af3bb83cc0c7347e2758da198e4aa_onEachFeature,\n",
       "            \n",
       "        });\n",
       "\n",
       "        function geo_json_d89af3bb83cc0c7347e2758da198e4aa_add (data) {\n",
       "            geo_json_d89af3bb83cc0c7347e2758da198e4aa\n",
       "                .addData(data);\n",
       "        }\n",
       "            geo_json_d89af3bb83cc0c7347e2758da198e4aa_add({&quot;coordinates&quot;: [[[13.922514437551428, 50.964720483303836], [13.925250781947113, 50.965228748412386], [13.925036413951403, 50.96623732041704], [13.92222441026388, 50.96629040370362], [13.922514437551428, 50.964720483303836]]], &quot;type&quot;: &quot;Polygon&quot;});\n",
       "        geo_json_d89af3bb83cc0c7347e2758da198e4aa.setStyle(function(feature) {return feature.properties.style;});\n",
       "\n",
       "        \n",
       "    \n",
       "            geo_json_d89af3bb83cc0c7347e2758da198e4aa.addTo(map_d6fdeb5d0bd20a77151635b6728e323e);\n",
       "        \n",
       "    \n",
       "\n",
       "        function geo_json_32e44d57252ba1c358686e89577e5589_onEachFeature(feature, layer) {\n",
       "            layer.on({\n",
       "            });\n",
       "        };\n",
       "        var geo_json_32e44d57252ba1c358686e89577e5589 = L.geoJson(null, {\n",
       "                onEachFeature: geo_json_32e44d57252ba1c358686e89577e5589_onEachFeature,\n",
       "            \n",
       "        });\n",
       "\n",
       "        function geo_json_32e44d57252ba1c358686e89577e5589_add (data) {\n",
       "            geo_json_32e44d57252ba1c358686e89577e5589\n",
       "                .addData(data);\n",
       "        }\n",
       "            geo_json_32e44d57252ba1c358686e89577e5589_add({&quot;coordinates&quot;: [[13.9226, 50.9661], [13.925, 50.9657]], &quot;type&quot;: &quot;LineString&quot;});\n",
       "        geo_json_32e44d57252ba1c358686e89577e5589.setStyle(function(feature) {return feature.properties.style;});\n",
       "\n",
       "        \n",
       "    \n",
       "            geo_json_32e44d57252ba1c358686e89577e5589.addTo(map_d6fdeb5d0bd20a77151635b6728e323e);\n",
       "        \n",
       "    \n",
       "            map_d6fdeb5d0bd20a77151635b6728e323e.fitBounds(\n",
       "                [[50.964720483303836, 13.92222441026388], [50.96629040370362, 13.925250781947113]],\n",
       "                {}\n",
       "            );\n",
       "        \n",
       "    \n",
       "            tile_layer_93d80229d966ffc12ad855ab505f8244.addTo(map_d6fdeb5d0bd20a77151635b6728e323e);\n",
       "        \n",
       "    \n",
       "            geo_json_d89af3bb83cc0c7347e2758da198e4aa.addTo(map_d6fdeb5d0bd20a77151635b6728e323e);\n",
       "        \n",
       "    \n",
       "            geo_json_32e44d57252ba1c358686e89577e5589.addTo(map_d6fdeb5d0bd20a77151635b6728e323e);\n",
       "        \n",
       "    \n",
       "\n",
       "        function geo_json_2628bf23b3fb68ea1cd4521cf584fb8a_onEachFeature(feature, layer) {\n",
       "            layer.on({\n",
       "            });\n",
       "        };\n",
       "        var geo_json_2628bf23b3fb68ea1cd4521cf584fb8a = L.geoJson(null, {\n",
       "                onEachFeature: geo_json_2628bf23b3fb68ea1cd4521cf584fb8a_onEachFeature,\n",
       "            \n",
       "        });\n",
       "\n",
       "        function geo_json_2628bf23b3fb68ea1cd4521cf584fb8a_add (data) {\n",
       "            geo_json_2628bf23b3fb68ea1cd4521cf584fb8a\n",
       "                .addData(data);\n",
       "        }\n",
       "            geo_json_2628bf23b3fb68ea1cd4521cf584fb8a_add({&quot;features&quot;: [{&quot;geometry&quot;: {&quot;coordinates&quot;: [[[13.922224410263878, 50.96629040370359], [13.925250781947113, 50.96629040370359], [13.925250781947113, 50.964720483303815], [13.922224410263878, 50.964720483303815], [13.922224410263878, 50.96629040370359]]], &quot;type&quot;: &quot;Polygon&quot;}, &quot;properties&quot;: {&quot;type&quot;: &quot;bounding_box&quot;}, &quot;type&quot;: &quot;Feature&quot;}, {&quot;geometry&quot;: {&quot;coordinates&quot;: [[[13.922224410263878, 50.96629040370359], [13.922527047432201, 50.96629040370359], [13.922527047432201, 50.964720483303815], [13.922224410263878, 50.964720483303815], [13.922224410263878, 50.96629040370359]]], &quot;type&quot;: &quot;Polygon&quot;}, &quot;properties&quot;: {&quot;col&quot;: 0, &quot;type&quot;: &quot;col&quot;}, &quot;type&quot;: &quot;Feature&quot;}, {&quot;geometry&quot;: {&quot;coordinates&quot;: [[[13.922527047432201, 50.96629040370359], [13.922829684600526, 50.96629040370359], [13.922829684600526, 50.964720483303815], [13.922527047432201, 50.964720483303815], [13.922527047432201, 50.96629040370359]]], &quot;type&quot;: &quot;Polygon&quot;}, &quot;properties&quot;: {&quot;col&quot;: 1, &quot;type&quot;: &quot;col&quot;}, &quot;type&quot;: &quot;Feature&quot;}, {&quot;geometry&quot;: {&quot;coordinates&quot;: [[[13.922829684600526, 50.96629040370359], [13.923132321768849, 50.96629040370359], [13.923132321768849, 50.964720483303815], [13.922829684600526, 50.964720483303815], [13.922829684600526, 50.96629040370359]]], &quot;type&quot;: &quot;Polygon&quot;}, &quot;properties&quot;: {&quot;col&quot;: 2, &quot;type&quot;: &quot;col&quot;}, &quot;type&quot;: &quot;Feature&quot;}, {&quot;geometry&quot;: {&quot;coordinates&quot;: [[[13.923132321768849, 50.96629040370359], [13.923434958937172, 50.96629040370359], [13.923434958937172, 50.964720483303815], [13.923132321768849, 50.964720483303815], [13.923132321768849, 50.96629040370359]]], &quot;type&quot;: &quot;Polygon&quot;}, &quot;properties&quot;: {&quot;col&quot;: 3, &quot;type&quot;: &quot;col&quot;}, &quot;type&quot;: &quot;Feature&quot;}, {&quot;geometry&quot;: {&quot;coordinates&quot;: [[[13.923434958937172, 50.96629040370359], [13.923737596105495, 50.96629040370359], [13.923737596105495, 50.964720483303815], [13.923434958937172, 50.964720483303815], [13.923434958937172, 50.96629040370359]]], &quot;type&quot;: &quot;Polygon&quot;}, &quot;properties&quot;: {&quot;col&quot;: 4, &quot;type&quot;: &quot;col&quot;}, &quot;type&quot;: &quot;Feature&quot;}, {&quot;geometry&quot;: {&quot;coordinates&quot;: [[[13.923737596105495, 50.96629040370359], [13.924040233273818, 50.96629040370359], [13.924040233273818, 50.964720483303815], [13.923737596105495, 50.964720483303815], [13.923737596105495, 50.96629040370359]]], &quot;type&quot;: &quot;Polygon&quot;}, &quot;properties&quot;: {&quot;col&quot;: 5, &quot;type&quot;: &quot;col&quot;}, &quot;type&quot;: &quot;Feature&quot;}, {&quot;geometry&quot;: {&quot;coordinates&quot;: [[[13.924040233273818, 50.96629040370359], [13.924342870442143, 50.96629040370359], [13.924342870442143, 50.964720483303815], [13.924040233273818, 50.964720483303815], [13.924040233273818, 50.96629040370359]]], &quot;type&quot;: &quot;Polygon&quot;}, &quot;properties&quot;: {&quot;col&quot;: 6, &quot;type&quot;: &quot;col&quot;}, &quot;type&quot;: &quot;Feature&quot;}, {&quot;geometry&quot;: {&quot;coordinates&quot;: [[[13.924342870442143, 50.96629040370359], [13.924645507610466, 50.96629040370359], [13.924645507610466, 50.964720483303815], [13.924342870442143, 50.964720483303815], [13.924342870442143, 50.96629040370359]]], &quot;type&quot;: &quot;Polygon&quot;}, &quot;properties&quot;: {&quot;col&quot;: 7, &quot;type&quot;: &quot;col&quot;}, &quot;type&quot;: &quot;Feature&quot;}, {&quot;geometry&quot;: {&quot;coordinates&quot;: [[[13.924645507610466, 50.96629040370359], [13.92494814477879, 50.96629040370359], [13.92494814477879, 50.964720483303815], [13.924645507610466, 50.964720483303815], [13.924645507610466, 50.96629040370359]]], &quot;type&quot;: &quot;Polygon&quot;}, &quot;properties&quot;: {&quot;col&quot;: 8, &quot;type&quot;: &quot;col&quot;}, &quot;type&quot;: &quot;Feature&quot;}, {&quot;geometry&quot;: {&quot;coordinates&quot;: [[[13.92494814477879, 50.96629040370359], [13.925250781947113, 50.96629040370359], [13.925250781947113, 50.964720483303815], [13.92494814477879, 50.964720483303815], [13.92494814477879, 50.96629040370359]]], &quot;type&quot;: &quot;Polygon&quot;}, &quot;properties&quot;: {&quot;col&quot;: 9, &quot;type&quot;: &quot;col&quot;}, &quot;type&quot;: &quot;Feature&quot;}, {&quot;geometry&quot;: {&quot;coordinates&quot;: [[[13.922224410263878, 50.96629040370359], [13.925250781947113, 50.96629040370359], [13.925250781947113, 50.9661334140511], [13.922224410263878, 50.9661334140511], [13.922224410263878, 50.96629040370359]]], &quot;type&quot;: &quot;Polygon&quot;}, &quot;properties&quot;: {&quot;row&quot;: 0, &quot;type&quot;: &quot;row&quot;}, &quot;type&quot;: &quot;Feature&quot;}, {&quot;geometry&quot;: {&quot;coordinates&quot;: [[[13.922224410263878, 50.9661334140511], [13.925250781947113, 50.9661334140511], [13.925250781947113, 50.96597642386806], [13.922224410263878, 50.96597642386806], [13.922224410263878, 50.9661334140511]]], &quot;type&quot;: &quot;Polygon&quot;}, &quot;properties&quot;: {&quot;row&quot;: 1, &quot;type&quot;: &quot;row&quot;}, &quot;type&quot;: &quot;Feature&quot;}, {&quot;geometry&quot;: {&quot;coordinates&quot;: [[[13.922224410263878, 50.96597642386806], [13.925250781947113, 50.96597642386806], [13.925250781947113, 50.96581943315447], [13.922224410263878, 50.96581943315447], [13.922224410263878, 50.96597642386806]]], &quot;type&quot;: &quot;Polygon&quot;}, &quot;properties&quot;: {&quot;row&quot;: 2, &quot;type&quot;: &quot;row&quot;}, &quot;type&quot;: &quot;Feature&quot;}, {&quot;geometry&quot;: {&quot;coordinates&quot;: [[[13.922224410263878, 50.96581943315447], [13.925250781947113, 50.96581943315447], [13.925250781947113, 50.965662441910325], [13.922224410263878, 50.965662441910325], [13.922224410263878, 50.96581943315447]]], &quot;type&quot;: &quot;Polygon&quot;}, &quot;properties&quot;: {&quot;row&quot;: 3, &quot;type&quot;: &quot;row&quot;}, &quot;type&quot;: &quot;Feature&quot;}, {&quot;geometry&quot;: {&quot;coordinates&quot;: [[[13.922224410263878, 50.965662441910325], [13.925250781947113, 50.965662441910325], [13.925250781947113, 50.965505450135616], [13.922224410263878, 50.965505450135616], [13.922224410263878, 50.965662441910325]]], &quot;type&quot;: &quot;Polygon&quot;}, &quot;properties&quot;: {&quot;row&quot;: 4, &quot;type&quot;: &quot;row&quot;}, &quot;type&quot;: &quot;Feature&quot;}, {&quot;geometry&quot;: {&quot;coordinates&quot;: [[[13.922224410263878, 50.965505450135616], [13.925250781947113, 50.965505450135616], [13.925250781947113, 50.965348457830366], [13.922224410263878, 50.965348457830366], [13.922224410263878, 50.965505450135616]]], &quot;type&quot;: &quot;Polygon&quot;}, &quot;properties&quot;: {&quot;row&quot;: 5, &quot;type&quot;: &quot;row&quot;}, &quot;type&quot;: &quot;Feature&quot;}, {&quot;geometry&quot;: {&quot;coordinates&quot;: [[[13.922224410263878, 50.965348457830366], [13.925250781947113, 50.965348457830366], [13.925250781947113, 50.96519146499457], [13.922224410263878, 50.96519146499457], [13.922224410263878, 50.965348457830366]]], &quot;type&quot;: &quot;Polygon&quot;}, &quot;properties&quot;: {&quot;row&quot;: 6, &quot;type&quot;: &quot;row&quot;}, &quot;type&quot;: &quot;Feature&quot;}, {&quot;geometry&quot;: {&quot;coordinates&quot;: [[[13.922224410263878, 50.96519146499457], [13.925250781947113, 50.96519146499457], [13.925250781947113, 50.96503447162821], [13.922224410263878, 50.96503447162821], [13.922224410263878, 50.96519146499457]]], &quot;type&quot;: &quot;Polygon&quot;}, &quot;properties&quot;: {&quot;row&quot;: 7, &quot;type&quot;: &quot;row&quot;}, &quot;type&quot;: &quot;Feature&quot;}, {&quot;geometry&quot;: {&quot;coordinates&quot;: [[[13.922224410263878, 50.96503447162821], [13.925250781947113, 50.96503447162821], [13.925250781947113, 50.96487747773129], [13.922224410263878, 50.96487747773129], [13.922224410263878, 50.96503447162821]]], &quot;type&quot;: &quot;Polygon&quot;}, &quot;properties&quot;: {&quot;row&quot;: 8, &quot;type&quot;: &quot;row&quot;}, &quot;type&quot;: &quot;Feature&quot;}, {&quot;geometry&quot;: {&quot;coordinates&quot;: [[[13.922224410263878, 50.96487747773129], [13.925250781947113, 50.96487747773129], [13.925250781947113, 50.964720483303815], [13.922224410263878, 50.964720483303815], [13.922224410263878, 50.96487747773129]]], &quot;type&quot;: &quot;Polygon&quot;}, &quot;properties&quot;: {&quot;row&quot;: 9, &quot;type&quot;: &quot;row&quot;}, &quot;type&quot;: &quot;Feature&quot;}], &quot;type&quot;: &quot;FeatureCollection&quot;});\n",
       "        geo_json_2628bf23b3fb68ea1cd4521cf584fb8a.setStyle(function(feature) {return feature.properties.style;});\n",
       "\n",
       "        \n",
       "    \n",
       "            geo_json_2628bf23b3fb68ea1cd4521cf584fb8a.addTo(map_d6fdeb5d0bd20a77151635b6728e323e);\n",
       "        \n",
       "    \n",
       "\n",
       "        function geo_json_9a5cb5cd13fef4bd16763fa287dc6ff1_onEachFeature(feature, layer) {\n",
       "            layer.on({\n",
       "            });\n",
       "        };\n",
       "        var geo_json_9a5cb5cd13fef4bd16763fa287dc6ff1 = L.geoJson(null, {\n",
       "                onEachFeature: geo_json_9a5cb5cd13fef4bd16763fa287dc6ff1_onEachFeature,\n",
       "            \n",
       "        });\n",
       "\n",
       "        function geo_json_9a5cb5cd13fef4bd16763fa287dc6ff1_add (data) {\n",
       "            geo_json_9a5cb5cd13fef4bd16763fa287dc6ff1\n",
       "                .addData(data);\n",
       "        }\n",
       "            geo_json_9a5cb5cd13fef4bd16763fa287dc6ff1_add({&quot;geometries&quot;: [{&quot;coordinates&quot;: [[[13.922527047432201, 50.9661334140511], [13.922829684600526, 50.9661334140511], [13.922829684600526, 50.96597642386806], [13.922527047432201, 50.96597642386806], [13.922527047432201, 50.9661334140511]]], &quot;type&quot;: &quot;Polygon&quot;}, {&quot;coordinates&quot;: [[[13.922829684600526, 50.9661334140511], [13.923132321768849, 50.9661334140511], [13.923132321768849, 50.96597642386806], [13.922829684600526, 50.96597642386806], [13.922829684600526, 50.9661334140511]]], &quot;type&quot;: &quot;Polygon&quot;}, {&quot;coordinates&quot;: [[[13.923132321768849, 50.9661334140511], [13.923434958937172, 50.9661334140511], [13.923434958937172, 50.96597642386806], [13.923132321768849, 50.96597642386806], [13.923132321768849, 50.9661334140511]]], &quot;type&quot;: &quot;Polygon&quot;}, {&quot;coordinates&quot;: [[[13.923434958937172, 50.96597642386806], [13.923737596105495, 50.96597642386806], [13.923737596105495, 50.96581943315447], [13.923434958937172, 50.96581943315447], [13.923434958937172, 50.96597642386806]]], &quot;type&quot;: &quot;Polygon&quot;}, {&quot;coordinates&quot;: [[[13.923737596105495, 50.96597642386806], [13.924040233273818, 50.96597642386806], [13.924040233273818, 50.96581943315447], [13.923737596105495, 50.96581943315447], [13.923737596105495, 50.96597642386806]]], &quot;type&quot;: &quot;Polygon&quot;}, {&quot;coordinates&quot;: [[[13.924040233273818, 50.96597642386806], [13.924342870442143, 50.96597642386806], [13.924342870442143, 50.96581943315447], [13.924040233273818, 50.96581943315447], [13.924040233273818, 50.96597642386806]]], &quot;type&quot;: &quot;Polygon&quot;}, {&quot;coordinates&quot;: [[[13.924342870442143, 50.96581943315447], [13.924645507610466, 50.96581943315447], [13.924645507610466, 50.965662441910325], [13.924342870442143, 50.965662441910325], [13.924342870442143, 50.96581943315447]]], &quot;type&quot;: &quot;Polygon&quot;}, {&quot;coordinates&quot;: [[[13.924645507610466, 50.96581943315447], [13.92494814477879, 50.96581943315447], [13.92494814477879, 50.965662441910325], [13.924645507610466, 50.965662441910325], [13.924645507610466, 50.96581943315447]]], &quot;type&quot;: &quot;Polygon&quot;}, {&quot;coordinates&quot;: [[[13.92494814477879, 50.96581943315447], [13.925250781947113, 50.96581943315447], [13.925250781947113, 50.965662441910325], [13.92494814477879, 50.965662441910325], [13.92494814477879, 50.96581943315447]]], &quot;type&quot;: &quot;Polygon&quot;}], &quot;type&quot;: &quot;GeometryCollection&quot;});\n",
       "        geo_json_9a5cb5cd13fef4bd16763fa287dc6ff1.setStyle(function(feature) {return feature.properties.style;});\n",
       "\n",
       "        \n",
       "    \n",
       "            geo_json_9a5cb5cd13fef4bd16763fa287dc6ff1.addTo(map_d6fdeb5d0bd20a77151635b6728e323e);\n",
       "        \n",
       "    \n",
       "            map_d6fdeb5d0bd20a77151635b6728e323e.fitBounds(\n",
       "                [[50.964720483303815, 13.922224410263878], [50.96629040370362, 13.925250781947113]],\n",
       "                {}\n",
       "            );\n",
       "        \n",
       "&lt;/script&gt;\n",
       "&lt;/html&gt;\" style=\"position:absolute;width:100%;height:100%;left:0;top:0;border:none !important;\" allowfullscreen webkitallowfullscreen mozallowfullscreen></iframe></div></div>"
      ],
      "text/plain": [
       "<folium.folium.Map at 0x126fa3920>"
      ]
     },
     "execution_count": 4,
     "metadata": {},
     "output_type": "execute_result"
    }
   ],
   "source": [
    "from morpheus.project.types.discretization.spatial import ActiveCells\n",
    "\n",
    "grid_geometry = grid.to_geojson()\n",
    "\n",
    "cells = ActiveCells.from_linestring(river, grid)\n",
    "cells_geometries = cells.to_geojson(grid)\n",
    "\n",
    "m.add_child(folium.GeoJson(grid_geometry.as_geojson()))\n",
    "m.add_child(folium.GeoJson(cells_geometries.as_geojson()))\n",
    "m.fit_bounds(m.get_bounds())\n",
    "m"
   ]
  },
  {
   "cell_type": "markdown",
   "id": "49aa0a84ca30fb4e",
   "metadata": {
    "collapsed": false,
    "papermill": {
     "duration": 0.001299,
     "end_time": "2024-08-21T20:29:55.252311",
     "exception": false,
     "start_time": "2024-08-21T20:29:55.251012",
     "status": "completed"
    },
    "tags": []
   },
   "source": [
    "## Calculate distance on the line for each cell\n",
    "This consists of two steps:\n",
    "1. Find the nearest point on the line from each cell center\n",
    "2. Calculate the distance from the start of the line to the nearest point"
   ]
  },
  {
   "cell_type": "code",
   "execution_count": 5,
   "id": "425a0a8a014f9d35",
   "metadata": {
    "ExecuteTime": {
     "end_time": "2024-08-19T09:45:00.970404Z",
     "start_time": "2024-08-19T09:45:00.948226Z"
    },
    "collapsed": false,
    "execution": {
     "iopub.execute_input": "2024-08-21T20:29:55.255516Z",
     "iopub.status.busy": "2024-08-21T20:29:55.255386Z",
     "iopub.status.idle": "2024-08-21T20:29:55.267483Z",
     "shell.execute_reply": "2024-08-21T20:29:55.267242Z"
    },
    "papermill": {
     "duration": 0.014626,
     "end_time": "2024-08-21T20:29:55.268312",
     "exception": false,
     "start_time": "2024-08-21T20:29:55.253686",
     "status": "completed"
    },
    "tags": []
   },
   "outputs": [
    {
     "data": {
      "text/plain": [
       "array([0.03481602, 0.15750677, 0.28019751, 0.41349572, 0.53618646,\n",
       "       0.65887721, 0.79217545, 0.91486619, 1.        ])"
      ]
     },
     "execution_count": 5,
     "metadata": {},
     "output_type": "execute_result"
    }
   ],
   "source": [
    "from shapely import LineString as ShapelyLineString, Polygon as ShapelyPolygon\n",
    "\n",
    "# River LineString\n",
    "line = ShapelyLineString(river.coordinates)\n",
    "\n",
    "# Cell Centers\n",
    "centers = [ShapelyPolygon(cell.coordinates[0]).centroid for cell in cells.to_geojson(grid).geometries]\n",
    "\n",
    "# Normalized distance on the line from the start to the nearest point on the line for each cell\n",
    "distances_on_line_to_nearest_points = [line.project(center, normalized=True) for center in centers]\n",
    "np.array(distances_on_line_to_nearest_points)"
   ]
  },
  {
   "cell_type": "markdown",
   "id": "42d948d145a8457a",
   "metadata": {
    "collapsed": false,
    "papermill": {
     "duration": 0.001338,
     "end_time": "2024-08-21T20:29:55.271065",
     "exception": false,
     "start_time": "2024-08-21T20:29:55.269727",
     "status": "completed"
    },
    "tags": []
   },
   "source": []
  },
  {
   "cell_type": "code",
   "execution_count": 6,
   "id": "9531a4e80690c13c",
   "metadata": {
    "ExecuteTime": {
     "end_time": "2024-08-19T09:45:00.979212Z",
     "start_time": "2024-08-19T09:45:00.972204Z"
    },
    "collapsed": false,
    "execution": {
     "iopub.execute_input": "2024-08-21T20:29:55.274112Z",
     "iopub.status.busy": "2024-08-21T20:29:55.274002Z",
     "iopub.status.idle": "2024-08-21T20:29:55.276368Z",
     "shell.execute_reply": "2024-08-21T20:29:55.276144Z"
    },
    "papermill": {
     "duration": 0.004846,
     "end_time": "2024-08-21T20:29:55.277168",
     "exception": false,
     "start_time": "2024-08-21T20:29:55.272322",
     "status": "completed"
    },
    "tags": []
   },
   "outputs": [
    {
     "data": {
      "text/plain": [
       "array([ 9.30367954,  6.84986466,  4.39604979,  1.73008565,  1.44745845,\n",
       "        6.35508821, 11.68701791, 16.59464766, 20.        ])"
      ]
     },
     "execution_count": 6,
     "metadata": {},
     "output_type": "execute_result"
    }
   ],
   "source": [
    "# for the linear interpolation we need to set our known points and values (xx, vv)\n",
    "xx = [0, 0.5, 1]\n",
    "vv = [10, 0, 20]\n",
    "\n",
    "# And we can set our new points (xx_new) and calculate the new values (vv_new)\n",
    "xx_new = distances_on_line_to_nearest_points\n",
    "vv_new = np.interp(xx_new, xx, vv)\n",
    "vv_new"
   ]
  },
  {
   "cell_type": "code",
   "execution_count": null,
   "id": "5f9326a8158ed6e2",
   "metadata": {
    "ExecuteTime": {
     "end_time": "2024-08-19T09:45:00.984410Z",
     "start_time": "2024-08-19T09:45:00.981412Z"
    },
    "papermill": {
     "duration": 0.001329,
     "end_time": "2024-08-21T20:29:55.280040",
     "exception": false,
     "start_time": "2024-08-21T20:29:55.278711",
     "status": "completed"
    },
    "tags": []
   },
   "outputs": [],
   "source": []
  }
 ],
 "metadata": {
  "kernelspec": {
   "display_name": "Python 3",
   "language": "python",
   "name": "python3"
  },
  "language_info": {
   "codemirror_mode": {
    "name": "ipython",
    "version": 3
   },
   "file_extension": ".py",
   "mimetype": "text/x-python",
   "name": "python",
   "nbconvert_exporter": "python",
   "pygments_lexer": "ipython3",
   "version": "3.12.2"
  },
  "papermill": {
   "default_parameters": {},
   "duration": 1.549698,
   "end_time": "2024-08-21T20:29:55.497650",
   "environment_variables": {},
   "exception": null,
   "input_path": "./notebooks/LineStringMapping.ipynb",
   "output_path": "./notebooks/LineStringMapping.ipynb",
   "parameters": {},
   "start_time": "2024-08-21T20:29:53.947952",
   "version": "2.6.0"
  }
 },
 "nbformat": 4,
 "nbformat_minor": 5
}