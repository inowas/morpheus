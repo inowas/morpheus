{
 "cells": [
  {
   "cell_type": "code",
   "execution_count": null,
   "outputs": [],
   "source": [
    "import sys\n",
    "\n",
    "import numpy as np\n",
    "\n",
    "sys.path.insert(0, '..')\n",
    "\n",
    "#!{sys.executable} -m pip install folium\n",
    "#!{sys.executable} -m pip install openapi_core\n"
   ],
   "metadata": {
    "collapsed": false
   },
   "id": "ba6761fae9d5e5cb"
  },
  {
   "cell_type": "markdown",
   "source": [
    "# Setup the model area and river geometry"
   ],
   "metadata": {
    "collapsed": false
   },
   "id": "5ede1ba5e0993dd1"
  },
  {
   "cell_type": "code",
   "execution_count": null,
   "outputs": [],
   "source": [
    "from morpheus.modflow.types.discretization.spatial import Rotation, LengthUnit, Grid\n",
    "from morpheus.modflow.types.geometry import Polygon, LineString\n",
    "\n",
    "polygon = Polygon(\n",
    "  type='Polygon',\n",
    "  coordinates=[[\n",
    "    (13.922514437551428, 50.964720483303836),\n",
    "    (13.925250781947113, 50.965228748412386),\n",
    "    (13.925036413951403, 50.96623732041704),\n",
    "    (13.92222441026388, 50.96629040370362),\n",
    "    (13.922514437551428, 50.964720483303836)\n",
    "  ]]\n",
    ")\n",
    "\n",
    "rotation = Rotation(0)\n",
    "length_unit = LengthUnit.meters()\n",
    "x_coordinates = [0, 0.1, 0.2, 0.3, 0.4, 0.5, 0.6, 0.7, 0.8, 0.9, 1]\n",
    "y_coordinates = [0, 0.1, 0.2, 0.3, 0.4, 0.5, 0.6, 0.7, 0.8, 0.9, 1]\n",
    "\n",
    "grid = Grid.from_polygon_with_relative_coordinates(\n",
    "  polygon=polygon,\n",
    "  x_coordinates=x_coordinates,\n",
    "  y_coordinates=y_coordinates,\n",
    "  rotation=rotation,\n",
    ")\n",
    "\n",
    "river = LineString([\n",
    "  (13.9226, 50.9661),\n",
    "  (13.9250, 50.9657),\n",
    "])\n"
   ],
   "metadata": {
    "collapsed": false
   },
   "id": "2f69504ab35487aa"
  },
  {
   "cell_type": "code",
   "execution_count": null,
   "outputs": [],
   "source": [
    "import folium\n",
    "\n",
    "m = folium.Map(tiles=\"cartodbpositron\", crs=\"EPSG3857\", zoom_start=12, location=[50.965, 13.922])\n",
    "m.add_child(folium.GeoJson(polygon.as_geojson()))\n",
    "m.add_child(folium.GeoJson(river.as_geojson()))\n",
    "\n",
    "m.fit_bounds(m.get_bounds())\n",
    "m"
   ],
   "metadata": {
    "collapsed": false
   },
   "id": "1540b870ae83f298"
  },
  {
   "cell_type": "markdown",
   "source": [
    "## Calculate and Render Grid Perimeter and River Cells "
   ],
   "metadata": {
    "collapsed": false
   },
   "id": "2ed6c19e1f77c7c2"
  },
  {
   "cell_type": "code",
   "execution_count": null,
   "outputs": [],
   "source": [
    "from morpheus.modflow.types.discretization.spatial import GridCells\n",
    "\n",
    "grid_geometry = grid.as_geojson()\n",
    "\n",
    "cells = GridCells.from_linestring(river, grid)\n",
    "cells_geometries = cells.as_geojson(grid)\n",
    "\n",
    "m.add_child(folium.GeoJson(grid_geometry.as_geojson()))\n",
    "m.add_child(folium.GeoJson(cells_geometries.as_geojson()))\n",
    "m.fit_bounds(m.get_bounds())\n",
    "m"
   ],
   "metadata": {
    "collapsed": false
   },
   "id": "b3149019e43290a8"
  },
  {
   "cell_type": "markdown",
   "source": [
    "## Calculate distance on the line for each cell\n",
    "This consists of two steps:\n",
    "1. Find the nearest point on the line from each cell center\n",
    "2. Calculate the distance from the start of the line to the nearest point"
   ],
   "metadata": {
    "collapsed": false
   },
   "id": "49aa0a84ca30fb4e"
  },
  {
   "cell_type": "code",
   "execution_count": null,
   "outputs": [],
   "source": [
    "from shapely import LineString as ShapelyLineString, Polygon as ShapelyPolygon\n",
    "\n",
    "# River LineString\n",
    "line = ShapelyLineString(river.coordinates)\n",
    "\n",
    "# Cell Centers\n",
    "centers = [ShapelyPolygon(cell.coordinates[0]).centroid for cell in cells.as_geojson(grid).geometries]\n",
    "\n",
    "# Normalized distance on the line from the start to the nearest point on the line for each cell\n",
    "distances_on_line_to_nearest_points = [line.project(center, normalized=True) for center in centers]\n",
    "np.array(distances_on_line_to_nearest_points)"
   ],
   "metadata": {
    "collapsed": false
   },
   "id": "425a0a8a014f9d35"
  },
  {
   "cell_type": "markdown",
   "source": [],
   "metadata": {
    "collapsed": false
   },
   "id": "42d948d145a8457a"
  },
  {
   "cell_type": "code",
   "execution_count": null,
   "outputs": [],
   "source": [
    "# for the linear interpolation we need to set our known points and values (xx, vv)\n",
    "xx = [0, 0.5, 1]\n",
    "vv = [10, 0, 20]\n",
    "\n",
    "# And we can set our new points (xx_new) and calculate the new values (vv_new)\n",
    "xx_new = distances_on_line_to_nearest_points\n",
    "vv_new = np.interp(xx_new, xx, vv)\n",
    "vv_new"
   ],
   "metadata": {
    "collapsed": false
   },
   "id": "9531a4e80690c13c"
  },
  {
   "cell_type": "code",
   "execution_count": null,
   "outputs": [],
   "source": [],
   "metadata": {
    "collapsed": false
   },
   "id": "90f2b44574571891"
  }
 ],
 "metadata": {
  "kernelspec": {
   "display_name": "Python 3",
   "language": "python",
   "name": "python3"
  },
  "language_info": {
   "codemirror_mode": {
    "name": "ipython",
    "version": 2
   },
   "file_extension": ".py",
   "mimetype": "text/x-python",
   "name": "python",
   "nbconvert_exporter": "python",
   "pygments_lexer": "ipython2",
   "version": "2.7.6"
  }
 },
 "nbformat": 4,
 "nbformat_minor": 5
}
