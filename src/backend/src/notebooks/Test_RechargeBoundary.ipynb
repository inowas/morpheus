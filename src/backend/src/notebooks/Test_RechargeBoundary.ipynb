{
 "cells": [
  {
   "cell_type": "code",
   "execution_count": 1,
   "id": "ba6761fae9d5e5cb",
   "metadata": {
    "ExecuteTime": {
     "end_time": "2024-05-14T08:13:13.474088Z",
     "start_time": "2024-05-14T08:13:13.471787Z"
    },
    "collapsed": false,
    "execution": {
     "iopub.execute_input": "2024-05-15T16:00:31.501907Z",
     "iopub.status.busy": "2024-05-15T16:00:31.501303Z",
     "iopub.status.idle": "2024-05-15T16:00:31.509306Z",
     "shell.execute_reply": "2024-05-15T16:00:31.508424Z"
    },
    "papermill": {
     "duration": 0.035326,
     "end_time": "2024-05-15T16:00:31.511984",
     "exception": false,
     "start_time": "2024-05-15T16:00:31.476658",
     "status": "completed"
    },
    "tags": []
   },
   "source": [
    "import sys\n",
    "\n",
    "sys.path.insert(0, '..')"
   ],
   "outputs": []
  },
  {
   "cell_type": "markdown",
   "id": "5ede1ba5e0993dd1",
   "metadata": {
    "collapsed": false,
    "papermill": {
     "duration": 0.006691,
     "end_time": "2024-05-15T16:00:31.525486",
     "exception": false,
     "start_time": "2024-05-15T16:00:31.518795",
     "status": "completed"
    },
    "tags": []
   },
   "source": [
    "## Setup the model area"
   ]
  },
  {
   "cell_type": "code",
   "execution_count": 2,
   "id": "2f69504ab35487aa",
   "metadata": {
    "ExecuteTime": {
     "end_time": "2024-05-14T08:13:14.144707Z",
     "start_time": "2024-05-14T08:13:13.475139Z"
    },
    "collapsed": false,
    "execution": {
     "iopub.execute_input": "2024-05-15T16:00:31.536398Z",
     "iopub.status.busy": "2024-05-15T16:00:31.536173Z",
     "iopub.status.idle": "2024-05-15T16:00:32.095935Z",
     "shell.execute_reply": "2024-05-15T16:00:32.095587Z"
    },
    "papermill": {
     "duration": 0.565272,
     "end_time": "2024-05-15T16:00:32.097184",
     "exception": false,
     "start_time": "2024-05-15T16:00:31.531912",
     "status": "completed"
    },
    "tags": []
   },
   "source": [
    "from morpheus.project.types.discretization import SpatialDiscretization\n",
    "from morpheus.project.types.discretization.spatial import Rotation, Grid, Crs\n",
    "from morpheus.project.types.geometry import Polygon, LineString\n",
    "\n",
    "polygon = Polygon(\n",
    "  type='Polygon',\n",
    "  coordinates=[[\n",
    "    (13.92, 50.964),\n",
    "    (13.92, 50.966),\n",
    "    (13.925, 50.966),\n",
    "    (13.925, 50.964),\n",
    "    (13.92, 50.964)\n",
    "  ]]\n",
    ")\n",
    "\n",
    "rotation = Rotation(0)\n",
    "\n",
    "grid = Grid.cartesian_from_polygon(polygon=polygon, n_cols=100, n_rows=50, rotation=rotation)\n",
    "spatial_discretization = SpatialDiscretization.from_geometry_with_grid(\n",
    "  geometry=polygon,\n",
    "  grid=grid,\n",
    "  crs=Crs.from_str('EPSG:4326')\n",
    ")"
   ],
   "outputs": []
  },
  {
   "cell_type": "markdown",
   "id": "fa27e67f9d801845",
   "metadata": {
    "collapsed": false,
    "papermill": {
     "duration": 0.002209,
     "end_time": "2024-05-15T16:00:32.101913",
     "exception": false,
     "start_time": "2024-05-15T16:00:32.099704",
     "status": "completed"
    },
    "tags": []
   },
   "source": [
    "## Setup Time Discretization"
   ]
  },
  {
   "cell_type": "code",
   "execution_count": 3,
   "id": "8e4e63dd138db9fc",
   "metadata": {
    "ExecuteTime": {
     "end_time": "2024-05-14T08:13:14.148163Z",
     "start_time": "2024-05-14T08:13:14.145377Z"
    },
    "collapsed": false,
    "execution": {
     "iopub.execute_input": "2024-05-15T16:00:32.107469Z",
     "iopub.status.busy": "2024-05-15T16:00:32.107295Z",
     "iopub.status.idle": "2024-05-15T16:00:32.109921Z",
     "shell.execute_reply": "2024-05-15T16:00:32.109668Z"
    },
    "papermill": {
     "duration": 0.006946,
     "end_time": "2024-05-15T16:00:32.111055",
     "exception": false,
     "start_time": "2024-05-15T16:00:32.104109",
     "status": "completed"
    },
    "tags": []
   },
   "source": [
    "from morpheus.project.types.discretization.time.TimeUnit import TimeUnit\n",
    "from morpheus.project.types.discretization.time.Stressperiods import StartDateTime, StressPeriodCollection, \\\n",
    "  StressPeriod, NumberOfTimeSteps, TimeStepMultiplier, IsSteadyState\n",
    "from morpheus.project.types.discretization.time import TimeDiscretization\n",
    "from datetime import datetime\n",
    "\n",
    "time_discretization = TimeDiscretization(\n",
    "  start_date_time=StartDateTime.from_datetime(datetime(2020, 1, 1)),\n",
    "  end_date_time=StartDateTime.from_datetime(datetime(2020, 12, 31)),\n",
    "  stress_periods=StressPeriodCollection([\n",
    "    StressPeriod(\n",
    "      start_date_time=StartDateTime.from_datetime(datetime(2020, 1, 1)),\n",
    "      number_of_time_steps=NumberOfTimeSteps(1),\n",
    "      time_step_multiplier=TimeStepMultiplier(1),\n",
    "      steady_state=IsSteadyState.yes()\n",
    "    ),\n",
    "  ]),\n",
    "  time_unit=TimeUnit.days()\n",
    ")"
   ],
   "outputs": []
  },
  {
   "cell_type": "markdown",
   "id": "963ba8729f09fcec",
   "metadata": {
    "collapsed": false,
    "papermill": {
     "duration": 0.002273,
     "end_time": "2024-05-15T16:00:32.116345",
     "exception": false,
     "start_time": "2024-05-15T16:00:32.114072",
     "status": "completed"
    },
    "tags": []
   },
   "source": [
    "# Setup Model"
   ]
  },
  {
   "cell_type": "code",
   "execution_count": 4,
   "id": "1d5c9125b1b9360b",
   "metadata": {
    "ExecuteTime": {
     "end_time": "2024-05-14T08:13:14.643454Z",
     "start_time": "2024-05-14T08:13:14.149358Z"
    },
    "collapsed": false,
    "execution": {
     "iopub.execute_input": "2024-05-15T16:00:32.125245Z",
     "iopub.status.busy": "2024-05-15T16:00:32.124854Z",
     "iopub.status.idle": "2024-05-15T16:00:32.476015Z",
     "shell.execute_reply": "2024-05-15T16:00:32.475631Z"
    },
    "papermill": {
     "duration": 0.357808,
     "end_time": "2024-05-15T16:00:32.477107",
     "exception": false,
     "start_time": "2024-05-15T16:00:32.119299",
     "status": "completed"
    },
    "tags": []
   },
   "source": [
    "from morpheus.project.types.Model import Model\n",
    "\n",
    "model = Model.new()\n",
    "model = model.with_updated_time_discretization(time_discretization)\n",
    "model = model.with_updated_spatial_discretization(spatial_discretization=spatial_discretization)"
   ],
   "outputs": []
  },
  {
   "cell_type": "code",
   "execution_count": 5,
   "id": "1540b870ae83f298",
   "metadata": {
    "ExecuteTime": {
     "end_time": "2024-05-14T08:13:14.867836Z",
     "start_time": "2024-05-14T08:13:14.645609Z"
    },
    "collapsed": false,
    "execution": {
     "iopub.execute_input": "2024-05-15T16:00:32.482182Z",
     "iopub.status.busy": "2024-05-15T16:00:32.481972Z",
     "iopub.status.idle": "2024-05-15T16:00:32.651511Z",
     "shell.execute_reply": "2024-05-15T16:00:32.651228Z"
    },
    "papermill": {
     "duration": 0.172926,
     "end_time": "2024-05-15T16:00:32.652365",
     "exception": false,
     "start_time": "2024-05-15T16:00:32.479439",
     "status": "completed"
    },
    "tags": []
   },
   "source": [
    "import folium\n",
    "\n",
    "m = folium.Map(tiles=\"cartodbpositron\", crs=\"EPSG3857\", zoom_start=12, location=[50.965, 13.922])\n",
    "m.add_child(folium.GeoJson(polygon.as_geojson()))\n",
    "\n",
    "m.fit_bounds(m.get_bounds())\n",
    "m"
   ],
   "outputs": []
  },
  {
   "cell_type": "markdown",
   "id": "62ae3587df801000",
   "metadata": {
    "collapsed": false,
    "papermill": {
     "duration": 0.002306,
     "end_time": "2024-05-15T16:00:32.657119",
     "exception": false,
     "start_time": "2024-05-15T16:00:32.654813",
     "status": "completed"
    },
    "tags": []
   },
   "source": [
    "# Setup general head boundaries with two observations"
   ]
  },
  {
   "cell_type": "code",
   "execution_count": 6,
   "id": "53679913aee28ce9",
   "metadata": {
    "ExecuteTime": {
     "end_time": "2024-05-14T08:13:16.365118Z",
     "start_time": "2024-05-14T08:13:14.872269Z"
    },
    "collapsed": false,
    "execution": {
     "iopub.execute_input": "2024-05-15T16:00:32.661989Z",
     "iopub.status.busy": "2024-05-15T16:00:32.661819Z",
     "iopub.status.idle": "2024-05-15T16:00:33.708800Z",
     "shell.execute_reply": "2024-05-15T16:00:33.708542Z"
    },
    "papermill": {
     "duration": 1.050465,
     "end_time": "2024-05-15T16:00:33.709660",
     "exception": false,
     "start_time": "2024-05-15T16:00:32.659195",
     "status": "completed"
    },
    "tags": []
   },
   "source": [
    "from morpheus.project.types.boundaries.Observation import ObservationName\n",
    "from morpheus.project.types.boundaries.GeneralHeadObservation import ObservationId, GeneralHeadRawDataItem, \\\n",
    "  GeneralHeadObservation, Stage, Conductance\n",
    "from morpheus.project.types.geometry import Point\n",
    "from morpheus.project.types.boundaries.Boundary import BoundaryName, BoundaryCollection\n",
    "from morpheus.project.types.boundaries.Boundary import GeneralHeadBoundary\n",
    "\n",
    "\n",
    "general_head_east = GeneralHeadBoundary.from_geometry(\n",
    "  name=BoundaryName('general_head_east'),\n",
    "  geometry=LineString([\n",
    "    (13.92499, 50.966),\n",
    "    (13.92499, 50.964),\n",
    "  ]),\n",
    "  grid=grid,\n",
    "  affected_layers=[model.layers[0].layer_id],\n",
    "  observations=[\n",
    "    GeneralHeadObservation(\n",
    "      observation_id=ObservationId.new(),\n",
    "      observation_name=ObservationName.default(),\n",
    "      geometry=Point((13.92499, 50.966)),\n",
    "      data=[\n",
    "        GeneralHeadRawDataItem(\n",
    "          date_time=StartDateTime.from_datetime(datetime(2019, 1, 1)),\n",
    "          stage=Stage.from_float(100),\n",
    "          conductance=Conductance.from_float(100),\n",
    "        ),\n",
    "        GeneralHeadRawDataItem(\n",
    "          date_time=StartDateTime.from_datetime(datetime(2021, 12, 31)),\n",
    "          stage=Stage.from_float(100),\n",
    "          conductance=Conductance.from_float(100),\n",
    "        ),\n",
    "      ]\n",
    "    ),\n",
    "  ]\n",
    ")\n",
    "\n",
    "general_head_west = GeneralHeadBoundary.from_geometry(\n",
    "  name=BoundaryName('general_head_west'),\n",
    "  geometry=LineString([\n",
    "    (13.92004, 50.96401),\n",
    "    (13.92004, 50.96599),\n",
    "  ]),\n",
    "  grid=grid,\n",
    "  affected_layers=[model.layers[0].layer_id],\n",
    "  observations=[\n",
    "    GeneralHeadObservation(\n",
    "      observation_id=ObservationId.new(),\n",
    "      observation_name=ObservationName.default(),\n",
    "      geometry=Point((13.92004, 50.96599)),\n",
    "      data=[\n",
    "        GeneralHeadRawDataItem(\n",
    "          date_time=StartDateTime.from_datetime(datetime(2019, 1, 1)),\n",
    "          stage=Stage.from_float(100),\n",
    "          conductance=Conductance.from_float(300),\n",
    "        ),\n",
    "        GeneralHeadRawDataItem(\n",
    "          date_time=StartDateTime.from_datetime(datetime(2021, 12, 31)),\n",
    "          stage=Stage.from_float(100),\n",
    "          conductance=Conductance.from_float(300),\n",
    "        ),\n",
    "      ]\n",
    "    ),\n",
    "  ]\n",
    ")\n",
    "\n",
    "boundary_collection = BoundaryCollection.new()\n",
    "boundary_collection.add_boundary(general_head_west)\n",
    "boundary_collection.add_boundary(general_head_east)\n",
    "\n",
    "model = model.with_updated_boundaries(boundaries=boundary_collection)\n",
    "\n",
    "m.add_child(folium.GeoJson(general_head_east.as_geojson()))\n",
    "m.add_child(folium.GeoJson(general_head_east.affected_cells.to_geojson(grid).as_geojson()))\n",
    "for observation in general_head_east.observations:\n",
    "  m.add_child(folium.GeoJson(observation.as_geojson()))\n",
    "\n",
    "m.add_child(folium.GeoJson(general_head_west.as_geojson()))\n",
    "m.add_child(folium.GeoJson(general_head_west.affected_cells.to_geojson(grid).as_geojson()))\n",
    "for observation in general_head_west.observations:\n",
    "  m.add_child(folium.GeoJson(observation.as_geojson()))\n",
    "m.fit_bounds(m.get_bounds())\n",
    "m"
   ],
   "outputs": []
  },
  {
   "cell_type": "markdown",
   "id": "c77083343e8d9b41",
   "metadata": {
    "collapsed": false,
    "papermill": {
     "duration": 0.002518,
     "end_time": "2024-05-15T16:00:33.714954",
     "exception": false,
     "start_time": "2024-05-15T16:00:33.712436",
     "status": "completed"
    },
    "tags": []
   },
   "source": [
    "# Setup Recharge Boundary"
   ]
  },
  {
   "cell_type": "code",
   "execution_count": 7,
   "id": "b86bf9a016e5db0d",
   "metadata": {
    "ExecuteTime": {
     "end_time": "2024-05-14T08:13:17.102526Z",
     "start_time": "2024-05-14T08:13:16.369850Z"
    },
    "collapsed": false,
    "execution": {
     "iopub.execute_input": "2024-05-15T16:00:33.720471Z",
     "iopub.status.busy": "2024-05-15T16:00:33.720335Z",
     "iopub.status.idle": "2024-05-15T16:00:34.238134Z",
     "shell.execute_reply": "2024-05-15T16:00:34.237832Z"
    },
    "papermill": {
     "duration": 0.523962,
     "end_time": "2024-05-15T16:00:34.241367",
     "exception": false,
     "start_time": "2024-05-15T16:00:33.717405",
     "status": "completed"
    },
    "tags": []
   },
   "source": [
    "from morpheus.project.types.boundaries.Boundary import RechargeBoundary\n",
    "from morpheus.project.types.boundaries.RechargeObservation import RechargeRawDataItem, RechargeRate\n",
    "\n",
    "recharge_area = Polygon(\n",
    "  type='Polygon',\n",
    "  coordinates=[[\n",
    "    (\n",
    "      13.92181326103696,\n",
    "      50.96574333352123\n",
    "    ),\n",
    "    (\n",
    "      13.92181326103696,\n",
    "      50.96440649737727\n",
    "    ),\n",
    "    (\n",
    "      13.923994608237564,\n",
    "      50.96440649737727\n",
    "    ),\n",
    "    (\n",
    "      13.923994608237564,\n",
    "      50.96574333352123\n",
    "    ),\n",
    "    (\n",
    "      13.92181326103696,\n",
    "      50.96574333352123\n",
    "    )\n",
    "  ]]\n",
    "\n",
    ")\n",
    "\n",
    "recharge = RechargeBoundary.from_geometry(\n",
    "  name=BoundaryName('recharge'),\n",
    "  geometry=recharge_area,\n",
    "  grid=grid,\n",
    "  affected_layers=[model.layers[0].layer_id],\n",
    "  data=[\n",
    "    RechargeRawDataItem(\n",
    "      date_time=StartDateTime.from_datetime(datetime(2019, 1, 1)),\n",
    "      recharge_rate=RechargeRate.from_float(0.001),\n",
    "    ),\n",
    "    RechargeRawDataItem(\n",
    "      date_time=StartDateTime.from_datetime(datetime(2021, 12, 31)),\n",
    "      recharge_rate=RechargeRate.from_float(0.001),\n",
    "    ),\n",
    "  ]\n",
    ")\n",
    "\n",
    "boundary_collection.add_boundary(recharge)\n",
    "\n",
    "m.add_child(folium.GeoJson(recharge.as_geojson()))\n",
    "m.add_child(folium.GeoJson(recharge.affected_cells.to_geojson(grid).as_geojson()))\n",
    "m.fit_bounds(m.get_bounds())\n",
    "m"
   ],
   "outputs": []
  },
  {
   "cell_type": "code",
   "execution_count": 8,
   "id": "dc338472e1887a13",
   "metadata": {
    "ExecuteTime": {
     "end_time": "2024-05-14T08:13:18.612Z",
     "start_time": "2024-05-14T08:13:17.105576Z"
    },
    "collapsed": false,
    "execution": {
     "iopub.execute_input": "2024-05-15T16:00:34.251383Z",
     "iopub.status.busy": "2024-05-15T16:00:34.251253Z",
     "iopub.status.idle": "2024-05-15T16:00:34.617500Z",
     "shell.execute_reply": "2024-05-15T16:00:34.617241Z"
    },
    "papermill": {
     "duration": 0.372338,
     "end_time": "2024-05-15T16:00:34.618404",
     "exception": false,
     "start_time": "2024-05-15T16:00:34.246066",
     "status": "completed"
    },
    "tags": []
   },
   "source": [
    "from morpheus.project.infrastructure.calculation.engines.modflow_2005.packages.RchPackageMapper import calculate_rch_boundary_stress_period_data\n",
    "\n",
    "result = calculate_rch_boundary_stress_period_data(\n",
    "  spatial_discretization=spatial_discretization,\n",
    "  time_discretization=time_discretization,\n",
    "  layers=model.layers,\n",
    "  rch_boundary=recharge,\n",
    ")\n",
    "result.to_dict()[0]"
   ],
   "outputs": []
  },
  {
   "cell_type": "markdown",
   "id": "42d948d145a8457a",
   "metadata": {
    "collapsed": false,
    "papermill": {
     "duration": 0.005436,
     "end_time": "2024-05-15T16:00:34.629691",
     "exception": false,
     "start_time": "2024-05-15T16:00:34.624255",
     "status": "completed"
    },
    "tags": []
   },
   "source": [
    "## Calculate"
   ]
  },
  {
   "cell_type": "code",
   "execution_count": 9,
   "id": "56ccabee86e2397e",
   "metadata": {
    "ExecuteTime": {
     "end_time": "2024-05-14T08:13:18.628042Z",
     "start_time": "2024-05-14T08:13:18.612958Z"
    },
    "collapsed": false,
    "execution": {
     "iopub.execute_input": "2024-05-15T16:00:34.645988Z",
     "iopub.status.busy": "2024-05-15T16:00:34.645799Z",
     "iopub.status.idle": "2024-05-15T16:00:34.656815Z",
     "shell.execute_reply": "2024-05-15T16:00:34.656562Z"
    },
    "papermill": {
     "duration": 0.022379,
     "end_time": "2024-05-15T16:00:34.657745",
     "exception": false,
     "start_time": "2024-05-15T16:00:34.635366",
     "status": "completed"
    },
    "tags": []
   },
   "source": [
    "from morpheus.project.types.calculation.CalculationProfile import CalculationProfile, CalculationEngineType\n",
    "from morpheus.project.types.calculation.Calculation import Calculation\n",
    "\n",
    "calculation_profile = CalculationProfile.new(CalculationEngineType.MF2005)\n",
    "calculation = Calculation.new(model=model, calculation_profile=calculation_profile)"
   ],
   "outputs": []
  },
  {
   "cell_type": "code",
   "execution_count": 10,
   "id": "e09d94e0a94315cb",
   "metadata": {
    "ExecuteTime": {
     "end_time": "2024-05-14T08:13:18.646358Z",
     "start_time": "2024-05-14T08:13:18.631640Z"
    },
    "collapsed": false,
    "execution": {
     "iopub.execute_input": "2024-05-15T16:00:34.668965Z",
     "iopub.status.busy": "2024-05-15T16:00:34.668837Z",
     "iopub.status.idle": "2024-05-15T16:00:34.676572Z",
     "shell.execute_reply": "2024-05-15T16:00:34.676334Z"
    },
    "papermill": {
     "duration": 0.014176,
     "end_time": "2024-05-15T16:00:34.677370",
     "exception": false,
     "start_time": "2024-05-15T16:00:34.663194",
     "status": "completed"
    },
    "tags": []
   },
   "source": [
    "calculation = Calculation.from_dict(calculation.to_dict())\n",
    "calculation.calculation_id"
   ],
   "outputs": []
  },
  {
   "cell_type": "code",
   "execution_count": 11,
   "id": "672007fb90753c4c",
   "metadata": {
    "ExecuteTime": {
     "end_time": "2024-05-14T08:13:19.492207Z",
     "start_time": "2024-05-14T08:13:18.648038Z"
    },
    "collapsed": false,
    "execution": {
     "iopub.execute_input": "2024-05-15T16:00:34.689206Z",
     "iopub.status.busy": "2024-05-15T16:00:34.689065Z",
     "iopub.status.idle": "2024-05-15T16:00:35.245347Z",
     "shell.execute_reply": "2024-05-15T16:00:35.245021Z"
    },
    "papermill": {
     "duration": 0.564235,
     "end_time": "2024-05-15T16:00:35.247406",
     "exception": false,
     "start_time": "2024-05-15T16:00:34.683171",
     "status": "completed"
    },
    "tags": []
   },
   "source": [
    "from morpheus.project.infrastructure.calculation.services.CalculationService import CalculationService\n",
    "\n",
    "calculation_service = CalculationService.from_calculation(calculation)\n",
    "calculation_service.calculate()"
   ],
   "outputs": []
  },
  {
   "cell_type": "code",
   "execution_count": 12,
   "id": "a52d1dd3a1574032",
   "metadata": {
    "ExecuteTime": {
     "end_time": "2024-05-14T08:13:19.497433Z",
     "start_time": "2024-05-14T08:13:19.493219Z"
    },
    "collapsed": false,
    "execution": {
     "iopub.execute_input": "2024-05-15T16:00:35.260956Z",
     "iopub.status.busy": "2024-05-15T16:00:35.260599Z",
     "iopub.status.idle": "2024-05-15T16:00:35.263298Z",
     "shell.execute_reply": "2024-05-15T16:00:35.263077Z"
    },
    "papermill": {
     "duration": 0.010103,
     "end_time": "2024-05-15T16:00:35.264096",
     "exception": false,
     "start_time": "2024-05-15T16:00:35.253993",
     "status": "completed"
    },
    "tags": []
   },
   "source": [
    "calculation_service.get_result()"
   ],
   "outputs": []
  },
  {
   "cell_type": "code",
   "execution_count": 13,
   "id": "cc43ad077c7a81d0",
   "metadata": {
    "ExecuteTime": {
     "end_time": "2024-05-14T08:13:19.501525Z",
     "start_time": "2024-05-14T08:13:19.498098Z"
    },
    "collapsed": false,
    "execution": {
     "iopub.execute_input": "2024-05-15T16:00:35.278584Z",
     "iopub.status.busy": "2024-05-15T16:00:35.278344Z",
     "iopub.status.idle": "2024-05-15T16:00:35.280863Z",
     "shell.execute_reply": "2024-05-15T16:00:35.280580Z"
    },
    "papermill": {
     "duration": 0.011315,
     "end_time": "2024-05-15T16:00:35.281709",
     "exception": false,
     "start_time": "2024-05-15T16:00:35.270394",
     "status": "completed"
    },
    "tags": []
   },
   "source": [
    "head = calculation_service.read_head(0, 0)"
   ],
   "outputs": []
  },
  {
   "cell_type": "code",
   "execution_count": 14,
   "id": "12454cc4d9e18de5",
   "metadata": {
    "ExecuteTime": {
     "end_time": "2024-05-14T08:13:19.508675Z",
     "start_time": "2024-05-14T08:13:19.502348Z"
    },
    "collapsed": false,
    "execution": {
     "iopub.execute_input": "2024-05-15T16:00:35.294681Z",
     "iopub.status.busy": "2024-05-15T16:00:35.294543Z",
     "iopub.status.idle": "2024-05-15T16:00:35.299936Z",
     "shell.execute_reply": "2024-05-15T16:00:35.299668Z"
    },
    "papermill": {
     "duration": 0.012783,
     "end_time": "2024-05-15T16:00:35.300867",
     "exception": false,
     "start_time": "2024-05-15T16:00:35.288084",
     "status": "completed"
    },
    "tags": []
   },
   "source": [
    "import simplejson as json\n",
    "\n",
    "json = json.dumps(head, ignore_nan=True)\n",
    "json"
   ],
   "outputs": []
  },
  {
   "cell_type": "code",
   "execution_count": 15,
   "id": "df7dfd8ff0308815",
   "metadata": {
    "ExecuteTime": {
     "end_time": "2024-05-14T08:13:19.513701Z",
     "start_time": "2024-05-14T08:13:19.509727Z"
    },
    "collapsed": false,
    "execution": {
     "iopub.execute_input": "2024-05-15T16:00:35.314836Z",
     "iopub.status.busy": "2024-05-15T16:00:35.314703Z",
     "iopub.status.idle": "2024-05-15T16:00:35.316935Z",
     "shell.execute_reply": "2024-05-15T16:00:35.316671Z"
    },
    "papermill": {
     "duration": 0.010201,
     "end_time": "2024-05-15T16:00:35.317776",
     "exception": false,
     "start_time": "2024-05-15T16:00:35.307575",
     "status": "completed"
    },
    "tags": []
   },
   "source": [
    "calculation_service.read_drawdown(0, 0)"
   ],
   "outputs": []
  },
  {
   "cell_type": "code",
   "execution_count": 16,
   "id": "b233f4066b56c174",
   "metadata": {
    "ExecuteTime": {
     "end_time": "2024-05-14T08:13:19.519906Z",
     "start_time": "2024-05-14T08:13:19.514835Z"
    },
    "collapsed": false,
    "execution": {
     "iopub.execute_input": "2024-05-15T16:00:35.331508Z",
     "iopub.status.busy": "2024-05-15T16:00:35.331389Z",
     "iopub.status.idle": "2024-05-15T16:00:35.334932Z",
     "shell.execute_reply": "2024-05-15T16:00:35.334691Z"
    },
    "papermill": {
     "duration": 0.011323,
     "end_time": "2024-05-15T16:00:35.335735",
     "exception": false,
     "start_time": "2024-05-15T16:00:35.324412",
     "status": "completed"
    },
    "tags": []
   },
   "source": [
    "calculation_service.read_budget(0, False)"
   ],
   "outputs": []
  },
  {
   "cell_type": "code",
   "execution_count": 17,
   "id": "634709d741f5c252",
   "metadata": {
    "ExecuteTime": {
     "end_time": "2024-05-14T08:13:19.526673Z",
     "start_time": "2024-05-14T08:13:19.520996Z"
    },
    "collapsed": false,
    "execution": {
     "iopub.execute_input": "2024-05-15T16:00:35.349834Z",
     "iopub.status.busy": "2024-05-15T16:00:35.349618Z",
     "iopub.status.idle": "2024-05-15T16:00:35.353056Z",
     "shell.execute_reply": "2024-05-15T16:00:35.352822Z"
    },
    "papermill": {
     "duration": 0.011345,
     "end_time": "2024-05-15T16:00:35.353881",
     "exception": false,
     "start_time": "2024-05-15T16:00:35.342536",
     "status": "completed"
    },
    "tags": []
   },
   "source": [
    "calculation_service.read_budget(0, True)"
   ],
   "outputs": []
  },
  {
   "cell_type": "code",
   "execution_count": 18,
   "id": "26523066436690e6",
   "metadata": {
    "ExecuteTime": {
     "end_time": "2024-05-14T08:13:19.531104Z",
     "start_time": "2024-05-14T08:13:19.527751Z"
    },
    "collapsed": false,
    "execution": {
     "iopub.execute_input": "2024-05-15T16:00:35.368433Z",
     "iopub.status.busy": "2024-05-15T16:00:35.368304Z",
     "iopub.status.idle": "2024-05-15T16:00:35.370352Z",
     "shell.execute_reply": "2024-05-15T16:00:35.370145Z"
    },
    "papermill": {
     "duration": 0.010353,
     "end_time": "2024-05-15T16:00:35.371099",
     "exception": false,
     "start_time": "2024-05-15T16:00:35.360746",
     "status": "completed"
    },
    "tags": []
   },
   "source": [
    "calculation_service.get_result()"
   ],
   "outputs": []
  },
  {
   "cell_type": "code",
   "execution_count": 19,
   "id": "160abd7d290c83f7",
   "metadata": {
    "ExecuteTime": {
     "end_time": "2024-05-14T08:13:19.680733Z",
     "start_time": "2024-05-14T08:13:19.531945Z"
    },
    "collapsed": false,
    "execution": {
     "iopub.execute_input": "2024-05-15T16:00:35.385710Z",
     "iopub.status.busy": "2024-05-15T16:00:35.385496Z",
     "iopub.status.idle": "2024-05-15T16:00:35.610908Z",
     "shell.execute_reply": "2024-05-15T16:00:35.610438Z"
    },
    "papermill": {
     "duration": 0.233844,
     "end_time": "2024-05-15T16:00:35.611896",
     "exception": false,
     "start_time": "2024-05-15T16:00:35.378052",
     "status": "completed"
    },
    "tags": []
   },
   "source": [
    "import matplotlib.pyplot as plt\n",
    "\n",
    "heads = calculation_service.read_head(0, 0)\n",
    "plt.subplot(2, 1, 1)\n",
    "plt.imshow(heads, cmap='jet_r')\n",
    "plt.colorbar()\n",
    "plt.show()"
   ],
   "outputs": []
  }
 ],
 "metadata": {
  "kernelspec": {
   "display_name": "Python 3",
   "language": "python",
   "name": "python3"
  },
  "language_info": {
   "codemirror_mode": {
    "name": "ipython",
    "version": 3
   },
   "file_extension": ".py",
   "mimetype": "text/x-python",
   "name": "python",
   "nbconvert_exporter": "python",
   "pygments_lexer": "ipython3",
   "version": "3.12.2"
  },
  "papermill": {
   "default_parameters": {},
   "duration": 5.782336,
   "end_time": "2024-05-15T16:00:36.449640",
   "environment_variables": {},
   "exception": null,
   "input_path": "./notebooks/Test_RechargeBoundary.ipynb",
   "output_path": "./notebooks/Test_RechargeBoundary.ipynb",
   "parameters": {},
   "start_time": "2024-05-15T16:00:30.667304",
   "version": "2.6.0"
  }
 },
 "nbformat": 4,
 "nbformat_minor": 5
}
