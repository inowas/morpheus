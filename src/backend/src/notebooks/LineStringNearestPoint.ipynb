{
 "cells": [
  {
   "cell_type": "code",
   "execution_count": 1,
   "id": "ba6761fae9d5e5cb",
   "metadata": {
    "ExecuteTime": {
     "end_time": "2024-08-19T09:45:27.548124Z",
     "start_time": "2024-08-19T09:45:27.541309Z"
    },
    "collapsed": false,
    "execution": {
     "iopub.execute_input": "2024-08-19T20:27:33.372894Z",
     "iopub.status.busy": "2024-08-19T20:27:33.372562Z",
     "iopub.status.idle": "2024-08-19T20:27:33.377386Z",
     "shell.execute_reply": "2024-08-19T20:27:33.376801Z"
    },
    "papermill": {
     "duration": 0.016316,
     "end_time": "2024-08-19T20:27:33.379390",
     "exception": false,
     "start_time": "2024-08-19T20:27:33.363074",
     "status": "completed"
    },
    "tags": []
   },
   "outputs": [],
   "source": [
    "import sys\n",
    "\n",
    "sys.path.insert(0, '..')"
   ]
  },
  {
   "cell_type": "markdown",
   "id": "5ede1ba5e0993dd1",
   "metadata": {
    "collapsed": false,
    "papermill": {
     "duration": 0.002918,
     "end_time": "2024-08-19T20:27:33.386556",
     "exception": false,
     "start_time": "2024-08-19T20:27:33.383638",
     "status": "completed"
    },
    "tags": []
   },
   "source": [
    "# Calculate the nearest point on a line for an arbitrary point"
   ]
  },
  {
   "cell_type": "markdown",
   "id": "90453a1d75202b2b",
   "metadata": {
    "papermill": {
     "duration": 0.002727,
     "end_time": "2024-08-19T20:27:33.392141",
     "exception": false,
     "start_time": "2024-08-19T20:27:33.389414",
     "status": "completed"
    },
    "tags": []
   },
   "source": [
    "## Final implementation test"
   ]
  },
  {
   "cell_type": "code",
   "execution_count": 2,
   "id": "2f69504ab35487aa",
   "metadata": {
    "ExecuteTime": {
     "end_time": "2024-08-19T09:45:27.857551Z",
     "start_time": "2024-08-19T09:45:27.550242Z"
    },
    "collapsed": false,
    "execution": {
     "iopub.execute_input": "2024-08-19T20:27:33.398622Z",
     "iopub.status.busy": "2024-08-19T20:27:33.398368Z",
     "iopub.status.idle": "2024-08-19T20:27:33.523730Z",
     "shell.execute_reply": "2024-08-19T20:27:33.521562Z"
    },
    "papermill": {
     "duration": 0.132006,
     "end_time": "2024-08-19T20:27:33.526876",
     "exception": false,
     "start_time": "2024-08-19T20:27:33.394870",
     "status": "completed"
    },
    "tags": []
   },
   "outputs": [],
   "source": [
    "from morpheus.project.types.geometry import Point, LineString\n",
    "\n",
    "line = LineString.from_dict({\n",
    "  \"type\": \"LineString\",\n",
    "  \"coordinates\": [(13.922514437551428, 50.964720483303836), (13.925036413951403, 50.96623732041704)]\n",
    "})\n",
    "\n",
    "point = Point.from_dict({\n",
    "  \"type\": \"Point\",\n",
    "  \"coordinates\": [13.9226, 50.9661]\n",
    "})\n",
    "\n",
    "nearest_point = line.nearest_point(point)"
   ]
  },
  {
   "cell_type": "code",
   "execution_count": 3,
   "id": "1540b870ae83f298",
   "metadata": {
    "ExecuteTime": {
     "end_time": "2024-08-19T09:45:28.381849Z",
     "start_time": "2024-08-19T09:45:27.862056Z"
    },
    "collapsed": false,
    "execution": {
     "iopub.execute_input": "2024-08-19T20:27:33.537188Z",
     "iopub.status.busy": "2024-08-19T20:27:33.534306Z",
     "iopub.status.idle": "2024-08-19T20:27:33.910727Z",
     "shell.execute_reply": "2024-08-19T20:27:33.910448Z"
    },
    "papermill": {
     "duration": 0.381147,
     "end_time": "2024-08-19T20:27:33.911647",
     "exception": false,
     "start_time": "2024-08-19T20:27:33.530500",
     "status": "completed"
    },
    "tags": []
   },
   "outputs": [
    {
     "data": {
      "text/html": [
       "<div style=\"width:100%;\"><div style=\"position:relative;width:100%;height:0;padding-bottom:60%;\"><span style=\"color:#565656\">Make this Notebook Trusted to load map: File -> Trust Notebook</span><iframe srcdoc=\"&lt;!DOCTYPE html&gt;\n",
       "&lt;html&gt;\n",
       "&lt;head&gt;\n",
       "    \n",
       "    &lt;meta http-equiv=&quot;content-type&quot; content=&quot;text/html; charset=UTF-8&quot; /&gt;\n",
       "    \n",
       "        &lt;script&gt;\n",
       "            L_NO_TOUCH = false;\n",
       "            L_DISABLE_3D = false;\n",
       "        &lt;/script&gt;\n",
       "    \n",
       "    &lt;style&gt;html, body {width: 100%;height: 100%;margin: 0;padding: 0;}&lt;/style&gt;\n",
       "    &lt;style&gt;#map {position:absolute;top:0;bottom:0;right:0;left:0;}&lt;/style&gt;\n",
       "    &lt;script src=&quot;https://cdn.jsdelivr.net/npm/leaflet@1.9.3/dist/leaflet.js&quot;&gt;&lt;/script&gt;\n",
       "    &lt;script src=&quot;https://code.jquery.com/jquery-3.7.1.min.js&quot;&gt;&lt;/script&gt;\n",
       "    &lt;script src=&quot;https://cdn.jsdelivr.net/npm/bootstrap@5.2.2/dist/js/bootstrap.bundle.min.js&quot;&gt;&lt;/script&gt;\n",
       "    &lt;script src=&quot;https://cdnjs.cloudflare.com/ajax/libs/Leaflet.awesome-markers/2.0.2/leaflet.awesome-markers.js&quot;&gt;&lt;/script&gt;\n",
       "    &lt;link rel=&quot;stylesheet&quot; href=&quot;https://cdn.jsdelivr.net/npm/leaflet@1.9.3/dist/leaflet.css&quot;/&gt;\n",
       "    &lt;link rel=&quot;stylesheet&quot; href=&quot;https://cdn.jsdelivr.net/npm/bootstrap@5.2.2/dist/css/bootstrap.min.css&quot;/&gt;\n",
       "    &lt;link rel=&quot;stylesheet&quot; href=&quot;https://netdna.bootstrapcdn.com/bootstrap/3.0.0/css/bootstrap.min.css&quot;/&gt;\n",
       "    &lt;link rel=&quot;stylesheet&quot; href=&quot;https://cdn.jsdelivr.net/npm/@fortawesome/fontawesome-free@6.2.0/css/all.min.css&quot;/&gt;\n",
       "    &lt;link rel=&quot;stylesheet&quot; href=&quot;https://cdnjs.cloudflare.com/ajax/libs/Leaflet.awesome-markers/2.0.2/leaflet.awesome-markers.css&quot;/&gt;\n",
       "    &lt;link rel=&quot;stylesheet&quot; href=&quot;https://cdn.jsdelivr.net/gh/python-visualization/folium/folium/templates/leaflet.awesome.rotate.min.css&quot;/&gt;\n",
       "    \n",
       "            &lt;meta name=&quot;viewport&quot; content=&quot;width=device-width,\n",
       "                initial-scale=1.0, maximum-scale=1.0, user-scalable=no&quot; /&gt;\n",
       "            &lt;style&gt;\n",
       "                #map_ef83565c078e08a0f1c2ae3a1f9728ed {\n",
       "                    position: relative;\n",
       "                    width: 100.0%;\n",
       "                    height: 100.0%;\n",
       "                    left: 0.0%;\n",
       "                    top: 0.0%;\n",
       "                }\n",
       "                .leaflet-container { font-size: 1rem; }\n",
       "            &lt;/style&gt;\n",
       "        \n",
       "&lt;/head&gt;\n",
       "&lt;body&gt;\n",
       "    \n",
       "    \n",
       "            &lt;div class=&quot;folium-map&quot; id=&quot;map_ef83565c078e08a0f1c2ae3a1f9728ed&quot; &gt;&lt;/div&gt;\n",
       "        \n",
       "&lt;/body&gt;\n",
       "&lt;script&gt;\n",
       "    \n",
       "    \n",
       "            var map_ef83565c078e08a0f1c2ae3a1f9728ed = L.map(\n",
       "                &quot;map_ef83565c078e08a0f1c2ae3a1f9728ed&quot;,\n",
       "                {\n",
       "                    center: [50.965, 13.922],\n",
       "                    crs: L.CRS.EPSG3857,\n",
       "                    zoom: 12,\n",
       "                    zoomControl: true,\n",
       "                    preferCanvas: false,\n",
       "                }\n",
       "            );\n",
       "\n",
       "            \n",
       "\n",
       "        \n",
       "    \n",
       "            var tile_layer_419888bb403f2151c1938d931eb76284 = L.tileLayer(\n",
       "                &quot;https://{s}.basemaps.cartocdn.com/light_all/{z}/{x}/{y}{r}.png&quot;,\n",
       "                {&quot;attribution&quot;: &quot;\\u0026copy; \\u003ca href=\\&quot;https://www.openstreetmap.org/copyright\\&quot;\\u003eOpenStreetMap\\u003c/a\\u003e contributors \\u0026copy; \\u003ca href=\\&quot;https://carto.com/attributions\\&quot;\\u003eCARTO\\u003c/a\\u003e&quot;, &quot;detectRetina&quot;: false, &quot;maxNativeZoom&quot;: 20, &quot;maxZoom&quot;: 20, &quot;minZoom&quot;: 0, &quot;noWrap&quot;: false, &quot;opacity&quot;: 1, &quot;subdomains&quot;: &quot;abcd&quot;, &quot;tms&quot;: false}\n",
       "            );\n",
       "        \n",
       "    \n",
       "            tile_layer_419888bb403f2151c1938d931eb76284.addTo(map_ef83565c078e08a0f1c2ae3a1f9728ed);\n",
       "        \n",
       "    \n",
       "\n",
       "        function geo_json_828a287aa44647d8abf85eb1cafbe33e_onEachFeature(feature, layer) {\n",
       "            layer.on({\n",
       "            });\n",
       "        };\n",
       "        var geo_json_828a287aa44647d8abf85eb1cafbe33e = L.geoJson(null, {\n",
       "                onEachFeature: geo_json_828a287aa44647d8abf85eb1cafbe33e_onEachFeature,\n",
       "            \n",
       "        });\n",
       "\n",
       "        function geo_json_828a287aa44647d8abf85eb1cafbe33e_add (data) {\n",
       "            geo_json_828a287aa44647d8abf85eb1cafbe33e\n",
       "                .addData(data);\n",
       "        }\n",
       "            geo_json_828a287aa44647d8abf85eb1cafbe33e_add({&quot;coordinates&quot;: [[13.922514437551428, 50.964720483303836], [13.925036413951403, 50.96623732041704]], &quot;type&quot;: &quot;LineString&quot;});\n",
       "\n",
       "        \n",
       "    \n",
       "            geo_json_828a287aa44647d8abf85eb1cafbe33e.addTo(map_ef83565c078e08a0f1c2ae3a1f9728ed);\n",
       "        \n",
       "    \n",
       "\n",
       "        function geo_json_ce66e08da63e9aa871125523c22c98be_onEachFeature(feature, layer) {\n",
       "            layer.on({\n",
       "            });\n",
       "        };\n",
       "        var geo_json_ce66e08da63e9aa871125523c22c98be = L.geoJson(null, {\n",
       "                onEachFeature: geo_json_ce66e08da63e9aa871125523c22c98be_onEachFeature,\n",
       "            \n",
       "        });\n",
       "\n",
       "        function geo_json_ce66e08da63e9aa871125523c22c98be_add (data) {\n",
       "            geo_json_ce66e08da63e9aa871125523c22c98be\n",
       "                .addData(data);\n",
       "        }\n",
       "            geo_json_ce66e08da63e9aa871125523c22c98be_add({&quot;coordinates&quot;: [13.9226, 50.9661], &quot;type&quot;: &quot;Point&quot;});\n",
       "\n",
       "        \n",
       "    \n",
       "            geo_json_ce66e08da63e9aa871125523c22c98be.addTo(map_ef83565c078e08a0f1c2ae3a1f9728ed);\n",
       "        \n",
       "    \n",
       "\n",
       "        function geo_json_1228bbfbfd3faf175b2e21da01de7381_onEachFeature(feature, layer) {\n",
       "            layer.on({\n",
       "            });\n",
       "        };\n",
       "        var geo_json_1228bbfbfd3faf175b2e21da01de7381 = L.geoJson(null, {\n",
       "                onEachFeature: geo_json_1228bbfbfd3faf175b2e21da01de7381_onEachFeature,\n",
       "            \n",
       "        });\n",
       "\n",
       "        function geo_json_1228bbfbfd3faf175b2e21da01de7381_add (data) {\n",
       "            geo_json_1228bbfbfd3faf175b2e21da01de7381\n",
       "                .addData(data);\n",
       "        }\n",
       "            geo_json_1228bbfbfd3faf175b2e21da01de7381_add({&quot;coordinates&quot;: [13.923186570327204, 50.96512473607135], &quot;type&quot;: &quot;Point&quot;});\n",
       "\n",
       "        \n",
       "    \n",
       "            geo_json_1228bbfbfd3faf175b2e21da01de7381.addTo(map_ef83565c078e08a0f1c2ae3a1f9728ed);\n",
       "        \n",
       "    \n",
       "            map_ef83565c078e08a0f1c2ae3a1f9728ed.fitBounds(\n",
       "                [[50.964720483303836, 13.922514437551428], [50.96623732041704, 13.925036413951403]],\n",
       "                {}\n",
       "            );\n",
       "        \n",
       "&lt;/script&gt;\n",
       "&lt;/html&gt;\" style=\"position:absolute;width:100%;height:100%;left:0;top:0;border:none !important;\" allowfullscreen webkitallowfullscreen mozallowfullscreen></iframe></div></div>"
      ],
      "text/plain": [
       "<folium.folium.Map at 0x1168a0260>"
      ]
     },
     "execution_count": 3,
     "metadata": {},
     "output_type": "execute_result"
    }
   ],
   "source": [
    "import folium\n",
    "\n",
    "m = folium.Map(tiles=\"cartodbpositron\", crs=\"EPSG3857\", zoom_start=12, location=[50.965, 13.922])\n",
    "m.add_child(folium.GeoJson(line.as_geojson()))\n",
    "m.add_child(folium.GeoJson(point.as_geojson()))\n",
    "m.add_child(folium.GeoJson(nearest_point.as_geojson()))\n",
    "\n",
    "m.fit_bounds(m.get_bounds())\n",
    "m"
   ]
  },
  {
   "cell_type": "markdown",
   "id": "8d308845e05fbdbc",
   "metadata": {
    "papermill": {
     "duration": 0.001191,
     "end_time": "2024-08-19T20:27:33.914292",
     "exception": false,
     "start_time": "2024-08-19T20:27:33.913101",
     "status": "completed"
    },
    "tags": []
   },
   "source": [
    "## Calculate the nearest point on a line for an arbitrary point with Shapely nearest_points function"
   ]
  },
  {
   "cell_type": "code",
   "execution_count": 4,
   "id": "244bf8b386deca17",
   "metadata": {
    "ExecuteTime": {
     "end_time": "2024-08-19T09:45:28.390280Z",
     "start_time": "2024-08-19T09:45:28.383012Z"
    },
    "execution": {
     "iopub.execute_input": "2024-08-19T20:27:33.917396Z",
     "iopub.status.busy": "2024-08-19T20:27:33.917156Z",
     "iopub.status.idle": "2024-08-19T20:27:33.920356Z",
     "shell.execute_reply": "2024-08-19T20:27:33.920132Z"
    },
    "papermill": {
     "duration": 0.005579,
     "end_time": "2024-08-19T20:27:33.921111",
     "exception": false,
     "start_time": "2024-08-19T20:27:33.915532",
     "status": "completed"
    },
    "tags": []
   },
   "outputs": [
    {
     "data": {
      "text/plain": [
       "(<POINT (13.923 50.965)>, <POINT (13.923 50.966)>)"
      ]
     },
     "execution_count": 4,
     "metadata": {},
     "output_type": "execute_result"
    }
   ],
   "source": [
    "from shapely.geometry import LineString as ShapelyLineString, Point as ShapelyPoint\n",
    "from shapely.ops import nearest_points\n",
    "from morpheus.project.types.geometry import Point\n",
    "\n",
    "shapely_line = ShapelyLineString(line.coordinates)\n",
    "shapely_point = ShapelyPoint(point.coordinates)\n",
    "nearest_points = nearest_points(shapely_line, shapely_point)\n",
    "nearest_points"
   ]
  },
  {
   "cell_type": "code",
   "execution_count": 5,
   "id": "7d28fcc1cfd90668",
   "metadata": {
    "ExecuteTime": {
     "end_time": "2024-08-19T09:45:28.397080Z",
     "start_time": "2024-08-19T09:45:28.394119Z"
    },
    "execution": {
     "iopub.execute_input": "2024-08-19T20:27:33.924335Z",
     "iopub.status.busy": "2024-08-19T20:27:33.924151Z",
     "iopub.status.idle": "2024-08-19T20:27:33.925873Z",
     "shell.execute_reply": "2024-08-19T20:27:33.925666Z"
    },
    "papermill": {
     "duration": 0.004174,
     "end_time": "2024-08-19T20:27:33.926642",
     "exception": false,
     "start_time": "2024-08-19T20:27:33.922468",
     "status": "completed"
    },
    "tags": []
   },
   "outputs": [],
   "source": [
    "from morpheus.project.types.geometry import Point\n",
    "nearest_shapely_point_on_linestring = nearest_points[0] \n",
    "nearest_point = Point.from_dict({\n",
    "  \"type\": \"Point\",\n",
    "  \"coordinates\": [nearest_shapely_point_on_linestring.x, nearest_shapely_point_on_linestring.y]\n",
    "})"
   ]
  },
  {
   "cell_type": "code",
   "execution_count": 6,
   "id": "45b04c9a6449437b",
   "metadata": {
    "ExecuteTime": {
     "end_time": "2024-08-19T09:45:28.409250Z",
     "start_time": "2024-08-19T09:45:28.397960Z"
    },
    "execution": {
     "iopub.execute_input": "2024-08-19T20:27:33.929920Z",
     "iopub.status.busy": "2024-08-19T20:27:33.929805Z",
     "iopub.status.idle": "2024-08-19T20:27:33.938618Z",
     "shell.execute_reply": "2024-08-19T20:27:33.938403Z"
    },
    "papermill": {
     "duration": 0.011296,
     "end_time": "2024-08-19T20:27:33.939379",
     "exception": false,
     "start_time": "2024-08-19T20:27:33.928083",
     "status": "completed"
    },
    "tags": []
   },
   "outputs": [
    {
     "data": {
      "text/html": [
       "<div style=\"width:100%;\"><div style=\"position:relative;width:100%;height:0;padding-bottom:60%;\"><span style=\"color:#565656\">Make this Notebook Trusted to load map: File -> Trust Notebook</span><iframe srcdoc=\"&lt;!DOCTYPE html&gt;\n",
       "&lt;html&gt;\n",
       "&lt;head&gt;\n",
       "    \n",
       "    &lt;meta http-equiv=&quot;content-type&quot; content=&quot;text/html; charset=UTF-8&quot; /&gt;\n",
       "    \n",
       "        &lt;script&gt;\n",
       "            L_NO_TOUCH = false;\n",
       "            L_DISABLE_3D = false;\n",
       "        &lt;/script&gt;\n",
       "    \n",
       "    &lt;style&gt;html, body {width: 100%;height: 100%;margin: 0;padding: 0;}&lt;/style&gt;\n",
       "    &lt;style&gt;#map {position:absolute;top:0;bottom:0;right:0;left:0;}&lt;/style&gt;\n",
       "    &lt;script src=&quot;https://cdn.jsdelivr.net/npm/leaflet@1.9.3/dist/leaflet.js&quot;&gt;&lt;/script&gt;\n",
       "    &lt;script src=&quot;https://code.jquery.com/jquery-3.7.1.min.js&quot;&gt;&lt;/script&gt;\n",
       "    &lt;script src=&quot;https://cdn.jsdelivr.net/npm/bootstrap@5.2.2/dist/js/bootstrap.bundle.min.js&quot;&gt;&lt;/script&gt;\n",
       "    &lt;script src=&quot;https://cdnjs.cloudflare.com/ajax/libs/Leaflet.awesome-markers/2.0.2/leaflet.awesome-markers.js&quot;&gt;&lt;/script&gt;\n",
       "    &lt;link rel=&quot;stylesheet&quot; href=&quot;https://cdn.jsdelivr.net/npm/leaflet@1.9.3/dist/leaflet.css&quot;/&gt;\n",
       "    &lt;link rel=&quot;stylesheet&quot; href=&quot;https://cdn.jsdelivr.net/npm/bootstrap@5.2.2/dist/css/bootstrap.min.css&quot;/&gt;\n",
       "    &lt;link rel=&quot;stylesheet&quot; href=&quot;https://netdna.bootstrapcdn.com/bootstrap/3.0.0/css/bootstrap.min.css&quot;/&gt;\n",
       "    &lt;link rel=&quot;stylesheet&quot; href=&quot;https://cdn.jsdelivr.net/npm/@fortawesome/fontawesome-free@6.2.0/css/all.min.css&quot;/&gt;\n",
       "    &lt;link rel=&quot;stylesheet&quot; href=&quot;https://cdnjs.cloudflare.com/ajax/libs/Leaflet.awesome-markers/2.0.2/leaflet.awesome-markers.css&quot;/&gt;\n",
       "    &lt;link rel=&quot;stylesheet&quot; href=&quot;https://cdn.jsdelivr.net/gh/python-visualization/folium/folium/templates/leaflet.awesome.rotate.min.css&quot;/&gt;\n",
       "    \n",
       "            &lt;meta name=&quot;viewport&quot; content=&quot;width=device-width,\n",
       "                initial-scale=1.0, maximum-scale=1.0, user-scalable=no&quot; /&gt;\n",
       "            &lt;style&gt;\n",
       "                #map_934fecb08fc6a68fb564323c80d881db {\n",
       "                    position: relative;\n",
       "                    width: 100.0%;\n",
       "                    height: 100.0%;\n",
       "                    left: 0.0%;\n",
       "                    top: 0.0%;\n",
       "                }\n",
       "                .leaflet-container { font-size: 1rem; }\n",
       "            &lt;/style&gt;\n",
       "        \n",
       "&lt;/head&gt;\n",
       "&lt;body&gt;\n",
       "    \n",
       "    \n",
       "            &lt;div class=&quot;folium-map&quot; id=&quot;map_934fecb08fc6a68fb564323c80d881db&quot; &gt;&lt;/div&gt;\n",
       "        \n",
       "&lt;/body&gt;\n",
       "&lt;script&gt;\n",
       "    \n",
       "    \n",
       "            var map_934fecb08fc6a68fb564323c80d881db = L.map(\n",
       "                &quot;map_934fecb08fc6a68fb564323c80d881db&quot;,\n",
       "                {\n",
       "                    center: [50.965, 13.922],\n",
       "                    crs: L.CRS.EPSG3857,\n",
       "                    zoom: 12,\n",
       "                    zoomControl: true,\n",
       "                    preferCanvas: false,\n",
       "                }\n",
       "            );\n",
       "\n",
       "            \n",
       "\n",
       "        \n",
       "    \n",
       "            var tile_layer_e1c6cfe59799bad0f357776c4481d95e = L.tileLayer(\n",
       "                &quot;https://{s}.basemaps.cartocdn.com/light_all/{z}/{x}/{y}{r}.png&quot;,\n",
       "                {&quot;attribution&quot;: &quot;\\u0026copy; \\u003ca href=\\&quot;https://www.openstreetmap.org/copyright\\&quot;\\u003eOpenStreetMap\\u003c/a\\u003e contributors \\u0026copy; \\u003ca href=\\&quot;https://carto.com/attributions\\&quot;\\u003eCARTO\\u003c/a\\u003e&quot;, &quot;detectRetina&quot;: false, &quot;maxNativeZoom&quot;: 20, &quot;maxZoom&quot;: 20, &quot;minZoom&quot;: 0, &quot;noWrap&quot;: false, &quot;opacity&quot;: 1, &quot;subdomains&quot;: &quot;abcd&quot;, &quot;tms&quot;: false}\n",
       "            );\n",
       "        \n",
       "    \n",
       "            tile_layer_e1c6cfe59799bad0f357776c4481d95e.addTo(map_934fecb08fc6a68fb564323c80d881db);\n",
       "        \n",
       "    \n",
       "\n",
       "        function geo_json_be55b64aec0eb31899c122a64dd5158e_onEachFeature(feature, layer) {\n",
       "            layer.on({\n",
       "            });\n",
       "        };\n",
       "        var geo_json_be55b64aec0eb31899c122a64dd5158e = L.geoJson(null, {\n",
       "                onEachFeature: geo_json_be55b64aec0eb31899c122a64dd5158e_onEachFeature,\n",
       "            \n",
       "        });\n",
       "\n",
       "        function geo_json_be55b64aec0eb31899c122a64dd5158e_add (data) {\n",
       "            geo_json_be55b64aec0eb31899c122a64dd5158e\n",
       "                .addData(data);\n",
       "        }\n",
       "            geo_json_be55b64aec0eb31899c122a64dd5158e_add({&quot;coordinates&quot;: [[13.922514437551428, 50.964720483303836], [13.925036413951403, 50.96623732041704]], &quot;type&quot;: &quot;LineString&quot;});\n",
       "\n",
       "        \n",
       "    \n",
       "            geo_json_be55b64aec0eb31899c122a64dd5158e.addTo(map_934fecb08fc6a68fb564323c80d881db);\n",
       "        \n",
       "    \n",
       "\n",
       "        function geo_json_668bbb91ddde287eb4f8bb251cafc425_onEachFeature(feature, layer) {\n",
       "            layer.on({\n",
       "            });\n",
       "        };\n",
       "        var geo_json_668bbb91ddde287eb4f8bb251cafc425 = L.geoJson(null, {\n",
       "                onEachFeature: geo_json_668bbb91ddde287eb4f8bb251cafc425_onEachFeature,\n",
       "            \n",
       "        });\n",
       "\n",
       "        function geo_json_668bbb91ddde287eb4f8bb251cafc425_add (data) {\n",
       "            geo_json_668bbb91ddde287eb4f8bb251cafc425\n",
       "                .addData(data);\n",
       "        }\n",
       "            geo_json_668bbb91ddde287eb4f8bb251cafc425_add({&quot;coordinates&quot;: [13.9226, 50.9661], &quot;type&quot;: &quot;Point&quot;});\n",
       "\n",
       "        \n",
       "    \n",
       "            geo_json_668bbb91ddde287eb4f8bb251cafc425.addTo(map_934fecb08fc6a68fb564323c80d881db);\n",
       "        \n",
       "    \n",
       "\n",
       "        function geo_json_6d8081e9ca3ab8059909e84bd775cbb2_onEachFeature(feature, layer) {\n",
       "            layer.on({\n",
       "            });\n",
       "        };\n",
       "        var geo_json_6d8081e9ca3ab8059909e84bd775cbb2 = L.geoJson(null, {\n",
       "                onEachFeature: geo_json_6d8081e9ca3ab8059909e84bd775cbb2_onEachFeature,\n",
       "            \n",
       "        });\n",
       "\n",
       "        function geo_json_6d8081e9ca3ab8059909e84bd775cbb2_add (data) {\n",
       "            geo_json_6d8081e9ca3ab8059909e84bd775cbb2\n",
       "                .addData(data);\n",
       "        }\n",
       "            geo_json_6d8081e9ca3ab8059909e84bd775cbb2_add({&quot;coordinates&quot;: [13.923186570327204, 50.96512473607135], &quot;type&quot;: &quot;Point&quot;});\n",
       "\n",
       "        \n",
       "    \n",
       "            geo_json_6d8081e9ca3ab8059909e84bd775cbb2.addTo(map_934fecb08fc6a68fb564323c80d881db);\n",
       "        \n",
       "    \n",
       "            map_934fecb08fc6a68fb564323c80d881db.fitBounds(\n",
       "                [[50.964720483303836, 13.922514437551428], [50.96623732041704, 13.925036413951403]],\n",
       "                {}\n",
       "            );\n",
       "        \n",
       "&lt;/script&gt;\n",
       "&lt;/html&gt;\" style=\"position:absolute;width:100%;height:100%;left:0;top:0;border:none !important;\" allowfullscreen webkitallowfullscreen mozallowfullscreen></iframe></div></div>"
      ],
      "text/plain": [
       "<folium.folium.Map at 0x122b40530>"
      ]
     },
     "execution_count": 6,
     "metadata": {},
     "output_type": "execute_result"
    }
   ],
   "source": [
    "m = folium.Map(tiles=\"cartodbpositron\", crs=\"EPSG3857\", zoom_start=12, location=[50.965, 13.922])\n",
    "m.add_child(folium.GeoJson(line.as_geojson()))\n",
    "m.add_child(folium.GeoJson(point.as_geojson()))\n",
    "m.add_child(folium.GeoJson(nearest_point.as_geojson()))\n",
    "m.fit_bounds(m.get_bounds())\n",
    "m"
   ]
  },
  {
   "cell_type": "markdown",
   "id": "31ef0a164a81f162",
   "metadata": {
    "papermill": {
     "duration": 0.001375,
     "end_time": "2024-08-19T20:27:33.942295",
     "exception": false,
     "start_time": "2024-08-19T20:27:33.940920",
     "status": "completed"
    },
    "tags": []
   },
   "source": [
    "## Calculate the nearest point on a line for an arbitrary point with Shapely project function"
   ]
  },
  {
   "cell_type": "code",
   "execution_count": 7,
   "id": "baf9e6f08177b1ac",
   "metadata": {
    "ExecuteTime": {
     "end_time": "2024-08-19T09:45:28.414228Z",
     "start_time": "2024-08-19T09:45:28.411154Z"
    },
    "execution": {
     "iopub.execute_input": "2024-08-19T20:27:33.945487Z",
     "iopub.status.busy": "2024-08-19T20:27:33.945384Z",
     "iopub.status.idle": "2024-08-19T20:27:33.947436Z",
     "shell.execute_reply": "2024-08-19T20:27:33.947219Z"
    },
    "papermill": {
     "duration": 0.004547,
     "end_time": "2024-08-19T20:27:33.948185",
     "exception": false,
     "start_time": "2024-08-19T20:27:33.943638",
     "status": "completed"
    },
    "tags": []
   },
   "outputs": [],
   "source": [
    "shapely_line = ShapelyLineString(line.coordinates)\n",
    "shapely_point = ShapelyPoint(point.coordinates)\n",
    "nearest_shapely_point_on_linestring = shapely_line.interpolate(shapely_line.project(shapely_point))\n",
    "\n",
    "nearest_point = Point.from_dict({\n",
    "  \"type\": \"Point\",\n",
    "  \"coordinates\": [nearest_shapely_point_on_linestring.x, nearest_shapely_point_on_linestring.y]\n",
    "})"
   ]
  },
  {
   "cell_type": "code",
   "execution_count": 8,
   "id": "fd5dc602e0a8ceb3",
   "metadata": {
    "ExecuteTime": {
     "end_time": "2024-08-19T09:45:28.427930Z",
     "start_time": "2024-08-19T09:45:28.415261Z"
    },
    "execution": {
     "iopub.execute_input": "2024-08-19T20:27:33.952175Z",
     "iopub.status.busy": "2024-08-19T20:27:33.952033Z",
     "iopub.status.idle": "2024-08-19T20:27:33.960545Z",
     "shell.execute_reply": "2024-08-19T20:27:33.960321Z"
    },
    "papermill": {
     "duration": 0.011639,
     "end_time": "2024-08-19T20:27:33.961292",
     "exception": false,
     "start_time": "2024-08-19T20:27:33.949653",
     "status": "completed"
    },
    "tags": []
   },
   "outputs": [
    {
     "data": {
      "text/html": [
       "<div style=\"width:100%;\"><div style=\"position:relative;width:100%;height:0;padding-bottom:60%;\"><span style=\"color:#565656\">Make this Notebook Trusted to load map: File -> Trust Notebook</span><iframe srcdoc=\"&lt;!DOCTYPE html&gt;\n",
       "&lt;html&gt;\n",
       "&lt;head&gt;\n",
       "    \n",
       "    &lt;meta http-equiv=&quot;content-type&quot; content=&quot;text/html; charset=UTF-8&quot; /&gt;\n",
       "    \n",
       "        &lt;script&gt;\n",
       "            L_NO_TOUCH = false;\n",
       "            L_DISABLE_3D = false;\n",
       "        &lt;/script&gt;\n",
       "    \n",
       "    &lt;style&gt;html, body {width: 100%;height: 100%;margin: 0;padding: 0;}&lt;/style&gt;\n",
       "    &lt;style&gt;#map {position:absolute;top:0;bottom:0;right:0;left:0;}&lt;/style&gt;\n",
       "    &lt;script src=&quot;https://cdn.jsdelivr.net/npm/leaflet@1.9.3/dist/leaflet.js&quot;&gt;&lt;/script&gt;\n",
       "    &lt;script src=&quot;https://code.jquery.com/jquery-3.7.1.min.js&quot;&gt;&lt;/script&gt;\n",
       "    &lt;script src=&quot;https://cdn.jsdelivr.net/npm/bootstrap@5.2.2/dist/js/bootstrap.bundle.min.js&quot;&gt;&lt;/script&gt;\n",
       "    &lt;script src=&quot;https://cdnjs.cloudflare.com/ajax/libs/Leaflet.awesome-markers/2.0.2/leaflet.awesome-markers.js&quot;&gt;&lt;/script&gt;\n",
       "    &lt;link rel=&quot;stylesheet&quot; href=&quot;https://cdn.jsdelivr.net/npm/leaflet@1.9.3/dist/leaflet.css&quot;/&gt;\n",
       "    &lt;link rel=&quot;stylesheet&quot; href=&quot;https://cdn.jsdelivr.net/npm/bootstrap@5.2.2/dist/css/bootstrap.min.css&quot;/&gt;\n",
       "    &lt;link rel=&quot;stylesheet&quot; href=&quot;https://netdna.bootstrapcdn.com/bootstrap/3.0.0/css/bootstrap.min.css&quot;/&gt;\n",
       "    &lt;link rel=&quot;stylesheet&quot; href=&quot;https://cdn.jsdelivr.net/npm/@fortawesome/fontawesome-free@6.2.0/css/all.min.css&quot;/&gt;\n",
       "    &lt;link rel=&quot;stylesheet&quot; href=&quot;https://cdnjs.cloudflare.com/ajax/libs/Leaflet.awesome-markers/2.0.2/leaflet.awesome-markers.css&quot;/&gt;\n",
       "    &lt;link rel=&quot;stylesheet&quot; href=&quot;https://cdn.jsdelivr.net/gh/python-visualization/folium/folium/templates/leaflet.awesome.rotate.min.css&quot;/&gt;\n",
       "    \n",
       "            &lt;meta name=&quot;viewport&quot; content=&quot;width=device-width,\n",
       "                initial-scale=1.0, maximum-scale=1.0, user-scalable=no&quot; /&gt;\n",
       "            &lt;style&gt;\n",
       "                #map_4362ec70e05d753b71c76da5f58ec4bc {\n",
       "                    position: relative;\n",
       "                    width: 100.0%;\n",
       "                    height: 100.0%;\n",
       "                    left: 0.0%;\n",
       "                    top: 0.0%;\n",
       "                }\n",
       "                .leaflet-container { font-size: 1rem; }\n",
       "            &lt;/style&gt;\n",
       "        \n",
       "&lt;/head&gt;\n",
       "&lt;body&gt;\n",
       "    \n",
       "    \n",
       "            &lt;div class=&quot;folium-map&quot; id=&quot;map_4362ec70e05d753b71c76da5f58ec4bc&quot; &gt;&lt;/div&gt;\n",
       "        \n",
       "&lt;/body&gt;\n",
       "&lt;script&gt;\n",
       "    \n",
       "    \n",
       "            var map_4362ec70e05d753b71c76da5f58ec4bc = L.map(\n",
       "                &quot;map_4362ec70e05d753b71c76da5f58ec4bc&quot;,\n",
       "                {\n",
       "                    center: [50.965, 13.922],\n",
       "                    crs: L.CRS.EPSG3857,\n",
       "                    zoom: 12,\n",
       "                    zoomControl: true,\n",
       "                    preferCanvas: false,\n",
       "                }\n",
       "            );\n",
       "\n",
       "            \n",
       "\n",
       "        \n",
       "    \n",
       "            var tile_layer_14d896d729718d5de1eec23edaff89b2 = L.tileLayer(\n",
       "                &quot;https://{s}.basemaps.cartocdn.com/light_all/{z}/{x}/{y}{r}.png&quot;,\n",
       "                {&quot;attribution&quot;: &quot;\\u0026copy; \\u003ca href=\\&quot;https://www.openstreetmap.org/copyright\\&quot;\\u003eOpenStreetMap\\u003c/a\\u003e contributors \\u0026copy; \\u003ca href=\\&quot;https://carto.com/attributions\\&quot;\\u003eCARTO\\u003c/a\\u003e&quot;, &quot;detectRetina&quot;: false, &quot;maxNativeZoom&quot;: 20, &quot;maxZoom&quot;: 20, &quot;minZoom&quot;: 0, &quot;noWrap&quot;: false, &quot;opacity&quot;: 1, &quot;subdomains&quot;: &quot;abcd&quot;, &quot;tms&quot;: false}\n",
       "            );\n",
       "        \n",
       "    \n",
       "            tile_layer_14d896d729718d5de1eec23edaff89b2.addTo(map_4362ec70e05d753b71c76da5f58ec4bc);\n",
       "        \n",
       "    \n",
       "\n",
       "        function geo_json_deeac3a61d045e809d697fb8f03a548e_onEachFeature(feature, layer) {\n",
       "            layer.on({\n",
       "            });\n",
       "        };\n",
       "        var geo_json_deeac3a61d045e809d697fb8f03a548e = L.geoJson(null, {\n",
       "                onEachFeature: geo_json_deeac3a61d045e809d697fb8f03a548e_onEachFeature,\n",
       "            \n",
       "        });\n",
       "\n",
       "        function geo_json_deeac3a61d045e809d697fb8f03a548e_add (data) {\n",
       "            geo_json_deeac3a61d045e809d697fb8f03a548e\n",
       "                .addData(data);\n",
       "        }\n",
       "            geo_json_deeac3a61d045e809d697fb8f03a548e_add({&quot;coordinates&quot;: [[13.922514437551428, 50.964720483303836], [13.925036413951403, 50.96623732041704]], &quot;type&quot;: &quot;LineString&quot;});\n",
       "\n",
       "        \n",
       "    \n",
       "            geo_json_deeac3a61d045e809d697fb8f03a548e.addTo(map_4362ec70e05d753b71c76da5f58ec4bc);\n",
       "        \n",
       "    \n",
       "\n",
       "        function geo_json_eefa4372f273803b29a0af4f08546415_onEachFeature(feature, layer) {\n",
       "            layer.on({\n",
       "            });\n",
       "        };\n",
       "        var geo_json_eefa4372f273803b29a0af4f08546415 = L.geoJson(null, {\n",
       "                onEachFeature: geo_json_eefa4372f273803b29a0af4f08546415_onEachFeature,\n",
       "            \n",
       "        });\n",
       "\n",
       "        function geo_json_eefa4372f273803b29a0af4f08546415_add (data) {\n",
       "            geo_json_eefa4372f273803b29a0af4f08546415\n",
       "                .addData(data);\n",
       "        }\n",
       "            geo_json_eefa4372f273803b29a0af4f08546415_add({&quot;coordinates&quot;: [13.9226, 50.9661], &quot;type&quot;: &quot;Point&quot;});\n",
       "\n",
       "        \n",
       "    \n",
       "            geo_json_eefa4372f273803b29a0af4f08546415.addTo(map_4362ec70e05d753b71c76da5f58ec4bc);\n",
       "        \n",
       "    \n",
       "\n",
       "        function geo_json_43da33770e936cb0e60c0d5d93d3a2cc_onEachFeature(feature, layer) {\n",
       "            layer.on({\n",
       "            });\n",
       "        };\n",
       "        var geo_json_43da33770e936cb0e60c0d5d93d3a2cc = L.geoJson(null, {\n",
       "                onEachFeature: geo_json_43da33770e936cb0e60c0d5d93d3a2cc_onEachFeature,\n",
       "            \n",
       "        });\n",
       "\n",
       "        function geo_json_43da33770e936cb0e60c0d5d93d3a2cc_add (data) {\n",
       "            geo_json_43da33770e936cb0e60c0d5d93d3a2cc\n",
       "                .addData(data);\n",
       "        }\n",
       "            geo_json_43da33770e936cb0e60c0d5d93d3a2cc_add({&quot;coordinates&quot;: [13.923186570327204, 50.96512473607135], &quot;type&quot;: &quot;Point&quot;});\n",
       "\n",
       "        \n",
       "    \n",
       "            geo_json_43da33770e936cb0e60c0d5d93d3a2cc.addTo(map_4362ec70e05d753b71c76da5f58ec4bc);\n",
       "        \n",
       "    \n",
       "            map_4362ec70e05d753b71c76da5f58ec4bc.fitBounds(\n",
       "                [[50.964720483303836, 13.922514437551428], [50.96623732041704, 13.925036413951403]],\n",
       "                {}\n",
       "            );\n",
       "        \n",
       "&lt;/script&gt;\n",
       "&lt;/html&gt;\" style=\"position:absolute;width:100%;height:100%;left:0;top:0;border:none !important;\" allowfullscreen webkitallowfullscreen mozallowfullscreen></iframe></div></div>"
      ],
      "text/plain": [
       "<folium.folium.Map at 0x122b41760>"
      ]
     },
     "execution_count": 8,
     "metadata": {},
     "output_type": "execute_result"
    }
   ],
   "source": [
    "m = folium.Map(tiles=\"cartodbpositron\", crs=\"EPSG3857\", zoom_start=12, location=[50.965, 13.922])\n",
    "m.add_child(folium.GeoJson(line.as_geojson()))\n",
    "m.add_child(folium.GeoJson(point.as_geojson()))\n",
    "m.add_child(folium.GeoJson(nearest_point.as_geojson()))\n",
    "m.fit_bounds(m.get_bounds())\n",
    "m"
   ]
  },
  {
   "cell_type": "code",
   "execution_count": null,
   "id": "2e1569d1b20ec1c9",
   "metadata": {
    "ExecuteTime": {
     "end_time": "2024-08-19T09:45:28.432804Z",
     "start_time": "2024-08-19T09:45:28.430916Z"
    },
    "papermill": {
     "duration": 0.001435,
     "end_time": "2024-08-19T20:27:33.964334",
     "exception": false,
     "start_time": "2024-08-19T20:27:33.962899",
     "status": "completed"
    },
    "tags": []
   },
   "outputs": [],
   "source": []
  }
 ],
 "metadata": {
  "kernelspec": {
   "display_name": "Python 3",
   "language": "python",
   "name": "python3"
  },
  "language_info": {
   "codemirror_mode": {
    "name": "ipython",
    "version": 3
   },
   "file_extension": ".py",
   "mimetype": "text/x-python",
   "name": "python",
   "nbconvert_exporter": "python",
   "pygments_lexer": "ipython3",
   "version": "3.12.2"
  },
  "papermill": {
   "default_parameters": {},
   "duration": 1.377553,
   "end_time": "2024-08-19T20:27:34.182047",
   "environment_variables": {},
   "exception": null,
   "input_path": "./notebooks/LineStringNearestPoint.ipynb",
   "output_path": "./notebooks/LineStringNearestPoint.ipynb",
   "parameters": {},
   "start_time": "2024-08-19T20:27:32.804494",
   "version": "2.6.0"
  }
 },
 "nbformat": 4,
 "nbformat_minor": 5
}