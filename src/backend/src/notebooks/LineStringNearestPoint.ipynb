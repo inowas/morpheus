{
 "cells": [
  {
   "cell_type": "code",
   "execution_count": 1,
   "id": "ba6761fae9d5e5cb",
   "metadata": {
    "ExecuteTime": {
     "end_time": "2024-06-07T08:19:50.698161Z",
     "start_time": "2024-06-07T08:19:50.693723Z"
    },
    "collapsed": false,
    "execution": {
     "iopub.execute_input": "2024-06-19T07:36:21.991145Z",
     "iopub.status.busy": "2024-06-19T07:36:21.990409Z",
     "iopub.status.idle": "2024-06-19T07:36:21.997839Z",
     "shell.execute_reply": "2024-06-19T07:36:21.997025Z"
    },
    "papermill": {
     "duration": 0.023021,
     "end_time": "2024-06-19T07:36:22.001002",
     "exception": false,
     "start_time": "2024-06-19T07:36:21.977981",
     "status": "completed"
    },
    "tags": []
   },
   "outputs": [],
   "source": [
    "import sys\n",
    "\n",
    "sys.path.insert(0, '..')"
   ]
  },
  {
   "cell_type": "markdown",
   "id": "5ede1ba5e0993dd1",
   "metadata": {
    "collapsed": false,
    "papermill": {
     "duration": 0.004404,
     "end_time": "2024-06-19T07:36:22.010545",
     "exception": false,
     "start_time": "2024-06-19T07:36:22.006141",
     "status": "completed"
    },
    "tags": []
   },
   "source": [
    "# Calculate the nearest point on a line for an arbitrary point"
   ]
  },
  {
   "cell_type": "markdown",
   "id": "90453a1d75202b2b",
   "metadata": {
    "papermill": {
     "duration": 0.003281,
     "end_time": "2024-06-19T07:36:22.017957",
     "exception": false,
     "start_time": "2024-06-19T07:36:22.014676",
     "status": "completed"
    },
    "tags": []
   },
   "source": [
    "## Final implementation test"
   ]
  },
  {
   "cell_type": "code",
   "execution_count": 2,
   "id": "2f69504ab35487aa",
   "metadata": {
    "ExecuteTime": {
     "end_time": "2024-06-07T08:19:50.821461Z",
     "start_time": "2024-06-07T08:19:50.700598Z"
    },
    "collapsed": false,
    "execution": {
     "iopub.execute_input": "2024-06-19T07:36:22.025448Z",
     "iopub.status.busy": "2024-06-19T07:36:22.025149Z",
     "iopub.status.idle": "2024-06-19T07:36:22.114663Z",
     "shell.execute_reply": "2024-06-19T07:36:22.113791Z"
    },
    "papermill": {
     "duration": 0.09579,
     "end_time": "2024-06-19T07:36:22.117136",
     "exception": false,
     "start_time": "2024-06-19T07:36:22.021346",
     "status": "completed"
    },
    "tags": []
   },
   "outputs": [],
   "source": [
    "from morpheus.project.types.geometry import Point, LineString\n",
    "\n",
    "line = LineString.from_dict({\n",
    "  \"type\": \"LineString\",\n",
    "  \"coordinates\": [(13.922514437551428, 50.964720483303836), (13.925036413951403, 50.96623732041704)]\n",
    "})\n",
    "\n",
    "point = Point.from_dict({\n",
    "  \"type\": \"Point\",\n",
    "  \"coordinates\": [13.9226, 50.9661]\n",
    "})\n",
    "\n",
    "nearest_point = line.nearest_point(point)"
   ]
  },
  {
   "cell_type": "code",
   "execution_count": 3,
   "id": "1540b870ae83f298",
   "metadata": {
    "ExecuteTime": {
     "end_time": "2024-06-07T08:19:51.246585Z",
     "start_time": "2024-06-07T08:19:50.827185Z"
    },
    "collapsed": false,
    "execution": {
     "iopub.execute_input": "2024-06-19T07:36:22.126123Z",
     "iopub.status.busy": "2024-06-19T07:36:22.125747Z",
     "iopub.status.idle": "2024-06-19T07:36:22.481395Z",
     "shell.execute_reply": "2024-06-19T07:36:22.481157Z"
    },
    "papermill": {
     "duration": 0.360871,
     "end_time": "2024-06-19T07:36:22.482237",
     "exception": false,
     "start_time": "2024-06-19T07:36:22.121366",
     "status": "completed"
    },
    "tags": []
   },
   "outputs": [
    {
     "data": {
      "text/html": [
       "<div style=\"width:100%;\"><div style=\"position:relative;width:100%;height:0;padding-bottom:60%;\"><span style=\"color:#565656\">Make this Notebook Trusted to load map: File -> Trust Notebook</span><iframe srcdoc=\"&lt;!DOCTYPE html&gt;\n",
       "&lt;html&gt;\n",
       "&lt;head&gt;\n",
       "    \n",
       "    &lt;meta http-equiv=&quot;content-type&quot; content=&quot;text/html; charset=UTF-8&quot; /&gt;\n",
       "    \n",
       "        &lt;script&gt;\n",
       "            L_NO_TOUCH = false;\n",
       "            L_DISABLE_3D = false;\n",
       "        &lt;/script&gt;\n",
       "    \n",
       "    &lt;style&gt;html, body {width: 100%;height: 100%;margin: 0;padding: 0;}&lt;/style&gt;\n",
       "    &lt;style&gt;#map {position:absolute;top:0;bottom:0;right:0;left:0;}&lt;/style&gt;\n",
       "    &lt;script src=&quot;https://cdn.jsdelivr.net/npm/leaflet@1.9.3/dist/leaflet.js&quot;&gt;&lt;/script&gt;\n",
       "    &lt;script src=&quot;https://code.jquery.com/jquery-3.7.1.min.js&quot;&gt;&lt;/script&gt;\n",
       "    &lt;script src=&quot;https://cdn.jsdelivr.net/npm/bootstrap@5.2.2/dist/js/bootstrap.bundle.min.js&quot;&gt;&lt;/script&gt;\n",
       "    &lt;script src=&quot;https://cdnjs.cloudflare.com/ajax/libs/Leaflet.awesome-markers/2.0.2/leaflet.awesome-markers.js&quot;&gt;&lt;/script&gt;\n",
       "    &lt;link rel=&quot;stylesheet&quot; href=&quot;https://cdn.jsdelivr.net/npm/leaflet@1.9.3/dist/leaflet.css&quot;/&gt;\n",
       "    &lt;link rel=&quot;stylesheet&quot; href=&quot;https://cdn.jsdelivr.net/npm/bootstrap@5.2.2/dist/css/bootstrap.min.css&quot;/&gt;\n",
       "    &lt;link rel=&quot;stylesheet&quot; href=&quot;https://netdna.bootstrapcdn.com/bootstrap/3.0.0/css/bootstrap.min.css&quot;/&gt;\n",
       "    &lt;link rel=&quot;stylesheet&quot; href=&quot;https://cdn.jsdelivr.net/npm/@fortawesome/fontawesome-free@6.2.0/css/all.min.css&quot;/&gt;\n",
       "    &lt;link rel=&quot;stylesheet&quot; href=&quot;https://cdnjs.cloudflare.com/ajax/libs/Leaflet.awesome-markers/2.0.2/leaflet.awesome-markers.css&quot;/&gt;\n",
       "    &lt;link rel=&quot;stylesheet&quot; href=&quot;https://cdn.jsdelivr.net/gh/python-visualization/folium/folium/templates/leaflet.awesome.rotate.min.css&quot;/&gt;\n",
       "    \n",
       "            &lt;meta name=&quot;viewport&quot; content=&quot;width=device-width,\n",
       "                initial-scale=1.0, maximum-scale=1.0, user-scalable=no&quot; /&gt;\n",
       "            &lt;style&gt;\n",
       "                #map_d9635fb91f1e6ca66f45f81a6e86fe1e {\n",
       "                    position: relative;\n",
       "                    width: 100.0%;\n",
       "                    height: 100.0%;\n",
       "                    left: 0.0%;\n",
       "                    top: 0.0%;\n",
       "                }\n",
       "                .leaflet-container { font-size: 1rem; }\n",
       "            &lt;/style&gt;\n",
       "        \n",
       "&lt;/head&gt;\n",
       "&lt;body&gt;\n",
       "    \n",
       "    \n",
       "            &lt;div class=&quot;folium-map&quot; id=&quot;map_d9635fb91f1e6ca66f45f81a6e86fe1e&quot; &gt;&lt;/div&gt;\n",
       "        \n",
       "&lt;/body&gt;\n",
       "&lt;script&gt;\n",
       "    \n",
       "    \n",
       "            var map_d9635fb91f1e6ca66f45f81a6e86fe1e = L.map(\n",
       "                &quot;map_d9635fb91f1e6ca66f45f81a6e86fe1e&quot;,\n",
       "                {\n",
       "                    center: [50.965, 13.922],\n",
       "                    crs: L.CRS.EPSG3857,\n",
       "                    zoom: 12,\n",
       "                    zoomControl: true,\n",
       "                    preferCanvas: false,\n",
       "                }\n",
       "            );\n",
       "\n",
       "            \n",
       "\n",
       "        \n",
       "    \n",
       "            var tile_layer_6cdb9db3abebc515faa72d734d013d64 = L.tileLayer(\n",
       "                &quot;https://{s}.basemaps.cartocdn.com/light_all/{z}/{x}/{y}{r}.png&quot;,\n",
       "                {&quot;attribution&quot;: &quot;\\u0026copy; \\u003ca href=\\&quot;https://www.openstreetmap.org/copyright\\&quot;\\u003eOpenStreetMap\\u003c/a\\u003e contributors \\u0026copy; \\u003ca href=\\&quot;https://carto.com/attributions\\&quot;\\u003eCARTO\\u003c/a\\u003e&quot;, &quot;detectRetina&quot;: false, &quot;maxNativeZoom&quot;: 20, &quot;maxZoom&quot;: 20, &quot;minZoom&quot;: 0, &quot;noWrap&quot;: false, &quot;opacity&quot;: 1, &quot;subdomains&quot;: &quot;abcd&quot;, &quot;tms&quot;: false}\n",
       "            );\n",
       "        \n",
       "    \n",
       "            tile_layer_6cdb9db3abebc515faa72d734d013d64.addTo(map_d9635fb91f1e6ca66f45f81a6e86fe1e);\n",
       "        \n",
       "    \n",
       "\n",
       "        function geo_json_fc4e5c5d3888c39a270ee9674fc9c47b_onEachFeature(feature, layer) {\n",
       "            layer.on({\n",
       "            });\n",
       "        };\n",
       "        var geo_json_fc4e5c5d3888c39a270ee9674fc9c47b = L.geoJson(null, {\n",
       "                onEachFeature: geo_json_fc4e5c5d3888c39a270ee9674fc9c47b_onEachFeature,\n",
       "            \n",
       "        });\n",
       "\n",
       "        function geo_json_fc4e5c5d3888c39a270ee9674fc9c47b_add (data) {\n",
       "            geo_json_fc4e5c5d3888c39a270ee9674fc9c47b\n",
       "                .addData(data);\n",
       "        }\n",
       "            geo_json_fc4e5c5d3888c39a270ee9674fc9c47b_add({&quot;coordinates&quot;: [[13.922514437551428, 50.964720483303836], [13.925036413951403, 50.96623732041704]], &quot;type&quot;: &quot;LineString&quot;});\n",
       "\n",
       "        \n",
       "    \n",
       "            geo_json_fc4e5c5d3888c39a270ee9674fc9c47b.addTo(map_d9635fb91f1e6ca66f45f81a6e86fe1e);\n",
       "        \n",
       "    \n",
       "\n",
       "        function geo_json_b7bd36ee62b8df8b64f8ffbce82c07cd_onEachFeature(feature, layer) {\n",
       "            layer.on({\n",
       "            });\n",
       "        };\n",
       "        var geo_json_b7bd36ee62b8df8b64f8ffbce82c07cd = L.geoJson(null, {\n",
       "                onEachFeature: geo_json_b7bd36ee62b8df8b64f8ffbce82c07cd_onEachFeature,\n",
       "            \n",
       "        });\n",
       "\n",
       "        function geo_json_b7bd36ee62b8df8b64f8ffbce82c07cd_add (data) {\n",
       "            geo_json_b7bd36ee62b8df8b64f8ffbce82c07cd\n",
       "                .addData(data);\n",
       "        }\n",
       "            geo_json_b7bd36ee62b8df8b64f8ffbce82c07cd_add({&quot;coordinates&quot;: [13.9226, 50.9661], &quot;type&quot;: &quot;Point&quot;});\n",
       "\n",
       "        \n",
       "    \n",
       "            geo_json_b7bd36ee62b8df8b64f8ffbce82c07cd.addTo(map_d9635fb91f1e6ca66f45f81a6e86fe1e);\n",
       "        \n",
       "    \n",
       "\n",
       "        function geo_json_e6a2e76157dcbb12d032279526ef1fe6_onEachFeature(feature, layer) {\n",
       "            layer.on({\n",
       "            });\n",
       "        };\n",
       "        var geo_json_e6a2e76157dcbb12d032279526ef1fe6 = L.geoJson(null, {\n",
       "                onEachFeature: geo_json_e6a2e76157dcbb12d032279526ef1fe6_onEachFeature,\n",
       "            \n",
       "        });\n",
       "\n",
       "        function geo_json_e6a2e76157dcbb12d032279526ef1fe6_add (data) {\n",
       "            geo_json_e6a2e76157dcbb12d032279526ef1fe6\n",
       "                .addData(data);\n",
       "        }\n",
       "            geo_json_e6a2e76157dcbb12d032279526ef1fe6_add({&quot;coordinates&quot;: [13.923186570327204, 50.96512473607135], &quot;type&quot;: &quot;Point&quot;});\n",
       "\n",
       "        \n",
       "    \n",
       "            geo_json_e6a2e76157dcbb12d032279526ef1fe6.addTo(map_d9635fb91f1e6ca66f45f81a6e86fe1e);\n",
       "        \n",
       "    \n",
       "            map_d9635fb91f1e6ca66f45f81a6e86fe1e.fitBounds(\n",
       "                [[50.964720483303836, 13.922514437551428], [50.96623732041704, 13.925036413951403]],\n",
       "                {}\n",
       "            );\n",
       "        \n",
       "&lt;/script&gt;\n",
       "&lt;/html&gt;\" style=\"position:absolute;width:100%;height:100%;left:0;top:0;border:none !important;\" allowfullscreen webkitallowfullscreen mozallowfullscreen></iframe></div></div>"
      ],
      "text/plain": [
       "<folium.folium.Map at 0x119b290a0>"
      ]
     },
     "execution_count": 3,
     "metadata": {},
     "output_type": "execute_result"
    }
   ],
   "source": [
    "import folium\n",
    "\n",
    "m = folium.Map(tiles=\"cartodbpositron\", crs=\"EPSG3857\", zoom_start=12, location=[50.965, 13.922])\n",
    "m.add_child(folium.GeoJson(line.as_geojson()))\n",
    "m.add_child(folium.GeoJson(point.as_geojson()))\n",
    "m.add_child(folium.GeoJson(nearest_point.as_geojson()))\n",
    "\n",
    "m.fit_bounds(m.get_bounds())\n",
    "m"
   ]
  },
  {
   "cell_type": "markdown",
   "id": "8d308845e05fbdbc",
   "metadata": {
    "papermill": {
     "duration": 0.001236,
     "end_time": "2024-06-19T07:36:22.484912",
     "exception": false,
     "start_time": "2024-06-19T07:36:22.483676",
     "status": "completed"
    },
    "tags": []
   },
   "source": [
    "## Calculate the nearest point on a line for an arbitrary point with Shapely nearest_points function"
   ]
  },
  {
   "cell_type": "code",
   "execution_count": 4,
   "id": "244bf8b386deca17",
   "metadata": {
    "ExecuteTime": {
     "end_time": "2024-06-07T08:19:51.250310Z",
     "start_time": "2024-06-07T08:19:51.247256Z"
    },
    "execution": {
     "iopub.execute_input": "2024-06-19T07:36:22.488006Z",
     "iopub.status.busy": "2024-06-19T07:36:22.487857Z",
     "iopub.status.idle": "2024-06-19T07:36:22.491373Z",
     "shell.execute_reply": "2024-06-19T07:36:22.491140Z"
    },
    "papermill": {
     "duration": 0.005934,
     "end_time": "2024-06-19T07:36:22.492145",
     "exception": false,
     "start_time": "2024-06-19T07:36:22.486211",
     "status": "completed"
    },
    "tags": []
   },
   "outputs": [
    {
     "data": {
      "text/plain": [
       "(<POINT (13.923 50.965)>, <POINT (13.923 50.966)>)"
      ]
     },
     "execution_count": 4,
     "metadata": {},
     "output_type": "execute_result"
    }
   ],
   "source": [
    "from shapely.geometry import LineString as ShapelyLineString, Point as ShapelyPoint\n",
    "from shapely.ops import nearest_points\n",
    "from morpheus.project.types.geometry import Point\n",
    "\n",
    "shapely_line = ShapelyLineString(line.coordinates)\n",
    "shapely_point = ShapelyPoint(point.coordinates)\n",
    "nearest_points = nearest_points(shapely_line, shapely_point)\n",
    "nearest_points"
   ]
  },
  {
   "cell_type": "code",
   "execution_count": 5,
   "id": "7d28fcc1cfd90668",
   "metadata": {
    "ExecuteTime": {
     "end_time": "2024-06-07T08:19:51.253939Z",
     "start_time": "2024-06-07T08:19:51.251675Z"
    },
    "execution": {
     "iopub.execute_input": "2024-06-19T07:36:22.495269Z",
     "iopub.status.busy": "2024-06-19T07:36:22.495166Z",
     "iopub.status.idle": "2024-06-19T07:36:22.496859Z",
     "shell.execute_reply": "2024-06-19T07:36:22.496648Z"
    },
    "papermill": {
     "duration": 0.004119,
     "end_time": "2024-06-19T07:36:22.497602",
     "exception": false,
     "start_time": "2024-06-19T07:36:22.493483",
     "status": "completed"
    },
    "tags": []
   },
   "outputs": [],
   "source": [
    "from morpheus.project.types.geometry import Point\n",
    "nearest_shapely_point_on_linestring = nearest_points[0] \n",
    "nearest_point = Point.from_dict({\n",
    "  \"type\": \"Point\",\n",
    "  \"coordinates\": [nearest_shapely_point_on_linestring.x, nearest_shapely_point_on_linestring.y]\n",
    "})"
   ]
  },
  {
   "cell_type": "code",
   "execution_count": 6,
   "id": "45b04c9a6449437b",
   "metadata": {
    "ExecuteTime": {
     "end_time": "2024-06-07T08:19:51.265313Z",
     "start_time": "2024-06-07T08:19:51.254759Z"
    },
    "execution": {
     "iopub.execute_input": "2024-06-19T07:36:22.500593Z",
     "iopub.status.busy": "2024-06-19T07:36:22.500494Z",
     "iopub.status.idle": "2024-06-19T07:36:22.508726Z",
     "shell.execute_reply": "2024-06-19T07:36:22.508508Z"
    },
    "papermill": {
     "duration": 0.01058,
     "end_time": "2024-06-19T07:36:22.509479",
     "exception": false,
     "start_time": "2024-06-19T07:36:22.498899",
     "status": "completed"
    },
    "tags": []
   },
   "outputs": [
    {
     "data": {
      "text/html": [
       "<div style=\"width:100%;\"><div style=\"position:relative;width:100%;height:0;padding-bottom:60%;\"><span style=\"color:#565656\">Make this Notebook Trusted to load map: File -> Trust Notebook</span><iframe srcdoc=\"&lt;!DOCTYPE html&gt;\n",
       "&lt;html&gt;\n",
       "&lt;head&gt;\n",
       "    \n",
       "    &lt;meta http-equiv=&quot;content-type&quot; content=&quot;text/html; charset=UTF-8&quot; /&gt;\n",
       "    \n",
       "        &lt;script&gt;\n",
       "            L_NO_TOUCH = false;\n",
       "            L_DISABLE_3D = false;\n",
       "        &lt;/script&gt;\n",
       "    \n",
       "    &lt;style&gt;html, body {width: 100%;height: 100%;margin: 0;padding: 0;}&lt;/style&gt;\n",
       "    &lt;style&gt;#map {position:absolute;top:0;bottom:0;right:0;left:0;}&lt;/style&gt;\n",
       "    &lt;script src=&quot;https://cdn.jsdelivr.net/npm/leaflet@1.9.3/dist/leaflet.js&quot;&gt;&lt;/script&gt;\n",
       "    &lt;script src=&quot;https://code.jquery.com/jquery-3.7.1.min.js&quot;&gt;&lt;/script&gt;\n",
       "    &lt;script src=&quot;https://cdn.jsdelivr.net/npm/bootstrap@5.2.2/dist/js/bootstrap.bundle.min.js&quot;&gt;&lt;/script&gt;\n",
       "    &lt;script src=&quot;https://cdnjs.cloudflare.com/ajax/libs/Leaflet.awesome-markers/2.0.2/leaflet.awesome-markers.js&quot;&gt;&lt;/script&gt;\n",
       "    &lt;link rel=&quot;stylesheet&quot; href=&quot;https://cdn.jsdelivr.net/npm/leaflet@1.9.3/dist/leaflet.css&quot;/&gt;\n",
       "    &lt;link rel=&quot;stylesheet&quot; href=&quot;https://cdn.jsdelivr.net/npm/bootstrap@5.2.2/dist/css/bootstrap.min.css&quot;/&gt;\n",
       "    &lt;link rel=&quot;stylesheet&quot; href=&quot;https://netdna.bootstrapcdn.com/bootstrap/3.0.0/css/bootstrap.min.css&quot;/&gt;\n",
       "    &lt;link rel=&quot;stylesheet&quot; href=&quot;https://cdn.jsdelivr.net/npm/@fortawesome/fontawesome-free@6.2.0/css/all.min.css&quot;/&gt;\n",
       "    &lt;link rel=&quot;stylesheet&quot; href=&quot;https://cdnjs.cloudflare.com/ajax/libs/Leaflet.awesome-markers/2.0.2/leaflet.awesome-markers.css&quot;/&gt;\n",
       "    &lt;link rel=&quot;stylesheet&quot; href=&quot;https://cdn.jsdelivr.net/gh/python-visualization/folium/folium/templates/leaflet.awesome.rotate.min.css&quot;/&gt;\n",
       "    \n",
       "            &lt;meta name=&quot;viewport&quot; content=&quot;width=device-width,\n",
       "                initial-scale=1.0, maximum-scale=1.0, user-scalable=no&quot; /&gt;\n",
       "            &lt;style&gt;\n",
       "                #map_153d802e8789c2722c906bd629f91976 {\n",
       "                    position: relative;\n",
       "                    width: 100.0%;\n",
       "                    height: 100.0%;\n",
       "                    left: 0.0%;\n",
       "                    top: 0.0%;\n",
       "                }\n",
       "                .leaflet-container { font-size: 1rem; }\n",
       "            &lt;/style&gt;\n",
       "        \n",
       "&lt;/head&gt;\n",
       "&lt;body&gt;\n",
       "    \n",
       "    \n",
       "            &lt;div class=&quot;folium-map&quot; id=&quot;map_153d802e8789c2722c906bd629f91976&quot; &gt;&lt;/div&gt;\n",
       "        \n",
       "&lt;/body&gt;\n",
       "&lt;script&gt;\n",
       "    \n",
       "    \n",
       "            var map_153d802e8789c2722c906bd629f91976 = L.map(\n",
       "                &quot;map_153d802e8789c2722c906bd629f91976&quot;,\n",
       "                {\n",
       "                    center: [50.965, 13.922],\n",
       "                    crs: L.CRS.EPSG3857,\n",
       "                    zoom: 12,\n",
       "                    zoomControl: true,\n",
       "                    preferCanvas: false,\n",
       "                }\n",
       "            );\n",
       "\n",
       "            \n",
       "\n",
       "        \n",
       "    \n",
       "            var tile_layer_87e0bdad5c03c6cf1cb5b9aa1bb53ff4 = L.tileLayer(\n",
       "                &quot;https://{s}.basemaps.cartocdn.com/light_all/{z}/{x}/{y}{r}.png&quot;,\n",
       "                {&quot;attribution&quot;: &quot;\\u0026copy; \\u003ca href=\\&quot;https://www.openstreetmap.org/copyright\\&quot;\\u003eOpenStreetMap\\u003c/a\\u003e contributors \\u0026copy; \\u003ca href=\\&quot;https://carto.com/attributions\\&quot;\\u003eCARTO\\u003c/a\\u003e&quot;, &quot;detectRetina&quot;: false, &quot;maxNativeZoom&quot;: 20, &quot;maxZoom&quot;: 20, &quot;minZoom&quot;: 0, &quot;noWrap&quot;: false, &quot;opacity&quot;: 1, &quot;subdomains&quot;: &quot;abcd&quot;, &quot;tms&quot;: false}\n",
       "            );\n",
       "        \n",
       "    \n",
       "            tile_layer_87e0bdad5c03c6cf1cb5b9aa1bb53ff4.addTo(map_153d802e8789c2722c906bd629f91976);\n",
       "        \n",
       "    \n",
       "\n",
       "        function geo_json_6661d0de68b20f474fbfcafa1036604d_onEachFeature(feature, layer) {\n",
       "            layer.on({\n",
       "            });\n",
       "        };\n",
       "        var geo_json_6661d0de68b20f474fbfcafa1036604d = L.geoJson(null, {\n",
       "                onEachFeature: geo_json_6661d0de68b20f474fbfcafa1036604d_onEachFeature,\n",
       "            \n",
       "        });\n",
       "\n",
       "        function geo_json_6661d0de68b20f474fbfcafa1036604d_add (data) {\n",
       "            geo_json_6661d0de68b20f474fbfcafa1036604d\n",
       "                .addData(data);\n",
       "        }\n",
       "            geo_json_6661d0de68b20f474fbfcafa1036604d_add({&quot;coordinates&quot;: [[13.922514437551428, 50.964720483303836], [13.925036413951403, 50.96623732041704]], &quot;type&quot;: &quot;LineString&quot;});\n",
       "\n",
       "        \n",
       "    \n",
       "            geo_json_6661d0de68b20f474fbfcafa1036604d.addTo(map_153d802e8789c2722c906bd629f91976);\n",
       "        \n",
       "    \n",
       "\n",
       "        function geo_json_8571d193de9cc03bdea64a60cf6a1ae1_onEachFeature(feature, layer) {\n",
       "            layer.on({\n",
       "            });\n",
       "        };\n",
       "        var geo_json_8571d193de9cc03bdea64a60cf6a1ae1 = L.geoJson(null, {\n",
       "                onEachFeature: geo_json_8571d193de9cc03bdea64a60cf6a1ae1_onEachFeature,\n",
       "            \n",
       "        });\n",
       "\n",
       "        function geo_json_8571d193de9cc03bdea64a60cf6a1ae1_add (data) {\n",
       "            geo_json_8571d193de9cc03bdea64a60cf6a1ae1\n",
       "                .addData(data);\n",
       "        }\n",
       "            geo_json_8571d193de9cc03bdea64a60cf6a1ae1_add({&quot;coordinates&quot;: [13.9226, 50.9661], &quot;type&quot;: &quot;Point&quot;});\n",
       "\n",
       "        \n",
       "    \n",
       "            geo_json_8571d193de9cc03bdea64a60cf6a1ae1.addTo(map_153d802e8789c2722c906bd629f91976);\n",
       "        \n",
       "    \n",
       "\n",
       "        function geo_json_f1f1ca6935c8a78fa92ecd1d4993ce69_onEachFeature(feature, layer) {\n",
       "            layer.on({\n",
       "            });\n",
       "        };\n",
       "        var geo_json_f1f1ca6935c8a78fa92ecd1d4993ce69 = L.geoJson(null, {\n",
       "                onEachFeature: geo_json_f1f1ca6935c8a78fa92ecd1d4993ce69_onEachFeature,\n",
       "            \n",
       "        });\n",
       "\n",
       "        function geo_json_f1f1ca6935c8a78fa92ecd1d4993ce69_add (data) {\n",
       "            geo_json_f1f1ca6935c8a78fa92ecd1d4993ce69\n",
       "                .addData(data);\n",
       "        }\n",
       "            geo_json_f1f1ca6935c8a78fa92ecd1d4993ce69_add({&quot;coordinates&quot;: [13.923186570327204, 50.96512473607135], &quot;type&quot;: &quot;Point&quot;});\n",
       "\n",
       "        \n",
       "    \n",
       "            geo_json_f1f1ca6935c8a78fa92ecd1d4993ce69.addTo(map_153d802e8789c2722c906bd629f91976);\n",
       "        \n",
       "    \n",
       "            map_153d802e8789c2722c906bd629f91976.fitBounds(\n",
       "                [[50.964720483303836, 13.922514437551428], [50.96623732041704, 13.925036413951403]],\n",
       "                {}\n",
       "            );\n",
       "        \n",
       "&lt;/script&gt;\n",
       "&lt;/html&gt;\" style=\"position:absolute;width:100%;height:100%;left:0;top:0;border:none !important;\" allowfullscreen webkitallowfullscreen mozallowfullscreen></iframe></div></div>"
      ],
      "text/plain": [
       "<folium.folium.Map at 0x11d51cf50>"
      ]
     },
     "execution_count": 6,
     "metadata": {},
     "output_type": "execute_result"
    }
   ],
   "source": [
    "m = folium.Map(tiles=\"cartodbpositron\", crs=\"EPSG3857\", zoom_start=12, location=[50.965, 13.922])\n",
    "m.add_child(folium.GeoJson(line.as_geojson()))\n",
    "m.add_child(folium.GeoJson(point.as_geojson()))\n",
    "m.add_child(folium.GeoJson(nearest_point.as_geojson()))\n",
    "m.fit_bounds(m.get_bounds())\n",
    "m"
   ]
  },
  {
   "cell_type": "markdown",
   "id": "31ef0a164a81f162",
   "metadata": {
    "papermill": {
     "duration": 0.001332,
     "end_time": "2024-06-19T07:36:22.512221",
     "exception": false,
     "start_time": "2024-06-19T07:36:22.510889",
     "status": "completed"
    },
    "tags": []
   },
   "source": [
    "## Calculate the nearest point on a line for an arbitrary point with Shapely project function"
   ]
  },
  {
   "cell_type": "code",
   "execution_count": 7,
   "id": "baf9e6f08177b1ac",
   "metadata": {
    "ExecuteTime": {
     "end_time": "2024-06-07T08:19:51.268578Z",
     "start_time": "2024-06-07T08:19:51.266151Z"
    },
    "execution": {
     "iopub.execute_input": "2024-06-19T07:36:22.515333Z",
     "iopub.status.busy": "2024-06-19T07:36:22.515236Z",
     "iopub.status.idle": "2024-06-19T07:36:22.517261Z",
     "shell.execute_reply": "2024-06-19T07:36:22.517049Z"
    },
    "papermill": {
     "duration": 0.004481,
     "end_time": "2024-06-19T07:36:22.518019",
     "exception": false,
     "start_time": "2024-06-19T07:36:22.513538",
     "status": "completed"
    },
    "tags": []
   },
   "outputs": [],
   "source": [
    "shapely_line = ShapelyLineString(line.coordinates)\n",
    "shapely_point = ShapelyPoint(point.coordinates)\n",
    "nearest_shapely_point_on_linestring = shapely_line.interpolate(shapely_line.project(shapely_point))\n",
    "\n",
    "nearest_point = Point.from_dict({\n",
    "  \"type\": \"Point\",\n",
    "  \"coordinates\": [nearest_shapely_point_on_linestring.x, nearest_shapely_point_on_linestring.y]\n",
    "})"
   ]
  },
  {
   "cell_type": "code",
   "execution_count": 8,
   "id": "fd5dc602e0a8ceb3",
   "metadata": {
    "ExecuteTime": {
     "end_time": "2024-06-07T08:19:51.279301Z",
     "start_time": "2024-06-07T08:19:51.269303Z"
    },
    "execution": {
     "iopub.execute_input": "2024-06-19T07:36:22.521288Z",
     "iopub.status.busy": "2024-06-19T07:36:22.521192Z",
     "iopub.status.idle": "2024-06-19T07:36:22.529548Z",
     "shell.execute_reply": "2024-06-19T07:36:22.529319Z"
    },
    "papermill": {
     "duration": 0.010901,
     "end_time": "2024-06-19T07:36:22.530334",
     "exception": false,
     "start_time": "2024-06-19T07:36:22.519433",
     "status": "completed"
    },
    "tags": []
   },
   "outputs": [
    {
     "data": {
      "text/html": [
       "<div style=\"width:100%;\"><div style=\"position:relative;width:100%;height:0;padding-bottom:60%;\"><span style=\"color:#565656\">Make this Notebook Trusted to load map: File -> Trust Notebook</span><iframe srcdoc=\"&lt;!DOCTYPE html&gt;\n",
       "&lt;html&gt;\n",
       "&lt;head&gt;\n",
       "    \n",
       "    &lt;meta http-equiv=&quot;content-type&quot; content=&quot;text/html; charset=UTF-8&quot; /&gt;\n",
       "    \n",
       "        &lt;script&gt;\n",
       "            L_NO_TOUCH = false;\n",
       "            L_DISABLE_3D = false;\n",
       "        &lt;/script&gt;\n",
       "    \n",
       "    &lt;style&gt;html, body {width: 100%;height: 100%;margin: 0;padding: 0;}&lt;/style&gt;\n",
       "    &lt;style&gt;#map {position:absolute;top:0;bottom:0;right:0;left:0;}&lt;/style&gt;\n",
       "    &lt;script src=&quot;https://cdn.jsdelivr.net/npm/leaflet@1.9.3/dist/leaflet.js&quot;&gt;&lt;/script&gt;\n",
       "    &lt;script src=&quot;https://code.jquery.com/jquery-3.7.1.min.js&quot;&gt;&lt;/script&gt;\n",
       "    &lt;script src=&quot;https://cdn.jsdelivr.net/npm/bootstrap@5.2.2/dist/js/bootstrap.bundle.min.js&quot;&gt;&lt;/script&gt;\n",
       "    &lt;script src=&quot;https://cdnjs.cloudflare.com/ajax/libs/Leaflet.awesome-markers/2.0.2/leaflet.awesome-markers.js&quot;&gt;&lt;/script&gt;\n",
       "    &lt;link rel=&quot;stylesheet&quot; href=&quot;https://cdn.jsdelivr.net/npm/leaflet@1.9.3/dist/leaflet.css&quot;/&gt;\n",
       "    &lt;link rel=&quot;stylesheet&quot; href=&quot;https://cdn.jsdelivr.net/npm/bootstrap@5.2.2/dist/css/bootstrap.min.css&quot;/&gt;\n",
       "    &lt;link rel=&quot;stylesheet&quot; href=&quot;https://netdna.bootstrapcdn.com/bootstrap/3.0.0/css/bootstrap.min.css&quot;/&gt;\n",
       "    &lt;link rel=&quot;stylesheet&quot; href=&quot;https://cdn.jsdelivr.net/npm/@fortawesome/fontawesome-free@6.2.0/css/all.min.css&quot;/&gt;\n",
       "    &lt;link rel=&quot;stylesheet&quot; href=&quot;https://cdnjs.cloudflare.com/ajax/libs/Leaflet.awesome-markers/2.0.2/leaflet.awesome-markers.css&quot;/&gt;\n",
       "    &lt;link rel=&quot;stylesheet&quot; href=&quot;https://cdn.jsdelivr.net/gh/python-visualization/folium/folium/templates/leaflet.awesome.rotate.min.css&quot;/&gt;\n",
       "    \n",
       "            &lt;meta name=&quot;viewport&quot; content=&quot;width=device-width,\n",
       "                initial-scale=1.0, maximum-scale=1.0, user-scalable=no&quot; /&gt;\n",
       "            &lt;style&gt;\n",
       "                #map_bee5aaaacbf04902e1af069d9a24179e {\n",
       "                    position: relative;\n",
       "                    width: 100.0%;\n",
       "                    height: 100.0%;\n",
       "                    left: 0.0%;\n",
       "                    top: 0.0%;\n",
       "                }\n",
       "                .leaflet-container { font-size: 1rem; }\n",
       "            &lt;/style&gt;\n",
       "        \n",
       "&lt;/head&gt;\n",
       "&lt;body&gt;\n",
       "    \n",
       "    \n",
       "            &lt;div class=&quot;folium-map&quot; id=&quot;map_bee5aaaacbf04902e1af069d9a24179e&quot; &gt;&lt;/div&gt;\n",
       "        \n",
       "&lt;/body&gt;\n",
       "&lt;script&gt;\n",
       "    \n",
       "    \n",
       "            var map_bee5aaaacbf04902e1af069d9a24179e = L.map(\n",
       "                &quot;map_bee5aaaacbf04902e1af069d9a24179e&quot;,\n",
       "                {\n",
       "                    center: [50.965, 13.922],\n",
       "                    crs: L.CRS.EPSG3857,\n",
       "                    zoom: 12,\n",
       "                    zoomControl: true,\n",
       "                    preferCanvas: false,\n",
       "                }\n",
       "            );\n",
       "\n",
       "            \n",
       "\n",
       "        \n",
       "    \n",
       "            var tile_layer_e1b8cac76c69419e623b701e4ffba777 = L.tileLayer(\n",
       "                &quot;https://{s}.basemaps.cartocdn.com/light_all/{z}/{x}/{y}{r}.png&quot;,\n",
       "                {&quot;attribution&quot;: &quot;\\u0026copy; \\u003ca href=\\&quot;https://www.openstreetmap.org/copyright\\&quot;\\u003eOpenStreetMap\\u003c/a\\u003e contributors \\u0026copy; \\u003ca href=\\&quot;https://carto.com/attributions\\&quot;\\u003eCARTO\\u003c/a\\u003e&quot;, &quot;detectRetina&quot;: false, &quot;maxNativeZoom&quot;: 20, &quot;maxZoom&quot;: 20, &quot;minZoom&quot;: 0, &quot;noWrap&quot;: false, &quot;opacity&quot;: 1, &quot;subdomains&quot;: &quot;abcd&quot;, &quot;tms&quot;: false}\n",
       "            );\n",
       "        \n",
       "    \n",
       "            tile_layer_e1b8cac76c69419e623b701e4ffba777.addTo(map_bee5aaaacbf04902e1af069d9a24179e);\n",
       "        \n",
       "    \n",
       "\n",
       "        function geo_json_1d6d4c239d3bd2ad1619564fad938325_onEachFeature(feature, layer) {\n",
       "            layer.on({\n",
       "            });\n",
       "        };\n",
       "        var geo_json_1d6d4c239d3bd2ad1619564fad938325 = L.geoJson(null, {\n",
       "                onEachFeature: geo_json_1d6d4c239d3bd2ad1619564fad938325_onEachFeature,\n",
       "            \n",
       "        });\n",
       "\n",
       "        function geo_json_1d6d4c239d3bd2ad1619564fad938325_add (data) {\n",
       "            geo_json_1d6d4c239d3bd2ad1619564fad938325\n",
       "                .addData(data);\n",
       "        }\n",
       "            geo_json_1d6d4c239d3bd2ad1619564fad938325_add({&quot;coordinates&quot;: [[13.922514437551428, 50.964720483303836], [13.925036413951403, 50.96623732041704]], &quot;type&quot;: &quot;LineString&quot;});\n",
       "\n",
       "        \n",
       "    \n",
       "            geo_json_1d6d4c239d3bd2ad1619564fad938325.addTo(map_bee5aaaacbf04902e1af069d9a24179e);\n",
       "        \n",
       "    \n",
       "\n",
       "        function geo_json_7238a7da70e8ee2c4fad8ab8d8f4054d_onEachFeature(feature, layer) {\n",
       "            layer.on({\n",
       "            });\n",
       "        };\n",
       "        var geo_json_7238a7da70e8ee2c4fad8ab8d8f4054d = L.geoJson(null, {\n",
       "                onEachFeature: geo_json_7238a7da70e8ee2c4fad8ab8d8f4054d_onEachFeature,\n",
       "            \n",
       "        });\n",
       "\n",
       "        function geo_json_7238a7da70e8ee2c4fad8ab8d8f4054d_add (data) {\n",
       "            geo_json_7238a7da70e8ee2c4fad8ab8d8f4054d\n",
       "                .addData(data);\n",
       "        }\n",
       "            geo_json_7238a7da70e8ee2c4fad8ab8d8f4054d_add({&quot;coordinates&quot;: [13.9226, 50.9661], &quot;type&quot;: &quot;Point&quot;});\n",
       "\n",
       "        \n",
       "    \n",
       "            geo_json_7238a7da70e8ee2c4fad8ab8d8f4054d.addTo(map_bee5aaaacbf04902e1af069d9a24179e);\n",
       "        \n",
       "    \n",
       "\n",
       "        function geo_json_4f4889f9234891a8a11afdfbc1e354d3_onEachFeature(feature, layer) {\n",
       "            layer.on({\n",
       "            });\n",
       "        };\n",
       "        var geo_json_4f4889f9234891a8a11afdfbc1e354d3 = L.geoJson(null, {\n",
       "                onEachFeature: geo_json_4f4889f9234891a8a11afdfbc1e354d3_onEachFeature,\n",
       "            \n",
       "        });\n",
       "\n",
       "        function geo_json_4f4889f9234891a8a11afdfbc1e354d3_add (data) {\n",
       "            geo_json_4f4889f9234891a8a11afdfbc1e354d3\n",
       "                .addData(data);\n",
       "        }\n",
       "            geo_json_4f4889f9234891a8a11afdfbc1e354d3_add({&quot;coordinates&quot;: [13.923186570327204, 50.96512473607135], &quot;type&quot;: &quot;Point&quot;});\n",
       "\n",
       "        \n",
       "    \n",
       "            geo_json_4f4889f9234891a8a11afdfbc1e354d3.addTo(map_bee5aaaacbf04902e1af069d9a24179e);\n",
       "        \n",
       "    \n",
       "            map_bee5aaaacbf04902e1af069d9a24179e.fitBounds(\n",
       "                [[50.964720483303836, 13.922514437551428], [50.96623732041704, 13.925036413951403]],\n",
       "                {}\n",
       "            );\n",
       "        \n",
       "&lt;/script&gt;\n",
       "&lt;/html&gt;\" style=\"position:absolute;width:100%;height:100%;left:0;top:0;border:none !important;\" allowfullscreen webkitallowfullscreen mozallowfullscreen></iframe></div></div>"
      ],
      "text/plain": [
       "<folium.folium.Map at 0x11d51d2b0>"
      ]
     },
     "execution_count": 8,
     "metadata": {},
     "output_type": "execute_result"
    }
   ],
   "source": [
    "m = folium.Map(tiles=\"cartodbpositron\", crs=\"EPSG3857\", zoom_start=12, location=[50.965, 13.922])\n",
    "m.add_child(folium.GeoJson(line.as_geojson()))\n",
    "m.add_child(folium.GeoJson(point.as_geojson()))\n",
    "m.add_child(folium.GeoJson(nearest_point.as_geojson()))\n",
    "m.fit_bounds(m.get_bounds())\n",
    "m"
   ]
  },
  {
   "cell_type": "code",
   "execution_count": null,
   "id": "2e1569d1b20ec1c9",
   "metadata": {
    "ExecuteTime": {
     "end_time": "2024-06-07T08:19:51.283186Z",
     "start_time": "2024-06-07T08:19:51.280681Z"
    },
    "papermill": {
     "duration": 0.001434,
     "end_time": "2024-06-19T07:36:22.533311",
     "exception": false,
     "start_time": "2024-06-19T07:36:22.531877",
     "status": "completed"
    },
    "tags": []
   },
   "outputs": [],
   "source": []
  }
 ],
 "metadata": {
  "kernelspec": {
   "display_name": "Python 3",
   "language": "python",
   "name": "python3"
  },
  "language_info": {
   "codemirror_mode": {
    "name": "ipython",
    "version": 3
   },
   "file_extension": ".py",
   "mimetype": "text/x-python",
   "name": "python",
   "nbconvert_exporter": "python",
   "pygments_lexer": "ipython3",
   "version": "3.12.2"
  },
  "papermill": {
   "default_parameters": {},
   "duration": 1.300572,
   "end_time": "2024-06-19T07:36:22.750701",
   "environment_variables": {},
   "exception": null,
   "input_path": "./notebooks/LineStringNearestPoint.ipynb",
   "output_path": "./notebooks/LineStringNearestPoint.ipynb",
   "parameters": {},
   "start_time": "2024-06-19T07:36:21.450129",
   "version": "2.6.0"
  }
 },
 "nbformat": 4,
 "nbformat_minor": 5
}