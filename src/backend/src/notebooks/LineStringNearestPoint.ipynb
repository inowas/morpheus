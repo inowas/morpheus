{
 "cells": [
  {
   "cell_type": "code",
   "execution_count": 1,
   "id": "ba6761fae9d5e5cb",
   "metadata": {
    "ExecuteTime": {
     "end_time": "2024-08-19T09:45:27.548124Z",
     "start_time": "2024-08-19T09:45:27.541309Z"
    },
    "collapsed": false,
    "execution": {
     "iopub.execute_input": "2024-08-21T20:30:47.814539Z",
     "iopub.status.busy": "2024-08-21T20:30:47.813545Z",
     "iopub.status.idle": "2024-08-21T20:30:47.824069Z",
     "shell.execute_reply": "2024-08-21T20:30:47.823159Z"
    },
    "papermill": {
     "duration": 0.025954,
     "end_time": "2024-08-21T20:30:47.827058",
     "exception": false,
     "start_time": "2024-08-21T20:30:47.801104",
     "status": "completed"
    },
    "tags": []
   },
   "outputs": [],
   "source": [
    "import sys\n",
    "\n",
    "sys.path.insert(0, '..')"
   ]
  },
  {
   "cell_type": "markdown",
   "id": "5ede1ba5e0993dd1",
   "metadata": {
    "collapsed": false,
    "papermill": {
     "duration": 0.003642,
     "end_time": "2024-08-21T20:30:47.836672",
     "exception": false,
     "start_time": "2024-08-21T20:30:47.833030",
     "status": "completed"
    },
    "tags": []
   },
   "source": [
    "# Calculate the nearest point on a line for an arbitrary point"
   ]
  },
  {
   "cell_type": "markdown",
   "id": "90453a1d75202b2b",
   "metadata": {
    "papermill": {
     "duration": 0.00292,
     "end_time": "2024-08-21T20:30:47.843466",
     "exception": false,
     "start_time": "2024-08-21T20:30:47.840546",
     "status": "completed"
    },
    "tags": []
   },
   "source": [
    "## Final implementation test"
   ]
  },
  {
   "cell_type": "code",
   "execution_count": 2,
   "id": "2f69504ab35487aa",
   "metadata": {
    "ExecuteTime": {
     "end_time": "2024-08-19T09:45:27.857551Z",
     "start_time": "2024-08-19T09:45:27.550242Z"
    },
    "collapsed": false,
    "execution": {
     "iopub.execute_input": "2024-08-21T20:30:47.850737Z",
     "iopub.status.busy": "2024-08-21T20:30:47.850421Z",
     "iopub.status.idle": "2024-08-21T20:30:47.935433Z",
     "shell.execute_reply": "2024-08-21T20:30:47.932246Z"
    },
    "papermill": {
     "duration": 0.092387,
     "end_time": "2024-08-21T20:30:47.938729",
     "exception": false,
     "start_time": "2024-08-21T20:30:47.846342",
     "status": "completed"
    },
    "tags": []
   },
   "outputs": [],
   "source": [
    "from morpheus.project.types.geometry import Point, LineString\n",
    "\n",
    "line = LineString.from_dict({\n",
    "  \"type\": \"LineString\",\n",
    "  \"coordinates\": [(13.922514437551428, 50.964720483303836), (13.925036413951403, 50.96623732041704)]\n",
    "})\n",
    "\n",
    "point = Point.from_dict({\n",
    "  \"type\": \"Point\",\n",
    "  \"coordinates\": [13.9226, 50.9661]\n",
    "})\n",
    "\n",
    "nearest_point = line.nearest_point(point)"
   ]
  },
  {
   "cell_type": "code",
   "execution_count": 3,
   "id": "1540b870ae83f298",
   "metadata": {
    "ExecuteTime": {
     "end_time": "2024-08-19T09:45:28.381849Z",
     "start_time": "2024-08-19T09:45:27.862056Z"
    },
    "collapsed": false,
    "execution": {
     "iopub.execute_input": "2024-08-21T20:30:47.952462Z",
     "iopub.status.busy": "2024-08-21T20:30:47.951924Z",
     "iopub.status.idle": "2024-08-21T20:30:48.380541Z",
     "shell.execute_reply": "2024-08-21T20:30:48.380261Z"
    },
    "papermill": {
     "duration": 0.437539,
     "end_time": "2024-08-21T20:30:48.381425",
     "exception": false,
     "start_time": "2024-08-21T20:30:47.943886",
     "status": "completed"
    },
    "tags": []
   },
   "outputs": [
    {
     "data": {
      "text/html": [
       "<div style=\"width:100%;\"><div style=\"position:relative;width:100%;height:0;padding-bottom:60%;\"><span style=\"color:#565656\">Make this Notebook Trusted to load map: File -> Trust Notebook</span><iframe srcdoc=\"&lt;!DOCTYPE html&gt;\n",
       "&lt;html&gt;\n",
       "&lt;head&gt;\n",
       "    \n",
       "    &lt;meta http-equiv=&quot;content-type&quot; content=&quot;text/html; charset=UTF-8&quot; /&gt;\n",
       "    \n",
       "        &lt;script&gt;\n",
       "            L_NO_TOUCH = false;\n",
       "            L_DISABLE_3D = false;\n",
       "        &lt;/script&gt;\n",
       "    \n",
       "    &lt;style&gt;html, body {width: 100%;height: 100%;margin: 0;padding: 0;}&lt;/style&gt;\n",
       "    &lt;style&gt;#map {position:absolute;top:0;bottom:0;right:0;left:0;}&lt;/style&gt;\n",
       "    &lt;script src=&quot;https://cdn.jsdelivr.net/npm/leaflet@1.9.3/dist/leaflet.js&quot;&gt;&lt;/script&gt;\n",
       "    &lt;script src=&quot;https://code.jquery.com/jquery-3.7.1.min.js&quot;&gt;&lt;/script&gt;\n",
       "    &lt;script src=&quot;https://cdn.jsdelivr.net/npm/bootstrap@5.2.2/dist/js/bootstrap.bundle.min.js&quot;&gt;&lt;/script&gt;\n",
       "    &lt;script src=&quot;https://cdnjs.cloudflare.com/ajax/libs/Leaflet.awesome-markers/2.0.2/leaflet.awesome-markers.js&quot;&gt;&lt;/script&gt;\n",
       "    &lt;link rel=&quot;stylesheet&quot; href=&quot;https://cdn.jsdelivr.net/npm/leaflet@1.9.3/dist/leaflet.css&quot;/&gt;\n",
       "    &lt;link rel=&quot;stylesheet&quot; href=&quot;https://cdn.jsdelivr.net/npm/bootstrap@5.2.2/dist/css/bootstrap.min.css&quot;/&gt;\n",
       "    &lt;link rel=&quot;stylesheet&quot; href=&quot;https://netdna.bootstrapcdn.com/bootstrap/3.0.0/css/bootstrap-glyphicons.css&quot;/&gt;\n",
       "    &lt;link rel=&quot;stylesheet&quot; href=&quot;https://cdn.jsdelivr.net/npm/@fortawesome/fontawesome-free@6.2.0/css/all.min.css&quot;/&gt;\n",
       "    &lt;link rel=&quot;stylesheet&quot; href=&quot;https://cdnjs.cloudflare.com/ajax/libs/Leaflet.awesome-markers/2.0.2/leaflet.awesome-markers.css&quot;/&gt;\n",
       "    &lt;link rel=&quot;stylesheet&quot; href=&quot;https://cdn.jsdelivr.net/gh/python-visualization/folium/folium/templates/leaflet.awesome.rotate.min.css&quot;/&gt;\n",
       "    \n",
       "            &lt;meta name=&quot;viewport&quot; content=&quot;width=device-width,\n",
       "                initial-scale=1.0, maximum-scale=1.0, user-scalable=no&quot; /&gt;\n",
       "            &lt;style&gt;\n",
       "                #map_3ed90e37c68e9275aa3a47a41191679e {\n",
       "                    position: relative;\n",
       "                    width: 100.0%;\n",
       "                    height: 100.0%;\n",
       "                    left: 0.0%;\n",
       "                    top: 0.0%;\n",
       "                }\n",
       "                .leaflet-container { font-size: 1rem; }\n",
       "            &lt;/style&gt;\n",
       "        \n",
       "&lt;/head&gt;\n",
       "&lt;body&gt;\n",
       "    \n",
       "    \n",
       "            &lt;div class=&quot;folium-map&quot; id=&quot;map_3ed90e37c68e9275aa3a47a41191679e&quot; &gt;&lt;/div&gt;\n",
       "        \n",
       "&lt;/body&gt;\n",
       "&lt;script&gt;\n",
       "    \n",
       "    \n",
       "            var map_3ed90e37c68e9275aa3a47a41191679e = L.map(\n",
       "                &quot;map_3ed90e37c68e9275aa3a47a41191679e&quot;,\n",
       "                {\n",
       "                    center: [50.965, 13.922],\n",
       "                    crs: L.CRS.EPSG3857,\n",
       "                    zoom: 12,\n",
       "                    zoomControl: true,\n",
       "                    preferCanvas: false,\n",
       "                }\n",
       "            );\n",
       "\n",
       "            \n",
       "\n",
       "        \n",
       "    \n",
       "            var tile_layer_24f67a668c4a1ac2964461ecf2cd38a0 = L.tileLayer(\n",
       "                &quot;https://{s}.basemaps.cartocdn.com/light_all/{z}/{x}/{y}{r}.png&quot;,\n",
       "                {&quot;attribution&quot;: &quot;\\u0026copy; \\u003ca href=\\&quot;https://www.openstreetmap.org/copyright\\&quot;\\u003eOpenStreetMap\\u003c/a\\u003e contributors \\u0026copy; \\u003ca href=\\&quot;https://carto.com/attributions\\&quot;\\u003eCARTO\\u003c/a\\u003e&quot;, &quot;detectRetina&quot;: false, &quot;maxNativeZoom&quot;: 20, &quot;maxZoom&quot;: 20, &quot;minZoom&quot;: 0, &quot;noWrap&quot;: false, &quot;opacity&quot;: 1, &quot;subdomains&quot;: &quot;abcd&quot;, &quot;tms&quot;: false}\n",
       "            );\n",
       "        \n",
       "    \n",
       "            tile_layer_24f67a668c4a1ac2964461ecf2cd38a0.addTo(map_3ed90e37c68e9275aa3a47a41191679e);\n",
       "        \n",
       "    \n",
       "\n",
       "        function geo_json_fe55e1d4689936415357439eece470b5_onEachFeature(feature, layer) {\n",
       "            layer.on({\n",
       "            });\n",
       "        };\n",
       "        var geo_json_fe55e1d4689936415357439eece470b5 = L.geoJson(null, {\n",
       "                onEachFeature: geo_json_fe55e1d4689936415357439eece470b5_onEachFeature,\n",
       "            \n",
       "        });\n",
       "\n",
       "        function geo_json_fe55e1d4689936415357439eece470b5_add (data) {\n",
       "            geo_json_fe55e1d4689936415357439eece470b5\n",
       "                .addData(data);\n",
       "        }\n",
       "            geo_json_fe55e1d4689936415357439eece470b5_add({&quot;coordinates&quot;: [[13.922514437551428, 50.964720483303836], [13.925036413951403, 50.96623732041704]], &quot;type&quot;: &quot;LineString&quot;});\n",
       "        geo_json_fe55e1d4689936415357439eece470b5.setStyle(function(feature) {return feature.properties.style;});\n",
       "\n",
       "        \n",
       "    \n",
       "            geo_json_fe55e1d4689936415357439eece470b5.addTo(map_3ed90e37c68e9275aa3a47a41191679e);\n",
       "        \n",
       "    \n",
       "\n",
       "        function geo_json_391a161b9e2b3ba7bad0a20c692f09c4_onEachFeature(feature, layer) {\n",
       "            layer.on({\n",
       "            });\n",
       "        };\n",
       "        var geo_json_391a161b9e2b3ba7bad0a20c692f09c4 = L.geoJson(null, {\n",
       "                onEachFeature: geo_json_391a161b9e2b3ba7bad0a20c692f09c4_onEachFeature,\n",
       "            \n",
       "        });\n",
       "\n",
       "        function geo_json_391a161b9e2b3ba7bad0a20c692f09c4_add (data) {\n",
       "            geo_json_391a161b9e2b3ba7bad0a20c692f09c4\n",
       "                .addData(data);\n",
       "        }\n",
       "            geo_json_391a161b9e2b3ba7bad0a20c692f09c4_add({&quot;coordinates&quot;: [13.9226, 50.9661], &quot;type&quot;: &quot;Point&quot;});\n",
       "        geo_json_391a161b9e2b3ba7bad0a20c692f09c4.setStyle(function(feature) {return feature.properties.style;});\n",
       "\n",
       "        \n",
       "    \n",
       "            geo_json_391a161b9e2b3ba7bad0a20c692f09c4.addTo(map_3ed90e37c68e9275aa3a47a41191679e);\n",
       "        \n",
       "    \n",
       "\n",
       "        function geo_json_25cc1a60fd29f7cdce8bb11614514297_onEachFeature(feature, layer) {\n",
       "            layer.on({\n",
       "            });\n",
       "        };\n",
       "        var geo_json_25cc1a60fd29f7cdce8bb11614514297 = L.geoJson(null, {\n",
       "                onEachFeature: geo_json_25cc1a60fd29f7cdce8bb11614514297_onEachFeature,\n",
       "            \n",
       "        });\n",
       "\n",
       "        function geo_json_25cc1a60fd29f7cdce8bb11614514297_add (data) {\n",
       "            geo_json_25cc1a60fd29f7cdce8bb11614514297\n",
       "                .addData(data);\n",
       "        }\n",
       "            geo_json_25cc1a60fd29f7cdce8bb11614514297_add({&quot;coordinates&quot;: [13.923186570327204, 50.96512473607135], &quot;type&quot;: &quot;Point&quot;});\n",
       "        geo_json_25cc1a60fd29f7cdce8bb11614514297.setStyle(function(feature) {return feature.properties.style;});\n",
       "\n",
       "        \n",
       "    \n",
       "            geo_json_25cc1a60fd29f7cdce8bb11614514297.addTo(map_3ed90e37c68e9275aa3a47a41191679e);\n",
       "        \n",
       "    \n",
       "            map_3ed90e37c68e9275aa3a47a41191679e.fitBounds(\n",
       "                [[50.964720483303836, 13.922514437551428], [50.96623732041704, 13.925036413951403]],\n",
       "                {}\n",
       "            );\n",
       "        \n",
       "&lt;/script&gt;\n",
       "&lt;/html&gt;\" style=\"position:absolute;width:100%;height:100%;left:0;top:0;border:none !important;\" allowfullscreen webkitallowfullscreen mozallowfullscreen></iframe></div></div>"
      ],
      "text/plain": [
       "<folium.folium.Map at 0x108997a40>"
      ]
     },
     "execution_count": 3,
     "metadata": {},
     "output_type": "execute_result"
    }
   ],
   "source": [
    "import folium\n",
    "\n",
    "m = folium.Map(tiles=\"cartodbpositron\", crs=\"EPSG3857\", zoom_start=12, location=[50.965, 13.922])\n",
    "m.add_child(folium.GeoJson(line.as_geojson()))\n",
    "m.add_child(folium.GeoJson(point.as_geojson()))\n",
    "m.add_child(folium.GeoJson(nearest_point.as_geojson()))\n",
    "\n",
    "m.fit_bounds(m.get_bounds())\n",
    "m"
   ]
  },
  {
   "cell_type": "markdown",
   "id": "8d308845e05fbdbc",
   "metadata": {
    "papermill": {
     "duration": 0.001206,
     "end_time": "2024-08-21T20:30:48.384063",
     "exception": false,
     "start_time": "2024-08-21T20:30:48.382857",
     "status": "completed"
    },
    "tags": []
   },
   "source": [
    "## Calculate the nearest point on a line for an arbitrary point with Shapely nearest_points function"
   ]
  },
  {
   "cell_type": "code",
   "execution_count": 4,
   "id": "244bf8b386deca17",
   "metadata": {
    "ExecuteTime": {
     "end_time": "2024-08-19T09:45:28.390280Z",
     "start_time": "2024-08-19T09:45:28.383012Z"
    },
    "execution": {
     "iopub.execute_input": "2024-08-21T20:30:48.387270Z",
     "iopub.status.busy": "2024-08-21T20:30:48.387086Z",
     "iopub.status.idle": "2024-08-21T20:30:48.392337Z",
     "shell.execute_reply": "2024-08-21T20:30:48.392021Z"
    },
    "papermill": {
     "duration": 0.007957,
     "end_time": "2024-08-21T20:30:48.393323",
     "exception": false,
     "start_time": "2024-08-21T20:30:48.385366",
     "status": "completed"
    },
    "tags": []
   },
   "outputs": [
    {
     "data": {
      "text/plain": [
       "(<POINT (13.923 50.965)>, <POINT (13.923 50.966)>)"
      ]
     },
     "execution_count": 4,
     "metadata": {},
     "output_type": "execute_result"
    }
   ],
   "source": [
    "from shapely.geometry import LineString as ShapelyLineString, Point as ShapelyPoint\n",
    "from shapely.ops import nearest_points\n",
    "from morpheus.project.types.geometry import Point\n",
    "\n",
    "shapely_line = ShapelyLineString(line.coordinates)\n",
    "shapely_point = ShapelyPoint(point.coordinates)\n",
    "nearest_points = nearest_points(shapely_line, shapely_point)\n",
    "nearest_points"
   ]
  },
  {
   "cell_type": "code",
   "execution_count": 5,
   "id": "7d28fcc1cfd90668",
   "metadata": {
    "ExecuteTime": {
     "end_time": "2024-08-19T09:45:28.397080Z",
     "start_time": "2024-08-19T09:45:28.394119Z"
    },
    "execution": {
     "iopub.execute_input": "2024-08-21T20:30:48.397591Z",
     "iopub.status.busy": "2024-08-21T20:30:48.397411Z",
     "iopub.status.idle": "2024-08-21T20:30:48.399476Z",
     "shell.execute_reply": "2024-08-21T20:30:48.399197Z"
    },
    "papermill": {
     "duration": 0.005332,
     "end_time": "2024-08-21T20:30:48.400369",
     "exception": false,
     "start_time": "2024-08-21T20:30:48.395037",
     "status": "completed"
    },
    "tags": []
   },
   "outputs": [],
   "source": [
    "from morpheus.project.types.geometry import Point\n",
    "nearest_shapely_point_on_linestring = nearest_points[0] \n",
    "nearest_point = Point.from_dict({\n",
    "  \"type\": \"Point\",\n",
    "  \"coordinates\": [nearest_shapely_point_on_linestring.x, nearest_shapely_point_on_linestring.y]\n",
    "})"
   ]
  },
  {
   "cell_type": "code",
   "execution_count": 6,
   "id": "45b04c9a6449437b",
   "metadata": {
    "ExecuteTime": {
     "end_time": "2024-08-19T09:45:28.409250Z",
     "start_time": "2024-08-19T09:45:28.397960Z"
    },
    "execution": {
     "iopub.execute_input": "2024-08-21T20:30:48.404044Z",
     "iopub.status.busy": "2024-08-21T20:30:48.403898Z",
     "iopub.status.idle": "2024-08-21T20:30:48.413685Z",
     "shell.execute_reply": "2024-08-21T20:30:48.413420Z"
    },
    "papermill": {
     "duration": 0.012504,
     "end_time": "2024-08-21T20:30:48.414471",
     "exception": false,
     "start_time": "2024-08-21T20:30:48.401967",
     "status": "completed"
    },
    "tags": []
   },
   "outputs": [
    {
     "data": {
      "text/html": [
       "<div style=\"width:100%;\"><div style=\"position:relative;width:100%;height:0;padding-bottom:60%;\"><span style=\"color:#565656\">Make this Notebook Trusted to load map: File -> Trust Notebook</span><iframe srcdoc=\"&lt;!DOCTYPE html&gt;\n",
       "&lt;html&gt;\n",
       "&lt;head&gt;\n",
       "    \n",
       "    &lt;meta http-equiv=&quot;content-type&quot; content=&quot;text/html; charset=UTF-8&quot; /&gt;\n",
       "    \n",
       "        &lt;script&gt;\n",
       "            L_NO_TOUCH = false;\n",
       "            L_DISABLE_3D = false;\n",
       "        &lt;/script&gt;\n",
       "    \n",
       "    &lt;style&gt;html, body {width: 100%;height: 100%;margin: 0;padding: 0;}&lt;/style&gt;\n",
       "    &lt;style&gt;#map {position:absolute;top:0;bottom:0;right:0;left:0;}&lt;/style&gt;\n",
       "    &lt;script src=&quot;https://cdn.jsdelivr.net/npm/leaflet@1.9.3/dist/leaflet.js&quot;&gt;&lt;/script&gt;\n",
       "    &lt;script src=&quot;https://code.jquery.com/jquery-3.7.1.min.js&quot;&gt;&lt;/script&gt;\n",
       "    &lt;script src=&quot;https://cdn.jsdelivr.net/npm/bootstrap@5.2.2/dist/js/bootstrap.bundle.min.js&quot;&gt;&lt;/script&gt;\n",
       "    &lt;script src=&quot;https://cdnjs.cloudflare.com/ajax/libs/Leaflet.awesome-markers/2.0.2/leaflet.awesome-markers.js&quot;&gt;&lt;/script&gt;\n",
       "    &lt;link rel=&quot;stylesheet&quot; href=&quot;https://cdn.jsdelivr.net/npm/leaflet@1.9.3/dist/leaflet.css&quot;/&gt;\n",
       "    &lt;link rel=&quot;stylesheet&quot; href=&quot;https://cdn.jsdelivr.net/npm/bootstrap@5.2.2/dist/css/bootstrap.min.css&quot;/&gt;\n",
       "    &lt;link rel=&quot;stylesheet&quot; href=&quot;https://netdna.bootstrapcdn.com/bootstrap/3.0.0/css/bootstrap-glyphicons.css&quot;/&gt;\n",
       "    &lt;link rel=&quot;stylesheet&quot; href=&quot;https://cdn.jsdelivr.net/npm/@fortawesome/fontawesome-free@6.2.0/css/all.min.css&quot;/&gt;\n",
       "    &lt;link rel=&quot;stylesheet&quot; href=&quot;https://cdnjs.cloudflare.com/ajax/libs/Leaflet.awesome-markers/2.0.2/leaflet.awesome-markers.css&quot;/&gt;\n",
       "    &lt;link rel=&quot;stylesheet&quot; href=&quot;https://cdn.jsdelivr.net/gh/python-visualization/folium/folium/templates/leaflet.awesome.rotate.min.css&quot;/&gt;\n",
       "    \n",
       "            &lt;meta name=&quot;viewport&quot; content=&quot;width=device-width,\n",
       "                initial-scale=1.0, maximum-scale=1.0, user-scalable=no&quot; /&gt;\n",
       "            &lt;style&gt;\n",
       "                #map_a81d5174d5e61ad0d19f25fdb2c71623 {\n",
       "                    position: relative;\n",
       "                    width: 100.0%;\n",
       "                    height: 100.0%;\n",
       "                    left: 0.0%;\n",
       "                    top: 0.0%;\n",
       "                }\n",
       "                .leaflet-container { font-size: 1rem; }\n",
       "            &lt;/style&gt;\n",
       "        \n",
       "&lt;/head&gt;\n",
       "&lt;body&gt;\n",
       "    \n",
       "    \n",
       "            &lt;div class=&quot;folium-map&quot; id=&quot;map_a81d5174d5e61ad0d19f25fdb2c71623&quot; &gt;&lt;/div&gt;\n",
       "        \n",
       "&lt;/body&gt;\n",
       "&lt;script&gt;\n",
       "    \n",
       "    \n",
       "            var map_a81d5174d5e61ad0d19f25fdb2c71623 = L.map(\n",
       "                &quot;map_a81d5174d5e61ad0d19f25fdb2c71623&quot;,\n",
       "                {\n",
       "                    center: [50.965, 13.922],\n",
       "                    crs: L.CRS.EPSG3857,\n",
       "                    zoom: 12,\n",
       "                    zoomControl: true,\n",
       "                    preferCanvas: false,\n",
       "                }\n",
       "            );\n",
       "\n",
       "            \n",
       "\n",
       "        \n",
       "    \n",
       "            var tile_layer_32e4f545a8579f7f9afe570480c4d4c8 = L.tileLayer(\n",
       "                &quot;https://{s}.basemaps.cartocdn.com/light_all/{z}/{x}/{y}{r}.png&quot;,\n",
       "                {&quot;attribution&quot;: &quot;\\u0026copy; \\u003ca href=\\&quot;https://www.openstreetmap.org/copyright\\&quot;\\u003eOpenStreetMap\\u003c/a\\u003e contributors \\u0026copy; \\u003ca href=\\&quot;https://carto.com/attributions\\&quot;\\u003eCARTO\\u003c/a\\u003e&quot;, &quot;detectRetina&quot;: false, &quot;maxNativeZoom&quot;: 20, &quot;maxZoom&quot;: 20, &quot;minZoom&quot;: 0, &quot;noWrap&quot;: false, &quot;opacity&quot;: 1, &quot;subdomains&quot;: &quot;abcd&quot;, &quot;tms&quot;: false}\n",
       "            );\n",
       "        \n",
       "    \n",
       "            tile_layer_32e4f545a8579f7f9afe570480c4d4c8.addTo(map_a81d5174d5e61ad0d19f25fdb2c71623);\n",
       "        \n",
       "    \n",
       "\n",
       "        function geo_json_db4e00a6089f7277a86434e3f8709bb9_onEachFeature(feature, layer) {\n",
       "            layer.on({\n",
       "            });\n",
       "        };\n",
       "        var geo_json_db4e00a6089f7277a86434e3f8709bb9 = L.geoJson(null, {\n",
       "                onEachFeature: geo_json_db4e00a6089f7277a86434e3f8709bb9_onEachFeature,\n",
       "            \n",
       "        });\n",
       "\n",
       "        function geo_json_db4e00a6089f7277a86434e3f8709bb9_add (data) {\n",
       "            geo_json_db4e00a6089f7277a86434e3f8709bb9\n",
       "                .addData(data);\n",
       "        }\n",
       "            geo_json_db4e00a6089f7277a86434e3f8709bb9_add({&quot;coordinates&quot;: [[13.922514437551428, 50.964720483303836], [13.925036413951403, 50.96623732041704]], &quot;type&quot;: &quot;LineString&quot;});\n",
       "        geo_json_db4e00a6089f7277a86434e3f8709bb9.setStyle(function(feature) {return feature.properties.style;});\n",
       "\n",
       "        \n",
       "    \n",
       "            geo_json_db4e00a6089f7277a86434e3f8709bb9.addTo(map_a81d5174d5e61ad0d19f25fdb2c71623);\n",
       "        \n",
       "    \n",
       "\n",
       "        function geo_json_85d89243f2f2e0062d67e20311cde19a_onEachFeature(feature, layer) {\n",
       "            layer.on({\n",
       "            });\n",
       "        };\n",
       "        var geo_json_85d89243f2f2e0062d67e20311cde19a = L.geoJson(null, {\n",
       "                onEachFeature: geo_json_85d89243f2f2e0062d67e20311cde19a_onEachFeature,\n",
       "            \n",
       "        });\n",
       "\n",
       "        function geo_json_85d89243f2f2e0062d67e20311cde19a_add (data) {\n",
       "            geo_json_85d89243f2f2e0062d67e20311cde19a\n",
       "                .addData(data);\n",
       "        }\n",
       "            geo_json_85d89243f2f2e0062d67e20311cde19a_add({&quot;coordinates&quot;: [13.9226, 50.9661], &quot;type&quot;: &quot;Point&quot;});\n",
       "        geo_json_85d89243f2f2e0062d67e20311cde19a.setStyle(function(feature) {return feature.properties.style;});\n",
       "\n",
       "        \n",
       "    \n",
       "            geo_json_85d89243f2f2e0062d67e20311cde19a.addTo(map_a81d5174d5e61ad0d19f25fdb2c71623);\n",
       "        \n",
       "    \n",
       "\n",
       "        function geo_json_89d2860f7c8273e81ee6e89818af86a9_onEachFeature(feature, layer) {\n",
       "            layer.on({\n",
       "            });\n",
       "        };\n",
       "        var geo_json_89d2860f7c8273e81ee6e89818af86a9 = L.geoJson(null, {\n",
       "                onEachFeature: geo_json_89d2860f7c8273e81ee6e89818af86a9_onEachFeature,\n",
       "            \n",
       "        });\n",
       "\n",
       "        function geo_json_89d2860f7c8273e81ee6e89818af86a9_add (data) {\n",
       "            geo_json_89d2860f7c8273e81ee6e89818af86a9\n",
       "                .addData(data);\n",
       "        }\n",
       "            geo_json_89d2860f7c8273e81ee6e89818af86a9_add({&quot;coordinates&quot;: [13.923186570327204, 50.96512473607135], &quot;type&quot;: &quot;Point&quot;});\n",
       "        geo_json_89d2860f7c8273e81ee6e89818af86a9.setStyle(function(feature) {return feature.properties.style;});\n",
       "\n",
       "        \n",
       "    \n",
       "            geo_json_89d2860f7c8273e81ee6e89818af86a9.addTo(map_a81d5174d5e61ad0d19f25fdb2c71623);\n",
       "        \n",
       "    \n",
       "            map_a81d5174d5e61ad0d19f25fdb2c71623.fitBounds(\n",
       "                [[50.964720483303836, 13.922514437551428], [50.96623732041704, 13.925036413951403]],\n",
       "                {}\n",
       "            );\n",
       "        \n",
       "&lt;/script&gt;\n",
       "&lt;/html&gt;\" style=\"position:absolute;width:100%;height:100%;left:0;top:0;border:none !important;\" allowfullscreen webkitallowfullscreen mozallowfullscreen></iframe></div></div>"
      ],
      "text/plain": [
       "<folium.folium.Map at 0x1059aca40>"
      ]
     },
     "execution_count": 6,
     "metadata": {},
     "output_type": "execute_result"
    }
   ],
   "source": [
    "m = folium.Map(tiles=\"cartodbpositron\", crs=\"EPSG3857\", zoom_start=12, location=[50.965, 13.922])\n",
    "m.add_child(folium.GeoJson(line.as_geojson()))\n",
    "m.add_child(folium.GeoJson(point.as_geojson()))\n",
    "m.add_child(folium.GeoJson(nearest_point.as_geojson()))\n",
    "m.fit_bounds(m.get_bounds())\n",
    "m"
   ]
  },
  {
   "cell_type": "markdown",
   "id": "31ef0a164a81f162",
   "metadata": {
    "papermill": {
     "duration": 0.001365,
     "end_time": "2024-08-21T20:30:48.417462",
     "exception": false,
     "start_time": "2024-08-21T20:30:48.416097",
     "status": "completed"
    },
    "tags": []
   },
   "source": [
    "## Calculate the nearest point on a line for an arbitrary point with Shapely project function"
   ]
  },
  {
   "cell_type": "code",
   "execution_count": 7,
   "id": "baf9e6f08177b1ac",
   "metadata": {
    "ExecuteTime": {
     "end_time": "2024-08-19T09:45:28.414228Z",
     "start_time": "2024-08-19T09:45:28.411154Z"
    },
    "execution": {
     "iopub.execute_input": "2024-08-21T20:30:48.420694Z",
     "iopub.status.busy": "2024-08-21T20:30:48.420587Z",
     "iopub.status.idle": "2024-08-21T20:30:48.422647Z",
     "shell.execute_reply": "2024-08-21T20:30:48.422435Z"
    },
    "papermill": {
     "duration": 0.004599,
     "end_time": "2024-08-21T20:30:48.423392",
     "exception": false,
     "start_time": "2024-08-21T20:30:48.418793",
     "status": "completed"
    },
    "tags": []
   },
   "outputs": [],
   "source": [
    "shapely_line = ShapelyLineString(line.coordinates)\n",
    "shapely_point = ShapelyPoint(point.coordinates)\n",
    "nearest_shapely_point_on_linestring = shapely_line.interpolate(shapely_line.project(shapely_point))\n",
    "\n",
    "nearest_point = Point.from_dict({\n",
    "  \"type\": \"Point\",\n",
    "  \"coordinates\": [nearest_shapely_point_on_linestring.x, nearest_shapely_point_on_linestring.y]\n",
    "})"
   ]
  },
  {
   "cell_type": "code",
   "execution_count": 8,
   "id": "fd5dc602e0a8ceb3",
   "metadata": {
    "ExecuteTime": {
     "end_time": "2024-08-19T09:45:28.427930Z",
     "start_time": "2024-08-19T09:45:28.415261Z"
    },
    "execution": {
     "iopub.execute_input": "2024-08-21T20:30:48.426604Z",
     "iopub.status.busy": "2024-08-21T20:30:48.426510Z",
     "iopub.status.idle": "2024-08-21T20:30:48.435722Z",
     "shell.execute_reply": "2024-08-21T20:30:48.435453Z"
    },
    "papermill": {
     "duration": 0.0118,
     "end_time": "2024-08-21T20:30:48.436566",
     "exception": false,
     "start_time": "2024-08-21T20:30:48.424766",
     "status": "completed"
    },
    "tags": []
   },
   "outputs": [
    {
     "data": {
      "text/html": [
       "<div style=\"width:100%;\"><div style=\"position:relative;width:100%;height:0;padding-bottom:60%;\"><span style=\"color:#565656\">Make this Notebook Trusted to load map: File -> Trust Notebook</span><iframe srcdoc=\"&lt;!DOCTYPE html&gt;\n",
       "&lt;html&gt;\n",
       "&lt;head&gt;\n",
       "    \n",
       "    &lt;meta http-equiv=&quot;content-type&quot; content=&quot;text/html; charset=UTF-8&quot; /&gt;\n",
       "    \n",
       "        &lt;script&gt;\n",
       "            L_NO_TOUCH = false;\n",
       "            L_DISABLE_3D = false;\n",
       "        &lt;/script&gt;\n",
       "    \n",
       "    &lt;style&gt;html, body {width: 100%;height: 100%;margin: 0;padding: 0;}&lt;/style&gt;\n",
       "    &lt;style&gt;#map {position:absolute;top:0;bottom:0;right:0;left:0;}&lt;/style&gt;\n",
       "    &lt;script src=&quot;https://cdn.jsdelivr.net/npm/leaflet@1.9.3/dist/leaflet.js&quot;&gt;&lt;/script&gt;\n",
       "    &lt;script src=&quot;https://code.jquery.com/jquery-3.7.1.min.js&quot;&gt;&lt;/script&gt;\n",
       "    &lt;script src=&quot;https://cdn.jsdelivr.net/npm/bootstrap@5.2.2/dist/js/bootstrap.bundle.min.js&quot;&gt;&lt;/script&gt;\n",
       "    &lt;script src=&quot;https://cdnjs.cloudflare.com/ajax/libs/Leaflet.awesome-markers/2.0.2/leaflet.awesome-markers.js&quot;&gt;&lt;/script&gt;\n",
       "    &lt;link rel=&quot;stylesheet&quot; href=&quot;https://cdn.jsdelivr.net/npm/leaflet@1.9.3/dist/leaflet.css&quot;/&gt;\n",
       "    &lt;link rel=&quot;stylesheet&quot; href=&quot;https://cdn.jsdelivr.net/npm/bootstrap@5.2.2/dist/css/bootstrap.min.css&quot;/&gt;\n",
       "    &lt;link rel=&quot;stylesheet&quot; href=&quot;https://netdna.bootstrapcdn.com/bootstrap/3.0.0/css/bootstrap-glyphicons.css&quot;/&gt;\n",
       "    &lt;link rel=&quot;stylesheet&quot; href=&quot;https://cdn.jsdelivr.net/npm/@fortawesome/fontawesome-free@6.2.0/css/all.min.css&quot;/&gt;\n",
       "    &lt;link rel=&quot;stylesheet&quot; href=&quot;https://cdnjs.cloudflare.com/ajax/libs/Leaflet.awesome-markers/2.0.2/leaflet.awesome-markers.css&quot;/&gt;\n",
       "    &lt;link rel=&quot;stylesheet&quot; href=&quot;https://cdn.jsdelivr.net/gh/python-visualization/folium/folium/templates/leaflet.awesome.rotate.min.css&quot;/&gt;\n",
       "    \n",
       "            &lt;meta name=&quot;viewport&quot; content=&quot;width=device-width,\n",
       "                initial-scale=1.0, maximum-scale=1.0, user-scalable=no&quot; /&gt;\n",
       "            &lt;style&gt;\n",
       "                #map_9bd460c12763c1b8c27812110cd47525 {\n",
       "                    position: relative;\n",
       "                    width: 100.0%;\n",
       "                    height: 100.0%;\n",
       "                    left: 0.0%;\n",
       "                    top: 0.0%;\n",
       "                }\n",
       "                .leaflet-container { font-size: 1rem; }\n",
       "            &lt;/style&gt;\n",
       "        \n",
       "&lt;/head&gt;\n",
       "&lt;body&gt;\n",
       "    \n",
       "    \n",
       "            &lt;div class=&quot;folium-map&quot; id=&quot;map_9bd460c12763c1b8c27812110cd47525&quot; &gt;&lt;/div&gt;\n",
       "        \n",
       "&lt;/body&gt;\n",
       "&lt;script&gt;\n",
       "    \n",
       "    \n",
       "            var map_9bd460c12763c1b8c27812110cd47525 = L.map(\n",
       "                &quot;map_9bd460c12763c1b8c27812110cd47525&quot;,\n",
       "                {\n",
       "                    center: [50.965, 13.922],\n",
       "                    crs: L.CRS.EPSG3857,\n",
       "                    zoom: 12,\n",
       "                    zoomControl: true,\n",
       "                    preferCanvas: false,\n",
       "                }\n",
       "            );\n",
       "\n",
       "            \n",
       "\n",
       "        \n",
       "    \n",
       "            var tile_layer_9e6814ab4c383c421704c9ecc69e3ba9 = L.tileLayer(\n",
       "                &quot;https://{s}.basemaps.cartocdn.com/light_all/{z}/{x}/{y}{r}.png&quot;,\n",
       "                {&quot;attribution&quot;: &quot;\\u0026copy; \\u003ca href=\\&quot;https://www.openstreetmap.org/copyright\\&quot;\\u003eOpenStreetMap\\u003c/a\\u003e contributors \\u0026copy; \\u003ca href=\\&quot;https://carto.com/attributions\\&quot;\\u003eCARTO\\u003c/a\\u003e&quot;, &quot;detectRetina&quot;: false, &quot;maxNativeZoom&quot;: 20, &quot;maxZoom&quot;: 20, &quot;minZoom&quot;: 0, &quot;noWrap&quot;: false, &quot;opacity&quot;: 1, &quot;subdomains&quot;: &quot;abcd&quot;, &quot;tms&quot;: false}\n",
       "            );\n",
       "        \n",
       "    \n",
       "            tile_layer_9e6814ab4c383c421704c9ecc69e3ba9.addTo(map_9bd460c12763c1b8c27812110cd47525);\n",
       "        \n",
       "    \n",
       "\n",
       "        function geo_json_14dd93fcdb59ece57b5fef4e412b61de_onEachFeature(feature, layer) {\n",
       "            layer.on({\n",
       "            });\n",
       "        };\n",
       "        var geo_json_14dd93fcdb59ece57b5fef4e412b61de = L.geoJson(null, {\n",
       "                onEachFeature: geo_json_14dd93fcdb59ece57b5fef4e412b61de_onEachFeature,\n",
       "            \n",
       "        });\n",
       "\n",
       "        function geo_json_14dd93fcdb59ece57b5fef4e412b61de_add (data) {\n",
       "            geo_json_14dd93fcdb59ece57b5fef4e412b61de\n",
       "                .addData(data);\n",
       "        }\n",
       "            geo_json_14dd93fcdb59ece57b5fef4e412b61de_add({&quot;coordinates&quot;: [[13.922514437551428, 50.964720483303836], [13.925036413951403, 50.96623732041704]], &quot;type&quot;: &quot;LineString&quot;});\n",
       "        geo_json_14dd93fcdb59ece57b5fef4e412b61de.setStyle(function(feature) {return feature.properties.style;});\n",
       "\n",
       "        \n",
       "    \n",
       "            geo_json_14dd93fcdb59ece57b5fef4e412b61de.addTo(map_9bd460c12763c1b8c27812110cd47525);\n",
       "        \n",
       "    \n",
       "\n",
       "        function geo_json_8ce35b2494f01d293e3bc7975500148d_onEachFeature(feature, layer) {\n",
       "            layer.on({\n",
       "            });\n",
       "        };\n",
       "        var geo_json_8ce35b2494f01d293e3bc7975500148d = L.geoJson(null, {\n",
       "                onEachFeature: geo_json_8ce35b2494f01d293e3bc7975500148d_onEachFeature,\n",
       "            \n",
       "        });\n",
       "\n",
       "        function geo_json_8ce35b2494f01d293e3bc7975500148d_add (data) {\n",
       "            geo_json_8ce35b2494f01d293e3bc7975500148d\n",
       "                .addData(data);\n",
       "        }\n",
       "            geo_json_8ce35b2494f01d293e3bc7975500148d_add({&quot;coordinates&quot;: [13.9226, 50.9661], &quot;type&quot;: &quot;Point&quot;});\n",
       "        geo_json_8ce35b2494f01d293e3bc7975500148d.setStyle(function(feature) {return feature.properties.style;});\n",
       "\n",
       "        \n",
       "    \n",
       "            geo_json_8ce35b2494f01d293e3bc7975500148d.addTo(map_9bd460c12763c1b8c27812110cd47525);\n",
       "        \n",
       "    \n",
       "\n",
       "        function geo_json_d3e081798632ff8493afe93be767612e_onEachFeature(feature, layer) {\n",
       "            layer.on({\n",
       "            });\n",
       "        };\n",
       "        var geo_json_d3e081798632ff8493afe93be767612e = L.geoJson(null, {\n",
       "                onEachFeature: geo_json_d3e081798632ff8493afe93be767612e_onEachFeature,\n",
       "            \n",
       "        });\n",
       "\n",
       "        function geo_json_d3e081798632ff8493afe93be767612e_add (data) {\n",
       "            geo_json_d3e081798632ff8493afe93be767612e\n",
       "                .addData(data);\n",
       "        }\n",
       "            geo_json_d3e081798632ff8493afe93be767612e_add({&quot;coordinates&quot;: [13.923186570327204, 50.96512473607135], &quot;type&quot;: &quot;Point&quot;});\n",
       "        geo_json_d3e081798632ff8493afe93be767612e.setStyle(function(feature) {return feature.properties.style;});\n",
       "\n",
       "        \n",
       "    \n",
       "            geo_json_d3e081798632ff8493afe93be767612e.addTo(map_9bd460c12763c1b8c27812110cd47525);\n",
       "        \n",
       "    \n",
       "            map_9bd460c12763c1b8c27812110cd47525.fitBounds(\n",
       "                [[50.964720483303836, 13.922514437551428], [50.96623732041704, 13.925036413951403]],\n",
       "                {}\n",
       "            );\n",
       "        \n",
       "&lt;/script&gt;\n",
       "&lt;/html&gt;\" style=\"position:absolute;width:100%;height:100%;left:0;top:0;border:none !important;\" allowfullscreen webkitallowfullscreen mozallowfullscreen></iframe></div></div>"
      ],
      "text/plain": [
       "<folium.folium.Map at 0x11d178f50>"
      ]
     },
     "execution_count": 8,
     "metadata": {},
     "output_type": "execute_result"
    }
   ],
   "source": [
    "m = folium.Map(tiles=\"cartodbpositron\", crs=\"EPSG3857\", zoom_start=12, location=[50.965, 13.922])\n",
    "m.add_child(folium.GeoJson(line.as_geojson()))\n",
    "m.add_child(folium.GeoJson(point.as_geojson()))\n",
    "m.add_child(folium.GeoJson(nearest_point.as_geojson()))\n",
    "m.fit_bounds(m.get_bounds())\n",
    "m"
   ]
  },
  {
   "cell_type": "code",
   "execution_count": null,
   "id": "2e1569d1b20ec1c9",
   "metadata": {
    "ExecuteTime": {
     "end_time": "2024-08-19T09:45:28.432804Z",
     "start_time": "2024-08-19T09:45:28.430916Z"
    },
    "papermill": {
     "duration": 0.001604,
     "end_time": "2024-08-21T20:30:48.440069",
     "exception": false,
     "start_time": "2024-08-21T20:30:48.438465",
     "status": "completed"
    },
    "tags": []
   },
   "outputs": [],
   "source": []
  }
 ],
 "metadata": {
  "kernelspec": {
   "display_name": "Python 3",
   "language": "python",
   "name": "python3"
  },
  "language_info": {
   "codemirror_mode": {
    "name": "ipython",
    "version": 3
   },
   "file_extension": ".py",
   "mimetype": "text/x-python",
   "name": "python",
   "nbconvert_exporter": "python",
   "pygments_lexer": "ipython3",
   "version": "3.12.2"
  },
  "papermill": {
   "default_parameters": {},
   "duration": 1.679041,
   "end_time": "2024-08-21T20:30:48.758895",
   "environment_variables": {},
   "exception": null,
   "input_path": "./notebooks/LineStringNearestPoint.ipynb",
   "output_path": "./notebooks/LineStringNearestPoint.ipynb",
   "parameters": {},
   "start_time": "2024-08-21T20:30:47.079854",
   "version": "2.6.0"
  }
 },
 "nbformat": 4,
 "nbformat_minor": 5
}