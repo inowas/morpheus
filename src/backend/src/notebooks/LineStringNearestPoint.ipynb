{
 "cells": [
  {
   "cell_type": "code",
   "execution_count": 1,
   "id": "ba6761fae9d5e5cb",
   "metadata": {
    "ExecuteTime": {
     "end_time": "2024-06-07T08:19:50.698161Z",
     "start_time": "2024-06-07T08:19:50.693723Z"
    },
    "collapsed": false,
    "execution": {
     "iopub.execute_input": "2024-06-17T21:07:48.551778Z",
     "iopub.status.busy": "2024-06-17T21:07:48.551165Z",
     "iopub.status.idle": "2024-06-17T21:07:48.558432Z",
     "shell.execute_reply": "2024-06-17T21:07:48.557628Z"
    },
    "papermill": {
     "duration": 0.019527,
     "end_time": "2024-06-17T21:07:48.561624",
     "exception": false,
     "start_time": "2024-06-17T21:07:48.542097",
     "status": "completed"
    },
    "tags": []
   },
   "outputs": [],
   "source": [
    "import sys\n",
    "\n",
    "sys.path.insert(0, '..')"
   ]
  },
  {
   "cell_type": "markdown",
   "id": "5ede1ba5e0993dd1",
   "metadata": {
    "collapsed": false,
    "papermill": {
     "duration": 0.004513,
     "end_time": "2024-06-17T21:07:48.574083",
     "exception": false,
     "start_time": "2024-06-17T21:07:48.569570",
     "status": "completed"
    },
    "tags": []
   },
   "source": [
    "# Calculate the nearest point on a line for an arbitrary point"
   ]
  },
  {
   "cell_type": "markdown",
   "id": "90453a1d75202b2b",
   "metadata": {
    "papermill": {
     "duration": 0.00338,
     "end_time": "2024-06-17T21:07:48.581207",
     "exception": false,
     "start_time": "2024-06-17T21:07:48.577827",
     "status": "completed"
    },
    "tags": []
   },
   "source": [
    "## Final implementation test"
   ]
  },
  {
   "cell_type": "code",
   "execution_count": 2,
   "id": "2f69504ab35487aa",
   "metadata": {
    "ExecuteTime": {
     "end_time": "2024-06-07T08:19:50.821461Z",
     "start_time": "2024-06-07T08:19:50.700598Z"
    },
    "collapsed": false,
    "execution": {
     "iopub.execute_input": "2024-06-17T21:07:48.587225Z",
     "iopub.status.busy": "2024-06-17T21:07:48.586846Z",
     "iopub.status.idle": "2024-06-17T21:07:48.668423Z",
     "shell.execute_reply": "2024-06-17T21:07:48.667758Z"
    },
    "papermill": {
     "duration": 0.087685,
     "end_time": "2024-06-17T21:07:48.671003",
     "exception": false,
     "start_time": "2024-06-17T21:07:48.583318",
     "status": "completed"
    },
    "tags": []
   },
   "outputs": [],
   "source": [
    "from morpheus.project.types.geometry import Point, LineString\n",
    "\n",
    "line = LineString.from_dict({\n",
    "  \"type\": \"LineString\",\n",
    "  \"coordinates\": [(13.922514437551428, 50.964720483303836), (13.925036413951403, 50.96623732041704)]\n",
    "})\n",
    "\n",
    "point = Point.from_dict({\n",
    "  \"type\": \"Point\",\n",
    "  \"coordinates\": [13.9226, 50.9661]\n",
    "})\n",
    "\n",
    "nearest_point = line.nearest_point(point)"
   ]
  },
  {
   "cell_type": "code",
   "execution_count": 3,
   "id": "1540b870ae83f298",
   "metadata": {
    "ExecuteTime": {
     "end_time": "2024-06-07T08:19:51.246585Z",
     "start_time": "2024-06-07T08:19:50.827185Z"
    },
    "collapsed": false,
    "execution": {
     "iopub.execute_input": "2024-06-17T21:07:48.678221Z",
     "iopub.status.busy": "2024-06-17T21:07:48.677619Z",
     "iopub.status.idle": "2024-06-17T21:07:49.049362Z",
     "shell.execute_reply": "2024-06-17T21:07:49.049117Z"
    },
    "papermill": {
     "duration": 0.376975,
     "end_time": "2024-06-17T21:07:49.050181",
     "exception": false,
     "start_time": "2024-06-17T21:07:48.673206",
     "status": "completed"
    },
    "tags": []
   },
   "outputs": [
    {
     "data": {
      "text/html": [
       "<div style=\"width:100%;\"><div style=\"position:relative;width:100%;height:0;padding-bottom:60%;\"><span style=\"color:#565656\">Make this Notebook Trusted to load map: File -> Trust Notebook</span><iframe srcdoc=\"&lt;!DOCTYPE html&gt;\n",
       "&lt;html&gt;\n",
       "&lt;head&gt;\n",
       "    \n",
       "    &lt;meta http-equiv=&quot;content-type&quot; content=&quot;text/html; charset=UTF-8&quot; /&gt;\n",
       "    \n",
       "        &lt;script&gt;\n",
       "            L_NO_TOUCH = false;\n",
       "            L_DISABLE_3D = false;\n",
       "        &lt;/script&gt;\n",
       "    \n",
       "    &lt;style&gt;html, body {width: 100%;height: 100%;margin: 0;padding: 0;}&lt;/style&gt;\n",
       "    &lt;style&gt;#map {position:absolute;top:0;bottom:0;right:0;left:0;}&lt;/style&gt;\n",
       "    &lt;script src=&quot;https://cdn.jsdelivr.net/npm/leaflet@1.9.3/dist/leaflet.js&quot;&gt;&lt;/script&gt;\n",
       "    &lt;script src=&quot;https://code.jquery.com/jquery-3.7.1.min.js&quot;&gt;&lt;/script&gt;\n",
       "    &lt;script src=&quot;https://cdn.jsdelivr.net/npm/bootstrap@5.2.2/dist/js/bootstrap.bundle.min.js&quot;&gt;&lt;/script&gt;\n",
       "    &lt;script src=&quot;https://cdnjs.cloudflare.com/ajax/libs/Leaflet.awesome-markers/2.0.2/leaflet.awesome-markers.js&quot;&gt;&lt;/script&gt;\n",
       "    &lt;link rel=&quot;stylesheet&quot; href=&quot;https://cdn.jsdelivr.net/npm/leaflet@1.9.3/dist/leaflet.css&quot;/&gt;\n",
       "    &lt;link rel=&quot;stylesheet&quot; href=&quot;https://cdn.jsdelivr.net/npm/bootstrap@5.2.2/dist/css/bootstrap.min.css&quot;/&gt;\n",
       "    &lt;link rel=&quot;stylesheet&quot; href=&quot;https://netdna.bootstrapcdn.com/bootstrap/3.0.0/css/bootstrap.min.css&quot;/&gt;\n",
       "    &lt;link rel=&quot;stylesheet&quot; href=&quot;https://cdn.jsdelivr.net/npm/@fortawesome/fontawesome-free@6.2.0/css/all.min.css&quot;/&gt;\n",
       "    &lt;link rel=&quot;stylesheet&quot; href=&quot;https://cdnjs.cloudflare.com/ajax/libs/Leaflet.awesome-markers/2.0.2/leaflet.awesome-markers.css&quot;/&gt;\n",
       "    &lt;link rel=&quot;stylesheet&quot; href=&quot;https://cdn.jsdelivr.net/gh/python-visualization/folium/folium/templates/leaflet.awesome.rotate.min.css&quot;/&gt;\n",
       "    \n",
       "            &lt;meta name=&quot;viewport&quot; content=&quot;width=device-width,\n",
       "                initial-scale=1.0, maximum-scale=1.0, user-scalable=no&quot; /&gt;\n",
       "            &lt;style&gt;\n",
       "                #map_601b42fe52da34396379693b35c8a38b {\n",
       "                    position: relative;\n",
       "                    width: 100.0%;\n",
       "                    height: 100.0%;\n",
       "                    left: 0.0%;\n",
       "                    top: 0.0%;\n",
       "                }\n",
       "                .leaflet-container { font-size: 1rem; }\n",
       "            &lt;/style&gt;\n",
       "        \n",
       "&lt;/head&gt;\n",
       "&lt;body&gt;\n",
       "    \n",
       "    \n",
       "            &lt;div class=&quot;folium-map&quot; id=&quot;map_601b42fe52da34396379693b35c8a38b&quot; &gt;&lt;/div&gt;\n",
       "        \n",
       "&lt;/body&gt;\n",
       "&lt;script&gt;\n",
       "    \n",
       "    \n",
       "            var map_601b42fe52da34396379693b35c8a38b = L.map(\n",
       "                &quot;map_601b42fe52da34396379693b35c8a38b&quot;,\n",
       "                {\n",
       "                    center: [50.965, 13.922],\n",
       "                    crs: L.CRS.EPSG3857,\n",
       "                    zoom: 12,\n",
       "                    zoomControl: true,\n",
       "                    preferCanvas: false,\n",
       "                }\n",
       "            );\n",
       "\n",
       "            \n",
       "\n",
       "        \n",
       "    \n",
       "            var tile_layer_cdc05169a33308ef02c99bb1d3c13c2e = L.tileLayer(\n",
       "                &quot;https://{s}.basemaps.cartocdn.com/light_all/{z}/{x}/{y}{r}.png&quot;,\n",
       "                {&quot;attribution&quot;: &quot;\\u0026copy; \\u003ca href=\\&quot;https://www.openstreetmap.org/copyright\\&quot;\\u003eOpenStreetMap\\u003c/a\\u003e contributors \\u0026copy; \\u003ca href=\\&quot;https://carto.com/attributions\\&quot;\\u003eCARTO\\u003c/a\\u003e&quot;, &quot;detectRetina&quot;: false, &quot;maxNativeZoom&quot;: 20, &quot;maxZoom&quot;: 20, &quot;minZoom&quot;: 0, &quot;noWrap&quot;: false, &quot;opacity&quot;: 1, &quot;subdomains&quot;: &quot;abcd&quot;, &quot;tms&quot;: false}\n",
       "            );\n",
       "        \n",
       "    \n",
       "            tile_layer_cdc05169a33308ef02c99bb1d3c13c2e.addTo(map_601b42fe52da34396379693b35c8a38b);\n",
       "        \n",
       "    \n",
       "\n",
       "        function geo_json_47632c57ca3e23353ea5f28c5e2e36c6_onEachFeature(feature, layer) {\n",
       "            layer.on({\n",
       "            });\n",
       "        };\n",
       "        var geo_json_47632c57ca3e23353ea5f28c5e2e36c6 = L.geoJson(null, {\n",
       "                onEachFeature: geo_json_47632c57ca3e23353ea5f28c5e2e36c6_onEachFeature,\n",
       "            \n",
       "        });\n",
       "\n",
       "        function geo_json_47632c57ca3e23353ea5f28c5e2e36c6_add (data) {\n",
       "            geo_json_47632c57ca3e23353ea5f28c5e2e36c6\n",
       "                .addData(data);\n",
       "        }\n",
       "            geo_json_47632c57ca3e23353ea5f28c5e2e36c6_add({&quot;coordinates&quot;: [[13.922514437551428, 50.964720483303836], [13.925036413951403, 50.96623732041704]], &quot;type&quot;: &quot;LineString&quot;});\n",
       "\n",
       "        \n",
       "    \n",
       "            geo_json_47632c57ca3e23353ea5f28c5e2e36c6.addTo(map_601b42fe52da34396379693b35c8a38b);\n",
       "        \n",
       "    \n",
       "\n",
       "        function geo_json_745df45f4400d30f89837a00b8669bd5_onEachFeature(feature, layer) {\n",
       "            layer.on({\n",
       "            });\n",
       "        };\n",
       "        var geo_json_745df45f4400d30f89837a00b8669bd5 = L.geoJson(null, {\n",
       "                onEachFeature: geo_json_745df45f4400d30f89837a00b8669bd5_onEachFeature,\n",
       "            \n",
       "        });\n",
       "\n",
       "        function geo_json_745df45f4400d30f89837a00b8669bd5_add (data) {\n",
       "            geo_json_745df45f4400d30f89837a00b8669bd5\n",
       "                .addData(data);\n",
       "        }\n",
       "            geo_json_745df45f4400d30f89837a00b8669bd5_add({&quot;coordinates&quot;: [13.9226, 50.9661], &quot;type&quot;: &quot;Point&quot;});\n",
       "\n",
       "        \n",
       "    \n",
       "            geo_json_745df45f4400d30f89837a00b8669bd5.addTo(map_601b42fe52da34396379693b35c8a38b);\n",
       "        \n",
       "    \n",
       "\n",
       "        function geo_json_cb419ca61ba4413b062b0b1a64b83f81_onEachFeature(feature, layer) {\n",
       "            layer.on({\n",
       "            });\n",
       "        };\n",
       "        var geo_json_cb419ca61ba4413b062b0b1a64b83f81 = L.geoJson(null, {\n",
       "                onEachFeature: geo_json_cb419ca61ba4413b062b0b1a64b83f81_onEachFeature,\n",
       "            \n",
       "        });\n",
       "\n",
       "        function geo_json_cb419ca61ba4413b062b0b1a64b83f81_add (data) {\n",
       "            geo_json_cb419ca61ba4413b062b0b1a64b83f81\n",
       "                .addData(data);\n",
       "        }\n",
       "            geo_json_cb419ca61ba4413b062b0b1a64b83f81_add({&quot;coordinates&quot;: [13.923186570327204, 50.96512473607135], &quot;type&quot;: &quot;Point&quot;});\n",
       "\n",
       "        \n",
       "    \n",
       "            geo_json_cb419ca61ba4413b062b0b1a64b83f81.addTo(map_601b42fe52da34396379693b35c8a38b);\n",
       "        \n",
       "    \n",
       "            map_601b42fe52da34396379693b35c8a38b.fitBounds(\n",
       "                [[50.964720483303836, 13.922514437551428], [50.96623732041704, 13.925036413951403]],\n",
       "                {}\n",
       "            );\n",
       "        \n",
       "&lt;/script&gt;\n",
       "&lt;/html&gt;\" style=\"position:absolute;width:100%;height:100%;left:0;top:0;border:none !important;\" allowfullscreen webkitallowfullscreen mozallowfullscreen></iframe></div></div>"
      ],
      "text/plain": [
       "<folium.folium.Map at 0x104755d00>"
      ]
     },
     "execution_count": 3,
     "metadata": {},
     "output_type": "execute_result"
    }
   ],
   "source": [
    "import folium\n",
    "\n",
    "m = folium.Map(tiles=\"cartodbpositron\", crs=\"EPSG3857\", zoom_start=12, location=[50.965, 13.922])\n",
    "m.add_child(folium.GeoJson(line.as_geojson()))\n",
    "m.add_child(folium.GeoJson(point.as_geojson()))\n",
    "m.add_child(folium.GeoJson(nearest_point.as_geojson()))\n",
    "\n",
    "m.fit_bounds(m.get_bounds())\n",
    "m"
   ]
  },
  {
   "cell_type": "markdown",
   "id": "8d308845e05fbdbc",
   "metadata": {
    "papermill": {
     "duration": 0.001212,
     "end_time": "2024-06-17T21:07:49.052853",
     "exception": false,
     "start_time": "2024-06-17T21:07:49.051641",
     "status": "completed"
    },
    "tags": []
   },
   "source": [
    "## Calculate the nearest point on a line for an arbitrary point with Shapely nearest_points function"
   ]
  },
  {
   "cell_type": "code",
   "execution_count": 4,
   "id": "244bf8b386deca17",
   "metadata": {
    "ExecuteTime": {
     "end_time": "2024-06-07T08:19:51.250310Z",
     "start_time": "2024-06-07T08:19:51.247256Z"
    },
    "execution": {
     "iopub.execute_input": "2024-06-17T21:07:49.055898Z",
     "iopub.status.busy": "2024-06-17T21:07:49.055737Z",
     "iopub.status.idle": "2024-06-17T21:07:49.059146Z",
     "shell.execute_reply": "2024-06-17T21:07:49.058906Z"
    },
    "papermill": {
     "duration": 0.005755,
     "end_time": "2024-06-17T21:07:49.059876",
     "exception": false,
     "start_time": "2024-06-17T21:07:49.054121",
     "status": "completed"
    },
    "tags": []
   },
   "outputs": [
    {
     "data": {
      "text/plain": [
       "(<POINT (13.923 50.965)>, <POINT (13.923 50.966)>)"
      ]
     },
     "execution_count": 4,
     "metadata": {},
     "output_type": "execute_result"
    }
   ],
   "source": [
    "from shapely.geometry import LineString as ShapelyLineString, Point as ShapelyPoint\n",
    "from shapely.ops import nearest_points\n",
    "from morpheus.project.types.geometry import Point\n",
    "\n",
    "shapely_line = ShapelyLineString(line.coordinates)\n",
    "shapely_point = ShapelyPoint(point.coordinates)\n",
    "nearest_points = nearest_points(shapely_line, shapely_point)\n",
    "nearest_points"
   ]
  },
  {
   "cell_type": "code",
   "execution_count": 5,
   "id": "7d28fcc1cfd90668",
   "metadata": {
    "ExecuteTime": {
     "end_time": "2024-06-07T08:19:51.253939Z",
     "start_time": "2024-06-07T08:19:51.251675Z"
    },
    "execution": {
     "iopub.execute_input": "2024-06-17T21:07:49.062984Z",
     "iopub.status.busy": "2024-06-17T21:07:49.062871Z",
     "iopub.status.idle": "2024-06-17T21:07:49.064583Z",
     "shell.execute_reply": "2024-06-17T21:07:49.064368Z"
    },
    "papermill": {
     "duration": 0.004173,
     "end_time": "2024-06-17T21:07:49.065349",
     "exception": false,
     "start_time": "2024-06-17T21:07:49.061176",
     "status": "completed"
    },
    "tags": []
   },
   "outputs": [],
   "source": [
    "from morpheus.project.types.geometry import Point\n",
    "nearest_shapely_point_on_linestring = nearest_points[0] \n",
    "nearest_point = Point.from_dict({\n",
    "  \"type\": \"Point\",\n",
    "  \"coordinates\": [nearest_shapely_point_on_linestring.x, nearest_shapely_point_on_linestring.y]\n",
    "})"
   ]
  },
  {
   "cell_type": "code",
   "execution_count": 6,
   "id": "45b04c9a6449437b",
   "metadata": {
    "ExecuteTime": {
     "end_time": "2024-06-07T08:19:51.265313Z",
     "start_time": "2024-06-07T08:19:51.254759Z"
    },
    "execution": {
     "iopub.execute_input": "2024-06-17T21:07:49.068389Z",
     "iopub.status.busy": "2024-06-17T21:07:49.068289Z",
     "iopub.status.idle": "2024-06-17T21:07:49.076894Z",
     "shell.execute_reply": "2024-06-17T21:07:49.076648Z"
    },
    "papermill": {
     "duration": 0.011025,
     "end_time": "2024-06-17T21:07:49.077661",
     "exception": false,
     "start_time": "2024-06-17T21:07:49.066636",
     "status": "completed"
    },
    "tags": []
   },
   "outputs": [
    {
     "data": {
      "text/html": [
       "<div style=\"width:100%;\"><div style=\"position:relative;width:100%;height:0;padding-bottom:60%;\"><span style=\"color:#565656\">Make this Notebook Trusted to load map: File -> Trust Notebook</span><iframe srcdoc=\"&lt;!DOCTYPE html&gt;\n",
       "&lt;html&gt;\n",
       "&lt;head&gt;\n",
       "    \n",
       "    &lt;meta http-equiv=&quot;content-type&quot; content=&quot;text/html; charset=UTF-8&quot; /&gt;\n",
       "    \n",
       "        &lt;script&gt;\n",
       "            L_NO_TOUCH = false;\n",
       "            L_DISABLE_3D = false;\n",
       "        &lt;/script&gt;\n",
       "    \n",
       "    &lt;style&gt;html, body {width: 100%;height: 100%;margin: 0;padding: 0;}&lt;/style&gt;\n",
       "    &lt;style&gt;#map {position:absolute;top:0;bottom:0;right:0;left:0;}&lt;/style&gt;\n",
       "    &lt;script src=&quot;https://cdn.jsdelivr.net/npm/leaflet@1.9.3/dist/leaflet.js&quot;&gt;&lt;/script&gt;\n",
       "    &lt;script src=&quot;https://code.jquery.com/jquery-3.7.1.min.js&quot;&gt;&lt;/script&gt;\n",
       "    &lt;script src=&quot;https://cdn.jsdelivr.net/npm/bootstrap@5.2.2/dist/js/bootstrap.bundle.min.js&quot;&gt;&lt;/script&gt;\n",
       "    &lt;script src=&quot;https://cdnjs.cloudflare.com/ajax/libs/Leaflet.awesome-markers/2.0.2/leaflet.awesome-markers.js&quot;&gt;&lt;/script&gt;\n",
       "    &lt;link rel=&quot;stylesheet&quot; href=&quot;https://cdn.jsdelivr.net/npm/leaflet@1.9.3/dist/leaflet.css&quot;/&gt;\n",
       "    &lt;link rel=&quot;stylesheet&quot; href=&quot;https://cdn.jsdelivr.net/npm/bootstrap@5.2.2/dist/css/bootstrap.min.css&quot;/&gt;\n",
       "    &lt;link rel=&quot;stylesheet&quot; href=&quot;https://netdna.bootstrapcdn.com/bootstrap/3.0.0/css/bootstrap.min.css&quot;/&gt;\n",
       "    &lt;link rel=&quot;stylesheet&quot; href=&quot;https://cdn.jsdelivr.net/npm/@fortawesome/fontawesome-free@6.2.0/css/all.min.css&quot;/&gt;\n",
       "    &lt;link rel=&quot;stylesheet&quot; href=&quot;https://cdnjs.cloudflare.com/ajax/libs/Leaflet.awesome-markers/2.0.2/leaflet.awesome-markers.css&quot;/&gt;\n",
       "    &lt;link rel=&quot;stylesheet&quot; href=&quot;https://cdn.jsdelivr.net/gh/python-visualization/folium/folium/templates/leaflet.awesome.rotate.min.css&quot;/&gt;\n",
       "    \n",
       "            &lt;meta name=&quot;viewport&quot; content=&quot;width=device-width,\n",
       "                initial-scale=1.0, maximum-scale=1.0, user-scalable=no&quot; /&gt;\n",
       "            &lt;style&gt;\n",
       "                #map_80e145ad0ca836eeb6b40aace29169a8 {\n",
       "                    position: relative;\n",
       "                    width: 100.0%;\n",
       "                    height: 100.0%;\n",
       "                    left: 0.0%;\n",
       "                    top: 0.0%;\n",
       "                }\n",
       "                .leaflet-container { font-size: 1rem; }\n",
       "            &lt;/style&gt;\n",
       "        \n",
       "&lt;/head&gt;\n",
       "&lt;body&gt;\n",
       "    \n",
       "    \n",
       "            &lt;div class=&quot;folium-map&quot; id=&quot;map_80e145ad0ca836eeb6b40aace29169a8&quot; &gt;&lt;/div&gt;\n",
       "        \n",
       "&lt;/body&gt;\n",
       "&lt;script&gt;\n",
       "    \n",
       "    \n",
       "            var map_80e145ad0ca836eeb6b40aace29169a8 = L.map(\n",
       "                &quot;map_80e145ad0ca836eeb6b40aace29169a8&quot;,\n",
       "                {\n",
       "                    center: [50.965, 13.922],\n",
       "                    crs: L.CRS.EPSG3857,\n",
       "                    zoom: 12,\n",
       "                    zoomControl: true,\n",
       "                    preferCanvas: false,\n",
       "                }\n",
       "            );\n",
       "\n",
       "            \n",
       "\n",
       "        \n",
       "    \n",
       "            var tile_layer_51b79aedd16305d7bb77c6fa91b0224b = L.tileLayer(\n",
       "                &quot;https://{s}.basemaps.cartocdn.com/light_all/{z}/{x}/{y}{r}.png&quot;,\n",
       "                {&quot;attribution&quot;: &quot;\\u0026copy; \\u003ca href=\\&quot;https://www.openstreetmap.org/copyright\\&quot;\\u003eOpenStreetMap\\u003c/a\\u003e contributors \\u0026copy; \\u003ca href=\\&quot;https://carto.com/attributions\\&quot;\\u003eCARTO\\u003c/a\\u003e&quot;, &quot;detectRetina&quot;: false, &quot;maxNativeZoom&quot;: 20, &quot;maxZoom&quot;: 20, &quot;minZoom&quot;: 0, &quot;noWrap&quot;: false, &quot;opacity&quot;: 1, &quot;subdomains&quot;: &quot;abcd&quot;, &quot;tms&quot;: false}\n",
       "            );\n",
       "        \n",
       "    \n",
       "            tile_layer_51b79aedd16305d7bb77c6fa91b0224b.addTo(map_80e145ad0ca836eeb6b40aace29169a8);\n",
       "        \n",
       "    \n",
       "\n",
       "        function geo_json_d85f39585986f10977350f24fe6779fc_onEachFeature(feature, layer) {\n",
       "            layer.on({\n",
       "            });\n",
       "        };\n",
       "        var geo_json_d85f39585986f10977350f24fe6779fc = L.geoJson(null, {\n",
       "                onEachFeature: geo_json_d85f39585986f10977350f24fe6779fc_onEachFeature,\n",
       "            \n",
       "        });\n",
       "\n",
       "        function geo_json_d85f39585986f10977350f24fe6779fc_add (data) {\n",
       "            geo_json_d85f39585986f10977350f24fe6779fc\n",
       "                .addData(data);\n",
       "        }\n",
       "            geo_json_d85f39585986f10977350f24fe6779fc_add({&quot;coordinates&quot;: [[13.922514437551428, 50.964720483303836], [13.925036413951403, 50.96623732041704]], &quot;type&quot;: &quot;LineString&quot;});\n",
       "\n",
       "        \n",
       "    \n",
       "            geo_json_d85f39585986f10977350f24fe6779fc.addTo(map_80e145ad0ca836eeb6b40aace29169a8);\n",
       "        \n",
       "    \n",
       "\n",
       "        function geo_json_e7f86d2100532ba4d6f9ce831e8a079b_onEachFeature(feature, layer) {\n",
       "            layer.on({\n",
       "            });\n",
       "        };\n",
       "        var geo_json_e7f86d2100532ba4d6f9ce831e8a079b = L.geoJson(null, {\n",
       "                onEachFeature: geo_json_e7f86d2100532ba4d6f9ce831e8a079b_onEachFeature,\n",
       "            \n",
       "        });\n",
       "\n",
       "        function geo_json_e7f86d2100532ba4d6f9ce831e8a079b_add (data) {\n",
       "            geo_json_e7f86d2100532ba4d6f9ce831e8a079b\n",
       "                .addData(data);\n",
       "        }\n",
       "            geo_json_e7f86d2100532ba4d6f9ce831e8a079b_add({&quot;coordinates&quot;: [13.9226, 50.9661], &quot;type&quot;: &quot;Point&quot;});\n",
       "\n",
       "        \n",
       "    \n",
       "            geo_json_e7f86d2100532ba4d6f9ce831e8a079b.addTo(map_80e145ad0ca836eeb6b40aace29169a8);\n",
       "        \n",
       "    \n",
       "\n",
       "        function geo_json_20d15894d1227180896dd2f1067dc04f_onEachFeature(feature, layer) {\n",
       "            layer.on({\n",
       "            });\n",
       "        };\n",
       "        var geo_json_20d15894d1227180896dd2f1067dc04f = L.geoJson(null, {\n",
       "                onEachFeature: geo_json_20d15894d1227180896dd2f1067dc04f_onEachFeature,\n",
       "            \n",
       "        });\n",
       "\n",
       "        function geo_json_20d15894d1227180896dd2f1067dc04f_add (data) {\n",
       "            geo_json_20d15894d1227180896dd2f1067dc04f\n",
       "                .addData(data);\n",
       "        }\n",
       "            geo_json_20d15894d1227180896dd2f1067dc04f_add({&quot;coordinates&quot;: [13.923186570327204, 50.96512473607135], &quot;type&quot;: &quot;Point&quot;});\n",
       "\n",
       "        \n",
       "    \n",
       "            geo_json_20d15894d1227180896dd2f1067dc04f.addTo(map_80e145ad0ca836eeb6b40aace29169a8);\n",
       "        \n",
       "    \n",
       "            map_80e145ad0ca836eeb6b40aace29169a8.fitBounds(\n",
       "                [[50.964720483303836, 13.922514437551428], [50.96623732041704, 13.925036413951403]],\n",
       "                {}\n",
       "            );\n",
       "        \n",
       "&lt;/script&gt;\n",
       "&lt;/html&gt;\" style=\"position:absolute;width:100%;height:100%;left:0;top:0;border:none !important;\" allowfullscreen webkitallowfullscreen mozallowfullscreen></iframe></div></div>"
      ],
      "text/plain": [
       "<folium.folium.Map at 0x124b634a0>"
      ]
     },
     "execution_count": 6,
     "metadata": {},
     "output_type": "execute_result"
    }
   ],
   "source": [
    "m = folium.Map(tiles=\"cartodbpositron\", crs=\"EPSG3857\", zoom_start=12, location=[50.965, 13.922])\n",
    "m.add_child(folium.GeoJson(line.as_geojson()))\n",
    "m.add_child(folium.GeoJson(point.as_geojson()))\n",
    "m.add_child(folium.GeoJson(nearest_point.as_geojson()))\n",
    "m.fit_bounds(m.get_bounds())\n",
    "m"
   ]
  },
  {
   "cell_type": "markdown",
   "id": "31ef0a164a81f162",
   "metadata": {
    "papermill": {
     "duration": 0.001378,
     "end_time": "2024-06-17T21:07:49.080539",
     "exception": false,
     "start_time": "2024-06-17T21:07:49.079161",
     "status": "completed"
    },
    "tags": []
   },
   "source": [
    "## Calculate the nearest point on a line for an arbitrary point with Shapely project function"
   ]
  },
  {
   "cell_type": "code",
   "execution_count": 7,
   "id": "baf9e6f08177b1ac",
   "metadata": {
    "ExecuteTime": {
     "end_time": "2024-06-07T08:19:51.268578Z",
     "start_time": "2024-06-07T08:19:51.266151Z"
    },
    "execution": {
     "iopub.execute_input": "2024-06-17T21:07:49.083877Z",
     "iopub.status.busy": "2024-06-17T21:07:49.083757Z",
     "iopub.status.idle": "2024-06-17T21:07:49.085819Z",
     "shell.execute_reply": "2024-06-17T21:07:49.085591Z"
    },
    "papermill": {
     "duration": 0.004705,
     "end_time": "2024-06-17T21:07:49.086596",
     "exception": false,
     "start_time": "2024-06-17T21:07:49.081891",
     "status": "completed"
    },
    "tags": []
   },
   "outputs": [],
   "source": [
    "shapely_line = ShapelyLineString(line.coordinates)\n",
    "shapely_point = ShapelyPoint(point.coordinates)\n",
    "nearest_shapely_point_on_linestring = shapely_line.interpolate(shapely_line.project(shapely_point))\n",
    "\n",
    "nearest_point = Point.from_dict({\n",
    "  \"type\": \"Point\",\n",
    "  \"coordinates\": [nearest_shapely_point_on_linestring.x, nearest_shapely_point_on_linestring.y]\n",
    "})"
   ]
  },
  {
   "cell_type": "code",
   "execution_count": 8,
   "id": "fd5dc602e0a8ceb3",
   "metadata": {
    "ExecuteTime": {
     "end_time": "2024-06-07T08:19:51.279301Z",
     "start_time": "2024-06-07T08:19:51.269303Z"
    },
    "execution": {
     "iopub.execute_input": "2024-06-17T21:07:49.090502Z",
     "iopub.status.busy": "2024-06-17T21:07:49.090348Z",
     "iopub.status.idle": "2024-06-17T21:07:49.098778Z",
     "shell.execute_reply": "2024-06-17T21:07:49.098554Z"
    },
    "papermill": {
     "duration": 0.011167,
     "end_time": "2024-06-17T21:07:49.099564",
     "exception": false,
     "start_time": "2024-06-17T21:07:49.088397",
     "status": "completed"
    },
    "tags": []
   },
   "outputs": [
    {
     "data": {
      "text/html": [
       "<div style=\"width:100%;\"><div style=\"position:relative;width:100%;height:0;padding-bottom:60%;\"><span style=\"color:#565656\">Make this Notebook Trusted to load map: File -> Trust Notebook</span><iframe srcdoc=\"&lt;!DOCTYPE html&gt;\n",
       "&lt;html&gt;\n",
       "&lt;head&gt;\n",
       "    \n",
       "    &lt;meta http-equiv=&quot;content-type&quot; content=&quot;text/html; charset=UTF-8&quot; /&gt;\n",
       "    \n",
       "        &lt;script&gt;\n",
       "            L_NO_TOUCH = false;\n",
       "            L_DISABLE_3D = false;\n",
       "        &lt;/script&gt;\n",
       "    \n",
       "    &lt;style&gt;html, body {width: 100%;height: 100%;margin: 0;padding: 0;}&lt;/style&gt;\n",
       "    &lt;style&gt;#map {position:absolute;top:0;bottom:0;right:0;left:0;}&lt;/style&gt;\n",
       "    &lt;script src=&quot;https://cdn.jsdelivr.net/npm/leaflet@1.9.3/dist/leaflet.js&quot;&gt;&lt;/script&gt;\n",
       "    &lt;script src=&quot;https://code.jquery.com/jquery-3.7.1.min.js&quot;&gt;&lt;/script&gt;\n",
       "    &lt;script src=&quot;https://cdn.jsdelivr.net/npm/bootstrap@5.2.2/dist/js/bootstrap.bundle.min.js&quot;&gt;&lt;/script&gt;\n",
       "    &lt;script src=&quot;https://cdnjs.cloudflare.com/ajax/libs/Leaflet.awesome-markers/2.0.2/leaflet.awesome-markers.js&quot;&gt;&lt;/script&gt;\n",
       "    &lt;link rel=&quot;stylesheet&quot; href=&quot;https://cdn.jsdelivr.net/npm/leaflet@1.9.3/dist/leaflet.css&quot;/&gt;\n",
       "    &lt;link rel=&quot;stylesheet&quot; href=&quot;https://cdn.jsdelivr.net/npm/bootstrap@5.2.2/dist/css/bootstrap.min.css&quot;/&gt;\n",
       "    &lt;link rel=&quot;stylesheet&quot; href=&quot;https://netdna.bootstrapcdn.com/bootstrap/3.0.0/css/bootstrap.min.css&quot;/&gt;\n",
       "    &lt;link rel=&quot;stylesheet&quot; href=&quot;https://cdn.jsdelivr.net/npm/@fortawesome/fontawesome-free@6.2.0/css/all.min.css&quot;/&gt;\n",
       "    &lt;link rel=&quot;stylesheet&quot; href=&quot;https://cdnjs.cloudflare.com/ajax/libs/Leaflet.awesome-markers/2.0.2/leaflet.awesome-markers.css&quot;/&gt;\n",
       "    &lt;link rel=&quot;stylesheet&quot; href=&quot;https://cdn.jsdelivr.net/gh/python-visualization/folium/folium/templates/leaflet.awesome.rotate.min.css&quot;/&gt;\n",
       "    \n",
       "            &lt;meta name=&quot;viewport&quot; content=&quot;width=device-width,\n",
       "                initial-scale=1.0, maximum-scale=1.0, user-scalable=no&quot; /&gt;\n",
       "            &lt;style&gt;\n",
       "                #map_d2b9fb5e5a2efc8a154222ed768339c1 {\n",
       "                    position: relative;\n",
       "                    width: 100.0%;\n",
       "                    height: 100.0%;\n",
       "                    left: 0.0%;\n",
       "                    top: 0.0%;\n",
       "                }\n",
       "                .leaflet-container { font-size: 1rem; }\n",
       "            &lt;/style&gt;\n",
       "        \n",
       "&lt;/head&gt;\n",
       "&lt;body&gt;\n",
       "    \n",
       "    \n",
       "            &lt;div class=&quot;folium-map&quot; id=&quot;map_d2b9fb5e5a2efc8a154222ed768339c1&quot; &gt;&lt;/div&gt;\n",
       "        \n",
       "&lt;/body&gt;\n",
       "&lt;script&gt;\n",
       "    \n",
       "    \n",
       "            var map_d2b9fb5e5a2efc8a154222ed768339c1 = L.map(\n",
       "                &quot;map_d2b9fb5e5a2efc8a154222ed768339c1&quot;,\n",
       "                {\n",
       "                    center: [50.965, 13.922],\n",
       "                    crs: L.CRS.EPSG3857,\n",
       "                    zoom: 12,\n",
       "                    zoomControl: true,\n",
       "                    preferCanvas: false,\n",
       "                }\n",
       "            );\n",
       "\n",
       "            \n",
       "\n",
       "        \n",
       "    \n",
       "            var tile_layer_8bf3d95f9a8f0879532be0af4c8071fe = L.tileLayer(\n",
       "                &quot;https://{s}.basemaps.cartocdn.com/light_all/{z}/{x}/{y}{r}.png&quot;,\n",
       "                {&quot;attribution&quot;: &quot;\\u0026copy; \\u003ca href=\\&quot;https://www.openstreetmap.org/copyright\\&quot;\\u003eOpenStreetMap\\u003c/a\\u003e contributors \\u0026copy; \\u003ca href=\\&quot;https://carto.com/attributions\\&quot;\\u003eCARTO\\u003c/a\\u003e&quot;, &quot;detectRetina&quot;: false, &quot;maxNativeZoom&quot;: 20, &quot;maxZoom&quot;: 20, &quot;minZoom&quot;: 0, &quot;noWrap&quot;: false, &quot;opacity&quot;: 1, &quot;subdomains&quot;: &quot;abcd&quot;, &quot;tms&quot;: false}\n",
       "            );\n",
       "        \n",
       "    \n",
       "            tile_layer_8bf3d95f9a8f0879532be0af4c8071fe.addTo(map_d2b9fb5e5a2efc8a154222ed768339c1);\n",
       "        \n",
       "    \n",
       "\n",
       "        function geo_json_87c820da21bd65ae0a92ec7ce7fced07_onEachFeature(feature, layer) {\n",
       "            layer.on({\n",
       "            });\n",
       "        };\n",
       "        var geo_json_87c820da21bd65ae0a92ec7ce7fced07 = L.geoJson(null, {\n",
       "                onEachFeature: geo_json_87c820da21bd65ae0a92ec7ce7fced07_onEachFeature,\n",
       "            \n",
       "        });\n",
       "\n",
       "        function geo_json_87c820da21bd65ae0a92ec7ce7fced07_add (data) {\n",
       "            geo_json_87c820da21bd65ae0a92ec7ce7fced07\n",
       "                .addData(data);\n",
       "        }\n",
       "            geo_json_87c820da21bd65ae0a92ec7ce7fced07_add({&quot;coordinates&quot;: [[13.922514437551428, 50.964720483303836], [13.925036413951403, 50.96623732041704]], &quot;type&quot;: &quot;LineString&quot;});\n",
       "\n",
       "        \n",
       "    \n",
       "            geo_json_87c820da21bd65ae0a92ec7ce7fced07.addTo(map_d2b9fb5e5a2efc8a154222ed768339c1);\n",
       "        \n",
       "    \n",
       "\n",
       "        function geo_json_e6102cbe6b539fed12b26fbd8da29202_onEachFeature(feature, layer) {\n",
       "            layer.on({\n",
       "            });\n",
       "        };\n",
       "        var geo_json_e6102cbe6b539fed12b26fbd8da29202 = L.geoJson(null, {\n",
       "                onEachFeature: geo_json_e6102cbe6b539fed12b26fbd8da29202_onEachFeature,\n",
       "            \n",
       "        });\n",
       "\n",
       "        function geo_json_e6102cbe6b539fed12b26fbd8da29202_add (data) {\n",
       "            geo_json_e6102cbe6b539fed12b26fbd8da29202\n",
       "                .addData(data);\n",
       "        }\n",
       "            geo_json_e6102cbe6b539fed12b26fbd8da29202_add({&quot;coordinates&quot;: [13.9226, 50.9661], &quot;type&quot;: &quot;Point&quot;});\n",
       "\n",
       "        \n",
       "    \n",
       "            geo_json_e6102cbe6b539fed12b26fbd8da29202.addTo(map_d2b9fb5e5a2efc8a154222ed768339c1);\n",
       "        \n",
       "    \n",
       "\n",
       "        function geo_json_2b4927eca43b03c0ae5cab9a56915396_onEachFeature(feature, layer) {\n",
       "            layer.on({\n",
       "            });\n",
       "        };\n",
       "        var geo_json_2b4927eca43b03c0ae5cab9a56915396 = L.geoJson(null, {\n",
       "                onEachFeature: geo_json_2b4927eca43b03c0ae5cab9a56915396_onEachFeature,\n",
       "            \n",
       "        });\n",
       "\n",
       "        function geo_json_2b4927eca43b03c0ae5cab9a56915396_add (data) {\n",
       "            geo_json_2b4927eca43b03c0ae5cab9a56915396\n",
       "                .addData(data);\n",
       "        }\n",
       "            geo_json_2b4927eca43b03c0ae5cab9a56915396_add({&quot;coordinates&quot;: [13.923186570327204, 50.96512473607135], &quot;type&quot;: &quot;Point&quot;});\n",
       "\n",
       "        \n",
       "    \n",
       "            geo_json_2b4927eca43b03c0ae5cab9a56915396.addTo(map_d2b9fb5e5a2efc8a154222ed768339c1);\n",
       "        \n",
       "    \n",
       "            map_d2b9fb5e5a2efc8a154222ed768339c1.fitBounds(\n",
       "                [[50.964720483303836, 13.922514437551428], [50.96623732041704, 13.925036413951403]],\n",
       "                {}\n",
       "            );\n",
       "        \n",
       "&lt;/script&gt;\n",
       "&lt;/html&gt;\" style=\"position:absolute;width:100%;height:100%;left:0;top:0;border:none !important;\" allowfullscreen webkitallowfullscreen mozallowfullscreen></iframe></div></div>"
      ],
      "text/plain": [
       "<folium.folium.Map at 0x124bf6180>"
      ]
     },
     "execution_count": 8,
     "metadata": {},
     "output_type": "execute_result"
    }
   ],
   "source": [
    "m = folium.Map(tiles=\"cartodbpositron\", crs=\"EPSG3857\", zoom_start=12, location=[50.965, 13.922])\n",
    "m.add_child(folium.GeoJson(line.as_geojson()))\n",
    "m.add_child(folium.GeoJson(point.as_geojson()))\n",
    "m.add_child(folium.GeoJson(nearest_point.as_geojson()))\n",
    "m.fit_bounds(m.get_bounds())\n",
    "m"
   ]
  },
  {
   "cell_type": "code",
   "execution_count": null,
   "id": "2e1569d1b20ec1c9",
   "metadata": {
    "ExecuteTime": {
     "end_time": "2024-06-07T08:19:51.283186Z",
     "start_time": "2024-06-07T08:19:51.280681Z"
    },
    "papermill": {
     "duration": 0.00143,
     "end_time": "2024-06-17T21:07:49.102551",
     "exception": false,
     "start_time": "2024-06-17T21:07:49.101121",
     "status": "completed"
    },
    "tags": []
   },
   "outputs": [],
   "source": []
  }
 ],
 "metadata": {
  "kernelspec": {
   "display_name": "Python 3",
   "language": "python",
   "name": "python3"
  },
  "language_info": {
   "codemirror_mode": {
    "name": "ipython",
    "version": 3
   },
   "file_extension": ".py",
   "mimetype": "text/x-python",
   "name": "python",
   "nbconvert_exporter": "python",
   "pygments_lexer": "ipython3",
   "version": "3.12.2"
  },
  "papermill": {
   "default_parameters": {},
   "duration": 1.463467,
   "end_time": "2024-06-17T21:07:49.320218",
   "environment_variables": {},
   "exception": null,
   "input_path": "./notebooks/LineStringNearestPoint.ipynb",
   "output_path": "./notebooks/LineStringNearestPoint.ipynb",
   "parameters": {},
   "start_time": "2024-06-17T21:07:47.856751",
   "version": "2.6.0"
  }
 },
 "nbformat": 4,
 "nbformat_minor": 5
}