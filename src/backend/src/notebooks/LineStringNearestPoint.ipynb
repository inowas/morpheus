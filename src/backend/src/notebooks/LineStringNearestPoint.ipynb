{
 "cells": [
  {
   "cell_type": "code",
   "execution_count": 1,
   "id": "ba6761fae9d5e5cb",
   "metadata": {
    "ExecuteTime": {
     "end_time": "2024-06-07T08:19:50.698161Z",
     "start_time": "2024-06-07T08:19:50.693723Z"
    },
    "collapsed": false,
    "execution": {
     "iopub.execute_input": "2024-06-17T21:20:02.731228Z",
     "iopub.status.busy": "2024-06-17T21:20:02.730461Z",
     "iopub.status.idle": "2024-06-17T21:20:02.738579Z",
     "shell.execute_reply": "2024-06-17T21:20:02.737737Z"
    },
    "papermill": {
     "duration": 0.025622,
     "end_time": "2024-06-17T21:20:02.741259",
     "exception": false,
     "start_time": "2024-06-17T21:20:02.715637",
     "status": "completed"
    },
    "tags": []
   },
   "outputs": [],
   "source": [
    "import sys\n",
    "\n",
    "sys.path.insert(0, '..')"
   ]
  },
  {
   "cell_type": "markdown",
   "id": "5ede1ba5e0993dd1",
   "metadata": {
    "collapsed": false,
    "papermill": {
     "duration": 0.004446,
     "end_time": "2024-06-17T21:20:02.751331",
     "exception": false,
     "start_time": "2024-06-17T21:20:02.746885",
     "status": "completed"
    },
    "tags": []
   },
   "source": [
    "# Calculate the nearest point on a line for an arbitrary point"
   ]
  },
  {
   "cell_type": "markdown",
   "id": "90453a1d75202b2b",
   "metadata": {
    "papermill": {
     "duration": 0.002243,
     "end_time": "2024-06-17T21:20:02.756970",
     "exception": false,
     "start_time": "2024-06-17T21:20:02.754727",
     "status": "completed"
    },
    "tags": []
   },
   "source": [
    "## Final implementation test"
   ]
  },
  {
   "cell_type": "code",
   "execution_count": 2,
   "id": "2f69504ab35487aa",
   "metadata": {
    "ExecuteTime": {
     "end_time": "2024-06-07T08:19:50.821461Z",
     "start_time": "2024-06-07T08:19:50.700598Z"
    },
    "collapsed": false,
    "execution": {
     "iopub.execute_input": "2024-06-17T21:20:02.763312Z",
     "iopub.status.busy": "2024-06-17T21:20:02.762938Z",
     "iopub.status.idle": "2024-06-17T21:20:02.844529Z",
     "shell.execute_reply": "2024-06-17T21:20:02.843658Z"
    },
    "papermill": {
     "duration": 0.087863,
     "end_time": "2024-06-17T21:20:02.847218",
     "exception": false,
     "start_time": "2024-06-17T21:20:02.759355",
     "status": "completed"
    },
    "tags": []
   },
   "outputs": [],
   "source": [
    "from morpheus.project.types.geometry import Point, LineString\n",
    "\n",
    "line = LineString.from_dict({\n",
    "  \"type\": \"LineString\",\n",
    "  \"coordinates\": [(13.922514437551428, 50.964720483303836), (13.925036413951403, 50.96623732041704)]\n",
    "})\n",
    "\n",
    "point = Point.from_dict({\n",
    "  \"type\": \"Point\",\n",
    "  \"coordinates\": [13.9226, 50.9661]\n",
    "})\n",
    "\n",
    "nearest_point = line.nearest_point(point)"
   ]
  },
  {
   "cell_type": "code",
   "execution_count": 3,
   "id": "1540b870ae83f298",
   "metadata": {
    "ExecuteTime": {
     "end_time": "2024-06-07T08:19:51.246585Z",
     "start_time": "2024-06-07T08:19:50.827185Z"
    },
    "collapsed": false,
    "execution": {
     "iopub.execute_input": "2024-06-17T21:20:02.856921Z",
     "iopub.status.busy": "2024-06-17T21:20:02.856331Z",
     "iopub.status.idle": "2024-06-17T21:20:03.218398Z",
     "shell.execute_reply": "2024-06-17T21:20:03.218114Z"
    },
    "papermill": {
     "duration": 0.368053,
     "end_time": "2024-06-17T21:20:03.219255",
     "exception": false,
     "start_time": "2024-06-17T21:20:02.851202",
     "status": "completed"
    },
    "tags": []
   },
   "outputs": [
    {
     "data": {
      "text/html": [
       "<div style=\"width:100%;\"><div style=\"position:relative;width:100%;height:0;padding-bottom:60%;\"><span style=\"color:#565656\">Make this Notebook Trusted to load map: File -> Trust Notebook</span><iframe srcdoc=\"&lt;!DOCTYPE html&gt;\n",
       "&lt;html&gt;\n",
       "&lt;head&gt;\n",
       "    \n",
       "    &lt;meta http-equiv=&quot;content-type&quot; content=&quot;text/html; charset=UTF-8&quot; /&gt;\n",
       "    \n",
       "        &lt;script&gt;\n",
       "            L_NO_TOUCH = false;\n",
       "            L_DISABLE_3D = false;\n",
       "        &lt;/script&gt;\n",
       "    \n",
       "    &lt;style&gt;html, body {width: 100%;height: 100%;margin: 0;padding: 0;}&lt;/style&gt;\n",
       "    &lt;style&gt;#map {position:absolute;top:0;bottom:0;right:0;left:0;}&lt;/style&gt;\n",
       "    &lt;script src=&quot;https://cdn.jsdelivr.net/npm/leaflet@1.9.3/dist/leaflet.js&quot;&gt;&lt;/script&gt;\n",
       "    &lt;script src=&quot;https://code.jquery.com/jquery-3.7.1.min.js&quot;&gt;&lt;/script&gt;\n",
       "    &lt;script src=&quot;https://cdn.jsdelivr.net/npm/bootstrap@5.2.2/dist/js/bootstrap.bundle.min.js&quot;&gt;&lt;/script&gt;\n",
       "    &lt;script src=&quot;https://cdnjs.cloudflare.com/ajax/libs/Leaflet.awesome-markers/2.0.2/leaflet.awesome-markers.js&quot;&gt;&lt;/script&gt;\n",
       "    &lt;link rel=&quot;stylesheet&quot; href=&quot;https://cdn.jsdelivr.net/npm/leaflet@1.9.3/dist/leaflet.css&quot;/&gt;\n",
       "    &lt;link rel=&quot;stylesheet&quot; href=&quot;https://cdn.jsdelivr.net/npm/bootstrap@5.2.2/dist/css/bootstrap.min.css&quot;/&gt;\n",
       "    &lt;link rel=&quot;stylesheet&quot; href=&quot;https://netdna.bootstrapcdn.com/bootstrap/3.0.0/css/bootstrap.min.css&quot;/&gt;\n",
       "    &lt;link rel=&quot;stylesheet&quot; href=&quot;https://cdn.jsdelivr.net/npm/@fortawesome/fontawesome-free@6.2.0/css/all.min.css&quot;/&gt;\n",
       "    &lt;link rel=&quot;stylesheet&quot; href=&quot;https://cdnjs.cloudflare.com/ajax/libs/Leaflet.awesome-markers/2.0.2/leaflet.awesome-markers.css&quot;/&gt;\n",
       "    &lt;link rel=&quot;stylesheet&quot; href=&quot;https://cdn.jsdelivr.net/gh/python-visualization/folium/folium/templates/leaflet.awesome.rotate.min.css&quot;/&gt;\n",
       "    \n",
       "            &lt;meta name=&quot;viewport&quot; content=&quot;width=device-width,\n",
       "                initial-scale=1.0, maximum-scale=1.0, user-scalable=no&quot; /&gt;\n",
       "            &lt;style&gt;\n",
       "                #map_cafc22f6f18fb22b5e4bfca0fb7eb601 {\n",
       "                    position: relative;\n",
       "                    width: 100.0%;\n",
       "                    height: 100.0%;\n",
       "                    left: 0.0%;\n",
       "                    top: 0.0%;\n",
       "                }\n",
       "                .leaflet-container { font-size: 1rem; }\n",
       "            &lt;/style&gt;\n",
       "        \n",
       "&lt;/head&gt;\n",
       "&lt;body&gt;\n",
       "    \n",
       "    \n",
       "            &lt;div class=&quot;folium-map&quot; id=&quot;map_cafc22f6f18fb22b5e4bfca0fb7eb601&quot; &gt;&lt;/div&gt;\n",
       "        \n",
       "&lt;/body&gt;\n",
       "&lt;script&gt;\n",
       "    \n",
       "    \n",
       "            var map_cafc22f6f18fb22b5e4bfca0fb7eb601 = L.map(\n",
       "                &quot;map_cafc22f6f18fb22b5e4bfca0fb7eb601&quot;,\n",
       "                {\n",
       "                    center: [50.965, 13.922],\n",
       "                    crs: L.CRS.EPSG3857,\n",
       "                    zoom: 12,\n",
       "                    zoomControl: true,\n",
       "                    preferCanvas: false,\n",
       "                }\n",
       "            );\n",
       "\n",
       "            \n",
       "\n",
       "        \n",
       "    \n",
       "            var tile_layer_cb7a9a7e0123e385ecd5f694df408899 = L.tileLayer(\n",
       "                &quot;https://{s}.basemaps.cartocdn.com/light_all/{z}/{x}/{y}{r}.png&quot;,\n",
       "                {&quot;attribution&quot;: &quot;\\u0026copy; \\u003ca href=\\&quot;https://www.openstreetmap.org/copyright\\&quot;\\u003eOpenStreetMap\\u003c/a\\u003e contributors \\u0026copy; \\u003ca href=\\&quot;https://carto.com/attributions\\&quot;\\u003eCARTO\\u003c/a\\u003e&quot;, &quot;detectRetina&quot;: false, &quot;maxNativeZoom&quot;: 20, &quot;maxZoom&quot;: 20, &quot;minZoom&quot;: 0, &quot;noWrap&quot;: false, &quot;opacity&quot;: 1, &quot;subdomains&quot;: &quot;abcd&quot;, &quot;tms&quot;: false}\n",
       "            );\n",
       "        \n",
       "    \n",
       "            tile_layer_cb7a9a7e0123e385ecd5f694df408899.addTo(map_cafc22f6f18fb22b5e4bfca0fb7eb601);\n",
       "        \n",
       "    \n",
       "\n",
       "        function geo_json_9b6246e96586e05ec270c4e6a3e71376_onEachFeature(feature, layer) {\n",
       "            layer.on({\n",
       "            });\n",
       "        };\n",
       "        var geo_json_9b6246e96586e05ec270c4e6a3e71376 = L.geoJson(null, {\n",
       "                onEachFeature: geo_json_9b6246e96586e05ec270c4e6a3e71376_onEachFeature,\n",
       "            \n",
       "        });\n",
       "\n",
       "        function geo_json_9b6246e96586e05ec270c4e6a3e71376_add (data) {\n",
       "            geo_json_9b6246e96586e05ec270c4e6a3e71376\n",
       "                .addData(data);\n",
       "        }\n",
       "            geo_json_9b6246e96586e05ec270c4e6a3e71376_add({&quot;coordinates&quot;: [[13.922514437551428, 50.964720483303836], [13.925036413951403, 50.96623732041704]], &quot;type&quot;: &quot;LineString&quot;});\n",
       "\n",
       "        \n",
       "    \n",
       "            geo_json_9b6246e96586e05ec270c4e6a3e71376.addTo(map_cafc22f6f18fb22b5e4bfca0fb7eb601);\n",
       "        \n",
       "    \n",
       "\n",
       "        function geo_json_c90cb9e63fcafe73bf5e4063710692e6_onEachFeature(feature, layer) {\n",
       "            layer.on({\n",
       "            });\n",
       "        };\n",
       "        var geo_json_c90cb9e63fcafe73bf5e4063710692e6 = L.geoJson(null, {\n",
       "                onEachFeature: geo_json_c90cb9e63fcafe73bf5e4063710692e6_onEachFeature,\n",
       "            \n",
       "        });\n",
       "\n",
       "        function geo_json_c90cb9e63fcafe73bf5e4063710692e6_add (data) {\n",
       "            geo_json_c90cb9e63fcafe73bf5e4063710692e6\n",
       "                .addData(data);\n",
       "        }\n",
       "            geo_json_c90cb9e63fcafe73bf5e4063710692e6_add({&quot;coordinates&quot;: [13.9226, 50.9661], &quot;type&quot;: &quot;Point&quot;});\n",
       "\n",
       "        \n",
       "    \n",
       "            geo_json_c90cb9e63fcafe73bf5e4063710692e6.addTo(map_cafc22f6f18fb22b5e4bfca0fb7eb601);\n",
       "        \n",
       "    \n",
       "\n",
       "        function geo_json_80a4e7cdfb6ac71c78abcd9116376264_onEachFeature(feature, layer) {\n",
       "            layer.on({\n",
       "            });\n",
       "        };\n",
       "        var geo_json_80a4e7cdfb6ac71c78abcd9116376264 = L.geoJson(null, {\n",
       "                onEachFeature: geo_json_80a4e7cdfb6ac71c78abcd9116376264_onEachFeature,\n",
       "            \n",
       "        });\n",
       "\n",
       "        function geo_json_80a4e7cdfb6ac71c78abcd9116376264_add (data) {\n",
       "            geo_json_80a4e7cdfb6ac71c78abcd9116376264\n",
       "                .addData(data);\n",
       "        }\n",
       "            geo_json_80a4e7cdfb6ac71c78abcd9116376264_add({&quot;coordinates&quot;: [13.923186570327204, 50.96512473607135], &quot;type&quot;: &quot;Point&quot;});\n",
       "\n",
       "        \n",
       "    \n",
       "            geo_json_80a4e7cdfb6ac71c78abcd9116376264.addTo(map_cafc22f6f18fb22b5e4bfca0fb7eb601);\n",
       "        \n",
       "    \n",
       "            map_cafc22f6f18fb22b5e4bfca0fb7eb601.fitBounds(\n",
       "                [[50.964720483303836, 13.922514437551428], [50.96623732041704, 13.925036413951403]],\n",
       "                {}\n",
       "            );\n",
       "        \n",
       "&lt;/script&gt;\n",
       "&lt;/html&gt;\" style=\"position:absolute;width:100%;height:100%;left:0;top:0;border:none !important;\" allowfullscreen webkitallowfullscreen mozallowfullscreen></iframe></div></div>"
      ],
      "text/plain": [
       "<folium.folium.Map at 0x10676bb60>"
      ]
     },
     "execution_count": 3,
     "metadata": {},
     "output_type": "execute_result"
    }
   ],
   "source": [
    "import folium\n",
    "\n",
    "m = folium.Map(tiles=\"cartodbpositron\", crs=\"EPSG3857\", zoom_start=12, location=[50.965, 13.922])\n",
    "m.add_child(folium.GeoJson(line.as_geojson()))\n",
    "m.add_child(folium.GeoJson(point.as_geojson()))\n",
    "m.add_child(folium.GeoJson(nearest_point.as_geojson()))\n",
    "\n",
    "m.fit_bounds(m.get_bounds())\n",
    "m"
   ]
  },
  {
   "cell_type": "markdown",
   "id": "8d308845e05fbdbc",
   "metadata": {
    "papermill": {
     "duration": 0.001189,
     "end_time": "2024-06-17T21:20:03.221920",
     "exception": false,
     "start_time": "2024-06-17T21:20:03.220731",
     "status": "completed"
    },
    "tags": []
   },
   "source": [
    "## Calculate the nearest point on a line for an arbitrary point with Shapely nearest_points function"
   ]
  },
  {
   "cell_type": "code",
   "execution_count": 4,
   "id": "244bf8b386deca17",
   "metadata": {
    "ExecuteTime": {
     "end_time": "2024-06-07T08:19:51.250310Z",
     "start_time": "2024-06-07T08:19:51.247256Z"
    },
    "execution": {
     "iopub.execute_input": "2024-06-17T21:20:03.224960Z",
     "iopub.status.busy": "2024-06-17T21:20:03.224808Z",
     "iopub.status.idle": "2024-06-17T21:20:03.228222Z",
     "shell.execute_reply": "2024-06-17T21:20:03.228011Z"
    },
    "papermill": {
     "duration": 0.00579,
     "end_time": "2024-06-17T21:20:03.228976",
     "exception": false,
     "start_time": "2024-06-17T21:20:03.223186",
     "status": "completed"
    },
    "tags": []
   },
   "outputs": [
    {
     "data": {
      "text/plain": [
       "(<POINT (13.923 50.965)>, <POINT (13.923 50.966)>)"
      ]
     },
     "execution_count": 4,
     "metadata": {},
     "output_type": "execute_result"
    }
   ],
   "source": [
    "from shapely.geometry import LineString as ShapelyLineString, Point as ShapelyPoint\n",
    "from shapely.ops import nearest_points\n",
    "from morpheus.project.types.geometry import Point\n",
    "\n",
    "shapely_line = ShapelyLineString(line.coordinates)\n",
    "shapely_point = ShapelyPoint(point.coordinates)\n",
    "nearest_points = nearest_points(shapely_line, shapely_point)\n",
    "nearest_points"
   ]
  },
  {
   "cell_type": "code",
   "execution_count": 5,
   "id": "7d28fcc1cfd90668",
   "metadata": {
    "ExecuteTime": {
     "end_time": "2024-06-07T08:19:51.253939Z",
     "start_time": "2024-06-07T08:19:51.251675Z"
    },
    "execution": {
     "iopub.execute_input": "2024-06-17T21:20:03.232001Z",
     "iopub.status.busy": "2024-06-17T21:20:03.231895Z",
     "iopub.status.idle": "2024-06-17T21:20:03.233611Z",
     "shell.execute_reply": "2024-06-17T21:20:03.233395Z"
    },
    "papermill": {
     "duration": 0.004059,
     "end_time": "2024-06-17T21:20:03.234333",
     "exception": false,
     "start_time": "2024-06-17T21:20:03.230274",
     "status": "completed"
    },
    "tags": []
   },
   "outputs": [],
   "source": [
    "from morpheus.project.types.geometry import Point\n",
    "nearest_shapely_point_on_linestring = nearest_points[0] \n",
    "nearest_point = Point.from_dict({\n",
    "  \"type\": \"Point\",\n",
    "  \"coordinates\": [nearest_shapely_point_on_linestring.x, nearest_shapely_point_on_linestring.y]\n",
    "})"
   ]
  },
  {
   "cell_type": "code",
   "execution_count": 6,
   "id": "45b04c9a6449437b",
   "metadata": {
    "ExecuteTime": {
     "end_time": "2024-06-07T08:19:51.265313Z",
     "start_time": "2024-06-07T08:19:51.254759Z"
    },
    "execution": {
     "iopub.execute_input": "2024-06-17T21:20:03.237507Z",
     "iopub.status.busy": "2024-06-17T21:20:03.237400Z",
     "iopub.status.idle": "2024-06-17T21:20:03.246142Z",
     "shell.execute_reply": "2024-06-17T21:20:03.245886Z"
    },
    "papermill": {
     "duration": 0.011215,
     "end_time": "2024-06-17T21:20:03.246936",
     "exception": false,
     "start_time": "2024-06-17T21:20:03.235721",
     "status": "completed"
    },
    "tags": []
   },
   "outputs": [
    {
     "data": {
      "text/html": [
       "<div style=\"width:100%;\"><div style=\"position:relative;width:100%;height:0;padding-bottom:60%;\"><span style=\"color:#565656\">Make this Notebook Trusted to load map: File -> Trust Notebook</span><iframe srcdoc=\"&lt;!DOCTYPE html&gt;\n",
       "&lt;html&gt;\n",
       "&lt;head&gt;\n",
       "    \n",
       "    &lt;meta http-equiv=&quot;content-type&quot; content=&quot;text/html; charset=UTF-8&quot; /&gt;\n",
       "    \n",
       "        &lt;script&gt;\n",
       "            L_NO_TOUCH = false;\n",
       "            L_DISABLE_3D = false;\n",
       "        &lt;/script&gt;\n",
       "    \n",
       "    &lt;style&gt;html, body {width: 100%;height: 100%;margin: 0;padding: 0;}&lt;/style&gt;\n",
       "    &lt;style&gt;#map {position:absolute;top:0;bottom:0;right:0;left:0;}&lt;/style&gt;\n",
       "    &lt;script src=&quot;https://cdn.jsdelivr.net/npm/leaflet@1.9.3/dist/leaflet.js&quot;&gt;&lt;/script&gt;\n",
       "    &lt;script src=&quot;https://code.jquery.com/jquery-3.7.1.min.js&quot;&gt;&lt;/script&gt;\n",
       "    &lt;script src=&quot;https://cdn.jsdelivr.net/npm/bootstrap@5.2.2/dist/js/bootstrap.bundle.min.js&quot;&gt;&lt;/script&gt;\n",
       "    &lt;script src=&quot;https://cdnjs.cloudflare.com/ajax/libs/Leaflet.awesome-markers/2.0.2/leaflet.awesome-markers.js&quot;&gt;&lt;/script&gt;\n",
       "    &lt;link rel=&quot;stylesheet&quot; href=&quot;https://cdn.jsdelivr.net/npm/leaflet@1.9.3/dist/leaflet.css&quot;/&gt;\n",
       "    &lt;link rel=&quot;stylesheet&quot; href=&quot;https://cdn.jsdelivr.net/npm/bootstrap@5.2.2/dist/css/bootstrap.min.css&quot;/&gt;\n",
       "    &lt;link rel=&quot;stylesheet&quot; href=&quot;https://netdna.bootstrapcdn.com/bootstrap/3.0.0/css/bootstrap.min.css&quot;/&gt;\n",
       "    &lt;link rel=&quot;stylesheet&quot; href=&quot;https://cdn.jsdelivr.net/npm/@fortawesome/fontawesome-free@6.2.0/css/all.min.css&quot;/&gt;\n",
       "    &lt;link rel=&quot;stylesheet&quot; href=&quot;https://cdnjs.cloudflare.com/ajax/libs/Leaflet.awesome-markers/2.0.2/leaflet.awesome-markers.css&quot;/&gt;\n",
       "    &lt;link rel=&quot;stylesheet&quot; href=&quot;https://cdn.jsdelivr.net/gh/python-visualization/folium/folium/templates/leaflet.awesome.rotate.min.css&quot;/&gt;\n",
       "    \n",
       "            &lt;meta name=&quot;viewport&quot; content=&quot;width=device-width,\n",
       "                initial-scale=1.0, maximum-scale=1.0, user-scalable=no&quot; /&gt;\n",
       "            &lt;style&gt;\n",
       "                #map_cbb48420add0e0754a2771933df2d3dd {\n",
       "                    position: relative;\n",
       "                    width: 100.0%;\n",
       "                    height: 100.0%;\n",
       "                    left: 0.0%;\n",
       "                    top: 0.0%;\n",
       "                }\n",
       "                .leaflet-container { font-size: 1rem; }\n",
       "            &lt;/style&gt;\n",
       "        \n",
       "&lt;/head&gt;\n",
       "&lt;body&gt;\n",
       "    \n",
       "    \n",
       "            &lt;div class=&quot;folium-map&quot; id=&quot;map_cbb48420add0e0754a2771933df2d3dd&quot; &gt;&lt;/div&gt;\n",
       "        \n",
       "&lt;/body&gt;\n",
       "&lt;script&gt;\n",
       "    \n",
       "    \n",
       "            var map_cbb48420add0e0754a2771933df2d3dd = L.map(\n",
       "                &quot;map_cbb48420add0e0754a2771933df2d3dd&quot;,\n",
       "                {\n",
       "                    center: [50.965, 13.922],\n",
       "                    crs: L.CRS.EPSG3857,\n",
       "                    zoom: 12,\n",
       "                    zoomControl: true,\n",
       "                    preferCanvas: false,\n",
       "                }\n",
       "            );\n",
       "\n",
       "            \n",
       "\n",
       "        \n",
       "    \n",
       "            var tile_layer_a8ff7aaf4ae4f90d763376bf36dedcf2 = L.tileLayer(\n",
       "                &quot;https://{s}.basemaps.cartocdn.com/light_all/{z}/{x}/{y}{r}.png&quot;,\n",
       "                {&quot;attribution&quot;: &quot;\\u0026copy; \\u003ca href=\\&quot;https://www.openstreetmap.org/copyright\\&quot;\\u003eOpenStreetMap\\u003c/a\\u003e contributors \\u0026copy; \\u003ca href=\\&quot;https://carto.com/attributions\\&quot;\\u003eCARTO\\u003c/a\\u003e&quot;, &quot;detectRetina&quot;: false, &quot;maxNativeZoom&quot;: 20, &quot;maxZoom&quot;: 20, &quot;minZoom&quot;: 0, &quot;noWrap&quot;: false, &quot;opacity&quot;: 1, &quot;subdomains&quot;: &quot;abcd&quot;, &quot;tms&quot;: false}\n",
       "            );\n",
       "        \n",
       "    \n",
       "            tile_layer_a8ff7aaf4ae4f90d763376bf36dedcf2.addTo(map_cbb48420add0e0754a2771933df2d3dd);\n",
       "        \n",
       "    \n",
       "\n",
       "        function geo_json_b78766953e35c7ed9bf54f17d1854ce2_onEachFeature(feature, layer) {\n",
       "            layer.on({\n",
       "            });\n",
       "        };\n",
       "        var geo_json_b78766953e35c7ed9bf54f17d1854ce2 = L.geoJson(null, {\n",
       "                onEachFeature: geo_json_b78766953e35c7ed9bf54f17d1854ce2_onEachFeature,\n",
       "            \n",
       "        });\n",
       "\n",
       "        function geo_json_b78766953e35c7ed9bf54f17d1854ce2_add (data) {\n",
       "            geo_json_b78766953e35c7ed9bf54f17d1854ce2\n",
       "                .addData(data);\n",
       "        }\n",
       "            geo_json_b78766953e35c7ed9bf54f17d1854ce2_add({&quot;coordinates&quot;: [[13.922514437551428, 50.964720483303836], [13.925036413951403, 50.96623732041704]], &quot;type&quot;: &quot;LineString&quot;});\n",
       "\n",
       "        \n",
       "    \n",
       "            geo_json_b78766953e35c7ed9bf54f17d1854ce2.addTo(map_cbb48420add0e0754a2771933df2d3dd);\n",
       "        \n",
       "    \n",
       "\n",
       "        function geo_json_2b139cfaa5a261f019f4752df2d25c3d_onEachFeature(feature, layer) {\n",
       "            layer.on({\n",
       "            });\n",
       "        };\n",
       "        var geo_json_2b139cfaa5a261f019f4752df2d25c3d = L.geoJson(null, {\n",
       "                onEachFeature: geo_json_2b139cfaa5a261f019f4752df2d25c3d_onEachFeature,\n",
       "            \n",
       "        });\n",
       "\n",
       "        function geo_json_2b139cfaa5a261f019f4752df2d25c3d_add (data) {\n",
       "            geo_json_2b139cfaa5a261f019f4752df2d25c3d\n",
       "                .addData(data);\n",
       "        }\n",
       "            geo_json_2b139cfaa5a261f019f4752df2d25c3d_add({&quot;coordinates&quot;: [13.9226, 50.9661], &quot;type&quot;: &quot;Point&quot;});\n",
       "\n",
       "        \n",
       "    \n",
       "            geo_json_2b139cfaa5a261f019f4752df2d25c3d.addTo(map_cbb48420add0e0754a2771933df2d3dd);\n",
       "        \n",
       "    \n",
       "\n",
       "        function geo_json_52030239992d77a487420832c94d7e4c_onEachFeature(feature, layer) {\n",
       "            layer.on({\n",
       "            });\n",
       "        };\n",
       "        var geo_json_52030239992d77a487420832c94d7e4c = L.geoJson(null, {\n",
       "                onEachFeature: geo_json_52030239992d77a487420832c94d7e4c_onEachFeature,\n",
       "            \n",
       "        });\n",
       "\n",
       "        function geo_json_52030239992d77a487420832c94d7e4c_add (data) {\n",
       "            geo_json_52030239992d77a487420832c94d7e4c\n",
       "                .addData(data);\n",
       "        }\n",
       "            geo_json_52030239992d77a487420832c94d7e4c_add({&quot;coordinates&quot;: [13.923186570327204, 50.96512473607135], &quot;type&quot;: &quot;Point&quot;});\n",
       "\n",
       "        \n",
       "    \n",
       "            geo_json_52030239992d77a487420832c94d7e4c.addTo(map_cbb48420add0e0754a2771933df2d3dd);\n",
       "        \n",
       "    \n",
       "            map_cbb48420add0e0754a2771933df2d3dd.fitBounds(\n",
       "                [[50.964720483303836, 13.922514437551428], [50.96623732041704, 13.925036413951403]],\n",
       "                {}\n",
       "            );\n",
       "        \n",
       "&lt;/script&gt;\n",
       "&lt;/html&gt;\" style=\"position:absolute;width:100%;height:100%;left:0;top:0;border:none !important;\" allowfullscreen webkitallowfullscreen mozallowfullscreen></iframe></div></div>"
      ],
      "text/plain": [
       "<folium.folium.Map at 0x11a994e90>"
      ]
     },
     "execution_count": 6,
     "metadata": {},
     "output_type": "execute_result"
    }
   ],
   "source": [
    "m = folium.Map(tiles=\"cartodbpositron\", crs=\"EPSG3857\", zoom_start=12, location=[50.965, 13.922])\n",
    "m.add_child(folium.GeoJson(line.as_geojson()))\n",
    "m.add_child(folium.GeoJson(point.as_geojson()))\n",
    "m.add_child(folium.GeoJson(nearest_point.as_geojson()))\n",
    "m.fit_bounds(m.get_bounds())\n",
    "m"
   ]
  },
  {
   "cell_type": "markdown",
   "id": "31ef0a164a81f162",
   "metadata": {
    "papermill": {
     "duration": 0.00137,
     "end_time": "2024-06-17T21:20:03.249804",
     "exception": false,
     "start_time": "2024-06-17T21:20:03.248434",
     "status": "completed"
    },
    "tags": []
   },
   "source": [
    "## Calculate the nearest point on a line for an arbitrary point with Shapely project function"
   ]
  },
  {
   "cell_type": "code",
   "execution_count": 7,
   "id": "baf9e6f08177b1ac",
   "metadata": {
    "ExecuteTime": {
     "end_time": "2024-06-07T08:19:51.268578Z",
     "start_time": "2024-06-07T08:19:51.266151Z"
    },
    "execution": {
     "iopub.execute_input": "2024-06-17T21:20:03.253120Z",
     "iopub.status.busy": "2024-06-17T21:20:03.253010Z",
     "iopub.status.idle": "2024-06-17T21:20:03.255308Z",
     "shell.execute_reply": "2024-06-17T21:20:03.254970Z"
    },
    "papermill": {
     "duration": 0.005011,
     "end_time": "2024-06-17T21:20:03.256175",
     "exception": false,
     "start_time": "2024-06-17T21:20:03.251164",
     "status": "completed"
    },
    "tags": []
   },
   "outputs": [],
   "source": [
    "shapely_line = ShapelyLineString(line.coordinates)\n",
    "shapely_point = ShapelyPoint(point.coordinates)\n",
    "nearest_shapely_point_on_linestring = shapely_line.interpolate(shapely_line.project(shapely_point))\n",
    "\n",
    "nearest_point = Point.from_dict({\n",
    "  \"type\": \"Point\",\n",
    "  \"coordinates\": [nearest_shapely_point_on_linestring.x, nearest_shapely_point_on_linestring.y]\n",
    "})"
   ]
  },
  {
   "cell_type": "code",
   "execution_count": 8,
   "id": "fd5dc602e0a8ceb3",
   "metadata": {
    "ExecuteTime": {
     "end_time": "2024-06-07T08:19:51.279301Z",
     "start_time": "2024-06-07T08:19:51.269303Z"
    },
    "execution": {
     "iopub.execute_input": "2024-06-17T21:20:03.259646Z",
     "iopub.status.busy": "2024-06-17T21:20:03.259535Z",
     "iopub.status.idle": "2024-06-17T21:20:03.268107Z",
     "shell.execute_reply": "2024-06-17T21:20:03.267877Z"
    },
    "papermill": {
     "duration": 0.01115,
     "end_time": "2024-06-17T21:20:03.268885",
     "exception": false,
     "start_time": "2024-06-17T21:20:03.257735",
     "status": "completed"
    },
    "tags": []
   },
   "outputs": [
    {
     "data": {
      "text/html": [
       "<div style=\"width:100%;\"><div style=\"position:relative;width:100%;height:0;padding-bottom:60%;\"><span style=\"color:#565656\">Make this Notebook Trusted to load map: File -> Trust Notebook</span><iframe srcdoc=\"&lt;!DOCTYPE html&gt;\n",
       "&lt;html&gt;\n",
       "&lt;head&gt;\n",
       "    \n",
       "    &lt;meta http-equiv=&quot;content-type&quot; content=&quot;text/html; charset=UTF-8&quot; /&gt;\n",
       "    \n",
       "        &lt;script&gt;\n",
       "            L_NO_TOUCH = false;\n",
       "            L_DISABLE_3D = false;\n",
       "        &lt;/script&gt;\n",
       "    \n",
       "    &lt;style&gt;html, body {width: 100%;height: 100%;margin: 0;padding: 0;}&lt;/style&gt;\n",
       "    &lt;style&gt;#map {position:absolute;top:0;bottom:0;right:0;left:0;}&lt;/style&gt;\n",
       "    &lt;script src=&quot;https://cdn.jsdelivr.net/npm/leaflet@1.9.3/dist/leaflet.js&quot;&gt;&lt;/script&gt;\n",
       "    &lt;script src=&quot;https://code.jquery.com/jquery-3.7.1.min.js&quot;&gt;&lt;/script&gt;\n",
       "    &lt;script src=&quot;https://cdn.jsdelivr.net/npm/bootstrap@5.2.2/dist/js/bootstrap.bundle.min.js&quot;&gt;&lt;/script&gt;\n",
       "    &lt;script src=&quot;https://cdnjs.cloudflare.com/ajax/libs/Leaflet.awesome-markers/2.0.2/leaflet.awesome-markers.js&quot;&gt;&lt;/script&gt;\n",
       "    &lt;link rel=&quot;stylesheet&quot; href=&quot;https://cdn.jsdelivr.net/npm/leaflet@1.9.3/dist/leaflet.css&quot;/&gt;\n",
       "    &lt;link rel=&quot;stylesheet&quot; href=&quot;https://cdn.jsdelivr.net/npm/bootstrap@5.2.2/dist/css/bootstrap.min.css&quot;/&gt;\n",
       "    &lt;link rel=&quot;stylesheet&quot; href=&quot;https://netdna.bootstrapcdn.com/bootstrap/3.0.0/css/bootstrap.min.css&quot;/&gt;\n",
       "    &lt;link rel=&quot;stylesheet&quot; href=&quot;https://cdn.jsdelivr.net/npm/@fortawesome/fontawesome-free@6.2.0/css/all.min.css&quot;/&gt;\n",
       "    &lt;link rel=&quot;stylesheet&quot; href=&quot;https://cdnjs.cloudflare.com/ajax/libs/Leaflet.awesome-markers/2.0.2/leaflet.awesome-markers.css&quot;/&gt;\n",
       "    &lt;link rel=&quot;stylesheet&quot; href=&quot;https://cdn.jsdelivr.net/gh/python-visualization/folium/folium/templates/leaflet.awesome.rotate.min.css&quot;/&gt;\n",
       "    \n",
       "            &lt;meta name=&quot;viewport&quot; content=&quot;width=device-width,\n",
       "                initial-scale=1.0, maximum-scale=1.0, user-scalable=no&quot; /&gt;\n",
       "            &lt;style&gt;\n",
       "                #map_5aaab065cb103be8c3a55e2cb34d9d1e {\n",
       "                    position: relative;\n",
       "                    width: 100.0%;\n",
       "                    height: 100.0%;\n",
       "                    left: 0.0%;\n",
       "                    top: 0.0%;\n",
       "                }\n",
       "                .leaflet-container { font-size: 1rem; }\n",
       "            &lt;/style&gt;\n",
       "        \n",
       "&lt;/head&gt;\n",
       "&lt;body&gt;\n",
       "    \n",
       "    \n",
       "            &lt;div class=&quot;folium-map&quot; id=&quot;map_5aaab065cb103be8c3a55e2cb34d9d1e&quot; &gt;&lt;/div&gt;\n",
       "        \n",
       "&lt;/body&gt;\n",
       "&lt;script&gt;\n",
       "    \n",
       "    \n",
       "            var map_5aaab065cb103be8c3a55e2cb34d9d1e = L.map(\n",
       "                &quot;map_5aaab065cb103be8c3a55e2cb34d9d1e&quot;,\n",
       "                {\n",
       "                    center: [50.965, 13.922],\n",
       "                    crs: L.CRS.EPSG3857,\n",
       "                    zoom: 12,\n",
       "                    zoomControl: true,\n",
       "                    preferCanvas: false,\n",
       "                }\n",
       "            );\n",
       "\n",
       "            \n",
       "\n",
       "        \n",
       "    \n",
       "            var tile_layer_9487cc22e7165451771d1b16248f8375 = L.tileLayer(\n",
       "                &quot;https://{s}.basemaps.cartocdn.com/light_all/{z}/{x}/{y}{r}.png&quot;,\n",
       "                {&quot;attribution&quot;: &quot;\\u0026copy; \\u003ca href=\\&quot;https://www.openstreetmap.org/copyright\\&quot;\\u003eOpenStreetMap\\u003c/a\\u003e contributors \\u0026copy; \\u003ca href=\\&quot;https://carto.com/attributions\\&quot;\\u003eCARTO\\u003c/a\\u003e&quot;, &quot;detectRetina&quot;: false, &quot;maxNativeZoom&quot;: 20, &quot;maxZoom&quot;: 20, &quot;minZoom&quot;: 0, &quot;noWrap&quot;: false, &quot;opacity&quot;: 1, &quot;subdomains&quot;: &quot;abcd&quot;, &quot;tms&quot;: false}\n",
       "            );\n",
       "        \n",
       "    \n",
       "            tile_layer_9487cc22e7165451771d1b16248f8375.addTo(map_5aaab065cb103be8c3a55e2cb34d9d1e);\n",
       "        \n",
       "    \n",
       "\n",
       "        function geo_json_d3e46d227dbae0ccb888e514cc86e1b6_onEachFeature(feature, layer) {\n",
       "            layer.on({\n",
       "            });\n",
       "        };\n",
       "        var geo_json_d3e46d227dbae0ccb888e514cc86e1b6 = L.geoJson(null, {\n",
       "                onEachFeature: geo_json_d3e46d227dbae0ccb888e514cc86e1b6_onEachFeature,\n",
       "            \n",
       "        });\n",
       "\n",
       "        function geo_json_d3e46d227dbae0ccb888e514cc86e1b6_add (data) {\n",
       "            geo_json_d3e46d227dbae0ccb888e514cc86e1b6\n",
       "                .addData(data);\n",
       "        }\n",
       "            geo_json_d3e46d227dbae0ccb888e514cc86e1b6_add({&quot;coordinates&quot;: [[13.922514437551428, 50.964720483303836], [13.925036413951403, 50.96623732041704]], &quot;type&quot;: &quot;LineString&quot;});\n",
       "\n",
       "        \n",
       "    \n",
       "            geo_json_d3e46d227dbae0ccb888e514cc86e1b6.addTo(map_5aaab065cb103be8c3a55e2cb34d9d1e);\n",
       "        \n",
       "    \n",
       "\n",
       "        function geo_json_fe0fb7ea84811ee52ed5bd6533f209ad_onEachFeature(feature, layer) {\n",
       "            layer.on({\n",
       "            });\n",
       "        };\n",
       "        var geo_json_fe0fb7ea84811ee52ed5bd6533f209ad = L.geoJson(null, {\n",
       "                onEachFeature: geo_json_fe0fb7ea84811ee52ed5bd6533f209ad_onEachFeature,\n",
       "            \n",
       "        });\n",
       "\n",
       "        function geo_json_fe0fb7ea84811ee52ed5bd6533f209ad_add (data) {\n",
       "            geo_json_fe0fb7ea84811ee52ed5bd6533f209ad\n",
       "                .addData(data);\n",
       "        }\n",
       "            geo_json_fe0fb7ea84811ee52ed5bd6533f209ad_add({&quot;coordinates&quot;: [13.9226, 50.9661], &quot;type&quot;: &quot;Point&quot;});\n",
       "\n",
       "        \n",
       "    \n",
       "            geo_json_fe0fb7ea84811ee52ed5bd6533f209ad.addTo(map_5aaab065cb103be8c3a55e2cb34d9d1e);\n",
       "        \n",
       "    \n",
       "\n",
       "        function geo_json_5b2dd68b63937f74e01ea34cd72ecafd_onEachFeature(feature, layer) {\n",
       "            layer.on({\n",
       "            });\n",
       "        };\n",
       "        var geo_json_5b2dd68b63937f74e01ea34cd72ecafd = L.geoJson(null, {\n",
       "                onEachFeature: geo_json_5b2dd68b63937f74e01ea34cd72ecafd_onEachFeature,\n",
       "            \n",
       "        });\n",
       "\n",
       "        function geo_json_5b2dd68b63937f74e01ea34cd72ecafd_add (data) {\n",
       "            geo_json_5b2dd68b63937f74e01ea34cd72ecafd\n",
       "                .addData(data);\n",
       "        }\n",
       "            geo_json_5b2dd68b63937f74e01ea34cd72ecafd_add({&quot;coordinates&quot;: [13.923186570327204, 50.96512473607135], &quot;type&quot;: &quot;Point&quot;});\n",
       "\n",
       "        \n",
       "    \n",
       "            geo_json_5b2dd68b63937f74e01ea34cd72ecafd.addTo(map_5aaab065cb103be8c3a55e2cb34d9d1e);\n",
       "        \n",
       "    \n",
       "            map_5aaab065cb103be8c3a55e2cb34d9d1e.fitBounds(\n",
       "                [[50.964720483303836, 13.922514437551428], [50.96623732041704, 13.925036413951403]],\n",
       "                {}\n",
       "            );\n",
       "        \n",
       "&lt;/script&gt;\n",
       "&lt;/html&gt;\" style=\"position:absolute;width:100%;height:100%;left:0;top:0;border:none !important;\" allowfullscreen webkitallowfullscreen mozallowfullscreen></iframe></div></div>"
      ],
      "text/plain": [
       "<folium.folium.Map at 0x11a994380>"
      ]
     },
     "execution_count": 8,
     "metadata": {},
     "output_type": "execute_result"
    }
   ],
   "source": [
    "m = folium.Map(tiles=\"cartodbpositron\", crs=\"EPSG3857\", zoom_start=12, location=[50.965, 13.922])\n",
    "m.add_child(folium.GeoJson(line.as_geojson()))\n",
    "m.add_child(folium.GeoJson(point.as_geojson()))\n",
    "m.add_child(folium.GeoJson(nearest_point.as_geojson()))\n",
    "m.fit_bounds(m.get_bounds())\n",
    "m"
   ]
  },
  {
   "cell_type": "code",
   "execution_count": null,
   "id": "2e1569d1b20ec1c9",
   "metadata": {
    "ExecuteTime": {
     "end_time": "2024-06-07T08:19:51.283186Z",
     "start_time": "2024-06-07T08:19:51.280681Z"
    },
    "papermill": {
     "duration": 0.001474,
     "end_time": "2024-06-17T21:20:03.271894",
     "exception": false,
     "start_time": "2024-06-17T21:20:03.270420",
     "status": "completed"
    },
    "tags": []
   },
   "outputs": [],
   "source": []
  }
 ],
 "metadata": {
  "kernelspec": {
   "display_name": "Python 3",
   "language": "python",
   "name": "python3"
  },
  "language_info": {
   "codemirror_mode": {
    "name": "ipython",
    "version": 3
   },
   "file_extension": ".py",
   "mimetype": "text/x-python",
   "name": "python",
   "nbconvert_exporter": "python",
   "pygments_lexer": "ipython3",
   "version": "3.12.2"
  },
  "papermill": {
   "default_parameters": {},
   "duration": 1.486774,
   "end_time": "2024-06-17T21:20:03.489700",
   "environment_variables": {},
   "exception": null,
   "input_path": "./notebooks/LineStringNearestPoint.ipynb",
   "output_path": "./notebooks/LineStringNearestPoint.ipynb",
   "parameters": {},
   "start_time": "2024-06-17T21:20:02.002926",
   "version": "2.6.0"
  }
 },
 "nbformat": 4,
 "nbformat_minor": 5
}