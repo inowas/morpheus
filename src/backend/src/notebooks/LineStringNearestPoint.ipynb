{
 "cells": [
  {
   "cell_type": "code",
   "execution_count": 1,
   "id": "ba6761fae9d5e5cb",
   "metadata": {
    "ExecuteTime": {
     "end_time": "2024-06-07T08:19:50.698161Z",
     "start_time": "2024-06-07T08:19:50.693723Z"
    },
    "collapsed": false,
    "execution": {
     "iopub.execute_input": "2024-06-20T19:03:28.130994Z",
     "iopub.status.busy": "2024-06-20T19:03:28.130478Z",
     "iopub.status.idle": "2024-06-20T19:03:28.136886Z",
     "shell.execute_reply": "2024-06-20T19:03:28.135938Z"
    },
    "papermill": {
     "duration": 0.017786,
     "end_time": "2024-06-20T19:03:28.140544",
     "exception": false,
     "start_time": "2024-06-20T19:03:28.122758",
     "status": "completed"
    },
    "tags": []
   },
   "outputs": [],
   "source": [
    "import sys\n",
    "\n",
    "sys.path.insert(0, '..')"
   ]
  },
  {
   "cell_type": "markdown",
   "id": "5ede1ba5e0993dd1",
   "metadata": {
    "collapsed": false,
    "papermill": {
     "duration": 0.005282,
     "end_time": "2024-06-20T19:03:28.153057",
     "exception": false,
     "start_time": "2024-06-20T19:03:28.147775",
     "status": "completed"
    },
    "tags": []
   },
   "source": [
    "# Calculate the nearest point on a line for an arbitrary point"
   ]
  },
  {
   "cell_type": "markdown",
   "id": "90453a1d75202b2b",
   "metadata": {
    "papermill": {
     "duration": 0.003657,
     "end_time": "2024-06-20T19:03:28.161605",
     "exception": false,
     "start_time": "2024-06-20T19:03:28.157948",
     "status": "completed"
    },
    "tags": []
   },
   "source": [
    "## Final implementation test"
   ]
  },
  {
   "cell_type": "code",
   "execution_count": 2,
   "id": "2f69504ab35487aa",
   "metadata": {
    "ExecuteTime": {
     "end_time": "2024-06-07T08:19:50.821461Z",
     "start_time": "2024-06-07T08:19:50.700598Z"
    },
    "collapsed": false,
    "execution": {
     "iopub.execute_input": "2024-06-20T19:03:28.169346Z",
     "iopub.status.busy": "2024-06-20T19:03:28.168876Z",
     "iopub.status.idle": "2024-06-20T19:03:28.268629Z",
     "shell.execute_reply": "2024-06-20T19:03:28.267876Z"
    },
    "papermill": {
     "duration": 0.106791,
     "end_time": "2024-06-20T19:03:28.271702",
     "exception": false,
     "start_time": "2024-06-20T19:03:28.164911",
     "status": "completed"
    },
    "tags": []
   },
   "outputs": [],
   "source": [
    "from morpheus.project.types.geometry import Point, LineString\n",
    "\n",
    "line = LineString.from_dict({\n",
    "  \"type\": \"LineString\",\n",
    "  \"coordinates\": [(13.922514437551428, 50.964720483303836), (13.925036413951403, 50.96623732041704)]\n",
    "})\n",
    "\n",
    "point = Point.from_dict({\n",
    "  \"type\": \"Point\",\n",
    "  \"coordinates\": [13.9226, 50.9661]\n",
    "})\n",
    "\n",
    "nearest_point = line.nearest_point(point)"
   ]
  },
  {
   "cell_type": "code",
   "execution_count": 3,
   "id": "1540b870ae83f298",
   "metadata": {
    "ExecuteTime": {
     "end_time": "2024-06-07T08:19:51.246585Z",
     "start_time": "2024-06-07T08:19:50.827185Z"
    },
    "collapsed": false,
    "execution": {
     "iopub.execute_input": "2024-06-20T19:03:28.281642Z",
     "iopub.status.busy": "2024-06-20T19:03:28.281048Z",
     "iopub.status.idle": "2024-06-20T19:03:28.675695Z",
     "shell.execute_reply": "2024-06-20T19:03:28.675394Z"
    },
    "papermill": {
     "duration": 0.400984,
     "end_time": "2024-06-20T19:03:28.676832",
     "exception": false,
     "start_time": "2024-06-20T19:03:28.275848",
     "status": "completed"
    },
    "tags": []
   },
   "outputs": [
    {
     "data": {
      "text/html": [
       "<div style=\"width:100%;\"><div style=\"position:relative;width:100%;height:0;padding-bottom:60%;\"><span style=\"color:#565656\">Make this Notebook Trusted to load map: File -> Trust Notebook</span><iframe srcdoc=\"&lt;!DOCTYPE html&gt;\n",
       "&lt;html&gt;\n",
       "&lt;head&gt;\n",
       "    \n",
       "    &lt;meta http-equiv=&quot;content-type&quot; content=&quot;text/html; charset=UTF-8&quot; /&gt;\n",
       "    \n",
       "        &lt;script&gt;\n",
       "            L_NO_TOUCH = false;\n",
       "            L_DISABLE_3D = false;\n",
       "        &lt;/script&gt;\n",
       "    \n",
       "    &lt;style&gt;html, body {width: 100%;height: 100%;margin: 0;padding: 0;}&lt;/style&gt;\n",
       "    &lt;style&gt;#map {position:absolute;top:0;bottom:0;right:0;left:0;}&lt;/style&gt;\n",
       "    &lt;script src=&quot;https://cdn.jsdelivr.net/npm/leaflet@1.9.3/dist/leaflet.js&quot;&gt;&lt;/script&gt;\n",
       "    &lt;script src=&quot;https://code.jquery.com/jquery-3.7.1.min.js&quot;&gt;&lt;/script&gt;\n",
       "    &lt;script src=&quot;https://cdn.jsdelivr.net/npm/bootstrap@5.2.2/dist/js/bootstrap.bundle.min.js&quot;&gt;&lt;/script&gt;\n",
       "    &lt;script src=&quot;https://cdnjs.cloudflare.com/ajax/libs/Leaflet.awesome-markers/2.0.2/leaflet.awesome-markers.js&quot;&gt;&lt;/script&gt;\n",
       "    &lt;link rel=&quot;stylesheet&quot; href=&quot;https://cdn.jsdelivr.net/npm/leaflet@1.9.3/dist/leaflet.css&quot;/&gt;\n",
       "    &lt;link rel=&quot;stylesheet&quot; href=&quot;https://cdn.jsdelivr.net/npm/bootstrap@5.2.2/dist/css/bootstrap.min.css&quot;/&gt;\n",
       "    &lt;link rel=&quot;stylesheet&quot; href=&quot;https://netdna.bootstrapcdn.com/bootstrap/3.0.0/css/bootstrap.min.css&quot;/&gt;\n",
       "    &lt;link rel=&quot;stylesheet&quot; href=&quot;https://cdn.jsdelivr.net/npm/@fortawesome/fontawesome-free@6.2.0/css/all.min.css&quot;/&gt;\n",
       "    &lt;link rel=&quot;stylesheet&quot; href=&quot;https://cdnjs.cloudflare.com/ajax/libs/Leaflet.awesome-markers/2.0.2/leaflet.awesome-markers.css&quot;/&gt;\n",
       "    &lt;link rel=&quot;stylesheet&quot; href=&quot;https://cdn.jsdelivr.net/gh/python-visualization/folium/folium/templates/leaflet.awesome.rotate.min.css&quot;/&gt;\n",
       "    \n",
       "            &lt;meta name=&quot;viewport&quot; content=&quot;width=device-width,\n",
       "                initial-scale=1.0, maximum-scale=1.0, user-scalable=no&quot; /&gt;\n",
       "            &lt;style&gt;\n",
       "                #map_d8022e97b00840fe8b4325d6a33a2b65 {\n",
       "                    position: relative;\n",
       "                    width: 100.0%;\n",
       "                    height: 100.0%;\n",
       "                    left: 0.0%;\n",
       "                    top: 0.0%;\n",
       "                }\n",
       "                .leaflet-container { font-size: 1rem; }\n",
       "            &lt;/style&gt;\n",
       "        \n",
       "&lt;/head&gt;\n",
       "&lt;body&gt;\n",
       "    \n",
       "    \n",
       "            &lt;div class=&quot;folium-map&quot; id=&quot;map_d8022e97b00840fe8b4325d6a33a2b65&quot; &gt;&lt;/div&gt;\n",
       "        \n",
       "&lt;/body&gt;\n",
       "&lt;script&gt;\n",
       "    \n",
       "    \n",
       "            var map_d8022e97b00840fe8b4325d6a33a2b65 = L.map(\n",
       "                &quot;map_d8022e97b00840fe8b4325d6a33a2b65&quot;,\n",
       "                {\n",
       "                    center: [50.965, 13.922],\n",
       "                    crs: L.CRS.EPSG3857,\n",
       "                    zoom: 12,\n",
       "                    zoomControl: true,\n",
       "                    preferCanvas: false,\n",
       "                }\n",
       "            );\n",
       "\n",
       "            \n",
       "\n",
       "        \n",
       "    \n",
       "            var tile_layer_fef69deb57e3a845add446e6f2423e46 = L.tileLayer(\n",
       "                &quot;https://{s}.basemaps.cartocdn.com/light_all/{z}/{x}/{y}{r}.png&quot;,\n",
       "                {&quot;attribution&quot;: &quot;\\u0026copy; \\u003ca href=\\&quot;https://www.openstreetmap.org/copyright\\&quot;\\u003eOpenStreetMap\\u003c/a\\u003e contributors \\u0026copy; \\u003ca href=\\&quot;https://carto.com/attributions\\&quot;\\u003eCARTO\\u003c/a\\u003e&quot;, &quot;detectRetina&quot;: false, &quot;maxNativeZoom&quot;: 20, &quot;maxZoom&quot;: 20, &quot;minZoom&quot;: 0, &quot;noWrap&quot;: false, &quot;opacity&quot;: 1, &quot;subdomains&quot;: &quot;abcd&quot;, &quot;tms&quot;: false}\n",
       "            );\n",
       "        \n",
       "    \n",
       "            tile_layer_fef69deb57e3a845add446e6f2423e46.addTo(map_d8022e97b00840fe8b4325d6a33a2b65);\n",
       "        \n",
       "    \n",
       "\n",
       "        function geo_json_10775d19f1102e8dbcdd3917422c9a28_onEachFeature(feature, layer) {\n",
       "            layer.on({\n",
       "            });\n",
       "        };\n",
       "        var geo_json_10775d19f1102e8dbcdd3917422c9a28 = L.geoJson(null, {\n",
       "                onEachFeature: geo_json_10775d19f1102e8dbcdd3917422c9a28_onEachFeature,\n",
       "            \n",
       "        });\n",
       "\n",
       "        function geo_json_10775d19f1102e8dbcdd3917422c9a28_add (data) {\n",
       "            geo_json_10775d19f1102e8dbcdd3917422c9a28\n",
       "                .addData(data);\n",
       "        }\n",
       "            geo_json_10775d19f1102e8dbcdd3917422c9a28_add({&quot;coordinates&quot;: [[13.922514437551428, 50.964720483303836], [13.925036413951403, 50.96623732041704]], &quot;type&quot;: &quot;LineString&quot;});\n",
       "\n",
       "        \n",
       "    \n",
       "            geo_json_10775d19f1102e8dbcdd3917422c9a28.addTo(map_d8022e97b00840fe8b4325d6a33a2b65);\n",
       "        \n",
       "    \n",
       "\n",
       "        function geo_json_c17ae7e60fe9c9cc383468624e6995cc_onEachFeature(feature, layer) {\n",
       "            layer.on({\n",
       "            });\n",
       "        };\n",
       "        var geo_json_c17ae7e60fe9c9cc383468624e6995cc = L.geoJson(null, {\n",
       "                onEachFeature: geo_json_c17ae7e60fe9c9cc383468624e6995cc_onEachFeature,\n",
       "            \n",
       "        });\n",
       "\n",
       "        function geo_json_c17ae7e60fe9c9cc383468624e6995cc_add (data) {\n",
       "            geo_json_c17ae7e60fe9c9cc383468624e6995cc\n",
       "                .addData(data);\n",
       "        }\n",
       "            geo_json_c17ae7e60fe9c9cc383468624e6995cc_add({&quot;coordinates&quot;: [13.9226, 50.9661], &quot;type&quot;: &quot;Point&quot;});\n",
       "\n",
       "        \n",
       "    \n",
       "            geo_json_c17ae7e60fe9c9cc383468624e6995cc.addTo(map_d8022e97b00840fe8b4325d6a33a2b65);\n",
       "        \n",
       "    \n",
       "\n",
       "        function geo_json_2ce737b167083c1d4d6c20fb149e0d6a_onEachFeature(feature, layer) {\n",
       "            layer.on({\n",
       "            });\n",
       "        };\n",
       "        var geo_json_2ce737b167083c1d4d6c20fb149e0d6a = L.geoJson(null, {\n",
       "                onEachFeature: geo_json_2ce737b167083c1d4d6c20fb149e0d6a_onEachFeature,\n",
       "            \n",
       "        });\n",
       "\n",
       "        function geo_json_2ce737b167083c1d4d6c20fb149e0d6a_add (data) {\n",
       "            geo_json_2ce737b167083c1d4d6c20fb149e0d6a\n",
       "                .addData(data);\n",
       "        }\n",
       "            geo_json_2ce737b167083c1d4d6c20fb149e0d6a_add({&quot;coordinates&quot;: [13.923186570327204, 50.96512473607135], &quot;type&quot;: &quot;Point&quot;});\n",
       "\n",
       "        \n",
       "    \n",
       "            geo_json_2ce737b167083c1d4d6c20fb149e0d6a.addTo(map_d8022e97b00840fe8b4325d6a33a2b65);\n",
       "        \n",
       "    \n",
       "            map_d8022e97b00840fe8b4325d6a33a2b65.fitBounds(\n",
       "                [[50.964720483303836, 13.922514437551428], [50.96623732041704, 13.925036413951403]],\n",
       "                {}\n",
       "            );\n",
       "        \n",
       "&lt;/script&gt;\n",
       "&lt;/html&gt;\" style=\"position:absolute;width:100%;height:100%;left:0;top:0;border:none !important;\" allowfullscreen webkitallowfullscreen mozallowfullscreen></iframe></div></div>"
      ],
      "text/plain": [
       "<folium.folium.Map at 0x106086900>"
      ]
     },
     "execution_count": 3,
     "metadata": {},
     "output_type": "execute_result"
    }
   ],
   "source": [
    "import folium\n",
    "\n",
    "m = folium.Map(tiles=\"cartodbpositron\", crs=\"EPSG3857\", zoom_start=12, location=[50.965, 13.922])\n",
    "m.add_child(folium.GeoJson(line.as_geojson()))\n",
    "m.add_child(folium.GeoJson(point.as_geojson()))\n",
    "m.add_child(folium.GeoJson(nearest_point.as_geojson()))\n",
    "\n",
    "m.fit_bounds(m.get_bounds())\n",
    "m"
   ]
  },
  {
   "cell_type": "markdown",
   "id": "8d308845e05fbdbc",
   "metadata": {
    "papermill": {
     "duration": 0.001292,
     "end_time": "2024-06-20T19:03:28.679691",
     "exception": false,
     "start_time": "2024-06-20T19:03:28.678399",
     "status": "completed"
    },
    "tags": []
   },
   "source": [
    "## Calculate the nearest point on a line for an arbitrary point with Shapely nearest_points function"
   ]
  },
  {
   "cell_type": "code",
   "execution_count": 4,
   "id": "244bf8b386deca17",
   "metadata": {
    "ExecuteTime": {
     "end_time": "2024-06-07T08:19:51.250310Z",
     "start_time": "2024-06-07T08:19:51.247256Z"
    },
    "execution": {
     "iopub.execute_input": "2024-06-20T19:03:28.683102Z",
     "iopub.status.busy": "2024-06-20T19:03:28.682838Z",
     "iopub.status.idle": "2024-06-20T19:03:28.687256Z",
     "shell.execute_reply": "2024-06-20T19:03:28.686992Z"
    },
    "papermill": {
     "duration": 0.007106,
     "end_time": "2024-06-20T19:03:28.688162",
     "exception": false,
     "start_time": "2024-06-20T19:03:28.681056",
     "status": "completed"
    },
    "tags": []
   },
   "outputs": [
    {
     "data": {
      "text/plain": [
       "(<POINT (13.923 50.965)>, <POINT (13.923 50.966)>)"
      ]
     },
     "execution_count": 4,
     "metadata": {},
     "output_type": "execute_result"
    }
   ],
   "source": [
    "from shapely.geometry import LineString as ShapelyLineString, Point as ShapelyPoint\n",
    "from shapely.ops import nearest_points\n",
    "from morpheus.project.types.geometry import Point\n",
    "\n",
    "shapely_line = ShapelyLineString(line.coordinates)\n",
    "shapely_point = ShapelyPoint(point.coordinates)\n",
    "nearest_points = nearest_points(shapely_line, shapely_point)\n",
    "nearest_points"
   ]
  },
  {
   "cell_type": "code",
   "execution_count": 5,
   "id": "7d28fcc1cfd90668",
   "metadata": {
    "ExecuteTime": {
     "end_time": "2024-06-07T08:19:51.253939Z",
     "start_time": "2024-06-07T08:19:51.251675Z"
    },
    "execution": {
     "iopub.execute_input": "2024-06-20T19:03:28.691731Z",
     "iopub.status.busy": "2024-06-20T19:03:28.691611Z",
     "iopub.status.idle": "2024-06-20T19:03:28.693664Z",
     "shell.execute_reply": "2024-06-20T19:03:28.693324Z"
    },
    "papermill": {
     "duration": 0.004785,
     "end_time": "2024-06-20T19:03:28.694448",
     "exception": false,
     "start_time": "2024-06-20T19:03:28.689663",
     "status": "completed"
    },
    "tags": []
   },
   "outputs": [],
   "source": [
    "from morpheus.project.types.geometry import Point\n",
    "nearest_shapely_point_on_linestring = nearest_points[0] \n",
    "nearest_point = Point.from_dict({\n",
    "  \"type\": \"Point\",\n",
    "  \"coordinates\": [nearest_shapely_point_on_linestring.x, nearest_shapely_point_on_linestring.y]\n",
    "})"
   ]
  },
  {
   "cell_type": "code",
   "execution_count": 6,
   "id": "45b04c9a6449437b",
   "metadata": {
    "ExecuteTime": {
     "end_time": "2024-06-07T08:19:51.265313Z",
     "start_time": "2024-06-07T08:19:51.254759Z"
    },
    "execution": {
     "iopub.execute_input": "2024-06-20T19:03:28.697902Z",
     "iopub.status.busy": "2024-06-20T19:03:28.697768Z",
     "iopub.status.idle": "2024-06-20T19:03:28.707105Z",
     "shell.execute_reply": "2024-06-20T19:03:28.706856Z"
    },
    "papermill": {
     "duration": 0.01219,
     "end_time": "2024-06-20T19:03:28.708086",
     "exception": false,
     "start_time": "2024-06-20T19:03:28.695896",
     "status": "completed"
    },
    "tags": []
   },
   "outputs": [
    {
     "data": {
      "text/html": [
       "<div style=\"width:100%;\"><div style=\"position:relative;width:100%;height:0;padding-bottom:60%;\"><span style=\"color:#565656\">Make this Notebook Trusted to load map: File -> Trust Notebook</span><iframe srcdoc=\"&lt;!DOCTYPE html&gt;\n",
       "&lt;html&gt;\n",
       "&lt;head&gt;\n",
       "    \n",
       "    &lt;meta http-equiv=&quot;content-type&quot; content=&quot;text/html; charset=UTF-8&quot; /&gt;\n",
       "    \n",
       "        &lt;script&gt;\n",
       "            L_NO_TOUCH = false;\n",
       "            L_DISABLE_3D = false;\n",
       "        &lt;/script&gt;\n",
       "    \n",
       "    &lt;style&gt;html, body {width: 100%;height: 100%;margin: 0;padding: 0;}&lt;/style&gt;\n",
       "    &lt;style&gt;#map {position:absolute;top:0;bottom:0;right:0;left:0;}&lt;/style&gt;\n",
       "    &lt;script src=&quot;https://cdn.jsdelivr.net/npm/leaflet@1.9.3/dist/leaflet.js&quot;&gt;&lt;/script&gt;\n",
       "    &lt;script src=&quot;https://code.jquery.com/jquery-3.7.1.min.js&quot;&gt;&lt;/script&gt;\n",
       "    &lt;script src=&quot;https://cdn.jsdelivr.net/npm/bootstrap@5.2.2/dist/js/bootstrap.bundle.min.js&quot;&gt;&lt;/script&gt;\n",
       "    &lt;script src=&quot;https://cdnjs.cloudflare.com/ajax/libs/Leaflet.awesome-markers/2.0.2/leaflet.awesome-markers.js&quot;&gt;&lt;/script&gt;\n",
       "    &lt;link rel=&quot;stylesheet&quot; href=&quot;https://cdn.jsdelivr.net/npm/leaflet@1.9.3/dist/leaflet.css&quot;/&gt;\n",
       "    &lt;link rel=&quot;stylesheet&quot; href=&quot;https://cdn.jsdelivr.net/npm/bootstrap@5.2.2/dist/css/bootstrap.min.css&quot;/&gt;\n",
       "    &lt;link rel=&quot;stylesheet&quot; href=&quot;https://netdna.bootstrapcdn.com/bootstrap/3.0.0/css/bootstrap.min.css&quot;/&gt;\n",
       "    &lt;link rel=&quot;stylesheet&quot; href=&quot;https://cdn.jsdelivr.net/npm/@fortawesome/fontawesome-free@6.2.0/css/all.min.css&quot;/&gt;\n",
       "    &lt;link rel=&quot;stylesheet&quot; href=&quot;https://cdnjs.cloudflare.com/ajax/libs/Leaflet.awesome-markers/2.0.2/leaflet.awesome-markers.css&quot;/&gt;\n",
       "    &lt;link rel=&quot;stylesheet&quot; href=&quot;https://cdn.jsdelivr.net/gh/python-visualization/folium/folium/templates/leaflet.awesome.rotate.min.css&quot;/&gt;\n",
       "    \n",
       "            &lt;meta name=&quot;viewport&quot; content=&quot;width=device-width,\n",
       "                initial-scale=1.0, maximum-scale=1.0, user-scalable=no&quot; /&gt;\n",
       "            &lt;style&gt;\n",
       "                #map_6f1f5a4c32a1dbc21496cc2f56b3454a {\n",
       "                    position: relative;\n",
       "                    width: 100.0%;\n",
       "                    height: 100.0%;\n",
       "                    left: 0.0%;\n",
       "                    top: 0.0%;\n",
       "                }\n",
       "                .leaflet-container { font-size: 1rem; }\n",
       "            &lt;/style&gt;\n",
       "        \n",
       "&lt;/head&gt;\n",
       "&lt;body&gt;\n",
       "    \n",
       "    \n",
       "            &lt;div class=&quot;folium-map&quot; id=&quot;map_6f1f5a4c32a1dbc21496cc2f56b3454a&quot; &gt;&lt;/div&gt;\n",
       "        \n",
       "&lt;/body&gt;\n",
       "&lt;script&gt;\n",
       "    \n",
       "    \n",
       "            var map_6f1f5a4c32a1dbc21496cc2f56b3454a = L.map(\n",
       "                &quot;map_6f1f5a4c32a1dbc21496cc2f56b3454a&quot;,\n",
       "                {\n",
       "                    center: [50.965, 13.922],\n",
       "                    crs: L.CRS.EPSG3857,\n",
       "                    zoom: 12,\n",
       "                    zoomControl: true,\n",
       "                    preferCanvas: false,\n",
       "                }\n",
       "            );\n",
       "\n",
       "            \n",
       "\n",
       "        \n",
       "    \n",
       "            var tile_layer_4a20d0675e7e46a7a41264a7f6349e14 = L.tileLayer(\n",
       "                &quot;https://{s}.basemaps.cartocdn.com/light_all/{z}/{x}/{y}{r}.png&quot;,\n",
       "                {&quot;attribution&quot;: &quot;\\u0026copy; \\u003ca href=\\&quot;https://www.openstreetmap.org/copyright\\&quot;\\u003eOpenStreetMap\\u003c/a\\u003e contributors \\u0026copy; \\u003ca href=\\&quot;https://carto.com/attributions\\&quot;\\u003eCARTO\\u003c/a\\u003e&quot;, &quot;detectRetina&quot;: false, &quot;maxNativeZoom&quot;: 20, &quot;maxZoom&quot;: 20, &quot;minZoom&quot;: 0, &quot;noWrap&quot;: false, &quot;opacity&quot;: 1, &quot;subdomains&quot;: &quot;abcd&quot;, &quot;tms&quot;: false}\n",
       "            );\n",
       "        \n",
       "    \n",
       "            tile_layer_4a20d0675e7e46a7a41264a7f6349e14.addTo(map_6f1f5a4c32a1dbc21496cc2f56b3454a);\n",
       "        \n",
       "    \n",
       "\n",
       "        function geo_json_175af9730f9989011fa2732f1a3cc598_onEachFeature(feature, layer) {\n",
       "            layer.on({\n",
       "            });\n",
       "        };\n",
       "        var geo_json_175af9730f9989011fa2732f1a3cc598 = L.geoJson(null, {\n",
       "                onEachFeature: geo_json_175af9730f9989011fa2732f1a3cc598_onEachFeature,\n",
       "            \n",
       "        });\n",
       "\n",
       "        function geo_json_175af9730f9989011fa2732f1a3cc598_add (data) {\n",
       "            geo_json_175af9730f9989011fa2732f1a3cc598\n",
       "                .addData(data);\n",
       "        }\n",
       "            geo_json_175af9730f9989011fa2732f1a3cc598_add({&quot;coordinates&quot;: [[13.922514437551428, 50.964720483303836], [13.925036413951403, 50.96623732041704]], &quot;type&quot;: &quot;LineString&quot;});\n",
       "\n",
       "        \n",
       "    \n",
       "            geo_json_175af9730f9989011fa2732f1a3cc598.addTo(map_6f1f5a4c32a1dbc21496cc2f56b3454a);\n",
       "        \n",
       "    \n",
       "\n",
       "        function geo_json_b76663d97f615b37b5b50120ac27e270_onEachFeature(feature, layer) {\n",
       "            layer.on({\n",
       "            });\n",
       "        };\n",
       "        var geo_json_b76663d97f615b37b5b50120ac27e270 = L.geoJson(null, {\n",
       "                onEachFeature: geo_json_b76663d97f615b37b5b50120ac27e270_onEachFeature,\n",
       "            \n",
       "        });\n",
       "\n",
       "        function geo_json_b76663d97f615b37b5b50120ac27e270_add (data) {\n",
       "            geo_json_b76663d97f615b37b5b50120ac27e270\n",
       "                .addData(data);\n",
       "        }\n",
       "            geo_json_b76663d97f615b37b5b50120ac27e270_add({&quot;coordinates&quot;: [13.9226, 50.9661], &quot;type&quot;: &quot;Point&quot;});\n",
       "\n",
       "        \n",
       "    \n",
       "            geo_json_b76663d97f615b37b5b50120ac27e270.addTo(map_6f1f5a4c32a1dbc21496cc2f56b3454a);\n",
       "        \n",
       "    \n",
       "\n",
       "        function geo_json_0bb247c95bb156416a137c08d465e7b1_onEachFeature(feature, layer) {\n",
       "            layer.on({\n",
       "            });\n",
       "        };\n",
       "        var geo_json_0bb247c95bb156416a137c08d465e7b1 = L.geoJson(null, {\n",
       "                onEachFeature: geo_json_0bb247c95bb156416a137c08d465e7b1_onEachFeature,\n",
       "            \n",
       "        });\n",
       "\n",
       "        function geo_json_0bb247c95bb156416a137c08d465e7b1_add (data) {\n",
       "            geo_json_0bb247c95bb156416a137c08d465e7b1\n",
       "                .addData(data);\n",
       "        }\n",
       "            geo_json_0bb247c95bb156416a137c08d465e7b1_add({&quot;coordinates&quot;: [13.923186570327204, 50.96512473607135], &quot;type&quot;: &quot;Point&quot;});\n",
       "\n",
       "        \n",
       "    \n",
       "            geo_json_0bb247c95bb156416a137c08d465e7b1.addTo(map_6f1f5a4c32a1dbc21496cc2f56b3454a);\n",
       "        \n",
       "    \n",
       "            map_6f1f5a4c32a1dbc21496cc2f56b3454a.fitBounds(\n",
       "                [[50.964720483303836, 13.922514437551428], [50.96623732041704, 13.925036413951403]],\n",
       "                {}\n",
       "            );\n",
       "        \n",
       "&lt;/script&gt;\n",
       "&lt;/html&gt;\" style=\"position:absolute;width:100%;height:100%;left:0;top:0;border:none !important;\" allowfullscreen webkitallowfullscreen mozallowfullscreen></iframe></div></div>"
      ],
      "text/plain": [
       "<folium.folium.Map at 0x11ec974a0>"
      ]
     },
     "execution_count": 6,
     "metadata": {},
     "output_type": "execute_result"
    }
   ],
   "source": [
    "m = folium.Map(tiles=\"cartodbpositron\", crs=\"EPSG3857\", zoom_start=12, location=[50.965, 13.922])\n",
    "m.add_child(folium.GeoJson(line.as_geojson()))\n",
    "m.add_child(folium.GeoJson(point.as_geojson()))\n",
    "m.add_child(folium.GeoJson(nearest_point.as_geojson()))\n",
    "m.fit_bounds(m.get_bounds())\n",
    "m"
   ]
  },
  {
   "cell_type": "markdown",
   "id": "31ef0a164a81f162",
   "metadata": {
    "papermill": {
     "duration": 0.001484,
     "end_time": "2024-06-20T19:03:28.711227",
     "exception": false,
     "start_time": "2024-06-20T19:03:28.709743",
     "status": "completed"
    },
    "tags": []
   },
   "source": [
    "## Calculate the nearest point on a line for an arbitrary point with Shapely project function"
   ]
  },
  {
   "cell_type": "code",
   "execution_count": 7,
   "id": "baf9e6f08177b1ac",
   "metadata": {
    "ExecuteTime": {
     "end_time": "2024-06-07T08:19:51.268578Z",
     "start_time": "2024-06-07T08:19:51.266151Z"
    },
    "execution": {
     "iopub.execute_input": "2024-06-20T19:03:28.714686Z",
     "iopub.status.busy": "2024-06-20T19:03:28.714562Z",
     "iopub.status.idle": "2024-06-20T19:03:28.716750Z",
     "shell.execute_reply": "2024-06-20T19:03:28.716434Z"
    },
    "papermill": {
     "duration": 0.004982,
     "end_time": "2024-06-20T19:03:28.717625",
     "exception": false,
     "start_time": "2024-06-20T19:03:28.712643",
     "status": "completed"
    },
    "tags": []
   },
   "outputs": [],
   "source": [
    "shapely_line = ShapelyLineString(line.coordinates)\n",
    "shapely_point = ShapelyPoint(point.coordinates)\n",
    "nearest_shapely_point_on_linestring = shapely_line.interpolate(shapely_line.project(shapely_point))\n",
    "\n",
    "nearest_point = Point.from_dict({\n",
    "  \"type\": \"Point\",\n",
    "  \"coordinates\": [nearest_shapely_point_on_linestring.x, nearest_shapely_point_on_linestring.y]\n",
    "})"
   ]
  },
  {
   "cell_type": "code",
   "execution_count": 8,
   "id": "fd5dc602e0a8ceb3",
   "metadata": {
    "ExecuteTime": {
     "end_time": "2024-06-07T08:19:51.279301Z",
     "start_time": "2024-06-07T08:19:51.269303Z"
    },
    "execution": {
     "iopub.execute_input": "2024-06-20T19:03:28.721407Z",
     "iopub.status.busy": "2024-06-20T19:03:28.721277Z",
     "iopub.status.idle": "2024-06-20T19:03:28.730345Z",
     "shell.execute_reply": "2024-06-20T19:03:28.730073Z"
    },
    "papermill": {
     "duration": 0.012003,
     "end_time": "2024-06-20T19:03:28.731267",
     "exception": false,
     "start_time": "2024-06-20T19:03:28.719264",
     "status": "completed"
    },
    "tags": []
   },
   "outputs": [
    {
     "data": {
      "text/html": [
       "<div style=\"width:100%;\"><div style=\"position:relative;width:100%;height:0;padding-bottom:60%;\"><span style=\"color:#565656\">Make this Notebook Trusted to load map: File -> Trust Notebook</span><iframe srcdoc=\"&lt;!DOCTYPE html&gt;\n",
       "&lt;html&gt;\n",
       "&lt;head&gt;\n",
       "    \n",
       "    &lt;meta http-equiv=&quot;content-type&quot; content=&quot;text/html; charset=UTF-8&quot; /&gt;\n",
       "    \n",
       "        &lt;script&gt;\n",
       "            L_NO_TOUCH = false;\n",
       "            L_DISABLE_3D = false;\n",
       "        &lt;/script&gt;\n",
       "    \n",
       "    &lt;style&gt;html, body {width: 100%;height: 100%;margin: 0;padding: 0;}&lt;/style&gt;\n",
       "    &lt;style&gt;#map {position:absolute;top:0;bottom:0;right:0;left:0;}&lt;/style&gt;\n",
       "    &lt;script src=&quot;https://cdn.jsdelivr.net/npm/leaflet@1.9.3/dist/leaflet.js&quot;&gt;&lt;/script&gt;\n",
       "    &lt;script src=&quot;https://code.jquery.com/jquery-3.7.1.min.js&quot;&gt;&lt;/script&gt;\n",
       "    &lt;script src=&quot;https://cdn.jsdelivr.net/npm/bootstrap@5.2.2/dist/js/bootstrap.bundle.min.js&quot;&gt;&lt;/script&gt;\n",
       "    &lt;script src=&quot;https://cdnjs.cloudflare.com/ajax/libs/Leaflet.awesome-markers/2.0.2/leaflet.awesome-markers.js&quot;&gt;&lt;/script&gt;\n",
       "    &lt;link rel=&quot;stylesheet&quot; href=&quot;https://cdn.jsdelivr.net/npm/leaflet@1.9.3/dist/leaflet.css&quot;/&gt;\n",
       "    &lt;link rel=&quot;stylesheet&quot; href=&quot;https://cdn.jsdelivr.net/npm/bootstrap@5.2.2/dist/css/bootstrap.min.css&quot;/&gt;\n",
       "    &lt;link rel=&quot;stylesheet&quot; href=&quot;https://netdna.bootstrapcdn.com/bootstrap/3.0.0/css/bootstrap.min.css&quot;/&gt;\n",
       "    &lt;link rel=&quot;stylesheet&quot; href=&quot;https://cdn.jsdelivr.net/npm/@fortawesome/fontawesome-free@6.2.0/css/all.min.css&quot;/&gt;\n",
       "    &lt;link rel=&quot;stylesheet&quot; href=&quot;https://cdnjs.cloudflare.com/ajax/libs/Leaflet.awesome-markers/2.0.2/leaflet.awesome-markers.css&quot;/&gt;\n",
       "    &lt;link rel=&quot;stylesheet&quot; href=&quot;https://cdn.jsdelivr.net/gh/python-visualization/folium/folium/templates/leaflet.awesome.rotate.min.css&quot;/&gt;\n",
       "    \n",
       "            &lt;meta name=&quot;viewport&quot; content=&quot;width=device-width,\n",
       "                initial-scale=1.0, maximum-scale=1.0, user-scalable=no&quot; /&gt;\n",
       "            &lt;style&gt;\n",
       "                #map_718dc2e5490acc149e64375ed9d57cce {\n",
       "                    position: relative;\n",
       "                    width: 100.0%;\n",
       "                    height: 100.0%;\n",
       "                    left: 0.0%;\n",
       "                    top: 0.0%;\n",
       "                }\n",
       "                .leaflet-container { font-size: 1rem; }\n",
       "            &lt;/style&gt;\n",
       "        \n",
       "&lt;/head&gt;\n",
       "&lt;body&gt;\n",
       "    \n",
       "    \n",
       "            &lt;div class=&quot;folium-map&quot; id=&quot;map_718dc2e5490acc149e64375ed9d57cce&quot; &gt;&lt;/div&gt;\n",
       "        \n",
       "&lt;/body&gt;\n",
       "&lt;script&gt;\n",
       "    \n",
       "    \n",
       "            var map_718dc2e5490acc149e64375ed9d57cce = L.map(\n",
       "                &quot;map_718dc2e5490acc149e64375ed9d57cce&quot;,\n",
       "                {\n",
       "                    center: [50.965, 13.922],\n",
       "                    crs: L.CRS.EPSG3857,\n",
       "                    zoom: 12,\n",
       "                    zoomControl: true,\n",
       "                    preferCanvas: false,\n",
       "                }\n",
       "            );\n",
       "\n",
       "            \n",
       "\n",
       "        \n",
       "    \n",
       "            var tile_layer_022493d66031a21c0da4d85b50ed2bda = L.tileLayer(\n",
       "                &quot;https://{s}.basemaps.cartocdn.com/light_all/{z}/{x}/{y}{r}.png&quot;,\n",
       "                {&quot;attribution&quot;: &quot;\\u0026copy; \\u003ca href=\\&quot;https://www.openstreetmap.org/copyright\\&quot;\\u003eOpenStreetMap\\u003c/a\\u003e contributors \\u0026copy; \\u003ca href=\\&quot;https://carto.com/attributions\\&quot;\\u003eCARTO\\u003c/a\\u003e&quot;, &quot;detectRetina&quot;: false, &quot;maxNativeZoom&quot;: 20, &quot;maxZoom&quot;: 20, &quot;minZoom&quot;: 0, &quot;noWrap&quot;: false, &quot;opacity&quot;: 1, &quot;subdomains&quot;: &quot;abcd&quot;, &quot;tms&quot;: false}\n",
       "            );\n",
       "        \n",
       "    \n",
       "            tile_layer_022493d66031a21c0da4d85b50ed2bda.addTo(map_718dc2e5490acc149e64375ed9d57cce);\n",
       "        \n",
       "    \n",
       "\n",
       "        function geo_json_6a16e1edf6eee94ac4dff5897801c5f9_onEachFeature(feature, layer) {\n",
       "            layer.on({\n",
       "            });\n",
       "        };\n",
       "        var geo_json_6a16e1edf6eee94ac4dff5897801c5f9 = L.geoJson(null, {\n",
       "                onEachFeature: geo_json_6a16e1edf6eee94ac4dff5897801c5f9_onEachFeature,\n",
       "            \n",
       "        });\n",
       "\n",
       "        function geo_json_6a16e1edf6eee94ac4dff5897801c5f9_add (data) {\n",
       "            geo_json_6a16e1edf6eee94ac4dff5897801c5f9\n",
       "                .addData(data);\n",
       "        }\n",
       "            geo_json_6a16e1edf6eee94ac4dff5897801c5f9_add({&quot;coordinates&quot;: [[13.922514437551428, 50.964720483303836], [13.925036413951403, 50.96623732041704]], &quot;type&quot;: &quot;LineString&quot;});\n",
       "\n",
       "        \n",
       "    \n",
       "            geo_json_6a16e1edf6eee94ac4dff5897801c5f9.addTo(map_718dc2e5490acc149e64375ed9d57cce);\n",
       "        \n",
       "    \n",
       "\n",
       "        function geo_json_a3ac1bf7ed2223a88cfc1b96d8528fac_onEachFeature(feature, layer) {\n",
       "            layer.on({\n",
       "            });\n",
       "        };\n",
       "        var geo_json_a3ac1bf7ed2223a88cfc1b96d8528fac = L.geoJson(null, {\n",
       "                onEachFeature: geo_json_a3ac1bf7ed2223a88cfc1b96d8528fac_onEachFeature,\n",
       "            \n",
       "        });\n",
       "\n",
       "        function geo_json_a3ac1bf7ed2223a88cfc1b96d8528fac_add (data) {\n",
       "            geo_json_a3ac1bf7ed2223a88cfc1b96d8528fac\n",
       "                .addData(data);\n",
       "        }\n",
       "            geo_json_a3ac1bf7ed2223a88cfc1b96d8528fac_add({&quot;coordinates&quot;: [13.9226, 50.9661], &quot;type&quot;: &quot;Point&quot;});\n",
       "\n",
       "        \n",
       "    \n",
       "            geo_json_a3ac1bf7ed2223a88cfc1b96d8528fac.addTo(map_718dc2e5490acc149e64375ed9d57cce);\n",
       "        \n",
       "    \n",
       "\n",
       "        function geo_json_c2e982ef080d57b16661fd2c3e904797_onEachFeature(feature, layer) {\n",
       "            layer.on({\n",
       "            });\n",
       "        };\n",
       "        var geo_json_c2e982ef080d57b16661fd2c3e904797 = L.geoJson(null, {\n",
       "                onEachFeature: geo_json_c2e982ef080d57b16661fd2c3e904797_onEachFeature,\n",
       "            \n",
       "        });\n",
       "\n",
       "        function geo_json_c2e982ef080d57b16661fd2c3e904797_add (data) {\n",
       "            geo_json_c2e982ef080d57b16661fd2c3e904797\n",
       "                .addData(data);\n",
       "        }\n",
       "            geo_json_c2e982ef080d57b16661fd2c3e904797_add({&quot;coordinates&quot;: [13.923186570327204, 50.96512473607135], &quot;type&quot;: &quot;Point&quot;});\n",
       "\n",
       "        \n",
       "    \n",
       "            geo_json_c2e982ef080d57b16661fd2c3e904797.addTo(map_718dc2e5490acc149e64375ed9d57cce);\n",
       "        \n",
       "    \n",
       "            map_718dc2e5490acc149e64375ed9d57cce.fitBounds(\n",
       "                [[50.964720483303836, 13.922514437551428], [50.96623732041704, 13.925036413951403]],\n",
       "                {}\n",
       "            );\n",
       "        \n",
       "&lt;/script&gt;\n",
       "&lt;/html&gt;\" style=\"position:absolute;width:100%;height:100%;left:0;top:0;border:none !important;\" allowfullscreen webkitallowfullscreen mozallowfullscreen></iframe></div></div>"
      ],
      "text/plain": [
       "<folium.folium.Map at 0x11ee02de0>"
      ]
     },
     "execution_count": 8,
     "metadata": {},
     "output_type": "execute_result"
    }
   ],
   "source": [
    "m = folium.Map(tiles=\"cartodbpositron\", crs=\"EPSG3857\", zoom_start=12, location=[50.965, 13.922])\n",
    "m.add_child(folium.GeoJson(line.as_geojson()))\n",
    "m.add_child(folium.GeoJson(point.as_geojson()))\n",
    "m.add_child(folium.GeoJson(nearest_point.as_geojson()))\n",
    "m.fit_bounds(m.get_bounds())\n",
    "m"
   ]
  },
  {
   "cell_type": "code",
   "execution_count": null,
   "id": "2e1569d1b20ec1c9",
   "metadata": {
    "ExecuteTime": {
     "end_time": "2024-06-07T08:19:51.283186Z",
     "start_time": "2024-06-07T08:19:51.280681Z"
    },
    "papermill": {
     "duration": 0.001544,
     "end_time": "2024-06-20T19:03:28.734623",
     "exception": false,
     "start_time": "2024-06-20T19:03:28.733079",
     "status": "completed"
    },
    "tags": []
   },
   "outputs": [],
   "source": []
  }
 ],
 "metadata": {
  "kernelspec": {
   "display_name": "Python 3",
   "language": "python",
   "name": "python3"
  },
  "language_info": {
   "codemirror_mode": {
    "name": "ipython",
    "version": 3
   },
   "file_extension": ".py",
   "mimetype": "text/x-python",
   "name": "python",
   "nbconvert_exporter": "python",
   "pygments_lexer": "ipython3",
   "version": "3.12.2"
  },
  "papermill": {
   "default_parameters": {},
   "duration": 1.373854,
   "end_time": "2024-06-20T19:03:28.952959",
   "environment_variables": {},
   "exception": null,
   "input_path": "./notebooks/LineStringNearestPoint.ipynb",
   "output_path": "./notebooks/LineStringNearestPoint.ipynb",
   "parameters": {},
   "start_time": "2024-06-20T19:03:27.579105",
   "version": "2.6.0"
  }
 },
 "nbformat": 4,
 "nbformat_minor": 5
}
