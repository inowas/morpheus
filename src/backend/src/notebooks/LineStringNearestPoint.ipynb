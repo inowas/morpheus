{
 "cells": [
  {
   "cell_type": "code",
   "execution_count": 1,
   "id": "ba6761fae9d5e5cb",
   "metadata": {
    "ExecuteTime": {
     "end_time": "2024-08-19T09:45:27.548124Z",
     "start_time": "2024-08-19T09:45:27.541309Z"
    },
    "collapsed": false,
    "execution": {
     "iopub.execute_input": "2024-08-19T20:03:44.293591Z",
     "iopub.status.busy": "2024-08-19T20:03:44.293218Z",
     "iopub.status.idle": "2024-08-19T20:03:44.298133Z",
     "shell.execute_reply": "2024-08-19T20:03:44.297520Z"
    },
    "papermill": {
     "duration": 0.016546,
     "end_time": "2024-08-19T20:03:44.300206",
     "exception": false,
     "start_time": "2024-08-19T20:03:44.283660",
     "status": "completed"
    },
    "tags": []
   },
   "outputs": [],
   "source": [
    "import sys\n",
    "\n",
    "sys.path.insert(0, '..')"
   ]
  },
  {
   "cell_type": "markdown",
   "id": "5ede1ba5e0993dd1",
   "metadata": {
    "collapsed": false,
    "papermill": {
     "duration": 0.002811,
     "end_time": "2024-08-19T20:03:44.306771",
     "exception": false,
     "start_time": "2024-08-19T20:03:44.303960",
     "status": "completed"
    },
    "tags": []
   },
   "source": [
    "# Calculate the nearest point on a line for an arbitrary point"
   ]
  },
  {
   "cell_type": "markdown",
   "id": "90453a1d75202b2b",
   "metadata": {
    "papermill": {
     "duration": 0.002706,
     "end_time": "2024-08-19T20:03:44.312245",
     "exception": false,
     "start_time": "2024-08-19T20:03:44.309539",
     "status": "completed"
    },
    "tags": []
   },
   "source": [
    "## Final implementation test"
   ]
  },
  {
   "cell_type": "code",
   "execution_count": 2,
   "id": "2f69504ab35487aa",
   "metadata": {
    "ExecuteTime": {
     "end_time": "2024-08-19T09:45:27.857551Z",
     "start_time": "2024-08-19T09:45:27.550242Z"
    },
    "collapsed": false,
    "execution": {
     "iopub.execute_input": "2024-08-19T20:03:44.318396Z",
     "iopub.status.busy": "2024-08-19T20:03:44.317995Z",
     "iopub.status.idle": "2024-08-19T20:03:44.393143Z",
     "shell.execute_reply": "2024-08-19T20:03:44.392369Z"
    },
    "papermill": {
     "duration": 0.080844,
     "end_time": "2024-08-19T20:03:44.395462",
     "exception": false,
     "start_time": "2024-08-19T20:03:44.314618",
     "status": "completed"
    },
    "tags": []
   },
   "outputs": [],
   "source": [
    "from morpheus.project.types.geometry import Point, LineString\n",
    "\n",
    "line = LineString.from_dict({\n",
    "  \"type\": \"LineString\",\n",
    "  \"coordinates\": [(13.922514437551428, 50.964720483303836), (13.925036413951403, 50.96623732041704)]\n",
    "})\n",
    "\n",
    "point = Point.from_dict({\n",
    "  \"type\": \"Point\",\n",
    "  \"coordinates\": [13.9226, 50.9661]\n",
    "})\n",
    "\n",
    "nearest_point = line.nearest_point(point)"
   ]
  },
  {
   "cell_type": "code",
   "execution_count": 3,
   "id": "1540b870ae83f298",
   "metadata": {
    "ExecuteTime": {
     "end_time": "2024-08-19T09:45:28.381849Z",
     "start_time": "2024-08-19T09:45:27.862056Z"
    },
    "collapsed": false,
    "execution": {
     "iopub.execute_input": "2024-08-19T20:03:44.405243Z",
     "iopub.status.busy": "2024-08-19T20:03:44.404406Z",
     "iopub.status.idle": "2024-08-19T20:03:44.779647Z",
     "shell.execute_reply": "2024-08-19T20:03:44.779389Z"
    },
    "papermill": {
     "duration": 0.381155,
     "end_time": "2024-08-19T20:03:44.780504",
     "exception": false,
     "start_time": "2024-08-19T20:03:44.399349",
     "status": "completed"
    },
    "tags": []
   },
   "outputs": [
    {
     "data": {
      "text/html": [
       "<div style=\"width:100%;\"><div style=\"position:relative;width:100%;height:0;padding-bottom:60%;\"><span style=\"color:#565656\">Make this Notebook Trusted to load map: File -> Trust Notebook</span><iframe srcdoc=\"&lt;!DOCTYPE html&gt;\n",
       "&lt;html&gt;\n",
       "&lt;head&gt;\n",
       "    \n",
       "    &lt;meta http-equiv=&quot;content-type&quot; content=&quot;text/html; charset=UTF-8&quot; /&gt;\n",
       "    \n",
       "        &lt;script&gt;\n",
       "            L_NO_TOUCH = false;\n",
       "            L_DISABLE_3D = false;\n",
       "        &lt;/script&gt;\n",
       "    \n",
       "    &lt;style&gt;html, body {width: 100%;height: 100%;margin: 0;padding: 0;}&lt;/style&gt;\n",
       "    &lt;style&gt;#map {position:absolute;top:0;bottom:0;right:0;left:0;}&lt;/style&gt;\n",
       "    &lt;script src=&quot;https://cdn.jsdelivr.net/npm/leaflet@1.9.3/dist/leaflet.js&quot;&gt;&lt;/script&gt;\n",
       "    &lt;script src=&quot;https://code.jquery.com/jquery-3.7.1.min.js&quot;&gt;&lt;/script&gt;\n",
       "    &lt;script src=&quot;https://cdn.jsdelivr.net/npm/bootstrap@5.2.2/dist/js/bootstrap.bundle.min.js&quot;&gt;&lt;/script&gt;\n",
       "    &lt;script src=&quot;https://cdnjs.cloudflare.com/ajax/libs/Leaflet.awesome-markers/2.0.2/leaflet.awesome-markers.js&quot;&gt;&lt;/script&gt;\n",
       "    &lt;link rel=&quot;stylesheet&quot; href=&quot;https://cdn.jsdelivr.net/npm/leaflet@1.9.3/dist/leaflet.css&quot;/&gt;\n",
       "    &lt;link rel=&quot;stylesheet&quot; href=&quot;https://cdn.jsdelivr.net/npm/bootstrap@5.2.2/dist/css/bootstrap.min.css&quot;/&gt;\n",
       "    &lt;link rel=&quot;stylesheet&quot; href=&quot;https://netdna.bootstrapcdn.com/bootstrap/3.0.0/css/bootstrap.min.css&quot;/&gt;\n",
       "    &lt;link rel=&quot;stylesheet&quot; href=&quot;https://cdn.jsdelivr.net/npm/@fortawesome/fontawesome-free@6.2.0/css/all.min.css&quot;/&gt;\n",
       "    &lt;link rel=&quot;stylesheet&quot; href=&quot;https://cdnjs.cloudflare.com/ajax/libs/Leaflet.awesome-markers/2.0.2/leaflet.awesome-markers.css&quot;/&gt;\n",
       "    &lt;link rel=&quot;stylesheet&quot; href=&quot;https://cdn.jsdelivr.net/gh/python-visualization/folium/folium/templates/leaflet.awesome.rotate.min.css&quot;/&gt;\n",
       "    \n",
       "            &lt;meta name=&quot;viewport&quot; content=&quot;width=device-width,\n",
       "                initial-scale=1.0, maximum-scale=1.0, user-scalable=no&quot; /&gt;\n",
       "            &lt;style&gt;\n",
       "                #map_1255769c21ccb393dd66cd93e90d0549 {\n",
       "                    position: relative;\n",
       "                    width: 100.0%;\n",
       "                    height: 100.0%;\n",
       "                    left: 0.0%;\n",
       "                    top: 0.0%;\n",
       "                }\n",
       "                .leaflet-container { font-size: 1rem; }\n",
       "            &lt;/style&gt;\n",
       "        \n",
       "&lt;/head&gt;\n",
       "&lt;body&gt;\n",
       "    \n",
       "    \n",
       "            &lt;div class=&quot;folium-map&quot; id=&quot;map_1255769c21ccb393dd66cd93e90d0549&quot; &gt;&lt;/div&gt;\n",
       "        \n",
       "&lt;/body&gt;\n",
       "&lt;script&gt;\n",
       "    \n",
       "    \n",
       "            var map_1255769c21ccb393dd66cd93e90d0549 = L.map(\n",
       "                &quot;map_1255769c21ccb393dd66cd93e90d0549&quot;,\n",
       "                {\n",
       "                    center: [50.965, 13.922],\n",
       "                    crs: L.CRS.EPSG3857,\n",
       "                    zoom: 12,\n",
       "                    zoomControl: true,\n",
       "                    preferCanvas: false,\n",
       "                }\n",
       "            );\n",
       "\n",
       "            \n",
       "\n",
       "        \n",
       "    \n",
       "            var tile_layer_80876bab802b8de693997cd1e333a46b = L.tileLayer(\n",
       "                &quot;https://{s}.basemaps.cartocdn.com/light_all/{z}/{x}/{y}{r}.png&quot;,\n",
       "                {&quot;attribution&quot;: &quot;\\u0026copy; \\u003ca href=\\&quot;https://www.openstreetmap.org/copyright\\&quot;\\u003eOpenStreetMap\\u003c/a\\u003e contributors \\u0026copy; \\u003ca href=\\&quot;https://carto.com/attributions\\&quot;\\u003eCARTO\\u003c/a\\u003e&quot;, &quot;detectRetina&quot;: false, &quot;maxNativeZoom&quot;: 20, &quot;maxZoom&quot;: 20, &quot;minZoom&quot;: 0, &quot;noWrap&quot;: false, &quot;opacity&quot;: 1, &quot;subdomains&quot;: &quot;abcd&quot;, &quot;tms&quot;: false}\n",
       "            );\n",
       "        \n",
       "    \n",
       "            tile_layer_80876bab802b8de693997cd1e333a46b.addTo(map_1255769c21ccb393dd66cd93e90d0549);\n",
       "        \n",
       "    \n",
       "\n",
       "        function geo_json_ee9bc8cdc30352e0928c913b62e613c1_onEachFeature(feature, layer) {\n",
       "            layer.on({\n",
       "            });\n",
       "        };\n",
       "        var geo_json_ee9bc8cdc30352e0928c913b62e613c1 = L.geoJson(null, {\n",
       "                onEachFeature: geo_json_ee9bc8cdc30352e0928c913b62e613c1_onEachFeature,\n",
       "            \n",
       "        });\n",
       "\n",
       "        function geo_json_ee9bc8cdc30352e0928c913b62e613c1_add (data) {\n",
       "            geo_json_ee9bc8cdc30352e0928c913b62e613c1\n",
       "                .addData(data);\n",
       "        }\n",
       "            geo_json_ee9bc8cdc30352e0928c913b62e613c1_add({&quot;coordinates&quot;: [[13.922514437551428, 50.964720483303836], [13.925036413951403, 50.96623732041704]], &quot;type&quot;: &quot;LineString&quot;});\n",
       "\n",
       "        \n",
       "    \n",
       "            geo_json_ee9bc8cdc30352e0928c913b62e613c1.addTo(map_1255769c21ccb393dd66cd93e90d0549);\n",
       "        \n",
       "    \n",
       "\n",
       "        function geo_json_2e4057e0c345c352700ce75470c505e6_onEachFeature(feature, layer) {\n",
       "            layer.on({\n",
       "            });\n",
       "        };\n",
       "        var geo_json_2e4057e0c345c352700ce75470c505e6 = L.geoJson(null, {\n",
       "                onEachFeature: geo_json_2e4057e0c345c352700ce75470c505e6_onEachFeature,\n",
       "            \n",
       "        });\n",
       "\n",
       "        function geo_json_2e4057e0c345c352700ce75470c505e6_add (data) {\n",
       "            geo_json_2e4057e0c345c352700ce75470c505e6\n",
       "                .addData(data);\n",
       "        }\n",
       "            geo_json_2e4057e0c345c352700ce75470c505e6_add({&quot;coordinates&quot;: [13.9226, 50.9661], &quot;type&quot;: &quot;Point&quot;});\n",
       "\n",
       "        \n",
       "    \n",
       "            geo_json_2e4057e0c345c352700ce75470c505e6.addTo(map_1255769c21ccb393dd66cd93e90d0549);\n",
       "        \n",
       "    \n",
       "\n",
       "        function geo_json_8c6e795f0c3c205b5d43c464a8d6edf8_onEachFeature(feature, layer) {\n",
       "            layer.on({\n",
       "            });\n",
       "        };\n",
       "        var geo_json_8c6e795f0c3c205b5d43c464a8d6edf8 = L.geoJson(null, {\n",
       "                onEachFeature: geo_json_8c6e795f0c3c205b5d43c464a8d6edf8_onEachFeature,\n",
       "            \n",
       "        });\n",
       "\n",
       "        function geo_json_8c6e795f0c3c205b5d43c464a8d6edf8_add (data) {\n",
       "            geo_json_8c6e795f0c3c205b5d43c464a8d6edf8\n",
       "                .addData(data);\n",
       "        }\n",
       "            geo_json_8c6e795f0c3c205b5d43c464a8d6edf8_add({&quot;coordinates&quot;: [13.923186570327204, 50.96512473607135], &quot;type&quot;: &quot;Point&quot;});\n",
       "\n",
       "        \n",
       "    \n",
       "            geo_json_8c6e795f0c3c205b5d43c464a8d6edf8.addTo(map_1255769c21ccb393dd66cd93e90d0549);\n",
       "        \n",
       "    \n",
       "            map_1255769c21ccb393dd66cd93e90d0549.fitBounds(\n",
       "                [[50.964720483303836, 13.922514437551428], [50.96623732041704, 13.925036413951403]],\n",
       "                {}\n",
       "            );\n",
       "        \n",
       "&lt;/script&gt;\n",
       "&lt;/html&gt;\" style=\"position:absolute;width:100%;height:100%;left:0;top:0;border:none !important;\" allowfullscreen webkitallowfullscreen mozallowfullscreen></iframe></div></div>"
      ],
      "text/plain": [
       "<folium.folium.Map at 0x1309f0260>"
      ]
     },
     "execution_count": 3,
     "metadata": {},
     "output_type": "execute_result"
    }
   ],
   "source": [
    "import folium\n",
    "\n",
    "m = folium.Map(tiles=\"cartodbpositron\", crs=\"EPSG3857\", zoom_start=12, location=[50.965, 13.922])\n",
    "m.add_child(folium.GeoJson(line.as_geojson()))\n",
    "m.add_child(folium.GeoJson(point.as_geojson()))\n",
    "m.add_child(folium.GeoJson(nearest_point.as_geojson()))\n",
    "\n",
    "m.fit_bounds(m.get_bounds())\n",
    "m"
   ]
  },
  {
   "cell_type": "markdown",
   "id": "8d308845e05fbdbc",
   "metadata": {
    "papermill": {
     "duration": 0.001244,
     "end_time": "2024-08-19T20:03:44.783268",
     "exception": false,
     "start_time": "2024-08-19T20:03:44.782024",
     "status": "completed"
    },
    "tags": []
   },
   "source": [
    "## Calculate the nearest point on a line for an arbitrary point with Shapely nearest_points function"
   ]
  },
  {
   "cell_type": "code",
   "execution_count": 4,
   "id": "244bf8b386deca17",
   "metadata": {
    "ExecuteTime": {
     "end_time": "2024-08-19T09:45:28.390280Z",
     "start_time": "2024-08-19T09:45:28.383012Z"
    },
    "execution": {
     "iopub.execute_input": "2024-08-19T20:03:44.786315Z",
     "iopub.status.busy": "2024-08-19T20:03:44.786157Z",
     "iopub.status.idle": "2024-08-19T20:03:44.789903Z",
     "shell.execute_reply": "2024-08-19T20:03:44.789627Z"
    },
    "papermill": {
     "duration": 0.006211,
     "end_time": "2024-08-19T20:03:44.790706",
     "exception": false,
     "start_time": "2024-08-19T20:03:44.784495",
     "status": "completed"
    },
    "tags": []
   },
   "outputs": [
    {
     "data": {
      "text/plain": [
       "(<POINT (13.923 50.965)>, <POINT (13.923 50.966)>)"
      ]
     },
     "execution_count": 4,
     "metadata": {},
     "output_type": "execute_result"
    }
   ],
   "source": [
    "from shapely.geometry import LineString as ShapelyLineString, Point as ShapelyPoint\n",
    "from shapely.ops import nearest_points\n",
    "from morpheus.project.types.geometry import Point\n",
    "\n",
    "shapely_line = ShapelyLineString(line.coordinates)\n",
    "shapely_point = ShapelyPoint(point.coordinates)\n",
    "nearest_points = nearest_points(shapely_line, shapely_point)\n",
    "nearest_points"
   ]
  },
  {
   "cell_type": "code",
   "execution_count": 5,
   "id": "7d28fcc1cfd90668",
   "metadata": {
    "ExecuteTime": {
     "end_time": "2024-08-19T09:45:28.397080Z",
     "start_time": "2024-08-19T09:45:28.394119Z"
    },
    "execution": {
     "iopub.execute_input": "2024-08-19T20:03:44.794290Z",
     "iopub.status.busy": "2024-08-19T20:03:44.794175Z",
     "iopub.status.idle": "2024-08-19T20:03:44.796162Z",
     "shell.execute_reply": "2024-08-19T20:03:44.795922Z"
    },
    "papermill": {
     "duration": 0.004718,
     "end_time": "2024-08-19T20:03:44.796940",
     "exception": false,
     "start_time": "2024-08-19T20:03:44.792222",
     "status": "completed"
    },
    "tags": []
   },
   "outputs": [],
   "source": [
    "from morpheus.project.types.geometry import Point\n",
    "nearest_shapely_point_on_linestring = nearest_points[0] \n",
    "nearest_point = Point.from_dict({\n",
    "  \"type\": \"Point\",\n",
    "  \"coordinates\": [nearest_shapely_point_on_linestring.x, nearest_shapely_point_on_linestring.y]\n",
    "})"
   ]
  },
  {
   "cell_type": "code",
   "execution_count": 6,
   "id": "45b04c9a6449437b",
   "metadata": {
    "ExecuteTime": {
     "end_time": "2024-08-19T09:45:28.409250Z",
     "start_time": "2024-08-19T09:45:28.397960Z"
    },
    "execution": {
     "iopub.execute_input": "2024-08-19T20:03:44.800579Z",
     "iopub.status.busy": "2024-08-19T20:03:44.800364Z",
     "iopub.status.idle": "2024-08-19T20:03:44.809303Z",
     "shell.execute_reply": "2024-08-19T20:03:44.809050Z"
    },
    "papermill": {
     "duration": 0.011565,
     "end_time": "2024-08-19T20:03:44.810063",
     "exception": false,
     "start_time": "2024-08-19T20:03:44.798498",
     "status": "completed"
    },
    "tags": []
   },
   "outputs": [
    {
     "data": {
      "text/html": [
       "<div style=\"width:100%;\"><div style=\"position:relative;width:100%;height:0;padding-bottom:60%;\"><span style=\"color:#565656\">Make this Notebook Trusted to load map: File -> Trust Notebook</span><iframe srcdoc=\"&lt;!DOCTYPE html&gt;\n",
       "&lt;html&gt;\n",
       "&lt;head&gt;\n",
       "    \n",
       "    &lt;meta http-equiv=&quot;content-type&quot; content=&quot;text/html; charset=UTF-8&quot; /&gt;\n",
       "    \n",
       "        &lt;script&gt;\n",
       "            L_NO_TOUCH = false;\n",
       "            L_DISABLE_3D = false;\n",
       "        &lt;/script&gt;\n",
       "    \n",
       "    &lt;style&gt;html, body {width: 100%;height: 100%;margin: 0;padding: 0;}&lt;/style&gt;\n",
       "    &lt;style&gt;#map {position:absolute;top:0;bottom:0;right:0;left:0;}&lt;/style&gt;\n",
       "    &lt;script src=&quot;https://cdn.jsdelivr.net/npm/leaflet@1.9.3/dist/leaflet.js&quot;&gt;&lt;/script&gt;\n",
       "    &lt;script src=&quot;https://code.jquery.com/jquery-3.7.1.min.js&quot;&gt;&lt;/script&gt;\n",
       "    &lt;script src=&quot;https://cdn.jsdelivr.net/npm/bootstrap@5.2.2/dist/js/bootstrap.bundle.min.js&quot;&gt;&lt;/script&gt;\n",
       "    &lt;script src=&quot;https://cdnjs.cloudflare.com/ajax/libs/Leaflet.awesome-markers/2.0.2/leaflet.awesome-markers.js&quot;&gt;&lt;/script&gt;\n",
       "    &lt;link rel=&quot;stylesheet&quot; href=&quot;https://cdn.jsdelivr.net/npm/leaflet@1.9.3/dist/leaflet.css&quot;/&gt;\n",
       "    &lt;link rel=&quot;stylesheet&quot; href=&quot;https://cdn.jsdelivr.net/npm/bootstrap@5.2.2/dist/css/bootstrap.min.css&quot;/&gt;\n",
       "    &lt;link rel=&quot;stylesheet&quot; href=&quot;https://netdna.bootstrapcdn.com/bootstrap/3.0.0/css/bootstrap.min.css&quot;/&gt;\n",
       "    &lt;link rel=&quot;stylesheet&quot; href=&quot;https://cdn.jsdelivr.net/npm/@fortawesome/fontawesome-free@6.2.0/css/all.min.css&quot;/&gt;\n",
       "    &lt;link rel=&quot;stylesheet&quot; href=&quot;https://cdnjs.cloudflare.com/ajax/libs/Leaflet.awesome-markers/2.0.2/leaflet.awesome-markers.css&quot;/&gt;\n",
       "    &lt;link rel=&quot;stylesheet&quot; href=&quot;https://cdn.jsdelivr.net/gh/python-visualization/folium/folium/templates/leaflet.awesome.rotate.min.css&quot;/&gt;\n",
       "    \n",
       "            &lt;meta name=&quot;viewport&quot; content=&quot;width=device-width,\n",
       "                initial-scale=1.0, maximum-scale=1.0, user-scalable=no&quot; /&gt;\n",
       "            &lt;style&gt;\n",
       "                #map_5a532cadab8e338247c5b779663fb7bc {\n",
       "                    position: relative;\n",
       "                    width: 100.0%;\n",
       "                    height: 100.0%;\n",
       "                    left: 0.0%;\n",
       "                    top: 0.0%;\n",
       "                }\n",
       "                .leaflet-container { font-size: 1rem; }\n",
       "            &lt;/style&gt;\n",
       "        \n",
       "&lt;/head&gt;\n",
       "&lt;body&gt;\n",
       "    \n",
       "    \n",
       "            &lt;div class=&quot;folium-map&quot; id=&quot;map_5a532cadab8e338247c5b779663fb7bc&quot; &gt;&lt;/div&gt;\n",
       "        \n",
       "&lt;/body&gt;\n",
       "&lt;script&gt;\n",
       "    \n",
       "    \n",
       "            var map_5a532cadab8e338247c5b779663fb7bc = L.map(\n",
       "                &quot;map_5a532cadab8e338247c5b779663fb7bc&quot;,\n",
       "                {\n",
       "                    center: [50.965, 13.922],\n",
       "                    crs: L.CRS.EPSG3857,\n",
       "                    zoom: 12,\n",
       "                    zoomControl: true,\n",
       "                    preferCanvas: false,\n",
       "                }\n",
       "            );\n",
       "\n",
       "            \n",
       "\n",
       "        \n",
       "    \n",
       "            var tile_layer_82000922e7f9d8bd7d230310ebf538ff = L.tileLayer(\n",
       "                &quot;https://{s}.basemaps.cartocdn.com/light_all/{z}/{x}/{y}{r}.png&quot;,\n",
       "                {&quot;attribution&quot;: &quot;\\u0026copy; \\u003ca href=\\&quot;https://www.openstreetmap.org/copyright\\&quot;\\u003eOpenStreetMap\\u003c/a\\u003e contributors \\u0026copy; \\u003ca href=\\&quot;https://carto.com/attributions\\&quot;\\u003eCARTO\\u003c/a\\u003e&quot;, &quot;detectRetina&quot;: false, &quot;maxNativeZoom&quot;: 20, &quot;maxZoom&quot;: 20, &quot;minZoom&quot;: 0, &quot;noWrap&quot;: false, &quot;opacity&quot;: 1, &quot;subdomains&quot;: &quot;abcd&quot;, &quot;tms&quot;: false}\n",
       "            );\n",
       "        \n",
       "    \n",
       "            tile_layer_82000922e7f9d8bd7d230310ebf538ff.addTo(map_5a532cadab8e338247c5b779663fb7bc);\n",
       "        \n",
       "    \n",
       "\n",
       "        function geo_json_dec35a2e1a4346adc735bff018a096a4_onEachFeature(feature, layer) {\n",
       "            layer.on({\n",
       "            });\n",
       "        };\n",
       "        var geo_json_dec35a2e1a4346adc735bff018a096a4 = L.geoJson(null, {\n",
       "                onEachFeature: geo_json_dec35a2e1a4346adc735bff018a096a4_onEachFeature,\n",
       "            \n",
       "        });\n",
       "\n",
       "        function geo_json_dec35a2e1a4346adc735bff018a096a4_add (data) {\n",
       "            geo_json_dec35a2e1a4346adc735bff018a096a4\n",
       "                .addData(data);\n",
       "        }\n",
       "            geo_json_dec35a2e1a4346adc735bff018a096a4_add({&quot;coordinates&quot;: [[13.922514437551428, 50.964720483303836], [13.925036413951403, 50.96623732041704]], &quot;type&quot;: &quot;LineString&quot;});\n",
       "\n",
       "        \n",
       "    \n",
       "            geo_json_dec35a2e1a4346adc735bff018a096a4.addTo(map_5a532cadab8e338247c5b779663fb7bc);\n",
       "        \n",
       "    \n",
       "\n",
       "        function geo_json_e636f17b51d64e6b388a31e044ab11b1_onEachFeature(feature, layer) {\n",
       "            layer.on({\n",
       "            });\n",
       "        };\n",
       "        var geo_json_e636f17b51d64e6b388a31e044ab11b1 = L.geoJson(null, {\n",
       "                onEachFeature: geo_json_e636f17b51d64e6b388a31e044ab11b1_onEachFeature,\n",
       "            \n",
       "        });\n",
       "\n",
       "        function geo_json_e636f17b51d64e6b388a31e044ab11b1_add (data) {\n",
       "            geo_json_e636f17b51d64e6b388a31e044ab11b1\n",
       "                .addData(data);\n",
       "        }\n",
       "            geo_json_e636f17b51d64e6b388a31e044ab11b1_add({&quot;coordinates&quot;: [13.9226, 50.9661], &quot;type&quot;: &quot;Point&quot;});\n",
       "\n",
       "        \n",
       "    \n",
       "            geo_json_e636f17b51d64e6b388a31e044ab11b1.addTo(map_5a532cadab8e338247c5b779663fb7bc);\n",
       "        \n",
       "    \n",
       "\n",
       "        function geo_json_02f0fea90297cd1765cd26d0b2e224c5_onEachFeature(feature, layer) {\n",
       "            layer.on({\n",
       "            });\n",
       "        };\n",
       "        var geo_json_02f0fea90297cd1765cd26d0b2e224c5 = L.geoJson(null, {\n",
       "                onEachFeature: geo_json_02f0fea90297cd1765cd26d0b2e224c5_onEachFeature,\n",
       "            \n",
       "        });\n",
       "\n",
       "        function geo_json_02f0fea90297cd1765cd26d0b2e224c5_add (data) {\n",
       "            geo_json_02f0fea90297cd1765cd26d0b2e224c5\n",
       "                .addData(data);\n",
       "        }\n",
       "            geo_json_02f0fea90297cd1765cd26d0b2e224c5_add({&quot;coordinates&quot;: [13.923186570327204, 50.96512473607135], &quot;type&quot;: &quot;Point&quot;});\n",
       "\n",
       "        \n",
       "    \n",
       "            geo_json_02f0fea90297cd1765cd26d0b2e224c5.addTo(map_5a532cadab8e338247c5b779663fb7bc);\n",
       "        \n",
       "    \n",
       "            map_5a532cadab8e338247c5b779663fb7bc.fitBounds(\n",
       "                [[50.964720483303836, 13.922514437551428], [50.96623732041704, 13.925036413951403]],\n",
       "                {}\n",
       "            );\n",
       "        \n",
       "&lt;/script&gt;\n",
       "&lt;/html&gt;\" style=\"position:absolute;width:100%;height:100%;left:0;top:0;border:none !important;\" allowfullscreen webkitallowfullscreen mozallowfullscreen></iframe></div></div>"
      ],
      "text/plain": [
       "<folium.folium.Map at 0x130d40350>"
      ]
     },
     "execution_count": 6,
     "metadata": {},
     "output_type": "execute_result"
    }
   ],
   "source": [
    "m = folium.Map(tiles=\"cartodbpositron\", crs=\"EPSG3857\", zoom_start=12, location=[50.965, 13.922])\n",
    "m.add_child(folium.GeoJson(line.as_geojson()))\n",
    "m.add_child(folium.GeoJson(point.as_geojson()))\n",
    "m.add_child(folium.GeoJson(nearest_point.as_geojson()))\n",
    "m.fit_bounds(m.get_bounds())\n",
    "m"
   ]
  },
  {
   "cell_type": "markdown",
   "id": "31ef0a164a81f162",
   "metadata": {
    "papermill": {
     "duration": 0.001345,
     "end_time": "2024-08-19T20:03:44.812919",
     "exception": false,
     "start_time": "2024-08-19T20:03:44.811574",
     "status": "completed"
    },
    "tags": []
   },
   "source": [
    "## Calculate the nearest point on a line for an arbitrary point with Shapely project function"
   ]
  },
  {
   "cell_type": "code",
   "execution_count": 7,
   "id": "baf9e6f08177b1ac",
   "metadata": {
    "ExecuteTime": {
     "end_time": "2024-08-19T09:45:28.414228Z",
     "start_time": "2024-08-19T09:45:28.411154Z"
    },
    "execution": {
     "iopub.execute_input": "2024-08-19T20:03:44.816043Z",
     "iopub.status.busy": "2024-08-19T20:03:44.815940Z",
     "iopub.status.idle": "2024-08-19T20:03:44.817972Z",
     "shell.execute_reply": "2024-08-19T20:03:44.817756Z"
    },
    "papermill": {
     "duration": 0.004475,
     "end_time": "2024-08-19T20:03:44.818705",
     "exception": false,
     "start_time": "2024-08-19T20:03:44.814230",
     "status": "completed"
    },
    "tags": []
   },
   "outputs": [],
   "source": [
    "shapely_line = ShapelyLineString(line.coordinates)\n",
    "shapely_point = ShapelyPoint(point.coordinates)\n",
    "nearest_shapely_point_on_linestring = shapely_line.interpolate(shapely_line.project(shapely_point))\n",
    "\n",
    "nearest_point = Point.from_dict({\n",
    "  \"type\": \"Point\",\n",
    "  \"coordinates\": [nearest_shapely_point_on_linestring.x, nearest_shapely_point_on_linestring.y]\n",
    "})"
   ]
  },
  {
   "cell_type": "code",
   "execution_count": 8,
   "id": "fd5dc602e0a8ceb3",
   "metadata": {
    "ExecuteTime": {
     "end_time": "2024-08-19T09:45:28.427930Z",
     "start_time": "2024-08-19T09:45:28.415261Z"
    },
    "execution": {
     "iopub.execute_input": "2024-08-19T20:03:44.822028Z",
     "iopub.status.busy": "2024-08-19T20:03:44.821934Z",
     "iopub.status.idle": "2024-08-19T20:03:44.830387Z",
     "shell.execute_reply": "2024-08-19T20:03:44.830179Z"
    },
    "papermill": {
     "duration": 0.01097,
     "end_time": "2024-08-19T20:03:44.831155",
     "exception": false,
     "start_time": "2024-08-19T20:03:44.820185",
     "status": "completed"
    },
    "tags": []
   },
   "outputs": [
    {
     "data": {
      "text/html": [
       "<div style=\"width:100%;\"><div style=\"position:relative;width:100%;height:0;padding-bottom:60%;\"><span style=\"color:#565656\">Make this Notebook Trusted to load map: File -> Trust Notebook</span><iframe srcdoc=\"&lt;!DOCTYPE html&gt;\n",
       "&lt;html&gt;\n",
       "&lt;head&gt;\n",
       "    \n",
       "    &lt;meta http-equiv=&quot;content-type&quot; content=&quot;text/html; charset=UTF-8&quot; /&gt;\n",
       "    \n",
       "        &lt;script&gt;\n",
       "            L_NO_TOUCH = false;\n",
       "            L_DISABLE_3D = false;\n",
       "        &lt;/script&gt;\n",
       "    \n",
       "    &lt;style&gt;html, body {width: 100%;height: 100%;margin: 0;padding: 0;}&lt;/style&gt;\n",
       "    &lt;style&gt;#map {position:absolute;top:0;bottom:0;right:0;left:0;}&lt;/style&gt;\n",
       "    &lt;script src=&quot;https://cdn.jsdelivr.net/npm/leaflet@1.9.3/dist/leaflet.js&quot;&gt;&lt;/script&gt;\n",
       "    &lt;script src=&quot;https://code.jquery.com/jquery-3.7.1.min.js&quot;&gt;&lt;/script&gt;\n",
       "    &lt;script src=&quot;https://cdn.jsdelivr.net/npm/bootstrap@5.2.2/dist/js/bootstrap.bundle.min.js&quot;&gt;&lt;/script&gt;\n",
       "    &lt;script src=&quot;https://cdnjs.cloudflare.com/ajax/libs/Leaflet.awesome-markers/2.0.2/leaflet.awesome-markers.js&quot;&gt;&lt;/script&gt;\n",
       "    &lt;link rel=&quot;stylesheet&quot; href=&quot;https://cdn.jsdelivr.net/npm/leaflet@1.9.3/dist/leaflet.css&quot;/&gt;\n",
       "    &lt;link rel=&quot;stylesheet&quot; href=&quot;https://cdn.jsdelivr.net/npm/bootstrap@5.2.2/dist/css/bootstrap.min.css&quot;/&gt;\n",
       "    &lt;link rel=&quot;stylesheet&quot; href=&quot;https://netdna.bootstrapcdn.com/bootstrap/3.0.0/css/bootstrap.min.css&quot;/&gt;\n",
       "    &lt;link rel=&quot;stylesheet&quot; href=&quot;https://cdn.jsdelivr.net/npm/@fortawesome/fontawesome-free@6.2.0/css/all.min.css&quot;/&gt;\n",
       "    &lt;link rel=&quot;stylesheet&quot; href=&quot;https://cdnjs.cloudflare.com/ajax/libs/Leaflet.awesome-markers/2.0.2/leaflet.awesome-markers.css&quot;/&gt;\n",
       "    &lt;link rel=&quot;stylesheet&quot; href=&quot;https://cdn.jsdelivr.net/gh/python-visualization/folium/folium/templates/leaflet.awesome.rotate.min.css&quot;/&gt;\n",
       "    \n",
       "            &lt;meta name=&quot;viewport&quot; content=&quot;width=device-width,\n",
       "                initial-scale=1.0, maximum-scale=1.0, user-scalable=no&quot; /&gt;\n",
       "            &lt;style&gt;\n",
       "                #map_9ea077e97c5a3a52f7e192f287ad8925 {\n",
       "                    position: relative;\n",
       "                    width: 100.0%;\n",
       "                    height: 100.0%;\n",
       "                    left: 0.0%;\n",
       "                    top: 0.0%;\n",
       "                }\n",
       "                .leaflet-container { font-size: 1rem; }\n",
       "            &lt;/style&gt;\n",
       "        \n",
       "&lt;/head&gt;\n",
       "&lt;body&gt;\n",
       "    \n",
       "    \n",
       "            &lt;div class=&quot;folium-map&quot; id=&quot;map_9ea077e97c5a3a52f7e192f287ad8925&quot; &gt;&lt;/div&gt;\n",
       "        \n",
       "&lt;/body&gt;\n",
       "&lt;script&gt;\n",
       "    \n",
       "    \n",
       "            var map_9ea077e97c5a3a52f7e192f287ad8925 = L.map(\n",
       "                &quot;map_9ea077e97c5a3a52f7e192f287ad8925&quot;,\n",
       "                {\n",
       "                    center: [50.965, 13.922],\n",
       "                    crs: L.CRS.EPSG3857,\n",
       "                    zoom: 12,\n",
       "                    zoomControl: true,\n",
       "                    preferCanvas: false,\n",
       "                }\n",
       "            );\n",
       "\n",
       "            \n",
       "\n",
       "        \n",
       "    \n",
       "            var tile_layer_12f250e5a5d390887dfa50607109cfaa = L.tileLayer(\n",
       "                &quot;https://{s}.basemaps.cartocdn.com/light_all/{z}/{x}/{y}{r}.png&quot;,\n",
       "                {&quot;attribution&quot;: &quot;\\u0026copy; \\u003ca href=\\&quot;https://www.openstreetmap.org/copyright\\&quot;\\u003eOpenStreetMap\\u003c/a\\u003e contributors \\u0026copy; \\u003ca href=\\&quot;https://carto.com/attributions\\&quot;\\u003eCARTO\\u003c/a\\u003e&quot;, &quot;detectRetina&quot;: false, &quot;maxNativeZoom&quot;: 20, &quot;maxZoom&quot;: 20, &quot;minZoom&quot;: 0, &quot;noWrap&quot;: false, &quot;opacity&quot;: 1, &quot;subdomains&quot;: &quot;abcd&quot;, &quot;tms&quot;: false}\n",
       "            );\n",
       "        \n",
       "    \n",
       "            tile_layer_12f250e5a5d390887dfa50607109cfaa.addTo(map_9ea077e97c5a3a52f7e192f287ad8925);\n",
       "        \n",
       "    \n",
       "\n",
       "        function geo_json_f43165bd0dc610f82c629d7b97c3e59b_onEachFeature(feature, layer) {\n",
       "            layer.on({\n",
       "            });\n",
       "        };\n",
       "        var geo_json_f43165bd0dc610f82c629d7b97c3e59b = L.geoJson(null, {\n",
       "                onEachFeature: geo_json_f43165bd0dc610f82c629d7b97c3e59b_onEachFeature,\n",
       "            \n",
       "        });\n",
       "\n",
       "        function geo_json_f43165bd0dc610f82c629d7b97c3e59b_add (data) {\n",
       "            geo_json_f43165bd0dc610f82c629d7b97c3e59b\n",
       "                .addData(data);\n",
       "        }\n",
       "            geo_json_f43165bd0dc610f82c629d7b97c3e59b_add({&quot;coordinates&quot;: [[13.922514437551428, 50.964720483303836], [13.925036413951403, 50.96623732041704]], &quot;type&quot;: &quot;LineString&quot;});\n",
       "\n",
       "        \n",
       "    \n",
       "            geo_json_f43165bd0dc610f82c629d7b97c3e59b.addTo(map_9ea077e97c5a3a52f7e192f287ad8925);\n",
       "        \n",
       "    \n",
       "\n",
       "        function geo_json_4e2d273e0a065f46aaa7db784ffb786f_onEachFeature(feature, layer) {\n",
       "            layer.on({\n",
       "            });\n",
       "        };\n",
       "        var geo_json_4e2d273e0a065f46aaa7db784ffb786f = L.geoJson(null, {\n",
       "                onEachFeature: geo_json_4e2d273e0a065f46aaa7db784ffb786f_onEachFeature,\n",
       "            \n",
       "        });\n",
       "\n",
       "        function geo_json_4e2d273e0a065f46aaa7db784ffb786f_add (data) {\n",
       "            geo_json_4e2d273e0a065f46aaa7db784ffb786f\n",
       "                .addData(data);\n",
       "        }\n",
       "            geo_json_4e2d273e0a065f46aaa7db784ffb786f_add({&quot;coordinates&quot;: [13.9226, 50.9661], &quot;type&quot;: &quot;Point&quot;});\n",
       "\n",
       "        \n",
       "    \n",
       "            geo_json_4e2d273e0a065f46aaa7db784ffb786f.addTo(map_9ea077e97c5a3a52f7e192f287ad8925);\n",
       "        \n",
       "    \n",
       "\n",
       "        function geo_json_b23bb978a3eb41e4378403419066c951_onEachFeature(feature, layer) {\n",
       "            layer.on({\n",
       "            });\n",
       "        };\n",
       "        var geo_json_b23bb978a3eb41e4378403419066c951 = L.geoJson(null, {\n",
       "                onEachFeature: geo_json_b23bb978a3eb41e4378403419066c951_onEachFeature,\n",
       "            \n",
       "        });\n",
       "\n",
       "        function geo_json_b23bb978a3eb41e4378403419066c951_add (data) {\n",
       "            geo_json_b23bb978a3eb41e4378403419066c951\n",
       "                .addData(data);\n",
       "        }\n",
       "            geo_json_b23bb978a3eb41e4378403419066c951_add({&quot;coordinates&quot;: [13.923186570327204, 50.96512473607135], &quot;type&quot;: &quot;Point&quot;});\n",
       "\n",
       "        \n",
       "    \n",
       "            geo_json_b23bb978a3eb41e4378403419066c951.addTo(map_9ea077e97c5a3a52f7e192f287ad8925);\n",
       "        \n",
       "    \n",
       "            map_9ea077e97c5a3a52f7e192f287ad8925.fitBounds(\n",
       "                [[50.964720483303836, 13.922514437551428], [50.96623732041704, 13.925036413951403]],\n",
       "                {}\n",
       "            );\n",
       "        \n",
       "&lt;/script&gt;\n",
       "&lt;/html&gt;\" style=\"position:absolute;width:100%;height:100%;left:0;top:0;border:none !important;\" allowfullscreen webkitallowfullscreen mozallowfullscreen></iframe></div></div>"
      ],
      "text/plain": [
       "<folium.folium.Map at 0x130d40260>"
      ]
     },
     "execution_count": 8,
     "metadata": {},
     "output_type": "execute_result"
    }
   ],
   "source": [
    "m = folium.Map(tiles=\"cartodbpositron\", crs=\"EPSG3857\", zoom_start=12, location=[50.965, 13.922])\n",
    "m.add_child(folium.GeoJson(line.as_geojson()))\n",
    "m.add_child(folium.GeoJson(point.as_geojson()))\n",
    "m.add_child(folium.GeoJson(nearest_point.as_geojson()))\n",
    "m.fit_bounds(m.get_bounds())\n",
    "m"
   ]
  },
  {
   "cell_type": "code",
   "execution_count": null,
   "id": "2e1569d1b20ec1c9",
   "metadata": {
    "ExecuteTime": {
     "end_time": "2024-08-19T09:45:28.432804Z",
     "start_time": "2024-08-19T09:45:28.430916Z"
    },
    "papermill": {
     "duration": 0.001496,
     "end_time": "2024-08-19T20:03:44.834175",
     "exception": false,
     "start_time": "2024-08-19T20:03:44.832679",
     "status": "completed"
    },
    "tags": []
   },
   "outputs": [],
   "source": []
  }
 ],
 "metadata": {
  "kernelspec": {
   "display_name": "Python 3",
   "language": "python",
   "name": "python3"
  },
  "language_info": {
   "codemirror_mode": {
    "name": "ipython",
    "version": 3
   },
   "file_extension": ".py",
   "mimetype": "text/x-python",
   "name": "python",
   "nbconvert_exporter": "python",
   "pygments_lexer": "ipython3",
   "version": "3.12.2"
  },
  "papermill": {
   "default_parameters": {},
   "duration": 1.372352,
   "end_time": "2024-08-19T20:03:45.051588",
   "environment_variables": {},
   "exception": null,
   "input_path": "./notebooks/LineStringNearestPoint.ipynb",
   "output_path": "./notebooks/LineStringNearestPoint.ipynb",
   "parameters": {},
   "start_time": "2024-08-19T20:03:43.679236",
   "version": "2.6.0"
  }
 },
 "nbformat": 4,
 "nbformat_minor": 5
}