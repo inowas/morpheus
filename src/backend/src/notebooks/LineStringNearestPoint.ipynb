{
 "cells": [
  {
   "cell_type": "code",
   "id": "ba6761fae9d5e5cb",
   "metadata": {
    "collapsed": false,
    "execution": {
     "iopub.execute_input": "2024-06-20T19:03:28.130994Z",
     "iopub.status.busy": "2024-06-20T19:03:28.130478Z",
     "iopub.status.idle": "2024-06-20T19:03:28.136886Z",
     "shell.execute_reply": "2024-06-20T19:03:28.135938Z"
    },
    "papermill": {
     "duration": 0.017786,
     "end_time": "2024-06-20T19:03:28.140544",
     "exception": false,
     "start_time": "2024-06-20T19:03:28.122758",
     "status": "completed"
    },
    "tags": [],
    "ExecuteTime": {
     "end_time": "2024-08-19T09:45:27.548124Z",
     "start_time": "2024-08-19T09:45:27.541309Z"
    }
   },
   "source": [
    "import sys\n",
    "\n",
    "sys.path.insert(0, '..')"
   ],
   "outputs": [],
   "execution_count": 1
  },
  {
   "cell_type": "markdown",
   "id": "5ede1ba5e0993dd1",
   "metadata": {
    "collapsed": false,
    "papermill": {
     "duration": 0.005282,
     "end_time": "2024-06-20T19:03:28.153057",
     "exception": false,
     "start_time": "2024-06-20T19:03:28.147775",
     "status": "completed"
    },
    "tags": []
   },
   "source": [
    "# Calculate the nearest point on a line for an arbitrary point"
   ]
  },
  {
   "cell_type": "markdown",
   "id": "90453a1d75202b2b",
   "metadata": {
    "papermill": {
     "duration": 0.003657,
     "end_time": "2024-06-20T19:03:28.161605",
     "exception": false,
     "start_time": "2024-06-20T19:03:28.157948",
     "status": "completed"
    },
    "tags": []
   },
   "source": [
    "## Final implementation test"
   ]
  },
  {
   "cell_type": "code",
   "id": "2f69504ab35487aa",
   "metadata": {
    "collapsed": false,
    "execution": {
     "iopub.execute_input": "2024-06-20T19:03:28.169346Z",
     "iopub.status.busy": "2024-06-20T19:03:28.168876Z",
     "iopub.status.idle": "2024-06-20T19:03:28.268629Z",
     "shell.execute_reply": "2024-06-20T19:03:28.267876Z"
    },
    "papermill": {
     "duration": 0.106791,
     "end_time": "2024-06-20T19:03:28.271702",
     "exception": false,
     "start_time": "2024-06-20T19:03:28.164911",
     "status": "completed"
    },
    "tags": [],
    "ExecuteTime": {
     "end_time": "2024-08-19T09:45:27.857551Z",
     "start_time": "2024-08-19T09:45:27.550242Z"
    }
   },
   "source": [
    "from morpheus.project.types.geometry import Point, LineString\n",
    "\n",
    "line = LineString.from_dict({\n",
    "  \"type\": \"LineString\",\n",
    "  \"coordinates\": [(13.922514437551428, 50.964720483303836), (13.925036413951403, 50.96623732041704)]\n",
    "})\n",
    "\n",
    "point = Point.from_dict({\n",
    "  \"type\": \"Point\",\n",
    "  \"coordinates\": [13.9226, 50.9661]\n",
    "})\n",
    "\n",
    "nearest_point = line.nearest_point(point)"
   ],
   "outputs": [],
   "execution_count": 2
  },
  {
   "cell_type": "code",
   "id": "1540b870ae83f298",
   "metadata": {
    "collapsed": false,
    "execution": {
     "iopub.execute_input": "2024-06-20T19:03:28.281642Z",
     "iopub.status.busy": "2024-06-20T19:03:28.281048Z",
     "iopub.status.idle": "2024-06-20T19:03:28.675695Z",
     "shell.execute_reply": "2024-06-20T19:03:28.675394Z"
    },
    "papermill": {
     "duration": 0.400984,
     "end_time": "2024-06-20T19:03:28.676832",
     "exception": false,
     "start_time": "2024-06-20T19:03:28.275848",
     "status": "completed"
    },
    "tags": [],
    "ExecuteTime": {
     "end_time": "2024-08-19T09:45:28.381849Z",
     "start_time": "2024-08-19T09:45:27.862056Z"
    }
   },
   "source": [
    "import folium\n",
    "\n",
    "m = folium.Map(tiles=\"cartodbpositron\", crs=\"EPSG3857\", zoom_start=12, location=[50.965, 13.922])\n",
    "m.add_child(folium.GeoJson(line.as_geojson()))\n",
    "m.add_child(folium.GeoJson(point.as_geojson()))\n",
    "m.add_child(folium.GeoJson(nearest_point.as_geojson()))\n",
    "\n",
    "m.fit_bounds(m.get_bounds())\n",
    "m"
   ],
   "outputs": [
    {
     "data": {
      "text/plain": [
       "<folium.folium.Map at 0x117787380>"
      ],
      "text/html": [
       "<div style=\"width:100%;\"><div style=\"position:relative;width:100%;height:0;padding-bottom:60%;\"><span style=\"color:#565656\">Make this Notebook Trusted to load map: File -> Trust Notebook</span><iframe srcdoc=\"&lt;!DOCTYPE html&gt;\n",
       "&lt;html&gt;\n",
       "&lt;head&gt;\n",
       "    \n",
       "    &lt;meta http-equiv=&quot;content-type&quot; content=&quot;text/html; charset=UTF-8&quot; /&gt;\n",
       "    \n",
       "        &lt;script&gt;\n",
       "            L_NO_TOUCH = false;\n",
       "            L_DISABLE_3D = false;\n",
       "        &lt;/script&gt;\n",
       "    \n",
       "    &lt;style&gt;html, body {width: 100%;height: 100%;margin: 0;padding: 0;}&lt;/style&gt;\n",
       "    &lt;style&gt;#map {position:absolute;top:0;bottom:0;right:0;left:0;}&lt;/style&gt;\n",
       "    &lt;script src=&quot;https://cdn.jsdelivr.net/npm/leaflet@1.9.3/dist/leaflet.js&quot;&gt;&lt;/script&gt;\n",
       "    &lt;script src=&quot;https://code.jquery.com/jquery-3.7.1.min.js&quot;&gt;&lt;/script&gt;\n",
       "    &lt;script src=&quot;https://cdn.jsdelivr.net/npm/bootstrap@5.2.2/dist/js/bootstrap.bundle.min.js&quot;&gt;&lt;/script&gt;\n",
       "    &lt;script src=&quot;https://cdnjs.cloudflare.com/ajax/libs/Leaflet.awesome-markers/2.0.2/leaflet.awesome-markers.js&quot;&gt;&lt;/script&gt;\n",
       "    &lt;link rel=&quot;stylesheet&quot; href=&quot;https://cdn.jsdelivr.net/npm/leaflet@1.9.3/dist/leaflet.css&quot;/&gt;\n",
       "    &lt;link rel=&quot;stylesheet&quot; href=&quot;https://cdn.jsdelivr.net/npm/bootstrap@5.2.2/dist/css/bootstrap.min.css&quot;/&gt;\n",
       "    &lt;link rel=&quot;stylesheet&quot; href=&quot;https://netdna.bootstrapcdn.com/bootstrap/3.0.0/css/bootstrap.min.css&quot;/&gt;\n",
       "    &lt;link rel=&quot;stylesheet&quot; href=&quot;https://cdn.jsdelivr.net/npm/@fortawesome/fontawesome-free@6.2.0/css/all.min.css&quot;/&gt;\n",
       "    &lt;link rel=&quot;stylesheet&quot; href=&quot;https://cdnjs.cloudflare.com/ajax/libs/Leaflet.awesome-markers/2.0.2/leaflet.awesome-markers.css&quot;/&gt;\n",
       "    &lt;link rel=&quot;stylesheet&quot; href=&quot;https://cdn.jsdelivr.net/gh/python-visualization/folium/folium/templates/leaflet.awesome.rotate.min.css&quot;/&gt;\n",
       "    \n",
       "            &lt;meta name=&quot;viewport&quot; content=&quot;width=device-width,\n",
       "                initial-scale=1.0, maximum-scale=1.0, user-scalable=no&quot; /&gt;\n",
       "            &lt;style&gt;\n",
       "                #map_963540b80db329818b8fa878e4fa6c91 {\n",
       "                    position: relative;\n",
       "                    width: 100.0%;\n",
       "                    height: 100.0%;\n",
       "                    left: 0.0%;\n",
       "                    top: 0.0%;\n",
       "                }\n",
       "                .leaflet-container { font-size: 1rem; }\n",
       "            &lt;/style&gt;\n",
       "        \n",
       "&lt;/head&gt;\n",
       "&lt;body&gt;\n",
       "    \n",
       "    \n",
       "            &lt;div class=&quot;folium-map&quot; id=&quot;map_963540b80db329818b8fa878e4fa6c91&quot; &gt;&lt;/div&gt;\n",
       "        \n",
       "&lt;/body&gt;\n",
       "&lt;script&gt;\n",
       "    \n",
       "    \n",
       "            var map_963540b80db329818b8fa878e4fa6c91 = L.map(\n",
       "                &quot;map_963540b80db329818b8fa878e4fa6c91&quot;,\n",
       "                {\n",
       "                    center: [50.965, 13.922],\n",
       "                    crs: L.CRS.EPSG3857,\n",
       "                    zoom: 12,\n",
       "                    zoomControl: true,\n",
       "                    preferCanvas: false,\n",
       "                }\n",
       "            );\n",
       "\n",
       "            \n",
       "\n",
       "        \n",
       "    \n",
       "            var tile_layer_4d7c4cc2a7d81429680782379d2f5a33 = L.tileLayer(\n",
       "                &quot;https://{s}.basemaps.cartocdn.com/light_all/{z}/{x}/{y}{r}.png&quot;,\n",
       "                {&quot;attribution&quot;: &quot;\\u0026copy; \\u003ca href=\\&quot;https://www.openstreetmap.org/copyright\\&quot;\\u003eOpenStreetMap\\u003c/a\\u003e contributors \\u0026copy; \\u003ca href=\\&quot;https://carto.com/attributions\\&quot;\\u003eCARTO\\u003c/a\\u003e&quot;, &quot;detectRetina&quot;: false, &quot;maxNativeZoom&quot;: 20, &quot;maxZoom&quot;: 20, &quot;minZoom&quot;: 0, &quot;noWrap&quot;: false, &quot;opacity&quot;: 1, &quot;subdomains&quot;: &quot;abcd&quot;, &quot;tms&quot;: false}\n",
       "            );\n",
       "        \n",
       "    \n",
       "            tile_layer_4d7c4cc2a7d81429680782379d2f5a33.addTo(map_963540b80db329818b8fa878e4fa6c91);\n",
       "        \n",
       "    \n",
       "\n",
       "        function geo_json_2b792ce4b8ed56b315850e84181c835d_onEachFeature(feature, layer) {\n",
       "            layer.on({\n",
       "            });\n",
       "        };\n",
       "        var geo_json_2b792ce4b8ed56b315850e84181c835d = L.geoJson(null, {\n",
       "                onEachFeature: geo_json_2b792ce4b8ed56b315850e84181c835d_onEachFeature,\n",
       "            \n",
       "        });\n",
       "\n",
       "        function geo_json_2b792ce4b8ed56b315850e84181c835d_add (data) {\n",
       "            geo_json_2b792ce4b8ed56b315850e84181c835d\n",
       "                .addData(data);\n",
       "        }\n",
       "            geo_json_2b792ce4b8ed56b315850e84181c835d_add({&quot;coordinates&quot;: [[13.922514437551428, 50.964720483303836], [13.925036413951403, 50.96623732041704]], &quot;type&quot;: &quot;LineString&quot;});\n",
       "\n",
       "        \n",
       "    \n",
       "            geo_json_2b792ce4b8ed56b315850e84181c835d.addTo(map_963540b80db329818b8fa878e4fa6c91);\n",
       "        \n",
       "    \n",
       "\n",
       "        function geo_json_aa2ca7647e76767d7bc522b7dace6efd_onEachFeature(feature, layer) {\n",
       "            layer.on({\n",
       "            });\n",
       "        };\n",
       "        var geo_json_aa2ca7647e76767d7bc522b7dace6efd = L.geoJson(null, {\n",
       "                onEachFeature: geo_json_aa2ca7647e76767d7bc522b7dace6efd_onEachFeature,\n",
       "            \n",
       "        });\n",
       "\n",
       "        function geo_json_aa2ca7647e76767d7bc522b7dace6efd_add (data) {\n",
       "            geo_json_aa2ca7647e76767d7bc522b7dace6efd\n",
       "                .addData(data);\n",
       "        }\n",
       "            geo_json_aa2ca7647e76767d7bc522b7dace6efd_add({&quot;coordinates&quot;: [13.9226, 50.9661], &quot;type&quot;: &quot;Point&quot;});\n",
       "\n",
       "        \n",
       "    \n",
       "            geo_json_aa2ca7647e76767d7bc522b7dace6efd.addTo(map_963540b80db329818b8fa878e4fa6c91);\n",
       "        \n",
       "    \n",
       "\n",
       "        function geo_json_db699eff440cb39700f31f9962418096_onEachFeature(feature, layer) {\n",
       "            layer.on({\n",
       "            });\n",
       "        };\n",
       "        var geo_json_db699eff440cb39700f31f9962418096 = L.geoJson(null, {\n",
       "                onEachFeature: geo_json_db699eff440cb39700f31f9962418096_onEachFeature,\n",
       "            \n",
       "        });\n",
       "\n",
       "        function geo_json_db699eff440cb39700f31f9962418096_add (data) {\n",
       "            geo_json_db699eff440cb39700f31f9962418096\n",
       "                .addData(data);\n",
       "        }\n",
       "            geo_json_db699eff440cb39700f31f9962418096_add({&quot;coordinates&quot;: [13.923186570327204, 50.96512473607135], &quot;type&quot;: &quot;Point&quot;});\n",
       "\n",
       "        \n",
       "    \n",
       "            geo_json_db699eff440cb39700f31f9962418096.addTo(map_963540b80db329818b8fa878e4fa6c91);\n",
       "        \n",
       "    \n",
       "            map_963540b80db329818b8fa878e4fa6c91.fitBounds(\n",
       "                [[50.964720483303836, 13.922514437551428], [50.96623732041704, 13.925036413951403]],\n",
       "                {}\n",
       "            );\n",
       "        \n",
       "&lt;/script&gt;\n",
       "&lt;/html&gt;\" style=\"position:absolute;width:100%;height:100%;left:0;top:0;border:none !important;\" allowfullscreen webkitallowfullscreen mozallowfullscreen></iframe></div></div>"
      ]
     },
     "execution_count": 3,
     "metadata": {},
     "output_type": "execute_result"
    }
   ],
   "execution_count": 3
  },
  {
   "cell_type": "markdown",
   "id": "8d308845e05fbdbc",
   "metadata": {
    "papermill": {
     "duration": 0.001292,
     "end_time": "2024-06-20T19:03:28.679691",
     "exception": false,
     "start_time": "2024-06-20T19:03:28.678399",
     "status": "completed"
    },
    "tags": []
   },
   "source": [
    "## Calculate the nearest point on a line for an arbitrary point with Shapely nearest_points function"
   ]
  },
  {
   "cell_type": "code",
   "id": "244bf8b386deca17",
   "metadata": {
    "execution": {
     "iopub.execute_input": "2024-06-20T19:03:28.683102Z",
     "iopub.status.busy": "2024-06-20T19:03:28.682838Z",
     "iopub.status.idle": "2024-06-20T19:03:28.687256Z",
     "shell.execute_reply": "2024-06-20T19:03:28.686992Z"
    },
    "papermill": {
     "duration": 0.007106,
     "end_time": "2024-06-20T19:03:28.688162",
     "exception": false,
     "start_time": "2024-06-20T19:03:28.681056",
     "status": "completed"
    },
    "tags": [],
    "ExecuteTime": {
     "end_time": "2024-08-19T09:45:28.390280Z",
     "start_time": "2024-08-19T09:45:28.383012Z"
    }
   },
   "source": [
    "from shapely.geometry import LineString as ShapelyLineString, Point as ShapelyPoint\n",
    "from shapely.ops import nearest_points\n",
    "from morpheus.project.types.geometry import Point\n",
    "\n",
    "shapely_line = ShapelyLineString(line.coordinates)\n",
    "shapely_point = ShapelyPoint(point.coordinates)\n",
    "nearest_points = nearest_points(shapely_line, shapely_point)\n",
    "nearest_points"
   ],
   "outputs": [
    {
     "data": {
      "text/plain": [
       "(<POINT (13.923 50.965)>, <POINT (13.923 50.966)>)"
      ]
     },
     "execution_count": 4,
     "metadata": {},
     "output_type": "execute_result"
    }
   ],
   "execution_count": 4
  },
  {
   "cell_type": "code",
   "id": "7d28fcc1cfd90668",
   "metadata": {
    "execution": {
     "iopub.execute_input": "2024-06-20T19:03:28.691731Z",
     "iopub.status.busy": "2024-06-20T19:03:28.691611Z",
     "iopub.status.idle": "2024-06-20T19:03:28.693664Z",
     "shell.execute_reply": "2024-06-20T19:03:28.693324Z"
    },
    "papermill": {
     "duration": 0.004785,
     "end_time": "2024-06-20T19:03:28.694448",
     "exception": false,
     "start_time": "2024-06-20T19:03:28.689663",
     "status": "completed"
    },
    "tags": [],
    "ExecuteTime": {
     "end_time": "2024-08-19T09:45:28.397080Z",
     "start_time": "2024-08-19T09:45:28.394119Z"
    }
   },
   "source": [
    "from morpheus.project.types.geometry import Point\n",
    "nearest_shapely_point_on_linestring = nearest_points[0] \n",
    "nearest_point = Point.from_dict({\n",
    "  \"type\": \"Point\",\n",
    "  \"coordinates\": [nearest_shapely_point_on_linestring.x, nearest_shapely_point_on_linestring.y]\n",
    "})"
   ],
   "outputs": [],
   "execution_count": 5
  },
  {
   "cell_type": "code",
   "id": "45b04c9a6449437b",
   "metadata": {
    "execution": {
     "iopub.execute_input": "2024-06-20T19:03:28.697902Z",
     "iopub.status.busy": "2024-06-20T19:03:28.697768Z",
     "iopub.status.idle": "2024-06-20T19:03:28.707105Z",
     "shell.execute_reply": "2024-06-20T19:03:28.706856Z"
    },
    "papermill": {
     "duration": 0.01219,
     "end_time": "2024-06-20T19:03:28.708086",
     "exception": false,
     "start_time": "2024-06-20T19:03:28.695896",
     "status": "completed"
    },
    "tags": [],
    "ExecuteTime": {
     "end_time": "2024-08-19T09:45:28.409250Z",
     "start_time": "2024-08-19T09:45:28.397960Z"
    }
   },
   "source": [
    "m = folium.Map(tiles=\"cartodbpositron\", crs=\"EPSG3857\", zoom_start=12, location=[50.965, 13.922])\n",
    "m.add_child(folium.GeoJson(line.as_geojson()))\n",
    "m.add_child(folium.GeoJson(point.as_geojson()))\n",
    "m.add_child(folium.GeoJson(nearest_point.as_geojson()))\n",
    "m.fit_bounds(m.get_bounds())\n",
    "m"
   ],
   "outputs": [
    {
     "data": {
      "text/plain": [
       "<folium.folium.Map at 0x120755850>"
      ],
      "text/html": [
       "<div style=\"width:100%;\"><div style=\"position:relative;width:100%;height:0;padding-bottom:60%;\"><span style=\"color:#565656\">Make this Notebook Trusted to load map: File -> Trust Notebook</span><iframe srcdoc=\"&lt;!DOCTYPE html&gt;\n",
       "&lt;html&gt;\n",
       "&lt;head&gt;\n",
       "    \n",
       "    &lt;meta http-equiv=&quot;content-type&quot; content=&quot;text/html; charset=UTF-8&quot; /&gt;\n",
       "    \n",
       "        &lt;script&gt;\n",
       "            L_NO_TOUCH = false;\n",
       "            L_DISABLE_3D = false;\n",
       "        &lt;/script&gt;\n",
       "    \n",
       "    &lt;style&gt;html, body {width: 100%;height: 100%;margin: 0;padding: 0;}&lt;/style&gt;\n",
       "    &lt;style&gt;#map {position:absolute;top:0;bottom:0;right:0;left:0;}&lt;/style&gt;\n",
       "    &lt;script src=&quot;https://cdn.jsdelivr.net/npm/leaflet@1.9.3/dist/leaflet.js&quot;&gt;&lt;/script&gt;\n",
       "    &lt;script src=&quot;https://code.jquery.com/jquery-3.7.1.min.js&quot;&gt;&lt;/script&gt;\n",
       "    &lt;script src=&quot;https://cdn.jsdelivr.net/npm/bootstrap@5.2.2/dist/js/bootstrap.bundle.min.js&quot;&gt;&lt;/script&gt;\n",
       "    &lt;script src=&quot;https://cdnjs.cloudflare.com/ajax/libs/Leaflet.awesome-markers/2.0.2/leaflet.awesome-markers.js&quot;&gt;&lt;/script&gt;\n",
       "    &lt;link rel=&quot;stylesheet&quot; href=&quot;https://cdn.jsdelivr.net/npm/leaflet@1.9.3/dist/leaflet.css&quot;/&gt;\n",
       "    &lt;link rel=&quot;stylesheet&quot; href=&quot;https://cdn.jsdelivr.net/npm/bootstrap@5.2.2/dist/css/bootstrap.min.css&quot;/&gt;\n",
       "    &lt;link rel=&quot;stylesheet&quot; href=&quot;https://netdna.bootstrapcdn.com/bootstrap/3.0.0/css/bootstrap.min.css&quot;/&gt;\n",
       "    &lt;link rel=&quot;stylesheet&quot; href=&quot;https://cdn.jsdelivr.net/npm/@fortawesome/fontawesome-free@6.2.0/css/all.min.css&quot;/&gt;\n",
       "    &lt;link rel=&quot;stylesheet&quot; href=&quot;https://cdnjs.cloudflare.com/ajax/libs/Leaflet.awesome-markers/2.0.2/leaflet.awesome-markers.css&quot;/&gt;\n",
       "    &lt;link rel=&quot;stylesheet&quot; href=&quot;https://cdn.jsdelivr.net/gh/python-visualization/folium/folium/templates/leaflet.awesome.rotate.min.css&quot;/&gt;\n",
       "    \n",
       "            &lt;meta name=&quot;viewport&quot; content=&quot;width=device-width,\n",
       "                initial-scale=1.0, maximum-scale=1.0, user-scalable=no&quot; /&gt;\n",
       "            &lt;style&gt;\n",
       "                #map_b403389e8aa958ea2c8d9937b8652957 {\n",
       "                    position: relative;\n",
       "                    width: 100.0%;\n",
       "                    height: 100.0%;\n",
       "                    left: 0.0%;\n",
       "                    top: 0.0%;\n",
       "                }\n",
       "                .leaflet-container { font-size: 1rem; }\n",
       "            &lt;/style&gt;\n",
       "        \n",
       "&lt;/head&gt;\n",
       "&lt;body&gt;\n",
       "    \n",
       "    \n",
       "            &lt;div class=&quot;folium-map&quot; id=&quot;map_b403389e8aa958ea2c8d9937b8652957&quot; &gt;&lt;/div&gt;\n",
       "        \n",
       "&lt;/body&gt;\n",
       "&lt;script&gt;\n",
       "    \n",
       "    \n",
       "            var map_b403389e8aa958ea2c8d9937b8652957 = L.map(\n",
       "                &quot;map_b403389e8aa958ea2c8d9937b8652957&quot;,\n",
       "                {\n",
       "                    center: [50.965, 13.922],\n",
       "                    crs: L.CRS.EPSG3857,\n",
       "                    zoom: 12,\n",
       "                    zoomControl: true,\n",
       "                    preferCanvas: false,\n",
       "                }\n",
       "            );\n",
       "\n",
       "            \n",
       "\n",
       "        \n",
       "    \n",
       "            var tile_layer_8dd18c825124de694b6d8a36b516831c = L.tileLayer(\n",
       "                &quot;https://{s}.basemaps.cartocdn.com/light_all/{z}/{x}/{y}{r}.png&quot;,\n",
       "                {&quot;attribution&quot;: &quot;\\u0026copy; \\u003ca href=\\&quot;https://www.openstreetmap.org/copyright\\&quot;\\u003eOpenStreetMap\\u003c/a\\u003e contributors \\u0026copy; \\u003ca href=\\&quot;https://carto.com/attributions\\&quot;\\u003eCARTO\\u003c/a\\u003e&quot;, &quot;detectRetina&quot;: false, &quot;maxNativeZoom&quot;: 20, &quot;maxZoom&quot;: 20, &quot;minZoom&quot;: 0, &quot;noWrap&quot;: false, &quot;opacity&quot;: 1, &quot;subdomains&quot;: &quot;abcd&quot;, &quot;tms&quot;: false}\n",
       "            );\n",
       "        \n",
       "    \n",
       "            tile_layer_8dd18c825124de694b6d8a36b516831c.addTo(map_b403389e8aa958ea2c8d9937b8652957);\n",
       "        \n",
       "    \n",
       "\n",
       "        function geo_json_61d0a58733843d842eb9f8a8801e87d1_onEachFeature(feature, layer) {\n",
       "            layer.on({\n",
       "            });\n",
       "        };\n",
       "        var geo_json_61d0a58733843d842eb9f8a8801e87d1 = L.geoJson(null, {\n",
       "                onEachFeature: geo_json_61d0a58733843d842eb9f8a8801e87d1_onEachFeature,\n",
       "            \n",
       "        });\n",
       "\n",
       "        function geo_json_61d0a58733843d842eb9f8a8801e87d1_add (data) {\n",
       "            geo_json_61d0a58733843d842eb9f8a8801e87d1\n",
       "                .addData(data);\n",
       "        }\n",
       "            geo_json_61d0a58733843d842eb9f8a8801e87d1_add({&quot;coordinates&quot;: [[13.922514437551428, 50.964720483303836], [13.925036413951403, 50.96623732041704]], &quot;type&quot;: &quot;LineString&quot;});\n",
       "\n",
       "        \n",
       "    \n",
       "            geo_json_61d0a58733843d842eb9f8a8801e87d1.addTo(map_b403389e8aa958ea2c8d9937b8652957);\n",
       "        \n",
       "    \n",
       "\n",
       "        function geo_json_8ac2840a1f4009249aec62ed566a5427_onEachFeature(feature, layer) {\n",
       "            layer.on({\n",
       "            });\n",
       "        };\n",
       "        var geo_json_8ac2840a1f4009249aec62ed566a5427 = L.geoJson(null, {\n",
       "                onEachFeature: geo_json_8ac2840a1f4009249aec62ed566a5427_onEachFeature,\n",
       "            \n",
       "        });\n",
       "\n",
       "        function geo_json_8ac2840a1f4009249aec62ed566a5427_add (data) {\n",
       "            geo_json_8ac2840a1f4009249aec62ed566a5427\n",
       "                .addData(data);\n",
       "        }\n",
       "            geo_json_8ac2840a1f4009249aec62ed566a5427_add({&quot;coordinates&quot;: [13.9226, 50.9661], &quot;type&quot;: &quot;Point&quot;});\n",
       "\n",
       "        \n",
       "    \n",
       "            geo_json_8ac2840a1f4009249aec62ed566a5427.addTo(map_b403389e8aa958ea2c8d9937b8652957);\n",
       "        \n",
       "    \n",
       "\n",
       "        function geo_json_53e84dd72608ee9781b1fc253fcc2a27_onEachFeature(feature, layer) {\n",
       "            layer.on({\n",
       "            });\n",
       "        };\n",
       "        var geo_json_53e84dd72608ee9781b1fc253fcc2a27 = L.geoJson(null, {\n",
       "                onEachFeature: geo_json_53e84dd72608ee9781b1fc253fcc2a27_onEachFeature,\n",
       "            \n",
       "        });\n",
       "\n",
       "        function geo_json_53e84dd72608ee9781b1fc253fcc2a27_add (data) {\n",
       "            geo_json_53e84dd72608ee9781b1fc253fcc2a27\n",
       "                .addData(data);\n",
       "        }\n",
       "            geo_json_53e84dd72608ee9781b1fc253fcc2a27_add({&quot;coordinates&quot;: [13.923186570327204, 50.96512473607135], &quot;type&quot;: &quot;Point&quot;});\n",
       "\n",
       "        \n",
       "    \n",
       "            geo_json_53e84dd72608ee9781b1fc253fcc2a27.addTo(map_b403389e8aa958ea2c8d9937b8652957);\n",
       "        \n",
       "    \n",
       "            map_b403389e8aa958ea2c8d9937b8652957.fitBounds(\n",
       "                [[50.964720483303836, 13.922514437551428], [50.96623732041704, 13.925036413951403]],\n",
       "                {}\n",
       "            );\n",
       "        \n",
       "&lt;/script&gt;\n",
       "&lt;/html&gt;\" style=\"position:absolute;width:100%;height:100%;left:0;top:0;border:none !important;\" allowfullscreen webkitallowfullscreen mozallowfullscreen></iframe></div></div>"
      ]
     },
     "execution_count": 6,
     "metadata": {},
     "output_type": "execute_result"
    }
   ],
   "execution_count": 6
  },
  {
   "cell_type": "markdown",
   "id": "31ef0a164a81f162",
   "metadata": {
    "papermill": {
     "duration": 0.001484,
     "end_time": "2024-06-20T19:03:28.711227",
     "exception": false,
     "start_time": "2024-06-20T19:03:28.709743",
     "status": "completed"
    },
    "tags": []
   },
   "source": [
    "## Calculate the nearest point on a line for an arbitrary point with Shapely project function"
   ]
  },
  {
   "cell_type": "code",
   "id": "baf9e6f08177b1ac",
   "metadata": {
    "execution": {
     "iopub.execute_input": "2024-06-20T19:03:28.714686Z",
     "iopub.status.busy": "2024-06-20T19:03:28.714562Z",
     "iopub.status.idle": "2024-06-20T19:03:28.716750Z",
     "shell.execute_reply": "2024-06-20T19:03:28.716434Z"
    },
    "papermill": {
     "duration": 0.004982,
     "end_time": "2024-06-20T19:03:28.717625",
     "exception": false,
     "start_time": "2024-06-20T19:03:28.712643",
     "status": "completed"
    },
    "tags": [],
    "ExecuteTime": {
     "end_time": "2024-08-19T09:45:28.414228Z",
     "start_time": "2024-08-19T09:45:28.411154Z"
    }
   },
   "source": [
    "shapely_line = ShapelyLineString(line.coordinates)\n",
    "shapely_point = ShapelyPoint(point.coordinates)\n",
    "nearest_shapely_point_on_linestring = shapely_line.interpolate(shapely_line.project(shapely_point))\n",
    "\n",
    "nearest_point = Point.from_dict({\n",
    "  \"type\": \"Point\",\n",
    "  \"coordinates\": [nearest_shapely_point_on_linestring.x, nearest_shapely_point_on_linestring.y]\n",
    "})"
   ],
   "outputs": [],
   "execution_count": 7
  },
  {
   "cell_type": "code",
   "id": "fd5dc602e0a8ceb3",
   "metadata": {
    "execution": {
     "iopub.execute_input": "2024-06-20T19:03:28.721407Z",
     "iopub.status.busy": "2024-06-20T19:03:28.721277Z",
     "iopub.status.idle": "2024-06-20T19:03:28.730345Z",
     "shell.execute_reply": "2024-06-20T19:03:28.730073Z"
    },
    "papermill": {
     "duration": 0.012003,
     "end_time": "2024-06-20T19:03:28.731267",
     "exception": false,
     "start_time": "2024-06-20T19:03:28.719264",
     "status": "completed"
    },
    "tags": [],
    "ExecuteTime": {
     "end_time": "2024-08-19T09:45:28.427930Z",
     "start_time": "2024-08-19T09:45:28.415261Z"
    }
   },
   "source": [
    "m = folium.Map(tiles=\"cartodbpositron\", crs=\"EPSG3857\", zoom_start=12, location=[50.965, 13.922])\n",
    "m.add_child(folium.GeoJson(line.as_geojson()))\n",
    "m.add_child(folium.GeoJson(point.as_geojson()))\n",
    "m.add_child(folium.GeoJson(nearest_point.as_geojson()))\n",
    "m.fit_bounds(m.get_bounds())\n",
    "m"
   ],
   "outputs": [
    {
     "data": {
      "text/plain": [
       "<folium.folium.Map at 0x120755310>"
      ],
      "text/html": [
       "<div style=\"width:100%;\"><div style=\"position:relative;width:100%;height:0;padding-bottom:60%;\"><span style=\"color:#565656\">Make this Notebook Trusted to load map: File -> Trust Notebook</span><iframe srcdoc=\"&lt;!DOCTYPE html&gt;\n",
       "&lt;html&gt;\n",
       "&lt;head&gt;\n",
       "    \n",
       "    &lt;meta http-equiv=&quot;content-type&quot; content=&quot;text/html; charset=UTF-8&quot; /&gt;\n",
       "    \n",
       "        &lt;script&gt;\n",
       "            L_NO_TOUCH = false;\n",
       "            L_DISABLE_3D = false;\n",
       "        &lt;/script&gt;\n",
       "    \n",
       "    &lt;style&gt;html, body {width: 100%;height: 100%;margin: 0;padding: 0;}&lt;/style&gt;\n",
       "    &lt;style&gt;#map {position:absolute;top:0;bottom:0;right:0;left:0;}&lt;/style&gt;\n",
       "    &lt;script src=&quot;https://cdn.jsdelivr.net/npm/leaflet@1.9.3/dist/leaflet.js&quot;&gt;&lt;/script&gt;\n",
       "    &lt;script src=&quot;https://code.jquery.com/jquery-3.7.1.min.js&quot;&gt;&lt;/script&gt;\n",
       "    &lt;script src=&quot;https://cdn.jsdelivr.net/npm/bootstrap@5.2.2/dist/js/bootstrap.bundle.min.js&quot;&gt;&lt;/script&gt;\n",
       "    &lt;script src=&quot;https://cdnjs.cloudflare.com/ajax/libs/Leaflet.awesome-markers/2.0.2/leaflet.awesome-markers.js&quot;&gt;&lt;/script&gt;\n",
       "    &lt;link rel=&quot;stylesheet&quot; href=&quot;https://cdn.jsdelivr.net/npm/leaflet@1.9.3/dist/leaflet.css&quot;/&gt;\n",
       "    &lt;link rel=&quot;stylesheet&quot; href=&quot;https://cdn.jsdelivr.net/npm/bootstrap@5.2.2/dist/css/bootstrap.min.css&quot;/&gt;\n",
       "    &lt;link rel=&quot;stylesheet&quot; href=&quot;https://netdna.bootstrapcdn.com/bootstrap/3.0.0/css/bootstrap.min.css&quot;/&gt;\n",
       "    &lt;link rel=&quot;stylesheet&quot; href=&quot;https://cdn.jsdelivr.net/npm/@fortawesome/fontawesome-free@6.2.0/css/all.min.css&quot;/&gt;\n",
       "    &lt;link rel=&quot;stylesheet&quot; href=&quot;https://cdnjs.cloudflare.com/ajax/libs/Leaflet.awesome-markers/2.0.2/leaflet.awesome-markers.css&quot;/&gt;\n",
       "    &lt;link rel=&quot;stylesheet&quot; href=&quot;https://cdn.jsdelivr.net/gh/python-visualization/folium/folium/templates/leaflet.awesome.rotate.min.css&quot;/&gt;\n",
       "    \n",
       "            &lt;meta name=&quot;viewport&quot; content=&quot;width=device-width,\n",
       "                initial-scale=1.0, maximum-scale=1.0, user-scalable=no&quot; /&gt;\n",
       "            &lt;style&gt;\n",
       "                #map_644e66a18170af70e221b59f90e71463 {\n",
       "                    position: relative;\n",
       "                    width: 100.0%;\n",
       "                    height: 100.0%;\n",
       "                    left: 0.0%;\n",
       "                    top: 0.0%;\n",
       "                }\n",
       "                .leaflet-container { font-size: 1rem; }\n",
       "            &lt;/style&gt;\n",
       "        \n",
       "&lt;/head&gt;\n",
       "&lt;body&gt;\n",
       "    \n",
       "    \n",
       "            &lt;div class=&quot;folium-map&quot; id=&quot;map_644e66a18170af70e221b59f90e71463&quot; &gt;&lt;/div&gt;\n",
       "        \n",
       "&lt;/body&gt;\n",
       "&lt;script&gt;\n",
       "    \n",
       "    \n",
       "            var map_644e66a18170af70e221b59f90e71463 = L.map(\n",
       "                &quot;map_644e66a18170af70e221b59f90e71463&quot;,\n",
       "                {\n",
       "                    center: [50.965, 13.922],\n",
       "                    crs: L.CRS.EPSG3857,\n",
       "                    zoom: 12,\n",
       "                    zoomControl: true,\n",
       "                    preferCanvas: false,\n",
       "                }\n",
       "            );\n",
       "\n",
       "            \n",
       "\n",
       "        \n",
       "    \n",
       "            var tile_layer_e3aa96a17aeb6fe75dd30abeddd8b98f = L.tileLayer(\n",
       "                &quot;https://{s}.basemaps.cartocdn.com/light_all/{z}/{x}/{y}{r}.png&quot;,\n",
       "                {&quot;attribution&quot;: &quot;\\u0026copy; \\u003ca href=\\&quot;https://www.openstreetmap.org/copyright\\&quot;\\u003eOpenStreetMap\\u003c/a\\u003e contributors \\u0026copy; \\u003ca href=\\&quot;https://carto.com/attributions\\&quot;\\u003eCARTO\\u003c/a\\u003e&quot;, &quot;detectRetina&quot;: false, &quot;maxNativeZoom&quot;: 20, &quot;maxZoom&quot;: 20, &quot;minZoom&quot;: 0, &quot;noWrap&quot;: false, &quot;opacity&quot;: 1, &quot;subdomains&quot;: &quot;abcd&quot;, &quot;tms&quot;: false}\n",
       "            );\n",
       "        \n",
       "    \n",
       "            tile_layer_e3aa96a17aeb6fe75dd30abeddd8b98f.addTo(map_644e66a18170af70e221b59f90e71463);\n",
       "        \n",
       "    \n",
       "\n",
       "        function geo_json_0ddd33558fa057b9e67d7371827fa31f_onEachFeature(feature, layer) {\n",
       "            layer.on({\n",
       "            });\n",
       "        };\n",
       "        var geo_json_0ddd33558fa057b9e67d7371827fa31f = L.geoJson(null, {\n",
       "                onEachFeature: geo_json_0ddd33558fa057b9e67d7371827fa31f_onEachFeature,\n",
       "            \n",
       "        });\n",
       "\n",
       "        function geo_json_0ddd33558fa057b9e67d7371827fa31f_add (data) {\n",
       "            geo_json_0ddd33558fa057b9e67d7371827fa31f\n",
       "                .addData(data);\n",
       "        }\n",
       "            geo_json_0ddd33558fa057b9e67d7371827fa31f_add({&quot;coordinates&quot;: [[13.922514437551428, 50.964720483303836], [13.925036413951403, 50.96623732041704]], &quot;type&quot;: &quot;LineString&quot;});\n",
       "\n",
       "        \n",
       "    \n",
       "            geo_json_0ddd33558fa057b9e67d7371827fa31f.addTo(map_644e66a18170af70e221b59f90e71463);\n",
       "        \n",
       "    \n",
       "\n",
       "        function geo_json_eb3f19f8e4874f6f2c2257924e2fe158_onEachFeature(feature, layer) {\n",
       "            layer.on({\n",
       "            });\n",
       "        };\n",
       "        var geo_json_eb3f19f8e4874f6f2c2257924e2fe158 = L.geoJson(null, {\n",
       "                onEachFeature: geo_json_eb3f19f8e4874f6f2c2257924e2fe158_onEachFeature,\n",
       "            \n",
       "        });\n",
       "\n",
       "        function geo_json_eb3f19f8e4874f6f2c2257924e2fe158_add (data) {\n",
       "            geo_json_eb3f19f8e4874f6f2c2257924e2fe158\n",
       "                .addData(data);\n",
       "        }\n",
       "            geo_json_eb3f19f8e4874f6f2c2257924e2fe158_add({&quot;coordinates&quot;: [13.9226, 50.9661], &quot;type&quot;: &quot;Point&quot;});\n",
       "\n",
       "        \n",
       "    \n",
       "            geo_json_eb3f19f8e4874f6f2c2257924e2fe158.addTo(map_644e66a18170af70e221b59f90e71463);\n",
       "        \n",
       "    \n",
       "\n",
       "        function geo_json_98a4feaed6a1f822e67db81430b6f141_onEachFeature(feature, layer) {\n",
       "            layer.on({\n",
       "            });\n",
       "        };\n",
       "        var geo_json_98a4feaed6a1f822e67db81430b6f141 = L.geoJson(null, {\n",
       "                onEachFeature: geo_json_98a4feaed6a1f822e67db81430b6f141_onEachFeature,\n",
       "            \n",
       "        });\n",
       "\n",
       "        function geo_json_98a4feaed6a1f822e67db81430b6f141_add (data) {\n",
       "            geo_json_98a4feaed6a1f822e67db81430b6f141\n",
       "                .addData(data);\n",
       "        }\n",
       "            geo_json_98a4feaed6a1f822e67db81430b6f141_add({&quot;coordinates&quot;: [13.923186570327204, 50.96512473607135], &quot;type&quot;: &quot;Point&quot;});\n",
       "\n",
       "        \n",
       "    \n",
       "            geo_json_98a4feaed6a1f822e67db81430b6f141.addTo(map_644e66a18170af70e221b59f90e71463);\n",
       "        \n",
       "    \n",
       "            map_644e66a18170af70e221b59f90e71463.fitBounds(\n",
       "                [[50.964720483303836, 13.922514437551428], [50.96623732041704, 13.925036413951403]],\n",
       "                {}\n",
       "            );\n",
       "        \n",
       "&lt;/script&gt;\n",
       "&lt;/html&gt;\" style=\"position:absolute;width:100%;height:100%;left:0;top:0;border:none !important;\" allowfullscreen webkitallowfullscreen mozallowfullscreen></iframe></div></div>"
      ]
     },
     "execution_count": 8,
     "metadata": {},
     "output_type": "execute_result"
    }
   ],
   "execution_count": 8
  },
  {
   "cell_type": "code",
   "id": "2e1569d1b20ec1c9",
   "metadata": {
    "papermill": {
     "duration": 0.001544,
     "end_time": "2024-06-20T19:03:28.734623",
     "exception": false,
     "start_time": "2024-06-20T19:03:28.733079",
     "status": "completed"
    },
    "tags": [],
    "ExecuteTime": {
     "end_time": "2024-08-19T09:45:28.432804Z",
     "start_time": "2024-08-19T09:45:28.430916Z"
    }
   },
   "source": [],
   "outputs": [],
   "execution_count": 8
  }
 ],
 "metadata": {
  "kernelspec": {
   "display_name": "Python 3",
   "language": "python",
   "name": "python3"
  },
  "language_info": {
   "codemirror_mode": {
    "name": "ipython",
    "version": 3
   },
   "file_extension": ".py",
   "mimetype": "text/x-python",
   "name": "python",
   "nbconvert_exporter": "python",
   "pygments_lexer": "ipython3",
   "version": "3.12.2"
  },
  "papermill": {
   "default_parameters": {},
   "duration": 1.373854,
   "end_time": "2024-06-20T19:03:28.952959",
   "environment_variables": {},
   "exception": null,
   "input_path": "./notebooks/LineStringNearestPoint.ipynb",
   "output_path": "./notebooks/LineStringNearestPoint.ipynb",
   "parameters": {},
   "start_time": "2024-06-20T19:03:27.579105",
   "version": "2.6.0"
  }
 },
 "nbformat": 4,
 "nbformat_minor": 5
}
