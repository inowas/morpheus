{
 "cells": [
  {
   "cell_type": "code",
   "execution_count": 1,
   "id": "ba6761fae9d5e5cb",
   "metadata": {
    "ExecuteTime": {
     "end_time": "2024-06-07T08:19:50.698161Z",
     "start_time": "2024-06-07T08:19:50.693723Z"
    },
    "collapsed": false,
    "execution": {
     "iopub.execute_input": "2024-06-19T13:19:09.432894Z",
     "iopub.status.busy": "2024-06-19T13:19:09.432504Z",
     "iopub.status.idle": "2024-06-19T13:19:09.440816Z",
     "shell.execute_reply": "2024-06-19T13:19:09.439141Z"
    },
    "papermill": {
     "duration": 0.017351,
     "end_time": "2024-06-19T13:19:09.443481",
     "exception": false,
     "start_time": "2024-06-19T13:19:09.426130",
     "status": "completed"
    },
    "tags": []
   },
   "outputs": [],
   "source": [
    "import sys\n",
    "\n",
    "sys.path.insert(0, '..')"
   ]
  },
  {
   "cell_type": "markdown",
   "id": "5ede1ba5e0993dd1",
   "metadata": {
    "collapsed": false,
    "papermill": {
     "duration": 0.004179,
     "end_time": "2024-06-19T13:19:09.452540",
     "exception": false,
     "start_time": "2024-06-19T13:19:09.448361",
     "status": "completed"
    },
    "tags": []
   },
   "source": [
    "# Calculate the nearest point on a line for an arbitrary point"
   ]
  },
  {
   "cell_type": "markdown",
   "id": "90453a1d75202b2b",
   "metadata": {
    "papermill": {
     "duration": 0.003484,
     "end_time": "2024-06-19T13:19:09.460874",
     "exception": false,
     "start_time": "2024-06-19T13:19:09.457390",
     "status": "completed"
    },
    "tags": []
   },
   "source": [
    "## Final implementation test"
   ]
  },
  {
   "cell_type": "code",
   "execution_count": 2,
   "id": "2f69504ab35487aa",
   "metadata": {
    "ExecuteTime": {
     "end_time": "2024-06-07T08:19:50.821461Z",
     "start_time": "2024-06-07T08:19:50.700598Z"
    },
    "collapsed": false,
    "execution": {
     "iopub.execute_input": "2024-06-19T13:19:09.468607Z",
     "iopub.status.busy": "2024-06-19T13:19:09.468314Z",
     "iopub.status.idle": "2024-06-19T13:19:09.588494Z",
     "shell.execute_reply": "2024-06-19T13:19:09.587644Z"
    },
    "papermill": {
     "duration": 0.127089,
     "end_time": "2024-06-19T13:19:09.591333",
     "exception": false,
     "start_time": "2024-06-19T13:19:09.464244",
     "status": "completed"
    },
    "tags": []
   },
   "outputs": [],
   "source": [
    "from morpheus.project.types.geometry import Point, LineString\n",
    "\n",
    "line = LineString.from_dict({\n",
    "  \"type\": \"LineString\",\n",
    "  \"coordinates\": [(13.922514437551428, 50.964720483303836), (13.925036413951403, 50.96623732041704)]\n",
    "})\n",
    "\n",
    "point = Point.from_dict({\n",
    "  \"type\": \"Point\",\n",
    "  \"coordinates\": [13.9226, 50.9661]\n",
    "})\n",
    "\n",
    "nearest_point = line.nearest_point(point)"
   ]
  },
  {
   "cell_type": "code",
   "execution_count": 3,
   "id": "1540b870ae83f298",
   "metadata": {
    "ExecuteTime": {
     "end_time": "2024-06-07T08:19:51.246585Z",
     "start_time": "2024-06-07T08:19:50.827185Z"
    },
    "collapsed": false,
    "execution": {
     "iopub.execute_input": "2024-06-19T13:19:09.607197Z",
     "iopub.status.busy": "2024-06-19T13:19:09.606780Z",
     "iopub.status.idle": "2024-06-19T13:19:09.994526Z",
     "shell.execute_reply": "2024-06-19T13:19:09.994274Z"
    },
    "papermill": {
     "duration": 0.399911,
     "end_time": "2024-06-19T13:19:09.995406",
     "exception": false,
     "start_time": "2024-06-19T13:19:09.595495",
     "status": "completed"
    },
    "tags": []
   },
   "outputs": [
    {
     "data": {
      "text/html": [
       "<div style=\"width:100%;\"><div style=\"position:relative;width:100%;height:0;padding-bottom:60%;\"><span style=\"color:#565656\">Make this Notebook Trusted to load map: File -> Trust Notebook</span><iframe srcdoc=\"&lt;!DOCTYPE html&gt;\n",
       "&lt;html&gt;\n",
       "&lt;head&gt;\n",
       "    \n",
       "    &lt;meta http-equiv=&quot;content-type&quot; content=&quot;text/html; charset=UTF-8&quot; /&gt;\n",
       "    \n",
       "        &lt;script&gt;\n",
       "            L_NO_TOUCH = false;\n",
       "            L_DISABLE_3D = false;\n",
       "        &lt;/script&gt;\n",
       "    \n",
       "    &lt;style&gt;html, body {width: 100%;height: 100%;margin: 0;padding: 0;}&lt;/style&gt;\n",
       "    &lt;style&gt;#map {position:absolute;top:0;bottom:0;right:0;left:0;}&lt;/style&gt;\n",
       "    &lt;script src=&quot;https://cdn.jsdelivr.net/npm/leaflet@1.9.3/dist/leaflet.js&quot;&gt;&lt;/script&gt;\n",
       "    &lt;script src=&quot;https://code.jquery.com/jquery-3.7.1.min.js&quot;&gt;&lt;/script&gt;\n",
       "    &lt;script src=&quot;https://cdn.jsdelivr.net/npm/bootstrap@5.2.2/dist/js/bootstrap.bundle.min.js&quot;&gt;&lt;/script&gt;\n",
       "    &lt;script src=&quot;https://cdnjs.cloudflare.com/ajax/libs/Leaflet.awesome-markers/2.0.2/leaflet.awesome-markers.js&quot;&gt;&lt;/script&gt;\n",
       "    &lt;link rel=&quot;stylesheet&quot; href=&quot;https://cdn.jsdelivr.net/npm/leaflet@1.9.3/dist/leaflet.css&quot;/&gt;\n",
       "    &lt;link rel=&quot;stylesheet&quot; href=&quot;https://cdn.jsdelivr.net/npm/bootstrap@5.2.2/dist/css/bootstrap.min.css&quot;/&gt;\n",
       "    &lt;link rel=&quot;stylesheet&quot; href=&quot;https://netdna.bootstrapcdn.com/bootstrap/3.0.0/css/bootstrap.min.css&quot;/&gt;\n",
       "    &lt;link rel=&quot;stylesheet&quot; href=&quot;https://cdn.jsdelivr.net/npm/@fortawesome/fontawesome-free@6.2.0/css/all.min.css&quot;/&gt;\n",
       "    &lt;link rel=&quot;stylesheet&quot; href=&quot;https://cdnjs.cloudflare.com/ajax/libs/Leaflet.awesome-markers/2.0.2/leaflet.awesome-markers.css&quot;/&gt;\n",
       "    &lt;link rel=&quot;stylesheet&quot; href=&quot;https://cdn.jsdelivr.net/gh/python-visualization/folium/folium/templates/leaflet.awesome.rotate.min.css&quot;/&gt;\n",
       "    \n",
       "            &lt;meta name=&quot;viewport&quot; content=&quot;width=device-width,\n",
       "                initial-scale=1.0, maximum-scale=1.0, user-scalable=no&quot; /&gt;\n",
       "            &lt;style&gt;\n",
       "                #map_94fc43d4d707443cd6122ad733678b62 {\n",
       "                    position: relative;\n",
       "                    width: 100.0%;\n",
       "                    height: 100.0%;\n",
       "                    left: 0.0%;\n",
       "                    top: 0.0%;\n",
       "                }\n",
       "                .leaflet-container { font-size: 1rem; }\n",
       "            &lt;/style&gt;\n",
       "        \n",
       "&lt;/head&gt;\n",
       "&lt;body&gt;\n",
       "    \n",
       "    \n",
       "            &lt;div class=&quot;folium-map&quot; id=&quot;map_94fc43d4d707443cd6122ad733678b62&quot; &gt;&lt;/div&gt;\n",
       "        \n",
       "&lt;/body&gt;\n",
       "&lt;script&gt;\n",
       "    \n",
       "    \n",
       "            var map_94fc43d4d707443cd6122ad733678b62 = L.map(\n",
       "                &quot;map_94fc43d4d707443cd6122ad733678b62&quot;,\n",
       "                {\n",
       "                    center: [50.965, 13.922],\n",
       "                    crs: L.CRS.EPSG3857,\n",
       "                    zoom: 12,\n",
       "                    zoomControl: true,\n",
       "                    preferCanvas: false,\n",
       "                }\n",
       "            );\n",
       "\n",
       "            \n",
       "\n",
       "        \n",
       "    \n",
       "            var tile_layer_824baa605894a7a88a5375399f1c503c = L.tileLayer(\n",
       "                &quot;https://{s}.basemaps.cartocdn.com/light_all/{z}/{x}/{y}{r}.png&quot;,\n",
       "                {&quot;attribution&quot;: &quot;\\u0026copy; \\u003ca href=\\&quot;https://www.openstreetmap.org/copyright\\&quot;\\u003eOpenStreetMap\\u003c/a\\u003e contributors \\u0026copy; \\u003ca href=\\&quot;https://carto.com/attributions\\&quot;\\u003eCARTO\\u003c/a\\u003e&quot;, &quot;detectRetina&quot;: false, &quot;maxNativeZoom&quot;: 20, &quot;maxZoom&quot;: 20, &quot;minZoom&quot;: 0, &quot;noWrap&quot;: false, &quot;opacity&quot;: 1, &quot;subdomains&quot;: &quot;abcd&quot;, &quot;tms&quot;: false}\n",
       "            );\n",
       "        \n",
       "    \n",
       "            tile_layer_824baa605894a7a88a5375399f1c503c.addTo(map_94fc43d4d707443cd6122ad733678b62);\n",
       "        \n",
       "    \n",
       "\n",
       "        function geo_json_ae00bca4f59672cafce0870a5a4fb274_onEachFeature(feature, layer) {\n",
       "            layer.on({\n",
       "            });\n",
       "        };\n",
       "        var geo_json_ae00bca4f59672cafce0870a5a4fb274 = L.geoJson(null, {\n",
       "                onEachFeature: geo_json_ae00bca4f59672cafce0870a5a4fb274_onEachFeature,\n",
       "            \n",
       "        });\n",
       "\n",
       "        function geo_json_ae00bca4f59672cafce0870a5a4fb274_add (data) {\n",
       "            geo_json_ae00bca4f59672cafce0870a5a4fb274\n",
       "                .addData(data);\n",
       "        }\n",
       "            geo_json_ae00bca4f59672cafce0870a5a4fb274_add({&quot;coordinates&quot;: [[13.922514437551428, 50.964720483303836], [13.925036413951403, 50.96623732041704]], &quot;type&quot;: &quot;LineString&quot;});\n",
       "\n",
       "        \n",
       "    \n",
       "            geo_json_ae00bca4f59672cafce0870a5a4fb274.addTo(map_94fc43d4d707443cd6122ad733678b62);\n",
       "        \n",
       "    \n",
       "\n",
       "        function geo_json_b2eff615f935d42a1bc6f69a881b286a_onEachFeature(feature, layer) {\n",
       "            layer.on({\n",
       "            });\n",
       "        };\n",
       "        var geo_json_b2eff615f935d42a1bc6f69a881b286a = L.geoJson(null, {\n",
       "                onEachFeature: geo_json_b2eff615f935d42a1bc6f69a881b286a_onEachFeature,\n",
       "            \n",
       "        });\n",
       "\n",
       "        function geo_json_b2eff615f935d42a1bc6f69a881b286a_add (data) {\n",
       "            geo_json_b2eff615f935d42a1bc6f69a881b286a\n",
       "                .addData(data);\n",
       "        }\n",
       "            geo_json_b2eff615f935d42a1bc6f69a881b286a_add({&quot;coordinates&quot;: [13.9226, 50.9661], &quot;type&quot;: &quot;Point&quot;});\n",
       "\n",
       "        \n",
       "    \n",
       "            geo_json_b2eff615f935d42a1bc6f69a881b286a.addTo(map_94fc43d4d707443cd6122ad733678b62);\n",
       "        \n",
       "    \n",
       "\n",
       "        function geo_json_75f9424788eb78cffe3a1332e133911a_onEachFeature(feature, layer) {\n",
       "            layer.on({\n",
       "            });\n",
       "        };\n",
       "        var geo_json_75f9424788eb78cffe3a1332e133911a = L.geoJson(null, {\n",
       "                onEachFeature: geo_json_75f9424788eb78cffe3a1332e133911a_onEachFeature,\n",
       "            \n",
       "        });\n",
       "\n",
       "        function geo_json_75f9424788eb78cffe3a1332e133911a_add (data) {\n",
       "            geo_json_75f9424788eb78cffe3a1332e133911a\n",
       "                .addData(data);\n",
       "        }\n",
       "            geo_json_75f9424788eb78cffe3a1332e133911a_add({&quot;coordinates&quot;: [13.923186570327204, 50.96512473607135], &quot;type&quot;: &quot;Point&quot;});\n",
       "\n",
       "        \n",
       "    \n",
       "            geo_json_75f9424788eb78cffe3a1332e133911a.addTo(map_94fc43d4d707443cd6122ad733678b62);\n",
       "        \n",
       "    \n",
       "            map_94fc43d4d707443cd6122ad733678b62.fitBounds(\n",
       "                [[50.964720483303836, 13.922514437551428], [50.96623732041704, 13.925036413951403]],\n",
       "                {}\n",
       "            );\n",
       "        \n",
       "&lt;/script&gt;\n",
       "&lt;/html&gt;\" style=\"position:absolute;width:100%;height:100%;left:0;top:0;border:none !important;\" allowfullscreen webkitallowfullscreen mozallowfullscreen></iframe></div></div>"
      ],
      "text/plain": [
       "<folium.folium.Map at 0x1061087a0>"
      ]
     },
     "execution_count": 3,
     "metadata": {},
     "output_type": "execute_result"
    }
   ],
   "source": [
    "import folium\n",
    "\n",
    "m = folium.Map(tiles=\"cartodbpositron\", crs=\"EPSG3857\", zoom_start=12, location=[50.965, 13.922])\n",
    "m.add_child(folium.GeoJson(line.as_geojson()))\n",
    "m.add_child(folium.GeoJson(point.as_geojson()))\n",
    "m.add_child(folium.GeoJson(nearest_point.as_geojson()))\n",
    "\n",
    "m.fit_bounds(m.get_bounds())\n",
    "m"
   ]
  },
  {
   "cell_type": "markdown",
   "id": "8d308845e05fbdbc",
   "metadata": {
    "papermill": {
     "duration": 0.001295,
     "end_time": "2024-06-19T13:19:09.998457",
     "exception": false,
     "start_time": "2024-06-19T13:19:09.997162",
     "status": "completed"
    },
    "tags": []
   },
   "source": [
    "## Calculate the nearest point on a line for an arbitrary point with Shapely nearest_points function"
   ]
  },
  {
   "cell_type": "code",
   "execution_count": 4,
   "id": "244bf8b386deca17",
   "metadata": {
    "ExecuteTime": {
     "end_time": "2024-06-07T08:19:51.250310Z",
     "start_time": "2024-06-07T08:19:51.247256Z"
    },
    "execution": {
     "iopub.execute_input": "2024-06-19T13:19:10.001684Z",
     "iopub.status.busy": "2024-06-19T13:19:10.001421Z",
     "iopub.status.idle": "2024-06-19T13:19:10.005159Z",
     "shell.execute_reply": "2024-06-19T13:19:10.004921Z"
    },
    "papermill": {
     "duration": 0.006217,
     "end_time": "2024-06-19T13:19:10.005985",
     "exception": false,
     "start_time": "2024-06-19T13:19:09.999768",
     "status": "completed"
    },
    "tags": []
   },
   "outputs": [
    {
     "data": {
      "text/plain": [
       "(<POINT (13.923 50.965)>, <POINT (13.923 50.966)>)"
      ]
     },
     "execution_count": 4,
     "metadata": {},
     "output_type": "execute_result"
    }
   ],
   "source": [
    "from shapely.geometry import LineString as ShapelyLineString, Point as ShapelyPoint\n",
    "from shapely.ops import nearest_points\n",
    "from morpheus.project.types.geometry import Point\n",
    "\n",
    "shapely_line = ShapelyLineString(line.coordinates)\n",
    "shapely_point = ShapelyPoint(point.coordinates)\n",
    "nearest_points = nearest_points(shapely_line, shapely_point)\n",
    "nearest_points"
   ]
  },
  {
   "cell_type": "code",
   "execution_count": 5,
   "id": "7d28fcc1cfd90668",
   "metadata": {
    "ExecuteTime": {
     "end_time": "2024-06-07T08:19:51.253939Z",
     "start_time": "2024-06-07T08:19:51.251675Z"
    },
    "execution": {
     "iopub.execute_input": "2024-06-19T13:19:10.009234Z",
     "iopub.status.busy": "2024-06-19T13:19:10.009128Z",
     "iopub.status.idle": "2024-06-19T13:19:10.010841Z",
     "shell.execute_reply": "2024-06-19T13:19:10.010627Z"
    },
    "papermill": {
     "duration": 0.004275,
     "end_time": "2024-06-19T13:19:10.011620",
     "exception": false,
     "start_time": "2024-06-19T13:19:10.007345",
     "status": "completed"
    },
    "tags": []
   },
   "outputs": [],
   "source": [
    "from morpheus.project.types.geometry import Point\n",
    "nearest_shapely_point_on_linestring = nearest_points[0] \n",
    "nearest_point = Point.from_dict({\n",
    "  \"type\": \"Point\",\n",
    "  \"coordinates\": [nearest_shapely_point_on_linestring.x, nearest_shapely_point_on_linestring.y]\n",
    "})"
   ]
  },
  {
   "cell_type": "code",
   "execution_count": 6,
   "id": "45b04c9a6449437b",
   "metadata": {
    "ExecuteTime": {
     "end_time": "2024-06-07T08:19:51.265313Z",
     "start_time": "2024-06-07T08:19:51.254759Z"
    },
    "execution": {
     "iopub.execute_input": "2024-06-19T13:19:10.014636Z",
     "iopub.status.busy": "2024-06-19T13:19:10.014548Z",
     "iopub.status.idle": "2024-06-19T13:19:10.022917Z",
     "shell.execute_reply": "2024-06-19T13:19:10.022706Z"
    },
    "papermill": {
     "duration": 0.010725,
     "end_time": "2024-06-19T13:19:10.023654",
     "exception": false,
     "start_time": "2024-06-19T13:19:10.012929",
     "status": "completed"
    },
    "tags": []
   },
   "outputs": [
    {
     "data": {
      "text/html": [
       "<div style=\"width:100%;\"><div style=\"position:relative;width:100%;height:0;padding-bottom:60%;\"><span style=\"color:#565656\">Make this Notebook Trusted to load map: File -> Trust Notebook</span><iframe srcdoc=\"&lt;!DOCTYPE html&gt;\n",
       "&lt;html&gt;\n",
       "&lt;head&gt;\n",
       "    \n",
       "    &lt;meta http-equiv=&quot;content-type&quot; content=&quot;text/html; charset=UTF-8&quot; /&gt;\n",
       "    \n",
       "        &lt;script&gt;\n",
       "            L_NO_TOUCH = false;\n",
       "            L_DISABLE_3D = false;\n",
       "        &lt;/script&gt;\n",
       "    \n",
       "    &lt;style&gt;html, body {width: 100%;height: 100%;margin: 0;padding: 0;}&lt;/style&gt;\n",
       "    &lt;style&gt;#map {position:absolute;top:0;bottom:0;right:0;left:0;}&lt;/style&gt;\n",
       "    &lt;script src=&quot;https://cdn.jsdelivr.net/npm/leaflet@1.9.3/dist/leaflet.js&quot;&gt;&lt;/script&gt;\n",
       "    &lt;script src=&quot;https://code.jquery.com/jquery-3.7.1.min.js&quot;&gt;&lt;/script&gt;\n",
       "    &lt;script src=&quot;https://cdn.jsdelivr.net/npm/bootstrap@5.2.2/dist/js/bootstrap.bundle.min.js&quot;&gt;&lt;/script&gt;\n",
       "    &lt;script src=&quot;https://cdnjs.cloudflare.com/ajax/libs/Leaflet.awesome-markers/2.0.2/leaflet.awesome-markers.js&quot;&gt;&lt;/script&gt;\n",
       "    &lt;link rel=&quot;stylesheet&quot; href=&quot;https://cdn.jsdelivr.net/npm/leaflet@1.9.3/dist/leaflet.css&quot;/&gt;\n",
       "    &lt;link rel=&quot;stylesheet&quot; href=&quot;https://cdn.jsdelivr.net/npm/bootstrap@5.2.2/dist/css/bootstrap.min.css&quot;/&gt;\n",
       "    &lt;link rel=&quot;stylesheet&quot; href=&quot;https://netdna.bootstrapcdn.com/bootstrap/3.0.0/css/bootstrap.min.css&quot;/&gt;\n",
       "    &lt;link rel=&quot;stylesheet&quot; href=&quot;https://cdn.jsdelivr.net/npm/@fortawesome/fontawesome-free@6.2.0/css/all.min.css&quot;/&gt;\n",
       "    &lt;link rel=&quot;stylesheet&quot; href=&quot;https://cdnjs.cloudflare.com/ajax/libs/Leaflet.awesome-markers/2.0.2/leaflet.awesome-markers.css&quot;/&gt;\n",
       "    &lt;link rel=&quot;stylesheet&quot; href=&quot;https://cdn.jsdelivr.net/gh/python-visualization/folium/folium/templates/leaflet.awesome.rotate.min.css&quot;/&gt;\n",
       "    \n",
       "            &lt;meta name=&quot;viewport&quot; content=&quot;width=device-width,\n",
       "                initial-scale=1.0, maximum-scale=1.0, user-scalable=no&quot; /&gt;\n",
       "            &lt;style&gt;\n",
       "                #map_178fa6bc9889035f8a121429e8e55598 {\n",
       "                    position: relative;\n",
       "                    width: 100.0%;\n",
       "                    height: 100.0%;\n",
       "                    left: 0.0%;\n",
       "                    top: 0.0%;\n",
       "                }\n",
       "                .leaflet-container { font-size: 1rem; }\n",
       "            &lt;/style&gt;\n",
       "        \n",
       "&lt;/head&gt;\n",
       "&lt;body&gt;\n",
       "    \n",
       "    \n",
       "            &lt;div class=&quot;folium-map&quot; id=&quot;map_178fa6bc9889035f8a121429e8e55598&quot; &gt;&lt;/div&gt;\n",
       "        \n",
       "&lt;/body&gt;\n",
       "&lt;script&gt;\n",
       "    \n",
       "    \n",
       "            var map_178fa6bc9889035f8a121429e8e55598 = L.map(\n",
       "                &quot;map_178fa6bc9889035f8a121429e8e55598&quot;,\n",
       "                {\n",
       "                    center: [50.965, 13.922],\n",
       "                    crs: L.CRS.EPSG3857,\n",
       "                    zoom: 12,\n",
       "                    zoomControl: true,\n",
       "                    preferCanvas: false,\n",
       "                }\n",
       "            );\n",
       "\n",
       "            \n",
       "\n",
       "        \n",
       "    \n",
       "            var tile_layer_8d60ef5151b82cc5e32c38bd3fde301b = L.tileLayer(\n",
       "                &quot;https://{s}.basemaps.cartocdn.com/light_all/{z}/{x}/{y}{r}.png&quot;,\n",
       "                {&quot;attribution&quot;: &quot;\\u0026copy; \\u003ca href=\\&quot;https://www.openstreetmap.org/copyright\\&quot;\\u003eOpenStreetMap\\u003c/a\\u003e contributors \\u0026copy; \\u003ca href=\\&quot;https://carto.com/attributions\\&quot;\\u003eCARTO\\u003c/a\\u003e&quot;, &quot;detectRetina&quot;: false, &quot;maxNativeZoom&quot;: 20, &quot;maxZoom&quot;: 20, &quot;minZoom&quot;: 0, &quot;noWrap&quot;: false, &quot;opacity&quot;: 1, &quot;subdomains&quot;: &quot;abcd&quot;, &quot;tms&quot;: false}\n",
       "            );\n",
       "        \n",
       "    \n",
       "            tile_layer_8d60ef5151b82cc5e32c38bd3fde301b.addTo(map_178fa6bc9889035f8a121429e8e55598);\n",
       "        \n",
       "    \n",
       "\n",
       "        function geo_json_118d441fd3c87ed93e951a3bf00520c6_onEachFeature(feature, layer) {\n",
       "            layer.on({\n",
       "            });\n",
       "        };\n",
       "        var geo_json_118d441fd3c87ed93e951a3bf00520c6 = L.geoJson(null, {\n",
       "                onEachFeature: geo_json_118d441fd3c87ed93e951a3bf00520c6_onEachFeature,\n",
       "            \n",
       "        });\n",
       "\n",
       "        function geo_json_118d441fd3c87ed93e951a3bf00520c6_add (data) {\n",
       "            geo_json_118d441fd3c87ed93e951a3bf00520c6\n",
       "                .addData(data);\n",
       "        }\n",
       "            geo_json_118d441fd3c87ed93e951a3bf00520c6_add({&quot;coordinates&quot;: [[13.922514437551428, 50.964720483303836], [13.925036413951403, 50.96623732041704]], &quot;type&quot;: &quot;LineString&quot;});\n",
       "\n",
       "        \n",
       "    \n",
       "            geo_json_118d441fd3c87ed93e951a3bf00520c6.addTo(map_178fa6bc9889035f8a121429e8e55598);\n",
       "        \n",
       "    \n",
       "\n",
       "        function geo_json_ec3f5724f517424053cf462a840669d3_onEachFeature(feature, layer) {\n",
       "            layer.on({\n",
       "            });\n",
       "        };\n",
       "        var geo_json_ec3f5724f517424053cf462a840669d3 = L.geoJson(null, {\n",
       "                onEachFeature: geo_json_ec3f5724f517424053cf462a840669d3_onEachFeature,\n",
       "            \n",
       "        });\n",
       "\n",
       "        function geo_json_ec3f5724f517424053cf462a840669d3_add (data) {\n",
       "            geo_json_ec3f5724f517424053cf462a840669d3\n",
       "                .addData(data);\n",
       "        }\n",
       "            geo_json_ec3f5724f517424053cf462a840669d3_add({&quot;coordinates&quot;: [13.9226, 50.9661], &quot;type&quot;: &quot;Point&quot;});\n",
       "\n",
       "        \n",
       "    \n",
       "            geo_json_ec3f5724f517424053cf462a840669d3.addTo(map_178fa6bc9889035f8a121429e8e55598);\n",
       "        \n",
       "    \n",
       "\n",
       "        function geo_json_4ca34f0aeb700e545c7160aee8e01b8e_onEachFeature(feature, layer) {\n",
       "            layer.on({\n",
       "            });\n",
       "        };\n",
       "        var geo_json_4ca34f0aeb700e545c7160aee8e01b8e = L.geoJson(null, {\n",
       "                onEachFeature: geo_json_4ca34f0aeb700e545c7160aee8e01b8e_onEachFeature,\n",
       "            \n",
       "        });\n",
       "\n",
       "        function geo_json_4ca34f0aeb700e545c7160aee8e01b8e_add (data) {\n",
       "            geo_json_4ca34f0aeb700e545c7160aee8e01b8e\n",
       "                .addData(data);\n",
       "        }\n",
       "            geo_json_4ca34f0aeb700e545c7160aee8e01b8e_add({&quot;coordinates&quot;: [13.923186570327204, 50.96512473607135], &quot;type&quot;: &quot;Point&quot;});\n",
       "\n",
       "        \n",
       "    \n",
       "            geo_json_4ca34f0aeb700e545c7160aee8e01b8e.addTo(map_178fa6bc9889035f8a121429e8e55598);\n",
       "        \n",
       "    \n",
       "            map_178fa6bc9889035f8a121429e8e55598.fitBounds(\n",
       "                [[50.964720483303836, 13.922514437551428], [50.96623732041704, 13.925036413951403]],\n",
       "                {}\n",
       "            );\n",
       "        \n",
       "&lt;/script&gt;\n",
       "&lt;/html&gt;\" style=\"position:absolute;width:100%;height:100%;left:0;top:0;border:none !important;\" allowfullscreen webkitallowfullscreen mozallowfullscreen></iframe></div></div>"
      ],
      "text/plain": [
       "<folium.folium.Map at 0x1242f8980>"
      ]
     },
     "execution_count": 6,
     "metadata": {},
     "output_type": "execute_result"
    }
   ],
   "source": [
    "m = folium.Map(tiles=\"cartodbpositron\", crs=\"EPSG3857\", zoom_start=12, location=[50.965, 13.922])\n",
    "m.add_child(folium.GeoJson(line.as_geojson()))\n",
    "m.add_child(folium.GeoJson(point.as_geojson()))\n",
    "m.add_child(folium.GeoJson(nearest_point.as_geojson()))\n",
    "m.fit_bounds(m.get_bounds())\n",
    "m"
   ]
  },
  {
   "cell_type": "markdown",
   "id": "31ef0a164a81f162",
   "metadata": {
    "papermill": {
     "duration": 0.001357,
     "end_time": "2024-06-19T13:19:10.026521",
     "exception": false,
     "start_time": "2024-06-19T13:19:10.025164",
     "status": "completed"
    },
    "tags": []
   },
   "source": [
    "## Calculate the nearest point on a line for an arbitrary point with Shapely project function"
   ]
  },
  {
   "cell_type": "code",
   "execution_count": 7,
   "id": "baf9e6f08177b1ac",
   "metadata": {
    "ExecuteTime": {
     "end_time": "2024-06-07T08:19:51.268578Z",
     "start_time": "2024-06-07T08:19:51.266151Z"
    },
    "execution": {
     "iopub.execute_input": "2024-06-19T13:19:10.029677Z",
     "iopub.status.busy": "2024-06-19T13:19:10.029581Z",
     "iopub.status.idle": "2024-06-19T13:19:10.031513Z",
     "shell.execute_reply": "2024-06-19T13:19:10.031293Z"
    },
    "papermill": {
     "duration": 0.004425,
     "end_time": "2024-06-19T13:19:10.032300",
     "exception": false,
     "start_time": "2024-06-19T13:19:10.027875",
     "status": "completed"
    },
    "tags": []
   },
   "outputs": [],
   "source": [
    "shapely_line = ShapelyLineString(line.coordinates)\n",
    "shapely_point = ShapelyPoint(point.coordinates)\n",
    "nearest_shapely_point_on_linestring = shapely_line.interpolate(shapely_line.project(shapely_point))\n",
    "\n",
    "nearest_point = Point.from_dict({\n",
    "  \"type\": \"Point\",\n",
    "  \"coordinates\": [nearest_shapely_point_on_linestring.x, nearest_shapely_point_on_linestring.y]\n",
    "})"
   ]
  },
  {
   "cell_type": "code",
   "execution_count": 8,
   "id": "fd5dc602e0a8ceb3",
   "metadata": {
    "ExecuteTime": {
     "end_time": "2024-06-07T08:19:51.279301Z",
     "start_time": "2024-06-07T08:19:51.269303Z"
    },
    "execution": {
     "iopub.execute_input": "2024-06-19T13:19:10.035638Z",
     "iopub.status.busy": "2024-06-19T13:19:10.035541Z",
     "iopub.status.idle": "2024-06-19T13:19:10.043988Z",
     "shell.execute_reply": "2024-06-19T13:19:10.043756Z"
    },
    "papermill": {
     "duration": 0.011009,
     "end_time": "2024-06-19T13:19:10.044767",
     "exception": false,
     "start_time": "2024-06-19T13:19:10.033758",
     "status": "completed"
    },
    "tags": []
   },
   "outputs": [
    {
     "data": {
      "text/html": [
       "<div style=\"width:100%;\"><div style=\"position:relative;width:100%;height:0;padding-bottom:60%;\"><span style=\"color:#565656\">Make this Notebook Trusted to load map: File -> Trust Notebook</span><iframe srcdoc=\"&lt;!DOCTYPE html&gt;\n",
       "&lt;html&gt;\n",
       "&lt;head&gt;\n",
       "    \n",
       "    &lt;meta http-equiv=&quot;content-type&quot; content=&quot;text/html; charset=UTF-8&quot; /&gt;\n",
       "    \n",
       "        &lt;script&gt;\n",
       "            L_NO_TOUCH = false;\n",
       "            L_DISABLE_3D = false;\n",
       "        &lt;/script&gt;\n",
       "    \n",
       "    &lt;style&gt;html, body {width: 100%;height: 100%;margin: 0;padding: 0;}&lt;/style&gt;\n",
       "    &lt;style&gt;#map {position:absolute;top:0;bottom:0;right:0;left:0;}&lt;/style&gt;\n",
       "    &lt;script src=&quot;https://cdn.jsdelivr.net/npm/leaflet@1.9.3/dist/leaflet.js&quot;&gt;&lt;/script&gt;\n",
       "    &lt;script src=&quot;https://code.jquery.com/jquery-3.7.1.min.js&quot;&gt;&lt;/script&gt;\n",
       "    &lt;script src=&quot;https://cdn.jsdelivr.net/npm/bootstrap@5.2.2/dist/js/bootstrap.bundle.min.js&quot;&gt;&lt;/script&gt;\n",
       "    &lt;script src=&quot;https://cdnjs.cloudflare.com/ajax/libs/Leaflet.awesome-markers/2.0.2/leaflet.awesome-markers.js&quot;&gt;&lt;/script&gt;\n",
       "    &lt;link rel=&quot;stylesheet&quot; href=&quot;https://cdn.jsdelivr.net/npm/leaflet@1.9.3/dist/leaflet.css&quot;/&gt;\n",
       "    &lt;link rel=&quot;stylesheet&quot; href=&quot;https://cdn.jsdelivr.net/npm/bootstrap@5.2.2/dist/css/bootstrap.min.css&quot;/&gt;\n",
       "    &lt;link rel=&quot;stylesheet&quot; href=&quot;https://netdna.bootstrapcdn.com/bootstrap/3.0.0/css/bootstrap.min.css&quot;/&gt;\n",
       "    &lt;link rel=&quot;stylesheet&quot; href=&quot;https://cdn.jsdelivr.net/npm/@fortawesome/fontawesome-free@6.2.0/css/all.min.css&quot;/&gt;\n",
       "    &lt;link rel=&quot;stylesheet&quot; href=&quot;https://cdnjs.cloudflare.com/ajax/libs/Leaflet.awesome-markers/2.0.2/leaflet.awesome-markers.css&quot;/&gt;\n",
       "    &lt;link rel=&quot;stylesheet&quot; href=&quot;https://cdn.jsdelivr.net/gh/python-visualization/folium/folium/templates/leaflet.awesome.rotate.min.css&quot;/&gt;\n",
       "    \n",
       "            &lt;meta name=&quot;viewport&quot; content=&quot;width=device-width,\n",
       "                initial-scale=1.0, maximum-scale=1.0, user-scalable=no&quot; /&gt;\n",
       "            &lt;style&gt;\n",
       "                #map_c94918ef05f849eefbba358108b1042d {\n",
       "                    position: relative;\n",
       "                    width: 100.0%;\n",
       "                    height: 100.0%;\n",
       "                    left: 0.0%;\n",
       "                    top: 0.0%;\n",
       "                }\n",
       "                .leaflet-container { font-size: 1rem; }\n",
       "            &lt;/style&gt;\n",
       "        \n",
       "&lt;/head&gt;\n",
       "&lt;body&gt;\n",
       "    \n",
       "    \n",
       "            &lt;div class=&quot;folium-map&quot; id=&quot;map_c94918ef05f849eefbba358108b1042d&quot; &gt;&lt;/div&gt;\n",
       "        \n",
       "&lt;/body&gt;\n",
       "&lt;script&gt;\n",
       "    \n",
       "    \n",
       "            var map_c94918ef05f849eefbba358108b1042d = L.map(\n",
       "                &quot;map_c94918ef05f849eefbba358108b1042d&quot;,\n",
       "                {\n",
       "                    center: [50.965, 13.922],\n",
       "                    crs: L.CRS.EPSG3857,\n",
       "                    zoom: 12,\n",
       "                    zoomControl: true,\n",
       "                    preferCanvas: false,\n",
       "                }\n",
       "            );\n",
       "\n",
       "            \n",
       "\n",
       "        \n",
       "    \n",
       "            var tile_layer_a5a9b2ce7818a2b4b1760244aca85648 = L.tileLayer(\n",
       "                &quot;https://{s}.basemaps.cartocdn.com/light_all/{z}/{x}/{y}{r}.png&quot;,\n",
       "                {&quot;attribution&quot;: &quot;\\u0026copy; \\u003ca href=\\&quot;https://www.openstreetmap.org/copyright\\&quot;\\u003eOpenStreetMap\\u003c/a\\u003e contributors \\u0026copy; \\u003ca href=\\&quot;https://carto.com/attributions\\&quot;\\u003eCARTO\\u003c/a\\u003e&quot;, &quot;detectRetina&quot;: false, &quot;maxNativeZoom&quot;: 20, &quot;maxZoom&quot;: 20, &quot;minZoom&quot;: 0, &quot;noWrap&quot;: false, &quot;opacity&quot;: 1, &quot;subdomains&quot;: &quot;abcd&quot;, &quot;tms&quot;: false}\n",
       "            );\n",
       "        \n",
       "    \n",
       "            tile_layer_a5a9b2ce7818a2b4b1760244aca85648.addTo(map_c94918ef05f849eefbba358108b1042d);\n",
       "        \n",
       "    \n",
       "\n",
       "        function geo_json_65acee88d5b47cf1def094463197f4a2_onEachFeature(feature, layer) {\n",
       "            layer.on({\n",
       "            });\n",
       "        };\n",
       "        var geo_json_65acee88d5b47cf1def094463197f4a2 = L.geoJson(null, {\n",
       "                onEachFeature: geo_json_65acee88d5b47cf1def094463197f4a2_onEachFeature,\n",
       "            \n",
       "        });\n",
       "\n",
       "        function geo_json_65acee88d5b47cf1def094463197f4a2_add (data) {\n",
       "            geo_json_65acee88d5b47cf1def094463197f4a2\n",
       "                .addData(data);\n",
       "        }\n",
       "            geo_json_65acee88d5b47cf1def094463197f4a2_add({&quot;coordinates&quot;: [[13.922514437551428, 50.964720483303836], [13.925036413951403, 50.96623732041704]], &quot;type&quot;: &quot;LineString&quot;});\n",
       "\n",
       "        \n",
       "    \n",
       "            geo_json_65acee88d5b47cf1def094463197f4a2.addTo(map_c94918ef05f849eefbba358108b1042d);\n",
       "        \n",
       "    \n",
       "\n",
       "        function geo_json_b9899cc16a99fab898b39c9a9fcf56b4_onEachFeature(feature, layer) {\n",
       "            layer.on({\n",
       "            });\n",
       "        };\n",
       "        var geo_json_b9899cc16a99fab898b39c9a9fcf56b4 = L.geoJson(null, {\n",
       "                onEachFeature: geo_json_b9899cc16a99fab898b39c9a9fcf56b4_onEachFeature,\n",
       "            \n",
       "        });\n",
       "\n",
       "        function geo_json_b9899cc16a99fab898b39c9a9fcf56b4_add (data) {\n",
       "            geo_json_b9899cc16a99fab898b39c9a9fcf56b4\n",
       "                .addData(data);\n",
       "        }\n",
       "            geo_json_b9899cc16a99fab898b39c9a9fcf56b4_add({&quot;coordinates&quot;: [13.9226, 50.9661], &quot;type&quot;: &quot;Point&quot;});\n",
       "\n",
       "        \n",
       "    \n",
       "            geo_json_b9899cc16a99fab898b39c9a9fcf56b4.addTo(map_c94918ef05f849eefbba358108b1042d);\n",
       "        \n",
       "    \n",
       "\n",
       "        function geo_json_831674c4706cfa1aadb3786a1890a280_onEachFeature(feature, layer) {\n",
       "            layer.on({\n",
       "            });\n",
       "        };\n",
       "        var geo_json_831674c4706cfa1aadb3786a1890a280 = L.geoJson(null, {\n",
       "                onEachFeature: geo_json_831674c4706cfa1aadb3786a1890a280_onEachFeature,\n",
       "            \n",
       "        });\n",
       "\n",
       "        function geo_json_831674c4706cfa1aadb3786a1890a280_add (data) {\n",
       "            geo_json_831674c4706cfa1aadb3786a1890a280\n",
       "                .addData(data);\n",
       "        }\n",
       "            geo_json_831674c4706cfa1aadb3786a1890a280_add({&quot;coordinates&quot;: [13.923186570327204, 50.96512473607135], &quot;type&quot;: &quot;Point&quot;});\n",
       "\n",
       "        \n",
       "    \n",
       "            geo_json_831674c4706cfa1aadb3786a1890a280.addTo(map_c94918ef05f849eefbba358108b1042d);\n",
       "        \n",
       "    \n",
       "            map_c94918ef05f849eefbba358108b1042d.fitBounds(\n",
       "                [[50.964720483303836, 13.922514437551428], [50.96623732041704, 13.925036413951403]],\n",
       "                {}\n",
       "            );\n",
       "        \n",
       "&lt;/script&gt;\n",
       "&lt;/html&gt;\" style=\"position:absolute;width:100%;height:100%;left:0;top:0;border:none !important;\" allowfullscreen webkitallowfullscreen mozallowfullscreen></iframe></div></div>"
      ],
      "text/plain": [
       "<folium.folium.Map at 0x12418f200>"
      ]
     },
     "execution_count": 8,
     "metadata": {},
     "output_type": "execute_result"
    }
   ],
   "source": [
    "m = folium.Map(tiles=\"cartodbpositron\", crs=\"EPSG3857\", zoom_start=12, location=[50.965, 13.922])\n",
    "m.add_child(folium.GeoJson(line.as_geojson()))\n",
    "m.add_child(folium.GeoJson(point.as_geojson()))\n",
    "m.add_child(folium.GeoJson(nearest_point.as_geojson()))\n",
    "m.fit_bounds(m.get_bounds())\n",
    "m"
   ]
  },
  {
   "cell_type": "code",
   "execution_count": null,
   "id": "2e1569d1b20ec1c9",
   "metadata": {
    "ExecuteTime": {
     "end_time": "2024-06-07T08:19:51.283186Z",
     "start_time": "2024-06-07T08:19:51.280681Z"
    },
    "papermill": {
     "duration": 0.001525,
     "end_time": "2024-06-19T13:19:10.048004",
     "exception": false,
     "start_time": "2024-06-19T13:19:10.046479",
     "status": "completed"
    },
    "tags": []
   },
   "outputs": [],
   "source": []
  }
 ],
 "metadata": {
  "kernelspec": {
   "display_name": "Python 3",
   "language": "python",
   "name": "python3"
  },
  "language_info": {
   "codemirror_mode": {
    "name": "ipython",
    "version": 3
   },
   "file_extension": ".py",
   "mimetype": "text/x-python",
   "name": "python",
   "nbconvert_exporter": "python",
   "pygments_lexer": "ipython3",
   "version": "3.12.2"
  },
  "papermill": {
   "default_parameters": {},
   "duration": 1.553927,
   "end_time": "2024-06-19T13:19:10.265539",
   "environment_variables": {},
   "exception": null,
   "input_path": "./notebooks/LineStringNearestPoint.ipynb",
   "output_path": "./notebooks/LineStringNearestPoint.ipynb",
   "parameters": {},
   "start_time": "2024-06-19T13:19:08.711612",
   "version": "2.6.0"
  }
 },
 "nbformat": 4,
 "nbformat_minor": 5
}