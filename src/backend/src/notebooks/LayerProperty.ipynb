{
 "cells": [
  {
   "cell_type": "code",
   "id": "initial_id",
   "metadata": {
    "collapsed": true,
    "execution": {
     "iopub.execute_input": "2024-06-20T19:01:52.661290Z",
     "iopub.status.busy": "2024-06-20T19:01:52.660855Z",
     "iopub.status.idle": "2024-06-20T19:01:52.819355Z",
     "shell.execute_reply": "2024-06-20T19:01:52.818694Z"
    },
    "papermill": {
     "duration": 0.166889,
     "end_time": "2024-06-20T19:01:52.821767",
     "exception": false,
     "start_time": "2024-06-20T19:01:52.654878",
     "status": "completed"
    },
    "tags": [],
    "ExecuteTime": {
     "end_time": "2024-08-19T09:44:34.972510Z",
     "start_time": "2024-08-19T09:44:34.798779Z"
    }
   },
   "source": [
    "from morpheus.project.types.layers.Layer import LayerPropertyValues, LayerPropertyRaster, LayerPropertyDefaultValue\n",
    "\n",
    "value = .5\n",
    "layer_property = LayerPropertyValues.from_value(value)\n",
    "layer_property.get_data()"
   ],
   "outputs": [
    {
     "data": {
      "text/plain": [
       "0.5"
      ]
     },
     "execution_count": 1,
     "metadata": {},
     "output_type": "execute_result"
    }
   ],
   "execution_count": 1
  },
  {
   "cell_type": "code",
   "id": "e2c2c86e95cd764b",
   "metadata": {
    "execution": {
     "iopub.execute_input": "2024-06-20T19:01:52.841557Z",
     "iopub.status.busy": "2024-06-20T19:01:52.836564Z",
     "iopub.status.idle": "2024-06-20T19:01:52.848959Z",
     "shell.execute_reply": "2024-06-20T19:01:52.848300Z"
    },
    "papermill": {
     "duration": 0.027319,
     "end_time": "2024-06-20T19:01:52.852345",
     "exception": false,
     "start_time": "2024-06-20T19:01:52.825026",
     "status": "completed"
    },
    "tags": [],
    "ExecuteTime": {
     "end_time": "2024-08-19T09:44:34.989433Z",
     "start_time": "2024-08-19T09:44:34.978501Z"
    }
   },
   "source": [
    "\n",
    "raster = LayerPropertyRaster.from_data(\n",
    "  data=[[1, 2, 3], [4, 5, 6], [7, 8, 9]]\n",
    ")\n",
    "\n",
    "layer_property = LayerPropertyValues(\n",
    "  value=LayerPropertyDefaultValue(value=value),\n",
    "  raster=raster\n",
    ")\n",
    "layer_property.get_data()"
   ],
   "outputs": [
    {
     "data": {
      "text/plain": [
       "[[1.0, 2.0, 3.0], [4.0, 5.0, 6.0], [7.0, 8.0, 9.0]]"
      ]
     },
     "execution_count": 2,
     "metadata": {},
     "output_type": "execute_result"
    }
   ],
   "execution_count": 2
  },
  {
   "cell_type": "code",
   "id": "6be5e311a7a36330",
   "metadata": {
    "execution": {
     "iopub.execute_input": "2024-06-20T19:01:52.857341Z",
     "iopub.status.busy": "2024-06-20T19:01:52.856845Z",
     "iopub.status.idle": "2024-06-20T19:01:52.869678Z",
     "shell.execute_reply": "2024-06-20T19:01:52.869044Z"
    },
    "papermill": {
     "duration": 0.017649,
     "end_time": "2024-06-20T19:01:52.872291",
     "exception": false,
     "start_time": "2024-06-20T19:01:52.854642",
     "status": "completed"
    },
    "tags": [],
    "ExecuteTime": {
     "end_time": "2024-08-19T09:44:34.999778Z",
     "start_time": "2024-08-19T09:44:34.991632Z"
    }
   },
   "source": [
    "from morpheus.project.types.geometry import Polygon\n",
    "from morpheus.project.types.discretization.spatial import ActiveCells\n",
    "from morpheus.project.types.layers.Layer import LayerPropertyZones, LayerPropertyDefaultValue, LayerPropertyZone, ZoneId, ZoneName\n",
    "\n",
    "affected_cells = ActiveCells.empty_from_shape(n_cols=5, n_rows=3)\n",
    "affected_cells.set_active(col=1, row=1)\n",
    "affected_cells.set_active(col=2, row=1)\n",
    "affected_cells.set_active(col=3, row=1)\n",
    "\n",
    "zone_1 = LayerPropertyZone(\n",
    "  zone_id=ZoneId.new(),\n",
    "  name=ZoneName.from_value('zone_1'),\n",
    "  affected_cells=affected_cells,\n",
    "  value=100,\n",
    "  geometry=Polygon(\n",
    "    type='Polygon',\n",
    "    coordinates=[[]]\n",
    "  )\n",
    ")\n",
    "\n",
    "layer_property = LayerPropertyValues(\n",
    "  value=LayerPropertyDefaultValue(value=1),\n",
    "  zones=LayerPropertyZones.from_list([zone_1.to_dict()])\n",
    ")\n",
    "\n",
    "layer_property.get_data()"
   ],
   "outputs": [
    {
     "data": {
      "text/plain": [
       "[[1.0, 1.0, 1.0, 1.0, 1.0],\n",
       " [1.0, 100.0, 100.0, 100.0, 1.0],\n",
       " [1.0, 1.0, 1.0, 1.0, 1.0]]"
      ]
     },
     "execution_count": 3,
     "metadata": {},
     "output_type": "execute_result"
    }
   ],
   "execution_count": 3
  },
  {
   "cell_type": "code",
   "id": "36b501d23b00baf6",
   "metadata": {
    "papermill": {
     "duration": 0.002168,
     "end_time": "2024-06-20T19:01:52.877166",
     "exception": false,
     "start_time": "2024-06-20T19:01:52.874998",
     "status": "completed"
    },
    "tags": [],
    "ExecuteTime": {
     "end_time": "2024-08-19T09:44:35.007062Z",
     "start_time": "2024-08-19T09:44:35.002377Z"
    }
   },
   "source": [],
   "outputs": [],
   "execution_count": 3
  }
 ],
 "metadata": {
  "kernelspec": {
   "display_name": "Python 3",
   "language": "python",
   "name": "python3"
  },
  "language_info": {
   "codemirror_mode": {
    "name": "ipython",
    "version": 3
   },
   "file_extension": ".py",
   "mimetype": "text/x-python",
   "name": "python",
   "nbconvert_exporter": "python",
   "pygments_lexer": "ipython3",
   "version": "3.12.2"
  },
  "papermill": {
   "default_parameters": {},
   "duration": 1.154146,
   "end_time": "2024-06-20T19:01:53.105869",
   "environment_variables": {},
   "exception": null,
   "input_path": "./notebooks/LayerProperty.ipynb",
   "output_path": "./notebooks/LayerProperty.ipynb",
   "parameters": {},
   "start_time": "2024-06-20T19:01:51.951723",
   "version": "2.6.0"
  }
 },
 "nbformat": 4,
 "nbformat_minor": 5
}
