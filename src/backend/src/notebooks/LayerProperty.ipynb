{
 "cells": [
  {
   "cell_type": "code",
   "execution_count": 1,
   "id": "initial_id",
   "metadata": {
    "ExecuteTime": {
     "end_time": "2024-05-14T07:56:48.211514Z",
     "start_time": "2024-05-14T07:56:48.055254Z"
    },
    "collapsed": true,
    "execution": {
     "iopub.execute_input": "2024-06-19T07:34:51.156991Z",
     "iopub.status.busy": "2024-06-19T07:34:51.156277Z",
     "iopub.status.idle": "2024-06-19T07:34:51.303854Z",
     "shell.execute_reply": "2024-06-19T07:34:51.301959Z"
    },
    "papermill": {
     "duration": 0.157807,
     "end_time": "2024-06-19T07:34:51.306201",
     "exception": false,
     "start_time": "2024-06-19T07:34:51.148394",
     "status": "completed"
    },
    "tags": []
   },
   "outputs": [
    {
     "data": {
      "text/plain": [
       "0.5"
      ]
     },
     "execution_count": 1,
     "metadata": {},
     "output_type": "execute_result"
    }
   ],
   "source": [
    "from morpheus.project.types.layers.Layer import LayerPropertyValues, LayerPropertyRaster, LayerPropertyDefaultValue\n",
    "\n",
    "value = .5\n",
    "layer_property = LayerPropertyValues.from_value(value)\n",
    "layer_property.get_data()"
   ]
  },
  {
   "cell_type": "code",
   "execution_count": 2,
   "id": "e2c2c86e95cd764b",
   "metadata": {
    "ExecuteTime": {
     "end_time": "2024-05-14T07:56:48.219459Z",
     "start_time": "2024-05-14T07:56:48.213867Z"
    },
    "execution": {
     "iopub.execute_input": "2024-06-19T07:34:51.333245Z",
     "iopub.status.busy": "2024-06-19T07:34:51.332850Z",
     "iopub.status.idle": "2024-06-19T07:34:51.344197Z",
     "shell.execute_reply": "2024-06-19T07:34:51.343458Z"
    },
    "papermill": {
     "duration": 0.037496,
     "end_time": "2024-06-19T07:34:51.346152",
     "exception": false,
     "start_time": "2024-06-19T07:34:51.308656",
     "status": "completed"
    },
    "tags": []
   },
   "outputs": [
    {
     "data": {
      "text/plain": [
       "[[1.0, 2.0, 3.0], [4.0, 5.0, 6.0], [7.0, 8.0, 9.0]]"
      ]
     },
     "execution_count": 2,
     "metadata": {},
     "output_type": "execute_result"
    }
   ],
   "source": [
    "\n",
    "raster = LayerPropertyRaster.from_data(\n",
    "  data=[[1, 2, 3], [4, 5, 6], [7, 8, 9]]\n",
    ")\n",
    "\n",
    "layer_property = LayerPropertyValues(\n",
    "  value=LayerPropertyDefaultValue(value=value),\n",
    "  raster=raster\n",
    ")\n",
    "layer_property.get_data()"
   ]
  },
  {
   "cell_type": "code",
   "execution_count": 3,
   "id": "6be5e311a7a36330",
   "metadata": {
    "ExecuteTime": {
     "end_time": "2024-05-14T07:56:48.227358Z",
     "start_time": "2024-05-14T07:56:48.221332Z"
    },
    "execution": {
     "iopub.execute_input": "2024-06-19T07:34:51.351964Z",
     "iopub.status.busy": "2024-06-19T07:34:51.351463Z",
     "iopub.status.idle": "2024-06-19T07:34:51.359195Z",
     "shell.execute_reply": "2024-06-19T07:34:51.358629Z"
    },
    "papermill": {
     "duration": 0.01265,
     "end_time": "2024-06-19T07:34:51.361177",
     "exception": false,
     "start_time": "2024-06-19T07:34:51.348527",
     "status": "completed"
    },
    "tags": []
   },
   "outputs": [
    {
     "data": {
      "text/plain": [
       "[[1.0, 1.0, 1.0, 1.0, 1.0],\n",
       " [1.0, 100.0, 100.0, 100.0, 1.0],\n",
       " [1.0, 1.0, 1.0, 1.0, 1.0]]"
      ]
     },
     "execution_count": 3,
     "metadata": {},
     "output_type": "execute_result"
    }
   ],
   "source": [
    "from morpheus.project.types.geometry import Polygon\n",
    "from morpheus.project.types.discretization.spatial import ActiveCells\n",
    "from morpheus.project.types.layers.Layer import LayerPropertyZones, LayerPropertyDefaultValue, LayerPropertyZone, ZoneId, ZoneName\n",
    "\n",
    "affected_cells = ActiveCells.empty_from_shape(n_cols=5, n_rows=3)\n",
    "affected_cells.set_active(col=1, row=1)\n",
    "affected_cells.set_active(col=2, row=1)\n",
    "affected_cells.set_active(col=3, row=1)\n",
    "\n",
    "zone_1 = LayerPropertyZone(\n",
    "  zone_id=ZoneId.new(),\n",
    "  name=ZoneName.from_value('zone_1'),\n",
    "  affected_cells=affected_cells,\n",
    "  value=100,\n",
    "  geometry=Polygon(\n",
    "    type='Polygon',\n",
    "    coordinates=[[]]\n",
    "  )\n",
    ")\n",
    "\n",
    "layer_property = LayerPropertyValues(\n",
    "  value=LayerPropertyDefaultValue(value=1),\n",
    "  zones=LayerPropertyZones.from_list([zone_1.to_dict()])\n",
    ")\n",
    "\n",
    "layer_property.get_data()"
   ]
  },
  {
   "cell_type": "code",
   "execution_count": null,
   "id": "36b501d23b00baf6",
   "metadata": {
    "ExecuteTime": {
     "end_time": "2024-05-14T07:56:48.231813Z",
     "start_time": "2024-05-14T07:56:48.229256Z"
    },
    "papermill": {
     "duration": 0.001953,
     "end_time": "2024-06-19T07:34:51.365462",
     "exception": false,
     "start_time": "2024-06-19T07:34:51.363509",
     "status": "completed"
    },
    "tags": []
   },
   "outputs": [],
   "source": []
  }
 ],
 "metadata": {
  "kernelspec": {
   "display_name": "Python 3",
   "language": "python",
   "name": "python3"
  },
  "language_info": {
   "codemirror_mode": {
    "name": "ipython",
    "version": 3
   },
   "file_extension": ".py",
   "mimetype": "text/x-python",
   "name": "python",
   "nbconvert_exporter": "python",
   "pygments_lexer": "ipython3",
   "version": "3.12.2"
  },
  "papermill": {
   "default_parameters": {},
   "duration": 0.838212,
   "end_time": "2024-06-19T07:34:51.484453",
   "environment_variables": {},
   "exception": null,
   "input_path": "./notebooks/LayerProperty.ipynb",
   "output_path": "./notebooks/LayerProperty.ipynb",
   "parameters": {},
   "start_time": "2024-06-19T07:34:50.646241",
   "version": "2.6.0"
  }
 },
 "nbformat": 4,
 "nbformat_minor": 5
}