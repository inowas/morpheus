{
 "cells": [
  {
   "cell_type": "code",
   "execution_count": 1,
   "id": "initial_id",
   "metadata": {
    "ExecuteTime": {
     "end_time": "2024-08-19T09:44:34.972510Z",
     "start_time": "2024-08-19T09:44:34.798779Z"
    },
    "collapsed": true,
    "execution": {
     "iopub.execute_input": "2024-08-21T20:28:56.166720Z",
     "iopub.status.busy": "2024-08-21T20:28:56.166400Z",
     "iopub.status.idle": "2024-08-21T20:28:56.298789Z",
     "shell.execute_reply": "2024-08-21T20:28:56.297963Z"
    },
    "papermill": {
     "duration": 0.14113,
     "end_time": "2024-08-21T20:28:56.301724",
     "exception": false,
     "start_time": "2024-08-21T20:28:56.160594",
     "status": "completed"
    },
    "tags": []
   },
   "outputs": [
    {
     "data": {
      "text/plain": [
       "0.5"
      ]
     },
     "execution_count": 1,
     "metadata": {},
     "output_type": "execute_result"
    }
   ],
   "source": [
    "from morpheus.project.types.layers.Layer import LayerPropertyValues, LayerPropertyRaster, LayerPropertyDefaultValue\n",
    "\n",
    "value = .5\n",
    "layer_property = LayerPropertyValues.from_value(value)\n",
    "layer_property.get_data()"
   ]
  },
  {
   "cell_type": "code",
   "execution_count": 2,
   "id": "e2c2c86e95cd764b",
   "metadata": {
    "ExecuteTime": {
     "end_time": "2024-08-19T09:44:34.989433Z",
     "start_time": "2024-08-19T09:44:34.978501Z"
    },
    "execution": {
     "iopub.execute_input": "2024-08-21T20:28:56.307832Z",
     "iopub.status.busy": "2024-08-21T20:28:56.307438Z",
     "iopub.status.idle": "2024-08-21T20:28:56.316169Z",
     "shell.execute_reply": "2024-08-21T20:28:56.314693Z"
    },
    "papermill": {
     "duration": 0.017795,
     "end_time": "2024-08-21T20:28:56.322167",
     "exception": false,
     "start_time": "2024-08-21T20:28:56.304372",
     "status": "completed"
    },
    "tags": []
   },
   "outputs": [
    {
     "data": {
      "text/plain": [
       "[[1.0, 2.0, 3.0], [4.0, 5.0, 6.0], [7.0, 8.0, 9.0]]"
      ]
     },
     "execution_count": 2,
     "metadata": {},
     "output_type": "execute_result"
    }
   ],
   "source": [
    "\n",
    "raster = LayerPropertyRaster.from_data(\n",
    "  data=[[1, 2, 3], [4, 5, 6], [7, 8, 9]]\n",
    ")\n",
    "\n",
    "layer_property = LayerPropertyValues(\n",
    "  value=LayerPropertyDefaultValue(value=value),\n",
    "  raster=raster\n",
    ")\n",
    "layer_property.get_data()"
   ]
  },
  {
   "cell_type": "code",
   "execution_count": 3,
   "id": "6be5e311a7a36330",
   "metadata": {
    "ExecuteTime": {
     "end_time": "2024-08-19T09:44:34.999778Z",
     "start_time": "2024-08-19T09:44:34.991632Z"
    },
    "execution": {
     "iopub.execute_input": "2024-08-21T20:28:56.337739Z",
     "iopub.status.busy": "2024-08-21T20:28:56.337072Z",
     "iopub.status.idle": "2024-08-21T20:28:56.348555Z",
     "shell.execute_reply": "2024-08-21T20:28:56.347963Z"
    },
    "papermill": {
     "duration": 0.02631,
     "end_time": "2024-08-21T20:28:56.350670",
     "exception": false,
     "start_time": "2024-08-21T20:28:56.324360",
     "status": "completed"
    },
    "tags": []
   },
   "outputs": [
    {
     "data": {
      "text/plain": [
       "[[1.0, 1.0, 1.0, 1.0, 1.0],\n",
       " [1.0, 100.0, 100.0, 100.0, 1.0],\n",
       " [1.0, 1.0, 1.0, 1.0, 1.0]]"
      ]
     },
     "execution_count": 3,
     "metadata": {},
     "output_type": "execute_result"
    }
   ],
   "source": [
    "from morpheus.project.types.geometry import Polygon\n",
    "from morpheus.project.types.discretization.spatial import ActiveCells\n",
    "from morpheus.project.types.layers.Layer import LayerPropertyZones, LayerPropertyDefaultValue, LayerPropertyZone, ZoneId, ZoneName\n",
    "\n",
    "affected_cells = ActiveCells.empty_from_shape(n_cols=5, n_rows=3)\n",
    "affected_cells.set_active(col=1, row=1)\n",
    "affected_cells.set_active(col=2, row=1)\n",
    "affected_cells.set_active(col=3, row=1)\n",
    "\n",
    "zone_1 = LayerPropertyZone(\n",
    "  zone_id=ZoneId.new(),\n",
    "  name=ZoneName.from_value('zone_1'),\n",
    "  affected_cells=affected_cells,\n",
    "  value=100,\n",
    "  geometry=Polygon(\n",
    "    type='Polygon',\n",
    "    coordinates=[[]]\n",
    "  )\n",
    ")\n",
    "\n",
    "layer_property = LayerPropertyValues(\n",
    "  value=LayerPropertyDefaultValue(value=1),\n",
    "  zones=LayerPropertyZones.from_list([zone_1.to_dict()])\n",
    ")\n",
    "\n",
    "layer_property.get_data()"
   ]
  },
  {
   "cell_type": "code",
   "execution_count": null,
   "id": "36b501d23b00baf6",
   "metadata": {
    "ExecuteTime": {
     "end_time": "2024-08-19T09:44:35.007062Z",
     "start_time": "2024-08-19T09:44:35.002377Z"
    },
    "papermill": {
     "duration": 0.002381,
     "end_time": "2024-08-21T20:28:56.357842",
     "exception": false,
     "start_time": "2024-08-21T20:28:56.355461",
     "status": "completed"
    },
    "tags": []
   },
   "outputs": [],
   "source": []
  }
 ],
 "metadata": {
  "kernelspec": {
   "display_name": "Python 3",
   "language": "python",
   "name": "python3"
  },
  "language_info": {
   "codemirror_mode": {
    "name": "ipython",
    "version": 3
   },
   "file_extension": ".py",
   "mimetype": "text/x-python",
   "name": "python",
   "nbconvert_exporter": "python",
   "pygments_lexer": "ipython3",
   "version": "3.12.2"
  },
  "papermill": {
   "default_parameters": {},
   "duration": 0.93092,
   "end_time": "2024-08-21T20:28:56.582250",
   "environment_variables": {},
   "exception": null,
   "input_path": "./notebooks/LayerProperty.ipynb",
   "output_path": "./notebooks/LayerProperty.ipynb",
   "parameters": {},
   "start_time": "2024-08-21T20:28:55.651330",
   "version": "2.6.0"
  }
 },
 "nbformat": 4,
 "nbformat_minor": 5
}