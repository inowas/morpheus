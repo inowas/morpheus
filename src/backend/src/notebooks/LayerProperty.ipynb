{
 "cells": [
  {
   "cell_type": "code",
   "execution_count": 1,
   "id": "initial_id",
   "metadata": {
    "ExecuteTime": {
     "end_time": "2024-05-14T07:56:48.211514Z",
     "start_time": "2024-05-14T07:56:48.055254Z"
    },
    "collapsed": true,
    "execution": {
     "iopub.execute_input": "2024-06-17T21:06:18.752202Z",
     "iopub.status.busy": "2024-06-17T21:06:18.751305Z",
     "iopub.status.idle": "2024-06-17T21:06:18.956937Z",
     "shell.execute_reply": "2024-06-17T21:06:18.955388Z"
    },
    "papermill": {
     "duration": 0.220449,
     "end_time": "2024-06-17T21:06:18.960289",
     "exception": false,
     "start_time": "2024-06-17T21:06:18.739840",
     "status": "completed"
    },
    "tags": []
   },
   "outputs": [
    {
     "data": {
      "text/plain": [
       "0.5"
      ]
     },
     "execution_count": 1,
     "metadata": {},
     "output_type": "execute_result"
    }
   ],
   "source": [
    "from morpheus.project.types.layers.Layer import LayerPropertyValues, LayerPropertyRaster, LayerPropertyDefaultValue\n",
    "\n",
    "value = .5\n",
    "layer_property = LayerPropertyValues.from_value(value)\n",
    "layer_property.get_data()"
   ]
  },
  {
   "cell_type": "code",
   "execution_count": 2,
   "id": "e2c2c86e95cd764b",
   "metadata": {
    "ExecuteTime": {
     "end_time": "2024-05-14T07:56:48.219459Z",
     "start_time": "2024-05-14T07:56:48.213867Z"
    },
    "execution": {
     "iopub.execute_input": "2024-06-17T21:06:18.968202Z",
     "iopub.status.busy": "2024-06-17T21:06:18.967645Z",
     "iopub.status.idle": "2024-06-17T21:06:18.974706Z",
     "shell.execute_reply": "2024-06-17T21:06:18.972721Z"
    },
    "papermill": {
     "duration": 0.01349,
     "end_time": "2024-06-17T21:06:18.977182",
     "exception": false,
     "start_time": "2024-06-17T21:06:18.963692",
     "status": "completed"
    },
    "tags": []
   },
   "outputs": [
    {
     "data": {
      "text/plain": [
       "[[1.0, 2.0, 3.0], [4.0, 5.0, 6.0], [7.0, 8.0, 9.0]]"
      ]
     },
     "execution_count": 2,
     "metadata": {},
     "output_type": "execute_result"
    }
   ],
   "source": [
    "\n",
    "raster = LayerPropertyRaster.from_data(\n",
    "  data=[[1, 2, 3], [4, 5, 6], [7, 8, 9]]\n",
    ")\n",
    "\n",
    "layer_property = LayerPropertyValues(\n",
    "  value=LayerPropertyDefaultValue(value=value),\n",
    "  raster=raster\n",
    ")\n",
    "layer_property.get_data()"
   ]
  },
  {
   "cell_type": "code",
   "execution_count": 3,
   "id": "6be5e311a7a36330",
   "metadata": {
    "ExecuteTime": {
     "end_time": "2024-05-14T07:56:48.227358Z",
     "start_time": "2024-05-14T07:56:48.221332Z"
    },
    "execution": {
     "iopub.execute_input": "2024-06-17T21:06:18.985778Z",
     "iopub.status.busy": "2024-06-17T21:06:18.985222Z",
     "iopub.status.idle": "2024-06-17T21:06:18.997427Z",
     "shell.execute_reply": "2024-06-17T21:06:18.996903Z"
    },
    "papermill": {
     "duration": 0.023274,
     "end_time": "2024-06-17T21:06:19.002083",
     "exception": false,
     "start_time": "2024-06-17T21:06:18.978809",
     "status": "completed"
    },
    "tags": []
   },
   "outputs": [
    {
     "data": {
      "text/plain": [
       "[[1.0, 1.0, 1.0, 1.0, 1.0],\n",
       " [1.0, 100.0, 100.0, 100.0, 1.0],\n",
       " [1.0, 1.0, 1.0, 1.0, 1.0]]"
      ]
     },
     "execution_count": 3,
     "metadata": {},
     "output_type": "execute_result"
    }
   ],
   "source": [
    "from morpheus.project.types.geometry import Polygon\n",
    "from morpheus.project.types.discretization.spatial import ActiveCells\n",
    "from morpheus.project.types.layers.Layer import LayerPropertyZones, LayerPropertyDefaultValue, LayerPropertyZone, ZoneId, ZoneName\n",
    "\n",
    "affected_cells = ActiveCells.empty_from_shape(n_cols=5, n_rows=3)\n",
    "affected_cells.set_active(col=1, row=1)\n",
    "affected_cells.set_active(col=2, row=1)\n",
    "affected_cells.set_active(col=3, row=1)\n",
    "\n",
    "zone_1 = LayerPropertyZone(\n",
    "  zone_id=ZoneId.new(),\n",
    "  name=ZoneName.from_value('zone_1'),\n",
    "  affected_cells=affected_cells,\n",
    "  value=100,\n",
    "  geometry=Polygon(\n",
    "    type='Polygon',\n",
    "    coordinates=[[]]\n",
    "  )\n",
    ")\n",
    "\n",
    "layer_property = LayerPropertyValues(\n",
    "  value=LayerPropertyDefaultValue(value=1),\n",
    "  zones=LayerPropertyZones.from_list([zone_1.to_dict()])\n",
    ")\n",
    "\n",
    "layer_property.get_data()"
   ]
  },
  {
   "cell_type": "code",
   "execution_count": null,
   "id": "36b501d23b00baf6",
   "metadata": {
    "ExecuteTime": {
     "end_time": "2024-05-14T07:56:48.231813Z",
     "start_time": "2024-05-14T07:56:48.229256Z"
    },
    "papermill": {
     "duration": 0.000857,
     "end_time": "2024-06-17T21:06:19.004205",
     "exception": false,
     "start_time": "2024-06-17T21:06:19.003348",
     "status": "completed"
    },
    "tags": []
   },
   "outputs": [],
   "source": []
  }
 ],
 "metadata": {
  "kernelspec": {
   "display_name": "Python 3",
   "language": "python",
   "name": "python3"
  },
  "language_info": {
   "codemirror_mode": {
    "name": "ipython",
    "version": 3
   },
   "file_extension": ".py",
   "mimetype": "text/x-python",
   "name": "python",
   "nbconvert_exporter": "python",
   "pygments_lexer": "ipython3",
   "version": "3.12.2"
  },
  "papermill": {
   "default_parameters": {},
   "duration": 1.077061,
   "end_time": "2024-06-17T21:06:19.126471",
   "environment_variables": {},
   "exception": null,
   "input_path": "./notebooks/LayerProperty.ipynb",
   "output_path": "./notebooks/LayerProperty.ipynb",
   "parameters": {},
   "start_time": "2024-06-17T21:06:18.049410",
   "version": "2.6.0"
  }
 },
 "nbformat": 4,
 "nbformat_minor": 5
}