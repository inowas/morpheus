{
 "cells": [
  {
   "cell_type": "code",
   "id": "initial_id",
   "metadata": {
    "collapsed": true,
    "ExecuteTime": {
     "end_time": "2024-04-22T20:39:57.504186Z",
     "start_time": "2024-04-22T20:39:57.354887Z"
    }
   },
   "source": [
    "from morpheus.project.types.layers.Layer import LayerPropertyValue, LayerPropertyRaster\n",
    "\n",
    "value = .5\n",
    "layer_property = LayerPropertyValue(value)\n",
    "layer_property.get_data()"
   ],
   "outputs": [
    {
     "data": {
      "text/plain": [
       "0.5"
      ]
     },
     "execution_count": 1,
     "metadata": {},
     "output_type": "execute_result"
    }
   ],
   "execution_count": 1
  },
  {
   "metadata": {
    "ExecuteTime": {
     "end_time": "2024-04-22T20:39:57.513514Z",
     "start_time": "2024-04-22T20:39:57.506920Z"
    }
   },
   "cell_type": "code",
   "source": [
    "\n",
    "raster = LayerPropertyRaster(\n",
    "  data=[[1, 2, 3], [4, 5, 6], [7, 8, 9]]\n",
    ")\n",
    "\n",
    "layer_property = LayerPropertyValue(value=value, raster=raster)\n",
    "layer_property.get_data()"
   ],
   "id": "e2c2c86e95cd764b",
   "outputs": [
    {
     "data": {
      "text/plain": [
       "[[1, 2, 3], [4, 5, 6], [7, 8, 9]]"
      ]
     },
     "execution_count": 2,
     "metadata": {},
     "output_type": "execute_result"
    }
   ],
   "execution_count": 2
  },
  {
   "metadata": {
    "ExecuteTime": {
     "end_time": "2024-04-22T20:39:57.522878Z",
     "start_time": "2024-04-22T20:39:57.515341Z"
    }
   },
   "cell_type": "code",
   "source": [
    "from morpheus.project.types.geometry import Polygon\n",
    "from morpheus.project.types.discretization.spatial import ActiveCells\n",
    "from morpheus.project.types.layers.Layer import LayerPropertyZone\n",
    "\n",
    "affected_cells = ActiveCells.empty_from_shape(n_cols=5, n_rows=3)\n",
    "affected_cells.set_active(col=1, row=1)\n",
    "affected_cells.set_active(col=2, row=1)\n",
    "affected_cells.set_active(col=3, row=1)\n",
    "\n",
    "zone_1 = LayerPropertyZone(\n",
    "  affected_cells=affected_cells,\n",
    "  value=100,\n",
    "  geometry=Polygon(\n",
    "    type='Polygon',\n",
    "    coordinates=[[]]\n",
    "  )\n",
    ")\n",
    "\n",
    "layer_property = LayerPropertyValue(\n",
    "  value=1,\n",
    "  zones=[zone_1]\n",
    ")\n",
    "\n",
    "layer_property.get_data()"
   ],
   "id": "6be5e311a7a36330",
   "outputs": [
    {
     "data": {
      "text/plain": [
       "[[1.0, 1.0, 1.0, 1.0, 1.0],\n",
       " [1.0, 100.0, 100.0, 100.0, 1.0],\n",
       " [1.0, 1.0, 1.0, 1.0, 1.0]]"
      ]
     },
     "execution_count": 3,
     "metadata": {},
     "output_type": "execute_result"
    }
   ],
   "execution_count": 3
  },
  {
   "metadata": {
    "ExecuteTime": {
     "end_time": "2024-04-22T20:39:57.527136Z",
     "start_time": "2024-04-22T20:39:57.524469Z"
    }
   },
   "cell_type": "code",
   "source": "",
   "id": "36b501d23b00baf6",
   "outputs": [],
   "execution_count": 3
  }
 ],
 "metadata": {
  "kernelspec": {
   "display_name": "Python 3",
   "language": "python",
   "name": "python3"
  },
  "language_info": {
   "codemirror_mode": {
    "name": "ipython",
    "version": 2
   },
   "file_extension": ".py",
   "mimetype": "text/x-python",
   "name": "python",
   "nbconvert_exporter": "python",
   "pygments_lexer": "ipython2",
   "version": "2.7.6"
  }
 },
 "nbformat": 4,
 "nbformat_minor": 5
}
