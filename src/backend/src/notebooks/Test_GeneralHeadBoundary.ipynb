{
 "cells": [
  {
   "cell_type": "code",
   "execution_count": 1,
   "id": "ba6761fae9d5e5cb",
   "metadata": {
    "ExecuteTime": {
     "end_time": "2024-08-19T10:11:44.305663Z",
     "start_time": "2024-08-19T10:11:44.300814Z"
    },
    "collapsed": false,
    "execution": {
     "iopub.execute_input": "2024-08-19T20:26:14.131288Z",
     "iopub.status.busy": "2024-08-19T20:26:14.131139Z",
     "iopub.status.idle": "2024-08-19T20:26:14.133533Z",
     "shell.execute_reply": "2024-08-19T20:26:14.133302Z"
    },
    "papermill": {
     "duration": 0.012636,
     "end_time": "2024-08-19T20:26:14.134449",
     "exception": false,
     "start_time": "2024-08-19T20:26:14.121813",
     "status": "completed"
    },
    "tags": []
   },
   "outputs": [],
   "source": [
    "import sys\n",
    "\n",
    "sys.path.insert(0, '..')"
   ]
  },
  {
   "cell_type": "markdown",
   "id": "5ede1ba5e0993dd1",
   "metadata": {
    "collapsed": false,
    "papermill": {
     "duration": 0.002083,
     "end_time": "2024-08-19T20:26:14.139094",
     "exception": false,
     "start_time": "2024-08-19T20:26:14.137011",
     "status": "completed"
    },
    "tags": []
   },
   "source": [
    "## Setup the model area"
   ]
  },
  {
   "cell_type": "code",
   "execution_count": 2,
   "id": "2f69504ab35487aa",
   "metadata": {
    "ExecuteTime": {
     "end_time": "2024-08-19T10:11:45.068573Z",
     "start_time": "2024-08-19T10:11:44.338509Z"
    },
    "collapsed": false,
    "execution": {
     "iopub.execute_input": "2024-08-19T20:26:14.143731Z",
     "iopub.status.busy": "2024-08-19T20:26:14.143582Z",
     "iopub.status.idle": "2024-08-19T20:26:14.324798Z",
     "shell.execute_reply": "2024-08-19T20:26:14.324026Z"
    },
    "papermill": {
     "duration": 0.18669,
     "end_time": "2024-08-19T20:26:14.327702",
     "exception": false,
     "start_time": "2024-08-19T20:26:14.141012",
     "status": "completed"
    },
    "tags": []
   },
   "outputs": [
    {
     "name": "stdout",
     "output_type": "stream",
     "text": [
      "[(0, 0)] [(99, 0)]\n",
      "[(0, 1)] [(99, 1)]\n",
      "[(0, 2)] [(99, 2)]\n",
      "[(0, 3)] [(99, 3)]\n",
      "[(0, 4)] [(99, 4)]\n",
      "[(0, 5)] [(99, 5)]\n",
      "[(0, 6)] [(99, 6)]\n",
      "[(0, 7)] [(99, 7)]\n",
      "[(0, 8)] [(99, 8)]\n",
      "[(0, 9)] [(99, 9)]\n",
      "[(0, 10)] [(99, 10)]\n",
      "[(0, 11)] [(99, 11)]\n",
      "[(0, 12)] [(99, 12)]\n",
      "[(0, 13)] [(99, 13)]\n",
      "[(0, 14)] [(99, 14)]\n",
      "[(0, 15)] [(99, 15)]\n",
      "[(0, 16)] [(99, 16)]\n",
      "[(0, 17)] [(99, 17)]\n",
      "[(0, 18)] [(99, 18)]\n",
      "[(0, 19)] [(99, 19)]\n",
      "[(0, 20)] [(99, 20)]\n",
      "[(0, 21)] [(99, 21)]\n",
      "[(0, 22)] [(99, 22)]\n",
      "[(0, 23)] [(99, 23)]\n",
      "[(0, 24)] [(99, 24)]\n",
      "[(0, 25)] [(99, 25)]\n",
      "[(0, 26)] [(99, 26)]\n",
      "[(0, 27)] [(99, 27)]\n",
      "[(0, 28)] [(99, 28)]\n",
      "[(0, 29)] [(99, 29)]\n",
      "[(0, 30)] [(99, 30)]\n",
      "[(0, 31)] [(99, 31)]\n",
      "[(0, 32)] [(99, 32)]\n",
      "[(0, 33)] [(99, 33)]\n",
      "[(0, 34)] [(99, 34)]\n",
      "[(0, 35)] [(99, 35)]\n",
      "[(0, 36)] [(99, 36)]\n",
      "[(0, 37)] [(99, 37)]\n",
      "[(0, 38)] [(99, 38)]\n",
      "[(0, 39)] [(99, 39)]\n",
      "[(0, 40)] [(99, 40)]\n",
      "[(0, 41)] [(99, 41)]\n",
      "[(0, 42)] [(99, 42)]\n",
      "[(0, 43)] [(99, 43)]\n",
      "[(0, 44)] [(99, 44)]\n",
      "[(0, 45)] [(99, 45)]\n",
      "[(0, 46)] [(99, 46)]\n",
      "[(0, 47)] [(99, 47)]\n",
      "[(0, 48)] [(99, 48)]\n",
      "[(0, 49)] [(99, 49)]\n"
     ]
    }
   ],
   "source": [
    "from morpheus.project.types.discretization import SpatialDiscretization\n",
    "from morpheus.project.types.discretization.spatial import Rotation, Grid, Crs\n",
    "from morpheus.project.types.geometry import Polygon, LineString\n",
    "\n",
    "polygon = Polygon(\n",
    "  type='Polygon',\n",
    "  coordinates=[[\n",
    "    (13.92, 50.964),\n",
    "    (13.92, 50.966),\n",
    "    (13.925, 50.966),\n",
    "    (13.925, 50.964),\n",
    "    (13.92, 50.964)\n",
    "  ]]\n",
    ")\n",
    "\n",
    "rotation = Rotation(0)\n",
    "\n",
    "grid = Grid.cartesian_from_polygon(polygon=polygon, n_cols=100, n_rows=50, rotation=rotation)\n",
    "spatial_discretization = SpatialDiscretization.from_geometry_with_grid(\n",
    "  geometry=polygon,\n",
    "  grid=grid,\n",
    "  crs=Crs.from_str('EPSG:4326')\n",
    ")"
   ]
  },
  {
   "cell_type": "markdown",
   "id": "fa27e67f9d801845",
   "metadata": {
    "collapsed": false,
    "papermill": {
     "duration": 0.007733,
     "end_time": "2024-08-19T20:26:14.342019",
     "exception": false,
     "start_time": "2024-08-19T20:26:14.334286",
     "status": "completed"
    },
    "tags": []
   },
   "source": [
    "## Setup Time Discretization"
   ]
  },
  {
   "cell_type": "code",
   "execution_count": 3,
   "id": "8e4e63dd138db9fc",
   "metadata": {
    "ExecuteTime": {
     "end_time": "2024-08-19T10:11:45.086081Z",
     "start_time": "2024-08-19T10:11:45.079709Z"
    },
    "collapsed": false,
    "execution": {
     "iopub.execute_input": "2024-08-19T20:26:14.359199Z",
     "iopub.status.busy": "2024-08-19T20:26:14.358594Z",
     "iopub.status.idle": "2024-08-19T20:26:14.368949Z",
     "shell.execute_reply": "2024-08-19T20:26:14.366468Z"
    },
    "papermill": {
     "duration": 0.02553,
     "end_time": "2024-08-19T20:26:14.371450",
     "exception": false,
     "start_time": "2024-08-19T20:26:14.345920",
     "status": "completed"
    },
    "tags": []
   },
   "outputs": [],
   "source": [
    "from morpheus.project.types.discretization.time.TimeUnit import TimeUnit\n",
    "from morpheus.project.types.discretization.time.Stressperiods import StartDateTime, StressPeriodCollection, \\\n",
    "  StressPeriod, NumberOfTimeSteps, TimeStepMultiplier, IsSteadyState\n",
    "from morpheus.project.types.discretization.time import TimeDiscretization\n",
    "from datetime import datetime\n",
    "\n",
    "time_discretization = TimeDiscretization(\n",
    "  start_date_time=StartDateTime.from_datetime(datetime(2020, 1, 1)),\n",
    "  end_date_time=StartDateTime.from_datetime(datetime(2020, 12, 31)),\n",
    "  stress_periods=StressPeriodCollection([\n",
    "    StressPeriod(\n",
    "      start_date_time=StartDateTime.from_datetime(datetime(2020, 1, 1)),\n",
    "      number_of_time_steps=NumberOfTimeSteps(1),\n",
    "      time_step_multiplier=TimeStepMultiplier(1),\n",
    "      steady_state=IsSteadyState.yes()\n",
    "    ),\n",
    "  ]),\n",
    "  time_unit=TimeUnit.days()\n",
    ")"
   ]
  },
  {
   "cell_type": "markdown",
   "id": "963ba8729f09fcec",
   "metadata": {
    "collapsed": false,
    "papermill": {
     "duration": 0.007538,
     "end_time": "2024-08-19T20:26:14.386233",
     "exception": false,
     "start_time": "2024-08-19T20:26:14.378695",
     "status": "completed"
    },
    "tags": []
   },
   "source": [
    "# Setup Model"
   ]
  },
  {
   "cell_type": "code",
   "execution_count": 4,
   "id": "1d5c9125b1b9360b",
   "metadata": {
    "ExecuteTime": {
     "end_time": "2024-08-19T10:11:45.735261Z",
     "start_time": "2024-08-19T10:11:45.087595Z"
    },
    "collapsed": false,
    "execution": {
     "iopub.execute_input": "2024-08-19T20:26:14.397164Z",
     "iopub.status.busy": "2024-08-19T20:26:14.396819Z",
     "iopub.status.idle": "2024-08-19T20:26:14.757218Z",
     "shell.execute_reply": "2024-08-19T20:26:14.756836Z"
    },
    "papermill": {
     "duration": 0.367387,
     "end_time": "2024-08-19T20:26:14.758433",
     "exception": false,
     "start_time": "2024-08-19T20:26:14.391046",
     "status": "completed"
    },
    "tags": []
   },
   "outputs": [],
   "source": [
    "from morpheus.project.types.Model import Model\n",
    "\n",
    "model = Model.new()\n",
    "model = model.with_updated_time_discretization(time_discretization)\n",
    "model = model.with_updated_spatial_discretization(spatial_discretization=spatial_discretization)"
   ]
  },
  {
   "cell_type": "code",
   "execution_count": 5,
   "id": "1540b870ae83f298",
   "metadata": {
    "ExecuteTime": {
     "end_time": "2024-08-19T10:11:45.956284Z",
     "start_time": "2024-08-19T10:11:45.738079Z"
    },
    "collapsed": false,
    "execution": {
     "iopub.execute_input": "2024-08-19T20:26:14.763643Z",
     "iopub.status.busy": "2024-08-19T20:26:14.763409Z",
     "iopub.status.idle": "2024-08-19T20:26:14.901239Z",
     "shell.execute_reply": "2024-08-19T20:26:14.900859Z"
    },
    "papermill": {
     "duration": 0.141609,
     "end_time": "2024-08-19T20:26:14.902378",
     "exception": false,
     "start_time": "2024-08-19T20:26:14.760769",
     "status": "completed"
    },
    "tags": []
   },
   "outputs": [
    {
     "data": {
      "text/html": [
       "<div style=\"width:100%;\"><div style=\"position:relative;width:100%;height:0;padding-bottom:60%;\"><span style=\"color:#565656\">Make this Notebook Trusted to load map: File -> Trust Notebook</span><iframe srcdoc=\"&lt;!DOCTYPE html&gt;\n",
       "&lt;html&gt;\n",
       "&lt;head&gt;\n",
       "    \n",
       "    &lt;meta http-equiv=&quot;content-type&quot; content=&quot;text/html; charset=UTF-8&quot; /&gt;\n",
       "    \n",
       "        &lt;script&gt;\n",
       "            L_NO_TOUCH = false;\n",
       "            L_DISABLE_3D = false;\n",
       "        &lt;/script&gt;\n",
       "    \n",
       "    &lt;style&gt;html, body {width: 100%;height: 100%;margin: 0;padding: 0;}&lt;/style&gt;\n",
       "    &lt;style&gt;#map {position:absolute;top:0;bottom:0;right:0;left:0;}&lt;/style&gt;\n",
       "    &lt;script src=&quot;https://cdn.jsdelivr.net/npm/leaflet@1.9.3/dist/leaflet.js&quot;&gt;&lt;/script&gt;\n",
       "    &lt;script src=&quot;https://code.jquery.com/jquery-3.7.1.min.js&quot;&gt;&lt;/script&gt;\n",
       "    &lt;script src=&quot;https://cdn.jsdelivr.net/npm/bootstrap@5.2.2/dist/js/bootstrap.bundle.min.js&quot;&gt;&lt;/script&gt;\n",
       "    &lt;script src=&quot;https://cdnjs.cloudflare.com/ajax/libs/Leaflet.awesome-markers/2.0.2/leaflet.awesome-markers.js&quot;&gt;&lt;/script&gt;\n",
       "    &lt;link rel=&quot;stylesheet&quot; href=&quot;https://cdn.jsdelivr.net/npm/leaflet@1.9.3/dist/leaflet.css&quot;/&gt;\n",
       "    &lt;link rel=&quot;stylesheet&quot; href=&quot;https://cdn.jsdelivr.net/npm/bootstrap@5.2.2/dist/css/bootstrap.min.css&quot;/&gt;\n",
       "    &lt;link rel=&quot;stylesheet&quot; href=&quot;https://netdna.bootstrapcdn.com/bootstrap/3.0.0/css/bootstrap.min.css&quot;/&gt;\n",
       "    &lt;link rel=&quot;stylesheet&quot; href=&quot;https://cdn.jsdelivr.net/npm/@fortawesome/fontawesome-free@6.2.0/css/all.min.css&quot;/&gt;\n",
       "    &lt;link rel=&quot;stylesheet&quot; href=&quot;https://cdnjs.cloudflare.com/ajax/libs/Leaflet.awesome-markers/2.0.2/leaflet.awesome-markers.css&quot;/&gt;\n",
       "    &lt;link rel=&quot;stylesheet&quot; href=&quot;https://cdn.jsdelivr.net/gh/python-visualization/folium/folium/templates/leaflet.awesome.rotate.min.css&quot;/&gt;\n",
       "    \n",
       "            &lt;meta name=&quot;viewport&quot; content=&quot;width=device-width,\n",
       "                initial-scale=1.0, maximum-scale=1.0, user-scalable=no&quot; /&gt;\n",
       "            &lt;style&gt;\n",
       "                #map_3763d5b71cc1284377226a6b08b0daf0 {\n",
       "                    position: relative;\n",
       "                    width: 100.0%;\n",
       "                    height: 100.0%;\n",
       "                    left: 0.0%;\n",
       "                    top: 0.0%;\n",
       "                }\n",
       "                .leaflet-container { font-size: 1rem; }\n",
       "            &lt;/style&gt;\n",
       "        \n",
       "&lt;/head&gt;\n",
       "&lt;body&gt;\n",
       "    \n",
       "    \n",
       "            &lt;div class=&quot;folium-map&quot; id=&quot;map_3763d5b71cc1284377226a6b08b0daf0&quot; &gt;&lt;/div&gt;\n",
       "        \n",
       "&lt;/body&gt;\n",
       "&lt;script&gt;\n",
       "    \n",
       "    \n",
       "            var map_3763d5b71cc1284377226a6b08b0daf0 = L.map(\n",
       "                &quot;map_3763d5b71cc1284377226a6b08b0daf0&quot;,\n",
       "                {\n",
       "                    center: [50.965, 13.922],\n",
       "                    crs: L.CRS.EPSG3857,\n",
       "                    zoom: 12,\n",
       "                    zoomControl: true,\n",
       "                    preferCanvas: false,\n",
       "                }\n",
       "            );\n",
       "\n",
       "            \n",
       "\n",
       "        \n",
       "    \n",
       "            var tile_layer_471bfc619db17a0041fa96a53d87a47e = L.tileLayer(\n",
       "                &quot;https://{s}.basemaps.cartocdn.com/light_all/{z}/{x}/{y}{r}.png&quot;,\n",
       "                {&quot;attribution&quot;: &quot;\\u0026copy; \\u003ca href=\\&quot;https://www.openstreetmap.org/copyright\\&quot;\\u003eOpenStreetMap\\u003c/a\\u003e contributors \\u0026copy; \\u003ca href=\\&quot;https://carto.com/attributions\\&quot;\\u003eCARTO\\u003c/a\\u003e&quot;, &quot;detectRetina&quot;: false, &quot;maxNativeZoom&quot;: 20, &quot;maxZoom&quot;: 20, &quot;minZoom&quot;: 0, &quot;noWrap&quot;: false, &quot;opacity&quot;: 1, &quot;subdomains&quot;: &quot;abcd&quot;, &quot;tms&quot;: false}\n",
       "            );\n",
       "        \n",
       "    \n",
       "            tile_layer_471bfc619db17a0041fa96a53d87a47e.addTo(map_3763d5b71cc1284377226a6b08b0daf0);\n",
       "        \n",
       "    \n",
       "\n",
       "        function geo_json_49b7b91db8457e91ee824469a7f4318a_onEachFeature(feature, layer) {\n",
       "            layer.on({\n",
       "            });\n",
       "        };\n",
       "        var geo_json_49b7b91db8457e91ee824469a7f4318a = L.geoJson(null, {\n",
       "                onEachFeature: geo_json_49b7b91db8457e91ee824469a7f4318a_onEachFeature,\n",
       "            \n",
       "        });\n",
       "\n",
       "        function geo_json_49b7b91db8457e91ee824469a7f4318a_add (data) {\n",
       "            geo_json_49b7b91db8457e91ee824469a7f4318a\n",
       "                .addData(data);\n",
       "        }\n",
       "            geo_json_49b7b91db8457e91ee824469a7f4318a_add({&quot;coordinates&quot;: [[[13.92, 50.964], [13.92, 50.966], [13.925, 50.966], [13.925, 50.964], [13.92, 50.964]]], &quot;type&quot;: &quot;Polygon&quot;});\n",
       "\n",
       "        \n",
       "    \n",
       "            geo_json_49b7b91db8457e91ee824469a7f4318a.addTo(map_3763d5b71cc1284377226a6b08b0daf0);\n",
       "        \n",
       "    \n",
       "            map_3763d5b71cc1284377226a6b08b0daf0.fitBounds(\n",
       "                [[50.964, 13.92], [50.966, 13.925]],\n",
       "                {}\n",
       "            );\n",
       "        \n",
       "&lt;/script&gt;\n",
       "&lt;/html&gt;\" style=\"position:absolute;width:100%;height:100%;left:0;top:0;border:none !important;\" allowfullscreen webkitallowfullscreen mozallowfullscreen></iframe></div></div>"
      ],
      "text/plain": [
       "<folium.folium.Map at 0x166208f50>"
      ]
     },
     "execution_count": 5,
     "metadata": {},
     "output_type": "execute_result"
    }
   ],
   "source": [
    "import folium\n",
    "\n",
    "m = folium.Map(tiles=\"cartodbpositron\", crs=\"EPSG3857\", zoom_start=12, location=[50.965, 13.922])\n",
    "m.add_child(folium.GeoJson(polygon.as_geojson()))\n",
    "\n",
    "m.fit_bounds(m.get_bounds())\n",
    "m"
   ]
  },
  {
   "cell_type": "markdown",
   "id": "62ae3587df801000",
   "metadata": {
    "collapsed": false,
    "papermill": {
     "duration": 0.002199,
     "end_time": "2024-08-19T20:26:14.907065",
     "exception": false,
     "start_time": "2024-08-19T20:26:14.904866",
     "status": "completed"
    },
    "tags": []
   },
   "source": [
    "# Setup constant head boundary with two observations"
   ]
  },
  {
   "cell_type": "code",
   "execution_count": 6,
   "id": "53679913aee28ce9",
   "metadata": {
    "ExecuteTime": {
     "end_time": "2024-08-19T10:11:46.877332Z",
     "start_time": "2024-08-19T10:11:45.956946Z"
    },
    "collapsed": false,
    "execution": {
     "iopub.execute_input": "2024-08-19T20:26:14.912249Z",
     "iopub.status.busy": "2024-08-19T20:26:14.912043Z",
     "iopub.status.idle": "2024-08-19T20:26:15.764199Z",
     "shell.execute_reply": "2024-08-19T20:26:15.763938Z"
    },
    "papermill": {
     "duration": 0.8559,
     "end_time": "2024-08-19T20:26:15.765061",
     "exception": false,
     "start_time": "2024-08-19T20:26:14.909161",
     "status": "completed"
    },
    "tags": []
   },
   "outputs": [
    {
     "data": {
      "text/html": [
       "<div style=\"width:100%;\"><div style=\"position:relative;width:100%;height:0;padding-bottom:60%;\"><span style=\"color:#565656\">Make this Notebook Trusted to load map: File -> Trust Notebook</span><iframe srcdoc=\"&lt;!DOCTYPE html&gt;\n",
       "&lt;html&gt;\n",
       "&lt;head&gt;\n",
       "    \n",
       "    &lt;meta http-equiv=&quot;content-type&quot; content=&quot;text/html; charset=UTF-8&quot; /&gt;\n",
       "    \n",
       "        &lt;script&gt;\n",
       "            L_NO_TOUCH = false;\n",
       "            L_DISABLE_3D = false;\n",
       "        &lt;/script&gt;\n",
       "    \n",
       "    &lt;style&gt;html, body {width: 100%;height: 100%;margin: 0;padding: 0;}&lt;/style&gt;\n",
       "    &lt;style&gt;#map {position:absolute;top:0;bottom:0;right:0;left:0;}&lt;/style&gt;\n",
       "    &lt;script src=&quot;https://cdn.jsdelivr.net/npm/leaflet@1.9.3/dist/leaflet.js&quot;&gt;&lt;/script&gt;\n",
       "    &lt;script src=&quot;https://code.jquery.com/jquery-3.7.1.min.js&quot;&gt;&lt;/script&gt;\n",
       "    &lt;script src=&quot;https://cdn.jsdelivr.net/npm/bootstrap@5.2.2/dist/js/bootstrap.bundle.min.js&quot;&gt;&lt;/script&gt;\n",
       "    &lt;script src=&quot;https://cdnjs.cloudflare.com/ajax/libs/Leaflet.awesome-markers/2.0.2/leaflet.awesome-markers.js&quot;&gt;&lt;/script&gt;\n",
       "    &lt;link rel=&quot;stylesheet&quot; href=&quot;https://cdn.jsdelivr.net/npm/leaflet@1.9.3/dist/leaflet.css&quot;/&gt;\n",
       "    &lt;link rel=&quot;stylesheet&quot; href=&quot;https://cdn.jsdelivr.net/npm/bootstrap@5.2.2/dist/css/bootstrap.min.css&quot;/&gt;\n",
       "    &lt;link rel=&quot;stylesheet&quot; href=&quot;https://netdna.bootstrapcdn.com/bootstrap/3.0.0/css/bootstrap.min.css&quot;/&gt;\n",
       "    &lt;link rel=&quot;stylesheet&quot; href=&quot;https://cdn.jsdelivr.net/npm/@fortawesome/fontawesome-free@6.2.0/css/all.min.css&quot;/&gt;\n",
       "    &lt;link rel=&quot;stylesheet&quot; href=&quot;https://cdnjs.cloudflare.com/ajax/libs/Leaflet.awesome-markers/2.0.2/leaflet.awesome-markers.css&quot;/&gt;\n",
       "    &lt;link rel=&quot;stylesheet&quot; href=&quot;https://cdn.jsdelivr.net/gh/python-visualization/folium/folium/templates/leaflet.awesome.rotate.min.css&quot;/&gt;\n",
       "    \n",
       "            &lt;meta name=&quot;viewport&quot; content=&quot;width=device-width,\n",
       "                initial-scale=1.0, maximum-scale=1.0, user-scalable=no&quot; /&gt;\n",
       "            &lt;style&gt;\n",
       "                #map_3763d5b71cc1284377226a6b08b0daf0 {\n",
       "                    position: relative;\n",
       "                    width: 100.0%;\n",
       "                    height: 100.0%;\n",
       "                    left: 0.0%;\n",
       "                    top: 0.0%;\n",
       "                }\n",
       "                .leaflet-container { font-size: 1rem; }\n",
       "            &lt;/style&gt;\n",
       "        \n",
       "&lt;/head&gt;\n",
       "&lt;body&gt;\n",
       "    \n",
       "    \n",
       "            &lt;div class=&quot;folium-map&quot; id=&quot;map_3763d5b71cc1284377226a6b08b0daf0&quot; &gt;&lt;/div&gt;\n",
       "        \n",
       "&lt;/body&gt;\n",
       "&lt;script&gt;\n",
       "    \n",
       "    \n",
       "            var map_3763d5b71cc1284377226a6b08b0daf0 = L.map(\n",
       "                &quot;map_3763d5b71cc1284377226a6b08b0daf0&quot;,\n",
       "                {\n",
       "                    center: [50.965, 13.922],\n",
       "                    crs: L.CRS.EPSG3857,\n",
       "                    zoom: 12,\n",
       "                    zoomControl: true,\n",
       "                    preferCanvas: false,\n",
       "                }\n",
       "            );\n",
       "\n",
       "            \n",
       "\n",
       "        \n",
       "    \n",
       "            var tile_layer_471bfc619db17a0041fa96a53d87a47e = L.tileLayer(\n",
       "                &quot;https://{s}.basemaps.cartocdn.com/light_all/{z}/{x}/{y}{r}.png&quot;,\n",
       "                {&quot;attribution&quot;: &quot;\\u0026copy; \\u003ca href=\\&quot;https://www.openstreetmap.org/copyright\\&quot;\\u003eOpenStreetMap\\u003c/a\\u003e contributors \\u0026copy; \\u003ca href=\\&quot;https://carto.com/attributions\\&quot;\\u003eCARTO\\u003c/a\\u003e&quot;, &quot;detectRetina&quot;: false, &quot;maxNativeZoom&quot;: 20, &quot;maxZoom&quot;: 20, &quot;minZoom&quot;: 0, &quot;noWrap&quot;: false, &quot;opacity&quot;: 1, &quot;subdomains&quot;: &quot;abcd&quot;, &quot;tms&quot;: false}\n",
       "            );\n",
       "        \n",
       "    \n",
       "            tile_layer_471bfc619db17a0041fa96a53d87a47e.addTo(map_3763d5b71cc1284377226a6b08b0daf0);\n",
       "        \n",
       "    \n",
       "\n",
       "        function geo_json_49b7b91db8457e91ee824469a7f4318a_onEachFeature(feature, layer) {\n",
       "            layer.on({\n",
       "            });\n",
       "        };\n",
       "        var geo_json_49b7b91db8457e91ee824469a7f4318a = L.geoJson(null, {\n",
       "                onEachFeature: geo_json_49b7b91db8457e91ee824469a7f4318a_onEachFeature,\n",
       "            \n",
       "        });\n",
       "\n",
       "        function geo_json_49b7b91db8457e91ee824469a7f4318a_add (data) {\n",
       "            geo_json_49b7b91db8457e91ee824469a7f4318a\n",
       "                .addData(data);\n",
       "        }\n",
       "            geo_json_49b7b91db8457e91ee824469a7f4318a_add({&quot;coordinates&quot;: [[[13.92, 50.964], [13.92, 50.966], [13.925, 50.966], [13.925, 50.964], [13.92, 50.964]]], &quot;type&quot;: &quot;Polygon&quot;});\n",
       "\n",
       "        \n",
       "    \n",
       "            geo_json_49b7b91db8457e91ee824469a7f4318a.addTo(map_3763d5b71cc1284377226a6b08b0daf0);\n",
       "        \n",
       "    \n",
       "            map_3763d5b71cc1284377226a6b08b0daf0.fitBounds(\n",
       "                [[50.964, 13.92], [50.966, 13.925]],\n",
       "                {}\n",
       "            );\n",
       "        \n",
       "    \n",
       "            tile_layer_471bfc619db17a0041fa96a53d87a47e.addTo(map_3763d5b71cc1284377226a6b08b0daf0);\n",
       "        \n",
       "    \n",
       "            geo_json_49b7b91db8457e91ee824469a7f4318a.addTo(map_3763d5b71cc1284377226a6b08b0daf0);\n",
       "        \n",
       "    \n",
       "\n",
       "        function geo_json_e93a800e6b53ec9b0376cfa62b0b0ffb_onEachFeature(feature, layer) {\n",
       "            layer.on({\n",
       "            });\n",
       "        };\n",
       "        var geo_json_e93a800e6b53ec9b0376cfa62b0b0ffb = L.geoJson(null, {\n",
       "                onEachFeature: geo_json_e93a800e6b53ec9b0376cfa62b0b0ffb_onEachFeature,\n",
       "            \n",
       "        });\n",
       "\n",
       "        function geo_json_e93a800e6b53ec9b0376cfa62b0b0ffb_add (data) {\n",
       "            geo_json_e93a800e6b53ec9b0376cfa62b0b0ffb\n",
       "                .addData(data);\n",
       "        }\n",
       "            geo_json_e93a800e6b53ec9b0376cfa62b0b0ffb_add({&quot;coordinates&quot;: [[13.92499, 50.966], [13.92499, 50.964]], &quot;type&quot;: &quot;LineString&quot;});\n",
       "\n",
       "        \n",
       "    \n",
       "            geo_json_e93a800e6b53ec9b0376cfa62b0b0ffb.addTo(map_3763d5b71cc1284377226a6b08b0daf0);\n",
       "        \n",
       "    \n",
       "\n",
       "        function geo_json_0011838066f7fcb7f4ef74ced8f76264_onEachFeature(feature, layer) {\n",
       "            layer.on({\n",
       "            });\n",
       "        };\n",
       "        var geo_json_0011838066f7fcb7f4ef74ced8f76264 = L.geoJson(null, {\n",
       "                onEachFeature: geo_json_0011838066f7fcb7f4ef74ced8f76264_onEachFeature,\n",
       "            \n",
       "        });\n",
       "\n",
       "        function geo_json_0011838066f7fcb7f4ef74ced8f76264_add (data) {\n",
       "            geo_json_0011838066f7fcb7f4ef74ced8f76264\n",
       "                .addData(data);\n",
       "        }\n",
       "            geo_json_0011838066f7fcb7f4ef74ced8f76264_add({&quot;geometries&quot;: [{&quot;coordinates&quot;: [[[13.92495, 50.965999999999994], [13.925000000000002, 50.965999999999994], [13.925000000000002, 50.965960000843815], [13.92495, 50.965960000843815], [13.92495, 50.965999999999994]]], &quot;type&quot;: &quot;Polygon&quot;}, {&quot;coordinates&quot;: [[[13.92495, 50.965960000843815], [13.925000000000002, 50.965960000843815], [13.925000000000002, 50.965920001653195], [13.92495, 50.965920001653195], [13.92495, 50.965960000843815]]], &quot;type&quot;: &quot;Polygon&quot;}, {&quot;coordinates&quot;: [[[13.92495, 50.965920001653195], [13.925000000000002, 50.965920001653195], [13.925000000000002, 50.965880002428136], [13.92495, 50.965880002428136], [13.92495, 50.965920001653195]]], &quot;type&quot;: &quot;Polygon&quot;}, {&quot;coordinates&quot;: [[[13.92495, 50.965880002428136], [13.925000000000002, 50.965880002428136], [13.925000000000002, 50.96584000316863], [13.92495, 50.96584000316863], [13.92495, 50.965880002428136]]], &quot;type&quot;: &quot;Polygon&quot;}, {&quot;coordinates&quot;: [[[13.92495, 50.96584000316863], [13.925000000000002, 50.96584000316863], [13.925000000000002, 50.96580000387468], [13.92495, 50.96580000387468], [13.92495, 50.96584000316863]]], &quot;type&quot;: &quot;Polygon&quot;}, {&quot;coordinates&quot;: [[[13.92495, 50.96580000387468], [13.925000000000002, 50.96580000387468], [13.925000000000002, 50.965760004546304], [13.92495, 50.965760004546304], [13.92495, 50.96580000387468]]], &quot;type&quot;: &quot;Polygon&quot;}, {&quot;coordinates&quot;: [[[13.92495, 50.965760004546304], [13.925000000000002, 50.965760004546304], [13.925000000000002, 50.96572000518347], [13.92495, 50.96572000518347], [13.92495, 50.965760004546304]]], &quot;type&quot;: &quot;Polygon&quot;}, {&quot;coordinates&quot;: [[[13.92495, 50.96572000518347], [13.925000000000002, 50.96572000518347], [13.925000000000002, 50.9656800057862], [13.92495, 50.9656800057862], [13.92495, 50.96572000518347]]], &quot;type&quot;: &quot;Polygon&quot;}, {&quot;coordinates&quot;: [[[13.92495, 50.9656800057862], [13.925000000000002, 50.9656800057862], [13.925000000000002, 50.9656400063545], [13.92495, 50.9656400063545], [13.92495, 50.9656800057862]]], &quot;type&quot;: &quot;Polygon&quot;}, {&quot;coordinates&quot;: [[[13.92495, 50.9656400063545], [13.925000000000002, 50.9656400063545], [13.925000000000002, 50.965600006888344], [13.92495, 50.965600006888344], [13.92495, 50.9656400063545]]], &quot;type&quot;: &quot;Polygon&quot;}, {&quot;coordinates&quot;: [[[13.92495, 50.965600006888344], [13.925000000000002, 50.965600006888344], [13.925000000000002, 50.965560007387744], [13.92495, 50.965560007387744], [13.92495, 50.965600006888344]]], &quot;type&quot;: &quot;Polygon&quot;}, {&quot;coordinates&quot;: [[[13.92495, 50.965560007387744], [13.925000000000002, 50.965560007387744], [13.925000000000002, 50.96552000785271], [13.92495, 50.96552000785271], [13.92495, 50.965560007387744]]], &quot;type&quot;: &quot;Polygon&quot;}, {&quot;coordinates&quot;: [[[13.92495, 50.96552000785271], [13.925000000000002, 50.96552000785271], [13.925000000000002, 50.96548000828324], [13.92495, 50.96548000828324], [13.92495, 50.96552000785271]]], &quot;type&quot;: &quot;Polygon&quot;}, {&quot;coordinates&quot;: [[[13.92495, 50.96548000828324], [13.925000000000002, 50.96548000828324], [13.925000000000002, 50.965440008679316], [13.92495, 50.965440008679316], [13.92495, 50.96548000828324]]], &quot;type&quot;: &quot;Polygon&quot;}, {&quot;coordinates&quot;: [[[13.92495, 50.965440008679316], [13.925000000000002, 50.965440008679316], [13.925000000000002, 50.965400009040955], [13.92495, 50.965400009040955], [13.92495, 50.965440008679316]]], &quot;type&quot;: &quot;Polygon&quot;}, {&quot;coordinates&quot;: [[[13.92495, 50.965400009040955], [13.925000000000002, 50.965400009040955], [13.925000000000002, 50.965360009368155], [13.92495, 50.965360009368155], [13.92495, 50.965400009040955]]], &quot;type&quot;: &quot;Polygon&quot;}, {&quot;coordinates&quot;: [[[13.92495, 50.965360009368155], [13.925000000000002, 50.965360009368155], [13.925000000000002, 50.96532000966091], [13.92495, 50.96532000966091], [13.92495, 50.965360009368155]]], &quot;type&quot;: &quot;Polygon&quot;}, {&quot;coordinates&quot;: [[[13.92495, 50.96532000966091], [13.925000000000002, 50.96532000966091], [13.925000000000002, 50.965280009919226], [13.92495, 50.965280009919226], [13.92495, 50.96532000966091]]], &quot;type&quot;: &quot;Polygon&quot;}, {&quot;coordinates&quot;: [[[13.92495, 50.965280009919226], [13.925000000000002, 50.965280009919226], [13.925000000000002, 50.96524001014309], [13.92495, 50.96524001014309], [13.92495, 50.965280009919226]]], &quot;type&quot;: &quot;Polygon&quot;}, {&quot;coordinates&quot;: [[[13.92495, 50.96524001014309], [13.925000000000002, 50.96524001014309], [13.925000000000002, 50.96520001033253], [13.92495, 50.96520001033253], [13.92495, 50.96524001014309]]], &quot;type&quot;: &quot;Polygon&quot;}, {&quot;coordinates&quot;: [[[13.92495, 50.96520001033253], [13.925000000000002, 50.96520001033253], [13.925000000000002, 50.965160010487516], [13.92495, 50.965160010487516], [13.92495, 50.96520001033253]]], &quot;type&quot;: &quot;Polygon&quot;}, {&quot;coordinates&quot;: [[[13.92495, 50.965160010487516], [13.925000000000002, 50.965160010487516], [13.925000000000002, 50.96512001060807], [13.92495, 50.96512001060807], [13.92495, 50.965160010487516]]], &quot;type&quot;: &quot;Polygon&quot;}, {&quot;coordinates&quot;: [[[13.92495, 50.96512001060807], [13.925000000000002, 50.96512001060807], [13.925000000000002, 50.96508001069417], [13.92495, 50.96508001069417], [13.92495, 50.96512001060807]]], &quot;type&quot;: &quot;Polygon&quot;}, {&quot;coordinates&quot;: [[[13.92495, 50.96508001069417], [13.925000000000002, 50.96508001069417], [13.925000000000002, 50.96504001074583], [13.92495, 50.96504001074583], [13.92495, 50.96508001069417]]], &quot;type&quot;: &quot;Polygon&quot;}, {&quot;coordinates&quot;: [[[13.92495, 50.96504001074583], [13.925000000000002, 50.96504001074583], [13.925000000000002, 50.96500001076305], [13.92495, 50.96500001076305], [13.92495, 50.96504001074583]]], &quot;type&quot;: &quot;Polygon&quot;}, {&quot;coordinates&quot;: [[[13.92495, 50.96500001076305], [13.925000000000002, 50.96500001076305], [13.925000000000002, 50.964960010745834], [13.92495, 50.964960010745834], [13.92495, 50.96500001076305]]], &quot;type&quot;: &quot;Polygon&quot;}, {&quot;coordinates&quot;: [[[13.92495, 50.964960010745834], [13.925000000000002, 50.964960010745834], [13.925000000000002, 50.96492001069418], [13.92495, 50.96492001069418], [13.92495, 50.964960010745834]]], &quot;type&quot;: &quot;Polygon&quot;}, {&quot;coordinates&quot;: [[[13.92495, 50.96492001069418], [13.925000000000002, 50.96492001069418], [13.925000000000002, 50.96488001060807], [13.92495, 50.96488001060807], [13.92495, 50.96492001069418]]], &quot;type&quot;: &quot;Polygon&quot;}, {&quot;coordinates&quot;: [[[13.92495, 50.96488001060807], [13.925000000000002, 50.96488001060807], [13.925000000000002, 50.96484001048752], [13.92495, 50.96484001048752], [13.92495, 50.96488001060807]]], &quot;type&quot;: &quot;Polygon&quot;}, {&quot;coordinates&quot;: [[[13.92495, 50.96484001048752], [13.925000000000002, 50.96484001048752], [13.925000000000002, 50.964800010332546], [13.92495, 50.964800010332546], [13.92495, 50.96484001048752]]], &quot;type&quot;: &quot;Polygon&quot;}, {&quot;coordinates&quot;: [[[13.92495, 50.964800010332546], [13.925000000000002, 50.964800010332546], [13.925000000000002, 50.96476001014311], [13.92495, 50.96476001014311], [13.92495, 50.964800010332546]]], &quot;type&quot;: &quot;Polygon&quot;}, {&quot;coordinates&quot;: [[[13.92495, 50.96476001014311], [13.925000000000002, 50.96476001014311], [13.925000000000002, 50.96472000991924], [13.92495, 50.96472000991924], [13.92495, 50.96476001014311]]], &quot;type&quot;: &quot;Polygon&quot;}, {&quot;coordinates&quot;: [[[13.92495, 50.96472000991924], [13.925000000000002, 50.96472000991924], [13.925000000000002, 50.964680009660924], [13.92495, 50.964680009660924], [13.92495, 50.96472000991924]]], &quot;type&quot;: &quot;Polygon&quot;}, {&quot;coordinates&quot;: [[[13.92495, 50.964680009660924], [13.925000000000002, 50.964680009660924], [13.925000000000002, 50.96464000936817], [13.92495, 50.96464000936817], [13.92495, 50.964680009660924]]], &quot;type&quot;: &quot;Polygon&quot;}, {&quot;coordinates&quot;: [[[13.92495, 50.96464000936817], [13.925000000000002, 50.96464000936817], [13.925000000000002, 50.96460000904097], [13.92495, 50.96460000904097], [13.92495, 50.96464000936817]]], &quot;type&quot;: &quot;Polygon&quot;}, {&quot;coordinates&quot;: [[[13.92495, 50.96460000904097], [13.925000000000002, 50.96460000904097], [13.925000000000002, 50.96456000867934], [13.92495, 50.96456000867934], [13.92495, 50.96460000904097]]], &quot;type&quot;: &quot;Polygon&quot;}, {&quot;coordinates&quot;: [[[13.92495, 50.96456000867934], [13.925000000000002, 50.96456000867934], [13.925000000000002, 50.96452000828325], [13.92495, 50.96452000828325], [13.92495, 50.96456000867934]]], &quot;type&quot;: &quot;Polygon&quot;}, {&quot;coordinates&quot;: [[[13.92495, 50.96452000828325], [13.925000000000002, 50.96452000828325], [13.925000000000002, 50.964480007852735], [13.92495, 50.964480007852735], [13.92495, 50.96452000828325]]], &quot;type&quot;: &quot;Polygon&quot;}, {&quot;coordinates&quot;: [[[13.92495, 50.964480007852735], [13.925000000000002, 50.964480007852735], [13.925000000000002, 50.96444000738777], [13.92495, 50.96444000738777], [13.92495, 50.964480007852735]]], &quot;type&quot;: &quot;Polygon&quot;}, {&quot;coordinates&quot;: [[[13.92495, 50.96444000738777], [13.925000000000002, 50.96444000738777], [13.925000000000002, 50.96440000688836], [13.92495, 50.96440000688836], [13.92495, 50.96444000738777]]], &quot;type&quot;: &quot;Polygon&quot;}, {&quot;coordinates&quot;: [[[13.92495, 50.96440000688836], [13.925000000000002, 50.96440000688836], [13.925000000000002, 50.96436000635452], [13.92495, 50.96436000635452], [13.92495, 50.96440000688836]]], &quot;type&quot;: &quot;Polygon&quot;}, {&quot;coordinates&quot;: [[[13.92495, 50.96436000635452], [13.925000000000002, 50.96436000635452], [13.925000000000002, 50.96432000578623], [13.92495, 50.96432000578623], [13.92495, 50.96436000635452]]], &quot;type&quot;: &quot;Polygon&quot;}, {&quot;coordinates&quot;: [[[13.92495, 50.96432000578623], [13.925000000000002, 50.96432000578623], [13.925000000000002, 50.9642800051835], [13.92495, 50.9642800051835], [13.92495, 50.96432000578623]]], &quot;type&quot;: &quot;Polygon&quot;}, {&quot;coordinates&quot;: [[[13.92495, 50.9642800051835], [13.925000000000002, 50.9642800051835], [13.925000000000002, 50.96424000454632], [13.92495, 50.96424000454632], [13.92495, 50.9642800051835]]], &quot;type&quot;: &quot;Polygon&quot;}, {&quot;coordinates&quot;: [[[13.92495, 50.96424000454632], [13.925000000000002, 50.96424000454632], [13.925000000000002, 50.96420000387471], [13.92495, 50.96420000387471], [13.92495, 50.96424000454632]]], &quot;type&quot;: &quot;Polygon&quot;}, {&quot;coordinates&quot;: [[[13.92495, 50.96420000387471], [13.925000000000002, 50.96420000387471], [13.925000000000002, 50.964160003168644], [13.92495, 50.964160003168644], [13.92495, 50.96420000387471]]], &quot;type&quot;: &quot;Polygon&quot;}, {&quot;coordinates&quot;: [[[13.92495, 50.964160003168644], [13.925000000000002, 50.964160003168644], [13.925000000000002, 50.964120002428146], [13.92495, 50.964120002428146], [13.92495, 50.964160003168644]]], &quot;type&quot;: &quot;Polygon&quot;}, {&quot;coordinates&quot;: [[[13.92495, 50.964120002428146], [13.925000000000002, 50.964120002428146], [13.925000000000002, 50.96408000165321], [13.92495, 50.96408000165321], [13.92495, 50.964120002428146]]], &quot;type&quot;: &quot;Polygon&quot;}, {&quot;coordinates&quot;: [[[13.92495, 50.96408000165321], [13.925000000000002, 50.96408000165321], [13.925000000000002, 50.964040000843816], [13.92495, 50.964040000843816], [13.92495, 50.96408000165321]]], &quot;type&quot;: &quot;Polygon&quot;}, {&quot;coordinates&quot;: [[[13.92495, 50.964040000843816], [13.925000000000002, 50.964040000843816], [13.925000000000002, 50.96399999999999], [13.92495, 50.96399999999999], [13.92495, 50.964040000843816]]], &quot;type&quot;: &quot;Polygon&quot;}], &quot;type&quot;: &quot;GeometryCollection&quot;});\n",
       "\n",
       "        \n",
       "    \n",
       "            geo_json_0011838066f7fcb7f4ef74ced8f76264.addTo(map_3763d5b71cc1284377226a6b08b0daf0);\n",
       "        \n",
       "    \n",
       "\n",
       "        function geo_json_06a8ad76dde8720136c183cf89501019_onEachFeature(feature, layer) {\n",
       "            layer.on({\n",
       "            });\n",
       "        };\n",
       "        var geo_json_06a8ad76dde8720136c183cf89501019 = L.geoJson(null, {\n",
       "                onEachFeature: geo_json_06a8ad76dde8720136c183cf89501019_onEachFeature,\n",
       "            \n",
       "        });\n",
       "\n",
       "        function geo_json_06a8ad76dde8720136c183cf89501019_add (data) {\n",
       "            geo_json_06a8ad76dde8720136c183cf89501019\n",
       "                .addData(data);\n",
       "        }\n",
       "            geo_json_06a8ad76dde8720136c183cf89501019_add({&quot;coordinates&quot;: [13.92499, 50.966], &quot;type&quot;: &quot;Point&quot;});\n",
       "\n",
       "        \n",
       "    \n",
       "            geo_json_06a8ad76dde8720136c183cf89501019.addTo(map_3763d5b71cc1284377226a6b08b0daf0);\n",
       "        \n",
       "    \n",
       "\n",
       "        function geo_json_23c36cd2a4f106b0cb572392de5d1267_onEachFeature(feature, layer) {\n",
       "            layer.on({\n",
       "            });\n",
       "        };\n",
       "        var geo_json_23c36cd2a4f106b0cb572392de5d1267 = L.geoJson(null, {\n",
       "                onEachFeature: geo_json_23c36cd2a4f106b0cb572392de5d1267_onEachFeature,\n",
       "            \n",
       "        });\n",
       "\n",
       "        function geo_json_23c36cd2a4f106b0cb572392de5d1267_add (data) {\n",
       "            geo_json_23c36cd2a4f106b0cb572392de5d1267\n",
       "                .addData(data);\n",
       "        }\n",
       "            geo_json_23c36cd2a4f106b0cb572392de5d1267_add({&quot;coordinates&quot;: [13.92499, 50.964], &quot;type&quot;: &quot;Point&quot;});\n",
       "\n",
       "        \n",
       "    \n",
       "            geo_json_23c36cd2a4f106b0cb572392de5d1267.addTo(map_3763d5b71cc1284377226a6b08b0daf0);\n",
       "        \n",
       "    \n",
       "\n",
       "        function geo_json_d546849f7f45e7dc8a26cb26dd52a682_onEachFeature(feature, layer) {\n",
       "            layer.on({\n",
       "            });\n",
       "        };\n",
       "        var geo_json_d546849f7f45e7dc8a26cb26dd52a682 = L.geoJson(null, {\n",
       "                onEachFeature: geo_json_d546849f7f45e7dc8a26cb26dd52a682_onEachFeature,\n",
       "            \n",
       "        });\n",
       "\n",
       "        function geo_json_d546849f7f45e7dc8a26cb26dd52a682_add (data) {\n",
       "            geo_json_d546849f7f45e7dc8a26cb26dd52a682\n",
       "                .addData(data);\n",
       "        }\n",
       "            geo_json_d546849f7f45e7dc8a26cb26dd52a682_add({&quot;coordinates&quot;: [[13.92004, 50.96401], [13.92004, 50.96599]], &quot;type&quot;: &quot;LineString&quot;});\n",
       "\n",
       "        \n",
       "    \n",
       "            geo_json_d546849f7f45e7dc8a26cb26dd52a682.addTo(map_3763d5b71cc1284377226a6b08b0daf0);\n",
       "        \n",
       "    \n",
       "\n",
       "        function geo_json_9d030ffe1d8e0860b0b423e3789e782a_onEachFeature(feature, layer) {\n",
       "            layer.on({\n",
       "            });\n",
       "        };\n",
       "        var geo_json_9d030ffe1d8e0860b0b423e3789e782a = L.geoJson(null, {\n",
       "                onEachFeature: geo_json_9d030ffe1d8e0860b0b423e3789e782a_onEachFeature,\n",
       "            \n",
       "        });\n",
       "\n",
       "        function geo_json_9d030ffe1d8e0860b0b423e3789e782a_add (data) {\n",
       "            geo_json_9d030ffe1d8e0860b0b423e3789e782a\n",
       "                .addData(data);\n",
       "        }\n",
       "            geo_json_9d030ffe1d8e0860b0b423e3789e782a_add({&quot;geometries&quot;: [{&quot;coordinates&quot;: [[[13.920000000000002, 50.965999999999994], [13.920050000000002, 50.965999999999994], [13.920050000000002, 50.965960000843815], [13.920000000000002, 50.965960000843815], [13.920000000000002, 50.965999999999994]]], &quot;type&quot;: &quot;Polygon&quot;}, {&quot;coordinates&quot;: [[[13.920000000000002, 50.965960000843815], [13.920050000000002, 50.965960000843815], [13.920050000000002, 50.965920001653195], [13.920000000000002, 50.965920001653195], [13.920000000000002, 50.965960000843815]]], &quot;type&quot;: &quot;Polygon&quot;}, {&quot;coordinates&quot;: [[[13.920000000000002, 50.965920001653195], [13.920050000000002, 50.965920001653195], [13.920050000000002, 50.965880002428136], [13.920000000000002, 50.965880002428136], [13.920000000000002, 50.965920001653195]]], &quot;type&quot;: &quot;Polygon&quot;}, {&quot;coordinates&quot;: [[[13.920000000000002, 50.965880002428136], [13.920050000000002, 50.965880002428136], [13.920050000000002, 50.96584000316863], [13.920000000000002, 50.96584000316863], [13.920000000000002, 50.965880002428136]]], &quot;type&quot;: &quot;Polygon&quot;}, {&quot;coordinates&quot;: [[[13.920000000000002, 50.96584000316863], [13.920050000000002, 50.96584000316863], [13.920050000000002, 50.96580000387468], [13.920000000000002, 50.96580000387468], [13.920000000000002, 50.96584000316863]]], &quot;type&quot;: &quot;Polygon&quot;}, {&quot;coordinates&quot;: [[[13.920000000000002, 50.96580000387468], [13.920050000000002, 50.96580000387468], [13.920050000000002, 50.965760004546304], [13.920000000000002, 50.965760004546304], [13.920000000000002, 50.96580000387468]]], &quot;type&quot;: &quot;Polygon&quot;}, {&quot;coordinates&quot;: [[[13.920000000000002, 50.965760004546304], [13.920050000000002, 50.965760004546304], [13.920050000000002, 50.96572000518347], [13.920000000000002, 50.96572000518347], [13.920000000000002, 50.965760004546304]]], &quot;type&quot;: &quot;Polygon&quot;}, {&quot;coordinates&quot;: [[[13.920000000000002, 50.96572000518347], [13.920050000000002, 50.96572000518347], [13.920050000000002, 50.9656800057862], [13.920000000000002, 50.9656800057862], [13.920000000000002, 50.96572000518347]]], &quot;type&quot;: &quot;Polygon&quot;}, {&quot;coordinates&quot;: [[[13.920000000000002, 50.9656800057862], [13.920050000000002, 50.9656800057862], [13.920050000000002, 50.9656400063545], [13.920000000000002, 50.9656400063545], [13.920000000000002, 50.9656800057862]]], &quot;type&quot;: &quot;Polygon&quot;}, {&quot;coordinates&quot;: [[[13.920000000000002, 50.9656400063545], [13.920050000000002, 50.9656400063545], [13.920050000000002, 50.965600006888344], [13.920000000000002, 50.965600006888344], [13.920000000000002, 50.9656400063545]]], &quot;type&quot;: &quot;Polygon&quot;}, {&quot;coordinates&quot;: [[[13.920000000000002, 50.965600006888344], [13.920050000000002, 50.965600006888344], [13.920050000000002, 50.965560007387744], [13.920000000000002, 50.965560007387744], [13.920000000000002, 50.965600006888344]]], &quot;type&quot;: &quot;Polygon&quot;}, {&quot;coordinates&quot;: [[[13.920000000000002, 50.965560007387744], [13.920050000000002, 50.965560007387744], [13.920050000000002, 50.96552000785271], [13.920000000000002, 50.96552000785271], [13.920000000000002, 50.965560007387744]]], &quot;type&quot;: &quot;Polygon&quot;}, {&quot;coordinates&quot;: [[[13.920000000000002, 50.96552000785271], [13.920050000000002, 50.96552000785271], [13.920050000000002, 50.96548000828324], [13.920000000000002, 50.96548000828324], [13.920000000000002, 50.96552000785271]]], &quot;type&quot;: &quot;Polygon&quot;}, {&quot;coordinates&quot;: [[[13.920000000000002, 50.96548000828324], [13.920050000000002, 50.96548000828324], [13.920050000000002, 50.965440008679316], [13.920000000000002, 50.965440008679316], [13.920000000000002, 50.96548000828324]]], &quot;type&quot;: &quot;Polygon&quot;}, {&quot;coordinates&quot;: [[[13.920000000000002, 50.965440008679316], [13.920050000000002, 50.965440008679316], [13.920050000000002, 50.965400009040955], [13.920000000000002, 50.965400009040955], [13.920000000000002, 50.965440008679316]]], &quot;type&quot;: &quot;Polygon&quot;}, {&quot;coordinates&quot;: [[[13.920000000000002, 50.965400009040955], [13.920050000000002, 50.965400009040955], [13.920050000000002, 50.965360009368155], [13.920000000000002, 50.965360009368155], [13.920000000000002, 50.965400009040955]]], &quot;type&quot;: &quot;Polygon&quot;}, {&quot;coordinates&quot;: [[[13.920000000000002, 50.965360009368155], [13.920050000000002, 50.965360009368155], [13.920050000000002, 50.96532000966091], [13.920000000000002, 50.96532000966091], [13.920000000000002, 50.965360009368155]]], &quot;type&quot;: &quot;Polygon&quot;}, {&quot;coordinates&quot;: [[[13.920000000000002, 50.96532000966091], [13.920050000000002, 50.96532000966091], [13.920050000000002, 50.965280009919226], [13.920000000000002, 50.965280009919226], [13.920000000000002, 50.96532000966091]]], &quot;type&quot;: &quot;Polygon&quot;}, {&quot;coordinates&quot;: [[[13.920000000000002, 50.965280009919226], [13.920050000000002, 50.965280009919226], [13.920050000000002, 50.96524001014309], [13.920000000000002, 50.96524001014309], [13.920000000000002, 50.965280009919226]]], &quot;type&quot;: &quot;Polygon&quot;}, {&quot;coordinates&quot;: [[[13.920000000000002, 50.96524001014309], [13.920050000000002, 50.96524001014309], [13.920050000000002, 50.96520001033253], [13.920000000000002, 50.96520001033253], [13.920000000000002, 50.96524001014309]]], &quot;type&quot;: &quot;Polygon&quot;}, {&quot;coordinates&quot;: [[[13.920000000000002, 50.96520001033253], [13.920050000000002, 50.96520001033253], [13.920050000000002, 50.965160010487516], [13.920000000000002, 50.965160010487516], [13.920000000000002, 50.96520001033253]]], &quot;type&quot;: &quot;Polygon&quot;}, {&quot;coordinates&quot;: [[[13.920000000000002, 50.965160010487516], [13.920050000000002, 50.965160010487516], [13.920050000000002, 50.96512001060807], [13.920000000000002, 50.96512001060807], [13.920000000000002, 50.965160010487516]]], &quot;type&quot;: &quot;Polygon&quot;}, {&quot;coordinates&quot;: [[[13.920000000000002, 50.96512001060807], [13.920050000000002, 50.96512001060807], [13.920050000000002, 50.96508001069417], [13.920000000000002, 50.96508001069417], [13.920000000000002, 50.96512001060807]]], &quot;type&quot;: &quot;Polygon&quot;}, {&quot;coordinates&quot;: [[[13.920000000000002, 50.96508001069417], [13.920050000000002, 50.96508001069417], [13.920050000000002, 50.96504001074583], [13.920000000000002, 50.96504001074583], [13.920000000000002, 50.96508001069417]]], &quot;type&quot;: &quot;Polygon&quot;}, {&quot;coordinates&quot;: [[[13.920000000000002, 50.96504001074583], [13.920050000000002, 50.96504001074583], [13.920050000000002, 50.96500001076305], [13.920000000000002, 50.96500001076305], [13.920000000000002, 50.96504001074583]]], &quot;type&quot;: &quot;Polygon&quot;}, {&quot;coordinates&quot;: [[[13.920000000000002, 50.96500001076305], [13.920050000000002, 50.96500001076305], [13.920050000000002, 50.964960010745834], [13.920000000000002, 50.964960010745834], [13.920000000000002, 50.96500001076305]]], &quot;type&quot;: &quot;Polygon&quot;}, {&quot;coordinates&quot;: [[[13.920000000000002, 50.964960010745834], [13.920050000000002, 50.964960010745834], [13.920050000000002, 50.96492001069418], [13.920000000000002, 50.96492001069418], [13.920000000000002, 50.964960010745834]]], &quot;type&quot;: &quot;Polygon&quot;}, {&quot;coordinates&quot;: [[[13.920000000000002, 50.96492001069418], [13.920050000000002, 50.96492001069418], [13.920050000000002, 50.96488001060807], [13.920000000000002, 50.96488001060807], [13.920000000000002, 50.96492001069418]]], &quot;type&quot;: &quot;Polygon&quot;}, {&quot;coordinates&quot;: [[[13.920000000000002, 50.96488001060807], [13.920050000000002, 50.96488001060807], [13.920050000000002, 50.96484001048752], [13.920000000000002, 50.96484001048752], [13.920000000000002, 50.96488001060807]]], &quot;type&quot;: &quot;Polygon&quot;}, {&quot;coordinates&quot;: [[[13.920000000000002, 50.96484001048752], [13.920050000000002, 50.96484001048752], [13.920050000000002, 50.964800010332546], [13.920000000000002, 50.964800010332546], [13.920000000000002, 50.96484001048752]]], &quot;type&quot;: &quot;Polygon&quot;}, {&quot;coordinates&quot;: [[[13.920000000000002, 50.964800010332546], [13.920050000000002, 50.964800010332546], [13.920050000000002, 50.96476001014311], [13.920000000000002, 50.96476001014311], [13.920000000000002, 50.964800010332546]]], &quot;type&quot;: &quot;Polygon&quot;}, {&quot;coordinates&quot;: [[[13.920000000000002, 50.96476001014311], [13.920050000000002, 50.96476001014311], [13.920050000000002, 50.96472000991924], [13.920000000000002, 50.96472000991924], [13.920000000000002, 50.96476001014311]]], &quot;type&quot;: &quot;Polygon&quot;}, {&quot;coordinates&quot;: [[[13.920000000000002, 50.96472000991924], [13.920050000000002, 50.96472000991924], [13.920050000000002, 50.964680009660924], [13.920000000000002, 50.964680009660924], [13.920000000000002, 50.96472000991924]]], &quot;type&quot;: &quot;Polygon&quot;}, {&quot;coordinates&quot;: [[[13.920000000000002, 50.964680009660924], [13.920050000000002, 50.964680009660924], [13.920050000000002, 50.96464000936817], [13.920000000000002, 50.96464000936817], [13.920000000000002, 50.964680009660924]]], &quot;type&quot;: &quot;Polygon&quot;}, {&quot;coordinates&quot;: [[[13.920000000000002, 50.96464000936817], [13.920050000000002, 50.96464000936817], [13.920050000000002, 50.96460000904097], [13.920000000000002, 50.96460000904097], [13.920000000000002, 50.96464000936817]]], &quot;type&quot;: &quot;Polygon&quot;}, {&quot;coordinates&quot;: [[[13.920000000000002, 50.96460000904097], [13.920050000000002, 50.96460000904097], [13.920050000000002, 50.96456000867934], [13.920000000000002, 50.96456000867934], [13.920000000000002, 50.96460000904097]]], &quot;type&quot;: &quot;Polygon&quot;}, {&quot;coordinates&quot;: [[[13.920000000000002, 50.96456000867934], [13.920050000000002, 50.96456000867934], [13.920050000000002, 50.96452000828325], [13.920000000000002, 50.96452000828325], [13.920000000000002, 50.96456000867934]]], &quot;type&quot;: &quot;Polygon&quot;}, {&quot;coordinates&quot;: [[[13.920000000000002, 50.96452000828325], [13.920050000000002, 50.96452000828325], [13.920050000000002, 50.964480007852735], [13.920000000000002, 50.964480007852735], [13.920000000000002, 50.96452000828325]]], &quot;type&quot;: &quot;Polygon&quot;}, {&quot;coordinates&quot;: [[[13.920000000000002, 50.964480007852735], [13.920050000000002, 50.964480007852735], [13.920050000000002, 50.96444000738777], [13.920000000000002, 50.96444000738777], [13.920000000000002, 50.964480007852735]]], &quot;type&quot;: &quot;Polygon&quot;}, {&quot;coordinates&quot;: [[[13.920000000000002, 50.96444000738777], [13.920050000000002, 50.96444000738777], [13.920050000000002, 50.96440000688836], [13.920000000000002, 50.96440000688836], [13.920000000000002, 50.96444000738777]]], &quot;type&quot;: &quot;Polygon&quot;}, {&quot;coordinates&quot;: [[[13.920000000000002, 50.96440000688836], [13.920050000000002, 50.96440000688836], [13.920050000000002, 50.96436000635452], [13.920000000000002, 50.96436000635452], [13.920000000000002, 50.96440000688836]]], &quot;type&quot;: &quot;Polygon&quot;}, {&quot;coordinates&quot;: [[[13.920000000000002, 50.96436000635452], [13.920050000000002, 50.96436000635452], [13.920050000000002, 50.96432000578623], [13.920000000000002, 50.96432000578623], [13.920000000000002, 50.96436000635452]]], &quot;type&quot;: &quot;Polygon&quot;}, {&quot;coordinates&quot;: [[[13.920000000000002, 50.96432000578623], [13.920050000000002, 50.96432000578623], [13.920050000000002, 50.9642800051835], [13.920000000000002, 50.9642800051835], [13.920000000000002, 50.96432000578623]]], &quot;type&quot;: &quot;Polygon&quot;}, {&quot;coordinates&quot;: [[[13.920000000000002, 50.9642800051835], [13.920050000000002, 50.9642800051835], [13.920050000000002, 50.96424000454632], [13.920000000000002, 50.96424000454632], [13.920000000000002, 50.9642800051835]]], &quot;type&quot;: &quot;Polygon&quot;}, {&quot;coordinates&quot;: [[[13.920000000000002, 50.96424000454632], [13.920050000000002, 50.96424000454632], [13.920050000000002, 50.96420000387471], [13.920000000000002, 50.96420000387471], [13.920000000000002, 50.96424000454632]]], &quot;type&quot;: &quot;Polygon&quot;}, {&quot;coordinates&quot;: [[[13.920000000000002, 50.96420000387471], [13.920050000000002, 50.96420000387471], [13.920050000000002, 50.964160003168644], [13.920000000000002, 50.964160003168644], [13.920000000000002, 50.96420000387471]]], &quot;type&quot;: &quot;Polygon&quot;}, {&quot;coordinates&quot;: [[[13.920000000000002, 50.964160003168644], [13.920050000000002, 50.964160003168644], [13.920050000000002, 50.964120002428146], [13.920000000000002, 50.964120002428146], [13.920000000000002, 50.964160003168644]]], &quot;type&quot;: &quot;Polygon&quot;}, {&quot;coordinates&quot;: [[[13.920000000000002, 50.964120002428146], [13.920050000000002, 50.964120002428146], [13.920050000000002, 50.96408000165321], [13.920000000000002, 50.96408000165321], [13.920000000000002, 50.964120002428146]]], &quot;type&quot;: &quot;Polygon&quot;}, {&quot;coordinates&quot;: [[[13.920000000000002, 50.96408000165321], [13.920050000000002, 50.96408000165321], [13.920050000000002, 50.964040000843816], [13.920000000000002, 50.964040000843816], [13.920000000000002, 50.96408000165321]]], &quot;type&quot;: &quot;Polygon&quot;}, {&quot;coordinates&quot;: [[[13.920000000000002, 50.964040000843816], [13.920050000000002, 50.964040000843816], [13.920050000000002, 50.96399999999999], [13.920000000000002, 50.96399999999999], [13.920000000000002, 50.964040000843816]]], &quot;type&quot;: &quot;Polygon&quot;}], &quot;type&quot;: &quot;GeometryCollection&quot;});\n",
       "\n",
       "        \n",
       "    \n",
       "            geo_json_9d030ffe1d8e0860b0b423e3789e782a.addTo(map_3763d5b71cc1284377226a6b08b0daf0);\n",
       "        \n",
       "    \n",
       "\n",
       "        function geo_json_422c389c2afa6c1742490824e114bb1b_onEachFeature(feature, layer) {\n",
       "            layer.on({\n",
       "            });\n",
       "        };\n",
       "        var geo_json_422c389c2afa6c1742490824e114bb1b = L.geoJson(null, {\n",
       "                onEachFeature: geo_json_422c389c2afa6c1742490824e114bb1b_onEachFeature,\n",
       "            \n",
       "        });\n",
       "\n",
       "        function geo_json_422c389c2afa6c1742490824e114bb1b_add (data) {\n",
       "            geo_json_422c389c2afa6c1742490824e114bb1b\n",
       "                .addData(data);\n",
       "        }\n",
       "            geo_json_422c389c2afa6c1742490824e114bb1b_add({&quot;coordinates&quot;: [13.92004, 50.96599], &quot;type&quot;: &quot;Point&quot;});\n",
       "\n",
       "        \n",
       "    \n",
       "            geo_json_422c389c2afa6c1742490824e114bb1b.addTo(map_3763d5b71cc1284377226a6b08b0daf0);\n",
       "        \n",
       "    \n",
       "\n",
       "        function geo_json_b778f393791e86992dc73a1560675435_onEachFeature(feature, layer) {\n",
       "            layer.on({\n",
       "            });\n",
       "        };\n",
       "        var geo_json_b778f393791e86992dc73a1560675435 = L.geoJson(null, {\n",
       "                onEachFeature: geo_json_b778f393791e86992dc73a1560675435_onEachFeature,\n",
       "            \n",
       "        });\n",
       "\n",
       "        function geo_json_b778f393791e86992dc73a1560675435_add (data) {\n",
       "            geo_json_b778f393791e86992dc73a1560675435\n",
       "                .addData(data);\n",
       "        }\n",
       "            geo_json_b778f393791e86992dc73a1560675435_add({&quot;coordinates&quot;: [13.92004, 50.96401], &quot;type&quot;: &quot;Point&quot;});\n",
       "\n",
       "        \n",
       "    \n",
       "            geo_json_b778f393791e86992dc73a1560675435.addTo(map_3763d5b71cc1284377226a6b08b0daf0);\n",
       "        \n",
       "    \n",
       "            map_3763d5b71cc1284377226a6b08b0daf0.fitBounds(\n",
       "                [[50.964, 13.92], [50.966, 13.925000000000002]],\n",
       "                {}\n",
       "            );\n",
       "        \n",
       "&lt;/script&gt;\n",
       "&lt;/html&gt;\" style=\"position:absolute;width:100%;height:100%;left:0;top:0;border:none !important;\" allowfullscreen webkitallowfullscreen mozallowfullscreen></iframe></div></div>"
      ],
      "text/plain": [
       "<folium.folium.Map at 0x166208f50>"
      ]
     },
     "execution_count": 6,
     "metadata": {},
     "output_type": "execute_result"
    }
   ],
   "source": [
    "from morpheus.project.types.boundaries.Observation import ObservationName\n",
    "from morpheus.project.types.boundaries.GeneralHeadObservation import ObservationId, GeneralHeadRawDataItem, \\\n",
    "  GeneralHeadObservation, Stage, Conductance\n",
    "from morpheus.project.types.geometry import Point\n",
    "from morpheus.project.types.boundaries.Boundary import BoundaryName, BoundaryCollection\n",
    "from morpheus.project.types.layers import LayerId\n",
    "from morpheus.project.types.boundaries.Boundary import GeneralHeadBoundary\n",
    "\n",
    "layers_list = [LayerId.new()]\n",
    "\n",
    "general_head_east = GeneralHeadBoundary.from_geometry(\n",
    "  name=BoundaryName('general_head_east'),\n",
    "  geometry=LineString([\n",
    "    (13.92499, 50.966),\n",
    "    (13.92499, 50.964),\n",
    "  ]),\n",
    "  grid=grid,\n",
    "  affected_layers=[model.layers[0].layer_id],\n",
    "  observations=[\n",
    "    GeneralHeadObservation(\n",
    "      observation_id=ObservationId.new(),\n",
    "      observation_name=ObservationName.default(),\n",
    "      geometry=Point((13.92499, 50.966)),\n",
    "      data=[\n",
    "        GeneralHeadRawDataItem(\n",
    "          date_time=StartDateTime.from_datetime(datetime(2019, 1, 1)),\n",
    "          stage=Stage.from_float(100),\n",
    "          conductance=Conductance.from_float(100),\n",
    "        ),\n",
    "        GeneralHeadRawDataItem(\n",
    "          date_time=StartDateTime.from_datetime(datetime(2021, 12, 31)),\n",
    "          stage=Stage.from_float(100),\n",
    "          conductance=Conductance.from_float(100),\n",
    "        ),\n",
    "      ]\n",
    "    ),\n",
    "    GeneralHeadObservation(\n",
    "      observation_id=ObservationId.new(),\n",
    "      observation_name=ObservationName.default(),\n",
    "      geometry=Point((13.92499, 50.964)),\n",
    "      data=[\n",
    "        GeneralHeadRawDataItem(\n",
    "          date_time=StartDateTime.from_datetime(datetime(2019, 1, 1)),\n",
    "          stage=Stage.from_float(200),\n",
    "          conductance=Conductance.from_float(200),\n",
    "        ),\n",
    "        GeneralHeadRawDataItem(\n",
    "          date_time=StartDateTime.from_datetime(datetime(2021, 12, 31)),\n",
    "          stage=Stage.from_float(200),\n",
    "          conductance=Conductance.from_float(200),\n",
    "        ),\n",
    "      ]\n",
    "    ),\n",
    "  ]\n",
    ")\n",
    "\n",
    "general_head_west = GeneralHeadBoundary.from_geometry(\n",
    "  name=BoundaryName('general_head_west'),\n",
    "  geometry=LineString([\n",
    "    (13.92004, 50.96401),\n",
    "    (13.92004, 50.96599),\n",
    "  ]),\n",
    "  grid=grid,\n",
    "  affected_layers=[model.layers[0].layer_id],\n",
    "  observations=[\n",
    "    GeneralHeadObservation(\n",
    "      observation_id=ObservationId.new(),\n",
    "      observation_name=ObservationName.default(),\n",
    "      geometry=Point((13.92004, 50.96599)),\n",
    "      data=[\n",
    "        GeneralHeadRawDataItem(\n",
    "          date_time=StartDateTime.from_datetime(datetime(2019, 1, 1)),\n",
    "          stage=Stage.from_float(300),\n",
    "          conductance=Conductance.from_float(300),\n",
    "        ),\n",
    "        GeneralHeadRawDataItem(\n",
    "          date_time=StartDateTime.from_datetime(datetime(2021, 12, 31)),\n",
    "          stage=Stage.from_float(300),\n",
    "          conductance=Conductance.from_float(300),\n",
    "        ),\n",
    "      ]\n",
    "    ),\n",
    "    GeneralHeadObservation(\n",
    "      observation_id=ObservationId.new(),\n",
    "      observation_name=ObservationName.default(),\n",
    "      geometry=Point((13.92004, 50.96401)),\n",
    "      data=[\n",
    "        GeneralHeadRawDataItem(\n",
    "          date_time=StartDateTime.from_datetime(datetime(2019, 1, 1)),\n",
    "          stage=Stage.from_float(400),\n",
    "          conductance=Conductance.from_float(400),\n",
    "        ),\n",
    "        GeneralHeadRawDataItem(\n",
    "          date_time=StartDateTime.from_datetime(datetime(2021, 12, 31)),\n",
    "          stage=Stage.from_float(400),\n",
    "          conductance=Conductance.from_float(400),\n",
    "        ),\n",
    "      ]\n",
    "    ),\n",
    "  ]\n",
    ")\n",
    "\n",
    "boundary_collection = BoundaryCollection.new()\n",
    "boundary_collection.add_boundary(general_head_west)\n",
    "boundary_collection.add_boundary(general_head_east)\n",
    "\n",
    "model = model.with_updated_boundaries(boundaries=boundary_collection)\n",
    "\n",
    "m.add_child(folium.GeoJson(general_head_east.as_geojson()))\n",
    "m.add_child(folium.GeoJson(general_head_east.affected_cells.to_geojson(grid).as_geojson()))\n",
    "for observation in general_head_east.observations:\n",
    "  m.add_child(folium.GeoJson(observation.as_geojson()))\n",
    "\n",
    "m.add_child(folium.GeoJson(general_head_west.as_geojson()))\n",
    "m.add_child(folium.GeoJson(general_head_west.affected_cells.to_geojson(grid).as_geojson()))\n",
    "for observation in general_head_west.observations:\n",
    "  m.add_child(folium.GeoJson(observation.as_geojson()))\n",
    "m.fit_bounds(m.get_bounds())\n",
    "m"
   ]
  },
  {
   "cell_type": "code",
   "execution_count": 7,
   "id": "25b4324c4d166cd7",
   "metadata": {
    "ExecuteTime": {
     "end_time": "2024-08-19T10:11:46.881128Z",
     "start_time": "2024-08-19T10:11:46.878188Z"
    },
    "collapsed": false,
    "execution": {
     "iopub.execute_input": "2024-08-19T20:26:15.770845Z",
     "iopub.status.busy": "2024-08-19T20:26:15.770709Z",
     "iopub.status.idle": "2024-08-19T20:26:15.772979Z",
     "shell.execute_reply": "2024-08-19T20:26:15.772725Z"
    },
    "papermill": {
     "duration": 0.00611,
     "end_time": "2024-08-19T20:26:15.773788",
     "exception": false,
     "start_time": "2024-08-19T20:26:15.767678",
     "status": "completed"
    },
    "tags": []
   },
   "outputs": [
    {
     "data": {
      "text/plain": [
       "[GeneralHeadObservation(observation_id=ObservationId(value='1f429e91-30ee-4061-b78b-e954d3978993'), observation_name=ObservationName(value='Observation Point 1'), geometry=Point(coordinates=(13.92499, 50.966), type='Point'), data=[GeneralHeadRawDataItem(date_time=StartDateTime(value=datetime.datetime(2019, 1, 1, 0, 0, tzinfo=datetime.timezone.utc)), stage=Stage(value=100), conductance=Conductance(value=100)), GeneralHeadRawDataItem(date_time=StartDateTime(value=datetime.datetime(2021, 12, 31, 0, 0, tzinfo=datetime.timezone.utc)), stage=Stage(value=100), conductance=Conductance(value=100))]),\n",
       " GeneralHeadObservation(observation_id=ObservationId(value='a1216033-4bea-4eda-86b0-d8d735826cda'), observation_name=ObservationName(value='Observation Point 1'), geometry=Point(coordinates=(13.92499, 50.964), type='Point'), data=[GeneralHeadRawDataItem(date_time=StartDateTime(value=datetime.datetime(2019, 1, 1, 0, 0, tzinfo=datetime.timezone.utc)), stage=Stage(value=200), conductance=Conductance(value=200)), GeneralHeadRawDataItem(date_time=StartDateTime(value=datetime.datetime(2021, 12, 31, 0, 0, tzinfo=datetime.timezone.utc)), stage=Stage(value=200), conductance=Conductance(value=200))])]"
      ]
     },
     "execution_count": 7,
     "metadata": {},
     "output_type": "execute_result"
    }
   ],
   "source": [
    "general_head_east.observations"
   ]
  },
  {
   "cell_type": "code",
   "execution_count": 8,
   "id": "dc338472e1887a13",
   "metadata": {
    "ExecuteTime": {
     "end_time": "2024-08-19T10:11:47.447176Z",
     "start_time": "2024-08-19T10:11:46.882400Z"
    },
    "collapsed": false,
    "execution": {
     "iopub.execute_input": "2024-08-19T20:26:15.779335Z",
     "iopub.status.busy": "2024-08-19T20:26:15.779194Z",
     "iopub.status.idle": "2024-08-19T20:26:16.264908Z",
     "shell.execute_reply": "2024-08-19T20:26:16.264659Z"
    },
    "papermill": {
     "duration": 0.489371,
     "end_time": "2024-08-19T20:26:16.265751",
     "exception": false,
     "start_time": "2024-08-19T20:26:15.776380",
     "status": "completed"
    },
    "tags": []
   },
   "outputs": [
    {
     "data": {
      "text/plain": [
       "{0: [[0, 0, 0, 300.5050289789967, 300.5050289789967],\n",
       "  [0, 1, 0, 302.5251892522284, 302.5251892522284],\n",
       "  [0, 2, 0, 304.54535126413674, 304.54535126413674],\n",
       "  [0, 3, 0, 306.5655150157982, 306.5655150157982],\n",
       "  [0, 4, 0, 308.5856805068539, 308.5856805068539],\n",
       "  [0, 5, 0, 310.60584773730386, 310.60584773730386],\n",
       "  [0, 6, 0, 312.62601670750695, 312.62601670750695],\n",
       "  [0, 7, 0, 314.6461874167454, 314.6461874167454],\n",
       "  [0, 8, 0, 316.66635986573704, 316.66635986573704],\n",
       "  [0, 9, 0, 318.68653405412294, 318.68653405412294],\n",
       "  [0, 10, 0, 320.70670998226194, 320.70670998226194],\n",
       "  [0, 11, 0, 322.72688764979523, 322.72688764979523],\n",
       "  [0, 12, 0, 324.7470670563639, 324.7470670563639],\n",
       "  [0, 13, 0, 326.7672482030445, 326.7672482030445],\n",
       "  [0, 14, 0, 328.7874310884017, 328.7874310884017],\n",
       "  [0, 15, 0, 330.80761571422977, 330.80761571422977],\n",
       "  [0, 16, 0, 332.8278020790932, 332.8278020790932],\n",
       "  [0, 17, 0, 334.847990182992, 334.847990182992],\n",
       "  [0, 18, 0, 336.8681800270029, 336.8681800270029],\n",
       "  [0, 19, 0, 338.88837161040794, 338.88837161040794],\n",
       "  [0, 20, 0, 340.90856493284844, 340.90856493284844],\n",
       "  [0, 21, 0, 342.9287599954009, 342.9287599954009],\n",
       "  [0, 22, 0, 344.9489567969888, 344.9489567969888],\n",
       "  [0, 23, 0, 346.9691553383298, 346.9691553383298],\n",
       "  [0, 24, 0, 348.9893556187062, 348.9893556187062],\n",
       "  [0, 25, 0, 351.0095576388357, 351.0095576388357],\n",
       "  [0, 26, 0, 353.0297613983595, 353.0297613983595],\n",
       "  [0, 27, 0, 355.0499668976364, 355.0499668976364],\n",
       "  [0, 28, 0, 357.07017413630757, 357.07017413630757],\n",
       "  [0, 29, 0, 359.090383114373, 359.090383114373],\n",
       "  [0, 30, 0, 361.1105938318327, 361.1105938318327],\n",
       "  [0, 31, 0, 363.1308062890455, 363.1308062890455],\n",
       "  [0, 32, 0, 365.1510204856526, 365.1510204856526],\n",
       "  [0, 33, 0, 367.17123642165393, 367.17123642165393],\n",
       "  [0, 34, 0, 369.1914540970496, 369.1914540970496],\n",
       "  [0, 35, 0, 371.2116735118394, 371.2116735118394],\n",
       "  [0, 36, 0, 373.23189466638246, 373.23189466638246],\n",
       "  [0, 37, 0, 375.2521175603197, 375.2521175603197],\n",
       "  [0, 38, 0, 377.27234219401004, 377.27234219401004],\n",
       "  [0, 39, 0, 379.29256856745354, 379.29256856745354],\n",
       "  [0, 40, 0, 381.31279667957364, 381.31279667957364],\n",
       "  [0, 41, 0, 383.33302653144676, 383.33302653144676],\n",
       "  [0, 42, 0, 385.35325812271424, 385.35325812271424],\n",
       "  [0, 43, 0, 387.3734914540936, 387.3734914540936],\n",
       "  [0, 44, 0, 389.39372652450845, 389.39372652450845],\n",
       "  [0, 45, 0, 391.4139633343175, 391.4139633343175],\n",
       "  [0, 46, 0, 393.4342018838797, 393.4342018838797],\n",
       "  [0, 47, 0, 395.45444217247734, 395.45444217247734],\n",
       "  [0, 48, 0, 397.4746842011869, 397.4746842011869],\n",
       "  [0, 49, 0, 399.4949279689319, 399.4949279689319]]}"
      ]
     },
     "execution_count": 8,
     "metadata": {},
     "output_type": "execute_result"
    }
   ],
   "source": [
    "from morpheus.project.infrastructure.calculation.engines.modflow_2005.packages.GhbPackageMapper import \\\n",
    "  calculate_ghb_boundary_stress_period_data\n",
    "\n",
    "result = calculate_ghb_boundary_stress_period_data(\n",
    "  spatial_discretization=spatial_discretization,\n",
    "  time_discretization=time_discretization,\n",
    "  layers=model.layers,\n",
    "  ghb_boundary=general_head_west,\n",
    ")\n",
    "result.to_dict()"
   ]
  },
  {
   "cell_type": "code",
   "execution_count": 9,
   "id": "e7d13f116125151c",
   "metadata": {
    "ExecuteTime": {
     "end_time": "2024-08-19T10:11:47.596224Z",
     "start_time": "2024-08-19T10:11:47.447891Z"
    },
    "collapsed": false,
    "execution": {
     "iopub.execute_input": "2024-08-19T20:26:16.271548Z",
     "iopub.status.busy": "2024-08-19T20:26:16.271378Z",
     "iopub.status.idle": "2024-08-19T20:26:16.477273Z",
     "shell.execute_reply": "2024-08-19T20:26:16.476978Z"
    },
    "papermill": {
     "duration": 0.209729,
     "end_time": "2024-08-19T20:26:16.478175",
     "exception": false,
     "start_time": "2024-08-19T20:26:16.268446",
     "status": "completed"
    },
    "tags": []
   },
   "outputs": [
    {
     "data": {
      "text/plain": [
       "{0: [[0, 0, 99, 100.99997868936319, 100.99997868936319],\n",
       "  [0, 1, 99, 102.99993735985626, 102.99993735985626],\n",
       "  [0, 2, 99, 104.99989775163911, 104.99989775163911],\n",
       "  [0, 3, 99, 106.99985986577755, 106.99985986577755],\n",
       "  [0, 4, 99, 108.99982370191631, 108.99982370191631],\n",
       "  [0, 5, 99, 110.9997892600554, 110.9997892600554],\n",
       "  [0, 6, 99, 112.99975654055007, 112.99975654055007],\n",
       "  [0, 7, 99, 114.99972554268979, 114.99972554268979],\n",
       "  [0, 8, 99, 116.9996962671851, 116.9996962671851],\n",
       "  [0, 9, 99, 118.99966871368073, 118.99966871368073],\n",
       "  [0, 10, 99, 120.99964288253196, 120.99964288253196],\n",
       "  [0, 11, 99, 122.9996187733835, 122.9996187733835],\n",
       "  [0, 12, 99, 124.9995963858801, 124.9995963858801],\n",
       "  [0, 13, 99, 126.99957572108755, 126.99957572108755],\n",
       "  [0, 14, 99, 128.9995567775848, 128.9995567775848],\n",
       "  [0, 15, 99, 130.99953955714815, 130.99953955714815],\n",
       "  [0, 16, 99, 132.99952405835657, 132.99952405835657],\n",
       "  [0, 17, 99, 134.99951028121004, 134.99951028121004],\n",
       "  [0, 18, 99, 136.99949822677436, 136.99949822677436],\n",
       "  [0, 19, 99, 138.999487894339, 138.999487894339],\n",
       "  [0, 20, 99, 140.9994792835487, 140.9994792835487],\n",
       "  [0, 21, 99, 142.99947239546927, 142.99947239546927],\n",
       "  [0, 22, 99, 144.99946722903488, 144.99946722903488],\n",
       "  [0, 23, 99, 146.99946378495608, 146.99946378495608],\n",
       "  [0, 24, 99, 148.99946206252233, 148.99946206252233],\n",
       "  [0, 25, 99, 150.99946206244417, 150.99946206244417],\n",
       "  [0, 26, 99, 152.99946378436633, 152.99946378436633],\n",
       "  [0, 27, 99, 154.99946722864408, 154.99946722864408],\n",
       "  [0, 28, 99, 156.99947239492215, 156.99947239492215],\n",
       "  [0, 29, 99, 158.99947928320054, 158.99947928320054],\n",
       "  [0, 30, 99, 160.99948789347926, 160.99948789347926],\n",
       "  [0, 31, 99, 162.99949822611356, 162.99949822611356],\n",
       "  [0, 32, 99, 164.99951028074815, 164.99951028074815],\n",
       "  [0, 33, 99, 166.99952405738313, 166.99952405738313],\n",
       "  [0, 34, 99, 168.9995395560184, 168.9995395560184],\n",
       "  [0, 35, 99, 170.99955677665398, 170.99955677665398],\n",
       "  [0, 36, 99, 172.99957571964515, 172.99957571964515],\n",
       "  [0, 37, 99, 174.99959638463665, 174.99959638463665],\n",
       "  [0, 38, 99, 176.9996187719837, 176.9996187719837],\n",
       "  [0, 39, 99, 178.9996428816864, 178.9996428816864],\n",
       "  [0, 40, 99, 180.99966871267887, 180.99966871267887],\n",
       "  [0, 41, 99, 182.99969626602692, 182.99969626602692],\n",
       "  [0, 42, 99, 184.9997255413753, 184.9997255413753],\n",
       "  [0, 43, 99, 186.99975653943451, 186.99975653943451],\n",
       "  [0, 44, 99, 188.9997892591388, 188.9997892591388],\n",
       "  [0, 45, 99, 190.9998237008434, 190.9998237008434],\n",
       "  [0, 46, 99, 192.99985986490358, 192.99985986490358],\n",
       "  [0, 47, 99, 194.99989775060882, 194.99989775060882],\n",
       "  [0, 48, 99, 196.99993735902493, 196.99993735902493],\n",
       "  [0, 49, 99, 198.99997868908608, 198.99997868908608]]}"
      ]
     },
     "execution_count": 9,
     "metadata": {},
     "output_type": "execute_result"
    }
   ],
   "source": [
    "from morpheus.project.infrastructure.calculation.engines.modflow_2005.packages.GhbPackageMapper import \\\n",
    "  calculate_ghb_boundary_stress_period_data\n",
    "\n",
    "result = calculate_ghb_boundary_stress_period_data(\n",
    "  spatial_discretization=spatial_discretization,\n",
    "  time_discretization=time_discretization,\n",
    "  layers=model.layers,\n",
    "  ghb_boundary=general_head_east,\n",
    ")\n",
    "result.to_dict()"
   ]
  },
  {
   "cell_type": "markdown",
   "id": "42d948d145a8457a",
   "metadata": {
    "collapsed": false,
    "papermill": {
     "duration": 0.002395,
     "end_time": "2024-08-19T20:26:16.483307",
     "exception": false,
     "start_time": "2024-08-19T20:26:16.480912",
     "status": "completed"
    },
    "tags": []
   },
   "source": [
    "## Calculate"
   ]
  },
  {
   "cell_type": "code",
   "execution_count": 10,
   "id": "56ccabee86e2397e",
   "metadata": {
    "ExecuteTime": {
     "end_time": "2024-08-19T10:11:48.253161Z",
     "start_time": "2024-08-19T10:11:47.596873Z"
    },
    "collapsed": false,
    "execution": {
     "iopub.execute_input": "2024-08-19T20:26:16.488513Z",
     "iopub.status.busy": "2024-08-19T20:26:16.488397Z",
     "iopub.status.idle": "2024-08-19T20:26:17.148880Z",
     "shell.execute_reply": "2024-08-19T20:26:17.148595Z"
    },
    "papermill": {
     "duration": 0.664176,
     "end_time": "2024-08-19T20:26:17.149788",
     "exception": false,
     "start_time": "2024-08-19T20:26:16.485612",
     "status": "completed"
    },
    "tags": []
   },
   "outputs": [
    {
     "data": {
      "text/plain": [
       "['type,package,k,i,j,value,desc']"
      ]
     },
     "execution_count": 10,
     "metadata": {},
     "output_type": "execute_result"
    }
   ],
   "source": [
    "from morpheus.project.infrastructure.calculation.engines.base.CalculationEngineFactory import CalculationEngineFactory\n",
    "from morpheus.project.types.calculation.CalculationProfile import CalculationProfile, CalculationEngineType\n",
    "from morpheus.project.types.calculation.Calculation import CalculationId\n",
    "\n",
    "calculation_id = CalculationId.new()\n",
    "calculation_profile = CalculationProfile.new(CalculationEngineType.MF2005)\n",
    "engine = CalculationEngineFactory.create_engine(calculation_id=calculation_id, engine_type=calculation_profile.engine_type)\n",
    "check_model_log = engine.preprocess(model, calculation_profile)\n",
    "check_model_log.to_list()"
   ]
  },
  {
   "cell_type": "code",
   "execution_count": 11,
   "id": "e09d94e0a94315cb",
   "metadata": {
    "ExecuteTime": {
     "end_time": "2024-08-19T10:11:48.603395Z",
     "start_time": "2024-08-19T10:11:48.255953Z"
    },
    "collapsed": false,
    "execution": {
     "iopub.execute_input": "2024-08-19T20:26:17.156527Z",
     "iopub.status.busy": "2024-08-19T20:26:17.156367Z",
     "iopub.status.idle": "2024-08-19T20:26:17.603307Z",
     "shell.execute_reply": "2024-08-19T20:26:17.603004Z"
    },
    "papermill": {
     "duration": 0.451429,
     "end_time": "2024-08-19T20:26:17.604224",
     "exception": false,
     "start_time": "2024-08-19T20:26:17.152795",
     "status": "completed"
    },
    "tags": []
   },
   "outputs": [
    {
     "name": "stdout",
     "output_type": "stream",
     "text": [
      "FloPy is using the following executable to run the model: ../../../../../../../src/backend/.venv/bin/mf2005\n",
      "\n",
      "                                  MODFLOW-2005     \n",
      "    U.S. GEOLOGICAL SURVEY MODULAR FINITE-DIFFERENCE GROUND-WATER FLOW MODEL\n",
      "                             Version 1.12.00 2/3/2017                        \n",
      "\n",
      " Using NAME file: mf2005.nam \n",
      " Run start date and time (yyyy/mm/dd hh:mm:ss): 2024/08/19 22:26:17\n",
      "\n",
      " Solving:  Stress period:     1    Time step:     1    Ground-Water Flow Eqn.\n",
      " Run end date and time (yyyy/mm/dd hh:mm:ss): 2024/08/19 22:26:17\n",
      " Elapsed run time:  0.015 Seconds\n",
      "\n",
      "  Normal termination of simulation\n"
     ]
    }
   ],
   "source": [
    "log, result = engine.run(model=model, calculation_profile=calculation_profile)"
   ]
  },
  {
   "cell_type": "code",
   "execution_count": 12,
   "id": "a52d1dd3a1574032",
   "metadata": {
    "ExecuteTime": {
     "end_time": "2024-08-19T10:11:48.607929Z",
     "start_time": "2024-08-19T10:11:48.604387Z"
    },
    "collapsed": false,
    "execution": {
     "iopub.execute_input": "2024-08-19T20:26:17.610045Z",
     "iopub.status.busy": "2024-08-19T20:26:17.609917Z",
     "iopub.status.idle": "2024-08-19T20:26:17.612174Z",
     "shell.execute_reply": "2024-08-19T20:26:17.611932Z"
    },
    "papermill": {
     "duration": 0.005996,
     "end_time": "2024-08-19T20:26:17.612962",
     "exception": false,
     "start_time": "2024-08-19T20:26:17.606966",
     "status": "completed"
    },
    "tags": []
   },
   "outputs": [
    {
     "data": {
      "text/plain": [
       "CalculationResult(type=<CalculationResultType.SUCCESS: 'success'>, message='Calculation finished successfully', files=['mf2005.list', 'mf2005.ghb', 'mf2005.dis', 'mf2005.nam', 'mf2005.bas', 'mf2005.lpf', 'mf2005.pcg', 'mf2005.oc', 'mf2005.hds'], flow_head_results=AvailableResults(times=[365.0], kstpkper=[(0, 0)], number_of_layers=1, number_of_observations=0, min_value=101.0893783569336, max_value=399.4720764160156), flow_drawdown_results=None, flow_budget_results=AvailableResults(times=[365.0], kstpkper=[(0, 0)], number_of_layers=0, number_of_observations=0, min_value=None, max_value=None), transport_concentration_results=None, transport_budget_results=None, packages=['DIS', 'BAS6', 'GHB', 'PCG', 'LPF', 'OC'])"
      ]
     },
     "execution_count": 12,
     "metadata": {},
     "output_type": "execute_result"
    }
   ],
   "source": [
    "result"
   ]
  },
  {
   "cell_type": "code",
   "execution_count": 13,
   "id": "cc43ad077c7a81d0",
   "metadata": {
    "ExecuteTime": {
     "end_time": "2024-08-19T10:11:48.611780Z",
     "start_time": "2024-08-19T10:11:48.608861Z"
    },
    "collapsed": false,
    "execution": {
     "iopub.execute_input": "2024-08-19T20:26:17.618678Z",
     "iopub.status.busy": "2024-08-19T20:26:17.618579Z",
     "iopub.status.idle": "2024-08-19T20:26:17.620796Z",
     "shell.execute_reply": "2024-08-19T20:26:17.620580Z"
    },
    "papermill": {
     "duration": 0.006046,
     "end_time": "2024-08-19T20:26:17.621606",
     "exception": false,
     "start_time": "2024-08-19T20:26:17.615560",
     "status": "completed"
    },
    "tags": []
   },
   "outputs": [],
   "source": [
    "head = engine.read_flow_head(idx=0, layer=0)"
   ]
  },
  {
   "cell_type": "code",
   "execution_count": 14,
   "id": "12454cc4d9e18de5",
   "metadata": {
    "ExecuteTime": {
     "end_time": "2024-08-19T10:11:48.621367Z",
     "start_time": "2024-08-19T10:11:48.612536Z"
    },
    "collapsed": false,
    "execution": {
     "iopub.execute_input": "2024-08-19T20:26:17.627300Z",
     "iopub.status.busy": "2024-08-19T20:26:17.627153Z",
     "iopub.status.idle": "2024-08-19T20:26:17.632939Z",
     "shell.execute_reply": "2024-08-19T20:26:17.632692Z"
    },
    "papermill": {
     "duration": 0.009479,
     "end_time": "2024-08-19T20:26:17.633717",
     "exception": false,
     "start_time": "2024-08-19T20:26:17.624238",
     "status": "completed"
    },
    "tags": []
   },
   "outputs": [
    {
     "data": {
      "text/plain": [
       "'[[300.518310546875, 302.4154968261719, 303.60791015625, 304.3465881347656, 304.76239013671875, 304.9309997558594, 304.9010009765625, 304.7052001953125, 304.3678894042969, 303.9070129394531, 303.3370056152344, 302.669189453125, 301.9129943847656, 301.0763854980469, 300.16619873046875, 299.1881103515625, 298.1471862792969, 297.04791259765625, 295.8941955566406, 294.689697265625, 293.4374084472656, 292.14019775390625, 290.8006896972656, 289.4212951660156, 288.0039978027344, 286.5509033203125, 285.0636901855469, 283.5440979003906, 281.99359130859375, 280.4136047363281, 278.8055114746094, 277.1702880859375, 275.5091857910156, 273.82330322265625, 272.1134033203125, 270.38031005859375, 268.625, 266.8479919433594, 265.04998779296875, 263.2318115234375, 261.3935852050781, 259.53619384765625, 257.6597900390625, 255.76499938964844, 253.85189819335938, 251.92080688476562, 249.97219848632812, 248.0059051513672, 246.02239990234375, 244.02149963378906, 242.00340270996094, 239.9680938720703, 237.9156036376953, 235.84559631347656, 233.75819396972656, 231.6531982421875, 229.53030395507812, 227.38929748535156, 225.22979736328125, 223.05140686035156, 220.8538055419922, 218.63650512695312, 216.3990020751953, 214.14059448242188, 211.8607940673828, 209.55870056152344, 207.23379516601562, 204.88499450683594, 202.5115966796875, 200.11239624023438, 197.6864013671875, 195.2324981689453, 192.74940490722656, 190.235595703125, 187.689697265625, 185.110107421875, 182.4949951171875, 179.8424072265625, 177.15020751953125, 174.41610717773438, 171.63760375976562, 168.81179809570312, 165.9355926513672, 163.00559997558594, 160.0178985595703, 156.96800231933594, 153.8509063720703, 150.66099548339844, 147.39149475097656, 144.03469848632812, 140.58120727539062, 137.0196075439453, 133.33599853515625, 129.5124053955078, 125.52510070800781, 121.34159851074219, 116.91410064697266, 112.16809844970703, 106.9751968383789, 101.08940124511719], [302.5295104980469, 303.552490234375, 304.3399963378906, 304.8677978515625, 305.1610107421875, 305.251708984375, 305.168212890625, 304.9338073730469, 304.56719970703125, 304.08331298828125, 303.49481201171875, 302.81170654296875, 302.0426940917969, 301.1953125, 300.27569580078125, 299.2893981933594, 298.2413024902344, 297.1357116699219, 295.9764099121094, 294.7666931152344, 293.5097961425781, 292.20849609375, 290.8652038574219, 289.4822998046875, 288.0617980957031, 286.6058044433594, 285.1159973144531, 283.5939025878906, 282.04119873046875, 280.4591064453125, 278.8489990234375, 277.21209716796875, 275.5494079589844, 273.86199951171875, 272.1506042480469, 270.4162902832031, 268.6597900390625, 266.8818054199219, 265.0828857421875, 263.2637023925781, 261.4248046875, 259.56671142578125, 257.6897888183594, 255.79429626464844, 253.88079833984375, 251.94940185546875, 250.00039672851562, 248.03399658203125, 246.05020141601562, 244.04930114746094, 242.0312042236328, 239.99600219726562, 237.94349670410156, 235.87379455566406, 233.7866973876953, 231.6820068359375, 229.55960083007812, 227.41900634765625, 225.26010131835938, 223.0823974609375, 220.88560485839844, 218.66920471191406, 216.43260192871094, 214.17520141601562, 211.89649963378906, 209.59579467773438, 207.27220153808594, 204.92489624023438, 202.55299377441406, 200.1555938720703, 197.73150634765625, 195.27969360351562, 192.79879760742188, 190.2873992919922, 187.74420166015625, 185.1674041748047, 182.55540466308594, 179.9062042236328, 177.21780395507812, 174.48779296875, 171.71380615234375, 168.89309692382812, 166.02259826660156, 163.0988006591797, 160.11819458007812, 157.0762939453125, 153.968505859375, 150.789306640625, 147.53250122070312, 144.19070434570312, 140.75540161132812, 137.2165985107422, 133.56190490722656, 129.77650451660156, 125.841796875, 121.73509979248047, 117.4281005859375, 112.88929748535156, 108.09320068359375, 103.06210327148438], [304.5474853515625, 305.0694885253906, 305.4913024902344, 305.76739501953125, 305.88641357421875, 305.8533020019531, 305.6789855957031, 305.37579345703125, 304.9554138183594, 304.4285888671875, 303.80499267578125, 303.09271240234375, 302.2991027832031, 301.43060302734375, 300.4927062988281, 299.4905090332031, 298.4283142089844, 297.3102111816406, 296.13970947265625, 294.9200134277344, 293.65399169921875, 292.3443908691406, 290.99359130859375, 289.6037902832031, 288.1770935058594, 286.71539306640625, 285.22021484375, 283.69329833984375, 282.135986328125, 280.5498962402344, 278.9360046386719, 277.2955017089844, 275.6296081542969, 273.9390869140625, 272.2250061035156, 270.4881896972656, 268.7294006347656, 266.9491882324219, 265.1484069824219, 263.3276062011719, 261.4870910644531, 259.6275939941406, 257.7493896484375, 255.85299682617188, 253.93850708007812, 252.0063934326172, 250.05679321289062, 248.08990478515625, 246.10580444335938, 244.10479736328125, 242.0865936279297, 240.05160522460938, 237.99940490722656, 235.9300994873047, 233.84359741210938, 231.73959350585938, 229.6179962158203, 227.47850036621094, 225.32080078125, 223.14439392089844, 220.9490966796875, 218.73440551757812, 216.49960327148438, 214.24440002441406, 211.9678955078125, 209.6696014404297, 207.34869384765625, 205.00439453125, 202.6356964111328, 200.24180603027344, 197.82150268554688, 195.3737030029297, 192.89720153808594, 190.3907012939453, 187.8527069091797, 185.28160095214844, 182.67579650878906, 180.0334014892578, 177.35240173339844, 174.63059997558594, 171.8656005859375, 169.05479431152344, 166.19520568847656, 163.28390502929688, 160.3170928955078, 157.29110717773438, 154.2012939453125, 151.04299926757812, 147.8105010986328, 144.49749755859375, 141.09689331054688, 137.60049438476562, 133.99879455566406, 130.2812957763672, 126.4363021850586, 122.45159912109375, 118.31629943847656, 114.02559661865234, 109.59020233154297, 105.05480194091797], [306.5663146972656, 306.7481994628906, 306.8778076171875, 306.9201965332031, 306.8572998046875, 306.6828918457031, 306.39788818359375, 306.006591796875, 305.5152893066406, 304.9302978515625, 304.2582092285156, 303.5050048828125, 302.676513671875, 301.7778015136719, 300.8135986328125, 299.7882995605469, 298.7055969238281, 297.5692138671875, 296.3822937011719, 295.1477966308594, 293.8684997558594, 292.54681396484375, 291.1849060058594, 289.7850036621094, 288.3489990234375, 286.8786926269531, 285.3757019042969, 283.84161376953125, 282.277587890625, 280.685302734375, 279.0657043457031, 277.4200134277344, 275.74920654296875, 274.0542907714844, 272.3362121582031, 270.5956115722656, 268.83331298828125, 267.04998779296875, 265.24639892578125, 263.42291259765625, 261.5802001953125, 259.7185974121094, 257.8385925292969, 255.9405975341797, 254.02479553222656, 252.0915985107422, 250.14100646972656, 248.17349243164062, 246.18899536132812, 244.1876983642578, 242.1696014404297, 240.1345977783203, 238.08290100097656, 236.0142059326172, 233.92860412597656, 231.8256072998047, 229.70530700683594, 227.5673065185547, 225.41140747070312, 223.23699951171875, 221.04400634765625, 218.83180236816406, 216.59979248046875, 214.34759521484375, 212.07460021972656, 209.77999877929688, 207.46310424804688, 205.12319946289062, 202.75929260253906, 200.37049865722656, 197.95579528808594, 195.51409912109375, 193.04420471191406, 190.5447998046875, 188.0146026611328, 185.451904296875, 182.8553009033203, 180.222900390625, 177.55279541015625, 174.84300231933594, 172.09120178222656, 169.2949981689453, 166.45159912109375, 163.5583038330078, 160.61180114746094, 157.6085968017578, 154.5447998046875, 151.4163055419922, 148.2183074951172, 144.94580078125, 141.59300231933594, 138.1540985107422, 134.6226043701172, 130.9918975830078, 127.2562026977539, 123.41100311279297, 119.45539855957031, 115.39530181884766, 111.24859619140625, 107.04969787597656], [308.58538818359375, 308.510986328125, 308.40521240234375, 308.24310302734375, 308.0080871582031, 307.69110107421875, 307.2880859375, 306.7991943359375, 306.2261962890625, 305.5726013183594, 304.84210205078125, 304.0389099121094, 303.1671142578125, 302.2305908203125, 301.2331848144531, 300.1784973144531, 299.0696105957031, 297.9097900390625, 296.7018127441406, 295.4482116699219, 294.1513977050781, 292.81390380859375, 291.4375915527344, 290.0245056152344, 288.5762939453125, 287.09478759765625, 285.5815124511719, 284.0378112792969, 282.4652099609375, 280.86468505859375, 279.23760986328125, 277.5849914550781, 275.9078063964844, 274.2070007324219, 272.4834899902344, 270.7379150390625, 268.9710998535156, 267.1836853027344, 265.3763122558594, 263.5494079589844, 261.70361328125, 259.83929443359375, 257.9570007324219, 256.0567932128906, 254.1392059326172, 252.20460510253906, 250.25289916992188, 248.28439331054688, 246.29930114746094, 244.29769897460938, 242.2794952392578, 240.24490356445312, 238.19369506835938, 236.12579345703125, 234.04119873046875, 231.93980407714844, 229.82119750976562, 227.68519592285156, 225.53160095214844, 223.35989379882812, 221.1697998046875, 218.96099853515625, 216.73269653320312, 214.48460388183594, 212.21600341796875, 209.92630004882812, 207.6147003173828, 205.2805938720703, 202.92300415039062, 200.54100036621094, 198.13369750976562, 195.6999969482422, 193.23880004882812, 190.74879455566406, 188.22869873046875, 185.67709350585938, 183.0924072265625, 180.4730987548828, 177.8173065185547, 175.1230926513672, 172.3885040283203, 169.6112060546875, 166.7886962890625, 163.91859436035156, 160.9980010986328, 158.0238037109375, 154.99290466308594, 151.90159606933594, 148.74639892578125, 145.52330017089844, 142.2281951904297, 138.85719299316406, 135.4062042236328, 131.87210083007812, 128.2528076171875, 124.54850006103516, 120.76290130615234, 116.90489959716797, 112.99099731445312, 109.0457992553711], [310.6047058105469, 310.32440185546875, 310.023193359375, 309.6835021972656, 309.2914123535156, 308.8377990722656, 308.31719970703125, 307.7272033691406, 307.0674133300781, 306.33880615234375, 305.54339599609375, 304.6835021972656, 303.7619934082031, 302.7817077636719, 301.7453918457031, 300.656005859375, 299.5159912109375, 298.3280944824219, 297.0946960449219, 295.8179931640625, 294.50030517578125, 293.1435852050781, 291.74969482421875, 290.3204040527344, 288.8573913574219, 287.3622131347656, 285.8362121582031, 284.2809143066406, 282.6973876953125, 281.0870056152344, 279.4507141113281, 277.78961181640625, 276.1046142578125, 274.3966064453125, 272.6662902832031, 270.91461181640625, 269.1422119140625, 267.349609375, 265.5375061035156, 263.7063903808594, 261.8569030761719, 259.98919677734375, 258.1039123535156, 256.2012023925781, 254.28140258789062, 252.3448944091797, 250.3917999267578, 248.4221954345703, 246.4364013671875, 244.4344024658203, 242.41619873046875, 240.38180541992188, 238.33120727539062, 236.264404296875, 234.18130493164062, 232.0814971923828, 229.96499633789062, 227.83160400390625, 225.68080139160156, 223.5124053955078, 221.3260955810547, 219.12130737304688, 216.89759826660156, 214.65460205078125, 212.39149475097656, 210.10780334472656, 207.80279541015625, 205.47579956054688, 203.12600708007812, 200.7523956298828, 198.3542022705078, 195.9302978515625, 193.47970581054688, 191.00120544433594, 188.4936065673828, 185.95559692382812, 183.38560485839844, 180.78219604492188, 178.143798828125, 175.46859741210938, 172.75469970703125, 170.00010681152344, 167.20269775390625, 164.3603057861328, 161.4705047607422, 158.5305938720703, 155.53819274902344, 152.49029541015625, 149.3842010498047, 146.2169952392578, 142.9862060546875, 139.68910217285156, 136.32400512695312, 132.8896942138672, 129.38670349121094, 125.81739807128906, 122.18699645996094, 118.50479888916016, 114.78410339355469, 111.0426025390625], [312.62420654296875, 312.1712951660156, 311.70379638671875, 311.20831298828125, 310.67388916015625, 310.0924072265625, 309.45819091796875, 308.7677917480469, 308.0195007324219, 307.212890625, 306.3486022949219, 305.4276123046875, 304.451904296875, 303.423095703125, 302.3434143066406, 301.21490478515625, 300.03961181640625, 298.8197937011719, 297.55731201171875, 296.25421142578125, 294.9122009277344, 293.533203125, 292.118896484375, 290.6708068847656, 289.1903991699219, 287.67919921875, 286.1383972167969, 284.56939697265625, 282.97320556640625, 281.3511047363281, 279.7038879394531, 278.0328063964844, 276.3384094238281, 274.6217956542969, 272.8836975097656, 271.1247863769531, 269.345703125, 267.5469970703125, 265.7294006347656, 263.8934020996094, 262.039306640625, 260.1676940917969, 258.27880859375, 256.37298583984375, 254.45069885253906, 252.51199340820312, 250.55709838867188, 248.5863037109375, 246.59959411621094, 244.5970001220703, 242.57879638671875, 240.5447998046875, 238.49510192871094, 236.42950439453125, 234.34800720214844, 232.25030517578125, 230.1363067626953, 228.00579833984375, 225.85850524902344, 223.69400024414062, 221.51199340820312, 219.31219482421875, 217.09390258789062, 214.85679626464844, 212.60020446777344, 210.32369995117188, 208.02650451660156, 205.70790100097656, 203.36720275878906, 201.0034942626953, 198.61599731445312, 196.20379638671875, 193.7657012939453, 191.3007049560547, 188.80780029296875, 186.28550720214844, 183.73269653320312, 181.1479034423828, 178.52969360351562, 175.87640380859375, 173.18649291992188, 170.45809936523438, 167.6894989013672, 164.87869262695312, 162.0236053466797, 159.12240600585938, 156.1728057861328, 153.1728057861328, 150.1204071044922, 147.0135955810547, 143.85079956054688, 140.6309051513672, 137.3531951904297, 134.01820373535156, 130.62750244140625, 127.18460083007812, 123.69490051269531, 120.16670227050781, 116.61070251464844, 113.03990173339844], [314.643798828125, 314.0419921875, 313.4294128417969, 312.7958068847656, 312.13238525390625, 311.43218994140625, 310.69000244140625, 309.9020080566406, 309.0657043457031, 308.1802062988281, 307.2449035644531, 306.2604064941406, 305.2272033691406, 304.1466979980469, 303.02020263671875, 301.8492126464844, 300.6354064941406, 299.38018798828125, 298.0856018066406, 296.7528991699219, 295.3837890625, 293.9798889160156, 292.5426025390625, 291.0732116699219, 289.5732116699219, 288.0437927246094, 286.4862060546875, 284.901611328125, 283.2909851074219, 281.6553955078125, 279.99591064453125, 278.3132019042969, 276.6083068847656, 274.88189697265625, 273.13470458984375, 271.3674011230469, 269.5806884765625, 267.77508544921875, 265.9512023925781, 264.1094055175781, 262.2502136230469, 260.3739013671875, 258.4809875488281, 256.5716857910156, 254.64639282226562, 252.7052001953125, 250.74830627441406, 248.7760009765625, 246.78819274902344, 244.7852020263672, 242.76690673828125, 240.7333984375, 238.6844940185547, 236.62030029296875, 234.5406951904297, 232.44540405273438, 230.3343048095703, 228.2071990966797, 226.0637969970703, 223.90379333496094, 221.72689819335938, 219.5325927734375, 217.3206024169922, 215.09039306640625, 212.84129333496094, 210.572998046875, 208.28460693359375, 205.97569274902344, 203.64549255371094, 201.29319763183594, 198.9178924560547, 196.518798828125, 194.09500122070312, 191.64540100097656, 189.16909790039062, 186.664794921875, 184.1313934326172, 181.5675048828125, 178.9720001220703, 176.34339904785156, 173.6802978515625, 170.98109436035156, 168.24429321289062, 165.4683074951172, 162.65139770507812, 159.79220581054688, 156.8887939453125, 153.94000244140625, 150.94419860839844, 147.90040588378906, 144.8076934814453, 141.66580200195312, 138.47500610351562, 135.23660278320312, 131.95269775390625, 128.627197265625, 125.26509857177734, 121.87349700927734, 118.46099853515625, 115.0374984741211], [316.66339111328125, 315.9303894042969, 315.1889953613281, 314.4313049316406, 313.65020751953125, 312.8399963378906, 311.9956970214844, 311.1138000488281, 310.19158935546875, 309.22760009765625, 308.22100830078125, 307.17138671875, 306.0790100097656, 304.9444885253906, 303.7687072753906, 302.5527038574219, 301.297607421875, 300.0046081542969, 298.67510986328125, 297.3103942871094, 295.91180419921875, 294.4804992675781, 293.0179138183594, 291.52520751953125, 290.0033874511719, 288.4540100097656, 286.877685546875, 285.27569580078125, 283.64898681640625, 281.99859619140625, 280.3251037597656, 278.6296081542969, 276.9128112792969, 275.1754150390625, 273.4180908203125, 271.6415100097656, 269.84619140625, 268.0328063964844, 266.2016906738281, 264.3533935546875, 262.4884033203125, 260.60699462890625, 258.7095031738281, 256.7962951660156, 254.8675994873047, 252.92359924316406, 250.9644012451172, 248.9904022216797, 247.00160217285156, 244.99789428710938, 242.97959899902344, 240.94650268554688, 238.89869689941406, 236.8361053466797, 234.75860595703125, 232.66600036621094, 230.55819702148438, 228.43490600585938, 226.29600524902344, 224.14100646972656, 221.9698028564453, 219.78179931640625, 217.57679748535156, 215.3542022705078, 213.1136016845703, 210.85440063476562, 208.5760040283203, 206.2779998779297, 203.9593963623047, 201.6197967529297, 199.25819396972656, 196.87379455566406, 194.4658966064453, 192.0334014892578, 189.57550048828125, 187.09100341796875, 184.57899475097656, 182.03829956054688, 179.46780395507812, 176.86619567871094, 174.23219299316406, 171.564697265625, 168.8623046875, 166.12379455566406, 163.3477020263672, 160.5330047607422, 157.67840576171875, 154.78289794921875, 151.84559631347656, 148.86610412597656, 145.843994140625, 142.77960205078125, 139.67379760742188, 136.5281982421875, 133.34530639648438, 130.12860107421875, 126.88289642333984, 123.61399841308594, 120.32890319824219, 117.035400390625], [318.68310546875, 317.83221435546875, 316.97479248046875, 316.1044006347656, 315.2153015136719, 314.3026123046875, 313.3620910644531, 312.3904113769531, 311.3848876953125, 310.343994140625, 309.26629638671875, 308.15130615234375, 306.9988098144531, 305.8089904785156, 304.58221435546875, 303.3192138671875, 302.02081298828125, 300.6878967285156, 299.3215026855469, 297.922607421875, 296.4923095703125, 295.0317077636719, 293.54180908203125, 292.0238037109375, 290.4786071777344, 288.9071960449219, 287.31060791015625, 285.6897888183594, 284.0455017089844, 282.37860107421875, 280.69000244140625, 278.9804992675781, 277.2506103515625, 275.5010986328125, 273.73260498046875, 271.9457092285156, 270.1409912109375, 268.31890869140625, 266.4800109863281, 264.6246032714844, 262.7532043457031, 260.8659973144531, 258.9635009765625, 257.0458984375, 255.1134033203125, 253.1663055419922, 251.20480346679688, 249.2288055419922, 247.2386932373047, 245.23440551757812, 243.21600341796875, 241.18350219726562, 239.1367950439453, 237.0760040283203, 235.00079345703125, 232.91119384765625, 230.8070068359375, 228.68789672851562, 226.55389404296875, 224.4044952392578, 222.239501953125, 220.05850219726562, 217.8612060546875, 215.6470947265625, 213.41580200195312, 211.1667022705078, 208.89939880371094, 206.6132049560547, 204.3074951171875, 201.98170471191406, 199.63510131835938, 197.26690673828125, 194.8762969970703, 192.46249389648438, 190.02459716796875, 187.56179809570312, 185.072998046875, 182.5572967529297, 180.01370239257812, 177.4409942626953, 174.83839416503906, 172.20469665527344, 169.53880310058594, 166.83970642089844, 164.1063995361328, 161.33810424804688, 158.53390502929688, 155.69309997558594, 152.8153076171875, 149.90040588378906, 146.94859313964844, 143.96029663085938, 140.93690490722656, 137.8800048828125, 134.79220581054688, 131.67689514160156, 128.53799438476562, 125.38059997558594, 122.21040344238281, 119.03359985351562], [320.7029113769531, 319.74481201171875, 318.7814025878906, 317.8074951171875, 316.818603515625, 315.8102111816406, 314.77880859375, 313.7214050292969, 312.6355895996094, 311.5195007324219, 310.3717956542969, 309.1918029785156, 307.9787902832031, 306.7330017089844, 305.4541931152344, 304.14300537109375, 302.7998046875, 301.4252014160156, 300.02020263671875, 298.58538818359375, 297.1217041015625, 295.6300964355469, 294.1112976074219, 292.5663146972656, 290.9960021972656, 289.4012145996094, 287.7828063964844, 286.1415100097656, 284.4783020019531, 282.7937927246094, 281.08880615234375, 279.364013671875, 277.6199951171875, 275.8573913574219, 274.0768127441406, 272.2786865234375, 270.46380615234375, 268.6322937011719, 266.7847900390625, 264.9216003417969, 263.043212890625, 261.14990234375, 259.2419128417969, 257.3194885253906, 255.38290405273438, 253.43240356445312, 251.46820068359375, 249.49020385742188, 247.4987030029297, 245.4936065673828, 243.47520446777344, 241.44320678710938, 239.39779663085938, 237.33889770507812, 235.26629638671875, 233.17990112304688, 231.07960510253906, 228.96519470214844, 226.8365020751953, 224.69320678710938, 222.53500366210938, 220.36160278320312, 218.17269897460938, 215.96780395507812, 213.74659729003906, 211.5084991455078, 209.2530975341797, 206.97979736328125, 204.68809509277344, 202.37730407714844, 200.0467987060547, 197.6959991455078, 195.3240966796875, 192.93040466308594, 190.51409912109375, 188.07440185546875, 185.6103973388672, 183.12139892578125, 180.60629272460938, 178.0644073486328, 175.4947967529297, 172.89649963378906, 170.268798828125, 167.6107940673828, 164.9217987060547, 162.2010955810547, 159.44830322265625, 156.66299438476562, 153.84500122070312, 150.99440002441406, 148.1116943359375, 145.1977996826172, 142.25379943847656, 139.2816925048828, 136.28379821777344, 133.26300048828125, 130.22300720214844, 127.16799926757812, 124.10260009765625, 121.03189849853516], [322.7226867675781, 321.6658935546875, 320.60479736328125, 319.53509521484375, 318.4530029296875, 317.3548889160156, 316.23760986328125, 315.098388671875, 313.9350891113281, 312.7460021972656, 311.5296936035156, 310.2853088378906, 309.0120849609375, 307.70989990234375, 306.37860107421875, 305.0181884765625, 303.62921142578125, 302.2120056152344, 300.76690673828125, 299.2947998046875, 297.79638671875, 296.2721862792969, 294.7229919433594, 293.14959716796875, 291.55279541015625, 289.9331970214844, 288.2915954589844, 286.6288146972656, 284.9454040527344, 283.2421875, 281.51959228515625, 279.77850341796875, 278.0194091796875, 276.2427062988281, 274.4490966796875, 272.63909912109375, 270.8131103515625, 268.97149658203125, 267.11480712890625, 265.2432861328125, 263.3573913574219, 261.4573059082031, 259.54339599609375, 257.61590576171875, 255.6750030517578, 253.72079467773438, 251.75360107421875, 249.77340698242188, 247.7803955078125, 245.77459716796875, 243.756103515625, 241.72479248046875, 239.68069458007812, 237.62379455566406, 235.5540008544922, 233.47109985351562, 231.375, 229.26559448242188, 227.14259338378906, 225.0059051513672, 222.85499572753906, 220.68980407714844, 218.50990295410156, 216.31500244140625, 214.10459899902344, 211.87820434570312, 209.63560485839844, 207.37620544433594, 205.09939575195312, 202.80459594726562, 200.4915008544922, 198.15919494628906, 195.8072052001953, 193.43479919433594, 191.04139709472656, 188.6260986328125, 186.18829345703125, 183.727294921875, 181.24229431152344, 178.7324981689453, 176.19729614257812, 173.63580322265625, 171.047607421875, 168.43190002441406, 165.78819274902344, 163.11610412597656, 160.4152069091797, 157.6855926513672, 154.92709350585938, 152.14019775390625, 149.3253936767578, 146.4835968017578, 143.61630249023438, 140.72509765625, 137.81219482421875, 134.8802032470703, 131.93240356445312, 128.97210693359375, 126.00340270996094, 123.0302963256836], [324.74261474609375, 323.5940856933594, 322.4419860839844, 321.2828063964844, 320.1134033203125, 318.9305114746094, 317.7315979003906, 316.5141906738281, 315.27630615234375, 314.01629638671875, 312.7330017089844, 311.4252014160156, 310.0921936035156, 308.7337951660156, 307.3497009277344, 305.9397888183594, 304.50421142578125, 303.0433044433594, 301.5574035644531, 300.0469970703125, 298.51251220703125, 296.95458984375, 295.3738098144531, 293.77081298828125, 292.1462097167969, 290.5007019042969, 288.8348083496094, 287.1492919921875, 285.4446105957031, 283.72149658203125, 281.9804992675781, 280.22210693359375, 278.4468994140625, 276.6553955078125, 274.8479919433594, 273.02520751953125, 271.1875, 269.335205078125, 267.46868896484375, 265.5882873535156, 263.69439697265625, 261.7872009277344, 259.86700439453125, 257.93389892578125, 255.98829650878906, 254.03030395507812, 252.05990600585938, 250.077392578125, 248.08279418945312, 246.07620239257812, 244.05760192871094, 242.0269012451172, 239.9842987060547, 237.92959594726562, 235.86270141601562, 233.78359985351562, 231.69200134277344, 229.58790588378906, 227.47109985351562, 225.34129333496094, 223.19830322265625, 221.0417938232422, 218.87139892578125, 216.68699645996094, 214.4882049560547, 212.27439880371094, 210.04530334472656, 207.80050659179688, 205.5395050048828, 203.2617950439453, 200.96690368652344, 198.65420532226562, 196.3231964111328, 193.97320556640625, 191.6038055419922, 189.21420288085938, 186.80380249023438, 184.3719940185547, 181.91819763183594, 179.4416961669922, 176.94200134277344, 174.4185028076172, 171.87069702148438, 169.298095703125, 166.7003936767578, 164.077392578125, 161.42880249023438, 158.7545928955078, 156.05520629882812, 153.33099365234375, 150.58250427246094, 147.81080627441406, 145.01730346679688, 142.20339965820312, 139.37120056152344, 136.52310180664062, 133.66160583496094, 130.7899932861328, 127.91120147705078, 125.02890014648438], [326.76239013671875, 325.52801513671875, 324.29058837890625, 323.0472106933594, 321.7952880859375, 320.5321044921875, 319.2554016113281, 317.9630126953125, 316.6531982421875, 315.3244934082031, 313.9755859375, 312.6054992675781, 311.2135925292969, 309.7994079589844, 308.3623962402344, 306.9027099609375, 305.4201965332031, 303.9150085449219, 302.38739013671875, 300.8377990722656, 299.2663879394531, 297.6737976074219, 296.06048583984375, 294.4269104003906, 292.77349853515625, 291.10101318359375, 289.4097900390625, 287.70050048828125, 285.97369384765625, 284.22979736328125, 282.4693908691406, 280.6929016113281, 278.9007873535156, 277.0935974121094, 275.2716979980469, 273.43548583984375, 271.58538818359375, 269.7218017578125, 267.8450012207031, 265.9552001953125, 264.05279541015625, 262.13800048828125, 260.2110900878906, 258.2723083496094, 256.3216857910156, 254.35960388183594, 252.38589477539062, 250.40089416503906, 248.40460205078125, 246.3970947265625, 244.37840270996094, 242.34849548339844, 240.30740356445312, 238.2550048828125, 236.19119262695312, 234.11599731445312, 232.029296875, 229.93080139160156, 227.82040405273438, 225.697998046875, 223.56329345703125, 221.41600036621094, 219.25579833984375, 217.08250427246094, 214.8957061767578, 212.69520568847656, 210.4803924560547, 208.25100708007812, 206.00660705566406, 203.74679565429688, 201.4709930419922, 199.17880249023438, 196.8697052001953, 194.54319763183594, 192.19869995117188, 189.835693359375, 187.45370483398438, 185.0522003173828, 182.63059997558594, 180.1884002685547, 177.72520446777344, 175.2404022216797, 172.73379516601562, 170.2050018310547, 167.65370178222656, 165.07980346679688, 162.4833984375, 159.864501953125, 157.22340393066406, 154.56069946289062, 151.87710571289062, 149.17340087890625, 146.4510040283203, 143.7113037109375, 140.95599365234375, 138.18739318847656, 135.40750122070312, 132.6190948486328, 129.82479858398438, 127.02760314941406], [328.78240966796875, 327.4667053222656, 326.1485900878906, 324.8255920410156, 323.49530029296875, 322.1556091308594, 320.8044128417969, 319.44000244140625, 318.06060791015625, 316.66510009765625, 315.252197265625, 313.82110595703125, 312.3710021972656, 310.9013977050781, 309.4119873046875, 307.90240478515625, 306.3727111816406, 304.8229064941406, 303.2532043457031, 301.6636047363281, 300.0546875, 298.4266052246094, 296.77978515625, 295.11480712890625, 293.4317932128906, 291.7314147949219, 290.0140075683594, 288.28021240234375, 286.53021240234375, 284.7648010253906, 282.9841003417969, 281.1888122558594, 279.37908935546875, 277.55560302734375, 275.718505859375, 273.8681945800781, 272.00518798828125, 270.12969970703125, 268.24200439453125, 266.3424072265625, 264.43121337890625, 262.5083923339844, 260.5745849609375, 258.6296081542969, 256.6737976074219, 254.70730590820312, 252.73019409179688, 250.7425994873047, 248.74459838867188, 246.73609924316406, 244.71730041503906, 242.68820190429688, 240.6486053466797, 238.59860229492188, 236.53819274902344, 234.46710205078125, 232.38540649414062, 230.2928009033203, 228.18930053710938, 226.07460021972656, 223.94850158691406, 221.81080627441406, 219.6613006591797, 217.49969482421875, 215.3256072998047, 213.1387939453125, 210.93899536132812, 208.72569274902344, 206.4987030029297, 204.2574005126953, 202.00160217285156, 199.73069763183594, 197.44430541992188, 195.14210510253906, 192.82339477539062, 190.48800659179688, 188.1352996826172, 185.76480102539062, 183.37620544433594, 180.96910095214844, 178.54299926757812, 176.09759521484375, 173.63270568847656, 171.1479949951172, 168.64329528808594, 166.11880493164062, 163.5742950439453, 161.01010131835938, 158.42660522460938, 155.8242950439453, 153.2039031982422, 150.56619262695312, 147.91259765625, 145.24420166015625, 142.56260681152344, 139.86959838867188, 137.16729736328125, 134.45779418945312, 131.74330139160156, 129.02630615234375], [330.80230712890625, 329.40948486328125, 328.01458740234375, 326.6156005859375, 325.2106018066406, 323.7974853515625, 322.3747863769531, 320.9407958984375, 319.49420166015625, 318.0338134765625, 316.55841064453125, 315.0674133300781, 313.5599060058594, 312.0356140136719, 310.4938049316406, 308.9346008300781, 307.35760498046875, 305.76300048828125, 304.15069580078125, 302.5209045410156, 300.8738098144531, 299.2095947265625, 297.52880859375, 295.8315124511719, 294.1181945800781, 292.38909912109375, 290.6448059082031, 288.8855895996094, 287.11199951171875, 285.3240966796875, 283.5226135253906, 281.70770263671875, 279.8797912597656, 278.039306640625, 276.1864013671875, 274.32159423828125, 272.4451904296875, 270.55731201171875, 268.6582946777344, 266.7484130859375, 264.8280029296875, 262.8970031738281, 260.955810546875, 259.0044860839844, 257.0433044433594, 255.07220458984375, 253.0915069580078, 251.1011962890625, 249.1011962890625, 247.091796875, 245.07290649414062, 243.0446014404297, 241.00660705566406, 238.95919799804688, 236.90220642089844, 234.8354949951172, 232.75900268554688, 230.672607421875, 228.57620239257812, 226.46949768066406, 224.3524932861328, 222.22479248046875, 220.08639526367188, 217.93690490722656, 215.7760009765625, 213.60360717773438, 211.41929626464844, 209.2227020263672, 207.0135955810547, 204.79159545898438, 202.556396484375, 200.3074951171875, 198.0446014404297, 195.76739501953125, 193.4752960205078, 191.16810607910156, 188.84539794921875, 186.50669860839844, 184.15179443359375, 181.78030395507812, 179.39190673828125, 176.9864044189453, 174.56350708007812, 172.1230926513672, 169.6652069091797, 167.18980407714844, 164.6968994140625, 162.18690490722656, 159.66009521484375, 157.11709594726562, 154.5583953857422, 151.98500061035156, 149.3979034423828, 146.7982940673828, 144.18739318847656, 141.56700134277344, 138.93870544433594, 136.30430603027344, 133.66580200195312, 131.02520751953125], [332.82220458984375, 331.3555908203125, 329.8872985839844, 328.41558837890625, 326.9385986328125, 325.4551086425781, 323.9634094238281, 322.46209716796875, 320.9501037597656, 319.4263916015625, 317.8900146484375, 316.3402099609375, 314.7762145996094, 313.1976013183594, 311.6040954589844, 309.99530029296875, 308.3711853027344, 306.73150634765625, 305.0763854980469, 303.406005859375, 301.7203063964844, 300.01959228515625, 298.30419921875, 296.5740966796875, 294.8298034667969, 293.07159423828125, 291.2997131347656, 289.51458740234375, 287.7164001464844, 285.90570068359375, 284.0826110839844, 282.2475891113281, 280.4010009765625, 278.54290771484375, 276.6737976074219, 274.7939147949219, 272.90350341796875, 271.0028076171875, 269.0921936035156, 267.1716003417969, 265.2416076660156, 263.302001953125, 261.3533020019531, 259.3953857421875, 257.4284973144531, 255.4528045654297, 253.4683074951172, 251.47509765625, 249.47329711914062, 247.46279907226562, 245.4438018798828, 243.4163055419922, 241.38009643554688, 239.33529663085938, 237.28179931640625, 235.2196044921875, 233.1486053466797, 231.068603515625, 228.97950744628906, 226.88119506835938, 224.7736053466797, 222.6562957763672, 220.529296875, 218.39239501953125, 216.2451934814453, 214.0876007080078, 211.91929626464844, 209.74000549316406, 207.5493927001953, 205.34719848632812, 203.13319396972656, 200.9069061279297, 198.66810607910156, 196.41650390625, 194.15170288085938, 191.87330627441406, 189.58120727539062, 187.27490234375, 184.95419311523438, 182.61880493164062, 180.26849365234375, 177.90310668945312, 175.5225067138672, 173.12660217285156, 170.71539306640625, 168.2888946533203, 165.84730529785156, 163.3907928466797, 160.91990661621094, 158.43499755859375, 155.93679809570312, 153.42599487304688, 150.90350341796875, 148.3704071044922, 145.8278045654297, 143.27720642089844, 140.7198944091797, 138.15750122070312, 135.59170532226562, 133.0240936279297], [334.8421936035156, 333.3045959472656, 331.7655944824219, 330.22369384765625, 328.6776123046875, 327.12579345703125, 325.56719970703125, 324.0006103515625, 322.42510986328125, 320.839599609375, 319.2432861328125, 317.6355895996094, 316.0159912109375, 314.3837890625, 312.7388916015625, 311.0809020996094, 309.40960693359375, 307.7250061035156, 306.0270080566406, 304.3157043457031, 302.5911865234375, 300.8536071777344, 299.1029968261719, 297.3396911621094, 295.5639953613281, 293.7760009765625, 291.97601318359375, 290.1643981933594, 288.34130859375, 286.5071105957031, 284.6619873046875, 282.8063049316406, 280.9403991699219, 279.0643005371094, 277.1784973144531, 275.2831115722656, 273.3783874511719, 271.464599609375, 269.54180908203125, 267.61041259765625, 265.67041015625, 263.72198486328125, 261.7654113769531, 259.8008117675781, 257.8280944824219, 255.84750366210938, 253.85910034179688, 251.86300659179688, 249.8592071533203, 247.8477020263672, 245.82859802246094, 243.80189514160156, 241.7675018310547, 239.72540283203125, 237.67559814453125, 235.61810302734375, 233.55259704589844, 231.4792022705078, 229.39779663085938, 227.30810546875, 225.2100067138672, 223.10350036621094, 220.9884033203125, 218.8643035888672, 216.731201171875, 214.58880615234375, 212.43699645996094, 210.27540588378906, 208.1038055419922, 205.9219970703125, 203.72959899902344, 201.52659606933594, 199.31239318847656, 197.08689880371094, 194.84979248046875, 192.60079956054688, 190.3397979736328, 188.06629943847656, 185.7801971435547, 183.48129272460938, 181.16940307617188, 178.8444061279297, 176.50619506835938, 174.15480041503906, 171.79010009765625, 169.41229248046875, 167.0216064453125, 164.61810302734375, 162.2021942138672, 159.77450561523438, 157.3354949951172, 154.88580322265625, 152.4261932373047, 149.95770263671875, 147.48129272460938, 144.9980926513672, 142.50929260253906, 140.01629638671875, 137.52040100097656, 135.0229949951172], [336.8620910644531, 335.2560119628906, 333.6485900878906, 332.0387878417969, 330.4255065917969, 328.8075866699219, 327.1839904785156, 325.5538024902344, 323.9159851074219, 322.2699890136719, 320.614990234375, 318.95050048828125, 317.2757873535156, 315.5906982421875, 313.8948059082031, 312.18780517578125, 310.4696044921875, 308.739990234375, 306.9991149902344, 305.2467956542969, 303.4831848144531, 301.70831298828125, 299.9223937988281, 298.12548828125, 296.3179016113281, 294.49969482421875, 292.67120361328125, 290.8326110839844, 288.9841003417969, 287.1260070800781, 285.2583923339844, 283.3817138671875, 281.4960021972656, 279.6015930175781, 277.6986083984375, 275.78741455078125, 273.8680114746094, 271.94061279296875, 270.005615234375, 268.0628967285156, 266.11279296875, 264.1553039550781, 262.1907043457031, 260.218994140625, 258.24029541015625, 256.2547912597656, 254.2624053955078, 252.2633056640625, 250.2574005126953, 248.24490356445312, 246.22569274902344, 244.19979858398438, 242.16729736328125, 240.1280059814453, 238.08200073242188, 236.02920532226562, 233.96949768066406, 231.90289306640625, 229.82919311523438, 227.74839782714844, 225.6602020263672, 223.56480407714844, 221.4615936279297, 219.35079956054688, 217.23219299316406, 215.1053924560547, 212.97039794921875, 210.826904296875, 208.6748046875, 206.51370239257812, 204.343505859375, 202.16400146484375, 199.9748992919922, 197.7760009765625, 195.5670928955078, 193.34800720214844, 191.11830139160156, 188.8780059814453, 186.6269073486328, 184.36480712890625, 182.0915069580078, 179.80709838867188, 177.5113983154297, 175.20440673828125, 172.88609313964844, 170.55670166015625, 168.21629333496094, 165.86520385742188, 163.50379943847656, 161.13229370117188, 158.7512969970703, 156.3614044189453, 153.96339416503906, 151.55780029296875, 149.1457061767578, 146.72799682617188, 144.30560302734375, 141.8798065185547, 139.45150756835938, 137.02200317382812], [338.8821105957031, 337.2091979980469, 335.535400390625, 333.8595886230469, 332.180908203125, 330.4984130859375, 328.8114013671875, 327.118896484375, 325.4202880859375, 323.71490478515625, 322.002197265625, 320.2815856933594, 318.5527038574219, 316.8150939941406, 315.068603515625, 313.3128967285156, 311.54791259765625, 309.7734069824219, 307.989501953125, 306.19610595703125, 304.3931884765625, 302.5809020996094, 300.7593994140625, 298.9285888671875, 297.08880615234375, 295.2401123046875, 293.3826904296875, 291.5168151855469, 289.6424865722656, 287.7601013183594, 285.86968994140625, 283.97149658203125, 282.0657958984375, 280.152587890625, 278.2322082519531, 276.3046875, 274.3703918457031, 272.42919921875, 270.4815979003906, 268.52740478515625, 266.56689453125, 264.6001892089844, 262.6274108886719, 260.64849853515625, 258.6636962890625, 256.673095703125, 254.67660522460938, 252.6743927001953, 250.66639709472656, 248.65280151367188, 246.6334991455078, 244.60850524902344, 242.5778045654297, 240.54139709472656, 238.49929809570312, 236.45140075683594, 234.39759826660156, 232.33790588378906, 230.27220153808594, 228.2003936767578, 226.12240600585938, 224.03810119628906, 221.94740295410156, 219.85020446777344, 217.74620056152344, 215.6352996826172, 213.5175018310547, 211.39239501953125, 209.26010131835938, 207.12010192871094, 204.97250366210938, 202.81689453125, 200.65330505371094, 198.4813995361328, 196.30099487304688, 194.1118927001953, 191.91409301757812, 189.7071990966797, 187.49130249023438, 185.26620483398438, 183.03179931640625, 180.78790283203125, 178.53469848632812, 176.27200317382812, 174.0, 171.7187957763672, 169.42840576171875, 167.1291961669922, 164.82139587402344, 162.50540161132812, 160.1815948486328, 157.85040283203125, 155.5124969482422, 153.16859436035156, 150.81919860839844, 148.46530151367188, 146.10760498046875, 143.7469940185547, 141.3845977783203, 139.02110290527344], [340.902099609375, 339.1640930175781, 337.42529296875, 335.68499755859375, 333.9424133300781, 332.1968078613281, 330.4476013183594, 328.6940002441406, 326.93560791015625, 325.17181396484375, 323.4020080566406, 321.6260986328125, 319.8434143066406, 318.05389404296875, 316.2571105957031, 314.4530029296875, 312.6413879394531, 310.82220458984375, 308.9952087402344, 307.16070556640625, 305.3183898925781, 303.4685974121094, 301.6112060546875, 299.7463073730469, 297.8739929199219, 295.9945983886719, 294.1080017089844, 292.2143859863281, 290.3140869140625, 288.4071044921875, 286.4934997558594, 284.5736083984375, 282.6474914550781, 280.7153015136719, 278.777099609375, 276.83319091796875, 274.88360595703125, 272.9284973144531, 270.9679870605469, 269.0021057128906, 267.0310974121094, 265.0549011230469, 263.0736999511719, 261.08758544921875, 259.0965881347656, 257.1007995605469, 255.10009765625, 253.0948028564453, 251.08470153808594, 249.07000732421875, 247.05050659179688, 245.02639770507812, 242.99769592285156, 240.96420288085938, 238.92599487304688, 236.88299560546875, 234.835205078125, 232.7825927734375, 230.72500610351562, 228.6623992919922, 226.5948028564453, 224.5218963623047, 222.4438018798828, 220.36019897460938, 218.2711944580078, 216.17660522460938, 214.07620239257812, 211.9698944091797, 209.85760498046875, 207.73899841308594, 205.61419677734375, 203.48289489746094, 201.34500122070312, 199.20030212402344, 197.0487060546875, 194.89010620117188, 192.72430419921875, 190.5511932373047, 188.37060546875, 186.18260192871094, 183.9871063232422, 181.78390502929688, 179.5731964111328, 177.35479736328125, 175.12890625, 172.89549255371094, 170.65480041503906, 168.40699768066406, 166.1522979736328, 163.89109802246094, 161.62359619140625, 159.35020446777344, 157.07150268554688, 154.78799438476562, 152.50010681152344, 150.2086944580078, 147.91419982910156, 145.61749267578125, 143.31919860839844, 141.02020263671875], [342.9220886230469, 341.1202087402344, 339.31768798828125, 337.51409912109375, 335.7087097167969, 333.9010009765625, 332.0906066894531, 330.2770080566406, 328.4595947265625, 326.63800048828125, 324.81201171875, 322.981201171875, 321.1453857421875, 319.30419921875, 317.4576110839844, 315.6051940917969, 313.7471923828125, 311.8832092285156, 310.0133972167969, 308.1376037597656, 306.2560119628906, 304.368408203125, 302.4750061035156, 300.5758056640625, 298.6709899902344, 296.760498046875, 294.8445129394531, 292.923095703125, 290.99639892578125, 289.0646057128906, 287.1275939941406, 285.1856994628906, 283.239013671875, 281.2875061035156, 279.3313903808594, 277.37078857421875, 275.4057922363281, 273.4364929199219, 271.4630126953125, 269.4851989746094, 267.5035095214844, 265.5177917480469, 263.5281066894531, 261.53460693359375, 259.5372009277344, 257.5361022949219, 255.5312042236328, 253.522705078125, 251.510498046875, 249.49459838867188, 247.47509765625, 245.451904296875, 243.4250030517578, 241.3946075439453, 239.3603057861328, 237.32240295410156, 235.28070068359375, 233.23519897460938, 231.18589782714844, 229.13259887695312, 227.0753936767578, 225.0142059326172, 222.9488067626953, 220.8791961669922, 218.80540466308594, 216.7270965576172, 214.64439392089844, 212.5570068359375, 210.46499633789062, 208.36810302734375, 206.2664031982422, 204.15960693359375, 202.047607421875, 199.93040466308594, 197.8079071044922, 195.67979431152344, 193.54629516601562, 191.40699768066406, 189.26199340820312, 187.11129760742188, 184.95469665527344, 182.79220581054688, 180.6239013671875, 178.44970703125, 176.2696990966797, 174.08399963378906, 171.8927001953125, 169.69590759277344, 167.493896484375, 165.28680419921875, 163.0749969482422, 160.85870361328125, 158.6383056640625, 156.41419982910156, 154.18690490722656, 151.95680236816406, 149.72450256347656, 147.4904022216797, 145.2552032470703, 143.01930236816406], [344.9421081542969, 343.07720947265625, 341.2120056152344, 339.34600830078125, 337.47869873046875, 335.60980224609375, 333.739013671875, 331.86590576171875, 329.9902038574219, 328.1116027832031, 326.22979736328125, 324.3446960449219, 322.4559020996094, 320.5635070800781, 318.6672058105469, 316.7668151855469, 314.8623962402344, 312.95379638671875, 311.0409851074219, 309.1241149902344, 307.2030029296875, 305.277587890625, 303.34820556640625, 301.41461181640625, 299.4768981933594, 297.5353088378906, 295.5896911621094, 293.6402893066406, 291.6871032714844, 289.7301940917969, 287.76971435546875, 285.80560302734375, 283.8381042480469, 281.8671875, 279.89300537109375, 277.91558837890625, 275.93499755859375, 273.9512939453125, 271.964599609375, 269.9750061035156, 267.9823913574219, 265.98699951171875, 263.98870849609375, 261.9877014160156, 259.98388671875, 257.9775085449219, 255.96839904785156, 253.95660400390625, 251.94219970703125, 249.92520141601562, 247.90550231933594, 245.88319396972656, 243.8583984375, 241.83079528808594, 239.8007049560547, 237.7678985595703, 235.73240661621094, 233.69410705566406, 231.65310668945312, 229.6092987060547, 227.5626983642578, 225.5131072998047, 223.46060180664062, 221.4051055908203, 219.3466033935547, 217.28480529785156, 215.2198944091797, 213.15170288085938, 211.0802001953125, 209.0052032470703, 206.92660522460938, 204.84449768066406, 202.75880432128906, 200.66920471191406, 198.57589721679688, 196.47860717773438, 194.3773956298828, 192.2720947265625, 190.1627960205078, 188.0493927001953, 185.93179321289062, 183.80999755859375, 181.68409729003906, 179.5540008544922, 177.4197998046875, 175.28160095214844, 173.139404296875, 170.99339294433594, 168.84359741210938, 166.69020080566406, 164.53359985351562, 162.3737030029297, 160.21099853515625, 158.04580688476562, 155.87820434570312, 153.7086944580078, 151.53759765625, 149.36520385742188, 147.1920928955078, 145.01849365234375], [346.96209716796875, 345.0350036621094, 343.10760498046875, 341.1798095703125, 339.2511901855469, 337.3216857910156, 335.3909912109375, 333.4590148925781, 331.525390625, 329.5902099609375, 327.65301513671875, 325.71380615234375, 323.7724914550781, 321.8290100097656, 319.8832092285156, 317.9349060058594, 315.98419189453125, 314.0310974121094, 312.07550048828125, 310.1174011230469, 308.15679931640625, 306.193603515625, 304.2279968261719, 302.2597961425781, 300.2893981933594, 298.31640625, 296.3411865234375, 294.36358642578125, 292.3837890625, 290.4017028808594, 288.4175109863281, 286.43121337890625, 284.44268798828125, 282.45220947265625, 280.4598083496094, 278.46539306640625, 276.4692077636719, 274.47100830078125, 272.47100830078125, 270.46929931640625, 268.4657897949219, 266.4606018066406, 264.4537048339844, 262.4451904296875, 260.43499755859375, 258.4231872558594, 256.4096984863281, 254.3946990966797, 252.3780975341797, 250.35989379882812, 248.34019470214844, 246.3188018798828, 244.2958984375, 242.27139282226562, 240.2454071044922, 238.2176971435547, 236.1884002685547, 234.1573944091797, 232.1248016357422, 230.09060668945312, 228.05459594726562, 226.0167999267578, 223.977294921875, 221.93600463867188, 219.89280700683594, 217.84779357910156, 215.80079650878906, 213.75180053710938, 211.70089721679688, 209.6479034423828, 207.5926971435547, 205.535400390625, 203.4759063720703, 201.41419982910156, 199.35009765625, 197.28379821777344, 195.21499633789062, 193.143798828125, 191.07020568847656, 188.9940948486328, 186.9156036376953, 184.83450317382812, 182.75100708007812, 180.6649932861328, 178.57650756835938, 176.485595703125, 174.39230346679688, 172.2967987060547, 170.19900512695312, 168.09910583496094, 165.9971923828125, 163.89340209960938, 161.78799438476562, 159.68099975585938, 157.57260131835938, 155.46310424804688, 153.35260009765625, 151.24139404296875, 149.12969970703125, 147.0177001953125], [348.9820861816406, 346.99310302734375, 345.0039978027344, 343.0148010253906, 341.0252990722656, 339.0354919433594, 337.0452880859375, 335.0545959472656, 333.0635070800781, 331.0718078613281, 329.07940673828125, 327.0863952636719, 325.09271240234375, 323.09820556640625, 321.1029968261719, 319.10699462890625, 317.1101989746094, 315.11248779296875, 313.114013671875, 311.11468505859375, 309.114501953125, 307.1134948730469, 305.1116943359375, 303.1091003417969, 301.1055908203125, 299.1014099121094, 297.0964050292969, 295.0906066894531, 293.0840148925781, 291.0766906738281, 289.0686950683594, 287.05999755859375, 285.05059814453125, 283.0404968261719, 281.0296936035156, 279.018310546875, 277.00628662109375, 274.99359130859375, 272.98040771484375, 270.96649169921875, 268.95208740234375, 266.9371032714844, 264.9215087890625, 262.9053955078125, 260.8887023925781, 258.87139892578125, 256.85369873046875, 254.8354034423828, 252.8166046142578, 250.7971954345703, 248.77740478515625, 246.7570037841797, 244.73599243164062, 242.714599609375, 240.69259643554688, 238.67010498046875, 236.64700317382812, 234.62339782714844, 232.59930419921875, 230.57460021972656, 228.5491943359375, 226.52340698242188, 224.4969024658203, 222.4698028564453, 220.44219970703125, 218.41380310058594, 216.38490295410156, 214.35519409179688, 212.3249969482422, 210.29400634765625, 208.26229858398438, 206.2299041748047, 204.1967010498047, 202.1627960205078, 200.12820434570312, 198.0926971435547, 196.05650329589844, 194.01939392089844, 191.98159790039062, 189.94290161132812, 187.9033966064453, 185.86300659179688, 183.82179260253906, 181.77980041503906, 179.73699951171875, 177.6934051513672, 175.6490020751953, 173.6038055419922, 171.55780029296875, 169.51119995117188, 167.46380615234375, 165.4158935546875, 163.36740112304688, 161.3184051513672, 159.26890563964844, 157.218994140625, 155.16879272460938, 153.11830139160156, 151.0677032470703, 149.01699829101562], [351.0021057128906, 348.9513854980469, 346.90069580078125, 344.8501892089844, 342.7998962402344, 340.7499084472656, 338.7002868652344, 336.6510925292969, 334.6025085449219, 332.5544128417969, 330.5069885253906, 328.460205078125, 326.41400146484375, 324.36871337890625, 322.3240966796875, 320.2803039550781, 318.2373962402344, 316.1951904296875, 314.15380859375, 312.1134033203125, 310.0736999511719, 308.0347900390625, 305.9967956542969, 303.9595947265625, 301.9231872558594, 299.8876037597656, 297.8528137207031, 295.81878662109375, 293.785400390625, 291.7528991699219, 289.7210998535156, 287.69000244140625, 285.65960693359375, 283.6297912597656, 281.6007080078125, 279.57220458984375, 277.5444030761719, 275.5172119140625, 273.4906005859375, 271.464599609375, 269.439208984375, 267.4143981933594, 265.3901062011719, 263.36639404296875, 261.34320068359375, 259.3205871582031, 257.2984924316406, 255.27699279785156, 253.2559051513672, 251.2353973388672, 249.21539306640625, 247.1959991455078, 245.177001953125, 243.15859985351562, 241.1407012939453, 239.12339782714844, 237.10659790039062, 235.09030151367188, 233.07460021972656, 231.0594940185547, 229.04490661621094, 227.03089904785156, 225.0175018310547, 223.00469970703125, 220.99249267578125, 218.98089599609375, 216.97000122070312, 214.95970153808594, 212.95010375976562, 210.94119262695312, 208.93299865722656, 206.92550659179688, 204.91879272460938, 202.91270446777344, 200.9073944091797, 198.9029998779297, 196.89930725097656, 194.89639282226562, 192.89430236816406, 190.89300537109375, 188.8925018310547, 186.8928985595703, 184.89410400390625, 182.89610290527344, 180.89889526367188, 178.90249633789062, 176.90679931640625, 174.91200256347656, 172.9178009033203, 170.92430114746094, 168.93150329589844, 166.93930053710938, 164.94760131835938, 162.9564971923828, 160.96580505371094, 158.97540283203125, 156.9853973388672, 154.99549865722656, 153.00579833984375, 151.01620483398438], [353.0221862792969, 350.90948486328125, 348.7970886230469, 346.6852111816406, 344.5740051269531, 342.4635925292969, 340.3544921875, 338.2467956542969, 336.1405029296875, 334.0360107421875, 331.93341064453125, 329.8327941894531, 327.73419189453125, 325.63800048828125, 323.54400634765625, 321.452392578125, 319.3631896972656, 317.276611328125, 315.1924133300781, 313.110595703125, 311.031494140625, 308.9548034667969, 306.880615234375, 304.8088073730469, 302.739501953125, 300.672607421875, 298.6080017089844, 296.5456848144531, 294.4856872558594, 292.4278869628906, 290.372314453125, 288.31878662109375, 286.26739501953125, 284.2179870605469, 282.17059326171875, 280.1252136230469, 278.08160400390625, 276.039794921875, 274.0, 271.9617919921875, 269.9255065917969, 267.89080810546875, 265.85791015625, 263.82659912109375, 261.7969055175781, 259.7688903808594, 257.7424011230469, 255.7176055908203, 253.69439697265625, 251.67269897460938, 249.65260314941406, 247.63409423828125, 245.61709594726562, 243.601806640625, 241.58799743652344, 239.5758056640625, 237.56520080566406, 235.55630493164062, 233.5489959716797, 231.5435028076172, 229.5395965576172, 227.5373992919922, 225.53709411621094, 223.5384979248047, 221.5417938232422, 219.5469970703125, 217.5540008544922, 215.56309509277344, 213.57420349121094, 211.58740234375, 209.60260009765625, 207.6199951171875, 205.6396026611328, 203.66140747070312, 201.6855010986328, 199.71200561523438, 197.7407989501953, 195.77200317382812, 193.80569458007812, 191.841796875, 189.88040161132812, 187.92140197753906, 185.96499633789062, 184.01100158691406, 182.0594024658203, 180.1103057861328, 178.1634979248047, 176.218994140625, 174.27670288085938, 172.33639526367188, 170.398193359375, 168.46180725097656, 166.527099609375, 164.59390258789062, 162.66209411621094, 160.7313995361328, 158.80160522460938, 156.87249755859375, 154.9438934326172, 153.0155029296875], [355.0422058105469, 352.8671875, 350.69268798828125, 348.5190124511719, 346.34649658203125, 344.17559814453125, 342.006591796875, 339.83990478515625, 337.6758117675781, 335.51458740234375, 333.3565979003906, 331.201904296875, 329.0508117675781, 326.90350341796875, 324.760009765625, 322.62060546875, 320.4851989746094, 318.3539123535156, 316.226806640625, 314.1039123535156, 311.9851989746094, 309.8706970214844, 307.7604064941406, 305.65411376953125, 303.5519104003906, 301.4537048339844, 299.3594055175781, 297.2690124511719, 295.1824035644531, 293.0993957519531, 291.0201110839844, 288.9443054199219, 286.87200927734375, 284.8030090332031, 282.7373962402344, 280.67498779296875, 278.6156921386719, 276.5596008300781, 274.50640869140625, 272.4562072753906, 270.40899658203125, 268.3645935058594, 266.3229064941406, 264.2840881347656, 262.24798583984375, 260.214599609375, 258.18389892578125, 256.1557922363281, 254.1302947998047, 252.1074981689453, 250.08729553222656, 248.0697021484375, 246.05470275878906, 244.0424041748047, 242.0325927734375, 240.02560424804688, 238.02130126953125, 236.0196075439453, 234.0207977294922, 232.0247039794922, 230.031494140625, 228.04119873046875, 226.05380249023438, 224.06939697265625, 222.08810424804688, 220.10989379882812, 218.13499450683594, 216.16329956054688, 214.19500732421875, 212.22999572753906, 210.2686004638672, 208.31089782714844, 206.35679626464844, 204.40640258789062, 202.4597930908203, 200.51710510253906, 198.57839965820312, 196.64370727539062, 194.71310424804688, 192.78660583496094, 190.86419677734375, 188.9459991455078, 187.0319061279297, 185.1219940185547, 183.21609497070312, 181.31430053710938, 179.41650390625, 177.52239990234375, 175.63209533691406, 173.7454071044922, 171.8618927001953, 169.98159790039062, 168.10409545898438, 166.2292022705078, 164.35659790039062, 162.4857940673828, 160.61669921875, 158.7487030029297, 156.88160705566406, 155.01480102539062], [357.06219482421875, 354.82440185546875, 352.5870056152344, 350.35089111328125, 348.1164855957031, 345.8843994140625, 343.6549987792969, 341.42889404296875, 339.2065124511719, 336.9881896972656, 334.7744140625, 332.5653991699219, 330.36138916015625, 328.1628112792969, 325.9696044921875, 323.7821044921875, 321.60040283203125, 319.42449951171875, 317.2544860839844, 315.09039306640625, 312.93218994140625, 310.7799987792969, 308.63360595703125, 306.4927978515625, 304.35791015625, 302.2286071777344, 300.1047058105469, 297.9862060546875, 295.87310791015625, 293.7651062011719, 291.6622009277344, 289.564208984375, 287.4710998535156, 285.3828125, 283.29901123046875, 281.2196960449219, 279.1448974609375, 277.07440185546875, 275.0080871582031, 272.9458923339844, 270.8877868652344, 268.8337097167969, 266.7835998535156, 264.7372131347656, 262.6947021484375, 260.656005859375, 258.6210021972656, 256.589599609375, 254.56199645996094, 252.53799438476562, 250.5177001953125, 248.50100708007812, 246.48800659179688, 244.47869873046875, 242.47300720214844, 240.47109985351562, 238.472900390625, 236.47850036621094, 234.48800659179688, 232.50140380859375, 230.51870727539062, 228.54010009765625, 226.5655975341797, 224.59530639648438, 222.62930297851562, 220.66769409179688, 218.71060180664062, 216.75799560546875, 214.81019592285156, 212.86709594726562, 210.9290008544922, 208.9958953857422, 207.06790161132812, 205.14520263671875, 203.22779846191406, 201.31590270996094, 199.40960693359375, 197.50889587402344, 195.61390686035156, 193.72470092773438, 191.84129333496094, 189.96380615234375, 188.09219360351562, 186.22630310058594, 184.36630249023438, 182.51199340820312, 180.66319274902344, 178.82000732421875, 176.98190307617188, 175.14889526367188, 173.3206024169922, 171.49679565429688, 169.677001953125, 167.8607940673828, 166.0478973388672, 164.23779296875, 162.42990112304688, 160.6237030029297, 158.818603515625, 157.01409912109375], [359.0823059082031, 356.7804870605469, 354.4794921875, 352.17999267578125, 349.8828125, 347.5885925292969, 345.298095703125, 343.0118103027344, 340.7304992675781, 338.4544982910156, 336.18438720703125, 333.92059326171875, 331.66339111328125, 329.4132080078125, 327.17010498046875, 324.93438720703125, 322.7062072753906, 320.485595703125, 318.2726135253906, 316.0674133300781, 313.86981201171875, 311.6798095703125, 309.4974060058594, 307.3223876953125, 305.15478515625, 302.9945068359375, 300.8411865234375, 298.69488525390625, 296.5553894042969, 294.422607421875, 292.2962951660156, 290.1763916015625, 288.0625915527344, 285.9549865722656, 283.8533020019531, 281.75738525390625, 279.6671142578125, 277.5823974609375, 275.50299072265625, 273.4289855957031, 271.3601989746094, 269.2966003417969, 267.2379150390625, 265.1842041015625, 263.1354064941406, 261.0914001464844, 259.0520935058594, 257.0176086425781, 254.98779296875, 252.96270751953125, 250.94219970703125, 248.92649841308594, 246.9154052734375, 244.90899658203125, 242.9073944091797, 240.91050720214844, 238.91839599609375, 236.9311981201172, 234.9488983154297, 232.9716033935547, 230.99940490722656, 229.0323944091797, 227.07069396972656, 225.1143035888672, 223.1634979248047, 221.21820068359375, 219.27879333496094, 217.34519958496094, 215.4176025390625, 213.49620056152344, 211.58120727539062, 209.672607421875, 207.77059936523438, 205.87530517578125, 203.98699951171875, 202.10569763183594, 200.23159790039062, 198.36480712890625, 196.50540161132812, 194.6533966064453, 192.8090057373047, 190.97219848632812, 189.14300537109375, 187.32139587402344, 185.50729370117188, 183.7006072998047, 181.9011993408203, 180.10899353027344, 178.32359313964844, 176.5447998046875, 174.77220153808594, 173.00540161132812, 171.243896484375, 169.4873046875, 167.73489379882812, 165.98609924316406, 164.24029541015625, 162.49679565429688, 160.75469970703125, 159.01339721679688], [361.102294921875, 358.73541259765625, 356.369384765625, 354.0054931640625, 351.6444091796875, 349.2869873046875, 346.9342956542969, 344.5870056152344, 342.24578857421875, 339.9114074707031, 337.58428955078125, 335.2651062011719, 332.9541931152344, 330.6520080566406, 328.3586120605469, 326.0744934082031, 323.7997131347656, 321.5343017578125, 319.2784118652344, 317.0320129394531, 314.7950134277344, 312.5675048828125, 310.3492126464844, 308.1401062011719, 305.9400939941406, 303.7489013671875, 301.5664978027344, 299.3926086425781, 297.22698974609375, 295.0696105957031, 292.92010498046875, 290.7784118652344, 288.6444091796875, 286.5177001953125, 284.398193359375, 282.2857971191406, 280.1803894042969, 278.08160400390625, 275.989501953125, 273.90380859375, 271.82440185546875, 269.7513122558594, 267.6842956542969, 265.623291015625, 263.5682067871094, 261.5190124511719, 259.4755859375, 257.43798828125, 255.406005859375, 253.3798065185547, 251.3592987060547, 249.3444061279297, 247.335205078125, 245.33180236816406, 243.33399963378906, 241.34210205078125, 239.3560028076172, 237.3759002685547, 235.40170288085938, 233.43359375, 231.4718017578125, 229.51620483398438, 227.56700134277344, 225.62440490722656, 223.6885986328125, 221.75950622558594, 219.83749389648438, 217.922607421875, 216.01510620117188, 214.11520385742188, 212.222900390625, 210.33859252929688, 208.46229553222656, 206.5944061279297, 204.73480224609375, 202.88400268554688, 201.04190063476562, 199.20880126953125, 197.38479614257812, 195.57000732421875, 193.764404296875, 191.9683074951172, 190.1815948486328, 188.40420532226562, 186.63619995117188, 184.87750244140625, 183.1278076171875, 181.38690185546875, 179.65469360351562, 177.93060302734375, 176.21429443359375, 174.50540161132812, 172.8031005859375, 171.10690307617188, 169.41600036621094, 167.72970581054688, 166.04710388183594, 164.36740112304688, 162.68960571289062, 161.0126953125], [363.122314453125, 360.6886901855469, 358.25628662109375, 355.8262939453125, 353.3998107910156, 350.9779968261719, 348.5617980957031, 346.1521911621094, 343.7500915527344, 341.3562927246094, 338.97149658203125, 336.59619140625, 334.2309875488281, 331.8763122558594, 329.53240966796875, 327.1995849609375, 324.87799072265625, 322.56768798828125, 320.268798828125, 317.9812927246094, 315.7051086425781, 313.4400939941406, 311.1861877441406, 308.9432067871094, 306.71099853515625, 304.4894104003906, 302.27801513671875, 300.0768127441406, 297.8854064941406, 295.7037048339844, 293.5314025878906, 291.3682861328125, 289.214111328125, 287.0686950683594, 284.9317932128906, 282.8031921386719, 280.68280029296875, 278.5701904296875, 276.46551513671875, 274.3682861328125, 272.2785949707031, 270.1961975097656, 268.1210021972656, 266.05279541015625, 263.9916076660156, 261.9372863769531, 259.8898010253906, 257.8490905761719, 255.81509399414062, 253.7877960205078, 251.76710510253906, 249.7530975341797, 247.7458038330078, 245.7451934814453, 243.75140380859375, 241.76429748535156, 239.78419494628906, 237.81089782714844, 235.8448028564453, 233.8856964111328, 231.9340057373047, 229.98959350585938, 228.05279541015625, 226.1237030029297, 224.20260620117188, 222.28939819335938, 220.3845977783203, 218.4882049560547, 216.60049438476562, 214.7216033935547, 212.85189819335938, 210.99159240722656, 209.1407012939453, 207.29969787597656, 205.4687957763672, 203.6479949951172, 201.83770751953125, 200.03810119628906, 198.24929809570312, 196.47140502929688, 194.70469665527344, 192.94920349121094, 191.2050018310547, 189.4720001220703, 187.75030517578125, 186.03970336914062, 184.33999633789062, 182.65109252929688, 180.97250366210938, 179.30389404296875, 177.64480590820312, 175.9945068359375, 174.3524932861328, 172.71780395507812, 171.0897979736328, 169.46730041503906, 167.84939575195312, 166.23500061035156, 164.62289428710938, 163.01199340820312], [365.1423034667969, 362.6401062011719, 360.1393127441406, 357.6413879394531, 355.1477966308594, 352.6597900390625, 350.1785888671875, 347.7052917480469, 345.2410888671875, 342.78680419921875, 340.34320068359375, 337.9111022949219, 335.49090576171875, 333.08319091796875, 330.6883850097656, 328.3066101074219, 325.93798828125, 323.5827941894531, 321.24090576171875, 318.91241455078125, 316.59710693359375, 314.2948913574219, 312.005615234375, 309.72900390625, 307.46490478515625, 305.2131042480469, 302.97320556640625, 300.7449951171875, 298.5281982421875, 296.3226013183594, 294.1278076171875, 291.9436950683594, 289.7698059082031, 287.6059875488281, 285.451904296875, 283.3074951171875, 281.1723937988281, 279.0462951660156, 276.92919921875, 274.82080078125, 272.72100830078125, 270.62939453125, 268.54620361328125, 266.47100830078125, 264.4039001464844, 262.3446044921875, 260.2930908203125, 258.2493896484375, 256.2134094238281, 254.18499755859375, 252.16419982910156, 250.15109252929688, 248.14559936523438, 246.14779663085938, 244.15780639648438, 242.17539978027344, 240.2010040283203, 238.23460388183594, 236.2761993408203, 234.3260040283203, 232.3842010498047, 230.4508056640625, 228.5261993408203, 226.6103057861328, 224.70359802246094, 222.80599975585938, 220.91799926757812, 219.039794921875, 217.17149353027344, 215.3134002685547, 213.46580505371094, 211.6291046142578, 209.80340576171875, 207.98890686035156, 206.18609619140625, 204.39520263671875, 202.61639404296875, 200.8498992919922, 199.09609985351562, 197.35499572753906, 195.6269989013672, 193.91200256347656, 192.210205078125, 190.52169799804688, 188.84640502929688, 187.1842041015625, 185.53500366210938, 183.89840698242188, 182.27420043945312, 180.66189575195312, 179.06080627441406, 177.4705047607422, 175.889892578125, 174.31820678710938, 172.75439453125, 171.19740295410156, 169.64599609375, 168.09869384765625, 166.55430603027344, 165.0113983154297], [367.16241455078125, 364.5892028808594, 362.0177001953125, 359.4495849609375, 356.8868103027344, 354.33050537109375, 351.7825012207031, 349.243896484375, 346.7160949707031, 344.20001220703125, 341.69659423828125, 339.20660400390625, 336.7308044433594, 334.2695007324219, 331.8232116699219, 329.3922119140625, 326.97650146484375, 324.5762939453125, 322.1914978027344, 319.8221130371094, 317.4679870605469, 315.1288146972656, 312.80450439453125, 310.4945983886719, 308.1990966796875, 305.9175109863281, 303.6495056152344, 301.3948059082031, 299.1531066894531, 296.92401123046875, 294.70721435546875, 292.5024108886719, 290.3092041015625, 288.1274108886719, 285.9566955566406, 283.79669189453125, 281.6471862792969, 279.50799560546875, 277.37890625, 275.2596130371094, 273.1498107910156, 271.04949951171875, 268.9584045410156, 266.87640380859375, 264.80340576171875, 262.7392883300781, 260.6839904785156, 258.6372985839844, 256.59930419921875, 254.56979370117188, 252.5489959716797, 250.5366973876953, 248.5330047607422, 246.53790283203125, 244.55149841308594, 242.5738983154297, 240.6051025390625, 238.64520263671875, 236.69439697265625, 234.75289916992188, 232.82069396972656, 230.89810180664062, 228.98519897460938, 227.08230590820312, 225.18960571289062, 223.30740356445312, 221.43580627441406, 219.5751953125, 217.7259063720703, 215.88819885253906, 214.06239318847656, 212.24879455566406, 210.44760131835938, 208.65939331054688, 206.8843994140625, 205.122802734375, 203.375, 201.6414031982422, 199.9221954345703, 198.2176971435547, 196.5279998779297, 194.85350036621094, 193.19419860839844, 191.5500946044922, 189.92140197753906, 188.3079071044922, 186.70950317382812, 185.1259002685547, 183.55679321289062, 182.00160217285156, 180.4597930908203, 178.9304962158203, 177.41290283203125, 175.90589904785156, 174.408203125, 172.918701171875, 171.43580627441406, 169.95790100097656, 168.4833984375, 167.0106964111328], [369.1824035644531, 366.535400390625, 363.8904113769531, 361.2496032714844, 358.6148986816406, 355.9881896972656, 353.37109375, 350.76519775390625, 348.1719970703125, 345.59271240234375, 343.0281982421875, 340.4794006347656, 337.9469909667969, 335.4316101074219, 332.9335021972656, 330.4529113769531, 327.989990234375, 325.5447998046875, 323.1173095703125, 320.7073059082031, 318.3146057128906, 315.9388122558594, 313.57989501953125, 311.2373046875, 308.9107971191406, 306.6000061035156, 304.3044128417969, 302.0238037109375, 299.7575988769531, 297.505615234375, 295.2673034667969, 293.04229736328125, 290.8304138183594, 288.6310119628906, 286.4440002441406, 284.2690124511719, 282.1055908203125, 279.95361328125, 277.81280517578125, 275.68280029296875, 273.5633850097656, 271.4544982910156, 269.35589599609375, 267.2673034667969, 265.1886901855469, 263.1199035644531, 261.060791015625, 259.0111999511719, 256.9713134765625, 254.9407958984375, 252.91990661621094, 250.9084014892578, 248.906494140625, 246.91400146484375, 244.9311981201172, 242.95799255371094, 240.9947052001953, 239.04119873046875, 237.09779357910156, 235.1645965576172, 233.24180603027344, 231.32960510253906, 229.42820739746094, 227.5377960205078, 225.65879821777344, 223.79139709472656, 221.93580627441406, 220.09249877929688, 218.2617950439453, 216.4438934326172, 214.6392059326172, 212.84820556640625, 211.07119750976562, 209.30859375, 207.56080627441406, 205.82809448242188, 204.11099243164062, 202.40969848632812, 200.72470092773438, 199.05630493164062, 197.40480041503906, 195.77040100097656, 194.1533966064453, 192.55380249023438, 190.97169494628906, 189.40719604492188, 187.860107421875, 186.33009338378906, 184.81689453125, 183.3199005126953, 181.8385009765625, 180.37179565429688, 178.91879272460938, 177.4783935546875, 176.0489959716797, 174.62930297851562, 173.2174072265625, 171.81149291992188, 170.40980529785156, 169.01010131835938], [371.202392578125, 368.47821044921875, 365.7565002441406, 363.039794921875, 360.3302001953125, 357.63018798828125, 354.94158935546875, 352.2662048339844, 349.605712890625, 346.9613952636719, 344.33441162109375, 341.7257995605469, 339.135986328125, 336.5657958984375, 334.0154113769531, 331.4851989746094, 328.9750061035156, 326.4849853515625, 324.014892578125, 321.5646057128906, 319.13360595703125, 316.7218933105469, 314.32879638671875, 311.9540100097656, 309.5971984863281, 307.2576904296875, 304.9352111816406, 302.6293029785156, 300.33929443359375, 298.06500244140625, 295.8057861328125, 293.5613098144531, 291.3310852050781, 289.11480712890625, 286.9119873046875, 284.722412109375, 282.5455017089844, 280.3811950683594, 278.2290954589844, 276.08880615234375, 273.960205078125, 271.8429870605469, 269.7370910644531, 267.6422119140625, 265.55810546875, 263.48480224609375, 261.4219970703125, 259.36981201171875, 257.3280029296875, 255.29660034179688, 253.27560424804688, 251.26480102539062, 249.2646026611328, 247.27459716796875, 245.29519653320312, 243.32640075683594, 241.36830139160156, 239.42100524902344, 237.4846954345703, 235.55960083007812, 233.6457977294922, 231.7436065673828, 229.85330200195312, 227.97500610351562, 226.1092071533203, 224.25619506835938, 222.41619873046875, 220.589599609375, 218.77679443359375, 216.9781951904297, 215.19419860839844, 213.42520141601562, 211.67160034179688, 209.9340057373047, 208.21279907226562, 206.50830078125, 204.82119750976562, 203.15170288085938, 201.50039672851562, 199.86770629882812, 198.25390625, 196.65939331054688, 195.0843963623047, 193.52920532226562, 191.99380493164062, 190.47850036621094, 188.98300170898438, 187.5072021484375, 186.0507049560547, 184.61300659179688, 183.1934051513672, 181.79100036621094, 180.40460205078125, 179.03289794921875, 177.67430114746094, 176.3271026611328, 174.98919677734375, 173.65859985351562, 172.33270263671875, 171.0093994140625], [373.222412109375, 370.4169921875, 367.61468505859375, 364.8182067871094, 362.0303955078125, 359.2538146972656, 356.4906921386719, 353.7431945800781, 351.0132141113281, 348.3020935058594, 345.6112060546875, 342.94140625, 340.2934875488281, 337.66790771484375, 335.06500244140625, 332.4848937988281, 329.9276123046875, 327.3929138183594, 324.880615234375, 322.3904113769531, 319.9219055175781, 317.4747009277344, 315.0481872558594, 312.64190673828125, 310.2554016113281, 307.8880920410156, 305.5393981933594, 303.2088928222656, 300.8959045410156, 298.6000061035156, 296.32049560546875, 294.05718994140625, 291.80938720703125, 289.5766906738281, 287.3587951660156, 285.15509033203125, 282.9653015136719, 280.7890930175781, 278.6260986328125, 276.47601318359375, 274.3385925292969, 272.2135009765625, 270.1005859375, 267.99951171875, 265.9101867675781, 263.8326110839844, 261.7663879394531, 259.71148681640625, 257.6679992675781, 255.63560485839844, 253.61439514160156, 251.60450744628906, 249.60580444335938, 247.61839294433594, 245.64219665527344, 243.67759704589844, 241.72450256347656, 239.78309631347656, 237.85360717773438, 235.9362030029297, 234.03109741210938, 232.1385040283203, 230.25880432128906, 228.39219665527344, 226.53919982910156, 224.6999053955078, 222.8748016357422, 221.06430053710938, 219.268798828125, 217.48880004882812, 215.72479248046875, 213.9770965576172, 212.24639892578125, 210.5330047607422, 208.8376007080078, 207.16070556640625, 205.5028076171875, 203.864501953125, 202.24620056152344, 200.64849853515625, 199.0718994140625, 197.51669311523438, 195.98350524902344, 194.47239685058594, 192.98370361328125, 191.5177001953125, 190.07420349121094, 188.65310668945312, 187.2541961669922, 185.8769073486328, 184.52059936523438, 183.1842041015625, 181.86659240722656, 180.56619262695312, 179.28140258789062, 178.00990295410156, 176.74949645996094, 175.49769592285156, 174.25169372558594, 173.00869750976562], [375.2423095703125, 372.35101318359375, 369.4634094238281, 366.58270263671875, 363.71240234375, 360.85540771484375, 358.01458740234375, 355.19219970703125, 352.39019775390625, 349.61029052734375, 346.8539123535156, 344.1217956542969, 341.4148864746094, 338.7333984375, 336.0777893066406, 333.44781494140625, 330.8435974121094, 328.26458740234375, 325.710693359375, 323.1813049316406, 320.6759033203125, 318.1940002441406, 315.7348937988281, 313.2980041503906, 310.8828125, 308.4884033203125, 306.114501953125, 303.76019287109375, 301.42498779296875, 299.1081848144531, 296.80938720703125, 294.52789306640625, 292.2633056640625, 290.0150146484375, 287.7825012207031, 285.5653991699219, 283.3633117675781, 281.1758117675781, 279.0024108886719, 276.8428955078125, 274.6969909667969, 272.56439208984375, 270.4447021484375, 268.337890625, 266.24359130859375, 264.1618957519531, 262.0924072265625, 260.0350036621094, 257.98980712890625, 255.9564971923828, 253.935302734375, 251.9261016845703, 249.92889404296875, 247.9438018798828, 245.97079467773438, 244.00999450683594, 242.06170654296875, 240.12600708007812, 238.2030029296875, 236.2928924560547, 234.39610290527344, 232.51280212402344, 230.64320373535156, 228.7877960205078, 226.94679260253906, 225.12069702148438, 223.30990600585938, 221.514892578125, 219.73599243164062, 217.9738006591797, 216.22889709472656, 214.50180053710938, 212.7928924560547, 211.10299682617188, 209.43260192871094, 207.7823944091797, 206.15289306640625, 204.5447998046875, 202.95880126953125, 201.39540100097656, 199.85519409179688, 198.33880615234375, 196.8468017578125, 195.37939453125, 193.93719482421875, 192.52040100097656, 191.1291046142578, 189.7633056640625, 188.4228057861328, 187.1071014404297, 185.8155975341797, 184.5471954345703, 183.30079650878906, 182.07460021972656, 180.86669921875, 179.67469787597656, 178.49600219726562, 177.32749938964844, 176.16600036621094, 175.00799560546875], [377.2622985839844, 374.279296875, 371.30059814453125, 368.33050537109375, 365.372802734375, 362.43121337890625, 359.5086975097656, 356.6080017089844, 353.73150634765625, 350.8807067871094, 348.05718994140625, 345.2618103027344, 342.4950866699219, 339.75750732421875, 337.04901123046875, 334.369384765625, 331.7185974121094, 329.09600830078125, 326.5011901855469, 323.93341064453125, 321.3919982910156, 318.87640380859375, 316.3857116699219, 313.919189453125, 311.4761962890625, 309.0559997558594, 306.65771484375, 304.2806091308594, 301.9241943359375, 299.58758544921875, 297.2702941894531, 294.9715881347656, 292.6907958984375, 290.4276123046875, 288.181396484375, 285.95159912109375, 283.7377014160156, 281.5393981933594, 279.3562927246094, 277.1878967285156, 275.03399658203125, 272.8941955566406, 270.7681884765625, 268.656005859375, 266.5570068359375, 264.4713134765625, 262.3987121582031, 260.3389892578125, 258.2922058105469, 256.2580871582031, 254.23680114746094, 252.2281951904297, 250.2324981689453, 248.24960327148438, 246.2794952392578, 244.32260131835938, 242.37879943847656, 240.44830322265625, 238.53140258789062, 236.62840270996094, 234.7393035888672, 232.8647003173828, 231.0048065185547, 229.15989685058594, 227.3303985595703, 225.51690673828125, 223.71969604492188, 221.93930053710938, 220.1761932373047, 218.4311065673828, 216.70440673828125, 214.99679565429688, 213.3090057373047, 211.64149475097656, 209.9951934814453, 208.37060546875, 206.76849365234375, 205.18960571289062, 203.63479614257812, 202.10479736328125, 200.60009765625, 199.1217041015625, 197.67010498046875, 196.2458953857422, 194.84979248046875, 193.48199462890625, 192.14300537109375, 190.83270263671875, 189.55130004882812, 188.2982940673828, 187.0731964111328, 185.87489318847656, 184.70230102539062, 183.55349731445312, 182.42640686035156, 181.31820678710938, 180.2259063720703, 179.14599609375, 178.07449340820312, 177.00729370117188], [379.2821960449219, 376.2005920410156, 373.12420654296875, 370.0581970214844, 367.00738525390625, 363.97601318359375, 360.9674987792969, 357.985107421875, 355.0310974121094, 352.1072998046875, 349.215087890625, 346.35540771484375, 343.5284118652344, 340.7344970703125, 337.973388671875, 335.24481201171875, 332.548095703125, 329.8828125, 327.24798583984375, 324.6429138183594, 322.06671142578125, 319.5185852050781, 316.99749755859375, 314.5025939941406, 312.0331115722656, 309.5880126953125, 307.1665954589844, 304.76800537109375, 302.39129638671875, 300.0360107421875, 297.70111083984375, 295.3861083984375, 293.0902099609375, 290.81298828125, 288.5538024902344, 286.3118896484375, 284.08709716796875, 281.87860107421875, 279.6863098144531, 277.5096130371094, 275.34820556640625, 273.20159912109375, 271.0697937011719, 268.952392578125, 266.8489990234375, 264.75970458984375, 262.6842041015625, 260.6221923828125, 258.57391357421875, 256.5390930175781, 254.5177001953125, 252.50979614257812, 250.51539611816406, 248.5345001220703, 246.56719970703125, 244.61380004882812, 242.6741943359375, 240.7487030029297, 238.8376007080078, 236.9409942626953, 235.0594024658203, 233.19290161132812, 231.3419952392578, 229.5070037841797, 227.6884002685547, 225.88670349121094, 224.102294921875, 222.335693359375, 220.5876007080078, 218.85850524902344, 217.1490936279297, 215.46009826660156, 213.79220581054688, 212.14599609375, 210.5225067138672, 208.92239379882812, 207.34649658203125, 205.79580688476562, 204.27099609375, 202.7729949951172, 201.30279541015625, 199.86129760742188, 198.44920349121094, 197.0673065185547, 195.7165069580078, 194.3972930908203, 193.11019897460938, 191.85569763183594, 190.63380432128906, 189.4445037841797, 188.28729248046875, 187.1613006591797, 186.0653076171875, 184.99749755859375, 183.9553985595703, 182.93609619140625, 181.93600463867188, 180.95089721679688, 179.97610473632812, 179.00650024414062], [381.30218505859375, 378.1133117675781, 374.9309997558594, 371.7615966796875, 368.6108093261719, 365.4836120605469, 362.3843994140625, 359.3161926269531, 356.28179931640625, 353.2829895019531, 350.32080078125, 347.3959045410156, 344.50860595703125, 341.6585998535156, 338.84539794921875, 336.068603515625, 333.32708740234375, 330.6202087402344, 327.9468078613281, 325.3057861328125, 322.6961975097656, 320.11700439453125, 317.56689453125, 315.04510498046875, 312.5505065917969, 310.0820007324219, 307.6387023925781, 305.21978759765625, 302.8241882324219, 300.4512023925781, 298.09991455078125, 295.76959228515625, 293.4595947265625, 291.1693115234375, 288.89788818359375, 286.6449890136719, 284.4097900390625, 282.1919860839844, 279.9910888671875, 277.80670166015625, 275.6382141113281, 273.4855041503906, 271.34820556640625, 269.22601318359375, 267.11859130859375, 265.0257873535156, 262.9476013183594, 260.88360595703125, 258.8338928222656, 256.79840087890625, 254.7769012451172, 252.7696075439453, 250.77639770507812, 248.79739379882812, 246.83270263671875, 244.88250732421875, 242.9468994140625, 241.0260009765625, 239.1201934814453, 237.22979736328125, 235.3549041748047, 233.49609375, 231.65359497070312, 229.8278045654297, 228.01930236816406, 226.22850036621094, 224.45599365234375, 222.702392578125, 220.96820068359375, 219.2541961669922, 217.56100463867188, 215.88929748535156, 214.24009704589844, 212.61399841308594, 211.01210021972656, 209.4351043701172, 207.88409423828125, 206.35989379882812, 204.86380004882812, 203.3966064453125, 201.9593963623047, 200.5532989501953, 199.1793975830078, 197.83859252929688, 196.5321044921875, 195.26060485839844, 194.02499389648438, 192.8260040283203, 191.6638946533203, 190.53900146484375, 189.4510040283203, 188.39939880371094, 187.38290405273438, 186.39990234375, 185.44769287109375, 184.5229949951172, 183.62179565429688, 182.73910522460938, 181.8690948486328, 181.00570678710938], [383.3221130371094, 380.0152893066406, 376.7170104980469, 373.434814453125, 370.1759948730469, 366.9464111328125, 363.7508850097656, 360.5929870605469, 357.4753112792969, 354.3994140625, 351.3662109375, 348.3760070800781, 345.42840576171875, 342.52301025390625, 339.65899658203125, 336.835205078125, 334.0504150390625, 331.3034973144531, 328.59320068359375, 325.9179992675781, 323.27679443359375, 320.668212890625, 318.0909118652344, 315.5437927246094, 313.0256042480469, 310.5353088378906, 308.0716857910156, 305.6337890625, 303.2206115722656, 300.8312072753906, 298.4648132324219, 296.1203918457031, 293.7973937988281, 291.4949951171875, 289.21240234375, 286.9491882324219, 284.70458984375, 282.47821044921875, 280.2694091796875, 278.0777893066406, 275.90301513671875, 273.7445983886719, 271.6022033691406, 269.4755859375, 267.3644104003906, 265.2685852050781, 263.18780517578125, 261.12200927734375, 259.07110595703125, 257.0347900390625, 255.0133056640625, 253.00660705566406, 251.01449584960938, 249.03720092773438, 247.0749969482422, 245.12770080566406, 243.1956024169922, 241.2790985107422, 239.37820434570312, 237.49330139160156, 235.62469482421875, 233.77279663085938, 231.93800354003906, 230.1208038330078, 228.32150268554688, 226.5408935546875, 224.77940368652344, 223.03759765625, 221.31629943847656, 219.61619567871094, 217.93800354003906, 216.28250122070312, 214.65060424804688, 213.04319763183594, 211.4613037109375, 209.906005859375, 208.37820434570312, 206.87899780273438, 205.40980529785156, 203.9716033935547, 202.56570434570312, 201.1934051513672, 199.85609436035156, 198.55479431152344, 197.29110717773438, 196.06610107421875, 194.8809051513672, 193.73660278320312, 192.63409423828125, 191.5738067626953, 190.5561065673828, 189.58070373535156, 188.6466064453125, 187.7523956298828, 186.89549255371094, 186.07220458984375, 185.27789306640625, 184.50669860839844, 183.75160217285156, 183.00489807128906], [385.3418884277344, 381.90380859375, 378.4765930175781, 375.07049560546875, 371.6940002441406, 368.35430908203125, 365.05670166015625, 361.8049011230469, 358.6011962890625, 355.4468994140625, 352.34228515625, 349.2869873046875, 346.2803039550781, 343.3208923339844, 340.4075927734375, 337.5386962890625, 334.71270751953125, 331.9278869628906, 329.1827087402344, 326.4754943847656, 323.8046875, 321.1687927246094, 318.5661926269531, 315.9956970214844, 313.4559020996094, 310.9454040527344, 308.4631042480469, 306.0079040527344, 303.5787048339844, 301.1744079589844, 298.7940979003906, 296.4367980957031, 294.1018981933594, 291.78851318359375, 289.49578857421875, 287.22320556640625, 284.9700927734375, 282.7358093261719, 280.5199890136719, 278.3218994140625, 276.14129638671875, 273.9776916503906, 271.830810546875, 269.7001953125, 267.585693359375, 265.48699951171875, 263.40399169921875, 261.33648681640625, 259.2843933105469, 257.2475891113281, 255.2259979248047, 253.21969604492188, 251.22869873046875, 249.2530059814453, 247.2928009033203, 245.34829711914062, 243.41949462890625, 241.50680541992188, 239.6103057861328, 237.73049926757812, 235.8675994873047, 234.02200317382812, 232.19419860839844, 230.3845977783203, 228.5937957763672, 226.82240295410156, 225.07080078125, 223.33990478515625, 221.6302947998047, 219.9427947998047, 218.27830505371094, 216.6374969482422, 215.02149963378906, 213.43130493164062, 211.8677978515625, 210.33230590820312, 208.8260040283203, 207.35000610351562, 205.90570068359375, 204.4945068359375, 203.11790466308594, 201.7772979736328, 200.47439575195312, 199.21060180664062, 197.98770141601562, 196.8072052001953, 195.67080688476562, 194.57989501953125, 193.53599548339844, 192.5399932861328, 191.59300231933594, 190.69509887695312, 189.84620666503906, 189.0447998046875, 188.2888946533203, 187.57460021972656, 186.89669799804688, 186.24830627441406, 185.62069702148438, 185.00399780273438], [387.3617858886719, 383.7748107910156, 380.2025146484375, 376.658203125, 373.1527099609375, 369.6943054199219, 366.2886047363281, 362.9390869140625, 359.6476135253906, 356.414306640625, 353.2388000488281, 350.11981201171875, 347.0556945800781, 344.0445861816406, 341.08441162109375, 338.1730041503906, 335.30841064453125, 332.4884033203125, 329.71099853515625, 326.97430419921875, 324.2763977050781, 321.6155090332031, 318.989990234375, 316.398193359375, 313.8387145996094, 311.30999755859375, 308.8110046386719, 306.3402099609375, 303.8963928222656, 301.4787902832031, 299.08599853515625, 296.7174072265625, 294.3717956542969, 292.0486145019531, 289.7467956542969, 287.4659118652344, 285.2052001953125, 282.9638977050781, 280.74169921875, 278.53790283203125, 276.35211181640625, 274.18389892578125, 272.03289794921875, 269.8988037109375, 267.7814025878906, 265.6802062988281, 263.59521484375, 261.5262145996094, 259.4731140136719, 257.4356994628906, 255.41409301757812, 253.408203125, 251.41810607910156, 249.4438934326172, 247.485595703125, 245.54339599609375, 243.61749267578125, 241.7082061767578, 239.81570434570312, 237.9403076171875, 236.0823974609375, 234.24249267578125, 232.4208984375, 230.61819458007812, 228.83489990234375, 227.07159423828125, 225.32899475097656, 223.60780334472656, 221.90859985351562, 220.2324981689453, 218.5802001953125, 216.95260620117188, 215.3509063720703, 213.7760009765625, 212.2292022705078, 210.71170043945312, 209.22470092773438, 207.76980590820312, 206.34820556640625, 204.96170043945312, 203.6118927001953, 202.30050659179688, 201.02940368652344, 199.80050659179688, 198.6157989501953, 197.477294921875, 196.38720703125, 195.34750366210938, 194.3603057861328, 193.42739868164062, 192.55050659179688, 191.73080444335938, 190.9687042236328, 190.26400756835938, 189.61500549316406, 189.01820373535156, 188.46800231933594, 187.95640563964844, 187.47239685058594, 187.0030059814453], [389.3815002441406, 385.62200927734375, 381.88330078125, 378.1831970214844, 374.535400390625, 370.9491882324219, 367.4298095703125, 363.9798889160156, 360.59979248046875, 357.28851318359375, 354.04400634765625, 350.864013671875, 347.74560546875, 344.6860046386719, 341.6824035644531, 338.73199462890625, 335.83209228515625, 332.9801025390625, 330.1737060546875, 327.410400390625, 324.68829345703125, 322.0050964355469, 319.35919189453125, 316.74859619140625, 314.17181396484375, 311.6271057128906, 309.1131896972656, 306.62860107421875, 304.1722106933594, 301.7427978515625, 299.3392028808594, 296.96051025390625, 294.605712890625, 292.2738952636719, 289.96429443359375, 287.67608642578125, 285.4085998535156, 283.1614074707031, 280.93359375, 278.72479248046875, 276.53460693359375, 274.3623962402344, 272.2077941894531, 270.0707092285156, 267.9505920410156, 265.8472900390625, 263.7605895996094, 261.6903076171875, 259.6361999511719, 257.598388671875, 255.57679748535156, 253.57130432128906, 251.58200073242188, 249.60899353027344, 247.6522979736328, 245.7122039794922, 243.78880310058594, 241.8824005126953, 239.99339294433594, 238.1219024658203, 236.26840209960938, 234.4333953857422, 232.61720275878906, 230.82040405273438, 229.043701171875, 227.28759765625, 225.55270385742188, 223.83990478515625, 222.14999389648438, 220.48370361328125, 218.84210205078125, 217.2261962890625, 215.63699340820312, 214.0756072998047, 212.54339599609375, 211.0417022705078, 209.5718994140625, 208.135498046875, 206.7342071533203, 205.3697052001953, 204.04379272460938, 202.75869750976562, 201.51629638671875, 200.31900024414062, 199.16920471191406, 198.06939697265625, 197.02220153808594, 196.0303955078125, 195.09689331054688, 194.22450256347656, 193.41580200195312, 192.67320251464844, 191.99879455566406, 191.39349365234375, 190.85690307617188, 190.3865966796875, 189.97720336914062, 189.6197052001953, 189.30039978027344, 189.00180053710938], [391.4010925292969, 387.4356994628906, 383.5015869140625, 379.6238098144531, 375.81890869140625, 372.09600830078125, 368.4590148925781, 364.9079895019531, 361.44110107421875, 358.0548095703125, 354.7453918457031, 351.5086975097656, 348.3406066894531, 345.2372131347656, 342.1947021484375, 339.2095031738281, 336.27850341796875, 333.39849853515625, 330.56658935546875, 327.7803039550781, 325.0372009277344, 322.3348083496094, 319.6712951660156, 317.0445861816406, 314.4527893066406, 311.8945007324219, 309.3680114746094, 306.8717041015625, 304.40460205078125, 301.9652099609375, 299.5523986816406, 297.16510009765625, 294.8023986816406, 292.4634094238281, 290.1470947265625, 287.8528137207031, 285.5798034667969, 283.3273010253906, 281.09490966796875, 278.88189697265625, 276.68780517578125, 274.5122985839844, 272.35479736328125, 270.215087890625, 268.0928039550781, 265.98760986328125, 263.8995056152344, 261.8280944824219, 259.7732849121094, 257.735107421875, 255.71339416503906, 253.7082061767578, 251.7196044921875, 249.7476043701172, 247.79229736328125, 245.85400390625, 243.9326934814453, 242.02879333496094, 240.14259338378906, 238.27450561523438, 236.42469787597656, 234.5937957763672, 232.78219604492188, 230.99049377441406, 229.2191925048828, 227.46910095214844, 225.7407989501953, 224.0352020263672, 222.35299682617188, 220.69509887695312, 219.06260681152344, 217.4564971923828, 215.8780059814453, 214.3282012939453, 212.8083953857422, 211.32029724121094, 209.86520385742188, 208.4447021484375, 207.06080627441406, 205.71519470214844, 204.4102020263672, 203.14779663085938, 201.9304962158203, 200.76100158691406, 199.64199829101562, 198.57650756835938, 197.5677947998047, 196.61940002441406, 195.735107421875, 194.91859436035156, 194.1741943359375, 193.50579833984375, 192.9174041748047, 192.41200256347656, 191.99180603027344, 191.6566925048828, 191.40289306640625, 191.22120666503906, 191.09530639648438, 191.00039672851562], [393.42059326171875, 389.19891357421875, 385.029296875, 380.9468994140625, 376.96990966796875, 373.10430908203125, 369.3493957519531, 365.7007141113281, 362.152099609375, 358.69720458984375, 355.32940673828125, 352.0426025390625, 348.8312072753906, 345.69000244140625, 342.6142883300781, 339.59979248046875, 336.6426086425781, 333.739013671875, 330.885986328125, 328.0805969238281, 325.3200988769531, 322.60198974609375, 319.92401123046875, 317.28399658203125, 314.68011474609375, 312.110595703125, 309.5736999511719, 307.0679931640625, 304.59210205078125, 302.14459228515625, 299.72430419921875, 297.3301086425781, 294.96099853515625, 292.6160888671875, 290.2944030761719, 287.9952087402344, 285.71759033203125, 283.46099853515625, 281.22479248046875, 279.0083923339844, 276.8113098144531, 274.63299560546875, 272.4731140136719, 270.331298828125, 268.20721435546875, 266.1005859375, 264.01129150390625, 261.9389953613281, 259.88360595703125, 257.8450927734375, 255.82339477539062, 253.81849670410156, 251.8303985595703, 249.8592071533203, 247.90499877929688, 245.9680938720703, 244.04859924316406, 242.14669799804688, 240.26280212402344, 238.3972930908203, 236.55059814453125, 234.72300720214844, 232.9149932861328, 231.1273956298828, 229.360595703125, 227.6154022216797, 225.8925018310547, 224.19259643554688, 222.51669311523438, 220.8656005859375, 219.2406005859375, 217.64239501953125, 216.07260131835938, 214.53219604492188, 213.02259826660156, 211.54550170898438, 210.10240173339844, 208.69509887695312, 207.3253936767578, 205.99549865722656, 204.7075958251953, 203.46409606933594, 202.26780700683594, 201.12139892578125, 200.02830505371094, 198.9918975830078, 198.01609802246094, 197.1051025390625, 196.2635955810547, 195.4967041015625, 194.80999755859375, 194.20950317382812, 193.70179748535156, 193.29310607910156, 192.98959350585938, 192.79559326171875, 192.71200561523438, 192.73269653320312, 192.83990478515625, 192.99879455566406], [395.4397888183594, 390.87799072265625, 386.41619873046875, 382.10009765625, 377.9410095214844, 373.9341125488281, 370.0683898925781, 366.3316955566406, 362.71209716796875, 359.19891357421875, 355.7825927734375, 352.4549865722656, 349.2085876464844, 346.0372009277344, 342.9352111816406, 339.8976135253906, 336.9197998046875, 333.99810791015625, 331.1286926269531, 328.30859375, 325.5346984863281, 322.8044128417969, 320.11529541015625, 317.4652099609375, 314.85198974609375, 312.27398681640625, 309.72918701171875, 307.21630859375, 304.73370361328125, 302.2799987792969, 299.85400390625, 297.45458984375, 295.0806884765625, 292.7312927246094, 290.4056091308594, 288.1025085449219, 285.8215026855469, 283.5617980957031, 281.32269287109375, 279.1037902832031, 276.904296875, 274.7239990234375, 272.5622863769531, 270.41900634765625, 268.2934875488281, 266.185791015625, 264.0956115722656, 262.0226135253906, 259.966796875, 257.9280090332031, 255.9062957763672, 253.90159606933594, 251.9138946533203, 249.94329833984375, 247.99000549316406, 246.05409240722656, 244.13589477539062, 242.235595703125, 240.35350036621094, 238.49000549316406, 236.64540100097656, 234.82040405273438, 233.0153045654297, 231.23069763183594, 229.46730041503906, 227.72579956054688, 226.00689697265625, 224.3114013671875, 222.64019775390625, 220.99440002441406, 219.37489318847656, 217.78280639648438, 216.2196044921875, 214.68629455566406, 213.18460083007812, 211.71580505371094, 210.2819061279297, 208.8845977783203, 207.52589416503906, 206.20799255371094, 204.9333038330078, 203.70440673828125, 202.52430725097656, 201.39599609375, 200.32310485839844, 199.30960083007812, 198.35980224609375, 197.47860717773438, 196.6717071533203, 195.94529724121094, 195.30650329589844, 194.76370239257812, 194.32620239257812, 194.0045928955078, 193.8105926513672, 193.7563934326172, 193.8529052734375, 194.10479736328125, 194.50100708007812, 194.9967041015625], [397.45849609375, 392.3955993652344, 387.5679016113281, 383.0, 378.66668701171875, 374.535888671875, 370.57940673828125, 366.7738037109375, 363.10040283203125, 359.5443115234375, 356.0928955078125, 352.7359924316406, 349.465087890625, 346.2726135253906, 343.1523132324219, 340.09869384765625, 337.1069030761719, 334.172607421875, 331.2919921875, 328.4617919921875, 325.6788024902344, 322.9403076171875, 320.24371337890625, 317.5867919921875, 314.96728515625, 312.3835144042969, 309.83349609375, 307.31561279296875, 304.8284912109375, 302.3706970214844, 299.9410095214844, 297.5379943847656, 295.1607971191406, 292.8085021972656, 290.4798889160156, 288.1744079589844, 285.8909912109375, 283.62921142578125, 281.3883056640625, 279.1676025390625, 276.96661376953125, 274.784912109375, 272.62200927734375, 270.47760009765625, 268.3511962890625, 266.2427978515625, 264.1520080566406, 262.0784912109375, 260.02239990234375, 257.9834899902344, 255.96180725097656, 253.9571990966797, 251.96969604492188, 249.99960327148438, 248.0467987060547, 246.1116943359375, 244.19430541992188, 242.2949981689453, 240.41409301757812, 238.552001953125, 236.70889282226562, 234.88560485839844, 233.08230590820312, 231.2998046875, 229.5386962890625, 227.79969787597656, 226.08349609375, 224.39100646972656, 222.72300720214844, 221.08059692382812, 219.46490478515625, 217.8769989013672, 216.31809997558594, 214.7895965576172, 213.29310607910156, 211.83009338378906, 210.40240478515625, 209.0117950439453, 207.66050720214844, 206.35079956054688, 205.08509826660156, 203.86619567871094, 202.69700622558594, 201.58120727539062, 200.52220153808594, 199.52450561523438, 198.59280395507812, 197.7324981689453, 196.9499053955078, 196.2523956298828, 195.64830017089844, 195.1479949951172, 194.7635955810547, 194.51010131835938, 194.406005859375, 194.47430419921875, 194.7429962158203, 195.24380493164062, 196.00180053710938, 196.99349975585938], [399.47210693359375, 393.5335998535156, 388.3005065917969, 383.5213928222656, 379.06549072265625, 374.856689453125, 370.8467102050781, 367.0024108886719, 363.2997131347656, 359.7206115722656, 356.2507019042969, 352.87860107421875, 349.59478759765625, 346.3915100097656, 343.2618103027344, 340.20001220703125, 337.20098876953125, 334.2604064941406, 331.37420654296875, 328.5387878417969, 325.7513122558594, 323.00860595703125, 320.3081970214844, 317.6477966308594, 315.02520751953125, 312.4383850097656, 309.88580322265625, 307.3655090332031, 304.8760986328125, 302.41619873046875, 299.9844970703125, 297.5798034667969, 295.20098876953125, 292.84710693359375, 290.5172119140625, 288.21038818359375, 285.9259033203125, 283.6629943847656, 281.4211120605469, 279.1995849609375, 276.997802734375, 274.8153991699219, 272.6518859863281, 270.50689697265625, 268.38018798828125, 266.27130126953125, 264.1802062988281, 262.1065979003906, 260.05029296875, 258.01129150390625, 255.98959350585938, 253.98500061035156, 251.99769592285156, 250.02780151367188, 248.07530212402344, 246.1405029296875, 244.22360229492188, 242.32479858398438, 240.4445037841797, 238.58299255371094, 236.7407989501953, 234.91819763183594, 233.11590576171875, 231.33450317382812, 229.57449340820312, 227.83670043945312, 226.1219024658203, 224.43080139160156, 222.76449584960938, 221.12379455566406, 219.50999450683594, 217.92410278320312, 216.36749267578125, 214.84140014648438, 213.34759521484375, 211.8874053955078, 210.46279907226562, 209.07569885253906, 207.7281951904297, 206.42250061035156, 205.16140747070312, 203.94749450683594, 202.78399658203125, 201.6743927001953, 200.6226043701172, 199.63290405273438, 198.7104034423828, 197.86090087890625, 197.09100341796875, 196.4084930419922, 195.8227996826172, 195.34519958496094, 194.98980712890625, 194.77459716796875, 194.72329711914062, 194.8686981201172, 195.2584991455078, 195.96780395507812, 197.12579345703125, 198.9803009033203]]'"
      ]
     },
     "execution_count": 14,
     "metadata": {},
     "output_type": "execute_result"
    }
   ],
   "source": [
    "import simplejson as json\n",
    "\n",
    "json = json.dumps(head, ignore_nan=True)\n",
    "json"
   ]
  },
  {
   "cell_type": "code",
   "execution_count": 15,
   "id": "df7dfd8ff0308815",
   "metadata": {
    "ExecuteTime": {
     "end_time": "2024-08-19T10:11:48.624795Z",
     "start_time": "2024-08-19T10:11:48.622194Z"
    },
    "collapsed": false,
    "execution": {
     "iopub.execute_input": "2024-08-19T20:26:17.640575Z",
     "iopub.status.busy": "2024-08-19T20:26:17.640452Z",
     "iopub.status.idle": "2024-08-19T20:26:17.642570Z",
     "shell.execute_reply": "2024-08-19T20:26:17.642370Z"
    },
    "papermill": {
     "duration": 0.006534,
     "end_time": "2024-08-19T20:26:17.643334",
     "exception": false,
     "start_time": "2024-08-19T20:26:17.636800",
     "status": "completed"
    },
    "tags": []
   },
   "outputs": [
    {
     "data": {
      "text/plain": [
       "[]"
      ]
     },
     "execution_count": 15,
     "metadata": {},
     "output_type": "execute_result"
    }
   ],
   "source": [
    "engine.read_flow_drawdown(idx=0, layer=0)"
   ]
  },
  {
   "cell_type": "code",
   "execution_count": 16,
   "id": "b233f4066b56c174",
   "metadata": {
    "ExecuteTime": {
     "end_time": "2024-08-19T10:11:48.630558Z",
     "start_time": "2024-08-19T10:11:48.625627Z"
    },
    "collapsed": false,
    "execution": {
     "iopub.execute_input": "2024-08-19T20:26:17.649667Z",
     "iopub.status.busy": "2024-08-19T20:26:17.649555Z",
     "iopub.status.idle": "2024-08-19T20:26:17.652895Z",
     "shell.execute_reply": "2024-08-19T20:26:17.652685Z"
    },
    "papermill": {
     "duration": 0.00734,
     "end_time": "2024-08-19T20:26:17.653648",
     "exception": false,
     "start_time": "2024-08-19T20:26:17.646308",
     "status": "completed"
    },
    "tags": []
   },
   "outputs": [
    {
     "data": {
      "text/plain": [
       "{'STORAGE_IN': 0.0,\n",
       " 'CONSTANT_HEAD_IN': 0.0,\n",
       " 'HEAD_DEP_BOUNDS_IN': 51283.92,\n",
       " 'TOTAL_IN': 51283.92,\n",
       " 'STORAGE_OUT': -0.0,\n",
       " 'CONSTANT_HEAD_OUT': -0.0,\n",
       " 'HEAD_DEP_BOUNDS_OUT': -51283.914,\n",
       " 'TOTAL_OUT': -51283.914,\n",
       " 'IN-OUT': 0.0078125,\n",
       " 'PERCENT_DISCREPANCY': 0.0,\n",
       " 'tslen': 365.0}"
      ]
     },
     "execution_count": 16,
     "metadata": {},
     "output_type": "execute_result"
    }
   ],
   "source": [
    "engine.read_flow_budget(idx=0, incremental=False)"
   ]
  },
  {
   "cell_type": "code",
   "execution_count": 17,
   "id": "634709d741f5c252",
   "metadata": {
    "ExecuteTime": {
     "end_time": "2024-08-19T10:11:48.635339Z",
     "start_time": "2024-08-19T10:11:48.631109Z"
    },
    "collapsed": false,
    "execution": {
     "iopub.execute_input": "2024-08-19T20:26:17.660025Z",
     "iopub.status.busy": "2024-08-19T20:26:17.659921Z",
     "iopub.status.idle": "2024-08-19T20:26:17.663152Z",
     "shell.execute_reply": "2024-08-19T20:26:17.662930Z"
    },
    "papermill": {
     "duration": 0.007193,
     "end_time": "2024-08-19T20:26:17.663866",
     "exception": false,
     "start_time": "2024-08-19T20:26:17.656673",
     "status": "completed"
    },
    "tags": []
   },
   "outputs": [
    {
     "data": {
      "text/plain": [
       "{'STORAGE_IN': 0.0,\n",
       " 'CONSTANT_HEAD_IN': 0.0,\n",
       " 'HEAD_DEP_BOUNDS_IN': 140.5039,\n",
       " 'TOTAL_IN': 140.5039,\n",
       " 'STORAGE_OUT': -0.0,\n",
       " 'CONSTANT_HEAD_OUT': -0.0,\n",
       " 'HEAD_DEP_BOUNDS_OUT': -140.5039,\n",
       " 'TOTAL_OUT': -140.5039,\n",
       " 'IN-OUT': 1.5259e-05,\n",
       " 'PERCENT_DISCREPANCY': 0.0,\n",
       " 'tslen': 365.0}"
      ]
     },
     "execution_count": 17,
     "metadata": {},
     "output_type": "execute_result"
    }
   ],
   "source": [
    "engine.read_flow_budget(idx=0, incremental=True)"
   ]
  },
  {
   "cell_type": "code",
   "execution_count": 18,
   "id": "160abd7d290c83f7",
   "metadata": {
    "ExecuteTime": {
     "end_time": "2024-08-19T10:11:48.749581Z",
     "start_time": "2024-08-19T10:11:48.636082Z"
    },
    "collapsed": false,
    "execution": {
     "iopub.execute_input": "2024-08-19T20:26:17.670277Z",
     "iopub.status.busy": "2024-08-19T20:26:17.670173Z",
     "iopub.status.idle": "2024-08-19T20:26:17.745330Z",
     "shell.execute_reply": "2024-08-19T20:26:17.744673Z"
    },
    "papermill": {
     "duration": 0.085069,
     "end_time": "2024-08-19T20:26:17.751925",
     "exception": false,
     "start_time": "2024-08-19T20:26:17.666856",
     "status": "completed"
    },
    "tags": []
   },
   "outputs": [
    {
     "data": {
      "image/png": "[encoded data removed]",
      "text/plain": [
       "<Figure size 640x480 with 2 Axes>"
      ]
     },
     "metadata": {},
     "output_type": "display_data"
    }
   ],
   "source": [
    "import matplotlib.pyplot as plt\n",
    "\n",
    "heads = engine.read_flow_head(idx=0, layer=0)\n",
    "plt.subplot(2, 1, 1)\n",
    "plt.imshow(heads, cmap='jet_r')\n",
    "plt.colorbar()\n",
    "plt.show()"
   ]
  }
 ],
 "metadata": {
  "kernelspec": {
   "display_name": "Python 3",
   "language": "python",
   "name": "python3"
  },
  "language_info": {
   "codemirror_mode": {
    "name": "ipython",
    "version": 3
   },
   "file_extension": ".py",
   "mimetype": "text/x-python",
   "name": "python",
   "nbconvert_exporter": "python",
   "pygments_lexer": "ipython3",
   "version": "3.12.2"
  },
  "papermill": {
   "default_parameters": {},
   "duration": 4.566196,
   "end_time": "2024-08-19T20:26:18.082605",
   "environment_variables": {},
   "exception": null,
   "input_path": "./notebooks/Test_GeneralHeadBoundary.ipynb",
   "output_path": "./notebooks/Test_GeneralHeadBoundary.ipynb",
   "parameters": {},
   "start_time": "2024-08-19T20:26:13.516409",
   "version": "2.6.0"
  }
 },
 "nbformat": 4,
 "nbformat_minor": 5
}