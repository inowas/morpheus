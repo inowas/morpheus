{
 "cells": [
  {
   "cell_type": "markdown",
   "id": "0dc17414",
   "metadata": {
    "tags": [
     "papermill-error-cell-tag"
    ]
   },
   "source": [
    "<span style=\"color:red; font-family:Helvetica Neue, Helvetica, Arial, sans-serif; font-size:2em;\">An Exception was encountered at '<a href=\"#papermill-error-cell\">In [12]</a>'.</span>"
   ]
  },
  {
   "cell_type": "code",
   "execution_count": 1,
   "id": "ba6761fae9d5e5cb",
   "metadata": {
    "ExecuteTime": {
     "end_time": "2024-05-14T08:11:43.734599Z",
     "start_time": "2024-05-14T08:11:43.731610Z"
    },
    "collapsed": false,
    "execution": {
     "iopub.execute_input": "2024-05-15T15:39:54.173466Z",
     "iopub.status.busy": "2024-05-15T15:39:54.173147Z",
     "iopub.status.idle": "2024-05-15T15:39:54.177123Z",
     "shell.execute_reply": "2024-05-15T15:39:54.176657Z"
    },
    "papermill": {
     "duration": 0.01379,
     "end_time": "2024-05-15T15:39:54.178805",
     "exception": false,
     "start_time": "2024-05-15T15:39:54.165015",
     "status": "completed"
    },
    "tags": []
   },
   "outputs": [],
   "source": [
    "import sys\n",
    "\n",
    "sys.path.insert(0, '..')"
   ]
  },
  {
   "cell_type": "markdown",
   "id": "5ede1ba5e0993dd1",
   "metadata": {
    "collapsed": false,
    "papermill": {
     "duration": 0.004306,
     "end_time": "2024-05-15T15:39:54.187974",
     "exception": false,
     "start_time": "2024-05-15T15:39:54.183668",
     "status": "completed"
    },
    "tags": []
   },
   "source": [
    "## Setup the model area"
   ]
  },
  {
   "cell_type": "code",
   "execution_count": 2,
   "id": "2f69504ab35487aa",
   "metadata": {
    "ExecuteTime": {
     "end_time": "2024-05-14T08:11:44.365298Z",
     "start_time": "2024-05-14T08:11:43.735901Z"
    },
    "collapsed": false,
    "execution": {
     "iopub.execute_input": "2024-05-15T15:39:54.196451Z",
     "iopub.status.busy": "2024-05-15T15:39:54.196236Z",
     "iopub.status.idle": "2024-05-15T15:39:54.695897Z",
     "shell.execute_reply": "2024-05-15T15:39:54.695572Z"
    },
    "papermill": {
     "duration": 0.505084,
     "end_time": "2024-05-15T15:39:54.696884",
     "exception": false,
     "start_time": "2024-05-15T15:39:54.191800",
     "status": "completed"
    },
    "tags": []
   },
   "outputs": [],
   "source": [
    "from morpheus.project.types.discretization import SpatialDiscretization\n",
    "from morpheus.project.types.discretization.spatial import Rotation, Grid, Crs\n",
    "from morpheus.project.types.geometry import Polygon, LineString\n",
    "\n",
    "polygon = Polygon(\n",
    "  type='Polygon',\n",
    "  coordinates=[[\n",
    "    (13.92, 50.964),\n",
    "    (13.92, 50.966),\n",
    "    (13.925, 50.966),\n",
    "    (13.925, 50.964),\n",
    "    (13.92, 50.964)\n",
    "  ]]\n",
    ")\n",
    "\n",
    "rotation = Rotation(0)\n",
    "\n",
    "grid = Grid.cartesian_from_polygon(polygon=polygon, n_cols=100, n_rows=50, rotation=rotation)\n",
    "spatial_discretization = SpatialDiscretization.from_geometry_with_grid(\n",
    "  geometry=polygon,\n",
    "  grid=grid,\n",
    "  crs=Crs.from_str('EPSG:4326')\n",
    ")"
   ]
  },
  {
   "cell_type": "markdown",
   "id": "fa27e67f9d801845",
   "metadata": {
    "collapsed": false,
    "papermill": {
     "duration": 0.002102,
     "end_time": "2024-05-15T15:39:54.701302",
     "exception": false,
     "start_time": "2024-05-15T15:39:54.699200",
     "status": "completed"
    },
    "tags": []
   },
   "source": [
    "## Setup Time Discretization"
   ]
  },
  {
   "cell_type": "code",
   "execution_count": 3,
   "id": "8e4e63dd138db9fc",
   "metadata": {
    "ExecuteTime": {
     "end_time": "2024-05-14T08:11:44.368717Z",
     "start_time": "2024-05-14T08:11:44.365963Z"
    },
    "collapsed": false,
    "execution": {
     "iopub.execute_input": "2024-05-15T15:39:54.706362Z",
     "iopub.status.busy": "2024-05-15T15:39:54.706194Z",
     "iopub.status.idle": "2024-05-15T15:39:54.708765Z",
     "shell.execute_reply": "2024-05-15T15:39:54.708496Z"
    },
    "papermill": {
     "duration": 0.006109,
     "end_time": "2024-05-15T15:39:54.709587",
     "exception": false,
     "start_time": "2024-05-15T15:39:54.703478",
     "status": "completed"
    },
    "tags": []
   },
   "outputs": [],
   "source": [
    "from morpheus.project.types.discretization.time.TimeUnit import TimeUnit\n",
    "from morpheus.project.types.discretization.time.Stressperiods import StartDateTime, StressPeriodCollection, \\\n",
    "  StressPeriod, NumberOfTimeSteps, TimeStepMultiplier, IsSteadyState\n",
    "from morpheus.project.types.discretization.time import TimeDiscretization\n",
    "from datetime import datetime\n",
    "\n",
    "time_discretization = TimeDiscretization(\n",
    "  start_date_time=StartDateTime.from_datetime(datetime(2020, 1, 1)),\n",
    "  end_date_time=StartDateTime.from_datetime(datetime(2020, 12, 31)),\n",
    "  stress_periods=StressPeriodCollection([\n",
    "    StressPeriod(\n",
    "      start_date_time=StartDateTime.from_datetime(datetime(2020, 1, 1)),\n",
    "      number_of_time_steps=NumberOfTimeSteps(1),\n",
    "      time_step_multiplier=TimeStepMultiplier(1),\n",
    "      steady_state=IsSteadyState.yes()\n",
    "    ),\n",
    "  ]),\n",
    "  time_unit=TimeUnit.days()\n",
    ")"
   ]
  },
  {
   "cell_type": "markdown",
   "id": "963ba8729f09fcec",
   "metadata": {
    "collapsed": false,
    "papermill": {
     "duration": 0.002014,
     "end_time": "2024-05-15T15:39:54.713860",
     "exception": false,
     "start_time": "2024-05-15T15:39:54.711846",
     "status": "completed"
    },
    "tags": []
   },
   "source": [
    "# Setup Model"
   ]
  },
  {
   "cell_type": "code",
   "execution_count": 4,
   "id": "1d5c9125b1b9360b",
   "metadata": {
    "ExecuteTime": {
     "end_time": "2024-05-14T08:11:44.861267Z",
     "start_time": "2024-05-14T08:11:44.370158Z"
    },
    "collapsed": false,
    "execution": {
     "iopub.execute_input": "2024-05-15T15:39:54.718768Z",
     "iopub.status.busy": "2024-05-15T15:39:54.718583Z",
     "iopub.status.idle": "2024-05-15T15:39:55.012815Z",
     "shell.execute_reply": "2024-05-15T15:39:55.012490Z"
    },
    "papermill": {
     "duration": 0.297937,
     "end_time": "2024-05-15T15:39:55.013865",
     "exception": false,
     "start_time": "2024-05-15T15:39:54.715928",
     "status": "completed"
    },
    "tags": []
   },
   "outputs": [],
   "source": [
    "from morpheus.project.types.Model import Model\n",
    "\n",
    "model = Model.new()\n",
    "model = model.with_updated_time_discretization(time_discretization)\n",
    "model = model.with_updated_spatial_discretization(spatial_discretization=spatial_discretization)"
   ]
  },
  {
   "cell_type": "code",
   "execution_count": 5,
   "id": "1540b870ae83f298",
   "metadata": {
    "ExecuteTime": {
     "end_time": "2024-05-14T08:11:45.082268Z",
     "start_time": "2024-05-14T08:11:44.862187Z"
    },
    "collapsed": false,
    "execution": {
     "iopub.execute_input": "2024-05-15T15:39:55.018891Z",
     "iopub.status.busy": "2024-05-15T15:39:55.018692Z",
     "iopub.status.idle": "2024-05-15T15:39:55.163261Z",
     "shell.execute_reply": "2024-05-15T15:39:55.163000Z"
    },
    "papermill": {
     "duration": 0.147978,
     "end_time": "2024-05-15T15:39:55.164161",
     "exception": false,
     "start_time": "2024-05-15T15:39:55.016183",
     "status": "completed"
    },
    "tags": []
   },
   "outputs": [
    {
     "data": {
      "text/html": [
       "<div style=\"width:100%;\"><div style=\"position:relative;width:100%;height:0;padding-bottom:60%;\"><span style=\"color:#565656\">Make this Notebook Trusted to load map: File -> Trust Notebook</span><iframe srcdoc=\"&lt;!DOCTYPE html&gt;\n",
       "&lt;html&gt;\n",
       "&lt;head&gt;\n",
       "    \n",
       "    &lt;meta http-equiv=&quot;content-type&quot; content=&quot;text/html; charset=UTF-8&quot; /&gt;\n",
       "    \n",
       "        &lt;script&gt;\n",
       "            L_NO_TOUCH = false;\n",
       "            L_DISABLE_3D = false;\n",
       "        &lt;/script&gt;\n",
       "    \n",
       "    &lt;style&gt;html, body {width: 100%;height: 100%;margin: 0;padding: 0;}&lt;/style&gt;\n",
       "    &lt;style&gt;#map {position:absolute;top:0;bottom:0;right:0;left:0;}&lt;/style&gt;\n",
       "    &lt;script src=&quot;https://cdn.jsdelivr.net/npm/leaflet@1.9.3/dist/leaflet.js&quot;&gt;&lt;/script&gt;\n",
       "    &lt;script src=&quot;https://code.jquery.com/jquery-3.7.1.min.js&quot;&gt;&lt;/script&gt;\n",
       "    &lt;script src=&quot;https://cdn.jsdelivr.net/npm/bootstrap@5.2.2/dist/js/bootstrap.bundle.min.js&quot;&gt;&lt;/script&gt;\n",
       "    &lt;script src=&quot;https://cdnjs.cloudflare.com/ajax/libs/Leaflet.awesome-markers/2.0.2/leaflet.awesome-markers.js&quot;&gt;&lt;/script&gt;\n",
       "    &lt;link rel=&quot;stylesheet&quot; href=&quot;https://cdn.jsdelivr.net/npm/leaflet@1.9.3/dist/leaflet.css&quot;/&gt;\n",
       "    &lt;link rel=&quot;stylesheet&quot; href=&quot;https://cdn.jsdelivr.net/npm/bootstrap@5.2.2/dist/css/bootstrap.min.css&quot;/&gt;\n",
       "    &lt;link rel=&quot;stylesheet&quot; href=&quot;https://netdna.bootstrapcdn.com/bootstrap/3.0.0/css/bootstrap.min.css&quot;/&gt;\n",
       "    &lt;link rel=&quot;stylesheet&quot; href=&quot;https://cdn.jsdelivr.net/npm/@fortawesome/fontawesome-free@6.2.0/css/all.min.css&quot;/&gt;\n",
       "    &lt;link rel=&quot;stylesheet&quot; href=&quot;https://cdnjs.cloudflare.com/ajax/libs/Leaflet.awesome-markers/2.0.2/leaflet.awesome-markers.css&quot;/&gt;\n",
       "    &lt;link rel=&quot;stylesheet&quot; href=&quot;https://cdn.jsdelivr.net/gh/python-visualization/folium/folium/templates/leaflet.awesome.rotate.min.css&quot;/&gt;\n",
       "    \n",
       "            &lt;meta name=&quot;viewport&quot; content=&quot;width=device-width,\n",
       "                initial-scale=1.0, maximum-scale=1.0, user-scalable=no&quot; /&gt;\n",
       "            &lt;style&gt;\n",
       "                #map_60bf68856b0a15153fda5b89acc1c6ea {\n",
       "                    position: relative;\n",
       "                    width: 100.0%;\n",
       "                    height: 100.0%;\n",
       "                    left: 0.0%;\n",
       "                    top: 0.0%;\n",
       "                }\n",
       "                .leaflet-container { font-size: 1rem; }\n",
       "            &lt;/style&gt;\n",
       "        \n",
       "&lt;/head&gt;\n",
       "&lt;body&gt;\n",
       "    \n",
       "    \n",
       "            &lt;div class=&quot;folium-map&quot; id=&quot;map_60bf68856b0a15153fda5b89acc1c6ea&quot; &gt;&lt;/div&gt;\n",
       "        \n",
       "&lt;/body&gt;\n",
       "&lt;script&gt;\n",
       "    \n",
       "    \n",
       "            var map_60bf68856b0a15153fda5b89acc1c6ea = L.map(\n",
       "                &quot;map_60bf68856b0a15153fda5b89acc1c6ea&quot;,\n",
       "                {\n",
       "                    center: [50.965, 13.922],\n",
       "                    crs: L.CRS.EPSG3857,\n",
       "                    zoom: 12,\n",
       "                    zoomControl: true,\n",
       "                    preferCanvas: false,\n",
       "                }\n",
       "            );\n",
       "\n",
       "            \n",
       "\n",
       "        \n",
       "    \n",
       "            var tile_layer_074812421bb60e1ea7d3e3fb22d2841e = L.tileLayer(\n",
       "                &quot;https://{s}.basemaps.cartocdn.com/light_all/{z}/{x}/{y}{r}.png&quot;,\n",
       "                {&quot;attribution&quot;: &quot;\\u0026copy; \\u003ca href=\\&quot;https://www.openstreetmap.org/copyright\\&quot;\\u003eOpenStreetMap\\u003c/a\\u003e contributors \\u0026copy; \\u003ca href=\\&quot;https://carto.com/attributions\\&quot;\\u003eCARTO\\u003c/a\\u003e&quot;, &quot;detectRetina&quot;: false, &quot;maxNativeZoom&quot;: 20, &quot;maxZoom&quot;: 20, &quot;minZoom&quot;: 0, &quot;noWrap&quot;: false, &quot;opacity&quot;: 1, &quot;subdomains&quot;: &quot;abcd&quot;, &quot;tms&quot;: false}\n",
       "            );\n",
       "        \n",
       "    \n",
       "            tile_layer_074812421bb60e1ea7d3e3fb22d2841e.addTo(map_60bf68856b0a15153fda5b89acc1c6ea);\n",
       "        \n",
       "    \n",
       "\n",
       "        function geo_json_1ab9737f7c819655fd5f150cd271ec13_onEachFeature(feature, layer) {\n",
       "            layer.on({\n",
       "            });\n",
       "        };\n",
       "        var geo_json_1ab9737f7c819655fd5f150cd271ec13 = L.geoJson(null, {\n",
       "                onEachFeature: geo_json_1ab9737f7c819655fd5f150cd271ec13_onEachFeature,\n",
       "            \n",
       "        });\n",
       "\n",
       "        function geo_json_1ab9737f7c819655fd5f150cd271ec13_add (data) {\n",
       "            geo_json_1ab9737f7c819655fd5f150cd271ec13\n",
       "                .addData(data);\n",
       "        }\n",
       "            geo_json_1ab9737f7c819655fd5f150cd271ec13_add({&quot;coordinates&quot;: [[[13.92, 50.964], [13.92, 50.966], [13.925, 50.966], [13.925, 50.964], [13.92, 50.964]]], &quot;type&quot;: &quot;Polygon&quot;});\n",
       "\n",
       "        \n",
       "    \n",
       "            geo_json_1ab9737f7c819655fd5f150cd271ec13.addTo(map_60bf68856b0a15153fda5b89acc1c6ea);\n",
       "        \n",
       "    \n",
       "            map_60bf68856b0a15153fda5b89acc1c6ea.fitBounds(\n",
       "                [[50.964, 13.92], [50.966, 13.925]],\n",
       "                {}\n",
       "            );\n",
       "        \n",
       "&lt;/script&gt;\n",
       "&lt;/html&gt;\" style=\"position:absolute;width:100%;height:100%;left:0;top:0;border:none !important;\" allowfullscreen webkitallowfullscreen mozallowfullscreen></iframe></div></div>"
      ],
      "text/plain": [
       "<folium.folium.Map at 0x15be7ca40>"
      ]
     },
     "execution_count": 5,
     "metadata": {},
     "output_type": "execute_result"
    }
   ],
   "source": [
    "import folium\n",
    "\n",
    "m = folium.Map(tiles=\"cartodbpositron\", crs=\"EPSG3857\", zoom_start=12, location=[50.965, 13.922])\n",
    "m.add_child(folium.GeoJson(polygon.as_geojson()))\n",
    "\n",
    "m.fit_bounds(m.get_bounds())\n",
    "m"
   ]
  },
  {
   "cell_type": "markdown",
   "id": "62ae3587df801000",
   "metadata": {
    "collapsed": false,
    "papermill": {
     "duration": 0.002174,
     "end_time": "2024-05-15T15:39:55.168782",
     "exception": false,
     "start_time": "2024-05-15T15:39:55.166608",
     "status": "completed"
    },
    "tags": []
   },
   "source": [
    "# Setup constant head boundary with two observations"
   ]
  },
  {
   "cell_type": "code",
   "execution_count": 6,
   "id": "53679913aee28ce9",
   "metadata": {
    "ExecuteTime": {
     "end_time": "2024-05-14T08:11:46.800297Z",
     "start_time": "2024-05-14T08:11:45.084165Z"
    },
    "collapsed": false,
    "execution": {
     "iopub.execute_input": "2024-05-15T15:39:55.173841Z",
     "iopub.status.busy": "2024-05-15T15:39:55.173625Z",
     "iopub.status.idle": "2024-05-15T15:39:56.171582Z",
     "shell.execute_reply": "2024-05-15T15:39:56.171337Z"
    },
    "papermill": {
     "duration": 1.001559,
     "end_time": "2024-05-15T15:39:56.172412",
     "exception": false,
     "start_time": "2024-05-15T15:39:55.170853",
     "status": "completed"
    },
    "tags": []
   },
   "outputs": [
    {
     "data": {
      "text/html": [
       "<div style=\"width:100%;\"><div style=\"position:relative;width:100%;height:0;padding-bottom:60%;\"><span style=\"color:#565656\">Make this Notebook Trusted to load map: File -> Trust Notebook</span><iframe srcdoc=\"&lt;!DOCTYPE html&gt;\n",
       "&lt;html&gt;\n",
       "&lt;head&gt;\n",
       "    \n",
       "    &lt;meta http-equiv=&quot;content-type&quot; content=&quot;text/html; charset=UTF-8&quot; /&gt;\n",
       "    \n",
       "        &lt;script&gt;\n",
       "            L_NO_TOUCH = false;\n",
       "            L_DISABLE_3D = false;\n",
       "        &lt;/script&gt;\n",
       "    \n",
       "    &lt;style&gt;html, body {width: 100%;height: 100%;margin: 0;padding: 0;}&lt;/style&gt;\n",
       "    &lt;style&gt;#map {position:absolute;top:0;bottom:0;right:0;left:0;}&lt;/style&gt;\n",
       "    &lt;script src=&quot;https://cdn.jsdelivr.net/npm/leaflet@1.9.3/dist/leaflet.js&quot;&gt;&lt;/script&gt;\n",
       "    &lt;script src=&quot;https://code.jquery.com/jquery-3.7.1.min.js&quot;&gt;&lt;/script&gt;\n",
       "    &lt;script src=&quot;https://cdn.jsdelivr.net/npm/bootstrap@5.2.2/dist/js/bootstrap.bundle.min.js&quot;&gt;&lt;/script&gt;\n",
       "    &lt;script src=&quot;https://cdnjs.cloudflare.com/ajax/libs/Leaflet.awesome-markers/2.0.2/leaflet.awesome-markers.js&quot;&gt;&lt;/script&gt;\n",
       "    &lt;link rel=&quot;stylesheet&quot; href=&quot;https://cdn.jsdelivr.net/npm/leaflet@1.9.3/dist/leaflet.css&quot;/&gt;\n",
       "    &lt;link rel=&quot;stylesheet&quot; href=&quot;https://cdn.jsdelivr.net/npm/bootstrap@5.2.2/dist/css/bootstrap.min.css&quot;/&gt;\n",
       "    &lt;link rel=&quot;stylesheet&quot; href=&quot;https://netdna.bootstrapcdn.com/bootstrap/3.0.0/css/bootstrap.min.css&quot;/&gt;\n",
       "    &lt;link rel=&quot;stylesheet&quot; href=&quot;https://cdn.jsdelivr.net/npm/@fortawesome/fontawesome-free@6.2.0/css/all.min.css&quot;/&gt;\n",
       "    &lt;link rel=&quot;stylesheet&quot; href=&quot;https://cdnjs.cloudflare.com/ajax/libs/Leaflet.awesome-markers/2.0.2/leaflet.awesome-markers.css&quot;/&gt;\n",
       "    &lt;link rel=&quot;stylesheet&quot; href=&quot;https://cdn.jsdelivr.net/gh/python-visualization/folium/folium/templates/leaflet.awesome.rotate.min.css&quot;/&gt;\n",
       "    \n",
       "            &lt;meta name=&quot;viewport&quot; content=&quot;width=device-width,\n",
       "                initial-scale=1.0, maximum-scale=1.0, user-scalable=no&quot; /&gt;\n",
       "            &lt;style&gt;\n",
       "                #map_60bf68856b0a15153fda5b89acc1c6ea {\n",
       "                    position: relative;\n",
       "                    width: 100.0%;\n",
       "                    height: 100.0%;\n",
       "                    left: 0.0%;\n",
       "                    top: 0.0%;\n",
       "                }\n",
       "                .leaflet-container { font-size: 1rem; }\n",
       "            &lt;/style&gt;\n",
       "        \n",
       "&lt;/head&gt;\n",
       "&lt;body&gt;\n",
       "    \n",
       "    \n",
       "            &lt;div class=&quot;folium-map&quot; id=&quot;map_60bf68856b0a15153fda5b89acc1c6ea&quot; &gt;&lt;/div&gt;\n",
       "        \n",
       "&lt;/body&gt;\n",
       "&lt;script&gt;\n",
       "    \n",
       "    \n",
       "            var map_60bf68856b0a15153fda5b89acc1c6ea = L.map(\n",
       "                &quot;map_60bf68856b0a15153fda5b89acc1c6ea&quot;,\n",
       "                {\n",
       "                    center: [50.965, 13.922],\n",
       "                    crs: L.CRS.EPSG3857,\n",
       "                    zoom: 12,\n",
       "                    zoomControl: true,\n",
       "                    preferCanvas: false,\n",
       "                }\n",
       "            );\n",
       "\n",
       "            \n",
       "\n",
       "        \n",
       "    \n",
       "            var tile_layer_074812421bb60e1ea7d3e3fb22d2841e = L.tileLayer(\n",
       "                &quot;https://{s}.basemaps.cartocdn.com/light_all/{z}/{x}/{y}{r}.png&quot;,\n",
       "                {&quot;attribution&quot;: &quot;\\u0026copy; \\u003ca href=\\&quot;https://www.openstreetmap.org/copyright\\&quot;\\u003eOpenStreetMap\\u003c/a\\u003e contributors \\u0026copy; \\u003ca href=\\&quot;https://carto.com/attributions\\&quot;\\u003eCARTO\\u003c/a\\u003e&quot;, &quot;detectRetina&quot;: false, &quot;maxNativeZoom&quot;: 20, &quot;maxZoom&quot;: 20, &quot;minZoom&quot;: 0, &quot;noWrap&quot;: false, &quot;opacity&quot;: 1, &quot;subdomains&quot;: &quot;abcd&quot;, &quot;tms&quot;: false}\n",
       "            );\n",
       "        \n",
       "    \n",
       "            tile_layer_074812421bb60e1ea7d3e3fb22d2841e.addTo(map_60bf68856b0a15153fda5b89acc1c6ea);\n",
       "        \n",
       "    \n",
       "\n",
       "        function geo_json_1ab9737f7c819655fd5f150cd271ec13_onEachFeature(feature, layer) {\n",
       "            layer.on({\n",
       "            });\n",
       "        };\n",
       "        var geo_json_1ab9737f7c819655fd5f150cd271ec13 = L.geoJson(null, {\n",
       "                onEachFeature: geo_json_1ab9737f7c819655fd5f150cd271ec13_onEachFeature,\n",
       "            \n",
       "        });\n",
       "\n",
       "        function geo_json_1ab9737f7c819655fd5f150cd271ec13_add (data) {\n",
       "            geo_json_1ab9737f7c819655fd5f150cd271ec13\n",
       "                .addData(data);\n",
       "        }\n",
       "            geo_json_1ab9737f7c819655fd5f150cd271ec13_add({&quot;coordinates&quot;: [[[13.92, 50.964], [13.92, 50.966], [13.925, 50.966], [13.925, 50.964], [13.92, 50.964]]], &quot;type&quot;: &quot;Polygon&quot;});\n",
       "\n",
       "        \n",
       "    \n",
       "            geo_json_1ab9737f7c819655fd5f150cd271ec13.addTo(map_60bf68856b0a15153fda5b89acc1c6ea);\n",
       "        \n",
       "    \n",
       "            map_60bf68856b0a15153fda5b89acc1c6ea.fitBounds(\n",
       "                [[50.964, 13.92], [50.966, 13.925]],\n",
       "                {}\n",
       "            );\n",
       "        \n",
       "    \n",
       "            tile_layer_074812421bb60e1ea7d3e3fb22d2841e.addTo(map_60bf68856b0a15153fda5b89acc1c6ea);\n",
       "        \n",
       "    \n",
       "            geo_json_1ab9737f7c819655fd5f150cd271ec13.addTo(map_60bf68856b0a15153fda5b89acc1c6ea);\n",
       "        \n",
       "    \n",
       "\n",
       "        function geo_json_afb5fd6b51c0cc035eae0d5a21a99e4e_onEachFeature(feature, layer) {\n",
       "            layer.on({\n",
       "            });\n",
       "        };\n",
       "        var geo_json_afb5fd6b51c0cc035eae0d5a21a99e4e = L.geoJson(null, {\n",
       "                onEachFeature: geo_json_afb5fd6b51c0cc035eae0d5a21a99e4e_onEachFeature,\n",
       "            \n",
       "        });\n",
       "\n",
       "        function geo_json_afb5fd6b51c0cc035eae0d5a21a99e4e_add (data) {\n",
       "            geo_json_afb5fd6b51c0cc035eae0d5a21a99e4e\n",
       "                .addData(data);\n",
       "        }\n",
       "            geo_json_afb5fd6b51c0cc035eae0d5a21a99e4e_add({&quot;coordinates&quot;: [[13.92499, 50.966], [13.92499, 50.964]], &quot;type&quot;: &quot;LineString&quot;});\n",
       "\n",
       "        \n",
       "    \n",
       "            geo_json_afb5fd6b51c0cc035eae0d5a21a99e4e.addTo(map_60bf68856b0a15153fda5b89acc1c6ea);\n",
       "        \n",
       "    \n",
       "\n",
       "        function geo_json_4e623c380eaa157cbde6b3acfeaadaaf_onEachFeature(feature, layer) {\n",
       "            layer.on({\n",
       "            });\n",
       "        };\n",
       "        var geo_json_4e623c380eaa157cbde6b3acfeaadaaf = L.geoJson(null, {\n",
       "                onEachFeature: geo_json_4e623c380eaa157cbde6b3acfeaadaaf_onEachFeature,\n",
       "            \n",
       "        });\n",
       "\n",
       "        function geo_json_4e623c380eaa157cbde6b3acfeaadaaf_add (data) {\n",
       "            geo_json_4e623c380eaa157cbde6b3acfeaadaaf\n",
       "                .addData(data);\n",
       "        }\n",
       "            geo_json_4e623c380eaa157cbde6b3acfeaadaaf_add({&quot;geometries&quot;: [{&quot;coordinates&quot;: [[[13.92495, 50.965999999999994], [13.925000000000002, 50.965999999999994], [13.925000000000002, 50.965960000843815], [13.92495, 50.965960000843815], [13.92495, 50.965999999999994]]], &quot;type&quot;: &quot;Polygon&quot;}, {&quot;coordinates&quot;: [[[13.92495, 50.965960000843815], [13.925000000000002, 50.965960000843815], [13.925000000000002, 50.965920001653195], [13.92495, 50.965920001653195], [13.92495, 50.965960000843815]]], &quot;type&quot;: &quot;Polygon&quot;}, {&quot;coordinates&quot;: [[[13.92495, 50.965920001653195], [13.925000000000002, 50.965920001653195], [13.925000000000002, 50.965880002428136], [13.92495, 50.965880002428136], [13.92495, 50.965920001653195]]], &quot;type&quot;: &quot;Polygon&quot;}, {&quot;coordinates&quot;: [[[13.92495, 50.965880002428136], [13.925000000000002, 50.965880002428136], [13.925000000000002, 50.96584000316863], [13.92495, 50.96584000316863], [13.92495, 50.965880002428136]]], &quot;type&quot;: &quot;Polygon&quot;}, {&quot;coordinates&quot;: [[[13.92495, 50.96584000316863], [13.925000000000002, 50.96584000316863], [13.925000000000002, 50.96580000387468], [13.92495, 50.96580000387468], [13.92495, 50.96584000316863]]], &quot;type&quot;: &quot;Polygon&quot;}, {&quot;coordinates&quot;: [[[13.92495, 50.96580000387468], [13.925000000000002, 50.96580000387468], [13.925000000000002, 50.965760004546304], [13.92495, 50.965760004546304], [13.92495, 50.96580000387468]]], &quot;type&quot;: &quot;Polygon&quot;}, {&quot;coordinates&quot;: [[[13.92495, 50.965760004546304], [13.925000000000002, 50.965760004546304], [13.925000000000002, 50.96572000518347], [13.92495, 50.96572000518347], [13.92495, 50.965760004546304]]], &quot;type&quot;: &quot;Polygon&quot;}, {&quot;coordinates&quot;: [[[13.92495, 50.96572000518347], [13.925000000000002, 50.96572000518347], [13.925000000000002, 50.9656800057862], [13.92495, 50.9656800057862], [13.92495, 50.96572000518347]]], &quot;type&quot;: &quot;Polygon&quot;}, {&quot;coordinates&quot;: [[[13.92495, 50.9656800057862], [13.925000000000002, 50.9656800057862], [13.925000000000002, 50.9656400063545], [13.92495, 50.9656400063545], [13.92495, 50.9656800057862]]], &quot;type&quot;: &quot;Polygon&quot;}, {&quot;coordinates&quot;: [[[13.92495, 50.9656400063545], [13.925000000000002, 50.9656400063545], [13.925000000000002, 50.965600006888344], [13.92495, 50.965600006888344], [13.92495, 50.9656400063545]]], &quot;type&quot;: &quot;Polygon&quot;}, {&quot;coordinates&quot;: [[[13.92495, 50.965600006888344], [13.925000000000002, 50.965600006888344], [13.925000000000002, 50.965560007387744], [13.92495, 50.965560007387744], [13.92495, 50.965600006888344]]], &quot;type&quot;: &quot;Polygon&quot;}, {&quot;coordinates&quot;: [[[13.92495, 50.965560007387744], [13.925000000000002, 50.965560007387744], [13.925000000000002, 50.96552000785271], [13.92495, 50.96552000785271], [13.92495, 50.965560007387744]]], &quot;type&quot;: &quot;Polygon&quot;}, {&quot;coordinates&quot;: [[[13.92495, 50.96552000785271], [13.925000000000002, 50.96552000785271], [13.925000000000002, 50.96548000828324], [13.92495, 50.96548000828324], [13.92495, 50.96552000785271]]], &quot;type&quot;: &quot;Polygon&quot;}, {&quot;coordinates&quot;: [[[13.92495, 50.96548000828324], [13.925000000000002, 50.96548000828324], [13.925000000000002, 50.965440008679316], [13.92495, 50.965440008679316], [13.92495, 50.96548000828324]]], &quot;type&quot;: &quot;Polygon&quot;}, {&quot;coordinates&quot;: [[[13.92495, 50.965440008679316], [13.925000000000002, 50.965440008679316], [13.925000000000002, 50.965400009040955], [13.92495, 50.965400009040955], [13.92495, 50.965440008679316]]], &quot;type&quot;: &quot;Polygon&quot;}, {&quot;coordinates&quot;: [[[13.92495, 50.965400009040955], [13.925000000000002, 50.965400009040955], [13.925000000000002, 50.965360009368155], [13.92495, 50.965360009368155], [13.92495, 50.965400009040955]]], &quot;type&quot;: &quot;Polygon&quot;}, {&quot;coordinates&quot;: [[[13.92495, 50.965360009368155], [13.925000000000002, 50.965360009368155], [13.925000000000002, 50.96532000966091], [13.92495, 50.96532000966091], [13.92495, 50.965360009368155]]], &quot;type&quot;: &quot;Polygon&quot;}, {&quot;coordinates&quot;: [[[13.92495, 50.96532000966091], [13.925000000000002, 50.96532000966091], [13.925000000000002, 50.965280009919226], [13.92495, 50.965280009919226], [13.92495, 50.96532000966091]]], &quot;type&quot;: &quot;Polygon&quot;}, {&quot;coordinates&quot;: [[[13.92495, 50.965280009919226], [13.925000000000002, 50.965280009919226], [13.925000000000002, 50.96524001014309], [13.92495, 50.96524001014309], [13.92495, 50.965280009919226]]], &quot;type&quot;: &quot;Polygon&quot;}, {&quot;coordinates&quot;: [[[13.92495, 50.96524001014309], [13.925000000000002, 50.96524001014309], [13.925000000000002, 50.96520001033253], [13.92495, 50.96520001033253], [13.92495, 50.96524001014309]]], &quot;type&quot;: &quot;Polygon&quot;}, {&quot;coordinates&quot;: [[[13.92495, 50.96520001033253], [13.925000000000002, 50.96520001033253], [13.925000000000002, 50.965160010487516], [13.92495, 50.965160010487516], [13.92495, 50.96520001033253]]], &quot;type&quot;: &quot;Polygon&quot;}, {&quot;coordinates&quot;: [[[13.92495, 50.965160010487516], [13.925000000000002, 50.965160010487516], [13.925000000000002, 50.96512001060807], [13.92495, 50.96512001060807], [13.92495, 50.965160010487516]]], &quot;type&quot;: &quot;Polygon&quot;}, {&quot;coordinates&quot;: [[[13.92495, 50.96512001060807], [13.925000000000002, 50.96512001060807], [13.925000000000002, 50.96508001069417], [13.92495, 50.96508001069417], [13.92495, 50.96512001060807]]], &quot;type&quot;: &quot;Polygon&quot;}, {&quot;coordinates&quot;: [[[13.92495, 50.96508001069417], [13.925000000000002, 50.96508001069417], [13.925000000000002, 50.96504001074583], [13.92495, 50.96504001074583], [13.92495, 50.96508001069417]]], &quot;type&quot;: &quot;Polygon&quot;}, {&quot;coordinates&quot;: [[[13.92495, 50.96504001074583], [13.925000000000002, 50.96504001074583], [13.925000000000002, 50.96500001076305], [13.92495, 50.96500001076305], [13.92495, 50.96504001074583]]], &quot;type&quot;: &quot;Polygon&quot;}, {&quot;coordinates&quot;: [[[13.92495, 50.96500001076305], [13.925000000000002, 50.96500001076305], [13.925000000000002, 50.964960010745834], [13.92495, 50.964960010745834], [13.92495, 50.96500001076305]]], &quot;type&quot;: &quot;Polygon&quot;}, {&quot;coordinates&quot;: [[[13.92495, 50.964960010745834], [13.925000000000002, 50.964960010745834], [13.925000000000002, 50.96492001069418], [13.92495, 50.96492001069418], [13.92495, 50.964960010745834]]], &quot;type&quot;: &quot;Polygon&quot;}, {&quot;coordinates&quot;: [[[13.92495, 50.96492001069418], [13.925000000000002, 50.96492001069418], [13.925000000000002, 50.96488001060807], [13.92495, 50.96488001060807], [13.92495, 50.96492001069418]]], &quot;type&quot;: &quot;Polygon&quot;}, {&quot;coordinates&quot;: [[[13.92495, 50.96488001060807], [13.925000000000002, 50.96488001060807], [13.925000000000002, 50.96484001048752], [13.92495, 50.96484001048752], [13.92495, 50.96488001060807]]], &quot;type&quot;: &quot;Polygon&quot;}, {&quot;coordinates&quot;: [[[13.92495, 50.96484001048752], [13.925000000000002, 50.96484001048752], [13.925000000000002, 50.964800010332546], [13.92495, 50.964800010332546], [13.92495, 50.96484001048752]]], &quot;type&quot;: &quot;Polygon&quot;}, {&quot;coordinates&quot;: [[[13.92495, 50.964800010332546], [13.925000000000002, 50.964800010332546], [13.925000000000002, 50.96476001014311], [13.92495, 50.96476001014311], [13.92495, 50.964800010332546]]], &quot;type&quot;: &quot;Polygon&quot;}, {&quot;coordinates&quot;: [[[13.92495, 50.96476001014311], [13.925000000000002, 50.96476001014311], [13.925000000000002, 50.96472000991924], [13.92495, 50.96472000991924], [13.92495, 50.96476001014311]]], &quot;type&quot;: &quot;Polygon&quot;}, {&quot;coordinates&quot;: [[[13.92495, 50.96472000991924], [13.925000000000002, 50.96472000991924], [13.925000000000002, 50.964680009660924], [13.92495, 50.964680009660924], [13.92495, 50.96472000991924]]], &quot;type&quot;: &quot;Polygon&quot;}, {&quot;coordinates&quot;: [[[13.92495, 50.964680009660924], [13.925000000000002, 50.964680009660924], [13.925000000000002, 50.96464000936817], [13.92495, 50.96464000936817], [13.92495, 50.964680009660924]]], &quot;type&quot;: &quot;Polygon&quot;}, {&quot;coordinates&quot;: [[[13.92495, 50.96464000936817], [13.925000000000002, 50.96464000936817], [13.925000000000002, 50.96460000904097], [13.92495, 50.96460000904097], [13.92495, 50.96464000936817]]], &quot;type&quot;: &quot;Polygon&quot;}, {&quot;coordinates&quot;: [[[13.92495, 50.96460000904097], [13.925000000000002, 50.96460000904097], [13.925000000000002, 50.96456000867934], [13.92495, 50.96456000867934], [13.92495, 50.96460000904097]]], &quot;type&quot;: &quot;Polygon&quot;}, {&quot;coordinates&quot;: [[[13.92495, 50.96456000867934], [13.925000000000002, 50.96456000867934], [13.925000000000002, 50.96452000828325], [13.92495, 50.96452000828325], [13.92495, 50.96456000867934]]], &quot;type&quot;: &quot;Polygon&quot;}, {&quot;coordinates&quot;: [[[13.92495, 50.96452000828325], [13.925000000000002, 50.96452000828325], [13.925000000000002, 50.964480007852735], [13.92495, 50.964480007852735], [13.92495, 50.96452000828325]]], &quot;type&quot;: &quot;Polygon&quot;}, {&quot;coordinates&quot;: [[[13.92495, 50.964480007852735], [13.925000000000002, 50.964480007852735], [13.925000000000002, 50.96444000738777], [13.92495, 50.96444000738777], [13.92495, 50.964480007852735]]], &quot;type&quot;: &quot;Polygon&quot;}, {&quot;coordinates&quot;: [[[13.92495, 50.96444000738777], [13.925000000000002, 50.96444000738777], [13.925000000000002, 50.96440000688836], [13.92495, 50.96440000688836], [13.92495, 50.96444000738777]]], &quot;type&quot;: &quot;Polygon&quot;}, {&quot;coordinates&quot;: [[[13.92495, 50.96440000688836], [13.925000000000002, 50.96440000688836], [13.925000000000002, 50.96436000635452], [13.92495, 50.96436000635452], [13.92495, 50.96440000688836]]], &quot;type&quot;: &quot;Polygon&quot;}, {&quot;coordinates&quot;: [[[13.92495, 50.96436000635452], [13.925000000000002, 50.96436000635452], [13.925000000000002, 50.96432000578623], [13.92495, 50.96432000578623], [13.92495, 50.96436000635452]]], &quot;type&quot;: &quot;Polygon&quot;}, {&quot;coordinates&quot;: [[[13.92495, 50.96432000578623], [13.925000000000002, 50.96432000578623], [13.925000000000002, 50.9642800051835], [13.92495, 50.9642800051835], [13.92495, 50.96432000578623]]], &quot;type&quot;: &quot;Polygon&quot;}, {&quot;coordinates&quot;: [[[13.92495, 50.9642800051835], [13.925000000000002, 50.9642800051835], [13.925000000000002, 50.96424000454632], [13.92495, 50.96424000454632], [13.92495, 50.9642800051835]]], &quot;type&quot;: &quot;Polygon&quot;}, {&quot;coordinates&quot;: [[[13.92495, 50.96424000454632], [13.925000000000002, 50.96424000454632], [13.925000000000002, 50.96420000387471], [13.92495, 50.96420000387471], [13.92495, 50.96424000454632]]], &quot;type&quot;: &quot;Polygon&quot;}, {&quot;coordinates&quot;: [[[13.92495, 50.96420000387471], [13.925000000000002, 50.96420000387471], [13.925000000000002, 50.964160003168644], [13.92495, 50.964160003168644], [13.92495, 50.96420000387471]]], &quot;type&quot;: &quot;Polygon&quot;}, {&quot;coordinates&quot;: [[[13.92495, 50.964160003168644], [13.925000000000002, 50.964160003168644], [13.925000000000002, 50.964120002428146], [13.92495, 50.964120002428146], [13.92495, 50.964160003168644]]], &quot;type&quot;: &quot;Polygon&quot;}, {&quot;coordinates&quot;: [[[13.92495, 50.964120002428146], [13.925000000000002, 50.964120002428146], [13.925000000000002, 50.96408000165321], [13.92495, 50.96408000165321], [13.92495, 50.964120002428146]]], &quot;type&quot;: &quot;Polygon&quot;}, {&quot;coordinates&quot;: [[[13.92495, 50.96408000165321], [13.925000000000002, 50.96408000165321], [13.925000000000002, 50.964040000843816], [13.92495, 50.964040000843816], [13.92495, 50.96408000165321]]], &quot;type&quot;: &quot;Polygon&quot;}, {&quot;coordinates&quot;: [[[13.92495, 50.964040000843816], [13.925000000000002, 50.964040000843816], [13.925000000000002, 50.96399999999999], [13.92495, 50.96399999999999], [13.92495, 50.964040000843816]]], &quot;type&quot;: &quot;Polygon&quot;}], &quot;type&quot;: &quot;GeometryCollection&quot;});\n",
       "\n",
       "        \n",
       "    \n",
       "            geo_json_4e623c380eaa157cbde6b3acfeaadaaf.addTo(map_60bf68856b0a15153fda5b89acc1c6ea);\n",
       "        \n",
       "    \n",
       "\n",
       "        function geo_json_ce0df4d6b00500709aaa48f6cd81326a_onEachFeature(feature, layer) {\n",
       "            layer.on({\n",
       "            });\n",
       "        };\n",
       "        var geo_json_ce0df4d6b00500709aaa48f6cd81326a = L.geoJson(null, {\n",
       "                onEachFeature: geo_json_ce0df4d6b00500709aaa48f6cd81326a_onEachFeature,\n",
       "            \n",
       "        });\n",
       "\n",
       "        function geo_json_ce0df4d6b00500709aaa48f6cd81326a_add (data) {\n",
       "            geo_json_ce0df4d6b00500709aaa48f6cd81326a\n",
       "                .addData(data);\n",
       "        }\n",
       "            geo_json_ce0df4d6b00500709aaa48f6cd81326a_add({&quot;coordinates&quot;: [13.92499, 50.966], &quot;type&quot;: &quot;Point&quot;});\n",
       "\n",
       "        \n",
       "    \n",
       "            geo_json_ce0df4d6b00500709aaa48f6cd81326a.addTo(map_60bf68856b0a15153fda5b89acc1c6ea);\n",
       "        \n",
       "    \n",
       "\n",
       "        function geo_json_cf5aa95db4cbd675a77993a0958880bc_onEachFeature(feature, layer) {\n",
       "            layer.on({\n",
       "            });\n",
       "        };\n",
       "        var geo_json_cf5aa95db4cbd675a77993a0958880bc = L.geoJson(null, {\n",
       "                onEachFeature: geo_json_cf5aa95db4cbd675a77993a0958880bc_onEachFeature,\n",
       "            \n",
       "        });\n",
       "\n",
       "        function geo_json_cf5aa95db4cbd675a77993a0958880bc_add (data) {\n",
       "            geo_json_cf5aa95db4cbd675a77993a0958880bc\n",
       "                .addData(data);\n",
       "        }\n",
       "            geo_json_cf5aa95db4cbd675a77993a0958880bc_add({&quot;coordinates&quot;: [13.92499, 50.964], &quot;type&quot;: &quot;Point&quot;});\n",
       "\n",
       "        \n",
       "    \n",
       "            geo_json_cf5aa95db4cbd675a77993a0958880bc.addTo(map_60bf68856b0a15153fda5b89acc1c6ea);\n",
       "        \n",
       "    \n",
       "\n",
       "        function geo_json_a9027a9412cd8b7bfc39b3fe81d1f05a_onEachFeature(feature, layer) {\n",
       "            layer.on({\n",
       "            });\n",
       "        };\n",
       "        var geo_json_a9027a9412cd8b7bfc39b3fe81d1f05a = L.geoJson(null, {\n",
       "                onEachFeature: geo_json_a9027a9412cd8b7bfc39b3fe81d1f05a_onEachFeature,\n",
       "            \n",
       "        });\n",
       "\n",
       "        function geo_json_a9027a9412cd8b7bfc39b3fe81d1f05a_add (data) {\n",
       "            geo_json_a9027a9412cd8b7bfc39b3fe81d1f05a\n",
       "                .addData(data);\n",
       "        }\n",
       "            geo_json_a9027a9412cd8b7bfc39b3fe81d1f05a_add({&quot;coordinates&quot;: [[13.92004, 50.96401], [13.92004, 50.96599]], &quot;type&quot;: &quot;LineString&quot;});\n",
       "\n",
       "        \n",
       "    \n",
       "            geo_json_a9027a9412cd8b7bfc39b3fe81d1f05a.addTo(map_60bf68856b0a15153fda5b89acc1c6ea);\n",
       "        \n",
       "    \n",
       "\n",
       "        function geo_json_b5a7b28d8a7cd55deb678df2a9ee910f_onEachFeature(feature, layer) {\n",
       "            layer.on({\n",
       "            });\n",
       "        };\n",
       "        var geo_json_b5a7b28d8a7cd55deb678df2a9ee910f = L.geoJson(null, {\n",
       "                onEachFeature: geo_json_b5a7b28d8a7cd55deb678df2a9ee910f_onEachFeature,\n",
       "            \n",
       "        });\n",
       "\n",
       "        function geo_json_b5a7b28d8a7cd55deb678df2a9ee910f_add (data) {\n",
       "            geo_json_b5a7b28d8a7cd55deb678df2a9ee910f\n",
       "                .addData(data);\n",
       "        }\n",
       "            geo_json_b5a7b28d8a7cd55deb678df2a9ee910f_add({&quot;geometries&quot;: [{&quot;coordinates&quot;: [[[13.920000000000002, 50.965999999999994], [13.920050000000002, 50.965999999999994], [13.920050000000002, 50.965960000843815], [13.920000000000002, 50.965960000843815], [13.920000000000002, 50.965999999999994]]], &quot;type&quot;: &quot;Polygon&quot;}, {&quot;coordinates&quot;: [[[13.920000000000002, 50.965960000843815], [13.920050000000002, 50.965960000843815], [13.920050000000002, 50.965920001653195], [13.920000000000002, 50.965920001653195], [13.920000000000002, 50.965960000843815]]], &quot;type&quot;: &quot;Polygon&quot;}, {&quot;coordinates&quot;: [[[13.920000000000002, 50.965920001653195], [13.920050000000002, 50.965920001653195], [13.920050000000002, 50.965880002428136], [13.920000000000002, 50.965880002428136], [13.920000000000002, 50.965920001653195]]], &quot;type&quot;: &quot;Polygon&quot;}, {&quot;coordinates&quot;: [[[13.920000000000002, 50.965880002428136], [13.920050000000002, 50.965880002428136], [13.920050000000002, 50.96584000316863], [13.920000000000002, 50.96584000316863], [13.920000000000002, 50.965880002428136]]], &quot;type&quot;: &quot;Polygon&quot;}, {&quot;coordinates&quot;: [[[13.920000000000002, 50.96584000316863], [13.920050000000002, 50.96584000316863], [13.920050000000002, 50.96580000387468], [13.920000000000002, 50.96580000387468], [13.920000000000002, 50.96584000316863]]], &quot;type&quot;: &quot;Polygon&quot;}, {&quot;coordinates&quot;: [[[13.920000000000002, 50.96580000387468], [13.920050000000002, 50.96580000387468], [13.920050000000002, 50.965760004546304], [13.920000000000002, 50.965760004546304], [13.920000000000002, 50.96580000387468]]], &quot;type&quot;: &quot;Polygon&quot;}, {&quot;coordinates&quot;: [[[13.920000000000002, 50.965760004546304], [13.920050000000002, 50.965760004546304], [13.920050000000002, 50.96572000518347], [13.920000000000002, 50.96572000518347], [13.920000000000002, 50.965760004546304]]], &quot;type&quot;: &quot;Polygon&quot;}, {&quot;coordinates&quot;: [[[13.920000000000002, 50.96572000518347], [13.920050000000002, 50.96572000518347], [13.920050000000002, 50.9656800057862], [13.920000000000002, 50.9656800057862], [13.920000000000002, 50.96572000518347]]], &quot;type&quot;: &quot;Polygon&quot;}, {&quot;coordinates&quot;: [[[13.920000000000002, 50.9656800057862], [13.920050000000002, 50.9656800057862], [13.920050000000002, 50.9656400063545], [13.920000000000002, 50.9656400063545], [13.920000000000002, 50.9656800057862]]], &quot;type&quot;: &quot;Polygon&quot;}, {&quot;coordinates&quot;: [[[13.920000000000002, 50.9656400063545], [13.920050000000002, 50.9656400063545], [13.920050000000002, 50.965600006888344], [13.920000000000002, 50.965600006888344], [13.920000000000002, 50.9656400063545]]], &quot;type&quot;: &quot;Polygon&quot;}, {&quot;coordinates&quot;: [[[13.920000000000002, 50.965600006888344], [13.920050000000002, 50.965600006888344], [13.920050000000002, 50.965560007387744], [13.920000000000002, 50.965560007387744], [13.920000000000002, 50.965600006888344]]], &quot;type&quot;: &quot;Polygon&quot;}, {&quot;coordinates&quot;: [[[13.920000000000002, 50.965560007387744], [13.920050000000002, 50.965560007387744], [13.920050000000002, 50.96552000785271], [13.920000000000002, 50.96552000785271], [13.920000000000002, 50.965560007387744]]], &quot;type&quot;: &quot;Polygon&quot;}, {&quot;coordinates&quot;: [[[13.920000000000002, 50.96552000785271], [13.920050000000002, 50.96552000785271], [13.920050000000002, 50.96548000828324], [13.920000000000002, 50.96548000828324], [13.920000000000002, 50.96552000785271]]], &quot;type&quot;: &quot;Polygon&quot;}, {&quot;coordinates&quot;: [[[13.920000000000002, 50.96548000828324], [13.920050000000002, 50.96548000828324], [13.920050000000002, 50.965440008679316], [13.920000000000002, 50.965440008679316], [13.920000000000002, 50.96548000828324]]], &quot;type&quot;: &quot;Polygon&quot;}, {&quot;coordinates&quot;: [[[13.920000000000002, 50.965440008679316], [13.920050000000002, 50.965440008679316], [13.920050000000002, 50.965400009040955], [13.920000000000002, 50.965400009040955], [13.920000000000002, 50.965440008679316]]], &quot;type&quot;: &quot;Polygon&quot;}, {&quot;coordinates&quot;: [[[13.920000000000002, 50.965400009040955], [13.920050000000002, 50.965400009040955], [13.920050000000002, 50.965360009368155], [13.920000000000002, 50.965360009368155], [13.920000000000002, 50.965400009040955]]], &quot;type&quot;: &quot;Polygon&quot;}, {&quot;coordinates&quot;: [[[13.920000000000002, 50.965360009368155], [13.920050000000002, 50.965360009368155], [13.920050000000002, 50.96532000966091], [13.920000000000002, 50.96532000966091], [13.920000000000002, 50.965360009368155]]], &quot;type&quot;: &quot;Polygon&quot;}, {&quot;coordinates&quot;: [[[13.920000000000002, 50.96532000966091], [13.920050000000002, 50.96532000966091], [13.920050000000002, 50.965280009919226], [13.920000000000002, 50.965280009919226], [13.920000000000002, 50.96532000966091]]], &quot;type&quot;: &quot;Polygon&quot;}, {&quot;coordinates&quot;: [[[13.920000000000002, 50.965280009919226], [13.920050000000002, 50.965280009919226], [13.920050000000002, 50.96524001014309], [13.920000000000002, 50.96524001014309], [13.920000000000002, 50.965280009919226]]], &quot;type&quot;: &quot;Polygon&quot;}, {&quot;coordinates&quot;: [[[13.920000000000002, 50.96524001014309], [13.920050000000002, 50.96524001014309], [13.920050000000002, 50.96520001033253], [13.920000000000002, 50.96520001033253], [13.920000000000002, 50.96524001014309]]], &quot;type&quot;: &quot;Polygon&quot;}, {&quot;coordinates&quot;: [[[13.920000000000002, 50.96520001033253], [13.920050000000002, 50.96520001033253], [13.920050000000002, 50.965160010487516], [13.920000000000002, 50.965160010487516], [13.920000000000002, 50.96520001033253]]], &quot;type&quot;: &quot;Polygon&quot;}, {&quot;coordinates&quot;: [[[13.920000000000002, 50.965160010487516], [13.920050000000002, 50.965160010487516], [13.920050000000002, 50.96512001060807], [13.920000000000002, 50.96512001060807], [13.920000000000002, 50.965160010487516]]], &quot;type&quot;: &quot;Polygon&quot;}, {&quot;coordinates&quot;: [[[13.920000000000002, 50.96512001060807], [13.920050000000002, 50.96512001060807], [13.920050000000002, 50.96508001069417], [13.920000000000002, 50.96508001069417], [13.920000000000002, 50.96512001060807]]], &quot;type&quot;: &quot;Polygon&quot;}, {&quot;coordinates&quot;: [[[13.920000000000002, 50.96508001069417], [13.920050000000002, 50.96508001069417], [13.920050000000002, 50.96504001074583], [13.920000000000002, 50.96504001074583], [13.920000000000002, 50.96508001069417]]], &quot;type&quot;: &quot;Polygon&quot;}, {&quot;coordinates&quot;: [[[13.920000000000002, 50.96504001074583], [13.920050000000002, 50.96504001074583], [13.920050000000002, 50.96500001076305], [13.920000000000002, 50.96500001076305], [13.920000000000002, 50.96504001074583]]], &quot;type&quot;: &quot;Polygon&quot;}, {&quot;coordinates&quot;: [[[13.920000000000002, 50.96500001076305], [13.920050000000002, 50.96500001076305], [13.920050000000002, 50.964960010745834], [13.920000000000002, 50.964960010745834], [13.920000000000002, 50.96500001076305]]], &quot;type&quot;: &quot;Polygon&quot;}, {&quot;coordinates&quot;: [[[13.920000000000002, 50.964960010745834], [13.920050000000002, 50.964960010745834], [13.920050000000002, 50.96492001069418], [13.920000000000002, 50.96492001069418], [13.920000000000002, 50.964960010745834]]], &quot;type&quot;: &quot;Polygon&quot;}, {&quot;coordinates&quot;: [[[13.920000000000002, 50.96492001069418], [13.920050000000002, 50.96492001069418], [13.920050000000002, 50.96488001060807], [13.920000000000002, 50.96488001060807], [13.920000000000002, 50.96492001069418]]], &quot;type&quot;: &quot;Polygon&quot;}, {&quot;coordinates&quot;: [[[13.920000000000002, 50.96488001060807], [13.920050000000002, 50.96488001060807], [13.920050000000002, 50.96484001048752], [13.920000000000002, 50.96484001048752], [13.920000000000002, 50.96488001060807]]], &quot;type&quot;: &quot;Polygon&quot;}, {&quot;coordinates&quot;: [[[13.920000000000002, 50.96484001048752], [13.920050000000002, 50.96484001048752], [13.920050000000002, 50.964800010332546], [13.920000000000002, 50.964800010332546], [13.920000000000002, 50.96484001048752]]], &quot;type&quot;: &quot;Polygon&quot;}, {&quot;coordinates&quot;: [[[13.920000000000002, 50.964800010332546], [13.920050000000002, 50.964800010332546], [13.920050000000002, 50.96476001014311], [13.920000000000002, 50.96476001014311], [13.920000000000002, 50.964800010332546]]], &quot;type&quot;: &quot;Polygon&quot;}, {&quot;coordinates&quot;: [[[13.920000000000002, 50.96476001014311], [13.920050000000002, 50.96476001014311], [13.920050000000002, 50.96472000991924], [13.920000000000002, 50.96472000991924], [13.920000000000002, 50.96476001014311]]], &quot;type&quot;: &quot;Polygon&quot;}, {&quot;coordinates&quot;: [[[13.920000000000002, 50.96472000991924], [13.920050000000002, 50.96472000991924], [13.920050000000002, 50.964680009660924], [13.920000000000002, 50.964680009660924], [13.920000000000002, 50.96472000991924]]], &quot;type&quot;: &quot;Polygon&quot;}, {&quot;coordinates&quot;: [[[13.920000000000002, 50.964680009660924], [13.920050000000002, 50.964680009660924], [13.920050000000002, 50.96464000936817], [13.920000000000002, 50.96464000936817], [13.920000000000002, 50.964680009660924]]], &quot;type&quot;: &quot;Polygon&quot;}, {&quot;coordinates&quot;: [[[13.920000000000002, 50.96464000936817], [13.920050000000002, 50.96464000936817], [13.920050000000002, 50.96460000904097], [13.920000000000002, 50.96460000904097], [13.920000000000002, 50.96464000936817]]], &quot;type&quot;: &quot;Polygon&quot;}, {&quot;coordinates&quot;: [[[13.920000000000002, 50.96460000904097], [13.920050000000002, 50.96460000904097], [13.920050000000002, 50.96456000867934], [13.920000000000002, 50.96456000867934], [13.920000000000002, 50.96460000904097]]], &quot;type&quot;: &quot;Polygon&quot;}, {&quot;coordinates&quot;: [[[13.920000000000002, 50.96456000867934], [13.920050000000002, 50.96456000867934], [13.920050000000002, 50.96452000828325], [13.920000000000002, 50.96452000828325], [13.920000000000002, 50.96456000867934]]], &quot;type&quot;: &quot;Polygon&quot;}, {&quot;coordinates&quot;: [[[13.920000000000002, 50.96452000828325], [13.920050000000002, 50.96452000828325], [13.920050000000002, 50.964480007852735], [13.920000000000002, 50.964480007852735], [13.920000000000002, 50.96452000828325]]], &quot;type&quot;: &quot;Polygon&quot;}, {&quot;coordinates&quot;: [[[13.920000000000002, 50.964480007852735], [13.920050000000002, 50.964480007852735], [13.920050000000002, 50.96444000738777], [13.920000000000002, 50.96444000738777], [13.920000000000002, 50.964480007852735]]], &quot;type&quot;: &quot;Polygon&quot;}, {&quot;coordinates&quot;: [[[13.920000000000002, 50.96444000738777], [13.920050000000002, 50.96444000738777], [13.920050000000002, 50.96440000688836], [13.920000000000002, 50.96440000688836], [13.920000000000002, 50.96444000738777]]], &quot;type&quot;: &quot;Polygon&quot;}, {&quot;coordinates&quot;: [[[13.920000000000002, 50.96440000688836], [13.920050000000002, 50.96440000688836], [13.920050000000002, 50.96436000635452], [13.920000000000002, 50.96436000635452], [13.920000000000002, 50.96440000688836]]], &quot;type&quot;: &quot;Polygon&quot;}, {&quot;coordinates&quot;: [[[13.920000000000002, 50.96436000635452], [13.920050000000002, 50.96436000635452], [13.920050000000002, 50.96432000578623], [13.920000000000002, 50.96432000578623], [13.920000000000002, 50.96436000635452]]], &quot;type&quot;: &quot;Polygon&quot;}, {&quot;coordinates&quot;: [[[13.920000000000002, 50.96432000578623], [13.920050000000002, 50.96432000578623], [13.920050000000002, 50.9642800051835], [13.920000000000002, 50.9642800051835], [13.920000000000002, 50.96432000578623]]], &quot;type&quot;: &quot;Polygon&quot;}, {&quot;coordinates&quot;: [[[13.920000000000002, 50.9642800051835], [13.920050000000002, 50.9642800051835], [13.920050000000002, 50.96424000454632], [13.920000000000002, 50.96424000454632], [13.920000000000002, 50.9642800051835]]], &quot;type&quot;: &quot;Polygon&quot;}, {&quot;coordinates&quot;: [[[13.920000000000002, 50.96424000454632], [13.920050000000002, 50.96424000454632], [13.920050000000002, 50.96420000387471], [13.920000000000002, 50.96420000387471], [13.920000000000002, 50.96424000454632]]], &quot;type&quot;: &quot;Polygon&quot;}, {&quot;coordinates&quot;: [[[13.920000000000002, 50.96420000387471], [13.920050000000002, 50.96420000387471], [13.920050000000002, 50.964160003168644], [13.920000000000002, 50.964160003168644], [13.920000000000002, 50.96420000387471]]], &quot;type&quot;: &quot;Polygon&quot;}, {&quot;coordinates&quot;: [[[13.920000000000002, 50.964160003168644], [13.920050000000002, 50.964160003168644], [13.920050000000002, 50.964120002428146], [13.920000000000002, 50.964120002428146], [13.920000000000002, 50.964160003168644]]], &quot;type&quot;: &quot;Polygon&quot;}, {&quot;coordinates&quot;: [[[13.920000000000002, 50.964120002428146], [13.920050000000002, 50.964120002428146], [13.920050000000002, 50.96408000165321], [13.920000000000002, 50.96408000165321], [13.920000000000002, 50.964120002428146]]], &quot;type&quot;: &quot;Polygon&quot;}, {&quot;coordinates&quot;: [[[13.920000000000002, 50.96408000165321], [13.920050000000002, 50.96408000165321], [13.920050000000002, 50.964040000843816], [13.920000000000002, 50.964040000843816], [13.920000000000002, 50.96408000165321]]], &quot;type&quot;: &quot;Polygon&quot;}, {&quot;coordinates&quot;: [[[13.920000000000002, 50.964040000843816], [13.920050000000002, 50.964040000843816], [13.920050000000002, 50.96399999999999], [13.920000000000002, 50.96399999999999], [13.920000000000002, 50.964040000843816]]], &quot;type&quot;: &quot;Polygon&quot;}], &quot;type&quot;: &quot;GeometryCollection&quot;});\n",
       "\n",
       "        \n",
       "    \n",
       "            geo_json_b5a7b28d8a7cd55deb678df2a9ee910f.addTo(map_60bf68856b0a15153fda5b89acc1c6ea);\n",
       "        \n",
       "    \n",
       "\n",
       "        function geo_json_b1a6e583c21b7d721345362727861629_onEachFeature(feature, layer) {\n",
       "            layer.on({\n",
       "            });\n",
       "        };\n",
       "        var geo_json_b1a6e583c21b7d721345362727861629 = L.geoJson(null, {\n",
       "                onEachFeature: geo_json_b1a6e583c21b7d721345362727861629_onEachFeature,\n",
       "            \n",
       "        });\n",
       "\n",
       "        function geo_json_b1a6e583c21b7d721345362727861629_add (data) {\n",
       "            geo_json_b1a6e583c21b7d721345362727861629\n",
       "                .addData(data);\n",
       "        }\n",
       "            geo_json_b1a6e583c21b7d721345362727861629_add({&quot;coordinates&quot;: [13.92004, 50.96599], &quot;type&quot;: &quot;Point&quot;});\n",
       "\n",
       "        \n",
       "    \n",
       "            geo_json_b1a6e583c21b7d721345362727861629.addTo(map_60bf68856b0a15153fda5b89acc1c6ea);\n",
       "        \n",
       "    \n",
       "\n",
       "        function geo_json_ba11cb33dfd7a94dcb0b6b573ae8188f_onEachFeature(feature, layer) {\n",
       "            layer.on({\n",
       "            });\n",
       "        };\n",
       "        var geo_json_ba11cb33dfd7a94dcb0b6b573ae8188f = L.geoJson(null, {\n",
       "                onEachFeature: geo_json_ba11cb33dfd7a94dcb0b6b573ae8188f_onEachFeature,\n",
       "            \n",
       "        });\n",
       "\n",
       "        function geo_json_ba11cb33dfd7a94dcb0b6b573ae8188f_add (data) {\n",
       "            geo_json_ba11cb33dfd7a94dcb0b6b573ae8188f\n",
       "                .addData(data);\n",
       "        }\n",
       "            geo_json_ba11cb33dfd7a94dcb0b6b573ae8188f_add({&quot;coordinates&quot;: [13.92004, 50.96401], &quot;type&quot;: &quot;Point&quot;});\n",
       "\n",
       "        \n",
       "    \n",
       "            geo_json_ba11cb33dfd7a94dcb0b6b573ae8188f.addTo(map_60bf68856b0a15153fda5b89acc1c6ea);\n",
       "        \n",
       "    \n",
       "            map_60bf68856b0a15153fda5b89acc1c6ea.fitBounds(\n",
       "                [[50.964, 13.92], [50.966, 13.925000000000002]],\n",
       "                {}\n",
       "            );\n",
       "        \n",
       "&lt;/script&gt;\n",
       "&lt;/html&gt;\" style=\"position:absolute;width:100%;height:100%;left:0;top:0;border:none !important;\" allowfullscreen webkitallowfullscreen mozallowfullscreen></iframe></div></div>"
      ],
      "text/plain": [
       "<folium.folium.Map at 0x15be7ca40>"
      ]
     },
     "execution_count": 6,
     "metadata": {},
     "output_type": "execute_result"
    }
   ],
   "source": [
    "from morpheus.project.types.boundaries.Observation import ObservationName\n",
    "from morpheus.project.types.boundaries.GeneralHeadObservation import ObservationId, GeneralHeadRawDataItem, \\\n",
    "  GeneralHeadObservation, Stage, Conductance\n",
    "from morpheus.project.types.geometry import Point\n",
    "from morpheus.project.types.boundaries.Boundary import BoundaryName, BoundaryCollection\n",
    "from morpheus.project.types.layers import LayerId\n",
    "from morpheus.project.types.boundaries.Boundary import GeneralHeadBoundary\n",
    "\n",
    "layers_list = [LayerId.new()]\n",
    "\n",
    "general_head_east = GeneralHeadBoundary.from_geometry(\n",
    "  name=BoundaryName('general_head_east'),\n",
    "  geometry=LineString([\n",
    "    (13.92499, 50.966),\n",
    "    (13.92499, 50.964),\n",
    "  ]),\n",
    "  grid=grid,\n",
    "  affected_layers=[model.layers[0].layer_id],\n",
    "  observations=[\n",
    "    GeneralHeadObservation(\n",
    "      observation_id=ObservationId.new(),\n",
    "      observation_name=ObservationName.default(),\n",
    "      geometry=Point((13.92499, 50.966)),\n",
    "      data=[\n",
    "        GeneralHeadRawDataItem(\n",
    "          date_time=StartDateTime.from_datetime(datetime(2019, 1, 1)),\n",
    "          stage=Stage.from_float(100),\n",
    "          conductance=Conductance.from_float(100),\n",
    "        ),\n",
    "        GeneralHeadRawDataItem(\n",
    "          date_time=StartDateTime.from_datetime(datetime(2021, 12, 31)),\n",
    "          stage=Stage.from_float(100),\n",
    "          conductance=Conductance.from_float(100),\n",
    "        ),\n",
    "      ]\n",
    "    ),\n",
    "    GeneralHeadObservation(\n",
    "      observation_id=ObservationId.new(),\n",
    "      observation_name=ObservationName.default(),\n",
    "      geometry=Point((13.92499, 50.964)),\n",
    "      data=[\n",
    "        GeneralHeadRawDataItem(\n",
    "          date_time=StartDateTime.from_datetime(datetime(2019, 1, 1)),\n",
    "          stage=Stage.from_float(200),\n",
    "          conductance=Conductance.from_float(200),\n",
    "        ),\n",
    "        GeneralHeadRawDataItem(\n",
    "          date_time=StartDateTime.from_datetime(datetime(2021, 12, 31)),\n",
    "          stage=Stage.from_float(200),\n",
    "          conductance=Conductance.from_float(200),\n",
    "        ),\n",
    "      ]\n",
    "    ),\n",
    "  ]\n",
    ")\n",
    "\n",
    "general_head_west = GeneralHeadBoundary.from_geometry(\n",
    "  name=BoundaryName('general_head_west'),\n",
    "  geometry=LineString([\n",
    "    (13.92004, 50.96401),\n",
    "    (13.92004, 50.96599),\n",
    "  ]),\n",
    "  grid=grid,\n",
    "  affected_layers=[model.layers[0].layer_id],\n",
    "  observations=[\n",
    "    GeneralHeadObservation(\n",
    "      observation_id=ObservationId.new(),\n",
    "      observation_name=ObservationName.default(),\n",
    "      geometry=Point((13.92004, 50.96599)),\n",
    "      data=[\n",
    "        GeneralHeadRawDataItem(\n",
    "          date_time=StartDateTime.from_datetime(datetime(2019, 1, 1)),\n",
    "          stage=Stage.from_float(300),\n",
    "          conductance=Conductance.from_float(300),\n",
    "        ),\n",
    "        GeneralHeadRawDataItem(\n",
    "          date_time=StartDateTime.from_datetime(datetime(2021, 12, 31)),\n",
    "          stage=Stage.from_float(300),\n",
    "          conductance=Conductance.from_float(300),\n",
    "        ),\n",
    "      ]\n",
    "    ),\n",
    "    GeneralHeadObservation(\n",
    "      observation_id=ObservationId.new(),\n",
    "      observation_name=ObservationName.default(),\n",
    "      geometry=Point((13.92004, 50.96401)),\n",
    "      data=[\n",
    "        GeneralHeadRawDataItem(\n",
    "          date_time=StartDateTime.from_datetime(datetime(2019, 1, 1)),\n",
    "          stage=Stage.from_float(400),\n",
    "          conductance=Conductance.from_float(400),\n",
    "        ),\n",
    "        GeneralHeadRawDataItem(\n",
    "          date_time=StartDateTime.from_datetime(datetime(2021, 12, 31)),\n",
    "          stage=Stage.from_float(400),\n",
    "          conductance=Conductance.from_float(400),\n",
    "        ),\n",
    "      ]\n",
    "    ),\n",
    "  ]\n",
    ")\n",
    "\n",
    "boundary_collection = BoundaryCollection.new()\n",
    "boundary_collection.add_boundary(general_head_west)\n",
    "boundary_collection.add_boundary(general_head_east)\n",
    "\n",
    "model = model.with_updated_boundaries(boundaries=boundary_collection)\n",
    "\n",
    "m.add_child(folium.GeoJson(general_head_east.as_geojson()))\n",
    "m.add_child(folium.GeoJson(general_head_east.affected_cells.to_geojson(grid).as_geojson()))\n",
    "for observation in general_head_east.observations:\n",
    "  m.add_child(folium.GeoJson(observation.as_geojson()))\n",
    "\n",
    "m.add_child(folium.GeoJson(general_head_west.as_geojson()))\n",
    "m.add_child(folium.GeoJson(general_head_west.affected_cells.to_geojson(grid).as_geojson()))\n",
    "for observation in general_head_west.observations:\n",
    "  m.add_child(folium.GeoJson(observation.as_geojson()))\n",
    "m.fit_bounds(m.get_bounds())\n",
    "m"
   ]
  },
  {
   "cell_type": "code",
   "execution_count": 7,
   "id": "25b4324c4d166cd7",
   "metadata": {
    "ExecuteTime": {
     "end_time": "2024-05-14T08:11:46.804091Z",
     "start_time": "2024-05-14T08:11:46.801113Z"
    },
    "collapsed": false,
    "execution": {
     "iopub.execute_input": "2024-05-15T15:39:56.178284Z",
     "iopub.status.busy": "2024-05-15T15:39:56.178157Z",
     "iopub.status.idle": "2024-05-15T15:39:56.180302Z",
     "shell.execute_reply": "2024-05-15T15:39:56.180077Z"
    },
    "papermill": {
     "duration": 0.005934,
     "end_time": "2024-05-15T15:39:56.181051",
     "exception": false,
     "start_time": "2024-05-15T15:39:56.175117",
     "status": "completed"
    },
    "tags": []
   },
   "outputs": [
    {
     "data": {
      "text/plain": [
       "[GeneralHeadObservation(observation_id=ObservationId(value='cef7057c-439b-4aa6-b09f-1f7ba000192a'), observation_name=ObservationName(value='Observation Point 1'), geometry=Point(coordinates=(13.92499, 50.966), type='Point'), data=[GeneralHeadRawDataItem(date_time=StartDateTime(value=datetime.datetime(2019, 1, 1, 0, 0, tzinfo=datetime.timezone.utc)), stage=Stage(value=100), conductance=Conductance(value=100)), GeneralHeadRawDataItem(date_time=StartDateTime(value=datetime.datetime(2021, 12, 31, 0, 0, tzinfo=datetime.timezone.utc)), stage=Stage(value=100), conductance=Conductance(value=100))]),\n",
       " GeneralHeadObservation(observation_id=ObservationId(value='7d5956e7-750b-4476-b43f-1aaf67b5df07'), observation_name=ObservationName(value='Observation Point 1'), geometry=Point(coordinates=(13.92499, 50.964), type='Point'), data=[GeneralHeadRawDataItem(date_time=StartDateTime(value=datetime.datetime(2019, 1, 1, 0, 0, tzinfo=datetime.timezone.utc)), stage=Stage(value=200), conductance=Conductance(value=200)), GeneralHeadRawDataItem(date_time=StartDateTime(value=datetime.datetime(2021, 12, 31, 0, 0, tzinfo=datetime.timezone.utc)), stage=Stage(value=200), conductance=Conductance(value=200))])]"
      ]
     },
     "execution_count": 7,
     "metadata": {},
     "output_type": "execute_result"
    }
   ],
   "source": [
    "general_head_east.observations"
   ]
  },
  {
   "cell_type": "code",
   "execution_count": 8,
   "id": "dc338472e1887a13",
   "metadata": {
    "ExecuteTime": {
     "end_time": "2024-05-14T08:11:47.509330Z",
     "start_time": "2024-05-14T08:11:46.804791Z"
    },
    "collapsed": false,
    "execution": {
     "iopub.execute_input": "2024-05-15T15:39:56.186347Z",
     "iopub.status.busy": "2024-05-15T15:39:56.186249Z",
     "iopub.status.idle": "2024-05-15T15:39:56.551310Z",
     "shell.execute_reply": "2024-05-15T15:39:56.551042Z"
    },
    "papermill": {
     "duration": 0.368591,
     "end_time": "2024-05-15T15:39:56.552138",
     "exception": false,
     "start_time": "2024-05-15T15:39:56.183547",
     "status": "completed"
    },
    "tags": []
   },
   "outputs": [
    {
     "data": {
      "text/plain": [
       "{0: [[0, 0, 0, 300.5050289789967, 300.5050289789967],\n",
       "  [0, 1, 0, 302.5251892522284, 302.5251892522284],\n",
       "  [0, 2, 0, 304.54535126413674, 304.54535126413674],\n",
       "  [0, 3, 0, 306.5655150157982, 306.5655150157982],\n",
       "  [0, 4, 0, 308.5856805068539, 308.5856805068539],\n",
       "  [0, 5, 0, 310.60584773730386, 310.60584773730386],\n",
       "  [0, 6, 0, 312.62601670750695, 312.62601670750695],\n",
       "  [0, 7, 0, 314.6461874167454, 314.6461874167454],\n",
       "  [0, 8, 0, 316.66635986573704, 316.66635986573704],\n",
       "  [0, 9, 0, 318.68653405412294, 318.68653405412294],\n",
       "  [0, 10, 0, 320.70670998226194, 320.70670998226194],\n",
       "  [0, 11, 0, 322.72688764979523, 322.72688764979523],\n",
       "  [0, 12, 0, 324.7470670563639, 324.7470670563639],\n",
       "  [0, 13, 0, 326.7672482030445, 326.7672482030445],\n",
       "  [0, 14, 0, 328.7874310884017, 328.7874310884017],\n",
       "  [0, 15, 0, 330.80761571422977, 330.80761571422977],\n",
       "  [0, 16, 0, 332.8278020790932, 332.8278020790932],\n",
       "  [0, 17, 0, 334.847990182992, 334.847990182992],\n",
       "  [0, 18, 0, 336.8681800270029, 336.8681800270029],\n",
       "  [0, 19, 0, 338.88837161040794, 338.88837161040794],\n",
       "  [0, 20, 0, 340.90856493284844, 340.90856493284844],\n",
       "  [0, 21, 0, 342.9287599954009, 342.9287599954009],\n",
       "  [0, 22, 0, 344.9489567969888, 344.9489567969888],\n",
       "  [0, 23, 0, 346.9691553383298, 346.9691553383298],\n",
       "  [0, 24, 0, 348.9893556187062, 348.9893556187062],\n",
       "  [0, 25, 0, 351.0095576388357, 351.0095576388357],\n",
       "  [0, 26, 0, 353.0297613983595, 353.0297613983595],\n",
       "  [0, 27, 0, 355.0499668976364, 355.0499668976364],\n",
       "  [0, 28, 0, 357.07017413630757, 357.07017413630757],\n",
       "  [0, 29, 0, 359.090383114373, 359.090383114373],\n",
       "  [0, 30, 0, 361.1105938318327, 361.1105938318327],\n",
       "  [0, 31, 0, 363.1308062890455, 363.1308062890455],\n",
       "  [0, 32, 0, 365.1510204856526, 365.1510204856526],\n",
       "  [0, 33, 0, 367.17123642165393, 367.17123642165393],\n",
       "  [0, 34, 0, 369.1914540970496, 369.1914540970496],\n",
       "  [0, 35, 0, 371.2116735118394, 371.2116735118394],\n",
       "  [0, 36, 0, 373.23189466638246, 373.23189466638246],\n",
       "  [0, 37, 0, 375.2521175603197, 375.2521175603197],\n",
       "  [0, 38, 0, 377.27234219401004, 377.27234219401004],\n",
       "  [0, 39, 0, 379.29256856745354, 379.29256856745354],\n",
       "  [0, 40, 0, 381.31279667957364, 381.31279667957364],\n",
       "  [0, 41, 0, 383.33302653144676, 383.33302653144676],\n",
       "  [0, 42, 0, 385.35325812271424, 385.35325812271424],\n",
       "  [0, 43, 0, 387.3734914540936, 387.3734914540936],\n",
       "  [0, 44, 0, 389.39372652450845, 389.39372652450845],\n",
       "  [0, 45, 0, 391.4139633343175, 391.4139633343175],\n",
       "  [0, 46, 0, 393.4342018838797, 393.4342018838797],\n",
       "  [0, 47, 0, 395.45444217247734, 395.45444217247734],\n",
       "  [0, 48, 0, 397.4746842011869, 397.4746842011869],\n",
       "  [0, 49, 0, 399.4949279689319, 399.4949279689319]]}"
      ]
     },
     "execution_count": 8,
     "metadata": {},
     "output_type": "execute_result"
    }
   ],
   "source": [
    "from morpheus.project.infrastructure.calculation.engines.modflow_2005.packages.GhbPackageMapper import \\\n",
    "  calculate_ghb_boundary_stress_period_data\n",
    "\n",
    "result = calculate_ghb_boundary_stress_period_data(\n",
    "  spatial_discretization=spatial_discretization,\n",
    "  time_discretization=time_discretization,\n",
    "  layers=model.layers,\n",
    "  ghb_boundary=general_head_west,\n",
    ")\n",
    "result.to_dict()"
   ]
  },
  {
   "cell_type": "code",
   "execution_count": 9,
   "id": "e7d13f116125151c",
   "metadata": {
    "ExecuteTime": {
     "end_time": "2024-05-14T08:11:47.661693Z",
     "start_time": "2024-05-14T08:11:47.510091Z"
    },
    "collapsed": false,
    "execution": {
     "iopub.execute_input": "2024-05-15T15:39:56.557936Z",
     "iopub.status.busy": "2024-05-15T15:39:56.557787Z",
     "iopub.status.idle": "2024-05-15T15:39:56.690547Z",
     "shell.execute_reply": "2024-05-15T15:39:56.690316Z"
    },
    "papermill": {
     "duration": 0.136462,
     "end_time": "2024-05-15T15:39:56.691359",
     "exception": false,
     "start_time": "2024-05-15T15:39:56.554897",
     "status": "completed"
    },
    "tags": []
   },
   "outputs": [
    {
     "data": {
      "text/plain": [
       "{0: [[0, 0, 99, 100.99997868936319, 100.99997868936319],\n",
       "  [0, 1, 99, 102.99993735985626, 102.99993735985626],\n",
       "  [0, 2, 99, 104.99989775163911, 104.99989775163911],\n",
       "  [0, 3, 99, 106.99985986577755, 106.99985986577755],\n",
       "  [0, 4, 99, 108.99982370191631, 108.99982370191631],\n",
       "  [0, 5, 99, 110.9997892600554, 110.9997892600554],\n",
       "  [0, 6, 99, 112.99975654055007, 112.99975654055007],\n",
       "  [0, 7, 99, 114.99972554268979, 114.99972554268979],\n",
       "  [0, 8, 99, 116.9996962671851, 116.9996962671851],\n",
       "  [0, 9, 99, 118.99966871368073, 118.99966871368073],\n",
       "  [0, 10, 99, 120.99964288253196, 120.99964288253196],\n",
       "  [0, 11, 99, 122.9996187733835, 122.9996187733835],\n",
       "  [0, 12, 99, 124.9995963858801, 124.9995963858801],\n",
       "  [0, 13, 99, 126.99957572108755, 126.99957572108755],\n",
       "  [0, 14, 99, 128.9995567775848, 128.9995567775848],\n",
       "  [0, 15, 99, 130.99953955714815, 130.99953955714815],\n",
       "  [0, 16, 99, 132.99952405835657, 132.99952405835657],\n",
       "  [0, 17, 99, 134.99951028121004, 134.99951028121004],\n",
       "  [0, 18, 99, 136.99949822677436, 136.99949822677436],\n",
       "  [0, 19, 99, 138.999487894339, 138.999487894339],\n",
       "  [0, 20, 99, 140.9994792835487, 140.9994792835487],\n",
       "  [0, 21, 99, 142.99947239546927, 142.99947239546927],\n",
       "  [0, 22, 99, 144.99946722903488, 144.99946722903488],\n",
       "  [0, 23, 99, 146.99946378495608, 146.99946378495608],\n",
       "  [0, 24, 99, 148.99946206252233, 148.99946206252233],\n",
       "  [0, 25, 99, 150.99946206244417, 150.99946206244417],\n",
       "  [0, 26, 99, 152.99946378436633, 152.99946378436633],\n",
       "  [0, 27, 99, 154.99946722864408, 154.99946722864408],\n",
       "  [0, 28, 99, 156.99947239492215, 156.99947239492215],\n",
       "  [0, 29, 99, 158.99947928320054, 158.99947928320054],\n",
       "  [0, 30, 99, 160.99948789347926, 160.99948789347926],\n",
       "  [0, 31, 99, 162.99949822611356, 162.99949822611356],\n",
       "  [0, 32, 99, 164.99951028074815, 164.99951028074815],\n",
       "  [0, 33, 99, 166.99952405738313, 166.99952405738313],\n",
       "  [0, 34, 99, 168.9995395560184, 168.9995395560184],\n",
       "  [0, 35, 99, 170.99955677665398, 170.99955677665398],\n",
       "  [0, 36, 99, 172.99957571964515, 172.99957571964515],\n",
       "  [0, 37, 99, 174.99959638463665, 174.99959638463665],\n",
       "  [0, 38, 99, 176.9996187719837, 176.9996187719837],\n",
       "  [0, 39, 99, 178.9996428816864, 178.9996428816864],\n",
       "  [0, 40, 99, 180.99966871267887, 180.99966871267887],\n",
       "  [0, 41, 99, 182.99969626602692, 182.99969626602692],\n",
       "  [0, 42, 99, 184.9997255413753, 184.9997255413753],\n",
       "  [0, 43, 99, 186.99975653943451, 186.99975653943451],\n",
       "  [0, 44, 99, 188.9997892591388, 188.9997892591388],\n",
       "  [0, 45, 99, 190.9998237008434, 190.9998237008434],\n",
       "  [0, 46, 99, 192.99985986490358, 192.99985986490358],\n",
       "  [0, 47, 99, 194.99989775060882, 194.99989775060882],\n",
       "  [0, 48, 99, 196.99993735902493, 196.99993735902493],\n",
       "  [0, 49, 99, 198.99997868908608, 198.99997868908608]]}"
      ]
     },
     "execution_count": 9,
     "metadata": {},
     "output_type": "execute_result"
    }
   ],
   "source": [
    "from morpheus.project.infrastructure.calculation.engines.modflow_2005.packages.GhbPackageMapper import \\\n",
    "  calculate_ghb_boundary_stress_period_data\n",
    "\n",
    "result = calculate_ghb_boundary_stress_period_data(\n",
    "  spatial_discretization=spatial_discretization,\n",
    "  time_discretization=time_discretization,\n",
    "  layers=model.layers,\n",
    "  ghb_boundary=general_head_east,\n",
    ")\n",
    "result.to_dict()"
   ]
  },
  {
   "cell_type": "markdown",
   "id": "42d948d145a8457a",
   "metadata": {
    "collapsed": false,
    "papermill": {
     "duration": 0.002431,
     "end_time": "2024-05-15T15:39:56.696576",
     "exception": false,
     "start_time": "2024-05-15T15:39:56.694145",
     "status": "completed"
    },
    "tags": []
   },
   "source": [
    "## Calculate"
   ]
  },
  {
   "cell_type": "code",
   "execution_count": 10,
   "id": "56ccabee86e2397e",
   "metadata": {
    "ExecuteTime": {
     "end_time": "2024-05-14T08:11:47.680368Z",
     "start_time": "2024-05-14T08:11:47.665479Z"
    },
    "collapsed": false,
    "execution": {
     "iopub.execute_input": "2024-05-15T15:39:56.702114Z",
     "iopub.status.busy": "2024-05-15T15:39:56.702001Z",
     "iopub.status.idle": "2024-05-15T15:39:56.712293Z",
     "shell.execute_reply": "2024-05-15T15:39:56.712039Z"
    },
    "papermill": {
     "duration": 0.014259,
     "end_time": "2024-05-15T15:39:56.713250",
     "exception": false,
     "start_time": "2024-05-15T15:39:56.698991",
     "status": "completed"
    },
    "tags": []
   },
   "outputs": [],
   "source": [
    "from morpheus.project.types.calculation.CalculationProfile import CalculationProfile, CalculationEngineType\n",
    "from morpheus.project.types.calculation.Calculation import Calculation\n",
    "\n",
    "calculation_profile = CalculationProfile.new(CalculationEngineType.MF2005)\n",
    "calculation = Calculation.new(model=model, calculation_profile=calculation_profile)"
   ]
  },
  {
   "cell_type": "code",
   "execution_count": 11,
   "id": "e09d94e0a94315cb",
   "metadata": {
    "ExecuteTime": {
     "end_time": "2024-05-14T08:11:47.689167Z",
     "start_time": "2024-05-14T08:11:47.681125Z"
    },
    "collapsed": false,
    "execution": {
     "iopub.execute_input": "2024-05-15T15:39:56.719282Z",
     "iopub.status.busy": "2024-05-15T15:39:56.719147Z",
     "iopub.status.idle": "2024-05-15T15:39:56.724331Z",
     "shell.execute_reply": "2024-05-15T15:39:56.724104Z"
    },
    "papermill": {
     "duration": 0.008944,
     "end_time": "2024-05-15T15:39:56.725070",
     "exception": false,
     "start_time": "2024-05-15T15:39:56.716126",
     "status": "completed"
    },
    "tags": []
   },
   "outputs": [
    {
     "data": {
      "text/plain": [
       "CalculationId(value='6b627450-6bf0-47f1-94b6-e5d6b3f983ce')"
      ]
     },
     "execution_count": 11,
     "metadata": {},
     "output_type": "execute_result"
    }
   ],
   "source": [
    "calculation = Calculation.from_dict(calculation.to_dict())\n",
    "calculation.calculation_id"
   ]
  },
  {
   "cell_type": "markdown",
   "id": "22c11699",
   "metadata": {
    "tags": [
     "papermill-error-cell-tag"
    ]
   },
   "source": [
    "<span id=\"papermill-error-cell\" style=\"color:red; font-family:Helvetica Neue, Helvetica, Arial, sans-serif; font-size:2em;\">Execution using papermill encountered an exception here and stopped:</span>"
   ]
  },
  {
   "cell_type": "code",
   "execution_count": 12,
   "id": "672007fb90753c4c",
   "metadata": {
    "ExecuteTime": {
     "end_time": "2024-05-14T08:11:48.638084Z",
     "start_time": "2024-05-14T08:11:47.690044Z"
    },
    "collapsed": false,
    "execution": {
     "iopub.execute_input": "2024-05-15T15:39:56.746479Z",
     "iopub.status.busy": "2024-05-15T15:39:56.746345Z",
     "iopub.status.idle": "2024-05-15T15:39:57.130278Z",
     "shell.execute_reply": "2024-05-15T15:39:57.129746Z"
    },
    "papermill": {
     "duration": 0.403191,
     "end_time": "2024-05-15T15:39:57.130961",
     "exception": true,
     "start_time": "2024-05-15T15:39:56.727770",
     "status": "failed"
    },
    "tags": []
   },
   "outputs": [
    {
     "ename": "ValidationError",
     "evalue": "SECRET_KEY is required in env production",
     "output_type": "error",
     "traceback": [
      "\u001b[0;31m---------------------------------------------------------------------------\u001b[0m",
      "\u001b[0;31mValidationError\u001b[0m                           Traceback (most recent call last)",
      "Cell \u001b[0;32mIn[12], line 1\u001b[0m\n\u001b[0;32m----> 1\u001b[0m \u001b[38;5;28;01mfrom\u001b[39;00m \u001b[38;5;21;01mmorpheus\u001b[39;00m\u001b[38;5;21;01m.\u001b[39;00m\u001b[38;5;21;01mproject\u001b[39;00m\u001b[38;5;21;01m.\u001b[39;00m\u001b[38;5;21;01minfrastructure\u001b[39;00m\u001b[38;5;21;01m.\u001b[39;00m\u001b[38;5;21;01mcalculation\u001b[39;00m\u001b[38;5;21;01m.\u001b[39;00m\u001b[38;5;21;01mservices\u001b[39;00m\u001b[38;5;21;01m.\u001b[39;00m\u001b[38;5;21;01mCalculationService\u001b[39;00m \u001b[38;5;28;01mimport\u001b[39;00m CalculationService\n\u001b[1;32m      3\u001b[0m calculation_service \u001b[38;5;241m=\u001b[39m CalculationService\u001b[38;5;241m.\u001b[39mfrom_calculation(calculation)\n\u001b[1;32m      4\u001b[0m calculation_service\u001b[38;5;241m.\u001b[39mcalculate()\n",
      "File \u001b[0;32m~/Projects/inowas/morpheus/src/backend/src/morpheus/project/infrastructure/calculation/services/CalculationService.py:2\u001b[0m\n\u001b[1;32m      1\u001b[0m \u001b[38;5;28;01mfrom\u001b[39;00m \u001b[38;5;21;01mmorpheus\u001b[39;00m\u001b[38;5;21;01m.\u001b[39;00m\u001b[38;5;21;01mproject\u001b[39;00m\u001b[38;5;21;01m.\u001b[39;00m\u001b[38;5;21;01minfrastructure\u001b[39;00m\u001b[38;5;21;01m.\u001b[39;00m\u001b[38;5;21;01mcalculation\u001b[39;00m\u001b[38;5;21;01m.\u001b[39;00m\u001b[38;5;21;01mengines\u001b[39;00m\u001b[38;5;21;01m.\u001b[39;00m\u001b[38;5;21;01mbase\u001b[39;00m\u001b[38;5;21;01m.\u001b[39;00m\u001b[38;5;21;01mCalculationEngineBase\u001b[39;00m \u001b[38;5;28;01mimport\u001b[39;00m CalculationEngineBase\n\u001b[0;32m----> 2\u001b[0m \u001b[38;5;28;01mfrom\u001b[39;00m \u001b[38;5;21;01mmorpheus\u001b[39;00m\u001b[38;5;21;01m.\u001b[39;00m\u001b[38;5;21;01mproject\u001b[39;00m\u001b[38;5;21;01m.\u001b[39;00m\u001b[38;5;21;01minfrastructure\u001b[39;00m\u001b[38;5;21;01m.\u001b[39;00m\u001b[38;5;21;01mcalculation\u001b[39;00m\u001b[38;5;21;01m.\u001b[39;00m\u001b[38;5;21;01mengines\u001b[39;00m\u001b[38;5;21;01m.\u001b[39;00m\u001b[38;5;21;01mbase\u001b[39;00m\u001b[38;5;21;01m.\u001b[39;00m\u001b[38;5;21;01mCalculationEngineFactory\u001b[39;00m \u001b[38;5;28;01mimport\u001b[39;00m CalculationEngineFactory\n\u001b[1;32m      3\u001b[0m \u001b[38;5;28;01mfrom\u001b[39;00m \u001b[38;5;21;01mmorpheus\u001b[39;00m\u001b[38;5;21;01m.\u001b[39;00m\u001b[38;5;21;01mproject\u001b[39;00m\u001b[38;5;21;01m.\u001b[39;00m\u001b[38;5;21;01mtypes\u001b[39;00m\u001b[38;5;21;01m.\u001b[39;00m\u001b[38;5;21;01mcalculation\u001b[39;00m\u001b[38;5;21;01m.\u001b[39;00m\u001b[38;5;21;01mCalculation\u001b[39;00m \u001b[38;5;28;01mimport\u001b[39;00m CalculationId, CalculationState, Calculation\n\u001b[1;32m      4\u001b[0m \u001b[38;5;28;01mfrom\u001b[39;00m \u001b[38;5;21;01mmorpheus\u001b[39;00m\u001b[38;5;21;01m.\u001b[39;00m\u001b[38;5;21;01mproject\u001b[39;00m\u001b[38;5;21;01m.\u001b[39;00m\u001b[38;5;21;01minfrastructure\u001b[39;00m\u001b[38;5;21;01m.\u001b[39;00m\u001b[38;5;21;01mpersistence\u001b[39;00m\u001b[38;5;21;01m.\u001b[39;00m\u001b[38;5;21;01mCalculationRepository\u001b[39;00m \u001b[38;5;28;01mimport\u001b[39;00m calculation_repository\n",
      "File \u001b[0;32m~/Projects/inowas/morpheus/src/backend/src/morpheus/project/infrastructure/calculation/engines/base/CalculationEngineFactory.py:7\u001b[0m\n\u001b[1;32m      5\u001b[0m \u001b[38;5;28;01mfrom\u001b[39;00m \u001b[38;5;21;01mmorpheus\u001b[39;00m\u001b[38;5;21;01m.\u001b[39;00m\u001b[38;5;21;01mproject\u001b[39;00m\u001b[38;5;21;01m.\u001b[39;00m\u001b[38;5;21;01mtypes\u001b[39;00m\u001b[38;5;21;01m.\u001b[39;00m\u001b[38;5;21;01mcalculation\u001b[39;00m\u001b[38;5;21;01m.\u001b[39;00m\u001b[38;5;21;01mCalculation\u001b[39;00m \u001b[38;5;28;01mimport\u001b[39;00m Calculation\n\u001b[1;32m      6\u001b[0m \u001b[38;5;28;01mfrom\u001b[39;00m \u001b[38;5;21;01mmorpheus\u001b[39;00m\u001b[38;5;21;01m.\u001b[39;00m\u001b[38;5;21;01mproject\u001b[39;00m\u001b[38;5;21;01m.\u001b[39;00m\u001b[38;5;21;01mtypes\u001b[39;00m\u001b[38;5;21;01m.\u001b[39;00m\u001b[38;5;21;01mcalculation\u001b[39;00m\u001b[38;5;21;01m.\u001b[39;00m\u001b[38;5;21;01mCalculationProfile\u001b[39;00m \u001b[38;5;28;01mimport\u001b[39;00m CalculationEngineType\n\u001b[0;32m----> 7\u001b[0m \u001b[38;5;28;01mfrom\u001b[39;00m \u001b[38;5;21;01mmorpheus\u001b[39;00m\u001b[38;5;21;01m.\u001b[39;00m\u001b[38;5;21;01msettings\u001b[39;00m \u001b[38;5;28;01mimport\u001b[39;00m settings\n\u001b[1;32m     10\u001b[0m \u001b[38;5;28;01mclass\u001b[39;00m \u001b[38;5;21;01mCalculationEngineFactory\u001b[39;00m:\n\u001b[1;32m     11\u001b[0m     \u001b[38;5;129m@classmethod\u001b[39m\n\u001b[1;32m     12\u001b[0m     \u001b[38;5;28;01mdef\u001b[39;00m \u001b[38;5;21mcreate_engine\u001b[39m(\u001b[38;5;28mcls\u001b[39m, calculation: Calculation) \u001b[38;5;241m-\u001b[39m\u001b[38;5;241m>\u001b[39m CalculationEngineBase:\n",
      "File \u001b[0;32m~/Projects/inowas/morpheus/src/backend/src/morpheus/settings.py:48\u001b[0m\n\u001b[1;32m     44\u001b[0m     \u001b[38;5;28;01mdef\u001b[39;00m \u001b[38;5;21mis_production\u001b[39m(\u001b[38;5;28mself\u001b[39m):\n\u001b[1;32m     45\u001b[0m         \u001b[38;5;28;01mreturn\u001b[39;00m \u001b[38;5;28mself\u001b[39m\u001b[38;5;241m.\u001b[39mENV \u001b[38;5;241m==\u001b[39m \u001b[38;5;124m'\u001b[39m\u001b[38;5;124mproduction\u001b[39m\u001b[38;5;124m'\u001b[39m\n\u001b[0;32m---> 48\u001b[0m settings \u001b[38;5;241m=\u001b[39m \u001b[43mSettings\u001b[49m\u001b[38;5;241;43m.\u001b[39;49m\u001b[43mfrom_dynaconf\u001b[49m\u001b[43m(\u001b[49m\n\u001b[1;32m     49\u001b[0m \u001b[43m    \u001b[49m\u001b[43mDynaconf\u001b[49m\u001b[43m(\u001b[49m\n\u001b[1;32m     50\u001b[0m \u001b[43m        \u001b[49m\u001b[43mload_dotenv\u001b[49m\u001b[38;5;241;43m=\u001b[39;49m\u001b[38;5;28;43;01mTrue\u001b[39;49;00m\u001b[43m,\u001b[49m\n\u001b[1;32m     51\u001b[0m \u001b[43m        \u001b[49m\u001b[43menvironments\u001b[49m\u001b[38;5;241;43m=\u001b[39;49m\u001b[38;5;28;43;01mTrue\u001b[39;49;00m\u001b[43m,\u001b[49m\n\u001b[1;32m     52\u001b[0m \u001b[43m        \u001b[49m\u001b[43menvvar_prefix\u001b[49m\u001b[38;5;241;43m=\u001b[39;49m\u001b[38;5;124;43m'\u001b[39;49m\u001b[38;5;124;43mBACKEND\u001b[39;49m\u001b[38;5;124;43m'\u001b[39;49m\u001b[43m,\u001b[49m\n\u001b[1;32m     53\u001b[0m \u001b[43m        \u001b[49m\u001b[43menv\u001b[49m\u001b[38;5;241;43m=\u001b[39;49m\u001b[43mos\u001b[49m\u001b[38;5;241;43m.\u001b[39;49m\u001b[43menviron\u001b[49m\u001b[38;5;241;43m.\u001b[39;49m\u001b[43mget\u001b[49m\u001b[43m(\u001b[49m\u001b[38;5;124;43m'\u001b[39;49m\u001b[38;5;124;43mFLASK_ENV\u001b[39;49m\u001b[38;5;124;43m'\u001b[39;49m\u001b[43m,\u001b[49m\u001b[43m \u001b[49m\u001b[38;5;124;43m'\u001b[39;49m\u001b[38;5;124;43mproduction\u001b[39;49m\u001b[38;5;124;43m'\u001b[39;49m\u001b[43m)\u001b[49m\u001b[43m,\u001b[49m\n\u001b[1;32m     54\u001b[0m \u001b[43m        \u001b[49m\u001b[43mvalidators\u001b[49m\u001b[38;5;241;43m=\u001b[39;49m\u001b[43m[\u001b[49m\n\u001b[1;32m     55\u001b[0m \u001b[43m            \u001b[49m\u001b[43mValidator\u001b[49m\u001b[43m(\u001b[49m\u001b[38;5;124;43m'\u001b[39;49m\u001b[38;5;124;43mSECRET_KEY\u001b[39;49m\u001b[38;5;124;43m'\u001b[39;49m\u001b[43m,\u001b[49m\u001b[43m \u001b[49m\u001b[43mmust_exist\u001b[49m\u001b[38;5;241;43m=\u001b[39;49m\u001b[38;5;28;43;01mTrue\u001b[39;49;00m\u001b[43m)\u001b[49m\u001b[43m,\u001b[49m\n\u001b[1;32m     56\u001b[0m \u001b[43m            \u001b[49m\u001b[43mValidator\u001b[49m\u001b[43m(\u001b[49m\u001b[38;5;124;43m'\u001b[39;49m\u001b[38;5;124;43mMAX_CONTENT_LENGTH\u001b[39;49m\u001b[38;5;124;43m'\u001b[39;49m\u001b[43m,\u001b[49m\u001b[43m \u001b[49m\u001b[43mmust_exist\u001b[49m\u001b[38;5;241;43m=\u001b[39;49m\u001b[38;5;28;43;01mTrue\u001b[39;49;00m\u001b[43m)\u001b[49m\u001b[43m,\u001b[49m\n\u001b[1;32m     57\u001b[0m \u001b[43m            \u001b[49m\u001b[43mValidator\u001b[49m\u001b[43m(\u001b[49m\u001b[38;5;124;43m'\u001b[39;49m\u001b[38;5;124;43mKEYCLOAK_CLIENT_ID\u001b[39;49m\u001b[38;5;124;43m'\u001b[39;49m\u001b[43m,\u001b[49m\u001b[43m \u001b[49m\u001b[43mmust_exist\u001b[49m\u001b[38;5;241;43m=\u001b[39;49m\u001b[38;5;28;43;01mTrue\u001b[39;49;00m\u001b[43m)\u001b[49m\u001b[43m,\u001b[49m\n\u001b[1;32m     58\u001b[0m \u001b[43m            \u001b[49m\u001b[43mValidator\u001b[49m\u001b[43m(\u001b[49m\u001b[38;5;124;43m'\u001b[39;49m\u001b[38;5;124;43mKEYCLOAK_CLIENT_SECRET\u001b[39;49m\u001b[38;5;124;43m'\u001b[39;49m\u001b[43m,\u001b[49m\u001b[43m \u001b[49m\u001b[43mmust_exist\u001b[49m\u001b[38;5;241;43m=\u001b[39;49m\u001b[38;5;28;43;01mTrue\u001b[39;49;00m\u001b[43m)\u001b[49m\u001b[43m,\u001b[49m\n\u001b[1;32m     59\u001b[0m \u001b[43m            \u001b[49m\u001b[43mValidator\u001b[49m\u001b[43m(\u001b[49m\u001b[38;5;124;43m'\u001b[39;49m\u001b[38;5;124;43mKEYCLOAK_REALM\u001b[39;49m\u001b[38;5;124;43m'\u001b[39;49m\u001b[43m,\u001b[49m\u001b[43m \u001b[49m\u001b[43mmust_exist\u001b[49m\u001b[38;5;241;43m=\u001b[39;49m\u001b[38;5;28;43;01mTrue\u001b[39;49;00m\u001b[43m)\u001b[49m\u001b[43m,\u001b[49m\n\u001b[1;32m     60\u001b[0m \u001b[43m            \u001b[49m\u001b[43mValidator\u001b[49m\u001b[43m(\u001b[49m\u001b[38;5;124;43m'\u001b[39;49m\u001b[38;5;124;43mKEYCLOAK_SERVER_URL\u001b[39;49m\u001b[38;5;124;43m'\u001b[39;49m\u001b[43m,\u001b[49m\u001b[43m \u001b[49m\u001b[43mmust_exist\u001b[49m\u001b[38;5;241;43m=\u001b[39;49m\u001b[38;5;28;43;01mTrue\u001b[39;49;00m\u001b[43m)\u001b[49m\u001b[43m,\u001b[49m\n\u001b[1;32m     61\u001b[0m \u001b[43m            \u001b[49m\u001b[43mValidator\u001b[49m\u001b[43m(\u001b[49m\u001b[38;5;124;43m'\u001b[39;49m\u001b[38;5;124;43mMONGO_HOST\u001b[39;49m\u001b[38;5;124;43m'\u001b[39;49m\u001b[43m,\u001b[49m\u001b[43m \u001b[49m\u001b[43mmust_exist\u001b[49m\u001b[38;5;241;43m=\u001b[39;49m\u001b[38;5;28;43;01mTrue\u001b[39;49;00m\u001b[43m)\u001b[49m\u001b[43m,\u001b[49m\n\u001b[1;32m     62\u001b[0m \u001b[43m            \u001b[49m\u001b[43mValidator\u001b[49m\u001b[43m(\u001b[49m\u001b[38;5;124;43m'\u001b[39;49m\u001b[38;5;124;43mMONGO_PORT\u001b[39;49m\u001b[38;5;124;43m'\u001b[39;49m\u001b[43m,\u001b[49m\u001b[43m \u001b[49m\u001b[43mmust_exist\u001b[49m\u001b[38;5;241;43m=\u001b[39;49m\u001b[38;5;28;43;01mTrue\u001b[39;49;00m\u001b[43m)\u001b[49m\u001b[43m,\u001b[49m\n\u001b[1;32m     63\u001b[0m \u001b[43m            \u001b[49m\u001b[43mValidator\u001b[49m\u001b[43m(\u001b[49m\u001b[38;5;124;43m'\u001b[39;49m\u001b[38;5;124;43mMONGO_USER\u001b[39;49m\u001b[38;5;124;43m'\u001b[39;49m\u001b[43m,\u001b[49m\u001b[43m \u001b[49m\u001b[43mmust_exist\u001b[49m\u001b[38;5;241;43m=\u001b[39;49m\u001b[38;5;28;43;01mTrue\u001b[39;49;00m\u001b[43m)\u001b[49m\u001b[43m,\u001b[49m\n\u001b[1;32m     64\u001b[0m \u001b[43m            \u001b[49m\u001b[43mValidator\u001b[49m\u001b[43m(\u001b[49m\u001b[38;5;124;43m'\u001b[39;49m\u001b[38;5;124;43mMONGO_PASSWORD\u001b[39;49m\u001b[38;5;124;43m'\u001b[39;49m\u001b[43m,\u001b[49m\u001b[43m \u001b[49m\u001b[43mmust_exist\u001b[49m\u001b[38;5;241;43m=\u001b[39;49m\u001b[38;5;28;43;01mTrue\u001b[39;49;00m\u001b[43m)\u001b[49m\u001b[43m,\u001b[49m\n\u001b[1;32m     65\u001b[0m \u001b[43m            \u001b[49m\u001b[43mValidator\u001b[49m\u001b[43m(\u001b[49m\u001b[38;5;124;43m'\u001b[39;49m\u001b[38;5;124;43mMONGO_PROJECT_DATABASE\u001b[39;49m\u001b[38;5;124;43m'\u001b[39;49m\u001b[43m,\u001b[49m\u001b[43m \u001b[49m\u001b[43mmust_exist\u001b[49m\u001b[38;5;241;43m=\u001b[39;49m\u001b[38;5;28;43;01mTrue\u001b[39;49;00m\u001b[43m)\u001b[49m\u001b[43m,\u001b[49m\n\u001b[1;32m     66\u001b[0m \u001b[43m            \u001b[49m\u001b[43mValidator\u001b[49m\u001b[43m(\u001b[49m\u001b[38;5;124;43m'\u001b[39;49m\u001b[38;5;124;43mMONGO_SENSOR_DATABASE\u001b[39;49m\u001b[38;5;124;43m'\u001b[39;49m\u001b[43m,\u001b[49m\u001b[43m \u001b[49m\u001b[43mmust_exist\u001b[49m\u001b[38;5;241;43m=\u001b[39;49m\u001b[38;5;28;43;01mTrue\u001b[39;49;00m\u001b[43m)\u001b[49m\u001b[43m,\u001b[49m\n\u001b[1;32m     67\u001b[0m \u001b[43m            \u001b[49m\u001b[43mValidator\u001b[49m\u001b[43m(\u001b[49m\u001b[38;5;124;43m'\u001b[39;49m\u001b[38;5;124;43mMORPHEUS_PROJECT_ASSET_DATA\u001b[39;49m\u001b[38;5;124;43m'\u001b[39;49m\u001b[43m,\u001b[49m\u001b[43m \u001b[49m\u001b[43mdefault\u001b[49m\u001b[38;5;241;43m=\u001b[39;49m\u001b[38;5;124;43m'\u001b[39;49m\u001b[38;5;124;43m/mnt/project/assets\u001b[39;49m\u001b[38;5;124;43m'\u001b[39;49m\u001b[43m)\u001b[49m\u001b[43m,\u001b[49m\n\u001b[1;32m     68\u001b[0m \u001b[43m            \u001b[49m\u001b[43mValidator\u001b[49m\u001b[43m(\u001b[49m\u001b[38;5;124;43m'\u001b[39;49m\u001b[38;5;124;43mMORPHEUS_PROJECT_CALCULATION_DATA\u001b[39;49m\u001b[38;5;124;43m'\u001b[39;49m\u001b[43m,\u001b[49m\u001b[43m \u001b[49m\u001b[43mdefault\u001b[49m\u001b[38;5;241;43m=\u001b[39;49m\u001b[38;5;124;43m'\u001b[39;49m\u001b[38;5;124;43m/mnt/project/calculations\u001b[39;49m\u001b[38;5;124;43m'\u001b[39;49m\u001b[43m)\u001b[49m\u001b[43m,\u001b[49m\n\u001b[1;32m     69\u001b[0m \u001b[43m            \u001b[49m\u001b[43mValidator\u001b[49m\u001b[43m(\u001b[49m\u001b[38;5;124;43m'\u001b[39;49m\u001b[38;5;124;43mMORPHEUS_SENSOR_LOCAL_DATA\u001b[39;49m\u001b[38;5;124;43m'\u001b[39;49m\u001b[43m,\u001b[49m\u001b[43m \u001b[49m\u001b[43mdefault\u001b[49m\u001b[38;5;241;43m=\u001b[39;49m\u001b[38;5;124;43m'\u001b[39;49m\u001b[38;5;124;43m/mnt/sensors\u001b[39;49m\u001b[38;5;124;43m'\u001b[39;49m\u001b[43m)\u001b[49m\u001b[43m,\u001b[49m\n\u001b[1;32m     70\u001b[0m \u001b[43m            \u001b[49m\u001b[43mValidator\u001b[49m\u001b[43m(\u001b[49m\u001b[38;5;124;43m'\u001b[39;49m\u001b[38;5;124;43mMORPHEUS_SENSORS_UIT_FTP_HOST\u001b[39;49m\u001b[38;5;124;43m'\u001b[39;49m\u001b[43m,\u001b[49m\u001b[43m \u001b[49m\u001b[43mmust_exist\u001b[49m\u001b[38;5;241;43m=\u001b[39;49m\u001b[38;5;28;43;01mTrue\u001b[39;49;00m\u001b[43m)\u001b[49m\u001b[43m,\u001b[49m\n\u001b[1;32m     71\u001b[0m \u001b[43m            \u001b[49m\u001b[43mValidator\u001b[49m\u001b[43m(\u001b[49m\u001b[38;5;124;43m'\u001b[39;49m\u001b[38;5;124;43mMORPHEUS_SENSORS_UIT_FTP_USER\u001b[39;49m\u001b[38;5;124;43m'\u001b[39;49m\u001b[43m,\u001b[49m\u001b[43m \u001b[49m\u001b[43mmust_exist\u001b[49m\u001b[38;5;241;43m=\u001b[39;49m\u001b[38;5;28;43;01mTrue\u001b[39;49;00m\u001b[43m)\u001b[49m\u001b[43m,\u001b[49m\n\u001b[1;32m     72\u001b[0m \u001b[43m            \u001b[49m\u001b[43mValidator\u001b[49m\u001b[43m(\u001b[49m\u001b[38;5;124;43m'\u001b[39;49m\u001b[38;5;124;43mMORPHEUS_SENSORS_UIT_FTP_PASSWORD\u001b[39;49m\u001b[38;5;124;43m'\u001b[39;49m\u001b[43m,\u001b[49m\u001b[43m \u001b[49m\u001b[43mmust_exist\u001b[49m\u001b[38;5;241;43m=\u001b[39;49m\u001b[38;5;28;43;01mTrue\u001b[39;49;00m\u001b[43m)\u001b[49m\u001b[43m,\u001b[49m\n\u001b[1;32m     73\u001b[0m \u001b[43m            \u001b[49m\u001b[43mValidator\u001b[49m\u001b[43m(\u001b[49m\u001b[38;5;124;43m'\u001b[39;49m\u001b[38;5;124;43mMORPHEUS_SENSORS_UIT_FTP_PATH\u001b[39;49m\u001b[38;5;124;43m'\u001b[39;49m\u001b[43m,\u001b[49m\u001b[43m \u001b[49m\u001b[43mmust_exist\u001b[49m\u001b[38;5;241;43m=\u001b[39;49m\u001b[38;5;28;43;01mTrue\u001b[39;49;00m\u001b[43m)\u001b[49m\u001b[43m,\u001b[49m\n\u001b[1;32m     74\u001b[0m \u001b[43m        \u001b[49m\u001b[43m]\u001b[49m\n\u001b[1;32m     75\u001b[0m \u001b[43m    \u001b[49m\u001b[43m)\u001b[49m\n\u001b[1;32m     76\u001b[0m \u001b[43m)\u001b[49m\n",
      "File \u001b[0;32m~/Projects/inowas/morpheus/src/backend/src/morpheus/settings.py:39\u001b[0m, in \u001b[0;36mSettings.from_dynaconf\u001b[0;34m(cls, dynaconf)\u001b[0m\n\u001b[1;32m     37\u001b[0m \u001b[38;5;129m@classmethod\u001b[39m\n\u001b[1;32m     38\u001b[0m \u001b[38;5;28;01mdef\u001b[39;00m \u001b[38;5;21mfrom_dynaconf\u001b[39m(\u001b[38;5;28mcls\u001b[39m, dynaconf: Dynaconf):\n\u001b[0;32m---> 39\u001b[0m     \u001b[38;5;28;01mreturn\u001b[39;00m \u001b[38;5;28mcls\u001b[39m(\u001b[43mdynaconf\u001b[49m\u001b[38;5;241;43m.\u001b[39;49m\u001b[43mcurrent_env\u001b[49m, dynaconf)\n",
      "File \u001b[0;32m~/Projects/inowas/morpheus/src/backend/.venv/lib/python3.12/site-packages/dynaconf/base.py:122\u001b[0m, in \u001b[0;36mLazySettings.__getattr__\u001b[0;34m(self, name)\u001b[0m\n\u001b[1;32m    120\u001b[0m \u001b[38;5;250m\u001b[39m\u001b[38;5;124;03m\"\"\"Allow getting keys from self.store using dot notation\"\"\"\u001b[39;00m\n\u001b[1;32m    121\u001b[0m \u001b[38;5;28;01mif\u001b[39;00m \u001b[38;5;28mself\u001b[39m\u001b[38;5;241m.\u001b[39m_wrapped \u001b[38;5;129;01mis\u001b[39;00m empty:\n\u001b[0;32m--> 122\u001b[0m     \u001b[38;5;28;43mself\u001b[39;49m\u001b[38;5;241;43m.\u001b[39;49m\u001b[43m_setup\u001b[49m\u001b[43m(\u001b[49m\u001b[43m)\u001b[49m\n\u001b[1;32m    123\u001b[0m \u001b[38;5;28;01mif\u001b[39;00m name \u001b[38;5;129;01min\u001b[39;00m \u001b[38;5;28mself\u001b[39m\u001b[38;5;241m.\u001b[39m_wrapped\u001b[38;5;241m.\u001b[39m_deleted:  \u001b[38;5;66;03m# noqa\u001b[39;00m\n\u001b[1;32m    124\u001b[0m     \u001b[38;5;28;01mraise\u001b[39;00m \u001b[38;5;167;01mAttributeError\u001b[39;00m(\n\u001b[1;32m    125\u001b[0m         \u001b[38;5;124mf\u001b[39m\u001b[38;5;124m\"\u001b[39m\u001b[38;5;124mAttribute \u001b[39m\u001b[38;5;132;01m{\u001b[39;00mname\u001b[38;5;132;01m}\u001b[39;00m\u001b[38;5;124m was deleted, \u001b[39m\u001b[38;5;124m\"\u001b[39m \u001b[38;5;124m\"\u001b[39m\u001b[38;5;124mor belongs to different env\u001b[39m\u001b[38;5;124m\"\u001b[39m\n\u001b[1;32m    126\u001b[0m     )\n",
      "File \u001b[0;32m~/Projects/inowas/morpheus/src/backend/.venv/lib/python3.12/site-packages/dynaconf/base.py:183\u001b[0m, in \u001b[0;36mLazySettings._setup\u001b[0;34m(self)\u001b[0m\n\u001b[1;32m    179\u001b[0m environment_variable \u001b[38;5;241m=\u001b[39m \u001b[38;5;28mself\u001b[39m\u001b[38;5;241m.\u001b[39m_kwargs\u001b[38;5;241m.\u001b[39mget(\n\u001b[1;32m    180\u001b[0m     \u001b[38;5;124m\"\u001b[39m\u001b[38;5;124mENVVAR_FOR_DYNACONF\u001b[39m\u001b[38;5;124m\"\u001b[39m, default_settings\u001b[38;5;241m.\u001b[39mENVVAR_FOR_DYNACONF\n\u001b[1;32m    181\u001b[0m )\n\u001b[1;32m    182\u001b[0m settings_module \u001b[38;5;241m=\u001b[39m os\u001b[38;5;241m.\u001b[39menviron\u001b[38;5;241m.\u001b[39mget(environment_variable)\n\u001b[0;32m--> 183\u001b[0m \u001b[38;5;28mself\u001b[39m\u001b[38;5;241m.\u001b[39m_wrapped \u001b[38;5;241m=\u001b[39m \u001b[38;5;28;43mself\u001b[39;49m\u001b[38;5;241;43m.\u001b[39;49m\u001b[43m_wrapper_class\u001b[49m\u001b[43m(\u001b[49m\n\u001b[1;32m    184\u001b[0m \u001b[43m    \u001b[49m\u001b[43msettings_module\u001b[49m\u001b[38;5;241;43m=\u001b[39;49m\u001b[43msettings_module\u001b[49m\u001b[43m,\u001b[49m\u001b[43m \u001b[49m\u001b[38;5;241;43m*\u001b[39;49m\u001b[38;5;241;43m*\u001b[39;49m\u001b[38;5;28;43mself\u001b[39;49m\u001b[38;5;241;43m.\u001b[39;49m\u001b[43m_kwargs\u001b[49m\n\u001b[1;32m    185\u001b[0m \u001b[43m\u001b[49m\u001b[43m)\u001b[49m\n",
      "File \u001b[0;32m~/Projects/inowas/morpheus/src/backend/.venv/lib/python3.12/site-packages/dynaconf/base.py:276\u001b[0m, in \u001b[0;36mSettings.__init__\u001b[0;34m(self, settings_module, **kwargs)\u001b[0m\n\u001b[1;32m    273\u001b[0m     \u001b[38;5;28mself\u001b[39m\u001b[38;5;241m.\u001b[39mexecute_loaders()\n\u001b[1;32m    275\u001b[0m \u001b[38;5;28;01mif\u001b[39;00m \u001b[38;5;129;01mnot\u001b[39;00m skip_validators:\n\u001b[0;32m--> 276\u001b[0m     \u001b[38;5;28;43mself\u001b[39;49m\u001b[38;5;241;43m.\u001b[39;49m\u001b[43mvalidators\u001b[49m\u001b[38;5;241;43m.\u001b[39;49m\u001b[43mvalidate\u001b[49m\u001b[43m(\u001b[49m\n\u001b[1;32m    277\u001b[0m \u001b[43m        \u001b[49m\u001b[43monly\u001b[49m\u001b[38;5;241;43m=\u001b[39;49m\u001b[38;5;28;43mself\u001b[39;49m\u001b[38;5;241;43m.\u001b[39;49m\u001b[43m_validate_only\u001b[49m\u001b[43m,\u001b[49m\n\u001b[1;32m    278\u001b[0m \u001b[43m        \u001b[49m\u001b[43mexclude\u001b[49m\u001b[38;5;241;43m=\u001b[39;49m\u001b[38;5;28;43mself\u001b[39;49m\u001b[38;5;241;43m.\u001b[39;49m\u001b[43m_validate_exclude\u001b[49m\u001b[43m,\u001b[49m\n\u001b[1;32m    279\u001b[0m \u001b[43m        \u001b[49m\u001b[43monly_current_env\u001b[49m\u001b[38;5;241;43m=\u001b[39;49m\u001b[38;5;28;43mself\u001b[39;49m\u001b[38;5;241;43m.\u001b[39;49m\u001b[43m_validate_only_current_env\u001b[49m\u001b[43m,\u001b[49m\n\u001b[1;32m    280\u001b[0m \u001b[43m    \u001b[49m\u001b[43m)\u001b[49m\n",
      "File \u001b[0;32m~/Projects/inowas/morpheus/src/backend/.venv/lib/python3.12/site-packages/dynaconf/validator.py:492\u001b[0m, in \u001b[0;36mValidatorList.validate\u001b[0;34m(self, only, exclude, only_current_env)\u001b[0m\n\u001b[1;32m    485\u001b[0m \u001b[38;5;28;01mdef\u001b[39;00m \u001b[38;5;21mvalidate\u001b[39m(\n\u001b[1;32m    486\u001b[0m     \u001b[38;5;28mself\u001b[39m,\n\u001b[1;32m    487\u001b[0m     only: \u001b[38;5;28mstr\u001b[39m \u001b[38;5;241m|\u001b[39m Sequence \u001b[38;5;241m|\u001b[39m \u001b[38;5;28;01mNone\u001b[39;00m \u001b[38;5;241m=\u001b[39m \u001b[38;5;28;01mNone\u001b[39;00m,\n\u001b[1;32m    488\u001b[0m     exclude: \u001b[38;5;28mstr\u001b[39m \u001b[38;5;241m|\u001b[39m Sequence \u001b[38;5;241m|\u001b[39m \u001b[38;5;28;01mNone\u001b[39;00m \u001b[38;5;241m=\u001b[39m \u001b[38;5;28;01mNone\u001b[39;00m,\n\u001b[1;32m    489\u001b[0m     only_current_env: \u001b[38;5;28mbool\u001b[39m \u001b[38;5;241m=\u001b[39m \u001b[38;5;28;01mFalse\u001b[39;00m,\n\u001b[1;32m    490\u001b[0m ) \u001b[38;5;241m-\u001b[39m\u001b[38;5;241m>\u001b[39m \u001b[38;5;28;01mNone\u001b[39;00m:\n\u001b[1;32m    491\u001b[0m     \u001b[38;5;28;01mfor\u001b[39;00m validator \u001b[38;5;129;01min\u001b[39;00m \u001b[38;5;28mself\u001b[39m:\n\u001b[0;32m--> 492\u001b[0m         \u001b[43mvalidator\u001b[49m\u001b[38;5;241;43m.\u001b[39;49m\u001b[43mvalidate\u001b[49m\u001b[43m(\u001b[49m\n\u001b[1;32m    493\u001b[0m \u001b[43m            \u001b[49m\u001b[38;5;28;43mself\u001b[39;49m\u001b[38;5;241;43m.\u001b[39;49m\u001b[43msettings\u001b[49m\u001b[43m,\u001b[49m\n\u001b[1;32m    494\u001b[0m \u001b[43m            \u001b[49m\u001b[43monly\u001b[49m\u001b[38;5;241;43m=\u001b[39;49m\u001b[43monly\u001b[49m\u001b[43m,\u001b[49m\n\u001b[1;32m    495\u001b[0m \u001b[43m            \u001b[49m\u001b[43mexclude\u001b[49m\u001b[38;5;241;43m=\u001b[39;49m\u001b[43mexclude\u001b[49m\u001b[43m,\u001b[49m\n\u001b[1;32m    496\u001b[0m \u001b[43m            \u001b[49m\u001b[43monly_current_env\u001b[49m\u001b[38;5;241;43m=\u001b[39;49m\u001b[43monly_current_env\u001b[49m\u001b[43m,\u001b[49m\n\u001b[1;32m    497\u001b[0m \u001b[43m        \u001b[49m\u001b[43m)\u001b[49m\n",
      "File \u001b[0;32m~/Projects/inowas/morpheus/src/backend/.venv/lib/python3.12/site-packages/dynaconf/validator.py:216\u001b[0m, in \u001b[0;36mValidator.validate\u001b[0;34m(self, settings, only, exclude, only_current_env)\u001b[0m\n\u001b[1;32m    211\u001b[0m \u001b[38;5;66;03m# If only using current_env, skip using_env decoration (reload)\u001b[39;00m\n\u001b[1;32m    212\u001b[0m \u001b[38;5;28;01mif\u001b[39;00m (\n\u001b[1;32m    213\u001b[0m     \u001b[38;5;28mlen\u001b[39m(\u001b[38;5;28mself\u001b[39m\u001b[38;5;241m.\u001b[39menvs) \u001b[38;5;241m==\u001b[39m \u001b[38;5;241m1\u001b[39m\n\u001b[1;32m    214\u001b[0m     \u001b[38;5;129;01mand\u001b[39;00m \u001b[38;5;28mself\u001b[39m\u001b[38;5;241m.\u001b[39menvs[\u001b[38;5;241m0\u001b[39m]\u001b[38;5;241m.\u001b[39mupper() \u001b[38;5;241m==\u001b[39m settings\u001b[38;5;241m.\u001b[39mcurrent_env\u001b[38;5;241m.\u001b[39mupper()\n\u001b[1;32m    215\u001b[0m ):\n\u001b[0;32m--> 216\u001b[0m     \u001b[38;5;28;43mself\u001b[39;49m\u001b[38;5;241;43m.\u001b[39;49m\u001b[43m_validate_items\u001b[49m\u001b[43m(\u001b[49m\n\u001b[1;32m    217\u001b[0m \u001b[43m        \u001b[49m\u001b[43msettings\u001b[49m\u001b[43m,\u001b[49m\u001b[43m \u001b[49m\u001b[43msettings\u001b[49m\u001b[38;5;241;43m.\u001b[39;49m\u001b[43mcurrent_env\u001b[49m\u001b[43m,\u001b[49m\u001b[43m \u001b[49m\u001b[43monly\u001b[49m\u001b[38;5;241;43m=\u001b[39;49m\u001b[43monly\u001b[49m\u001b[43m,\u001b[49m\u001b[43m \u001b[49m\u001b[43mexclude\u001b[49m\u001b[38;5;241;43m=\u001b[39;49m\u001b[43mexclude\u001b[49m\n\u001b[1;32m    218\u001b[0m \u001b[43m    \u001b[49m\u001b[43m)\u001b[49m\n\u001b[1;32m    219\u001b[0m     \u001b[38;5;28;01mreturn\u001b[39;00m\n\u001b[1;32m    221\u001b[0m \u001b[38;5;28;01mfor\u001b[39;00m env \u001b[38;5;129;01min\u001b[39;00m \u001b[38;5;28mself\u001b[39m\u001b[38;5;241m.\u001b[39menvs:\n",
      "File \u001b[0;32m~/Projects/inowas/morpheus/src/backend/.venv/lib/python3.12/site-packages/dynaconf/validator.py:279\u001b[0m, in \u001b[0;36mValidator._validate_items\u001b[0;34m(self, settings, env, only, exclude)\u001b[0m\n\u001b[1;32m    275\u001b[0m \u001b[38;5;28;01mif\u001b[39;00m \u001b[38;5;28mself\u001b[39m\u001b[38;5;241m.\u001b[39mmust_exist \u001b[38;5;129;01mis\u001b[39;00m \u001b[38;5;28;01mTrue\u001b[39;00m \u001b[38;5;129;01mand\u001b[39;00m value \u001b[38;5;129;01mis\u001b[39;00m empty:\n\u001b[1;32m    276\u001b[0m     _message \u001b[38;5;241m=\u001b[39m \u001b[38;5;28mself\u001b[39m\u001b[38;5;241m.\u001b[39mmessages[\u001b[38;5;124m\"\u001b[39m\u001b[38;5;124mmust_exist_true\u001b[39m\u001b[38;5;124m\"\u001b[39m]\u001b[38;5;241m.\u001b[39mformat(\n\u001b[1;32m    277\u001b[0m         name\u001b[38;5;241m=\u001b[39mname, env\u001b[38;5;241m=\u001b[39menv\n\u001b[1;32m    278\u001b[0m     )\n\u001b[0;32m--> 279\u001b[0m     \u001b[38;5;28;01mraise\u001b[39;00m ValidationError(_message, details\u001b[38;5;241m=\u001b[39m[(\u001b[38;5;28mself\u001b[39m, _message)])\n\u001b[1;32m    281\u001b[0m \u001b[38;5;28;01mif\u001b[39;00m \u001b[38;5;28mself\u001b[39m\u001b[38;5;241m.\u001b[39mmust_exist \u001b[38;5;129;01mis\u001b[39;00m \u001b[38;5;28;01mFalse\u001b[39;00m \u001b[38;5;129;01mand\u001b[39;00m value \u001b[38;5;129;01mis\u001b[39;00m \u001b[38;5;129;01mnot\u001b[39;00m empty:\n\u001b[1;32m    282\u001b[0m     _message \u001b[38;5;241m=\u001b[39m \u001b[38;5;28mself\u001b[39m\u001b[38;5;241m.\u001b[39mmessages[\u001b[38;5;124m\"\u001b[39m\u001b[38;5;124mmust_exist_false\u001b[39m\u001b[38;5;124m\"\u001b[39m]\u001b[38;5;241m.\u001b[39mformat(\n\u001b[1;32m    283\u001b[0m         name\u001b[38;5;241m=\u001b[39mname, env\u001b[38;5;241m=\u001b[39menv\n\u001b[1;32m    284\u001b[0m     )\n",
      "\u001b[0;31mValidationError\u001b[0m: SECRET_KEY is required in env production"
     ]
    }
   ],
   "source": [
    "from morpheus.project.infrastructure.calculation.services.CalculationService import CalculationService\n",
    "\n",
    "calculation_service = CalculationService.from_calculation(calculation)\n",
    "calculation_service.calculate()"
   ]
  },
  {
   "cell_type": "code",
   "execution_count": null,
   "id": "a52d1dd3a1574032",
   "metadata": {
    "ExecuteTime": {
     "end_time": "2024-05-14T08:11:48.641561Z",
     "start_time": "2024-05-14T08:11:48.638965Z"
    },
    "collapsed": false,
    "execution": {
     "iopub.execute_input": "2024-05-15T15:21:09.052543Z",
     "iopub.status.busy": "2024-05-15T15:21:09.052194Z",
     "iopub.status.idle": "2024-05-15T15:21:09.054964Z",
     "shell.execute_reply": "2024-05-15T15:21:09.054698Z"
    },
    "papermill": {
     "duration": null,
     "end_time": null,
     "exception": null,
     "start_time": null,
     "status": "pending"
    },
    "tags": []
   },
   "outputs": [],
   "source": [
    "calculation_service.get_result()"
   ]
  },
  {
   "cell_type": "code",
   "execution_count": null,
   "id": "cc43ad077c7a81d0",
   "metadata": {
    "ExecuteTime": {
     "end_time": "2024-05-14T08:11:48.644765Z",
     "start_time": "2024-05-14T08:11:48.642246Z"
    },
    "collapsed": false,
    "execution": {
     "iopub.execute_input": "2024-05-15T15:21:09.066350Z",
     "iopub.status.busy": "2024-05-15T15:21:09.066226Z",
     "iopub.status.idle": "2024-05-15T15:21:09.068689Z",
     "shell.execute_reply": "2024-05-15T15:21:09.068405Z"
    },
    "papermill": {
     "duration": null,
     "end_time": null,
     "exception": null,
     "start_time": null,
     "status": "pending"
    },
    "tags": []
   },
   "outputs": [],
   "source": [
    "head = calculation_service.read_head(0, 0)"
   ]
  },
  {
   "cell_type": "code",
   "execution_count": null,
   "id": "12454cc4d9e18de5",
   "metadata": {
    "ExecuteTime": {
     "end_time": "2024-05-14T08:11:48.650805Z",
     "start_time": "2024-05-14T08:11:48.645425Z"
    },
    "collapsed": false,
    "execution": {
     "iopub.execute_input": "2024-05-15T15:21:09.079363Z",
     "iopub.status.busy": "2024-05-15T15:21:09.079256Z",
     "iopub.status.idle": "2024-05-15T15:21:09.084488Z",
     "shell.execute_reply": "2024-05-15T15:21:09.084207Z"
    },
    "papermill": {
     "duration": null,
     "end_time": null,
     "exception": null,
     "start_time": null,
     "status": "pending"
    },
    "tags": []
   },
   "outputs": [],
   "source": [
    "import simplejson as json\n",
    "\n",
    "json = json.dumps(head, ignore_nan=True)\n",
    "json"
   ]
  },
  {
   "cell_type": "code",
   "execution_count": null,
   "id": "df7dfd8ff0308815",
   "metadata": {
    "ExecuteTime": {
     "end_time": "2024-05-14T08:11:48.654428Z",
     "start_time": "2024-05-14T08:11:48.651545Z"
    },
    "collapsed": false,
    "execution": {
     "iopub.execute_input": "2024-05-15T15:21:09.097076Z",
     "iopub.status.busy": "2024-05-15T15:21:09.096952Z",
     "iopub.status.idle": "2024-05-15T15:21:09.099371Z",
     "shell.execute_reply": "2024-05-15T15:21:09.099037Z"
    },
    "papermill": {
     "duration": null,
     "end_time": null,
     "exception": null,
     "start_time": null,
     "status": "pending"
    },
    "tags": []
   },
   "outputs": [],
   "source": [
    "calculation_service.read_drawdown(0, 0)"
   ]
  },
  {
   "cell_type": "code",
   "execution_count": null,
   "id": "b233f4066b56c174",
   "metadata": {
    "ExecuteTime": {
     "end_time": "2024-05-14T08:11:48.660026Z",
     "start_time": "2024-05-14T08:11:48.655162Z"
    },
    "collapsed": false,
    "execution": {
     "iopub.execute_input": "2024-05-15T15:21:09.112136Z",
     "iopub.status.busy": "2024-05-15T15:21:09.111976Z",
     "iopub.status.idle": "2024-05-15T15:21:09.116515Z",
     "shell.execute_reply": "2024-05-15T15:21:09.116253Z"
    },
    "papermill": {
     "duration": null,
     "end_time": null,
     "exception": null,
     "start_time": null,
     "status": "pending"
    },
    "tags": []
   },
   "outputs": [],
   "source": [
    "calculation_service.read_budget(0, False)"
   ]
  },
  {
   "cell_type": "code",
   "execution_count": null,
   "id": "634709d741f5c252",
   "metadata": {
    "ExecuteTime": {
     "end_time": "2024-05-14T08:11:48.665301Z",
     "start_time": "2024-05-14T08:11:48.660587Z"
    },
    "collapsed": false,
    "execution": {
     "iopub.execute_input": "2024-05-15T15:21:09.129258Z",
     "iopub.status.busy": "2024-05-15T15:21:09.129115Z",
     "iopub.status.idle": "2024-05-15T15:21:09.132878Z",
     "shell.execute_reply": "2024-05-15T15:21:09.132557Z"
    },
    "papermill": {
     "duration": null,
     "end_time": null,
     "exception": null,
     "start_time": null,
     "status": "pending"
    },
    "tags": []
   },
   "outputs": [],
   "source": [
    "calculation_service.read_budget(0, True)"
   ]
  },
  {
   "cell_type": "code",
   "execution_count": null,
   "id": "26523066436690e6",
   "metadata": {
    "ExecuteTime": {
     "end_time": "2024-05-14T08:11:48.669410Z",
     "start_time": "2024-05-14T08:11:48.666215Z"
    },
    "collapsed": false,
    "execution": {
     "iopub.execute_input": "2024-05-15T15:21:09.146667Z",
     "iopub.status.busy": "2024-05-15T15:21:09.146410Z",
     "iopub.status.idle": "2024-05-15T15:21:09.148950Z",
     "shell.execute_reply": "2024-05-15T15:21:09.148652Z"
    },
    "papermill": {
     "duration": null,
     "end_time": null,
     "exception": null,
     "start_time": null,
     "status": "pending"
    },
    "tags": []
   },
   "outputs": [],
   "source": [
    "calculation_service.get_result()"
   ]
  },
  {
   "cell_type": "code",
   "execution_count": null,
   "id": "160abd7d290c83f7",
   "metadata": {
    "ExecuteTime": {
     "end_time": "2024-05-14T08:11:48.800361Z",
     "start_time": "2024-05-14T08:11:48.670375Z"
    },
    "collapsed": false,
    "execution": {
     "iopub.execute_input": "2024-05-15T15:21:09.162932Z",
     "iopub.status.busy": "2024-05-15T15:21:09.162717Z",
     "iopub.status.idle": "2024-05-15T15:21:09.315666Z",
     "shell.execute_reply": "2024-05-15T15:21:09.314421Z"
    },
    "papermill": {
     "duration": null,
     "end_time": null,
     "exception": null,
     "start_time": null,
     "status": "pending"
    },
    "tags": []
   },
   "outputs": [],
   "source": [
    "import matplotlib.pyplot as plt\n",
    "\n",
    "heads = calculation_service.read_head(0, 0)\n",
    "plt.subplot(2, 1, 1)\n",
    "plt.imshow(heads, cmap='jet_r')\n",
    "plt.colorbar()\n",
    "plt.show()"
   ]
  }
 ],
 "metadata": {
  "kernelspec": {
   "display_name": "Python 3",
   "language": "python",
   "name": "python3"
  },
  "language_info": {
   "codemirror_mode": {
    "name": "ipython",
    "version": 3
   },
   "file_extension": ".py",
   "mimetype": "text/x-python",
   "name": "python",
   "nbconvert_exporter": "python",
   "pygments_lexer": "ipython3",
   "version": "3.12.2"
  },
  "papermill": {
   "default_parameters": {},
   "duration": 3.883578,
   "end_time": "2024-05-15T15:39:57.451356",
   "environment_variables": {},
   "exception": true,
   "input_path": "./notebooks/Test_GeneralHeadBoundary.ipynb",
   "output_path": "./notebooks/Test_GeneralHeadBoundary.ipynb",
   "parameters": {},
   "start_time": "2024-05-15T15:39:53.567778",
   "version": "2.6.0"
  }
 },
 "nbformat": 4,
 "nbformat_minor": 5
}