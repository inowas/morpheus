{
 "cells": [
  {
   "cell_type": "code",
   "execution_count": 1,
   "outputs": [],
   "source": [
    "import sys\n",
    "\n",
    "sys.path.insert(0, '..')"
   ],
   "metadata": {
    "collapsed": false,
    "ExecuteTime": {
     "end_time": "2023-12-07T22:07:00.676722Z",
     "start_time": "2023-12-07T22:07:00.614213Z"
    }
   },
   "id": "ba6761fae9d5e5cb"
  },
  {
   "cell_type": "markdown",
   "source": [
    "## Setup the model area"
   ],
   "metadata": {
    "collapsed": false
   },
   "id": "5ede1ba5e0993dd1"
  },
  {
   "cell_type": "code",
   "execution_count": 2,
   "outputs": [
    {
     "data": {
      "text/plain": "SpatialDiscretization(geometry=Polygon(coordinates=[[(13.922514437551428, 50.964720483303836), (13.925250781947113, 50.965228748412386), (13.925036413951403, 50.96623732041704), (13.92222441026388, 50.96629040370362), (13.922514437551428, 50.964720483303836)]], type='Polygon'), grid=Grid(origin=Point(coordinates=(13.922224410263878, 50.9662904037036), type='Point'), x_distances=[33.68941547288559, 33.68941547288559, 33.6894154728856, 33.689415472885585, 33.6894154728856, 33.6894154728856, 33.68941547288557, 33.6894154728856, 33.68941547288563, 33.68941547288557], y_distances=[27.74944856585935, 27.74944856585935, 27.749448565859346, 27.749448565859353, 27.74944856585934, 27.749448565859353, 27.749448565859325, 27.74944856585938, 27.749448565859325, 27.749448565859353], rotation=Rotation(value=0), length_unit=LengthUnit(unit=2)), affected_cells=GridCells(shape=(10, 10), data=[GridCell(x=0, y=0, value=True), GridCell(x=0, y=1, value=True), GridCell(x=0, y=2, value=True), GridCell(x=0, y=3, value=True), GridCell(x=0, y=4, value=True), GridCell(x=1, y=0, value=True), GridCell(x=1, y=1, value=True), GridCell(x=1, y=2, value=True), GridCell(x=1, y=3, value=True), GridCell(x=1, y=4, value=True), GridCell(x=1, y=5, value=True), GridCell(x=1, y=6, value=True), GridCell(x=1, y=7, value=True), GridCell(x=1, y=8, value=True), GridCell(x=1, y=9, value=True), GridCell(x=2, y=0, value=True), GridCell(x=2, y=1, value=True), GridCell(x=2, y=2, value=True), GridCell(x=2, y=3, value=True), GridCell(x=2, y=4, value=True), GridCell(x=2, y=5, value=True), GridCell(x=2, y=6, value=True), GridCell(x=2, y=7, value=True), GridCell(x=2, y=8, value=True), GridCell(x=3, y=0, value=True), GridCell(x=3, y=1, value=True), GridCell(x=3, y=2, value=True), GridCell(x=3, y=3, value=True), GridCell(x=3, y=4, value=True), GridCell(x=3, y=5, value=True), GridCell(x=3, y=6, value=True), GridCell(x=3, y=7, value=True), GridCell(x=3, y=8, value=True), GridCell(x=4, y=0, value=True), GridCell(x=4, y=1, value=True), GridCell(x=4, y=2, value=True), GridCell(x=4, y=3, value=True), GridCell(x=4, y=4, value=True), GridCell(x=4, y=5, value=True), GridCell(x=4, y=6, value=True), GridCell(x=4, y=7, value=True), GridCell(x=4, y=8, value=True), GridCell(x=5, y=0, value=True), GridCell(x=5, y=1, value=True), GridCell(x=5, y=2, value=True), GridCell(x=5, y=3, value=True), GridCell(x=5, y=4, value=True), GridCell(x=5, y=5, value=True), GridCell(x=5, y=6, value=True), GridCell(x=5, y=7, value=True), GridCell(x=6, y=0, value=True), GridCell(x=6, y=1, value=True), GridCell(x=6, y=2, value=True), GridCell(x=6, y=3, value=True), GridCell(x=6, y=4, value=True), GridCell(x=6, y=5, value=True), GridCell(x=6, y=6, value=True), GridCell(x=6, y=7, value=True), GridCell(x=7, y=0, value=True), GridCell(x=7, y=1, value=True), GridCell(x=7, y=2, value=True), GridCell(x=7, y=3, value=True), GridCell(x=7, y=4, value=True), GridCell(x=7, y=5, value=True), GridCell(x=7, y=6, value=True), GridCell(x=7, y=7, value=True), GridCell(x=8, y=0, value=True), GridCell(x=8, y=1, value=True), GridCell(x=8, y=2, value=True), GridCell(x=8, y=3, value=True), GridCell(x=8, y=4, value=True), GridCell(x=8, y=5, value=True), GridCell(x=8, y=6, value=True), GridCell(x=9, y=2, value=True), GridCell(x=9, y=3, value=True), GridCell(x=9, y=4, value=True), GridCell(x=9, y=5, value=True), GridCell(x=9, y=6, value=True)], cell_geometries=None), crs=Crs(value='EPSG:4326'))"
     },
     "execution_count": 2,
     "metadata": {},
     "output_type": "execute_result"
    }
   ],
   "source": [
    "from morpheus.modflow.types.discretization.spatial.GridCells import GridCells\n",
    "from morpheus.modflow.types.discretization import SpatialDiscretization\n",
    "from morpheus.modflow.types.discretization.spatial import Rotation, LengthUnit, Grid, Crs\n",
    "from morpheus.modflow.types.geometry import Polygon, LineString\n",
    "\n",
    "polygon = Polygon(\n",
    "  type='Polygon',\n",
    "  coordinates=[[\n",
    "    (13.922514437551428, 50.964720483303836),\n",
    "    (13.925250781947113, 50.965228748412386),\n",
    "    (13.925036413951403, 50.96623732041704),\n",
    "    (13.92222441026388, 50.96629040370362),\n",
    "    (13.922514437551428, 50.964720483303836)\n",
    "  ]]\n",
    ")\n",
    "\n",
    "rotation = Rotation(0)\n",
    "length_unit = LengthUnit.meters()\n",
    "x_coordinates = [0, 0.1, 0.2, 0.3, 0.4, 0.5, 0.6, 0.7, 0.8, 0.9, 1]\n",
    "y_coordinates = [0, 0.1, 0.2, 0.3, 0.4, 0.5, 0.6, 0.7, 0.8, 0.9, 1]\n",
    "\n",
    "grid = Grid.from_polygon_with_relative_coordinates(\n",
    "  polygon=polygon,\n",
    "  x_coordinates=x_coordinates,\n",
    "  y_coordinates=y_coordinates,\n",
    "  rotation=rotation,\n",
    ")\n",
    "\n",
    "spatial_discretization = SpatialDiscretization(\n",
    "  geometry=polygon,\n",
    "  grid=grid,\n",
    "  affected_cells=GridCells.from_polygon(polygon=polygon, grid=grid),\n",
    "  crs=Crs.from_str('EPSG:4326')\n",
    ")\n",
    "\n",
    "spatial_discretization\n",
    "\n"
   ],
   "metadata": {
    "collapsed": false,
    "ExecuteTime": {
     "end_time": "2023-12-07T22:07:00.809544Z",
     "start_time": "2023-12-07T22:07:00.620647Z"
    }
   },
   "id": "2f69504ab35487aa"
  },
  {
   "cell_type": "markdown",
   "source": [
    "## Setup Time Discretization"
   ],
   "metadata": {
    "collapsed": false
   },
   "id": "fa27e67f9d801845"
  },
  {
   "cell_type": "code",
   "execution_count": 3,
   "outputs": [
    {
     "data": {
      "text/plain": "TimeDiscretization(start_date_time=StartDateTime(value=datetime.datetime(2020, 1, 1, 0, 0)), end_date_time=StartDateTime(value=datetime.datetime(2020, 12, 31, 0, 0)), stress_periods=StressPeriodCollection(values=[StressPeriod(start_date_time=StartDateTime(value=datetime.datetime(2020, 1, 1, 0, 0)), number_of_time_steps=NumberOfTimeSteps(value=1), time_step_multiplier=TimeStepMultiplier(value=1), steady_state=IsSteadyState(value=True))]), time_unit=TimeUnit(unit=4))"
     },
     "execution_count": 3,
     "metadata": {},
     "output_type": "execute_result"
    }
   ],
   "source": [
    "from morpheus.modflow.types.discretization.time.TimeUnit import TimeUnit\n",
    "from morpheus.modflow.types.discretization.time.Stressperiods import StartDateTime, StressPeriodCollection, \\\n",
    "  StressPeriod, NumberOfTimeSteps, TimeStepMultiplier, IsSteadyState\n",
    "from morpheus.modflow.types.discretization.time import TimeDiscretization\n",
    "from datetime import datetime\n",
    "\n",
    "time_discretization = TimeDiscretization(\n",
    "  start_date_time=StartDateTime.from_datetime(datetime(2020, 1, 1)),\n",
    "  end_date_time=StartDateTime.from_datetime(datetime(2020, 12, 31)),\n",
    "  stress_periods=StressPeriodCollection([\n",
    "    StressPeriod(\n",
    "      start_date_time=StartDateTime.from_datetime(datetime(2020, 1, 1)),\n",
    "      number_of_time_steps=NumberOfTimeSteps(1),\n",
    "      time_step_multiplier=TimeStepMultiplier(1),\n",
    "      steady_state=IsSteadyState.yes()\n",
    "    ),\n",
    "  ]),\n",
    "  time_unit=TimeUnit.days()\n",
    ")\n",
    "\n",
    "time_discretization"
   ],
   "metadata": {
    "collapsed": false,
    "ExecuteTime": {
     "end_time": "2023-12-07T22:07:00.809936Z",
     "start_time": "2023-12-07T22:07:00.796911Z"
    }
   },
   "id": "8e4e63dd138db9fc"
  },
  {
   "cell_type": "markdown",
   "source": [
    "# Setup Modflow Model"
   ],
   "metadata": {
    "collapsed": false
   },
   "id": "963ba8729f09fcec"
  },
  {
   "cell_type": "code",
   "execution_count": 4,
   "outputs": [],
   "source": [
    "from morpheus.modflow.types.ModflowModel import ModflowModel\n",
    "\n",
    "modflow_model = ModflowModel.new()\n",
    "modflow_model = modflow_model.with_updated_time_discretization(time_discretization)\n",
    "modflow_model = modflow_model.with_updated_spatial_discretization(spatial_discretization=spatial_discretization)"
   ],
   "metadata": {
    "collapsed": false,
    "ExecuteTime": {
     "end_time": "2023-12-07T22:07:01.245249Z",
     "start_time": "2023-12-07T22:07:00.802377Z"
    }
   },
   "id": "1d5c9125b1b9360b"
  },
  {
   "cell_type": "code",
   "execution_count": 5,
   "outputs": [
    {
     "data": {
      "text/plain": "<folium.folium.Map at 0x127125e80>",
      "text/html": "<div style=\"width:100%;\"><div style=\"position:relative;width:100%;height:0;padding-bottom:60%;\"><span style=\"color:#565656\">Make this Notebook Trusted to load map: File -> Trust Notebook</span><iframe srcdoc=\"&lt;!DOCTYPE html&gt;\n&lt;html&gt;\n&lt;head&gt;\n    \n    &lt;meta http-equiv=&quot;content-type&quot; content=&quot;text/html; charset=UTF-8&quot; /&gt;\n    \n        &lt;script&gt;\n            L_NO_TOUCH = false;\n            L_DISABLE_3D = false;\n        &lt;/script&gt;\n    \n    &lt;style&gt;html, body {width: 100%;height: 100%;margin: 0;padding: 0;}&lt;/style&gt;\n    &lt;style&gt;#map {position:absolute;top:0;bottom:0;right:0;left:0;}&lt;/style&gt;\n    &lt;script src=&quot;https://cdn.jsdelivr.net/npm/leaflet@1.9.3/dist/leaflet.js&quot;&gt;&lt;/script&gt;\n    &lt;script src=&quot;https://code.jquery.com/jquery-3.7.1.min.js&quot;&gt;&lt;/script&gt;\n    &lt;script src=&quot;https://cdn.jsdelivr.net/npm/bootstrap@5.2.2/dist/js/bootstrap.bundle.min.js&quot;&gt;&lt;/script&gt;\n    &lt;script src=&quot;https://cdnjs.cloudflare.com/ajax/libs/Leaflet.awesome-markers/2.0.2/leaflet.awesome-markers.js&quot;&gt;&lt;/script&gt;\n    &lt;link rel=&quot;stylesheet&quot; href=&quot;https://cdn.jsdelivr.net/npm/leaflet@1.9.3/dist/leaflet.css&quot;/&gt;\n    &lt;link rel=&quot;stylesheet&quot; href=&quot;https://cdn.jsdelivr.net/npm/bootstrap@5.2.2/dist/css/bootstrap.min.css&quot;/&gt;\n    &lt;link rel=&quot;stylesheet&quot; href=&quot;https://netdna.bootstrapcdn.com/bootstrap/3.0.0/css/bootstrap.min.css&quot;/&gt;\n    &lt;link rel=&quot;stylesheet&quot; href=&quot;https://cdn.jsdelivr.net/npm/@fortawesome/fontawesome-free@6.2.0/css/all.min.css&quot;/&gt;\n    &lt;link rel=&quot;stylesheet&quot; href=&quot;https://cdnjs.cloudflare.com/ajax/libs/Leaflet.awesome-markers/2.0.2/leaflet.awesome-markers.css&quot;/&gt;\n    &lt;link rel=&quot;stylesheet&quot; href=&quot;https://cdn.jsdelivr.net/gh/python-visualization/folium/folium/templates/leaflet.awesome.rotate.min.css&quot;/&gt;\n    \n            &lt;meta name=&quot;viewport&quot; content=&quot;width=device-width,\n                initial-scale=1.0, maximum-scale=1.0, user-scalable=no&quot; /&gt;\n            &lt;style&gt;\n                #map_f862aba571308d6294dd753cddb0bc63 {\n                    position: relative;\n                    width: 100.0%;\n                    height: 100.0%;\n                    left: 0.0%;\n                    top: 0.0%;\n                }\n                .leaflet-container { font-size: 1rem; }\n            &lt;/style&gt;\n        \n&lt;/head&gt;\n&lt;body&gt;\n    \n    \n            &lt;div class=&quot;folium-map&quot; id=&quot;map_f862aba571308d6294dd753cddb0bc63&quot; &gt;&lt;/div&gt;\n        \n&lt;/body&gt;\n&lt;script&gt;\n    \n    \n            var map_f862aba571308d6294dd753cddb0bc63 = L.map(\n                &quot;map_f862aba571308d6294dd753cddb0bc63&quot;,\n                {\n                    center: [50.965, 13.922],\n                    crs: L.CRS.EPSG3857,\n                    zoom: 12,\n                    zoomControl: true,\n                    preferCanvas: false,\n                }\n            );\n\n            \n\n        \n    \n            var tile_layer_594a1f0d44dc75a202df61c55d256095 = L.tileLayer(\n                &quot;https://{s}.basemaps.cartocdn.com/light_all/{z}/{x}/{y}{r}.png&quot;,\n                {&quot;attribution&quot;: &quot;\\u0026copy; \\u003ca href=\\&quot;https://www.openstreetmap.org/copyright\\&quot;\\u003eOpenStreetMap\\u003c/a\\u003e contributors \\u0026copy; \\u003ca href=\\&quot;https://carto.com/attributions\\&quot;\\u003eCARTO\\u003c/a\\u003e&quot;, &quot;detectRetina&quot;: false, &quot;maxNativeZoom&quot;: 20, &quot;maxZoom&quot;: 20, &quot;minZoom&quot;: 0, &quot;noWrap&quot;: false, &quot;opacity&quot;: 1, &quot;subdomains&quot;: &quot;abcd&quot;, &quot;tms&quot;: false}\n            );\n        \n    \n            tile_layer_594a1f0d44dc75a202df61c55d256095.addTo(map_f862aba571308d6294dd753cddb0bc63);\n        \n    \n\n        function geo_json_cf171205d3e9be9e270394ce46881720_onEachFeature(feature, layer) {\n            layer.on({\n            });\n        };\n        var geo_json_cf171205d3e9be9e270394ce46881720 = L.geoJson(null, {\n                onEachFeature: geo_json_cf171205d3e9be9e270394ce46881720_onEachFeature,\n            \n        });\n\n        function geo_json_cf171205d3e9be9e270394ce46881720_add (data) {\n            geo_json_cf171205d3e9be9e270394ce46881720\n                .addData(data);\n        }\n            geo_json_cf171205d3e9be9e270394ce46881720_add({&quot;coordinates&quot;: [[[13.922514437551428, 50.964720483303836], [13.925250781947113, 50.965228748412386], [13.925036413951403, 50.96623732041704], [13.92222441026388, 50.96629040370362], [13.922514437551428, 50.964720483303836]]], &quot;type&quot;: &quot;Polygon&quot;});\n\n        \n    \n            geo_json_cf171205d3e9be9e270394ce46881720.addTo(map_f862aba571308d6294dd753cddb0bc63);\n        \n    \n            map_f862aba571308d6294dd753cddb0bc63.fitBounds(\n                [[50.964720483303836, 13.92222441026388], [50.96629040370362, 13.925250781947113]],\n                {}\n            );\n        \n&lt;/script&gt;\n&lt;/html&gt;\" style=\"position:absolute;width:100%;height:100%;left:0;top:0;border:none !important;\" allowfullscreen webkitallowfullscreen mozallowfullscreen></iframe></div></div>"
     },
     "execution_count": 5,
     "metadata": {},
     "output_type": "execute_result"
    }
   ],
   "source": [
    "import folium\n",
    "\n",
    "m = folium.Map(tiles=\"cartodbpositron\", crs=\"EPSG3857\", zoom_start=12, location=[50.965, 13.922])\n",
    "m.add_child(folium.GeoJson(polygon.as_geojson()))\n",
    "\n",
    "m.fit_bounds(m.get_bounds())\n",
    "m"
   ],
   "metadata": {
    "collapsed": false,
    "ExecuteTime": {
     "end_time": "2023-12-07T22:07:01.386840Z",
     "start_time": "2023-12-07T22:07:01.246773Z"
    }
   },
   "id": "1540b870ae83f298"
  },
  {
   "cell_type": "markdown",
   "source": [
    "# Setup constant head boundary with 1 observation"
   ],
   "metadata": {
    "collapsed": false
   },
   "id": "62ae3587df801000"
  },
  {
   "cell_type": "code",
   "execution_count": 6,
   "outputs": [
    {
     "data": {
      "text/plain": "<folium.folium.Map at 0x127125e80>",
      "text/html": "<div style=\"width:100%;\"><div style=\"position:relative;width:100%;height:0;padding-bottom:60%;\"><span style=\"color:#565656\">Make this Notebook Trusted to load map: File -> Trust Notebook</span><iframe srcdoc=\"&lt;!DOCTYPE html&gt;\n&lt;html&gt;\n&lt;head&gt;\n    \n    &lt;meta http-equiv=&quot;content-type&quot; content=&quot;text/html; charset=UTF-8&quot; /&gt;\n    \n        &lt;script&gt;\n            L_NO_TOUCH = false;\n            L_DISABLE_3D = false;\n        &lt;/script&gt;\n    \n    &lt;style&gt;html, body {width: 100%;height: 100%;margin: 0;padding: 0;}&lt;/style&gt;\n    &lt;style&gt;#map {position:absolute;top:0;bottom:0;right:0;left:0;}&lt;/style&gt;\n    &lt;script src=&quot;https://cdn.jsdelivr.net/npm/leaflet@1.9.3/dist/leaflet.js&quot;&gt;&lt;/script&gt;\n    &lt;script src=&quot;https://code.jquery.com/jquery-3.7.1.min.js&quot;&gt;&lt;/script&gt;\n    &lt;script src=&quot;https://cdn.jsdelivr.net/npm/bootstrap@5.2.2/dist/js/bootstrap.bundle.min.js&quot;&gt;&lt;/script&gt;\n    &lt;script src=&quot;https://cdnjs.cloudflare.com/ajax/libs/Leaflet.awesome-markers/2.0.2/leaflet.awesome-markers.js&quot;&gt;&lt;/script&gt;\n    &lt;link rel=&quot;stylesheet&quot; href=&quot;https://cdn.jsdelivr.net/npm/leaflet@1.9.3/dist/leaflet.css&quot;/&gt;\n    &lt;link rel=&quot;stylesheet&quot; href=&quot;https://cdn.jsdelivr.net/npm/bootstrap@5.2.2/dist/css/bootstrap.min.css&quot;/&gt;\n    &lt;link rel=&quot;stylesheet&quot; href=&quot;https://netdna.bootstrapcdn.com/bootstrap/3.0.0/css/bootstrap.min.css&quot;/&gt;\n    &lt;link rel=&quot;stylesheet&quot; href=&quot;https://cdn.jsdelivr.net/npm/@fortawesome/fontawesome-free@6.2.0/css/all.min.css&quot;/&gt;\n    &lt;link rel=&quot;stylesheet&quot; href=&quot;https://cdnjs.cloudflare.com/ajax/libs/Leaflet.awesome-markers/2.0.2/leaflet.awesome-markers.css&quot;/&gt;\n    &lt;link rel=&quot;stylesheet&quot; href=&quot;https://cdn.jsdelivr.net/gh/python-visualization/folium/folium/templates/leaflet.awesome.rotate.min.css&quot;/&gt;\n    \n            &lt;meta name=&quot;viewport&quot; content=&quot;width=device-width,\n                initial-scale=1.0, maximum-scale=1.0, user-scalable=no&quot; /&gt;\n            &lt;style&gt;\n                #map_f862aba571308d6294dd753cddb0bc63 {\n                    position: relative;\n                    width: 100.0%;\n                    height: 100.0%;\n                    left: 0.0%;\n                    top: 0.0%;\n                }\n                .leaflet-container { font-size: 1rem; }\n            &lt;/style&gt;\n        \n&lt;/head&gt;\n&lt;body&gt;\n    \n    \n            &lt;div class=&quot;folium-map&quot; id=&quot;map_f862aba571308d6294dd753cddb0bc63&quot; &gt;&lt;/div&gt;\n        \n&lt;/body&gt;\n&lt;script&gt;\n    \n    \n            var map_f862aba571308d6294dd753cddb0bc63 = L.map(\n                &quot;map_f862aba571308d6294dd753cddb0bc63&quot;,\n                {\n                    center: [50.965, 13.922],\n                    crs: L.CRS.EPSG3857,\n                    zoom: 12,\n                    zoomControl: true,\n                    preferCanvas: false,\n                }\n            );\n\n            \n\n        \n    \n            var tile_layer_594a1f0d44dc75a202df61c55d256095 = L.tileLayer(\n                &quot;https://{s}.basemaps.cartocdn.com/light_all/{z}/{x}/{y}{r}.png&quot;,\n                {&quot;attribution&quot;: &quot;\\u0026copy; \\u003ca href=\\&quot;https://www.openstreetmap.org/copyright\\&quot;\\u003eOpenStreetMap\\u003c/a\\u003e contributors \\u0026copy; \\u003ca href=\\&quot;https://carto.com/attributions\\&quot;\\u003eCARTO\\u003c/a\\u003e&quot;, &quot;detectRetina&quot;: false, &quot;maxNativeZoom&quot;: 20, &quot;maxZoom&quot;: 20, &quot;minZoom&quot;: 0, &quot;noWrap&quot;: false, &quot;opacity&quot;: 1, &quot;subdomains&quot;: &quot;abcd&quot;, &quot;tms&quot;: false}\n            );\n        \n    \n            tile_layer_594a1f0d44dc75a202df61c55d256095.addTo(map_f862aba571308d6294dd753cddb0bc63);\n        \n    \n\n        function geo_json_cf171205d3e9be9e270394ce46881720_onEachFeature(feature, layer) {\n            layer.on({\n            });\n        };\n        var geo_json_cf171205d3e9be9e270394ce46881720 = L.geoJson(null, {\n                onEachFeature: geo_json_cf171205d3e9be9e270394ce46881720_onEachFeature,\n            \n        });\n\n        function geo_json_cf171205d3e9be9e270394ce46881720_add (data) {\n            geo_json_cf171205d3e9be9e270394ce46881720\n                .addData(data);\n        }\n            geo_json_cf171205d3e9be9e270394ce46881720_add({&quot;coordinates&quot;: [[[13.922514437551428, 50.964720483303836], [13.925250781947113, 50.965228748412386], [13.925036413951403, 50.96623732041704], [13.92222441026388, 50.96629040370362], [13.922514437551428, 50.964720483303836]]], &quot;type&quot;: &quot;Polygon&quot;});\n\n        \n    \n            geo_json_cf171205d3e9be9e270394ce46881720.addTo(map_f862aba571308d6294dd753cddb0bc63);\n        \n    \n            map_f862aba571308d6294dd753cddb0bc63.fitBounds(\n                [[50.964720483303836, 13.92222441026388], [50.96629040370362, 13.925250781947113]],\n                {}\n            );\n        \n    \n            tile_layer_594a1f0d44dc75a202df61c55d256095.addTo(map_f862aba571308d6294dd753cddb0bc63);\n        \n    \n            geo_json_cf171205d3e9be9e270394ce46881720.addTo(map_f862aba571308d6294dd753cddb0bc63);\n        \n    \n\n        function geo_json_d6765a5d1b814fd3e1f934a651ccfd50_onEachFeature(feature, layer) {\n            layer.on({\n            });\n        };\n        var geo_json_d6765a5d1b814fd3e1f934a651ccfd50 = L.geoJson(null, {\n                onEachFeature: geo_json_d6765a5d1b814fd3e1f934a651ccfd50_onEachFeature,\n            \n        });\n\n        function geo_json_d6765a5d1b814fd3e1f934a651ccfd50_add (data) {\n            geo_json_d6765a5d1b814fd3e1f934a651ccfd50\n                .addData(data);\n        }\n            geo_json_d6765a5d1b814fd3e1f934a651ccfd50_add({&quot;coordinates&quot;: [[13.9223, 50.9662], [13.925, 50.96615]], &quot;type&quot;: &quot;LineString&quot;});\n\n        \n    \n            geo_json_d6765a5d1b814fd3e1f934a651ccfd50.addTo(map_f862aba571308d6294dd753cddb0bc63);\n        \n    \n\n        function geo_json_39c4ba3c6d65b3e4e8950a60139a3a40_onEachFeature(feature, layer) {\n            layer.on({\n            });\n        };\n        var geo_json_39c4ba3c6d65b3e4e8950a60139a3a40 = L.geoJson(null, {\n                onEachFeature: geo_json_39c4ba3c6d65b3e4e8950a60139a3a40_onEachFeature,\n            \n        });\n\n        function geo_json_39c4ba3c6d65b3e4e8950a60139a3a40_add (data) {\n            geo_json_39c4ba3c6d65b3e4e8950a60139a3a40\n                .addData(data);\n        }\n            geo_json_39c4ba3c6d65b3e4e8950a60139a3a40_add({&quot;geometries&quot;: [{&quot;coordinates&quot;: [[[13.922224410263878, 50.96629040370359], [13.922527047432201, 50.96629040370359], [13.922527047432201, 50.9661334140511], [13.922224410263878, 50.9661334140511], [13.922224410263878, 50.96629040370359]]], &quot;type&quot;: &quot;Polygon&quot;}, {&quot;coordinates&quot;: [[[13.922527047432201, 50.96629040370359], [13.922829684600526, 50.96629040370359], [13.922829684600526, 50.9661334140511], [13.922527047432201, 50.9661334140511], [13.922527047432201, 50.96629040370359]]], &quot;type&quot;: &quot;Polygon&quot;}, {&quot;coordinates&quot;: [[[13.922829684600526, 50.96629040370359], [13.923132321768849, 50.96629040370359], [13.923132321768849, 50.9661334140511], [13.922829684600526, 50.9661334140511], [13.922829684600526, 50.96629040370359]]], &quot;type&quot;: &quot;Polygon&quot;}, {&quot;coordinates&quot;: [[[13.923132321768849, 50.96629040370359], [13.923434958937172, 50.96629040370359], [13.923434958937172, 50.9661334140511], [13.923132321768849, 50.9661334140511], [13.923132321768849, 50.96629040370359]]], &quot;type&quot;: &quot;Polygon&quot;}, {&quot;coordinates&quot;: [[[13.923434958937172, 50.96629040370359], [13.923737596105495, 50.96629040370359], [13.923737596105495, 50.9661334140511], [13.923434958937172, 50.9661334140511], [13.923434958937172, 50.96629040370359]]], &quot;type&quot;: &quot;Polygon&quot;}, {&quot;coordinates&quot;: [[[13.923737596105495, 50.96629040370359], [13.924040233273818, 50.96629040370359], [13.924040233273818, 50.9661334140511], [13.923737596105495, 50.9661334140511], [13.923737596105495, 50.96629040370359]]], &quot;type&quot;: &quot;Polygon&quot;}, {&quot;coordinates&quot;: [[[13.924040233273818, 50.96629040370359], [13.924342870442143, 50.96629040370359], [13.924342870442143, 50.9661334140511], [13.924040233273818, 50.9661334140511], [13.924040233273818, 50.96629040370359]]], &quot;type&quot;: &quot;Polygon&quot;}, {&quot;coordinates&quot;: [[[13.924342870442143, 50.96629040370359], [13.924645507610466, 50.96629040370359], [13.924645507610466, 50.9661334140511], [13.924342870442143, 50.9661334140511], [13.924342870442143, 50.96629040370359]]], &quot;type&quot;: &quot;Polygon&quot;}, {&quot;coordinates&quot;: [[[13.924645507610466, 50.96629040370359], [13.92494814477879, 50.96629040370359], [13.92494814477879, 50.9661334140511], [13.924645507610466, 50.9661334140511], [13.924645507610466, 50.96629040370359]]], &quot;type&quot;: &quot;Polygon&quot;}, {&quot;coordinates&quot;: [[[13.92494814477879, 50.96629040370359], [13.925250781947113, 50.96629040370359], [13.925250781947113, 50.9661334140511], [13.92494814477879, 50.9661334140511], [13.92494814477879, 50.96629040370359]]], &quot;type&quot;: &quot;Polygon&quot;}], &quot;type&quot;: &quot;GeometryCollection&quot;});\n\n        \n    \n            geo_json_39c4ba3c6d65b3e4e8950a60139a3a40.addTo(map_f862aba571308d6294dd753cddb0bc63);\n        \n    \n\n        function geo_json_b74800a9c164afb6cea31ffe5d059f3c_onEachFeature(feature, layer) {\n            layer.on({\n            });\n        };\n        var geo_json_b74800a9c164afb6cea31ffe5d059f3c = L.geoJson(null, {\n                onEachFeature: geo_json_b74800a9c164afb6cea31ffe5d059f3c_onEachFeature,\n            \n        });\n\n        function geo_json_b74800a9c164afb6cea31ffe5d059f3c_add (data) {\n            geo_json_b74800a9c164afb6cea31ffe5d059f3c\n                .addData(data);\n        }\n            geo_json_b74800a9c164afb6cea31ffe5d059f3c_add({&quot;coordinates&quot;: [13.9223, 50.9662], &quot;type&quot;: &quot;Point&quot;});\n\n        \n    \n            geo_json_b74800a9c164afb6cea31ffe5d059f3c.addTo(map_f862aba571308d6294dd753cddb0bc63);\n        \n    \n            map_f862aba571308d6294dd753cddb0bc63.fitBounds(\n                [[50.964720483303836, 13.922224410263878], [50.96629040370362, 13.925250781947113]],\n                {}\n            );\n        \n&lt;/script&gt;\n&lt;/html&gt;\" style=\"position:absolute;width:100%;height:100%;left:0;top:0;border:none !important;\" allowfullscreen webkitallowfullscreen mozallowfullscreen></iframe></div></div>"
     },
     "execution_count": 6,
     "metadata": {},
     "output_type": "execute_result"
    }
   ],
   "source": [
    "from morpheus.modflow.types.boundaries.ConstantHeadData import ObservationId, StartHead, EndHead, DataItem\n",
    "from morpheus.modflow.types.geometry import Point\n",
    "from morpheus.modflow.types.boundaries.Boundary import BoundaryName\n",
    "from morpheus.modflow.types.soil_model import LayerId\n",
    "from morpheus.modflow.types.boundaries.Boundary import ConstantHead, ConstantHeadObservation\n",
    "\n",
    "layers_list = [LayerId.new()]\n",
    "constant_head = ConstantHead.from_geometry(\n",
    "  name=BoundaryName('constant_head'),\n",
    "  geometry=LineString([\n",
    "    (13.9223, 50.9662),\n",
    "    (13.9250, 50.96615),\n",
    "  ]),\n",
    "  grid=grid,\n",
    "  affected_layers=[modflow_model.soil_model.layers[0].id],\n",
    "  observations=[\n",
    "    ConstantHeadObservation(\n",
    "      id=ObservationId.new(),\n",
    "      geometry=Point((13.9223, 50.9662)),\n",
    "      raw_data=[\n",
    "        DataItem(\n",
    "          date_time=StartDateTime.from_datetime(datetime(2019, 1, 1)),\n",
    "          start_head=StartHead.from_float(100),\n",
    "          end_head=EndHead.from_float(100),\n",
    "        ),\n",
    "        DataItem(\n",
    "          date_time=StartDateTime.from_datetime(datetime(2021, 12, 31)),\n",
    "          start_head=StartHead.from_float(120),\n",
    "          end_head=EndHead.from_float(120),\n",
    "        ),\n",
    "      ]\n",
    "    )\n",
    "  ]\n",
    ")\n",
    "\n",
    "m.add_child(folium.GeoJson(constant_head.as_geojson()))\n",
    "m.add_child(folium.GeoJson(constant_head.affected_cells.as_geojson(grid).as_geojson()))\n",
    "for constant_head.observation in constant_head.observations:\n",
    "  m.add_child(folium.GeoJson(constant_head.observation.as_geojson()))\n",
    "m.fit_bounds(m.get_bounds())\n",
    "m"
   ],
   "metadata": {
    "collapsed": false,
    "ExecuteTime": {
     "end_time": "2023-12-07T22:07:01.412039Z",
     "start_time": "2023-12-07T22:07:01.384002Z"
    }
   },
   "id": "53679913aee28ce9"
  },
  {
   "cell_type": "code",
   "execution_count": 7,
   "outputs": [],
   "source": [
    "from morpheus.modflow.types.boundaries.Boundary import BoundaryCollection\n",
    "boundary_collection = BoundaryCollection.new()\n",
    "boundary_collection.add_boundary(constant_head)\n",
    "\n",
    "modflow_model = modflow_model.with_updated_boundaries(boundaries=boundary_collection)"
   ],
   "metadata": {
    "collapsed": false,
    "ExecuteTime": {
     "end_time": "2023-12-07T22:07:01.417381Z",
     "start_time": "2023-12-07T22:07:01.410718Z"
    }
   },
   "id": "621e2265ae79b1ae"
  },
  {
   "cell_type": "markdown",
   "source": [
    "## Calculate"
   ],
   "metadata": {
    "collapsed": false
   },
   "id": "42d948d145a8457a"
  },
  {
   "cell_type": "code",
   "execution_count": 8,
   "outputs": [
    {
     "data": {
      "text/plain": "Mf2005Calculation(calculation_id=CalculationId(value='ed0b1996-d4d7-4a7d-abec-41579a917cab'), modflow_model=ModflowModel(model_id=ModelId(value='35c06665-bb6e-4275-94c0-49ac2ece3e62'), spatial_discretization=SpatialDiscretization(geometry=Polygon(coordinates=[[(13.922514437551428, 50.964720483303836), (13.925250781947113, 50.965228748412386), (13.925036413951403, 50.96623732041704), (13.92222441026388, 50.96629040370362), (13.922514437551428, 50.964720483303836)]], type='Polygon'), grid=Grid(origin=Point(coordinates=(13.922224410263878, 50.9662904037036), type='Point'), x_distances=[33.68941547288559, 33.68941547288559, 33.6894154728856, 33.689415472885585, 33.6894154728856, 33.6894154728856, 33.68941547288557, 33.6894154728856, 33.68941547288563, 33.68941547288557], y_distances=[27.74944856585935, 27.74944856585935, 27.749448565859346, 27.749448565859353, 27.74944856585934, 27.749448565859353, 27.749448565859325, 27.74944856585938, 27.749448565859325, 27.749448565859353], rotation=Rotation(value=0), length_unit=LengthUnit(unit=2)), affected_cells=GridCells(shape=(10, 10), data=[GridCell(x=0, y=0, value=True), GridCell(x=0, y=1, value=True), GridCell(x=0, y=2, value=True), GridCell(x=0, y=3, value=True), GridCell(x=0, y=4, value=True), GridCell(x=1, y=0, value=True), GridCell(x=1, y=1, value=True), GridCell(x=1, y=2, value=True), GridCell(x=1, y=3, value=True), GridCell(x=1, y=4, value=True), GridCell(x=1, y=5, value=True), GridCell(x=1, y=6, value=True), GridCell(x=1, y=7, value=True), GridCell(x=1, y=8, value=True), GridCell(x=1, y=9, value=True), GridCell(x=2, y=0, value=True), GridCell(x=2, y=1, value=True), GridCell(x=2, y=2, value=True), GridCell(x=2, y=3, value=True), GridCell(x=2, y=4, value=True), GridCell(x=2, y=5, value=True), GridCell(x=2, y=6, value=True), GridCell(x=2, y=7, value=True), GridCell(x=2, y=8, value=True), GridCell(x=3, y=0, value=True), GridCell(x=3, y=1, value=True), GridCell(x=3, y=2, value=True), GridCell(x=3, y=3, value=True), GridCell(x=3, y=4, value=True), GridCell(x=3, y=5, value=True), GridCell(x=3, y=6, value=True), GridCell(x=3, y=7, value=True), GridCell(x=3, y=8, value=True), GridCell(x=4, y=0, value=True), GridCell(x=4, y=1, value=True), GridCell(x=4, y=2, value=True), GridCell(x=4, y=3, value=True), GridCell(x=4, y=4, value=True), GridCell(x=4, y=5, value=True), GridCell(x=4, y=6, value=True), GridCell(x=4, y=7, value=True), GridCell(x=4, y=8, value=True), GridCell(x=5, y=0, value=True), GridCell(x=5, y=1, value=True), GridCell(x=5, y=2, value=True), GridCell(x=5, y=3, value=True), GridCell(x=5, y=4, value=True), GridCell(x=5, y=5, value=True), GridCell(x=5, y=6, value=True), GridCell(x=5, y=7, value=True), GridCell(x=6, y=0, value=True), GridCell(x=6, y=1, value=True), GridCell(x=6, y=2, value=True), GridCell(x=6, y=3, value=True), GridCell(x=6, y=4, value=True), GridCell(x=6, y=5, value=True), GridCell(x=6, y=6, value=True), GridCell(x=6, y=7, value=True), GridCell(x=7, y=0, value=True), GridCell(x=7, y=1, value=True), GridCell(x=7, y=2, value=True), GridCell(x=7, y=3, value=True), GridCell(x=7, y=4, value=True), GridCell(x=7, y=5, value=True), GridCell(x=7, y=6, value=True), GridCell(x=7, y=7, value=True), GridCell(x=8, y=0, value=True), GridCell(x=8, y=1, value=True), GridCell(x=8, y=2, value=True), GridCell(x=8, y=3, value=True), GridCell(x=8, y=4, value=True), GridCell(x=8, y=5, value=True), GridCell(x=8, y=6, value=True), GridCell(x=9, y=2, value=True), GridCell(x=9, y=3, value=True), GridCell(x=9, y=4, value=True), GridCell(x=9, y=5, value=True), GridCell(x=9, y=6, value=True)], cell_geometries=None), crs=Crs(value='EPSG:4326')), time_discretization=TimeDiscretization(start_date_time=StartDateTime(value=datetime.datetime(2020, 1, 1, 0, 0)), end_date_time=StartDateTime(value=datetime.datetime(2020, 12, 31, 0, 0)), stress_periods=StressPeriodCollection(values=[StressPeriod(start_date_time=StartDateTime(value=datetime.datetime(2020, 1, 1, 0, 0)), number_of_time_steps=NumberOfTimeSteps(value=1), time_step_multiplier=TimeStepMultiplier(value=1), steady_state=IsSteadyState(value=True))]), time_unit=TimeUnit(unit=4)), boundaries=BoundaryCollection(boundaries=[ConstantHead(id=BoundaryId(value='891a392d-9b9f-450d-bb6b-6bd6d3270d87'), type=BoundaryType(type='constant_head'), name=BoundaryName(value='constant_head'), enabled=True, geometry=LineString(coordinates=[(13.9223, 50.9662), (13.925, 50.96615)], type='LineString'), affected_cells=GridCells(shape=(10, 10), data=[GridCell(x=0, y=0, value=True), GridCell(x=1, y=0, value=True), GridCell(x=2, y=0, value=True), GridCell(x=3, y=0, value=True), GridCell(x=4, y=0, value=True), GridCell(x=5, y=0, value=True), GridCell(x=6, y=0, value=True), GridCell(x=7, y=0, value=True), GridCell(x=8, y=0, value=True), GridCell(x=9, y=0, value=True)], cell_geometries=None), affected_layers=[LayerId(value='7d83fec3-cf87-4e25-bded-7bb556733206')], observations=[ConstantHeadObservation(id=ObservationId(value='d7c76e91-d33f-4ca5-bffa-580dc009d309'), geometry=Point(coordinates=(13.9223, 50.9662), type='Point'), raw_data=[DataItem(date_time=StartDateTime(value=datetime.datetime(2019, 1, 1, 0, 0)), start_head=StartHead(value=100), end_head=EndHead(value=100)), DataItem(date_time=StartDateTime(value=datetime.datetime(2021, 12, 31, 0, 0)), start_head=StartHead(value=120), end_head=EndHead(value=120))])])]), soil_model=SoilModel(layers=[Layer(id=LayerId(value='7d83fec3-cf87-4e25-bded-7bb556733206'), name=LayerName(value='Default'), description=LayerDescription(value='Default'), type=LayerType(type='confined'), data=LayerData(kx=1, ky=1, kz=1, porosity=0.1, specific_storage=0.0001, specific_yield=0.1, initial_head=1.0, top=1, bottom=0))])), calculation_profile=Mf2005CalculationProfile(packages=PackageData(oc=OcPackageData(ihedfm=0, iddnfm=0, chedfm=None, cddnfm=None, cboufm=None, compact=True, stress_period_data=None, extension=['oc', 'hds', 'ddn', 'cbc', 'ibo'], unitnumber=None, filenames=None, label='OC'), flow_package=FlowPackage(type='lpf'), solver_package=SolverPackageData(type='pcg', data=PcgPackageData(mxiter=50, iter1=30, npcond=1, hclose=1e-05, rclose=1e-05, relax=1.0, nbpol=0, iprpcg=0, mutpcg=3, damp=1.0, dampt=1.0, ihcofadd=0, extension='pcg', unitnumber=None, filenames=None)))), calculation_state=CalculationState(state='created'), calculation_log=None, calculation_result=None, flopy_model=None)"
     },
     "execution_count": 8,
     "metadata": {},
     "output_type": "execute_result"
    }
   ],
   "source": [
    "from morpheus.modflow.infrastructure.calculation.modflow_2005.types.Mf2005Calculation import Mf2005Calculation\n",
    "from morpheus.modflow.infrastructure.calculation.modflow_2005.types.Mf2005CalculationProfile import Mf2005CalculationProfile\n",
    "\n",
    "calculation_profile = Mf2005CalculationProfile.new()\n",
    "mf2005_calculation = Mf2005Calculation.new(modflow_model=modflow_model, calculation_profile=calculation_profile)\n",
    "mf2005_calculation"
   ],
   "metadata": {
    "collapsed": false,
    "ExecuteTime": {
     "end_time": "2023-12-07T22:07:01.767508Z",
     "start_time": "2023-12-07T22:07:01.414084Z"
    }
   },
   "id": "56ccabee86e2397e"
  },
  {
   "cell_type": "code",
   "execution_count": 9,
   "outputs": [
    {
     "ename": "ModuleNotFoundError",
     "evalue": "No module named 'morpheus.modflow.infrastructure.calculation.types.CalculationFactory'",
     "output_type": "error",
     "traceback": [
      "\u001B[0;31m---------------------------------------------------------------------------\u001B[0m",
      "\u001B[0;31mModuleNotFoundError\u001B[0m                       Traceback (most recent call last)",
      "Cell \u001B[0;32mIn[9], line 1\u001B[0m\n\u001B[0;32m----> 1\u001B[0m \u001B[38;5;28;01mfrom\u001B[39;00m \u001B[38;5;21;01mmorpheus\u001B[39;00m\u001B[38;5;21;01m.\u001B[39;00m\u001B[38;5;21;01mmodflow\u001B[39;00m\u001B[38;5;21;01m.\u001B[39;00m\u001B[38;5;21;01minfrastructure\u001B[39;00m\u001B[38;5;21;01m.\u001B[39;00m\u001B[38;5;21;01mpersistence\u001B[39;00m\u001B[38;5;21;01m.\u001B[39;00m\u001B[38;5;21;01mCalculationRepository\u001B[39;00m \u001B[38;5;28;01mimport\u001B[39;00m CalculationRepository\n\u001B[1;32m      3\u001B[0m calculation_repository \u001B[38;5;241m=\u001B[39m CalculationRepository()\n\u001B[1;32m      4\u001B[0m calculation_repository\u001B[38;5;241m.\u001B[39msafe_calculation(mf2005_calculation)\n",
      "File \u001B[0;32m~/Projects/inowas/morpheus/src/backend/src/notebooks/../morpheus/modflow/infrastructure/persistence/CalculationRepository.py:4\u001B[0m\n\u001B[1;32m      1\u001B[0m \u001B[38;5;28;01mfrom\u001B[39;00m \u001B[38;5;21;01mmorpheus\u001B[39;00m\u001B[38;5;21;01m.\u001B[39;00m\u001B[38;5;21;01mcommon\u001B[39;00m\u001B[38;5;21;01m.\u001B[39;00m\u001B[38;5;21;01minfrastructure\u001B[39;00m\u001B[38;5;21;01m.\u001B[39;00m\u001B[38;5;21;01mpersistence\u001B[39;00m\u001B[38;5;21;01m.\u001B[39;00m\u001B[38;5;21;01mmongodb\u001B[39;00m \u001B[38;5;28;01mimport\u001B[39;00m Database, get_database_client\n\u001B[1;32m      2\u001B[0m \u001B[38;5;28;01mfrom\u001B[39;00m \u001B[38;5;21;01mmorpheus\u001B[39;00m\u001B[38;5;21;01m.\u001B[39;00m\u001B[38;5;21;01mmodflow\u001B[39;00m\u001B[38;5;21;01m.\u001B[39;00m\u001B[38;5;21;01minfrastructure\u001B[39;00m\u001B[38;5;21;01m.\u001B[39;00m\u001B[38;5;21;01mcalculation\u001B[39;00m\u001B[38;5;21;01m.\u001B[39;00m\u001B[38;5;21;01mtypes\u001B[39;00m\u001B[38;5;21;01m.\u001B[39;00m\u001B[38;5;21;01mCalculationBase\u001B[39;00m \u001B[38;5;28;01mimport\u001B[39;00m CalculationId, CalculationBase, \\\n\u001B[1;32m      3\u001B[0m     CalculationResult\n\u001B[0;32m----> 4\u001B[0m \u001B[38;5;28;01mfrom\u001B[39;00m \u001B[38;5;21;01mmorpheus\u001B[39;00m\u001B[38;5;21;01m.\u001B[39;00m\u001B[38;5;21;01mmodflow\u001B[39;00m\u001B[38;5;21;01m.\u001B[39;00m\u001B[38;5;21;01minfrastructure\u001B[39;00m\u001B[38;5;21;01m.\u001B[39;00m\u001B[38;5;21;01mcalculation\u001B[39;00m\u001B[38;5;21;01m.\u001B[39;00m\u001B[38;5;21;01mtypes\u001B[39;00m\u001B[38;5;21;01m.\u001B[39;00m\u001B[38;5;21;01mCalculationFactory\u001B[39;00m \u001B[38;5;28;01mimport\u001B[39;00m CalculationFactory\n\u001B[1;32m      5\u001B[0m \u001B[38;5;28;01mfrom\u001B[39;00m \u001B[38;5;21;01mmorpheus\u001B[39;00m\u001B[38;5;21;01m.\u001B[39;00m\u001B[38;5;21;01msettings\u001B[39;00m \u001B[38;5;28;01mimport\u001B[39;00m settings\n\u001B[1;32m      8\u001B[0m \u001B[38;5;28;01mclass\u001B[39;00m \u001B[38;5;21;01mCalculationRepository\u001B[39;00m:\n",
      "\u001B[0;31mModuleNotFoundError\u001B[0m: No module named 'morpheus.modflow.infrastructure.calculation.types.CalculationFactory'"
     ]
    }
   ],
   "source": [
    "from morpheus.modflow.infrastructure.persistence.CalculationRepository import CalculationRepository\n",
    "\n",
    "calculation_repository = CalculationRepository()\n",
    "calculation_repository.safe_calculation(mf2005_calculation)\n"
   ],
   "metadata": {
    "collapsed": false,
    "ExecuteTime": {
     "end_time": "2023-12-07T22:07:02.234740Z",
     "start_time": "2023-12-07T22:07:01.767016Z"
    }
   },
   "id": "e09d94e0a94315cb"
  },
  {
   "cell_type": "code",
   "execution_count": null,
   "outputs": [],
   "source": [
    "calculation = calculation_repository.get_calculation(mf2005_calculation.calculation_id)"
   ],
   "metadata": {
    "collapsed": false,
    "ExecuteTime": {
     "end_time": "2023-12-07T22:07:02.238907Z",
     "start_time": "2023-12-07T22:07:02.235336Z"
    }
   },
   "id": "c470ef3ab349d8d9"
  },
  {
   "cell_type": "code",
   "execution_count": null,
   "outputs": [],
   "source": [
    "calculation"
   ],
   "metadata": {
    "collapsed": false,
    "ExecuteTime": {
     "start_time": "2023-12-07T22:07:02.237152Z"
    }
   },
   "id": "bed4f7bf986659e0"
  },
  {
   "cell_type": "code",
   "execution_count": null,
   "outputs": [],
   "source": [
    "from morpheus.modflow.infrastructure.calculation.types.CalculationBase import CalculationState\n",
    "\n",
    "calculation.calculation_state = CalculationState.running()\n",
    "calculation_repository.update_calculation(calculation)"
   ],
   "metadata": {
    "collapsed": false,
    "ExecuteTime": {
     "start_time": "2023-12-07T22:07:02.238714Z"
    }
   },
   "id": "d343928f3a6d664f"
  },
  {
   "cell_type": "code",
   "execution_count": null,
   "outputs": [],
   "source": [
    "calculation.calculation_state\n"
   ],
   "metadata": {
    "collapsed": false,
    "ExecuteTime": {
     "start_time": "2023-12-07T22:07:02.240047Z"
    }
   },
   "id": "4c434657a186e02e"
  },
  {
   "cell_type": "code",
   "execution_count": null,
   "outputs": [],
   "source": [
    "calculation = calculation_repository.get_calculation(mf2005_calculation.calculation_id)"
   ],
   "metadata": {
    "collapsed": false,
    "ExecuteTime": {
     "start_time": "2023-12-07T22:07:02.241185Z"
    }
   },
   "id": "82063629e85e1b73"
  },
  {
   "cell_type": "code",
   "execution_count": null,
   "outputs": [],
   "source": [
    "calculation.calculation_state"
   ],
   "metadata": {
    "collapsed": false,
    "ExecuteTime": {
     "start_time": "2023-12-07T22:07:02.242117Z"
    }
   },
   "id": "6bccfbb25346641c"
  },
  {
   "cell_type": "code",
   "execution_count": null,
   "outputs": [],
   "source": [],
   "metadata": {
    "collapsed": false,
    "ExecuteTime": {
     "start_time": "2023-12-07T22:07:02.243232Z"
    }
   },
   "id": "c122f269d41a0a51"
  }
 ],
 "metadata": {
  "kernelspec": {
   "display_name": "Python 3",
   "language": "python",
   "name": "python3"
  },
  "language_info": {
   "codemirror_mode": {
    "name": "ipython",
    "version": 2
   },
   "file_extension": ".py",
   "mimetype": "text/x-python",
   "name": "python",
   "nbconvert_exporter": "python",
   "pygments_lexer": "ipython2",
   "version": "2.7.6"
  }
 },
 "nbformat": 4,
 "nbformat_minor": 5
}
