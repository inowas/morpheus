{
 "cells": [
  {
   "cell_type": "code",
   "execution_count": 1,
   "id": "ba6761fae9d5e5cb",
   "metadata": {
    "ExecuteTime": {
     "end_time": "2024-04-29T21:28:30.496699Z",
     "start_time": "2024-04-29T21:28:30.493750Z"
    },
    "collapsed": false,
    "execution": {
     "iopub.execute_input": "2024-05-15T16:01:20.373143Z",
     "iopub.status.busy": "2024-05-15T16:01:20.372806Z",
     "iopub.status.idle": "2024-05-15T16:01:20.377673Z",
     "shell.execute_reply": "2024-05-15T16:01:20.377171Z"
    },
    "papermill": {
     "duration": 0.013354,
     "end_time": "2024-05-15T16:01:20.379382",
     "exception": false,
     "start_time": "2024-05-15T16:01:20.366028",
     "status": "completed"
    },
    "tags": []
   },
   "source": [
    "import sys\n",
    "\n",
    "sys.path.insert(0, '..')"
   ],
   "outputs": []
  },
  {
   "cell_type": "markdown",
   "id": "5ede1ba5e0993dd1",
   "metadata": {
    "collapsed": false,
    "papermill": {
     "duration": 0.004561,
     "end_time": "2024-05-15T16:01:20.388898",
     "exception": false,
     "start_time": "2024-05-15T16:01:20.384337",
     "status": "completed"
    },
    "tags": []
   },
   "source": [
    "## Setup the model area"
   ]
  },
  {
   "cell_type": "code",
   "execution_count": 2,
   "id": "2f69504ab35487aa",
   "metadata": {
    "ExecuteTime": {
     "end_time": "2024-04-29T21:28:31.098Z",
     "start_time": "2024-04-29T21:28:30.540473Z"
    },
    "collapsed": false,
    "execution": {
     "iopub.execute_input": "2024-05-15T16:01:20.397965Z",
     "iopub.status.busy": "2024-05-15T16:01:20.397713Z",
     "iopub.status.idle": "2024-05-15T16:01:21.136969Z",
     "shell.execute_reply": "2024-05-15T16:01:21.134328Z"
    },
    "papermill": {
     "duration": 0.747142,
     "end_time": "2024-05-15T16:01:21.140032",
     "exception": false,
     "start_time": "2024-05-15T16:01:20.392890",
     "status": "completed"
    },
    "tags": []
   },
   "source": [
    "from morpheus.project.types.discretization import SpatialDiscretization\n",
    "from morpheus.project.types.discretization.spatial import Rotation, Grid, Crs\n",
    "from morpheus.project.types.geometry import Polygon, LineString\n",
    "\n",
    "polygon = Polygon(\n",
    "  type='Polygon',\n",
    "  coordinates=[[\n",
    "    (13.92, 50.964),\n",
    "    (13.92, 50.966),\n",
    "    (13.925, 50.966),\n",
    "    (13.925, 50.964),\n",
    "    (13.92, 50.964)\n",
    "  ]]\n",
    ")\n",
    "\n",
    "rotation = Rotation(0)\n",
    "\n",
    "grid = Grid.cartesian_from_polygon(polygon=polygon, n_cols=100, n_rows=50, rotation=rotation)\n",
    "spatial_discretization = SpatialDiscretization.from_geometry_with_grid(\n",
    "  geometry=polygon,\n",
    "  grid=grid,\n",
    "  crs=Crs.from_str('EPSG:4326')\n",
    ")"
   ],
   "outputs": []
  },
  {
   "cell_type": "markdown",
   "id": "fa27e67f9d801845",
   "metadata": {
    "collapsed": false,
    "papermill": {
     "duration": 0.002097,
     "end_time": "2024-05-15T16:01:21.145434",
     "exception": false,
     "start_time": "2024-05-15T16:01:21.143337",
     "status": "completed"
    },
    "tags": []
   },
   "source": [
    "## Setup Time Discretization"
   ]
  },
  {
   "cell_type": "code",
   "execution_count": 3,
   "id": "8e4e63dd138db9fc",
   "metadata": {
    "ExecuteTime": {
     "end_time": "2024-04-29T21:28:31.101871Z",
     "start_time": "2024-04-29T21:28:31.099138Z"
    },
    "collapsed": false,
    "execution": {
     "iopub.execute_input": "2024-05-15T16:01:21.150391Z",
     "iopub.status.busy": "2024-05-15T16:01:21.150160Z",
     "iopub.status.idle": "2024-05-15T16:01:21.153047Z",
     "shell.execute_reply": "2024-05-15T16:01:21.152799Z"
    },
    "papermill": {
     "duration": 0.006492,
     "end_time": "2024-05-15T16:01:21.153874",
     "exception": false,
     "start_time": "2024-05-15T16:01:21.147382",
     "status": "completed"
    },
    "tags": []
   },
   "source": [
    "from morpheus.project.types.discretization.time.TimeUnit import TimeUnit\n",
    "from morpheus.project.types.discretization.time.Stressperiods import StartDateTime, StressPeriodCollection, \\\n",
    "  StressPeriod, NumberOfTimeSteps, TimeStepMultiplier, IsSteadyState\n",
    "from morpheus.project.types.discretization.time import TimeDiscretization\n",
    "from datetime import datetime\n",
    "\n",
    "time_discretization = TimeDiscretization(\n",
    "  start_date_time=StartDateTime.from_datetime(datetime(2020, 1, 1)),\n",
    "  end_date_time=StartDateTime.from_datetime(datetime(2020, 12, 31)),\n",
    "  stress_periods=StressPeriodCollection([\n",
    "    StressPeriod(\n",
    "      start_date_time=StartDateTime.from_datetime(datetime(2020, 1, 1)),\n",
    "      number_of_time_steps=NumberOfTimeSteps(1),\n",
    "      time_step_multiplier=TimeStepMultiplier(1),\n",
    "      steady_state=IsSteadyState.yes()\n",
    "    ),\n",
    "  ]),\n",
    "  time_unit=TimeUnit.days()\n",
    ")"
   ],
   "outputs": []
  },
  {
   "cell_type": "markdown",
   "id": "963ba8729f09fcec",
   "metadata": {
    "collapsed": false,
    "papermill": {
     "duration": 0.002029,
     "end_time": "2024-05-15T16:01:21.158061",
     "exception": false,
     "start_time": "2024-05-15T16:01:21.156032",
     "status": "completed"
    },
    "tags": []
   },
   "source": [
    "# Setup Model"
   ]
  },
  {
   "cell_type": "code",
   "execution_count": 4,
   "id": "1d5c9125b1b9360b",
   "metadata": {
    "ExecuteTime": {
     "end_time": "2024-04-29T21:28:31.648143Z",
     "start_time": "2024-04-29T21:28:31.102546Z"
    },
    "collapsed": false,
    "execution": {
     "iopub.execute_input": "2024-05-15T16:01:21.162534Z",
     "iopub.status.busy": "2024-05-15T16:01:21.162404Z",
     "iopub.status.idle": "2024-05-15T16:01:21.634352Z",
     "shell.execute_reply": "2024-05-15T16:01:21.633991Z"
    },
    "papermill": {
     "duration": 0.475608,
     "end_time": "2024-05-15T16:01:21.635596",
     "exception": false,
     "start_time": "2024-05-15T16:01:21.159988",
     "status": "completed"
    },
    "tags": []
   },
   "source": [
    "from morpheus.project.types.Model import Model\n",
    "\n",
    "model = Model.new()\n",
    "model = model.with_updated_time_discretization(time_discretization)\n",
    "model = model.with_updated_spatial_discretization(spatial_discretization=spatial_discretization)"
   ],
   "outputs": []
  },
  {
   "cell_type": "code",
   "execution_count": 5,
   "id": "1540b870ae83f298",
   "metadata": {
    "ExecuteTime": {
     "end_time": "2024-04-29T21:28:31.871887Z",
     "start_time": "2024-04-29T21:28:31.653321Z"
    },
    "collapsed": false,
    "execution": {
     "iopub.execute_input": "2024-05-15T16:01:21.641309Z",
     "iopub.status.busy": "2024-05-15T16:01:21.641047Z",
     "iopub.status.idle": "2024-05-15T16:01:21.822535Z",
     "shell.execute_reply": "2024-05-15T16:01:21.822245Z"
    },
    "papermill": {
     "duration": 0.185459,
     "end_time": "2024-05-15T16:01:21.823547",
     "exception": false,
     "start_time": "2024-05-15T16:01:21.638088",
     "status": "completed"
    },
    "tags": []
   },
   "source": [
    "import folium\n",
    "\n",
    "m = folium.Map(tiles=\"cartodbpositron\", crs=\"EPSG3857\", zoom_start=12, location=[50.965, 13.922])\n",
    "m.add_child(folium.GeoJson(polygon.as_geojson()))\n",
    "\n",
    "m.fit_bounds(m.get_bounds())\n",
    "m"
   ],
   "outputs": []
  },
  {
   "cell_type": "markdown",
   "id": "62ae3587df801000",
   "metadata": {
    "collapsed": false,
    "papermill": {
     "duration": 0.002147,
     "end_time": "2024-05-15T16:01:21.828262",
     "exception": false,
     "start_time": "2024-05-15T16:01:21.826115",
     "status": "completed"
    },
    "tags": []
   },
   "source": [
    "# Setup general head boundaries"
   ]
  },
  {
   "cell_type": "code",
   "execution_count": 6,
   "id": "53679913aee28ce9",
   "metadata": {
    "ExecuteTime": {
     "end_time": "2024-04-29T21:28:33.134127Z",
     "start_time": "2024-04-29T21:28:31.876504Z"
    },
    "collapsed": false,
    "execution": {
     "iopub.execute_input": "2024-05-15T16:01:21.833370Z",
     "iopub.status.busy": "2024-05-15T16:01:21.833146Z",
     "iopub.status.idle": "2024-05-15T16:01:22.827676Z",
     "shell.execute_reply": "2024-05-15T16:01:22.827400Z"
    },
    "papermill": {
     "duration": 0.998101,
     "end_time": "2024-05-15T16:01:22.828562",
     "exception": false,
     "start_time": "2024-05-15T16:01:21.830461",
     "status": "completed"
    },
    "tags": []
   },
   "source": [
    "from morpheus.project.types.boundaries.Observation import ObservationName\n",
    "from morpheus.project.types.boundaries.GeneralHeadObservation import ObservationId, GeneralHeadRawDataItem, \\\n",
    "  GeneralHeadObservation, Stage, Conductance\n",
    "from morpheus.project.types.geometry import Point\n",
    "from morpheus.project.types.boundaries.Boundary import BoundaryName, BoundaryCollection\n",
    "from morpheus.project.types.layers import LayerId\n",
    "from morpheus.project.types.boundaries.Boundary import GeneralHeadBoundary\n",
    "\n",
    "layers_list = [LayerId.new()]\n",
    "\n",
    "general_head_east = GeneralHeadBoundary.from_geometry(\n",
    "  name=BoundaryName('general_head_east'),\n",
    "  geometry=LineString([\n",
    "    (13.92499, 50.966),\n",
    "    (13.92499, 50.964),\n",
    "  ]),\n",
    "  grid=grid,\n",
    "  affected_layers=[model.layers[0].layer_id],\n",
    "  observations=[\n",
    "    GeneralHeadObservation(\n",
    "      observation_id=ObservationId.new(),\n",
    "      observation_name=ObservationName.default(),\n",
    "      geometry=Point((13.92499, 50.966)),\n",
    "      data=[\n",
    "        GeneralHeadRawDataItem(\n",
    "          date_time=StartDateTime.from_datetime(datetime(2019, 1, 1)),\n",
    "          stage=Stage.from_float(100),\n",
    "          conductance=Conductance.from_float(100),\n",
    "        ),\n",
    "        GeneralHeadRawDataItem(\n",
    "          date_time=StartDateTime.from_datetime(datetime(2021, 12, 31)),\n",
    "          stage=Stage.from_float(100),\n",
    "          conductance=Conductance.from_float(100),\n",
    "        ),\n",
    "      ]\n",
    "    ),\n",
    "  ]\n",
    ")\n",
    "\n",
    "general_head_west = GeneralHeadBoundary.from_geometry(\n",
    "  name=BoundaryName('general_head_west'),\n",
    "  geometry=LineString([\n",
    "    (13.92004, 50.96401),\n",
    "    (13.92004, 50.96599),\n",
    "  ]),\n",
    "  grid=grid,\n",
    "  affected_layers=[model.layers[0].layer_id],\n",
    "  observations=[\n",
    "    GeneralHeadObservation(\n",
    "      observation_id=ObservationId.new(),\n",
    "      observation_name=ObservationName.default(),\n",
    "      geometry=Point((13.92004, 50.96599)),\n",
    "      data=[\n",
    "        GeneralHeadRawDataItem(\n",
    "          date_time=StartDateTime.from_datetime(datetime(2019, 1, 1)),\n",
    "          stage=Stage.from_float(100),\n",
    "          conductance=Conductance.from_float(300),\n",
    "        ),\n",
    "        GeneralHeadRawDataItem(\n",
    "          date_time=StartDateTime.from_datetime(datetime(2021, 12, 31)),\n",
    "          stage=Stage.from_float(100),\n",
    "          conductance=Conductance.from_float(300),\n",
    "        ),\n",
    "      ]\n",
    "    ),\n",
    "  ]\n",
    ")\n",
    "\n",
    "boundary_collection = BoundaryCollection.new()\n",
    "boundary_collection.add_boundary(general_head_west)\n",
    "boundary_collection.add_boundary(general_head_east)\n",
    "\n",
    "model = model.with_updated_boundaries(boundaries=boundary_collection)\n",
    "\n",
    "m.add_child(folium.GeoJson(general_head_east.as_geojson()))\n",
    "m.add_child(folium.GeoJson(general_head_east.affected_cells.to_geojson(grid).as_geojson()))\n",
    "for observation in general_head_east.observations:\n",
    "  m.add_child(folium.GeoJson(observation.as_geojson()))\n",
    "\n",
    "m.add_child(folium.GeoJson(general_head_west.as_geojson()))\n",
    "m.add_child(folium.GeoJson(general_head_west.affected_cells.to_geojson(grid).as_geojson()))\n",
    "for observation in general_head_west.observations:\n",
    "  m.add_child(folium.GeoJson(observation.as_geojson()))\n",
    "m.fit_bounds(m.get_bounds())\n",
    "m"
   ],
   "outputs": []
  },
  {
   "cell_type": "markdown",
   "id": "c77083343e8d9b41",
   "metadata": {
    "collapsed": false,
    "papermill": {
     "duration": 0.002475,
     "end_time": "2024-05-15T16:01:22.833961",
     "exception": false,
     "start_time": "2024-05-15T16:01:22.831486",
     "status": "completed"
    },
    "tags": []
   },
   "source": [
    "# Setup Lake Boundary"
   ]
  },
  {
   "cell_type": "code",
   "execution_count": 7,
   "id": "b86bf9a016e5db0d",
   "metadata": {
    "ExecuteTime": {
     "end_time": "2024-04-29T21:28:33.655039Z",
     "start_time": "2024-04-29T21:28:33.134711Z"
    },
    "collapsed": false,
    "execution": {
     "iopub.execute_input": "2024-05-15T16:01:22.839801Z",
     "iopub.status.busy": "2024-05-15T16:01:22.839622Z",
     "iopub.status.idle": "2024-05-15T16:01:23.337324Z",
     "shell.execute_reply": "2024-05-15T16:01:23.337023Z"
    },
    "papermill": {
     "duration": 0.504052,
     "end_time": "2024-05-15T16:01:23.340443",
     "exception": false,
     "start_time": "2024-05-15T16:01:22.836391",
     "status": "completed"
    },
    "tags": []
   },
   "source": [
    "from morpheus.project.types.boundaries.LakeObservation import LakeRawDataItem, Precipitation, Evaporation, Withdrawal, \\\n",
    "  Runoff, InitialStage, BedLeakance, StageRange\n",
    "from morpheus.project.types.boundaries.Boundary import LakeBoundary\n",
    "\n",
    "lake_area = Polygon(\n",
    "  type='Polygon',\n",
    "  coordinates=[[\n",
    "    (\n",
    "      13.92181326103696,\n",
    "      50.96574333352123\n",
    "    ),\n",
    "    (\n",
    "      13.92181326103696,\n",
    "      50.96440649737727\n",
    "    ),\n",
    "    (\n",
    "      13.923994608237564,\n",
    "      50.96440649737727\n",
    "    ),\n",
    "    (\n",
    "      13.923994608237564,\n",
    "      50.96574333352123\n",
    "    ),\n",
    "    (\n",
    "      13.92181326103696,\n",
    "      50.96574333352123\n",
    "    )\n",
    "  ]]\n",
    "\n",
    ")\n",
    "\n",
    "lake = LakeBoundary.from_geometry(\n",
    "  name=BoundaryName('evapotranspiration'),\n",
    "  geometry=lake_area,\n",
    "  grid=grid,\n",
    "  affected_layers=[model.layers[0].layer_id],\n",
    "  data=[\n",
    "    LakeRawDataItem(\n",
    "      date_time=StartDateTime.from_datetime(datetime(2019, 1, 1)),\n",
    "      precipitation=Precipitation.from_float(0.001),\n",
    "      evaporation=Evaporation.from_float(0.001),\n",
    "      runoff=Runoff.from_float(0.001),\n",
    "      withdrawal=Withdrawal.from_float(0.001),\n",
    "    ),\n",
    "    LakeRawDataItem(\n",
    "      date_time=StartDateTime.from_datetime(datetime(2021, 12, 31)),\n",
    "      precipitation=Precipitation.from_float(0.001),\n",
    "      evaporation=Evaporation.from_float(0.001),\n",
    "      runoff=Runoff.from_float(0.001),\n",
    "      withdrawal=Withdrawal.from_float(0.001),\n",
    "    ),\n",
    "  ],\n",
    "  bed_leakance=BedLeakance.from_float(0.001),\n",
    "  initial_stage=InitialStage.from_float(100),\n",
    "  stage_range=StageRange(min=100, max=200)\n",
    ")\n",
    "\n",
    "boundary_collection.add_boundary(lake)\n",
    "\n",
    "model = model.with_updated_boundaries(boundaries=boundary_collection)\n",
    "\n",
    "m.add_child(folium.GeoJson(lake.as_geojson()))\n",
    "m.add_child(folium.GeoJson(lake.affected_cells.to_geojson(grid).as_geojson()))\n",
    "m.fit_bounds(m.get_bounds())\n",
    "m"
   ],
   "outputs": []
  },
  {
   "cell_type": "code",
   "execution_count": 8,
   "id": "dc338472e1887a13",
   "metadata": {
    "ExecuteTime": {
     "end_time": "2024-04-29T21:28:34.087135Z",
     "start_time": "2024-04-29T21:28:33.655655Z"
    },
    "collapsed": false,
    "execution": {
     "iopub.execute_input": "2024-05-15T16:01:23.349880Z",
     "iopub.status.busy": "2024-05-15T16:01:23.349729Z",
     "iopub.status.idle": "2024-05-15T16:01:23.731303Z",
     "shell.execute_reply": "2024-05-15T16:01:23.731009Z"
    },
    "papermill": {
     "duration": 0.387335,
     "end_time": "2024-05-15T16:01:23.732288",
     "exception": false,
     "start_time": "2024-05-15T16:01:23.344953",
     "status": "completed"
    },
    "tags": []
   },
   "source": [
    "from morpheus.project.types.boundaries.Boundary import BoundaryType\n",
    "from morpheus.project.infrastructure.calculation.engines.modflow_2005.packages.LakPackageMapper import \\\n",
    "  calculate_lak_boundary_stress_period_data\n",
    "\n",
    "result = calculate_lak_boundary_stress_period_data(\n",
    "  spatial_discretization=spatial_discretization,\n",
    "  time_discretization=time_discretization,\n",
    "  lak_boundaries=boundary_collection.get_boundaries_of_type(BoundaryType.lake()),\n",
    ")\n",
    "result.to_dict()"
   ],
   "outputs": []
  },
  {
   "cell_type": "markdown",
   "id": "42d948d145a8457a",
   "metadata": {
    "collapsed": false,
    "papermill": {
     "duration": 0.004612,
     "end_time": "2024-05-15T16:01:23.741707",
     "exception": false,
     "start_time": "2024-05-15T16:01:23.737095",
     "status": "completed"
    },
    "tags": []
   },
   "source": [
    "## Calculate"
   ]
  },
  {
   "cell_type": "code",
   "execution_count": 9,
   "id": "56ccabee86e2397e",
   "metadata": {
    "ExecuteTime": {
     "end_time": "2024-04-29T21:28:34.102386Z",
     "start_time": "2024-04-29T21:28:34.087864Z"
    },
    "collapsed": false,
    "execution": {
     "iopub.execute_input": "2024-05-15T16:01:23.752490Z",
     "iopub.status.busy": "2024-05-15T16:01:23.752225Z",
     "iopub.status.idle": "2024-05-15T16:01:23.765307Z",
     "shell.execute_reply": "2024-05-15T16:01:23.764727Z"
    },
    "papermill": {
     "duration": 0.019975,
     "end_time": "2024-05-15T16:01:23.766391",
     "exception": false,
     "start_time": "2024-05-15T16:01:23.746416",
     "status": "completed"
    },
    "tags": []
   },
   "source": [
    "from morpheus.project.types.calculation.CalculationProfile import CalculationProfile, CalculationEngineType\n",
    "from morpheus.project.types.calculation.Calculation import Calculation\n",
    "\n",
    "calculation_profile = CalculationProfile.new(CalculationEngineType.MF2005)\n",
    "calculation = Calculation.new(model=model, calculation_profile=calculation_profile)"
   ],
   "outputs": []
  },
  {
   "cell_type": "code",
   "execution_count": 10,
   "id": "e09d94e0a94315cb",
   "metadata": {
    "ExecuteTime": {
     "end_time": "2024-04-29T21:28:34.114496Z",
     "start_time": "2024-04-29T21:28:34.103048Z"
    },
    "collapsed": false,
    "execution": {
     "iopub.execute_input": "2024-05-15T16:01:23.776778Z",
     "iopub.status.busy": "2024-05-15T16:01:23.776515Z",
     "iopub.status.idle": "2024-05-15T16:01:23.784856Z",
     "shell.execute_reply": "2024-05-15T16:01:23.784586Z"
    },
    "papermill": {
     "duration": 0.014416,
     "end_time": "2024-05-15T16:01:23.785677",
     "exception": false,
     "start_time": "2024-05-15T16:01:23.771261",
     "status": "completed"
    },
    "tags": []
   },
   "source": [
    "calculation = Calculation.from_dict(calculation.to_dict())\n",
    "calculation.calculation_id"
   ],
   "outputs": []
  },
  {
   "cell_type": "code",
   "execution_count": 11,
   "id": "672007fb90753c4c",
   "metadata": {
    "ExecuteTime": {
     "end_time": "2024-04-29T21:28:34.708068Z",
     "start_time": "2024-04-29T21:28:34.116681Z"
    },
    "collapsed": false,
    "execution": {
     "iopub.execute_input": "2024-05-15T16:01:23.796001Z",
     "iopub.status.busy": "2024-05-15T16:01:23.795830Z",
     "iopub.status.idle": "2024-05-15T16:01:24.350128Z",
     "shell.execute_reply": "2024-05-15T16:01:24.349684Z"
    },
    "papermill": {
     "duration": 0.561958,
     "end_time": "2024-05-15T16:01:24.352203",
     "exception": false,
     "start_time": "2024-05-15T16:01:23.790245",
     "status": "completed"
    },
    "tags": []
   },
   "source": [
    "from morpheus.project.infrastructure.calculation.services.CalculationService import CalculationService\n",
    "\n",
    "calculation_service = CalculationService.from_calculation(calculation)\n",
    "calculation_service.calculate()"
   ],
   "outputs": []
  },
  {
   "cell_type": "code",
   "execution_count": 12,
   "id": "a52d1dd3a1574032",
   "metadata": {
    "ExecuteTime": {
     "end_time": "2024-04-29T21:28:34.712029Z",
     "start_time": "2024-04-29T21:28:34.708839Z"
    },
    "collapsed": false,
    "execution": {
     "iopub.execute_input": "2024-05-15T16:01:24.365555Z",
     "iopub.status.busy": "2024-05-15T16:01:24.365055Z",
     "iopub.status.idle": "2024-05-15T16:01:24.368294Z",
     "shell.execute_reply": "2024-05-15T16:01:24.367995Z"
    },
    "papermill": {
     "duration": 0.010687,
     "end_time": "2024-05-15T16:01:24.369129",
     "exception": false,
     "start_time": "2024-05-15T16:01:24.358442",
     "status": "completed"
    },
    "tags": []
   },
   "source": [
    "calculation_service.get_result()"
   ],
   "outputs": []
  },
  {
   "cell_type": "code",
   "execution_count": 13,
   "id": "cc43ad077c7a81d0",
   "metadata": {
    "ExecuteTime": {
     "end_time": "2024-04-29T21:28:34.715418Z",
     "start_time": "2024-04-29T21:28:34.712786Z"
    },
    "collapsed": false,
    "execution": {
     "iopub.execute_input": "2024-05-15T16:01:24.381687Z",
     "iopub.status.busy": "2024-05-15T16:01:24.381549Z",
     "iopub.status.idle": "2024-05-15T16:01:24.383986Z",
     "shell.execute_reply": "2024-05-15T16:01:24.383745Z"
    },
    "papermill": {
     "duration": 0.009516,
     "end_time": "2024-05-15T16:01:24.384823",
     "exception": false,
     "start_time": "2024-05-15T16:01:24.375307",
     "status": "completed"
    },
    "tags": []
   },
   "source": [
    "head = calculation_service.read_head(0, 0)"
   ],
   "outputs": []
  },
  {
   "cell_type": "code",
   "execution_count": 14,
   "id": "12454cc4d9e18de5",
   "metadata": {
    "ExecuteTime": {
     "end_time": "2024-04-29T21:28:34.719723Z",
     "start_time": "2024-04-29T21:28:34.716008Z"
    },
    "collapsed": false,
    "execution": {
     "iopub.execute_input": "2024-05-15T16:01:24.395836Z",
     "iopub.status.busy": "2024-05-15T16:01:24.395689Z",
     "iopub.status.idle": "2024-05-15T16:01:24.398976Z",
     "shell.execute_reply": "2024-05-15T16:01:24.398722Z"
    },
    "papermill": {
     "duration": 0.009798,
     "end_time": "2024-05-15T16:01:24.399763",
     "exception": false,
     "start_time": "2024-05-15T16:01:24.389965",
     "status": "completed"
    },
    "tags": []
   },
   "source": [
    "import simplejson as json\n",
    "\n",
    "json = json.dumps(head, ignore_nan=True)\n",
    "json"
   ],
   "outputs": []
  },
  {
   "cell_type": "code",
   "execution_count": 15,
   "id": "df7dfd8ff0308815",
   "metadata": {
    "ExecuteTime": {
     "end_time": "2024-04-29T21:28:34.723121Z",
     "start_time": "2024-04-29T21:28:34.720450Z"
    },
    "collapsed": false,
    "execution": {
     "iopub.execute_input": "2024-05-15T16:01:24.410565Z",
     "iopub.status.busy": "2024-05-15T16:01:24.410424Z",
     "iopub.status.idle": "2024-05-15T16:01:24.412637Z",
     "shell.execute_reply": "2024-05-15T16:01:24.412425Z"
    },
    "papermill": {
     "duration": 0.008552,
     "end_time": "2024-05-15T16:01:24.413436",
     "exception": false,
     "start_time": "2024-05-15T16:01:24.404884",
     "status": "completed"
    },
    "tags": []
   },
   "source": [
    "calculation_service.read_drawdown(0, 0)"
   ],
   "outputs": []
  },
  {
   "cell_type": "code",
   "execution_count": 16,
   "id": "b233f4066b56c174",
   "metadata": {
    "ExecuteTime": {
     "end_time": "2024-04-29T21:28:34.736541Z",
     "start_time": "2024-04-29T21:28:34.723691Z"
    },
    "collapsed": false,
    "execution": {
     "iopub.execute_input": "2024-05-15T16:01:24.424308Z",
     "iopub.status.busy": "2024-05-15T16:01:24.424172Z",
     "iopub.status.idle": "2024-05-15T16:01:24.436008Z",
     "shell.execute_reply": "2024-05-15T16:01:24.435780Z"
    },
    "papermill": {
     "duration": 0.01824,
     "end_time": "2024-05-15T16:01:24.436888",
     "exception": false,
     "start_time": "2024-05-15T16:01:24.418648",
     "status": "completed"
    },
    "tags": []
   },
   "source": [
    "calculation_service.read_budget(0, False)"
   ],
   "outputs": []
  },
  {
   "cell_type": "code",
   "execution_count": 17,
   "id": "634709d741f5c252",
   "metadata": {
    "ExecuteTime": {
     "end_time": "2024-04-29T21:28:34.749775Z",
     "start_time": "2024-04-29T21:28:34.737190Z"
    },
    "collapsed": false,
    "execution": {
     "iopub.execute_input": "2024-05-15T16:01:24.447817Z",
     "iopub.status.busy": "2024-05-15T16:01:24.447685Z",
     "iopub.status.idle": "2024-05-15T16:01:24.459568Z",
     "shell.execute_reply": "2024-05-15T16:01:24.459328Z"
    },
    "papermill": {
     "duration": 0.0184,
     "end_time": "2024-05-15T16:01:24.460479",
     "exception": false,
     "start_time": "2024-05-15T16:01:24.442079",
     "status": "completed"
    },
    "tags": []
   },
   "source": [
    "calculation_service.read_budget(0, True)"
   ],
   "outputs": []
  },
  {
   "cell_type": "code",
   "execution_count": 18,
   "id": "26523066436690e6",
   "metadata": {
    "ExecuteTime": {
     "end_time": "2024-04-29T21:28:34.752990Z",
     "start_time": "2024-04-29T21:28:34.750453Z"
    },
    "collapsed": false,
    "execution": {
     "iopub.execute_input": "2024-05-15T16:01:24.472232Z",
     "iopub.status.busy": "2024-05-15T16:01:24.472080Z",
     "iopub.status.idle": "2024-05-15T16:01:24.474278Z",
     "shell.execute_reply": "2024-05-15T16:01:24.474036Z"
    },
    "papermill": {
     "duration": 0.009163,
     "end_time": "2024-05-15T16:01:24.475088",
     "exception": false,
     "start_time": "2024-05-15T16:01:24.465925",
     "status": "completed"
    },
    "tags": []
   },
   "source": [
    "calculation_service.get_result()"
   ],
   "outputs": []
  },
  {
   "cell_type": "code",
   "execution_count": 19,
   "id": "160abd7d290c83f7",
   "metadata": {
    "ExecuteTime": {
     "end_time": "2024-04-29T21:28:34.874941Z",
     "start_time": "2024-04-29T21:28:34.754008Z"
    },
    "collapsed": false,
    "execution": {
     "iopub.execute_input": "2024-05-15T16:01:24.486633Z",
     "iopub.status.busy": "2024-05-15T16:01:24.486487Z",
     "iopub.status.idle": "2024-05-15T16:01:24.603287Z",
     "shell.execute_reply": "2024-05-15T16:01:24.601019Z"
    },
    "papermill": {
     "duration": 0.125882,
     "end_time": "2024-05-15T16:01:24.606487",
     "exception": false,
     "start_time": "2024-05-15T16:01:24.480605",
     "status": "completed"
    },
    "tags": []
   },
   "source": [
    "import matplotlib.pyplot as plt\n",
    "\n",
    "heads = calculation_service.read_head(0, 0)\n",
    "plt.subplot(2, 1, 1)\n",
    "plt.imshow(heads, cmap='jet_r')\n",
    "plt.colorbar()\n",
    "plt.show()"
   ],
   "outputs": []
  }
 ],
 "metadata": {
  "kernelspec": {
   "display_name": "Python 3",
   "language": "python",
   "name": "python3"
  },
  "language_info": {
   "codemirror_mode": {
    "name": "ipython",
    "version": 3
   },
   "file_extension": ".py",
   "mimetype": "text/x-python",
   "name": "python",
   "nbconvert_exporter": "python",
   "pygments_lexer": "ipython3",
   "version": "3.12.2"
  },
  "papermill": {
   "default_parameters": {},
   "duration": 5.395346,
   "end_time": "2024-05-15T16:01:25.145940",
   "environment_variables": {},
   "exception": null,
   "input_path": "./notebooks/Test_LakeBoundary.ipynb",
   "output_path": "./notebooks/Test_LakeBoundary.ipynb",
   "parameters": {},
   "start_time": "2024-05-15T16:01:19.750594",
   "version": "2.6.0"
  }
 },
 "nbformat": 4,
 "nbformat_minor": 5
}
