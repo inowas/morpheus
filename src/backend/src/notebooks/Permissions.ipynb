{
 "cells": [
  {
   "cell_type": "code",
   "id": "initial_id",
   "metadata": {
    "collapsed": true,
    "ExecuteTime": {
     "end_time": "2024-05-14T07:58:27.881222Z",
     "start_time": "2024-05-14T07:58:27.858123Z"
    }
   },
   "source": [
    "from morpheus.project.types.Permissions import Role\n",
    "from morpheus.project.types.User import UserId\n",
    "\n",
    "user_id = UserId.new()\n",
    "\n",
    "members: dict[UserId, Role] = {\n",
    "    user_id: Role.ADMIN\n",
    "}"
   ],
   "outputs": [],
   "execution_count": 1
  },
  {
   "metadata": {
    "ExecuteTime": {
     "end_time": "2024-05-14T07:58:27.884766Z",
     "start_time": "2024-05-14T07:58:27.882494Z"
    }
   },
   "cell_type": "code",
   "source": [
    "if user_id in members:\n",
    "    print(\"User is a member\")\n",
    "else:\n",
    "    print(\"User is not a member\")"
   ],
   "id": "7aa7890b1fa9e63c",
   "outputs": [
    {
     "name": "stdout",
     "output_type": "stream",
     "text": [
      "User is a member\n"
     ]
    }
   ],
   "execution_count": 2
  },
  {
   "metadata": {
    "ExecuteTime": {
     "end_time": "2024-05-14T07:58:27.890696Z",
     "start_time": "2024-05-14T07:58:27.885455Z"
    }
   },
   "cell_type": "code",
   "source": [
    "from morpheus.project.types.Permissions import Permissions\n",
    "\n",
    "owner_id = UserId.new()\n",
    "permissions = Permissions.new(owner_id)\n",
    "\n",
    "permissions.member_can_edit(user_id)"
   ],
   "id": "9002508028574a69",
   "outputs": [
    {
     "data": {
      "text/plain": [
       "False"
      ]
     },
     "execution_count": 3,
     "metadata": {},
     "output_type": "execute_result"
    }
   ],
   "execution_count": 3
  }
 ],
 "metadata": {
  "kernelspec": {
   "display_name": "Python 3",
   "language": "python",
   "name": "python3"
  },
  "language_info": {
   "codemirror_mode": {
    "name": "ipython",
    "version": 2
   },
   "file_extension": ".py",
   "mimetype": "text/x-python",
   "name": "python",
   "nbconvert_exporter": "python",
   "pygments_lexer": "ipython2",
   "version": "2.7.6"
  }
 },
 "nbformat": 4,
 "nbformat_minor": 5
}
