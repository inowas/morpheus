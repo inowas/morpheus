{
 "cells": [
  {
   "cell_type": "code",
   "execution_count": 1,
   "id": "initial_id",
   "metadata": {
    "ExecuteTime": {
     "end_time": "2024-05-14T07:58:27.881222Z",
     "start_time": "2024-05-14T07:58:27.858123Z"
    },
    "collapsed": true,
    "execution": {
     "iopub.execute_input": "2024-06-19T09:30:38.930935Z",
     "iopub.status.busy": "2024-06-19T09:30:38.930277Z",
     "iopub.status.idle": "2024-06-19T09:30:38.956955Z",
     "shell.execute_reply": "2024-06-19T09:30:38.956280Z"
    },
    "papermill": {
     "duration": 0.037978,
     "end_time": "2024-06-19T09:30:38.959427",
     "exception": false,
     "start_time": "2024-06-19T09:30:38.921449",
     "status": "completed"
    },
    "tags": []
   },
   "outputs": [],
   "source": [
    "from morpheus.project.types.Permissions import Role\n",
    "from morpheus.project.types.User import UserId\n",
    "\n",
    "user_id = UserId.new()\n",
    "\n",
    "members: dict[UserId, Role] = {\n",
    "    user_id: Role.ADMIN\n",
    "}"
   ]
  },
  {
   "cell_type": "code",
   "execution_count": 2,
   "id": "7aa7890b1fa9e63c",
   "metadata": {
    "ExecuteTime": {
     "end_time": "2024-05-14T07:58:27.884766Z",
     "start_time": "2024-05-14T07:58:27.882494Z"
    },
    "execution": {
     "iopub.execute_input": "2024-06-19T09:30:38.964421Z",
     "iopub.status.busy": "2024-06-19T09:30:38.964165Z",
     "iopub.status.idle": "2024-06-19T09:30:38.967269Z",
     "shell.execute_reply": "2024-06-19T09:30:38.966784Z"
    },
    "papermill": {
     "duration": 0.007715,
     "end_time": "2024-06-19T09:30:38.969391",
     "exception": false,
     "start_time": "2024-06-19T09:30:38.961676",
     "status": "completed"
    },
    "tags": []
   },
   "outputs": [
    {
     "name": "stdout",
     "output_type": "stream",
     "text": [
      "User is a member\n"
     ]
    }
   ],
   "source": [
    "if user_id in members:\n",
    "    print(\"User is a member\")\n",
    "else:\n",
    "    print(\"User is not a member\")"
   ]
  },
  {
   "cell_type": "code",
   "execution_count": 3,
   "id": "9002508028574a69",
   "metadata": {
    "ExecuteTime": {
     "end_time": "2024-05-14T07:58:27.890696Z",
     "start_time": "2024-05-14T07:58:27.885455Z"
    },
    "execution": {
     "iopub.execute_input": "2024-06-19T09:30:38.973289Z",
     "iopub.status.busy": "2024-06-19T09:30:38.972914Z",
     "iopub.status.idle": "2024-06-19T09:30:38.978772Z",
     "shell.execute_reply": "2024-06-19T09:30:38.978432Z"
    },
    "papermill": {
     "duration": 0.00923,
     "end_time": "2024-06-19T09:30:38.980121",
     "exception": false,
     "start_time": "2024-06-19T09:30:38.970891",
     "status": "completed"
    },
    "tags": []
   },
   "outputs": [
    {
     "data": {
      "text/plain": [
       "False"
      ]
     },
     "execution_count": 3,
     "metadata": {},
     "output_type": "execute_result"
    }
   ],
   "source": [
    "from morpheus.project.types.Permissions import Permissions\n",
    "\n",
    "owner_id = UserId.new()\n",
    "permissions = Permissions.new(owner_id)\n",
    "\n",
    "permissions.member_can_edit(user_id)"
   ]
  }
 ],
 "metadata": {
  "kernelspec": {
   "display_name": "Python 3",
   "language": "python",
   "name": "python3"
  },
  "language_info": {
   "codemirror_mode": {
    "name": "ipython",
    "version": 3
   },
   "file_extension": ".py",
   "mimetype": "text/x-python",
   "name": "python",
   "nbconvert_exporter": "python",
   "pygments_lexer": "ipython3",
   "version": "3.12.2"
  },
  "papermill": {
   "default_parameters": {},
   "duration": 0.686281,
   "end_time": "2024-06-19T09:30:39.097320",
   "environment_variables": {},
   "exception": null,
   "input_path": "./notebooks/Permissions.ipynb",
   "output_path": "./notebooks/Permissions.ipynb",
   "parameters": {},
   "start_time": "2024-06-19T09:30:38.411039",
   "version": "2.6.0"
  }
 },
 "nbformat": 4,
 "nbformat_minor": 5
}