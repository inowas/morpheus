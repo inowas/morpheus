{
 "cells": [
  {
   "metadata": {},
   "cell_type": "markdown",
   "source": "## Create projects",
   "id": "d203e0475f681206"
  },
  {
   "cell_type": "code",
   "id": "initial_id",
   "metadata": {
    "collapsed": true,
    "execution": {
     "iopub.execute_input": "2024-06-18T10:13:15.870777Z",
     "iopub.status.busy": "2024-06-18T10:13:15.870367Z",
     "iopub.status.idle": "2024-06-18T10:13:15.894977Z",
     "shell.execute_reply": "2024-06-18T10:13:15.894334Z"
    },
    "papermill": {
     "duration": 0.032821,
     "end_time": "2024-06-18T10:13:15.897321",
     "exception": false,
     "start_time": "2024-06-18T10:13:15.864500",
     "status": "completed"
    },
    "tags": [],
    "ExecuteTime": {
     "end_time": "2024-06-20T17:46:07.516550Z",
     "start_time": "2024-06-20T17:46:07.468773Z"
    }
   },
   "source": [
    "from morpheus.project.types.Permissions import Permissions, Visibility\n",
    "from morpheus.common.types import DateTime\n",
    "from morpheus.common.types.event_sourcing.EventMetadata import EventMetadata\n",
    "from morpheus.common.types.event_sourcing.EventEnvelope import EventEnvelope\n",
    "from morpheus.project.types.Project import ProjectId, Project, Metadata, Name, Description\n",
    "from morpheus.project.domain.events.ProjectEvents.ProjectEvents import ProjectCreatedEvent\n",
    "from morpheus.project.infrastructure.event_sourcing.ProjectEventBus import project_event_bus\n",
    "from morpheus.common.types.identity.Identity import UserId\n",
    "\n",
    "user_id_1 = UserId.new()\n",
    "user_id_2 = UserId.new()\n",
    "project_user_1_ids = [ProjectId.new(), ProjectId.new()]\n",
    "project_user_2_ids = [ProjectId.new(), ProjectId.new(), ProjectId.new()]\n",
    "\n",
    "# projects owned by user 1\n",
    "for i, project_id in enumerate(project_user_1_ids):\n",
    "    project = (Project.new(project_id=project_id, user_id=user_id_1)\n",
    "                .with_updated_metadata(\n",
    "                    Metadata.new()\n",
    "                    .with_updated_name(Name.from_str(f'Notebook Project 1_{i}'))\n",
    "                    .with_updated_description(Description.from_str(f'This is project 1_{i} created in a notebook'))\n",
    "                )\n",
    "              )\n",
    "    project_created_event = ProjectCreatedEvent.from_project(project, DateTime.now())\n",
    "\n",
    "    project_event_bus.record(\n",
    "        EventEnvelope(event=project_created_event, metadata=EventMetadata.without_creator({'created_in_notebook': True}))\n",
    "    )\n",
    "    \n",
    "# projects owned by user 2\n",
    "for i, project_id in enumerate(project_user_2_ids):\n",
    "    project = (Project.new(project_id=project_id, user_id=user_id_2)\n",
    "                .with_updated_metadata(\n",
    "                    Metadata.new()\n",
    "                    .with_updated_name(Name.from_str(f'Notebook Project 2_{i}'))\n",
    "                    .with_updated_description(Description.from_str(f'This is project 2_{i} created in a notebook'))\n",
    "                )\n",
    "              )\n",
    "    project_created_event = ProjectCreatedEvent.from_project(project, DateTime.now())\n",
    "\n",
    "    project_event_bus.record(\n",
    "        EventEnvelope(event=project_created_event, metadata=EventMetadata.without_creator({'created_in_notebook': True}))\n",
    "    )\n",
    "    \n",
    "# public project\n",
    "public_project_owner_user_id = UserId.new()\n",
    "public_project_id = ProjectId.new()\n",
    "public_project = (Project.new(project_id=public_project_id, user_id=public_project_owner_user_id)\n",
    "                .with_updated_metadata(\n",
    "                    Metadata.new()\n",
    "                    .with_updated_name(Name.from_str(f'Public Project'))\n",
    "                    .with_updated_description(Description.from_str(f'This is a public project created in a notebook'))\n",
    "                )\n",
    "                .with_updated_permissions(\n",
    "                    Permissions.new(public_project_owner_user_id).with_updated_visibility(Visibility.PUBLIC)\n",
    "                )\n",
    "              )\n",
    "project_created_event = ProjectCreatedEvent.from_project(public_project, DateTime.now())\n",
    "project_event_bus.record(\n",
    "    EventEnvelope(event=project_created_event, metadata=EventMetadata.without_creator({'created_in_notebook': True}))\n",
    ")\n"
   ],
   "outputs": [],
   "execution_count": 6
  },
  {
   "metadata": {},
   "cell_type": "markdown",
   "source": "## Add members to project 1_1",
   "id": "b7523ff4eebe2d83"
  },
  {
   "metadata": {
    "ExecuteTime": {
     "end_time": "2024-06-20T17:46:07.544554Z",
     "start_time": "2024-06-20T17:46:07.518844Z"
    }
   },
   "cell_type": "code",
   "source": [
    "from morpheus.project.types.Permissions import Role\n",
    "from morpheus.project.domain.events.ProjectPermissionEvents.PermissionEvents import MemberAddedEvent\n",
    "\n",
    "admin_id = UserId.new()\n",
    "editor_id = UserId.new()\n",
    "viewer_id = UserId.new()\n",
    "\n",
    "project_id = project_user_1_ids[0]\n",
    "\n",
    "admin_added_event = MemberAddedEvent.from_user_id_and_role(project_id, admin_id, Role.ADMIN, DateTime.now())\n",
    "project_event_bus.record(EventEnvelope(event=admin_added_event, metadata=EventMetadata.without_creator({'created_in_notebook': True})))\n",
    "\n",
    "editor_added_event = MemberAddedEvent.from_user_id_and_role(project_id, editor_id, Role.EDITOR, DateTime.now())\n",
    "project_event_bus.record(EventEnvelope(event=editor_added_event, metadata=EventMetadata.without_creator({'created_in_notebook': True})))\n",
    "\n",
    "viewer_added_event = MemberAddedEvent.from_user_id_and_role(project_id, viewer_id, Role.VIEWER, DateTime.now())\n",
    "project_event_bus.record(EventEnvelope(event=viewer_added_event, metadata=EventMetadata.without_creator({'created_in_notebook': True})))"
   ],
   "id": "b51334ef0091d45d",
   "outputs": [],
   "execution_count": 7
  },
  {
   "metadata": {},
   "cell_type": "markdown",
   "source": "## Read projects",
   "id": "75c891d802bab3d3"
  },
  {
   "metadata": {
    "ExecuteTime": {
     "end_time": "2024-06-20T17:46:22.363849Z",
     "start_time": "2024-06-20T17:46:22.329985Z"
    }
   },
   "cell_type": "code",
   "source": [
    "from morpheus.common.types.identity.Identity import Identity\n",
    "from morpheus.project.application.read.ProjectReader import project_reader\n",
    "\n",
    "def print_summaries(summaries):\n",
    "    print([(summary.project_name.to_str(), summary.visibility.to_str(), role.to_str() if role is not None else None) for (summary, role) in summaries])\n",
    "\n",
    "another_user = Identity(user_id=UserId.new(), group_ids=[], is_admin=False)\n",
    "print('only public')\n",
    "print_summaries(project_reader.get_project_summaries_with_role_for_identity(another_user))\n",
    "\n",
    "user1 = Identity(user_id=user_id_1, group_ids=[], is_admin=False)\n",
    "print('user 1')\n",
    "print_summaries(project_reader.get_project_summaries_with_role_for_identity(user1))\n",
    "\n",
    "user2 = Identity(user_id=user_id_2, group_ids=[], is_admin=False)\n",
    "print('user 2')\n",
    "print_summaries(project_reader.get_project_summaries_with_role_for_identity(user2))\n",
    "\n",
    "admin = Identity(user_id=admin_id, group_ids=[], is_admin=False)\n",
    "print('admin')\n",
    "print_summaries(project_reader.get_project_summaries_with_role_for_identity(admin))\n",
    "\n",
    "editor = Identity(user_id=editor_id, group_ids=[], is_admin=False)\n",
    "print('editor')\n",
    "print_summaries(project_reader.get_project_summaries_with_role_for_identity(editor))\n",
    "\n",
    "viewer = Identity(user_id=viewer_id, group_ids=[], is_admin=False)\n",
    "print('viewer')\n",
    "print_summaries(project_reader.get_project_summaries_with_role_for_identity(viewer))\n",
    "\n",
    "super_admin = Identity(user_id=UserId.new(), group_ids=[], is_admin=True)\n",
    "print('super admin (sees all projects as owner)')\n",
    "print_summaries(project_reader.get_project_summaries_with_role_for_identity(super_admin))"
   ],
   "id": "9e79e1e39648ff52",
   "outputs": [
    {
     "name": "stdout",
     "output_type": "stream",
     "text": [
      "only public\n",
      "[('Public Project', 'public', None), ('Public Project', 'public', None), ('Public Project', 'public', None), ('Public Project', 'public', None)]\n",
      "user 1\n",
      "[('Public Project', 'public', None), ('Public Project', 'public', None), ('Public Project', 'public', None), ('Notebook Project 1_0', 'private', 'owner'), ('Notebook Project 1_1', 'private', 'owner'), ('Public Project', 'public', None)]\n",
      "user 2\n",
      "[('Public Project', 'public', None), ('Public Project', 'public', None), ('Public Project', 'public', None), ('Notebook Project 2_0', 'private', 'owner'), ('Notebook Project 2_1', 'private', 'owner'), ('Notebook Project 2_2', 'private', 'owner'), ('Public Project', 'public', None)]\n",
      "admin\n",
      "[('Public Project', 'public', None), ('Public Project', 'public', None), ('Public Project', 'public', None), ('Notebook Project 1_0', 'private', 'admin'), ('Public Project', 'public', None)]\n",
      "editor\n",
      "[('Public Project', 'public', None), ('Public Project', 'public', None), ('Public Project', 'public', None), ('Notebook Project 1_0', 'private', 'editor'), ('Public Project', 'public', None)]\n",
      "viewer\n",
      "[('Public Project', 'public', None), ('Public Project', 'public', None), ('Public Project', 'public', None), ('Notebook Project 1_0', 'private', 'viewer'), ('Public Project', 'public', None)]\n",
      "super admin (sees all projects as owner)\n",
      "[('Notebook Project 1_0', 'private', 'owner'), ('Notebook Project 1_1', 'private', 'owner'), ('Notebook Project 2_0', 'private', 'owner'), ('Notebook Project 2_1', 'private', 'owner'), ('Notebook Project 2_2', 'private', 'owner'), ('Public Project', 'public', 'owner'), ('Test1', 'private', 'owner'), ('Project 1', 'private', 'owner'), ('Project 1', 'private', 'owner'), ('Notebook Project 1_0', 'private', 'owner'), ('Notebook Project 1_1', 'private', 'owner'), ('Notebook Project 2_0', 'private', 'owner'), ('Notebook Project 2_1', 'private', 'owner'), ('Notebook Project 2_2', 'private', 'owner'), ('Public Project', 'public', 'owner'), ('Project 1', 'private', 'owner'), ('Project 1', 'private', 'owner'), ('Notebook Project 1_0', 'private', 'owner'), ('Notebook Project 1_1', 'private', 'owner'), ('Notebook Project 2_0', 'private', 'owner'), ('Notebook Project 2_1', 'private', 'owner'), ('Notebook Project 2_2', 'private', 'owner'), ('Public Project', 'public', 'owner'), ('Notebook Project 1_0', 'private', 'owner'), ('Notebook Project 1_1', 'private', 'owner'), ('Notebook Project 2_0', 'private', 'owner'), ('Notebook Project 2_1', 'private', 'owner'), ('Notebook Project 2_2', 'private', 'owner'), ('Public Project', 'public', 'owner')]\n"
     ]
    }
   ],
   "execution_count": 11
  },
  {
   "metadata": {
    "ExecuteTime": {
     "end_time": "2024-06-20T17:46:07.589645Z",
     "start_time": "2024-06-20T17:46:07.585963Z"
    }
   },
   "cell_type": "code",
   "source": "## Read event Logs",
   "id": "6a9039239554c5d0",
   "outputs": [],
   "execution_count": 9
  },
  {
   "metadata": {
    "ExecuteTime": {
     "end_time": "2024-06-20T17:46:07.598406Z",
     "start_time": "2024-06-20T17:46:07.592034Z"
    }
   },
   "cell_type": "code",
   "source": [
    "from morpheus.project.application.read.ProjectEventLogReader import project_event_log_reader\n",
    "\n",
    "def print_event_log(event_log):\n",
    "    for event in event_log:\n",
    "        print(event.event_type)\n",
    "\n",
    "print ('public project event log')        "
   ],
   "id": "10427d9a03452f05",
   "outputs": [
    {
     "name": "stdout",
     "output_type": "stream",
     "text": [
      "public project event log\n"
     ]
    }
   ],
   "execution_count": 10
  }
 ],
 "metadata": {
  "kernelspec": {
   "display_name": "Python 3",
   "language": "python",
   "name": "python3"
  },
  "language_info": {
   "codemirror_mode": {
    "name": "ipython",
    "version": 3
   },
   "file_extension": ".py",
   "mimetype": "text/x-python",
   "name": "python",
   "nbconvert_exporter": "python",
   "pygments_lexer": "ipython3",
   "version": "3.12.2"
  },
  "papermill": {
   "default_parameters": {},
   "duration": 0.879568,
   "end_time": "2024-06-18T10:13:16.028487",
   "environment_variables": {},
   "exception": null,
   "input_path": "./notebooks/Permissions.ipynb",
   "output_path": "./notebooks/Permissions.ipynb",
   "parameters": {},
   "start_time": "2024-06-18T10:13:15.148919",
   "version": "2.6.0"
  }
 },
 "nbformat": 4,
 "nbformat_minor": 5
}
