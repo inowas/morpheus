{
 "cells": [
  {
   "metadata": {},
   "cell_type": "markdown",
   "source": "## Create projects",
   "id": "d203e0475f681206"
  },
  {
   "cell_type": "code",
   "id": "initial_id",
   "metadata": {
    "collapsed": true,
    "execution": {
     "iopub.execute_input": "2024-06-18T10:13:15.870777Z",
     "iopub.status.busy": "2024-06-18T10:13:15.870367Z",
     "iopub.status.idle": "2024-06-18T10:13:15.894977Z",
     "shell.execute_reply": "2024-06-18T10:13:15.894334Z"
    },
    "papermill": {
     "duration": 0.032821,
     "end_time": "2024-06-18T10:13:15.897321",
     "exception": false,
     "start_time": "2024-06-18T10:13:15.864500",
     "status": "completed"
    },
    "tags": [],
    "ExecuteTime": {
     "end_time": "2024-06-28T14:22:03.562745Z",
     "start_time": "2024-06-28T14:22:00.361061Z"
    }
   },
   "source": [
    "from morpheus.project.types.Permissions import Permissions, Visibility\n",
    "from morpheus.common.types import DateTime\n",
    "from morpheus.common.types.event_sourcing.EventMetadata import EventMetadata\n",
    "from morpheus.common.types.event_sourcing.EventEnvelope import EventEnvelope\n",
    "from morpheus.project.types.Project import ProjectId, Project, Metadata, Name, Description\n",
    "from morpheus.project.domain.events.ProjectEvents.ProjectEvents import ProjectCreatedEvent\n",
    "from morpheus.project.infrastructure.event_sourcing.ProjectEventBus import project_event_bus\n",
    "from morpheus.common.types.identity.Identity import UserId\n",
    "\n",
    "user_id_1 = UserId.new()\n",
    "user_id_2 = UserId.new()\n",
    "project_user_1_ids = [ProjectId.new(), ProjectId.new()]\n",
    "project_user_2_ids = [ProjectId.new(), ProjectId.new(), ProjectId.new()]\n",
    "\n",
    "# projects owned by user 1\n",
    "for i, project_id in enumerate(project_user_1_ids):\n",
    "    project = (Project.new(project_id=project_id, user_id=user_id_1)\n",
    "                .with_updated_metadata(\n",
    "                    Metadata.new()\n",
    "                    .with_updated_name(Name.from_str(f'Notebook Project 1_{i}'))\n",
    "                    .with_updated_description(Description.from_str(f'This is project 1_{i} created in a notebook'))\n",
    "                )\n",
    "              )\n",
    "    project_created_event = ProjectCreatedEvent.from_project(project, DateTime.now())\n",
    "\n",
    "    project_event_bus.record(\n",
    "        EventEnvelope(event=project_created_event, metadata=EventMetadata.without_creator({'created_in_notebook': True}))\n",
    "    )\n",
    "\n",
    "# projects owned by user 2\n",
    "for i, project_id in enumerate(project_user_2_ids):\n",
    "    project = (Project.new(project_id=project_id, user_id=user_id_2)\n",
    "                .with_updated_metadata(\n",
    "                    Metadata.new()\n",
    "                    .with_updated_name(Name.from_str(f'Notebook Project 2_{i}'))\n",
    "                    .with_updated_description(Description.from_str(f'This is project 2_{i} created in a notebook'))\n",
    "                )\n",
    "              )\n",
    "    project_created_event = ProjectCreatedEvent.from_project(project, DateTime.now())\n",
    "\n",
    "    project_event_bus.record(\n",
    "        EventEnvelope(event=project_created_event, metadata=EventMetadata.without_creator({'created_in_notebook': True}))\n",
    "    )\n",
    "\n",
    "# public project\n",
    "public_project_owner_user_id = UserId.new()\n",
    "public_project_id = ProjectId.new()\n",
    "public_project = (Project.new(project_id=public_project_id, user_id=public_project_owner_user_id)\n",
    "                .with_updated_metadata(\n",
    "                    Metadata.new()\n",
    "                    .with_updated_name(Name.from_str(f'Public Project'))\n",
    "                    .with_updated_description(Description.from_str(f'This is a public project created in a notebook'))\n",
    "                )\n",
    "                .with_updated_permissions(\n",
    "                    Permissions.new(public_project_owner_user_id).with_updated_visibility(Visibility.PUBLIC)\n",
    "                )\n",
    "              )\n",
    "project_created_event = ProjectCreatedEvent.from_project(public_project, DateTime.now())\n",
    "project_event_bus.record(\n",
    "    EventEnvelope(event=project_created_event, metadata=EventMetadata.without_creator({'created_in_notebook': True}))\n",
    ")\n"
   ],
   "outputs": [],
   "execution_count": 1
  },
  {
   "metadata": {},
   "cell_type": "markdown",
   "source": "## Add members to project 1_1",
   "id": "b7523ff4eebe2d83"
  },
  {
   "metadata": {
    "ExecuteTime": {
     "end_time": "2024-06-28T14:22:07.770259Z",
     "start_time": "2024-06-28T14:22:07.741804Z"
    }
   },
   "cell_type": "code",
   "source": [
    "from morpheus.project.types.Permissions import Role\n",
    "from morpheus.project.domain.events.ProjectPermissionEvents.PermissionEvents import MemberAddedEvent\n",
    "\n",
    "admin_id = UserId.new()\n",
    "editor_id = UserId.new()\n",
    "viewer_id = UserId.new()\n",
    "\n",
    "project_id = project_user_1_ids[0]\n",
    "\n",
    "admin_added_event = MemberAddedEvent.from_user_id_and_role(project_id, admin_id, Role.ADMIN, DateTime.now())\n",
    "project_event_bus.record(EventEnvelope(event=admin_added_event, metadata=EventMetadata.without_creator({'created_in_notebook': True})))\n",
    "\n",
    "editor_added_event = MemberAddedEvent.from_user_id_and_role(project_id, editor_id, Role.EDITOR, DateTime.now())\n",
    "project_event_bus.record(EventEnvelope(event=editor_added_event, metadata=EventMetadata.without_creator({'created_in_notebook': True})))\n",
    "\n",
    "viewer_added_event = MemberAddedEvent.from_user_id_and_role(project_id, viewer_id, Role.VIEWER, DateTime.now())\n",
    "project_event_bus.record(EventEnvelope(event=viewer_added_event, metadata=EventMetadata.without_creator({'created_in_notebook': True})))"
   ],
   "id": "b51334ef0091d45d",
   "outputs": [],
   "execution_count": 2
  },
  {
   "metadata": {},
   "cell_type": "markdown",
   "source": "## Read projects",
   "id": "75c891d802bab3d3"
  },
  {
   "metadata": {
    "ExecuteTime": {
     "end_time": "2024-06-28T14:22:10.084371Z",
     "start_time": "2024-06-28T14:22:10.050215Z"
    }
   },
   "cell_type": "code",
   "source": [
    "from morpheus.common.types.identity.Identity import Identity\n",
    "from morpheus.project.application.read.ProjectReader import project_reader\n",
    "\n",
    "def print_summaries(summaries):\n",
    "    print([(summary.project_name.to_str(), summary.visibility.to_str(), [privilege.value for privilege in privileges]) for (summary, privileges) in summaries])\n",
    "\n",
    "another_user = Identity(user_id=UserId.new(), group_ids=[], is_admin=False)\n",
    "print('only public')\n",
    "print_summaries(project_reader.get_project_summaries_with_user_privileges_for_identity(another_user))\n",
    "\n",
    "user1 = Identity(user_id=user_id_1, group_ids=[], is_admin=False)\n",
    "print('user 1')\n",
    "print_summaries(project_reader.get_project_summaries_with_user_privileges_for_identity(user1))\n",
    "\n",
    "user2 = Identity(user_id=user_id_2, group_ids=[], is_admin=False)\n",
    "print('user 2')\n",
    "print_summaries(project_reader.get_project_summaries_with_user_privileges_for_identity(user2))\n",
    "\n",
    "admin = Identity(user_id=admin_id, group_ids=[], is_admin=False)\n",
    "print('admin')\n",
    "print_summaries(project_reader.get_project_summaries_with_user_privileges_for_identity(admin))\n",
    "\n",
    "editor = Identity(user_id=editor_id, group_ids=[], is_admin=False)\n",
    "print('editor')\n",
    "print_summaries(project_reader.get_project_summaries_with_user_privileges_for_identity(editor))\n",
    "\n",
    "viewer = Identity(user_id=viewer_id, group_ids=[], is_admin=False)\n",
    "print('viewer')\n",
    "print_summaries(project_reader.get_project_summaries_with_user_privileges_for_identity(viewer))\n",
    "\n",
    "super_admin = Identity(user_id=UserId.new(), group_ids=[], is_admin=True)\n",
    "print('super admin (sees all projects as owner)')\n",
    "print_summaries(project_reader.get_project_summaries_with_user_privileges_for_identity(super_admin))"
   ],
   "id": "9e79e1e39648ff52",
   "outputs": [
    {
     "name": "stdout",
     "output_type": "stream",
     "text": [
      "only public\n",
      "[('Public Project', 'public', ['view_project']), ('Public Project', 'public', ['view_project']), ('Public Project', 'public', ['view_project']), ('Public Project', 'public', ['view_project'])]\n",
      "user 1\n",
      "[('Public Project', 'public', ['view_project']), ('Public Project', 'public', ['view_project']), ('Public Project', 'public', ['view_project']), ('Notebook Project 1_0', 'private', ['full_access']), ('Notebook Project 1_1', 'private', ['full_access']), ('Public Project', 'public', ['view_project'])]\n",
      "user 2\n",
      "[('Public Project', 'public', ['view_project']), ('Public Project', 'public', ['view_project']), ('Public Project', 'public', ['view_project']), ('Notebook Project 2_0', 'private', ['full_access']), ('Notebook Project 2_1', 'private', ['full_access']), ('Notebook Project 2_2', 'private', ['full_access']), ('Public Project', 'public', ['view_project'])]\n",
      "admin\n",
      "[('Public Project', 'public', ['view_project']), ('Public Project', 'public', ['view_project']), ('Public Project', 'public', ['view_project']), ('Notebook Project 1_0', 'private', ['view_project', 'edit_project', 'manage_project']), ('Public Project', 'public', ['view_project'])]\n",
      "editor\n",
      "[('Public Project', 'public', ['view_project']), ('Public Project', 'public', ['view_project']), ('Public Project', 'public', ['view_project']), ('Notebook Project 1_0', 'private', ['view_project', 'edit_project']), ('Public Project', 'public', ['view_project'])]\n",
      "viewer\n",
      "[('Public Project', 'public', ['view_project']), ('Public Project', 'public', ['view_project']), ('Public Project', 'public', ['view_project']), ('Notebook Project 1_0', 'private', ['view_project']), ('Public Project', 'public', ['view_project'])]\n",
      "super admin (sees all projects as owner)\n",
      "[('Notebook Project 1_0', 'private', ['full_access']), ('Notebook Project 1_1', 'private', ['full_access']), ('Notebook Project 2_0', 'private', ['full_access']), ('Notebook Project 2_1', 'private', ['full_access']), ('Notebook Project 2_2', 'private', ['full_access']), ('Public Project', 'public', ['full_access']), ('Test1', 'private', ['full_access']), ('Notebook Project 1_0', 'private', ['full_access']), ('Notebook Project 1_1', 'private', ['full_access']), ('Notebook Project 2_0', 'private', ['full_access']), ('Notebook Project 2_1', 'private', ['full_access']), ('Notebook Project 2_2', 'private', ['full_access']), ('Public Project', 'public', ['full_access']), ('Notebook Project 1_0', 'private', ['full_access']), ('Notebook Project 1_1', 'private', ['full_access']), ('Notebook Project 2_0', 'private', ['full_access']), ('Notebook Project 2_1', 'private', ['full_access']), ('Notebook Project 2_2', 'private', ['full_access']), ('Public Project', 'public', ['full_access']), ('Notebook Project 1_0', 'private', ['full_access']), ('Notebook Project 1_1', 'private', ['full_access']), ('Notebook Project 2_0', 'private', ['full_access']), ('Notebook Project 2_1', 'private', ['full_access']), ('Notebook Project 2_2', 'private', ['full_access']), ('Public Project', 'public', ['full_access'])]\n"
     ]
    }
   ],
   "execution_count": 3
  },
  {
   "metadata": {},
   "cell_type": "markdown",
   "source": "## Access to Event Log",
   "id": "a1c98fb571548484"
  },
  {
   "metadata": {
    "ExecuteTime": {
     "end_time": "2024-06-28T14:23:07.308424Z",
     "start_time": "2024-06-28T14:23:07.286882Z"
    }
   },
   "cell_type": "code",
   "source": [
    "from morpheus.common.types.Exceptions import InsufficientPermissionsException\n",
    "from morpheus.project.types.permissions.Privilege import Privilege\n",
    "from morpheus.project.application.read.PermissionsReader import permissions_reader\n",
    "\n",
    "print('Only superadmin can view project event log for public project')\n",
    "permissions_reader.assert_identity_can(Privilege.EDIT_PROJECT, super_admin, public_project_id)\n",
    "for identity in [user1, user2, admin, editor, viewer]:\n",
    "  try:\n",
    "      permissions_reader.assert_identity_can(Privilege.EDIT_PROJECT, identity, public_project_id)\n",
    "      raise Exception('Should have thrown exception')\n",
    "  except InsufficientPermissionsException as e:\n",
    "      print(e)\n",
    "\n",
    "print('Only superadmin, owner, project admin and editor can view project event log for project 1_1')\n",
    "for identity in [super_admin, user1, admin, editor]:\n",
    "      permissions_reader.assert_identity_can(Privilege.EDIT_PROJECT, identity, project_user_1_ids[0])\n",
    "for identity in [user2, viewer]:\n",
    "  try:\n",
    "      permissions_reader.assert_identity_can(Privilege.EDIT_PROJECT, identity, project_user_1_ids[0])\n",
    "      raise Exception('Should have thrown exception')\n",
    "  except InsufficientPermissionsException as e:\n",
    "      print(e)"
   ],
   "id": "10427d9a03452f05",
   "outputs": [
    {
     "name": "stdout",
     "output_type": "stream",
     "text": [
      "Only superadmin can view project event log for public project\n",
      "User \"93e08bbb-ae84-49a9-9f96-6931d8903f61\" does not have privilege \"edit_project\" on project \"5e0a2ec4-1698-4772-9474-bdd37aac9bfe\"\n",
      "User \"e88bc6d8-81e8-4588-92df-8fb829e36123\" does not have privilege \"edit_project\" on project \"5e0a2ec4-1698-4772-9474-bdd37aac9bfe\"\n",
      "User \"2b6e9cfa-a7c3-403c-ad4d-a398c1914072\" does not have privilege \"edit_project\" on project \"5e0a2ec4-1698-4772-9474-bdd37aac9bfe\"\n",
      "User \"dd23c652-d64c-4658-9a09-d6ef90edbc74\" does not have privilege \"edit_project\" on project \"5e0a2ec4-1698-4772-9474-bdd37aac9bfe\"\n",
      "User \"69e3dcc9-03de-43bc-b4d8-9569aceadb9d\" does not have privilege \"edit_project\" on project \"5e0a2ec4-1698-4772-9474-bdd37aac9bfe\"\n",
      "Only superadmin, owner, project admin and editor can view project event log for project 1_1\n",
      "User \"e88bc6d8-81e8-4588-92df-8fb829e36123\" does not have privilege \"edit_project\" on project \"5cb72255-a03e-453d-923e-8961ab2e6b4f\"\n",
      "User \"69e3dcc9-03de-43bc-b4d8-9569aceadb9d\" does not have privilege \"edit_project\" on project \"5cb72255-a03e-453d-923e-8961ab2e6b4f\"\n"
     ]
    }
   ],
   "execution_count": 5
  },
  {
   "metadata": {},
   "cell_type": "markdown",
   "source": "## Read Privileges",
   "id": "578521908a97b2a1"
  },
  {
   "metadata": {
    "ExecuteTime": {
     "end_time": "2024-06-28T14:26:21.336717Z",
     "start_time": "2024-06-28T14:26:21.322386Z"
    }
   },
   "cell_type": "code",
   "source": [
    "def print_privileges(identity, user_text, project_id):\n",
    "    print(f'{user_text} can {[privilege.value for privilege in permissions_reader.get_privileges_for_identity(identity, project_id)]}')\n",
    "\n",
    "print_privileges(super_admin, 'super_admin on public project', public_project_id)\n",
    "print_privileges(user1, 'user with no role on public project', public_project_id)\n",
    "\n",
    "print_privileges(super_admin, 'super_admin', project_user_1_ids[0])\n",
    "print_privileges(user1, 'owner', project_user_1_ids[0])\n",
    "print_privileges(admin, 'admin', project_user_1_ids[0])\n",
    "print_privileges(editor, 'editor', project_user_1_ids[0])\n",
    "print_privileges(viewer, 'viewer', project_user_1_ids[0])\n",
    "print_privileges(user2, 'user with no role', project_user_1_ids[0])\n"
   ],
   "id": "681e5fdbbe6ebaa0",
   "outputs": [
    {
     "name": "stdout",
     "output_type": "stream",
     "text": [
      "super_admin on public project can ['full_access']\n",
      "user with nor role on public project can ['view_project']\n",
      "super_admin can ['full_access']\n",
      "owner can ['full_access']\n",
      "admin can ['view_project', 'edit_project', 'manage_project']\n",
      "editor can ['view_project', 'edit_project']\n",
      "viewer can ['view_project']\n",
      "user with no role can []\n"
     ]
    }
   ],
   "execution_count": 9
  },
  {
   "metadata": {
    "ExecuteTime": {
     "end_time": "2024-06-28T14:13:17.473114Z",
     "start_time": "2024-06-28T14:13:17.470624Z"
    }
   },
   "cell_type": "code",
   "source": "",
   "id": "6b0bd2b82b1b89ef",
   "outputs": [],
   "execution_count": 5
  },
  {
   "metadata": {
    "ExecuteTime": {
     "end_time": "2024-06-28T14:13:18.105465Z",
     "start_time": "2024-06-28T14:13:18.103398Z"
    }
   },
   "cell_type": "code",
   "source": "",
   "id": "2a6600bc2bb99f09",
   "outputs": [],
   "execution_count": 5
  },
  {
   "metadata": {},
   "cell_type": "code",
   "outputs": [],
   "execution_count": null,
   "source": "",
   "id": "7a9f215aec5cd74"
  }
 ],
 "metadata": {
  "kernelspec": {
   "display_name": "Python 3",
   "language": "python",
   "name": "python3"
  },
  "language_info": {
   "codemirror_mode": {
    "name": "ipython",
    "version": 3
   },
   "file_extension": ".py",
   "mimetype": "text/x-python",
   "name": "python",
   "nbconvert_exporter": "python",
   "pygments_lexer": "ipython3",
   "version": "3.12.2"
  },
  "papermill": {
   "default_parameters": {},
   "duration": 0.879568,
   "end_time": "2024-06-18T10:13:16.028487",
   "environment_variables": {},
   "exception": null,
   "input_path": "./notebooks/Permissions.ipynb",
   "output_path": "./notebooks/Permissions.ipynb",
   "parameters": {},
   "start_time": "2024-06-18T10:13:15.148919",
   "version": "2.6.0"
  }
 },
 "nbformat": 4,
 "nbformat_minor": 5
}
