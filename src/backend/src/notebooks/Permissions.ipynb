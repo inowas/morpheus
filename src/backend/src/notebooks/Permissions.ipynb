{
 "cells": [
  {
   "cell_type": "markdown",
   "id": "d203e0475f681206",
   "metadata": {
    "papermill": {
     "duration": 0.007884,
     "end_time": "2024-06-20T19:02:59.033249",
     "exception": false,
     "start_time": "2024-06-20T19:02:59.025365",
     "status": "completed"
    },
    "tags": []
   },
   "source": [
    "## Create projects"
   ]
  },
  {
   "cell_type": "code",
   "execution_count": 1,
   "id": "initial_id",
   "metadata": {
    "ExecuteTime": {
     "end_time": "2024-06-20T07:58:16.412127Z",
     "start_time": "2024-06-20T07:58:10.755769Z"
    },
    "collapsed": true,
    "execution": {
     "iopub.execute_input": "2024-06-20T19:02:59.045827Z",
     "iopub.status.busy": "2024-06-20T19:02:59.045277Z",
     "iopub.status.idle": "2024-06-20T19:03:00.315877Z",
     "shell.execute_reply": "2024-06-20T19:03:00.315595Z"
    },
    "papermill": {
     "duration": 1.277735,
     "end_time": "2024-06-20T19:03:00.316929",
     "exception": false,
     "start_time": "2024-06-20T19:02:59.039194",
     "status": "completed"
    },
    "tags": []
   },
   "outputs": [],
   "source": [
    "from morpheus.project.types.Permissions import Permissions, Visibility\n",
    "from morpheus.common.types import DateTime\n",
    "from morpheus.common.types.event_sourcing.EventMetadata import EventMetadata\n",
    "from morpheus.common.types.event_sourcing.EventEnvelope import EventEnvelope\n",
    "from morpheus.project.types.Project import ProjectId, Project, Metadata, Name, Description\n",
    "from morpheus.project.domain.events.ProjectEvents.ProjectEvents import ProjectCreatedEvent\n",
    "from morpheus.project.infrastructure.event_sourcing.ProjectEventBus import project_event_bus\n",
    "from morpheus.project.types.User import UserId\n",
    "\n",
    "user_id_1 = UserId.new()\n",
    "user_id_2 = UserId.new()\n",
    "project_user_1_ids = [ProjectId.new(), ProjectId.new()]\n",
    "project_user_2_ids = [ProjectId.new(), ProjectId.new(), ProjectId.new()]\n",
    "\n",
    "# projects owned by user 1\n",
    "for i, project_id in enumerate(project_user_1_ids):\n",
    "    project = (Project.new(project_id=project_id, user_id=user_id_1)\n",
    "                .with_updated_metadata(\n",
    "                    Metadata.new()\n",
    "                    .with_updated_name(Name.from_str(f'Notebook Project 1_{i}'))\n",
    "                    .with_updated_description(Description.from_str(f'This is project 1_{i} created in a notebook'))\n",
    "                )\n",
    "              )\n",
    "    project_created_event = ProjectCreatedEvent.from_project(project, DateTime.now())\n",
    "\n",
    "    project_event_bus.record(\n",
    "        EventEnvelope(event=project_created_event, metadata=EventMetadata.without_creator({'created_in_notebook': True}))\n",
    "    )\n",
    "    \n",
    "# projects owned by user 2\n",
    "for i, project_id in enumerate(project_user_2_ids):\n",
    "    project = (Project.new(project_id=project_id, user_id=user_id_2)\n",
    "                .with_updated_metadata(\n",
    "                    Metadata.new()\n",
    "                    .with_updated_name(Name.from_str(f'Notebook Project 2_{i}'))\n",
    "                    .with_updated_description(Description.from_str(f'This is project 2_{i} created in a notebook'))\n",
    "                )\n",
    "              )\n",
    "    project_created_event = ProjectCreatedEvent.from_project(project, DateTime.now())\n",
    "\n",
    "    project_event_bus.record(\n",
    "        EventEnvelope(event=project_created_event, metadata=EventMetadata.without_creator({'created_in_notebook': True}))\n",
    "    )\n",
    "    \n",
    "# public project\n",
    "public_project_owner_user_id = UserId.new()\n",
    "public_project_id = ProjectId.new()\n",
    "public_project = (Project.new(project_id=public_project_id, user_id=public_project_owner_user_id)\n",
    "                .with_updated_metadata(\n",
    "                    Metadata.new()\n",
    "                    .with_updated_name(Name.from_str(f'Public Project'))\n",
    "                    .with_updated_description(Description.from_str(f'This is a public project created in a notebook'))\n",
    "                )\n",
    "                .with_updated_permissions(\n",
    "                    Permissions.new(public_project_owner_user_id).with_updated_visibility(Visibility.PUBLIC)\n",
    "                )\n",
    "              )\n",
    "project_created_event = ProjectCreatedEvent.from_project(public_project, DateTime.now())\n",
    "project_event_bus.record(\n",
    "    EventEnvelope(event=project_created_event, metadata=EventMetadata.without_creator({'created_in_notebook': True}))\n",
    ")\n"
   ]
  },
  {
   "cell_type": "markdown",
   "id": "75c891d802bab3d3",
   "metadata": {
    "papermill": {
     "duration": 0.000892,
     "end_time": "2024-06-20T19:03:00.319040",
     "exception": false,
     "start_time": "2024-06-20T19:03:00.318148",
     "status": "completed"
    },
    "tags": []
   },
   "source": [
    "## Read projects"
   ]
  },
  {
   "cell_type": "code",
   "execution_count": 2,
   "id": "9e79e1e39648ff52",
   "metadata": {
    "ExecuteTime": {
     "end_time": "2024-06-20T07:58:16.484029Z",
     "start_time": "2024-06-20T07:58:16.417947Z"
    },
    "execution": {
     "iopub.execute_input": "2024-06-20T19:03:00.321465Z",
     "iopub.status.busy": "2024-06-20T19:03:00.321259Z",
     "iopub.status.idle": "2024-06-20T19:03:00.329818Z",
     "shell.execute_reply": "2024-06-20T19:03:00.329539Z"
    },
    "papermill": {
     "duration": 0.010754,
     "end_time": "2024-06-20T19:03:00.330656",
     "exception": false,
     "start_time": "2024-06-20T19:03:00.319902",
     "status": "completed"
    },
    "tags": []
   },
   "outputs": [
    {
     "name": "stdout",
     "output_type": "stream",
     "text": [
      "only public\n",
      "[('Public Project', 'public', None)]\n",
      "user 1\n",
      "[('Notebook Project 1_0', 'private', <Role.OWNER: 'owner'>), ('Notebook Project 1_1', 'private', <Role.OWNER: 'owner'>), ('Public Project', 'public', None)]\n",
      "user 2\n",
      "[('Notebook Project 2_0', 'private', <Role.OWNER: 'owner'>), ('Notebook Project 2_1', 'private', <Role.OWNER: 'owner'>), ('Notebook Project 2_2', 'private', <Role.OWNER: 'owner'>), ('Public Project', 'public', None)]\n"
     ]
    }
   ],
   "source": [
    "from morpheus.project.application.read.ProjectReader import project_reader\n",
    "\n",
    "another_user = UserId.new()\n",
    "summaries = project_reader.get_project_summaries_with_role_for_user(another_user)\n",
    "print('only public')\n",
    "print([(summary.project_name.to_str(), summary.visibility.to_str(), role) for (summary, role) in summaries])\n",
    "\n",
    "summaries = project_reader.get_project_summaries_with_role_for_user(user_id_1)\n",
    "print('user 1')\n",
    "print([(summary.project_name.to_str(), summary.visibility.to_str(), role) for (summary, role) in summaries])\n",
    "\n",
    "summaries = project_reader.get_project_summaries_with_role_for_user(user_id_2)\n",
    "print('user 2')\n",
    "print([(summary.project_name.to_str(), summary.visibility.to_str(), role) for (summary, role) in summaries])\n"
   ]
  },
  {
   "cell_type": "markdown",
   "id": "f4c1a7dc6fe8a064",
   "metadata": {
    "papermill": {
     "duration": 0.000894,
     "end_time": "2024-06-20T19:03:00.332650",
     "exception": false,
     "start_time": "2024-06-20T19:03:00.331756",
     "status": "completed"
    },
    "tags": []
   },
   "source": [
    "## Add members to project 1_1"
   ]
  },
  {
   "cell_type": "code",
   "execution_count": 3,
   "id": "14999109c4ec30f3",
   "metadata": {
    "ExecuteTime": {
     "end_time": "2024-06-20T07:58:28.097613Z",
     "start_time": "2024-06-20T07:58:28.056574Z"
    },
    "execution": {
     "iopub.execute_input": "2024-06-20T19:03:00.335062Z",
     "iopub.status.busy": "2024-06-20T19:03:00.334869Z",
     "iopub.status.idle": "2024-06-20T19:03:00.345387Z",
     "shell.execute_reply": "2024-06-20T19:03:00.345155Z"
    },
    "papermill": {
     "duration": 0.012685,
     "end_time": "2024-06-20T19:03:00.346251",
     "exception": false,
     "start_time": "2024-06-20T19:03:00.333566",
     "status": "completed"
    },
    "tags": []
   },
   "outputs": [],
   "source": [
    "from morpheus.project.types.Permissions import Role\n",
    "from morpheus.project.domain.events.ProjectPermissionEvents.PermissionEvents import MemberAddedEvent\n",
    "\n",
    "admin_id = UserId.new()\n",
    "editor_id = UserId.new()\n",
    "viewer_id = UserId.new()\n",
    "\n",
    "project_id = project_user_1_ids[0]\n",
    "\n",
    "admin_added_event = MemberAddedEvent.from_user_id_and_role(project_id, admin_id, Role.ADMIN, DateTime.now())\n",
    "project_event_bus.record(EventEnvelope(event=admin_added_event, metadata=EventMetadata.without_creator({'created_in_notebook': True})))\n",
    "\n",
    "editor_added_event = MemberAddedEvent.from_user_id_and_role(project_id, editor_id, Role.EDITOR, DateTime.now())\n",
    "project_event_bus.record(EventEnvelope(event=editor_added_event, metadata=EventMetadata.without_creator({'created_in_notebook': True})))\n",
    "\n",
    "viewer_added_event = MemberAddedEvent.from_user_id_and_role(project_id, viewer_id, Role.VIEWER, DateTime.now())\n",
    "project_event_bus.record(EventEnvelope(event=viewer_added_event, metadata=EventMetadata.without_creator({'created_in_notebook': True})))\n",
    "                         \n",
    "                         "
   ]
  },
  {
   "cell_type": "markdown",
   "id": "796812c04876735d",
   "metadata": {
    "papermill": {
     "duration": 0.000954,
     "end_time": "2024-06-20T19:03:00.348370",
     "exception": false,
     "start_time": "2024-06-20T19:03:00.347416",
     "status": "completed"
    },
    "tags": []
   },
   "source": [
    "## Read projects"
   ]
  },
  {
   "cell_type": "markdown",
   "id": "968781ef01ac748f",
   "metadata": {
    "papermill": {
     "duration": 0.000968,
     "end_time": "2024-06-20T19:03:00.350391",
     "exception": false,
     "start_time": "2024-06-20T19:03:00.349423",
     "status": "completed"
    },
    "tags": []
   },
   "source": []
  },
  {
   "cell_type": "code",
   "execution_count": 4,
   "id": "1ca59fc28b69ef47",
   "metadata": {
    "ExecuteTime": {
     "end_time": "2024-06-20T07:58:31.356589Z",
     "start_time": "2024-06-20T07:58:31.316005Z"
    },
    "execution": {
     "iopub.execute_input": "2024-06-20T19:03:00.352817Z",
     "iopub.status.busy": "2024-06-20T19:03:00.352706Z",
     "iopub.status.idle": "2024-06-20T19:03:00.363247Z",
     "shell.execute_reply": "2024-06-20T19:03:00.363022Z"
    },
    "papermill": {
     "duration": 0.012712,
     "end_time": "2024-06-20T19:03:00.364028",
     "exception": false,
     "start_time": "2024-06-20T19:03:00.351316",
     "status": "completed"
    },
    "tags": []
   },
   "outputs": [
    {
     "name": "stdout",
     "output_type": "stream",
     "text": [
      "admin\n",
      "[('Notebook Project 1_0', 'private', <Role.ADMIN: 'admin'>), ('Public Project', 'public', None)]\n",
      "editor\n",
      "[('Notebook Project 1_0', 'private', <Role.EDITOR: 'editor'>), ('Public Project', 'public', None)]\n",
      "viewer\n",
      "[('Notebook Project 1_0', 'private', <Role.VIEWER: 'viewer'>), ('Public Project', 'public', None)]\n",
      "super admin (sees all projects as owner)\n",
      "[('Rio Primero 123', 'private', <Role.OWNER: 'owner'>), ('Project 0', 'private', <Role.OWNER: 'owner'>), ('Project 1', 'private', <Role.OWNER: 'owner'>), ('Project 2', 'private', <Role.OWNER: 'owner'>), ('Project 3', 'private', <Role.OWNER: 'owner'>), ('Project 4', 'private', <Role.OWNER: 'owner'>), ('Project 5', 'private', <Role.OWNER: 'owner'>), ('Project 6', 'private', <Role.OWNER: 'owner'>), ('Project 7', 'private', <Role.OWNER: 'owner'>), ('Project 8', 'private', <Role.OWNER: 'owner'>), ('Project 9', 'private', <Role.OWNER: 'owner'>), ('Project 1', 'private', <Role.OWNER: 'owner'>), ('Rio Primero 123', 'private', <Role.OWNER: 'owner'>), ('Project 0', 'private', <Role.OWNER: 'owner'>), ('Project 1', 'private', <Role.OWNER: 'owner'>), ('Project 2', 'private', <Role.OWNER: 'owner'>), ('Project 3', 'private', <Role.OWNER: 'owner'>), ('Project 4', 'private', <Role.OWNER: 'owner'>), ('Project 5', 'private', <Role.OWNER: 'owner'>), ('Project 6', 'private', <Role.OWNER: 'owner'>), ('Project 7', 'private', <Role.OWNER: 'owner'>), ('Project 8', 'private', <Role.OWNER: 'owner'>), ('Project 9', 'private', <Role.OWNER: 'owner'>), ('Project 1', 'private', <Role.OWNER: 'owner'>), ('Rio Primero 123', 'private', <Role.OWNER: 'owner'>), ('Project 0', 'private', <Role.OWNER: 'owner'>), ('Project 1', 'private', <Role.OWNER: 'owner'>), ('Project 2', 'private', <Role.OWNER: 'owner'>), ('Project 3', 'private', <Role.OWNER: 'owner'>), ('Project 4', 'private', <Role.OWNER: 'owner'>), ('Project 5', 'private', <Role.OWNER: 'owner'>), ('Project 6', 'private', <Role.OWNER: 'owner'>), ('Project 7', 'private', <Role.OWNER: 'owner'>), ('Project 8', 'private', <Role.OWNER: 'owner'>), ('Project 9', 'private', <Role.OWNER: 'owner'>), ('Project 1', 'private', <Role.OWNER: 'owner'>), ('Rio Primero', 'private', <Role.OWNER: 'owner'>), ('Rio Primero 123', 'private', <Role.OWNER: 'owner'>), ('Project 0', 'private', <Role.OWNER: 'owner'>), ('Project 1', 'private', <Role.OWNER: 'owner'>), ('Project 2', 'private', <Role.OWNER: 'owner'>), ('Project 3', 'private', <Role.OWNER: 'owner'>), ('Project 4', 'private', <Role.OWNER: 'owner'>), ('Project 5', 'private', <Role.OWNER: 'owner'>), ('Project 6', 'private', <Role.OWNER: 'owner'>), ('Project 7', 'private', <Role.OWNER: 'owner'>), ('Project 8', 'private', <Role.OWNER: 'owner'>), ('Project 9', 'private', <Role.OWNER: 'owner'>), ('Project 1', 'private', <Role.OWNER: 'owner'>), ('Rio Primero 123', 'private', <Role.OWNER: 'owner'>), ('Project 0', 'private', <Role.OWNER: 'owner'>), ('Project 1', 'private', <Role.OWNER: 'owner'>), ('Project 2', 'private', <Role.OWNER: 'owner'>), ('Project 3', 'private', <Role.OWNER: 'owner'>), ('Project 4', 'private', <Role.OWNER: 'owner'>), ('Project 5', 'private', <Role.OWNER: 'owner'>), ('Project 6', 'private', <Role.OWNER: 'owner'>), ('Project 7', 'private', <Role.OWNER: 'owner'>), ('Project 8', 'private', <Role.OWNER: 'owner'>), ('Project 9', 'private', <Role.OWNER: 'owner'>), ('Project 1', 'private', <Role.OWNER: 'owner'>), ('Rio Primero 123', 'private', <Role.OWNER: 'owner'>), ('Project 0', 'private', <Role.OWNER: 'owner'>), ('Project 1', 'private', <Role.OWNER: 'owner'>), ('Project 2', 'private', <Role.OWNER: 'owner'>), ('Project 3', 'private', <Role.OWNER: 'owner'>), ('Project 4', 'private', <Role.OWNER: 'owner'>), ('Project 5', 'private', <Role.OWNER: 'owner'>), ('Project 6', 'private', <Role.OWNER: 'owner'>), ('Project 7', 'private', <Role.OWNER: 'owner'>), ('Project 8', 'private', <Role.OWNER: 'owner'>), ('Project 9', 'private', <Role.OWNER: 'owner'>), ('Project 1', 'private', <Role.OWNER: 'owner'>), ('Rio Primero 123', 'private', <Role.OWNER: 'owner'>), ('Project 0', 'private', <Role.OWNER: 'owner'>), ('Project 1', 'private', <Role.OWNER: 'owner'>), ('Project 2', 'private', <Role.OWNER: 'owner'>), ('Project 3', 'private', <Role.OWNER: 'owner'>), ('Project 4', 'private', <Role.OWNER: 'owner'>), ('Project 5', 'private', <Role.OWNER: 'owner'>), ('Project 6', 'private', <Role.OWNER: 'owner'>), ('Project 7', 'private', <Role.OWNER: 'owner'>), ('Project 8', 'private', <Role.OWNER: 'owner'>), ('Project 9', 'private', <Role.OWNER: 'owner'>), ('Project 1', 'private', <Role.OWNER: 'owner'>), ('Project 1', 'private', <Role.OWNER: 'owner'>), ('Project 1', 'private', <Role.OWNER: 'owner'>), ('Project 1', 'private', <Role.OWNER: 'owner'>), ('Project 1', 'private', <Role.OWNER: 'owner'>), ('Rio Primero 123', 'private', <Role.OWNER: 'owner'>), ('Project 0', 'private', <Role.OWNER: 'owner'>), ('Project 1', 'private', <Role.OWNER: 'owner'>), ('Project 2', 'private', <Role.OWNER: 'owner'>), ('Project 3', 'private', <Role.OWNER: 'owner'>), ('Project 4', 'private', <Role.OWNER: 'owner'>), ('Project 5', 'private', <Role.OWNER: 'owner'>), ('Project 6', 'private', <Role.OWNER: 'owner'>), ('Project 7', 'private', <Role.OWNER: 'owner'>), ('Project 8', 'private', <Role.OWNER: 'owner'>), ('Project 9', 'private', <Role.OWNER: 'owner'>), ('Project 1', 'private', <Role.OWNER: 'owner'>), ('Project 0', 'private', <Role.OWNER: 'owner'>), ('Project 1', 'private', <Role.OWNER: 'owner'>), ('Project 2', 'private', <Role.OWNER: 'owner'>), ('Project 3', 'private', <Role.OWNER: 'owner'>), ('Project 4', 'private', <Role.OWNER: 'owner'>), ('Project 5', 'private', <Role.OWNER: 'owner'>), ('Project 6', 'private', <Role.OWNER: 'owner'>), ('Project 7', 'private', <Role.OWNER: 'owner'>), ('Project 8', 'private', <Role.OWNER: 'owner'>), ('Project 9', 'private', <Role.OWNER: 'owner'>), ('Project 0', 'private', <Role.OWNER: 'owner'>), ('Project 1', 'private', <Role.OWNER: 'owner'>), ('Project 2', 'private', <Role.OWNER: 'owner'>), ('Project 3', 'private', <Role.OWNER: 'owner'>), ('Project 4', 'private', <Role.OWNER: 'owner'>), ('Project 5', 'private', <Role.OWNER: 'owner'>), ('Project 6', 'private', <Role.OWNER: 'owner'>), ('Project 7', 'private', <Role.OWNER: 'owner'>), ('Project 8', 'private', <Role.OWNER: 'owner'>), ('Project 9', 'private', <Role.OWNER: 'owner'>), ('Project 0', 'private', <Role.OWNER: 'owner'>), ('Project 1', 'private', <Role.OWNER: 'owner'>), ('Project 2', 'private', <Role.OWNER: 'owner'>), ('Project 3', 'private', <Role.OWNER: 'owner'>), ('Project 4', 'private', <Role.OWNER: 'owner'>), ('Project 5', 'private', <Role.OWNER: 'owner'>), ('Project 6', 'private', <Role.OWNER: 'owner'>), ('Project 7', 'private', <Role.OWNER: 'owner'>), ('Project 8', 'private', <Role.OWNER: 'owner'>), ('Project 9', 'private', <Role.OWNER: 'owner'>), ('Project 0', 'private', <Role.OWNER: 'owner'>), ('Project 1', 'private', <Role.OWNER: 'owner'>), ('Project 2', 'private', <Role.OWNER: 'owner'>), ('Project 3', 'private', <Role.OWNER: 'owner'>), ('Project 4', 'private', <Role.OWNER: 'owner'>), ('Project 5', 'private', <Role.OWNER: 'owner'>), ('Project 6', 'private', <Role.OWNER: 'owner'>), ('Project 7', 'private', <Role.OWNER: 'owner'>), ('Project 8', 'private', <Role.OWNER: 'owner'>), ('Project 9', 'private', <Role.OWNER: 'owner'>), ('Rio Primero 123', 'private', <Role.OWNER: 'owner'>), ('Project 0', 'private', <Role.OWNER: 'owner'>), ('Project 1', 'private', <Role.OWNER: 'owner'>), ('Project 2', 'private', <Role.OWNER: 'owner'>), ('Project 3', 'private', <Role.OWNER: 'owner'>), ('Project 4', 'private', <Role.OWNER: 'owner'>), ('Project 5', 'private', <Role.OWNER: 'owner'>), ('Project 6', 'private', <Role.OWNER: 'owner'>), ('Project 7', 'private', <Role.OWNER: 'owner'>), ('Project 8', 'private', <Role.OWNER: 'owner'>), ('Project 9', 'private', <Role.OWNER: 'owner'>), ('Project 1', 'private', <Role.OWNER: 'owner'>), ('Rio Primero 123', 'private', <Role.OWNER: 'owner'>), ('Project 0', 'private', <Role.OWNER: 'owner'>), ('Project 1', 'private', <Role.OWNER: 'owner'>), ('Project 2', 'private', <Role.OWNER: 'owner'>), ('Project 3', 'private', <Role.OWNER: 'owner'>), ('Project 4', 'private', <Role.OWNER: 'owner'>), ('Project 5', 'private', <Role.OWNER: 'owner'>), ('Project 6', 'private', <Role.OWNER: 'owner'>), ('Project 7', 'private', <Role.OWNER: 'owner'>), ('Project 8', 'private', <Role.OWNER: 'owner'>), ('Project 9', 'private', <Role.OWNER: 'owner'>), ('Project 1', 'private', <Role.OWNER: 'owner'>), ('Rio Primero 123', 'private', <Role.OWNER: 'owner'>), ('Project 0', 'private', <Role.OWNER: 'owner'>), ('Project 1', 'private', <Role.OWNER: 'owner'>), ('Project 2', 'private', <Role.OWNER: 'owner'>), ('Project 3', 'private', <Role.OWNER: 'owner'>), ('Project 4', 'private', <Role.OWNER: 'owner'>), ('Project 5', 'private', <Role.OWNER: 'owner'>), ('Project 6', 'private', <Role.OWNER: 'owner'>), ('Project 7', 'private', <Role.OWNER: 'owner'>), ('Project 8', 'private', <Role.OWNER: 'owner'>), ('Project 9', 'private', <Role.OWNER: 'owner'>), ('Project 1', 'private', <Role.OWNER: 'owner'>), ('Rio Primero 123', 'private', <Role.OWNER: 'owner'>), ('Project 0', 'private', <Role.OWNER: 'owner'>), ('Project 1', 'private', <Role.OWNER: 'owner'>), ('Project 2', 'private', <Role.OWNER: 'owner'>), ('Project 3', 'private', <Role.OWNER: 'owner'>), ('Project 4', 'private', <Role.OWNER: 'owner'>), ('Project 5', 'private', <Role.OWNER: 'owner'>), ('Project 6', 'private', <Role.OWNER: 'owner'>), ('Project 7', 'private', <Role.OWNER: 'owner'>), ('Project 8', 'private', <Role.OWNER: 'owner'>), ('Project 9', 'private', <Role.OWNER: 'owner'>), ('Project 1', 'private', <Role.OWNER: 'owner'>), ('Rio Primero 123', 'private', <Role.OWNER: 'owner'>), ('Project 0', 'private', <Role.OWNER: 'owner'>), ('Project 1', 'private', <Role.OWNER: 'owner'>), ('Project 2', 'private', <Role.OWNER: 'owner'>), ('Project 3', 'private', <Role.OWNER: 'owner'>), ('Project 4', 'private', <Role.OWNER: 'owner'>), ('Project 5', 'private', <Role.OWNER: 'owner'>), ('Project 6', 'private', <Role.OWNER: 'owner'>), ('Project 7', 'private', <Role.OWNER: 'owner'>), ('Project 8', 'private', <Role.OWNER: 'owner'>), ('Project 9', 'private', <Role.OWNER: 'owner'>), ('Project 1', 'private', <Role.OWNER: 'owner'>), ('Rio Primero 123', 'private', <Role.OWNER: 'owner'>), ('Project 0', 'private', <Role.OWNER: 'owner'>), ('Project 1', 'private', <Role.OWNER: 'owner'>), ('Project 2', 'private', <Role.OWNER: 'owner'>), ('Project 3', 'private', <Role.OWNER: 'owner'>), ('Project 4', 'private', <Role.OWNER: 'owner'>), ('Project 5', 'private', <Role.OWNER: 'owner'>), ('Project 6', 'private', <Role.OWNER: 'owner'>), ('Project 7', 'private', <Role.OWNER: 'owner'>), ('Project 8', 'private', <Role.OWNER: 'owner'>), ('Project 9', 'private', <Role.OWNER: 'owner'>), ('Project 1', 'private', <Role.OWNER: 'owner'>), ('Rio Primero 123', 'private', <Role.OWNER: 'owner'>), ('Project 0', 'private', <Role.OWNER: 'owner'>), ('Project 1', 'private', <Role.OWNER: 'owner'>), ('Project 2', 'private', <Role.OWNER: 'owner'>), ('Project 3', 'private', <Role.OWNER: 'owner'>), ('Project 4', 'private', <Role.OWNER: 'owner'>), ('Project 5', 'private', <Role.OWNER: 'owner'>), ('Project 6', 'private', <Role.OWNER: 'owner'>), ('Project 7', 'private', <Role.OWNER: 'owner'>), ('Project 8', 'private', <Role.OWNER: 'owner'>), ('Project 9', 'private', <Role.OWNER: 'owner'>), ('Project 1', 'private', <Role.OWNER: 'owner'>), ('Rio Primero 123', 'private', <Role.OWNER: 'owner'>), ('Project 0', 'private', <Role.OWNER: 'owner'>), ('Project 1', 'private', <Role.OWNER: 'owner'>), ('Project 2', 'private', <Role.OWNER: 'owner'>), ('Project 3', 'private', <Role.OWNER: 'owner'>), ('Project 4', 'private', <Role.OWNER: 'owner'>), ('Project 5', 'private', <Role.OWNER: 'owner'>), ('Project 6', 'private', <Role.OWNER: 'owner'>), ('Project 7', 'private', <Role.OWNER: 'owner'>), ('Project 8', 'private', <Role.OWNER: 'owner'>), ('Project 9', 'private', <Role.OWNER: 'owner'>), ('Project 1', 'private', <Role.OWNER: 'owner'>), ('Rio Primero 123', 'private', <Role.OWNER: 'owner'>), ('Project 0', 'private', <Role.OWNER: 'owner'>), ('Project 1', 'private', <Role.OWNER: 'owner'>), ('Project 2', 'private', <Role.OWNER: 'owner'>), ('Project 3', 'private', <Role.OWNER: 'owner'>), ('Project 4', 'private', <Role.OWNER: 'owner'>), ('Project 5', 'private', <Role.OWNER: 'owner'>), ('Project 6', 'private', <Role.OWNER: 'owner'>), ('Project 7', 'private', <Role.OWNER: 'owner'>), ('Project 8', 'private', <Role.OWNER: 'owner'>), ('Project 9', 'private', <Role.OWNER: 'owner'>), ('Project 1', 'private', <Role.OWNER: 'owner'>), ('Rio Primero 123', 'private', <Role.OWNER: 'owner'>), ('Project 0', 'private', <Role.OWNER: 'owner'>), ('Project 1', 'private', <Role.OWNER: 'owner'>), ('Project 2', 'private', <Role.OWNER: 'owner'>), ('Project 3', 'private', <Role.OWNER: 'owner'>), ('Project 4', 'private', <Role.OWNER: 'owner'>), ('Project 5', 'private', <Role.OWNER: 'owner'>), ('Project 6', 'private', <Role.OWNER: 'owner'>), ('Project 7', 'private', <Role.OWNER: 'owner'>), ('Project 8', 'private', <Role.OWNER: 'owner'>), ('Project 9', 'private', <Role.OWNER: 'owner'>), ('Project 1', 'private', <Role.OWNER: 'owner'>), ('Rio Primero 123', 'private', <Role.OWNER: 'owner'>), ('Project 0', 'private', <Role.OWNER: 'owner'>), ('Project 1', 'private', <Role.OWNER: 'owner'>), ('Project 2', 'private', <Role.OWNER: 'owner'>), ('Project 3', 'private', <Role.OWNER: 'owner'>), ('Project 4', 'private', <Role.OWNER: 'owner'>), ('Project 5', 'private', <Role.OWNER: 'owner'>), ('Project 6', 'private', <Role.OWNER: 'owner'>), ('Project 7', 'private', <Role.OWNER: 'owner'>), ('Project 8', 'private', <Role.OWNER: 'owner'>), ('Project 9', 'private', <Role.OWNER: 'owner'>), ('Project 1', 'private', <Role.OWNER: 'owner'>), ('Rio Primero 123', 'private', <Role.OWNER: 'owner'>), ('Project 0', 'private', <Role.OWNER: 'owner'>), ('Project 1', 'private', <Role.OWNER: 'owner'>), ('Project 2', 'private', <Role.OWNER: 'owner'>), ('Project 3', 'private', <Role.OWNER: 'owner'>), ('Project 4', 'private', <Role.OWNER: 'owner'>), ('Project 5', 'private', <Role.OWNER: 'owner'>), ('Project 6', 'private', <Role.OWNER: 'owner'>), ('Project 7', 'private', <Role.OWNER: 'owner'>), ('Project 8', 'private', <Role.OWNER: 'owner'>), ('Project 9', 'private', <Role.OWNER: 'owner'>), ('Project 1', 'private', <Role.OWNER: 'owner'>), ('Rio Primero 123', 'private', <Role.OWNER: 'owner'>), ('Project 0', 'private', <Role.OWNER: 'owner'>), ('Project 1', 'private', <Role.OWNER: 'owner'>), ('Project 2', 'private', <Role.OWNER: 'owner'>), ('Project 3', 'private', <Role.OWNER: 'owner'>), ('Project 4', 'private', <Role.OWNER: 'owner'>), ('Project 5', 'private', <Role.OWNER: 'owner'>), ('Project 6', 'private', <Role.OWNER: 'owner'>), ('Project 7', 'private', <Role.OWNER: 'owner'>), ('Project 8', 'private', <Role.OWNER: 'owner'>), ('Project 9', 'private', <Role.OWNER: 'owner'>), ('Project 1', 'private', <Role.OWNER: 'owner'>), ('Rio Primero 123', 'private', <Role.OWNER: 'owner'>), ('Project 0', 'private', <Role.OWNER: 'owner'>), ('Project 1', 'private', <Role.OWNER: 'owner'>), ('Project 2', 'private', <Role.OWNER: 'owner'>), ('Project 3', 'private', <Role.OWNER: 'owner'>), ('Project 4', 'private', <Role.OWNER: 'owner'>), ('Project 5', 'private', <Role.OWNER: 'owner'>), ('Project 6', 'private', <Role.OWNER: 'owner'>), ('Project 7', 'private', <Role.OWNER: 'owner'>), ('Project 8', 'private', <Role.OWNER: 'owner'>), ('Project 9', 'private', <Role.OWNER: 'owner'>), ('Project 1', 'private', <Role.OWNER: 'owner'>), ('Notebook Project 1_0', 'private', <Role.OWNER: 'owner'>), ('Notebook Project 1_1', 'private', <Role.OWNER: 'owner'>), ('Notebook Project 2_0', 'private', <Role.OWNER: 'owner'>), ('Notebook Project 2_1', 'private', <Role.OWNER: 'owner'>), ('Notebook Project 2_2', 'private', <Role.OWNER: 'owner'>), ('Public Project', 'public', <Role.OWNER: 'owner'>)]\n"
     ]
    }
   ],
   "source": [
    "summaries = project_reader.get_project_summaries_with_role_for_user(admin_id)\n",
    "print('admin')\n",
    "print([(summary.project_name.to_str(), summary.visibility.to_str(), role) for (summary, role) in summaries])\n",
    "\n",
    "summaries = project_reader.get_project_summaries_with_role_for_user(editor_id)\n",
    "print('editor')\n",
    "print([(summary.project_name.to_str(), summary.visibility.to_str(), role) for (summary, role) in summaries])\n",
    "\n",
    "summaries = project_reader.get_project_summaries_with_role_for_user(viewer_id)\n",
    "print('viewer')\n",
    "print([(summary.project_name.to_str(), summary.visibility.to_str(), role) for (summary, role) in summaries])\n",
    "\n",
    "summaries = project_reader.get_project_summaries_with_role_for_admin_user()\n",
    "print('super admin (sees all projects as owner)')\n",
    "print([(summary.project_name.to_str(), summary.visibility.to_str(), role) for (summary, role) in summaries])\n"
   ]
  }
 ],
 "metadata": {
  "kernelspec": {
   "display_name": "Python 3",
   "language": "python",
   "name": "python3"
  },
  "language_info": {
   "codemirror_mode": {
    "name": "ipython",
    "version": 3
   },
   "file_extension": ".py",
   "mimetype": "text/x-python",
   "name": "python",
   "nbconvert_exporter": "python",
   "pygments_lexer": "ipython3",
   "version": "3.12.2"
  },
  "papermill": {
   "default_parameters": {},
   "duration": 2.571476,
   "end_time": "2024-06-20T19:03:01.086338",
   "environment_variables": {},
   "exception": null,
   "input_path": "./notebooks/Permissions.ipynb",
   "output_path": "./notebooks/Permissions.ipynb",
   "parameters": {},
   "start_time": "2024-06-20T19:02:58.514862",
   "version": "2.6.0"
  }
 },
 "nbformat": 4,
 "nbformat_minor": 5
}