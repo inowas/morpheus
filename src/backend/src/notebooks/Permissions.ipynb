{
 "cells": [
  {
   "cell_type": "code",
   "execution_count": 1,
   "id": "initial_id",
   "metadata": {
    "ExecuteTime": {
     "end_time": "2024-05-14T07:58:27.881222Z",
     "start_time": "2024-05-14T07:58:27.858123Z"
    },
    "collapsed": true,
    "execution": {
     "iopub.execute_input": "2024-05-15T15:40:30.277051Z",
     "iopub.status.busy": "2024-05-15T15:40:30.276344Z",
     "iopub.status.idle": "2024-05-15T15:40:30.301683Z",
     "shell.execute_reply": "2024-05-15T15:40:30.300988Z"
    },
    "papermill": {
     "duration": 0.035839,
     "end_time": "2024-05-15T15:40:30.303918",
     "exception": false,
     "start_time": "2024-05-15T15:40:30.268079",
     "status": "completed"
    },
    "tags": []
   },
   "outputs": [],
   "source": [
    "from morpheus.project.types.Permissions import Role\n",
    "from morpheus.project.types.User import UserId\n",
    "\n",
    "user_id = UserId.new()\n",
    "\n",
    "members: dict[UserId, Role] = {\n",
    "    user_id: Role.ADMIN\n",
    "}"
   ]
  },
  {
   "cell_type": "code",
   "execution_count": 2,
   "id": "7aa7890b1fa9e63c",
   "metadata": {
    "ExecuteTime": {
     "end_time": "2024-05-14T07:58:27.884766Z",
     "start_time": "2024-05-14T07:58:27.882494Z"
    },
    "execution": {
     "iopub.execute_input": "2024-05-15T15:40:30.308117Z",
     "iopub.status.busy": "2024-05-15T15:40:30.307784Z",
     "iopub.status.idle": "2024-05-15T15:40:30.311469Z",
     "shell.execute_reply": "2024-05-15T15:40:30.310980Z"
    },
    "papermill": {
     "duration": 0.00748,
     "end_time": "2024-05-15T15:40:30.313396",
     "exception": false,
     "start_time": "2024-05-15T15:40:30.305916",
     "status": "completed"
    },
    "tags": []
   },
   "outputs": [
    {
     "name": "stdout",
     "output_type": "stream",
     "text": [
      "User is a member\n"
     ]
    }
   ],
   "source": [
    "if user_id in members:\n",
    "    print(\"User is a member\")\n",
    "else:\n",
    "    print(\"User is not a member\")"
   ]
  },
  {
   "cell_type": "code",
   "execution_count": 3,
   "id": "9002508028574a69",
   "metadata": {
    "ExecuteTime": {
     "end_time": "2024-05-14T07:58:27.890696Z",
     "start_time": "2024-05-14T07:58:27.885455Z"
    },
    "execution": {
     "iopub.execute_input": "2024-05-15T15:40:30.317423Z",
     "iopub.status.busy": "2024-05-15T15:40:30.317085Z",
     "iopub.status.idle": "2024-05-15T15:40:30.322874Z",
     "shell.execute_reply": "2024-05-15T15:40:30.322471Z"
    },
    "papermill": {
     "duration": 0.00914,
     "end_time": "2024-05-15T15:40:30.324266",
     "exception": false,
     "start_time": "2024-05-15T15:40:30.315126",
     "status": "completed"
    },
    "tags": []
   },
   "outputs": [
    {
     "data": {
      "text/plain": [
       "False"
      ]
     },
     "execution_count": 3,
     "metadata": {},
     "output_type": "execute_result"
    }
   ],
   "source": [
    "from morpheus.project.types.Permissions import Permissions\n",
    "\n",
    "owner_id = UserId.new()\n",
    "permissions = Permissions.new(owner_id)\n",
    "\n",
    "permissions.member_can_edit(user_id)"
   ]
  }
 ],
 "metadata": {
  "kernelspec": {
   "display_name": "Python 3",
   "language": "python",
   "name": "python3"
  },
  "language_info": {
   "codemirror_mode": {
    "name": "ipython",
    "version": 3
   },
   "file_extension": ".py",
   "mimetype": "text/x-python",
   "name": "python",
   "nbconvert_exporter": "python",
   "pygments_lexer": "ipython3",
   "version": "3.12.2"
  },
  "papermill": {
   "default_parameters": {},
   "duration": 0.714649,
   "end_time": "2024-05-15T15:40:30.441510",
   "environment_variables": {},
   "exception": null,
   "input_path": "./notebooks/Permissions.ipynb",
   "output_path": "./notebooks/Permissions.ipynb",
   "parameters": {},
   "start_time": "2024-05-15T15:40:29.726861",
   "version": "2.6.0"
  }
 },
 "nbformat": 4,
 "nbformat_minor": 5
}