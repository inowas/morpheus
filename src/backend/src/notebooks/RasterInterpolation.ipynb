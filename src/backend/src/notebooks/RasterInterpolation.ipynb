{
 "cells": [
  {
   "cell_type": "markdown",
   "source": [
    "# Raster Interpolation with scipy.interpolate.RegularGridInterpolator\n",
    "https://docs.scipy.org/doc/scipy/reference/generated/scipy.interpolate.RegularGridInterpolator.html"
   ],
   "metadata": {
    "collapsed": false
   },
   "id": "22e3fc7755a095f5"
  },
  {
   "cell_type": "markdown",
   "source": [
    "The RegularGridInterpolator class can be used to perform linear interpolation in N dimensions. The grid is defined by the coordinates of the points in each dimension.\n",
    "\n",
    "As in the one dimensional case, an interpolating function f is created from the original raster points and their respective data. The interpolating function can then be called with the new grid dimensions to return interpolated values."
   ],
   "metadata": {
    "collapsed": false
   },
   "id": "8bafc27a6ecbf754"
  },
  {
   "cell_type": "markdown",
   "source": [
    "## Create the original raster data \n",
    "\n",
    "We are creating a rectlinear grid with 6 points in the x dimension and 4 points in the y dimension. The data is a 2D array of ones with a single point in the center is set to 100."
   ],
   "metadata": {
    "collapsed": false
   },
   "id": "48d5a14b65b5480b"
  },
  {
   "cell_type": "code",
   "execution_count": 5,
   "outputs": [
    {
     "data": {
      "text/plain": "<Figure size 640x480 with 1 Axes>",
      "image/png": "[encoded data removed]"
     },
     "metadata": {},
     "output_type": "display_data"
    }
   ],
   "source": [
    "import numpy as np\n",
    "import matplotlib.pyplot as plt\n",
    "from scipy.interpolate import RegularGridInterpolator\n",
    "\n",
    "x = np.array([0, .1, .2, .5, .8, .9, 1])\n",
    "y = np.array([0, .1,  0.5, .9, 1])\n",
    "data = np.ones((len(x), len(y)))\n",
    "data[3, 2] = 100\n",
    "\n",
    "XX, YY = np.meshgrid(x, y, indexing='xy')\n",
    "\n",
    "fig = plt.figure()\n",
    "ax = fig.add_subplot()\n",
    "ax.scatter(XX.ravel(), YY.ravel(), data.ravel(), c='k', marker='s')\n",
    "ax.set_xlabel('x')\n",
    "ax.set_ylabel('y')\n",
    "plt.show()"
   ],
   "metadata": {
    "collapsed": false,
    "ExecuteTime": {
     "end_time": "2024-03-22T09:09:24.287576Z",
     "start_time": "2024-03-22T09:09:24.142775Z"
    }
   },
   "id": "d124aedbafdcc040"
  },
  {
   "cell_type": "code",
   "execution_count": 6,
   "outputs": [
    {
     "data": {
      "text/plain": "<matplotlib.image.AxesImage at 0x740b814ab2f0>"
     },
     "execution_count": 6,
     "metadata": {},
     "output_type": "execute_result"
    },
    {
     "data": {
      "text/plain": "<Figure size 640x480 with 1 Axes>",
      "image/png": "[encoded data removed]"
     },
     "metadata": {},
     "output_type": "display_data"
    }
   ],
   "source": [
    "plt.imshow(data, origin='lower', aspect='auto')"
   ],
   "metadata": {
    "collapsed": false,
    "ExecuteTime": {
     "end_time": "2024-03-22T09:09:28.564304Z",
     "start_time": "2024-03-22T09:09:28.295675Z"
    }
   },
   "id": "d517d7c0144f7243"
  },
  {
   "cell_type": "markdown",
   "source": [
    "## Create the interpolating function"
   ],
   "metadata": {
    "collapsed": false
   },
   "id": "30cc052885f79dac"
  },
  {
   "cell_type": "code",
   "execution_count": 7,
   "outputs": [],
   "source": [
    "interp = RegularGridInterpolator((x, y), data, bounds_error=False, fill_value=None)"
   ],
   "metadata": {
    "collapsed": false,
    "ExecuteTime": {
     "end_time": "2024-03-22T09:09:32.267877Z",
     "start_time": "2024-03-22T09:09:32.263242Z"
    }
   },
   "id": "b13d6002e9090be1"
  },
  {
   "cell_type": "markdown",
   "source": [
    "## Interpolate the data to a new grid"
   ],
   "metadata": {
    "collapsed": false
   },
   "id": "27b96cc3cfc912c0"
  },
  {
   "cell_type": "code",
   "execution_count": 8,
   "outputs": [
    {
     "ename": "KeyboardInterrupt",
     "evalue": "",
     "output_type": "error",
     "traceback": [
      "\u001B[0;31m---------------------------------------------------------------------------\u001B[0m",
      "\u001B[0;31mKeyboardInterrupt\u001B[0m                         Traceback (most recent call last)",
      "Cell \u001B[0;32mIn[8], line 5\u001B[0m\n\u001B[1;32m      2\u001B[0m y_new \u001B[38;5;241m=\u001B[39m np\u001B[38;5;241m.\u001B[39mlinspace(\u001B[38;5;241m0\u001B[39m, \u001B[38;5;241m1\u001B[39m, \u001B[38;5;241m1000\u001B[39m)\n\u001B[1;32m      3\u001B[0m XX_new, YY_new \u001B[38;5;241m=\u001B[39m np\u001B[38;5;241m.\u001B[39mmeshgrid(x_new, y_new, indexing\u001B[38;5;241m=\u001B[39m\u001B[38;5;124m'\u001B[39m\u001B[38;5;124mxy\u001B[39m\u001B[38;5;124m'\u001B[39m)\n\u001B[0;32m----> 5\u001B[0m data_new \u001B[38;5;241m=\u001B[39m \u001B[43minterp\u001B[49m\u001B[43m(\u001B[49m\u001B[43m(\u001B[49m\u001B[43mXX_new\u001B[49m\u001B[43m,\u001B[49m\u001B[43m \u001B[49m\u001B[43mYY_new\u001B[49m\u001B[43m)\u001B[49m\u001B[43m,\u001B[49m\u001B[43m \u001B[49m\u001B[43mmethod\u001B[49m\u001B[38;5;241;43m=\u001B[39;49m\u001B[38;5;124;43m'\u001B[39;49m\u001B[38;5;124;43mcubic\u001B[39;49m\u001B[38;5;124;43m'\u001B[39;49m\u001B[43m)\u001B[49m\n\u001B[1;32m      6\u001B[0m \u001B[38;5;66;03m#plt.scatter(XX_new, YY_new, data_new, c='k', marker='s')\u001B[39;00m\n\u001B[1;32m      7\u001B[0m plt\u001B[38;5;241m.\u001B[39mimshow(data_new, origin\u001B[38;5;241m=\u001B[39m\u001B[38;5;124m'\u001B[39m\u001B[38;5;124mlower\u001B[39m\u001B[38;5;124m'\u001B[39m)\n",
      "File \u001B[0;32m~/Gewerbe/Projekte/workspaces/inowas/morpheus/src/backend/.venv/lib/python3.12/site-packages/scipy/interpolate/_rgi.py:354\u001B[0m, in \u001B[0;36mRegularGridInterpolator.__call__\u001B[0;34m(self, xi, method)\u001B[0m\n\u001B[1;32m    352\u001B[0m     \u001B[38;5;28;01mif\u001B[39;00m is_method_changed:\n\u001B[1;32m    353\u001B[0m         \u001B[38;5;28mself\u001B[39m\u001B[38;5;241m.\u001B[39m_validate_grid_dimensions(\u001B[38;5;28mself\u001B[39m\u001B[38;5;241m.\u001B[39mgrid, method)\n\u001B[0;32m--> 354\u001B[0m     result \u001B[38;5;241m=\u001B[39m \u001B[38;5;28;43mself\u001B[39;49m\u001B[38;5;241;43m.\u001B[39;49m\u001B[43m_evaluate_spline\u001B[49m\u001B[43m(\u001B[49m\u001B[43mxi\u001B[49m\u001B[43m,\u001B[49m\u001B[43m \u001B[49m\u001B[43mmethod\u001B[49m\u001B[43m)\u001B[49m\n\u001B[1;32m    356\u001B[0m \u001B[38;5;28;01mif\u001B[39;00m \u001B[38;5;129;01mnot\u001B[39;00m \u001B[38;5;28mself\u001B[39m\u001B[38;5;241m.\u001B[39mbounds_error \u001B[38;5;129;01mand\u001B[39;00m \u001B[38;5;28mself\u001B[39m\u001B[38;5;241m.\u001B[39mfill_value \u001B[38;5;129;01mis\u001B[39;00m \u001B[38;5;129;01mnot\u001B[39;00m \u001B[38;5;28;01mNone\u001B[39;00m:\n\u001B[1;32m    357\u001B[0m     result[out_of_bounds] \u001B[38;5;241m=\u001B[39m \u001B[38;5;28mself\u001B[39m\u001B[38;5;241m.\u001B[39mfill_value\n",
      "File \u001B[0;32m~/Gewerbe/Projekte/workspaces/inowas/morpheus/src/backend/.venv/lib/python3.12/site-packages/scipy/interpolate/_rgi.py:483\u001B[0m, in \u001B[0;36mRegularGridInterpolator._evaluate_spline\u001B[0;34m(self, xi, method)\u001B[0m\n\u001B[1;32m    479\u001B[0m     folded_values \u001B[38;5;241m=\u001B[39m first_values[j, \u001B[38;5;241m.\u001B[39m\u001B[38;5;241m.\u001B[39m\u001B[38;5;241m.\u001B[39m]\n\u001B[1;32m    480\u001B[0m     \u001B[38;5;28;01mfor\u001B[39;00m i \u001B[38;5;129;01min\u001B[39;00m \u001B[38;5;28mrange\u001B[39m(last_dim\u001B[38;5;241m-\u001B[39m\u001B[38;5;241m1\u001B[39m, \u001B[38;5;241m-\u001B[39m\u001B[38;5;241m1\u001B[39m, \u001B[38;5;241m-\u001B[39m\u001B[38;5;241m1\u001B[39m):\n\u001B[1;32m    481\u001B[0m         \u001B[38;5;66;03m# Interpolate for each 1D from the last dimensions.\u001B[39;00m\n\u001B[1;32m    482\u001B[0m         \u001B[38;5;66;03m# This collapses each 1D sequence into a scalar.\u001B[39;00m\n\u001B[0;32m--> 483\u001B[0m         folded_values \u001B[38;5;241m=\u001B[39m \u001B[43m_eval_func\u001B[49m\u001B[43m(\u001B[49m\u001B[38;5;28;43mself\u001B[39;49m\u001B[38;5;241;43m.\u001B[39;49m\u001B[43mgrid\u001B[49m\u001B[43m[\u001B[49m\u001B[43mi\u001B[49m\u001B[43m]\u001B[49m\u001B[43m,\u001B[49m\n\u001B[1;32m    484\u001B[0m \u001B[43m                                   \u001B[49m\u001B[43mfolded_values\u001B[49m\u001B[43m,\u001B[49m\n\u001B[1;32m    485\u001B[0m \u001B[43m                                   \u001B[49m\u001B[43mxi\u001B[49m\u001B[43m[\u001B[49m\u001B[43mj\u001B[49m\u001B[43m,\u001B[49m\u001B[43m \u001B[49m\u001B[43mi\u001B[49m\u001B[43m]\u001B[49m\u001B[43m,\u001B[49m\n\u001B[1;32m    486\u001B[0m \u001B[43m                                   \u001B[49m\u001B[43mk\u001B[49m\u001B[43m)\u001B[49m\n\u001B[1;32m    487\u001B[0m     result[j, \u001B[38;5;241m.\u001B[39m\u001B[38;5;241m.\u001B[39m\u001B[38;5;241m.\u001B[39m] \u001B[38;5;241m=\u001B[39m folded_values\n\u001B[1;32m    489\u001B[0m \u001B[38;5;28;01mreturn\u001B[39;00m result\n",
      "File \u001B[0;32m~/Gewerbe/Projekte/workspaces/inowas/morpheus/src/backend/.venv/lib/python3.12/site-packages/scipy/interpolate/_rgi.py:493\u001B[0m, in \u001B[0;36mRegularGridInterpolator._do_spline_fit\u001B[0;34m(x, y, pt, k)\u001B[0m\n\u001B[1;32m    491\u001B[0m \u001B[38;5;129m@staticmethod\u001B[39m\n\u001B[1;32m    492\u001B[0m \u001B[38;5;28;01mdef\u001B[39;00m \u001B[38;5;21m_do_spline_fit\u001B[39m(x, y, pt, k):\n\u001B[0;32m--> 493\u001B[0m     local_interp \u001B[38;5;241m=\u001B[39m \u001B[43mmake_interp_spline\u001B[49m\u001B[43m(\u001B[49m\u001B[43mx\u001B[49m\u001B[43m,\u001B[49m\u001B[43m \u001B[49m\u001B[43my\u001B[49m\u001B[43m,\u001B[49m\u001B[43m \u001B[49m\u001B[43mk\u001B[49m\u001B[38;5;241;43m=\u001B[39;49m\u001B[43mk\u001B[49m\u001B[43m,\u001B[49m\u001B[43m \u001B[49m\u001B[43maxis\u001B[49m\u001B[38;5;241;43m=\u001B[39;49m\u001B[38;5;241;43m0\u001B[39;49m\u001B[43m)\u001B[49m\n\u001B[1;32m    494\u001B[0m     values \u001B[38;5;241m=\u001B[39m local_interp(pt)\n\u001B[1;32m    495\u001B[0m     \u001B[38;5;28;01mreturn\u001B[39;00m values\n",
      "File \u001B[0;32m~/Gewerbe/Projekte/workspaces/inowas/morpheus/src/backend/.venv/lib/python3.12/site-packages/scipy/interpolate/_bsplines.py:1343\u001B[0m, in \u001B[0;36mmake_interp_spline\u001B[0;34m(x, y, k, t, bc_type, axis, check_finite)\u001B[0m\n\u001B[1;32m   1340\u001B[0m     \u001B[38;5;28;01melse\u001B[39;00m:\n\u001B[1;32m   1341\u001B[0m         t \u001B[38;5;241m=\u001B[39m _augknt(x, k)\n\u001B[0;32m-> 1343\u001B[0m t \u001B[38;5;241m=\u001B[39m \u001B[43m_as_float_array\u001B[49m\u001B[43m(\u001B[49m\u001B[43mt\u001B[49m\u001B[43m,\u001B[49m\u001B[43m \u001B[49m\u001B[43mcheck_finite\u001B[49m\u001B[43m)\u001B[49m\n\u001B[1;32m   1345\u001B[0m \u001B[38;5;28;01mif\u001B[39;00m k \u001B[38;5;241m<\u001B[39m \u001B[38;5;241m0\u001B[39m:\n\u001B[1;32m   1346\u001B[0m     \u001B[38;5;28;01mraise\u001B[39;00m \u001B[38;5;167;01mValueError\u001B[39;00m(\u001B[38;5;124m\"\u001B[39m\u001B[38;5;124mExpect non-negative k.\u001B[39m\u001B[38;5;124m\"\u001B[39m)\n",
      "File \u001B[0;32m~/Gewerbe/Projekte/workspaces/inowas/morpheus/src/backend/.venv/lib/python3.12/site-packages/scipy/interpolate/_bsplines.py:36\u001B[0m, in \u001B[0;36m_as_float_array\u001B[0;34m(x, check_finite)\u001B[0m\n\u001B[1;32m     34\u001B[0m dtyp \u001B[38;5;241m=\u001B[39m _get_dtype(x\u001B[38;5;241m.\u001B[39mdtype)\n\u001B[1;32m     35\u001B[0m x \u001B[38;5;241m=\u001B[39m x\u001B[38;5;241m.\u001B[39mastype(dtyp, copy\u001B[38;5;241m=\u001B[39m\u001B[38;5;28;01mFalse\u001B[39;00m)\n\u001B[0;32m---> 36\u001B[0m \u001B[38;5;28;01mif\u001B[39;00m check_finite \u001B[38;5;129;01mand\u001B[39;00m \u001B[38;5;129;01mnot\u001B[39;00m \u001B[43mnp\u001B[49m\u001B[38;5;241;43m.\u001B[39;49m\u001B[43misfinite\u001B[49m\u001B[43m(\u001B[49m\u001B[43mx\u001B[49m\u001B[43m)\u001B[49m\u001B[38;5;241m.\u001B[39mall():\n\u001B[1;32m     37\u001B[0m     \u001B[38;5;28;01mraise\u001B[39;00m \u001B[38;5;167;01mValueError\u001B[39;00m(\u001B[38;5;124m\"\u001B[39m\u001B[38;5;124mArray must not contain infs or nans.\u001B[39m\u001B[38;5;124m\"\u001B[39m)\n\u001B[1;32m     38\u001B[0m \u001B[38;5;28;01mreturn\u001B[39;00m x\n",
      "\u001B[0;31mKeyboardInterrupt\u001B[0m: "
     ]
    }
   ],
   "source": [
    "x_new = np.linspace(0, 1, 2000)\n",
    "y_new = np.linspace(0, 1, 1000)\n",
    "XX_new, YY_new = np.meshgrid(x_new, y_new, indexing='xy')\n",
    "\n",
    "data_new = interp((XX_new, YY_new), method='cubic')\n",
    "#plt.scatter(XX_new, YY_new, data_new, c='k', marker='s')\n",
    "plt.imshow(data_new, origin='lower')"
   ],
   "metadata": {
    "collapsed": false,
    "ExecuteTime": {
     "end_time": "2024-03-22T09:10:24.457957Z",
     "start_time": "2024-03-22T09:09:33.756468Z"
    }
   },
   "id": "36bf45041db77471"
  },
  {
   "cell_type": "code",
   "execution_count": null,
   "outputs": [],
   "source": [
    "fig = plt.figure()\n",
    "subplot_1 = fig.add_subplot(1, 2, 1)\n",
    "subplot_2 = fig.add_subplot(1, 2, 2)\n",
    "\n",
    "subplot_1.imshow(data, origin='lower')\n",
    "subplot_2.imshow(data_new, origin='lower')"
   ],
   "metadata": {
    "collapsed": false
   },
   "id": "600938dbe7a9bef5"
  },
  {
   "cell_type": "code",
   "execution_count": null,
   "outputs": [],
   "source": [],
   "metadata": {
    "collapsed": false
   },
   "id": "c92a012dc59fe132"
  }
 ],
 "metadata": {
  "kernelspec": {
   "display_name": "Python 3",
   "language": "python",
   "name": "python3"
  },
  "language_info": {
   "codemirror_mode": {
    "name": "ipython",
    "version": 2
   },
   "file_extension": ".py",
   "mimetype": "text/x-python",
   "name": "python",
   "nbconvert_exporter": "python",
   "pygments_lexer": "ipython2",
   "version": "2.7.6"
  }
 },
 "nbformat": 4,
 "nbformat_minor": 5
}
