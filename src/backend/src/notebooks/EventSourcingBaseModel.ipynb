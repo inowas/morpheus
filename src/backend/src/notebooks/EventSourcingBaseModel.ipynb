{
 "cells": [
  {
   "cell_type": "markdown",
   "source": [
    "# Create a Project"
   ],
   "metadata": {
    "collapsed": false
   },
   "id": "740a87482c1f1624"
  },
  {
   "cell_type": "code",
   "outputs": [],
   "source": [
    "from morpheus.modflow.types.User import UserId\n",
    "from morpheus.modflow.types.Project import ProjectId, Name, Description, Tags\n",
    "\n",
    "user_id = UserId.new()\n",
    "project_id = ProjectId.new()\n",
    "name = Name.from_str('Project 1')\n",
    "description = Description.from_str('Description 1')\n",
    "tags = Tags.from_list(['tag1', 'tag2'])\n",
    "\n",
    "from morpheus.modflow.application.write.ProjectCommandHandlers import CreateProjectCommand, CreateProjectCommandHandler\n",
    "\n",
    "create_project_command = CreateProjectCommand(\n",
    "  project_id=project_id,\n",
    "  name=name,\n",
    "  description=description,\n",
    "  tags=tags,\n",
    "  created_by=user_id\n",
    ")\n",
    "\n",
    "CreateProjectCommandHandler.handle(create_project_command)"
   ],
   "metadata": {
    "collapsed": false,
    "ExecuteTime": {
     "end_time": "2024-02-01T14:01:49.750947Z",
     "start_time": "2024-02-01T14:01:48.274294Z"
    }
   },
   "id": "932b4fe5bd839f2",
   "execution_count": 1
  },
  {
   "cell_type": "markdown",
   "source": [
    "# Read ProjectList"
   ],
   "metadata": {
    "collapsed": false
   },
   "id": "9d52b120aa989d1f"
  },
  {
   "cell_type": "code",
   "outputs": [
    {
     "data": {
      "text/plain": "[ProjectSummary(project_id=ProjectId(value='0dc6b307-8de3-4030-aed4-7e7ad46c4411'), project_name=Name(value='Project 1'), project_description=Description(value='Description 1'), project_tags=Tags(value=['tag1', 'tag2']), owner_id=UserId(value='10abf654-d37f-4d11-b4f8-6ec04990af46'), visibility=<Visibility.PRIVATE: 'private'>),\n ProjectSummary(project_id=ProjectId(value='edc0f642-88e8-455e-934b-b35c59b6a4dc'), project_name=Name(value='Project 1'), project_description=Description(value='Description 1'), project_tags=Tags(value=['tag1', 'tag2']), owner_id=UserId(value='ef54d174-e79b-47cd-a353-7f47635158da'), visibility=<Visibility.PRIVATE: 'private'>)]"
     },
     "execution_count": 2,
     "metadata": {},
     "output_type": "execute_result"
    }
   ],
   "source": [
    "from morpheus.modflow.application.read.ProjectsReader import ProjectsReader\n",
    "\n",
    "projects_reader = ProjectsReader()\n",
    "project_list = projects_reader.get_project_summaries()\n",
    "project_list"
   ],
   "metadata": {
    "collapsed": false,
    "ExecuteTime": {
     "end_time": "2024-02-01T14:01:49.759618Z",
     "start_time": "2024-02-01T14:01:49.752152Z"
    }
   },
   "id": "56155ec2f19c768d",
   "execution_count": 2
  },
  {
   "cell_type": "markdown",
   "source": [
    "# Create base model"
   ],
   "metadata": {
    "collapsed": false
   },
   "id": "22380477da429c5d"
  },
  {
   "cell_type": "code",
   "execution_count": 3,
   "outputs": [],
   "source": [
    "from morpheus.modflow.types.discretization.spatial import Rotation, LengthUnit\n",
    "from morpheus.modflow.types.geometry import Polygon\n",
    "from morpheus.modflow.types.ModflowModel import ModelId\n",
    "from morpheus.modflow.application.write.BaseModelCommandHandlers import CreateBaseModelCommand, CreateBaseModelCommandHandler\n",
    "\n",
    "polygon = Polygon(\n",
    "  type='Polygon',\n",
    "  coordinates=[[\n",
    "    (13.922514437551428, 50.964720483303836),\n",
    "    (13.925250781947113, 50.965228748412386),\n",
    "    (13.925036413951403, 50.96623732041704),\n",
    "    (13.92222441026388, 50.96629040370362),\n",
    "    (13.922514437551428, 50.964720483303836)\n",
    "  ]]\n",
    ")\n",
    "\n",
    "nx = 100\n",
    "ny = 50\n",
    "rotation = Rotation.from_float(0.0)\n",
    "length_unit = LengthUnit.meters()\n",
    "\n",
    "create_base_model_command = CreateBaseModelCommand(\n",
    "  project_id=project_id,\n",
    "  model_id=ModelId.new(),\n",
    "  geometry=polygon,\n",
    "  grid_properties={\n",
    "    'nx': nx,\n",
    "    'ny': ny,\n",
    "    'rotation': rotation.to_float(),\n",
    "    'length_unit': length_unit.to_str()\n",
    "  },\n",
    "  created_by=user_id\n",
    ")\n",
    "\n",
    "CreateBaseModelCommandHandler.handle(create_base_model_command)"
   ],
   "metadata": {
    "collapsed": false,
    "ExecuteTime": {
     "end_time": "2024-02-01T14:01:50.131886Z",
     "start_time": "2024-02-01T14:01:49.760004Z"
    }
   },
   "id": "7db50a89dc6391e5"
  },
  {
   "cell_type": "markdown",
   "source": [
    "# Read Latest BaseModel"
   ],
   "metadata": {
    "collapsed": false
   },
   "id": "cde69ee770d30fc1"
  },
  {
   "cell_type": "code",
   "outputs": [
    {
     "data": {
      "text/plain": "ModflowModel(model_id=ModelId(value='2bddd492-e22a-423d-a205-a96c573eef43'), spatial_discretization=SpatialDiscretization(geometry=Polygon(coordinates=[[[13.922514437551428, 50.964720483303836], [13.925250781947113, 50.965228748412386], [13.925036413951403, 50.96623732041704], [13.92222441026388, 50.96629040370362], [13.922514437551428, 50.964720483303836]]], type='Polygon'), grid=Grid(origin=Point(coordinates=[13.922224410263878, 50.9662904037036], type='Point'), x_distances=[3.3689415472885593, 3.3689415472885593, 3.3689415472885598, 3.368941547288559, 3.368941547288559, 3.3689415472885607, 3.3689415472885607, 3.368941547288557, 3.368941547288557, 3.3689415472885607, 3.368941547288564, 3.368941547288557, 3.368941547288557, 3.368941547288564, 3.368941547288557, 3.368941547288557, 3.368941547288564, 3.36894154728855, 3.368941547288564, 3.368941547288557, 3.368941547288557, 3.3689415472885713, 3.368941547288557, 3.368941547288557, 3.368941547288557, 3.368941547288557, 3.3689415472885713, 3.368941547288557, 3.368941547288543, 3.3689415472885713, 3.368941547288557, 3.368941547288557, 3.3689415472885713, 3.368941547288557, 3.368941547288543, 3.368941547288557, 3.3689415472885713, 3.368941547288557, 3.368941547288557, 3.368941547288557, 3.368941547288557, 3.368941547288557, 3.368941547288557, 3.3689415472885855, 3.368941547288557, 3.368941547288557, 3.3689415472885287, 3.3689415472885855, 3.368941547288557, 3.368941547288557, 3.368941547288557, 3.368941547288557, 3.3689415472885855, 3.368941547288557, 3.368941547288557, 3.368941547288557, 3.3689415472885287, 3.368941547288557, 3.368941547288557, 3.3689415472885855, 3.368941547288557, 3.368941547288557, 3.368941547288557, 3.368941547288557, 3.368941547288557, 3.3689415472885855, 3.368941547288557, 3.368941547288557, 3.3689415472885287, 3.368941547288557, 3.368941547288557, 3.368941547288557, 3.3689415472885855, 3.368941547288557, 3.368941547288557, 3.368941547288557, 3.368941547288557, 3.368941547288557, 3.368941547288557, 3.368941547288557, 3.368941547288614, 3.3689415472885003, 3.368941547288557, 3.368941547288557, 3.368941547288557, 3.368941547288557, 3.368941547288557, 3.368941547288614, 3.368941547288557, 3.368941547288557, 3.368941547288557, 3.368941547288557, 3.368941547288557, 3.3689415472885003, 3.368941547288614, 3.368941547288557, 3.368941547288557, 3.368941547288557, 3.368941547288557, 3.368941547288557], y_distances=[5.549889713171869, 5.549889713171869, 5.54988971317187, 5.5498897131718685, 5.549889713171872, 5.5498897131718685, 5.549889713171872, 5.549889713171865, 5.549889713171865, 5.549889713171879, 5.549889713171865, 5.549889713171872, 5.549889713171865, 5.549889713171879, 5.549889713171865, 5.549889713171865, 5.549889713171879, 5.549889713171851, 5.549889713171879, 5.549889713171879, 5.549889713171851, 5.549889713171879, 5.549889713171879, 5.549889713171865, 5.549889713171865, 5.549889713171865, 5.549889713171893, 5.549889713171865, 5.5498897131718365, 5.549889713171893, 5.549889713171865, 5.549889713171865, 5.549889713171893, 5.549889713171865, 5.5498897131718365, 5.549889713171865, 5.549889713171893, 5.549889713171865, 5.549889713171893, 5.549889713171865, 5.5498897131718365, 5.549889713171865, 5.549889713171893, 5.549889713171865, 5.549889713171865, 5.549889713171893, 5.549889713171808, 5.549889713171922, 5.549889713171865, 5.549889713171865], rotation=Rotation(value=0.0), length_unit=LengthUnit(unit=2)), affected_cells=ActiveCells(shape=[50, 100], data=[ActiveCell(x=0, y=0), ActiveCell(x=1, y=0), ActiveCell(x=2, y=0), ActiveCell(x=3, y=0), ActiveCell(x=4, y=0), ActiveCell(x=5, y=0), ActiveCell(x=6, y=0), ActiveCell(x=7, y=0), ActiveCell(x=8, y=0), ActiveCell(x=9, y=0), ActiveCell(x=10, y=0), ActiveCell(x=11, y=0), ActiveCell(x=12, y=0), ActiveCell(x=13, y=0), ActiveCell(x=14, y=0), ActiveCell(x=15, y=0), ActiveCell(x=16, y=0), ActiveCell(x=17, y=0), ActiveCell(x=18, y=0), ActiveCell(x=19, y=0), ActiveCell(x=20, y=0), ActiveCell(x=21, y=0), ActiveCell(x=22, y=0), ActiveCell(x=23, y=0), ActiveCell(x=24, y=0), ActiveCell(x=25, y=0), ActiveCell(x=26, y=0), ActiveCell(x=0, y=1), ActiveCell(x=1, y=1), ActiveCell(x=2, y=1), ActiveCell(x=3, y=1), ActiveCell(x=4, y=1), ActiveCell(x=5, y=1), ActiveCell(x=6, y=1), ActiveCell(x=7, y=1), ActiveCell(x=8, y=1), ActiveCell(x=9, y=1), ActiveCell(x=10, y=1), ActiveCell(x=11, y=1), ActiveCell(x=12, y=1), ActiveCell(x=13, y=1), ActiveCell(x=14, y=1), ActiveCell(x=15, y=1), ActiveCell(x=16, y=1), ActiveCell(x=17, y=1), ActiveCell(x=18, y=1), ActiveCell(x=19, y=1), ActiveCell(x=20, y=1), ActiveCell(x=21, y=1), ActiveCell(x=22, y=1), ActiveCell(x=23, y=1), ActiveCell(x=24, y=1), ActiveCell(x=25, y=1), ActiveCell(x=26, y=1), ActiveCell(x=27, y=1), ActiveCell(x=28, y=1), ActiveCell(x=29, y=1), ActiveCell(x=30, y=1), ActiveCell(x=31, y=1), ActiveCell(x=32, y=1), ActiveCell(x=33, y=1), ActiveCell(x=34, y=1), ActiveCell(x=35, y=1), ActiveCell(x=36, y=1), ActiveCell(x=37, y=1), ActiveCell(x=38, y=1), ActiveCell(x=39, y=1), ActiveCell(x=40, y=1), ActiveCell(x=41, y=1), ActiveCell(x=42, y=1), ActiveCell(x=43, y=1), ActiveCell(x=44, y=1), ActiveCell(x=45, y=1), ActiveCell(x=46, y=1), ActiveCell(x=47, y=1), ActiveCell(x=48, y=1), ActiveCell(x=49, y=1), ActiveCell(x=50, y=1), ActiveCell(x=51, y=1), ActiveCell(x=52, y=1), ActiveCell(x=53, y=1), ActiveCell(x=54, y=1), ActiveCell(x=55, y=1), ActiveCell(x=56, y=1), ActiveCell(x=57, y=1), ActiveCell(x=58, y=1), ActiveCell(x=59, y=1), ActiveCell(x=60, y=1), ActiveCell(x=61, y=1), ActiveCell(x=62, y=1), ActiveCell(x=63, y=1), ActiveCell(x=64, y=1), ActiveCell(x=65, y=1), ActiveCell(x=66, y=1), ActiveCell(x=67, y=1), ActiveCell(x=68, y=1), ActiveCell(x=69, y=1), ActiveCell(x=70, y=1), ActiveCell(x=71, y=1), ActiveCell(x=72, y=1), ActiveCell(x=73, y=1), ActiveCell(x=74, y=1), ActiveCell(x=75, y=1), ActiveCell(x=76, y=1), ActiveCell(x=77, y=1), ActiveCell(x=78, y=1), ActiveCell(x=79, y=1), ActiveCell(x=80, y=1), ActiveCell(x=81, y=1), ActiveCell(x=0, y=2), ActiveCell(x=1, y=2), ActiveCell(x=2, y=2), ActiveCell(x=3, y=2), ActiveCell(x=4, y=2), ActiveCell(x=5, y=2), ActiveCell(x=6, y=2), ActiveCell(x=7, y=2), ActiveCell(x=8, y=2), ActiveCell(x=9, y=2), ActiveCell(x=10, y=2), ActiveCell(x=11, y=2), ActiveCell(x=12, y=2), ActiveCell(x=13, y=2), ActiveCell(x=14, y=2), ActiveCell(x=15, y=2), ActiveCell(x=16, y=2), ActiveCell(x=17, y=2), ActiveCell(x=18, y=2), ActiveCell(x=19, y=2), ActiveCell(x=20, y=2), ActiveCell(x=21, y=2), ActiveCell(x=22, y=2), ActiveCell(x=23, y=2), ActiveCell(x=24, y=2), ActiveCell(x=25, y=2), ActiveCell(x=26, y=2), ActiveCell(x=27, y=2), ActiveCell(x=28, y=2), ActiveCell(x=29, y=2), ActiveCell(x=30, y=2), ActiveCell(x=31, y=2), ActiveCell(x=32, y=2), ActiveCell(x=33, y=2), ActiveCell(x=34, y=2), ActiveCell(x=35, y=2), ActiveCell(x=36, y=2), ActiveCell(x=37, y=2), ActiveCell(x=38, y=2), ActiveCell(x=39, y=2), ActiveCell(x=40, y=2), ActiveCell(x=41, y=2), ActiveCell(x=42, y=2), ActiveCell(x=43, y=2), ActiveCell(x=44, y=2), ActiveCell(x=45, y=2), ActiveCell(x=46, y=2), ActiveCell(x=47, y=2), ActiveCell(x=48, y=2), ActiveCell(x=49, y=2), ActiveCell(x=50, y=2), ActiveCell(x=51, y=2), ActiveCell(x=52, y=2), ActiveCell(x=53, y=2), ActiveCell(x=54, y=2), ActiveCell(x=55, y=2), ActiveCell(x=56, y=2), ActiveCell(x=57, y=2), ActiveCell(x=58, y=2), ActiveCell(x=59, y=2), ActiveCell(x=60, y=2), ActiveCell(x=61, y=2), ActiveCell(x=62, y=2), ActiveCell(x=63, y=2), ActiveCell(x=64, y=2), ActiveCell(x=65, y=2), ActiveCell(x=66, y=2), ActiveCell(x=67, y=2), ActiveCell(x=68, y=2), ActiveCell(x=69, y=2), ActiveCell(x=70, y=2), ActiveCell(x=71, y=2), ActiveCell(x=72, y=2), ActiveCell(x=73, y=2), ActiveCell(x=74, y=2), ActiveCell(x=75, y=2), ActiveCell(x=76, y=2), ActiveCell(x=77, y=2), ActiveCell(x=78, y=2), ActiveCell(x=79, y=2), ActiveCell(x=80, y=2), ActiveCell(x=81, y=2), ActiveCell(x=82, y=2), ActiveCell(x=83, y=2), ActiveCell(x=84, y=2), ActiveCell(x=85, y=2), ActiveCell(x=86, y=2), ActiveCell(x=87, y=2), ActiveCell(x=88, y=2), ActiveCell(x=89, y=2), ActiveCell(x=90, y=2), ActiveCell(x=91, y=2), ActiveCell(x=92, y=2), ActiveCell(x=1, y=3), ActiveCell(x=2, y=3), ActiveCell(x=3, y=3), ActiveCell(x=4, y=3), ActiveCell(x=5, y=3), ActiveCell(x=6, y=3), ActiveCell(x=7, y=3), ActiveCell(x=8, y=3), ActiveCell(x=9, y=3), ActiveCell(x=10, y=3), ActiveCell(x=11, y=3), ActiveCell(x=12, y=3), ActiveCell(x=13, y=3), ActiveCell(x=14, y=3), ActiveCell(x=15, y=3), ActiveCell(x=16, y=3), ActiveCell(x=17, y=3), ActiveCell(x=18, y=3), ActiveCell(x=19, y=3), ActiveCell(x=20, y=3), ActiveCell(x=21, y=3), ActiveCell(x=22, y=3), ActiveCell(x=23, y=3), ActiveCell(x=24, y=3), ActiveCell(x=25, y=3), ActiveCell(x=26, y=3), ActiveCell(x=27, y=3), ActiveCell(x=28, y=3), ActiveCell(x=29, y=3), ActiveCell(x=30, y=3), ActiveCell(x=31, y=3), ActiveCell(x=32, y=3), ActiveCell(x=33, y=3), ActiveCell(x=34, y=3), ActiveCell(x=35, y=3), ActiveCell(x=36, y=3), ActiveCell(x=37, y=3), ActiveCell(x=38, y=3), ActiveCell(x=39, y=3), ActiveCell(x=40, y=3), ActiveCell(x=41, y=3), ActiveCell(x=42, y=3), ActiveCell(x=43, y=3), ActiveCell(x=44, y=3), ActiveCell(x=45, y=3), ActiveCell(x=46, y=3), ActiveCell(x=47, y=3), ActiveCell(x=48, y=3), ActiveCell(x=49, y=3), ActiveCell(x=50, y=3), ActiveCell(x=51, y=3), ActiveCell(x=52, y=3), ActiveCell(x=53, y=3), ActiveCell(x=54, y=3), ActiveCell(x=55, y=3), ActiveCell(x=56, y=3), ActiveCell(x=57, y=3), ActiveCell(x=58, y=3), ActiveCell(x=59, y=3), ActiveCell(x=60, y=3), ActiveCell(x=61, y=3), ActiveCell(x=62, y=3), ActiveCell(x=63, y=3), ActiveCell(x=64, y=3), ActiveCell(x=65, y=3), ActiveCell(x=66, y=3), ActiveCell(x=67, y=3), ActiveCell(x=68, y=3), ActiveCell(x=69, y=3), ActiveCell(x=70, y=3), ActiveCell(x=71, y=3), ActiveCell(x=72, y=3), ActiveCell(x=73, y=3), ActiveCell(x=74, y=3), ActiveCell(x=75, y=3), ActiveCell(x=76, y=3), ActiveCell(x=77, y=3), ActiveCell(x=78, y=3), ActiveCell(x=79, y=3), ActiveCell(x=80, y=3), ActiveCell(x=81, y=3), ActiveCell(x=82, y=3), ActiveCell(x=83, y=3), ActiveCell(x=84, y=3), ActiveCell(x=85, y=3), ActiveCell(x=86, y=3), ActiveCell(x=87, y=3), ActiveCell(x=88, y=3), ActiveCell(x=89, y=3), ActiveCell(x=90, y=3), ActiveCell(x=91, y=3), ActiveCell(x=92, y=3), ActiveCell(x=1, y=4), ActiveCell(x=2, y=4), ActiveCell(x=3, y=4), ActiveCell(x=4, y=4), ActiveCell(x=5, y=4), ActiveCell(x=6, y=4), ActiveCell(x=7, y=4), ActiveCell(x=8, y=4), ActiveCell(x=9, y=4), ActiveCell(x=10, y=4), ActiveCell(x=11, y=4), ActiveCell(x=12, y=4), ActiveCell(x=13, y=4), ActiveCell(x=14, y=4), ActiveCell(x=15, y=4), ActiveCell(x=16, y=4), ActiveCell(x=17, y=4), ActiveCell(x=18, y=4), ActiveCell(x=19, y=4), ActiveCell(x=20, y=4), ActiveCell(x=21, y=4), ActiveCell(x=22, y=4), ActiveCell(x=23, y=4), ActiveCell(x=24, y=4), ActiveCell(x=25, y=4), ActiveCell(x=26, y=4), ActiveCell(x=27, y=4), ActiveCell(x=28, y=4), ActiveCell(x=29, y=4), ActiveCell(x=30, y=4), ActiveCell(x=31, y=4), ActiveCell(x=32, y=4), ActiveCell(x=33, y=4), ActiveCell(x=34, y=4), ActiveCell(x=35, y=4), ActiveCell(x=36, y=4), ActiveCell(x=37, y=4), ActiveCell(x=38, y=4), ActiveCell(x=39, y=4), ActiveCell(x=40, y=4), ActiveCell(x=41, y=4), ActiveCell(x=42, y=4), ActiveCell(x=43, y=4), ActiveCell(x=44, y=4), ActiveCell(x=45, y=4), ActiveCell(x=46, y=4), ActiveCell(x=47, y=4), ActiveCell(x=48, y=4), ActiveCell(x=49, y=4), ActiveCell(x=50, y=4), ActiveCell(x=51, y=4), ActiveCell(x=52, y=4), ActiveCell(x=53, y=4), ActiveCell(x=54, y=4), ActiveCell(x=55, y=4), ActiveCell(x=56, y=4), ActiveCell(x=57, y=4), ActiveCell(x=58, y=4), ActiveCell(x=59, y=4), ActiveCell(x=60, y=4), ActiveCell(x=61, y=4), ActiveCell(x=62, y=4), ActiveCell(x=63, y=4), ActiveCell(x=64, y=4), ActiveCell(x=65, y=4), ActiveCell(x=66, y=4), ActiveCell(x=67, y=4), ActiveCell(x=68, y=4), ActiveCell(x=69, y=4), ActiveCell(x=70, y=4), ActiveCell(x=71, y=4), ActiveCell(x=72, y=4), ActiveCell(x=73, y=4), ActiveCell(x=74, y=4), ActiveCell(x=75, y=4), ActiveCell(x=76, y=4), ActiveCell(x=77, y=4), ActiveCell(x=78, y=4), ActiveCell(x=79, y=4), ActiveCell(x=80, y=4), ActiveCell(x=81, y=4), ActiveCell(x=82, y=4), ActiveCell(x=83, y=4), ActiveCell(x=84, y=4), ActiveCell(x=85, y=4), ActiveCell(x=86, y=4), ActiveCell(x=87, y=4), ActiveCell(x=88, y=4), ActiveCell(x=89, y=4), ActiveCell(x=90, y=4), ActiveCell(x=91, y=4), ActiveCell(x=92, y=4), ActiveCell(x=93, y=4), ActiveCell(x=1, y=5), ActiveCell(x=2, y=5), ActiveCell(x=3, y=5), ActiveCell(x=4, y=5), ActiveCell(x=5, y=5), ActiveCell(x=6, y=5), ActiveCell(x=7, y=5), ActiveCell(x=8, y=5), ActiveCell(x=9, y=5), ActiveCell(x=10, y=5), ActiveCell(x=11, y=5), ActiveCell(x=12, y=5), ActiveCell(x=13, y=5), ActiveCell(x=14, y=5), ActiveCell(x=15, y=5), ActiveCell(x=16, y=5), ActiveCell(x=17, y=5), ActiveCell(x=18, y=5), ActiveCell(x=19, y=5), ActiveCell(x=20, y=5), ActiveCell(x=21, y=5), ActiveCell(x=22, y=5), ActiveCell(x=23, y=5), ActiveCell(x=24, y=5), ActiveCell(x=25, y=5), ActiveCell(x=26, y=5), ActiveCell(x=27, y=5), ActiveCell(x=28, y=5), ActiveCell(x=29, y=5), ActiveCell(x=30, y=5), ActiveCell(x=31, y=5), ActiveCell(x=32, y=5), ActiveCell(x=33, y=5), ActiveCell(x=34, y=5), ActiveCell(x=35, y=5), ActiveCell(x=36, y=5), ActiveCell(x=37, y=5), ActiveCell(x=38, y=5), ActiveCell(x=39, y=5), ActiveCell(x=40, y=5), ActiveCell(x=41, y=5), ActiveCell(x=42, y=5), ActiveCell(x=43, y=5), ActiveCell(x=44, y=5), ActiveCell(x=45, y=5), ActiveCell(x=46, y=5), ActiveCell(x=47, y=5), ActiveCell(x=48, y=5), ActiveCell(x=49, y=5), ActiveCell(x=50, y=5), ActiveCell(x=51, y=5), ActiveCell(x=52, y=5), ActiveCell(x=53, y=5), ActiveCell(x=54, y=5), ActiveCell(x=55, y=5), ActiveCell(x=56, y=5), ActiveCell(x=57, y=5), ActiveCell(x=58, y=5), ActiveCell(x=59, y=5), ActiveCell(x=60, y=5), ActiveCell(x=61, y=5), ActiveCell(x=62, y=5), ActiveCell(x=63, y=5), ActiveCell(x=64, y=5), ActiveCell(x=65, y=5), ActiveCell(x=66, y=5), ActiveCell(x=67, y=5), ActiveCell(x=68, y=5), ActiveCell(x=69, y=5), ActiveCell(x=70, y=5), ActiveCell(x=71, y=5), ActiveCell(x=72, y=5), ActiveCell(x=73, y=5), ActiveCell(x=74, y=5), ActiveCell(x=75, y=5), ActiveCell(x=76, y=5), ActiveCell(x=77, y=5), ActiveCell(x=78, y=5), ActiveCell(x=79, y=5), ActiveCell(x=80, y=5), ActiveCell(x=81, y=5), ActiveCell(x=82, y=5), ActiveCell(x=83, y=5), ActiveCell(x=84, y=5), ActiveCell(x=85, y=5), ActiveCell(x=86, y=5), ActiveCell(x=87, y=5), ActiveCell(x=88, y=5), ActiveCell(x=89, y=5), ActiveCell(x=90, y=5), ActiveCell(x=91, y=5), ActiveCell(x=92, y=5), ActiveCell(x=93, y=5), ActiveCell(x=1, y=6), ActiveCell(x=2, y=6), ActiveCell(x=3, y=6), ActiveCell(x=4, y=6), ActiveCell(x=5, y=6), ActiveCell(x=6, y=6), ActiveCell(x=7, y=6), ActiveCell(x=8, y=6), ActiveCell(x=9, y=6), ActiveCell(x=10, y=6), ActiveCell(x=11, y=6), ActiveCell(x=12, y=6), ActiveCell(x=13, y=6), ActiveCell(x=14, y=6), ActiveCell(x=15, y=6), ActiveCell(x=16, y=6), ActiveCell(x=17, y=6), ActiveCell(x=18, y=6), ActiveCell(x=19, y=6), ActiveCell(x=20, y=6), ActiveCell(x=21, y=6), ActiveCell(x=22, y=6), ActiveCell(x=23, y=6), ActiveCell(x=24, y=6), ActiveCell(x=25, y=6), ActiveCell(x=26, y=6), ActiveCell(x=27, y=6), ActiveCell(x=28, y=6), ActiveCell(x=29, y=6), ActiveCell(x=30, y=6), ActiveCell(x=31, y=6), ActiveCell(x=32, y=6), ActiveCell(x=33, y=6), ActiveCell(x=34, y=6), ActiveCell(x=35, y=6), ActiveCell(x=36, y=6), ActiveCell(x=37, y=6), ActiveCell(x=38, y=6), ActiveCell(x=39, y=6), ActiveCell(x=40, y=6), ActiveCell(x=41, y=6), ActiveCell(x=42, y=6), ActiveCell(x=43, y=6), ActiveCell(x=44, y=6), ActiveCell(x=45, y=6), ActiveCell(x=46, y=6), ActiveCell(x=47, y=6), ActiveCell(x=48, y=6), ActiveCell(x=49, y=6), ActiveCell(x=50, y=6), ActiveCell(x=51, y=6), ActiveCell(x=52, y=6), ActiveCell(x=53, y=6), ActiveCell(x=54, y=6), ActiveCell(x=55, y=6), ActiveCell(x=56, y=6), ActiveCell(x=57, y=6), ActiveCell(x=58, y=6), ActiveCell(x=59, y=6), ActiveCell(x=60, y=6), ActiveCell(x=61, y=6), ActiveCell(x=62, y=6), ActiveCell(x=63, y=6), ActiveCell(x=64, y=6), ActiveCell(x=65, y=6), ActiveCell(x=66, y=6), ActiveCell(x=67, y=6), ActiveCell(x=68, y=6), ActiveCell(x=69, y=6), ActiveCell(x=70, y=6), ActiveCell(x=71, y=6), ActiveCell(x=72, y=6), ActiveCell(x=73, y=6), ActiveCell(x=74, y=6), ActiveCell(x=75, y=6), ActiveCell(x=76, y=6), ActiveCell(x=77, y=6), ActiveCell(x=78, y=6), ActiveCell(x=79, y=6), ActiveCell(x=80, y=6), ActiveCell(x=81, y=6), ActiveCell(x=82, y=6), ActiveCell(x=83, y=6), ActiveCell(x=84, y=6), ActiveCell(x=85, y=6), ActiveCell(x=86, y=6), ActiveCell(x=87, y=6), ActiveCell(x=88, y=6), ActiveCell(x=89, y=6), ActiveCell(x=90, y=6), ActiveCell(x=91, y=6), ActiveCell(x=92, y=6), ActiveCell(x=93, y=6), ActiveCell(x=1, y=7), ActiveCell(x=2, y=7), ActiveCell(x=3, y=7), ActiveCell(x=4, y=7), ActiveCell(x=5, y=7), ActiveCell(x=6, y=7), ActiveCell(x=7, y=7), ActiveCell(x=8, y=7), ActiveCell(x=9, y=7), ActiveCell(x=10, y=7), ActiveCell(x=11, y=7), ActiveCell(x=12, y=7), ActiveCell(x=13, y=7), ActiveCell(x=14, y=7), ActiveCell(x=15, y=7), ActiveCell(x=16, y=7), ActiveCell(x=17, y=7), ActiveCell(x=18, y=7), ActiveCell(x=19, y=7), ActiveCell(x=20, y=7), ActiveCell(x=21, y=7), ActiveCell(x=22, y=7), ActiveCell(x=23, y=7), ActiveCell(x=24, y=7), ActiveCell(x=25, y=7), ActiveCell(x=26, y=7), ActiveCell(x=27, y=7), ActiveCell(x=28, y=7), ActiveCell(x=29, y=7), ActiveCell(x=30, y=7), ActiveCell(x=31, y=7), ActiveCell(x=32, y=7), ActiveCell(x=33, y=7), ActiveCell(x=34, y=7), ActiveCell(x=35, y=7), ActiveCell(x=36, y=7), ActiveCell(x=37, y=7), ActiveCell(x=38, y=7), ActiveCell(x=39, y=7), ActiveCell(x=40, y=7), ActiveCell(x=41, y=7), ActiveCell(x=42, y=7), ActiveCell(x=43, y=7), ActiveCell(x=44, y=7), ActiveCell(x=45, y=7), ActiveCell(x=46, y=7), ActiveCell(x=47, y=7), ActiveCell(x=48, y=7), ActiveCell(x=49, y=7), ActiveCell(x=50, y=7), ActiveCell(x=51, y=7), ActiveCell(x=52, y=7), ActiveCell(x=53, y=7), ActiveCell(x=54, y=7), ActiveCell(x=55, y=7), ActiveCell(x=56, y=7), ActiveCell(x=57, y=7), ActiveCell(x=58, y=7), ActiveCell(x=59, y=7), ActiveCell(x=60, y=7), ActiveCell(x=61, y=7), ActiveCell(x=62, y=7), ActiveCell(x=63, y=7), ActiveCell(x=64, y=7), ActiveCell(x=65, y=7), ActiveCell(x=66, y=7), ActiveCell(x=67, y=7), ActiveCell(x=68, y=7), ActiveCell(x=69, y=7), ActiveCell(x=70, y=7), ActiveCell(x=71, y=7), ActiveCell(x=72, y=7), ActiveCell(x=73, y=7), ActiveCell(x=74, y=7), ActiveCell(x=75, y=7), ActiveCell(x=76, y=7), ActiveCell(x=77, y=7), ActiveCell(x=78, y=7), ActiveCell(x=79, y=7), ActiveCell(x=80, y=7), ActiveCell(x=81, y=7), ActiveCell(x=82, y=7), ActiveCell(x=83, y=7), ActiveCell(x=84, y=7), ActiveCell(x=85, y=7), ActiveCell(x=86, y=7), ActiveCell(x=87, y=7), ActiveCell(x=88, y=7), ActiveCell(x=89, y=7), ActiveCell(x=90, y=7), ActiveCell(x=91, y=7), ActiveCell(x=92, y=7), ActiveCell(x=93, y=7), ActiveCell(x=2, y=8), ActiveCell(x=3, y=8), ActiveCell(x=4, y=8), ActiveCell(x=5, y=8), ActiveCell(x=6, y=8), ActiveCell(x=7, y=8), ActiveCell(x=8, y=8), ActiveCell(x=9, y=8), ActiveCell(x=10, y=8), ActiveCell(x=11, y=8), ActiveCell(x=12, y=8), ActiveCell(x=13, y=8), ActiveCell(x=14, y=8), ActiveCell(x=15, y=8), ActiveCell(x=16, y=8), ActiveCell(x=17, y=8), ActiveCell(x=18, y=8), ActiveCell(x=19, y=8), ActiveCell(x=20, y=8), ActiveCell(x=21, y=8), ActiveCell(x=22, y=8), ActiveCell(x=23, y=8), ActiveCell(x=24, y=8), ActiveCell(x=25, y=8), ActiveCell(x=26, y=8), ActiveCell(x=27, y=8), ActiveCell(x=28, y=8), ActiveCell(x=29, y=8), ActiveCell(x=30, y=8), ActiveCell(x=31, y=8), ActiveCell(x=32, y=8), ActiveCell(x=33, y=8), ActiveCell(x=34, y=8), ActiveCell(x=35, y=8), ActiveCell(x=36, y=8), ActiveCell(x=37, y=8), ActiveCell(x=38, y=8), ActiveCell(x=39, y=8), ActiveCell(x=40, y=8), ActiveCell(x=41, y=8), ActiveCell(x=42, y=8), ActiveCell(x=43, y=8), ActiveCell(x=44, y=8), ActiveCell(x=45, y=8), ActiveCell(x=46, y=8), ActiveCell(x=47, y=8), ActiveCell(x=48, y=8), ActiveCell(x=49, y=8), ActiveCell(x=50, y=8), ActiveCell(x=51, y=8), ActiveCell(x=52, y=8), ActiveCell(x=53, y=8), ActiveCell(x=54, y=8), ActiveCell(x=55, y=8), ActiveCell(x=56, y=8), ActiveCell(x=57, y=8), ActiveCell(x=58, y=8), ActiveCell(x=59, y=8), ActiveCell(x=60, y=8), ActiveCell(x=61, y=8), ActiveCell(x=62, y=8), ActiveCell(x=63, y=8), ActiveCell(x=64, y=8), ActiveCell(x=65, y=8), ActiveCell(x=66, y=8), ActiveCell(x=67, y=8), ActiveCell(x=68, y=8), ActiveCell(x=69, y=8), ActiveCell(x=70, y=8), ActiveCell(x=71, y=8), ActiveCell(x=72, y=8), ActiveCell(x=73, y=8), ActiveCell(x=74, y=8), ActiveCell(x=75, y=8), ActiveCell(x=76, y=8), ActiveCell(x=77, y=8), ActiveCell(x=78, y=8), ActiveCell(x=79, y=8), ActiveCell(x=80, y=8), ActiveCell(x=81, y=8), ActiveCell(x=82, y=8), ActiveCell(x=83, y=8), ActiveCell(x=84, y=8), ActiveCell(x=85, y=8), ActiveCell(x=86, y=8), ActiveCell(x=87, y=8), ActiveCell(x=88, y=8), ActiveCell(x=89, y=8), ActiveCell(x=90, y=8), ActiveCell(x=91, y=8), ActiveCell(x=92, y=8), ActiveCell(x=93, y=8), ActiveCell(x=2, y=9), ActiveCell(x=3, y=9), ActiveCell(x=4, y=9), ActiveCell(x=5, y=9), ActiveCell(x=6, y=9), ActiveCell(x=7, y=9), ActiveCell(x=8, y=9), ActiveCell(x=9, y=9), ActiveCell(x=10, y=9), ActiveCell(x=11, y=9), ActiveCell(x=12, y=9), ActiveCell(x=13, y=9), ActiveCell(x=14, y=9), ActiveCell(x=15, y=9), ActiveCell(x=16, y=9), ActiveCell(x=17, y=9), ActiveCell(x=18, y=9), ActiveCell(x=19, y=9), ActiveCell(x=20, y=9), ActiveCell(x=21, y=9), ActiveCell(x=22, y=9), ActiveCell(x=23, y=9), ActiveCell(x=24, y=9), ActiveCell(x=25, y=9), ActiveCell(x=26, y=9), ActiveCell(x=27, y=9), ActiveCell(x=28, y=9), ActiveCell(x=29, y=9), ActiveCell(x=30, y=9), ActiveCell(x=31, y=9), ActiveCell(x=32, y=9), ActiveCell(x=33, y=9), ActiveCell(x=34, y=9), ActiveCell(x=35, y=9), ActiveCell(x=36, y=9), ActiveCell(x=37, y=9), ActiveCell(x=38, y=9), ActiveCell(x=39, y=9), ActiveCell(x=40, y=9), ActiveCell(x=41, y=9), ActiveCell(x=42, y=9), ActiveCell(x=43, y=9), ActiveCell(x=44, y=9), ActiveCell(x=45, y=9), ActiveCell(x=46, y=9), ActiveCell(x=47, y=9), ActiveCell(x=48, y=9), ActiveCell(x=49, y=9), ActiveCell(x=50, y=9), ActiveCell(x=51, y=9), ActiveCell(x=52, y=9), ActiveCell(x=53, y=9), ActiveCell(x=54, y=9), ActiveCell(x=55, y=9), ActiveCell(x=56, y=9), ActiveCell(x=57, y=9), ActiveCell(x=58, y=9), ActiveCell(x=59, y=9), ActiveCell(x=60, y=9), ActiveCell(x=61, y=9), ActiveCell(x=62, y=9), ActiveCell(x=63, y=9), ActiveCell(x=64, y=9), ActiveCell(x=65, y=9), ActiveCell(x=66, y=9), ActiveCell(x=67, y=9), ActiveCell(x=68, y=9), ActiveCell(x=69, y=9), ActiveCell(x=70, y=9), ActiveCell(x=71, y=9), ActiveCell(x=72, y=9), ActiveCell(x=73, y=9), ActiveCell(x=74, y=9), ActiveCell(x=75, y=9), ActiveCell(x=76, y=9), ActiveCell(x=77, y=9), ActiveCell(x=78, y=9), ActiveCell(x=79, y=9), ActiveCell(x=80, y=9), ActiveCell(x=81, y=9), ActiveCell(x=82, y=9), ActiveCell(x=83, y=9), ActiveCell(x=84, y=9), ActiveCell(x=85, y=9), ActiveCell(x=86, y=9), ActiveCell(x=87, y=9), ActiveCell(x=88, y=9), ActiveCell(x=89, y=9), ActiveCell(x=90, y=9), ActiveCell(x=91, y=9), ActiveCell(x=92, y=9), ActiveCell(x=93, y=9), ActiveCell(x=94, y=9), ActiveCell(x=2, y=10), ActiveCell(x=3, y=10), ActiveCell(x=4, y=10), ActiveCell(x=5, y=10), ActiveCell(x=6, y=10), ActiveCell(x=7, y=10), ActiveCell(x=8, y=10), ActiveCell(x=9, y=10), ActiveCell(x=10, y=10), ActiveCell(x=11, y=10), ActiveCell(x=12, y=10), ActiveCell(x=13, y=10), ActiveCell(x=14, y=10), ActiveCell(x=15, y=10), ActiveCell(x=16, y=10), ActiveCell(x=17, y=10), ActiveCell(x=18, y=10), ActiveCell(x=19, y=10), ActiveCell(x=20, y=10), ActiveCell(x=21, y=10), ActiveCell(x=22, y=10), ActiveCell(x=23, y=10), ActiveCell(x=24, y=10), ActiveCell(x=25, y=10), ActiveCell(x=26, y=10), ActiveCell(x=27, y=10), ActiveCell(x=28, y=10), ActiveCell(x=29, y=10), ActiveCell(x=30, y=10), ActiveCell(x=31, y=10), ActiveCell(x=32, y=10), ActiveCell(x=33, y=10), ActiveCell(x=34, y=10), ActiveCell(x=35, y=10), ActiveCell(x=36, y=10), ActiveCell(x=37, y=10), ActiveCell(x=38, y=10), ActiveCell(x=39, y=10), ActiveCell(x=40, y=10), ActiveCell(x=41, y=10), ActiveCell(x=42, y=10), ActiveCell(x=43, y=10), ActiveCell(x=44, y=10), ActiveCell(x=45, y=10), ActiveCell(x=46, y=10), ActiveCell(x=47, y=10), ActiveCell(x=48, y=10), ActiveCell(x=49, y=10), ActiveCell(x=50, y=10), ActiveCell(x=51, y=10), ActiveCell(x=52, y=10), ActiveCell(x=53, y=10), ActiveCell(x=54, y=10), ActiveCell(x=55, y=10), ActiveCell(x=56, y=10), ActiveCell(x=57, y=10), ActiveCell(x=58, y=10), ActiveCell(x=59, y=10), ActiveCell(x=60, y=10), ActiveCell(x=61, y=10), ActiveCell(x=62, y=10), ActiveCell(x=63, y=10), ActiveCell(x=64, y=10), ActiveCell(x=65, y=10), ActiveCell(x=66, y=10), ActiveCell(x=67, y=10), ActiveCell(x=68, y=10), ActiveCell(x=69, y=10), ActiveCell(x=70, y=10), ActiveCell(x=71, y=10), ActiveCell(x=72, y=10), ActiveCell(x=73, y=10), ActiveCell(x=74, y=10), ActiveCell(x=75, y=10), ActiveCell(x=76, y=10), ActiveCell(x=77, y=10), ActiveCell(x=78, y=10), ActiveCell(x=79, y=10), ActiveCell(x=80, y=10), ActiveCell(x=81, y=10), ActiveCell(x=82, y=10), ActiveCell(x=83, y=10), ActiveCell(x=84, y=10), ActiveCell(x=85, y=10), ActiveCell(x=86, y=10), ActiveCell(x=87, y=10), ActiveCell(x=88, y=10), ActiveCell(x=89, y=10), ActiveCell(x=90, y=10), ActiveCell(x=91, y=10), ActiveCell(x=92, y=10), ActiveCell(x=93, y=10), ActiveCell(x=94, y=10), ActiveCell(x=2, y=11), ActiveCell(x=3, y=11), ActiveCell(x=4, y=11), ActiveCell(x=5, y=11), ActiveCell(x=6, y=11), ActiveCell(x=7, y=11), ActiveCell(x=8, y=11), ActiveCell(x=9, y=11), ActiveCell(x=10, y=11), ActiveCell(x=11, y=11), ActiveCell(x=12, y=11), ActiveCell(x=13, y=11), ActiveCell(x=14, y=11), ActiveCell(x=15, y=11), ActiveCell(x=16, y=11), ActiveCell(x=17, y=11), ActiveCell(x=18, y=11), ActiveCell(x=19, y=11), ActiveCell(x=20, y=11), ActiveCell(x=21, y=11), ActiveCell(x=22, y=11), ActiveCell(x=23, y=11), ActiveCell(x=24, y=11), ActiveCell(x=25, y=11), ActiveCell(x=26, y=11), ActiveCell(x=27, y=11), ActiveCell(x=28, y=11), ActiveCell(x=29, y=11), ActiveCell(x=30, y=11), ActiveCell(x=31, y=11), ActiveCell(x=32, y=11), ActiveCell(x=33, y=11), ActiveCell(x=34, y=11), ActiveCell(x=35, y=11), ActiveCell(x=36, y=11), ActiveCell(x=37, y=11), ActiveCell(x=38, y=11), ActiveCell(x=39, y=11), ActiveCell(x=40, y=11), ActiveCell(x=41, y=11), ActiveCell(x=42, y=11), ActiveCell(x=43, y=11), ActiveCell(x=44, y=11), ActiveCell(x=45, y=11), ActiveCell(x=46, y=11), ActiveCell(x=47, y=11), ActiveCell(x=48, y=11), ActiveCell(x=49, y=11), ActiveCell(x=50, y=11), ActiveCell(x=51, y=11), ActiveCell(x=52, y=11), ActiveCell(x=53, y=11), ActiveCell(x=54, y=11), ActiveCell(x=55, y=11), ActiveCell(x=56, y=11), ActiveCell(x=57, y=11), ActiveCell(x=58, y=11), ActiveCell(x=59, y=11), ActiveCell(x=60, y=11), ActiveCell(x=61, y=11), ActiveCell(x=62, y=11), ActiveCell(x=63, y=11), ActiveCell(x=64, y=11), ActiveCell(x=65, y=11), ActiveCell(x=66, y=11), ActiveCell(x=67, y=11), ActiveCell(x=68, y=11), ActiveCell(x=69, y=11), ActiveCell(x=70, y=11), ActiveCell(x=71, y=11), ActiveCell(x=72, y=11), ActiveCell(x=73, y=11), ActiveCell(x=74, y=11), ActiveCell(x=75, y=11), ActiveCell(x=76, y=11), ActiveCell(x=77, y=11), ActiveCell(x=78, y=11), ActiveCell(x=79, y=11), ActiveCell(x=80, y=11), ActiveCell(x=81, y=11), ActiveCell(x=82, y=11), ActiveCell(x=83, y=11), ActiveCell(x=84, y=11), ActiveCell(x=85, y=11), ActiveCell(x=86, y=11), ActiveCell(x=87, y=11), ActiveCell(x=88, y=11), ActiveCell(x=89, y=11), ActiveCell(x=90, y=11), ActiveCell(x=91, y=11), ActiveCell(x=92, y=11), ActiveCell(x=93, y=11), ActiveCell(x=94, y=11), ActiveCell(x=2, y=12), ActiveCell(x=3, y=12), ActiveCell(x=4, y=12), ActiveCell(x=5, y=12), ActiveCell(x=6, y=12), ActiveCell(x=7, y=12), ActiveCell(x=8, y=12), ActiveCell(x=9, y=12), ActiveCell(x=10, y=12), ActiveCell(x=11, y=12), ActiveCell(x=12, y=12), ActiveCell(x=13, y=12), ActiveCell(x=14, y=12), ActiveCell(x=15, y=12), ActiveCell(x=16, y=12), ActiveCell(x=17, y=12), ActiveCell(x=18, y=12), ActiveCell(x=19, y=12), ActiveCell(x=20, y=12), ActiveCell(x=21, y=12), ActiveCell(x=22, y=12), ActiveCell(x=23, y=12), ActiveCell(x=24, y=12), ActiveCell(x=25, y=12), ActiveCell(x=26, y=12), ActiveCell(x=27, y=12), ActiveCell(x=28, y=12), ActiveCell(x=29, y=12), ActiveCell(x=30, y=12), ActiveCell(x=31, y=12), ActiveCell(x=32, y=12), ActiveCell(x=33, y=12), ActiveCell(x=34, y=12), ActiveCell(x=35, y=12), ActiveCell(x=36, y=12), ActiveCell(x=37, y=12), ActiveCell(x=38, y=12), ActiveCell(x=39, y=12), ActiveCell(x=40, y=12), ActiveCell(x=41, y=12), ActiveCell(x=42, y=12), ActiveCell(x=43, y=12), ActiveCell(x=44, y=12), ActiveCell(x=45, y=12), ActiveCell(x=46, y=12), ActiveCell(x=47, y=12), ActiveCell(x=48, y=12), ActiveCell(x=49, y=12), ActiveCell(x=50, y=12), ActiveCell(x=51, y=12), ActiveCell(x=52, y=12), ActiveCell(x=53, y=12), ActiveCell(x=54, y=12), ActiveCell(x=55, y=12), ActiveCell(x=56, y=12), ActiveCell(x=57, y=12), ActiveCell(x=58, y=12), ActiveCell(x=59, y=12), ActiveCell(x=60, y=12), ActiveCell(x=61, y=12), ActiveCell(x=62, y=12), ActiveCell(x=63, y=12), ActiveCell(x=64, y=12), ActiveCell(x=65, y=12), ActiveCell(x=66, y=12), ActiveCell(x=67, y=12), ActiveCell(x=68, y=12), ActiveCell(x=69, y=12), ActiveCell(x=70, y=12), ActiveCell(x=71, y=12), ActiveCell(x=72, y=12), ActiveCell(x=73, y=12), ActiveCell(x=74, y=12), ActiveCell(x=75, y=12), ActiveCell(x=76, y=12), ActiveCell(x=77, y=12), ActiveCell(x=78, y=12), ActiveCell(x=79, y=12), ActiveCell(x=80, y=12), ActiveCell(x=81, y=12), ActiveCell(x=82, y=12), ActiveCell(x=83, y=12), ActiveCell(x=84, y=12), ActiveCell(x=85, y=12), ActiveCell(x=86, y=12), ActiveCell(x=87, y=12), ActiveCell(x=88, y=12), ActiveCell(x=89, y=12), ActiveCell(x=90, y=12), ActiveCell(x=91, y=12), ActiveCell(x=92, y=12), ActiveCell(x=93, y=12), ActiveCell(x=94, y=12), ActiveCell(x=3, y=13), ActiveCell(x=4, y=13), ActiveCell(x=5, y=13), ActiveCell(x=6, y=13), ActiveCell(x=7, y=13), ActiveCell(x=8, y=13), ActiveCell(x=9, y=13), ActiveCell(x=10, y=13), ActiveCell(x=11, y=13), ActiveCell(x=12, y=13), ActiveCell(x=13, y=13), ActiveCell(x=14, y=13), ActiveCell(x=15, y=13), ActiveCell(x=16, y=13), ActiveCell(x=17, y=13), ActiveCell(x=18, y=13), ActiveCell(x=19, y=13), ActiveCell(x=20, y=13), ActiveCell(x=21, y=13), ActiveCell(x=22, y=13), ActiveCell(x=23, y=13), ActiveCell(x=24, y=13), ActiveCell(x=25, y=13), ActiveCell(x=26, y=13), ActiveCell(x=27, y=13), ActiveCell(x=28, y=13), ActiveCell(x=29, y=13), ActiveCell(x=30, y=13), ActiveCell(x=31, y=13), ActiveCell(x=32, y=13), ActiveCell(x=33, y=13), ActiveCell(x=34, y=13), ActiveCell(x=35, y=13), ActiveCell(x=36, y=13), ActiveCell(x=37, y=13), ActiveCell(x=38, y=13), ActiveCell(x=39, y=13), ActiveCell(x=40, y=13), ActiveCell(x=41, y=13), ActiveCell(x=42, y=13), ActiveCell(x=43, y=13), ActiveCell(x=44, y=13), ActiveCell(x=45, y=13), ActiveCell(x=46, y=13), ActiveCell(x=47, y=13), ActiveCell(x=48, y=13), ActiveCell(x=49, y=13), ActiveCell(x=50, y=13), ActiveCell(x=51, y=13), ActiveCell(x=52, y=13), ActiveCell(x=53, y=13), ActiveCell(x=54, y=13), ActiveCell(x=55, y=13), ActiveCell(x=56, y=13), ActiveCell(x=57, y=13), ActiveCell(x=58, y=13), ActiveCell(x=59, y=13), ActiveCell(x=60, y=13), ActiveCell(x=61, y=13), ActiveCell(x=62, y=13), ActiveCell(x=63, y=13), ActiveCell(x=64, y=13), ActiveCell(x=65, y=13), ActiveCell(x=66, y=13), ActiveCell(x=67, y=13), ActiveCell(x=68, y=13), ActiveCell(x=69, y=13), ActiveCell(x=70, y=13), ActiveCell(x=71, y=13), ActiveCell(x=72, y=13), ActiveCell(x=73, y=13), ActiveCell(x=74, y=13), ActiveCell(x=75, y=13), ActiveCell(x=76, y=13), ActiveCell(x=77, y=13), ActiveCell(x=78, y=13), ActiveCell(x=79, y=13), ActiveCell(x=80, y=13), ActiveCell(x=81, y=13), ActiveCell(x=82, y=13), ActiveCell(x=83, y=13), ActiveCell(x=84, y=13), ActiveCell(x=85, y=13), ActiveCell(x=86, y=13), ActiveCell(x=87, y=13), ActiveCell(x=88, y=13), ActiveCell(x=89, y=13), ActiveCell(x=90, y=13), ActiveCell(x=91, y=13), ActiveCell(x=92, y=13), ActiveCell(x=93, y=13), ActiveCell(x=94, y=13), ActiveCell(x=95, y=13), ActiveCell(x=3, y=14), ActiveCell(x=4, y=14), ActiveCell(x=5, y=14), ActiveCell(x=6, y=14), ActiveCell(x=7, y=14), ActiveCell(x=8, y=14), ActiveCell(x=9, y=14), ActiveCell(x=10, y=14), ActiveCell(x=11, y=14), ActiveCell(x=12, y=14), ActiveCell(x=13, y=14), ActiveCell(x=14, y=14), ActiveCell(x=15, y=14), ActiveCell(x=16, y=14), ActiveCell(x=17, y=14), ActiveCell(x=18, y=14), ActiveCell(x=19, y=14), ActiveCell(x=20, y=14), ActiveCell(x=21, y=14), ActiveCell(x=22, y=14), ActiveCell(x=23, y=14), ActiveCell(x=24, y=14), ActiveCell(x=25, y=14), ActiveCell(x=26, y=14), ActiveCell(x=27, y=14), ActiveCell(x=28, y=14), ActiveCell(x=29, y=14), ActiveCell(x=30, y=14), ActiveCell(x=31, y=14), ActiveCell(x=32, y=14), ActiveCell(x=33, y=14), ActiveCell(x=34, y=14), ActiveCell(x=35, y=14), ActiveCell(x=36, y=14), ActiveCell(x=37, y=14), ActiveCell(x=38, y=14), ActiveCell(x=39, y=14), ActiveCell(x=40, y=14), ActiveCell(x=41, y=14), ActiveCell(x=42, y=14), ActiveCell(x=43, y=14), ActiveCell(x=44, y=14), ActiveCell(x=45, y=14), ActiveCell(x=46, y=14), ActiveCell(x=47, y=14), ActiveCell(x=48, y=14), ActiveCell(x=49, y=14), ActiveCell(x=50, y=14), ActiveCell(x=51, y=14), ActiveCell(x=52, y=14), ActiveCell(x=53, y=14), ActiveCell(x=54, y=14), ActiveCell(x=55, y=14), ActiveCell(x=56, y=14), ActiveCell(x=57, y=14), ActiveCell(x=58, y=14), ActiveCell(x=59, y=14), ActiveCell(x=60, y=14), ActiveCell(x=61, y=14), ActiveCell(x=62, y=14), ActiveCell(x=63, y=14), ActiveCell(x=64, y=14), ActiveCell(x=65, y=14), ActiveCell(x=66, y=14), ActiveCell(x=67, y=14), ActiveCell(x=68, y=14), ActiveCell(x=69, y=14), ActiveCell(x=70, y=14), ActiveCell(x=71, y=14), ActiveCell(x=72, y=14), ActiveCell(x=73, y=14), ActiveCell(x=74, y=14), ActiveCell(x=75, y=14), ActiveCell(x=76, y=14), ActiveCell(x=77, y=14), ActiveCell(x=78, y=14), ActiveCell(x=79, y=14), ActiveCell(x=80, y=14), ActiveCell(x=81, y=14), ActiveCell(x=82, y=14), ActiveCell(x=83, y=14), ActiveCell(x=84, y=14), ActiveCell(x=85, y=14), ActiveCell(x=86, y=14), ActiveCell(x=87, y=14), ActiveCell(x=88, y=14), ActiveCell(x=89, y=14), ActiveCell(x=90, y=14), ActiveCell(x=91, y=14), ActiveCell(x=92, y=14), ActiveCell(x=93, y=14), ActiveCell(x=94, y=14), ActiveCell(x=95, y=14), ActiveCell(x=3, y=15), ActiveCell(x=4, y=15), ActiveCell(x=5, y=15), ActiveCell(x=6, y=15), ActiveCell(x=7, y=15), ActiveCell(x=8, y=15), ActiveCell(x=9, y=15), ActiveCell(x=10, y=15), ActiveCell(x=11, y=15), ActiveCell(x=12, y=15), ActiveCell(x=13, y=15), ActiveCell(x=14, y=15), ActiveCell(x=15, y=15), ActiveCell(x=16, y=15), ActiveCell(x=17, y=15), ActiveCell(x=18, y=15), ActiveCell(x=19, y=15), ActiveCell(x=20, y=15), ActiveCell(x=21, y=15), ActiveCell(x=22, y=15), ActiveCell(x=23, y=15), ActiveCell(x=24, y=15), ActiveCell(x=25, y=15), ActiveCell(x=26, y=15), ActiveCell(x=27, y=15), ActiveCell(x=28, y=15), ActiveCell(x=29, y=15), ActiveCell(x=30, y=15), ActiveCell(x=31, y=15), ActiveCell(x=32, y=15), ActiveCell(x=33, y=15), ActiveCell(x=34, y=15), ActiveCell(x=35, y=15), ActiveCell(x=36, y=15), ActiveCell(x=37, y=15), ActiveCell(x=38, y=15), ActiveCell(x=39, y=15), ActiveCell(x=40, y=15), ActiveCell(x=41, y=15), ActiveCell(x=42, y=15), ActiveCell(x=43, y=15), ActiveCell(x=44, y=15), ActiveCell(x=45, y=15), ActiveCell(x=46, y=15), ActiveCell(x=47, y=15), ActiveCell(x=48, y=15), ActiveCell(x=49, y=15), ActiveCell(x=50, y=15), ActiveCell(x=51, y=15), ActiveCell(x=52, y=15), ActiveCell(x=53, y=15), ActiveCell(x=54, y=15), ActiveCell(x=55, y=15), ActiveCell(x=56, y=15), ActiveCell(x=57, y=15), ActiveCell(x=58, y=15), ActiveCell(x=59, y=15), ActiveCell(x=60, y=15), ActiveCell(x=61, y=15), ActiveCell(x=62, y=15), ActiveCell(x=63, y=15), ActiveCell(x=64, y=15), ActiveCell(x=65, y=15), ActiveCell(x=66, y=15), ActiveCell(x=67, y=15), ActiveCell(x=68, y=15), ActiveCell(x=69, y=15), ActiveCell(x=70, y=15), ActiveCell(x=71, y=15), ActiveCell(x=72, y=15), ActiveCell(x=73, y=15), ActiveCell(x=74, y=15), ActiveCell(x=75, y=15), ActiveCell(x=76, y=15), ActiveCell(x=77, y=15), ActiveCell(x=78, y=15), ActiveCell(x=79, y=15), ActiveCell(x=80, y=15), ActiveCell(x=81, y=15), ActiveCell(x=82, y=15), ActiveCell(x=83, y=15), ActiveCell(x=84, y=15), ActiveCell(x=85, y=15), ActiveCell(x=86, y=15), ActiveCell(x=87, y=15), ActiveCell(x=88, y=15), ActiveCell(x=89, y=15), ActiveCell(x=90, y=15), ActiveCell(x=91, y=15), ActiveCell(x=92, y=15), ActiveCell(x=93, y=15), ActiveCell(x=94, y=15), ActiveCell(x=95, y=15), ActiveCell(x=3, y=16), ActiveCell(x=4, y=16), ActiveCell(x=5, y=16), ActiveCell(x=6, y=16), ActiveCell(x=7, y=16), ActiveCell(x=8, y=16), ActiveCell(x=9, y=16), ActiveCell(x=10, y=16), ActiveCell(x=11, y=16), ActiveCell(x=12, y=16), ActiveCell(x=13, y=16), ActiveCell(x=14, y=16), ActiveCell(x=15, y=16), ActiveCell(x=16, y=16), ActiveCell(x=17, y=16), ActiveCell(x=18, y=16), ActiveCell(x=19, y=16), ActiveCell(x=20, y=16), ActiveCell(x=21, y=16), ActiveCell(x=22, y=16), ActiveCell(x=23, y=16), ActiveCell(x=24, y=16), ActiveCell(x=25, y=16), ActiveCell(x=26, y=16), ActiveCell(x=27, y=16), ActiveCell(x=28, y=16), ActiveCell(x=29, y=16), ActiveCell(x=30, y=16), ActiveCell(x=31, y=16), ActiveCell(x=32, y=16), ActiveCell(x=33, y=16), ActiveCell(x=34, y=16), ActiveCell(x=35, y=16), ActiveCell(x=36, y=16), ActiveCell(x=37, y=16), ActiveCell(x=38, y=16), ActiveCell(x=39, y=16), ActiveCell(x=40, y=16), ActiveCell(x=41, y=16), ActiveCell(x=42, y=16), ActiveCell(x=43, y=16), ActiveCell(x=44, y=16), ActiveCell(x=45, y=16), ActiveCell(x=46, y=16), ActiveCell(x=47, y=16), ActiveCell(x=48, y=16), ActiveCell(x=49, y=16), ActiveCell(x=50, y=16), ActiveCell(x=51, y=16), ActiveCell(x=52, y=16), ActiveCell(x=53, y=16), ActiveCell(x=54, y=16), ActiveCell(x=55, y=16), ActiveCell(x=56, y=16), ActiveCell(x=57, y=16), ActiveCell(x=58, y=16), ActiveCell(x=59, y=16), ActiveCell(x=60, y=16), ActiveCell(x=61, y=16), ActiveCell(x=62, y=16), ActiveCell(x=63, y=16), ActiveCell(x=64, y=16), ActiveCell(x=65, y=16), ActiveCell(x=66, y=16), ActiveCell(x=67, y=16), ActiveCell(x=68, y=16), ActiveCell(x=69, y=16), ActiveCell(x=70, y=16), ActiveCell(x=71, y=16), ActiveCell(x=72, y=16), ActiveCell(x=73, y=16), ActiveCell(x=74, y=16), ActiveCell(x=75, y=16), ActiveCell(x=76, y=16), ActiveCell(x=77, y=16), ActiveCell(x=78, y=16), ActiveCell(x=79, y=16), ActiveCell(x=80, y=16), ActiveCell(x=81, y=16), ActiveCell(x=82, y=16), ActiveCell(x=83, y=16), ActiveCell(x=84, y=16), ActiveCell(x=85, y=16), ActiveCell(x=86, y=16), ActiveCell(x=87, y=16), ActiveCell(x=88, y=16), ActiveCell(x=89, y=16), ActiveCell(x=90, y=16), ActiveCell(x=91, y=16), ActiveCell(x=92, y=16), ActiveCell(x=93, y=16), ActiveCell(x=94, y=16), ActiveCell(x=95, y=16), ActiveCell(x=3, y=17), ActiveCell(x=4, y=17), ActiveCell(x=5, y=17), ActiveCell(x=6, y=17), ActiveCell(x=7, y=17), ActiveCell(x=8, y=17), ActiveCell(x=9, y=17), ActiveCell(x=10, y=17), ActiveCell(x=11, y=17), ActiveCell(x=12, y=17), ActiveCell(x=13, y=17), ActiveCell(x=14, y=17), ActiveCell(x=15, y=17), ActiveCell(x=16, y=17), ActiveCell(x=17, y=17), ActiveCell(x=18, y=17), ActiveCell(x=19, y=17), ActiveCell(x=20, y=17), ActiveCell(x=21, y=17), ActiveCell(x=22, y=17), ActiveCell(x=23, y=17), ActiveCell(x=24, y=17), ActiveCell(x=25, y=17), ActiveCell(x=26, y=17), ActiveCell(x=27, y=17), ActiveCell(x=28, y=17), ActiveCell(x=29, y=17), ActiveCell(x=30, y=17), ActiveCell(x=31, y=17), ActiveCell(x=32, y=17), ActiveCell(x=33, y=17), ActiveCell(x=34, y=17), ActiveCell(x=35, y=17), ActiveCell(x=36, y=17), ActiveCell(x=37, y=17), ActiveCell(x=38, y=17), ActiveCell(x=39, y=17), ActiveCell(x=40, y=17), ActiveCell(x=41, y=17), ActiveCell(x=42, y=17), ActiveCell(x=43, y=17), ActiveCell(x=44, y=17), ActiveCell(x=45, y=17), ActiveCell(x=46, y=17), ActiveCell(x=47, y=17), ActiveCell(x=48, y=17), ActiveCell(x=49, y=17), ActiveCell(x=50, y=17), ActiveCell(x=51, y=17), ActiveCell(x=52, y=17), ActiveCell(x=53, y=17), ActiveCell(x=54, y=17), ActiveCell(x=55, y=17), ActiveCell(x=56, y=17), ActiveCell(x=57, y=17), ActiveCell(x=58, y=17), ActiveCell(x=59, y=17), ActiveCell(x=60, y=17), ActiveCell(x=61, y=17), ActiveCell(x=62, y=17), ActiveCell(x=63, y=17), ActiveCell(x=64, y=17), ActiveCell(x=65, y=17), ActiveCell(x=66, y=17), ActiveCell(x=67, y=17), ActiveCell(x=68, y=17), ActiveCell(x=69, y=17), ActiveCell(x=70, y=17), ActiveCell(x=71, y=17), ActiveCell(x=72, y=17), ActiveCell(x=73, y=17), ActiveCell(x=74, y=17), ActiveCell(x=75, y=17), ActiveCell(x=76, y=17), ActiveCell(x=77, y=17), ActiveCell(x=78, y=17), ActiveCell(x=79, y=17), ActiveCell(x=80, y=17), ActiveCell(x=81, y=17), ActiveCell(x=82, y=17), ActiveCell(x=83, y=17), ActiveCell(x=84, y=17), ActiveCell(x=85, y=17), ActiveCell(x=86, y=17), ActiveCell(x=87, y=17), ActiveCell(x=88, y=17), ActiveCell(x=89, y=17), ActiveCell(x=90, y=17), ActiveCell(x=91, y=17), ActiveCell(x=92, y=17), ActiveCell(x=93, y=17), ActiveCell(x=94, y=17), ActiveCell(x=95, y=17), ActiveCell(x=4, y=18), ActiveCell(x=5, y=18), ActiveCell(x=6, y=18), ActiveCell(x=7, y=18), ActiveCell(x=8, y=18), ActiveCell(x=9, y=18), ActiveCell(x=10, y=18), ActiveCell(x=11, y=18), ActiveCell(x=12, y=18), ActiveCell(x=13, y=18), ActiveCell(x=14, y=18), ActiveCell(x=15, y=18), ActiveCell(x=16, y=18), ActiveCell(x=17, y=18), ActiveCell(x=18, y=18), ActiveCell(x=19, y=18), ActiveCell(x=20, y=18), ActiveCell(x=21, y=18), ActiveCell(x=22, y=18), ActiveCell(x=23, y=18), ActiveCell(x=24, y=18), ActiveCell(x=25, y=18), ActiveCell(x=26, y=18), ActiveCell(x=27, y=18), ActiveCell(x=28, y=18), ActiveCell(x=29, y=18), ActiveCell(x=30, y=18), ActiveCell(x=31, y=18), ActiveCell(x=32, y=18), ActiveCell(x=33, y=18), ActiveCell(x=34, y=18), ActiveCell(x=35, y=18), ActiveCell(x=36, y=18), ActiveCell(x=37, y=18), ActiveCell(x=38, y=18), ActiveCell(x=39, y=18), ActiveCell(x=40, y=18), ActiveCell(x=41, y=18), ActiveCell(x=42, y=18), ActiveCell(x=43, y=18), ActiveCell(x=44, y=18), ActiveCell(x=45, y=18), ActiveCell(x=46, y=18), ActiveCell(x=47, y=18), ActiveCell(x=48, y=18), ActiveCell(x=49, y=18), ActiveCell(x=50, y=18), ActiveCell(x=51, y=18), ActiveCell(x=52, y=18), ActiveCell(x=53, y=18), ActiveCell(x=54, y=18), ActiveCell(x=55, y=18), ActiveCell(x=56, y=18), ActiveCell(x=57, y=18), ActiveCell(x=58, y=18), ActiveCell(x=59, y=18), ActiveCell(x=60, y=18), ActiveCell(x=61, y=18), ActiveCell(x=62, y=18), ActiveCell(x=63, y=18), ActiveCell(x=64, y=18), ActiveCell(x=65, y=18), ActiveCell(x=66, y=18), ActiveCell(x=67, y=18), ActiveCell(x=68, y=18), ActiveCell(x=69, y=18), ActiveCell(x=70, y=18), ActiveCell(x=71, y=18), ActiveCell(x=72, y=18), ActiveCell(x=73, y=18), ActiveCell(x=74, y=18), ActiveCell(x=75, y=18), ActiveCell(x=76, y=18), ActiveCell(x=77, y=18), ActiveCell(x=78, y=18), ActiveCell(x=79, y=18), ActiveCell(x=80, y=18), ActiveCell(x=81, y=18), ActiveCell(x=82, y=18), ActiveCell(x=83, y=18), ActiveCell(x=84, y=18), ActiveCell(x=85, y=18), ActiveCell(x=86, y=18), ActiveCell(x=87, y=18), ActiveCell(x=88, y=18), ActiveCell(x=89, y=18), ActiveCell(x=90, y=18), ActiveCell(x=91, y=18), ActiveCell(x=92, y=18), ActiveCell(x=93, y=18), ActiveCell(x=94, y=18), ActiveCell(x=95, y=18), ActiveCell(x=96, y=18), ActiveCell(x=4, y=19), ActiveCell(x=5, y=19), ActiveCell(x=6, y=19), ActiveCell(x=7, y=19), ActiveCell(x=8, y=19), ActiveCell(x=9, y=19), ActiveCell(x=10, y=19), ActiveCell(x=11, y=19), ActiveCell(x=12, y=19), ActiveCell(x=13, y=19), ActiveCell(x=14, y=19), ActiveCell(x=15, y=19), ActiveCell(x=16, y=19), ActiveCell(x=17, y=19), ActiveCell(x=18, y=19), ActiveCell(x=19, y=19), ActiveCell(x=20, y=19), ActiveCell(x=21, y=19), ActiveCell(x=22, y=19), ActiveCell(x=23, y=19), ActiveCell(x=24, y=19), ActiveCell(x=25, y=19), ActiveCell(x=26, y=19), ActiveCell(x=27, y=19), ActiveCell(x=28, y=19), ActiveCell(x=29, y=19), ActiveCell(x=30, y=19), ActiveCell(x=31, y=19), ActiveCell(x=32, y=19), ActiveCell(x=33, y=19), ActiveCell(x=34, y=19), ActiveCell(x=35, y=19), ActiveCell(x=36, y=19), ActiveCell(x=37, y=19), ActiveCell(x=38, y=19), ActiveCell(x=39, y=19), ActiveCell(x=40, y=19), ActiveCell(x=41, y=19), ActiveCell(x=42, y=19), ActiveCell(x=43, y=19), ActiveCell(x=44, y=19), ActiveCell(x=45, y=19), ActiveCell(x=46, y=19), ActiveCell(x=47, y=19), ActiveCell(x=48, y=19), ActiveCell(x=49, y=19), ActiveCell(x=50, y=19), ActiveCell(x=51, y=19), ActiveCell(x=52, y=19), ActiveCell(x=53, y=19), ActiveCell(x=54, y=19), ActiveCell(x=55, y=19), ActiveCell(x=56, y=19), ActiveCell(x=57, y=19), ActiveCell(x=58, y=19), ActiveCell(x=59, y=19), ActiveCell(x=60, y=19), ActiveCell(x=61, y=19), ActiveCell(x=62, y=19), ActiveCell(x=63, y=19), ActiveCell(x=64, y=19), ActiveCell(x=65, y=19), ActiveCell(x=66, y=19), ActiveCell(x=67, y=19), ActiveCell(x=68, y=19), ActiveCell(x=69, y=19), ActiveCell(x=70, y=19), ActiveCell(x=71, y=19), ActiveCell(x=72, y=19), ActiveCell(x=73, y=19), ActiveCell(x=74, y=19), ActiveCell(x=75, y=19), ActiveCell(x=76, y=19), ActiveCell(x=77, y=19), ActiveCell(x=78, y=19), ActiveCell(x=79, y=19), ActiveCell(x=80, y=19), ActiveCell(x=81, y=19), ActiveCell(x=82, y=19), ActiveCell(x=83, y=19), ActiveCell(x=84, y=19), ActiveCell(x=85, y=19), ActiveCell(x=86, y=19), ActiveCell(x=87, y=19), ActiveCell(x=88, y=19), ActiveCell(x=89, y=19), ActiveCell(x=90, y=19), ActiveCell(x=91, y=19), ActiveCell(x=92, y=19), ActiveCell(x=93, y=19), ActiveCell(x=94, y=19), ActiveCell(x=95, y=19), ActiveCell(x=96, y=19), ActiveCell(x=4, y=20), ActiveCell(x=5, y=20), ActiveCell(x=6, y=20), ActiveCell(x=7, y=20), ActiveCell(x=8, y=20), ActiveCell(x=9, y=20), ActiveCell(x=10, y=20), ActiveCell(x=11, y=20), ActiveCell(x=12, y=20), ActiveCell(x=13, y=20), ActiveCell(x=14, y=20), ActiveCell(x=15, y=20), ActiveCell(x=16, y=20), ActiveCell(x=17, y=20), ActiveCell(x=18, y=20), ActiveCell(x=19, y=20), ActiveCell(x=20, y=20), ActiveCell(x=21, y=20), ActiveCell(x=22, y=20), ActiveCell(x=23, y=20), ActiveCell(x=24, y=20), ActiveCell(x=25, y=20), ActiveCell(x=26, y=20), ActiveCell(x=27, y=20), ActiveCell(x=28, y=20), ActiveCell(x=29, y=20), ActiveCell(x=30, y=20), ActiveCell(x=31, y=20), ActiveCell(x=32, y=20), ActiveCell(x=33, y=20), ActiveCell(x=34, y=20), ActiveCell(x=35, y=20), ActiveCell(x=36, y=20), ActiveCell(x=37, y=20), ActiveCell(x=38, y=20), ActiveCell(x=39, y=20), ActiveCell(x=40, y=20), ActiveCell(x=41, y=20), ActiveCell(x=42, y=20), ActiveCell(x=43, y=20), ActiveCell(x=44, y=20), ActiveCell(x=45, y=20), ActiveCell(x=46, y=20), ActiveCell(x=47, y=20), ActiveCell(x=48, y=20), ActiveCell(x=49, y=20), ActiveCell(x=50, y=20), ActiveCell(x=51, y=20), ActiveCell(x=52, y=20), ActiveCell(x=53, y=20), ActiveCell(x=54, y=20), ActiveCell(x=55, y=20), ActiveCell(x=56, y=20), ActiveCell(x=57, y=20), ActiveCell(x=58, y=20), ActiveCell(x=59, y=20), ActiveCell(x=60, y=20), ActiveCell(x=61, y=20), ActiveCell(x=62, y=20), ActiveCell(x=63, y=20), ActiveCell(x=64, y=20), ActiveCell(x=65, y=20), ActiveCell(x=66, y=20), ActiveCell(x=67, y=20), ActiveCell(x=68, y=20), ActiveCell(x=69, y=20), ActiveCell(x=70, y=20), ActiveCell(x=71, y=20), ActiveCell(x=72, y=20), ActiveCell(x=73, y=20), ActiveCell(x=74, y=20), ActiveCell(x=75, y=20), ActiveCell(x=76, y=20), ActiveCell(x=77, y=20), ActiveCell(x=78, y=20), ActiveCell(x=79, y=20), ActiveCell(x=80, y=20), ActiveCell(x=81, y=20), ActiveCell(x=82, y=20), ActiveCell(x=83, y=20), ActiveCell(x=84, y=20), ActiveCell(x=85, y=20), ActiveCell(x=86, y=20), ActiveCell(x=87, y=20), ActiveCell(x=88, y=20), ActiveCell(x=89, y=20), ActiveCell(x=90, y=20), ActiveCell(x=91, y=20), ActiveCell(x=92, y=20), ActiveCell(x=93, y=20), ActiveCell(x=94, y=20), ActiveCell(x=95, y=20), ActiveCell(x=96, y=20), ActiveCell(x=4, y=21), ActiveCell(x=5, y=21), ActiveCell(x=6, y=21), ActiveCell(x=7, y=21), ActiveCell(x=8, y=21), ActiveCell(x=9, y=21), ActiveCell(x=10, y=21), ActiveCell(x=11, y=21), ActiveCell(x=12, y=21), ActiveCell(x=13, y=21), ActiveCell(x=14, y=21), ActiveCell(x=15, y=21), ActiveCell(x=16, y=21), ActiveCell(x=17, y=21), ActiveCell(x=18, y=21), ActiveCell(x=19, y=21), ActiveCell(x=20, y=21), ActiveCell(x=21, y=21), ActiveCell(x=22, y=21), ActiveCell(x=23, y=21), ActiveCell(x=24, y=21), ActiveCell(x=25, y=21), ActiveCell(x=26, y=21), ActiveCell(x=27, y=21), ActiveCell(x=28, y=21), ActiveCell(x=29, y=21), ActiveCell(x=30, y=21), ActiveCell(x=31, y=21), ActiveCell(x=32, y=21), ActiveCell(x=33, y=21), ActiveCell(x=34, y=21), ActiveCell(x=35, y=21), ActiveCell(x=36, y=21), ActiveCell(x=37, y=21), ActiveCell(x=38, y=21), ActiveCell(x=39, y=21), ActiveCell(x=40, y=21), ActiveCell(x=41, y=21), ActiveCell(x=42, y=21), ActiveCell(x=43, y=21), ActiveCell(x=44, y=21), ActiveCell(x=45, y=21), ActiveCell(x=46, y=21), ActiveCell(x=47, y=21), ActiveCell(x=48, y=21), ActiveCell(x=49, y=21), ActiveCell(x=50, y=21), ActiveCell(x=51, y=21), ActiveCell(x=52, y=21), ActiveCell(x=53, y=21), ActiveCell(x=54, y=21), ActiveCell(x=55, y=21), ActiveCell(x=56, y=21), ActiveCell(x=57, y=21), ActiveCell(x=58, y=21), ActiveCell(x=59, y=21), ActiveCell(x=60, y=21), ActiveCell(x=61, y=21), ActiveCell(x=62, y=21), ActiveCell(x=63, y=21), ActiveCell(x=64, y=21), ActiveCell(x=65, y=21), ActiveCell(x=66, y=21), ActiveCell(x=67, y=21), ActiveCell(x=68, y=21), ActiveCell(x=69, y=21), ActiveCell(x=70, y=21), ActiveCell(x=71, y=21), ActiveCell(x=72, y=21), ActiveCell(x=73, y=21), ActiveCell(x=74, y=21), ActiveCell(x=75, y=21), ActiveCell(x=76, y=21), ActiveCell(x=77, y=21), ActiveCell(x=78, y=21), ActiveCell(x=79, y=21), ActiveCell(x=80, y=21), ActiveCell(x=81, y=21), ActiveCell(x=82, y=21), ActiveCell(x=83, y=21), ActiveCell(x=84, y=21), ActiveCell(x=85, y=21), ActiveCell(x=86, y=21), ActiveCell(x=87, y=21), ActiveCell(x=88, y=21), ActiveCell(x=89, y=21), ActiveCell(x=90, y=21), ActiveCell(x=91, y=21), ActiveCell(x=92, y=21), ActiveCell(x=93, y=21), ActiveCell(x=94, y=21), ActiveCell(x=95, y=21), ActiveCell(x=96, y=21), ActiveCell(x=4, y=22), ActiveCell(x=5, y=22), ActiveCell(x=6, y=22), ActiveCell(x=7, y=22), ActiveCell(x=8, y=22), ActiveCell(x=9, y=22), ActiveCell(x=10, y=22), ActiveCell(x=11, y=22), ActiveCell(x=12, y=22), ActiveCell(x=13, y=22), ActiveCell(x=14, y=22), ActiveCell(x=15, y=22), ActiveCell(x=16, y=22), ActiveCell(x=17, y=22), ActiveCell(x=18, y=22), ActiveCell(x=19, y=22), ActiveCell(x=20, y=22), ActiveCell(x=21, y=22), ActiveCell(x=22, y=22), ActiveCell(x=23, y=22), ActiveCell(x=24, y=22), ActiveCell(x=25, y=22), ActiveCell(x=26, y=22), ActiveCell(x=27, y=22), ActiveCell(x=28, y=22), ActiveCell(x=29, y=22), ActiveCell(x=30, y=22), ActiveCell(x=31, y=22), ActiveCell(x=32, y=22), ActiveCell(x=33, y=22), ActiveCell(x=34, y=22), ActiveCell(x=35, y=22), ActiveCell(x=36, y=22), ActiveCell(x=37, y=22), ActiveCell(x=38, y=22), ActiveCell(x=39, y=22), ActiveCell(x=40, y=22), ActiveCell(x=41, y=22), ActiveCell(x=42, y=22), ActiveCell(x=43, y=22), ActiveCell(x=44, y=22), ActiveCell(x=45, y=22), ActiveCell(x=46, y=22), ActiveCell(x=47, y=22), ActiveCell(x=48, y=22), ActiveCell(x=49, y=22), ActiveCell(x=50, y=22), ActiveCell(x=51, y=22), ActiveCell(x=52, y=22), ActiveCell(x=53, y=22), ActiveCell(x=54, y=22), ActiveCell(x=55, y=22), ActiveCell(x=56, y=22), ActiveCell(x=57, y=22), ActiveCell(x=58, y=22), ActiveCell(x=59, y=22), ActiveCell(x=60, y=22), ActiveCell(x=61, y=22), ActiveCell(x=62, y=22), ActiveCell(x=63, y=22), ActiveCell(x=64, y=22), ActiveCell(x=65, y=22), ActiveCell(x=66, y=22), ActiveCell(x=67, y=22), ActiveCell(x=68, y=22), ActiveCell(x=69, y=22), ActiveCell(x=70, y=22), ActiveCell(x=71, y=22), ActiveCell(x=72, y=22), ActiveCell(x=73, y=22), ActiveCell(x=74, y=22), ActiveCell(x=75, y=22), ActiveCell(x=76, y=22), ActiveCell(x=77, y=22), ActiveCell(x=78, y=22), ActiveCell(x=79, y=22), ActiveCell(x=80, y=22), ActiveCell(x=81, y=22), ActiveCell(x=82, y=22), ActiveCell(x=83, y=22), ActiveCell(x=84, y=22), ActiveCell(x=85, y=22), ActiveCell(x=86, y=22), ActiveCell(x=87, y=22), ActiveCell(x=88, y=22), ActiveCell(x=89, y=22), ActiveCell(x=90, y=22), ActiveCell(x=91, y=22), ActiveCell(x=92, y=22), ActiveCell(x=93, y=22), ActiveCell(x=94, y=22), ActiveCell(x=95, y=22), ActiveCell(x=96, y=22), ActiveCell(x=97, y=22), ActiveCell(x=5, y=23), ActiveCell(x=6, y=23), ActiveCell(x=7, y=23), ActiveCell(x=8, y=23), ActiveCell(x=9, y=23), ActiveCell(x=10, y=23), ActiveCell(x=11, y=23), ActiveCell(x=12, y=23), ActiveCell(x=13, y=23), ActiveCell(x=14, y=23), ActiveCell(x=15, y=23), ActiveCell(x=16, y=23), ActiveCell(x=17, y=23), ActiveCell(x=18, y=23), ActiveCell(x=19, y=23), ActiveCell(x=20, y=23), ActiveCell(x=21, y=23), ActiveCell(x=22, y=23), ActiveCell(x=23, y=23), ActiveCell(x=24, y=23), ActiveCell(x=25, y=23), ActiveCell(x=26, y=23), ActiveCell(x=27, y=23), ActiveCell(x=28, y=23), ActiveCell(x=29, y=23), ActiveCell(x=30, y=23), ActiveCell(x=31, y=23), ActiveCell(x=32, y=23), ActiveCell(x=33, y=23), ActiveCell(x=34, y=23), ActiveCell(x=35, y=23), ActiveCell(x=36, y=23), ActiveCell(x=37, y=23), ActiveCell(x=38, y=23), ActiveCell(x=39, y=23), ActiveCell(x=40, y=23), ActiveCell(x=41, y=23), ActiveCell(x=42, y=23), ActiveCell(x=43, y=23), ActiveCell(x=44, y=23), ActiveCell(x=45, y=23), ActiveCell(x=46, y=23), ActiveCell(x=47, y=23), ActiveCell(x=48, y=23), ActiveCell(x=49, y=23), ActiveCell(x=50, y=23), ActiveCell(x=51, y=23), ActiveCell(x=52, y=23), ActiveCell(x=53, y=23), ActiveCell(x=54, y=23), ActiveCell(x=55, y=23), ActiveCell(x=56, y=23), ActiveCell(x=57, y=23), ActiveCell(x=58, y=23), ActiveCell(x=59, y=23), ActiveCell(x=60, y=23), ActiveCell(x=61, y=23), ActiveCell(x=62, y=23), ActiveCell(x=63, y=23), ActiveCell(x=64, y=23), ActiveCell(x=65, y=23), ActiveCell(x=66, y=23), ActiveCell(x=67, y=23), ActiveCell(x=68, y=23), ActiveCell(x=69, y=23), ActiveCell(x=70, y=23), ActiveCell(x=71, y=23), ActiveCell(x=72, y=23), ActiveCell(x=73, y=23), ActiveCell(x=74, y=23), ActiveCell(x=75, y=23), ActiveCell(x=76, y=23), ActiveCell(x=77, y=23), ActiveCell(x=78, y=23), ActiveCell(x=79, y=23), ActiveCell(x=80, y=23), ActiveCell(x=81, y=23), ActiveCell(x=82, y=23), ActiveCell(x=83, y=23), ActiveCell(x=84, y=23), ActiveCell(x=85, y=23), ActiveCell(x=86, y=23), ActiveCell(x=87, y=23), ActiveCell(x=88, y=23), ActiveCell(x=89, y=23), ActiveCell(x=90, y=23), ActiveCell(x=91, y=23), ActiveCell(x=92, y=23), ActiveCell(x=93, y=23), ActiveCell(x=94, y=23), ActiveCell(x=95, y=23), ActiveCell(x=96, y=23), ActiveCell(x=97, y=23), ActiveCell(x=5, y=24), ActiveCell(x=6, y=24), ActiveCell(x=7, y=24), ActiveCell(x=8, y=24), ActiveCell(x=9, y=24), ActiveCell(x=10, y=24), ActiveCell(x=11, y=24), ActiveCell(x=12, y=24), ActiveCell(x=13, y=24), ActiveCell(x=14, y=24), ActiveCell(x=15, y=24), ActiveCell(x=16, y=24), ActiveCell(x=17, y=24), ActiveCell(x=18, y=24), ActiveCell(x=19, y=24), ActiveCell(x=20, y=24), ActiveCell(x=21, y=24), ActiveCell(x=22, y=24), ActiveCell(x=23, y=24), ActiveCell(x=24, y=24), ActiveCell(x=25, y=24), ActiveCell(x=26, y=24), ActiveCell(x=27, y=24), ActiveCell(x=28, y=24), ActiveCell(x=29, y=24), ActiveCell(x=30, y=24), ActiveCell(x=31, y=24), ActiveCell(x=32, y=24), ActiveCell(x=33, y=24), ActiveCell(x=34, y=24), ActiveCell(x=35, y=24), ActiveCell(x=36, y=24), ActiveCell(x=37, y=24), ActiveCell(x=38, y=24), ActiveCell(x=39, y=24), ActiveCell(x=40, y=24), ActiveCell(x=41, y=24), ActiveCell(x=42, y=24), ActiveCell(x=43, y=24), ActiveCell(x=44, y=24), ActiveCell(x=45, y=24), ActiveCell(x=46, y=24), ActiveCell(x=47, y=24), ActiveCell(x=48, y=24), ActiveCell(x=49, y=24), ActiveCell(x=50, y=24), ActiveCell(x=51, y=24), ActiveCell(x=52, y=24), ActiveCell(x=53, y=24), ActiveCell(x=54, y=24), ActiveCell(x=55, y=24), ActiveCell(x=56, y=24), ActiveCell(x=57, y=24), ActiveCell(x=58, y=24), ActiveCell(x=59, y=24), ActiveCell(x=60, y=24), ActiveCell(x=61, y=24), ActiveCell(x=62, y=24), ActiveCell(x=63, y=24), ActiveCell(x=64, y=24), ActiveCell(x=65, y=24), ActiveCell(x=66, y=24), ActiveCell(x=67, y=24), ActiveCell(x=68, y=24), ActiveCell(x=69, y=24), ActiveCell(x=70, y=24), ActiveCell(x=71, y=24), ActiveCell(x=72, y=24), ActiveCell(x=73, y=24), ActiveCell(x=74, y=24), ActiveCell(x=75, y=24), ActiveCell(x=76, y=24), ActiveCell(x=77, y=24), ActiveCell(x=78, y=24), ActiveCell(x=79, y=24), ActiveCell(x=80, y=24), ActiveCell(x=81, y=24), ActiveCell(x=82, y=24), ActiveCell(x=83, y=24), ActiveCell(x=84, y=24), ActiveCell(x=85, y=24), ActiveCell(x=86, y=24), ActiveCell(x=87, y=24), ActiveCell(x=88, y=24), ActiveCell(x=89, y=24), ActiveCell(x=90, y=24), ActiveCell(x=91, y=24), ActiveCell(x=92, y=24), ActiveCell(x=93, y=24), ActiveCell(x=94, y=24), ActiveCell(x=95, y=24), ActiveCell(x=96, y=24), ActiveCell(x=97, y=24), ActiveCell(x=5, y=25), ActiveCell(x=6, y=25), ActiveCell(x=7, y=25), ActiveCell(x=8, y=25), ActiveCell(x=9, y=25), ActiveCell(x=10, y=25), ActiveCell(x=11, y=25), ActiveCell(x=12, y=25), ActiveCell(x=13, y=25), ActiveCell(x=14, y=25), ActiveCell(x=15, y=25), ActiveCell(x=16, y=25), ActiveCell(x=17, y=25), ActiveCell(x=18, y=25), ActiveCell(x=19, y=25), ActiveCell(x=20, y=25), ActiveCell(x=21, y=25), ActiveCell(x=22, y=25), ActiveCell(x=23, y=25), ActiveCell(x=24, y=25), ActiveCell(x=25, y=25), ActiveCell(x=26, y=25), ActiveCell(x=27, y=25), ActiveCell(x=28, y=25), ActiveCell(x=29, y=25), ActiveCell(x=30, y=25), ActiveCell(x=31, y=25), ActiveCell(x=32, y=25), ActiveCell(x=33, y=25), ActiveCell(x=34, y=25), ActiveCell(x=35, y=25), ActiveCell(x=36, y=25), ActiveCell(x=37, y=25), ActiveCell(x=38, y=25), ActiveCell(x=39, y=25), ActiveCell(x=40, y=25), ActiveCell(x=41, y=25), ActiveCell(x=42, y=25), ActiveCell(x=43, y=25), ActiveCell(x=44, y=25), ActiveCell(x=45, y=25), ActiveCell(x=46, y=25), ActiveCell(x=47, y=25), ActiveCell(x=48, y=25), ActiveCell(x=49, y=25), ActiveCell(x=50, y=25), ActiveCell(x=51, y=25), ActiveCell(x=52, y=25), ActiveCell(x=53, y=25), ActiveCell(x=54, y=25), ActiveCell(x=55, y=25), ActiveCell(x=56, y=25), ActiveCell(x=57, y=25), ActiveCell(x=58, y=25), ActiveCell(x=59, y=25), ActiveCell(x=60, y=25), ActiveCell(x=61, y=25), ActiveCell(x=62, y=25), ActiveCell(x=63, y=25), ActiveCell(x=64, y=25), ActiveCell(x=65, y=25), ActiveCell(x=66, y=25), ActiveCell(x=67, y=25), ActiveCell(x=68, y=25), ActiveCell(x=69, y=25), ActiveCell(x=70, y=25), ActiveCell(x=71, y=25), ActiveCell(x=72, y=25), ActiveCell(x=73, y=25), ActiveCell(x=74, y=25), ActiveCell(x=75, y=25), ActiveCell(x=76, y=25), ActiveCell(x=77, y=25), ActiveCell(x=78, y=25), ActiveCell(x=79, y=25), ActiveCell(x=80, y=25), ActiveCell(x=81, y=25), ActiveCell(x=82, y=25), ActiveCell(x=83, y=25), ActiveCell(x=84, y=25), ActiveCell(x=85, y=25), ActiveCell(x=86, y=25), ActiveCell(x=87, y=25), ActiveCell(x=88, y=25), ActiveCell(x=89, y=25), ActiveCell(x=90, y=25), ActiveCell(x=91, y=25), ActiveCell(x=92, y=25), ActiveCell(x=93, y=25), ActiveCell(x=94, y=25), ActiveCell(x=95, y=25), ActiveCell(x=96, y=25), ActiveCell(x=97, y=25), ActiveCell(x=5, y=26), ActiveCell(x=6, y=26), ActiveCell(x=7, y=26), ActiveCell(x=8, y=26), ActiveCell(x=9, y=26), ActiveCell(x=10, y=26), ActiveCell(x=11, y=26), ActiveCell(x=12, y=26), ActiveCell(x=13, y=26), ActiveCell(x=14, y=26), ActiveCell(x=15, y=26), ActiveCell(x=16, y=26), ActiveCell(x=17, y=26), ActiveCell(x=18, y=26), ActiveCell(x=19, y=26), ActiveCell(x=20, y=26), ActiveCell(x=21, y=26), ActiveCell(x=22, y=26), ActiveCell(x=23, y=26), ActiveCell(x=24, y=26), ActiveCell(x=25, y=26), ActiveCell(x=26, y=26), ActiveCell(x=27, y=26), ActiveCell(x=28, y=26), ActiveCell(x=29, y=26), ActiveCell(x=30, y=26), ActiveCell(x=31, y=26), ActiveCell(x=32, y=26), ActiveCell(x=33, y=26), ActiveCell(x=34, y=26), ActiveCell(x=35, y=26), ActiveCell(x=36, y=26), ActiveCell(x=37, y=26), ActiveCell(x=38, y=26), ActiveCell(x=39, y=26), ActiveCell(x=40, y=26), ActiveCell(x=41, y=26), ActiveCell(x=42, y=26), ActiveCell(x=43, y=26), ActiveCell(x=44, y=26), ActiveCell(x=45, y=26), ActiveCell(x=46, y=26), ActiveCell(x=47, y=26), ActiveCell(x=48, y=26), ActiveCell(x=49, y=26), ActiveCell(x=50, y=26), ActiveCell(x=51, y=26), ActiveCell(x=52, y=26), ActiveCell(x=53, y=26), ActiveCell(x=54, y=26), ActiveCell(x=55, y=26), ActiveCell(x=56, y=26), ActiveCell(x=57, y=26), ActiveCell(x=58, y=26), ActiveCell(x=59, y=26), ActiveCell(x=60, y=26), ActiveCell(x=61, y=26), ActiveCell(x=62, y=26), ActiveCell(x=63, y=26), ActiveCell(x=64, y=26), ActiveCell(x=65, y=26), ActiveCell(x=66, y=26), ActiveCell(x=67, y=26), ActiveCell(x=68, y=26), ActiveCell(x=69, y=26), ActiveCell(x=70, y=26), ActiveCell(x=71, y=26), ActiveCell(x=72, y=26), ActiveCell(x=73, y=26), ActiveCell(x=74, y=26), ActiveCell(x=75, y=26), ActiveCell(x=76, y=26), ActiveCell(x=77, y=26), ActiveCell(x=78, y=26), ActiveCell(x=79, y=26), ActiveCell(x=80, y=26), ActiveCell(x=81, y=26), ActiveCell(x=82, y=26), ActiveCell(x=83, y=26), ActiveCell(x=84, y=26), ActiveCell(x=85, y=26), ActiveCell(x=86, y=26), ActiveCell(x=87, y=26), ActiveCell(x=88, y=26), ActiveCell(x=89, y=26), ActiveCell(x=90, y=26), ActiveCell(x=91, y=26), ActiveCell(x=92, y=26), ActiveCell(x=93, y=26), ActiveCell(x=94, y=26), ActiveCell(x=95, y=26), ActiveCell(x=96, y=26), ActiveCell(x=97, y=26), ActiveCell(x=5, y=27), ActiveCell(x=6, y=27), ActiveCell(x=7, y=27), ActiveCell(x=8, y=27), ActiveCell(x=9, y=27), ActiveCell(x=10, y=27), ActiveCell(x=11, y=27), ActiveCell(x=12, y=27), ActiveCell(x=13, y=27), ActiveCell(x=14, y=27), ActiveCell(x=15, y=27), ActiveCell(x=16, y=27), ActiveCell(x=17, y=27), ActiveCell(x=18, y=27), ActiveCell(x=19, y=27), ActiveCell(x=20, y=27), ActiveCell(x=21, y=27), ActiveCell(x=22, y=27), ActiveCell(x=23, y=27), ActiveCell(x=24, y=27), ActiveCell(x=25, y=27), ActiveCell(x=26, y=27), ActiveCell(x=27, y=27), ActiveCell(x=28, y=27), ActiveCell(x=29, y=27), ActiveCell(x=30, y=27), ActiveCell(x=31, y=27), ActiveCell(x=32, y=27), ActiveCell(x=33, y=27), ActiveCell(x=34, y=27), ActiveCell(x=35, y=27), ActiveCell(x=36, y=27), ActiveCell(x=37, y=27), ActiveCell(x=38, y=27), ActiveCell(x=39, y=27), ActiveCell(x=40, y=27), ActiveCell(x=41, y=27), ActiveCell(x=42, y=27), ActiveCell(x=43, y=27), ActiveCell(x=44, y=27), ActiveCell(x=45, y=27), ActiveCell(x=46, y=27), ActiveCell(x=47, y=27), ActiveCell(x=48, y=27), ActiveCell(x=49, y=27), ActiveCell(x=50, y=27), ActiveCell(x=51, y=27), ActiveCell(x=52, y=27), ActiveCell(x=53, y=27), ActiveCell(x=54, y=27), ActiveCell(x=55, y=27), ActiveCell(x=56, y=27), ActiveCell(x=57, y=27), ActiveCell(x=58, y=27), ActiveCell(x=59, y=27), ActiveCell(x=60, y=27), ActiveCell(x=61, y=27), ActiveCell(x=62, y=27), ActiveCell(x=63, y=27), ActiveCell(x=64, y=27), ActiveCell(x=65, y=27), ActiveCell(x=66, y=27), ActiveCell(x=67, y=27), ActiveCell(x=68, y=27), ActiveCell(x=69, y=27), ActiveCell(x=70, y=27), ActiveCell(x=71, y=27), ActiveCell(x=72, y=27), ActiveCell(x=73, y=27), ActiveCell(x=74, y=27), ActiveCell(x=75, y=27), ActiveCell(x=76, y=27), ActiveCell(x=77, y=27), ActiveCell(x=78, y=27), ActiveCell(x=79, y=27), ActiveCell(x=80, y=27), ActiveCell(x=81, y=27), ActiveCell(x=82, y=27), ActiveCell(x=83, y=27), ActiveCell(x=84, y=27), ActiveCell(x=85, y=27), ActiveCell(x=86, y=27), ActiveCell(x=87, y=27), ActiveCell(x=88, y=27), ActiveCell(x=89, y=27), ActiveCell(x=90, y=27), ActiveCell(x=91, y=27), ActiveCell(x=92, y=27), ActiveCell(x=93, y=27), ActiveCell(x=94, y=27), ActiveCell(x=95, y=27), ActiveCell(x=96, y=27), ActiveCell(x=97, y=27), ActiveCell(x=98, y=27), ActiveCell(x=5, y=28), ActiveCell(x=6, y=28), ActiveCell(x=7, y=28), ActiveCell(x=8, y=28), ActiveCell(x=9, y=28), ActiveCell(x=10, y=28), ActiveCell(x=11, y=28), ActiveCell(x=12, y=28), ActiveCell(x=13, y=28), ActiveCell(x=14, y=28), ActiveCell(x=15, y=28), ActiveCell(x=16, y=28), ActiveCell(x=17, y=28), ActiveCell(x=18, y=28), ActiveCell(x=19, y=28), ActiveCell(x=20, y=28), ActiveCell(x=21, y=28), ActiveCell(x=22, y=28), ActiveCell(x=23, y=28), ActiveCell(x=24, y=28), ActiveCell(x=25, y=28), ActiveCell(x=26, y=28), ActiveCell(x=27, y=28), ActiveCell(x=28, y=28), ActiveCell(x=29, y=28), ActiveCell(x=30, y=28), ActiveCell(x=31, y=28), ActiveCell(x=32, y=28), ActiveCell(x=33, y=28), ActiveCell(x=34, y=28), ActiveCell(x=35, y=28), ActiveCell(x=36, y=28), ActiveCell(x=37, y=28), ActiveCell(x=38, y=28), ActiveCell(x=39, y=28), ActiveCell(x=40, y=28), ActiveCell(x=41, y=28), ActiveCell(x=42, y=28), ActiveCell(x=43, y=28), ActiveCell(x=44, y=28), ActiveCell(x=45, y=28), ActiveCell(x=46, y=28), ActiveCell(x=47, y=28), ActiveCell(x=48, y=28), ActiveCell(x=49, y=28), ActiveCell(x=50, y=28), ActiveCell(x=51, y=28), ActiveCell(x=52, y=28), ActiveCell(x=53, y=28), ActiveCell(x=54, y=28), ActiveCell(x=55, y=28), ActiveCell(x=56, y=28), ActiveCell(x=57, y=28), ActiveCell(x=58, y=28), ActiveCell(x=59, y=28), ActiveCell(x=60, y=28), ActiveCell(x=61, y=28), ActiveCell(x=62, y=28), ActiveCell(x=63, y=28), ActiveCell(x=64, y=28), ActiveCell(x=65, y=28), ActiveCell(x=66, y=28), ActiveCell(x=67, y=28), ActiveCell(x=68, y=28), ActiveCell(x=69, y=28), ActiveCell(x=70, y=28), ActiveCell(x=71, y=28), ActiveCell(x=72, y=28), ActiveCell(x=73, y=28), ActiveCell(x=74, y=28), ActiveCell(x=75, y=28), ActiveCell(x=76, y=28), ActiveCell(x=77, y=28), ActiveCell(x=78, y=28), ActiveCell(x=79, y=28), ActiveCell(x=80, y=28), ActiveCell(x=81, y=28), ActiveCell(x=82, y=28), ActiveCell(x=83, y=28), ActiveCell(x=84, y=28), ActiveCell(x=85, y=28), ActiveCell(x=86, y=28), ActiveCell(x=87, y=28), ActiveCell(x=88, y=28), ActiveCell(x=89, y=28), ActiveCell(x=90, y=28), ActiveCell(x=91, y=28), ActiveCell(x=92, y=28), ActiveCell(x=93, y=28), ActiveCell(x=94, y=28), ActiveCell(x=95, y=28), ActiveCell(x=96, y=28), ActiveCell(x=97, y=28), ActiveCell(x=98, y=28), ActiveCell(x=6, y=29), ActiveCell(x=7, y=29), ActiveCell(x=8, y=29), ActiveCell(x=9, y=29), ActiveCell(x=10, y=29), ActiveCell(x=11, y=29), ActiveCell(x=12, y=29), ActiveCell(x=13, y=29), ActiveCell(x=14, y=29), ActiveCell(x=15, y=29), ActiveCell(x=16, y=29), ActiveCell(x=17, y=29), ActiveCell(x=18, y=29), ActiveCell(x=19, y=29), ActiveCell(x=20, y=29), ActiveCell(x=21, y=29), ActiveCell(x=22, y=29), ActiveCell(x=23, y=29), ActiveCell(x=24, y=29), ActiveCell(x=25, y=29), ActiveCell(x=26, y=29), ActiveCell(x=27, y=29), ActiveCell(x=28, y=29), ActiveCell(x=29, y=29), ActiveCell(x=30, y=29), ActiveCell(x=31, y=29), ActiveCell(x=32, y=29), ActiveCell(x=33, y=29), ActiveCell(x=34, y=29), ActiveCell(x=35, y=29), ActiveCell(x=36, y=29), ActiveCell(x=37, y=29), ActiveCell(x=38, y=29), ActiveCell(x=39, y=29), ActiveCell(x=40, y=29), ActiveCell(x=41, y=29), ActiveCell(x=42, y=29), ActiveCell(x=43, y=29), ActiveCell(x=44, y=29), ActiveCell(x=45, y=29), ActiveCell(x=46, y=29), ActiveCell(x=47, y=29), ActiveCell(x=48, y=29), ActiveCell(x=49, y=29), ActiveCell(x=50, y=29), ActiveCell(x=51, y=29), ActiveCell(x=52, y=29), ActiveCell(x=53, y=29), ActiveCell(x=54, y=29), ActiveCell(x=55, y=29), ActiveCell(x=56, y=29), ActiveCell(x=57, y=29), ActiveCell(x=58, y=29), ActiveCell(x=59, y=29), ActiveCell(x=60, y=29), ActiveCell(x=61, y=29), ActiveCell(x=62, y=29), ActiveCell(x=63, y=29), ActiveCell(x=64, y=29), ActiveCell(x=65, y=29), ActiveCell(x=66, y=29), ActiveCell(x=67, y=29), ActiveCell(x=68, y=29), ActiveCell(x=69, y=29), ActiveCell(x=70, y=29), ActiveCell(x=71, y=29), ActiveCell(x=72, y=29), ActiveCell(x=73, y=29), ActiveCell(x=74, y=29), ActiveCell(x=75, y=29), ActiveCell(x=76, y=29), ActiveCell(x=77, y=29), ActiveCell(x=78, y=29), ActiveCell(x=79, y=29), ActiveCell(x=80, y=29), ActiveCell(x=81, y=29), ActiveCell(x=82, y=29), ActiveCell(x=83, y=29), ActiveCell(x=84, y=29), ActiveCell(x=85, y=29), ActiveCell(x=86, y=29), ActiveCell(x=87, y=29), ActiveCell(x=88, y=29), ActiveCell(x=89, y=29), ActiveCell(x=90, y=29), ActiveCell(x=91, y=29), ActiveCell(x=92, y=29), ActiveCell(x=93, y=29), ActiveCell(x=94, y=29), ActiveCell(x=95, y=29), ActiveCell(x=96, y=29), ActiveCell(x=97, y=29), ActiveCell(x=98, y=29), ActiveCell(x=6, y=30), ActiveCell(x=7, y=30), ActiveCell(x=8, y=30), ActiveCell(x=9, y=30), ActiveCell(x=10, y=30), ActiveCell(x=11, y=30), ActiveCell(x=12, y=30), ActiveCell(x=13, y=30), ActiveCell(x=14, y=30), ActiveCell(x=15, y=30), ActiveCell(x=16, y=30), ActiveCell(x=17, y=30), ActiveCell(x=18, y=30), ActiveCell(x=19, y=30), ActiveCell(x=20, y=30), ActiveCell(x=21, y=30), ActiveCell(x=22, y=30), ActiveCell(x=23, y=30), ActiveCell(x=24, y=30), ActiveCell(x=25, y=30), ActiveCell(x=26, y=30), ActiveCell(x=27, y=30), ActiveCell(x=28, y=30), ActiveCell(x=29, y=30), ActiveCell(x=30, y=30), ActiveCell(x=31, y=30), ActiveCell(x=32, y=30), ActiveCell(x=33, y=30), ActiveCell(x=34, y=30), ActiveCell(x=35, y=30), ActiveCell(x=36, y=30), ActiveCell(x=37, y=30), ActiveCell(x=38, y=30), ActiveCell(x=39, y=30), ActiveCell(x=40, y=30), ActiveCell(x=41, y=30), ActiveCell(x=42, y=30), ActiveCell(x=43, y=30), ActiveCell(x=44, y=30), ActiveCell(x=45, y=30), ActiveCell(x=46, y=30), ActiveCell(x=47, y=30), ActiveCell(x=48, y=30), ActiveCell(x=49, y=30), ActiveCell(x=50, y=30), ActiveCell(x=51, y=30), ActiveCell(x=52, y=30), ActiveCell(x=53, y=30), ActiveCell(x=54, y=30), ActiveCell(x=55, y=30), ActiveCell(x=56, y=30), ActiveCell(x=57, y=30), ActiveCell(x=58, y=30), ActiveCell(x=59, y=30), ActiveCell(x=60, y=30), ActiveCell(x=61, y=30), ActiveCell(x=62, y=30), ActiveCell(x=63, y=30), ActiveCell(x=64, y=30), ActiveCell(x=65, y=30), ActiveCell(x=66, y=30), ActiveCell(x=67, y=30), ActiveCell(x=68, y=30), ActiveCell(x=69, y=30), ActiveCell(x=70, y=30), ActiveCell(x=71, y=30), ActiveCell(x=72, y=30), ActiveCell(x=73, y=30), ActiveCell(x=74, y=30), ActiveCell(x=75, y=30), ActiveCell(x=76, y=30), ActiveCell(x=77, y=30), ActiveCell(x=78, y=30), ActiveCell(x=79, y=30), ActiveCell(x=80, y=30), ActiveCell(x=81, y=30), ActiveCell(x=82, y=30), ActiveCell(x=83, y=30), ActiveCell(x=84, y=30), ActiveCell(x=85, y=30), ActiveCell(x=86, y=30), ActiveCell(x=87, y=30), ActiveCell(x=88, y=30), ActiveCell(x=89, y=30), ActiveCell(x=90, y=30), ActiveCell(x=91, y=30), ActiveCell(x=92, y=30), ActiveCell(x=93, y=30), ActiveCell(x=94, y=30), ActiveCell(x=95, y=30), ActiveCell(x=96, y=30), ActiveCell(x=97, y=30), ActiveCell(x=98, y=30), ActiveCell(x=6, y=31), ActiveCell(x=7, y=31), ActiveCell(x=8, y=31), ActiveCell(x=9, y=31), ActiveCell(x=10, y=31), ActiveCell(x=11, y=31), ActiveCell(x=12, y=31), ActiveCell(x=13, y=31), ActiveCell(x=14, y=31), ActiveCell(x=15, y=31), ActiveCell(x=16, y=31), ActiveCell(x=17, y=31), ActiveCell(x=18, y=31), ActiveCell(x=19, y=31), ActiveCell(x=20, y=31), ActiveCell(x=21, y=31), ActiveCell(x=22, y=31), ActiveCell(x=23, y=31), ActiveCell(x=24, y=31), ActiveCell(x=25, y=31), ActiveCell(x=26, y=31), ActiveCell(x=27, y=31), ActiveCell(x=28, y=31), ActiveCell(x=29, y=31), ActiveCell(x=30, y=31), ActiveCell(x=31, y=31), ActiveCell(x=32, y=31), ActiveCell(x=33, y=31), ActiveCell(x=34, y=31), ActiveCell(x=35, y=31), ActiveCell(x=36, y=31), ActiveCell(x=37, y=31), ActiveCell(x=38, y=31), ActiveCell(x=39, y=31), ActiveCell(x=40, y=31), ActiveCell(x=41, y=31), ActiveCell(x=42, y=31), ActiveCell(x=43, y=31), ActiveCell(x=44, y=31), ActiveCell(x=45, y=31), ActiveCell(x=46, y=31), ActiveCell(x=47, y=31), ActiveCell(x=48, y=31), ActiveCell(x=49, y=31), ActiveCell(x=50, y=31), ActiveCell(x=51, y=31), ActiveCell(x=52, y=31), ActiveCell(x=53, y=31), ActiveCell(x=54, y=31), ActiveCell(x=55, y=31), ActiveCell(x=56, y=31), ActiveCell(x=57, y=31), ActiveCell(x=58, y=31), ActiveCell(x=59, y=31), ActiveCell(x=60, y=31), ActiveCell(x=61, y=31), ActiveCell(x=62, y=31), ActiveCell(x=63, y=31), ActiveCell(x=64, y=31), ActiveCell(x=65, y=31), ActiveCell(x=66, y=31), ActiveCell(x=67, y=31), ActiveCell(x=68, y=31), ActiveCell(x=69, y=31), ActiveCell(x=70, y=31), ActiveCell(x=71, y=31), ActiveCell(x=72, y=31), ActiveCell(x=73, y=31), ActiveCell(x=74, y=31), ActiveCell(x=75, y=31), ActiveCell(x=76, y=31), ActiveCell(x=77, y=31), ActiveCell(x=78, y=31), ActiveCell(x=79, y=31), ActiveCell(x=80, y=31), ActiveCell(x=81, y=31), ActiveCell(x=82, y=31), ActiveCell(x=83, y=31), ActiveCell(x=84, y=31), ActiveCell(x=85, y=31), ActiveCell(x=86, y=31), ActiveCell(x=87, y=31), ActiveCell(x=88, y=31), ActiveCell(x=89, y=31), ActiveCell(x=90, y=31), ActiveCell(x=91, y=31), ActiveCell(x=92, y=31), ActiveCell(x=93, y=31), ActiveCell(x=94, y=31), ActiveCell(x=95, y=31), ActiveCell(x=96, y=31), ActiveCell(x=97, y=31), ActiveCell(x=98, y=31), ActiveCell(x=6, y=32), ActiveCell(x=7, y=32), ActiveCell(x=8, y=32), ActiveCell(x=9, y=32), ActiveCell(x=10, y=32), ActiveCell(x=11, y=32), ActiveCell(x=12, y=32), ActiveCell(x=13, y=32), ActiveCell(x=14, y=32), ActiveCell(x=15, y=32), ActiveCell(x=16, y=32), ActiveCell(x=17, y=32), ActiveCell(x=18, y=32), ActiveCell(x=19, y=32), ActiveCell(x=20, y=32), ActiveCell(x=21, y=32), ActiveCell(x=22, y=32), ActiveCell(x=23, y=32), ActiveCell(x=24, y=32), ActiveCell(x=25, y=32), ActiveCell(x=26, y=32), ActiveCell(x=27, y=32), ActiveCell(x=28, y=32), ActiveCell(x=29, y=32), ActiveCell(x=30, y=32), ActiveCell(x=31, y=32), ActiveCell(x=32, y=32), ActiveCell(x=33, y=32), ActiveCell(x=34, y=32), ActiveCell(x=35, y=32), ActiveCell(x=36, y=32), ActiveCell(x=37, y=32), ActiveCell(x=38, y=32), ActiveCell(x=39, y=32), ActiveCell(x=40, y=32), ActiveCell(x=41, y=32), ActiveCell(x=42, y=32), ActiveCell(x=43, y=32), ActiveCell(x=44, y=32), ActiveCell(x=45, y=32), ActiveCell(x=46, y=32), ActiveCell(x=47, y=32), ActiveCell(x=48, y=32), ActiveCell(x=49, y=32), ActiveCell(x=50, y=32), ActiveCell(x=51, y=32), ActiveCell(x=52, y=32), ActiveCell(x=53, y=32), ActiveCell(x=54, y=32), ActiveCell(x=55, y=32), ActiveCell(x=56, y=32), ActiveCell(x=57, y=32), ActiveCell(x=58, y=32), ActiveCell(x=59, y=32), ActiveCell(x=60, y=32), ActiveCell(x=61, y=32), ActiveCell(x=62, y=32), ActiveCell(x=63, y=32), ActiveCell(x=64, y=32), ActiveCell(x=65, y=32), ActiveCell(x=66, y=32), ActiveCell(x=67, y=32), ActiveCell(x=68, y=32), ActiveCell(x=69, y=32), ActiveCell(x=70, y=32), ActiveCell(x=71, y=32), ActiveCell(x=72, y=32), ActiveCell(x=73, y=32), ActiveCell(x=74, y=32), ActiveCell(x=75, y=32), ActiveCell(x=76, y=32), ActiveCell(x=77, y=32), ActiveCell(x=78, y=32), ActiveCell(x=79, y=32), ActiveCell(x=80, y=32), ActiveCell(x=81, y=32), ActiveCell(x=82, y=32), ActiveCell(x=83, y=32), ActiveCell(x=84, y=32), ActiveCell(x=85, y=32), ActiveCell(x=86, y=32), ActiveCell(x=87, y=32), ActiveCell(x=88, y=32), ActiveCell(x=89, y=32), ActiveCell(x=90, y=32), ActiveCell(x=91, y=32), ActiveCell(x=92, y=32), ActiveCell(x=93, y=32), ActiveCell(x=94, y=32), ActiveCell(x=95, y=32), ActiveCell(x=96, y=32), ActiveCell(x=97, y=32), ActiveCell(x=98, y=32), ActiveCell(x=99, y=32), ActiveCell(x=6, y=33), ActiveCell(x=7, y=33), ActiveCell(x=8, y=33), ActiveCell(x=9, y=33), ActiveCell(x=10, y=33), ActiveCell(x=11, y=33), ActiveCell(x=12, y=33), ActiveCell(x=13, y=33), ActiveCell(x=14, y=33), ActiveCell(x=15, y=33), ActiveCell(x=16, y=33), ActiveCell(x=17, y=33), ActiveCell(x=18, y=33), ActiveCell(x=19, y=33), ActiveCell(x=20, y=33), ActiveCell(x=21, y=33), ActiveCell(x=22, y=33), ActiveCell(x=23, y=33), ActiveCell(x=24, y=33), ActiveCell(x=25, y=33), ActiveCell(x=26, y=33), ActiveCell(x=27, y=33), ActiveCell(x=28, y=33), ActiveCell(x=29, y=33), ActiveCell(x=30, y=33), ActiveCell(x=31, y=33), ActiveCell(x=32, y=33), ActiveCell(x=33, y=33), ActiveCell(x=34, y=33), ActiveCell(x=35, y=33), ActiveCell(x=36, y=33), ActiveCell(x=37, y=33), ActiveCell(x=38, y=33), ActiveCell(x=39, y=33), ActiveCell(x=40, y=33), ActiveCell(x=41, y=33), ActiveCell(x=42, y=33), ActiveCell(x=43, y=33), ActiveCell(x=44, y=33), ActiveCell(x=45, y=33), ActiveCell(x=46, y=33), ActiveCell(x=47, y=33), ActiveCell(x=48, y=33), ActiveCell(x=49, y=33), ActiveCell(x=50, y=33), ActiveCell(x=51, y=33), ActiveCell(x=52, y=33), ActiveCell(x=53, y=33), ActiveCell(x=54, y=33), ActiveCell(x=55, y=33), ActiveCell(x=56, y=33), ActiveCell(x=57, y=33), ActiveCell(x=58, y=33), ActiveCell(x=59, y=33), ActiveCell(x=60, y=33), ActiveCell(x=61, y=33), ActiveCell(x=62, y=33), ActiveCell(x=63, y=33), ActiveCell(x=64, y=33), ActiveCell(x=65, y=33), ActiveCell(x=66, y=33), ActiveCell(x=67, y=33), ActiveCell(x=68, y=33), ActiveCell(x=69, y=33), ActiveCell(x=70, y=33), ActiveCell(x=71, y=33), ActiveCell(x=72, y=33), ActiveCell(x=73, y=33), ActiveCell(x=74, y=33), ActiveCell(x=75, y=33), ActiveCell(x=76, y=33), ActiveCell(x=77, y=33), ActiveCell(x=78, y=33), ActiveCell(x=79, y=33), ActiveCell(x=80, y=33), ActiveCell(x=81, y=33), ActiveCell(x=82, y=33), ActiveCell(x=83, y=33), ActiveCell(x=84, y=33), ActiveCell(x=85, y=33), ActiveCell(x=86, y=33), ActiveCell(x=87, y=33), ActiveCell(x=88, y=33), ActiveCell(x=89, y=33), ActiveCell(x=90, y=33), ActiveCell(x=91, y=33), ActiveCell(x=92, y=33), ActiveCell(x=93, y=33), ActiveCell(x=94, y=33), ActiveCell(x=95, y=33), ActiveCell(x=96, y=33), ActiveCell(x=97, y=33), ActiveCell(x=98, y=33), ActiveCell(x=99, y=33), ActiveCell(x=7, y=34), ActiveCell(x=8, y=34), ActiveCell(x=9, y=34), ActiveCell(x=10, y=34), ActiveCell(x=11, y=34), ActiveCell(x=12, y=34), ActiveCell(x=13, y=34), ActiveCell(x=14, y=34), ActiveCell(x=15, y=34), ActiveCell(x=16, y=34), ActiveCell(x=17, y=34), ActiveCell(x=18, y=34), ActiveCell(x=19, y=34), ActiveCell(x=20, y=34), ActiveCell(x=21, y=34), ActiveCell(x=22, y=34), ActiveCell(x=23, y=34), ActiveCell(x=24, y=34), ActiveCell(x=25, y=34), ActiveCell(x=26, y=34), ActiveCell(x=27, y=34), ActiveCell(x=28, y=34), ActiveCell(x=29, y=34), ActiveCell(x=30, y=34), ActiveCell(x=31, y=34), ActiveCell(x=32, y=34), ActiveCell(x=33, y=34), ActiveCell(x=34, y=34), ActiveCell(x=35, y=34), ActiveCell(x=36, y=34), ActiveCell(x=37, y=34), ActiveCell(x=38, y=34), ActiveCell(x=39, y=34), ActiveCell(x=40, y=34), ActiveCell(x=41, y=34), ActiveCell(x=42, y=34), ActiveCell(x=43, y=34), ActiveCell(x=44, y=34), ActiveCell(x=45, y=34), ActiveCell(x=46, y=34), ActiveCell(x=47, y=34), ActiveCell(x=48, y=34), ActiveCell(x=49, y=34), ActiveCell(x=50, y=34), ActiveCell(x=51, y=34), ActiveCell(x=52, y=34), ActiveCell(x=53, y=34), ActiveCell(x=54, y=34), ActiveCell(x=55, y=34), ActiveCell(x=56, y=34), ActiveCell(x=57, y=34), ActiveCell(x=58, y=34), ActiveCell(x=59, y=34), ActiveCell(x=60, y=34), ActiveCell(x=61, y=34), ActiveCell(x=62, y=34), ActiveCell(x=63, y=34), ActiveCell(x=64, y=34), ActiveCell(x=65, y=34), ActiveCell(x=66, y=34), ActiveCell(x=67, y=34), ActiveCell(x=68, y=34), ActiveCell(x=69, y=34), ActiveCell(x=70, y=34), ActiveCell(x=71, y=34), ActiveCell(x=72, y=34), ActiveCell(x=73, y=34), ActiveCell(x=74, y=34), ActiveCell(x=75, y=34), ActiveCell(x=76, y=34), ActiveCell(x=77, y=34), ActiveCell(x=78, y=34), ActiveCell(x=79, y=34), ActiveCell(x=80, y=34), ActiveCell(x=81, y=34), ActiveCell(x=82, y=34), ActiveCell(x=83, y=34), ActiveCell(x=84, y=34), ActiveCell(x=85, y=34), ActiveCell(x=86, y=34), ActiveCell(x=87, y=34), ActiveCell(x=88, y=34), ActiveCell(x=89, y=34), ActiveCell(x=90, y=34), ActiveCell(x=91, y=34), ActiveCell(x=92, y=34), ActiveCell(x=93, y=34), ActiveCell(x=94, y=34), ActiveCell(x=95, y=34), ActiveCell(x=7, y=35), ActiveCell(x=8, y=35), ActiveCell(x=9, y=35), ActiveCell(x=10, y=35), ActiveCell(x=11, y=35), ActiveCell(x=12, y=35), ActiveCell(x=13, y=35), ActiveCell(x=14, y=35), ActiveCell(x=15, y=35), ActiveCell(x=16, y=35), ActiveCell(x=17, y=35), ActiveCell(x=18, y=35), ActiveCell(x=19, y=35), ActiveCell(x=20, y=35), ActiveCell(x=21, y=35), ActiveCell(x=22, y=35), ActiveCell(x=23, y=35), ActiveCell(x=24, y=35), ActiveCell(x=25, y=35), ActiveCell(x=26, y=35), ActiveCell(x=27, y=35), ActiveCell(x=28, y=35), ActiveCell(x=29, y=35), ActiveCell(x=30, y=35), ActiveCell(x=31, y=35), ActiveCell(x=32, y=35), ActiveCell(x=33, y=35), ActiveCell(x=34, y=35), ActiveCell(x=35, y=35), ActiveCell(x=36, y=35), ActiveCell(x=37, y=35), ActiveCell(x=38, y=35), ActiveCell(x=39, y=35), ActiveCell(x=40, y=35), ActiveCell(x=41, y=35), ActiveCell(x=42, y=35), ActiveCell(x=43, y=35), ActiveCell(x=44, y=35), ActiveCell(x=45, y=35), ActiveCell(x=46, y=35), ActiveCell(x=47, y=35), ActiveCell(x=48, y=35), ActiveCell(x=49, y=35), ActiveCell(x=50, y=35), ActiveCell(x=51, y=35), ActiveCell(x=52, y=35), ActiveCell(x=53, y=35), ActiveCell(x=54, y=35), ActiveCell(x=55, y=35), ActiveCell(x=56, y=35), ActiveCell(x=57, y=35), ActiveCell(x=58, y=35), ActiveCell(x=59, y=35), ActiveCell(x=60, y=35), ActiveCell(x=61, y=35), ActiveCell(x=62, y=35), ActiveCell(x=63, y=35), ActiveCell(x=64, y=35), ActiveCell(x=65, y=35), ActiveCell(x=66, y=35), ActiveCell(x=67, y=35), ActiveCell(x=68, y=35), ActiveCell(x=69, y=35), ActiveCell(x=70, y=35), ActiveCell(x=71, y=35), ActiveCell(x=72, y=35), ActiveCell(x=73, y=35), ActiveCell(x=74, y=35), ActiveCell(x=75, y=35), ActiveCell(x=76, y=35), ActiveCell(x=77, y=35), ActiveCell(x=78, y=35), ActiveCell(x=79, y=35), ActiveCell(x=80, y=35), ActiveCell(x=81, y=35), ActiveCell(x=82, y=35), ActiveCell(x=83, y=35), ActiveCell(x=84, y=35), ActiveCell(x=85, y=35), ActiveCell(x=86, y=35), ActiveCell(x=87, y=35), ActiveCell(x=88, y=35), ActiveCell(x=89, y=35), ActiveCell(x=90, y=35), ActiveCell(x=7, y=36), ActiveCell(x=8, y=36), ActiveCell(x=9, y=36), ActiveCell(x=10, y=36), ActiveCell(x=11, y=36), ActiveCell(x=12, y=36), ActiveCell(x=13, y=36), ActiveCell(x=14, y=36), ActiveCell(x=15, y=36), ActiveCell(x=16, y=36), ActiveCell(x=17, y=36), ActiveCell(x=18, y=36), ActiveCell(x=19, y=36), ActiveCell(x=20, y=36), ActiveCell(x=21, y=36), ActiveCell(x=22, y=36), ActiveCell(x=23, y=36), ActiveCell(x=24, y=36), ActiveCell(x=25, y=36), ActiveCell(x=26, y=36), ActiveCell(x=27, y=36), ActiveCell(x=28, y=36), ActiveCell(x=29, y=36), ActiveCell(x=30, y=36), ActiveCell(x=31, y=36), ActiveCell(x=32, y=36), ActiveCell(x=33, y=36), ActiveCell(x=34, y=36), ActiveCell(x=35, y=36), ActiveCell(x=36, y=36), ActiveCell(x=37, y=36), ActiveCell(x=38, y=36), ActiveCell(x=39, y=36), ActiveCell(x=40, y=36), ActiveCell(x=41, y=36), ActiveCell(x=42, y=36), ActiveCell(x=43, y=36), ActiveCell(x=44, y=36), ActiveCell(x=45, y=36), ActiveCell(x=46, y=36), ActiveCell(x=47, y=36), ActiveCell(x=48, y=36), ActiveCell(x=49, y=36), ActiveCell(x=50, y=36), ActiveCell(x=51, y=36), ActiveCell(x=52, y=36), ActiveCell(x=53, y=36), ActiveCell(x=54, y=36), ActiveCell(x=55, y=36), ActiveCell(x=56, y=36), ActiveCell(x=57, y=36), ActiveCell(x=58, y=36), ActiveCell(x=59, y=36), ActiveCell(x=60, y=36), ActiveCell(x=61, y=36), ActiveCell(x=62, y=36), ActiveCell(x=63, y=36), ActiveCell(x=64, y=36), ActiveCell(x=65, y=36), ActiveCell(x=66, y=36), ActiveCell(x=67, y=36), ActiveCell(x=68, y=36), ActiveCell(x=69, y=36), ActiveCell(x=70, y=36), ActiveCell(x=71, y=36), ActiveCell(x=72, y=36), ActiveCell(x=73, y=36), ActiveCell(x=74, y=36), ActiveCell(x=75, y=36), ActiveCell(x=76, y=36), ActiveCell(x=77, y=36), ActiveCell(x=78, y=36), ActiveCell(x=79, y=36), ActiveCell(x=80, y=36), ActiveCell(x=81, y=36), ActiveCell(x=82, y=36), ActiveCell(x=83, y=36), ActiveCell(x=84, y=36), ActiveCell(x=7, y=37), ActiveCell(x=8, y=37), ActiveCell(x=9, y=37), ActiveCell(x=10, y=37), ActiveCell(x=11, y=37), ActiveCell(x=12, y=37), ActiveCell(x=13, y=37), ActiveCell(x=14, y=37), ActiveCell(x=15, y=37), ActiveCell(x=16, y=37), ActiveCell(x=17, y=37), ActiveCell(x=18, y=37), ActiveCell(x=19, y=37), ActiveCell(x=20, y=37), ActiveCell(x=21, y=37), ActiveCell(x=22, y=37), ActiveCell(x=23, y=37), ActiveCell(x=24, y=37), ActiveCell(x=25, y=37), ActiveCell(x=26, y=37), ActiveCell(x=27, y=37), ActiveCell(x=28, y=37), ActiveCell(x=29, y=37), ActiveCell(x=30, y=37), ActiveCell(x=31, y=37), ActiveCell(x=32, y=37), ActiveCell(x=33, y=37), ActiveCell(x=34, y=37), ActiveCell(x=35, y=37), ActiveCell(x=36, y=37), ActiveCell(x=37, y=37), ActiveCell(x=38, y=37), ActiveCell(x=39, y=37), ActiveCell(x=40, y=37), ActiveCell(x=41, y=37), ActiveCell(x=42, y=37), ActiveCell(x=43, y=37), ActiveCell(x=44, y=37), ActiveCell(x=45, y=37), ActiveCell(x=46, y=37), ActiveCell(x=47, y=37), ActiveCell(x=48, y=37), ActiveCell(x=49, y=37), ActiveCell(x=50, y=37), ActiveCell(x=51, y=37), ActiveCell(x=52, y=37), ActiveCell(x=53, y=37), ActiveCell(x=54, y=37), ActiveCell(x=55, y=37), ActiveCell(x=56, y=37), ActiveCell(x=57, y=37), ActiveCell(x=58, y=37), ActiveCell(x=59, y=37), ActiveCell(x=60, y=37), ActiveCell(x=61, y=37), ActiveCell(x=62, y=37), ActiveCell(x=63, y=37), ActiveCell(x=64, y=37), ActiveCell(x=65, y=37), ActiveCell(x=66, y=37), ActiveCell(x=67, y=37), ActiveCell(x=68, y=37), ActiveCell(x=69, y=37), ActiveCell(x=70, y=37), ActiveCell(x=71, y=37), ActiveCell(x=72, y=37), ActiveCell(x=73, y=37), ActiveCell(x=74, y=37), ActiveCell(x=75, y=37), ActiveCell(x=76, y=37), ActiveCell(x=77, y=37), ActiveCell(x=78, y=37), ActiveCell(x=7, y=38), ActiveCell(x=8, y=38), ActiveCell(x=9, y=38), ActiveCell(x=10, y=38), ActiveCell(x=11, y=38), ActiveCell(x=12, y=38), ActiveCell(x=13, y=38), ActiveCell(x=14, y=38), ActiveCell(x=15, y=38), ActiveCell(x=16, y=38), ActiveCell(x=17, y=38), ActiveCell(x=18, y=38), ActiveCell(x=19, y=38), ActiveCell(x=20, y=38), ActiveCell(x=21, y=38), ActiveCell(x=22, y=38), ActiveCell(x=23, y=38), ActiveCell(x=24, y=38), ActiveCell(x=25, y=38), ActiveCell(x=26, y=38), ActiveCell(x=27, y=38), ActiveCell(x=28, y=38), ActiveCell(x=29, y=38), ActiveCell(x=30, y=38), ActiveCell(x=31, y=38), ActiveCell(x=32, y=38), ActiveCell(x=33, y=38), ActiveCell(x=34, y=38), ActiveCell(x=35, y=38), ActiveCell(x=36, y=38), ActiveCell(x=37, y=38), ActiveCell(x=38, y=38), ActiveCell(x=39, y=38), ActiveCell(x=40, y=38), ActiveCell(x=41, y=38), ActiveCell(x=42, y=38), ActiveCell(x=43, y=38), ActiveCell(x=44, y=38), ActiveCell(x=45, y=38), ActiveCell(x=46, y=38), ActiveCell(x=47, y=38), ActiveCell(x=48, y=38), ActiveCell(x=49, y=38), ActiveCell(x=50, y=38), ActiveCell(x=51, y=38), ActiveCell(x=52, y=38), ActiveCell(x=53, y=38), ActiveCell(x=54, y=38), ActiveCell(x=55, y=38), ActiveCell(x=56, y=38), ActiveCell(x=57, y=38), ActiveCell(x=58, y=38), ActiveCell(x=59, y=38), ActiveCell(x=60, y=38), ActiveCell(x=61, y=38), ActiveCell(x=62, y=38), ActiveCell(x=63, y=38), ActiveCell(x=64, y=38), ActiveCell(x=65, y=38), ActiveCell(x=66, y=38), ActiveCell(x=67, y=38), ActiveCell(x=68, y=38), ActiveCell(x=69, y=38), ActiveCell(x=70, y=38), ActiveCell(x=71, y=38), ActiveCell(x=72, y=38), ActiveCell(x=73, y=38), ActiveCell(x=8, y=39), ActiveCell(x=9, y=39), ActiveCell(x=10, y=39), ActiveCell(x=11, y=39), ActiveCell(x=12, y=39), ActiveCell(x=13, y=39), ActiveCell(x=14, y=39), ActiveCell(x=15, y=39), ActiveCell(x=16, y=39), ActiveCell(x=17, y=39), ActiveCell(x=18, y=39), ActiveCell(x=19, y=39), ActiveCell(x=20, y=39), ActiveCell(x=21, y=39), ActiveCell(x=22, y=39), ActiveCell(x=23, y=39), ActiveCell(x=24, y=39), ActiveCell(x=25, y=39), ActiveCell(x=26, y=39), ActiveCell(x=27, y=39), ActiveCell(x=28, y=39), ActiveCell(x=29, y=39), ActiveCell(x=30, y=39), ActiveCell(x=31, y=39), ActiveCell(x=32, y=39), ActiveCell(x=33, y=39), ActiveCell(x=34, y=39), ActiveCell(x=35, y=39), ActiveCell(x=36, y=39), ActiveCell(x=37, y=39), ActiveCell(x=38, y=39), ActiveCell(x=39, y=39), ActiveCell(x=40, y=39), ActiveCell(x=41, y=39), ActiveCell(x=42, y=39), ActiveCell(x=43, y=39), ActiveCell(x=44, y=39), ActiveCell(x=45, y=39), ActiveCell(x=46, y=39), ActiveCell(x=47, y=39), ActiveCell(x=48, y=39), ActiveCell(x=49, y=39), ActiveCell(x=50, y=39), ActiveCell(x=51, y=39), ActiveCell(x=52, y=39), ActiveCell(x=53, y=39), ActiveCell(x=54, y=39), ActiveCell(x=55, y=39), ActiveCell(x=56, y=39), ActiveCell(x=57, y=39), ActiveCell(x=58, y=39), ActiveCell(x=59, y=39), ActiveCell(x=60, y=39), ActiveCell(x=61, y=39), ActiveCell(x=62, y=39), ActiveCell(x=63, y=39), ActiveCell(x=64, y=39), ActiveCell(x=65, y=39), ActiveCell(x=66, y=39), ActiveCell(x=67, y=39), ActiveCell(x=8, y=40), ActiveCell(x=9, y=40), ActiveCell(x=10, y=40), ActiveCell(x=11, y=40), ActiveCell(x=12, y=40), ActiveCell(x=13, y=40), ActiveCell(x=14, y=40), ActiveCell(x=15, y=40), ActiveCell(x=16, y=40), ActiveCell(x=17, y=40), ActiveCell(x=18, y=40), ActiveCell(x=19, y=40), ActiveCell(x=20, y=40), ActiveCell(x=21, y=40), ActiveCell(x=22, y=40), ActiveCell(x=23, y=40), ActiveCell(x=24, y=40), ActiveCell(x=25, y=40), ActiveCell(x=26, y=40), ActiveCell(x=27, y=40), ActiveCell(x=28, y=40), ActiveCell(x=29, y=40), ActiveCell(x=30, y=40), ActiveCell(x=31, y=40), ActiveCell(x=32, y=40), ActiveCell(x=33, y=40), ActiveCell(x=34, y=40), ActiveCell(x=35, y=40), ActiveCell(x=36, y=40), ActiveCell(x=37, y=40), ActiveCell(x=38, y=40), ActiveCell(x=39, y=40), ActiveCell(x=40, y=40), ActiveCell(x=41, y=40), ActiveCell(x=42, y=40), ActiveCell(x=43, y=40), ActiveCell(x=44, y=40), ActiveCell(x=45, y=40), ActiveCell(x=46, y=40), ActiveCell(x=47, y=40), ActiveCell(x=48, y=40), ActiveCell(x=49, y=40), ActiveCell(x=50, y=40), ActiveCell(x=51, y=40), ActiveCell(x=52, y=40), ActiveCell(x=53, y=40), ActiveCell(x=54, y=40), ActiveCell(x=55, y=40), ActiveCell(x=56, y=40), ActiveCell(x=57, y=40), ActiveCell(x=58, y=40), ActiveCell(x=59, y=40), ActiveCell(x=60, y=40), ActiveCell(x=61, y=40), ActiveCell(x=62, y=40), ActiveCell(x=8, y=41), ActiveCell(x=9, y=41), ActiveCell(x=10, y=41), ActiveCell(x=11, y=41), ActiveCell(x=12, y=41), ActiveCell(x=13, y=41), ActiveCell(x=14, y=41), ActiveCell(x=15, y=41), ActiveCell(x=16, y=41), ActiveCell(x=17, y=41), ActiveCell(x=18, y=41), ActiveCell(x=19, y=41), ActiveCell(x=20, y=41), ActiveCell(x=21, y=41), ActiveCell(x=22, y=41), ActiveCell(x=23, y=41), ActiveCell(x=24, y=41), ActiveCell(x=25, y=41), ActiveCell(x=26, y=41), ActiveCell(x=27, y=41), ActiveCell(x=28, y=41), ActiveCell(x=29, y=41), ActiveCell(x=30, y=41), ActiveCell(x=31, y=41), ActiveCell(x=32, y=41), ActiveCell(x=33, y=41), ActiveCell(x=34, y=41), ActiveCell(x=35, y=41), ActiveCell(x=36, y=41), ActiveCell(x=37, y=41), ActiveCell(x=38, y=41), ActiveCell(x=39, y=41), ActiveCell(x=40, y=41), ActiveCell(x=41, y=41), ActiveCell(x=42, y=41), ActiveCell(x=43, y=41), ActiveCell(x=44, y=41), ActiveCell(x=45, y=41), ActiveCell(x=46, y=41), ActiveCell(x=47, y=41), ActiveCell(x=48, y=41), ActiveCell(x=49, y=41), ActiveCell(x=50, y=41), ActiveCell(x=51, y=41), ActiveCell(x=52, y=41), ActiveCell(x=53, y=41), ActiveCell(x=54, y=41), ActiveCell(x=55, y=41), ActiveCell(x=56, y=41), ActiveCell(x=8, y=42), ActiveCell(x=9, y=42), ActiveCell(x=10, y=42), ActiveCell(x=11, y=42), ActiveCell(x=12, y=42), ActiveCell(x=13, y=42), ActiveCell(x=14, y=42), ActiveCell(x=15, y=42), ActiveCell(x=16, y=42), ActiveCell(x=17, y=42), ActiveCell(x=18, y=42), ActiveCell(x=19, y=42), ActiveCell(x=20, y=42), ActiveCell(x=21, y=42), ActiveCell(x=22, y=42), ActiveCell(x=23, y=42), ActiveCell(x=24, y=42), ActiveCell(x=25, y=42), ActiveCell(x=26, y=42), ActiveCell(x=27, y=42), ActiveCell(x=28, y=42), ActiveCell(x=29, y=42), ActiveCell(x=30, y=42), ActiveCell(x=31, y=42), ActiveCell(x=32, y=42), ActiveCell(x=33, y=42), ActiveCell(x=34, y=42), ActiveCell(x=35, y=42), ActiveCell(x=36, y=42), ActiveCell(x=37, y=42), ActiveCell(x=38, y=42), ActiveCell(x=39, y=42), ActiveCell(x=40, y=42), ActiveCell(x=41, y=42), ActiveCell(x=42, y=42), ActiveCell(x=43, y=42), ActiveCell(x=44, y=42), ActiveCell(x=45, y=42), ActiveCell(x=46, y=42), ActiveCell(x=47, y=42), ActiveCell(x=48, y=42), ActiveCell(x=49, y=42), ActiveCell(x=50, y=42), ActiveCell(x=8, y=43), ActiveCell(x=9, y=43), ActiveCell(x=10, y=43), ActiveCell(x=11, y=43), ActiveCell(x=12, y=43), ActiveCell(x=13, y=43), ActiveCell(x=14, y=43), ActiveCell(x=15, y=43), ActiveCell(x=16, y=43), ActiveCell(x=17, y=43), ActiveCell(x=18, y=43), ActiveCell(x=19, y=43), ActiveCell(x=20, y=43), ActiveCell(x=21, y=43), ActiveCell(x=22, y=43), ActiveCell(x=23, y=43), ActiveCell(x=24, y=43), ActiveCell(x=25, y=43), ActiveCell(x=26, y=43), ActiveCell(x=27, y=43), ActiveCell(x=28, y=43), ActiveCell(x=29, y=43), ActiveCell(x=30, y=43), ActiveCell(x=31, y=43), ActiveCell(x=32, y=43), ActiveCell(x=33, y=43), ActiveCell(x=34, y=43), ActiveCell(x=35, y=43), ActiveCell(x=36, y=43), ActiveCell(x=37, y=43), ActiveCell(x=38, y=43), ActiveCell(x=39, y=43), ActiveCell(x=40, y=43), ActiveCell(x=41, y=43), ActiveCell(x=42, y=43), ActiveCell(x=43, y=43), ActiveCell(x=44, y=43), ActiveCell(x=45, y=43), ActiveCell(x=9, y=44), ActiveCell(x=10, y=44), ActiveCell(x=11, y=44), ActiveCell(x=12, y=44), ActiveCell(x=13, y=44), ActiveCell(x=14, y=44), ActiveCell(x=15, y=44), ActiveCell(x=16, y=44), ActiveCell(x=17, y=44), ActiveCell(x=18, y=44), ActiveCell(x=19, y=44), ActiveCell(x=20, y=44), ActiveCell(x=21, y=44), ActiveCell(x=22, y=44), ActiveCell(x=23, y=44), ActiveCell(x=24, y=44), ActiveCell(x=25, y=44), ActiveCell(x=26, y=44), ActiveCell(x=27, y=44), ActiveCell(x=28, y=44), ActiveCell(x=29, y=44), ActiveCell(x=30, y=44), ActiveCell(x=31, y=44), ActiveCell(x=32, y=44), ActiveCell(x=33, y=44), ActiveCell(x=34, y=44), ActiveCell(x=35, y=44), ActiveCell(x=36, y=44), ActiveCell(x=37, y=44), ActiveCell(x=38, y=44), ActiveCell(x=39, y=44), ActiveCell(x=9, y=45), ActiveCell(x=10, y=45), ActiveCell(x=11, y=45), ActiveCell(x=12, y=45), ActiveCell(x=13, y=45), ActiveCell(x=14, y=45), ActiveCell(x=15, y=45), ActiveCell(x=16, y=45), ActiveCell(x=17, y=45), ActiveCell(x=18, y=45), ActiveCell(x=19, y=45), ActiveCell(x=20, y=45), ActiveCell(x=21, y=45), ActiveCell(x=22, y=45), ActiveCell(x=23, y=45), ActiveCell(x=24, y=45), ActiveCell(x=25, y=45), ActiveCell(x=26, y=45), ActiveCell(x=27, y=45), ActiveCell(x=28, y=45), ActiveCell(x=29, y=45), ActiveCell(x=30, y=45), ActiveCell(x=31, y=45), ActiveCell(x=32, y=45), ActiveCell(x=33, y=45), ActiveCell(x=34, y=45), ActiveCell(x=9, y=46), ActiveCell(x=10, y=46), ActiveCell(x=11, y=46), ActiveCell(x=12, y=46), ActiveCell(x=13, y=46), ActiveCell(x=14, y=46), ActiveCell(x=15, y=46), ActiveCell(x=16, y=46), ActiveCell(x=17, y=46), ActiveCell(x=18, y=46), ActiveCell(x=19, y=46), ActiveCell(x=20, y=46), ActiveCell(x=21, y=46), ActiveCell(x=22, y=46), ActiveCell(x=23, y=46), ActiveCell(x=24, y=46), ActiveCell(x=25, y=46), ActiveCell(x=26, y=46), ActiveCell(x=27, y=46), ActiveCell(x=28, y=46), ActiveCell(x=9, y=47), ActiveCell(x=10, y=47), ActiveCell(x=11, y=47), ActiveCell(x=12, y=47), ActiveCell(x=13, y=47), ActiveCell(x=14, y=47), ActiveCell(x=15, y=47), ActiveCell(x=16, y=47), ActiveCell(x=17, y=47), ActiveCell(x=18, y=47), ActiveCell(x=19, y=47), ActiveCell(x=20, y=47), ActiveCell(x=21, y=47), ActiveCell(x=22, y=47), ActiveCell(x=23, y=47), ActiveCell(x=9, y=48), ActiveCell(x=10, y=48), ActiveCell(x=11, y=48), ActiveCell(x=12, y=48), ActiveCell(x=13, y=48), ActiveCell(x=14, y=48), ActiveCell(x=15, y=48), ActiveCell(x=16, y=48), ActiveCell(x=17, y=48), ActiveCell(x=9, y=49), ActiveCell(x=10, y=49), ActiveCell(x=11, y=49)])), time_discretization=TimeDiscretization(start_date_time=StartDateTime(value=datetime.datetime(2020, 1, 1, 0, 0, tzinfo=datetime.timezone.utc)), end_date_time=EndDateTime(value=datetime.datetime(2020, 1, 2, 0, 0, tzinfo=datetime.timezone.utc)), stress_periods=StressPeriodCollection(values=[StressPeriod(start_date_time=StartDateTime(value=datetime.datetime(2020, 1, 1, 0, 0, tzinfo=datetime.timezone.utc)), number_of_time_steps=NumberOfTimeSteps(value=1), time_step_multiplier=TimeStepMultiplier(value=1.0), steady_state=IsSteadyState(value=True))]), time_unit=TimeUnit(unit=4)), boundaries=BoundaryCollection(boundaries=[]), observations=ObservationCollection(observations=[]), soil_model=SoilModel(layers=[Layer(id=LayerId(value='5eab1d8c-94cb-4aea-8310-c293eb9c8ba0'), name=LayerName(value='Default'), description=LayerDescription(value='Default'), type=LayerType(type='confined'), data=LayerData(kx=1, ky=1, kz=1, specific_storage=0.0001, specific_yield=0.1, initial_head=1.0, top=1, bottom=0))]), transport=Transport(is_enabled=IsEnabled(value=False), substances=[]), variable_density=VariableDensityFlow(is_enabled=IsEnabled(value=False), viscosity_is_enabled=IsEnabled(value=False)))"
     },
     "execution_count": 4,
     "metadata": {},
     "output_type": "execute_result"
    }
   ],
   "source": [
    "from morpheus.modflow.application.read.BaseModelReader import BaseModelReader\n",
    "\n",
    "base_model_reader = BaseModelReader()\n",
    "base_model = base_model_reader.get_latest_base_model(project_id)\n",
    "base_model"
   ],
   "metadata": {
    "collapsed": false,
    "ExecuteTime": {
     "end_time": "2024-02-01T14:01:50.149444Z",
     "start_time": "2024-02-01T14:01:50.132696Z"
    }
   },
   "id": "d2717a59e00a53d1",
   "execution_count": 4
  },
  {
   "cell_type": "markdown",
   "source": [
    "## Update BaseModel Geometry\n"
   ],
   "metadata": {
    "collapsed": false
   },
   "id": "572a7b334c101e6c"
  },
  {
   "cell_type": "code",
   "execution_count": 5,
   "outputs": [
    {
     "data": {
      "text/plain": "Polygon(coordinates=[[[13.922, 50.965], [13.925, 50.965], [13.925, 50.966], [13.922, 50.966], [13.922, 50.965]]], type='Polygon')"
     },
     "execution_count": 5,
     "metadata": {},
     "output_type": "execute_result"
    }
   ],
   "source": [
    "from morpheus.modflow.application.write.BaseModelCommandHandlers import UpdateModelGeometryCommandHandler, UpdateModelGeometryCommand\n",
    "\n",
    "new_polygon = Polygon(\n",
    "  type='Polygon',\n",
    "  coordinates=[[\n",
    "    (13.922, 50.965),\n",
    "    (13.925, 50.965),\n",
    "    (13.925, 50.966),\n",
    "    (13.922, 50.966),\n",
    "    (13.922, 50.965)\n",
    "  ]]\n",
    ")\n",
    "\n",
    "command = UpdateModelGeometryCommand(\n",
    "  project_id=project_id,\n",
    "  geometry=new_polygon,\n",
    "  updated_by=user_id\n",
    ")\n",
    "\n",
    "UpdateModelGeometryCommandHandler.handle(command)\n",
    "\n",
    "base_model_reader = BaseModelReader()\n",
    "base_model = base_model_reader.get_latest_base_model(project_id)\n",
    "base_model.spatial_discretization.geometry"
   ],
   "metadata": {
    "collapsed": false,
    "ExecuteTime": {
     "end_time": "2024-02-01T14:01:50.428027Z",
     "start_time": "2024-02-01T14:01:50.147579Z"
    }
   },
   "id": "c38378d24fc310eb"
  },
  {
   "cell_type": "markdown",
   "source": [
    "## Update BaseModel Grid Properties"
   ],
   "metadata": {
    "collapsed": false
   },
   "id": "91c1beb811cc5003"
  },
  {
   "cell_type": "code",
   "execution_count": 6,
   "outputs": [
    {
     "name": "stdout",
     "output_type": "stream",
     "text": [
      "Polygon(coordinates=[[[13.922, 50.965], [13.925, 50.965], [13.925, 50.966], [13.922, 50.966], [13.922, 50.965]]], type='Polygon')\n",
      "Grid(origin=Point(coordinates=[13.921728464165456, 50.96596984662515], type='Point'), x_distances=[35.957842737529425, 35.957842737529425, 35.95784273752943, 35.95784273752942, 35.95784273752943, 35.95784273752943, 35.957842737529404, 35.95784273752943, 35.95784273752946, 35.957842737529404], y_distances=[46.41259297113866, 46.41259297113866, 46.412592971138636, 46.41259297113868, 46.41259297113865], rotation=Rotation(value=10), length_unit=LengthUnit(unit=2))\n",
      "{'type': 'raster', 'empty_value': False, 'shape': [5, 10], 'data': [[False, True, True, True, True, False, False, False, False, False], [False, True, True, True, True, True, True, True, True, True], [True, True, True, True, True, True, True, True, True, True], [True, True, True, True, True, True, True, True, True, False], [False, False, False, False, False, True, True, True, True, False]]}\n"
     ]
    }
   ],
   "source": [
    "from morpheus.modflow.application.write.BaseModelCommandHandlers import UpdateModelGridCommandHandler, UpdateModelGridCommand\n",
    "\n",
    "command = UpdateModelGridCommand(\n",
    "  project_id=project_id,\n",
    "  update_grid={\n",
    "    'relative_x_coordinates': [0, 0.1, 0.2, 0.3, 0.4, 0.5, 0.6, 0.7, 0.8, 0.9, 1],\n",
    "    'relative_y_coordinates': [0, 0.2, 0.4, 0.6, 0.8, 1],\n",
    "    'rotation': 10,\n",
    "  },\n",
    "  updated_by=user_id\n",
    ")\n",
    "\n",
    "UpdateModelGridCommandHandler.handle(command=command)\n",
    "\n",
    "base_model_reader = BaseModelReader()\n",
    "base_model = base_model_reader.get_latest_base_model(project_id)\n",
    "print(base_model.spatial_discretization.geometry)\n",
    "print(base_model.spatial_discretization.grid)\n",
    "print(base_model.spatial_discretization.affected_cells.to_dict())"
   ],
   "metadata": {
    "collapsed": false,
    "ExecuteTime": {
     "end_time": "2024-02-01T14:01:50.475837Z",
     "start_time": "2024-02-01T14:01:50.428985Z"
    }
   },
   "id": "3eeeb70e09d71fba"
  },
  {
   "cell_type": "markdown",
   "source": [
    "## Update BaseModel Affected Cells"
   ],
   "metadata": {
    "collapsed": false
   },
   "id": "2e17bfb7ad5edd8a"
  },
  {
   "cell_type": "code",
   "execution_count": 7,
   "outputs": [],
   "source": [
    "from morpheus.modflow.application.write.BaseModelCommandHandlers import UpdateModelAffectedCellsCommandHandler, UpdateModelAffectedCellsCommand\n",
    "\n",
    "base_model_reader = BaseModelReader()\n",
    "base_model = base_model_reader.get_latest_base_model(project_id=project_id)\n",
    "affected_cells = base_model.spatial_discretization.affected_cells\n",
    "\n",
    "assert affected_cells.is_active(x=0, y=0) == False\n",
    "affected_cells.set_active(x=0, y=0)\n",
    "assert affected_cells.is_active(x=0, y=0) == True\n",
    "\n",
    "command = UpdateModelAffectedCellsCommand(\n",
    "  project_id=project_id,\n",
    "  affected_cells=affected_cells,\n",
    "  updated_by=user_id\n",
    ")\n",
    "\n",
    "UpdateModelAffectedCellsCommandHandler.handle(command=command)"
   ],
   "metadata": {
    "collapsed": false,
    "ExecuteTime": {
     "end_time": "2024-02-01T14:01:50.487065Z",
     "start_time": "2024-02-01T14:01:50.475665Z"
    }
   },
   "id": "2125ecf138c64a88"
  },
  {
   "cell_type": "code",
   "execution_count": 8,
   "outputs": [],
   "source": [
    "base_model_reader = BaseModelReader()\n",
    "base_model = base_model_reader.get_latest_base_model(project_id=project_id)\n",
    "affected_cells = base_model.spatial_discretization.affected_cells\n",
    "assert affected_cells.is_active(x=0, y=0) == True"
   ],
   "metadata": {
    "collapsed": false,
    "ExecuteTime": {
     "end_time": "2024-02-01T14:01:50.491158Z",
     "start_time": "2024-02-01T14:01:50.487382Z"
    }
   },
   "id": "181c8ad99124273c"
  },
  {
   "cell_type": "markdown",
   "source": [
    "## Show Versions of BaseModel so far"
   ],
   "metadata": {
    "collapsed": false
   },
   "id": "accb680cfa47f091"
  },
  {
   "cell_type": "code",
   "execution_count": 9,
   "outputs": [
    {
     "data": {
      "text/plain": "[BaseModelVersion(version_id=VersionId(value='ca4e9283-0d95-4283-b033-b64931f59526'), tag=VersionTag(value='v0.0.0'), description=VersionDescription(value='Initial version'))]"
     },
     "execution_count": 9,
     "metadata": {},
     "output_type": "execute_result"
    }
   ],
   "source": [
    "base_model_reader = BaseModelReader()\n",
    "base_model_reader.get_versions(project_id=project_id)"
   ],
   "metadata": {
    "collapsed": false,
    "ExecuteTime": {
     "end_time": "2024-02-01T14:01:50.495489Z",
     "start_time": "2024-02-01T14:01:50.491690Z"
    }
   },
   "id": "cb4afb5b3dd54cea"
  },
  {
   "cell_type": "markdown",
   "source": [
    "## Tag Version"
   ],
   "metadata": {
    "collapsed": false
   },
   "id": "c1e717aa2a462cbb"
  },
  {
   "cell_type": "code",
   "execution_count": 10,
   "outputs": [],
   "source": [
    "from morpheus.modflow.types.BaseModelVersion import VersionTag, VersionDescription\n",
    "from morpheus.modflow.application.write.BaseModelCommandHandlers import SetVersionCommand, SetVersionCommandHandler\n",
    "\n",
    "command = SetVersionCommand(\n",
    "  project_id=project_id,\n",
    "  version_tag=VersionTag('v1.0.0'),\n",
    "  version_description=VersionDescription('Version 1.0.0'),\n",
    "  created_by=user_id\n",
    ")\n",
    "\n",
    "SetVersionCommandHandler.handle(command=command)"
   ],
   "metadata": {
    "collapsed": false,
    "ExecuteTime": {
     "end_time": "2024-02-01T14:01:50.527814Z",
     "start_time": "2024-02-01T14:01:50.496307Z"
    }
   },
   "id": "f6001b161c3b63da"
  },
  {
   "cell_type": "code",
   "execution_count": 11,
   "outputs": [
    {
     "data": {
      "text/plain": "[BaseModelVersion(version_id=VersionId(value='ba129f6d-4dd4-4301-bf5d-58e5ea65107e'), tag=VersionTag(value='v1.0.0'), description=VersionDescription(value='Version 1.0.0')),\n BaseModelVersion(version_id=VersionId(value='ca4e9283-0d95-4283-b033-b64931f59526'), tag=VersionTag(value='v0.0.0'), description=VersionDescription(value='Initial version'))]"
     },
     "execution_count": 11,
     "metadata": {},
     "output_type": "execute_result"
    }
   ],
   "source": [
    "base_model_reader.get_versions(project_id=project_id)"
   ],
   "metadata": {
    "collapsed": false,
    "ExecuteTime": {
     "end_time": "2024-02-01T14:01:50.532658Z",
     "start_time": "2024-02-01T14:01:50.515772Z"
    }
   },
   "id": "91ce3ebddf8a88be"
  },
  {
   "cell_type": "code",
   "execution_count": 12,
   "outputs": [
    {
     "data": {
      "text/plain": "BaseModelVersion(version_id=VersionId(value='ba129f6d-4dd4-4301-bf5d-58e5ea65107e'), tag=VersionTag(value='v1.0.0'), description=VersionDescription(value='Version 1.0.0'))"
     },
     "execution_count": 12,
     "metadata": {},
     "output_type": "execute_result"
    }
   ],
   "source": [
    "version = base_model_reader.get_version_by_tag(project_id=project_id, tag=VersionTag('v1.0.0'))\n",
    "version"
   ],
   "metadata": {
    "collapsed": false,
    "ExecuteTime": {
     "end_time": "2024-02-01T14:01:50.532906Z",
     "start_time": "2024-02-01T14:01:50.520592Z"
    }
   },
   "id": "98e0fcfb479f8ff8"
  },
  {
   "cell_type": "code",
   "execution_count": 13,
   "outputs": [],
   "source": [
    "from morpheus.modflow.application.write.BaseModelCommandHandlers import UpdateVersionDescriptionCommand, UpdateVersionDescriptionCommandHandler\n",
    "\n",
    "command = UpdateVersionDescriptionCommand(\n",
    "  project_id=project_id,\n",
    "  version_id=version.version_id,\n",
    "  version_description=VersionDescription('Version 1.0.0 - Updated'),\n",
    "  updated_by=user_id\n",
    ")\n",
    "\n",
    "UpdateVersionDescriptionCommandHandler.handle(command=command)"
   ],
   "metadata": {
    "collapsed": false,
    "ExecuteTime": {
     "end_time": "2024-02-01T14:01:50.533416Z",
     "start_time": "2024-02-01T14:01:50.524530Z"
    }
   },
   "id": "d447991ac286684f"
  },
  {
   "cell_type": "code",
   "execution_count": 14,
   "outputs": [
    {
     "data": {
      "text/plain": "'Version 1.0.0 - Updated'"
     },
     "execution_count": 14,
     "metadata": {},
     "output_type": "execute_result"
    }
   ],
   "source": [
    "version = base_model_reader.get_version_by_tag(project_id=project_id, tag=VersionTag('v1.0.0'))\n",
    "version.description.to_str()"
   ],
   "metadata": {
    "collapsed": false,
    "ExecuteTime": {
     "end_time": "2024-02-01T14:01:50.538656Z",
     "start_time": "2024-02-01T14:01:50.533368Z"
    }
   },
   "id": "98bd0d67dcdef72c"
  },
  {
   "cell_type": "code",
   "execution_count": 14,
   "outputs": [],
   "source": [],
   "metadata": {
    "collapsed": false,
    "ExecuteTime": {
     "end_time": "2024-02-01T14:01:50.542344Z",
     "start_time": "2024-02-01T14:01:50.537713Z"
    }
   },
   "id": "33c72df360860965"
  }
 ],
 "metadata": {
  "kernelspec": {
   "display_name": "Python 3",
   "language": "python",
   "name": "python3"
  },
  "language_info": {
   "codemirror_mode": {
    "name": "ipython",
    "version": 2
   },
   "file_extension": ".py",
   "mimetype": "text/x-python",
   "name": "python",
   "nbconvert_exporter": "python",
   "pygments_lexer": "ipython2",
   "version": "2.7.6"
  }
 },
 "nbformat": 4,
 "nbformat_minor": 5
}
