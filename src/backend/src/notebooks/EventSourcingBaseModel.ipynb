{
 "cells": [
  {
   "cell_type": "markdown",
   "source": [
    "# Listeners must have arguments \"event\" and \"metadata\" with proper types"
   ],
   "metadata": {
    "collapsed": false
   },
   "id": "740a87482c1f1624"
  },
  {
   "cell_type": "code",
   "outputs": [],
   "source": [
    "from morpheus.modflow.types.User import UserId\n",
    "from morpheus.modflow.types.Project import ProjectId, Name, Description, Tags\n",
    "\n",
    "user_id = UserId.new()\n",
    "project_id = ProjectId.new()\n",
    "name = Name.from_str('Project 1')\n",
    "description = Description.from_str('Description 1')\n",
    "tags = Tags.from_list(['tag1', 'tag2'])\n",
    "\n",
    "from morpheus.modflow.application.write.ProjectCommandHandlers import CreateProjectCommand, CreateProjectCommandHandler\n",
    "\n",
    "create_project_command = CreateProjectCommand(\n",
    "  project_id=project_id,\n",
    "  name=name,\n",
    "  description=description,\n",
    "  tags=tags,\n",
    "  created_by=user_id\n",
    ")\n",
    "\n",
    "CreateProjectCommandHandler.handle(create_project_command)"
   ],
   "metadata": {
    "collapsed": false,
    "ExecuteTime": {
     "end_time": "2024-01-29T21:57:13.033976Z",
     "start_time": "2024-01-29T21:57:11.748188Z"
    }
   },
   "id": "932b4fe5bd839f2",
   "execution_count": 1
  },
  {
   "cell_type": "markdown",
   "source": [
    "# Read ProjectList"
   ],
   "metadata": {
    "collapsed": false
   },
   "id": "9d52b120aa989d1f"
  },
  {
   "cell_type": "code",
   "outputs": [
    {
     "data": {
      "text/plain": "[ProjectSummary(project_id=ProjectId(value='f02f7a3c-e096-4719-9624-0025d7753178'), project_name=Name(value='Project 1'), project_description=Description(value='Description 1'), project_tags=Tags(value=['tag1', 'tag2']), owner_id=UserId(value='56e770b9-5b16-4b1c-8302-70c64eb43877'), visibility=<Visibility.PRIVATE: 'private'>),\n ProjectSummary(project_id=ProjectId(value='2c61c571-43b6-4f34-9cc5-ddc105d62267'), project_name=Name(value='Project 1'), project_description=Description(value='Description 1'), project_tags=Tags(value=['tag1', 'tag2']), owner_id=UserId(value='30e9959f-923f-442c-9061-1a5a0e418774'), visibility=<Visibility.PRIVATE: 'private'>),\n ProjectSummary(project_id=ProjectId(value='8341996d-f11a-4886-bc98-f51d006f971b'), project_name=Name(value='Project 1'), project_description=Description(value='Description 1'), project_tags=Tags(value=['tag1', 'tag2']), owner_id=UserId(value='36fe1947-7c16-4351-a38b-03bfa4c477f3'), visibility=<Visibility.PRIVATE: 'private'>),\n ProjectSummary(project_id=ProjectId(value='0fa6438d-2b2d-4b32-8db8-114820eec63d'), project_name=Name(value='Project 1'), project_description=Description(value='Description 1'), project_tags=Tags(value=['tag1', 'tag2']), owner_id=UserId(value='267ae160-ef93-49a4-a5de-bd244a65388f'), visibility=<Visibility.PRIVATE: 'private'>),\n ProjectSummary(project_id=ProjectId(value='2b401310-c1e6-4817-bdf4-98dfbfc3bae6'), project_name=Name(value='Project 1'), project_description=Description(value='Description 1'), project_tags=Tags(value=['tag1', 'tag2']), owner_id=UserId(value='4cd12ced-ef80-4a81-bcdf-db0e9bb5bfef'), visibility=<Visibility.PRIVATE: 'private'>),\n ProjectSummary(project_id=ProjectId(value='bfbaebb3-325f-4b56-95a4-0e8c8d37aa15'), project_name=Name(value='Project 1'), project_description=Description(value='Description 1'), project_tags=Tags(value=['tag1', 'tag2']), owner_id=UserId(value='2eb8321c-339d-4d7e-9cef-6de7c2547b90'), visibility=<Visibility.PRIVATE: 'private'>),\n ProjectSummary(project_id=ProjectId(value='9bf932b9-8ed2-4199-b2ba-d9f244cf393f'), project_name=Name(value='Project 1'), project_description=Description(value='Description 1'), project_tags=Tags(value=['tag1', 'tag2']), owner_id=UserId(value='26186d30-1c9b-42e2-b51b-9387128965b6'), visibility=<Visibility.PRIVATE: 'private'>)]"
     },
     "execution_count": 2,
     "metadata": {},
     "output_type": "execute_result"
    }
   ],
   "source": [
    "from morpheus.modflow.application.read.ProjectsReader import ProjectsReader\n",
    "\n",
    "projects_reader = ProjectsReader()\n",
    "project_list = projects_reader.get_project_summaries()\n",
    "project_list"
   ],
   "metadata": {
    "collapsed": false,
    "ExecuteTime": {
     "end_time": "2024-01-29T21:57:13.043491Z",
     "start_time": "2024-01-29T21:57:13.034986Z"
    }
   },
   "id": "56155ec2f19c768d",
   "execution_count": 2
  },
  {
   "cell_type": "markdown",
   "source": [
    "# Create base model"
   ],
   "metadata": {
    "collapsed": false
   },
   "id": "22380477da429c5d"
  },
  {
   "cell_type": "code",
   "execution_count": 3,
   "outputs": [],
   "source": [
    "from morpheus.modflow.types.discretization.spatial import Rotation, LengthUnit\n",
    "from morpheus.modflow.types.geometry import Polygon\n",
    "from morpheus.modflow.types.ModflowModel import ModelId\n",
    "from morpheus.modflow.application.write.BaseModelCommandHandlers import CreateBaseModelCommand, CreateBaseModelCommandHandler\n",
    "\n",
    "polygon = Polygon(\n",
    "  type='Polygon',\n",
    "  coordinates=[[\n",
    "    (13.922514437551428, 50.964720483303836),\n",
    "    (13.925250781947113, 50.965228748412386),\n",
    "    (13.925036413951403, 50.96623732041704),\n",
    "    (13.92222441026388, 50.96629040370362),\n",
    "    (13.922514437551428, 50.964720483303836)\n",
    "  ]]\n",
    ")\n",
    "\n",
    "nx = 100\n",
    "ny = 100\n",
    "rotation = Rotation.from_float(0.0)\n",
    "length_unit = LengthUnit.meters()\n",
    "\n",
    "create_base_model_command = CreateBaseModelCommand(\n",
    "  project_id=project_id,\n",
    "  model_id=ModelId.new(),\n",
    "  geometry=polygon,\n",
    "  grid_properties={\n",
    "    'nx': nx,\n",
    "    'ny': ny,\n",
    "    'rotation': rotation.to_float(),\n",
    "    'length_unit': length_unit.to_str()\n",
    "  },\n",
    "  created_by=user_id\n",
    ")\n",
    "\n",
    "CreateBaseModelCommandHandler.handle(create_base_model_command)"
   ],
   "metadata": {
    "collapsed": false,
    "ExecuteTime": {
     "end_time": "2024-01-29T21:57:13.884605Z",
     "start_time": "2024-01-29T21:57:13.044485Z"
    }
   },
   "id": "7db50a89dc6391e5"
  },
  {
   "cell_type": "markdown",
   "source": [
    "# Read Latest BaseModel"
   ],
   "metadata": {
    "collapsed": false
   },
   "id": "cde69ee770d30fc1"
  },
  {
   "cell_type": "code",
   "outputs": [
    {
     "ename": "NameError",
     "evalue": "name 'project_id' is not defined",
     "output_type": "error",
     "traceback": [
      "\u001B[0;31m---------------------------------------------------------------------------\u001B[0m",
      "\u001B[0;31mNameError\u001B[0m                                 Traceback (most recent call last)",
      "Cell \u001B[0;32mIn[1], line 4\u001B[0m\n\u001B[1;32m      1\u001B[0m \u001B[38;5;28;01mfrom\u001B[39;00m \u001B[38;5;21;01mmorpheus\u001B[39;00m\u001B[38;5;21;01m.\u001B[39;00m\u001B[38;5;21;01mmodflow\u001B[39;00m\u001B[38;5;21;01m.\u001B[39;00m\u001B[38;5;21;01mapplication\u001B[39;00m\u001B[38;5;21;01m.\u001B[39;00m\u001B[38;5;21;01mread\u001B[39;00m\u001B[38;5;21;01m.\u001B[39;00m\u001B[38;5;21;01mBaseModelReader\u001B[39;00m \u001B[38;5;28;01mimport\u001B[39;00m BaseModelReader\n\u001B[1;32m      3\u001B[0m base_model_reader \u001B[38;5;241m=\u001B[39m BaseModelReader()\n\u001B[0;32m----> 4\u001B[0m base_model \u001B[38;5;241m=\u001B[39m base_model_reader\u001B[38;5;241m.\u001B[39mget_latest_base_model(\u001B[43mproject_id\u001B[49m)\n\u001B[1;32m      5\u001B[0m base_model\n",
      "\u001B[0;31mNameError\u001B[0m: name 'project_id' is not defined"
     ]
    }
   ],
   "source": [
    "from morpheus.modflow.application.read.BaseModelReader import BaseModelReader\n",
    "\n",
    "base_model_reader = BaseModelReader()\n",
    "base_model = base_model_reader.get_latest_base_model(project_id)\n",
    "base_model"
   ],
   "metadata": {
    "collapsed": false,
    "ExecuteTime": {
     "end_time": "2024-01-30T09:34:58.461279Z",
     "start_time": "2024-01-30T09:34:55.979335Z"
    }
   },
   "id": "d2717a59e00a53d1",
   "execution_count": 1
  },
  {
   "cell_type": "code",
   "execution_count": 2,
   "outputs": [],
   "source": [
    "from morpheus.modflow.application.write.BaseModelCommandHandlers import U, CreateBaseModelCommandHandler"
   ],
   "metadata": {
    "collapsed": false,
    "ExecuteTime": {
     "end_time": "2024-01-30T09:35:08.397263Z",
     "start_time": "2024-01-30T09:35:08.281634Z"
    }
   },
   "id": "fe3b2ea51a73d342"
  },
  {
   "cell_type": "code",
   "execution_count": 2,
   "outputs": [],
   "source": [],
   "metadata": {
    "collapsed": false,
    "ExecuteTime": {
     "end_time": "2024-01-30T09:35:08.688354Z",
     "start_time": "2024-01-30T09:35:08.665338Z"
    }
   },
   "id": "c38378d24fc310eb"
  },
  {
   "cell_type": "code",
   "execution_count": null,
   "outputs": [],
   "source": [],
   "metadata": {
    "collapsed": false
   },
   "id": "c7cbbb4a43087b60"
  }
 ],
 "metadata": {
  "kernelspec": {
   "display_name": "Python 3",
   "language": "python",
   "name": "python3"
  },
  "language_info": {
   "codemirror_mode": {
    "name": "ipython",
    "version": 2
   },
   "file_extension": ".py",
   "mimetype": "text/x-python",
   "name": "python",
   "nbconvert_exporter": "python",
   "pygments_lexer": "ipython2",
   "version": "2.7.6"
  }
 },
 "nbformat": 4,
 "nbformat_minor": 5
}
