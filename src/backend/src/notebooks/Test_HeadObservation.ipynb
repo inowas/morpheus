{
 "cells": [
  {
   "cell_type": "code",
   "id": "ba6761fae9d5e5cb",
   "metadata": {
    "collapsed": false,
    "execution": {
     "iopub.execute_input": "2024-06-20T19:03:12.080942Z",
     "iopub.status.busy": "2024-06-20T19:03:12.080607Z",
     "iopub.status.idle": "2024-06-20T19:03:12.084966Z",
     "shell.execute_reply": "2024-06-20T19:03:12.084392Z"
    },
    "papermill": {
     "duration": 0.014286,
     "end_time": "2024-06-20T19:03:12.086747",
     "exception": false,
     "start_time": "2024-06-20T19:03:12.072461",
     "status": "completed"
    },
    "tags": [],
    "ExecuteTime": {
     "end_time": "2024-08-19T10:13:26.542592Z",
     "start_time": "2024-08-19T10:13:26.539081Z"
    }
   },
   "source": [
    "import sys\n",
    "\n",
    "sys.path.insert(0, '..')"
   ],
   "outputs": [],
   "execution_count": 1
  },
  {
   "cell_type": "markdown",
   "id": "5ede1ba5e0993dd1",
   "metadata": {
    "collapsed": false,
    "papermill": {
     "duration": 0.00662,
     "end_time": "2024-06-20T19:03:12.099885",
     "exception": false,
     "start_time": "2024-06-20T19:03:12.093265",
     "status": "completed"
    },
    "tags": []
   },
   "source": [
    "## Setup the model area"
   ]
  },
  {
   "cell_type": "code",
   "id": "2f69504ab35487aa",
   "metadata": {
    "collapsed": false,
    "execution": {
     "iopub.execute_input": "2024-06-20T19:03:12.106430Z",
     "iopub.status.busy": "2024-06-20T19:03:12.106154Z",
     "iopub.status.idle": "2024-06-20T19:03:12.627324Z",
     "shell.execute_reply": "2024-06-20T19:03:12.626985Z"
    },
    "papermill": {
     "duration": 0.525124,
     "end_time": "2024-06-20T19:03:12.628410",
     "exception": false,
     "start_time": "2024-06-20T19:03:12.103286",
     "status": "completed"
    },
    "tags": [],
    "ExecuteTime": {
     "end_time": "2024-08-19T10:13:27.509140Z",
     "start_time": "2024-08-19T10:13:26.568970Z"
    }
   },
   "source": [
    "from morpheus.project.types.discretization import SpatialDiscretization\n",
    "from morpheus.project.types.discretization.spatial import Rotation, Grid, Crs\n",
    "from morpheus.project.types.geometry import Polygon, LineString\n",
    "\n",
    "polygon = Polygon(\n",
    "  type='Polygon',\n",
    "  coordinates=[[\n",
    "    (13.92, 50.964),\n",
    "    (13.92, 50.966),\n",
    "    (13.925, 50.966),\n",
    "    (13.925, 50.964),\n",
    "    (13.92, 50.964)\n",
    "  ]]\n",
    ")\n",
    "\n",
    "rotation = Rotation(0)\n",
    "\n",
    "grid = Grid.cartesian_from_polygon(polygon=polygon, n_cols=100, n_rows=50, rotation=rotation)\n",
    "spatial_discretization = SpatialDiscretization.from_geometry_with_grid(\n",
    "  geometry=polygon,\n",
    "  grid=grid,\n",
    "  crs=Crs.from_str('EPSG:4326')\n",
    ")"
   ],
   "outputs": [],
   "execution_count": 2
  },
  {
   "cell_type": "markdown",
   "id": "fa27e67f9d801845",
   "metadata": {
    "collapsed": false,
    "papermill": {
     "duration": 0.002014,
     "end_time": "2024-06-20T19:03:12.632907",
     "exception": false,
     "start_time": "2024-06-20T19:03:12.630893",
     "status": "completed"
    },
    "tags": []
   },
   "source": [
    "## Setup Time Discretization"
   ]
  },
  {
   "cell_type": "code",
   "id": "8e4e63dd138db9fc",
   "metadata": {
    "collapsed": false,
    "execution": {
     "iopub.execute_input": "2024-06-20T19:03:12.637627Z",
     "iopub.status.busy": "2024-06-20T19:03:12.637461Z",
     "iopub.status.idle": "2024-06-20T19:03:12.639901Z",
     "shell.execute_reply": "2024-06-20T19:03:12.639666Z"
    },
    "papermill": {
     "duration": 0.005767,
     "end_time": "2024-06-20T19:03:12.640630",
     "exception": false,
     "start_time": "2024-06-20T19:03:12.634863",
     "status": "completed"
    },
    "tags": [],
    "ExecuteTime": {
     "end_time": "2024-08-19T10:13:27.515157Z",
     "start_time": "2024-08-19T10:13:27.511210Z"
    }
   },
   "source": [
    "from morpheus.project.types.discretization.time.TimeUnit import TimeUnit\n",
    "from morpheus.project.types.discretization.time.Stressperiods import StartDateTime, StressPeriodCollection, StressPeriod, NumberOfTimeSteps, TimeStepMultiplier, IsSteadyState\n",
    "from morpheus.project.types.discretization.time import TimeDiscretization\n",
    "from datetime import datetime\n",
    "\n",
    "time_discretization = TimeDiscretization(\n",
    "  start_date_time=StartDateTime.from_datetime(datetime(2020, 1, 1)),\n",
    "  end_date_time=StartDateTime.from_datetime(datetime(2020, 12, 31)),\n",
    "  stress_periods=StressPeriodCollection([\n",
    "    StressPeriod(\n",
    "      start_date_time=StartDateTime.from_datetime(datetime(2020, 1, 1)),\n",
    "      number_of_time_steps=NumberOfTimeSteps(1),\n",
    "      time_step_multiplier=TimeStepMultiplier(1),\n",
    "      steady_state=IsSteadyState.yes()\n",
    "    ),\n",
    "  ]),\n",
    "  time_unit=TimeUnit.days()\n",
    ")"
   ],
   "outputs": [],
   "execution_count": 3
  },
  {
   "cell_type": "markdown",
   "id": "963ba8729f09fcec",
   "metadata": {
    "collapsed": false,
    "papermill": {
     "duration": 0.001997,
     "end_time": "2024-06-20T19:03:12.644780",
     "exception": false,
     "start_time": "2024-06-20T19:03:12.642783",
     "status": "completed"
    },
    "tags": []
   },
   "source": [
    "# Setup Model"
   ]
  },
  {
   "cell_type": "code",
   "id": "1d5c9125b1b9360b",
   "metadata": {
    "collapsed": false,
    "execution": {
     "iopub.execute_input": "2024-06-20T19:03:12.649425Z",
     "iopub.status.busy": "2024-06-20T19:03:12.649285Z",
     "iopub.status.idle": "2024-06-20T19:03:12.965705Z",
     "shell.execute_reply": "2024-06-20T19:03:12.965374Z"
    },
    "papermill": {
     "duration": 0.320063,
     "end_time": "2024-06-20T19:03:12.966786",
     "exception": false,
     "start_time": "2024-06-20T19:03:12.646723",
     "status": "completed"
    },
    "tags": [],
    "ExecuteTime": {
     "end_time": "2024-08-19T10:13:28.102886Z",
     "start_time": "2024-08-19T10:13:27.517304Z"
    }
   },
   "source": [
    "from morpheus.project.types.Model import Model\n",
    "\n",
    "model = Model.new()\n",
    "model = model.with_updated_time_discretization(time_discretization)\n",
    "model = model.with_updated_spatial_discretization(spatial_discretization=spatial_discretization)"
   ],
   "outputs": [],
   "execution_count": 4
  },
  {
   "cell_type": "code",
   "id": "1540b870ae83f298",
   "metadata": {
    "collapsed": false,
    "execution": {
     "iopub.execute_input": "2024-06-20T19:03:12.971753Z",
     "iopub.status.busy": "2024-06-20T19:03:12.971549Z",
     "iopub.status.idle": "2024-06-20T19:03:13.116505Z",
     "shell.execute_reply": "2024-06-20T19:03:13.116246Z"
    },
    "papermill": {
     "duration": 0.148305,
     "end_time": "2024-06-20T19:03:13.117366",
     "exception": false,
     "start_time": "2024-06-20T19:03:12.969061",
     "status": "completed"
    },
    "tags": [],
    "ExecuteTime": {
     "end_time": "2024-08-19T10:13:28.297657Z",
     "start_time": "2024-08-19T10:13:28.104263Z"
    }
   },
   "source": [
    "import folium\n",
    "\n",
    "m = folium.Map(tiles=\"cartodbpositron\", crs=\"EPSG3857\", zoom_start=12, location=[50.965, 13.922])\n",
    "m.add_child(folium.GeoJson(polygon.as_geojson()))\n",
    "\n",
    "m.fit_bounds(m.get_bounds())\n",
    "m"
   ],
   "outputs": [
    {
     "data": {
      "text/plain": [
       "<folium.folium.Map at 0x12e62d850>"
      ],
      "text/html": [
       "<div style=\"width:100%;\"><div style=\"position:relative;width:100%;height:0;padding-bottom:60%;\"><span style=\"color:#565656\">Make this Notebook Trusted to load map: File -> Trust Notebook</span><iframe srcdoc=\"&lt;!DOCTYPE html&gt;\n",
       "&lt;html&gt;\n",
       "&lt;head&gt;\n",
       "    \n",
       "    &lt;meta http-equiv=&quot;content-type&quot; content=&quot;text/html; charset=UTF-8&quot; /&gt;\n",
       "    \n",
       "        &lt;script&gt;\n",
       "            L_NO_TOUCH = false;\n",
       "            L_DISABLE_3D = false;\n",
       "        &lt;/script&gt;\n",
       "    \n",
       "    &lt;style&gt;html, body {width: 100%;height: 100%;margin: 0;padding: 0;}&lt;/style&gt;\n",
       "    &lt;style&gt;#map {position:absolute;top:0;bottom:0;right:0;left:0;}&lt;/style&gt;\n",
       "    &lt;script src=&quot;https://cdn.jsdelivr.net/npm/leaflet@1.9.3/dist/leaflet.js&quot;&gt;&lt;/script&gt;\n",
       "    &lt;script src=&quot;https://code.jquery.com/jquery-3.7.1.min.js&quot;&gt;&lt;/script&gt;\n",
       "    &lt;script src=&quot;https://cdn.jsdelivr.net/npm/bootstrap@5.2.2/dist/js/bootstrap.bundle.min.js&quot;&gt;&lt;/script&gt;\n",
       "    &lt;script src=&quot;https://cdnjs.cloudflare.com/ajax/libs/Leaflet.awesome-markers/2.0.2/leaflet.awesome-markers.js&quot;&gt;&lt;/script&gt;\n",
       "    &lt;link rel=&quot;stylesheet&quot; href=&quot;https://cdn.jsdelivr.net/npm/leaflet@1.9.3/dist/leaflet.css&quot;/&gt;\n",
       "    &lt;link rel=&quot;stylesheet&quot; href=&quot;https://cdn.jsdelivr.net/npm/bootstrap@5.2.2/dist/css/bootstrap.min.css&quot;/&gt;\n",
       "    &lt;link rel=&quot;stylesheet&quot; href=&quot;https://netdna.bootstrapcdn.com/bootstrap/3.0.0/css/bootstrap.min.css&quot;/&gt;\n",
       "    &lt;link rel=&quot;stylesheet&quot; href=&quot;https://cdn.jsdelivr.net/npm/@fortawesome/fontawesome-free@6.2.0/css/all.min.css&quot;/&gt;\n",
       "    &lt;link rel=&quot;stylesheet&quot; href=&quot;https://cdnjs.cloudflare.com/ajax/libs/Leaflet.awesome-markers/2.0.2/leaflet.awesome-markers.css&quot;/&gt;\n",
       "    &lt;link rel=&quot;stylesheet&quot; href=&quot;https://cdn.jsdelivr.net/gh/python-visualization/folium/folium/templates/leaflet.awesome.rotate.min.css&quot;/&gt;\n",
       "    \n",
       "            &lt;meta name=&quot;viewport&quot; content=&quot;width=device-width,\n",
       "                initial-scale=1.0, maximum-scale=1.0, user-scalable=no&quot; /&gt;\n",
       "            &lt;style&gt;\n",
       "                #map_49eea240191de206b29a1e0aace38bb2 {\n",
       "                    position: relative;\n",
       "                    width: 100.0%;\n",
       "                    height: 100.0%;\n",
       "                    left: 0.0%;\n",
       "                    top: 0.0%;\n",
       "                }\n",
       "                .leaflet-container { font-size: 1rem; }\n",
       "            &lt;/style&gt;\n",
       "        \n",
       "&lt;/head&gt;\n",
       "&lt;body&gt;\n",
       "    \n",
       "    \n",
       "            &lt;div class=&quot;folium-map&quot; id=&quot;map_49eea240191de206b29a1e0aace38bb2&quot; &gt;&lt;/div&gt;\n",
       "        \n",
       "&lt;/body&gt;\n",
       "&lt;script&gt;\n",
       "    \n",
       "    \n",
       "            var map_49eea240191de206b29a1e0aace38bb2 = L.map(\n",
       "                &quot;map_49eea240191de206b29a1e0aace38bb2&quot;,\n",
       "                {\n",
       "                    center: [50.965, 13.922],\n",
       "                    crs: L.CRS.EPSG3857,\n",
       "                    zoom: 12,\n",
       "                    zoomControl: true,\n",
       "                    preferCanvas: false,\n",
       "                }\n",
       "            );\n",
       "\n",
       "            \n",
       "\n",
       "        \n",
       "    \n",
       "            var tile_layer_9935ba8b203e36c2d5ba50abaff510fc = L.tileLayer(\n",
       "                &quot;https://{s}.basemaps.cartocdn.com/light_all/{z}/{x}/{y}{r}.png&quot;,\n",
       "                {&quot;attribution&quot;: &quot;\\u0026copy; \\u003ca href=\\&quot;https://www.openstreetmap.org/copyright\\&quot;\\u003eOpenStreetMap\\u003c/a\\u003e contributors \\u0026copy; \\u003ca href=\\&quot;https://carto.com/attributions\\&quot;\\u003eCARTO\\u003c/a\\u003e&quot;, &quot;detectRetina&quot;: false, &quot;maxNativeZoom&quot;: 20, &quot;maxZoom&quot;: 20, &quot;minZoom&quot;: 0, &quot;noWrap&quot;: false, &quot;opacity&quot;: 1, &quot;subdomains&quot;: &quot;abcd&quot;, &quot;tms&quot;: false}\n",
       "            );\n",
       "        \n",
       "    \n",
       "            tile_layer_9935ba8b203e36c2d5ba50abaff510fc.addTo(map_49eea240191de206b29a1e0aace38bb2);\n",
       "        \n",
       "    \n",
       "\n",
       "        function geo_json_c5f8c9016eff62d55e955c3ecd3405be_onEachFeature(feature, layer) {\n",
       "            layer.on({\n",
       "            });\n",
       "        };\n",
       "        var geo_json_c5f8c9016eff62d55e955c3ecd3405be = L.geoJson(null, {\n",
       "                onEachFeature: geo_json_c5f8c9016eff62d55e955c3ecd3405be_onEachFeature,\n",
       "            \n",
       "        });\n",
       "\n",
       "        function geo_json_c5f8c9016eff62d55e955c3ecd3405be_add (data) {\n",
       "            geo_json_c5f8c9016eff62d55e955c3ecd3405be\n",
       "                .addData(data);\n",
       "        }\n",
       "            geo_json_c5f8c9016eff62d55e955c3ecd3405be_add({&quot;coordinates&quot;: [[[13.92, 50.964], [13.92, 50.966], [13.925, 50.966], [13.925, 50.964], [13.92, 50.964]]], &quot;type&quot;: &quot;Polygon&quot;});\n",
       "\n",
       "        \n",
       "    \n",
       "            geo_json_c5f8c9016eff62d55e955c3ecd3405be.addTo(map_49eea240191de206b29a1e0aace38bb2);\n",
       "        \n",
       "    \n",
       "            map_49eea240191de206b29a1e0aace38bb2.fitBounds(\n",
       "                [[50.964, 13.92], [50.966, 13.925]],\n",
       "                {}\n",
       "            );\n",
       "        \n",
       "&lt;/script&gt;\n",
       "&lt;/html&gt;\" style=\"position:absolute;width:100%;height:100%;left:0;top:0;border:none !important;\" allowfullscreen webkitallowfullscreen mozallowfullscreen></iframe></div></div>"
      ]
     },
     "execution_count": 5,
     "metadata": {},
     "output_type": "execute_result"
    }
   ],
   "execution_count": 5
  },
  {
   "cell_type": "markdown",
   "id": "62ae3587df801000",
   "metadata": {
    "collapsed": false,
    "papermill": {
     "duration": 0.002102,
     "end_time": "2024-06-20T19:03:13.121823",
     "exception": false,
     "start_time": "2024-06-20T19:03:13.119721",
     "status": "completed"
    },
    "tags": []
   },
   "source": [
    "# Setup general head boundaries"
   ]
  },
  {
   "cell_type": "code",
   "id": "53679913aee28ce9",
   "metadata": {
    "collapsed": false,
    "execution": {
     "iopub.execute_input": "2024-06-20T19:03:13.126494Z",
     "iopub.status.busy": "2024-06-20T19:03:13.126331Z",
     "iopub.status.idle": "2024-06-20T19:03:14.085561Z",
     "shell.execute_reply": "2024-06-20T19:03:14.085299Z"
    },
    "papermill": {
     "duration": 0.962556,
     "end_time": "2024-06-20T19:03:14.086413",
     "exception": false,
     "start_time": "2024-06-20T19:03:13.123857",
     "status": "completed"
    },
    "tags": [],
    "ExecuteTime": {
     "end_time": "2024-08-19T10:13:29.321575Z",
     "start_time": "2024-08-19T10:13:28.298471Z"
    }
   },
   "source": [
    "from morpheus.project.types.boundaries.GeneralHeadObservation import ObservationId, ObservationName, GeneralHeadRawDataItem, \\\n",
    "  GeneralHeadObservation, Stage, Conductance\n",
    "from morpheus.project.types.geometry import Point\n",
    "from morpheus.project.types.boundaries.Boundary import BoundaryName, BoundaryCollection\n",
    "from morpheus.project.types.layers import LayerId\n",
    "from morpheus.project.types.boundaries.Boundary import GeneralHeadBoundary\n",
    "\n",
    "layers_list = [LayerId.new()]\n",
    "\n",
    "general_head_east = GeneralHeadBoundary.from_geometry(\n",
    "  name=BoundaryName('general_head_east'),\n",
    "  geometry=LineString([\n",
    "    (13.92499, 50.966),\n",
    "    (13.92499, 50.964),\n",
    "  ]),\n",
    "  grid=grid,\n",
    "  affected_layers=[model.layers[0].layer_id],\n",
    "  observations=[\n",
    "    GeneralHeadObservation(\n",
    "      observation_id=ObservationId.new(),\n",
    "      observation_name=ObservationName.default(),\n",
    "      geometry=Point((13.92499, 50.966)),\n",
    "      data=[\n",
    "        GeneralHeadRawDataItem(\n",
    "          date_time=StartDateTime.from_datetime(datetime(2019, 1, 1)),\n",
    "          stage=Stage.from_float(100),\n",
    "          conductance=Conductance.from_float(100),\n",
    "        ),\n",
    "        GeneralHeadRawDataItem(\n",
    "          date_time=StartDateTime.from_datetime(datetime(2021, 12, 31)),\n",
    "          stage=Stage.from_float(100),\n",
    "          conductance=Conductance.from_float(100),\n",
    "        ),\n",
    "      ]\n",
    "    ),\n",
    "  ]\n",
    ")\n",
    "\n",
    "general_head_west = GeneralHeadBoundary.from_geometry(\n",
    "  name=BoundaryName('general_head_west'),\n",
    "  geometry=LineString([\n",
    "    (13.92004, 50.96401),\n",
    "    (13.92004, 50.96599),\n",
    "  ]),\n",
    "  grid=grid,\n",
    "  affected_layers=[model.layers[0].layer_id],\n",
    "  observations=[\n",
    "    GeneralHeadObservation(\n",
    "      observation_id=ObservationId.new(),\n",
    "      observation_name=ObservationName.default(),\n",
    "      geometry=Point((13.92004, 50.96599)),\n",
    "      data=[\n",
    "        GeneralHeadRawDataItem(\n",
    "          date_time=StartDateTime.from_datetime(datetime(2019, 1, 1)),\n",
    "          stage=Stage.from_float(120),\n",
    "          conductance=Conductance.from_float(300),\n",
    "        ),\n",
    "        GeneralHeadRawDataItem(\n",
    "          date_time=StartDateTime.from_datetime(datetime(2021, 12, 31)),\n",
    "          stage=Stage.from_float(120),\n",
    "          conductance=Conductance.from_float(300),\n",
    "        ),\n",
    "      ]\n",
    "    ),\n",
    "  ]\n",
    ")\n",
    "\n",
    "boundary_collection = BoundaryCollection.new()\n",
    "boundary_collection.add_boundary(general_head_west)\n",
    "boundary_collection.add_boundary(general_head_east)\n",
    "\n",
    "model = model.with_updated_boundaries(boundaries=boundary_collection)\n",
    "\n",
    "m.add_child(folium.GeoJson(general_head_east.as_geojson()))\n",
    "m.add_child(folium.GeoJson(general_head_east.affected_cells.to_geojson(grid).as_geojson()))\n",
    "for observation in general_head_east.observations:\n",
    "  m.add_child(folium.GeoJson(observation.as_geojson()))\n",
    "\n",
    "m.add_child(folium.GeoJson(general_head_west.as_geojson()))\n",
    "m.add_child(folium.GeoJson(general_head_west.affected_cells.to_geojson(grid).as_geojson()))\n",
    "for observation in general_head_west.observations:\n",
    "  m.add_child(folium.GeoJson(observation.as_geojson()))\n",
    "m.fit_bounds(m.get_bounds())\n",
    "m"
   ],
   "outputs": [
    {
     "data": {
      "text/plain": [
       "<folium.folium.Map at 0x12e62d850>"
      ],
      "text/html": [
       "<div style=\"width:100%;\"><div style=\"position:relative;width:100%;height:0;padding-bottom:60%;\"><span style=\"color:#565656\">Make this Notebook Trusted to load map: File -> Trust Notebook</span><iframe srcdoc=\"&lt;!DOCTYPE html&gt;\n",
       "&lt;html&gt;\n",
       "&lt;head&gt;\n",
       "    \n",
       "    &lt;meta http-equiv=&quot;content-type&quot; content=&quot;text/html; charset=UTF-8&quot; /&gt;\n",
       "    \n",
       "        &lt;script&gt;\n",
       "            L_NO_TOUCH = false;\n",
       "            L_DISABLE_3D = false;\n",
       "        &lt;/script&gt;\n",
       "    \n",
       "    &lt;style&gt;html, body {width: 100%;height: 100%;margin: 0;padding: 0;}&lt;/style&gt;\n",
       "    &lt;style&gt;#map {position:absolute;top:0;bottom:0;right:0;left:0;}&lt;/style&gt;\n",
       "    &lt;script src=&quot;https://cdn.jsdelivr.net/npm/leaflet@1.9.3/dist/leaflet.js&quot;&gt;&lt;/script&gt;\n",
       "    &lt;script src=&quot;https://code.jquery.com/jquery-3.7.1.min.js&quot;&gt;&lt;/script&gt;\n",
       "    &lt;script src=&quot;https://cdn.jsdelivr.net/npm/bootstrap@5.2.2/dist/js/bootstrap.bundle.min.js&quot;&gt;&lt;/script&gt;\n",
       "    &lt;script src=&quot;https://cdnjs.cloudflare.com/ajax/libs/Leaflet.awesome-markers/2.0.2/leaflet.awesome-markers.js&quot;&gt;&lt;/script&gt;\n",
       "    &lt;link rel=&quot;stylesheet&quot; href=&quot;https://cdn.jsdelivr.net/npm/leaflet@1.9.3/dist/leaflet.css&quot;/&gt;\n",
       "    &lt;link rel=&quot;stylesheet&quot; href=&quot;https://cdn.jsdelivr.net/npm/bootstrap@5.2.2/dist/css/bootstrap.min.css&quot;/&gt;\n",
       "    &lt;link rel=&quot;stylesheet&quot; href=&quot;https://netdna.bootstrapcdn.com/bootstrap/3.0.0/css/bootstrap.min.css&quot;/&gt;\n",
       "    &lt;link rel=&quot;stylesheet&quot; href=&quot;https://cdn.jsdelivr.net/npm/@fortawesome/fontawesome-free@6.2.0/css/all.min.css&quot;/&gt;\n",
       "    &lt;link rel=&quot;stylesheet&quot; href=&quot;https://cdnjs.cloudflare.com/ajax/libs/Leaflet.awesome-markers/2.0.2/leaflet.awesome-markers.css&quot;/&gt;\n",
       "    &lt;link rel=&quot;stylesheet&quot; href=&quot;https://cdn.jsdelivr.net/gh/python-visualization/folium/folium/templates/leaflet.awesome.rotate.min.css&quot;/&gt;\n",
       "    \n",
       "            &lt;meta name=&quot;viewport&quot; content=&quot;width=device-width,\n",
       "                initial-scale=1.0, maximum-scale=1.0, user-scalable=no&quot; /&gt;\n",
       "            &lt;style&gt;\n",
       "                #map_49eea240191de206b29a1e0aace38bb2 {\n",
       "                    position: relative;\n",
       "                    width: 100.0%;\n",
       "                    height: 100.0%;\n",
       "                    left: 0.0%;\n",
       "                    top: 0.0%;\n",
       "                }\n",
       "                .leaflet-container { font-size: 1rem; }\n",
       "            &lt;/style&gt;\n",
       "        \n",
       "&lt;/head&gt;\n",
       "&lt;body&gt;\n",
       "    \n",
       "    \n",
       "            &lt;div class=&quot;folium-map&quot; id=&quot;map_49eea240191de206b29a1e0aace38bb2&quot; &gt;&lt;/div&gt;\n",
       "        \n",
       "&lt;/body&gt;\n",
       "&lt;script&gt;\n",
       "    \n",
       "    \n",
       "            var map_49eea240191de206b29a1e0aace38bb2 = L.map(\n",
       "                &quot;map_49eea240191de206b29a1e0aace38bb2&quot;,\n",
       "                {\n",
       "                    center: [50.965, 13.922],\n",
       "                    crs: L.CRS.EPSG3857,\n",
       "                    zoom: 12,\n",
       "                    zoomControl: true,\n",
       "                    preferCanvas: false,\n",
       "                }\n",
       "            );\n",
       "\n",
       "            \n",
       "\n",
       "        \n",
       "    \n",
       "            var tile_layer_9935ba8b203e36c2d5ba50abaff510fc = L.tileLayer(\n",
       "                &quot;https://{s}.basemaps.cartocdn.com/light_all/{z}/{x}/{y}{r}.png&quot;,\n",
       "                {&quot;attribution&quot;: &quot;\\u0026copy; \\u003ca href=\\&quot;https://www.openstreetmap.org/copyright\\&quot;\\u003eOpenStreetMap\\u003c/a\\u003e contributors \\u0026copy; \\u003ca href=\\&quot;https://carto.com/attributions\\&quot;\\u003eCARTO\\u003c/a\\u003e&quot;, &quot;detectRetina&quot;: false, &quot;maxNativeZoom&quot;: 20, &quot;maxZoom&quot;: 20, &quot;minZoom&quot;: 0, &quot;noWrap&quot;: false, &quot;opacity&quot;: 1, &quot;subdomains&quot;: &quot;abcd&quot;, &quot;tms&quot;: false}\n",
       "            );\n",
       "        \n",
       "    \n",
       "            tile_layer_9935ba8b203e36c2d5ba50abaff510fc.addTo(map_49eea240191de206b29a1e0aace38bb2);\n",
       "        \n",
       "    \n",
       "\n",
       "        function geo_json_c5f8c9016eff62d55e955c3ecd3405be_onEachFeature(feature, layer) {\n",
       "            layer.on({\n",
       "            });\n",
       "        };\n",
       "        var geo_json_c5f8c9016eff62d55e955c3ecd3405be = L.geoJson(null, {\n",
       "                onEachFeature: geo_json_c5f8c9016eff62d55e955c3ecd3405be_onEachFeature,\n",
       "            \n",
       "        });\n",
       "\n",
       "        function geo_json_c5f8c9016eff62d55e955c3ecd3405be_add (data) {\n",
       "            geo_json_c5f8c9016eff62d55e955c3ecd3405be\n",
       "                .addData(data);\n",
       "        }\n",
       "            geo_json_c5f8c9016eff62d55e955c3ecd3405be_add({&quot;coordinates&quot;: [[[13.92, 50.964], [13.92, 50.966], [13.925, 50.966], [13.925, 50.964], [13.92, 50.964]]], &quot;type&quot;: &quot;Polygon&quot;});\n",
       "\n",
       "        \n",
       "    \n",
       "            geo_json_c5f8c9016eff62d55e955c3ecd3405be.addTo(map_49eea240191de206b29a1e0aace38bb2);\n",
       "        \n",
       "    \n",
       "            map_49eea240191de206b29a1e0aace38bb2.fitBounds(\n",
       "                [[50.964, 13.92], [50.966, 13.925]],\n",
       "                {}\n",
       "            );\n",
       "        \n",
       "    \n",
       "            tile_layer_9935ba8b203e36c2d5ba50abaff510fc.addTo(map_49eea240191de206b29a1e0aace38bb2);\n",
       "        \n",
       "    \n",
       "            geo_json_c5f8c9016eff62d55e955c3ecd3405be.addTo(map_49eea240191de206b29a1e0aace38bb2);\n",
       "        \n",
       "    \n",
       "\n",
       "        function geo_json_72983f1f9942c0089cb52da56afe7b83_onEachFeature(feature, layer) {\n",
       "            layer.on({\n",
       "            });\n",
       "        };\n",
       "        var geo_json_72983f1f9942c0089cb52da56afe7b83 = L.geoJson(null, {\n",
       "                onEachFeature: geo_json_72983f1f9942c0089cb52da56afe7b83_onEachFeature,\n",
       "            \n",
       "        });\n",
       "\n",
       "        function geo_json_72983f1f9942c0089cb52da56afe7b83_add (data) {\n",
       "            geo_json_72983f1f9942c0089cb52da56afe7b83\n",
       "                .addData(data);\n",
       "        }\n",
       "            geo_json_72983f1f9942c0089cb52da56afe7b83_add({&quot;coordinates&quot;: [[13.92499, 50.966], [13.92499, 50.964]], &quot;type&quot;: &quot;LineString&quot;});\n",
       "\n",
       "        \n",
       "    \n",
       "            geo_json_72983f1f9942c0089cb52da56afe7b83.addTo(map_49eea240191de206b29a1e0aace38bb2);\n",
       "        \n",
       "    \n",
       "\n",
       "        function geo_json_ec2e95c0e01f9652ffc41f731f08fc21_onEachFeature(feature, layer) {\n",
       "            layer.on({\n",
       "            });\n",
       "        };\n",
       "        var geo_json_ec2e95c0e01f9652ffc41f731f08fc21 = L.geoJson(null, {\n",
       "                onEachFeature: geo_json_ec2e95c0e01f9652ffc41f731f08fc21_onEachFeature,\n",
       "            \n",
       "        });\n",
       "\n",
       "        function geo_json_ec2e95c0e01f9652ffc41f731f08fc21_add (data) {\n",
       "            geo_json_ec2e95c0e01f9652ffc41f731f08fc21\n",
       "                .addData(data);\n",
       "        }\n",
       "            geo_json_ec2e95c0e01f9652ffc41f731f08fc21_add({&quot;geometries&quot;: [{&quot;coordinates&quot;: [[[13.92495, 50.965999999999994], [13.925000000000002, 50.965999999999994], [13.925000000000002, 50.965960000843815], [13.92495, 50.965960000843815], [13.92495, 50.965999999999994]]], &quot;type&quot;: &quot;Polygon&quot;}, {&quot;coordinates&quot;: [[[13.92495, 50.965960000843815], [13.925000000000002, 50.965960000843815], [13.925000000000002, 50.965920001653195], [13.92495, 50.965920001653195], [13.92495, 50.965960000843815]]], &quot;type&quot;: &quot;Polygon&quot;}, {&quot;coordinates&quot;: [[[13.92495, 50.965920001653195], [13.925000000000002, 50.965920001653195], [13.925000000000002, 50.965880002428136], [13.92495, 50.965880002428136], [13.92495, 50.965920001653195]]], &quot;type&quot;: &quot;Polygon&quot;}, {&quot;coordinates&quot;: [[[13.92495, 50.965880002428136], [13.925000000000002, 50.965880002428136], [13.925000000000002, 50.96584000316863], [13.92495, 50.96584000316863], [13.92495, 50.965880002428136]]], &quot;type&quot;: &quot;Polygon&quot;}, {&quot;coordinates&quot;: [[[13.92495, 50.96584000316863], [13.925000000000002, 50.96584000316863], [13.925000000000002, 50.96580000387468], [13.92495, 50.96580000387468], [13.92495, 50.96584000316863]]], &quot;type&quot;: &quot;Polygon&quot;}, {&quot;coordinates&quot;: [[[13.92495, 50.96580000387468], [13.925000000000002, 50.96580000387468], [13.925000000000002, 50.965760004546304], [13.92495, 50.965760004546304], [13.92495, 50.96580000387468]]], &quot;type&quot;: &quot;Polygon&quot;}, {&quot;coordinates&quot;: [[[13.92495, 50.965760004546304], [13.925000000000002, 50.965760004546304], [13.925000000000002, 50.96572000518347], [13.92495, 50.96572000518347], [13.92495, 50.965760004546304]]], &quot;type&quot;: &quot;Polygon&quot;}, {&quot;coordinates&quot;: [[[13.92495, 50.96572000518347], [13.925000000000002, 50.96572000518347], [13.925000000000002, 50.9656800057862], [13.92495, 50.9656800057862], [13.92495, 50.96572000518347]]], &quot;type&quot;: &quot;Polygon&quot;}, {&quot;coordinates&quot;: [[[13.92495, 50.9656800057862], [13.925000000000002, 50.9656800057862], [13.925000000000002, 50.9656400063545], [13.92495, 50.9656400063545], [13.92495, 50.9656800057862]]], &quot;type&quot;: &quot;Polygon&quot;}, {&quot;coordinates&quot;: [[[13.92495, 50.9656400063545], [13.925000000000002, 50.9656400063545], [13.925000000000002, 50.965600006888344], [13.92495, 50.965600006888344], [13.92495, 50.9656400063545]]], &quot;type&quot;: &quot;Polygon&quot;}, {&quot;coordinates&quot;: [[[13.92495, 50.965600006888344], [13.925000000000002, 50.965600006888344], [13.925000000000002, 50.965560007387744], [13.92495, 50.965560007387744], [13.92495, 50.965600006888344]]], &quot;type&quot;: &quot;Polygon&quot;}, {&quot;coordinates&quot;: [[[13.92495, 50.965560007387744], [13.925000000000002, 50.965560007387744], [13.925000000000002, 50.96552000785271], [13.92495, 50.96552000785271], [13.92495, 50.965560007387744]]], &quot;type&quot;: &quot;Polygon&quot;}, {&quot;coordinates&quot;: [[[13.92495, 50.96552000785271], [13.925000000000002, 50.96552000785271], [13.925000000000002, 50.96548000828324], [13.92495, 50.96548000828324], [13.92495, 50.96552000785271]]], &quot;type&quot;: &quot;Polygon&quot;}, {&quot;coordinates&quot;: [[[13.92495, 50.96548000828324], [13.925000000000002, 50.96548000828324], [13.925000000000002, 50.965440008679316], [13.92495, 50.965440008679316], [13.92495, 50.96548000828324]]], &quot;type&quot;: &quot;Polygon&quot;}, {&quot;coordinates&quot;: [[[13.92495, 50.965440008679316], [13.925000000000002, 50.965440008679316], [13.925000000000002, 50.965400009040955], [13.92495, 50.965400009040955], [13.92495, 50.965440008679316]]], &quot;type&quot;: &quot;Polygon&quot;}, {&quot;coordinates&quot;: [[[13.92495, 50.965400009040955], [13.925000000000002, 50.965400009040955], [13.925000000000002, 50.965360009368155], [13.92495, 50.965360009368155], [13.92495, 50.965400009040955]]], &quot;type&quot;: &quot;Polygon&quot;}, {&quot;coordinates&quot;: [[[13.92495, 50.965360009368155], [13.925000000000002, 50.965360009368155], [13.925000000000002, 50.96532000966091], [13.92495, 50.96532000966091], [13.92495, 50.965360009368155]]], &quot;type&quot;: &quot;Polygon&quot;}, {&quot;coordinates&quot;: [[[13.92495, 50.96532000966091], [13.925000000000002, 50.96532000966091], [13.925000000000002, 50.965280009919226], [13.92495, 50.965280009919226], [13.92495, 50.96532000966091]]], &quot;type&quot;: &quot;Polygon&quot;}, {&quot;coordinates&quot;: [[[13.92495, 50.965280009919226], [13.925000000000002, 50.965280009919226], [13.925000000000002, 50.96524001014309], [13.92495, 50.96524001014309], [13.92495, 50.965280009919226]]], &quot;type&quot;: &quot;Polygon&quot;}, {&quot;coordinates&quot;: [[[13.92495, 50.96524001014309], [13.925000000000002, 50.96524001014309], [13.925000000000002, 50.96520001033253], [13.92495, 50.96520001033253], [13.92495, 50.96524001014309]]], &quot;type&quot;: &quot;Polygon&quot;}, {&quot;coordinates&quot;: [[[13.92495, 50.96520001033253], [13.925000000000002, 50.96520001033253], [13.925000000000002, 50.965160010487516], [13.92495, 50.965160010487516], [13.92495, 50.96520001033253]]], &quot;type&quot;: &quot;Polygon&quot;}, {&quot;coordinates&quot;: [[[13.92495, 50.965160010487516], [13.925000000000002, 50.965160010487516], [13.925000000000002, 50.96512001060807], [13.92495, 50.96512001060807], [13.92495, 50.965160010487516]]], &quot;type&quot;: &quot;Polygon&quot;}, {&quot;coordinates&quot;: [[[13.92495, 50.96512001060807], [13.925000000000002, 50.96512001060807], [13.925000000000002, 50.96508001069417], [13.92495, 50.96508001069417], [13.92495, 50.96512001060807]]], &quot;type&quot;: &quot;Polygon&quot;}, {&quot;coordinates&quot;: [[[13.92495, 50.96508001069417], [13.925000000000002, 50.96508001069417], [13.925000000000002, 50.96504001074583], [13.92495, 50.96504001074583], [13.92495, 50.96508001069417]]], &quot;type&quot;: &quot;Polygon&quot;}, {&quot;coordinates&quot;: [[[13.92495, 50.96504001074583], [13.925000000000002, 50.96504001074583], [13.925000000000002, 50.96500001076305], [13.92495, 50.96500001076305], [13.92495, 50.96504001074583]]], &quot;type&quot;: &quot;Polygon&quot;}, {&quot;coordinates&quot;: [[[13.92495, 50.96500001076305], [13.925000000000002, 50.96500001076305], [13.925000000000002, 50.964960010745834], [13.92495, 50.964960010745834], [13.92495, 50.96500001076305]]], &quot;type&quot;: &quot;Polygon&quot;}, {&quot;coordinates&quot;: [[[13.92495, 50.964960010745834], [13.925000000000002, 50.964960010745834], [13.925000000000002, 50.96492001069418], [13.92495, 50.96492001069418], [13.92495, 50.964960010745834]]], &quot;type&quot;: &quot;Polygon&quot;}, {&quot;coordinates&quot;: [[[13.92495, 50.96492001069418], [13.925000000000002, 50.96492001069418], [13.925000000000002, 50.96488001060807], [13.92495, 50.96488001060807], [13.92495, 50.96492001069418]]], &quot;type&quot;: &quot;Polygon&quot;}, {&quot;coordinates&quot;: [[[13.92495, 50.96488001060807], [13.925000000000002, 50.96488001060807], [13.925000000000002, 50.96484001048752], [13.92495, 50.96484001048752], [13.92495, 50.96488001060807]]], &quot;type&quot;: &quot;Polygon&quot;}, {&quot;coordinates&quot;: [[[13.92495, 50.96484001048752], [13.925000000000002, 50.96484001048752], [13.925000000000002, 50.964800010332546], [13.92495, 50.964800010332546], [13.92495, 50.96484001048752]]], &quot;type&quot;: &quot;Polygon&quot;}, {&quot;coordinates&quot;: [[[13.92495, 50.964800010332546], [13.925000000000002, 50.964800010332546], [13.925000000000002, 50.96476001014311], [13.92495, 50.96476001014311], [13.92495, 50.964800010332546]]], &quot;type&quot;: &quot;Polygon&quot;}, {&quot;coordinates&quot;: [[[13.92495, 50.96476001014311], [13.925000000000002, 50.96476001014311], [13.925000000000002, 50.96472000991924], [13.92495, 50.96472000991924], [13.92495, 50.96476001014311]]], &quot;type&quot;: &quot;Polygon&quot;}, {&quot;coordinates&quot;: [[[13.92495, 50.96472000991924], [13.925000000000002, 50.96472000991924], [13.925000000000002, 50.964680009660924], [13.92495, 50.964680009660924], [13.92495, 50.96472000991924]]], &quot;type&quot;: &quot;Polygon&quot;}, {&quot;coordinates&quot;: [[[13.92495, 50.964680009660924], [13.925000000000002, 50.964680009660924], [13.925000000000002, 50.96464000936817], [13.92495, 50.96464000936817], [13.92495, 50.964680009660924]]], &quot;type&quot;: &quot;Polygon&quot;}, {&quot;coordinates&quot;: [[[13.92495, 50.96464000936817], [13.925000000000002, 50.96464000936817], [13.925000000000002, 50.96460000904097], [13.92495, 50.96460000904097], [13.92495, 50.96464000936817]]], &quot;type&quot;: &quot;Polygon&quot;}, {&quot;coordinates&quot;: [[[13.92495, 50.96460000904097], [13.925000000000002, 50.96460000904097], [13.925000000000002, 50.96456000867934], [13.92495, 50.96456000867934], [13.92495, 50.96460000904097]]], &quot;type&quot;: &quot;Polygon&quot;}, {&quot;coordinates&quot;: [[[13.92495, 50.96456000867934], [13.925000000000002, 50.96456000867934], [13.925000000000002, 50.96452000828325], [13.92495, 50.96452000828325], [13.92495, 50.96456000867934]]], &quot;type&quot;: &quot;Polygon&quot;}, {&quot;coordinates&quot;: [[[13.92495, 50.96452000828325], [13.925000000000002, 50.96452000828325], [13.925000000000002, 50.964480007852735], [13.92495, 50.964480007852735], [13.92495, 50.96452000828325]]], &quot;type&quot;: &quot;Polygon&quot;}, {&quot;coordinates&quot;: [[[13.92495, 50.964480007852735], [13.925000000000002, 50.964480007852735], [13.925000000000002, 50.96444000738777], [13.92495, 50.96444000738777], [13.92495, 50.964480007852735]]], &quot;type&quot;: &quot;Polygon&quot;}, {&quot;coordinates&quot;: [[[13.92495, 50.96444000738777], [13.925000000000002, 50.96444000738777], [13.925000000000002, 50.96440000688836], [13.92495, 50.96440000688836], [13.92495, 50.96444000738777]]], &quot;type&quot;: &quot;Polygon&quot;}, {&quot;coordinates&quot;: [[[13.92495, 50.96440000688836], [13.925000000000002, 50.96440000688836], [13.925000000000002, 50.96436000635452], [13.92495, 50.96436000635452], [13.92495, 50.96440000688836]]], &quot;type&quot;: &quot;Polygon&quot;}, {&quot;coordinates&quot;: [[[13.92495, 50.96436000635452], [13.925000000000002, 50.96436000635452], [13.925000000000002, 50.96432000578623], [13.92495, 50.96432000578623], [13.92495, 50.96436000635452]]], &quot;type&quot;: &quot;Polygon&quot;}, {&quot;coordinates&quot;: [[[13.92495, 50.96432000578623], [13.925000000000002, 50.96432000578623], [13.925000000000002, 50.9642800051835], [13.92495, 50.9642800051835], [13.92495, 50.96432000578623]]], &quot;type&quot;: &quot;Polygon&quot;}, {&quot;coordinates&quot;: [[[13.92495, 50.9642800051835], [13.925000000000002, 50.9642800051835], [13.925000000000002, 50.96424000454632], [13.92495, 50.96424000454632], [13.92495, 50.9642800051835]]], &quot;type&quot;: &quot;Polygon&quot;}, {&quot;coordinates&quot;: [[[13.92495, 50.96424000454632], [13.925000000000002, 50.96424000454632], [13.925000000000002, 50.96420000387471], [13.92495, 50.96420000387471], [13.92495, 50.96424000454632]]], &quot;type&quot;: &quot;Polygon&quot;}, {&quot;coordinates&quot;: [[[13.92495, 50.96420000387471], [13.925000000000002, 50.96420000387471], [13.925000000000002, 50.964160003168644], [13.92495, 50.964160003168644], [13.92495, 50.96420000387471]]], &quot;type&quot;: &quot;Polygon&quot;}, {&quot;coordinates&quot;: [[[13.92495, 50.964160003168644], [13.925000000000002, 50.964160003168644], [13.925000000000002, 50.964120002428146], [13.92495, 50.964120002428146], [13.92495, 50.964160003168644]]], &quot;type&quot;: &quot;Polygon&quot;}, {&quot;coordinates&quot;: [[[13.92495, 50.964120002428146], [13.925000000000002, 50.964120002428146], [13.925000000000002, 50.96408000165321], [13.92495, 50.96408000165321], [13.92495, 50.964120002428146]]], &quot;type&quot;: &quot;Polygon&quot;}, {&quot;coordinates&quot;: [[[13.92495, 50.96408000165321], [13.925000000000002, 50.96408000165321], [13.925000000000002, 50.964040000843816], [13.92495, 50.964040000843816], [13.92495, 50.96408000165321]]], &quot;type&quot;: &quot;Polygon&quot;}, {&quot;coordinates&quot;: [[[13.92495, 50.964040000843816], [13.925000000000002, 50.964040000843816], [13.925000000000002, 50.96399999999999], [13.92495, 50.96399999999999], [13.92495, 50.964040000843816]]], &quot;type&quot;: &quot;Polygon&quot;}], &quot;type&quot;: &quot;GeometryCollection&quot;});\n",
       "\n",
       "        \n",
       "    \n",
       "            geo_json_ec2e95c0e01f9652ffc41f731f08fc21.addTo(map_49eea240191de206b29a1e0aace38bb2);\n",
       "        \n",
       "    \n",
       "\n",
       "        function geo_json_3f500984c8686f81ef1e43682d1c47d9_onEachFeature(feature, layer) {\n",
       "            layer.on({\n",
       "            });\n",
       "        };\n",
       "        var geo_json_3f500984c8686f81ef1e43682d1c47d9 = L.geoJson(null, {\n",
       "                onEachFeature: geo_json_3f500984c8686f81ef1e43682d1c47d9_onEachFeature,\n",
       "            \n",
       "        });\n",
       "\n",
       "        function geo_json_3f500984c8686f81ef1e43682d1c47d9_add (data) {\n",
       "            geo_json_3f500984c8686f81ef1e43682d1c47d9\n",
       "                .addData(data);\n",
       "        }\n",
       "            geo_json_3f500984c8686f81ef1e43682d1c47d9_add({&quot;coordinates&quot;: [13.92499, 50.966], &quot;type&quot;: &quot;Point&quot;});\n",
       "\n",
       "        \n",
       "    \n",
       "            geo_json_3f500984c8686f81ef1e43682d1c47d9.addTo(map_49eea240191de206b29a1e0aace38bb2);\n",
       "        \n",
       "    \n",
       "\n",
       "        function geo_json_a3c45f9284f68f3e4c819b028c4f6641_onEachFeature(feature, layer) {\n",
       "            layer.on({\n",
       "            });\n",
       "        };\n",
       "        var geo_json_a3c45f9284f68f3e4c819b028c4f6641 = L.geoJson(null, {\n",
       "                onEachFeature: geo_json_a3c45f9284f68f3e4c819b028c4f6641_onEachFeature,\n",
       "            \n",
       "        });\n",
       "\n",
       "        function geo_json_a3c45f9284f68f3e4c819b028c4f6641_add (data) {\n",
       "            geo_json_a3c45f9284f68f3e4c819b028c4f6641\n",
       "                .addData(data);\n",
       "        }\n",
       "            geo_json_a3c45f9284f68f3e4c819b028c4f6641_add({&quot;coordinates&quot;: [[13.92004, 50.96401], [13.92004, 50.96599]], &quot;type&quot;: &quot;LineString&quot;});\n",
       "\n",
       "        \n",
       "    \n",
       "            geo_json_a3c45f9284f68f3e4c819b028c4f6641.addTo(map_49eea240191de206b29a1e0aace38bb2);\n",
       "        \n",
       "    \n",
       "\n",
       "        function geo_json_48fa0de1d9c06e3769d3b7a667e3a712_onEachFeature(feature, layer) {\n",
       "            layer.on({\n",
       "            });\n",
       "        };\n",
       "        var geo_json_48fa0de1d9c06e3769d3b7a667e3a712 = L.geoJson(null, {\n",
       "                onEachFeature: geo_json_48fa0de1d9c06e3769d3b7a667e3a712_onEachFeature,\n",
       "            \n",
       "        });\n",
       "\n",
       "        function geo_json_48fa0de1d9c06e3769d3b7a667e3a712_add (data) {\n",
       "            geo_json_48fa0de1d9c06e3769d3b7a667e3a712\n",
       "                .addData(data);\n",
       "        }\n",
       "            geo_json_48fa0de1d9c06e3769d3b7a667e3a712_add({&quot;geometries&quot;: [{&quot;coordinates&quot;: [[[13.920000000000002, 50.965999999999994], [13.920050000000002, 50.965999999999994], [13.920050000000002, 50.965960000843815], [13.920000000000002, 50.965960000843815], [13.920000000000002, 50.965999999999994]]], &quot;type&quot;: &quot;Polygon&quot;}, {&quot;coordinates&quot;: [[[13.920000000000002, 50.965960000843815], [13.920050000000002, 50.965960000843815], [13.920050000000002, 50.965920001653195], [13.920000000000002, 50.965920001653195], [13.920000000000002, 50.965960000843815]]], &quot;type&quot;: &quot;Polygon&quot;}, {&quot;coordinates&quot;: [[[13.920000000000002, 50.965920001653195], [13.920050000000002, 50.965920001653195], [13.920050000000002, 50.965880002428136], [13.920000000000002, 50.965880002428136], [13.920000000000002, 50.965920001653195]]], &quot;type&quot;: &quot;Polygon&quot;}, {&quot;coordinates&quot;: [[[13.920000000000002, 50.965880002428136], [13.920050000000002, 50.965880002428136], [13.920050000000002, 50.96584000316863], [13.920000000000002, 50.96584000316863], [13.920000000000002, 50.965880002428136]]], &quot;type&quot;: &quot;Polygon&quot;}, {&quot;coordinates&quot;: [[[13.920000000000002, 50.96584000316863], [13.920050000000002, 50.96584000316863], [13.920050000000002, 50.96580000387468], [13.920000000000002, 50.96580000387468], [13.920000000000002, 50.96584000316863]]], &quot;type&quot;: &quot;Polygon&quot;}, {&quot;coordinates&quot;: [[[13.920000000000002, 50.96580000387468], [13.920050000000002, 50.96580000387468], [13.920050000000002, 50.965760004546304], [13.920000000000002, 50.965760004546304], [13.920000000000002, 50.96580000387468]]], &quot;type&quot;: &quot;Polygon&quot;}, {&quot;coordinates&quot;: [[[13.920000000000002, 50.965760004546304], [13.920050000000002, 50.965760004546304], [13.920050000000002, 50.96572000518347], [13.920000000000002, 50.96572000518347], [13.920000000000002, 50.965760004546304]]], &quot;type&quot;: &quot;Polygon&quot;}, {&quot;coordinates&quot;: [[[13.920000000000002, 50.96572000518347], [13.920050000000002, 50.96572000518347], [13.920050000000002, 50.9656800057862], [13.920000000000002, 50.9656800057862], [13.920000000000002, 50.96572000518347]]], &quot;type&quot;: &quot;Polygon&quot;}, {&quot;coordinates&quot;: [[[13.920000000000002, 50.9656800057862], [13.920050000000002, 50.9656800057862], [13.920050000000002, 50.9656400063545], [13.920000000000002, 50.9656400063545], [13.920000000000002, 50.9656800057862]]], &quot;type&quot;: &quot;Polygon&quot;}, {&quot;coordinates&quot;: [[[13.920000000000002, 50.9656400063545], [13.920050000000002, 50.9656400063545], [13.920050000000002, 50.965600006888344], [13.920000000000002, 50.965600006888344], [13.920000000000002, 50.9656400063545]]], &quot;type&quot;: &quot;Polygon&quot;}, {&quot;coordinates&quot;: [[[13.920000000000002, 50.965600006888344], [13.920050000000002, 50.965600006888344], [13.920050000000002, 50.965560007387744], [13.920000000000002, 50.965560007387744], [13.920000000000002, 50.965600006888344]]], &quot;type&quot;: &quot;Polygon&quot;}, {&quot;coordinates&quot;: [[[13.920000000000002, 50.965560007387744], [13.920050000000002, 50.965560007387744], [13.920050000000002, 50.96552000785271], [13.920000000000002, 50.96552000785271], [13.920000000000002, 50.965560007387744]]], &quot;type&quot;: &quot;Polygon&quot;}, {&quot;coordinates&quot;: [[[13.920000000000002, 50.96552000785271], [13.920050000000002, 50.96552000785271], [13.920050000000002, 50.96548000828324], [13.920000000000002, 50.96548000828324], [13.920000000000002, 50.96552000785271]]], &quot;type&quot;: &quot;Polygon&quot;}, {&quot;coordinates&quot;: [[[13.920000000000002, 50.96548000828324], [13.920050000000002, 50.96548000828324], [13.920050000000002, 50.965440008679316], [13.920000000000002, 50.965440008679316], [13.920000000000002, 50.96548000828324]]], &quot;type&quot;: &quot;Polygon&quot;}, {&quot;coordinates&quot;: [[[13.920000000000002, 50.965440008679316], [13.920050000000002, 50.965440008679316], [13.920050000000002, 50.965400009040955], [13.920000000000002, 50.965400009040955], [13.920000000000002, 50.965440008679316]]], &quot;type&quot;: &quot;Polygon&quot;}, {&quot;coordinates&quot;: [[[13.920000000000002, 50.965400009040955], [13.920050000000002, 50.965400009040955], [13.920050000000002, 50.965360009368155], [13.920000000000002, 50.965360009368155], [13.920000000000002, 50.965400009040955]]], &quot;type&quot;: &quot;Polygon&quot;}, {&quot;coordinates&quot;: [[[13.920000000000002, 50.965360009368155], [13.920050000000002, 50.965360009368155], [13.920050000000002, 50.96532000966091], [13.920000000000002, 50.96532000966091], [13.920000000000002, 50.965360009368155]]], &quot;type&quot;: &quot;Polygon&quot;}, {&quot;coordinates&quot;: [[[13.920000000000002, 50.96532000966091], [13.920050000000002, 50.96532000966091], [13.920050000000002, 50.965280009919226], [13.920000000000002, 50.965280009919226], [13.920000000000002, 50.96532000966091]]], &quot;type&quot;: &quot;Polygon&quot;}, {&quot;coordinates&quot;: [[[13.920000000000002, 50.965280009919226], [13.920050000000002, 50.965280009919226], [13.920050000000002, 50.96524001014309], [13.920000000000002, 50.96524001014309], [13.920000000000002, 50.965280009919226]]], &quot;type&quot;: &quot;Polygon&quot;}, {&quot;coordinates&quot;: [[[13.920000000000002, 50.96524001014309], [13.920050000000002, 50.96524001014309], [13.920050000000002, 50.96520001033253], [13.920000000000002, 50.96520001033253], [13.920000000000002, 50.96524001014309]]], &quot;type&quot;: &quot;Polygon&quot;}, {&quot;coordinates&quot;: [[[13.920000000000002, 50.96520001033253], [13.920050000000002, 50.96520001033253], [13.920050000000002, 50.965160010487516], [13.920000000000002, 50.965160010487516], [13.920000000000002, 50.96520001033253]]], &quot;type&quot;: &quot;Polygon&quot;}, {&quot;coordinates&quot;: [[[13.920000000000002, 50.965160010487516], [13.920050000000002, 50.965160010487516], [13.920050000000002, 50.96512001060807], [13.920000000000002, 50.96512001060807], [13.920000000000002, 50.965160010487516]]], &quot;type&quot;: &quot;Polygon&quot;}, {&quot;coordinates&quot;: [[[13.920000000000002, 50.96512001060807], [13.920050000000002, 50.96512001060807], [13.920050000000002, 50.96508001069417], [13.920000000000002, 50.96508001069417], [13.920000000000002, 50.96512001060807]]], &quot;type&quot;: &quot;Polygon&quot;}, {&quot;coordinates&quot;: [[[13.920000000000002, 50.96508001069417], [13.920050000000002, 50.96508001069417], [13.920050000000002, 50.96504001074583], [13.920000000000002, 50.96504001074583], [13.920000000000002, 50.96508001069417]]], &quot;type&quot;: &quot;Polygon&quot;}, {&quot;coordinates&quot;: [[[13.920000000000002, 50.96504001074583], [13.920050000000002, 50.96504001074583], [13.920050000000002, 50.96500001076305], [13.920000000000002, 50.96500001076305], [13.920000000000002, 50.96504001074583]]], &quot;type&quot;: &quot;Polygon&quot;}, {&quot;coordinates&quot;: [[[13.920000000000002, 50.96500001076305], [13.920050000000002, 50.96500001076305], [13.920050000000002, 50.964960010745834], [13.920000000000002, 50.964960010745834], [13.920000000000002, 50.96500001076305]]], &quot;type&quot;: &quot;Polygon&quot;}, {&quot;coordinates&quot;: [[[13.920000000000002, 50.964960010745834], [13.920050000000002, 50.964960010745834], [13.920050000000002, 50.96492001069418], [13.920000000000002, 50.96492001069418], [13.920000000000002, 50.964960010745834]]], &quot;type&quot;: &quot;Polygon&quot;}, {&quot;coordinates&quot;: [[[13.920000000000002, 50.96492001069418], [13.920050000000002, 50.96492001069418], [13.920050000000002, 50.96488001060807], [13.920000000000002, 50.96488001060807], [13.920000000000002, 50.96492001069418]]], &quot;type&quot;: &quot;Polygon&quot;}, {&quot;coordinates&quot;: [[[13.920000000000002, 50.96488001060807], [13.920050000000002, 50.96488001060807], [13.920050000000002, 50.96484001048752], [13.920000000000002, 50.96484001048752], [13.920000000000002, 50.96488001060807]]], &quot;type&quot;: &quot;Polygon&quot;}, {&quot;coordinates&quot;: [[[13.920000000000002, 50.96484001048752], [13.920050000000002, 50.96484001048752], [13.920050000000002, 50.964800010332546], [13.920000000000002, 50.964800010332546], [13.920000000000002, 50.96484001048752]]], &quot;type&quot;: &quot;Polygon&quot;}, {&quot;coordinates&quot;: [[[13.920000000000002, 50.964800010332546], [13.920050000000002, 50.964800010332546], [13.920050000000002, 50.96476001014311], [13.920000000000002, 50.96476001014311], [13.920000000000002, 50.964800010332546]]], &quot;type&quot;: &quot;Polygon&quot;}, {&quot;coordinates&quot;: [[[13.920000000000002, 50.96476001014311], [13.920050000000002, 50.96476001014311], [13.920050000000002, 50.96472000991924], [13.920000000000002, 50.96472000991924], [13.920000000000002, 50.96476001014311]]], &quot;type&quot;: &quot;Polygon&quot;}, {&quot;coordinates&quot;: [[[13.920000000000002, 50.96472000991924], [13.920050000000002, 50.96472000991924], [13.920050000000002, 50.964680009660924], [13.920000000000002, 50.964680009660924], [13.920000000000002, 50.96472000991924]]], &quot;type&quot;: &quot;Polygon&quot;}, {&quot;coordinates&quot;: [[[13.920000000000002, 50.964680009660924], [13.920050000000002, 50.964680009660924], [13.920050000000002, 50.96464000936817], [13.920000000000002, 50.96464000936817], [13.920000000000002, 50.964680009660924]]], &quot;type&quot;: &quot;Polygon&quot;}, {&quot;coordinates&quot;: [[[13.920000000000002, 50.96464000936817], [13.920050000000002, 50.96464000936817], [13.920050000000002, 50.96460000904097], [13.920000000000002, 50.96460000904097], [13.920000000000002, 50.96464000936817]]], &quot;type&quot;: &quot;Polygon&quot;}, {&quot;coordinates&quot;: [[[13.920000000000002, 50.96460000904097], [13.920050000000002, 50.96460000904097], [13.920050000000002, 50.96456000867934], [13.920000000000002, 50.96456000867934], [13.920000000000002, 50.96460000904097]]], &quot;type&quot;: &quot;Polygon&quot;}, {&quot;coordinates&quot;: [[[13.920000000000002, 50.96456000867934], [13.920050000000002, 50.96456000867934], [13.920050000000002, 50.96452000828325], [13.920000000000002, 50.96452000828325], [13.920000000000002, 50.96456000867934]]], &quot;type&quot;: &quot;Polygon&quot;}, {&quot;coordinates&quot;: [[[13.920000000000002, 50.96452000828325], [13.920050000000002, 50.96452000828325], [13.920050000000002, 50.964480007852735], [13.920000000000002, 50.964480007852735], [13.920000000000002, 50.96452000828325]]], &quot;type&quot;: &quot;Polygon&quot;}, {&quot;coordinates&quot;: [[[13.920000000000002, 50.964480007852735], [13.920050000000002, 50.964480007852735], [13.920050000000002, 50.96444000738777], [13.920000000000002, 50.96444000738777], [13.920000000000002, 50.964480007852735]]], &quot;type&quot;: &quot;Polygon&quot;}, {&quot;coordinates&quot;: [[[13.920000000000002, 50.96444000738777], [13.920050000000002, 50.96444000738777], [13.920050000000002, 50.96440000688836], [13.920000000000002, 50.96440000688836], [13.920000000000002, 50.96444000738777]]], &quot;type&quot;: &quot;Polygon&quot;}, {&quot;coordinates&quot;: [[[13.920000000000002, 50.96440000688836], [13.920050000000002, 50.96440000688836], [13.920050000000002, 50.96436000635452], [13.920000000000002, 50.96436000635452], [13.920000000000002, 50.96440000688836]]], &quot;type&quot;: &quot;Polygon&quot;}, {&quot;coordinates&quot;: [[[13.920000000000002, 50.96436000635452], [13.920050000000002, 50.96436000635452], [13.920050000000002, 50.96432000578623], [13.920000000000002, 50.96432000578623], [13.920000000000002, 50.96436000635452]]], &quot;type&quot;: &quot;Polygon&quot;}, {&quot;coordinates&quot;: [[[13.920000000000002, 50.96432000578623], [13.920050000000002, 50.96432000578623], [13.920050000000002, 50.9642800051835], [13.920000000000002, 50.9642800051835], [13.920000000000002, 50.96432000578623]]], &quot;type&quot;: &quot;Polygon&quot;}, {&quot;coordinates&quot;: [[[13.920000000000002, 50.9642800051835], [13.920050000000002, 50.9642800051835], [13.920050000000002, 50.96424000454632], [13.920000000000002, 50.96424000454632], [13.920000000000002, 50.9642800051835]]], &quot;type&quot;: &quot;Polygon&quot;}, {&quot;coordinates&quot;: [[[13.920000000000002, 50.96424000454632], [13.920050000000002, 50.96424000454632], [13.920050000000002, 50.96420000387471], [13.920000000000002, 50.96420000387471], [13.920000000000002, 50.96424000454632]]], &quot;type&quot;: &quot;Polygon&quot;}, {&quot;coordinates&quot;: [[[13.920000000000002, 50.96420000387471], [13.920050000000002, 50.96420000387471], [13.920050000000002, 50.964160003168644], [13.920000000000002, 50.964160003168644], [13.920000000000002, 50.96420000387471]]], &quot;type&quot;: &quot;Polygon&quot;}, {&quot;coordinates&quot;: [[[13.920000000000002, 50.964160003168644], [13.920050000000002, 50.964160003168644], [13.920050000000002, 50.964120002428146], [13.920000000000002, 50.964120002428146], [13.920000000000002, 50.964160003168644]]], &quot;type&quot;: &quot;Polygon&quot;}, {&quot;coordinates&quot;: [[[13.920000000000002, 50.964120002428146], [13.920050000000002, 50.964120002428146], [13.920050000000002, 50.96408000165321], [13.920000000000002, 50.96408000165321], [13.920000000000002, 50.964120002428146]]], &quot;type&quot;: &quot;Polygon&quot;}, {&quot;coordinates&quot;: [[[13.920000000000002, 50.96408000165321], [13.920050000000002, 50.96408000165321], [13.920050000000002, 50.964040000843816], [13.920000000000002, 50.964040000843816], [13.920000000000002, 50.96408000165321]]], &quot;type&quot;: &quot;Polygon&quot;}, {&quot;coordinates&quot;: [[[13.920000000000002, 50.964040000843816], [13.920050000000002, 50.964040000843816], [13.920050000000002, 50.96399999999999], [13.920000000000002, 50.96399999999999], [13.920000000000002, 50.964040000843816]]], &quot;type&quot;: &quot;Polygon&quot;}], &quot;type&quot;: &quot;GeometryCollection&quot;});\n",
       "\n",
       "        \n",
       "    \n",
       "            geo_json_48fa0de1d9c06e3769d3b7a667e3a712.addTo(map_49eea240191de206b29a1e0aace38bb2);\n",
       "        \n",
       "    \n",
       "\n",
       "        function geo_json_d7759960ac8cdbfa22ad34312448256d_onEachFeature(feature, layer) {\n",
       "            layer.on({\n",
       "            });\n",
       "        };\n",
       "        var geo_json_d7759960ac8cdbfa22ad34312448256d = L.geoJson(null, {\n",
       "                onEachFeature: geo_json_d7759960ac8cdbfa22ad34312448256d_onEachFeature,\n",
       "            \n",
       "        });\n",
       "\n",
       "        function geo_json_d7759960ac8cdbfa22ad34312448256d_add (data) {\n",
       "            geo_json_d7759960ac8cdbfa22ad34312448256d\n",
       "                .addData(data);\n",
       "        }\n",
       "            geo_json_d7759960ac8cdbfa22ad34312448256d_add({&quot;coordinates&quot;: [13.92004, 50.96599], &quot;type&quot;: &quot;Point&quot;});\n",
       "\n",
       "        \n",
       "    \n",
       "            geo_json_d7759960ac8cdbfa22ad34312448256d.addTo(map_49eea240191de206b29a1e0aace38bb2);\n",
       "        \n",
       "    \n",
       "            map_49eea240191de206b29a1e0aace38bb2.fitBounds(\n",
       "                [[50.964, 13.92], [50.966, 13.925000000000002]],\n",
       "                {}\n",
       "            );\n",
       "        \n",
       "&lt;/script&gt;\n",
       "&lt;/html&gt;\" style=\"position:absolute;width:100%;height:100%;left:0;top:0;border:none !important;\" allowfullscreen webkitallowfullscreen mozallowfullscreen></iframe></div></div>"
      ]
     },
     "execution_count": 6,
     "metadata": {},
     "output_type": "execute_result"
    }
   ],
   "execution_count": 6
  },
  {
   "cell_type": "markdown",
   "id": "c77083343e8d9b41",
   "metadata": {
    "collapsed": false,
    "papermill": {
     "duration": 0.002324,
     "end_time": "2024-06-20T19:03:14.091456",
     "exception": false,
     "start_time": "2024-06-20T19:03:14.089132",
     "status": "completed"
    },
    "tags": []
   },
   "source": [
    "# Setup Head Observations"
   ]
  },
  {
   "cell_type": "code",
   "id": "b51fc5e6c932e70a",
   "metadata": {
    "collapsed": false,
    "execution": {
     "iopub.execute_input": "2024-06-20T19:03:14.096512Z",
     "iopub.status.busy": "2024-06-20T19:03:14.096382Z",
     "iopub.status.idle": "2024-06-20T19:03:14.930834Z",
     "shell.execute_reply": "2024-06-20T19:03:14.930599Z"
    },
    "papermill": {
     "duration": 0.837981,
     "end_time": "2024-06-20T19:03:14.931660",
     "exception": false,
     "start_time": "2024-06-20T19:03:14.093679",
     "status": "completed"
    },
    "tags": [],
    "ExecuteTime": {
     "end_time": "2024-08-19T10:13:29.373886Z",
     "start_time": "2024-08-19T10:13:29.322345Z"
    }
   },
   "source": [
    "from morpheus.project.types.observations.HeadObservation import HeadObservation, ObservationName, Head, ObservationCollection, HeadObservationValue\n",
    "\n",
    "head_observation_1 = HeadObservation.from_geometry(\n",
    "  geometry=Point((13.92181326103696, 50.96574333352123)),\n",
    "  grid=grid,\n",
    "  affected_layers=[model.layers[0].layer_id],\n",
    "  name=ObservationName('HOB_1'),\n",
    "  data=[\n",
    "    HeadObservationValue(\n",
    "      date_time=StartDateTime.from_datetime(datetime(2020, 1, 1)),\n",
    "      head=Head.from_float(111),\n",
    "    ),\n",
    "    HeadObservationValue(\n",
    "      date_time=StartDateTime.from_datetime(datetime(2020, 2, 1)),\n",
    "      head=Head.from_float(112),\n",
    "    ),\n",
    "    HeadObservationValue(\n",
    "      date_time=StartDateTime.from_datetime(datetime(2020, 3, 1)),\n",
    "      head=Head.from_float(113),\n",
    "    ),\n",
    "    HeadObservationValue(\n",
    "      date_time=StartDateTime.from_datetime(datetime(2020, 4, 1)),\n",
    "      head=Head.from_float(114),\n",
    "    ),\n",
    "    HeadObservationValue(\n",
    "      date_time=StartDateTime.from_datetime(datetime(2020, 5, 1)),\n",
    "      head=Head.from_float(115),\n",
    "    ),\n",
    "  ]\n",
    ")\n",
    "\n",
    "head_observation_2 = HeadObservation.from_geometry(\n",
    "  geometry=Point((13.92181326103696, 50.96440649737727)),\n",
    "  grid=grid,\n",
    "  affected_layers=[model.layers[0].layer_id],\n",
    "  name=ObservationName('HOB_2'),\n",
    "  data=[\n",
    "    HeadObservationValue(\n",
    "      date_time=StartDateTime.from_datetime(datetime(2020, 1, 1)),\n",
    "      head=Head.from_float(121),\n",
    "    ),\n",
    "    HeadObservationValue(\n",
    "      date_time=StartDateTime.from_datetime(datetime(2020, 2, 1)),\n",
    "      head=Head.from_float(122),\n",
    "    ),\n",
    "    HeadObservationValue(\n",
    "      date_time=StartDateTime.from_datetime(datetime(2020, 3, 1)),\n",
    "      head=Head.from_float(123),\n",
    "    ),\n",
    "    HeadObservationValue(\n",
    "      date_time=StartDateTime.from_datetime(datetime(2020, 4, 1)),\n",
    "      head=Head.from_float(124),\n",
    "    ),\n",
    "    HeadObservationValue(\n",
    "      date_time=StartDateTime.from_datetime(datetime(2020, 5, 1)),\n",
    "      head=Head.from_float(125),\n",
    "    ),\n",
    "  ]\n",
    ")\n",
    "\n",
    "head_observation_3 = HeadObservation.from_geometry(\n",
    "  geometry=Point((13.923994608237564, 50.96440649737727)),\n",
    "  grid=grid,\n",
    "  affected_layers=[model.layers[0].layer_id],\n",
    "  name=ObservationName('HOB_3'),\n",
    "  data=[\n",
    "    HeadObservationValue(\n",
    "      date_time=StartDateTime.from_datetime(datetime(2020, 1, 1)),\n",
    "      head=Head.from_float(131),\n",
    "    ),\n",
    "    HeadObservationValue(\n",
    "      date_time=StartDateTime.from_datetime(datetime(2020, 2, 1)),\n",
    "      head=Head.from_float(132),\n",
    "    ),\n",
    "    HeadObservationValue(\n",
    "      date_time=StartDateTime.from_datetime(datetime(2020, 3, 1)),\n",
    "      head=Head.from_float(133),\n",
    "    ),\n",
    "    HeadObservationValue(\n",
    "      date_time=StartDateTime.from_datetime(datetime(2020, 4, 1)),\n",
    "      head=Head.from_float(134),\n",
    "    ),\n",
    "    HeadObservationValue(\n",
    "      date_time=StartDateTime.from_datetime(datetime(2020, 5, 1)),\n",
    "      head=Head.from_float(135),\n",
    "    ),\n",
    "  ]\n",
    ")\n",
    "\n",
    "observations = ObservationCollection.new()\n",
    "observations = observations.with_added_observation(head_observation_1)\n",
    "observations = observations.with_added_observation(head_observation_2)\n",
    "observations = observations.with_added_observation(head_observation_3)\n",
    "\n",
    "model = model.with_updated_observations(observations=observations)\n",
    "\n",
    "m.add_child(folium.GeoJson(head_observation_1.as_geojson()))\n",
    "m.add_child(folium.GeoJson(head_observation_2.as_geojson()))\n",
    "m.add_child(folium.GeoJson(head_observation_3.as_geojson()))\n",
    "m.fit_bounds(m.get_bounds())\n",
    "m\n"
   ],
   "outputs": [
    {
     "data": {
      "text/plain": [
       "<folium.folium.Map at 0x12e62d850>"
      ],
      "text/html": [
       "<div style=\"width:100%;\"><div style=\"position:relative;width:100%;height:0;padding-bottom:60%;\"><span style=\"color:#565656\">Make this Notebook Trusted to load map: File -> Trust Notebook</span><iframe srcdoc=\"&lt;!DOCTYPE html&gt;\n",
       "&lt;html&gt;\n",
       "&lt;head&gt;\n",
       "    \n",
       "    &lt;meta http-equiv=&quot;content-type&quot; content=&quot;text/html; charset=UTF-8&quot; /&gt;\n",
       "    \n",
       "        &lt;script&gt;\n",
       "            L_NO_TOUCH = false;\n",
       "            L_DISABLE_3D = false;\n",
       "        &lt;/script&gt;\n",
       "    \n",
       "    &lt;style&gt;html, body {width: 100%;height: 100%;margin: 0;padding: 0;}&lt;/style&gt;\n",
       "    &lt;style&gt;#map {position:absolute;top:0;bottom:0;right:0;left:0;}&lt;/style&gt;\n",
       "    &lt;script src=&quot;https://cdn.jsdelivr.net/npm/leaflet@1.9.3/dist/leaflet.js&quot;&gt;&lt;/script&gt;\n",
       "    &lt;script src=&quot;https://code.jquery.com/jquery-3.7.1.min.js&quot;&gt;&lt;/script&gt;\n",
       "    &lt;script src=&quot;https://cdn.jsdelivr.net/npm/bootstrap@5.2.2/dist/js/bootstrap.bundle.min.js&quot;&gt;&lt;/script&gt;\n",
       "    &lt;script src=&quot;https://cdnjs.cloudflare.com/ajax/libs/Leaflet.awesome-markers/2.0.2/leaflet.awesome-markers.js&quot;&gt;&lt;/script&gt;\n",
       "    &lt;link rel=&quot;stylesheet&quot; href=&quot;https://cdn.jsdelivr.net/npm/leaflet@1.9.3/dist/leaflet.css&quot;/&gt;\n",
       "    &lt;link rel=&quot;stylesheet&quot; href=&quot;https://cdn.jsdelivr.net/npm/bootstrap@5.2.2/dist/css/bootstrap.min.css&quot;/&gt;\n",
       "    &lt;link rel=&quot;stylesheet&quot; href=&quot;https://netdna.bootstrapcdn.com/bootstrap/3.0.0/css/bootstrap.min.css&quot;/&gt;\n",
       "    &lt;link rel=&quot;stylesheet&quot; href=&quot;https://cdn.jsdelivr.net/npm/@fortawesome/fontawesome-free@6.2.0/css/all.min.css&quot;/&gt;\n",
       "    &lt;link rel=&quot;stylesheet&quot; href=&quot;https://cdnjs.cloudflare.com/ajax/libs/Leaflet.awesome-markers/2.0.2/leaflet.awesome-markers.css&quot;/&gt;\n",
       "    &lt;link rel=&quot;stylesheet&quot; href=&quot;https://cdn.jsdelivr.net/gh/python-visualization/folium/folium/templates/leaflet.awesome.rotate.min.css&quot;/&gt;\n",
       "    \n",
       "            &lt;meta name=&quot;viewport&quot; content=&quot;width=device-width,\n",
       "                initial-scale=1.0, maximum-scale=1.0, user-scalable=no&quot; /&gt;\n",
       "            &lt;style&gt;\n",
       "                #map_49eea240191de206b29a1e0aace38bb2 {\n",
       "                    position: relative;\n",
       "                    width: 100.0%;\n",
       "                    height: 100.0%;\n",
       "                    left: 0.0%;\n",
       "                    top: 0.0%;\n",
       "                }\n",
       "                .leaflet-container { font-size: 1rem; }\n",
       "            &lt;/style&gt;\n",
       "        \n",
       "&lt;/head&gt;\n",
       "&lt;body&gt;\n",
       "    \n",
       "    \n",
       "            &lt;div class=&quot;folium-map&quot; id=&quot;map_49eea240191de206b29a1e0aace38bb2&quot; &gt;&lt;/div&gt;\n",
       "        \n",
       "&lt;/body&gt;\n",
       "&lt;script&gt;\n",
       "    \n",
       "    \n",
       "            var map_49eea240191de206b29a1e0aace38bb2 = L.map(\n",
       "                &quot;map_49eea240191de206b29a1e0aace38bb2&quot;,\n",
       "                {\n",
       "                    center: [50.965, 13.922],\n",
       "                    crs: L.CRS.EPSG3857,\n",
       "                    zoom: 12,\n",
       "                    zoomControl: true,\n",
       "                    preferCanvas: false,\n",
       "                }\n",
       "            );\n",
       "\n",
       "            \n",
       "\n",
       "        \n",
       "    \n",
       "            var tile_layer_9935ba8b203e36c2d5ba50abaff510fc = L.tileLayer(\n",
       "                &quot;https://{s}.basemaps.cartocdn.com/light_all/{z}/{x}/{y}{r}.png&quot;,\n",
       "                {&quot;attribution&quot;: &quot;\\u0026copy; \\u003ca href=\\&quot;https://www.openstreetmap.org/copyright\\&quot;\\u003eOpenStreetMap\\u003c/a\\u003e contributors \\u0026copy; \\u003ca href=\\&quot;https://carto.com/attributions\\&quot;\\u003eCARTO\\u003c/a\\u003e&quot;, &quot;detectRetina&quot;: false, &quot;maxNativeZoom&quot;: 20, &quot;maxZoom&quot;: 20, &quot;minZoom&quot;: 0, &quot;noWrap&quot;: false, &quot;opacity&quot;: 1, &quot;subdomains&quot;: &quot;abcd&quot;, &quot;tms&quot;: false}\n",
       "            );\n",
       "        \n",
       "    \n",
       "            tile_layer_9935ba8b203e36c2d5ba50abaff510fc.addTo(map_49eea240191de206b29a1e0aace38bb2);\n",
       "        \n",
       "    \n",
       "\n",
       "        function geo_json_c5f8c9016eff62d55e955c3ecd3405be_onEachFeature(feature, layer) {\n",
       "            layer.on({\n",
       "            });\n",
       "        };\n",
       "        var geo_json_c5f8c9016eff62d55e955c3ecd3405be = L.geoJson(null, {\n",
       "                onEachFeature: geo_json_c5f8c9016eff62d55e955c3ecd3405be_onEachFeature,\n",
       "            \n",
       "        });\n",
       "\n",
       "        function geo_json_c5f8c9016eff62d55e955c3ecd3405be_add (data) {\n",
       "            geo_json_c5f8c9016eff62d55e955c3ecd3405be\n",
       "                .addData(data);\n",
       "        }\n",
       "            geo_json_c5f8c9016eff62d55e955c3ecd3405be_add({&quot;coordinates&quot;: [[[13.92, 50.964], [13.92, 50.966], [13.925, 50.966], [13.925, 50.964], [13.92, 50.964]]], &quot;type&quot;: &quot;Polygon&quot;});\n",
       "\n",
       "        \n",
       "    \n",
       "            geo_json_c5f8c9016eff62d55e955c3ecd3405be.addTo(map_49eea240191de206b29a1e0aace38bb2);\n",
       "        \n",
       "    \n",
       "            map_49eea240191de206b29a1e0aace38bb2.fitBounds(\n",
       "                [[50.964, 13.92], [50.966, 13.925]],\n",
       "                {}\n",
       "            );\n",
       "        \n",
       "    \n",
       "            tile_layer_9935ba8b203e36c2d5ba50abaff510fc.addTo(map_49eea240191de206b29a1e0aace38bb2);\n",
       "        \n",
       "    \n",
       "            geo_json_c5f8c9016eff62d55e955c3ecd3405be.addTo(map_49eea240191de206b29a1e0aace38bb2);\n",
       "        \n",
       "    \n",
       "\n",
       "        function geo_json_72983f1f9942c0089cb52da56afe7b83_onEachFeature(feature, layer) {\n",
       "            layer.on({\n",
       "            });\n",
       "        };\n",
       "        var geo_json_72983f1f9942c0089cb52da56afe7b83 = L.geoJson(null, {\n",
       "                onEachFeature: geo_json_72983f1f9942c0089cb52da56afe7b83_onEachFeature,\n",
       "            \n",
       "        });\n",
       "\n",
       "        function geo_json_72983f1f9942c0089cb52da56afe7b83_add (data) {\n",
       "            geo_json_72983f1f9942c0089cb52da56afe7b83\n",
       "                .addData(data);\n",
       "        }\n",
       "            geo_json_72983f1f9942c0089cb52da56afe7b83_add({&quot;coordinates&quot;: [[13.92499, 50.966], [13.92499, 50.964]], &quot;type&quot;: &quot;LineString&quot;});\n",
       "\n",
       "        \n",
       "    \n",
       "            geo_json_72983f1f9942c0089cb52da56afe7b83.addTo(map_49eea240191de206b29a1e0aace38bb2);\n",
       "        \n",
       "    \n",
       "\n",
       "        function geo_json_ec2e95c0e01f9652ffc41f731f08fc21_onEachFeature(feature, layer) {\n",
       "            layer.on({\n",
       "            });\n",
       "        };\n",
       "        var geo_json_ec2e95c0e01f9652ffc41f731f08fc21 = L.geoJson(null, {\n",
       "                onEachFeature: geo_json_ec2e95c0e01f9652ffc41f731f08fc21_onEachFeature,\n",
       "            \n",
       "        });\n",
       "\n",
       "        function geo_json_ec2e95c0e01f9652ffc41f731f08fc21_add (data) {\n",
       "            geo_json_ec2e95c0e01f9652ffc41f731f08fc21\n",
       "                .addData(data);\n",
       "        }\n",
       "            geo_json_ec2e95c0e01f9652ffc41f731f08fc21_add({&quot;geometries&quot;: [{&quot;coordinates&quot;: [[[13.92495, 50.965999999999994], [13.925000000000002, 50.965999999999994], [13.925000000000002, 50.965960000843815], [13.92495, 50.965960000843815], [13.92495, 50.965999999999994]]], &quot;type&quot;: &quot;Polygon&quot;}, {&quot;coordinates&quot;: [[[13.92495, 50.965960000843815], [13.925000000000002, 50.965960000843815], [13.925000000000002, 50.965920001653195], [13.92495, 50.965920001653195], [13.92495, 50.965960000843815]]], &quot;type&quot;: &quot;Polygon&quot;}, {&quot;coordinates&quot;: [[[13.92495, 50.965920001653195], [13.925000000000002, 50.965920001653195], [13.925000000000002, 50.965880002428136], [13.92495, 50.965880002428136], [13.92495, 50.965920001653195]]], &quot;type&quot;: &quot;Polygon&quot;}, {&quot;coordinates&quot;: [[[13.92495, 50.965880002428136], [13.925000000000002, 50.965880002428136], [13.925000000000002, 50.96584000316863], [13.92495, 50.96584000316863], [13.92495, 50.965880002428136]]], &quot;type&quot;: &quot;Polygon&quot;}, {&quot;coordinates&quot;: [[[13.92495, 50.96584000316863], [13.925000000000002, 50.96584000316863], [13.925000000000002, 50.96580000387468], [13.92495, 50.96580000387468], [13.92495, 50.96584000316863]]], &quot;type&quot;: &quot;Polygon&quot;}, {&quot;coordinates&quot;: [[[13.92495, 50.96580000387468], [13.925000000000002, 50.96580000387468], [13.925000000000002, 50.965760004546304], [13.92495, 50.965760004546304], [13.92495, 50.96580000387468]]], &quot;type&quot;: &quot;Polygon&quot;}, {&quot;coordinates&quot;: [[[13.92495, 50.965760004546304], [13.925000000000002, 50.965760004546304], [13.925000000000002, 50.96572000518347], [13.92495, 50.96572000518347], [13.92495, 50.965760004546304]]], &quot;type&quot;: &quot;Polygon&quot;}, {&quot;coordinates&quot;: [[[13.92495, 50.96572000518347], [13.925000000000002, 50.96572000518347], [13.925000000000002, 50.9656800057862], [13.92495, 50.9656800057862], [13.92495, 50.96572000518347]]], &quot;type&quot;: &quot;Polygon&quot;}, {&quot;coordinates&quot;: [[[13.92495, 50.9656800057862], [13.925000000000002, 50.9656800057862], [13.925000000000002, 50.9656400063545], [13.92495, 50.9656400063545], [13.92495, 50.9656800057862]]], &quot;type&quot;: &quot;Polygon&quot;}, {&quot;coordinates&quot;: [[[13.92495, 50.9656400063545], [13.925000000000002, 50.9656400063545], [13.925000000000002, 50.965600006888344], [13.92495, 50.965600006888344], [13.92495, 50.9656400063545]]], &quot;type&quot;: &quot;Polygon&quot;}, {&quot;coordinates&quot;: [[[13.92495, 50.965600006888344], [13.925000000000002, 50.965600006888344], [13.925000000000002, 50.965560007387744], [13.92495, 50.965560007387744], [13.92495, 50.965600006888344]]], &quot;type&quot;: &quot;Polygon&quot;}, {&quot;coordinates&quot;: [[[13.92495, 50.965560007387744], [13.925000000000002, 50.965560007387744], [13.925000000000002, 50.96552000785271], [13.92495, 50.96552000785271], [13.92495, 50.965560007387744]]], &quot;type&quot;: &quot;Polygon&quot;}, {&quot;coordinates&quot;: [[[13.92495, 50.96552000785271], [13.925000000000002, 50.96552000785271], [13.925000000000002, 50.96548000828324], [13.92495, 50.96548000828324], [13.92495, 50.96552000785271]]], &quot;type&quot;: &quot;Polygon&quot;}, {&quot;coordinates&quot;: [[[13.92495, 50.96548000828324], [13.925000000000002, 50.96548000828324], [13.925000000000002, 50.965440008679316], [13.92495, 50.965440008679316], [13.92495, 50.96548000828324]]], &quot;type&quot;: &quot;Polygon&quot;}, {&quot;coordinates&quot;: [[[13.92495, 50.965440008679316], [13.925000000000002, 50.965440008679316], [13.925000000000002, 50.965400009040955], [13.92495, 50.965400009040955], [13.92495, 50.965440008679316]]], &quot;type&quot;: &quot;Polygon&quot;}, {&quot;coordinates&quot;: [[[13.92495, 50.965400009040955], [13.925000000000002, 50.965400009040955], [13.925000000000002, 50.965360009368155], [13.92495, 50.965360009368155], [13.92495, 50.965400009040955]]], &quot;type&quot;: &quot;Polygon&quot;}, {&quot;coordinates&quot;: [[[13.92495, 50.965360009368155], [13.925000000000002, 50.965360009368155], [13.925000000000002, 50.96532000966091], [13.92495, 50.96532000966091], [13.92495, 50.965360009368155]]], &quot;type&quot;: &quot;Polygon&quot;}, {&quot;coordinates&quot;: [[[13.92495, 50.96532000966091], [13.925000000000002, 50.96532000966091], [13.925000000000002, 50.965280009919226], [13.92495, 50.965280009919226], [13.92495, 50.96532000966091]]], &quot;type&quot;: &quot;Polygon&quot;}, {&quot;coordinates&quot;: [[[13.92495, 50.965280009919226], [13.925000000000002, 50.965280009919226], [13.925000000000002, 50.96524001014309], [13.92495, 50.96524001014309], [13.92495, 50.965280009919226]]], &quot;type&quot;: &quot;Polygon&quot;}, {&quot;coordinates&quot;: [[[13.92495, 50.96524001014309], [13.925000000000002, 50.96524001014309], [13.925000000000002, 50.96520001033253], [13.92495, 50.96520001033253], [13.92495, 50.96524001014309]]], &quot;type&quot;: &quot;Polygon&quot;}, {&quot;coordinates&quot;: [[[13.92495, 50.96520001033253], [13.925000000000002, 50.96520001033253], [13.925000000000002, 50.965160010487516], [13.92495, 50.965160010487516], [13.92495, 50.96520001033253]]], &quot;type&quot;: &quot;Polygon&quot;}, {&quot;coordinates&quot;: [[[13.92495, 50.965160010487516], [13.925000000000002, 50.965160010487516], [13.925000000000002, 50.96512001060807], [13.92495, 50.96512001060807], [13.92495, 50.965160010487516]]], &quot;type&quot;: &quot;Polygon&quot;}, {&quot;coordinates&quot;: [[[13.92495, 50.96512001060807], [13.925000000000002, 50.96512001060807], [13.925000000000002, 50.96508001069417], [13.92495, 50.96508001069417], [13.92495, 50.96512001060807]]], &quot;type&quot;: &quot;Polygon&quot;}, {&quot;coordinates&quot;: [[[13.92495, 50.96508001069417], [13.925000000000002, 50.96508001069417], [13.925000000000002, 50.96504001074583], [13.92495, 50.96504001074583], [13.92495, 50.96508001069417]]], &quot;type&quot;: &quot;Polygon&quot;}, {&quot;coordinates&quot;: [[[13.92495, 50.96504001074583], [13.925000000000002, 50.96504001074583], [13.925000000000002, 50.96500001076305], [13.92495, 50.96500001076305], [13.92495, 50.96504001074583]]], &quot;type&quot;: &quot;Polygon&quot;}, {&quot;coordinates&quot;: [[[13.92495, 50.96500001076305], [13.925000000000002, 50.96500001076305], [13.925000000000002, 50.964960010745834], [13.92495, 50.964960010745834], [13.92495, 50.96500001076305]]], &quot;type&quot;: &quot;Polygon&quot;}, {&quot;coordinates&quot;: [[[13.92495, 50.964960010745834], [13.925000000000002, 50.964960010745834], [13.925000000000002, 50.96492001069418], [13.92495, 50.96492001069418], [13.92495, 50.964960010745834]]], &quot;type&quot;: &quot;Polygon&quot;}, {&quot;coordinates&quot;: [[[13.92495, 50.96492001069418], [13.925000000000002, 50.96492001069418], [13.925000000000002, 50.96488001060807], [13.92495, 50.96488001060807], [13.92495, 50.96492001069418]]], &quot;type&quot;: &quot;Polygon&quot;}, {&quot;coordinates&quot;: [[[13.92495, 50.96488001060807], [13.925000000000002, 50.96488001060807], [13.925000000000002, 50.96484001048752], [13.92495, 50.96484001048752], [13.92495, 50.96488001060807]]], &quot;type&quot;: &quot;Polygon&quot;}, {&quot;coordinates&quot;: [[[13.92495, 50.96484001048752], [13.925000000000002, 50.96484001048752], [13.925000000000002, 50.964800010332546], [13.92495, 50.964800010332546], [13.92495, 50.96484001048752]]], &quot;type&quot;: &quot;Polygon&quot;}, {&quot;coordinates&quot;: [[[13.92495, 50.964800010332546], [13.925000000000002, 50.964800010332546], [13.925000000000002, 50.96476001014311], [13.92495, 50.96476001014311], [13.92495, 50.964800010332546]]], &quot;type&quot;: &quot;Polygon&quot;}, {&quot;coordinates&quot;: [[[13.92495, 50.96476001014311], [13.925000000000002, 50.96476001014311], [13.925000000000002, 50.96472000991924], [13.92495, 50.96472000991924], [13.92495, 50.96476001014311]]], &quot;type&quot;: &quot;Polygon&quot;}, {&quot;coordinates&quot;: [[[13.92495, 50.96472000991924], [13.925000000000002, 50.96472000991924], [13.925000000000002, 50.964680009660924], [13.92495, 50.964680009660924], [13.92495, 50.96472000991924]]], &quot;type&quot;: &quot;Polygon&quot;}, {&quot;coordinates&quot;: [[[13.92495, 50.964680009660924], [13.925000000000002, 50.964680009660924], [13.925000000000002, 50.96464000936817], [13.92495, 50.96464000936817], [13.92495, 50.964680009660924]]], &quot;type&quot;: &quot;Polygon&quot;}, {&quot;coordinates&quot;: [[[13.92495, 50.96464000936817], [13.925000000000002, 50.96464000936817], [13.925000000000002, 50.96460000904097], [13.92495, 50.96460000904097], [13.92495, 50.96464000936817]]], &quot;type&quot;: &quot;Polygon&quot;}, {&quot;coordinates&quot;: [[[13.92495, 50.96460000904097], [13.925000000000002, 50.96460000904097], [13.925000000000002, 50.96456000867934], [13.92495, 50.96456000867934], [13.92495, 50.96460000904097]]], &quot;type&quot;: &quot;Polygon&quot;}, {&quot;coordinates&quot;: [[[13.92495, 50.96456000867934], [13.925000000000002, 50.96456000867934], [13.925000000000002, 50.96452000828325], [13.92495, 50.96452000828325], [13.92495, 50.96456000867934]]], &quot;type&quot;: &quot;Polygon&quot;}, {&quot;coordinates&quot;: [[[13.92495, 50.96452000828325], [13.925000000000002, 50.96452000828325], [13.925000000000002, 50.964480007852735], [13.92495, 50.964480007852735], [13.92495, 50.96452000828325]]], &quot;type&quot;: &quot;Polygon&quot;}, {&quot;coordinates&quot;: [[[13.92495, 50.964480007852735], [13.925000000000002, 50.964480007852735], [13.925000000000002, 50.96444000738777], [13.92495, 50.96444000738777], [13.92495, 50.964480007852735]]], &quot;type&quot;: &quot;Polygon&quot;}, {&quot;coordinates&quot;: [[[13.92495, 50.96444000738777], [13.925000000000002, 50.96444000738777], [13.925000000000002, 50.96440000688836], [13.92495, 50.96440000688836], [13.92495, 50.96444000738777]]], &quot;type&quot;: &quot;Polygon&quot;}, {&quot;coordinates&quot;: [[[13.92495, 50.96440000688836], [13.925000000000002, 50.96440000688836], [13.925000000000002, 50.96436000635452], [13.92495, 50.96436000635452], [13.92495, 50.96440000688836]]], &quot;type&quot;: &quot;Polygon&quot;}, {&quot;coordinates&quot;: [[[13.92495, 50.96436000635452], [13.925000000000002, 50.96436000635452], [13.925000000000002, 50.96432000578623], [13.92495, 50.96432000578623], [13.92495, 50.96436000635452]]], &quot;type&quot;: &quot;Polygon&quot;}, {&quot;coordinates&quot;: [[[13.92495, 50.96432000578623], [13.925000000000002, 50.96432000578623], [13.925000000000002, 50.9642800051835], [13.92495, 50.9642800051835], [13.92495, 50.96432000578623]]], &quot;type&quot;: &quot;Polygon&quot;}, {&quot;coordinates&quot;: [[[13.92495, 50.9642800051835], [13.925000000000002, 50.9642800051835], [13.925000000000002, 50.96424000454632], [13.92495, 50.96424000454632], [13.92495, 50.9642800051835]]], &quot;type&quot;: &quot;Polygon&quot;}, {&quot;coordinates&quot;: [[[13.92495, 50.96424000454632], [13.925000000000002, 50.96424000454632], [13.925000000000002, 50.96420000387471], [13.92495, 50.96420000387471], [13.92495, 50.96424000454632]]], &quot;type&quot;: &quot;Polygon&quot;}, {&quot;coordinates&quot;: [[[13.92495, 50.96420000387471], [13.925000000000002, 50.96420000387471], [13.925000000000002, 50.964160003168644], [13.92495, 50.964160003168644], [13.92495, 50.96420000387471]]], &quot;type&quot;: &quot;Polygon&quot;}, {&quot;coordinates&quot;: [[[13.92495, 50.964160003168644], [13.925000000000002, 50.964160003168644], [13.925000000000002, 50.964120002428146], [13.92495, 50.964120002428146], [13.92495, 50.964160003168644]]], &quot;type&quot;: &quot;Polygon&quot;}, {&quot;coordinates&quot;: [[[13.92495, 50.964120002428146], [13.925000000000002, 50.964120002428146], [13.925000000000002, 50.96408000165321], [13.92495, 50.96408000165321], [13.92495, 50.964120002428146]]], &quot;type&quot;: &quot;Polygon&quot;}, {&quot;coordinates&quot;: [[[13.92495, 50.96408000165321], [13.925000000000002, 50.96408000165321], [13.925000000000002, 50.964040000843816], [13.92495, 50.964040000843816], [13.92495, 50.96408000165321]]], &quot;type&quot;: &quot;Polygon&quot;}, {&quot;coordinates&quot;: [[[13.92495, 50.964040000843816], [13.925000000000002, 50.964040000843816], [13.925000000000002, 50.96399999999999], [13.92495, 50.96399999999999], [13.92495, 50.964040000843816]]], &quot;type&quot;: &quot;Polygon&quot;}], &quot;type&quot;: &quot;GeometryCollection&quot;});\n",
       "\n",
       "        \n",
       "    \n",
       "            geo_json_ec2e95c0e01f9652ffc41f731f08fc21.addTo(map_49eea240191de206b29a1e0aace38bb2);\n",
       "        \n",
       "    \n",
       "\n",
       "        function geo_json_3f500984c8686f81ef1e43682d1c47d9_onEachFeature(feature, layer) {\n",
       "            layer.on({\n",
       "            });\n",
       "        };\n",
       "        var geo_json_3f500984c8686f81ef1e43682d1c47d9 = L.geoJson(null, {\n",
       "                onEachFeature: geo_json_3f500984c8686f81ef1e43682d1c47d9_onEachFeature,\n",
       "            \n",
       "        });\n",
       "\n",
       "        function geo_json_3f500984c8686f81ef1e43682d1c47d9_add (data) {\n",
       "            geo_json_3f500984c8686f81ef1e43682d1c47d9\n",
       "                .addData(data);\n",
       "        }\n",
       "            geo_json_3f500984c8686f81ef1e43682d1c47d9_add({&quot;coordinates&quot;: [13.92499, 50.966], &quot;type&quot;: &quot;Point&quot;});\n",
       "\n",
       "        \n",
       "    \n",
       "            geo_json_3f500984c8686f81ef1e43682d1c47d9.addTo(map_49eea240191de206b29a1e0aace38bb2);\n",
       "        \n",
       "    \n",
       "\n",
       "        function geo_json_a3c45f9284f68f3e4c819b028c4f6641_onEachFeature(feature, layer) {\n",
       "            layer.on({\n",
       "            });\n",
       "        };\n",
       "        var geo_json_a3c45f9284f68f3e4c819b028c4f6641 = L.geoJson(null, {\n",
       "                onEachFeature: geo_json_a3c45f9284f68f3e4c819b028c4f6641_onEachFeature,\n",
       "            \n",
       "        });\n",
       "\n",
       "        function geo_json_a3c45f9284f68f3e4c819b028c4f6641_add (data) {\n",
       "            geo_json_a3c45f9284f68f3e4c819b028c4f6641\n",
       "                .addData(data);\n",
       "        }\n",
       "            geo_json_a3c45f9284f68f3e4c819b028c4f6641_add({&quot;coordinates&quot;: [[13.92004, 50.96401], [13.92004, 50.96599]], &quot;type&quot;: &quot;LineString&quot;});\n",
       "\n",
       "        \n",
       "    \n",
       "            geo_json_a3c45f9284f68f3e4c819b028c4f6641.addTo(map_49eea240191de206b29a1e0aace38bb2);\n",
       "        \n",
       "    \n",
       "\n",
       "        function geo_json_48fa0de1d9c06e3769d3b7a667e3a712_onEachFeature(feature, layer) {\n",
       "            layer.on({\n",
       "            });\n",
       "        };\n",
       "        var geo_json_48fa0de1d9c06e3769d3b7a667e3a712 = L.geoJson(null, {\n",
       "                onEachFeature: geo_json_48fa0de1d9c06e3769d3b7a667e3a712_onEachFeature,\n",
       "            \n",
       "        });\n",
       "\n",
       "        function geo_json_48fa0de1d9c06e3769d3b7a667e3a712_add (data) {\n",
       "            geo_json_48fa0de1d9c06e3769d3b7a667e3a712\n",
       "                .addData(data);\n",
       "        }\n",
       "            geo_json_48fa0de1d9c06e3769d3b7a667e3a712_add({&quot;geometries&quot;: [{&quot;coordinates&quot;: [[[13.920000000000002, 50.965999999999994], [13.920050000000002, 50.965999999999994], [13.920050000000002, 50.965960000843815], [13.920000000000002, 50.965960000843815], [13.920000000000002, 50.965999999999994]]], &quot;type&quot;: &quot;Polygon&quot;}, {&quot;coordinates&quot;: [[[13.920000000000002, 50.965960000843815], [13.920050000000002, 50.965960000843815], [13.920050000000002, 50.965920001653195], [13.920000000000002, 50.965920001653195], [13.920000000000002, 50.965960000843815]]], &quot;type&quot;: &quot;Polygon&quot;}, {&quot;coordinates&quot;: [[[13.920000000000002, 50.965920001653195], [13.920050000000002, 50.965920001653195], [13.920050000000002, 50.965880002428136], [13.920000000000002, 50.965880002428136], [13.920000000000002, 50.965920001653195]]], &quot;type&quot;: &quot;Polygon&quot;}, {&quot;coordinates&quot;: [[[13.920000000000002, 50.965880002428136], [13.920050000000002, 50.965880002428136], [13.920050000000002, 50.96584000316863], [13.920000000000002, 50.96584000316863], [13.920000000000002, 50.965880002428136]]], &quot;type&quot;: &quot;Polygon&quot;}, {&quot;coordinates&quot;: [[[13.920000000000002, 50.96584000316863], [13.920050000000002, 50.96584000316863], [13.920050000000002, 50.96580000387468], [13.920000000000002, 50.96580000387468], [13.920000000000002, 50.96584000316863]]], &quot;type&quot;: &quot;Polygon&quot;}, {&quot;coordinates&quot;: [[[13.920000000000002, 50.96580000387468], [13.920050000000002, 50.96580000387468], [13.920050000000002, 50.965760004546304], [13.920000000000002, 50.965760004546304], [13.920000000000002, 50.96580000387468]]], &quot;type&quot;: &quot;Polygon&quot;}, {&quot;coordinates&quot;: [[[13.920000000000002, 50.965760004546304], [13.920050000000002, 50.965760004546304], [13.920050000000002, 50.96572000518347], [13.920000000000002, 50.96572000518347], [13.920000000000002, 50.965760004546304]]], &quot;type&quot;: &quot;Polygon&quot;}, {&quot;coordinates&quot;: [[[13.920000000000002, 50.96572000518347], [13.920050000000002, 50.96572000518347], [13.920050000000002, 50.9656800057862], [13.920000000000002, 50.9656800057862], [13.920000000000002, 50.96572000518347]]], &quot;type&quot;: &quot;Polygon&quot;}, {&quot;coordinates&quot;: [[[13.920000000000002, 50.9656800057862], [13.920050000000002, 50.9656800057862], [13.920050000000002, 50.9656400063545], [13.920000000000002, 50.9656400063545], [13.920000000000002, 50.9656800057862]]], &quot;type&quot;: &quot;Polygon&quot;}, {&quot;coordinates&quot;: [[[13.920000000000002, 50.9656400063545], [13.920050000000002, 50.9656400063545], [13.920050000000002, 50.965600006888344], [13.920000000000002, 50.965600006888344], [13.920000000000002, 50.9656400063545]]], &quot;type&quot;: &quot;Polygon&quot;}, {&quot;coordinates&quot;: [[[13.920000000000002, 50.965600006888344], [13.920050000000002, 50.965600006888344], [13.920050000000002, 50.965560007387744], [13.920000000000002, 50.965560007387744], [13.920000000000002, 50.965600006888344]]], &quot;type&quot;: &quot;Polygon&quot;}, {&quot;coordinates&quot;: [[[13.920000000000002, 50.965560007387744], [13.920050000000002, 50.965560007387744], [13.920050000000002, 50.96552000785271], [13.920000000000002, 50.96552000785271], [13.920000000000002, 50.965560007387744]]], &quot;type&quot;: &quot;Polygon&quot;}, {&quot;coordinates&quot;: [[[13.920000000000002, 50.96552000785271], [13.920050000000002, 50.96552000785271], [13.920050000000002, 50.96548000828324], [13.920000000000002, 50.96548000828324], [13.920000000000002, 50.96552000785271]]], &quot;type&quot;: &quot;Polygon&quot;}, {&quot;coordinates&quot;: [[[13.920000000000002, 50.96548000828324], [13.920050000000002, 50.96548000828324], [13.920050000000002, 50.965440008679316], [13.920000000000002, 50.965440008679316], [13.920000000000002, 50.96548000828324]]], &quot;type&quot;: &quot;Polygon&quot;}, {&quot;coordinates&quot;: [[[13.920000000000002, 50.965440008679316], [13.920050000000002, 50.965440008679316], [13.920050000000002, 50.965400009040955], [13.920000000000002, 50.965400009040955], [13.920000000000002, 50.965440008679316]]], &quot;type&quot;: &quot;Polygon&quot;}, {&quot;coordinates&quot;: [[[13.920000000000002, 50.965400009040955], [13.920050000000002, 50.965400009040955], [13.920050000000002, 50.965360009368155], [13.920000000000002, 50.965360009368155], [13.920000000000002, 50.965400009040955]]], &quot;type&quot;: &quot;Polygon&quot;}, {&quot;coordinates&quot;: [[[13.920000000000002, 50.965360009368155], [13.920050000000002, 50.965360009368155], [13.920050000000002, 50.96532000966091], [13.920000000000002, 50.96532000966091], [13.920000000000002, 50.965360009368155]]], &quot;type&quot;: &quot;Polygon&quot;}, {&quot;coordinates&quot;: [[[13.920000000000002, 50.96532000966091], [13.920050000000002, 50.96532000966091], [13.920050000000002, 50.965280009919226], [13.920000000000002, 50.965280009919226], [13.920000000000002, 50.96532000966091]]], &quot;type&quot;: &quot;Polygon&quot;}, {&quot;coordinates&quot;: [[[13.920000000000002, 50.965280009919226], [13.920050000000002, 50.965280009919226], [13.920050000000002, 50.96524001014309], [13.920000000000002, 50.96524001014309], [13.920000000000002, 50.965280009919226]]], &quot;type&quot;: &quot;Polygon&quot;}, {&quot;coordinates&quot;: [[[13.920000000000002, 50.96524001014309], [13.920050000000002, 50.96524001014309], [13.920050000000002, 50.96520001033253], [13.920000000000002, 50.96520001033253], [13.920000000000002, 50.96524001014309]]], &quot;type&quot;: &quot;Polygon&quot;}, {&quot;coordinates&quot;: [[[13.920000000000002, 50.96520001033253], [13.920050000000002, 50.96520001033253], [13.920050000000002, 50.965160010487516], [13.920000000000002, 50.965160010487516], [13.920000000000002, 50.96520001033253]]], &quot;type&quot;: &quot;Polygon&quot;}, {&quot;coordinates&quot;: [[[13.920000000000002, 50.965160010487516], [13.920050000000002, 50.965160010487516], [13.920050000000002, 50.96512001060807], [13.920000000000002, 50.96512001060807], [13.920000000000002, 50.965160010487516]]], &quot;type&quot;: &quot;Polygon&quot;}, {&quot;coordinates&quot;: [[[13.920000000000002, 50.96512001060807], [13.920050000000002, 50.96512001060807], [13.920050000000002, 50.96508001069417], [13.920000000000002, 50.96508001069417], [13.920000000000002, 50.96512001060807]]], &quot;type&quot;: &quot;Polygon&quot;}, {&quot;coordinates&quot;: [[[13.920000000000002, 50.96508001069417], [13.920050000000002, 50.96508001069417], [13.920050000000002, 50.96504001074583], [13.920000000000002, 50.96504001074583], [13.920000000000002, 50.96508001069417]]], &quot;type&quot;: &quot;Polygon&quot;}, {&quot;coordinates&quot;: [[[13.920000000000002, 50.96504001074583], [13.920050000000002, 50.96504001074583], [13.920050000000002, 50.96500001076305], [13.920000000000002, 50.96500001076305], [13.920000000000002, 50.96504001074583]]], &quot;type&quot;: &quot;Polygon&quot;}, {&quot;coordinates&quot;: [[[13.920000000000002, 50.96500001076305], [13.920050000000002, 50.96500001076305], [13.920050000000002, 50.964960010745834], [13.920000000000002, 50.964960010745834], [13.920000000000002, 50.96500001076305]]], &quot;type&quot;: &quot;Polygon&quot;}, {&quot;coordinates&quot;: [[[13.920000000000002, 50.964960010745834], [13.920050000000002, 50.964960010745834], [13.920050000000002, 50.96492001069418], [13.920000000000002, 50.96492001069418], [13.920000000000002, 50.964960010745834]]], &quot;type&quot;: &quot;Polygon&quot;}, {&quot;coordinates&quot;: [[[13.920000000000002, 50.96492001069418], [13.920050000000002, 50.96492001069418], [13.920050000000002, 50.96488001060807], [13.920000000000002, 50.96488001060807], [13.920000000000002, 50.96492001069418]]], &quot;type&quot;: &quot;Polygon&quot;}, {&quot;coordinates&quot;: [[[13.920000000000002, 50.96488001060807], [13.920050000000002, 50.96488001060807], [13.920050000000002, 50.96484001048752], [13.920000000000002, 50.96484001048752], [13.920000000000002, 50.96488001060807]]], &quot;type&quot;: &quot;Polygon&quot;}, {&quot;coordinates&quot;: [[[13.920000000000002, 50.96484001048752], [13.920050000000002, 50.96484001048752], [13.920050000000002, 50.964800010332546], [13.920000000000002, 50.964800010332546], [13.920000000000002, 50.96484001048752]]], &quot;type&quot;: &quot;Polygon&quot;}, {&quot;coordinates&quot;: [[[13.920000000000002, 50.964800010332546], [13.920050000000002, 50.964800010332546], [13.920050000000002, 50.96476001014311], [13.920000000000002, 50.96476001014311], [13.920000000000002, 50.964800010332546]]], &quot;type&quot;: &quot;Polygon&quot;}, {&quot;coordinates&quot;: [[[13.920000000000002, 50.96476001014311], [13.920050000000002, 50.96476001014311], [13.920050000000002, 50.96472000991924], [13.920000000000002, 50.96472000991924], [13.920000000000002, 50.96476001014311]]], &quot;type&quot;: &quot;Polygon&quot;}, {&quot;coordinates&quot;: [[[13.920000000000002, 50.96472000991924], [13.920050000000002, 50.96472000991924], [13.920050000000002, 50.964680009660924], [13.920000000000002, 50.964680009660924], [13.920000000000002, 50.96472000991924]]], &quot;type&quot;: &quot;Polygon&quot;}, {&quot;coordinates&quot;: [[[13.920000000000002, 50.964680009660924], [13.920050000000002, 50.964680009660924], [13.920050000000002, 50.96464000936817], [13.920000000000002, 50.96464000936817], [13.920000000000002, 50.964680009660924]]], &quot;type&quot;: &quot;Polygon&quot;}, {&quot;coordinates&quot;: [[[13.920000000000002, 50.96464000936817], [13.920050000000002, 50.96464000936817], [13.920050000000002, 50.96460000904097], [13.920000000000002, 50.96460000904097], [13.920000000000002, 50.96464000936817]]], &quot;type&quot;: &quot;Polygon&quot;}, {&quot;coordinates&quot;: [[[13.920000000000002, 50.96460000904097], [13.920050000000002, 50.96460000904097], [13.920050000000002, 50.96456000867934], [13.920000000000002, 50.96456000867934], [13.920000000000002, 50.96460000904097]]], &quot;type&quot;: &quot;Polygon&quot;}, {&quot;coordinates&quot;: [[[13.920000000000002, 50.96456000867934], [13.920050000000002, 50.96456000867934], [13.920050000000002, 50.96452000828325], [13.920000000000002, 50.96452000828325], [13.920000000000002, 50.96456000867934]]], &quot;type&quot;: &quot;Polygon&quot;}, {&quot;coordinates&quot;: [[[13.920000000000002, 50.96452000828325], [13.920050000000002, 50.96452000828325], [13.920050000000002, 50.964480007852735], [13.920000000000002, 50.964480007852735], [13.920000000000002, 50.96452000828325]]], &quot;type&quot;: &quot;Polygon&quot;}, {&quot;coordinates&quot;: [[[13.920000000000002, 50.964480007852735], [13.920050000000002, 50.964480007852735], [13.920050000000002, 50.96444000738777], [13.920000000000002, 50.96444000738777], [13.920000000000002, 50.964480007852735]]], &quot;type&quot;: &quot;Polygon&quot;}, {&quot;coordinates&quot;: [[[13.920000000000002, 50.96444000738777], [13.920050000000002, 50.96444000738777], [13.920050000000002, 50.96440000688836], [13.920000000000002, 50.96440000688836], [13.920000000000002, 50.96444000738777]]], &quot;type&quot;: &quot;Polygon&quot;}, {&quot;coordinates&quot;: [[[13.920000000000002, 50.96440000688836], [13.920050000000002, 50.96440000688836], [13.920050000000002, 50.96436000635452], [13.920000000000002, 50.96436000635452], [13.920000000000002, 50.96440000688836]]], &quot;type&quot;: &quot;Polygon&quot;}, {&quot;coordinates&quot;: [[[13.920000000000002, 50.96436000635452], [13.920050000000002, 50.96436000635452], [13.920050000000002, 50.96432000578623], [13.920000000000002, 50.96432000578623], [13.920000000000002, 50.96436000635452]]], &quot;type&quot;: &quot;Polygon&quot;}, {&quot;coordinates&quot;: [[[13.920000000000002, 50.96432000578623], [13.920050000000002, 50.96432000578623], [13.920050000000002, 50.9642800051835], [13.920000000000002, 50.9642800051835], [13.920000000000002, 50.96432000578623]]], &quot;type&quot;: &quot;Polygon&quot;}, {&quot;coordinates&quot;: [[[13.920000000000002, 50.9642800051835], [13.920050000000002, 50.9642800051835], [13.920050000000002, 50.96424000454632], [13.920000000000002, 50.96424000454632], [13.920000000000002, 50.9642800051835]]], &quot;type&quot;: &quot;Polygon&quot;}, {&quot;coordinates&quot;: [[[13.920000000000002, 50.96424000454632], [13.920050000000002, 50.96424000454632], [13.920050000000002, 50.96420000387471], [13.920000000000002, 50.96420000387471], [13.920000000000002, 50.96424000454632]]], &quot;type&quot;: &quot;Polygon&quot;}, {&quot;coordinates&quot;: [[[13.920000000000002, 50.96420000387471], [13.920050000000002, 50.96420000387471], [13.920050000000002, 50.964160003168644], [13.920000000000002, 50.964160003168644], [13.920000000000002, 50.96420000387471]]], &quot;type&quot;: &quot;Polygon&quot;}, {&quot;coordinates&quot;: [[[13.920000000000002, 50.964160003168644], [13.920050000000002, 50.964160003168644], [13.920050000000002, 50.964120002428146], [13.920000000000002, 50.964120002428146], [13.920000000000002, 50.964160003168644]]], &quot;type&quot;: &quot;Polygon&quot;}, {&quot;coordinates&quot;: [[[13.920000000000002, 50.964120002428146], [13.920050000000002, 50.964120002428146], [13.920050000000002, 50.96408000165321], [13.920000000000002, 50.96408000165321], [13.920000000000002, 50.964120002428146]]], &quot;type&quot;: &quot;Polygon&quot;}, {&quot;coordinates&quot;: [[[13.920000000000002, 50.96408000165321], [13.920050000000002, 50.96408000165321], [13.920050000000002, 50.964040000843816], [13.920000000000002, 50.964040000843816], [13.920000000000002, 50.96408000165321]]], &quot;type&quot;: &quot;Polygon&quot;}, {&quot;coordinates&quot;: [[[13.920000000000002, 50.964040000843816], [13.920050000000002, 50.964040000843816], [13.920050000000002, 50.96399999999999], [13.920000000000002, 50.96399999999999], [13.920000000000002, 50.964040000843816]]], &quot;type&quot;: &quot;Polygon&quot;}], &quot;type&quot;: &quot;GeometryCollection&quot;});\n",
       "\n",
       "        \n",
       "    \n",
       "            geo_json_48fa0de1d9c06e3769d3b7a667e3a712.addTo(map_49eea240191de206b29a1e0aace38bb2);\n",
       "        \n",
       "    \n",
       "\n",
       "        function geo_json_d7759960ac8cdbfa22ad34312448256d_onEachFeature(feature, layer) {\n",
       "            layer.on({\n",
       "            });\n",
       "        };\n",
       "        var geo_json_d7759960ac8cdbfa22ad34312448256d = L.geoJson(null, {\n",
       "                onEachFeature: geo_json_d7759960ac8cdbfa22ad34312448256d_onEachFeature,\n",
       "            \n",
       "        });\n",
       "\n",
       "        function geo_json_d7759960ac8cdbfa22ad34312448256d_add (data) {\n",
       "            geo_json_d7759960ac8cdbfa22ad34312448256d\n",
       "                .addData(data);\n",
       "        }\n",
       "            geo_json_d7759960ac8cdbfa22ad34312448256d_add({&quot;coordinates&quot;: [13.92004, 50.96599], &quot;type&quot;: &quot;Point&quot;});\n",
       "\n",
       "        \n",
       "    \n",
       "            geo_json_d7759960ac8cdbfa22ad34312448256d.addTo(map_49eea240191de206b29a1e0aace38bb2);\n",
       "        \n",
       "    \n",
       "            map_49eea240191de206b29a1e0aace38bb2.fitBounds(\n",
       "                [[50.964, 13.92], [50.966, 13.925000000000002]],\n",
       "                {}\n",
       "            );\n",
       "        \n",
       "    \n",
       "            tile_layer_9935ba8b203e36c2d5ba50abaff510fc.addTo(map_49eea240191de206b29a1e0aace38bb2);\n",
       "        \n",
       "    \n",
       "            geo_json_c5f8c9016eff62d55e955c3ecd3405be.addTo(map_49eea240191de206b29a1e0aace38bb2);\n",
       "        \n",
       "    \n",
       "            geo_json_72983f1f9942c0089cb52da56afe7b83.addTo(map_49eea240191de206b29a1e0aace38bb2);\n",
       "        \n",
       "    \n",
       "            geo_json_ec2e95c0e01f9652ffc41f731f08fc21.addTo(map_49eea240191de206b29a1e0aace38bb2);\n",
       "        \n",
       "    \n",
       "            geo_json_3f500984c8686f81ef1e43682d1c47d9.addTo(map_49eea240191de206b29a1e0aace38bb2);\n",
       "        \n",
       "    \n",
       "            geo_json_a3c45f9284f68f3e4c819b028c4f6641.addTo(map_49eea240191de206b29a1e0aace38bb2);\n",
       "        \n",
       "    \n",
       "            geo_json_48fa0de1d9c06e3769d3b7a667e3a712.addTo(map_49eea240191de206b29a1e0aace38bb2);\n",
       "        \n",
       "    \n",
       "            geo_json_d7759960ac8cdbfa22ad34312448256d.addTo(map_49eea240191de206b29a1e0aace38bb2);\n",
       "        \n",
       "    \n",
       "\n",
       "        function geo_json_301c68f5d99390766264bd5bd8d7eb7e_onEachFeature(feature, layer) {\n",
       "            layer.on({\n",
       "            });\n",
       "        };\n",
       "        var geo_json_301c68f5d99390766264bd5bd8d7eb7e = L.geoJson(null, {\n",
       "                onEachFeature: geo_json_301c68f5d99390766264bd5bd8d7eb7e_onEachFeature,\n",
       "            \n",
       "        });\n",
       "\n",
       "        function geo_json_301c68f5d99390766264bd5bd8d7eb7e_add (data) {\n",
       "            geo_json_301c68f5d99390766264bd5bd8d7eb7e\n",
       "                .addData(data);\n",
       "        }\n",
       "            geo_json_301c68f5d99390766264bd5bd8d7eb7e_add({&quot;coordinates&quot;: [13.92181326103696, 50.96574333352123], &quot;type&quot;: &quot;Point&quot;});\n",
       "\n",
       "        \n",
       "    \n",
       "            geo_json_301c68f5d99390766264bd5bd8d7eb7e.addTo(map_49eea240191de206b29a1e0aace38bb2);\n",
       "        \n",
       "    \n",
       "\n",
       "        function geo_json_bd3802c3d1c69264530c017aaacbd681_onEachFeature(feature, layer) {\n",
       "            layer.on({\n",
       "            });\n",
       "        };\n",
       "        var geo_json_bd3802c3d1c69264530c017aaacbd681 = L.geoJson(null, {\n",
       "                onEachFeature: geo_json_bd3802c3d1c69264530c017aaacbd681_onEachFeature,\n",
       "            \n",
       "        });\n",
       "\n",
       "        function geo_json_bd3802c3d1c69264530c017aaacbd681_add (data) {\n",
       "            geo_json_bd3802c3d1c69264530c017aaacbd681\n",
       "                .addData(data);\n",
       "        }\n",
       "            geo_json_bd3802c3d1c69264530c017aaacbd681_add({&quot;coordinates&quot;: [13.92181326103696, 50.96440649737727], &quot;type&quot;: &quot;Point&quot;});\n",
       "\n",
       "        \n",
       "    \n",
       "            geo_json_bd3802c3d1c69264530c017aaacbd681.addTo(map_49eea240191de206b29a1e0aace38bb2);\n",
       "        \n",
       "    \n",
       "\n",
       "        function geo_json_c932b6e33a3b172b32be1df57b40be25_onEachFeature(feature, layer) {\n",
       "            layer.on({\n",
       "            });\n",
       "        };\n",
       "        var geo_json_c932b6e33a3b172b32be1df57b40be25 = L.geoJson(null, {\n",
       "                onEachFeature: geo_json_c932b6e33a3b172b32be1df57b40be25_onEachFeature,\n",
       "            \n",
       "        });\n",
       "\n",
       "        function geo_json_c932b6e33a3b172b32be1df57b40be25_add (data) {\n",
       "            geo_json_c932b6e33a3b172b32be1df57b40be25\n",
       "                .addData(data);\n",
       "        }\n",
       "            geo_json_c932b6e33a3b172b32be1df57b40be25_add({&quot;coordinates&quot;: [13.923994608237564, 50.96440649737727], &quot;type&quot;: &quot;Point&quot;});\n",
       "\n",
       "        \n",
       "    \n",
       "            geo_json_c932b6e33a3b172b32be1df57b40be25.addTo(map_49eea240191de206b29a1e0aace38bb2);\n",
       "        \n",
       "    \n",
       "            map_49eea240191de206b29a1e0aace38bb2.fitBounds(\n",
       "                [[50.964, 13.92], [50.966, 13.925000000000002]],\n",
       "                {}\n",
       "            );\n",
       "        \n",
       "&lt;/script&gt;\n",
       "&lt;/html&gt;\" style=\"position:absolute;width:100%;height:100%;left:0;top:0;border:none !important;\" allowfullscreen webkitallowfullscreen mozallowfullscreen></iframe></div></div>"
      ]
     },
     "execution_count": 7,
     "metadata": {},
     "output_type": "execute_result"
    }
   ],
   "execution_count": 7
  },
  {
   "cell_type": "code",
   "id": "dc338472e1887a13",
   "metadata": {
    "collapsed": false,
    "execution": {
     "iopub.execute_input": "2024-06-20T19:03:14.937754Z",
     "iopub.status.busy": "2024-06-20T19:03:14.937643Z",
     "iopub.status.idle": "2024-06-20T19:03:15.190057Z",
     "shell.execute_reply": "2024-06-20T19:03:15.189801Z"
    },
    "papermill": {
     "duration": 0.256275,
     "end_time": "2024-06-20T19:03:15.190842",
     "exception": false,
     "start_time": "2024-06-20T19:03:14.934567",
     "status": "completed"
    },
    "tags": [],
    "ExecuteTime": {
     "end_time": "2024-08-19T10:13:30.045891Z",
     "start_time": "2024-08-19T10:13:29.375436Z"
    }
   },
   "source": [
    "from morpheus.project.infrastructure.calculation.engines.modflow_2005.packages.HobPackageMapper import \\\n",
    "  calculate_observation_items\n",
    "\n",
    "result = calculate_observation_items(model=model)\n",
    "result"
   ],
   "outputs": [
    {
     "data": {
      "text/plain": [
       "HeadObservationData(items=[HeadObservationItem(observation_id=ObservationId(value='d006d1f5-b3e0-4b97-b478-4e859eef5812'), observation_name=ObservationName(value='HOB_1'), obs_name='d006d1', names=['d006d1.0', 'd006d1.1', 'd006d1.2', 'd006d1.3', 'd006d1.4'], layer=0, row=6, column=36, time_series_data=[HeadObservationTimeSeriesItem(date_time=StartDateTime(value=datetime.datetime(2020, 1, 1, 0, 0, tzinfo=datetime.timezone.utc)), total_time=TotalTime(value=0.0), head_value=Head(value=111)), HeadObservationTimeSeriesItem(date_time=StartDateTime(value=datetime.datetime(2020, 2, 1, 0, 0, tzinfo=datetime.timezone.utc)), total_time=TotalTime(value=31.0), head_value=Head(value=112)), HeadObservationTimeSeriesItem(date_time=StartDateTime(value=datetime.datetime(2020, 3, 1, 0, 0, tzinfo=datetime.timezone.utc)), total_time=TotalTime(value=60.0), head_value=Head(value=113)), HeadObservationTimeSeriesItem(date_time=StartDateTime(value=datetime.datetime(2020, 4, 1, 0, 0, tzinfo=datetime.timezone.utc)), total_time=TotalTime(value=91.0), head_value=Head(value=114)), HeadObservationTimeSeriesItem(date_time=StartDateTime(value=datetime.datetime(2020, 5, 1, 0, 0, tzinfo=datetime.timezone.utc)), total_time=TotalTime(value=121.0), head_value=Head(value=115))]), HeadObservationItem(observation_id=ObservationId(value='e04cb647-8521-43f9-a27a-78376e717793'), observation_name=ObservationName(value='HOB_2'), obs_name='e04cb6', names=['e04cb6.0', 'e04cb6.1', 'e04cb6.2', 'e04cb6.3', 'e04cb6.4'], layer=0, row=39, column=36, time_series_data=[HeadObservationTimeSeriesItem(date_time=StartDateTime(value=datetime.datetime(2020, 1, 1, 0, 0, tzinfo=datetime.timezone.utc)), total_time=TotalTime(value=0.0), head_value=Head(value=121)), HeadObservationTimeSeriesItem(date_time=StartDateTime(value=datetime.datetime(2020, 2, 1, 0, 0, tzinfo=datetime.timezone.utc)), total_time=TotalTime(value=31.0), head_value=Head(value=122)), HeadObservationTimeSeriesItem(date_time=StartDateTime(value=datetime.datetime(2020, 3, 1, 0, 0, tzinfo=datetime.timezone.utc)), total_time=TotalTime(value=60.0), head_value=Head(value=123)), HeadObservationTimeSeriesItem(date_time=StartDateTime(value=datetime.datetime(2020, 4, 1, 0, 0, tzinfo=datetime.timezone.utc)), total_time=TotalTime(value=91.0), head_value=Head(value=124)), HeadObservationTimeSeriesItem(date_time=StartDateTime(value=datetime.datetime(2020, 5, 1, 0, 0, tzinfo=datetime.timezone.utc)), total_time=TotalTime(value=121.0), head_value=Head(value=125))]), HeadObservationItem(observation_id=ObservationId(value='1d0fe5da-757a-42ed-84e9-e0ef9081a03b'), observation_name=ObservationName(value='HOB_3'), obs_name='1d0fe5', names=['1d0fe5.0', '1d0fe5.1', '1d0fe5.2', '1d0fe5.3', '1d0fe5.4'], layer=0, row=39, column=79, time_series_data=[HeadObservationTimeSeriesItem(date_time=StartDateTime(value=datetime.datetime(2020, 1, 1, 0, 0, tzinfo=datetime.timezone.utc)), total_time=TotalTime(value=0.0), head_value=Head(value=131)), HeadObservationTimeSeriesItem(date_time=StartDateTime(value=datetime.datetime(2020, 2, 1, 0, 0, tzinfo=datetime.timezone.utc)), total_time=TotalTime(value=31.0), head_value=Head(value=132)), HeadObservationTimeSeriesItem(date_time=StartDateTime(value=datetime.datetime(2020, 3, 1, 0, 0, tzinfo=datetime.timezone.utc)), total_time=TotalTime(value=60.0), head_value=Head(value=133)), HeadObservationTimeSeriesItem(date_time=StartDateTime(value=datetime.datetime(2020, 4, 1, 0, 0, tzinfo=datetime.timezone.utc)), total_time=TotalTime(value=91.0), head_value=Head(value=134)), HeadObservationTimeSeriesItem(date_time=StartDateTime(value=datetime.datetime(2020, 5, 1, 0, 0, tzinfo=datetime.timezone.utc)), total_time=TotalTime(value=121.0), head_value=Head(value=135))])])"
      ]
     },
     "execution_count": 8,
     "metadata": {},
     "output_type": "execute_result"
    }
   ],
   "execution_count": 8
  },
  {
   "cell_type": "markdown",
   "id": "42d948d145a8457a",
   "metadata": {
    "collapsed": false,
    "papermill": {
     "duration": 0.003271,
     "end_time": "2024-06-20T19:03:15.197074",
     "exception": false,
     "start_time": "2024-06-20T19:03:15.193803",
     "status": "completed"
    },
    "tags": []
   },
   "source": [
    "## Calculate"
   ]
  },
  {
   "cell_type": "code",
   "id": "56ccabee86e2397e",
   "metadata": {
    "collapsed": false,
    "execution": {
     "iopub.execute_input": "2024-06-20T19:03:15.202964Z",
     "iopub.status.busy": "2024-06-20T19:03:15.202751Z",
     "iopub.status.idle": "2024-06-20T19:03:15.429627Z",
     "shell.execute_reply": "2024-06-20T19:03:15.429373Z"
    },
    "papermill": {
     "duration": 0.230812,
     "end_time": "2024-06-20T19:03:15.430463",
     "exception": false,
     "start_time": "2024-06-20T19:03:15.199651",
     "status": "completed"
    },
    "tags": [],
    "ExecuteTime": {
     "end_time": "2024-08-19T10:13:30.541717Z",
     "start_time": "2024-08-19T10:13:30.047855Z"
    }
   },
   "source": [
    "from morpheus.project.infrastructure.calculation.engines.base.CalculationEngineFactory import CalculationEngineFactory\n",
    "from morpheus.project.types.calculation.CalculationProfile import CalculationProfile, CalculationEngineType\n",
    "from morpheus.project.types.calculation.Calculation import CalculationId\n",
    "\n",
    "calculation_id = CalculationId.new()\n",
    "calculation_profile = CalculationProfile.new(CalculationEngineType.MF2005)\n",
    "engine = CalculationEngineFactory.create_engine(calculation_id=calculation_id, engine_type=calculation_profile.engine_type)\n",
    "check_model_log = engine.preprocess(model, calculation_profile)\n",
    "check_model_log.to_list()"
   ],
   "outputs": [
    {
     "data": {
      "text/plain": [
       "['type,package,k,i,j,value,desc']"
      ]
     },
     "execution_count": 9,
     "metadata": {},
     "output_type": "execute_result"
    }
   ],
   "execution_count": 9
  },
  {
   "cell_type": "code",
   "id": "672007fb90753c4c",
   "metadata": {
    "collapsed": false,
    "execution": {
     "iopub.execute_input": "2024-06-20T19:03:15.436466Z",
     "iopub.status.busy": "2024-06-20T19:03:15.436354Z",
     "iopub.status.idle": "2024-06-20T19:03:15.487454Z",
     "shell.execute_reply": "2024-06-20T19:03:15.487161Z"
    },
    "papermill": {
     "duration": 0.054983,
     "end_time": "2024-06-20T19:03:15.488302",
     "exception": false,
     "start_time": "2024-06-20T19:03:15.433319",
     "status": "completed"
    },
    "tags": [],
    "ExecuteTime": {
     "end_time": "2024-08-19T10:13:30.671064Z",
     "start_time": "2024-08-19T10:13:30.544043Z"
    }
   },
   "source": [
    "log, result = engine.run(model=model, calculation_profile=calculation_profile)"
   ],
   "outputs": [
    {
     "name": "stdout",
     "output_type": "stream",
     "text": [
      "FloPy is using the following executable to run the model: ../../../../../../../src/backend/.venv/bin/mf2005\n",
      "\n",
      "                                  MODFLOW-2005     \n",
      "    U.S. GEOLOGICAL SURVEY MODULAR FINITE-DIFFERENCE GROUND-WATER FLOW MODEL\n",
      "                             Version 1.12.00 2/3/2017                        \n",
      "\n",
      " Using NAME file: mf2005.nam \n",
      " Run start date and time (yyyy/mm/dd hh:mm:ss): 2024/08/19 12:13:30\n",
      "\n",
      " Solving:  Stress period:     1    Time step:     1    Ground-Water Flow Eqn.\n",
      " Run end date and time (yyyy/mm/dd hh:mm:ss): 2024/08/19 12:13:30\n",
      " Elapsed run time:  0.048 Seconds\n",
      "\n",
      "  Normal termination of simulation\n"
     ]
    }
   ],
   "execution_count": 10
  },
  {
   "cell_type": "code",
   "id": "a52d1dd3a1574032",
   "metadata": {
    "collapsed": false,
    "execution": {
     "iopub.execute_input": "2024-06-20T19:03:15.494452Z",
     "iopub.status.busy": "2024-06-20T19:03:15.494341Z",
     "iopub.status.idle": "2024-06-20T19:03:15.496515Z",
     "shell.execute_reply": "2024-06-20T19:03:15.496329Z"
    },
    "papermill": {
     "duration": 0.006159,
     "end_time": "2024-06-20T19:03:15.497271",
     "exception": false,
     "start_time": "2024-06-20T19:03:15.491112",
     "status": "completed"
    },
    "tags": [],
    "ExecuteTime": {
     "end_time": "2024-08-19T10:13:30.679680Z",
     "start_time": "2024-08-19T10:13:30.675190Z"
    }
   },
   "source": [
    "result"
   ],
   "outputs": [
    {
     "data": {
      "text/plain": [
       "CalculationResult(type=<CalculationResultType.SUCCESS: 'success'>, message='Calculation finished successfully', files=['mf2005.list', 'mf2005.ghb', 'mf2005.dis', 'mf2005.hob.out', 'mf2005.nam', 'mf2005.bas', 'mf2005.lpf', 'mf2005.pcg', 'mf2005.hob', 'mf2005.oc', 'mf2005.hds'], flow_head_results=AvailableResults(times=[365.0], kstpkper=[(0, 0)], number_of_layers=1, number_of_observations=15, min_value=100.0025634765625, max_value=119.9991455078125), flow_drawdown_results=None, flow_budget_results=AvailableResults(times=[365.0], kstpkper=[(0, 0)], number_of_layers=0, number_of_observations=0, min_value=None, max_value=None), transport_concentration_results=None, transport_budget_results=None, packages=['DIS', 'BAS6', 'GHB', 'PCG', 'LPF', 'OC', 'HOB'])"
      ]
     },
     "execution_count": 11,
     "metadata": {},
     "output_type": "execute_result"
    }
   ],
   "execution_count": 11
  },
  {
   "cell_type": "code",
   "id": "ead09f5fabe89fa7",
   "metadata": {
    "collapsed": false,
    "execution": {
     "iopub.execute_input": "2024-06-20T19:03:15.503073Z",
     "iopub.status.busy": "2024-06-20T19:03:15.502973Z",
     "iopub.status.idle": "2024-06-20T19:03:15.505197Z",
     "shell.execute_reply": "2024-06-20T19:03:15.504999Z"
    },
    "papermill": {
     "duration": 0.006009,
     "end_time": "2024-06-20T19:03:15.505967",
     "exception": false,
     "start_time": "2024-06-20T19:03:15.499958",
     "status": "completed"
    },
    "tags": [],
    "ExecuteTime": {
     "end_time": "2024-08-19T10:13:30.685870Z",
     "start_time": "2024-08-19T10:13:30.680863Z"
    }
   },
   "source": "engine.read_head_observations(model=model)",
   "outputs": [
    {
     "data": {
      "text/plain": [
       "[CalculationObservationResultItem(observation_id=ObservationId(value='d006d1f5-b3e0-4b97-b478-4e859eef5812'), observation_name=ObservationName(value='HOB_1'), layer=0, row=6, col=36, date_time='2020-01-01T00:00:00+00:00', simulated=112.727661133, observed=111),\n",
       " CalculationObservationResultItem(observation_id=ObservationId(value='d006d1f5-b3e0-4b97-b478-4e859eef5812'), observation_name=ObservationName(value='HOB_1'), layer=0, row=6, col=36, date_time='2020-02-01T00:00:00+00:00', simulated=112.727661133, observed=112),\n",
       " CalculationObservationResultItem(observation_id=ObservationId(value='d006d1f5-b3e0-4b97-b478-4e859eef5812'), observation_name=ObservationName(value='HOB_1'), layer=0, row=6, col=36, date_time='2020-03-01T00:00:00+00:00', simulated=112.727661133, observed=113),\n",
       " CalculationObservationResultItem(observation_id=ObservationId(value='d006d1f5-b3e0-4b97-b478-4e859eef5812'), observation_name=ObservationName(value='HOB_1'), layer=0, row=6, col=36, date_time='2020-04-01T00:00:00+00:00', simulated=112.727661133, observed=114),\n",
       " CalculationObservationResultItem(observation_id=ObservationId(value='d006d1f5-b3e0-4b97-b478-4e859eef5812'), observation_name=ObservationName(value='HOB_1'), layer=0, row=6, col=36, date_time='2020-05-01T00:00:00+00:00', simulated=112.727661133, observed=115),\n",
       " CalculationObservationResultItem(observation_id=ObservationId(value='e04cb647-8521-43f9-a27a-78376e717793'), observation_name=ObservationName(value='HOB_2'), layer=0, row=39, col=36, date_time='2020-01-01T00:00:00+00:00', simulated=112.727661133, observed=121),\n",
       " CalculationObservationResultItem(observation_id=ObservationId(value='e04cb647-8521-43f9-a27a-78376e717793'), observation_name=ObservationName(value='HOB_2'), layer=0, row=39, col=36, date_time='2020-02-01T00:00:00+00:00', simulated=112.727661133, observed=122),\n",
       " CalculationObservationResultItem(observation_id=ObservationId(value='e04cb647-8521-43f9-a27a-78376e717793'), observation_name=ObservationName(value='HOB_2'), layer=0, row=39, col=36, date_time='2020-03-01T00:00:00+00:00', simulated=112.727661133, observed=123),\n",
       " CalculationObservationResultItem(observation_id=ObservationId(value='e04cb647-8521-43f9-a27a-78376e717793'), observation_name=ObservationName(value='HOB_2'), layer=0, row=39, col=36, date_time='2020-04-01T00:00:00+00:00', simulated=112.727661133, observed=124),\n",
       " CalculationObservationResultItem(observation_id=ObservationId(value='e04cb647-8521-43f9-a27a-78376e717793'), observation_name=ObservationName(value='HOB_2'), layer=0, row=39, col=36, date_time='2020-05-01T00:00:00+00:00', simulated=112.727661133, observed=125),\n",
       " CalculationObservationResultItem(observation_id=ObservationId(value='1d0fe5da-757a-42ed-84e9-e0ef9081a03b'), observation_name=ObservationName(value='HOB_3'), layer=0, row=39, col=79, date_time='2020-01-01T00:00:00+00:00', simulated=104.042282104, observed=131),\n",
       " CalculationObservationResultItem(observation_id=ObservationId(value='1d0fe5da-757a-42ed-84e9-e0ef9081a03b'), observation_name=ObservationName(value='HOB_3'), layer=0, row=39, col=79, date_time='2020-02-01T00:00:00+00:00', simulated=104.042282104, observed=132),\n",
       " CalculationObservationResultItem(observation_id=ObservationId(value='1d0fe5da-757a-42ed-84e9-e0ef9081a03b'), observation_name=ObservationName(value='HOB_3'), layer=0, row=39, col=79, date_time='2020-03-01T00:00:00+00:00', simulated=104.042282104, observed=133),\n",
       " CalculationObservationResultItem(observation_id=ObservationId(value='1d0fe5da-757a-42ed-84e9-e0ef9081a03b'), observation_name=ObservationName(value='HOB_3'), layer=0, row=39, col=79, date_time='2020-04-01T00:00:00+00:00', simulated=104.042282104, observed=134),\n",
       " CalculationObservationResultItem(observation_id=ObservationId(value='1d0fe5da-757a-42ed-84e9-e0ef9081a03b'), observation_name=ObservationName(value='HOB_3'), layer=0, row=39, col=79, date_time='2020-05-01T00:00:00+00:00', simulated=104.042282104, observed=135)]"
      ]
     },
     "execution_count": 12,
     "metadata": {},
     "output_type": "execute_result"
    }
   ],
   "execution_count": 12
  },
  {
   "cell_type": "code",
   "id": "cc43ad077c7a81d0",
   "metadata": {
    "collapsed": false,
    "execution": {
     "iopub.execute_input": "2024-06-20T19:03:15.512043Z",
     "iopub.status.busy": "2024-06-20T19:03:15.511943Z",
     "iopub.status.idle": "2024-06-20T19:03:15.514070Z",
     "shell.execute_reply": "2024-06-20T19:03:15.513848Z"
    },
    "papermill": {
     "duration": 0.00603,
     "end_time": "2024-06-20T19:03:15.514823",
     "exception": false,
     "start_time": "2024-06-20T19:03:15.508793",
     "status": "completed"
    },
    "tags": [],
    "ExecuteTime": {
     "end_time": "2024-08-19T10:13:30.693813Z",
     "start_time": "2024-08-19T10:13:30.686489Z"
    }
   },
   "source": [
    "head = engine.read_flow_head(idx=0, layer=0)"
   ],
   "outputs": [],
   "execution_count": 13
  },
  {
   "cell_type": "code",
   "id": "12454cc4d9e18de5",
   "metadata": {
    "collapsed": false,
    "execution": {
     "iopub.execute_input": "2024-06-20T19:03:15.520757Z",
     "iopub.status.busy": "2024-06-20T19:03:15.520657Z",
     "iopub.status.idle": "2024-06-20T19:03:15.526271Z",
     "shell.execute_reply": "2024-06-20T19:03:15.526049Z"
    },
    "papermill": {
     "duration": 0.009405,
     "end_time": "2024-06-20T19:03:15.526989",
     "exception": false,
     "start_time": "2024-06-20T19:03:15.517584",
     "status": "completed"
    },
    "tags": [],
    "ExecuteTime": {
     "end_time": "2024-08-19T10:13:30.703617Z",
     "start_time": "2024-08-19T10:13:30.694550Z"
    }
   },
   "source": [
    "import simplejson as json\n",
    "\n",
    "json = json.dumps(head, ignore_nan=True)\n",
    "json"
   ],
   "outputs": [
    {
     "data": {
      "text/plain": [
       "'[[119.99919891357422, 119.79720306396484, 119.59519958496094, 119.39320373535156, 119.19120025634766, 118.98919677734375, 118.78720092773438, 118.58519744873047, 118.38330078125, 118.1812973022461, 117.97930145263672, 117.77729797363281, 117.57530212402344, 117.37329864501953, 117.17140197753906, 116.96939849853516, 116.76740264892578, 116.56539916992188, 116.3634033203125, 116.1613998413086, 115.95939636230469, 115.75740051269531, 115.55549621582031, 115.35350036621094, 115.15149688720703, 114.94950103759766, 114.74749755859375, 114.54550170898438, 114.34359741210938, 114.1416015625, 113.9395980834961, 113.73760223388672, 113.53559875488281, 113.33360290527344, 113.13159942626953, 112.92960357666016, 112.72769927978516, 112.52570343017578, 112.32369995117188, 112.12169647216797, 111.9197006225586, 111.71769714355469, 111.51580047607422, 111.31379699707031, 111.11180114746094, 110.90979766845703, 110.70780181884766, 110.50579833984375, 110.30380249023438, 110.10179901123047, 109.89990234375, 109.6978988647461, 109.49590301513672, 109.29389953613281, 109.09190368652344, 108.88990020751953, 108.68800354003906, 108.48600006103516, 108.28399658203125, 108.08200073242188, 107.87999725341797, 107.6780014038086, 107.47599792480469, 107.27400207519531, 107.07209777832031, 106.87010192871094, 106.66809844970703, 106.46610260009766, 106.26409912109375, 106.06210327148438, 105.86019897460938, 105.658203125, 105.4561996459961, 105.25420379638672, 105.05220031738281, 104.8501968383789, 104.64820098876953, 104.44619750976562, 104.24430084228516, 104.04229736328125, 103.84030151367188, 103.63829803466797, 103.4363021850586, 103.23429870605469, 103.03240203857422, 102.83039855957031, 102.62840270996094, 102.42639923095703, 102.22440338134766, 102.02239990234375, 101.82039642333984, 101.61849975585938, 101.41649627685547, 101.2145004272461, 101.01249694824219, 100.81050109863281, 100.6084976196289, 100.40650177001953, 100.20459747314453, 100.00260162353516], [119.99919891357422, 119.79720306396484, 119.59519958496094, 119.39320373535156, 119.19120025634766, 118.98919677734375, 118.78720092773438, 118.58519744873047, 118.38330078125, 118.1812973022461, 117.97930145263672, 117.77729797363281, 117.57530212402344, 117.37329864501953, 117.17140197753906, 116.96939849853516, 116.76740264892578, 116.56539916992188, 116.3634033203125, 116.1613998413086, 115.95939636230469, 115.75740051269531, 115.55549621582031, 115.35350036621094, 115.15149688720703, 114.94950103759766, 114.74749755859375, 114.54550170898438, 114.34359741210938, 114.1416015625, 113.9395980834961, 113.73760223388672, 113.53559875488281, 113.33360290527344, 113.13159942626953, 112.92960357666016, 112.72769927978516, 112.52570343017578, 112.32369995117188, 112.12169647216797, 111.9197006225586, 111.71769714355469, 111.51580047607422, 111.31379699707031, 111.11180114746094, 110.90979766845703, 110.70780181884766, 110.50579833984375, 110.30380249023438, 110.10179901123047, 109.89990234375, 109.6978988647461, 109.49590301513672, 109.29389953613281, 109.09190368652344, 108.88990020751953, 108.68800354003906, 108.48600006103516, 108.28399658203125, 108.08200073242188, 107.87999725341797, 107.6780014038086, 107.47599792480469, 107.27400207519531, 107.07209777832031, 106.87010192871094, 106.66809844970703, 106.46610260009766, 106.26409912109375, 106.06210327148438, 105.86019897460938, 105.658203125, 105.4561996459961, 105.25420379638672, 105.05220031738281, 104.8501968383789, 104.64820098876953, 104.44619750976562, 104.24430084228516, 104.04229736328125, 103.84030151367188, 103.63829803466797, 103.4363021850586, 103.23429870605469, 103.03240203857422, 102.83039855957031, 102.62840270996094, 102.42639923095703, 102.22440338134766, 102.02239990234375, 101.82039642333984, 101.61849975585938, 101.41649627685547, 101.2145004272461, 101.01249694824219, 100.81050109863281, 100.6084976196289, 100.40650177001953, 100.20459747314453, 100.00260162353516], [119.99919891357422, 119.79720306396484, 119.59519958496094, 119.39320373535156, 119.19120025634766, 118.98919677734375, 118.78720092773438, 118.58519744873047, 118.38330078125, 118.1812973022461, 117.97930145263672, 117.77729797363281, 117.57530212402344, 117.37329864501953, 117.17140197753906, 116.96939849853516, 116.76740264892578, 116.56539916992188, 116.3634033203125, 116.1613998413086, 115.95939636230469, 115.75740051269531, 115.55549621582031, 115.35350036621094, 115.15149688720703, 114.94950103759766, 114.74749755859375, 114.54550170898438, 114.34359741210938, 114.1416015625, 113.9395980834961, 113.73760223388672, 113.53559875488281, 113.33360290527344, 113.13159942626953, 112.92960357666016, 112.72769927978516, 112.52570343017578, 112.32369995117188, 112.12169647216797, 111.9197006225586, 111.71769714355469, 111.51580047607422, 111.31379699707031, 111.11180114746094, 110.90979766845703, 110.70780181884766, 110.50579833984375, 110.30380249023438, 110.10179901123047, 109.89990234375, 109.6978988647461, 109.49590301513672, 109.29389953613281, 109.09190368652344, 108.88990020751953, 108.68800354003906, 108.48600006103516, 108.28399658203125, 108.08200073242188, 107.87999725341797, 107.6780014038086, 107.47599792480469, 107.27400207519531, 107.07209777832031, 106.87010192871094, 106.66809844970703, 106.46610260009766, 106.26409912109375, 106.06210327148438, 105.86019897460938, 105.658203125, 105.4561996459961, 105.25420379638672, 105.05220031738281, 104.8501968383789, 104.64820098876953, 104.44619750976562, 104.24430084228516, 104.04229736328125, 103.84030151367188, 103.63829803466797, 103.4363021850586, 103.23429870605469, 103.03240203857422, 102.83039855957031, 102.62840270996094, 102.42639923095703, 102.22440338134766, 102.02239990234375, 101.82039642333984, 101.61849975585938, 101.41649627685547, 101.2145004272461, 101.01249694824219, 100.81050109863281, 100.6084976196289, 100.40650177001953, 100.20459747314453, 100.00260162353516], [119.99919891357422, 119.79720306396484, 119.59519958496094, 119.39320373535156, 119.19120025634766, 118.98919677734375, 118.78720092773438, 118.58519744873047, 118.38330078125, 118.1812973022461, 117.97930145263672, 117.77729797363281, 117.57530212402344, 117.37329864501953, 117.17140197753906, 116.96939849853516, 116.76740264892578, 116.56539916992188, 116.3634033203125, 116.1613998413086, 115.95939636230469, 115.75740051269531, 115.55549621582031, 115.35350036621094, 115.15149688720703, 114.94950103759766, 114.74749755859375, 114.54550170898438, 114.34359741210938, 114.1416015625, 113.9395980834961, 113.73760223388672, 113.53559875488281, 113.33360290527344, 113.13159942626953, 112.92960357666016, 112.72769927978516, 112.52570343017578, 112.32369995117188, 112.12169647216797, 111.9197006225586, 111.71769714355469, 111.51580047607422, 111.31379699707031, 111.11180114746094, 110.90979766845703, 110.70780181884766, 110.50579833984375, 110.30380249023438, 110.10179901123047, 109.89990234375, 109.6978988647461, 109.49590301513672, 109.29389953613281, 109.09190368652344, 108.88990020751953, 108.68800354003906, 108.48600006103516, 108.28399658203125, 108.08200073242188, 107.87999725341797, 107.6780014038086, 107.47599792480469, 107.27400207519531, 107.07209777832031, 106.87010192871094, 106.66809844970703, 106.46610260009766, 106.26409912109375, 106.06210327148438, 105.86019897460938, 105.658203125, 105.4561996459961, 105.25420379638672, 105.05220031738281, 104.8501968383789, 104.64820098876953, 104.44619750976562, 104.24430084228516, 104.04229736328125, 103.84030151367188, 103.63829803466797, 103.4363021850586, 103.23429870605469, 103.03240203857422, 102.83039855957031, 102.62840270996094, 102.42639923095703, 102.22440338134766, 102.02239990234375, 101.82039642333984, 101.61849975585938, 101.41649627685547, 101.2145004272461, 101.01249694824219, 100.81050109863281, 100.6084976196289, 100.40650177001953, 100.20459747314453, 100.00260162353516], [119.99919891357422, 119.79720306396484, 119.59519958496094, 119.39320373535156, 119.19120025634766, 118.98919677734375, 118.78720092773438, 118.58519744873047, 118.38330078125, 118.1812973022461, 117.97930145263672, 117.77729797363281, 117.57530212402344, 117.37329864501953, 117.17140197753906, 116.96939849853516, 116.76740264892578, 116.56539916992188, 116.3634033203125, 116.1613998413086, 115.95939636230469, 115.75740051269531, 115.55549621582031, 115.35350036621094, 115.15149688720703, 114.94950103759766, 114.74749755859375, 114.54550170898438, 114.34359741210938, 114.1416015625, 113.9395980834961, 113.73760223388672, 113.53559875488281, 113.33360290527344, 113.13159942626953, 112.92960357666016, 112.72769927978516, 112.52570343017578, 112.32369995117188, 112.12169647216797, 111.9197006225586, 111.71769714355469, 111.51580047607422, 111.31379699707031, 111.11180114746094, 110.90979766845703, 110.70780181884766, 110.50579833984375, 110.30380249023438, 110.10179901123047, 109.89990234375, 109.6978988647461, 109.49590301513672, 109.29389953613281, 109.09190368652344, 108.88990020751953, 108.68800354003906, 108.48600006103516, 108.28399658203125, 108.08200073242188, 107.87999725341797, 107.6780014038086, 107.47599792480469, 107.27400207519531, 107.07209777832031, 106.87010192871094, 106.66809844970703, 106.46610260009766, 106.26409912109375, 106.06210327148438, 105.86019897460938, 105.658203125, 105.4561996459961, 105.25420379638672, 105.05220031738281, 104.8501968383789, 104.64820098876953, 104.44619750976562, 104.24430084228516, 104.04229736328125, 103.84030151367188, 103.63829803466797, 103.4363021850586, 103.23429870605469, 103.03240203857422, 102.83039855957031, 102.62840270996094, 102.42639923095703, 102.22440338134766, 102.02239990234375, 101.82039642333984, 101.61849975585938, 101.41649627685547, 101.2145004272461, 101.01249694824219, 100.81050109863281, 100.6084976196289, 100.40650177001953, 100.20459747314453, 100.00260162353516], [119.99919891357422, 119.79720306396484, 119.59519958496094, 119.39320373535156, 119.19120025634766, 118.98919677734375, 118.78720092773438, 118.58519744873047, 118.38330078125, 118.1812973022461, 117.97930145263672, 117.77729797363281, 117.57530212402344, 117.37329864501953, 117.17140197753906, 116.96939849853516, 116.76740264892578, 116.56539916992188, 116.3634033203125, 116.1613998413086, 115.95939636230469, 115.75740051269531, 115.55549621582031, 115.35350036621094, 115.15149688720703, 114.94950103759766, 114.74749755859375, 114.54550170898438, 114.34359741210938, 114.1416015625, 113.9395980834961, 113.73760223388672, 113.53559875488281, 113.33360290527344, 113.13159942626953, 112.92960357666016, 112.72769927978516, 112.52570343017578, 112.32369995117188, 112.12169647216797, 111.9197006225586, 111.71769714355469, 111.51580047607422, 111.31379699707031, 111.11180114746094, 110.90979766845703, 110.70780181884766, 110.50579833984375, 110.30380249023438, 110.10179901123047, 109.89990234375, 109.6978988647461, 109.49590301513672, 109.29389953613281, 109.09190368652344, 108.88990020751953, 108.68800354003906, 108.48600006103516, 108.28399658203125, 108.08200073242188, 107.87999725341797, 107.6780014038086, 107.47599792480469, 107.27400207519531, 107.07209777832031, 106.87010192871094, 106.66809844970703, 106.46610260009766, 106.26409912109375, 106.06210327148438, 105.86019897460938, 105.658203125, 105.4561996459961, 105.25420379638672, 105.05220031738281, 104.8501968383789, 104.64820098876953, 104.44619750976562, 104.24430084228516, 104.04229736328125, 103.84030151367188, 103.63829803466797, 103.4363021850586, 103.23429870605469, 103.03240203857422, 102.83039855957031, 102.62840270996094, 102.42639923095703, 102.22440338134766, 102.02239990234375, 101.82039642333984, 101.61849975585938, 101.41649627685547, 101.2145004272461, 101.01249694824219, 100.81050109863281, 100.6084976196289, 100.40650177001953, 100.20459747314453, 100.00260162353516], [119.99919891357422, 119.79720306396484, 119.59519958496094, 119.39320373535156, 119.19120025634766, 118.98919677734375, 118.78720092773438, 118.58519744873047, 118.38330078125, 118.1812973022461, 117.97930145263672, 117.77729797363281, 117.57530212402344, 117.37329864501953, 117.17140197753906, 116.96939849853516, 116.76740264892578, 116.56539916992188, 116.3634033203125, 116.1613998413086, 115.95939636230469, 115.75740051269531, 115.55549621582031, 115.35350036621094, 115.15149688720703, 114.94950103759766, 114.74749755859375, 114.54550170898438, 114.34359741210938, 114.1416015625, 113.9395980834961, 113.73760223388672, 113.53559875488281, 113.33360290527344, 113.13159942626953, 112.92960357666016, 112.72769927978516, 112.52570343017578, 112.32369995117188, 112.12169647216797, 111.9197006225586, 111.71769714355469, 111.51580047607422, 111.31379699707031, 111.11180114746094, 110.90979766845703, 110.70780181884766, 110.50579833984375, 110.30380249023438, 110.10179901123047, 109.89990234375, 109.6978988647461, 109.49590301513672, 109.29389953613281, 109.09190368652344, 108.88990020751953, 108.68800354003906, 108.48600006103516, 108.28399658203125, 108.08200073242188, 107.87999725341797, 107.6780014038086, 107.47599792480469, 107.27400207519531, 107.07209777832031, 106.87010192871094, 106.66809844970703, 106.46610260009766, 106.26409912109375, 106.06210327148438, 105.86019897460938, 105.658203125, 105.4561996459961, 105.25420379638672, 105.05220031738281, 104.8501968383789, 104.64820098876953, 104.44619750976562, 104.24430084228516, 104.04229736328125, 103.84030151367188, 103.63829803466797, 103.4363021850586, 103.23429870605469, 103.03240203857422, 102.83039855957031, 102.62840270996094, 102.42639923095703, 102.22440338134766, 102.02239990234375, 101.82039642333984, 101.61849975585938, 101.41649627685547, 101.2145004272461, 101.01249694824219, 100.81050109863281, 100.6084976196289, 100.40650177001953, 100.20459747314453, 100.00260162353516], [119.99919891357422, 119.79720306396484, 119.59519958496094, 119.39320373535156, 119.19120025634766, 118.98919677734375, 118.78720092773438, 118.58519744873047, 118.38330078125, 118.1812973022461, 117.97930145263672, 117.77729797363281, 117.57530212402344, 117.37329864501953, 117.17140197753906, 116.96939849853516, 116.76740264892578, 116.56539916992188, 116.3634033203125, 116.1613998413086, 115.95939636230469, 115.75740051269531, 115.55549621582031, 115.35350036621094, 115.15149688720703, 114.94950103759766, 114.74749755859375, 114.54550170898438, 114.34359741210938, 114.1416015625, 113.9395980834961, 113.73760223388672, 113.53559875488281, 113.33360290527344, 113.13159942626953, 112.92960357666016, 112.72769927978516, 112.52570343017578, 112.32369995117188, 112.12169647216797, 111.9197006225586, 111.71769714355469, 111.51580047607422, 111.31379699707031, 111.11180114746094, 110.90979766845703, 110.70780181884766, 110.50579833984375, 110.30380249023438, 110.10179901123047, 109.89990234375, 109.6978988647461, 109.49590301513672, 109.29389953613281, 109.09190368652344, 108.88990020751953, 108.68800354003906, 108.48600006103516, 108.28399658203125, 108.08200073242188, 107.87999725341797, 107.6780014038086, 107.47599792480469, 107.27400207519531, 107.07209777832031, 106.87010192871094, 106.66809844970703, 106.46610260009766, 106.26409912109375, 106.06210327148438, 105.86019897460938, 105.658203125, 105.4561996459961, 105.25420379638672, 105.05220031738281, 104.8501968383789, 104.64820098876953, 104.44619750976562, 104.24430084228516, 104.04229736328125, 103.84030151367188, 103.63829803466797, 103.4363021850586, 103.23429870605469, 103.03240203857422, 102.83039855957031, 102.62840270996094, 102.42639923095703, 102.22440338134766, 102.02239990234375, 101.82039642333984, 101.61849975585938, 101.41649627685547, 101.2145004272461, 101.01249694824219, 100.81050109863281, 100.6084976196289, 100.40650177001953, 100.20459747314453, 100.00260162353516], [119.99919891357422, 119.79720306396484, 119.59519958496094, 119.39320373535156, 119.19120025634766, 118.98919677734375, 118.78720092773438, 118.58519744873047, 118.38330078125, 118.1812973022461, 117.97930145263672, 117.77729797363281, 117.57530212402344, 117.37329864501953, 117.17140197753906, 116.96939849853516, 116.76740264892578, 116.56539916992188, 116.3634033203125, 116.1613998413086, 115.95939636230469, 115.75740051269531, 115.55549621582031, 115.35350036621094, 115.15149688720703, 114.94950103759766, 114.74749755859375, 114.54550170898438, 114.34359741210938, 114.1416015625, 113.9395980834961, 113.73760223388672, 113.53559875488281, 113.33360290527344, 113.13159942626953, 112.92960357666016, 112.72769927978516, 112.52570343017578, 112.32369995117188, 112.12169647216797, 111.9197006225586, 111.71769714355469, 111.51580047607422, 111.31379699707031, 111.11180114746094, 110.90979766845703, 110.70780181884766, 110.50579833984375, 110.30380249023438, 110.10179901123047, 109.89990234375, 109.6978988647461, 109.49590301513672, 109.29389953613281, 109.09190368652344, 108.88990020751953, 108.68800354003906, 108.48600006103516, 108.28399658203125, 108.08200073242188, 107.87999725341797, 107.6780014038086, 107.47599792480469, 107.27400207519531, 107.07209777832031, 106.87010192871094, 106.66809844970703, 106.46610260009766, 106.26409912109375, 106.06210327148438, 105.86019897460938, 105.658203125, 105.4561996459961, 105.25420379638672, 105.05220031738281, 104.8501968383789, 104.64820098876953, 104.44619750976562, 104.24430084228516, 104.04229736328125, 103.84030151367188, 103.63829803466797, 103.4363021850586, 103.23429870605469, 103.03240203857422, 102.83039855957031, 102.62840270996094, 102.42639923095703, 102.22440338134766, 102.02239990234375, 101.82039642333984, 101.61849975585938, 101.41649627685547, 101.2145004272461, 101.01249694824219, 100.81050109863281, 100.6084976196289, 100.40650177001953, 100.20459747314453, 100.00260162353516], [119.99919891357422, 119.79720306396484, 119.59519958496094, 119.39320373535156, 119.19120025634766, 118.98919677734375, 118.78720092773438, 118.58519744873047, 118.38330078125, 118.1812973022461, 117.97930145263672, 117.77729797363281, 117.57530212402344, 117.37329864501953, 117.17140197753906, 116.96939849853516, 116.76740264892578, 116.56539916992188, 116.3634033203125, 116.1613998413086, 115.95939636230469, 115.75740051269531, 115.55549621582031, 115.35350036621094, 115.15149688720703, 114.94950103759766, 114.74749755859375, 114.54550170898438, 114.34359741210938, 114.1416015625, 113.9395980834961, 113.73760223388672, 113.53559875488281, 113.33360290527344, 113.13159942626953, 112.92960357666016, 112.72769927978516, 112.52570343017578, 112.32369995117188, 112.12169647216797, 111.9197006225586, 111.71769714355469, 111.51580047607422, 111.31379699707031, 111.11180114746094, 110.90979766845703, 110.70780181884766, 110.50579833984375, 110.30380249023438, 110.10179901123047, 109.89990234375, 109.6978988647461, 109.49590301513672, 109.29389953613281, 109.09190368652344, 108.88990020751953, 108.68800354003906, 108.48600006103516, 108.28399658203125, 108.08200073242188, 107.87999725341797, 107.6780014038086, 107.47599792480469, 107.27400207519531, 107.07209777832031, 106.87010192871094, 106.66809844970703, 106.46610260009766, 106.26409912109375, 106.06210327148438, 105.86019897460938, 105.658203125, 105.4561996459961, 105.25420379638672, 105.05220031738281, 104.8501968383789, 104.64820098876953, 104.44619750976562, 104.24430084228516, 104.04229736328125, 103.84030151367188, 103.63829803466797, 103.4363021850586, 103.23429870605469, 103.03240203857422, 102.83039855957031, 102.62840270996094, 102.42639923095703, 102.22440338134766, 102.02239990234375, 101.82039642333984, 101.61849975585938, 101.41649627685547, 101.2145004272461, 101.01249694824219, 100.81050109863281, 100.6084976196289, 100.40650177001953, 100.20459747314453, 100.00260162353516], [119.99919891357422, 119.79720306396484, 119.59519958496094, 119.39320373535156, 119.19120025634766, 118.98919677734375, 118.78720092773438, 118.58519744873047, 118.38330078125, 118.1812973022461, 117.97930145263672, 117.77729797363281, 117.57530212402344, 117.37329864501953, 117.17140197753906, 116.96939849853516, 116.76740264892578, 116.56539916992188, 116.3634033203125, 116.1613998413086, 115.95939636230469, 115.75740051269531, 115.55549621582031, 115.35350036621094, 115.15149688720703, 114.94950103759766, 114.74749755859375, 114.54550170898438, 114.34359741210938, 114.1416015625, 113.9395980834961, 113.73760223388672, 113.53559875488281, 113.33360290527344, 113.13159942626953, 112.92960357666016, 112.72769927978516, 112.52570343017578, 112.32369995117188, 112.12169647216797, 111.9197006225586, 111.71769714355469, 111.51580047607422, 111.31379699707031, 111.11180114746094, 110.90979766845703, 110.70780181884766, 110.50579833984375, 110.30380249023438, 110.10179901123047, 109.89990234375, 109.6978988647461, 109.49590301513672, 109.29389953613281, 109.09190368652344, 108.88990020751953, 108.68800354003906, 108.48600006103516, 108.28399658203125, 108.08200073242188, 107.87999725341797, 107.6780014038086, 107.47599792480469, 107.27400207519531, 107.07209777832031, 106.87010192871094, 106.66809844970703, 106.46610260009766, 106.26409912109375, 106.06210327148438, 105.86019897460938, 105.658203125, 105.4561996459961, 105.25420379638672, 105.05220031738281, 104.8501968383789, 104.64820098876953, 104.44619750976562, 104.24430084228516, 104.04229736328125, 103.84030151367188, 103.63829803466797, 103.4363021850586, 103.23429870605469, 103.03240203857422, 102.83039855957031, 102.62840270996094, 102.42639923095703, 102.22440338134766, 102.02239990234375, 101.82039642333984, 101.61849975585938, 101.41649627685547, 101.2145004272461, 101.01249694824219, 100.81050109863281, 100.6084976196289, 100.40650177001953, 100.20459747314453, 100.00260162353516], [119.99919891357422, 119.79720306396484, 119.59519958496094, 119.39320373535156, 119.19120025634766, 118.98919677734375, 118.78720092773438, 118.58519744873047, 118.38330078125, 118.1812973022461, 117.97930145263672, 117.77729797363281, 117.57530212402344, 117.37329864501953, 117.17140197753906, 116.96939849853516, 116.76740264892578, 116.56539916992188, 116.3634033203125, 116.1613998413086, 115.95939636230469, 115.75740051269531, 115.55549621582031, 115.35350036621094, 115.15149688720703, 114.94950103759766, 114.74749755859375, 114.54550170898438, 114.34359741210938, 114.1416015625, 113.9395980834961, 113.73760223388672, 113.53559875488281, 113.33360290527344, 113.13159942626953, 112.92960357666016, 112.72769927978516, 112.52570343017578, 112.32369995117188, 112.12169647216797, 111.9197006225586, 111.71769714355469, 111.51580047607422, 111.31379699707031, 111.11180114746094, 110.90979766845703, 110.70780181884766, 110.50579833984375, 110.30380249023438, 110.10179901123047, 109.89990234375, 109.6978988647461, 109.49590301513672, 109.29389953613281, 109.09190368652344, 108.88990020751953, 108.68800354003906, 108.48600006103516, 108.28399658203125, 108.08200073242188, 107.87999725341797, 107.6780014038086, 107.47599792480469, 107.27400207519531, 107.07209777832031, 106.87010192871094, 106.66809844970703, 106.46610260009766, 106.26409912109375, 106.06210327148438, 105.86019897460938, 105.658203125, 105.4561996459961, 105.25420379638672, 105.05220031738281, 104.8501968383789, 104.64820098876953, 104.44619750976562, 104.24430084228516, 104.04229736328125, 103.84030151367188, 103.63829803466797, 103.4363021850586, 103.23429870605469, 103.03240203857422, 102.83039855957031, 102.62840270996094, 102.42639923095703, 102.22440338134766, 102.02239990234375, 101.82039642333984, 101.61849975585938, 101.41649627685547, 101.2145004272461, 101.01249694824219, 100.81050109863281, 100.6084976196289, 100.40650177001953, 100.20459747314453, 100.00260162353516], [119.99919891357422, 119.79720306396484, 119.59519958496094, 119.39320373535156, 119.19120025634766, 118.98919677734375, 118.78720092773438, 118.58519744873047, 118.38330078125, 118.1812973022461, 117.97930145263672, 117.77729797363281, 117.57530212402344, 117.37329864501953, 117.17140197753906, 116.96939849853516, 116.76740264892578, 116.56539916992188, 116.3634033203125, 116.1613998413086, 115.95939636230469, 115.75740051269531, 115.55549621582031, 115.35350036621094, 115.15149688720703, 114.94950103759766, 114.74749755859375, 114.54550170898438, 114.34359741210938, 114.1416015625, 113.9395980834961, 113.73760223388672, 113.53559875488281, 113.33360290527344, 113.13159942626953, 112.92960357666016, 112.72769927978516, 112.52570343017578, 112.32369995117188, 112.12169647216797, 111.9197006225586, 111.71769714355469, 111.51580047607422, 111.31379699707031, 111.11180114746094, 110.90979766845703, 110.70780181884766, 110.50579833984375, 110.30380249023438, 110.10179901123047, 109.89990234375, 109.6978988647461, 109.49590301513672, 109.29389953613281, 109.09190368652344, 108.88990020751953, 108.68800354003906, 108.48600006103516, 108.28399658203125, 108.08200073242188, 107.87999725341797, 107.6780014038086, 107.47599792480469, 107.27400207519531, 107.07209777832031, 106.87010192871094, 106.66809844970703, 106.46610260009766, 106.26409912109375, 106.06210327148438, 105.86019897460938, 105.658203125, 105.4561996459961, 105.25420379638672, 105.05220031738281, 104.8501968383789, 104.64820098876953, 104.44619750976562, 104.24430084228516, 104.04229736328125, 103.84030151367188, 103.63829803466797, 103.4363021850586, 103.23429870605469, 103.03240203857422, 102.83039855957031, 102.62840270996094, 102.42639923095703, 102.22440338134766, 102.02239990234375, 101.82039642333984, 101.61849975585938, 101.41649627685547, 101.2145004272461, 101.01249694824219, 100.81050109863281, 100.6084976196289, 100.40650177001953, 100.20459747314453, 100.00260162353516], [119.99919891357422, 119.79720306396484, 119.59519958496094, 119.39320373535156, 119.19120025634766, 118.98919677734375, 118.78720092773438, 118.58519744873047, 118.38330078125, 118.1812973022461, 117.97930145263672, 117.77729797363281, 117.57530212402344, 117.37329864501953, 117.17140197753906, 116.96939849853516, 116.76740264892578, 116.56539916992188, 116.3634033203125, 116.1613998413086, 115.95939636230469, 115.75740051269531, 115.55549621582031, 115.35350036621094, 115.15149688720703, 114.94950103759766, 114.74749755859375, 114.54550170898438, 114.34359741210938, 114.1416015625, 113.9395980834961, 113.73760223388672, 113.53559875488281, 113.33360290527344, 113.13159942626953, 112.92960357666016, 112.72769927978516, 112.52570343017578, 112.32369995117188, 112.12169647216797, 111.9197006225586, 111.71769714355469, 111.51580047607422, 111.31379699707031, 111.11180114746094, 110.90979766845703, 110.70780181884766, 110.50579833984375, 110.30380249023438, 110.10179901123047, 109.89990234375, 109.6978988647461, 109.49590301513672, 109.29389953613281, 109.09190368652344, 108.88990020751953, 108.68800354003906, 108.48600006103516, 108.28399658203125, 108.08200073242188, 107.87999725341797, 107.6780014038086, 107.47599792480469, 107.27400207519531, 107.07209777832031, 106.87010192871094, 106.66809844970703, 106.46610260009766, 106.26409912109375, 106.06210327148438, 105.86019897460938, 105.658203125, 105.4561996459961, 105.25420379638672, 105.05220031738281, 104.8501968383789, 104.64820098876953, 104.44619750976562, 104.24430084228516, 104.04229736328125, 103.84030151367188, 103.63829803466797, 103.4363021850586, 103.23429870605469, 103.03240203857422, 102.83039855957031, 102.62840270996094, 102.42639923095703, 102.22440338134766, 102.02239990234375, 101.82039642333984, 101.61849975585938, 101.41649627685547, 101.2145004272461, 101.01249694824219, 100.81050109863281, 100.6084976196289, 100.40650177001953, 100.20459747314453, 100.00260162353516], [119.99919891357422, 119.79720306396484, 119.59519958496094, 119.39320373535156, 119.19120025634766, 118.98919677734375, 118.78720092773438, 118.58519744873047, 118.38330078125, 118.1812973022461, 117.97930145263672, 117.77729797363281, 117.57530212402344, 117.37329864501953, 117.17140197753906, 116.96939849853516, 116.76740264892578, 116.56539916992188, 116.3634033203125, 116.1613998413086, 115.95939636230469, 115.75740051269531, 115.55549621582031, 115.35350036621094, 115.15149688720703, 114.94950103759766, 114.74749755859375, 114.54550170898438, 114.34359741210938, 114.1416015625, 113.9395980834961, 113.73760223388672, 113.53559875488281, 113.33360290527344, 113.13159942626953, 112.92960357666016, 112.72769927978516, 112.52570343017578, 112.32369995117188, 112.12169647216797, 111.9197006225586, 111.71769714355469, 111.51580047607422, 111.31379699707031, 111.11180114746094, 110.90979766845703, 110.70780181884766, 110.50579833984375, 110.30380249023438, 110.10179901123047, 109.89990234375, 109.6978988647461, 109.49590301513672, 109.29389953613281, 109.09190368652344, 108.88990020751953, 108.68800354003906, 108.48600006103516, 108.28399658203125, 108.08200073242188, 107.87999725341797, 107.6780014038086, 107.47599792480469, 107.27400207519531, 107.07209777832031, 106.87010192871094, 106.66809844970703, 106.46610260009766, 106.26409912109375, 106.06210327148438, 105.86019897460938, 105.658203125, 105.4561996459961, 105.25420379638672, 105.05220031738281, 104.8501968383789, 104.64820098876953, 104.44619750976562, 104.24430084228516, 104.04229736328125, 103.84030151367188, 103.63829803466797, 103.4363021850586, 103.23429870605469, 103.03240203857422, 102.83039855957031, 102.62840270996094, 102.42639923095703, 102.22440338134766, 102.02239990234375, 101.82039642333984, 101.61849975585938, 101.41649627685547, 101.2145004272461, 101.01249694824219, 100.81050109863281, 100.6084976196289, 100.40650177001953, 100.20459747314453, 100.00260162353516], [119.99919891357422, 119.79720306396484, 119.59519958496094, 119.39320373535156, 119.19120025634766, 118.98919677734375, 118.78720092773438, 118.58519744873047, 118.38330078125, 118.1812973022461, 117.97930145263672, 117.77729797363281, 117.57530212402344, 117.37329864501953, 117.17140197753906, 116.96939849853516, 116.76740264892578, 116.56539916992188, 116.3634033203125, 116.1613998413086, 115.95939636230469, 115.75740051269531, 115.55549621582031, 115.35350036621094, 115.15149688720703, 114.94950103759766, 114.74749755859375, 114.54550170898438, 114.34359741210938, 114.1416015625, 113.9395980834961, 113.73760223388672, 113.53559875488281, 113.33360290527344, 113.13159942626953, 112.92960357666016, 112.72769927978516, 112.52570343017578, 112.32369995117188, 112.12169647216797, 111.9197006225586, 111.71769714355469, 111.51580047607422, 111.31379699707031, 111.11180114746094, 110.90979766845703, 110.70780181884766, 110.50579833984375, 110.30380249023438, 110.10179901123047, 109.89990234375, 109.6978988647461, 109.49590301513672, 109.29389953613281, 109.09190368652344, 108.88990020751953, 108.68800354003906, 108.48600006103516, 108.28399658203125, 108.08200073242188, 107.87999725341797, 107.6780014038086, 107.47599792480469, 107.27400207519531, 107.07209777832031, 106.87010192871094, 106.66809844970703, 106.46610260009766, 106.26409912109375, 106.06210327148438, 105.86019897460938, 105.658203125, 105.4561996459961, 105.25420379638672, 105.05220031738281, 104.8501968383789, 104.64820098876953, 104.44619750976562, 104.24430084228516, 104.04229736328125, 103.84030151367188, 103.63829803466797, 103.4363021850586, 103.23429870605469, 103.03240203857422, 102.83039855957031, 102.62840270996094, 102.42639923095703, 102.22440338134766, 102.02239990234375, 101.82039642333984, 101.61849975585938, 101.41649627685547, 101.2145004272461, 101.01249694824219, 100.81050109863281, 100.6084976196289, 100.40650177001953, 100.20459747314453, 100.00260162353516], [119.99919891357422, 119.79720306396484, 119.59519958496094, 119.39320373535156, 119.19120025634766, 118.98919677734375, 118.78720092773438, 118.58519744873047, 118.38330078125, 118.1812973022461, 117.97930145263672, 117.77729797363281, 117.57530212402344, 117.37329864501953, 117.17140197753906, 116.96939849853516, 116.76740264892578, 116.56539916992188, 116.3634033203125, 116.1613998413086, 115.95939636230469, 115.75740051269531, 115.55549621582031, 115.35350036621094, 115.15149688720703, 114.94950103759766, 114.74749755859375, 114.54550170898438, 114.34359741210938, 114.1416015625, 113.9395980834961, 113.73760223388672, 113.53559875488281, 113.33360290527344, 113.13159942626953, 112.92960357666016, 112.72769927978516, 112.52570343017578, 112.32369995117188, 112.12169647216797, 111.9197006225586, 111.71769714355469, 111.51580047607422, 111.31379699707031, 111.11180114746094, 110.90979766845703, 110.70780181884766, 110.50579833984375, 110.30380249023438, 110.10179901123047, 109.89990234375, 109.6978988647461, 109.49590301513672, 109.29389953613281, 109.09190368652344, 108.88990020751953, 108.68800354003906, 108.48600006103516, 108.28399658203125, 108.08200073242188, 107.87999725341797, 107.6780014038086, 107.47599792480469, 107.27400207519531, 107.07209777832031, 106.87010192871094, 106.66809844970703, 106.46610260009766, 106.26409912109375, 106.06210327148438, 105.86019897460938, 105.658203125, 105.4561996459961, 105.25420379638672, 105.05220031738281, 104.8501968383789, 104.64820098876953, 104.44619750976562, 104.24430084228516, 104.04229736328125, 103.84030151367188, 103.63829803466797, 103.4363021850586, 103.23429870605469, 103.03240203857422, 102.83039855957031, 102.62840270996094, 102.42639923095703, 102.22440338134766, 102.02239990234375, 101.82039642333984, 101.61849975585938, 101.41649627685547, 101.2145004272461, 101.01249694824219, 100.81050109863281, 100.6084976196289, 100.40650177001953, 100.20459747314453, 100.00260162353516], [119.99919891357422, 119.79720306396484, 119.59519958496094, 119.39320373535156, 119.19120025634766, 118.98919677734375, 118.78720092773438, 118.58519744873047, 118.38330078125, 118.1812973022461, 117.97930145263672, 117.77729797363281, 117.57530212402344, 117.37329864501953, 117.17140197753906, 116.96939849853516, 116.76740264892578, 116.56539916992188, 116.3634033203125, 116.1613998413086, 115.95939636230469, 115.75740051269531, 115.55549621582031, 115.35350036621094, 115.15149688720703, 114.94950103759766, 114.74749755859375, 114.54550170898438, 114.34359741210938, 114.1416015625, 113.9395980834961, 113.73760223388672, 113.53559875488281, 113.33360290527344, 113.13159942626953, 112.92960357666016, 112.72769927978516, 112.52570343017578, 112.32369995117188, 112.12169647216797, 111.9197006225586, 111.71769714355469, 111.51580047607422, 111.31379699707031, 111.11180114746094, 110.90979766845703, 110.70780181884766, 110.50579833984375, 110.30380249023438, 110.10179901123047, 109.89990234375, 109.6978988647461, 109.49590301513672, 109.29389953613281, 109.09190368652344, 108.88990020751953, 108.68800354003906, 108.48600006103516, 108.28399658203125, 108.08200073242188, 107.87999725341797, 107.6780014038086, 107.47599792480469, 107.27400207519531, 107.07209777832031, 106.87010192871094, 106.66809844970703, 106.46610260009766, 106.26409912109375, 106.06210327148438, 105.86019897460938, 105.658203125, 105.4561996459961, 105.25420379638672, 105.05220031738281, 104.8501968383789, 104.64820098876953, 104.44619750976562, 104.24430084228516, 104.04229736328125, 103.84030151367188, 103.63829803466797, 103.4363021850586, 103.23429870605469, 103.03240203857422, 102.83039855957031, 102.62840270996094, 102.42639923095703, 102.22440338134766, 102.02239990234375, 101.82039642333984, 101.61849975585938, 101.41649627685547, 101.2145004272461, 101.01249694824219, 100.81050109863281, 100.6084976196289, 100.40650177001953, 100.20459747314453, 100.00260162353516], [119.99919891357422, 119.79720306396484, 119.59519958496094, 119.39320373535156, 119.19120025634766, 118.98919677734375, 118.78720092773438, 118.58519744873047, 118.38330078125, 118.1812973022461, 117.97930145263672, 117.77729797363281, 117.57530212402344, 117.37329864501953, 117.17140197753906, 116.96939849853516, 116.76740264892578, 116.56539916992188, 116.3634033203125, 116.1613998413086, 115.95939636230469, 115.75740051269531, 115.55549621582031, 115.35350036621094, 115.15149688720703, 114.94950103759766, 114.74749755859375, 114.54550170898438, 114.34359741210938, 114.1416015625, 113.9395980834961, 113.73760223388672, 113.53559875488281, 113.33360290527344, 113.13159942626953, 112.92960357666016, 112.72769927978516, 112.52570343017578, 112.32369995117188, 112.12169647216797, 111.9197006225586, 111.71769714355469, 111.51580047607422, 111.31379699707031, 111.11180114746094, 110.90979766845703, 110.70780181884766, 110.50579833984375, 110.30380249023438, 110.10179901123047, 109.89990234375, 109.6978988647461, 109.49590301513672, 109.29389953613281, 109.09190368652344, 108.88990020751953, 108.68800354003906, 108.48600006103516, 108.28399658203125, 108.08200073242188, 107.87999725341797, 107.6780014038086, 107.47599792480469, 107.27400207519531, 107.07209777832031, 106.87010192871094, 106.66809844970703, 106.46610260009766, 106.26409912109375, 106.06210327148438, 105.86019897460938, 105.658203125, 105.4561996459961, 105.25420379638672, 105.05220031738281, 104.8501968383789, 104.64820098876953, 104.44619750976562, 104.24430084228516, 104.04229736328125, 103.84030151367188, 103.63829803466797, 103.4363021850586, 103.23429870605469, 103.03240203857422, 102.83039855957031, 102.62840270996094, 102.42639923095703, 102.22440338134766, 102.02239990234375, 101.82039642333984, 101.61849975585938, 101.41649627685547, 101.2145004272461, 101.01249694824219, 100.81050109863281, 100.6084976196289, 100.40650177001953, 100.20459747314453, 100.00260162353516], [119.99919891357422, 119.79720306396484, 119.59519958496094, 119.39320373535156, 119.19120025634766, 118.98919677734375, 118.78720092773438, 118.58519744873047, 118.38330078125, 118.1812973022461, 117.97930145263672, 117.77729797363281, 117.57530212402344, 117.37329864501953, 117.17140197753906, 116.96939849853516, 116.76740264892578, 116.56539916992188, 116.3634033203125, 116.1613998413086, 115.95939636230469, 115.75740051269531, 115.55549621582031, 115.35350036621094, 115.15149688720703, 114.94950103759766, 114.74749755859375, 114.54550170898438, 114.34359741210938, 114.1416015625, 113.9395980834961, 113.73760223388672, 113.53559875488281, 113.33360290527344, 113.13159942626953, 112.92960357666016, 112.72769927978516, 112.52570343017578, 112.32369995117188, 112.12169647216797, 111.9197006225586, 111.71769714355469, 111.51580047607422, 111.31379699707031, 111.11180114746094, 110.90979766845703, 110.70780181884766, 110.50579833984375, 110.30380249023438, 110.10179901123047, 109.89990234375, 109.6978988647461, 109.49590301513672, 109.29389953613281, 109.09190368652344, 108.88990020751953, 108.68800354003906, 108.48600006103516, 108.28399658203125, 108.08200073242188, 107.87999725341797, 107.6780014038086, 107.47599792480469, 107.27400207519531, 107.07209777832031, 106.87010192871094, 106.66809844970703, 106.46610260009766, 106.26409912109375, 106.06210327148438, 105.86019897460938, 105.658203125, 105.4561996459961, 105.25420379638672, 105.05220031738281, 104.8501968383789, 104.64820098876953, 104.44619750976562, 104.24430084228516, 104.04229736328125, 103.84030151367188, 103.63829803466797, 103.4363021850586, 103.23429870605469, 103.03240203857422, 102.83039855957031, 102.62840270996094, 102.42639923095703, 102.22440338134766, 102.02239990234375, 101.82039642333984, 101.61849975585938, 101.41649627685547, 101.2145004272461, 101.01249694824219, 100.81050109863281, 100.6084976196289, 100.40650177001953, 100.20459747314453, 100.00260162353516], [119.99919891357422, 119.79720306396484, 119.59519958496094, 119.39320373535156, 119.19120025634766, 118.98919677734375, 118.78720092773438, 118.58519744873047, 118.38330078125, 118.1812973022461, 117.97930145263672, 117.77729797363281, 117.57530212402344, 117.37329864501953, 117.17140197753906, 116.96939849853516, 116.76740264892578, 116.56539916992188, 116.3634033203125, 116.1613998413086, 115.95939636230469, 115.75740051269531, 115.55549621582031, 115.35350036621094, 115.15149688720703, 114.94950103759766, 114.74749755859375, 114.54550170898438, 114.34359741210938, 114.1416015625, 113.9395980834961, 113.73760223388672, 113.53559875488281, 113.33360290527344, 113.13159942626953, 112.92960357666016, 112.72769927978516, 112.52570343017578, 112.32369995117188, 112.12169647216797, 111.9197006225586, 111.71769714355469, 111.51580047607422, 111.31379699707031, 111.11180114746094, 110.90979766845703, 110.70780181884766, 110.50579833984375, 110.30380249023438, 110.10179901123047, 109.89990234375, 109.6978988647461, 109.49590301513672, 109.29389953613281, 109.09190368652344, 108.88990020751953, 108.68800354003906, 108.48600006103516, 108.28399658203125, 108.08200073242188, 107.87999725341797, 107.6780014038086, 107.47599792480469, 107.27400207519531, 107.07209777832031, 106.87010192871094, 106.66809844970703, 106.46610260009766, 106.26409912109375, 106.06210327148438, 105.86019897460938, 105.658203125, 105.4561996459961, 105.25420379638672, 105.05220031738281, 104.8501968383789, 104.64820098876953, 104.44619750976562, 104.24430084228516, 104.04229736328125, 103.84030151367188, 103.63829803466797, 103.4363021850586, 103.23429870605469, 103.03240203857422, 102.83039855957031, 102.62840270996094, 102.42639923095703, 102.22440338134766, 102.02239990234375, 101.82039642333984, 101.61849975585938, 101.41649627685547, 101.2145004272461, 101.01249694824219, 100.81050109863281, 100.6084976196289, 100.40650177001953, 100.20459747314453, 100.00260162353516], [119.99919891357422, 119.79720306396484, 119.59519958496094, 119.39320373535156, 119.19120025634766, 118.98919677734375, 118.78720092773438, 118.58519744873047, 118.38330078125, 118.1812973022461, 117.97930145263672, 117.77729797363281, 117.57530212402344, 117.37329864501953, 117.17140197753906, 116.96939849853516, 116.76740264892578, 116.56539916992188, 116.3634033203125, 116.1613998413086, 115.95939636230469, 115.75740051269531, 115.55549621582031, 115.35350036621094, 115.15149688720703, 114.94950103759766, 114.74749755859375, 114.54550170898438, 114.34359741210938, 114.1416015625, 113.9395980834961, 113.73760223388672, 113.53559875488281, 113.33360290527344, 113.13159942626953, 112.92960357666016, 112.72769927978516, 112.52570343017578, 112.32369995117188, 112.12169647216797, 111.9197006225586, 111.71769714355469, 111.51580047607422, 111.31379699707031, 111.11180114746094, 110.90979766845703, 110.70780181884766, 110.50579833984375, 110.30380249023438, 110.10179901123047, 109.89990234375, 109.6978988647461, 109.49590301513672, 109.29389953613281, 109.09190368652344, 108.88990020751953, 108.68800354003906, 108.48600006103516, 108.28399658203125, 108.08200073242188, 107.87999725341797, 107.6780014038086, 107.47599792480469, 107.27400207519531, 107.07209777832031, 106.87010192871094, 106.66809844970703, 106.46610260009766, 106.26409912109375, 106.06210327148438, 105.86019897460938, 105.658203125, 105.4561996459961, 105.25420379638672, 105.05220031738281, 104.8501968383789, 104.64820098876953, 104.44619750976562, 104.24430084228516, 104.04229736328125, 103.84030151367188, 103.63829803466797, 103.4363021850586, 103.23429870605469, 103.03240203857422, 102.83039855957031, 102.62840270996094, 102.42639923095703, 102.22440338134766, 102.02239990234375, 101.82039642333984, 101.61849975585938, 101.41649627685547, 101.2145004272461, 101.01249694824219, 100.81050109863281, 100.6084976196289, 100.40650177001953, 100.20459747314453, 100.00260162353516], [119.99919891357422, 119.79720306396484, 119.59519958496094, 119.39320373535156, 119.19120025634766, 118.98919677734375, 118.78720092773438, 118.58519744873047, 118.38330078125, 118.1812973022461, 117.97930145263672, 117.77729797363281, 117.57530212402344, 117.37329864501953, 117.17140197753906, 116.96939849853516, 116.76740264892578, 116.56539916992188, 116.3634033203125, 116.1613998413086, 115.95939636230469, 115.75740051269531, 115.55549621582031, 115.35350036621094, 115.15149688720703, 114.94950103759766, 114.74749755859375, 114.54550170898438, 114.34359741210938, 114.1416015625, 113.9395980834961, 113.73760223388672, 113.53559875488281, 113.33360290527344, 113.13159942626953, 112.92960357666016, 112.72769927978516, 112.52570343017578, 112.32369995117188, 112.12169647216797, 111.9197006225586, 111.71769714355469, 111.51580047607422, 111.31379699707031, 111.11180114746094, 110.90979766845703, 110.70780181884766, 110.50579833984375, 110.30380249023438, 110.10179901123047, 109.89990234375, 109.6978988647461, 109.49590301513672, 109.29389953613281, 109.09190368652344, 108.88990020751953, 108.68800354003906, 108.48600006103516, 108.28399658203125, 108.08200073242188, 107.87999725341797, 107.6780014038086, 107.47599792480469, 107.27400207519531, 107.07209777832031, 106.87010192871094, 106.66809844970703, 106.46610260009766, 106.26409912109375, 106.06210327148438, 105.86019897460938, 105.658203125, 105.4561996459961, 105.25420379638672, 105.05220031738281, 104.8501968383789, 104.64820098876953, 104.44619750976562, 104.24430084228516, 104.04229736328125, 103.84030151367188, 103.63829803466797, 103.4363021850586, 103.23429870605469, 103.03240203857422, 102.83039855957031, 102.62840270996094, 102.42639923095703, 102.22440338134766, 102.02239990234375, 101.82039642333984, 101.61849975585938, 101.41649627685547, 101.2145004272461, 101.01249694824219, 100.81050109863281, 100.6084976196289, 100.40650177001953, 100.20459747314453, 100.00260162353516], [119.99919891357422, 119.79720306396484, 119.59519958496094, 119.39320373535156, 119.19120025634766, 118.98919677734375, 118.78720092773438, 118.58519744873047, 118.38330078125, 118.1812973022461, 117.97930145263672, 117.77729797363281, 117.57530212402344, 117.37329864501953, 117.17140197753906, 116.96939849853516, 116.76740264892578, 116.56539916992188, 116.3634033203125, 116.1613998413086, 115.95939636230469, 115.75740051269531, 115.55549621582031, 115.35350036621094, 115.15149688720703, 114.94950103759766, 114.74749755859375, 114.54550170898438, 114.34359741210938, 114.1416015625, 113.9395980834961, 113.73760223388672, 113.53559875488281, 113.33360290527344, 113.13159942626953, 112.92960357666016, 112.72769927978516, 112.52570343017578, 112.32369995117188, 112.12169647216797, 111.9197006225586, 111.71769714355469, 111.51580047607422, 111.31379699707031, 111.11180114746094, 110.90979766845703, 110.70780181884766, 110.50579833984375, 110.30380249023438, 110.10179901123047, 109.89990234375, 109.6978988647461, 109.49590301513672, 109.29389953613281, 109.09190368652344, 108.88990020751953, 108.68800354003906, 108.48600006103516, 108.28399658203125, 108.08200073242188, 107.87999725341797, 107.6780014038086, 107.47599792480469, 107.27400207519531, 107.07209777832031, 106.87010192871094, 106.66809844970703, 106.46610260009766, 106.26409912109375, 106.06210327148438, 105.86019897460938, 105.658203125, 105.4561996459961, 105.25420379638672, 105.05220031738281, 104.8501968383789, 104.64820098876953, 104.44619750976562, 104.24430084228516, 104.04229736328125, 103.84030151367188, 103.63829803466797, 103.4363021850586, 103.23429870605469, 103.03240203857422, 102.83039855957031, 102.62840270996094, 102.42639923095703, 102.22440338134766, 102.02239990234375, 101.82039642333984, 101.61849975585938, 101.41649627685547, 101.2145004272461, 101.01249694824219, 100.81050109863281, 100.6084976196289, 100.40650177001953, 100.20459747314453, 100.00260162353516], [119.99919891357422, 119.79720306396484, 119.59519958496094, 119.39320373535156, 119.19120025634766, 118.98919677734375, 118.78720092773438, 118.58519744873047, 118.38330078125, 118.1812973022461, 117.97930145263672, 117.77729797363281, 117.57530212402344, 117.37329864501953, 117.17140197753906, 116.96939849853516, 116.76740264892578, 116.56539916992188, 116.3634033203125, 116.1613998413086, 115.95939636230469, 115.75740051269531, 115.55549621582031, 115.35350036621094, 115.15149688720703, 114.94950103759766, 114.74749755859375, 114.54550170898438, 114.34359741210938, 114.1416015625, 113.9395980834961, 113.73760223388672, 113.53559875488281, 113.33360290527344, 113.13159942626953, 112.92960357666016, 112.72769927978516, 112.52570343017578, 112.32369995117188, 112.12169647216797, 111.9197006225586, 111.71769714355469, 111.51580047607422, 111.31379699707031, 111.11180114746094, 110.90979766845703, 110.70780181884766, 110.50579833984375, 110.30380249023438, 110.10179901123047, 109.89990234375, 109.6978988647461, 109.49590301513672, 109.29389953613281, 109.09190368652344, 108.88990020751953, 108.68800354003906, 108.48600006103516, 108.28399658203125, 108.08200073242188, 107.87999725341797, 107.6780014038086, 107.47599792480469, 107.27400207519531, 107.07209777832031, 106.87010192871094, 106.66809844970703, 106.46610260009766, 106.26409912109375, 106.06210327148438, 105.86019897460938, 105.658203125, 105.4561996459961, 105.25420379638672, 105.05220031738281, 104.8501968383789, 104.64820098876953, 104.44619750976562, 104.24430084228516, 104.04229736328125, 103.84030151367188, 103.63829803466797, 103.4363021850586, 103.23429870605469, 103.03240203857422, 102.83039855957031, 102.62840270996094, 102.42639923095703, 102.22440338134766, 102.02239990234375, 101.82039642333984, 101.61849975585938, 101.41649627685547, 101.2145004272461, 101.01249694824219, 100.81050109863281, 100.6084976196289, 100.40650177001953, 100.20459747314453, 100.00260162353516], [119.99919891357422, 119.79720306396484, 119.59519958496094, 119.39320373535156, 119.19120025634766, 118.98919677734375, 118.78720092773438, 118.58519744873047, 118.38330078125, 118.1812973022461, 117.97930145263672, 117.77729797363281, 117.57530212402344, 117.37329864501953, 117.17140197753906, 116.96939849853516, 116.76740264892578, 116.56539916992188, 116.3634033203125, 116.1613998413086, 115.95939636230469, 115.75740051269531, 115.55549621582031, 115.35350036621094, 115.15149688720703, 114.94950103759766, 114.74749755859375, 114.54550170898438, 114.34359741210938, 114.1416015625, 113.9395980834961, 113.73760223388672, 113.53559875488281, 113.33360290527344, 113.13159942626953, 112.92960357666016, 112.72769927978516, 112.52570343017578, 112.32369995117188, 112.12169647216797, 111.9197006225586, 111.71769714355469, 111.51580047607422, 111.31379699707031, 111.11180114746094, 110.90979766845703, 110.70780181884766, 110.50579833984375, 110.30380249023438, 110.10179901123047, 109.89990234375, 109.6978988647461, 109.49590301513672, 109.29389953613281, 109.09190368652344, 108.88990020751953, 108.68800354003906, 108.48600006103516, 108.28399658203125, 108.08200073242188, 107.87999725341797, 107.6780014038086, 107.47599792480469, 107.27400207519531, 107.07209777832031, 106.87010192871094, 106.66809844970703, 106.46610260009766, 106.26409912109375, 106.06210327148438, 105.86019897460938, 105.658203125, 105.4561996459961, 105.25420379638672, 105.05220031738281, 104.8501968383789, 104.64820098876953, 104.44619750976562, 104.24430084228516, 104.04229736328125, 103.84030151367188, 103.63829803466797, 103.4363021850586, 103.23429870605469, 103.03240203857422, 102.83039855957031, 102.62840270996094, 102.42639923095703, 102.22440338134766, 102.02239990234375, 101.82039642333984, 101.61849975585938, 101.41649627685547, 101.2145004272461, 101.01249694824219, 100.81050109863281, 100.6084976196289, 100.40650177001953, 100.20459747314453, 100.00260162353516], [119.99919891357422, 119.79720306396484, 119.59519958496094, 119.39320373535156, 119.19120025634766, 118.98919677734375, 118.78720092773438, 118.58519744873047, 118.38330078125, 118.1812973022461, 117.97930145263672, 117.77729797363281, 117.57530212402344, 117.37329864501953, 117.17140197753906, 116.96939849853516, 116.76740264892578, 116.56539916992188, 116.3634033203125, 116.1613998413086, 115.95939636230469, 115.75740051269531, 115.55549621582031, 115.35350036621094, 115.15149688720703, 114.94950103759766, 114.74749755859375, 114.54550170898438, 114.34359741210938, 114.1416015625, 113.9395980834961, 113.73760223388672, 113.53559875488281, 113.33360290527344, 113.13159942626953, 112.92960357666016, 112.72769927978516, 112.52570343017578, 112.32369995117188, 112.12169647216797, 111.9197006225586, 111.71769714355469, 111.51580047607422, 111.31379699707031, 111.11180114746094, 110.90979766845703, 110.70780181884766, 110.50579833984375, 110.30380249023438, 110.10179901123047, 109.89990234375, 109.6978988647461, 109.49590301513672, 109.29389953613281, 109.09190368652344, 108.88990020751953, 108.68800354003906, 108.48600006103516, 108.28399658203125, 108.08200073242188, 107.87999725341797, 107.6780014038086, 107.47599792480469, 107.27400207519531, 107.07209777832031, 106.87010192871094, 106.66809844970703, 106.46610260009766, 106.26409912109375, 106.06210327148438, 105.86019897460938, 105.658203125, 105.4561996459961, 105.25420379638672, 105.05220031738281, 104.8501968383789, 104.64820098876953, 104.44619750976562, 104.24430084228516, 104.04229736328125, 103.84030151367188, 103.63829803466797, 103.4363021850586, 103.23429870605469, 103.03240203857422, 102.83039855957031, 102.62840270996094, 102.42639923095703, 102.22440338134766, 102.02239990234375, 101.82039642333984, 101.61849975585938, 101.41649627685547, 101.2145004272461, 101.01249694824219, 100.81050109863281, 100.6084976196289, 100.40650177001953, 100.20459747314453, 100.00260162353516], [119.99919891357422, 119.79720306396484, 119.59519958496094, 119.39320373535156, 119.19120025634766, 118.98919677734375, 118.78720092773438, 118.58519744873047, 118.38330078125, 118.1812973022461, 117.97930145263672, 117.77729797363281, 117.57530212402344, 117.37329864501953, 117.17140197753906, 116.96939849853516, 116.76740264892578, 116.56539916992188, 116.3634033203125, 116.1613998413086, 115.95939636230469, 115.75740051269531, 115.55549621582031, 115.35350036621094, 115.15149688720703, 114.94950103759766, 114.74749755859375, 114.54550170898438, 114.34359741210938, 114.1416015625, 113.9395980834961, 113.73760223388672, 113.53559875488281, 113.33360290527344, 113.13159942626953, 112.92960357666016, 112.72769927978516, 112.52570343017578, 112.32369995117188, 112.12169647216797, 111.9197006225586, 111.71769714355469, 111.51580047607422, 111.31379699707031, 111.11180114746094, 110.90979766845703, 110.70780181884766, 110.50579833984375, 110.30380249023438, 110.10179901123047, 109.89990234375, 109.6978988647461, 109.49590301513672, 109.29389953613281, 109.09190368652344, 108.88990020751953, 108.68800354003906, 108.48600006103516, 108.28399658203125, 108.08200073242188, 107.87999725341797, 107.6780014038086, 107.47599792480469, 107.27400207519531, 107.07209777832031, 106.87010192871094, 106.66809844970703, 106.46610260009766, 106.26409912109375, 106.06210327148438, 105.86019897460938, 105.658203125, 105.4561996459961, 105.25420379638672, 105.05220031738281, 104.8501968383789, 104.64820098876953, 104.44619750976562, 104.24430084228516, 104.04229736328125, 103.84030151367188, 103.63829803466797, 103.4363021850586, 103.23429870605469, 103.03240203857422, 102.83039855957031, 102.62840270996094, 102.42639923095703, 102.22440338134766, 102.02239990234375, 101.82039642333984, 101.61849975585938, 101.41649627685547, 101.2145004272461, 101.01249694824219, 100.81050109863281, 100.6084976196289, 100.40650177001953, 100.20459747314453, 100.00260162353516], [119.99919891357422, 119.79720306396484, 119.59519958496094, 119.39320373535156, 119.19120025634766, 118.98919677734375, 118.78720092773438, 118.58519744873047, 118.38330078125, 118.1812973022461, 117.97930145263672, 117.77729797363281, 117.57530212402344, 117.37329864501953, 117.17140197753906, 116.96939849853516, 116.76740264892578, 116.56539916992188, 116.3634033203125, 116.1613998413086, 115.95939636230469, 115.75740051269531, 115.55549621582031, 115.35350036621094, 115.15149688720703, 114.94950103759766, 114.74749755859375, 114.54550170898438, 114.34359741210938, 114.1416015625, 113.9395980834961, 113.73760223388672, 113.53559875488281, 113.33360290527344, 113.13159942626953, 112.92960357666016, 112.72769927978516, 112.52570343017578, 112.32369995117188, 112.12169647216797, 111.9197006225586, 111.71769714355469, 111.51580047607422, 111.31379699707031, 111.11180114746094, 110.90979766845703, 110.70780181884766, 110.50579833984375, 110.30380249023438, 110.10179901123047, 109.89990234375, 109.6978988647461, 109.49590301513672, 109.29389953613281, 109.09190368652344, 108.88990020751953, 108.68800354003906, 108.48600006103516, 108.28399658203125, 108.08200073242188, 107.87999725341797, 107.6780014038086, 107.47599792480469, 107.27400207519531, 107.07209777832031, 106.87010192871094, 106.66809844970703, 106.46610260009766, 106.26409912109375, 106.06210327148438, 105.86019897460938, 105.658203125, 105.4561996459961, 105.25420379638672, 105.05220031738281, 104.8501968383789, 104.64820098876953, 104.44619750976562, 104.24430084228516, 104.04229736328125, 103.84030151367188, 103.63829803466797, 103.4363021850586, 103.23429870605469, 103.03240203857422, 102.83039855957031, 102.62840270996094, 102.42639923095703, 102.22440338134766, 102.02239990234375, 101.82039642333984, 101.61849975585938, 101.41649627685547, 101.2145004272461, 101.01249694824219, 100.81050109863281, 100.6084976196289, 100.40650177001953, 100.20459747314453, 100.00260162353516], [119.99919891357422, 119.79720306396484, 119.59519958496094, 119.39320373535156, 119.19120025634766, 118.98919677734375, 118.78720092773438, 118.58519744873047, 118.38330078125, 118.1812973022461, 117.97930145263672, 117.77729797363281, 117.57530212402344, 117.37329864501953, 117.17140197753906, 116.96939849853516, 116.76740264892578, 116.56539916992188, 116.3634033203125, 116.1613998413086, 115.95939636230469, 115.75740051269531, 115.55549621582031, 115.35350036621094, 115.15149688720703, 114.94950103759766, 114.74749755859375, 114.54550170898438, 114.34359741210938, 114.1416015625, 113.9395980834961, 113.73760223388672, 113.53559875488281, 113.33360290527344, 113.13159942626953, 112.92960357666016, 112.72769927978516, 112.52570343017578, 112.32369995117188, 112.12169647216797, 111.9197006225586, 111.71769714355469, 111.51580047607422, 111.31379699707031, 111.11180114746094, 110.90979766845703, 110.70780181884766, 110.50579833984375, 110.30380249023438, 110.10179901123047, 109.89990234375, 109.6978988647461, 109.49590301513672, 109.29389953613281, 109.09190368652344, 108.88990020751953, 108.68800354003906, 108.48600006103516, 108.28399658203125, 108.08200073242188, 107.87999725341797, 107.6780014038086, 107.47599792480469, 107.27400207519531, 107.07209777832031, 106.87010192871094, 106.66809844970703, 106.46610260009766, 106.26409912109375, 106.06210327148438, 105.86019897460938, 105.658203125, 105.4561996459961, 105.25420379638672, 105.05220031738281, 104.8501968383789, 104.64820098876953, 104.44619750976562, 104.24430084228516, 104.04229736328125, 103.84030151367188, 103.63829803466797, 103.4363021850586, 103.23429870605469, 103.03240203857422, 102.83039855957031, 102.62840270996094, 102.42639923095703, 102.22440338134766, 102.02239990234375, 101.82039642333984, 101.61849975585938, 101.41649627685547, 101.2145004272461, 101.01249694824219, 100.81050109863281, 100.6084976196289, 100.40650177001953, 100.20459747314453, 100.00260162353516], [119.99919891357422, 119.79720306396484, 119.59519958496094, 119.39320373535156, 119.19120025634766, 118.98919677734375, 118.78720092773438, 118.58519744873047, 118.38330078125, 118.1812973022461, 117.97930145263672, 117.77729797363281, 117.57530212402344, 117.37329864501953, 117.17140197753906, 116.96939849853516, 116.76740264892578, 116.56539916992188, 116.3634033203125, 116.1613998413086, 115.95939636230469, 115.75740051269531, 115.55549621582031, 115.35350036621094, 115.15149688720703, 114.94950103759766, 114.74749755859375, 114.54550170898438, 114.34359741210938, 114.1416015625, 113.9395980834961, 113.73760223388672, 113.53559875488281, 113.33360290527344, 113.13159942626953, 112.92960357666016, 112.72769927978516, 112.52570343017578, 112.32369995117188, 112.12169647216797, 111.9197006225586, 111.71769714355469, 111.51580047607422, 111.31379699707031, 111.11180114746094, 110.90979766845703, 110.70780181884766, 110.50579833984375, 110.30380249023438, 110.10179901123047, 109.89990234375, 109.6978988647461, 109.49590301513672, 109.29389953613281, 109.09190368652344, 108.88990020751953, 108.68800354003906, 108.48600006103516, 108.28399658203125, 108.08200073242188, 107.87999725341797, 107.6780014038086, 107.47599792480469, 107.27400207519531, 107.07209777832031, 106.87010192871094, 106.66809844970703, 106.46610260009766, 106.26409912109375, 106.06210327148438, 105.86019897460938, 105.658203125, 105.4561996459961, 105.25420379638672, 105.05220031738281, 104.8501968383789, 104.64820098876953, 104.44619750976562, 104.24430084228516, 104.04229736328125, 103.84030151367188, 103.63829803466797, 103.4363021850586, 103.23429870605469, 103.03240203857422, 102.83039855957031, 102.62840270996094, 102.42639923095703, 102.22440338134766, 102.02239990234375, 101.82039642333984, 101.61849975585938, 101.41649627685547, 101.2145004272461, 101.01249694824219, 100.81050109863281, 100.6084976196289, 100.40650177001953, 100.20459747314453, 100.00260162353516], [119.99919891357422, 119.79720306396484, 119.59519958496094, 119.39320373535156, 119.19120025634766, 118.98919677734375, 118.78720092773438, 118.58519744873047, 118.38330078125, 118.1812973022461, 117.97930145263672, 117.77729797363281, 117.57530212402344, 117.37329864501953, 117.17140197753906, 116.96939849853516, 116.76740264892578, 116.56539916992188, 116.3634033203125, 116.1613998413086, 115.95939636230469, 115.75740051269531, 115.55549621582031, 115.35350036621094, 115.15149688720703, 114.94950103759766, 114.74749755859375, 114.54550170898438, 114.34359741210938, 114.1416015625, 113.9395980834961, 113.73760223388672, 113.53559875488281, 113.33360290527344, 113.13159942626953, 112.92960357666016, 112.72769927978516, 112.52570343017578, 112.32369995117188, 112.12169647216797, 111.9197006225586, 111.71769714355469, 111.51580047607422, 111.31379699707031, 111.11180114746094, 110.90979766845703, 110.70780181884766, 110.50579833984375, 110.30380249023438, 110.10179901123047, 109.89990234375, 109.6978988647461, 109.49590301513672, 109.29389953613281, 109.09190368652344, 108.88990020751953, 108.68800354003906, 108.48600006103516, 108.28399658203125, 108.08200073242188, 107.87999725341797, 107.6780014038086, 107.47599792480469, 107.27400207519531, 107.07209777832031, 106.87010192871094, 106.66809844970703, 106.46610260009766, 106.26409912109375, 106.06210327148438, 105.86019897460938, 105.658203125, 105.4561996459961, 105.25420379638672, 105.05220031738281, 104.8501968383789, 104.64820098876953, 104.44619750976562, 104.24430084228516, 104.04229736328125, 103.84030151367188, 103.63829803466797, 103.4363021850586, 103.23429870605469, 103.03240203857422, 102.83039855957031, 102.62840270996094, 102.42639923095703, 102.22440338134766, 102.02239990234375, 101.82039642333984, 101.61840057373047, 101.41649627685547, 101.2145004272461, 101.01249694824219, 100.81050109863281, 100.6084976196289, 100.40650177001953, 100.20459747314453, 100.00260162353516], [119.99919891357422, 119.79720306396484, 119.59519958496094, 119.39320373535156, 119.19120025634766, 118.98919677734375, 118.78720092773438, 118.58519744873047, 118.38330078125, 118.1812973022461, 117.97930145263672, 117.77729797363281, 117.57530212402344, 117.37329864501953, 117.17140197753906, 116.96939849853516, 116.76740264892578, 116.56539916992188, 116.3634033203125, 116.1613998413086, 115.95939636230469, 115.75740051269531, 115.55549621582031, 115.35350036621094, 115.15149688720703, 114.94950103759766, 114.74749755859375, 114.54550170898438, 114.34359741210938, 114.1416015625, 113.9395980834961, 113.73760223388672, 113.53559875488281, 113.33360290527344, 113.13159942626953, 112.92960357666016, 112.72769927978516, 112.52570343017578, 112.32369995117188, 112.12169647216797, 111.9197006225586, 111.71769714355469, 111.51580047607422, 111.31379699707031, 111.11180114746094, 110.90979766845703, 110.70780181884766, 110.50579833984375, 110.30380249023438, 110.10179901123047, 109.89990234375, 109.6978988647461, 109.49590301513672, 109.29389953613281, 109.09190368652344, 108.88990020751953, 108.68800354003906, 108.48600006103516, 108.28399658203125, 108.08200073242188, 107.87999725341797, 107.6780014038086, 107.47599792480469, 107.27400207519531, 107.07209777832031, 106.87010192871094, 106.66809844970703, 106.46610260009766, 106.26409912109375, 106.06210327148438, 105.86019897460938, 105.658203125, 105.4561996459961, 105.25420379638672, 105.05220031738281, 104.8501968383789, 104.64820098876953, 104.44619750976562, 104.24430084228516, 104.04229736328125, 103.84030151367188, 103.63829803466797, 103.4363021850586, 103.23429870605469, 103.03240203857422, 102.83039855957031, 102.62840270996094, 102.42639923095703, 102.22440338134766, 102.02239990234375, 101.82039642333984, 101.61840057373047, 101.41649627685547, 101.2145004272461, 101.01249694824219, 100.81050109863281, 100.6084976196289, 100.40650177001953, 100.20459747314453, 100.00260162353516], [119.99919891357422, 119.79720306396484, 119.59519958496094, 119.39320373535156, 119.19120025634766, 118.98919677734375, 118.78720092773438, 118.58519744873047, 118.38330078125, 118.1812973022461, 117.97930145263672, 117.77729797363281, 117.57530212402344, 117.37329864501953, 117.17140197753906, 116.96939849853516, 116.76740264892578, 116.56539916992188, 116.3634033203125, 116.1613998413086, 115.95939636230469, 115.75740051269531, 115.55549621582031, 115.35350036621094, 115.15149688720703, 114.94950103759766, 114.74749755859375, 114.54550170898438, 114.34359741210938, 114.1416015625, 113.9395980834961, 113.73760223388672, 113.53559875488281, 113.33360290527344, 113.13159942626953, 112.92960357666016, 112.72769927978516, 112.52570343017578, 112.32369995117188, 112.12169647216797, 111.9197006225586, 111.71769714355469, 111.51580047607422, 111.31379699707031, 111.11180114746094, 110.90979766845703, 110.70780181884766, 110.50579833984375, 110.30380249023438, 110.10179901123047, 109.89990234375, 109.6978988647461, 109.49590301513672, 109.29389953613281, 109.09190368652344, 108.88990020751953, 108.68800354003906, 108.48600006103516, 108.28399658203125, 108.08200073242188, 107.87999725341797, 107.6780014038086, 107.47599792480469, 107.27400207519531, 107.07209777832031, 106.87010192871094, 106.66809844970703, 106.46610260009766, 106.26409912109375, 106.06210327148438, 105.86019897460938, 105.658203125, 105.4561996459961, 105.25420379638672, 105.05220031738281, 104.8501968383789, 104.64820098876953, 104.44619750976562, 104.24430084228516, 104.04229736328125, 103.84030151367188, 103.63829803466797, 103.4363021850586, 103.23429870605469, 103.03240203857422, 102.83039855957031, 102.62840270996094, 102.42639923095703, 102.22440338134766, 102.02239990234375, 101.82039642333984, 101.61840057373047, 101.41649627685547, 101.2145004272461, 101.01249694824219, 100.81050109863281, 100.6084976196289, 100.40650177001953, 100.20459747314453, 100.00260162353516], [119.99919891357422, 119.79720306396484, 119.59519958496094, 119.39320373535156, 119.19120025634766, 118.98919677734375, 118.78720092773438, 118.58519744873047, 118.38330078125, 118.1812973022461, 117.97930145263672, 117.77729797363281, 117.57530212402344, 117.37329864501953, 117.17140197753906, 116.96939849853516, 116.76740264892578, 116.56539916992188, 116.3634033203125, 116.1613998413086, 115.95939636230469, 115.75740051269531, 115.55549621582031, 115.35350036621094, 115.15149688720703, 114.94950103759766, 114.74749755859375, 114.54550170898438, 114.34359741210938, 114.1416015625, 113.9395980834961, 113.73760223388672, 113.53559875488281, 113.33360290527344, 113.13159942626953, 112.92960357666016, 112.72769927978516, 112.52570343017578, 112.32369995117188, 112.12169647216797, 111.9197006225586, 111.71769714355469, 111.51580047607422, 111.31379699707031, 111.11180114746094, 110.90979766845703, 110.70780181884766, 110.50579833984375, 110.30380249023438, 110.10179901123047, 109.89990234375, 109.6978988647461, 109.49590301513672, 109.29389953613281, 109.09190368652344, 108.88990020751953, 108.68800354003906, 108.48600006103516, 108.28399658203125, 108.08200073242188, 107.87999725341797, 107.6780014038086, 107.47599792480469, 107.27400207519531, 107.07209777832031, 106.87010192871094, 106.66809844970703, 106.46610260009766, 106.26409912109375, 106.06210327148438, 105.86019897460938, 105.658203125, 105.4561996459961, 105.25420379638672, 105.05220031738281, 104.8501968383789, 104.64820098876953, 104.44619750976562, 104.24430084228516, 104.04229736328125, 103.84030151367188, 103.63829803466797, 103.4363021850586, 103.23429870605469, 103.03240203857422, 102.83039855957031, 102.62840270996094, 102.42639923095703, 102.22440338134766, 102.02239990234375, 101.82039642333984, 101.61840057373047, 101.41649627685547, 101.2145004272461, 101.01249694824219, 100.81050109863281, 100.6084976196289, 100.40650177001953, 100.20459747314453, 100.00260162353516], [119.99919891357422, 119.79720306396484, 119.59519958496094, 119.39320373535156, 119.19120025634766, 118.98919677734375, 118.78720092773438, 118.58519744873047, 118.38330078125, 118.1812973022461, 117.97930145263672, 117.77729797363281, 117.57530212402344, 117.37329864501953, 117.17140197753906, 116.96939849853516, 116.76740264892578, 116.56539916992188, 116.3634033203125, 116.1613998413086, 115.95939636230469, 115.75740051269531, 115.55549621582031, 115.35350036621094, 115.15149688720703, 114.94950103759766, 114.74749755859375, 114.54550170898438, 114.34359741210938, 114.1416015625, 113.9395980834961, 113.73760223388672, 113.53559875488281, 113.33360290527344, 113.13159942626953, 112.92960357666016, 112.72769927978516, 112.52570343017578, 112.32369995117188, 112.12169647216797, 111.9197006225586, 111.71769714355469, 111.51580047607422, 111.31379699707031, 111.11180114746094, 110.90979766845703, 110.70780181884766, 110.50579833984375, 110.30380249023438, 110.10179901123047, 109.89990234375, 109.6978988647461, 109.49590301513672, 109.29389953613281, 109.09190368652344, 108.88990020751953, 108.68800354003906, 108.48600006103516, 108.28399658203125, 108.08200073242188, 107.87999725341797, 107.6780014038086, 107.47599792480469, 107.27400207519531, 107.07209777832031, 106.87010192871094, 106.66809844970703, 106.46610260009766, 106.26409912109375, 106.06210327148438, 105.86019897460938, 105.658203125, 105.4561996459961, 105.25420379638672, 105.05220031738281, 104.8501968383789, 104.64820098876953, 104.44619750976562, 104.24430084228516, 104.04229736328125, 103.84030151367188, 103.63829803466797, 103.4363021850586, 103.23429870605469, 103.03240203857422, 102.83039855957031, 102.62840270996094, 102.42639923095703, 102.22440338134766, 102.02239990234375, 101.82039642333984, 101.61840057373047, 101.41649627685547, 101.2145004272461, 101.01249694824219, 100.81050109863281, 100.6084976196289, 100.40650177001953, 100.20459747314453, 100.00260162353516], [119.99919891357422, 119.79720306396484, 119.59519958496094, 119.39320373535156, 119.19120025634766, 118.98919677734375, 118.78720092773438, 118.58519744873047, 118.38330078125, 118.1812973022461, 117.97930145263672, 117.77729797363281, 117.57530212402344, 117.37329864501953, 117.17140197753906, 116.96939849853516, 116.76740264892578, 116.56539916992188, 116.3634033203125, 116.1613998413086, 115.95939636230469, 115.75740051269531, 115.55549621582031, 115.35350036621094, 115.15149688720703, 114.94950103759766, 114.74749755859375, 114.54550170898438, 114.34359741210938, 114.1416015625, 113.9395980834961, 113.73760223388672, 113.53559875488281, 113.33360290527344, 113.13159942626953, 112.92960357666016, 112.72769927978516, 112.52570343017578, 112.32369995117188, 112.12169647216797, 111.9197006225586, 111.71769714355469, 111.51580047607422, 111.31379699707031, 111.11180114746094, 110.90979766845703, 110.70780181884766, 110.50579833984375, 110.30380249023438, 110.10179901123047, 109.89990234375, 109.6978988647461, 109.49590301513672, 109.29389953613281, 109.09190368652344, 108.88990020751953, 108.68800354003906, 108.48600006103516, 108.28399658203125, 108.08200073242188, 107.87999725341797, 107.6780014038086, 107.47599792480469, 107.27400207519531, 107.07209777832031, 106.87010192871094, 106.66809844970703, 106.46610260009766, 106.26409912109375, 106.06210327148438, 105.86019897460938, 105.658203125, 105.4561996459961, 105.25420379638672, 105.05220031738281, 104.8501968383789, 104.64820098876953, 104.44619750976562, 104.24430084228516, 104.04229736328125, 103.84030151367188, 103.63829803466797, 103.4363021850586, 103.23429870605469, 103.03240203857422, 102.83039855957031, 102.62840270996094, 102.42639923095703, 102.22440338134766, 102.02239990234375, 101.82039642333984, 101.61840057373047, 101.41649627685547, 101.2145004272461, 101.01249694824219, 100.81050109863281, 100.6084976196289, 100.40650177001953, 100.20459747314453, 100.00260162353516], [119.99919891357422, 119.79720306396484, 119.59519958496094, 119.39320373535156, 119.19120025634766, 118.98919677734375, 118.78720092773438, 118.58519744873047, 118.38330078125, 118.1812973022461, 117.97930145263672, 117.77729797363281, 117.57530212402344, 117.37329864501953, 117.17140197753906, 116.96939849853516, 116.76740264892578, 116.56539916992188, 116.3634033203125, 116.1613998413086, 115.95939636230469, 115.75740051269531, 115.55549621582031, 115.35350036621094, 115.15149688720703, 114.94950103759766, 114.74749755859375, 114.54550170898438, 114.34359741210938, 114.1416015625, 113.9395980834961, 113.73760223388672, 113.53559875488281, 113.33360290527344, 113.13159942626953, 112.92960357666016, 112.72769927978516, 112.52570343017578, 112.32369995117188, 112.12169647216797, 111.9197006225586, 111.71769714355469, 111.51580047607422, 111.31379699707031, 111.11180114746094, 110.90979766845703, 110.70780181884766, 110.50579833984375, 110.30380249023438, 110.10179901123047, 109.89990234375, 109.6978988647461, 109.49590301513672, 109.29389953613281, 109.09190368652344, 108.88990020751953, 108.68800354003906, 108.48600006103516, 108.28399658203125, 108.08200073242188, 107.87999725341797, 107.6780014038086, 107.47599792480469, 107.27400207519531, 107.07209777832031, 106.87010192871094, 106.66809844970703, 106.46610260009766, 106.26409912109375, 106.06210327148438, 105.86019897460938, 105.658203125, 105.4561996459961, 105.25420379638672, 105.05220031738281, 104.8501968383789, 104.64820098876953, 104.44619750976562, 104.24430084228516, 104.04229736328125, 103.84030151367188, 103.63829803466797, 103.4363021850586, 103.23429870605469, 103.03240203857422, 102.83039855957031, 102.62840270996094, 102.42639923095703, 102.22440338134766, 102.02239990234375, 101.82039642333984, 101.61840057373047, 101.41649627685547, 101.2145004272461, 101.01249694824219, 100.81050109863281, 100.6084976196289, 100.40650177001953, 100.20459747314453, 100.00260162353516], [119.99919891357422, 119.79720306396484, 119.59519958496094, 119.39320373535156, 119.19120025634766, 118.98919677734375, 118.78720092773438, 118.58519744873047, 118.38330078125, 118.1812973022461, 117.97930145263672, 117.77729797363281, 117.57530212402344, 117.37329864501953, 117.17140197753906, 116.96939849853516, 116.76740264892578, 116.56539916992188, 116.3634033203125, 116.1613998413086, 115.95939636230469, 115.75740051269531, 115.55549621582031, 115.35350036621094, 115.15149688720703, 114.94950103759766, 114.74749755859375, 114.54550170898438, 114.34359741210938, 114.1416015625, 113.9395980834961, 113.73760223388672, 113.53559875488281, 113.33360290527344, 113.13159942626953, 112.92960357666016, 112.72769927978516, 112.52570343017578, 112.32369995117188, 112.12169647216797, 111.9197006225586, 111.71769714355469, 111.51580047607422, 111.31379699707031, 111.11180114746094, 110.90979766845703, 110.70780181884766, 110.50579833984375, 110.30380249023438, 110.10179901123047, 109.89990234375, 109.6978988647461, 109.49590301513672, 109.29389953613281, 109.09190368652344, 108.88990020751953, 108.68800354003906, 108.48600006103516, 108.28399658203125, 108.08200073242188, 107.87999725341797, 107.6780014038086, 107.47599792480469, 107.27400207519531, 107.07209777832031, 106.87010192871094, 106.66809844970703, 106.46610260009766, 106.26409912109375, 106.06210327148438, 105.86019897460938, 105.658203125, 105.4561996459961, 105.25420379638672, 105.05220031738281, 104.8501968383789, 104.64820098876953, 104.44619750976562, 104.24430084228516, 104.04229736328125, 103.84030151367188, 103.63829803466797, 103.4363021850586, 103.23429870605469, 103.03240203857422, 102.83039855957031, 102.62840270996094, 102.42639923095703, 102.22440338134766, 102.02239990234375, 101.82039642333984, 101.61840057373047, 101.41649627685547, 101.2145004272461, 101.01249694824219, 100.81050109863281, 100.6084976196289, 100.40650177001953, 100.20459747314453, 100.00260162353516], [119.99919891357422, 119.79720306396484, 119.59519958496094, 119.39320373535156, 119.19120025634766, 118.98919677734375, 118.78720092773438, 118.58519744873047, 118.38330078125, 118.1812973022461, 117.97930145263672, 117.77729797363281, 117.57530212402344, 117.37329864501953, 117.17140197753906, 116.96939849853516, 116.76740264892578, 116.56539916992188, 116.3634033203125, 116.1613998413086, 115.95939636230469, 115.75740051269531, 115.55549621582031, 115.35350036621094, 115.15149688720703, 114.94950103759766, 114.74749755859375, 114.54550170898438, 114.34359741210938, 114.1416015625, 113.9395980834961, 113.73760223388672, 113.53559875488281, 113.33360290527344, 113.13159942626953, 112.92960357666016, 112.72769927978516, 112.52570343017578, 112.32369995117188, 112.12169647216797, 111.9197006225586, 111.71769714355469, 111.51580047607422, 111.31379699707031, 111.11180114746094, 110.90979766845703, 110.70780181884766, 110.50579833984375, 110.30380249023438, 110.10179901123047, 109.89990234375, 109.6978988647461, 109.49590301513672, 109.29389953613281, 109.09190368652344, 108.88990020751953, 108.68800354003906, 108.48600006103516, 108.28399658203125, 108.08200073242188, 107.87999725341797, 107.6780014038086, 107.47599792480469, 107.27400207519531, 107.07209777832031, 106.87010192871094, 106.66809844970703, 106.46610260009766, 106.26409912109375, 106.06210327148438, 105.86019897460938, 105.658203125, 105.4561996459961, 105.25420379638672, 105.05220031738281, 104.8501968383789, 104.64820098876953, 104.44619750976562, 104.24430084228516, 104.04229736328125, 103.84030151367188, 103.63829803466797, 103.4363021850586, 103.23429870605469, 103.03240203857422, 102.83039855957031, 102.62840270996094, 102.42639923095703, 102.22440338134766, 102.02239990234375, 101.82039642333984, 101.61840057373047, 101.41649627685547, 101.2145004272461, 101.01249694824219, 100.81050109863281, 100.6084976196289, 100.40650177001953, 100.20459747314453, 100.00260162353516], [119.99919891357422, 119.79720306396484, 119.59519958496094, 119.39320373535156, 119.19120025634766, 118.98919677734375, 118.78720092773438, 118.58519744873047, 118.38330078125, 118.1812973022461, 117.97930145263672, 117.77729797363281, 117.57530212402344, 117.37329864501953, 117.17140197753906, 116.96939849853516, 116.76740264892578, 116.56539916992188, 116.3634033203125, 116.1613998413086, 115.95939636230469, 115.75740051269531, 115.55549621582031, 115.35350036621094, 115.15149688720703, 114.94950103759766, 114.74749755859375, 114.54550170898438, 114.34359741210938, 114.1416015625, 113.9395980834961, 113.73760223388672, 113.53559875488281, 113.33360290527344, 113.13159942626953, 112.92960357666016, 112.72769927978516, 112.52570343017578, 112.32369995117188, 112.12169647216797, 111.9197006225586, 111.71769714355469, 111.51580047607422, 111.31379699707031, 111.11180114746094, 110.90979766845703, 110.70780181884766, 110.50579833984375, 110.30380249023438, 110.10179901123047, 109.89990234375, 109.6978988647461, 109.49590301513672, 109.29389953613281, 109.09190368652344, 108.88990020751953, 108.68800354003906, 108.48600006103516, 108.28399658203125, 108.08200073242188, 107.87999725341797, 107.6780014038086, 107.47599792480469, 107.27400207519531, 107.07209777832031, 106.87010192871094, 106.66809844970703, 106.46610260009766, 106.26409912109375, 106.06210327148438, 105.86019897460938, 105.658203125, 105.4561996459961, 105.25420379638672, 105.05220031738281, 104.8501968383789, 104.64820098876953, 104.44619750976562, 104.24430084228516, 104.04229736328125, 103.84030151367188, 103.63829803466797, 103.4363021850586, 103.23429870605469, 103.03240203857422, 102.83039855957031, 102.62840270996094, 102.42639923095703, 102.22440338134766, 102.02239990234375, 101.82039642333984, 101.61840057373047, 101.41649627685547, 101.2145004272461, 101.01249694824219, 100.81050109863281, 100.6084976196289, 100.40650177001953, 100.20459747314453, 100.00260162353516], [119.99919891357422, 119.79720306396484, 119.59519958496094, 119.39320373535156, 119.19120025634766, 118.98919677734375, 118.78720092773438, 118.58519744873047, 118.38330078125, 118.1812973022461, 117.97930145263672, 117.77729797363281, 117.57530212402344, 117.37329864501953, 117.17140197753906, 116.96939849853516, 116.76740264892578, 116.56539916992188, 116.3634033203125, 116.1613998413086, 115.95939636230469, 115.75740051269531, 115.55549621582031, 115.35350036621094, 115.15149688720703, 114.94950103759766, 114.74749755859375, 114.54550170898438, 114.34359741210938, 114.1416015625, 113.9395980834961, 113.73760223388672, 113.53559875488281, 113.33360290527344, 113.13159942626953, 112.92960357666016, 112.72769927978516, 112.52570343017578, 112.32369995117188, 112.12169647216797, 111.9197006225586, 111.71769714355469, 111.51580047607422, 111.31379699707031, 111.11180114746094, 110.90979766845703, 110.70780181884766, 110.50579833984375, 110.30380249023438, 110.10179901123047, 109.89990234375, 109.6978988647461, 109.49590301513672, 109.29389953613281, 109.09190368652344, 108.88990020751953, 108.68800354003906, 108.48600006103516, 108.28399658203125, 108.08200073242188, 107.87999725341797, 107.6780014038086, 107.47599792480469, 107.27400207519531, 107.07209777832031, 106.87010192871094, 106.66809844970703, 106.46610260009766, 106.26409912109375, 106.06210327148438, 105.86019897460938, 105.658203125, 105.4561996459961, 105.25420379638672, 105.05220031738281, 104.8501968383789, 104.64820098876953, 104.44619750976562, 104.24430084228516, 104.04229736328125, 103.84030151367188, 103.63829803466797, 103.4363021850586, 103.23429870605469, 103.03240203857422, 102.83039855957031, 102.62840270996094, 102.42639923095703, 102.22440338134766, 102.02239990234375, 101.82039642333984, 101.61840057373047, 101.41649627685547, 101.2145004272461, 101.01249694824219, 100.81050109863281, 100.6084976196289, 100.40650177001953, 100.20459747314453, 100.00260162353516], [119.99919891357422, 119.79720306396484, 119.59519958496094, 119.39320373535156, 119.19120025634766, 118.98919677734375, 118.78720092773438, 118.58519744873047, 118.38330078125, 118.1812973022461, 117.97930145263672, 117.77729797363281, 117.57530212402344, 117.37329864501953, 117.17140197753906, 116.96939849853516, 116.76740264892578, 116.56539916992188, 116.3634033203125, 116.1613998413086, 115.95939636230469, 115.75740051269531, 115.55549621582031, 115.35350036621094, 115.15149688720703, 114.94950103759766, 114.74749755859375, 114.54550170898438, 114.34359741210938, 114.1416015625, 113.9395980834961, 113.73760223388672, 113.53559875488281, 113.33360290527344, 113.13159942626953, 112.92960357666016, 112.72769927978516, 112.52570343017578, 112.32369995117188, 112.12169647216797, 111.9197006225586, 111.71769714355469, 111.51580047607422, 111.31379699707031, 111.11180114746094, 110.90979766845703, 110.70780181884766, 110.50579833984375, 110.30380249023438, 110.10179901123047, 109.89990234375, 109.6978988647461, 109.49590301513672, 109.29389953613281, 109.09190368652344, 108.88990020751953, 108.68800354003906, 108.48600006103516, 108.28399658203125, 108.08200073242188, 107.87999725341797, 107.6780014038086, 107.47599792480469, 107.27400207519531, 107.07209777832031, 106.87010192871094, 106.66809844970703, 106.46610260009766, 106.26409912109375, 106.06210327148438, 105.86019897460938, 105.658203125, 105.4561996459961, 105.25420379638672, 105.05220031738281, 104.8501968383789, 104.64820098876953, 104.44619750976562, 104.24430084228516, 104.04229736328125, 103.84030151367188, 103.63829803466797, 103.4363021850586, 103.23429870605469, 103.03240203857422, 102.83039855957031, 102.62840270996094, 102.42639923095703, 102.22440338134766, 102.02239990234375, 101.82039642333984, 101.61840057373047, 101.41649627685547, 101.2145004272461, 101.01249694824219, 100.81050109863281, 100.6084976196289, 100.40650177001953, 100.20459747314453, 100.00260162353516], [119.99919891357422, 119.79720306396484, 119.59519958496094, 119.39320373535156, 119.19120025634766, 118.98919677734375, 118.78720092773438, 118.58519744873047, 118.38330078125, 118.1812973022461, 117.97930145263672, 117.77729797363281, 117.57530212402344, 117.37329864501953, 117.17140197753906, 116.96939849853516, 116.76740264892578, 116.56539916992188, 116.3634033203125, 116.1613998413086, 115.95939636230469, 115.75740051269531, 115.55549621582031, 115.35350036621094, 115.15149688720703, 114.94950103759766, 114.74749755859375, 114.54550170898438, 114.34359741210938, 114.1416015625, 113.9395980834961, 113.73760223388672, 113.53559875488281, 113.33360290527344, 113.13159942626953, 112.92960357666016, 112.72769927978516, 112.52570343017578, 112.32369995117188, 112.12169647216797, 111.9197006225586, 111.71769714355469, 111.51580047607422, 111.31379699707031, 111.11180114746094, 110.90979766845703, 110.70780181884766, 110.50579833984375, 110.30380249023438, 110.10179901123047, 109.89990234375, 109.6978988647461, 109.49590301513672, 109.29389953613281, 109.09190368652344, 108.88990020751953, 108.68800354003906, 108.48600006103516, 108.28399658203125, 108.08200073242188, 107.87999725341797, 107.6780014038086, 107.47599792480469, 107.27400207519531, 107.07209777832031, 106.87010192871094, 106.66809844970703, 106.46610260009766, 106.26409912109375, 106.06210327148438, 105.86019897460938, 105.658203125, 105.4561996459961, 105.25420379638672, 105.05220031738281, 104.8501968383789, 104.64820098876953, 104.44619750976562, 104.24430084228516, 104.04229736328125, 103.84030151367188, 103.63829803466797, 103.4363021850586, 103.23429870605469, 103.03240203857422, 102.83039855957031, 102.62840270996094, 102.42639923095703, 102.22440338134766, 102.02239990234375, 101.82039642333984, 101.61849975585938, 101.41649627685547, 101.2145004272461, 101.01249694824219, 100.81050109863281, 100.6084976196289, 100.40650177001953, 100.20459747314453, 100.00260162353516], [119.99919891357422, 119.79720306396484, 119.59519958496094, 119.39320373535156, 119.19120025634766, 118.98919677734375, 118.78720092773438, 118.58519744873047, 118.38330078125, 118.1812973022461, 117.97930145263672, 117.77729797363281, 117.57530212402344, 117.37329864501953, 117.17140197753906, 116.96939849853516, 116.76740264892578, 116.56539916992188, 116.3634033203125, 116.1613998413086, 115.95939636230469, 115.75740051269531, 115.55549621582031, 115.35350036621094, 115.15149688720703, 114.94950103759766, 114.74749755859375, 114.54550170898438, 114.34359741210938, 114.1416015625, 113.9395980834961, 113.73760223388672, 113.53559875488281, 113.33360290527344, 113.13159942626953, 112.92960357666016, 112.72769927978516, 112.52570343017578, 112.32369995117188, 112.12169647216797, 111.9197006225586, 111.71769714355469, 111.51580047607422, 111.31379699707031, 111.11180114746094, 110.90979766845703, 110.70780181884766, 110.50579833984375, 110.30380249023438, 110.10179901123047, 109.89990234375, 109.6978988647461, 109.49590301513672, 109.29389953613281, 109.09190368652344, 108.88990020751953, 108.68800354003906, 108.48600006103516, 108.28399658203125, 108.08200073242188, 107.87999725341797, 107.6780014038086, 107.47599792480469, 107.27400207519531, 107.07209777832031, 106.87010192871094, 106.66809844970703, 106.46610260009766, 106.26409912109375, 106.06210327148438, 105.86019897460938, 105.658203125, 105.4561996459961, 105.25420379638672, 105.05220031738281, 104.8501968383789, 104.64820098876953, 104.44619750976562, 104.24430084228516, 104.04229736328125, 103.84030151367188, 103.63829803466797, 103.4363021850586, 103.23429870605469, 103.03240203857422, 102.83039855957031, 102.62840270996094, 102.42639923095703, 102.22440338134766, 102.02239990234375, 101.82039642333984, 101.61849975585938, 101.41649627685547, 101.2145004272461, 101.01249694824219, 100.81050109863281, 100.6084976196289, 100.40650177001953, 100.20459747314453, 100.00260162353516], [119.99919891357422, 119.79720306396484, 119.59519958496094, 119.39320373535156, 119.19120025634766, 118.98919677734375, 118.78720092773438, 118.58519744873047, 118.38330078125, 118.1812973022461, 117.97930145263672, 117.77729797363281, 117.57530212402344, 117.37329864501953, 117.17140197753906, 116.96939849853516, 116.76740264892578, 116.56539916992188, 116.3634033203125, 116.1613998413086, 115.95939636230469, 115.75740051269531, 115.55549621582031, 115.35350036621094, 115.15149688720703, 114.94950103759766, 114.74749755859375, 114.54550170898438, 114.34359741210938, 114.1416015625, 113.9395980834961, 113.73760223388672, 113.53559875488281, 113.33360290527344, 113.13159942626953, 112.92960357666016, 112.72769927978516, 112.52570343017578, 112.32369995117188, 112.12169647216797, 111.9197006225586, 111.71769714355469, 111.51580047607422, 111.31379699707031, 111.11180114746094, 110.90979766845703, 110.70780181884766, 110.50579833984375, 110.30380249023438, 110.10179901123047, 109.89990234375, 109.6978988647461, 109.49590301513672, 109.29389953613281, 109.09190368652344, 108.88990020751953, 108.68800354003906, 108.48600006103516, 108.28399658203125, 108.08200073242188, 107.87999725341797, 107.6780014038086, 107.47599792480469, 107.27400207519531, 107.07209777832031, 106.87010192871094, 106.66809844970703, 106.46610260009766, 106.26409912109375, 106.06210327148438, 105.86019897460938, 105.658203125, 105.4561996459961, 105.25420379638672, 105.05220031738281, 104.8501968383789, 104.64820098876953, 104.44619750976562, 104.24430084228516, 104.04229736328125, 103.84030151367188, 103.63829803466797, 103.4363021850586, 103.23429870605469, 103.03240203857422, 102.83039855957031, 102.62840270996094, 102.42639923095703, 102.22440338134766, 102.02239990234375, 101.82039642333984, 101.61849975585938, 101.41649627685547, 101.2145004272461, 101.01249694824219, 100.81050109863281, 100.6084976196289, 100.40650177001953, 100.20459747314453, 100.00260162353516], [119.99919891357422, 119.79720306396484, 119.59519958496094, 119.39320373535156, 119.19120025634766, 118.98919677734375, 118.78720092773438, 118.58519744873047, 118.38330078125, 118.1812973022461, 117.97930145263672, 117.77729797363281, 117.57530212402344, 117.37329864501953, 117.17140197753906, 116.96939849853516, 116.76740264892578, 116.56539916992188, 116.3634033203125, 116.1613998413086, 115.95939636230469, 115.75740051269531, 115.55549621582031, 115.35350036621094, 115.15149688720703, 114.94950103759766, 114.74749755859375, 114.54550170898438, 114.34359741210938, 114.1416015625, 113.9395980834961, 113.73760223388672, 113.53559875488281, 113.33360290527344, 113.13159942626953, 112.92960357666016, 112.72769927978516, 112.52570343017578, 112.32369995117188, 112.12169647216797, 111.9197006225586, 111.71769714355469, 111.51580047607422, 111.31379699707031, 111.11180114746094, 110.90979766845703, 110.70780181884766, 110.50579833984375, 110.30380249023438, 110.10179901123047, 109.89990234375, 109.6978988647461, 109.49590301513672, 109.29389953613281, 109.09190368652344, 108.88990020751953, 108.68800354003906, 108.48600006103516, 108.28399658203125, 108.08200073242188, 107.87999725341797, 107.6780014038086, 107.47599792480469, 107.27400207519531, 107.07209777832031, 106.87010192871094, 106.66809844970703, 106.46610260009766, 106.26409912109375, 106.06210327148438, 105.86019897460938, 105.658203125, 105.4561996459961, 105.25420379638672, 105.05220031738281, 104.8501968383789, 104.64820098876953, 104.44619750976562, 104.24430084228516, 104.04229736328125, 103.84030151367188, 103.63829803466797, 103.4363021850586, 103.23429870605469, 103.03240203857422, 102.83039855957031, 102.62840270996094, 102.42639923095703, 102.22440338134766, 102.02239990234375, 101.82039642333984, 101.61849975585938, 101.41649627685547, 101.2145004272461, 101.01249694824219, 100.81050109863281, 100.6084976196289, 100.40650177001953, 100.20459747314453, 100.00260162353516], [119.99919891357422, 119.79720306396484, 119.59519958496094, 119.39320373535156, 119.19120025634766, 118.98919677734375, 118.78720092773438, 118.58519744873047, 118.38330078125, 118.1812973022461, 117.97930145263672, 117.77729797363281, 117.57530212402344, 117.37329864501953, 117.17140197753906, 116.96939849853516, 116.76740264892578, 116.56539916992188, 116.3634033203125, 116.1613998413086, 115.95939636230469, 115.75740051269531, 115.55549621582031, 115.35350036621094, 115.15149688720703, 114.94950103759766, 114.74749755859375, 114.54550170898438, 114.34359741210938, 114.1416015625, 113.9395980834961, 113.73760223388672, 113.53559875488281, 113.33360290527344, 113.13159942626953, 112.92960357666016, 112.72769927978516, 112.52570343017578, 112.32369995117188, 112.12169647216797, 111.9197006225586, 111.71769714355469, 111.51580047607422, 111.31379699707031, 111.11180114746094, 110.90979766845703, 110.70780181884766, 110.50579833984375, 110.30380249023438, 110.10179901123047, 109.89990234375, 109.6978988647461, 109.49590301513672, 109.29389953613281, 109.09190368652344, 108.88990020751953, 108.68800354003906, 108.48600006103516, 108.28399658203125, 108.08200073242188, 107.87999725341797, 107.6780014038086, 107.47599792480469, 107.27400207519531, 107.07209777832031, 106.87010192871094, 106.66809844970703, 106.46610260009766, 106.26409912109375, 106.06210327148438, 105.86019897460938, 105.658203125, 105.4561996459961, 105.25420379638672, 105.05220031738281, 104.8501968383789, 104.64820098876953, 104.44619750976562, 104.24430084228516, 104.04229736328125, 103.84030151367188, 103.63829803466797, 103.4363021850586, 103.23429870605469, 103.03240203857422, 102.83039855957031, 102.62840270996094, 102.42639923095703, 102.22440338134766, 102.02239990234375, 101.82039642333984, 101.61849975585938, 101.41649627685547, 101.2145004272461, 101.01249694824219, 100.81050109863281, 100.6084976196289, 100.40650177001953, 100.20459747314453, 100.00260162353516], [119.99919891357422, 119.79720306396484, 119.59519958496094, 119.39320373535156, 119.19120025634766, 118.98919677734375, 118.78720092773438, 118.58519744873047, 118.3832015991211, 118.1812973022461, 117.97930145263672, 117.77729797363281, 117.57530212402344, 117.37329864501953, 117.17140197753906, 116.96939849853516, 116.76740264892578, 116.56539916992188, 116.3634033203125, 116.1613998413086, 115.95939636230469, 115.75740051269531, 115.55549621582031, 115.35350036621094, 115.15149688720703, 114.94950103759766, 114.74749755859375, 114.54550170898438, 114.34359741210938, 114.1416015625, 113.9395980834961, 113.73760223388672, 113.53559875488281, 113.33360290527344, 113.13159942626953, 112.92960357666016, 112.72769927978516, 112.52570343017578, 112.32369995117188, 112.12169647216797, 111.9197006225586, 111.71769714355469, 111.51580047607422, 111.31379699707031, 111.11180114746094, 110.90979766845703, 110.70780181884766, 110.50579833984375, 110.30380249023438, 110.10179901123047, 109.89990234375, 109.6978988647461, 109.49590301513672, 109.29389953613281, 109.09190368652344, 108.88990020751953, 108.68800354003906, 108.48600006103516, 108.28399658203125, 108.08200073242188, 107.87999725341797, 107.6780014038086, 107.47599792480469, 107.27400207519531, 107.07209777832031, 106.87010192871094, 106.66809844970703, 106.46610260009766, 106.26409912109375, 106.06210327148438, 105.86019897460938, 105.658203125, 105.4561996459961, 105.25420379638672, 105.05220031738281, 104.8501968383789, 104.64820098876953, 104.44619750976562, 104.24430084228516, 104.04229736328125, 103.84030151367188, 103.63829803466797, 103.4363021850586, 103.23429870605469, 103.03240203857422, 102.83039855957031, 102.62840270996094, 102.42639923095703, 102.22440338134766, 102.02239990234375, 101.82039642333984, 101.61849975585938, 101.41649627685547, 101.2145004272461, 101.01249694824219, 100.81050109863281, 100.6084976196289, 100.40650177001953, 100.20459747314453, 100.00260162353516], [119.99919891357422, 119.79720306396484, 119.59519958496094, 119.39320373535156, 119.19120025634766, 118.98919677734375, 118.78720092773438, 118.58519744873047, 118.3832015991211, 118.1812973022461, 117.97930145263672, 117.77729797363281, 117.57530212402344, 117.37329864501953, 117.17140197753906, 116.96939849853516, 116.76740264892578, 116.56539916992188, 116.3634033203125, 116.1613998413086, 115.95939636230469, 115.75740051269531, 115.55549621582031, 115.35350036621094, 115.15149688720703, 114.94950103759766, 114.74749755859375, 114.54550170898438, 114.34359741210938, 114.1416015625, 113.9395980834961, 113.73760223388672, 113.53559875488281, 113.33360290527344, 113.13159942626953, 112.92960357666016, 112.72769927978516, 112.52570343017578, 112.32369995117188, 112.12169647216797, 111.9197006225586, 111.71769714355469, 111.51580047607422, 111.31379699707031, 111.11180114746094, 110.90979766845703, 110.70780181884766, 110.50579833984375, 110.30380249023438, 110.10179901123047, 109.89990234375, 109.6978988647461, 109.49590301513672, 109.29389953613281, 109.09190368652344, 108.88990020751953, 108.68800354003906, 108.48600006103516, 108.28399658203125, 108.08200073242188, 107.87999725341797, 107.6780014038086, 107.47599792480469, 107.27400207519531, 107.07209777832031, 106.87010192871094, 106.66809844970703, 106.46610260009766, 106.26409912109375, 106.06210327148438, 105.86019897460938, 105.658203125, 105.4561996459961, 105.25420379638672, 105.05220031738281, 104.8501968383789, 104.64820098876953, 104.44619750976562, 104.24430084228516, 104.04229736328125, 103.84030151367188, 103.63829803466797, 103.4363021850586, 103.23429870605469, 103.03240203857422, 102.83039855957031, 102.62840270996094, 102.42639923095703, 102.22440338134766, 102.02239990234375, 101.82039642333984, 101.61849975585938, 101.41649627685547, 101.2145004272461, 101.01249694824219, 100.81050109863281, 100.6084976196289, 100.40650177001953, 100.20459747314453, 100.00260162353516]]'"
      ]
     },
     "execution_count": 14,
     "metadata": {},
     "output_type": "execute_result"
    }
   ],
   "execution_count": 14
  },
  {
   "cell_type": "code",
   "id": "df7dfd8ff0308815",
   "metadata": {
    "collapsed": false,
    "execution": {
     "iopub.execute_input": "2024-06-20T19:03:15.533745Z",
     "iopub.status.busy": "2024-06-20T19:03:15.533650Z",
     "iopub.status.idle": "2024-06-20T19:03:15.535645Z",
     "shell.execute_reply": "2024-06-20T19:03:15.535448Z"
    },
    "papermill": {
     "duration": 0.006176,
     "end_time": "2024-06-20T19:03:15.536365",
     "exception": false,
     "start_time": "2024-06-20T19:03:15.530189",
     "status": "completed"
    },
    "tags": [],
    "ExecuteTime": {
     "end_time": "2024-08-19T10:13:30.708204Z",
     "start_time": "2024-08-19T10:13:30.705261Z"
    }
   },
   "source": [
    "engine.read_flow_drawdown(idx=0, layer=0)"
   ],
   "outputs": [
    {
     "data": {
      "text/plain": [
       "[]"
      ]
     },
     "execution_count": 15,
     "metadata": {},
     "output_type": "execute_result"
    }
   ],
   "execution_count": 15
  },
  {
   "cell_type": "code",
   "id": "b233f4066b56c174",
   "metadata": {
    "collapsed": false,
    "execution": {
     "iopub.execute_input": "2024-06-20T19:03:15.543255Z",
     "iopub.status.busy": "2024-06-20T19:03:15.543155Z",
     "iopub.status.idle": "2024-06-20T19:03:15.546591Z",
     "shell.execute_reply": "2024-06-20T19:03:15.546360Z"
    },
    "papermill": {
     "duration": 0.007758,
     "end_time": "2024-06-20T19:03:15.547394",
     "exception": false,
     "start_time": "2024-06-20T19:03:15.539636",
     "status": "completed"
    },
    "tags": [],
    "ExecuteTime": {
     "end_time": "2024-08-19T10:13:30.714643Z",
     "start_time": "2024-08-19T10:13:30.708916Z"
    }
   },
   "source": [
    "engine.read_flow_budget(idx=0, incremental=False)"
   ],
   "outputs": [
    {
     "data": {
      "text/plain": [
       "{'STORAGE_IN': 0.0,\n",
       " 'CONSTANT_HEAD_IN': 0.0,\n",
       " 'HEAD_DEP_BOUNDS_IN': 4682.4585,\n",
       " 'TOTAL_IN': 4682.4585,\n",
       " 'STORAGE_OUT': -0.0,\n",
       " 'CONSTANT_HEAD_OUT': -0.0,\n",
       " 'HEAD_DEP_BOUNDS_OUT': -4682.458,\n",
       " 'TOTAL_OUT': -4682.458,\n",
       " 'IN-OUT': 0.00048828,\n",
       " 'PERCENT_DISCREPANCY': 0.0,\n",
       " 'tslen': 365.0}"
      ]
     },
     "execution_count": 16,
     "metadata": {},
     "output_type": "execute_result"
    }
   ],
   "execution_count": 16
  },
  {
   "cell_type": "code",
   "id": "634709d741f5c252",
   "metadata": {
    "collapsed": false,
    "execution": {
     "iopub.execute_input": "2024-06-20T19:03:15.554360Z",
     "iopub.status.busy": "2024-06-20T19:03:15.554262Z",
     "iopub.status.idle": "2024-06-20T19:03:15.557659Z",
     "shell.execute_reply": "2024-06-20T19:03:15.557428Z"
    },
    "papermill": {
     "duration": 0.007684,
     "end_time": "2024-06-20T19:03:15.558388",
     "exception": false,
     "start_time": "2024-06-20T19:03:15.550704",
     "status": "completed"
    },
    "tags": [],
    "ExecuteTime": {
     "end_time": "2024-08-19T10:13:30.730113Z",
     "start_time": "2024-08-19T10:13:30.715851Z"
    }
   },
   "source": [
    "engine.read_flow_budget(idx=0, incremental=True)"
   ],
   "outputs": [
    {
     "data": {
      "text/plain": [
       "{'STORAGE_IN': 0.0,\n",
       " 'CONSTANT_HEAD_IN': 0.0,\n",
       " 'HEAD_DEP_BOUNDS_IN': 12.8287,\n",
       " 'TOTAL_IN': 12.8287,\n",
       " 'STORAGE_OUT': -0.0,\n",
       " 'CONSTANT_HEAD_OUT': -0.0,\n",
       " 'HEAD_DEP_BOUNDS_OUT': -12.8287,\n",
       " 'TOTAL_OUT': -12.8287,\n",
       " 'IN-OUT': 9.5367e-07,\n",
       " 'PERCENT_DISCREPANCY': 0.0,\n",
       " 'tslen': 365.0}"
      ]
     },
     "execution_count": 17,
     "metadata": {},
     "output_type": "execute_result"
    }
   ],
   "execution_count": 17
  },
  {
   "cell_type": "code",
   "id": "160abd7d290c83f7",
   "metadata": {
    "collapsed": false,
    "execution": {
     "iopub.execute_input": "2024-06-20T19:03:15.565353Z",
     "iopub.status.busy": "2024-06-20T19:03:15.565253Z",
     "iopub.status.idle": "2024-06-20T19:03:15.649418Z",
     "shell.execute_reply": "2024-06-20T19:03:15.648788Z"
    },
    "papermill": {
     "duration": 0.090591,
     "end_time": "2024-06-20T19:03:15.652195",
     "exception": false,
     "start_time": "2024-06-20T19:03:15.561604",
     "status": "completed"
    },
    "tags": [],
    "ExecuteTime": {
     "end_time": "2024-08-19T10:13:30.890093Z",
     "start_time": "2024-08-19T10:13:30.732447Z"
    }
   },
   "source": [
    "import matplotlib.pyplot as plt\n",
    "\n",
    "heads = engine.read_flow_head(idx=0, layer=0)\n",
    "plt.subplot(2, 1, 1)\n",
    "plt.imshow(heads, cmap='jet_r')\n",
    "plt.colorbar()\n",
    "plt.show()"
   ],
   "outputs": [
    {
     "data": {
      "text/plain": [
       "<Figure size 640x480 with 2 Axes>"
      ],
      "image/png": "[encoded data removed]"
     },
     "metadata": {},
     "output_type": "display_data"
    }
   ],
   "execution_count": 18
  },
  {
   "cell_type": "code",
   "id": "807e04685d52d861",
   "metadata": {
    "collapsed": false,
    "papermill": {
     "duration": 0.003652,
     "end_time": "2024-06-20T19:03:15.666770",
     "exception": false,
     "start_time": "2024-06-20T19:03:15.663118",
     "status": "completed"
    },
    "tags": [],
    "ExecuteTime": {
     "end_time": "2024-08-19T10:13:30.901410Z",
     "start_time": "2024-08-19T10:13:30.892781Z"
    }
   },
   "source": [],
   "outputs": [],
   "execution_count": 18
  }
 ],
 "metadata": {
  "kernelspec": {
   "display_name": "Python 3",
   "language": "python",
   "name": "python3"
  },
  "language_info": {
   "codemirror_mode": {
    "name": "ipython",
    "version": 3
   },
   "file_extension": ".py",
   "mimetype": "text/x-python",
   "name": "python",
   "nbconvert_exporter": "python",
   "pygments_lexer": "ipython3",
   "version": "3.12.2"
  },
  "papermill": {
   "default_parameters": {},
   "duration": 4.657068,
   "end_time": "2024-06-20T19:03:16.006915",
   "environment_variables": {},
   "exception": null,
   "input_path": "./notebooks/Test_HeadObservation.ipynb",
   "output_path": "./notebooks/Test_HeadObservation.ipynb",
   "parameters": {},
   "start_time": "2024-06-20T19:03:11.349847",
   "version": "2.6.0"
  }
 },
 "nbformat": 4,
 "nbformat_minor": 5
}
