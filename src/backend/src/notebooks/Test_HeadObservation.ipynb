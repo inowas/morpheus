{
 "cells": [
  {
   "cell_type": "markdown",
   "id": "1dedbbff",
   "metadata": {
    "tags": [
     "papermill-error-cell-tag"
    ]
   },
   "source": [
    "<span style=\"color:red; font-family:Helvetica Neue, Helvetica, Arial, sans-serif; font-size:2em;\">An Exception was encountered at '<a href=\"#papermill-error-cell\">In [11]</a>'.</span>"
   ]
  },
  {
   "cell_type": "code",
   "execution_count": 1,
   "id": "ba6761fae9d5e5cb",
   "metadata": {
    "ExecuteTime": {
     "end_time": "2024-05-14T08:12:25.666111Z",
     "start_time": "2024-05-14T08:12:25.662371Z"
    },
    "collapsed": false,
    "execution": {
     "iopub.execute_input": "2024-05-15T15:40:42.313510Z",
     "iopub.status.busy": "2024-05-15T15:40:42.313171Z",
     "iopub.status.idle": "2024-05-15T15:40:42.317113Z",
     "shell.execute_reply": "2024-05-15T15:40:42.316797Z"
    },
    "papermill": {
     "duration": 0.016977,
     "end_time": "2024-05-15T15:40:42.318829",
     "exception": false,
     "start_time": "2024-05-15T15:40:42.301852",
     "status": "completed"
    },
    "tags": []
   },
   "outputs": [],
   "source": [
    "import sys\n",
    "\n",
    "sys.path.insert(0, '..')"
   ]
  },
  {
   "cell_type": "markdown",
   "id": "5ede1ba5e0993dd1",
   "metadata": {
    "collapsed": false,
    "papermill": {
     "duration": 0.005168,
     "end_time": "2024-05-15T15:40:42.329852",
     "exception": false,
     "start_time": "2024-05-15T15:40:42.324684",
     "status": "completed"
    },
    "tags": []
   },
   "source": [
    "## Setup the model area"
   ]
  },
  {
   "cell_type": "code",
   "execution_count": 2,
   "id": "2f69504ab35487aa",
   "metadata": {
    "ExecuteTime": {
     "end_time": "2024-05-14T08:12:26.352286Z",
     "start_time": "2024-05-14T08:12:25.668767Z"
    },
    "collapsed": false,
    "execution": {
     "iopub.execute_input": "2024-05-15T15:40:42.340468Z",
     "iopub.status.busy": "2024-05-15T15:40:42.340225Z",
     "iopub.status.idle": "2024-05-15T15:40:42.858260Z",
     "shell.execute_reply": "2024-05-15T15:40:42.857989Z"
    },
    "papermill": {
     "duration": 0.524544,
     "end_time": "2024-05-15T15:40:42.859288",
     "exception": false,
     "start_time": "2024-05-15T15:40:42.334744",
     "status": "completed"
    },
    "tags": []
   },
   "outputs": [],
   "source": [
    "from morpheus.project.types.discretization import SpatialDiscretization\n",
    "from morpheus.project.types.discretization.spatial import Rotation, Grid, Crs\n",
    "from morpheus.project.types.geometry import Polygon, LineString\n",
    "\n",
    "polygon = Polygon(\n",
    "  type='Polygon',\n",
    "  coordinates=[[\n",
    "    (13.92, 50.964),\n",
    "    (13.92, 50.966),\n",
    "    (13.925, 50.966),\n",
    "    (13.925, 50.964),\n",
    "    (13.92, 50.964)\n",
    "  ]]\n",
    ")\n",
    "\n",
    "rotation = Rotation(0)\n",
    "\n",
    "grid = Grid.cartesian_from_polygon(polygon=polygon, n_cols=100, n_rows=50, rotation=rotation)\n",
    "spatial_discretization = SpatialDiscretization.from_geometry_with_grid(\n",
    "  geometry=polygon,\n",
    "  grid=grid,\n",
    "  crs=Crs.from_str('EPSG:4326')\n",
    ")"
   ]
  },
  {
   "cell_type": "markdown",
   "id": "fa27e67f9d801845",
   "metadata": {
    "collapsed": false,
    "papermill": {
     "duration": 0.002255,
     "end_time": "2024-05-15T15:40:42.864081",
     "exception": false,
     "start_time": "2024-05-15T15:40:42.861826",
     "status": "completed"
    },
    "tags": []
   },
   "source": [
    "## Setup Time Discretization"
   ]
  },
  {
   "cell_type": "code",
   "execution_count": 3,
   "id": "8e4e63dd138db9fc",
   "metadata": {
    "ExecuteTime": {
     "end_time": "2024-05-14T08:12:26.357400Z",
     "start_time": "2024-05-14T08:12:26.353155Z"
    },
    "collapsed": false,
    "execution": {
     "iopub.execute_input": "2024-05-15T15:40:42.869248Z",
     "iopub.status.busy": "2024-05-15T15:40:42.869095Z",
     "iopub.status.idle": "2024-05-15T15:40:42.871561Z",
     "shell.execute_reply": "2024-05-15T15:40:42.871310Z"
    },
    "papermill": {
     "duration": 0.006121,
     "end_time": "2024-05-15T15:40:42.872348",
     "exception": false,
     "start_time": "2024-05-15T15:40:42.866227",
     "status": "completed"
    },
    "tags": []
   },
   "outputs": [],
   "source": [
    "from morpheus.project.types.discretization.time.TimeUnit import TimeUnit\n",
    "from morpheus.project.types.discretization.time.Stressperiods import StartDateTime, StressPeriodCollection, \\\n",
    "  StressPeriod, NumberOfTimeSteps, TimeStepMultiplier, IsSteadyState\n",
    "from morpheus.project.types.discretization.time import TimeDiscretization\n",
    "from datetime import datetime\n",
    "\n",
    "time_discretization = TimeDiscretization(\n",
    "  start_date_time=StartDateTime.from_datetime(datetime(2020, 1, 1)),\n",
    "  end_date_time=StartDateTime.from_datetime(datetime(2020, 12, 31)),\n",
    "  stress_periods=StressPeriodCollection([\n",
    "    StressPeriod(\n",
    "      start_date_time=StartDateTime.from_datetime(datetime(2020, 1, 1)),\n",
    "      number_of_time_steps=NumberOfTimeSteps(1),\n",
    "      time_step_multiplier=TimeStepMultiplier(1),\n",
    "      steady_state=IsSteadyState.yes()\n",
    "    ),\n",
    "  ]),\n",
    "  time_unit=TimeUnit.days()\n",
    ")"
   ]
  },
  {
   "cell_type": "markdown",
   "id": "963ba8729f09fcec",
   "metadata": {
    "collapsed": false,
    "papermill": {
     "duration": 0.002067,
     "end_time": "2024-05-15T15:40:42.876823",
     "exception": false,
     "start_time": "2024-05-15T15:40:42.874756",
     "status": "completed"
    },
    "tags": []
   },
   "source": [
    "# Setup Model"
   ]
  },
  {
   "cell_type": "code",
   "execution_count": 4,
   "id": "1d5c9125b1b9360b",
   "metadata": {
    "ExecuteTime": {
     "end_time": "2024-05-14T08:12:27.301807Z",
     "start_time": "2024-05-14T08:12:26.357997Z"
    },
    "collapsed": false,
    "execution": {
     "iopub.execute_input": "2024-05-15T15:40:42.881596Z",
     "iopub.status.busy": "2024-05-15T15:40:42.881475Z",
     "iopub.status.idle": "2024-05-15T15:40:43.176699Z",
     "shell.execute_reply": "2024-05-15T15:40:43.176364Z"
    },
    "papermill": {
     "duration": 0.298856,
     "end_time": "2024-05-15T15:40:43.177764",
     "exception": false,
     "start_time": "2024-05-15T15:40:42.878908",
     "status": "completed"
    },
    "tags": []
   },
   "outputs": [],
   "source": [
    "from morpheus.project.types.Model import Model\n",
    "\n",
    "model = Model.new()\n",
    "model = model.with_updated_time_discretization(time_discretization)\n",
    "model = model.with_updated_spatial_discretization(spatial_discretization=spatial_discretization)"
   ]
  },
  {
   "cell_type": "code",
   "execution_count": 5,
   "id": "1540b870ae83f298",
   "metadata": {
    "ExecuteTime": {
     "end_time": "2024-05-14T08:12:27.652730Z",
     "start_time": "2024-05-14T08:12:27.310265Z"
    },
    "collapsed": false,
    "execution": {
     "iopub.execute_input": "2024-05-15T15:40:43.183158Z",
     "iopub.status.busy": "2024-05-15T15:40:43.182974Z",
     "iopub.status.idle": "2024-05-15T15:40:43.333408Z",
     "shell.execute_reply": "2024-05-15T15:40:43.333148Z"
    },
    "papermill": {
     "duration": 0.154077,
     "end_time": "2024-05-15T15:40:43.334294",
     "exception": false,
     "start_time": "2024-05-15T15:40:43.180217",
     "status": "completed"
    },
    "tags": []
   },
   "outputs": [
    {
     "data": {
      "text/html": [
       "<div style=\"width:100%;\"><div style=\"position:relative;width:100%;height:0;padding-bottom:60%;\"><span style=\"color:#565656\">Make this Notebook Trusted to load map: File -> Trust Notebook</span><iframe srcdoc=\"&lt;!DOCTYPE html&gt;\n",
       "&lt;html&gt;\n",
       "&lt;head&gt;\n",
       "    \n",
       "    &lt;meta http-equiv=&quot;content-type&quot; content=&quot;text/html; charset=UTF-8&quot; /&gt;\n",
       "    \n",
       "        &lt;script&gt;\n",
       "            L_NO_TOUCH = false;\n",
       "            L_DISABLE_3D = false;\n",
       "        &lt;/script&gt;\n",
       "    \n",
       "    &lt;style&gt;html, body {width: 100%;height: 100%;margin: 0;padding: 0;}&lt;/style&gt;\n",
       "    &lt;style&gt;#map {position:absolute;top:0;bottom:0;right:0;left:0;}&lt;/style&gt;\n",
       "    &lt;script src=&quot;https://cdn.jsdelivr.net/npm/leaflet@1.9.3/dist/leaflet.js&quot;&gt;&lt;/script&gt;\n",
       "    &lt;script src=&quot;https://code.jquery.com/jquery-3.7.1.min.js&quot;&gt;&lt;/script&gt;\n",
       "    &lt;script src=&quot;https://cdn.jsdelivr.net/npm/bootstrap@5.2.2/dist/js/bootstrap.bundle.min.js&quot;&gt;&lt;/script&gt;\n",
       "    &lt;script src=&quot;https://cdnjs.cloudflare.com/ajax/libs/Leaflet.awesome-markers/2.0.2/leaflet.awesome-markers.js&quot;&gt;&lt;/script&gt;\n",
       "    &lt;link rel=&quot;stylesheet&quot; href=&quot;https://cdn.jsdelivr.net/npm/leaflet@1.9.3/dist/leaflet.css&quot;/&gt;\n",
       "    &lt;link rel=&quot;stylesheet&quot; href=&quot;https://cdn.jsdelivr.net/npm/bootstrap@5.2.2/dist/css/bootstrap.min.css&quot;/&gt;\n",
       "    &lt;link rel=&quot;stylesheet&quot; href=&quot;https://netdna.bootstrapcdn.com/bootstrap/3.0.0/css/bootstrap.min.css&quot;/&gt;\n",
       "    &lt;link rel=&quot;stylesheet&quot; href=&quot;https://cdn.jsdelivr.net/npm/@fortawesome/fontawesome-free@6.2.0/css/all.min.css&quot;/&gt;\n",
       "    &lt;link rel=&quot;stylesheet&quot; href=&quot;https://cdnjs.cloudflare.com/ajax/libs/Leaflet.awesome-markers/2.0.2/leaflet.awesome-markers.css&quot;/&gt;\n",
       "    &lt;link rel=&quot;stylesheet&quot; href=&quot;https://cdn.jsdelivr.net/gh/python-visualization/folium/folium/templates/leaflet.awesome.rotate.min.css&quot;/&gt;\n",
       "    \n",
       "            &lt;meta name=&quot;viewport&quot; content=&quot;width=device-width,\n",
       "                initial-scale=1.0, maximum-scale=1.0, user-scalable=no&quot; /&gt;\n",
       "            &lt;style&gt;\n",
       "                #map_515ae4586abd5ad7b85ab9df9eecbc1a {\n",
       "                    position: relative;\n",
       "                    width: 100.0%;\n",
       "                    height: 100.0%;\n",
       "                    left: 0.0%;\n",
       "                    top: 0.0%;\n",
       "                }\n",
       "                .leaflet-container { font-size: 1rem; }\n",
       "            &lt;/style&gt;\n",
       "        \n",
       "&lt;/head&gt;\n",
       "&lt;body&gt;\n",
       "    \n",
       "    \n",
       "            &lt;div class=&quot;folium-map&quot; id=&quot;map_515ae4586abd5ad7b85ab9df9eecbc1a&quot; &gt;&lt;/div&gt;\n",
       "        \n",
       "&lt;/body&gt;\n",
       "&lt;script&gt;\n",
       "    \n",
       "    \n",
       "            var map_515ae4586abd5ad7b85ab9df9eecbc1a = L.map(\n",
       "                &quot;map_515ae4586abd5ad7b85ab9df9eecbc1a&quot;,\n",
       "                {\n",
       "                    center: [50.965, 13.922],\n",
       "                    crs: L.CRS.EPSG3857,\n",
       "                    zoom: 12,\n",
       "                    zoomControl: true,\n",
       "                    preferCanvas: false,\n",
       "                }\n",
       "            );\n",
       "\n",
       "            \n",
       "\n",
       "        \n",
       "    \n",
       "            var tile_layer_73378ac13d9d1f4b77ce48b12c5aa6b2 = L.tileLayer(\n",
       "                &quot;https://{s}.basemaps.cartocdn.com/light_all/{z}/{x}/{y}{r}.png&quot;,\n",
       "                {&quot;attribution&quot;: &quot;\\u0026copy; \\u003ca href=\\&quot;https://www.openstreetmap.org/copyright\\&quot;\\u003eOpenStreetMap\\u003c/a\\u003e contributors \\u0026copy; \\u003ca href=\\&quot;https://carto.com/attributions\\&quot;\\u003eCARTO\\u003c/a\\u003e&quot;, &quot;detectRetina&quot;: false, &quot;maxNativeZoom&quot;: 20, &quot;maxZoom&quot;: 20, &quot;minZoom&quot;: 0, &quot;noWrap&quot;: false, &quot;opacity&quot;: 1, &quot;subdomains&quot;: &quot;abcd&quot;, &quot;tms&quot;: false}\n",
       "            );\n",
       "        \n",
       "    \n",
       "            tile_layer_73378ac13d9d1f4b77ce48b12c5aa6b2.addTo(map_515ae4586abd5ad7b85ab9df9eecbc1a);\n",
       "        \n",
       "    \n",
       "\n",
       "        function geo_json_cf6cfad45866bf1abaf2939463817c63_onEachFeature(feature, layer) {\n",
       "            layer.on({\n",
       "            });\n",
       "        };\n",
       "        var geo_json_cf6cfad45866bf1abaf2939463817c63 = L.geoJson(null, {\n",
       "                onEachFeature: geo_json_cf6cfad45866bf1abaf2939463817c63_onEachFeature,\n",
       "            \n",
       "        });\n",
       "\n",
       "        function geo_json_cf6cfad45866bf1abaf2939463817c63_add (data) {\n",
       "            geo_json_cf6cfad45866bf1abaf2939463817c63\n",
       "                .addData(data);\n",
       "        }\n",
       "            geo_json_cf6cfad45866bf1abaf2939463817c63_add({&quot;coordinates&quot;: [[[13.92, 50.964], [13.92, 50.966], [13.925, 50.966], [13.925, 50.964], [13.92, 50.964]]], &quot;type&quot;: &quot;Polygon&quot;});\n",
       "\n",
       "        \n",
       "    \n",
       "            geo_json_cf6cfad45866bf1abaf2939463817c63.addTo(map_515ae4586abd5ad7b85ab9df9eecbc1a);\n",
       "        \n",
       "    \n",
       "            map_515ae4586abd5ad7b85ab9df9eecbc1a.fitBounds(\n",
       "                [[50.964, 13.92], [50.966, 13.925]],\n",
       "                {}\n",
       "            );\n",
       "        \n",
       "&lt;/script&gt;\n",
       "&lt;/html&gt;\" style=\"position:absolute;width:100%;height:100%;left:0;top:0;border:none !important;\" allowfullscreen webkitallowfullscreen mozallowfullscreen></iframe></div></div>"
      ],
      "text/plain": [
       "<folium.folium.Map at 0x14b848fe0>"
      ]
     },
     "execution_count": 5,
     "metadata": {},
     "output_type": "execute_result"
    }
   ],
   "source": [
    "import folium\n",
    "\n",
    "m = folium.Map(tiles=\"cartodbpositron\", crs=\"EPSG3857\", zoom_start=12, location=[50.965, 13.922])\n",
    "m.add_child(folium.GeoJson(polygon.as_geojson()))\n",
    "\n",
    "m.fit_bounds(m.get_bounds())\n",
    "m"
   ]
  },
  {
   "cell_type": "markdown",
   "id": "62ae3587df801000",
   "metadata": {
    "collapsed": false,
    "papermill": {
     "duration": 0.002375,
     "end_time": "2024-05-15T15:40:43.339170",
     "exception": false,
     "start_time": "2024-05-15T15:40:43.336795",
     "status": "completed"
    },
    "tags": []
   },
   "source": [
    "# Setup general head boundaries"
   ]
  },
  {
   "cell_type": "code",
   "execution_count": 6,
   "id": "53679913aee28ce9",
   "metadata": {
    "ExecuteTime": {
     "end_time": "2024-05-14T08:12:29.079206Z",
     "start_time": "2024-05-14T08:12:27.656177Z"
    },
    "collapsed": false,
    "execution": {
     "iopub.execute_input": "2024-05-15T15:40:43.344536Z",
     "iopub.status.busy": "2024-05-15T15:40:43.344350Z",
     "iopub.status.idle": "2024-05-15T15:40:44.311302Z",
     "shell.execute_reply": "2024-05-15T15:40:44.311071Z"
    },
    "papermill": {
     "duration": 0.970698,
     "end_time": "2024-05-15T15:40:44.312191",
     "exception": false,
     "start_time": "2024-05-15T15:40:43.341493",
     "status": "completed"
    },
    "tags": []
   },
   "outputs": [
    {
     "data": {
      "text/html": [
       "<div style=\"width:100%;\"><div style=\"position:relative;width:100%;height:0;padding-bottom:60%;\"><span style=\"color:#565656\">Make this Notebook Trusted to load map: File -> Trust Notebook</span><iframe srcdoc=\"&lt;!DOCTYPE html&gt;\n",
       "&lt;html&gt;\n",
       "&lt;head&gt;\n",
       "    \n",
       "    &lt;meta http-equiv=&quot;content-type&quot; content=&quot;text/html; charset=UTF-8&quot; /&gt;\n",
       "    \n",
       "        &lt;script&gt;\n",
       "            L_NO_TOUCH = false;\n",
       "            L_DISABLE_3D = false;\n",
       "        &lt;/script&gt;\n",
       "    \n",
       "    &lt;style&gt;html, body {width: 100%;height: 100%;margin: 0;padding: 0;}&lt;/style&gt;\n",
       "    &lt;style&gt;#map {position:absolute;top:0;bottom:0;right:0;left:0;}&lt;/style&gt;\n",
       "    &lt;script src=&quot;https://cdn.jsdelivr.net/npm/leaflet@1.9.3/dist/leaflet.js&quot;&gt;&lt;/script&gt;\n",
       "    &lt;script src=&quot;https://code.jquery.com/jquery-3.7.1.min.js&quot;&gt;&lt;/script&gt;\n",
       "    &lt;script src=&quot;https://cdn.jsdelivr.net/npm/bootstrap@5.2.2/dist/js/bootstrap.bundle.min.js&quot;&gt;&lt;/script&gt;\n",
       "    &lt;script src=&quot;https://cdnjs.cloudflare.com/ajax/libs/Leaflet.awesome-markers/2.0.2/leaflet.awesome-markers.js&quot;&gt;&lt;/script&gt;\n",
       "    &lt;link rel=&quot;stylesheet&quot; href=&quot;https://cdn.jsdelivr.net/npm/leaflet@1.9.3/dist/leaflet.css&quot;/&gt;\n",
       "    &lt;link rel=&quot;stylesheet&quot; href=&quot;https://cdn.jsdelivr.net/npm/bootstrap@5.2.2/dist/css/bootstrap.min.css&quot;/&gt;\n",
       "    &lt;link rel=&quot;stylesheet&quot; href=&quot;https://netdna.bootstrapcdn.com/bootstrap/3.0.0/css/bootstrap.min.css&quot;/&gt;\n",
       "    &lt;link rel=&quot;stylesheet&quot; href=&quot;https://cdn.jsdelivr.net/npm/@fortawesome/fontawesome-free@6.2.0/css/all.min.css&quot;/&gt;\n",
       "    &lt;link rel=&quot;stylesheet&quot; href=&quot;https://cdnjs.cloudflare.com/ajax/libs/Leaflet.awesome-markers/2.0.2/leaflet.awesome-markers.css&quot;/&gt;\n",
       "    &lt;link rel=&quot;stylesheet&quot; href=&quot;https://cdn.jsdelivr.net/gh/python-visualization/folium/folium/templates/leaflet.awesome.rotate.min.css&quot;/&gt;\n",
       "    \n",
       "            &lt;meta name=&quot;viewport&quot; content=&quot;width=device-width,\n",
       "                initial-scale=1.0, maximum-scale=1.0, user-scalable=no&quot; /&gt;\n",
       "            &lt;style&gt;\n",
       "                #map_515ae4586abd5ad7b85ab9df9eecbc1a {\n",
       "                    position: relative;\n",
       "                    width: 100.0%;\n",
       "                    height: 100.0%;\n",
       "                    left: 0.0%;\n",
       "                    top: 0.0%;\n",
       "                }\n",
       "                .leaflet-container { font-size: 1rem; }\n",
       "            &lt;/style&gt;\n",
       "        \n",
       "&lt;/head&gt;\n",
       "&lt;body&gt;\n",
       "    \n",
       "    \n",
       "            &lt;div class=&quot;folium-map&quot; id=&quot;map_515ae4586abd5ad7b85ab9df9eecbc1a&quot; &gt;&lt;/div&gt;\n",
       "        \n",
       "&lt;/body&gt;\n",
       "&lt;script&gt;\n",
       "    \n",
       "    \n",
       "            var map_515ae4586abd5ad7b85ab9df9eecbc1a = L.map(\n",
       "                &quot;map_515ae4586abd5ad7b85ab9df9eecbc1a&quot;,\n",
       "                {\n",
       "                    center: [50.965, 13.922],\n",
       "                    crs: L.CRS.EPSG3857,\n",
       "                    zoom: 12,\n",
       "                    zoomControl: true,\n",
       "                    preferCanvas: false,\n",
       "                }\n",
       "            );\n",
       "\n",
       "            \n",
       "\n",
       "        \n",
       "    \n",
       "            var tile_layer_73378ac13d9d1f4b77ce48b12c5aa6b2 = L.tileLayer(\n",
       "                &quot;https://{s}.basemaps.cartocdn.com/light_all/{z}/{x}/{y}{r}.png&quot;,\n",
       "                {&quot;attribution&quot;: &quot;\\u0026copy; \\u003ca href=\\&quot;https://www.openstreetmap.org/copyright\\&quot;\\u003eOpenStreetMap\\u003c/a\\u003e contributors \\u0026copy; \\u003ca href=\\&quot;https://carto.com/attributions\\&quot;\\u003eCARTO\\u003c/a\\u003e&quot;, &quot;detectRetina&quot;: false, &quot;maxNativeZoom&quot;: 20, &quot;maxZoom&quot;: 20, &quot;minZoom&quot;: 0, &quot;noWrap&quot;: false, &quot;opacity&quot;: 1, &quot;subdomains&quot;: &quot;abcd&quot;, &quot;tms&quot;: false}\n",
       "            );\n",
       "        \n",
       "    \n",
       "            tile_layer_73378ac13d9d1f4b77ce48b12c5aa6b2.addTo(map_515ae4586abd5ad7b85ab9df9eecbc1a);\n",
       "        \n",
       "    \n",
       "\n",
       "        function geo_json_cf6cfad45866bf1abaf2939463817c63_onEachFeature(feature, layer) {\n",
       "            layer.on({\n",
       "            });\n",
       "        };\n",
       "        var geo_json_cf6cfad45866bf1abaf2939463817c63 = L.geoJson(null, {\n",
       "                onEachFeature: geo_json_cf6cfad45866bf1abaf2939463817c63_onEachFeature,\n",
       "            \n",
       "        });\n",
       "\n",
       "        function geo_json_cf6cfad45866bf1abaf2939463817c63_add (data) {\n",
       "            geo_json_cf6cfad45866bf1abaf2939463817c63\n",
       "                .addData(data);\n",
       "        }\n",
       "            geo_json_cf6cfad45866bf1abaf2939463817c63_add({&quot;coordinates&quot;: [[[13.92, 50.964], [13.92, 50.966], [13.925, 50.966], [13.925, 50.964], [13.92, 50.964]]], &quot;type&quot;: &quot;Polygon&quot;});\n",
       "\n",
       "        \n",
       "    \n",
       "            geo_json_cf6cfad45866bf1abaf2939463817c63.addTo(map_515ae4586abd5ad7b85ab9df9eecbc1a);\n",
       "        \n",
       "    \n",
       "            map_515ae4586abd5ad7b85ab9df9eecbc1a.fitBounds(\n",
       "                [[50.964, 13.92], [50.966, 13.925]],\n",
       "                {}\n",
       "            );\n",
       "        \n",
       "    \n",
       "            tile_layer_73378ac13d9d1f4b77ce48b12c5aa6b2.addTo(map_515ae4586abd5ad7b85ab9df9eecbc1a);\n",
       "        \n",
       "    \n",
       "            geo_json_cf6cfad45866bf1abaf2939463817c63.addTo(map_515ae4586abd5ad7b85ab9df9eecbc1a);\n",
       "        \n",
       "    \n",
       "\n",
       "        function geo_json_3e589ccf86555f104066fe375015fb31_onEachFeature(feature, layer) {\n",
       "            layer.on({\n",
       "            });\n",
       "        };\n",
       "        var geo_json_3e589ccf86555f104066fe375015fb31 = L.geoJson(null, {\n",
       "                onEachFeature: geo_json_3e589ccf86555f104066fe375015fb31_onEachFeature,\n",
       "            \n",
       "        });\n",
       "\n",
       "        function geo_json_3e589ccf86555f104066fe375015fb31_add (data) {\n",
       "            geo_json_3e589ccf86555f104066fe375015fb31\n",
       "                .addData(data);\n",
       "        }\n",
       "            geo_json_3e589ccf86555f104066fe375015fb31_add({&quot;coordinates&quot;: [[13.92499, 50.966], [13.92499, 50.964]], &quot;type&quot;: &quot;LineString&quot;});\n",
       "\n",
       "        \n",
       "    \n",
       "            geo_json_3e589ccf86555f104066fe375015fb31.addTo(map_515ae4586abd5ad7b85ab9df9eecbc1a);\n",
       "        \n",
       "    \n",
       "\n",
       "        function geo_json_289a770b29b8bd6e92dd5b3febd56f91_onEachFeature(feature, layer) {\n",
       "            layer.on({\n",
       "            });\n",
       "        };\n",
       "        var geo_json_289a770b29b8bd6e92dd5b3febd56f91 = L.geoJson(null, {\n",
       "                onEachFeature: geo_json_289a770b29b8bd6e92dd5b3febd56f91_onEachFeature,\n",
       "            \n",
       "        });\n",
       "\n",
       "        function geo_json_289a770b29b8bd6e92dd5b3febd56f91_add (data) {\n",
       "            geo_json_289a770b29b8bd6e92dd5b3febd56f91\n",
       "                .addData(data);\n",
       "        }\n",
       "            geo_json_289a770b29b8bd6e92dd5b3febd56f91_add({&quot;geometries&quot;: [{&quot;coordinates&quot;: [[[13.92495, 50.965999999999994], [13.925000000000002, 50.965999999999994], [13.925000000000002, 50.965960000843815], [13.92495, 50.965960000843815], [13.92495, 50.965999999999994]]], &quot;type&quot;: &quot;Polygon&quot;}, {&quot;coordinates&quot;: [[[13.92495, 50.965960000843815], [13.925000000000002, 50.965960000843815], [13.925000000000002, 50.965920001653195], [13.92495, 50.965920001653195], [13.92495, 50.965960000843815]]], &quot;type&quot;: &quot;Polygon&quot;}, {&quot;coordinates&quot;: [[[13.92495, 50.965920001653195], [13.925000000000002, 50.965920001653195], [13.925000000000002, 50.965880002428136], [13.92495, 50.965880002428136], [13.92495, 50.965920001653195]]], &quot;type&quot;: &quot;Polygon&quot;}, {&quot;coordinates&quot;: [[[13.92495, 50.965880002428136], [13.925000000000002, 50.965880002428136], [13.925000000000002, 50.96584000316863], [13.92495, 50.96584000316863], [13.92495, 50.965880002428136]]], &quot;type&quot;: &quot;Polygon&quot;}, {&quot;coordinates&quot;: [[[13.92495, 50.96584000316863], [13.925000000000002, 50.96584000316863], [13.925000000000002, 50.96580000387468], [13.92495, 50.96580000387468], [13.92495, 50.96584000316863]]], &quot;type&quot;: &quot;Polygon&quot;}, {&quot;coordinates&quot;: [[[13.92495, 50.96580000387468], [13.925000000000002, 50.96580000387468], [13.925000000000002, 50.965760004546304], [13.92495, 50.965760004546304], [13.92495, 50.96580000387468]]], &quot;type&quot;: &quot;Polygon&quot;}, {&quot;coordinates&quot;: [[[13.92495, 50.965760004546304], [13.925000000000002, 50.965760004546304], [13.925000000000002, 50.96572000518347], [13.92495, 50.96572000518347], [13.92495, 50.965760004546304]]], &quot;type&quot;: &quot;Polygon&quot;}, {&quot;coordinates&quot;: [[[13.92495, 50.96572000518347], [13.925000000000002, 50.96572000518347], [13.925000000000002, 50.9656800057862], [13.92495, 50.9656800057862], [13.92495, 50.96572000518347]]], &quot;type&quot;: &quot;Polygon&quot;}, {&quot;coordinates&quot;: [[[13.92495, 50.9656800057862], [13.925000000000002, 50.9656800057862], [13.925000000000002, 50.9656400063545], [13.92495, 50.9656400063545], [13.92495, 50.9656800057862]]], &quot;type&quot;: &quot;Polygon&quot;}, {&quot;coordinates&quot;: [[[13.92495, 50.9656400063545], [13.925000000000002, 50.9656400063545], [13.925000000000002, 50.965600006888344], [13.92495, 50.965600006888344], [13.92495, 50.9656400063545]]], &quot;type&quot;: &quot;Polygon&quot;}, {&quot;coordinates&quot;: [[[13.92495, 50.965600006888344], [13.925000000000002, 50.965600006888344], [13.925000000000002, 50.965560007387744], [13.92495, 50.965560007387744], [13.92495, 50.965600006888344]]], &quot;type&quot;: &quot;Polygon&quot;}, {&quot;coordinates&quot;: [[[13.92495, 50.965560007387744], [13.925000000000002, 50.965560007387744], [13.925000000000002, 50.96552000785271], [13.92495, 50.96552000785271], [13.92495, 50.965560007387744]]], &quot;type&quot;: &quot;Polygon&quot;}, {&quot;coordinates&quot;: [[[13.92495, 50.96552000785271], [13.925000000000002, 50.96552000785271], [13.925000000000002, 50.96548000828324], [13.92495, 50.96548000828324], [13.92495, 50.96552000785271]]], &quot;type&quot;: &quot;Polygon&quot;}, {&quot;coordinates&quot;: [[[13.92495, 50.96548000828324], [13.925000000000002, 50.96548000828324], [13.925000000000002, 50.965440008679316], [13.92495, 50.965440008679316], [13.92495, 50.96548000828324]]], &quot;type&quot;: &quot;Polygon&quot;}, {&quot;coordinates&quot;: [[[13.92495, 50.965440008679316], [13.925000000000002, 50.965440008679316], [13.925000000000002, 50.965400009040955], [13.92495, 50.965400009040955], [13.92495, 50.965440008679316]]], &quot;type&quot;: &quot;Polygon&quot;}, {&quot;coordinates&quot;: [[[13.92495, 50.965400009040955], [13.925000000000002, 50.965400009040955], [13.925000000000002, 50.965360009368155], [13.92495, 50.965360009368155], [13.92495, 50.965400009040955]]], &quot;type&quot;: &quot;Polygon&quot;}, {&quot;coordinates&quot;: [[[13.92495, 50.965360009368155], [13.925000000000002, 50.965360009368155], [13.925000000000002, 50.96532000966091], [13.92495, 50.96532000966091], [13.92495, 50.965360009368155]]], &quot;type&quot;: &quot;Polygon&quot;}, {&quot;coordinates&quot;: [[[13.92495, 50.96532000966091], [13.925000000000002, 50.96532000966091], [13.925000000000002, 50.965280009919226], [13.92495, 50.965280009919226], [13.92495, 50.96532000966091]]], &quot;type&quot;: &quot;Polygon&quot;}, {&quot;coordinates&quot;: [[[13.92495, 50.965280009919226], [13.925000000000002, 50.965280009919226], [13.925000000000002, 50.96524001014309], [13.92495, 50.96524001014309], [13.92495, 50.965280009919226]]], &quot;type&quot;: &quot;Polygon&quot;}, {&quot;coordinates&quot;: [[[13.92495, 50.96524001014309], [13.925000000000002, 50.96524001014309], [13.925000000000002, 50.96520001033253], [13.92495, 50.96520001033253], [13.92495, 50.96524001014309]]], &quot;type&quot;: &quot;Polygon&quot;}, {&quot;coordinates&quot;: [[[13.92495, 50.96520001033253], [13.925000000000002, 50.96520001033253], [13.925000000000002, 50.965160010487516], [13.92495, 50.965160010487516], [13.92495, 50.96520001033253]]], &quot;type&quot;: &quot;Polygon&quot;}, {&quot;coordinates&quot;: [[[13.92495, 50.965160010487516], [13.925000000000002, 50.965160010487516], [13.925000000000002, 50.96512001060807], [13.92495, 50.96512001060807], [13.92495, 50.965160010487516]]], &quot;type&quot;: &quot;Polygon&quot;}, {&quot;coordinates&quot;: [[[13.92495, 50.96512001060807], [13.925000000000002, 50.96512001060807], [13.925000000000002, 50.96508001069417], [13.92495, 50.96508001069417], [13.92495, 50.96512001060807]]], &quot;type&quot;: &quot;Polygon&quot;}, {&quot;coordinates&quot;: [[[13.92495, 50.96508001069417], [13.925000000000002, 50.96508001069417], [13.925000000000002, 50.96504001074583], [13.92495, 50.96504001074583], [13.92495, 50.96508001069417]]], &quot;type&quot;: &quot;Polygon&quot;}, {&quot;coordinates&quot;: [[[13.92495, 50.96504001074583], [13.925000000000002, 50.96504001074583], [13.925000000000002, 50.96500001076305], [13.92495, 50.96500001076305], [13.92495, 50.96504001074583]]], &quot;type&quot;: &quot;Polygon&quot;}, {&quot;coordinates&quot;: [[[13.92495, 50.96500001076305], [13.925000000000002, 50.96500001076305], [13.925000000000002, 50.964960010745834], [13.92495, 50.964960010745834], [13.92495, 50.96500001076305]]], &quot;type&quot;: &quot;Polygon&quot;}, {&quot;coordinates&quot;: [[[13.92495, 50.964960010745834], [13.925000000000002, 50.964960010745834], [13.925000000000002, 50.96492001069418], [13.92495, 50.96492001069418], [13.92495, 50.964960010745834]]], &quot;type&quot;: &quot;Polygon&quot;}, {&quot;coordinates&quot;: [[[13.92495, 50.96492001069418], [13.925000000000002, 50.96492001069418], [13.925000000000002, 50.96488001060807], [13.92495, 50.96488001060807], [13.92495, 50.96492001069418]]], &quot;type&quot;: &quot;Polygon&quot;}, {&quot;coordinates&quot;: [[[13.92495, 50.96488001060807], [13.925000000000002, 50.96488001060807], [13.925000000000002, 50.96484001048752], [13.92495, 50.96484001048752], [13.92495, 50.96488001060807]]], &quot;type&quot;: &quot;Polygon&quot;}, {&quot;coordinates&quot;: [[[13.92495, 50.96484001048752], [13.925000000000002, 50.96484001048752], [13.925000000000002, 50.964800010332546], [13.92495, 50.964800010332546], [13.92495, 50.96484001048752]]], &quot;type&quot;: &quot;Polygon&quot;}, {&quot;coordinates&quot;: [[[13.92495, 50.964800010332546], [13.925000000000002, 50.964800010332546], [13.925000000000002, 50.96476001014311], [13.92495, 50.96476001014311], [13.92495, 50.964800010332546]]], &quot;type&quot;: &quot;Polygon&quot;}, {&quot;coordinates&quot;: [[[13.92495, 50.96476001014311], [13.925000000000002, 50.96476001014311], [13.925000000000002, 50.96472000991924], [13.92495, 50.96472000991924], [13.92495, 50.96476001014311]]], &quot;type&quot;: &quot;Polygon&quot;}, {&quot;coordinates&quot;: [[[13.92495, 50.96472000991924], [13.925000000000002, 50.96472000991924], [13.925000000000002, 50.964680009660924], [13.92495, 50.964680009660924], [13.92495, 50.96472000991924]]], &quot;type&quot;: &quot;Polygon&quot;}, {&quot;coordinates&quot;: [[[13.92495, 50.964680009660924], [13.925000000000002, 50.964680009660924], [13.925000000000002, 50.96464000936817], [13.92495, 50.96464000936817], [13.92495, 50.964680009660924]]], &quot;type&quot;: &quot;Polygon&quot;}, {&quot;coordinates&quot;: [[[13.92495, 50.96464000936817], [13.925000000000002, 50.96464000936817], [13.925000000000002, 50.96460000904097], [13.92495, 50.96460000904097], [13.92495, 50.96464000936817]]], &quot;type&quot;: &quot;Polygon&quot;}, {&quot;coordinates&quot;: [[[13.92495, 50.96460000904097], [13.925000000000002, 50.96460000904097], [13.925000000000002, 50.96456000867934], [13.92495, 50.96456000867934], [13.92495, 50.96460000904097]]], &quot;type&quot;: &quot;Polygon&quot;}, {&quot;coordinates&quot;: [[[13.92495, 50.96456000867934], [13.925000000000002, 50.96456000867934], [13.925000000000002, 50.96452000828325], [13.92495, 50.96452000828325], [13.92495, 50.96456000867934]]], &quot;type&quot;: &quot;Polygon&quot;}, {&quot;coordinates&quot;: [[[13.92495, 50.96452000828325], [13.925000000000002, 50.96452000828325], [13.925000000000002, 50.964480007852735], [13.92495, 50.964480007852735], [13.92495, 50.96452000828325]]], &quot;type&quot;: &quot;Polygon&quot;}, {&quot;coordinates&quot;: [[[13.92495, 50.964480007852735], [13.925000000000002, 50.964480007852735], [13.925000000000002, 50.96444000738777], [13.92495, 50.96444000738777], [13.92495, 50.964480007852735]]], &quot;type&quot;: &quot;Polygon&quot;}, {&quot;coordinates&quot;: [[[13.92495, 50.96444000738777], [13.925000000000002, 50.96444000738777], [13.925000000000002, 50.96440000688836], [13.92495, 50.96440000688836], [13.92495, 50.96444000738777]]], &quot;type&quot;: &quot;Polygon&quot;}, {&quot;coordinates&quot;: [[[13.92495, 50.96440000688836], [13.925000000000002, 50.96440000688836], [13.925000000000002, 50.96436000635452], [13.92495, 50.96436000635452], [13.92495, 50.96440000688836]]], &quot;type&quot;: &quot;Polygon&quot;}, {&quot;coordinates&quot;: [[[13.92495, 50.96436000635452], [13.925000000000002, 50.96436000635452], [13.925000000000002, 50.96432000578623], [13.92495, 50.96432000578623], [13.92495, 50.96436000635452]]], &quot;type&quot;: &quot;Polygon&quot;}, {&quot;coordinates&quot;: [[[13.92495, 50.96432000578623], [13.925000000000002, 50.96432000578623], [13.925000000000002, 50.9642800051835], [13.92495, 50.9642800051835], [13.92495, 50.96432000578623]]], &quot;type&quot;: &quot;Polygon&quot;}, {&quot;coordinates&quot;: [[[13.92495, 50.9642800051835], [13.925000000000002, 50.9642800051835], [13.925000000000002, 50.96424000454632], [13.92495, 50.96424000454632], [13.92495, 50.9642800051835]]], &quot;type&quot;: &quot;Polygon&quot;}, {&quot;coordinates&quot;: [[[13.92495, 50.96424000454632], [13.925000000000002, 50.96424000454632], [13.925000000000002, 50.96420000387471], [13.92495, 50.96420000387471], [13.92495, 50.96424000454632]]], &quot;type&quot;: &quot;Polygon&quot;}, {&quot;coordinates&quot;: [[[13.92495, 50.96420000387471], [13.925000000000002, 50.96420000387471], [13.925000000000002, 50.964160003168644], [13.92495, 50.964160003168644], [13.92495, 50.96420000387471]]], &quot;type&quot;: &quot;Polygon&quot;}, {&quot;coordinates&quot;: [[[13.92495, 50.964160003168644], [13.925000000000002, 50.964160003168644], [13.925000000000002, 50.964120002428146], [13.92495, 50.964120002428146], [13.92495, 50.964160003168644]]], &quot;type&quot;: &quot;Polygon&quot;}, {&quot;coordinates&quot;: [[[13.92495, 50.964120002428146], [13.925000000000002, 50.964120002428146], [13.925000000000002, 50.96408000165321], [13.92495, 50.96408000165321], [13.92495, 50.964120002428146]]], &quot;type&quot;: &quot;Polygon&quot;}, {&quot;coordinates&quot;: [[[13.92495, 50.96408000165321], [13.925000000000002, 50.96408000165321], [13.925000000000002, 50.964040000843816], [13.92495, 50.964040000843816], [13.92495, 50.96408000165321]]], &quot;type&quot;: &quot;Polygon&quot;}, {&quot;coordinates&quot;: [[[13.92495, 50.964040000843816], [13.925000000000002, 50.964040000843816], [13.925000000000002, 50.96399999999999], [13.92495, 50.96399999999999], [13.92495, 50.964040000843816]]], &quot;type&quot;: &quot;Polygon&quot;}], &quot;type&quot;: &quot;GeometryCollection&quot;});\n",
       "\n",
       "        \n",
       "    \n",
       "            geo_json_289a770b29b8bd6e92dd5b3febd56f91.addTo(map_515ae4586abd5ad7b85ab9df9eecbc1a);\n",
       "        \n",
       "    \n",
       "\n",
       "        function geo_json_6ee5b634b732efbb27b371cb1d1dbfda_onEachFeature(feature, layer) {\n",
       "            layer.on({\n",
       "            });\n",
       "        };\n",
       "        var geo_json_6ee5b634b732efbb27b371cb1d1dbfda = L.geoJson(null, {\n",
       "                onEachFeature: geo_json_6ee5b634b732efbb27b371cb1d1dbfda_onEachFeature,\n",
       "            \n",
       "        });\n",
       "\n",
       "        function geo_json_6ee5b634b732efbb27b371cb1d1dbfda_add (data) {\n",
       "            geo_json_6ee5b634b732efbb27b371cb1d1dbfda\n",
       "                .addData(data);\n",
       "        }\n",
       "            geo_json_6ee5b634b732efbb27b371cb1d1dbfda_add({&quot;coordinates&quot;: [13.92499, 50.966], &quot;type&quot;: &quot;Point&quot;});\n",
       "\n",
       "        \n",
       "    \n",
       "            geo_json_6ee5b634b732efbb27b371cb1d1dbfda.addTo(map_515ae4586abd5ad7b85ab9df9eecbc1a);\n",
       "        \n",
       "    \n",
       "\n",
       "        function geo_json_bf71b70997134f7c5bf933b9b19375f1_onEachFeature(feature, layer) {\n",
       "            layer.on({\n",
       "            });\n",
       "        };\n",
       "        var geo_json_bf71b70997134f7c5bf933b9b19375f1 = L.geoJson(null, {\n",
       "                onEachFeature: geo_json_bf71b70997134f7c5bf933b9b19375f1_onEachFeature,\n",
       "            \n",
       "        });\n",
       "\n",
       "        function geo_json_bf71b70997134f7c5bf933b9b19375f1_add (data) {\n",
       "            geo_json_bf71b70997134f7c5bf933b9b19375f1\n",
       "                .addData(data);\n",
       "        }\n",
       "            geo_json_bf71b70997134f7c5bf933b9b19375f1_add({&quot;coordinates&quot;: [[13.92004, 50.96401], [13.92004, 50.96599]], &quot;type&quot;: &quot;LineString&quot;});\n",
       "\n",
       "        \n",
       "    \n",
       "            geo_json_bf71b70997134f7c5bf933b9b19375f1.addTo(map_515ae4586abd5ad7b85ab9df9eecbc1a);\n",
       "        \n",
       "    \n",
       "\n",
       "        function geo_json_8407fe1601f0f0315fd1da8e7942c9cc_onEachFeature(feature, layer) {\n",
       "            layer.on({\n",
       "            });\n",
       "        };\n",
       "        var geo_json_8407fe1601f0f0315fd1da8e7942c9cc = L.geoJson(null, {\n",
       "                onEachFeature: geo_json_8407fe1601f0f0315fd1da8e7942c9cc_onEachFeature,\n",
       "            \n",
       "        });\n",
       "\n",
       "        function geo_json_8407fe1601f0f0315fd1da8e7942c9cc_add (data) {\n",
       "            geo_json_8407fe1601f0f0315fd1da8e7942c9cc\n",
       "                .addData(data);\n",
       "        }\n",
       "            geo_json_8407fe1601f0f0315fd1da8e7942c9cc_add({&quot;geometries&quot;: [{&quot;coordinates&quot;: [[[13.920000000000002, 50.965999999999994], [13.920050000000002, 50.965999999999994], [13.920050000000002, 50.965960000843815], [13.920000000000002, 50.965960000843815], [13.920000000000002, 50.965999999999994]]], &quot;type&quot;: &quot;Polygon&quot;}, {&quot;coordinates&quot;: [[[13.920000000000002, 50.965960000843815], [13.920050000000002, 50.965960000843815], [13.920050000000002, 50.965920001653195], [13.920000000000002, 50.965920001653195], [13.920000000000002, 50.965960000843815]]], &quot;type&quot;: &quot;Polygon&quot;}, {&quot;coordinates&quot;: [[[13.920000000000002, 50.965920001653195], [13.920050000000002, 50.965920001653195], [13.920050000000002, 50.965880002428136], [13.920000000000002, 50.965880002428136], [13.920000000000002, 50.965920001653195]]], &quot;type&quot;: &quot;Polygon&quot;}, {&quot;coordinates&quot;: [[[13.920000000000002, 50.965880002428136], [13.920050000000002, 50.965880002428136], [13.920050000000002, 50.96584000316863], [13.920000000000002, 50.96584000316863], [13.920000000000002, 50.965880002428136]]], &quot;type&quot;: &quot;Polygon&quot;}, {&quot;coordinates&quot;: [[[13.920000000000002, 50.96584000316863], [13.920050000000002, 50.96584000316863], [13.920050000000002, 50.96580000387468], [13.920000000000002, 50.96580000387468], [13.920000000000002, 50.96584000316863]]], &quot;type&quot;: &quot;Polygon&quot;}, {&quot;coordinates&quot;: [[[13.920000000000002, 50.96580000387468], [13.920050000000002, 50.96580000387468], [13.920050000000002, 50.965760004546304], [13.920000000000002, 50.965760004546304], [13.920000000000002, 50.96580000387468]]], &quot;type&quot;: &quot;Polygon&quot;}, {&quot;coordinates&quot;: [[[13.920000000000002, 50.965760004546304], [13.920050000000002, 50.965760004546304], [13.920050000000002, 50.96572000518347], [13.920000000000002, 50.96572000518347], [13.920000000000002, 50.965760004546304]]], &quot;type&quot;: &quot;Polygon&quot;}, {&quot;coordinates&quot;: [[[13.920000000000002, 50.96572000518347], [13.920050000000002, 50.96572000518347], [13.920050000000002, 50.9656800057862], [13.920000000000002, 50.9656800057862], [13.920000000000002, 50.96572000518347]]], &quot;type&quot;: &quot;Polygon&quot;}, {&quot;coordinates&quot;: [[[13.920000000000002, 50.9656800057862], [13.920050000000002, 50.9656800057862], [13.920050000000002, 50.9656400063545], [13.920000000000002, 50.9656400063545], [13.920000000000002, 50.9656800057862]]], &quot;type&quot;: &quot;Polygon&quot;}, {&quot;coordinates&quot;: [[[13.920000000000002, 50.9656400063545], [13.920050000000002, 50.9656400063545], [13.920050000000002, 50.965600006888344], [13.920000000000002, 50.965600006888344], [13.920000000000002, 50.9656400063545]]], &quot;type&quot;: &quot;Polygon&quot;}, {&quot;coordinates&quot;: [[[13.920000000000002, 50.965600006888344], [13.920050000000002, 50.965600006888344], [13.920050000000002, 50.965560007387744], [13.920000000000002, 50.965560007387744], [13.920000000000002, 50.965600006888344]]], &quot;type&quot;: &quot;Polygon&quot;}, {&quot;coordinates&quot;: [[[13.920000000000002, 50.965560007387744], [13.920050000000002, 50.965560007387744], [13.920050000000002, 50.96552000785271], [13.920000000000002, 50.96552000785271], [13.920000000000002, 50.965560007387744]]], &quot;type&quot;: &quot;Polygon&quot;}, {&quot;coordinates&quot;: [[[13.920000000000002, 50.96552000785271], [13.920050000000002, 50.96552000785271], [13.920050000000002, 50.96548000828324], [13.920000000000002, 50.96548000828324], [13.920000000000002, 50.96552000785271]]], &quot;type&quot;: &quot;Polygon&quot;}, {&quot;coordinates&quot;: [[[13.920000000000002, 50.96548000828324], [13.920050000000002, 50.96548000828324], [13.920050000000002, 50.965440008679316], [13.920000000000002, 50.965440008679316], [13.920000000000002, 50.96548000828324]]], &quot;type&quot;: &quot;Polygon&quot;}, {&quot;coordinates&quot;: [[[13.920000000000002, 50.965440008679316], [13.920050000000002, 50.965440008679316], [13.920050000000002, 50.965400009040955], [13.920000000000002, 50.965400009040955], [13.920000000000002, 50.965440008679316]]], &quot;type&quot;: &quot;Polygon&quot;}, {&quot;coordinates&quot;: [[[13.920000000000002, 50.965400009040955], [13.920050000000002, 50.965400009040955], [13.920050000000002, 50.965360009368155], [13.920000000000002, 50.965360009368155], [13.920000000000002, 50.965400009040955]]], &quot;type&quot;: &quot;Polygon&quot;}, {&quot;coordinates&quot;: [[[13.920000000000002, 50.965360009368155], [13.920050000000002, 50.965360009368155], [13.920050000000002, 50.96532000966091], [13.920000000000002, 50.96532000966091], [13.920000000000002, 50.965360009368155]]], &quot;type&quot;: &quot;Polygon&quot;}, {&quot;coordinates&quot;: [[[13.920000000000002, 50.96532000966091], [13.920050000000002, 50.96532000966091], [13.920050000000002, 50.965280009919226], [13.920000000000002, 50.965280009919226], [13.920000000000002, 50.96532000966091]]], &quot;type&quot;: &quot;Polygon&quot;}, {&quot;coordinates&quot;: [[[13.920000000000002, 50.965280009919226], [13.920050000000002, 50.965280009919226], [13.920050000000002, 50.96524001014309], [13.920000000000002, 50.96524001014309], [13.920000000000002, 50.965280009919226]]], &quot;type&quot;: &quot;Polygon&quot;}, {&quot;coordinates&quot;: [[[13.920000000000002, 50.96524001014309], [13.920050000000002, 50.96524001014309], [13.920050000000002, 50.96520001033253], [13.920000000000002, 50.96520001033253], [13.920000000000002, 50.96524001014309]]], &quot;type&quot;: &quot;Polygon&quot;}, {&quot;coordinates&quot;: [[[13.920000000000002, 50.96520001033253], [13.920050000000002, 50.96520001033253], [13.920050000000002, 50.965160010487516], [13.920000000000002, 50.965160010487516], [13.920000000000002, 50.96520001033253]]], &quot;type&quot;: &quot;Polygon&quot;}, {&quot;coordinates&quot;: [[[13.920000000000002, 50.965160010487516], [13.920050000000002, 50.965160010487516], [13.920050000000002, 50.96512001060807], [13.920000000000002, 50.96512001060807], [13.920000000000002, 50.965160010487516]]], &quot;type&quot;: &quot;Polygon&quot;}, {&quot;coordinates&quot;: [[[13.920000000000002, 50.96512001060807], [13.920050000000002, 50.96512001060807], [13.920050000000002, 50.96508001069417], [13.920000000000002, 50.96508001069417], [13.920000000000002, 50.96512001060807]]], &quot;type&quot;: &quot;Polygon&quot;}, {&quot;coordinates&quot;: [[[13.920000000000002, 50.96508001069417], [13.920050000000002, 50.96508001069417], [13.920050000000002, 50.96504001074583], [13.920000000000002, 50.96504001074583], [13.920000000000002, 50.96508001069417]]], &quot;type&quot;: &quot;Polygon&quot;}, {&quot;coordinates&quot;: [[[13.920000000000002, 50.96504001074583], [13.920050000000002, 50.96504001074583], [13.920050000000002, 50.96500001076305], [13.920000000000002, 50.96500001076305], [13.920000000000002, 50.96504001074583]]], &quot;type&quot;: &quot;Polygon&quot;}, {&quot;coordinates&quot;: [[[13.920000000000002, 50.96500001076305], [13.920050000000002, 50.96500001076305], [13.920050000000002, 50.964960010745834], [13.920000000000002, 50.964960010745834], [13.920000000000002, 50.96500001076305]]], &quot;type&quot;: &quot;Polygon&quot;}, {&quot;coordinates&quot;: [[[13.920000000000002, 50.964960010745834], [13.920050000000002, 50.964960010745834], [13.920050000000002, 50.96492001069418], [13.920000000000002, 50.96492001069418], [13.920000000000002, 50.964960010745834]]], &quot;type&quot;: &quot;Polygon&quot;}, {&quot;coordinates&quot;: [[[13.920000000000002, 50.96492001069418], [13.920050000000002, 50.96492001069418], [13.920050000000002, 50.96488001060807], [13.920000000000002, 50.96488001060807], [13.920000000000002, 50.96492001069418]]], &quot;type&quot;: &quot;Polygon&quot;}, {&quot;coordinates&quot;: [[[13.920000000000002, 50.96488001060807], [13.920050000000002, 50.96488001060807], [13.920050000000002, 50.96484001048752], [13.920000000000002, 50.96484001048752], [13.920000000000002, 50.96488001060807]]], &quot;type&quot;: &quot;Polygon&quot;}, {&quot;coordinates&quot;: [[[13.920000000000002, 50.96484001048752], [13.920050000000002, 50.96484001048752], [13.920050000000002, 50.964800010332546], [13.920000000000002, 50.964800010332546], [13.920000000000002, 50.96484001048752]]], &quot;type&quot;: &quot;Polygon&quot;}, {&quot;coordinates&quot;: [[[13.920000000000002, 50.964800010332546], [13.920050000000002, 50.964800010332546], [13.920050000000002, 50.96476001014311], [13.920000000000002, 50.96476001014311], [13.920000000000002, 50.964800010332546]]], &quot;type&quot;: &quot;Polygon&quot;}, {&quot;coordinates&quot;: [[[13.920000000000002, 50.96476001014311], [13.920050000000002, 50.96476001014311], [13.920050000000002, 50.96472000991924], [13.920000000000002, 50.96472000991924], [13.920000000000002, 50.96476001014311]]], &quot;type&quot;: &quot;Polygon&quot;}, {&quot;coordinates&quot;: [[[13.920000000000002, 50.96472000991924], [13.920050000000002, 50.96472000991924], [13.920050000000002, 50.964680009660924], [13.920000000000002, 50.964680009660924], [13.920000000000002, 50.96472000991924]]], &quot;type&quot;: &quot;Polygon&quot;}, {&quot;coordinates&quot;: [[[13.920000000000002, 50.964680009660924], [13.920050000000002, 50.964680009660924], [13.920050000000002, 50.96464000936817], [13.920000000000002, 50.96464000936817], [13.920000000000002, 50.964680009660924]]], &quot;type&quot;: &quot;Polygon&quot;}, {&quot;coordinates&quot;: [[[13.920000000000002, 50.96464000936817], [13.920050000000002, 50.96464000936817], [13.920050000000002, 50.96460000904097], [13.920000000000002, 50.96460000904097], [13.920000000000002, 50.96464000936817]]], &quot;type&quot;: &quot;Polygon&quot;}, {&quot;coordinates&quot;: [[[13.920000000000002, 50.96460000904097], [13.920050000000002, 50.96460000904097], [13.920050000000002, 50.96456000867934], [13.920000000000002, 50.96456000867934], [13.920000000000002, 50.96460000904097]]], &quot;type&quot;: &quot;Polygon&quot;}, {&quot;coordinates&quot;: [[[13.920000000000002, 50.96456000867934], [13.920050000000002, 50.96456000867934], [13.920050000000002, 50.96452000828325], [13.920000000000002, 50.96452000828325], [13.920000000000002, 50.96456000867934]]], &quot;type&quot;: &quot;Polygon&quot;}, {&quot;coordinates&quot;: [[[13.920000000000002, 50.96452000828325], [13.920050000000002, 50.96452000828325], [13.920050000000002, 50.964480007852735], [13.920000000000002, 50.964480007852735], [13.920000000000002, 50.96452000828325]]], &quot;type&quot;: &quot;Polygon&quot;}, {&quot;coordinates&quot;: [[[13.920000000000002, 50.964480007852735], [13.920050000000002, 50.964480007852735], [13.920050000000002, 50.96444000738777], [13.920000000000002, 50.96444000738777], [13.920000000000002, 50.964480007852735]]], &quot;type&quot;: &quot;Polygon&quot;}, {&quot;coordinates&quot;: [[[13.920000000000002, 50.96444000738777], [13.920050000000002, 50.96444000738777], [13.920050000000002, 50.96440000688836], [13.920000000000002, 50.96440000688836], [13.920000000000002, 50.96444000738777]]], &quot;type&quot;: &quot;Polygon&quot;}, {&quot;coordinates&quot;: [[[13.920000000000002, 50.96440000688836], [13.920050000000002, 50.96440000688836], [13.920050000000002, 50.96436000635452], [13.920000000000002, 50.96436000635452], [13.920000000000002, 50.96440000688836]]], &quot;type&quot;: &quot;Polygon&quot;}, {&quot;coordinates&quot;: [[[13.920000000000002, 50.96436000635452], [13.920050000000002, 50.96436000635452], [13.920050000000002, 50.96432000578623], [13.920000000000002, 50.96432000578623], [13.920000000000002, 50.96436000635452]]], &quot;type&quot;: &quot;Polygon&quot;}, {&quot;coordinates&quot;: [[[13.920000000000002, 50.96432000578623], [13.920050000000002, 50.96432000578623], [13.920050000000002, 50.9642800051835], [13.920000000000002, 50.9642800051835], [13.920000000000002, 50.96432000578623]]], &quot;type&quot;: &quot;Polygon&quot;}, {&quot;coordinates&quot;: [[[13.920000000000002, 50.9642800051835], [13.920050000000002, 50.9642800051835], [13.920050000000002, 50.96424000454632], [13.920000000000002, 50.96424000454632], [13.920000000000002, 50.9642800051835]]], &quot;type&quot;: &quot;Polygon&quot;}, {&quot;coordinates&quot;: [[[13.920000000000002, 50.96424000454632], [13.920050000000002, 50.96424000454632], [13.920050000000002, 50.96420000387471], [13.920000000000002, 50.96420000387471], [13.920000000000002, 50.96424000454632]]], &quot;type&quot;: &quot;Polygon&quot;}, {&quot;coordinates&quot;: [[[13.920000000000002, 50.96420000387471], [13.920050000000002, 50.96420000387471], [13.920050000000002, 50.964160003168644], [13.920000000000002, 50.964160003168644], [13.920000000000002, 50.96420000387471]]], &quot;type&quot;: &quot;Polygon&quot;}, {&quot;coordinates&quot;: [[[13.920000000000002, 50.964160003168644], [13.920050000000002, 50.964160003168644], [13.920050000000002, 50.964120002428146], [13.920000000000002, 50.964120002428146], [13.920000000000002, 50.964160003168644]]], &quot;type&quot;: &quot;Polygon&quot;}, {&quot;coordinates&quot;: [[[13.920000000000002, 50.964120002428146], [13.920050000000002, 50.964120002428146], [13.920050000000002, 50.96408000165321], [13.920000000000002, 50.96408000165321], [13.920000000000002, 50.964120002428146]]], &quot;type&quot;: &quot;Polygon&quot;}, {&quot;coordinates&quot;: [[[13.920000000000002, 50.96408000165321], [13.920050000000002, 50.96408000165321], [13.920050000000002, 50.964040000843816], [13.920000000000002, 50.964040000843816], [13.920000000000002, 50.96408000165321]]], &quot;type&quot;: &quot;Polygon&quot;}, {&quot;coordinates&quot;: [[[13.920000000000002, 50.964040000843816], [13.920050000000002, 50.964040000843816], [13.920050000000002, 50.96399999999999], [13.920000000000002, 50.96399999999999], [13.920000000000002, 50.964040000843816]]], &quot;type&quot;: &quot;Polygon&quot;}], &quot;type&quot;: &quot;GeometryCollection&quot;});\n",
       "\n",
       "        \n",
       "    \n",
       "            geo_json_8407fe1601f0f0315fd1da8e7942c9cc.addTo(map_515ae4586abd5ad7b85ab9df9eecbc1a);\n",
       "        \n",
       "    \n",
       "\n",
       "        function geo_json_432c8960ded1d9e6204e02d02995bfef_onEachFeature(feature, layer) {\n",
       "            layer.on({\n",
       "            });\n",
       "        };\n",
       "        var geo_json_432c8960ded1d9e6204e02d02995bfef = L.geoJson(null, {\n",
       "                onEachFeature: geo_json_432c8960ded1d9e6204e02d02995bfef_onEachFeature,\n",
       "            \n",
       "        });\n",
       "\n",
       "        function geo_json_432c8960ded1d9e6204e02d02995bfef_add (data) {\n",
       "            geo_json_432c8960ded1d9e6204e02d02995bfef\n",
       "                .addData(data);\n",
       "        }\n",
       "            geo_json_432c8960ded1d9e6204e02d02995bfef_add({&quot;coordinates&quot;: [13.92004, 50.96599], &quot;type&quot;: &quot;Point&quot;});\n",
       "\n",
       "        \n",
       "    \n",
       "            geo_json_432c8960ded1d9e6204e02d02995bfef.addTo(map_515ae4586abd5ad7b85ab9df9eecbc1a);\n",
       "        \n",
       "    \n",
       "            map_515ae4586abd5ad7b85ab9df9eecbc1a.fitBounds(\n",
       "                [[50.964, 13.92], [50.966, 13.925000000000002]],\n",
       "                {}\n",
       "            );\n",
       "        \n",
       "&lt;/script&gt;\n",
       "&lt;/html&gt;\" style=\"position:absolute;width:100%;height:100%;left:0;top:0;border:none !important;\" allowfullscreen webkitallowfullscreen mozallowfullscreen></iframe></div></div>"
      ],
      "text/plain": [
       "<folium.folium.Map at 0x14b848fe0>"
      ]
     },
     "execution_count": 6,
     "metadata": {},
     "output_type": "execute_result"
    }
   ],
   "source": [
    "from morpheus.project.types.boundaries.GeneralHeadObservation import ObservationId, ObservationName, GeneralHeadRawDataItem, \\\n",
    "  GeneralHeadObservation, Stage, Conductance\n",
    "from morpheus.project.types.geometry import Point\n",
    "from morpheus.project.types.boundaries.Boundary import BoundaryName, BoundaryCollection\n",
    "from morpheus.project.types.layers import LayerId\n",
    "from morpheus.project.types.boundaries.Boundary import GeneralHeadBoundary\n",
    "\n",
    "layers_list = [LayerId.new()]\n",
    "\n",
    "general_head_east = GeneralHeadBoundary.from_geometry(\n",
    "  name=BoundaryName('general_head_east'),\n",
    "  geometry=LineString([\n",
    "    (13.92499, 50.966),\n",
    "    (13.92499, 50.964),\n",
    "  ]),\n",
    "  grid=grid,\n",
    "  affected_layers=[model.layers[0].layer_id],\n",
    "  observations=[\n",
    "    GeneralHeadObservation(\n",
    "      observation_id=ObservationId.new(),\n",
    "      observation_name=ObservationName.default(),\n",
    "      geometry=Point((13.92499, 50.966)),\n",
    "      data=[\n",
    "        GeneralHeadRawDataItem(\n",
    "          date_time=StartDateTime.from_datetime(datetime(2019, 1, 1)),\n",
    "          stage=Stage.from_float(100),\n",
    "          conductance=Conductance.from_float(100),\n",
    "        ),\n",
    "        GeneralHeadRawDataItem(\n",
    "          date_time=StartDateTime.from_datetime(datetime(2021, 12, 31)),\n",
    "          stage=Stage.from_float(100),\n",
    "          conductance=Conductance.from_float(100),\n",
    "        ),\n",
    "      ]\n",
    "    ),\n",
    "  ]\n",
    ")\n",
    "\n",
    "general_head_west = GeneralHeadBoundary.from_geometry(\n",
    "  name=BoundaryName('general_head_west'),\n",
    "  geometry=LineString([\n",
    "    (13.92004, 50.96401),\n",
    "    (13.92004, 50.96599),\n",
    "  ]),\n",
    "  grid=grid,\n",
    "  affected_layers=[model.layers[0].layer_id],\n",
    "  observations=[\n",
    "    GeneralHeadObservation(\n",
    "      observation_id=ObservationId.new(),\n",
    "      observation_name=ObservationName.default(),\n",
    "      geometry=Point((13.92004, 50.96599)),\n",
    "      data=[\n",
    "        GeneralHeadRawDataItem(\n",
    "          date_time=StartDateTime.from_datetime(datetime(2019, 1, 1)),\n",
    "          stage=Stage.from_float(120),\n",
    "          conductance=Conductance.from_float(300),\n",
    "        ),\n",
    "        GeneralHeadRawDataItem(\n",
    "          date_time=StartDateTime.from_datetime(datetime(2021, 12, 31)),\n",
    "          stage=Stage.from_float(120),\n",
    "          conductance=Conductance.from_float(300),\n",
    "        ),\n",
    "      ]\n",
    "    ),\n",
    "  ]\n",
    ")\n",
    "\n",
    "boundary_collection = BoundaryCollection.new()\n",
    "boundary_collection.add_boundary(general_head_west)\n",
    "boundary_collection.add_boundary(general_head_east)\n",
    "\n",
    "model = model.with_updated_boundaries(boundaries=boundary_collection)\n",
    "\n",
    "m.add_child(folium.GeoJson(general_head_east.as_geojson()))\n",
    "m.add_child(folium.GeoJson(general_head_east.affected_cells.to_geojson(grid).as_geojson()))\n",
    "for observation in general_head_east.observations:\n",
    "  m.add_child(folium.GeoJson(observation.as_geojson()))\n",
    "\n",
    "m.add_child(folium.GeoJson(general_head_west.as_geojson()))\n",
    "m.add_child(folium.GeoJson(general_head_west.affected_cells.to_geojson(grid).as_geojson()))\n",
    "for observation in general_head_west.observations:\n",
    "  m.add_child(folium.GeoJson(observation.as_geojson()))\n",
    "m.fit_bounds(m.get_bounds())\n",
    "m"
   ]
  },
  {
   "cell_type": "markdown",
   "id": "c77083343e8d9b41",
   "metadata": {
    "collapsed": false,
    "papermill": {
     "duration": 0.002648,
     "end_time": "2024-05-15T15:40:44.317674",
     "exception": false,
     "start_time": "2024-05-15T15:40:44.315026",
     "status": "completed"
    },
    "tags": []
   },
   "source": [
    "# Setup Head Observations"
   ]
  },
  {
   "cell_type": "code",
   "execution_count": 7,
   "id": "b51fc5e6c932e70a",
   "metadata": {
    "ExecuteTime": {
     "end_time": "2024-05-14T08:12:30.225516Z",
     "start_time": "2024-05-14T08:12:29.079976Z"
    },
    "collapsed": false,
    "execution": {
     "iopub.execute_input": "2024-05-15T15:40:44.323555Z",
     "iopub.status.busy": "2024-05-15T15:40:44.323398Z",
     "iopub.status.idle": "2024-05-15T15:40:45.165890Z",
     "shell.execute_reply": "2024-05-15T15:40:45.165592Z"
    },
    "papermill": {
     "duration": 0.846404,
     "end_time": "2024-05-15T15:40:45.166735",
     "exception": false,
     "start_time": "2024-05-15T15:40:44.320331",
     "status": "completed"
    },
    "tags": []
   },
   "outputs": [
    {
     "data": {
      "text/html": [
       "<div style=\"width:100%;\"><div style=\"position:relative;width:100%;height:0;padding-bottom:60%;\"><span style=\"color:#565656\">Make this Notebook Trusted to load map: File -> Trust Notebook</span><iframe srcdoc=\"&lt;!DOCTYPE html&gt;\n",
       "&lt;html&gt;\n",
       "&lt;head&gt;\n",
       "    \n",
       "    &lt;meta http-equiv=&quot;content-type&quot; content=&quot;text/html; charset=UTF-8&quot; /&gt;\n",
       "    \n",
       "        &lt;script&gt;\n",
       "            L_NO_TOUCH = false;\n",
       "            L_DISABLE_3D = false;\n",
       "        &lt;/script&gt;\n",
       "    \n",
       "    &lt;style&gt;html, body {width: 100%;height: 100%;margin: 0;padding: 0;}&lt;/style&gt;\n",
       "    &lt;style&gt;#map {position:absolute;top:0;bottom:0;right:0;left:0;}&lt;/style&gt;\n",
       "    &lt;script src=&quot;https://cdn.jsdelivr.net/npm/leaflet@1.9.3/dist/leaflet.js&quot;&gt;&lt;/script&gt;\n",
       "    &lt;script src=&quot;https://code.jquery.com/jquery-3.7.1.min.js&quot;&gt;&lt;/script&gt;\n",
       "    &lt;script src=&quot;https://cdn.jsdelivr.net/npm/bootstrap@5.2.2/dist/js/bootstrap.bundle.min.js&quot;&gt;&lt;/script&gt;\n",
       "    &lt;script src=&quot;https://cdnjs.cloudflare.com/ajax/libs/Leaflet.awesome-markers/2.0.2/leaflet.awesome-markers.js&quot;&gt;&lt;/script&gt;\n",
       "    &lt;link rel=&quot;stylesheet&quot; href=&quot;https://cdn.jsdelivr.net/npm/leaflet@1.9.3/dist/leaflet.css&quot;/&gt;\n",
       "    &lt;link rel=&quot;stylesheet&quot; href=&quot;https://cdn.jsdelivr.net/npm/bootstrap@5.2.2/dist/css/bootstrap.min.css&quot;/&gt;\n",
       "    &lt;link rel=&quot;stylesheet&quot; href=&quot;https://netdna.bootstrapcdn.com/bootstrap/3.0.0/css/bootstrap.min.css&quot;/&gt;\n",
       "    &lt;link rel=&quot;stylesheet&quot; href=&quot;https://cdn.jsdelivr.net/npm/@fortawesome/fontawesome-free@6.2.0/css/all.min.css&quot;/&gt;\n",
       "    &lt;link rel=&quot;stylesheet&quot; href=&quot;https://cdnjs.cloudflare.com/ajax/libs/Leaflet.awesome-markers/2.0.2/leaflet.awesome-markers.css&quot;/&gt;\n",
       "    &lt;link rel=&quot;stylesheet&quot; href=&quot;https://cdn.jsdelivr.net/gh/python-visualization/folium/folium/templates/leaflet.awesome.rotate.min.css&quot;/&gt;\n",
       "    \n",
       "            &lt;meta name=&quot;viewport&quot; content=&quot;width=device-width,\n",
       "                initial-scale=1.0, maximum-scale=1.0, user-scalable=no&quot; /&gt;\n",
       "            &lt;style&gt;\n",
       "                #map_515ae4586abd5ad7b85ab9df9eecbc1a {\n",
       "                    position: relative;\n",
       "                    width: 100.0%;\n",
       "                    height: 100.0%;\n",
       "                    left: 0.0%;\n",
       "                    top: 0.0%;\n",
       "                }\n",
       "                .leaflet-container { font-size: 1rem; }\n",
       "            &lt;/style&gt;\n",
       "        \n",
       "&lt;/head&gt;\n",
       "&lt;body&gt;\n",
       "    \n",
       "    \n",
       "            &lt;div class=&quot;folium-map&quot; id=&quot;map_515ae4586abd5ad7b85ab9df9eecbc1a&quot; &gt;&lt;/div&gt;\n",
       "        \n",
       "&lt;/body&gt;\n",
       "&lt;script&gt;\n",
       "    \n",
       "    \n",
       "            var map_515ae4586abd5ad7b85ab9df9eecbc1a = L.map(\n",
       "                &quot;map_515ae4586abd5ad7b85ab9df9eecbc1a&quot;,\n",
       "                {\n",
       "                    center: [50.965, 13.922],\n",
       "                    crs: L.CRS.EPSG3857,\n",
       "                    zoom: 12,\n",
       "                    zoomControl: true,\n",
       "                    preferCanvas: false,\n",
       "                }\n",
       "            );\n",
       "\n",
       "            \n",
       "\n",
       "        \n",
       "    \n",
       "            var tile_layer_73378ac13d9d1f4b77ce48b12c5aa6b2 = L.tileLayer(\n",
       "                &quot;https://{s}.basemaps.cartocdn.com/light_all/{z}/{x}/{y}{r}.png&quot;,\n",
       "                {&quot;attribution&quot;: &quot;\\u0026copy; \\u003ca href=\\&quot;https://www.openstreetmap.org/copyright\\&quot;\\u003eOpenStreetMap\\u003c/a\\u003e contributors \\u0026copy; \\u003ca href=\\&quot;https://carto.com/attributions\\&quot;\\u003eCARTO\\u003c/a\\u003e&quot;, &quot;detectRetina&quot;: false, &quot;maxNativeZoom&quot;: 20, &quot;maxZoom&quot;: 20, &quot;minZoom&quot;: 0, &quot;noWrap&quot;: false, &quot;opacity&quot;: 1, &quot;subdomains&quot;: &quot;abcd&quot;, &quot;tms&quot;: false}\n",
       "            );\n",
       "        \n",
       "    \n",
       "            tile_layer_73378ac13d9d1f4b77ce48b12c5aa6b2.addTo(map_515ae4586abd5ad7b85ab9df9eecbc1a);\n",
       "        \n",
       "    \n",
       "\n",
       "        function geo_json_cf6cfad45866bf1abaf2939463817c63_onEachFeature(feature, layer) {\n",
       "            layer.on({\n",
       "            });\n",
       "        };\n",
       "        var geo_json_cf6cfad45866bf1abaf2939463817c63 = L.geoJson(null, {\n",
       "                onEachFeature: geo_json_cf6cfad45866bf1abaf2939463817c63_onEachFeature,\n",
       "            \n",
       "        });\n",
       "\n",
       "        function geo_json_cf6cfad45866bf1abaf2939463817c63_add (data) {\n",
       "            geo_json_cf6cfad45866bf1abaf2939463817c63\n",
       "                .addData(data);\n",
       "        }\n",
       "            geo_json_cf6cfad45866bf1abaf2939463817c63_add({&quot;coordinates&quot;: [[[13.92, 50.964], [13.92, 50.966], [13.925, 50.966], [13.925, 50.964], [13.92, 50.964]]], &quot;type&quot;: &quot;Polygon&quot;});\n",
       "\n",
       "        \n",
       "    \n",
       "            geo_json_cf6cfad45866bf1abaf2939463817c63.addTo(map_515ae4586abd5ad7b85ab9df9eecbc1a);\n",
       "        \n",
       "    \n",
       "            map_515ae4586abd5ad7b85ab9df9eecbc1a.fitBounds(\n",
       "                [[50.964, 13.92], [50.966, 13.925]],\n",
       "                {}\n",
       "            );\n",
       "        \n",
       "    \n",
       "            tile_layer_73378ac13d9d1f4b77ce48b12c5aa6b2.addTo(map_515ae4586abd5ad7b85ab9df9eecbc1a);\n",
       "        \n",
       "    \n",
       "            geo_json_cf6cfad45866bf1abaf2939463817c63.addTo(map_515ae4586abd5ad7b85ab9df9eecbc1a);\n",
       "        \n",
       "    \n",
       "\n",
       "        function geo_json_3e589ccf86555f104066fe375015fb31_onEachFeature(feature, layer) {\n",
       "            layer.on({\n",
       "            });\n",
       "        };\n",
       "        var geo_json_3e589ccf86555f104066fe375015fb31 = L.geoJson(null, {\n",
       "                onEachFeature: geo_json_3e589ccf86555f104066fe375015fb31_onEachFeature,\n",
       "            \n",
       "        });\n",
       "\n",
       "        function geo_json_3e589ccf86555f104066fe375015fb31_add (data) {\n",
       "            geo_json_3e589ccf86555f104066fe375015fb31\n",
       "                .addData(data);\n",
       "        }\n",
       "            geo_json_3e589ccf86555f104066fe375015fb31_add({&quot;coordinates&quot;: [[13.92499, 50.966], [13.92499, 50.964]], &quot;type&quot;: &quot;LineString&quot;});\n",
       "\n",
       "        \n",
       "    \n",
       "            geo_json_3e589ccf86555f104066fe375015fb31.addTo(map_515ae4586abd5ad7b85ab9df9eecbc1a);\n",
       "        \n",
       "    \n",
       "\n",
       "        function geo_json_289a770b29b8bd6e92dd5b3febd56f91_onEachFeature(feature, layer) {\n",
       "            layer.on({\n",
       "            });\n",
       "        };\n",
       "        var geo_json_289a770b29b8bd6e92dd5b3febd56f91 = L.geoJson(null, {\n",
       "                onEachFeature: geo_json_289a770b29b8bd6e92dd5b3febd56f91_onEachFeature,\n",
       "            \n",
       "        });\n",
       "\n",
       "        function geo_json_289a770b29b8bd6e92dd5b3febd56f91_add (data) {\n",
       "            geo_json_289a770b29b8bd6e92dd5b3febd56f91\n",
       "                .addData(data);\n",
       "        }\n",
       "            geo_json_289a770b29b8bd6e92dd5b3febd56f91_add({&quot;geometries&quot;: [{&quot;coordinates&quot;: [[[13.92495, 50.965999999999994], [13.925000000000002, 50.965999999999994], [13.925000000000002, 50.965960000843815], [13.92495, 50.965960000843815], [13.92495, 50.965999999999994]]], &quot;type&quot;: &quot;Polygon&quot;}, {&quot;coordinates&quot;: [[[13.92495, 50.965960000843815], [13.925000000000002, 50.965960000843815], [13.925000000000002, 50.965920001653195], [13.92495, 50.965920001653195], [13.92495, 50.965960000843815]]], &quot;type&quot;: &quot;Polygon&quot;}, {&quot;coordinates&quot;: [[[13.92495, 50.965920001653195], [13.925000000000002, 50.965920001653195], [13.925000000000002, 50.965880002428136], [13.92495, 50.965880002428136], [13.92495, 50.965920001653195]]], &quot;type&quot;: &quot;Polygon&quot;}, {&quot;coordinates&quot;: [[[13.92495, 50.965880002428136], [13.925000000000002, 50.965880002428136], [13.925000000000002, 50.96584000316863], [13.92495, 50.96584000316863], [13.92495, 50.965880002428136]]], &quot;type&quot;: &quot;Polygon&quot;}, {&quot;coordinates&quot;: [[[13.92495, 50.96584000316863], [13.925000000000002, 50.96584000316863], [13.925000000000002, 50.96580000387468], [13.92495, 50.96580000387468], [13.92495, 50.96584000316863]]], &quot;type&quot;: &quot;Polygon&quot;}, {&quot;coordinates&quot;: [[[13.92495, 50.96580000387468], [13.925000000000002, 50.96580000387468], [13.925000000000002, 50.965760004546304], [13.92495, 50.965760004546304], [13.92495, 50.96580000387468]]], &quot;type&quot;: &quot;Polygon&quot;}, {&quot;coordinates&quot;: [[[13.92495, 50.965760004546304], [13.925000000000002, 50.965760004546304], [13.925000000000002, 50.96572000518347], [13.92495, 50.96572000518347], [13.92495, 50.965760004546304]]], &quot;type&quot;: &quot;Polygon&quot;}, {&quot;coordinates&quot;: [[[13.92495, 50.96572000518347], [13.925000000000002, 50.96572000518347], [13.925000000000002, 50.9656800057862], [13.92495, 50.9656800057862], [13.92495, 50.96572000518347]]], &quot;type&quot;: &quot;Polygon&quot;}, {&quot;coordinates&quot;: [[[13.92495, 50.9656800057862], [13.925000000000002, 50.9656800057862], [13.925000000000002, 50.9656400063545], [13.92495, 50.9656400063545], [13.92495, 50.9656800057862]]], &quot;type&quot;: &quot;Polygon&quot;}, {&quot;coordinates&quot;: [[[13.92495, 50.9656400063545], [13.925000000000002, 50.9656400063545], [13.925000000000002, 50.965600006888344], [13.92495, 50.965600006888344], [13.92495, 50.9656400063545]]], &quot;type&quot;: &quot;Polygon&quot;}, {&quot;coordinates&quot;: [[[13.92495, 50.965600006888344], [13.925000000000002, 50.965600006888344], [13.925000000000002, 50.965560007387744], [13.92495, 50.965560007387744], [13.92495, 50.965600006888344]]], &quot;type&quot;: &quot;Polygon&quot;}, {&quot;coordinates&quot;: [[[13.92495, 50.965560007387744], [13.925000000000002, 50.965560007387744], [13.925000000000002, 50.96552000785271], [13.92495, 50.96552000785271], [13.92495, 50.965560007387744]]], &quot;type&quot;: &quot;Polygon&quot;}, {&quot;coordinates&quot;: [[[13.92495, 50.96552000785271], [13.925000000000002, 50.96552000785271], [13.925000000000002, 50.96548000828324], [13.92495, 50.96548000828324], [13.92495, 50.96552000785271]]], &quot;type&quot;: &quot;Polygon&quot;}, {&quot;coordinates&quot;: [[[13.92495, 50.96548000828324], [13.925000000000002, 50.96548000828324], [13.925000000000002, 50.965440008679316], [13.92495, 50.965440008679316], [13.92495, 50.96548000828324]]], &quot;type&quot;: &quot;Polygon&quot;}, {&quot;coordinates&quot;: [[[13.92495, 50.965440008679316], [13.925000000000002, 50.965440008679316], [13.925000000000002, 50.965400009040955], [13.92495, 50.965400009040955], [13.92495, 50.965440008679316]]], &quot;type&quot;: &quot;Polygon&quot;}, {&quot;coordinates&quot;: [[[13.92495, 50.965400009040955], [13.925000000000002, 50.965400009040955], [13.925000000000002, 50.965360009368155], [13.92495, 50.965360009368155], [13.92495, 50.965400009040955]]], &quot;type&quot;: &quot;Polygon&quot;}, {&quot;coordinates&quot;: [[[13.92495, 50.965360009368155], [13.925000000000002, 50.965360009368155], [13.925000000000002, 50.96532000966091], [13.92495, 50.96532000966091], [13.92495, 50.965360009368155]]], &quot;type&quot;: &quot;Polygon&quot;}, {&quot;coordinates&quot;: [[[13.92495, 50.96532000966091], [13.925000000000002, 50.96532000966091], [13.925000000000002, 50.965280009919226], [13.92495, 50.965280009919226], [13.92495, 50.96532000966091]]], &quot;type&quot;: &quot;Polygon&quot;}, {&quot;coordinates&quot;: [[[13.92495, 50.965280009919226], [13.925000000000002, 50.965280009919226], [13.925000000000002, 50.96524001014309], [13.92495, 50.96524001014309], [13.92495, 50.965280009919226]]], &quot;type&quot;: &quot;Polygon&quot;}, {&quot;coordinates&quot;: [[[13.92495, 50.96524001014309], [13.925000000000002, 50.96524001014309], [13.925000000000002, 50.96520001033253], [13.92495, 50.96520001033253], [13.92495, 50.96524001014309]]], &quot;type&quot;: &quot;Polygon&quot;}, {&quot;coordinates&quot;: [[[13.92495, 50.96520001033253], [13.925000000000002, 50.96520001033253], [13.925000000000002, 50.965160010487516], [13.92495, 50.965160010487516], [13.92495, 50.96520001033253]]], &quot;type&quot;: &quot;Polygon&quot;}, {&quot;coordinates&quot;: [[[13.92495, 50.965160010487516], [13.925000000000002, 50.965160010487516], [13.925000000000002, 50.96512001060807], [13.92495, 50.96512001060807], [13.92495, 50.965160010487516]]], &quot;type&quot;: &quot;Polygon&quot;}, {&quot;coordinates&quot;: [[[13.92495, 50.96512001060807], [13.925000000000002, 50.96512001060807], [13.925000000000002, 50.96508001069417], [13.92495, 50.96508001069417], [13.92495, 50.96512001060807]]], &quot;type&quot;: &quot;Polygon&quot;}, {&quot;coordinates&quot;: [[[13.92495, 50.96508001069417], [13.925000000000002, 50.96508001069417], [13.925000000000002, 50.96504001074583], [13.92495, 50.96504001074583], [13.92495, 50.96508001069417]]], &quot;type&quot;: &quot;Polygon&quot;}, {&quot;coordinates&quot;: [[[13.92495, 50.96504001074583], [13.925000000000002, 50.96504001074583], [13.925000000000002, 50.96500001076305], [13.92495, 50.96500001076305], [13.92495, 50.96504001074583]]], &quot;type&quot;: &quot;Polygon&quot;}, {&quot;coordinates&quot;: [[[13.92495, 50.96500001076305], [13.925000000000002, 50.96500001076305], [13.925000000000002, 50.964960010745834], [13.92495, 50.964960010745834], [13.92495, 50.96500001076305]]], &quot;type&quot;: &quot;Polygon&quot;}, {&quot;coordinates&quot;: [[[13.92495, 50.964960010745834], [13.925000000000002, 50.964960010745834], [13.925000000000002, 50.96492001069418], [13.92495, 50.96492001069418], [13.92495, 50.964960010745834]]], &quot;type&quot;: &quot;Polygon&quot;}, {&quot;coordinates&quot;: [[[13.92495, 50.96492001069418], [13.925000000000002, 50.96492001069418], [13.925000000000002, 50.96488001060807], [13.92495, 50.96488001060807], [13.92495, 50.96492001069418]]], &quot;type&quot;: &quot;Polygon&quot;}, {&quot;coordinates&quot;: [[[13.92495, 50.96488001060807], [13.925000000000002, 50.96488001060807], [13.925000000000002, 50.96484001048752], [13.92495, 50.96484001048752], [13.92495, 50.96488001060807]]], &quot;type&quot;: &quot;Polygon&quot;}, {&quot;coordinates&quot;: [[[13.92495, 50.96484001048752], [13.925000000000002, 50.96484001048752], [13.925000000000002, 50.964800010332546], [13.92495, 50.964800010332546], [13.92495, 50.96484001048752]]], &quot;type&quot;: &quot;Polygon&quot;}, {&quot;coordinates&quot;: [[[13.92495, 50.964800010332546], [13.925000000000002, 50.964800010332546], [13.925000000000002, 50.96476001014311], [13.92495, 50.96476001014311], [13.92495, 50.964800010332546]]], &quot;type&quot;: &quot;Polygon&quot;}, {&quot;coordinates&quot;: [[[13.92495, 50.96476001014311], [13.925000000000002, 50.96476001014311], [13.925000000000002, 50.96472000991924], [13.92495, 50.96472000991924], [13.92495, 50.96476001014311]]], &quot;type&quot;: &quot;Polygon&quot;}, {&quot;coordinates&quot;: [[[13.92495, 50.96472000991924], [13.925000000000002, 50.96472000991924], [13.925000000000002, 50.964680009660924], [13.92495, 50.964680009660924], [13.92495, 50.96472000991924]]], &quot;type&quot;: &quot;Polygon&quot;}, {&quot;coordinates&quot;: [[[13.92495, 50.964680009660924], [13.925000000000002, 50.964680009660924], [13.925000000000002, 50.96464000936817], [13.92495, 50.96464000936817], [13.92495, 50.964680009660924]]], &quot;type&quot;: &quot;Polygon&quot;}, {&quot;coordinates&quot;: [[[13.92495, 50.96464000936817], [13.925000000000002, 50.96464000936817], [13.925000000000002, 50.96460000904097], [13.92495, 50.96460000904097], [13.92495, 50.96464000936817]]], &quot;type&quot;: &quot;Polygon&quot;}, {&quot;coordinates&quot;: [[[13.92495, 50.96460000904097], [13.925000000000002, 50.96460000904097], [13.925000000000002, 50.96456000867934], [13.92495, 50.96456000867934], [13.92495, 50.96460000904097]]], &quot;type&quot;: &quot;Polygon&quot;}, {&quot;coordinates&quot;: [[[13.92495, 50.96456000867934], [13.925000000000002, 50.96456000867934], [13.925000000000002, 50.96452000828325], [13.92495, 50.96452000828325], [13.92495, 50.96456000867934]]], &quot;type&quot;: &quot;Polygon&quot;}, {&quot;coordinates&quot;: [[[13.92495, 50.96452000828325], [13.925000000000002, 50.96452000828325], [13.925000000000002, 50.964480007852735], [13.92495, 50.964480007852735], [13.92495, 50.96452000828325]]], &quot;type&quot;: &quot;Polygon&quot;}, {&quot;coordinates&quot;: [[[13.92495, 50.964480007852735], [13.925000000000002, 50.964480007852735], [13.925000000000002, 50.96444000738777], [13.92495, 50.96444000738777], [13.92495, 50.964480007852735]]], &quot;type&quot;: &quot;Polygon&quot;}, {&quot;coordinates&quot;: [[[13.92495, 50.96444000738777], [13.925000000000002, 50.96444000738777], [13.925000000000002, 50.96440000688836], [13.92495, 50.96440000688836], [13.92495, 50.96444000738777]]], &quot;type&quot;: &quot;Polygon&quot;}, {&quot;coordinates&quot;: [[[13.92495, 50.96440000688836], [13.925000000000002, 50.96440000688836], [13.925000000000002, 50.96436000635452], [13.92495, 50.96436000635452], [13.92495, 50.96440000688836]]], &quot;type&quot;: &quot;Polygon&quot;}, {&quot;coordinates&quot;: [[[13.92495, 50.96436000635452], [13.925000000000002, 50.96436000635452], [13.925000000000002, 50.96432000578623], [13.92495, 50.96432000578623], [13.92495, 50.96436000635452]]], &quot;type&quot;: &quot;Polygon&quot;}, {&quot;coordinates&quot;: [[[13.92495, 50.96432000578623], [13.925000000000002, 50.96432000578623], [13.925000000000002, 50.9642800051835], [13.92495, 50.9642800051835], [13.92495, 50.96432000578623]]], &quot;type&quot;: &quot;Polygon&quot;}, {&quot;coordinates&quot;: [[[13.92495, 50.9642800051835], [13.925000000000002, 50.9642800051835], [13.925000000000002, 50.96424000454632], [13.92495, 50.96424000454632], [13.92495, 50.9642800051835]]], &quot;type&quot;: &quot;Polygon&quot;}, {&quot;coordinates&quot;: [[[13.92495, 50.96424000454632], [13.925000000000002, 50.96424000454632], [13.925000000000002, 50.96420000387471], [13.92495, 50.96420000387471], [13.92495, 50.96424000454632]]], &quot;type&quot;: &quot;Polygon&quot;}, {&quot;coordinates&quot;: [[[13.92495, 50.96420000387471], [13.925000000000002, 50.96420000387471], [13.925000000000002, 50.964160003168644], [13.92495, 50.964160003168644], [13.92495, 50.96420000387471]]], &quot;type&quot;: &quot;Polygon&quot;}, {&quot;coordinates&quot;: [[[13.92495, 50.964160003168644], [13.925000000000002, 50.964160003168644], [13.925000000000002, 50.964120002428146], [13.92495, 50.964120002428146], [13.92495, 50.964160003168644]]], &quot;type&quot;: &quot;Polygon&quot;}, {&quot;coordinates&quot;: [[[13.92495, 50.964120002428146], [13.925000000000002, 50.964120002428146], [13.925000000000002, 50.96408000165321], [13.92495, 50.96408000165321], [13.92495, 50.964120002428146]]], &quot;type&quot;: &quot;Polygon&quot;}, {&quot;coordinates&quot;: [[[13.92495, 50.96408000165321], [13.925000000000002, 50.96408000165321], [13.925000000000002, 50.964040000843816], [13.92495, 50.964040000843816], [13.92495, 50.96408000165321]]], &quot;type&quot;: &quot;Polygon&quot;}, {&quot;coordinates&quot;: [[[13.92495, 50.964040000843816], [13.925000000000002, 50.964040000843816], [13.925000000000002, 50.96399999999999], [13.92495, 50.96399999999999], [13.92495, 50.964040000843816]]], &quot;type&quot;: &quot;Polygon&quot;}], &quot;type&quot;: &quot;GeometryCollection&quot;});\n",
       "\n",
       "        \n",
       "    \n",
       "            geo_json_289a770b29b8bd6e92dd5b3febd56f91.addTo(map_515ae4586abd5ad7b85ab9df9eecbc1a);\n",
       "        \n",
       "    \n",
       "\n",
       "        function geo_json_6ee5b634b732efbb27b371cb1d1dbfda_onEachFeature(feature, layer) {\n",
       "            layer.on({\n",
       "            });\n",
       "        };\n",
       "        var geo_json_6ee5b634b732efbb27b371cb1d1dbfda = L.geoJson(null, {\n",
       "                onEachFeature: geo_json_6ee5b634b732efbb27b371cb1d1dbfda_onEachFeature,\n",
       "            \n",
       "        });\n",
       "\n",
       "        function geo_json_6ee5b634b732efbb27b371cb1d1dbfda_add (data) {\n",
       "            geo_json_6ee5b634b732efbb27b371cb1d1dbfda\n",
       "                .addData(data);\n",
       "        }\n",
       "            geo_json_6ee5b634b732efbb27b371cb1d1dbfda_add({&quot;coordinates&quot;: [13.92499, 50.966], &quot;type&quot;: &quot;Point&quot;});\n",
       "\n",
       "        \n",
       "    \n",
       "            geo_json_6ee5b634b732efbb27b371cb1d1dbfda.addTo(map_515ae4586abd5ad7b85ab9df9eecbc1a);\n",
       "        \n",
       "    \n",
       "\n",
       "        function geo_json_bf71b70997134f7c5bf933b9b19375f1_onEachFeature(feature, layer) {\n",
       "            layer.on({\n",
       "            });\n",
       "        };\n",
       "        var geo_json_bf71b70997134f7c5bf933b9b19375f1 = L.geoJson(null, {\n",
       "                onEachFeature: geo_json_bf71b70997134f7c5bf933b9b19375f1_onEachFeature,\n",
       "            \n",
       "        });\n",
       "\n",
       "        function geo_json_bf71b70997134f7c5bf933b9b19375f1_add (data) {\n",
       "            geo_json_bf71b70997134f7c5bf933b9b19375f1\n",
       "                .addData(data);\n",
       "        }\n",
       "            geo_json_bf71b70997134f7c5bf933b9b19375f1_add({&quot;coordinates&quot;: [[13.92004, 50.96401], [13.92004, 50.96599]], &quot;type&quot;: &quot;LineString&quot;});\n",
       "\n",
       "        \n",
       "    \n",
       "            geo_json_bf71b70997134f7c5bf933b9b19375f1.addTo(map_515ae4586abd5ad7b85ab9df9eecbc1a);\n",
       "        \n",
       "    \n",
       "\n",
       "        function geo_json_8407fe1601f0f0315fd1da8e7942c9cc_onEachFeature(feature, layer) {\n",
       "            layer.on({\n",
       "            });\n",
       "        };\n",
       "        var geo_json_8407fe1601f0f0315fd1da8e7942c9cc = L.geoJson(null, {\n",
       "                onEachFeature: geo_json_8407fe1601f0f0315fd1da8e7942c9cc_onEachFeature,\n",
       "            \n",
       "        });\n",
       "\n",
       "        function geo_json_8407fe1601f0f0315fd1da8e7942c9cc_add (data) {\n",
       "            geo_json_8407fe1601f0f0315fd1da8e7942c9cc\n",
       "                .addData(data);\n",
       "        }\n",
       "            geo_json_8407fe1601f0f0315fd1da8e7942c9cc_add({&quot;geometries&quot;: [{&quot;coordinates&quot;: [[[13.920000000000002, 50.965999999999994], [13.920050000000002, 50.965999999999994], [13.920050000000002, 50.965960000843815], [13.920000000000002, 50.965960000843815], [13.920000000000002, 50.965999999999994]]], &quot;type&quot;: &quot;Polygon&quot;}, {&quot;coordinates&quot;: [[[13.920000000000002, 50.965960000843815], [13.920050000000002, 50.965960000843815], [13.920050000000002, 50.965920001653195], [13.920000000000002, 50.965920001653195], [13.920000000000002, 50.965960000843815]]], &quot;type&quot;: &quot;Polygon&quot;}, {&quot;coordinates&quot;: [[[13.920000000000002, 50.965920001653195], [13.920050000000002, 50.965920001653195], [13.920050000000002, 50.965880002428136], [13.920000000000002, 50.965880002428136], [13.920000000000002, 50.965920001653195]]], &quot;type&quot;: &quot;Polygon&quot;}, {&quot;coordinates&quot;: [[[13.920000000000002, 50.965880002428136], [13.920050000000002, 50.965880002428136], [13.920050000000002, 50.96584000316863], [13.920000000000002, 50.96584000316863], [13.920000000000002, 50.965880002428136]]], &quot;type&quot;: &quot;Polygon&quot;}, {&quot;coordinates&quot;: [[[13.920000000000002, 50.96584000316863], [13.920050000000002, 50.96584000316863], [13.920050000000002, 50.96580000387468], [13.920000000000002, 50.96580000387468], [13.920000000000002, 50.96584000316863]]], &quot;type&quot;: &quot;Polygon&quot;}, {&quot;coordinates&quot;: [[[13.920000000000002, 50.96580000387468], [13.920050000000002, 50.96580000387468], [13.920050000000002, 50.965760004546304], [13.920000000000002, 50.965760004546304], [13.920000000000002, 50.96580000387468]]], &quot;type&quot;: &quot;Polygon&quot;}, {&quot;coordinates&quot;: [[[13.920000000000002, 50.965760004546304], [13.920050000000002, 50.965760004546304], [13.920050000000002, 50.96572000518347], [13.920000000000002, 50.96572000518347], [13.920000000000002, 50.965760004546304]]], &quot;type&quot;: &quot;Polygon&quot;}, {&quot;coordinates&quot;: [[[13.920000000000002, 50.96572000518347], [13.920050000000002, 50.96572000518347], [13.920050000000002, 50.9656800057862], [13.920000000000002, 50.9656800057862], [13.920000000000002, 50.96572000518347]]], &quot;type&quot;: &quot;Polygon&quot;}, {&quot;coordinates&quot;: [[[13.920000000000002, 50.9656800057862], [13.920050000000002, 50.9656800057862], [13.920050000000002, 50.9656400063545], [13.920000000000002, 50.9656400063545], [13.920000000000002, 50.9656800057862]]], &quot;type&quot;: &quot;Polygon&quot;}, {&quot;coordinates&quot;: [[[13.920000000000002, 50.9656400063545], [13.920050000000002, 50.9656400063545], [13.920050000000002, 50.965600006888344], [13.920000000000002, 50.965600006888344], [13.920000000000002, 50.9656400063545]]], &quot;type&quot;: &quot;Polygon&quot;}, {&quot;coordinates&quot;: [[[13.920000000000002, 50.965600006888344], [13.920050000000002, 50.965600006888344], [13.920050000000002, 50.965560007387744], [13.920000000000002, 50.965560007387744], [13.920000000000002, 50.965600006888344]]], &quot;type&quot;: &quot;Polygon&quot;}, {&quot;coordinates&quot;: [[[13.920000000000002, 50.965560007387744], [13.920050000000002, 50.965560007387744], [13.920050000000002, 50.96552000785271], [13.920000000000002, 50.96552000785271], [13.920000000000002, 50.965560007387744]]], &quot;type&quot;: &quot;Polygon&quot;}, {&quot;coordinates&quot;: [[[13.920000000000002, 50.96552000785271], [13.920050000000002, 50.96552000785271], [13.920050000000002, 50.96548000828324], [13.920000000000002, 50.96548000828324], [13.920000000000002, 50.96552000785271]]], &quot;type&quot;: &quot;Polygon&quot;}, {&quot;coordinates&quot;: [[[13.920000000000002, 50.96548000828324], [13.920050000000002, 50.96548000828324], [13.920050000000002, 50.965440008679316], [13.920000000000002, 50.965440008679316], [13.920000000000002, 50.96548000828324]]], &quot;type&quot;: &quot;Polygon&quot;}, {&quot;coordinates&quot;: [[[13.920000000000002, 50.965440008679316], [13.920050000000002, 50.965440008679316], [13.920050000000002, 50.965400009040955], [13.920000000000002, 50.965400009040955], [13.920000000000002, 50.965440008679316]]], &quot;type&quot;: &quot;Polygon&quot;}, {&quot;coordinates&quot;: [[[13.920000000000002, 50.965400009040955], [13.920050000000002, 50.965400009040955], [13.920050000000002, 50.965360009368155], [13.920000000000002, 50.965360009368155], [13.920000000000002, 50.965400009040955]]], &quot;type&quot;: &quot;Polygon&quot;}, {&quot;coordinates&quot;: [[[13.920000000000002, 50.965360009368155], [13.920050000000002, 50.965360009368155], [13.920050000000002, 50.96532000966091], [13.920000000000002, 50.96532000966091], [13.920000000000002, 50.965360009368155]]], &quot;type&quot;: &quot;Polygon&quot;}, {&quot;coordinates&quot;: [[[13.920000000000002, 50.96532000966091], [13.920050000000002, 50.96532000966091], [13.920050000000002, 50.965280009919226], [13.920000000000002, 50.965280009919226], [13.920000000000002, 50.96532000966091]]], &quot;type&quot;: &quot;Polygon&quot;}, {&quot;coordinates&quot;: [[[13.920000000000002, 50.965280009919226], [13.920050000000002, 50.965280009919226], [13.920050000000002, 50.96524001014309], [13.920000000000002, 50.96524001014309], [13.920000000000002, 50.965280009919226]]], &quot;type&quot;: &quot;Polygon&quot;}, {&quot;coordinates&quot;: [[[13.920000000000002, 50.96524001014309], [13.920050000000002, 50.96524001014309], [13.920050000000002, 50.96520001033253], [13.920000000000002, 50.96520001033253], [13.920000000000002, 50.96524001014309]]], &quot;type&quot;: &quot;Polygon&quot;}, {&quot;coordinates&quot;: [[[13.920000000000002, 50.96520001033253], [13.920050000000002, 50.96520001033253], [13.920050000000002, 50.965160010487516], [13.920000000000002, 50.965160010487516], [13.920000000000002, 50.96520001033253]]], &quot;type&quot;: &quot;Polygon&quot;}, {&quot;coordinates&quot;: [[[13.920000000000002, 50.965160010487516], [13.920050000000002, 50.965160010487516], [13.920050000000002, 50.96512001060807], [13.920000000000002, 50.96512001060807], [13.920000000000002, 50.965160010487516]]], &quot;type&quot;: &quot;Polygon&quot;}, {&quot;coordinates&quot;: [[[13.920000000000002, 50.96512001060807], [13.920050000000002, 50.96512001060807], [13.920050000000002, 50.96508001069417], [13.920000000000002, 50.96508001069417], [13.920000000000002, 50.96512001060807]]], &quot;type&quot;: &quot;Polygon&quot;}, {&quot;coordinates&quot;: [[[13.920000000000002, 50.96508001069417], [13.920050000000002, 50.96508001069417], [13.920050000000002, 50.96504001074583], [13.920000000000002, 50.96504001074583], [13.920000000000002, 50.96508001069417]]], &quot;type&quot;: &quot;Polygon&quot;}, {&quot;coordinates&quot;: [[[13.920000000000002, 50.96504001074583], [13.920050000000002, 50.96504001074583], [13.920050000000002, 50.96500001076305], [13.920000000000002, 50.96500001076305], [13.920000000000002, 50.96504001074583]]], &quot;type&quot;: &quot;Polygon&quot;}, {&quot;coordinates&quot;: [[[13.920000000000002, 50.96500001076305], [13.920050000000002, 50.96500001076305], [13.920050000000002, 50.964960010745834], [13.920000000000002, 50.964960010745834], [13.920000000000002, 50.96500001076305]]], &quot;type&quot;: &quot;Polygon&quot;}, {&quot;coordinates&quot;: [[[13.920000000000002, 50.964960010745834], [13.920050000000002, 50.964960010745834], [13.920050000000002, 50.96492001069418], [13.920000000000002, 50.96492001069418], [13.920000000000002, 50.964960010745834]]], &quot;type&quot;: &quot;Polygon&quot;}, {&quot;coordinates&quot;: [[[13.920000000000002, 50.96492001069418], [13.920050000000002, 50.96492001069418], [13.920050000000002, 50.96488001060807], [13.920000000000002, 50.96488001060807], [13.920000000000002, 50.96492001069418]]], &quot;type&quot;: &quot;Polygon&quot;}, {&quot;coordinates&quot;: [[[13.920000000000002, 50.96488001060807], [13.920050000000002, 50.96488001060807], [13.920050000000002, 50.96484001048752], [13.920000000000002, 50.96484001048752], [13.920000000000002, 50.96488001060807]]], &quot;type&quot;: &quot;Polygon&quot;}, {&quot;coordinates&quot;: [[[13.920000000000002, 50.96484001048752], [13.920050000000002, 50.96484001048752], [13.920050000000002, 50.964800010332546], [13.920000000000002, 50.964800010332546], [13.920000000000002, 50.96484001048752]]], &quot;type&quot;: &quot;Polygon&quot;}, {&quot;coordinates&quot;: [[[13.920000000000002, 50.964800010332546], [13.920050000000002, 50.964800010332546], [13.920050000000002, 50.96476001014311], [13.920000000000002, 50.96476001014311], [13.920000000000002, 50.964800010332546]]], &quot;type&quot;: &quot;Polygon&quot;}, {&quot;coordinates&quot;: [[[13.920000000000002, 50.96476001014311], [13.920050000000002, 50.96476001014311], [13.920050000000002, 50.96472000991924], [13.920000000000002, 50.96472000991924], [13.920000000000002, 50.96476001014311]]], &quot;type&quot;: &quot;Polygon&quot;}, {&quot;coordinates&quot;: [[[13.920000000000002, 50.96472000991924], [13.920050000000002, 50.96472000991924], [13.920050000000002, 50.964680009660924], [13.920000000000002, 50.964680009660924], [13.920000000000002, 50.96472000991924]]], &quot;type&quot;: &quot;Polygon&quot;}, {&quot;coordinates&quot;: [[[13.920000000000002, 50.964680009660924], [13.920050000000002, 50.964680009660924], [13.920050000000002, 50.96464000936817], [13.920000000000002, 50.96464000936817], [13.920000000000002, 50.964680009660924]]], &quot;type&quot;: &quot;Polygon&quot;}, {&quot;coordinates&quot;: [[[13.920000000000002, 50.96464000936817], [13.920050000000002, 50.96464000936817], [13.920050000000002, 50.96460000904097], [13.920000000000002, 50.96460000904097], [13.920000000000002, 50.96464000936817]]], &quot;type&quot;: &quot;Polygon&quot;}, {&quot;coordinates&quot;: [[[13.920000000000002, 50.96460000904097], [13.920050000000002, 50.96460000904097], [13.920050000000002, 50.96456000867934], [13.920000000000002, 50.96456000867934], [13.920000000000002, 50.96460000904097]]], &quot;type&quot;: &quot;Polygon&quot;}, {&quot;coordinates&quot;: [[[13.920000000000002, 50.96456000867934], [13.920050000000002, 50.96456000867934], [13.920050000000002, 50.96452000828325], [13.920000000000002, 50.96452000828325], [13.920000000000002, 50.96456000867934]]], &quot;type&quot;: &quot;Polygon&quot;}, {&quot;coordinates&quot;: [[[13.920000000000002, 50.96452000828325], [13.920050000000002, 50.96452000828325], [13.920050000000002, 50.964480007852735], [13.920000000000002, 50.964480007852735], [13.920000000000002, 50.96452000828325]]], &quot;type&quot;: &quot;Polygon&quot;}, {&quot;coordinates&quot;: [[[13.920000000000002, 50.964480007852735], [13.920050000000002, 50.964480007852735], [13.920050000000002, 50.96444000738777], [13.920000000000002, 50.96444000738777], [13.920000000000002, 50.964480007852735]]], &quot;type&quot;: &quot;Polygon&quot;}, {&quot;coordinates&quot;: [[[13.920000000000002, 50.96444000738777], [13.920050000000002, 50.96444000738777], [13.920050000000002, 50.96440000688836], [13.920000000000002, 50.96440000688836], [13.920000000000002, 50.96444000738777]]], &quot;type&quot;: &quot;Polygon&quot;}, {&quot;coordinates&quot;: [[[13.920000000000002, 50.96440000688836], [13.920050000000002, 50.96440000688836], [13.920050000000002, 50.96436000635452], [13.920000000000002, 50.96436000635452], [13.920000000000002, 50.96440000688836]]], &quot;type&quot;: &quot;Polygon&quot;}, {&quot;coordinates&quot;: [[[13.920000000000002, 50.96436000635452], [13.920050000000002, 50.96436000635452], [13.920050000000002, 50.96432000578623], [13.920000000000002, 50.96432000578623], [13.920000000000002, 50.96436000635452]]], &quot;type&quot;: &quot;Polygon&quot;}, {&quot;coordinates&quot;: [[[13.920000000000002, 50.96432000578623], [13.920050000000002, 50.96432000578623], [13.920050000000002, 50.9642800051835], [13.920000000000002, 50.9642800051835], [13.920000000000002, 50.96432000578623]]], &quot;type&quot;: &quot;Polygon&quot;}, {&quot;coordinates&quot;: [[[13.920000000000002, 50.9642800051835], [13.920050000000002, 50.9642800051835], [13.920050000000002, 50.96424000454632], [13.920000000000002, 50.96424000454632], [13.920000000000002, 50.9642800051835]]], &quot;type&quot;: &quot;Polygon&quot;}, {&quot;coordinates&quot;: [[[13.920000000000002, 50.96424000454632], [13.920050000000002, 50.96424000454632], [13.920050000000002, 50.96420000387471], [13.920000000000002, 50.96420000387471], [13.920000000000002, 50.96424000454632]]], &quot;type&quot;: &quot;Polygon&quot;}, {&quot;coordinates&quot;: [[[13.920000000000002, 50.96420000387471], [13.920050000000002, 50.96420000387471], [13.920050000000002, 50.964160003168644], [13.920000000000002, 50.964160003168644], [13.920000000000002, 50.96420000387471]]], &quot;type&quot;: &quot;Polygon&quot;}, {&quot;coordinates&quot;: [[[13.920000000000002, 50.964160003168644], [13.920050000000002, 50.964160003168644], [13.920050000000002, 50.964120002428146], [13.920000000000002, 50.964120002428146], [13.920000000000002, 50.964160003168644]]], &quot;type&quot;: &quot;Polygon&quot;}, {&quot;coordinates&quot;: [[[13.920000000000002, 50.964120002428146], [13.920050000000002, 50.964120002428146], [13.920050000000002, 50.96408000165321], [13.920000000000002, 50.96408000165321], [13.920000000000002, 50.964120002428146]]], &quot;type&quot;: &quot;Polygon&quot;}, {&quot;coordinates&quot;: [[[13.920000000000002, 50.96408000165321], [13.920050000000002, 50.96408000165321], [13.920050000000002, 50.964040000843816], [13.920000000000002, 50.964040000843816], [13.920000000000002, 50.96408000165321]]], &quot;type&quot;: &quot;Polygon&quot;}, {&quot;coordinates&quot;: [[[13.920000000000002, 50.964040000843816], [13.920050000000002, 50.964040000843816], [13.920050000000002, 50.96399999999999], [13.920000000000002, 50.96399999999999], [13.920000000000002, 50.964040000843816]]], &quot;type&quot;: &quot;Polygon&quot;}], &quot;type&quot;: &quot;GeometryCollection&quot;});\n",
       "\n",
       "        \n",
       "    \n",
       "            geo_json_8407fe1601f0f0315fd1da8e7942c9cc.addTo(map_515ae4586abd5ad7b85ab9df9eecbc1a);\n",
       "        \n",
       "    \n",
       "\n",
       "        function geo_json_432c8960ded1d9e6204e02d02995bfef_onEachFeature(feature, layer) {\n",
       "            layer.on({\n",
       "            });\n",
       "        };\n",
       "        var geo_json_432c8960ded1d9e6204e02d02995bfef = L.geoJson(null, {\n",
       "                onEachFeature: geo_json_432c8960ded1d9e6204e02d02995bfef_onEachFeature,\n",
       "            \n",
       "        });\n",
       "\n",
       "        function geo_json_432c8960ded1d9e6204e02d02995bfef_add (data) {\n",
       "            geo_json_432c8960ded1d9e6204e02d02995bfef\n",
       "                .addData(data);\n",
       "        }\n",
       "            geo_json_432c8960ded1d9e6204e02d02995bfef_add({&quot;coordinates&quot;: [13.92004, 50.96599], &quot;type&quot;: &quot;Point&quot;});\n",
       "\n",
       "        \n",
       "    \n",
       "            geo_json_432c8960ded1d9e6204e02d02995bfef.addTo(map_515ae4586abd5ad7b85ab9df9eecbc1a);\n",
       "        \n",
       "    \n",
       "            map_515ae4586abd5ad7b85ab9df9eecbc1a.fitBounds(\n",
       "                [[50.964, 13.92], [50.966, 13.925000000000002]],\n",
       "                {}\n",
       "            );\n",
       "        \n",
       "    \n",
       "            tile_layer_73378ac13d9d1f4b77ce48b12c5aa6b2.addTo(map_515ae4586abd5ad7b85ab9df9eecbc1a);\n",
       "        \n",
       "    \n",
       "            geo_json_cf6cfad45866bf1abaf2939463817c63.addTo(map_515ae4586abd5ad7b85ab9df9eecbc1a);\n",
       "        \n",
       "    \n",
       "            geo_json_3e589ccf86555f104066fe375015fb31.addTo(map_515ae4586abd5ad7b85ab9df9eecbc1a);\n",
       "        \n",
       "    \n",
       "            geo_json_289a770b29b8bd6e92dd5b3febd56f91.addTo(map_515ae4586abd5ad7b85ab9df9eecbc1a);\n",
       "        \n",
       "    \n",
       "            geo_json_6ee5b634b732efbb27b371cb1d1dbfda.addTo(map_515ae4586abd5ad7b85ab9df9eecbc1a);\n",
       "        \n",
       "    \n",
       "            geo_json_bf71b70997134f7c5bf933b9b19375f1.addTo(map_515ae4586abd5ad7b85ab9df9eecbc1a);\n",
       "        \n",
       "    \n",
       "            geo_json_8407fe1601f0f0315fd1da8e7942c9cc.addTo(map_515ae4586abd5ad7b85ab9df9eecbc1a);\n",
       "        \n",
       "    \n",
       "            geo_json_432c8960ded1d9e6204e02d02995bfef.addTo(map_515ae4586abd5ad7b85ab9df9eecbc1a);\n",
       "        \n",
       "    \n",
       "\n",
       "        function geo_json_e40ae9d4db299e90b5e958b90601f600_onEachFeature(feature, layer) {\n",
       "            layer.on({\n",
       "            });\n",
       "        };\n",
       "        var geo_json_e40ae9d4db299e90b5e958b90601f600 = L.geoJson(null, {\n",
       "                onEachFeature: geo_json_e40ae9d4db299e90b5e958b90601f600_onEachFeature,\n",
       "            \n",
       "        });\n",
       "\n",
       "        function geo_json_e40ae9d4db299e90b5e958b90601f600_add (data) {\n",
       "            geo_json_e40ae9d4db299e90b5e958b90601f600\n",
       "                .addData(data);\n",
       "        }\n",
       "            geo_json_e40ae9d4db299e90b5e958b90601f600_add({&quot;coordinates&quot;: [13.92181326103696, 50.96574333352123], &quot;type&quot;: &quot;Point&quot;});\n",
       "\n",
       "        \n",
       "    \n",
       "            geo_json_e40ae9d4db299e90b5e958b90601f600.addTo(map_515ae4586abd5ad7b85ab9df9eecbc1a);\n",
       "        \n",
       "    \n",
       "\n",
       "        function geo_json_65d359b7307c39cb4e051bfd8de546fb_onEachFeature(feature, layer) {\n",
       "            layer.on({\n",
       "            });\n",
       "        };\n",
       "        var geo_json_65d359b7307c39cb4e051bfd8de546fb = L.geoJson(null, {\n",
       "                onEachFeature: geo_json_65d359b7307c39cb4e051bfd8de546fb_onEachFeature,\n",
       "            \n",
       "        });\n",
       "\n",
       "        function geo_json_65d359b7307c39cb4e051bfd8de546fb_add (data) {\n",
       "            geo_json_65d359b7307c39cb4e051bfd8de546fb\n",
       "                .addData(data);\n",
       "        }\n",
       "            geo_json_65d359b7307c39cb4e051bfd8de546fb_add({&quot;coordinates&quot;: [13.92181326103696, 50.96440649737727], &quot;type&quot;: &quot;Point&quot;});\n",
       "\n",
       "        \n",
       "    \n",
       "            geo_json_65d359b7307c39cb4e051bfd8de546fb.addTo(map_515ae4586abd5ad7b85ab9df9eecbc1a);\n",
       "        \n",
       "    \n",
       "\n",
       "        function geo_json_b3d6a127921e2e7c20e5363323701346_onEachFeature(feature, layer) {\n",
       "            layer.on({\n",
       "            });\n",
       "        };\n",
       "        var geo_json_b3d6a127921e2e7c20e5363323701346 = L.geoJson(null, {\n",
       "                onEachFeature: geo_json_b3d6a127921e2e7c20e5363323701346_onEachFeature,\n",
       "            \n",
       "        });\n",
       "\n",
       "        function geo_json_b3d6a127921e2e7c20e5363323701346_add (data) {\n",
       "            geo_json_b3d6a127921e2e7c20e5363323701346\n",
       "                .addData(data);\n",
       "        }\n",
       "            geo_json_b3d6a127921e2e7c20e5363323701346_add({&quot;coordinates&quot;: [13.923994608237564, 50.96440649737727], &quot;type&quot;: &quot;Point&quot;});\n",
       "\n",
       "        \n",
       "    \n",
       "            geo_json_b3d6a127921e2e7c20e5363323701346.addTo(map_515ae4586abd5ad7b85ab9df9eecbc1a);\n",
       "        \n",
       "    \n",
       "            map_515ae4586abd5ad7b85ab9df9eecbc1a.fitBounds(\n",
       "                [[50.964, 13.92], [50.966, 13.925000000000002]],\n",
       "                {}\n",
       "            );\n",
       "        \n",
       "&lt;/script&gt;\n",
       "&lt;/html&gt;\" style=\"position:absolute;width:100%;height:100%;left:0;top:0;border:none !important;\" allowfullscreen webkitallowfullscreen mozallowfullscreen></iframe></div></div>"
      ],
      "text/plain": [
       "<folium.folium.Map at 0x14b848fe0>"
      ]
     },
     "execution_count": 7,
     "metadata": {},
     "output_type": "execute_result"
    }
   ],
   "source": [
    "from morpheus.project.types.observations.Observation import HeadObservation, ObservationName, HeadObservationDataItem, \\\n",
    "  HeadValue, ObservationCollection\n",
    "\n",
    "head_observation_1 = HeadObservation.from_geometry(\n",
    "  geometry=Point((13.92181326103696, 50.96574333352123)),\n",
    "  grid=grid,\n",
    "  affected_layers=[model.layers[0].layer_id],\n",
    "  name=ObservationName('HOB_1'),\n",
    "  data=[\n",
    "    HeadObservationDataItem(\n",
    "      date_time=StartDateTime.from_datetime(datetime(2020, 1, 1)),\n",
    "      head_value=HeadValue.from_float(111),\n",
    "    ),\n",
    "    HeadObservationDataItem(\n",
    "      date_time=StartDateTime.from_datetime(datetime(2020, 2, 1)),\n",
    "      head_value=HeadValue.from_float(112),\n",
    "    ),\n",
    "    HeadObservationDataItem(\n",
    "      date_time=StartDateTime.from_datetime(datetime(2020, 3, 1)),\n",
    "      head_value=HeadValue.from_float(113),\n",
    "    ),\n",
    "    HeadObservationDataItem(\n",
    "      date_time=StartDateTime.from_datetime(datetime(2020, 4, 1)),\n",
    "      head_value=HeadValue.from_float(114),\n",
    "    ),\n",
    "    HeadObservationDataItem(\n",
    "      date_time=StartDateTime.from_datetime(datetime(2020, 5, 1)),\n",
    "      head_value=HeadValue.from_float(115),\n",
    "    ),\n",
    "  ]\n",
    ")\n",
    "\n",
    "head_observation_2 = HeadObservation.from_geometry(\n",
    "  geometry=Point((13.92181326103696, 50.96440649737727)),\n",
    "  grid=grid,\n",
    "  affected_layers=[model.layers[0].layer_id],\n",
    "  name=ObservationName('HOB_2'),\n",
    "  data=[\n",
    "    HeadObservationDataItem(\n",
    "      date_time=StartDateTime.from_datetime(datetime(2020, 1, 1)),\n",
    "      head_value=HeadValue.from_float(121),\n",
    "    ),\n",
    "    HeadObservationDataItem(\n",
    "      date_time=StartDateTime.from_datetime(datetime(2020, 2, 1)),\n",
    "      head_value=HeadValue.from_float(122),\n",
    "    ),\n",
    "    HeadObservationDataItem(\n",
    "      date_time=StartDateTime.from_datetime(datetime(2020, 3, 1)),\n",
    "      head_value=HeadValue.from_float(123),\n",
    "    ),\n",
    "    HeadObservationDataItem(\n",
    "      date_time=StartDateTime.from_datetime(datetime(2020, 4, 1)),\n",
    "      head_value=HeadValue.from_float(124),\n",
    "    ),\n",
    "    HeadObservationDataItem(\n",
    "      date_time=StartDateTime.from_datetime(datetime(2020, 5, 1)),\n",
    "      head_value=HeadValue.from_float(125),\n",
    "    ),\n",
    "  ]\n",
    ")\n",
    "\n",
    "head_observation_3 = HeadObservation.from_geometry(\n",
    "  geometry=Point((13.923994608237564, 50.96440649737727)),\n",
    "  grid=grid,\n",
    "  affected_layers=[model.layers[0].layer_id],\n",
    "  name=ObservationName('HOB_3'),\n",
    "  data=[\n",
    "    HeadObservationDataItem(\n",
    "      date_time=StartDateTime.from_datetime(datetime(2020, 1, 1)),\n",
    "      head_value=HeadValue.from_float(131),\n",
    "    ),\n",
    "    HeadObservationDataItem(\n",
    "      date_time=StartDateTime.from_datetime(datetime(2020, 2, 1)),\n",
    "      head_value=HeadValue.from_float(132),\n",
    "    ),\n",
    "    HeadObservationDataItem(\n",
    "      date_time=StartDateTime.from_datetime(datetime(2020, 3, 1)),\n",
    "      head_value=HeadValue.from_float(133),\n",
    "    ),\n",
    "    HeadObservationDataItem(\n",
    "      date_time=StartDateTime.from_datetime(datetime(2020, 4, 1)),\n",
    "      head_value=HeadValue.from_float(134),\n",
    "    ),\n",
    "    HeadObservationDataItem(\n",
    "      date_time=StartDateTime.from_datetime(datetime(2020, 5, 1)),\n",
    "      head_value=HeadValue.from_float(135),\n",
    "    ),\n",
    "  ]\n",
    ")\n",
    "\n",
    "observations = ObservationCollection.new()\n",
    "observations.add_observation(head_observation_1)\n",
    "observations.add_observation(head_observation_2)\n",
    "observations.add_observation(head_observation_3)\n",
    "\n",
    "model = model.with_updated_observations(observations=observations)\n",
    "\n",
    "m.add_child(folium.GeoJson(head_observation_1.as_geojson()))\n",
    "m.add_child(folium.GeoJson(head_observation_2.as_geojson()))\n",
    "m.add_child(folium.GeoJson(head_observation_3.as_geojson()))\n",
    "m.fit_bounds(m.get_bounds())\n",
    "m\n"
   ]
  },
  {
   "cell_type": "code",
   "execution_count": 8,
   "id": "dc338472e1887a13",
   "metadata": {
    "ExecuteTime": {
     "end_time": "2024-05-14T08:12:30.670039Z",
     "start_time": "2024-05-14T08:12:30.232790Z"
    },
    "collapsed": false,
    "execution": {
     "iopub.execute_input": "2024-05-15T15:40:45.173527Z",
     "iopub.status.busy": "2024-05-15T15:40:45.173396Z",
     "iopub.status.idle": "2024-05-15T15:40:45.415649Z",
     "shell.execute_reply": "2024-05-15T15:40:45.415361Z"
    },
    "papermill": {
     "duration": 0.246614,
     "end_time": "2024-05-15T15:40:45.416523",
     "exception": false,
     "start_time": "2024-05-15T15:40:45.169909",
     "status": "completed"
    },
    "tags": []
   },
   "outputs": [
    {
     "data": {
      "text/plain": [
       "HeadObservationData(items=[HeadObservationItem(name='HOB_1', layer=0, row=6, column=36, time_series_data=[HeadObservationTimeSeriesItem(total_time=TotalTime(value=0.0), head_value=HeadValue(value=111)), HeadObservationTimeSeriesItem(total_time=TotalTime(value=31.0), head_value=HeadValue(value=112)), HeadObservationTimeSeriesItem(total_time=TotalTime(value=60.0), head_value=HeadValue(value=113)), HeadObservationTimeSeriesItem(total_time=TotalTime(value=91.0), head_value=HeadValue(value=114)), HeadObservationTimeSeriesItem(total_time=TotalTime(value=121.0), head_value=HeadValue(value=115))]), HeadObservationItem(name='HOB_2', layer=0, row=39, column=36, time_series_data=[HeadObservationTimeSeriesItem(total_time=TotalTime(value=0.0), head_value=HeadValue(value=121)), HeadObservationTimeSeriesItem(total_time=TotalTime(value=31.0), head_value=HeadValue(value=122)), HeadObservationTimeSeriesItem(total_time=TotalTime(value=60.0), head_value=HeadValue(value=123)), HeadObservationTimeSeriesItem(total_time=TotalTime(value=91.0), head_value=HeadValue(value=124)), HeadObservationTimeSeriesItem(total_time=TotalTime(value=121.0), head_value=HeadValue(value=125))]), HeadObservationItem(name='HOB_3', layer=0, row=39, column=79, time_series_data=[HeadObservationTimeSeriesItem(total_time=TotalTime(value=0.0), head_value=HeadValue(value=131)), HeadObservationTimeSeriesItem(total_time=TotalTime(value=31.0), head_value=HeadValue(value=132)), HeadObservationTimeSeriesItem(total_time=TotalTime(value=60.0), head_value=HeadValue(value=133)), HeadObservationTimeSeriesItem(total_time=TotalTime(value=91.0), head_value=HeadValue(value=134)), HeadObservationTimeSeriesItem(total_time=TotalTime(value=121.0), head_value=HeadValue(value=135))])])"
      ]
     },
     "execution_count": 8,
     "metadata": {},
     "output_type": "execute_result"
    }
   ],
   "source": [
    "from morpheus.project.infrastructure.calculation.engines.modflow_2005.packages.HobPackageMapper import \\\n",
    "  calculate_observation_items\n",
    "\n",
    "result = calculate_observation_items(model=model)\n",
    "result"
   ]
  },
  {
   "cell_type": "markdown",
   "id": "42d948d145a8457a",
   "metadata": {
    "collapsed": false,
    "papermill": {
     "duration": 0.002898,
     "end_time": "2024-05-15T15:40:45.422443",
     "exception": false,
     "start_time": "2024-05-15T15:40:45.419545",
     "status": "completed"
    },
    "tags": []
   },
   "source": [
    "## Calculate"
   ]
  },
  {
   "cell_type": "code",
   "execution_count": 9,
   "id": "56ccabee86e2397e",
   "metadata": {
    "ExecuteTime": {
     "end_time": "2024-05-14T08:12:30.684857Z",
     "start_time": "2024-05-14T08:12:30.670733Z"
    },
    "collapsed": false,
    "execution": {
     "iopub.execute_input": "2024-05-15T15:40:45.429507Z",
     "iopub.status.busy": "2024-05-15T15:40:45.428589Z",
     "iopub.status.idle": "2024-05-15T15:40:45.440047Z",
     "shell.execute_reply": "2024-05-15T15:40:45.439802Z"
    },
    "papermill": {
     "duration": 0.015721,
     "end_time": "2024-05-15T15:40:45.440974",
     "exception": false,
     "start_time": "2024-05-15T15:40:45.425253",
     "status": "completed"
    },
    "tags": []
   },
   "outputs": [],
   "source": [
    "from morpheus.project.types.calculation.CalculationProfile import CalculationProfile, CalculationEngineType\n",
    "from morpheus.project.types.calculation.Calculation import Calculation\n",
    "\n",
    "calculation_profile = CalculationProfile.new(CalculationEngineType.MF2005)\n",
    "calculation = Calculation.new(model=model, calculation_profile=calculation_profile)"
   ]
  },
  {
   "cell_type": "code",
   "execution_count": 10,
   "id": "e09d94e0a94315cb",
   "metadata": {
    "ExecuteTime": {
     "end_time": "2024-05-14T08:12:30.704109Z",
     "start_time": "2024-05-14T08:12:30.687332Z"
    },
    "collapsed": false,
    "execution": {
     "iopub.execute_input": "2024-05-15T15:40:45.447353Z",
     "iopub.status.busy": "2024-05-15T15:40:45.447150Z",
     "iopub.status.idle": "2024-05-15T15:40:45.452430Z",
     "shell.execute_reply": "2024-05-15T15:40:45.452202Z"
    },
    "papermill": {
     "duration": 0.009271,
     "end_time": "2024-05-15T15:40:45.453215",
     "exception": false,
     "start_time": "2024-05-15T15:40:45.443944",
     "status": "completed"
    },
    "tags": []
   },
   "outputs": [
    {
     "data": {
      "text/plain": [
       "CalculationId(value='0aac8f85-4711-496d-8c0c-2dd1f7dec671')"
      ]
     },
     "execution_count": 10,
     "metadata": {},
     "output_type": "execute_result"
    }
   ],
   "source": [
    "calculation = Calculation.from_dict(calculation.to_dict())\n",
    "calculation.calculation_id"
   ]
  },
  {
   "cell_type": "markdown",
   "id": "0fef9b2e",
   "metadata": {
    "tags": [
     "papermill-error-cell-tag"
    ]
   },
   "source": [
    "<span id=\"papermill-error-cell\" style=\"color:red; font-family:Helvetica Neue, Helvetica, Arial, sans-serif; font-size:2em;\">Execution using papermill encountered an exception here and stopped:</span>"
   ]
  },
  {
   "cell_type": "code",
   "execution_count": 11,
   "id": "672007fb90753c4c",
   "metadata": {
    "ExecuteTime": {
     "end_time": "2024-05-14T08:12:31.286490Z",
     "start_time": "2024-05-14T08:12:30.705649Z"
    },
    "collapsed": false,
    "execution": {
     "iopub.execute_input": "2024-05-15T15:40:45.459638Z",
     "iopub.status.busy": "2024-05-15T15:40:45.459531Z",
     "iopub.status.idle": "2024-05-15T15:40:45.802346Z",
     "shell.execute_reply": "2024-05-15T15:40:45.801817Z"
    },
    "papermill": {
     "duration": 0.346817,
     "end_time": "2024-05-15T15:40:45.803067",
     "exception": true,
     "start_time": "2024-05-15T15:40:45.456250",
     "status": "failed"
    },
    "tags": []
   },
   "outputs": [
    {
     "ename": "ValidationError",
     "evalue": "SECRET_KEY is required in env production",
     "output_type": "error",
     "traceback": [
      "\u001b[0;31m---------------------------------------------------------------------------\u001b[0m",
      "\u001b[0;31mValidationError\u001b[0m                           Traceback (most recent call last)",
      "Cell \u001b[0;32mIn[11], line 1\u001b[0m\n\u001b[0;32m----> 1\u001b[0m \u001b[38;5;28;01mfrom\u001b[39;00m \u001b[38;5;21;01mmorpheus\u001b[39;00m\u001b[38;5;21;01m.\u001b[39;00m\u001b[38;5;21;01mproject\u001b[39;00m\u001b[38;5;21;01m.\u001b[39;00m\u001b[38;5;21;01minfrastructure\u001b[39;00m\u001b[38;5;21;01m.\u001b[39;00m\u001b[38;5;21;01mcalculation\u001b[39;00m\u001b[38;5;21;01m.\u001b[39;00m\u001b[38;5;21;01mservices\u001b[39;00m\u001b[38;5;21;01m.\u001b[39;00m\u001b[38;5;21;01mCalculationService\u001b[39;00m \u001b[38;5;28;01mimport\u001b[39;00m CalculationService\n\u001b[1;32m      3\u001b[0m calculation_service \u001b[38;5;241m=\u001b[39m CalculationService\u001b[38;5;241m.\u001b[39mfrom_calculation(calculation)\n\u001b[1;32m      4\u001b[0m calculation_service\u001b[38;5;241m.\u001b[39mcalculate()\n",
      "File \u001b[0;32m~/Projects/inowas/morpheus/src/backend/src/morpheus/project/infrastructure/calculation/services/CalculationService.py:2\u001b[0m\n\u001b[1;32m      1\u001b[0m \u001b[38;5;28;01mfrom\u001b[39;00m \u001b[38;5;21;01mmorpheus\u001b[39;00m\u001b[38;5;21;01m.\u001b[39;00m\u001b[38;5;21;01mproject\u001b[39;00m\u001b[38;5;21;01m.\u001b[39;00m\u001b[38;5;21;01minfrastructure\u001b[39;00m\u001b[38;5;21;01m.\u001b[39;00m\u001b[38;5;21;01mcalculation\u001b[39;00m\u001b[38;5;21;01m.\u001b[39;00m\u001b[38;5;21;01mengines\u001b[39;00m\u001b[38;5;21;01m.\u001b[39;00m\u001b[38;5;21;01mbase\u001b[39;00m\u001b[38;5;21;01m.\u001b[39;00m\u001b[38;5;21;01mCalculationEngineBase\u001b[39;00m \u001b[38;5;28;01mimport\u001b[39;00m CalculationEngineBase\n\u001b[0;32m----> 2\u001b[0m \u001b[38;5;28;01mfrom\u001b[39;00m \u001b[38;5;21;01mmorpheus\u001b[39;00m\u001b[38;5;21;01m.\u001b[39;00m\u001b[38;5;21;01mproject\u001b[39;00m\u001b[38;5;21;01m.\u001b[39;00m\u001b[38;5;21;01minfrastructure\u001b[39;00m\u001b[38;5;21;01m.\u001b[39;00m\u001b[38;5;21;01mcalculation\u001b[39;00m\u001b[38;5;21;01m.\u001b[39;00m\u001b[38;5;21;01mengines\u001b[39;00m\u001b[38;5;21;01m.\u001b[39;00m\u001b[38;5;21;01mbase\u001b[39;00m\u001b[38;5;21;01m.\u001b[39;00m\u001b[38;5;21;01mCalculationEngineFactory\u001b[39;00m \u001b[38;5;28;01mimport\u001b[39;00m CalculationEngineFactory\n\u001b[1;32m      3\u001b[0m \u001b[38;5;28;01mfrom\u001b[39;00m \u001b[38;5;21;01mmorpheus\u001b[39;00m\u001b[38;5;21;01m.\u001b[39;00m\u001b[38;5;21;01mproject\u001b[39;00m\u001b[38;5;21;01m.\u001b[39;00m\u001b[38;5;21;01mtypes\u001b[39;00m\u001b[38;5;21;01m.\u001b[39;00m\u001b[38;5;21;01mcalculation\u001b[39;00m\u001b[38;5;21;01m.\u001b[39;00m\u001b[38;5;21;01mCalculation\u001b[39;00m \u001b[38;5;28;01mimport\u001b[39;00m CalculationId, CalculationState, Calculation\n\u001b[1;32m      4\u001b[0m \u001b[38;5;28;01mfrom\u001b[39;00m \u001b[38;5;21;01mmorpheus\u001b[39;00m\u001b[38;5;21;01m.\u001b[39;00m\u001b[38;5;21;01mproject\u001b[39;00m\u001b[38;5;21;01m.\u001b[39;00m\u001b[38;5;21;01minfrastructure\u001b[39;00m\u001b[38;5;21;01m.\u001b[39;00m\u001b[38;5;21;01mpersistence\u001b[39;00m\u001b[38;5;21;01m.\u001b[39;00m\u001b[38;5;21;01mCalculationRepository\u001b[39;00m \u001b[38;5;28;01mimport\u001b[39;00m calculation_repository\n",
      "File \u001b[0;32m~/Projects/inowas/morpheus/src/backend/src/morpheus/project/infrastructure/calculation/engines/base/CalculationEngineFactory.py:7\u001b[0m\n\u001b[1;32m      5\u001b[0m \u001b[38;5;28;01mfrom\u001b[39;00m \u001b[38;5;21;01mmorpheus\u001b[39;00m\u001b[38;5;21;01m.\u001b[39;00m\u001b[38;5;21;01mproject\u001b[39;00m\u001b[38;5;21;01m.\u001b[39;00m\u001b[38;5;21;01mtypes\u001b[39;00m\u001b[38;5;21;01m.\u001b[39;00m\u001b[38;5;21;01mcalculation\u001b[39;00m\u001b[38;5;21;01m.\u001b[39;00m\u001b[38;5;21;01mCalculation\u001b[39;00m \u001b[38;5;28;01mimport\u001b[39;00m Calculation\n\u001b[1;32m      6\u001b[0m \u001b[38;5;28;01mfrom\u001b[39;00m \u001b[38;5;21;01mmorpheus\u001b[39;00m\u001b[38;5;21;01m.\u001b[39;00m\u001b[38;5;21;01mproject\u001b[39;00m\u001b[38;5;21;01m.\u001b[39;00m\u001b[38;5;21;01mtypes\u001b[39;00m\u001b[38;5;21;01m.\u001b[39;00m\u001b[38;5;21;01mcalculation\u001b[39;00m\u001b[38;5;21;01m.\u001b[39;00m\u001b[38;5;21;01mCalculationProfile\u001b[39;00m \u001b[38;5;28;01mimport\u001b[39;00m CalculationEngineType\n\u001b[0;32m----> 7\u001b[0m \u001b[38;5;28;01mfrom\u001b[39;00m \u001b[38;5;21;01mmorpheus\u001b[39;00m\u001b[38;5;21;01m.\u001b[39;00m\u001b[38;5;21;01msettings\u001b[39;00m \u001b[38;5;28;01mimport\u001b[39;00m settings\n\u001b[1;32m     10\u001b[0m \u001b[38;5;28;01mclass\u001b[39;00m \u001b[38;5;21;01mCalculationEngineFactory\u001b[39;00m:\n\u001b[1;32m     11\u001b[0m     \u001b[38;5;129m@classmethod\u001b[39m\n\u001b[1;32m     12\u001b[0m     \u001b[38;5;28;01mdef\u001b[39;00m \u001b[38;5;21mcreate_engine\u001b[39m(\u001b[38;5;28mcls\u001b[39m, calculation: Calculation) \u001b[38;5;241m-\u001b[39m\u001b[38;5;241m>\u001b[39m CalculationEngineBase:\n",
      "File \u001b[0;32m~/Projects/inowas/morpheus/src/backend/src/morpheus/settings.py:48\u001b[0m\n\u001b[1;32m     44\u001b[0m     \u001b[38;5;28;01mdef\u001b[39;00m \u001b[38;5;21mis_production\u001b[39m(\u001b[38;5;28mself\u001b[39m):\n\u001b[1;32m     45\u001b[0m         \u001b[38;5;28;01mreturn\u001b[39;00m \u001b[38;5;28mself\u001b[39m\u001b[38;5;241m.\u001b[39mENV \u001b[38;5;241m==\u001b[39m \u001b[38;5;124m'\u001b[39m\u001b[38;5;124mproduction\u001b[39m\u001b[38;5;124m'\u001b[39m\n\u001b[0;32m---> 48\u001b[0m settings \u001b[38;5;241m=\u001b[39m \u001b[43mSettings\u001b[49m\u001b[38;5;241;43m.\u001b[39;49m\u001b[43mfrom_dynaconf\u001b[49m\u001b[43m(\u001b[49m\n\u001b[1;32m     49\u001b[0m \u001b[43m    \u001b[49m\u001b[43mDynaconf\u001b[49m\u001b[43m(\u001b[49m\n\u001b[1;32m     50\u001b[0m \u001b[43m        \u001b[49m\u001b[43mload_dotenv\u001b[49m\u001b[38;5;241;43m=\u001b[39;49m\u001b[38;5;28;43;01mTrue\u001b[39;49;00m\u001b[43m,\u001b[49m\n\u001b[1;32m     51\u001b[0m \u001b[43m        \u001b[49m\u001b[43menvironments\u001b[49m\u001b[38;5;241;43m=\u001b[39;49m\u001b[38;5;28;43;01mTrue\u001b[39;49;00m\u001b[43m,\u001b[49m\n\u001b[1;32m     52\u001b[0m \u001b[43m        \u001b[49m\u001b[43menvvar_prefix\u001b[49m\u001b[38;5;241;43m=\u001b[39;49m\u001b[38;5;124;43m'\u001b[39;49m\u001b[38;5;124;43mBACKEND\u001b[39;49m\u001b[38;5;124;43m'\u001b[39;49m\u001b[43m,\u001b[49m\n\u001b[1;32m     53\u001b[0m \u001b[43m        \u001b[49m\u001b[43menv\u001b[49m\u001b[38;5;241;43m=\u001b[39;49m\u001b[43mos\u001b[49m\u001b[38;5;241;43m.\u001b[39;49m\u001b[43menviron\u001b[49m\u001b[38;5;241;43m.\u001b[39;49m\u001b[43mget\u001b[49m\u001b[43m(\u001b[49m\u001b[38;5;124;43m'\u001b[39;49m\u001b[38;5;124;43mFLASK_ENV\u001b[39;49m\u001b[38;5;124;43m'\u001b[39;49m\u001b[43m,\u001b[49m\u001b[43m \u001b[49m\u001b[38;5;124;43m'\u001b[39;49m\u001b[38;5;124;43mproduction\u001b[39;49m\u001b[38;5;124;43m'\u001b[39;49m\u001b[43m)\u001b[49m\u001b[43m,\u001b[49m\n\u001b[1;32m     54\u001b[0m \u001b[43m        \u001b[49m\u001b[43mvalidators\u001b[49m\u001b[38;5;241;43m=\u001b[39;49m\u001b[43m[\u001b[49m\n\u001b[1;32m     55\u001b[0m \u001b[43m            \u001b[49m\u001b[43mValidator\u001b[49m\u001b[43m(\u001b[49m\u001b[38;5;124;43m'\u001b[39;49m\u001b[38;5;124;43mSECRET_KEY\u001b[39;49m\u001b[38;5;124;43m'\u001b[39;49m\u001b[43m,\u001b[49m\u001b[43m \u001b[49m\u001b[43mmust_exist\u001b[49m\u001b[38;5;241;43m=\u001b[39;49m\u001b[38;5;28;43;01mTrue\u001b[39;49;00m\u001b[43m)\u001b[49m\u001b[43m,\u001b[49m\n\u001b[1;32m     56\u001b[0m \u001b[43m            \u001b[49m\u001b[43mValidator\u001b[49m\u001b[43m(\u001b[49m\u001b[38;5;124;43m'\u001b[39;49m\u001b[38;5;124;43mMAX_CONTENT_LENGTH\u001b[39;49m\u001b[38;5;124;43m'\u001b[39;49m\u001b[43m,\u001b[49m\u001b[43m \u001b[49m\u001b[43mmust_exist\u001b[49m\u001b[38;5;241;43m=\u001b[39;49m\u001b[38;5;28;43;01mTrue\u001b[39;49;00m\u001b[43m)\u001b[49m\u001b[43m,\u001b[49m\n\u001b[1;32m     57\u001b[0m \u001b[43m            \u001b[49m\u001b[43mValidator\u001b[49m\u001b[43m(\u001b[49m\u001b[38;5;124;43m'\u001b[39;49m\u001b[38;5;124;43mKEYCLOAK_CLIENT_ID\u001b[39;49m\u001b[38;5;124;43m'\u001b[39;49m\u001b[43m,\u001b[49m\u001b[43m \u001b[49m\u001b[43mmust_exist\u001b[49m\u001b[38;5;241;43m=\u001b[39;49m\u001b[38;5;28;43;01mTrue\u001b[39;49;00m\u001b[43m)\u001b[49m\u001b[43m,\u001b[49m\n\u001b[1;32m     58\u001b[0m \u001b[43m            \u001b[49m\u001b[43mValidator\u001b[49m\u001b[43m(\u001b[49m\u001b[38;5;124;43m'\u001b[39;49m\u001b[38;5;124;43mKEYCLOAK_CLIENT_SECRET\u001b[39;49m\u001b[38;5;124;43m'\u001b[39;49m\u001b[43m,\u001b[49m\u001b[43m \u001b[49m\u001b[43mmust_exist\u001b[49m\u001b[38;5;241;43m=\u001b[39;49m\u001b[38;5;28;43;01mTrue\u001b[39;49;00m\u001b[43m)\u001b[49m\u001b[43m,\u001b[49m\n\u001b[1;32m     59\u001b[0m \u001b[43m            \u001b[49m\u001b[43mValidator\u001b[49m\u001b[43m(\u001b[49m\u001b[38;5;124;43m'\u001b[39;49m\u001b[38;5;124;43mKEYCLOAK_REALM\u001b[39;49m\u001b[38;5;124;43m'\u001b[39;49m\u001b[43m,\u001b[49m\u001b[43m \u001b[49m\u001b[43mmust_exist\u001b[49m\u001b[38;5;241;43m=\u001b[39;49m\u001b[38;5;28;43;01mTrue\u001b[39;49;00m\u001b[43m)\u001b[49m\u001b[43m,\u001b[49m\n\u001b[1;32m     60\u001b[0m \u001b[43m            \u001b[49m\u001b[43mValidator\u001b[49m\u001b[43m(\u001b[49m\u001b[38;5;124;43m'\u001b[39;49m\u001b[38;5;124;43mKEYCLOAK_SERVER_URL\u001b[39;49m\u001b[38;5;124;43m'\u001b[39;49m\u001b[43m,\u001b[49m\u001b[43m \u001b[49m\u001b[43mmust_exist\u001b[49m\u001b[38;5;241;43m=\u001b[39;49m\u001b[38;5;28;43;01mTrue\u001b[39;49;00m\u001b[43m)\u001b[49m\u001b[43m,\u001b[49m\n\u001b[1;32m     61\u001b[0m \u001b[43m            \u001b[49m\u001b[43mValidator\u001b[49m\u001b[43m(\u001b[49m\u001b[38;5;124;43m'\u001b[39;49m\u001b[38;5;124;43mMONGO_HOST\u001b[39;49m\u001b[38;5;124;43m'\u001b[39;49m\u001b[43m,\u001b[49m\u001b[43m \u001b[49m\u001b[43mmust_exist\u001b[49m\u001b[38;5;241;43m=\u001b[39;49m\u001b[38;5;28;43;01mTrue\u001b[39;49;00m\u001b[43m)\u001b[49m\u001b[43m,\u001b[49m\n\u001b[1;32m     62\u001b[0m \u001b[43m            \u001b[49m\u001b[43mValidator\u001b[49m\u001b[43m(\u001b[49m\u001b[38;5;124;43m'\u001b[39;49m\u001b[38;5;124;43mMONGO_PORT\u001b[39;49m\u001b[38;5;124;43m'\u001b[39;49m\u001b[43m,\u001b[49m\u001b[43m \u001b[49m\u001b[43mmust_exist\u001b[49m\u001b[38;5;241;43m=\u001b[39;49m\u001b[38;5;28;43;01mTrue\u001b[39;49;00m\u001b[43m)\u001b[49m\u001b[43m,\u001b[49m\n\u001b[1;32m     63\u001b[0m \u001b[43m            \u001b[49m\u001b[43mValidator\u001b[49m\u001b[43m(\u001b[49m\u001b[38;5;124;43m'\u001b[39;49m\u001b[38;5;124;43mMONGO_USER\u001b[39;49m\u001b[38;5;124;43m'\u001b[39;49m\u001b[43m,\u001b[49m\u001b[43m \u001b[49m\u001b[43mmust_exist\u001b[49m\u001b[38;5;241;43m=\u001b[39;49m\u001b[38;5;28;43;01mTrue\u001b[39;49;00m\u001b[43m)\u001b[49m\u001b[43m,\u001b[49m\n\u001b[1;32m     64\u001b[0m \u001b[43m            \u001b[49m\u001b[43mValidator\u001b[49m\u001b[43m(\u001b[49m\u001b[38;5;124;43m'\u001b[39;49m\u001b[38;5;124;43mMONGO_PASSWORD\u001b[39;49m\u001b[38;5;124;43m'\u001b[39;49m\u001b[43m,\u001b[49m\u001b[43m \u001b[49m\u001b[43mmust_exist\u001b[49m\u001b[38;5;241;43m=\u001b[39;49m\u001b[38;5;28;43;01mTrue\u001b[39;49;00m\u001b[43m)\u001b[49m\u001b[43m,\u001b[49m\n\u001b[1;32m     65\u001b[0m \u001b[43m            \u001b[49m\u001b[43mValidator\u001b[49m\u001b[43m(\u001b[49m\u001b[38;5;124;43m'\u001b[39;49m\u001b[38;5;124;43mMONGO_PROJECT_DATABASE\u001b[39;49m\u001b[38;5;124;43m'\u001b[39;49m\u001b[43m,\u001b[49m\u001b[43m \u001b[49m\u001b[43mmust_exist\u001b[49m\u001b[38;5;241;43m=\u001b[39;49m\u001b[38;5;28;43;01mTrue\u001b[39;49;00m\u001b[43m)\u001b[49m\u001b[43m,\u001b[49m\n\u001b[1;32m     66\u001b[0m \u001b[43m            \u001b[49m\u001b[43mValidator\u001b[49m\u001b[43m(\u001b[49m\u001b[38;5;124;43m'\u001b[39;49m\u001b[38;5;124;43mMONGO_SENSOR_DATABASE\u001b[39;49m\u001b[38;5;124;43m'\u001b[39;49m\u001b[43m,\u001b[49m\u001b[43m \u001b[49m\u001b[43mmust_exist\u001b[49m\u001b[38;5;241;43m=\u001b[39;49m\u001b[38;5;28;43;01mTrue\u001b[39;49;00m\u001b[43m)\u001b[49m\u001b[43m,\u001b[49m\n\u001b[1;32m     67\u001b[0m \u001b[43m            \u001b[49m\u001b[43mValidator\u001b[49m\u001b[43m(\u001b[49m\u001b[38;5;124;43m'\u001b[39;49m\u001b[38;5;124;43mMORPHEUS_PROJECT_ASSET_DATA\u001b[39;49m\u001b[38;5;124;43m'\u001b[39;49m\u001b[43m,\u001b[49m\u001b[43m \u001b[49m\u001b[43mdefault\u001b[49m\u001b[38;5;241;43m=\u001b[39;49m\u001b[38;5;124;43m'\u001b[39;49m\u001b[38;5;124;43m/mnt/project/assets\u001b[39;49m\u001b[38;5;124;43m'\u001b[39;49m\u001b[43m)\u001b[49m\u001b[43m,\u001b[49m\n\u001b[1;32m     68\u001b[0m \u001b[43m            \u001b[49m\u001b[43mValidator\u001b[49m\u001b[43m(\u001b[49m\u001b[38;5;124;43m'\u001b[39;49m\u001b[38;5;124;43mMORPHEUS_PROJECT_CALCULATION_DATA\u001b[39;49m\u001b[38;5;124;43m'\u001b[39;49m\u001b[43m,\u001b[49m\u001b[43m \u001b[49m\u001b[43mdefault\u001b[49m\u001b[38;5;241;43m=\u001b[39;49m\u001b[38;5;124;43m'\u001b[39;49m\u001b[38;5;124;43m/mnt/project/calculations\u001b[39;49m\u001b[38;5;124;43m'\u001b[39;49m\u001b[43m)\u001b[49m\u001b[43m,\u001b[49m\n\u001b[1;32m     69\u001b[0m \u001b[43m            \u001b[49m\u001b[43mValidator\u001b[49m\u001b[43m(\u001b[49m\u001b[38;5;124;43m'\u001b[39;49m\u001b[38;5;124;43mMORPHEUS_SENSOR_LOCAL_DATA\u001b[39;49m\u001b[38;5;124;43m'\u001b[39;49m\u001b[43m,\u001b[49m\u001b[43m \u001b[49m\u001b[43mdefault\u001b[49m\u001b[38;5;241;43m=\u001b[39;49m\u001b[38;5;124;43m'\u001b[39;49m\u001b[38;5;124;43m/mnt/sensors\u001b[39;49m\u001b[38;5;124;43m'\u001b[39;49m\u001b[43m)\u001b[49m\u001b[43m,\u001b[49m\n\u001b[1;32m     70\u001b[0m \u001b[43m            \u001b[49m\u001b[43mValidator\u001b[49m\u001b[43m(\u001b[49m\u001b[38;5;124;43m'\u001b[39;49m\u001b[38;5;124;43mMORPHEUS_SENSORS_UIT_FTP_HOST\u001b[39;49m\u001b[38;5;124;43m'\u001b[39;49m\u001b[43m,\u001b[49m\u001b[43m \u001b[49m\u001b[43mmust_exist\u001b[49m\u001b[38;5;241;43m=\u001b[39;49m\u001b[38;5;28;43;01mTrue\u001b[39;49;00m\u001b[43m)\u001b[49m\u001b[43m,\u001b[49m\n\u001b[1;32m     71\u001b[0m \u001b[43m            \u001b[49m\u001b[43mValidator\u001b[49m\u001b[43m(\u001b[49m\u001b[38;5;124;43m'\u001b[39;49m\u001b[38;5;124;43mMORPHEUS_SENSORS_UIT_FTP_USER\u001b[39;49m\u001b[38;5;124;43m'\u001b[39;49m\u001b[43m,\u001b[49m\u001b[43m \u001b[49m\u001b[43mmust_exist\u001b[49m\u001b[38;5;241;43m=\u001b[39;49m\u001b[38;5;28;43;01mTrue\u001b[39;49;00m\u001b[43m)\u001b[49m\u001b[43m,\u001b[49m\n\u001b[1;32m     72\u001b[0m \u001b[43m            \u001b[49m\u001b[43mValidator\u001b[49m\u001b[43m(\u001b[49m\u001b[38;5;124;43m'\u001b[39;49m\u001b[38;5;124;43mMORPHEUS_SENSORS_UIT_FTP_PASSWORD\u001b[39;49m\u001b[38;5;124;43m'\u001b[39;49m\u001b[43m,\u001b[49m\u001b[43m \u001b[49m\u001b[43mmust_exist\u001b[49m\u001b[38;5;241;43m=\u001b[39;49m\u001b[38;5;28;43;01mTrue\u001b[39;49;00m\u001b[43m)\u001b[49m\u001b[43m,\u001b[49m\n\u001b[1;32m     73\u001b[0m \u001b[43m            \u001b[49m\u001b[43mValidator\u001b[49m\u001b[43m(\u001b[49m\u001b[38;5;124;43m'\u001b[39;49m\u001b[38;5;124;43mMORPHEUS_SENSORS_UIT_FTP_PATH\u001b[39;49m\u001b[38;5;124;43m'\u001b[39;49m\u001b[43m,\u001b[49m\u001b[43m \u001b[49m\u001b[43mmust_exist\u001b[49m\u001b[38;5;241;43m=\u001b[39;49m\u001b[38;5;28;43;01mTrue\u001b[39;49;00m\u001b[43m)\u001b[49m\u001b[43m,\u001b[49m\n\u001b[1;32m     74\u001b[0m \u001b[43m        \u001b[49m\u001b[43m]\u001b[49m\n\u001b[1;32m     75\u001b[0m \u001b[43m    \u001b[49m\u001b[43m)\u001b[49m\n\u001b[1;32m     76\u001b[0m \u001b[43m)\u001b[49m\n",
      "File \u001b[0;32m~/Projects/inowas/morpheus/src/backend/src/morpheus/settings.py:39\u001b[0m, in \u001b[0;36mSettings.from_dynaconf\u001b[0;34m(cls, dynaconf)\u001b[0m\n\u001b[1;32m     37\u001b[0m \u001b[38;5;129m@classmethod\u001b[39m\n\u001b[1;32m     38\u001b[0m \u001b[38;5;28;01mdef\u001b[39;00m \u001b[38;5;21mfrom_dynaconf\u001b[39m(\u001b[38;5;28mcls\u001b[39m, dynaconf: Dynaconf):\n\u001b[0;32m---> 39\u001b[0m     \u001b[38;5;28;01mreturn\u001b[39;00m \u001b[38;5;28mcls\u001b[39m(\u001b[43mdynaconf\u001b[49m\u001b[38;5;241;43m.\u001b[39;49m\u001b[43mcurrent_env\u001b[49m, dynaconf)\n",
      "File \u001b[0;32m~/Projects/inowas/morpheus/src/backend/.venv/lib/python3.12/site-packages/dynaconf/base.py:122\u001b[0m, in \u001b[0;36mLazySettings.__getattr__\u001b[0;34m(self, name)\u001b[0m\n\u001b[1;32m    120\u001b[0m \u001b[38;5;250m\u001b[39m\u001b[38;5;124;03m\"\"\"Allow getting keys from self.store using dot notation\"\"\"\u001b[39;00m\n\u001b[1;32m    121\u001b[0m \u001b[38;5;28;01mif\u001b[39;00m \u001b[38;5;28mself\u001b[39m\u001b[38;5;241m.\u001b[39m_wrapped \u001b[38;5;129;01mis\u001b[39;00m empty:\n\u001b[0;32m--> 122\u001b[0m     \u001b[38;5;28;43mself\u001b[39;49m\u001b[38;5;241;43m.\u001b[39;49m\u001b[43m_setup\u001b[49m\u001b[43m(\u001b[49m\u001b[43m)\u001b[49m\n\u001b[1;32m    123\u001b[0m \u001b[38;5;28;01mif\u001b[39;00m name \u001b[38;5;129;01min\u001b[39;00m \u001b[38;5;28mself\u001b[39m\u001b[38;5;241m.\u001b[39m_wrapped\u001b[38;5;241m.\u001b[39m_deleted:  \u001b[38;5;66;03m# noqa\u001b[39;00m\n\u001b[1;32m    124\u001b[0m     \u001b[38;5;28;01mraise\u001b[39;00m \u001b[38;5;167;01mAttributeError\u001b[39;00m(\n\u001b[1;32m    125\u001b[0m         \u001b[38;5;124mf\u001b[39m\u001b[38;5;124m\"\u001b[39m\u001b[38;5;124mAttribute \u001b[39m\u001b[38;5;132;01m{\u001b[39;00mname\u001b[38;5;132;01m}\u001b[39;00m\u001b[38;5;124m was deleted, \u001b[39m\u001b[38;5;124m\"\u001b[39m \u001b[38;5;124m\"\u001b[39m\u001b[38;5;124mor belongs to different env\u001b[39m\u001b[38;5;124m\"\u001b[39m\n\u001b[1;32m    126\u001b[0m     )\n",
      "File \u001b[0;32m~/Projects/inowas/morpheus/src/backend/.venv/lib/python3.12/site-packages/dynaconf/base.py:183\u001b[0m, in \u001b[0;36mLazySettings._setup\u001b[0;34m(self)\u001b[0m\n\u001b[1;32m    179\u001b[0m environment_variable \u001b[38;5;241m=\u001b[39m \u001b[38;5;28mself\u001b[39m\u001b[38;5;241m.\u001b[39m_kwargs\u001b[38;5;241m.\u001b[39mget(\n\u001b[1;32m    180\u001b[0m     \u001b[38;5;124m\"\u001b[39m\u001b[38;5;124mENVVAR_FOR_DYNACONF\u001b[39m\u001b[38;5;124m\"\u001b[39m, default_settings\u001b[38;5;241m.\u001b[39mENVVAR_FOR_DYNACONF\n\u001b[1;32m    181\u001b[0m )\n\u001b[1;32m    182\u001b[0m settings_module \u001b[38;5;241m=\u001b[39m os\u001b[38;5;241m.\u001b[39menviron\u001b[38;5;241m.\u001b[39mget(environment_variable)\n\u001b[0;32m--> 183\u001b[0m \u001b[38;5;28mself\u001b[39m\u001b[38;5;241m.\u001b[39m_wrapped \u001b[38;5;241m=\u001b[39m \u001b[38;5;28;43mself\u001b[39;49m\u001b[38;5;241;43m.\u001b[39;49m\u001b[43m_wrapper_class\u001b[49m\u001b[43m(\u001b[49m\n\u001b[1;32m    184\u001b[0m \u001b[43m    \u001b[49m\u001b[43msettings_module\u001b[49m\u001b[38;5;241;43m=\u001b[39;49m\u001b[43msettings_module\u001b[49m\u001b[43m,\u001b[49m\u001b[43m \u001b[49m\u001b[38;5;241;43m*\u001b[39;49m\u001b[38;5;241;43m*\u001b[39;49m\u001b[38;5;28;43mself\u001b[39;49m\u001b[38;5;241;43m.\u001b[39;49m\u001b[43m_kwargs\u001b[49m\n\u001b[1;32m    185\u001b[0m \u001b[43m\u001b[49m\u001b[43m)\u001b[49m\n",
      "File \u001b[0;32m~/Projects/inowas/morpheus/src/backend/.venv/lib/python3.12/site-packages/dynaconf/base.py:276\u001b[0m, in \u001b[0;36mSettings.__init__\u001b[0;34m(self, settings_module, **kwargs)\u001b[0m\n\u001b[1;32m    273\u001b[0m     \u001b[38;5;28mself\u001b[39m\u001b[38;5;241m.\u001b[39mexecute_loaders()\n\u001b[1;32m    275\u001b[0m \u001b[38;5;28;01mif\u001b[39;00m \u001b[38;5;129;01mnot\u001b[39;00m skip_validators:\n\u001b[0;32m--> 276\u001b[0m     \u001b[38;5;28;43mself\u001b[39;49m\u001b[38;5;241;43m.\u001b[39;49m\u001b[43mvalidators\u001b[49m\u001b[38;5;241;43m.\u001b[39;49m\u001b[43mvalidate\u001b[49m\u001b[43m(\u001b[49m\n\u001b[1;32m    277\u001b[0m \u001b[43m        \u001b[49m\u001b[43monly\u001b[49m\u001b[38;5;241;43m=\u001b[39;49m\u001b[38;5;28;43mself\u001b[39;49m\u001b[38;5;241;43m.\u001b[39;49m\u001b[43m_validate_only\u001b[49m\u001b[43m,\u001b[49m\n\u001b[1;32m    278\u001b[0m \u001b[43m        \u001b[49m\u001b[43mexclude\u001b[49m\u001b[38;5;241;43m=\u001b[39;49m\u001b[38;5;28;43mself\u001b[39;49m\u001b[38;5;241;43m.\u001b[39;49m\u001b[43m_validate_exclude\u001b[49m\u001b[43m,\u001b[49m\n\u001b[1;32m    279\u001b[0m \u001b[43m        \u001b[49m\u001b[43monly_current_env\u001b[49m\u001b[38;5;241;43m=\u001b[39;49m\u001b[38;5;28;43mself\u001b[39;49m\u001b[38;5;241;43m.\u001b[39;49m\u001b[43m_validate_only_current_env\u001b[49m\u001b[43m,\u001b[49m\n\u001b[1;32m    280\u001b[0m \u001b[43m    \u001b[49m\u001b[43m)\u001b[49m\n",
      "File \u001b[0;32m~/Projects/inowas/morpheus/src/backend/.venv/lib/python3.12/site-packages/dynaconf/validator.py:492\u001b[0m, in \u001b[0;36mValidatorList.validate\u001b[0;34m(self, only, exclude, only_current_env)\u001b[0m\n\u001b[1;32m    485\u001b[0m \u001b[38;5;28;01mdef\u001b[39;00m \u001b[38;5;21mvalidate\u001b[39m(\n\u001b[1;32m    486\u001b[0m     \u001b[38;5;28mself\u001b[39m,\n\u001b[1;32m    487\u001b[0m     only: \u001b[38;5;28mstr\u001b[39m \u001b[38;5;241m|\u001b[39m Sequence \u001b[38;5;241m|\u001b[39m \u001b[38;5;28;01mNone\u001b[39;00m \u001b[38;5;241m=\u001b[39m \u001b[38;5;28;01mNone\u001b[39;00m,\n\u001b[1;32m    488\u001b[0m     exclude: \u001b[38;5;28mstr\u001b[39m \u001b[38;5;241m|\u001b[39m Sequence \u001b[38;5;241m|\u001b[39m \u001b[38;5;28;01mNone\u001b[39;00m \u001b[38;5;241m=\u001b[39m \u001b[38;5;28;01mNone\u001b[39;00m,\n\u001b[1;32m    489\u001b[0m     only_current_env: \u001b[38;5;28mbool\u001b[39m \u001b[38;5;241m=\u001b[39m \u001b[38;5;28;01mFalse\u001b[39;00m,\n\u001b[1;32m    490\u001b[0m ) \u001b[38;5;241m-\u001b[39m\u001b[38;5;241m>\u001b[39m \u001b[38;5;28;01mNone\u001b[39;00m:\n\u001b[1;32m    491\u001b[0m     \u001b[38;5;28;01mfor\u001b[39;00m validator \u001b[38;5;129;01min\u001b[39;00m \u001b[38;5;28mself\u001b[39m:\n\u001b[0;32m--> 492\u001b[0m         \u001b[43mvalidator\u001b[49m\u001b[38;5;241;43m.\u001b[39;49m\u001b[43mvalidate\u001b[49m\u001b[43m(\u001b[49m\n\u001b[1;32m    493\u001b[0m \u001b[43m            \u001b[49m\u001b[38;5;28;43mself\u001b[39;49m\u001b[38;5;241;43m.\u001b[39;49m\u001b[43msettings\u001b[49m\u001b[43m,\u001b[49m\n\u001b[1;32m    494\u001b[0m \u001b[43m            \u001b[49m\u001b[43monly\u001b[49m\u001b[38;5;241;43m=\u001b[39;49m\u001b[43monly\u001b[49m\u001b[43m,\u001b[49m\n\u001b[1;32m    495\u001b[0m \u001b[43m            \u001b[49m\u001b[43mexclude\u001b[49m\u001b[38;5;241;43m=\u001b[39;49m\u001b[43mexclude\u001b[49m\u001b[43m,\u001b[49m\n\u001b[1;32m    496\u001b[0m \u001b[43m            \u001b[49m\u001b[43monly_current_env\u001b[49m\u001b[38;5;241;43m=\u001b[39;49m\u001b[43monly_current_env\u001b[49m\u001b[43m,\u001b[49m\n\u001b[1;32m    497\u001b[0m \u001b[43m        \u001b[49m\u001b[43m)\u001b[49m\n",
      "File \u001b[0;32m~/Projects/inowas/morpheus/src/backend/.venv/lib/python3.12/site-packages/dynaconf/validator.py:216\u001b[0m, in \u001b[0;36mValidator.validate\u001b[0;34m(self, settings, only, exclude, only_current_env)\u001b[0m\n\u001b[1;32m    211\u001b[0m \u001b[38;5;66;03m# If only using current_env, skip using_env decoration (reload)\u001b[39;00m\n\u001b[1;32m    212\u001b[0m \u001b[38;5;28;01mif\u001b[39;00m (\n\u001b[1;32m    213\u001b[0m     \u001b[38;5;28mlen\u001b[39m(\u001b[38;5;28mself\u001b[39m\u001b[38;5;241m.\u001b[39menvs) \u001b[38;5;241m==\u001b[39m \u001b[38;5;241m1\u001b[39m\n\u001b[1;32m    214\u001b[0m     \u001b[38;5;129;01mand\u001b[39;00m \u001b[38;5;28mself\u001b[39m\u001b[38;5;241m.\u001b[39menvs[\u001b[38;5;241m0\u001b[39m]\u001b[38;5;241m.\u001b[39mupper() \u001b[38;5;241m==\u001b[39m settings\u001b[38;5;241m.\u001b[39mcurrent_env\u001b[38;5;241m.\u001b[39mupper()\n\u001b[1;32m    215\u001b[0m ):\n\u001b[0;32m--> 216\u001b[0m     \u001b[38;5;28;43mself\u001b[39;49m\u001b[38;5;241;43m.\u001b[39;49m\u001b[43m_validate_items\u001b[49m\u001b[43m(\u001b[49m\n\u001b[1;32m    217\u001b[0m \u001b[43m        \u001b[49m\u001b[43msettings\u001b[49m\u001b[43m,\u001b[49m\u001b[43m \u001b[49m\u001b[43msettings\u001b[49m\u001b[38;5;241;43m.\u001b[39;49m\u001b[43mcurrent_env\u001b[49m\u001b[43m,\u001b[49m\u001b[43m \u001b[49m\u001b[43monly\u001b[49m\u001b[38;5;241;43m=\u001b[39;49m\u001b[43monly\u001b[49m\u001b[43m,\u001b[49m\u001b[43m \u001b[49m\u001b[43mexclude\u001b[49m\u001b[38;5;241;43m=\u001b[39;49m\u001b[43mexclude\u001b[49m\n\u001b[1;32m    218\u001b[0m \u001b[43m    \u001b[49m\u001b[43m)\u001b[49m\n\u001b[1;32m    219\u001b[0m     \u001b[38;5;28;01mreturn\u001b[39;00m\n\u001b[1;32m    221\u001b[0m \u001b[38;5;28;01mfor\u001b[39;00m env \u001b[38;5;129;01min\u001b[39;00m \u001b[38;5;28mself\u001b[39m\u001b[38;5;241m.\u001b[39menvs:\n",
      "File \u001b[0;32m~/Projects/inowas/morpheus/src/backend/.venv/lib/python3.12/site-packages/dynaconf/validator.py:279\u001b[0m, in \u001b[0;36mValidator._validate_items\u001b[0;34m(self, settings, env, only, exclude)\u001b[0m\n\u001b[1;32m    275\u001b[0m \u001b[38;5;28;01mif\u001b[39;00m \u001b[38;5;28mself\u001b[39m\u001b[38;5;241m.\u001b[39mmust_exist \u001b[38;5;129;01mis\u001b[39;00m \u001b[38;5;28;01mTrue\u001b[39;00m \u001b[38;5;129;01mand\u001b[39;00m value \u001b[38;5;129;01mis\u001b[39;00m empty:\n\u001b[1;32m    276\u001b[0m     _message \u001b[38;5;241m=\u001b[39m \u001b[38;5;28mself\u001b[39m\u001b[38;5;241m.\u001b[39mmessages[\u001b[38;5;124m\"\u001b[39m\u001b[38;5;124mmust_exist_true\u001b[39m\u001b[38;5;124m\"\u001b[39m]\u001b[38;5;241m.\u001b[39mformat(\n\u001b[1;32m    277\u001b[0m         name\u001b[38;5;241m=\u001b[39mname, env\u001b[38;5;241m=\u001b[39menv\n\u001b[1;32m    278\u001b[0m     )\n\u001b[0;32m--> 279\u001b[0m     \u001b[38;5;28;01mraise\u001b[39;00m ValidationError(_message, details\u001b[38;5;241m=\u001b[39m[(\u001b[38;5;28mself\u001b[39m, _message)])\n\u001b[1;32m    281\u001b[0m \u001b[38;5;28;01mif\u001b[39;00m \u001b[38;5;28mself\u001b[39m\u001b[38;5;241m.\u001b[39mmust_exist \u001b[38;5;129;01mis\u001b[39;00m \u001b[38;5;28;01mFalse\u001b[39;00m \u001b[38;5;129;01mand\u001b[39;00m value \u001b[38;5;129;01mis\u001b[39;00m \u001b[38;5;129;01mnot\u001b[39;00m empty:\n\u001b[1;32m    282\u001b[0m     _message \u001b[38;5;241m=\u001b[39m \u001b[38;5;28mself\u001b[39m\u001b[38;5;241m.\u001b[39mmessages[\u001b[38;5;124m\"\u001b[39m\u001b[38;5;124mmust_exist_false\u001b[39m\u001b[38;5;124m\"\u001b[39m]\u001b[38;5;241m.\u001b[39mformat(\n\u001b[1;32m    283\u001b[0m         name\u001b[38;5;241m=\u001b[39mname, env\u001b[38;5;241m=\u001b[39menv\n\u001b[1;32m    284\u001b[0m     )\n",
      "\u001b[0;31mValidationError\u001b[0m: SECRET_KEY is required in env production"
     ]
    }
   ],
   "source": [
    "from morpheus.project.infrastructure.calculation.services.CalculationService import CalculationService\n",
    "\n",
    "calculation_service = CalculationService.from_calculation(calculation)\n",
    "calculation_service.calculate()"
   ]
  },
  {
   "cell_type": "code",
   "execution_count": null,
   "id": "a52d1dd3a1574032",
   "metadata": {
    "ExecuteTime": {
     "end_time": "2024-05-14T08:12:31.293106Z",
     "start_time": "2024-05-14T08:12:31.288510Z"
    },
    "collapsed": false,
    "execution": {
     "iopub.execute_input": "2024-05-15T15:22:04.321112Z",
     "iopub.status.busy": "2024-05-15T15:22:04.320751Z",
     "iopub.status.idle": "2024-05-15T15:22:04.323628Z",
     "shell.execute_reply": "2024-05-15T15:22:04.323347Z"
    },
    "papermill": {
     "duration": null,
     "end_time": null,
     "exception": null,
     "start_time": null,
     "status": "pending"
    },
    "tags": []
   },
   "outputs": [],
   "source": [
    "calculation_service.get_result()"
   ]
  },
  {
   "cell_type": "code",
   "execution_count": null,
   "id": "ead09f5fabe89fa7",
   "metadata": {
    "ExecuteTime": {
     "end_time": "2024-05-14T08:12:31.298975Z",
     "start_time": "2024-05-14T08:12:31.294347Z"
    },
    "collapsed": false,
    "execution": {
     "iopub.execute_input": "2024-05-15T15:22:04.334144Z",
     "iopub.status.busy": "2024-05-15T15:22:04.334022Z",
     "iopub.status.idle": "2024-05-15T15:22:04.336644Z",
     "shell.execute_reply": "2024-05-15T15:22:04.336377Z"
    },
    "papermill": {
     "duration": null,
     "end_time": null,
     "exception": null,
     "start_time": null,
     "status": "pending"
    },
    "tags": []
   },
   "outputs": [],
   "source": [
    "calculation_service.read_head_observations()"
   ]
  },
  {
   "cell_type": "code",
   "execution_count": null,
   "id": "cc43ad077c7a81d0",
   "metadata": {
    "ExecuteTime": {
     "end_time": "2024-05-14T08:12:31.306122Z",
     "start_time": "2024-05-14T08:12:31.302393Z"
    },
    "collapsed": false,
    "execution": {
     "iopub.execute_input": "2024-05-15T15:22:04.346602Z",
     "iopub.status.busy": "2024-05-15T15:22:04.346482Z",
     "iopub.status.idle": "2024-05-15T15:22:04.348829Z",
     "shell.execute_reply": "2024-05-15T15:22:04.348543Z"
    },
    "papermill": {
     "duration": null,
     "end_time": null,
     "exception": null,
     "start_time": null,
     "status": "pending"
    },
    "tags": []
   },
   "outputs": [],
   "source": [
    "head = calculation_service.read_head(0, 0)"
   ]
  },
  {
   "cell_type": "code",
   "execution_count": null,
   "id": "12454cc4d9e18de5",
   "metadata": {
    "ExecuteTime": {
     "end_time": "2024-05-14T08:12:31.314350Z",
     "start_time": "2024-05-14T08:12:31.307648Z"
    },
    "collapsed": false,
    "execution": {
     "iopub.execute_input": "2024-05-15T15:22:04.358543Z",
     "iopub.status.busy": "2024-05-15T15:22:04.358431Z",
     "iopub.status.idle": "2024-05-15T15:22:04.363524Z",
     "shell.execute_reply": "2024-05-15T15:22:04.363232Z"
    },
    "papermill": {
     "duration": null,
     "end_time": null,
     "exception": null,
     "start_time": null,
     "status": "pending"
    },
    "tags": []
   },
   "outputs": [],
   "source": [
    "import simplejson as json\n",
    "\n",
    "json = json.dumps(head, ignore_nan=True)\n",
    "json"
   ]
  },
  {
   "cell_type": "code",
   "execution_count": null,
   "id": "df7dfd8ff0308815",
   "metadata": {
    "ExecuteTime": {
     "end_time": "2024-05-14T08:12:31.319868Z",
     "start_time": "2024-05-14T08:12:31.316216Z"
    },
    "collapsed": false,
    "execution": {
     "iopub.execute_input": "2024-05-15T15:22:04.374926Z",
     "iopub.status.busy": "2024-05-15T15:22:04.374811Z",
     "iopub.status.idle": "2024-05-15T15:22:04.377109Z",
     "shell.execute_reply": "2024-05-15T15:22:04.376811Z"
    },
    "papermill": {
     "duration": null,
     "end_time": null,
     "exception": null,
     "start_time": null,
     "status": "pending"
    },
    "tags": []
   },
   "outputs": [],
   "source": [
    "calculation_service.read_drawdown(0, 0)"
   ]
  },
  {
   "cell_type": "code",
   "execution_count": null,
   "id": "b233f4066b56c174",
   "metadata": {
    "ExecuteTime": {
     "end_time": "2024-05-14T08:12:31.327204Z",
     "start_time": "2024-05-14T08:12:31.320868Z"
    },
    "collapsed": false,
    "execution": {
     "iopub.execute_input": "2024-05-15T15:22:04.388225Z",
     "iopub.status.busy": "2024-05-15T15:22:04.388105Z",
     "iopub.status.idle": "2024-05-15T15:22:04.391892Z",
     "shell.execute_reply": "2024-05-15T15:22:04.391615Z"
    },
    "papermill": {
     "duration": null,
     "end_time": null,
     "exception": null,
     "start_time": null,
     "status": "pending"
    },
    "tags": []
   },
   "outputs": [],
   "source": [
    "calculation_service.read_budget(0, False)"
   ]
  },
  {
   "cell_type": "code",
   "execution_count": null,
   "id": "634709d741f5c252",
   "metadata": {
    "ExecuteTime": {
     "end_time": "2024-05-14T08:12:31.334820Z",
     "start_time": "2024-05-14T08:12:31.328270Z"
    },
    "collapsed": false,
    "execution": {
     "iopub.execute_input": "2024-05-15T15:22:04.403300Z",
     "iopub.status.busy": "2024-05-15T15:22:04.403182Z",
     "iopub.status.idle": "2024-05-15T15:22:04.406867Z",
     "shell.execute_reply": "2024-05-15T15:22:04.406588Z"
    },
    "papermill": {
     "duration": null,
     "end_time": null,
     "exception": null,
     "start_time": null,
     "status": "pending"
    },
    "tags": []
   },
   "outputs": [],
   "source": [
    "calculation_service.read_budget(0, True)"
   ]
  },
  {
   "cell_type": "code",
   "execution_count": null,
   "id": "26523066436690e6",
   "metadata": {
    "ExecuteTime": {
     "end_time": "2024-05-14T08:12:31.339737Z",
     "start_time": "2024-05-14T08:12:31.336258Z"
    },
    "collapsed": false,
    "execution": {
     "iopub.execute_input": "2024-05-15T15:22:04.418458Z",
     "iopub.status.busy": "2024-05-15T15:22:04.418350Z",
     "iopub.status.idle": "2024-05-15T15:22:04.420454Z",
     "shell.execute_reply": "2024-05-15T15:22:04.420199Z"
    },
    "papermill": {
     "duration": null,
     "end_time": null,
     "exception": null,
     "start_time": null,
     "status": "pending"
    },
    "tags": []
   },
   "outputs": [],
   "source": [
    "calculation_service.get_result()"
   ]
  },
  {
   "cell_type": "code",
   "execution_count": null,
   "id": "160abd7d290c83f7",
   "metadata": {
    "ExecuteTime": {
     "end_time": "2024-05-14T08:12:31.791904Z",
     "start_time": "2024-05-14T08:12:31.341179Z"
    },
    "collapsed": false,
    "execution": {
     "iopub.execute_input": "2024-05-15T15:22:04.432778Z",
     "iopub.status.busy": "2024-05-15T15:22:04.432660Z",
     "iopub.status.idle": "2024-05-15T15:22:04.648038Z",
     "shell.execute_reply": "2024-05-15T15:22:04.646726Z"
    },
    "papermill": {
     "duration": null,
     "end_time": null,
     "exception": null,
     "start_time": null,
     "status": "pending"
    },
    "tags": []
   },
   "outputs": [],
   "source": [
    "import matplotlib.pyplot as plt\n",
    "\n",
    "heads = calculation_service.read_head(0, 0)\n",
    "plt.subplot(2, 1, 1)\n",
    "plt.imshow(heads, cmap='jet_r')\n",
    "plt.colorbar()\n",
    "plt.show()"
   ]
  },
  {
   "cell_type": "code",
   "execution_count": null,
   "id": "807e04685d52d861",
   "metadata": {
    "ExecuteTime": {
     "end_time": "2024-05-14T08:12:31.802176Z",
     "start_time": "2024-05-14T08:12:31.796757Z"
    },
    "collapsed": false,
    "papermill": {
     "duration": null,
     "end_time": null,
     "exception": null,
     "start_time": null,
     "status": "pending"
    },
    "tags": []
   },
   "outputs": [],
   "source": []
  }
 ],
 "metadata": {
  "kernelspec": {
   "display_name": "Python 3",
   "language": "python",
   "name": "python3"
  },
  "language_info": {
   "codemirror_mode": {
    "name": "ipython",
    "version": 3
   },
   "file_extension": ".py",
   "mimetype": "text/x-python",
   "name": "python",
   "nbconvert_exporter": "python",
   "pygments_lexer": "ipython3",
   "version": "3.12.2"
  },
  "papermill": {
   "default_parameters": {},
   "duration": 4.508517,
   "end_time": "2024-05-15T15:40:46.123422",
   "environment_variables": {},
   "exception": true,
   "input_path": "./notebooks/Test_HeadObservation.ipynb",
   "output_path": "./notebooks/Test_HeadObservation.ipynb",
   "parameters": {},
   "start_time": "2024-05-15T15:40:41.614905",
   "version": "2.6.0"
  }
 },
 "nbformat": 4,
 "nbformat_minor": 5
}