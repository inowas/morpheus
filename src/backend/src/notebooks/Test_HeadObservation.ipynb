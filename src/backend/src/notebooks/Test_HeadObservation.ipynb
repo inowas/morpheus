{
 "cells": [
  {
   "cell_type": "code",
   "execution_count": 1,
   "id": "ba6761fae9d5e5cb",
   "metadata": {
    "ExecuteTime": {
     "end_time": "2024-08-19T10:13:26.542592Z",
     "start_time": "2024-08-19T10:13:26.539081Z"
    },
    "collapsed": false,
    "execution": {
     "iopub.execute_input": "2024-08-19T20:27:20.076680Z",
     "iopub.status.busy": "2024-08-19T20:27:20.076320Z",
     "iopub.status.idle": "2024-08-19T20:27:20.081239Z",
     "shell.execute_reply": "2024-08-19T20:27:20.080687Z"
    },
    "papermill": {
     "duration": 0.019807,
     "end_time": "2024-08-19T20:27:20.083300",
     "exception": false,
     "start_time": "2024-08-19T20:27:20.063493",
     "status": "completed"
    },
    "tags": []
   },
   "outputs": [],
   "source": [
    "import sys\n",
    "\n",
    "sys.path.insert(0, '..')"
   ]
  },
  {
   "cell_type": "markdown",
   "id": "5ede1ba5e0993dd1",
   "metadata": {
    "collapsed": false,
    "papermill": {
     "duration": 0.004818,
     "end_time": "2024-08-19T20:27:20.093701",
     "exception": false,
     "start_time": "2024-08-19T20:27:20.088883",
     "status": "completed"
    },
    "tags": []
   },
   "source": [
    "## Setup the model area"
   ]
  },
  {
   "cell_type": "code",
   "execution_count": 2,
   "id": "2f69504ab35487aa",
   "metadata": {
    "ExecuteTime": {
     "end_time": "2024-08-19T10:13:27.509140Z",
     "start_time": "2024-08-19T10:13:26.568970Z"
    },
    "collapsed": false,
    "execution": {
     "iopub.execute_input": "2024-08-19T20:27:20.103721Z",
     "iopub.status.busy": "2024-08-19T20:27:20.103322Z",
     "iopub.status.idle": "2024-08-19T20:27:20.272598Z",
     "shell.execute_reply": "2024-08-19T20:27:20.271915Z"
    },
    "papermill": {
     "duration": 0.177158,
     "end_time": "2024-08-19T20:27:20.275313",
     "exception": false,
     "start_time": "2024-08-19T20:27:20.098155",
     "status": "completed"
    },
    "tags": []
   },
   "outputs": [
    {
     "name": "stdout",
     "output_type": "stream",
     "text": [
      "[(0, 0)] [(99, 0)]\n",
      "[(0, 1)] [(99, 1)]\n",
      "[(0, 2)] [(99, 2)]\n",
      "[(0, 3)] [(99, 3)]\n",
      "[(0, 4)] [(99, 4)]\n",
      "[(0, 5)] [(99, 5)]\n",
      "[(0, 6)] [(99, 6)]\n",
      "[(0, 7)] [(99, 7)]\n",
      "[(0, 8)] [(99, 8)]\n",
      "[(0, 9)] [(99, 9)]\n",
      "[(0, 10)] [(99, 10)]\n",
      "[(0, 11)] [(99, 11)]\n",
      "[(0, 12)] [(99, 12)]\n",
      "[(0, 13)] [(99, 13)]\n",
      "[(0, 14)] [(99, 14)]\n",
      "[(0, 15)] [(99, 15)]\n",
      "[(0, 16)] [(99, 16)]\n",
      "[(0, 17)] [(99, 17)]\n",
      "[(0, 18)] [(99, 18)]\n",
      "[(0, 19)] [(99, 19)]\n",
      "[(0, 20)] [(99, 20)]\n",
      "[(0, 21)] [(99, 21)]\n",
      "[(0, 22)] [(99, 22)]\n",
      "[(0, 23)] [(99, 23)]\n",
      "[(0, 24)] [(99, 24)]\n",
      "[(0, 25)] [(99, 25)]\n",
      "[(0, 26)] [(99, 26)]\n",
      "[(0, 27)] [(99, 27)]\n",
      "[(0, 28)] [(99, 28)]\n",
      "[(0, 29)] [(99, 29)]\n",
      "[(0, 30)] [(99, 30)]\n",
      "[(0, 31)] [(99, 31)]\n",
      "[(0, 32)] [(99, 32)]\n",
      "[(0, 33)] [(99, 33)]\n",
      "[(0, 34)] [(99, 34)]\n",
      "[(0, 35)] [(99, 35)]\n",
      "[(0, 36)] [(99, 36)]\n",
      "[(0, 37)] [(99, 37)]\n",
      "[(0, 38)] [(99, 38)]\n",
      "[(0, 39)] [(99, 39)]\n",
      "[(0, 40)] [(99, 40)]\n",
      "[(0, 41)] [(99, 41)]\n",
      "[(0, 42)] [(99, 42)]\n",
      "[(0, 43)] [(99, 43)]\n",
      "[(0, 44)] [(99, 44)]\n",
      "[(0, 45)] [(99, 45)]\n",
      "[(0, 46)] [(99, 46)]\n",
      "[(0, 47)] [(99, 47)]\n",
      "[(0, 48)] [(99, 48)]\n",
      "[(0, 49)] [(99, 49)]\n"
     ]
    }
   ],
   "source": [
    "from morpheus.project.types.discretization import SpatialDiscretization\n",
    "from morpheus.project.types.discretization.spatial import Rotation, Grid, Crs\n",
    "from morpheus.project.types.geometry import Polygon, LineString\n",
    "\n",
    "polygon = Polygon(\n",
    "  type='Polygon',\n",
    "  coordinates=[[\n",
    "    (13.92, 50.964),\n",
    "    (13.92, 50.966),\n",
    "    (13.925, 50.966),\n",
    "    (13.925, 50.964),\n",
    "    (13.92, 50.964)\n",
    "  ]]\n",
    ")\n",
    "\n",
    "rotation = Rotation(0)\n",
    "\n",
    "grid = Grid.cartesian_from_polygon(polygon=polygon, n_cols=100, n_rows=50, rotation=rotation)\n",
    "spatial_discretization = SpatialDiscretization.from_geometry_with_grid(\n",
    "  geometry=polygon,\n",
    "  grid=grid,\n",
    "  crs=Crs.from_str('EPSG:4326')\n",
    ")"
   ]
  },
  {
   "cell_type": "markdown",
   "id": "fa27e67f9d801845",
   "metadata": {
    "collapsed": false,
    "papermill": {
     "duration": 0.004634,
     "end_time": "2024-08-19T20:27:20.287166",
     "exception": false,
     "start_time": "2024-08-19T20:27:20.282532",
     "status": "completed"
    },
    "tags": []
   },
   "source": [
    "## Setup Time Discretization"
   ]
  },
  {
   "cell_type": "code",
   "execution_count": 3,
   "id": "8e4e63dd138db9fc",
   "metadata": {
    "ExecuteTime": {
     "end_time": "2024-08-19T10:13:27.515157Z",
     "start_time": "2024-08-19T10:13:27.511210Z"
    },
    "collapsed": false,
    "execution": {
     "iopub.execute_input": "2024-08-19T20:27:20.301304Z",
     "iopub.status.busy": "2024-08-19T20:27:20.300943Z",
     "iopub.status.idle": "2024-08-19T20:27:20.306187Z",
     "shell.execute_reply": "2024-08-19T20:27:20.305644Z"
    },
    "papermill": {
     "duration": 0.032426,
     "end_time": "2024-08-19T20:27:20.325890",
     "exception": false,
     "start_time": "2024-08-19T20:27:20.293464",
     "status": "completed"
    },
    "tags": []
   },
   "outputs": [],
   "source": [
    "from morpheus.project.types.discretization.time.TimeUnit import TimeUnit\n",
    "from morpheus.project.types.discretization.time.Stressperiods import StartDateTime, StressPeriodCollection, StressPeriod, NumberOfTimeSteps, TimeStepMultiplier, IsSteadyState\n",
    "from morpheus.project.types.discretization.time import TimeDiscretization\n",
    "from datetime import datetime\n",
    "\n",
    "time_discretization = TimeDiscretization(\n",
    "  start_date_time=StartDateTime.from_datetime(datetime(2020, 1, 1)),\n",
    "  end_date_time=StartDateTime.from_datetime(datetime(2020, 12, 31)),\n",
    "  stress_periods=StressPeriodCollection([\n",
    "    StressPeriod(\n",
    "      start_date_time=StartDateTime.from_datetime(datetime(2020, 1, 1)),\n",
    "      number_of_time_steps=NumberOfTimeSteps(1),\n",
    "      time_step_multiplier=TimeStepMultiplier(1),\n",
    "      steady_state=IsSteadyState.yes()\n",
    "    ),\n",
    "  ]),\n",
    "  time_unit=TimeUnit.days()\n",
    ")"
   ]
  },
  {
   "cell_type": "markdown",
   "id": "963ba8729f09fcec",
   "metadata": {
    "collapsed": false,
    "papermill": {
     "duration": 0.004654,
     "end_time": "2024-08-19T20:27:20.337098",
     "exception": false,
     "start_time": "2024-08-19T20:27:20.332444",
     "status": "completed"
    },
    "tags": []
   },
   "source": [
    "# Setup Model"
   ]
  },
  {
   "cell_type": "code",
   "execution_count": 4,
   "id": "1d5c9125b1b9360b",
   "metadata": {
    "ExecuteTime": {
     "end_time": "2024-08-19T10:13:28.102886Z",
     "start_time": "2024-08-19T10:13:27.517304Z"
    },
    "collapsed": false,
    "execution": {
     "iopub.execute_input": "2024-08-19T20:27:20.349576Z",
     "iopub.status.busy": "2024-08-19T20:27:20.349241Z",
     "iopub.status.idle": "2024-08-19T20:27:20.670602Z",
     "shell.execute_reply": "2024-08-19T20:27:20.670162Z"
    },
    "papermill": {
     "duration": 0.328459,
     "end_time": "2024-08-19T20:27:20.671673",
     "exception": false,
     "start_time": "2024-08-19T20:27:20.343214",
     "status": "completed"
    },
    "tags": []
   },
   "outputs": [],
   "source": [
    "from morpheus.project.types.Model import Model\n",
    "\n",
    "model = Model.new()\n",
    "model = model.with_updated_time_discretization(time_discretization)\n",
    "model = model.with_updated_spatial_discretization(spatial_discretization=spatial_discretization)"
   ]
  },
  {
   "cell_type": "code",
   "execution_count": 5,
   "id": "1540b870ae83f298",
   "metadata": {
    "ExecuteTime": {
     "end_time": "2024-08-19T10:13:28.297657Z",
     "start_time": "2024-08-19T10:13:28.104263Z"
    },
    "collapsed": false,
    "execution": {
     "iopub.execute_input": "2024-08-19T20:27:20.676770Z",
     "iopub.status.busy": "2024-08-19T20:27:20.676582Z",
     "iopub.status.idle": "2024-08-19T20:27:20.804208Z",
     "shell.execute_reply": "2024-08-19T20:27:20.803921Z"
    },
    "papermill": {
     "duration": 0.131082,
     "end_time": "2024-08-19T20:27:20.805101",
     "exception": false,
     "start_time": "2024-08-19T20:27:20.674019",
     "status": "completed"
    },
    "tags": []
   },
   "outputs": [
    {
     "data": {
      "text/html": [
       "<div style=\"width:100%;\"><div style=\"position:relative;width:100%;height:0;padding-bottom:60%;\"><span style=\"color:#565656\">Make this Notebook Trusted to load map: File -> Trust Notebook</span><iframe srcdoc=\"&lt;!DOCTYPE html&gt;\n",
       "&lt;html&gt;\n",
       "&lt;head&gt;\n",
       "    \n",
       "    &lt;meta http-equiv=&quot;content-type&quot; content=&quot;text/html; charset=UTF-8&quot; /&gt;\n",
       "    \n",
       "        &lt;script&gt;\n",
       "            L_NO_TOUCH = false;\n",
       "            L_DISABLE_3D = false;\n",
       "        &lt;/script&gt;\n",
       "    \n",
       "    &lt;style&gt;html, body {width: 100%;height: 100%;margin: 0;padding: 0;}&lt;/style&gt;\n",
       "    &lt;style&gt;#map {position:absolute;top:0;bottom:0;right:0;left:0;}&lt;/style&gt;\n",
       "    &lt;script src=&quot;https://cdn.jsdelivr.net/npm/leaflet@1.9.3/dist/leaflet.js&quot;&gt;&lt;/script&gt;\n",
       "    &lt;script src=&quot;https://code.jquery.com/jquery-3.7.1.min.js&quot;&gt;&lt;/script&gt;\n",
       "    &lt;script src=&quot;https://cdn.jsdelivr.net/npm/bootstrap@5.2.2/dist/js/bootstrap.bundle.min.js&quot;&gt;&lt;/script&gt;\n",
       "    &lt;script src=&quot;https://cdnjs.cloudflare.com/ajax/libs/Leaflet.awesome-markers/2.0.2/leaflet.awesome-markers.js&quot;&gt;&lt;/script&gt;\n",
       "    &lt;link rel=&quot;stylesheet&quot; href=&quot;https://cdn.jsdelivr.net/npm/leaflet@1.9.3/dist/leaflet.css&quot;/&gt;\n",
       "    &lt;link rel=&quot;stylesheet&quot; href=&quot;https://cdn.jsdelivr.net/npm/bootstrap@5.2.2/dist/css/bootstrap.min.css&quot;/&gt;\n",
       "    &lt;link rel=&quot;stylesheet&quot; href=&quot;https://netdna.bootstrapcdn.com/bootstrap/3.0.0/css/bootstrap.min.css&quot;/&gt;\n",
       "    &lt;link rel=&quot;stylesheet&quot; href=&quot;https://cdn.jsdelivr.net/npm/@fortawesome/fontawesome-free@6.2.0/css/all.min.css&quot;/&gt;\n",
       "    &lt;link rel=&quot;stylesheet&quot; href=&quot;https://cdnjs.cloudflare.com/ajax/libs/Leaflet.awesome-markers/2.0.2/leaflet.awesome-markers.css&quot;/&gt;\n",
       "    &lt;link rel=&quot;stylesheet&quot; href=&quot;https://cdn.jsdelivr.net/gh/python-visualization/folium/folium/templates/leaflet.awesome.rotate.min.css&quot;/&gt;\n",
       "    \n",
       "            &lt;meta name=&quot;viewport&quot; content=&quot;width=device-width,\n",
       "                initial-scale=1.0, maximum-scale=1.0, user-scalable=no&quot; /&gt;\n",
       "            &lt;style&gt;\n",
       "                #map_639798b0483845dc6b6ccdd25019e047 {\n",
       "                    position: relative;\n",
       "                    width: 100.0%;\n",
       "                    height: 100.0%;\n",
       "                    left: 0.0%;\n",
       "                    top: 0.0%;\n",
       "                }\n",
       "                .leaflet-container { font-size: 1rem; }\n",
       "            &lt;/style&gt;\n",
       "        \n",
       "&lt;/head&gt;\n",
       "&lt;body&gt;\n",
       "    \n",
       "    \n",
       "            &lt;div class=&quot;folium-map&quot; id=&quot;map_639798b0483845dc6b6ccdd25019e047&quot; &gt;&lt;/div&gt;\n",
       "        \n",
       "&lt;/body&gt;\n",
       "&lt;script&gt;\n",
       "    \n",
       "    \n",
       "            var map_639798b0483845dc6b6ccdd25019e047 = L.map(\n",
       "                &quot;map_639798b0483845dc6b6ccdd25019e047&quot;,\n",
       "                {\n",
       "                    center: [50.965, 13.922],\n",
       "                    crs: L.CRS.EPSG3857,\n",
       "                    zoom: 12,\n",
       "                    zoomControl: true,\n",
       "                    preferCanvas: false,\n",
       "                }\n",
       "            );\n",
       "\n",
       "            \n",
       "\n",
       "        \n",
       "    \n",
       "            var tile_layer_ec46e5ed9b93450ba34a8bd336a64091 = L.tileLayer(\n",
       "                &quot;https://{s}.basemaps.cartocdn.com/light_all/{z}/{x}/{y}{r}.png&quot;,\n",
       "                {&quot;attribution&quot;: &quot;\\u0026copy; \\u003ca href=\\&quot;https://www.openstreetmap.org/copyright\\&quot;\\u003eOpenStreetMap\\u003c/a\\u003e contributors \\u0026copy; \\u003ca href=\\&quot;https://carto.com/attributions\\&quot;\\u003eCARTO\\u003c/a\\u003e&quot;, &quot;detectRetina&quot;: false, &quot;maxNativeZoom&quot;: 20, &quot;maxZoom&quot;: 20, &quot;minZoom&quot;: 0, &quot;noWrap&quot;: false, &quot;opacity&quot;: 1, &quot;subdomains&quot;: &quot;abcd&quot;, &quot;tms&quot;: false}\n",
       "            );\n",
       "        \n",
       "    \n",
       "            tile_layer_ec46e5ed9b93450ba34a8bd336a64091.addTo(map_639798b0483845dc6b6ccdd25019e047);\n",
       "        \n",
       "    \n",
       "\n",
       "        function geo_json_7573d8a161f7259230aacfde65b601aa_onEachFeature(feature, layer) {\n",
       "            layer.on({\n",
       "            });\n",
       "        };\n",
       "        var geo_json_7573d8a161f7259230aacfde65b601aa = L.geoJson(null, {\n",
       "                onEachFeature: geo_json_7573d8a161f7259230aacfde65b601aa_onEachFeature,\n",
       "            \n",
       "        });\n",
       "\n",
       "        function geo_json_7573d8a161f7259230aacfde65b601aa_add (data) {\n",
       "            geo_json_7573d8a161f7259230aacfde65b601aa\n",
       "                .addData(data);\n",
       "        }\n",
       "            geo_json_7573d8a161f7259230aacfde65b601aa_add({&quot;coordinates&quot;: [[[13.92, 50.964], [13.92, 50.966], [13.925, 50.966], [13.925, 50.964], [13.92, 50.964]]], &quot;type&quot;: &quot;Polygon&quot;});\n",
       "\n",
       "        \n",
       "    \n",
       "            geo_json_7573d8a161f7259230aacfde65b601aa.addTo(map_639798b0483845dc6b6ccdd25019e047);\n",
       "        \n",
       "    \n",
       "            map_639798b0483845dc6b6ccdd25019e047.fitBounds(\n",
       "                [[50.964, 13.92], [50.966, 13.925]],\n",
       "                {}\n",
       "            );\n",
       "        \n",
       "&lt;/script&gt;\n",
       "&lt;/html&gt;\" style=\"position:absolute;width:100%;height:100%;left:0;top:0;border:none !important;\" allowfullscreen webkitallowfullscreen mozallowfullscreen></iframe></div></div>"
      ],
      "text/plain": [
       "<folium.folium.Map at 0x13084e960>"
      ]
     },
     "execution_count": 5,
     "metadata": {},
     "output_type": "execute_result"
    }
   ],
   "source": [
    "import folium\n",
    "\n",
    "m = folium.Map(tiles=\"cartodbpositron\", crs=\"EPSG3857\", zoom_start=12, location=[50.965, 13.922])\n",
    "m.add_child(folium.GeoJson(polygon.as_geojson()))\n",
    "\n",
    "m.fit_bounds(m.get_bounds())\n",
    "m"
   ]
  },
  {
   "cell_type": "markdown",
   "id": "62ae3587df801000",
   "metadata": {
    "collapsed": false,
    "papermill": {
     "duration": 0.002125,
     "end_time": "2024-08-19T20:27:20.809706",
     "exception": false,
     "start_time": "2024-08-19T20:27:20.807581",
     "status": "completed"
    },
    "tags": []
   },
   "source": [
    "# Setup general head boundaries"
   ]
  },
  {
   "cell_type": "code",
   "execution_count": 6,
   "id": "53679913aee28ce9",
   "metadata": {
    "ExecuteTime": {
     "end_time": "2024-08-19T10:13:29.321575Z",
     "start_time": "2024-08-19T10:13:28.298471Z"
    },
    "collapsed": false,
    "execution": {
     "iopub.execute_input": "2024-08-19T20:27:20.814561Z",
     "iopub.status.busy": "2024-08-19T20:27:20.814357Z",
     "iopub.status.idle": "2024-08-19T20:27:21.658807Z",
     "shell.execute_reply": "2024-08-19T20:27:21.658564Z"
    },
    "papermill": {
     "duration": 0.847902,
     "end_time": "2024-08-19T20:27:21.659642",
     "exception": false,
     "start_time": "2024-08-19T20:27:20.811740",
     "status": "completed"
    },
    "tags": []
   },
   "outputs": [
    {
     "data": {
      "text/html": [
       "<div style=\"width:100%;\"><div style=\"position:relative;width:100%;height:0;padding-bottom:60%;\"><span style=\"color:#565656\">Make this Notebook Trusted to load map: File -> Trust Notebook</span><iframe srcdoc=\"&lt;!DOCTYPE html&gt;\n",
       "&lt;html&gt;\n",
       "&lt;head&gt;\n",
       "    \n",
       "    &lt;meta http-equiv=&quot;content-type&quot; content=&quot;text/html; charset=UTF-8&quot; /&gt;\n",
       "    \n",
       "        &lt;script&gt;\n",
       "            L_NO_TOUCH = false;\n",
       "            L_DISABLE_3D = false;\n",
       "        &lt;/script&gt;\n",
       "    \n",
       "    &lt;style&gt;html, body {width: 100%;height: 100%;margin: 0;padding: 0;}&lt;/style&gt;\n",
       "    &lt;style&gt;#map {position:absolute;top:0;bottom:0;right:0;left:0;}&lt;/style&gt;\n",
       "    &lt;script src=&quot;https://cdn.jsdelivr.net/npm/leaflet@1.9.3/dist/leaflet.js&quot;&gt;&lt;/script&gt;\n",
       "    &lt;script src=&quot;https://code.jquery.com/jquery-3.7.1.min.js&quot;&gt;&lt;/script&gt;\n",
       "    &lt;script src=&quot;https://cdn.jsdelivr.net/npm/bootstrap@5.2.2/dist/js/bootstrap.bundle.min.js&quot;&gt;&lt;/script&gt;\n",
       "    &lt;script src=&quot;https://cdnjs.cloudflare.com/ajax/libs/Leaflet.awesome-markers/2.0.2/leaflet.awesome-markers.js&quot;&gt;&lt;/script&gt;\n",
       "    &lt;link rel=&quot;stylesheet&quot; href=&quot;https://cdn.jsdelivr.net/npm/leaflet@1.9.3/dist/leaflet.css&quot;/&gt;\n",
       "    &lt;link rel=&quot;stylesheet&quot; href=&quot;https://cdn.jsdelivr.net/npm/bootstrap@5.2.2/dist/css/bootstrap.min.css&quot;/&gt;\n",
       "    &lt;link rel=&quot;stylesheet&quot; href=&quot;https://netdna.bootstrapcdn.com/bootstrap/3.0.0/css/bootstrap.min.css&quot;/&gt;\n",
       "    &lt;link rel=&quot;stylesheet&quot; href=&quot;https://cdn.jsdelivr.net/npm/@fortawesome/fontawesome-free@6.2.0/css/all.min.css&quot;/&gt;\n",
       "    &lt;link rel=&quot;stylesheet&quot; href=&quot;https://cdnjs.cloudflare.com/ajax/libs/Leaflet.awesome-markers/2.0.2/leaflet.awesome-markers.css&quot;/&gt;\n",
       "    &lt;link rel=&quot;stylesheet&quot; href=&quot;https://cdn.jsdelivr.net/gh/python-visualization/folium/folium/templates/leaflet.awesome.rotate.min.css&quot;/&gt;\n",
       "    \n",
       "            &lt;meta name=&quot;viewport&quot; content=&quot;width=device-width,\n",
       "                initial-scale=1.0, maximum-scale=1.0, user-scalable=no&quot; /&gt;\n",
       "            &lt;style&gt;\n",
       "                #map_639798b0483845dc6b6ccdd25019e047 {\n",
       "                    position: relative;\n",
       "                    width: 100.0%;\n",
       "                    height: 100.0%;\n",
       "                    left: 0.0%;\n",
       "                    top: 0.0%;\n",
       "                }\n",
       "                .leaflet-container { font-size: 1rem; }\n",
       "            &lt;/style&gt;\n",
       "        \n",
       "&lt;/head&gt;\n",
       "&lt;body&gt;\n",
       "    \n",
       "    \n",
       "            &lt;div class=&quot;folium-map&quot; id=&quot;map_639798b0483845dc6b6ccdd25019e047&quot; &gt;&lt;/div&gt;\n",
       "        \n",
       "&lt;/body&gt;\n",
       "&lt;script&gt;\n",
       "    \n",
       "    \n",
       "            var map_639798b0483845dc6b6ccdd25019e047 = L.map(\n",
       "                &quot;map_639798b0483845dc6b6ccdd25019e047&quot;,\n",
       "                {\n",
       "                    center: [50.965, 13.922],\n",
       "                    crs: L.CRS.EPSG3857,\n",
       "                    zoom: 12,\n",
       "                    zoomControl: true,\n",
       "                    preferCanvas: false,\n",
       "                }\n",
       "            );\n",
       "\n",
       "            \n",
       "\n",
       "        \n",
       "    \n",
       "            var tile_layer_ec46e5ed9b93450ba34a8bd336a64091 = L.tileLayer(\n",
       "                &quot;https://{s}.basemaps.cartocdn.com/light_all/{z}/{x}/{y}{r}.png&quot;,\n",
       "                {&quot;attribution&quot;: &quot;\\u0026copy; \\u003ca href=\\&quot;https://www.openstreetmap.org/copyright\\&quot;\\u003eOpenStreetMap\\u003c/a\\u003e contributors \\u0026copy; \\u003ca href=\\&quot;https://carto.com/attributions\\&quot;\\u003eCARTO\\u003c/a\\u003e&quot;, &quot;detectRetina&quot;: false, &quot;maxNativeZoom&quot;: 20, &quot;maxZoom&quot;: 20, &quot;minZoom&quot;: 0, &quot;noWrap&quot;: false, &quot;opacity&quot;: 1, &quot;subdomains&quot;: &quot;abcd&quot;, &quot;tms&quot;: false}\n",
       "            );\n",
       "        \n",
       "    \n",
       "            tile_layer_ec46e5ed9b93450ba34a8bd336a64091.addTo(map_639798b0483845dc6b6ccdd25019e047);\n",
       "        \n",
       "    \n",
       "\n",
       "        function geo_json_7573d8a161f7259230aacfde65b601aa_onEachFeature(feature, layer) {\n",
       "            layer.on({\n",
       "            });\n",
       "        };\n",
       "        var geo_json_7573d8a161f7259230aacfde65b601aa = L.geoJson(null, {\n",
       "                onEachFeature: geo_json_7573d8a161f7259230aacfde65b601aa_onEachFeature,\n",
       "            \n",
       "        });\n",
       "\n",
       "        function geo_json_7573d8a161f7259230aacfde65b601aa_add (data) {\n",
       "            geo_json_7573d8a161f7259230aacfde65b601aa\n",
       "                .addData(data);\n",
       "        }\n",
       "            geo_json_7573d8a161f7259230aacfde65b601aa_add({&quot;coordinates&quot;: [[[13.92, 50.964], [13.92, 50.966], [13.925, 50.966], [13.925, 50.964], [13.92, 50.964]]], &quot;type&quot;: &quot;Polygon&quot;});\n",
       "\n",
       "        \n",
       "    \n",
       "            geo_json_7573d8a161f7259230aacfde65b601aa.addTo(map_639798b0483845dc6b6ccdd25019e047);\n",
       "        \n",
       "    \n",
       "            map_639798b0483845dc6b6ccdd25019e047.fitBounds(\n",
       "                [[50.964, 13.92], [50.966, 13.925]],\n",
       "                {}\n",
       "            );\n",
       "        \n",
       "    \n",
       "            tile_layer_ec46e5ed9b93450ba34a8bd336a64091.addTo(map_639798b0483845dc6b6ccdd25019e047);\n",
       "        \n",
       "    \n",
       "            geo_json_7573d8a161f7259230aacfde65b601aa.addTo(map_639798b0483845dc6b6ccdd25019e047);\n",
       "        \n",
       "    \n",
       "\n",
       "        function geo_json_a508facbedf342d7a3e44f3175b179d1_onEachFeature(feature, layer) {\n",
       "            layer.on({\n",
       "            });\n",
       "        };\n",
       "        var geo_json_a508facbedf342d7a3e44f3175b179d1 = L.geoJson(null, {\n",
       "                onEachFeature: geo_json_a508facbedf342d7a3e44f3175b179d1_onEachFeature,\n",
       "            \n",
       "        });\n",
       "\n",
       "        function geo_json_a508facbedf342d7a3e44f3175b179d1_add (data) {\n",
       "            geo_json_a508facbedf342d7a3e44f3175b179d1\n",
       "                .addData(data);\n",
       "        }\n",
       "            geo_json_a508facbedf342d7a3e44f3175b179d1_add({&quot;coordinates&quot;: [[13.92499, 50.966], [13.92499, 50.964]], &quot;type&quot;: &quot;LineString&quot;});\n",
       "\n",
       "        \n",
       "    \n",
       "            geo_json_a508facbedf342d7a3e44f3175b179d1.addTo(map_639798b0483845dc6b6ccdd25019e047);\n",
       "        \n",
       "    \n",
       "\n",
       "        function geo_json_aefb8276b15b62e8defc879051e4ed8b_onEachFeature(feature, layer) {\n",
       "            layer.on({\n",
       "            });\n",
       "        };\n",
       "        var geo_json_aefb8276b15b62e8defc879051e4ed8b = L.geoJson(null, {\n",
       "                onEachFeature: geo_json_aefb8276b15b62e8defc879051e4ed8b_onEachFeature,\n",
       "            \n",
       "        });\n",
       "\n",
       "        function geo_json_aefb8276b15b62e8defc879051e4ed8b_add (data) {\n",
       "            geo_json_aefb8276b15b62e8defc879051e4ed8b\n",
       "                .addData(data);\n",
       "        }\n",
       "            geo_json_aefb8276b15b62e8defc879051e4ed8b_add({&quot;geometries&quot;: [{&quot;coordinates&quot;: [[[13.92495, 50.965999999999994], [13.925000000000002, 50.965999999999994], [13.925000000000002, 50.965960000843815], [13.92495, 50.965960000843815], [13.92495, 50.965999999999994]]], &quot;type&quot;: &quot;Polygon&quot;}, {&quot;coordinates&quot;: [[[13.92495, 50.965960000843815], [13.925000000000002, 50.965960000843815], [13.925000000000002, 50.965920001653195], [13.92495, 50.965920001653195], [13.92495, 50.965960000843815]]], &quot;type&quot;: &quot;Polygon&quot;}, {&quot;coordinates&quot;: [[[13.92495, 50.965920001653195], [13.925000000000002, 50.965920001653195], [13.925000000000002, 50.965880002428136], [13.92495, 50.965880002428136], [13.92495, 50.965920001653195]]], &quot;type&quot;: &quot;Polygon&quot;}, {&quot;coordinates&quot;: [[[13.92495, 50.965880002428136], [13.925000000000002, 50.965880002428136], [13.925000000000002, 50.96584000316863], [13.92495, 50.96584000316863], [13.92495, 50.965880002428136]]], &quot;type&quot;: &quot;Polygon&quot;}, {&quot;coordinates&quot;: [[[13.92495, 50.96584000316863], [13.925000000000002, 50.96584000316863], [13.925000000000002, 50.96580000387468], [13.92495, 50.96580000387468], [13.92495, 50.96584000316863]]], &quot;type&quot;: &quot;Polygon&quot;}, {&quot;coordinates&quot;: [[[13.92495, 50.96580000387468], [13.925000000000002, 50.96580000387468], [13.925000000000002, 50.965760004546304], [13.92495, 50.965760004546304], [13.92495, 50.96580000387468]]], &quot;type&quot;: &quot;Polygon&quot;}, {&quot;coordinates&quot;: [[[13.92495, 50.965760004546304], [13.925000000000002, 50.965760004546304], [13.925000000000002, 50.96572000518347], [13.92495, 50.96572000518347], [13.92495, 50.965760004546304]]], &quot;type&quot;: &quot;Polygon&quot;}, {&quot;coordinates&quot;: [[[13.92495, 50.96572000518347], [13.925000000000002, 50.96572000518347], [13.925000000000002, 50.9656800057862], [13.92495, 50.9656800057862], [13.92495, 50.96572000518347]]], &quot;type&quot;: &quot;Polygon&quot;}, {&quot;coordinates&quot;: [[[13.92495, 50.9656800057862], [13.925000000000002, 50.9656800057862], [13.925000000000002, 50.9656400063545], [13.92495, 50.9656400063545], [13.92495, 50.9656800057862]]], &quot;type&quot;: &quot;Polygon&quot;}, {&quot;coordinates&quot;: [[[13.92495, 50.9656400063545], [13.925000000000002, 50.9656400063545], [13.925000000000002, 50.965600006888344], [13.92495, 50.965600006888344], [13.92495, 50.9656400063545]]], &quot;type&quot;: &quot;Polygon&quot;}, {&quot;coordinates&quot;: [[[13.92495, 50.965600006888344], [13.925000000000002, 50.965600006888344], [13.925000000000002, 50.965560007387744], [13.92495, 50.965560007387744], [13.92495, 50.965600006888344]]], &quot;type&quot;: &quot;Polygon&quot;}, {&quot;coordinates&quot;: [[[13.92495, 50.965560007387744], [13.925000000000002, 50.965560007387744], [13.925000000000002, 50.96552000785271], [13.92495, 50.96552000785271], [13.92495, 50.965560007387744]]], &quot;type&quot;: &quot;Polygon&quot;}, {&quot;coordinates&quot;: [[[13.92495, 50.96552000785271], [13.925000000000002, 50.96552000785271], [13.925000000000002, 50.96548000828324], [13.92495, 50.96548000828324], [13.92495, 50.96552000785271]]], &quot;type&quot;: &quot;Polygon&quot;}, {&quot;coordinates&quot;: [[[13.92495, 50.96548000828324], [13.925000000000002, 50.96548000828324], [13.925000000000002, 50.965440008679316], [13.92495, 50.965440008679316], [13.92495, 50.96548000828324]]], &quot;type&quot;: &quot;Polygon&quot;}, {&quot;coordinates&quot;: [[[13.92495, 50.965440008679316], [13.925000000000002, 50.965440008679316], [13.925000000000002, 50.965400009040955], [13.92495, 50.965400009040955], [13.92495, 50.965440008679316]]], &quot;type&quot;: &quot;Polygon&quot;}, {&quot;coordinates&quot;: [[[13.92495, 50.965400009040955], [13.925000000000002, 50.965400009040955], [13.925000000000002, 50.965360009368155], [13.92495, 50.965360009368155], [13.92495, 50.965400009040955]]], &quot;type&quot;: &quot;Polygon&quot;}, {&quot;coordinates&quot;: [[[13.92495, 50.965360009368155], [13.925000000000002, 50.965360009368155], [13.925000000000002, 50.96532000966091], [13.92495, 50.96532000966091], [13.92495, 50.965360009368155]]], &quot;type&quot;: &quot;Polygon&quot;}, {&quot;coordinates&quot;: [[[13.92495, 50.96532000966091], [13.925000000000002, 50.96532000966091], [13.925000000000002, 50.965280009919226], [13.92495, 50.965280009919226], [13.92495, 50.96532000966091]]], &quot;type&quot;: &quot;Polygon&quot;}, {&quot;coordinates&quot;: [[[13.92495, 50.965280009919226], [13.925000000000002, 50.965280009919226], [13.925000000000002, 50.96524001014309], [13.92495, 50.96524001014309], [13.92495, 50.965280009919226]]], &quot;type&quot;: &quot;Polygon&quot;}, {&quot;coordinates&quot;: [[[13.92495, 50.96524001014309], [13.925000000000002, 50.96524001014309], [13.925000000000002, 50.96520001033253], [13.92495, 50.96520001033253], [13.92495, 50.96524001014309]]], &quot;type&quot;: &quot;Polygon&quot;}, {&quot;coordinates&quot;: [[[13.92495, 50.96520001033253], [13.925000000000002, 50.96520001033253], [13.925000000000002, 50.965160010487516], [13.92495, 50.965160010487516], [13.92495, 50.96520001033253]]], &quot;type&quot;: &quot;Polygon&quot;}, {&quot;coordinates&quot;: [[[13.92495, 50.965160010487516], [13.925000000000002, 50.965160010487516], [13.925000000000002, 50.96512001060807], [13.92495, 50.96512001060807], [13.92495, 50.965160010487516]]], &quot;type&quot;: &quot;Polygon&quot;}, {&quot;coordinates&quot;: [[[13.92495, 50.96512001060807], [13.925000000000002, 50.96512001060807], [13.925000000000002, 50.96508001069417], [13.92495, 50.96508001069417], [13.92495, 50.96512001060807]]], &quot;type&quot;: &quot;Polygon&quot;}, {&quot;coordinates&quot;: [[[13.92495, 50.96508001069417], [13.925000000000002, 50.96508001069417], [13.925000000000002, 50.96504001074583], [13.92495, 50.96504001074583], [13.92495, 50.96508001069417]]], &quot;type&quot;: &quot;Polygon&quot;}, {&quot;coordinates&quot;: [[[13.92495, 50.96504001074583], [13.925000000000002, 50.96504001074583], [13.925000000000002, 50.96500001076305], [13.92495, 50.96500001076305], [13.92495, 50.96504001074583]]], &quot;type&quot;: &quot;Polygon&quot;}, {&quot;coordinates&quot;: [[[13.92495, 50.96500001076305], [13.925000000000002, 50.96500001076305], [13.925000000000002, 50.964960010745834], [13.92495, 50.964960010745834], [13.92495, 50.96500001076305]]], &quot;type&quot;: &quot;Polygon&quot;}, {&quot;coordinates&quot;: [[[13.92495, 50.964960010745834], [13.925000000000002, 50.964960010745834], [13.925000000000002, 50.96492001069418], [13.92495, 50.96492001069418], [13.92495, 50.964960010745834]]], &quot;type&quot;: &quot;Polygon&quot;}, {&quot;coordinates&quot;: [[[13.92495, 50.96492001069418], [13.925000000000002, 50.96492001069418], [13.925000000000002, 50.96488001060807], [13.92495, 50.96488001060807], [13.92495, 50.96492001069418]]], &quot;type&quot;: &quot;Polygon&quot;}, {&quot;coordinates&quot;: [[[13.92495, 50.96488001060807], [13.925000000000002, 50.96488001060807], [13.925000000000002, 50.96484001048752], [13.92495, 50.96484001048752], [13.92495, 50.96488001060807]]], &quot;type&quot;: &quot;Polygon&quot;}, {&quot;coordinates&quot;: [[[13.92495, 50.96484001048752], [13.925000000000002, 50.96484001048752], [13.925000000000002, 50.964800010332546], [13.92495, 50.964800010332546], [13.92495, 50.96484001048752]]], &quot;type&quot;: &quot;Polygon&quot;}, {&quot;coordinates&quot;: [[[13.92495, 50.964800010332546], [13.925000000000002, 50.964800010332546], [13.925000000000002, 50.96476001014311], [13.92495, 50.96476001014311], [13.92495, 50.964800010332546]]], &quot;type&quot;: &quot;Polygon&quot;}, {&quot;coordinates&quot;: [[[13.92495, 50.96476001014311], [13.925000000000002, 50.96476001014311], [13.925000000000002, 50.96472000991924], [13.92495, 50.96472000991924], [13.92495, 50.96476001014311]]], &quot;type&quot;: &quot;Polygon&quot;}, {&quot;coordinates&quot;: [[[13.92495, 50.96472000991924], [13.925000000000002, 50.96472000991924], [13.925000000000002, 50.964680009660924], [13.92495, 50.964680009660924], [13.92495, 50.96472000991924]]], &quot;type&quot;: &quot;Polygon&quot;}, {&quot;coordinates&quot;: [[[13.92495, 50.964680009660924], [13.925000000000002, 50.964680009660924], [13.925000000000002, 50.96464000936817], [13.92495, 50.96464000936817], [13.92495, 50.964680009660924]]], &quot;type&quot;: &quot;Polygon&quot;}, {&quot;coordinates&quot;: [[[13.92495, 50.96464000936817], [13.925000000000002, 50.96464000936817], [13.925000000000002, 50.96460000904097], [13.92495, 50.96460000904097], [13.92495, 50.96464000936817]]], &quot;type&quot;: &quot;Polygon&quot;}, {&quot;coordinates&quot;: [[[13.92495, 50.96460000904097], [13.925000000000002, 50.96460000904097], [13.925000000000002, 50.96456000867934], [13.92495, 50.96456000867934], [13.92495, 50.96460000904097]]], &quot;type&quot;: &quot;Polygon&quot;}, {&quot;coordinates&quot;: [[[13.92495, 50.96456000867934], [13.925000000000002, 50.96456000867934], [13.925000000000002, 50.96452000828325], [13.92495, 50.96452000828325], [13.92495, 50.96456000867934]]], &quot;type&quot;: &quot;Polygon&quot;}, {&quot;coordinates&quot;: [[[13.92495, 50.96452000828325], [13.925000000000002, 50.96452000828325], [13.925000000000002, 50.964480007852735], [13.92495, 50.964480007852735], [13.92495, 50.96452000828325]]], &quot;type&quot;: &quot;Polygon&quot;}, {&quot;coordinates&quot;: [[[13.92495, 50.964480007852735], [13.925000000000002, 50.964480007852735], [13.925000000000002, 50.96444000738777], [13.92495, 50.96444000738777], [13.92495, 50.964480007852735]]], &quot;type&quot;: &quot;Polygon&quot;}, {&quot;coordinates&quot;: [[[13.92495, 50.96444000738777], [13.925000000000002, 50.96444000738777], [13.925000000000002, 50.96440000688836], [13.92495, 50.96440000688836], [13.92495, 50.96444000738777]]], &quot;type&quot;: &quot;Polygon&quot;}, {&quot;coordinates&quot;: [[[13.92495, 50.96440000688836], [13.925000000000002, 50.96440000688836], [13.925000000000002, 50.96436000635452], [13.92495, 50.96436000635452], [13.92495, 50.96440000688836]]], &quot;type&quot;: &quot;Polygon&quot;}, {&quot;coordinates&quot;: [[[13.92495, 50.96436000635452], [13.925000000000002, 50.96436000635452], [13.925000000000002, 50.96432000578623], [13.92495, 50.96432000578623], [13.92495, 50.96436000635452]]], &quot;type&quot;: &quot;Polygon&quot;}, {&quot;coordinates&quot;: [[[13.92495, 50.96432000578623], [13.925000000000002, 50.96432000578623], [13.925000000000002, 50.9642800051835], [13.92495, 50.9642800051835], [13.92495, 50.96432000578623]]], &quot;type&quot;: &quot;Polygon&quot;}, {&quot;coordinates&quot;: [[[13.92495, 50.9642800051835], [13.925000000000002, 50.9642800051835], [13.925000000000002, 50.96424000454632], [13.92495, 50.96424000454632], [13.92495, 50.9642800051835]]], &quot;type&quot;: &quot;Polygon&quot;}, {&quot;coordinates&quot;: [[[13.92495, 50.96424000454632], [13.925000000000002, 50.96424000454632], [13.925000000000002, 50.96420000387471], [13.92495, 50.96420000387471], [13.92495, 50.96424000454632]]], &quot;type&quot;: &quot;Polygon&quot;}, {&quot;coordinates&quot;: [[[13.92495, 50.96420000387471], [13.925000000000002, 50.96420000387471], [13.925000000000002, 50.964160003168644], [13.92495, 50.964160003168644], [13.92495, 50.96420000387471]]], &quot;type&quot;: &quot;Polygon&quot;}, {&quot;coordinates&quot;: [[[13.92495, 50.964160003168644], [13.925000000000002, 50.964160003168644], [13.925000000000002, 50.964120002428146], [13.92495, 50.964120002428146], [13.92495, 50.964160003168644]]], &quot;type&quot;: &quot;Polygon&quot;}, {&quot;coordinates&quot;: [[[13.92495, 50.964120002428146], [13.925000000000002, 50.964120002428146], [13.925000000000002, 50.96408000165321], [13.92495, 50.96408000165321], [13.92495, 50.964120002428146]]], &quot;type&quot;: &quot;Polygon&quot;}, {&quot;coordinates&quot;: [[[13.92495, 50.96408000165321], [13.925000000000002, 50.96408000165321], [13.925000000000002, 50.964040000843816], [13.92495, 50.964040000843816], [13.92495, 50.96408000165321]]], &quot;type&quot;: &quot;Polygon&quot;}, {&quot;coordinates&quot;: [[[13.92495, 50.964040000843816], [13.925000000000002, 50.964040000843816], [13.925000000000002, 50.96399999999999], [13.92495, 50.96399999999999], [13.92495, 50.964040000843816]]], &quot;type&quot;: &quot;Polygon&quot;}], &quot;type&quot;: &quot;GeometryCollection&quot;});\n",
       "\n",
       "        \n",
       "    \n",
       "            geo_json_aefb8276b15b62e8defc879051e4ed8b.addTo(map_639798b0483845dc6b6ccdd25019e047);\n",
       "        \n",
       "    \n",
       "\n",
       "        function geo_json_274cc22e252a8aed3f9869caf5d652bf_onEachFeature(feature, layer) {\n",
       "            layer.on({\n",
       "            });\n",
       "        };\n",
       "        var geo_json_274cc22e252a8aed3f9869caf5d652bf = L.geoJson(null, {\n",
       "                onEachFeature: geo_json_274cc22e252a8aed3f9869caf5d652bf_onEachFeature,\n",
       "            \n",
       "        });\n",
       "\n",
       "        function geo_json_274cc22e252a8aed3f9869caf5d652bf_add (data) {\n",
       "            geo_json_274cc22e252a8aed3f9869caf5d652bf\n",
       "                .addData(data);\n",
       "        }\n",
       "            geo_json_274cc22e252a8aed3f9869caf5d652bf_add({&quot;coordinates&quot;: [13.92499, 50.966], &quot;type&quot;: &quot;Point&quot;});\n",
       "\n",
       "        \n",
       "    \n",
       "            geo_json_274cc22e252a8aed3f9869caf5d652bf.addTo(map_639798b0483845dc6b6ccdd25019e047);\n",
       "        \n",
       "    \n",
       "\n",
       "        function geo_json_0b2e3e002ab7dfa19580ee738755cd03_onEachFeature(feature, layer) {\n",
       "            layer.on({\n",
       "            });\n",
       "        };\n",
       "        var geo_json_0b2e3e002ab7dfa19580ee738755cd03 = L.geoJson(null, {\n",
       "                onEachFeature: geo_json_0b2e3e002ab7dfa19580ee738755cd03_onEachFeature,\n",
       "            \n",
       "        });\n",
       "\n",
       "        function geo_json_0b2e3e002ab7dfa19580ee738755cd03_add (data) {\n",
       "            geo_json_0b2e3e002ab7dfa19580ee738755cd03\n",
       "                .addData(data);\n",
       "        }\n",
       "            geo_json_0b2e3e002ab7dfa19580ee738755cd03_add({&quot;coordinates&quot;: [[13.92004, 50.96401], [13.92004, 50.96599]], &quot;type&quot;: &quot;LineString&quot;});\n",
       "\n",
       "        \n",
       "    \n",
       "            geo_json_0b2e3e002ab7dfa19580ee738755cd03.addTo(map_639798b0483845dc6b6ccdd25019e047);\n",
       "        \n",
       "    \n",
       "\n",
       "        function geo_json_e30233d4eb1e219a90b12afed0ea3215_onEachFeature(feature, layer) {\n",
       "            layer.on({\n",
       "            });\n",
       "        };\n",
       "        var geo_json_e30233d4eb1e219a90b12afed0ea3215 = L.geoJson(null, {\n",
       "                onEachFeature: geo_json_e30233d4eb1e219a90b12afed0ea3215_onEachFeature,\n",
       "            \n",
       "        });\n",
       "\n",
       "        function geo_json_e30233d4eb1e219a90b12afed0ea3215_add (data) {\n",
       "            geo_json_e30233d4eb1e219a90b12afed0ea3215\n",
       "                .addData(data);\n",
       "        }\n",
       "            geo_json_e30233d4eb1e219a90b12afed0ea3215_add({&quot;geometries&quot;: [{&quot;coordinates&quot;: [[[13.920000000000002, 50.965999999999994], [13.920050000000002, 50.965999999999994], [13.920050000000002, 50.965960000843815], [13.920000000000002, 50.965960000843815], [13.920000000000002, 50.965999999999994]]], &quot;type&quot;: &quot;Polygon&quot;}, {&quot;coordinates&quot;: [[[13.920000000000002, 50.965960000843815], [13.920050000000002, 50.965960000843815], [13.920050000000002, 50.965920001653195], [13.920000000000002, 50.965920001653195], [13.920000000000002, 50.965960000843815]]], &quot;type&quot;: &quot;Polygon&quot;}, {&quot;coordinates&quot;: [[[13.920000000000002, 50.965920001653195], [13.920050000000002, 50.965920001653195], [13.920050000000002, 50.965880002428136], [13.920000000000002, 50.965880002428136], [13.920000000000002, 50.965920001653195]]], &quot;type&quot;: &quot;Polygon&quot;}, {&quot;coordinates&quot;: [[[13.920000000000002, 50.965880002428136], [13.920050000000002, 50.965880002428136], [13.920050000000002, 50.96584000316863], [13.920000000000002, 50.96584000316863], [13.920000000000002, 50.965880002428136]]], &quot;type&quot;: &quot;Polygon&quot;}, {&quot;coordinates&quot;: [[[13.920000000000002, 50.96584000316863], [13.920050000000002, 50.96584000316863], [13.920050000000002, 50.96580000387468], [13.920000000000002, 50.96580000387468], [13.920000000000002, 50.96584000316863]]], &quot;type&quot;: &quot;Polygon&quot;}, {&quot;coordinates&quot;: [[[13.920000000000002, 50.96580000387468], [13.920050000000002, 50.96580000387468], [13.920050000000002, 50.965760004546304], [13.920000000000002, 50.965760004546304], [13.920000000000002, 50.96580000387468]]], &quot;type&quot;: &quot;Polygon&quot;}, {&quot;coordinates&quot;: [[[13.920000000000002, 50.965760004546304], [13.920050000000002, 50.965760004546304], [13.920050000000002, 50.96572000518347], [13.920000000000002, 50.96572000518347], [13.920000000000002, 50.965760004546304]]], &quot;type&quot;: &quot;Polygon&quot;}, {&quot;coordinates&quot;: [[[13.920000000000002, 50.96572000518347], [13.920050000000002, 50.96572000518347], [13.920050000000002, 50.9656800057862], [13.920000000000002, 50.9656800057862], [13.920000000000002, 50.96572000518347]]], &quot;type&quot;: &quot;Polygon&quot;}, {&quot;coordinates&quot;: [[[13.920000000000002, 50.9656800057862], [13.920050000000002, 50.9656800057862], [13.920050000000002, 50.9656400063545], [13.920000000000002, 50.9656400063545], [13.920000000000002, 50.9656800057862]]], &quot;type&quot;: &quot;Polygon&quot;}, {&quot;coordinates&quot;: [[[13.920000000000002, 50.9656400063545], [13.920050000000002, 50.9656400063545], [13.920050000000002, 50.965600006888344], [13.920000000000002, 50.965600006888344], [13.920000000000002, 50.9656400063545]]], &quot;type&quot;: &quot;Polygon&quot;}, {&quot;coordinates&quot;: [[[13.920000000000002, 50.965600006888344], [13.920050000000002, 50.965600006888344], [13.920050000000002, 50.965560007387744], [13.920000000000002, 50.965560007387744], [13.920000000000002, 50.965600006888344]]], &quot;type&quot;: &quot;Polygon&quot;}, {&quot;coordinates&quot;: [[[13.920000000000002, 50.965560007387744], [13.920050000000002, 50.965560007387744], [13.920050000000002, 50.96552000785271], [13.920000000000002, 50.96552000785271], [13.920000000000002, 50.965560007387744]]], &quot;type&quot;: &quot;Polygon&quot;}, {&quot;coordinates&quot;: [[[13.920000000000002, 50.96552000785271], [13.920050000000002, 50.96552000785271], [13.920050000000002, 50.96548000828324], [13.920000000000002, 50.96548000828324], [13.920000000000002, 50.96552000785271]]], &quot;type&quot;: &quot;Polygon&quot;}, {&quot;coordinates&quot;: [[[13.920000000000002, 50.96548000828324], [13.920050000000002, 50.96548000828324], [13.920050000000002, 50.965440008679316], [13.920000000000002, 50.965440008679316], [13.920000000000002, 50.96548000828324]]], &quot;type&quot;: &quot;Polygon&quot;}, {&quot;coordinates&quot;: [[[13.920000000000002, 50.965440008679316], [13.920050000000002, 50.965440008679316], [13.920050000000002, 50.965400009040955], [13.920000000000002, 50.965400009040955], [13.920000000000002, 50.965440008679316]]], &quot;type&quot;: &quot;Polygon&quot;}, {&quot;coordinates&quot;: [[[13.920000000000002, 50.965400009040955], [13.920050000000002, 50.965400009040955], [13.920050000000002, 50.965360009368155], [13.920000000000002, 50.965360009368155], [13.920000000000002, 50.965400009040955]]], &quot;type&quot;: &quot;Polygon&quot;}, {&quot;coordinates&quot;: [[[13.920000000000002, 50.965360009368155], [13.920050000000002, 50.965360009368155], [13.920050000000002, 50.96532000966091], [13.920000000000002, 50.96532000966091], [13.920000000000002, 50.965360009368155]]], &quot;type&quot;: &quot;Polygon&quot;}, {&quot;coordinates&quot;: [[[13.920000000000002, 50.96532000966091], [13.920050000000002, 50.96532000966091], [13.920050000000002, 50.965280009919226], [13.920000000000002, 50.965280009919226], [13.920000000000002, 50.96532000966091]]], &quot;type&quot;: &quot;Polygon&quot;}, {&quot;coordinates&quot;: [[[13.920000000000002, 50.965280009919226], [13.920050000000002, 50.965280009919226], [13.920050000000002, 50.96524001014309], [13.920000000000002, 50.96524001014309], [13.920000000000002, 50.965280009919226]]], &quot;type&quot;: &quot;Polygon&quot;}, {&quot;coordinates&quot;: [[[13.920000000000002, 50.96524001014309], [13.920050000000002, 50.96524001014309], [13.920050000000002, 50.96520001033253], [13.920000000000002, 50.96520001033253], [13.920000000000002, 50.96524001014309]]], &quot;type&quot;: &quot;Polygon&quot;}, {&quot;coordinates&quot;: [[[13.920000000000002, 50.96520001033253], [13.920050000000002, 50.96520001033253], [13.920050000000002, 50.965160010487516], [13.920000000000002, 50.965160010487516], [13.920000000000002, 50.96520001033253]]], &quot;type&quot;: &quot;Polygon&quot;}, {&quot;coordinates&quot;: [[[13.920000000000002, 50.965160010487516], [13.920050000000002, 50.965160010487516], [13.920050000000002, 50.96512001060807], [13.920000000000002, 50.96512001060807], [13.920000000000002, 50.965160010487516]]], &quot;type&quot;: &quot;Polygon&quot;}, {&quot;coordinates&quot;: [[[13.920000000000002, 50.96512001060807], [13.920050000000002, 50.96512001060807], [13.920050000000002, 50.96508001069417], [13.920000000000002, 50.96508001069417], [13.920000000000002, 50.96512001060807]]], &quot;type&quot;: &quot;Polygon&quot;}, {&quot;coordinates&quot;: [[[13.920000000000002, 50.96508001069417], [13.920050000000002, 50.96508001069417], [13.920050000000002, 50.96504001074583], [13.920000000000002, 50.96504001074583], [13.920000000000002, 50.96508001069417]]], &quot;type&quot;: &quot;Polygon&quot;}, {&quot;coordinates&quot;: [[[13.920000000000002, 50.96504001074583], [13.920050000000002, 50.96504001074583], [13.920050000000002, 50.96500001076305], [13.920000000000002, 50.96500001076305], [13.920000000000002, 50.96504001074583]]], &quot;type&quot;: &quot;Polygon&quot;}, {&quot;coordinates&quot;: [[[13.920000000000002, 50.96500001076305], [13.920050000000002, 50.96500001076305], [13.920050000000002, 50.964960010745834], [13.920000000000002, 50.964960010745834], [13.920000000000002, 50.96500001076305]]], &quot;type&quot;: &quot;Polygon&quot;}, {&quot;coordinates&quot;: [[[13.920000000000002, 50.964960010745834], [13.920050000000002, 50.964960010745834], [13.920050000000002, 50.96492001069418], [13.920000000000002, 50.96492001069418], [13.920000000000002, 50.964960010745834]]], &quot;type&quot;: &quot;Polygon&quot;}, {&quot;coordinates&quot;: [[[13.920000000000002, 50.96492001069418], [13.920050000000002, 50.96492001069418], [13.920050000000002, 50.96488001060807], [13.920000000000002, 50.96488001060807], [13.920000000000002, 50.96492001069418]]], &quot;type&quot;: &quot;Polygon&quot;}, {&quot;coordinates&quot;: [[[13.920000000000002, 50.96488001060807], [13.920050000000002, 50.96488001060807], [13.920050000000002, 50.96484001048752], [13.920000000000002, 50.96484001048752], [13.920000000000002, 50.96488001060807]]], &quot;type&quot;: &quot;Polygon&quot;}, {&quot;coordinates&quot;: [[[13.920000000000002, 50.96484001048752], [13.920050000000002, 50.96484001048752], [13.920050000000002, 50.964800010332546], [13.920000000000002, 50.964800010332546], [13.920000000000002, 50.96484001048752]]], &quot;type&quot;: &quot;Polygon&quot;}, {&quot;coordinates&quot;: [[[13.920000000000002, 50.964800010332546], [13.920050000000002, 50.964800010332546], [13.920050000000002, 50.96476001014311], [13.920000000000002, 50.96476001014311], [13.920000000000002, 50.964800010332546]]], &quot;type&quot;: &quot;Polygon&quot;}, {&quot;coordinates&quot;: [[[13.920000000000002, 50.96476001014311], [13.920050000000002, 50.96476001014311], [13.920050000000002, 50.96472000991924], [13.920000000000002, 50.96472000991924], [13.920000000000002, 50.96476001014311]]], &quot;type&quot;: &quot;Polygon&quot;}, {&quot;coordinates&quot;: [[[13.920000000000002, 50.96472000991924], [13.920050000000002, 50.96472000991924], [13.920050000000002, 50.964680009660924], [13.920000000000002, 50.964680009660924], [13.920000000000002, 50.96472000991924]]], &quot;type&quot;: &quot;Polygon&quot;}, {&quot;coordinates&quot;: [[[13.920000000000002, 50.964680009660924], [13.920050000000002, 50.964680009660924], [13.920050000000002, 50.96464000936817], [13.920000000000002, 50.96464000936817], [13.920000000000002, 50.964680009660924]]], &quot;type&quot;: &quot;Polygon&quot;}, {&quot;coordinates&quot;: [[[13.920000000000002, 50.96464000936817], [13.920050000000002, 50.96464000936817], [13.920050000000002, 50.96460000904097], [13.920000000000002, 50.96460000904097], [13.920000000000002, 50.96464000936817]]], &quot;type&quot;: &quot;Polygon&quot;}, {&quot;coordinates&quot;: [[[13.920000000000002, 50.96460000904097], [13.920050000000002, 50.96460000904097], [13.920050000000002, 50.96456000867934], [13.920000000000002, 50.96456000867934], [13.920000000000002, 50.96460000904097]]], &quot;type&quot;: &quot;Polygon&quot;}, {&quot;coordinates&quot;: [[[13.920000000000002, 50.96456000867934], [13.920050000000002, 50.96456000867934], [13.920050000000002, 50.96452000828325], [13.920000000000002, 50.96452000828325], [13.920000000000002, 50.96456000867934]]], &quot;type&quot;: &quot;Polygon&quot;}, {&quot;coordinates&quot;: [[[13.920000000000002, 50.96452000828325], [13.920050000000002, 50.96452000828325], [13.920050000000002, 50.964480007852735], [13.920000000000002, 50.964480007852735], [13.920000000000002, 50.96452000828325]]], &quot;type&quot;: &quot;Polygon&quot;}, {&quot;coordinates&quot;: [[[13.920000000000002, 50.964480007852735], [13.920050000000002, 50.964480007852735], [13.920050000000002, 50.96444000738777], [13.920000000000002, 50.96444000738777], [13.920000000000002, 50.964480007852735]]], &quot;type&quot;: &quot;Polygon&quot;}, {&quot;coordinates&quot;: [[[13.920000000000002, 50.96444000738777], [13.920050000000002, 50.96444000738777], [13.920050000000002, 50.96440000688836], [13.920000000000002, 50.96440000688836], [13.920000000000002, 50.96444000738777]]], &quot;type&quot;: &quot;Polygon&quot;}, {&quot;coordinates&quot;: [[[13.920000000000002, 50.96440000688836], [13.920050000000002, 50.96440000688836], [13.920050000000002, 50.96436000635452], [13.920000000000002, 50.96436000635452], [13.920000000000002, 50.96440000688836]]], &quot;type&quot;: &quot;Polygon&quot;}, {&quot;coordinates&quot;: [[[13.920000000000002, 50.96436000635452], [13.920050000000002, 50.96436000635452], [13.920050000000002, 50.96432000578623], [13.920000000000002, 50.96432000578623], [13.920000000000002, 50.96436000635452]]], &quot;type&quot;: &quot;Polygon&quot;}, {&quot;coordinates&quot;: [[[13.920000000000002, 50.96432000578623], [13.920050000000002, 50.96432000578623], [13.920050000000002, 50.9642800051835], [13.920000000000002, 50.9642800051835], [13.920000000000002, 50.96432000578623]]], &quot;type&quot;: &quot;Polygon&quot;}, {&quot;coordinates&quot;: [[[13.920000000000002, 50.9642800051835], [13.920050000000002, 50.9642800051835], [13.920050000000002, 50.96424000454632], [13.920000000000002, 50.96424000454632], [13.920000000000002, 50.9642800051835]]], &quot;type&quot;: &quot;Polygon&quot;}, {&quot;coordinates&quot;: [[[13.920000000000002, 50.96424000454632], [13.920050000000002, 50.96424000454632], [13.920050000000002, 50.96420000387471], [13.920000000000002, 50.96420000387471], [13.920000000000002, 50.96424000454632]]], &quot;type&quot;: &quot;Polygon&quot;}, {&quot;coordinates&quot;: [[[13.920000000000002, 50.96420000387471], [13.920050000000002, 50.96420000387471], [13.920050000000002, 50.964160003168644], [13.920000000000002, 50.964160003168644], [13.920000000000002, 50.96420000387471]]], &quot;type&quot;: &quot;Polygon&quot;}, {&quot;coordinates&quot;: [[[13.920000000000002, 50.964160003168644], [13.920050000000002, 50.964160003168644], [13.920050000000002, 50.964120002428146], [13.920000000000002, 50.964120002428146], [13.920000000000002, 50.964160003168644]]], &quot;type&quot;: &quot;Polygon&quot;}, {&quot;coordinates&quot;: [[[13.920000000000002, 50.964120002428146], [13.920050000000002, 50.964120002428146], [13.920050000000002, 50.96408000165321], [13.920000000000002, 50.96408000165321], [13.920000000000002, 50.964120002428146]]], &quot;type&quot;: &quot;Polygon&quot;}, {&quot;coordinates&quot;: [[[13.920000000000002, 50.96408000165321], [13.920050000000002, 50.96408000165321], [13.920050000000002, 50.964040000843816], [13.920000000000002, 50.964040000843816], [13.920000000000002, 50.96408000165321]]], &quot;type&quot;: &quot;Polygon&quot;}, {&quot;coordinates&quot;: [[[13.920000000000002, 50.964040000843816], [13.920050000000002, 50.964040000843816], [13.920050000000002, 50.96399999999999], [13.920000000000002, 50.96399999999999], [13.920000000000002, 50.964040000843816]]], &quot;type&quot;: &quot;Polygon&quot;}], &quot;type&quot;: &quot;GeometryCollection&quot;});\n",
       "\n",
       "        \n",
       "    \n",
       "            geo_json_e30233d4eb1e219a90b12afed0ea3215.addTo(map_639798b0483845dc6b6ccdd25019e047);\n",
       "        \n",
       "    \n",
       "\n",
       "        function geo_json_f7d1fd0cad04c529fcbac48548187b19_onEachFeature(feature, layer) {\n",
       "            layer.on({\n",
       "            });\n",
       "        };\n",
       "        var geo_json_f7d1fd0cad04c529fcbac48548187b19 = L.geoJson(null, {\n",
       "                onEachFeature: geo_json_f7d1fd0cad04c529fcbac48548187b19_onEachFeature,\n",
       "            \n",
       "        });\n",
       "\n",
       "        function geo_json_f7d1fd0cad04c529fcbac48548187b19_add (data) {\n",
       "            geo_json_f7d1fd0cad04c529fcbac48548187b19\n",
       "                .addData(data);\n",
       "        }\n",
       "            geo_json_f7d1fd0cad04c529fcbac48548187b19_add({&quot;coordinates&quot;: [13.92004, 50.96599], &quot;type&quot;: &quot;Point&quot;});\n",
       "\n",
       "        \n",
       "    \n",
       "            geo_json_f7d1fd0cad04c529fcbac48548187b19.addTo(map_639798b0483845dc6b6ccdd25019e047);\n",
       "        \n",
       "    \n",
       "            map_639798b0483845dc6b6ccdd25019e047.fitBounds(\n",
       "                [[50.964, 13.92], [50.966, 13.925000000000002]],\n",
       "                {}\n",
       "            );\n",
       "        \n",
       "&lt;/script&gt;\n",
       "&lt;/html&gt;\" style=\"position:absolute;width:100%;height:100%;left:0;top:0;border:none !important;\" allowfullscreen webkitallowfullscreen mozallowfullscreen></iframe></div></div>"
      ],
      "text/plain": [
       "<folium.folium.Map at 0x13084e960>"
      ]
     },
     "execution_count": 6,
     "metadata": {},
     "output_type": "execute_result"
    }
   ],
   "source": [
    "from morpheus.project.types.boundaries.GeneralHeadObservation import ObservationId, ObservationName, GeneralHeadRawDataItem, \\\n",
    "  GeneralHeadObservation, Stage, Conductance\n",
    "from morpheus.project.types.geometry import Point\n",
    "from morpheus.project.types.boundaries.Boundary import BoundaryName, BoundaryCollection\n",
    "from morpheus.project.types.layers import LayerId\n",
    "from morpheus.project.types.boundaries.Boundary import GeneralHeadBoundary\n",
    "\n",
    "layers_list = [LayerId.new()]\n",
    "\n",
    "general_head_east = GeneralHeadBoundary.from_geometry(\n",
    "  name=BoundaryName('general_head_east'),\n",
    "  geometry=LineString([\n",
    "    (13.92499, 50.966),\n",
    "    (13.92499, 50.964),\n",
    "  ]),\n",
    "  grid=grid,\n",
    "  affected_layers=[model.layers[0].layer_id],\n",
    "  observations=[\n",
    "    GeneralHeadObservation(\n",
    "      observation_id=ObservationId.new(),\n",
    "      observation_name=ObservationName.default(),\n",
    "      geometry=Point((13.92499, 50.966)),\n",
    "      data=[\n",
    "        GeneralHeadRawDataItem(\n",
    "          date_time=StartDateTime.from_datetime(datetime(2019, 1, 1)),\n",
    "          stage=Stage.from_float(100),\n",
    "          conductance=Conductance.from_float(100),\n",
    "        ),\n",
    "        GeneralHeadRawDataItem(\n",
    "          date_time=StartDateTime.from_datetime(datetime(2021, 12, 31)),\n",
    "          stage=Stage.from_float(100),\n",
    "          conductance=Conductance.from_float(100),\n",
    "        ),\n",
    "      ]\n",
    "    ),\n",
    "  ]\n",
    ")\n",
    "\n",
    "general_head_west = GeneralHeadBoundary.from_geometry(\n",
    "  name=BoundaryName('general_head_west'),\n",
    "  geometry=LineString([\n",
    "    (13.92004, 50.96401),\n",
    "    (13.92004, 50.96599),\n",
    "  ]),\n",
    "  grid=grid,\n",
    "  affected_layers=[model.layers[0].layer_id],\n",
    "  observations=[\n",
    "    GeneralHeadObservation(\n",
    "      observation_id=ObservationId.new(),\n",
    "      observation_name=ObservationName.default(),\n",
    "      geometry=Point((13.92004, 50.96599)),\n",
    "      data=[\n",
    "        GeneralHeadRawDataItem(\n",
    "          date_time=StartDateTime.from_datetime(datetime(2019, 1, 1)),\n",
    "          stage=Stage.from_float(120),\n",
    "          conductance=Conductance.from_float(300),\n",
    "        ),\n",
    "        GeneralHeadRawDataItem(\n",
    "          date_time=StartDateTime.from_datetime(datetime(2021, 12, 31)),\n",
    "          stage=Stage.from_float(120),\n",
    "          conductance=Conductance.from_float(300),\n",
    "        ),\n",
    "      ]\n",
    "    ),\n",
    "  ]\n",
    ")\n",
    "\n",
    "boundary_collection = BoundaryCollection.new()\n",
    "boundary_collection.add_boundary(general_head_west)\n",
    "boundary_collection.add_boundary(general_head_east)\n",
    "\n",
    "model = model.with_updated_boundaries(boundaries=boundary_collection)\n",
    "\n",
    "m.add_child(folium.GeoJson(general_head_east.as_geojson()))\n",
    "m.add_child(folium.GeoJson(general_head_east.affected_cells.to_geojson(grid).as_geojson()))\n",
    "for observation in general_head_east.observations:\n",
    "  m.add_child(folium.GeoJson(observation.as_geojson()))\n",
    "\n",
    "m.add_child(folium.GeoJson(general_head_west.as_geojson()))\n",
    "m.add_child(folium.GeoJson(general_head_west.affected_cells.to_geojson(grid).as_geojson()))\n",
    "for observation in general_head_west.observations:\n",
    "  m.add_child(folium.GeoJson(observation.as_geojson()))\n",
    "m.fit_bounds(m.get_bounds())\n",
    "m"
   ]
  },
  {
   "cell_type": "markdown",
   "id": "c77083343e8d9b41",
   "metadata": {
    "collapsed": false,
    "papermill": {
     "duration": 0.002484,
     "end_time": "2024-08-19T20:27:21.664817",
     "exception": false,
     "start_time": "2024-08-19T20:27:21.662333",
     "status": "completed"
    },
    "tags": []
   },
   "source": [
    "# Setup Head Observations"
   ]
  },
  {
   "cell_type": "code",
   "execution_count": 7,
   "id": "b51fc5e6c932e70a",
   "metadata": {
    "ExecuteTime": {
     "end_time": "2024-08-19T10:13:29.373886Z",
     "start_time": "2024-08-19T10:13:29.322345Z"
    },
    "collapsed": false,
    "execution": {
     "iopub.execute_input": "2024-08-19T20:27:21.670206Z",
     "iopub.status.busy": "2024-08-19T20:27:21.670053Z",
     "iopub.status.idle": "2024-08-19T20:27:21.684701Z",
     "shell.execute_reply": "2024-08-19T20:27:21.684479Z"
    },
    "papermill": {
     "duration": 0.01834,
     "end_time": "2024-08-19T20:27:21.685513",
     "exception": false,
     "start_time": "2024-08-19T20:27:21.667173",
     "status": "completed"
    },
    "tags": []
   },
   "outputs": [
    {
     "data": {
      "text/html": [
       "<div style=\"width:100%;\"><div style=\"position:relative;width:100%;height:0;padding-bottom:60%;\"><span style=\"color:#565656\">Make this Notebook Trusted to load map: File -> Trust Notebook</span><iframe srcdoc=\"&lt;!DOCTYPE html&gt;\n",
       "&lt;html&gt;\n",
       "&lt;head&gt;\n",
       "    \n",
       "    &lt;meta http-equiv=&quot;content-type&quot; content=&quot;text/html; charset=UTF-8&quot; /&gt;\n",
       "    \n",
       "        &lt;script&gt;\n",
       "            L_NO_TOUCH = false;\n",
       "            L_DISABLE_3D = false;\n",
       "        &lt;/script&gt;\n",
       "    \n",
       "    &lt;style&gt;html, body {width: 100%;height: 100%;margin: 0;padding: 0;}&lt;/style&gt;\n",
       "    &lt;style&gt;#map {position:absolute;top:0;bottom:0;right:0;left:0;}&lt;/style&gt;\n",
       "    &lt;script src=&quot;https://cdn.jsdelivr.net/npm/leaflet@1.9.3/dist/leaflet.js&quot;&gt;&lt;/script&gt;\n",
       "    &lt;script src=&quot;https://code.jquery.com/jquery-3.7.1.min.js&quot;&gt;&lt;/script&gt;\n",
       "    &lt;script src=&quot;https://cdn.jsdelivr.net/npm/bootstrap@5.2.2/dist/js/bootstrap.bundle.min.js&quot;&gt;&lt;/script&gt;\n",
       "    &lt;script src=&quot;https://cdnjs.cloudflare.com/ajax/libs/Leaflet.awesome-markers/2.0.2/leaflet.awesome-markers.js&quot;&gt;&lt;/script&gt;\n",
       "    &lt;link rel=&quot;stylesheet&quot; href=&quot;https://cdn.jsdelivr.net/npm/leaflet@1.9.3/dist/leaflet.css&quot;/&gt;\n",
       "    &lt;link rel=&quot;stylesheet&quot; href=&quot;https://cdn.jsdelivr.net/npm/bootstrap@5.2.2/dist/css/bootstrap.min.css&quot;/&gt;\n",
       "    &lt;link rel=&quot;stylesheet&quot; href=&quot;https://netdna.bootstrapcdn.com/bootstrap/3.0.0/css/bootstrap.min.css&quot;/&gt;\n",
       "    &lt;link rel=&quot;stylesheet&quot; href=&quot;https://cdn.jsdelivr.net/npm/@fortawesome/fontawesome-free@6.2.0/css/all.min.css&quot;/&gt;\n",
       "    &lt;link rel=&quot;stylesheet&quot; href=&quot;https://cdnjs.cloudflare.com/ajax/libs/Leaflet.awesome-markers/2.0.2/leaflet.awesome-markers.css&quot;/&gt;\n",
       "    &lt;link rel=&quot;stylesheet&quot; href=&quot;https://cdn.jsdelivr.net/gh/python-visualization/folium/folium/templates/leaflet.awesome.rotate.min.css&quot;/&gt;\n",
       "    \n",
       "            &lt;meta name=&quot;viewport&quot; content=&quot;width=device-width,\n",
       "                initial-scale=1.0, maximum-scale=1.0, user-scalable=no&quot; /&gt;\n",
       "            &lt;style&gt;\n",
       "                #map_639798b0483845dc6b6ccdd25019e047 {\n",
       "                    position: relative;\n",
       "                    width: 100.0%;\n",
       "                    height: 100.0%;\n",
       "                    left: 0.0%;\n",
       "                    top: 0.0%;\n",
       "                }\n",
       "                .leaflet-container { font-size: 1rem; }\n",
       "            &lt;/style&gt;\n",
       "        \n",
       "&lt;/head&gt;\n",
       "&lt;body&gt;\n",
       "    \n",
       "    \n",
       "            &lt;div class=&quot;folium-map&quot; id=&quot;map_639798b0483845dc6b6ccdd25019e047&quot; &gt;&lt;/div&gt;\n",
       "        \n",
       "&lt;/body&gt;\n",
       "&lt;script&gt;\n",
       "    \n",
       "    \n",
       "            var map_639798b0483845dc6b6ccdd25019e047 = L.map(\n",
       "                &quot;map_639798b0483845dc6b6ccdd25019e047&quot;,\n",
       "                {\n",
       "                    center: [50.965, 13.922],\n",
       "                    crs: L.CRS.EPSG3857,\n",
       "                    zoom: 12,\n",
       "                    zoomControl: true,\n",
       "                    preferCanvas: false,\n",
       "                }\n",
       "            );\n",
       "\n",
       "            \n",
       "\n",
       "        \n",
       "    \n",
       "            var tile_layer_ec46e5ed9b93450ba34a8bd336a64091 = L.tileLayer(\n",
       "                &quot;https://{s}.basemaps.cartocdn.com/light_all/{z}/{x}/{y}{r}.png&quot;,\n",
       "                {&quot;attribution&quot;: &quot;\\u0026copy; \\u003ca href=\\&quot;https://www.openstreetmap.org/copyright\\&quot;\\u003eOpenStreetMap\\u003c/a\\u003e contributors \\u0026copy; \\u003ca href=\\&quot;https://carto.com/attributions\\&quot;\\u003eCARTO\\u003c/a\\u003e&quot;, &quot;detectRetina&quot;: false, &quot;maxNativeZoom&quot;: 20, &quot;maxZoom&quot;: 20, &quot;minZoom&quot;: 0, &quot;noWrap&quot;: false, &quot;opacity&quot;: 1, &quot;subdomains&quot;: &quot;abcd&quot;, &quot;tms&quot;: false}\n",
       "            );\n",
       "        \n",
       "    \n",
       "            tile_layer_ec46e5ed9b93450ba34a8bd336a64091.addTo(map_639798b0483845dc6b6ccdd25019e047);\n",
       "        \n",
       "    \n",
       "\n",
       "        function geo_json_7573d8a161f7259230aacfde65b601aa_onEachFeature(feature, layer) {\n",
       "            layer.on({\n",
       "            });\n",
       "        };\n",
       "        var geo_json_7573d8a161f7259230aacfde65b601aa = L.geoJson(null, {\n",
       "                onEachFeature: geo_json_7573d8a161f7259230aacfde65b601aa_onEachFeature,\n",
       "            \n",
       "        });\n",
       "\n",
       "        function geo_json_7573d8a161f7259230aacfde65b601aa_add (data) {\n",
       "            geo_json_7573d8a161f7259230aacfde65b601aa\n",
       "                .addData(data);\n",
       "        }\n",
       "            geo_json_7573d8a161f7259230aacfde65b601aa_add({&quot;coordinates&quot;: [[[13.92, 50.964], [13.92, 50.966], [13.925, 50.966], [13.925, 50.964], [13.92, 50.964]]], &quot;type&quot;: &quot;Polygon&quot;});\n",
       "\n",
       "        \n",
       "    \n",
       "            geo_json_7573d8a161f7259230aacfde65b601aa.addTo(map_639798b0483845dc6b6ccdd25019e047);\n",
       "        \n",
       "    \n",
       "            map_639798b0483845dc6b6ccdd25019e047.fitBounds(\n",
       "                [[50.964, 13.92], [50.966, 13.925]],\n",
       "                {}\n",
       "            );\n",
       "        \n",
       "    \n",
       "            tile_layer_ec46e5ed9b93450ba34a8bd336a64091.addTo(map_639798b0483845dc6b6ccdd25019e047);\n",
       "        \n",
       "    \n",
       "            geo_json_7573d8a161f7259230aacfde65b601aa.addTo(map_639798b0483845dc6b6ccdd25019e047);\n",
       "        \n",
       "    \n",
       "\n",
       "        function geo_json_a508facbedf342d7a3e44f3175b179d1_onEachFeature(feature, layer) {\n",
       "            layer.on({\n",
       "            });\n",
       "        };\n",
       "        var geo_json_a508facbedf342d7a3e44f3175b179d1 = L.geoJson(null, {\n",
       "                onEachFeature: geo_json_a508facbedf342d7a3e44f3175b179d1_onEachFeature,\n",
       "            \n",
       "        });\n",
       "\n",
       "        function geo_json_a508facbedf342d7a3e44f3175b179d1_add (data) {\n",
       "            geo_json_a508facbedf342d7a3e44f3175b179d1\n",
       "                .addData(data);\n",
       "        }\n",
       "            geo_json_a508facbedf342d7a3e44f3175b179d1_add({&quot;coordinates&quot;: [[13.92499, 50.966], [13.92499, 50.964]], &quot;type&quot;: &quot;LineString&quot;});\n",
       "\n",
       "        \n",
       "    \n",
       "            geo_json_a508facbedf342d7a3e44f3175b179d1.addTo(map_639798b0483845dc6b6ccdd25019e047);\n",
       "        \n",
       "    \n",
       "\n",
       "        function geo_json_aefb8276b15b62e8defc879051e4ed8b_onEachFeature(feature, layer) {\n",
       "            layer.on({\n",
       "            });\n",
       "        };\n",
       "        var geo_json_aefb8276b15b62e8defc879051e4ed8b = L.geoJson(null, {\n",
       "                onEachFeature: geo_json_aefb8276b15b62e8defc879051e4ed8b_onEachFeature,\n",
       "            \n",
       "        });\n",
       "\n",
       "        function geo_json_aefb8276b15b62e8defc879051e4ed8b_add (data) {\n",
       "            geo_json_aefb8276b15b62e8defc879051e4ed8b\n",
       "                .addData(data);\n",
       "        }\n",
       "            geo_json_aefb8276b15b62e8defc879051e4ed8b_add({&quot;geometries&quot;: [{&quot;coordinates&quot;: [[[13.92495, 50.965999999999994], [13.925000000000002, 50.965999999999994], [13.925000000000002, 50.965960000843815], [13.92495, 50.965960000843815], [13.92495, 50.965999999999994]]], &quot;type&quot;: &quot;Polygon&quot;}, {&quot;coordinates&quot;: [[[13.92495, 50.965960000843815], [13.925000000000002, 50.965960000843815], [13.925000000000002, 50.965920001653195], [13.92495, 50.965920001653195], [13.92495, 50.965960000843815]]], &quot;type&quot;: &quot;Polygon&quot;}, {&quot;coordinates&quot;: [[[13.92495, 50.965920001653195], [13.925000000000002, 50.965920001653195], [13.925000000000002, 50.965880002428136], [13.92495, 50.965880002428136], [13.92495, 50.965920001653195]]], &quot;type&quot;: &quot;Polygon&quot;}, {&quot;coordinates&quot;: [[[13.92495, 50.965880002428136], [13.925000000000002, 50.965880002428136], [13.925000000000002, 50.96584000316863], [13.92495, 50.96584000316863], [13.92495, 50.965880002428136]]], &quot;type&quot;: &quot;Polygon&quot;}, {&quot;coordinates&quot;: [[[13.92495, 50.96584000316863], [13.925000000000002, 50.96584000316863], [13.925000000000002, 50.96580000387468], [13.92495, 50.96580000387468], [13.92495, 50.96584000316863]]], &quot;type&quot;: &quot;Polygon&quot;}, {&quot;coordinates&quot;: [[[13.92495, 50.96580000387468], [13.925000000000002, 50.96580000387468], [13.925000000000002, 50.965760004546304], [13.92495, 50.965760004546304], [13.92495, 50.96580000387468]]], &quot;type&quot;: &quot;Polygon&quot;}, {&quot;coordinates&quot;: [[[13.92495, 50.965760004546304], [13.925000000000002, 50.965760004546304], [13.925000000000002, 50.96572000518347], [13.92495, 50.96572000518347], [13.92495, 50.965760004546304]]], &quot;type&quot;: &quot;Polygon&quot;}, {&quot;coordinates&quot;: [[[13.92495, 50.96572000518347], [13.925000000000002, 50.96572000518347], [13.925000000000002, 50.9656800057862], [13.92495, 50.9656800057862], [13.92495, 50.96572000518347]]], &quot;type&quot;: &quot;Polygon&quot;}, {&quot;coordinates&quot;: [[[13.92495, 50.9656800057862], [13.925000000000002, 50.9656800057862], [13.925000000000002, 50.9656400063545], [13.92495, 50.9656400063545], [13.92495, 50.9656800057862]]], &quot;type&quot;: &quot;Polygon&quot;}, {&quot;coordinates&quot;: [[[13.92495, 50.9656400063545], [13.925000000000002, 50.9656400063545], [13.925000000000002, 50.965600006888344], [13.92495, 50.965600006888344], [13.92495, 50.9656400063545]]], &quot;type&quot;: &quot;Polygon&quot;}, {&quot;coordinates&quot;: [[[13.92495, 50.965600006888344], [13.925000000000002, 50.965600006888344], [13.925000000000002, 50.965560007387744], [13.92495, 50.965560007387744], [13.92495, 50.965600006888344]]], &quot;type&quot;: &quot;Polygon&quot;}, {&quot;coordinates&quot;: [[[13.92495, 50.965560007387744], [13.925000000000002, 50.965560007387744], [13.925000000000002, 50.96552000785271], [13.92495, 50.96552000785271], [13.92495, 50.965560007387744]]], &quot;type&quot;: &quot;Polygon&quot;}, {&quot;coordinates&quot;: [[[13.92495, 50.96552000785271], [13.925000000000002, 50.96552000785271], [13.925000000000002, 50.96548000828324], [13.92495, 50.96548000828324], [13.92495, 50.96552000785271]]], &quot;type&quot;: &quot;Polygon&quot;}, {&quot;coordinates&quot;: [[[13.92495, 50.96548000828324], [13.925000000000002, 50.96548000828324], [13.925000000000002, 50.965440008679316], [13.92495, 50.965440008679316], [13.92495, 50.96548000828324]]], &quot;type&quot;: &quot;Polygon&quot;}, {&quot;coordinates&quot;: [[[13.92495, 50.965440008679316], [13.925000000000002, 50.965440008679316], [13.925000000000002, 50.965400009040955], [13.92495, 50.965400009040955], [13.92495, 50.965440008679316]]], &quot;type&quot;: &quot;Polygon&quot;}, {&quot;coordinates&quot;: [[[13.92495, 50.965400009040955], [13.925000000000002, 50.965400009040955], [13.925000000000002, 50.965360009368155], [13.92495, 50.965360009368155], [13.92495, 50.965400009040955]]], &quot;type&quot;: &quot;Polygon&quot;}, {&quot;coordinates&quot;: [[[13.92495, 50.965360009368155], [13.925000000000002, 50.965360009368155], [13.925000000000002, 50.96532000966091], [13.92495, 50.96532000966091], [13.92495, 50.965360009368155]]], &quot;type&quot;: &quot;Polygon&quot;}, {&quot;coordinates&quot;: [[[13.92495, 50.96532000966091], [13.925000000000002, 50.96532000966091], [13.925000000000002, 50.965280009919226], [13.92495, 50.965280009919226], [13.92495, 50.96532000966091]]], &quot;type&quot;: &quot;Polygon&quot;}, {&quot;coordinates&quot;: [[[13.92495, 50.965280009919226], [13.925000000000002, 50.965280009919226], [13.925000000000002, 50.96524001014309], [13.92495, 50.96524001014309], [13.92495, 50.965280009919226]]], &quot;type&quot;: &quot;Polygon&quot;}, {&quot;coordinates&quot;: [[[13.92495, 50.96524001014309], [13.925000000000002, 50.96524001014309], [13.925000000000002, 50.96520001033253], [13.92495, 50.96520001033253], [13.92495, 50.96524001014309]]], &quot;type&quot;: &quot;Polygon&quot;}, {&quot;coordinates&quot;: [[[13.92495, 50.96520001033253], [13.925000000000002, 50.96520001033253], [13.925000000000002, 50.965160010487516], [13.92495, 50.965160010487516], [13.92495, 50.96520001033253]]], &quot;type&quot;: &quot;Polygon&quot;}, {&quot;coordinates&quot;: [[[13.92495, 50.965160010487516], [13.925000000000002, 50.965160010487516], [13.925000000000002, 50.96512001060807], [13.92495, 50.96512001060807], [13.92495, 50.965160010487516]]], &quot;type&quot;: &quot;Polygon&quot;}, {&quot;coordinates&quot;: [[[13.92495, 50.96512001060807], [13.925000000000002, 50.96512001060807], [13.925000000000002, 50.96508001069417], [13.92495, 50.96508001069417], [13.92495, 50.96512001060807]]], &quot;type&quot;: &quot;Polygon&quot;}, {&quot;coordinates&quot;: [[[13.92495, 50.96508001069417], [13.925000000000002, 50.96508001069417], [13.925000000000002, 50.96504001074583], [13.92495, 50.96504001074583], [13.92495, 50.96508001069417]]], &quot;type&quot;: &quot;Polygon&quot;}, {&quot;coordinates&quot;: [[[13.92495, 50.96504001074583], [13.925000000000002, 50.96504001074583], [13.925000000000002, 50.96500001076305], [13.92495, 50.96500001076305], [13.92495, 50.96504001074583]]], &quot;type&quot;: &quot;Polygon&quot;}, {&quot;coordinates&quot;: [[[13.92495, 50.96500001076305], [13.925000000000002, 50.96500001076305], [13.925000000000002, 50.964960010745834], [13.92495, 50.964960010745834], [13.92495, 50.96500001076305]]], &quot;type&quot;: &quot;Polygon&quot;}, {&quot;coordinates&quot;: [[[13.92495, 50.964960010745834], [13.925000000000002, 50.964960010745834], [13.925000000000002, 50.96492001069418], [13.92495, 50.96492001069418], [13.92495, 50.964960010745834]]], &quot;type&quot;: &quot;Polygon&quot;}, {&quot;coordinates&quot;: [[[13.92495, 50.96492001069418], [13.925000000000002, 50.96492001069418], [13.925000000000002, 50.96488001060807], [13.92495, 50.96488001060807], [13.92495, 50.96492001069418]]], &quot;type&quot;: &quot;Polygon&quot;}, {&quot;coordinates&quot;: [[[13.92495, 50.96488001060807], [13.925000000000002, 50.96488001060807], [13.925000000000002, 50.96484001048752], [13.92495, 50.96484001048752], [13.92495, 50.96488001060807]]], &quot;type&quot;: &quot;Polygon&quot;}, {&quot;coordinates&quot;: [[[13.92495, 50.96484001048752], [13.925000000000002, 50.96484001048752], [13.925000000000002, 50.964800010332546], [13.92495, 50.964800010332546], [13.92495, 50.96484001048752]]], &quot;type&quot;: &quot;Polygon&quot;}, {&quot;coordinates&quot;: [[[13.92495, 50.964800010332546], [13.925000000000002, 50.964800010332546], [13.925000000000002, 50.96476001014311], [13.92495, 50.96476001014311], [13.92495, 50.964800010332546]]], &quot;type&quot;: &quot;Polygon&quot;}, {&quot;coordinates&quot;: [[[13.92495, 50.96476001014311], [13.925000000000002, 50.96476001014311], [13.925000000000002, 50.96472000991924], [13.92495, 50.96472000991924], [13.92495, 50.96476001014311]]], &quot;type&quot;: &quot;Polygon&quot;}, {&quot;coordinates&quot;: [[[13.92495, 50.96472000991924], [13.925000000000002, 50.96472000991924], [13.925000000000002, 50.964680009660924], [13.92495, 50.964680009660924], [13.92495, 50.96472000991924]]], &quot;type&quot;: &quot;Polygon&quot;}, {&quot;coordinates&quot;: [[[13.92495, 50.964680009660924], [13.925000000000002, 50.964680009660924], [13.925000000000002, 50.96464000936817], [13.92495, 50.96464000936817], [13.92495, 50.964680009660924]]], &quot;type&quot;: &quot;Polygon&quot;}, {&quot;coordinates&quot;: [[[13.92495, 50.96464000936817], [13.925000000000002, 50.96464000936817], [13.925000000000002, 50.96460000904097], [13.92495, 50.96460000904097], [13.92495, 50.96464000936817]]], &quot;type&quot;: &quot;Polygon&quot;}, {&quot;coordinates&quot;: [[[13.92495, 50.96460000904097], [13.925000000000002, 50.96460000904097], [13.925000000000002, 50.96456000867934], [13.92495, 50.96456000867934], [13.92495, 50.96460000904097]]], &quot;type&quot;: &quot;Polygon&quot;}, {&quot;coordinates&quot;: [[[13.92495, 50.96456000867934], [13.925000000000002, 50.96456000867934], [13.925000000000002, 50.96452000828325], [13.92495, 50.96452000828325], [13.92495, 50.96456000867934]]], &quot;type&quot;: &quot;Polygon&quot;}, {&quot;coordinates&quot;: [[[13.92495, 50.96452000828325], [13.925000000000002, 50.96452000828325], [13.925000000000002, 50.964480007852735], [13.92495, 50.964480007852735], [13.92495, 50.96452000828325]]], &quot;type&quot;: &quot;Polygon&quot;}, {&quot;coordinates&quot;: [[[13.92495, 50.964480007852735], [13.925000000000002, 50.964480007852735], [13.925000000000002, 50.96444000738777], [13.92495, 50.96444000738777], [13.92495, 50.964480007852735]]], &quot;type&quot;: &quot;Polygon&quot;}, {&quot;coordinates&quot;: [[[13.92495, 50.96444000738777], [13.925000000000002, 50.96444000738777], [13.925000000000002, 50.96440000688836], [13.92495, 50.96440000688836], [13.92495, 50.96444000738777]]], &quot;type&quot;: &quot;Polygon&quot;}, {&quot;coordinates&quot;: [[[13.92495, 50.96440000688836], [13.925000000000002, 50.96440000688836], [13.925000000000002, 50.96436000635452], [13.92495, 50.96436000635452], [13.92495, 50.96440000688836]]], &quot;type&quot;: &quot;Polygon&quot;}, {&quot;coordinates&quot;: [[[13.92495, 50.96436000635452], [13.925000000000002, 50.96436000635452], [13.925000000000002, 50.96432000578623], [13.92495, 50.96432000578623], [13.92495, 50.96436000635452]]], &quot;type&quot;: &quot;Polygon&quot;}, {&quot;coordinates&quot;: [[[13.92495, 50.96432000578623], [13.925000000000002, 50.96432000578623], [13.925000000000002, 50.9642800051835], [13.92495, 50.9642800051835], [13.92495, 50.96432000578623]]], &quot;type&quot;: &quot;Polygon&quot;}, {&quot;coordinates&quot;: [[[13.92495, 50.9642800051835], [13.925000000000002, 50.9642800051835], [13.925000000000002, 50.96424000454632], [13.92495, 50.96424000454632], [13.92495, 50.9642800051835]]], &quot;type&quot;: &quot;Polygon&quot;}, {&quot;coordinates&quot;: [[[13.92495, 50.96424000454632], [13.925000000000002, 50.96424000454632], [13.925000000000002, 50.96420000387471], [13.92495, 50.96420000387471], [13.92495, 50.96424000454632]]], &quot;type&quot;: &quot;Polygon&quot;}, {&quot;coordinates&quot;: [[[13.92495, 50.96420000387471], [13.925000000000002, 50.96420000387471], [13.925000000000002, 50.964160003168644], [13.92495, 50.964160003168644], [13.92495, 50.96420000387471]]], &quot;type&quot;: &quot;Polygon&quot;}, {&quot;coordinates&quot;: [[[13.92495, 50.964160003168644], [13.925000000000002, 50.964160003168644], [13.925000000000002, 50.964120002428146], [13.92495, 50.964120002428146], [13.92495, 50.964160003168644]]], &quot;type&quot;: &quot;Polygon&quot;}, {&quot;coordinates&quot;: [[[13.92495, 50.964120002428146], [13.925000000000002, 50.964120002428146], [13.925000000000002, 50.96408000165321], [13.92495, 50.96408000165321], [13.92495, 50.964120002428146]]], &quot;type&quot;: &quot;Polygon&quot;}, {&quot;coordinates&quot;: [[[13.92495, 50.96408000165321], [13.925000000000002, 50.96408000165321], [13.925000000000002, 50.964040000843816], [13.92495, 50.964040000843816], [13.92495, 50.96408000165321]]], &quot;type&quot;: &quot;Polygon&quot;}, {&quot;coordinates&quot;: [[[13.92495, 50.964040000843816], [13.925000000000002, 50.964040000843816], [13.925000000000002, 50.96399999999999], [13.92495, 50.96399999999999], [13.92495, 50.964040000843816]]], &quot;type&quot;: &quot;Polygon&quot;}], &quot;type&quot;: &quot;GeometryCollection&quot;});\n",
       "\n",
       "        \n",
       "    \n",
       "            geo_json_aefb8276b15b62e8defc879051e4ed8b.addTo(map_639798b0483845dc6b6ccdd25019e047);\n",
       "        \n",
       "    \n",
       "\n",
       "        function geo_json_274cc22e252a8aed3f9869caf5d652bf_onEachFeature(feature, layer) {\n",
       "            layer.on({\n",
       "            });\n",
       "        };\n",
       "        var geo_json_274cc22e252a8aed3f9869caf5d652bf = L.geoJson(null, {\n",
       "                onEachFeature: geo_json_274cc22e252a8aed3f9869caf5d652bf_onEachFeature,\n",
       "            \n",
       "        });\n",
       "\n",
       "        function geo_json_274cc22e252a8aed3f9869caf5d652bf_add (data) {\n",
       "            geo_json_274cc22e252a8aed3f9869caf5d652bf\n",
       "                .addData(data);\n",
       "        }\n",
       "            geo_json_274cc22e252a8aed3f9869caf5d652bf_add({&quot;coordinates&quot;: [13.92499, 50.966], &quot;type&quot;: &quot;Point&quot;});\n",
       "\n",
       "        \n",
       "    \n",
       "            geo_json_274cc22e252a8aed3f9869caf5d652bf.addTo(map_639798b0483845dc6b6ccdd25019e047);\n",
       "        \n",
       "    \n",
       "\n",
       "        function geo_json_0b2e3e002ab7dfa19580ee738755cd03_onEachFeature(feature, layer) {\n",
       "            layer.on({\n",
       "            });\n",
       "        };\n",
       "        var geo_json_0b2e3e002ab7dfa19580ee738755cd03 = L.geoJson(null, {\n",
       "                onEachFeature: geo_json_0b2e3e002ab7dfa19580ee738755cd03_onEachFeature,\n",
       "            \n",
       "        });\n",
       "\n",
       "        function geo_json_0b2e3e002ab7dfa19580ee738755cd03_add (data) {\n",
       "            geo_json_0b2e3e002ab7dfa19580ee738755cd03\n",
       "                .addData(data);\n",
       "        }\n",
       "            geo_json_0b2e3e002ab7dfa19580ee738755cd03_add({&quot;coordinates&quot;: [[13.92004, 50.96401], [13.92004, 50.96599]], &quot;type&quot;: &quot;LineString&quot;});\n",
       "\n",
       "        \n",
       "    \n",
       "            geo_json_0b2e3e002ab7dfa19580ee738755cd03.addTo(map_639798b0483845dc6b6ccdd25019e047);\n",
       "        \n",
       "    \n",
       "\n",
       "        function geo_json_e30233d4eb1e219a90b12afed0ea3215_onEachFeature(feature, layer) {\n",
       "            layer.on({\n",
       "            });\n",
       "        };\n",
       "        var geo_json_e30233d4eb1e219a90b12afed0ea3215 = L.geoJson(null, {\n",
       "                onEachFeature: geo_json_e30233d4eb1e219a90b12afed0ea3215_onEachFeature,\n",
       "            \n",
       "        });\n",
       "\n",
       "        function geo_json_e30233d4eb1e219a90b12afed0ea3215_add (data) {\n",
       "            geo_json_e30233d4eb1e219a90b12afed0ea3215\n",
       "                .addData(data);\n",
       "        }\n",
       "            geo_json_e30233d4eb1e219a90b12afed0ea3215_add({&quot;geometries&quot;: [{&quot;coordinates&quot;: [[[13.920000000000002, 50.965999999999994], [13.920050000000002, 50.965999999999994], [13.920050000000002, 50.965960000843815], [13.920000000000002, 50.965960000843815], [13.920000000000002, 50.965999999999994]]], &quot;type&quot;: &quot;Polygon&quot;}, {&quot;coordinates&quot;: [[[13.920000000000002, 50.965960000843815], [13.920050000000002, 50.965960000843815], [13.920050000000002, 50.965920001653195], [13.920000000000002, 50.965920001653195], [13.920000000000002, 50.965960000843815]]], &quot;type&quot;: &quot;Polygon&quot;}, {&quot;coordinates&quot;: [[[13.920000000000002, 50.965920001653195], [13.920050000000002, 50.965920001653195], [13.920050000000002, 50.965880002428136], [13.920000000000002, 50.965880002428136], [13.920000000000002, 50.965920001653195]]], &quot;type&quot;: &quot;Polygon&quot;}, {&quot;coordinates&quot;: [[[13.920000000000002, 50.965880002428136], [13.920050000000002, 50.965880002428136], [13.920050000000002, 50.96584000316863], [13.920000000000002, 50.96584000316863], [13.920000000000002, 50.965880002428136]]], &quot;type&quot;: &quot;Polygon&quot;}, {&quot;coordinates&quot;: [[[13.920000000000002, 50.96584000316863], [13.920050000000002, 50.96584000316863], [13.920050000000002, 50.96580000387468], [13.920000000000002, 50.96580000387468], [13.920000000000002, 50.96584000316863]]], &quot;type&quot;: &quot;Polygon&quot;}, {&quot;coordinates&quot;: [[[13.920000000000002, 50.96580000387468], [13.920050000000002, 50.96580000387468], [13.920050000000002, 50.965760004546304], [13.920000000000002, 50.965760004546304], [13.920000000000002, 50.96580000387468]]], &quot;type&quot;: &quot;Polygon&quot;}, {&quot;coordinates&quot;: [[[13.920000000000002, 50.965760004546304], [13.920050000000002, 50.965760004546304], [13.920050000000002, 50.96572000518347], [13.920000000000002, 50.96572000518347], [13.920000000000002, 50.965760004546304]]], &quot;type&quot;: &quot;Polygon&quot;}, {&quot;coordinates&quot;: [[[13.920000000000002, 50.96572000518347], [13.920050000000002, 50.96572000518347], [13.920050000000002, 50.9656800057862], [13.920000000000002, 50.9656800057862], [13.920000000000002, 50.96572000518347]]], &quot;type&quot;: &quot;Polygon&quot;}, {&quot;coordinates&quot;: [[[13.920000000000002, 50.9656800057862], [13.920050000000002, 50.9656800057862], [13.920050000000002, 50.9656400063545], [13.920000000000002, 50.9656400063545], [13.920000000000002, 50.9656800057862]]], &quot;type&quot;: &quot;Polygon&quot;}, {&quot;coordinates&quot;: [[[13.920000000000002, 50.9656400063545], [13.920050000000002, 50.9656400063545], [13.920050000000002, 50.965600006888344], [13.920000000000002, 50.965600006888344], [13.920000000000002, 50.9656400063545]]], &quot;type&quot;: &quot;Polygon&quot;}, {&quot;coordinates&quot;: [[[13.920000000000002, 50.965600006888344], [13.920050000000002, 50.965600006888344], [13.920050000000002, 50.965560007387744], [13.920000000000002, 50.965560007387744], [13.920000000000002, 50.965600006888344]]], &quot;type&quot;: &quot;Polygon&quot;}, {&quot;coordinates&quot;: [[[13.920000000000002, 50.965560007387744], [13.920050000000002, 50.965560007387744], [13.920050000000002, 50.96552000785271], [13.920000000000002, 50.96552000785271], [13.920000000000002, 50.965560007387744]]], &quot;type&quot;: &quot;Polygon&quot;}, {&quot;coordinates&quot;: [[[13.920000000000002, 50.96552000785271], [13.920050000000002, 50.96552000785271], [13.920050000000002, 50.96548000828324], [13.920000000000002, 50.96548000828324], [13.920000000000002, 50.96552000785271]]], &quot;type&quot;: &quot;Polygon&quot;}, {&quot;coordinates&quot;: [[[13.920000000000002, 50.96548000828324], [13.920050000000002, 50.96548000828324], [13.920050000000002, 50.965440008679316], [13.920000000000002, 50.965440008679316], [13.920000000000002, 50.96548000828324]]], &quot;type&quot;: &quot;Polygon&quot;}, {&quot;coordinates&quot;: [[[13.920000000000002, 50.965440008679316], [13.920050000000002, 50.965440008679316], [13.920050000000002, 50.965400009040955], [13.920000000000002, 50.965400009040955], [13.920000000000002, 50.965440008679316]]], &quot;type&quot;: &quot;Polygon&quot;}, {&quot;coordinates&quot;: [[[13.920000000000002, 50.965400009040955], [13.920050000000002, 50.965400009040955], [13.920050000000002, 50.965360009368155], [13.920000000000002, 50.965360009368155], [13.920000000000002, 50.965400009040955]]], &quot;type&quot;: &quot;Polygon&quot;}, {&quot;coordinates&quot;: [[[13.920000000000002, 50.965360009368155], [13.920050000000002, 50.965360009368155], [13.920050000000002, 50.96532000966091], [13.920000000000002, 50.96532000966091], [13.920000000000002, 50.965360009368155]]], &quot;type&quot;: &quot;Polygon&quot;}, {&quot;coordinates&quot;: [[[13.920000000000002, 50.96532000966091], [13.920050000000002, 50.96532000966091], [13.920050000000002, 50.965280009919226], [13.920000000000002, 50.965280009919226], [13.920000000000002, 50.96532000966091]]], &quot;type&quot;: &quot;Polygon&quot;}, {&quot;coordinates&quot;: [[[13.920000000000002, 50.965280009919226], [13.920050000000002, 50.965280009919226], [13.920050000000002, 50.96524001014309], [13.920000000000002, 50.96524001014309], [13.920000000000002, 50.965280009919226]]], &quot;type&quot;: &quot;Polygon&quot;}, {&quot;coordinates&quot;: [[[13.920000000000002, 50.96524001014309], [13.920050000000002, 50.96524001014309], [13.920050000000002, 50.96520001033253], [13.920000000000002, 50.96520001033253], [13.920000000000002, 50.96524001014309]]], &quot;type&quot;: &quot;Polygon&quot;}, {&quot;coordinates&quot;: [[[13.920000000000002, 50.96520001033253], [13.920050000000002, 50.96520001033253], [13.920050000000002, 50.965160010487516], [13.920000000000002, 50.965160010487516], [13.920000000000002, 50.96520001033253]]], &quot;type&quot;: &quot;Polygon&quot;}, {&quot;coordinates&quot;: [[[13.920000000000002, 50.965160010487516], [13.920050000000002, 50.965160010487516], [13.920050000000002, 50.96512001060807], [13.920000000000002, 50.96512001060807], [13.920000000000002, 50.965160010487516]]], &quot;type&quot;: &quot;Polygon&quot;}, {&quot;coordinates&quot;: [[[13.920000000000002, 50.96512001060807], [13.920050000000002, 50.96512001060807], [13.920050000000002, 50.96508001069417], [13.920000000000002, 50.96508001069417], [13.920000000000002, 50.96512001060807]]], &quot;type&quot;: &quot;Polygon&quot;}, {&quot;coordinates&quot;: [[[13.920000000000002, 50.96508001069417], [13.920050000000002, 50.96508001069417], [13.920050000000002, 50.96504001074583], [13.920000000000002, 50.96504001074583], [13.920000000000002, 50.96508001069417]]], &quot;type&quot;: &quot;Polygon&quot;}, {&quot;coordinates&quot;: [[[13.920000000000002, 50.96504001074583], [13.920050000000002, 50.96504001074583], [13.920050000000002, 50.96500001076305], [13.920000000000002, 50.96500001076305], [13.920000000000002, 50.96504001074583]]], &quot;type&quot;: &quot;Polygon&quot;}, {&quot;coordinates&quot;: [[[13.920000000000002, 50.96500001076305], [13.920050000000002, 50.96500001076305], [13.920050000000002, 50.964960010745834], [13.920000000000002, 50.964960010745834], [13.920000000000002, 50.96500001076305]]], &quot;type&quot;: &quot;Polygon&quot;}, {&quot;coordinates&quot;: [[[13.920000000000002, 50.964960010745834], [13.920050000000002, 50.964960010745834], [13.920050000000002, 50.96492001069418], [13.920000000000002, 50.96492001069418], [13.920000000000002, 50.964960010745834]]], &quot;type&quot;: &quot;Polygon&quot;}, {&quot;coordinates&quot;: [[[13.920000000000002, 50.96492001069418], [13.920050000000002, 50.96492001069418], [13.920050000000002, 50.96488001060807], [13.920000000000002, 50.96488001060807], [13.920000000000002, 50.96492001069418]]], &quot;type&quot;: &quot;Polygon&quot;}, {&quot;coordinates&quot;: [[[13.920000000000002, 50.96488001060807], [13.920050000000002, 50.96488001060807], [13.920050000000002, 50.96484001048752], [13.920000000000002, 50.96484001048752], [13.920000000000002, 50.96488001060807]]], &quot;type&quot;: &quot;Polygon&quot;}, {&quot;coordinates&quot;: [[[13.920000000000002, 50.96484001048752], [13.920050000000002, 50.96484001048752], [13.920050000000002, 50.964800010332546], [13.920000000000002, 50.964800010332546], [13.920000000000002, 50.96484001048752]]], &quot;type&quot;: &quot;Polygon&quot;}, {&quot;coordinates&quot;: [[[13.920000000000002, 50.964800010332546], [13.920050000000002, 50.964800010332546], [13.920050000000002, 50.96476001014311], [13.920000000000002, 50.96476001014311], [13.920000000000002, 50.964800010332546]]], &quot;type&quot;: &quot;Polygon&quot;}, {&quot;coordinates&quot;: [[[13.920000000000002, 50.96476001014311], [13.920050000000002, 50.96476001014311], [13.920050000000002, 50.96472000991924], [13.920000000000002, 50.96472000991924], [13.920000000000002, 50.96476001014311]]], &quot;type&quot;: &quot;Polygon&quot;}, {&quot;coordinates&quot;: [[[13.920000000000002, 50.96472000991924], [13.920050000000002, 50.96472000991924], [13.920050000000002, 50.964680009660924], [13.920000000000002, 50.964680009660924], [13.920000000000002, 50.96472000991924]]], &quot;type&quot;: &quot;Polygon&quot;}, {&quot;coordinates&quot;: [[[13.920000000000002, 50.964680009660924], [13.920050000000002, 50.964680009660924], [13.920050000000002, 50.96464000936817], [13.920000000000002, 50.96464000936817], [13.920000000000002, 50.964680009660924]]], &quot;type&quot;: &quot;Polygon&quot;}, {&quot;coordinates&quot;: [[[13.920000000000002, 50.96464000936817], [13.920050000000002, 50.96464000936817], [13.920050000000002, 50.96460000904097], [13.920000000000002, 50.96460000904097], [13.920000000000002, 50.96464000936817]]], &quot;type&quot;: &quot;Polygon&quot;}, {&quot;coordinates&quot;: [[[13.920000000000002, 50.96460000904097], [13.920050000000002, 50.96460000904097], [13.920050000000002, 50.96456000867934], [13.920000000000002, 50.96456000867934], [13.920000000000002, 50.96460000904097]]], &quot;type&quot;: &quot;Polygon&quot;}, {&quot;coordinates&quot;: [[[13.920000000000002, 50.96456000867934], [13.920050000000002, 50.96456000867934], [13.920050000000002, 50.96452000828325], [13.920000000000002, 50.96452000828325], [13.920000000000002, 50.96456000867934]]], &quot;type&quot;: &quot;Polygon&quot;}, {&quot;coordinates&quot;: [[[13.920000000000002, 50.96452000828325], [13.920050000000002, 50.96452000828325], [13.920050000000002, 50.964480007852735], [13.920000000000002, 50.964480007852735], [13.920000000000002, 50.96452000828325]]], &quot;type&quot;: &quot;Polygon&quot;}, {&quot;coordinates&quot;: [[[13.920000000000002, 50.964480007852735], [13.920050000000002, 50.964480007852735], [13.920050000000002, 50.96444000738777], [13.920000000000002, 50.96444000738777], [13.920000000000002, 50.964480007852735]]], &quot;type&quot;: &quot;Polygon&quot;}, {&quot;coordinates&quot;: [[[13.920000000000002, 50.96444000738777], [13.920050000000002, 50.96444000738777], [13.920050000000002, 50.96440000688836], [13.920000000000002, 50.96440000688836], [13.920000000000002, 50.96444000738777]]], &quot;type&quot;: &quot;Polygon&quot;}, {&quot;coordinates&quot;: [[[13.920000000000002, 50.96440000688836], [13.920050000000002, 50.96440000688836], [13.920050000000002, 50.96436000635452], [13.920000000000002, 50.96436000635452], [13.920000000000002, 50.96440000688836]]], &quot;type&quot;: &quot;Polygon&quot;}, {&quot;coordinates&quot;: [[[13.920000000000002, 50.96436000635452], [13.920050000000002, 50.96436000635452], [13.920050000000002, 50.96432000578623], [13.920000000000002, 50.96432000578623], [13.920000000000002, 50.96436000635452]]], &quot;type&quot;: &quot;Polygon&quot;}, {&quot;coordinates&quot;: [[[13.920000000000002, 50.96432000578623], [13.920050000000002, 50.96432000578623], [13.920050000000002, 50.9642800051835], [13.920000000000002, 50.9642800051835], [13.920000000000002, 50.96432000578623]]], &quot;type&quot;: &quot;Polygon&quot;}, {&quot;coordinates&quot;: [[[13.920000000000002, 50.9642800051835], [13.920050000000002, 50.9642800051835], [13.920050000000002, 50.96424000454632], [13.920000000000002, 50.96424000454632], [13.920000000000002, 50.9642800051835]]], &quot;type&quot;: &quot;Polygon&quot;}, {&quot;coordinates&quot;: [[[13.920000000000002, 50.96424000454632], [13.920050000000002, 50.96424000454632], [13.920050000000002, 50.96420000387471], [13.920000000000002, 50.96420000387471], [13.920000000000002, 50.96424000454632]]], &quot;type&quot;: &quot;Polygon&quot;}, {&quot;coordinates&quot;: [[[13.920000000000002, 50.96420000387471], [13.920050000000002, 50.96420000387471], [13.920050000000002, 50.964160003168644], [13.920000000000002, 50.964160003168644], [13.920000000000002, 50.96420000387471]]], &quot;type&quot;: &quot;Polygon&quot;}, {&quot;coordinates&quot;: [[[13.920000000000002, 50.964160003168644], [13.920050000000002, 50.964160003168644], [13.920050000000002, 50.964120002428146], [13.920000000000002, 50.964120002428146], [13.920000000000002, 50.964160003168644]]], &quot;type&quot;: &quot;Polygon&quot;}, {&quot;coordinates&quot;: [[[13.920000000000002, 50.964120002428146], [13.920050000000002, 50.964120002428146], [13.920050000000002, 50.96408000165321], [13.920000000000002, 50.96408000165321], [13.920000000000002, 50.964120002428146]]], &quot;type&quot;: &quot;Polygon&quot;}, {&quot;coordinates&quot;: [[[13.920000000000002, 50.96408000165321], [13.920050000000002, 50.96408000165321], [13.920050000000002, 50.964040000843816], [13.920000000000002, 50.964040000843816], [13.920000000000002, 50.96408000165321]]], &quot;type&quot;: &quot;Polygon&quot;}, {&quot;coordinates&quot;: [[[13.920000000000002, 50.964040000843816], [13.920050000000002, 50.964040000843816], [13.920050000000002, 50.96399999999999], [13.920000000000002, 50.96399999999999], [13.920000000000002, 50.964040000843816]]], &quot;type&quot;: &quot;Polygon&quot;}], &quot;type&quot;: &quot;GeometryCollection&quot;});\n",
       "\n",
       "        \n",
       "    \n",
       "            geo_json_e30233d4eb1e219a90b12afed0ea3215.addTo(map_639798b0483845dc6b6ccdd25019e047);\n",
       "        \n",
       "    \n",
       "\n",
       "        function geo_json_f7d1fd0cad04c529fcbac48548187b19_onEachFeature(feature, layer) {\n",
       "            layer.on({\n",
       "            });\n",
       "        };\n",
       "        var geo_json_f7d1fd0cad04c529fcbac48548187b19 = L.geoJson(null, {\n",
       "                onEachFeature: geo_json_f7d1fd0cad04c529fcbac48548187b19_onEachFeature,\n",
       "            \n",
       "        });\n",
       "\n",
       "        function geo_json_f7d1fd0cad04c529fcbac48548187b19_add (data) {\n",
       "            geo_json_f7d1fd0cad04c529fcbac48548187b19\n",
       "                .addData(data);\n",
       "        }\n",
       "            geo_json_f7d1fd0cad04c529fcbac48548187b19_add({&quot;coordinates&quot;: [13.92004, 50.96599], &quot;type&quot;: &quot;Point&quot;});\n",
       "\n",
       "        \n",
       "    \n",
       "            geo_json_f7d1fd0cad04c529fcbac48548187b19.addTo(map_639798b0483845dc6b6ccdd25019e047);\n",
       "        \n",
       "    \n",
       "            map_639798b0483845dc6b6ccdd25019e047.fitBounds(\n",
       "                [[50.964, 13.92], [50.966, 13.925000000000002]],\n",
       "                {}\n",
       "            );\n",
       "        \n",
       "    \n",
       "            tile_layer_ec46e5ed9b93450ba34a8bd336a64091.addTo(map_639798b0483845dc6b6ccdd25019e047);\n",
       "        \n",
       "    \n",
       "            geo_json_7573d8a161f7259230aacfde65b601aa.addTo(map_639798b0483845dc6b6ccdd25019e047);\n",
       "        \n",
       "    \n",
       "            geo_json_a508facbedf342d7a3e44f3175b179d1.addTo(map_639798b0483845dc6b6ccdd25019e047);\n",
       "        \n",
       "    \n",
       "            geo_json_aefb8276b15b62e8defc879051e4ed8b.addTo(map_639798b0483845dc6b6ccdd25019e047);\n",
       "        \n",
       "    \n",
       "            geo_json_274cc22e252a8aed3f9869caf5d652bf.addTo(map_639798b0483845dc6b6ccdd25019e047);\n",
       "        \n",
       "    \n",
       "            geo_json_0b2e3e002ab7dfa19580ee738755cd03.addTo(map_639798b0483845dc6b6ccdd25019e047);\n",
       "        \n",
       "    \n",
       "            geo_json_e30233d4eb1e219a90b12afed0ea3215.addTo(map_639798b0483845dc6b6ccdd25019e047);\n",
       "        \n",
       "    \n",
       "            geo_json_f7d1fd0cad04c529fcbac48548187b19.addTo(map_639798b0483845dc6b6ccdd25019e047);\n",
       "        \n",
       "    \n",
       "\n",
       "        function geo_json_df6f33391bbe535d1b9abf3ab2679da8_onEachFeature(feature, layer) {\n",
       "            layer.on({\n",
       "            });\n",
       "        };\n",
       "        var geo_json_df6f33391bbe535d1b9abf3ab2679da8 = L.geoJson(null, {\n",
       "                onEachFeature: geo_json_df6f33391bbe535d1b9abf3ab2679da8_onEachFeature,\n",
       "            \n",
       "        });\n",
       "\n",
       "        function geo_json_df6f33391bbe535d1b9abf3ab2679da8_add (data) {\n",
       "            geo_json_df6f33391bbe535d1b9abf3ab2679da8\n",
       "                .addData(data);\n",
       "        }\n",
       "            geo_json_df6f33391bbe535d1b9abf3ab2679da8_add({&quot;coordinates&quot;: [13.92181326103696, 50.96574333352123], &quot;type&quot;: &quot;Point&quot;});\n",
       "\n",
       "        \n",
       "    \n",
       "            geo_json_df6f33391bbe535d1b9abf3ab2679da8.addTo(map_639798b0483845dc6b6ccdd25019e047);\n",
       "        \n",
       "    \n",
       "\n",
       "        function geo_json_cb228c7b954329de4259c2e26f08ac50_onEachFeature(feature, layer) {\n",
       "            layer.on({\n",
       "            });\n",
       "        };\n",
       "        var geo_json_cb228c7b954329de4259c2e26f08ac50 = L.geoJson(null, {\n",
       "                onEachFeature: geo_json_cb228c7b954329de4259c2e26f08ac50_onEachFeature,\n",
       "            \n",
       "        });\n",
       "\n",
       "        function geo_json_cb228c7b954329de4259c2e26f08ac50_add (data) {\n",
       "            geo_json_cb228c7b954329de4259c2e26f08ac50\n",
       "                .addData(data);\n",
       "        }\n",
       "            geo_json_cb228c7b954329de4259c2e26f08ac50_add({&quot;coordinates&quot;: [13.92181326103696, 50.96440649737727], &quot;type&quot;: &quot;Point&quot;});\n",
       "\n",
       "        \n",
       "    \n",
       "            geo_json_cb228c7b954329de4259c2e26f08ac50.addTo(map_639798b0483845dc6b6ccdd25019e047);\n",
       "        \n",
       "    \n",
       "\n",
       "        function geo_json_8d3095b9544b9e3bf77c9fece552f546_onEachFeature(feature, layer) {\n",
       "            layer.on({\n",
       "            });\n",
       "        };\n",
       "        var geo_json_8d3095b9544b9e3bf77c9fece552f546 = L.geoJson(null, {\n",
       "                onEachFeature: geo_json_8d3095b9544b9e3bf77c9fece552f546_onEachFeature,\n",
       "            \n",
       "        });\n",
       "\n",
       "        function geo_json_8d3095b9544b9e3bf77c9fece552f546_add (data) {\n",
       "            geo_json_8d3095b9544b9e3bf77c9fece552f546\n",
       "                .addData(data);\n",
       "        }\n",
       "            geo_json_8d3095b9544b9e3bf77c9fece552f546_add({&quot;coordinates&quot;: [13.923994608237564, 50.96440649737727], &quot;type&quot;: &quot;Point&quot;});\n",
       "\n",
       "        \n",
       "    \n",
       "            geo_json_8d3095b9544b9e3bf77c9fece552f546.addTo(map_639798b0483845dc6b6ccdd25019e047);\n",
       "        \n",
       "    \n",
       "            map_639798b0483845dc6b6ccdd25019e047.fitBounds(\n",
       "                [[50.964, 13.92], [50.966, 13.925000000000002]],\n",
       "                {}\n",
       "            );\n",
       "        \n",
       "&lt;/script&gt;\n",
       "&lt;/html&gt;\" style=\"position:absolute;width:100%;height:100%;left:0;top:0;border:none !important;\" allowfullscreen webkitallowfullscreen mozallowfullscreen></iframe></div></div>"
      ],
      "text/plain": [
       "<folium.folium.Map at 0x13084e960>"
      ]
     },
     "execution_count": 7,
     "metadata": {},
     "output_type": "execute_result"
    }
   ],
   "source": [
    "from morpheus.project.types.observations.HeadObservation import HeadObservation, ObservationName, Head, ObservationCollection, HeadObservationValue\n",
    "\n",
    "head_observation_1 = HeadObservation.from_geometry(\n",
    "  geometry=Point((13.92181326103696, 50.96574333352123)),\n",
    "  grid=grid,\n",
    "  affected_layers=[model.layers[0].layer_id],\n",
    "  name=ObservationName('HOB_1'),\n",
    "  data=[\n",
    "    HeadObservationValue(\n",
    "      date_time=StartDateTime.from_datetime(datetime(2020, 1, 1)),\n",
    "      head=Head.from_float(111),\n",
    "    ),\n",
    "    HeadObservationValue(\n",
    "      date_time=StartDateTime.from_datetime(datetime(2020, 2, 1)),\n",
    "      head=Head.from_float(112),\n",
    "    ),\n",
    "    HeadObservationValue(\n",
    "      date_time=StartDateTime.from_datetime(datetime(2020, 3, 1)),\n",
    "      head=Head.from_float(113),\n",
    "    ),\n",
    "    HeadObservationValue(\n",
    "      date_time=StartDateTime.from_datetime(datetime(2020, 4, 1)),\n",
    "      head=Head.from_float(114),\n",
    "    ),\n",
    "    HeadObservationValue(\n",
    "      date_time=StartDateTime.from_datetime(datetime(2020, 5, 1)),\n",
    "      head=Head.from_float(115),\n",
    "    ),\n",
    "  ]\n",
    ")\n",
    "\n",
    "head_observation_2 = HeadObservation.from_geometry(\n",
    "  geometry=Point((13.92181326103696, 50.96440649737727)),\n",
    "  grid=grid,\n",
    "  affected_layers=[model.layers[0].layer_id],\n",
    "  name=ObservationName('HOB_2'),\n",
    "  data=[\n",
    "    HeadObservationValue(\n",
    "      date_time=StartDateTime.from_datetime(datetime(2020, 1, 1)),\n",
    "      head=Head.from_float(121),\n",
    "    ),\n",
    "    HeadObservationValue(\n",
    "      date_time=StartDateTime.from_datetime(datetime(2020, 2, 1)),\n",
    "      head=Head.from_float(122),\n",
    "    ),\n",
    "    HeadObservationValue(\n",
    "      date_time=StartDateTime.from_datetime(datetime(2020, 3, 1)),\n",
    "      head=Head.from_float(123),\n",
    "    ),\n",
    "    HeadObservationValue(\n",
    "      date_time=StartDateTime.from_datetime(datetime(2020, 4, 1)),\n",
    "      head=Head.from_float(124),\n",
    "    ),\n",
    "    HeadObservationValue(\n",
    "      date_time=StartDateTime.from_datetime(datetime(2020, 5, 1)),\n",
    "      head=Head.from_float(125),\n",
    "    ),\n",
    "  ]\n",
    ")\n",
    "\n",
    "head_observation_3 = HeadObservation.from_geometry(\n",
    "  geometry=Point((13.923994608237564, 50.96440649737727)),\n",
    "  grid=grid,\n",
    "  affected_layers=[model.layers[0].layer_id],\n",
    "  name=ObservationName('HOB_3'),\n",
    "  data=[\n",
    "    HeadObservationValue(\n",
    "      date_time=StartDateTime.from_datetime(datetime(2020, 1, 1)),\n",
    "      head=Head.from_float(131),\n",
    "    ),\n",
    "    HeadObservationValue(\n",
    "      date_time=StartDateTime.from_datetime(datetime(2020, 2, 1)),\n",
    "      head=Head.from_float(132),\n",
    "    ),\n",
    "    HeadObservationValue(\n",
    "      date_time=StartDateTime.from_datetime(datetime(2020, 3, 1)),\n",
    "      head=Head.from_float(133),\n",
    "    ),\n",
    "    HeadObservationValue(\n",
    "      date_time=StartDateTime.from_datetime(datetime(2020, 4, 1)),\n",
    "      head=Head.from_float(134),\n",
    "    ),\n",
    "    HeadObservationValue(\n",
    "      date_time=StartDateTime.from_datetime(datetime(2020, 5, 1)),\n",
    "      head=Head.from_float(135),\n",
    "    ),\n",
    "  ]\n",
    ")\n",
    "\n",
    "observations = ObservationCollection.new()\n",
    "observations = observations.with_added_observation(head_observation_1)\n",
    "observations = observations.with_added_observation(head_observation_2)\n",
    "observations = observations.with_added_observation(head_observation_3)\n",
    "\n",
    "model = model.with_updated_observations(observations=observations)\n",
    "\n",
    "m.add_child(folium.GeoJson(head_observation_1.as_geojson()))\n",
    "m.add_child(folium.GeoJson(head_observation_2.as_geojson()))\n",
    "m.add_child(folium.GeoJson(head_observation_3.as_geojson()))\n",
    "m.fit_bounds(m.get_bounds())\n",
    "m\n"
   ]
  },
  {
   "cell_type": "code",
   "execution_count": 8,
   "id": "dc338472e1887a13",
   "metadata": {
    "ExecuteTime": {
     "end_time": "2024-08-19T10:13:30.045891Z",
     "start_time": "2024-08-19T10:13:29.375436Z"
    },
    "collapsed": false,
    "execution": {
     "iopub.execute_input": "2024-08-19T20:27:21.692083Z",
     "iopub.status.busy": "2024-08-19T20:27:21.691952Z",
     "iopub.status.idle": "2024-08-19T20:27:21.944884Z",
     "shell.execute_reply": "2024-08-19T20:27:21.944617Z"
    },
    "papermill": {
     "duration": 0.257056,
     "end_time": "2024-08-19T20:27:21.945711",
     "exception": false,
     "start_time": "2024-08-19T20:27:21.688655",
     "status": "completed"
    },
    "tags": []
   },
   "outputs": [
    {
     "data": {
      "text/plain": [
       "HeadObservationData(items=[HeadObservationItem(observation_id=ObservationId(value='549be202-b101-4594-b816-2182221e9e93'), observation_name=ObservationName(value='HOB_1'), obs_name='549be2', names=['549be2.0', '549be2.1', '549be2.2', '549be2.3', '549be2.4'], layer=0, row=6, column=36, time_series_data=[HeadObservationTimeSeriesItem(date_time=StartDateTime(value=datetime.datetime(2020, 1, 1, 0, 0, tzinfo=datetime.timezone.utc)), total_time=TotalTime(value=0.0), head_value=Head(value=111)), HeadObservationTimeSeriesItem(date_time=StartDateTime(value=datetime.datetime(2020, 2, 1, 0, 0, tzinfo=datetime.timezone.utc)), total_time=TotalTime(value=31.0), head_value=Head(value=112)), HeadObservationTimeSeriesItem(date_time=StartDateTime(value=datetime.datetime(2020, 3, 1, 0, 0, tzinfo=datetime.timezone.utc)), total_time=TotalTime(value=60.0), head_value=Head(value=113)), HeadObservationTimeSeriesItem(date_time=StartDateTime(value=datetime.datetime(2020, 4, 1, 0, 0, tzinfo=datetime.timezone.utc)), total_time=TotalTime(value=91.0), head_value=Head(value=114)), HeadObservationTimeSeriesItem(date_time=StartDateTime(value=datetime.datetime(2020, 5, 1, 0, 0, tzinfo=datetime.timezone.utc)), total_time=TotalTime(value=121.0), head_value=Head(value=115))]), HeadObservationItem(observation_id=ObservationId(value='363141da-e648-4955-82e3-5bfe6f298efb'), observation_name=ObservationName(value='HOB_2'), obs_name='363141', names=['363141.0', '363141.1', '363141.2', '363141.3', '363141.4'], layer=0, row=39, column=36, time_series_data=[HeadObservationTimeSeriesItem(date_time=StartDateTime(value=datetime.datetime(2020, 1, 1, 0, 0, tzinfo=datetime.timezone.utc)), total_time=TotalTime(value=0.0), head_value=Head(value=121)), HeadObservationTimeSeriesItem(date_time=StartDateTime(value=datetime.datetime(2020, 2, 1, 0, 0, tzinfo=datetime.timezone.utc)), total_time=TotalTime(value=31.0), head_value=Head(value=122)), HeadObservationTimeSeriesItem(date_time=StartDateTime(value=datetime.datetime(2020, 3, 1, 0, 0, tzinfo=datetime.timezone.utc)), total_time=TotalTime(value=60.0), head_value=Head(value=123)), HeadObservationTimeSeriesItem(date_time=StartDateTime(value=datetime.datetime(2020, 4, 1, 0, 0, tzinfo=datetime.timezone.utc)), total_time=TotalTime(value=91.0), head_value=Head(value=124)), HeadObservationTimeSeriesItem(date_time=StartDateTime(value=datetime.datetime(2020, 5, 1, 0, 0, tzinfo=datetime.timezone.utc)), total_time=TotalTime(value=121.0), head_value=Head(value=125))]), HeadObservationItem(observation_id=ObservationId(value='78d8edbf-0ba4-4dab-b2c8-891eedd745ac'), observation_name=ObservationName(value='HOB_3'), obs_name='78d8ed', names=['78d8ed.0', '78d8ed.1', '78d8ed.2', '78d8ed.3', '78d8ed.4'], layer=0, row=39, column=79, time_series_data=[HeadObservationTimeSeriesItem(date_time=StartDateTime(value=datetime.datetime(2020, 1, 1, 0, 0, tzinfo=datetime.timezone.utc)), total_time=TotalTime(value=0.0), head_value=Head(value=131)), HeadObservationTimeSeriesItem(date_time=StartDateTime(value=datetime.datetime(2020, 2, 1, 0, 0, tzinfo=datetime.timezone.utc)), total_time=TotalTime(value=31.0), head_value=Head(value=132)), HeadObservationTimeSeriesItem(date_time=StartDateTime(value=datetime.datetime(2020, 3, 1, 0, 0, tzinfo=datetime.timezone.utc)), total_time=TotalTime(value=60.0), head_value=Head(value=133)), HeadObservationTimeSeriesItem(date_time=StartDateTime(value=datetime.datetime(2020, 4, 1, 0, 0, tzinfo=datetime.timezone.utc)), total_time=TotalTime(value=91.0), head_value=Head(value=134)), HeadObservationTimeSeriesItem(date_time=StartDateTime(value=datetime.datetime(2020, 5, 1, 0, 0, tzinfo=datetime.timezone.utc)), total_time=TotalTime(value=121.0), head_value=Head(value=135))])])"
      ]
     },
     "execution_count": 8,
     "metadata": {},
     "output_type": "execute_result"
    }
   ],
   "source": [
    "from morpheus.project.infrastructure.calculation.engines.modflow_2005.packages.HobPackageMapper import \\\n",
    "  calculate_observation_items\n",
    "\n",
    "result = calculate_observation_items(model=model)\n",
    "result"
   ]
  },
  {
   "cell_type": "markdown",
   "id": "42d948d145a8457a",
   "metadata": {
    "collapsed": false,
    "papermill": {
     "duration": 0.002633,
     "end_time": "2024-08-19T20:27:21.951311",
     "exception": false,
     "start_time": "2024-08-19T20:27:21.948678",
     "status": "completed"
    },
    "tags": []
   },
   "source": [
    "## Calculate"
   ]
  },
  {
   "cell_type": "code",
   "execution_count": 9,
   "id": "56ccabee86e2397e",
   "metadata": {
    "ExecuteTime": {
     "end_time": "2024-08-19T10:13:30.541717Z",
     "start_time": "2024-08-19T10:13:30.047855Z"
    },
    "collapsed": false,
    "execution": {
     "iopub.execute_input": "2024-08-19T20:27:21.957202Z",
     "iopub.status.busy": "2024-08-19T20:27:21.957041Z",
     "iopub.status.idle": "2024-08-19T20:27:22.214902Z",
     "shell.execute_reply": "2024-08-19T20:27:22.214527Z"
    },
    "papermill": {
     "duration": 0.261916,
     "end_time": "2024-08-19T20:27:22.215819",
     "exception": false,
     "start_time": "2024-08-19T20:27:21.953903",
     "status": "completed"
    },
    "tags": []
   },
   "outputs": [
    {
     "data": {
      "text/plain": [
       "['type,package,k,i,j,value,desc']"
      ]
     },
     "execution_count": 9,
     "metadata": {},
     "output_type": "execute_result"
    }
   ],
   "source": [
    "from morpheus.project.infrastructure.calculation.engines.base.CalculationEngineFactory import CalculationEngineFactory\n",
    "from morpheus.project.types.calculation.CalculationProfile import CalculationProfile, CalculationEngineType\n",
    "from morpheus.project.types.calculation.Calculation import CalculationId\n",
    "\n",
    "calculation_id = CalculationId.new()\n",
    "calculation_profile = CalculationProfile.new(CalculationEngineType.MF2005)\n",
    "engine = CalculationEngineFactory.create_engine(calculation_id=calculation_id, engine_type=calculation_profile.engine_type)\n",
    "check_model_log = engine.preprocess(model, calculation_profile)\n",
    "check_model_log.to_list()"
   ]
  },
  {
   "cell_type": "code",
   "execution_count": 10,
   "id": "672007fb90753c4c",
   "metadata": {
    "ExecuteTime": {
     "end_time": "2024-08-19T10:13:30.671064Z",
     "start_time": "2024-08-19T10:13:30.544043Z"
    },
    "collapsed": false,
    "execution": {
     "iopub.execute_input": "2024-08-19T20:27:22.226229Z",
     "iopub.status.busy": "2024-08-19T20:27:22.226006Z",
     "iopub.status.idle": "2024-08-19T20:27:22.301302Z",
     "shell.execute_reply": "2024-08-19T20:27:22.300828Z"
    },
    "papermill": {
     "duration": 0.083656,
     "end_time": "2024-08-19T20:27:22.303327",
     "exception": false,
     "start_time": "2024-08-19T20:27:22.219671",
     "status": "completed"
    },
    "tags": []
   },
   "outputs": [
    {
     "name": "stdout",
     "output_type": "stream",
     "text": [
      "FloPy is using the following executable to run the model: ../../../../../../../src/backend/.venv/bin/mf2005\n",
      "\n",
      "                                  MODFLOW-2005     \n",
      "    U.S. GEOLOGICAL SURVEY MODULAR FINITE-DIFFERENCE GROUND-WATER FLOW MODEL\n",
      "                             Version 1.12.00 2/3/2017                        \n",
      "\n",
      " Using NAME file: mf2005.nam \n",
      " Run start date and time (yyyy/mm/dd hh:mm:ss): 2024/08/19 22:27:22\n",
      "\n",
      " Solving:  Stress period:     1    Time step:     1    Ground-Water Flow Eqn.\n",
      " Run end date and time (yyyy/mm/dd hh:mm:ss): 2024/08/19 22:27:22\n",
      " Elapsed run time:  0.022 Seconds\n",
      "\n",
      "  Normal termination of simulation\n"
     ]
    }
   ],
   "source": [
    "log, result = engine.run(model=model, calculation_profile=calculation_profile)"
   ]
  },
  {
   "cell_type": "code",
   "execution_count": 11,
   "id": "a52d1dd3a1574032",
   "metadata": {
    "ExecuteTime": {
     "end_time": "2024-08-19T10:13:30.679680Z",
     "start_time": "2024-08-19T10:13:30.675190Z"
    },
    "collapsed": false,
    "execution": {
     "iopub.execute_input": "2024-08-19T20:27:22.315029Z",
     "iopub.status.busy": "2024-08-19T20:27:22.314514Z",
     "iopub.status.idle": "2024-08-19T20:27:22.319442Z",
     "shell.execute_reply": "2024-08-19T20:27:22.318763Z"
    },
    "papermill": {
     "duration": 0.014771,
     "end_time": "2024-08-19T20:27:22.322221",
     "exception": false,
     "start_time": "2024-08-19T20:27:22.307450",
     "status": "completed"
    },
    "tags": []
   },
   "outputs": [
    {
     "data": {
      "text/plain": [
       "CalculationResult(type=<CalculationResultType.SUCCESS: 'success'>, message='Calculation finished successfully', files=['mf2005.list', 'mf2005.ghb', 'mf2005.dis', 'mf2005.hob.out', 'mf2005.nam', 'mf2005.bas', 'mf2005.lpf', 'mf2005.pcg', 'mf2005.hob', 'mf2005.oc', 'mf2005.hds'], flow_head_results=AvailableResults(times=[365.0], kstpkper=[(0, 0)], number_of_layers=1, number_of_observations=15, min_value=100.0025634765625, max_value=119.9991455078125), flow_drawdown_results=None, flow_budget_results=AvailableResults(times=[365.0], kstpkper=[(0, 0)], number_of_layers=0, number_of_observations=0, min_value=None, max_value=None), transport_concentration_results=None, transport_budget_results=None, packages=['DIS', 'BAS6', 'GHB', 'PCG', 'LPF', 'OC', 'HOB'])"
      ]
     },
     "execution_count": 11,
     "metadata": {},
     "output_type": "execute_result"
    }
   ],
   "source": [
    "result"
   ]
  },
  {
   "cell_type": "code",
   "execution_count": 12,
   "id": "ead09f5fabe89fa7",
   "metadata": {
    "ExecuteTime": {
     "end_time": "2024-08-19T10:13:30.685870Z",
     "start_time": "2024-08-19T10:13:30.680863Z"
    },
    "collapsed": false,
    "execution": {
     "iopub.execute_input": "2024-08-19T20:27:22.333854Z",
     "iopub.status.busy": "2024-08-19T20:27:22.333452Z",
     "iopub.status.idle": "2024-08-19T20:27:22.368916Z",
     "shell.execute_reply": "2024-08-19T20:27:22.365622Z"
    },
    "papermill": {
     "duration": 0.043526,
     "end_time": "2024-08-19T20:27:22.371562",
     "exception": false,
     "start_time": "2024-08-19T20:27:22.328036",
     "status": "completed"
    },
    "tags": []
   },
   "outputs": [
    {
     "data": {
      "text/plain": [
       "[CalculationObservationResultItem(observation_id=ObservationId(value='549be202-b101-4594-b816-2182221e9e93'), observation_name=ObservationName(value='HOB_1'), layer=0, row=6, col=36, date_time='2020-01-01T00:00:00+00:00', simulated=112.727661133, observed=111),\n",
       " CalculationObservationResultItem(observation_id=ObservationId(value='549be202-b101-4594-b816-2182221e9e93'), observation_name=ObservationName(value='HOB_1'), layer=0, row=6, col=36, date_time='2020-02-01T00:00:00+00:00', simulated=112.727661133, observed=112),\n",
       " CalculationObservationResultItem(observation_id=ObservationId(value='549be202-b101-4594-b816-2182221e9e93'), observation_name=ObservationName(value='HOB_1'), layer=0, row=6, col=36, date_time='2020-03-01T00:00:00+00:00', simulated=112.727661133, observed=113),\n",
       " CalculationObservationResultItem(observation_id=ObservationId(value='549be202-b101-4594-b816-2182221e9e93'), observation_name=ObservationName(value='HOB_1'), layer=0, row=6, col=36, date_time='2020-04-01T00:00:00+00:00', simulated=112.727661133, observed=114),\n",
       " CalculationObservationResultItem(observation_id=ObservationId(value='549be202-b101-4594-b816-2182221e9e93'), observation_name=ObservationName(value='HOB_1'), layer=0, row=6, col=36, date_time='2020-05-01T00:00:00+00:00', simulated=112.727661133, observed=115),\n",
       " CalculationObservationResultItem(observation_id=ObservationId(value='363141da-e648-4955-82e3-5bfe6f298efb'), observation_name=ObservationName(value='HOB_2'), layer=0, row=39, col=36, date_time='2020-01-01T00:00:00+00:00', simulated=112.727661133, observed=121),\n",
       " CalculationObservationResultItem(observation_id=ObservationId(value='363141da-e648-4955-82e3-5bfe6f298efb'), observation_name=ObservationName(value='HOB_2'), layer=0, row=39, col=36, date_time='2020-02-01T00:00:00+00:00', simulated=112.727661133, observed=122),\n",
       " CalculationObservationResultItem(observation_id=ObservationId(value='363141da-e648-4955-82e3-5bfe6f298efb'), observation_name=ObservationName(value='HOB_2'), layer=0, row=39, col=36, date_time='2020-03-01T00:00:00+00:00', simulated=112.727661133, observed=123),\n",
       " CalculationObservationResultItem(observation_id=ObservationId(value='363141da-e648-4955-82e3-5bfe6f298efb'), observation_name=ObservationName(value='HOB_2'), layer=0, row=39, col=36, date_time='2020-04-01T00:00:00+00:00', simulated=112.727661133, observed=124),\n",
       " CalculationObservationResultItem(observation_id=ObservationId(value='363141da-e648-4955-82e3-5bfe6f298efb'), observation_name=ObservationName(value='HOB_2'), layer=0, row=39, col=36, date_time='2020-05-01T00:00:00+00:00', simulated=112.727661133, observed=125),\n",
       " CalculationObservationResultItem(observation_id=ObservationId(value='78d8edbf-0ba4-4dab-b2c8-891eedd745ac'), observation_name=ObservationName(value='HOB_3'), layer=0, row=39, col=79, date_time='2020-01-01T00:00:00+00:00', simulated=104.042282104, observed=131),\n",
       " CalculationObservationResultItem(observation_id=ObservationId(value='78d8edbf-0ba4-4dab-b2c8-891eedd745ac'), observation_name=ObservationName(value='HOB_3'), layer=0, row=39, col=79, date_time='2020-02-01T00:00:00+00:00', simulated=104.042282104, observed=132),\n",
       " CalculationObservationResultItem(observation_id=ObservationId(value='78d8edbf-0ba4-4dab-b2c8-891eedd745ac'), observation_name=ObservationName(value='HOB_3'), layer=0, row=39, col=79, date_time='2020-03-01T00:00:00+00:00', simulated=104.042282104, observed=133),\n",
       " CalculationObservationResultItem(observation_id=ObservationId(value='78d8edbf-0ba4-4dab-b2c8-891eedd745ac'), observation_name=ObservationName(value='HOB_3'), layer=0, row=39, col=79, date_time='2020-04-01T00:00:00+00:00', simulated=104.042282104, observed=134),\n",
       " CalculationObservationResultItem(observation_id=ObservationId(value='78d8edbf-0ba4-4dab-b2c8-891eedd745ac'), observation_name=ObservationName(value='HOB_3'), layer=0, row=39, col=79, date_time='2020-05-01T00:00:00+00:00', simulated=104.042282104, observed=135)]"
      ]
     },
     "execution_count": 12,
     "metadata": {},
     "output_type": "execute_result"
    }
   ],
   "source": [
    "engine.read_head_observations(model=model)"
   ]
  },
  {
   "cell_type": "code",
   "execution_count": 13,
   "id": "cc43ad077c7a81d0",
   "metadata": {
    "ExecuteTime": {
     "end_time": "2024-08-19T10:13:30.693813Z",
     "start_time": "2024-08-19T10:13:30.686489Z"
    },
    "collapsed": false,
    "execution": {
     "iopub.execute_input": "2024-08-19T20:27:22.378840Z",
     "iopub.status.busy": "2024-08-19T20:27:22.378669Z",
     "iopub.status.idle": "2024-08-19T20:27:22.381278Z",
     "shell.execute_reply": "2024-08-19T20:27:22.380946Z"
    },
    "papermill": {
     "duration": 0.007532,
     "end_time": "2024-08-19T20:27:22.382287",
     "exception": false,
     "start_time": "2024-08-19T20:27:22.374755",
     "status": "completed"
    },
    "tags": []
   },
   "outputs": [],
   "source": [
    "head = engine.read_flow_head(idx=0, layer=0)"
   ]
  },
  {
   "cell_type": "code",
   "execution_count": 14,
   "id": "12454cc4d9e18de5",
   "metadata": {
    "ExecuteTime": {
     "end_time": "2024-08-19T10:13:30.703617Z",
     "start_time": "2024-08-19T10:13:30.694550Z"
    },
    "collapsed": false,
    "execution": {
     "iopub.execute_input": "2024-08-19T20:27:22.392154Z",
     "iopub.status.busy": "2024-08-19T20:27:22.391946Z",
     "iopub.status.idle": "2024-08-19T20:27:22.399724Z",
     "shell.execute_reply": "2024-08-19T20:27:22.399414Z"
    },
    "papermill": {
     "duration": 0.013162,
     "end_time": "2024-08-19T20:27:22.400741",
     "exception": false,
     "start_time": "2024-08-19T20:27:22.387579",
     "status": "completed"
    },
    "tags": []
   },
   "outputs": [
    {
     "data": {
      "text/plain": [
       "'[[119.99919891357422, 119.79720306396484, 119.59519958496094, 119.39320373535156, 119.19120025634766, 118.98919677734375, 118.78720092773438, 118.58519744873047, 118.38330078125, 118.1812973022461, 117.97930145263672, 117.77729797363281, 117.57530212402344, 117.37329864501953, 117.17140197753906, 116.96939849853516, 116.76740264892578, 116.56539916992188, 116.3634033203125, 116.1613998413086, 115.95939636230469, 115.75740051269531, 115.55549621582031, 115.35350036621094, 115.15149688720703, 114.94950103759766, 114.74749755859375, 114.54550170898438, 114.34359741210938, 114.1416015625, 113.9395980834961, 113.73760223388672, 113.53559875488281, 113.33360290527344, 113.13159942626953, 112.92960357666016, 112.72769927978516, 112.52570343017578, 112.32369995117188, 112.12169647216797, 111.9197006225586, 111.71769714355469, 111.51580047607422, 111.31379699707031, 111.11180114746094, 110.90979766845703, 110.70780181884766, 110.50579833984375, 110.30380249023438, 110.10179901123047, 109.89990234375, 109.6978988647461, 109.49590301513672, 109.29389953613281, 109.09190368652344, 108.88990020751953, 108.68800354003906, 108.48600006103516, 108.28399658203125, 108.08200073242188, 107.87999725341797, 107.6780014038086, 107.47599792480469, 107.27400207519531, 107.07209777832031, 106.87010192871094, 106.66809844970703, 106.46610260009766, 106.26409912109375, 106.06210327148438, 105.86019897460938, 105.658203125, 105.4561996459961, 105.25420379638672, 105.05220031738281, 104.8501968383789, 104.64820098876953, 104.44619750976562, 104.24430084228516, 104.04229736328125, 103.84030151367188, 103.63829803466797, 103.4363021850586, 103.23429870605469, 103.03240203857422, 102.83039855957031, 102.62840270996094, 102.42639923095703, 102.22440338134766, 102.02239990234375, 101.82039642333984, 101.61849975585938, 101.41649627685547, 101.2145004272461, 101.01249694824219, 100.81050109863281, 100.6084976196289, 100.40650177001953, 100.20459747314453, 100.00260162353516], [119.99919891357422, 119.79720306396484, 119.59519958496094, 119.39320373535156, 119.19120025634766, 118.98919677734375, 118.78720092773438, 118.58519744873047, 118.38330078125, 118.1812973022461, 117.97930145263672, 117.77729797363281, 117.57530212402344, 117.37329864501953, 117.17140197753906, 116.96939849853516, 116.76740264892578, 116.56539916992188, 116.3634033203125, 116.1613998413086, 115.95939636230469, 115.75740051269531, 115.55549621582031, 115.35350036621094, 115.15149688720703, 114.94950103759766, 114.74749755859375, 114.54550170898438, 114.34359741210938, 114.1416015625, 113.9395980834961, 113.73760223388672, 113.53559875488281, 113.33360290527344, 113.13159942626953, 112.92960357666016, 112.72769927978516, 112.52570343017578, 112.32369995117188, 112.12169647216797, 111.9197006225586, 111.71769714355469, 111.51580047607422, 111.31379699707031, 111.11180114746094, 110.90979766845703, 110.70780181884766, 110.50579833984375, 110.30380249023438, 110.10179901123047, 109.89990234375, 109.6978988647461, 109.49590301513672, 109.29389953613281, 109.09190368652344, 108.88990020751953, 108.68800354003906, 108.48600006103516, 108.28399658203125, 108.08200073242188, 107.87999725341797, 107.6780014038086, 107.47599792480469, 107.27400207519531, 107.07209777832031, 106.87010192871094, 106.66809844970703, 106.46610260009766, 106.26409912109375, 106.06210327148438, 105.86019897460938, 105.658203125, 105.4561996459961, 105.25420379638672, 105.05220031738281, 104.8501968383789, 104.64820098876953, 104.44619750976562, 104.24430084228516, 104.04229736328125, 103.84030151367188, 103.63829803466797, 103.4363021850586, 103.23429870605469, 103.03240203857422, 102.83039855957031, 102.62840270996094, 102.42639923095703, 102.22440338134766, 102.02239990234375, 101.82039642333984, 101.61849975585938, 101.41649627685547, 101.2145004272461, 101.01249694824219, 100.81050109863281, 100.6084976196289, 100.40650177001953, 100.20459747314453, 100.00260162353516], [119.99919891357422, 119.79720306396484, 119.59519958496094, 119.39320373535156, 119.19120025634766, 118.98919677734375, 118.78720092773438, 118.58519744873047, 118.38330078125, 118.1812973022461, 117.97930145263672, 117.77729797363281, 117.57530212402344, 117.37329864501953, 117.17140197753906, 116.96939849853516, 116.76740264892578, 116.56539916992188, 116.3634033203125, 116.1613998413086, 115.95939636230469, 115.75740051269531, 115.55549621582031, 115.35350036621094, 115.15149688720703, 114.94950103759766, 114.74749755859375, 114.54550170898438, 114.34359741210938, 114.1416015625, 113.9395980834961, 113.73760223388672, 113.53559875488281, 113.33360290527344, 113.13159942626953, 112.92960357666016, 112.72769927978516, 112.52570343017578, 112.32369995117188, 112.12169647216797, 111.9197006225586, 111.71769714355469, 111.51580047607422, 111.31379699707031, 111.11180114746094, 110.90979766845703, 110.70780181884766, 110.50579833984375, 110.30380249023438, 110.10179901123047, 109.89990234375, 109.6978988647461, 109.49590301513672, 109.29389953613281, 109.09190368652344, 108.88990020751953, 108.68800354003906, 108.48600006103516, 108.28399658203125, 108.08200073242188, 107.87999725341797, 107.6780014038086, 107.47599792480469, 107.27400207519531, 107.07209777832031, 106.87010192871094, 106.66809844970703, 106.46610260009766, 106.26409912109375, 106.06210327148438, 105.86019897460938, 105.658203125, 105.4561996459961, 105.25420379638672, 105.05220031738281, 104.8501968383789, 104.64820098876953, 104.44619750976562, 104.24430084228516, 104.04229736328125, 103.84030151367188, 103.63829803466797, 103.4363021850586, 103.23429870605469, 103.03240203857422, 102.83039855957031, 102.62840270996094, 102.42639923095703, 102.22440338134766, 102.02239990234375, 101.82039642333984, 101.61849975585938, 101.41649627685547, 101.2145004272461, 101.01249694824219, 100.81050109863281, 100.6084976196289, 100.40650177001953, 100.20459747314453, 100.00260162353516], [119.99919891357422, 119.79720306396484, 119.59519958496094, 119.39320373535156, 119.19120025634766, 118.98919677734375, 118.78720092773438, 118.58519744873047, 118.38330078125, 118.1812973022461, 117.97930145263672, 117.77729797363281, 117.57530212402344, 117.37329864501953, 117.17140197753906, 116.96939849853516, 116.76740264892578, 116.56539916992188, 116.3634033203125, 116.1613998413086, 115.95939636230469, 115.75740051269531, 115.55549621582031, 115.35350036621094, 115.15149688720703, 114.94950103759766, 114.74749755859375, 114.54550170898438, 114.34359741210938, 114.1416015625, 113.9395980834961, 113.73760223388672, 113.53559875488281, 113.33360290527344, 113.13159942626953, 112.92960357666016, 112.72769927978516, 112.52570343017578, 112.32369995117188, 112.12169647216797, 111.9197006225586, 111.71769714355469, 111.51580047607422, 111.31379699707031, 111.11180114746094, 110.90979766845703, 110.70780181884766, 110.50579833984375, 110.30380249023438, 110.10179901123047, 109.89990234375, 109.6978988647461, 109.49590301513672, 109.29389953613281, 109.09190368652344, 108.88990020751953, 108.68800354003906, 108.48600006103516, 108.28399658203125, 108.08200073242188, 107.87999725341797, 107.6780014038086, 107.47599792480469, 107.27400207519531, 107.07209777832031, 106.87010192871094, 106.66809844970703, 106.46610260009766, 106.26409912109375, 106.06210327148438, 105.86019897460938, 105.658203125, 105.4561996459961, 105.25420379638672, 105.05220031738281, 104.8501968383789, 104.64820098876953, 104.44619750976562, 104.24430084228516, 104.04229736328125, 103.84030151367188, 103.63829803466797, 103.4363021850586, 103.23429870605469, 103.03240203857422, 102.83039855957031, 102.62840270996094, 102.42639923095703, 102.22440338134766, 102.02239990234375, 101.82039642333984, 101.61849975585938, 101.41649627685547, 101.2145004272461, 101.01249694824219, 100.81050109863281, 100.6084976196289, 100.40650177001953, 100.20459747314453, 100.00260162353516], [119.99919891357422, 119.79720306396484, 119.59519958496094, 119.39320373535156, 119.19120025634766, 118.98919677734375, 118.78720092773438, 118.58519744873047, 118.38330078125, 118.1812973022461, 117.97930145263672, 117.77729797363281, 117.57530212402344, 117.37329864501953, 117.17140197753906, 116.96939849853516, 116.76740264892578, 116.56539916992188, 116.3634033203125, 116.1613998413086, 115.95939636230469, 115.75740051269531, 115.55549621582031, 115.35350036621094, 115.15149688720703, 114.94950103759766, 114.74749755859375, 114.54550170898438, 114.34359741210938, 114.1416015625, 113.9395980834961, 113.73760223388672, 113.53559875488281, 113.33360290527344, 113.13159942626953, 112.92960357666016, 112.72769927978516, 112.52570343017578, 112.32369995117188, 112.12169647216797, 111.9197006225586, 111.71769714355469, 111.51580047607422, 111.31379699707031, 111.11180114746094, 110.90979766845703, 110.70780181884766, 110.50579833984375, 110.30380249023438, 110.10179901123047, 109.89990234375, 109.6978988647461, 109.49590301513672, 109.29389953613281, 109.09190368652344, 108.88990020751953, 108.68800354003906, 108.48600006103516, 108.28399658203125, 108.08200073242188, 107.87999725341797, 107.6780014038086, 107.47599792480469, 107.27400207519531, 107.07209777832031, 106.87010192871094, 106.66809844970703, 106.46610260009766, 106.26409912109375, 106.06210327148438, 105.86019897460938, 105.658203125, 105.4561996459961, 105.25420379638672, 105.05220031738281, 104.8501968383789, 104.64820098876953, 104.44619750976562, 104.24430084228516, 104.04229736328125, 103.84030151367188, 103.63829803466797, 103.4363021850586, 103.23429870605469, 103.03240203857422, 102.83039855957031, 102.62840270996094, 102.42639923095703, 102.22440338134766, 102.02239990234375, 101.82039642333984, 101.61849975585938, 101.41649627685547, 101.2145004272461, 101.01249694824219, 100.81050109863281, 100.6084976196289, 100.40650177001953, 100.20459747314453, 100.00260162353516], [119.99919891357422, 119.79720306396484, 119.59519958496094, 119.39320373535156, 119.19120025634766, 118.98919677734375, 118.78720092773438, 118.58519744873047, 118.38330078125, 118.1812973022461, 117.97930145263672, 117.77729797363281, 117.57530212402344, 117.37329864501953, 117.17140197753906, 116.96939849853516, 116.76740264892578, 116.56539916992188, 116.3634033203125, 116.1613998413086, 115.95939636230469, 115.75740051269531, 115.55549621582031, 115.35350036621094, 115.15149688720703, 114.94950103759766, 114.74749755859375, 114.54550170898438, 114.34359741210938, 114.1416015625, 113.9395980834961, 113.73760223388672, 113.53559875488281, 113.33360290527344, 113.13159942626953, 112.92960357666016, 112.72769927978516, 112.52570343017578, 112.32369995117188, 112.12169647216797, 111.9197006225586, 111.71769714355469, 111.51580047607422, 111.31379699707031, 111.11180114746094, 110.90979766845703, 110.70780181884766, 110.50579833984375, 110.30380249023438, 110.10179901123047, 109.89990234375, 109.6978988647461, 109.49590301513672, 109.29389953613281, 109.09190368652344, 108.88990020751953, 108.68800354003906, 108.48600006103516, 108.28399658203125, 108.08200073242188, 107.87999725341797, 107.6780014038086, 107.47599792480469, 107.27400207519531, 107.07209777832031, 106.87010192871094, 106.66809844970703, 106.46610260009766, 106.26409912109375, 106.06210327148438, 105.86019897460938, 105.658203125, 105.4561996459961, 105.25420379638672, 105.05220031738281, 104.8501968383789, 104.64820098876953, 104.44619750976562, 104.24430084228516, 104.04229736328125, 103.84030151367188, 103.63829803466797, 103.4363021850586, 103.23429870605469, 103.03240203857422, 102.83039855957031, 102.62840270996094, 102.42639923095703, 102.22440338134766, 102.02239990234375, 101.82039642333984, 101.61849975585938, 101.41649627685547, 101.2145004272461, 101.01249694824219, 100.81050109863281, 100.6084976196289, 100.40650177001953, 100.20459747314453, 100.00260162353516], [119.99919891357422, 119.79720306396484, 119.59519958496094, 119.39320373535156, 119.19120025634766, 118.98919677734375, 118.78720092773438, 118.58519744873047, 118.38330078125, 118.1812973022461, 117.97930145263672, 117.77729797363281, 117.57530212402344, 117.37329864501953, 117.17140197753906, 116.96939849853516, 116.76740264892578, 116.56539916992188, 116.3634033203125, 116.1613998413086, 115.95939636230469, 115.75740051269531, 115.55549621582031, 115.35350036621094, 115.15149688720703, 114.94950103759766, 114.74749755859375, 114.54550170898438, 114.34359741210938, 114.1416015625, 113.9395980834961, 113.73760223388672, 113.53559875488281, 113.33360290527344, 113.13159942626953, 112.92960357666016, 112.72769927978516, 112.52570343017578, 112.32369995117188, 112.12169647216797, 111.9197006225586, 111.71769714355469, 111.51580047607422, 111.31379699707031, 111.11180114746094, 110.90979766845703, 110.70780181884766, 110.50579833984375, 110.30380249023438, 110.10179901123047, 109.89990234375, 109.6978988647461, 109.49590301513672, 109.29389953613281, 109.09190368652344, 108.88990020751953, 108.68800354003906, 108.48600006103516, 108.28399658203125, 108.08200073242188, 107.87999725341797, 107.6780014038086, 107.47599792480469, 107.27400207519531, 107.07209777832031, 106.87010192871094, 106.66809844970703, 106.46610260009766, 106.26409912109375, 106.06210327148438, 105.86019897460938, 105.658203125, 105.4561996459961, 105.25420379638672, 105.05220031738281, 104.8501968383789, 104.64820098876953, 104.44619750976562, 104.24430084228516, 104.04229736328125, 103.84030151367188, 103.63829803466797, 103.4363021850586, 103.23429870605469, 103.03240203857422, 102.83039855957031, 102.62840270996094, 102.42639923095703, 102.22440338134766, 102.02239990234375, 101.82039642333984, 101.61849975585938, 101.41649627685547, 101.2145004272461, 101.01249694824219, 100.81050109863281, 100.6084976196289, 100.40650177001953, 100.20459747314453, 100.00260162353516], [119.99919891357422, 119.79720306396484, 119.59519958496094, 119.39320373535156, 119.19120025634766, 118.98919677734375, 118.78720092773438, 118.58519744873047, 118.38330078125, 118.1812973022461, 117.97930145263672, 117.77729797363281, 117.57530212402344, 117.37329864501953, 117.17140197753906, 116.96939849853516, 116.76740264892578, 116.56539916992188, 116.3634033203125, 116.1613998413086, 115.95939636230469, 115.75740051269531, 115.55549621582031, 115.35350036621094, 115.15149688720703, 114.94950103759766, 114.74749755859375, 114.54550170898438, 114.34359741210938, 114.1416015625, 113.9395980834961, 113.73760223388672, 113.53559875488281, 113.33360290527344, 113.13159942626953, 112.92960357666016, 112.72769927978516, 112.52570343017578, 112.32369995117188, 112.12169647216797, 111.9197006225586, 111.71769714355469, 111.51580047607422, 111.31379699707031, 111.11180114746094, 110.90979766845703, 110.70780181884766, 110.50579833984375, 110.30380249023438, 110.10179901123047, 109.89990234375, 109.6978988647461, 109.49590301513672, 109.29389953613281, 109.09190368652344, 108.88990020751953, 108.68800354003906, 108.48600006103516, 108.28399658203125, 108.08200073242188, 107.87999725341797, 107.6780014038086, 107.47599792480469, 107.27400207519531, 107.07209777832031, 106.87010192871094, 106.66809844970703, 106.46610260009766, 106.26409912109375, 106.06210327148438, 105.86019897460938, 105.658203125, 105.4561996459961, 105.25420379638672, 105.05220031738281, 104.8501968383789, 104.64820098876953, 104.44619750976562, 104.24430084228516, 104.04229736328125, 103.84030151367188, 103.63829803466797, 103.4363021850586, 103.23429870605469, 103.03240203857422, 102.83039855957031, 102.62840270996094, 102.42639923095703, 102.22440338134766, 102.02239990234375, 101.82039642333984, 101.61849975585938, 101.41649627685547, 101.2145004272461, 101.01249694824219, 100.81050109863281, 100.6084976196289, 100.40650177001953, 100.20459747314453, 100.00260162353516], [119.99919891357422, 119.79720306396484, 119.59519958496094, 119.39320373535156, 119.19120025634766, 118.98919677734375, 118.78720092773438, 118.58519744873047, 118.38330078125, 118.1812973022461, 117.97930145263672, 117.77729797363281, 117.57530212402344, 117.37329864501953, 117.17140197753906, 116.96939849853516, 116.76740264892578, 116.56539916992188, 116.3634033203125, 116.1613998413086, 115.95939636230469, 115.75740051269531, 115.55549621582031, 115.35350036621094, 115.15149688720703, 114.94950103759766, 114.74749755859375, 114.54550170898438, 114.34359741210938, 114.1416015625, 113.9395980834961, 113.73760223388672, 113.53559875488281, 113.33360290527344, 113.13159942626953, 112.92960357666016, 112.72769927978516, 112.52570343017578, 112.32369995117188, 112.12169647216797, 111.9197006225586, 111.71769714355469, 111.51580047607422, 111.31379699707031, 111.11180114746094, 110.90979766845703, 110.70780181884766, 110.50579833984375, 110.30380249023438, 110.10179901123047, 109.89990234375, 109.6978988647461, 109.49590301513672, 109.29389953613281, 109.09190368652344, 108.88990020751953, 108.68800354003906, 108.48600006103516, 108.28399658203125, 108.08200073242188, 107.87999725341797, 107.6780014038086, 107.47599792480469, 107.27400207519531, 107.07209777832031, 106.87010192871094, 106.66809844970703, 106.46610260009766, 106.26409912109375, 106.06210327148438, 105.86019897460938, 105.658203125, 105.4561996459961, 105.25420379638672, 105.05220031738281, 104.8501968383789, 104.64820098876953, 104.44619750976562, 104.24430084228516, 104.04229736328125, 103.84030151367188, 103.63829803466797, 103.4363021850586, 103.23429870605469, 103.03240203857422, 102.83039855957031, 102.62840270996094, 102.42639923095703, 102.22440338134766, 102.02239990234375, 101.82039642333984, 101.61849975585938, 101.41649627685547, 101.2145004272461, 101.01249694824219, 100.81050109863281, 100.6084976196289, 100.40650177001953, 100.20459747314453, 100.00260162353516], [119.99919891357422, 119.79720306396484, 119.59519958496094, 119.39320373535156, 119.19120025634766, 118.98919677734375, 118.78720092773438, 118.58519744873047, 118.38330078125, 118.1812973022461, 117.97930145263672, 117.77729797363281, 117.57530212402344, 117.37329864501953, 117.17140197753906, 116.96939849853516, 116.76740264892578, 116.56539916992188, 116.3634033203125, 116.1613998413086, 115.95939636230469, 115.75740051269531, 115.55549621582031, 115.35350036621094, 115.15149688720703, 114.94950103759766, 114.74749755859375, 114.54550170898438, 114.34359741210938, 114.1416015625, 113.9395980834961, 113.73760223388672, 113.53559875488281, 113.33360290527344, 113.13159942626953, 112.92960357666016, 112.72769927978516, 112.52570343017578, 112.32369995117188, 112.12169647216797, 111.9197006225586, 111.71769714355469, 111.51580047607422, 111.31379699707031, 111.11180114746094, 110.90979766845703, 110.70780181884766, 110.50579833984375, 110.30380249023438, 110.10179901123047, 109.89990234375, 109.6978988647461, 109.49590301513672, 109.29389953613281, 109.09190368652344, 108.88990020751953, 108.68800354003906, 108.48600006103516, 108.28399658203125, 108.08200073242188, 107.87999725341797, 107.6780014038086, 107.47599792480469, 107.27400207519531, 107.07209777832031, 106.87010192871094, 106.66809844970703, 106.46610260009766, 106.26409912109375, 106.06210327148438, 105.86019897460938, 105.658203125, 105.4561996459961, 105.25420379638672, 105.05220031738281, 104.8501968383789, 104.64820098876953, 104.44619750976562, 104.24430084228516, 104.04229736328125, 103.84030151367188, 103.63829803466797, 103.4363021850586, 103.23429870605469, 103.03240203857422, 102.83039855957031, 102.62840270996094, 102.42639923095703, 102.22440338134766, 102.02239990234375, 101.82039642333984, 101.61849975585938, 101.41649627685547, 101.2145004272461, 101.01249694824219, 100.81050109863281, 100.6084976196289, 100.40650177001953, 100.20459747314453, 100.00260162353516], [119.99919891357422, 119.79720306396484, 119.59519958496094, 119.39320373535156, 119.19120025634766, 118.98919677734375, 118.78720092773438, 118.58519744873047, 118.38330078125, 118.1812973022461, 117.97930145263672, 117.77729797363281, 117.57530212402344, 117.37329864501953, 117.17140197753906, 116.96939849853516, 116.76740264892578, 116.56539916992188, 116.3634033203125, 116.1613998413086, 115.95939636230469, 115.75740051269531, 115.55549621582031, 115.35350036621094, 115.15149688720703, 114.94950103759766, 114.74749755859375, 114.54550170898438, 114.34359741210938, 114.1416015625, 113.9395980834961, 113.73760223388672, 113.53559875488281, 113.33360290527344, 113.13159942626953, 112.92960357666016, 112.72769927978516, 112.52570343017578, 112.32369995117188, 112.12169647216797, 111.9197006225586, 111.71769714355469, 111.51580047607422, 111.31379699707031, 111.11180114746094, 110.90979766845703, 110.70780181884766, 110.50579833984375, 110.30380249023438, 110.10179901123047, 109.89990234375, 109.6978988647461, 109.49590301513672, 109.29389953613281, 109.09190368652344, 108.88990020751953, 108.68800354003906, 108.48600006103516, 108.28399658203125, 108.08200073242188, 107.87999725341797, 107.6780014038086, 107.47599792480469, 107.27400207519531, 107.07209777832031, 106.87010192871094, 106.66809844970703, 106.46610260009766, 106.26409912109375, 106.06210327148438, 105.86019897460938, 105.658203125, 105.4561996459961, 105.25420379638672, 105.05220031738281, 104.8501968383789, 104.64820098876953, 104.44619750976562, 104.24430084228516, 104.04229736328125, 103.84030151367188, 103.63829803466797, 103.4363021850586, 103.23429870605469, 103.03240203857422, 102.83039855957031, 102.62840270996094, 102.42639923095703, 102.22440338134766, 102.02239990234375, 101.82039642333984, 101.61849975585938, 101.41649627685547, 101.2145004272461, 101.01249694824219, 100.81050109863281, 100.6084976196289, 100.40650177001953, 100.20459747314453, 100.00260162353516], [119.99919891357422, 119.79720306396484, 119.59519958496094, 119.39320373535156, 119.19120025634766, 118.98919677734375, 118.78720092773438, 118.58519744873047, 118.38330078125, 118.1812973022461, 117.97930145263672, 117.77729797363281, 117.57530212402344, 117.37329864501953, 117.17140197753906, 116.96939849853516, 116.76740264892578, 116.56539916992188, 116.3634033203125, 116.1613998413086, 115.95939636230469, 115.75740051269531, 115.55549621582031, 115.35350036621094, 115.15149688720703, 114.94950103759766, 114.74749755859375, 114.54550170898438, 114.34359741210938, 114.1416015625, 113.9395980834961, 113.73760223388672, 113.53559875488281, 113.33360290527344, 113.13159942626953, 112.92960357666016, 112.72769927978516, 112.52570343017578, 112.32369995117188, 112.12169647216797, 111.9197006225586, 111.71769714355469, 111.51580047607422, 111.31379699707031, 111.11180114746094, 110.90979766845703, 110.70780181884766, 110.50579833984375, 110.30380249023438, 110.10179901123047, 109.89990234375, 109.6978988647461, 109.49590301513672, 109.29389953613281, 109.09190368652344, 108.88990020751953, 108.68800354003906, 108.48600006103516, 108.28399658203125, 108.08200073242188, 107.87999725341797, 107.6780014038086, 107.47599792480469, 107.27400207519531, 107.07209777832031, 106.87010192871094, 106.66809844970703, 106.46610260009766, 106.26409912109375, 106.06210327148438, 105.86019897460938, 105.658203125, 105.4561996459961, 105.25420379638672, 105.05220031738281, 104.8501968383789, 104.64820098876953, 104.44619750976562, 104.24430084228516, 104.04229736328125, 103.84030151367188, 103.63829803466797, 103.4363021850586, 103.23429870605469, 103.03240203857422, 102.83039855957031, 102.62840270996094, 102.42639923095703, 102.22440338134766, 102.02239990234375, 101.82039642333984, 101.61849975585938, 101.41649627685547, 101.2145004272461, 101.01249694824219, 100.81050109863281, 100.6084976196289, 100.40650177001953, 100.20459747314453, 100.00260162353516], [119.99919891357422, 119.79720306396484, 119.59519958496094, 119.39320373535156, 119.19120025634766, 118.98919677734375, 118.78720092773438, 118.58519744873047, 118.38330078125, 118.1812973022461, 117.97930145263672, 117.77729797363281, 117.57530212402344, 117.37329864501953, 117.17140197753906, 116.96939849853516, 116.76740264892578, 116.56539916992188, 116.3634033203125, 116.1613998413086, 115.95939636230469, 115.75740051269531, 115.55549621582031, 115.35350036621094, 115.15149688720703, 114.94950103759766, 114.74749755859375, 114.54550170898438, 114.34359741210938, 114.1416015625, 113.9395980834961, 113.73760223388672, 113.53559875488281, 113.33360290527344, 113.13159942626953, 112.92960357666016, 112.72769927978516, 112.52570343017578, 112.32369995117188, 112.12169647216797, 111.9197006225586, 111.71769714355469, 111.51580047607422, 111.31379699707031, 111.11180114746094, 110.90979766845703, 110.70780181884766, 110.50579833984375, 110.30380249023438, 110.10179901123047, 109.89990234375, 109.6978988647461, 109.49590301513672, 109.29389953613281, 109.09190368652344, 108.88990020751953, 108.68800354003906, 108.48600006103516, 108.28399658203125, 108.08200073242188, 107.87999725341797, 107.6780014038086, 107.47599792480469, 107.27400207519531, 107.07209777832031, 106.87010192871094, 106.66809844970703, 106.46610260009766, 106.26409912109375, 106.06210327148438, 105.86019897460938, 105.658203125, 105.4561996459961, 105.25420379638672, 105.05220031738281, 104.8501968383789, 104.64820098876953, 104.44619750976562, 104.24430084228516, 104.04229736328125, 103.84030151367188, 103.63829803466797, 103.4363021850586, 103.23429870605469, 103.03240203857422, 102.83039855957031, 102.62840270996094, 102.42639923095703, 102.22440338134766, 102.02239990234375, 101.82039642333984, 101.61849975585938, 101.41649627685547, 101.2145004272461, 101.01249694824219, 100.81050109863281, 100.6084976196289, 100.40650177001953, 100.20459747314453, 100.00260162353516], [119.99919891357422, 119.79720306396484, 119.59519958496094, 119.39320373535156, 119.19120025634766, 118.98919677734375, 118.78720092773438, 118.58519744873047, 118.38330078125, 118.1812973022461, 117.97930145263672, 117.77729797363281, 117.57530212402344, 117.37329864501953, 117.17140197753906, 116.96939849853516, 116.76740264892578, 116.56539916992188, 116.3634033203125, 116.1613998413086, 115.95939636230469, 115.75740051269531, 115.55549621582031, 115.35350036621094, 115.15149688720703, 114.94950103759766, 114.74749755859375, 114.54550170898438, 114.34359741210938, 114.1416015625, 113.9395980834961, 113.73760223388672, 113.53559875488281, 113.33360290527344, 113.13159942626953, 112.92960357666016, 112.72769927978516, 112.52570343017578, 112.32369995117188, 112.12169647216797, 111.9197006225586, 111.71769714355469, 111.51580047607422, 111.31379699707031, 111.11180114746094, 110.90979766845703, 110.70780181884766, 110.50579833984375, 110.30380249023438, 110.10179901123047, 109.89990234375, 109.6978988647461, 109.49590301513672, 109.29389953613281, 109.09190368652344, 108.88990020751953, 108.68800354003906, 108.48600006103516, 108.28399658203125, 108.08200073242188, 107.87999725341797, 107.6780014038086, 107.47599792480469, 107.27400207519531, 107.07209777832031, 106.87010192871094, 106.66809844970703, 106.46610260009766, 106.26409912109375, 106.06210327148438, 105.86019897460938, 105.658203125, 105.4561996459961, 105.25420379638672, 105.05220031738281, 104.8501968383789, 104.64820098876953, 104.44619750976562, 104.24430084228516, 104.04229736328125, 103.84030151367188, 103.63829803466797, 103.4363021850586, 103.23429870605469, 103.03240203857422, 102.83039855957031, 102.62840270996094, 102.42639923095703, 102.22440338134766, 102.02239990234375, 101.82039642333984, 101.61849975585938, 101.41649627685547, 101.2145004272461, 101.01249694824219, 100.81050109863281, 100.6084976196289, 100.40650177001953, 100.20459747314453, 100.00260162353516], [119.99919891357422, 119.79720306396484, 119.59519958496094, 119.39320373535156, 119.19120025634766, 118.98919677734375, 118.78720092773438, 118.58519744873047, 118.38330078125, 118.1812973022461, 117.97930145263672, 117.77729797363281, 117.57530212402344, 117.37329864501953, 117.17140197753906, 116.96939849853516, 116.76740264892578, 116.56539916992188, 116.3634033203125, 116.1613998413086, 115.95939636230469, 115.75740051269531, 115.55549621582031, 115.35350036621094, 115.15149688720703, 114.94950103759766, 114.74749755859375, 114.54550170898438, 114.34359741210938, 114.1416015625, 113.9395980834961, 113.73760223388672, 113.53559875488281, 113.33360290527344, 113.13159942626953, 112.92960357666016, 112.72769927978516, 112.52570343017578, 112.32369995117188, 112.12169647216797, 111.9197006225586, 111.71769714355469, 111.51580047607422, 111.31379699707031, 111.11180114746094, 110.90979766845703, 110.70780181884766, 110.50579833984375, 110.30380249023438, 110.10179901123047, 109.89990234375, 109.6978988647461, 109.49590301513672, 109.29389953613281, 109.09190368652344, 108.88990020751953, 108.68800354003906, 108.48600006103516, 108.28399658203125, 108.08200073242188, 107.87999725341797, 107.6780014038086, 107.47599792480469, 107.27400207519531, 107.07209777832031, 106.87010192871094, 106.66809844970703, 106.46610260009766, 106.26409912109375, 106.06210327148438, 105.86019897460938, 105.658203125, 105.4561996459961, 105.25420379638672, 105.05220031738281, 104.8501968383789, 104.64820098876953, 104.44619750976562, 104.24430084228516, 104.04229736328125, 103.84030151367188, 103.63829803466797, 103.4363021850586, 103.23429870605469, 103.03240203857422, 102.83039855957031, 102.62840270996094, 102.42639923095703, 102.22440338134766, 102.02239990234375, 101.82039642333984, 101.61849975585938, 101.41649627685547, 101.2145004272461, 101.01249694824219, 100.81050109863281, 100.6084976196289, 100.40650177001953, 100.20459747314453, 100.00260162353516], [119.99919891357422, 119.79720306396484, 119.59519958496094, 119.39320373535156, 119.19120025634766, 118.98919677734375, 118.78720092773438, 118.58519744873047, 118.38330078125, 118.1812973022461, 117.97930145263672, 117.77729797363281, 117.57530212402344, 117.37329864501953, 117.17140197753906, 116.96939849853516, 116.76740264892578, 116.56539916992188, 116.3634033203125, 116.1613998413086, 115.95939636230469, 115.75740051269531, 115.55549621582031, 115.35350036621094, 115.15149688720703, 114.94950103759766, 114.74749755859375, 114.54550170898438, 114.34359741210938, 114.1416015625, 113.9395980834961, 113.73760223388672, 113.53559875488281, 113.33360290527344, 113.13159942626953, 112.92960357666016, 112.72769927978516, 112.52570343017578, 112.32369995117188, 112.12169647216797, 111.9197006225586, 111.71769714355469, 111.51580047607422, 111.31379699707031, 111.11180114746094, 110.90979766845703, 110.70780181884766, 110.50579833984375, 110.30380249023438, 110.10179901123047, 109.89990234375, 109.6978988647461, 109.49590301513672, 109.29389953613281, 109.09190368652344, 108.88990020751953, 108.68800354003906, 108.48600006103516, 108.28399658203125, 108.08200073242188, 107.87999725341797, 107.6780014038086, 107.47599792480469, 107.27400207519531, 107.07209777832031, 106.87010192871094, 106.66809844970703, 106.46610260009766, 106.26409912109375, 106.06210327148438, 105.86019897460938, 105.658203125, 105.4561996459961, 105.25420379638672, 105.05220031738281, 104.8501968383789, 104.64820098876953, 104.44619750976562, 104.24430084228516, 104.04229736328125, 103.84030151367188, 103.63829803466797, 103.4363021850586, 103.23429870605469, 103.03240203857422, 102.83039855957031, 102.62840270996094, 102.42639923095703, 102.22440338134766, 102.02239990234375, 101.82039642333984, 101.61849975585938, 101.41649627685547, 101.2145004272461, 101.01249694824219, 100.81050109863281, 100.6084976196289, 100.40650177001953, 100.20459747314453, 100.00260162353516], [119.99919891357422, 119.79720306396484, 119.59519958496094, 119.39320373535156, 119.19120025634766, 118.98919677734375, 118.78720092773438, 118.58519744873047, 118.38330078125, 118.1812973022461, 117.97930145263672, 117.77729797363281, 117.57530212402344, 117.37329864501953, 117.17140197753906, 116.96939849853516, 116.76740264892578, 116.56539916992188, 116.3634033203125, 116.1613998413086, 115.95939636230469, 115.75740051269531, 115.55549621582031, 115.35350036621094, 115.15149688720703, 114.94950103759766, 114.74749755859375, 114.54550170898438, 114.34359741210938, 114.1416015625, 113.9395980834961, 113.73760223388672, 113.53559875488281, 113.33360290527344, 113.13159942626953, 112.92960357666016, 112.72769927978516, 112.52570343017578, 112.32369995117188, 112.12169647216797, 111.9197006225586, 111.71769714355469, 111.51580047607422, 111.31379699707031, 111.11180114746094, 110.90979766845703, 110.70780181884766, 110.50579833984375, 110.30380249023438, 110.10179901123047, 109.89990234375, 109.6978988647461, 109.49590301513672, 109.29389953613281, 109.09190368652344, 108.88990020751953, 108.68800354003906, 108.48600006103516, 108.28399658203125, 108.08200073242188, 107.87999725341797, 107.6780014038086, 107.47599792480469, 107.27400207519531, 107.07209777832031, 106.87010192871094, 106.66809844970703, 106.46610260009766, 106.26409912109375, 106.06210327148438, 105.86019897460938, 105.658203125, 105.4561996459961, 105.25420379638672, 105.05220031738281, 104.8501968383789, 104.64820098876953, 104.44619750976562, 104.24430084228516, 104.04229736328125, 103.84030151367188, 103.63829803466797, 103.4363021850586, 103.23429870605469, 103.03240203857422, 102.83039855957031, 102.62840270996094, 102.42639923095703, 102.22440338134766, 102.02239990234375, 101.82039642333984, 101.61849975585938, 101.41649627685547, 101.2145004272461, 101.01249694824219, 100.81050109863281, 100.6084976196289, 100.40650177001953, 100.20459747314453, 100.00260162353516], [119.99919891357422, 119.79720306396484, 119.59519958496094, 119.39320373535156, 119.19120025634766, 118.98919677734375, 118.78720092773438, 118.58519744873047, 118.38330078125, 118.1812973022461, 117.97930145263672, 117.77729797363281, 117.57530212402344, 117.37329864501953, 117.17140197753906, 116.96939849853516, 116.76740264892578, 116.56539916992188, 116.3634033203125, 116.1613998413086, 115.95939636230469, 115.75740051269531, 115.55549621582031, 115.35350036621094, 115.15149688720703, 114.94950103759766, 114.74749755859375, 114.54550170898438, 114.34359741210938, 114.1416015625, 113.9395980834961, 113.73760223388672, 113.53559875488281, 113.33360290527344, 113.13159942626953, 112.92960357666016, 112.72769927978516, 112.52570343017578, 112.32369995117188, 112.12169647216797, 111.9197006225586, 111.71769714355469, 111.51580047607422, 111.31379699707031, 111.11180114746094, 110.90979766845703, 110.70780181884766, 110.50579833984375, 110.30380249023438, 110.10179901123047, 109.89990234375, 109.6978988647461, 109.49590301513672, 109.29389953613281, 109.09190368652344, 108.88990020751953, 108.68800354003906, 108.48600006103516, 108.28399658203125, 108.08200073242188, 107.87999725341797, 107.6780014038086, 107.47599792480469, 107.27400207519531, 107.07209777832031, 106.87010192871094, 106.66809844970703, 106.46610260009766, 106.26409912109375, 106.06210327148438, 105.86019897460938, 105.658203125, 105.4561996459961, 105.25420379638672, 105.05220031738281, 104.8501968383789, 104.64820098876953, 104.44619750976562, 104.24430084228516, 104.04229736328125, 103.84030151367188, 103.63829803466797, 103.4363021850586, 103.23429870605469, 103.03240203857422, 102.83039855957031, 102.62840270996094, 102.42639923095703, 102.22440338134766, 102.02239990234375, 101.82039642333984, 101.61849975585938, 101.41649627685547, 101.2145004272461, 101.01249694824219, 100.81050109863281, 100.6084976196289, 100.40650177001953, 100.20459747314453, 100.00260162353516], [119.99919891357422, 119.79720306396484, 119.59519958496094, 119.39320373535156, 119.19120025634766, 118.98919677734375, 118.78720092773438, 118.58519744873047, 118.38330078125, 118.1812973022461, 117.97930145263672, 117.77729797363281, 117.57530212402344, 117.37329864501953, 117.17140197753906, 116.96939849853516, 116.76740264892578, 116.56539916992188, 116.3634033203125, 116.1613998413086, 115.95939636230469, 115.75740051269531, 115.55549621582031, 115.35350036621094, 115.15149688720703, 114.94950103759766, 114.74749755859375, 114.54550170898438, 114.34359741210938, 114.1416015625, 113.9395980834961, 113.73760223388672, 113.53559875488281, 113.33360290527344, 113.13159942626953, 112.92960357666016, 112.72769927978516, 112.52570343017578, 112.32369995117188, 112.12169647216797, 111.9197006225586, 111.71769714355469, 111.51580047607422, 111.31379699707031, 111.11180114746094, 110.90979766845703, 110.70780181884766, 110.50579833984375, 110.30380249023438, 110.10179901123047, 109.89990234375, 109.6978988647461, 109.49590301513672, 109.29389953613281, 109.09190368652344, 108.88990020751953, 108.68800354003906, 108.48600006103516, 108.28399658203125, 108.08200073242188, 107.87999725341797, 107.6780014038086, 107.47599792480469, 107.27400207519531, 107.07209777832031, 106.87010192871094, 106.66809844970703, 106.46610260009766, 106.26409912109375, 106.06210327148438, 105.86019897460938, 105.658203125, 105.4561996459961, 105.25420379638672, 105.05220031738281, 104.8501968383789, 104.64820098876953, 104.44619750976562, 104.24430084228516, 104.04229736328125, 103.84030151367188, 103.63829803466797, 103.4363021850586, 103.23429870605469, 103.03240203857422, 102.83039855957031, 102.62840270996094, 102.42639923095703, 102.22440338134766, 102.02239990234375, 101.82039642333984, 101.61849975585938, 101.41649627685547, 101.2145004272461, 101.01249694824219, 100.81050109863281, 100.6084976196289, 100.40650177001953, 100.20459747314453, 100.00260162353516], [119.99919891357422, 119.79720306396484, 119.59519958496094, 119.39320373535156, 119.19120025634766, 118.98919677734375, 118.78720092773438, 118.58519744873047, 118.38330078125, 118.1812973022461, 117.97930145263672, 117.77729797363281, 117.57530212402344, 117.37329864501953, 117.17140197753906, 116.96939849853516, 116.76740264892578, 116.56539916992188, 116.3634033203125, 116.1613998413086, 115.95939636230469, 115.75740051269531, 115.55549621582031, 115.35350036621094, 115.15149688720703, 114.94950103759766, 114.74749755859375, 114.54550170898438, 114.34359741210938, 114.1416015625, 113.9395980834961, 113.73760223388672, 113.53559875488281, 113.33360290527344, 113.13159942626953, 112.92960357666016, 112.72769927978516, 112.52570343017578, 112.32369995117188, 112.12169647216797, 111.9197006225586, 111.71769714355469, 111.51580047607422, 111.31379699707031, 111.11180114746094, 110.90979766845703, 110.70780181884766, 110.50579833984375, 110.30380249023438, 110.10179901123047, 109.89990234375, 109.6978988647461, 109.49590301513672, 109.29389953613281, 109.09190368652344, 108.88990020751953, 108.68800354003906, 108.48600006103516, 108.28399658203125, 108.08200073242188, 107.87999725341797, 107.6780014038086, 107.47599792480469, 107.27400207519531, 107.07209777832031, 106.87010192871094, 106.66809844970703, 106.46610260009766, 106.26409912109375, 106.06210327148438, 105.86019897460938, 105.658203125, 105.4561996459961, 105.25420379638672, 105.05220031738281, 104.8501968383789, 104.64820098876953, 104.44619750976562, 104.24430084228516, 104.04229736328125, 103.84030151367188, 103.63829803466797, 103.4363021850586, 103.23429870605469, 103.03240203857422, 102.83039855957031, 102.62840270996094, 102.42639923095703, 102.22440338134766, 102.02239990234375, 101.82039642333984, 101.61849975585938, 101.41649627685547, 101.2145004272461, 101.01249694824219, 100.81050109863281, 100.6084976196289, 100.40650177001953, 100.20459747314453, 100.00260162353516], [119.99919891357422, 119.79720306396484, 119.59519958496094, 119.39320373535156, 119.19120025634766, 118.98919677734375, 118.78720092773438, 118.58519744873047, 118.38330078125, 118.1812973022461, 117.97930145263672, 117.77729797363281, 117.57530212402344, 117.37329864501953, 117.17140197753906, 116.96939849853516, 116.76740264892578, 116.56539916992188, 116.3634033203125, 116.1613998413086, 115.95939636230469, 115.75740051269531, 115.55549621582031, 115.35350036621094, 115.15149688720703, 114.94950103759766, 114.74749755859375, 114.54550170898438, 114.34359741210938, 114.1416015625, 113.9395980834961, 113.73760223388672, 113.53559875488281, 113.33360290527344, 113.13159942626953, 112.92960357666016, 112.72769927978516, 112.52570343017578, 112.32369995117188, 112.12169647216797, 111.9197006225586, 111.71769714355469, 111.51580047607422, 111.31379699707031, 111.11180114746094, 110.90979766845703, 110.70780181884766, 110.50579833984375, 110.30380249023438, 110.10179901123047, 109.89990234375, 109.6978988647461, 109.49590301513672, 109.29389953613281, 109.09190368652344, 108.88990020751953, 108.68800354003906, 108.48600006103516, 108.28399658203125, 108.08200073242188, 107.87999725341797, 107.6780014038086, 107.47599792480469, 107.27400207519531, 107.07209777832031, 106.87010192871094, 106.66809844970703, 106.46610260009766, 106.26409912109375, 106.06210327148438, 105.86019897460938, 105.658203125, 105.4561996459961, 105.25420379638672, 105.05220031738281, 104.8501968383789, 104.64820098876953, 104.44619750976562, 104.24430084228516, 104.04229736328125, 103.84030151367188, 103.63829803466797, 103.4363021850586, 103.23429870605469, 103.03240203857422, 102.83039855957031, 102.62840270996094, 102.42639923095703, 102.22440338134766, 102.02239990234375, 101.82039642333984, 101.61849975585938, 101.41649627685547, 101.2145004272461, 101.01249694824219, 100.81050109863281, 100.6084976196289, 100.40650177001953, 100.20459747314453, 100.00260162353516], [119.99919891357422, 119.79720306396484, 119.59519958496094, 119.39320373535156, 119.19120025634766, 118.98919677734375, 118.78720092773438, 118.58519744873047, 118.38330078125, 118.1812973022461, 117.97930145263672, 117.77729797363281, 117.57530212402344, 117.37329864501953, 117.17140197753906, 116.96939849853516, 116.76740264892578, 116.56539916992188, 116.3634033203125, 116.1613998413086, 115.95939636230469, 115.75740051269531, 115.55549621582031, 115.35350036621094, 115.15149688720703, 114.94950103759766, 114.74749755859375, 114.54550170898438, 114.34359741210938, 114.1416015625, 113.9395980834961, 113.73760223388672, 113.53559875488281, 113.33360290527344, 113.13159942626953, 112.92960357666016, 112.72769927978516, 112.52570343017578, 112.32369995117188, 112.12169647216797, 111.9197006225586, 111.71769714355469, 111.51580047607422, 111.31379699707031, 111.11180114746094, 110.90979766845703, 110.70780181884766, 110.50579833984375, 110.30380249023438, 110.10179901123047, 109.89990234375, 109.6978988647461, 109.49590301513672, 109.29389953613281, 109.09190368652344, 108.88990020751953, 108.68800354003906, 108.48600006103516, 108.28399658203125, 108.08200073242188, 107.87999725341797, 107.6780014038086, 107.47599792480469, 107.27400207519531, 107.07209777832031, 106.87010192871094, 106.66809844970703, 106.46610260009766, 106.26409912109375, 106.06210327148438, 105.86019897460938, 105.658203125, 105.4561996459961, 105.25420379638672, 105.05220031738281, 104.8501968383789, 104.64820098876953, 104.44619750976562, 104.24430084228516, 104.04229736328125, 103.84030151367188, 103.63829803466797, 103.4363021850586, 103.23429870605469, 103.03240203857422, 102.83039855957031, 102.62840270996094, 102.42639923095703, 102.22440338134766, 102.02239990234375, 101.82039642333984, 101.61849975585938, 101.41649627685547, 101.2145004272461, 101.01249694824219, 100.81050109863281, 100.6084976196289, 100.40650177001953, 100.20459747314453, 100.00260162353516], [119.99919891357422, 119.79720306396484, 119.59519958496094, 119.39320373535156, 119.19120025634766, 118.98919677734375, 118.78720092773438, 118.58519744873047, 118.38330078125, 118.1812973022461, 117.97930145263672, 117.77729797363281, 117.57530212402344, 117.37329864501953, 117.17140197753906, 116.96939849853516, 116.76740264892578, 116.56539916992188, 116.3634033203125, 116.1613998413086, 115.95939636230469, 115.75740051269531, 115.55549621582031, 115.35350036621094, 115.15149688720703, 114.94950103759766, 114.74749755859375, 114.54550170898438, 114.34359741210938, 114.1416015625, 113.9395980834961, 113.73760223388672, 113.53559875488281, 113.33360290527344, 113.13159942626953, 112.92960357666016, 112.72769927978516, 112.52570343017578, 112.32369995117188, 112.12169647216797, 111.9197006225586, 111.71769714355469, 111.51580047607422, 111.31379699707031, 111.11180114746094, 110.90979766845703, 110.70780181884766, 110.50579833984375, 110.30380249023438, 110.10179901123047, 109.89990234375, 109.6978988647461, 109.49590301513672, 109.29389953613281, 109.09190368652344, 108.88990020751953, 108.68800354003906, 108.48600006103516, 108.28399658203125, 108.08200073242188, 107.87999725341797, 107.6780014038086, 107.47599792480469, 107.27400207519531, 107.07209777832031, 106.87010192871094, 106.66809844970703, 106.46610260009766, 106.26409912109375, 106.06210327148438, 105.86019897460938, 105.658203125, 105.4561996459961, 105.25420379638672, 105.05220031738281, 104.8501968383789, 104.64820098876953, 104.44619750976562, 104.24430084228516, 104.04229736328125, 103.84030151367188, 103.63829803466797, 103.4363021850586, 103.23429870605469, 103.03240203857422, 102.83039855957031, 102.62840270996094, 102.42639923095703, 102.22440338134766, 102.02239990234375, 101.82039642333984, 101.61849975585938, 101.41649627685547, 101.2145004272461, 101.01249694824219, 100.81050109863281, 100.6084976196289, 100.40650177001953, 100.20459747314453, 100.00260162353516], [119.99919891357422, 119.79720306396484, 119.59519958496094, 119.39320373535156, 119.19120025634766, 118.98919677734375, 118.78720092773438, 118.58519744873047, 118.38330078125, 118.1812973022461, 117.97930145263672, 117.77729797363281, 117.57530212402344, 117.37329864501953, 117.17140197753906, 116.96939849853516, 116.76740264892578, 116.56539916992188, 116.3634033203125, 116.1613998413086, 115.95939636230469, 115.75740051269531, 115.55549621582031, 115.35350036621094, 115.15149688720703, 114.94950103759766, 114.74749755859375, 114.54550170898438, 114.34359741210938, 114.1416015625, 113.9395980834961, 113.73760223388672, 113.53559875488281, 113.33360290527344, 113.13159942626953, 112.92960357666016, 112.72769927978516, 112.52570343017578, 112.32369995117188, 112.12169647216797, 111.9197006225586, 111.71769714355469, 111.51580047607422, 111.31379699707031, 111.11180114746094, 110.90979766845703, 110.70780181884766, 110.50579833984375, 110.30380249023438, 110.10179901123047, 109.89990234375, 109.6978988647461, 109.49590301513672, 109.29389953613281, 109.09190368652344, 108.88990020751953, 108.68800354003906, 108.48600006103516, 108.28399658203125, 108.08200073242188, 107.87999725341797, 107.6780014038086, 107.47599792480469, 107.27400207519531, 107.07209777832031, 106.87010192871094, 106.66809844970703, 106.46610260009766, 106.26409912109375, 106.06210327148438, 105.86019897460938, 105.658203125, 105.4561996459961, 105.25420379638672, 105.05220031738281, 104.8501968383789, 104.64820098876953, 104.44619750976562, 104.24430084228516, 104.04229736328125, 103.84030151367188, 103.63829803466797, 103.4363021850586, 103.23429870605469, 103.03240203857422, 102.83039855957031, 102.62840270996094, 102.42639923095703, 102.22440338134766, 102.02239990234375, 101.82039642333984, 101.61849975585938, 101.41649627685547, 101.2145004272461, 101.01249694824219, 100.81050109863281, 100.6084976196289, 100.40650177001953, 100.20459747314453, 100.00260162353516], [119.99919891357422, 119.79720306396484, 119.59519958496094, 119.39320373535156, 119.19120025634766, 118.98919677734375, 118.78720092773438, 118.58519744873047, 118.38330078125, 118.1812973022461, 117.97930145263672, 117.77729797363281, 117.57530212402344, 117.37329864501953, 117.17140197753906, 116.96939849853516, 116.76740264892578, 116.56539916992188, 116.3634033203125, 116.1613998413086, 115.95939636230469, 115.75740051269531, 115.55549621582031, 115.35350036621094, 115.15149688720703, 114.94950103759766, 114.74749755859375, 114.54550170898438, 114.34359741210938, 114.1416015625, 113.9395980834961, 113.73760223388672, 113.53559875488281, 113.33360290527344, 113.13159942626953, 112.92960357666016, 112.72769927978516, 112.52570343017578, 112.32369995117188, 112.12169647216797, 111.9197006225586, 111.71769714355469, 111.51580047607422, 111.31379699707031, 111.11180114746094, 110.90979766845703, 110.70780181884766, 110.50579833984375, 110.30380249023438, 110.10179901123047, 109.89990234375, 109.6978988647461, 109.49590301513672, 109.29389953613281, 109.09190368652344, 108.88990020751953, 108.68800354003906, 108.48600006103516, 108.28399658203125, 108.08200073242188, 107.87999725341797, 107.6780014038086, 107.47599792480469, 107.27400207519531, 107.07209777832031, 106.87010192871094, 106.66809844970703, 106.46610260009766, 106.26409912109375, 106.06210327148438, 105.86019897460938, 105.658203125, 105.4561996459961, 105.25420379638672, 105.05220031738281, 104.8501968383789, 104.64820098876953, 104.44619750976562, 104.24430084228516, 104.04229736328125, 103.84030151367188, 103.63829803466797, 103.4363021850586, 103.23429870605469, 103.03240203857422, 102.83039855957031, 102.62840270996094, 102.42639923095703, 102.22440338134766, 102.02239990234375, 101.82039642333984, 101.61849975585938, 101.41649627685547, 101.2145004272461, 101.01249694824219, 100.81050109863281, 100.6084976196289, 100.40650177001953, 100.20459747314453, 100.00260162353516], [119.99919891357422, 119.79720306396484, 119.59519958496094, 119.39320373535156, 119.19120025634766, 118.98919677734375, 118.78720092773438, 118.58519744873047, 118.38330078125, 118.1812973022461, 117.97930145263672, 117.77729797363281, 117.57530212402344, 117.37329864501953, 117.17140197753906, 116.96939849853516, 116.76740264892578, 116.56539916992188, 116.3634033203125, 116.1613998413086, 115.95939636230469, 115.75740051269531, 115.55549621582031, 115.35350036621094, 115.15149688720703, 114.94950103759766, 114.74749755859375, 114.54550170898438, 114.34359741210938, 114.1416015625, 113.9395980834961, 113.73760223388672, 113.53559875488281, 113.33360290527344, 113.13159942626953, 112.92960357666016, 112.72769927978516, 112.52570343017578, 112.32369995117188, 112.12169647216797, 111.9197006225586, 111.71769714355469, 111.51580047607422, 111.31379699707031, 111.11180114746094, 110.90979766845703, 110.70780181884766, 110.50579833984375, 110.30380249023438, 110.10179901123047, 109.89990234375, 109.6978988647461, 109.49590301513672, 109.29389953613281, 109.09190368652344, 108.88990020751953, 108.68800354003906, 108.48600006103516, 108.28399658203125, 108.08200073242188, 107.87999725341797, 107.6780014038086, 107.47599792480469, 107.27400207519531, 107.07209777832031, 106.87010192871094, 106.66809844970703, 106.46610260009766, 106.26409912109375, 106.06210327148438, 105.86019897460938, 105.658203125, 105.4561996459961, 105.25420379638672, 105.05220031738281, 104.8501968383789, 104.64820098876953, 104.44619750976562, 104.24430084228516, 104.04229736328125, 103.84030151367188, 103.63829803466797, 103.4363021850586, 103.23429870605469, 103.03240203857422, 102.83039855957031, 102.62840270996094, 102.42639923095703, 102.22440338134766, 102.02239990234375, 101.82039642333984, 101.61849975585938, 101.41649627685547, 101.2145004272461, 101.01249694824219, 100.81050109863281, 100.6084976196289, 100.40650177001953, 100.20459747314453, 100.00260162353516], [119.99919891357422, 119.79720306396484, 119.59519958496094, 119.39320373535156, 119.19120025634766, 118.98919677734375, 118.78720092773438, 118.58519744873047, 118.38330078125, 118.1812973022461, 117.97930145263672, 117.77729797363281, 117.57530212402344, 117.37329864501953, 117.17140197753906, 116.96939849853516, 116.76740264892578, 116.56539916992188, 116.3634033203125, 116.1613998413086, 115.95939636230469, 115.75740051269531, 115.55549621582031, 115.35350036621094, 115.15149688720703, 114.94950103759766, 114.74749755859375, 114.54550170898438, 114.34359741210938, 114.1416015625, 113.9395980834961, 113.73760223388672, 113.53559875488281, 113.33360290527344, 113.13159942626953, 112.92960357666016, 112.72769927978516, 112.52570343017578, 112.32369995117188, 112.12169647216797, 111.9197006225586, 111.71769714355469, 111.51580047607422, 111.31379699707031, 111.11180114746094, 110.90979766845703, 110.70780181884766, 110.50579833984375, 110.30380249023438, 110.10179901123047, 109.89990234375, 109.6978988647461, 109.49590301513672, 109.29389953613281, 109.09190368652344, 108.88990020751953, 108.68800354003906, 108.48600006103516, 108.28399658203125, 108.08200073242188, 107.87999725341797, 107.6780014038086, 107.47599792480469, 107.27400207519531, 107.07209777832031, 106.87010192871094, 106.66809844970703, 106.46610260009766, 106.26409912109375, 106.06210327148438, 105.86019897460938, 105.658203125, 105.4561996459961, 105.25420379638672, 105.05220031738281, 104.8501968383789, 104.64820098876953, 104.44619750976562, 104.24430084228516, 104.04229736328125, 103.84030151367188, 103.63829803466797, 103.4363021850586, 103.23429870605469, 103.03240203857422, 102.83039855957031, 102.62840270996094, 102.42639923095703, 102.22440338134766, 102.02239990234375, 101.82039642333984, 101.61849975585938, 101.41649627685547, 101.2145004272461, 101.01249694824219, 100.81050109863281, 100.6084976196289, 100.40650177001953, 100.20459747314453, 100.00260162353516], [119.99919891357422, 119.79720306396484, 119.59519958496094, 119.39320373535156, 119.19120025634766, 118.98919677734375, 118.78720092773438, 118.58519744873047, 118.38330078125, 118.1812973022461, 117.97930145263672, 117.77729797363281, 117.57530212402344, 117.37329864501953, 117.17140197753906, 116.96939849853516, 116.76740264892578, 116.56539916992188, 116.3634033203125, 116.1613998413086, 115.95939636230469, 115.75740051269531, 115.55549621582031, 115.35350036621094, 115.15149688720703, 114.94950103759766, 114.74749755859375, 114.54550170898438, 114.34359741210938, 114.1416015625, 113.9395980834961, 113.73760223388672, 113.53559875488281, 113.33360290527344, 113.13159942626953, 112.92960357666016, 112.72769927978516, 112.52570343017578, 112.32369995117188, 112.12169647216797, 111.9197006225586, 111.71769714355469, 111.51580047607422, 111.31379699707031, 111.11180114746094, 110.90979766845703, 110.70780181884766, 110.50579833984375, 110.30380249023438, 110.10179901123047, 109.89990234375, 109.6978988647461, 109.49590301513672, 109.29389953613281, 109.09190368652344, 108.88990020751953, 108.68800354003906, 108.48600006103516, 108.28399658203125, 108.08200073242188, 107.87999725341797, 107.6780014038086, 107.47599792480469, 107.27400207519531, 107.07209777832031, 106.87010192871094, 106.66809844970703, 106.46610260009766, 106.26409912109375, 106.06210327148438, 105.86019897460938, 105.658203125, 105.4561996459961, 105.25420379638672, 105.05220031738281, 104.8501968383789, 104.64820098876953, 104.44619750976562, 104.24430084228516, 104.04229736328125, 103.84030151367188, 103.63829803466797, 103.4363021850586, 103.23429870605469, 103.03240203857422, 102.83039855957031, 102.62840270996094, 102.42639923095703, 102.22440338134766, 102.02239990234375, 101.82039642333984, 101.61849975585938, 101.41649627685547, 101.2145004272461, 101.01249694824219, 100.81050109863281, 100.6084976196289, 100.40650177001953, 100.20459747314453, 100.00260162353516], [119.99919891357422, 119.79720306396484, 119.59519958496094, 119.39320373535156, 119.19120025634766, 118.98919677734375, 118.78720092773438, 118.58519744873047, 118.38330078125, 118.1812973022461, 117.97930145263672, 117.77729797363281, 117.57530212402344, 117.37329864501953, 117.17140197753906, 116.96939849853516, 116.76740264892578, 116.56539916992188, 116.3634033203125, 116.1613998413086, 115.95939636230469, 115.75740051269531, 115.55549621582031, 115.35350036621094, 115.15149688720703, 114.94950103759766, 114.74749755859375, 114.54550170898438, 114.34359741210938, 114.1416015625, 113.9395980834961, 113.73760223388672, 113.53559875488281, 113.33360290527344, 113.13159942626953, 112.92960357666016, 112.72769927978516, 112.52570343017578, 112.32369995117188, 112.12169647216797, 111.9197006225586, 111.71769714355469, 111.51580047607422, 111.31379699707031, 111.11180114746094, 110.90979766845703, 110.70780181884766, 110.50579833984375, 110.30380249023438, 110.10179901123047, 109.89990234375, 109.6978988647461, 109.49590301513672, 109.29389953613281, 109.09190368652344, 108.88990020751953, 108.68800354003906, 108.48600006103516, 108.28399658203125, 108.08200073242188, 107.87999725341797, 107.6780014038086, 107.47599792480469, 107.27400207519531, 107.07209777832031, 106.87010192871094, 106.66809844970703, 106.46610260009766, 106.26409912109375, 106.06210327148438, 105.86019897460938, 105.658203125, 105.4561996459961, 105.25420379638672, 105.05220031738281, 104.8501968383789, 104.64820098876953, 104.44619750976562, 104.24430084228516, 104.04229736328125, 103.84030151367188, 103.63829803466797, 103.4363021850586, 103.23429870605469, 103.03240203857422, 102.83039855957031, 102.62840270996094, 102.42639923095703, 102.22440338134766, 102.02239990234375, 101.82039642333984, 101.61849975585938, 101.41649627685547, 101.2145004272461, 101.01249694824219, 100.81050109863281, 100.6084976196289, 100.40650177001953, 100.20459747314453, 100.00260162353516], [119.99919891357422, 119.79720306396484, 119.59519958496094, 119.39320373535156, 119.19120025634766, 118.98919677734375, 118.78720092773438, 118.58519744873047, 118.38330078125, 118.1812973022461, 117.97930145263672, 117.77729797363281, 117.57530212402344, 117.37329864501953, 117.17140197753906, 116.96939849853516, 116.76740264892578, 116.56539916992188, 116.3634033203125, 116.1613998413086, 115.95939636230469, 115.75740051269531, 115.55549621582031, 115.35350036621094, 115.15149688720703, 114.94950103759766, 114.74749755859375, 114.54550170898438, 114.34359741210938, 114.1416015625, 113.9395980834961, 113.73760223388672, 113.53559875488281, 113.33360290527344, 113.13159942626953, 112.92960357666016, 112.72769927978516, 112.52570343017578, 112.32369995117188, 112.12169647216797, 111.9197006225586, 111.71769714355469, 111.51580047607422, 111.31379699707031, 111.11180114746094, 110.90979766845703, 110.70780181884766, 110.50579833984375, 110.30380249023438, 110.10179901123047, 109.89990234375, 109.6978988647461, 109.49590301513672, 109.29389953613281, 109.09190368652344, 108.88990020751953, 108.68800354003906, 108.48600006103516, 108.28399658203125, 108.08200073242188, 107.87999725341797, 107.6780014038086, 107.47599792480469, 107.27400207519531, 107.07209777832031, 106.87010192871094, 106.66809844970703, 106.46610260009766, 106.26409912109375, 106.06210327148438, 105.86019897460938, 105.658203125, 105.4561996459961, 105.25420379638672, 105.05220031738281, 104.8501968383789, 104.64820098876953, 104.44619750976562, 104.24430084228516, 104.04229736328125, 103.84030151367188, 103.63829803466797, 103.4363021850586, 103.23429870605469, 103.03240203857422, 102.83039855957031, 102.62840270996094, 102.42639923095703, 102.22440338134766, 102.02239990234375, 101.82039642333984, 101.61849975585938, 101.41649627685547, 101.2145004272461, 101.01249694824219, 100.81050109863281, 100.6084976196289, 100.40650177001953, 100.20459747314453, 100.00260162353516], [119.99919891357422, 119.79720306396484, 119.59519958496094, 119.39320373535156, 119.19120025634766, 118.98919677734375, 118.78720092773438, 118.58519744873047, 118.38330078125, 118.1812973022461, 117.97930145263672, 117.77729797363281, 117.57530212402344, 117.37329864501953, 117.17140197753906, 116.96939849853516, 116.76740264892578, 116.56539916992188, 116.3634033203125, 116.1613998413086, 115.95939636230469, 115.75740051269531, 115.55549621582031, 115.35350036621094, 115.15149688720703, 114.94950103759766, 114.74749755859375, 114.54550170898438, 114.34359741210938, 114.1416015625, 113.9395980834961, 113.73760223388672, 113.53559875488281, 113.33360290527344, 113.13159942626953, 112.92960357666016, 112.72769927978516, 112.52570343017578, 112.32369995117188, 112.12169647216797, 111.9197006225586, 111.71769714355469, 111.51580047607422, 111.31379699707031, 111.11180114746094, 110.90979766845703, 110.70780181884766, 110.50579833984375, 110.30380249023438, 110.10179901123047, 109.89990234375, 109.6978988647461, 109.49590301513672, 109.29389953613281, 109.09190368652344, 108.88990020751953, 108.68800354003906, 108.48600006103516, 108.28399658203125, 108.08200073242188, 107.87999725341797, 107.6780014038086, 107.47599792480469, 107.27400207519531, 107.07209777832031, 106.87010192871094, 106.66809844970703, 106.46610260009766, 106.26409912109375, 106.06210327148438, 105.86019897460938, 105.658203125, 105.4561996459961, 105.25420379638672, 105.05220031738281, 104.8501968383789, 104.64820098876953, 104.44619750976562, 104.24430084228516, 104.04229736328125, 103.84030151367188, 103.63829803466797, 103.4363021850586, 103.23429870605469, 103.03240203857422, 102.83039855957031, 102.62840270996094, 102.42639923095703, 102.22440338134766, 102.02239990234375, 101.82039642333984, 101.61849975585938, 101.41649627685547, 101.2145004272461, 101.01249694824219, 100.81050109863281, 100.6084976196289, 100.40650177001953, 100.20459747314453, 100.00260162353516], [119.99919891357422, 119.79720306396484, 119.59519958496094, 119.39320373535156, 119.19120025634766, 118.98919677734375, 118.78720092773438, 118.58519744873047, 118.38330078125, 118.1812973022461, 117.97930145263672, 117.77729797363281, 117.57530212402344, 117.37329864501953, 117.17140197753906, 116.96939849853516, 116.76740264892578, 116.56539916992188, 116.3634033203125, 116.1613998413086, 115.95939636230469, 115.75740051269531, 115.55549621582031, 115.35350036621094, 115.15149688720703, 114.94950103759766, 114.74749755859375, 114.54550170898438, 114.34359741210938, 114.1416015625, 113.9395980834961, 113.73760223388672, 113.53559875488281, 113.33360290527344, 113.13159942626953, 112.92960357666016, 112.72769927978516, 112.52570343017578, 112.32369995117188, 112.12169647216797, 111.9197006225586, 111.71769714355469, 111.51580047607422, 111.31379699707031, 111.11180114746094, 110.90979766845703, 110.70780181884766, 110.50579833984375, 110.30380249023438, 110.10179901123047, 109.89990234375, 109.6978988647461, 109.49590301513672, 109.29389953613281, 109.09190368652344, 108.88990020751953, 108.68800354003906, 108.48600006103516, 108.28399658203125, 108.08200073242188, 107.87999725341797, 107.6780014038086, 107.47599792480469, 107.27400207519531, 107.07209777832031, 106.87010192871094, 106.66809844970703, 106.46610260009766, 106.26409912109375, 106.06210327148438, 105.86019897460938, 105.658203125, 105.4561996459961, 105.25420379638672, 105.05220031738281, 104.8501968383789, 104.64820098876953, 104.44619750976562, 104.24430084228516, 104.04229736328125, 103.84030151367188, 103.63829803466797, 103.4363021850586, 103.23429870605469, 103.03240203857422, 102.83039855957031, 102.62840270996094, 102.42639923095703, 102.22440338134766, 102.02239990234375, 101.82039642333984, 101.61840057373047, 101.41649627685547, 101.2145004272461, 101.01249694824219, 100.81050109863281, 100.6084976196289, 100.40650177001953, 100.20459747314453, 100.00260162353516], [119.99919891357422, 119.79720306396484, 119.59519958496094, 119.39320373535156, 119.19120025634766, 118.98919677734375, 118.78720092773438, 118.58519744873047, 118.38330078125, 118.1812973022461, 117.97930145263672, 117.77729797363281, 117.57530212402344, 117.37329864501953, 117.17140197753906, 116.96939849853516, 116.76740264892578, 116.56539916992188, 116.3634033203125, 116.1613998413086, 115.95939636230469, 115.75740051269531, 115.55549621582031, 115.35350036621094, 115.15149688720703, 114.94950103759766, 114.74749755859375, 114.54550170898438, 114.34359741210938, 114.1416015625, 113.9395980834961, 113.73760223388672, 113.53559875488281, 113.33360290527344, 113.13159942626953, 112.92960357666016, 112.72769927978516, 112.52570343017578, 112.32369995117188, 112.12169647216797, 111.9197006225586, 111.71769714355469, 111.51580047607422, 111.31379699707031, 111.11180114746094, 110.90979766845703, 110.70780181884766, 110.50579833984375, 110.30380249023438, 110.10179901123047, 109.89990234375, 109.6978988647461, 109.49590301513672, 109.29389953613281, 109.09190368652344, 108.88990020751953, 108.68800354003906, 108.48600006103516, 108.28399658203125, 108.08200073242188, 107.87999725341797, 107.6780014038086, 107.47599792480469, 107.27400207519531, 107.07209777832031, 106.87010192871094, 106.66809844970703, 106.46610260009766, 106.26409912109375, 106.06210327148438, 105.86019897460938, 105.658203125, 105.4561996459961, 105.25420379638672, 105.05220031738281, 104.8501968383789, 104.64820098876953, 104.44619750976562, 104.24430084228516, 104.04229736328125, 103.84030151367188, 103.63829803466797, 103.4363021850586, 103.23429870605469, 103.03240203857422, 102.83039855957031, 102.62840270996094, 102.42639923095703, 102.22440338134766, 102.02239990234375, 101.82039642333984, 101.61840057373047, 101.41649627685547, 101.2145004272461, 101.01249694824219, 100.81050109863281, 100.6084976196289, 100.40650177001953, 100.20459747314453, 100.00260162353516], [119.99919891357422, 119.79720306396484, 119.59519958496094, 119.39320373535156, 119.19120025634766, 118.98919677734375, 118.78720092773438, 118.58519744873047, 118.38330078125, 118.1812973022461, 117.97930145263672, 117.77729797363281, 117.57530212402344, 117.37329864501953, 117.17140197753906, 116.96939849853516, 116.76740264892578, 116.56539916992188, 116.3634033203125, 116.1613998413086, 115.95939636230469, 115.75740051269531, 115.55549621582031, 115.35350036621094, 115.15149688720703, 114.94950103759766, 114.74749755859375, 114.54550170898438, 114.34359741210938, 114.1416015625, 113.9395980834961, 113.73760223388672, 113.53559875488281, 113.33360290527344, 113.13159942626953, 112.92960357666016, 112.72769927978516, 112.52570343017578, 112.32369995117188, 112.12169647216797, 111.9197006225586, 111.71769714355469, 111.51580047607422, 111.31379699707031, 111.11180114746094, 110.90979766845703, 110.70780181884766, 110.50579833984375, 110.30380249023438, 110.10179901123047, 109.89990234375, 109.6978988647461, 109.49590301513672, 109.29389953613281, 109.09190368652344, 108.88990020751953, 108.68800354003906, 108.48600006103516, 108.28399658203125, 108.08200073242188, 107.87999725341797, 107.6780014038086, 107.47599792480469, 107.27400207519531, 107.07209777832031, 106.87010192871094, 106.66809844970703, 106.46610260009766, 106.26409912109375, 106.06210327148438, 105.86019897460938, 105.658203125, 105.4561996459961, 105.25420379638672, 105.05220031738281, 104.8501968383789, 104.64820098876953, 104.44619750976562, 104.24430084228516, 104.04229736328125, 103.84030151367188, 103.63829803466797, 103.4363021850586, 103.23429870605469, 103.03240203857422, 102.83039855957031, 102.62840270996094, 102.42639923095703, 102.22440338134766, 102.02239990234375, 101.82039642333984, 101.61840057373047, 101.41649627685547, 101.2145004272461, 101.01249694824219, 100.81050109863281, 100.6084976196289, 100.40650177001953, 100.20459747314453, 100.00260162353516], [119.99919891357422, 119.79720306396484, 119.59519958496094, 119.39320373535156, 119.19120025634766, 118.98919677734375, 118.78720092773438, 118.58519744873047, 118.38330078125, 118.1812973022461, 117.97930145263672, 117.77729797363281, 117.57530212402344, 117.37329864501953, 117.17140197753906, 116.96939849853516, 116.76740264892578, 116.56539916992188, 116.3634033203125, 116.1613998413086, 115.95939636230469, 115.75740051269531, 115.55549621582031, 115.35350036621094, 115.15149688720703, 114.94950103759766, 114.74749755859375, 114.54550170898438, 114.34359741210938, 114.1416015625, 113.9395980834961, 113.73760223388672, 113.53559875488281, 113.33360290527344, 113.13159942626953, 112.92960357666016, 112.72769927978516, 112.52570343017578, 112.32369995117188, 112.12169647216797, 111.9197006225586, 111.71769714355469, 111.51580047607422, 111.31379699707031, 111.11180114746094, 110.90979766845703, 110.70780181884766, 110.50579833984375, 110.30380249023438, 110.10179901123047, 109.89990234375, 109.6978988647461, 109.49590301513672, 109.29389953613281, 109.09190368652344, 108.88990020751953, 108.68800354003906, 108.48600006103516, 108.28399658203125, 108.08200073242188, 107.87999725341797, 107.6780014038086, 107.47599792480469, 107.27400207519531, 107.07209777832031, 106.87010192871094, 106.66809844970703, 106.46610260009766, 106.26409912109375, 106.06210327148438, 105.86019897460938, 105.658203125, 105.4561996459961, 105.25420379638672, 105.05220031738281, 104.8501968383789, 104.64820098876953, 104.44619750976562, 104.24430084228516, 104.04229736328125, 103.84030151367188, 103.63829803466797, 103.4363021850586, 103.23429870605469, 103.03240203857422, 102.83039855957031, 102.62840270996094, 102.42639923095703, 102.22440338134766, 102.02239990234375, 101.82039642333984, 101.61840057373047, 101.41649627685547, 101.2145004272461, 101.01249694824219, 100.81050109863281, 100.6084976196289, 100.40650177001953, 100.20459747314453, 100.00260162353516], [119.99919891357422, 119.79720306396484, 119.59519958496094, 119.39320373535156, 119.19120025634766, 118.98919677734375, 118.78720092773438, 118.58519744873047, 118.38330078125, 118.1812973022461, 117.97930145263672, 117.77729797363281, 117.57530212402344, 117.37329864501953, 117.17140197753906, 116.96939849853516, 116.76740264892578, 116.56539916992188, 116.3634033203125, 116.1613998413086, 115.95939636230469, 115.75740051269531, 115.55549621582031, 115.35350036621094, 115.15149688720703, 114.94950103759766, 114.74749755859375, 114.54550170898438, 114.34359741210938, 114.1416015625, 113.9395980834961, 113.73760223388672, 113.53559875488281, 113.33360290527344, 113.13159942626953, 112.92960357666016, 112.72769927978516, 112.52570343017578, 112.32369995117188, 112.12169647216797, 111.9197006225586, 111.71769714355469, 111.51580047607422, 111.31379699707031, 111.11180114746094, 110.90979766845703, 110.70780181884766, 110.50579833984375, 110.30380249023438, 110.10179901123047, 109.89990234375, 109.6978988647461, 109.49590301513672, 109.29389953613281, 109.09190368652344, 108.88990020751953, 108.68800354003906, 108.48600006103516, 108.28399658203125, 108.08200073242188, 107.87999725341797, 107.6780014038086, 107.47599792480469, 107.27400207519531, 107.07209777832031, 106.87010192871094, 106.66809844970703, 106.46610260009766, 106.26409912109375, 106.06210327148438, 105.86019897460938, 105.658203125, 105.4561996459961, 105.25420379638672, 105.05220031738281, 104.8501968383789, 104.64820098876953, 104.44619750976562, 104.24430084228516, 104.04229736328125, 103.84030151367188, 103.63829803466797, 103.4363021850586, 103.23429870605469, 103.03240203857422, 102.83039855957031, 102.62840270996094, 102.42639923095703, 102.22440338134766, 102.02239990234375, 101.82039642333984, 101.61840057373047, 101.41649627685547, 101.2145004272461, 101.01249694824219, 100.81050109863281, 100.6084976196289, 100.40650177001953, 100.20459747314453, 100.00260162353516], [119.99919891357422, 119.79720306396484, 119.59519958496094, 119.39320373535156, 119.19120025634766, 118.98919677734375, 118.78720092773438, 118.58519744873047, 118.38330078125, 118.1812973022461, 117.97930145263672, 117.77729797363281, 117.57530212402344, 117.37329864501953, 117.17140197753906, 116.96939849853516, 116.76740264892578, 116.56539916992188, 116.3634033203125, 116.1613998413086, 115.95939636230469, 115.75740051269531, 115.55549621582031, 115.35350036621094, 115.15149688720703, 114.94950103759766, 114.74749755859375, 114.54550170898438, 114.34359741210938, 114.1416015625, 113.9395980834961, 113.73760223388672, 113.53559875488281, 113.33360290527344, 113.13159942626953, 112.92960357666016, 112.72769927978516, 112.52570343017578, 112.32369995117188, 112.12169647216797, 111.9197006225586, 111.71769714355469, 111.51580047607422, 111.31379699707031, 111.11180114746094, 110.90979766845703, 110.70780181884766, 110.50579833984375, 110.30380249023438, 110.10179901123047, 109.89990234375, 109.6978988647461, 109.49590301513672, 109.29389953613281, 109.09190368652344, 108.88990020751953, 108.68800354003906, 108.48600006103516, 108.28399658203125, 108.08200073242188, 107.87999725341797, 107.6780014038086, 107.47599792480469, 107.27400207519531, 107.07209777832031, 106.87010192871094, 106.66809844970703, 106.46610260009766, 106.26409912109375, 106.06210327148438, 105.86019897460938, 105.658203125, 105.4561996459961, 105.25420379638672, 105.05220031738281, 104.8501968383789, 104.64820098876953, 104.44619750976562, 104.24430084228516, 104.04229736328125, 103.84030151367188, 103.63829803466797, 103.4363021850586, 103.23429870605469, 103.03240203857422, 102.83039855957031, 102.62840270996094, 102.42639923095703, 102.22440338134766, 102.02239990234375, 101.82039642333984, 101.61840057373047, 101.41649627685547, 101.2145004272461, 101.01249694824219, 100.81050109863281, 100.6084976196289, 100.40650177001953, 100.20459747314453, 100.00260162353516], [119.99919891357422, 119.79720306396484, 119.59519958496094, 119.39320373535156, 119.19120025634766, 118.98919677734375, 118.78720092773438, 118.58519744873047, 118.38330078125, 118.1812973022461, 117.97930145263672, 117.77729797363281, 117.57530212402344, 117.37329864501953, 117.17140197753906, 116.96939849853516, 116.76740264892578, 116.56539916992188, 116.3634033203125, 116.1613998413086, 115.95939636230469, 115.75740051269531, 115.55549621582031, 115.35350036621094, 115.15149688720703, 114.94950103759766, 114.74749755859375, 114.54550170898438, 114.34359741210938, 114.1416015625, 113.9395980834961, 113.73760223388672, 113.53559875488281, 113.33360290527344, 113.13159942626953, 112.92960357666016, 112.72769927978516, 112.52570343017578, 112.32369995117188, 112.12169647216797, 111.9197006225586, 111.71769714355469, 111.51580047607422, 111.31379699707031, 111.11180114746094, 110.90979766845703, 110.70780181884766, 110.50579833984375, 110.30380249023438, 110.10179901123047, 109.89990234375, 109.6978988647461, 109.49590301513672, 109.29389953613281, 109.09190368652344, 108.88990020751953, 108.68800354003906, 108.48600006103516, 108.28399658203125, 108.08200073242188, 107.87999725341797, 107.6780014038086, 107.47599792480469, 107.27400207519531, 107.07209777832031, 106.87010192871094, 106.66809844970703, 106.46610260009766, 106.26409912109375, 106.06210327148438, 105.86019897460938, 105.658203125, 105.4561996459961, 105.25420379638672, 105.05220031738281, 104.8501968383789, 104.64820098876953, 104.44619750976562, 104.24430084228516, 104.04229736328125, 103.84030151367188, 103.63829803466797, 103.4363021850586, 103.23429870605469, 103.03240203857422, 102.83039855957031, 102.62840270996094, 102.42639923095703, 102.22440338134766, 102.02239990234375, 101.82039642333984, 101.61840057373047, 101.41649627685547, 101.2145004272461, 101.01249694824219, 100.81050109863281, 100.6084976196289, 100.40650177001953, 100.20459747314453, 100.00260162353516], [119.99919891357422, 119.79720306396484, 119.59519958496094, 119.39320373535156, 119.19120025634766, 118.98919677734375, 118.78720092773438, 118.58519744873047, 118.38330078125, 118.1812973022461, 117.97930145263672, 117.77729797363281, 117.57530212402344, 117.37329864501953, 117.17140197753906, 116.96939849853516, 116.76740264892578, 116.56539916992188, 116.3634033203125, 116.1613998413086, 115.95939636230469, 115.75740051269531, 115.55549621582031, 115.35350036621094, 115.15149688720703, 114.94950103759766, 114.74749755859375, 114.54550170898438, 114.34359741210938, 114.1416015625, 113.9395980834961, 113.73760223388672, 113.53559875488281, 113.33360290527344, 113.13159942626953, 112.92960357666016, 112.72769927978516, 112.52570343017578, 112.32369995117188, 112.12169647216797, 111.9197006225586, 111.71769714355469, 111.51580047607422, 111.31379699707031, 111.11180114746094, 110.90979766845703, 110.70780181884766, 110.50579833984375, 110.30380249023438, 110.10179901123047, 109.89990234375, 109.6978988647461, 109.49590301513672, 109.29389953613281, 109.09190368652344, 108.88990020751953, 108.68800354003906, 108.48600006103516, 108.28399658203125, 108.08200073242188, 107.87999725341797, 107.6780014038086, 107.47599792480469, 107.27400207519531, 107.07209777832031, 106.87010192871094, 106.66809844970703, 106.46610260009766, 106.26409912109375, 106.06210327148438, 105.86019897460938, 105.658203125, 105.4561996459961, 105.25420379638672, 105.05220031738281, 104.8501968383789, 104.64820098876953, 104.44619750976562, 104.24430084228516, 104.04229736328125, 103.84030151367188, 103.63829803466797, 103.4363021850586, 103.23429870605469, 103.03240203857422, 102.83039855957031, 102.62840270996094, 102.42639923095703, 102.22440338134766, 102.02239990234375, 101.82039642333984, 101.61840057373047, 101.41649627685547, 101.2145004272461, 101.01249694824219, 100.81050109863281, 100.6084976196289, 100.40650177001953, 100.20459747314453, 100.00260162353516], [119.99919891357422, 119.79720306396484, 119.59519958496094, 119.39320373535156, 119.19120025634766, 118.98919677734375, 118.78720092773438, 118.58519744873047, 118.38330078125, 118.1812973022461, 117.97930145263672, 117.77729797363281, 117.57530212402344, 117.37329864501953, 117.17140197753906, 116.96939849853516, 116.76740264892578, 116.56539916992188, 116.3634033203125, 116.1613998413086, 115.95939636230469, 115.75740051269531, 115.55549621582031, 115.35350036621094, 115.15149688720703, 114.94950103759766, 114.74749755859375, 114.54550170898438, 114.34359741210938, 114.1416015625, 113.9395980834961, 113.73760223388672, 113.53559875488281, 113.33360290527344, 113.13159942626953, 112.92960357666016, 112.72769927978516, 112.52570343017578, 112.32369995117188, 112.12169647216797, 111.9197006225586, 111.71769714355469, 111.51580047607422, 111.31379699707031, 111.11180114746094, 110.90979766845703, 110.70780181884766, 110.50579833984375, 110.30380249023438, 110.10179901123047, 109.89990234375, 109.6978988647461, 109.49590301513672, 109.29389953613281, 109.09190368652344, 108.88990020751953, 108.68800354003906, 108.48600006103516, 108.28399658203125, 108.08200073242188, 107.87999725341797, 107.6780014038086, 107.47599792480469, 107.27400207519531, 107.07209777832031, 106.87010192871094, 106.66809844970703, 106.46610260009766, 106.26409912109375, 106.06210327148438, 105.86019897460938, 105.658203125, 105.4561996459961, 105.25420379638672, 105.05220031738281, 104.8501968383789, 104.64820098876953, 104.44619750976562, 104.24430084228516, 104.04229736328125, 103.84030151367188, 103.63829803466797, 103.4363021850586, 103.23429870605469, 103.03240203857422, 102.83039855957031, 102.62840270996094, 102.42639923095703, 102.22440338134766, 102.02239990234375, 101.82039642333984, 101.61840057373047, 101.41649627685547, 101.2145004272461, 101.01249694824219, 100.81050109863281, 100.6084976196289, 100.40650177001953, 100.20459747314453, 100.00260162353516], [119.99919891357422, 119.79720306396484, 119.59519958496094, 119.39320373535156, 119.19120025634766, 118.98919677734375, 118.78720092773438, 118.58519744873047, 118.38330078125, 118.1812973022461, 117.97930145263672, 117.77729797363281, 117.57530212402344, 117.37329864501953, 117.17140197753906, 116.96939849853516, 116.76740264892578, 116.56539916992188, 116.3634033203125, 116.1613998413086, 115.95939636230469, 115.75740051269531, 115.55549621582031, 115.35350036621094, 115.15149688720703, 114.94950103759766, 114.74749755859375, 114.54550170898438, 114.34359741210938, 114.1416015625, 113.9395980834961, 113.73760223388672, 113.53559875488281, 113.33360290527344, 113.13159942626953, 112.92960357666016, 112.72769927978516, 112.52570343017578, 112.32369995117188, 112.12169647216797, 111.9197006225586, 111.71769714355469, 111.51580047607422, 111.31379699707031, 111.11180114746094, 110.90979766845703, 110.70780181884766, 110.50579833984375, 110.30380249023438, 110.10179901123047, 109.89990234375, 109.6978988647461, 109.49590301513672, 109.29389953613281, 109.09190368652344, 108.88990020751953, 108.68800354003906, 108.48600006103516, 108.28399658203125, 108.08200073242188, 107.87999725341797, 107.6780014038086, 107.47599792480469, 107.27400207519531, 107.07209777832031, 106.87010192871094, 106.66809844970703, 106.46610260009766, 106.26409912109375, 106.06210327148438, 105.86019897460938, 105.658203125, 105.4561996459961, 105.25420379638672, 105.05220031738281, 104.8501968383789, 104.64820098876953, 104.44619750976562, 104.24430084228516, 104.04229736328125, 103.84030151367188, 103.63829803466797, 103.4363021850586, 103.23429870605469, 103.03240203857422, 102.83039855957031, 102.62840270996094, 102.42639923095703, 102.22440338134766, 102.02239990234375, 101.82039642333984, 101.61840057373047, 101.41649627685547, 101.2145004272461, 101.01249694824219, 100.81050109863281, 100.6084976196289, 100.40650177001953, 100.20459747314453, 100.00260162353516], [119.99919891357422, 119.79720306396484, 119.59519958496094, 119.39320373535156, 119.19120025634766, 118.98919677734375, 118.78720092773438, 118.58519744873047, 118.38330078125, 118.1812973022461, 117.97930145263672, 117.77729797363281, 117.57530212402344, 117.37329864501953, 117.17140197753906, 116.96939849853516, 116.76740264892578, 116.56539916992188, 116.3634033203125, 116.1613998413086, 115.95939636230469, 115.75740051269531, 115.55549621582031, 115.35350036621094, 115.15149688720703, 114.94950103759766, 114.74749755859375, 114.54550170898438, 114.34359741210938, 114.1416015625, 113.9395980834961, 113.73760223388672, 113.53559875488281, 113.33360290527344, 113.13159942626953, 112.92960357666016, 112.72769927978516, 112.52570343017578, 112.32369995117188, 112.12169647216797, 111.9197006225586, 111.71769714355469, 111.51580047607422, 111.31379699707031, 111.11180114746094, 110.90979766845703, 110.70780181884766, 110.50579833984375, 110.30380249023438, 110.10179901123047, 109.89990234375, 109.6978988647461, 109.49590301513672, 109.29389953613281, 109.09190368652344, 108.88990020751953, 108.68800354003906, 108.48600006103516, 108.28399658203125, 108.08200073242188, 107.87999725341797, 107.6780014038086, 107.47599792480469, 107.27400207519531, 107.07209777832031, 106.87010192871094, 106.66809844970703, 106.46610260009766, 106.26409912109375, 106.06210327148438, 105.86019897460938, 105.658203125, 105.4561996459961, 105.25420379638672, 105.05220031738281, 104.8501968383789, 104.64820098876953, 104.44619750976562, 104.24430084228516, 104.04229736328125, 103.84030151367188, 103.63829803466797, 103.4363021850586, 103.23429870605469, 103.03240203857422, 102.83039855957031, 102.62840270996094, 102.42639923095703, 102.22440338134766, 102.02239990234375, 101.82039642333984, 101.61840057373047, 101.41649627685547, 101.2145004272461, 101.01249694824219, 100.81050109863281, 100.6084976196289, 100.40650177001953, 100.20459747314453, 100.00260162353516], [119.99919891357422, 119.79720306396484, 119.59519958496094, 119.39320373535156, 119.19120025634766, 118.98919677734375, 118.78720092773438, 118.58519744873047, 118.38330078125, 118.1812973022461, 117.97930145263672, 117.77729797363281, 117.57530212402344, 117.37329864501953, 117.17140197753906, 116.96939849853516, 116.76740264892578, 116.56539916992188, 116.3634033203125, 116.1613998413086, 115.95939636230469, 115.75740051269531, 115.55549621582031, 115.35350036621094, 115.15149688720703, 114.94950103759766, 114.74749755859375, 114.54550170898438, 114.34359741210938, 114.1416015625, 113.9395980834961, 113.73760223388672, 113.53559875488281, 113.33360290527344, 113.13159942626953, 112.92960357666016, 112.72769927978516, 112.52570343017578, 112.32369995117188, 112.12169647216797, 111.9197006225586, 111.71769714355469, 111.51580047607422, 111.31379699707031, 111.11180114746094, 110.90979766845703, 110.70780181884766, 110.50579833984375, 110.30380249023438, 110.10179901123047, 109.89990234375, 109.6978988647461, 109.49590301513672, 109.29389953613281, 109.09190368652344, 108.88990020751953, 108.68800354003906, 108.48600006103516, 108.28399658203125, 108.08200073242188, 107.87999725341797, 107.6780014038086, 107.47599792480469, 107.27400207519531, 107.07209777832031, 106.87010192871094, 106.66809844970703, 106.46610260009766, 106.26409912109375, 106.06210327148438, 105.86019897460938, 105.658203125, 105.4561996459961, 105.25420379638672, 105.05220031738281, 104.8501968383789, 104.64820098876953, 104.44619750976562, 104.24430084228516, 104.04229736328125, 103.84030151367188, 103.63829803466797, 103.4363021850586, 103.23429870605469, 103.03240203857422, 102.83039855957031, 102.62840270996094, 102.42639923095703, 102.22440338134766, 102.02239990234375, 101.82039642333984, 101.61840057373047, 101.41649627685547, 101.2145004272461, 101.01249694824219, 100.81050109863281, 100.6084976196289, 100.40650177001953, 100.20459747314453, 100.00260162353516], [119.99919891357422, 119.79720306396484, 119.59519958496094, 119.39320373535156, 119.19120025634766, 118.98919677734375, 118.78720092773438, 118.58519744873047, 118.38330078125, 118.1812973022461, 117.97930145263672, 117.77729797363281, 117.57530212402344, 117.37329864501953, 117.17140197753906, 116.96939849853516, 116.76740264892578, 116.56539916992188, 116.3634033203125, 116.1613998413086, 115.95939636230469, 115.75740051269531, 115.55549621582031, 115.35350036621094, 115.15149688720703, 114.94950103759766, 114.74749755859375, 114.54550170898438, 114.34359741210938, 114.1416015625, 113.9395980834961, 113.73760223388672, 113.53559875488281, 113.33360290527344, 113.13159942626953, 112.92960357666016, 112.72769927978516, 112.52570343017578, 112.32369995117188, 112.12169647216797, 111.9197006225586, 111.71769714355469, 111.51580047607422, 111.31379699707031, 111.11180114746094, 110.90979766845703, 110.70780181884766, 110.50579833984375, 110.30380249023438, 110.10179901123047, 109.89990234375, 109.6978988647461, 109.49590301513672, 109.29389953613281, 109.09190368652344, 108.88990020751953, 108.68800354003906, 108.48600006103516, 108.28399658203125, 108.08200073242188, 107.87999725341797, 107.6780014038086, 107.47599792480469, 107.27400207519531, 107.07209777832031, 106.87010192871094, 106.66809844970703, 106.46610260009766, 106.26409912109375, 106.06210327148438, 105.86019897460938, 105.658203125, 105.4561996459961, 105.25420379638672, 105.05220031738281, 104.8501968383789, 104.64820098876953, 104.44619750976562, 104.24430084228516, 104.04229736328125, 103.84030151367188, 103.63829803466797, 103.4363021850586, 103.23429870605469, 103.03240203857422, 102.83039855957031, 102.62840270996094, 102.42639923095703, 102.22440338134766, 102.02239990234375, 101.82039642333984, 101.61849975585938, 101.41649627685547, 101.2145004272461, 101.01249694824219, 100.81050109863281, 100.6084976196289, 100.40650177001953, 100.20459747314453, 100.00260162353516], [119.99919891357422, 119.79720306396484, 119.59519958496094, 119.39320373535156, 119.19120025634766, 118.98919677734375, 118.78720092773438, 118.58519744873047, 118.38330078125, 118.1812973022461, 117.97930145263672, 117.77729797363281, 117.57530212402344, 117.37329864501953, 117.17140197753906, 116.96939849853516, 116.76740264892578, 116.56539916992188, 116.3634033203125, 116.1613998413086, 115.95939636230469, 115.75740051269531, 115.55549621582031, 115.35350036621094, 115.15149688720703, 114.94950103759766, 114.74749755859375, 114.54550170898438, 114.34359741210938, 114.1416015625, 113.9395980834961, 113.73760223388672, 113.53559875488281, 113.33360290527344, 113.13159942626953, 112.92960357666016, 112.72769927978516, 112.52570343017578, 112.32369995117188, 112.12169647216797, 111.9197006225586, 111.71769714355469, 111.51580047607422, 111.31379699707031, 111.11180114746094, 110.90979766845703, 110.70780181884766, 110.50579833984375, 110.30380249023438, 110.10179901123047, 109.89990234375, 109.6978988647461, 109.49590301513672, 109.29389953613281, 109.09190368652344, 108.88990020751953, 108.68800354003906, 108.48600006103516, 108.28399658203125, 108.08200073242188, 107.87999725341797, 107.6780014038086, 107.47599792480469, 107.27400207519531, 107.07209777832031, 106.87010192871094, 106.66809844970703, 106.46610260009766, 106.26409912109375, 106.06210327148438, 105.86019897460938, 105.658203125, 105.4561996459961, 105.25420379638672, 105.05220031738281, 104.8501968383789, 104.64820098876953, 104.44619750976562, 104.24430084228516, 104.04229736328125, 103.84030151367188, 103.63829803466797, 103.4363021850586, 103.23429870605469, 103.03240203857422, 102.83039855957031, 102.62840270996094, 102.42639923095703, 102.22440338134766, 102.02239990234375, 101.82039642333984, 101.61849975585938, 101.41649627685547, 101.2145004272461, 101.01249694824219, 100.81050109863281, 100.6084976196289, 100.40650177001953, 100.20459747314453, 100.00260162353516], [119.99919891357422, 119.79720306396484, 119.59519958496094, 119.39320373535156, 119.19120025634766, 118.98919677734375, 118.78720092773438, 118.58519744873047, 118.38330078125, 118.1812973022461, 117.97930145263672, 117.77729797363281, 117.57530212402344, 117.37329864501953, 117.17140197753906, 116.96939849853516, 116.76740264892578, 116.56539916992188, 116.3634033203125, 116.1613998413086, 115.95939636230469, 115.75740051269531, 115.55549621582031, 115.35350036621094, 115.15149688720703, 114.94950103759766, 114.74749755859375, 114.54550170898438, 114.34359741210938, 114.1416015625, 113.9395980834961, 113.73760223388672, 113.53559875488281, 113.33360290527344, 113.13159942626953, 112.92960357666016, 112.72769927978516, 112.52570343017578, 112.32369995117188, 112.12169647216797, 111.9197006225586, 111.71769714355469, 111.51580047607422, 111.31379699707031, 111.11180114746094, 110.90979766845703, 110.70780181884766, 110.50579833984375, 110.30380249023438, 110.10179901123047, 109.89990234375, 109.6978988647461, 109.49590301513672, 109.29389953613281, 109.09190368652344, 108.88990020751953, 108.68800354003906, 108.48600006103516, 108.28399658203125, 108.08200073242188, 107.87999725341797, 107.6780014038086, 107.47599792480469, 107.27400207519531, 107.07209777832031, 106.87010192871094, 106.66809844970703, 106.46610260009766, 106.26409912109375, 106.06210327148438, 105.86019897460938, 105.658203125, 105.4561996459961, 105.25420379638672, 105.05220031738281, 104.8501968383789, 104.64820098876953, 104.44619750976562, 104.24430084228516, 104.04229736328125, 103.84030151367188, 103.63829803466797, 103.4363021850586, 103.23429870605469, 103.03240203857422, 102.83039855957031, 102.62840270996094, 102.42639923095703, 102.22440338134766, 102.02239990234375, 101.82039642333984, 101.61849975585938, 101.41649627685547, 101.2145004272461, 101.01249694824219, 100.81050109863281, 100.6084976196289, 100.40650177001953, 100.20459747314453, 100.00260162353516], [119.99919891357422, 119.79720306396484, 119.59519958496094, 119.39320373535156, 119.19120025634766, 118.98919677734375, 118.78720092773438, 118.58519744873047, 118.38330078125, 118.1812973022461, 117.97930145263672, 117.77729797363281, 117.57530212402344, 117.37329864501953, 117.17140197753906, 116.96939849853516, 116.76740264892578, 116.56539916992188, 116.3634033203125, 116.1613998413086, 115.95939636230469, 115.75740051269531, 115.55549621582031, 115.35350036621094, 115.15149688720703, 114.94950103759766, 114.74749755859375, 114.54550170898438, 114.34359741210938, 114.1416015625, 113.9395980834961, 113.73760223388672, 113.53559875488281, 113.33360290527344, 113.13159942626953, 112.92960357666016, 112.72769927978516, 112.52570343017578, 112.32369995117188, 112.12169647216797, 111.9197006225586, 111.71769714355469, 111.51580047607422, 111.31379699707031, 111.11180114746094, 110.90979766845703, 110.70780181884766, 110.50579833984375, 110.30380249023438, 110.10179901123047, 109.89990234375, 109.6978988647461, 109.49590301513672, 109.29389953613281, 109.09190368652344, 108.88990020751953, 108.68800354003906, 108.48600006103516, 108.28399658203125, 108.08200073242188, 107.87999725341797, 107.6780014038086, 107.47599792480469, 107.27400207519531, 107.07209777832031, 106.87010192871094, 106.66809844970703, 106.46610260009766, 106.26409912109375, 106.06210327148438, 105.86019897460938, 105.658203125, 105.4561996459961, 105.25420379638672, 105.05220031738281, 104.8501968383789, 104.64820098876953, 104.44619750976562, 104.24430084228516, 104.04229736328125, 103.84030151367188, 103.63829803466797, 103.4363021850586, 103.23429870605469, 103.03240203857422, 102.83039855957031, 102.62840270996094, 102.42639923095703, 102.22440338134766, 102.02239990234375, 101.82039642333984, 101.61849975585938, 101.41649627685547, 101.2145004272461, 101.01249694824219, 100.81050109863281, 100.6084976196289, 100.40650177001953, 100.20459747314453, 100.00260162353516], [119.99919891357422, 119.79720306396484, 119.59519958496094, 119.39320373535156, 119.19120025634766, 118.98919677734375, 118.78720092773438, 118.58519744873047, 118.38330078125, 118.1812973022461, 117.97930145263672, 117.77729797363281, 117.57530212402344, 117.37329864501953, 117.17140197753906, 116.96939849853516, 116.76740264892578, 116.56539916992188, 116.3634033203125, 116.1613998413086, 115.95939636230469, 115.75740051269531, 115.55549621582031, 115.35350036621094, 115.15149688720703, 114.94950103759766, 114.74749755859375, 114.54550170898438, 114.34359741210938, 114.1416015625, 113.9395980834961, 113.73760223388672, 113.53559875488281, 113.33360290527344, 113.13159942626953, 112.92960357666016, 112.72769927978516, 112.52570343017578, 112.32369995117188, 112.12169647216797, 111.9197006225586, 111.71769714355469, 111.51580047607422, 111.31379699707031, 111.11180114746094, 110.90979766845703, 110.70780181884766, 110.50579833984375, 110.30380249023438, 110.10179901123047, 109.89990234375, 109.6978988647461, 109.49590301513672, 109.29389953613281, 109.09190368652344, 108.88990020751953, 108.68800354003906, 108.48600006103516, 108.28399658203125, 108.08200073242188, 107.87999725341797, 107.6780014038086, 107.47599792480469, 107.27400207519531, 107.07209777832031, 106.87010192871094, 106.66809844970703, 106.46610260009766, 106.26409912109375, 106.06210327148438, 105.86019897460938, 105.658203125, 105.4561996459961, 105.25420379638672, 105.05220031738281, 104.8501968383789, 104.64820098876953, 104.44619750976562, 104.24430084228516, 104.04229736328125, 103.84030151367188, 103.63829803466797, 103.4363021850586, 103.23429870605469, 103.03240203857422, 102.83039855957031, 102.62840270996094, 102.42639923095703, 102.22440338134766, 102.02239990234375, 101.82039642333984, 101.61849975585938, 101.41649627685547, 101.2145004272461, 101.01249694824219, 100.81050109863281, 100.6084976196289, 100.40650177001953, 100.20459747314453, 100.00260162353516], [119.99919891357422, 119.79720306396484, 119.59519958496094, 119.39320373535156, 119.19120025634766, 118.98919677734375, 118.78720092773438, 118.58519744873047, 118.3832015991211, 118.1812973022461, 117.97930145263672, 117.77729797363281, 117.57530212402344, 117.37329864501953, 117.17140197753906, 116.96939849853516, 116.76740264892578, 116.56539916992188, 116.3634033203125, 116.1613998413086, 115.95939636230469, 115.75740051269531, 115.55549621582031, 115.35350036621094, 115.15149688720703, 114.94950103759766, 114.74749755859375, 114.54550170898438, 114.34359741210938, 114.1416015625, 113.9395980834961, 113.73760223388672, 113.53559875488281, 113.33360290527344, 113.13159942626953, 112.92960357666016, 112.72769927978516, 112.52570343017578, 112.32369995117188, 112.12169647216797, 111.9197006225586, 111.71769714355469, 111.51580047607422, 111.31379699707031, 111.11180114746094, 110.90979766845703, 110.70780181884766, 110.50579833984375, 110.30380249023438, 110.10179901123047, 109.89990234375, 109.6978988647461, 109.49590301513672, 109.29389953613281, 109.09190368652344, 108.88990020751953, 108.68800354003906, 108.48600006103516, 108.28399658203125, 108.08200073242188, 107.87999725341797, 107.6780014038086, 107.47599792480469, 107.27400207519531, 107.07209777832031, 106.87010192871094, 106.66809844970703, 106.46610260009766, 106.26409912109375, 106.06210327148438, 105.86019897460938, 105.658203125, 105.4561996459961, 105.25420379638672, 105.05220031738281, 104.8501968383789, 104.64820098876953, 104.44619750976562, 104.24430084228516, 104.04229736328125, 103.84030151367188, 103.63829803466797, 103.4363021850586, 103.23429870605469, 103.03240203857422, 102.83039855957031, 102.62840270996094, 102.42639923095703, 102.22440338134766, 102.02239990234375, 101.82039642333984, 101.61849975585938, 101.41649627685547, 101.2145004272461, 101.01249694824219, 100.81050109863281, 100.6084976196289, 100.40650177001953, 100.20459747314453, 100.00260162353516], [119.99919891357422, 119.79720306396484, 119.59519958496094, 119.39320373535156, 119.19120025634766, 118.98919677734375, 118.78720092773438, 118.58519744873047, 118.3832015991211, 118.1812973022461, 117.97930145263672, 117.77729797363281, 117.57530212402344, 117.37329864501953, 117.17140197753906, 116.96939849853516, 116.76740264892578, 116.56539916992188, 116.3634033203125, 116.1613998413086, 115.95939636230469, 115.75740051269531, 115.55549621582031, 115.35350036621094, 115.15149688720703, 114.94950103759766, 114.74749755859375, 114.54550170898438, 114.34359741210938, 114.1416015625, 113.9395980834961, 113.73760223388672, 113.53559875488281, 113.33360290527344, 113.13159942626953, 112.92960357666016, 112.72769927978516, 112.52570343017578, 112.32369995117188, 112.12169647216797, 111.9197006225586, 111.71769714355469, 111.51580047607422, 111.31379699707031, 111.11180114746094, 110.90979766845703, 110.70780181884766, 110.50579833984375, 110.30380249023438, 110.10179901123047, 109.89990234375, 109.6978988647461, 109.49590301513672, 109.29389953613281, 109.09190368652344, 108.88990020751953, 108.68800354003906, 108.48600006103516, 108.28399658203125, 108.08200073242188, 107.87999725341797, 107.6780014038086, 107.47599792480469, 107.27400207519531, 107.07209777832031, 106.87010192871094, 106.66809844970703, 106.46610260009766, 106.26409912109375, 106.06210327148438, 105.86019897460938, 105.658203125, 105.4561996459961, 105.25420379638672, 105.05220031738281, 104.8501968383789, 104.64820098876953, 104.44619750976562, 104.24430084228516, 104.04229736328125, 103.84030151367188, 103.63829803466797, 103.4363021850586, 103.23429870605469, 103.03240203857422, 102.83039855957031, 102.62840270996094, 102.42639923095703, 102.22440338134766, 102.02239990234375, 101.82039642333984, 101.61849975585938, 101.41649627685547, 101.2145004272461, 101.01249694824219, 100.81050109863281, 100.6084976196289, 100.40650177001953, 100.20459747314453, 100.00260162353516]]'"
      ]
     },
     "execution_count": 14,
     "metadata": {},
     "output_type": "execute_result"
    }
   ],
   "source": [
    "import simplejson as json\n",
    "\n",
    "json = json.dumps(head, ignore_nan=True)\n",
    "json"
   ]
  },
  {
   "cell_type": "code",
   "execution_count": 15,
   "id": "df7dfd8ff0308815",
   "metadata": {
    "ExecuteTime": {
     "end_time": "2024-08-19T10:13:30.708204Z",
     "start_time": "2024-08-19T10:13:30.705261Z"
    },
    "collapsed": false,
    "execution": {
     "iopub.execute_input": "2024-08-19T20:27:22.412888Z",
     "iopub.status.busy": "2024-08-19T20:27:22.412693Z",
     "iopub.status.idle": "2024-08-19T20:27:22.415663Z",
     "shell.execute_reply": "2024-08-19T20:27:22.415273Z"
    },
    "papermill": {
     "duration": 0.011054,
     "end_time": "2024-08-19T20:27:22.417076",
     "exception": false,
     "start_time": "2024-08-19T20:27:22.406022",
     "status": "completed"
    },
    "tags": []
   },
   "outputs": [
    {
     "data": {
      "text/plain": [
       "[]"
      ]
     },
     "execution_count": 15,
     "metadata": {},
     "output_type": "execute_result"
    }
   ],
   "source": [
    "engine.read_flow_drawdown(idx=0, layer=0)"
   ]
  },
  {
   "cell_type": "code",
   "execution_count": 16,
   "id": "b233f4066b56c174",
   "metadata": {
    "ExecuteTime": {
     "end_time": "2024-08-19T10:13:30.714643Z",
     "start_time": "2024-08-19T10:13:30.708916Z"
    },
    "collapsed": false,
    "execution": {
     "iopub.execute_input": "2024-08-19T20:27:22.426522Z",
     "iopub.status.busy": "2024-08-19T20:27:22.426373Z",
     "iopub.status.idle": "2024-08-19T20:27:22.430163Z",
     "shell.execute_reply": "2024-08-19T20:27:22.429863Z"
    },
    "papermill": {
     "duration": 0.010122,
     "end_time": "2024-08-19T20:27:22.430991",
     "exception": false,
     "start_time": "2024-08-19T20:27:22.420869",
     "status": "completed"
    },
    "tags": []
   },
   "outputs": [
    {
     "data": {
      "text/plain": [
       "{'STORAGE_IN': 0.0,\n",
       " 'CONSTANT_HEAD_IN': 0.0,\n",
       " 'HEAD_DEP_BOUNDS_IN': 4682.4585,\n",
       " 'TOTAL_IN': 4682.4585,\n",
       " 'STORAGE_OUT': -0.0,\n",
       " 'CONSTANT_HEAD_OUT': -0.0,\n",
       " 'HEAD_DEP_BOUNDS_OUT': -4682.458,\n",
       " 'TOTAL_OUT': -4682.458,\n",
       " 'IN-OUT': 0.00048828,\n",
       " 'PERCENT_DISCREPANCY': 0.0,\n",
       " 'tslen': 365.0}"
      ]
     },
     "execution_count": 16,
     "metadata": {},
     "output_type": "execute_result"
    }
   ],
   "source": [
    "engine.read_flow_budget(idx=0, incremental=False)"
   ]
  },
  {
   "cell_type": "code",
   "execution_count": 17,
   "id": "634709d741f5c252",
   "metadata": {
    "ExecuteTime": {
     "end_time": "2024-08-19T10:13:30.730113Z",
     "start_time": "2024-08-19T10:13:30.715851Z"
    },
    "collapsed": false,
    "execution": {
     "iopub.execute_input": "2024-08-19T20:27:22.439091Z",
     "iopub.status.busy": "2024-08-19T20:27:22.438960Z",
     "iopub.status.idle": "2024-08-19T20:27:22.442712Z",
     "shell.execute_reply": "2024-08-19T20:27:22.442446Z"
    },
    "papermill": {
     "duration": 0.008823,
     "end_time": "2024-08-19T20:27:22.443535",
     "exception": false,
     "start_time": "2024-08-19T20:27:22.434712",
     "status": "completed"
    },
    "tags": []
   },
   "outputs": [
    {
     "data": {
      "text/plain": [
       "{'STORAGE_IN': 0.0,\n",
       " 'CONSTANT_HEAD_IN': 0.0,\n",
       " 'HEAD_DEP_BOUNDS_IN': 12.8287,\n",
       " 'TOTAL_IN': 12.8287,\n",
       " 'STORAGE_OUT': -0.0,\n",
       " 'CONSTANT_HEAD_OUT': -0.0,\n",
       " 'HEAD_DEP_BOUNDS_OUT': -12.8287,\n",
       " 'TOTAL_OUT': -12.8287,\n",
       " 'IN-OUT': 9.5367e-07,\n",
       " 'PERCENT_DISCREPANCY': 0.0,\n",
       " 'tslen': 365.0}"
      ]
     },
     "execution_count": 17,
     "metadata": {},
     "output_type": "execute_result"
    }
   ],
   "source": [
    "engine.read_flow_budget(idx=0, incremental=True)"
   ]
  },
  {
   "cell_type": "code",
   "execution_count": 18,
   "id": "160abd7d290c83f7",
   "metadata": {
    "ExecuteTime": {
     "end_time": "2024-08-19T10:13:30.890093Z",
     "start_time": "2024-08-19T10:13:30.732447Z"
    },
    "collapsed": false,
    "execution": {
     "iopub.execute_input": "2024-08-19T20:27:22.452222Z",
     "iopub.status.busy": "2024-08-19T20:27:22.452070Z",
     "iopub.status.idle": "2024-08-19T20:27:22.574377Z",
     "shell.execute_reply": "2024-08-19T20:27:22.571176Z"
    },
    "papermill": {
     "duration": 0.133176,
     "end_time": "2024-08-19T20:27:22.580708",
     "exception": false,
     "start_time": "2024-08-19T20:27:22.447532",
     "status": "completed"
    },
    "tags": []
   },
   "outputs": [
    {
     "data": {
      "image/png": "[encoded data removed]",
      "text/plain": [
       "<Figure size 640x480 with 2 Axes>"
      ]
     },
     "metadata": {},
     "output_type": "display_data"
    }
   ],
   "source": [
    "import matplotlib.pyplot as plt\n",
    "\n",
    "heads = engine.read_flow_head(idx=0, layer=0)\n",
    "plt.subplot(2, 1, 1)\n",
    "plt.imshow(heads, cmap='jet_r')\n",
    "plt.colorbar()\n",
    "plt.show()"
   ]
  },
  {
   "cell_type": "code",
   "execution_count": null,
   "id": "807e04685d52d861",
   "metadata": {
    "ExecuteTime": {
     "end_time": "2024-08-19T10:13:30.901410Z",
     "start_time": "2024-08-19T10:13:30.892781Z"
    },
    "collapsed": false,
    "papermill": {
     "duration": 0.00384,
     "end_time": "2024-08-19T20:27:22.588473",
     "exception": false,
     "start_time": "2024-08-19T20:27:22.584633",
     "status": "completed"
    },
    "tags": []
   },
   "outputs": [],
   "source": []
  }
 ],
 "metadata": {
  "kernelspec": {
   "display_name": "Python 3",
   "language": "python",
   "name": "python3"
  },
  "language_info": {
   "codemirror_mode": {
    "name": "ipython",
    "version": 3
   },
   "file_extension": ".py",
   "mimetype": "text/x-python",
   "name": "python",
   "nbconvert_exporter": "python",
   "pygments_lexer": "ipython3",
   "version": "3.12.2"
  },
  "papermill": {
   "default_parameters": {},
   "duration": 3.532098,
   "end_time": "2024-08-19T20:27:23.039755",
   "environment_variables": {},
   "exception": null,
   "input_path": "./notebooks/Test_HeadObservation.ipynb",
   "output_path": "./notebooks/Test_HeadObservation.ipynb",
   "parameters": {},
   "start_time": "2024-08-19T20:27:19.507657",
   "version": "2.6.0"
  }
 },
 "nbformat": 4,
 "nbformat_minor": 5
}