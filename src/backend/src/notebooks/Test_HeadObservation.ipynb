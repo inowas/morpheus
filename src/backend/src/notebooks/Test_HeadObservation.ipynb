{
 "cells": [
  {
   "cell_type": "code",
   "execution_count": 1,
   "id": "ba6761fae9d5e5cb",
   "metadata": {
    "ExecuteTime": {
     "end_time": "2024-06-20T18:54:19.209805Z",
     "start_time": "2024-06-20T18:54:19.205873Z"
    },
    "collapsed": false,
    "execution": {
     "iopub.execute_input": "2024-06-20T19:03:12.080942Z",
     "iopub.status.busy": "2024-06-20T19:03:12.080607Z",
     "iopub.status.idle": "2024-06-20T19:03:12.084966Z",
     "shell.execute_reply": "2024-06-20T19:03:12.084392Z"
    },
    "papermill": {
     "duration": 0.014286,
     "end_time": "2024-06-20T19:03:12.086747",
     "exception": false,
     "start_time": "2024-06-20T19:03:12.072461",
     "status": "completed"
    },
    "tags": []
   },
   "outputs": [],
   "source": [
    "import sys\n",
    "\n",
    "sys.path.insert(0, '..')"
   ]
  },
  {
   "cell_type": "markdown",
   "id": "5ede1ba5e0993dd1",
   "metadata": {
    "collapsed": false,
    "papermill": {
     "duration": 0.00662,
     "end_time": "2024-06-20T19:03:12.099885",
     "exception": false,
     "start_time": "2024-06-20T19:03:12.093265",
     "status": "completed"
    },
    "tags": []
   },
   "source": [
    "## Setup the model area"
   ]
  },
  {
   "cell_type": "code",
   "execution_count": 2,
   "id": "2f69504ab35487aa",
   "metadata": {
    "ExecuteTime": {
     "end_time": "2024-06-20T18:54:19.936520Z",
     "start_time": "2024-06-20T18:54:19.236268Z"
    },
    "collapsed": false,
    "execution": {
     "iopub.execute_input": "2024-06-20T19:03:12.106430Z",
     "iopub.status.busy": "2024-06-20T19:03:12.106154Z",
     "iopub.status.idle": "2024-06-20T19:03:12.627324Z",
     "shell.execute_reply": "2024-06-20T19:03:12.626985Z"
    },
    "papermill": {
     "duration": 0.525124,
     "end_time": "2024-06-20T19:03:12.628410",
     "exception": false,
     "start_time": "2024-06-20T19:03:12.103286",
     "status": "completed"
    },
    "tags": []
   },
   "outputs": [],
   "source": [
    "from morpheus.project.types.discretization import SpatialDiscretization\n",
    "from morpheus.project.types.discretization.spatial import Rotation, Grid, Crs\n",
    "from morpheus.project.types.geometry import Polygon, LineString\n",
    "\n",
    "polygon = Polygon(\n",
    "  type='Polygon',\n",
    "  coordinates=[[\n",
    "    (13.92, 50.964),\n",
    "    (13.92, 50.966),\n",
    "    (13.925, 50.966),\n",
    "    (13.925, 50.964),\n",
    "    (13.92, 50.964)\n",
    "  ]]\n",
    ")\n",
    "\n",
    "rotation = Rotation(0)\n",
    "\n",
    "grid = Grid.cartesian_from_polygon(polygon=polygon, n_cols=100, n_rows=50, rotation=rotation)\n",
    "spatial_discretization = SpatialDiscretization.from_geometry_with_grid(\n",
    "  geometry=polygon,\n",
    "  grid=grid,\n",
    "  crs=Crs.from_str('EPSG:4326')\n",
    ")"
   ]
  },
  {
   "cell_type": "markdown",
   "id": "fa27e67f9d801845",
   "metadata": {
    "collapsed": false,
    "papermill": {
     "duration": 0.002014,
     "end_time": "2024-06-20T19:03:12.632907",
     "exception": false,
     "start_time": "2024-06-20T19:03:12.630893",
     "status": "completed"
    },
    "tags": []
   },
   "source": [
    "## Setup Time Discretization"
   ]
  },
  {
   "cell_type": "code",
   "execution_count": 3,
   "id": "8e4e63dd138db9fc",
   "metadata": {
    "ExecuteTime": {
     "end_time": "2024-06-20T18:54:19.945768Z",
     "start_time": "2024-06-20T18:54:19.942075Z"
    },
    "collapsed": false,
    "execution": {
     "iopub.execute_input": "2024-06-20T19:03:12.637627Z",
     "iopub.status.busy": "2024-06-20T19:03:12.637461Z",
     "iopub.status.idle": "2024-06-20T19:03:12.639901Z",
     "shell.execute_reply": "2024-06-20T19:03:12.639666Z"
    },
    "papermill": {
     "duration": 0.005767,
     "end_time": "2024-06-20T19:03:12.640630",
     "exception": false,
     "start_time": "2024-06-20T19:03:12.634863",
     "status": "completed"
    },
    "tags": []
   },
   "outputs": [],
   "source": [
    "from morpheus.project.types.discretization.time.TimeUnit import TimeUnit\n",
    "from morpheus.project.types.discretization.time.Stressperiods import StartDateTime, StressPeriodCollection, \\\n",
    "  StressPeriod, NumberOfTimeSteps, TimeStepMultiplier, IsSteadyState\n",
    "from morpheus.project.types.discretization.time import TimeDiscretization\n",
    "from datetime import datetime\n",
    "\n",
    "time_discretization = TimeDiscretization(\n",
    "  start_date_time=StartDateTime.from_datetime(datetime(2020, 1, 1)),\n",
    "  end_date_time=StartDateTime.from_datetime(datetime(2020, 12, 31)),\n",
    "  stress_periods=StressPeriodCollection([\n",
    "    StressPeriod(\n",
    "      start_date_time=StartDateTime.from_datetime(datetime(2020, 1, 1)),\n",
    "      number_of_time_steps=NumberOfTimeSteps(1),\n",
    "      time_step_multiplier=TimeStepMultiplier(1),\n",
    "      steady_state=IsSteadyState.yes()\n",
    "    ),\n",
    "  ]),\n",
    "  time_unit=TimeUnit.days()\n",
    ")"
   ]
  },
  {
   "cell_type": "markdown",
   "id": "963ba8729f09fcec",
   "metadata": {
    "collapsed": false,
    "papermill": {
     "duration": 0.001997,
     "end_time": "2024-06-20T19:03:12.644780",
     "exception": false,
     "start_time": "2024-06-20T19:03:12.642783",
     "status": "completed"
    },
    "tags": []
   },
   "source": [
    "# Setup Model"
   ]
  },
  {
   "cell_type": "code",
   "execution_count": 4,
   "id": "1d5c9125b1b9360b",
   "metadata": {
    "ExecuteTime": {
     "end_time": "2024-06-20T18:54:20.571363Z",
     "start_time": "2024-06-20T18:54:19.946509Z"
    },
    "collapsed": false,
    "execution": {
     "iopub.execute_input": "2024-06-20T19:03:12.649425Z",
     "iopub.status.busy": "2024-06-20T19:03:12.649285Z",
     "iopub.status.idle": "2024-06-20T19:03:12.965705Z",
     "shell.execute_reply": "2024-06-20T19:03:12.965374Z"
    },
    "papermill": {
     "duration": 0.320063,
     "end_time": "2024-06-20T19:03:12.966786",
     "exception": false,
     "start_time": "2024-06-20T19:03:12.646723",
     "status": "completed"
    },
    "tags": []
   },
   "outputs": [],
   "source": [
    "from morpheus.project.types.Model import Model\n",
    "\n",
    "model = Model.new()\n",
    "model = model.with_updated_time_discretization(time_discretization)\n",
    "model = model.with_updated_spatial_discretization(spatial_discretization=spatial_discretization)"
   ]
  },
  {
   "cell_type": "code",
   "execution_count": 5,
   "id": "1540b870ae83f298",
   "metadata": {
    "ExecuteTime": {
     "end_time": "2024-06-20T18:54:20.806551Z",
     "start_time": "2024-06-20T18:54:20.575572Z"
    },
    "collapsed": false,
    "execution": {
     "iopub.execute_input": "2024-06-20T19:03:12.971753Z",
     "iopub.status.busy": "2024-06-20T19:03:12.971549Z",
     "iopub.status.idle": "2024-06-20T19:03:13.116505Z",
     "shell.execute_reply": "2024-06-20T19:03:13.116246Z"
    },
    "papermill": {
     "duration": 0.148305,
     "end_time": "2024-06-20T19:03:13.117366",
     "exception": false,
     "start_time": "2024-06-20T19:03:12.969061",
     "status": "completed"
    },
    "tags": []
   },
   "outputs": [
    {
     "data": {
      "text/html": [
       "<div style=\"width:100%;\"><div style=\"position:relative;width:100%;height:0;padding-bottom:60%;\"><span style=\"color:#565656\">Make this Notebook Trusted to load map: File -> Trust Notebook</span><iframe srcdoc=\"&lt;!DOCTYPE html&gt;\n",
       "&lt;html&gt;\n",
       "&lt;head&gt;\n",
       "    \n",
       "    &lt;meta http-equiv=&quot;content-type&quot; content=&quot;text/html; charset=UTF-8&quot; /&gt;\n",
       "    \n",
       "        &lt;script&gt;\n",
       "            L_NO_TOUCH = false;\n",
       "            L_DISABLE_3D = false;\n",
       "        &lt;/script&gt;\n",
       "    \n",
       "    &lt;style&gt;html, body {width: 100%;height: 100%;margin: 0;padding: 0;}&lt;/style&gt;\n",
       "    &lt;style&gt;#map {position:absolute;top:0;bottom:0;right:0;left:0;}&lt;/style&gt;\n",
       "    &lt;script src=&quot;https://cdn.jsdelivr.net/npm/leaflet@1.9.3/dist/leaflet.js&quot;&gt;&lt;/script&gt;\n",
       "    &lt;script src=&quot;https://code.jquery.com/jquery-3.7.1.min.js&quot;&gt;&lt;/script&gt;\n",
       "    &lt;script src=&quot;https://cdn.jsdelivr.net/npm/bootstrap@5.2.2/dist/js/bootstrap.bundle.min.js&quot;&gt;&lt;/script&gt;\n",
       "    &lt;script src=&quot;https://cdnjs.cloudflare.com/ajax/libs/Leaflet.awesome-markers/2.0.2/leaflet.awesome-markers.js&quot;&gt;&lt;/script&gt;\n",
       "    &lt;link rel=&quot;stylesheet&quot; href=&quot;https://cdn.jsdelivr.net/npm/leaflet@1.9.3/dist/leaflet.css&quot;/&gt;\n",
       "    &lt;link rel=&quot;stylesheet&quot; href=&quot;https://cdn.jsdelivr.net/npm/bootstrap@5.2.2/dist/css/bootstrap.min.css&quot;/&gt;\n",
       "    &lt;link rel=&quot;stylesheet&quot; href=&quot;https://netdna.bootstrapcdn.com/bootstrap/3.0.0/css/bootstrap.min.css&quot;/&gt;\n",
       "    &lt;link rel=&quot;stylesheet&quot; href=&quot;https://cdn.jsdelivr.net/npm/@fortawesome/fontawesome-free@6.2.0/css/all.min.css&quot;/&gt;\n",
       "    &lt;link rel=&quot;stylesheet&quot; href=&quot;https://cdnjs.cloudflare.com/ajax/libs/Leaflet.awesome-markers/2.0.2/leaflet.awesome-markers.css&quot;/&gt;\n",
       "    &lt;link rel=&quot;stylesheet&quot; href=&quot;https://cdn.jsdelivr.net/gh/python-visualization/folium/folium/templates/leaflet.awesome.rotate.min.css&quot;/&gt;\n",
       "    \n",
       "            &lt;meta name=&quot;viewport&quot; content=&quot;width=device-width,\n",
       "                initial-scale=1.0, maximum-scale=1.0, user-scalable=no&quot; /&gt;\n",
       "            &lt;style&gt;\n",
       "                #map_1da3d110a0a5387d46962b141cf3c795 {\n",
       "                    position: relative;\n",
       "                    width: 100.0%;\n",
       "                    height: 100.0%;\n",
       "                    left: 0.0%;\n",
       "                    top: 0.0%;\n",
       "                }\n",
       "                .leaflet-container { font-size: 1rem; }\n",
       "            &lt;/style&gt;\n",
       "        \n",
       "&lt;/head&gt;\n",
       "&lt;body&gt;\n",
       "    \n",
       "    \n",
       "            &lt;div class=&quot;folium-map&quot; id=&quot;map_1da3d110a0a5387d46962b141cf3c795&quot; &gt;&lt;/div&gt;\n",
       "        \n",
       "&lt;/body&gt;\n",
       "&lt;script&gt;\n",
       "    \n",
       "    \n",
       "            var map_1da3d110a0a5387d46962b141cf3c795 = L.map(\n",
       "                &quot;map_1da3d110a0a5387d46962b141cf3c795&quot;,\n",
       "                {\n",
       "                    center: [50.965, 13.922],\n",
       "                    crs: L.CRS.EPSG3857,\n",
       "                    zoom: 12,\n",
       "                    zoomControl: true,\n",
       "                    preferCanvas: false,\n",
       "                }\n",
       "            );\n",
       "\n",
       "            \n",
       "\n",
       "        \n",
       "    \n",
       "            var tile_layer_e5468318199e23d57c6d82be98df2b44 = L.tileLayer(\n",
       "                &quot;https://{s}.basemaps.cartocdn.com/light_all/{z}/{x}/{y}{r}.png&quot;,\n",
       "                {&quot;attribution&quot;: &quot;\\u0026copy; \\u003ca href=\\&quot;https://www.openstreetmap.org/copyright\\&quot;\\u003eOpenStreetMap\\u003c/a\\u003e contributors \\u0026copy; \\u003ca href=\\&quot;https://carto.com/attributions\\&quot;\\u003eCARTO\\u003c/a\\u003e&quot;, &quot;detectRetina&quot;: false, &quot;maxNativeZoom&quot;: 20, &quot;maxZoom&quot;: 20, &quot;minZoom&quot;: 0, &quot;noWrap&quot;: false, &quot;opacity&quot;: 1, &quot;subdomains&quot;: &quot;abcd&quot;, &quot;tms&quot;: false}\n",
       "            );\n",
       "        \n",
       "    \n",
       "            tile_layer_e5468318199e23d57c6d82be98df2b44.addTo(map_1da3d110a0a5387d46962b141cf3c795);\n",
       "        \n",
       "    \n",
       "\n",
       "        function geo_json_a8c0614ac23c9085d8e5cc04190efaf6_onEachFeature(feature, layer) {\n",
       "            layer.on({\n",
       "            });\n",
       "        };\n",
       "        var geo_json_a8c0614ac23c9085d8e5cc04190efaf6 = L.geoJson(null, {\n",
       "                onEachFeature: geo_json_a8c0614ac23c9085d8e5cc04190efaf6_onEachFeature,\n",
       "            \n",
       "        });\n",
       "\n",
       "        function geo_json_a8c0614ac23c9085d8e5cc04190efaf6_add (data) {\n",
       "            geo_json_a8c0614ac23c9085d8e5cc04190efaf6\n",
       "                .addData(data);\n",
       "        }\n",
       "            geo_json_a8c0614ac23c9085d8e5cc04190efaf6_add({&quot;coordinates&quot;: [[[13.92, 50.964], [13.92, 50.966], [13.925, 50.966], [13.925, 50.964], [13.92, 50.964]]], &quot;type&quot;: &quot;Polygon&quot;});\n",
       "\n",
       "        \n",
       "    \n",
       "            geo_json_a8c0614ac23c9085d8e5cc04190efaf6.addTo(map_1da3d110a0a5387d46962b141cf3c795);\n",
       "        \n",
       "    \n",
       "            map_1da3d110a0a5387d46962b141cf3c795.fitBounds(\n",
       "                [[50.964, 13.92], [50.966, 13.925]],\n",
       "                {}\n",
       "            );\n",
       "        \n",
       "&lt;/script&gt;\n",
       "&lt;/html&gt;\" style=\"position:absolute;width:100%;height:100%;left:0;top:0;border:none !important;\" allowfullscreen webkitallowfullscreen mozallowfullscreen></iframe></div></div>"
      ],
      "text/plain": [
       "<folium.folium.Map at 0x12f042f30>"
      ]
     },
     "execution_count": 5,
     "metadata": {},
     "output_type": "execute_result"
    }
   ],
   "source": [
    "import folium\n",
    "\n",
    "m = folium.Map(tiles=\"cartodbpositron\", crs=\"EPSG3857\", zoom_start=12, location=[50.965, 13.922])\n",
    "m.add_child(folium.GeoJson(polygon.as_geojson()))\n",
    "\n",
    "m.fit_bounds(m.get_bounds())\n",
    "m"
   ]
  },
  {
   "cell_type": "markdown",
   "id": "62ae3587df801000",
   "metadata": {
    "collapsed": false,
    "papermill": {
     "duration": 0.002102,
     "end_time": "2024-06-20T19:03:13.121823",
     "exception": false,
     "start_time": "2024-06-20T19:03:13.119721",
     "status": "completed"
    },
    "tags": []
   },
   "source": [
    "# Setup general head boundaries"
   ]
  },
  {
   "cell_type": "code",
   "execution_count": 6,
   "id": "53679913aee28ce9",
   "metadata": {
    "ExecuteTime": {
     "end_time": "2024-06-20T18:54:21.961007Z",
     "start_time": "2024-06-20T18:54:20.808206Z"
    },
    "collapsed": false,
    "execution": {
     "iopub.execute_input": "2024-06-20T19:03:13.126494Z",
     "iopub.status.busy": "2024-06-20T19:03:13.126331Z",
     "iopub.status.idle": "2024-06-20T19:03:14.085561Z",
     "shell.execute_reply": "2024-06-20T19:03:14.085299Z"
    },
    "papermill": {
     "duration": 0.962556,
     "end_time": "2024-06-20T19:03:14.086413",
     "exception": false,
     "start_time": "2024-06-20T19:03:13.123857",
     "status": "completed"
    },
    "tags": []
   },
   "outputs": [
    {
     "data": {
      "text/html": [
       "<div style=\"width:100%;\"><div style=\"position:relative;width:100%;height:0;padding-bottom:60%;\"><span style=\"color:#565656\">Make this Notebook Trusted to load map: File -> Trust Notebook</span><iframe srcdoc=\"&lt;!DOCTYPE html&gt;\n",
       "&lt;html&gt;\n",
       "&lt;head&gt;\n",
       "    \n",
       "    &lt;meta http-equiv=&quot;content-type&quot; content=&quot;text/html; charset=UTF-8&quot; /&gt;\n",
       "    \n",
       "        &lt;script&gt;\n",
       "            L_NO_TOUCH = false;\n",
       "            L_DISABLE_3D = false;\n",
       "        &lt;/script&gt;\n",
       "    \n",
       "    &lt;style&gt;html, body {width: 100%;height: 100%;margin: 0;padding: 0;}&lt;/style&gt;\n",
       "    &lt;style&gt;#map {position:absolute;top:0;bottom:0;right:0;left:0;}&lt;/style&gt;\n",
       "    &lt;script src=&quot;https://cdn.jsdelivr.net/npm/leaflet@1.9.3/dist/leaflet.js&quot;&gt;&lt;/script&gt;\n",
       "    &lt;script src=&quot;https://code.jquery.com/jquery-3.7.1.min.js&quot;&gt;&lt;/script&gt;\n",
       "    &lt;script src=&quot;https://cdn.jsdelivr.net/npm/bootstrap@5.2.2/dist/js/bootstrap.bundle.min.js&quot;&gt;&lt;/script&gt;\n",
       "    &lt;script src=&quot;https://cdnjs.cloudflare.com/ajax/libs/Leaflet.awesome-markers/2.0.2/leaflet.awesome-markers.js&quot;&gt;&lt;/script&gt;\n",
       "    &lt;link rel=&quot;stylesheet&quot; href=&quot;https://cdn.jsdelivr.net/npm/leaflet@1.9.3/dist/leaflet.css&quot;/&gt;\n",
       "    &lt;link rel=&quot;stylesheet&quot; href=&quot;https://cdn.jsdelivr.net/npm/bootstrap@5.2.2/dist/css/bootstrap.min.css&quot;/&gt;\n",
       "    &lt;link rel=&quot;stylesheet&quot; href=&quot;https://netdna.bootstrapcdn.com/bootstrap/3.0.0/css/bootstrap.min.css&quot;/&gt;\n",
       "    &lt;link rel=&quot;stylesheet&quot; href=&quot;https://cdn.jsdelivr.net/npm/@fortawesome/fontawesome-free@6.2.0/css/all.min.css&quot;/&gt;\n",
       "    &lt;link rel=&quot;stylesheet&quot; href=&quot;https://cdnjs.cloudflare.com/ajax/libs/Leaflet.awesome-markers/2.0.2/leaflet.awesome-markers.css&quot;/&gt;\n",
       "    &lt;link rel=&quot;stylesheet&quot; href=&quot;https://cdn.jsdelivr.net/gh/python-visualization/folium/folium/templates/leaflet.awesome.rotate.min.css&quot;/&gt;\n",
       "    \n",
       "            &lt;meta name=&quot;viewport&quot; content=&quot;width=device-width,\n",
       "                initial-scale=1.0, maximum-scale=1.0, user-scalable=no&quot; /&gt;\n",
       "            &lt;style&gt;\n",
       "                #map_1da3d110a0a5387d46962b141cf3c795 {\n",
       "                    position: relative;\n",
       "                    width: 100.0%;\n",
       "                    height: 100.0%;\n",
       "                    left: 0.0%;\n",
       "                    top: 0.0%;\n",
       "                }\n",
       "                .leaflet-container { font-size: 1rem; }\n",
       "            &lt;/style&gt;\n",
       "        \n",
       "&lt;/head&gt;\n",
       "&lt;body&gt;\n",
       "    \n",
       "    \n",
       "            &lt;div class=&quot;folium-map&quot; id=&quot;map_1da3d110a0a5387d46962b141cf3c795&quot; &gt;&lt;/div&gt;\n",
       "        \n",
       "&lt;/body&gt;\n",
       "&lt;script&gt;\n",
       "    \n",
       "    \n",
       "            var map_1da3d110a0a5387d46962b141cf3c795 = L.map(\n",
       "                &quot;map_1da3d110a0a5387d46962b141cf3c795&quot;,\n",
       "                {\n",
       "                    center: [50.965, 13.922],\n",
       "                    crs: L.CRS.EPSG3857,\n",
       "                    zoom: 12,\n",
       "                    zoomControl: true,\n",
       "                    preferCanvas: false,\n",
       "                }\n",
       "            );\n",
       "\n",
       "            \n",
       "\n",
       "        \n",
       "    \n",
       "            var tile_layer_e5468318199e23d57c6d82be98df2b44 = L.tileLayer(\n",
       "                &quot;https://{s}.basemaps.cartocdn.com/light_all/{z}/{x}/{y}{r}.png&quot;,\n",
       "                {&quot;attribution&quot;: &quot;\\u0026copy; \\u003ca href=\\&quot;https://www.openstreetmap.org/copyright\\&quot;\\u003eOpenStreetMap\\u003c/a\\u003e contributors \\u0026copy; \\u003ca href=\\&quot;https://carto.com/attributions\\&quot;\\u003eCARTO\\u003c/a\\u003e&quot;, &quot;detectRetina&quot;: false, &quot;maxNativeZoom&quot;: 20, &quot;maxZoom&quot;: 20, &quot;minZoom&quot;: 0, &quot;noWrap&quot;: false, &quot;opacity&quot;: 1, &quot;subdomains&quot;: &quot;abcd&quot;, &quot;tms&quot;: false}\n",
       "            );\n",
       "        \n",
       "    \n",
       "            tile_layer_e5468318199e23d57c6d82be98df2b44.addTo(map_1da3d110a0a5387d46962b141cf3c795);\n",
       "        \n",
       "    \n",
       "\n",
       "        function geo_json_a8c0614ac23c9085d8e5cc04190efaf6_onEachFeature(feature, layer) {\n",
       "            layer.on({\n",
       "            });\n",
       "        };\n",
       "        var geo_json_a8c0614ac23c9085d8e5cc04190efaf6 = L.geoJson(null, {\n",
       "                onEachFeature: geo_json_a8c0614ac23c9085d8e5cc04190efaf6_onEachFeature,\n",
       "            \n",
       "        });\n",
       "\n",
       "        function geo_json_a8c0614ac23c9085d8e5cc04190efaf6_add (data) {\n",
       "            geo_json_a8c0614ac23c9085d8e5cc04190efaf6\n",
       "                .addData(data);\n",
       "        }\n",
       "            geo_json_a8c0614ac23c9085d8e5cc04190efaf6_add({&quot;coordinates&quot;: [[[13.92, 50.964], [13.92, 50.966], [13.925, 50.966], [13.925, 50.964], [13.92, 50.964]]], &quot;type&quot;: &quot;Polygon&quot;});\n",
       "\n",
       "        \n",
       "    \n",
       "            geo_json_a8c0614ac23c9085d8e5cc04190efaf6.addTo(map_1da3d110a0a5387d46962b141cf3c795);\n",
       "        \n",
       "    \n",
       "            map_1da3d110a0a5387d46962b141cf3c795.fitBounds(\n",
       "                [[50.964, 13.92], [50.966, 13.925]],\n",
       "                {}\n",
       "            );\n",
       "        \n",
       "    \n",
       "            tile_layer_e5468318199e23d57c6d82be98df2b44.addTo(map_1da3d110a0a5387d46962b141cf3c795);\n",
       "        \n",
       "    \n",
       "            geo_json_a8c0614ac23c9085d8e5cc04190efaf6.addTo(map_1da3d110a0a5387d46962b141cf3c795);\n",
       "        \n",
       "    \n",
       "\n",
       "        function geo_json_54408ededae09229b4c752a60b68ac64_onEachFeature(feature, layer) {\n",
       "            layer.on({\n",
       "            });\n",
       "        };\n",
       "        var geo_json_54408ededae09229b4c752a60b68ac64 = L.geoJson(null, {\n",
       "                onEachFeature: geo_json_54408ededae09229b4c752a60b68ac64_onEachFeature,\n",
       "            \n",
       "        });\n",
       "\n",
       "        function geo_json_54408ededae09229b4c752a60b68ac64_add (data) {\n",
       "            geo_json_54408ededae09229b4c752a60b68ac64\n",
       "                .addData(data);\n",
       "        }\n",
       "            geo_json_54408ededae09229b4c752a60b68ac64_add({&quot;coordinates&quot;: [[13.92499, 50.966], [13.92499, 50.964]], &quot;type&quot;: &quot;LineString&quot;});\n",
       "\n",
       "        \n",
       "    \n",
       "            geo_json_54408ededae09229b4c752a60b68ac64.addTo(map_1da3d110a0a5387d46962b141cf3c795);\n",
       "        \n",
       "    \n",
       "\n",
       "        function geo_json_a9b0f5f3fd71d09a8692886cbc30c247_onEachFeature(feature, layer) {\n",
       "            layer.on({\n",
       "            });\n",
       "        };\n",
       "        var geo_json_a9b0f5f3fd71d09a8692886cbc30c247 = L.geoJson(null, {\n",
       "                onEachFeature: geo_json_a9b0f5f3fd71d09a8692886cbc30c247_onEachFeature,\n",
       "            \n",
       "        });\n",
       "\n",
       "        function geo_json_a9b0f5f3fd71d09a8692886cbc30c247_add (data) {\n",
       "            geo_json_a9b0f5f3fd71d09a8692886cbc30c247\n",
       "                .addData(data);\n",
       "        }\n",
       "            geo_json_a9b0f5f3fd71d09a8692886cbc30c247_add({&quot;geometries&quot;: [{&quot;coordinates&quot;: [[[13.92495, 50.965999999999994], [13.925000000000002, 50.965999999999994], [13.925000000000002, 50.965960000843815], [13.92495, 50.965960000843815], [13.92495, 50.965999999999994]]], &quot;type&quot;: &quot;Polygon&quot;}, {&quot;coordinates&quot;: [[[13.92495, 50.965960000843815], [13.925000000000002, 50.965960000843815], [13.925000000000002, 50.965920001653195], [13.92495, 50.965920001653195], [13.92495, 50.965960000843815]]], &quot;type&quot;: &quot;Polygon&quot;}, {&quot;coordinates&quot;: [[[13.92495, 50.965920001653195], [13.925000000000002, 50.965920001653195], [13.925000000000002, 50.965880002428136], [13.92495, 50.965880002428136], [13.92495, 50.965920001653195]]], &quot;type&quot;: &quot;Polygon&quot;}, {&quot;coordinates&quot;: [[[13.92495, 50.965880002428136], [13.925000000000002, 50.965880002428136], [13.925000000000002, 50.96584000316863], [13.92495, 50.96584000316863], [13.92495, 50.965880002428136]]], &quot;type&quot;: &quot;Polygon&quot;}, {&quot;coordinates&quot;: [[[13.92495, 50.96584000316863], [13.925000000000002, 50.96584000316863], [13.925000000000002, 50.96580000387468], [13.92495, 50.96580000387468], [13.92495, 50.96584000316863]]], &quot;type&quot;: &quot;Polygon&quot;}, {&quot;coordinates&quot;: [[[13.92495, 50.96580000387468], [13.925000000000002, 50.96580000387468], [13.925000000000002, 50.965760004546304], [13.92495, 50.965760004546304], [13.92495, 50.96580000387468]]], &quot;type&quot;: &quot;Polygon&quot;}, {&quot;coordinates&quot;: [[[13.92495, 50.965760004546304], [13.925000000000002, 50.965760004546304], [13.925000000000002, 50.96572000518347], [13.92495, 50.96572000518347], [13.92495, 50.965760004546304]]], &quot;type&quot;: &quot;Polygon&quot;}, {&quot;coordinates&quot;: [[[13.92495, 50.96572000518347], [13.925000000000002, 50.96572000518347], [13.925000000000002, 50.9656800057862], [13.92495, 50.9656800057862], [13.92495, 50.96572000518347]]], &quot;type&quot;: &quot;Polygon&quot;}, {&quot;coordinates&quot;: [[[13.92495, 50.9656800057862], [13.925000000000002, 50.9656800057862], [13.925000000000002, 50.9656400063545], [13.92495, 50.9656400063545], [13.92495, 50.9656800057862]]], &quot;type&quot;: &quot;Polygon&quot;}, {&quot;coordinates&quot;: [[[13.92495, 50.9656400063545], [13.925000000000002, 50.9656400063545], [13.925000000000002, 50.965600006888344], [13.92495, 50.965600006888344], [13.92495, 50.9656400063545]]], &quot;type&quot;: &quot;Polygon&quot;}, {&quot;coordinates&quot;: [[[13.92495, 50.965600006888344], [13.925000000000002, 50.965600006888344], [13.925000000000002, 50.965560007387744], [13.92495, 50.965560007387744], [13.92495, 50.965600006888344]]], &quot;type&quot;: &quot;Polygon&quot;}, {&quot;coordinates&quot;: [[[13.92495, 50.965560007387744], [13.925000000000002, 50.965560007387744], [13.925000000000002, 50.96552000785271], [13.92495, 50.96552000785271], [13.92495, 50.965560007387744]]], &quot;type&quot;: &quot;Polygon&quot;}, {&quot;coordinates&quot;: [[[13.92495, 50.96552000785271], [13.925000000000002, 50.96552000785271], [13.925000000000002, 50.96548000828324], [13.92495, 50.96548000828324], [13.92495, 50.96552000785271]]], &quot;type&quot;: &quot;Polygon&quot;}, {&quot;coordinates&quot;: [[[13.92495, 50.96548000828324], [13.925000000000002, 50.96548000828324], [13.925000000000002, 50.965440008679316], [13.92495, 50.965440008679316], [13.92495, 50.96548000828324]]], &quot;type&quot;: &quot;Polygon&quot;}, {&quot;coordinates&quot;: [[[13.92495, 50.965440008679316], [13.925000000000002, 50.965440008679316], [13.925000000000002, 50.965400009040955], [13.92495, 50.965400009040955], [13.92495, 50.965440008679316]]], &quot;type&quot;: &quot;Polygon&quot;}, {&quot;coordinates&quot;: [[[13.92495, 50.965400009040955], [13.925000000000002, 50.965400009040955], [13.925000000000002, 50.965360009368155], [13.92495, 50.965360009368155], [13.92495, 50.965400009040955]]], &quot;type&quot;: &quot;Polygon&quot;}, {&quot;coordinates&quot;: [[[13.92495, 50.965360009368155], [13.925000000000002, 50.965360009368155], [13.925000000000002, 50.96532000966091], [13.92495, 50.96532000966091], [13.92495, 50.965360009368155]]], &quot;type&quot;: &quot;Polygon&quot;}, {&quot;coordinates&quot;: [[[13.92495, 50.96532000966091], [13.925000000000002, 50.96532000966091], [13.925000000000002, 50.965280009919226], [13.92495, 50.965280009919226], [13.92495, 50.96532000966091]]], &quot;type&quot;: &quot;Polygon&quot;}, {&quot;coordinates&quot;: [[[13.92495, 50.965280009919226], [13.925000000000002, 50.965280009919226], [13.925000000000002, 50.96524001014309], [13.92495, 50.96524001014309], [13.92495, 50.965280009919226]]], &quot;type&quot;: &quot;Polygon&quot;}, {&quot;coordinates&quot;: [[[13.92495, 50.96524001014309], [13.925000000000002, 50.96524001014309], [13.925000000000002, 50.96520001033253], [13.92495, 50.96520001033253], [13.92495, 50.96524001014309]]], &quot;type&quot;: &quot;Polygon&quot;}, {&quot;coordinates&quot;: [[[13.92495, 50.96520001033253], [13.925000000000002, 50.96520001033253], [13.925000000000002, 50.965160010487516], [13.92495, 50.965160010487516], [13.92495, 50.96520001033253]]], &quot;type&quot;: &quot;Polygon&quot;}, {&quot;coordinates&quot;: [[[13.92495, 50.965160010487516], [13.925000000000002, 50.965160010487516], [13.925000000000002, 50.96512001060807], [13.92495, 50.96512001060807], [13.92495, 50.965160010487516]]], &quot;type&quot;: &quot;Polygon&quot;}, {&quot;coordinates&quot;: [[[13.92495, 50.96512001060807], [13.925000000000002, 50.96512001060807], [13.925000000000002, 50.96508001069417], [13.92495, 50.96508001069417], [13.92495, 50.96512001060807]]], &quot;type&quot;: &quot;Polygon&quot;}, {&quot;coordinates&quot;: [[[13.92495, 50.96508001069417], [13.925000000000002, 50.96508001069417], [13.925000000000002, 50.96504001074583], [13.92495, 50.96504001074583], [13.92495, 50.96508001069417]]], &quot;type&quot;: &quot;Polygon&quot;}, {&quot;coordinates&quot;: [[[13.92495, 50.96504001074583], [13.925000000000002, 50.96504001074583], [13.925000000000002, 50.96500001076305], [13.92495, 50.96500001076305], [13.92495, 50.96504001074583]]], &quot;type&quot;: &quot;Polygon&quot;}, {&quot;coordinates&quot;: [[[13.92495, 50.96500001076305], [13.925000000000002, 50.96500001076305], [13.925000000000002, 50.964960010745834], [13.92495, 50.964960010745834], [13.92495, 50.96500001076305]]], &quot;type&quot;: &quot;Polygon&quot;}, {&quot;coordinates&quot;: [[[13.92495, 50.964960010745834], [13.925000000000002, 50.964960010745834], [13.925000000000002, 50.96492001069418], [13.92495, 50.96492001069418], [13.92495, 50.964960010745834]]], &quot;type&quot;: &quot;Polygon&quot;}, {&quot;coordinates&quot;: [[[13.92495, 50.96492001069418], [13.925000000000002, 50.96492001069418], [13.925000000000002, 50.96488001060807], [13.92495, 50.96488001060807], [13.92495, 50.96492001069418]]], &quot;type&quot;: &quot;Polygon&quot;}, {&quot;coordinates&quot;: [[[13.92495, 50.96488001060807], [13.925000000000002, 50.96488001060807], [13.925000000000002, 50.96484001048752], [13.92495, 50.96484001048752], [13.92495, 50.96488001060807]]], &quot;type&quot;: &quot;Polygon&quot;}, {&quot;coordinates&quot;: [[[13.92495, 50.96484001048752], [13.925000000000002, 50.96484001048752], [13.925000000000002, 50.964800010332546], [13.92495, 50.964800010332546], [13.92495, 50.96484001048752]]], &quot;type&quot;: &quot;Polygon&quot;}, {&quot;coordinates&quot;: [[[13.92495, 50.964800010332546], [13.925000000000002, 50.964800010332546], [13.925000000000002, 50.96476001014311], [13.92495, 50.96476001014311], [13.92495, 50.964800010332546]]], &quot;type&quot;: &quot;Polygon&quot;}, {&quot;coordinates&quot;: [[[13.92495, 50.96476001014311], [13.925000000000002, 50.96476001014311], [13.925000000000002, 50.96472000991924], [13.92495, 50.96472000991924], [13.92495, 50.96476001014311]]], &quot;type&quot;: &quot;Polygon&quot;}, {&quot;coordinates&quot;: [[[13.92495, 50.96472000991924], [13.925000000000002, 50.96472000991924], [13.925000000000002, 50.964680009660924], [13.92495, 50.964680009660924], [13.92495, 50.96472000991924]]], &quot;type&quot;: &quot;Polygon&quot;}, {&quot;coordinates&quot;: [[[13.92495, 50.964680009660924], [13.925000000000002, 50.964680009660924], [13.925000000000002, 50.96464000936817], [13.92495, 50.96464000936817], [13.92495, 50.964680009660924]]], &quot;type&quot;: &quot;Polygon&quot;}, {&quot;coordinates&quot;: [[[13.92495, 50.96464000936817], [13.925000000000002, 50.96464000936817], [13.925000000000002, 50.96460000904097], [13.92495, 50.96460000904097], [13.92495, 50.96464000936817]]], &quot;type&quot;: &quot;Polygon&quot;}, {&quot;coordinates&quot;: [[[13.92495, 50.96460000904097], [13.925000000000002, 50.96460000904097], [13.925000000000002, 50.96456000867934], [13.92495, 50.96456000867934], [13.92495, 50.96460000904097]]], &quot;type&quot;: &quot;Polygon&quot;}, {&quot;coordinates&quot;: [[[13.92495, 50.96456000867934], [13.925000000000002, 50.96456000867934], [13.925000000000002, 50.96452000828325], [13.92495, 50.96452000828325], [13.92495, 50.96456000867934]]], &quot;type&quot;: &quot;Polygon&quot;}, {&quot;coordinates&quot;: [[[13.92495, 50.96452000828325], [13.925000000000002, 50.96452000828325], [13.925000000000002, 50.964480007852735], [13.92495, 50.964480007852735], [13.92495, 50.96452000828325]]], &quot;type&quot;: &quot;Polygon&quot;}, {&quot;coordinates&quot;: [[[13.92495, 50.964480007852735], [13.925000000000002, 50.964480007852735], [13.925000000000002, 50.96444000738777], [13.92495, 50.96444000738777], [13.92495, 50.964480007852735]]], &quot;type&quot;: &quot;Polygon&quot;}, {&quot;coordinates&quot;: [[[13.92495, 50.96444000738777], [13.925000000000002, 50.96444000738777], [13.925000000000002, 50.96440000688836], [13.92495, 50.96440000688836], [13.92495, 50.96444000738777]]], &quot;type&quot;: &quot;Polygon&quot;}, {&quot;coordinates&quot;: [[[13.92495, 50.96440000688836], [13.925000000000002, 50.96440000688836], [13.925000000000002, 50.96436000635452], [13.92495, 50.96436000635452], [13.92495, 50.96440000688836]]], &quot;type&quot;: &quot;Polygon&quot;}, {&quot;coordinates&quot;: [[[13.92495, 50.96436000635452], [13.925000000000002, 50.96436000635452], [13.925000000000002, 50.96432000578623], [13.92495, 50.96432000578623], [13.92495, 50.96436000635452]]], &quot;type&quot;: &quot;Polygon&quot;}, {&quot;coordinates&quot;: [[[13.92495, 50.96432000578623], [13.925000000000002, 50.96432000578623], [13.925000000000002, 50.9642800051835], [13.92495, 50.9642800051835], [13.92495, 50.96432000578623]]], &quot;type&quot;: &quot;Polygon&quot;}, {&quot;coordinates&quot;: [[[13.92495, 50.9642800051835], [13.925000000000002, 50.9642800051835], [13.925000000000002, 50.96424000454632], [13.92495, 50.96424000454632], [13.92495, 50.9642800051835]]], &quot;type&quot;: &quot;Polygon&quot;}, {&quot;coordinates&quot;: [[[13.92495, 50.96424000454632], [13.925000000000002, 50.96424000454632], [13.925000000000002, 50.96420000387471], [13.92495, 50.96420000387471], [13.92495, 50.96424000454632]]], &quot;type&quot;: &quot;Polygon&quot;}, {&quot;coordinates&quot;: [[[13.92495, 50.96420000387471], [13.925000000000002, 50.96420000387471], [13.925000000000002, 50.964160003168644], [13.92495, 50.964160003168644], [13.92495, 50.96420000387471]]], &quot;type&quot;: &quot;Polygon&quot;}, {&quot;coordinates&quot;: [[[13.92495, 50.964160003168644], [13.925000000000002, 50.964160003168644], [13.925000000000002, 50.964120002428146], [13.92495, 50.964120002428146], [13.92495, 50.964160003168644]]], &quot;type&quot;: &quot;Polygon&quot;}, {&quot;coordinates&quot;: [[[13.92495, 50.964120002428146], [13.925000000000002, 50.964120002428146], [13.925000000000002, 50.96408000165321], [13.92495, 50.96408000165321], [13.92495, 50.964120002428146]]], &quot;type&quot;: &quot;Polygon&quot;}, {&quot;coordinates&quot;: [[[13.92495, 50.96408000165321], [13.925000000000002, 50.96408000165321], [13.925000000000002, 50.964040000843816], [13.92495, 50.964040000843816], [13.92495, 50.96408000165321]]], &quot;type&quot;: &quot;Polygon&quot;}, {&quot;coordinates&quot;: [[[13.92495, 50.964040000843816], [13.925000000000002, 50.964040000843816], [13.925000000000002, 50.96399999999999], [13.92495, 50.96399999999999], [13.92495, 50.964040000843816]]], &quot;type&quot;: &quot;Polygon&quot;}], &quot;type&quot;: &quot;GeometryCollection&quot;});\n",
       "\n",
       "        \n",
       "    \n",
       "            geo_json_a9b0f5f3fd71d09a8692886cbc30c247.addTo(map_1da3d110a0a5387d46962b141cf3c795);\n",
       "        \n",
       "    \n",
       "\n",
       "        function geo_json_0860045b8019b9c2a348286a8628f61b_onEachFeature(feature, layer) {\n",
       "            layer.on({\n",
       "            });\n",
       "        };\n",
       "        var geo_json_0860045b8019b9c2a348286a8628f61b = L.geoJson(null, {\n",
       "                onEachFeature: geo_json_0860045b8019b9c2a348286a8628f61b_onEachFeature,\n",
       "            \n",
       "        });\n",
       "\n",
       "        function geo_json_0860045b8019b9c2a348286a8628f61b_add (data) {\n",
       "            geo_json_0860045b8019b9c2a348286a8628f61b\n",
       "                .addData(data);\n",
       "        }\n",
       "            geo_json_0860045b8019b9c2a348286a8628f61b_add({&quot;coordinates&quot;: [13.92499, 50.966], &quot;type&quot;: &quot;Point&quot;});\n",
       "\n",
       "        \n",
       "    \n",
       "            geo_json_0860045b8019b9c2a348286a8628f61b.addTo(map_1da3d110a0a5387d46962b141cf3c795);\n",
       "        \n",
       "    \n",
       "\n",
       "        function geo_json_4e4bb8a299de604fcfb1b672554ee9b4_onEachFeature(feature, layer) {\n",
       "            layer.on({\n",
       "            });\n",
       "        };\n",
       "        var geo_json_4e4bb8a299de604fcfb1b672554ee9b4 = L.geoJson(null, {\n",
       "                onEachFeature: geo_json_4e4bb8a299de604fcfb1b672554ee9b4_onEachFeature,\n",
       "            \n",
       "        });\n",
       "\n",
       "        function geo_json_4e4bb8a299de604fcfb1b672554ee9b4_add (data) {\n",
       "            geo_json_4e4bb8a299de604fcfb1b672554ee9b4\n",
       "                .addData(data);\n",
       "        }\n",
       "            geo_json_4e4bb8a299de604fcfb1b672554ee9b4_add({&quot;coordinates&quot;: [[13.92004, 50.96401], [13.92004, 50.96599]], &quot;type&quot;: &quot;LineString&quot;});\n",
       "\n",
       "        \n",
       "    \n",
       "            geo_json_4e4bb8a299de604fcfb1b672554ee9b4.addTo(map_1da3d110a0a5387d46962b141cf3c795);\n",
       "        \n",
       "    \n",
       "\n",
       "        function geo_json_6e4cb19d7debf0ac82e87dad8dbb4186_onEachFeature(feature, layer) {\n",
       "            layer.on({\n",
       "            });\n",
       "        };\n",
       "        var geo_json_6e4cb19d7debf0ac82e87dad8dbb4186 = L.geoJson(null, {\n",
       "                onEachFeature: geo_json_6e4cb19d7debf0ac82e87dad8dbb4186_onEachFeature,\n",
       "            \n",
       "        });\n",
       "\n",
       "        function geo_json_6e4cb19d7debf0ac82e87dad8dbb4186_add (data) {\n",
       "            geo_json_6e4cb19d7debf0ac82e87dad8dbb4186\n",
       "                .addData(data);\n",
       "        }\n",
       "            geo_json_6e4cb19d7debf0ac82e87dad8dbb4186_add({&quot;geometries&quot;: [{&quot;coordinates&quot;: [[[13.920000000000002, 50.965999999999994], [13.920050000000002, 50.965999999999994], [13.920050000000002, 50.965960000843815], [13.920000000000002, 50.965960000843815], [13.920000000000002, 50.965999999999994]]], &quot;type&quot;: &quot;Polygon&quot;}, {&quot;coordinates&quot;: [[[13.920000000000002, 50.965960000843815], [13.920050000000002, 50.965960000843815], [13.920050000000002, 50.965920001653195], [13.920000000000002, 50.965920001653195], [13.920000000000002, 50.965960000843815]]], &quot;type&quot;: &quot;Polygon&quot;}, {&quot;coordinates&quot;: [[[13.920000000000002, 50.965920001653195], [13.920050000000002, 50.965920001653195], [13.920050000000002, 50.965880002428136], [13.920000000000002, 50.965880002428136], [13.920000000000002, 50.965920001653195]]], &quot;type&quot;: &quot;Polygon&quot;}, {&quot;coordinates&quot;: [[[13.920000000000002, 50.965880002428136], [13.920050000000002, 50.965880002428136], [13.920050000000002, 50.96584000316863], [13.920000000000002, 50.96584000316863], [13.920000000000002, 50.965880002428136]]], &quot;type&quot;: &quot;Polygon&quot;}, {&quot;coordinates&quot;: [[[13.920000000000002, 50.96584000316863], [13.920050000000002, 50.96584000316863], [13.920050000000002, 50.96580000387468], [13.920000000000002, 50.96580000387468], [13.920000000000002, 50.96584000316863]]], &quot;type&quot;: &quot;Polygon&quot;}, {&quot;coordinates&quot;: [[[13.920000000000002, 50.96580000387468], [13.920050000000002, 50.96580000387468], [13.920050000000002, 50.965760004546304], [13.920000000000002, 50.965760004546304], [13.920000000000002, 50.96580000387468]]], &quot;type&quot;: &quot;Polygon&quot;}, {&quot;coordinates&quot;: [[[13.920000000000002, 50.965760004546304], [13.920050000000002, 50.965760004546304], [13.920050000000002, 50.96572000518347], [13.920000000000002, 50.96572000518347], [13.920000000000002, 50.965760004546304]]], &quot;type&quot;: &quot;Polygon&quot;}, {&quot;coordinates&quot;: [[[13.920000000000002, 50.96572000518347], [13.920050000000002, 50.96572000518347], [13.920050000000002, 50.9656800057862], [13.920000000000002, 50.9656800057862], [13.920000000000002, 50.96572000518347]]], &quot;type&quot;: &quot;Polygon&quot;}, {&quot;coordinates&quot;: [[[13.920000000000002, 50.9656800057862], [13.920050000000002, 50.9656800057862], [13.920050000000002, 50.9656400063545], [13.920000000000002, 50.9656400063545], [13.920000000000002, 50.9656800057862]]], &quot;type&quot;: &quot;Polygon&quot;}, {&quot;coordinates&quot;: [[[13.920000000000002, 50.9656400063545], [13.920050000000002, 50.9656400063545], [13.920050000000002, 50.965600006888344], [13.920000000000002, 50.965600006888344], [13.920000000000002, 50.9656400063545]]], &quot;type&quot;: &quot;Polygon&quot;}, {&quot;coordinates&quot;: [[[13.920000000000002, 50.965600006888344], [13.920050000000002, 50.965600006888344], [13.920050000000002, 50.965560007387744], [13.920000000000002, 50.965560007387744], [13.920000000000002, 50.965600006888344]]], &quot;type&quot;: &quot;Polygon&quot;}, {&quot;coordinates&quot;: [[[13.920000000000002, 50.965560007387744], [13.920050000000002, 50.965560007387744], [13.920050000000002, 50.96552000785271], [13.920000000000002, 50.96552000785271], [13.920000000000002, 50.965560007387744]]], &quot;type&quot;: &quot;Polygon&quot;}, {&quot;coordinates&quot;: [[[13.920000000000002, 50.96552000785271], [13.920050000000002, 50.96552000785271], [13.920050000000002, 50.96548000828324], [13.920000000000002, 50.96548000828324], [13.920000000000002, 50.96552000785271]]], &quot;type&quot;: &quot;Polygon&quot;}, {&quot;coordinates&quot;: [[[13.920000000000002, 50.96548000828324], [13.920050000000002, 50.96548000828324], [13.920050000000002, 50.965440008679316], [13.920000000000002, 50.965440008679316], [13.920000000000002, 50.96548000828324]]], &quot;type&quot;: &quot;Polygon&quot;}, {&quot;coordinates&quot;: [[[13.920000000000002, 50.965440008679316], [13.920050000000002, 50.965440008679316], [13.920050000000002, 50.965400009040955], [13.920000000000002, 50.965400009040955], [13.920000000000002, 50.965440008679316]]], &quot;type&quot;: &quot;Polygon&quot;}, {&quot;coordinates&quot;: [[[13.920000000000002, 50.965400009040955], [13.920050000000002, 50.965400009040955], [13.920050000000002, 50.965360009368155], [13.920000000000002, 50.965360009368155], [13.920000000000002, 50.965400009040955]]], &quot;type&quot;: &quot;Polygon&quot;}, {&quot;coordinates&quot;: [[[13.920000000000002, 50.965360009368155], [13.920050000000002, 50.965360009368155], [13.920050000000002, 50.96532000966091], [13.920000000000002, 50.96532000966091], [13.920000000000002, 50.965360009368155]]], &quot;type&quot;: &quot;Polygon&quot;}, {&quot;coordinates&quot;: [[[13.920000000000002, 50.96532000966091], [13.920050000000002, 50.96532000966091], [13.920050000000002, 50.965280009919226], [13.920000000000002, 50.965280009919226], [13.920000000000002, 50.96532000966091]]], &quot;type&quot;: &quot;Polygon&quot;}, {&quot;coordinates&quot;: [[[13.920000000000002, 50.965280009919226], [13.920050000000002, 50.965280009919226], [13.920050000000002, 50.96524001014309], [13.920000000000002, 50.96524001014309], [13.920000000000002, 50.965280009919226]]], &quot;type&quot;: &quot;Polygon&quot;}, {&quot;coordinates&quot;: [[[13.920000000000002, 50.96524001014309], [13.920050000000002, 50.96524001014309], [13.920050000000002, 50.96520001033253], [13.920000000000002, 50.96520001033253], [13.920000000000002, 50.96524001014309]]], &quot;type&quot;: &quot;Polygon&quot;}, {&quot;coordinates&quot;: [[[13.920000000000002, 50.96520001033253], [13.920050000000002, 50.96520001033253], [13.920050000000002, 50.965160010487516], [13.920000000000002, 50.965160010487516], [13.920000000000002, 50.96520001033253]]], &quot;type&quot;: &quot;Polygon&quot;}, {&quot;coordinates&quot;: [[[13.920000000000002, 50.965160010487516], [13.920050000000002, 50.965160010487516], [13.920050000000002, 50.96512001060807], [13.920000000000002, 50.96512001060807], [13.920000000000002, 50.965160010487516]]], &quot;type&quot;: &quot;Polygon&quot;}, {&quot;coordinates&quot;: [[[13.920000000000002, 50.96512001060807], [13.920050000000002, 50.96512001060807], [13.920050000000002, 50.96508001069417], [13.920000000000002, 50.96508001069417], [13.920000000000002, 50.96512001060807]]], &quot;type&quot;: &quot;Polygon&quot;}, {&quot;coordinates&quot;: [[[13.920000000000002, 50.96508001069417], [13.920050000000002, 50.96508001069417], [13.920050000000002, 50.96504001074583], [13.920000000000002, 50.96504001074583], [13.920000000000002, 50.96508001069417]]], &quot;type&quot;: &quot;Polygon&quot;}, {&quot;coordinates&quot;: [[[13.920000000000002, 50.96504001074583], [13.920050000000002, 50.96504001074583], [13.920050000000002, 50.96500001076305], [13.920000000000002, 50.96500001076305], [13.920000000000002, 50.96504001074583]]], &quot;type&quot;: &quot;Polygon&quot;}, {&quot;coordinates&quot;: [[[13.920000000000002, 50.96500001076305], [13.920050000000002, 50.96500001076305], [13.920050000000002, 50.964960010745834], [13.920000000000002, 50.964960010745834], [13.920000000000002, 50.96500001076305]]], &quot;type&quot;: &quot;Polygon&quot;}, {&quot;coordinates&quot;: [[[13.920000000000002, 50.964960010745834], [13.920050000000002, 50.964960010745834], [13.920050000000002, 50.96492001069418], [13.920000000000002, 50.96492001069418], [13.920000000000002, 50.964960010745834]]], &quot;type&quot;: &quot;Polygon&quot;}, {&quot;coordinates&quot;: [[[13.920000000000002, 50.96492001069418], [13.920050000000002, 50.96492001069418], [13.920050000000002, 50.96488001060807], [13.920000000000002, 50.96488001060807], [13.920000000000002, 50.96492001069418]]], &quot;type&quot;: &quot;Polygon&quot;}, {&quot;coordinates&quot;: [[[13.920000000000002, 50.96488001060807], [13.920050000000002, 50.96488001060807], [13.920050000000002, 50.96484001048752], [13.920000000000002, 50.96484001048752], [13.920000000000002, 50.96488001060807]]], &quot;type&quot;: &quot;Polygon&quot;}, {&quot;coordinates&quot;: [[[13.920000000000002, 50.96484001048752], [13.920050000000002, 50.96484001048752], [13.920050000000002, 50.964800010332546], [13.920000000000002, 50.964800010332546], [13.920000000000002, 50.96484001048752]]], &quot;type&quot;: &quot;Polygon&quot;}, {&quot;coordinates&quot;: [[[13.920000000000002, 50.964800010332546], [13.920050000000002, 50.964800010332546], [13.920050000000002, 50.96476001014311], [13.920000000000002, 50.96476001014311], [13.920000000000002, 50.964800010332546]]], &quot;type&quot;: &quot;Polygon&quot;}, {&quot;coordinates&quot;: [[[13.920000000000002, 50.96476001014311], [13.920050000000002, 50.96476001014311], [13.920050000000002, 50.96472000991924], [13.920000000000002, 50.96472000991924], [13.920000000000002, 50.96476001014311]]], &quot;type&quot;: &quot;Polygon&quot;}, {&quot;coordinates&quot;: [[[13.920000000000002, 50.96472000991924], [13.920050000000002, 50.96472000991924], [13.920050000000002, 50.964680009660924], [13.920000000000002, 50.964680009660924], [13.920000000000002, 50.96472000991924]]], &quot;type&quot;: &quot;Polygon&quot;}, {&quot;coordinates&quot;: [[[13.920000000000002, 50.964680009660924], [13.920050000000002, 50.964680009660924], [13.920050000000002, 50.96464000936817], [13.920000000000002, 50.96464000936817], [13.920000000000002, 50.964680009660924]]], &quot;type&quot;: &quot;Polygon&quot;}, {&quot;coordinates&quot;: [[[13.920000000000002, 50.96464000936817], [13.920050000000002, 50.96464000936817], [13.920050000000002, 50.96460000904097], [13.920000000000002, 50.96460000904097], [13.920000000000002, 50.96464000936817]]], &quot;type&quot;: &quot;Polygon&quot;}, {&quot;coordinates&quot;: [[[13.920000000000002, 50.96460000904097], [13.920050000000002, 50.96460000904097], [13.920050000000002, 50.96456000867934], [13.920000000000002, 50.96456000867934], [13.920000000000002, 50.96460000904097]]], &quot;type&quot;: &quot;Polygon&quot;}, {&quot;coordinates&quot;: [[[13.920000000000002, 50.96456000867934], [13.920050000000002, 50.96456000867934], [13.920050000000002, 50.96452000828325], [13.920000000000002, 50.96452000828325], [13.920000000000002, 50.96456000867934]]], &quot;type&quot;: &quot;Polygon&quot;}, {&quot;coordinates&quot;: [[[13.920000000000002, 50.96452000828325], [13.920050000000002, 50.96452000828325], [13.920050000000002, 50.964480007852735], [13.920000000000002, 50.964480007852735], [13.920000000000002, 50.96452000828325]]], &quot;type&quot;: &quot;Polygon&quot;}, {&quot;coordinates&quot;: [[[13.920000000000002, 50.964480007852735], [13.920050000000002, 50.964480007852735], [13.920050000000002, 50.96444000738777], [13.920000000000002, 50.96444000738777], [13.920000000000002, 50.964480007852735]]], &quot;type&quot;: &quot;Polygon&quot;}, {&quot;coordinates&quot;: [[[13.920000000000002, 50.96444000738777], [13.920050000000002, 50.96444000738777], [13.920050000000002, 50.96440000688836], [13.920000000000002, 50.96440000688836], [13.920000000000002, 50.96444000738777]]], &quot;type&quot;: &quot;Polygon&quot;}, {&quot;coordinates&quot;: [[[13.920000000000002, 50.96440000688836], [13.920050000000002, 50.96440000688836], [13.920050000000002, 50.96436000635452], [13.920000000000002, 50.96436000635452], [13.920000000000002, 50.96440000688836]]], &quot;type&quot;: &quot;Polygon&quot;}, {&quot;coordinates&quot;: [[[13.920000000000002, 50.96436000635452], [13.920050000000002, 50.96436000635452], [13.920050000000002, 50.96432000578623], [13.920000000000002, 50.96432000578623], [13.920000000000002, 50.96436000635452]]], &quot;type&quot;: &quot;Polygon&quot;}, {&quot;coordinates&quot;: [[[13.920000000000002, 50.96432000578623], [13.920050000000002, 50.96432000578623], [13.920050000000002, 50.9642800051835], [13.920000000000002, 50.9642800051835], [13.920000000000002, 50.96432000578623]]], &quot;type&quot;: &quot;Polygon&quot;}, {&quot;coordinates&quot;: [[[13.920000000000002, 50.9642800051835], [13.920050000000002, 50.9642800051835], [13.920050000000002, 50.96424000454632], [13.920000000000002, 50.96424000454632], [13.920000000000002, 50.9642800051835]]], &quot;type&quot;: &quot;Polygon&quot;}, {&quot;coordinates&quot;: [[[13.920000000000002, 50.96424000454632], [13.920050000000002, 50.96424000454632], [13.920050000000002, 50.96420000387471], [13.920000000000002, 50.96420000387471], [13.920000000000002, 50.96424000454632]]], &quot;type&quot;: &quot;Polygon&quot;}, {&quot;coordinates&quot;: [[[13.920000000000002, 50.96420000387471], [13.920050000000002, 50.96420000387471], [13.920050000000002, 50.964160003168644], [13.920000000000002, 50.964160003168644], [13.920000000000002, 50.96420000387471]]], &quot;type&quot;: &quot;Polygon&quot;}, {&quot;coordinates&quot;: [[[13.920000000000002, 50.964160003168644], [13.920050000000002, 50.964160003168644], [13.920050000000002, 50.964120002428146], [13.920000000000002, 50.964120002428146], [13.920000000000002, 50.964160003168644]]], &quot;type&quot;: &quot;Polygon&quot;}, {&quot;coordinates&quot;: [[[13.920000000000002, 50.964120002428146], [13.920050000000002, 50.964120002428146], [13.920050000000002, 50.96408000165321], [13.920000000000002, 50.96408000165321], [13.920000000000002, 50.964120002428146]]], &quot;type&quot;: &quot;Polygon&quot;}, {&quot;coordinates&quot;: [[[13.920000000000002, 50.96408000165321], [13.920050000000002, 50.96408000165321], [13.920050000000002, 50.964040000843816], [13.920000000000002, 50.964040000843816], [13.920000000000002, 50.96408000165321]]], &quot;type&quot;: &quot;Polygon&quot;}, {&quot;coordinates&quot;: [[[13.920000000000002, 50.964040000843816], [13.920050000000002, 50.964040000843816], [13.920050000000002, 50.96399999999999], [13.920000000000002, 50.96399999999999], [13.920000000000002, 50.964040000843816]]], &quot;type&quot;: &quot;Polygon&quot;}], &quot;type&quot;: &quot;GeometryCollection&quot;});\n",
       "\n",
       "        \n",
       "    \n",
       "            geo_json_6e4cb19d7debf0ac82e87dad8dbb4186.addTo(map_1da3d110a0a5387d46962b141cf3c795);\n",
       "        \n",
       "    \n",
       "\n",
       "        function geo_json_e069356b0b87edc19bc0377c2ec45f42_onEachFeature(feature, layer) {\n",
       "            layer.on({\n",
       "            });\n",
       "        };\n",
       "        var geo_json_e069356b0b87edc19bc0377c2ec45f42 = L.geoJson(null, {\n",
       "                onEachFeature: geo_json_e069356b0b87edc19bc0377c2ec45f42_onEachFeature,\n",
       "            \n",
       "        });\n",
       "\n",
       "        function geo_json_e069356b0b87edc19bc0377c2ec45f42_add (data) {\n",
       "            geo_json_e069356b0b87edc19bc0377c2ec45f42\n",
       "                .addData(data);\n",
       "        }\n",
       "            geo_json_e069356b0b87edc19bc0377c2ec45f42_add({&quot;coordinates&quot;: [13.92004, 50.96599], &quot;type&quot;: &quot;Point&quot;});\n",
       "\n",
       "        \n",
       "    \n",
       "            geo_json_e069356b0b87edc19bc0377c2ec45f42.addTo(map_1da3d110a0a5387d46962b141cf3c795);\n",
       "        \n",
       "    \n",
       "            map_1da3d110a0a5387d46962b141cf3c795.fitBounds(\n",
       "                [[50.964, 13.92], [50.966, 13.925000000000002]],\n",
       "                {}\n",
       "            );\n",
       "        \n",
       "&lt;/script&gt;\n",
       "&lt;/html&gt;\" style=\"position:absolute;width:100%;height:100%;left:0;top:0;border:none !important;\" allowfullscreen webkitallowfullscreen mozallowfullscreen></iframe></div></div>"
      ],
      "text/plain": [
       "<folium.folium.Map at 0x12f042f30>"
      ]
     },
     "execution_count": 6,
     "metadata": {},
     "output_type": "execute_result"
    }
   ],
   "source": [
    "from morpheus.project.types.boundaries.GeneralHeadObservation import ObservationId, ObservationName, GeneralHeadRawDataItem, \\\n",
    "  GeneralHeadObservation, Stage, Conductance\n",
    "from morpheus.project.types.geometry import Point\n",
    "from morpheus.project.types.boundaries.Boundary import BoundaryName, BoundaryCollection\n",
    "from morpheus.project.types.layers import LayerId\n",
    "from morpheus.project.types.boundaries.Boundary import GeneralHeadBoundary\n",
    "\n",
    "layers_list = [LayerId.new()]\n",
    "\n",
    "general_head_east = GeneralHeadBoundary.from_geometry(\n",
    "  name=BoundaryName('general_head_east'),\n",
    "  geometry=LineString([\n",
    "    (13.92499, 50.966),\n",
    "    (13.92499, 50.964),\n",
    "  ]),\n",
    "  grid=grid,\n",
    "  affected_layers=[model.layers[0].layer_id],\n",
    "  observations=[\n",
    "    GeneralHeadObservation(\n",
    "      observation_id=ObservationId.new(),\n",
    "      observation_name=ObservationName.default(),\n",
    "      geometry=Point((13.92499, 50.966)),\n",
    "      data=[\n",
    "        GeneralHeadRawDataItem(\n",
    "          date_time=StartDateTime.from_datetime(datetime(2019, 1, 1)),\n",
    "          stage=Stage.from_float(100),\n",
    "          conductance=Conductance.from_float(100),\n",
    "        ),\n",
    "        GeneralHeadRawDataItem(\n",
    "          date_time=StartDateTime.from_datetime(datetime(2021, 12, 31)),\n",
    "          stage=Stage.from_float(100),\n",
    "          conductance=Conductance.from_float(100),\n",
    "        ),\n",
    "      ]\n",
    "    ),\n",
    "  ]\n",
    ")\n",
    "\n",
    "general_head_west = GeneralHeadBoundary.from_geometry(\n",
    "  name=BoundaryName('general_head_west'),\n",
    "  geometry=LineString([\n",
    "    (13.92004, 50.96401),\n",
    "    (13.92004, 50.96599),\n",
    "  ]),\n",
    "  grid=grid,\n",
    "  affected_layers=[model.layers[0].layer_id],\n",
    "  observations=[\n",
    "    GeneralHeadObservation(\n",
    "      observation_id=ObservationId.new(),\n",
    "      observation_name=ObservationName.default(),\n",
    "      geometry=Point((13.92004, 50.96599)),\n",
    "      data=[\n",
    "        GeneralHeadRawDataItem(\n",
    "          date_time=StartDateTime.from_datetime(datetime(2019, 1, 1)),\n",
    "          stage=Stage.from_float(120),\n",
    "          conductance=Conductance.from_float(300),\n",
    "        ),\n",
    "        GeneralHeadRawDataItem(\n",
    "          date_time=StartDateTime.from_datetime(datetime(2021, 12, 31)),\n",
    "          stage=Stage.from_float(120),\n",
    "          conductance=Conductance.from_float(300),\n",
    "        ),\n",
    "      ]\n",
    "    ),\n",
    "  ]\n",
    ")\n",
    "\n",
    "boundary_collection = BoundaryCollection.new()\n",
    "boundary_collection.add_boundary(general_head_west)\n",
    "boundary_collection.add_boundary(general_head_east)\n",
    "\n",
    "model = model.with_updated_boundaries(boundaries=boundary_collection)\n",
    "\n",
    "m.add_child(folium.GeoJson(general_head_east.as_geojson()))\n",
    "m.add_child(folium.GeoJson(general_head_east.affected_cells.to_geojson(grid).as_geojson()))\n",
    "for observation in general_head_east.observations:\n",
    "  m.add_child(folium.GeoJson(observation.as_geojson()))\n",
    "\n",
    "m.add_child(folium.GeoJson(general_head_west.as_geojson()))\n",
    "m.add_child(folium.GeoJson(general_head_west.affected_cells.to_geojson(grid).as_geojson()))\n",
    "for observation in general_head_west.observations:\n",
    "  m.add_child(folium.GeoJson(observation.as_geojson()))\n",
    "m.fit_bounds(m.get_bounds())\n",
    "m"
   ]
  },
  {
   "cell_type": "markdown",
   "id": "c77083343e8d9b41",
   "metadata": {
    "collapsed": false,
    "papermill": {
     "duration": 0.002324,
     "end_time": "2024-06-20T19:03:14.091456",
     "exception": false,
     "start_time": "2024-06-20T19:03:14.089132",
     "status": "completed"
    },
    "tags": []
   },
   "source": [
    "# Setup Head Observations"
   ]
  },
  {
   "cell_type": "code",
   "execution_count": 7,
   "id": "b51fc5e6c932e70a",
   "metadata": {
    "ExecuteTime": {
     "end_time": "2024-06-20T18:54:22.820937Z",
     "start_time": "2024-06-20T18:54:21.961764Z"
    },
    "collapsed": false,
    "execution": {
     "iopub.execute_input": "2024-06-20T19:03:14.096512Z",
     "iopub.status.busy": "2024-06-20T19:03:14.096382Z",
     "iopub.status.idle": "2024-06-20T19:03:14.930834Z",
     "shell.execute_reply": "2024-06-20T19:03:14.930599Z"
    },
    "papermill": {
     "duration": 0.837981,
     "end_time": "2024-06-20T19:03:14.931660",
     "exception": false,
     "start_time": "2024-06-20T19:03:14.093679",
     "status": "completed"
    },
    "tags": []
   },
   "outputs": [
    {
     "data": {
      "text/html": [
       "<div style=\"width:100%;\"><div style=\"position:relative;width:100%;height:0;padding-bottom:60%;\"><span style=\"color:#565656\">Make this Notebook Trusted to load map: File -> Trust Notebook</span><iframe srcdoc=\"&lt;!DOCTYPE html&gt;\n",
       "&lt;html&gt;\n",
       "&lt;head&gt;\n",
       "    \n",
       "    &lt;meta http-equiv=&quot;content-type&quot; content=&quot;text/html; charset=UTF-8&quot; /&gt;\n",
       "    \n",
       "        &lt;script&gt;\n",
       "            L_NO_TOUCH = false;\n",
       "            L_DISABLE_3D = false;\n",
       "        &lt;/script&gt;\n",
       "    \n",
       "    &lt;style&gt;html, body {width: 100%;height: 100%;margin: 0;padding: 0;}&lt;/style&gt;\n",
       "    &lt;style&gt;#map {position:absolute;top:0;bottom:0;right:0;left:0;}&lt;/style&gt;\n",
       "    &lt;script src=&quot;https://cdn.jsdelivr.net/npm/leaflet@1.9.3/dist/leaflet.js&quot;&gt;&lt;/script&gt;\n",
       "    &lt;script src=&quot;https://code.jquery.com/jquery-3.7.1.min.js&quot;&gt;&lt;/script&gt;\n",
       "    &lt;script src=&quot;https://cdn.jsdelivr.net/npm/bootstrap@5.2.2/dist/js/bootstrap.bundle.min.js&quot;&gt;&lt;/script&gt;\n",
       "    &lt;script src=&quot;https://cdnjs.cloudflare.com/ajax/libs/Leaflet.awesome-markers/2.0.2/leaflet.awesome-markers.js&quot;&gt;&lt;/script&gt;\n",
       "    &lt;link rel=&quot;stylesheet&quot; href=&quot;https://cdn.jsdelivr.net/npm/leaflet@1.9.3/dist/leaflet.css&quot;/&gt;\n",
       "    &lt;link rel=&quot;stylesheet&quot; href=&quot;https://cdn.jsdelivr.net/npm/bootstrap@5.2.2/dist/css/bootstrap.min.css&quot;/&gt;\n",
       "    &lt;link rel=&quot;stylesheet&quot; href=&quot;https://netdna.bootstrapcdn.com/bootstrap/3.0.0/css/bootstrap.min.css&quot;/&gt;\n",
       "    &lt;link rel=&quot;stylesheet&quot; href=&quot;https://cdn.jsdelivr.net/npm/@fortawesome/fontawesome-free@6.2.0/css/all.min.css&quot;/&gt;\n",
       "    &lt;link rel=&quot;stylesheet&quot; href=&quot;https://cdnjs.cloudflare.com/ajax/libs/Leaflet.awesome-markers/2.0.2/leaflet.awesome-markers.css&quot;/&gt;\n",
       "    &lt;link rel=&quot;stylesheet&quot; href=&quot;https://cdn.jsdelivr.net/gh/python-visualization/folium/folium/templates/leaflet.awesome.rotate.min.css&quot;/&gt;\n",
       "    \n",
       "            &lt;meta name=&quot;viewport&quot; content=&quot;width=device-width,\n",
       "                initial-scale=1.0, maximum-scale=1.0, user-scalable=no&quot; /&gt;\n",
       "            &lt;style&gt;\n",
       "                #map_1da3d110a0a5387d46962b141cf3c795 {\n",
       "                    position: relative;\n",
       "                    width: 100.0%;\n",
       "                    height: 100.0%;\n",
       "                    left: 0.0%;\n",
       "                    top: 0.0%;\n",
       "                }\n",
       "                .leaflet-container { font-size: 1rem; }\n",
       "            &lt;/style&gt;\n",
       "        \n",
       "&lt;/head&gt;\n",
       "&lt;body&gt;\n",
       "    \n",
       "    \n",
       "            &lt;div class=&quot;folium-map&quot; id=&quot;map_1da3d110a0a5387d46962b141cf3c795&quot; &gt;&lt;/div&gt;\n",
       "        \n",
       "&lt;/body&gt;\n",
       "&lt;script&gt;\n",
       "    \n",
       "    \n",
       "            var map_1da3d110a0a5387d46962b141cf3c795 = L.map(\n",
       "                &quot;map_1da3d110a0a5387d46962b141cf3c795&quot;,\n",
       "                {\n",
       "                    center: [50.965, 13.922],\n",
       "                    crs: L.CRS.EPSG3857,\n",
       "                    zoom: 12,\n",
       "                    zoomControl: true,\n",
       "                    preferCanvas: false,\n",
       "                }\n",
       "            );\n",
       "\n",
       "            \n",
       "\n",
       "        \n",
       "    \n",
       "            var tile_layer_e5468318199e23d57c6d82be98df2b44 = L.tileLayer(\n",
       "                &quot;https://{s}.basemaps.cartocdn.com/light_all/{z}/{x}/{y}{r}.png&quot;,\n",
       "                {&quot;attribution&quot;: &quot;\\u0026copy; \\u003ca href=\\&quot;https://www.openstreetmap.org/copyright\\&quot;\\u003eOpenStreetMap\\u003c/a\\u003e contributors \\u0026copy; \\u003ca href=\\&quot;https://carto.com/attributions\\&quot;\\u003eCARTO\\u003c/a\\u003e&quot;, &quot;detectRetina&quot;: false, &quot;maxNativeZoom&quot;: 20, &quot;maxZoom&quot;: 20, &quot;minZoom&quot;: 0, &quot;noWrap&quot;: false, &quot;opacity&quot;: 1, &quot;subdomains&quot;: &quot;abcd&quot;, &quot;tms&quot;: false}\n",
       "            );\n",
       "        \n",
       "    \n",
       "            tile_layer_e5468318199e23d57c6d82be98df2b44.addTo(map_1da3d110a0a5387d46962b141cf3c795);\n",
       "        \n",
       "    \n",
       "\n",
       "        function geo_json_a8c0614ac23c9085d8e5cc04190efaf6_onEachFeature(feature, layer) {\n",
       "            layer.on({\n",
       "            });\n",
       "        };\n",
       "        var geo_json_a8c0614ac23c9085d8e5cc04190efaf6 = L.geoJson(null, {\n",
       "                onEachFeature: geo_json_a8c0614ac23c9085d8e5cc04190efaf6_onEachFeature,\n",
       "            \n",
       "        });\n",
       "\n",
       "        function geo_json_a8c0614ac23c9085d8e5cc04190efaf6_add (data) {\n",
       "            geo_json_a8c0614ac23c9085d8e5cc04190efaf6\n",
       "                .addData(data);\n",
       "        }\n",
       "            geo_json_a8c0614ac23c9085d8e5cc04190efaf6_add({&quot;coordinates&quot;: [[[13.92, 50.964], [13.92, 50.966], [13.925, 50.966], [13.925, 50.964], [13.92, 50.964]]], &quot;type&quot;: &quot;Polygon&quot;});\n",
       "\n",
       "        \n",
       "    \n",
       "            geo_json_a8c0614ac23c9085d8e5cc04190efaf6.addTo(map_1da3d110a0a5387d46962b141cf3c795);\n",
       "        \n",
       "    \n",
       "            map_1da3d110a0a5387d46962b141cf3c795.fitBounds(\n",
       "                [[50.964, 13.92], [50.966, 13.925]],\n",
       "                {}\n",
       "            );\n",
       "        \n",
       "    \n",
       "            tile_layer_e5468318199e23d57c6d82be98df2b44.addTo(map_1da3d110a0a5387d46962b141cf3c795);\n",
       "        \n",
       "    \n",
       "            geo_json_a8c0614ac23c9085d8e5cc04190efaf6.addTo(map_1da3d110a0a5387d46962b141cf3c795);\n",
       "        \n",
       "    \n",
       "\n",
       "        function geo_json_54408ededae09229b4c752a60b68ac64_onEachFeature(feature, layer) {\n",
       "            layer.on({\n",
       "            });\n",
       "        };\n",
       "        var geo_json_54408ededae09229b4c752a60b68ac64 = L.geoJson(null, {\n",
       "                onEachFeature: geo_json_54408ededae09229b4c752a60b68ac64_onEachFeature,\n",
       "            \n",
       "        });\n",
       "\n",
       "        function geo_json_54408ededae09229b4c752a60b68ac64_add (data) {\n",
       "            geo_json_54408ededae09229b4c752a60b68ac64\n",
       "                .addData(data);\n",
       "        }\n",
       "            geo_json_54408ededae09229b4c752a60b68ac64_add({&quot;coordinates&quot;: [[13.92499, 50.966], [13.92499, 50.964]], &quot;type&quot;: &quot;LineString&quot;});\n",
       "\n",
       "        \n",
       "    \n",
       "            geo_json_54408ededae09229b4c752a60b68ac64.addTo(map_1da3d110a0a5387d46962b141cf3c795);\n",
       "        \n",
       "    \n",
       "\n",
       "        function geo_json_a9b0f5f3fd71d09a8692886cbc30c247_onEachFeature(feature, layer) {\n",
       "            layer.on({\n",
       "            });\n",
       "        };\n",
       "        var geo_json_a9b0f5f3fd71d09a8692886cbc30c247 = L.geoJson(null, {\n",
       "                onEachFeature: geo_json_a9b0f5f3fd71d09a8692886cbc30c247_onEachFeature,\n",
       "            \n",
       "        });\n",
       "\n",
       "        function geo_json_a9b0f5f3fd71d09a8692886cbc30c247_add (data) {\n",
       "            geo_json_a9b0f5f3fd71d09a8692886cbc30c247\n",
       "                .addData(data);\n",
       "        }\n",
       "            geo_json_a9b0f5f3fd71d09a8692886cbc30c247_add({&quot;geometries&quot;: [{&quot;coordinates&quot;: [[[13.92495, 50.965999999999994], [13.925000000000002, 50.965999999999994], [13.925000000000002, 50.965960000843815], [13.92495, 50.965960000843815], [13.92495, 50.965999999999994]]], &quot;type&quot;: &quot;Polygon&quot;}, {&quot;coordinates&quot;: [[[13.92495, 50.965960000843815], [13.925000000000002, 50.965960000843815], [13.925000000000002, 50.965920001653195], [13.92495, 50.965920001653195], [13.92495, 50.965960000843815]]], &quot;type&quot;: &quot;Polygon&quot;}, {&quot;coordinates&quot;: [[[13.92495, 50.965920001653195], [13.925000000000002, 50.965920001653195], [13.925000000000002, 50.965880002428136], [13.92495, 50.965880002428136], [13.92495, 50.965920001653195]]], &quot;type&quot;: &quot;Polygon&quot;}, {&quot;coordinates&quot;: [[[13.92495, 50.965880002428136], [13.925000000000002, 50.965880002428136], [13.925000000000002, 50.96584000316863], [13.92495, 50.96584000316863], [13.92495, 50.965880002428136]]], &quot;type&quot;: &quot;Polygon&quot;}, {&quot;coordinates&quot;: [[[13.92495, 50.96584000316863], [13.925000000000002, 50.96584000316863], [13.925000000000002, 50.96580000387468], [13.92495, 50.96580000387468], [13.92495, 50.96584000316863]]], &quot;type&quot;: &quot;Polygon&quot;}, {&quot;coordinates&quot;: [[[13.92495, 50.96580000387468], [13.925000000000002, 50.96580000387468], [13.925000000000002, 50.965760004546304], [13.92495, 50.965760004546304], [13.92495, 50.96580000387468]]], &quot;type&quot;: &quot;Polygon&quot;}, {&quot;coordinates&quot;: [[[13.92495, 50.965760004546304], [13.925000000000002, 50.965760004546304], [13.925000000000002, 50.96572000518347], [13.92495, 50.96572000518347], [13.92495, 50.965760004546304]]], &quot;type&quot;: &quot;Polygon&quot;}, {&quot;coordinates&quot;: [[[13.92495, 50.96572000518347], [13.925000000000002, 50.96572000518347], [13.925000000000002, 50.9656800057862], [13.92495, 50.9656800057862], [13.92495, 50.96572000518347]]], &quot;type&quot;: &quot;Polygon&quot;}, {&quot;coordinates&quot;: [[[13.92495, 50.9656800057862], [13.925000000000002, 50.9656800057862], [13.925000000000002, 50.9656400063545], [13.92495, 50.9656400063545], [13.92495, 50.9656800057862]]], &quot;type&quot;: &quot;Polygon&quot;}, {&quot;coordinates&quot;: [[[13.92495, 50.9656400063545], [13.925000000000002, 50.9656400063545], [13.925000000000002, 50.965600006888344], [13.92495, 50.965600006888344], [13.92495, 50.9656400063545]]], &quot;type&quot;: &quot;Polygon&quot;}, {&quot;coordinates&quot;: [[[13.92495, 50.965600006888344], [13.925000000000002, 50.965600006888344], [13.925000000000002, 50.965560007387744], [13.92495, 50.965560007387744], [13.92495, 50.965600006888344]]], &quot;type&quot;: &quot;Polygon&quot;}, {&quot;coordinates&quot;: [[[13.92495, 50.965560007387744], [13.925000000000002, 50.965560007387744], [13.925000000000002, 50.96552000785271], [13.92495, 50.96552000785271], [13.92495, 50.965560007387744]]], &quot;type&quot;: &quot;Polygon&quot;}, {&quot;coordinates&quot;: [[[13.92495, 50.96552000785271], [13.925000000000002, 50.96552000785271], [13.925000000000002, 50.96548000828324], [13.92495, 50.96548000828324], [13.92495, 50.96552000785271]]], &quot;type&quot;: &quot;Polygon&quot;}, {&quot;coordinates&quot;: [[[13.92495, 50.96548000828324], [13.925000000000002, 50.96548000828324], [13.925000000000002, 50.965440008679316], [13.92495, 50.965440008679316], [13.92495, 50.96548000828324]]], &quot;type&quot;: &quot;Polygon&quot;}, {&quot;coordinates&quot;: [[[13.92495, 50.965440008679316], [13.925000000000002, 50.965440008679316], [13.925000000000002, 50.965400009040955], [13.92495, 50.965400009040955], [13.92495, 50.965440008679316]]], &quot;type&quot;: &quot;Polygon&quot;}, {&quot;coordinates&quot;: [[[13.92495, 50.965400009040955], [13.925000000000002, 50.965400009040955], [13.925000000000002, 50.965360009368155], [13.92495, 50.965360009368155], [13.92495, 50.965400009040955]]], &quot;type&quot;: &quot;Polygon&quot;}, {&quot;coordinates&quot;: [[[13.92495, 50.965360009368155], [13.925000000000002, 50.965360009368155], [13.925000000000002, 50.96532000966091], [13.92495, 50.96532000966091], [13.92495, 50.965360009368155]]], &quot;type&quot;: &quot;Polygon&quot;}, {&quot;coordinates&quot;: [[[13.92495, 50.96532000966091], [13.925000000000002, 50.96532000966091], [13.925000000000002, 50.965280009919226], [13.92495, 50.965280009919226], [13.92495, 50.96532000966091]]], &quot;type&quot;: &quot;Polygon&quot;}, {&quot;coordinates&quot;: [[[13.92495, 50.965280009919226], [13.925000000000002, 50.965280009919226], [13.925000000000002, 50.96524001014309], [13.92495, 50.96524001014309], [13.92495, 50.965280009919226]]], &quot;type&quot;: &quot;Polygon&quot;}, {&quot;coordinates&quot;: [[[13.92495, 50.96524001014309], [13.925000000000002, 50.96524001014309], [13.925000000000002, 50.96520001033253], [13.92495, 50.96520001033253], [13.92495, 50.96524001014309]]], &quot;type&quot;: &quot;Polygon&quot;}, {&quot;coordinates&quot;: [[[13.92495, 50.96520001033253], [13.925000000000002, 50.96520001033253], [13.925000000000002, 50.965160010487516], [13.92495, 50.965160010487516], [13.92495, 50.96520001033253]]], &quot;type&quot;: &quot;Polygon&quot;}, {&quot;coordinates&quot;: [[[13.92495, 50.965160010487516], [13.925000000000002, 50.965160010487516], [13.925000000000002, 50.96512001060807], [13.92495, 50.96512001060807], [13.92495, 50.965160010487516]]], &quot;type&quot;: &quot;Polygon&quot;}, {&quot;coordinates&quot;: [[[13.92495, 50.96512001060807], [13.925000000000002, 50.96512001060807], [13.925000000000002, 50.96508001069417], [13.92495, 50.96508001069417], [13.92495, 50.96512001060807]]], &quot;type&quot;: &quot;Polygon&quot;}, {&quot;coordinates&quot;: [[[13.92495, 50.96508001069417], [13.925000000000002, 50.96508001069417], [13.925000000000002, 50.96504001074583], [13.92495, 50.96504001074583], [13.92495, 50.96508001069417]]], &quot;type&quot;: &quot;Polygon&quot;}, {&quot;coordinates&quot;: [[[13.92495, 50.96504001074583], [13.925000000000002, 50.96504001074583], [13.925000000000002, 50.96500001076305], [13.92495, 50.96500001076305], [13.92495, 50.96504001074583]]], &quot;type&quot;: &quot;Polygon&quot;}, {&quot;coordinates&quot;: [[[13.92495, 50.96500001076305], [13.925000000000002, 50.96500001076305], [13.925000000000002, 50.964960010745834], [13.92495, 50.964960010745834], [13.92495, 50.96500001076305]]], &quot;type&quot;: &quot;Polygon&quot;}, {&quot;coordinates&quot;: [[[13.92495, 50.964960010745834], [13.925000000000002, 50.964960010745834], [13.925000000000002, 50.96492001069418], [13.92495, 50.96492001069418], [13.92495, 50.964960010745834]]], &quot;type&quot;: &quot;Polygon&quot;}, {&quot;coordinates&quot;: [[[13.92495, 50.96492001069418], [13.925000000000002, 50.96492001069418], [13.925000000000002, 50.96488001060807], [13.92495, 50.96488001060807], [13.92495, 50.96492001069418]]], &quot;type&quot;: &quot;Polygon&quot;}, {&quot;coordinates&quot;: [[[13.92495, 50.96488001060807], [13.925000000000002, 50.96488001060807], [13.925000000000002, 50.96484001048752], [13.92495, 50.96484001048752], [13.92495, 50.96488001060807]]], &quot;type&quot;: &quot;Polygon&quot;}, {&quot;coordinates&quot;: [[[13.92495, 50.96484001048752], [13.925000000000002, 50.96484001048752], [13.925000000000002, 50.964800010332546], [13.92495, 50.964800010332546], [13.92495, 50.96484001048752]]], &quot;type&quot;: &quot;Polygon&quot;}, {&quot;coordinates&quot;: [[[13.92495, 50.964800010332546], [13.925000000000002, 50.964800010332546], [13.925000000000002, 50.96476001014311], [13.92495, 50.96476001014311], [13.92495, 50.964800010332546]]], &quot;type&quot;: &quot;Polygon&quot;}, {&quot;coordinates&quot;: [[[13.92495, 50.96476001014311], [13.925000000000002, 50.96476001014311], [13.925000000000002, 50.96472000991924], [13.92495, 50.96472000991924], [13.92495, 50.96476001014311]]], &quot;type&quot;: &quot;Polygon&quot;}, {&quot;coordinates&quot;: [[[13.92495, 50.96472000991924], [13.925000000000002, 50.96472000991924], [13.925000000000002, 50.964680009660924], [13.92495, 50.964680009660924], [13.92495, 50.96472000991924]]], &quot;type&quot;: &quot;Polygon&quot;}, {&quot;coordinates&quot;: [[[13.92495, 50.964680009660924], [13.925000000000002, 50.964680009660924], [13.925000000000002, 50.96464000936817], [13.92495, 50.96464000936817], [13.92495, 50.964680009660924]]], &quot;type&quot;: &quot;Polygon&quot;}, {&quot;coordinates&quot;: [[[13.92495, 50.96464000936817], [13.925000000000002, 50.96464000936817], [13.925000000000002, 50.96460000904097], [13.92495, 50.96460000904097], [13.92495, 50.96464000936817]]], &quot;type&quot;: &quot;Polygon&quot;}, {&quot;coordinates&quot;: [[[13.92495, 50.96460000904097], [13.925000000000002, 50.96460000904097], [13.925000000000002, 50.96456000867934], [13.92495, 50.96456000867934], [13.92495, 50.96460000904097]]], &quot;type&quot;: &quot;Polygon&quot;}, {&quot;coordinates&quot;: [[[13.92495, 50.96456000867934], [13.925000000000002, 50.96456000867934], [13.925000000000002, 50.96452000828325], [13.92495, 50.96452000828325], [13.92495, 50.96456000867934]]], &quot;type&quot;: &quot;Polygon&quot;}, {&quot;coordinates&quot;: [[[13.92495, 50.96452000828325], [13.925000000000002, 50.96452000828325], [13.925000000000002, 50.964480007852735], [13.92495, 50.964480007852735], [13.92495, 50.96452000828325]]], &quot;type&quot;: &quot;Polygon&quot;}, {&quot;coordinates&quot;: [[[13.92495, 50.964480007852735], [13.925000000000002, 50.964480007852735], [13.925000000000002, 50.96444000738777], [13.92495, 50.96444000738777], [13.92495, 50.964480007852735]]], &quot;type&quot;: &quot;Polygon&quot;}, {&quot;coordinates&quot;: [[[13.92495, 50.96444000738777], [13.925000000000002, 50.96444000738777], [13.925000000000002, 50.96440000688836], [13.92495, 50.96440000688836], [13.92495, 50.96444000738777]]], &quot;type&quot;: &quot;Polygon&quot;}, {&quot;coordinates&quot;: [[[13.92495, 50.96440000688836], [13.925000000000002, 50.96440000688836], [13.925000000000002, 50.96436000635452], [13.92495, 50.96436000635452], [13.92495, 50.96440000688836]]], &quot;type&quot;: &quot;Polygon&quot;}, {&quot;coordinates&quot;: [[[13.92495, 50.96436000635452], [13.925000000000002, 50.96436000635452], [13.925000000000002, 50.96432000578623], [13.92495, 50.96432000578623], [13.92495, 50.96436000635452]]], &quot;type&quot;: &quot;Polygon&quot;}, {&quot;coordinates&quot;: [[[13.92495, 50.96432000578623], [13.925000000000002, 50.96432000578623], [13.925000000000002, 50.9642800051835], [13.92495, 50.9642800051835], [13.92495, 50.96432000578623]]], &quot;type&quot;: &quot;Polygon&quot;}, {&quot;coordinates&quot;: [[[13.92495, 50.9642800051835], [13.925000000000002, 50.9642800051835], [13.925000000000002, 50.96424000454632], [13.92495, 50.96424000454632], [13.92495, 50.9642800051835]]], &quot;type&quot;: &quot;Polygon&quot;}, {&quot;coordinates&quot;: [[[13.92495, 50.96424000454632], [13.925000000000002, 50.96424000454632], [13.925000000000002, 50.96420000387471], [13.92495, 50.96420000387471], [13.92495, 50.96424000454632]]], &quot;type&quot;: &quot;Polygon&quot;}, {&quot;coordinates&quot;: [[[13.92495, 50.96420000387471], [13.925000000000002, 50.96420000387471], [13.925000000000002, 50.964160003168644], [13.92495, 50.964160003168644], [13.92495, 50.96420000387471]]], &quot;type&quot;: &quot;Polygon&quot;}, {&quot;coordinates&quot;: [[[13.92495, 50.964160003168644], [13.925000000000002, 50.964160003168644], [13.925000000000002, 50.964120002428146], [13.92495, 50.964120002428146], [13.92495, 50.964160003168644]]], &quot;type&quot;: &quot;Polygon&quot;}, {&quot;coordinates&quot;: [[[13.92495, 50.964120002428146], [13.925000000000002, 50.964120002428146], [13.925000000000002, 50.96408000165321], [13.92495, 50.96408000165321], [13.92495, 50.964120002428146]]], &quot;type&quot;: &quot;Polygon&quot;}, {&quot;coordinates&quot;: [[[13.92495, 50.96408000165321], [13.925000000000002, 50.96408000165321], [13.925000000000002, 50.964040000843816], [13.92495, 50.964040000843816], [13.92495, 50.96408000165321]]], &quot;type&quot;: &quot;Polygon&quot;}, {&quot;coordinates&quot;: [[[13.92495, 50.964040000843816], [13.925000000000002, 50.964040000843816], [13.925000000000002, 50.96399999999999], [13.92495, 50.96399999999999], [13.92495, 50.964040000843816]]], &quot;type&quot;: &quot;Polygon&quot;}], &quot;type&quot;: &quot;GeometryCollection&quot;});\n",
       "\n",
       "        \n",
       "    \n",
       "            geo_json_a9b0f5f3fd71d09a8692886cbc30c247.addTo(map_1da3d110a0a5387d46962b141cf3c795);\n",
       "        \n",
       "    \n",
       "\n",
       "        function geo_json_0860045b8019b9c2a348286a8628f61b_onEachFeature(feature, layer) {\n",
       "            layer.on({\n",
       "            });\n",
       "        };\n",
       "        var geo_json_0860045b8019b9c2a348286a8628f61b = L.geoJson(null, {\n",
       "                onEachFeature: geo_json_0860045b8019b9c2a348286a8628f61b_onEachFeature,\n",
       "            \n",
       "        });\n",
       "\n",
       "        function geo_json_0860045b8019b9c2a348286a8628f61b_add (data) {\n",
       "            geo_json_0860045b8019b9c2a348286a8628f61b\n",
       "                .addData(data);\n",
       "        }\n",
       "            geo_json_0860045b8019b9c2a348286a8628f61b_add({&quot;coordinates&quot;: [13.92499, 50.966], &quot;type&quot;: &quot;Point&quot;});\n",
       "\n",
       "        \n",
       "    \n",
       "            geo_json_0860045b8019b9c2a348286a8628f61b.addTo(map_1da3d110a0a5387d46962b141cf3c795);\n",
       "        \n",
       "    \n",
       "\n",
       "        function geo_json_4e4bb8a299de604fcfb1b672554ee9b4_onEachFeature(feature, layer) {\n",
       "            layer.on({\n",
       "            });\n",
       "        };\n",
       "        var geo_json_4e4bb8a299de604fcfb1b672554ee9b4 = L.geoJson(null, {\n",
       "                onEachFeature: geo_json_4e4bb8a299de604fcfb1b672554ee9b4_onEachFeature,\n",
       "            \n",
       "        });\n",
       "\n",
       "        function geo_json_4e4bb8a299de604fcfb1b672554ee9b4_add (data) {\n",
       "            geo_json_4e4bb8a299de604fcfb1b672554ee9b4\n",
       "                .addData(data);\n",
       "        }\n",
       "            geo_json_4e4bb8a299de604fcfb1b672554ee9b4_add({&quot;coordinates&quot;: [[13.92004, 50.96401], [13.92004, 50.96599]], &quot;type&quot;: &quot;LineString&quot;});\n",
       "\n",
       "        \n",
       "    \n",
       "            geo_json_4e4bb8a299de604fcfb1b672554ee9b4.addTo(map_1da3d110a0a5387d46962b141cf3c795);\n",
       "        \n",
       "    \n",
       "\n",
       "        function geo_json_6e4cb19d7debf0ac82e87dad8dbb4186_onEachFeature(feature, layer) {\n",
       "            layer.on({\n",
       "            });\n",
       "        };\n",
       "        var geo_json_6e4cb19d7debf0ac82e87dad8dbb4186 = L.geoJson(null, {\n",
       "                onEachFeature: geo_json_6e4cb19d7debf0ac82e87dad8dbb4186_onEachFeature,\n",
       "            \n",
       "        });\n",
       "\n",
       "        function geo_json_6e4cb19d7debf0ac82e87dad8dbb4186_add (data) {\n",
       "            geo_json_6e4cb19d7debf0ac82e87dad8dbb4186\n",
       "                .addData(data);\n",
       "        }\n",
       "            geo_json_6e4cb19d7debf0ac82e87dad8dbb4186_add({&quot;geometries&quot;: [{&quot;coordinates&quot;: [[[13.920000000000002, 50.965999999999994], [13.920050000000002, 50.965999999999994], [13.920050000000002, 50.965960000843815], [13.920000000000002, 50.965960000843815], [13.920000000000002, 50.965999999999994]]], &quot;type&quot;: &quot;Polygon&quot;}, {&quot;coordinates&quot;: [[[13.920000000000002, 50.965960000843815], [13.920050000000002, 50.965960000843815], [13.920050000000002, 50.965920001653195], [13.920000000000002, 50.965920001653195], [13.920000000000002, 50.965960000843815]]], &quot;type&quot;: &quot;Polygon&quot;}, {&quot;coordinates&quot;: [[[13.920000000000002, 50.965920001653195], [13.920050000000002, 50.965920001653195], [13.920050000000002, 50.965880002428136], [13.920000000000002, 50.965880002428136], [13.920000000000002, 50.965920001653195]]], &quot;type&quot;: &quot;Polygon&quot;}, {&quot;coordinates&quot;: [[[13.920000000000002, 50.965880002428136], [13.920050000000002, 50.965880002428136], [13.920050000000002, 50.96584000316863], [13.920000000000002, 50.96584000316863], [13.920000000000002, 50.965880002428136]]], &quot;type&quot;: &quot;Polygon&quot;}, {&quot;coordinates&quot;: [[[13.920000000000002, 50.96584000316863], [13.920050000000002, 50.96584000316863], [13.920050000000002, 50.96580000387468], [13.920000000000002, 50.96580000387468], [13.920000000000002, 50.96584000316863]]], &quot;type&quot;: &quot;Polygon&quot;}, {&quot;coordinates&quot;: [[[13.920000000000002, 50.96580000387468], [13.920050000000002, 50.96580000387468], [13.920050000000002, 50.965760004546304], [13.920000000000002, 50.965760004546304], [13.920000000000002, 50.96580000387468]]], &quot;type&quot;: &quot;Polygon&quot;}, {&quot;coordinates&quot;: [[[13.920000000000002, 50.965760004546304], [13.920050000000002, 50.965760004546304], [13.920050000000002, 50.96572000518347], [13.920000000000002, 50.96572000518347], [13.920000000000002, 50.965760004546304]]], &quot;type&quot;: &quot;Polygon&quot;}, {&quot;coordinates&quot;: [[[13.920000000000002, 50.96572000518347], [13.920050000000002, 50.96572000518347], [13.920050000000002, 50.9656800057862], [13.920000000000002, 50.9656800057862], [13.920000000000002, 50.96572000518347]]], &quot;type&quot;: &quot;Polygon&quot;}, {&quot;coordinates&quot;: [[[13.920000000000002, 50.9656800057862], [13.920050000000002, 50.9656800057862], [13.920050000000002, 50.9656400063545], [13.920000000000002, 50.9656400063545], [13.920000000000002, 50.9656800057862]]], &quot;type&quot;: &quot;Polygon&quot;}, {&quot;coordinates&quot;: [[[13.920000000000002, 50.9656400063545], [13.920050000000002, 50.9656400063545], [13.920050000000002, 50.965600006888344], [13.920000000000002, 50.965600006888344], [13.920000000000002, 50.9656400063545]]], &quot;type&quot;: &quot;Polygon&quot;}, {&quot;coordinates&quot;: [[[13.920000000000002, 50.965600006888344], [13.920050000000002, 50.965600006888344], [13.920050000000002, 50.965560007387744], [13.920000000000002, 50.965560007387744], [13.920000000000002, 50.965600006888344]]], &quot;type&quot;: &quot;Polygon&quot;}, {&quot;coordinates&quot;: [[[13.920000000000002, 50.965560007387744], [13.920050000000002, 50.965560007387744], [13.920050000000002, 50.96552000785271], [13.920000000000002, 50.96552000785271], [13.920000000000002, 50.965560007387744]]], &quot;type&quot;: &quot;Polygon&quot;}, {&quot;coordinates&quot;: [[[13.920000000000002, 50.96552000785271], [13.920050000000002, 50.96552000785271], [13.920050000000002, 50.96548000828324], [13.920000000000002, 50.96548000828324], [13.920000000000002, 50.96552000785271]]], &quot;type&quot;: &quot;Polygon&quot;}, {&quot;coordinates&quot;: [[[13.920000000000002, 50.96548000828324], [13.920050000000002, 50.96548000828324], [13.920050000000002, 50.965440008679316], [13.920000000000002, 50.965440008679316], [13.920000000000002, 50.96548000828324]]], &quot;type&quot;: &quot;Polygon&quot;}, {&quot;coordinates&quot;: [[[13.920000000000002, 50.965440008679316], [13.920050000000002, 50.965440008679316], [13.920050000000002, 50.965400009040955], [13.920000000000002, 50.965400009040955], [13.920000000000002, 50.965440008679316]]], &quot;type&quot;: &quot;Polygon&quot;}, {&quot;coordinates&quot;: [[[13.920000000000002, 50.965400009040955], [13.920050000000002, 50.965400009040955], [13.920050000000002, 50.965360009368155], [13.920000000000002, 50.965360009368155], [13.920000000000002, 50.965400009040955]]], &quot;type&quot;: &quot;Polygon&quot;}, {&quot;coordinates&quot;: [[[13.920000000000002, 50.965360009368155], [13.920050000000002, 50.965360009368155], [13.920050000000002, 50.96532000966091], [13.920000000000002, 50.96532000966091], [13.920000000000002, 50.965360009368155]]], &quot;type&quot;: &quot;Polygon&quot;}, {&quot;coordinates&quot;: [[[13.920000000000002, 50.96532000966091], [13.920050000000002, 50.96532000966091], [13.920050000000002, 50.965280009919226], [13.920000000000002, 50.965280009919226], [13.920000000000002, 50.96532000966091]]], &quot;type&quot;: &quot;Polygon&quot;}, {&quot;coordinates&quot;: [[[13.920000000000002, 50.965280009919226], [13.920050000000002, 50.965280009919226], [13.920050000000002, 50.96524001014309], [13.920000000000002, 50.96524001014309], [13.920000000000002, 50.965280009919226]]], &quot;type&quot;: &quot;Polygon&quot;}, {&quot;coordinates&quot;: [[[13.920000000000002, 50.96524001014309], [13.920050000000002, 50.96524001014309], [13.920050000000002, 50.96520001033253], [13.920000000000002, 50.96520001033253], [13.920000000000002, 50.96524001014309]]], &quot;type&quot;: &quot;Polygon&quot;}, {&quot;coordinates&quot;: [[[13.920000000000002, 50.96520001033253], [13.920050000000002, 50.96520001033253], [13.920050000000002, 50.965160010487516], [13.920000000000002, 50.965160010487516], [13.920000000000002, 50.96520001033253]]], &quot;type&quot;: &quot;Polygon&quot;}, {&quot;coordinates&quot;: [[[13.920000000000002, 50.965160010487516], [13.920050000000002, 50.965160010487516], [13.920050000000002, 50.96512001060807], [13.920000000000002, 50.96512001060807], [13.920000000000002, 50.965160010487516]]], &quot;type&quot;: &quot;Polygon&quot;}, {&quot;coordinates&quot;: [[[13.920000000000002, 50.96512001060807], [13.920050000000002, 50.96512001060807], [13.920050000000002, 50.96508001069417], [13.920000000000002, 50.96508001069417], [13.920000000000002, 50.96512001060807]]], &quot;type&quot;: &quot;Polygon&quot;}, {&quot;coordinates&quot;: [[[13.920000000000002, 50.96508001069417], [13.920050000000002, 50.96508001069417], [13.920050000000002, 50.96504001074583], [13.920000000000002, 50.96504001074583], [13.920000000000002, 50.96508001069417]]], &quot;type&quot;: &quot;Polygon&quot;}, {&quot;coordinates&quot;: [[[13.920000000000002, 50.96504001074583], [13.920050000000002, 50.96504001074583], [13.920050000000002, 50.96500001076305], [13.920000000000002, 50.96500001076305], [13.920000000000002, 50.96504001074583]]], &quot;type&quot;: &quot;Polygon&quot;}, {&quot;coordinates&quot;: [[[13.920000000000002, 50.96500001076305], [13.920050000000002, 50.96500001076305], [13.920050000000002, 50.964960010745834], [13.920000000000002, 50.964960010745834], [13.920000000000002, 50.96500001076305]]], &quot;type&quot;: &quot;Polygon&quot;}, {&quot;coordinates&quot;: [[[13.920000000000002, 50.964960010745834], [13.920050000000002, 50.964960010745834], [13.920050000000002, 50.96492001069418], [13.920000000000002, 50.96492001069418], [13.920000000000002, 50.964960010745834]]], &quot;type&quot;: &quot;Polygon&quot;}, {&quot;coordinates&quot;: [[[13.920000000000002, 50.96492001069418], [13.920050000000002, 50.96492001069418], [13.920050000000002, 50.96488001060807], [13.920000000000002, 50.96488001060807], [13.920000000000002, 50.96492001069418]]], &quot;type&quot;: &quot;Polygon&quot;}, {&quot;coordinates&quot;: [[[13.920000000000002, 50.96488001060807], [13.920050000000002, 50.96488001060807], [13.920050000000002, 50.96484001048752], [13.920000000000002, 50.96484001048752], [13.920000000000002, 50.96488001060807]]], &quot;type&quot;: &quot;Polygon&quot;}, {&quot;coordinates&quot;: [[[13.920000000000002, 50.96484001048752], [13.920050000000002, 50.96484001048752], [13.920050000000002, 50.964800010332546], [13.920000000000002, 50.964800010332546], [13.920000000000002, 50.96484001048752]]], &quot;type&quot;: &quot;Polygon&quot;}, {&quot;coordinates&quot;: [[[13.920000000000002, 50.964800010332546], [13.920050000000002, 50.964800010332546], [13.920050000000002, 50.96476001014311], [13.920000000000002, 50.96476001014311], [13.920000000000002, 50.964800010332546]]], &quot;type&quot;: &quot;Polygon&quot;}, {&quot;coordinates&quot;: [[[13.920000000000002, 50.96476001014311], [13.920050000000002, 50.96476001014311], [13.920050000000002, 50.96472000991924], [13.920000000000002, 50.96472000991924], [13.920000000000002, 50.96476001014311]]], &quot;type&quot;: &quot;Polygon&quot;}, {&quot;coordinates&quot;: [[[13.920000000000002, 50.96472000991924], [13.920050000000002, 50.96472000991924], [13.920050000000002, 50.964680009660924], [13.920000000000002, 50.964680009660924], [13.920000000000002, 50.96472000991924]]], &quot;type&quot;: &quot;Polygon&quot;}, {&quot;coordinates&quot;: [[[13.920000000000002, 50.964680009660924], [13.920050000000002, 50.964680009660924], [13.920050000000002, 50.96464000936817], [13.920000000000002, 50.96464000936817], [13.920000000000002, 50.964680009660924]]], &quot;type&quot;: &quot;Polygon&quot;}, {&quot;coordinates&quot;: [[[13.920000000000002, 50.96464000936817], [13.920050000000002, 50.96464000936817], [13.920050000000002, 50.96460000904097], [13.920000000000002, 50.96460000904097], [13.920000000000002, 50.96464000936817]]], &quot;type&quot;: &quot;Polygon&quot;}, {&quot;coordinates&quot;: [[[13.920000000000002, 50.96460000904097], [13.920050000000002, 50.96460000904097], [13.920050000000002, 50.96456000867934], [13.920000000000002, 50.96456000867934], [13.920000000000002, 50.96460000904097]]], &quot;type&quot;: &quot;Polygon&quot;}, {&quot;coordinates&quot;: [[[13.920000000000002, 50.96456000867934], [13.920050000000002, 50.96456000867934], [13.920050000000002, 50.96452000828325], [13.920000000000002, 50.96452000828325], [13.920000000000002, 50.96456000867934]]], &quot;type&quot;: &quot;Polygon&quot;}, {&quot;coordinates&quot;: [[[13.920000000000002, 50.96452000828325], [13.920050000000002, 50.96452000828325], [13.920050000000002, 50.964480007852735], [13.920000000000002, 50.964480007852735], [13.920000000000002, 50.96452000828325]]], &quot;type&quot;: &quot;Polygon&quot;}, {&quot;coordinates&quot;: [[[13.920000000000002, 50.964480007852735], [13.920050000000002, 50.964480007852735], [13.920050000000002, 50.96444000738777], [13.920000000000002, 50.96444000738777], [13.920000000000002, 50.964480007852735]]], &quot;type&quot;: &quot;Polygon&quot;}, {&quot;coordinates&quot;: [[[13.920000000000002, 50.96444000738777], [13.920050000000002, 50.96444000738777], [13.920050000000002, 50.96440000688836], [13.920000000000002, 50.96440000688836], [13.920000000000002, 50.96444000738777]]], &quot;type&quot;: &quot;Polygon&quot;}, {&quot;coordinates&quot;: [[[13.920000000000002, 50.96440000688836], [13.920050000000002, 50.96440000688836], [13.920050000000002, 50.96436000635452], [13.920000000000002, 50.96436000635452], [13.920000000000002, 50.96440000688836]]], &quot;type&quot;: &quot;Polygon&quot;}, {&quot;coordinates&quot;: [[[13.920000000000002, 50.96436000635452], [13.920050000000002, 50.96436000635452], [13.920050000000002, 50.96432000578623], [13.920000000000002, 50.96432000578623], [13.920000000000002, 50.96436000635452]]], &quot;type&quot;: &quot;Polygon&quot;}, {&quot;coordinates&quot;: [[[13.920000000000002, 50.96432000578623], [13.920050000000002, 50.96432000578623], [13.920050000000002, 50.9642800051835], [13.920000000000002, 50.9642800051835], [13.920000000000002, 50.96432000578623]]], &quot;type&quot;: &quot;Polygon&quot;}, {&quot;coordinates&quot;: [[[13.920000000000002, 50.9642800051835], [13.920050000000002, 50.9642800051835], [13.920050000000002, 50.96424000454632], [13.920000000000002, 50.96424000454632], [13.920000000000002, 50.9642800051835]]], &quot;type&quot;: &quot;Polygon&quot;}, {&quot;coordinates&quot;: [[[13.920000000000002, 50.96424000454632], [13.920050000000002, 50.96424000454632], [13.920050000000002, 50.96420000387471], [13.920000000000002, 50.96420000387471], [13.920000000000002, 50.96424000454632]]], &quot;type&quot;: &quot;Polygon&quot;}, {&quot;coordinates&quot;: [[[13.920000000000002, 50.96420000387471], [13.920050000000002, 50.96420000387471], [13.920050000000002, 50.964160003168644], [13.920000000000002, 50.964160003168644], [13.920000000000002, 50.96420000387471]]], &quot;type&quot;: &quot;Polygon&quot;}, {&quot;coordinates&quot;: [[[13.920000000000002, 50.964160003168644], [13.920050000000002, 50.964160003168644], [13.920050000000002, 50.964120002428146], [13.920000000000002, 50.964120002428146], [13.920000000000002, 50.964160003168644]]], &quot;type&quot;: &quot;Polygon&quot;}, {&quot;coordinates&quot;: [[[13.920000000000002, 50.964120002428146], [13.920050000000002, 50.964120002428146], [13.920050000000002, 50.96408000165321], [13.920000000000002, 50.96408000165321], [13.920000000000002, 50.964120002428146]]], &quot;type&quot;: &quot;Polygon&quot;}, {&quot;coordinates&quot;: [[[13.920000000000002, 50.96408000165321], [13.920050000000002, 50.96408000165321], [13.920050000000002, 50.964040000843816], [13.920000000000002, 50.964040000843816], [13.920000000000002, 50.96408000165321]]], &quot;type&quot;: &quot;Polygon&quot;}, {&quot;coordinates&quot;: [[[13.920000000000002, 50.964040000843816], [13.920050000000002, 50.964040000843816], [13.920050000000002, 50.96399999999999], [13.920000000000002, 50.96399999999999], [13.920000000000002, 50.964040000843816]]], &quot;type&quot;: &quot;Polygon&quot;}], &quot;type&quot;: &quot;GeometryCollection&quot;});\n",
       "\n",
       "        \n",
       "    \n",
       "            geo_json_6e4cb19d7debf0ac82e87dad8dbb4186.addTo(map_1da3d110a0a5387d46962b141cf3c795);\n",
       "        \n",
       "    \n",
       "\n",
       "        function geo_json_e069356b0b87edc19bc0377c2ec45f42_onEachFeature(feature, layer) {\n",
       "            layer.on({\n",
       "            });\n",
       "        };\n",
       "        var geo_json_e069356b0b87edc19bc0377c2ec45f42 = L.geoJson(null, {\n",
       "                onEachFeature: geo_json_e069356b0b87edc19bc0377c2ec45f42_onEachFeature,\n",
       "            \n",
       "        });\n",
       "\n",
       "        function geo_json_e069356b0b87edc19bc0377c2ec45f42_add (data) {\n",
       "            geo_json_e069356b0b87edc19bc0377c2ec45f42\n",
       "                .addData(data);\n",
       "        }\n",
       "            geo_json_e069356b0b87edc19bc0377c2ec45f42_add({&quot;coordinates&quot;: [13.92004, 50.96599], &quot;type&quot;: &quot;Point&quot;});\n",
       "\n",
       "        \n",
       "    \n",
       "            geo_json_e069356b0b87edc19bc0377c2ec45f42.addTo(map_1da3d110a0a5387d46962b141cf3c795);\n",
       "        \n",
       "    \n",
       "            map_1da3d110a0a5387d46962b141cf3c795.fitBounds(\n",
       "                [[50.964, 13.92], [50.966, 13.925000000000002]],\n",
       "                {}\n",
       "            );\n",
       "        \n",
       "    \n",
       "            tile_layer_e5468318199e23d57c6d82be98df2b44.addTo(map_1da3d110a0a5387d46962b141cf3c795);\n",
       "        \n",
       "    \n",
       "            geo_json_a8c0614ac23c9085d8e5cc04190efaf6.addTo(map_1da3d110a0a5387d46962b141cf3c795);\n",
       "        \n",
       "    \n",
       "            geo_json_54408ededae09229b4c752a60b68ac64.addTo(map_1da3d110a0a5387d46962b141cf3c795);\n",
       "        \n",
       "    \n",
       "            geo_json_a9b0f5f3fd71d09a8692886cbc30c247.addTo(map_1da3d110a0a5387d46962b141cf3c795);\n",
       "        \n",
       "    \n",
       "            geo_json_0860045b8019b9c2a348286a8628f61b.addTo(map_1da3d110a0a5387d46962b141cf3c795);\n",
       "        \n",
       "    \n",
       "            geo_json_4e4bb8a299de604fcfb1b672554ee9b4.addTo(map_1da3d110a0a5387d46962b141cf3c795);\n",
       "        \n",
       "    \n",
       "            geo_json_6e4cb19d7debf0ac82e87dad8dbb4186.addTo(map_1da3d110a0a5387d46962b141cf3c795);\n",
       "        \n",
       "    \n",
       "            geo_json_e069356b0b87edc19bc0377c2ec45f42.addTo(map_1da3d110a0a5387d46962b141cf3c795);\n",
       "        \n",
       "    \n",
       "\n",
       "        function geo_json_7681ea75070c2ed58e6defa69f2fdb8a_onEachFeature(feature, layer) {\n",
       "            layer.on({\n",
       "            });\n",
       "        };\n",
       "        var geo_json_7681ea75070c2ed58e6defa69f2fdb8a = L.geoJson(null, {\n",
       "                onEachFeature: geo_json_7681ea75070c2ed58e6defa69f2fdb8a_onEachFeature,\n",
       "            \n",
       "        });\n",
       "\n",
       "        function geo_json_7681ea75070c2ed58e6defa69f2fdb8a_add (data) {\n",
       "            geo_json_7681ea75070c2ed58e6defa69f2fdb8a\n",
       "                .addData(data);\n",
       "        }\n",
       "            geo_json_7681ea75070c2ed58e6defa69f2fdb8a_add({&quot;coordinates&quot;: [13.92181326103696, 50.96574333352123], &quot;type&quot;: &quot;Point&quot;});\n",
       "\n",
       "        \n",
       "    \n",
       "            geo_json_7681ea75070c2ed58e6defa69f2fdb8a.addTo(map_1da3d110a0a5387d46962b141cf3c795);\n",
       "        \n",
       "    \n",
       "\n",
       "        function geo_json_6d64519ed1f039f226809aa555eca8c7_onEachFeature(feature, layer) {\n",
       "            layer.on({\n",
       "            });\n",
       "        };\n",
       "        var geo_json_6d64519ed1f039f226809aa555eca8c7 = L.geoJson(null, {\n",
       "                onEachFeature: geo_json_6d64519ed1f039f226809aa555eca8c7_onEachFeature,\n",
       "            \n",
       "        });\n",
       "\n",
       "        function geo_json_6d64519ed1f039f226809aa555eca8c7_add (data) {\n",
       "            geo_json_6d64519ed1f039f226809aa555eca8c7\n",
       "                .addData(data);\n",
       "        }\n",
       "            geo_json_6d64519ed1f039f226809aa555eca8c7_add({&quot;coordinates&quot;: [13.92181326103696, 50.96440649737727], &quot;type&quot;: &quot;Point&quot;});\n",
       "\n",
       "        \n",
       "    \n",
       "            geo_json_6d64519ed1f039f226809aa555eca8c7.addTo(map_1da3d110a0a5387d46962b141cf3c795);\n",
       "        \n",
       "    \n",
       "\n",
       "        function geo_json_465e23312886afea91370a75fd770a99_onEachFeature(feature, layer) {\n",
       "            layer.on({\n",
       "            });\n",
       "        };\n",
       "        var geo_json_465e23312886afea91370a75fd770a99 = L.geoJson(null, {\n",
       "                onEachFeature: geo_json_465e23312886afea91370a75fd770a99_onEachFeature,\n",
       "            \n",
       "        });\n",
       "\n",
       "        function geo_json_465e23312886afea91370a75fd770a99_add (data) {\n",
       "            geo_json_465e23312886afea91370a75fd770a99\n",
       "                .addData(data);\n",
       "        }\n",
       "            geo_json_465e23312886afea91370a75fd770a99_add({&quot;coordinates&quot;: [13.923994608237564, 50.96440649737727], &quot;type&quot;: &quot;Point&quot;});\n",
       "\n",
       "        \n",
       "    \n",
       "            geo_json_465e23312886afea91370a75fd770a99.addTo(map_1da3d110a0a5387d46962b141cf3c795);\n",
       "        \n",
       "    \n",
       "            map_1da3d110a0a5387d46962b141cf3c795.fitBounds(\n",
       "                [[50.964, 13.92], [50.966, 13.925000000000002]],\n",
       "                {}\n",
       "            );\n",
       "        \n",
       "&lt;/script&gt;\n",
       "&lt;/html&gt;\" style=\"position:absolute;width:100%;height:100%;left:0;top:0;border:none !important;\" allowfullscreen webkitallowfullscreen mozallowfullscreen></iframe></div></div>"
      ],
      "text/plain": [
       "<folium.folium.Map at 0x12f042f30>"
      ]
     },
     "execution_count": 7,
     "metadata": {},
     "output_type": "execute_result"
    }
   ],
   "source": [
    "from morpheus.project.types.observations.Observation import HeadObservation, ObservationName, HeadObservationDataItem, \\\n",
    "  HeadValue, ObservationCollection\n",
    "\n",
    "head_observation_1 = HeadObservation.from_geometry(\n",
    "  geometry=Point((13.92181326103696, 50.96574333352123)),\n",
    "  grid=grid,\n",
    "  affected_layers=[model.layers[0].layer_id],\n",
    "  name=ObservationName('HOB_1'),\n",
    "  data=[\n",
    "    HeadObservationDataItem(\n",
    "      date_time=StartDateTime.from_datetime(datetime(2020, 1, 1)),\n",
    "      head_value=HeadValue.from_float(111),\n",
    "    ),\n",
    "    HeadObservationDataItem(\n",
    "      date_time=StartDateTime.from_datetime(datetime(2020, 2, 1)),\n",
    "      head_value=HeadValue.from_float(112),\n",
    "    ),\n",
    "    HeadObservationDataItem(\n",
    "      date_time=StartDateTime.from_datetime(datetime(2020, 3, 1)),\n",
    "      head_value=HeadValue.from_float(113),\n",
    "    ),\n",
    "    HeadObservationDataItem(\n",
    "      date_time=StartDateTime.from_datetime(datetime(2020, 4, 1)),\n",
    "      head_value=HeadValue.from_float(114),\n",
    "    ),\n",
    "    HeadObservationDataItem(\n",
    "      date_time=StartDateTime.from_datetime(datetime(2020, 5, 1)),\n",
    "      head_value=HeadValue.from_float(115),\n",
    "    ),\n",
    "  ]\n",
    ")\n",
    "\n",
    "head_observation_2 = HeadObservation.from_geometry(\n",
    "  geometry=Point((13.92181326103696, 50.96440649737727)),\n",
    "  grid=grid,\n",
    "  affected_layers=[model.layers[0].layer_id],\n",
    "  name=ObservationName('HOB_2'),\n",
    "  data=[\n",
    "    HeadObservationDataItem(\n",
    "      date_time=StartDateTime.from_datetime(datetime(2020, 1, 1)),\n",
    "      head_value=HeadValue.from_float(121),\n",
    "    ),\n",
    "    HeadObservationDataItem(\n",
    "      date_time=StartDateTime.from_datetime(datetime(2020, 2, 1)),\n",
    "      head_value=HeadValue.from_float(122),\n",
    "    ),\n",
    "    HeadObservationDataItem(\n",
    "      date_time=StartDateTime.from_datetime(datetime(2020, 3, 1)),\n",
    "      head_value=HeadValue.from_float(123),\n",
    "    ),\n",
    "    HeadObservationDataItem(\n",
    "      date_time=StartDateTime.from_datetime(datetime(2020, 4, 1)),\n",
    "      head_value=HeadValue.from_float(124),\n",
    "    ),\n",
    "    HeadObservationDataItem(\n",
    "      date_time=StartDateTime.from_datetime(datetime(2020, 5, 1)),\n",
    "      head_value=HeadValue.from_float(125),\n",
    "    ),\n",
    "  ]\n",
    ")\n",
    "\n",
    "head_observation_3 = HeadObservation.from_geometry(\n",
    "  geometry=Point((13.923994608237564, 50.96440649737727)),\n",
    "  grid=grid,\n",
    "  affected_layers=[model.layers[0].layer_id],\n",
    "  name=ObservationName('HOB_3'),\n",
    "  data=[\n",
    "    HeadObservationDataItem(\n",
    "      date_time=StartDateTime.from_datetime(datetime(2020, 1, 1)),\n",
    "      head_value=HeadValue.from_float(131),\n",
    "    ),\n",
    "    HeadObservationDataItem(\n",
    "      date_time=StartDateTime.from_datetime(datetime(2020, 2, 1)),\n",
    "      head_value=HeadValue.from_float(132),\n",
    "    ),\n",
    "    HeadObservationDataItem(\n",
    "      date_time=StartDateTime.from_datetime(datetime(2020, 3, 1)),\n",
    "      head_value=HeadValue.from_float(133),\n",
    "    ),\n",
    "    HeadObservationDataItem(\n",
    "      date_time=StartDateTime.from_datetime(datetime(2020, 4, 1)),\n",
    "      head_value=HeadValue.from_float(134),\n",
    "    ),\n",
    "    HeadObservationDataItem(\n",
    "      date_time=StartDateTime.from_datetime(datetime(2020, 5, 1)),\n",
    "      head_value=HeadValue.from_float(135),\n",
    "    ),\n",
    "  ]\n",
    ")\n",
    "\n",
    "observations = ObservationCollection.new()\n",
    "observations.add_observation(head_observation_1)\n",
    "observations.add_observation(head_observation_2)\n",
    "observations.add_observation(head_observation_3)\n",
    "\n",
    "model = model.with_updated_observations(observations=observations)\n",
    "\n",
    "m.add_child(folium.GeoJson(head_observation_1.as_geojson()))\n",
    "m.add_child(folium.GeoJson(head_observation_2.as_geojson()))\n",
    "m.add_child(folium.GeoJson(head_observation_3.as_geojson()))\n",
    "m.fit_bounds(m.get_bounds())\n",
    "m\n"
   ]
  },
  {
   "cell_type": "code",
   "execution_count": 8,
   "id": "dc338472e1887a13",
   "metadata": {
    "ExecuteTime": {
     "end_time": "2024-06-20T18:54:23.181930Z",
     "start_time": "2024-06-20T18:54:22.821710Z"
    },
    "collapsed": false,
    "execution": {
     "iopub.execute_input": "2024-06-20T19:03:14.937754Z",
     "iopub.status.busy": "2024-06-20T19:03:14.937643Z",
     "iopub.status.idle": "2024-06-20T19:03:15.190057Z",
     "shell.execute_reply": "2024-06-20T19:03:15.189801Z"
    },
    "papermill": {
     "duration": 0.256275,
     "end_time": "2024-06-20T19:03:15.190842",
     "exception": false,
     "start_time": "2024-06-20T19:03:14.934567",
     "status": "completed"
    },
    "tags": []
   },
   "outputs": [
    {
     "data": {
      "text/plain": [
       "HeadObservationData(items=[HeadObservationItem(name='HOB_1', layer=0, row=6, column=36, time_series_data=[HeadObservationTimeSeriesItem(total_time=TotalTime(value=0.0), head_value=HeadValue(value=111)), HeadObservationTimeSeriesItem(total_time=TotalTime(value=31.0), head_value=HeadValue(value=112)), HeadObservationTimeSeriesItem(total_time=TotalTime(value=60.0), head_value=HeadValue(value=113)), HeadObservationTimeSeriesItem(total_time=TotalTime(value=91.0), head_value=HeadValue(value=114)), HeadObservationTimeSeriesItem(total_time=TotalTime(value=121.0), head_value=HeadValue(value=115))]), HeadObservationItem(name='HOB_2', layer=0, row=39, column=36, time_series_data=[HeadObservationTimeSeriesItem(total_time=TotalTime(value=0.0), head_value=HeadValue(value=121)), HeadObservationTimeSeriesItem(total_time=TotalTime(value=31.0), head_value=HeadValue(value=122)), HeadObservationTimeSeriesItem(total_time=TotalTime(value=60.0), head_value=HeadValue(value=123)), HeadObservationTimeSeriesItem(total_time=TotalTime(value=91.0), head_value=HeadValue(value=124)), HeadObservationTimeSeriesItem(total_time=TotalTime(value=121.0), head_value=HeadValue(value=125))]), HeadObservationItem(name='HOB_3', layer=0, row=39, column=79, time_series_data=[HeadObservationTimeSeriesItem(total_time=TotalTime(value=0.0), head_value=HeadValue(value=131)), HeadObservationTimeSeriesItem(total_time=TotalTime(value=31.0), head_value=HeadValue(value=132)), HeadObservationTimeSeriesItem(total_time=TotalTime(value=60.0), head_value=HeadValue(value=133)), HeadObservationTimeSeriesItem(total_time=TotalTime(value=91.0), head_value=HeadValue(value=134)), HeadObservationTimeSeriesItem(total_time=TotalTime(value=121.0), head_value=HeadValue(value=135))])])"
      ]
     },
     "execution_count": 8,
     "metadata": {},
     "output_type": "execute_result"
    }
   ],
   "source": [
    "from morpheus.project.infrastructure.calculation.engines.modflow_2005.packages.HobPackageMapper import \\\n",
    "  calculate_observation_items\n",
    "\n",
    "result = calculate_observation_items(model=model)\n",
    "result"
   ]
  },
  {
   "cell_type": "markdown",
   "id": "42d948d145a8457a",
   "metadata": {
    "collapsed": false,
    "papermill": {
     "duration": 0.003271,
     "end_time": "2024-06-20T19:03:15.197074",
     "exception": false,
     "start_time": "2024-06-20T19:03:15.193803",
     "status": "completed"
    },
    "tags": []
   },
   "source": [
    "## Calculate"
   ]
  },
  {
   "cell_type": "code",
   "execution_count": 9,
   "id": "56ccabee86e2397e",
   "metadata": {
    "ExecuteTime": {
     "end_time": "2024-06-20T18:54:23.455527Z",
     "start_time": "2024-06-20T18:54:23.182572Z"
    },
    "collapsed": false,
    "execution": {
     "iopub.execute_input": "2024-06-20T19:03:15.202964Z",
     "iopub.status.busy": "2024-06-20T19:03:15.202751Z",
     "iopub.status.idle": "2024-06-20T19:03:15.429627Z",
     "shell.execute_reply": "2024-06-20T19:03:15.429373Z"
    },
    "papermill": {
     "duration": 0.230812,
     "end_time": "2024-06-20T19:03:15.430463",
     "exception": false,
     "start_time": "2024-06-20T19:03:15.199651",
     "status": "completed"
    },
    "tags": []
   },
   "outputs": [
    {
     "data": {
      "text/plain": [
       "['type,package,k,i,j,value,desc']"
      ]
     },
     "execution_count": 9,
     "metadata": {},
     "output_type": "execute_result"
    }
   ],
   "source": [
    "from morpheus.project.infrastructure.calculation.engines.base.CalculationEngineFactory import CalculationEngineFactory\n",
    "from morpheus.project.types.calculation.CalculationProfile import CalculationProfile, CalculationEngineType\n",
    "from morpheus.project.types.calculation.Calculation import CalculationId\n",
    "\n",
    "calculation_id = CalculationId.new()\n",
    "calculation_profile = CalculationProfile.new(CalculationEngineType.MF2005)\n",
    "engine = CalculationEngineFactory.create_engine(calculation_id=calculation_id, engine_type=calculation_profile.engine_type)\n",
    "check_model_log = engine.preprocess(model, calculation_profile)\n",
    "check_model_log.to_list()"
   ]
  },
  {
   "cell_type": "code",
   "execution_count": 10,
   "id": "672007fb90753c4c",
   "metadata": {
    "ExecuteTime": {
     "end_time": "2024-06-20T18:54:23.528769Z",
     "start_time": "2024-06-20T18:54:23.456251Z"
    },
    "collapsed": false,
    "execution": {
     "iopub.execute_input": "2024-06-20T19:03:15.436466Z",
     "iopub.status.busy": "2024-06-20T19:03:15.436354Z",
     "iopub.status.idle": "2024-06-20T19:03:15.487454Z",
     "shell.execute_reply": "2024-06-20T19:03:15.487161Z"
    },
    "papermill": {
     "duration": 0.054983,
     "end_time": "2024-06-20T19:03:15.488302",
     "exception": false,
     "start_time": "2024-06-20T19:03:15.433319",
     "status": "completed"
    },
    "tags": []
   },
   "outputs": [
    {
     "name": "stdout",
     "output_type": "stream",
     "text": [
      "FloPy is using the following executable to run the model: ../../../../../../../src/backend/.venv/bin/mf2005\n",
      "\n",
      "                                  MODFLOW-2005     \n",
      "    U.S. GEOLOGICAL SURVEY MODULAR FINITE-DIFFERENCE GROUND-WATER FLOW MODEL\n",
      "                             Version 1.12.00 2/3/2017                        \n",
      "\n",
      " Using NAME file: bd98e6a0-f0e5-43c0-9d04-0471dad22aed.nam \n",
      " Run start date and time (yyyy/mm/dd hh:mm:ss): 2024/06/20 21:03:15\n",
      "\n",
      " Solving:  Stress period:     1    Time step:     1    Ground-Water Flow Eqn.\n",
      " Run end date and time (yyyy/mm/dd hh:mm:ss): 2024/06/20 21:03:15\n",
      " Elapsed run time:  0.014 Seconds\n",
      "\n",
      "  Normal termination of simulation\n"
     ]
    }
   ],
   "source": [
    "log, result = engine.run(model=model, calculation_profile=calculation_profile)"
   ]
  },
  {
   "cell_type": "code",
   "execution_count": 11,
   "id": "a52d1dd3a1574032",
   "metadata": {
    "ExecuteTime": {
     "end_time": "2024-06-20T18:54:23.534019Z",
     "start_time": "2024-06-20T18:54:23.531150Z"
    },
    "collapsed": false,
    "execution": {
     "iopub.execute_input": "2024-06-20T19:03:15.494452Z",
     "iopub.status.busy": "2024-06-20T19:03:15.494341Z",
     "iopub.status.idle": "2024-06-20T19:03:15.496515Z",
     "shell.execute_reply": "2024-06-20T19:03:15.496329Z"
    },
    "papermill": {
     "duration": 0.006159,
     "end_time": "2024-06-20T19:03:15.497271",
     "exception": false,
     "start_time": "2024-06-20T19:03:15.491112",
     "status": "completed"
    },
    "tags": []
   },
   "outputs": [
    {
     "data": {
      "text/plain": [
       "CalculationResult(type=<CalculationResultType.SUCCESS: 'success'>, message='Calculation finished successfully', files=['bd98e6a0-f0e5-43c0-9d04-0471dad22aed.nam', 'bd98e6a0-f0e5-43c0-9d04-0471dad22aed.bas', 'bd98e6a0-f0e5-43c0-9d04-0471dad22aed.lpf', 'bd98e6a0-f0e5-43c0-9d04-0471dad22aed.ghb', 'bd98e6a0-f0e5-43c0-9d04-0471dad22aed.dis', 'bd98e6a0-f0e5-43c0-9d04-0471dad22aed.hds', 'bd98e6a0-f0e5-43c0-9d04-0471dad22aed.oc', 'bd98e6a0-f0e5-43c0-9d04-0471dad22aed.pcg', 'bd98e6a0-f0e5-43c0-9d04-0471dad22aed.hob.out', 'bd98e6a0-f0e5-43c0-9d04-0471dad22aed.list', 'bd98e6a0-f0e5-43c0-9d04-0471dad22aed.hob'], flow_head_results=AvailableResults(times=[365.0], kstpkper=[(0, 0)], number_of_layers=1, number_of_observations=15), flow_drawdown_results=None, flow_budget_results=AvailableResults(times=[365.0], kstpkper=[(0, 0)], number_of_layers=0, number_of_observations=0), transport_concentration_results=None, transport_budget_results=None, package_list=['DIS', 'BAS6', 'GHB', 'PCG', 'LPF', 'OC', 'HOB'])"
      ]
     },
     "execution_count": 11,
     "metadata": {},
     "output_type": "execute_result"
    }
   ],
   "source": [
    "result"
   ]
  },
  {
   "cell_type": "code",
   "execution_count": 12,
   "id": "ead09f5fabe89fa7",
   "metadata": {
    "ExecuteTime": {
     "end_time": "2024-06-20T18:54:23.537575Z",
     "start_time": "2024-06-20T18:54:23.534785Z"
    },
    "collapsed": false,
    "execution": {
     "iopub.execute_input": "2024-06-20T19:03:15.503073Z",
     "iopub.status.busy": "2024-06-20T19:03:15.502973Z",
     "iopub.status.idle": "2024-06-20T19:03:15.505197Z",
     "shell.execute_reply": "2024-06-20T19:03:15.504999Z"
    },
    "papermill": {
     "duration": 0.006009,
     "end_time": "2024-06-20T19:03:15.505967",
     "exception": false,
     "start_time": "2024-06-20T19:03:15.499958",
     "status": "completed"
    },
    "tags": []
   },
   "outputs": [
    {
     "data": {
      "text/plain": [
       "[Observation(name='HOB_1.1', simulated=112.727661133, observed=111.0),\n",
       " Observation(name='HOB_1.2', simulated=112.727661133, observed=112.0),\n",
       " Observation(name='HOB_1.3', simulated=112.727661133, observed=113.0),\n",
       " Observation(name='HOB_1.4', simulated=112.727661133, observed=114.0),\n",
       " Observation(name='HOB_1.5', simulated=112.727661133, observed=115.0),\n",
       " Observation(name='HOB_2.1', simulated=112.727661133, observed=121.0),\n",
       " Observation(name='HOB_2.2', simulated=112.727661133, observed=122.0),\n",
       " Observation(name='HOB_2.3', simulated=112.727661133, observed=123.0),\n",
       " Observation(name='HOB_2.4', simulated=112.727661133, observed=124.0),\n",
       " Observation(name='HOB_2.5', simulated=112.727661133, observed=125.0),\n",
       " Observation(name='HOB_3.1', simulated=104.042282104, observed=131.0),\n",
       " Observation(name='HOB_3.2', simulated=104.042282104, observed=132.0),\n",
       " Observation(name='HOB_3.3', simulated=104.042282104, observed=133.0),\n",
       " Observation(name='HOB_3.4', simulated=104.042282104, observed=134.0),\n",
       " Observation(name='HOB_3.5', simulated=104.042282104, observed=135.0)]"
      ]
     },
     "execution_count": 12,
     "metadata": {},
     "output_type": "execute_result"
    }
   ],
   "source": [
    "engine.read_head_observations()"
   ]
  },
  {
   "cell_type": "code",
   "execution_count": 13,
   "id": "cc43ad077c7a81d0",
   "metadata": {
    "ExecuteTime": {
     "end_time": "2024-06-20T18:54:23.540852Z",
     "start_time": "2024-06-20T18:54:23.538252Z"
    },
    "collapsed": false,
    "execution": {
     "iopub.execute_input": "2024-06-20T19:03:15.512043Z",
     "iopub.status.busy": "2024-06-20T19:03:15.511943Z",
     "iopub.status.idle": "2024-06-20T19:03:15.514070Z",
     "shell.execute_reply": "2024-06-20T19:03:15.513848Z"
    },
    "papermill": {
     "duration": 0.00603,
     "end_time": "2024-06-20T19:03:15.514823",
     "exception": false,
     "start_time": "2024-06-20T19:03:15.508793",
     "status": "completed"
    },
    "tags": []
   },
   "outputs": [],
   "source": [
    "head = engine.read_flow_head(idx=0, layer=0)"
   ]
  },
  {
   "cell_type": "code",
   "execution_count": 14,
   "id": "12454cc4d9e18de5",
   "metadata": {
    "ExecuteTime": {
     "end_time": "2024-06-20T18:54:23.548153Z",
     "start_time": "2024-06-20T18:54:23.541510Z"
    },
    "collapsed": false,
    "execution": {
     "iopub.execute_input": "2024-06-20T19:03:15.520757Z",
     "iopub.status.busy": "2024-06-20T19:03:15.520657Z",
     "iopub.status.idle": "2024-06-20T19:03:15.526271Z",
     "shell.execute_reply": "2024-06-20T19:03:15.526049Z"
    },
    "papermill": {
     "duration": 0.009405,
     "end_time": "2024-06-20T19:03:15.526989",
     "exception": false,
     "start_time": "2024-06-20T19:03:15.517584",
     "status": "completed"
    },
    "tags": []
   },
   "outputs": [
    {
     "data": {
      "text/plain": [
       "'[[119.9990005493164, 119.7969970703125, 119.59500122070312, 119.39299774169922, 119.19100189208984, 118.98899841308594, 118.78700256347656, 118.58499908447266, 118.38300323486328, 118.18099975585938, 117.97899627685547, 117.7770004272461, 117.57499694824219, 117.37300109863281, 117.1709976196289, 116.96900177001953, 116.76699829101562, 116.56500244140625, 116.36299896240234, 116.16100311279297, 115.95899963378906, 115.75700378417969, 115.55500030517578, 115.35299682617188, 115.1510009765625, 114.94999694824219, 114.74800109863281, 114.5459976196289, 114.34400177001953, 114.14199829101562, 113.94000244140625, 113.73799896240234, 113.53600311279297, 113.33399963378906, 113.13200378417969, 112.93000030517578, 112.72799682617188, 112.5260009765625, 112.3239974975586, 112.12200164794922, 111.91999816894531, 111.71800231933594, 111.51599884033203, 111.31400299072266, 111.11199951171875, 110.91000366210938, 110.70800018310547, 110.50599670410156, 110.30400085449219, 110.10199737548828, 109.9000015258789, 109.697998046875, 109.49600219726562, 109.29399871826172, 109.09200286865234, 108.88999938964844, 108.68800354003906, 108.48600006103516, 108.28399658203125, 108.08200073242188, 107.87999725341797, 107.6780014038086, 107.47599792480469, 107.27400207519531, 107.0719985961914, 106.87000274658203, 106.66799926757812, 106.46600341796875, 106.26399993896484, 106.06199645996094, 105.86000061035156, 105.65799713134766, 105.45600128173828, 105.25399780273438, 105.052001953125, 104.8499984741211, 104.64800262451172, 104.44599914550781, 104.24400329589844, 104.04199981689453, 103.83999633789062, 103.63800048828125, 103.43599700927734, 103.23400115966797, 103.03199768066406, 102.83000183105469, 102.62799835205078, 102.4260025024414, 102.2239990234375, 102.02200317382812, 101.81999969482422, 101.61799621582031, 101.41600036621094, 101.21399688720703, 101.01200103759766, 100.81099700927734, 100.60900115966797, 100.40699768066406, 100.20500183105469, 100.00299835205078], [119.9990005493164, 119.7969970703125, 119.59500122070312, 119.39299774169922, 119.19100189208984, 118.98899841308594, 118.78700256347656, 118.58499908447266, 118.38300323486328, 118.18099975585938, 117.97899627685547, 117.7770004272461, 117.57499694824219, 117.37300109863281, 117.1709976196289, 116.96900177001953, 116.76699829101562, 116.56500244140625, 116.36299896240234, 116.16100311279297, 115.95899963378906, 115.75700378417969, 115.55500030517578, 115.35299682617188, 115.1510009765625, 114.94999694824219, 114.74800109863281, 114.5459976196289, 114.34400177001953, 114.14199829101562, 113.94000244140625, 113.73799896240234, 113.53600311279297, 113.33399963378906, 113.13200378417969, 112.93000030517578, 112.72799682617188, 112.5260009765625, 112.3239974975586, 112.12200164794922, 111.91999816894531, 111.71800231933594, 111.51599884033203, 111.31400299072266, 111.11199951171875, 110.91000366210938, 110.70800018310547, 110.50599670410156, 110.30400085449219, 110.10199737548828, 109.9000015258789, 109.697998046875, 109.49600219726562, 109.29399871826172, 109.09200286865234, 108.88999938964844, 108.68800354003906, 108.48600006103516, 108.28399658203125, 108.08200073242188, 107.87999725341797, 107.6780014038086, 107.47599792480469, 107.27400207519531, 107.0719985961914, 106.87000274658203, 106.66799926757812, 106.46600341796875, 106.26399993896484, 106.06199645996094, 105.86000061035156, 105.65799713134766, 105.45600128173828, 105.25399780273438, 105.052001953125, 104.8499984741211, 104.64800262451172, 104.44599914550781, 104.24400329589844, 104.04199981689453, 103.83999633789062, 103.63800048828125, 103.43599700927734, 103.23400115966797, 103.03199768066406, 102.83000183105469, 102.62799835205078, 102.4260025024414, 102.2239990234375, 102.02200317382812, 101.81999969482422, 101.61799621582031, 101.41600036621094, 101.21399688720703, 101.01200103759766, 100.81099700927734, 100.60900115966797, 100.40699768066406, 100.20500183105469, 100.00299835205078], [119.9990005493164, 119.7969970703125, 119.59500122070312, 119.39299774169922, 119.19100189208984, 118.98899841308594, 118.78700256347656, 118.58499908447266, 118.38300323486328, 118.18099975585938, 117.97899627685547, 117.7770004272461, 117.57499694824219, 117.37300109863281, 117.1709976196289, 116.96900177001953, 116.76699829101562, 116.56500244140625, 116.36299896240234, 116.16100311279297, 115.95899963378906, 115.75700378417969, 115.55500030517578, 115.35299682617188, 115.1510009765625, 114.94999694824219, 114.74800109863281, 114.5459976196289, 114.34400177001953, 114.14199829101562, 113.94000244140625, 113.73799896240234, 113.53600311279297, 113.33399963378906, 113.13200378417969, 112.93000030517578, 112.72799682617188, 112.5260009765625, 112.3239974975586, 112.12200164794922, 111.91999816894531, 111.71800231933594, 111.51599884033203, 111.31400299072266, 111.11199951171875, 110.91000366210938, 110.70800018310547, 110.50599670410156, 110.30400085449219, 110.10199737548828, 109.9000015258789, 109.697998046875, 109.49600219726562, 109.29399871826172, 109.09200286865234, 108.88999938964844, 108.68800354003906, 108.48600006103516, 108.28399658203125, 108.08200073242188, 107.87999725341797, 107.6780014038086, 107.47599792480469, 107.27400207519531, 107.0719985961914, 106.87000274658203, 106.66799926757812, 106.46600341796875, 106.26399993896484, 106.06199645996094, 105.86000061035156, 105.65799713134766, 105.45600128173828, 105.25399780273438, 105.052001953125, 104.8499984741211, 104.64800262451172, 104.44599914550781, 104.24400329589844, 104.04199981689453, 103.83999633789062, 103.63800048828125, 103.43599700927734, 103.23400115966797, 103.03199768066406, 102.83000183105469, 102.62799835205078, 102.4260025024414, 102.2239990234375, 102.02200317382812, 101.81999969482422, 101.61799621582031, 101.41600036621094, 101.21399688720703, 101.01200103759766, 100.81099700927734, 100.60900115966797, 100.40699768066406, 100.20500183105469, 100.00299835205078], [119.9990005493164, 119.7969970703125, 119.59500122070312, 119.39299774169922, 119.19100189208984, 118.98899841308594, 118.78700256347656, 118.58499908447266, 118.38300323486328, 118.18099975585938, 117.97899627685547, 117.7770004272461, 117.57499694824219, 117.37300109863281, 117.1709976196289, 116.96900177001953, 116.76699829101562, 116.56500244140625, 116.36299896240234, 116.16100311279297, 115.95899963378906, 115.75700378417969, 115.55500030517578, 115.35299682617188, 115.1510009765625, 114.94999694824219, 114.74800109863281, 114.5459976196289, 114.34400177001953, 114.14199829101562, 113.94000244140625, 113.73799896240234, 113.53600311279297, 113.33399963378906, 113.13200378417969, 112.93000030517578, 112.72799682617188, 112.5260009765625, 112.3239974975586, 112.12200164794922, 111.91999816894531, 111.71800231933594, 111.51599884033203, 111.31400299072266, 111.11199951171875, 110.91000366210938, 110.70800018310547, 110.50599670410156, 110.30400085449219, 110.10199737548828, 109.9000015258789, 109.697998046875, 109.49600219726562, 109.29399871826172, 109.09200286865234, 108.88999938964844, 108.68800354003906, 108.48600006103516, 108.28399658203125, 108.08200073242188, 107.87999725341797, 107.6780014038086, 107.47599792480469, 107.27400207519531, 107.0719985961914, 106.87000274658203, 106.66799926757812, 106.46600341796875, 106.26399993896484, 106.06199645996094, 105.86000061035156, 105.65799713134766, 105.45600128173828, 105.25399780273438, 105.052001953125, 104.8499984741211, 104.64800262451172, 104.44599914550781, 104.24400329589844, 104.04199981689453, 103.83999633789062, 103.63800048828125, 103.43599700927734, 103.23400115966797, 103.03199768066406, 102.83000183105469, 102.62799835205078, 102.4260025024414, 102.2239990234375, 102.02200317382812, 101.81999969482422, 101.61799621582031, 101.41600036621094, 101.21399688720703, 101.01200103759766, 100.81099700927734, 100.60900115966797, 100.40699768066406, 100.20500183105469, 100.00299835205078], [119.9990005493164, 119.7969970703125, 119.59500122070312, 119.39299774169922, 119.19100189208984, 118.98899841308594, 118.78700256347656, 118.58499908447266, 118.38300323486328, 118.18099975585938, 117.97899627685547, 117.7770004272461, 117.57499694824219, 117.37300109863281, 117.1709976196289, 116.96900177001953, 116.76699829101562, 116.56500244140625, 116.36299896240234, 116.16100311279297, 115.95899963378906, 115.75700378417969, 115.55500030517578, 115.35299682617188, 115.1510009765625, 114.94999694824219, 114.74800109863281, 114.5459976196289, 114.34400177001953, 114.14199829101562, 113.94000244140625, 113.73799896240234, 113.53600311279297, 113.33399963378906, 113.13200378417969, 112.93000030517578, 112.72799682617188, 112.5260009765625, 112.3239974975586, 112.12200164794922, 111.91999816894531, 111.71800231933594, 111.51599884033203, 111.31400299072266, 111.11199951171875, 110.91000366210938, 110.70800018310547, 110.50599670410156, 110.30400085449219, 110.10199737548828, 109.9000015258789, 109.697998046875, 109.49600219726562, 109.29399871826172, 109.09200286865234, 108.88999938964844, 108.68800354003906, 108.48600006103516, 108.28399658203125, 108.08200073242188, 107.87999725341797, 107.6780014038086, 107.47599792480469, 107.27400207519531, 107.0719985961914, 106.87000274658203, 106.66799926757812, 106.46600341796875, 106.26399993896484, 106.06199645996094, 105.86000061035156, 105.65799713134766, 105.45600128173828, 105.25399780273438, 105.052001953125, 104.8499984741211, 104.64800262451172, 104.44599914550781, 104.24400329589844, 104.04199981689453, 103.83999633789062, 103.63800048828125, 103.43599700927734, 103.23400115966797, 103.03199768066406, 102.83000183105469, 102.62799835205078, 102.4260025024414, 102.2239990234375, 102.02200317382812, 101.81999969482422, 101.61799621582031, 101.41600036621094, 101.21399688720703, 101.01200103759766, 100.81099700927734, 100.60900115966797, 100.40699768066406, 100.20500183105469, 100.00299835205078], [119.9990005493164, 119.7969970703125, 119.59500122070312, 119.39299774169922, 119.19100189208984, 118.98899841308594, 118.78700256347656, 118.58499908447266, 118.38300323486328, 118.18099975585938, 117.97899627685547, 117.7770004272461, 117.57499694824219, 117.37300109863281, 117.1709976196289, 116.96900177001953, 116.76699829101562, 116.56500244140625, 116.36299896240234, 116.16100311279297, 115.95899963378906, 115.75700378417969, 115.55500030517578, 115.35299682617188, 115.1510009765625, 114.94999694824219, 114.74800109863281, 114.5459976196289, 114.34400177001953, 114.14199829101562, 113.94000244140625, 113.73799896240234, 113.53600311279297, 113.33399963378906, 113.13200378417969, 112.93000030517578, 112.72799682617188, 112.5260009765625, 112.3239974975586, 112.12200164794922, 111.91999816894531, 111.71800231933594, 111.51599884033203, 111.31400299072266, 111.11199951171875, 110.91000366210938, 110.70800018310547, 110.50599670410156, 110.30400085449219, 110.10199737548828, 109.9000015258789, 109.697998046875, 109.49600219726562, 109.29399871826172, 109.09200286865234, 108.88999938964844, 108.68800354003906, 108.48600006103516, 108.28399658203125, 108.08200073242188, 107.87999725341797, 107.6780014038086, 107.47599792480469, 107.27400207519531, 107.0719985961914, 106.87000274658203, 106.66799926757812, 106.46600341796875, 106.26399993896484, 106.06199645996094, 105.86000061035156, 105.65799713134766, 105.45600128173828, 105.25399780273438, 105.052001953125, 104.8499984741211, 104.64800262451172, 104.44599914550781, 104.24400329589844, 104.04199981689453, 103.83999633789062, 103.63800048828125, 103.43599700927734, 103.23400115966797, 103.03199768066406, 102.83000183105469, 102.62799835205078, 102.4260025024414, 102.2239990234375, 102.02200317382812, 101.81999969482422, 101.61799621582031, 101.41600036621094, 101.21399688720703, 101.01200103759766, 100.81099700927734, 100.60900115966797, 100.40699768066406, 100.20500183105469, 100.00299835205078], [119.9990005493164, 119.7969970703125, 119.59500122070312, 119.39299774169922, 119.19100189208984, 118.98899841308594, 118.78700256347656, 118.58499908447266, 118.38300323486328, 118.18099975585938, 117.97899627685547, 117.7770004272461, 117.57499694824219, 117.37300109863281, 117.1709976196289, 116.96900177001953, 116.76699829101562, 116.56500244140625, 116.36299896240234, 116.16100311279297, 115.95899963378906, 115.75700378417969, 115.55500030517578, 115.35299682617188, 115.1510009765625, 114.94999694824219, 114.74800109863281, 114.5459976196289, 114.34400177001953, 114.14199829101562, 113.94000244140625, 113.73799896240234, 113.53600311279297, 113.33399963378906, 113.13200378417969, 112.93000030517578, 112.72799682617188, 112.5260009765625, 112.3239974975586, 112.12200164794922, 111.91999816894531, 111.71800231933594, 111.51599884033203, 111.31400299072266, 111.11199951171875, 110.91000366210938, 110.70800018310547, 110.50599670410156, 110.30400085449219, 110.10199737548828, 109.9000015258789, 109.697998046875, 109.49600219726562, 109.29399871826172, 109.09200286865234, 108.88999938964844, 108.68800354003906, 108.48600006103516, 108.28399658203125, 108.08200073242188, 107.87999725341797, 107.6780014038086, 107.47599792480469, 107.27400207519531, 107.0719985961914, 106.87000274658203, 106.66799926757812, 106.46600341796875, 106.26399993896484, 106.06199645996094, 105.86000061035156, 105.65799713134766, 105.45600128173828, 105.25399780273438, 105.052001953125, 104.8499984741211, 104.64800262451172, 104.44599914550781, 104.24400329589844, 104.04199981689453, 103.83999633789062, 103.63800048828125, 103.43599700927734, 103.23400115966797, 103.03199768066406, 102.83000183105469, 102.62799835205078, 102.4260025024414, 102.2239990234375, 102.02200317382812, 101.81999969482422, 101.61799621582031, 101.41600036621094, 101.21399688720703, 101.01200103759766, 100.81099700927734, 100.60900115966797, 100.40699768066406, 100.20500183105469, 100.00299835205078], [119.9990005493164, 119.7969970703125, 119.59500122070312, 119.39299774169922, 119.19100189208984, 118.98899841308594, 118.78700256347656, 118.58499908447266, 118.38300323486328, 118.18099975585938, 117.97899627685547, 117.7770004272461, 117.57499694824219, 117.37300109863281, 117.1709976196289, 116.96900177001953, 116.76699829101562, 116.56500244140625, 116.36299896240234, 116.16100311279297, 115.95899963378906, 115.75700378417969, 115.55500030517578, 115.35299682617188, 115.1510009765625, 114.94999694824219, 114.74800109863281, 114.5459976196289, 114.34400177001953, 114.14199829101562, 113.94000244140625, 113.73799896240234, 113.53600311279297, 113.33399963378906, 113.13200378417969, 112.93000030517578, 112.72799682617188, 112.5260009765625, 112.3239974975586, 112.12200164794922, 111.91999816894531, 111.71800231933594, 111.51599884033203, 111.31400299072266, 111.11199951171875, 110.91000366210938, 110.70800018310547, 110.50599670410156, 110.30400085449219, 110.10199737548828, 109.9000015258789, 109.697998046875, 109.49600219726562, 109.29399871826172, 109.09200286865234, 108.88999938964844, 108.68800354003906, 108.48600006103516, 108.28399658203125, 108.08200073242188, 107.87999725341797, 107.6780014038086, 107.47599792480469, 107.27400207519531, 107.0719985961914, 106.87000274658203, 106.66799926757812, 106.46600341796875, 106.26399993896484, 106.06199645996094, 105.86000061035156, 105.65799713134766, 105.45600128173828, 105.25399780273438, 105.052001953125, 104.8499984741211, 104.64800262451172, 104.44599914550781, 104.24400329589844, 104.04199981689453, 103.83999633789062, 103.63800048828125, 103.43599700927734, 103.23400115966797, 103.03199768066406, 102.83000183105469, 102.62799835205078, 102.4260025024414, 102.2239990234375, 102.02200317382812, 101.81999969482422, 101.61799621582031, 101.41600036621094, 101.21399688720703, 101.01200103759766, 100.81099700927734, 100.60900115966797, 100.40699768066406, 100.20500183105469, 100.00299835205078], [119.9990005493164, 119.7969970703125, 119.59500122070312, 119.39299774169922, 119.19100189208984, 118.98899841308594, 118.78700256347656, 118.58499908447266, 118.38300323486328, 118.18099975585938, 117.97899627685547, 117.7770004272461, 117.57499694824219, 117.37300109863281, 117.1709976196289, 116.96900177001953, 116.76699829101562, 116.56500244140625, 116.36299896240234, 116.16100311279297, 115.95899963378906, 115.75700378417969, 115.55500030517578, 115.35299682617188, 115.1510009765625, 114.94999694824219, 114.74800109863281, 114.5459976196289, 114.34400177001953, 114.14199829101562, 113.94000244140625, 113.73799896240234, 113.53600311279297, 113.33399963378906, 113.13200378417969, 112.93000030517578, 112.72799682617188, 112.5260009765625, 112.3239974975586, 112.12200164794922, 111.91999816894531, 111.71800231933594, 111.51599884033203, 111.31400299072266, 111.11199951171875, 110.91000366210938, 110.70800018310547, 110.50599670410156, 110.30400085449219, 110.10199737548828, 109.9000015258789, 109.697998046875, 109.49600219726562, 109.29399871826172, 109.09200286865234, 108.88999938964844, 108.68800354003906, 108.48600006103516, 108.28399658203125, 108.08200073242188, 107.87999725341797, 107.6780014038086, 107.47599792480469, 107.27400207519531, 107.0719985961914, 106.87000274658203, 106.66799926757812, 106.46600341796875, 106.26399993896484, 106.06199645996094, 105.86000061035156, 105.65799713134766, 105.45600128173828, 105.25399780273438, 105.052001953125, 104.8499984741211, 104.64800262451172, 104.44599914550781, 104.24400329589844, 104.04199981689453, 103.83999633789062, 103.63800048828125, 103.43599700927734, 103.23400115966797, 103.03199768066406, 102.83000183105469, 102.62799835205078, 102.4260025024414, 102.2239990234375, 102.02200317382812, 101.81999969482422, 101.61799621582031, 101.41600036621094, 101.21399688720703, 101.01200103759766, 100.81099700927734, 100.60900115966797, 100.40699768066406, 100.20500183105469, 100.00299835205078], [119.9990005493164, 119.7969970703125, 119.59500122070312, 119.39299774169922, 119.19100189208984, 118.98899841308594, 118.78700256347656, 118.58499908447266, 118.38300323486328, 118.18099975585938, 117.97899627685547, 117.7770004272461, 117.57499694824219, 117.37300109863281, 117.1709976196289, 116.96900177001953, 116.76699829101562, 116.56500244140625, 116.36299896240234, 116.16100311279297, 115.95899963378906, 115.75700378417969, 115.55500030517578, 115.35299682617188, 115.1510009765625, 114.94999694824219, 114.74800109863281, 114.5459976196289, 114.34400177001953, 114.14199829101562, 113.94000244140625, 113.73799896240234, 113.53600311279297, 113.33399963378906, 113.13200378417969, 112.93000030517578, 112.72799682617188, 112.5260009765625, 112.3239974975586, 112.12200164794922, 111.91999816894531, 111.71800231933594, 111.51599884033203, 111.31400299072266, 111.11199951171875, 110.91000366210938, 110.70800018310547, 110.50599670410156, 110.30400085449219, 110.10199737548828, 109.9000015258789, 109.697998046875, 109.49600219726562, 109.29399871826172, 109.09200286865234, 108.88999938964844, 108.68800354003906, 108.48600006103516, 108.28399658203125, 108.08200073242188, 107.87999725341797, 107.6780014038086, 107.47599792480469, 107.27400207519531, 107.0719985961914, 106.87000274658203, 106.66799926757812, 106.46600341796875, 106.26399993896484, 106.06199645996094, 105.86000061035156, 105.65799713134766, 105.45600128173828, 105.25399780273438, 105.052001953125, 104.8499984741211, 104.64800262451172, 104.44599914550781, 104.24400329589844, 104.04199981689453, 103.83999633789062, 103.63800048828125, 103.43599700927734, 103.23400115966797, 103.03199768066406, 102.83000183105469, 102.62799835205078, 102.4260025024414, 102.2239990234375, 102.02200317382812, 101.81999969482422, 101.61799621582031, 101.41600036621094, 101.21399688720703, 101.01200103759766, 100.81099700927734, 100.60900115966797, 100.40699768066406, 100.20500183105469, 100.00299835205078], [119.9990005493164, 119.7969970703125, 119.59500122070312, 119.39299774169922, 119.19100189208984, 118.98899841308594, 118.78700256347656, 118.58499908447266, 118.38300323486328, 118.18099975585938, 117.97899627685547, 117.7770004272461, 117.57499694824219, 117.37300109863281, 117.1709976196289, 116.96900177001953, 116.76699829101562, 116.56500244140625, 116.36299896240234, 116.16100311279297, 115.95899963378906, 115.75700378417969, 115.55500030517578, 115.35299682617188, 115.1510009765625, 114.94999694824219, 114.74800109863281, 114.5459976196289, 114.34400177001953, 114.14199829101562, 113.94000244140625, 113.73799896240234, 113.53600311279297, 113.33399963378906, 113.13200378417969, 112.93000030517578, 112.72799682617188, 112.5260009765625, 112.3239974975586, 112.12200164794922, 111.91999816894531, 111.71800231933594, 111.51599884033203, 111.31400299072266, 111.11199951171875, 110.91000366210938, 110.70800018310547, 110.50599670410156, 110.30400085449219, 110.10199737548828, 109.9000015258789, 109.697998046875, 109.49600219726562, 109.29399871826172, 109.09200286865234, 108.88999938964844, 108.68800354003906, 108.48600006103516, 108.28399658203125, 108.08200073242188, 107.87999725341797, 107.6780014038086, 107.47599792480469, 107.27400207519531, 107.0719985961914, 106.87000274658203, 106.66799926757812, 106.46600341796875, 106.26399993896484, 106.06199645996094, 105.86000061035156, 105.65799713134766, 105.45600128173828, 105.25399780273438, 105.052001953125, 104.8499984741211, 104.64800262451172, 104.44599914550781, 104.24400329589844, 104.04199981689453, 103.83999633789062, 103.63800048828125, 103.43599700927734, 103.23400115966797, 103.03199768066406, 102.83000183105469, 102.62799835205078, 102.4260025024414, 102.2239990234375, 102.02200317382812, 101.81999969482422, 101.61799621582031, 101.41600036621094, 101.21399688720703, 101.01200103759766, 100.81099700927734, 100.60900115966797, 100.40699768066406, 100.20500183105469, 100.00299835205078], [119.9990005493164, 119.7969970703125, 119.59500122070312, 119.39299774169922, 119.19100189208984, 118.98899841308594, 118.78700256347656, 118.58499908447266, 118.38300323486328, 118.18099975585938, 117.97899627685547, 117.7770004272461, 117.57499694824219, 117.37300109863281, 117.1709976196289, 116.96900177001953, 116.76699829101562, 116.56500244140625, 116.36299896240234, 116.16100311279297, 115.95899963378906, 115.75700378417969, 115.55500030517578, 115.35299682617188, 115.1510009765625, 114.94999694824219, 114.74800109863281, 114.5459976196289, 114.34400177001953, 114.14199829101562, 113.94000244140625, 113.73799896240234, 113.53600311279297, 113.33399963378906, 113.13200378417969, 112.93000030517578, 112.72799682617188, 112.5260009765625, 112.3239974975586, 112.12200164794922, 111.91999816894531, 111.71800231933594, 111.51599884033203, 111.31400299072266, 111.11199951171875, 110.91000366210938, 110.70800018310547, 110.50599670410156, 110.30400085449219, 110.10199737548828, 109.9000015258789, 109.697998046875, 109.49600219726562, 109.29399871826172, 109.09200286865234, 108.88999938964844, 108.68800354003906, 108.48600006103516, 108.28399658203125, 108.08200073242188, 107.87999725341797, 107.6780014038086, 107.47599792480469, 107.27400207519531, 107.0719985961914, 106.87000274658203, 106.66799926757812, 106.46600341796875, 106.26399993896484, 106.06199645996094, 105.86000061035156, 105.65799713134766, 105.45600128173828, 105.25399780273438, 105.052001953125, 104.8499984741211, 104.64800262451172, 104.44599914550781, 104.24400329589844, 104.04199981689453, 103.83999633789062, 103.63800048828125, 103.43599700927734, 103.23400115966797, 103.03199768066406, 102.83000183105469, 102.62799835205078, 102.4260025024414, 102.2239990234375, 102.02200317382812, 101.81999969482422, 101.61799621582031, 101.41600036621094, 101.21399688720703, 101.01200103759766, 100.81099700927734, 100.60900115966797, 100.40699768066406, 100.20500183105469, 100.00299835205078], [119.9990005493164, 119.7969970703125, 119.59500122070312, 119.39299774169922, 119.19100189208984, 118.98899841308594, 118.78700256347656, 118.58499908447266, 118.38300323486328, 118.18099975585938, 117.97899627685547, 117.7770004272461, 117.57499694824219, 117.37300109863281, 117.1709976196289, 116.96900177001953, 116.76699829101562, 116.56500244140625, 116.36299896240234, 116.16100311279297, 115.95899963378906, 115.75700378417969, 115.55500030517578, 115.35299682617188, 115.1510009765625, 114.94999694824219, 114.74800109863281, 114.5459976196289, 114.34400177001953, 114.14199829101562, 113.94000244140625, 113.73799896240234, 113.53600311279297, 113.33399963378906, 113.13200378417969, 112.93000030517578, 112.72799682617188, 112.5260009765625, 112.3239974975586, 112.12200164794922, 111.91999816894531, 111.71800231933594, 111.51599884033203, 111.31400299072266, 111.11199951171875, 110.91000366210938, 110.70800018310547, 110.50599670410156, 110.30400085449219, 110.10199737548828, 109.9000015258789, 109.697998046875, 109.49600219726562, 109.29399871826172, 109.09200286865234, 108.88999938964844, 108.68800354003906, 108.48600006103516, 108.28399658203125, 108.08200073242188, 107.87999725341797, 107.6780014038086, 107.47599792480469, 107.27400207519531, 107.0719985961914, 106.87000274658203, 106.66799926757812, 106.46600341796875, 106.26399993896484, 106.06199645996094, 105.86000061035156, 105.65799713134766, 105.45600128173828, 105.25399780273438, 105.052001953125, 104.8499984741211, 104.64800262451172, 104.44599914550781, 104.24400329589844, 104.04199981689453, 103.83999633789062, 103.63800048828125, 103.43599700927734, 103.23400115966797, 103.03199768066406, 102.83000183105469, 102.62799835205078, 102.4260025024414, 102.2239990234375, 102.02200317382812, 101.81999969482422, 101.61799621582031, 101.41600036621094, 101.21399688720703, 101.01200103759766, 100.81099700927734, 100.60900115966797, 100.40699768066406, 100.20500183105469, 100.00299835205078], [119.9990005493164, 119.7969970703125, 119.59500122070312, 119.39299774169922, 119.19100189208984, 118.98899841308594, 118.78700256347656, 118.58499908447266, 118.38300323486328, 118.18099975585938, 117.97899627685547, 117.7770004272461, 117.57499694824219, 117.37300109863281, 117.1709976196289, 116.96900177001953, 116.76699829101562, 116.56500244140625, 116.36299896240234, 116.16100311279297, 115.95899963378906, 115.75700378417969, 115.55500030517578, 115.35299682617188, 115.1510009765625, 114.94999694824219, 114.74800109863281, 114.5459976196289, 114.34400177001953, 114.14199829101562, 113.94000244140625, 113.73799896240234, 113.53600311279297, 113.33399963378906, 113.13200378417969, 112.93000030517578, 112.72799682617188, 112.5260009765625, 112.3239974975586, 112.12200164794922, 111.91999816894531, 111.71800231933594, 111.51599884033203, 111.31400299072266, 111.11199951171875, 110.91000366210938, 110.70800018310547, 110.50599670410156, 110.30400085449219, 110.10199737548828, 109.9000015258789, 109.697998046875, 109.49600219726562, 109.29399871826172, 109.09200286865234, 108.88999938964844, 108.68800354003906, 108.48600006103516, 108.28399658203125, 108.08200073242188, 107.87999725341797, 107.6780014038086, 107.47599792480469, 107.27400207519531, 107.0719985961914, 106.87000274658203, 106.66799926757812, 106.46600341796875, 106.26399993896484, 106.06199645996094, 105.86000061035156, 105.65799713134766, 105.45600128173828, 105.25399780273438, 105.052001953125, 104.8499984741211, 104.64800262451172, 104.44599914550781, 104.24400329589844, 104.04199981689453, 103.83999633789062, 103.63800048828125, 103.43599700927734, 103.23400115966797, 103.03199768066406, 102.83000183105469, 102.62799835205078, 102.4260025024414, 102.2239990234375, 102.02200317382812, 101.81999969482422, 101.61799621582031, 101.41600036621094, 101.21399688720703, 101.01200103759766, 100.81099700927734, 100.60900115966797, 100.40699768066406, 100.20500183105469, 100.00299835205078], [119.9990005493164, 119.7969970703125, 119.59500122070312, 119.39299774169922, 119.19100189208984, 118.98899841308594, 118.78700256347656, 118.58499908447266, 118.38300323486328, 118.18099975585938, 117.97899627685547, 117.7770004272461, 117.57499694824219, 117.37300109863281, 117.1709976196289, 116.96900177001953, 116.76699829101562, 116.56500244140625, 116.36299896240234, 116.16100311279297, 115.95899963378906, 115.75700378417969, 115.55500030517578, 115.35299682617188, 115.1510009765625, 114.94999694824219, 114.74800109863281, 114.5459976196289, 114.34400177001953, 114.14199829101562, 113.94000244140625, 113.73799896240234, 113.53600311279297, 113.33399963378906, 113.13200378417969, 112.93000030517578, 112.72799682617188, 112.5260009765625, 112.3239974975586, 112.12200164794922, 111.91999816894531, 111.71800231933594, 111.51599884033203, 111.31400299072266, 111.11199951171875, 110.91000366210938, 110.70800018310547, 110.50599670410156, 110.30400085449219, 110.10199737548828, 109.9000015258789, 109.697998046875, 109.49600219726562, 109.29399871826172, 109.09200286865234, 108.88999938964844, 108.68800354003906, 108.48600006103516, 108.28399658203125, 108.08200073242188, 107.87999725341797, 107.6780014038086, 107.47599792480469, 107.27400207519531, 107.0719985961914, 106.87000274658203, 106.66799926757812, 106.46600341796875, 106.26399993896484, 106.06199645996094, 105.86000061035156, 105.65799713134766, 105.45600128173828, 105.25399780273438, 105.052001953125, 104.8499984741211, 104.64800262451172, 104.44599914550781, 104.24400329589844, 104.04199981689453, 103.83999633789062, 103.63800048828125, 103.43599700927734, 103.23400115966797, 103.03199768066406, 102.83000183105469, 102.62799835205078, 102.4260025024414, 102.2239990234375, 102.02200317382812, 101.81999969482422, 101.61799621582031, 101.41600036621094, 101.21399688720703, 101.01200103759766, 100.81099700927734, 100.60900115966797, 100.40699768066406, 100.20500183105469, 100.00299835205078], [119.9990005493164, 119.7969970703125, 119.59500122070312, 119.39299774169922, 119.19100189208984, 118.98899841308594, 118.78700256347656, 118.58499908447266, 118.38300323486328, 118.18099975585938, 117.97899627685547, 117.7770004272461, 117.57499694824219, 117.37300109863281, 117.1709976196289, 116.96900177001953, 116.76699829101562, 116.56500244140625, 116.36299896240234, 116.16100311279297, 115.95899963378906, 115.75700378417969, 115.55500030517578, 115.35299682617188, 115.1510009765625, 114.94999694824219, 114.74800109863281, 114.5459976196289, 114.34400177001953, 114.14199829101562, 113.94000244140625, 113.73799896240234, 113.53600311279297, 113.33399963378906, 113.13200378417969, 112.93000030517578, 112.72799682617188, 112.5260009765625, 112.3239974975586, 112.12200164794922, 111.91999816894531, 111.71800231933594, 111.51599884033203, 111.31400299072266, 111.11199951171875, 110.91000366210938, 110.70800018310547, 110.50599670410156, 110.30400085449219, 110.10199737548828, 109.9000015258789, 109.697998046875, 109.49600219726562, 109.29399871826172, 109.09200286865234, 108.88999938964844, 108.68800354003906, 108.48600006103516, 108.28399658203125, 108.08200073242188, 107.87999725341797, 107.6780014038086, 107.47599792480469, 107.27400207519531, 107.0719985961914, 106.87000274658203, 106.66799926757812, 106.46600341796875, 106.26399993896484, 106.06199645996094, 105.86000061035156, 105.65799713134766, 105.45600128173828, 105.25399780273438, 105.052001953125, 104.8499984741211, 104.64800262451172, 104.44599914550781, 104.24400329589844, 104.04199981689453, 103.83999633789062, 103.63800048828125, 103.43599700927734, 103.23400115966797, 103.03199768066406, 102.83000183105469, 102.62799835205078, 102.4260025024414, 102.2239990234375, 102.02200317382812, 101.81999969482422, 101.61799621582031, 101.41600036621094, 101.21399688720703, 101.01200103759766, 100.81099700927734, 100.60900115966797, 100.40699768066406, 100.20500183105469, 100.00299835205078], [119.9990005493164, 119.7969970703125, 119.59500122070312, 119.39299774169922, 119.19100189208984, 118.98899841308594, 118.78700256347656, 118.58499908447266, 118.38300323486328, 118.18099975585938, 117.97899627685547, 117.7770004272461, 117.57499694824219, 117.37300109863281, 117.1709976196289, 116.96900177001953, 116.76699829101562, 116.56500244140625, 116.36299896240234, 116.16100311279297, 115.95899963378906, 115.75700378417969, 115.55500030517578, 115.35299682617188, 115.1510009765625, 114.94999694824219, 114.74800109863281, 114.5459976196289, 114.34400177001953, 114.14199829101562, 113.94000244140625, 113.73799896240234, 113.53600311279297, 113.33399963378906, 113.13200378417969, 112.93000030517578, 112.72799682617188, 112.5260009765625, 112.3239974975586, 112.12200164794922, 111.91999816894531, 111.71800231933594, 111.51599884033203, 111.31400299072266, 111.11199951171875, 110.91000366210938, 110.70800018310547, 110.50599670410156, 110.30400085449219, 110.10199737548828, 109.9000015258789, 109.697998046875, 109.49600219726562, 109.29399871826172, 109.09200286865234, 108.88999938964844, 108.68800354003906, 108.48600006103516, 108.28399658203125, 108.08200073242188, 107.87999725341797, 107.6780014038086, 107.47599792480469, 107.27400207519531, 107.0719985961914, 106.87000274658203, 106.66799926757812, 106.46600341796875, 106.26399993896484, 106.06199645996094, 105.86000061035156, 105.65799713134766, 105.45600128173828, 105.25399780273438, 105.052001953125, 104.8499984741211, 104.64800262451172, 104.44599914550781, 104.24400329589844, 104.04199981689453, 103.83999633789062, 103.63800048828125, 103.43599700927734, 103.23400115966797, 103.03199768066406, 102.83000183105469, 102.62799835205078, 102.4260025024414, 102.2239990234375, 102.02200317382812, 101.81999969482422, 101.61799621582031, 101.41600036621094, 101.21399688720703, 101.01200103759766, 100.81099700927734, 100.60900115966797, 100.40699768066406, 100.20500183105469, 100.00299835205078], [119.9990005493164, 119.7969970703125, 119.59500122070312, 119.39299774169922, 119.19100189208984, 118.98899841308594, 118.78700256347656, 118.58499908447266, 118.38300323486328, 118.18099975585938, 117.97899627685547, 117.7770004272461, 117.57499694824219, 117.37300109863281, 117.1709976196289, 116.96900177001953, 116.76699829101562, 116.56500244140625, 116.36299896240234, 116.16100311279297, 115.95899963378906, 115.75700378417969, 115.55500030517578, 115.35299682617188, 115.1510009765625, 114.94999694824219, 114.74800109863281, 114.5459976196289, 114.34400177001953, 114.14199829101562, 113.94000244140625, 113.73799896240234, 113.53600311279297, 113.33399963378906, 113.13200378417969, 112.93000030517578, 112.72799682617188, 112.5260009765625, 112.3239974975586, 112.12200164794922, 111.91999816894531, 111.71800231933594, 111.51599884033203, 111.31400299072266, 111.11199951171875, 110.91000366210938, 110.70800018310547, 110.50599670410156, 110.30400085449219, 110.10199737548828, 109.9000015258789, 109.697998046875, 109.49600219726562, 109.29399871826172, 109.09200286865234, 108.88999938964844, 108.68800354003906, 108.48600006103516, 108.28399658203125, 108.08200073242188, 107.87999725341797, 107.6780014038086, 107.47599792480469, 107.27400207519531, 107.0719985961914, 106.87000274658203, 106.66799926757812, 106.46600341796875, 106.26399993896484, 106.06199645996094, 105.86000061035156, 105.65799713134766, 105.45600128173828, 105.25399780273438, 105.052001953125, 104.8499984741211, 104.64800262451172, 104.44599914550781, 104.24400329589844, 104.04199981689453, 103.83999633789062, 103.63800048828125, 103.43599700927734, 103.23400115966797, 103.03199768066406, 102.83000183105469, 102.62799835205078, 102.4260025024414, 102.2239990234375, 102.02200317382812, 101.81999969482422, 101.61799621582031, 101.41600036621094, 101.21399688720703, 101.01200103759766, 100.81099700927734, 100.60900115966797, 100.40699768066406, 100.20500183105469, 100.00299835205078], [119.9990005493164, 119.7969970703125, 119.59500122070312, 119.39299774169922, 119.19100189208984, 118.98899841308594, 118.78700256347656, 118.58499908447266, 118.38300323486328, 118.18099975585938, 117.97899627685547, 117.7770004272461, 117.57499694824219, 117.37300109863281, 117.1709976196289, 116.96900177001953, 116.76699829101562, 116.56500244140625, 116.36299896240234, 116.16100311279297, 115.95899963378906, 115.75700378417969, 115.55500030517578, 115.35299682617188, 115.1510009765625, 114.94999694824219, 114.74800109863281, 114.5459976196289, 114.34400177001953, 114.14199829101562, 113.94000244140625, 113.73799896240234, 113.53600311279297, 113.33399963378906, 113.13200378417969, 112.93000030517578, 112.72799682617188, 112.5260009765625, 112.3239974975586, 112.12200164794922, 111.91999816894531, 111.71800231933594, 111.51599884033203, 111.31400299072266, 111.11199951171875, 110.91000366210938, 110.70800018310547, 110.50599670410156, 110.30400085449219, 110.10199737548828, 109.9000015258789, 109.697998046875, 109.49600219726562, 109.29399871826172, 109.09200286865234, 108.88999938964844, 108.68800354003906, 108.48600006103516, 108.28399658203125, 108.08200073242188, 107.87999725341797, 107.6780014038086, 107.47599792480469, 107.27400207519531, 107.0719985961914, 106.87000274658203, 106.66799926757812, 106.46600341796875, 106.26399993896484, 106.06199645996094, 105.86000061035156, 105.65799713134766, 105.45600128173828, 105.25399780273438, 105.052001953125, 104.8499984741211, 104.64800262451172, 104.44599914550781, 104.24400329589844, 104.04199981689453, 103.83999633789062, 103.63800048828125, 103.43599700927734, 103.23400115966797, 103.03199768066406, 102.83000183105469, 102.62799835205078, 102.4260025024414, 102.2239990234375, 102.02200317382812, 101.81999969482422, 101.61799621582031, 101.41600036621094, 101.21399688720703, 101.01200103759766, 100.81099700927734, 100.60900115966797, 100.40699768066406, 100.20500183105469, 100.00299835205078], [119.9990005493164, 119.7969970703125, 119.59500122070312, 119.39299774169922, 119.19100189208984, 118.98899841308594, 118.78700256347656, 118.58499908447266, 118.38300323486328, 118.18099975585938, 117.97899627685547, 117.7770004272461, 117.57499694824219, 117.37300109863281, 117.1709976196289, 116.96900177001953, 116.76699829101562, 116.56500244140625, 116.36299896240234, 116.16100311279297, 115.95899963378906, 115.75700378417969, 115.55500030517578, 115.35299682617188, 115.1510009765625, 114.94999694824219, 114.74800109863281, 114.5459976196289, 114.34400177001953, 114.14199829101562, 113.94000244140625, 113.73799896240234, 113.53600311279297, 113.33399963378906, 113.13200378417969, 112.93000030517578, 112.72799682617188, 112.5260009765625, 112.3239974975586, 112.12200164794922, 111.91999816894531, 111.71800231933594, 111.51599884033203, 111.31400299072266, 111.11199951171875, 110.91000366210938, 110.70800018310547, 110.50599670410156, 110.30400085449219, 110.10199737548828, 109.9000015258789, 109.697998046875, 109.49600219726562, 109.29399871826172, 109.09200286865234, 108.88999938964844, 108.68800354003906, 108.48600006103516, 108.28399658203125, 108.08200073242188, 107.87999725341797, 107.6780014038086, 107.47599792480469, 107.27400207519531, 107.0719985961914, 106.87000274658203, 106.66799926757812, 106.46600341796875, 106.26399993896484, 106.06199645996094, 105.86000061035156, 105.65799713134766, 105.45600128173828, 105.25399780273438, 105.052001953125, 104.8499984741211, 104.64800262451172, 104.44599914550781, 104.24400329589844, 104.04199981689453, 103.83999633789062, 103.63800048828125, 103.43599700927734, 103.23400115966797, 103.03199768066406, 102.83000183105469, 102.62799835205078, 102.4260025024414, 102.2239990234375, 102.02200317382812, 101.81999969482422, 101.61799621582031, 101.41600036621094, 101.21399688720703, 101.01200103759766, 100.81099700927734, 100.60900115966797, 100.40699768066406, 100.20500183105469, 100.00299835205078], [119.9990005493164, 119.7969970703125, 119.59500122070312, 119.39299774169922, 119.19100189208984, 118.98899841308594, 118.78700256347656, 118.58499908447266, 118.38300323486328, 118.18099975585938, 117.97899627685547, 117.7770004272461, 117.57499694824219, 117.37300109863281, 117.1709976196289, 116.96900177001953, 116.76699829101562, 116.56500244140625, 116.36299896240234, 116.16100311279297, 115.95899963378906, 115.75700378417969, 115.55500030517578, 115.35299682617188, 115.1510009765625, 114.94999694824219, 114.74800109863281, 114.5459976196289, 114.34400177001953, 114.14199829101562, 113.94000244140625, 113.73799896240234, 113.53600311279297, 113.33399963378906, 113.13200378417969, 112.93000030517578, 112.72799682617188, 112.5260009765625, 112.3239974975586, 112.12200164794922, 111.91999816894531, 111.71800231933594, 111.51599884033203, 111.31400299072266, 111.11199951171875, 110.91000366210938, 110.70800018310547, 110.50599670410156, 110.30400085449219, 110.10199737548828, 109.9000015258789, 109.697998046875, 109.49600219726562, 109.29399871826172, 109.09200286865234, 108.88999938964844, 108.68800354003906, 108.48600006103516, 108.28399658203125, 108.08200073242188, 107.87999725341797, 107.6780014038086, 107.47599792480469, 107.27400207519531, 107.0719985961914, 106.87000274658203, 106.66799926757812, 106.46600341796875, 106.26399993896484, 106.06199645996094, 105.86000061035156, 105.65799713134766, 105.45600128173828, 105.25399780273438, 105.052001953125, 104.8499984741211, 104.64800262451172, 104.44599914550781, 104.24400329589844, 104.04199981689453, 103.83999633789062, 103.63800048828125, 103.43599700927734, 103.23400115966797, 103.03199768066406, 102.83000183105469, 102.62799835205078, 102.4260025024414, 102.2239990234375, 102.02200317382812, 101.81999969482422, 101.61799621582031, 101.41600036621094, 101.21399688720703, 101.01200103759766, 100.81099700927734, 100.60900115966797, 100.40699768066406, 100.20500183105469, 100.00299835205078], [119.9990005493164, 119.7969970703125, 119.59500122070312, 119.39299774169922, 119.19100189208984, 118.98899841308594, 118.78700256347656, 118.58499908447266, 118.38300323486328, 118.18099975585938, 117.97899627685547, 117.7770004272461, 117.57499694824219, 117.37300109863281, 117.1709976196289, 116.96900177001953, 116.76699829101562, 116.56500244140625, 116.36299896240234, 116.16100311279297, 115.95899963378906, 115.75700378417969, 115.55500030517578, 115.35299682617188, 115.1510009765625, 114.94999694824219, 114.74800109863281, 114.5459976196289, 114.34400177001953, 114.14199829101562, 113.94000244140625, 113.73799896240234, 113.53600311279297, 113.33399963378906, 113.13200378417969, 112.93000030517578, 112.72799682617188, 112.5260009765625, 112.3239974975586, 112.12200164794922, 111.91999816894531, 111.71800231933594, 111.51599884033203, 111.31400299072266, 111.11199951171875, 110.91000366210938, 110.70800018310547, 110.50599670410156, 110.30400085449219, 110.10199737548828, 109.9000015258789, 109.697998046875, 109.49600219726562, 109.29399871826172, 109.09200286865234, 108.88999938964844, 108.68800354003906, 108.48600006103516, 108.28399658203125, 108.08200073242188, 107.87999725341797, 107.6780014038086, 107.47599792480469, 107.27400207519531, 107.0719985961914, 106.87000274658203, 106.66799926757812, 106.46600341796875, 106.26399993896484, 106.06199645996094, 105.86000061035156, 105.65799713134766, 105.45600128173828, 105.25399780273438, 105.052001953125, 104.8499984741211, 104.64800262451172, 104.44599914550781, 104.24400329589844, 104.04199981689453, 103.83999633789062, 103.63800048828125, 103.43599700927734, 103.23400115966797, 103.03199768066406, 102.83000183105469, 102.62799835205078, 102.4260025024414, 102.2239990234375, 102.02200317382812, 101.81999969482422, 101.61799621582031, 101.41600036621094, 101.21399688720703, 101.01200103759766, 100.81099700927734, 100.60900115966797, 100.40699768066406, 100.20500183105469, 100.00299835205078], [119.9990005493164, 119.7969970703125, 119.59500122070312, 119.39299774169922, 119.19100189208984, 118.98899841308594, 118.78700256347656, 118.58499908447266, 118.38300323486328, 118.18099975585938, 117.97899627685547, 117.7770004272461, 117.57499694824219, 117.37300109863281, 117.1709976196289, 116.96900177001953, 116.76699829101562, 116.56500244140625, 116.36299896240234, 116.16100311279297, 115.95899963378906, 115.75700378417969, 115.55500030517578, 115.35299682617188, 115.1510009765625, 114.94999694824219, 114.74800109863281, 114.5459976196289, 114.34400177001953, 114.14199829101562, 113.94000244140625, 113.73799896240234, 113.53600311279297, 113.33399963378906, 113.13200378417969, 112.93000030517578, 112.72799682617188, 112.5260009765625, 112.3239974975586, 112.12200164794922, 111.91999816894531, 111.71800231933594, 111.51599884033203, 111.31400299072266, 111.11199951171875, 110.91000366210938, 110.70800018310547, 110.50599670410156, 110.30400085449219, 110.10199737548828, 109.9000015258789, 109.697998046875, 109.49600219726562, 109.29399871826172, 109.09200286865234, 108.88999938964844, 108.68800354003906, 108.48600006103516, 108.28399658203125, 108.08200073242188, 107.87999725341797, 107.6780014038086, 107.47599792480469, 107.27400207519531, 107.0719985961914, 106.87000274658203, 106.66799926757812, 106.46600341796875, 106.26399993896484, 106.06199645996094, 105.86000061035156, 105.65799713134766, 105.45600128173828, 105.25399780273438, 105.052001953125, 104.8499984741211, 104.64800262451172, 104.44599914550781, 104.24400329589844, 104.04199981689453, 103.83999633789062, 103.63800048828125, 103.43599700927734, 103.23400115966797, 103.03199768066406, 102.83000183105469, 102.62799835205078, 102.4260025024414, 102.2239990234375, 102.02200317382812, 101.81999969482422, 101.61799621582031, 101.41600036621094, 101.21399688720703, 101.01200103759766, 100.81099700927734, 100.60900115966797, 100.40699768066406, 100.20500183105469, 100.00299835205078], [119.9990005493164, 119.7969970703125, 119.59500122070312, 119.39299774169922, 119.19100189208984, 118.98899841308594, 118.78700256347656, 118.58499908447266, 118.38300323486328, 118.18099975585938, 117.97899627685547, 117.7770004272461, 117.57499694824219, 117.37300109863281, 117.1709976196289, 116.96900177001953, 116.76699829101562, 116.56500244140625, 116.36299896240234, 116.16100311279297, 115.95899963378906, 115.75700378417969, 115.55500030517578, 115.35299682617188, 115.1510009765625, 114.94999694824219, 114.74800109863281, 114.5459976196289, 114.34400177001953, 114.14199829101562, 113.94000244140625, 113.73799896240234, 113.53600311279297, 113.33399963378906, 113.13200378417969, 112.93000030517578, 112.72799682617188, 112.5260009765625, 112.3239974975586, 112.12200164794922, 111.91999816894531, 111.71800231933594, 111.51599884033203, 111.31400299072266, 111.11199951171875, 110.91000366210938, 110.70800018310547, 110.50599670410156, 110.30400085449219, 110.10199737548828, 109.9000015258789, 109.697998046875, 109.49600219726562, 109.29399871826172, 109.09200286865234, 108.88999938964844, 108.68800354003906, 108.48600006103516, 108.28399658203125, 108.08200073242188, 107.87999725341797, 107.6780014038086, 107.47599792480469, 107.27400207519531, 107.0719985961914, 106.87000274658203, 106.66799926757812, 106.46600341796875, 106.26399993896484, 106.06199645996094, 105.86000061035156, 105.65799713134766, 105.45600128173828, 105.25399780273438, 105.052001953125, 104.8499984741211, 104.64800262451172, 104.44599914550781, 104.24400329589844, 104.04199981689453, 103.83999633789062, 103.63800048828125, 103.43599700927734, 103.23400115966797, 103.03199768066406, 102.83000183105469, 102.62799835205078, 102.4260025024414, 102.2239990234375, 102.02200317382812, 101.81999969482422, 101.61799621582031, 101.41600036621094, 101.21399688720703, 101.01200103759766, 100.81099700927734, 100.60900115966797, 100.40699768066406, 100.20500183105469, 100.00299835205078], [119.9990005493164, 119.7969970703125, 119.59500122070312, 119.39299774169922, 119.19100189208984, 118.98899841308594, 118.78700256347656, 118.58499908447266, 118.38300323486328, 118.18099975585938, 117.97899627685547, 117.7770004272461, 117.57499694824219, 117.37300109863281, 117.1709976196289, 116.96900177001953, 116.76699829101562, 116.56500244140625, 116.36299896240234, 116.16100311279297, 115.95899963378906, 115.75700378417969, 115.55500030517578, 115.35299682617188, 115.1510009765625, 114.94999694824219, 114.74800109863281, 114.5459976196289, 114.34400177001953, 114.14199829101562, 113.94000244140625, 113.73799896240234, 113.53600311279297, 113.33399963378906, 113.13200378417969, 112.93000030517578, 112.72799682617188, 112.5260009765625, 112.3239974975586, 112.12200164794922, 111.91999816894531, 111.71800231933594, 111.51599884033203, 111.31400299072266, 111.11199951171875, 110.91000366210938, 110.70800018310547, 110.50599670410156, 110.30400085449219, 110.10199737548828, 109.9000015258789, 109.697998046875, 109.49600219726562, 109.29399871826172, 109.09200286865234, 108.88999938964844, 108.68800354003906, 108.48600006103516, 108.28399658203125, 108.08200073242188, 107.87999725341797, 107.6780014038086, 107.47599792480469, 107.27400207519531, 107.0719985961914, 106.87000274658203, 106.66799926757812, 106.46600341796875, 106.26399993896484, 106.06199645996094, 105.86000061035156, 105.65799713134766, 105.45600128173828, 105.25399780273438, 105.052001953125, 104.8499984741211, 104.64800262451172, 104.44599914550781, 104.24400329589844, 104.04199981689453, 103.83999633789062, 103.63800048828125, 103.43599700927734, 103.23400115966797, 103.03199768066406, 102.83000183105469, 102.62799835205078, 102.4260025024414, 102.2239990234375, 102.02200317382812, 101.81999969482422, 101.61799621582031, 101.41600036621094, 101.21399688720703, 101.01200103759766, 100.81099700927734, 100.60900115966797, 100.40699768066406, 100.20500183105469, 100.00299835205078], [119.9990005493164, 119.7969970703125, 119.59500122070312, 119.39299774169922, 119.19100189208984, 118.98899841308594, 118.78700256347656, 118.58499908447266, 118.38300323486328, 118.18099975585938, 117.97899627685547, 117.7770004272461, 117.57499694824219, 117.37300109863281, 117.1709976196289, 116.96900177001953, 116.76699829101562, 116.56500244140625, 116.36299896240234, 116.16100311279297, 115.95899963378906, 115.75700378417969, 115.55500030517578, 115.35299682617188, 115.1510009765625, 114.94999694824219, 114.74800109863281, 114.5459976196289, 114.34400177001953, 114.14199829101562, 113.94000244140625, 113.73799896240234, 113.53600311279297, 113.33399963378906, 113.13200378417969, 112.93000030517578, 112.72799682617188, 112.5260009765625, 112.3239974975586, 112.12200164794922, 111.91999816894531, 111.71800231933594, 111.51599884033203, 111.31400299072266, 111.11199951171875, 110.91000366210938, 110.70800018310547, 110.50599670410156, 110.30400085449219, 110.10199737548828, 109.9000015258789, 109.697998046875, 109.49600219726562, 109.29399871826172, 109.09200286865234, 108.88999938964844, 108.68800354003906, 108.48600006103516, 108.28399658203125, 108.08200073242188, 107.87999725341797, 107.6780014038086, 107.47599792480469, 107.27400207519531, 107.0719985961914, 106.87000274658203, 106.66799926757812, 106.46600341796875, 106.26399993896484, 106.06199645996094, 105.86000061035156, 105.65799713134766, 105.45600128173828, 105.25399780273438, 105.052001953125, 104.8499984741211, 104.64800262451172, 104.44599914550781, 104.24400329589844, 104.04199981689453, 103.83999633789062, 103.63800048828125, 103.43599700927734, 103.23400115966797, 103.03199768066406, 102.83000183105469, 102.62799835205078, 102.4260025024414, 102.2239990234375, 102.02200317382812, 101.81999969482422, 101.61799621582031, 101.41600036621094, 101.21399688720703, 101.01200103759766, 100.81099700927734, 100.60900115966797, 100.40699768066406, 100.20500183105469, 100.00299835205078], [119.9990005493164, 119.7969970703125, 119.59500122070312, 119.39299774169922, 119.19100189208984, 118.98899841308594, 118.78700256347656, 118.58499908447266, 118.38300323486328, 118.18099975585938, 117.97899627685547, 117.7770004272461, 117.57499694824219, 117.37300109863281, 117.1709976196289, 116.96900177001953, 116.76699829101562, 116.56500244140625, 116.36299896240234, 116.16100311279297, 115.95899963378906, 115.75700378417969, 115.55500030517578, 115.35299682617188, 115.1510009765625, 114.94999694824219, 114.74800109863281, 114.5459976196289, 114.34400177001953, 114.14199829101562, 113.94000244140625, 113.73799896240234, 113.53600311279297, 113.33399963378906, 113.13200378417969, 112.93000030517578, 112.72799682617188, 112.5260009765625, 112.3239974975586, 112.12200164794922, 111.91999816894531, 111.71800231933594, 111.51599884033203, 111.31400299072266, 111.11199951171875, 110.91000366210938, 110.70800018310547, 110.50599670410156, 110.30400085449219, 110.10199737548828, 109.9000015258789, 109.697998046875, 109.49600219726562, 109.29399871826172, 109.09200286865234, 108.88999938964844, 108.68800354003906, 108.48600006103516, 108.28399658203125, 108.08200073242188, 107.87999725341797, 107.6780014038086, 107.47599792480469, 107.27400207519531, 107.0719985961914, 106.87000274658203, 106.66799926757812, 106.46600341796875, 106.26399993896484, 106.06199645996094, 105.86000061035156, 105.65799713134766, 105.45600128173828, 105.25399780273438, 105.052001953125, 104.8499984741211, 104.64800262451172, 104.44599914550781, 104.24400329589844, 104.04199981689453, 103.83999633789062, 103.63800048828125, 103.43599700927734, 103.23400115966797, 103.03199768066406, 102.83000183105469, 102.62799835205078, 102.4260025024414, 102.2239990234375, 102.02200317382812, 101.81999969482422, 101.61799621582031, 101.41600036621094, 101.21399688720703, 101.01200103759766, 100.81099700927734, 100.60900115966797, 100.40699768066406, 100.20500183105469, 100.00299835205078], [119.9990005493164, 119.7969970703125, 119.59500122070312, 119.39299774169922, 119.19100189208984, 118.98899841308594, 118.78700256347656, 118.58499908447266, 118.38300323486328, 118.18099975585938, 117.97899627685547, 117.7770004272461, 117.57499694824219, 117.37300109863281, 117.1709976196289, 116.96900177001953, 116.76699829101562, 116.56500244140625, 116.36299896240234, 116.16100311279297, 115.95899963378906, 115.75700378417969, 115.55500030517578, 115.35299682617188, 115.1510009765625, 114.94999694824219, 114.74800109863281, 114.5459976196289, 114.34400177001953, 114.14199829101562, 113.94000244140625, 113.73799896240234, 113.53600311279297, 113.33399963378906, 113.13200378417969, 112.93000030517578, 112.72799682617188, 112.5260009765625, 112.3239974975586, 112.12200164794922, 111.91999816894531, 111.71800231933594, 111.51599884033203, 111.31400299072266, 111.11199951171875, 110.91000366210938, 110.70800018310547, 110.50599670410156, 110.30400085449219, 110.10199737548828, 109.9000015258789, 109.697998046875, 109.49600219726562, 109.29399871826172, 109.09200286865234, 108.88999938964844, 108.68800354003906, 108.48600006103516, 108.28399658203125, 108.08200073242188, 107.87999725341797, 107.6780014038086, 107.47599792480469, 107.27400207519531, 107.0719985961914, 106.87000274658203, 106.66799926757812, 106.46600341796875, 106.26399993896484, 106.06199645996094, 105.86000061035156, 105.65799713134766, 105.45600128173828, 105.25399780273438, 105.052001953125, 104.8499984741211, 104.64800262451172, 104.44599914550781, 104.24400329589844, 104.04199981689453, 103.83999633789062, 103.63800048828125, 103.43599700927734, 103.23400115966797, 103.03199768066406, 102.83000183105469, 102.62799835205078, 102.4260025024414, 102.2239990234375, 102.02200317382812, 101.81999969482422, 101.61799621582031, 101.41600036621094, 101.21399688720703, 101.01200103759766, 100.81099700927734, 100.60900115966797, 100.40699768066406, 100.20500183105469, 100.00299835205078], [119.9990005493164, 119.7969970703125, 119.59500122070312, 119.39299774169922, 119.19100189208984, 118.98899841308594, 118.78700256347656, 118.58499908447266, 118.38300323486328, 118.18099975585938, 117.97899627685547, 117.7770004272461, 117.57499694824219, 117.37300109863281, 117.1709976196289, 116.96900177001953, 116.76699829101562, 116.56500244140625, 116.36299896240234, 116.16100311279297, 115.95899963378906, 115.75700378417969, 115.55500030517578, 115.35299682617188, 115.1510009765625, 114.94999694824219, 114.74800109863281, 114.5459976196289, 114.34400177001953, 114.14199829101562, 113.94000244140625, 113.73799896240234, 113.53600311279297, 113.33399963378906, 113.13200378417969, 112.93000030517578, 112.72799682617188, 112.5260009765625, 112.3239974975586, 112.12200164794922, 111.91999816894531, 111.71800231933594, 111.51599884033203, 111.31400299072266, 111.11199951171875, 110.91000366210938, 110.70800018310547, 110.50599670410156, 110.30400085449219, 110.10199737548828, 109.9000015258789, 109.697998046875, 109.49600219726562, 109.29399871826172, 109.09200286865234, 108.88999938964844, 108.68800354003906, 108.48600006103516, 108.28399658203125, 108.08200073242188, 107.87999725341797, 107.6780014038086, 107.47599792480469, 107.27400207519531, 107.0719985961914, 106.87000274658203, 106.66799926757812, 106.46600341796875, 106.26399993896484, 106.06199645996094, 105.86000061035156, 105.65799713134766, 105.45600128173828, 105.25399780273438, 105.052001953125, 104.8499984741211, 104.64800262451172, 104.44599914550781, 104.24400329589844, 104.04199981689453, 103.83999633789062, 103.63800048828125, 103.43599700927734, 103.23400115966797, 103.03199768066406, 102.83000183105469, 102.62799835205078, 102.4260025024414, 102.2239990234375, 102.02200317382812, 101.81999969482422, 101.61799621582031, 101.41600036621094, 101.21399688720703, 101.01200103759766, 100.81099700927734, 100.60900115966797, 100.40699768066406, 100.20500183105469, 100.00299835205078], [119.9990005493164, 119.7969970703125, 119.59500122070312, 119.39299774169922, 119.19100189208984, 118.98899841308594, 118.78700256347656, 118.58499908447266, 118.38300323486328, 118.18099975585938, 117.97899627685547, 117.7770004272461, 117.57499694824219, 117.37300109863281, 117.1709976196289, 116.96900177001953, 116.76699829101562, 116.56500244140625, 116.36299896240234, 116.16100311279297, 115.95899963378906, 115.75700378417969, 115.55500030517578, 115.35299682617188, 115.1510009765625, 114.94999694824219, 114.74800109863281, 114.5459976196289, 114.34400177001953, 114.14199829101562, 113.94000244140625, 113.73799896240234, 113.53600311279297, 113.33399963378906, 113.13200378417969, 112.93000030517578, 112.72799682617188, 112.5260009765625, 112.3239974975586, 112.12200164794922, 111.91999816894531, 111.71800231933594, 111.51599884033203, 111.31400299072266, 111.11199951171875, 110.91000366210938, 110.70800018310547, 110.50599670410156, 110.30400085449219, 110.10199737548828, 109.9000015258789, 109.697998046875, 109.49600219726562, 109.29399871826172, 109.09200286865234, 108.88999938964844, 108.68800354003906, 108.48600006103516, 108.28399658203125, 108.08200073242188, 107.87999725341797, 107.6780014038086, 107.47599792480469, 107.27400207519531, 107.0719985961914, 106.87000274658203, 106.66799926757812, 106.46600341796875, 106.26399993896484, 106.06199645996094, 105.86000061035156, 105.65799713134766, 105.45600128173828, 105.25399780273438, 105.052001953125, 104.8499984741211, 104.64800262451172, 104.44599914550781, 104.24400329589844, 104.04199981689453, 103.83999633789062, 103.63800048828125, 103.43599700927734, 103.23400115966797, 103.03199768066406, 102.83000183105469, 102.62799835205078, 102.4260025024414, 102.2239990234375, 102.02200317382812, 101.81999969482422, 101.61799621582031, 101.41600036621094, 101.21399688720703, 101.01200103759766, 100.81099700927734, 100.60900115966797, 100.40699768066406, 100.20500183105469, 100.00299835205078], [119.9990005493164, 119.7969970703125, 119.59500122070312, 119.39299774169922, 119.19100189208984, 118.98899841308594, 118.78700256347656, 118.58499908447266, 118.38300323486328, 118.18099975585938, 117.97899627685547, 117.7770004272461, 117.57499694824219, 117.37300109863281, 117.1709976196289, 116.96900177001953, 116.76699829101562, 116.56500244140625, 116.36299896240234, 116.16100311279297, 115.95899963378906, 115.75700378417969, 115.55500030517578, 115.35299682617188, 115.1510009765625, 114.94999694824219, 114.74800109863281, 114.5459976196289, 114.34400177001953, 114.14199829101562, 113.94000244140625, 113.73799896240234, 113.53600311279297, 113.33399963378906, 113.13200378417969, 112.93000030517578, 112.72799682617188, 112.5260009765625, 112.3239974975586, 112.12200164794922, 111.91999816894531, 111.71800231933594, 111.51599884033203, 111.31400299072266, 111.11199951171875, 110.91000366210938, 110.70800018310547, 110.50599670410156, 110.30400085449219, 110.10199737548828, 109.9000015258789, 109.697998046875, 109.49600219726562, 109.29399871826172, 109.09200286865234, 108.88999938964844, 108.68800354003906, 108.48600006103516, 108.28399658203125, 108.08200073242188, 107.87999725341797, 107.6780014038086, 107.47599792480469, 107.27400207519531, 107.0719985961914, 106.87000274658203, 106.66799926757812, 106.46600341796875, 106.26399993896484, 106.06199645996094, 105.86000061035156, 105.65799713134766, 105.45600128173828, 105.25399780273438, 105.052001953125, 104.8499984741211, 104.64800262451172, 104.44599914550781, 104.24400329589844, 104.04199981689453, 103.83999633789062, 103.63800048828125, 103.43599700927734, 103.23400115966797, 103.03199768066406, 102.83000183105469, 102.62799835205078, 102.4260025024414, 102.2239990234375, 102.02200317382812, 101.81999969482422, 101.61799621582031, 101.41600036621094, 101.21399688720703, 101.01200103759766, 100.81099700927734, 100.60900115966797, 100.40699768066406, 100.20500183105469, 100.00299835205078], [119.9990005493164, 119.7969970703125, 119.59500122070312, 119.39299774169922, 119.19100189208984, 118.98899841308594, 118.78700256347656, 118.58499908447266, 118.38300323486328, 118.18099975585938, 117.97899627685547, 117.7770004272461, 117.57499694824219, 117.37300109863281, 117.1709976196289, 116.96900177001953, 116.76699829101562, 116.56500244140625, 116.36299896240234, 116.16100311279297, 115.95899963378906, 115.75700378417969, 115.55500030517578, 115.35299682617188, 115.1510009765625, 114.94999694824219, 114.74800109863281, 114.5459976196289, 114.34400177001953, 114.14199829101562, 113.94000244140625, 113.73799896240234, 113.53600311279297, 113.33399963378906, 113.13200378417969, 112.93000030517578, 112.72799682617188, 112.5260009765625, 112.3239974975586, 112.12200164794922, 111.91999816894531, 111.71800231933594, 111.51599884033203, 111.31400299072266, 111.11199951171875, 110.91000366210938, 110.70800018310547, 110.50599670410156, 110.30400085449219, 110.10199737548828, 109.9000015258789, 109.697998046875, 109.49600219726562, 109.29399871826172, 109.09200286865234, 108.88999938964844, 108.68800354003906, 108.48600006103516, 108.28399658203125, 108.08200073242188, 107.87999725341797, 107.6780014038086, 107.47599792480469, 107.27400207519531, 107.0719985961914, 106.87000274658203, 106.66799926757812, 106.46600341796875, 106.26399993896484, 106.06199645996094, 105.86000061035156, 105.65799713134766, 105.45600128173828, 105.25399780273438, 105.052001953125, 104.8499984741211, 104.64800262451172, 104.44599914550781, 104.24400329589844, 104.04199981689453, 103.83999633789062, 103.63800048828125, 103.43599700927734, 103.23400115966797, 103.03199768066406, 102.83000183105469, 102.62799835205078, 102.4260025024414, 102.2239990234375, 102.02200317382812, 101.81999969482422, 101.61799621582031, 101.41600036621094, 101.21399688720703, 101.01200103759766, 100.81099700927734, 100.60900115966797, 100.40699768066406, 100.20500183105469, 100.00299835205078], [119.9990005493164, 119.7969970703125, 119.59500122070312, 119.39299774169922, 119.19100189208984, 118.98899841308594, 118.78700256347656, 118.58499908447266, 118.38300323486328, 118.18099975585938, 117.97899627685547, 117.7770004272461, 117.57499694824219, 117.37300109863281, 117.1709976196289, 116.96900177001953, 116.76699829101562, 116.56500244140625, 116.36299896240234, 116.16100311279297, 115.95899963378906, 115.75700378417969, 115.55500030517578, 115.35299682617188, 115.1510009765625, 114.94999694824219, 114.74800109863281, 114.5459976196289, 114.34400177001953, 114.14199829101562, 113.94000244140625, 113.73799896240234, 113.53600311279297, 113.33399963378906, 113.13200378417969, 112.93000030517578, 112.72799682617188, 112.5260009765625, 112.3239974975586, 112.12200164794922, 111.91999816894531, 111.71800231933594, 111.51599884033203, 111.31400299072266, 111.11199951171875, 110.91000366210938, 110.70800018310547, 110.50599670410156, 110.30400085449219, 110.10199737548828, 109.9000015258789, 109.697998046875, 109.49600219726562, 109.29399871826172, 109.09200286865234, 108.88999938964844, 108.68800354003906, 108.48600006103516, 108.28399658203125, 108.08200073242188, 107.87999725341797, 107.6780014038086, 107.47599792480469, 107.27400207519531, 107.0719985961914, 106.87000274658203, 106.66799926757812, 106.46600341796875, 106.26399993896484, 106.06199645996094, 105.86000061035156, 105.65799713134766, 105.45600128173828, 105.25399780273438, 105.052001953125, 104.8499984741211, 104.64800262451172, 104.44599914550781, 104.24400329589844, 104.04199981689453, 103.83999633789062, 103.63800048828125, 103.43599700927734, 103.23400115966797, 103.03199768066406, 102.83000183105469, 102.62799835205078, 102.4260025024414, 102.2239990234375, 102.02200317382812, 101.81999969482422, 101.61799621582031, 101.41600036621094, 101.21399688720703, 101.01200103759766, 100.81099700927734, 100.60900115966797, 100.40699768066406, 100.20500183105469, 100.00299835205078], [119.9990005493164, 119.7969970703125, 119.59500122070312, 119.39299774169922, 119.19100189208984, 118.98899841308594, 118.78700256347656, 118.58499908447266, 118.38300323486328, 118.18099975585938, 117.97899627685547, 117.7770004272461, 117.57499694824219, 117.37300109863281, 117.1709976196289, 116.96900177001953, 116.76699829101562, 116.56500244140625, 116.36299896240234, 116.16100311279297, 115.95899963378906, 115.75700378417969, 115.55500030517578, 115.35299682617188, 115.1510009765625, 114.94999694824219, 114.74800109863281, 114.5459976196289, 114.34400177001953, 114.14199829101562, 113.94000244140625, 113.73799896240234, 113.53600311279297, 113.33399963378906, 113.13200378417969, 112.93000030517578, 112.72799682617188, 112.5260009765625, 112.3239974975586, 112.12200164794922, 111.91999816894531, 111.71800231933594, 111.51599884033203, 111.31400299072266, 111.11199951171875, 110.91000366210938, 110.70800018310547, 110.50599670410156, 110.30400085449219, 110.10199737548828, 109.9000015258789, 109.697998046875, 109.49600219726562, 109.29399871826172, 109.09200286865234, 108.88999938964844, 108.68800354003906, 108.48600006103516, 108.28399658203125, 108.08200073242188, 107.87999725341797, 107.6780014038086, 107.47599792480469, 107.27400207519531, 107.0719985961914, 106.87000274658203, 106.66799926757812, 106.46600341796875, 106.26399993896484, 106.06199645996094, 105.86000061035156, 105.65799713134766, 105.45600128173828, 105.25399780273438, 105.052001953125, 104.8499984741211, 104.64800262451172, 104.44599914550781, 104.24400329589844, 104.04199981689453, 103.83999633789062, 103.63800048828125, 103.43599700927734, 103.23400115966797, 103.03199768066406, 102.83000183105469, 102.62799835205078, 102.4260025024414, 102.2239990234375, 102.02200317382812, 101.81999969482422, 101.61799621582031, 101.41600036621094, 101.21399688720703, 101.01200103759766, 100.81099700927734, 100.60900115966797, 100.40699768066406, 100.20500183105469, 100.00299835205078], [119.9990005493164, 119.7969970703125, 119.59500122070312, 119.39299774169922, 119.19100189208984, 118.98899841308594, 118.78700256347656, 118.58499908447266, 118.38300323486328, 118.18099975585938, 117.97899627685547, 117.7770004272461, 117.57499694824219, 117.37300109863281, 117.1709976196289, 116.96900177001953, 116.76699829101562, 116.56500244140625, 116.36299896240234, 116.16100311279297, 115.95899963378906, 115.75700378417969, 115.55500030517578, 115.35299682617188, 115.1510009765625, 114.94999694824219, 114.74800109863281, 114.5459976196289, 114.34400177001953, 114.14199829101562, 113.94000244140625, 113.73799896240234, 113.53600311279297, 113.33399963378906, 113.13200378417969, 112.93000030517578, 112.72799682617188, 112.5260009765625, 112.3239974975586, 112.12200164794922, 111.91999816894531, 111.71800231933594, 111.51599884033203, 111.31400299072266, 111.11199951171875, 110.91000366210938, 110.70800018310547, 110.50599670410156, 110.30400085449219, 110.10199737548828, 109.9000015258789, 109.697998046875, 109.49600219726562, 109.29399871826172, 109.09200286865234, 108.88999938964844, 108.68800354003906, 108.48600006103516, 108.28399658203125, 108.08200073242188, 107.87999725341797, 107.6780014038086, 107.47599792480469, 107.27400207519531, 107.0719985961914, 106.87000274658203, 106.66799926757812, 106.46600341796875, 106.26399993896484, 106.06199645996094, 105.86000061035156, 105.65799713134766, 105.45600128173828, 105.25399780273438, 105.052001953125, 104.8499984741211, 104.64800262451172, 104.44599914550781, 104.24400329589844, 104.04199981689453, 103.83999633789062, 103.63800048828125, 103.43599700927734, 103.23400115966797, 103.03199768066406, 102.83000183105469, 102.62799835205078, 102.4260025024414, 102.2239990234375, 102.02200317382812, 101.81999969482422, 101.61799621582031, 101.41600036621094, 101.21399688720703, 101.01200103759766, 100.81099700927734, 100.60900115966797, 100.40699768066406, 100.20500183105469, 100.00299835205078], [119.9990005493164, 119.7969970703125, 119.59500122070312, 119.39299774169922, 119.19100189208984, 118.98899841308594, 118.78700256347656, 118.58499908447266, 118.38300323486328, 118.18099975585938, 117.97899627685547, 117.7770004272461, 117.57499694824219, 117.37300109863281, 117.1709976196289, 116.96900177001953, 116.76699829101562, 116.56500244140625, 116.36299896240234, 116.16100311279297, 115.95899963378906, 115.75700378417969, 115.55500030517578, 115.35299682617188, 115.1510009765625, 114.94999694824219, 114.74800109863281, 114.5459976196289, 114.34400177001953, 114.14199829101562, 113.94000244140625, 113.73799896240234, 113.53600311279297, 113.33399963378906, 113.13200378417969, 112.93000030517578, 112.72799682617188, 112.5260009765625, 112.3239974975586, 112.12200164794922, 111.91999816894531, 111.71800231933594, 111.51599884033203, 111.31400299072266, 111.11199951171875, 110.91000366210938, 110.70800018310547, 110.50599670410156, 110.30400085449219, 110.10199737548828, 109.9000015258789, 109.697998046875, 109.49600219726562, 109.29399871826172, 109.09200286865234, 108.88999938964844, 108.68800354003906, 108.48600006103516, 108.28399658203125, 108.08200073242188, 107.87999725341797, 107.6780014038086, 107.47599792480469, 107.27400207519531, 107.0719985961914, 106.87000274658203, 106.66799926757812, 106.46600341796875, 106.26399993896484, 106.06199645996094, 105.86000061035156, 105.65799713134766, 105.45600128173828, 105.25399780273438, 105.052001953125, 104.8499984741211, 104.64800262451172, 104.44599914550781, 104.24400329589844, 104.04199981689453, 103.83999633789062, 103.63800048828125, 103.43599700927734, 103.23400115966797, 103.03199768066406, 102.83000183105469, 102.62799835205078, 102.4260025024414, 102.2239990234375, 102.02200317382812, 101.81999969482422, 101.61799621582031, 101.41600036621094, 101.21399688720703, 101.01200103759766, 100.81099700927734, 100.60900115966797, 100.40699768066406, 100.20500183105469, 100.00299835205078], [119.9990005493164, 119.7969970703125, 119.59500122070312, 119.39299774169922, 119.19100189208984, 118.98899841308594, 118.78700256347656, 118.58499908447266, 118.38300323486328, 118.18099975585938, 117.97899627685547, 117.7770004272461, 117.57499694824219, 117.37300109863281, 117.1709976196289, 116.96900177001953, 116.76699829101562, 116.56500244140625, 116.36299896240234, 116.16100311279297, 115.95899963378906, 115.75700378417969, 115.55500030517578, 115.35299682617188, 115.1510009765625, 114.94999694824219, 114.74800109863281, 114.5459976196289, 114.34400177001953, 114.14199829101562, 113.94000244140625, 113.73799896240234, 113.53600311279297, 113.33399963378906, 113.13200378417969, 112.93000030517578, 112.72799682617188, 112.5260009765625, 112.3239974975586, 112.12200164794922, 111.91999816894531, 111.71800231933594, 111.51599884033203, 111.31400299072266, 111.11199951171875, 110.91000366210938, 110.70800018310547, 110.50599670410156, 110.30400085449219, 110.10199737548828, 109.9000015258789, 109.697998046875, 109.49600219726562, 109.29399871826172, 109.09200286865234, 108.88999938964844, 108.68800354003906, 108.48600006103516, 108.28399658203125, 108.08200073242188, 107.87999725341797, 107.6780014038086, 107.47599792480469, 107.27400207519531, 107.0719985961914, 106.87000274658203, 106.66799926757812, 106.46600341796875, 106.26399993896484, 106.06199645996094, 105.86000061035156, 105.65799713134766, 105.45600128173828, 105.25399780273438, 105.052001953125, 104.8499984741211, 104.64800262451172, 104.44599914550781, 104.24400329589844, 104.04199981689453, 103.83999633789062, 103.63800048828125, 103.43599700927734, 103.23400115966797, 103.03199768066406, 102.83000183105469, 102.62799835205078, 102.4260025024414, 102.2239990234375, 102.02200317382812, 101.81999969482422, 101.61799621582031, 101.41600036621094, 101.21399688720703, 101.01200103759766, 100.81099700927734, 100.60900115966797, 100.40699768066406, 100.20500183105469, 100.00299835205078], [119.9990005493164, 119.7969970703125, 119.59500122070312, 119.39299774169922, 119.19100189208984, 118.98899841308594, 118.78700256347656, 118.58499908447266, 118.38300323486328, 118.18099975585938, 117.97899627685547, 117.7770004272461, 117.57499694824219, 117.37300109863281, 117.1709976196289, 116.96900177001953, 116.76699829101562, 116.56500244140625, 116.36299896240234, 116.16100311279297, 115.95899963378906, 115.75700378417969, 115.55500030517578, 115.35299682617188, 115.1510009765625, 114.94999694824219, 114.74800109863281, 114.5459976196289, 114.34400177001953, 114.14199829101562, 113.94000244140625, 113.73799896240234, 113.53600311279297, 113.33399963378906, 113.13200378417969, 112.93000030517578, 112.72799682617188, 112.5260009765625, 112.3239974975586, 112.12200164794922, 111.91999816894531, 111.71800231933594, 111.51599884033203, 111.31400299072266, 111.11199951171875, 110.91000366210938, 110.70800018310547, 110.50599670410156, 110.30400085449219, 110.10199737548828, 109.9000015258789, 109.697998046875, 109.49600219726562, 109.29399871826172, 109.09200286865234, 108.88999938964844, 108.68800354003906, 108.48600006103516, 108.28399658203125, 108.08200073242188, 107.87999725341797, 107.6780014038086, 107.47599792480469, 107.27400207519531, 107.0719985961914, 106.87000274658203, 106.66799926757812, 106.46600341796875, 106.26399993896484, 106.06199645996094, 105.86000061035156, 105.65799713134766, 105.45600128173828, 105.25399780273438, 105.052001953125, 104.8499984741211, 104.64800262451172, 104.44599914550781, 104.24400329589844, 104.04199981689453, 103.83999633789062, 103.63800048828125, 103.43599700927734, 103.23400115966797, 103.03199768066406, 102.83000183105469, 102.62799835205078, 102.4260025024414, 102.2239990234375, 102.02200317382812, 101.81999969482422, 101.61799621582031, 101.41600036621094, 101.21399688720703, 101.01200103759766, 100.81099700927734, 100.60900115966797, 100.40699768066406, 100.20500183105469, 100.00299835205078], [119.9990005493164, 119.7969970703125, 119.59500122070312, 119.39299774169922, 119.19100189208984, 118.98899841308594, 118.78700256347656, 118.58499908447266, 118.38300323486328, 118.18099975585938, 117.97899627685547, 117.7770004272461, 117.57499694824219, 117.37300109863281, 117.1709976196289, 116.96900177001953, 116.76699829101562, 116.56500244140625, 116.36299896240234, 116.16100311279297, 115.95899963378906, 115.75700378417969, 115.55500030517578, 115.35299682617188, 115.1510009765625, 114.94999694824219, 114.74800109863281, 114.5459976196289, 114.34400177001953, 114.14199829101562, 113.94000244140625, 113.73799896240234, 113.53600311279297, 113.33399963378906, 113.13200378417969, 112.93000030517578, 112.72799682617188, 112.5260009765625, 112.3239974975586, 112.12200164794922, 111.91999816894531, 111.71800231933594, 111.51599884033203, 111.31400299072266, 111.11199951171875, 110.91000366210938, 110.70800018310547, 110.50599670410156, 110.30400085449219, 110.10199737548828, 109.9000015258789, 109.697998046875, 109.49600219726562, 109.29399871826172, 109.09200286865234, 108.88999938964844, 108.68800354003906, 108.48600006103516, 108.28399658203125, 108.08200073242188, 107.87999725341797, 107.6780014038086, 107.47599792480469, 107.27400207519531, 107.0719985961914, 106.87000274658203, 106.66799926757812, 106.46600341796875, 106.26399993896484, 106.06199645996094, 105.86000061035156, 105.65799713134766, 105.45600128173828, 105.25399780273438, 105.052001953125, 104.8499984741211, 104.64800262451172, 104.44599914550781, 104.24400329589844, 104.04199981689453, 103.83999633789062, 103.63800048828125, 103.43599700927734, 103.23400115966797, 103.03199768066406, 102.83000183105469, 102.62799835205078, 102.4260025024414, 102.2239990234375, 102.02200317382812, 101.81999969482422, 101.61799621582031, 101.41600036621094, 101.21399688720703, 101.01200103759766, 100.81099700927734, 100.60900115966797, 100.40699768066406, 100.20500183105469, 100.00299835205078], [119.9990005493164, 119.7969970703125, 119.59500122070312, 119.39299774169922, 119.19100189208984, 118.98899841308594, 118.78700256347656, 118.58499908447266, 118.38300323486328, 118.18099975585938, 117.97899627685547, 117.7770004272461, 117.57499694824219, 117.37300109863281, 117.1709976196289, 116.96900177001953, 116.76699829101562, 116.56500244140625, 116.36299896240234, 116.16100311279297, 115.95899963378906, 115.75700378417969, 115.55500030517578, 115.35299682617188, 115.1510009765625, 114.94999694824219, 114.74800109863281, 114.5459976196289, 114.34400177001953, 114.14199829101562, 113.94000244140625, 113.73799896240234, 113.53600311279297, 113.33399963378906, 113.13200378417969, 112.93000030517578, 112.72799682617188, 112.5260009765625, 112.3239974975586, 112.12200164794922, 111.91999816894531, 111.71800231933594, 111.51599884033203, 111.31400299072266, 111.11199951171875, 110.91000366210938, 110.70800018310547, 110.50599670410156, 110.30400085449219, 110.10199737548828, 109.9000015258789, 109.697998046875, 109.49600219726562, 109.29399871826172, 109.09200286865234, 108.88999938964844, 108.68800354003906, 108.48600006103516, 108.28399658203125, 108.08200073242188, 107.87999725341797, 107.6780014038086, 107.47599792480469, 107.27400207519531, 107.0719985961914, 106.87000274658203, 106.66799926757812, 106.46600341796875, 106.26399993896484, 106.06199645996094, 105.86000061035156, 105.65799713134766, 105.45600128173828, 105.25399780273438, 105.052001953125, 104.8499984741211, 104.64800262451172, 104.44599914550781, 104.24400329589844, 104.04199981689453, 103.83999633789062, 103.63800048828125, 103.43599700927734, 103.23400115966797, 103.03199768066406, 102.83000183105469, 102.62799835205078, 102.4260025024414, 102.2239990234375, 102.02200317382812, 101.81999969482422, 101.61799621582031, 101.41600036621094, 101.21399688720703, 101.01200103759766, 100.81099700927734, 100.60900115966797, 100.40699768066406, 100.20500183105469, 100.00299835205078], [119.9990005493164, 119.7969970703125, 119.59500122070312, 119.39299774169922, 119.19100189208984, 118.98899841308594, 118.78700256347656, 118.58499908447266, 118.38300323486328, 118.18099975585938, 117.97899627685547, 117.7770004272461, 117.57499694824219, 117.37300109863281, 117.1709976196289, 116.96900177001953, 116.76699829101562, 116.56500244140625, 116.36299896240234, 116.16100311279297, 115.95899963378906, 115.75700378417969, 115.55500030517578, 115.35299682617188, 115.1510009765625, 114.94999694824219, 114.74800109863281, 114.5459976196289, 114.34400177001953, 114.14199829101562, 113.94000244140625, 113.73799896240234, 113.53600311279297, 113.33399963378906, 113.13200378417969, 112.93000030517578, 112.72799682617188, 112.5260009765625, 112.3239974975586, 112.12200164794922, 111.91999816894531, 111.71800231933594, 111.51599884033203, 111.31400299072266, 111.11199951171875, 110.91000366210938, 110.70800018310547, 110.50599670410156, 110.30400085449219, 110.10199737548828, 109.9000015258789, 109.697998046875, 109.49600219726562, 109.29399871826172, 109.09200286865234, 108.88999938964844, 108.68800354003906, 108.48600006103516, 108.28399658203125, 108.08200073242188, 107.87999725341797, 107.6780014038086, 107.47599792480469, 107.27400207519531, 107.0719985961914, 106.87000274658203, 106.66799926757812, 106.46600341796875, 106.26399993896484, 106.06199645996094, 105.86000061035156, 105.65799713134766, 105.45600128173828, 105.25399780273438, 105.052001953125, 104.8499984741211, 104.64800262451172, 104.44599914550781, 104.24400329589844, 104.04199981689453, 103.83999633789062, 103.63800048828125, 103.43599700927734, 103.23400115966797, 103.03199768066406, 102.83000183105469, 102.62799835205078, 102.4260025024414, 102.2239990234375, 102.02200317382812, 101.81999969482422, 101.61799621582031, 101.41600036621094, 101.21399688720703, 101.01200103759766, 100.81099700927734, 100.60900115966797, 100.40699768066406, 100.20500183105469, 100.00299835205078], [119.9990005493164, 119.7969970703125, 119.59500122070312, 119.39299774169922, 119.19100189208984, 118.98899841308594, 118.78700256347656, 118.58499908447266, 118.38300323486328, 118.18099975585938, 117.97899627685547, 117.7770004272461, 117.57499694824219, 117.37300109863281, 117.1709976196289, 116.96900177001953, 116.76699829101562, 116.56500244140625, 116.36299896240234, 116.16100311279297, 115.95899963378906, 115.75700378417969, 115.55500030517578, 115.35299682617188, 115.1510009765625, 114.94999694824219, 114.74800109863281, 114.5459976196289, 114.34400177001953, 114.14199829101562, 113.94000244140625, 113.73799896240234, 113.53600311279297, 113.33399963378906, 113.13200378417969, 112.93000030517578, 112.72799682617188, 112.5260009765625, 112.3239974975586, 112.12200164794922, 111.91999816894531, 111.71800231933594, 111.51599884033203, 111.31400299072266, 111.11199951171875, 110.91000366210938, 110.70800018310547, 110.50599670410156, 110.30400085449219, 110.10199737548828, 109.9000015258789, 109.697998046875, 109.49600219726562, 109.29399871826172, 109.09200286865234, 108.88999938964844, 108.68800354003906, 108.48600006103516, 108.28399658203125, 108.08200073242188, 107.87999725341797, 107.6780014038086, 107.47599792480469, 107.27400207519531, 107.0719985961914, 106.87000274658203, 106.66799926757812, 106.46600341796875, 106.26399993896484, 106.06199645996094, 105.86000061035156, 105.65799713134766, 105.45600128173828, 105.25399780273438, 105.052001953125, 104.8499984741211, 104.64800262451172, 104.44599914550781, 104.24400329589844, 104.04199981689453, 103.83999633789062, 103.63800048828125, 103.43599700927734, 103.23400115966797, 103.03199768066406, 102.83000183105469, 102.62799835205078, 102.4260025024414, 102.2239990234375, 102.02200317382812, 101.81999969482422, 101.61799621582031, 101.41600036621094, 101.21399688720703, 101.01200103759766, 100.81099700927734, 100.60900115966797, 100.40699768066406, 100.20500183105469, 100.00299835205078], [119.9990005493164, 119.7969970703125, 119.59500122070312, 119.39299774169922, 119.19100189208984, 118.98899841308594, 118.78700256347656, 118.58499908447266, 118.38300323486328, 118.18099975585938, 117.97899627685547, 117.7770004272461, 117.57499694824219, 117.37300109863281, 117.1709976196289, 116.96900177001953, 116.76699829101562, 116.56500244140625, 116.36299896240234, 116.16100311279297, 115.95899963378906, 115.75700378417969, 115.55500030517578, 115.35299682617188, 115.1510009765625, 114.94999694824219, 114.74800109863281, 114.5459976196289, 114.34400177001953, 114.14199829101562, 113.94000244140625, 113.73799896240234, 113.53600311279297, 113.33399963378906, 113.13200378417969, 112.93000030517578, 112.72799682617188, 112.5260009765625, 112.3239974975586, 112.12200164794922, 111.91999816894531, 111.71800231933594, 111.51599884033203, 111.31400299072266, 111.11199951171875, 110.91000366210938, 110.70800018310547, 110.50599670410156, 110.30400085449219, 110.10199737548828, 109.9000015258789, 109.697998046875, 109.49600219726562, 109.29399871826172, 109.09200286865234, 108.88999938964844, 108.68800354003906, 108.48600006103516, 108.28399658203125, 108.08200073242188, 107.87999725341797, 107.6780014038086, 107.47599792480469, 107.27400207519531, 107.0719985961914, 106.87000274658203, 106.66799926757812, 106.46600341796875, 106.26399993896484, 106.06199645996094, 105.86000061035156, 105.65799713134766, 105.45600128173828, 105.25399780273438, 105.052001953125, 104.8499984741211, 104.64800262451172, 104.44599914550781, 104.24400329589844, 104.04199981689453, 103.83999633789062, 103.63800048828125, 103.43599700927734, 103.23400115966797, 103.03199768066406, 102.83000183105469, 102.62799835205078, 102.4260025024414, 102.2239990234375, 102.02200317382812, 101.81999969482422, 101.61799621582031, 101.41600036621094, 101.21399688720703, 101.01200103759766, 100.81099700927734, 100.60900115966797, 100.40699768066406, 100.20500183105469, 100.00299835205078], [119.9990005493164, 119.7969970703125, 119.59500122070312, 119.39299774169922, 119.19100189208984, 118.98899841308594, 118.78700256347656, 118.58499908447266, 118.38300323486328, 118.18099975585938, 117.97899627685547, 117.7770004272461, 117.57499694824219, 117.37300109863281, 117.1709976196289, 116.96900177001953, 116.76699829101562, 116.56500244140625, 116.36299896240234, 116.16100311279297, 115.95899963378906, 115.75700378417969, 115.55500030517578, 115.35299682617188, 115.1510009765625, 114.94999694824219, 114.74800109863281, 114.5459976196289, 114.34400177001953, 114.14199829101562, 113.94000244140625, 113.73799896240234, 113.53600311279297, 113.33399963378906, 113.13200378417969, 112.93000030517578, 112.72799682617188, 112.5260009765625, 112.3239974975586, 112.12200164794922, 111.91999816894531, 111.71800231933594, 111.51599884033203, 111.31400299072266, 111.11199951171875, 110.91000366210938, 110.70800018310547, 110.50599670410156, 110.30400085449219, 110.10199737548828, 109.9000015258789, 109.697998046875, 109.49600219726562, 109.29399871826172, 109.09200286865234, 108.88999938964844, 108.68800354003906, 108.48600006103516, 108.28399658203125, 108.08200073242188, 107.87999725341797, 107.6780014038086, 107.47599792480469, 107.27400207519531, 107.0719985961914, 106.87000274658203, 106.66799926757812, 106.46600341796875, 106.26399993896484, 106.06199645996094, 105.86000061035156, 105.65799713134766, 105.45600128173828, 105.25399780273438, 105.052001953125, 104.8499984741211, 104.64800262451172, 104.44599914550781, 104.24400329589844, 104.04199981689453, 103.83999633789062, 103.63800048828125, 103.43599700927734, 103.23400115966797, 103.03199768066406, 102.83000183105469, 102.62799835205078, 102.4260025024414, 102.2239990234375, 102.02200317382812, 101.81999969482422, 101.61799621582031, 101.41600036621094, 101.21399688720703, 101.01200103759766, 100.81099700927734, 100.60900115966797, 100.40699768066406, 100.20500183105469, 100.00299835205078], [119.9990005493164, 119.7969970703125, 119.59500122070312, 119.39299774169922, 119.19100189208984, 118.98899841308594, 118.78700256347656, 118.58499908447266, 118.38300323486328, 118.18099975585938, 117.97899627685547, 117.7770004272461, 117.57499694824219, 117.37300109863281, 117.1709976196289, 116.96900177001953, 116.76699829101562, 116.56500244140625, 116.36299896240234, 116.16100311279297, 115.95899963378906, 115.75700378417969, 115.55500030517578, 115.35299682617188, 115.1510009765625, 114.94999694824219, 114.74800109863281, 114.5459976196289, 114.34400177001953, 114.14199829101562, 113.94000244140625, 113.73799896240234, 113.53600311279297, 113.33399963378906, 113.13200378417969, 112.93000030517578, 112.72799682617188, 112.5260009765625, 112.3239974975586, 112.12200164794922, 111.91999816894531, 111.71800231933594, 111.51599884033203, 111.31400299072266, 111.11199951171875, 110.91000366210938, 110.70800018310547, 110.50599670410156, 110.30400085449219, 110.10199737548828, 109.9000015258789, 109.697998046875, 109.49600219726562, 109.29399871826172, 109.09200286865234, 108.88999938964844, 108.68800354003906, 108.48600006103516, 108.28399658203125, 108.08200073242188, 107.87999725341797, 107.6780014038086, 107.47599792480469, 107.27400207519531, 107.0719985961914, 106.87000274658203, 106.66799926757812, 106.46600341796875, 106.26399993896484, 106.06199645996094, 105.86000061035156, 105.65799713134766, 105.45600128173828, 105.25399780273438, 105.052001953125, 104.8499984741211, 104.64800262451172, 104.44599914550781, 104.24400329589844, 104.04199981689453, 103.83999633789062, 103.63800048828125, 103.43599700927734, 103.23400115966797, 103.03199768066406, 102.83000183105469, 102.62799835205078, 102.4260025024414, 102.2239990234375, 102.02200317382812, 101.81999969482422, 101.61799621582031, 101.41600036621094, 101.21399688720703, 101.01200103759766, 100.81099700927734, 100.60900115966797, 100.40699768066406, 100.20500183105469, 100.00299835205078], [119.9990005493164, 119.7969970703125, 119.59500122070312, 119.39299774169922, 119.19100189208984, 118.98899841308594, 118.78700256347656, 118.58499908447266, 118.38300323486328, 118.18099975585938, 117.97899627685547, 117.7770004272461, 117.57499694824219, 117.37300109863281, 117.1709976196289, 116.96900177001953, 116.76699829101562, 116.56500244140625, 116.36299896240234, 116.16100311279297, 115.95899963378906, 115.75700378417969, 115.55500030517578, 115.35299682617188, 115.1510009765625, 114.94999694824219, 114.74800109863281, 114.5459976196289, 114.34400177001953, 114.14199829101562, 113.94000244140625, 113.73799896240234, 113.53600311279297, 113.33399963378906, 113.13200378417969, 112.93000030517578, 112.72799682617188, 112.5260009765625, 112.3239974975586, 112.12200164794922, 111.91999816894531, 111.71800231933594, 111.51599884033203, 111.31400299072266, 111.11199951171875, 110.91000366210938, 110.70800018310547, 110.50599670410156, 110.30400085449219, 110.10199737548828, 109.9000015258789, 109.697998046875, 109.49600219726562, 109.29399871826172, 109.09200286865234, 108.88999938964844, 108.68800354003906, 108.48600006103516, 108.28399658203125, 108.08200073242188, 107.87999725341797, 107.6780014038086, 107.47599792480469, 107.27400207519531, 107.0719985961914, 106.87000274658203, 106.66799926757812, 106.46600341796875, 106.26399993896484, 106.06199645996094, 105.86000061035156, 105.65799713134766, 105.45600128173828, 105.25399780273438, 105.052001953125, 104.8499984741211, 104.64800262451172, 104.44599914550781, 104.24400329589844, 104.04199981689453, 103.83999633789062, 103.63800048828125, 103.43599700927734, 103.23400115966797, 103.03199768066406, 102.83000183105469, 102.62799835205078, 102.4260025024414, 102.2239990234375, 102.02200317382812, 101.81999969482422, 101.61799621582031, 101.41600036621094, 101.21399688720703, 101.01200103759766, 100.81099700927734, 100.60900115966797, 100.40699768066406, 100.20500183105469, 100.00299835205078], [119.9990005493164, 119.7969970703125, 119.59500122070312, 119.39299774169922, 119.19100189208984, 118.98899841308594, 118.78700256347656, 118.58499908447266, 118.38300323486328, 118.18099975585938, 117.97899627685547, 117.7770004272461, 117.57499694824219, 117.37300109863281, 117.1709976196289, 116.96900177001953, 116.76699829101562, 116.56500244140625, 116.36299896240234, 116.16100311279297, 115.95899963378906, 115.75700378417969, 115.55500030517578, 115.35299682617188, 115.1510009765625, 114.94999694824219, 114.74800109863281, 114.5459976196289, 114.34400177001953, 114.14199829101562, 113.94000244140625, 113.73799896240234, 113.53600311279297, 113.33399963378906, 113.13200378417969, 112.93000030517578, 112.72799682617188, 112.5260009765625, 112.3239974975586, 112.12200164794922, 111.91999816894531, 111.71800231933594, 111.51599884033203, 111.31400299072266, 111.11199951171875, 110.91000366210938, 110.70800018310547, 110.50599670410156, 110.30400085449219, 110.10199737548828, 109.9000015258789, 109.697998046875, 109.49600219726562, 109.29399871826172, 109.09200286865234, 108.88999938964844, 108.68800354003906, 108.48600006103516, 108.28399658203125, 108.08200073242188, 107.87999725341797, 107.6780014038086, 107.47599792480469, 107.27400207519531, 107.0719985961914, 106.87000274658203, 106.66799926757812, 106.46600341796875, 106.26399993896484, 106.06199645996094, 105.86000061035156, 105.65799713134766, 105.45600128173828, 105.25399780273438, 105.052001953125, 104.8499984741211, 104.64800262451172, 104.44599914550781, 104.24400329589844, 104.04199981689453, 103.83999633789062, 103.63800048828125, 103.43599700927734, 103.23400115966797, 103.03199768066406, 102.83000183105469, 102.62799835205078, 102.4260025024414, 102.2239990234375, 102.02200317382812, 101.81999969482422, 101.61799621582031, 101.41600036621094, 101.21399688720703, 101.01200103759766, 100.81099700927734, 100.60900115966797, 100.40699768066406, 100.20500183105469, 100.00299835205078], [119.9990005493164, 119.7969970703125, 119.59500122070312, 119.39299774169922, 119.19100189208984, 118.98899841308594, 118.78700256347656, 118.58499908447266, 118.38300323486328, 118.18099975585938, 117.97899627685547, 117.7770004272461, 117.57499694824219, 117.37300109863281, 117.1709976196289, 116.96900177001953, 116.76699829101562, 116.56500244140625, 116.36299896240234, 116.16100311279297, 115.95899963378906, 115.75700378417969, 115.55500030517578, 115.35299682617188, 115.1510009765625, 114.94999694824219, 114.74800109863281, 114.5459976196289, 114.34400177001953, 114.14199829101562, 113.94000244140625, 113.73799896240234, 113.53600311279297, 113.33399963378906, 113.13200378417969, 112.93000030517578, 112.72799682617188, 112.5260009765625, 112.3239974975586, 112.12200164794922, 111.91999816894531, 111.71800231933594, 111.51599884033203, 111.31400299072266, 111.11199951171875, 110.91000366210938, 110.70800018310547, 110.50599670410156, 110.30400085449219, 110.10199737548828, 109.9000015258789, 109.697998046875, 109.49600219726562, 109.29399871826172, 109.09200286865234, 108.88999938964844, 108.68800354003906, 108.48600006103516, 108.28399658203125, 108.08200073242188, 107.87999725341797, 107.6780014038086, 107.47599792480469, 107.27400207519531, 107.0719985961914, 106.87000274658203, 106.66799926757812, 106.46600341796875, 106.26399993896484, 106.06199645996094, 105.86000061035156, 105.65799713134766, 105.45600128173828, 105.25399780273438, 105.052001953125, 104.8499984741211, 104.64800262451172, 104.44599914550781, 104.24400329589844, 104.04199981689453, 103.83999633789062, 103.63800048828125, 103.43599700927734, 103.23400115966797, 103.03199768066406, 102.83000183105469, 102.62799835205078, 102.4260025024414, 102.2239990234375, 102.02200317382812, 101.81999969482422, 101.61799621582031, 101.41600036621094, 101.21399688720703, 101.01200103759766, 100.81099700927734, 100.60900115966797, 100.40699768066406, 100.20500183105469, 100.00299835205078], [119.9990005493164, 119.7969970703125, 119.59500122070312, 119.39299774169922, 119.19100189208984, 118.98899841308594, 118.78700256347656, 118.58499908447266, 118.38300323486328, 118.18099975585938, 117.97899627685547, 117.7770004272461, 117.57499694824219, 117.37300109863281, 117.1709976196289, 116.96900177001953, 116.76699829101562, 116.56500244140625, 116.36299896240234, 116.16100311279297, 115.95899963378906, 115.75700378417969, 115.55500030517578, 115.35299682617188, 115.1510009765625, 114.94999694824219, 114.74800109863281, 114.5459976196289, 114.34400177001953, 114.14199829101562, 113.94000244140625, 113.73799896240234, 113.53600311279297, 113.33399963378906, 113.13200378417969, 112.93000030517578, 112.72799682617188, 112.5260009765625, 112.3239974975586, 112.12200164794922, 111.91999816894531, 111.71800231933594, 111.51599884033203, 111.31400299072266, 111.11199951171875, 110.91000366210938, 110.70800018310547, 110.50599670410156, 110.30400085449219, 110.10199737548828, 109.9000015258789, 109.697998046875, 109.49600219726562, 109.29399871826172, 109.09200286865234, 108.88999938964844, 108.68800354003906, 108.48600006103516, 108.28399658203125, 108.08200073242188, 107.87999725341797, 107.6780014038086, 107.47599792480469, 107.27400207519531, 107.0719985961914, 106.87000274658203, 106.66799926757812, 106.46600341796875, 106.26399993896484, 106.06199645996094, 105.86000061035156, 105.65799713134766, 105.45600128173828, 105.25399780273438, 105.052001953125, 104.8499984741211, 104.64800262451172, 104.44599914550781, 104.24400329589844, 104.04199981689453, 103.83999633789062, 103.63800048828125, 103.43599700927734, 103.23400115966797, 103.03199768066406, 102.83000183105469, 102.62799835205078, 102.4260025024414, 102.2239990234375, 102.02200317382812, 101.81999969482422, 101.61799621582031, 101.41600036621094, 101.21399688720703, 101.01200103759766, 100.81099700927734, 100.60900115966797, 100.40699768066406, 100.20500183105469, 100.00299835205078], [119.9990005493164, 119.7969970703125, 119.59500122070312, 119.39299774169922, 119.19100189208984, 118.98899841308594, 118.78700256347656, 118.58499908447266, 118.38300323486328, 118.18099975585938, 117.97899627685547, 117.7770004272461, 117.57499694824219, 117.37300109863281, 117.1709976196289, 116.96900177001953, 116.76699829101562, 116.56500244140625, 116.36299896240234, 116.16100311279297, 115.95899963378906, 115.75700378417969, 115.55500030517578, 115.35299682617188, 115.1510009765625, 114.94999694824219, 114.74800109863281, 114.5459976196289, 114.34400177001953, 114.14199829101562, 113.94000244140625, 113.73799896240234, 113.53600311279297, 113.33399963378906, 113.13200378417969, 112.93000030517578, 112.72799682617188, 112.5260009765625, 112.3239974975586, 112.12200164794922, 111.91999816894531, 111.71800231933594, 111.51599884033203, 111.31400299072266, 111.11199951171875, 110.91000366210938, 110.70800018310547, 110.50599670410156, 110.30400085449219, 110.10199737548828, 109.9000015258789, 109.697998046875, 109.49600219726562, 109.29399871826172, 109.09200286865234, 108.88999938964844, 108.68800354003906, 108.48600006103516, 108.28399658203125, 108.08200073242188, 107.87999725341797, 107.6780014038086, 107.47599792480469, 107.27400207519531, 107.0719985961914, 106.87000274658203, 106.66799926757812, 106.46600341796875, 106.26399993896484, 106.06199645996094, 105.86000061035156, 105.65799713134766, 105.45600128173828, 105.25399780273438, 105.052001953125, 104.8499984741211, 104.64800262451172, 104.44599914550781, 104.24400329589844, 104.04199981689453, 103.83999633789062, 103.63800048828125, 103.43599700927734, 103.23400115966797, 103.03199768066406, 102.83000183105469, 102.62799835205078, 102.4260025024414, 102.2239990234375, 102.02200317382812, 101.81999969482422, 101.61799621582031, 101.41600036621094, 101.21399688720703, 101.01200103759766, 100.81099700927734, 100.60900115966797, 100.40699768066406, 100.20500183105469, 100.00299835205078]]'"
      ]
     },
     "execution_count": 14,
     "metadata": {},
     "output_type": "execute_result"
    }
   ],
   "source": [
    "import simplejson as json\n",
    "\n",
    "json = json.dumps(head, ignore_nan=True)\n",
    "json"
   ]
  },
  {
   "cell_type": "code",
   "execution_count": 15,
   "id": "df7dfd8ff0308815",
   "metadata": {
    "ExecuteTime": {
     "end_time": "2024-06-20T18:54:23.551820Z",
     "start_time": "2024-06-20T18:54:23.548916Z"
    },
    "collapsed": false,
    "execution": {
     "iopub.execute_input": "2024-06-20T19:03:15.533745Z",
     "iopub.status.busy": "2024-06-20T19:03:15.533650Z",
     "iopub.status.idle": "2024-06-20T19:03:15.535645Z",
     "shell.execute_reply": "2024-06-20T19:03:15.535448Z"
    },
    "papermill": {
     "duration": 0.006176,
     "end_time": "2024-06-20T19:03:15.536365",
     "exception": false,
     "start_time": "2024-06-20T19:03:15.530189",
     "status": "completed"
    },
    "tags": []
   },
   "outputs": [
    {
     "data": {
      "text/plain": [
       "[]"
      ]
     },
     "execution_count": 15,
     "metadata": {},
     "output_type": "execute_result"
    }
   ],
   "source": [
    "engine.read_flow_drawdown(idx=0, layer=0)"
   ]
  },
  {
   "cell_type": "code",
   "execution_count": 16,
   "id": "b233f4066b56c174",
   "metadata": {
    "ExecuteTime": {
     "end_time": "2024-06-20T18:54:23.556949Z",
     "start_time": "2024-06-20T18:54:23.552585Z"
    },
    "collapsed": false,
    "execution": {
     "iopub.execute_input": "2024-06-20T19:03:15.543255Z",
     "iopub.status.busy": "2024-06-20T19:03:15.543155Z",
     "iopub.status.idle": "2024-06-20T19:03:15.546591Z",
     "shell.execute_reply": "2024-06-20T19:03:15.546360Z"
    },
    "papermill": {
     "duration": 0.007758,
     "end_time": "2024-06-20T19:03:15.547394",
     "exception": false,
     "start_time": "2024-06-20T19:03:15.539636",
     "status": "completed"
    },
    "tags": []
   },
   "outputs": [
    {
     "data": {
      "text/plain": [
       "{'STORAGE_IN': 0.0,\n",
       " 'CONSTANT_HEAD_IN': 0.0,\n",
       " 'HEAD_DEP_BOUNDS_IN': 4682.4585,\n",
       " 'TOTAL_IN': 4682.4585,\n",
       " 'STORAGE_OUT': -0.0,\n",
       " 'CONSTANT_HEAD_OUT': -0.0,\n",
       " 'HEAD_DEP_BOUNDS_OUT': -4682.458,\n",
       " 'TOTAL_OUT': -4682.458,\n",
       " 'IN-OUT': 0.00048828,\n",
       " 'PERCENT_DISCREPANCY': 0.0,\n",
       " 'tslen': 365.0}"
      ]
     },
     "execution_count": 16,
     "metadata": {},
     "output_type": "execute_result"
    }
   ],
   "source": [
    "engine.read_flow_budget(idx=0, incremental=False)"
   ]
  },
  {
   "cell_type": "code",
   "execution_count": 17,
   "id": "634709d741f5c252",
   "metadata": {
    "ExecuteTime": {
     "end_time": "2024-06-20T18:54:23.561969Z",
     "start_time": "2024-06-20T18:54:23.557568Z"
    },
    "collapsed": false,
    "execution": {
     "iopub.execute_input": "2024-06-20T19:03:15.554360Z",
     "iopub.status.busy": "2024-06-20T19:03:15.554262Z",
     "iopub.status.idle": "2024-06-20T19:03:15.557659Z",
     "shell.execute_reply": "2024-06-20T19:03:15.557428Z"
    },
    "papermill": {
     "duration": 0.007684,
     "end_time": "2024-06-20T19:03:15.558388",
     "exception": false,
     "start_time": "2024-06-20T19:03:15.550704",
     "status": "completed"
    },
    "tags": []
   },
   "outputs": [
    {
     "data": {
      "text/plain": [
       "{'STORAGE_IN': 0.0,\n",
       " 'CONSTANT_HEAD_IN': 0.0,\n",
       " 'HEAD_DEP_BOUNDS_IN': 12.8287,\n",
       " 'TOTAL_IN': 12.8287,\n",
       " 'STORAGE_OUT': -0.0,\n",
       " 'CONSTANT_HEAD_OUT': -0.0,\n",
       " 'HEAD_DEP_BOUNDS_OUT': -12.8287,\n",
       " 'TOTAL_OUT': -12.8287,\n",
       " 'IN-OUT': 9.5367e-07,\n",
       " 'PERCENT_DISCREPANCY': 0.0,\n",
       " 'tslen': 365.0}"
      ]
     },
     "execution_count": 17,
     "metadata": {},
     "output_type": "execute_result"
    }
   ],
   "source": [
    "engine.read_flow_budget(idx=0, incremental=True)"
   ]
  },
  {
   "cell_type": "code",
   "execution_count": 18,
   "id": "160abd7d290c83f7",
   "metadata": {
    "ExecuteTime": {
     "end_time": "2024-06-20T18:54:23.679250Z",
     "start_time": "2024-06-20T18:54:23.562597Z"
    },
    "collapsed": false,
    "execution": {
     "iopub.execute_input": "2024-06-20T19:03:15.565353Z",
     "iopub.status.busy": "2024-06-20T19:03:15.565253Z",
     "iopub.status.idle": "2024-06-20T19:03:15.649418Z",
     "shell.execute_reply": "2024-06-20T19:03:15.648788Z"
    },
    "papermill": {
     "duration": 0.090591,
     "end_time": "2024-06-20T19:03:15.652195",
     "exception": false,
     "start_time": "2024-06-20T19:03:15.561604",
     "status": "completed"
    },
    "tags": []
   },
   "outputs": [
    {
     "data": {
      "image/png": "[encoded data removed]",
      "text/plain": [
       "<Figure size 640x480 with 2 Axes>"
      ]
     },
     "metadata": {},
     "output_type": "display_data"
    }
   ],
   "source": [
    "import matplotlib.pyplot as plt\n",
    "\n",
    "heads = engine.read_flow_head(idx=0, layer=0)\n",
    "plt.subplot(2, 1, 1)\n",
    "plt.imshow(heads, cmap='jet_r')\n",
    "plt.colorbar()\n",
    "plt.show()"
   ]
  },
  {
   "cell_type": "code",
   "execution_count": null,
   "id": "807e04685d52d861",
   "metadata": {
    "ExecuteTime": {
     "end_time": "2024-06-20T18:54:23.708869Z",
     "start_time": "2024-06-20T18:54:23.686571Z"
    },
    "collapsed": false,
    "papermill": {
     "duration": 0.003652,
     "end_time": "2024-06-20T19:03:15.666770",
     "exception": false,
     "start_time": "2024-06-20T19:03:15.663118",
     "status": "completed"
    },
    "tags": []
   },
   "outputs": [],
   "source": []
  }
 ],
 "metadata": {
  "kernelspec": {
   "display_name": "Python 3",
   "language": "python",
   "name": "python3"
  },
  "language_info": {
   "codemirror_mode": {
    "name": "ipython",
    "version": 3
   },
   "file_extension": ".py",
   "mimetype": "text/x-python",
   "name": "python",
   "nbconvert_exporter": "python",
   "pygments_lexer": "ipython3",
   "version": "3.12.2"
  },
  "papermill": {
   "default_parameters": {},
   "duration": 4.657068,
   "end_time": "2024-06-20T19:03:16.006915",
   "environment_variables": {},
   "exception": null,
   "input_path": "./notebooks/Test_HeadObservation.ipynb",
   "output_path": "./notebooks/Test_HeadObservation.ipynb",
   "parameters": {},
   "start_time": "2024-06-20T19:03:11.349847",
   "version": "2.6.0"
  }
 },
 "nbformat": 4,
 "nbformat_minor": 5
}
