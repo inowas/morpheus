{
 "cells": [
  {
   "cell_type": "markdown",
   "source": [
    "# Lecture Rio Primero"
   ],
   "metadata": {
    "collapsed": false
   },
   "id": "92f23bdd15deb23e"
  },
  {
   "cell_type": "code",
   "execution_count": null,
   "outputs": [],
   "source": [
    "import os\n",
    "import numpy as np\n",
    "import flopy.modflow as mf"
   ],
   "metadata": {
    "collapsed": false
   },
   "id": "52d25fb974487057"
  },
  {
   "cell_type": "code",
   "execution_count": null,
   "outputs": [],
   "source": [
    "# Set name for MODFLOW model\n",
    "modelname = 'RioPrimero'"
   ],
   "metadata": {
    "collapsed": false
   },
   "id": "6d5639f1a2438886"
  },
  {
   "cell_type": "code",
   "execution_count": null,
   "outputs": [],
   "source": [
    "model = mf.Modflow(modelname='RP1', exe_name='mf2005', version='mf2005', model_ws='data')"
   ],
   "metadata": {
    "collapsed": false
   },
   "id": "4aa4fadd3d8847ba"
  },
  {
   "cell_type": "code",
   "execution_count": null,
   "outputs": [],
   "source": [
    "# Model domain and grid definition\n",
    "Lx = 11250.0  #aquifer length in x-direction\n",
    "Ly = 6000.0  #aquifer length in y-direction\n",
    "nlay = 3  #number of layers\n",
    "nrow = 6  #number of rows\n",
    "ncol = 10  #number of columns\n",
    "\n",
    "delr = Lx / ncol  #cell width along x-direction\n",
    "delc = Ly / nrow  #cell width along y-direction\n",
    "\n",
    "dis = mf.ModflowDis(model, nlay=nlay, nrow=nrow, ncol=ncol, delr=delr, delc=delc, top=460,\n",
    "                    botm=[450, 448, 390], nper=1, perlen=1827, nstp=1, steady=True, itmuni=4, lenuni=2)\n",
    "dis"
   ],
   "metadata": {
    "collapsed": false
   },
   "id": "3c90a70bfec392ee"
  },
  {
   "cell_type": "code",
   "execution_count": null,
   "outputs": [],
   "source": [
    "dis.plot()"
   ],
   "metadata": {
    "collapsed": false
   },
   "id": "c84ca492ba1df13a"
  },
  {
   "cell_type": "code",
   "execution_count": null,
   "outputs": [],
   "source": [
    "bas = mf.ModflowBas(model, ibound=1, strt=460)\n",
    "bas.plot()"
   ],
   "metadata": {
    "collapsed": false
   },
   "id": "84e257b5eb252bda"
  },
  {
   "cell_type": "code",
   "execution_count": null,
   "outputs": [],
   "source": [],
   "metadata": {
    "collapsed": false
   },
   "id": "c34e6360b0c78001"
  },
  {
   "cell_type": "code",
   "execution_count": null,
   "outputs": [],
   "source": [
    "ghb_west_sp_data = {0: [\n",
    "  [0, 0, 0, 450, 200],\n",
    "  [0, 1, 0, 450, 200],\n",
    "  [0, 2, 0, 450, 200],\n",
    "  [0, 3, 0, 450, 200],\n",
    "  [0, 4, 0, 450, 200],\n",
    "  [0, 5, 0, 450, 200],\n",
    "  [0, 0, 9, 445, 200],\n",
    "  [0, 1, 9, 445, 200],\n",
    "  [0, 2, 9, 445, 200],\n",
    "  [0, 3, 9, 445, 200],\n",
    "  [0, 4, 9, 445, 200],\n",
    "  [0, 5, 9, 445, 200],\n",
    "]}\n",
    "\n",
    "ghb = mf.ModflowGhb(model, stress_period_data=ghb_west_sp_data)\n",
    "ghb.plot()"
   ],
   "metadata": {
    "collapsed": false
   },
   "id": "5364a8cd83260160"
  },
  {
   "cell_type": "code",
   "execution_count": null,
   "outputs": [],
   "source": [
    "rch = mf.ModflowRch(model, rech=0.00033)"
   ],
   "metadata": {
    "collapsed": false
   },
   "id": "f99f55492c2163a0"
  },
  {
   "cell_type": "code",
   "execution_count": null,
   "outputs": [],
   "source": [
    "riv_sp_data = {0: [\n",
    "  [0, 5, 1, 455, 86.4, 453],\n",
    "  [0, 4, 2, 455, 86.4, 453],\n",
    "  [0, 4, 3, 455, 86.4, 453],\n",
    "  [0, 3, 4, 455, 86.4, 453],\n",
    "  [0, 2, 5, 455, 86.4, 453],\n",
    "  [0, 3, 6, 455, 86.4, 453],\n",
    "  [0, 3, 7, 455, 86.4, 453],\n",
    "  [0, 2, 8, 455, 86.4, 453],\n",
    "  [0, 1, 9, 455, 86.4, 453],\n",
    "]}\n",
    "riv = mf.ModflowRiv(model, stress_period_data=riv_sp_data)"
   ],
   "metadata": {
    "collapsed": false
   },
   "id": "6cc28363959b3475"
  },
  {
   "cell_type": "code",
   "execution_count": null,
   "outputs": [],
   "source": [
    "# Well data\n",
    "wel = mf.ModflowWel(model, stress_period_data={\n",
    "  0: [\n",
    "    [0, 1, 1, -5000],\n",
    "    [0, 0, 2, -10000],\n",
    "    [0, 5, 5, -5000],\n",
    "    [0, 0, 8, -5000],\n",
    "    [0, 1, 6, -16000],\n",
    "  ]\n",
    "})\n"
   ],
   "metadata": {
    "collapsed": false
   },
   "id": "e067c44c137ae8cf"
  },
  {
   "cell_type": "code",
   "execution_count": null,
   "outputs": [],
   "source": [
    "# Flow data\n",
    "lpf = mf.ModflowLpf(model, hk=[8.64, 1, 8.64], vka=[0.864, 0.1, 0.864], ss=1e-5, sy=0.2)"
   ],
   "metadata": {
    "collapsed": false
   },
   "id": "946521e2dca2fbb8"
  },
  {
   "cell_type": "code",
   "execution_count": null,
   "outputs": [],
   "source": [
    "pcg = mf.ModflowPcg(model, rclose=1e-2, hclose=1e-2)\n",
    "oc = mf.ModflowOc(model)"
   ],
   "metadata": {
    "collapsed": false
   },
   "id": "9d16a2983615ffa6"
  },
  {
   "cell_type": "code",
   "execution_count": null,
   "outputs": [],
   "source": [
    "# Write the MODFLOW model input files"
   ],
   "metadata": {
    "collapsed": false
   },
   "id": "c3d908bcb277b56b"
  },
  {
   "cell_type": "code",
   "execution_count": null,
   "outputs": [],
   "source": [
    "model.write_input()\n",
    "model.run_model()"
   ],
   "metadata": {
    "collapsed": false
   },
   "id": "ef7274b5a6197d68"
  },
  {
   "cell_type": "code",
   "execution_count": null,
   "outputs": [],
   "source": [
    "# Post process the results"
   ],
   "metadata": {
    "collapsed": false
   },
   "id": "8bbee07eca41d2ea"
  },
  {
   "cell_type": "code",
   "execution_count": null,
   "outputs": [],
   "source": [
    "import flopy.utils as fu\n",
    "\n",
    "hds = fu.HeadFile(os.path.join('data', 'RP1.hds'))\n",
    "h = hds.get_data(kstpkper=(0, 0))"
   ],
   "metadata": {
    "collapsed": false
   },
   "id": "4b23547929f0d88d"
  },
  {
   "cell_type": "code",
   "execution_count": null,
   "outputs": [],
   "source": [],
   "metadata": {
    "collapsed": false
   },
   "id": "f303512f741bf9c3"
  },
  {
   "cell_type": "code",
   "execution_count": null,
   "outputs": [],
   "source": [
    "import matplotlib.pyplot as plt\n",
    "%matplotlib inline\n",
    "\n",
    "x = np.linspace(0, delr * ncol, ncol)\n",
    "y = np.linspace(delc * nrow, 0, nrow)\n",
    "\n",
    "c = plt.contour(x, y, h[0], np.arange(h[0].min(), h[0].max(), 1))\n",
    "plt.clabel(c, fmt='%2.1f')\n",
    "plt.axis('scaled')\n",
    "plt.plot()"
   ],
   "metadata": {
    "collapsed": false
   },
   "id": "53cca3aa98eac284"
  },
  {
   "cell_type": "code",
   "execution_count": null,
   "outputs": [],
   "source": [
    "plt.imshow(h[0])"
   ],
   "metadata": {
    "collapsed": false
   },
   "id": "aedb8279b3c1b347"
  },
  {
   "cell_type": "code",
   "execution_count": null,
   "outputs": [],
   "source": [],
   "metadata": {
    "collapsed": false
   },
   "id": "38b8a27a6b019bfb"
  }
 ],
 "metadata": {
  "kernelspec": {
   "display_name": "Python 3",
   "language": "python",
   "name": "python3"
  },
  "language_info": {
   "codemirror_mode": {
    "name": "ipython",
    "version": 2
   },
   "file_extension": ".py",
   "mimetype": "text/x-python",
   "name": "python",
   "nbconvert_exporter": "python",
   "pygments_lexer": "ipython2",
   "version": "2.7.6"
  }
 },
 "nbformat": 4,
 "nbformat_minor": 5
}
