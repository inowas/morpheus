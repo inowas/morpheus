{
 "cells": [
  {
   "cell_type": "code",
   "execution_count": 1,
   "id": "ba6761fae9d5e5cb",
   "metadata": {
    "ExecuteTime": {
     "end_time": "2024-05-14T07:58:58.915305Z",
     "start_time": "2024-05-14T07:58:58.904059Z"
    },
    "collapsed": false,
    "execution": {
     "iopub.execute_input": "2024-05-15T15:59:54.226544Z",
     "iopub.status.busy": "2024-05-15T15:59:54.226167Z",
     "iopub.status.idle": "2024-05-15T15:59:54.230706Z",
     "shell.execute_reply": "2024-05-15T15:59:54.230272Z"
    },
    "papermill": {
     "duration": 0.012397,
     "end_time": "2024-05-15T15:59:54.231966",
     "exception": false,
     "start_time": "2024-05-15T15:59:54.219569",
     "status": "completed"
    },
    "tags": []
   },
   "source": [
    "import sys\n",
    "\n",
    "sys.path.insert(0, '..')"
   ],
   "outputs": []
  },
  {
   "cell_type": "markdown",
   "id": "5ede1ba5e0993dd1",
   "metadata": {
    "collapsed": false,
    "papermill": {
     "duration": 0.002223,
     "end_time": "2024-05-15T15:59:54.237235",
     "exception": false,
     "start_time": "2024-05-15T15:59:54.235012",
     "status": "completed"
    },
    "tags": []
   },
   "source": [
    "## Setup the model area"
   ]
  },
  {
   "cell_type": "code",
   "execution_count": 2,
   "id": "2f69504ab35487aa",
   "metadata": {
    "ExecuteTime": {
     "end_time": "2024-05-14T07:58:59.333566Z",
     "start_time": "2024-05-14T07:58:58.921254Z"
    },
    "collapsed": false,
    "execution": {
     "iopub.execute_input": "2024-05-15T15:59:54.242526Z",
     "iopub.status.busy": "2024-05-15T15:59:54.242301Z",
     "iopub.status.idle": "2024-05-15T15:59:54.466576Z",
     "shell.execute_reply": "2024-05-15T15:59:54.465712Z"
    },
    "papermill": {
     "duration": 0.22903,
     "end_time": "2024-05-15T15:59:54.468517",
     "exception": false,
     "start_time": "2024-05-15T15:59:54.239487",
     "status": "completed"
    },
    "tags": []
   },
   "source": [
    "from morpheus.project.types.discretization import SpatialDiscretization\n",
    "from morpheus.project.types.discretization.spatial import Rotation, LengthUnit, Grid, ActiveCells, Crs\n",
    "from morpheus.project.types.geometry import Polygon\n",
    "\n",
    "polygon = Polygon(\n",
    "  type='Polygon',\n",
    "  coordinates=[[\n",
    "    (13.922514437551428, 50.964720483303836),\n",
    "    (13.925250781947113, 50.965228748412386),\n",
    "    (13.925036413951403, 50.96623732041704),\n",
    "    (13.92222441026388, 50.96629040370362),\n",
    "    (13.922514437551428, 50.964720483303836)\n",
    "  ]]\n",
    ")\n",
    "\n",
    "rotation = Rotation(0)\n",
    "length_unit = LengthUnit.meters()\n",
    "relative_col_coordinates = [0, 0.1, 0.2, 0.3, 0.4, 0.5, 0.6, 0.7, 0.8, 0.9, 1]\n",
    "relative_row_coordinates = [0, 0.1, 0.2, 0.3, 0.4, 0.5, 0.6, 0.7, 0.8, 0.9, 1]\n",
    "\n",
    "grid = Grid.from_polygon_with_relative_coordinates(\n",
    "  polygon=polygon,\n",
    "  relative_col_coordinates=relative_col_coordinates,\n",
    "  relative_row_coordinates=relative_row_coordinates,\n",
    "  rotation=rotation,\n",
    ")\n",
    "\n",
    "spatial_discretization = SpatialDiscretization(\n",
    "  geometry=polygon,\n",
    "  grid=grid,\n",
    "  affected_cells=ActiveCells.from_polygon(polygon=polygon, grid=grid),\n",
    "  crs=Crs.from_str('EPSG:4326')\n",
    ")\n",
    "\n",
    "spatial_discretization\n"
   ],
   "outputs": []
  },
  {
   "cell_type": "markdown",
   "id": "fa27e67f9d801845",
   "metadata": {
    "collapsed": false,
    "papermill": {
     "duration": 0.003937,
     "end_time": "2024-05-15T15:59:54.476661",
     "exception": false,
     "start_time": "2024-05-15T15:59:54.472724",
     "status": "completed"
    },
    "tags": []
   },
   "source": [
    "## Setup Time Discretization"
   ]
  },
  {
   "cell_type": "code",
   "execution_count": 3,
   "id": "8e4e63dd138db9fc",
   "metadata": {
    "ExecuteTime": {
     "end_time": "2024-05-14T07:58:59.354079Z",
     "start_time": "2024-05-14T07:58:59.336594Z"
    },
    "collapsed": false,
    "execution": {
     "iopub.execute_input": "2024-05-15T15:59:54.486089Z",
     "iopub.status.busy": "2024-05-15T15:59:54.485549Z",
     "iopub.status.idle": "2024-05-15T15:59:54.501810Z",
     "shell.execute_reply": "2024-05-15T15:59:54.501086Z"
    },
    "papermill": {
     "duration": 0.023117,
     "end_time": "2024-05-15T15:59:54.503592",
     "exception": false,
     "start_time": "2024-05-15T15:59:54.480475",
     "status": "completed"
    },
    "tags": []
   },
   "source": [
    "from morpheus.project.types.discretization.time.TimeUnit import TimeUnit\n",
    "from morpheus.project.types.discretization.time.Stressperiods import StartDateTime, StressPeriodCollection, \\\n",
    "  StressPeriod, NumberOfTimeSteps, TimeStepMultiplier, IsSteadyState\n",
    "from morpheus.project.types.discretization.time import TimeDiscretization\n",
    "from datetime import datetime\n",
    "\n",
    "time_discretization = TimeDiscretization(\n",
    "  start_date_time=StartDateTime.from_datetime(datetime(2020, 1, 1)),\n",
    "  end_date_time=StartDateTime.from_datetime(datetime(2020, 12, 31)),\n",
    "  stress_periods=StressPeriodCollection([\n",
    "    StressPeriod(\n",
    "      start_date_time=StartDateTime.from_datetime(datetime(2020, 1, 1)),\n",
    "      number_of_time_steps=NumberOfTimeSteps(1),\n",
    "      time_step_multiplier=TimeStepMultiplier(1),\n",
    "      steady_state=IsSteadyState.yes()\n",
    "    ),\n",
    "    StressPeriod(\n",
    "      start_date_time=StartDateTime.from_datetime(datetime(2020, 2, 1)),\n",
    "      number_of_time_steps=NumberOfTimeSteps(1),\n",
    "      time_step_multiplier=TimeStepMultiplier(1),\n",
    "      steady_state=IsSteadyState.no()\n",
    "    ),\n",
    "    StressPeriod(\n",
    "      start_date_time=StartDateTime.from_datetime(datetime(2020, 3, 1)),\n",
    "      number_of_time_steps=NumberOfTimeSteps(1),\n",
    "      time_step_multiplier=TimeStepMultiplier(1),\n",
    "      steady_state=IsSteadyState.no()\n",
    "    ),\n",
    "    StressPeriod(\n",
    "      start_date_time=StartDateTime.from_datetime(datetime(2020, 4, 1)),\n",
    "      number_of_time_steps=NumberOfTimeSteps(1),\n",
    "      time_step_multiplier=TimeStepMultiplier(1),\n",
    "      steady_state=IsSteadyState.no()\n",
    "    ),\n",
    "    StressPeriod(\n",
    "      start_date_time=StartDateTime.from_datetime(datetime(2020, 5, 1)),\n",
    "      number_of_time_steps=NumberOfTimeSteps(1),\n",
    "      time_step_multiplier=TimeStepMultiplier(1),\n",
    "      steady_state=IsSteadyState.no()\n",
    "    ),\n",
    "    StressPeriod(\n",
    "      start_date_time=StartDateTime.from_datetime(datetime(2020, 6, 1)),\n",
    "      number_of_time_steps=NumberOfTimeSteps(1),\n",
    "      time_step_multiplier=TimeStepMultiplier(1),\n",
    "      steady_state=IsSteadyState.no()\n",
    "    ),\n",
    "    StressPeriod(\n",
    "      start_date_time=StartDateTime.from_datetime(datetime(2020, 7, 1)),\n",
    "      number_of_time_steps=NumberOfTimeSteps(1),\n",
    "      time_step_multiplier=TimeStepMultiplier(1),\n",
    "      steady_state=IsSteadyState.no()\n",
    "    ),\n",
    "    StressPeriod(\n",
    "      start_date_time=StartDateTime.from_datetime(datetime(2020, 8, 1)),\n",
    "      number_of_time_steps=NumberOfTimeSteps(1),\n",
    "      time_step_multiplier=TimeStepMultiplier(1),\n",
    "      steady_state=IsSteadyState.no()\n",
    "    ),\n",
    "    StressPeriod(\n",
    "      start_date_time=StartDateTime.from_datetime(datetime(2020, 9, 1)),\n",
    "      number_of_time_steps=NumberOfTimeSteps(1),\n",
    "      time_step_multiplier=TimeStepMultiplier(1),\n",
    "      steady_state=IsSteadyState.no()\n",
    "    ),\n",
    "    StressPeriod(\n",
    "      start_date_time=StartDateTime.from_datetime(datetime(2020, 10, 1)),\n",
    "      number_of_time_steps=NumberOfTimeSteps(1),\n",
    "      time_step_multiplier=TimeStepMultiplier(1),\n",
    "      steady_state=IsSteadyState.no()\n",
    "    ),\n",
    "    StressPeriod(\n",
    "      start_date_time=StartDateTime.from_datetime(datetime(2020, 11, 1)),\n",
    "      number_of_time_steps=NumberOfTimeSteps(1),\n",
    "      time_step_multiplier=TimeStepMultiplier(1),\n",
    "      steady_state=IsSteadyState.no()\n",
    "    ),\n",
    "    StressPeriod(\n",
    "      start_date_time=StartDateTime.from_datetime(datetime(2020, 12, 1)),\n",
    "      number_of_time_steps=NumberOfTimeSteps(1),\n",
    "      time_step_multiplier=TimeStepMultiplier(1),\n",
    "      steady_state=IsSteadyState.no()\n",
    "    ),\n",
    "  ]),\n",
    "  time_unit=TimeUnit.days()\n",
    ")\n",
    "\n",
    "time_discretization"
   ],
   "outputs": []
  },
  {
   "cell_type": "code",
   "execution_count": 4,
   "id": "1540b870ae83f298",
   "metadata": {
    "ExecuteTime": {
     "end_time": "2024-05-14T07:58:59.930789Z",
     "start_time": "2024-05-14T07:58:59.356309Z"
    },
    "collapsed": false,
    "execution": {
     "iopub.execute_input": "2024-05-15T15:59:54.512555Z",
     "iopub.status.busy": "2024-05-15T15:59:54.512231Z",
     "iopub.status.idle": "2024-05-15T15:59:54.832005Z",
     "shell.execute_reply": "2024-05-15T15:59:54.831747Z"
    },
    "papermill": {
     "duration": 0.32528,
     "end_time": "2024-05-15T15:59:54.832852",
     "exception": false,
     "start_time": "2024-05-15T15:59:54.507572",
     "status": "completed"
    },
    "tags": []
   },
   "source": [
    "import folium\n",
    "\n",
    "m = folium.Map(tiles=\"cartodbpositron\", crs=\"EPSG3857\", zoom_start=12, location=[50.965, 13.922])\n",
    "m.add_child(folium.GeoJson(polygon.as_geojson()))\n",
    "\n",
    "m.fit_bounds(m.get_bounds())\n",
    "m"
   ],
   "outputs": []
  },
  {
   "cell_type": "markdown",
   "id": "9df9979b6c9bdbed",
   "metadata": {
    "collapsed": false,
    "papermill": {
     "duration": 0.001571,
     "end_time": "2024-05-15T15:59:54.836213",
     "exception": false,
     "start_time": "2024-05-15T15:59:54.834642",
     "status": "completed"
    },
    "tags": []
   },
   "source": [
    "## Setup model"
   ]
  },
  {
   "cell_type": "code",
   "execution_count": 5,
   "id": "77045c334efc769c",
   "metadata": {
    "ExecuteTime": {
     "end_time": "2024-05-14T07:59:00.290843Z",
     "start_time": "2024-05-14T07:58:59.933843Z"
    },
    "collapsed": false,
    "execution": {
     "iopub.execute_input": "2024-05-15T15:59:54.839934Z",
     "iopub.status.busy": "2024-05-15T15:59:54.839664Z",
     "iopub.status.idle": "2024-05-15T15:59:54.990434Z",
     "shell.execute_reply": "2024-05-15T15:59:54.990091Z"
    },
    "papermill": {
     "duration": 0.153889,
     "end_time": "2024-05-15T15:59:54.991494",
     "exception": false,
     "start_time": "2024-05-15T15:59:54.837605",
     "status": "completed"
    },
    "tags": []
   },
   "source": [
    "from morpheus.project.types.Model import Model\n",
    "\n",
    "model = Model.new()\n",
    "model = model.with_updated_time_discretization(time_discretization)\n",
    "model = model.with_updated_spatial_discretization(spatial_discretization=spatial_discretization)"
   ],
   "outputs": []
  },
  {
   "cell_type": "markdown",
   "id": "62ae3587df801000",
   "metadata": {
    "collapsed": false,
    "papermill": {
     "duration": 0.001366,
     "end_time": "2024-05-15T15:59:54.994533",
     "exception": false,
     "start_time": "2024-05-15T15:59:54.993167",
     "status": "completed"
    },
    "tags": []
   },
   "source": [
    "# Setup recharge boundary"
   ]
  },
  {
   "cell_type": "code",
   "execution_count": 6,
   "id": "53679913aee28ce9",
   "metadata": {
    "ExecuteTime": {
     "end_time": "2024-05-14T07:59:00.322629Z",
     "start_time": "2024-05-14T07:59:00.291584Z"
    },
    "collapsed": false,
    "execution": {
     "iopub.execute_input": "2024-05-15T15:59:54.997841Z",
     "iopub.status.busy": "2024-05-15T15:59:54.997634Z",
     "iopub.status.idle": "2024-05-15T15:59:55.020690Z",
     "shell.execute_reply": "2024-05-15T15:59:55.020384Z"
    },
    "papermill": {
     "duration": 0.02567,
     "end_time": "2024-05-15T15:59:55.021495",
     "exception": false,
     "start_time": "2024-05-15T15:59:54.995825",
     "status": "completed"
    },
    "tags": []
   },
   "source": [
    "from morpheus.project.types.boundaries.Boundary import BoundaryName, RechargeBoundary\n",
    "from morpheus.project.types.boundaries.RechargeObservation import RechargeRawDataItem, RechargeRate\n",
    "\n",
    "layers_list = [model.layers[0].layer_id]\n",
    "recharge_boundary = RechargeBoundary.from_geometry(\n",
    "  name=BoundaryName('recharge_boundary'),\n",
    "  geometry=Polygon([[\n",
    "    (13.922514437551428, 50.964720483303836),\n",
    "    (13.925250781947113, 50.965228748412386),\n",
    "    (13.925036413951403, 50.96623732041704),\n",
    "    (13.92222441026388, 50.96629040370362),\n",
    "    (13.922514437551428, 50.964720483303836)\n",
    "  ]]),\n",
    "  grid=grid,\n",
    "  affected_layers=[layers_list[0]],\n",
    "  data=[\n",
    "    RechargeRawDataItem(\n",
    "      date_time=StartDateTime.from_datetime(datetime(2019, 1, 1)),\n",
    "      recharge_rate=RechargeRate.from_float(0.01),\n",
    "    ),\n",
    "    RechargeRawDataItem(\n",
    "      date_time=StartDateTime.from_datetime(datetime(2021, 12, 31)),\n",
    "      recharge_rate=RechargeRate.from_float(0.02),\n",
    "    ),\n",
    "  ],\n",
    ")\n",
    "\n",
    "recharge_boundary.affected_cells = recharge_boundary.affected_cells.filter(\n",
    "  lambda cell: spatial_discretization.affected_cells.contains(cell))\n",
    "\n",
    "m.add_child(folium.GeoJson(recharge_boundary.as_geojson()))\n",
    "m.add_child(folium.GeoJson(recharge_boundary.affected_cells.to_geojson(grid).as_geojson()))\n",
    "for recharge_boundary.observation in recharge_boundary.observations:\n",
    "  m.add_child(folium.GeoJson(recharge_boundary.observation.as_geojson()))\n",
    "m.fit_bounds(m.get_bounds())\n",
    "m"
   ],
   "outputs": []
  },
  {
   "cell_type": "markdown",
   "id": "b33c8f87aa3516fc",
   "metadata": {
    "collapsed": false,
    "papermill": {
     "duration": 0.00156,
     "end_time": "2024-05-15T15:59:55.025044",
     "exception": false,
     "start_time": "2024-05-15T15:59:55.023484",
     "status": "completed"
    },
    "tags": []
   },
   "source": [
    "## Calculate constant head stress periods"
   ]
  },
  {
   "cell_type": "code",
   "execution_count": 7,
   "id": "c02b9bf2e59abc77",
   "metadata": {
    "ExecuteTime": {
     "end_time": "2024-05-14T07:59:00.818654Z",
     "start_time": "2024-05-14T07:59:00.324036Z"
    },
    "collapsed": false,
    "execution": {
     "iopub.execute_input": "2024-05-15T15:59:55.028771Z",
     "iopub.status.busy": "2024-05-15T15:59:55.028573Z",
     "iopub.status.idle": "2024-05-15T15:59:55.293172Z",
     "shell.execute_reply": "2024-05-15T15:59:55.292922Z"
    },
    "papermill": {
     "duration": 0.267437,
     "end_time": "2024-05-15T15:59:55.293985",
     "exception": false,
     "start_time": "2024-05-15T15:59:55.026548",
     "status": "completed"
    },
    "tags": []
   },
   "source": [
    "from morpheus.project.infrastructure.calculation.engines.modflow_2005.packages.RchPackageMapper import \\\n",
    "  calculate_rch_boundary_stress_period_data\n",
    "\n",
    "result = calculate_rch_boundary_stress_period_data(\n",
    "  spatial_discretization=spatial_discretization,\n",
    "  time_discretization=time_discretization,\n",
    "  layers=model.layers,\n",
    "  rch_boundary=recharge_boundary,\n",
    ")\n",
    "result.to_dict()"
   ],
   "outputs": []
  },
  {
   "cell_type": "code",
   "execution_count": null,
   "id": "22dbafe7061cd4e0",
   "metadata": {
    "ExecuteTime": {
     "end_time": "2024-05-14T07:59:00.820934Z",
     "start_time": "2024-05-14T07:59:00.819270Z"
    },
    "papermill": {
     "duration": 0.001841,
     "end_time": "2024-05-15T15:59:55.298084",
     "exception": false,
     "start_time": "2024-05-15T15:59:55.296243",
     "status": "completed"
    },
    "tags": []
   },
   "source": [],
   "outputs": []
  }
 ],
 "metadata": {
  "kernelspec": {
   "display_name": "Python 3",
   "language": "python",
   "name": "python3"
  },
  "language_info": {
   "codemirror_mode": {
    "name": "ipython",
    "version": 3
   },
   "file_extension": ".py",
   "mimetype": "text/x-python",
   "name": "python",
   "nbconvert_exporter": "python",
   "pygments_lexer": "ipython3",
   "version": "3.12.2"
  },
  "papermill": {
   "default_parameters": {},
   "duration": 1.870502,
   "end_time": "2024-05-15T15:59:55.515950",
   "environment_variables": {},
   "exception": null,
   "input_path": "./notebooks/RechargeBoundary.ipynb",
   "output_path": "./notebooks/RechargeBoundary.ipynb",
   "parameters": {},
   "start_time": "2024-05-15T15:59:53.645448",
   "version": "2.6.0"
  }
 },
 "nbformat": 4,
 "nbformat_minor": 5
}
