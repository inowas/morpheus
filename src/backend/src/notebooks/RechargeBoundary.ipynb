{
 "cells": [
  {
   "cell_type": "code",
   "execution_count": 1,
   "outputs": [],
   "source": [
    "import sys\n",
    "\n",
    "sys.path.insert(0, '..')"
   ],
   "metadata": {
    "collapsed": false,
    "ExecuteTime": {
     "end_time": "2023-12-19T11:28:24.504912Z",
     "start_time": "2023-12-19T11:28:24.483744Z"
    }
   },
   "id": "ba6761fae9d5e5cb"
  },
  {
   "cell_type": "markdown",
   "source": [
    "## Setup the model area"
   ],
   "metadata": {
    "collapsed": false
   },
   "id": "5ede1ba5e0993dd1"
  },
  {
   "cell_type": "code",
   "execution_count": 2,
   "outputs": [
    {
     "data": {
      "text/plain": "SpatialDiscretization(geometry=Polygon(coordinates=[[(13.922514437551428, 50.964720483303836), (13.925250781947113, 50.965228748412386), (13.925036413951403, 50.96623732041704), (13.92222441026388, 50.96629040370362), (13.922514437551428, 50.964720483303836)]], type='Polygon'), grid=Grid(origin=Point(coordinates=(13.922224410263878, 50.9662904037036), type='Point'), x_distances=[33.68941547288559, 33.68941547288559, 33.6894154728856, 33.689415472885585, 33.6894154728856, 33.6894154728856, 33.68941547288557, 33.6894154728856, 33.68941547288563, 33.68941547288557], y_distances=[27.74944856585935, 27.74944856585935, 27.749448565859346, 27.749448565859353, 27.74944856585934, 27.749448565859353, 27.749448565859325, 27.74944856585938, 27.749448565859325, 27.749448565859353], rotation=Rotation(value=0), length_unit=LengthUnit(unit=2)), affected_cells=GridCells(shape=(10, 10), data=[GridCell(x=0, y=0, value=True), GridCell(x=0, y=1, value=True), GridCell(x=0, y=2, value=True), GridCell(x=0, y=3, value=True), GridCell(x=0, y=4, value=True), GridCell(x=1, y=0, value=True), GridCell(x=1, y=1, value=True), GridCell(x=1, y=2, value=True), GridCell(x=1, y=3, value=True), GridCell(x=1, y=4, value=True), GridCell(x=1, y=5, value=True), GridCell(x=1, y=6, value=True), GridCell(x=1, y=7, value=True), GridCell(x=1, y=8, value=True), GridCell(x=1, y=9, value=True), GridCell(x=2, y=0, value=True), GridCell(x=2, y=1, value=True), GridCell(x=2, y=2, value=True), GridCell(x=2, y=3, value=True), GridCell(x=2, y=4, value=True), GridCell(x=2, y=5, value=True), GridCell(x=2, y=6, value=True), GridCell(x=2, y=7, value=True), GridCell(x=2, y=8, value=True), GridCell(x=3, y=0, value=True), GridCell(x=3, y=1, value=True), GridCell(x=3, y=2, value=True), GridCell(x=3, y=3, value=True), GridCell(x=3, y=4, value=True), GridCell(x=3, y=5, value=True), GridCell(x=3, y=6, value=True), GridCell(x=3, y=7, value=True), GridCell(x=3, y=8, value=True), GridCell(x=4, y=0, value=True), GridCell(x=4, y=1, value=True), GridCell(x=4, y=2, value=True), GridCell(x=4, y=3, value=True), GridCell(x=4, y=4, value=True), GridCell(x=4, y=5, value=True), GridCell(x=4, y=6, value=True), GridCell(x=4, y=7, value=True), GridCell(x=4, y=8, value=True), GridCell(x=5, y=0, value=True), GridCell(x=5, y=1, value=True), GridCell(x=5, y=2, value=True), GridCell(x=5, y=3, value=True), GridCell(x=5, y=4, value=True), GridCell(x=5, y=5, value=True), GridCell(x=5, y=6, value=True), GridCell(x=5, y=7, value=True), GridCell(x=6, y=0, value=True), GridCell(x=6, y=1, value=True), GridCell(x=6, y=2, value=True), GridCell(x=6, y=3, value=True), GridCell(x=6, y=4, value=True), GridCell(x=6, y=5, value=True), GridCell(x=6, y=6, value=True), GridCell(x=6, y=7, value=True), GridCell(x=7, y=0, value=True), GridCell(x=7, y=1, value=True), GridCell(x=7, y=2, value=True), GridCell(x=7, y=3, value=True), GridCell(x=7, y=4, value=True), GridCell(x=7, y=5, value=True), GridCell(x=7, y=6, value=True), GridCell(x=7, y=7, value=True), GridCell(x=8, y=0, value=True), GridCell(x=8, y=1, value=True), GridCell(x=8, y=2, value=True), GridCell(x=8, y=3, value=True), GridCell(x=8, y=4, value=True), GridCell(x=8, y=5, value=True), GridCell(x=8, y=6, value=True), GridCell(x=9, y=2, value=True), GridCell(x=9, y=3, value=True), GridCell(x=9, y=4, value=True), GridCell(x=9, y=5, value=True), GridCell(x=9, y=6, value=True)], cell_geometries=None), crs=Crs(value='EPSG:4326'))"
     },
     "execution_count": 2,
     "metadata": {},
     "output_type": "execute_result"
    }
   ],
   "source": [
    "from morpheus.modflow.types.discretization import SpatialDiscretization\n",
    "from morpheus.modflow.types.discretization.spatial import Rotation, LengthUnit, Grid, GridCells, Crs\n",
    "from morpheus.modflow.types.geometry import Polygon\n",
    "\n",
    "polygon = Polygon(\n",
    "  type='Polygon',\n",
    "  coordinates=[[\n",
    "    (13.922514437551428, 50.964720483303836),\n",
    "    (13.925250781947113, 50.965228748412386),\n",
    "    (13.925036413951403, 50.96623732041704),\n",
    "    (13.92222441026388, 50.96629040370362),\n",
    "    (13.922514437551428, 50.964720483303836)\n",
    "  ]]\n",
    ")\n",
    "\n",
    "rotation = Rotation(0)\n",
    "length_unit = LengthUnit.meters()\n",
    "x_coordinates = [0, 0.1, 0.2, 0.3, 0.4, 0.5, 0.6, 0.7, 0.8, 0.9, 1]\n",
    "y_coordinates = [0, 0.1, 0.2, 0.3, 0.4, 0.5, 0.6, 0.7, 0.8, 0.9, 1]\n",
    "\n",
    "grid = Grid.from_polygon_with_relative_coordinates(\n",
    "  polygon=polygon,\n",
    "  x_coordinates=x_coordinates,\n",
    "  y_coordinates=y_coordinates,\n",
    "  rotation=rotation,\n",
    ")\n",
    "\n",
    "spatial_discretization = SpatialDiscretization(\n",
    "  geometry=polygon,\n",
    "  grid=grid,\n",
    "  affected_cells=GridCells.from_polygon(polygon=polygon, grid=grid),\n",
    "  crs=Crs.from_str('EPSG:4326')\n",
    ")\n",
    "\n",
    "spatial_discretization\n"
   ],
   "metadata": {
    "collapsed": false,
    "ExecuteTime": {
     "end_time": "2023-12-19T11:28:24.691891Z",
     "start_time": "2023-12-19T11:28:24.490179Z"
    }
   },
   "id": "2f69504ab35487aa"
  },
  {
   "cell_type": "markdown",
   "source": [
    "## Setup Time Discretization"
   ],
   "metadata": {
    "collapsed": false
   },
   "id": "fa27e67f9d801845"
  },
  {
   "cell_type": "code",
   "execution_count": 3,
   "outputs": [
    {
     "data": {
      "text/plain": "TimeDiscretization(start_date_time=StartDateTime(value=datetime.datetime(2020, 1, 1, 0, 0)), end_date_time=StartDateTime(value=datetime.datetime(2020, 12, 31, 0, 0)), stress_periods=StressPeriodCollection(values=[StressPeriod(start_date_time=StartDateTime(value=datetime.datetime(2020, 1, 1, 0, 0)), number_of_time_steps=NumberOfTimeSteps(value=1), time_step_multiplier=TimeStepMultiplier(value=1), steady_state=IsSteadyState(value=True)), StressPeriod(start_date_time=StartDateTime(value=datetime.datetime(2020, 2, 1, 0, 0)), number_of_time_steps=NumberOfTimeSteps(value=1), time_step_multiplier=TimeStepMultiplier(value=1), steady_state=IsSteadyState(value=False)), StressPeriod(start_date_time=StartDateTime(value=datetime.datetime(2020, 3, 1, 0, 0)), number_of_time_steps=NumberOfTimeSteps(value=1), time_step_multiplier=TimeStepMultiplier(value=1), steady_state=IsSteadyState(value=False)), StressPeriod(start_date_time=StartDateTime(value=datetime.datetime(2020, 4, 1, 0, 0)), number_of_time_steps=NumberOfTimeSteps(value=1), time_step_multiplier=TimeStepMultiplier(value=1), steady_state=IsSteadyState(value=False)), StressPeriod(start_date_time=StartDateTime(value=datetime.datetime(2020, 5, 1, 0, 0)), number_of_time_steps=NumberOfTimeSteps(value=1), time_step_multiplier=TimeStepMultiplier(value=1), steady_state=IsSteadyState(value=False)), StressPeriod(start_date_time=StartDateTime(value=datetime.datetime(2020, 6, 1, 0, 0)), number_of_time_steps=NumberOfTimeSteps(value=1), time_step_multiplier=TimeStepMultiplier(value=1), steady_state=IsSteadyState(value=False)), StressPeriod(start_date_time=StartDateTime(value=datetime.datetime(2020, 7, 1, 0, 0)), number_of_time_steps=NumberOfTimeSteps(value=1), time_step_multiplier=TimeStepMultiplier(value=1), steady_state=IsSteadyState(value=False)), StressPeriod(start_date_time=StartDateTime(value=datetime.datetime(2020, 8, 1, 0, 0)), number_of_time_steps=NumberOfTimeSteps(value=1), time_step_multiplier=TimeStepMultiplier(value=1), steady_state=IsSteadyState(value=False)), StressPeriod(start_date_time=StartDateTime(value=datetime.datetime(2020, 9, 1, 0, 0)), number_of_time_steps=NumberOfTimeSteps(value=1), time_step_multiplier=TimeStepMultiplier(value=1), steady_state=IsSteadyState(value=False)), StressPeriod(start_date_time=StartDateTime(value=datetime.datetime(2020, 10, 1, 0, 0)), number_of_time_steps=NumberOfTimeSteps(value=1), time_step_multiplier=TimeStepMultiplier(value=1), steady_state=IsSteadyState(value=False)), StressPeriod(start_date_time=StartDateTime(value=datetime.datetime(2020, 11, 1, 0, 0)), number_of_time_steps=NumberOfTimeSteps(value=1), time_step_multiplier=TimeStepMultiplier(value=1), steady_state=IsSteadyState(value=False)), StressPeriod(start_date_time=StartDateTime(value=datetime.datetime(2020, 12, 1, 0, 0)), number_of_time_steps=NumberOfTimeSteps(value=1), time_step_multiplier=TimeStepMultiplier(value=1), steady_state=IsSteadyState(value=False))]), time_unit=TimeUnit(unit=4))"
     },
     "execution_count": 3,
     "metadata": {},
     "output_type": "execute_result"
    }
   ],
   "source": [
    "from morpheus.modflow.types.discretization.time.TimeUnit import TimeUnit\n",
    "from morpheus.modflow.types.discretization.time.Stressperiods import StartDateTime, StressPeriodCollection, \\\n",
    "  StressPeriod, NumberOfTimeSteps, TimeStepMultiplier, IsSteadyState\n",
    "from morpheus.modflow.types.discretization.time import TimeDiscretization\n",
    "from datetime import datetime\n",
    "\n",
    "time_discretization = TimeDiscretization(\n",
    "  start_date_time=StartDateTime.from_datetime(datetime(2020, 1, 1)),\n",
    "  end_date_time=StartDateTime.from_datetime(datetime(2020, 12, 31)),\n",
    "  stress_periods=StressPeriodCollection([\n",
    "    StressPeriod(\n",
    "      start_date_time=StartDateTime.from_datetime(datetime(2020, 1, 1)),\n",
    "      number_of_time_steps=NumberOfTimeSteps(1),\n",
    "      time_step_multiplier=TimeStepMultiplier(1),\n",
    "      steady_state=IsSteadyState.yes()\n",
    "    ),\n",
    "    StressPeriod(\n",
    "      start_date_time=StartDateTime.from_datetime(datetime(2020, 2, 1)),\n",
    "      number_of_time_steps=NumberOfTimeSteps(1),\n",
    "      time_step_multiplier=TimeStepMultiplier(1),\n",
    "      steady_state=IsSteadyState.no()\n",
    "    ),\n",
    "    StressPeriod(\n",
    "      start_date_time=StartDateTime.from_datetime(datetime(2020, 3, 1)),\n",
    "      number_of_time_steps=NumberOfTimeSteps(1),\n",
    "      time_step_multiplier=TimeStepMultiplier(1),\n",
    "      steady_state=IsSteadyState.no()\n",
    "    ),\n",
    "    StressPeriod(\n",
    "      start_date_time=StartDateTime.from_datetime(datetime(2020, 4, 1)),\n",
    "      number_of_time_steps=NumberOfTimeSteps(1),\n",
    "      time_step_multiplier=TimeStepMultiplier(1),\n",
    "      steady_state=IsSteadyState.no()\n",
    "    ),\n",
    "    StressPeriod(\n",
    "      start_date_time=StartDateTime.from_datetime(datetime(2020, 5, 1)),\n",
    "      number_of_time_steps=NumberOfTimeSteps(1),\n",
    "      time_step_multiplier=TimeStepMultiplier(1),\n",
    "      steady_state=IsSteadyState.no()\n",
    "    ),\n",
    "    StressPeriod(\n",
    "      start_date_time=StartDateTime.from_datetime(datetime(2020, 6, 1)),\n",
    "      number_of_time_steps=NumberOfTimeSteps(1),\n",
    "      time_step_multiplier=TimeStepMultiplier(1),\n",
    "      steady_state=IsSteadyState.no()\n",
    "    ),\n",
    "    StressPeriod(\n",
    "      start_date_time=StartDateTime.from_datetime(datetime(2020, 7, 1)),\n",
    "      number_of_time_steps=NumberOfTimeSteps(1),\n",
    "      time_step_multiplier=TimeStepMultiplier(1),\n",
    "      steady_state=IsSteadyState.no()\n",
    "    ),\n",
    "    StressPeriod(\n",
    "      start_date_time=StartDateTime.from_datetime(datetime(2020, 8, 1)),\n",
    "      number_of_time_steps=NumberOfTimeSteps(1),\n",
    "      time_step_multiplier=TimeStepMultiplier(1),\n",
    "      steady_state=IsSteadyState.no()\n",
    "    ),\n",
    "    StressPeriod(\n",
    "      start_date_time=StartDateTime.from_datetime(datetime(2020, 9, 1)),\n",
    "      number_of_time_steps=NumberOfTimeSteps(1),\n",
    "      time_step_multiplier=TimeStepMultiplier(1),\n",
    "      steady_state=IsSteadyState.no()\n",
    "    ),\n",
    "    StressPeriod(\n",
    "      start_date_time=StartDateTime.from_datetime(datetime(2020, 10, 1)),\n",
    "      number_of_time_steps=NumberOfTimeSteps(1),\n",
    "      time_step_multiplier=TimeStepMultiplier(1),\n",
    "      steady_state=IsSteadyState.no()\n",
    "    ),\n",
    "    StressPeriod(\n",
    "      start_date_time=StartDateTime.from_datetime(datetime(2020, 11, 1)),\n",
    "      number_of_time_steps=NumberOfTimeSteps(1),\n",
    "      time_step_multiplier=TimeStepMultiplier(1),\n",
    "      steady_state=IsSteadyState.no()\n",
    "    ),\n",
    "    StressPeriod(\n",
    "      start_date_time=StartDateTime.from_datetime(datetime(2020, 12, 1)),\n",
    "      number_of_time_steps=NumberOfTimeSteps(1),\n",
    "      time_step_multiplier=TimeStepMultiplier(1),\n",
    "      steady_state=IsSteadyState.no()\n",
    "    ),\n",
    "  ]),\n",
    "  time_unit=TimeUnit.days()\n",
    ")\n",
    "\n",
    "time_discretization"
   ],
   "metadata": {
    "collapsed": false,
    "ExecuteTime": {
     "end_time": "2023-12-19T11:28:24.702165Z",
     "start_time": "2023-12-19T11:28:24.693641Z"
    }
   },
   "id": "8e4e63dd138db9fc"
  },
  {
   "cell_type": "code",
   "execution_count": 4,
   "outputs": [
    {
     "data": {
      "text/plain": "<folium.folium.Map at 0x119eb7260>",
      "text/html": "<div style=\"width:100%;\"><div style=\"position:relative;width:100%;height:0;padding-bottom:60%;\"><span style=\"color:#565656\">Make this Notebook Trusted to load map: File -> Trust Notebook</span><iframe srcdoc=\"&lt;!DOCTYPE html&gt;\n&lt;html&gt;\n&lt;head&gt;\n    \n    &lt;meta http-equiv=&quot;content-type&quot; content=&quot;text/html; charset=UTF-8&quot; /&gt;\n    \n        &lt;script&gt;\n            L_NO_TOUCH = false;\n            L_DISABLE_3D = false;\n        &lt;/script&gt;\n    \n    &lt;style&gt;html, body {width: 100%;height: 100%;margin: 0;padding: 0;}&lt;/style&gt;\n    &lt;style&gt;#map {position:absolute;top:0;bottom:0;right:0;left:0;}&lt;/style&gt;\n    &lt;script src=&quot;https://cdn.jsdelivr.net/npm/leaflet@1.9.3/dist/leaflet.js&quot;&gt;&lt;/script&gt;\n    &lt;script src=&quot;https://code.jquery.com/jquery-3.7.1.min.js&quot;&gt;&lt;/script&gt;\n    &lt;script src=&quot;https://cdn.jsdelivr.net/npm/bootstrap@5.2.2/dist/js/bootstrap.bundle.min.js&quot;&gt;&lt;/script&gt;\n    &lt;script src=&quot;https://cdnjs.cloudflare.com/ajax/libs/Leaflet.awesome-markers/2.0.2/leaflet.awesome-markers.js&quot;&gt;&lt;/script&gt;\n    &lt;link rel=&quot;stylesheet&quot; href=&quot;https://cdn.jsdelivr.net/npm/leaflet@1.9.3/dist/leaflet.css&quot;/&gt;\n    &lt;link rel=&quot;stylesheet&quot; href=&quot;https://cdn.jsdelivr.net/npm/bootstrap@5.2.2/dist/css/bootstrap.min.css&quot;/&gt;\n    &lt;link rel=&quot;stylesheet&quot; href=&quot;https://netdna.bootstrapcdn.com/bootstrap/3.0.0/css/bootstrap.min.css&quot;/&gt;\n    &lt;link rel=&quot;stylesheet&quot; href=&quot;https://cdn.jsdelivr.net/npm/@fortawesome/fontawesome-free@6.2.0/css/all.min.css&quot;/&gt;\n    &lt;link rel=&quot;stylesheet&quot; href=&quot;https://cdnjs.cloudflare.com/ajax/libs/Leaflet.awesome-markers/2.0.2/leaflet.awesome-markers.css&quot;/&gt;\n    &lt;link rel=&quot;stylesheet&quot; href=&quot;https://cdn.jsdelivr.net/gh/python-visualization/folium/folium/templates/leaflet.awesome.rotate.min.css&quot;/&gt;\n    \n            &lt;meta name=&quot;viewport&quot; content=&quot;width=device-width,\n                initial-scale=1.0, maximum-scale=1.0, user-scalable=no&quot; /&gt;\n            &lt;style&gt;\n                #map_84adce72d4a457d2fe36ed0e9c9f01f0 {\n                    position: relative;\n                    width: 100.0%;\n                    height: 100.0%;\n                    left: 0.0%;\n                    top: 0.0%;\n                }\n                .leaflet-container { font-size: 1rem; }\n            &lt;/style&gt;\n        \n&lt;/head&gt;\n&lt;body&gt;\n    \n    \n            &lt;div class=&quot;folium-map&quot; id=&quot;map_84adce72d4a457d2fe36ed0e9c9f01f0&quot; &gt;&lt;/div&gt;\n        \n&lt;/body&gt;\n&lt;script&gt;\n    \n    \n            var map_84adce72d4a457d2fe36ed0e9c9f01f0 = L.map(\n                &quot;map_84adce72d4a457d2fe36ed0e9c9f01f0&quot;,\n                {\n                    center: [50.965, 13.922],\n                    crs: L.CRS.EPSG3857,\n                    zoom: 12,\n                    zoomControl: true,\n                    preferCanvas: false,\n                }\n            );\n\n            \n\n        \n    \n            var tile_layer_616654de8382633c8c1742d53a0347e9 = L.tileLayer(\n                &quot;https://{s}.basemaps.cartocdn.com/light_all/{z}/{x}/{y}{r}.png&quot;,\n                {&quot;attribution&quot;: &quot;\\u0026copy; \\u003ca href=\\&quot;https://www.openstreetmap.org/copyright\\&quot;\\u003eOpenStreetMap\\u003c/a\\u003e contributors \\u0026copy; \\u003ca href=\\&quot;https://carto.com/attributions\\&quot;\\u003eCARTO\\u003c/a\\u003e&quot;, &quot;detectRetina&quot;: false, &quot;maxNativeZoom&quot;: 20, &quot;maxZoom&quot;: 20, &quot;minZoom&quot;: 0, &quot;noWrap&quot;: false, &quot;opacity&quot;: 1, &quot;subdomains&quot;: &quot;abcd&quot;, &quot;tms&quot;: false}\n            );\n        \n    \n            tile_layer_616654de8382633c8c1742d53a0347e9.addTo(map_84adce72d4a457d2fe36ed0e9c9f01f0);\n        \n    \n\n        function geo_json_9bf14cd3782f255d206ecea6c5e32a7b_onEachFeature(feature, layer) {\n            layer.on({\n            });\n        };\n        var geo_json_9bf14cd3782f255d206ecea6c5e32a7b = L.geoJson(null, {\n                onEachFeature: geo_json_9bf14cd3782f255d206ecea6c5e32a7b_onEachFeature,\n            \n        });\n\n        function geo_json_9bf14cd3782f255d206ecea6c5e32a7b_add (data) {\n            geo_json_9bf14cd3782f255d206ecea6c5e32a7b\n                .addData(data);\n        }\n            geo_json_9bf14cd3782f255d206ecea6c5e32a7b_add({&quot;coordinates&quot;: [[[13.922514437551428, 50.964720483303836], [13.925250781947113, 50.965228748412386], [13.925036413951403, 50.96623732041704], [13.92222441026388, 50.96629040370362], [13.922514437551428, 50.964720483303836]]], &quot;type&quot;: &quot;Polygon&quot;});\n\n        \n    \n            geo_json_9bf14cd3782f255d206ecea6c5e32a7b.addTo(map_84adce72d4a457d2fe36ed0e9c9f01f0);\n        \n    \n            map_84adce72d4a457d2fe36ed0e9c9f01f0.fitBounds(\n                [[50.964720483303836, 13.92222441026388], [50.96629040370362, 13.925250781947113]],\n                {}\n            );\n        \n&lt;/script&gt;\n&lt;/html&gt;\" style=\"position:absolute;width:100%;height:100%;left:0;top:0;border:none !important;\" allowfullscreen webkitallowfullscreen mozallowfullscreen></iframe></div></div>"
     },
     "execution_count": 4,
     "metadata": {},
     "output_type": "execute_result"
    }
   ],
   "source": [
    "import folium\n",
    "\n",
    "m = folium.Map(tiles=\"cartodbpositron\", crs=\"EPSG3857\", zoom_start=12, location=[50.965, 13.922])\n",
    "m.add_child(folium.GeoJson(polygon.as_geojson()))\n",
    "\n",
    "m.fit_bounds(m.get_bounds())\n",
    "m"
   ],
   "metadata": {
    "collapsed": false,
    "ExecuteTime": {
     "end_time": "2023-12-19T11:28:25.134778Z",
     "start_time": "2023-12-19T11:28:24.700293Z"
    }
   },
   "id": "1540b870ae83f298"
  },
  {
   "cell_type": "markdown",
   "source": [
    "## Setup modflow model"
   ],
   "metadata": {
    "collapsed": false
   },
   "id": "9df9979b6c9bdbed"
  },
  {
   "cell_type": "code",
   "execution_count": 5,
   "outputs": [],
   "source": [
    "from morpheus.modflow.types.ModflowModel import ModflowModel\n",
    "\n",
    "modflow_model = ModflowModel.new()\n",
    "modflow_model = modflow_model.with_updated_time_discretization(time_discretization)\n",
    "modflow_model = modflow_model.with_updated_spatial_discretization(spatial_discretization=spatial_discretization)"
   ],
   "metadata": {
    "collapsed": false,
    "ExecuteTime": {
     "end_time": "2023-12-19T11:28:25.414804Z",
     "start_time": "2023-12-19T11:28:25.136922Z"
    }
   },
   "id": "77045c334efc769c"
  },
  {
   "cell_type": "markdown",
   "source": [
    "# Setup recharge boundary"
   ],
   "metadata": {
    "collapsed": false
   },
   "id": "62ae3587df801000"
  },
  {
   "cell_type": "code",
   "execution_count": 6,
   "outputs": [
    {
     "data": {
      "text/plain": "<folium.folium.Map at 0x119eb7260>",
      "text/html": "<div style=\"width:100%;\"><div style=\"position:relative;width:100%;height:0;padding-bottom:60%;\"><span style=\"color:#565656\">Make this Notebook Trusted to load map: File -> Trust Notebook</span><iframe srcdoc=\"&lt;!DOCTYPE html&gt;\n&lt;html&gt;\n&lt;head&gt;\n    \n    &lt;meta http-equiv=&quot;content-type&quot; content=&quot;text/html; charset=UTF-8&quot; /&gt;\n    \n        &lt;script&gt;\n            L_NO_TOUCH = false;\n            L_DISABLE_3D = false;\n        &lt;/script&gt;\n    \n    &lt;style&gt;html, body {width: 100%;height: 100%;margin: 0;padding: 0;}&lt;/style&gt;\n    &lt;style&gt;#map {position:absolute;top:0;bottom:0;right:0;left:0;}&lt;/style&gt;\n    &lt;script src=&quot;https://cdn.jsdelivr.net/npm/leaflet@1.9.3/dist/leaflet.js&quot;&gt;&lt;/script&gt;\n    &lt;script src=&quot;https://code.jquery.com/jquery-3.7.1.min.js&quot;&gt;&lt;/script&gt;\n    &lt;script src=&quot;https://cdn.jsdelivr.net/npm/bootstrap@5.2.2/dist/js/bootstrap.bundle.min.js&quot;&gt;&lt;/script&gt;\n    &lt;script src=&quot;https://cdnjs.cloudflare.com/ajax/libs/Leaflet.awesome-markers/2.0.2/leaflet.awesome-markers.js&quot;&gt;&lt;/script&gt;\n    &lt;link rel=&quot;stylesheet&quot; href=&quot;https://cdn.jsdelivr.net/npm/leaflet@1.9.3/dist/leaflet.css&quot;/&gt;\n    &lt;link rel=&quot;stylesheet&quot; href=&quot;https://cdn.jsdelivr.net/npm/bootstrap@5.2.2/dist/css/bootstrap.min.css&quot;/&gt;\n    &lt;link rel=&quot;stylesheet&quot; href=&quot;https://netdna.bootstrapcdn.com/bootstrap/3.0.0/css/bootstrap.min.css&quot;/&gt;\n    &lt;link rel=&quot;stylesheet&quot; href=&quot;https://cdn.jsdelivr.net/npm/@fortawesome/fontawesome-free@6.2.0/css/all.min.css&quot;/&gt;\n    &lt;link rel=&quot;stylesheet&quot; href=&quot;https://cdnjs.cloudflare.com/ajax/libs/Leaflet.awesome-markers/2.0.2/leaflet.awesome-markers.css&quot;/&gt;\n    &lt;link rel=&quot;stylesheet&quot; href=&quot;https://cdn.jsdelivr.net/gh/python-visualization/folium/folium/templates/leaflet.awesome.rotate.min.css&quot;/&gt;\n    \n            &lt;meta name=&quot;viewport&quot; content=&quot;width=device-width,\n                initial-scale=1.0, maximum-scale=1.0, user-scalable=no&quot; /&gt;\n            &lt;style&gt;\n                #map_84adce72d4a457d2fe36ed0e9c9f01f0 {\n                    position: relative;\n                    width: 100.0%;\n                    height: 100.0%;\n                    left: 0.0%;\n                    top: 0.0%;\n                }\n                .leaflet-container { font-size: 1rem; }\n            &lt;/style&gt;\n        \n&lt;/head&gt;\n&lt;body&gt;\n    \n    \n            &lt;div class=&quot;folium-map&quot; id=&quot;map_84adce72d4a457d2fe36ed0e9c9f01f0&quot; &gt;&lt;/div&gt;\n        \n&lt;/body&gt;\n&lt;script&gt;\n    \n    \n            var map_84adce72d4a457d2fe36ed0e9c9f01f0 = L.map(\n                &quot;map_84adce72d4a457d2fe36ed0e9c9f01f0&quot;,\n                {\n                    center: [50.965, 13.922],\n                    crs: L.CRS.EPSG3857,\n                    zoom: 12,\n                    zoomControl: true,\n                    preferCanvas: false,\n                }\n            );\n\n            \n\n        \n    \n            var tile_layer_616654de8382633c8c1742d53a0347e9 = L.tileLayer(\n                &quot;https://{s}.basemaps.cartocdn.com/light_all/{z}/{x}/{y}{r}.png&quot;,\n                {&quot;attribution&quot;: &quot;\\u0026copy; \\u003ca href=\\&quot;https://www.openstreetmap.org/copyright\\&quot;\\u003eOpenStreetMap\\u003c/a\\u003e contributors \\u0026copy; \\u003ca href=\\&quot;https://carto.com/attributions\\&quot;\\u003eCARTO\\u003c/a\\u003e&quot;, &quot;detectRetina&quot;: false, &quot;maxNativeZoom&quot;: 20, &quot;maxZoom&quot;: 20, &quot;minZoom&quot;: 0, &quot;noWrap&quot;: false, &quot;opacity&quot;: 1, &quot;subdomains&quot;: &quot;abcd&quot;, &quot;tms&quot;: false}\n            );\n        \n    \n            tile_layer_616654de8382633c8c1742d53a0347e9.addTo(map_84adce72d4a457d2fe36ed0e9c9f01f0);\n        \n    \n\n        function geo_json_9bf14cd3782f255d206ecea6c5e32a7b_onEachFeature(feature, layer) {\n            layer.on({\n            });\n        };\n        var geo_json_9bf14cd3782f255d206ecea6c5e32a7b = L.geoJson(null, {\n                onEachFeature: geo_json_9bf14cd3782f255d206ecea6c5e32a7b_onEachFeature,\n            \n        });\n\n        function geo_json_9bf14cd3782f255d206ecea6c5e32a7b_add (data) {\n            geo_json_9bf14cd3782f255d206ecea6c5e32a7b\n                .addData(data);\n        }\n            geo_json_9bf14cd3782f255d206ecea6c5e32a7b_add({&quot;coordinates&quot;: [[[13.922514437551428, 50.964720483303836], [13.925250781947113, 50.965228748412386], [13.925036413951403, 50.96623732041704], [13.92222441026388, 50.96629040370362], [13.922514437551428, 50.964720483303836]]], &quot;type&quot;: &quot;Polygon&quot;});\n\n        \n    \n            geo_json_9bf14cd3782f255d206ecea6c5e32a7b.addTo(map_84adce72d4a457d2fe36ed0e9c9f01f0);\n        \n    \n            map_84adce72d4a457d2fe36ed0e9c9f01f0.fitBounds(\n                [[50.964720483303836, 13.92222441026388], [50.96629040370362, 13.925250781947113]],\n                {}\n            );\n        \n    \n            tile_layer_616654de8382633c8c1742d53a0347e9.addTo(map_84adce72d4a457d2fe36ed0e9c9f01f0);\n        \n    \n            geo_json_9bf14cd3782f255d206ecea6c5e32a7b.addTo(map_84adce72d4a457d2fe36ed0e9c9f01f0);\n        \n    \n\n        function geo_json_120910821f91157460e046bf21b10101_onEachFeature(feature, layer) {\n            layer.on({\n            });\n        };\n        var geo_json_120910821f91157460e046bf21b10101 = L.geoJson(null, {\n                onEachFeature: geo_json_120910821f91157460e046bf21b10101_onEachFeature,\n            \n        });\n\n        function geo_json_120910821f91157460e046bf21b10101_add (data) {\n            geo_json_120910821f91157460e046bf21b10101\n                .addData(data);\n        }\n            geo_json_120910821f91157460e046bf21b10101_add({&quot;coordinates&quot;: [[[13.922514437551428, 50.964720483303836], [13.925250781947113, 50.965228748412386], [13.925036413951403, 50.96623732041704], [13.92222441026388, 50.96629040370362], [13.922514437551428, 50.964720483303836]]], &quot;type&quot;: &quot;Polygon&quot;});\n\n        \n    \n            geo_json_120910821f91157460e046bf21b10101.addTo(map_84adce72d4a457d2fe36ed0e9c9f01f0);\n        \n    \n\n        function geo_json_339b1ff66dc15ceb3abb271203743765_onEachFeature(feature, layer) {\n            layer.on({\n            });\n        };\n        var geo_json_339b1ff66dc15ceb3abb271203743765 = L.geoJson(null, {\n                onEachFeature: geo_json_339b1ff66dc15ceb3abb271203743765_onEachFeature,\n            \n        });\n\n        function geo_json_339b1ff66dc15ceb3abb271203743765_add (data) {\n            geo_json_339b1ff66dc15ceb3abb271203743765\n                .addData(data);\n        }\n            geo_json_339b1ff66dc15ceb3abb271203743765_add({&quot;geometries&quot;: [{&quot;coordinates&quot;: [[[13.922224410263878, 50.96629040370359], [13.922527047432201, 50.96629040370359], [13.922527047432201, 50.9661334140511], [13.922224410263878, 50.9661334140511], [13.922224410263878, 50.96629040370359]]], &quot;type&quot;: &quot;Polygon&quot;}, {&quot;coordinates&quot;: [[[13.922224410263878, 50.9661334140511], [13.922527047432201, 50.9661334140511], [13.922527047432201, 50.96597642386806], [13.922224410263878, 50.96597642386806], [13.922224410263878, 50.9661334140511]]], &quot;type&quot;: &quot;Polygon&quot;}, {&quot;coordinates&quot;: [[[13.922224410263878, 50.96597642386806], [13.922527047432201, 50.96597642386806], [13.922527047432201, 50.96581943315447], [13.922224410263878, 50.96581943315447], [13.922224410263878, 50.96597642386806]]], &quot;type&quot;: &quot;Polygon&quot;}, {&quot;coordinates&quot;: [[[13.922224410263878, 50.96581943315447], [13.922527047432201, 50.96581943315447], [13.922527047432201, 50.965662441910325], [13.922224410263878, 50.965662441910325], [13.922224410263878, 50.96581943315447]]], &quot;type&quot;: &quot;Polygon&quot;}, {&quot;coordinates&quot;: [[[13.922224410263878, 50.965662441910325], [13.922527047432201, 50.965662441910325], [13.922527047432201, 50.965505450135616], [13.922224410263878, 50.965505450135616], [13.922224410263878, 50.965662441910325]]], &quot;type&quot;: &quot;Polygon&quot;}, {&quot;coordinates&quot;: [[[13.922527047432201, 50.96629040370359], [13.922829684600526, 50.96629040370359], [13.922829684600526, 50.9661334140511], [13.922527047432201, 50.9661334140511], [13.922527047432201, 50.96629040370359]]], &quot;type&quot;: &quot;Polygon&quot;}, {&quot;coordinates&quot;: [[[13.922527047432201, 50.9661334140511], [13.922829684600526, 50.9661334140511], [13.922829684600526, 50.96597642386806], [13.922527047432201, 50.96597642386806], [13.922527047432201, 50.9661334140511]]], &quot;type&quot;: &quot;Polygon&quot;}, {&quot;coordinates&quot;: [[[13.922527047432201, 50.96597642386806], [13.922829684600526, 50.96597642386806], [13.922829684600526, 50.96581943315447], [13.922527047432201, 50.96581943315447], [13.922527047432201, 50.96597642386806]]], &quot;type&quot;: &quot;Polygon&quot;}, {&quot;coordinates&quot;: [[[13.922527047432201, 50.96581943315447], [13.922829684600526, 50.96581943315447], [13.922829684600526, 50.965662441910325], [13.922527047432201, 50.965662441910325], [13.922527047432201, 50.96581943315447]]], &quot;type&quot;: &quot;Polygon&quot;}, {&quot;coordinates&quot;: [[[13.922527047432201, 50.965662441910325], [13.922829684600526, 50.965662441910325], [13.922829684600526, 50.965505450135616], [13.922527047432201, 50.965505450135616], [13.922527047432201, 50.965662441910325]]], &quot;type&quot;: &quot;Polygon&quot;}, {&quot;coordinates&quot;: [[[13.922527047432201, 50.965505450135616], [13.922829684600526, 50.965505450135616], [13.922829684600526, 50.965348457830366], [13.922527047432201, 50.965348457830366], [13.922527047432201, 50.965505450135616]]], &quot;type&quot;: &quot;Polygon&quot;}, {&quot;coordinates&quot;: [[[13.922527047432201, 50.965348457830366], [13.922829684600526, 50.965348457830366], [13.922829684600526, 50.96519146499457], [13.922527047432201, 50.96519146499457], [13.922527047432201, 50.965348457830366]]], &quot;type&quot;: &quot;Polygon&quot;}, {&quot;coordinates&quot;: [[[13.922527047432201, 50.96519146499457], [13.922829684600526, 50.96519146499457], [13.922829684600526, 50.96503447162821], [13.922527047432201, 50.96503447162821], [13.922527047432201, 50.96519146499457]]], &quot;type&quot;: &quot;Polygon&quot;}, {&quot;coordinates&quot;: [[[13.922527047432201, 50.96503447162821], [13.922829684600526, 50.96503447162821], [13.922829684600526, 50.96487747773129], [13.922527047432201, 50.96487747773129], [13.922527047432201, 50.96503447162821]]], &quot;type&quot;: &quot;Polygon&quot;}, {&quot;coordinates&quot;: [[[13.922527047432201, 50.96487747773129], [13.922829684600526, 50.96487747773129], [13.922829684600526, 50.964720483303815], [13.922527047432201, 50.964720483303815], [13.922527047432201, 50.96487747773129]]], &quot;type&quot;: &quot;Polygon&quot;}, {&quot;coordinates&quot;: [[[13.922829684600526, 50.96629040370359], [13.923132321768849, 50.96629040370359], [13.923132321768849, 50.9661334140511], [13.922829684600526, 50.9661334140511], [13.922829684600526, 50.96629040370359]]], &quot;type&quot;: &quot;Polygon&quot;}, {&quot;coordinates&quot;: [[[13.922829684600526, 50.9661334140511], [13.923132321768849, 50.9661334140511], [13.923132321768849, 50.96597642386806], [13.922829684600526, 50.96597642386806], [13.922829684600526, 50.9661334140511]]], &quot;type&quot;: &quot;Polygon&quot;}, {&quot;coordinates&quot;: [[[13.922829684600526, 50.96597642386806], [13.923132321768849, 50.96597642386806], [13.923132321768849, 50.96581943315447], [13.922829684600526, 50.96581943315447], [13.922829684600526, 50.96597642386806]]], &quot;type&quot;: &quot;Polygon&quot;}, {&quot;coordinates&quot;: [[[13.922829684600526, 50.96581943315447], [13.923132321768849, 50.96581943315447], [13.923132321768849, 50.965662441910325], [13.922829684600526, 50.965662441910325], [13.922829684600526, 50.96581943315447]]], &quot;type&quot;: &quot;Polygon&quot;}, {&quot;coordinates&quot;: [[[13.922829684600526, 50.965662441910325], [13.923132321768849, 50.965662441910325], [13.923132321768849, 50.965505450135616], [13.922829684600526, 50.965505450135616], [13.922829684600526, 50.965662441910325]]], &quot;type&quot;: &quot;Polygon&quot;}, {&quot;coordinates&quot;: [[[13.922829684600526, 50.965505450135616], [13.923132321768849, 50.965505450135616], [13.923132321768849, 50.965348457830366], [13.922829684600526, 50.965348457830366], [13.922829684600526, 50.965505450135616]]], &quot;type&quot;: &quot;Polygon&quot;}, {&quot;coordinates&quot;: [[[13.922829684600526, 50.965348457830366], [13.923132321768849, 50.965348457830366], [13.923132321768849, 50.96519146499457], [13.922829684600526, 50.96519146499457], [13.922829684600526, 50.965348457830366]]], &quot;type&quot;: &quot;Polygon&quot;}, {&quot;coordinates&quot;: [[[13.922829684600526, 50.96519146499457], [13.923132321768849, 50.96519146499457], [13.923132321768849, 50.96503447162821], [13.922829684600526, 50.96503447162821], [13.922829684600526, 50.96519146499457]]], &quot;type&quot;: &quot;Polygon&quot;}, {&quot;coordinates&quot;: [[[13.922829684600526, 50.96503447162821], [13.923132321768849, 50.96503447162821], [13.923132321768849, 50.96487747773129], [13.922829684600526, 50.96487747773129], [13.922829684600526, 50.96503447162821]]], &quot;type&quot;: &quot;Polygon&quot;}, {&quot;coordinates&quot;: [[[13.923132321768849, 50.96629040370359], [13.923434958937172, 50.96629040370359], [13.923434958937172, 50.9661334140511], [13.923132321768849, 50.9661334140511], [13.923132321768849, 50.96629040370359]]], &quot;type&quot;: &quot;Polygon&quot;}, {&quot;coordinates&quot;: [[[13.923132321768849, 50.9661334140511], [13.923434958937172, 50.9661334140511], [13.923434958937172, 50.96597642386806], [13.923132321768849, 50.96597642386806], [13.923132321768849, 50.9661334140511]]], &quot;type&quot;: &quot;Polygon&quot;}, {&quot;coordinates&quot;: [[[13.923132321768849, 50.96597642386806], [13.923434958937172, 50.96597642386806], [13.923434958937172, 50.96581943315447], [13.923132321768849, 50.96581943315447], [13.923132321768849, 50.96597642386806]]], &quot;type&quot;: &quot;Polygon&quot;}, {&quot;coordinates&quot;: [[[13.923132321768849, 50.96581943315447], [13.923434958937172, 50.96581943315447], [13.923434958937172, 50.965662441910325], [13.923132321768849, 50.965662441910325], [13.923132321768849, 50.96581943315447]]], &quot;type&quot;: &quot;Polygon&quot;}, {&quot;coordinates&quot;: [[[13.923132321768849, 50.965662441910325], [13.923434958937172, 50.965662441910325], [13.923434958937172, 50.965505450135616], [13.923132321768849, 50.965505450135616], [13.923132321768849, 50.965662441910325]]], &quot;type&quot;: &quot;Polygon&quot;}, {&quot;coordinates&quot;: [[[13.923132321768849, 50.965505450135616], [13.923434958937172, 50.965505450135616], [13.923434958937172, 50.965348457830366], [13.923132321768849, 50.965348457830366], [13.923132321768849, 50.965505450135616]]], &quot;type&quot;: &quot;Polygon&quot;}, {&quot;coordinates&quot;: [[[13.923132321768849, 50.965348457830366], [13.923434958937172, 50.965348457830366], [13.923434958937172, 50.96519146499457], [13.923132321768849, 50.96519146499457], [13.923132321768849, 50.965348457830366]]], &quot;type&quot;: &quot;Polygon&quot;}, {&quot;coordinates&quot;: [[[13.923132321768849, 50.96519146499457], [13.923434958937172, 50.96519146499457], [13.923434958937172, 50.96503447162821], [13.923132321768849, 50.96503447162821], [13.923132321768849, 50.96519146499457]]], &quot;type&quot;: &quot;Polygon&quot;}, {&quot;coordinates&quot;: [[[13.923132321768849, 50.96503447162821], [13.923434958937172, 50.96503447162821], [13.923434958937172, 50.96487747773129], [13.923132321768849, 50.96487747773129], [13.923132321768849, 50.96503447162821]]], &quot;type&quot;: &quot;Polygon&quot;}, {&quot;coordinates&quot;: [[[13.923434958937172, 50.96629040370359], [13.923737596105495, 50.96629040370359], [13.923737596105495, 50.9661334140511], [13.923434958937172, 50.9661334140511], [13.923434958937172, 50.96629040370359]]], &quot;type&quot;: &quot;Polygon&quot;}, {&quot;coordinates&quot;: [[[13.923434958937172, 50.9661334140511], [13.923737596105495, 50.9661334140511], [13.923737596105495, 50.96597642386806], [13.923434958937172, 50.96597642386806], [13.923434958937172, 50.9661334140511]]], &quot;type&quot;: &quot;Polygon&quot;}, {&quot;coordinates&quot;: [[[13.923434958937172, 50.96597642386806], [13.923737596105495, 50.96597642386806], [13.923737596105495, 50.96581943315447], [13.923434958937172, 50.96581943315447], [13.923434958937172, 50.96597642386806]]], &quot;type&quot;: &quot;Polygon&quot;}, {&quot;coordinates&quot;: [[[13.923434958937172, 50.96581943315447], [13.923737596105495, 50.96581943315447], [13.923737596105495, 50.965662441910325], [13.923434958937172, 50.965662441910325], [13.923434958937172, 50.96581943315447]]], &quot;type&quot;: &quot;Polygon&quot;}, {&quot;coordinates&quot;: [[[13.923434958937172, 50.965662441910325], [13.923737596105495, 50.965662441910325], [13.923737596105495, 50.965505450135616], [13.923434958937172, 50.965505450135616], [13.923434958937172, 50.965662441910325]]], &quot;type&quot;: &quot;Polygon&quot;}, {&quot;coordinates&quot;: [[[13.923434958937172, 50.965505450135616], [13.923737596105495, 50.965505450135616], [13.923737596105495, 50.965348457830366], [13.923434958937172, 50.965348457830366], [13.923434958937172, 50.965505450135616]]], &quot;type&quot;: &quot;Polygon&quot;}, {&quot;coordinates&quot;: [[[13.923434958937172, 50.965348457830366], [13.923737596105495, 50.965348457830366], [13.923737596105495, 50.96519146499457], [13.923434958937172, 50.96519146499457], [13.923434958937172, 50.965348457830366]]], &quot;type&quot;: &quot;Polygon&quot;}, {&quot;coordinates&quot;: [[[13.923434958937172, 50.96519146499457], [13.923737596105495, 50.96519146499457], [13.923737596105495, 50.96503447162821], [13.923434958937172, 50.96503447162821], [13.923434958937172, 50.96519146499457]]], &quot;type&quot;: &quot;Polygon&quot;}, {&quot;coordinates&quot;: [[[13.923434958937172, 50.96503447162821], [13.923737596105495, 50.96503447162821], [13.923737596105495, 50.96487747773129], [13.923434958937172, 50.96487747773129], [13.923434958937172, 50.96503447162821]]], &quot;type&quot;: &quot;Polygon&quot;}, {&quot;coordinates&quot;: [[[13.923737596105495, 50.96629040370359], [13.924040233273818, 50.96629040370359], [13.924040233273818, 50.9661334140511], [13.923737596105495, 50.9661334140511], [13.923737596105495, 50.96629040370359]]], &quot;type&quot;: &quot;Polygon&quot;}, {&quot;coordinates&quot;: [[[13.923737596105495, 50.9661334140511], [13.924040233273818, 50.9661334140511], [13.924040233273818, 50.96597642386806], [13.923737596105495, 50.96597642386806], [13.923737596105495, 50.9661334140511]]], &quot;type&quot;: &quot;Polygon&quot;}, {&quot;coordinates&quot;: [[[13.923737596105495, 50.96597642386806], [13.924040233273818, 50.96597642386806], [13.924040233273818, 50.96581943315447], [13.923737596105495, 50.96581943315447], [13.923737596105495, 50.96597642386806]]], &quot;type&quot;: &quot;Polygon&quot;}, {&quot;coordinates&quot;: [[[13.923737596105495, 50.96581943315447], [13.924040233273818, 50.96581943315447], [13.924040233273818, 50.965662441910325], [13.923737596105495, 50.965662441910325], [13.923737596105495, 50.96581943315447]]], &quot;type&quot;: &quot;Polygon&quot;}, {&quot;coordinates&quot;: [[[13.923737596105495, 50.965662441910325], [13.924040233273818, 50.965662441910325], [13.924040233273818, 50.965505450135616], [13.923737596105495, 50.965505450135616], [13.923737596105495, 50.965662441910325]]], &quot;type&quot;: &quot;Polygon&quot;}, {&quot;coordinates&quot;: [[[13.923737596105495, 50.965505450135616], [13.924040233273818, 50.965505450135616], [13.924040233273818, 50.965348457830366], [13.923737596105495, 50.965348457830366], [13.923737596105495, 50.965505450135616]]], &quot;type&quot;: &quot;Polygon&quot;}, {&quot;coordinates&quot;: [[[13.923737596105495, 50.965348457830366], [13.924040233273818, 50.965348457830366], [13.924040233273818, 50.96519146499457], [13.923737596105495, 50.96519146499457], [13.923737596105495, 50.965348457830366]]], &quot;type&quot;: &quot;Polygon&quot;}, {&quot;coordinates&quot;: [[[13.923737596105495, 50.96519146499457], [13.924040233273818, 50.96519146499457], [13.924040233273818, 50.96503447162821], [13.923737596105495, 50.96503447162821], [13.923737596105495, 50.96519146499457]]], &quot;type&quot;: &quot;Polygon&quot;}, {&quot;coordinates&quot;: [[[13.924040233273818, 50.96629040370359], [13.924342870442143, 50.96629040370359], [13.924342870442143, 50.9661334140511], [13.924040233273818, 50.9661334140511], [13.924040233273818, 50.96629040370359]]], &quot;type&quot;: &quot;Polygon&quot;}, {&quot;coordinates&quot;: [[[13.924040233273818, 50.9661334140511], [13.924342870442143, 50.9661334140511], [13.924342870442143, 50.96597642386806], [13.924040233273818, 50.96597642386806], [13.924040233273818, 50.9661334140511]]], &quot;type&quot;: &quot;Polygon&quot;}, {&quot;coordinates&quot;: [[[13.924040233273818, 50.96597642386806], [13.924342870442143, 50.96597642386806], [13.924342870442143, 50.96581943315447], [13.924040233273818, 50.96581943315447], [13.924040233273818, 50.96597642386806]]], &quot;type&quot;: &quot;Polygon&quot;}, {&quot;coordinates&quot;: [[[13.924040233273818, 50.96581943315447], [13.924342870442143, 50.96581943315447], [13.924342870442143, 50.965662441910325], [13.924040233273818, 50.965662441910325], [13.924040233273818, 50.96581943315447]]], &quot;type&quot;: &quot;Polygon&quot;}, {&quot;coordinates&quot;: [[[13.924040233273818, 50.965662441910325], [13.924342870442143, 50.965662441910325], [13.924342870442143, 50.965505450135616], [13.924040233273818, 50.965505450135616], [13.924040233273818, 50.965662441910325]]], &quot;type&quot;: &quot;Polygon&quot;}, {&quot;coordinates&quot;: [[[13.924040233273818, 50.965505450135616], [13.924342870442143, 50.965505450135616], [13.924342870442143, 50.965348457830366], [13.924040233273818, 50.965348457830366], [13.924040233273818, 50.965505450135616]]], &quot;type&quot;: &quot;Polygon&quot;}, {&quot;coordinates&quot;: [[[13.924040233273818, 50.965348457830366], [13.924342870442143, 50.965348457830366], [13.924342870442143, 50.96519146499457], [13.924040233273818, 50.96519146499457], [13.924040233273818, 50.965348457830366]]], &quot;type&quot;: &quot;Polygon&quot;}, {&quot;coordinates&quot;: [[[13.924040233273818, 50.96519146499457], [13.924342870442143, 50.96519146499457], [13.924342870442143, 50.96503447162821], [13.924040233273818, 50.96503447162821], [13.924040233273818, 50.96519146499457]]], &quot;type&quot;: &quot;Polygon&quot;}, {&quot;coordinates&quot;: [[[13.924342870442143, 50.96629040370359], [13.924645507610466, 50.96629040370359], [13.924645507610466, 50.9661334140511], [13.924342870442143, 50.9661334140511], [13.924342870442143, 50.96629040370359]]], &quot;type&quot;: &quot;Polygon&quot;}, {&quot;coordinates&quot;: [[[13.924342870442143, 50.9661334140511], [13.924645507610466, 50.9661334140511], [13.924645507610466, 50.96597642386806], [13.924342870442143, 50.96597642386806], [13.924342870442143, 50.9661334140511]]], &quot;type&quot;: &quot;Polygon&quot;}, {&quot;coordinates&quot;: [[[13.924342870442143, 50.96597642386806], [13.924645507610466, 50.96597642386806], [13.924645507610466, 50.96581943315447], [13.924342870442143, 50.96581943315447], [13.924342870442143, 50.96597642386806]]], &quot;type&quot;: &quot;Polygon&quot;}, {&quot;coordinates&quot;: [[[13.924342870442143, 50.96581943315447], [13.924645507610466, 50.96581943315447], [13.924645507610466, 50.965662441910325], [13.924342870442143, 50.965662441910325], [13.924342870442143, 50.96581943315447]]], &quot;type&quot;: &quot;Polygon&quot;}, {&quot;coordinates&quot;: [[[13.924342870442143, 50.965662441910325], [13.924645507610466, 50.965662441910325], [13.924645507610466, 50.965505450135616], [13.924342870442143, 50.965505450135616], [13.924342870442143, 50.965662441910325]]], &quot;type&quot;: &quot;Polygon&quot;}, {&quot;coordinates&quot;: [[[13.924342870442143, 50.965505450135616], [13.924645507610466, 50.965505450135616], [13.924645507610466, 50.965348457830366], [13.924342870442143, 50.965348457830366], [13.924342870442143, 50.965505450135616]]], &quot;type&quot;: &quot;Polygon&quot;}, {&quot;coordinates&quot;: [[[13.924342870442143, 50.965348457830366], [13.924645507610466, 50.965348457830366], [13.924645507610466, 50.96519146499457], [13.924342870442143, 50.96519146499457], [13.924342870442143, 50.965348457830366]]], &quot;type&quot;: &quot;Polygon&quot;}, {&quot;coordinates&quot;: [[[13.924342870442143, 50.96519146499457], [13.924645507610466, 50.96519146499457], [13.924645507610466, 50.96503447162821], [13.924342870442143, 50.96503447162821], [13.924342870442143, 50.96519146499457]]], &quot;type&quot;: &quot;Polygon&quot;}, {&quot;coordinates&quot;: [[[13.924645507610466, 50.96629040370359], [13.92494814477879, 50.96629040370359], [13.92494814477879, 50.9661334140511], [13.924645507610466, 50.9661334140511], [13.924645507610466, 50.96629040370359]]], &quot;type&quot;: &quot;Polygon&quot;}, {&quot;coordinates&quot;: [[[13.924645507610466, 50.9661334140511], [13.92494814477879, 50.9661334140511], [13.92494814477879, 50.96597642386806], [13.924645507610466, 50.96597642386806], [13.924645507610466, 50.9661334140511]]], &quot;type&quot;: &quot;Polygon&quot;}, {&quot;coordinates&quot;: [[[13.924645507610466, 50.96597642386806], [13.92494814477879, 50.96597642386806], [13.92494814477879, 50.96581943315447], [13.924645507610466, 50.96581943315447], [13.924645507610466, 50.96597642386806]]], &quot;type&quot;: &quot;Polygon&quot;}, {&quot;coordinates&quot;: [[[13.924645507610466, 50.96581943315447], [13.92494814477879, 50.96581943315447], [13.92494814477879, 50.965662441910325], [13.924645507610466, 50.965662441910325], [13.924645507610466, 50.96581943315447]]], &quot;type&quot;: &quot;Polygon&quot;}, {&quot;coordinates&quot;: [[[13.924645507610466, 50.965662441910325], [13.92494814477879, 50.965662441910325], [13.92494814477879, 50.965505450135616], [13.924645507610466, 50.965505450135616], [13.924645507610466, 50.965662441910325]]], &quot;type&quot;: &quot;Polygon&quot;}, {&quot;coordinates&quot;: [[[13.924645507610466, 50.965505450135616], [13.92494814477879, 50.965505450135616], [13.92494814477879, 50.965348457830366], [13.924645507610466, 50.965348457830366], [13.924645507610466, 50.965505450135616]]], &quot;type&quot;: &quot;Polygon&quot;}, {&quot;coordinates&quot;: [[[13.924645507610466, 50.965348457830366], [13.92494814477879, 50.965348457830366], [13.92494814477879, 50.96519146499457], [13.924645507610466, 50.96519146499457], [13.924645507610466, 50.965348457830366]]], &quot;type&quot;: &quot;Polygon&quot;}, {&quot;coordinates&quot;: [[[13.92494814477879, 50.96597642386806], [13.925250781947113, 50.96597642386806], [13.925250781947113, 50.96581943315447], [13.92494814477879, 50.96581943315447], [13.92494814477879, 50.96597642386806]]], &quot;type&quot;: &quot;Polygon&quot;}, {&quot;coordinates&quot;: [[[13.92494814477879, 50.96581943315447], [13.925250781947113, 50.96581943315447], [13.925250781947113, 50.965662441910325], [13.92494814477879, 50.965662441910325], [13.92494814477879, 50.96581943315447]]], &quot;type&quot;: &quot;Polygon&quot;}, {&quot;coordinates&quot;: [[[13.92494814477879, 50.965662441910325], [13.925250781947113, 50.965662441910325], [13.925250781947113, 50.965505450135616], [13.92494814477879, 50.965505450135616], [13.92494814477879, 50.965662441910325]]], &quot;type&quot;: &quot;Polygon&quot;}, {&quot;coordinates&quot;: [[[13.92494814477879, 50.965505450135616], [13.925250781947113, 50.965505450135616], [13.925250781947113, 50.965348457830366], [13.92494814477879, 50.965348457830366], [13.92494814477879, 50.965505450135616]]], &quot;type&quot;: &quot;Polygon&quot;}, {&quot;coordinates&quot;: [[[13.92494814477879, 50.965348457830366], [13.925250781947113, 50.965348457830366], [13.925250781947113, 50.96519146499457], [13.92494814477879, 50.96519146499457], [13.92494814477879, 50.965348457830366]]], &quot;type&quot;: &quot;Polygon&quot;}], &quot;type&quot;: &quot;GeometryCollection&quot;});\n\n        \n    \n            geo_json_339b1ff66dc15ceb3abb271203743765.addTo(map_84adce72d4a457d2fe36ed0e9c9f01f0);\n        \n    \n\n        function geo_json_f26f6c86fc45b224ddf25101c8fbde01_onEachFeature(feature, layer) {\n            layer.on({\n            });\n        };\n        var geo_json_f26f6c86fc45b224ddf25101c8fbde01 = L.geoJson(null, {\n                onEachFeature: geo_json_f26f6c86fc45b224ddf25101c8fbde01_onEachFeature,\n            \n        });\n\n        function geo_json_f26f6c86fc45b224ddf25101c8fbde01_add (data) {\n            geo_json_f26f6c86fc45b224ddf25101c8fbde01\n                .addData(data);\n        }\n            geo_json_f26f6c86fc45b224ddf25101c8fbde01_add({&quot;coordinates&quot;: [13.92365660180499, 50.96560971996417], &quot;type&quot;: &quot;Point&quot;});\n\n        \n    \n            geo_json_f26f6c86fc45b224ddf25101c8fbde01.addTo(map_84adce72d4a457d2fe36ed0e9c9f01f0);\n        \n    \n            map_84adce72d4a457d2fe36ed0e9c9f01f0.fitBounds(\n                [[50.964720483303836, 13.922224410263878], [50.96629040370362, 13.925250781947113]],\n                {}\n            );\n        \n&lt;/script&gt;\n&lt;/html&gt;\" style=\"position:absolute;width:100%;height:100%;left:0;top:0;border:none !important;\" allowfullscreen webkitallowfullscreen mozallowfullscreen></iframe></div></div>"
     },
     "execution_count": 6,
     "metadata": {},
     "output_type": "execute_result"
    }
   ],
   "source": [
    "from morpheus.modflow.types.boundaries.Boundary import BoundaryName, RechargeBoundary\n",
    "from morpheus.modflow.types.boundaries.RechargeObservation import RechargeRawDataItem, RechargeRate\n",
    "\n",
    "layers_list = [modflow_model.soil_model.layers[0].id]\n",
    "recharge_boundary = RechargeBoundary.from_geometry(\n",
    "  name=BoundaryName('recharge_boundary'),\n",
    "  geometry=Polygon([[\n",
    "    (13.922514437551428, 50.964720483303836),\n",
    "    (13.925250781947113, 50.965228748412386),\n",
    "    (13.925036413951403, 50.96623732041704),\n",
    "    (13.92222441026388, 50.96629040370362),\n",
    "    (13.922514437551428, 50.964720483303836)\n",
    "  ]]),\n",
    "  grid=grid,\n",
    "  affected_layers=[layers_list[0]],\n",
    "  raw_data=[\n",
    "    RechargeRawDataItem(\n",
    "      date_time=StartDateTime.from_datetime(datetime(2019, 1, 1)),\n",
    "      recharge_rate=RechargeRate.from_float(0.01),\n",
    "    ),\n",
    "    RechargeRawDataItem(\n",
    "      date_time=StartDateTime.from_datetime(datetime(2021, 12, 31)),\n",
    "      recharge_rate=RechargeRate.from_float(0.02),\n",
    "    ),\n",
    "  ],\n",
    ")\n",
    "\n",
    "recharge_boundary.affected_cells = recharge_boundary.affected_cells.filter(\n",
    "  lambda cell: spatial_discretization.affected_cells.contains(cell))\n",
    "\n",
    "m.add_child(folium.GeoJson(recharge_boundary.as_geojson()))\n",
    "m.add_child(folium.GeoJson(recharge_boundary.affected_cells.as_geojson(grid).as_geojson()))\n",
    "for recharge_boundary.observation in recharge_boundary.observations:\n",
    "  m.add_child(folium.GeoJson(recharge_boundary.observation.as_geojson()))\n",
    "m.fit_bounds(m.get_bounds())\n",
    "m"
   ],
   "metadata": {
    "collapsed": false,
    "ExecuteTime": {
     "end_time": "2023-12-19T11:28:25.445184Z",
     "start_time": "2023-12-19T11:28:25.416666Z"
    }
   },
   "id": "53679913aee28ce9"
  },
  {
   "cell_type": "markdown",
   "source": [
    "## Calculate constant head stress periods"
   ],
   "metadata": {
    "collapsed": false
   },
   "id": "b33c8f87aa3516fc"
  },
  {
   "cell_type": "code",
   "execution_count": 7,
   "outputs": [
    {
     "data": {
      "text/plain": "{0: [[0.016529680365296805,\n   0.016529680365296805,\n   0.016529680365296805,\n   0.016529680365296805,\n   0.016529680365296805,\n   0.016529680365296805,\n   0.016529680365296805,\n   0.016529680365296805,\n   0.016529680365296805,\n   0.0],\n  [0.016529680365296805,\n   0.016529680365296805,\n   0.016529680365296805,\n   0.016529680365296805,\n   0.016529680365296805,\n   0.016529680365296805,\n   0.016529680365296805,\n   0.016529680365296805,\n   0.016529680365296805,\n   0.0],\n  [0.016529680365296805,\n   0.016529680365296805,\n   0.016529680365296805,\n   0.016529680365296805,\n   0.016529680365296805,\n   0.016529680365296805,\n   0.016529680365296805,\n   0.016529680365296805,\n   0.016529680365296805,\n   0.016529680365296805],\n  [0.016529680365296805,\n   0.016529680365296805,\n   0.016529680365296805,\n   0.016529680365296805,\n   0.016529680365296805,\n   0.016529680365296805,\n   0.016529680365296805,\n   0.016529680365296805,\n   0.016529680365296805,\n   0.016529680365296805],\n  [0.016529680365296805,\n   0.016529680365296805,\n   0.016529680365296805,\n   0.016529680365296805,\n   0.016529680365296805,\n   0.016529680365296805,\n   0.016529680365296805,\n   0.016529680365296805,\n   0.016529680365296805,\n   0.016529680365296805],\n  [0.0,\n   0.016529680365296805,\n   0.016529680365296805,\n   0.016529680365296805,\n   0.016529680365296805,\n   0.016529680365296805,\n   0.016529680365296805,\n   0.016529680365296805,\n   0.016529680365296805,\n   0.016529680365296805],\n  [0.0,\n   0.016529680365296805,\n   0.016529680365296805,\n   0.016529680365296805,\n   0.016529680365296805,\n   0.016529680365296805,\n   0.016529680365296805,\n   0.016529680365296805,\n   0.016529680365296805,\n   0.016529680365296805],\n  [0.0,\n   0.016529680365296805,\n   0.016529680365296805,\n   0.016529680365296805,\n   0.016529680365296805,\n   0.016529680365296805,\n   0.016529680365296805,\n   0.016529680365296805,\n   0.0,\n   0.0],\n  [0.0,\n   0.016529680365296805,\n   0.016529680365296805,\n   0.016529680365296805,\n   0.016529680365296805,\n   0.0,\n   0.0,\n   0.0,\n   0.0,\n   0.0],\n  [0.0, 0.016529680365296805, 0.0, 0.0, 0.0, 0.0, 0.0, 0.0, 0.0, 0.0]],\n 1: [[0.016529680365296805,\n   0.016529680365296805,\n   0.016529680365296805,\n   0.016529680365296805,\n   0.016529680365296805,\n   0.016529680365296805,\n   0.016529680365296805,\n   0.016529680365296805,\n   0.016529680365296805,\n   0.0],\n  [0.016529680365296805,\n   0.016529680365296805,\n   0.016529680365296805,\n   0.016529680365296805,\n   0.016529680365296805,\n   0.016529680365296805,\n   0.016529680365296805,\n   0.016529680365296805,\n   0.016529680365296805,\n   0.0],\n  [0.016529680365296805,\n   0.016529680365296805,\n   0.016529680365296805,\n   0.016529680365296805,\n   0.016529680365296805,\n   0.016529680365296805,\n   0.016529680365296805,\n   0.016529680365296805,\n   0.016529680365296805,\n   0.016529680365296805],\n  [0.016529680365296805,\n   0.016529680365296805,\n   0.016529680365296805,\n   0.016529680365296805,\n   0.016529680365296805,\n   0.016529680365296805,\n   0.016529680365296805,\n   0.016529680365296805,\n   0.016529680365296805,\n   0.016529680365296805],\n  [0.016529680365296805,\n   0.016529680365296805,\n   0.016529680365296805,\n   0.016529680365296805,\n   0.016529680365296805,\n   0.016529680365296805,\n   0.016529680365296805,\n   0.016529680365296805,\n   0.016529680365296805,\n   0.016529680365296805],\n  [0.0,\n   0.016529680365296805,\n   0.016529680365296805,\n   0.016529680365296805,\n   0.016529680365296805,\n   0.016529680365296805,\n   0.016529680365296805,\n   0.016529680365296805,\n   0.016529680365296805,\n   0.016529680365296805],\n  [0.0,\n   0.016529680365296805,\n   0.016529680365296805,\n   0.016529680365296805,\n   0.016529680365296805,\n   0.016529680365296805,\n   0.016529680365296805,\n   0.016529680365296805,\n   0.016529680365296805,\n   0.016529680365296805],\n  [0.0,\n   0.016529680365296805,\n   0.016529680365296805,\n   0.016529680365296805,\n   0.016529680365296805,\n   0.016529680365296805,\n   0.016529680365296805,\n   0.016529680365296805,\n   0.0,\n   0.0],\n  [0.0,\n   0.016529680365296805,\n   0.016529680365296805,\n   0.016529680365296805,\n   0.016529680365296805,\n   0.0,\n   0.0,\n   0.0,\n   0.0,\n   0.0],\n  [0.0, 0.016529680365296805, 0.0, 0.0, 0.0, 0.0, 0.0, 0.0, 0.0, 0.0]],\n 2: [[0.016529680365296805,\n   0.016529680365296805,\n   0.016529680365296805,\n   0.016529680365296805,\n   0.016529680365296805,\n   0.016529680365296805,\n   0.016529680365296805,\n   0.016529680365296805,\n   0.016529680365296805,\n   0.0],\n  [0.016529680365296805,\n   0.016529680365296805,\n   0.016529680365296805,\n   0.016529680365296805,\n   0.016529680365296805,\n   0.016529680365296805,\n   0.016529680365296805,\n   0.016529680365296805,\n   0.016529680365296805,\n   0.0],\n  [0.016529680365296805,\n   0.016529680365296805,\n   0.016529680365296805,\n   0.016529680365296805,\n   0.016529680365296805,\n   0.016529680365296805,\n   0.016529680365296805,\n   0.016529680365296805,\n   0.016529680365296805,\n   0.016529680365296805],\n  [0.016529680365296805,\n   0.016529680365296805,\n   0.016529680365296805,\n   0.016529680365296805,\n   0.016529680365296805,\n   0.016529680365296805,\n   0.016529680365296805,\n   0.016529680365296805,\n   0.016529680365296805,\n   0.016529680365296805],\n  [0.016529680365296805,\n   0.016529680365296805,\n   0.016529680365296805,\n   0.016529680365296805,\n   0.016529680365296805,\n   0.016529680365296805,\n   0.016529680365296805,\n   0.016529680365296805,\n   0.016529680365296805,\n   0.016529680365296805],\n  [0.0,\n   0.016529680365296805,\n   0.016529680365296805,\n   0.016529680365296805,\n   0.016529680365296805,\n   0.016529680365296805,\n   0.016529680365296805,\n   0.016529680365296805,\n   0.016529680365296805,\n   0.016529680365296805],\n  [0.0,\n   0.016529680365296805,\n   0.016529680365296805,\n   0.016529680365296805,\n   0.016529680365296805,\n   0.016529680365296805,\n   0.016529680365296805,\n   0.016529680365296805,\n   0.016529680365296805,\n   0.016529680365296805],\n  [0.0,\n   0.016529680365296805,\n   0.016529680365296805,\n   0.016529680365296805,\n   0.016529680365296805,\n   0.016529680365296805,\n   0.016529680365296805,\n   0.016529680365296805,\n   0.0,\n   0.0],\n  [0.0,\n   0.016529680365296805,\n   0.016529680365296805,\n   0.016529680365296805,\n   0.016529680365296805,\n   0.0,\n   0.0,\n   0.0,\n   0.0,\n   0.0],\n  [0.0, 0.016529680365296805, 0.0, 0.0, 0.0, 0.0, 0.0, 0.0, 0.0, 0.0]],\n 3: [[0.016529680365296805,\n   0.016529680365296805,\n   0.016529680365296805,\n   0.016529680365296805,\n   0.016529680365296805,\n   0.016529680365296805,\n   0.016529680365296805,\n   0.016529680365296805,\n   0.016529680365296805,\n   0.0],\n  [0.016529680365296805,\n   0.016529680365296805,\n   0.016529680365296805,\n   0.016529680365296805,\n   0.016529680365296805,\n   0.016529680365296805,\n   0.016529680365296805,\n   0.016529680365296805,\n   0.016529680365296805,\n   0.0],\n  [0.016529680365296805,\n   0.016529680365296805,\n   0.016529680365296805,\n   0.016529680365296805,\n   0.016529680365296805,\n   0.016529680365296805,\n   0.016529680365296805,\n   0.016529680365296805,\n   0.016529680365296805,\n   0.016529680365296805],\n  [0.016529680365296805,\n   0.016529680365296805,\n   0.016529680365296805,\n   0.016529680365296805,\n   0.016529680365296805,\n   0.016529680365296805,\n   0.016529680365296805,\n   0.016529680365296805,\n   0.016529680365296805,\n   0.016529680365296805],\n  [0.016529680365296805,\n   0.016529680365296805,\n   0.016529680365296805,\n   0.016529680365296805,\n   0.016529680365296805,\n   0.016529680365296805,\n   0.016529680365296805,\n   0.016529680365296805,\n   0.016529680365296805,\n   0.016529680365296805],\n  [0.0,\n   0.016529680365296805,\n   0.016529680365296805,\n   0.016529680365296805,\n   0.016529680365296805,\n   0.016529680365296805,\n   0.016529680365296805,\n   0.016529680365296805,\n   0.016529680365296805,\n   0.016529680365296805],\n  [0.0,\n   0.016529680365296805,\n   0.016529680365296805,\n   0.016529680365296805,\n   0.016529680365296805,\n   0.016529680365296805,\n   0.016529680365296805,\n   0.016529680365296805,\n   0.016529680365296805,\n   0.016529680365296805],\n  [0.0,\n   0.016529680365296805,\n   0.016529680365296805,\n   0.016529680365296805,\n   0.016529680365296805,\n   0.016529680365296805,\n   0.016529680365296805,\n   0.016529680365296805,\n   0.0,\n   0.0],\n  [0.0,\n   0.016529680365296805,\n   0.016529680365296805,\n   0.016529680365296805,\n   0.016529680365296805,\n   0.0,\n   0.0,\n   0.0,\n   0.0,\n   0.0],\n  [0.0, 0.016529680365296805, 0.0, 0.0, 0.0, 0.0, 0.0, 0.0, 0.0, 0.0]],\n 4: [[0.016529680365296805,\n   0.016529680365296805,\n   0.016529680365296805,\n   0.016529680365296805,\n   0.016529680365296805,\n   0.016529680365296805,\n   0.016529680365296805,\n   0.016529680365296805,\n   0.016529680365296805,\n   0.0],\n  [0.016529680365296805,\n   0.016529680365296805,\n   0.016529680365296805,\n   0.016529680365296805,\n   0.016529680365296805,\n   0.016529680365296805,\n   0.016529680365296805,\n   0.016529680365296805,\n   0.016529680365296805,\n   0.0],\n  [0.016529680365296805,\n   0.016529680365296805,\n   0.016529680365296805,\n   0.016529680365296805,\n   0.016529680365296805,\n   0.016529680365296805,\n   0.016529680365296805,\n   0.016529680365296805,\n   0.016529680365296805,\n   0.016529680365296805],\n  [0.016529680365296805,\n   0.016529680365296805,\n   0.016529680365296805,\n   0.016529680365296805,\n   0.016529680365296805,\n   0.016529680365296805,\n   0.016529680365296805,\n   0.016529680365296805,\n   0.016529680365296805,\n   0.016529680365296805],\n  [0.016529680365296805,\n   0.016529680365296805,\n   0.016529680365296805,\n   0.016529680365296805,\n   0.016529680365296805,\n   0.016529680365296805,\n   0.016529680365296805,\n   0.016529680365296805,\n   0.016529680365296805,\n   0.016529680365296805],\n  [0.0,\n   0.016529680365296805,\n   0.016529680365296805,\n   0.016529680365296805,\n   0.016529680365296805,\n   0.016529680365296805,\n   0.016529680365296805,\n   0.016529680365296805,\n   0.016529680365296805,\n   0.016529680365296805],\n  [0.0,\n   0.016529680365296805,\n   0.016529680365296805,\n   0.016529680365296805,\n   0.016529680365296805,\n   0.016529680365296805,\n   0.016529680365296805,\n   0.016529680365296805,\n   0.016529680365296805,\n   0.016529680365296805],\n  [0.0,\n   0.016529680365296805,\n   0.016529680365296805,\n   0.016529680365296805,\n   0.016529680365296805,\n   0.016529680365296805,\n   0.016529680365296805,\n   0.016529680365296805,\n   0.0,\n   0.0],\n  [0.0,\n   0.016529680365296805,\n   0.016529680365296805,\n   0.016529680365296805,\n   0.016529680365296805,\n   0.0,\n   0.0,\n   0.0,\n   0.0,\n   0.0],\n  [0.0, 0.016529680365296805, 0.0, 0.0, 0.0, 0.0, 0.0, 0.0, 0.0, 0.0]],\n 5: [[0.016529680365296805,\n   0.016529680365296805,\n   0.016529680365296805,\n   0.016529680365296805,\n   0.016529680365296805,\n   0.016529680365296805,\n   0.016529680365296805,\n   0.016529680365296805,\n   0.016529680365296805,\n   0.0],\n  [0.016529680365296805,\n   0.016529680365296805,\n   0.016529680365296805,\n   0.016529680365296805,\n   0.016529680365296805,\n   0.016529680365296805,\n   0.016529680365296805,\n   0.016529680365296805,\n   0.016529680365296805,\n   0.0],\n  [0.016529680365296805,\n   0.016529680365296805,\n   0.016529680365296805,\n   0.016529680365296805,\n   0.016529680365296805,\n   0.016529680365296805,\n   0.016529680365296805,\n   0.016529680365296805,\n   0.016529680365296805,\n   0.016529680365296805],\n  [0.016529680365296805,\n   0.016529680365296805,\n   0.016529680365296805,\n   0.016529680365296805,\n   0.016529680365296805,\n   0.016529680365296805,\n   0.016529680365296805,\n   0.016529680365296805,\n   0.016529680365296805,\n   0.016529680365296805],\n  [0.016529680365296805,\n   0.016529680365296805,\n   0.016529680365296805,\n   0.016529680365296805,\n   0.016529680365296805,\n   0.016529680365296805,\n   0.016529680365296805,\n   0.016529680365296805,\n   0.016529680365296805,\n   0.016529680365296805],\n  [0.0,\n   0.016529680365296805,\n   0.016529680365296805,\n   0.016529680365296805,\n   0.016529680365296805,\n   0.016529680365296805,\n   0.016529680365296805,\n   0.016529680365296805,\n   0.016529680365296805,\n   0.016529680365296805],\n  [0.0,\n   0.016529680365296805,\n   0.016529680365296805,\n   0.016529680365296805,\n   0.016529680365296805,\n   0.016529680365296805,\n   0.016529680365296805,\n   0.016529680365296805,\n   0.016529680365296805,\n   0.016529680365296805],\n  [0.0,\n   0.016529680365296805,\n   0.016529680365296805,\n   0.016529680365296805,\n   0.016529680365296805,\n   0.016529680365296805,\n   0.016529680365296805,\n   0.016529680365296805,\n   0.0,\n   0.0],\n  [0.0,\n   0.016529680365296805,\n   0.016529680365296805,\n   0.016529680365296805,\n   0.016529680365296805,\n   0.0,\n   0.0,\n   0.0,\n   0.0,\n   0.0],\n  [0.0, 0.016529680365296805, 0.0, 0.0, 0.0, 0.0, 0.0, 0.0, 0.0, 0.0]],\n 6: [[0.016529680365296805,\n   0.016529680365296805,\n   0.016529680365296805,\n   0.016529680365296805,\n   0.016529680365296805,\n   0.016529680365296805,\n   0.016529680365296805,\n   0.016529680365296805,\n   0.016529680365296805,\n   0.0],\n  [0.016529680365296805,\n   0.016529680365296805,\n   0.016529680365296805,\n   0.016529680365296805,\n   0.016529680365296805,\n   0.016529680365296805,\n   0.016529680365296805,\n   0.016529680365296805,\n   0.016529680365296805,\n   0.0],\n  [0.016529680365296805,\n   0.016529680365296805,\n   0.016529680365296805,\n   0.016529680365296805,\n   0.016529680365296805,\n   0.016529680365296805,\n   0.016529680365296805,\n   0.016529680365296805,\n   0.016529680365296805,\n   0.016529680365296805],\n  [0.016529680365296805,\n   0.016529680365296805,\n   0.016529680365296805,\n   0.016529680365296805,\n   0.016529680365296805,\n   0.016529680365296805,\n   0.016529680365296805,\n   0.016529680365296805,\n   0.016529680365296805,\n   0.016529680365296805],\n  [0.016529680365296805,\n   0.016529680365296805,\n   0.016529680365296805,\n   0.016529680365296805,\n   0.016529680365296805,\n   0.016529680365296805,\n   0.016529680365296805,\n   0.016529680365296805,\n   0.016529680365296805,\n   0.016529680365296805],\n  [0.0,\n   0.016529680365296805,\n   0.016529680365296805,\n   0.016529680365296805,\n   0.016529680365296805,\n   0.016529680365296805,\n   0.016529680365296805,\n   0.016529680365296805,\n   0.016529680365296805,\n   0.016529680365296805],\n  [0.0,\n   0.016529680365296805,\n   0.016529680365296805,\n   0.016529680365296805,\n   0.016529680365296805,\n   0.016529680365296805,\n   0.016529680365296805,\n   0.016529680365296805,\n   0.016529680365296805,\n   0.016529680365296805],\n  [0.0,\n   0.016529680365296805,\n   0.016529680365296805,\n   0.016529680365296805,\n   0.016529680365296805,\n   0.016529680365296805,\n   0.016529680365296805,\n   0.016529680365296805,\n   0.0,\n   0.0],\n  [0.0,\n   0.016529680365296805,\n   0.016529680365296805,\n   0.016529680365296805,\n   0.016529680365296805,\n   0.0,\n   0.0,\n   0.0,\n   0.0,\n   0.0],\n  [0.0, 0.016529680365296805, 0.0, 0.0, 0.0, 0.0, 0.0, 0.0, 0.0, 0.0]],\n 7: [[0.016529680365296805,\n   0.016529680365296805,\n   0.016529680365296805,\n   0.016529680365296805,\n   0.016529680365296805,\n   0.016529680365296805,\n   0.016529680365296805,\n   0.016529680365296805,\n   0.016529680365296805,\n   0.0],\n  [0.016529680365296805,\n   0.016529680365296805,\n   0.016529680365296805,\n   0.016529680365296805,\n   0.016529680365296805,\n   0.016529680365296805,\n   0.016529680365296805,\n   0.016529680365296805,\n   0.016529680365296805,\n   0.0],\n  [0.016529680365296805,\n   0.016529680365296805,\n   0.016529680365296805,\n   0.016529680365296805,\n   0.016529680365296805,\n   0.016529680365296805,\n   0.016529680365296805,\n   0.016529680365296805,\n   0.016529680365296805,\n   0.016529680365296805],\n  [0.016529680365296805,\n   0.016529680365296805,\n   0.016529680365296805,\n   0.016529680365296805,\n   0.016529680365296805,\n   0.016529680365296805,\n   0.016529680365296805,\n   0.016529680365296805,\n   0.016529680365296805,\n   0.016529680365296805],\n  [0.016529680365296805,\n   0.016529680365296805,\n   0.016529680365296805,\n   0.016529680365296805,\n   0.016529680365296805,\n   0.016529680365296805,\n   0.016529680365296805,\n   0.016529680365296805,\n   0.016529680365296805,\n   0.016529680365296805],\n  [0.0,\n   0.016529680365296805,\n   0.016529680365296805,\n   0.016529680365296805,\n   0.016529680365296805,\n   0.016529680365296805,\n   0.016529680365296805,\n   0.016529680365296805,\n   0.016529680365296805,\n   0.016529680365296805],\n  [0.0,\n   0.016529680365296805,\n   0.016529680365296805,\n   0.016529680365296805,\n   0.016529680365296805,\n   0.016529680365296805,\n   0.016529680365296805,\n   0.016529680365296805,\n   0.016529680365296805,\n   0.016529680365296805],\n  [0.0,\n   0.016529680365296805,\n   0.016529680365296805,\n   0.016529680365296805,\n   0.016529680365296805,\n   0.016529680365296805,\n   0.016529680365296805,\n   0.016529680365296805,\n   0.0,\n   0.0],\n  [0.0,\n   0.016529680365296805,\n   0.016529680365296805,\n   0.016529680365296805,\n   0.016529680365296805,\n   0.0,\n   0.0,\n   0.0,\n   0.0,\n   0.0],\n  [0.0, 0.016529680365296805, 0.0, 0.0, 0.0, 0.0, 0.0, 0.0, 0.0, 0.0]],\n 8: [[0.016529680365296805,\n   0.016529680365296805,\n   0.016529680365296805,\n   0.016529680365296805,\n   0.016529680365296805,\n   0.016529680365296805,\n   0.016529680365296805,\n   0.016529680365296805,\n   0.016529680365296805,\n   0.0],\n  [0.016529680365296805,\n   0.016529680365296805,\n   0.016529680365296805,\n   0.016529680365296805,\n   0.016529680365296805,\n   0.016529680365296805,\n   0.016529680365296805,\n   0.016529680365296805,\n   0.016529680365296805,\n   0.0],\n  [0.016529680365296805,\n   0.016529680365296805,\n   0.016529680365296805,\n   0.016529680365296805,\n   0.016529680365296805,\n   0.016529680365296805,\n   0.016529680365296805,\n   0.016529680365296805,\n   0.016529680365296805,\n   0.016529680365296805],\n  [0.016529680365296805,\n   0.016529680365296805,\n   0.016529680365296805,\n   0.016529680365296805,\n   0.016529680365296805,\n   0.016529680365296805,\n   0.016529680365296805,\n   0.016529680365296805,\n   0.016529680365296805,\n   0.016529680365296805],\n  [0.016529680365296805,\n   0.016529680365296805,\n   0.016529680365296805,\n   0.016529680365296805,\n   0.016529680365296805,\n   0.016529680365296805,\n   0.016529680365296805,\n   0.016529680365296805,\n   0.016529680365296805,\n   0.016529680365296805],\n  [0.0,\n   0.016529680365296805,\n   0.016529680365296805,\n   0.016529680365296805,\n   0.016529680365296805,\n   0.016529680365296805,\n   0.016529680365296805,\n   0.016529680365296805,\n   0.016529680365296805,\n   0.016529680365296805],\n  [0.0,\n   0.016529680365296805,\n   0.016529680365296805,\n   0.016529680365296805,\n   0.016529680365296805,\n   0.016529680365296805,\n   0.016529680365296805,\n   0.016529680365296805,\n   0.016529680365296805,\n   0.016529680365296805],\n  [0.0,\n   0.016529680365296805,\n   0.016529680365296805,\n   0.016529680365296805,\n   0.016529680365296805,\n   0.016529680365296805,\n   0.016529680365296805,\n   0.016529680365296805,\n   0.0,\n   0.0],\n  [0.0,\n   0.016529680365296805,\n   0.016529680365296805,\n   0.016529680365296805,\n   0.016529680365296805,\n   0.0,\n   0.0,\n   0.0,\n   0.0,\n   0.0],\n  [0.0, 0.016529680365296805, 0.0, 0.0, 0.0, 0.0, 0.0, 0.0, 0.0, 0.0]],\n 9: [[0.016529680365296805,\n   0.016529680365296805,\n   0.016529680365296805,\n   0.016529680365296805,\n   0.016529680365296805,\n   0.016529680365296805,\n   0.016529680365296805,\n   0.016529680365296805,\n   0.016529680365296805,\n   0.0],\n  [0.016529680365296805,\n   0.016529680365296805,\n   0.016529680365296805,\n   0.016529680365296805,\n   0.016529680365296805,\n   0.016529680365296805,\n   0.016529680365296805,\n   0.016529680365296805,\n   0.016529680365296805,\n   0.0],\n  [0.016529680365296805,\n   0.016529680365296805,\n   0.016529680365296805,\n   0.016529680365296805,\n   0.016529680365296805,\n   0.016529680365296805,\n   0.016529680365296805,\n   0.016529680365296805,\n   0.016529680365296805,\n   0.016529680365296805],\n  [0.016529680365296805,\n   0.016529680365296805,\n   0.016529680365296805,\n   0.016529680365296805,\n   0.016529680365296805,\n   0.016529680365296805,\n   0.016529680365296805,\n   0.016529680365296805,\n   0.016529680365296805,\n   0.016529680365296805],\n  [0.016529680365296805,\n   0.016529680365296805,\n   0.016529680365296805,\n   0.016529680365296805,\n   0.016529680365296805,\n   0.016529680365296805,\n   0.016529680365296805,\n   0.016529680365296805,\n   0.016529680365296805,\n   0.016529680365296805],\n  [0.0,\n   0.016529680365296805,\n   0.016529680365296805,\n   0.016529680365296805,\n   0.016529680365296805,\n   0.016529680365296805,\n   0.016529680365296805,\n   0.016529680365296805,\n   0.016529680365296805,\n   0.016529680365296805],\n  [0.0,\n   0.016529680365296805,\n   0.016529680365296805,\n   0.016529680365296805,\n   0.016529680365296805,\n   0.016529680365296805,\n   0.016529680365296805,\n   0.016529680365296805,\n   0.016529680365296805,\n   0.016529680365296805],\n  [0.0,\n   0.016529680365296805,\n   0.016529680365296805,\n   0.016529680365296805,\n   0.016529680365296805,\n   0.016529680365296805,\n   0.016529680365296805,\n   0.016529680365296805,\n   0.0,\n   0.0],\n  [0.0,\n   0.016529680365296805,\n   0.016529680365296805,\n   0.016529680365296805,\n   0.016529680365296805,\n   0.0,\n   0.0,\n   0.0,\n   0.0,\n   0.0],\n  [0.0, 0.016529680365296805, 0.0, 0.0, 0.0, 0.0, 0.0, 0.0, 0.0, 0.0]],\n 10: [[0.016529680365296805,\n   0.016529680365296805,\n   0.016529680365296805,\n   0.016529680365296805,\n   0.016529680365296805,\n   0.016529680365296805,\n   0.016529680365296805,\n   0.016529680365296805,\n   0.016529680365296805,\n   0.0],\n  [0.016529680365296805,\n   0.016529680365296805,\n   0.016529680365296805,\n   0.016529680365296805,\n   0.016529680365296805,\n   0.016529680365296805,\n   0.016529680365296805,\n   0.016529680365296805,\n   0.016529680365296805,\n   0.0],\n  [0.016529680365296805,\n   0.016529680365296805,\n   0.016529680365296805,\n   0.016529680365296805,\n   0.016529680365296805,\n   0.016529680365296805,\n   0.016529680365296805,\n   0.016529680365296805,\n   0.016529680365296805,\n   0.016529680365296805],\n  [0.016529680365296805,\n   0.016529680365296805,\n   0.016529680365296805,\n   0.016529680365296805,\n   0.016529680365296805,\n   0.016529680365296805,\n   0.016529680365296805,\n   0.016529680365296805,\n   0.016529680365296805,\n   0.016529680365296805],\n  [0.016529680365296805,\n   0.016529680365296805,\n   0.016529680365296805,\n   0.016529680365296805,\n   0.016529680365296805,\n   0.016529680365296805,\n   0.016529680365296805,\n   0.016529680365296805,\n   0.016529680365296805,\n   0.016529680365296805],\n  [0.0,\n   0.016529680365296805,\n   0.016529680365296805,\n   0.016529680365296805,\n   0.016529680365296805,\n   0.016529680365296805,\n   0.016529680365296805,\n   0.016529680365296805,\n   0.016529680365296805,\n   0.016529680365296805],\n  [0.0,\n   0.016529680365296805,\n   0.016529680365296805,\n   0.016529680365296805,\n   0.016529680365296805,\n   0.016529680365296805,\n   0.016529680365296805,\n   0.016529680365296805,\n   0.016529680365296805,\n   0.016529680365296805],\n  [0.0,\n   0.016529680365296805,\n   0.016529680365296805,\n   0.016529680365296805,\n   0.016529680365296805,\n   0.016529680365296805,\n   0.016529680365296805,\n   0.016529680365296805,\n   0.0,\n   0.0],\n  [0.0,\n   0.016529680365296805,\n   0.016529680365296805,\n   0.016529680365296805,\n   0.016529680365296805,\n   0.0,\n   0.0,\n   0.0,\n   0.0,\n   0.0],\n  [0.0, 0.016529680365296805, 0.0, 0.0, 0.0, 0.0, 0.0, 0.0, 0.0, 0.0]],\n 11: [[0.016529680365296805,\n   0.016529680365296805,\n   0.016529680365296805,\n   0.016529680365296805,\n   0.016529680365296805,\n   0.016529680365296805,\n   0.016529680365296805,\n   0.016529680365296805,\n   0.016529680365296805,\n   0.0],\n  [0.016529680365296805,\n   0.016529680365296805,\n   0.016529680365296805,\n   0.016529680365296805,\n   0.016529680365296805,\n   0.016529680365296805,\n   0.016529680365296805,\n   0.016529680365296805,\n   0.016529680365296805,\n   0.0],\n  [0.016529680365296805,\n   0.016529680365296805,\n   0.016529680365296805,\n   0.016529680365296805,\n   0.016529680365296805,\n   0.016529680365296805,\n   0.016529680365296805,\n   0.016529680365296805,\n   0.016529680365296805,\n   0.016529680365296805],\n  [0.016529680365296805,\n   0.016529680365296805,\n   0.016529680365296805,\n   0.016529680365296805,\n   0.016529680365296805,\n   0.016529680365296805,\n   0.016529680365296805,\n   0.016529680365296805,\n   0.016529680365296805,\n   0.016529680365296805],\n  [0.016529680365296805,\n   0.016529680365296805,\n   0.016529680365296805,\n   0.016529680365296805,\n   0.016529680365296805,\n   0.016529680365296805,\n   0.016529680365296805,\n   0.016529680365296805,\n   0.016529680365296805,\n   0.016529680365296805],\n  [0.0,\n   0.016529680365296805,\n   0.016529680365296805,\n   0.016529680365296805,\n   0.016529680365296805,\n   0.016529680365296805,\n   0.016529680365296805,\n   0.016529680365296805,\n   0.016529680365296805,\n   0.016529680365296805],\n  [0.0,\n   0.016529680365296805,\n   0.016529680365296805,\n   0.016529680365296805,\n   0.016529680365296805,\n   0.016529680365296805,\n   0.016529680365296805,\n   0.016529680365296805,\n   0.016529680365296805,\n   0.016529680365296805],\n  [0.0,\n   0.016529680365296805,\n   0.016529680365296805,\n   0.016529680365296805,\n   0.016529680365296805,\n   0.016529680365296805,\n   0.016529680365296805,\n   0.016529680365296805,\n   0.0,\n   0.0],\n  [0.0,\n   0.016529680365296805,\n   0.016529680365296805,\n   0.016529680365296805,\n   0.016529680365296805,\n   0.0,\n   0.0,\n   0.0,\n   0.0,\n   0.0],\n  [0.0, 0.016529680365296805, 0.0, 0.0, 0.0, 0.0, 0.0, 0.0, 0.0, 0.0]]}"
     },
     "execution_count": 7,
     "metadata": {},
     "output_type": "execute_result"
    }
   ],
   "source": [
    "from morpheus.modflow.infrastructure.calculation.engines.modflow_2005.packages.RchPackageMapper import \\\n",
    "  calculate_rch_boundary_stress_period_data\n",
    "\n",
    "result = calculate_rch_boundary_stress_period_data(\n",
    "  spatial_discretization=spatial_discretization,\n",
    "  time_discretization=time_discretization,\n",
    "  soil_model=modflow_model.soil_model,\n",
    "  rch_boundary=recharge_boundary,\n",
    ")\n",
    "result.to_dict()"
   ],
   "metadata": {
    "collapsed": false,
    "ExecuteTime": {
     "end_time": "2023-12-19T11:28:25.859346Z",
     "start_time": "2023-12-19T11:28:25.443851Z"
    }
   },
   "id": "c02b9bf2e59abc77"
  }
 ],
 "metadata": {
  "kernelspec": {
   "display_name": "Python 3",
   "language": "python",
   "name": "python3"
  },
  "language_info": {
   "codemirror_mode": {
    "name": "ipython",
    "version": 2
   },
   "file_extension": ".py",
   "mimetype": "text/x-python",
   "name": "python",
   "nbconvert_exporter": "python",
   "pygments_lexer": "ipython2",
   "version": "2.7.6"
  }
 },
 "nbformat": 4,
 "nbformat_minor": 5
}
