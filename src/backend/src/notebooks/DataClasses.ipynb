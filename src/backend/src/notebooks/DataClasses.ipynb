{
 "cells": [
  {
   "cell_type": "code",
   "execution_count": 1,
   "id": "d124aedbafdcc040",
   "metadata": {
    "ExecuteTime": {
     "end_time": "2024-05-14T07:54:16.248354Z",
     "start_time": "2024-05-14T07:54:16.242870Z"
    },
    "collapsed": false,
    "execution": {
     "iopub.execute_input": "2024-05-15T15:40:18.057006Z",
     "iopub.status.busy": "2024-05-15T15:40:18.056748Z",
     "iopub.status.idle": "2024-05-15T15:40:18.062735Z",
     "shell.execute_reply": "2024-05-15T15:40:18.062323Z"
    },
    "papermill": {
     "duration": 0.013716,
     "end_time": "2024-05-15T15:40:18.064468",
     "exception": false,
     "start_time": "2024-05-15T15:40:18.050752",
     "status": "completed"
    },
    "tags": []
   },
   "outputs": [],
   "source": [
    "import dataclasses\n",
    "\n",
    "@dataclasses.dataclass\n",
    "class Data:\n",
    "  x: list[int] = dataclasses.field(default_factory=list)\n",
    "  y: int = 2\n",
    "  z: float | None = 1.1\n",
    "  filenames: None | str | list[str] = None\n",
    "  \n",
    "  def to_dict(self):\n",
    "    return dataclasses.asdict(self)"
   ]
  },
  {
   "cell_type": "code",
   "execution_count": 2,
   "id": "b13d6002e9090be1",
   "metadata": {
    "ExecuteTime": {
     "end_time": "2024-05-14T07:54:16.252501Z",
     "start_time": "2024-05-14T07:54:16.250027Z"
    },
    "collapsed": false,
    "execution": {
     "iopub.execute_input": "2024-05-15T15:40:18.070080Z",
     "iopub.status.busy": "2024-05-15T15:40:18.069684Z",
     "iopub.status.idle": "2024-05-15T15:40:18.072394Z",
     "shell.execute_reply": "2024-05-15T15:40:18.071922Z"
    },
    "papermill": {
     "duration": 0.006828,
     "end_time": "2024-05-15T15:40:18.073947",
     "exception": false,
     "start_time": "2024-05-15T15:40:18.067119",
     "status": "completed"
    },
    "tags": []
   },
   "outputs": [],
   "source": [
    "d = Data()"
   ]
  },
  {
   "cell_type": "code",
   "execution_count": 3,
   "id": "e84359977f532760",
   "metadata": {
    "ExecuteTime": {
     "end_time": "2024-05-14T07:54:16.257901Z",
     "start_time": "2024-05-14T07:54:16.253253Z"
    },
    "collapsed": false,
    "execution": {
     "iopub.execute_input": "2024-05-15T15:40:18.078145Z",
     "iopub.status.busy": "2024-05-15T15:40:18.077767Z",
     "iopub.status.idle": "2024-05-15T15:40:18.083139Z",
     "shell.execute_reply": "2024-05-15T15:40:18.082773Z"
    },
    "papermill": {
     "duration": 0.009018,
     "end_time": "2024-05-15T15:40:18.084516",
     "exception": false,
     "start_time": "2024-05-15T15:40:18.075498",
     "status": "completed"
    },
    "tags": []
   },
   "outputs": [
    {
     "data": {
      "text/plain": [
       "Data(x=[], y=2, z=1.1, filenames=None)"
      ]
     },
     "execution_count": 3,
     "metadata": {},
     "output_type": "execute_result"
    }
   ],
   "source": [
    "d"
   ]
  },
  {
   "cell_type": "code",
   "execution_count": 4,
   "id": "ab459643777d5be6",
   "metadata": {
    "ExecuteTime": {
     "end_time": "2024-05-14T07:54:16.262012Z",
     "start_time": "2024-05-14T07:54:16.258982Z"
    },
    "collapsed": false,
    "execution": {
     "iopub.execute_input": "2024-05-15T15:40:18.088353Z",
     "iopub.status.busy": "2024-05-15T15:40:18.088143Z",
     "iopub.status.idle": "2024-05-15T15:40:18.091194Z",
     "shell.execute_reply": "2024-05-15T15:40:18.090874Z"
    },
    "papermill": {
     "duration": 0.006124,
     "end_time": "2024-05-15T15:40:18.092226",
     "exception": false,
     "start_time": "2024-05-15T15:40:18.086102",
     "status": "completed"
    },
    "tags": []
   },
   "outputs": [
    {
     "data": {
      "text/plain": [
       "{'x': [], 'y': 2, 'z': 1.1, 'filenames': None}"
      ]
     },
     "execution_count": 4,
     "metadata": {},
     "output_type": "execute_result"
    }
   ],
   "source": [
    "d.to_dict()"
   ]
  },
  {
   "cell_type": "code",
   "execution_count": 5,
   "id": "be21dbfb2674d0b8",
   "metadata": {
    "ExecuteTime": {
     "end_time": "2024-05-14T07:54:16.265517Z",
     "start_time": "2024-05-14T07:54:16.263313Z"
    },
    "collapsed": false,
    "execution": {
     "iopub.execute_input": "2024-05-15T15:40:18.095611Z",
     "iopub.status.busy": "2024-05-15T15:40:18.095323Z",
     "iopub.status.idle": "2024-05-15T15:40:18.097687Z",
     "shell.execute_reply": "2024-05-15T15:40:18.097355Z"
    },
    "papermill": {
     "duration": 0.005423,
     "end_time": "2024-05-15T15:40:18.098874",
     "exception": false,
     "start_time": "2024-05-15T15:40:18.093451",
     "status": "completed"
    },
    "tags": []
   },
   "outputs": [
    {
     "name": "stdout",
     "output_type": "stream",
     "text": [
      "{'x': [], 'y': 2, 'z': 1.1, 'filenames': None}\n"
     ]
    }
   ],
   "source": [
    "print(d.to_dict())"
   ]
  }
 ],
 "metadata": {
  "kernelspec": {
   "display_name": "Python 3",
   "language": "python",
   "name": "python3"
  },
  "language_info": {
   "codemirror_mode": {
    "name": "ipython",
    "version": 3
   },
   "file_extension": ".py",
   "mimetype": "text/x-python",
   "name": "python",
   "nbconvert_exporter": "python",
   "pygments_lexer": "ipython3",
   "version": "3.12.2"
  },
  "papermill": {
   "default_parameters": {},
   "duration": 0.880009,
   "end_time": "2024-05-15T15:40:18.216416",
   "environment_variables": {},
   "exception": null,
   "input_path": "./notebooks/DataClasses.ipynb",
   "output_path": "./notebooks/DataClasses.ipynb",
   "parameters": {},
   "start_time": "2024-05-15T15:40:17.336407",
   "version": "2.6.0"
  }
 },
 "nbformat": 4,
 "nbformat_minor": 5
}