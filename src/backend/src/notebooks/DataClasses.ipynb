{
 "cells": [
  {
   "cell_type": "code",
   "execution_count": 1,
   "outputs": [],
   "source": [
    "import dataclasses\n",
    "\n",
    "@dataclasses.dataclass\n",
    "class Data:\n",
    "  x: list[int] = dataclasses.field(default_factory=list)\n",
    "  y: int = 2\n",
    "  z: float | None = 1.1\n",
    "  filenames: None | str | list[str] = None\n",
    "  \n",
    "  def to_dict(self):\n",
    "    return dataclasses.asdict(self)"
   ],
   "metadata": {
    "collapsed": false,
    "ExecuteTime": {
     "end_time": "2024-01-12T12:22:25.495500440Z",
     "start_time": "2024-01-12T12:22:25.490967618Z"
    }
   },
   "id": "d124aedbafdcc040"
  },
  {
   "cell_type": "code",
   "execution_count": 2,
   "outputs": [],
   "source": [
    "d = Data()"
   ],
   "metadata": {
    "collapsed": false,
    "ExecuteTime": {
     "end_time": "2024-01-12T12:22:31.698769076Z",
     "start_time": "2024-01-12T12:22:31.681107070Z"
    }
   },
   "id": "b13d6002e9090be1"
  },
  {
   "cell_type": "code",
   "execution_count": 3,
   "outputs": [
    {
     "data": {
      "text/plain": "Data(x=[], y=2, z=1.1, filenames=None)"
     },
     "execution_count": 3,
     "metadata": {},
     "output_type": "execute_result"
    }
   ],
   "source": [
    "d"
   ],
   "metadata": {
    "collapsed": false,
    "ExecuteTime": {
     "end_time": "2024-01-12T12:22:32.320300953Z",
     "start_time": "2024-01-12T12:22:32.311478211Z"
    }
   },
   "id": "e84359977f532760"
  },
  {
   "cell_type": "code",
   "execution_count": 4,
   "outputs": [
    {
     "data": {
      "text/plain": "{'x': [], 'y': 2, 'z': 1.1, 'filenames': None}"
     },
     "execution_count": 4,
     "metadata": {},
     "output_type": "execute_result"
    }
   ],
   "source": [
    "d.to_dict()"
   ],
   "metadata": {
    "collapsed": false,
    "ExecuteTime": {
     "end_time": "2024-01-12T12:22:33.030553354Z",
     "start_time": "2024-01-12T12:22:33.020466490Z"
    }
   },
   "id": "ab459643777d5be6"
  },
  {
   "cell_type": "code",
   "execution_count": 5,
   "outputs": [
    {
     "name": "stdout",
     "output_type": "stream",
     "text": [
      "{'x': [], 'y': 2, 'z': 1.1, 'filenames': None}\n"
     ]
    }
   ],
   "source": [
    "print(d.to_dict())"
   ],
   "metadata": {
    "collapsed": false,
    "ExecuteTime": {
     "end_time": "2024-01-12T12:22:33.572841053Z",
     "start_time": "2024-01-12T12:22:33.562128898Z"
    }
   },
   "id": "be21dbfb2674d0b8"
  },
  {
   "cell_type": "code",
   "outputs": [
    {
     "data": {
      "text/plain": "'Data'"
     },
     "execution_count": 9,
     "metadata": {},
     "output_type": "execute_result"
    }
   ],
   "source": [
    "Data.__name__"
   ],
   "metadata": {
    "collapsed": false,
    "ExecuteTime": {
     "end_time": "2024-01-12T12:22:57.615966173Z",
     "start_time": "2024-01-12T12:22:57.573401686Z"
    }
   },
   "id": "721cd74c25ec309c",
   "execution_count": 9
  }
 ],
 "metadata": {
  "kernelspec": {
   "display_name": "Python 3",
   "language": "python",
   "name": "python3"
  },
  "language_info": {
   "codemirror_mode": {
    "name": "ipython",
    "version": 2
   },
   "file_extension": ".py",
   "mimetype": "text/x-python",
   "name": "python",
   "nbconvert_exporter": "python",
   "pygments_lexer": "ipython2",
   "version": "2.7.6"
  }
 },
 "nbformat": 4,
 "nbformat_minor": 5
}
