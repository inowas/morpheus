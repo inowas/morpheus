{
 "cells": [
  {
   "cell_type": "code",
   "id": "d124aedbafdcc040",
   "metadata": {
    "collapsed": false,
    "execution": {
     "iopub.execute_input": "2024-06-20T19:02:48.912701Z",
     "iopub.status.busy": "2024-06-20T19:02:48.912406Z",
     "iopub.status.idle": "2024-06-20T19:02:48.918314Z",
     "shell.execute_reply": "2024-06-20T19:02:48.917811Z"
    },
    "papermill": {
     "duration": 0.011399,
     "end_time": "2024-06-20T19:02:48.920043",
     "exception": false,
     "start_time": "2024-06-20T19:02:48.908644",
     "status": "completed"
    },
    "tags": [],
    "ExecuteTime": {
     "end_time": "2024-08-15T21:25:04.145170Z",
     "start_time": "2024-08-15T21:25:04.139986Z"
    }
   },
   "source": [
    "import dataclasses\n",
    "\n",
    "@dataclasses.dataclass\n",
    "class Data:\n",
    "  x: list[int] = dataclasses.field(default_factory=list)\n",
    "  y: int = 2\n",
    "  z: float | None = 1.1\n",
    "  filenames: None | str | list[str] = None\n",
    "  \n",
    "  def to_dict(self):\n",
    "    return dataclasses.asdict(self)"
   ],
   "outputs": [],
   "execution_count": 1
  },
  {
   "cell_type": "code",
   "id": "b13d6002e9090be1",
   "metadata": {
    "collapsed": false,
    "execution": {
     "iopub.execute_input": "2024-06-20T19:02:48.924353Z",
     "iopub.status.busy": "2024-06-20T19:02:48.924142Z",
     "iopub.status.idle": "2024-06-20T19:02:48.926523Z",
     "shell.execute_reply": "2024-06-20T19:02:48.926130Z"
    },
    "papermill": {
     "duration": 0.005854,
     "end_time": "2024-06-20T19:02:48.927861",
     "exception": false,
     "start_time": "2024-06-20T19:02:48.922007",
     "status": "completed"
    },
    "tags": [],
    "ExecuteTime": {
     "end_time": "2024-08-15T21:25:04.153758Z",
     "start_time": "2024-08-15T21:25:04.151476Z"
    }
   },
   "source": [
    "d = Data()"
   ],
   "outputs": [],
   "execution_count": 2
  },
  {
   "cell_type": "code",
   "id": "e84359977f532760",
   "metadata": {
    "collapsed": false,
    "execution": {
     "iopub.execute_input": "2024-06-20T19:02:48.931250Z",
     "iopub.status.busy": "2024-06-20T19:02:48.931085Z",
     "iopub.status.idle": "2024-06-20T19:02:48.935419Z",
     "shell.execute_reply": "2024-06-20T19:02:48.935127Z"
    },
    "papermill": {
     "duration": 0.007452,
     "end_time": "2024-06-20T19:02:48.936681",
     "exception": false,
     "start_time": "2024-06-20T19:02:48.929229",
     "status": "completed"
    },
    "tags": [],
    "ExecuteTime": {
     "end_time": "2024-08-15T21:25:04.235451Z",
     "start_time": "2024-08-15T21:25:04.231736Z"
    }
   },
   "source": [
    "d"
   ],
   "outputs": [
    {
     "data": {
      "text/plain": [
       "Data(x=[], y=2, z=1.1, filenames=None)"
      ]
     },
     "execution_count": 3,
     "metadata": {},
     "output_type": "execute_result"
    }
   ],
   "execution_count": 3
  },
  {
   "cell_type": "code",
   "id": "ab459643777d5be6",
   "metadata": {
    "collapsed": false,
    "execution": {
     "iopub.execute_input": "2024-06-20T19:02:48.940107Z",
     "iopub.status.busy": "2024-06-20T19:02:48.939858Z",
     "iopub.status.idle": "2024-06-20T19:02:48.942510Z",
     "shell.execute_reply": "2024-06-20T19:02:48.942231Z"
    },
    "papermill": {
     "duration": 0.005477,
     "end_time": "2024-06-20T19:02:48.943604",
     "exception": false,
     "start_time": "2024-06-20T19:02:48.938127",
     "status": "completed"
    },
    "tags": [],
    "ExecuteTime": {
     "end_time": "2024-08-15T21:25:04.298097Z",
     "start_time": "2024-08-15T21:25:04.295299Z"
    }
   },
   "source": [
    "d.to_dict()"
   ],
   "outputs": [
    {
     "data": {
      "text/plain": [
       "{'x': [], 'y': 2, 'z': 1.1, 'filenames': None}"
      ]
     },
     "execution_count": 4,
     "metadata": {},
     "output_type": "execute_result"
    }
   ],
   "execution_count": 4
  },
  {
   "cell_type": "code",
   "id": "be21dbfb2674d0b8",
   "metadata": {
    "collapsed": false,
    "execution": {
     "iopub.execute_input": "2024-06-20T19:02:48.946760Z",
     "iopub.status.busy": "2024-06-20T19:02:48.946500Z",
     "iopub.status.idle": "2024-06-20T19:02:48.948717Z",
     "shell.execute_reply": "2024-06-20T19:02:48.948386Z"
    },
    "papermill": {
     "duration": 0.004781,
     "end_time": "2024-06-20T19:02:48.949631",
     "exception": false,
     "start_time": "2024-06-20T19:02:48.944850",
     "status": "completed"
    },
    "tags": [],
    "ExecuteTime": {
     "end_time": "2024-08-15T21:25:04.370535Z",
     "start_time": "2024-08-15T21:25:04.368482Z"
    }
   },
   "source": [
    "print(d.to_dict())"
   ],
   "outputs": [
    {
     "name": "stdout",
     "output_type": "stream",
     "text": [
      "{'x': [], 'y': 2, 'z': 1.1, 'filenames': None}\n"
     ]
    }
   ],
   "execution_count": 5
  }
 ],
 "metadata": {
  "kernelspec": {
   "display_name": "Python 3",
   "language": "python",
   "name": "python3"
  },
  "language_info": {
   "codemirror_mode": {
    "name": "ipython",
    "version": 3
   },
   "file_extension": ".py",
   "mimetype": "text/x-python",
   "name": "python",
   "nbconvert_exporter": "python",
   "pygments_lexer": "ipython3",
   "version": "3.12.2"
  },
  "papermill": {
   "default_parameters": {},
   "duration": 0.895079,
   "end_time": "2024-06-20T19:02:49.065950",
   "environment_variables": {},
   "exception": null,
   "input_path": "./notebooks/DataClasses.ipynb",
   "output_path": "./notebooks/DataClasses.ipynb",
   "parameters": {},
   "start_time": "2024-06-20T19:02:48.170871",
   "version": "2.6.0"
  }
 },
 "nbformat": 4,
 "nbformat_minor": 5
}
