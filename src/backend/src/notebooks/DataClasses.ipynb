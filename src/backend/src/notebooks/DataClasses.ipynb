{
 "cells": [
  {
   "cell_type": "code",
   "execution_count": 1,
   "id": "d124aedbafdcc040",
   "metadata": {
    "ExecuteTime": {
     "end_time": "2024-08-15T21:25:04.145170Z",
     "start_time": "2024-08-15T21:25:04.139986Z"
    },
    "collapsed": false,
    "execution": {
     "iopub.execute_input": "2024-08-21T20:30:02.642611Z",
     "iopub.status.busy": "2024-08-21T20:30:02.642097Z",
     "iopub.status.idle": "2024-08-21T20:30:02.650787Z",
     "shell.execute_reply": "2024-08-21T20:30:02.650034Z"
    },
    "papermill": {
     "duration": 0.016565,
     "end_time": "2024-08-21T20:30:02.652787",
     "exception": false,
     "start_time": "2024-08-21T20:30:02.636222",
     "status": "completed"
    },
    "tags": []
   },
   "outputs": [],
   "source": [
    "import dataclasses\n",
    "\n",
    "@dataclasses.dataclass\n",
    "class Data:\n",
    "  x: list[int] = dataclasses.field(default_factory=list)\n",
    "  y: int = 2\n",
    "  z: float | None = 1.1\n",
    "  filenames: None | str | list[str] = None\n",
    "  \n",
    "  def to_dict(self):\n",
    "    return dataclasses.asdict(self)"
   ]
  },
  {
   "cell_type": "code",
   "execution_count": 2,
   "id": "b13d6002e9090be1",
   "metadata": {
    "ExecuteTime": {
     "end_time": "2024-08-15T21:25:04.153758Z",
     "start_time": "2024-08-15T21:25:04.151476Z"
    },
    "collapsed": false,
    "execution": {
     "iopub.execute_input": "2024-08-21T20:30:02.659298Z",
     "iopub.status.busy": "2024-08-21T20:30:02.659126Z",
     "iopub.status.idle": "2024-08-21T20:30:02.661127Z",
     "shell.execute_reply": "2024-08-21T20:30:02.660793Z"
    },
    "papermill": {
     "duration": 0.006115,
     "end_time": "2024-08-21T20:30:02.662066",
     "exception": false,
     "start_time": "2024-08-21T20:30:02.655951",
     "status": "completed"
    },
    "tags": []
   },
   "outputs": [],
   "source": [
    "d = Data()"
   ]
  },
  {
   "cell_type": "code",
   "execution_count": 3,
   "id": "e84359977f532760",
   "metadata": {
    "ExecuteTime": {
     "end_time": "2024-08-15T21:25:04.235451Z",
     "start_time": "2024-08-15T21:25:04.231736Z"
    },
    "collapsed": false,
    "execution": {
     "iopub.execute_input": "2024-08-21T20:30:02.664510Z",
     "iopub.status.busy": "2024-08-21T20:30:02.664370Z",
     "iopub.status.idle": "2024-08-21T20:30:02.667993Z",
     "shell.execute_reply": "2024-08-21T20:30:02.667696Z"
    },
    "papermill": {
     "duration": 0.005893,
     "end_time": "2024-08-21T20:30:02.668993",
     "exception": false,
     "start_time": "2024-08-21T20:30:02.663100",
     "status": "completed"
    },
    "tags": []
   },
   "outputs": [
    {
     "data": {
      "text/plain": [
       "Data(x=[], y=2, z=1.1, filenames=None)"
      ]
     },
     "execution_count": 3,
     "metadata": {},
     "output_type": "execute_result"
    }
   ],
   "source": [
    "d"
   ]
  },
  {
   "cell_type": "code",
   "execution_count": 4,
   "id": "ab459643777d5be6",
   "metadata": {
    "ExecuteTime": {
     "end_time": "2024-08-15T21:25:04.298097Z",
     "start_time": "2024-08-15T21:25:04.295299Z"
    },
    "collapsed": false,
    "execution": {
     "iopub.execute_input": "2024-08-21T20:30:02.671570Z",
     "iopub.status.busy": "2024-08-21T20:30:02.671432Z",
     "iopub.status.idle": "2024-08-21T20:30:02.673674Z",
     "shell.execute_reply": "2024-08-21T20:30:02.673429Z"
    },
    "papermill": {
     "duration": 0.004498,
     "end_time": "2024-08-21T20:30:02.674580",
     "exception": false,
     "start_time": "2024-08-21T20:30:02.670082",
     "status": "completed"
    },
    "tags": []
   },
   "outputs": [
    {
     "data": {
      "text/plain": [
       "{'x': [], 'y': 2, 'z': 1.1, 'filenames': None}"
      ]
     },
     "execution_count": 4,
     "metadata": {},
     "output_type": "execute_result"
    }
   ],
   "source": [
    "d.to_dict()"
   ]
  },
  {
   "cell_type": "code",
   "execution_count": 5,
   "id": "be21dbfb2674d0b8",
   "metadata": {
    "ExecuteTime": {
     "end_time": "2024-08-15T21:25:04.370535Z",
     "start_time": "2024-08-15T21:25:04.368482Z"
    },
    "collapsed": false,
    "execution": {
     "iopub.execute_input": "2024-08-21T20:30:02.677351Z",
     "iopub.status.busy": "2024-08-21T20:30:02.677154Z",
     "iopub.status.idle": "2024-08-21T20:30:02.679610Z",
     "shell.execute_reply": "2024-08-21T20:30:02.679323Z"
    },
    "papermill": {
     "duration": 0.004959,
     "end_time": "2024-08-21T20:30:02.680594",
     "exception": false,
     "start_time": "2024-08-21T20:30:02.675635",
     "status": "completed"
    },
    "tags": []
   },
   "outputs": [
    {
     "name": "stdout",
     "output_type": "stream",
     "text": [
      "{'x': [], 'y': 2, 'z': 1.1, 'filenames': None}\n"
     ]
    }
   ],
   "source": [
    "print(d.to_dict())"
   ]
  }
 ],
 "metadata": {
  "kernelspec": {
   "display_name": "Python 3",
   "language": "python",
   "name": "python3"
  },
  "language_info": {
   "codemirror_mode": {
    "name": "ipython",
    "version": 3
   },
   "file_extension": ".py",
   "mimetype": "text/x-python",
   "name": "python",
   "nbconvert_exporter": "python",
   "pygments_lexer": "ipython3",
   "version": "3.12.2"
  },
  "papermill": {
   "default_parameters": {},
   "duration": 0.675098,
   "end_time": "2024-08-21T20:30:02.797562",
   "environment_variables": {},
   "exception": null,
   "input_path": "./notebooks/DataClasses.ipynb",
   "output_path": "./notebooks/DataClasses.ipynb",
   "parameters": {},
   "start_time": "2024-08-21T20:30:02.122464",
   "version": "2.6.0"
  }
 },
 "nbformat": 4,
 "nbformat_minor": 5
}