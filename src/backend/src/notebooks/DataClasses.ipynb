{
 "cells": [
  {
   "cell_type": "code",
   "execution_count": 1,
   "id": "d124aedbafdcc040",
   "metadata": {
    "ExecuteTime": {
     "end_time": "2024-05-14T07:54:16.248354Z",
     "start_time": "2024-05-14T07:54:16.242870Z"
    },
    "collapsed": false,
    "execution": {
     "iopub.execute_input": "2024-06-18T10:13:05.811801Z",
     "iopub.status.busy": "2024-06-18T10:13:05.811207Z",
     "iopub.status.idle": "2024-06-18T10:13:05.822956Z",
     "shell.execute_reply": "2024-06-18T10:13:05.821914Z"
    },
    "papermill": {
     "duration": 0.020421,
     "end_time": "2024-06-18T10:13:05.825444",
     "exception": false,
     "start_time": "2024-06-18T10:13:05.805023",
     "status": "completed"
    },
    "tags": []
   },
   "outputs": [],
   "source": [
    "import dataclasses\n",
    "\n",
    "@dataclasses.dataclass\n",
    "class Data:\n",
    "  x: list[int] = dataclasses.field(default_factory=list)\n",
    "  y: int = 2\n",
    "  z: float | None = 1.1\n",
    "  filenames: None | str | list[str] = None\n",
    "  \n",
    "  def to_dict(self):\n",
    "    return dataclasses.asdict(self)"
   ]
  },
  {
   "cell_type": "code",
   "execution_count": 2,
   "id": "b13d6002e9090be1",
   "metadata": {
    "ExecuteTime": {
     "end_time": "2024-05-14T07:54:16.252501Z",
     "start_time": "2024-05-14T07:54:16.250027Z"
    },
    "collapsed": false,
    "execution": {
     "iopub.execute_input": "2024-06-18T10:13:05.831883Z",
     "iopub.status.busy": "2024-06-18T10:13:05.831569Z",
     "iopub.status.idle": "2024-06-18T10:13:05.834630Z",
     "shell.execute_reply": "2024-06-18T10:13:05.834164Z"
    },
    "papermill": {
     "duration": 0.007398,
     "end_time": "2024-06-18T10:13:05.835660",
     "exception": false,
     "start_time": "2024-06-18T10:13:05.828262",
     "status": "completed"
    },
    "tags": []
   },
   "outputs": [],
   "source": [
    "d = Data()"
   ]
  },
  {
   "cell_type": "code",
   "execution_count": 3,
   "id": "e84359977f532760",
   "metadata": {
    "ExecuteTime": {
     "end_time": "2024-05-14T07:54:16.257901Z",
     "start_time": "2024-05-14T07:54:16.253253Z"
    },
    "collapsed": false,
    "execution": {
     "iopub.execute_input": "2024-06-18T10:13:05.838307Z",
     "iopub.status.busy": "2024-06-18T10:13:05.838027Z",
     "iopub.status.idle": "2024-06-18T10:13:05.841329Z",
     "shell.execute_reply": "2024-06-18T10:13:05.841056Z"
    },
    "papermill": {
     "duration": 0.00574,
     "end_time": "2024-06-18T10:13:05.842275",
     "exception": false,
     "start_time": "2024-06-18T10:13:05.836535",
     "status": "completed"
    },
    "tags": []
   },
   "outputs": [
    {
     "data": {
      "text/plain": [
       "Data(x=[], y=2, z=1.1, filenames=None)"
      ]
     },
     "execution_count": 3,
     "metadata": {},
     "output_type": "execute_result"
    }
   ],
   "source": [
    "d"
   ]
  },
  {
   "cell_type": "code",
   "execution_count": 4,
   "id": "ab459643777d5be6",
   "metadata": {
    "ExecuteTime": {
     "end_time": "2024-05-14T07:54:16.262012Z",
     "start_time": "2024-05-14T07:54:16.258982Z"
    },
    "collapsed": false,
    "execution": {
     "iopub.execute_input": "2024-06-18T10:13:05.844745Z",
     "iopub.status.busy": "2024-06-18T10:13:05.844614Z",
     "iopub.status.idle": "2024-06-18T10:13:05.846803Z",
     "shell.execute_reply": "2024-06-18T10:13:05.846581Z"
    },
    "papermill": {
     "duration": 0.004335,
     "end_time": "2024-06-18T10:13:05.847624",
     "exception": false,
     "start_time": "2024-06-18T10:13:05.843289",
     "status": "completed"
    },
    "tags": []
   },
   "outputs": [
    {
     "data": {
      "text/plain": [
       "{'x': [], 'y': 2, 'z': 1.1, 'filenames': None}"
      ]
     },
     "execution_count": 4,
     "metadata": {},
     "output_type": "execute_result"
    }
   ],
   "source": [
    "d.to_dict()"
   ]
  },
  {
   "cell_type": "code",
   "execution_count": 5,
   "id": "be21dbfb2674d0b8",
   "metadata": {
    "ExecuteTime": {
     "end_time": "2024-05-14T07:54:16.265517Z",
     "start_time": "2024-05-14T07:54:16.263313Z"
    },
    "collapsed": false,
    "execution": {
     "iopub.execute_input": "2024-06-18T10:13:05.850354Z",
     "iopub.status.busy": "2024-06-18T10:13:05.850109Z",
     "iopub.status.idle": "2024-06-18T10:13:05.852254Z",
     "shell.execute_reply": "2024-06-18T10:13:05.851906Z"
    },
    "papermill": {
     "duration": 0.004609,
     "end_time": "2024-06-18T10:13:05.853156",
     "exception": false,
     "start_time": "2024-06-18T10:13:05.848547",
     "status": "completed"
    },
    "tags": []
   },
   "outputs": [
    {
     "name": "stdout",
     "output_type": "stream",
     "text": [
      "{'x': [], 'y': 2, 'z': 1.1, 'filenames': None}\n"
     ]
    }
   ],
   "source": [
    "print(d.to_dict())"
   ]
  }
 ],
 "metadata": {
  "kernelspec": {
   "display_name": "Python 3",
   "language": "python",
   "name": "python3"
  },
  "language_info": {
   "codemirror_mode": {
    "name": "ipython",
    "version": 3
   },
   "file_extension": ".py",
   "mimetype": "text/x-python",
   "name": "python",
   "nbconvert_exporter": "python",
   "pygments_lexer": "ipython3",
   "version": "3.12.2"
  },
  "papermill": {
   "default_parameters": {},
   "duration": 0.723522,
   "end_time": "2024-06-18T10:13:05.970922",
   "environment_variables": {},
   "exception": null,
   "input_path": "./notebooks/DataClasses.ipynb",
   "output_path": "./notebooks/DataClasses.ipynb",
   "parameters": {},
   "start_time": "2024-06-18T10:13:05.247400",
   "version": "2.6.0"
  }
 },
 "nbformat": 4,
 "nbformat_minor": 5
}