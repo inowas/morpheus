{
 "cells": [
  {
   "cell_type": "code",
   "execution_count": 1,
   "id": "d124aedbafdcc040",
   "metadata": {
    "ExecuteTime": {
     "end_time": "2024-08-15T21:25:04.145170Z",
     "start_time": "2024-08-15T21:25:04.139986Z"
    },
    "collapsed": false,
    "execution": {
     "iopub.execute_input": "2024-08-19T20:26:57.650087Z",
     "iopub.status.busy": "2024-08-19T20:26:57.649206Z",
     "iopub.status.idle": "2024-08-19T20:26:57.657545Z",
     "shell.execute_reply": "2024-08-19T20:26:57.656922Z"
    },
    "papermill": {
     "duration": 0.017422,
     "end_time": "2024-08-19T20:26:57.659621",
     "exception": false,
     "start_time": "2024-08-19T20:26:57.642199",
     "status": "completed"
    },
    "tags": []
   },
   "outputs": [],
   "source": [
    "import dataclasses\n",
    "\n",
    "@dataclasses.dataclass\n",
    "class Data:\n",
    "  x: list[int] = dataclasses.field(default_factory=list)\n",
    "  y: int = 2\n",
    "  z: float | None = 1.1\n",
    "  filenames: None | str | list[str] = None\n",
    "  \n",
    "  def to_dict(self):\n",
    "    return dataclasses.asdict(self)"
   ]
  },
  {
   "cell_type": "code",
   "execution_count": 2,
   "id": "b13d6002e9090be1",
   "metadata": {
    "ExecuteTime": {
     "end_time": "2024-08-15T21:25:04.153758Z",
     "start_time": "2024-08-15T21:25:04.151476Z"
    },
    "collapsed": false,
    "execution": {
     "iopub.execute_input": "2024-08-19T20:26:57.665817Z",
     "iopub.status.busy": "2024-08-19T20:26:57.665396Z",
     "iopub.status.idle": "2024-08-19T20:26:57.668377Z",
     "shell.execute_reply": "2024-08-19T20:26:57.667879Z"
    },
    "papermill": {
     "duration": 0.007485,
     "end_time": "2024-08-19T20:26:57.669857",
     "exception": false,
     "start_time": "2024-08-19T20:26:57.662372",
     "status": "completed"
    },
    "tags": []
   },
   "outputs": [],
   "source": [
    "d = Data()"
   ]
  },
  {
   "cell_type": "code",
   "execution_count": 3,
   "id": "e84359977f532760",
   "metadata": {
    "ExecuteTime": {
     "end_time": "2024-08-15T21:25:04.235451Z",
     "start_time": "2024-08-15T21:25:04.231736Z"
    },
    "collapsed": false,
    "execution": {
     "iopub.execute_input": "2024-08-19T20:26:57.674621Z",
     "iopub.status.busy": "2024-08-19T20:26:57.674219Z",
     "iopub.status.idle": "2024-08-19T20:26:57.679724Z",
     "shell.execute_reply": "2024-08-19T20:26:57.679288Z"
    },
    "papermill": {
     "duration": 0.009573,
     "end_time": "2024-08-19T20:26:57.681323",
     "exception": false,
     "start_time": "2024-08-19T20:26:57.671750",
     "status": "completed"
    },
    "tags": []
   },
   "outputs": [
    {
     "data": {
      "text/plain": [
       "Data(x=[], y=2, z=1.1, filenames=None)"
      ]
     },
     "execution_count": 3,
     "metadata": {},
     "output_type": "execute_result"
    }
   ],
   "source": [
    "d"
   ]
  },
  {
   "cell_type": "code",
   "execution_count": 4,
   "id": "ab459643777d5be6",
   "metadata": {
    "ExecuteTime": {
     "end_time": "2024-08-15T21:25:04.298097Z",
     "start_time": "2024-08-15T21:25:04.295299Z"
    },
    "collapsed": false,
    "execution": {
     "iopub.execute_input": "2024-08-19T20:26:57.685699Z",
     "iopub.status.busy": "2024-08-19T20:26:57.685360Z",
     "iopub.status.idle": "2024-08-19T20:26:57.688376Z",
     "shell.execute_reply": "2024-08-19T20:26:57.688040Z"
    },
    "papermill": {
     "duration": 0.006474,
     "end_time": "2024-08-19T20:26:57.689584",
     "exception": false,
     "start_time": "2024-08-19T20:26:57.683110",
     "status": "completed"
    },
    "tags": []
   },
   "outputs": [
    {
     "data": {
      "text/plain": [
       "{'x': [], 'y': 2, 'z': 1.1, 'filenames': None}"
      ]
     },
     "execution_count": 4,
     "metadata": {},
     "output_type": "execute_result"
    }
   ],
   "source": [
    "d.to_dict()"
   ]
  },
  {
   "cell_type": "code",
   "execution_count": 5,
   "id": "be21dbfb2674d0b8",
   "metadata": {
    "ExecuteTime": {
     "end_time": "2024-08-15T21:25:04.370535Z",
     "start_time": "2024-08-15T21:25:04.368482Z"
    },
    "collapsed": false,
    "execution": {
     "iopub.execute_input": "2024-08-19T20:26:57.693221Z",
     "iopub.status.busy": "2024-08-19T20:26:57.693054Z",
     "iopub.status.idle": "2024-08-19T20:26:57.695347Z",
     "shell.execute_reply": "2024-08-19T20:26:57.695004Z"
    },
    "papermill": {
     "duration": 0.005426,
     "end_time": "2024-08-19T20:26:57.696495",
     "exception": false,
     "start_time": "2024-08-19T20:26:57.691069",
     "status": "completed"
    },
    "tags": []
   },
   "outputs": [
    {
     "name": "stdout",
     "output_type": "stream",
     "text": [
      "{'x': [], 'y': 2, 'z': 1.1, 'filenames': None}\n"
     ]
    }
   ],
   "source": [
    "print(d.to_dict())"
   ]
  }
 ],
 "metadata": {
  "kernelspec": {
   "display_name": "Python 3",
   "language": "python",
   "name": "python3"
  },
  "language_info": {
   "codemirror_mode": {
    "name": "ipython",
    "version": 3
   },
   "file_extension": ".py",
   "mimetype": "text/x-python",
   "name": "python",
   "nbconvert_exporter": "python",
   "pygments_lexer": "ipython3",
   "version": "3.12.2"
  },
  "papermill": {
   "default_parameters": {},
   "duration": 0.721335,
   "end_time": "2024-08-19T20:26:57.813108",
   "environment_variables": {},
   "exception": null,
   "input_path": "./notebooks/DataClasses.ipynb",
   "output_path": "./notebooks/DataClasses.ipynb",
   "parameters": {},
   "start_time": "2024-08-19T20:26:57.091773",
   "version": "2.6.0"
  }
 },
 "nbformat": 4,
 "nbformat_minor": 5
}