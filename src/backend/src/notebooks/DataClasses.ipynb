{
 "cells": [
  {
   "cell_type": "code",
   "execution_count": 1,
   "id": "d124aedbafdcc040",
   "metadata": {
    "ExecuteTime": {
     "end_time": "2024-05-14T07:54:16.248354Z",
     "start_time": "2024-05-14T07:54:16.242870Z"
    },
    "collapsed": false,
    "execution": {
     "iopub.execute_input": "2024-06-19T09:30:28.982263Z",
     "iopub.status.busy": "2024-06-19T09:30:28.981605Z",
     "iopub.status.idle": "2024-06-19T09:30:28.991711Z",
     "shell.execute_reply": "2024-06-19T09:30:28.990934Z"
    },
    "papermill": {
     "duration": 0.021476,
     "end_time": "2024-06-19T09:30:28.994627",
     "exception": false,
     "start_time": "2024-06-19T09:30:28.973151",
     "status": "completed"
    },
    "tags": []
   },
   "outputs": [],
   "source": [
    "import dataclasses\n",
    "\n",
    "@dataclasses.dataclass\n",
    "class Data:\n",
    "  x: list[int] = dataclasses.field(default_factory=list)\n",
    "  y: int = 2\n",
    "  z: float | None = 1.1\n",
    "  filenames: None | str | list[str] = None\n",
    "  \n",
    "  def to_dict(self):\n",
    "    return dataclasses.asdict(self)"
   ]
  },
  {
   "cell_type": "code",
   "execution_count": 2,
   "id": "b13d6002e9090be1",
   "metadata": {
    "ExecuteTime": {
     "end_time": "2024-05-14T07:54:16.252501Z",
     "start_time": "2024-05-14T07:54:16.250027Z"
    },
    "collapsed": false,
    "execution": {
     "iopub.execute_input": "2024-06-19T09:30:29.002552Z",
     "iopub.status.busy": "2024-06-19T09:30:29.002219Z",
     "iopub.status.idle": "2024-06-19T09:30:29.005788Z",
     "shell.execute_reply": "2024-06-19T09:30:29.005287Z"
    },
    "papermill": {
     "duration": 0.008336,
     "end_time": "2024-06-19T09:30:29.007075",
     "exception": false,
     "start_time": "2024-06-19T09:30:28.998739",
     "status": "completed"
    },
    "tags": []
   },
   "outputs": [],
   "source": [
    "d = Data()"
   ]
  },
  {
   "cell_type": "code",
   "execution_count": 3,
   "id": "e84359977f532760",
   "metadata": {
    "ExecuteTime": {
     "end_time": "2024-05-14T07:54:16.257901Z",
     "start_time": "2024-05-14T07:54:16.253253Z"
    },
    "collapsed": false,
    "execution": {
     "iopub.execute_input": "2024-06-19T09:30:29.010577Z",
     "iopub.status.busy": "2024-06-19T09:30:29.010377Z",
     "iopub.status.idle": "2024-06-19T09:30:29.014927Z",
     "shell.execute_reply": "2024-06-19T09:30:29.014592Z"
    },
    "papermill": {
     "duration": 0.007647,
     "end_time": "2024-06-19T09:30:29.016200",
     "exception": false,
     "start_time": "2024-06-19T09:30:29.008553",
     "status": "completed"
    },
    "tags": []
   },
   "outputs": [
    {
     "data": {
      "text/plain": [
       "Data(x=[], y=2, z=1.1, filenames=None)"
      ]
     },
     "execution_count": 3,
     "metadata": {},
     "output_type": "execute_result"
    }
   ],
   "source": [
    "d"
   ]
  },
  {
   "cell_type": "code",
   "execution_count": 4,
   "id": "ab459643777d5be6",
   "metadata": {
    "ExecuteTime": {
     "end_time": "2024-05-14T07:54:16.262012Z",
     "start_time": "2024-05-14T07:54:16.258982Z"
    },
    "collapsed": false,
    "execution": {
     "iopub.execute_input": "2024-06-19T09:30:29.019705Z",
     "iopub.status.busy": "2024-06-19T09:30:29.019516Z",
     "iopub.status.idle": "2024-06-19T09:30:29.022875Z",
     "shell.execute_reply": "2024-06-19T09:30:29.022551Z"
    },
    "papermill": {
     "duration": 0.006447,
     "end_time": "2024-06-19T09:30:29.024125",
     "exception": false,
     "start_time": "2024-06-19T09:30:29.017678",
     "status": "completed"
    },
    "tags": []
   },
   "outputs": [
    {
     "data": {
      "text/plain": [
       "{'x': [], 'y': 2, 'z': 1.1, 'filenames': None}"
      ]
     },
     "execution_count": 4,
     "metadata": {},
     "output_type": "execute_result"
    }
   ],
   "source": [
    "d.to_dict()"
   ]
  },
  {
   "cell_type": "code",
   "execution_count": 5,
   "id": "be21dbfb2674d0b8",
   "metadata": {
    "ExecuteTime": {
     "end_time": "2024-05-14T07:54:16.265517Z",
     "start_time": "2024-05-14T07:54:16.263313Z"
    },
    "collapsed": false,
    "execution": {
     "iopub.execute_input": "2024-06-19T09:30:29.028176Z",
     "iopub.status.busy": "2024-06-19T09:30:29.027966Z",
     "iopub.status.idle": "2024-06-19T09:30:29.030562Z",
     "shell.execute_reply": "2024-06-19T09:30:29.030190Z"
    },
    "papermill": {
     "duration": 0.006102,
     "end_time": "2024-06-19T09:30:29.031900",
     "exception": false,
     "start_time": "2024-06-19T09:30:29.025798",
     "status": "completed"
    },
    "tags": []
   },
   "outputs": [
    {
     "name": "stdout",
     "output_type": "stream",
     "text": [
      "{'x': [], 'y': 2, 'z': 1.1, 'filenames': None}\n"
     ]
    }
   ],
   "source": [
    "print(d.to_dict())"
   ]
  }
 ],
 "metadata": {
  "kernelspec": {
   "display_name": "Python 3",
   "language": "python",
   "name": "python3"
  },
  "language_info": {
   "codemirror_mode": {
    "name": "ipython",
    "version": 3
   },
   "file_extension": ".py",
   "mimetype": "text/x-python",
   "name": "python",
   "nbconvert_exporter": "python",
   "pygments_lexer": "ipython3",
   "version": "3.12.2"
  },
  "papermill": {
   "default_parameters": {},
   "duration": 0.909925,
   "end_time": "2024-06-19T09:30:29.149105",
   "environment_variables": {},
   "exception": null,
   "input_path": "./notebooks/DataClasses.ipynb",
   "output_path": "./notebooks/DataClasses.ipynb",
   "parameters": {},
   "start_time": "2024-06-19T09:30:28.239180",
   "version": "2.6.0"
  }
 },
 "nbformat": 4,
 "nbformat_minor": 5
}