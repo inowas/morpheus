{
 "cells": [
  {
   "cell_type": "code",
   "outputs": [],
   "source": [
    "import dataclasses\n",
    "\n",
    "@dataclasses.dataclass\n",
    "class Data:\n",
    "  x: list[int] = dataclasses.field(default_factory=list)\n",
    "  y: int = 2\n",
    "  z: float | None = 1.1\n",
    "  filenames: None | str | list[str] = None\n",
    "  \n",
    "  def to_dict(self):\n",
    "    return dataclasses.asdict(self)"
   ],
   "metadata": {
    "collapsed": false
   },
   "id": "d124aedbafdcc040",
   "execution_count": null
  },
  {
   "cell_type": "code",
   "execution_count": null,
   "outputs": [],
   "source": [
    "d = Data()"
   ],
   "metadata": {
    "collapsed": false
   },
   "id": "b13d6002e9090be1"
  },
  {
   "cell_type": "code",
   "execution_count": null,
   "outputs": [],
   "source": [
    "d"
   ],
   "metadata": {
    "collapsed": false
   },
   "id": "e84359977f532760"
  },
  {
   "cell_type": "code",
   "outputs": [],
   "source": [
    "d.to_dict()"
   ],
   "metadata": {
    "collapsed": false
   },
   "id": "ab459643777d5be6",
   "execution_count": null
  },
  {
   "cell_type": "code",
   "outputs": [],
   "source": [
    "print(d.to_dict())"
   ],
   "metadata": {
    "collapsed": false
   },
   "id": "be21dbfb2674d0b8",
   "execution_count": null
  }
 ],
 "metadata": {
  "kernelspec": {
   "display_name": "Python 3",
   "language": "python",
   "name": "python3"
  },
  "language_info": {
   "codemirror_mode": {
    "name": "ipython",
    "version": 2
   },
   "file_extension": ".py",
   "mimetype": "text/x-python",
   "name": "python",
   "nbconvert_exporter": "python",
   "pygments_lexer": "ipython2",
   "version": "2.7.6"
  }
 },
 "nbformat": 4,
 "nbformat_minor": 5
}
