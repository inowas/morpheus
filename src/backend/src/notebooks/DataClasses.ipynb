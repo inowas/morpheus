{
 "cells": [
  {
   "cell_type": "code",
   "execution_count": 1,
   "id": "d124aedbafdcc040",
   "metadata": {
    "ExecuteTime": {
     "end_time": "2024-05-14T07:54:16.248354Z",
     "start_time": "2024-05-14T07:54:16.242870Z"
    },
    "collapsed": false,
    "execution": {
     "iopub.execute_input": "2024-05-15T15:56:31.193211Z",
     "iopub.status.busy": "2024-05-15T15:56:31.192450Z",
     "iopub.status.idle": "2024-05-15T15:56:31.203644Z",
     "shell.execute_reply": "2024-05-15T15:56:31.202859Z"
    },
    "papermill": {
     "duration": 0.023009,
     "end_time": "2024-05-15T15:56:31.206340",
     "exception": false,
     "start_time": "2024-05-15T15:56:31.183331",
     "status": "completed"
    },
    "tags": []
   },
   "outputs": [],
   "source": [
    "import dataclasses\n",
    "\n",
    "@dataclasses.dataclass\n",
    "class Data:\n",
    "  x: list[int] = dataclasses.field(default_factory=list)\n",
    "  y: int = 2\n",
    "  z: float | None = 1.1\n",
    "  filenames: None | str | list[str] = None\n",
    "  \n",
    "  def to_dict(self):\n",
    "    return dataclasses.asdict(self)"
   ]
  },
  {
   "cell_type": "code",
   "execution_count": 2,
   "id": "b13d6002e9090be1",
   "metadata": {
    "ExecuteTime": {
     "end_time": "2024-05-14T07:54:16.252501Z",
     "start_time": "2024-05-14T07:54:16.250027Z"
    },
    "collapsed": false,
    "execution": {
     "iopub.execute_input": "2024-05-15T15:56:31.215270Z",
     "iopub.status.busy": "2024-05-15T15:56:31.214895Z",
     "iopub.status.idle": "2024-05-15T15:56:31.218504Z",
     "shell.execute_reply": "2024-05-15T15:56:31.218087Z"
    },
    "papermill": {
     "duration": 0.009644,
     "end_time": "2024-05-15T15:56:31.220053",
     "exception": false,
     "start_time": "2024-05-15T15:56:31.210409",
     "status": "completed"
    },
    "tags": []
   },
   "outputs": [],
   "source": [
    "d = Data()"
   ]
  },
  {
   "cell_type": "code",
   "execution_count": 3,
   "id": "e84359977f532760",
   "metadata": {
    "ExecuteTime": {
     "end_time": "2024-05-14T07:54:16.257901Z",
     "start_time": "2024-05-14T07:54:16.253253Z"
    },
    "collapsed": false,
    "execution": {
     "iopub.execute_input": "2024-05-15T15:56:31.225196Z",
     "iopub.status.busy": "2024-05-15T15:56:31.224871Z",
     "iopub.status.idle": "2024-05-15T15:56:31.231102Z",
     "shell.execute_reply": "2024-05-15T15:56:31.230745Z"
    },
    "papermill": {
     "duration": 0.010497,
     "end_time": "2024-05-15T15:56:31.232641",
     "exception": false,
     "start_time": "2024-05-15T15:56:31.222144",
     "status": "completed"
    },
    "tags": []
   },
   "outputs": [
    {
     "data": {
      "text/plain": [
       "Data(x=[], y=2, z=1.1, filenames=None)"
      ]
     },
     "execution_count": 3,
     "metadata": {},
     "output_type": "execute_result"
    }
   ],
   "source": [
    "d"
   ]
  },
  {
   "cell_type": "code",
   "execution_count": 4,
   "id": "ab459643777d5be6",
   "metadata": {
    "ExecuteTime": {
     "end_time": "2024-05-14T07:54:16.262012Z",
     "start_time": "2024-05-14T07:54:16.258982Z"
    },
    "collapsed": false,
    "execution": {
     "iopub.execute_input": "2024-05-15T15:56:31.237254Z",
     "iopub.status.busy": "2024-05-15T15:56:31.236911Z",
     "iopub.status.idle": "2024-05-15T15:56:31.240367Z",
     "shell.execute_reply": "2024-05-15T15:56:31.239984Z"
    },
    "papermill": {
     "duration": 0.007158,
     "end_time": "2024-05-15T15:56:31.241786",
     "exception": false,
     "start_time": "2024-05-15T15:56:31.234628",
     "status": "completed"
    },
    "tags": []
   },
   "outputs": [
    {
     "data": {
      "text/plain": [
       "{'x': [], 'y': 2, 'z': 1.1, 'filenames': None}"
      ]
     },
     "execution_count": 4,
     "metadata": {},
     "output_type": "execute_result"
    }
   ],
   "source": [
    "d.to_dict()"
   ]
  },
  {
   "cell_type": "code",
   "execution_count": 5,
   "id": "be21dbfb2674d0b8",
   "metadata": {
    "ExecuteTime": {
     "end_time": "2024-05-14T07:54:16.265517Z",
     "start_time": "2024-05-14T07:54:16.263313Z"
    },
    "collapsed": false,
    "execution": {
     "iopub.execute_input": "2024-05-15T15:56:31.245768Z",
     "iopub.status.busy": "2024-05-15T15:56:31.245581Z",
     "iopub.status.idle": "2024-05-15T15:56:31.247961Z",
     "shell.execute_reply": "2024-05-15T15:56:31.247593Z"
    },
    "papermill": {
     "duration": 0.005536,
     "end_time": "2024-05-15T15:56:31.249072",
     "exception": false,
     "start_time": "2024-05-15T15:56:31.243536",
     "status": "completed"
    },
    "tags": []
   },
   "outputs": [
    {
     "name": "stdout",
     "output_type": "stream",
     "text": [
      "{'x': [], 'y': 2, 'z': 1.1, 'filenames': None}\n"
     ]
    }
   ],
   "source": [
    "print(d.to_dict())"
   ]
  }
 ],
 "metadata": {
  "kernelspec": {
   "display_name": "Python 3",
   "language": "python",
   "name": "python3"
  },
  "language_info": {
   "codemirror_mode": {
    "name": "ipython",
    "version": 3
   },
   "file_extension": ".py",
   "mimetype": "text/x-python",
   "name": "python",
   "nbconvert_exporter": "python",
   "pygments_lexer": "ipython3",
   "version": "3.12.2"
  },
  "papermill": {
   "default_parameters": {},
   "duration": 0.691633,
   "end_time": "2024-05-15T15:56:31.366105",
   "environment_variables": {},
   "exception": null,
   "input_path": "./notebooks/DataClasses.ipynb",
   "output_path": "./notebooks/DataClasses.ipynb",
   "parameters": {},
   "start_time": "2024-05-15T15:56:30.674472",
   "version": "2.6.0"
  }
 },
 "nbformat": 4,
 "nbformat_minor": 5
}