{
 "cells": [
  {
   "cell_type": "code",
   "execution_count": 1,
   "id": "d124aedbafdcc040",
   "metadata": {
    "ExecuteTime": {
     "end_time": "2024-05-14T07:54:16.248354Z",
     "start_time": "2024-05-14T07:54:16.242870Z"
    },
    "collapsed": false,
    "execution": {
     "iopub.execute_input": "2024-06-19T07:35:45.618839Z",
     "iopub.status.busy": "2024-06-19T07:35:45.618101Z",
     "iopub.status.idle": "2024-06-19T07:35:45.630025Z",
     "shell.execute_reply": "2024-06-19T07:35:45.629251Z"
    },
    "papermill": {
     "duration": 0.023075,
     "end_time": "2024-06-19T07:35:45.632738",
     "exception": false,
     "start_time": "2024-06-19T07:35:45.609663",
     "status": "completed"
    },
    "tags": []
   },
   "outputs": [],
   "source": [
    "import dataclasses\n",
    "\n",
    "@dataclasses.dataclass\n",
    "class Data:\n",
    "  x: list[int] = dataclasses.field(default_factory=list)\n",
    "  y: int = 2\n",
    "  z: float | None = 1.1\n",
    "  filenames: None | str | list[str] = None\n",
    "  \n",
    "  def to_dict(self):\n",
    "    return dataclasses.asdict(self)"
   ]
  },
  {
   "cell_type": "code",
   "execution_count": 2,
   "id": "b13d6002e9090be1",
   "metadata": {
    "ExecuteTime": {
     "end_time": "2024-05-14T07:54:16.252501Z",
     "start_time": "2024-05-14T07:54:16.250027Z"
    },
    "collapsed": false,
    "execution": {
     "iopub.execute_input": "2024-06-19T07:35:45.641384Z",
     "iopub.status.busy": "2024-06-19T07:35:45.640946Z",
     "iopub.status.idle": "2024-06-19T07:35:45.645138Z",
     "shell.execute_reply": "2024-06-19T07:35:45.644292Z"
    },
    "papermill": {
     "duration": 0.01125,
     "end_time": "2024-06-19T07:35:45.647717",
     "exception": false,
     "start_time": "2024-06-19T07:35:45.636467",
     "status": "completed"
    },
    "tags": []
   },
   "outputs": [],
   "source": [
    "d = Data()"
   ]
  },
  {
   "cell_type": "code",
   "execution_count": 3,
   "id": "e84359977f532760",
   "metadata": {
    "ExecuteTime": {
     "end_time": "2024-05-14T07:54:16.257901Z",
     "start_time": "2024-05-14T07:54:16.253253Z"
    },
    "collapsed": false,
    "execution": {
     "iopub.execute_input": "2024-06-19T07:35:45.653234Z",
     "iopub.status.busy": "2024-06-19T07:35:45.652778Z",
     "iopub.status.idle": "2024-06-19T07:35:45.658858Z",
     "shell.execute_reply": "2024-06-19T07:35:45.658448Z"
    },
    "papermill": {
     "duration": 0.01069,
     "end_time": "2024-06-19T07:35:45.660665",
     "exception": false,
     "start_time": "2024-06-19T07:35:45.649975",
     "status": "completed"
    },
    "tags": []
   },
   "outputs": [
    {
     "data": {
      "text/plain": [
       "Data(x=[], y=2, z=1.1, filenames=None)"
      ]
     },
     "execution_count": 3,
     "metadata": {},
     "output_type": "execute_result"
    }
   ],
   "source": [
    "d"
   ]
  },
  {
   "cell_type": "code",
   "execution_count": 4,
   "id": "ab459643777d5be6",
   "metadata": {
    "ExecuteTime": {
     "end_time": "2024-05-14T07:54:16.262012Z",
     "start_time": "2024-05-14T07:54:16.258982Z"
    },
    "collapsed": false,
    "execution": {
     "iopub.execute_input": "2024-06-19T07:35:45.665122Z",
     "iopub.status.busy": "2024-06-19T07:35:45.664900Z",
     "iopub.status.idle": "2024-06-19T07:35:45.668416Z",
     "shell.execute_reply": "2024-06-19T07:35:45.667945Z"
    },
    "papermill": {
     "duration": 0.007137,
     "end_time": "2024-06-19T07:35:45.669657",
     "exception": false,
     "start_time": "2024-06-19T07:35:45.662520",
     "status": "completed"
    },
    "tags": []
   },
   "outputs": [
    {
     "data": {
      "text/plain": [
       "{'x': [], 'y': 2, 'z': 1.1, 'filenames': None}"
      ]
     },
     "execution_count": 4,
     "metadata": {},
     "output_type": "execute_result"
    }
   ],
   "source": [
    "d.to_dict()"
   ]
  },
  {
   "cell_type": "code",
   "execution_count": 5,
   "id": "be21dbfb2674d0b8",
   "metadata": {
    "ExecuteTime": {
     "end_time": "2024-05-14T07:54:16.265517Z",
     "start_time": "2024-05-14T07:54:16.263313Z"
    },
    "collapsed": false,
    "execution": {
     "iopub.execute_input": "2024-06-19T07:35:45.673640Z",
     "iopub.status.busy": "2024-06-19T07:35:45.673429Z",
     "iopub.status.idle": "2024-06-19T07:35:45.676024Z",
     "shell.execute_reply": "2024-06-19T07:35:45.675661Z"
    },
    "papermill": {
     "duration": 0.005871,
     "end_time": "2024-06-19T07:35:45.677162",
     "exception": false,
     "start_time": "2024-06-19T07:35:45.671291",
     "status": "completed"
    },
    "tags": []
   },
   "outputs": [
    {
     "name": "stdout",
     "output_type": "stream",
     "text": [
      "{'x': [], 'y': 2, 'z': 1.1, 'filenames': None}\n"
     ]
    }
   ],
   "source": [
    "print(d.to_dict())"
   ]
  }
 ],
 "metadata": {
  "kernelspec": {
   "display_name": "Python 3",
   "language": "python",
   "name": "python3"
  },
  "language_info": {
   "codemirror_mode": {
    "name": "ipython",
    "version": 3
   },
   "file_extension": ".py",
   "mimetype": "text/x-python",
   "name": "python",
   "nbconvert_exporter": "python",
   "pygments_lexer": "ipython3",
   "version": "3.12.2"
  },
  "papermill": {
   "default_parameters": {},
   "duration": 0.732007,
   "end_time": "2024-06-19T07:35:45.794255",
   "environment_variables": {},
   "exception": null,
   "input_path": "./notebooks/DataClasses.ipynb",
   "output_path": "./notebooks/DataClasses.ipynb",
   "parameters": {},
   "start_time": "2024-06-19T07:35:45.062248",
   "version": "2.6.0"
  }
 },
 "nbformat": 4,
 "nbformat_minor": 5
}