{
 "cells": [
  {
   "cell_type": "code",
   "execution_count": 1,
   "id": "d124aedbafdcc040",
   "metadata": {
    "ExecuteTime": {
     "end_time": "2024-05-14T07:54:16.248354Z",
     "start_time": "2024-05-14T07:54:16.242870Z"
    },
    "collapsed": false,
    "execution": {
     "iopub.execute_input": "2024-05-30T21:20:27.983104Z",
     "iopub.status.busy": "2024-05-30T21:20:27.982656Z",
     "iopub.status.idle": "2024-05-30T21:20:27.990603Z",
     "shell.execute_reply": "2024-05-30T21:20:27.990026Z"
    },
    "papermill": {
     "duration": 0.018995,
     "end_time": "2024-05-30T21:20:27.992523",
     "exception": false,
     "start_time": "2024-05-30T21:20:27.973528",
     "status": "completed"
    },
    "tags": []
   },
   "outputs": [],
   "source": [
    "import dataclasses\n",
    "\n",
    "@dataclasses.dataclass\n",
    "class Data:\n",
    "  x: list[int] = dataclasses.field(default_factory=list)\n",
    "  y: int = 2\n",
    "  z: float | None = 1.1\n",
    "  filenames: None | str | list[str] = None\n",
    "  \n",
    "  def to_dict(self):\n",
    "    return dataclasses.asdict(self)"
   ]
  },
  {
   "cell_type": "code",
   "execution_count": 2,
   "id": "b13d6002e9090be1",
   "metadata": {
    "ExecuteTime": {
     "end_time": "2024-05-14T07:54:16.252501Z",
     "start_time": "2024-05-14T07:54:16.250027Z"
    },
    "collapsed": false,
    "execution": {
     "iopub.execute_input": "2024-05-30T21:20:27.998428Z",
     "iopub.status.busy": "2024-05-30T21:20:27.998122Z",
     "iopub.status.idle": "2024-05-30T21:20:28.000943Z",
     "shell.execute_reply": "2024-05-30T21:20:28.000495Z"
    },
    "papermill": {
     "duration": 0.007431,
     "end_time": "2024-05-30T21:20:28.002650",
     "exception": false,
     "start_time": "2024-05-30T21:20:27.995219",
     "status": "completed"
    },
    "tags": []
   },
   "outputs": [],
   "source": [
    "d = Data()"
   ]
  },
  {
   "cell_type": "code",
   "execution_count": 3,
   "id": "e84359977f532760",
   "metadata": {
    "ExecuteTime": {
     "end_time": "2024-05-14T07:54:16.257901Z",
     "start_time": "2024-05-14T07:54:16.253253Z"
    },
    "collapsed": false,
    "execution": {
     "iopub.execute_input": "2024-05-30T21:20:28.006829Z",
     "iopub.status.busy": "2024-05-30T21:20:28.006603Z",
     "iopub.status.idle": "2024-05-30T21:20:28.011930Z",
     "shell.execute_reply": "2024-05-30T21:20:28.011573Z"
    },
    "papermill": {
     "duration": 0.009221,
     "end_time": "2024-05-30T21:20:28.013561",
     "exception": false,
     "start_time": "2024-05-30T21:20:28.004340",
     "status": "completed"
    },
    "tags": []
   },
   "outputs": [
    {
     "data": {
      "text/plain": [
       "Data(x=[], y=2, z=1.1, filenames=None)"
      ]
     },
     "execution_count": 3,
     "metadata": {},
     "output_type": "execute_result"
    }
   ],
   "source": [
    "d"
   ]
  },
  {
   "cell_type": "code",
   "execution_count": 4,
   "id": "ab459643777d5be6",
   "metadata": {
    "ExecuteTime": {
     "end_time": "2024-05-14T07:54:16.262012Z",
     "start_time": "2024-05-14T07:54:16.258982Z"
    },
    "collapsed": false,
    "execution": {
     "iopub.execute_input": "2024-05-30T21:20:28.017770Z",
     "iopub.status.busy": "2024-05-30T21:20:28.017441Z",
     "iopub.status.idle": "2024-05-30T21:20:28.020450Z",
     "shell.execute_reply": "2024-05-30T21:20:28.020141Z"
    },
    "papermill": {
     "duration": 0.006288,
     "end_time": "2024-05-30T21:20:28.021586",
     "exception": false,
     "start_time": "2024-05-30T21:20:28.015298",
     "status": "completed"
    },
    "tags": []
   },
   "outputs": [
    {
     "data": {
      "text/plain": [
       "{'x': [], 'y': 2, 'z': 1.1, 'filenames': None}"
      ]
     },
     "execution_count": 4,
     "metadata": {},
     "output_type": "execute_result"
    }
   ],
   "source": [
    "d.to_dict()"
   ]
  },
  {
   "cell_type": "code",
   "execution_count": 5,
   "id": "be21dbfb2674d0b8",
   "metadata": {
    "ExecuteTime": {
     "end_time": "2024-05-14T07:54:16.265517Z",
     "start_time": "2024-05-14T07:54:16.263313Z"
    },
    "collapsed": false,
    "execution": {
     "iopub.execute_input": "2024-05-30T21:20:28.025029Z",
     "iopub.status.busy": "2024-05-30T21:20:28.024862Z",
     "iopub.status.idle": "2024-05-30T21:20:28.027196Z",
     "shell.execute_reply": "2024-05-30T21:20:28.026790Z"
    },
    "papermill": {
     "duration": 0.005284,
     "end_time": "2024-05-30T21:20:28.028295",
     "exception": false,
     "start_time": "2024-05-30T21:20:28.023011",
     "status": "completed"
    },
    "tags": []
   },
   "outputs": [
    {
     "name": "stdout",
     "output_type": "stream",
     "text": [
      "{'x': [], 'y': 2, 'z': 1.1, 'filenames': None}\n"
     ]
    }
   ],
   "source": [
    "print(d.to_dict())"
   ]
  }
 ],
 "metadata": {
  "kernelspec": {
   "display_name": "Python 3",
   "language": "python",
   "name": "python3"
  },
  "language_info": {
   "codemirror_mode": {
    "name": "ipython",
    "version": 3
   },
   "file_extension": ".py",
   "mimetype": "text/x-python",
   "name": "python",
   "nbconvert_exporter": "python",
   "pygments_lexer": "ipython3",
   "version": "3.12.2"
  },
  "papermill": {
   "default_parameters": {},
   "duration": 0.782548,
   "end_time": "2024-05-30T21:20:28.145281",
   "environment_variables": {},
   "exception": null,
   "input_path": "./notebooks/DataClasses.ipynb",
   "output_path": "./notebooks/DataClasses.ipynb",
   "parameters": {},
   "start_time": "2024-05-30T21:20:27.362733",
   "version": "2.6.0"
  }
 },
 "nbformat": 4,
 "nbformat_minor": 5
}