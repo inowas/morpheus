{
 "cells": [
  {
   "cell_type": "code",
   "execution_count": 1,
   "id": "d124aedbafdcc040",
   "metadata": {
    "ExecuteTime": {
     "end_time": "2024-05-14T07:54:16.248354Z",
     "start_time": "2024-05-14T07:54:16.242870Z"
    },
    "collapsed": false,
    "execution": {
     "iopub.execute_input": "2024-06-17T21:07:12.119525Z",
     "iopub.status.busy": "2024-06-17T21:07:12.118704Z",
     "iopub.status.idle": "2024-06-17T21:07:12.130772Z",
     "shell.execute_reply": "2024-06-17T21:07:12.130035Z"
    },
    "papermill": {
     "duration": 0.026272,
     "end_time": "2024-06-17T21:07:12.134031",
     "exception": false,
     "start_time": "2024-06-17T21:07:12.107759",
     "status": "completed"
    },
    "tags": []
   },
   "outputs": [],
   "source": [
    "import dataclasses\n",
    "\n",
    "@dataclasses.dataclass\n",
    "class Data:\n",
    "  x: list[int] = dataclasses.field(default_factory=list)\n",
    "  y: int = 2\n",
    "  z: float | None = 1.1\n",
    "  filenames: None | str | list[str] = None\n",
    "  \n",
    "  def to_dict(self):\n",
    "    return dataclasses.asdict(self)"
   ]
  },
  {
   "cell_type": "code",
   "execution_count": 2,
   "id": "b13d6002e9090be1",
   "metadata": {
    "ExecuteTime": {
     "end_time": "2024-05-14T07:54:16.252501Z",
     "start_time": "2024-05-14T07:54:16.250027Z"
    },
    "collapsed": false,
    "execution": {
     "iopub.execute_input": "2024-06-17T21:07:12.143334Z",
     "iopub.status.busy": "2024-06-17T21:07:12.142909Z",
     "iopub.status.idle": "2024-06-17T21:07:12.147245Z",
     "shell.execute_reply": "2024-06-17T21:07:12.146417Z"
    },
    "papermill": {
     "duration": 0.010162,
     "end_time": "2024-06-17T21:07:12.149039",
     "exception": false,
     "start_time": "2024-06-17T21:07:12.138877",
     "status": "completed"
    },
    "tags": []
   },
   "outputs": [],
   "source": [
    "d = Data()"
   ]
  },
  {
   "cell_type": "code",
   "execution_count": 3,
   "id": "e84359977f532760",
   "metadata": {
    "ExecuteTime": {
     "end_time": "2024-05-14T07:54:16.257901Z",
     "start_time": "2024-05-14T07:54:16.253253Z"
    },
    "collapsed": false,
    "execution": {
     "iopub.execute_input": "2024-06-17T21:07:12.152933Z",
     "iopub.status.busy": "2024-06-17T21:07:12.152499Z",
     "iopub.status.idle": "2024-06-17T21:07:12.158044Z",
     "shell.execute_reply": "2024-06-17T21:07:12.157602Z"
    },
    "papermill": {
     "duration": 0.009254,
     "end_time": "2024-06-17T21:07:12.159694",
     "exception": false,
     "start_time": "2024-06-17T21:07:12.150440",
     "status": "completed"
    },
    "tags": []
   },
   "outputs": [
    {
     "data": {
      "text/plain": [
       "Data(x=[], y=2, z=1.1, filenames=None)"
      ]
     },
     "execution_count": 3,
     "metadata": {},
     "output_type": "execute_result"
    }
   ],
   "source": [
    "d"
   ]
  },
  {
   "cell_type": "code",
   "execution_count": 4,
   "id": "ab459643777d5be6",
   "metadata": {
    "ExecuteTime": {
     "end_time": "2024-05-14T07:54:16.262012Z",
     "start_time": "2024-05-14T07:54:16.258982Z"
    },
    "collapsed": false,
    "execution": {
     "iopub.execute_input": "2024-06-17T21:07:12.164397Z",
     "iopub.status.busy": "2024-06-17T21:07:12.164063Z",
     "iopub.status.idle": "2024-06-17T21:07:12.167120Z",
     "shell.execute_reply": "2024-06-17T21:07:12.166798Z"
    },
    "papermill": {
     "duration": 0.006649,
     "end_time": "2024-06-17T21:07:12.168377",
     "exception": false,
     "start_time": "2024-06-17T21:07:12.161728",
     "status": "completed"
    },
    "tags": []
   },
   "outputs": [
    {
     "data": {
      "text/plain": [
       "{'x': [], 'y': 2, 'z': 1.1, 'filenames': None}"
      ]
     },
     "execution_count": 4,
     "metadata": {},
     "output_type": "execute_result"
    }
   ],
   "source": [
    "d.to_dict()"
   ]
  },
  {
   "cell_type": "code",
   "execution_count": 5,
   "id": "be21dbfb2674d0b8",
   "metadata": {
    "ExecuteTime": {
     "end_time": "2024-05-14T07:54:16.265517Z",
     "start_time": "2024-05-14T07:54:16.263313Z"
    },
    "collapsed": false,
    "execution": {
     "iopub.execute_input": "2024-06-17T21:07:12.172263Z",
     "iopub.status.busy": "2024-06-17T21:07:12.172078Z",
     "iopub.status.idle": "2024-06-17T21:07:12.174495Z",
     "shell.execute_reply": "2024-06-17T21:07:12.174119Z"
    },
    "papermill": {
     "duration": 0.005588,
     "end_time": "2024-06-17T21:07:12.175699",
     "exception": false,
     "start_time": "2024-06-17T21:07:12.170111",
     "status": "completed"
    },
    "tags": []
   },
   "outputs": [
    {
     "name": "stdout",
     "output_type": "stream",
     "text": [
      "{'x': [], 'y': 2, 'z': 1.1, 'filenames': None}\n"
     ]
    }
   ],
   "source": [
    "print(d.to_dict())"
   ]
  }
 ],
 "metadata": {
  "kernelspec": {
   "display_name": "Python 3",
   "language": "python",
   "name": "python3"
  },
  "language_info": {
   "codemirror_mode": {
    "name": "ipython",
    "version": 3
   },
   "file_extension": ".py",
   "mimetype": "text/x-python",
   "name": "python",
   "nbconvert_exporter": "python",
   "pygments_lexer": "ipython3",
   "version": "3.12.2"
  },
  "papermill": {
   "default_parameters": {},
   "duration": 0.724053,
   "end_time": "2024-06-17T21:07:12.292868",
   "environment_variables": {},
   "exception": null,
   "input_path": "./notebooks/DataClasses.ipynb",
   "output_path": "./notebooks/DataClasses.ipynb",
   "parameters": {},
   "start_time": "2024-06-17T21:07:11.568815",
   "version": "2.6.0"
  }
 },
 "nbformat": 4,
 "nbformat_minor": 5
}