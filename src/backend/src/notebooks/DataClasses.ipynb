{
 "cells": [
  {
   "cell_type": "code",
   "execution_count": 1,
   "id": "d124aedbafdcc040",
   "metadata": {
    "ExecuteTime": {
     "end_time": "2024-05-14T07:54:16.248354Z",
     "start_time": "2024-05-14T07:54:16.242870Z"
    },
    "collapsed": false,
    "execution": {
     "iopub.execute_input": "2024-05-15T16:01:00.463910Z",
     "iopub.status.busy": "2024-05-15T16:01:00.463441Z",
     "iopub.status.idle": "2024-05-15T16:01:00.470901Z",
     "shell.execute_reply": "2024-05-15T16:01:00.470412Z"
    },
    "papermill": {
     "duration": 0.01522,
     "end_time": "2024-05-15T16:01:00.472803",
     "exception": false,
     "start_time": "2024-05-15T16:01:00.457583",
     "status": "completed"
    },
    "tags": []
   },
   "outputs": [],
   "source": [
    "import dataclasses\n",
    "\n",
    "@dataclasses.dataclass\n",
    "class Data:\n",
    "  x: list[int] = dataclasses.field(default_factory=list)\n",
    "  y: int = 2\n",
    "  z: float | None = 1.1\n",
    "  filenames: None | str | list[str] = None\n",
    "  \n",
    "  def to_dict(self):\n",
    "    return dataclasses.asdict(self)"
   ]
  },
  {
   "cell_type": "code",
   "execution_count": 2,
   "id": "b13d6002e9090be1",
   "metadata": {
    "ExecuteTime": {
     "end_time": "2024-05-14T07:54:16.252501Z",
     "start_time": "2024-05-14T07:54:16.250027Z"
    },
    "collapsed": false,
    "execution": {
     "iopub.execute_input": "2024-05-15T16:01:00.478259Z",
     "iopub.status.busy": "2024-05-15T16:01:00.477937Z",
     "iopub.status.idle": "2024-05-15T16:01:00.480595Z",
     "shell.execute_reply": "2024-05-15T16:01:00.480337Z"
    },
    "papermill": {
     "duration": 0.006779,
     "end_time": "2024-05-15T16:01:00.481878",
     "exception": false,
     "start_time": "2024-05-15T16:01:00.475099",
     "status": "completed"
    },
    "tags": []
   },
   "outputs": [],
   "source": [
    "d = Data()"
   ]
  },
  {
   "cell_type": "code",
   "execution_count": 3,
   "id": "e84359977f532760",
   "metadata": {
    "ExecuteTime": {
     "end_time": "2024-05-14T07:54:16.257901Z",
     "start_time": "2024-05-14T07:54:16.253253Z"
    },
    "collapsed": false,
    "execution": {
     "iopub.execute_input": "2024-05-15T16:01:00.486002Z",
     "iopub.status.busy": "2024-05-15T16:01:00.485811Z",
     "iopub.status.idle": "2024-05-15T16:01:00.491210Z",
     "shell.execute_reply": "2024-05-15T16:01:00.490760Z"
    },
    "papermill": {
     "duration": 0.00905,
     "end_time": "2024-05-15T16:01:00.492676",
     "exception": false,
     "start_time": "2024-05-15T16:01:00.483626",
     "status": "completed"
    },
    "tags": []
   },
   "outputs": [
    {
     "data": {
      "text/plain": [
       "Data(x=[], y=2, z=1.1, filenames=None)"
      ]
     },
     "execution_count": 3,
     "metadata": {},
     "output_type": "execute_result"
    }
   ],
   "source": [
    "d"
   ]
  },
  {
   "cell_type": "code",
   "execution_count": 4,
   "id": "ab459643777d5be6",
   "metadata": {
    "ExecuteTime": {
     "end_time": "2024-05-14T07:54:16.262012Z",
     "start_time": "2024-05-14T07:54:16.258982Z"
    },
    "collapsed": false,
    "execution": {
     "iopub.execute_input": "2024-05-15T16:01:00.496778Z",
     "iopub.status.busy": "2024-05-15T16:01:00.496533Z",
     "iopub.status.idle": "2024-05-15T16:01:00.499891Z",
     "shell.execute_reply": "2024-05-15T16:01:00.499425Z"
    },
    "papermill": {
     "duration": 0.006824,
     "end_time": "2024-05-15T16:01:00.501186",
     "exception": false,
     "start_time": "2024-05-15T16:01:00.494362",
     "status": "completed"
    },
    "tags": []
   },
   "outputs": [
    {
     "data": {
      "text/plain": [
       "{'x': [], 'y': 2, 'z': 1.1, 'filenames': None}"
      ]
     },
     "execution_count": 4,
     "metadata": {},
     "output_type": "execute_result"
    }
   ],
   "source": [
    "d.to_dict()"
   ]
  },
  {
   "cell_type": "code",
   "execution_count": 5,
   "id": "be21dbfb2674d0b8",
   "metadata": {
    "ExecuteTime": {
     "end_time": "2024-05-14T07:54:16.265517Z",
     "start_time": "2024-05-14T07:54:16.263313Z"
    },
    "collapsed": false,
    "execution": {
     "iopub.execute_input": "2024-05-15T16:01:00.504795Z",
     "iopub.status.busy": "2024-05-15T16:01:00.504614Z",
     "iopub.status.idle": "2024-05-15T16:01:00.507003Z",
     "shell.execute_reply": "2024-05-15T16:01:00.506659Z"
    },
    "papermill": {
     "duration": 0.005491,
     "end_time": "2024-05-15T16:01:00.508181",
     "exception": false,
     "start_time": "2024-05-15T16:01:00.502690",
     "status": "completed"
    },
    "tags": []
   },
   "outputs": [
    {
     "name": "stdout",
     "output_type": "stream",
     "text": [
      "{'x': [], 'y': 2, 'z': 1.1, 'filenames': None}\n"
     ]
    }
   ],
   "source": [
    "print(d.to_dict())"
   ]
  }
 ],
 "metadata": {
  "kernelspec": {
   "display_name": "Python 3",
   "language": "python",
   "name": "python3"
  },
  "language_info": {
   "codemirror_mode": {
    "name": "ipython",
    "version": 3
   },
   "file_extension": ".py",
   "mimetype": "text/x-python",
   "name": "python",
   "nbconvert_exporter": "python",
   "pygments_lexer": "ipython3",
   "version": "3.12.2"
  },
  "papermill": {
   "default_parameters": {},
   "duration": 0.689097,
   "end_time": "2024-05-15T16:01:00.625298",
   "environment_variables": {},
   "exception": null,
   "input_path": "./notebooks/DataClasses.ipynb",
   "output_path": "./notebooks/DataClasses.ipynb",
   "parameters": {},
   "start_time": "2024-05-15T16:00:59.936201",
   "version": "2.6.0"
  }
 },
 "nbformat": 4,
 "nbformat_minor": 5
}