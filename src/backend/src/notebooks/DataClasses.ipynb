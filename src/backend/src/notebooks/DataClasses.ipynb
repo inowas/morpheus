{
 "cells": [
  {
   "cell_type": "code",
   "execution_count": 1,
   "id": "d124aedbafdcc040",
   "metadata": {
    "ExecuteTime": {
     "end_time": "2024-08-15T21:25:04.145170Z",
     "start_time": "2024-08-15T21:25:04.139986Z"
    },
    "collapsed": false,
    "execution": {
     "iopub.execute_input": "2024-08-19T20:03:07.314365Z",
     "iopub.status.busy": "2024-08-19T20:03:07.313495Z",
     "iopub.status.idle": "2024-08-19T20:03:07.322090Z",
     "shell.execute_reply": "2024-08-19T20:03:07.321529Z"
    },
    "papermill": {
     "duration": 0.019237,
     "end_time": "2024-08-19T20:03:07.324069",
     "exception": false,
     "start_time": "2024-08-19T20:03:07.304832",
     "status": "completed"
    },
    "tags": []
   },
   "outputs": [],
   "source": [
    "import dataclasses\n",
    "\n",
    "@dataclasses.dataclass\n",
    "class Data:\n",
    "  x: list[int] = dataclasses.field(default_factory=list)\n",
    "  y: int = 2\n",
    "  z: float | None = 1.1\n",
    "  filenames: None | str | list[str] = None\n",
    "  \n",
    "  def to_dict(self):\n",
    "    return dataclasses.asdict(self)"
   ]
  },
  {
   "cell_type": "code",
   "execution_count": 2,
   "id": "b13d6002e9090be1",
   "metadata": {
    "ExecuteTime": {
     "end_time": "2024-08-15T21:25:04.153758Z",
     "start_time": "2024-08-15T21:25:04.151476Z"
    },
    "collapsed": false,
    "execution": {
     "iopub.execute_input": "2024-08-19T20:03:07.329588Z",
     "iopub.status.busy": "2024-08-19T20:03:07.329316Z",
     "iopub.status.idle": "2024-08-19T20:03:07.332135Z",
     "shell.execute_reply": "2024-08-19T20:03:07.331611Z"
    },
    "papermill": {
     "duration": 0.007087,
     "end_time": "2024-08-19T20:03:07.333706",
     "exception": false,
     "start_time": "2024-08-19T20:03:07.326619",
     "status": "completed"
    },
    "tags": []
   },
   "outputs": [],
   "source": [
    "d = Data()"
   ]
  },
  {
   "cell_type": "code",
   "execution_count": 3,
   "id": "e84359977f532760",
   "metadata": {
    "ExecuteTime": {
     "end_time": "2024-08-15T21:25:04.235451Z",
     "start_time": "2024-08-15T21:25:04.231736Z"
    },
    "collapsed": false,
    "execution": {
     "iopub.execute_input": "2024-08-19T20:03:07.338359Z",
     "iopub.status.busy": "2024-08-19T20:03:07.337982Z",
     "iopub.status.idle": "2024-08-19T20:03:07.343230Z",
     "shell.execute_reply": "2024-08-19T20:03:07.342840Z"
    },
    "papermill": {
     "duration": 0.008956,
     "end_time": "2024-08-19T20:03:07.344565",
     "exception": false,
     "start_time": "2024-08-19T20:03:07.335609",
     "status": "completed"
    },
    "tags": []
   },
   "outputs": [
    {
     "data": {
      "text/plain": [
       "Data(x=[], y=2, z=1.1, filenames=None)"
      ]
     },
     "execution_count": 3,
     "metadata": {},
     "output_type": "execute_result"
    }
   ],
   "source": [
    "d"
   ]
  },
  {
   "cell_type": "code",
   "execution_count": 4,
   "id": "ab459643777d5be6",
   "metadata": {
    "ExecuteTime": {
     "end_time": "2024-08-15T21:25:04.298097Z",
     "start_time": "2024-08-15T21:25:04.295299Z"
    },
    "collapsed": false,
    "execution": {
     "iopub.execute_input": "2024-08-19T20:03:07.348726Z",
     "iopub.status.busy": "2024-08-19T20:03:07.348513Z",
     "iopub.status.idle": "2024-08-19T20:03:07.351395Z",
     "shell.execute_reply": "2024-08-19T20:03:07.351077Z"
    },
    "papermill": {
     "duration": 0.006166,
     "end_time": "2024-08-19T20:03:07.352533",
     "exception": false,
     "start_time": "2024-08-19T20:03:07.346367",
     "status": "completed"
    },
    "tags": []
   },
   "outputs": [
    {
     "data": {
      "text/plain": [
       "{'x': [], 'y': 2, 'z': 1.1, 'filenames': None}"
      ]
     },
     "execution_count": 4,
     "metadata": {},
     "output_type": "execute_result"
    }
   ],
   "source": [
    "d.to_dict()"
   ]
  },
  {
   "cell_type": "code",
   "execution_count": 5,
   "id": "be21dbfb2674d0b8",
   "metadata": {
    "ExecuteTime": {
     "end_time": "2024-08-15T21:25:04.370535Z",
     "start_time": "2024-08-15T21:25:04.368482Z"
    },
    "collapsed": false,
    "execution": {
     "iopub.execute_input": "2024-08-19T20:03:07.356274Z",
     "iopub.status.busy": "2024-08-19T20:03:07.355991Z",
     "iopub.status.idle": "2024-08-19T20:03:07.358388Z",
     "shell.execute_reply": "2024-08-19T20:03:07.358015Z"
    },
    "papermill": {
     "duration": 0.005399,
     "end_time": "2024-08-19T20:03:07.359429",
     "exception": false,
     "start_time": "2024-08-19T20:03:07.354030",
     "status": "completed"
    },
    "tags": []
   },
   "outputs": [
    {
     "name": "stdout",
     "output_type": "stream",
     "text": [
      "{'x': [], 'y': 2, 'z': 1.1, 'filenames': None}\n"
     ]
    }
   ],
   "source": [
    "print(d.to_dict())"
   ]
  }
 ],
 "metadata": {
  "kernelspec": {
   "display_name": "Python 3",
   "language": "python",
   "name": "python3"
  },
  "language_info": {
   "codemirror_mode": {
    "name": "ipython",
    "version": 3
   },
   "file_extension": ".py",
   "mimetype": "text/x-python",
   "name": "python",
   "nbconvert_exporter": "python",
   "pygments_lexer": "ipython3",
   "version": "3.12.2"
  },
  "papermill": {
   "default_parameters": {},
   "duration": 0.933726,
   "end_time": "2024-08-19T20:03:07.476646",
   "environment_variables": {},
   "exception": null,
   "input_path": "./notebooks/DataClasses.ipynb",
   "output_path": "./notebooks/DataClasses.ipynb",
   "parameters": {},
   "start_time": "2024-08-19T20:03:06.542920",
   "version": "2.6.0"
  }
 },
 "nbformat": 4,
 "nbformat_minor": 5
}