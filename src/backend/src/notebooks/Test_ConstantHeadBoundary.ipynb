{
 "cells": [
  {
   "cell_type": "code",
   "execution_count": 1,
   "id": "ba6761fae9d5e5cb",
   "metadata": {
    "ExecuteTime": {
     "end_time": "2024-05-14T08:09:44.164822Z",
     "start_time": "2024-05-14T08:09:44.159413Z"
    },
    "collapsed": false,
    "execution": {
     "iopub.execute_input": "2024-05-15T16:00:09.614075Z",
     "iopub.status.busy": "2024-05-15T16:00:09.613786Z",
     "iopub.status.idle": "2024-05-15T16:00:09.617827Z",
     "shell.execute_reply": "2024-05-15T16:00:09.617371Z"
    },
    "papermill": {
     "duration": 0.01725,
     "end_time": "2024-05-15T16:00:09.619527",
     "exception": false,
     "start_time": "2024-05-15T16:00:09.602277",
     "status": "completed"
    },
    "tags": []
   },
   "source": [
    "import sys\n",
    "\n",
    "sys.path.insert(0, '..')"
   ],
   "outputs": []
  },
  {
   "cell_type": "markdown",
   "id": "5ede1ba5e0993dd1",
   "metadata": {
    "collapsed": false,
    "papermill": {
     "duration": 0.004348,
     "end_time": "2024-05-15T16:00:09.629882",
     "exception": false,
     "start_time": "2024-05-15T16:00:09.625534",
     "status": "completed"
    },
    "tags": []
   },
   "source": [
    "## Setup the model area"
   ]
  },
  {
   "cell_type": "code",
   "execution_count": 2,
   "id": "2f69504ab35487aa",
   "metadata": {
    "ExecuteTime": {
     "end_time": "2024-05-14T08:09:45.096943Z",
     "start_time": "2024-05-14T08:09:44.169017Z"
    },
    "collapsed": false,
    "execution": {
     "iopub.execute_input": "2024-05-15T16:00:09.640097Z",
     "iopub.status.busy": "2024-05-15T16:00:09.639704Z",
     "iopub.status.idle": "2024-05-15T16:00:10.179139Z",
     "shell.execute_reply": "2024-05-15T16:00:10.178722Z"
    },
    "papermill": {
     "duration": 0.545929,
     "end_time": "2024-05-15T16:00:10.180350",
     "exception": false,
     "start_time": "2024-05-15T16:00:09.634421",
     "status": "completed"
    },
    "tags": []
   },
   "source": [
    "from morpheus.project.types.discretization import SpatialDiscretization\n",
    "from morpheus.project.types.discretization.spatial import Rotation, Grid, Crs\n",
    "from morpheus.project.types.geometry import Polygon, LineString\n",
    "\n",
    "polygon = Polygon(\n",
    "  type='Polygon',\n",
    "  coordinates=[[\n",
    "    (13.92, 50.964),\n",
    "    (13.92, 50.966),\n",
    "    (13.925, 50.966),\n",
    "    (13.925, 50.964),\n",
    "    (13.92, 50.964)\n",
    "  ]]\n",
    ")\n",
    "\n",
    "rotation = Rotation(0)\n",
    "\n",
    "grid = Grid.cartesian_from_polygon(polygon=polygon, n_cols=100, n_rows=50, rotation=rotation)\n",
    "spatial_discretization = SpatialDiscretization.from_geometry_with_grid(\n",
    "  geometry=polygon,\n",
    "  grid=grid,\n",
    "  crs=Crs.from_str('EPSG:4326')\n",
    ")"
   ],
   "outputs": []
  },
  {
   "cell_type": "markdown",
   "id": "fa27e67f9d801845",
   "metadata": {
    "collapsed": false,
    "papermill": {
     "duration": 0.002248,
     "end_time": "2024-05-15T16:00:10.185017",
     "exception": false,
     "start_time": "2024-05-15T16:00:10.182769",
     "status": "completed"
    },
    "tags": []
   },
   "source": [
    "## Setup Time Discretization"
   ]
  },
  {
   "cell_type": "code",
   "execution_count": 3,
   "id": "8e4e63dd138db9fc",
   "metadata": {
    "ExecuteTime": {
     "end_time": "2024-05-14T08:09:45.102717Z",
     "start_time": "2024-05-14T08:09:45.097986Z"
    },
    "collapsed": false,
    "execution": {
     "iopub.execute_input": "2024-05-15T16:00:10.190628Z",
     "iopub.status.busy": "2024-05-15T16:00:10.190455Z",
     "iopub.status.idle": "2024-05-15T16:00:10.193070Z",
     "shell.execute_reply": "2024-05-15T16:00:10.192744Z"
    },
    "papermill": {
     "duration": 0.006781,
     "end_time": "2024-05-15T16:00:10.194034",
     "exception": false,
     "start_time": "2024-05-15T16:00:10.187253",
     "status": "completed"
    },
    "tags": []
   },
   "source": [
    "from morpheus.project.types.discretization.time.TimeUnit import TimeUnit\n",
    "from morpheus.project.types.discretization.time.Stressperiods import StartDateTime, StressPeriodCollection, \\\n",
    "  StressPeriod, NumberOfTimeSteps, TimeStepMultiplier, IsSteadyState\n",
    "from morpheus.project.types.discretization.time import TimeDiscretization\n",
    "from datetime import datetime\n",
    "\n",
    "time_discretization = TimeDiscretization(\n",
    "  start_date_time=StartDateTime.from_datetime(datetime(2020, 1, 1)),\n",
    "  end_date_time=StartDateTime.from_datetime(datetime(2020, 12, 31)),\n",
    "  stress_periods=StressPeriodCollection([\n",
    "    StressPeriod(\n",
    "      start_date_time=StartDateTime.from_datetime(datetime(2020, 1, 1)),\n",
    "      number_of_time_steps=NumberOfTimeSteps(1),\n",
    "      time_step_multiplier=TimeStepMultiplier(1),\n",
    "      steady_state=IsSteadyState.yes()\n",
    "    ),\n",
    "  ]),\n",
    "  time_unit=TimeUnit.days()\n",
    ")"
   ],
   "outputs": []
  },
  {
   "cell_type": "markdown",
   "id": "963ba8729f09fcec",
   "metadata": {
    "collapsed": false,
    "papermill": {
     "duration": 0.002229,
     "end_time": "2024-05-15T16:00:10.198590",
     "exception": false,
     "start_time": "2024-05-15T16:00:10.196361",
     "status": "completed"
    },
    "tags": []
   },
   "source": [
    "# Setup Model"
   ]
  },
  {
   "cell_type": "code",
   "execution_count": 4,
   "id": "1d5c9125b1b9360b",
   "metadata": {
    "ExecuteTime": {
     "end_time": "2024-05-14T08:09:46.109625Z",
     "start_time": "2024-05-14T08:09:45.103442Z"
    },
    "collapsed": false,
    "execution": {
     "iopub.execute_input": "2024-05-15T16:00:10.204111Z",
     "iopub.status.busy": "2024-05-15T16:00:10.203971Z",
     "iopub.status.idle": "2024-05-15T16:00:10.509609Z",
     "shell.execute_reply": "2024-05-15T16:00:10.509238Z"
    },
    "papermill": {
     "duration": 0.309549,
     "end_time": "2024-05-15T16:00:10.510643",
     "exception": false,
     "start_time": "2024-05-15T16:00:10.201094",
     "status": "completed"
    },
    "tags": []
   },
   "source": [
    "from morpheus.project.types.Model import Model\n",
    "\n",
    "model = Model.new()\n",
    "model = model.with_updated_time_discretization(time_discretization)\n",
    "model = model.with_updated_spatial_discretization(spatial_discretization=spatial_discretization)"
   ],
   "outputs": []
  },
  {
   "cell_type": "code",
   "execution_count": 5,
   "id": "1540b870ae83f298",
   "metadata": {
    "ExecuteTime": {
     "end_time": "2024-05-14T08:09:46.336679Z",
     "start_time": "2024-05-14T08:09:46.114265Z"
    },
    "collapsed": false,
    "execution": {
     "iopub.execute_input": "2024-05-15T16:00:10.515589Z",
     "iopub.status.busy": "2024-05-15T16:00:10.515390Z",
     "iopub.status.idle": "2024-05-15T16:00:10.664973Z",
     "shell.execute_reply": "2024-05-15T16:00:10.664689Z"
    },
    "papermill": {
     "duration": 0.152937,
     "end_time": "2024-05-15T16:00:10.665840",
     "exception": false,
     "start_time": "2024-05-15T16:00:10.512903",
     "status": "completed"
    },
    "tags": []
   },
   "source": [
    "import folium\n",
    "\n",
    "m = folium.Map(tiles=\"cartodbpositron\", crs=\"EPSG3857\", zoom_start=12, location=[50.965, 13.922])\n",
    "m.add_child(folium.GeoJson(polygon.as_geojson()))\n",
    "\n",
    "m.fit_bounds(m.get_bounds())\n",
    "m"
   ],
   "outputs": []
  },
  {
   "cell_type": "markdown",
   "id": "62ae3587df801000",
   "metadata": {
    "collapsed": false,
    "papermill": {
     "duration": 0.002156,
     "end_time": "2024-05-15T16:00:10.670447",
     "exception": false,
     "start_time": "2024-05-15T16:00:10.668291",
     "status": "completed"
    },
    "tags": []
   },
   "source": [
    "# Setup constant head boundary with two observations"
   ]
  },
  {
   "cell_type": "code",
   "execution_count": 6,
   "id": "53679913aee28ce9",
   "metadata": {
    "ExecuteTime": {
     "end_time": "2024-05-14T08:09:48.261452Z",
     "start_time": "2024-05-14T08:09:46.338297Z"
    },
    "collapsed": false,
    "execution": {
     "iopub.execute_input": "2024-05-15T16:00:10.675123Z",
     "iopub.status.busy": "2024-05-15T16:00:10.674940Z",
     "iopub.status.idle": "2024-05-15T16:00:11.672707Z",
     "shell.execute_reply": "2024-05-15T16:00:11.672403Z"
    },
    "papermill": {
     "duration": 1.001241,
     "end_time": "2024-05-15T16:00:11.673720",
     "exception": false,
     "start_time": "2024-05-15T16:00:10.672479",
     "status": "completed"
    },
    "tags": []
   },
   "source": [
    "from morpheus.project.types.boundaries.Observation import ObservationName\n",
    "from morpheus.project.types.boundaries.ConstantHeadObservation import ObservationId, HeadValue, ConstantHeadRawDataItem\n",
    "from morpheus.project.types.geometry import Point\n",
    "from morpheus.project.types.boundaries.Boundary import BoundaryName, BoundaryCollection\n",
    "from morpheus.project.types.layers import LayerId\n",
    "from morpheus.project.types.boundaries.Boundary import ConstantHeadBoundary, ConstantHeadObservation\n",
    "\n",
    "layers_list = [LayerId.new()]\n",
    "\n",
    "constant_head_east = ConstantHeadBoundary.from_geometry(\n",
    "  name=BoundaryName('constant_head_east'),\n",
    "  geometry=LineString([\n",
    "    (13.92499, 50.966),\n",
    "    (13.92499, 50.964),\n",
    "  ]),\n",
    "  grid=grid,\n",
    "  affected_layers=[model.layers[0].layer_id],\n",
    "  observations=[\n",
    "    ConstantHeadObservation(\n",
    "      observation_id=ObservationId.new(),\n",
    "      observation_name=ObservationName.default(),\n",
    "      geometry=Point((13.92499, 50.966)),\n",
    "      data=[\n",
    "        ConstantHeadRawDataItem(\n",
    "          date_time=StartDateTime.from_datetime(datetime(2019, 1, 1)),\n",
    "          head=HeadValue.from_float(100),\n",
    "        ),\n",
    "        ConstantHeadRawDataItem(\n",
    "          date_time=StartDateTime.from_datetime(datetime(2021, 12, 31)),\n",
    "          head=HeadValue.from_float(100),\n",
    "        ),\n",
    "      ]\n",
    "    ),\n",
    "    ConstantHeadObservation(\n",
    "      observation_id=ObservationId.new(),\n",
    "      observation_name=ObservationName.default(),\n",
    "      geometry=Point((13.92499, 50.964)),\n",
    "      data=[\n",
    "        ConstantHeadRawDataItem(\n",
    "          date_time=StartDateTime.from_datetime(datetime(2019, 1, 1)),\n",
    "          head=HeadValue.from_float(200),\n",
    "        ),\n",
    "        ConstantHeadRawDataItem(\n",
    "          date_time=StartDateTime.from_datetime(datetime(2021, 12, 31)),\n",
    "          head=HeadValue.from_float(200),\n",
    "        ),\n",
    "      ]\n",
    "    ),\n",
    "  ]\n",
    ")\n",
    "\n",
    "constant_head_west = ConstantHeadBoundary.from_geometry(\n",
    "  name=BoundaryName('constant_head_west'),\n",
    "  geometry=LineString([\n",
    "    (13.92004, 50.96401),\n",
    "    (13.92004, 50.96599),\n",
    "  ]),\n",
    "  grid=grid,\n",
    "  affected_layers=[model.layers[0].layer_id],\n",
    "  observations=[\n",
    "    ConstantHeadObservation(\n",
    "      observation_id=ObservationId.new(),\n",
    "      observation_name=ObservationName.default(),\n",
    "      geometry=Point((13.92004, 50.96599)),\n",
    "      data=[\n",
    "        ConstantHeadRawDataItem(\n",
    "          date_time=StartDateTime.from_datetime(datetime(2019, 1, 1)),\n",
    "          head=HeadValue.from_float(300),\n",
    "        ),\n",
    "        ConstantHeadRawDataItem(\n",
    "          date_time=StartDateTime.from_datetime(datetime(2021, 12, 31)),\n",
    "          head=HeadValue.from_float(300),\n",
    "        ),\n",
    "      ]\n",
    "    ),\n",
    "    ConstantHeadObservation(\n",
    "      observation_id=ObservationId.new(),\n",
    "      observation_name=ObservationName.default(),\n",
    "      geometry=Point((13.92004, 50.96401)),\n",
    "      data=[\n",
    "        ConstantHeadRawDataItem(\n",
    "          date_time=StartDateTime.from_datetime(datetime(2019, 1, 1)),\n",
    "          head=HeadValue.from_float(400),\n",
    "        ),\n",
    "        ConstantHeadRawDataItem(\n",
    "          date_time=StartDateTime.from_datetime(datetime(2021, 12, 31)),\n",
    "          head=HeadValue.from_float(400),\n",
    "        ),\n",
    "      ]\n",
    "    ),\n",
    "  ]\n",
    ")\n",
    "\n",
    "boundary_collection = BoundaryCollection.new()\n",
    "boundary_collection.add_boundary(constant_head_west)\n",
    "boundary_collection.add_boundary(constant_head_east)\n",
    "\n",
    "model = model.with_updated_boundaries(boundaries=boundary_collection)\n",
    "\n",
    "m.add_child(folium.GeoJson(constant_head_east.as_geojson()))\n",
    "m.add_child(folium.GeoJson(constant_head_east.affected_cells.to_geojson(grid).as_geojson()))\n",
    "for observation in constant_head_east.observations:\n",
    "  m.add_child(folium.GeoJson(observation.as_geojson()))\n",
    "\n",
    "m.add_child(folium.GeoJson(constant_head_west.as_geojson()))\n",
    "m.add_child(folium.GeoJson(constant_head_west.affected_cells.to_geojson(grid).as_geojson()))\n",
    "for observation in constant_head_west.observations:\n",
    "  m.add_child(folium.GeoJson(observation.as_geojson()))\n",
    "m.fit_bounds(m.get_bounds())\n",
    "m"
   ],
   "outputs": []
  },
  {
   "cell_type": "code",
   "execution_count": 7,
   "id": "25b4324c4d166cd7",
   "metadata": {
    "ExecuteTime": {
     "end_time": "2024-05-14T08:09:48.270429Z",
     "start_time": "2024-05-14T08:09:48.263006Z"
    },
    "collapsed": false,
    "execution": {
     "iopub.execute_input": "2024-05-15T16:00:11.680778Z",
     "iopub.status.busy": "2024-05-15T16:00:11.680600Z",
     "iopub.status.idle": "2024-05-15T16:00:11.683014Z",
     "shell.execute_reply": "2024-05-15T16:00:11.682751Z"
    },
    "papermill": {
     "duration": 0.007119,
     "end_time": "2024-05-15T16:00:11.683977",
     "exception": false,
     "start_time": "2024-05-15T16:00:11.676858",
     "status": "completed"
    },
    "tags": []
   },
   "source": [
    "constant_head_east.observations"
   ],
   "outputs": []
  },
  {
   "cell_type": "code",
   "execution_count": 8,
   "id": "dc338472e1887a13",
   "metadata": {
    "ExecuteTime": {
     "end_time": "2024-05-14T08:09:49.032865Z",
     "start_time": "2024-05-14T08:09:48.272987Z"
    },
    "collapsed": false,
    "execution": {
     "iopub.execute_input": "2024-05-15T16:00:11.690414Z",
     "iopub.status.busy": "2024-05-15T16:00:11.690273Z",
     "iopub.status.idle": "2024-05-15T16:00:12.107944Z",
     "shell.execute_reply": "2024-05-15T16:00:12.107703Z"
    },
    "papermill": {
     "duration": 0.421879,
     "end_time": "2024-05-15T16:00:12.108811",
     "exception": false,
     "start_time": "2024-05-15T16:00:11.686932",
     "status": "completed"
    },
    "tags": []
   },
   "source": [
    "from morpheus.project.infrastructure.calculation.engines.modflow_2005.packages.ChdPackageMapper import \\\n",
    "  calculate_chd_boundary_stress_period_data\n",
    "\n",
    "result = calculate_chd_boundary_stress_period_data(\n",
    "  spatial_discretization=spatial_discretization,\n",
    "  time_discretization=time_discretization,\n",
    "  layers=model.layers,\n",
    "  chd_boundary=constant_head_west,\n",
    ")\n",
    "result.to_dict()"
   ],
   "outputs": []
  },
  {
   "cell_type": "code",
   "execution_count": 9,
   "id": "e7d13f116125151c",
   "metadata": {
    "ExecuteTime": {
     "end_time": "2024-05-14T08:09:49.175829Z",
     "start_time": "2024-05-14T08:09:49.033583Z"
    },
    "collapsed": false,
    "execution": {
     "iopub.execute_input": "2024-05-15T16:00:12.114740Z",
     "iopub.status.busy": "2024-05-15T16:00:12.114582Z",
     "iopub.status.idle": "2024-05-15T16:00:12.248890Z",
     "shell.execute_reply": "2024-05-15T16:00:12.248639Z"
    },
    "papermill": {
     "duration": 0.1382,
     "end_time": "2024-05-15T16:00:12.249730",
     "exception": false,
     "start_time": "2024-05-15T16:00:12.111530",
     "status": "completed"
    },
    "tags": []
   },
   "source": [
    "from morpheus.project.infrastructure.calculation.engines.modflow_2005.packages.ChdPackageMapper import \\\n",
    "  calculate_chd_boundary_stress_period_data\n",
    "\n",
    "result = calculate_chd_boundary_stress_period_data(\n",
    "  spatial_discretization=spatial_discretization,\n",
    "  time_discretization=time_discretization,\n",
    "  layers=model.layers,\n",
    "  chd_boundary=constant_head_east,\n",
    ")\n",
    "result.to_dict()"
   ],
   "outputs": []
  },
  {
   "cell_type": "markdown",
   "id": "42d948d145a8457a",
   "metadata": {
    "collapsed": false,
    "papermill": {
     "duration": 0.002567,
     "end_time": "2024-05-15T16:00:12.255109",
     "exception": false,
     "start_time": "2024-05-15T16:00:12.252542",
     "status": "completed"
    },
    "tags": []
   },
   "source": [
    "## Calculate"
   ]
  },
  {
   "cell_type": "code",
   "execution_count": 10,
   "id": "56ccabee86e2397e",
   "metadata": {
    "ExecuteTime": {
     "end_time": "2024-05-14T08:09:49.188681Z",
     "start_time": "2024-05-14T08:09:49.176586Z"
    },
    "collapsed": false,
    "execution": {
     "iopub.execute_input": "2024-05-15T16:00:12.260996Z",
     "iopub.status.busy": "2024-05-15T16:00:12.260843Z",
     "iopub.status.idle": "2024-05-15T16:00:12.271843Z",
     "shell.execute_reply": "2024-05-15T16:00:12.271587Z"
    },
    "papermill": {
     "duration": 0.015047,
     "end_time": "2024-05-15T16:00:12.272731",
     "exception": false,
     "start_time": "2024-05-15T16:00:12.257684",
     "status": "completed"
    },
    "tags": []
   },
   "source": [
    "from morpheus.project.types.calculation.CalculationProfile import CalculationProfile, CalculationEngineType\n",
    "from morpheus.project.types.calculation.Calculation import Calculation\n",
    "\n",
    "calculation_profile = CalculationProfile.new(engine_type=CalculationEngineType.MF2005)\n",
    "calculation = Calculation.new(model=model, calculation_profile=calculation_profile)"
   ],
   "outputs": []
  },
  {
   "cell_type": "code",
   "execution_count": 11,
   "id": "e09d94e0a94315cb",
   "metadata": {
    "ExecuteTime": {
     "end_time": "2024-05-14T08:09:49.194450Z",
     "start_time": "2024-05-14T08:09:49.189259Z"
    },
    "collapsed": false,
    "execution": {
     "iopub.execute_input": "2024-05-15T16:00:12.278286Z",
     "iopub.status.busy": "2024-05-15T16:00:12.278182Z",
     "iopub.status.idle": "2024-05-15T16:00:12.283307Z",
     "shell.execute_reply": "2024-05-15T16:00:12.283073Z"
    },
    "papermill": {
     "duration": 0.008677,
     "end_time": "2024-05-15T16:00:12.284033",
     "exception": false,
     "start_time": "2024-05-15T16:00:12.275356",
     "status": "completed"
    },
    "tags": []
   },
   "source": [
    "calculation = Calculation.from_dict(calculation.to_dict())\n",
    "calculation.calculation_id"
   ],
   "outputs": []
  },
  {
   "cell_type": "code",
   "execution_count": 12,
   "id": "672007fb90753c4c",
   "metadata": {
    "ExecuteTime": {
     "end_time": "2024-05-14T08:09:49.999552Z",
     "start_time": "2024-05-14T08:09:49.195063Z"
    },
    "collapsed": false,
    "execution": {
     "iopub.execute_input": "2024-05-15T16:00:12.289662Z",
     "iopub.status.busy": "2024-05-15T16:00:12.289560Z",
     "iopub.status.idle": "2024-05-15T16:00:12.924013Z",
     "shell.execute_reply": "2024-05-15T16:00:12.923715Z"
    },
    "papermill": {
     "duration": 0.638692,
     "end_time": "2024-05-15T16:00:12.925285",
     "exception": false,
     "start_time": "2024-05-15T16:00:12.286593",
     "status": "completed"
    },
    "tags": []
   },
   "source": [
    "from morpheus.project.infrastructure.calculation.services.CalculationService import CalculationService\n",
    "\n",
    "calculation_service = CalculationService.from_calculation(calculation)\n",
    "calculation_service.calculate()"
   ],
   "outputs": []
  },
  {
   "cell_type": "code",
   "execution_count": 13,
   "id": "a52d1dd3a1574032",
   "metadata": {
    "ExecuteTime": {
     "end_time": "2024-05-14T08:09:50.009831Z",
     "start_time": "2024-05-14T08:09:50.002994Z"
    },
    "collapsed": false,
    "execution": {
     "iopub.execute_input": "2024-05-15T16:00:12.932721Z",
     "iopub.status.busy": "2024-05-15T16:00:12.932394Z",
     "iopub.status.idle": "2024-05-15T16:00:12.934811Z",
     "shell.execute_reply": "2024-05-15T16:00:12.934589Z"
    },
    "papermill": {
     "duration": 0.006923,
     "end_time": "2024-05-15T16:00:12.935592",
     "exception": false,
     "start_time": "2024-05-15T16:00:12.928669",
     "status": "completed"
    },
    "tags": []
   },
   "source": [
    "calculation_service.get_result()"
   ],
   "outputs": []
  },
  {
   "cell_type": "code",
   "execution_count": 14,
   "id": "cc43ad077c7a81d0",
   "metadata": {
    "ExecuteTime": {
     "end_time": "2024-05-14T08:09:50.028561Z",
     "start_time": "2024-05-14T08:09:50.022985Z"
    },
    "collapsed": false,
    "execution": {
     "iopub.execute_input": "2024-05-15T16:00:12.942567Z",
     "iopub.status.busy": "2024-05-15T16:00:12.942437Z",
     "iopub.status.idle": "2024-05-15T16:00:12.944880Z",
     "shell.execute_reply": "2024-05-15T16:00:12.944647Z"
    },
    "papermill": {
     "duration": 0.006927,
     "end_time": "2024-05-15T16:00:12.945640",
     "exception": false,
     "start_time": "2024-05-15T16:00:12.938713",
     "status": "completed"
    },
    "tags": []
   },
   "source": [
    "head = calculation_service.read_head(0, 0)"
   ],
   "outputs": []
  },
  {
   "cell_type": "code",
   "execution_count": 15,
   "id": "12454cc4d9e18de5",
   "metadata": {
    "ExecuteTime": {
     "end_time": "2024-05-14T08:09:50.041463Z",
     "start_time": "2024-05-14T08:09:50.029654Z"
    },
    "collapsed": false,
    "execution": {
     "iopub.execute_input": "2024-05-15T16:00:12.952682Z",
     "iopub.status.busy": "2024-05-15T16:00:12.952566Z",
     "iopub.status.idle": "2024-05-15T16:00:12.957479Z",
     "shell.execute_reply": "2024-05-15T16:00:12.957277Z"
    },
    "papermill": {
     "duration": 0.009265,
     "end_time": "2024-05-15T16:00:12.958243",
     "exception": false,
     "start_time": "2024-05-15T16:00:12.948978",
     "status": "completed"
    },
    "tags": []
   },
   "source": [
    "import simplejson as json\n",
    "\n",
    "json = json.dumps(head, ignore_nan=True)\n",
    "json"
   ],
   "outputs": []
  },
  {
   "cell_type": "code",
   "execution_count": 16,
   "id": "df7dfd8ff0308815",
   "metadata": {
    "ExecuteTime": {
     "end_time": "2024-05-14T08:09:50.047351Z",
     "start_time": "2024-05-14T08:09:50.043348Z"
    },
    "collapsed": false,
    "execution": {
     "iopub.execute_input": "2024-05-15T16:00:12.965985Z",
     "iopub.status.busy": "2024-05-15T16:00:12.965877Z",
     "iopub.status.idle": "2024-05-15T16:00:12.967899Z",
     "shell.execute_reply": "2024-05-15T16:00:12.967691Z"
    },
    "papermill": {
     "duration": 0.006567,
     "end_time": "2024-05-15T16:00:12.968656",
     "exception": false,
     "start_time": "2024-05-15T16:00:12.962089",
     "status": "completed"
    },
    "tags": []
   },
   "source": [
    "calculation_service.read_drawdown(0, 0)"
   ],
   "outputs": []
  },
  {
   "cell_type": "code",
   "execution_count": 17,
   "id": "b233f4066b56c174",
   "metadata": {
    "ExecuteTime": {
     "end_time": "2024-05-14T08:09:50.055570Z",
     "start_time": "2024-05-14T08:09:50.049595Z"
    },
    "collapsed": false,
    "execution": {
     "iopub.execute_input": "2024-05-15T16:00:12.976153Z",
     "iopub.status.busy": "2024-05-15T16:00:12.976040Z",
     "iopub.status.idle": "2024-05-15T16:00:12.979241Z",
     "shell.execute_reply": "2024-05-15T16:00:12.979023Z"
    },
    "papermill": {
     "duration": 0.007816,
     "end_time": "2024-05-15T16:00:12.979957",
     "exception": false,
     "start_time": "2024-05-15T16:00:12.972141",
     "status": "completed"
    },
    "tags": []
   },
   "source": [
    "calculation_service.read_budget(0, False)"
   ],
   "outputs": []
  },
  {
   "cell_type": "code",
   "execution_count": 18,
   "id": "634709d741f5c252",
   "metadata": {
    "ExecuteTime": {
     "end_time": "2024-05-14T08:09:50.072297Z",
     "start_time": "2024-05-14T08:09:50.058799Z"
    },
    "collapsed": false,
    "execution": {
     "iopub.execute_input": "2024-05-15T16:00:12.987650Z",
     "iopub.status.busy": "2024-05-15T16:00:12.987553Z",
     "iopub.status.idle": "2024-05-15T16:00:12.990598Z",
     "shell.execute_reply": "2024-05-15T16:00:12.990398Z"
    },
    "papermill": {
     "duration": 0.007952,
     "end_time": "2024-05-15T16:00:12.991410",
     "exception": false,
     "start_time": "2024-05-15T16:00:12.983458",
     "status": "completed"
    },
    "tags": []
   },
   "source": [
    "calculation_service.read_budget(0, True)"
   ],
   "outputs": []
  },
  {
   "cell_type": "code",
   "execution_count": 19,
   "id": "26523066436690e6",
   "metadata": {
    "ExecuteTime": {
     "end_time": "2024-05-14T08:09:50.079466Z",
     "start_time": "2024-05-14T08:09:50.074841Z"
    },
    "collapsed": false,
    "execution": {
     "iopub.execute_input": "2024-05-15T16:00:12.999130Z",
     "iopub.status.busy": "2024-05-15T16:00:12.999019Z",
     "iopub.status.idle": "2024-05-15T16:00:13.000944Z",
     "shell.execute_reply": "2024-05-15T16:00:13.000735Z"
    },
    "papermill": {
     "duration": 0.006696,
     "end_time": "2024-05-15T16:00:13.001696",
     "exception": false,
     "start_time": "2024-05-15T16:00:12.995000",
     "status": "completed"
    },
    "tags": []
   },
   "source": [
    "calculation_service.get_result()"
   ],
   "outputs": []
  },
  {
   "cell_type": "code",
   "execution_count": 20,
   "id": "160abd7d290c83f7",
   "metadata": {
    "ExecuteTime": {
     "end_time": "2024-05-14T08:09:50.258516Z",
     "start_time": "2024-05-14T08:09:50.080196Z"
    },
    "collapsed": false,
    "execution": {
     "iopub.execute_input": "2024-05-15T16:00:13.009387Z",
     "iopub.status.busy": "2024-05-15T16:00:13.009281Z",
     "iopub.status.idle": "2024-05-15T16:00:13.146031Z",
     "shell.execute_reply": "2024-05-15T16:00:13.144040Z"
    },
    "papermill": {
     "duration": 0.143547,
     "end_time": "2024-05-15T16:00:13.148781",
     "exception": false,
     "start_time": "2024-05-15T16:00:13.005234",
     "status": "completed"
    },
    "tags": []
   },
   "source": [
    "import matplotlib.pyplot as plt\n",
    "\n",
    "heads = calculation_service.read_head(0, 0)\n",
    "plt.subplot(2, 1, 1)\n",
    "plt.imshow(heads, cmap='jet_r')\n",
    "plt.colorbar()\n",
    "plt.show()"
   ],
   "outputs": []
  }
 ],
 "metadata": {
  "kernelspec": {
   "display_name": "Python 3",
   "language": "python",
   "name": "python3"
  },
  "language_info": {
   "codemirror_mode": {
    "name": "ipython",
    "version": 3
   },
   "file_extension": ".py",
   "mimetype": "text/x-python",
   "name": "python",
   "nbconvert_exporter": "python",
   "pygments_lexer": "ipython3",
   "version": "3.12.2"
  },
  "papermill": {
   "default_parameters": {},
   "duration": 5.084649,
   "end_time": "2024-05-15T16:00:13.986018",
   "environment_variables": {},
   "exception": null,
   "input_path": "./notebooks/Test_ConstantHeadBoundary.ipynb",
   "output_path": "./notebooks/Test_ConstantHeadBoundary.ipynb",
   "parameters": {},
   "start_time": "2024-05-15T16:00:08.901369",
   "version": "2.6.0"
  }
 },
 "nbformat": 4,
 "nbformat_minor": 5
}
