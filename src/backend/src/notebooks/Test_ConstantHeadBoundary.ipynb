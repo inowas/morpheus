{
 "cells": [
  {
   "cell_type": "code",
   "execution_count": 1,
   "id": "ba6761fae9d5e5cb",
   "metadata": {
    "ExecuteTime": {
     "end_time": "2024-08-18T21:16:13.544466Z",
     "start_time": "2024-08-18T21:16:13.540181Z"
    },
    "collapsed": false,
    "execution": {
     "iopub.execute_input": "2024-08-19T20:02:09.149510Z",
     "iopub.status.busy": "2024-08-19T20:02:09.149366Z",
     "iopub.status.idle": "2024-08-19T20:02:09.151813Z",
     "shell.execute_reply": "2024-08-19T20:02:09.151559Z"
    },
    "papermill": {
     "duration": 0.012897,
     "end_time": "2024-08-19T20:02:09.152681",
     "exception": false,
     "start_time": "2024-08-19T20:02:09.139784",
     "status": "completed"
    },
    "tags": []
   },
   "outputs": [],
   "source": [
    "import sys\n",
    "\n",
    "sys.path.insert(0, '..')"
   ]
  },
  {
   "cell_type": "markdown",
   "id": "5ede1ba5e0993dd1",
   "metadata": {
    "collapsed": false,
    "papermill": {
     "duration": 0.002076,
     "end_time": "2024-08-19T20:02:09.157113",
     "exception": false,
     "start_time": "2024-08-19T20:02:09.155037",
     "status": "completed"
    },
    "tags": []
   },
   "source": [
    "## Setup the model area"
   ]
  },
  {
   "cell_type": "code",
   "execution_count": 2,
   "id": "2f69504ab35487aa",
   "metadata": {
    "ExecuteTime": {
     "end_time": "2024-08-18T21:16:13.737171Z",
     "start_time": "2024-08-18T21:16:13.552056Z"
    },
    "collapsed": false,
    "execution": {
     "iopub.execute_input": "2024-08-19T20:02:09.161739Z",
     "iopub.status.busy": "2024-08-19T20:02:09.161577Z",
     "iopub.status.idle": "2024-08-19T20:02:09.321234Z",
     "shell.execute_reply": "2024-08-19T20:02:09.318618Z"
    },
    "papermill": {
     "duration": 0.164727,
     "end_time": "2024-08-19T20:02:09.323804",
     "exception": false,
     "start_time": "2024-08-19T20:02:09.159077",
     "status": "completed"
    },
    "tags": []
   },
   "outputs": [
    {
     "name": "stdout",
     "output_type": "stream",
     "text": [
      "[(0, 0)] [(99, 0)]\n",
      "[(0, 1)] [(99, 1)]\n",
      "[(0, 2)] [(99, 2)]\n",
      "[(0, 3)] [(99, 3)]\n",
      "[(0, 4)] [(99, 4)]\n",
      "[(0, 5)] [(99, 5)]\n",
      "[(0, 6)] [(99, 6)]\n",
      "[(0, 7)] [(99, 7)]\n",
      "[(0, 8)] [(99, 8)]\n",
      "[(0, 9)] [(99, 9)]\n",
      "[(0, 10)] [(99, 10)]\n",
      "[(0, 11)] [(99, 11)]\n",
      "[(0, 12)] [(99, 12)]\n",
      "[(0, 13)] [(99, 13)]\n",
      "[(0, 14)] [(99, 14)]\n",
      "[(0, 15)] [(99, 15)]\n",
      "[(0, 16)] [(99, 16)]\n",
      "[(0, 17)] [(99, 17)]\n",
      "[(0, 18)] [(99, 18)]\n",
      "[(0, 19)] [(99, 19)]\n",
      "[(0, 20)] [(99, 20)]\n",
      "[(0, 21)] [(99, 21)]\n",
      "[(0, 22)] [(99, 22)]\n",
      "[(0, 23)] [(99, 23)]\n",
      "[(0, 24)] [(99, 24)]\n",
      "[(0, 25)] [(99, 25)]\n",
      "[(0, 26)] [(99, 26)]\n",
      "[(0, 27)] [(99, 27)]\n",
      "[(0, 28)] [(99, 28)]\n",
      "[(0, 29)] [(99, 29)]\n",
      "[(0, 30)] [(99, 30)]\n",
      "[(0, 31)] [(99, 31)]\n",
      "[(0, 32)] [(99, 32)]\n",
      "[(0, 33)] [(99, 33)]\n",
      "[(0, 34)] [(99, 34)]\n",
      "[(0, 35)] [(99, 35)]\n",
      "[(0, 36)] [(99, 36)]\n",
      "[(0, 37)] [(99, 37)]\n",
      "[(0, 38)] [(99, 38)]\n",
      "[(0, 39)] [(99, 39)]\n",
      "[(0, 40)] [(99, 40)]\n",
      "[(0, 41)] [(99, 41)]\n",
      "[(0, 42)] [(99, 42)]\n",
      "[(0, 43)] [(99, 43)]\n",
      "[(0, 44)] [(99, 44)]\n",
      "[(0, 45)] [(99, 45)]\n",
      "[(0, 46)] [(99, 46)]\n",
      "[(0, 47)] [(99, 47)]\n",
      "[(0, 48)] [(99, 48)]\n",
      "[(0, 49)] [(99, 49)]\n",
      "[(0, 0)] [(99, 0)]\n",
      "[(0, 1)] [(99, 1)]\n",
      "[(0, 2)] [(99, 2)]\n",
      "[(0, 3)] [(99, 3)]\n",
      "[(0, 4)] [(99, 4)]\n",
      "[(0, 5)] [(99, 5)]\n",
      "[(0, 6)] [(99, 6)]\n",
      "[(0, 7)] [(99, 7)]\n",
      "[(0, 8)] [(99, 8)]\n",
      "[(0, 9)] [(99, 9)]\n",
      "[(0, 10)] [(99, 10)]\n",
      "[(0, 11)] [(99, 11)]\n",
      "[(0, 12)] [(99, 12)]\n",
      "[(0, 13)] [(99, 13)]\n",
      "[(0, 14)] [(99, 14)]\n",
      "[(0, 15)] [(99, 15)]\n",
      "[(0, 16)] [(99, 16)]\n",
      "[(0, 17)] [(99, 17)]\n",
      "[(0, 18)] [(99, 18)]\n",
      "[(0, 19)] [(99, 19)]\n",
      "[(0, 20)] [(99, 20)]\n",
      "[(0, 21)] [(99, 21)]\n",
      "[(0, 22)] [(99, 22)]\n",
      "[(0, 23)] [(99, 23)]\n",
      "[(0, 24)] [(99, 24)]\n",
      "[(0, 25)] [(99, 25)]\n",
      "[(0, 26)] [(99, 26)]\n",
      "[(0, 27)] [(99, 27)]\n",
      "[(0, 28)] [(99, 28)]\n",
      "[(0, 29)] [(99, 29)]\n",
      "[(0, 30)] [(99, 30)]\n",
      "[(0, 31)] [(99, 31)]\n",
      "[(0, 32)] [(99, 32)]\n",
      "[(0, 33)] [(99, 33)]\n",
      "[(0, 34)] [(99, 34)]\n",
      "[(0, 35)] [(99, 35)]\n",
      "[(0, 36)] [(99, 36)]\n",
      "[(0, 37)] [(99, 37)]\n",
      "[(0, 38)] [(99, 38)]\n",
      "[(0, 39)] [(99, 39)]\n",
      "[(0, 40)] [(99, 40)]\n",
      "[(0, 41)] [(99, 41)]\n",
      "[(0, 42)] [(99, 42)]\n",
      "[(0, 43)] [(99, 43)]\n",
      "[(0, 44)] [(99, 44)]\n",
      "[(0, 45)] [(99, 45)]\n",
      "[(0, 46)] [(99, 46)]\n",
      "[(0, 47)] [(99, 47)]\n",
      "[(0, 48)] [(99, 48)]\n",
      "[(0, 49)] [(99, 49)]\n"
     ]
    }
   ],
   "source": [
    "from morpheus.project.types.discretization import SpatialDiscretization\n",
    "from morpheus.project.types.discretization.spatial import Rotation, Grid, Crs, ActiveCells\n",
    "from morpheus.project.types.geometry import Polygon, LineString\n",
    "\n",
    "polygon = Polygon(\n",
    "  type='Polygon',\n",
    "  coordinates=[[\n",
    "    (13.92, 50.964),\n",
    "    (13.92, 50.966),\n",
    "    (13.925, 50.966),\n",
    "    (13.925, 50.964),\n",
    "    (13.92, 50.964)\n",
    "  ]]\n",
    ")\n",
    "\n",
    "rotation = Rotation(0)\n",
    "\n",
    "grid = Grid.cartesian_from_polygon(polygon=polygon, n_cols=100, n_rows=50, rotation=rotation)\n",
    "spatial_discretization = SpatialDiscretization.from_geometry_with_grid(\n",
    "  geometry=polygon,\n",
    "  grid=grid,\n",
    "  crs=Crs.from_str('EPSG:4326')\n",
    ")\n",
    "\n",
    "affected_cells = ActiveCells.from_polygon(polygon=polygon, grid=grid)"
   ]
  },
  {
   "cell_type": "markdown",
   "id": "fa27e67f9d801845",
   "metadata": {
    "collapsed": false,
    "papermill": {
     "duration": 0.005433,
     "end_time": "2024-08-19T20:02:09.335760",
     "exception": false,
     "start_time": "2024-08-19T20:02:09.330327",
     "status": "completed"
    },
    "tags": []
   },
   "source": [
    "## Setup Time Discretization"
   ]
  },
  {
   "cell_type": "code",
   "execution_count": 3,
   "id": "8e4e63dd138db9fc",
   "metadata": {
    "ExecuteTime": {
     "end_time": "2024-08-18T21:16:13.902436Z",
     "start_time": "2024-08-18T21:16:13.898411Z"
    },
    "collapsed": false,
    "execution": {
     "iopub.execute_input": "2024-08-19T20:02:09.344960Z",
     "iopub.status.busy": "2024-08-19T20:02:09.344295Z",
     "iopub.status.idle": "2024-08-19T20:02:09.355544Z",
     "shell.execute_reply": "2024-08-19T20:02:09.354134Z"
    },
    "papermill": {
     "duration": 0.018589,
     "end_time": "2024-08-19T20:02:09.359191",
     "exception": false,
     "start_time": "2024-08-19T20:02:09.340602",
     "status": "completed"
    },
    "tags": []
   },
   "outputs": [],
   "source": [
    "from morpheus.project.types.discretization.time.TimeUnit import TimeUnit\n",
    "from morpheus.project.types.discretization.time.Stressperiods import StartDateTime, StressPeriodCollection, \\\n",
    "  StressPeriod, NumberOfTimeSteps, TimeStepMultiplier, IsSteadyState\n",
    "from morpheus.project.types.discretization.time import TimeDiscretization\n",
    "from datetime import datetime\n",
    "\n",
    "time_discretization = TimeDiscretization(\n",
    "  start_date_time=StartDateTime.from_datetime(datetime(2020, 1, 1)),\n",
    "  end_date_time=StartDateTime.from_datetime(datetime(2020, 12, 31)),\n",
    "  stress_periods=StressPeriodCollection([\n",
    "    StressPeriod(\n",
    "      start_date_time=StartDateTime.from_datetime(datetime(2020, 1, 1)),\n",
    "      number_of_time_steps=NumberOfTimeSteps(1),\n",
    "      time_step_multiplier=TimeStepMultiplier(1),\n",
    "      steady_state=IsSteadyState.yes()\n",
    "    ),\n",
    "  ]),\n",
    "  time_unit=TimeUnit.days()\n",
    ")"
   ]
  },
  {
   "cell_type": "markdown",
   "id": "963ba8729f09fcec",
   "metadata": {
    "collapsed": false,
    "papermill": {
     "duration": 0.007506,
     "end_time": "2024-08-19T20:02:09.372575",
     "exception": false,
     "start_time": "2024-08-19T20:02:09.365069",
     "status": "completed"
    },
    "tags": []
   },
   "source": [
    "# Setup Model"
   ]
  },
  {
   "cell_type": "code",
   "execution_count": 4,
   "id": "1d5c9125b1b9360b",
   "metadata": {
    "ExecuteTime": {
     "end_time": "2024-08-18T21:16:14.229100Z",
     "start_time": "2024-08-18T21:16:13.914031Z"
    },
    "collapsed": false,
    "execution": {
     "iopub.execute_input": "2024-08-19T20:02:09.385817Z",
     "iopub.status.busy": "2024-08-19T20:02:09.385459Z",
     "iopub.status.idle": "2024-08-19T20:02:09.711808Z",
     "shell.execute_reply": "2024-08-19T20:02:09.711468Z"
    },
    "papermill": {
     "duration": 0.334162,
     "end_time": "2024-08-19T20:02:09.712924",
     "exception": false,
     "start_time": "2024-08-19T20:02:09.378762",
     "status": "completed"
    },
    "tags": []
   },
   "outputs": [],
   "source": [
    "from morpheus.project.types.Model import Model\n",
    "\n",
    "model = Model.new()\n",
    "model = model.with_updated_time_discretization(time_discretization)\n",
    "model = model.with_updated_spatial_discretization(spatial_discretization=spatial_discretization)"
   ]
  },
  {
   "cell_type": "code",
   "execution_count": 5,
   "id": "1540b870ae83f298",
   "metadata": {
    "ExecuteTime": {
     "end_time": "2024-08-18T21:16:14.369607Z",
     "start_time": "2024-08-18T21:16:14.237446Z"
    },
    "collapsed": false,
    "execution": {
     "iopub.execute_input": "2024-08-19T20:02:09.717661Z",
     "iopub.status.busy": "2024-08-19T20:02:09.717479Z",
     "iopub.status.idle": "2024-08-19T20:02:09.865664Z",
     "shell.execute_reply": "2024-08-19T20:02:09.865365Z"
    },
    "papermill": {
     "duration": 0.151578,
     "end_time": "2024-08-19T20:02:09.866677",
     "exception": false,
     "start_time": "2024-08-19T20:02:09.715099",
     "status": "completed"
    },
    "tags": []
   },
   "outputs": [
    {
     "data": {
      "text/html": [
       "<div style=\"width:100%;\"><div style=\"position:relative;width:100%;height:0;padding-bottom:60%;\"><span style=\"color:#565656\">Make this Notebook Trusted to load map: File -> Trust Notebook</span><iframe srcdoc=\"&lt;!DOCTYPE html&gt;\n",
       "&lt;html&gt;\n",
       "&lt;head&gt;\n",
       "    \n",
       "    &lt;meta http-equiv=&quot;content-type&quot; content=&quot;text/html; charset=UTF-8&quot; /&gt;\n",
       "    \n",
       "        &lt;script&gt;\n",
       "            L_NO_TOUCH = false;\n",
       "            L_DISABLE_3D = false;\n",
       "        &lt;/script&gt;\n",
       "    \n",
       "    &lt;style&gt;html, body {width: 100%;height: 100%;margin: 0;padding: 0;}&lt;/style&gt;\n",
       "    &lt;style&gt;#map {position:absolute;top:0;bottom:0;right:0;left:0;}&lt;/style&gt;\n",
       "    &lt;script src=&quot;https://cdn.jsdelivr.net/npm/leaflet@1.9.3/dist/leaflet.js&quot;&gt;&lt;/script&gt;\n",
       "    &lt;script src=&quot;https://code.jquery.com/jquery-3.7.1.min.js&quot;&gt;&lt;/script&gt;\n",
       "    &lt;script src=&quot;https://cdn.jsdelivr.net/npm/bootstrap@5.2.2/dist/js/bootstrap.bundle.min.js&quot;&gt;&lt;/script&gt;\n",
       "    &lt;script src=&quot;https://cdnjs.cloudflare.com/ajax/libs/Leaflet.awesome-markers/2.0.2/leaflet.awesome-markers.js&quot;&gt;&lt;/script&gt;\n",
       "    &lt;link rel=&quot;stylesheet&quot; href=&quot;https://cdn.jsdelivr.net/npm/leaflet@1.9.3/dist/leaflet.css&quot;/&gt;\n",
       "    &lt;link rel=&quot;stylesheet&quot; href=&quot;https://cdn.jsdelivr.net/npm/bootstrap@5.2.2/dist/css/bootstrap.min.css&quot;/&gt;\n",
       "    &lt;link rel=&quot;stylesheet&quot; href=&quot;https://netdna.bootstrapcdn.com/bootstrap/3.0.0/css/bootstrap.min.css&quot;/&gt;\n",
       "    &lt;link rel=&quot;stylesheet&quot; href=&quot;https://cdn.jsdelivr.net/npm/@fortawesome/fontawesome-free@6.2.0/css/all.min.css&quot;/&gt;\n",
       "    &lt;link rel=&quot;stylesheet&quot; href=&quot;https://cdnjs.cloudflare.com/ajax/libs/Leaflet.awesome-markers/2.0.2/leaflet.awesome-markers.css&quot;/&gt;\n",
       "    &lt;link rel=&quot;stylesheet&quot; href=&quot;https://cdn.jsdelivr.net/gh/python-visualization/folium/folium/templates/leaflet.awesome.rotate.min.css&quot;/&gt;\n",
       "    \n",
       "            &lt;meta name=&quot;viewport&quot; content=&quot;width=device-width,\n",
       "                initial-scale=1.0, maximum-scale=1.0, user-scalable=no&quot; /&gt;\n",
       "            &lt;style&gt;\n",
       "                #map_ddf92ef0a8eb40a612f61ee6875182bc {\n",
       "                    position: relative;\n",
       "                    width: 100.0%;\n",
       "                    height: 100.0%;\n",
       "                    left: 0.0%;\n",
       "                    top: 0.0%;\n",
       "                }\n",
       "                .leaflet-container { font-size: 1rem; }\n",
       "            &lt;/style&gt;\n",
       "        \n",
       "&lt;/head&gt;\n",
       "&lt;body&gt;\n",
       "    \n",
       "    \n",
       "            &lt;div class=&quot;folium-map&quot; id=&quot;map_ddf92ef0a8eb40a612f61ee6875182bc&quot; &gt;&lt;/div&gt;\n",
       "        \n",
       "&lt;/body&gt;\n",
       "&lt;script&gt;\n",
       "    \n",
       "    \n",
       "            var map_ddf92ef0a8eb40a612f61ee6875182bc = L.map(\n",
       "                &quot;map_ddf92ef0a8eb40a612f61ee6875182bc&quot;,\n",
       "                {\n",
       "                    center: [50.965, 13.922],\n",
       "                    crs: L.CRS.EPSG3857,\n",
       "                    zoom: 12,\n",
       "                    zoomControl: true,\n",
       "                    preferCanvas: false,\n",
       "                }\n",
       "            );\n",
       "\n",
       "            \n",
       "\n",
       "        \n",
       "    \n",
       "            var tile_layer_32754ec2550a6b26821d0014bb979cf9 = L.tileLayer(\n",
       "                &quot;https://{s}.basemaps.cartocdn.com/light_all/{z}/{x}/{y}{r}.png&quot;,\n",
       "                {&quot;attribution&quot;: &quot;\\u0026copy; \\u003ca href=\\&quot;https://www.openstreetmap.org/copyright\\&quot;\\u003eOpenStreetMap\\u003c/a\\u003e contributors \\u0026copy; \\u003ca href=\\&quot;https://carto.com/attributions\\&quot;\\u003eCARTO\\u003c/a\\u003e&quot;, &quot;detectRetina&quot;: false, &quot;maxNativeZoom&quot;: 20, &quot;maxZoom&quot;: 20, &quot;minZoom&quot;: 0, &quot;noWrap&quot;: false, &quot;opacity&quot;: 1, &quot;subdomains&quot;: &quot;abcd&quot;, &quot;tms&quot;: false}\n",
       "            );\n",
       "        \n",
       "    \n",
       "            tile_layer_32754ec2550a6b26821d0014bb979cf9.addTo(map_ddf92ef0a8eb40a612f61ee6875182bc);\n",
       "        \n",
       "    \n",
       "\n",
       "        function geo_json_1f3771f7c481fe00aaeee5d19bfe71a7_onEachFeature(feature, layer) {\n",
       "            layer.on({\n",
       "            });\n",
       "        };\n",
       "        var geo_json_1f3771f7c481fe00aaeee5d19bfe71a7 = L.geoJson(null, {\n",
       "                onEachFeature: geo_json_1f3771f7c481fe00aaeee5d19bfe71a7_onEachFeature,\n",
       "            \n",
       "        });\n",
       "\n",
       "        function geo_json_1f3771f7c481fe00aaeee5d19bfe71a7_add (data) {\n",
       "            geo_json_1f3771f7c481fe00aaeee5d19bfe71a7\n",
       "                .addData(data);\n",
       "        }\n",
       "            geo_json_1f3771f7c481fe00aaeee5d19bfe71a7_add({&quot;coordinates&quot;: [[[13.92, 50.964], [13.92, 50.966], [13.925, 50.966], [13.925, 50.964], [13.92, 50.964]]], &quot;type&quot;: &quot;Polygon&quot;});\n",
       "\n",
       "        \n",
       "    \n",
       "            geo_json_1f3771f7c481fe00aaeee5d19bfe71a7.addTo(map_ddf92ef0a8eb40a612f61ee6875182bc);\n",
       "        \n",
       "    \n",
       "            map_ddf92ef0a8eb40a612f61ee6875182bc.fitBounds(\n",
       "                [[50.964, 13.92], [50.966, 13.925]],\n",
       "                {}\n",
       "            );\n",
       "        \n",
       "&lt;/script&gt;\n",
       "&lt;/html&gt;\" style=\"position:absolute;width:100%;height:100%;left:0;top:0;border:none !important;\" allowfullscreen webkitallowfullscreen mozallowfullscreen></iframe></div></div>"
      ],
      "text/plain": [
       "<folium.folium.Map at 0x126cfbdd0>"
      ]
     },
     "execution_count": 5,
     "metadata": {},
     "output_type": "execute_result"
    }
   ],
   "source": [
    "import folium\n",
    "\n",
    "m = folium.Map(tiles=\"cartodbpositron\", crs=\"EPSG3857\", zoom_start=12, location=[50.965, 13.922])\n",
    "m.add_child(folium.GeoJson(polygon.as_geojson()))\n",
    "\n",
    "m.fit_bounds(m.get_bounds())\n",
    "m"
   ]
  },
  {
   "cell_type": "markdown",
   "id": "62ae3587df801000",
   "metadata": {
    "collapsed": false,
    "papermill": {
     "duration": 0.002311,
     "end_time": "2024-08-19T20:02:09.871512",
     "exception": false,
     "start_time": "2024-08-19T20:02:09.869201",
     "status": "completed"
    },
    "tags": []
   },
   "source": [
    "# Setup constant head boundary with two observations"
   ]
  },
  {
   "cell_type": "code",
   "execution_count": 6,
   "id": "53679913aee28ce9",
   "metadata": {
    "ExecuteTime": {
     "end_time": "2024-08-18T21:16:15.296668Z",
     "start_time": "2024-08-18T21:16:14.377943Z"
    },
    "collapsed": false,
    "execution": {
     "iopub.execute_input": "2024-08-19T20:02:09.876440Z",
     "iopub.status.busy": "2024-08-19T20:02:09.876181Z",
     "iopub.status.idle": "2024-08-19T20:02:10.731999Z",
     "shell.execute_reply": "2024-08-19T20:02:10.731774Z"
    },
    "papermill": {
     "duration": 0.859399,
     "end_time": "2024-08-19T20:02:10.732956",
     "exception": false,
     "start_time": "2024-08-19T20:02:09.873557",
     "status": "completed"
    },
    "tags": []
   },
   "outputs": [
    {
     "data": {
      "text/html": [
       "<div style=\"width:100%;\"><div style=\"position:relative;width:100%;height:0;padding-bottom:60%;\"><span style=\"color:#565656\">Make this Notebook Trusted to load map: File -> Trust Notebook</span><iframe srcdoc=\"&lt;!DOCTYPE html&gt;\n",
       "&lt;html&gt;\n",
       "&lt;head&gt;\n",
       "    \n",
       "    &lt;meta http-equiv=&quot;content-type&quot; content=&quot;text/html; charset=UTF-8&quot; /&gt;\n",
       "    \n",
       "        &lt;script&gt;\n",
       "            L_NO_TOUCH = false;\n",
       "            L_DISABLE_3D = false;\n",
       "        &lt;/script&gt;\n",
       "    \n",
       "    &lt;style&gt;html, body {width: 100%;height: 100%;margin: 0;padding: 0;}&lt;/style&gt;\n",
       "    &lt;style&gt;#map {position:absolute;top:0;bottom:0;right:0;left:0;}&lt;/style&gt;\n",
       "    &lt;script src=&quot;https://cdn.jsdelivr.net/npm/leaflet@1.9.3/dist/leaflet.js&quot;&gt;&lt;/script&gt;\n",
       "    &lt;script src=&quot;https://code.jquery.com/jquery-3.7.1.min.js&quot;&gt;&lt;/script&gt;\n",
       "    &lt;script src=&quot;https://cdn.jsdelivr.net/npm/bootstrap@5.2.2/dist/js/bootstrap.bundle.min.js&quot;&gt;&lt;/script&gt;\n",
       "    &lt;script src=&quot;https://cdnjs.cloudflare.com/ajax/libs/Leaflet.awesome-markers/2.0.2/leaflet.awesome-markers.js&quot;&gt;&lt;/script&gt;\n",
       "    &lt;link rel=&quot;stylesheet&quot; href=&quot;https://cdn.jsdelivr.net/npm/leaflet@1.9.3/dist/leaflet.css&quot;/&gt;\n",
       "    &lt;link rel=&quot;stylesheet&quot; href=&quot;https://cdn.jsdelivr.net/npm/bootstrap@5.2.2/dist/css/bootstrap.min.css&quot;/&gt;\n",
       "    &lt;link rel=&quot;stylesheet&quot; href=&quot;https://netdna.bootstrapcdn.com/bootstrap/3.0.0/css/bootstrap.min.css&quot;/&gt;\n",
       "    &lt;link rel=&quot;stylesheet&quot; href=&quot;https://cdn.jsdelivr.net/npm/@fortawesome/fontawesome-free@6.2.0/css/all.min.css&quot;/&gt;\n",
       "    &lt;link rel=&quot;stylesheet&quot; href=&quot;https://cdnjs.cloudflare.com/ajax/libs/Leaflet.awesome-markers/2.0.2/leaflet.awesome-markers.css&quot;/&gt;\n",
       "    &lt;link rel=&quot;stylesheet&quot; href=&quot;https://cdn.jsdelivr.net/gh/python-visualization/folium/folium/templates/leaflet.awesome.rotate.min.css&quot;/&gt;\n",
       "    \n",
       "            &lt;meta name=&quot;viewport&quot; content=&quot;width=device-width,\n",
       "                initial-scale=1.0, maximum-scale=1.0, user-scalable=no&quot; /&gt;\n",
       "            &lt;style&gt;\n",
       "                #map_ddf92ef0a8eb40a612f61ee6875182bc {\n",
       "                    position: relative;\n",
       "                    width: 100.0%;\n",
       "                    height: 100.0%;\n",
       "                    left: 0.0%;\n",
       "                    top: 0.0%;\n",
       "                }\n",
       "                .leaflet-container { font-size: 1rem; }\n",
       "            &lt;/style&gt;\n",
       "        \n",
       "&lt;/head&gt;\n",
       "&lt;body&gt;\n",
       "    \n",
       "    \n",
       "            &lt;div class=&quot;folium-map&quot; id=&quot;map_ddf92ef0a8eb40a612f61ee6875182bc&quot; &gt;&lt;/div&gt;\n",
       "        \n",
       "&lt;/body&gt;\n",
       "&lt;script&gt;\n",
       "    \n",
       "    \n",
       "            var map_ddf92ef0a8eb40a612f61ee6875182bc = L.map(\n",
       "                &quot;map_ddf92ef0a8eb40a612f61ee6875182bc&quot;,\n",
       "                {\n",
       "                    center: [50.965, 13.922],\n",
       "                    crs: L.CRS.EPSG3857,\n",
       "                    zoom: 12,\n",
       "                    zoomControl: true,\n",
       "                    preferCanvas: false,\n",
       "                }\n",
       "            );\n",
       "\n",
       "            \n",
       "\n",
       "        \n",
       "    \n",
       "            var tile_layer_32754ec2550a6b26821d0014bb979cf9 = L.tileLayer(\n",
       "                &quot;https://{s}.basemaps.cartocdn.com/light_all/{z}/{x}/{y}{r}.png&quot;,\n",
       "                {&quot;attribution&quot;: &quot;\\u0026copy; \\u003ca href=\\&quot;https://www.openstreetmap.org/copyright\\&quot;\\u003eOpenStreetMap\\u003c/a\\u003e contributors \\u0026copy; \\u003ca href=\\&quot;https://carto.com/attributions\\&quot;\\u003eCARTO\\u003c/a\\u003e&quot;, &quot;detectRetina&quot;: false, &quot;maxNativeZoom&quot;: 20, &quot;maxZoom&quot;: 20, &quot;minZoom&quot;: 0, &quot;noWrap&quot;: false, &quot;opacity&quot;: 1, &quot;subdomains&quot;: &quot;abcd&quot;, &quot;tms&quot;: false}\n",
       "            );\n",
       "        \n",
       "    \n",
       "            tile_layer_32754ec2550a6b26821d0014bb979cf9.addTo(map_ddf92ef0a8eb40a612f61ee6875182bc);\n",
       "        \n",
       "    \n",
       "\n",
       "        function geo_json_1f3771f7c481fe00aaeee5d19bfe71a7_onEachFeature(feature, layer) {\n",
       "            layer.on({\n",
       "            });\n",
       "        };\n",
       "        var geo_json_1f3771f7c481fe00aaeee5d19bfe71a7 = L.geoJson(null, {\n",
       "                onEachFeature: geo_json_1f3771f7c481fe00aaeee5d19bfe71a7_onEachFeature,\n",
       "            \n",
       "        });\n",
       "\n",
       "        function geo_json_1f3771f7c481fe00aaeee5d19bfe71a7_add (data) {\n",
       "            geo_json_1f3771f7c481fe00aaeee5d19bfe71a7\n",
       "                .addData(data);\n",
       "        }\n",
       "            geo_json_1f3771f7c481fe00aaeee5d19bfe71a7_add({&quot;coordinates&quot;: [[[13.92, 50.964], [13.92, 50.966], [13.925, 50.966], [13.925, 50.964], [13.92, 50.964]]], &quot;type&quot;: &quot;Polygon&quot;});\n",
       "\n",
       "        \n",
       "    \n",
       "            geo_json_1f3771f7c481fe00aaeee5d19bfe71a7.addTo(map_ddf92ef0a8eb40a612f61ee6875182bc);\n",
       "        \n",
       "    \n",
       "            map_ddf92ef0a8eb40a612f61ee6875182bc.fitBounds(\n",
       "                [[50.964, 13.92], [50.966, 13.925]],\n",
       "                {}\n",
       "            );\n",
       "        \n",
       "    \n",
       "            tile_layer_32754ec2550a6b26821d0014bb979cf9.addTo(map_ddf92ef0a8eb40a612f61ee6875182bc);\n",
       "        \n",
       "    \n",
       "            geo_json_1f3771f7c481fe00aaeee5d19bfe71a7.addTo(map_ddf92ef0a8eb40a612f61ee6875182bc);\n",
       "        \n",
       "    \n",
       "\n",
       "        function geo_json_435abda38b15ac5b5115f56daf18f935_onEachFeature(feature, layer) {\n",
       "            layer.on({\n",
       "            });\n",
       "        };\n",
       "        var geo_json_435abda38b15ac5b5115f56daf18f935 = L.geoJson(null, {\n",
       "                onEachFeature: geo_json_435abda38b15ac5b5115f56daf18f935_onEachFeature,\n",
       "            \n",
       "        });\n",
       "\n",
       "        function geo_json_435abda38b15ac5b5115f56daf18f935_add (data) {\n",
       "            geo_json_435abda38b15ac5b5115f56daf18f935\n",
       "                .addData(data);\n",
       "        }\n",
       "            geo_json_435abda38b15ac5b5115f56daf18f935_add({&quot;coordinates&quot;: [[13.92499, 50.966], [13.92499, 50.964]], &quot;type&quot;: &quot;LineString&quot;});\n",
       "\n",
       "        \n",
       "    \n",
       "            geo_json_435abda38b15ac5b5115f56daf18f935.addTo(map_ddf92ef0a8eb40a612f61ee6875182bc);\n",
       "        \n",
       "    \n",
       "\n",
       "        function geo_json_fad84c452bb0fe3953d2cd8ce5678752_onEachFeature(feature, layer) {\n",
       "            layer.on({\n",
       "            });\n",
       "        };\n",
       "        var geo_json_fad84c452bb0fe3953d2cd8ce5678752 = L.geoJson(null, {\n",
       "                onEachFeature: geo_json_fad84c452bb0fe3953d2cd8ce5678752_onEachFeature,\n",
       "            \n",
       "        });\n",
       "\n",
       "        function geo_json_fad84c452bb0fe3953d2cd8ce5678752_add (data) {\n",
       "            geo_json_fad84c452bb0fe3953d2cd8ce5678752\n",
       "                .addData(data);\n",
       "        }\n",
       "            geo_json_fad84c452bb0fe3953d2cd8ce5678752_add({&quot;geometries&quot;: [{&quot;coordinates&quot;: [[[13.92495, 50.965999999999994], [13.925000000000002, 50.965999999999994], [13.925000000000002, 50.965960000843815], [13.92495, 50.965960000843815], [13.92495, 50.965999999999994]]], &quot;type&quot;: &quot;Polygon&quot;}, {&quot;coordinates&quot;: [[[13.92495, 50.965960000843815], [13.925000000000002, 50.965960000843815], [13.925000000000002, 50.965920001653195], [13.92495, 50.965920001653195], [13.92495, 50.965960000843815]]], &quot;type&quot;: &quot;Polygon&quot;}, {&quot;coordinates&quot;: [[[13.92495, 50.965920001653195], [13.925000000000002, 50.965920001653195], [13.925000000000002, 50.965880002428136], [13.92495, 50.965880002428136], [13.92495, 50.965920001653195]]], &quot;type&quot;: &quot;Polygon&quot;}, {&quot;coordinates&quot;: [[[13.92495, 50.965880002428136], [13.925000000000002, 50.965880002428136], [13.925000000000002, 50.96584000316863], [13.92495, 50.96584000316863], [13.92495, 50.965880002428136]]], &quot;type&quot;: &quot;Polygon&quot;}, {&quot;coordinates&quot;: [[[13.92495, 50.96584000316863], [13.925000000000002, 50.96584000316863], [13.925000000000002, 50.96580000387468], [13.92495, 50.96580000387468], [13.92495, 50.96584000316863]]], &quot;type&quot;: &quot;Polygon&quot;}, {&quot;coordinates&quot;: [[[13.92495, 50.96580000387468], [13.925000000000002, 50.96580000387468], [13.925000000000002, 50.965760004546304], [13.92495, 50.965760004546304], [13.92495, 50.96580000387468]]], &quot;type&quot;: &quot;Polygon&quot;}, {&quot;coordinates&quot;: [[[13.92495, 50.965760004546304], [13.925000000000002, 50.965760004546304], [13.925000000000002, 50.96572000518347], [13.92495, 50.96572000518347], [13.92495, 50.965760004546304]]], &quot;type&quot;: &quot;Polygon&quot;}, {&quot;coordinates&quot;: [[[13.92495, 50.96572000518347], [13.925000000000002, 50.96572000518347], [13.925000000000002, 50.9656800057862], [13.92495, 50.9656800057862], [13.92495, 50.96572000518347]]], &quot;type&quot;: &quot;Polygon&quot;}, {&quot;coordinates&quot;: [[[13.92495, 50.9656800057862], [13.925000000000002, 50.9656800057862], [13.925000000000002, 50.9656400063545], [13.92495, 50.9656400063545], [13.92495, 50.9656800057862]]], &quot;type&quot;: &quot;Polygon&quot;}, {&quot;coordinates&quot;: [[[13.92495, 50.9656400063545], [13.925000000000002, 50.9656400063545], [13.925000000000002, 50.965600006888344], [13.92495, 50.965600006888344], [13.92495, 50.9656400063545]]], &quot;type&quot;: &quot;Polygon&quot;}, {&quot;coordinates&quot;: [[[13.92495, 50.965600006888344], [13.925000000000002, 50.965600006888344], [13.925000000000002, 50.965560007387744], [13.92495, 50.965560007387744], [13.92495, 50.965600006888344]]], &quot;type&quot;: &quot;Polygon&quot;}, {&quot;coordinates&quot;: [[[13.92495, 50.965560007387744], [13.925000000000002, 50.965560007387744], [13.925000000000002, 50.96552000785271], [13.92495, 50.96552000785271], [13.92495, 50.965560007387744]]], &quot;type&quot;: &quot;Polygon&quot;}, {&quot;coordinates&quot;: [[[13.92495, 50.96552000785271], [13.925000000000002, 50.96552000785271], [13.925000000000002, 50.96548000828324], [13.92495, 50.96548000828324], [13.92495, 50.96552000785271]]], &quot;type&quot;: &quot;Polygon&quot;}, {&quot;coordinates&quot;: [[[13.92495, 50.96548000828324], [13.925000000000002, 50.96548000828324], [13.925000000000002, 50.965440008679316], [13.92495, 50.965440008679316], [13.92495, 50.96548000828324]]], &quot;type&quot;: &quot;Polygon&quot;}, {&quot;coordinates&quot;: [[[13.92495, 50.965440008679316], [13.925000000000002, 50.965440008679316], [13.925000000000002, 50.965400009040955], [13.92495, 50.965400009040955], [13.92495, 50.965440008679316]]], &quot;type&quot;: &quot;Polygon&quot;}, {&quot;coordinates&quot;: [[[13.92495, 50.965400009040955], [13.925000000000002, 50.965400009040955], [13.925000000000002, 50.965360009368155], [13.92495, 50.965360009368155], [13.92495, 50.965400009040955]]], &quot;type&quot;: &quot;Polygon&quot;}, {&quot;coordinates&quot;: [[[13.92495, 50.965360009368155], [13.925000000000002, 50.965360009368155], [13.925000000000002, 50.96532000966091], [13.92495, 50.96532000966091], [13.92495, 50.965360009368155]]], &quot;type&quot;: &quot;Polygon&quot;}, {&quot;coordinates&quot;: [[[13.92495, 50.96532000966091], [13.925000000000002, 50.96532000966091], [13.925000000000002, 50.965280009919226], [13.92495, 50.965280009919226], [13.92495, 50.96532000966091]]], &quot;type&quot;: &quot;Polygon&quot;}, {&quot;coordinates&quot;: [[[13.92495, 50.965280009919226], [13.925000000000002, 50.965280009919226], [13.925000000000002, 50.96524001014309], [13.92495, 50.96524001014309], [13.92495, 50.965280009919226]]], &quot;type&quot;: &quot;Polygon&quot;}, {&quot;coordinates&quot;: [[[13.92495, 50.96524001014309], [13.925000000000002, 50.96524001014309], [13.925000000000002, 50.96520001033253], [13.92495, 50.96520001033253], [13.92495, 50.96524001014309]]], &quot;type&quot;: &quot;Polygon&quot;}, {&quot;coordinates&quot;: [[[13.92495, 50.96520001033253], [13.925000000000002, 50.96520001033253], [13.925000000000002, 50.965160010487516], [13.92495, 50.965160010487516], [13.92495, 50.96520001033253]]], &quot;type&quot;: &quot;Polygon&quot;}, {&quot;coordinates&quot;: [[[13.92495, 50.965160010487516], [13.925000000000002, 50.965160010487516], [13.925000000000002, 50.96512001060807], [13.92495, 50.96512001060807], [13.92495, 50.965160010487516]]], &quot;type&quot;: &quot;Polygon&quot;}, {&quot;coordinates&quot;: [[[13.92495, 50.96512001060807], [13.925000000000002, 50.96512001060807], [13.925000000000002, 50.96508001069417], [13.92495, 50.96508001069417], [13.92495, 50.96512001060807]]], &quot;type&quot;: &quot;Polygon&quot;}, {&quot;coordinates&quot;: [[[13.92495, 50.96508001069417], [13.925000000000002, 50.96508001069417], [13.925000000000002, 50.96504001074583], [13.92495, 50.96504001074583], [13.92495, 50.96508001069417]]], &quot;type&quot;: &quot;Polygon&quot;}, {&quot;coordinates&quot;: [[[13.92495, 50.96504001074583], [13.925000000000002, 50.96504001074583], [13.925000000000002, 50.96500001076305], [13.92495, 50.96500001076305], [13.92495, 50.96504001074583]]], &quot;type&quot;: &quot;Polygon&quot;}, {&quot;coordinates&quot;: [[[13.92495, 50.96500001076305], [13.925000000000002, 50.96500001076305], [13.925000000000002, 50.964960010745834], [13.92495, 50.964960010745834], [13.92495, 50.96500001076305]]], &quot;type&quot;: &quot;Polygon&quot;}, {&quot;coordinates&quot;: [[[13.92495, 50.964960010745834], [13.925000000000002, 50.964960010745834], [13.925000000000002, 50.96492001069418], [13.92495, 50.96492001069418], [13.92495, 50.964960010745834]]], &quot;type&quot;: &quot;Polygon&quot;}, {&quot;coordinates&quot;: [[[13.92495, 50.96492001069418], [13.925000000000002, 50.96492001069418], [13.925000000000002, 50.96488001060807], [13.92495, 50.96488001060807], [13.92495, 50.96492001069418]]], &quot;type&quot;: &quot;Polygon&quot;}, {&quot;coordinates&quot;: [[[13.92495, 50.96488001060807], [13.925000000000002, 50.96488001060807], [13.925000000000002, 50.96484001048752], [13.92495, 50.96484001048752], [13.92495, 50.96488001060807]]], &quot;type&quot;: &quot;Polygon&quot;}, {&quot;coordinates&quot;: [[[13.92495, 50.96484001048752], [13.925000000000002, 50.96484001048752], [13.925000000000002, 50.964800010332546], [13.92495, 50.964800010332546], [13.92495, 50.96484001048752]]], &quot;type&quot;: &quot;Polygon&quot;}, {&quot;coordinates&quot;: [[[13.92495, 50.964800010332546], [13.925000000000002, 50.964800010332546], [13.925000000000002, 50.96476001014311], [13.92495, 50.96476001014311], [13.92495, 50.964800010332546]]], &quot;type&quot;: &quot;Polygon&quot;}, {&quot;coordinates&quot;: [[[13.92495, 50.96476001014311], [13.925000000000002, 50.96476001014311], [13.925000000000002, 50.96472000991924], [13.92495, 50.96472000991924], [13.92495, 50.96476001014311]]], &quot;type&quot;: &quot;Polygon&quot;}, {&quot;coordinates&quot;: [[[13.92495, 50.96472000991924], [13.925000000000002, 50.96472000991924], [13.925000000000002, 50.964680009660924], [13.92495, 50.964680009660924], [13.92495, 50.96472000991924]]], &quot;type&quot;: &quot;Polygon&quot;}, {&quot;coordinates&quot;: [[[13.92495, 50.964680009660924], [13.925000000000002, 50.964680009660924], [13.925000000000002, 50.96464000936817], [13.92495, 50.96464000936817], [13.92495, 50.964680009660924]]], &quot;type&quot;: &quot;Polygon&quot;}, {&quot;coordinates&quot;: [[[13.92495, 50.96464000936817], [13.925000000000002, 50.96464000936817], [13.925000000000002, 50.96460000904097], [13.92495, 50.96460000904097], [13.92495, 50.96464000936817]]], &quot;type&quot;: &quot;Polygon&quot;}, {&quot;coordinates&quot;: [[[13.92495, 50.96460000904097], [13.925000000000002, 50.96460000904097], [13.925000000000002, 50.96456000867934], [13.92495, 50.96456000867934], [13.92495, 50.96460000904097]]], &quot;type&quot;: &quot;Polygon&quot;}, {&quot;coordinates&quot;: [[[13.92495, 50.96456000867934], [13.925000000000002, 50.96456000867934], [13.925000000000002, 50.96452000828325], [13.92495, 50.96452000828325], [13.92495, 50.96456000867934]]], &quot;type&quot;: &quot;Polygon&quot;}, {&quot;coordinates&quot;: [[[13.92495, 50.96452000828325], [13.925000000000002, 50.96452000828325], [13.925000000000002, 50.964480007852735], [13.92495, 50.964480007852735], [13.92495, 50.96452000828325]]], &quot;type&quot;: &quot;Polygon&quot;}, {&quot;coordinates&quot;: [[[13.92495, 50.964480007852735], [13.925000000000002, 50.964480007852735], [13.925000000000002, 50.96444000738777], [13.92495, 50.96444000738777], [13.92495, 50.964480007852735]]], &quot;type&quot;: &quot;Polygon&quot;}, {&quot;coordinates&quot;: [[[13.92495, 50.96444000738777], [13.925000000000002, 50.96444000738777], [13.925000000000002, 50.96440000688836], [13.92495, 50.96440000688836], [13.92495, 50.96444000738777]]], &quot;type&quot;: &quot;Polygon&quot;}, {&quot;coordinates&quot;: [[[13.92495, 50.96440000688836], [13.925000000000002, 50.96440000688836], [13.925000000000002, 50.96436000635452], [13.92495, 50.96436000635452], [13.92495, 50.96440000688836]]], &quot;type&quot;: &quot;Polygon&quot;}, {&quot;coordinates&quot;: [[[13.92495, 50.96436000635452], [13.925000000000002, 50.96436000635452], [13.925000000000002, 50.96432000578623], [13.92495, 50.96432000578623], [13.92495, 50.96436000635452]]], &quot;type&quot;: &quot;Polygon&quot;}, {&quot;coordinates&quot;: [[[13.92495, 50.96432000578623], [13.925000000000002, 50.96432000578623], [13.925000000000002, 50.9642800051835], [13.92495, 50.9642800051835], [13.92495, 50.96432000578623]]], &quot;type&quot;: &quot;Polygon&quot;}, {&quot;coordinates&quot;: [[[13.92495, 50.9642800051835], [13.925000000000002, 50.9642800051835], [13.925000000000002, 50.96424000454632], [13.92495, 50.96424000454632], [13.92495, 50.9642800051835]]], &quot;type&quot;: &quot;Polygon&quot;}, {&quot;coordinates&quot;: [[[13.92495, 50.96424000454632], [13.925000000000002, 50.96424000454632], [13.925000000000002, 50.96420000387471], [13.92495, 50.96420000387471], [13.92495, 50.96424000454632]]], &quot;type&quot;: &quot;Polygon&quot;}, {&quot;coordinates&quot;: [[[13.92495, 50.96420000387471], [13.925000000000002, 50.96420000387471], [13.925000000000002, 50.964160003168644], [13.92495, 50.964160003168644], [13.92495, 50.96420000387471]]], &quot;type&quot;: &quot;Polygon&quot;}, {&quot;coordinates&quot;: [[[13.92495, 50.964160003168644], [13.925000000000002, 50.964160003168644], [13.925000000000002, 50.964120002428146], [13.92495, 50.964120002428146], [13.92495, 50.964160003168644]]], &quot;type&quot;: &quot;Polygon&quot;}, {&quot;coordinates&quot;: [[[13.92495, 50.964120002428146], [13.925000000000002, 50.964120002428146], [13.925000000000002, 50.96408000165321], [13.92495, 50.96408000165321], [13.92495, 50.964120002428146]]], &quot;type&quot;: &quot;Polygon&quot;}, {&quot;coordinates&quot;: [[[13.92495, 50.96408000165321], [13.925000000000002, 50.96408000165321], [13.925000000000002, 50.964040000843816], [13.92495, 50.964040000843816], [13.92495, 50.96408000165321]]], &quot;type&quot;: &quot;Polygon&quot;}, {&quot;coordinates&quot;: [[[13.92495, 50.964040000843816], [13.925000000000002, 50.964040000843816], [13.925000000000002, 50.96399999999999], [13.92495, 50.96399999999999], [13.92495, 50.964040000843816]]], &quot;type&quot;: &quot;Polygon&quot;}], &quot;type&quot;: &quot;GeometryCollection&quot;});\n",
       "\n",
       "        \n",
       "    \n",
       "            geo_json_fad84c452bb0fe3953d2cd8ce5678752.addTo(map_ddf92ef0a8eb40a612f61ee6875182bc);\n",
       "        \n",
       "    \n",
       "\n",
       "        function geo_json_1f8e0a415c40b0a860a9541bc2b99f15_onEachFeature(feature, layer) {\n",
       "            layer.on({\n",
       "            });\n",
       "        };\n",
       "        var geo_json_1f8e0a415c40b0a860a9541bc2b99f15 = L.geoJson(null, {\n",
       "                onEachFeature: geo_json_1f8e0a415c40b0a860a9541bc2b99f15_onEachFeature,\n",
       "            \n",
       "        });\n",
       "\n",
       "        function geo_json_1f8e0a415c40b0a860a9541bc2b99f15_add (data) {\n",
       "            geo_json_1f8e0a415c40b0a860a9541bc2b99f15\n",
       "                .addData(data);\n",
       "        }\n",
       "            geo_json_1f8e0a415c40b0a860a9541bc2b99f15_add({&quot;coordinates&quot;: [13.92499, 50.966], &quot;type&quot;: &quot;Point&quot;});\n",
       "\n",
       "        \n",
       "    \n",
       "            geo_json_1f8e0a415c40b0a860a9541bc2b99f15.addTo(map_ddf92ef0a8eb40a612f61ee6875182bc);\n",
       "        \n",
       "    \n",
       "\n",
       "        function geo_json_9e7a515128b61391d233772730208a4d_onEachFeature(feature, layer) {\n",
       "            layer.on({\n",
       "            });\n",
       "        };\n",
       "        var geo_json_9e7a515128b61391d233772730208a4d = L.geoJson(null, {\n",
       "                onEachFeature: geo_json_9e7a515128b61391d233772730208a4d_onEachFeature,\n",
       "            \n",
       "        });\n",
       "\n",
       "        function geo_json_9e7a515128b61391d233772730208a4d_add (data) {\n",
       "            geo_json_9e7a515128b61391d233772730208a4d\n",
       "                .addData(data);\n",
       "        }\n",
       "            geo_json_9e7a515128b61391d233772730208a4d_add({&quot;coordinates&quot;: [13.92499, 50.964], &quot;type&quot;: &quot;Point&quot;});\n",
       "\n",
       "        \n",
       "    \n",
       "            geo_json_9e7a515128b61391d233772730208a4d.addTo(map_ddf92ef0a8eb40a612f61ee6875182bc);\n",
       "        \n",
       "    \n",
       "\n",
       "        function geo_json_43b6cf7c02da9b72a5faaf8df6df1d01_onEachFeature(feature, layer) {\n",
       "            layer.on({\n",
       "            });\n",
       "        };\n",
       "        var geo_json_43b6cf7c02da9b72a5faaf8df6df1d01 = L.geoJson(null, {\n",
       "                onEachFeature: geo_json_43b6cf7c02da9b72a5faaf8df6df1d01_onEachFeature,\n",
       "            \n",
       "        });\n",
       "\n",
       "        function geo_json_43b6cf7c02da9b72a5faaf8df6df1d01_add (data) {\n",
       "            geo_json_43b6cf7c02da9b72a5faaf8df6df1d01\n",
       "                .addData(data);\n",
       "        }\n",
       "            geo_json_43b6cf7c02da9b72a5faaf8df6df1d01_add({&quot;coordinates&quot;: [[13.92004, 50.96401], [13.92004, 50.96599]], &quot;type&quot;: &quot;LineString&quot;});\n",
       "\n",
       "        \n",
       "    \n",
       "            geo_json_43b6cf7c02da9b72a5faaf8df6df1d01.addTo(map_ddf92ef0a8eb40a612f61ee6875182bc);\n",
       "        \n",
       "    \n",
       "\n",
       "        function geo_json_5873495c345eadb93249502a69cb77b5_onEachFeature(feature, layer) {\n",
       "            layer.on({\n",
       "            });\n",
       "        };\n",
       "        var geo_json_5873495c345eadb93249502a69cb77b5 = L.geoJson(null, {\n",
       "                onEachFeature: geo_json_5873495c345eadb93249502a69cb77b5_onEachFeature,\n",
       "            \n",
       "        });\n",
       "\n",
       "        function geo_json_5873495c345eadb93249502a69cb77b5_add (data) {\n",
       "            geo_json_5873495c345eadb93249502a69cb77b5\n",
       "                .addData(data);\n",
       "        }\n",
       "            geo_json_5873495c345eadb93249502a69cb77b5_add({&quot;geometries&quot;: [{&quot;coordinates&quot;: [[[13.920000000000002, 50.965999999999994], [13.920050000000002, 50.965999999999994], [13.920050000000002, 50.965960000843815], [13.920000000000002, 50.965960000843815], [13.920000000000002, 50.965999999999994]]], &quot;type&quot;: &quot;Polygon&quot;}, {&quot;coordinates&quot;: [[[13.920000000000002, 50.965960000843815], [13.920050000000002, 50.965960000843815], [13.920050000000002, 50.965920001653195], [13.920000000000002, 50.965920001653195], [13.920000000000002, 50.965960000843815]]], &quot;type&quot;: &quot;Polygon&quot;}, {&quot;coordinates&quot;: [[[13.920000000000002, 50.965920001653195], [13.920050000000002, 50.965920001653195], [13.920050000000002, 50.965880002428136], [13.920000000000002, 50.965880002428136], [13.920000000000002, 50.965920001653195]]], &quot;type&quot;: &quot;Polygon&quot;}, {&quot;coordinates&quot;: [[[13.920000000000002, 50.965880002428136], [13.920050000000002, 50.965880002428136], [13.920050000000002, 50.96584000316863], [13.920000000000002, 50.96584000316863], [13.920000000000002, 50.965880002428136]]], &quot;type&quot;: &quot;Polygon&quot;}, {&quot;coordinates&quot;: [[[13.920000000000002, 50.96584000316863], [13.920050000000002, 50.96584000316863], [13.920050000000002, 50.96580000387468], [13.920000000000002, 50.96580000387468], [13.920000000000002, 50.96584000316863]]], &quot;type&quot;: &quot;Polygon&quot;}, {&quot;coordinates&quot;: [[[13.920000000000002, 50.96580000387468], [13.920050000000002, 50.96580000387468], [13.920050000000002, 50.965760004546304], [13.920000000000002, 50.965760004546304], [13.920000000000002, 50.96580000387468]]], &quot;type&quot;: &quot;Polygon&quot;}, {&quot;coordinates&quot;: [[[13.920000000000002, 50.965760004546304], [13.920050000000002, 50.965760004546304], [13.920050000000002, 50.96572000518347], [13.920000000000002, 50.96572000518347], [13.920000000000002, 50.965760004546304]]], &quot;type&quot;: &quot;Polygon&quot;}, {&quot;coordinates&quot;: [[[13.920000000000002, 50.96572000518347], [13.920050000000002, 50.96572000518347], [13.920050000000002, 50.9656800057862], [13.920000000000002, 50.9656800057862], [13.920000000000002, 50.96572000518347]]], &quot;type&quot;: &quot;Polygon&quot;}, {&quot;coordinates&quot;: [[[13.920000000000002, 50.9656800057862], [13.920050000000002, 50.9656800057862], [13.920050000000002, 50.9656400063545], [13.920000000000002, 50.9656400063545], [13.920000000000002, 50.9656800057862]]], &quot;type&quot;: &quot;Polygon&quot;}, {&quot;coordinates&quot;: [[[13.920000000000002, 50.9656400063545], [13.920050000000002, 50.9656400063545], [13.920050000000002, 50.965600006888344], [13.920000000000002, 50.965600006888344], [13.920000000000002, 50.9656400063545]]], &quot;type&quot;: &quot;Polygon&quot;}, {&quot;coordinates&quot;: [[[13.920000000000002, 50.965600006888344], [13.920050000000002, 50.965600006888344], [13.920050000000002, 50.965560007387744], [13.920000000000002, 50.965560007387744], [13.920000000000002, 50.965600006888344]]], &quot;type&quot;: &quot;Polygon&quot;}, {&quot;coordinates&quot;: [[[13.920000000000002, 50.965560007387744], [13.920050000000002, 50.965560007387744], [13.920050000000002, 50.96552000785271], [13.920000000000002, 50.96552000785271], [13.920000000000002, 50.965560007387744]]], &quot;type&quot;: &quot;Polygon&quot;}, {&quot;coordinates&quot;: [[[13.920000000000002, 50.96552000785271], [13.920050000000002, 50.96552000785271], [13.920050000000002, 50.96548000828324], [13.920000000000002, 50.96548000828324], [13.920000000000002, 50.96552000785271]]], &quot;type&quot;: &quot;Polygon&quot;}, {&quot;coordinates&quot;: [[[13.920000000000002, 50.96548000828324], [13.920050000000002, 50.96548000828324], [13.920050000000002, 50.965440008679316], [13.920000000000002, 50.965440008679316], [13.920000000000002, 50.96548000828324]]], &quot;type&quot;: &quot;Polygon&quot;}, {&quot;coordinates&quot;: [[[13.920000000000002, 50.965440008679316], [13.920050000000002, 50.965440008679316], [13.920050000000002, 50.965400009040955], [13.920000000000002, 50.965400009040955], [13.920000000000002, 50.965440008679316]]], &quot;type&quot;: &quot;Polygon&quot;}, {&quot;coordinates&quot;: [[[13.920000000000002, 50.965400009040955], [13.920050000000002, 50.965400009040955], [13.920050000000002, 50.965360009368155], [13.920000000000002, 50.965360009368155], [13.920000000000002, 50.965400009040955]]], &quot;type&quot;: &quot;Polygon&quot;}, {&quot;coordinates&quot;: [[[13.920000000000002, 50.965360009368155], [13.920050000000002, 50.965360009368155], [13.920050000000002, 50.96532000966091], [13.920000000000002, 50.96532000966091], [13.920000000000002, 50.965360009368155]]], &quot;type&quot;: &quot;Polygon&quot;}, {&quot;coordinates&quot;: [[[13.920000000000002, 50.96532000966091], [13.920050000000002, 50.96532000966091], [13.920050000000002, 50.965280009919226], [13.920000000000002, 50.965280009919226], [13.920000000000002, 50.96532000966091]]], &quot;type&quot;: &quot;Polygon&quot;}, {&quot;coordinates&quot;: [[[13.920000000000002, 50.965280009919226], [13.920050000000002, 50.965280009919226], [13.920050000000002, 50.96524001014309], [13.920000000000002, 50.96524001014309], [13.920000000000002, 50.965280009919226]]], &quot;type&quot;: &quot;Polygon&quot;}, {&quot;coordinates&quot;: [[[13.920000000000002, 50.96524001014309], [13.920050000000002, 50.96524001014309], [13.920050000000002, 50.96520001033253], [13.920000000000002, 50.96520001033253], [13.920000000000002, 50.96524001014309]]], &quot;type&quot;: &quot;Polygon&quot;}, {&quot;coordinates&quot;: [[[13.920000000000002, 50.96520001033253], [13.920050000000002, 50.96520001033253], [13.920050000000002, 50.965160010487516], [13.920000000000002, 50.965160010487516], [13.920000000000002, 50.96520001033253]]], &quot;type&quot;: &quot;Polygon&quot;}, {&quot;coordinates&quot;: [[[13.920000000000002, 50.965160010487516], [13.920050000000002, 50.965160010487516], [13.920050000000002, 50.96512001060807], [13.920000000000002, 50.96512001060807], [13.920000000000002, 50.965160010487516]]], &quot;type&quot;: &quot;Polygon&quot;}, {&quot;coordinates&quot;: [[[13.920000000000002, 50.96512001060807], [13.920050000000002, 50.96512001060807], [13.920050000000002, 50.96508001069417], [13.920000000000002, 50.96508001069417], [13.920000000000002, 50.96512001060807]]], &quot;type&quot;: &quot;Polygon&quot;}, {&quot;coordinates&quot;: [[[13.920000000000002, 50.96508001069417], [13.920050000000002, 50.96508001069417], [13.920050000000002, 50.96504001074583], [13.920000000000002, 50.96504001074583], [13.920000000000002, 50.96508001069417]]], &quot;type&quot;: &quot;Polygon&quot;}, {&quot;coordinates&quot;: [[[13.920000000000002, 50.96504001074583], [13.920050000000002, 50.96504001074583], [13.920050000000002, 50.96500001076305], [13.920000000000002, 50.96500001076305], [13.920000000000002, 50.96504001074583]]], &quot;type&quot;: &quot;Polygon&quot;}, {&quot;coordinates&quot;: [[[13.920000000000002, 50.96500001076305], [13.920050000000002, 50.96500001076305], [13.920050000000002, 50.964960010745834], [13.920000000000002, 50.964960010745834], [13.920000000000002, 50.96500001076305]]], &quot;type&quot;: &quot;Polygon&quot;}, {&quot;coordinates&quot;: [[[13.920000000000002, 50.964960010745834], [13.920050000000002, 50.964960010745834], [13.920050000000002, 50.96492001069418], [13.920000000000002, 50.96492001069418], [13.920000000000002, 50.964960010745834]]], &quot;type&quot;: &quot;Polygon&quot;}, {&quot;coordinates&quot;: [[[13.920000000000002, 50.96492001069418], [13.920050000000002, 50.96492001069418], [13.920050000000002, 50.96488001060807], [13.920000000000002, 50.96488001060807], [13.920000000000002, 50.96492001069418]]], &quot;type&quot;: &quot;Polygon&quot;}, {&quot;coordinates&quot;: [[[13.920000000000002, 50.96488001060807], [13.920050000000002, 50.96488001060807], [13.920050000000002, 50.96484001048752], [13.920000000000002, 50.96484001048752], [13.920000000000002, 50.96488001060807]]], &quot;type&quot;: &quot;Polygon&quot;}, {&quot;coordinates&quot;: [[[13.920000000000002, 50.96484001048752], [13.920050000000002, 50.96484001048752], [13.920050000000002, 50.964800010332546], [13.920000000000002, 50.964800010332546], [13.920000000000002, 50.96484001048752]]], &quot;type&quot;: &quot;Polygon&quot;}, {&quot;coordinates&quot;: [[[13.920000000000002, 50.964800010332546], [13.920050000000002, 50.964800010332546], [13.920050000000002, 50.96476001014311], [13.920000000000002, 50.96476001014311], [13.920000000000002, 50.964800010332546]]], &quot;type&quot;: &quot;Polygon&quot;}, {&quot;coordinates&quot;: [[[13.920000000000002, 50.96476001014311], [13.920050000000002, 50.96476001014311], [13.920050000000002, 50.96472000991924], [13.920000000000002, 50.96472000991924], [13.920000000000002, 50.96476001014311]]], &quot;type&quot;: &quot;Polygon&quot;}, {&quot;coordinates&quot;: [[[13.920000000000002, 50.96472000991924], [13.920050000000002, 50.96472000991924], [13.920050000000002, 50.964680009660924], [13.920000000000002, 50.964680009660924], [13.920000000000002, 50.96472000991924]]], &quot;type&quot;: &quot;Polygon&quot;}, {&quot;coordinates&quot;: [[[13.920000000000002, 50.964680009660924], [13.920050000000002, 50.964680009660924], [13.920050000000002, 50.96464000936817], [13.920000000000002, 50.96464000936817], [13.920000000000002, 50.964680009660924]]], &quot;type&quot;: &quot;Polygon&quot;}, {&quot;coordinates&quot;: [[[13.920000000000002, 50.96464000936817], [13.920050000000002, 50.96464000936817], [13.920050000000002, 50.96460000904097], [13.920000000000002, 50.96460000904097], [13.920000000000002, 50.96464000936817]]], &quot;type&quot;: &quot;Polygon&quot;}, {&quot;coordinates&quot;: [[[13.920000000000002, 50.96460000904097], [13.920050000000002, 50.96460000904097], [13.920050000000002, 50.96456000867934], [13.920000000000002, 50.96456000867934], [13.920000000000002, 50.96460000904097]]], &quot;type&quot;: &quot;Polygon&quot;}, {&quot;coordinates&quot;: [[[13.920000000000002, 50.96456000867934], [13.920050000000002, 50.96456000867934], [13.920050000000002, 50.96452000828325], [13.920000000000002, 50.96452000828325], [13.920000000000002, 50.96456000867934]]], &quot;type&quot;: &quot;Polygon&quot;}, {&quot;coordinates&quot;: [[[13.920000000000002, 50.96452000828325], [13.920050000000002, 50.96452000828325], [13.920050000000002, 50.964480007852735], [13.920000000000002, 50.964480007852735], [13.920000000000002, 50.96452000828325]]], &quot;type&quot;: &quot;Polygon&quot;}, {&quot;coordinates&quot;: [[[13.920000000000002, 50.964480007852735], [13.920050000000002, 50.964480007852735], [13.920050000000002, 50.96444000738777], [13.920000000000002, 50.96444000738777], [13.920000000000002, 50.964480007852735]]], &quot;type&quot;: &quot;Polygon&quot;}, {&quot;coordinates&quot;: [[[13.920000000000002, 50.96444000738777], [13.920050000000002, 50.96444000738777], [13.920050000000002, 50.96440000688836], [13.920000000000002, 50.96440000688836], [13.920000000000002, 50.96444000738777]]], &quot;type&quot;: &quot;Polygon&quot;}, {&quot;coordinates&quot;: [[[13.920000000000002, 50.96440000688836], [13.920050000000002, 50.96440000688836], [13.920050000000002, 50.96436000635452], [13.920000000000002, 50.96436000635452], [13.920000000000002, 50.96440000688836]]], &quot;type&quot;: &quot;Polygon&quot;}, {&quot;coordinates&quot;: [[[13.920000000000002, 50.96436000635452], [13.920050000000002, 50.96436000635452], [13.920050000000002, 50.96432000578623], [13.920000000000002, 50.96432000578623], [13.920000000000002, 50.96436000635452]]], &quot;type&quot;: &quot;Polygon&quot;}, {&quot;coordinates&quot;: [[[13.920000000000002, 50.96432000578623], [13.920050000000002, 50.96432000578623], [13.920050000000002, 50.9642800051835], [13.920000000000002, 50.9642800051835], [13.920000000000002, 50.96432000578623]]], &quot;type&quot;: &quot;Polygon&quot;}, {&quot;coordinates&quot;: [[[13.920000000000002, 50.9642800051835], [13.920050000000002, 50.9642800051835], [13.920050000000002, 50.96424000454632], [13.920000000000002, 50.96424000454632], [13.920000000000002, 50.9642800051835]]], &quot;type&quot;: &quot;Polygon&quot;}, {&quot;coordinates&quot;: [[[13.920000000000002, 50.96424000454632], [13.920050000000002, 50.96424000454632], [13.920050000000002, 50.96420000387471], [13.920000000000002, 50.96420000387471], [13.920000000000002, 50.96424000454632]]], &quot;type&quot;: &quot;Polygon&quot;}, {&quot;coordinates&quot;: [[[13.920000000000002, 50.96420000387471], [13.920050000000002, 50.96420000387471], [13.920050000000002, 50.964160003168644], [13.920000000000002, 50.964160003168644], [13.920000000000002, 50.96420000387471]]], &quot;type&quot;: &quot;Polygon&quot;}, {&quot;coordinates&quot;: [[[13.920000000000002, 50.964160003168644], [13.920050000000002, 50.964160003168644], [13.920050000000002, 50.964120002428146], [13.920000000000002, 50.964120002428146], [13.920000000000002, 50.964160003168644]]], &quot;type&quot;: &quot;Polygon&quot;}, {&quot;coordinates&quot;: [[[13.920000000000002, 50.964120002428146], [13.920050000000002, 50.964120002428146], [13.920050000000002, 50.96408000165321], [13.920000000000002, 50.96408000165321], [13.920000000000002, 50.964120002428146]]], &quot;type&quot;: &quot;Polygon&quot;}, {&quot;coordinates&quot;: [[[13.920000000000002, 50.96408000165321], [13.920050000000002, 50.96408000165321], [13.920050000000002, 50.964040000843816], [13.920000000000002, 50.964040000843816], [13.920000000000002, 50.96408000165321]]], &quot;type&quot;: &quot;Polygon&quot;}, {&quot;coordinates&quot;: [[[13.920000000000002, 50.964040000843816], [13.920050000000002, 50.964040000843816], [13.920050000000002, 50.96399999999999], [13.920000000000002, 50.96399999999999], [13.920000000000002, 50.964040000843816]]], &quot;type&quot;: &quot;Polygon&quot;}], &quot;type&quot;: &quot;GeometryCollection&quot;});\n",
       "\n",
       "        \n",
       "    \n",
       "            geo_json_5873495c345eadb93249502a69cb77b5.addTo(map_ddf92ef0a8eb40a612f61ee6875182bc);\n",
       "        \n",
       "    \n",
       "\n",
       "        function geo_json_e7fc74a782a383bcde833fa7132e9114_onEachFeature(feature, layer) {\n",
       "            layer.on({\n",
       "            });\n",
       "        };\n",
       "        var geo_json_e7fc74a782a383bcde833fa7132e9114 = L.geoJson(null, {\n",
       "                onEachFeature: geo_json_e7fc74a782a383bcde833fa7132e9114_onEachFeature,\n",
       "            \n",
       "        });\n",
       "\n",
       "        function geo_json_e7fc74a782a383bcde833fa7132e9114_add (data) {\n",
       "            geo_json_e7fc74a782a383bcde833fa7132e9114\n",
       "                .addData(data);\n",
       "        }\n",
       "            geo_json_e7fc74a782a383bcde833fa7132e9114_add({&quot;coordinates&quot;: [13.92004, 50.96599], &quot;type&quot;: &quot;Point&quot;});\n",
       "\n",
       "        \n",
       "    \n",
       "            geo_json_e7fc74a782a383bcde833fa7132e9114.addTo(map_ddf92ef0a8eb40a612f61ee6875182bc);\n",
       "        \n",
       "    \n",
       "\n",
       "        function geo_json_2504dd34fc5ca0f8c79cd97b87373a05_onEachFeature(feature, layer) {\n",
       "            layer.on({\n",
       "            });\n",
       "        };\n",
       "        var geo_json_2504dd34fc5ca0f8c79cd97b87373a05 = L.geoJson(null, {\n",
       "                onEachFeature: geo_json_2504dd34fc5ca0f8c79cd97b87373a05_onEachFeature,\n",
       "            \n",
       "        });\n",
       "\n",
       "        function geo_json_2504dd34fc5ca0f8c79cd97b87373a05_add (data) {\n",
       "            geo_json_2504dd34fc5ca0f8c79cd97b87373a05\n",
       "                .addData(data);\n",
       "        }\n",
       "            geo_json_2504dd34fc5ca0f8c79cd97b87373a05_add({&quot;coordinates&quot;: [13.92004, 50.96401], &quot;type&quot;: &quot;Point&quot;});\n",
       "\n",
       "        \n",
       "    \n",
       "            geo_json_2504dd34fc5ca0f8c79cd97b87373a05.addTo(map_ddf92ef0a8eb40a612f61ee6875182bc);\n",
       "        \n",
       "    \n",
       "            map_ddf92ef0a8eb40a612f61ee6875182bc.fitBounds(\n",
       "                [[50.964, 13.92], [50.966, 13.925000000000002]],\n",
       "                {}\n",
       "            );\n",
       "        \n",
       "&lt;/script&gt;\n",
       "&lt;/html&gt;\" style=\"position:absolute;width:100%;height:100%;left:0;top:0;border:none !important;\" allowfullscreen webkitallowfullscreen mozallowfullscreen></iframe></div></div>"
      ],
      "text/plain": [
       "<folium.folium.Map at 0x126cfbdd0>"
      ]
     },
     "execution_count": 6,
     "metadata": {},
     "output_type": "execute_result"
    }
   ],
   "source": [
    "from morpheus.project.types.boundaries.Observation import ObservationName\n",
    "from morpheus.project.types.boundaries.ConstantHeadObservation import ObservationId, HeadValue, ConstantHeadObservationValue\n",
    "from morpheus.project.types.geometry import Point\n",
    "from morpheus.project.types.boundaries.Boundary import BoundaryName, BoundaryCollection\n",
    "from morpheus.project.types.layers import LayerId\n",
    "from morpheus.project.types.boundaries.Boundary import ConstantHeadBoundary, ConstantHeadObservation\n",
    "\n",
    "layers_list = [LayerId.new()]\n",
    "\n",
    "constant_head_east = ConstantHeadBoundary.from_geometry(\n",
    "  name=BoundaryName('constant_head_east'),\n",
    "  geometry=LineString([\n",
    "    (13.92499, 50.966),\n",
    "    (13.92499, 50.964),\n",
    "  ]),\n",
    "  grid=grid,\n",
    "  affected_layers=[model.layers[0].layer_id],\n",
    "  observations=[\n",
    "    ConstantHeadObservation(\n",
    "      observation_id=ObservationId.new(),\n",
    "      observation_name=ObservationName.default(),\n",
    "      geometry=Point((13.92499, 50.966)),\n",
    "      data=[\n",
    "        ConstantHeadObservationValue(\n",
    "          date_time=StartDateTime.from_datetime(datetime(2019, 1, 1)),\n",
    "          head=HeadValue.from_float(100),\n",
    "        ),\n",
    "        ConstantHeadObservationValue(\n",
    "          date_time=StartDateTime.from_datetime(datetime(2021, 12, 31)),\n",
    "          head=HeadValue.from_float(100),\n",
    "        ),\n",
    "      ]\n",
    "    ),\n",
    "    ConstantHeadObservation(\n",
    "      observation_id=ObservationId.new(),\n",
    "      observation_name=ObservationName.default(),\n",
    "      geometry=Point((13.92499, 50.964)),\n",
    "      data=[\n",
    "        ConstantHeadObservationValue(\n",
    "          date_time=StartDateTime.from_datetime(datetime(2019, 1, 1)),\n",
    "          head=HeadValue.from_float(200),\n",
    "        ),\n",
    "        ConstantHeadObservationValue(\n",
    "          date_time=StartDateTime.from_datetime(datetime(2021, 12, 31)),\n",
    "          head=HeadValue.from_float(200),\n",
    "        ),\n",
    "      ]\n",
    "    ),\n",
    "  ]\n",
    ")\n",
    "\n",
    "constant_head_west = ConstantHeadBoundary.from_geometry(\n",
    "  name=BoundaryName('constant_head_west'),\n",
    "  geometry=LineString([\n",
    "    (13.92004, 50.96401),\n",
    "    (13.92004, 50.96599),\n",
    "  ]),\n",
    "  grid=grid,\n",
    "  affected_layers=[model.layers[0].layer_id],\n",
    "  observations=[\n",
    "    ConstantHeadObservation(\n",
    "      observation_id=ObservationId.new(),\n",
    "      observation_name=ObservationName.default(),\n",
    "      geometry=Point((13.92004, 50.96599)),\n",
    "      data=[\n",
    "        ConstantHeadObservationValue(\n",
    "          date_time=StartDateTime.from_datetime(datetime(2019, 1, 1)),\n",
    "          head=HeadValue.from_float(300),\n",
    "        ),\n",
    "        ConstantHeadObservationValue(\n",
    "          date_time=StartDateTime.from_datetime(datetime(2021, 12, 31)),\n",
    "          head=HeadValue.from_float(300),\n",
    "        ),\n",
    "      ]\n",
    "    ),\n",
    "    ConstantHeadObservation(\n",
    "      observation_id=ObservationId.new(),\n",
    "      observation_name=ObservationName.default(),\n",
    "      geometry=Point((13.92004, 50.96401)),\n",
    "      data=[\n",
    "        ConstantHeadObservationValue(\n",
    "          date_time=StartDateTime.from_datetime(datetime(2019, 1, 1)),\n",
    "          head=HeadValue.from_float(400),\n",
    "        ),\n",
    "        ConstantHeadObservationValue(\n",
    "          date_time=StartDateTime.from_datetime(datetime(2021, 12, 31)),\n",
    "          head=HeadValue.from_float(400),\n",
    "        ),\n",
    "      ]\n",
    "    ),\n",
    "  ]\n",
    ")\n",
    "\n",
    "boundary_collection = BoundaryCollection.new()\n",
    "boundary_collection.add_boundary(constant_head_west)\n",
    "boundary_collection.add_boundary(constant_head_east)\n",
    "\n",
    "model = model.with_updated_boundaries(boundaries=boundary_collection)\n",
    "\n",
    "m.add_child(folium.GeoJson(constant_head_east.as_geojson()))\n",
    "m.add_child(folium.GeoJson(constant_head_east.affected_cells.to_geojson(grid).as_geojson()))\n",
    "for observation in constant_head_east.observations:\n",
    "  m.add_child(folium.GeoJson(observation.as_geojson()))\n",
    "\n",
    "m.add_child(folium.GeoJson(constant_head_west.as_geojson()))\n",
    "m.add_child(folium.GeoJson(constant_head_west.affected_cells.to_geojson(grid).as_geojson()))\n",
    "for observation in constant_head_west.observations:\n",
    "  m.add_child(folium.GeoJson(observation.as_geojson()))\n",
    "m.fit_bounds(m.get_bounds())\n",
    "m"
   ]
  },
  {
   "cell_type": "code",
   "execution_count": 7,
   "id": "25b4324c4d166cd7",
   "metadata": {
    "ExecuteTime": {
     "end_time": "2024-08-18T21:16:15.310423Z",
     "start_time": "2024-08-18T21:16:15.305720Z"
    },
    "collapsed": false,
    "execution": {
     "iopub.execute_input": "2024-08-19T20:02:10.738662Z",
     "iopub.status.busy": "2024-08-19T20:02:10.738533Z",
     "iopub.status.idle": "2024-08-19T20:02:10.740713Z",
     "shell.execute_reply": "2024-08-19T20:02:10.740485Z"
    },
    "papermill": {
     "duration": 0.005983,
     "end_time": "2024-08-19T20:02:10.741485",
     "exception": false,
     "start_time": "2024-08-19T20:02:10.735502",
     "status": "completed"
    },
    "tags": []
   },
   "outputs": [
    {
     "data": {
      "text/plain": [
       "[ConstantHeadObservation(observation_id=ObservationId(value='16368ca8-07e8-4b1d-bfea-2f51e9f00b51'), observation_name=ObservationName(value='Observation Point 1'), geometry=Point(coordinates=(13.92499, 50.966), type='Point'), data=[ConstantHeadObservationValue(date_time=StartDateTime(value=datetime.datetime(2019, 1, 1, 0, 0, tzinfo=datetime.timezone.utc)), head=HeadValue(value=100)), ConstantHeadObservationValue(date_time=StartDateTime(value=datetime.datetime(2021, 12, 31, 0, 0, tzinfo=datetime.timezone.utc)), head=HeadValue(value=100))]),\n",
       " ConstantHeadObservation(observation_id=ObservationId(value='c87da319-bde0-4430-9db7-2382fa1e3895'), observation_name=ObservationName(value='Observation Point 1'), geometry=Point(coordinates=(13.92499, 50.964), type='Point'), data=[ConstantHeadObservationValue(date_time=StartDateTime(value=datetime.datetime(2019, 1, 1, 0, 0, tzinfo=datetime.timezone.utc)), head=HeadValue(value=200)), ConstantHeadObservationValue(date_time=StartDateTime(value=datetime.datetime(2021, 12, 31, 0, 0, tzinfo=datetime.timezone.utc)), head=HeadValue(value=200))])]"
      ]
     },
     "execution_count": 7,
     "metadata": {},
     "output_type": "execute_result"
    }
   ],
   "source": [
    "constant_head_east.observations"
   ]
  },
  {
   "cell_type": "code",
   "execution_count": 8,
   "id": "dc338472e1887a13",
   "metadata": {
    "ExecuteTime": {
     "end_time": "2024-08-18T21:16:16.121945Z",
     "start_time": "2024-08-18T21:16:15.328331Z"
    },
    "collapsed": false,
    "execution": {
     "iopub.execute_input": "2024-08-19T20:02:10.746602Z",
     "iopub.status.busy": "2024-08-19T20:02:10.746501Z",
     "iopub.status.idle": "2024-08-19T20:02:11.207504Z",
     "shell.execute_reply": "2024-08-19T20:02:11.207248Z"
    },
    "papermill": {
     "duration": 0.464552,
     "end_time": "2024-08-19T20:02:11.208404",
     "exception": false,
     "start_time": "2024-08-19T20:02:10.743852",
     "status": "completed"
    },
    "tags": []
   },
   "outputs": [
    {
     "data": {
      "text/plain": [
       "{0: [[0, 0, 0, 300.5050289789967, 300.5050289789967],\n",
       "  [0, 1, 0, 302.5251892522284, 302.5251892522284],\n",
       "  [0, 2, 0, 304.54535126413674, 304.54535126413674],\n",
       "  [0, 3, 0, 306.5655150157982, 306.5655150157982],\n",
       "  [0, 4, 0, 308.5856805068539, 308.5856805068539],\n",
       "  [0, 5, 0, 310.60584773730386, 310.60584773730386],\n",
       "  [0, 6, 0, 312.62601670750695, 312.62601670750695],\n",
       "  [0, 7, 0, 314.6461874167454, 314.6461874167454],\n",
       "  [0, 8, 0, 316.66635986573704, 316.66635986573704],\n",
       "  [0, 9, 0, 318.68653405412294, 318.68653405412294],\n",
       "  [0, 10, 0, 320.70670998226194, 320.70670998226194],\n",
       "  [0, 11, 0, 322.72688764979523, 322.72688764979523],\n",
       "  [0, 12, 0, 324.7470670563639, 324.7470670563639],\n",
       "  [0, 13, 0, 326.7672482030445, 326.7672482030445],\n",
       "  [0, 14, 0, 328.7874310884017, 328.7874310884017],\n",
       "  [0, 15, 0, 330.80761571422977, 330.80761571422977],\n",
       "  [0, 16, 0, 332.8278020790932, 332.8278020790932],\n",
       "  [0, 17, 0, 334.847990182992, 334.847990182992],\n",
       "  [0, 18, 0, 336.8681800270029, 336.8681800270029],\n",
       "  [0, 19, 0, 338.88837161040794, 338.88837161040794],\n",
       "  [0, 20, 0, 340.90856493284844, 340.90856493284844],\n",
       "  [0, 21, 0, 342.9287599954009, 342.9287599954009],\n",
       "  [0, 22, 0, 344.9489567969888, 344.9489567969888],\n",
       "  [0, 23, 0, 346.9691553383298, 346.9691553383298],\n",
       "  [0, 24, 0, 348.9893556187062, 348.9893556187062],\n",
       "  [0, 25, 0, 351.0095576388357, 351.0095576388357],\n",
       "  [0, 26, 0, 353.0297613983595, 353.0297613983595],\n",
       "  [0, 27, 0, 355.0499668976364, 355.0499668976364],\n",
       "  [0, 28, 0, 357.07017413630757, 357.07017413630757],\n",
       "  [0, 29, 0, 359.090383114373, 359.090383114373],\n",
       "  [0, 30, 0, 361.1105938318327, 361.1105938318327],\n",
       "  [0, 31, 0, 363.1308062890455, 363.1308062890455],\n",
       "  [0, 32, 0, 365.1510204856526, 365.1510204856526],\n",
       "  [0, 33, 0, 367.17123642165393, 367.17123642165393],\n",
       "  [0, 34, 0, 369.1914540970496, 369.1914540970496],\n",
       "  [0, 35, 0, 371.2116735118394, 371.2116735118394],\n",
       "  [0, 36, 0, 373.23189466638246, 373.23189466638246],\n",
       "  [0, 37, 0, 375.2521175603197, 375.2521175603197],\n",
       "  [0, 38, 0, 377.27234219401004, 377.27234219401004],\n",
       "  [0, 39, 0, 379.29256856745354, 379.29256856745354],\n",
       "  [0, 40, 0, 381.31279667957364, 381.31279667957364],\n",
       "  [0, 41, 0, 383.33302653144676, 383.33302653144676],\n",
       "  [0, 42, 0, 385.35325812271424, 385.35325812271424],\n",
       "  [0, 43, 0, 387.3734914540936, 387.3734914540936],\n",
       "  [0, 44, 0, 389.39372652450845, 389.39372652450845],\n",
       "  [0, 45, 0, 391.4139633343175, 391.4139633343175],\n",
       "  [0, 46, 0, 393.4342018838797, 393.4342018838797],\n",
       "  [0, 47, 0, 395.45444217247734, 395.45444217247734],\n",
       "  [0, 48, 0, 397.4746842011869, 397.4746842011869],\n",
       "  [0, 49, 0, 399.4949279689319, 399.4949279689319]]}"
      ]
     },
     "execution_count": 8,
     "metadata": {},
     "output_type": "execute_result"
    }
   ],
   "source": [
    "from morpheus.project.infrastructure.calculation.engines.modflow_2005.packages.ChdPackageMapper import \\\n",
    "  calculate_chd_boundary_stress_period_data\n",
    "\n",
    "result = calculate_chd_boundary_stress_period_data(\n",
    "  spatial_discretization=spatial_discretization,\n",
    "  time_discretization=time_discretization,\n",
    "  layers=model.layers,\n",
    "  chd_boundary=constant_head_west,\n",
    ")\n",
    "result.to_dict()"
   ]
  },
  {
   "cell_type": "code",
   "execution_count": 9,
   "id": "e7d13f116125151c",
   "metadata": {
    "ExecuteTime": {
     "end_time": "2024-08-18T21:16:16.339302Z",
     "start_time": "2024-08-18T21:16:16.128253Z"
    },
    "collapsed": false,
    "execution": {
     "iopub.execute_input": "2024-08-19T20:02:11.213972Z",
     "iopub.status.busy": "2024-08-19T20:02:11.213810Z",
     "iopub.status.idle": "2024-08-19T20:02:11.419326Z",
     "shell.execute_reply": "2024-08-19T20:02:11.419052Z"
    },
    "papermill": {
     "duration": 0.209133,
     "end_time": "2024-08-19T20:02:11.420145",
     "exception": false,
     "start_time": "2024-08-19T20:02:11.211012",
     "status": "completed"
    },
    "tags": []
   },
   "outputs": [
    {
     "data": {
      "text/plain": [
       "{0: [[0, 0, 99, 100.99997868936319, 100.99997868936319],\n",
       "  [0, 1, 99, 102.99993735985626, 102.99993735985626],\n",
       "  [0, 2, 99, 104.99989775163911, 104.99989775163911],\n",
       "  [0, 3, 99, 106.99985986577755, 106.99985986577755],\n",
       "  [0, 4, 99, 108.99982370191631, 108.99982370191631],\n",
       "  [0, 5, 99, 110.9997892600554, 110.9997892600554],\n",
       "  [0, 6, 99, 112.99975654055007, 112.99975654055007],\n",
       "  [0, 7, 99, 114.99972554268979, 114.99972554268979],\n",
       "  [0, 8, 99, 116.9996962671851, 116.9996962671851],\n",
       "  [0, 9, 99, 118.99966871368073, 118.99966871368073],\n",
       "  [0, 10, 99, 120.99964288253196, 120.99964288253196],\n",
       "  [0, 11, 99, 122.9996187733835, 122.9996187733835],\n",
       "  [0, 12, 99, 124.9995963858801, 124.9995963858801],\n",
       "  [0, 13, 99, 126.99957572108755, 126.99957572108755],\n",
       "  [0, 14, 99, 128.9995567775848, 128.9995567775848],\n",
       "  [0, 15, 99, 130.99953955714815, 130.99953955714815],\n",
       "  [0, 16, 99, 132.99952405835657, 132.99952405835657],\n",
       "  [0, 17, 99, 134.99951028121004, 134.99951028121004],\n",
       "  [0, 18, 99, 136.99949822677436, 136.99949822677436],\n",
       "  [0, 19, 99, 138.999487894339, 138.999487894339],\n",
       "  [0, 20, 99, 140.9994792835487, 140.9994792835487],\n",
       "  [0, 21, 99, 142.99947239546927, 142.99947239546927],\n",
       "  [0, 22, 99, 144.99946722903488, 144.99946722903488],\n",
       "  [0, 23, 99, 146.99946378495608, 146.99946378495608],\n",
       "  [0, 24, 99, 148.99946206252233, 148.99946206252233],\n",
       "  [0, 25, 99, 150.99946206244417, 150.99946206244417],\n",
       "  [0, 26, 99, 152.99946378436633, 152.99946378436633],\n",
       "  [0, 27, 99, 154.99946722864408, 154.99946722864408],\n",
       "  [0, 28, 99, 156.99947239492215, 156.99947239492215],\n",
       "  [0, 29, 99, 158.99947928320054, 158.99947928320054],\n",
       "  [0, 30, 99, 160.99948789347926, 160.99948789347926],\n",
       "  [0, 31, 99, 162.99949822611356, 162.99949822611356],\n",
       "  [0, 32, 99, 164.99951028074815, 164.99951028074815],\n",
       "  [0, 33, 99, 166.99952405738313, 166.99952405738313],\n",
       "  [0, 34, 99, 168.9995395560184, 168.9995395560184],\n",
       "  [0, 35, 99, 170.99955677665398, 170.99955677665398],\n",
       "  [0, 36, 99, 172.99957571964515, 172.99957571964515],\n",
       "  [0, 37, 99, 174.99959638463665, 174.99959638463665],\n",
       "  [0, 38, 99, 176.9996187719837, 176.9996187719837],\n",
       "  [0, 39, 99, 178.9996428816864, 178.9996428816864],\n",
       "  [0, 40, 99, 180.99966871267887, 180.99966871267887],\n",
       "  [0, 41, 99, 182.99969626602692, 182.99969626602692],\n",
       "  [0, 42, 99, 184.9997255413753, 184.9997255413753],\n",
       "  [0, 43, 99, 186.99975653943451, 186.99975653943451],\n",
       "  [0, 44, 99, 188.9997892591388, 188.9997892591388],\n",
       "  [0, 45, 99, 190.9998237008434, 190.9998237008434],\n",
       "  [0, 46, 99, 192.99985986490358, 192.99985986490358],\n",
       "  [0, 47, 99, 194.99989775060882, 194.99989775060882],\n",
       "  [0, 48, 99, 196.99993735902493, 196.99993735902493],\n",
       "  [0, 49, 99, 198.99997868908608, 198.99997868908608]]}"
      ]
     },
     "execution_count": 9,
     "metadata": {},
     "output_type": "execute_result"
    }
   ],
   "source": [
    "from morpheus.project.infrastructure.calculation.engines.modflow_2005.packages.ChdPackageMapper import \\\n",
    "  calculate_chd_boundary_stress_period_data\n",
    "\n",
    "result = calculate_chd_boundary_stress_period_data(\n",
    "  spatial_discretization=spatial_discretization,\n",
    "  time_discretization=time_discretization,\n",
    "  layers=model.layers,\n",
    "  chd_boundary=constant_head_east,\n",
    ")\n",
    "result.to_dict()"
   ]
  },
  {
   "cell_type": "markdown",
   "id": "42d948d145a8457a",
   "metadata": {
    "collapsed": false,
    "papermill": {
     "duration": 0.002337,
     "end_time": "2024-08-19T20:02:11.425142",
     "exception": false,
     "start_time": "2024-08-19T20:02:11.422805",
     "status": "completed"
    },
    "tags": []
   },
   "source": [
    "## Calculate"
   ]
  },
  {
   "cell_type": "code",
   "execution_count": 10,
   "id": "56ccabee86e2397e",
   "metadata": {
    "ExecuteTime": {
     "end_time": "2024-08-18T21:16:17.114206Z",
     "start_time": "2024-08-18T21:16:16.344905Z"
    },
    "collapsed": false,
    "execution": {
     "iopub.execute_input": "2024-08-19T20:02:11.430515Z",
     "iopub.status.busy": "2024-08-19T20:02:11.430395Z",
     "iopub.status.idle": "2024-08-19T20:02:12.083213Z",
     "shell.execute_reply": "2024-08-19T20:02:12.082958Z"
    },
    "papermill": {
     "duration": 0.65657,
     "end_time": "2024-08-19T20:02:12.084067",
     "exception": false,
     "start_time": "2024-08-19T20:02:11.427497",
     "status": "completed"
    },
    "tags": []
   },
   "outputs": [
    {
     "data": {
      "text/plain": [
       "['type,package,k,i,j,value,desc']"
      ]
     },
     "execution_count": 10,
     "metadata": {},
     "output_type": "execute_result"
    }
   ],
   "source": [
    "from morpheus.project.infrastructure.calculation.engines.base.CalculationEngineFactory import CalculationEngineFactory\n",
    "from morpheus.project.types.calculation.CalculationProfile import CalculationProfile, CalculationEngineType\n",
    "from morpheus.project.types.calculation.Calculation import CalculationId\n",
    "\n",
    "calculation_id = CalculationId.new()\n",
    "calculation_profile = CalculationProfile.new(CalculationEngineType.MF2005)\n",
    "engine = CalculationEngineFactory.create_engine(calculation_id=calculation_id, engine_type=calculation_profile.engine_type)\n",
    "check_model_log = engine.preprocess(model, calculation_profile)\n",
    "check_model_log.to_list()"
   ]
  },
  {
   "cell_type": "code",
   "execution_count": 11,
   "id": "e09d94e0a94315cb",
   "metadata": {
    "ExecuteTime": {
     "end_time": "2024-08-18T21:16:17.789229Z",
     "start_time": "2024-08-18T21:16:17.120287Z"
    },
    "collapsed": false,
    "execution": {
     "iopub.execute_input": "2024-08-19T20:02:12.089657Z",
     "iopub.status.busy": "2024-08-19T20:02:12.089545Z",
     "iopub.status.idle": "2024-08-19T20:02:12.532818Z",
     "shell.execute_reply": "2024-08-19T20:02:12.532529Z"
    },
    "papermill": {
     "duration": 0.446963,
     "end_time": "2024-08-19T20:02:12.533665",
     "exception": false,
     "start_time": "2024-08-19T20:02:12.086702",
     "status": "completed"
    },
    "tags": []
   },
   "outputs": [
    {
     "name": "stdout",
     "output_type": "stream",
     "text": [
      "FloPy is using the following executable to run the model: ../../../../../../../src/backend/.venv/bin/mf2005\n",
      "\n",
      "                                  MODFLOW-2005     \n",
      "    U.S. GEOLOGICAL SURVEY MODULAR FINITE-DIFFERENCE GROUND-WATER FLOW MODEL\n",
      "                             Version 1.12.00 2/3/2017                        \n",
      "\n",
      " Using NAME file: mf2005.nam \n",
      " Run start date and time (yyyy/mm/dd hh:mm:ss): 2024/08/19 22:02:12\n",
      "\n",
      " Solving:  Stress period:     1    Time step:     1    Ground-Water Flow Eqn.\n",
      " Run end date and time (yyyy/mm/dd hh:mm:ss): 2024/08/19 22:02:12\n",
      " Elapsed run time:  0.014 Seconds\n",
      "\n",
      "  Normal termination of simulation\n"
     ]
    }
   ],
   "source": [
    "log, result = engine.run(model=model, calculation_profile=calculation_profile)"
   ]
  },
  {
   "cell_type": "code",
   "execution_count": 12,
   "id": "a52d1dd3a1574032",
   "metadata": {
    "ExecuteTime": {
     "end_time": "2024-08-18T21:16:17.805274Z",
     "start_time": "2024-08-18T21:16:17.801472Z"
    },
    "collapsed": false,
    "execution": {
     "iopub.execute_input": "2024-08-19T20:02:12.539837Z",
     "iopub.status.busy": "2024-08-19T20:02:12.539679Z",
     "iopub.status.idle": "2024-08-19T20:02:12.542272Z",
     "shell.execute_reply": "2024-08-19T20:02:12.541965Z"
    },
    "papermill": {
     "duration": 0.006729,
     "end_time": "2024-08-19T20:02:12.543068",
     "exception": false,
     "start_time": "2024-08-19T20:02:12.536339",
     "status": "completed"
    },
    "tags": []
   },
   "outputs": [
    {
     "data": {
      "text/plain": [
       "CalculationResult(type=<CalculationResultType.SUCCESS: 'success'>, message='Calculation finished successfully', files=['mf2005.list', 'mf2005.chd', 'mf2005.dis', 'mf2005.nam', 'mf2005.bas', 'mf2005.lpf', 'mf2005.pcg', 'mf2005.oc', 'mf2005.hds'], flow_head_results=AvailableResults(times=[365.0], kstpkper=[(0, 0)], number_of_layers=1, number_of_observations=0, min_value=100.9999771118164, max_value=399.49493408203125), flow_drawdown_results=None, flow_budget_results=AvailableResults(times=[365.0], kstpkper=[(0, 0)], number_of_layers=0, number_of_observations=0, min_value=None, max_value=None), transport_concentration_results=None, transport_budget_results=None, packages=['DIS', 'BAS6', 'CHD', 'PCG', 'LPF', 'OC'])"
      ]
     },
     "execution_count": 12,
     "metadata": {},
     "output_type": "execute_result"
    }
   ],
   "source": [
    "result"
   ]
  },
  {
   "cell_type": "code",
   "execution_count": 13,
   "id": "cc43ad077c7a81d0",
   "metadata": {
    "ExecuteTime": {
     "end_time": "2024-08-18T21:16:17.815198Z",
     "start_time": "2024-08-18T21:16:17.811905Z"
    },
    "collapsed": false,
    "execution": {
     "iopub.execute_input": "2024-08-19T20:02:12.549361Z",
     "iopub.status.busy": "2024-08-19T20:02:12.549221Z",
     "iopub.status.idle": "2024-08-19T20:02:12.551596Z",
     "shell.execute_reply": "2024-08-19T20:02:12.551352Z"
    },
    "papermill": {
     "duration": 0.006405,
     "end_time": "2024-08-19T20:02:12.552380",
     "exception": false,
     "start_time": "2024-08-19T20:02:12.545975",
     "status": "completed"
    },
    "tags": []
   },
   "outputs": [],
   "source": [
    "head = engine.read_flow_head(idx=0, layer=0)"
   ]
  },
  {
   "cell_type": "code",
   "execution_count": 14,
   "id": "12454cc4d9e18de5",
   "metadata": {
    "ExecuteTime": {
     "end_time": "2024-08-18T21:16:17.829499Z",
     "start_time": "2024-08-18T21:16:17.822282Z"
    },
    "collapsed": false,
    "execution": {
     "iopub.execute_input": "2024-08-19T20:02:12.558802Z",
     "iopub.status.busy": "2024-08-19T20:02:12.558636Z",
     "iopub.status.idle": "2024-08-19T20:02:12.564638Z",
     "shell.execute_reply": "2024-08-19T20:02:12.564378Z"
    },
    "papermill": {
     "duration": 0.010128,
     "end_time": "2024-08-19T20:02:12.565524",
     "exception": false,
     "start_time": "2024-08-19T20:02:12.555396",
     "status": "completed"
    },
    "tags": []
   },
   "outputs": [
    {
     "data": {
      "text/plain": [
       "'[[300.5050048828125, 302.4071044921875, 303.6022033691406, 304.3424072265625, 304.7591857910156, 304.9284973144531, 304.8988952636719, 304.70361328125, 304.36639404296875, 303.9057922363281, 303.3357849121094, 302.6679992675781, 301.9118957519531, 301.0754089355469, 300.16510009765625, 299.1868896484375, 298.1459045410156, 297.0466003417969, 295.8927917480469, 294.6881103515625, 293.4356994628906, 292.1383056640625, 290.7987060546875, 289.41900634765625, 288.0015869140625, 286.5483093261719, 285.0609130859375, 283.5411071777344, 281.9903869628906, 280.4101867675781, 278.8017883300781, 277.1664123535156, 275.5050964355469, 273.81890869140625, 272.10870361328125, 270.3753967285156, 268.61968994140625, 266.8424987792969, 265.0443115234375, 263.2257080078125, 261.3872985839844, 259.52960205078125, 257.65289306640625, 255.75770568847656, 253.84429931640625, 251.91299438476562, 249.96400451660156, 247.99740600585938, 246.0135040283203, 244.01229858398438, 241.99380493164062, 239.9582061767578, 237.9051971435547, 235.8350067138672, 233.7471923828125, 231.6417999267578, 229.51849365234375, 227.3769989013672, 225.21710205078125, 223.03829956054688, 220.84030151367188, 218.6226043701172, 216.3845977783203, 214.12570190429688, 211.84539794921875, 209.5428924560547, 207.2174072265625, 204.86810302734375, 202.4940948486328, 200.0944061279297, 197.6678009033203, 195.2133026123047, 192.72959899902344, 190.21519470214844, 187.66859436035156, 185.0883026123047, 182.47250366210938, 179.81910705566406, 177.12620544433594, 174.39120483398438, 171.6118927001953, 168.7852020263672, 165.9080047607422, 162.9770050048828, 159.9882049560547, 156.93710327148438, 153.8188018798828, 150.62759399414062, 147.35659790039062, 143.99819946289062, 140.54299926757812, 136.97950744628906, 133.29359436035156, 129.46749877929688, 125.47720336914062, 121.29000091552734, 116.85780334472656, 112.10530090332031, 106.90260314941406, 101.0], [302.52520751953125, 303.54779052734375, 304.33599853515625, 304.864501953125, 305.1582946777344, 305.24951171875, 305.1664123535156, 304.93231201171875, 304.5657958984375, 304.08221435546875, 303.49359130859375, 302.81060791015625, 302.04168701171875, 301.1942138671875, 300.27459716796875, 299.2882995605469, 298.2401123046875, 297.1343994140625, 295.9750061035156, 294.7651062011719, 293.5080871582031, 292.20660400390625, 290.8631896972656, 289.4801025390625, 288.05938720703125, 286.60321044921875, 285.1131896972656, 283.5909118652344, 282.0379943847656, 280.4556884765625, 278.84539794921875, 277.20819091796875, 275.5451965332031, 273.85760498046875, 272.14599609375, 270.4114074707031, 268.65460205078125, 266.8763122558594, 265.07708740234375, 263.2576904296875, 261.4184875488281, 259.5600891113281, 257.68280029296875, 255.78709411621094, 253.87319946289062, 251.9416046142578, 249.99220275878906, 248.02540588378906, 246.04139709472656, 244.04010009765625, 242.0216064453125, 239.98599243164062, 237.93319702148438, 235.8632049560547, 233.77569580078125, 231.67059326171875, 229.5478057861328, 227.40679931640625, 225.24749755859375, 223.06939697265625, 220.8721923828125, 218.6551971435547, 216.41819763183594, 214.160400390625, 211.88119506835938, 209.57989501953125, 207.25579833984375, 204.9080047607422, 202.5355987548828, 200.13760375976562, 197.71299743652344, 195.26060485839844, 192.7790069580078, 190.26699829101562, 187.7230987548828, 185.1457061767578, 182.53289794921875, 179.88299560546875, 177.1938018798828, 174.46299743652344, 171.68820190429688, 168.86659240722656, 165.9949951171875, 163.07029724121094, 160.08859252929688, 157.04559326171875, 153.9365997314453, 150.756103515625, 147.497802734375, 144.1544952392578, 140.7176055908203, 137.1768035888672, 133.5200958251953, 129.7322998046875, 125.79499816894531, 121.68509674072266, 117.37460327148438, 112.83180236816406, 108.03199768066406, 102.9999008178711], [304.54541015625, 305.0669860839844, 305.4888000488281, 305.7651062011719, 305.8843994140625, 305.8517150878906, 305.6776123046875, 305.37451171875, 304.9543151855469, 304.4276123046875, 303.8039855957031, 303.091796875, 302.2981872558594, 301.4295959472656, 300.49169921875, 299.4894104003906, 298.42718505859375, 297.30889892578125, 296.1383056640625, 294.91839599609375, 293.6523132324219, 292.34259033203125, 290.9916076660156, 289.6017150878906, 288.1748046875, 286.7127990722656, 285.2174072265625, 283.6903076171875, 282.1329040527344, 280.54638671875, 278.93231201171875, 277.2915954589844, 275.6253967285156, 273.9346923828125, 272.22039794921875, 270.4833068847656, 268.7242126464844, 266.94378662109375, 265.1427001953125, 263.3215026855469, 261.4808044433594, 259.6210021972656, 257.74249267578125, 255.84579467773438, 253.93099975585938, 251.99859619140625, 250.04859924316406, 248.08140563964844, 246.0970001220703, 244.09559631347656, 242.0771026611328, 240.04159545898438, 237.98910522460938, 235.91949462890625, 233.8325958251953, 231.7281951904297, 229.606201171875, 227.46629333496094, 225.30819702148438, 223.1313934326172, 220.93569946289062, 218.72039794921875, 216.4853057861328, 214.22959899902344, 211.95260620117188, 209.65379333496094, 207.3323974609375, 204.9875946044922, 202.61839294433594, 200.22390747070312, 197.80299377441406, 195.35470581054688, 192.87759399414062, 190.3704071044922, 187.83169555664062, 185.25999450683594, 182.65350341796875, 180.0102996826172, 177.32850646972656, 174.60589599609375, 171.83999633789062, 169.0283966064453, 166.1678924560547, 163.25559997558594, 160.2877960205078, 157.26060485839844, 154.16969299316406, 151.01010131835938, 147.7761993408203, 144.46180725097656, 141.05960083007812, 137.56149291992188, 133.95790100097656, 130.2384033203125, 126.39119720458984, 122.40399932861328, 118.26629638671875, 113.97319793701172, 109.53589630126953, 104.9999008178711], [306.56549072265625, 306.74700927734375, 306.8765869140625, 306.91900634765625, 306.856201171875, 306.6817932128906, 306.3970031738281, 306.00579833984375, 305.5144958496094, 304.92950439453125, 304.25738525390625, 303.5043029785156, 302.6756896972656, 301.7770080566406, 300.8127136230469, 299.78729248046875, 298.7044982910156, 297.5679931640625, 296.3810119628906, 295.1463928222656, 293.8669128417969, 292.5450134277344, 291.1830139160156, 289.78289794921875, 288.3467102050781, 286.8761901855469, 285.37298583984375, 283.8385925292969, 282.2745056152344, 280.681884765625, 279.0621032714844, 277.41619873046875, 275.7450866699219, 274.04998779296875, 272.33160400390625, 270.5906982421875, 268.82818603515625, 267.0445861816406, 265.2406005859375, 263.4169006347656, 261.57391357421875, 259.7120056152344, 257.8316955566406, 255.9333953857422, 254.01730346679688, 252.08380126953125, 250.13290405273438, 248.1649932861328, 246.18020629882812, 244.17849731445312, 242.16000366210938, 240.1248016357422, 238.07260131835938, 236.00360107421875, 233.9176025390625, 231.81430053710938, 229.693603515625, 227.55520629882812, 225.3988037109375, 223.22410583496094, 221.0305938720703, 218.81790161132812, 216.5854949951172, 214.33290100097656, 212.0594024658203, 209.7642059326172, 207.4468994140625, 205.1063995361328, 202.74200439453125, 200.3527069091797, 197.93739318847656, 195.4951934814453, 193.02459716796875, 190.52459716796875, 187.9936981201172, 185.43040466308594, 182.83309936523438, 180.1999969482422, 177.5290985107422, 174.81849670410156, 172.06590270996094, 169.268798828125, 166.4246063232422, 163.53030395507812, 160.58279418945312, 157.57850646972656, 154.5135955810547, 151.38389587402344, 148.18460083007812, 144.91079711914062, 141.5565948486328, 138.11610412597656, 134.58299255371094, 130.9506072998047, 127.21309661865234, 123.36599731445312, 119.40859985351562, 115.34700012207031, 111.19920349121094, 106.9999008178711], [308.585693359375, 308.5108947753906, 308.40478515625, 308.24261474609375, 308.0075988769531, 307.69061279296875, 307.28759765625, 306.7987060546875, 306.2257995605469, 305.5721130371094, 304.84161376953125, 304.03839111328125, 303.16650390625, 302.2300109863281, 301.2323913574219, 300.1776123046875, 299.0686950683594, 297.90869140625, 296.70050048828125, 295.4468078613281, 294.14990234375, 292.81219482421875, 291.4356994628906, 290.02239990234375, 288.5740051269531, 287.09228515625, 285.57879638671875, 284.0350036621094, 282.4620056152344, 280.8612976074219, 279.2340087890625, 277.5812072753906, 275.90380859375, 274.20269775390625, 272.4789123535156, 270.73309326171875, 268.96600341796875, 267.1783142089844, 265.37060546875, 263.54339599609375, 261.6973876953125, 259.8327941894531, 257.9501037597656, 256.0495910644531, 254.13180541992188, 252.19679260253906, 250.2447967529297, 248.2760009765625, 246.2906036376953, 244.28860473632812, 242.2700958251953, 240.23500061035156, 238.18350219726562, 236.11529541015625, 234.0303955078125, 231.92849731445312, 229.8094940185547, 227.673095703125, 225.5189971923828, 223.3470001220703, 221.156494140625, 218.94720458984375, 216.718505859375, 214.4698944091797, 212.2008056640625, 209.9105987548828, 207.59860229492188, 205.26390075683594, 202.9058074951172, 200.52330017089844, 198.1154022216797, 195.6811981201172, 193.21929931640625, 190.72869873046875, 188.20799255371094, 185.6558074951172, 183.07040405273438, 180.4503936767578, 177.7938995361328, 175.09890747070312, 172.36349487304688, 169.58529663085938, 166.76199340820312, 163.89100646972656, 160.9694061279297, 157.99420166015625, 154.9622039794922, 151.86990356445312, 148.7135009765625, 145.48919677734375, 142.1927947998047, 138.82040405273438, 135.3679962158203, 131.83250427246094, 128.21180725097656, 124.50599670410156, 120.71910095214844, 116.86000061035156, 112.94539642333984, 108.99980163574219], [310.6058044433594, 310.3251037597656, 310.0238037109375, 309.6838073730469, 309.29150390625, 308.8377990722656, 308.31719970703125, 307.72711181640625, 307.06719970703125, 306.3385925292969, 305.5430908203125, 304.6831970214844, 303.7615966796875, 302.78118896484375, 301.74481201171875, 300.65521240234375, 299.5151062011719, 298.32708740234375, 297.093505859375, 295.8168029785156, 294.4989013671875, 293.1419982910156, 291.7478942871094, 290.3183898925781, 288.8551940917969, 287.35980224609375, 285.8335876464844, 284.2781066894531, 282.69439697265625, 281.08380126953125, 279.44720458984375, 277.7857971191406, 276.1005859375, 274.3923034667969, 272.66180419921875, 270.9097900390625, 269.1370849609375, 267.34429931640625, 265.5318908691406, 263.7005920410156, 261.8507080078125, 259.9826965332031, 258.09710693359375, 256.1940002441406, 254.2740020751953, 252.3372039794922, 250.38369750976562, 248.41380310058594, 246.42759704589844, 244.42529296875, 242.40679931640625, 240.3719940185547, 238.32119750976562, 236.25399780273438, 234.17039489746094, 232.07029724121094, 229.95339965820312, 227.81959533691406, 225.66839599609375, 223.49960327148438, 221.31280517578125, 219.10760498046875, 216.8834991455078, 214.63999938964844, 212.37640380859375, 210.09230041503906, 207.78680419921875, 205.4593048095703, 203.10890197753906, 200.73480224609375, 198.3361053466797, 195.91160583496094, 193.4604949951172, 190.9813995361328, 188.47320556640625, 185.9344940185547, 183.36380004882812, 180.75979614257812, 178.12060546875, 175.4447021484375, 172.72999572753906, 169.97459411621094, 167.17640686035156, 164.3332061767578, 161.44239807128906, 158.50160217285156, 155.5081024169922, 152.45919799804688, 149.3520050048828, 146.18380737304688, 142.95179748535156, 139.65359497070312, 136.28720092773438, 132.851806640625, 129.34759521484375, 125.7771987915039, 122.14579772949219, 118.46279907226562, 114.74150085449219, 110.99980163574219], [312.6260070800781, 312.17279052734375, 311.7049865722656, 311.2091979980469, 310.6745910644531, 310.0929870605469, 309.4587097167969, 308.7681884765625, 308.0198059082031, 307.2130126953125, 306.3486022949219, 305.4276123046875, 304.4516906738281, 303.42279052734375, 302.3429870605469, 301.21429443359375, 300.03900146484375, 298.8190002441406, 297.5563049316406, 296.25299072265625, 294.9107971191406, 293.5317077636719, 292.1171875, 290.6689147949219, 289.18829345703125, 287.6767883300781, 286.1358947753906, 284.56658935546875, 282.97021484375, 281.3478088378906, 279.70050048828125, 278.02899169921875, 276.3345031738281, 274.61761474609375, 272.87921142578125, 271.1199951171875, 269.3406982421875, 267.54180908203125, 265.7239074707031, 263.8876037597656, 262.033203125, 260.16119384765625, 258.2720947265625, 256.3659973144531, 254.44329833984375, 252.50430297851562, 250.54910278320312, 248.5780029296875, 246.5908966064453, 244.58810424804688, 242.5695037841797, 240.5352020263672, 238.48500061035156, 236.41909790039062, 234.3372039794922, 232.23919677734375, 230.1248016357422, 227.993896484375, 225.84620666503906, 223.68130493164062, 221.4989013671875, 219.29859924316406, 217.07989501953125, 214.84230041503906, 212.58529663085938, 210.3083038330078, 208.01060485839844, 205.69149780273438, 203.3502960205078, 200.9862060546875, 198.5980987548828, 196.185302734375, 193.74659729003906, 191.28109741210938, 188.78750610351562, 186.2646026611328, 183.71119689941406, 181.12570190429688, 178.50680541992188, 175.85279846191406, 173.16220092773438, 170.43299865722656, 167.66360473632812, 164.8520050048828, 161.99609375, 159.093994140625, 156.14349365234375, 153.14259338378906, 150.08909606933594, 146.9813995361328, 143.81759643554688, 140.5966033935547, 137.3179931640625, 133.98199462890625, 130.59030151367188, 127.14649963378906, 123.65609741210938, 120.127197265625, 116.5707015991211, 112.99980163574219], [314.6462097167969, 314.0440979003906, 313.43121337890625, 312.79730224609375, 312.1336975097656, 311.43328857421875, 310.6908874511719, 309.9027099609375, 309.06640625, 308.18060302734375, 307.24530029296875, 306.260498046875, 305.227294921875, 304.1466064453125, 303.0199890136719, 301.8487854003906, 300.6347961425781, 299.3796081542969, 298.0846862792969, 296.7518005371094, 295.3825988769531, 293.9784851074219, 292.5409851074219, 291.0714111328125, 289.5711975097656, 288.0415954589844, 286.4837951660156, 284.8988952636719, 283.2880859375, 281.6523132324219, 279.99249267578125, 278.3096008300781, 276.6044006347656, 274.8778076171875, 273.13031005859375, 271.36279296875, 269.5758056640625, 267.7698974609375, 265.9457092285156, 264.1036071777344, 262.2439880371094, 260.36749267578125, 258.47430419921875, 256.564697265625, 254.63900756835938, 252.69760131835938, 250.7404022216797, 248.7677001953125, 246.77960205078125, 244.7761993408203, 242.75759887695312, 240.7238006591797, 238.6746063232422, 236.61000061035156, 234.52999877929688, 232.4344024658203, 230.32290649414062, 228.19540405273438, 226.05160522460938, 223.89120483398438, 221.71389770507812, 219.51919555664062, 217.30670166015625, 215.0760040283203, 212.82650756835938, 210.5576934814453, 208.26890563964844, 205.95950317382812, 203.62879943847656, 201.27589416503906, 198.90020751953125, 196.50059509277344, 194.07620239257812, 191.62600708007812, 189.1490936279297, 186.64419555664062, 184.11019897460938, 181.5457000732422, 178.94949340820312, 176.32020568847656, 173.65640258789062, 170.9564971923828, 168.21890258789062, 165.44219970703125, 162.62449645996094, 159.764404296875, 156.8603057861328, 153.9105987548828, 150.9138946533203, 147.86920166015625, 144.77569580078125, 141.63290405273438, 138.44119262695312, 135.201904296875, 131.91729736328125, 128.59100341796875, 125.22830200195312, 121.83619689941406, 118.42330169677734, 114.99970245361328], [316.6664123535156, 315.9330139160156, 315.1911926269531, 314.4331970214844, 313.6520080566406, 312.84149169921875, 311.99700927734375, 311.11480712890625, 310.1925048828125, 309.2283935546875, 308.2215881347656, 307.17181396484375, 306.0793151855469, 304.9446105957031, 303.7687072753906, 302.5523986816406, 301.2972106933594, 300.0039978027344, 298.6744079589844, 297.30938720703125, 295.9106140136719, 294.47918701171875, 293.0163879394531, 291.5234069824219, 290.0014953613281, 288.4518127441406, 286.87530517578125, 285.2731018066406, 283.6462097167969, 281.9955139160156, 280.3218078613281, 278.6260986328125, 276.90899658203125, 275.1712951660156, 273.4137878417969, 271.63690185546875, 269.8414001464844, 268.027587890625, 266.1962890625, 264.3478088378906, 262.4823913574219, 260.6007080078125, 258.7030029296875, 256.7893981933594, 254.8603973388672, 252.91600036621094, 250.95660400390625, 248.98219299316406, 246.9929962158203, 244.98910522460938, 242.97039794921875, 240.93699645996094, 238.8887939453125, 236.82589721679688, 234.7480010986328, 232.65499877929688, 230.5467987060547, 228.42320251464844, 226.28379821777344, 224.1284942626953, 221.95680236816406, 219.76849365234375, 217.56300354003906, 215.33999633789062, 213.09890747070312, 210.83929443359375, 208.5605010986328, 206.26199340820312, 203.94290161132812, 201.60279846191406, 199.2406005859375, 196.85580444335938, 194.44729614257812, 192.01429748535156, 189.55580139160156, 187.07080078125, 184.55819702148438, 182.01690673828125, 179.44569396972656, 176.84339904785156, 174.20880126953125, 171.5406036376953, 168.83749389648438, 166.09820556640625, 163.32150268554688, 160.50599670410156, 157.65060424804688, 154.75430297851562, 151.81629943847656, 148.83599853515625, 145.81309509277344, 142.7480010986328, 139.6414031982422, 136.4949951171875, 133.31149291992188, 130.0941925048828, 126.8479995727539, 123.57869720458984, 120.29329681396484, 116.99970245361328], [318.6864929199219, 317.8352966308594, 316.9775085449219, 316.1068115234375, 315.2174987792969, 314.30450439453125, 313.3638000488281, 312.3918151855469, 311.3861999511719, 310.3450012207031, 309.2672119140625, 308.1520080566406, 306.9992980957031, 305.8092956542969, 304.5823974609375, 303.3192138671875, 302.0205993652344, 300.6875, 299.3208923339844, 297.92181396484375, 296.4913024902344, 295.0304870605469, 293.5404052734375, 292.0221862792969, 290.476806640625, 288.90521240234375, 287.30841064453125, 285.68719482421875, 284.0426940917969, 282.3756103515625, 280.6867980957031, 278.97698974609375, 277.2467956542969, 275.4971008300781, 273.7283020019531, 271.9411926269531, 270.1361999511719, 268.3138122558594, 266.474609375, 264.6189880371094, 262.7471923828125, 260.85980224609375, 258.9570007324219, 257.0390930175781, 255.10629272460938, 253.15890502929688, 251.19700622558594, 249.22079467773438, 247.2303009033203, 245.22560119628906, 243.20689392089844, 241.1739959716797, 239.1269989013672, 237.0657958984375, 234.99029541015625, 232.90029907226562, 230.7957000732422, 228.67630004882812, 226.54190063476562, 224.39210510253906, 222.22669982910156, 220.04530334472656, 217.84759521484375, 215.6331024169922, 213.40130615234375, 211.15179443359375, 208.88400268554688, 206.59739685058594, 204.29119873046875, 201.96499633789062, 199.6177978515625, 197.2490997314453, 194.85800170898438, 192.44369506835938, 190.0052947998047, 187.54190063476562, 185.05250549316406, 182.53619384765625, 179.99200439453125, 177.41879272460938, 174.8155059814453, 172.1811065673828, 169.5146026611328, 166.81480407714844, 164.08090209960938, 161.31179809570312, 158.50689697265625, 155.6654052734375, 152.78700256347656, 149.87130737304688, 146.91879272460938, 143.92979431152344, 140.9058074951172, 137.84829711914062, 134.75999450683594, 131.64410400390625, 128.5048065185547, 125.34709930419922, 122.17659759521484, 118.99970245361328], [320.7066955566406, 319.7481994628906, 318.78448486328125, 317.810302734375, 316.82110595703125, 315.8125, 314.7807922363281, 313.72320556640625, 312.63720703125, 311.5209045410156, 310.37298583984375, 309.19281005859375, 307.9796142578125, 306.7334899902344, 305.45458984375, 304.1430969238281, 302.7998046875, 301.42498779296875, 300.0198059082031, 298.5848083496094, 297.12091064453125, 295.6289978027344, 294.1099853515625, 292.5647888183594, 290.99420166015625, 289.3992004394531, 287.7806091308594, 286.13909912109375, 284.4755859375, 282.7909851074219, 281.085693359375, 279.360595703125, 277.6163024902344, 275.8533935546875, 274.0726013183594, 272.2742919921875, 270.4590148925781, 268.6272888183594, 266.7795104980469, 264.9161071777344, 263.03741455078125, 261.143798828125, 259.23541259765625, 257.31280517578125, 255.3759002685547, 253.4250946044922, 251.4604949951172, 249.48219299316406, 247.4904022216797, 245.48500061035156, 243.46620178222656, 241.43389892578125, 239.38819885253906, 237.32879638671875, 235.2559051513672, 233.16920471191406, 231.06849670410156, 228.95379638671875, 226.82460021972656, 224.68099975585938, 222.52239990234375, 220.34860229492188, 218.1593017578125, 215.95399475097656, 213.7322998046875, 211.49380493164062, 209.23789978027344, 206.96420288085938, 204.6719970703125, 202.3607940673828, 200.02980041503906, 197.67849731445312, 195.3061981201172, 192.91189575195312, 190.49510192871094, 188.05479431152344, 185.59030151367188, 183.10069274902344, 180.58509826660156, 178.0426025390625, 175.47239685058594, 172.87350463867188, 170.2451934814453, 167.5865020751953, 164.8968963623047, 162.17559814453125, 159.4221954345703, 156.63619995117188, 153.8175048828125, 150.96629333496094, 148.08299255371094, 145.1685028076172, 142.2239990234375, 139.25140380859375, 136.2530059814453, 133.23179626464844, 130.19140625, 127.13610076904297, 124.07050323486328, 120.99960327148438], [322.7268981933594, 321.6697998046875, 320.6083068847656, 319.5382995605469, 318.4559020996094, 317.3575134277344, 316.2398986816406, 315.1004943847656, 313.93701171875, 312.7475891113281, 311.5310974121094, 310.2864990234375, 309.0130920410156, 307.710693359375, 306.37908935546875, 305.0185852050781, 303.62939453125, 302.2119140625, 300.7666931152344, 299.2944030761719, 297.7956848144531, 296.27130126953125, 294.7218933105469, 293.148193359375, 291.55120849609375, 289.931396484375, 288.28961181640625, 286.6264953613281, 284.9429016113281, 283.2394104003906, 281.5166015625, 279.77520751953125, 278.01580810546875, 276.2388916015625, 274.44500732421875, 272.63470458984375, 270.80841064453125, 268.96661376953125, 267.1095886230469, 265.23779296875, 263.3515930175781, 261.4512939453125, 259.537109375, 257.60919189453125, 255.66799926757812, 253.71359252929688, 251.74600219726562, 249.76559448242188, 247.77220153808594, 245.76609802246094, 243.7471923828125, 241.71560668945312, 239.67120361328125, 237.61390686035156, 235.543701171875, 233.4604949951172, 231.36410522460938, 229.25430297851562, 227.13099670410156, 224.99380493164062, 222.8426055908203, 220.677001953125, 218.4967041015625, 216.30130004882812, 214.0904998779297, 211.86380004882812, 209.62069702148438, 207.3607940673828, 205.08349609375, 202.7884063720703, 200.47479248046875, 198.14199829101562, 195.7895965576172, 193.4167022705078, 191.022705078125, 188.60690307617188, 186.16859436035156, 183.7071075439453, 181.22149658203125, 178.71119689941406, 176.17539978027344, 173.6134033203125, 171.02459716796875, 168.40829467773438, 165.76400756835938, 163.09129333496094, 160.389892578125, 157.65969848632812, 154.90060424804688, 152.11309814453125, 149.2978057861328, 146.45550537109375, 143.58770751953125, 140.6959991455078, 137.7825927734375, 134.8502960205078, 131.90220642089844, 128.9416961669922, 125.9728012084961, 122.99960327148438], [324.7471008300781, 323.59820556640625, 322.44580078125, 321.2864074707031, 320.1166076660156, 318.93341064453125, 317.73419189453125, 316.5166015625, 315.27850341796875, 314.0181884765625, 312.7345886230469, 311.4266052246094, 310.093505859375, 308.7348937988281, 307.3504943847656, 305.9403991699219, 304.5046081542969, 303.04339599609375, 301.55731201171875, 300.0466003417969, 298.5119934082031, 296.95379638671875, 295.372802734375, 293.76959228515625, 292.1448059082031, 290.4989929199219, 288.8328857421875, 287.1470947265625, 285.44219970703125, 283.71881103515625, 281.97760009765625, 280.2189025878906, 278.4433898925781, 276.651611328125, 274.843994140625, 273.02099609375, 271.1830139160156, 269.3304138183594, 267.4635925292969, 265.5830078125, 263.6886901855469, 261.78118896484375, 259.8606872558594, 257.9273986816406, 255.98150634765625, 254.02310180664062, 252.05250549316406, 250.06959533691406, 248.07479858398438, 246.0677947998047, 244.04879760742188, 242.01780700683594, 239.9748992919922, 237.9197998046875, 235.85260009765625, 233.77310180664062, 231.6811981201172, 229.57679748535156, 227.4595947265625, 225.32940673828125, 223.18600463867188, 221.0290985107422, 218.8583984375, 216.67359924316406, 214.47430419921875, 212.26010131835938, 210.0305938720703, 207.785400390625, 205.5240020751953, 203.2458038330078, 200.95050048828125, 198.63729858398438, 196.30580139160156, 193.9553985595703, 191.5854949951172, 189.19540405273438, 186.7845001220703, 184.35220336914062, 181.8979034423828, 179.4208984375, 176.9207000732422, 174.39669799804688, 171.84829711914062, 169.27520751953125, 166.677001953125, 164.05340576171875, 161.40420532226562, 158.72959899902344, 156.02960205078125, 153.30490112304688, 150.55589294433594, 147.78379821777344, 144.98980712890625, 142.17550659179688, 139.34300231933594, 136.4945068359375, 133.63279724121094, 130.76089477539062, 127.88200378417969, 124.99960327148438], [326.7672119140625, 325.5325012207031, 324.2947082519531, 323.0509948730469, 321.7987976074219, 320.535400390625, 319.25830078125, 317.9656982421875, 316.6556091308594, 315.32659912109375, 313.9775085449219, 312.6072082519531, 311.215087890625, 309.80059814453125, 308.3634033203125, 306.90350341796875, 305.4206848144531, 303.9154052734375, 302.3876037597656, 300.83758544921875, 299.26611328125, 297.6731872558594, 296.0596008300781, 294.4258117675781, 292.7721862792969, 291.0993957519531, 289.4079895019531, 287.698486328125, 285.9714050292969, 284.2272033691406, 282.46649169921875, 280.6897888183594, 278.89739990234375, 277.0899963378906, 275.2677917480469, 273.431396484375, 271.58099365234375, 269.71710205078125, 267.8399963378906, 265.94989013671875, 264.0472106933594, 262.1322021484375, 260.2049865722656, 258.2658996582031, 256.31500244140625, 254.3524932861328, 252.37860107421875, 250.39320373535156, 248.3966064453125, 246.3887939453125, 244.3697967529297, 242.339599609375, 240.298095703125, 238.24530029296875, 236.1811981201172, 234.10569763183594, 232.0186004638672, 229.9197998046875, 227.80909729003906, 225.68629455566406, 223.5511932373047, 221.40350341796875, 219.2429962158203, 217.06919860839844, 214.88209533691406, 212.6811065673828, 210.46600341796875, 208.2362060546875, 205.99139404296875, 203.73109436035156, 201.45489501953125, 199.16220092773438, 196.8527069091797, 194.52569580078125, 192.18080139160156, 189.81739807128906, 187.43490600585938, 185.03289794921875, 182.6107940673828, 180.16810607910156, 177.70440673828125, 175.2191925048828, 172.71200561523438, 170.1826934814453, 167.6309051513672, 165.0565948486328, 162.4595947265625, 159.84030151367188, 157.1988067626953, 154.5355987548828, 151.85150146484375, 149.14739990234375, 146.4246063232422, 143.6844940185547, 140.9290008544922, 138.16000366210938, 135.3800048828125, 132.59140014648438, 129.79690551757812, 126.99960327148438], [328.78741455078125, 327.47149658203125, 326.15301513671875, 324.8297119140625, 323.4991149902344, 322.1590881347656, 320.8075866699219, 319.4429016113281, 318.06329345703125, 316.6676025390625, 315.25439453125, 313.822998046875, 312.3727111816406, 310.90289306640625, 309.4132080078125, 307.9034118652344, 306.3734130859375, 304.8233947753906, 303.2533874511719, 301.6636962890625, 300.05450439453125, 298.42620849609375, 296.7792053222656, 295.1138000488281, 293.43060302734375, 291.7300109863281, 290.0122985839844, 288.2781982421875, 286.52801513671875, 284.7622985839844, 282.9814147949219, 281.185791015625, 279.37579345703125, 277.552001953125, 275.7146911621094, 273.86419677734375, 272.0008850097656, 270.1250915527344, 268.2372131347656, 266.3371887207031, 264.4256896972656, 262.502685546875, 260.568603515625, 258.623291015625, 256.6672058105469, 254.7003936767578, 252.72300720214844, 250.735107421875, 248.7366943359375, 246.72799682617188, 244.70880126953125, 242.67930603027344, 240.63949584960938, 238.58920288085938, 236.5283966064453, 234.45700073242188, 232.37489318847656, 230.28199768066406, 228.1781005859375, 226.06309509277344, 223.9365997314453, 221.79859924316406, 219.64869689941406, 217.4866943359375, 215.31219482421875, 213.125, 210.9248046875, 208.71119689941406, 206.48370361328125, 204.24200439453125, 201.9857940673828, 199.71449279785156, 197.42770385742188, 195.125, 192.80589294433594, 190.47000122070312, 188.1168975830078, 185.74600219726562, 183.35690307617188, 180.9492950439453, 178.52279663085938, 176.076904296875, 173.61160278320312, 171.12640380859375, 168.62130737304688, 166.09620666503906, 163.55130004882812, 160.9866943359375, 158.40280151367188, 155.8000946044922, 153.17930603027344, 150.5413055419922, 147.88720703125, 145.218505859375, 142.53660583496094, 139.84339904785156, 137.14089965820312, 134.4311981201172, 131.7165985107422, 128.99960327148438], [330.8075866699219, 329.41448974609375, 328.0194091796875, 326.6199951171875, 325.214599609375, 323.8013000488281, 322.3782958984375, 320.9440002441406, 319.4971923828125, 318.0364074707031, 316.560791015625, 315.0696105957031, 313.5617980957031, 312.0372009277344, 310.4952087402344, 308.9356994628906, 307.3586120605469, 305.76361083984375, 304.1510925292969, 302.52099609375, 300.8736877441406, 299.20928955078125, 297.5281982421875, 295.8306884765625, 294.1170959472656, 292.3877868652344, 290.643310546875, 288.8837890625, 287.1098937988281, 285.3218078613281, 283.5199890136719, 281.7048034667969, 279.876708984375, 278.035888671875, 276.18280029296875, 274.31768798828125, 272.4410095214844, 270.55279541015625, 268.6535949707031, 266.743408203125, 264.8226013183594, 262.8913879394531, 260.9497985839844, 258.998291015625, 257.03680419921875, 255.06539916992188, 253.0843963623047, 251.0937042236328, 249.093505859375, 247.08380126953125, 245.06460571289062, 243.03590393066406, 240.99769592285156, 238.9499053955078, 236.89259338378906, 234.82550048828125, 232.7487030029297, 230.66200256347656, 228.56520080566406, 226.4582061767578, 224.34080505371094, 222.21279907226562, 220.07400512695312, 217.92410278320312, 215.7628936767578, 213.59010314941406, 211.4053955078125, 209.20840454101562, 206.99899291992188, 204.77659606933594, 202.5408935546875, 200.29159545898438, 198.0283966064453, 195.75070190429688, 193.4582061767578, 191.15060424804688, 188.827392578125, 186.4884033203125, 184.13299560546875, 181.76109313964844, 179.37229919433594, 176.96629333496094, 174.54299926757812, 172.10220336914062, 169.64390563964844, 167.16799926757812, 164.67469787597656, 162.16439819335938, 159.63720703125, 157.0937957763672, 154.53480529785156, 151.96099853515625, 149.37359619140625, 146.7736053466797, 144.16259765625, 141.54200744628906, 138.9134063720703, 136.27890014648438, 133.64019775390625, 130.99949645996094], [332.8277893066406, 331.36090087890625, 329.8923034667969, 328.4201965332031, 326.9429931640625, 325.4591064453125, 323.96710205078125, 322.4656066894531, 320.95330810546875, 319.4292907714844, 317.8926086425781, 316.3424987792969, 314.7782897949219, 313.1994934082031, 311.605712890625, 309.9967041015625, 308.3721923828125, 306.7323913574219, 305.0769958496094, 303.4064025878906, 301.72039794921875, 300.0195007324219, 298.3038024902344, 296.5733947753906, 294.8288879394531, 293.0704040527344, 291.2983093261719, 289.5129089355469, 287.7145080566406, 285.90350341796875, 284.0802001953125, 282.2449035644531, 280.39788818359375, 278.53961181640625, 276.6701965332031, 274.79010009765625, 272.8994140625, 270.9985046386719, 269.0874938964844, 267.16680908203125, 265.23638916015625, 263.2966003417969, 261.3475036621094, 259.3893127441406, 257.4220886230469, 255.44610595703125, 253.4613037109375, 251.46780395507812, 249.4656982421875, 247.4550018310547, 245.4355926513672, 243.40780639648438, 241.37130737304688, 239.32620239257812, 237.27239990234375, 235.2097930908203, 233.1385040283203, 231.05810546875, 228.9687042236328, 226.87010192871094, 224.76210021972656, 222.64450073242188, 220.51719665527344, 218.3798065185547, 216.2322998046875, 214.07440185546875, 211.9055938720703, 209.7259979248047, 207.53500366210938, 205.33250427246094, 203.1179962158203, 200.8914031982422, 198.65220642089844, 196.40020751953125, 194.13499450683594, 191.856201171875, 189.56370544433594, 187.2570037841797, 184.93589782714844, 182.60009765625, 180.24940490722656, 177.88360595703125, 175.50259399414062, 173.10629272460938, 170.6947021484375, 168.26780700683594, 165.8258056640625, 163.36900329589844, 160.89779663085938, 158.41259765625, 155.91400146484375, 153.40289306640625, 150.88009643554688, 148.3468017578125, 145.8040008544922, 143.2530975341797, 140.69569396972656, 138.13319396972656, 135.56719970703125, 132.99949645996094], [334.8479919433594, 333.3100891113281, 331.77081298828125, 330.2286071777344, 328.6820983886719, 327.1300964355469, 325.5711975097656, 324.0043029785156, 322.4284973144531, 320.84271240234375, 319.2461853027344, 317.6382141113281, 316.018310546875, 314.3858947753906, 312.7406921386719, 311.0823974609375, 309.410888671875, 307.72601318359375, 306.0278015136719, 304.3161926269531, 302.5914001464844, 300.8536071777344, 299.1028137207031, 297.3392028808594, 295.5632019042969, 293.7749938964844, 291.9747009277344, 290.1628112792969, 288.3395080566406, 286.5050048828125, 284.6596984863281, 282.8038024902344, 280.9375, 279.0611877441406, 277.17510986328125, 275.2793884277344, 273.3743896484375, 271.4602966308594, 269.53729248046875, 267.6055908203125, 265.6653137207031, 263.71661376953125, 261.7597961425781, 259.7947998046875, 257.8218078613281, 255.8408966064453, 253.852294921875, 251.85580444335938, 249.85169982910156, 247.83999633789062, 245.8206024169922, 243.7935028076172, 241.75880432128906, 239.71640014648438, 237.6663055419922, 235.6083984375, 233.54269409179688, 231.468994140625, 229.38720703125, 227.29710388183594, 225.1988067626953, 223.09190368652344, 220.9763946533203, 218.8520050048828, 216.71859741210938, 214.57589721679688, 212.42359924316406, 210.26170349121094, 208.0897979736328, 205.9075927734375, 203.71490478515625, 201.5113983154297, 199.29690551757812, 197.0709991455078, 194.83349609375, 192.58419799804688, 190.32269287109375, 188.0489044189453, 185.7624053955078, 183.46319580078125, 181.15089416503906, 178.8256072998047, 176.48699951171875, 174.13519287109375, 171.7700958251953, 169.39199829101562, 167.00079345703125, 164.5970001220703, 162.18089294433594, 159.75289916992188, 157.31350708007812, 154.8636016845703, 152.40379333496094, 149.93499755859375, 147.45840454101562, 144.97500610351562, 142.48609924316406, 139.9929962158203, 137.4969940185547, 134.99949645996094], [336.8681945800781, 335.2616882324219, 333.65399169921875, 332.0439147949219, 330.4302978515625, 328.8121032714844, 327.1882019042969, 325.5575866699219, 323.9195861816406, 322.2734069824219, 320.61810302734375, 318.95330810546875, 317.2784118652344, 315.5929870605469, 313.89678955078125, 312.1896057128906, 310.4710998535156, 308.7412109375, 307.0, 305.24749755859375, 303.4836120605469, 301.70849609375, 299.9222106933594, 298.1250915527344, 296.31719970703125, 294.4988098144531, 292.67010498046875, 290.8312072753906, 288.9823913574219, 287.1239929199219, 285.2561950683594, 283.37921142578125, 281.4931945800781, 279.5986022949219, 277.6954040527344, 275.7838134765625, 273.8641052246094, 271.9364929199219, 270.0011901855469, 268.0581970214844, 266.1077880859375, 264.1499938964844, 262.1852111816406, 260.21319580078125, 258.23419189453125, 256.2484130859375, 254.25570678710938, 252.2563018798828, 250.25010681152344, 248.2373046875, 246.21780395507812, 244.1916046142578, 242.15879821777344, 240.11920166015625, 238.0727996826172, 236.01980590820312, 233.9597930908203, 231.89280700683594, 229.8188018798828, 227.7375946044922, 225.64920043945312, 223.55340576171875, 221.4499969482422, 219.33880615234375, 217.2198028564453, 215.0926971435547, 212.9573974609375, 210.81350708007812, 208.66099548339844, 206.49960327148438, 204.3291015625, 202.14920043945312, 199.9597930908203, 197.76060485839844, 195.55130004882812, 193.33169555664062, 191.101806640625, 188.86109924316406, 186.60960388183594, 184.34719848632812, 182.07359313964844, 179.78880310058594, 177.49270629882812, 175.18539428710938, 172.86680603027344, 170.53700256347656, 168.19639587402344, 165.84500122070312, 163.4832000732422, 161.1114044189453, 158.73019409179688, 156.34010314941406, 153.94180297851562, 151.53599548339844, 149.12379455566406, 146.70579528808594, 144.2834014892578, 141.85740661621094, 139.4290008544922, 136.99949645996094], [338.8883972167969, 337.2152099609375, 335.5409851074219, 333.8648986816406, 332.1859130859375, 330.5032043457031, 328.8157958984375, 327.12298583984375, 325.4241943359375, 323.718505859375, 322.0054931640625, 320.28460693359375, 318.5553894042969, 316.8175048828125, 315.07080078125, 313.3147888183594, 311.54949951171875, 309.7748107910156, 307.9906005859375, 306.1968994140625, 304.393798828125, 302.5812072753906, 300.7593994140625, 298.92840576171875, 297.0882873535156, 295.2394104003906, 293.3817138671875, 291.5155029296875, 289.6409912109375, 287.75830078125, 285.86761474609375, 283.9692077636719, 282.0632019042969, 280.1496887207031, 278.22900390625, 276.3013000488281, 274.3666076660156, 272.4252014160156, 270.477294921875, 268.5227966308594, 266.56201171875, 264.5950012207031, 262.62200927734375, 260.6427917480469, 258.6578063964844, 256.66680908203125, 254.6699981689453, 252.6676025390625, 250.6593017578125, 248.64540100097656, 246.62579345703125, 244.60049438476562, 242.5695037841797, 240.53280639648438, 238.4904022216797, 236.4420928955078, 234.38800048828125, 232.3280029296875, 230.26199340820312, 228.1898956298828, 226.11160278320312, 224.02699279785156, 221.93600463867188, 219.83839416503906, 217.73410034179688, 215.62289428710938, 213.50469970703125, 211.37939453125, 209.24659729003906, 207.1063995361328, 204.95840454101562, 202.80250549316406, 200.6385040283203, 198.46629333496094, 196.28550720214844, 194.09620666503906, 191.8979949951172, 189.6907958984375, 187.47459411621094, 185.2490997314453, 183.01429748535156, 180.77020263671875, 178.5166015625, 176.25360107421875, 173.98129272460938, 171.69979858398438, 169.40919494628906, 167.1096954345703, 164.80160522460938, 162.4853057861328, 160.16119384765625, 157.82989501953125, 155.49180603027344, 153.14759826660156, 150.798095703125, 148.44400024414062, 146.08619689941406, 143.72560119628906, 141.36300659179688, 138.99949645996094], [340.9085998535156, 339.1701965332031, 337.43121337890625, 335.69049072265625, 333.9476013183594, 332.2016906738281, 330.45220947265625, 328.69830322265625, 326.9396057128906, 325.1755065917969, 323.4054870605469, 321.6293029785156, 319.8464050292969, 318.0564880371094, 316.2594909667969, 314.4551086425781, 312.6431884765625, 310.8236999511719, 308.9964904785156, 307.1617126464844, 305.3192138671875, 303.468994140625, 301.61138916015625, 299.7461853027344, 297.8736877441406, 295.9939880371094, 294.1070861816406, 292.2132873535156, 290.3127136230469, 288.4053955078125, 286.4916076660156, 284.5714111328125, 282.6449890136719, 280.7124938964844, 278.77410888671875, 276.82989501953125, 274.8800048828125, 272.9245910644531, 270.96380615234375, 268.9977111816406, 267.0263977050781, 265.0498962402344, 263.0683898925781, 261.0820007324219, 259.0906982421875, 257.0946044921875, 255.0937042236328, 253.08799743652344, 251.07769775390625, 249.06260681152344, 247.04299926757812, 245.0186004638672, 242.989501953125, 240.95570373535156, 238.91720581054688, 236.87399291992188, 234.82589721679688, 232.7729034423828, 230.71499633789062, 228.65220642089844, 226.58419799804688, 224.51100158691406, 222.43260192871094, 220.34869384765625, 218.2593994140625, 216.16439819335938, 214.06370544433594, 211.9571075439453, 209.8444061279297, 207.72560119628906, 205.60049438476562, 203.46890258789062, 201.33059692382812, 199.1855926513672, 197.03370666503906, 194.8748016357422, 192.70860290527344, 190.5352020263672, 188.35440063476562, 186.16610717773438, 183.97019958496094, 181.7667999267578, 179.55569458007812, 177.33700561523438, 175.1107940673828, 172.877197265625, 170.63619995117188, 168.38819885253906, 166.13319396972656, 163.87179565429688, 161.60400390625, 159.33050537109375, 157.05160522460938, 154.76780700683594, 152.4799041748047, 150.18829345703125, 147.89370727539062, 145.59689331054688, 143.29859924316406, 140.99949645996094], [342.9288024902344, 341.1265869140625, 339.32379150390625, 337.5198059082031, 335.7142028808594, 333.90618896484375, 332.0954895019531, 330.281494140625, 328.46380615234375, 326.6419982910156, 324.8157043457031, 322.9845886230469, 321.14849853515625, 319.3070983886719, 317.4601135253906, 315.6075134277344, 313.74920654296875, 311.885009765625, 310.0148010253906, 308.1387939453125, 306.25689697265625, 304.3689880371094, 302.47540283203125, 300.5758972167969, 298.6708068847656, 296.760009765625, 294.84381103515625, 292.9220886230469, 290.9952087402344, 289.06298828125, 287.12579345703125, 285.18359375, 283.2366027832031, 281.284912109375, 279.3284912109375, 277.36761474609375, 275.40240478515625, 273.43280029296875, 271.4588928222656, 269.4809875488281, 267.4989013671875, 265.5129089355469, 263.52301025390625, 261.52911376953125, 259.531494140625, 257.53009033203125, 255.52499389648438, 253.51620483398438, 251.50360107421875, 249.4875030517578, 247.4676055908203, 245.44419860839844, 243.41700744628906, 241.38619995117188, 239.351806640625, 237.31350708007812, 235.2716064453125, 233.22579956054688, 231.1761016845703, 229.1226043701172, 227.06509399414062, 225.0034942626953, 222.93780517578125, 220.8679962158203, 218.79379272460938, 216.71519470214844, 214.6322021484375, 212.5446014404297, 210.4521942138672, 208.3551025390625, 206.2530059814453, 204.14590454101562, 202.03370666503906, 199.91619873046875, 197.79330444335938, 195.6649932861328, 193.53109741210938, 191.3916015625, 189.24630737304688, 187.09530639648438, 184.9384002685547, 182.77560424804688, 180.60699462890625, 178.43260192871094, 176.25230407714844, 174.06640625, 171.8748016357422, 169.67779541015625, 167.47549438476562, 165.26820373535156, 163.0561981201172, 160.83970642089844, 158.61920166015625, 156.3948974609375, 154.16749572753906, 151.9373016357422, 149.70480346679688, 147.470703125, 145.2353973388672, 142.99949645996094], [344.9490051269531, 343.08380126953125, 341.21820068359375, 339.3518981933594, 337.48431396484375, 335.6152038574219, 333.7439880371094, 331.87060546875, 329.9945983886719, 328.1156921386719, 326.23370361328125, 324.34820556640625, 322.4591979980469, 320.5664978027344, 318.6697998046875, 316.7691955566406, 314.864501953125, 312.9556884765625, 311.0426940917969, 309.1253967285156, 307.2040100097656, 305.2784118652344, 303.34869384765625, 301.414794921875, 299.4768981933594, 297.5350036621094, 295.5892028808594, 293.6394958496094, 291.6860046386719, 289.7287902832031, 287.76800537109375, 285.8037109375, 283.8359069824219, 281.86468505859375, 279.89019775390625, 277.9125061035156, 275.93170166015625, 273.94769287109375, 271.960693359375, 269.9707946777344, 267.9779052734375, 265.9822082519531, 263.98370361328125, 261.9823913574219, 259.9783935546875, 257.9715881347656, 255.9622039794922, 253.9501953125, 251.9355010986328, 249.91819763183594, 247.898193359375, 245.87570190429688, 243.85060119628906, 241.8227996826172, 239.79229736328125, 237.7592010498047, 235.72340393066406, 233.68479919433594, 231.6436004638672, 229.59950256347656, 227.55250549316406, 225.50270080566406, 223.4499053955078, 221.39410400390625, 219.33529663085938, 217.27330017089844, 215.20799255371094, 213.1396026611328, 211.0677032470703, 208.99240112304688, 206.91360473632812, 204.83120727539062, 202.7451934814453, 200.65530395507812, 198.56170654296875, 196.46420288085938, 194.3625946044922, 192.25709533691406, 190.1475067138672, 188.03379821777344, 185.91600036621094, 183.79400634765625, 181.6678009033203, 179.53750610351562, 177.4029998779297, 175.2646026611328, 173.1221923828125, 170.9759063720703, 168.82589721679688, 166.67239379882812, 164.5155029296875, 162.35549926757812, 160.1927032470703, 158.02720642089844, 155.8594970703125, 153.6898956298828, 151.51870727539062, 149.34629821777344, 147.173095703125, 144.99949645996094], [346.9692077636719, 345.04168701171875, 343.1141052246094, 341.1859130859375, 339.2569885253906, 337.32720947265625, 335.39630126953125, 333.4639892578125, 331.53009033203125, 329.5945129394531, 327.6571044921875, 325.71759033203125, 323.7760009765625, 321.83221435546875, 319.8861083984375, 317.9375915527344, 315.9866027832031, 314.033203125, 312.0773010253906, 310.118896484375, 308.1579895019531, 306.1946105957031, 304.2286071777344, 302.26031494140625, 300.28948974609375, 298.3163146972656, 296.3407897949219, 294.3629150390625, 292.3828125, 290.400390625, 288.4159851074219, 286.4292907714844, 284.44061279296875, 282.44989013671875, 280.45721435546875, 278.4624938964844, 276.46600341796875, 274.4674987792969, 272.46728515625, 270.4653015136719, 268.46148681640625, 266.45599365234375, 264.44891357421875, 262.44000244140625, 260.4295959472656, 258.4173889160156, 256.40380859375, 254.38839721679688, 252.37159729003906, 250.3531036376953, 248.33309936523438, 246.3114013671875, 244.28829956054688, 242.2635040283203, 240.2371063232422, 238.20919799804688, 236.17959594726562, 234.14840698242188, 232.11549377441406, 230.08090209960938, 228.0446014404297, 226.00660705566406, 223.966796875, 221.92520141601562, 219.88180541992188, 217.8365020751953, 215.78919982910156, 213.74000549316406, 211.6887969970703, 209.635498046875, 207.5800018310547, 205.5225067138672, 203.46270751953125, 201.40069580078125, 199.33639526367188, 197.2696990966797, 195.20069885253906, 193.12930297851562, 191.05540466308594, 188.97909545898438, 186.90029907226562, 184.81900024414062, 182.73519897460938, 180.6490020751953, 178.560302734375, 176.4691925048828, 174.37570190429688, 172.27999877929688, 170.1820068359375, 168.08189392089844, 165.9799041748047, 163.87600708007812, 161.77029418945312, 159.66319274902344, 157.55470275878906, 155.44509887695312, 153.33450317382812, 151.22320556640625, 149.1114959716797, 146.99949645996094], [348.9894104003906, 347.0, 345.0105895996094, 343.0210876464844, 341.03131103515625, 339.04119873046875, 337.0506896972656, 335.059814453125, 333.0683898925781, 331.0762939453125, 329.0837097167969, 327.09039306640625, 325.0964050292969, 323.1015930175781, 321.1061096191406, 319.10980224609375, 317.1127014160156, 315.11468505859375, 313.1159973144531, 311.11639404296875, 309.11590576171875, 307.1145935058594, 305.11260986328125, 303.1095886230469, 301.10589599609375, 299.1014099121094, 297.0960998535156, 295.0899963378906, 293.08319091796875, 291.0755920410156, 289.0672912597656, 287.05828857421875, 285.0486145019531, 283.0382080078125, 281.0271911621094, 279.0155029296875, 277.0032043457031, 274.99029541015625, 272.976806640625, 270.96258544921875, 268.9479064941406, 266.9325866699219, 264.91680908203125, 262.900390625, 260.8833923339844, 258.86590576171875, 256.847900390625, 254.8292999267578, 252.81019592285156, 250.7906036376953, 248.77040100097656, 246.7498016357422, 244.72860717773438, 242.70680236816406, 240.68460083007812, 238.66180419921875, 236.63839721679688, 234.61459350585938, 232.59019470214844, 230.56520080566406, 228.5395965576172, 226.51339721679688, 224.4866943359375, 222.4593963623047, 220.431396484375, 218.40280151367188, 216.37359619140625, 214.3437042236328, 212.31320190429688, 210.2819061279297, 208.25, 206.21730041503906, 204.18389892578125, 202.1497039794922, 200.11480712890625, 198.0791015625, 196.0426025390625, 194.00540161132812, 191.96730041503906, 189.92840576171875, 187.8885955810547, 185.84800720214844, 183.8065948486328, 181.764404296875, 179.72140502929688, 177.67759704589844, 175.63299560546875, 173.5876007080078, 171.54150390625, 169.4947052001953, 167.44720458984375, 165.3990936279297, 163.35049438476562, 161.30130004882812, 159.25169372558594, 157.2017059326172, 155.15139770507812, 153.1009063720703, 151.05020141601562, 148.99949645996094], [351.0096130371094, 348.95849609375, 346.9075012207031, 344.8565979003906, 342.80609130859375, 340.75579833984375, 338.7059020996094, 336.656494140625, 334.6075134277344, 332.5592041015625, 330.51141357421875, 328.46429443359375, 326.4179992675781, 324.372314453125, 322.327392578125, 320.2832946777344, 318.239990234375, 316.1976013183594, 314.156005859375, 312.1152038574219, 310.0751953125, 308.0361022949219, 305.997802734375, 303.9602966308594, 301.9236145019531, 299.8877868652344, 297.85260009765625, 295.81829833984375, 293.7847900390625, 291.75189208984375, 289.71978759765625, 287.6883850097656, 285.65771484375, 283.627685546875, 281.5982971191406, 279.5696105957031, 277.54150390625, 275.5140075683594, 273.4872131347656, 271.4609069824219, 269.4352111816406, 267.41009521484375, 265.385498046875, 263.3616027832031, 261.3381042480469, 259.315185546875, 257.29278564453125, 255.27099609375, 253.24969482421875, 251.22889709472656, 249.20860290527344, 247.18890380859375, 245.16969299316406, 243.1510009765625, 241.13290405273438, 239.11529541015625, 237.09820556640625, 235.08169555664062, 233.06570434570312, 231.05029296875, 229.035400390625, 227.0211944580078, 225.00750732421875, 222.99440002441406, 220.98199462890625, 218.97019958496094, 216.95899963378906, 214.94850158691406, 212.9385986328125, 210.92950439453125, 208.92100524902344, 206.91329956054688, 204.9062957763672, 202.89999389648438, 200.89450073242188, 198.88980102539062, 196.88589477539062, 194.88279724121094, 192.88040161132812, 190.87899780273438, 188.8782958984375, 186.87840270996094, 184.87939453125, 182.88119506835938, 180.88380432128906, 178.88720703125, 176.8914031982422, 174.89639282226562, 172.902099609375, 170.9084930419922, 168.91549682617188, 166.92320251464844, 164.931396484375, 162.94020080566406, 160.94940185546875, 158.95889282226562, 156.9687957763672, 154.97889709472656, 152.98910522460938, 150.99949645996094], [353.02978515625, 350.91680908203125, 348.8041076660156, 346.69189453125, 344.5804138183594, 342.46978759765625, 340.36041259765625, 338.2522888183594, 336.14581298828125, 334.0409851074219, 331.93798828125, 329.83709716796875, 327.7383117675781, 325.6416931152344, 323.5473937988281, 321.4555969238281, 319.3660888671875, 317.27911376953125, 315.1946105957031, 313.11260986328125, 311.033203125, 308.9562072753906, 306.8817138671875, 304.8096008300781, 302.739990234375, 300.67279052734375, 298.6080017089844, 296.54541015625, 294.4851989746094, 292.4270935058594, 290.3711853027344, 288.3174133300781, 286.26568603515625, 284.21600341796875, 282.16839599609375, 280.1225891113281, 278.07879638671875, 276.03680419921875, 273.9966125488281, 271.95819091796875, 269.9216003417969, 267.8865966796875, 265.8533935546875, 263.8218994140625, 261.7919006347656, 259.76361083984375, 257.73699951171875, 255.71180725097656, 253.68829345703125, 251.66639709472656, 249.64599609375, 247.627197265625, 245.61000061035156, 243.5944061279297, 241.58030700683594, 239.56790161132812, 237.5570068359375, 235.5478973388672, 233.5404052734375, 231.5345001220703, 229.5303955078125, 227.5279998779297, 225.52740478515625, 223.52859497070312, 221.53160095214844, 219.5364990234375, 217.54339599609375, 215.5522003173828, 213.56300354003906, 211.57589721679688, 209.5908966064453, 207.60809326171875, 205.62750244140625, 203.6490936279297, 201.67300415039062, 199.69920349121094, 197.72779846191406, 195.75880432128906, 193.79229736328125, 191.8282012939453, 189.86659240722656, 187.90750122070312, 185.9508056640625, 183.9967041015625, 182.0449981689453, 180.095703125, 178.14869689941406, 176.20399475097656, 174.2615966796875, 172.32130432128906, 170.38290405273438, 168.44639587402344, 166.5115966796875, 164.5782928466797, 162.64639282226562, 160.71560668945312, 158.78570556640625, 156.85659790039062, 154.9279022216797, 152.99949645996094], [355.04998779296875, 352.87469482421875, 350.69989013671875, 348.5259094238281, 346.35308837890625, 344.181884765625, 342.0126037597656, 339.8456115722656, 337.68121337890625, 335.5198059082031, 333.36138916015625, 331.2063903808594, 329.05499267578125, 326.90740966796875, 324.76361083984375, 322.6239013671875, 320.4881896972656, 318.3565979003906, 316.22918701171875, 314.1061096191406, 311.9870910644531, 309.872314453125, 307.7615966796875, 305.65509033203125, 303.5526123046875, 301.4541015625, 299.3595886230469, 297.268798828125, 295.1820068359375, 293.09869384765625, 291.01910400390625, 288.9429931640625, 286.8703918457031, 284.80120849609375, 282.73529052734375, 280.672607421875, 278.61309814453125, 276.5566101074219, 274.5032043457031, 272.45269775390625, 270.40521240234375, 268.3605041503906, 266.318603515625, 264.2795104980469, 262.24310302734375, 260.2095031738281, 258.1784973144531, 256.15008544921875, 254.12440490722656, 252.10130310058594, 250.08079528808594, 248.06300354003906, 246.04769897460938, 244.03509521484375, 242.02520751953125, 240.0178985595703, 238.0133056640625, 236.0113983154297, 234.01229858398438, 232.01600646972656, 230.0225067138672, 228.0319061279297, 226.04429626464844, 224.0596923828125, 222.0782012939453, 220.09979248046875, 218.12460327148438, 216.15260314941406, 214.18409729003906, 212.218994140625, 210.2574005126953, 208.2993927001953, 206.34500122070312, 204.39439392089844, 202.44769287109375, 200.5048065185547, 198.56590270996094, 196.63099670410156, 194.7001953125, 192.77349853515625, 190.8509063720703, 188.9324951171875, 187.01829528808594, 185.1082000732422, 183.2021942138672, 181.30029296875, 179.4022979736328, 177.5081024169922, 175.61770629882812, 173.73080444335938, 171.84730529785156, 169.966796875, 168.08929443359375, 166.21429443359375, 164.3415069580078, 162.47079467773438, 160.60150146484375, 158.73350524902344, 156.86630249023438, 154.99949645996094], [357.0701904296875, 354.8320007324219, 352.5943908691406, 350.3580017089844, 348.1231994628906, 345.89080810546875, 343.66119384765625, 341.434814453125, 339.21209716796875, 336.9934997558594, 334.7793884277344, 332.57000732421875, 330.3658142089844, 328.16680908203125, 325.973388671875, 323.7856140136719, 321.6036071777344, 319.4273986816406, 317.2571105957031, 315.0928039550781, 312.9342956542969, 310.7817077636719, 308.635009765625, 306.4939880371094, 304.3587951660156, 302.2290954589844, 300.1050109863281, 297.9862060546875, 295.872802734375, 293.7644958496094, 291.6612854003906, 289.5631103515625, 287.4696960449219, 285.3810119628906, 283.2969970703125, 281.2174987792969, 279.14239501953125, 277.07159423828125, 275.0050048828125, 272.9425964355469, 270.8841857910156, 268.8298034667969, 266.7793884277344, 264.7327880859375, 262.69000244140625, 260.6510009765625, 258.6156921386719, 256.5841064453125, 254.5561981201172, 252.53199768066406, 250.5113983154297, 248.4945068359375, 246.481201171875, 244.4716033935547, 242.4656982421875, 240.4635009765625, 238.46510314941406, 236.4705047607422, 234.47970581054688, 232.4927978515625, 230.50999450683594, 228.53109741210938, 226.556396484375, 224.58580017089844, 222.61959838867188, 220.65780639648438, 218.7003936767578, 216.74769592285156, 214.7996063232422, 212.8563995361328, 210.91799926757812, 208.9846954345703, 207.05650329589844, 205.13360595703125, 203.21600341796875, 201.3040008544922, 199.39739990234375, 197.49659729003906, 195.6013946533203, 193.71209716796875, 191.82850646972656, 189.95089721679688, 188.07899475097656, 186.21310424804688, 184.3529052734375, 182.49850463867188, 180.64959716796875, 178.8061981201172, 176.9680938720703, 175.13499450683594, 173.3065948486328, 171.48260498046875, 169.6627960205078, 167.8466033935547, 166.03359985351562, 164.22340393066406, 162.4154052734375, 160.60910034179688, 158.8040008544922, 156.99949645996094], [359.09039306640625, 356.7882995605469, 354.48699951171875, 352.1872863769531, 349.8898010253906, 347.5953063964844, 345.30450439453125, 343.0179138183594, 340.7362976074219, 338.4599914550781, 336.1896057128906, 333.9254150390625, 331.6679992675781, 329.4173889160156, 327.17401123046875, 324.93798828125, 322.7095031738281, 320.48858642578125, 318.275390625, 316.0697937011719, 313.87200927734375, 311.68170166015625, 309.4989929199219, 307.3236999511719, 305.1557922363281, 302.9952087402344, 300.84161376953125, 298.69500732421875, 296.5552062988281, 294.4222106933594, 292.29559326171875, 290.17529296875, 288.0614013671875, 285.9533996582031, 283.8514099121094, 281.75518798828125, 279.6647033691406, 277.5797119140625, 275.5000915527344, 273.4258117675781, 271.3568115234375, 269.29278564453125, 267.2337951660156, 265.1799011230469, 263.13079833984375, 261.08648681640625, 259.0469970703125, 257.01220703125, 254.98219299316406, 252.95680236816406, 250.93609619140625, 248.92010498046875, 246.90879821777344, 244.90220642089844, 242.90020751953125, 240.90310668945312, 238.91079711914062, 236.92340087890625, 234.9407958984375, 232.9633026123047, 230.99090576171875, 229.0236053466797, 227.06170654296875, 225.1051025390625, 223.1540069580078, 221.20860290527344, 219.26890563964844, 217.33509826660156, 215.4073944091797, 213.4857940673828, 211.57049560546875, 209.6616973876953, 207.75950622558594, 205.86410522460938, 203.97560119628906, 202.0941925048828, 200.2198944091797, 198.3529052734375, 196.49330139160156, 194.64120483398438, 192.7967071533203, 190.95970153808594, 189.13040161132812, 187.30859375, 185.49440002441406, 183.6876983642578, 181.88819885253906, 180.09579467773438, 178.31039428710938, 176.53140258789062, 174.75880432128906, 172.9918975830078, 171.2303924560547, 169.47369384765625, 167.72120666503906, 165.97239685058594, 164.22650146484375, 162.48289489746094, 160.7407989501953, 158.99949645996094], [361.110595703125, 358.743408203125, 356.377197265625, 354.01300048828125, 351.6514892578125, 349.2939147949219, 346.9407958984375, 344.59320068359375, 342.2518005371094, 339.9169921875, 337.589599609375, 335.27020263671875, 332.9590148925781, 330.6564025878906, 328.36279296875, 326.0783996582031, 323.8031921386719, 321.5375061035156, 319.28131103515625, 317.03460693359375, 314.7973937988281, 312.5694885253906, 310.35101318359375, 308.1416015625, 305.9411926269531, 303.7497863769531, 301.5669860839844, 299.3927917480469, 297.22698974609375, 295.0692138671875, 292.91949462890625, 290.777587890625, 288.6431884765625, 286.5162048339844, 284.3965148925781, 282.2838134765625, 280.1781005859375, 278.0791015625, 275.9866027832031, 273.90069580078125, 271.8210144042969, 269.7475891113281, 267.6803894042969, 265.6191101074219, 263.5638122558594, 261.5143127441406, 259.4706115722656, 257.43280029296875, 255.40060424804688, 253.3740997314453, 251.35330200195312, 249.33819580078125, 247.32879638671875, 245.3249969482422, 243.3271026611328, 241.33489990234375, 239.34860229492188, 237.36819458007812, 235.393798828125, 233.42550659179688, 231.46339416503906, 229.50759887695312, 227.55819702148438, 225.6154022216797, 223.6793975830078, 221.75010681152344, 219.82789611816406, 217.9127960205078, 216.0052032470703, 214.10499572753906, 212.2126007080078, 210.32809448242188, 208.45159912109375, 206.58349609375, 204.7238006591797, 202.872802734375, 201.0305938720703, 199.19729614257812, 197.37319946289062, 195.55819702148438, 193.75259399414062, 191.956298828125, 190.16949462890625, 188.39199829101562, 186.6239013671875, 184.86509704589844, 183.11529541015625, 181.37440490722656, 179.64199829101562, 177.9178924560547, 176.20159912109375, 174.49249267578125, 172.7902069091797, 171.09390258789062, 169.4029998779297, 167.7165985107422, 166.03399658203125, 164.3542022705078, 162.67640686035156, 160.99949645996094], [363.13079833984375, 360.6968994140625, 358.2641906738281, 355.8340148925781, 353.4071960449219, 350.9849853515625, 348.5685119628906, 346.1585998535156, 343.7561950683594, 341.3622131347656, 338.97698974609375, 336.60150146484375, 334.2359924316406, 331.8810119628906, 329.53680419921875, 327.20361328125, 324.8817138671875, 322.57110595703125, 320.27191162109375, 317.9841003417969, 315.7076110839844, 313.4422912597656, 311.1881103515625, 308.9447937011719, 306.7123107910156, 304.49029541015625, 302.2786865234375, 300.07720947265625, 297.885498046875, 295.7034912109375, 293.5309143066406, 291.36749267578125, 289.2131042480469, 287.0674133300781, 284.9302062988281, 282.8013000488281, 280.68060302734375, 278.56781005859375, 276.4627990722656, 274.36529541015625, 272.2752990722656, 270.1925964355469, 268.1171875, 266.0487060546875, 263.9873046875, 261.93280029296875, 259.885009765625, 257.843994140625, 255.80979919433594, 253.78219604492188, 251.7613067626953, 249.7469940185547, 247.739501953125, 245.7386932373047, 243.74459838867188, 241.75729370117188, 239.7769012451172, 237.80340576171875, 235.83700561523438, 233.8778076171875, 231.92579650878906, 229.981201171875, 228.04429626464844, 226.11500549316406, 224.193603515625, 222.28030395507812, 220.3751983642578, 218.47869873046875, 216.59080505371094, 214.71180725097656, 212.84190368652344, 210.9813995361328, 209.13040161132812, 207.28919982910156, 205.45809936523438, 203.63720703125, 201.82679748535156, 200.02699279785156, 198.23809814453125, 196.460205078125, 194.6934051513672, 192.93780517578125, 191.1934051513672, 189.46029663085938, 187.73849487304688, 186.02780151367188, 184.32809448242188, 182.63909912109375, 180.9604034423828, 179.2917938232422, 177.63259887695312, 175.9822998046875, 174.34019470214844, 172.70550537109375, 171.077392578125, 169.45489501953125, 167.83689880371094, 166.22250366210938, 164.6103973388672, 162.99949645996094], [365.1510009765625, 362.64849853515625, 360.14739990234375, 357.6492004394531, 355.1553039550781, 352.6669921875, 350.18548583984375, 347.7120056152344, 345.2474060058594, 342.79278564453125, 340.3489990234375, 337.91650390625, 335.49609375, 333.0880126953125, 330.6929016113281, 328.3106994628906, 325.94189453125, 323.5863037109375, 321.24420166015625, 318.9153137207031, 316.5997009277344, 314.2972106933594, 312.0075988769531, 309.7308044433594, 307.4664001464844, 305.2142028808594, 302.9739990234375, 300.7455139160156, 298.52850341796875, 296.3226013183594, 294.12750244140625, 291.9429931640625, 289.768798828125, 287.6047058105469, 285.4504089355469, 283.3056945800781, 281.1702880859375, 279.04400634765625, 276.9266052246094, 274.8179016113281, 272.7178039550781, 270.6260986328125, 268.5426025390625, 266.46710205078125, 264.3996887207031, 262.3402099609375, 260.28839111328125, 258.244384765625, 256.20819091796875, 254.17950439453125, 252.1584930419922, 250.14520263671875, 248.139404296875, 246.1414031982422, 244.15109252929688, 242.16859436035156, 240.19400024414062, 238.227294921875, 236.26870727539062, 234.31829833984375, 232.37620544433594, 230.4427032470703, 228.51780700683594, 226.601806640625, 224.69479370117188, 222.7971954345703, 220.90899658203125, 219.03050231933594, 217.16200256347656, 215.30380249023438, 213.4561004638672, 211.61920166015625, 209.79330444335938, 207.9788055419922, 206.17579650878906, 204.38479614257812, 202.60580444335938, 200.83929443359375, 199.08529663085938, 197.3441925048828, 195.61599731445312, 193.9010009765625, 192.1990966796875, 190.510498046875, 188.835205078125, 187.1728973388672, 185.5236053466797, 183.88699340820312, 182.2626953125, 180.65040588378906, 179.04930114746094, 177.45880126953125, 175.87820434570312, 174.30650329589844, 172.74270629882812, 171.18569946289062, 169.6342010498047, 168.08689880371094, 166.54249572753906, 164.99949645996094], [367.17120361328125, 364.5978088378906, 362.0260009765625, 359.45770263671875, 356.8945007324219, 354.3380126953125, 351.78961181640625, 349.25079345703125, 346.72259521484375, 344.2062072753906, 341.7025146484375, 339.2121887207031, 336.7359924316406, 334.2745056152344, 331.8279113769531, 329.3965148925781, 326.9804992675781, 324.5799865722656, 322.19488525390625, 319.8251953125, 317.470703125, 315.1311950683594, 312.8066101074219, 310.4964904785156, 308.2005920410156, 305.9187927246094, 303.650390625, 301.3955078125, 299.1534118652344, 296.9241027832031, 294.7070007324219, 292.5018005371094, 290.30841064453125, 288.1263122558594, 285.9552917480469, 283.7950134277344, 281.6452941894531, 279.50579833984375, 277.37640380859375, 275.2568054199219, 273.14678955078125, 271.04620361328125, 268.9548034667969, 266.8725891113281, 264.7994079589844, 262.7349853515625, 260.6794128417969, 258.63250732421875, 256.5942077636719, 254.5644989013672, 252.54339599609375, 250.53089904785156, 248.52699279785156, 246.5316925048828, 244.54510498046875, 242.56719970703125, 240.59820556640625, 238.6381072998047, 236.68710327148438, 234.7454071044922, 232.81300354003906, 230.89010620117188, 228.9770965576172, 227.07400512695312, 225.1811065673828, 223.2987060546875, 221.427001953125, 219.56619262695312, 217.716796875, 215.87890625, 214.05299377441406, 212.23919677734375, 210.43800354003906, 208.64959716796875, 206.87440490722656, 205.11270141601562, 203.36489868164062, 201.63119506835938, 199.91189575195312, 198.2071990966797, 196.5175018310547, 194.8428955078125, 193.18350219726562, 191.53939819335938, 189.9105987548828, 188.29710388183594, 186.69859313964844, 185.11500549316406, 183.5458984375, 181.99070739746094, 180.4488067626953, 178.91949462890625, 177.4019012451172, 175.89480590820312, 174.39720153808594, 172.9075927734375, 171.4246063232422, 169.94679260253906, 168.47230529785156, 166.99949645996094], [369.1914978027344, 366.544189453125, 363.89898681640625, 361.2579040527344, 358.6228942871094, 355.99578857421875, 353.3785095214844, 350.7723083496094, 348.1788024902344, 345.5990905761719, 343.0343017578125, 340.4851989746094, 337.9525146484375, 335.4367980957031, 332.93829345703125, 330.4573974609375, 327.99420166015625, 325.5487060546875, 323.12091064453125, 320.71051025390625, 318.3174133300781, 315.94140625, 313.58221435546875, 311.2392883300781, 308.9125061035156, 306.6012878417969, 304.3055114746094, 302.0245056152344, 299.75799560546875, 297.5057067871094, 295.2672119140625, 293.0419006347656, 290.82958984375, 288.6300048828125, 286.44268798828125, 284.26739501953125, 282.1037902832031, 279.9515075683594, 277.8103942871094, 275.68011474609375, 273.56048583984375, 271.4513854980469, 269.3523864746094, 267.26361083984375, 265.184814453125, 263.1156005859375, 261.0563049316406, 259.006591796875, 256.9664001464844, 254.93569946289062, 252.9145050048828, 250.90280151367188, 248.90060424804688, 246.9080047607422, 244.92489624023438, 242.95159912109375, 240.98800659179688, 239.0343017578125, 237.0906982421875, 235.15719604492188, 233.2342071533203, 231.32179260253906, 229.42019653320312, 227.52969360351562, 225.65049743652344, 223.78289794921875, 221.9272003173828, 220.08380126953125, 218.2528076171875, 216.43479919433594, 214.63009643554688, 212.83900451660156, 211.06179809570312, 209.29910278320312, 207.5511932373047, 205.8184051513672, 204.10110473632812, 202.39979553222656, 200.71470642089844, 199.04620361328125, 197.3946990966797, 195.76019287109375, 194.14309692382812, 192.5435028076172, 190.96139526367188, 189.3968963623047, 187.84970092773438, 186.3197021484375, 184.80650329589844, 183.3094940185547, 181.82809448242188, 180.3614044189453, 178.9084014892578, 177.46800231933594, 176.03860473632812, 174.61880493164062, 173.20689392089844, 171.80099487304688, 170.39930725097656, 168.99949645996094], [371.2117004394531, 368.4872131347656, 365.7652893066406, 363.0481872558594, 360.3384094238281, 357.6380920410156, 354.9491882324219, 352.27349853515625, 349.6127014160156, 346.9679870605469, 344.3406982421875, 341.731689453125, 339.1416931152344, 336.57110595703125, 334.0203857421875, 331.48980712890625, 328.9794006347656, 326.489013671875, 324.0185852050781, 321.5679016113281, 319.1366882324219, 316.724609375, 314.3312072753906, 311.9562072753906, 309.5989990234375, 307.2591857910156, 304.9364013671875, 302.63018798828125, 300.33990478515625, 298.065185546875, 295.8057861328125, 293.5610046386719, 291.33050537109375, 289.1138916015625, 286.9107971191406, 284.72088623046875, 282.5437927246094, 280.37921142578125, 278.226806640625, 276.0863037109375, 273.9573974609375, 271.8399963378906, 269.7337951660156, 267.63861083984375, 265.5542907714844, 263.480712890625, 261.4176940917969, 259.3652038574219, 257.3232116699219, 255.29150390625, 253.27029418945312, 251.2593994140625, 249.25880432128906, 247.26870727539062, 245.28909301757812, 243.32009887695312, 241.36180114746094, 239.41419982910156, 237.4777069091797, 235.55239868164062, 233.63839721679688, 231.73599243164062, 229.84559631347656, 227.96719360351562, 226.1011962890625, 224.2480010986328, 222.40780639648438, 220.58099365234375, 218.76809692382812, 216.9694061279297, 215.18519592285156, 213.41619873046875, 211.66250610351562, 209.9248046875, 208.20339965820312, 206.4989013671875, 204.81170654296875, 203.14219665527344, 201.4907989501953, 199.85800170898438, 198.24420166015625, 196.64959716796875, 195.07460021972656, 193.51939392089844, 191.98399353027344, 190.4687042236328, 188.97320556640625, 187.49740600585938, 186.0408935546875, 184.6031951904297, 183.18359375, 181.7812042236328, 180.39480590820312, 179.02310180664062, 177.6645965576172, 176.31739807128906, 174.97950744628906, 173.6488037109375, 172.32290649414062, 170.99960327148438], [373.2319030761719, 370.4263000488281, 367.62359619140625, 364.826904296875, 362.0387878417969, 359.2618103027344, 356.4985046386719, 353.7507019042969, 351.0203857421875, 348.3089904785156, 345.6177062988281, 342.9476013183594, 340.2992858886719, 337.67340087890625, 335.0701904296875, 332.48968505859375, 329.9320983886719, 327.3970947265625, 324.8843994140625, 322.3938903808594, 319.92510986328125, 317.47760009765625, 315.0506896972656, 312.6441955566406, 310.25738525390625, 307.8898010253906, 305.5408020019531, 303.20989990234375, 300.8966064453125, 298.60040283203125, 296.3205871582031, 294.0570068359375, 291.80889892578125, 289.57598876953125, 287.3576965332031, 285.15380859375, 282.9637145996094, 280.7872009277344, 278.6239929199219, 276.4736022949219, 274.3359069824219, 272.2106018066406, 270.0972900390625, 267.9960021972656, 265.906494140625, 263.82861328125, 261.7620849609375, 259.7070007324219, 257.6632080078125, 255.63059997558594, 253.6092987060547, 251.59910583496094, 249.60020446777344, 247.6125030517578, 245.63619995117188, 243.67140197753906, 241.71800231933594, 239.77639770507812, 237.8468017578125, 235.92919921875, 234.02389526367188, 232.13119506835938, 230.2512969970703, 228.3845977783203, 226.5312957763672, 224.69189453125, 222.86669921875, 221.05599975585938, 219.26040649414062, 217.4803009033203, 215.71609497070312, 213.96839904785156, 212.2375030517578, 210.5240936279297, 208.82859802246094, 207.15159606933594, 205.4936981201172, 203.8553009033203, 202.23699951171875, 200.6392059326172, 199.06260681152344, 197.5074005126953, 195.97410583496094, 194.46299743652344, 192.97439575195312, 191.50830078125, 190.06480407714844, 188.643798828125, 187.2449951171875, 185.86770629882812, 184.5113983154297, 183.1750946044922, 181.8574981689453, 180.55709838867188, 179.2722930908203, 178.00079345703125, 176.7404022216797, 175.4886016845703, 174.2425994873047, 172.99960327148438], [375.2521057128906, 372.360595703125, 369.47259521484375, 366.59161376953125, 363.72100830078125, 360.8638000488281, 358.0226135253906, 355.1997985839844, 352.3976135253906, 349.6174011230469, 346.860595703125, 344.1282043457031, 341.4208984375, 338.7391052246094, 336.0830993652344, 333.4527893066406, 330.84820556640625, 328.2690124511719, 325.7146911621094, 323.1849060058594, 320.67919921875, 318.1969909667969, 315.73760986328125, 313.3004150390625, 310.8847961425781, 308.4902038574219, 306.11590576171875, 303.7611999511719, 301.4258117675781, 299.10870361328125, 296.8096008300781, 294.5278015136719, 292.2629089355469, 290.0143127441406, 287.781494140625, 285.564208984375, 283.3617858886719, 281.17401123046875, 279.00030517578125, 276.8406066894531, 274.69439697265625, 272.5614929199219, 270.44158935546875, 268.3345031738281, 266.239990234375, 264.1579895019531, 262.08819580078125, 260.0306091308594, 257.9851989746094, 255.9517059326172, 253.93020629882812, 251.92080688476562, 249.92340087890625, 247.93800354003906, 245.96490478515625, 244.00399780273438, 242.05540466308594, 240.1195068359375, 238.19630432128906, 236.28599548339844, 234.38900756835938, 232.50559997558594, 230.63580322265625, 228.7801971435547, 226.93910217285156, 225.11289978027344, 223.302001953125, 221.50680541992188, 219.72779846191406, 217.96560668945312, 216.2205047607422, 214.49330139160156, 212.78439331054688, 211.0944061279297, 209.4239044189453, 207.7736053466797, 206.14410400390625, 204.53599548339844, 202.9499053955078, 201.38650512695312, 199.84629821777344, 198.32989501953125, 196.83779907226562, 195.37049865722656, 193.92840576171875, 192.5115966796875, 191.12030029296875, 189.7545928955078, 188.41409301757812, 187.09840393066406, 185.8070068359375, 184.5386962890625, 183.29229736328125, 182.06619262695312, 180.85830688476562, 179.6663055419922, 178.4875946044922, 177.31910705566406, 176.1575927734375, 174.99960327148438], [377.27239990234375, 374.2890930175781, 371.3102111816406, 368.3396911621094, 365.3818054199219, 362.4397888183594, 359.51690673828125, 356.6159973144531, 353.7391052246094, 350.88800048828125, 348.0640869140625, 345.2684020996094, 342.5013122558594, 339.7633056640625, 337.05450439453125, 334.3746032714844, 331.723388671875, 329.1004943847656, 326.50531005859375, 323.93719482421875, 321.3955078125, 318.8794860839844, 316.38848876953125, 313.92169189453125, 311.4783935546875, 309.05780029296875, 306.6592102050781, 304.28179931640625, 301.92510986328125, 299.58819580078125, 297.2705993652344, 294.97149658203125, 292.69061279296875, 290.4270935058594, 288.1805114746094, 285.9504089355469, 283.7362976074219, 281.5376892089844, 279.35430908203125, 277.1856994628906, 275.031494140625, 272.8913879394531, 270.76519775390625, 268.652587890625, 266.5534973144531, 264.4674987792969, 262.39459228515625, 260.3348083496094, 258.28759765625, 256.2533874511719, 254.23179626464844, 252.2230987548828, 250.2270965576172, 248.24400329589844, 246.2738037109375, 244.3166046142578, 242.3726043701172, 240.44200134277344, 238.52490234375, 236.62159729003906, 234.73240661621094, 232.85760498046875, 230.9976043701172, 229.15249633789062, 227.322998046875, 225.5092010498047, 223.71189880371094, 221.931396484375, 220.16819763183594, 218.42300415039062, 216.69619750976562, 214.9886016845703, 213.30059814453125, 211.6331024169922, 209.9866943359375, 208.36199951171875, 206.75999450683594, 205.1811065673828, 203.6262969970703, 202.09620666503906, 200.5915985107422, 199.1132049560547, 197.66160583496094, 196.2375030517578, 194.84129333496094, 193.47360229492188, 192.1345977783203, 190.82449340820312, 189.54310607910156, 188.2902069091797, 187.06509399414062, 185.86700439453125, 184.69439697265625, 183.5457000732422, 182.41859436035156, 181.3105926513672, 180.2183074951172, 179.13839721679688, 178.06680297851562, 176.99960327148438], [379.2926025390625, 376.2106018066406, 373.1340026855469, 370.06781005859375, 367.0166015625, 363.98480224609375, 360.97601318359375, 357.9931945800781, 355.0389099121094, 352.11480712890625, 349.2221984863281, 346.3620910644531, 343.5347900390625, 340.7406005859375, 337.9790954589844, 335.2500915527344, 332.5531005859375, 329.88739013671875, 327.252197265625, 324.64678955078125, 322.0703125, 319.52178955078125, 317.0003967285156, 314.50518798828125, 312.035400390625, 309.5899963378906, 307.168212890625, 304.7691955566406, 302.3923034667969, 300.0365905761719, 297.7013854980469, 295.3861999511719, 293.0899963378906, 290.8125, 288.5530090332031, 286.310791015625, 284.085693359375, 281.87701416015625, 279.68438720703125, 277.50738525390625, 275.345703125, 273.1990051269531, 271.06689453125, 268.9491882324219, 266.8456115722656, 264.7560119628906, 262.6802062988281, 260.61810302734375, 258.5694885253906, 256.5343933105469, 254.5128936767578, 252.5048065185547, 250.51010131835938, 248.5290069580078, 246.5615997314453, 244.60789489746094, 242.66810607910156, 240.74249267578125, 238.83120727539062, 236.9344940185547, 235.05259704589844, 233.18600463867188, 231.3350067138672, 229.49989318847656, 227.6811065673828, 225.8791961669922, 224.09469604492188, 222.3280029296875, 220.57980346679688, 218.85060119628906, 217.14120483398438, 215.45199584960938, 213.78399658203125, 212.1378936767578, 210.51429748535156, 208.91419982910156, 207.3383026123047, 205.78750610351562, 204.2626953125, 202.76480102539062, 201.2946014404297, 199.8531036376953, 198.4409942626953, 197.0592041015625, 195.70840454101562, 194.38929748535156, 193.10240173339844, 191.84800720214844, 190.62620544433594, 189.43699645996094, 188.2799072265625, 187.1540069580078, 186.05810546875, 184.9904022216797, 183.94839477539062, 182.92919921875, 181.92909240722656, 180.94400024414062, 179.9691925048828, 178.99960327148438], [381.31280517578125, 378.12359619140625, 374.94110107421875, 371.7713928222656, 368.62030029296875, 365.4927978515625, 362.3931884765625, 359.32470703125, 356.2898864746094, 353.29058837890625, 350.3280944824219, 347.40289306640625, 344.5151062011719, 341.664794921875, 338.8512878417969, 336.0740051269531, 333.33221435546875, 330.625, 327.9512023925781, 325.309814453125, 322.69989013671875, 320.12030029296875, 317.57000732421875, 315.04779052734375, 312.55279541015625, 310.0840148925781, 307.6404113769531, 305.2210998535156, 302.8251953125, 300.451904296875, 298.10040283203125, 295.7698059082031, 293.4595031738281, 291.1689147949219, 288.8971862792969, 286.6440124511719, 284.4085998535156, 282.19049072265625, 279.9892883300781, 277.8045959472656, 275.6358947753906, 273.48291015625, 271.3453063964844, 269.2228088378906, 267.1152038574219, 265.0221862792969, 262.9436950683594, 260.8796081542969, 258.82958984375, 256.7937927246094, 254.77220153808594, 252.7646026611328, 250.7711944580078, 248.79200744628906, 246.8271942138672, 244.87680053710938, 242.94090270996094, 241.0198974609375, 239.11399841308594, 237.22329711914062, 235.34829711914062, 233.4893035888672, 231.6466064453125, 229.82080078125, 228.01210021972656, 226.22120666503906, 224.44859313964844, 222.6949005126953, 220.96060180664062, 219.2465057373047, 217.55320739746094, 215.88150024414062, 214.23219299316406, 212.60609436035156, 211.0041046142578, 209.42709350585938, 207.8760986328125, 206.3520050048828, 204.85580444335938, 203.3885955810547, 201.95150756835938, 200.54550170898438, 199.17160034179688, 197.83099365234375, 196.52450561523438, 195.2530975341797, 194.0177001953125, 192.8188018798828, 191.65679931640625, 190.53199768066406, 189.44419860839844, 188.3927001953125, 187.37640380859375, 186.39349365234375, 185.44140625, 184.51690673828125, 183.61570739746094, 182.73300170898438, 181.86309814453125, 180.99969482421875], [383.3330078125, 380.0260009765625, 376.7273864746094, 373.44500732421875, 370.185791015625, 366.9559020996094, 363.760009765625, 360.6017150878906, 357.4836120605469, 354.40728759765625, 351.3738098144531, 348.3830871582031, 345.4352111816406, 342.5293884277344, 339.6650085449219, 336.8407897949219, 334.0556945800781, 331.30841064453125, 328.5976867675781, 325.9222106933594, 323.2806091308594, 320.6716003417969, 318.093994140625, 315.5466003417969, 313.0281066894531, 310.53741455078125, 308.073486328125, 305.63519287109375, 303.2218017578125, 300.83209228515625, 298.4653015136719, 296.1206970214844, 293.7973937988281, 291.4945983886719, 289.2117919921875, 286.9482116699219, 284.7033996582031, 282.4767150878906, 280.2676086425781, 278.0758056640625, 275.90069580078125, 273.74200439453125, 271.5993957519531, 269.4725036621094, 267.3612060546875, 265.2651062011719, 263.1841125488281, 261.1180114746094, 259.0668029785156, 257.0303955078125, 255.00869750976562, 253.00169372558594, 251.0093994140625, 249.03199768066406, 247.0695037841797, 245.1219940185547, 243.18980407714844, 241.2729949951172, 239.3719940185547, 237.48699951171875, 235.61819458007812, 233.76620483398438, 231.9311981201172, 230.11380004882812, 228.3144989013672, 226.53370666503906, 224.7720947265625, 223.03030395507812, 221.30889892578125, 219.60870361328125, 217.93040466308594, 216.27479553222656, 214.6428985595703, 213.03550720214844, 211.45359802246094, 209.898193359375, 208.3704071044922, 206.87130737304688, 205.402099609375, 203.96400451660156, 202.55819702148438, 201.18589782714844, 199.84860229492188, 198.547607421875, 197.28390502929688, 196.0590057373047, 194.87399291992188, 193.7299041748047, 192.62750244140625, 191.56739807128906, 190.54989624023438, 189.57460021972656, 188.6407928466797, 187.7467041015625, 186.889892578125, 186.06680297851562, 185.27259826660156, 184.50149536132812, 183.7465057373047, 182.99969482421875], [385.3533020019531, 381.9148864746094, 378.4873962402344, 375.08099365234375, 371.7041015625, 368.3641052246094, 365.06610107421875, 361.81390380859375, 358.60980224609375, 355.4551086425781, 352.35009765625, 349.2944030761719, 346.2872009277344, 343.3275146484375, 340.4136962890625, 337.54449462890625, 334.7181091308594, 331.9328918457031, 329.1874084472656, 326.47979736328125, 323.80859375, 321.17230224609375, 318.56939697265625, 315.99859619140625, 313.4584045410156, 310.9476013183594, 308.4649963378906, 306.0093994140625, 303.57989501953125, 301.17529296875, 298.7947082519531, 296.43719482421875, 294.10198974609375, 291.7882080078125, 289.49530029296875, 287.222412109375, 284.968994140625, 282.7344055175781, 280.5181884765625, 278.32000732421875, 276.13909912109375, 273.9751892089844, 271.8280029296875, 269.69720458984375, 267.5823974609375, 265.4836120605469, 263.4002990722656, 261.3326110839844, 259.2803039550781, 257.2431945800781, 255.22140502929688, 253.21490478515625, 251.22369384765625, 249.24789428710938, 247.28750610351562, 245.3426971435547, 243.41380310058594, 241.50079345703125, 239.6042022705078, 237.7241973876953, 235.8612060546875, 234.0155029296875, 232.1875, 230.3778076171875, 228.58689880371094, 226.8153076171875, 225.06370544433594, 223.33270263671875, 221.6230010986328, 219.9355010986328, 218.2707977294922, 216.63009643554688, 215.01400756835938, 213.42379760742188, 211.8603057861328, 210.32479858398438, 208.8184051513672, 207.34249877929688, 205.89830017089844, 204.48719787597656, 203.110595703125, 201.7700958251953, 200.46719360351562, 199.20359802246094, 197.98089599609375, 196.80059814453125, 195.664306640625, 194.57359313964844, 193.5299072265625, 192.53419494628906, 191.58740234375, 190.689697265625, 189.84100341796875, 189.03990173339844, 188.28419494628906, 187.57009887695312, 186.89239501953125, 186.24400329589844, 185.6165008544922, 184.99969482421875], [387.3735046386719, 383.7862854003906, 380.2137145996094, 376.6690979003906, 373.1632080078125, 369.70440673828125, 366.2983093261719, 362.9483947753906, 359.6564025878906, 356.4226989746094, 353.2467956542969, 350.1274108886719, 347.06280517578125, 344.0513000488281, 341.0906982421875, 338.1789855957031, 335.31390380859375, 332.4934997558594, 329.7157897949219, 326.97869873046875, 324.2803955078125, 321.61920166015625, 318.9931945800781, 316.4012145996094, 313.84130859375, 311.3124084472656, 308.8128967285156, 306.341796875, 303.897705078125, 301.4797058105469, 299.0867004394531, 296.71771240234375, 294.3717956542969, 292.04840087890625, 289.7463073730469, 287.465087890625, 285.2041015625, 282.96258544921875, 280.739990234375, 278.5360107421875, 276.3500061035156, 274.1814880371094, 272.03021240234375, 269.8959045410156, 267.7781982421875, 265.6767883300781, 263.59161376953125, 261.52239990234375, 259.468994140625, 257.431396484375, 255.40960693359375, 253.40350341796875, 251.41319274902344, 249.4387969970703, 247.4803009033203, 245.53790283203125, 243.61180114746094, 241.702392578125, 239.8096923828125, 237.9342041015625, 236.07620239257812, 234.23609924316406, 232.41439819335938, 230.6114959716797, 228.82809448242188, 227.064697265625, 225.32200622558594, 223.60069274902344, 221.90150451660156, 220.2252960205078, 218.57290649414062, 216.94540405273438, 215.34359741210938, 213.76870727539062, 212.22189331054688, 210.70440673828125, 209.2174072265625, 207.7624969482422, 206.34100341796875, 204.95460510253906, 203.60479736328125, 202.29359436035156, 201.02259826660156, 199.79379272460938, 198.6092987060547, 197.4709930419922, 196.381103515625, 195.34170532226562, 194.35470581054688, 193.42210388183594, 192.54539489746094, 191.7259979248047, 190.96429443359375, 190.25990295410156, 189.6112060546875, 189.0146026611328, 188.464599609375, 187.95309448242188, 187.4691925048828, 186.9998016357422], [389.393798828125, 385.6340026855469, 381.8949890136719, 378.1946105957031, 374.54638671875, 370.9595947265625, 367.4399108886719, 363.989501953125, 360.6090087890625, 357.2972106933594, 354.05218505859375, 350.8717041015625, 347.7528991699219, 344.6929016113281, 341.68890380859375, 338.73809814453125, 335.8377990722656, 332.98541259765625, 330.1784973144531, 327.4148864746094, 324.6924133300781, 322.0089111328125, 319.36260986328125, 316.7515869140625, 314.1744079589844, 311.62939453125, 309.1152038574219, 306.63031005859375, 304.1736145019531, 301.743896484375, 299.3399963378906, 296.96099853515625, 294.6058044433594, 292.2737121582031, 289.96380615234375, 287.67529296875, 285.4075927734375, 283.16009521484375, 280.9320068359375, 278.7229919433594, 276.53240966796875, 274.3599853515625, 272.2052001953125, 270.06781005859375, 267.947509765625, 265.843994140625, 263.7569885253906, 261.6864013671875, 259.6322021484375, 257.5942077636719, 255.57240295410156, 253.5666046142578, 251.5771026611328, 249.60389709472656, 247.64700317382812, 245.70680236816406, 243.783203125, 241.87669372558594, 239.98739624023438, 238.1157989501953, 236.26220703125, 234.427001953125, 232.61070251464844, 230.81390380859375, 229.03700256347656, 227.2808074951172, 225.54580688476562, 223.83290100097656, 222.1428985595703, 220.47659301757812, 218.8350067138672, 217.218994140625, 215.6298065185547, 214.0684051513672, 212.53619384765625, 211.03460693359375, 209.56480407714844, 208.12840270996094, 206.72720336914062, 205.36279296875, 204.03700256347656, 202.7519989013672, 201.50979614257812, 200.31260681152344, 199.16299438476562, 198.0634002685547, 197.01649475097656, 196.02499389648438, 195.091796875, 194.2196044921875, 193.4113006591797, 192.66909790039062, 191.9949951171875, 191.39010620117188, 190.85389709472656, 190.38400268554688, 189.9748992919922, 189.6175994873047, 189.29840087890625, 188.9998016357422], [391.41400146484375, 387.44830322265625, 383.5140075683594, 379.6357116699219, 375.8302917480469, 372.1069030761719, 368.4693908691406, 364.9179992675781, 361.45050048828125, 358.0636901855469, 354.7538146972656, 351.5166015625, 348.3479919433594, 345.24420166015625, 342.2012939453125, 339.2156982421875, 336.2842102050781, 333.40380859375, 330.57159423828125, 327.784912109375, 325.0412902832031, 322.3385925292969, 319.6747131347656, 317.047607421875, 314.4555969238281, 311.89691162109375, 309.3699951171875, 306.8735046386719, 304.406005859375, 301.9661865234375, 299.5531005859375, 297.16558837890625, 294.8026123046875, 292.46319580078125, 290.1466064453125, 287.85198974609375, 285.5787048339844, 283.32598876953125, 281.0932922363281, 278.8800964355469, 276.685791015625, 274.510009765625, 272.3522033691406, 270.2121887207031, 268.0896911621094, 265.9844055175781, 263.8959045410156, 261.8243103027344, 259.769287109375, 257.73089599609375, 255.70899963378906, 253.70359802246094, 251.7147979736328, 249.7425994873047, 247.78709411621094, 245.84860229492188, 243.9272003173828, 242.023193359375, 240.1367950439453, 238.26849365234375, 236.41859436035156, 234.58749389648438, 232.7758026123047, 230.98399353027344, 229.2126007080078, 227.46240234375, 225.73399353027344, 224.02830505371094, 222.3459930419922, 220.68809509277344, 219.05560302734375, 217.44949340820312, 215.8708953857422, 214.32110595703125, 212.80140686035156, 211.31320190429688, 209.8582000732422, 208.43780517578125, 207.05389404296875, 205.70849609375, 204.40359497070312, 203.14129638671875, 201.9241943359375, 200.75489807128906, 199.63609313964844, 198.57080078125, 197.56239318847656, 196.61439514160156, 195.7303009033203, 194.914306640625, 194.17030334472656, 193.50230407714844, 192.914306640625, 192.4095001220703, 191.98980712890625, 191.6551055908203, 191.40170288085938, 191.22039794921875, 191.0946044921875, 190.9998016357422], [393.4342041015625, 389.2123107910156, 385.04229736328125, 380.95941162109375, 376.9818115234375, 373.1156005859375, 369.3601989746094, 365.7109069824219, 362.16180419921875, 358.706298828125, 355.3380126953125, 352.0506896972656, 348.83880615234375, 345.69720458984375, 342.6210021972656, 339.6059875488281, 336.6484069824219, 333.744384765625, 330.8909912109375, 328.0852966308594, 325.32440185546875, 322.6058044433594, 319.9273986816406, 317.2872009277344, 314.6828918457031, 312.1130065917969, 309.5758056640625, 307.0697937011719, 304.593505859375, 302.1455993652344, 299.72509765625, 297.3305969238281, 294.9612121582031, 292.6159973144531, 290.29400634765625, 287.994384765625, 285.71661376953125, 283.4598083496094, 281.2232971191406, 279.006591796875, 276.8092041015625, 274.6307067871094, 272.4706115722656, 270.3284912109375, 268.2041931152344, 266.097412109375, 264.0078125, 261.935302734375, 259.87969970703125, 257.84100341796875, 255.81900024414062, 253.81390380859375, 251.8256072998047, 249.8542022705078, 247.89990234375, 245.96279907226562, 244.04310607910156, 242.14109802246094, 240.2570037841797, 238.3914031982422, 236.54449462890625, 234.71670532226562, 232.90870666503906, 231.12100219726562, 229.35409545898438, 227.60879516601562, 225.88580322265625, 224.18580627441406, 222.50979614257812, 220.85879516601562, 219.2335968017578, 217.635498046875, 216.0655975341797, 214.52520751953125, 213.0157012939453, 211.53860473632812, 210.0955047607422, 208.68829345703125, 207.31869506835938, 205.98890686035156, 204.7010955810547, 203.45779418945312, 202.2615966796875, 201.11549377441406, 200.02259826660156, 198.9864959716797, 198.01100158691406, 197.10040283203125, 196.2592010498047, 195.49270629882812, 194.80650329589844, 194.20660400390625, 193.69940185546875, 193.29139709472656, 192.98849487304688, 192.79519653320312, 192.7122039794922, 192.7333984375, 192.8408966064453, 192.99989318847656], [395.45440673828125, 390.89239501953125, 386.42999267578125, 382.1134033203125, 377.9534912109375, 373.94580078125, 370.0794982910156, 366.3421936035156, 362.72198486328125, 359.20819091796875, 355.7914123535156, 352.46319580078125, 349.2164001464844, 346.04449462890625, 342.9419860839844, 339.9039001464844, 336.9258117675781, 334.00360107421875, 331.1337890625, 328.3132019042969, 325.53900146484375, 322.80828857421875, 320.1188049316406, 317.4684143066406, 314.85479736328125, 312.2763977050781, 309.7314147949219, 307.2181091308594, 304.7351989746094, 302.2810974121094, 299.85479736328125, 297.4552001953125, 295.08099365234375, 292.731201171875, 290.40521240234375, 288.1018981933594, 285.8205871582031, 283.56060791015625, 281.3211975097656, 279.10198974609375, 276.9023132324219, 274.7217102050781, 272.559814453125, 270.41619873046875, 268.2904968261719, 266.1825866699219, 264.09210205078125, 262.0188903808594, 259.9627990722656, 257.92388916015625, 255.90199279785156, 253.89700317382812, 251.9091033935547, 249.9384002685547, 247.98489379882812, 246.04879760742188, 244.13040161132812, 242.22999572753906, 240.3477020263672, 238.48399353027344, 236.639404296875, 234.81419372558594, 233.00900268554688, 231.22430419921875, 229.46080017089844, 227.7191925048828, 226.0001983642578, 224.30459594726562, 222.63340759277344, 220.9875946044922, 219.3679962158203, 217.7760009765625, 216.2126007080078, 214.6793975830078, 213.17770385742188, 211.70899963378906, 210.27520751953125, 208.87789916992188, 207.51930236816406, 206.20150756835938, 204.927001953125, 203.69830322265625, 202.51829528808594, 201.3903045654297, 200.3177032470703, 199.3043975830078, 198.35499572753906, 197.4741973876953, 196.6676025390625, 195.9416961669922, 195.30349731445312, 194.76119995117188, 194.32440185546875, 194.00360107421875, 193.81039428710938, 193.7572021484375, 193.85459899902344, 194.10740661621094, 194.50430297851562, 194.99989318847656], [397.4747009277344, 392.4115905761719, 387.5830078125, 383.0140075683594, 378.6796875, 374.548095703125, 370.5906982421875, 366.7843933105469, 363.11041259765625, 359.5537109375, 356.101806640625, 352.744384765625, 349.472900390625, 346.2799072265625, 343.1592102050781, 340.1050109863281, 337.11279296875, 334.1781005859375, 331.2972106933594, 328.46649169921875, 325.68310546875, 322.9442138671875, 320.247314453125, 317.5899963378906, 314.97021484375, 312.385986328125, 309.8356018066406, 307.3175048828125, 304.8299865722656, 302.37188720703125, 299.9418029785156, 297.5386047363281, 295.1611022949219, 292.80841064453125, 290.4796142578125, 288.1737976074219, 285.8901062011719, 283.62799072265625, 281.3868103027344, 279.1658020019531, 276.964599609375, 274.7825927734375, 272.6195068359375, 270.47479248046875, 268.3482971191406, 266.2395935058594, 264.14849853515625, 262.0747985839844, 260.01849365234375, 257.9794006347656, 255.9573974609375, 253.95260620117188, 251.96499633789062, 249.9947052001953, 248.0417938232422, 246.1063995361328, 244.18890380859375, 242.28939819335938, 240.4084014892578, 238.54600524902344, 236.70289611816406, 234.87939453125, 233.0760955810547, 231.2935028076172, 229.53219604492188, 227.79310607910156, 226.07679748535156, 224.3842010498047, 222.71620178222656, 221.0738067626953, 219.45799255371094, 217.87010192871094, 216.3112030029297, 214.78280639648438, 213.2863006591797, 211.82330322265625, 210.3957061767578, 209.0052032470703, 207.6540069580078, 206.3444061279297, 205.07879638671875, 203.860107421875, 202.69119262695312, 201.57550048828125, 200.51690673828125, 199.51939392089844, 198.58810424804688, 197.7281951904297, 196.94610595703125, 196.24899291992188, 195.64559936523438, 195.14590454101562, 194.76229858398438, 194.50970458984375, 194.40660095214844, 194.47610473632812, 194.74630737304688, 195.2487030029297, 196.00819396972656, 196.99989318847656], [399.4949035644531, 393.5523986816406, 388.3168029785156, 383.5361022949219, 379.0788879394531, 374.8691101074219, 370.8581848144531, 367.0132141113281, 363.309814453125, 359.7301025390625, 356.2596130371094, 352.88690185546875, 349.60260009765625, 346.3988037109375, 343.2687072753906, 340.2063903808594, 337.2070007324219, 334.2658996582031, 331.3793029785156, 328.5436096191406, 325.755615234375, 323.01251220703125, 320.3117980957031, 317.6510009765625, 315.02801513671875, 312.4410095214844, 309.88800048828125, 307.3673095703125, 304.8775939941406, 302.4173889160156, 299.98541259765625, 297.5804138183594, 295.2012939453125, 292.84710693359375, 290.51690673828125, 288.2098083496094, 285.92498779296875, 283.6618957519531, 281.4195861816406, 279.19781494140625, 276.99578857421875, 274.8132019042969, 272.6494140625, 270.50421142578125, 268.377197265625, 266.2680969238281, 264.1767883300781, 262.1029052734375, 260.04638671875, 258.0072021484375, 255.98519897460938, 253.98049926757812, 251.9929962158203, 250.0229034423828, 248.07029724121094, 246.1352996826172, 244.21820068359375, 242.31919860839844, 240.4387969970703, 238.5771026611328, 236.73480224609375, 234.91209411621094, 233.1096954345703, 231.3282012939453, 229.5679931640625, 227.8302001953125, 226.11520385742188, 224.42410278320312, 222.75770568847656, 221.11700439453125, 219.50320434570312, 217.91729736328125, 216.360595703125, 214.8345947265625, 213.34080505371094, 211.88070678710938, 210.45620727539062, 209.06910705566406, 207.72169494628906, 206.41619873046875, 205.1551971435547, 203.94149780273438, 202.7781982421875, 201.66879272460938, 200.61729431152344, 199.62789916992188, 198.70579528808594, 197.85670471191406, 197.0872039794922, 196.40530395507812, 195.82020568847656, 195.3433074951172, 194.9886932373047, 194.77450561523438, 194.72439575195312, 194.87130737304688, 195.2631072998047, 195.97520446777344, 197.13760375976562, 199.0]]'"
      ]
     },
     "execution_count": 14,
     "metadata": {},
     "output_type": "execute_result"
    }
   ],
   "source": [
    "import simplejson as json\n",
    "\n",
    "json = json.dumps(head, ignore_nan=True)\n",
    "json"
   ]
  },
  {
   "cell_type": "code",
   "execution_count": 15,
   "id": "df7dfd8ff0308815",
   "metadata": {
    "ExecuteTime": {
     "end_time": "2024-08-18T21:16:17.842925Z",
     "start_time": "2024-08-18T21:16:17.839238Z"
    },
    "collapsed": false,
    "execution": {
     "iopub.execute_input": "2024-08-19T20:02:12.572295Z",
     "iopub.status.busy": "2024-08-19T20:02:12.572187Z",
     "iopub.status.idle": "2024-08-19T20:02:12.574273Z",
     "shell.execute_reply": "2024-08-19T20:02:12.574060Z"
    },
    "papermill": {
     "duration": 0.006251,
     "end_time": "2024-08-19T20:02:12.575116",
     "exception": false,
     "start_time": "2024-08-19T20:02:12.568865",
     "status": "completed"
    },
    "tags": []
   },
   "outputs": [
    {
     "data": {
      "text/plain": [
       "[]"
      ]
     },
     "execution_count": 15,
     "metadata": {},
     "output_type": "execute_result"
    }
   ],
   "source": [
    "engine.read_flow_drawdown(idx=0, layer=0)"
   ]
  },
  {
   "cell_type": "code",
   "execution_count": 16,
   "id": "b233f4066b56c174",
   "metadata": {
    "ExecuteTime": {
     "end_time": "2024-08-18T21:16:17.855349Z",
     "start_time": "2024-08-18T21:16:17.850043Z"
    },
    "collapsed": false,
    "execution": {
     "iopub.execute_input": "2024-08-19T20:02:12.581398Z",
     "iopub.status.busy": "2024-08-19T20:02:12.581293Z",
     "iopub.status.idle": "2024-08-19T20:02:12.584498Z",
     "shell.execute_reply": "2024-08-19T20:02:12.584272Z"
    },
    "papermill": {
     "duration": 0.007221,
     "end_time": "2024-08-19T20:02:12.585248",
     "exception": false,
     "start_time": "2024-08-19T20:02:12.578027",
     "status": "completed"
    },
    "tags": []
   },
   "outputs": [
    {
     "data": {
      "text/plain": [
       "{'STORAGE_IN': 0.0,\n",
       " 'CONSTANT_HEAD_IN': 50141.348,\n",
       " 'TOTAL_IN': 50141.348,\n",
       " 'STORAGE_OUT': -0.0,\n",
       " 'CONSTANT_HEAD_OUT': -50141.348,\n",
       " 'TOTAL_OUT': -50141.348,\n",
       " 'IN-OUT': 0.0,\n",
       " 'PERCENT_DISCREPANCY': 0.0,\n",
       " 'tslen': 365.0}"
      ]
     },
     "execution_count": 16,
     "metadata": {},
     "output_type": "execute_result"
    }
   ],
   "source": [
    "engine.read_flow_budget(idx=0, incremental=False)"
   ]
  },
  {
   "cell_type": "code",
   "execution_count": 17,
   "id": "634709d741f5c252",
   "metadata": {
    "ExecuteTime": {
     "end_time": "2024-08-18T21:16:17.865492Z",
     "start_time": "2024-08-18T21:16:17.861738Z"
    },
    "collapsed": false,
    "execution": {
     "iopub.execute_input": "2024-08-19T20:02:12.591857Z",
     "iopub.status.busy": "2024-08-19T20:02:12.591726Z",
     "iopub.status.idle": "2024-08-19T20:02:12.595130Z",
     "shell.execute_reply": "2024-08-19T20:02:12.594860Z"
    },
    "papermill": {
     "duration": 0.007719,
     "end_time": "2024-08-19T20:02:12.595919",
     "exception": false,
     "start_time": "2024-08-19T20:02:12.588200",
     "status": "completed"
    },
    "tags": []
   },
   "outputs": [
    {
     "data": {
      "text/plain": [
       "{'STORAGE_IN': 0.0,\n",
       " 'CONSTANT_HEAD_IN': 137.3736,\n",
       " 'TOTAL_IN': 137.3736,\n",
       " 'STORAGE_OUT': -0.0,\n",
       " 'CONSTANT_HEAD_OUT': -137.3736,\n",
       " 'TOTAL_OUT': -137.3736,\n",
       " 'IN-OUT': 0.0,\n",
       " 'PERCENT_DISCREPANCY': 0.0,\n",
       " 'tslen': 365.0}"
      ]
     },
     "execution_count": 17,
     "metadata": {},
     "output_type": "execute_result"
    }
   ],
   "source": [
    "engine.read_flow_budget(idx=0, incremental=True)"
   ]
  },
  {
   "cell_type": "code",
   "execution_count": 18,
   "id": "160abd7d290c83f7",
   "metadata": {
    "ExecuteTime": {
     "end_time": "2024-08-18T21:16:17.994905Z",
     "start_time": "2024-08-18T21:16:17.871802Z"
    },
    "collapsed": false,
    "execution": {
     "iopub.execute_input": "2024-08-19T20:02:12.603284Z",
     "iopub.status.busy": "2024-08-19T20:02:12.603140Z",
     "iopub.status.idle": "2024-08-19T20:02:12.672320Z",
     "shell.execute_reply": "2024-08-19T20:02:12.671682Z"
    },
    "papermill": {
     "duration": 0.076025,
     "end_time": "2024-08-19T20:02:12.675271",
     "exception": false,
     "start_time": "2024-08-19T20:02:12.599246",
     "status": "completed"
    },
    "tags": []
   },
   "outputs": [
    {
     "data": {
      "image/png": "[encoded data removed]",
      "text/plain": [
       "<Figure size 640x480 with 2 Axes>"
      ]
     },
     "metadata": {},
     "output_type": "display_data"
    }
   ],
   "source": [
    "import matplotlib.pyplot as plt\n",
    "\n",
    "heads = engine.read_flow_head(idx=0, layer=0)\n",
    "plt.subplot(2, 1, 1)\n",
    "plt.imshow(heads, cmap='jet_r')\n",
    "plt.colorbar()\n",
    "plt.show()"
   ]
  }
 ],
 "metadata": {
  "kernelspec": {
   "display_name": "Python 3",
   "language": "python",
   "name": "python3"
  },
  "language_info": {
   "codemirror_mode": {
    "name": "ipython",
    "version": 3
   },
   "file_extension": ".py",
   "mimetype": "text/x-python",
   "name": "python",
   "nbconvert_exporter": "python",
   "pygments_lexer": "ipython3",
   "version": "3.12.2"
  },
  "papermill": {
   "default_parameters": {},
   "duration": 4.728458,
   "end_time": "2024-08-19T20:02:13.106186",
   "environment_variables": {},
   "exception": null,
   "input_path": "./notebooks/Test_ConstantHeadBoundary.ipynb",
   "output_path": "./notebooks/Test_ConstantHeadBoundary.ipynb",
   "parameters": {},
   "start_time": "2024-08-19T20:02:08.377728",
   "version": "2.6.0"
  }
 },
 "nbformat": 4,
 "nbformat_minor": 5
}