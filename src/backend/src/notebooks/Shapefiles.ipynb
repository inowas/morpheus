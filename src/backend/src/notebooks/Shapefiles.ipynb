{
 "cells": [
  {
   "cell_type": "code",
   "outputs": [
    {
     "name": "stdout",
     "output_type": "stream",
     "text": [
      "     id                                           geometry\n",
      "0  None  POLYGON ((665778.471 5668925.273, 666433.078 5...\n"
     ]
    }
   ],
   "source": [
    "import geopandas as gpd\n",
    "import os\n",
    "\n",
    "# Read the shapefile\n",
    "gdf = gpd.read_file(os.path.join('assets', 'shapefiles', 'model_area.shp'))\n",
    "\n",
    "# Print the first few rows of the GeoDataFrame\n",
    "print(gdf.head())"
   ],
   "metadata": {
    "collapsed": false,
    "ExecuteTime": {
     "end_time": "2024-01-24T11:58:14.176225Z",
     "start_time": "2024-01-24T11:58:11.176394Z"
    }
   },
   "id": "d124aedbafdcc040",
   "execution_count": 1
  },
  {
   "cell_type": "code",
   "execution_count": null,
   "outputs": [],
   "source": [],
   "metadata": {
    "collapsed": false
   },
   "id": "5fc42d0083445cdf"
  }
 ],
 "metadata": {
  "kernelspec": {
   "display_name": "Python 3",
   "language": "python",
   "name": "python3"
  },
  "language_info": {
   "codemirror_mode": {
    "name": "ipython",
    "version": 2
   },
   "file_extension": ".py",
   "mimetype": "text/x-python",
   "name": "python",
   "nbconvert_exporter": "python",
   "pygments_lexer": "ipython2",
   "version": "2.7.6"
  }
 },
 "nbformat": 4,
 "nbformat_minor": 5
}
