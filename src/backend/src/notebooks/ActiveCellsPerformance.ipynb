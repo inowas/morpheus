{
 "cells": [
  {
   "cell_type": "code",
   "id": "ba6761fae9d5e5cb",
   "metadata": {
    "collapsed": false,
    "execution": {
     "iopub.execute_input": "2024-06-20T19:03:21.105291Z",
     "iopub.status.busy": "2024-06-20T19:03:21.104771Z",
     "iopub.status.idle": "2024-06-20T19:03:21.109950Z",
     "shell.execute_reply": "2024-06-20T19:03:21.109154Z"
    },
    "papermill": {
     "duration": 0.014763,
     "end_time": "2024-06-20T19:03:21.112115",
     "exception": false,
     "start_time": "2024-06-20T19:03:21.097352",
     "status": "completed"
    },
    "tags": [],
    "ExecuteTime": {
     "end_time": "2024-08-15T11:44:09.964095Z",
     "start_time": "2024-08-15T11:44:09.888357Z"
    }
   },
   "source": [
    "import sys\n",
    "\n",
    "from morpheus.project.types.geometry.MultiPolygon import MultiPolygon\n",
    "\n",
    "sys.path.insert(0, '..')\n",
    "\n",
    "#!{sys.executable} -m pip install folium\n",
    "#!{sys.executable} -m pip install openapi_core\n"
   ],
   "outputs": [],
   "execution_count": 1
  },
  {
   "cell_type": "code",
   "id": "2f69504ab35487aa",
   "metadata": {
    "collapsed": false,
    "execution": {
     "iopub.execute_input": "2024-06-20T19:03:21.122814Z",
     "iopub.status.busy": "2024-06-20T19:03:21.122485Z",
     "iopub.status.idle": "2024-06-20T19:03:21.398358Z",
     "shell.execute_reply": "2024-06-20T19:03:21.392261Z"
    },
    "papermill": {
     "duration": 0.2898,
     "end_time": "2024-06-20T19:03:21.406677",
     "exception": false,
     "start_time": "2024-06-20T19:03:21.116877",
     "status": "completed"
    },
    "tags": [],
    "ExecuteTime": {
     "end_time": "2024-08-15T11:44:10.070798Z",
     "start_time": "2024-08-15T11:44:09.974737Z"
    }
   },
   "source": [
    "from morpheus.project.types.discretization.spatial import Rotation, LengthUnit, Grid\n",
    "from morpheus.project.types.geometry import Polygon\n",
    "\n",
    "polygon = Polygon(\n",
    "  type='Polygon',\n",
    "  coordinates=[[\n",
    "    (13.922514437551428, 50.964720483303836),\n",
    "    (13.925250781947113, 50.965228748412386),\n",
    "    (13.925036413951403, 50.96623732041704),\n",
    "    (13.92222441026388, 50.96609040370362),\n",
    "    (13.922514437551428, 50.964720483303836)\n",
    "  ]]\n",
    ")\n",
    "\n",
    "rotation = Rotation(20)\n",
    "length_unit = LengthUnit.meters()\n",
    "\n",
    "grid = Grid.cartesian_from_polygon(\n",
    "  polygon=polygon,\n",
    "  n_rows=1000,\n",
    "  n_cols=1000,\n",
    "  rotation=rotation,\n",
    ")\n",
    "polygon"
   ],
   "outputs": [
    {
     "data": {
      "text/plain": [
       "Polygon(coordinates=[[(13.922514437551428, 50.964720483303836), (13.925250781947113, 50.965228748412386), (13.925036413951403, 50.96623732041704), (13.92222441026388, 50.96609040370362), (13.922514437551428, 50.964720483303836)]], type='Polygon')"
      ]
     },
     "execution_count": 2,
     "metadata": {},
     "output_type": "execute_result"
    }
   ],
   "execution_count": 2
  },
  {
   "metadata": {},
   "cell_type": "markdown",
   "source": "## Performance of ActiveCells Calculation with a LineString ",
   "id": "6f25db27f8efb585"
  },
  {
   "metadata": {
    "ExecuteTime": {
     "end_time": "2024-08-15T11:44:10.177735Z",
     "start_time": "2024-08-15T11:44:10.174172Z"
    }
   },
   "cell_type": "code",
   "source": [
    "from morpheus.project.types.geometry import LineString\n",
    "\n",
    "linestring_within = LineString(\n",
    "  type='LineString',\n",
    "  coordinates=[\n",
    "    (13.923, 50.965),\n",
    "    (13.924, 50.965),\n",
    "  ]\n",
    ")"
   ],
   "id": "d8718f52ff987c16",
   "outputs": [],
   "execution_count": 3
  },
  {
   "metadata": {
    "ExecuteTime": {
     "end_time": "2024-08-15T11:44:10.379027Z",
     "start_time": "2024-08-15T11:44:10.188537Z"
    }
   },
   "cell_type": "code",
   "source": [
    "%%time\n",
    "from morpheus.project.types.discretization.spatial import ActiveCells\n",
    "\n",
    "ac = ActiveCells.from_linestring(linestring=linestring_within, grid=grid)\n",
    "len(ac)"
   ],
   "id": "27dd42faa8f324b8",
   "outputs": [
    {
     "name": "stdout",
     "output_type": "stream",
     "text": [
      "CPU times: user 244 ms, sys: 3.62 ms, total: 247 ms\n",
      "Wall time: 188 ms\n"
     ]
    },
    {
     "data": {
      "text/plain": [
       "295"
      ]
     },
     "execution_count": 4,
     "metadata": {},
     "output_type": "execute_result"
    }
   ],
   "execution_count": 4
  },
  {
   "metadata": {},
   "cell_type": "markdown",
   "source": "## Performance of ActiveCells Calculation with a Polygon",
   "id": "e72e356030e0f486"
  },
  {
   "metadata": {
    "ExecuteTime": {
     "end_time": "2024-08-15T11:44:10.386103Z",
     "start_time": "2024-08-15T11:44:10.384061Z"
    }
   },
   "cell_type": "code",
   "source": [
    "from morpheus.project.types.geometry import Polygon\n",
    "\n",
    "polygon_within = Polygon(\n",
    "  type='Polygon',\n",
    "  coordinates=[[\n",
    "    (13.923, 50.965),\n",
    "    (13.924, 50.9655),\n",
    "    (13.925, 50.965),\n",
    "    (13.925, 50.966),\n",
    "\n",
    "    (13.923, 50.966),\n",
    "    (13.923, 50.965),\n",
    "  ]]\n",
    ")"
   ],
   "id": "b56b501423aedd93",
   "outputs": [],
   "execution_count": 5
  },
  {
   "metadata": {
    "ExecuteTime": {
     "end_time": "2024-08-15T11:44:10.687419Z",
     "start_time": "2024-08-15T11:44:10.392080Z"
    }
   },
   "cell_type": "code",
   "source": [
    "import folium\n",
    "\n",
    "m = folium.Map(location=[50.9655, 13.9235], zoom_start=15)\n",
    "folium.GeoJson(polygon.as_geojson()).add_to(m)\n",
    "folium.GeoJson(polygon_within.as_geojson()).add_to(m)\n",
    "m.fit_bounds(m.get_bounds())\n",
    "m\n"
   ],
   "id": "46ab8b892765cfd2",
   "outputs": [
    {
     "data": {
      "text/plain": [
       "<folium.folium.Map at 0x11d482f30>"
      ],
      "text/html": [
       "<div style=\"width:100%;\"><div style=\"position:relative;width:100%;height:0;padding-bottom:60%;\"><span style=\"color:#565656\">Make this Notebook Trusted to load map: File -> Trust Notebook</span><iframe srcdoc=\"&lt;!DOCTYPE html&gt;\n",
       "&lt;html&gt;\n",
       "&lt;head&gt;\n",
       "    \n",
       "    &lt;meta http-equiv=&quot;content-type&quot; content=&quot;text/html; charset=UTF-8&quot; /&gt;\n",
       "    \n",
       "        &lt;script&gt;\n",
       "            L_NO_TOUCH = false;\n",
       "            L_DISABLE_3D = false;\n",
       "        &lt;/script&gt;\n",
       "    \n",
       "    &lt;style&gt;html, body {width: 100%;height: 100%;margin: 0;padding: 0;}&lt;/style&gt;\n",
       "    &lt;style&gt;#map {position:absolute;top:0;bottom:0;right:0;left:0;}&lt;/style&gt;\n",
       "    &lt;script src=&quot;https://cdn.jsdelivr.net/npm/leaflet@1.9.3/dist/leaflet.js&quot;&gt;&lt;/script&gt;\n",
       "    &lt;script src=&quot;https://code.jquery.com/jquery-3.7.1.min.js&quot;&gt;&lt;/script&gt;\n",
       "    &lt;script src=&quot;https://cdn.jsdelivr.net/npm/bootstrap@5.2.2/dist/js/bootstrap.bundle.min.js&quot;&gt;&lt;/script&gt;\n",
       "    &lt;script src=&quot;https://cdnjs.cloudflare.com/ajax/libs/Leaflet.awesome-markers/2.0.2/leaflet.awesome-markers.js&quot;&gt;&lt;/script&gt;\n",
       "    &lt;link rel=&quot;stylesheet&quot; href=&quot;https://cdn.jsdelivr.net/npm/leaflet@1.9.3/dist/leaflet.css&quot;/&gt;\n",
       "    &lt;link rel=&quot;stylesheet&quot; href=&quot;https://cdn.jsdelivr.net/npm/bootstrap@5.2.2/dist/css/bootstrap.min.css&quot;/&gt;\n",
       "    &lt;link rel=&quot;stylesheet&quot; href=&quot;https://netdna.bootstrapcdn.com/bootstrap/3.0.0/css/bootstrap.min.css&quot;/&gt;\n",
       "    &lt;link rel=&quot;stylesheet&quot; href=&quot;https://cdn.jsdelivr.net/npm/@fortawesome/fontawesome-free@6.2.0/css/all.min.css&quot;/&gt;\n",
       "    &lt;link rel=&quot;stylesheet&quot; href=&quot;https://cdnjs.cloudflare.com/ajax/libs/Leaflet.awesome-markers/2.0.2/leaflet.awesome-markers.css&quot;/&gt;\n",
       "    &lt;link rel=&quot;stylesheet&quot; href=&quot;https://cdn.jsdelivr.net/gh/python-visualization/folium/folium/templates/leaflet.awesome.rotate.min.css&quot;/&gt;\n",
       "    \n",
       "            &lt;meta name=&quot;viewport&quot; content=&quot;width=device-width,\n",
       "                initial-scale=1.0, maximum-scale=1.0, user-scalable=no&quot; /&gt;\n",
       "            &lt;style&gt;\n",
       "                #map_e7b50327d105dba44ddd969fec20e85d {\n",
       "                    position: relative;\n",
       "                    width: 100.0%;\n",
       "                    height: 100.0%;\n",
       "                    left: 0.0%;\n",
       "                    top: 0.0%;\n",
       "                }\n",
       "                .leaflet-container { font-size: 1rem; }\n",
       "            &lt;/style&gt;\n",
       "        \n",
       "&lt;/head&gt;\n",
       "&lt;body&gt;\n",
       "    \n",
       "    \n",
       "            &lt;div class=&quot;folium-map&quot; id=&quot;map_e7b50327d105dba44ddd969fec20e85d&quot; &gt;&lt;/div&gt;\n",
       "        \n",
       "&lt;/body&gt;\n",
       "&lt;script&gt;\n",
       "    \n",
       "    \n",
       "            var map_e7b50327d105dba44ddd969fec20e85d = L.map(\n",
       "                &quot;map_e7b50327d105dba44ddd969fec20e85d&quot;,\n",
       "                {\n",
       "                    center: [50.9655, 13.9235],\n",
       "                    crs: L.CRS.EPSG3857,\n",
       "                    zoom: 15,\n",
       "                    zoomControl: true,\n",
       "                    preferCanvas: false,\n",
       "                }\n",
       "            );\n",
       "\n",
       "            \n",
       "\n",
       "        \n",
       "    \n",
       "            var tile_layer_ccc4dc60ce782d0edfcf4a95d9a4bc87 = L.tileLayer(\n",
       "                &quot;https://tile.openstreetmap.org/{z}/{x}/{y}.png&quot;,\n",
       "                {&quot;attribution&quot;: &quot;\\u0026copy; \\u003ca href=\\&quot;https://www.openstreetmap.org/copyright\\&quot;\\u003eOpenStreetMap\\u003c/a\\u003e contributors&quot;, &quot;detectRetina&quot;: false, &quot;maxNativeZoom&quot;: 19, &quot;maxZoom&quot;: 19, &quot;minZoom&quot;: 0, &quot;noWrap&quot;: false, &quot;opacity&quot;: 1, &quot;subdomains&quot;: &quot;abc&quot;, &quot;tms&quot;: false}\n",
       "            );\n",
       "        \n",
       "    \n",
       "            tile_layer_ccc4dc60ce782d0edfcf4a95d9a4bc87.addTo(map_e7b50327d105dba44ddd969fec20e85d);\n",
       "        \n",
       "    \n",
       "\n",
       "        function geo_json_e97c9e4e329507632acb45330b96839c_onEachFeature(feature, layer) {\n",
       "            layer.on({\n",
       "            });\n",
       "        };\n",
       "        var geo_json_e97c9e4e329507632acb45330b96839c = L.geoJson(null, {\n",
       "                onEachFeature: geo_json_e97c9e4e329507632acb45330b96839c_onEachFeature,\n",
       "            \n",
       "        });\n",
       "\n",
       "        function geo_json_e97c9e4e329507632acb45330b96839c_add (data) {\n",
       "            geo_json_e97c9e4e329507632acb45330b96839c\n",
       "                .addData(data);\n",
       "        }\n",
       "            geo_json_e97c9e4e329507632acb45330b96839c_add({&quot;coordinates&quot;: [[[13.922514437551428, 50.964720483303836], [13.925250781947113, 50.965228748412386], [13.925036413951403, 50.96623732041704], [13.92222441026388, 50.96609040370362], [13.922514437551428, 50.964720483303836]]], &quot;type&quot;: &quot;Polygon&quot;});\n",
       "\n",
       "        \n",
       "    \n",
       "            geo_json_e97c9e4e329507632acb45330b96839c.addTo(map_e7b50327d105dba44ddd969fec20e85d);\n",
       "        \n",
       "    \n",
       "\n",
       "        function geo_json_94ac5648c6ce96d5e1c7317eb5acaa2b_onEachFeature(feature, layer) {\n",
       "            layer.on({\n",
       "            });\n",
       "        };\n",
       "        var geo_json_94ac5648c6ce96d5e1c7317eb5acaa2b = L.geoJson(null, {\n",
       "                onEachFeature: geo_json_94ac5648c6ce96d5e1c7317eb5acaa2b_onEachFeature,\n",
       "            \n",
       "        });\n",
       "\n",
       "        function geo_json_94ac5648c6ce96d5e1c7317eb5acaa2b_add (data) {\n",
       "            geo_json_94ac5648c6ce96d5e1c7317eb5acaa2b\n",
       "                .addData(data);\n",
       "        }\n",
       "            geo_json_94ac5648c6ce96d5e1c7317eb5acaa2b_add({&quot;coordinates&quot;: [[[13.923, 50.965], [13.924, 50.9655], [13.925, 50.965], [13.925, 50.966], [13.923, 50.966], [13.923, 50.965]]], &quot;type&quot;: &quot;Polygon&quot;});\n",
       "\n",
       "        \n",
       "    \n",
       "            geo_json_94ac5648c6ce96d5e1c7317eb5acaa2b.addTo(map_e7b50327d105dba44ddd969fec20e85d);\n",
       "        \n",
       "    \n",
       "            map_e7b50327d105dba44ddd969fec20e85d.fitBounds(\n",
       "                [[50.964720483303836, 13.92222441026388], [50.96623732041704, 13.925250781947113]],\n",
       "                {}\n",
       "            );\n",
       "        \n",
       "&lt;/script&gt;\n",
       "&lt;/html&gt;\" style=\"position:absolute;width:100%;height:100%;left:0;top:0;border:none !important;\" allowfullscreen webkitallowfullscreen mozallowfullscreen></iframe></div></div>"
      ]
     },
     "execution_count": 6,
     "metadata": {},
     "output_type": "execute_result"
    }
   ],
   "execution_count": 6
  },
  {
   "metadata": {
    "ExecuteTime": {
     "end_time": "2024-08-15T11:44:11.376581Z",
     "start_time": "2024-08-15T11:44:10.695216Z"
    }
   },
   "cell_type": "code",
   "source": [
    "%%time\n",
    "active_cells = ActiveCells.from_polygon(polygon=polygon_within, grid=grid)\n",
    "len(active_cells)"
   ],
   "id": "11ee021a96ce0b6f",
   "outputs": [
    {
     "name": "stdout",
     "output_type": "stream",
     "text": [
      "CPU times: user 622 ms, sys: 11.1 ms, total: 634 ms\n",
      "Wall time: 677 ms\n"
     ]
    },
    {
     "data": {
      "text/plain": [
       "318046"
      ]
     },
     "execution_count": 7,
     "metadata": {},
     "output_type": "execute_result"
    }
   ],
   "execution_count": 7
  },
  {
   "metadata": {},
   "cell_type": "markdown",
   "source": "## Performance of ActiveCells Calculation with a MultiPolygon",
   "id": "8f4964f3ce9b4594"
  },
  {
   "metadata": {
    "ExecuteTime": {
     "end_time": "2024-08-15T11:44:12.697225Z",
     "start_time": "2024-08-15T11:44:11.529059Z"
    }
   },
   "cell_type": "code",
   "source": [
    "multi_polygon_within = MultiPolygon(\n",
    "  type='MultiPolygon',\n",
    "  coordinates=[\n",
    "    [[\n",
    "      (13.923, 50.965),\n",
    "      (13.924, 50.9655),\n",
    "      (13.925, 50.965),\n",
    "      (13.925, 50.966),\n",
    "      (13.923, 50.966),\n",
    "      (13.923, 50.965),\n",
    "    ]],\n",
    "    [[\n",
    "      (13.9235, 50.9655),\n",
    "      (13.924, 50.966),\n",
    "      (13.9245, 50.9655),\n",
    "      (13.9235, 50.9655),\n",
    "    ]]\n",
    "  ]\n",
    ")\n",
    "\n",
    "active_cells = ActiveCells.from_multipolygon(multipolygon=multi_polygon_within, grid=grid)"
   ],
   "id": "5856c60ccc90bdd3",
   "outputs": [],
   "execution_count": 8
  },
  {
   "metadata": {
    "ExecuteTime": {
     "end_time": "2024-08-15T11:44:12.705765Z",
     "start_time": "2024-08-15T11:44:12.704070Z"
    }
   },
   "cell_type": "code",
   "source": "",
   "id": "fc0257412df304ee",
   "outputs": [],
   "execution_count": null
  }
 ],
 "metadata": {
  "kernelspec": {
   "display_name": "Python 3",
   "language": "python",
   "name": "python3"
  },
  "language_info": {
   "codemirror_mode": {
    "name": "ipython",
    "version": 3
   },
   "file_extension": ".py",
   "mimetype": "text/x-python",
   "name": "python",
   "nbconvert_exporter": "python",
   "pygments_lexer": "ipython3",
   "version": "3.12.2"
  },
  "papermill": {
   "default_parameters": {},
   "duration": 2.538483,
   "end_time": "2024-06-20T19:03:22.701292",
   "environment_variables": {},
   "exception": null,
   "input_path": "./notebooks/SpatialDiscretization.ipynb",
   "output_path": "./notebooks/SpatialDiscretization.ipynb",
   "parameters": {},
   "start_time": "2024-06-20T19:03:20.162809",
   "version": "2.6.0"
  }
 },
 "nbformat": 4,
 "nbformat_minor": 5
}
