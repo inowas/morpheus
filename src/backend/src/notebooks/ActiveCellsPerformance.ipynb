{
 "cells": [
  {
   "cell_type": "code",
   "id": "ba6761fae9d5e5cb",
   "metadata": {
    "collapsed": false,
    "execution": {
     "iopub.execute_input": "2024-06-20T19:03:21.105291Z",
     "iopub.status.busy": "2024-06-20T19:03:21.104771Z",
     "iopub.status.idle": "2024-06-20T19:03:21.109950Z",
     "shell.execute_reply": "2024-06-20T19:03:21.109154Z"
    },
    "papermill": {
     "duration": 0.014763,
     "end_time": "2024-06-20T19:03:21.112115",
     "exception": false,
     "start_time": "2024-06-20T19:03:21.097352",
     "status": "completed"
    },
    "tags": [],
    "ExecuteTime": {
     "end_time": "2024-07-27T20:15:31.440127Z",
     "start_time": "2024-07-27T20:15:31.433180Z"
    }
   },
   "source": [
    "import sys\n",
    "\n",
    "sys.path.insert(0, '..')\n",
    "\n",
    "#!{sys.executable} -m pip install folium\n",
    "#!{sys.executable} -m pip install openapi_core\n"
   ],
   "outputs": [],
   "execution_count": 1
  },
  {
   "cell_type": "code",
   "id": "2f69504ab35487aa",
   "metadata": {
    "collapsed": false,
    "execution": {
     "iopub.execute_input": "2024-06-20T19:03:21.122814Z",
     "iopub.status.busy": "2024-06-20T19:03:21.122485Z",
     "iopub.status.idle": "2024-06-20T19:03:21.398358Z",
     "shell.execute_reply": "2024-06-20T19:03:21.392261Z"
    },
    "papermill": {
     "duration": 0.2898,
     "end_time": "2024-06-20T19:03:21.406677",
     "exception": false,
     "start_time": "2024-06-20T19:03:21.116877",
     "status": "completed"
    },
    "tags": [],
    "ExecuteTime": {
     "end_time": "2024-07-27T20:15:31.640372Z",
     "start_time": "2024-07-27T20:15:31.443313Z"
    }
   },
   "source": [
    "from morpheus.project.types.discretization.spatial import Rotation, LengthUnit, Grid\n",
    "from morpheus.project.types.geometry import Polygon\n",
    "\n",
    "polygon = Polygon(\n",
    "  type='Polygon',\n",
    "  coordinates=[[\n",
    "    (13.922514437551428, 50.964720483303836),\n",
    "    (13.925250781947113, 50.965228748412386),\n",
    "    (13.925036413951403, 50.96623732041704),\n",
    "    (13.92222441026388, 50.96609040370362),\n",
    "    (13.922514437551428, 50.964720483303836)\n",
    "  ]]\n",
    ")\n",
    "\n",
    "rotation = Rotation(20)\n",
    "length_unit = LengthUnit.meters()\n",
    "\n",
    "grid = Grid.cartesian_from_polygon(\n",
    "  polygon=polygon,\n",
    "  n_rows=500,\n",
    "  n_cols=500,\n",
    "  rotation=rotation,\n",
    ")\n",
    "polygon"
   ],
   "outputs": [
    {
     "data": {
      "text/plain": [
       "Polygon(coordinates=[[(13.922514437551428, 50.964720483303836), (13.925250781947113, 50.965228748412386), (13.925036413951403, 50.96623732041704), (13.92222441026388, 50.96609040370362), (13.922514437551428, 50.964720483303836)]], type='Polygon')"
      ]
     },
     "execution_count": 2,
     "metadata": {},
     "output_type": "execute_result"
    }
   ],
   "execution_count": 2
  },
  {
   "cell_type": "code",
   "id": "7317705a7f5e8f16",
   "metadata": {
    "papermill": {
     "duration": 0.007268,
     "end_time": "2024-06-20T19:03:22.363820",
     "exception": false,
     "start_time": "2024-06-20T19:03:22.356552",
     "status": "completed"
    },
    "tags": [],
    "ExecuteTime": {
     "end_time": "2024-07-27T20:15:31.647971Z",
     "start_time": "2024-07-27T20:15:31.644122Z"
    }
   },
   "source": [
    "from morpheus.project.types.geometry import Point\n",
    "from morpheus.project.types.discretization.spatial import ActiveCells\n",
    "\n",
    "point_within = Point.from_wgs84(13.923, 50.965)\n"
   ],
   "outputs": [],
   "execution_count": 3
  },
  {
   "metadata": {
    "ExecuteTime": {
     "end_time": "2024-07-27T20:15:31.780186Z",
     "start_time": "2024-07-27T20:15:31.650419Z"
    }
   },
   "cell_type": "code",
   "source": [
    "%%time\n",
    "affected_cells = ActiveCells.from_point(point=point_within, grid=grid)\n",
    "affected_cells"
   ],
   "id": "42cfb139335d4885",
   "outputs": [
    {
     "name": "stdout",
     "output_type": "stream",
     "text": [
      "CPU times: user 447 ms, sys: 146 ms, total: 593 ms\n",
      "Wall time: 124 ms\n"
     ]
    },
    {
     "data": {
      "text/plain": [
       "ActiveCells(shape=(500, 500), data=[ActiveCell(col=95, row=407)])"
      ]
     },
     "execution_count": 4,
     "metadata": {},
     "output_type": "execute_result"
    }
   ],
   "execution_count": 4
  },
  {
   "metadata": {
    "ExecuteTime": {
     "end_time": "2024-07-27T20:15:31.786696Z",
     "start_time": "2024-07-27T20:15:31.783790Z"
    }
   },
   "cell_type": "code",
   "source": [
    "from morpheus.project.types.geometry import LineString\n",
    "\n",
    "linestring_within = LineString(\n",
    "  type='LineString',\n",
    "  coordinates=[\n",
    "    (13.923, 50.965),\n",
    "    (13.924, 50.965),\n",
    "  ]\n",
    ")"
   ],
   "id": "d8718f52ff987c16",
   "outputs": [],
   "execution_count": 5
  },
  {
   "metadata": {
    "ExecuteTime": {
     "end_time": "2024-07-27T20:15:42.813487Z",
     "start_time": "2024-07-27T20:15:31.788170Z"
    }
   },
   "cell_type": "code",
   "source": [
    "%%time\n",
    "affected_cells = ActiveCells.from_linestring(linestring=linestring_within, grid=grid)\n",
    "len(affected_cells)"
   ],
   "id": "27dd42faa8f324b8",
   "outputs": [
    {
     "name": "stdout",
     "output_type": "stream",
     "text": [
      "CPU times: user 10.6 s, sys: 109 ms, total: 10.7 s\n",
      "Wall time: 11 s\n"
     ]
    },
    {
     "data": {
      "text/plain": [
       "222"
      ]
     },
     "execution_count": 6,
     "metadata": {},
     "output_type": "execute_result"
    }
   ],
   "execution_count": 6
  },
  {
   "metadata": {},
   "cell_type": "code",
   "source": "",
   "id": "b563d86c1945a774",
   "outputs": [],
   "execution_count": null
  }
 ],
 "metadata": {
  "kernelspec": {
   "display_name": "Python 3",
   "language": "python",
   "name": "python3"
  },
  "language_info": {
   "codemirror_mode": {
    "name": "ipython",
    "version": 3
   },
   "file_extension": ".py",
   "mimetype": "text/x-python",
   "name": "python",
   "nbconvert_exporter": "python",
   "pygments_lexer": "ipython3",
   "version": "3.12.2"
  },
  "papermill": {
   "default_parameters": {},
   "duration": 2.538483,
   "end_time": "2024-06-20T19:03:22.701292",
   "environment_variables": {},
   "exception": null,
   "input_path": "./notebooks/SpatialDiscretization.ipynb",
   "output_path": "./notebooks/SpatialDiscretization.ipynb",
   "parameters": {},
   "start_time": "2024-06-20T19:03:20.162809",
   "version": "2.6.0"
  }
 },
 "nbformat": 4,
 "nbformat_minor": 5
}
